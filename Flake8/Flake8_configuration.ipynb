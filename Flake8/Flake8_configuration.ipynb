{
 "cells": [
  {
   "cell_type": "markdown",
   "id": "d072f09c",
   "metadata": {},
   "source": [
    "### Static Analyzer Configuration\n",
    "\n",
    "We used the Flake8 static analyzer to establish a file-level baseline for bug detection. To ensure a fair comparison with our machine learning models, Flake8 was configured to the best of our ability to detect **only bugs** and exclude stylistic or formatting warnings. This was achieved by specifying a restricted set of error codes focused on syntax and runtime-related issues:\n",
    "\n",
    "flake8 --select=E9,F402,F405,F406,F407,F501,F502,F503,F505,F506,F507,F508,F509,F521,F524,F525,F621,F622,F633,F701,F702,F704,F706,F707,F821,F822,F823,F831,F901\n",
    "\n",
    "These error messages we included are most fatal errors, F errors that are excluded include F723 which detects if there is a syntax error in commented code. In addition to F errors we added E9 to ensure syntax errors are also caught.\n",
    "\n",
    "These error codes correspond to known Python errors such as undefined names, import errors, and syntax problems, aligning Flake8’s behavior with our goal of identifying functional bugs rather than code style violations.\n",
    "\n",
    "The cell below demonstrates how Flake8 was configured. Note, however, that it does **not** include functionality for merging notebook cells into complete Python files that is included in 'cell_level_config.ipynb' and 'file_level_config.ipynb'."
   ]
  },
  {
   "cell_type": "code",
   "execution_count": null,
   "id": "ba734b33",
   "metadata": {},
   "outputs": [
    {
     "name": "stdout",
     "output_type": "stream",
     "text": [
      "Static analyzer flagged the file as buggy.\n",
      "C:\\Users\\otten\\AppData\\Local\\Temp\\tmp_xzqg0ly.py:6:2: E999 IndentationError: expected an indented block after function definition on line 5\n",
      "\n"
     ]
    }
   ],
   "source": [
    "import subprocess\n",
    "import os\n",
    "import tempfile\n",
    "\n",
    "\n",
    "# Path of file to analyze\n",
    "file_path = \"G:\\\\Research\\\\text.py\"\n",
    "with open(file_path, 'r', encoding='utf-8') as f:\n",
    "    code = f.read()\n",
    "\n",
    "\n",
    "# run static analysis\n",
    "with tempfile.NamedTemporaryFile(mode=\"w\", suffix=\".py\", encoding=\"utf-8\", delete=False) as tmp_file:\n",
    "    tmp_file.write(code)\n",
    "    tmp_filename = tmp_file.name\n",
    "\n",
    "try:\n",
    "    result = subprocess.run(\n",
    "        [\n",
    "            \"flake8\",\n",
    "            \"--select=E9,F402,F405,F406,F407,F501,F502,F503,F505,F506,F507,F508,F509,F521,F524,F525,F621,F622,F633,F701,F702,F704,F706,F707,F821,F822,F823,F831,F901\",\n",
    "            tmp_filename\n",
    "        ],\n",
    "        capture_output=True,\n",
    "        text=True,\n",
    "        timeout=10\n",
    "    )\n",
    "\n",
    "    is_buggy = 0 if result.returncode == 0 else 1\n",
    "except subprocess.TimeoutExpired:\n",
    "    print(\"Static analysis timed out.\")\n",
    "    os.remove(tmp_filename)\n",
    "    exit()\n",
    "\n",
    "os.remove(tmp_filename)\n",
    "\n",
    "# print output \n",
    "if is_buggy:\n",
    "    print(\"Static analyzer flagged the file as buggy.\")\n",
    "    print(result.stdout)\n",
    "else:\n",
    "    print(\"Static analyzer found no issues.\")\n",
    "\n",
    "\n"
   ]
  }
 ],
 "metadata": {
  "kernelspec": {
   "display_name": "Python 3",
   "language": "python",
   "name": "python3"
  },
  "language_info": {
   "codemirror_mode": {
    "name": "ipython",
    "version": 3
   },
   "file_extension": ".py",
   "mimetype": "text/x-python",
   "name": "python",
   "nbconvert_exporter": "python",
   "pygments_lexer": "ipython3",
   "version": "3.12.6"
  }
 },
 "nbformat": 4,
 "nbformat_minor": 5
}
