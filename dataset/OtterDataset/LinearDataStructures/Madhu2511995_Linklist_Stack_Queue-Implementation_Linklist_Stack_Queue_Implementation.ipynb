{
  "cells": [
    {
      "cell_type": "markdown",
      "metadata": {
        "id": "S18pwoBS3TSP"
      },
      "source": [
        "#**Link List**"
      ]
    },
    {
      "cell_type": "markdown",
      "metadata": {
        "id": "043OgLIM_l_I"
      },
      "source": [
        "## **Single Link List Implementation**"
      ]
    },
    {
      "cell_type": "code",
      "execution_count": null,
      "metadata": {
        "colab": {
          "base_uri": "https://localhost:8080/"
        },
        "id": "Ygo9eiJyJZva",
        "outputId": "15bf04fd-46b9-4e92-992b-56b39575e685"
      },
      "outputs": [
        {
          "name": "stdout",
          "output_type": "stream",
          "text": [
            "10 30 20 \n",
            "10\n",
            "30\n",
            "20\n",
            "\n",
            "30 \n"
          ]
        }
      ],
      "source": [
        "class Node:\n",
        "  def __init__(self,item=None,next=None):\n",
        "    self.item=item\n",
        "    self.next=next\n",
        "\n",
        "class Single_link_list:\n",
        "  def __init__(self,start=None):\n",
        "    self.start=start\n",
        "  # Check list is empty\n",
        "  def is_Empty(self):\n",
        "    return self.start==None\n",
        "\n",
        "  def insert_at_start(self,data):\n",
        "    n=Node(data,self.start)\n",
        "    self.start=n\n",
        "\n",
        "  def insert_at_last(self,data):\n",
        "    n=Node(data,None)\n",
        "    temp=self.start\n",
        "    if not self.is_Empty():\n",
        "      while temp.next is not None:\n",
        "        temp=temp.next\n",
        "      temp.next=n\n",
        "    else:\n",
        "      n=self.start\n",
        "\n",
        "  def search(self,data):\n",
        "    temp=self.start\n",
        "    while temp is not None:\n",
        "      if temp.item==data:\n",
        "        return temp\n",
        "      else:\n",
        "        temp=next.temp\n",
        "    return None\n",
        "\n",
        "  def insert_after(self,temp,data):\n",
        "    if temp is not None:\n",
        "      n=Node(data,temp.next)\n",
        "      temp.next=n\n",
        "\n",
        "  def print_list(self):\n",
        "    temp=self.start\n",
        "    while temp is not None:\n",
        "      print(temp.item,end=' ')\n",
        "      temp=temp.next\n",
        "\n",
        "  def delete_first(self):\n",
        "    if self.start is not None:\n",
        "      self.start=self.start.next\n",
        "\n",
        "  def delete_last(self):\n",
        "    if self.start is None:\n",
        "      pass\n",
        "    elif self.start.next is None:\n",
        "      self.start=None\n",
        "    else:\n",
        "      temp=self.start\n",
        "      while temp.next.next is not None:\n",
        "        temp=temp.next\n",
        "      temp.next=None\n",
        "  def delete_item(self,data):\n",
        "    if self.start is None:\n",
        "      pass\n",
        "    elif self.start.next is None:\n",
        "      if self.start.item==data:\n",
        "        self.start=None\n",
        "    else:\n",
        "      temp=self.start\n",
        "      if temp.item==data:\n",
        "        self.start=temp.next\n",
        "      else:\n",
        "        while temp.next is not None:\n",
        "          if temp.next.item==data:\n",
        "            temp.next=temp.next.next\n",
        "            break\n",
        "          temp=temp.next\n",
        "  def __iter__(self):\n",
        "    return SllIterator(self.start)\n",
        "\n",
        "\n",
        "\n",
        "class SllIterator:\n",
        "  def __init__(self,start):\n",
        "    self.current=start\n",
        "  def __iter__(self):\n",
        "    return self\n",
        "  def __next__(self):\n",
        "    if not self.current:\n",
        "      raise StopIteration\n",
        "    data=self.current.item\n",
        "    self.current=self.current.next\n",
        "    return data\n",
        "\n",
        "\n",
        "\n",
        "mylist=Single_link_list()\n",
        "mylist.insert_at_start(10)\n",
        "mylist.insert_at_last(20)\n",
        "mylist.insert_after(mylist.search(10),30)\n",
        "mylist.print_list()\n",
        "print()\n",
        "for i in mylist:\n",
        "  print(i)\n",
        "print()\n",
        "mylist.delete_last()\n",
        "mylist.delete_first()\n",
        "mylist.print_list()\n",
        "print()\n"
      ]
    },
    {
      "cell_type": "markdown",
      "metadata": {
        "id": "ftKy-Zwn_aGU"
      },
      "source": [
        "## **Doubly Link List Implementation**"
      ]
    },
    {
      "cell_type": "code",
      "execution_count": null,
      "metadata": {
        "id": "u3Ktwa3FJZyd"
      },
      "outputs": [],
      "source": [
        "class Node:\n",
        "    def __init__(self,prev=None,item=None,next=None):\n",
        "        self.prev=prev\n",
        "        self.item=item\n",
        "        self.next=next\n",
        "\n",
        "class DLL:\n",
        "    def __init__(self,start=None):\n",
        "        self.start=start\n",
        "    def is_empty(self):\n",
        "        return self.start==None\n",
        "    def insert_at_start(self,data):\n",
        "        n=Node(None,data,self.start)\n",
        "        if not self.is_empty():\n",
        "            self.start.prev=n\n",
        "        else:\n",
        "            self.start=n\n",
        "\n",
        "    def insert_at_last(self,data):\n",
        "        temp=self.start\n",
        "        if temp!=None:\n",
        "            while temp.next !=None:\n",
        "                temp=temp.next\n",
        "        n=Node(temp,data,None)\n",
        "        if temp==None:\n",
        "            self.start=n\n",
        "        else:\n",
        "            temp.next=n\n",
        "\n",
        "    def search_item(self,data):\n",
        "        temp=self.start\n",
        "        while temp!=None:\n",
        "            if temp.item==data:\n",
        "                return temp\n",
        "            temp=temp.next\n",
        "        return None\n",
        "    def insert_after(self,temp,data):\n",
        "        if temp is not None:\n",
        "            n=Node(temp,data,temp.next)\n",
        "            if temp.next is not None:\n",
        "                temp.next.prev=n\n",
        "            temp.nexta=n\n",
        "    def print_list(self):\n",
        "        temp=self.start\n",
        "        while temp is not None:\n",
        "            print(temp.item,end=' ')\n",
        "            temp=temp.next\n",
        "\n",
        "    def delete_first(self):\n",
        "        if self.start is not None:\n",
        "            self.start=self.start.next\n",
        "            if self.start is not None:\n",
        "                self.start.prev=None\n",
        "\n",
        "    def delete_last(self):\n",
        "        if self.start==None:\n",
        "            pass\n",
        "        elif self.start.next ==None:\n",
        "            self.start=None\n",
        "        else:\n",
        "            temp=self.start\n",
        "            while temp.next is not None:\n",
        "                temp=temp.next\n",
        "            temp.prev.next=None\n",
        "    def delete_item(self,data):\n",
        "        if self.start is None:\n",
        "            pass\n",
        "        else:\n",
        "            temp=self.start\n",
        "            while temp is not None:\n",
        "                if temp.item==data:\n",
        "                    if temp.next is not None:\n",
        "                        temp.next.prev=temp.prev\n",
        "                    if temp.prev is not None:\n",
        "                        temp.prev.next=temp.next\n",
        "                    else:\n",
        "                        self.start=temp.next\n",
        "                    break\n",
        "                temp=temp.next\n",
        "    def __iter__(self):\n",
        "        return DLLIterator(self.start)\n",
        "class  DLLIterator:\n",
        "    def __init__(self,start):\n",
        "        self.current=start\n",
        "    def __iter__(self):\n",
        "        return self\n",
        "    def __next__(self):\n",
        "        if not self.current:\n",
        "            raise StopIteration\n",
        "        data=self.current.item\n",
        "        self.current=self.current.next\n",
        "        return data\n",
        "\n",
        "mylist=DLL()\n",
        "mylist.insert_at_start(10)\n",
        "mylist.insert_at_last(20)\n",
        "mylist.insert_after(mylist.search_item(10),15)\n",
        "for x in mylist:\n",
        "    print(x,end=\" \")\n",
        "print()"
      ]
    },
    {
      "cell_type": "markdown",
      "metadata": {
        "id": "V_8BtiYmfu6E"
      },
      "source": [
        "### **Circular Link List Implementation**"
      ]
    },
    {
      "cell_type": "code",
      "execution_count": null,
      "metadata": {
        "colab": {
          "base_uri": "https://localhost:8080/"
        },
        "id": "R1n6oII2fuDf",
        "outputId": "4952bc58-c146-4b09-c75e-70a49f3f1dfc"
      },
      "outputs": [
        {
          "name": "stdout",
          "output_type": "stream",
          "text": [
            "30 20 10 100 40 50\n",
            "20 10 100 40\n",
            "20 100 40\n",
            "Print Through Iterator object \n",
            "20\n",
            "100\n",
            "40\n"
          ]
        }
      ],
      "source": [
        "class Node:\n",
        "    def __init__(self, item=None,next=None):\n",
        "        self.item=item\n",
        "        self.next=next\n",
        "class CLL:\n",
        "    def __init__(self,last=None):\n",
        "        self.last=last\n",
        "\n",
        "    def is_empty(self):\n",
        "        return self.last==None\n",
        "\n",
        "    def insert_at_start(self,data):\n",
        "        n=Node(data)\n",
        "        if self.is_empty():\n",
        "            n.next=n\n",
        "            self.last=n\n",
        "        else:\n",
        "            n.next=self.last.next\n",
        "            self.last.next=n\n",
        "\n",
        "    def insert_at_last(self,data):\n",
        "        n=Node(data)\n",
        "        if self.is_empty():\n",
        "            n.next=n\n",
        "            self.last=n\n",
        "        else:\n",
        "            n.next=self.last.next\n",
        "            self.last.next=n\n",
        "            self.last=n\n",
        "\n",
        "    def search(self,data):\n",
        "        if self.is_empty():\n",
        "            return None\n",
        "        temp=self.last.next\n",
        "        while temp!=self.last:\n",
        "            if temp.item==data:\n",
        "                return temp\n",
        "            temp=temp.next\n",
        "        if temp.item==data:\n",
        "            return temp\n",
        "        return None\n",
        "    def insert_after(self,temp,data):\n",
        "        if temp is not None:\n",
        "            n=Node(data,temp.next)\n",
        "            temp.next=n\n",
        "            if temp==self.last:\n",
        "                self.last=n\n",
        "\n",
        "    def print_list(self):\n",
        "        if not self.is_empty():\n",
        "            temp=self.last.next\n",
        "            while temp!=self.last:\n",
        "                print(temp.item,end=' ')\n",
        "                temp=temp.next\n",
        "            print(temp.item)\n",
        "\n",
        "    def delete_first(self):\n",
        "        if not self.is_empty():\n",
        "            if self.last.next==self.last:\n",
        "                self.last=None\n",
        "            else:\n",
        "                self.last.next=self.last.next.next\n",
        "\n",
        "    def delete_last(self):\n",
        "        if not self.is_empty():\n",
        "            if self.last.next==self.last:\n",
        "                self.last=None\n",
        "            else:\n",
        "                temp=self.last.next\n",
        "                while temp.next!=self.last:\n",
        "                    temp=temp.next\n",
        "                temp.next=self.last.next\n",
        "                self.last=temp\n",
        "    def delete_item(self,data):\n",
        "        if not self.is_empty():\n",
        "            if self.last.next==self.last:\n",
        "                if self.last.item==data:\n",
        "                    self.last=None\n",
        "            else:\n",
        "                if self.last.next.item==data:\n",
        "                    self.delete_first()\n",
        "                else:\n",
        "                    temp=self.last.next\n",
        "                    while temp.next!=self.last:\n",
        "                        if temp.next==self.last:\n",
        "                            if self.last.item==data:\n",
        "                                self.delete_last()\n",
        "                            break\n",
        "                        if temp.next.item==data:\n",
        "                            temp.next=temp.next.next\n",
        "                            break\n",
        "                        temp=temp.next\n",
        "    def __iter__(self):\n",
        "        if self.last==None:\n",
        "            return CLLIterator(None)\n",
        "        else:\n",
        "            return CLLIterator(self.last.next)\n",
        "\n",
        "\n",
        "class CLLIterator:\n",
        "    def __init__(self,start):\n",
        "        self.current=start\n",
        "        self.start=start\n",
        "        self.count=0\n",
        "    def __iter__(self):\n",
        "        return self\n",
        "    def __next__(self):\n",
        "        if self.current==None:\n",
        "            raise StopIteration\n",
        "        if self.current==self.start and self.count==1:\n",
        "            raise StopIteration\n",
        "        else:\n",
        "            self.count=1\n",
        "        data=self.current.item\n",
        "        self.current=self.current.next\n",
        "\n",
        "        return data\n",
        "\n",
        "\n",
        "cll=CLL()\n",
        "cll.insert_at_start(10)\n",
        "cll.insert_at_start(20)\n",
        "cll.insert_at_start(30)\n",
        "cll.insert_at_last(40)\n",
        "cll.insert_at_last(50)\n",
        "cll.insert_after(cll.search(10),100)\n",
        "cll.print_list()\n",
        "cll.delete_first()\n",
        "cll.delete_last()\n",
        "cll.print_list()\n",
        "cll.delete_item(10)\n",
        "cll.print_list()\n",
        "print(\"Print Through Iterator object \")\n",
        "for i in cll:\n",
        "    print(i)\n",
        "\n"
      ]
    },
    {
      "cell_type": "markdown",
      "metadata": {
        "id": "0i-A2KXaVSII"
      },
      "source": [
        "### **Circular Doubaly Link List Implementation**"
      ]
    },
    {
      "cell_type": "code",
      "execution_count": null,
      "metadata": {
        "colab": {
          "base_uri": "https://localhost:8080/"
        },
        "id": "96HdM2i1JZ18",
        "outputId": "5fef65ee-de81-47ae-ee52-3f5fecbe1a43"
      },
      "outputs": [
        {
          "name": "stdout",
          "output_type": "stream",
          "text": [
            "10 20 30 35 \n",
            "10\n",
            "20\n",
            "30\n",
            "35\n"
          ]
        }
      ],
      "source": [
        "class Node:\n",
        "    def __init__(self,item=None,prev=None,next=None):\n",
        "        self.prev=prev\n",
        "        self.item=item\n",
        "        self.next=next\n",
        "\n",
        "class CDLL:\n",
        "    def __init__(self,start=None):\n",
        "        self.start=start\n",
        "\n",
        "    def is_empty(self):\n",
        "        return self.start==None\n",
        "\n",
        "    def insert_at_start(self,data):\n",
        "        n=Node(data)\n",
        "        if not self.is_empty():\n",
        "            n.prev=self.start.prev\n",
        "            n.next=self.start\n",
        "            self.strat.prev.next=n\n",
        "            self.strat.prev=n\n",
        "        else:\n",
        "            n.next=n\n",
        "            n.prev=n\n",
        "        self.start=n\n",
        "    def insert_at_last(self,data):\n",
        "        n=Node(data)\n",
        "        if self.is_empty():\n",
        "            n.next=n\n",
        "            n.prev=n\n",
        "            self.start=n\n",
        "        else:\n",
        "            n.prev=self.start.prev\n",
        "            n.next=self.start\n",
        "            n.prev.next=n\n",
        "            self.start.prev=n\n",
        "    def search(self,data):\n",
        "        temp=self.start\n",
        "        if temp==None:\n",
        "            return None\n",
        "        if temp.item==data:\n",
        "            return temp\n",
        "        else:\n",
        "            temp=temp.next\n",
        "        while temp is not self.start:\n",
        "            if temp.item==data:\n",
        "                return temp\n",
        "            temp=temp.next\n",
        "        return temp\n",
        "\n",
        "    def insert_after(self,temp,data):\n",
        "        if temp is not None:\n",
        "            n=Node(data)\n",
        "            n.next=temp.next\n",
        "            n.prev=temp.prev\n",
        "            temp.next.prev=n\n",
        "            temp.next=n\n",
        "    def print_list(self):\n",
        "        temp=self.start\n",
        "        if temp is not None:\n",
        "            print(temp.item,end=' ')\n",
        "            temp=temp.next\n",
        "            while temp is not self.start:\n",
        "                print(temp.item,end=' ')\n",
        "                temp=temp.next\n",
        "    def delete_first(self):\n",
        "        if self.start is not None:\n",
        "            if self.start.next==self.start:\n",
        "                self.start=None\n",
        "            else:\n",
        "                self.start.prev.next=self.start.next\n",
        "                self.satrt.next.prev=self.prev\n",
        "                self.start=self.start.next\n",
        "    def delete_last(self):\n",
        "        if self.start is not None:\n",
        "            if self.start.next==self.start:\n",
        "                self.start=None\n",
        "            else:\n",
        "                self.start.prev.prev.next=self.start\n",
        "                self.start.prev=self.start.prev.prev\n",
        "    def delete_item(self,data):\n",
        "        if self.start is not None:\n",
        "            temp=self.start\n",
        "            if temp.item==data:\n",
        "                self.delete_first()\n",
        "            else:\n",
        "                temp=temp.next\n",
        "                while temp is not self.start:\n",
        "                    if temp.item==data:\n",
        "                        temp.next.prev=temp.prev\n",
        "                        temp.prev.next=temp.next\n",
        "                    temp=temp.next\n",
        "\n",
        "    def __iter__(self):\n",
        "        return CDLLIterator(self.start)\n",
        "class CDLLIterator:\n",
        "    def __init__(self,start):\n",
        "        self.current=start\n",
        "        self.count=0\n",
        "        self.start=start\n",
        "    def __iter__(self):\n",
        "        return self\n",
        "    def __next__(self):\n",
        "        if self.current is None:\n",
        "            raise StopIteration\n",
        "        if self.current==self.start and self.count==1:\n",
        "            raise StopIteration\n",
        "        else:\n",
        "            self.count=1\n",
        "        data=self.current.item\n",
        "        self.current=self.current.next\n",
        "        return data\n",
        "\n",
        "cdll=CDLL()\n",
        "cdll.insert_at_start(10)\n",
        "cdll.insert_at_last(20)\n",
        "cdll.insert_at_last(30)\n",
        "cdll.insert_after(cdll.search(30),35)\n",
        "cdll.print_list()\n",
        "print()\n",
        "for x in cdll:\n",
        "    print(x)"
      ]
    },
    {
      "cell_type": "markdown",
      "metadata": {
        "id": "ljW5dDp96yHC"
      },
      "source": [
        "### **Find the middle element of the LinkedList**"
      ]
    },
    {
      "cell_type": "code",
      "execution_count": null,
      "metadata": {
        "id": "1qNkfsgD6wam"
      },
      "outputs": [],
      "source": [
        "# TC : O(n+n//2)\n",
        "# SC:O(1)\n",
        "def middleNode(self, head: Optional[ListNode]) -> Optional[ListNode]:\n",
        "  temp=head\n",
        "  count=0\n",
        "  while temp!=None:\n",
        "      count+=1\n",
        "      temp=temp.next\n",
        "  mid_node=count//2 +1\n",
        "  temp=head\n",
        "  while temp!=None:\n",
        "      mid_node-=1\n",
        "      if mid_node==0:\n",
        "          break\n",
        "      temp=temp.next\n",
        "  return temp"
      ]
    },
    {
      "cell_type": "markdown",
      "metadata": {
        "id": "n4JY1bnz59-U"
      },
      "source": [
        "### **Tortoise Hare Algo**"
      ]
    },
    {
      "cell_type": "code",
      "execution_count": null,
      "metadata": {
        "id": "Tsu93mEP6wdm"
      },
      "outputs": [],
      "source": [
        "# TortoiseHare Method\n",
        "# TC : O(n//2)\n",
        "# SC:O(1)\n",
        "def middleNode(self, head: Optional[ListNode]) -> Optional[ListNode]:\n",
        "  slow=head\n",
        "  fast=head\n",
        "  while fast!=None and fast.next!=None:\n",
        "      slow=slow.next\n",
        "      fast=fast.next.next\n",
        "  return slow"
      ]
    },
    {
      "cell_type": "markdown",
      "metadata": {
        "id": "X_Ci5Cd4Ht5p"
      },
      "source": [
        "### **Reverse a LinkedList**"
      ]
    },
    {
      "cell_type": "code",
      "execution_count": null,
      "metadata": {
        "colab": {
          "base_uri": "https://localhost:8080/"
        },
        "id": "s5zVdp7D6wgX",
        "outputId": "b94b39e8-4bfd-4f17-998a-0947ff6dc815"
      },
      "outputs": [
        {
          "name": "stdout",
          "output_type": "stream",
          "text": [
            "4\n",
            "3\n"
          ]
        }
      ],
      "source": [
        "# TC : O(2n)\n",
        "# SC:O(n)\n",
        "def reverseList(self, head: Optional[ListNode]) -> Optional[ListNode]:\n",
        "  stack=[]\n",
        "  temp=head\n",
        "  while temp!=None:\n",
        "      stack.append(temp.val)\n",
        "      temp=temp.next\n",
        "  temp=head\n",
        "  while temp!=None:\n",
        "      temp.val=stack[-1]\n",
        "      stack.pop()\n",
        "      temp=temp.next\n",
        "  return head"
      ]
    },
    {
      "cell_type": "code",
      "execution_count": null,
      "metadata": {
        "id": "p7cULhnP6wjm"
      },
      "outputs": [],
      "source": [
        "# TC : O(n)\n",
        "# SC:O(1)\n",
        "def reverseList(self, head: Optional[ListNode]) -> Optional[ListNode]:\n",
        "  temp=head\n",
        "  prev=None\n",
        "  while temp!=None:\n",
        "      first=temp.next\n",
        "      temp.next=prev\n",
        "      prev=temp\n",
        "      temp=first\n",
        "  return prev"
      ]
    },
    {
      "cell_type": "code",
      "execution_count": null,
      "metadata": {
        "id": "2dfvm0SJ6wmN"
      },
      "outputs": [],
      "source": [
        "\n",
        " def reverseList(self, head: Optional[ListNode]) -> Optional[ListNode]:\n",
        "        if head==None or head.next==None:\n",
        "            return head\n",
        "        new_head=self.reverseList(head.next)\n",
        "        front=head.next\n",
        "        front.next=head\n",
        "        head.next=None\n",
        "        return new_head"
      ]
    },
    {
      "cell_type": "markdown",
      "metadata": {
        "id": "_jKoa8qVDBt1"
      },
      "source": [
        "### **Detect a loop or cycle in LinkedList**"
      ]
    },
    {
      "cell_type": "code",
      "execution_count": null,
      "metadata": {
        "id": "3OsirlMo6wpO"
      },
      "outputs": [],
      "source": [
        "# TC : O(n* log2(n))\n",
        "# SC:O(n)\n",
        "def hasCycle(self, head: Optional[ListNode]) -> bool:\n",
        "  d={}\n",
        "  temp=head\n",
        "  while temp!=None:\n",
        "      if temp not in d:\n",
        "          d[temp]=1\n",
        "      else:\n",
        "          return True\n",
        "      temp=temp.next\n",
        "  return False"
      ]
    },
    {
      "cell_type": "code",
      "execution_count": null,
      "metadata": {
        "id": "uE2o-j-P6wsb"
      },
      "outputs": [],
      "source": [
        " # TC : O(n)\n",
        "# SC:O(1)\n",
        "def hasCycle(self, head: Optional[ListNode]) -> bool:\n",
        "  slow=head\n",
        "  fast=head\n",
        "  while fast!=None and fast.next!=None:\n",
        "  slow=slow.next\n",
        "  fast=fast.next.next\n",
        "  if slow==fast:\n",
        "      return True\n",
        "  return False"
      ]
    },
    {
      "cell_type": "markdown",
      "metadata": {
        "id": "VqXm8lT9QS7B"
      },
      "source": [
        "### **Find the starting point of the Loop**"
      ]
    },
    {
      "cell_type": "code",
      "execution_count": null,
      "metadata": {
        "id": "X-AyV_dh6wu8"
      },
      "outputs": [],
      "source": [
        "# TC : O(n* log2(n))\n",
        "# SC:O(n)\n",
        "def detectCycle(self, head: Optional[ListNode]) -> Optional[ListNode]:\n",
        "  d={}\n",
        "  temp=head\n",
        "  while temp!=None:\n",
        "      if temp not in d:\n",
        "          d[temp]=1\n",
        "      else:\n",
        "          return temp\n",
        "      temp=temp.next\n",
        "  return"
      ]
    },
    {
      "cell_type": "code",
      "execution_count": null,
      "metadata": {
        "id": "ivYVqk4b6wyI"
      },
      "outputs": [],
      "source": [
        "# TC : O(n)\n",
        "# SC:O(1)\n",
        "def detectCycle(self, head: Optional[ListNode]) -> Optional[ListNode]:\n",
        "  slow=head\n",
        "  fast=head\n",
        "  while fast!=None and fast.next!=None:\n",
        "      slow=slow.next\n",
        "      fast=fast.next.next\n",
        "      if slow==fast:\n",
        "          slow=head\n",
        "          while slow!=fast:\n",
        "              slow=slow.next\n",
        "              fast=fast.next\n",
        "          return slow\n",
        "  return None"
      ]
    },
    {
      "cell_type": "markdown",
      "metadata": {
        "id": "RKrRvpd-hTrT"
      },
      "source": [
        "### **Check if LL is palindrome or not**"
      ]
    },
    {
      "cell_type": "code",
      "execution_count": null,
      "metadata": {
        "id": "UT7ti_Ts6w1C"
      },
      "outputs": [],
      "source": [
        "# TC : O(n)+O(n)\n",
        "# SC:O(n)\n",
        "def isPalindrome(self, head: Optional[ListNode]) -> bool:\n",
        "  stack=[]\n",
        "  temp=head\n",
        "  while temp!=None:\n",
        "      stack.append(temp.val)\n",
        "      temp=temp.next\n",
        "  temp=head\n",
        "  while temp!=None:\n",
        "      if temp.val!=stack[-1]:\n",
        "          return False\n",
        "      temp=temp.next\n",
        "      stack.pop()\n",
        "  return True"
      ]
    },
    {
      "cell_type": "markdown",
      "metadata": {
        "id": "DUM7rKyq23Gg"
      },
      "source": [
        "### **Odd Even Linked List**"
      ]
    },
    {
      "cell_type": "code",
      "execution_count": null,
      "metadata": {
        "id": "QL0uD1y36w3R"
      },
      "outputs": [],
      "source": [
        "# TC : O(n/2)+O(n/2)+O(n)\n",
        "# SC:O(n)\n",
        "def oddEvenList(self, head: Optional[ListNode]) -> Optional[ListNode]:\n",
        "  temp=head\n",
        "  l=[]\n",
        "  if temp==None:\n",
        "      return head\n",
        "  while temp!=None and temp.next!=None:\n",
        "      l.append(temp.val)\n",
        "      temp=temp.next.next\n",
        "  if temp:\n",
        "      l.append(temp.val)\n",
        "\n",
        "\n",
        "  temp=head.next\n",
        "  while temp!=None and temp.next!=None:\n",
        "      l.append(temp.val)\n",
        "      temp=temp.next.next\n",
        "  if temp:\n",
        "      l.append(temp.val)\n",
        "\n",
        "  temp=head\n",
        "  i=0\n",
        "  while temp!=None:\n",
        "      temp.val=l[i]\n",
        "      i+=1\n",
        "      temp=temp.next\n",
        "  return head\n"
      ]
    },
    {
      "cell_type": "code",
      "execution_count": null,
      "metadata": {
        "id": "BF7Bi3Mz6w6L"
      },
      "outputs": [],
      "source": [
        "# TC :O(n)\n",
        "# SC:O(1)\n",
        "def oddEvenList(self, head: Optional[ListNode]) -> Optional[ListNode]:\n",
        "        odd=head\n",
        "        even=head.next\n",
        "        even_head=head.next\n",
        "        if head==None or head.next==None:\n",
        "            return head\n",
        "        while even!=None and even.next!=None:\n",
        "            odd.next=odd.next.next\n",
        "            even.next=even.next.next\n",
        "            odd=odd.next\n",
        "            even=even.next.next\n",
        "        odd.next=even_head\n",
        "        return head"
      ]
    },
    {
      "cell_type": "markdown",
      "metadata": {
        "id": "NDBhDAb2sBN5"
      },
      "source": [
        "### **Remove Nth node from the back of the LL**"
      ]
    },
    {
      "cell_type": "code",
      "execution_count": null,
      "metadata": {
        "id": "ylQlp4_w6w9H"
      },
      "outputs": [],
      "source": [
        "# TC :O(2n)\n",
        "# SC:O(1)\n",
        "def removeNthFromEnd(self, head: Optional[ListNode], n: int) -> Optional[ListNode]:\n",
        "  temp=head\n",
        "  count=0\n",
        "  while temp!=None:\n",
        "      count+=1\n",
        "      temp=temp.next\n",
        "  if count==n:\n",
        "      new_head=head.next\n",
        "      return new_head\n",
        "  temp=head\n",
        "  res=count-n\n",
        "  while temp!=None:\n",
        "      res-=1\n",
        "      if res==0:\n",
        "          break\n",
        "      temp=temp.next\n",
        "  temp.next=temp.next.next\n",
        "  return head"
      ]
    },
    {
      "cell_type": "code",
      "execution_count": null,
      "metadata": {
        "id": "kwPYS05j6w_7"
      },
      "outputs": [],
      "source": [
        "# TC :O(2n)\n",
        "# SC:O(1)\n",
        "def removeNthFromEnd(self, head: Optional[ListNode], n: int) -> Optional[ListNode]:\n",
        "  fast=head\n",
        "  for i in range(n):\n",
        "      fast=fast.next\n",
        "  slow=head\n",
        "  if fast==None:\n",
        "      return head.next\n",
        "  while fast.next!=None:\n",
        "      slow=slow.next\n",
        "      fast=fast.next\n",
        "  slow.next=slow.next.next\n",
        "  return head"
      ]
    },
    {
      "cell_type": "markdown",
      "metadata": {
        "id": "0UpTM8Bb0Bgs"
      },
      "source": [
        "### **Delete the middle node of the LinkedList**"
      ]
    },
    {
      "cell_type": "code",
      "execution_count": null,
      "metadata": {
        "id": "jfkekYNm1xrK"
      },
      "outputs": [],
      "source": [
        "# TC :O(n)+O(n/2)\n",
        "# SC:O(1)\n",
        "def deleteMiddle(self, head: Optional[ListNode]) -> Optional[ListNode]:\n",
        "  temp=head\n",
        "  count=0\n",
        "  if head==None:\n",
        "      return head\n",
        "  if head.next==None:\n",
        "      return head.next\n",
        "  while temp!=None:\n",
        "      count+=1\n",
        "      temp=temp.next\n",
        "  n=(count//2)-1\n",
        "  temp=head\n",
        "  for i in range(n):\n",
        "      temp=temp.next\n",
        "  temp.next=temp.next.next\n",
        "  return head"
      ]
    },
    {
      "cell_type": "code",
      "execution_count": null,
      "metadata": {
        "id": "DeP6XJr_6xC9"
      },
      "outputs": [],
      "source": [
        "# TC :O(n)\n",
        "# SC:O(1)\n",
        "# Find the middle element by slow but we reqire one before middle so we skip a single step of slow value in TortoiseHare algo\n",
        " def deleteMiddle(self, head: Optional[ListNode]) -> Optional[ListNode]:\n",
        "    slow=head\n",
        "    fast=head\n",
        "\n",
        "    if head==None:\n",
        "        return None\n",
        "    if head.next==None:\n",
        "        return head.next\n",
        "    fast=fast.next.next\n",
        "    while fast!=None and  fast.next !=None:\n",
        "        slow=slow.next\n",
        "        fast=fast.next.next\n",
        "    slow.next=slow.next.next\n",
        "    return head\n"
      ]
    },
    {
      "cell_type": "markdown",
      "metadata": {
        "id": "D-jqCZwB772X"
      },
      "source": [
        "### **Sort a Linked List**"
      ]
    },
    {
      "cell_type": "code",
      "execution_count": null,
      "metadata": {
        "id": "-gBYTgLK6xFp"
      },
      "outputs": [],
      "source": [
        "# TC :O(n)+O(nlogn)+O(n)\n",
        "# SC:O(n)\n",
        "def sortList(self, head: Optional[ListNode]) -> Optional[ListNode]:\n",
        "  l=[]\n",
        "  temp=head\n",
        "  if temp==None:\n",
        "      return None\n",
        "  while temp!=None:\n",
        "      l.append(temp.val)\n",
        "      temp=temp.next\n",
        "  temp=head\n",
        "  l.sort()\n",
        "  i=0\n",
        "  while temp!=None:\n",
        "      temp.val=l[i]\n",
        "      i+=1\n",
        "      temp=temp.next\n",
        "  return head"
      ]
    },
    {
      "cell_type": "markdown",
      "metadata": {
        "id": "gGmcnxRdlAuj"
      },
      "source": [
        "### **Add 2 numbers in LinkedList**"
      ]
    },
    {
      "cell_type": "code",
      "execution_count": null,
      "metadata": {
        "id": "M7xFVdFp7-9y"
      },
      "outputs": [],
      "source": [
        "class ListNode:\n",
        "    def __init__(self, val=0, next=None):\n",
        "        self.val = val\n",
        "        self.next = next\n",
        "class Solution:\n",
        "    def addTwoNumbers(self, l1: Optional[ListNode], l2: Optional[ListNode]) -> Optional[ListNode]:\n",
        "        temp1=l1\n",
        "        num1=[]\n",
        "        while temp1!=None:\n",
        "            num1.append(temp1.val)\n",
        "            temp1=temp1.next\n",
        "        num2=[]\n",
        "        temp2=l2\n",
        "        while temp2!=None:\n",
        "            num2.append(temp2.val)\n",
        "            temp2=temp2.next\n",
        "        num1.reverse()\n",
        "        num2.reverse()\n",
        "        inta = int(\"\".join(str(x) for x in num1))\n",
        "        intb = int(\"\".join(str(x) for x in num2))\n",
        "        num=inta+intb\n",
        "        head=curr=ListNode()\n",
        "        if num==0:\n",
        "            return head\n",
        "        while num!=0:\n",
        "            curr.next=ListNode(num%10)\n",
        "            num=num//10\n",
        "            curr=curr.next\n",
        "        return head.next"
      ]
    },
    {
      "cell_type": "markdown",
      "metadata": {
        "id": "IGwbcRD6r5PW"
      },
      "source": [
        "### **Find the intersection point of Y LinkedList**"
      ]
    },
    {
      "cell_type": "code",
      "execution_count": null,
      "metadata": {
        "id": "bqm1wPIx7-_2"
      },
      "outputs": [],
      "source": [
        "class Solution:\n",
        "  def getIntersectionNode(self, headA: ListNode, headB: ListNode) -> Optional[ListNode]:\n",
        "      temp=headA\n",
        "      d={}\n",
        "      while temp!=None:\n",
        "          if temp not in d:\n",
        "              d[temp]=1\n",
        "          temp=temp.next\n",
        "      temp=headB\n",
        "      while temp!=None:\n",
        "          if temp in d:\n",
        "              return temp\n",
        "          temp=temp.next\n",
        "      return None"
      ]
    },
    {
      "cell_type": "markdown",
      "metadata": {
        "id": "5jcEkL56b-4D"
      },
      "source": [
        "### **Rotate a LinkedList**"
      ]
    },
    {
      "cell_type": "code",
      "execution_count": null,
      "metadata": {
        "id": "_qm_BY-O7_D0"
      },
      "outputs": [],
      "source": [
        "def rotateRight(self, head: Optional[ListNode], k: int) -> Optional[ListNode]:\n",
        "  if head==None or head.next==None:\n",
        "      return head\n",
        "  length=1\n",
        "  tail=head\n",
        "  while tail.next!=None:\n",
        "      length+=1\n",
        "      tail=tail.next\n",
        "  k=k%length\n",
        "  if k==0:\n",
        "      return head\n",
        "\n",
        "  temp=head\n",
        "  n=length-k\n",
        "  while temp!=None:\n",
        "      if n==1:\n",
        "          newlast=temp\n",
        "      temp=temp.next\n",
        "      n-=1\n",
        "  tail.next=head\n",
        "  head=newlast.next\n",
        "  newlast.next=None\n",
        "  return head"
      ]
    },
    {
      "cell_type": "code",
      "execution_count": null,
      "metadata": {
        "id": "UV_98yw77_HW"
      },
      "outputs": [],
      "source": [
        "arr=[1,2,3,4,5]\n",
        "k=2\n",
        "def rotate(arr,k):\n",
        "  length=len(arr)\n",
        "  k=k%length\n",
        "  if k==0:\n",
        "    return arr\n"
      ]
    },
    {
      "cell_type": "code",
      "execution_count": null,
      "metadata": {
        "colab": {
          "base_uri": "https://localhost:8080/"
        },
        "id": "1mWsSOu37_Jq",
        "outputId": "0429cb0e-aba7-4156-84d1-57e1ad85bb09"
      },
      "outputs": [
        {
          "name": "stdout",
          "output_type": "stream",
          "text": [
            "[5, 6, 7, 1, 2, 3, 4]\n"
          ]
        }
      ],
      "source": [
        "nums = [1,2,3,4,5,6,7]\n",
        "k=3\n",
        "length=len(nums)\n",
        "n=length-k\n",
        "l=[]\n",
        "for i in range(n,length):\n",
        "    l.append(nums[i])\n",
        "for j in range(n):\n",
        "    l.append(nums[j])\n",
        "print(l)"
      ]
    },
    {
      "cell_type": "markdown",
      "metadata": {
        "id": "2IA4hrBvakCr"
      },
      "source": [
        "#**Stack Data Structure**"
      ]
    },
    {
      "cell_type": "code",
      "execution_count": null,
      "metadata": {
        "colab": {
          "base_uri": "https://localhost:8080/"
        },
        "id": "r5nrE8M3JZ7-",
        "outputId": "889ab272-cab1-40de-e98f-52c43d0d0b4c"
      },
      "outputs": [
        {
          "name": "stdout",
          "output_type": "stream",
          "text": [
            "peak element 3\n"
          ]
        }
      ],
      "source": [
        "class Stack:\n",
        "    def __init__(self):\n",
        "        self.items=[]\n",
        "    def is_empty(self):\n",
        "        return len(self.items)==0\n",
        "    def push(self,data):\n",
        "        self.items.append(data)\n",
        "    def pop(self):\n",
        "        if not self.is_empty():\n",
        "            return self.items.pop()\n",
        "        else:\n",
        "            raise IndexError(\"Stack is empty\")\n",
        "    def peek(self):\n",
        "        if not self.is_empty():\n",
        "            return self.items[-1]\n",
        "        else:\n",
        "            raise IndexError(\"Stack is empty\")\n",
        "    def size(self):\n",
        "        return len(self.items)\n",
        "s1=Stack()\n",
        "s1.push(1)\n",
        "s1.push(2)\n",
        "s1.push(3)\n",
        "print(\"peak element\", s1.peek())"
      ]
    },
    {
      "cell_type": "markdown",
      "metadata": {
        "id": "zoWOTVjndypS"
      },
      "source": [
        "### **Implement stack by inherate the list class**"
      ]
    },
    {
      "cell_type": "code",
      "execution_count": null,
      "metadata": {
        "colab": {
          "base_uri": "https://localhost:8080/"
        },
        "id": "Z6B_tdBNJZ_A",
        "outputId": "0be65a07-2bd8-4b27-d990-0db84477f4cc"
      },
      "outputs": [
        {
          "name": "stdout",
          "output_type": "stream",
          "text": [
            "top value is  20\n"
          ]
        }
      ],
      "source": [
        "class Stack(list):\n",
        "    def is_empty(self):\n",
        "        return len(self)==0\n",
        "    def push(self,data):\n",
        "        self.append(data)\n",
        "    def pop(self):\n",
        "        if not self.is_empty():\n",
        "            return super().pop()\n",
        "        else:\n",
        "            raise IndexError('stack is empty')\n",
        "    def peek(self):\n",
        "        if not self.is_empty():\n",
        "            return self[-1]\n",
        "        else:\n",
        "            raise IndexError('stack is empty')\n",
        "    def size(self):\n",
        "        return len(self)\n",
        "    def insert(self,index,data):\n",
        "        raise AttributeError('No attribute insert in stack')\n",
        "s1=Stack()\n",
        "s1.push(10)\n",
        "s1.push(20)\n",
        "print('top value is ',s1.peek())\n",
        "\n"
      ]
    },
    {
      "cell_type": "markdown",
      "metadata": {
        "id": "olI173W4jqxO"
      },
      "source": [
        "### **Implementation of Stack using linked list concept**"
      ]
    },
    {
      "cell_type": "code",
      "execution_count": null,
      "metadata": {
        "colab": {
          "base_uri": "https://localhost:8080/"
        },
        "id": "TFsgTvwIJaB-",
        "outputId": "b4f7f483-b889-4cd7-b917-31061709020a"
      },
      "outputs": [
        {
          "name": "stdout",
          "output_type": "stream",
          "text": [
            "size of stack is  4\n",
            "After pop\n",
            "size of stack is  3\n"
          ]
        },
        {
          "data": {
            "text/plain": [
              "30"
            ]
          },
          "execution_count": 3,
          "metadata": {},
          "output_type": "execute_result"
        }
      ],
      "source": [
        "class Node:\n",
        "  def __init__(self,item=None,next=None):\n",
        "    self.item=item\n",
        "    self.next=next\n",
        "class stack:\n",
        "  def __init__(self):\n",
        "    self.top=None\n",
        "    self.item_count=0\n",
        "  def is_empty(self):\n",
        "    return self.top==None\n",
        "  def push(self,data):\n",
        "    n=Node(data,self.top)\n",
        "    self.top=n\n",
        "    self.item_count+=1\n",
        "  def pop(self):\n",
        "    if not self.is_empty():\n",
        "      data=self.top.item\n",
        "      self.top=self.top.next\n",
        "      self.item_count-=1\n",
        "      return data\n",
        "    else:\n",
        "      raise IndexError(\"Stack is empty\")\n",
        "  def peek(self):\n",
        "    if not self.is_empty():\n",
        "      return self.top.item\n",
        "    else:\n",
        "      raise IndexError(\"Stack is empty\")\n",
        "  def size(self):\n",
        "    return self.item_count\n",
        "\n",
        "s1=stack()\n",
        "s1.push(10)\n",
        "s1.push(20)\n",
        "s1.push(30)\n",
        "s1.push(40)\n",
        "print('size of stack is ',s1.size())\n",
        "s1.peek()\n",
        "s1.pop()\n",
        "print('After pop')\n",
        "print('size of stack is ',s1.size())\n",
        "s1.peek()\n",
        "\n",
        "\n"
      ]
    },
    {
      "cell_type": "code",
      "execution_count": null,
      "metadata": {
        "colab": {
          "base_uri": "https://localhost:8080/"
        },
        "id": "ZzE-g29MKSYb",
        "outputId": "ebe735ae-b56f-4c48-95b1-d5a61e480053"
      },
      "outputs": [
        {
          "name": "stdout",
          "output_type": "stream",
          "text": [
            "push\n",
            "MyStack\n",
            "1\n"
          ]
        }
      ],
      "source": [
        "class MyStack:\n",
        "\n",
        "    def __init__(self):\n",
        "        self.data=[]\n",
        "\n",
        "\n",
        "    def push(self, x: int) -> None:\n",
        "        self.data.append(x)\n",
        "        return self.data\n",
        "\n",
        "\n",
        "    def pop(self) -> int:\n",
        "        return self.data.pop()\n",
        "\n",
        "\n",
        "    def top(self) -> int:\n",
        "        return self.data[-1]\n",
        "\n",
        "\n",
        "    def empty(self) -> bool:\n",
        "        return len(self.data)\n",
        "\n",
        "\n",
        "\n",
        "# Your MyStack object will be instantiated and called as such:\n",
        "#[\"MyStack\",\"push\",\"push\",\"top\",\"pop\",\"empty\"]\n",
        "obj = MyStack()\n",
        "obj.push(\"MyStack\")\n",
        "obj.push(\"push\")\n",
        "param_2 = obj.pop()\n",
        "param_3 = obj.top()\n",
        "param_4 = obj.empty()\n",
        "print(param_2)\n",
        "print(param_3)\n",
        "print(param_4)"
      ]
    },
    {
      "cell_type": "markdown",
      "metadata": {
        "id": "jUmbelgoVH5o"
      },
      "source": [
        "### **Convert infix to postfix**"
      ]
    },
    {
      "cell_type": "code",
      "execution_count": null,
      "metadata": {
        "colab": {
          "base_uri": "https://localhost:8080/",
          "height": 35
        },
        "id": "nd3VZp7OlI88",
        "outputId": "9ec85a50-6dd3-495f-f7f9-119947172adc"
      },
      "outputs": [
        {
          "data": {
            "application/vnd.google.colaboratory.intrinsic+json": {
              "type": "string"
            },
            "text/plain": [
              "'abcd^c-*+'"
            ]
          },
          "execution_count": 34,
          "metadata": {},
          "output_type": "execute_result"
        }
      ],
      "source": [
        "# TC: O(2n)\n",
        "# SC: O(n)\n",
        "\n",
        "def priority(s):\n",
        "    if s == '^':\n",
        "        return 3\n",
        "    elif s in ('*', '/'):\n",
        "        return 2\n",
        "    elif s in ('+', '-'):\n",
        "        return 1\n",
        "    else:\n",
        "        return 0\n",
        "\n",
        "\n",
        "def infix_to_postfix(s):\n",
        "  i=0\n",
        "  stack=[]\n",
        "  ans=''\n",
        "  n=len(s)\n",
        "  while(i<n):\n",
        "    if s[i].isdigit() or s[i].isalpha():\n",
        "    #if (s[i]>= 'A' and s[i]<='Z') or (s[i]>= 'a' and s[i]<='z') or (s[i]>= '0' and s[i]<='9'):\n",
        "      ans+=s[i]\n",
        "    elif s[i]=='(':\n",
        "      stack.append(s[i])\n",
        "    elif s[i]==')':\n",
        "      while(len(stack)!=0 and stack[-1]!='('):\n",
        "        ans+=stack[-1]\n",
        "        stack.pop()\n",
        "      stack.pop()\n",
        "    else:\n",
        "      while (len(stack)!=0 and priority(s[i])<=priority(stack[-1])):\n",
        "        ans+=stack[-1]\n",
        "        stack.pop()\n",
        "      stack.append(s[i])\n",
        "    i+=1\n",
        "  while len(stack)!=0:\n",
        "    ans+=stack[-1]\n",
        "    stack.pop()\n",
        "  return ans\n",
        "\n",
        "s='a+b*(c^d-c)'\n",
        "infix_to_postfix(s)"
      ]
    },
    {
      "cell_type": "markdown",
      "metadata": {
        "id": "rWqaHCK0Yea-"
      },
      "source": [
        "### **Convert Infix to prefix**"
      ]
    },
    {
      "cell_type": "code",
      "execution_count": null,
      "metadata": {
        "colab": {
          "base_uri": "https://localhost:8080/",
          "height": 52
        },
        "id": "l5zli_BQVVla",
        "outputId": "8fab0dff-6247-423e-b2a0-1c5036672224"
      },
      "outputs": [
        {
          "name": "stdout",
          "output_type": "stream",
          "text": [
            "F+D-C*(B+A)\n"
          ]
        },
        {
          "data": {
            "application/vnd.google.colaboratory.intrinsic+json": {
              "type": "string"
            },
            "text/plain": [
              "'+-*+ABCDF'"
            ]
          },
          "execution_count": 18,
          "metadata": {},
          "output_type": "execute_result"
        }
      ],
      "source": [
        "# TC: O(3n)\n",
        "# SC: O(n)\n",
        "\n",
        "def priority(s):\n",
        "    if s == '^':\n",
        "        return 3\n",
        "    elif s in ('*', '/'):\n",
        "        return 2\n",
        "    elif s in ('+', '-'):\n",
        "        return 1\n",
        "    else:\n",
        "        return 0\n",
        "def infix_to_prefix(s):\n",
        "  stack=[]\n",
        "  s=s[::-1]\n",
        "  res=''\n",
        "  for i in s:\n",
        "    if i==')':\n",
        "      res+='('\n",
        "    elif i=='(':\n",
        "      res+=')'\n",
        "    else:\n",
        "      res+=i\n",
        "  i=0\n",
        "  ans=''\n",
        "  n=len(res)\n",
        "  while(i<n):\n",
        "    if res[i].isdigit() or res[i].isalpha():\n",
        "    #if (s[i]>= 'A' and s[i]<='Z') or (s[i]>= 'a' and s[i]<='z') or (s[i]>= '0' and s[i]<='9'):\n",
        "      ans+=res[i]\n",
        "    elif res[i]=='(':\n",
        "      stack.append(res[i])\n",
        "\n",
        "    elif res[i]==')':\n",
        "      while(len(stack)!=0 and stack[-1]!='('):\n",
        "        ans+=stack[-1]\n",
        "        stack.pop()\n",
        "      stack.pop()\n",
        "    else:\n",
        "      if res[i]=='^':\n",
        "        while (len(stack)!=0 and priority(res[i])<=priority(stack[-1])):\n",
        "          ans+=stack[-1]\n",
        "          stack.pop()\n",
        "      else:\n",
        "        while (len(stack)!=0 and priority(res[i])<priority(stack[-1])):\n",
        "          ans+=stack[-1]\n",
        "          stack.pop()\n",
        "      stack.append(s[i])\n",
        "    i+=1\n",
        "  while len(stack)!=0:\n",
        "    ans+=stack[-1]\n",
        "    stack.pop()\n",
        "  return ans[::-1]\n",
        "\n",
        "s=\"(A+B)*C-D+F\"\n",
        "infix_to_postfix(s)"
      ]
    },
    {
      "cell_type": "code",
      "execution_count": null,
      "metadata": {
        "colab": {
          "base_uri": "https://localhost:8080/"
        },
        "id": "suea5ZuvaJs1",
        "outputId": "4022a225-9010-4744-9145-6bb72fa4c37c"
      },
      "outputs": [
        {
          "name": "stdout",
          "output_type": "stream",
          "text": [
            "F+D-C*)B+A(\n",
            "F+D-C*(B+A)\n"
          ]
        }
      ],
      "source": [
        "s=\"(A+B)*C-D+F\"\n",
        "s=s[::-1]\n",
        "print(s)\n",
        "ans=''\n",
        "for i in s:\n",
        "  if i==')':\n",
        "    ans+='('\n",
        "  elif i=='(':\n",
        "    ans+=')'\n",
        "  else:\n",
        "    ans+=i\n",
        "print(ans)"
      ]
    },
    {
      "cell_type": "markdown",
      "metadata": {
        "id": "0QXE0JgtTeRA"
      },
      "source": [
        "### **Postfix to infix**"
      ]
    },
    {
      "cell_type": "code",
      "execution_count": null,
      "metadata": {
        "colab": {
          "base_uri": "https://localhost:8080/",
          "height": 35
        },
        "id": "LiVl3PTNTdXi",
        "outputId": "e623b630-0bd4-4cbd-8dc9-2621197b10b2"
      },
      "outputs": [
        {
          "data": {
            "application/vnd.google.colaboratory.intrinsic+json": {
              "type": "string"
            },
            "text/plain": [
              "'(a+(b*((c^d)-c)))'"
            ]
          },
          "execution_count": 5,
          "metadata": {},
          "output_type": "execute_result"
        }
      ],
      "source": [
        "# TC: O(2n)\n",
        "# SC: O(n)\n",
        "def postfix_to_infix(s):\n",
        "  stack=[]\n",
        "  i=0\n",
        "  temp=''\n",
        "  while i<len(s):\n",
        "    if s[i].isdigit() or s[i].isalpha():\n",
        "      stack.append(s[i])\n",
        "    else:\n",
        "      t1=stack.pop()\n",
        "      t2=stack.pop()\n",
        "      temp='('+t2+s[i]+t1+')'\n",
        "      stack.append(temp)\n",
        "    i+=1\n",
        "  return stack[-1]\n",
        "s=\"abcd^c-*+\"\n",
        "postfix_to_infix(s)\n",
        "\n",
        "# 'a+b*(c^d-c)'"
      ]
    },
    {
      "cell_type": "markdown",
      "metadata": {
        "id": "1wzILjBXX0i6"
      },
      "source": [
        "### **Prefix to infix**"
      ]
    },
    {
      "cell_type": "code",
      "execution_count": null,
      "metadata": {
        "colab": {
          "base_uri": "https://localhost:8080/",
          "height": 35
        },
        "id": "JrSOe4Y4SNoJ",
        "outputId": "da997ddb-cbcf-4566-b78d-0713073b5993"
      },
      "outputs": [
        {
          "data": {
            "application/vnd.google.colaboratory.intrinsic+json": {
              "type": "string"
            },
            "text/plain": [
              "'((((A+B)*C)-D)+F)'"
            ]
          },
          "execution_count": 12,
          "metadata": {},
          "output_type": "execute_result"
        }
      ],
      "source": [
        "# TC: O(2n)\n",
        "# SC: O(n)\n",
        "def pretfix_to_infix(s):\n",
        "  stack=[]\n",
        "  i=len(s)-1\n",
        "  temp=''\n",
        "  while i>=0:\n",
        "    if s[i].isdigit() or s[i].isalpha():\n",
        "      stack.append(s[i])\n",
        "    else:\n",
        "      t1=stack.pop()\n",
        "      t2=stack.pop()\n",
        "      temp='('+t1+s[i]+t2+')'\n",
        "      stack.append(temp)\n",
        "    i-=1\n",
        "  return stack[-1]\n",
        "s=\"+-*+ABCDF\"\n",
        "pretfix_to_infix(s)\n",
        "# \"(A+B)*C-D+F\""
      ]
    },
    {
      "cell_type": "markdown",
      "metadata": {
        "id": "gEVJWrdgaV4a"
      },
      "source": [
        "### **Convert Postfix to prefix**"
      ]
    },
    {
      "cell_type": "code",
      "execution_count": null,
      "metadata": {
        "colab": {
          "base_uri": "https://localhost:8080/",
          "height": 35
        },
        "id": "mvBfy7hoadbb",
        "outputId": "81cce0af-41b8-4404-c95a-a90aab3f3845"
      },
      "outputs": [
        {
          "data": {
            "application/vnd.google.colaboratory.intrinsic+json": {
              "type": "string"
            },
            "text/plain": [
              "'/-ab*+def'"
            ]
          },
          "execution_count": 16,
          "metadata": {},
          "output_type": "execute_result"
        }
      ],
      "source": [
        "# TC: O(n)\n",
        "# SC: O(n)\n",
        "def pretfix_to_infix(s):\n",
        "  stack=[]\n",
        "  i=0\n",
        "  temp=''\n",
        "  while i<len(s):\n",
        "    if s[i].isdigit() or s[i].isalpha():\n",
        "      stack.append(s[i])\n",
        "    else:\n",
        "      t1=stack.pop()\n",
        "      t2=stack.pop()\n",
        "      temp=s[i]+t2+t1\n",
        "      stack.append(temp)\n",
        "    i+=1\n",
        "  return stack[-1]\n",
        "s=\"ab-de+f*/\"\n",
        "pretfix_to_infix(s)"
      ]
    },
    {
      "cell_type": "markdown",
      "metadata": {
        "id": "wQHRthAQcOui"
      },
      "source": [
        "### **Convert Prefix to Postfix**"
      ]
    },
    {
      "cell_type": "code",
      "execution_count": null,
      "metadata": {
        "colab": {
          "base_uri": "https://localhost:8080/",
          "height": 35
        },
        "id": "Tkkhj18_add_",
        "outputId": "483b6855-cf48-4a7c-f65e-a2678a9b7934"
      },
      "outputs": [
        {
          "data": {
            "application/vnd.google.colaboratory.intrinsic+json": {
              "type": "string"
            },
            "text/plain": [
              "'ab-de+f*/'"
            ]
          },
          "execution_count": 19,
          "metadata": {},
          "output_type": "execute_result"
        }
      ],
      "source": [
        "# TC: O(2n)\n",
        "# SC: O(n)\n",
        "def pretfix_to_infix(s):\n",
        "  stack=[]\n",
        "  i=len(s)-1\n",
        "  temp=''\n",
        "  while i>=0:\n",
        "    if s[i].isdigit() or s[i].isalpha():\n",
        "      stack.append(s[i])\n",
        "    else:\n",
        "      t1=stack.pop()\n",
        "      t2=stack.pop()\n",
        "      temp=t1+t2+s[i]\n",
        "      stack.append(temp)\n",
        "    i-=1\n",
        "  return stack[-1]\n",
        "s=\"/-ab*+def\"\n",
        "pretfix_to_infix(s)\n",
        "# \"(A+B)*C-D+F\""
      ]
    },
    {
      "cell_type": "markdown",
      "metadata": {
        "id": "Lqp82_G8oWka"
      },
      "source": [
        "### **Next Greater Element or Monotonic Stack**"
      ]
    },
    {
      "cell_type": "code",
      "execution_count": null,
      "metadata": {
        "colab": {
          "base_uri": "https://localhost:8080/"
        },
        "id": "qS-D5I_Zadhe",
        "outputId": "ca0966be-3ea6-4d91-c3d9-e6c9bc053e80"
      },
      "outputs": [
        {
          "data": {
            "text/plain": [
              "[8, 8, -1, 3, -1]"
            ]
          },
          "execution_count": 27,
          "metadata": {},
          "output_type": "execute_result"
        }
      ],
      "source": [
        "# TC: O(n**2)\n",
        "# SC: O(n)\n",
        "def monotonic(arr):\n",
        "  ans=[-1]*len(arr)\n",
        "  for i in range(len(arr)):\n",
        "    for j in range(i+1,len(arr)):\n",
        "      if arr[j]>=arr[i]:\n",
        "        ans[i]=arr[j]\n",
        "        break\n",
        "      else:\n",
        "        ans[i]=-1\n",
        "  return ans\n",
        "arr=[6,0,8,1,3]\n",
        "monotonic(arr)"
      ]
    },
    {
      "cell_type": "code",
      "execution_count": null,
      "metadata": {
        "colab": {
          "base_uri": "https://localhost:8080/"
        },
        "id": "-kZLUbPNs0Yj",
        "outputId": "fc275a36-ff57-4ae6-8c02-78b36866758a"
      },
      "outputs": [
        {
          "data": {
            "text/plain": [
              "[8, 8, -1, 3, -1]"
            ]
          },
          "execution_count": 22,
          "metadata": {},
          "output_type": "execute_result"
        }
      ],
      "source": [
        "# TC: O(2n)\n",
        "# SC: O(n)\n",
        "def monotonic(arr):\n",
        "  n=len(arr)\n",
        "  stack=[]\n",
        "  nge=[-1]*len(arr)\n",
        "  for i in range(n-1,-1,-1):\n",
        "    while len(stack)!=0 and stack[-1]<=arr[i]:\n",
        "      stack.pop()\n",
        "    if len(stack)==0:\n",
        "      nge[i]=-1\n",
        "    else:\n",
        "      nge[i]=stack[-1]\n",
        "    stack.append(arr[i])\n",
        "  return nge\n",
        "arr=[6,0,8,1,3]\n",
        "monotonic(arr)"
      ]
    },
    {
      "cell_type": "code",
      "execution_count": null,
      "metadata": {
        "colab": {
          "base_uri": "https://localhost:8080/"
        },
        "id": "9weHo9NRxJEk",
        "outputId": "e203d685-cd8b-4971-dc65-e4318576147d"
      },
      "outputs": [
        {
          "data": {
            "text/plain": [
              "[3, -1]"
            ]
          },
          "execution_count": 40,
          "metadata": {},
          "output_type": "execute_result"
        }
      ],
      "source": [
        "def nextGreaterElement(nums1,nums2):\n",
        "  n1=len(nums1)\n",
        "  n2=len(nums2)\n",
        "  ans=[]\n",
        "  for i in range(n1):\n",
        "    for j in range(n2):\n",
        "      if nums1[i]==nums2[j]:\n",
        "        for k in range(j,n2):\n",
        "          if nums1[i]<nums2[k]:\n",
        "            ans.append(nums2[k])\n",
        "            break\n",
        "        else:\n",
        "          ans.append(-1)\n",
        "  return ans\n",
        "nums1 = [2,4]\n",
        "nums2 = [1,2,3,4]\n",
        "\n",
        "nextGreaterElement(nums1,nums2)"
      ]
    },
    {
      "cell_type": "markdown",
      "metadata": {
        "id": "G0e3_eAGGqFR"
      },
      "source": [
        "### **Next Greater Element - II**"
      ]
    },
    {
      "cell_type": "code",
      "execution_count": null,
      "metadata": {
        "colab": {
          "base_uri": "https://localhost:8080/"
        },
        "id": "fOoZh2Q2GtaJ",
        "outputId": "b357edc5-3c58-4151-cc18-43b782c4d5bb"
      },
      "outputs": [
        {
          "data": {
            "text/plain": [
              "[2, -1, 2]"
            ]
          },
          "execution_count": 17,
          "metadata": {},
          "output_type": "execute_result"
        }
      ],
      "source": [
        "# TC: O(n**2)\n",
        "# SC: O(n)\n",
        "def monotonic(arr):\n",
        "  ans=[-1]*len(arr)\n",
        "  for i in range(len(arr)):\n",
        "    for j in range(i+1,len(arr)):\n",
        "      if arr[j]>arr[i]:\n",
        "        ans[i]=arr[j]\n",
        "        break\n",
        "    else:\n",
        "      for k in range(0,i):\n",
        "        if arr[k]>arr[i]:\n",
        "          ans[i]=arr[k]\n",
        "          break\n",
        "  return ans\n",
        "arr=[1,2,1]\n",
        "monotonic(arr)"
      ]
    },
    {
      "cell_type": "code",
      "execution_count": null,
      "metadata": {
        "colab": {
          "base_uri": "https://localhost:8080/"
        },
        "id": "ylhBtFK9GteF",
        "outputId": "83221a02-6fb5-4a2b-8bfb-ebd55cd562f2"
      },
      "outputs": [
        {
          "data": {
            "text/plain": [
              "[2, -1, 2]"
            ]
          },
          "execution_count": 19,
          "metadata": {},
          "output_type": "execute_result"
        }
      ],
      "source": [
        "# Use concept of circuler list\n",
        "# TC : O(n^2)\n",
        "# SC: O(n)\n",
        "def monotonic(arr):\n",
        "  n=len(arr)\n",
        "  ans=[-1]*n\n",
        "  for i in range(n):\n",
        "    for j in range(i+1,i+n):\n",
        "      idx=j%n\n",
        "      if arr[idx]>arr[i]:\n",
        "        ans[i]=arr[idx]\n",
        "        break\n",
        "  return ans\n",
        "arr=[1,2,1]\n",
        "monotonic(arr)"
      ]
    },
    {
      "cell_type": "code",
      "execution_count": null,
      "metadata": {
        "colab": {
          "base_uri": "https://localhost:8080/"
        },
        "id": "nvve0Y4GGthy",
        "outputId": "254eec1a-5de2-4ba1-de79-47cf8814b2e9"
      },
      "outputs": [
        {
          "data": {
            "text/plain": [
              "[2, -1, 2]"
            ]
          },
          "execution_count": 21,
          "metadata": {},
          "output_type": "execute_result"
        }
      ],
      "source": [
        "# TC: O(4n)\n",
        "# SC: O(2n)\n",
        "def monotonic(nums):\n",
        "  n=len(nums)\n",
        "  nge=[-1]*n\n",
        "  st=[]\n",
        "  for i in range(2*n-1,-1,-1):\n",
        "    while len(st)!=0 and st[-1]<=nums[i%n]:\n",
        "      st.pop()\n",
        "    if i<n:\n",
        "      if len(st)==0:\n",
        "        nge[i]=-1\n",
        "      else:\n",
        "        nge[i]=st[-1]\n",
        "    st.append(nums[i%n])\n",
        "  return nge\n",
        "arr=[1,2,1]\n",
        "monotonic(arr)"
      ]
    },
    {
      "cell_type": "markdown",
      "metadata": {
        "id": "mH_cRMfS0wRx"
      },
      "source": [
        "### **Previous Smaller Element**\n",
        "\n"
      ]
    },
    {
      "cell_type": "code",
      "execution_count": null,
      "metadata": {
        "colab": {
          "base_uri": "https://localhost:8080/"
        },
        "id": "mlbIo6BI09vl",
        "outputId": "2f0699e4-6901-49e3-c450-d38085e63fca"
      },
      "outputs": [
        {
          "data": {
            "text/plain": [
              "[-1, 4, -1, 2, 2]"
            ]
          },
          "execution_count": 54,
          "metadata": {},
          "output_type": "execute_result"
        }
      ],
      "source": [
        "# TC: O(n^2)\n",
        "# SC: O(n)\n",
        "def pre_smaller(arr):\n",
        "  n=len(arr)\n",
        "  ans=[-1]*n\n",
        "  for i in range(n):\n",
        "    for j in range(i-1,-1,-1):\n",
        "      if arr[i]>arr[j]:\n",
        "        ans[i]=arr[j]\n",
        "        break\n",
        "  return ans\n",
        "arr=[4,5,2,10,8]\n",
        "pre_smaller(arr)\n"
      ]
    },
    {
      "cell_type": "code",
      "execution_count": null,
      "metadata": {
        "colab": {
          "base_uri": "https://localhost:8080/"
        },
        "id": "H9K3Eumd09ym",
        "outputId": "2621bd66-f75d-421e-9be3-067d56817e51"
      },
      "outputs": [
        {
          "data": {
            "text/plain": [
              "[-1, 4, -1, 2, 2]"
            ]
          },
          "execution_count": 62,
          "metadata": {},
          "output_type": "execute_result"
        }
      ],
      "source": [
        "# TC: O(n)\n",
        "# SC: O(n)\n",
        "def pre_smaller(arr):\n",
        "  n=len(arr)\n",
        "  st=[]\n",
        "  pse=[0]*n\n",
        "  for i in range(n):\n",
        "    while len(st)!=0 and st[-1]>arr[i]:\n",
        "      st.pop()\n",
        "    if len(st)==0:\n",
        "      pse[i]=-1\n",
        "    else:\n",
        "      pse[i]=st[-1]\n",
        "    st.append(arr[i])\n",
        "  return pse\n",
        "arr=[4,5,2,10,8]\n",
        "pre_smaller(arr)"
      ]
    },
    {
      "cell_type": "markdown",
      "source": [
        "### **Previous gratter Element**"
      ],
      "metadata": {
        "id": "FQSbUaFwsYZs"
      }
    },
    {
      "cell_type": "code",
      "source": [
        "def previous_gratter_element(arr):\n",
        "  n=len(arr)\n",
        "  ans=[-1]*n\n",
        "  for i in range(n):\n",
        "    for j in range(i-1,-1,-1):\n",
        "      if arr[i]<arr[j]:\n",
        "        ans[i]=arr[j]\n",
        "        break\n",
        "  return ans\n",
        "arr=[4,5,2,10,8]\n",
        "previous_gratter_element(arr)"
      ],
      "metadata": {
        "colab": {
          "base_uri": "https://localhost:8080/"
        },
        "id": "X1jfJb-8sXFk",
        "outputId": "3d55995c-c9e3-4958-8fba-bccafd64bddf"
      },
      "execution_count": null,
      "outputs": [
        {
          "output_type": "execute_result",
          "data": {
            "text/plain": [
              "[-1, -1, 5, -1, 10]"
            ]
          },
          "metadata": {},
          "execution_count": 22
        }
      ]
    },
    {
      "cell_type": "code",
      "source": [
        "def previous_gratter_element(arr):\n",
        "  n=len(arr)\n",
        "  ans=[-1]*n\n",
        "  stack=[]\n",
        "  for i in range(n):\n",
        "    if len(stack)!=0 and stack[-1]>=arr[i]:\n",
        "      ans[i]=stack[-1]\n",
        "    elif len(stack)!=0 and stack[-1]<arr[i]:\n",
        "      stack.append(arr[i])\n",
        "    stack.append(arr[i])\n",
        "  return ans\n",
        "arr=[4,5,2,10,8]\n",
        "previous_gratter_element(arr)"
      ],
      "metadata": {
        "colab": {
          "base_uri": "https://localhost:8080/"
        },
        "id": "d37mp-M90U_A",
        "outputId": "ec7ce6f9-f4a5-4c99-db1e-95a472c41ca1"
      },
      "execution_count": null,
      "outputs": [
        {
          "output_type": "execute_result",
          "data": {
            "text/plain": [
              "[-1, -1, 5, -1, 10]"
            ]
          },
          "metadata": {},
          "execution_count": 23
        }
      ]
    },
    {
      "cell_type": "code",
      "source": [
        "l=[]\n",
        "l.append((1,2))\n",
        "print(l[-1][1])\n",
        "for i in range(len(l)):\n",
        "  print(l[i][0])"
      ],
      "metadata": {
        "colab": {
          "base_uri": "https://localhost:8080/"
        },
        "id": "v80m_5vARDoc",
        "outputId": "dda92038-e277-49f0-adbe-7ce772c0a98c"
      },
      "execution_count": 12,
      "outputs": [
        {
          "output_type": "stream",
          "name": "stdout",
          "text": [
            "2\n",
            "1\n"
          ]
        }
      ]
    },
    {
      "cell_type": "markdown",
      "metadata": {
        "id": "vGafVpfL9myR"
      },
      "source": [
        "### **Next Smaller Element**"
      ]
    },
    {
      "cell_type": "code",
      "execution_count": null,
      "metadata": {
        "colab": {
          "base_uri": "https://localhost:8080/"
        },
        "id": "ic8uLI529sI6",
        "outputId": "4e999800-0d91-4a71-e432-02768ff2419e"
      },
      "outputs": [
        {
          "data": {
            "text/plain": [
              "[0, -1, 1, -1, -1]"
            ]
          },
          "execution_count": 64,
          "metadata": {},
          "output_type": "execute_result"
        }
      ],
      "source": [
        "# TC: O(2n)\n",
        "# SC: O(n)\n",
        "def monotonic(arr):\n",
        "  n=len(arr)\n",
        "  stack=[]\n",
        "  nge=[0]*len(arr)\n",
        "  for i in range(n-1,-1,-1):\n",
        "    while len(stack)!=0 and stack[-1]>=arr[i]:\n",
        "      stack.pop()\n",
        "    if len(stack)==0:\n",
        "      nge[i]=-1\n",
        "    else:\n",
        "      nge[i]=stack[-1]\n",
        "    stack.append(arr[i])\n",
        "  return nge\n",
        "arr=[6,0,8,1,3]\n",
        "monotonic(arr)"
      ]
    },
    {
      "cell_type": "markdown",
      "metadata": {
        "id": "0nVb4fmLAtgP"
      },
      "source": [
        "### **Trapping Rainwater**"
      ]
    },
    {
      "cell_type": "code",
      "execution_count": null,
      "metadata": {
        "colab": {
          "base_uri": "https://localhost:8080/"
        },
        "id": "KiqmSaBnXjR6",
        "outputId": "27736e90-9508-4c9e-db35-11b43ec952af"
      },
      "outputs": [
        {
          "data": {
            "text/plain": [
              "6"
            ]
          },
          "execution_count": 8,
          "metadata": {},
          "output_type": "execute_result"
        }
      ],
      "source": [
        "def trap(height=[]):\n",
        "  n=len(height)\n",
        "  total=0\n",
        "  for i in range(n-1):\n",
        "    #print(i)\n",
        "    left_high=max(height[0:i+1])\n",
        "    right_high=max(height[i+1:n+1])\n",
        "    #print(left_high,right_high)\n",
        "    if height[i]<left_high and height[i]<right_high:\n",
        "      total+=min(left_high,right_high)-height[i]\n",
        "  return total\n",
        "height = [0,1,0,2,1,0,1,3,2,1,2,1]\n",
        "#height = [4,2,0,3,2,5]\n",
        "trap(height)"
      ]
    },
    {
      "cell_type": "code",
      "execution_count": null,
      "metadata": {
        "colab": {
          "base_uri": "https://localhost:8080/"
        },
        "id": "-sRtGTGcGtm7",
        "outputId": "25b10add-8c48-4357-99e9-1b0ecac9faba"
      },
      "outputs": [
        {
          "data": {
            "text/plain": [
              "9"
            ]
          },
          "execution_count": 5,
          "metadata": {},
          "output_type": "execute_result"
        }
      ],
      "source": [
        "# TC: O(3n)\n",
        "# SC: O(2n)\n",
        "def trap(height=[]):\n",
        "  n=len(height)\n",
        "  total=0\n",
        "  pre_max=[0]*n\n",
        "  pre_max[0]=height[0]\n",
        "  for i in range(1,n):\n",
        "      pre_max[i]=max(pre_max[i-1],height[i])\n",
        "\n",
        "  suf_max=[0]*n\n",
        "  suf_max[n-1]=height[n-1]\n",
        "  for i in range(n-2,-1,-1):\n",
        "      suf_max[i]=max(suf_max[i+1],height[i])\n",
        "\n",
        "  for i in range(n):\n",
        "    #print(i)\n",
        "    left_high=pre_max[i]\n",
        "    right_high=suf_max[i]\n",
        "    #print(left_high,right_high)\n",
        "    if height[i]<left_high and height[i]<right_high:\n",
        "      total+=min(left_high,right_high)-height[i]\n",
        "  return total\n",
        "height = [0,1,0,2,1,0,1,3,2,1,2,1]\n",
        "height = [4,2,0,3,2,5]\n",
        "trap(height)"
      ]
    },
    {
      "cell_type": "code",
      "execution_count": null,
      "metadata": {
        "colab": {
          "base_uri": "https://localhost:8080/"
        },
        "id": "3CIBnW5UUW5m",
        "outputId": "32b1db6c-8c08-486c-c85c-46f45775f917"
      },
      "outputs": [
        {
          "data": {
            "text/plain": [
              "6"
            ]
          },
          "execution_count": 3,
          "metadata": {},
          "output_type": "execute_result"
        }
      ],
      "source": [
        "# TC: O(n)\n",
        "# SC: O(1)\n",
        "def trap(arr):\n",
        "  lmax=rmax=total=0\n",
        "  l=0\n",
        "  r=len(arr)-1\n",
        "  while l<r:\n",
        "    if arr[l]<=arr[r]:\n",
        "      if lmax>arr[l]:\n",
        "        total+=lmax-arr[l]\n",
        "      else:\n",
        "        lmax=arr[l]\n",
        "      l+=1\n",
        "    else:\n",
        "      if rmax>arr[r]:\n",
        "        total+=rmax-arr[r]\n",
        "      else:\n",
        "        rmax=arr[r]\n",
        "      r-=1\n",
        "  return total\n",
        "height = [0,1,0,2,1,0,1,3,2,1,2,1]\n",
        "#height = [4,2,0,3,2,5]\n",
        "trap(height)"
      ]
    },
    {
      "cell_type": "markdown",
      "metadata": {
        "id": "cSjscF8ZhGl6"
      },
      "source": [
        "### **Sum of Subarray Minimum**"
      ]
    },
    {
      "cell_type": "code",
      "execution_count": null,
      "metadata": {
        "colab": {
          "base_uri": "https://localhost:8080/"
        },
        "id": "OTSQUyTfUW8j",
        "outputId": "a2e1ae8e-9158-4ef0-a6f5-c8303133a779"
      },
      "outputs": [
        {
          "data": {
            "text/plain": [
              "17"
            ]
          },
          "execution_count": 40,
          "metadata": {},
          "output_type": "execute_result"
        }
      ],
      "source": [
        "arr = [3,1,2,4]\n",
        "def sub_min_sum(arr):\n",
        "  n=len(arr)\n",
        "  total=0\n",
        "  ans=[]\n",
        "  for i in range(n):\n",
        "    for j in range(i,n):\n",
        "      ans.append(arr[i:j+1])\n",
        "  for l in ans:\n",
        "    total+=min(l)\n",
        "  return total\n",
        "\n",
        "arr = [3,1,2,4]\n",
        "sub_min_sum(arr)"
      ]
    },
    {
      "cell_type": "code",
      "execution_count": null,
      "metadata": {
        "colab": {
          "base_uri": "https://localhost:8080/"
        },
        "id": "PogcWv9jUW_o",
        "outputId": "d1dece67-4055-4bba-a990-0b4548170d17"
      },
      "outputs": [
        {
          "data": {
            "text/plain": [
              "17"
            ]
          },
          "execution_count": 45,
          "metadata": {},
          "output_type": "execute_result"
        }
      ],
      "source": [
        "arr = [3,1,2,4]\n",
        "def sub_min_sum(arr):\n",
        "  n=len(arr)\n",
        "  total=0\n",
        "  for i in range(n):\n",
        "    for j in range(i,n):\n",
        "      total+=min(arr[i:j+1])\n",
        "  return total\n",
        "\n",
        "\n",
        "arr = [3,1,2,4]\n",
        "sub_min_sum(arr)"
      ]
    },
    {
      "cell_type": "markdown",
      "metadata": {
        "id": "moWF4u8riDZN"
      },
      "source": [
        "### **Aestroid Collisions**"
      ]
    },
    {
      "cell_type": "code",
      "execution_count": null,
      "metadata": {
        "colab": {
          "base_uri": "https://localhost:8080/"
        },
        "id": "aXR9Jc1hUXCQ",
        "outputId": "a100c527-934b-4ef7-8617-b83a1851e1e6"
      },
      "outputs": [
        {
          "data": {
            "text/plain": [
              "[-2, -1, 2, 1]"
            ]
          },
          "execution_count": 22,
          "metadata": {},
          "output_type": "execute_result"
        }
      ],
      "source": [
        "def asteroidCollision(asteroids):\n",
        "  st=[]\n",
        "  n=len(asteroids)\n",
        "  for i in range(n):\n",
        "      if asteroids[i]>0:\n",
        "          st.append(asteroids[i])\n",
        "      else:\n",
        "          if len(st)==0 or st[-1]<0:\n",
        "              st.append(asteroids[i])\n",
        "          else:\n",
        "              while len(st)!=0 and abs(st[-1])<= abs(asteroids[i]):\n",
        "                  st.pop()\n",
        "              else:\n",
        "                  if len(st)!=0 and st[-1]<0 and asteroids[i]<0:\n",
        "                      st.append(asteroids[i])\n",
        "                  else:\n",
        "                      i+=1\n",
        "  return st\n",
        "asteroids =[-2,-1,2,1]\n",
        "asteroidCollision(asteroids)"
      ]
    },
    {
      "cell_type": "code",
      "execution_count": null,
      "metadata": {
        "colab": {
          "base_uri": "https://localhost:8080/"
        },
        "id": "Ycg_WiTCUXFx",
        "outputId": "888a8a7b-2f95-4a77-8cf7-489fd8612603"
      },
      "outputs": [
        {
          "data": {
            "text/plain": [
              "[-2, -2, -2]"
            ]
          },
          "execution_count": 31,
          "metadata": {},
          "output_type": "execute_result"
        }
      ],
      "source": [
        "def asteroidCollision(asteroids):\n",
        "  st=[]\n",
        "  n=len(asteroids)\n",
        "  for i in range(n):\n",
        "      if asteroids[i]>0:\n",
        "          st.append(asteroids[i])\n",
        "      else:\n",
        "          while len(st)!=0 and st[-1]>0 and st[-1]< abs(asteroids[i]):\n",
        "            st.pop()\n",
        "          if len(st)!=0 and st[-1]==abs(asteroids[i]):\n",
        "            st.pop()\n",
        "          else:\n",
        "              if len(st)==0 or st[-1]<0:\n",
        "                st.append(asteroids[i])\n",
        "  return st\n",
        "asteroids =[-2,-2,1,-2]\n",
        "asteroidCollision(asteroids)"
      ]
    },
    {
      "cell_type": "markdown",
      "metadata": {
        "id": "0a2cN-q9hHmW"
      },
      "source": [
        "### **Sum of subarray ranges**"
      ]
    },
    {
      "cell_type": "code",
      "execution_count": null,
      "metadata": {
        "colab": {
          "base_uri": "https://localhost:8080/"
        },
        "id": "8PRgJpiehJ_F",
        "outputId": "ba7710a0-198b-44a9-84c9-5371a4f19cf6"
      },
      "outputs": [
        {
          "data": {
            "text/plain": [
              "59"
            ]
          },
          "execution_count": 6,
          "metadata": {},
          "output_type": "execute_result"
        }
      ],
      "source": [
        "\n",
        "def sub_arr_sum(arr):\n",
        "  n=len(arr)\n",
        "  ans=[]\n",
        "  for i in range(n):\n",
        "    for j in range(i,n):\n",
        "      ans.append(arr[i:j+1])\n",
        "  sum=0\n",
        "  for lst in ans:\n",
        "    sum+=max(lst)-min(lst)\n",
        "  return sum\n",
        "\n",
        "arr=[4,-2,-3,4,1]\n",
        "sub_arr_sum(arr)"
      ]
    },
    {
      "cell_type": "code",
      "execution_count": null,
      "metadata": {
        "colab": {
          "background_save": true,
          "base_uri": "https://localhost:8080/"
        },
        "id": "h5I2pDDphKCU",
        "outputId": "db434e07-60b4-4c4e-921c-805eda43cf30"
      },
      "outputs": [
        {
          "data": {
            "text/plain": [
              "59"
            ]
          },
          "execution_count": 1,
          "metadata": {},
          "output_type": "execute_result"
        }
      ],
      "source": [
        "def sub_arr_sum(arr):\n",
        "  n=len(arr)\n",
        "  ans=0\n",
        "  for i in range(n):\n",
        "    largest=arr[i]\n",
        "    smallest=arr[i]\n",
        "    for j in range(i+1,n):\n",
        "      largest=max(largest,arr[j])\n",
        "      smallest=min(smallest,arr[j])\n",
        "      ans+=(largest-smallest)\n",
        "  return ans\n",
        "arr=[4,-2,-3,4,1]\n",
        "sub_arr_sum(arr)"
      ]
    },
    {
      "cell_type": "code",
      "execution_count": null,
      "metadata": {
        "id": "CgwddHMrhKFq",
        "colab": {
          "base_uri": "https://localhost:8080/",
          "height": 35
        },
        "outputId": "375a9eb5-4e7d-4d43-d4af-33d0b8b3bffd"
      },
      "outputs": [
        {
          "output_type": "execute_result",
          "data": {
            "text/plain": [
              "'0'"
            ],
            "application/vnd.google.colaboratory.intrinsic+json": {
              "type": "string"
            }
          },
          "metadata": {},
          "execution_count": 5
        }
      ],
      "source": [
        "def removeKdigits(num,k):\n",
        "  st=[]\n",
        "  for i in range(len(num)):\n",
        "    while len(st)!=0 and k>0 and st[-1]>num[i]:\n",
        "      st.pop()\n",
        "      k-=1\n",
        "    st.append(num[i])\n",
        "  while k>0:\n",
        "    st.pop()\n",
        "    k-=1\n",
        "  if len(st)==0:\n",
        "    return '0'\n",
        "  res=''\n",
        "  while st:\n",
        "    res+=st[-1]\n",
        "    st.pop()\n",
        "  while len(res)!=0 and res[-1]=='0':\n",
        "    res=res[:-1]\n",
        "  ans=res[::-1]\n",
        "  if len(ans)==0:\n",
        "    return '0'\n",
        "  return ans\n",
        "num = \"10\"\n",
        "k = 2\n",
        "removeKdigits(num,k)\n"
      ]
    },
    {
      "cell_type": "markdown",
      "source": [
        "### **Sliding Window Maximum**"
      ],
      "metadata": {
        "id": "CrCURPGVJ9-B"
      }
    },
    {
      "cell_type": "code",
      "execution_count": null,
      "metadata": {
        "id": "ULUkeSfThKI7",
        "colab": {
          "base_uri": "https://localhost:8080/"
        },
        "outputId": "5e25ba91-aa79-44f1-8e9d-5d5d974b2485"
      },
      "outputs": [
        {
          "output_type": "execute_result",
          "data": {
            "text/plain": [
              "[3, 3, 5, 5, 6, 7]"
            ]
          },
          "metadata": {},
          "execution_count": 3
        }
      ],
      "source": [
        "# TC: O(n-k)*k\n",
        "# SC: O(n-k)\n",
        "def maxSlidingWindow(nums,k):\n",
        "  n=len(nums)\n",
        "  ans=[]\n",
        "  for i in range(n):\n",
        "    if i+k==n:\n",
        "      ans.append(max(nums[i:i+k]))\n",
        "      break\n",
        "    ans.append(max(nums[i:i+k]))\n",
        "\n",
        "  return ans\n",
        "\n",
        "nums = [1,3,-1,-3,5,3,6,7]\n",
        "k = 3\n",
        "maxSlidingWindow(nums,k)"
      ]
    },
    {
      "cell_type": "code",
      "execution_count": null,
      "metadata": {
        "id": "LjktVJJjhKLz",
        "colab": {
          "base_uri": "https://localhost:8080/"
        },
        "outputId": "fa877738-4cf7-49cd-c095-4e6c1b0a202d"
      },
      "outputs": [
        {
          "output_type": "execute_result",
          "data": {
            "text/plain": [
              "[3, 3, 5, 5, 6, 7]"
            ]
          },
          "metadata": {},
          "execution_count": 5
        }
      ],
      "source": [
        "# TC: O(n-k)*k\n",
        "# SC: O(n-k)\n",
        "def maxSlidingWindow(nums,k):\n",
        "  n=len(nums)\n",
        "  ans=[]\n",
        "  for i in range(n-k+1):\n",
        "    ans.append(max(nums[i:i+k]))\n",
        "  return ans\n",
        "\n",
        "nums = [1,3,-1,-3,5,3,6,7]\n",
        "k = 3\n",
        "maxSlidingWindow(nums,k)"
      ]
    },
    {
      "cell_type": "code",
      "execution_count": null,
      "metadata": {
        "id": "BpTjRRrfhKPQ",
        "colab": {
          "base_uri": "https://localhost:8080/"
        },
        "outputId": "11c569a4-7b9f-48fb-c68b-9cfa3fd043ce"
      },
      "outputs": [
        {
          "output_type": "execute_result",
          "data": {
            "text/plain": [
              "[3, 3, 5, 5, 6, 7]"
            ]
          },
          "metadata": {},
          "execution_count": 9
        }
      ],
      "source": [
        "# TC: O(n-k)*k\n",
        "# SC: O(n-k)\n",
        "def maxSlidingWindow(nums,k):\n",
        "  n=len(nums)\n",
        "  ans=[]\n",
        "  for i in range(n-k+1):\n",
        "    maxi=nums[i]\n",
        "    for j in range(i+k):\n",
        "      maxi=max(maxi,nums[j])\n",
        "    ans.append(maxi)\n",
        "  return ans\n",
        "nums = [1,3,-1,-3,5,3,6,7]\n",
        "k = 3\n",
        "maxSlidingWindow(nums,k)"
      ]
    },
    {
      "cell_type": "code",
      "source": [
        "# TC: O(2n)\n",
        "# SC:O(k)+ O(n-k)\n",
        "def maxSlidingWindow(nums,k):\n",
        "  n=len(nums)\n",
        "  ans=[]\n",
        "  dq=[]\n",
        "  for i in range(n):\n",
        "    if len(dq)!=0 and dq[0]<=i-k:\n",
        "      dq.remove(dq[0])\n",
        "    while len(dq)!=0 and nums[dq[-1]]<=nums[i]:\n",
        "      dq.pop()\n",
        "    dq.append(i)\n",
        "    if i>=k-1:\n",
        "      ans.append(nums[dq[0]])\n",
        "  return ans\n",
        "nums = [1,3,-1,-3,5,3,6,7]\n",
        "k = 3\n",
        "maxSlidingWindow(nums,k)"
      ],
      "metadata": {
        "colab": {
          "base_uri": "https://localhost:8080/"
        },
        "id": "a1p3KFwgNL0v",
        "outputId": "6205e1ab-5041-423a-d98f-9cda662b01ad"
      },
      "execution_count": null,
      "outputs": [
        {
          "output_type": "execute_result",
          "data": {
            "text/plain": [
              "[3, 3, 5, 5, 6, 7]"
            ]
          },
          "metadata": {},
          "execution_count": 13
        }
      ]
    },
    {
      "cell_type": "code",
      "source": [],
      "metadata": {
        "id": "XP2mB5gfNL3t"
      },
      "execution_count": null,
      "outputs": []
    },
    {
      "cell_type": "code",
      "source": [],
      "metadata": {
        "id": "6n01DiEMNL7X"
      },
      "execution_count": null,
      "outputs": []
    },
    {
      "cell_type": "markdown",
      "metadata": {
        "id": "AyTVp5TDo8yh"
      },
      "source": [
        "#**Queue Data Structure**"
      ]
    },
    {
      "cell_type": "markdown",
      "metadata": {
        "id": "wCYG4ce4uEAh"
      },
      "source": [
        "### **Implementation of Queue using list**"
      ]
    },
    {
      "cell_type": "code",
      "execution_count": null,
      "metadata": {
        "colab": {
          "base_uri": "https://localhost:8080/"
        },
        "id": "ZU5MYmq9JaEs",
        "outputId": "e6d15a71-28f7-484d-a626-8b5829b142f4"
      },
      "outputs": [
        {
          "name": "stdout",
          "output_type": "stream",
          "text": [
            "size of queue is :  3\n",
            "Front element is :  30\n",
            "Rare element is :  10\n",
            "size of queue is :  2\n",
            "Front element is :  30\n",
            "Rare element is :  20\n"
          ]
        }
      ],
      "source": [
        "class Queue:\n",
        "  def __init__(self):\n",
        "    self.data=[]\n",
        "  def is_empty(self):\n",
        "    return len(self.data)==None\n",
        "  def enqueue(self,item):\n",
        "    self.data.append(item)\n",
        "  def dequeue(self):\n",
        "    self.data=self.data[1:len(self.data)]\n",
        "    # Use self.data.pop(0)\n",
        "  def get_front(self):\n",
        "    if not self.is_empty():\n",
        "      return self.data[-1]\n",
        "    else:\n",
        "      raise IndexError(\"Queue is Empty\")\n",
        "  def get_rare(self):\n",
        "    if not self.is_empty():\n",
        "      return self.data[0]\n",
        "    else:\n",
        "      raise IndexError(\"Queue is Empty\")\n",
        "  def size(self):\n",
        "    return len(self.data)\n",
        "q=Queue()\n",
        "q.enqueue(10)\n",
        "q.enqueue(20)\n",
        "q.enqueue(30)\n",
        "print('size of queue is : ',q.size())\n",
        "print('Front element is : ',q.get_front())\n",
        "print('Rare element is : ',q.get_rare())\n",
        "q.dequeue()\n",
        "print('size of queue is : ',q.size())\n",
        "print('Front element is : ',q.get_front())\n",
        "print('Rare element is : ',q.get_rare())"
      ]
    },
    {
      "cell_type": "markdown",
      "metadata": {
        "id": "5aC02DQesP2T"
      },
      "source": [
        "### **Queue implementation using singly linked list concept**"
      ]
    },
    {
      "cell_type": "code",
      "execution_count": null,
      "metadata": {
        "colab": {
          "base_uri": "https://localhost:8080/"
        },
        "id": "UfjqliXkJaKi",
        "outputId": "96aa4e25-f00f-4b78-c88a-b7bf60ac043e"
      },
      "outputs": [
        {
          "name": "stdout",
          "output_type": "stream",
          "text": [
            "False\n",
            "size of queue is :  3\n",
            "Front element is :  30\n",
            "Rare element is :  10\n",
            "size of queue is :  2\n",
            "Front element is :  30\n",
            "Rare element is :  20\n"
          ]
        }
      ],
      "source": [
        "class Node:\n",
        "  def __init__(self,item=None,next=None):\n",
        "    self.item=item\n",
        "    self.next=next\n",
        "\n",
        "class Queue:\n",
        "  def __init__(self,start=None):\n",
        "    self.start=start\n",
        "  def is_empty(self):\n",
        "    return self.start==None\n",
        "  def enqueue(self,item):\n",
        "    n=Node(item)\n",
        "    temp=self.start\n",
        "    if not self.is_empty():\n",
        "      while temp.next!=None:\n",
        "        temp=temp.next\n",
        "      temp.next=n\n",
        "    else:\n",
        "      self.start=n\n",
        "  def dequeue(self):\n",
        "    if not self.is_empty():\n",
        "        self.start=self.start.next\n",
        "    else:\n",
        "      return IndexError('Queue is empty')\n",
        "  def get_front(self):\n",
        "    temp=self.start\n",
        "    if not self.is_empty():\n",
        "      while temp.next!=None:\n",
        "        temp=temp.next\n",
        "      return temp.item\n",
        "    else:\n",
        "      return IndexError('Queue is empty')\n",
        "  def get_rare(self):\n",
        "    if not self.is_empty():\n",
        "      return self.start.item\n",
        "    else:\n",
        "      return IndexError('Queue is empty')\n",
        "  def size(self):\n",
        "    cnt=0\n",
        "    temp=self.start\n",
        "    while temp!=None:\n",
        "      cnt+=1\n",
        "      temp=temp.next\n",
        "    return cnt\n",
        "\n",
        "q=Queue()\n",
        "q.enqueue(10)\n",
        "q.enqueue(20)\n",
        "q.enqueue(30)\n",
        "print(q.is_empty())\n",
        "print('size of queue is : ',q.size())\n",
        "print('Front element is : ',q.get_front())\n",
        "print('Rare element is : ',q.get_rare())\n",
        "q.dequeue()\n",
        "print('size of queue is : ',q.size())\n",
        "print('Front element is : ',q.get_front())\n",
        "print('Rare element is : ',q.get_rare())\n",
        "\n",
        "\n"
      ]
    },
    {
      "cell_type": "code",
      "execution_count": null,
      "metadata": {
        "colab": {
          "base_uri": "https://localhost:8080/"
        },
        "id": "JkpAXw-FJaOH",
        "outputId": "671a4d43-1d65-4cc2-b623-a455b551e01b"
      },
      "outputs": [
        {
          "name": "stdout",
          "output_type": "stream",
          "text": [
            "False\n",
            "size of queue is :  3\n",
            "Front element is :  10\n",
            "Rare element is :  30\n",
            "size of queue is :  2\n",
            "Front element is :  20\n",
            "Rare element is :  30\n"
          ]
        }
      ],
      "source": [
        "class Node:\n",
        "  def __init__(self,item=None,next=None):\n",
        "    self.item=item\n",
        "    self.next=next\n",
        "class Queue:\n",
        "  def __init__(self,front=None,rare=None):\n",
        "    self.front=front\n",
        "    self.rare=rare\n",
        "    self.item_count=0\n",
        "  def is_empty(self):\n",
        "    return self.front==None\n",
        "  def enqueue(self,data):\n",
        "    n=Node(data)\n",
        "    if self.is_empty():\n",
        "      self.front=n\n",
        "    else:\n",
        "      self.rare.next=n\n",
        "    self.rare=n\n",
        "    self.item_count+=1\n",
        "  def dequeue(self):\n",
        "    if self.is_empty():\n",
        "      raise IndexError(\" Empty Queue\")\n",
        "    elif self.front==self.rare:\n",
        "      self.front=None\n",
        "      self.rare=None\n",
        "    else:\n",
        "      self.front=self.front.next\n",
        "    self.item_count-=1\n",
        "\n",
        "  def get_front(self):\n",
        "    if self.is_empty():\n",
        "      raise IndexError(\" Empty Queue\")\n",
        "    else:\n",
        "      return self.front.item\n",
        "\n",
        "  def get_rare(self):\n",
        "    if self.is_empty():\n",
        "      raise IndexError(\" Empty Queue\")\n",
        "    else:\n",
        "      return self.rare.item\n",
        "\n",
        "  def size(self):\n",
        "    return self.item_count\n",
        "\n",
        "q=Queue()\n",
        "q.enqueue(10)\n",
        "q.enqueue(20)\n",
        "q.enqueue(30)\n",
        "print(q.is_empty())\n",
        "print('size of queue is : ',q.size())\n",
        "print('Front element is : ',q.get_front())\n",
        "print('Rare element is : ',q.get_rare())\n",
        "q.dequeue()\n",
        "print('size of queue is : ',q.size())\n",
        "print('Front element is : ',q.get_front())\n",
        "print('Rare element is : ',q.get_rare())"
      ]
    },
    {
      "cell_type": "code",
      "execution_count": null,
      "metadata": {
        "id": "f3tUTtnOJaWe"
      },
      "outputs": [],
      "source": []
    },
    {
      "cell_type": "code",
      "execution_count": null,
      "metadata": {
        "id": "Zj4WWYKkJaZd"
      },
      "outputs": [],
      "source": []
    },
    {
      "cell_type": "code",
      "execution_count": null,
      "metadata": {
        "id": "dnvt27-CJacc"
      },
      "outputs": [],
      "source": []
    },
    {
      "cell_type": "markdown",
      "metadata": {
        "id": "SRkRRa2d6cBt"
      },
      "source": [
        "### **Push and Pop Method**"
      ]
    },
    {
      "cell_type": "code",
      "execution_count": null,
      "metadata": {
        "colab": {
          "base_uri": "https://localhost:8080/"
        },
        "id": "BVNLpKos3XVL",
        "outputId": "48187b07-9d87-4bb5-c77e-73699d5a9ede"
      },
      "outputs": [
        {
          "name": "stdout",
          "output_type": "stream",
          "text": [
            "nadusuhdaM\n"
          ]
        }
      ],
      "source": [
        "s='Madhusudan'\n",
        "l=[]\n",
        "# Use push operation\n",
        "for i in s:\n",
        "  l.append(i)\n",
        "\n",
        "# Use pop operation\n",
        "rev=''\n",
        "for j in range(len(l)-1,-1,-1):\n",
        "  rev+=l.pop(j)\n",
        "print(rev)\n"
      ]
    },
    {
      "cell_type": "code",
      "execution_count": null,
      "metadata": {
        "colab": {
          "base_uri": "https://localhost:8080/"
        },
        "id": "_NzWEg-h3XYN",
        "outputId": "74eee1dc-4eb1-48ed-fb6f-aff72def94be"
      },
      "outputs": [
        {
          "name": "stdout",
          "output_type": "stream",
          "text": [
            "nadusuhdaM\n"
          ]
        }
      ],
      "source": [
        "s='Madhusudan'\n",
        "stack=[]\n",
        "# Use push operation\n",
        "for i in s:\n",
        "  stack.append(i)\n",
        "\n",
        "# Use pop operation\n",
        "rev=''\n",
        "for j in range(len(stack)):\n",
        "  rev+=stack.pop()\n",
        "print(rev)\n"
      ]
    },
    {
      "cell_type": "markdown",
      "metadata": {
        "id": "tJS4OtAq6lkV"
      },
      "source": [
        "### **isEmpty method**\n",
        "\n"
      ]
    },
    {
      "cell_type": "code",
      "execution_count": null,
      "metadata": {
        "colab": {
          "base_uri": "https://localhost:8080/"
        },
        "id": "sd24BXCC3XbN",
        "outputId": "6ed4d152-f7f0-456b-f213-ccea3232e245"
      },
      "outputs": [
        {
          "data": {
            "text/plain": [
              "False"
            ]
          },
          "execution_count": 18,
          "metadata": {},
          "output_type": "execute_result"
        }
      ],
      "source": [
        "# Check Stack is empty is not\n",
        "stack=[1]\n",
        "len(stack)==0"
      ]
    },
    {
      "cell_type": "code",
      "execution_count": null,
      "metadata": {
        "colab": {
          "base_uri": "https://localhost:8080/"
        },
        "id": "bSW_EdHg3Xd8",
        "outputId": "c3e4678f-4e8e-4767-9403-6f8c3ea01573"
      },
      "outputs": [
        {
          "data": {
            "text/plain": [
              "False"
            ]
          },
          "execution_count": 19,
          "metadata": {},
          "output_type": "execute_result"
        }
      ],
      "source": [
        "# Check Stack is empty is not\n",
        "stack=[1]\n",
        "not stack"
      ]
    },
    {
      "cell_type": "markdown",
      "metadata": {
        "id": "NzikEH0a60f5"
      },
      "source": [
        "### **Top element of stack**"
      ]
    },
    {
      "cell_type": "code",
      "execution_count": null,
      "metadata": {
        "colab": {
          "base_uri": "https://localhost:8080/"
        },
        "id": "ctw-I0Cn3Xgv",
        "outputId": "3cdd2f33-0932-4e3c-aaab-5183e951ec09"
      },
      "outputs": [
        {
          "name": "stdout",
          "output_type": "stream",
          "text": [
            "6\n"
          ]
        }
      ],
      "source": [
        "stack=[1,2,3,4,5,6]\n",
        "print(stack[-1])"
      ]
    },
    {
      "cell_type": "code",
      "execution_count": null,
      "metadata": {
        "id": "B59n2mYY3Xjd"
      },
      "outputs": [],
      "source": []
    },
    {
      "cell_type": "code",
      "execution_count": null,
      "metadata": {
        "id": "zwDupTTj3XmQ"
      },
      "outputs": [],
      "source": []
    },
    {
      "cell_type": "code",
      "execution_count": null,
      "metadata": {
        "id": "D6dHvwbN3XpR"
      },
      "outputs": [],
      "source": []
    },
    {
      "cell_type": "code",
      "execution_count": null,
      "metadata": {
        "id": "BKksRKAr3XsB"
      },
      "outputs": [],
      "source": []
    },
    {
      "cell_type": "code",
      "execution_count": null,
      "metadata": {
        "id": "EtEsIogv3Xu2"
      },
      "outputs": [],
      "source": []
    }
  ],
  "metadata": {
    "colab": {
      "provenance": []
    },
    "kernelspec": {
      "display_name": "Python 3",
      "name": "python3"
    },
    "language_info": {
      "name": "python"
    }
  },
  "nbformat": 4,
  "nbformat_minor": 0
}