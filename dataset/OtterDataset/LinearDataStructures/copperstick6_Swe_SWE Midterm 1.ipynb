{
 "cells": [
  {
   "cell_type": "markdown",
   "metadata": {},
   "source": [
    "# SWE Midterm 1"
   ]
  },
  {
   "cell_type": "code",
   "execution_count": 2,
   "metadata": {},
   "outputs": [
    {
     "name": "stdout",
     "output_type": "stream",
     "text": [
      "Nothing to be done\n"
     ]
    }
   ],
   "source": [
    "if __name__ == \"__main__\":\n",
    "    print(\"Nothing to be done\")"
   ]
  },
  {
   "cell_type": "markdown",
   "metadata": {},
   "source": [
    "All this code does is check environment variable defined by Python to see if this program is the program being run"
   ]
  },
  {
   "cell_type": "markdown",
   "metadata": {},
   "source": [
    "Many ways to run a program:  \n",
    "You can directly invoke Python on the file as such: `python nameoffile.py`  \n",
    "Or, you can change the python program to be an executable via `chmod ugo+x nameoffile.py` and then run the program as `./nameoffile.py`  \n",
    "`#!/usr/bin/env python3` defines it as a python program for running as an executable.   \n",
    "Or you can import the file as a package while running the python interpreter like `import nameoffile`"
   ]
  },
  {
   "cell_type": "markdown",
   "metadata": {},
   "source": [
    "## Python Division Operators"
   ]
  },
  {
   "cell_type": "markdown",
   "metadata": {},
   "source": [
    "Python has two division operators:\n",
    "1. True division: /, always returns a float\n",
    "2. Floor division: //, always returns the type of the input"
   ]
  },
  {
   "cell_type": "markdown",
   "metadata": {},
   "source": [
    "## Assertions"
   ]
  },
  {
   "cell_type": "code",
   "execution_count": 9,
   "metadata": {},
   "outputs": [
    {
     "name": "stdout",
     "output_type": "stream",
     "text": [
      "Assertions.py\n",
      "Done.\n"
     ]
    }
   ],
   "source": [
    "def cycle_length (n: int) -> int :\n",
    "    assert n > 0\n",
    "    c = 1\n",
    "    while n > 1 :\n",
    "        if (n % 2) == 0 :\n",
    "            n = (n // 2)\n",
    "        else :\n",
    "            n = (3 * n) + 1\n",
    "        c += 1\n",
    "    assert c > 0\n",
    "    return c\n",
    "\n",
    "def test () :\n",
    "    assert cycle_length( 1) == 1\n",
    "    assert cycle_length( 5) == 6\n",
    "    assert cycle_length(10) == 7\n",
    "\n",
    "if __name__ == \"__main__\" : # pragma: no cover\n",
    "    print(\"Assertions.py\")\n",
    "    test()\n",
    "    print(\"Done.\")"
   ]
  },
  {
   "cell_type": "markdown",
   "metadata": {},
   "source": [
    "Assertions are good for precondition and postcondition checks.  \n",
    "They are NOT good for testing, or user error"
   ]
  },
  {
   "cell_type": "markdown",
   "metadata": {},
   "source": [
    "REPL: \n",
    "Read, eval, print, loop\n",
    "1. Run the code, confirm success\n",
    "2. Fix the tests, maybe write more tests\n",
    "3. Run the code, confirm failure\n",
    "4. Fix the code\n",
    "5. Run the code, confirm success"
   ]
  },
  {
   "cell_type": "markdown",
   "metadata": {},
   "source": [
    "## About Collatz"
   ]
  },
  {
   "cell_type": "markdown",
   "metadata": {},
   "source": [
    "Unit tests test individual parts of the solution.  \n",
    "Acceptance tests test the overall behavior of the program  \n",
    "Lazy cache: caches in response to reads   \n",
    "Eager cache: caches before reads"
   ]
  },
  {
   "cell_type": "markdown",
   "metadata": {},
   "source": [
    "## Unit Tests"
   ]
  },
  {
   "cell_type": "markdown",
   "metadata": {},
   "source": [
    "Unit tests don't crash the code"
   ]
  },
  {
   "cell_type": "markdown",
   "metadata": {},
   "source": [
    "# Testing & Meta-caches"
   ]
  },
  {
   "cell_type": "markdown",
   "metadata": {},
   "source": [
    "Black box vs white box testing:\n",
    "1. Black box refers to a situation in which you can only look at the input and output, you don't know the inner workings\n",
    "2. White Box refers to a situation in which you know everything (I/O and internals)"
   ]
  },
  {
   "cell_type": "markdown",
   "metadata": {},
   "source": [
    "## Communicating with functions"
   ]
  },
  {
   "cell_type": "markdown",
   "metadata": {},
   "source": [
    "Communication between functions can occur throuhgh the following:\n",
    "1. Use the return mechanism\n",
    "2. Use a global variable\n",
    "3. Use a parameter by reference"
   ]
  },
  {
   "cell_type": "markdown",
   "metadata": {},
   "source": [
    "## Exceptions"
   ]
  },
  {
   "cell_type": "code",
   "execution_count": 13,
   "metadata": {},
   "outputs": [
    {
     "name": "stdout",
     "output_type": "stream",
     "text": [
      "Exceptions.py\n",
      "Done.\n"
     ]
    }
   ],
   "source": [
    "def f (b) :\n",
    "    if b :\n",
    "        raise NameError(\"abc\")\n",
    "    return 0\n",
    "\n",
    "def test1 () :\n",
    "    try :\n",
    "        assert f(False) == 0\n",
    "    except NameError :       # pragma: no cover\n",
    "        assert False\n",
    "    else :                   # no exception vs. raised and handled, but not with break, continue, return\n",
    "        pass\n",
    "    finally :                # always, even with break, continue, return\n",
    "        pass\n",
    "\n",
    "def test2 () :\n",
    "    try :\n",
    "        assert f(True) == 1\n",
    "        assert False                         # pragma: no cover\n",
    "    except NameError as e :\n",
    "        assert type(e)      is NameError\n",
    "        assert type(e.args) is tuple\n",
    "        assert len(e.args)  ==     1\n",
    "        assert e.args       is not (\"abc\",)\n",
    "        assert e.args       ==     (\"abc\",)\n",
    "    else :                                   # no exception vs. raised and handled, but not with break, continue, return\n",
    "        assert False                         # pragma: no cover\n",
    "    finally :                                # always, even with break, continue, return\n",
    "        pass\n",
    "\n",
    "    assert issubclass(NameError,     Exception)\n",
    "    assert issubclass(Exception,     BaseException)\n",
    "    assert issubclass(BaseException, object)\n",
    "\n",
    "def main () :\n",
    "    print(\"Exceptions.py\")\n",
    "    for i in range(2) :\n",
    "        eval(\"test\" + str(i + 1) + \"()\")\n",
    "    print(\"Done.\")\n",
    "\n",
    "if __name__ == \"__main__\" : # pragma: no cover\n",
    "    main()"
   ]
  },
  {
   "cell_type": "markdown",
   "metadata": {},
   "source": [
    "Exceptions extend BaseException in Python, are of type tuple, and have an argument that shows the parameter passed into the error raised."
   ]
  },
  {
   "cell_type": "markdown",
   "metadata": {},
   "source": [
    "Three scenarios:\n",
    "1. No exception was thrown, no catch block was run\n",
    "2. an exception was thrown, caught in the caller, only catch code can run next, followed by normal code again\n",
    "3. an exception was thrown, not caught in the caller, leading us to look for the next caller of the caller"
   ]
  },
  {
   "cell_type": "markdown",
   "metadata": {},
   "source": [
    "## Equality (== vs is)"
   ]
  },
  {
   "cell_type": "markdown",
   "metadata": {},
   "source": [
    "Is: Identity check, checks the underlying pointers   \n",
    "==: Content check, checks the stuff being compared rather than the pointers"
   ]
  },
  {
   "cell_type": "markdown",
   "metadata": {},
   "source": [
    "## Types"
   ]
  },
  {
   "cell_type": "markdown",
   "metadata": {},
   "source": [
    "Mutability refers to whether an object can or cannot be modified.  \n",
    "Mutability is important in that it helps you understand the the process of object creation/deletion.  \n",
    "If an object is immutable, in order to modify it, you have to create a copy and modify the copy and set the object equal to the copy and throw away the original item. This is clearly inefficient.  \n",
    "**COMMON MUTABLE TYPES**  \n",
    "list(), set(), dict(), classes, class instances  \n",
    "**COMMON IMMUTABLES**  \n",
    "int(), float(), str(), complex(), tuple(), frozenset()  \n",
    "**UNHASHABLE MUTABLES**  \n",
    "list(), set(), dict()   \n",
    "This means that these cannot be used in sets, frozenset, or dicts.  \n",
    "**HASHABLE IMMUTABLES**   \n",
    "int, bool, float, str, tuple, frozenset"
   ]
  },
  {
   "cell_type": "code",
   "execution_count": 25,
   "metadata": {
    "collapsed": true
   },
   "outputs": [],
   "source": [
    "def test6 () :\n",
    "    a = list()\n",
    "    assert a          == []\n",
    "    a = [2, 3, 4]\n",
    "    assert a          == [2, 3, 4]\n",
    "    assert type(a)    is list\n",
    "    assert type(list) is type\n",
    "test6()"
   ]
  },
  {
   "cell_type": "markdown",
   "metadata": {},
   "source": [
    "Lists are **mutable**, which means that any change to the list does not change the underlying identity of that list.   \n",
    "Adding to the back is amortized constant. Adding to the middle or the front is always constant. Adding to the back is amortized constant, because the underlying data structure under the list is an array, and it needs to expand sometimes out of its allocated space, because you might be adding to many items. So it copies the old list into a bigger array. This cost is split across all the adds performed.  \n",
    "Removing from the back is always constant, removing from the front or in the middle is always linear\n"
   ]
  },
  {
   "cell_type": "code",
   "execution_count": 16,
   "metadata": {},
   "outputs": [],
   "source": [
    "from collections import deque\n",
    "from typing      import Dict, FrozenSet, List, Set, Tuple\n",
    "from types       import FunctionType\n",
    "\n",
    "def test4 () :\n",
    "    c = complex()\n",
    "    assert c             == 0 + 0j\n",
    "    c = complex(2, 3)\n",
    "    assert c             == 2 + 3j\n",
    "    assert type(c)       is complex\n",
    "    assert type(complex) is type\n",
    "test4()"
   ]
  },
  {
   "cell_type": "markdown",
   "metadata": {},
   "source": [
    "Complex is a built in python type that contains a real and imaginary part"
   ]
  },
  {
   "cell_type": "code",
   "execution_count": 17,
   "metadata": {
    "collapsed": true
   },
   "outputs": [],
   "source": [
    "def test7 () :\n",
    "    u = tuple()\n",
    "    assert u           == ()\n",
    "    u = (2, \"abc\", 3.45)\n",
    "    assert u           == (2, \"abc\", 3.45)\n",
    "    assert type(u)     is tuple\n",
    "    assert type(tuple) is type\n",
    "    \n",
    "test7()"
   ]
  },
  {
   "cell_type": "markdown",
   "metadata": {},
   "source": [
    "Tuple is a sequence of **immutable** Python objects. **This means that you cannot update or change the values of tuple objects.**  \n",
    "An empty tuple is declared with the following: `mynewtuple = ();`"
   ]
  },
  {
   "cell_type": "code",
   "execution_count": 19,
   "metadata": {
    "collapsed": true
   },
   "outputs": [],
   "source": [
    "def test8 () :\n",
    "    x = set()\n",
    "    assert x         == set()     # not {}\n",
    "    x = {2, 3, 4}\n",
    "    assert x         == {2, 3, 4}\n",
    "    assert type(x)   is set\n",
    "    assert type(set) is type\n",
    "test8()"
   ]
  },
  {
   "cell_type": "markdown",
   "metadata": {},
   "source": [
    "Python sets are mutable. An empty set must be declared using `set()`. Using `{}` declares a new dictionary. Sets cannot have duplicates and you cannot change the keys."
   ]
  },
  {
   "cell_type": "code",
   "execution_count": 20,
   "metadata": {
    "collapsed": true
   },
   "outputs": [],
   "source": [
    "def test9 () :\n",
    "    y = frozenset()\n",
    "    assert y               == frozenset()\n",
    "    y = frozenset((2, 3, 4))\n",
    "    assert y               == frozenset([2, 3, 4])\n",
    "    assert type(y)         is frozenset\n",
    "    assert type(frozenset) is type\n",
    "test9()"
   ]
  },
  {
   "cell_type": "markdown",
   "metadata": {},
   "source": [
    "Frozen set is an **immutable** version of the set. While elements of the set can be modified, elements of a frozen set **remains the same**."
   ]
  },
  {
   "cell_type": "code",
   "execution_count": 24,
   "metadata": {
    "collapsed": true
   },
   "outputs": [],
   "source": [
    "def test11 () :\n",
    "    q = deque()\n",
    "    assert q           == deque()\n",
    "    q = deque((2, 3, 4))\n",
    "    assert q           == deque((2, 3, 4))\n",
    "    assert type(q)     is deque\n",
    "    assert type(deque) is type\n",
    "\n",
    "    \n",
    "test11()"
   ]
  },
  {
   "cell_type": "markdown",
   "metadata": {},
   "source": [
    "Deque is a **mutable** iterable object that contains properties of a stack and queue in that it has O(1) removal from the front and the back.  It is a doubly linked list. Indexing is linear."
   ]
  },
  {
   "cell_type": "code",
   "execution_count": 22,
   "metadata": {
    "collapsed": true
   },
   "outputs": [],
   "source": [
    "def test12 () :\n",
    "    def g (v) :\n",
    "        return v + 1\n",
    "    assert type(g)            is FunctionType\n",
    "    assert type(FunctionType) is type\n",
    "\n",
    "test12()"
   ]
  },
  {
   "cell_type": "markdown",
   "metadata": {},
   "source": [
    "Functions have a type too!  \n",
    "A function that takes a function as an argument or returns a function is called a **higher order function**"
   ]
  },
  {
   "cell_type": "code",
   "execution_count": 23,
   "metadata": {
    "collapsed": true
   },
   "outputs": [],
   "source": [
    "def test14 () :\n",
    "    class A :\n",
    "        def __init__ (self, i, f) :\n",
    "            self.i = i\n",
    "            self.f = f\n",
    "\n",
    "    z = A(2, 3.45)\n",
    "    assert z       != A(2, 3.45)\n",
    "    assert type(z) is A\n",
    "    assert type(A) is type\n",
    "\n",
    "    assert isinstance(z, A)\n",
    "    assert isinstance(z, object)\n",
    "\n",
    "    assert issubclass(A, object)\n",
    "\n",
    "    assert type(type) is type\n",
    "    \n",
    "test14()"
   ]
  },
  {
   "cell_type": "markdown",
   "metadata": {},
   "source": [
    "The first assertion doesn't work because `A(2, 3.45)` creates a new object and since the class doesn't override the default comparator, Python will default to comparing addresses, and they are different.  "
   ]
  },
  {
   "cell_type": "markdown",
   "metadata": {},
   "source": [
    "## Operators"
   ]
  },
  {
   "cell_type": "markdown",
   "metadata": {},
   "source": [
    "L-values vs R-values    \n",
    "If you are on the left side of the assignment, you are a l-value. Otherwise, you are an r-value.   \n",
    "The + operator takes two r-values. It is an expression and cannot stand alone.   \n",
    "The += operator takes an l-value on the left, and an r-value on the right. It is a statement and can stand alone. In python, it returns nothing.  \n",
    "List's += takes an iterable on the right. List's + takes another list.  \n",
    "Tuple's += and + takes another tuple.  \n",
    "x+=y and x = x + y are different for list."
   ]
  },
  {
   "cell_type": "markdown",
   "metadata": {},
   "source": [
    "## Iterators"
   ]
  },
  {
   "cell_type": "code",
   "execution_count": 26,
   "metadata": {},
   "outputs": [
    {
     "name": "stdout",
     "output_type": "stream",
     "text": [
      "<class 'list'>\n",
      "2\n",
      "<class 'set'>\n",
      "<class 'set_iterator'>\n",
      "2\n",
      "3\n",
      "4\n",
      "<class 'range'>\n",
      "<class 'range_iterator'>\n",
      "2\n",
      "3\n",
      "4\n"
     ]
    }
   ],
   "source": [
    "a = [2, 3, 4]\n",
    "print(type(a)) # list\n",
    "print(a[0])\n",
    "\n",
    "a = {2, 3, 4}\n",
    "print(type(a)) # set\n",
    "p = iter(a)\n",
    "print(type(p)) # set iterator\n",
    "print(next(p)) # maybe 2\n",
    "print(next(p)) # maybe 3\n",
    "print(next(p)) # maybe 4\n",
    "\n",
    "a = range(2, 5)\n",
    "print(type(a)) # range\n",
    "p = iter(a)\n",
    "print(type(p)) # range iterator\n",
    "print(next(p)) # 2\n",
    "print(next(p)) # 3\n",
    "print(next(p)) # 4"
   ]
  },
  {
   "cell_type": "markdown",
   "metadata": {},
   "source": [
    "Iterators are used to iterate over an iterable. You can get an iterator by calling iter() on an iterable. You can then use next() on the iterator to iterate over objects. The iterator raises a StopIteration when it reaches the end of the iterable"
   ]
  },
  {
   "cell_type": "markdown",
   "metadata": {},
   "source": [
    "## Reduce Function"
   ]
  },
  {
   "cell_type": "code",
   "execution_count": 32,
   "metadata": {},
   "outputs": [
    {
     "name": "stdout",
     "output_type": "stream",
     "text": [
      "9\n"
     ]
    }
   ],
   "source": [
    "from operator import add, mul\n",
    "import functools\n",
    "a = [2, 3, 4]\n",
    "print(functools.reduce(add, a)) # 9"
   ]
  },
  {
   "cell_type": "code",
   "execution_count": 35,
   "metadata": {},
   "outputs": [
    {
     "name": "stdout",
     "output_type": "stream",
     "text": [
      "Reduce.py\n",
      "Done.\n"
     ]
    }
   ],
   "source": [
    "from functools import reduce\n",
    "from operator  import add, mul, sub\n",
    "\n",
    "def test1 () :\n",
    "    assert reduce(add,  [2, 3, 4], 0) == 9\n",
    "\n",
    "def test2 () :\n",
    "    assert reduce(mul,  (2, 3, 4), 1) == 24\n",
    "\n",
    "def test3 () :\n",
    "    assert reduce(sub,  {2, 3, 4}, 2) == -7\n",
    "\n",
    "def test4 () :\n",
    "    assert reduce(None, [],        3) == 3\n",
    "\n",
    "def main () :\n",
    "    for n in range(4) :\n",
    "        eval(\"test\" + str(n + 1) + \"()\")\n",
    "\n",
    "if __name__ == \"__main__\" : # pragma: no cover\n",
    "    print(\"Reduce.py\")\n",
    "    main()\n",
    "    print(\"Done.\")"
   ]
  },
  {
   "cell_type": "markdown",
   "metadata": {},
   "source": [
    "Reduce takes in a binary function, an iterable, and a seed (i.e. starting value)"
   ]
  },
  {
   "cell_type": "markdown",
   "metadata": {},
   "source": [
    "## Iterables"
   ]
  },
  {
   "cell_type": "markdown",
   "metadata": {},
   "source": [
    "Iterables are **NOT EXHAUSTIBLE**, but **ITERATORS ARE EXHAUSTIBLE**.   \n",
    "Iterators are all constant time, constant space, since they are lazy (accommodate infinite structures)"
   ]
  },
  {
   "cell_type": "code",
   "execution_count": 37,
   "metadata": {
    "collapsed": true
   },
   "outputs": [],
   "source": [
    "from itertools import count"
   ]
  },
  {
   "cell_type": "code",
   "execution_count": 39,
   "metadata": {
    "collapsed": true
   },
   "outputs": [],
   "source": [
    "def test1 () :\n",
    "    a = [2, 3, 4]\n",
    "    assert type(a) is list\n",
    "    assert not hasattr(a, \"__next__\")\n",
    "    assert     hasattr(a, \"__iter__\")\n",
    "    s = 0\n",
    "    for v in a :\n",
    "        s += v\n",
    "    assert s == 9\n",
    "test1()"
   ]
  },
  {
   "cell_type": "markdown",
   "metadata": {},
   "source": [
    "You can call iter on a list, but not next."
   ]
  },
  {
   "cell_type": "code",
   "execution_count": 43,
   "metadata": {},
   "outputs": [
    {
     "name": "stdout",
     "output_type": "stream",
     "text": [
      "[2, 3, 4]\n"
     ]
    }
   ],
   "source": [
    "def test2 () :\n",
    "    a = [2, 3, 4]\n",
    "    for v in a :\n",
    "        v += 1            # ?\n",
    "    assert a == [2, 3, 4]\n",
    "    print(a)\n",
    "test2()"
   ]
  },
  {
   "cell_type": "markdown",
   "metadata": {},
   "source": [
    "We're iterating through the array, but the act of iterating through the array does not exhaust it."
   ]
  },
  {
   "cell_type": "code",
   "execution_count": 46,
   "metadata": {},
   "outputs": [
    {
     "name": "stdout",
     "output_type": "stream",
     "text": [
      "[[2], [3], [4]]\n",
      "[[2, 5], [3, 5], [4, 5]]\n"
     ]
    }
   ],
   "source": [
    "def test3 () :\n",
    "    a = [[2], [3], [4]]\n",
    "    print(a)\n",
    "    for v in a :\n",
    "        v += (5,)                        # ?\n",
    "    assert a == [[2, 5], [3, 5], [4, 5]]\n",
    "    print(a)\n",
    "test3()"
   ]
  },
  {
   "cell_type": "markdown",
   "metadata": {},
   "source": [
    "As we mentioned before, list's += handles all iterables. Only the + operator only takes lists. Since a tuple is an iterable, list's += operator will handle it appropriately. In this case, it appends it to the list. This is also possible, because lists are mutable, so since v modifies every item in a, the modification will be reflected in a as well (modifies what the element in a is pointing to)."
   ]
  },
  {
   "cell_type": "code",
   "execution_count": 48,
   "metadata": {},
   "outputs": [
    {
     "name": "stdout",
     "output_type": "stream",
     "text": [
      "(2, 5)\n",
      "(3, 5)\n",
      "(4, 5)\n"
     ]
    }
   ],
   "source": [
    "def test4 () :\n",
    "    a = [(2,), (3,), (4,)]\n",
    "    for v in a :\n",
    "        v += (5,)                  # ?\n",
    "        print(v)\n",
    "    assert a == [(2,), (3,), (4,)]\n",
    "test4()"
   ]
  },
  {
   "cell_type": "markdown",
   "metadata": {},
   "source": [
    "Tuples are immutable, and thus it made a copy and modified the copy."
   ]
  },
  {
   "cell_type": "code",
   "execution_count": 49,
   "metadata": {},
   "outputs": [
    {
     "name": "stdout",
     "output_type": "stream",
     "text": [
      "abcx\n",
      "defx\n",
      "ghix\n"
     ]
    }
   ],
   "source": [
    "def test5 () :\n",
    "    a = [\"abc\", \"def\", \"ghi\"]\n",
    "    for v in a :\n",
    "        v += \"x\"                      # ?\n",
    "        print(v)\n",
    "    assert a == [\"abc\", \"def\", \"ghi\"]\n",
    "test5()"
   ]
  },
  {
   "cell_type": "markdown",
   "metadata": {},
   "source": [
    "Strings are immutable, so it made a copy, but didn't modify the original string."
   ]
  },
  {
   "cell_type": "code",
   "execution_count": 51,
   "metadata": {
    "collapsed": true
   },
   "outputs": [],
   "source": [
    "def test6 () :\n",
    "    a = [[2, \"abc\"], (3, \"def\"), [4, \"ghi\"]]\n",
    "    s = 0\n",
    "    for u, _ in a :\n",
    "        s += u\n",
    "    assert s == 9\n",
    "test6()"
   ]
  },
  {
   "cell_type": "markdown",
   "metadata": {},
   "source": [
    "Multiple selectors, u selected the key and added it."
   ]
  },
  {
   "cell_type": "code",
   "execution_count": 52,
   "metadata": {
    "collapsed": true
   },
   "outputs": [],
   "source": [
    "def test7 () :\n",
    "    x = {2, 3, 4}\n",
    "    assert type(x) is set\n",
    "    assert not hasattr(x, \"__next__\")\n",
    "    assert     hasattr(x, \"__iter__\")\n",
    "    s = 0\n",
    "    for v in x :                      # order not guaranteed\n",
    "        s += v\n",
    "    assert s == 9\n",
    "test7()"
   ]
  },
  {
   "cell_type": "markdown",
   "metadata": {},
   "source": [
    "When iterating through a set, the ordering specified during creation is not guaranteed."
   ]
  },
  {
   "cell_type": "code",
   "execution_count": 53,
   "metadata": {
    "collapsed": true
   },
   "outputs": [],
   "source": [
    "def test8 () :\n",
    "    d = {2: \"abc\", 3: \"def\", 4: \"ghi\"} # dict\n",
    "    assert type(d) is dict\n",
    "    assert not hasattr(d, \"__next__\")\n",
    "    assert     hasattr(d, \"__iter__\")\n",
    "    s = 0\n",
    "    for k in d :                          # order not guaranteed\n",
    "        s += k\n",
    "    assert s == 9"
   ]
  },
  {
   "cell_type": "markdown",
   "metadata": {},
   "source": [
    "Similar to the set. Ordering not guaranteed, based on hashing algorithm."
   ]
  },
  {
   "cell_type": "code",
   "execution_count": 98,
   "metadata": {},
   "outputs": [
    {
     "name": "stdout",
     "output_type": "stream",
     "text": [
      "dict_keys([2, 3])\n",
      "dict_keys([2, 3, 4])\n"
     ]
    }
   ],
   "source": [
    "def test9 () :\n",
    "    d = {2: \"abc\", 3: \"def\"}\n",
    "    k1 = d.keys()\n",
    "    assert str(type(k1)) == \"<class 'dict_keys'>\"\n",
    "    assert not hasattr(k1, \"__next__\")\n",
    "    assert     hasattr(k1, \"__iter__\")\n",
    "    assert set(k1) == {2, 3}\n",
    "    assert set(k1) == {2, 3}\n",
    "    k2 = d.keys()\n",
    "    assert k1 is not k2\n",
    "    print(k1)\n",
    "    d[4] = \"ghi\"\n",
    "    print(k1)\n",
    "    assert d == {2: \"abc\", 3: \"def\", 4: \"ghi\"}\n",
    "    assert set(k1) == {2, 3, 4}\n",
    "    assert set(k1) == {2, 3, 4}\n",
    "test9()"
   ]
  },
  {
   "cell_type": "markdown",
   "metadata": {},
   "source": [
    "When you call keys, it creates a new object of class dict_keys, which is clearly iterable. It also clearly creates a copy of keys in the dictionary, which is why the is operator does not work."
   ]
  },
  {
   "cell_type": "code",
   "execution_count": 56,
   "metadata": {
    "collapsed": true
   },
   "outputs": [],
   "source": [
    "def test12 () :\n",
    "    r = range(10)\n",
    "    assert type(r) is range\n",
    "    assert not hasattr(r, \"__next__\")\n",
    "    assert     hasattr(r, \"__iter__\")\n",
    "    assert list(r) == [0, 1, 2, 3, 4, 5, 6, 7, 8, 9]\n",
    "    assert list(r) == [0, 1, 2, 3, 4, 5, 6, 7, 8, 9]\n",
    "test12()"
   ]
  },
  {
   "cell_type": "markdown",
   "metadata": {},
   "source": [
    "range() creates a new range object that is iterable and can be cast to a list"
   ]
  },
  {
   "cell_type": "code",
   "execution_count": 58,
   "metadata": {},
   "outputs": [],
   "source": [
    "r = range(2, 10, 2)\n",
    "assert list(r) == [2, 4, 6, 8]"
   ]
  },
  {
   "cell_type": "markdown",
   "metadata": {},
   "source": [
    "Range can take three parameters, start value, end value, and increment by amount"
   ]
  },
  {
   "cell_type": "code",
   "execution_count": 60,
   "metadata": {
    "collapsed": true
   },
   "outputs": [],
   "source": [
    "def test17 () :\n",
    "    r = range(15)\n",
    "    s = 0\n",
    "    for v in r :\n",
    "        if v == 10 :\n",
    "            break\n",
    "        s += v\n",
    "    else :           # else clause in a for loop\n",
    "        assert False # executes when the loop terminates normally\n",
    "    assert s == 45\n",
    "test17()"
   ]
  },
  {
   "cell_type": "code",
   "execution_count": 62,
   "metadata": {},
   "outputs": [
    {
     "name": "stdout",
     "output_type": "stream",
     "text": [
      "<class 'itertools.count'>\n"
     ]
    }
   ],
   "source": [
    "def test18 () :\n",
    "    c = count()                          # 0, 1, 2, ...\n",
    "    print(type(c))\n",
    "    assert     hasattr(c, \"__next__\")\n",
    "    assert     hasattr(c, \"__iter__\")\n",
    "    assert not hasattr(c, \"__getitem__\")\n",
    "    assert iter(c) is c\n",
    "    for v in c :\n",
    "        assert v >= 0\n",
    "        if v == 10 :\n",
    "            break\n",
    "    for v in c :\n",
    "        assert v > 10\n",
    "        if v == 20 :\n",
    "            break\n",
    "test18()"
   ]
  },
  {
   "cell_type": "markdown",
   "metadata": {},
   "source": [
    "count() is iterable, and is itself an iterator. It also goes infinitely. Also, it's mutable."
   ]
  },
  {
   "cell_type": "code",
   "execution_count": 63,
   "metadata": {
    "collapsed": true
   },
   "outputs": [],
   "source": [
    "def test19 () :\n",
    "    c = count(3, 2) # 3, 5, 7, 9, ...\n",
    "    for v in c :\n",
    "        assert v >= 3\n",
    "        if v > 10 :\n",
    "            break\n",
    "test19()"
   ]
  },
  {
   "cell_type": "markdown",
   "metadata": {},
   "source": [
    "Count also supports implementing by a factor and a start point"
   ]
  },
  {
   "cell_type": "code",
   "execution_count": 64,
   "metadata": {
    "collapsed": true
   },
   "outputs": [],
   "source": [
    "def test20 () :\n",
    "    z = zip([2, 3], [4, 5, 6])\n",
    "    assert     hasattr(z, \"__next__\")\n",
    "    assert     hasattr(z, \"__iter__\")\n",
    "    assert not hasattr(z, \"__getitem__\")\n",
    "    assert iter(z) is z\n",
    "    assert list(z) == [(2, 4), (3, 5)]\n",
    "    assert list(z) == []\n",
    "\n",
    "def test21 () :\n",
    "    z = zip([2, 3], count())\n",
    "    assert list(z) == [(2, 0), (3, 1)]\n",
    "    assert list(z) == []\n",
    "\n",
    "test20()\n",
    "test21()"
   ]
  },
  {
   "cell_type": "markdown",
   "metadata": {},
   "source": [
    "zip takes multiple iterables and turns them into an iterator of tuples."
   ]
  },
  {
   "cell_type": "markdown",
   "metadata": {},
   "source": [
    "## Yield"
   ]
  },
  {
   "cell_type": "code",
   "execution_count": 66,
   "metadata": {},
   "outputs": [
    {
     "name": "stdout",
     "output_type": "stream",
     "text": [
      "abc\n",
      "2\n",
      "def\n",
      "3\n",
      "ghi\n",
      "4\n"
     ]
    }
   ],
   "source": [
    "def f () :\n",
    "    print(\"abc\")\n",
    "    yield 2\n",
    "    print(\"def\")\n",
    "    yield 3\n",
    "    print(\"ghi\")\n",
    "    yield 4\n",
    "\n",
    "p = f()     # <nothing>\n",
    "v = next(p) # abc\n",
    "print(v)    # 2\n",
    "\n",
    "v = next(p) # def\n",
    "print(v)    # 3\n",
    "\n",
    "v = next(p) # ghi\n",
    "print(v)    # 4\n"
   ]
  },
  {
   "cell_type": "markdown",
   "metadata": {},
   "source": [
    "If a function has yield in it, calling it does not run it. It produces and returns a generator."
   ]
  },
  {
   "cell_type": "code",
   "execution_count": 73,
   "metadata": {},
   "outputs": [
    {
     "name": "stdout",
     "output_type": "stream",
     "text": [
      "<class 'generator'>\n"
     ]
    }
   ],
   "source": [
    "def f () :\n",
    "    yield 2\n",
    "    yield 3\n",
    "    yield 4\n",
    "\n",
    "def test1 () :\n",
    "    p = f()\n",
    "    print(type(p))\n",
    "    assert p is iter(p)\n",
    "    n = next(p)\n",
    "    assert n == 2\n",
    "    n = next(p)\n",
    "    assert n == 3\n",
    "    n = next(p)\n",
    "    assert n == 4\n",
    "    try :\n",
    "        n = next(p)\n",
    "    except StopIteration :\n",
    "        pass\n",
    "test1()"
   ]
  },
  {
   "cell_type": "markdown",
   "metadata": {},
   "source": [
    "Generators are iterable, but not all iterables are generators. Once a generator is exhausted, you can't unexhaust it."
   ]
  },
  {
   "cell_type": "code",
   "execution_count": 74,
   "metadata": {},
   "outputs": [],
   "source": [
    "def test2 () :\n",
    "    p = f()\n",
    "    assert list(p) == [2, 3, 4]\n",
    "    assert list(p) == []\n",
    "\n",
    "test2()"
   ]
  },
  {
   "cell_type": "markdown",
   "metadata": {},
   "source": [
    "An example of the generator being exhausted"
   ]
  },
  {
   "cell_type": "code",
   "execution_count": 71,
   "metadata": {
    "collapsed": true
   },
   "outputs": [],
   "source": [
    "def g () :\n",
    "    for v in [2, 3, 4] :\n",
    "        yield v\n",
    "\n",
    "def test3 () :\n",
    "    p = g()\n",
    "    assert p is iter(p)\n",
    "    n = next(p)\n",
    "    assert n == 2\n",
    "    n = next(p)\n",
    "    assert n == 3\n",
    "    n = next(p)\n",
    "    assert n == 4\n",
    "    try :\n",
    "        n = next(p)\n",
    "    except StopIteration :\n",
    "        pass\n",
    "\n",
    "test3()"
   ]
  },
  {
   "cell_type": "markdown",
   "metadata": {},
   "source": [
    "This works too!"
   ]
  },
  {
   "cell_type": "code",
   "execution_count": 75,
   "metadata": {
    "collapsed": true
   },
   "outputs": [],
   "source": [
    "def test4 () :\n",
    "    p = g()\n",
    "    assert list(p) == [2, 3, 4]\n",
    "    assert list(p) == []\n",
    "test4()"
   ]
  },
  {
   "cell_type": "markdown",
   "metadata": {},
   "source": [
    "Exhaustable property exhibited again!"
   ]
  },
  {
   "cell_type": "markdown",
   "metadata": {},
   "source": [
    "## List Comprehensions"
   ]
  },
  {
   "cell_type": "code",
   "execution_count": 76,
   "metadata": {
    "collapsed": true
   },
   "outputs": [],
   "source": [
    "from types import GeneratorType\n",
    "\n",
    "def test1 () :\n",
    "    a = [2, 3, 4]\n",
    "    b = []\n",
    "    for v in a :\n",
    "        b += [v * v]\n",
    "    assert type(b) is list\n",
    "    assert a       == [2, 3,  4]\n",
    "    assert b       == [4, 9, 16]\n",
    "test1()"
   ]
  },
  {
   "cell_type": "markdown",
   "metadata": {},
   "source": [
    "Pretty manual way to construct a new b list"
   ]
  },
  {
   "cell_type": "code",
   "execution_count": 77,
   "metadata": {
    "collapsed": true
   },
   "outputs": [],
   "source": [
    "def test2 () :\n",
    "    a = [2, 3, 4]\n",
    "    b = [v * v for v in a]       # list comprehension\n",
    "    assert type(b) is list\n",
    "    assert a       == [2, 3,  4]\n",
    "    assert b       == [4, 9, 16]\n",
    "test2()"
   ]
  },
  {
   "cell_type": "markdown",
   "metadata": {},
   "source": [
    "List comprehension: Doing it in the list itself"
   ]
  },
  {
   "cell_type": "code",
   "execution_count": 79,
   "metadata": {},
   "outputs": [],
   "source": [
    "def test3 () :\n",
    "    a = [2, 3, 4]\n",
    "    g = (v * v for v in a)          # generator\n",
    "    assert hasattr(g, \"__next__\")\n",
    "    assert hasattr(g, \"__iter__\")\n",
    "    assert type(g) is GeneratorType\n",
    "    assert g       is iter(g)\n",
    "    assert a       == [2, 3,  4]\n",
    "    assert list(g) == [4, 9, 16]\n",
    "    assert list(g) == []\n",
    "test3()"
   ]
  },
  {
   "cell_type": "markdown",
   "metadata": {},
   "source": [
    "This is a generator expression. Not a tuple expression"
   ]
  },
  {
   "cell_type": "code",
   "execution_count": 82,
   "metadata": {},
   "outputs": [],
   "source": [
    "def test4 () :\n",
    "    a = [2, 3, 4]\n",
    "    m = map(lambda v : v * v, a)\n",
    "    assert hasattr(m, \"__next__\")\n",
    "    assert hasattr(m, \"__iter__\")\n",
    "    assert type(m) is map\n",
    "    assert m       is iter(m)\n",
    "    assert a       == [2, 3,  4]\n",
    "    assert list(m) == [4, 9, 16]\n",
    "    assert list(m) == []\n",
    "test4()"
   ]
  },
  {
   "cell_type": "markdown",
   "metadata": {},
   "source": [
    "Using map and lambda to do a list comprehension. So this is how it works:  \n",
    "**MAP** takes two arguments, a function and a sequence. It will run the function on all elements of the sequence.   \n",
    "**LAMBDA** createsa function taking in the arguments before the column and performing the operation after the colon.  \n",
    "Map returns a map object that is iterable."
   ]
  },
  {
   "cell_type": "code",
   "execution_count": 83,
   "metadata": {
    "collapsed": true
   },
   "outputs": [],
   "source": [
    "def test5 () :\n",
    "    a = [2, 3, 4]\n",
    "    g = (v * v for v in a)\n",
    "    a += [5]\n",
    "    assert a       == [2, 3,  4,  5]\n",
    "    assert list(g) == [4, 9, 16, 25]\n",
    "    assert list(g) == []\n",
    "    a += [5]\n",
    "    assert list(g) == []\n",
    "test5()"
   ]
  },
  {
   "cell_type": "markdown",
   "metadata": {},
   "source": [
    "This code exhibits the quality of a generator (the comprehension on g creates a generator) that **once a generator is exhausted, it cannot ever be unexhausted**"
   ]
  },
  {
   "cell_type": "code",
   "execution_count": 86,
   "metadata": {},
   "outputs": [],
   "source": [
    "def test6 () :\n",
    "    a = [2, 3, 4]\n",
    "    m = map(lambda v : v * v, a)\n",
    "    a += [5]\n",
    "    assert a       == [2, 3,  4,  5]\n",
    "    assert list(m) == [4, 9, 16, 25]\n",
    "    assert list(m) == []\n",
    "    a += [5]\n",
    "    assert list(m) == []\n",
    "test6()"
   ]
  },
  {
   "cell_type": "markdown",
   "metadata": {},
   "source": [
    "This demonstrates the fact that map is **lazy** (i.e. changing the list in this scenario modifies the return value of map), but only before it is exhausted.  \n",
    "It also demonstrates the fact about generators demonstrated before, that once exhausted, it cannot be unexhausted"
   ]
  },
  {
   "cell_type": "code",
   "execution_count": 87,
   "metadata": {
    "collapsed": true
   },
   "outputs": [],
   "source": [
    "def test7 () :\n",
    "    a = [2, 3, 4, 5, 6]\n",
    "    b = []\n",
    "    for v in a :\n",
    "        if v % 2 :\n",
    "            b += [v * v]\n",
    "    assert a == [2, 3, 4,  5,  6]\n",
    "    assert b == [   9,    25]\n",
    "\n",
    "def test8 () :\n",
    "    a = [2, 3, 4, 5, 6]\n",
    "    b = [v * v for v in a if v % 2]\n",
    "    assert a == [2, 3, 4,  5,  6]\n",
    "    assert b == [   9,    25]\n",
    "    \n",
    "test7()\n",
    "test8()"
   ]
  },
  {
   "cell_type": "markdown",
   "metadata": {},
   "source": [
    "Test 8 is just a way to write test 7 as a list comprehension"
   ]
  },
  {
   "cell_type": "code",
   "execution_count": 88,
   "metadata": {
    "collapsed": true
   },
   "outputs": [],
   "source": [
    "def test9 () :\n",
    "    a = [2, 3, 4, 5, 6]\n",
    "    g = (v * v for v in a if v % 2)\n",
    "    assert a       == [2, 3, 4,  5,  6]\n",
    "    assert list(g) == [   9,    25]\n",
    "    assert list(g) == []\n",
    "test9()"
   ]
  },
  {
   "cell_type": "markdown",
   "metadata": {},
   "source": [
    "Demonstrates the generator idea again...."
   ]
  },
  {
   "cell_type": "code",
   "execution_count": 89,
   "metadata": {
    "collapsed": true
   },
   "outputs": [],
   "source": [
    "def test10 () :\n",
    "    a = [2, 3, 4, 5, 6]\n",
    "    f = filter(lambda v : v % 2, a)\n",
    "    assert hasattr(f, \"__next__\")\n",
    "    assert hasattr(f, \"__iter__\")\n",
    "    assert type(f) is filter\n",
    "    assert f       is iter(f)\n",
    "    m = map(lambda v : v * v, f)\n",
    "    assert a       == [2, 3, 4,  5,  6]\n",
    "    assert list(m) == [   9,    25]\n",
    "    assert list(f) == []\n",
    "    assert list(m) == []\n",
    "test10()"
   ]
  },
  {
   "cell_type": "markdown",
   "metadata": {},
   "source": [
    "**FILTER** Offers a pretty clean way to, as the name suggests, filter out anything you don't want. It returns a filter object and is iterable.  \n",
    "This code passes the filtered object (which is itself iterable) into a map function for further processing. This in itself exhausts the generator, so calling list on the filter object will return nothing, as it has been exhausted."
   ]
  },
  {
   "cell_type": "code",
   "execution_count": 95,
   "metadata": {},
   "outputs": [],
   "source": [
    "def test14 () :\n",
    "    s = {2, 3, 4}\n",
    "    t = set()\n",
    "    for v in s :\n",
    "        t |= {v * v}\n",
    "    assert s == {2, 3,  4}\n",
    "    assert t == {4, 9, 16}\n",
    "test14()"
   ]
  },
  {
   "cell_type": "markdown",
   "metadata": {},
   "source": [
    "**|=** is a union operation for sets. In this code, the new squared v is added to the set t. We are unable to use += as sets are unhashable."
   ]
  },
  {
   "cell_type": "code",
   "execution_count": 96,
   "metadata": {
    "collapsed": true
   },
   "outputs": [],
   "source": [
    "def test15 () :\n",
    "    s = {2, 3, 4}\n",
    "    t = {v * v for v in s}   # set comprehension\n",
    "    assert s == {2, 3,  4}\n",
    "    assert t == {4, 9, 16}\n",
    "test15()"
   ]
  },
  {
   "cell_type": "markdown",
   "metadata": {},
   "source": [
    "Set comprehension works too!"
   ]
  },
  {
   "cell_type": "code",
   "execution_count": 97,
   "metadata": {
    "collapsed": true
   },
   "outputs": [],
   "source": [
    "def test16 () :\n",
    "    d = {2: \"abc\", 3: \"def\", 4: \"ghi\"}\n",
    "    e = {}\n",
    "    for k in d :\n",
    "        e[k + 1] = d[k] + \"xyz\"\n",
    "    assert d == {2: \"abc\",    3: \"def\",    4: \"ghi\"}\n",
    "    assert e == {3: \"abcxyz\", 4: \"defxyz\", 5: \"ghixyz\"}\n",
    "\n",
    "def test17 () :\n",
    "    d = {2: \"abc\", 3: \"def\", 4: \"ghi\"}\n",
    "    e = {k + 1: d[k] + \"xyz\" for k in d}                # dict comprehension\n",
    "    assert d == {2: \"abc\",    3: \"def\",    4: \"ghi\"}\n",
    "    assert e == {3: \"abcxyz\", 4: \"defxyz\", 5: \"ghixyz\"}\n",
    "    \n",
    "test16()\n",
    "test17()"
   ]
  },
  {
   "cell_type": "markdown",
   "metadata": {},
   "source": [
    "Works for dictionaries too!"
   ]
  },
  {
   "cell_type": "markdown",
   "metadata": {},
   "source": [
    "# That's all folks! Good luck."
   ]
  }
 ],
 "metadata": {
  "kernelspec": {
   "display_name": "Python 3",
   "language": "python",
   "name": "python3"
  },
  "language_info": {
   "codemirror_mode": {
    "name": "ipython",
    "version": 3
   },
   "file_extension": ".py",
   "mimetype": "text/x-python",
   "name": "python",
   "nbconvert_exporter": "python",
   "pygments_lexer": "ipython3",
   "version": "3.6.2"
  }
 },
 "nbformat": 4,
 "nbformat_minor": 2
}
