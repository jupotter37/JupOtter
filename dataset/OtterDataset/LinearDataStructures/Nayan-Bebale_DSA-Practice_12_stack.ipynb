{
  "nbformat": 4,
  "nbformat_minor": 0,
  "metadata": {
    "colab": {
      "provenance": [],
      "authorship_tag": "ABX9TyO9hDvC8VuWa3/Wh8lVIWoW",
      "include_colab_link": true
    },
    "kernelspec": {
      "name": "python3",
      "display_name": "Python 3"
    },
    "language_info": {
      "name": "python"
    }
  },
  "cells": [
    {
      "cell_type": "markdown",
      "metadata": {
        "id": "view-in-github",
        "colab_type": "text"
      },
      "source": [
        "<a href=\"https://colab.research.google.com/github/Nayan-Bebale/DSA-Practice/blob/main/12_stack.ipynb\" target=\"_parent\"><img src=\"https://colab.research.google.com/assets/colab-badge.svg\" alt=\"Open In Colab\"/></a>"
      ]
    },
    {
      "cell_type": "markdown",
      "source": [
        "# Stack\n",
        "\n",
        "Stack is a data structure that stores items in a Last-In/First-Out manner.\n",
        "\n",
        "**LIFO** Method\n",
        " ```\n",
        " __\n",
        "|40| Last In First Out\n",
        "|__|\n",
        "|30|\n",
        "|__|   solution:- 40, 30, 20, 10\n",
        "|20|\n",
        "|__|\n",
        "|10|\n",
        "|__| First In Last Out\n",
        "\n",
        "```\n",
        "\n",
        "**Stack operations**\n",
        "\n",
        "- Create Stack\n",
        "- Push / Append\n",
        "- Pop\n",
        "- isEmpty\n",
        "- isFull\n",
        "- deleteStack"
      ],
      "metadata": {
        "id": "dekIDxz3zXTf"
      }
    },
    {
      "cell_type": "code",
      "execution_count": null,
      "metadata": {
        "colab": {
          "base_uri": "https://localhost:8080/"
        },
        "id": "T0V6WwCOzAYv",
        "outputId": "2702bc7e-d34b-475b-ce38-cc697961bdd1"
      },
      "outputs": [
        {
          "output_type": "stream",
          "name": "stdout",
          "text": [
            "deque([0, 1, 2, 3])\n",
            "deque([0, 1, 2])\n"
          ]
        }
      ],
      "source": [
        "from collections import deque\n",
        "\n",
        "customStack = deque() # Crate Stack\n",
        "\n",
        "for i in range(4):\n",
        "  customStack.append(i)  # Push/Append method\n",
        "print(customStack)\n",
        "\n",
        "customStack.pop() # Pop method\n",
        "print(customStack)"
      ]
    },
    {
      "cell_type": "markdown",
      "source": [
        "## Stack Creation\n",
        "\n",
        "**Stack using List**\n",
        "  - Easy to implement\n",
        "  - Speed problem when it grows\n",
        "\n",
        "**Stack using Linked List**\n",
        "  - Fast Performance\n",
        "  - Implementation is not easy"
      ],
      "metadata": {
        "id": "k1sfnyGBHyoU"
      }
    },
    {
      "cell_type": "code",
      "source": [
        "class Stack:\n",
        "  def __init__(self):\n",
        "    self.list = []          #--------------> O(1) (Time Complexity)\n",
        "                                          #  O(1) (Space Complexity)\n",
        "  def __str__(self):\n",
        "    values = self.list.reverse()\n",
        "    values = [str(a) for a in self.list]\n",
        "    return '\\n'.join(values)\n",
        "\n",
        "  # isEmpty\n",
        "  def isEmpty(self):\n",
        "    if self.list == [] or self.list is None:\n",
        "      return True\n",
        "    return False\n",
        "\n",
        "  # Push\n",
        "  def push(self, value):\n",
        "    self.list.append(value)\n",
        "    return \"Value is push is stack\"\n",
        "\n",
        "  # Pop\n",
        "  def pop(self):\n",
        "    if self.isEmpty():\n",
        "      return \"stack is empty\"\n",
        "    return self.list.pop()\n",
        "\n",
        "  # peek\n",
        "  def peek(self):\n",
        "    if self.isEmpty():\n",
        "      return \"stack is empty\"\n",
        "    return self.list[-1]\n",
        "\n",
        "  # delete\n",
        "  def delete(self):\n",
        "    self.list = None\n",
        "\n",
        "\n",
        "stack = Stack()\n",
        "stack.push(1)\n",
        "stack.push(2)\n",
        "stack.push(3)\n",
        "print(stack.isEmpty())\n",
        "print(stack.pop())\n",
        "print(stack.peek())\n",
        "stack.delete()\n",
        "print(stack.isEmpty())"
      ],
      "metadata": {
        "colab": {
          "base_uri": "https://localhost:8080/"
        },
        "id": "ansm91ox4CVX",
        "outputId": "31c537eb-94a0-43c7-849d-f81c118fc95a"
      },
      "execution_count": null,
      "outputs": [
        {
          "output_type": "stream",
          "name": "stdout",
          "text": [
            "False\n",
            "3\n",
            "2\n",
            "True\n"
          ]
        }
      ]
    },
    {
      "cell_type": "markdown",
      "source": [
        "## Stack using size\n",
        "\n"
      ],
      "metadata": {
        "id": "bjonYNsNQGm7"
      }
    },
    {
      "cell_type": "code",
      "source": [
        "class Stack:\n",
        "  def __init__(self, maxSize):\n",
        "    self.maxSize = maxSize\n",
        "    self.list = []          #--------------> O(1) (Time Complexity)\n",
        "                                          #  O(1) (Space Complexity)\n",
        "  def __str__(self):\n",
        "    values = self.list.reverse()\n",
        "    values = [str(a) for a in self.list]\n",
        "    return '\\n'.join(values)\n",
        "\n",
        "  # isEmpty\n",
        "  def isEmpty(self):\n",
        "    if self.list == [] or self.list is None:\n",
        "      return True\n",
        "    return False\n",
        "\n",
        "  # isFull\n",
        "  def isFull(self):\n",
        "    if not self.isEmpty():\n",
        "      if len(self.list) ==  self.maxSize:\n",
        "        return True\n",
        "    return False\n",
        "\n",
        "  # Push\n",
        "  def push(self, value):\n",
        "    if self.isFull():\n",
        "      return \"The stack is full\"\n",
        "    self.list.append(value)\n",
        "    return \"The element has been successfully inserted\"\n",
        "\n",
        "  # Pop\n",
        "  def pop(self):\n",
        "    if self.isEmpty():\n",
        "      return \"stack is empty\"\n",
        "    return self.list.pop()\n",
        "\n",
        "  # peek\n",
        "  def peek(self):\n",
        "    if self.isEmpty():\n",
        "      return \"stack is empty\"\n",
        "    return self.list[-1]\n",
        "\n",
        "  # delete\n",
        "  def delete(self):\n",
        "    self.list = None\n",
        "\n",
        "stack = Stack(3)\n",
        "stack.push(1)\n",
        "stack.push(2)\n",
        "stack.push(3)\n",
        "stack.push(4)\n",
        "\n",
        "print(stack.isFull())\n",
        "print(stack.pop())\n",
        "print(stack.peek())\n",
        "stack.delete()\n",
        "print(stack.isFull())\n",
        "print(stack.isEmpty())\n"
      ],
      "metadata": {
        "colab": {
          "base_uri": "https://localhost:8080/"
        },
        "id": "m17Y2Kw_KQpz",
        "outputId": "85969eac-64f0-40bc-af56-fa2e71b534be"
      },
      "execution_count": null,
      "outputs": [
        {
          "output_type": "stream",
          "name": "stdout",
          "text": [
            "True\n",
            "3\n",
            "2\n",
            "False\n",
            "True\n"
          ]
        }
      ]
    },
    {
      "cell_type": "markdown",
      "source": [
        "<img src=\"https://raw.githubusercontent.com/Nayan-Bebale/DSA-Images/main/stackTimeSpace.png\"/>"
      ],
      "metadata": {
        "id": "Imcvg2O5TtTx"
      }
    },
    {
      "cell_type": "markdown",
      "source": [
        "## Stack using Linked List\n",
        "\n",
        "**Create a Stack <br>Create an object of Linked List class**\n",
        "```\n",
        " __________\n",
        "|Head |null|\n",
        "|_____|____|\n",
        "\n",
        "```\n",
        "\n",
        "\n",
        "**Push() Method**<br>\n",
        "<img src=\"https://raw.githubusercontent.com/Nayan-Bebale/DSA-Images/main/push.png\" height=150px/>\n",
        "\n",
        "**Pop() Method**<br>\n",
        "<img src=\"https://raw.githubusercontent.com/Nayan-Bebale/DSA-Images/main/pop.png\" width=240/>"
      ],
      "metadata": {
        "id": "ZqQDV_oS0tjn"
      }
    },
    {
      "cell_type": "code",
      "source": [
        "from os import sep\n",
        "class Node:\n",
        "  def __init__(self, value=None):\n",
        "    self.value = value\n",
        "    self.next = next\n",
        "\n",
        "class LinkedList:\n",
        "  def __init__(self):\n",
        "    self.head = None\n",
        "\n",
        "  def __iter__(self):\n",
        "    curNode = self.head\n",
        "    while curNode:\n",
        "      yield curNode\n",
        "      curNode = curNode.next\n",
        "\n",
        "class Stack:\n",
        "  def __init__(self):\n",
        "    self.LinkedList = LinkedList()\n",
        "\n",
        "  def __str__(self):\n",
        "    values = [str(x.value) for x in self.LinkedList]\n",
        "    return '\\n'.join(values)\n",
        "\n",
        "\n",
        "  def isEmpty(self):\n",
        "    if self.LinkedList.head == None:\n",
        "      return True\n",
        "    return False\n",
        "\n",
        "  def push(self, value):\n",
        "    node = Node(value)\n",
        "    node.next = self.LinkedList.head\n",
        "    self.LinkedList.head = node\n",
        "\n",
        "  def pop(self):\n",
        "    if self.isEmpty():\n",
        "      return \"Stack is empty\"\n",
        "    nodeValue = self.LinkedList.head.value\n",
        "    self.LinkedList.head = self.LinkedList.head.next\n",
        "    return nodeValue\n",
        "\n",
        "  def peek(self):\n",
        "    if self.isEmpty():\n",
        "      return \"Stack is empty\"\n",
        "    nodeValue = self.LinkedList.head.value\n",
        "    return nodeValue\n",
        "\n",
        "  def delete(self):\n",
        "    if self.isEmpty():\n",
        "      return \"Stack is empty\"\n",
        "    self.LinkedList.head = None\n",
        "\n",
        "stack = Stack()\n",
        "stack.isEmpty()\n",
        "stack.push(1)\n",
        "stack.push(2)\n",
        "stack.push(3)\n",
        "stack.push(4)\n",
        "print(stack)\n",
        "print(\"___________\")\n",
        "stack.pop()\n",
        "print(stack)\n",
        "print(\"___________\")\n",
        "print(stack.peek())"
      ],
      "metadata": {
        "id": "YbldMx6QRg-u",
        "colab": {
          "base_uri": "https://localhost:8080/"
        },
        "outputId": "84a9eb2d-d83f-49d0-8fdf-6bfc6ade2439"
      },
      "execution_count": null,
      "outputs": [
        {
          "output_type": "stream",
          "name": "stdout",
          "text": [
            "4\n",
            "3\n",
            "2\n",
            "1\n",
            "___________\n",
            "3\n",
            "2\n",
            "1\n",
            "___________\n",
            "3\n"
          ]
        }
      ]
    },
    {
      "cell_type": "markdown",
      "source": [
        "<img src=\"https://raw.githubusercontent.com/Nayan-Bebale/DSA-Images/main/timeComplexity.png\"/>"
      ],
      "metadata": {
        "id": "Anbhj131Z_7M"
      }
    },
    {
      "cell_type": "markdown",
      "source": [
        "## When to use / avoid Stack\n",
        "\n",
        "**Use:**\n",
        "  - LIFO fuctionality\n",
        "  - The chance of data corruption is minimum\n",
        "\n",
        "**Avoid:**\n",
        "  - Random access is not possible"
      ],
      "metadata": {
        "id": "SCk6M-mMalPd"
      }
    },
    {
      "cell_type": "markdown",
      "source": [
        "# Top Problems on Stack Data Structure asked in SDE Interviews"
      ],
      "metadata": {
        "id": "QEjBKLz2wNQU"
      }
    },
    {
      "cell_type": "markdown",
      "source": [
        "## Easy Interview Questions on Stack Data Structure"
      ],
      "metadata": {
        "id": "2s50VdV2CeBD"
      }
    },
    {
      "cell_type": "markdown",
      "source": [
        "### 1 Parentheses Chacker\n",
        "```\n",
        "Given a string s containing just the characters '(', ')', '{', '}', '[' and ']', determine if the input string is valid.\n",
        "\n",
        "An input string is valid if:\n",
        "\n",
        "Open brackets must be closed by the same type of brackets.\n",
        "Open brackets must be closed in the correct order.\n",
        "Every close bracket has a corresponding open bracket of the same type.\n",
        "\n",
        "\n",
        "Example 1:\n",
        "\n",
        "Input: s = \"()\"\n",
        "Output: true\n",
        "Example 2:\n",
        "\n",
        "Input: s = \"()[]{}\"\n",
        "Output: true\n",
        "Example 3:\n",
        "\n",
        "Input: s = \"(]\"\n",
        "Output: false\n",
        "\n",
        "\n",
        "Constraints:\n",
        "\n",
        "1 <= s.length <= 104\n",
        "s consists of parentheses only '()[]{}'.\n",
        "```"
      ],
      "metadata": {
        "id": "OtT3Fk1SlCkR"
      }
    },
    {
      "cell_type": "code",
      "source": [
        "s = \"([{}])\"\n",
        "stack = list(s)\n",
        "chack = False\n",
        "for i in range(len(stack)-1):\n",
        "  if stack[i] == '(' and stack[i+1] == ')':\n",
        "    chack = True\n",
        "  elif stack[i] == '[' and stack[i+1] == ']':\n",
        "    chack = True\n",
        "  elif stack[i] == '{' and stack[i+1] == '}':\n",
        "    chack = True\n",
        "  else:\n",
        "    chack = False\n",
        "\n",
        "print(chack)\n"
      ],
      "metadata": {
        "colab": {
          "base_uri": "https://localhost:8080/"
        },
        "id": "srFFLSmiSq45",
        "outputId": "1c31d9bc-17c7-4b28-cd6b-ddb56306f9df"
      },
      "execution_count": null,
      "outputs": [
        {
          "output_type": "stream",
          "name": "stdout",
          "text": [
            "False\n"
          ]
        }
      ]
    },
    {
      "cell_type": "code",
      "source": [
        "s = \"([{}])\"\n",
        "first = s[:len(s)//2]\n",
        "last = s[len(s)//2:]\n",
        "print(first)\n",
        "print(last[::-1])\n"
      ],
      "metadata": {
        "colab": {
          "base_uri": "https://localhost:8080/"
        },
        "id": "Dv7dGGAjmUlX",
        "outputId": "b301beb0-0e02-4053-84d8-550dd2b12b10"
      },
      "execution_count": null,
      "outputs": [
        {
          "output_type": "stream",
          "name": "stdout",
          "text": [
            "([{\n",
            ")]}\n"
          ]
        }
      ]
    },
    {
      "cell_type": "code",
      "source": [
        "s = \"([{}])\"\n",
        "first = s[:len(s)//2]\n",
        "last = s[len(s)//2:]\n",
        "rev_last = last[::-1]\n",
        "print(last)\n",
        "chack = False\n",
        "for i in range(len(first)):\n",
        "  if first[i]  == rev_last[i]:\n",
        "    chack = True\n",
        "  elif first[i] ==rev_last[i]:\n",
        "    chack = True\n",
        "  elif first[i] == rev_last[i]:\n",
        "    chack = True\n",
        "  else:\n",
        "    chack = False\n",
        "\n",
        "print(chack)\n"
      ],
      "metadata": {
        "colab": {
          "base_uri": "https://localhost:8080/"
        },
        "id": "w7LpOeggm5PB",
        "outputId": "721c9802-26d7-4264-92ea-707e7dd339fd"
      },
      "execution_count": null,
      "outputs": [
        {
          "output_type": "stream",
          "name": "stdout",
          "text": [
            "}])\n",
            "False\n"
          ]
        }
      ]
    },
    {
      "cell_type": "code",
      "source": [
        "s = \"(){}}{\"\n",
        "first = s[:len(s)//2]\n",
        "last = s[len(s)//2:]\n",
        "rev_last = last[::-1]\n",
        "check = False\n",
        "for i in range(len(first)):\n",
        "  if first[i]+rev_last[i] == '[]':\n",
        "    check = True\n",
        "  elif first[i]+rev_last[i] == '()':\n",
        "    check = True\n",
        "  elif first[i]+rev_last[i] == '{}':\n",
        "    check = True\n",
        "  else:\n",
        "    check = False\n",
        "\n",
        "print(check)"
      ],
      "metadata": {
        "colab": {
          "base_uri": "https://localhost:8080/"
        },
        "id": "i4Itue10sAss",
        "outputId": "4a476204-9ba5-44d8-e041-6451edb6c4ec"
      },
      "execution_count": null,
      "outputs": [
        {
          "output_type": "stream",
          "name": "stdout",
          "text": [
            "True\n"
          ]
        }
      ]
    },
    {
      "cell_type": "code",
      "source": [
        "class Solution:\n",
        "    def isValid(self, s):\n",
        "        stack = []\n",
        "        matching_bracket = {')': '(', '}': '{', ']': '['}\n",
        "\n",
        "        for char in s:\n",
        "            if char in matching_bracket.values():\n",
        "                stack.append(char)\n",
        "            elif char in  matching_bracket:\n",
        "                if stack and stack[-1] == matching_bracket[char]:\n",
        "                    stack.pop()\n",
        "                else:\n",
        "                    return False\n",
        "            else:\n",
        "                return False\n",
        "        return not stack"
      ],
      "metadata": {
        "id": "ckm25sDjvm_h"
      },
      "execution_count": null,
      "outputs": []
    },
    {
      "cell_type": "code",
      "source": [
        "def isValid(s):\n",
        "  matching_bracket = {'}':'{', ')':'(', ']':'['}\n",
        "  stack = []\n",
        "  for char in s:\n",
        "    if char in matching_bracket.values():\n",
        "      stack.append(char)\n",
        "    elif char in matching_bracket:\n",
        "      if stack and stack[-1] == matching_bracket[char]:\n",
        "        stack.pop()\n",
        "      else:\n",
        "        return False\n",
        "    else:\n",
        "      return False\n",
        "  return not stack\n",
        "\n",
        "s = '[()]{}{[()()]()}'\n",
        "print(isValid(s))"
      ],
      "metadata": {
        "colab": {
          "base_uri": "https://localhost:8080/"
        },
        "id": "ZZiqtRIXzwjm",
        "outputId": "6e6878d7-5bb1-4fe0-8994-8bc6458a8fc0"
      },
      "execution_count": null,
      "outputs": [
        {
          "output_type": "stream",
          "name": "stdout",
          "text": [
            "True\n"
          ]
        }
      ]
    },
    {
      "cell_type": "markdown",
      "source": [
        "<a href=\"https://cscircles.cemc.uwaterloo.ca/visualize#code=def+isValid(s)%3A%0A++stack+%3D+%5B%5D%0A++matching_bracket+%3D+%7B')'%3A+'(',+'%7D'%3A'%7B',+'%5D'%3A'%5B'%7D%0A%0A++for+char+in+s%3A%0A++++if+char+in+matching_bracket.values()%3A%0A++++++stack.append(char)%0A++++elif+char+in+matching_bracket%3A%0A++++++if+stack+and+stack%5B-1%5D+%3D%3D+matching_bracket%5Bchar%5D%3A%0A++++++++stack.pop()%0A++++++else%3A%0A++++++++return+False%0A++++else%3A%0A++++++return+False%0A++return+not+stack%0A%0A%0As+%3D+'()%7B%7D%7D%7B'%0Aprint(isValid(s))&mode=display&raw_input=&curInstr=26\">Visualize the code</a>"
      ],
      "metadata": {
        "id": "7Hxu39Uf23KA"
      }
    },
    {
      "cell_type": "markdown",
      "source": [
        "### 2 Reverse Polish Notation\n",
        "```\n",
        "Evaluate Reverse Polish Notation\n",
        "Solved\n",
        "You are given an array of strings tokens that represents a valid arithmetic expression in Reverse Polish Notation.\n",
        "\n",
        "Return the integer that represents the evaluation of the expression.\n",
        "\n",
        "The operands may be integers or the results of other operations.\n",
        "The operators include '+', '-', '*', and '/'.\n",
        "Assume that division between integers always truncates toward zero.\n",
        "Example 1:\n",
        "\n",
        "Input: tokens = [\"1\",\"2\",\"+\",\"3\",\"*\",\"4\",\"-\"]\n",
        "\n",
        "Output: 5\n",
        "\n",
        "Explanation: ((1 + 2) * 3) - 4 = 5\n",
        "Constraints:\n",
        "\n",
        "1 <= tokens.length <= 1000.\n",
        "tokens[i] is \"+\", \"-\", \"*\", or \"/\", or a string representing an integer in the range [-100, 100].\n",
        "```"
      ],
      "metadata": {
        "id": "vIW86qTwJELm"
      }
    },
    {
      "cell_type": "code",
      "source": [
        "tokens = [\"4\",\"13\",\"5\",\"/\",\"+\"]\n",
        "stack = []\n",
        "\n",
        "for token in tokens:\n",
        "  if token in \"+-*/\":\n",
        "    b = stack.pop()\n",
        "    a = stack.pop()\n",
        "    if token == '+':\n",
        "      stack.append(a+b)\n",
        "    elif token == '-':\n",
        "      stack.append(a-b)\n",
        "    elif token == '*':\n",
        "      stack.append(a*b)\n",
        "    elif token == '/':\n",
        "      stack.append(int(a/b))\n",
        "  else:\n",
        "    stack.append(int(token))\n",
        "\n",
        "print(stack[0])"
      ],
      "metadata": {
        "colab": {
          "base_uri": "https://localhost:8080/"
        },
        "id": "cR5Ga9kWAGUZ",
        "outputId": "c7f2b208-75c1-40f6-fe47-a4e6ea06557c"
      },
      "execution_count": null,
      "outputs": [
        {
          "output_type": "stream",
          "name": "stdout",
          "text": [
            "13 5\n",
            "4 2\n",
            "6\n"
          ]
        }
      ]
    },
    {
      "cell_type": "markdown",
      "source": [
        "<a href=\"https://cscircles.cemc.uwaterloo.ca/visualize#code=tokens+%3D+%5B%224%22,%2213%22,%225%22,%22/%22,%22%2B%22%5D%0Astack+%3D+%5B%5D%0A%0Afor+token+in+tokens%3A%0A++if+token+in+%22%2B-*/%22%3A%0A++++b+%3D+stack.pop()%0A++++a+%3D+stack.pop()%0A++++if+token+%3D%3D+'%2B'%3A%0A++++++stack.append(a%2Bb)%0A++++elif+token+%3D%3D+'-'%3A%0A++++++stack.append(a-b)%0A++++elif+token+%3D%3D+'*'%3A%0A++++++stack.append(a*b)%0A++++elif+token+%3D%3D+'/'%3A%0A++++++stack.append(int(a/b))%0A++else%3A%0A++++stack.append(int(token))%0A%0Aprint(stack%5B0%5D)&mode=display&raw_input=&curInstr=28\">Visualize the code</a>"
      ],
      "metadata": {
        "id": "l5jkICB0Eodc"
      }
    },
    {
      "cell_type": "code",
      "source": [
        "tokens = [\"1\",\"2\",\"+\",\"3\",\"*\",\"4\",\"-\"]\n",
        "\n",
        "numstak = []\n",
        "output = int(tokens[0])\n",
        "for i in range(1, len(tokens)):\n",
        "  if tokens[i] == '+':\n",
        "    output += numstak[-1]\n",
        "    numstak = []\n",
        "  elif tokens[i] == '-':\n",
        "    output -= numstak[-1]\n",
        "    numstak = []\n",
        "  elif tokens[i] == '*':\n",
        "    output *= numstak[-1]\n",
        "    numstak = []\n",
        "  elif tokens[i] == '/':\n",
        "    output /= numstak[-1]\n",
        "    numstak = []\n",
        "  else:\n",
        "    numstak.append(int(tokens[i]))\n",
        "\n",
        "\n",
        "print(output)"
      ],
      "metadata": {
        "colab": {
          "base_uri": "https://localhost:8080/"
        },
        "id": "1GupTGzm3xKA",
        "outputId": "dc791aea-e0ae-441b-a592-89122291e331"
      },
      "execution_count": null,
      "outputs": [
        {
          "output_type": "stream",
          "name": "stdout",
          "text": [
            "0.8\n"
          ]
        }
      ]
    },
    {
      "cell_type": "markdown",
      "source": [
        "### 3 Reverse a String using Stack\n",
        "How to Reverse a String using Stack\n",
        "\n",
        "Given a string, reverse it using stack.\n",
        "```\n",
        "Example:\n",
        "\n",
        "Input: str = “GeeksQuiz”\n",
        "Output: ziuQskeeG\n",
        "\n",
        "Input: str = “abc”\n",
        "Output: cba\n",
        "```"
      ],
      "metadata": {
        "id": "B_L2UKvO_Pyj"
      }
    },
    {
      "cell_type": "code",
      "source": [
        "# def reverse(str):\n",
        "#   stack = ''\n",
        "#   for chr in range(len(str)-1, -1, -1):\n",
        "#     stack += str[chr]\n",
        "#   return stack\n",
        "\n",
        "# str = 'GeeksQuiz'\n",
        "# print(reverse(str))\n",
        "\n",
        "def reverse(str):\n",
        "  string = list(str)\n",
        "  if string == []:\n",
        "    return ''\n",
        "  stack = []\n",
        "  for char in range(len(string)):\n",
        "    chr = string.pop()\n",
        "    stack.append(chr)\n",
        "\n",
        "  return ''.join(stack)\n",
        "\n",
        "str = 'GeeksQuiz'\n",
        "print(reverse(str))\n"
      ],
      "metadata": {
        "id": "S-mH4MZb8bMl",
        "colab": {
          "base_uri": "https://localhost:8080/"
        },
        "outputId": "f2dacbe8-7e39-4e2d-b7ee-6e609bc806a6"
      },
      "execution_count": null,
      "outputs": [
        {
          "output_type": "stream",
          "name": "stdout",
          "text": [
            "ziuQskeeG\n"
          ]
        }
      ]
    },
    {
      "cell_type": "markdown",
      "source": [
        "### 4 Postfix to Prefix Conversion\n",
        "\n",
        "\n",
        "```\n",
        "Postfix: An expression is called the postfix expression if the operator appears in the expression after the operands. Simply of the form (operand1 operand2 operator).\n",
        "Example : AB+CD-* (Infix : (A+B) * (C-D) )\n",
        "\n",
        "Prefix : An expression is called the prefix expression if the operator appears in the expression before the operands. Simply of the form (operator operand1 operand2).\n",
        "Example : *+AB-CD (Infix : (A+B) * (C-D) )\n",
        "\n",
        "Given a Postfix expression, convert it into a Prefix expression.\n",
        "Conversion of Postfix expression directly to Prefix without going through the process of converting them first to Infix and then to Prefix is much better in terms of computation and better understanding the expression (Computers evaluate using Postfix expression).\n",
        "\n",
        "Examples:\n",
        "\n",
        "Input :  Postfix : AB+CD-*\n",
        "Output : Prefix :  *+AB-CD\n",
        "Explanation : Postfix to Infix : (A+B) * (C-D)\n",
        "              Infix to Prefix :  *+AB-CD\n",
        "\n",
        "Input :  Postfix : ABC/-AK/L-*\n",
        "Output : Prefix :  *-A/BC-/AKL\n",
        "Explanation : Postfix to Infix : ((A-(B/C))*((A/K)-L))\n",
        "              Infix to Prefix :  *-A/BC-/AKL\n",
        "\n",
        "```"
      ],
      "metadata": {
        "id": "9pDMFnZmD-Lz"
      }
    },
    {
      "cell_type": "code",
      "source": [
        "def postToprefix(strs):\n",
        "  exps = list(strs)\n",
        "  stack = []\n",
        "  for exp in exps:\n",
        "    if exp in '+-*/':\n",
        "      b = stack.pop()\n",
        "      a = stack.pop()\n",
        "      value = exp+a+b\n",
        "      stack.append(value)\n",
        "    else:\n",
        "      stack.append(exp)\n",
        "\n",
        "  return ''.join(stack)\n",
        "\n",
        "strs = 'AB+CD-*'\n",
        "print(postToprefix(strs))\n"
      ],
      "metadata": {
        "colab": {
          "base_uri": "https://localhost:8080/"
        },
        "id": "vF_aKqUiAN16",
        "outputId": "a29a33f0-716f-4e85-9033-7eb73fa98d8f"
      },
      "execution_count": null,
      "outputs": [
        {
          "output_type": "stream",
          "name": "stdout",
          "text": [
            "*+AB-CD\n"
          ]
        }
      ]
    },
    {
      "cell_type": "markdown",
      "source": [
        "### 5 Delete middle element of a stack\n",
        "\n",
        "Given a stack with push(), pop(), and empty() operations, The task is to delete the middle element of it without using any additional data structure.\n",
        "\n",
        "Input  : Stack[] = [1, 2, 3, 4, 5]\n",
        "\n",
        "Output : Stack[] = [1, 2, 4, 5]\n",
        "\n",
        "Input  : Stack[] = [1, 2, 3, 4, 5, 6]\n",
        "\n",
        "Output : Stack[] = [1, 2, 4, 5, 6]"
      ],
      "metadata": {
        "id": "H7KNi00pLYSu"
      }
    },
    {
      "cell_type": "code",
      "source": [
        "print(len([1, 2, 3, 4, 5])//2)"
      ],
      "metadata": {
        "colab": {
          "base_uri": "https://localhost:8080/"
        },
        "id": "AW_SpQ66T2RU",
        "outputId": "79c4f1d7-f6cf-4af0-8734-29ff7bb7762f"
      },
      "execution_count": null,
      "outputs": [
        {
          "output_type": "stream",
          "name": "stdout",
          "text": [
            "2\n"
          ]
        }
      ]
    },
    {
      "cell_type": "code",
      "source": [
        "def reverse(stack):\n",
        "  rev_stack = []\n",
        "  for i in range(len(stack)):\n",
        "    val = stack.pop()\n",
        "    rev_stack.append(val)\n",
        "  return rev_stack\n",
        "\n",
        "\n",
        "def delMid(stack1):\n",
        "  if stack1 == []:\n",
        "    return []\n",
        "  rev_stack = reverse(stack1)\n",
        "  stack = []\n",
        "  for i in range(0, len(rev_stack)):\n",
        "    if (len(rev_stack)//2) == i:\n",
        "      pass\n",
        "    else:\n",
        "      stack.append(rev_stack[i])\n",
        "  return reverse(stack)\n",
        "\n",
        "\n",
        "print(delMid([1, 2, 3, 4, 5, 6]))"
      ],
      "metadata": {
        "colab": {
          "base_uri": "https://localhost:8080/"
        },
        "id": "Ays3N5UDGl-Z",
        "outputId": "bb77b2b5-1c03-4e34-fae4-fcead4518500"
      },
      "execution_count": null,
      "outputs": [
        {
          "output_type": "stream",
          "name": "stdout",
          "text": [
            "[1, 2, 4, 5, 6]\n"
          ]
        }
      ]
    },
    {
      "cell_type": "code",
      "source": [
        "def deleteMid(stack, n, curr):\n",
        "    # Base case: If stack is empty or all items are traversed\n",
        "    if stack == [] or curr == n:\n",
        "        return\n",
        "\n",
        "    # Remove the current item\n",
        "    x = stack.pop()\n",
        "\n",
        "    # Remove the middle item by recursive call\n",
        "    deleteMid(stack, n, curr+1)\n",
        "\n",
        "    # Put all items back except the middle item\n",
        "    if curr != n // 2:\n",
        "        stack.append(x)\n",
        "\n",
        "# Driver function to test above functions\n",
        "stack = [1, 2, 3, 4, 5, 6]\n",
        "\n",
        "# Finding the middle element and deleting it\n",
        "deleteMid(stack, len(stack), 0)\n",
        "\n",
        "print(stack)  # Output: [1, 2, 4, 5, 6]\n"
      ],
      "metadata": {
        "colab": {
          "base_uri": "https://localhost:8080/"
        },
        "id": "O_FaS0d3i4bZ",
        "outputId": "c7ff2a7b-b4ac-4374-ac4f-8d8dec235be6"
      },
      "execution_count": null,
      "outputs": [
        {
          "output_type": "stream",
          "name": "stdout",
          "text": [
            "[1, 2, 4, 5, 6]\n"
          ]
        }
      ]
    },
    {
      "cell_type": "markdown",
      "source": [
        "### 6 Reverse individual words\n",
        "\n",
        "Given string str, we need to print the reverse of individual words.\n",
        "\n",
        "Examples:\n",
        "```\n",
        "Input : Hello World\n",
        "\n",
        "Output : olleH dlroW\n",
        "\n",
        "Input : Geeks for Geeks\n",
        "\n",
        "Output : skeeG rof skeeG\n",
        "```"
      ],
      "metadata": {
        "id": "f7jFBhCQ_Hxn"
      }
    },
    {
      "cell_type": "code",
      "source": [
        "def reverse(str):\n",
        "  string = list(str)\n",
        "  if string == []:\n",
        "    return ''\n",
        "  stack = []\n",
        "  for char in range(len(string)):\n",
        "    chr = string.pop()\n",
        "    stack.append(chr)\n",
        "\n",
        "  return ''.join(stack)\n",
        "\n",
        "\n",
        "def pertiReverse(strs):\n",
        "  whole_strs = strs.split(' ')\n",
        "  rev_stack = []\n",
        "  for srt in whole_strs:\n",
        "    data = reverse(srt)\n",
        "    rev_stack.append(data)\n",
        "\n",
        "  return ' '.join(rev_stack)\n",
        "\n",
        "\n",
        "strs = 'Geeks for Geeks'\n",
        "print(pertiReverse(strs))"
      ],
      "metadata": {
        "colab": {
          "base_uri": "https://localhost:8080/"
        },
        "id": "GhWFZkIv8H7W",
        "outputId": "4c58d542-1edc-4d19-d048-3eef3758b581"
      },
      "execution_count": null,
      "outputs": [
        {
          "output_type": "stream",
          "name": "stdout",
          "text": [
            "skeeG rof skeeG\n"
          ]
        }
      ]
    },
    {
      "cell_type": "markdown",
      "source": [
        "## Medium Interview Questions on Stack Data Structure"
      ],
      "metadata": {
        "id": "TeNXI7AEC1go"
      }
    },
    {
      "cell_type": "markdown",
      "source": [
        "### 7 Queue using Stacks\n",
        "\n",
        "We are given a stack data structure with push and pop operations, the task is to implement a queue using instances of stack data structure and operations on them\n",
        "\n",
        "<img src=\"https://media.geeksforgeeks.org/wp-content/cdn-uploads/Stack-Queue.png\" height=400px/>"
      ],
      "metadata": {
        "id": "zBsnQ_SuDRKW"
      }
    },
    {
      "cell_type": "code",
      "source": [
        "class Queue:\n",
        "\tdef __init__(self):\n",
        "\t\tself.s1 = []\n",
        "\t\tself.s2 = []\n",
        "\n",
        "\tdef enQueue(self, x):\n",
        "\n",
        "\t\twhile len(self.s1) != 0:\n",
        "\t\t\tself.s2.append(self.s1[-1])\n",
        "\t\t\tself.s1.pop()\n",
        "\n",
        "\t\tself.s1.append(x)\n",
        "\n",
        "\t\twhile len(self.s2) != 0:\n",
        "\t\t\tself.s1.append(self.s2[-1])\n",
        "\t\t\tself.s2.pop()\n",
        "\n",
        "\tdef deQueue(self):\n",
        "\n",
        "\t\tif len(self.s1) == 0:\n",
        "\t\t\treturn -1;\n",
        "\n",
        "\t\tx = self.s1[-1]\n",
        "\t\tself.s1.pop()\n",
        "\t\treturn x\n",
        "\n",
        "if __name__ == '__main__':\n",
        "\tq = Queue()\n",
        "\tq.enQueue(1)\n",
        "\tq.enQueue(2)\n",
        "\tq.enQueue(3)\n",
        "\n",
        "\tprint(q.deQueue())\n",
        "\tprint(q.deQueue())\n",
        "\tprint(q.deQueue())\n"
      ],
      "metadata": {
        "colab": {
          "base_uri": "https://localhost:8080/"
        },
        "id": "JkphrbqxBCPm",
        "outputId": "f62e27e6-7f7a-4499-96c9-a7e6addeae63"
      },
      "execution_count": null,
      "outputs": [
        {
          "output_type": "stream",
          "name": "stdout",
          "text": [
            "1\n",
            "2\n",
            "3\n"
          ]
        }
      ]
    },
    {
      "cell_type": "markdown",
      "source": [
        "### 8 Evaluation of Postfix Expression\n",
        "\n",
        "Given a postfix expression, the task is to evaluate the postfix expression.\n",
        "\n",
        "Postfix expression: The expression of the form “a b operator” (ab+) i.e., when a pair of operands is followed by an operator.\n",
        "```\n",
        "Examples:\n",
        "\n",
        "Input: str = “2 3 1 * + 9 -“\n",
        "Output: -4\n",
        "Explanation: If the expression is converted into an infix expression, it will be 2 + (3 * 1) – 9 = 5 – 9 = -4.\n",
        "\n",
        "Input: str = “100 200 + 2 / 5 * 7 +”\n",
        "Output: 757\n",
        "```"
      ],
      "metadata": {
        "id": "jRlcPF_4Nf96"
      }
    },
    {
      "cell_type": "code",
      "source": [
        "def postfix(strs):\n",
        "  strs = strs.split(' ')\n",
        "  stack = []\n",
        "  for chr in strs:\n",
        "    if chr in '*+-/':\n",
        "      b = stack.pop()\n",
        "      a = stack.pop()\n",
        "\n",
        "      if chr == '+':\n",
        "        stack.append(a + b)\n",
        "      elif chr == '-':\n",
        "        stack.append(a-b)\n",
        "      elif chr == '*':\n",
        "        stack.append(a*b)\n",
        "      elif chr == '/':\n",
        "        stack.append(int(a/b))\n",
        "    else:\n",
        "      stack.append(int(chr))\n",
        "\n",
        "  return stack[0]\n",
        "\n",
        "strs = \"100 200 + 2 / 5 * 7 +\"\n",
        "print(postfix(strs))"
      ],
      "metadata": {
        "colab": {
          "base_uri": "https://localhost:8080/"
        },
        "id": "h5Ze-X7UHEr3",
        "outputId": "eaef1cda-0fbc-4641-dbe0-5455ff2b2432"
      },
      "execution_count": null,
      "outputs": [
        {
          "output_type": "stream",
          "name": "stdout",
          "text": [
            "757\n"
          ]
        }
      ]
    },
    {
      "cell_type": "markdown",
      "source": [
        "### 9 Generate Parentheses\n",
        "You are given an integer n. Return all well-formed parentheses strings that you can generate with n pairs of parentheses.\n",
        "\n",
        "Example 1:\n",
        "```\n",
        "Input: n = 1\n",
        "\n",
        "Output: [\"()\"]\n",
        "Example 2:\n",
        "\n",
        "Input: n = 3\n",
        "\n",
        "Output: [\"((()))\",\"(()())\",\"(())()\",\"()(())\",\"()()()\"]\n",
        "```\n",
        "You may return the answer in any order.\n",
        "\n",
        "Constraints:\n",
        "\n",
        "1 <= n <= 7\n"
      ],
      "metadata": {
        "id": "RIOX2fsnW87E"
      }
    },
    {
      "cell_type": "code",
      "source": [
        "class Solution:\n",
        "    def generateParenthesis(self, n):\n",
        "        def backtrack(s, open_count, close_count):\n",
        "            if len(s) == 2 * n:\n",
        "                result.append(s)\n",
        "                return\n",
        "            if open_count < n:\n",
        "                backtrack(s + \"(\", open_count + 1, close_count)\n",
        "            if close_count < open_count:\n",
        "                backtrack(s + \")\", open_count, close_count + 1)\n",
        "\n",
        "        result = []\n",
        "        backtrack(\"\", 0, 0)\n",
        "        return result"
      ],
      "metadata": {
        "id": "rNXZfPU2XFNp"
      },
      "execution_count": null,
      "outputs": []
    },
    {
      "cell_type": "markdown",
      "source": [
        "### 10 Next greater Element\n",
        "\n",
        "Given an array, print the Next Greater Element (NGE) for every element.\n",
        "\n",
        "The Next greater Element for an element x is the first greater element on the right side of x in the array. Elements for which no greater element exist, consider the next greater element as -1.\n",
        "\n",
        "Examples:\n",
        "```\n",
        "Input: arr[] = [ 4 , 5 , 2 , 25 ]\n",
        "Output:        4      –>   5\n",
        "               5      –>   25\n",
        "               2      –>   25\n",
        "              25     –>   -1\n",
        "Explanation: except 25 every element has an element greater than them present on the right side\n",
        "\n",
        "Input: arr[] = [ 13 , 7, 6 , 12 ]\n",
        "Output:         13      –>    -1\n",
        "                7       –>     12\n",
        "                6       –>     12\n",
        "               12      –>     -1\n",
        "Explanation: 13 and 12 don’t have any element greater than them present on the right side\n",
        "```"
      ],
      "metadata": {
        "id": "WoTMpHf3WKCH"
      }
    },
    {
      "cell_type": "code",
      "source": [
        "def NGE(arr):\n",
        "  stack = []\n",
        "  for i in range(len(arr)):\n",
        "    for j in range(i, len(arr)):\n",
        "      if arr[i] < arr[j]:\n",
        "        stack.append(arr[j])\n",
        "        break\n",
        "    else:\n",
        "      stack.append(-1)\n",
        "  return stack\n",
        "\n",
        "arr = [ 4 , 5 , 2 , 25 ]\n",
        "print(NGE(arr))"
      ],
      "metadata": {
        "id": "fkVMHzYNVKNg",
        "colab": {
          "base_uri": "https://localhost:8080/"
        },
        "outputId": "075daacc-f13f-4883-ed32-6dd056987540"
      },
      "execution_count": null,
      "outputs": [
        {
          "output_type": "stream",
          "name": "stdout",
          "text": [
            "[5, 25, 25, -1]\n"
          ]
        }
      ]
    },
    {
      "cell_type": "markdown",
      "source": [
        "### 11 Daily Temperatures\n",
        "You are given an array of integers temperatures where temperatures[i] represents the daily temperatures on the ith day.\n",
        "\n",
        "Return an array result where result[i] is the number of days after the ith day before a warmer temperature appears on a future day. If there is no day in the future where a warmer temperature will appear for the ith day, set result[i] to 0 instead.\n",
        "\n",
        "Example 1:\n",
        "```\n",
        "Input: temperatures = [30,38,30,36,35,40,28]\n",
        "\n",
        "Output: [1,4,1,2,1,0,0]\n",
        "Example 2:\n",
        "\n",
        "Input: temperatures = [22,21,20]\n",
        "\n",
        "Output: [0,0,0]\n",
        "Constraints:\n",
        "\n",
        "1 <= temperatures.length <= 1000.\n",
        "1 <= temperatures[i] <= 100\n",
        "```"
      ],
      "metadata": {
        "id": "Mv14xJD9Y8OC"
      }
    },
    {
      "cell_type": "code",
      "source": [
        "def tempratures(temp):\n",
        "  stack = []\n",
        "  day = 0\n",
        "  for i in range(len(temp)):\n",
        "    for j in range(i, len(temp)):\n",
        "      if temp[i] < temp[j]:\n",
        "        stack.append(day)\n",
        "        day = 0\n",
        "        break\n",
        "      else:\n",
        "        day += 1\n",
        "    else:\n",
        "      stack.append(0)\n",
        "      day = 0\n",
        "  return stack\n",
        "\n",
        "temp = [55,38,53,81,61,93,97,32,43,78]\n",
        "print(tempratures(temp))\n",
        "# [3,1,1,2,1,1,0,1,1,0]\n"
      ],
      "metadata": {
        "colab": {
          "base_uri": "https://localhost:8080/"
        },
        "id": "C7eO5GP0ZG22",
        "outputId": "02d76c62-7032-4711-e989-2bb463289733"
      },
      "execution_count": null,
      "outputs": [
        {
          "output_type": "stream",
          "name": "stdout",
          "text": [
            "[3, 1, 1, 2, 1, 1, 0, 1, 1, 0]\n"
          ]
        }
      ]
    },
    {
      "cell_type": "markdown",
      "source": [
        "### 12 Sort a stack using a temporary stack\n",
        "\n",
        "Given a stack of integers, sort it in ascending order using another temporary stack.\n",
        "\n",
        "Examples:\n",
        "```\n",
        "Input : [34, 3, 31, 98, 92, 23]\n",
        "Output : [3, 23, 31, 34, 92, 98]\n",
        "\n",
        "Input : [3, 5, 1, 4, 2, 8]\n",
        "Output : [1, 2, 3, 4, 5, 8]\n",
        "```"
      ],
      "metadata": {
        "id": "4N1PMdVuW7Qa"
      }
    },
    {
      "cell_type": "code",
      "source": [
        "def sort_stack(input_stack):\n",
        "    temp_stack = []\n",
        "\n",
        "    while input_stack:\n",
        "        current = input_stack.pop()\n",
        "\n",
        "        while temp_stack and temp_stack[-1] > current:\n",
        "            input_stack.append(temp_stack.pop())\n",
        "\n",
        "        temp_stack.append(current)\n",
        "\n",
        "    return temp_stack\n",
        "\n",
        "input_stack = [34, 3, 31, 98, 92, 23]\n",
        "print(\"Sorted stack:\", sort_stack(input_stack))\n",
        "\n",
        "input_stack = [3, 5, 1, 4, 2, 8]\n",
        "print(\"Sorted stack:\", sort_stack(input_stack))\n"
      ],
      "metadata": {
        "colab": {
          "base_uri": "https://localhost:8080/"
        },
        "id": "q-0Pxjwc3nph",
        "outputId": "eee736e9-40e8-4ec9-9c20-84c43345113f"
      },
      "execution_count": null,
      "outputs": [
        {
          "output_type": "stream",
          "name": "stdout",
          "text": [
            "Sorted stack: [3, 23, 31, 34, 92, 98]\n",
            "Sorted stack: [1, 2, 3, 4, 5, 8]\n"
          ]
        }
      ]
    },
    {
      "cell_type": "markdown",
      "source": [
        "### 13 Car Fleet\n",
        "\n",
        "There are n cars traveling to the same destination on a one-lane highway.\n",
        "\n",
        "You are given two arrays of integers position and speed, both of length n.\n",
        "\n",
        "position[i] is the position of the ith car (in miles)\n",
        "speed[i] is the speed of the ith car (in miles per hour)\n",
        "The destination is at position target miles.\n",
        "\n",
        "A car can not pass another car ahead of it. It can only catch up to another car and then drive at the same speed as the car ahead of it.\n",
        "\n",
        "A car fleet is a non-empty set of cars driving at the same position and same speed. A single car is also considered a car fleet.\n",
        "\n",
        "If a car catches up to a car fleet the moment the fleet reaches the destination, then the car is considered to be part of the fleet.\n",
        "\n",
        "Return the number of different car fleets that will arrive at the destination.\n",
        "```\n",
        "Example 1:\n",
        "\n",
        "Input: target = 10, position = [1,4], speed = [3,2]\n",
        "\n",
        "Output: 1\n",
        "Explanation: The cars starting at 1 (speed 3) and 4 (speed 2) become a fleet, meeting each other at 10, the destination.\n",
        "\n",
        "Example 2:\n",
        "\n",
        "Input: target = 10, position = [4,1,0,7], speed = [2,2,1,1]\n",
        "\n",
        "Output: 3\n",
        "Explanation: The cars starting at 4 and 7 become a fleet at position 10. The cars starting at 1 and 0 never catch up to the car ahead of them. Thus, there are 3 car fleets that will arrive at the destination.\n",
        "\n",
        "Constraints:\n",
        "\n",
        "n == position.length == speed.length.\n",
        "1 <= n <= 1000\n",
        "0 < target <= 1000\n",
        "0 < speed[i] <= 100\n",
        "0 <= position[i] < target\n",
        "All the values of position are unique.\n",
        "```"
      ],
      "metadata": {
        "id": "OGZ33I-azucU"
      }
    },
    {
      "cell_type": "code",
      "source": [
        "class Solution:\n",
        "    def carFleet(self, target, position, speed):\n",
        "        n = len(position)\n",
        "        cars = [(position[i], speed[i]) for i in range(n)]\n",
        "\n",
        "        cars.sort(reverse=True)\n",
        "\n",
        "        times = [(target - pos) / spd for pos, spd in cars]\n",
        "\n",
        "        fleets = 0\n",
        "        while times:\n",
        "            lead_time = times.pop(0)\n",
        "            fleets += 1\n",
        "\n",
        "            while times and times[0] <= lead_time:\n",
        "                times.pop(0)\n",
        "\n",
        "        return fleets"
      ],
      "metadata": {
        "id": "vjdjnClV3uwH"
      },
      "execution_count": null,
      "outputs": []
    },
    {
      "cell_type": "markdown",
      "source": [
        "Largest Rectangle In Histogram\n",
        "You are given an array of integers heights where heights[i] represents the height of a bar. The width of each bar is 1.\n",
        "\n",
        "Return the area of the largest rectangle that can be formed among the bars.\n",
        "\n",
        "Note: This chart is known as a histogram.\n",
        "\n",
        "Example 1:\n",
        "\n",
        "Input: heights = [7,1,7,2,2,4]\n",
        "\n",
        "Output: 8\n",
        "\n",
        "Example 2:\n",
        "\n",
        "Input: heights = [1,3,7]\n",
        "\n",
        "Output: 7\n",
        "\n",
        "Constraints:\n",
        "\n",
        "1 <= heights.length <= 1000.\n",
        "0 <= heights[i] <= 1000"
      ],
      "metadata": {
        "id": "S-ye5qSklxkm"
      }
    },
    {
      "cell_type": "code",
      "source": [
        "def max_area_histogram(histogram):\n",
        "    stack = list()\n",
        "    max_area = 0\n",
        "    index = 0\n",
        "    while index < len(histogram):\n",
        "        if (not stack) or (histogram[stack[-1]] <= histogram[index]):\n",
        "            stack.append(index)\n",
        "            index += 1\n",
        "        else:\n",
        "            top_of_stack = stack.pop()\n",
        "            area = (histogram[top_of_stack] *\n",
        "                    ((index - stack[-1] - 1)\n",
        "                     if stack else index))\n",
        "\n",
        "            max_area = max(max_area, area)\n",
        "    while stack:\n",
        "\n",
        "        top_of_stack = stack.pop()\n",
        "        area = (histogram[top_of_stack] *\n",
        "                ((index - stack[-1] - 1)\n",
        "                 if stack else index))\n",
        "        max_area = max(max_area, area)\n",
        "    return max_area\n",
        "\n",
        "heights = [7,1,7,2,2,4]\n",
        "print(max_area_histogram(heights))"
      ],
      "metadata": {
        "colab": {
          "base_uri": "https://localhost:8080/"
        },
        "id": "DRKYiC8Ml4b_",
        "outputId": "dc599389-204c-4fe6-dfc6-7336997bdf2d"
      },
      "execution_count": 12,
      "outputs": [
        {
          "output_type": "stream",
          "name": "stdout",
          "text": [
            "8\n"
          ]
        }
      ]
    },
    {
      "cell_type": "code",
      "source": [],
      "metadata": {
        "id": "aYk-q1ULpLcg"
      },
      "execution_count": null,
      "outputs": []
    }
  ]
}