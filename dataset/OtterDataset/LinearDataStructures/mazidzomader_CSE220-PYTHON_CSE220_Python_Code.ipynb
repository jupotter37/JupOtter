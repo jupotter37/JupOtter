{
  "nbformat": 4,
  "nbformat_minor": 0,
  "metadata": {
    "colab": {
      "provenance": []
    },
    "kernelspec": {
      "name": "python3",
      "display_name": "Python 3"
    },
    "language_info": {
      "name": "python"
    }
  },
  "cells": [
    {
      "cell_type": "markdown",
      "source": [
        "## **Linear Array**\n"
      ],
      "metadata": {
        "id": "P-WSh4evYxK8"
      }
    },
    {
      "cell_type": "code",
      "source": [
        "def iteration(source):\n",
        "  for i in range(len(source)):\n",
        "    print(source[i])\n",
        "\n",
        "def reverseIteration(source):\n",
        "  for i in range(len(source) - 1, -1, -1):\n",
        "    print(source[i])"
      ],
      "metadata": {
        "id": "xhHBBDaLSMwH"
      },
      "execution_count": null,
      "outputs": []
    },
    {
      "cell_type": "code",
      "execution_count": null,
      "metadata": {
        "id": "XRdqdG98RZSx"
      },
      "outputs": [],
      "source": [
        "def copyArray(source):\n",
        "  newArray = [None] * len(source)\n",
        "  for i in range(len(source)):\n",
        "    newArray[i] = source[i]\n",
        "  return newArray"
      ]
    },
    {
      "cell_type": "code",
      "source": [
        "def resizeArray(oldArray, newCapacity):\n",
        "  newArray = [None] * newCapacity\n",
        "  for i in range(len(oldArray)):\n",
        "    newArray[i] = oldArray[i]\n",
        "  return newArray"
      ],
      "metadata": {
        "id": "RPjRDacAS39G"
      },
      "execution_count": null,
      "outputs": []
    },
    {
      "cell_type": "code",
      "source": [
        "def shiftLeft(arr):\n",
        "  for i in range(1, len(arr)):\n",
        "    arr[i-1] = arr[i]\n",
        "  arr[len(arr) - 1] = None\n",
        "  return arr"
      ],
      "metadata": {
        "id": "_GPvmvyETXGj"
      },
      "execution_count": null,
      "outputs": []
    },
    {
      "cell_type": "code",
      "source": [
        "def shiftRight(arr):\n",
        "  for i in range(len(arr) - 1, 0, -1):\n",
        "    arr[i] = arr[i - 1]\n",
        "  arr[0] = None\n",
        "  return arr"
      ],
      "metadata": {
        "id": "TMU30ktnUc5j"
      },
      "execution_count": null,
      "outputs": []
    },
    {
      "cell_type": "code",
      "source": [
        "def insertElement(arr, size, elem, index):\n",
        "  # Practice how to throw exception if there is no empty space\n",
        "  if size == len(arr):\n",
        "    print(\"No space left. Insertion failed\")\n",
        "  else:\n",
        "    for i in range(size, index, -1):\n",
        "      arr[i] = arr[i - 1] #Shifting right till the index\n",
        "    arr[index] = elem #Inserting element\n",
        "    return arr"
      ],
      "metadata": {
        "id": "Z2mWzKEyUj0Q"
      },
      "execution_count": null,
      "outputs": []
    },
    {
      "cell_type": "code",
      "source": [
        "def removeElement(arr, index, size):\n",
        "  for i in range(index + 1, size):\n",
        "    arr[i - 1] = arr[i] #Shifting left from removing index\n",
        "  arr[size - 1] = None #Making last space empty"
      ],
      "metadata": {
        "id": "zRV3_pfpXMKo"
      },
      "execution_count": null,
      "outputs": []
    },
    {
      "cell_type": "code",
      "source": [
        "def rotateLeft(arr):\n",
        "  temp = arr[0]\n",
        "  for i in range(1, len(arr)):\n",
        "    arr[i-1] = arr[i]\n",
        "  arr[len(arr) - 1] = temp\n",
        "  return arr"
      ],
      "metadata": {
        "id": "H-Derl7CX1fX"
      },
      "execution_count": null,
      "outputs": []
    },
    {
      "cell_type": "code",
      "source": [
        "def rotateRight(arr):\n",
        "  temp = arr[len(arr) - 1]\n",
        "  for i in range(len(arr) - 1, 0, -1):\n",
        "    arr[i] = arr[i - 1]\n",
        "  arr[0] = temp\n",
        "  return arr"
      ],
      "metadata": {
        "id": "pwQSl7jmYA0A"
      },
      "execution_count": null,
      "outputs": []
    },
    {
      "cell_type": "code",
      "source": [
        "def reverseArrayOutOfPlace(arr):\n",
        "  revArr = [None] * len(arr)\n",
        "  i = 0\n",
        "  j = len(arr) - 1\n",
        "  while i < len(arr):\n",
        "    revArr[i] = arr[j]\n",
        "    i += 1\n",
        "    j -= 1\n",
        "  return revArr"
      ],
      "metadata": {
        "id": "Si25_7_ibH9-"
      },
      "execution_count": null,
      "outputs": []
    },
    {
      "cell_type": "code",
      "source": [
        "def revArrInPlace(arr):\n",
        "  i = 0\n",
        "  j = len(arr) - 1\n",
        "  while i < j:\n",
        "    temp = arr[i]\n",
        "    arr[i] = arr[j]\n",
        "    arr[j] = temp\n",
        "    i += 1\n",
        "    j -= 1"
      ],
      "metadata": {
        "id": "m-rifYFcbibF"
      },
      "execution_count": null,
      "outputs": []
    },
    {
      "cell_type": "markdown",
      "source": [
        "## **Multi-Dimensional Array**\n"
      ],
      "metadata": {
        "id": "NqcsGw5UTMtm"
      }
    },
    {
      "cell_type": "code",
      "source": [
        "def createArray():\n",
        "    m = np.zeros((2, 3), dtype=int)\n",
        "    row, col = m.shape\n",
        "    for i in range(len(row)):\n",
        "        for j in range(len(col)):\n",
        "            print(f\"Enter element of [{i}][{j}] index: \")\n",
        "            m[i][j] = int(input())\n",
        "    return m\n",
        "\n",
        "\n",
        "def print_row(m):\n",
        "    row, col = m.shape\n",
        "    for i in range(row):\n",
        "        for j in range(col):\n",
        "            print(m[i][j], end=\" \")\n",
        "        print()\n",
        "\n",
        "\n",
        "def print_col(m):\n",
        "    row, col = m.shape\n",
        "    for i in range(col):\n",
        "        for j in range(row):\n",
        "            print(m[i][j], end=\" \")\n",
        "        print()\n",
        "\n",
        "\n",
        "def array_sum(m):\n",
        "    sum = 0\n",
        "    row, col = m.shape\n",
        "    for i in range(row):\n",
        "        for j in range(col):\n",
        "            sum += m[i][j]\n",
        "    return sum\n",
        "\n",
        "\n",
        "def row_wise_sum(m):\n",
        "    row, col = m.shape\n",
        "    result = np.zeros((row, 1), dtype=int)\n",
        "    for i in range(row):\n",
        "        for j in range(col):\n",
        "            result[i][0] += m[i][j]\n",
        "    return result\n",
        "\n",
        "\n",
        "def col_wise_sum(m):\n",
        "    row, col = m.shape\n",
        "    result = np.zeros((1, col), dtype=int)\n",
        "    for i in range(col):\n",
        "        for j in range(row):\n",
        "            result[0][i] += m[j][i]\n",
        "    return result\n",
        "\n",
        "\n",
        "def swap_2columns(m):\n",
        "    row, col = m.shape\n",
        "    for i in range(row):\n",
        "        m[i][0], m[i][i] = m[i][1], m[i][0]\n",
        "    return m\n",
        "\n",
        "\n",
        "def swap_columns(m):\n",
        "    row, col = m.shape\n",
        "    for i in range(row):\n",
        "        for j in range(col // 2):\n",
        "            m[i][j], m[i][col - 1 - j] = m[i][col - 1 - j], m[i][j]\n",
        "    return m\n",
        "\n",
        "\n",
        "def sum_primary_diagonal(m):\n",
        "    row, col = m.shape\n",
        "    assert row == col, \"Not a square matrix\"\n",
        "    sum = 0\n",
        "    for i in range(row):\n",
        "        sum += m[i][i]\n",
        "    return sum\n",
        "\n",
        "\n",
        "def add_matix(m, n):\n",
        "    r_m, c_m = m.shape\n",
        "    r_n, c_n = n.shape\n",
        "    assert r_m == r_n and c_m == c_n, \"Dimension mismatch\"\n",
        "    result = np.zeros((r_m, c_m), dtype=int)\n",
        "    for i in range(r_m):\n",
        "        for j in range(c_m):\n",
        "            result[i][j] = m[i][j] + n[i][j]\n",
        "    return result\n",
        "\n",
        "\n",
        "def multiply(m, n):\n",
        "    r_m, c_m = m.shape\n",
        "    r_n, c_n = n.shape\n",
        "    assert c_m == r_n, \"Cannot multiply\"\n",
        "    result = np.zeros((r_m, c_n), dtype=int)\n",
        "    for i in range(r_m):\n",
        "        for j in range(c_n):\n",
        "            for k in range(c_m):\n",
        "                result[i][j] += m[i][k] * n[k][j]\n",
        "    return result\n"
      ],
      "metadata": {
        "id": "ehi5LTwTtobk"
      },
      "execution_count": null,
      "outputs": []
    },
    {
      "cell_type": "markdown",
      "source": [
        "## **Linked List**\n"
      ],
      "metadata": {
        "id": "m6lSxbphD2S_"
      }
    },
    {
      "cell_type": "code",
      "source": [
        "# Node class design\n",
        "class Node:\n",
        "  def __init__(self, e, n):\n",
        "    self.elem = e\n",
        "    self.next = n\n"
      ],
      "metadata": {
        "id": "8BZntgfiD2TH"
      },
      "execution_count": null,
      "outputs": []
    },
    {
      "cell_type": "code",
      "source": [
        "# Creating a list\n",
        "def createList(a):\n",
        "  head = Node(a[0], None)\n",
        "  tail = head\n",
        "  for i in range(1, len(a)):\n",
        "    n = Node(a[i], None)\n",
        "    tail.next = n\n",
        "    tail = tail.next\n",
        "  return head"
      ],
      "metadata": {
        "id": "M85EVficD2TH"
      },
      "execution_count": null,
      "outputs": []
    },
    {
      "cell_type": "code",
      "source": [
        "# Iteration over a linked list\n",
        "def iteration(head):\n",
        "  temp = head\n",
        "  while temp != None:\n",
        "    print(temp.element)\n",
        "    temp = temp.next"
      ],
      "metadata": {
        "id": "fBlnRPZiD2TI"
      },
      "execution_count": null,
      "outputs": []
    },
    {
      "cell_type": "code",
      "source": [
        "# Counting number of element in the list\n",
        "def count(head):\n",
        "  count = 0\n",
        "  temp = head\n",
        "  while temp != None:\n",
        "    count += 1\n",
        "    temp = temp.next\n",
        "  return count"
      ],
      "metadata": {
        "id": "qbL2mjqRD2TI"
      },
      "execution_count": null,
      "outputs": []
    },
    {
      "cell_type": "code",
      "source": [
        "# Getting element of an specific index\n",
        "def elemAt(head, idx):\n",
        "  count = 0\n",
        "  temp = head\n",
        "  while temp != None:\n",
        "    if count == idx:\n",
        "      return temp.elem\n",
        "    temp = temp.next\n",
        "    count += 1\n",
        "  return None"
      ],
      "metadata": {
        "id": "O8gFOifZD2TI"
      },
      "execution_count": null,
      "outputs": []
    },
    {
      "cell_type": "code",
      "source": [
        "# Setting new element of an specific index\n",
        "def set(head, idx, elem):\n",
        "  count = 0\n",
        "  temp = head\n",
        "  isUpdated = False\n",
        "  while temp != None:\n",
        "    if count == idx:\n",
        "      temp.elem = elem\n",
        "      isUpdated = True\n",
        "      break\n",
        "    temp = temp.next\n",
        "    count += 1\n",
        "  if isUpdated:\n",
        "    print(\"Value successfully updated!!!!\")\n",
        "  else:\n",
        "    print(\"Invalid index\")"
      ],
      "metadata": {
        "id": "PkHRGFILU00v"
      },
      "execution_count": null,
      "outputs": []
    },
    {
      "cell_type": "code",
      "source": [
        "# Getting node of an specific index\n",
        "def nodeAt(head, idx):\n",
        "  count = 0\n",
        "  temp = head\n",
        "  while temp != None:\n",
        "    if count == idx:\n",
        "      return temp\n",
        "    temp = temp.next\n",
        "    count += 1\n",
        "  return None"
      ],
      "metadata": {
        "id": "bd0IKoMwD2TI"
      },
      "execution_count": null,
      "outputs": []
    },
    {
      "cell_type": "code",
      "source": [
        "# Getting index of an specific element\n",
        "def indexOf(head, elem):\n",
        "  temp = head\n",
        "  count = 0\n",
        "  while temp != None:\n",
        "    if elem == temp.elem:\n",
        "      return count\n",
        "    count += 1\n",
        "    temp = temp.next\n",
        "  return -1 # Here -1 represents the absence of element in the list\n"
      ],
      "metadata": {
        "id": "i1-ryDUcD2TI"
      },
      "execution_count": null,
      "outputs": []
    },
    {
      "cell_type": "code",
      "source": [
        "def contains(head, elem):\n",
        "  temp = head\n",
        "  while temp != None:\n",
        "    if elem == temp.elem:\n",
        "      return True\n",
        "    temp = temp.next\n",
        "  return False"
      ],
      "metadata": {
        "id": "APEAnSZ5ZzQV"
      },
      "execution_count": null,
      "outputs": []
    },
    {
      "cell_type": "code",
      "source": [
        "def insert(head, elem, idx):\n",
        "  total_nodes = count(head)\n",
        "  if idx == 0: # Inserting at the beginning\n",
        "    n = Node(elem, head)\n",
        "    head = n\n",
        "  elif idx >= 1 and idx < total_nodes: # Inserting at the middle\n",
        "    n = Node(elem, head)\n",
        "    n1 = nodeAt(head, idx - 1)\n",
        "    n2 = nodeAt(head, idx)\n",
        "    n.next = n2\n",
        "    n1.next = n\n",
        "  elif idx == total_nodes: # Inserting at the end\n",
        "    n = Node(elem, None)\n",
        "    n1 = nodeAt(head, total_nodes - 1)\n",
        "    n1.next = n\n",
        "  else:\n",
        "    print(\"Invalid Index\")\n",
        "  return head"
      ],
      "metadata": {
        "id": "_J1WCscRaj6z"
      },
      "execution_count": null,
      "outputs": []
    },
    {
      "cell_type": "code",
      "source": [
        "def remove(head, idx):\n",
        "  if idx == 0: # Removing first element\n",
        "    head = head.next\n",
        "  elif idx >= 1 and idx < count(head): # Removing middle element\n",
        "    n1 = nodeAt(head, idx - 1)\n",
        "    removed_node = n1.next\n",
        "    n1.next = removed_node.next\n",
        "  else:\n",
        "    print(\"Invalid Index\")\n",
        "  return head"
      ],
      "metadata": {
        "id": "W_CXowStfD5d"
      },
      "execution_count": null,
      "outputs": []
    },
    {
      "cell_type": "code",
      "source": [
        "def copyList(source):\n",
        "  copy_head = None\n",
        "  copy_tail = None\n",
        "  temp = source\n",
        "  while temp != None:\n",
        "    n = Node(temp.elem, None)\n",
        "    if copy_head == None:\n",
        "      copy_head = n\n",
        "      copy_tail = copy_head\n",
        "    else:\n",
        "      copy_tail.next = n\n",
        "      copy_tail = copy_tail.next\n",
        "    temp = temp.next\n",
        "  return copy_head"
      ],
      "metadata": {
        "id": "nQf5frJrgWZ7"
      },
      "execution_count": null,
      "outputs": []
    },
    {
      "cell_type": "code",
      "source": [
        "def reverse_out_of_place(head):\n",
        "  new_head = Node(head.elem, None)\n",
        "  temp = head.next\n",
        "  while temp != None:\n",
        "    n = Node(temp.elem, new_head)\n",
        "    new_head = n\n",
        "    temp = temp.next\n",
        "  return new_head"
      ],
      "metadata": {
        "id": "mjY03iyMiyX7"
      },
      "execution_count": null,
      "outputs": []
    },
    {
      "cell_type": "code",
      "source": [
        "def reverse_in_place(head):\n",
        "  new_head = None\n",
        "  temp = head\n",
        "  while temp != None:\n",
        "    n = temp.next\n",
        "    temp.next = new_head\n",
        "    new_head = temp\n",
        "    temp = n\n",
        "  return new_head"
      ],
      "metadata": {
        "id": "26nyfrEzjyH0"
      },
      "execution_count": null,
      "outputs": []
    },
    {
      "cell_type": "code",
      "source": [
        "def rotate_left(head):\n",
        "  new_head = head.next\n",
        "  temp = new_head\n",
        "  while temp.next != None:\n",
        "    temp = temp.next\n",
        "  temp.next = head\n",
        "  head.next = None\n",
        "  head = new_head\n",
        "  return head"
      ],
      "metadata": {
        "id": "gNtGsDRUnZ9c"
      },
      "execution_count": null,
      "outputs": []
    },
    {
      "cell_type": "code",
      "source": [
        "def rotate_right(head):\n",
        "  last_node = head.next\n",
        "  second_last_node = head\n",
        "  while last_node.next != None:\n",
        "    last_node = last_node.next\n",
        "    second_last_node = second_last_node.next\n",
        "  last_node.next = head\n",
        "  second_last_node.next = None\n",
        "  head = last_node\n",
        "  return head"
      ],
      "metadata": {
        "id": "Go1gyrVEoJjC"
      },
      "execution_count": null,
      "outputs": []
    },
    {
      "cell_type": "markdown",
      "source": [
        "## **Stack**\n"
      ],
      "metadata": {
        "id": "jnQ8NSwzV-Kp"
      }
    },
    {
      "cell_type": "code",
      "source": [
        "import numpy as np\n",
        "class Stack:\n",
        "  def __init__(self):\n",
        "    self.stack = np.zeros(20)\n",
        "    self.top = 0\n",
        "    self.size = 0\n",
        "  def push(self, obj):\n",
        "    if self.size == len(self.stack):\n",
        "      print(\"Stack Overflow!!!\")\n",
        "    else:\n",
        "      self.stack[self.top] = obj\n",
        "      self.top += 1\n",
        "      self.size += 1\n",
        "  def pop(self):\n",
        "    if self.size == 0:\n",
        "      print(\"Stack Underflow!!!\")\n",
        "    else:\n",
        "      temp = self.stack[self.top - 1]\n",
        "      self.stack[self.top - 1] = 0\n",
        "      self.top -= 1\n",
        "      self.size -= 1\n",
        "      return temp\n",
        "  def peek(self):\n",
        "    if self.size == 0:\n",
        "      print(\"Stack Underflow!!!\")\n",
        "    else:\n",
        "      return self.stack[self.top - 1]"
      ],
      "metadata": {
        "id": "H3-rEZg_WCvI"
      },
      "execution_count": null,
      "outputs": []
    },
    {
      "cell_type": "markdown",
      "source": [
        "##**Doubly Linked List**"
      ],
      "metadata": {
        "id": "Ks63pPrTRIP3"
      }
    },
    {
      "cell_type": "code",
      "source": [
        "class DoublyNode:\n",
        "  def __init__(self, elem, next, prev):\n",
        "    self.elem = elem\n",
        "    self.next = next\n",
        "    self.prev = prev"
      ],
      "metadata": {
        "id": "vVc5P4CBRTfo"
      },
      "execution_count": null,
      "outputs": []
    },
    {
      "cell_type": "code",
      "source": [
        "def createList(arr):\n",
        "  dh = DoublyNode(None, None, None)\n",
        "  dh.next = dh\n",
        "  dh.prev = dh\n",
        "  tail = dh\n",
        "\n",
        "  for i in range(len(arr)):\n",
        "    n = DoublyNode(arr[i], dh, tail)\n",
        "    tail.next = n\n",
        "    tail = tail.next\n",
        "    dh.prev = tail\n",
        "\n",
        "  return dh"
      ],
      "metadata": {
        "id": "5yaMj678RLi2"
      },
      "execution_count": null,
      "outputs": []
    },
    {
      "cell_type": "code",
      "source": [
        "def iteration(dh):\n",
        "  temp = dh.next\n",
        "  while temp != dh:\n",
        "    print(temp.elem)\n",
        "    temp = temp.next"
      ],
      "metadata": {
        "id": "tTG0xSMrSRzC"
      },
      "execution_count": null,
      "outputs": []
    },
    {
      "cell_type": "code",
      "source": [
        "def nodeAt(dh, idx):\n",
        "  temp = dh.next\n",
        "  c = 0\n",
        "  while temp != dh:\n",
        "    if c == idx:\n",
        "      return temp\n",
        "    c += 1\n",
        "    temp = temp.next\n",
        "  return None # Invalid Index"
      ],
      "metadata": {
        "id": "GK7CDcQDSbC_"
      },
      "execution_count": null,
      "outputs": []
    },
    {
      "cell_type": "code",
      "source": [
        "def insertion(dh, elem, idx):\n",
        "  # Assuming the idx is valid\n",
        "  node_to_insert = DoublyNode(elem, None, None)\n",
        "  indexed_node = nodeAt(dh, idx) # Retriving the node at that index\n",
        "  prev_node = indexed_node.prev # There will always be a previous node\n",
        "  # Change the connection\n",
        "  # Observe that no special case is needed\n",
        "  node_to_insert.next = indexed_node\n",
        "  node_to_insert.prev = prev_node\n",
        "  prev_node.next = node_to_insert\n",
        "  indexed_node.prev = node_to_insert"
      ],
      "metadata": {
        "id": "4uqFaN2TaOiQ"
      },
      "execution_count": null,
      "outputs": []
    },
    {
      "cell_type": "code",
      "source": [
        "def removal(dh, idx):\n",
        "  # Assuming the idx is valid\n",
        "  node_to_remove = nodeAt(dh, idx)\n",
        "  prev_node = node_to_remove.prev\n",
        "  next_node = node_to_remove.next\n",
        "  # Change the connection\n",
        "  # No special case is needed\n",
        "  prev_node.next = next_node\n",
        "  next_node.prev = prev_node\n",
        "  node_to_remove.next = None\n",
        "  node_to_remove.prev = None\n",
        "  return node_to_remove.elem # Returning the removed element"
      ],
      "metadata": {
        "id": "hj7jYi_xc6iA"
      },
      "execution_count": null,
      "outputs": []
    },
    {
      "cell_type": "markdown",
      "source": [
        "##**Queue**"
      ],
      "metadata": {
        "id": "7XhFMauQW7gc"
      }
    },
    {
      "cell_type": "code",
      "source": [
        "class Node:\n",
        "  def __init__(self, elem, next):\n",
        "    self.elem = elem\n",
        "    self.next = next"
      ],
      "metadata": {
        "id": "xvOVJLXkW7gd"
      },
      "execution_count": null,
      "outputs": []
    },
    {
      "cell_type": "code",
      "source": [
        "class Queue:\n",
        "\n",
        "  def __init__(self):\n",
        "    self.front = None\n",
        "    self.back = None\n",
        "\n",
        "  def enqueue(self, elem):\n",
        "    if self.front == None: # This means first item\n",
        "      self.front = Node(elem, None)\n",
        "      self.back = self.front # Initially front and back are same\n",
        "    else:\n",
        "      n = Node(elem, None)\n",
        "      self.back.next = n # Inserting at the last\n",
        "      self.back = self.back.next # Moving back at the end\n",
        "\n",
        "  def dequeue(self):\n",
        "    if self.front == None: # For empty Queue\n",
        "      return \"Queue Underflow Exception\"\n",
        "    else:\n",
        "      dequeued_item = self.front.elem\n",
        "      self.front = self.front.next # Moving the front pointer\n",
        "      return dequeued_item # Returning the dequeued item\n",
        "\n",
        "  def peek(self):\n",
        "    if self.front == None: # For empty Queue\n",
        "      return \"Queue Underflow Exception\"\n",
        "    else:\n",
        "      return self.front.elem # Returning the front item"
      ],
      "metadata": {
        "id": "qqlHKOK4XF_Z"
      },
      "execution_count": null,
      "outputs": []
    },
    {
      "cell_type": "code",
      "source": [
        "import numpy as np\n",
        "class ArrayQueue:\n",
        "  def __init__(self):\n",
        "    self.queue = np.zeros(10) # Queue with size 10\n",
        "    self.front = 0 # Initializing at index 0\n",
        "    self.back = 0 # Initializing at index 0\n",
        "    self.size = 0 # no elements\n",
        "\n",
        "  def enqueue(self, elem):\n",
        "    if self.size == len(self.queue):\n",
        "      return \"Queue Overflow\"\n",
        "    else:\n",
        "      self.queue[self.back] = elem\n",
        "      self.back = (self.back + 1) % len(self.queue)\n",
        "      self.size += 1\n",
        "\n",
        "  def dequeue(self):\n",
        "    if self.size == 0:\n",
        "      return \"Queue Underflow\"\n",
        "    else:\n",
        "      dequeued_item = self.queue[self.front]\n",
        "      self.queue[self.front] = 0\n",
        "      self.front = (self.front + 1) % len(self.queue)\n",
        "      self.size -= 1\n",
        "      return dequeued_item\n",
        "\n",
        "  def peek(self):\n",
        "    if self.size == 0:\n",
        "      return \"Queue Underflow\"\n",
        "    else:\n",
        "      return self.queue[self.front]"
      ],
      "metadata": {
        "id": "dO6cS1VlwJur"
      },
      "execution_count": null,
      "outputs": []
    },
    {
      "cell_type": "code",
      "source": [
        "class Stack:\n",
        "  def __init__(self):\n",
        "    self.top = None\n",
        "\n",
        "  def push(self, obj):\n",
        "    n = Node(obj, None)\n",
        "    n.next = self.top\n",
        "    self.top = n\n",
        "\n",
        "  def pop(self):\n",
        "    pi = self.top.elem\n",
        "    self.top = self.top.next\n",
        "    return pi\n",
        "\n",
        "  def peek(self):\n",
        "    return self.top.elem"
      ],
      "metadata": {
        "id": "e0hKI-DZj8bQ"
      },
      "execution_count": null,
      "outputs": []
    }
  ]
}