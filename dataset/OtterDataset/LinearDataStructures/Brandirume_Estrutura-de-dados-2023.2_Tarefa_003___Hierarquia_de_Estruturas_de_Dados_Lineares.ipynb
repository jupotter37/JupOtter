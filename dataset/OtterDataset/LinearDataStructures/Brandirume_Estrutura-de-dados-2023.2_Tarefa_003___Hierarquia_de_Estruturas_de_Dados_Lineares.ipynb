{
  "cells": [
    {
      "cell_type": "markdown",
      "id": "8a67c796",
      "metadata": {
        "id": "8a67c796"
      },
      "source": [
        "# Hierarquia de Estruturas de Dados Lineares\n",
        "\n",
        "#### Douglas Nery, Felipe Cockless, Rumenick Brandi"
      ]
    },
    {
      "cell_type": "markdown",
      "source": [
        "## Base Class (`HEDL`)\n",
        "\n",
        "The base class `HEDL` provides common functionalities for linear data structures. It includes methods for appending, popping, checking if the structure is empty or full, and more. The class also defines exceptions (`FullStackError` and `EmptyStackError`) for handling full and empty stack errors.\n",
        "\n",
        "### Methods:\n",
        "\n",
        "- `__init__(self, Capacity)`: Initializes the data structure with a specified capacity.\n",
        "- `__len__(self)`: Returns the length of the data structure.\n",
        "- `__getitem__(self, index)`: Gets the item at the specified index.\n",
        "- `__setitem__(self, index, value)`: Sets the item at the specified index.\n",
        "- `is_empty(self)`: Checks if the data structure is empty.\n",
        "- `is_full(self)`: Checks if the data structure is full.\n",
        "- `append(self, data)`: Appends an item to the data structure.\n",
        "- `pop(self, index=None)`: Pops an item from the data structure.\n",
        "- `appbegin(self, data)`: Returns a copy of the data structure with the new item at the beginning.\n"
      ],
      "metadata": {
        "id": "tjJSI6qIyQG1"
      },
      "id": "tjJSI6qIyQG1"
    },
    {
      "cell_type": "code",
      "execution_count": null,
      "id": "7d567034",
      "metadata": {
        "id": "7d567034"
      },
      "outputs": [],
      "source": [
        "#Hierarquia de Estruturas de Dados Lineares\n",
        "from array import array as arr\n",
        "\n",
        "class HEDL:\n",
        "    def __init__(self,Capacity):\n",
        "        self.capacity = Capacity\n",
        "\n",
        "    def __len__(self):\n",
        "        return len(self.data)\n",
        "\n",
        "    def __getitem__(self, index):\n",
        "        return self.data[index]\n",
        "\n",
        "    def __setitem__(self, index, value):\n",
        "        self.data[index] = value\n",
        "\n",
        "    def is_empty(self):\n",
        "        return len(self.data) == 0\n",
        "\n",
        "    def is_full(self):\n",
        "        return len(self.data) == self.capacity\n",
        "\n",
        "    def append(self,data):\n",
        "        if len(self.data) >= self.capacity:\n",
        "            raise FullStackError(\"A estrutura está cheia\")\n",
        "        self.data.append(item)\n",
        "\n",
        "    def pop(self,index=None):\n",
        "        if self.is_empty():\n",
        "            raise EmptyStackError(\"A estrutura está vazia\")\n",
        "        if index != None:\n",
        "            intermediary = []\n",
        "            for i,item in enumerate(self.data):\n",
        "                if i != index:\n",
        "                    intermediary.append(item)\n",
        "                else:\n",
        "                    excluded_item = item\n",
        "            self.data = intermediary\n",
        "            return excluded_item\n",
        "        else:\n",
        "            return self.data.pop()\n",
        "\n",
        "    def appbegin(self,data):\n",
        "        \"\"\"Returns a copy of the data structure\"\"\"\n",
        "        if len(self.data) >= self.capacity:\n",
        "            raise FullStackError(\"A pilha está cheia\")\n",
        "        copy = [data]\n",
        "        for item in self.data:\n",
        "            copy.append(item)\n",
        "        return copy\n",
        "\n",
        "class FullStackError(Exception):\n",
        "    pass\n",
        "\n",
        "class EmptyStackError(Exception):\n",
        "    pass"
      ]
    },
    {
      "cell_type": "markdown",
      "id": "62ceb247",
      "metadata": {
        "id": "62ceb247"
      },
      "source": [
        "## `array` Class\n",
        "\n",
        "The `array` class extends `HEDL` and represents an array-based data structure. It supports common array operations such as multiplication, comparison, and exponentiation.\n",
        "\n",
        "### Additional Methods:\n",
        "\n",
        "- `__mul__(self, other)`: Multiplies each element of the array by a scalar or another array.\n",
        "- `__rmul__(self, scalar)`: Multiplies each element of the array by a scalar.\n",
        "- `__ge__(self, other)`: Compares each element of the array with another array.\n",
        "- `append(self, other)`: Appends an item to the array.\n",
        "- `__pow__(self, number)`: Raises each element of the array to the power of a number.\n"
      ]
    },
    {
      "cell_type": "code",
      "execution_count": null,
      "id": "d7fd04d7",
      "metadata": {
        "id": "d7fd04d7"
      },
      "outputs": [],
      "source": [
        "class array(HEDL):\n",
        "    def __init__(self,data,dtype=\"float64\"):\n",
        "        types_dic = {\"float64\":\"f\",\"float128\":\"d\",\"int\":\"l\",\"str\":\"u\"}\n",
        "        for key,value in types_dic.items():\n",
        "            if dtype == key:\n",
        "                self.data = arr(value,data)\n",
        "                break\n",
        "        super().__init__(len(data))\n",
        "\n",
        "    def __str__(self):\n",
        "        sttr = \"array(\"\n",
        "        lisst = []\n",
        "        for item in self.data:\n",
        "            lisst.append(item)\n",
        "        sttr = sttr+f\"{lisst})\"\n",
        "        return sttr\n",
        "\n",
        "    def __mul__(self,other):\n",
        "        if type(other) == int or type(other) == float:\n",
        "            return self.__rmul__(other)\n",
        "        if len(self.data) != len(other):\n",
        "            raise ValueError(\"Arrays must have the same length.\")\n",
        "        result = array([item*other[i] for i,item in enumerate(self.data)])\n",
        "        print(result)\n",
        "\n",
        "    def __rmul__(self,scalar):\n",
        "        result = array([x*scalar for x in self.data])\n",
        "        print(result)\n",
        "\n",
        "    def __ge__(self,other):\n",
        "        if len(self.data) != len(other):\n",
        "            raise ValueError(\"Arrays must have the same length.\")\n",
        "        result = []\n",
        "        for index,item in enumerate(self.data):\n",
        "            if item >= other[index]:\n",
        "                result.append(True)\n",
        "            else:\n",
        "                result.append(False)\n",
        "        result = array(result)\n",
        "        print(result)\n",
        "\n",
        "    def append(self,other):\n",
        "        self.data.append(other)\n",
        "\n",
        "    def __pow__(self,number):\n",
        "        result = array([item**number for item in self.data])\n",
        "        print(result)"
      ]
    },
    {
      "cell_type": "code",
      "execution_count": null,
      "id": "2b1ecd72",
      "metadata": {
        "scrolled": false,
        "colab": {
          "base_uri": "https://localhost:8080/"
        },
        "id": "2b1ecd72",
        "outputId": "21fae809-07e6-43e2-9999-e325758d45f6"
      },
      "outputs": [
        {
          "output_type": "stream",
          "name": "stdout",
          "text": [
            "array([1.0, 0.0, 1.0, 1.0])\n",
            "4 4\n",
            "array([50.0, 10.0, 15.0, 20.0])\n",
            "array([50.0, 12.0, 6.0, 4.0])\n",
            "array([100.0, 4.0, 9.0, 16.0])\n",
            "array([10.0, 2.0, 3.0, 4.0]) array([5.0, 6.0, 2.0, 1.0])\n"
          ]
        },
        {
          "output_type": "execute_result",
          "data": {
            "text/plain": [
              "True"
            ]
          },
          "metadata": {},
          "execution_count": 3
        }
      ],
      "source": [
        "#Test area\n",
        "a = array([1,2,3,4])\n",
        "b = array([5,6,2,1])\n",
        "a[0] = 10\n",
        "a>=b\n",
        "print(len(a),len(b))\n",
        "a*5\n",
        "a*b\n",
        "a**2\n",
        "print(a,b)\n",
        "10 == a[0]"
      ]
    },
    {
      "cell_type": "markdown",
      "id": "4e416de5",
      "metadata": {
        "id": "4e416de5"
      },
      "source": [
        "## `LinkedList` Class\n",
        "\n",
        "The `LinkedList` class implements a simple singly linked list. It supports common linked list operations such as pushing, popping, and swapping.\n",
        "\n",
        "### Additional Methods:\n",
        "\n",
        "- `swap(self)`: Swaps the first two elements of the linked list."
      ]
    },
    {
      "cell_type": "code",
      "execution_count": null,
      "id": "33d0ad4d",
      "metadata": {
        "id": "33d0ad4d"
      },
      "outputs": [],
      "source": [
        "class Node:\n",
        "    def __init__(self, data):\n",
        "        self.data = data\n",
        "        self.next = None"
      ]
    },
    {
      "cell_type": "code",
      "execution_count": null,
      "id": "2b43a2ca",
      "metadata": {
        "id": "2b43a2ca"
      },
      "outputs": [],
      "source": [
        "class LinkedList:\n",
        "    def __init__(self):\n",
        "        self.head = None\n",
        "\n",
        "    def push(self, data):\n",
        "        new_node = Node(data)\n",
        "        new_node.next = self.head\n",
        "        self.head = new_node\n",
        "\n",
        "    def swap(self):\n",
        "        if len(self) < 2:\n",
        "            raise ValueError(\"Cannot perform swap with less than two elements\")\n",
        "\n",
        "        temp = self.head.data\n",
        "        self.head.data = self.head.next.data\n",
        "        self.head.next.data = temp\n",
        "\n",
        "    def __getitem__(self, index):\n",
        "        if index < 0 or index >= len(self):\n",
        "            raise IndexError(\"list index out of range\")\n",
        "\n",
        "        current = self.head\n",
        "        for _ in range(index):\n",
        "            current = current.next\n",
        "\n",
        "        return current.data\n",
        "\n",
        "    def __len__(self):\n",
        "        count = 0\n",
        "        current = self.head\n",
        "        while current:\n",
        "            count += 1\n",
        "            current = current.next\n",
        "        return count\n",
        "\n",
        "    def pop(self):\n",
        "        if not self.head:\n",
        "            raise EmptyStackError(\"A estrutura está vazia\")\n",
        "\n",
        "        popped_data = self.head.data\n",
        "        self.head = self.head.next\n",
        "        return popped_data\n",
        "\n",
        "    def __str__(self):\n",
        "        sttr = \"\"\n",
        "        current = self.head\n",
        "        while current:\n",
        "            sttr += f\"{current.data}\\n\"\n",
        "            current = current.next\n",
        "        return sttr\n"
      ]
    },
    {
      "cell_type": "code",
      "execution_count": null,
      "id": "154c26df",
      "metadata": {
        "scrolled": true,
        "colab": {
          "base_uri": "https://localhost:8080/"
        },
        "id": "154c26df",
        "outputId": "e47f177c-b1a2-4e2d-f6f2-96f757e0221c"
      },
      "outputs": [
        {
          "output_type": "stream",
          "name": "stdout",
          "text": [
            "40\n",
            "30\n",
            "20\n",
            "10\n",
            "\n",
            "4\n"
          ]
        },
        {
          "output_type": "execute_result",
          "data": {
            "text/plain": [
              "40"
            ]
          },
          "metadata": {},
          "execution_count": 6
        }
      ],
      "source": [
        "linked_list = LinkedList()\n",
        "\n",
        "linked_list.push(10)\n",
        "linked_list.push(20)\n",
        "linked_list.push(30)\n",
        "linked_list.push(40)\n",
        "linked_list.push(50)\n",
        "\n",
        "linked_list.pop()\n",
        "print(linked_list)\n",
        "print(len(linked_list))\n",
        "\n",
        "linked_list[0]"
      ]
    },
    {
      "cell_type": "markdown",
      "id": "4ab76b71",
      "metadata": {
        "id": "4ab76b71"
      },
      "source": [
        "## `Stack` Class\n",
        "\n",
        "The `Stack` class is a wrapper for the `LinkedList` class, providing a stack interface. It includes methods for pushing, popping, and swapping.\n",
        "\n",
        "### Additional Methods:\n",
        "\n",
        "- `swap(self)`: Swaps the top two elements of the stack."
      ]
    },
    {
      "cell_type": "code",
      "execution_count": null,
      "id": "36920a32",
      "metadata": {
        "id": "36920a32"
      },
      "outputs": [],
      "source": [
        "class Stack(HEDL):\n",
        "    def __init__(self,size):\n",
        "        self.linked_list = LinkedList()\n",
        "        self.capacity = size\n",
        "    def swap(self):\n",
        "        self.linked_list.swap()\n",
        "\n",
        "    def push(self, data):\n",
        "        self.linked_list.push(data)\n",
        "\n",
        "    def pop(self):\n",
        "        return self.linked_list.pop()\n",
        "\n",
        "    def is_empty(self):\n",
        "        return len(self.linked_list) == 0\n",
        "\n",
        "    def __len__(self):\n",
        "        return len(self.linked_list)\n",
        "\n",
        "    def __str__(self):\n",
        "        return str(self.linked_list)"
      ]
    },
    {
      "cell_type": "code",
      "execution_count": null,
      "id": "2458b861",
      "metadata": {
        "colab": {
          "base_uri": "https://localhost:8080/"
        },
        "id": "2458b861",
        "outputId": "8006c1f7-483b-42d1-b539-b189bdb12074"
      },
      "outputs": [
        {
          "output_type": "stream",
          "name": "stdout",
          "text": [
            "3\n",
            "2\n",
            "1\n",
            "\n",
            "3\n",
            "1\n",
            "2\n",
            "\n",
            "2\n"
          ]
        }
      ],
      "source": [
        "# Stack Test\n",
        "a = Stack(4)\n",
        "a.push(1)\n",
        "a.push(2)\n",
        "a.push(3)\n",
        "print(a)\n",
        "print(a.pop())\n",
        "a.swap()\n",
        "print(a)\n",
        "print(len(a))"
      ]
    },
    {
      "cell_type": "markdown",
      "id": "81e716c5",
      "metadata": {
        "id": "81e716c5"
      },
      "source": [
        "## `DoublyLinkedList` Class\n",
        "\n",
        "The `DoublyLinkedList` class implements a doubly linked list. It supports operations for pushing elements based on priority and popping the highest priority element.\n",
        "\n",
        "### Additional Methods:\n",
        "\n",
        "- `push(self, data, priority)`: Pushes an element into the doubly linked list based on priority.\n",
        "- `pop_highest_priority(self)`: Pops the element with the highest priority.\n"
      ]
    },
    {
      "cell_type": "code",
      "execution_count": null,
      "id": "cacb6b09",
      "metadata": {
        "colab": {
          "base_uri": "https://localhost:8080/"
        },
        "id": "cacb6b09",
        "outputId": "c5ef0a15-dc7d-4b81-8e4e-47f762eb5d59"
      },
      "outputs": [
        {
          "output_type": "stream",
          "name": "stdout",
          "text": [
            "Priority Queue: Gabriel (Priority: 3) <-> Geovana (Priority: 2) <-> João (Priority: 1) \n",
            "Popped item: Gabriel\n",
            "Priority Queue after pop: Geovana (Priority: 2) <-> João (Priority: 1) \n"
          ]
        }
      ],
      "source": [
        "class DoublyNode:\n",
        "    def __init__(self, data, priority):\n",
        "        self.data = data\n",
        "        self.priority = priority\n",
        "        self.next = None\n",
        "        self.prev = None\n",
        "\n",
        "class DoublyLinkedList:\n",
        "    def __init__(self):\n",
        "        self.head = None\n",
        "\n",
        "    def push(self, data, priority):\n",
        "        new_node = DoublyNode(data, priority)\n",
        "\n",
        "        # Handle an empty list or insert at the beginning\n",
        "        if not self.head or priority > self.head.priority:\n",
        "            new_node.next = self.head\n",
        "            if self.head:\n",
        "                self.head.prev = new_node\n",
        "            self.head = new_node\n",
        "        else:\n",
        "            current = self.head\n",
        "            while current.next and priority <= current.next.priority:\n",
        "                current = current.next\n",
        "            new_node.next = current.next\n",
        "            if current.next:\n",
        "                current.next.prev = new_node\n",
        "            current.next = new_node\n",
        "            new_node.prev = current\n",
        "\n",
        "    def pop_highest_priority(self):\n",
        "        if self.is_empty():\n",
        "            raise EmptyQueueError(\"The queue is empty\")\n",
        "\n",
        "        popped_data = self.head.data\n",
        "        self.head = self.head.next\n",
        "        if self.head:\n",
        "            self.head.prev = None\n",
        "        return popped_data\n",
        "\n",
        "    def is_empty(self):\n",
        "        return not self.head\n",
        "\n",
        "    def __str__(self):\n",
        "        result = \"\"\n",
        "        current = self.head\n",
        "        while current:\n",
        "            result += f\"{current.data} (Priority: {current.priority}) <-> \"\n",
        "            current = current.next\n",
        "        return result[:-4]  # Remove the trailing \" <-> \"\n",
        "\n",
        "# Example Usage:\n",
        "priority_queue = DoublyLinkedList()\n",
        "priority_queue.push(\"Gabriel\", 3)\n",
        "priority_queue.push(\"João\", 1)\n",
        "priority_queue.push(\"Geovana\", 2)\n",
        "\n",
        "print(\"Priority Queue:\", priority_queue)\n",
        "print(\"Popped item:\", priority_queue.pop_highest_priority())\n",
        "print(\"Priority Queue after pop:\", priority_queue)\n"
      ]
    },
    {
      "cell_type": "markdown",
      "id": "38053572",
      "metadata": {
        "id": "38053572"
      },
      "source": [
        "## `CircularLinkedList` Class\n",
        "\n",
        "The `CircularLinkedList` class implements a circular linked list. It provides methods for appending, swapping, extending, and more.\n",
        "\n",
        "### Additional Methods:\n",
        "\n",
        "- `swap(self)`: Swaps the first two elements of the circular linked list.\n"
      ]
    },
    {
      "cell_type": "code",
      "execution_count": null,
      "id": "202e8919",
      "metadata": {
        "scrolled": true,
        "colab": {
          "base_uri": "https://localhost:8080/"
        },
        "id": "202e8919",
        "outputId": "62e9aafe-3733-4f34-d4d1-0cd29fa04c11"
      },
      "outputs": [
        {
          "output_type": "stream",
          "name": "stdout",
          "text": [
            "Circular Linked List with Iterable:\n",
            "1 -> 2 -> 3 -> 4 -> 5\n"
          ]
        }
      ],
      "source": [
        "class CircularNode:\n",
        "    def __init__(self, data):\n",
        "        self.data = data\n",
        "        self.next = None\n",
        "\n",
        "class CircularLinkedList(HEDL):\n",
        "    def __init__(self, capacity, iterable=None):\n",
        "        super().__init__(capacity)\n",
        "        self.head = None\n",
        "\n",
        "        if iterable is not None:\n",
        "            self.extend(iterable)\n",
        "\n",
        "    def append(self, data):\n",
        "        new_node = CircularNode(data)\n",
        "        if not self.head:\n",
        "            self.head = new_node\n",
        "            new_node.next = self.head\n",
        "        else:\n",
        "            current = self.head\n",
        "            while current.next != self.head:\n",
        "                current = current.next\n",
        "            current.next = new_node\n",
        "            new_node.next = self.head\n",
        "\n",
        "    def swap(self):\n",
        "        if len(self) < 2:\n",
        "            raise ValueError(\"Cannot perform swap with less than two elements\")\n",
        "\n",
        "        temp = self.head.data\n",
        "        self.head.data = self.head.next.data\n",
        "        self.head.next.data = temp\n",
        "\n",
        "    def extend(self, iterable):\n",
        "        for item in iterable:\n",
        "            self.append(item)\n",
        "\n",
        "    def __iter__(self):\n",
        "        current = self.head\n",
        "        while True:\n",
        "            yield current.data\n",
        "            current = current.next\n",
        "            if current == self.head:\n",
        "                break\n",
        "\n",
        "    def __len__(self):\n",
        "        if not self.head:\n",
        "            return 0\n",
        "\n",
        "        count = 1\n",
        "        current = self.head.next\n",
        "        while current != self.head:\n",
        "            count += 1\n",
        "            current = current.next\n",
        "\n",
        "        return count\n",
        "\n",
        "    def __getitem__(self, index):\n",
        "        if index < 0 or index >= len(self):\n",
        "            raise IndexError(\"list index out of range\")\n",
        "\n",
        "        current = self.head\n",
        "        for _ in range(index):\n",
        "            current = current.next\n",
        "\n",
        "        return current.data\n",
        "\n",
        "    def is_empty(self):\n",
        "        return len(self) == 0\n",
        "\n",
        "    def is_full(self):\n",
        "        return len(self) == self.capacity\n",
        "\n",
        "    def __str__(self):\n",
        "        if not self.head:\n",
        "            return \"\"\n",
        "\n",
        "        result = \"\"\n",
        "        current = self.head\n",
        "        while True:\n",
        "            result += f\"{current.data} -> \"\n",
        "            current = current.next\n",
        "            if current == self.head:\n",
        "                break\n",
        "        return result[:-4]  # Remove the trailing \" -> \"\n",
        "\n",
        "# Example usage:\n",
        "my_list = [1, 2, 3, 4, 5]\n",
        "my_circular_linked_list = CircularLinkedList(10, iterable=my_list)\n",
        "\n",
        "print(\"Circular Linked List with Iterable:\")\n",
        "print(my_circular_linked_list)"
      ]
    },
    {
      "cell_type": "markdown",
      "source": [
        "### `GeometricFigure` Class\n",
        "\n",
        "The `GeometricFigure` class utilizes the `CircularLinkedList` class to store the vertices of closed planar geometric figures. It includes methods to add vertices, calculate the perimeter, and provide a string representation.\n",
        "\n",
        "#### Methods:\n",
        "\n",
        "- `__init__(self)`: Initializes the geometric figure.\n",
        "- `add_vertex(self, x, y)`: Adds a vertex to the figure.\n",
        "- `calculate_perimeter(self)`: Calculates the perimeter of the figure.\n",
        "- `__str__(self)`: Returns a string representation of the vertices.\n"
      ],
      "metadata": {
        "id": "-Jd-7LyPysX2"
      },
      "id": "-Jd-7LyPysX2"
    },
    {
      "cell_type": "code",
      "execution_count": null,
      "id": "392e94b9",
      "metadata": {
        "colab": {
          "base_uri": "https://localhost:8080/"
        },
        "id": "392e94b9",
        "outputId": "a0b50fb3-1d37-40f4-8dbc-d391991d77ba"
      },
      "outputs": [
        {
          "output_type": "stream",
          "name": "stdout",
          "text": [
            "Figure 1 Perimeter: 4.0\n",
            "Figure 2 Perimeter: 8.0\n",
            "Figure 3 Perimeter: 8.0\n"
          ]
        }
      ],
      "source": [
        "class GeometricFigure:\n",
        "    def __init__(self):\n",
        "        self.vertices = CircularLinkedList(capacity=float('inf'))\n",
        "\n",
        "    def add_vertex(self, x, y):\n",
        "        point = (x, y)\n",
        "        self.vertices.append(point)\n",
        "\n",
        "    def calculate_perimeter(self):\n",
        "        perimeter = 0\n",
        "        current = self.vertices.head\n",
        "\n",
        "        while current.next != self.vertices.head:\n",
        "            x1, y1 = current.data\n",
        "            x2, y2 = current.next.data\n",
        "            perimeter += ((x2 - x1) ** 2 + (y2 - y1) ** 2) ** 0.5\n",
        "            current = current.next\n",
        "\n",
        "        # Closing the figure by connecting the last and first vertices\n",
        "        x1, y1 = current.data\n",
        "        x2, y2 = self.vertices.head.data\n",
        "        perimeter += ((x2 - x1) ** 2 + (y2 - y1) ** 2) ** 0.5\n",
        "\n",
        "        return perimeter\n",
        "\n",
        "    def __str__(self):\n",
        "        return str(list(self.vertices))\n",
        "\n",
        "# Example Usage:\n",
        "figure1 = GeometricFigure()\n",
        "figure1.add_vertex(0, 0)\n",
        "figure1.add_vertex(1, 0)\n",
        "figure1.add_vertex(1, 1)\n",
        "figure1.add_vertex(0, 1)\n",
        "\n",
        "figure2 = GeometricFigure()\n",
        "figure2.add_vertex(0, 0)\n",
        "figure2.add_vertex(2, 0)\n",
        "figure2.add_vertex(2, 2)\n",
        "figure2.add_vertex(0, 2)\n",
        "\n",
        "figure3 = GeometricFigure()\n",
        "figure3.add_vertex(1, 1)\n",
        "figure3.add_vertex(3, 1)\n",
        "figure3.add_vertex(3, 3)\n",
        "figure3.add_vertex(1, 3)\n",
        "\n",
        "print(\"Figure 1 Perimeter:\", figure1.calculate_perimeter())\n",
        "print(\"Figure 2 Perimeter:\", figure2.calculate_perimeter())\n",
        "print(\"Figure 3 Perimeter:\", figure3.calculate_perimeter())\n"
      ]
    },
    {
      "cell_type": "markdown",
      "id": "5c624a0b",
      "metadata": {
        "id": "5c624a0b"
      },
      "source": [
        "## `Queue` Class\n",
        "\n",
        "The `Queue` class represents a simple queue with functionalities to estimate waiting time, enqueue, dequeue, handle dropouts, handle delays, handle missed pickups, and display the current status.\n",
        "\n",
        "### Methods:\n",
        "\n",
        "- `__init__(self)`: Initializes the queue.\n",
        "- `estimate_waiting_time(self, avg_service_time)`: Estimates the waiting time based on average service time.\n",
        "- `enqueue(self, user)`: Enqueues a user into the queue.\n",
        "- `dequeue(self)`: Dequeues a user from the queue.\n",
        "- `update_timers(self)`: Updates timers for all users in the queue.\n",
        "- `handle_dropout(self, user)`: Handles dropout of a user from the queue.\n",
        "- `handle_delays(self, threshold)`: Handles delays for users exceeding a specified threshold.\n",
        "- `handle_missed_pickup(self)`: Handles situations where a user didn't show up for pickup.\n",
        "- `status(self)`: Displays the current queue status.\n",
        "- `is_empty(self)`: Checks if the queue is empty.\n",
        "- `__len__(self)`: Returns the number of users in the queue.\n"
      ]
    },
    {
      "cell_type": "code",
      "execution_count": null,
      "id": "14713c68",
      "metadata": {
        "colab": {
          "base_uri": "https://localhost:8080/"
        },
        "id": "14713c68",
        "outputId": "4c5f3981-8d9c-4f63-d6ca-2793f0f74d2f"
      },
      "outputs": [
        {
          "output_type": "stream",
          "name": "stdout",
          "text": [
            "\n",
            "Current Queue Status:\n",
            "Waiting time: 60\n",
            "Users in the queue: ['User1', 'User2', 'User3', 'User4', 'User5', 'User6', 'User7', 'User8', 'User9', 'User10']\n",
            "\n",
            "User5 has dropped out of the queue.\n",
            "User1 has been served!\n",
            "\n",
            "Current Queue Status:\n",
            "Waiting time: 48\n",
            "Users in the queue: ['User2', 'User3', 'User4', 'User6', 'User7', 'User8', 'User9', 'User10']\n",
            "\n"
          ]
        }
      ],
      "source": [
        "import time\n",
        "import random\n",
        "\n",
        "class User:\n",
        "    def __init__(self, name, avg_service_time):\n",
        "        self.name = name\n",
        "        self.avg_service_time = avg_service_time\n",
        "        self.entry_time = None\n",
        "        self.timer = None\n",
        "\n",
        "class Queue:\n",
        "    def __init__(self):\n",
        "        self.users = []\n",
        "\n",
        "    def estimate_waiting_time(self, avg_service_time):\n",
        "        return len(self.users) * avg_service_time\n",
        "\n",
        "    def enqueue(self, user):\n",
        "        user.entry_time = time.time()\n",
        "        user.timer = self.estimate_waiting_time(user.avg_service_time)\n",
        "        self.users.append(user)\n",
        "\n",
        "    def dequeue(self):\n",
        "        if self.is_empty():\n",
        "            raise IndexError(\"dequeue from an empty queue\")\n",
        "        served_user = self.users.pop(0)\n",
        "        self.update_timers()\n",
        "        print(f\"{served_user.name} has been served!\")\n",
        "        return served_user\n",
        "\n",
        "    def update_timers(self):\n",
        "        for user in self.users:\n",
        "            user.timer = self.estimate_waiting_time(user.avg_service_time)\n",
        "\n",
        "    def handle_dropout(self, user):\n",
        "        if user in self.users:\n",
        "            self.users.remove(user)\n",
        "            self.update_timers()\n",
        "            print(f\"{user.name} has dropped out of the queue.\")\n",
        "\n",
        "    def handle_delays(self, threshold):\n",
        "        current_time = time.time()\n",
        "        for user in self.users:\n",
        "            actual_time = current_time - user.entry_time\n",
        "            if actual_time > user.timer + threshold:\n",
        "                # Handle the situation where there is a considerable accumulated delay\n",
        "                user.timer = actual_time\n",
        "\n",
        "    def handle_missed_pickup(self):\n",
        "        if not self.is_empty():\n",
        "            next_user = self.users[0]\n",
        "            current_time = time.time()\n",
        "            if next_user.timer < current_time:\n",
        "                # Handle the situation where a user didn't show up, and the next person took their place\n",
        "                self.dequeue()\n",
        "\n",
        "    def status(self):\n",
        "        print(\"\\nCurrent Queue Status:\")\n",
        "        print(\"Waiting time:\", self.estimate_waiting_time(6))\n",
        "        print(\"Users in the queue:\", [user.name for user in self.users])\n",
        "        print()\n",
        "\n",
        "    def is_empty(self):\n",
        "        return len(self.users) == 0\n",
        "\n",
        "    def __len__(self):\n",
        "        return len(self.users)\n",
        "\n",
        "# Example usage with a queue of 10 users:\n",
        "queue = Queue()\n",
        "\n",
        "# Enqueue 10 users with random average service times\n",
        "for i in range(1, 11):\n",
        "    user = User(f\"User{i}\", random.randint(3, 8))  # Random average service time between 3 and 8 seconds\n",
        "    queue.enqueue(user)\n",
        "\n",
        "# Print initial status\n",
        "queue.status()\n",
        "\n",
        "# Simulating some time passing\n",
        "time.sleep(5)\n",
        "\n",
        "# Simulating a dropout (remove the 5th user)\n",
        "dropout_user = queue.users[4]\n",
        "queue.handle_dropout(dropout_user)\n",
        "\n",
        "# Simulating more time passing\n",
        "time.sleep(7)\n",
        "\n",
        "# Simulating a missed pickup\n",
        "queue.handle_missed_pickup()\n",
        "\n",
        "# Print updated status\n",
        "queue.status()\n"
      ]
    }
  ],
  "metadata": {
    "kernelspec": {
      "display_name": "Python 3",
      "language": "python",
      "name": "python3"
    },
    "language_info": {
      "codemirror_mode": {
        "name": "ipython",
        "version": 3
      },
      "file_extension": ".py",
      "mimetype": "text/x-python",
      "name": "python",
      "nbconvert_exporter": "python",
      "pygments_lexer": "ipython3",
      "version": "3.8.8"
    },
    "colab": {
      "provenance": []
    }
  },
  "nbformat": 4,
  "nbformat_minor": 5
}