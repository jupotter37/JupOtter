{
  "nbformat": 4,
  "nbformat_minor": 0,
  "metadata": {
    "colab": {
      "provenance": [],
      "authorship_tag": "ABX9TyOywiLAF7GPRpm/ystISBxB",
      "include_colab_link": true
    },
    "kernelspec": {
      "name": "python3",
      "display_name": "Python 3"
    },
    "language_info": {
      "name": "python"
    }
  },
  "cells": [
    {
      "cell_type": "markdown",
      "metadata": {
        "id": "view-in-github",
        "colab_type": "text"
      },
      "source": [
        "<a href=\"https://colab.research.google.com/github/Avit-hodibu/DSA/blob/main/DSA.ipynb\" target=\"_parent\"><img src=\"https://colab.research.google.com/assets/colab-badge.svg\" alt=\"Open In Colab\"/></a>"
      ]
    },
    {
      "cell_type": "markdown",
      "source": [
        "Data Structure:\n",
        "way to store and organized data efficiently\n",
        "\n",
        "\n",
        "why needed?\n",
        "- search faster and optimize\n",
        "\n",
        "\n",
        "> tree = file browser\n",
        "\n",
        "> graph= social network(suggest)\n",
        "\n",
        "> Stack = browser(undo and redo)\n"
      ],
      "metadata": {
        "id": "XdeETktNng_h"
      }
    },
    {
      "cell_type": "markdown",
      "source": [
        "Linear DS: one after another\n",
        "- Array\n",
        "- linked list\n",
        "- stack\n",
        "- queue\n",
        "- hashing\n",
        "\n",
        "\n",
        "Non-linear DS:non linear\n",
        "- tree\n",
        "- graph"
      ],
      "metadata": {
        "id": "11LY21vJozlp"
      }
    },
    {
      "cell_type": "markdown",
      "source": [
        "#Array\n",
        "store multiple item of same type in continuous memory location\n",
        "\n",
        "dis:\n",
        "- fix size (memory waste), a[50] only 50 data is save\n",
        "- homogmeous (lack of flexibility), only store one type of data type\n",
        "\n",
        "To solve homogmeous :- Referential Array\n",
        "\n",
        "Referential Array: in this value is not store in continous memory location. So rather than storing value we store the address of value. this is called call by reference.\n",
        "Now, we can store different data type also since it only store address of value. Since what are we storing address of data is still homogenous. but the data we are storing is hetrogenous. List is referential array.\n",
        "\n",
        "Drawback:\n",
        "- extra memory (to store address)\n",
        "- slow speed\n",
        "\n",
        "To solve fix size :- Dynamic Array\n",
        "\n",
        "Dynamic Array: adjust size. It is a concept where if data is need to store more than orginal size then we will call same array and make is double each time and store all the values of old array and new data in new location.\n",
        "\n",
        "\n"
      ],
      "metadata": {
        "id": "e2z72tDXpKgP"
      }
    },
    {
      "cell_type": "code",
      "source": [
        "import ctypes\n",
        "# create list\n",
        "class MyList:\n",
        "  def __init__(self):\n",
        "    self.size= 1 # max number item can be store\n",
        "    self.n= 0  # stored item number\n",
        "    # create a C type array with size = self.size\n",
        "    self.A = self.__make_array(self.size)\n",
        "\n",
        "  def __len__(self):\n",
        "    return self.n\n",
        "\n",
        "  def append(self,item):\n",
        "    # check if vacant\n",
        "    if self.n == self.size:\n",
        "      # array is full -> resize\n",
        "      self.__resize(self.size*2)\n",
        "\n",
        "    self.A[self.n] = item\n",
        "    self.n = self.n + 1\n",
        "\n",
        "  def __str__(self):\n",
        "    #[1,2,3]\n",
        "    result=''\n",
        "    for i in range(self.n):\n",
        "      result= result + str(self.A[i]) + ','\n",
        "    return '[' + result[:-1] + ']'\n",
        "\n",
        "  def __getitem__(self, index):\n",
        "    if 0<= index < self.n:\n",
        "      return self.A[index]\n",
        "    else:\n",
        "      return 'IndexError - Index out of range'\n",
        "\n",
        "  def pop(self):\n",
        "    if self.n == 0:\n",
        "      return 'Empty List'\n",
        "    print(self.A[self.n-1])\n",
        "    self.n = self.n - 1\n",
        "\n",
        "  def clear(self): # clear all value\n",
        "    self.n = 0\n",
        "    self.size = 1\n",
        "\n",
        "  def find(self, item):\n",
        "    for i in range(self.n):\n",
        "      if self.A[i] == item:\n",
        "        return i\n",
        "    return 'ValueError - not in list'\n",
        "\n",
        "  def insert(self, pos, item):\n",
        "    if self.n == self.size:\n",
        "      self.__resize(self.size*2)\n",
        "    for i in range(self.n, pos, -1):\n",
        "      self.A[i] = self.A[i-1]\n",
        "    self.A[pos] = item\n",
        "    self.n = self.n + 1\n",
        "\n",
        "  def __delitem__(self, pos):\n",
        "    if 0<= pos< self.n:\n",
        "      for i in range(pos,self.n-1):\n",
        "        self.A[i] =self.A[i+1]\n",
        "      self.n = self.n -1\n",
        "\n",
        "  def remove(self,item):\n",
        "    pos = self.find(item)\n",
        "    if type(pos) == int:\n",
        "      #delete\n",
        "      self.__delitem__(pos)\n",
        "    else:\n",
        "      return pos\n",
        "\n",
        "  def __resize(self,new_capacity):\n",
        "    # create a new array with new capacity\n",
        "    B = self.__make_array(new_capacity)\n",
        "    self.size = new_capacity\n",
        "    # copy the content of old array to new one\n",
        "    for i in range(self.n):\n",
        "      B[i] = self.A[i]\n",
        "    # reassign A\n",
        "    self.A = B\n",
        "\n",
        "\n",
        "  def __make_array(self, capacity):\n",
        "    #  create a C type array (static, referential array) with size capacity\n",
        "    return (capacity*ctypes.py_object)()\n"
      ],
      "metadata": {
        "id": "sgflHx8xozE3"
      },
      "execution_count": null,
      "outputs": []
    },
    {
      "cell_type": "code",
      "source": [
        "# length of array\n",
        "L = MyList()\n",
        "len(L)"
      ],
      "metadata": {
        "colab": {
          "base_uri": "https://localhost:8080/"
        },
        "id": "F9mwib-Ax-Ca",
        "outputId": "70d698c6-4ca6-4774-fb00-660d757c004c"
      },
      "execution_count": null,
      "outputs": [
        {
          "output_type": "execute_result",
          "data": {
            "text/plain": [
              "0"
            ]
          },
          "metadata": {},
          "execution_count": 39
        }
      ]
    },
    {
      "cell_type": "code",
      "execution_count": null,
      "metadata": {
        "colab": {
          "base_uri": "https://localhost:8080/"
        },
        "id": "hcqlBCrena6M",
        "outputId": "163496a1-a199-456a-c047-b5e023c34fa5"
      },
      "outputs": [
        {
          "output_type": "execute_result",
          "data": {
            "text/plain": [
              "4"
            ]
          },
          "metadata": {},
          "execution_count": 40
        }
      ],
      "source": [
        "# append\n",
        "L.append('hello')\n",
        "L.append(8)\n",
        "L.append(8.1)\n",
        "L.append(True)\n",
        "len(L)"
      ]
    },
    {
      "cell_type": "code",
      "source": [
        "#print\n",
        "print(L)"
      ],
      "metadata": {
        "id": "E0tzCrhDzix5",
        "colab": {
          "base_uri": "https://localhost:8080/"
        },
        "outputId": "7578ec7d-1506-4307-a8bf-fbdfde327994"
      },
      "execution_count": null,
      "outputs": [
        {
          "output_type": "stream",
          "name": "stdout",
          "text": [
            "[hello,8,8.1,True]\n"
          ]
        }
      ]
    },
    {
      "cell_type": "code",
      "source": [
        "#indexing\n",
        "print(L[0])\n"
      ],
      "metadata": {
        "colab": {
          "base_uri": "https://localhost:8080/"
        },
        "id": "8F_o4RYweghR",
        "outputId": "ed55b28a-c041-4ffe-fac5-b7e3fb7b74c6"
      },
      "execution_count": null,
      "outputs": [
        {
          "output_type": "stream",
          "name": "stdout",
          "text": [
            "hello\n"
          ]
        }
      ]
    },
    {
      "cell_type": "code",
      "source": [
        "#pop\n",
        "L.pop()"
      ],
      "metadata": {
        "colab": {
          "base_uri": "https://localhost:8080/"
        },
        "id": "6FrRDxVaiOx4",
        "outputId": "7258656a-9d91-4a89-a1c3-220e59301c19"
      },
      "execution_count": null,
      "outputs": [
        {
          "output_type": "stream",
          "name": "stdout",
          "text": [
            "True\n"
          ]
        }
      ]
    },
    {
      "cell_type": "code",
      "source": [
        "print(L)"
      ],
      "metadata": {
        "colab": {
          "base_uri": "https://localhost:8080/"
        },
        "id": "8eZa8rn_idVY",
        "outputId": "4ae06ead-22ef-4203-87ad-7ed4969960d6"
      },
      "execution_count": null,
      "outputs": [
        {
          "output_type": "stream",
          "name": "stdout",
          "text": [
            "[hello,8,8.1]\n"
          ]
        }
      ]
    },
    {
      "cell_type": "code",
      "source": [
        "#find\n",
        "L.find('hello')"
      ],
      "metadata": {
        "colab": {
          "base_uri": "https://localhost:8080/"
        },
        "id": "hfDXuwUtihxe",
        "outputId": "551f8528-c8c1-4b7e-e64f-9f248304a782"
      },
      "execution_count": null,
      "outputs": [
        {
          "output_type": "execute_result",
          "data": {
            "text/plain": [
              "0"
            ]
          },
          "metadata": {},
          "execution_count": 45
        }
      ]
    },
    {
      "cell_type": "code",
      "source": [
        "#remove\n",
        "L.remove(8)"
      ],
      "metadata": {
        "id": "vmtP77WhlDdF"
      },
      "execution_count": null,
      "outputs": []
    },
    {
      "cell_type": "code",
      "source": [
        "print(L)"
      ],
      "metadata": {
        "colab": {
          "base_uri": "https://localhost:8080/"
        },
        "id": "vfKqTQBiu9UR",
        "outputId": "1d364546-ed8f-4a11-d5d0-12cacb690857"
      },
      "execution_count": null,
      "outputs": [
        {
          "output_type": "stream",
          "name": "stdout",
          "text": [
            "[hello,8.1]\n"
          ]
        }
      ]
    },
    {
      "cell_type": "markdown",
      "source": [
        "# Linked list\n",
        "Linear ds. It is replacement for array. It is collection of nodes.\n",
        "\n",
        "It store data and address(next node of address). First node is head and last node is tail (it has address null. i.e. the next address of node)\n",
        "\n",
        "It is faster and less operation to insert and delete in linked list than array.  \n",
        "\n",
        "create more data structure:\n",
        "- stack\n",
        "- queue\n",
        "- DLL\n",
        "- CLL\n",
        "\n",
        "Dis:\n",
        "we must read from head to fetch any value in linked list because only the previous node have address of that node so. need to start from head."
      ],
      "metadata": {
        "id": "iLPN5vGyslWa"
      }
    },
    {
      "cell_type": "markdown",
      "source": [
        "Insert: Head, Tail(append), middle(insert)\n",
        "\n",
        "Traverse: print\n",
        "\n",
        "Delete: head, tail(pop), value(remove), index\n",
        "\n",
        "Search: value, Index"
      ],
      "metadata": {
        "id": "SCVSSfgk5R0v"
      }
    },
    {
      "cell_type": "code",
      "source": [
        "class Node:\n",
        "  def __init__(self,value):\n",
        "    self.data = value\n",
        "    self.next = None"
      ],
      "metadata": {
        "id": "87Jcdcoqu-z4"
      },
      "execution_count": null,
      "outputs": []
    },
    {
      "cell_type": "code",
      "source": [
        "class LinkedList:\n",
        "  def __init__(self):\n",
        "    #empty linked list\n",
        "    self.head = None\n",
        "    self.n = 0\n",
        "  #number of nodes\n",
        "  def __len__(self):\n",
        "    return self.n\n",
        "\n",
        "  def insert_head(self,value):\n",
        "\n",
        "    # new node\n",
        "    new_node = Node(value)\n",
        "\n",
        "    # create connection\n",
        "    new_node.next = self.head\n",
        "\n",
        "    # reassign head\n",
        "    self.head = new_node\n",
        "\n",
        "    # increment n\n",
        "    self.n = self.n + 1\n",
        "\n",
        "  #traverse\n",
        "  def __str__(self):\n",
        "    curr = self.head\n",
        "    result=''\n",
        "    while curr!=None:\n",
        "      result = result + str(curr.data) +  '->'\n",
        "      curr = curr.next\n",
        "    return result[:-2]\n",
        "\n",
        "  #append (tail)\n",
        "  def append(self, value):\n",
        "    new_node = Node(value)\n",
        "    #condition\n",
        "    if self.head == None:\n",
        "      #empty\n",
        "      self.head = new_node\n",
        "      self.n = self.n +1\n",
        "      return\n",
        "\n",
        "    curr = self.head\n",
        "    while curr.next !=None:\n",
        "      curr = curr.next\n",
        "    # you are at the last node\n",
        "    curr.next = new_node\n",
        "    self.n = self.n +1\n",
        "\n",
        "  #insert after\n",
        "  def insert_after(self, after, value):\n",
        "    new_node = Node(value)\n",
        "    curr = self.head\n",
        "    while curr != None:\n",
        "      if curr.data == after:\n",
        "        break\n",
        "      curr=curr.next\n",
        "\n",
        "    if curr != None:\n",
        "      new_node.next =curr.next\n",
        "      curr.next = new_node\n",
        "      self.n =self.n +1\n",
        "    else:\n",
        "      return 'item not found'\n",
        "\n",
        "  #delete\n",
        "  #clear->empty\n",
        "  def clear(self):\n",
        "    self.head=None\n",
        "    self.n = 0\n",
        "\n",
        "  #delete from head\n",
        "  def delete_head(self):\n",
        "    if self.head == None:\n",
        "      #empty\n",
        "      return 'Empty LL'\n",
        "\n",
        "    self.head = self.head.next\n",
        "    self.n=self.n-1\n",
        "\n",
        "  #delete from tail(pop)\n",
        "  def delete_tail(self):\n",
        "    if self.head == None:\n",
        "      #empty\n",
        "      return 'Empty LL'\n",
        "\n",
        "    curr = self.head\n",
        "    if curr.next == None:\n",
        "      #only one remain\n",
        "      #mean it will be head automatically\n",
        "      return self.delete_head\n",
        "\n",
        "    while curr.next.next !=None:\n",
        "      curr = curr.next\n",
        "\n",
        "    #curr -> 2nd last node\n",
        "    curr.next =None\n",
        "    self.n=self.n-1\n",
        "\n",
        "  def remove(self, value):\n",
        "    #empty\n",
        "    if self.head == None:\n",
        "      return 'Empty LL'\n",
        "\n",
        "    #if you want to remove head\n",
        "    if self.head.data == value:\n",
        "      return self.delete_head()\n",
        "\n",
        "    curr =self.head\n",
        "    while curr.next !=None:\n",
        "      if curr.next.data == value:\n",
        "        break\n",
        "      curr = curr.next\n",
        "\n",
        "    #item not found\n",
        "    if curr.next == None:\n",
        "      return 'Not Found'\n",
        "    else:\n",
        "      curr.next = curr.next.next\n",
        "\n",
        "  #search\n",
        "  def search(self,item):\n",
        "    curr = self.head\n",
        "    pos =0\n",
        "\n",
        "    while curr!= None:\n",
        "      if curr.data ==item:\n",
        "        return pos\n",
        "      cur = curr.next\n",
        "      pos = pos +1\n",
        "\n",
        "    return 'Not Found'\n",
        "\n",
        "  # index element\n",
        "  def __getitem__(self, index):\n",
        "    curr = self.head\n",
        "    pos = 0\n",
        "\n",
        "    while curr!= None:\n",
        "      if pos == index:\n",
        "        return curr.data\n",
        "      curr =curr.data\n",
        "      pos = pos +1\n",
        "\n",
        "    return 'index error'\n"
      ],
      "metadata": {
        "id": "5x4NwauN3wiZ"
      },
      "execution_count": null,
      "outputs": []
    },
    {
      "cell_type": "code",
      "source": [
        "L=LinkedList()"
      ],
      "metadata": {
        "id": "Xs37hb3t2mhH"
      },
      "execution_count": null,
      "outputs": []
    },
    {
      "cell_type": "code",
      "source": [
        "L.insert_head(1)\n",
        "L.insert_head(2)\n",
        "L.insert_head(3)\n"
      ],
      "metadata": {
        "id": "lkdDKqRl2uo1"
      },
      "execution_count": null,
      "outputs": []
    },
    {
      "cell_type": "code",
      "source": [
        "len(L)"
      ],
      "metadata": {
        "colab": {
          "base_uri": "https://localhost:8080/"
        },
        "id": "b86j6TnB7W_Y",
        "outputId": "6952d4a3-ae0a-4e64-d49e-f4ce46c5ad11"
      },
      "execution_count": null,
      "outputs": [
        {
          "output_type": "execute_result",
          "data": {
            "text/plain": [
              "3"
            ]
          },
          "metadata": {},
          "execution_count": 23
        }
      ]
    },
    {
      "cell_type": "code",
      "source": [
        "print(L)"
      ],
      "metadata": {
        "colab": {
          "base_uri": "https://localhost:8080/"
        },
        "id": "zQ-c7jq27YSD",
        "outputId": "1033797f-1609-4ae7-f073-f973a2f677fe"
      },
      "execution_count": null,
      "outputs": [
        {
          "output_type": "stream",
          "name": "stdout",
          "text": [
            "3->2->1\n"
          ]
        }
      ]
    },
    {
      "cell_type": "code",
      "source": [
        "#append tail\n",
        "L.append(4)"
      ],
      "metadata": {
        "id": "BlRDdLGn8p0d"
      },
      "execution_count": null,
      "outputs": []
    },
    {
      "cell_type": "code",
      "source": [
        "print(L)"
      ],
      "metadata": {
        "colab": {
          "base_uri": "https://localhost:8080/"
        },
        "id": "d_ZAKkyAANwu",
        "outputId": "559857a4-826c-44ad-a51c-35892505ebb6"
      },
      "execution_count": null,
      "outputs": [
        {
          "output_type": "stream",
          "name": "stdout",
          "text": [
            "3->2->1->4\n"
          ]
        }
      ]
    },
    {
      "cell_type": "code",
      "source": [
        "#insert middle\n",
        "L.insert_after(3,100)"
      ],
      "metadata": {
        "id": "WdkBOjUXAQGi"
      },
      "execution_count": null,
      "outputs": []
    },
    {
      "cell_type": "code",
      "source": [
        "L.remove(1)"
      ],
      "metadata": {
        "id": "IHSzsJtALKZf"
      },
      "execution_count": null,
      "outputs": []
    },
    {
      "cell_type": "code",
      "source": [
        "print(L)"
      ],
      "metadata": {
        "colab": {
          "base_uri": "https://localhost:8080/"
        },
        "id": "L9heVEc2MZ3k",
        "outputId": "65e57ad9-7a7a-4332-ab30-2103c57a91c6"
      },
      "execution_count": null,
      "outputs": [
        {
          "output_type": "stream",
          "name": "stdout",
          "text": [
            "3->100->2->4\n"
          ]
        }
      ]
    },
    {
      "cell_type": "code",
      "source": [],
      "metadata": {
        "id": "JjN7v5a8MpeE"
      },
      "execution_count": null,
      "outputs": []
    },
    {
      "cell_type": "markdown",
      "source": [
        "Array read operation is fast and LL write operation is fast"
      ],
      "metadata": {
        "id": "sU2h5DUGQklb"
      }
    },
    {
      "cell_type": "markdown",
      "source": [
        "# Stack\n",
        "LIFO\n",
        "\n",
        "Operation are always from the top.\n",
        "\n",
        "pop = remove\n",
        "\n",
        "push = insert\n",
        "\n",
        "peek = to see the top element\n",
        "\n",
        "we can also say the linkedlist whose operation is done from head only\n",
        "\n",
        "\n"
      ],
      "metadata": {
        "id": "3fu0FNCUQtZZ"
      }
    },
    {
      "cell_type": "code",
      "source": [
        "class Node:\n",
        "  def __init__(self, value):\n",
        "    self.data = value\n",
        "    self.next = None"
      ],
      "metadata": {
        "id": "eWlw-sjFa56i"
      },
      "execution_count": null,
      "outputs": []
    },
    {
      "cell_type": "code",
      "source": [
        "class Stack:\n",
        "  def __init__(self):\n",
        "    self.top =None\n",
        "\n",
        "  def isempty(self):\n",
        "    return self.top == None # if empty send true\n",
        "\n",
        "  def push(self,value):\n",
        "    new_node= Node(value)\n",
        "    new_node.next =self.top\n",
        "    self.top = new_node\n",
        "\n",
        "  def peek(self):\n",
        "    if(self.isempty()):\n",
        "      return \"Stack Empty\"\n",
        "    else:\n",
        "      return self.top.data\n",
        "\n",
        "  def pop(self):\n",
        "    if(self.isempty()):\n",
        "      return \"Stack Empty\"\n",
        "    else:\n",
        "      data = self.top.data\n",
        "      self.top =self.top.next\n",
        "      return data\n",
        "\n",
        "  def traverse(self):\n",
        "    temp = self.top\n",
        "    while temp != None:\n",
        "      print(temp.data)\n",
        "      temp = temp.next\n"
      ],
      "metadata": {
        "id": "GSP2uXXJMws-"
      },
      "execution_count": null,
      "outputs": []
    },
    {
      "cell_type": "code",
      "source": [
        "s =Stack()"
      ],
      "metadata": {
        "id": "l71yFC5cTX-I"
      },
      "execution_count": null,
      "outputs": []
    },
    {
      "cell_type": "code",
      "source": [
        "s.isempty()"
      ],
      "metadata": {
        "colab": {
          "base_uri": "https://localhost:8080/"
        },
        "id": "5LbXtKhRTcLK",
        "outputId": "45b2793d-c77e-4241-c4f1-92e46b8480cb"
      },
      "execution_count": null,
      "outputs": [
        {
          "output_type": "execute_result",
          "data": {
            "text/plain": [
              "True"
            ]
          },
          "metadata": {},
          "execution_count": 22
        }
      ]
    },
    {
      "cell_type": "code",
      "source": [
        "s.push(1)"
      ],
      "metadata": {
        "id": "YruNdsqHTgSE"
      },
      "execution_count": null,
      "outputs": []
    },
    {
      "cell_type": "code",
      "source": [
        "s.push(4)"
      ],
      "metadata": {
        "id": "AnM28SNDTjHI"
      },
      "execution_count": null,
      "outputs": []
    },
    {
      "cell_type": "code",
      "source": [
        "s.push (2)"
      ],
      "metadata": {
        "id": "c9S6udV3TmMf"
      },
      "execution_count": null,
      "outputs": []
    },
    {
      "cell_type": "code",
      "source": [
        "s.traverse()"
      ],
      "metadata": {
        "colab": {
          "base_uri": "https://localhost:8080/"
        },
        "id": "DzalCoCETo-z",
        "outputId": "e0330a95-016c-4a55-a4db-518e83cc9b25"
      },
      "execution_count": null,
      "outputs": [
        {
          "output_type": "stream",
          "name": "stdout",
          "text": [
            "2\n",
            "4\n",
            "1\n"
          ]
        }
      ]
    },
    {
      "cell_type": "code",
      "source": [
        "s.peek()"
      ],
      "metadata": {
        "colab": {
          "base_uri": "https://localhost:8080/"
        },
        "id": "U-wvjLSJTsrg",
        "outputId": "2ad601cf-efae-40bd-91cf-399203466a93"
      },
      "execution_count": null,
      "outputs": [
        {
          "output_type": "execute_result",
          "data": {
            "text/plain": [
              "2"
            ]
          },
          "metadata": {},
          "execution_count": 27
        }
      ]
    },
    {
      "cell_type": "code",
      "source": [
        "s.pop()"
      ],
      "metadata": {
        "colab": {
          "base_uri": "https://localhost:8080/"
        },
        "id": "8d3LLyb0b6U6",
        "outputId": "3b7b4e80-5944-48a6-a283-9dad4ccf4455"
      },
      "execution_count": null,
      "outputs": [
        {
          "output_type": "execute_result",
          "data": {
            "text/plain": [
              "2"
            ]
          },
          "metadata": {},
          "execution_count": 28
        }
      ]
    },
    {
      "cell_type": "code",
      "source": [
        "s.peek()"
      ],
      "metadata": {
        "colab": {
          "base_uri": "https://localhost:8080/"
        },
        "id": "9EG7caJyb88B",
        "outputId": "99960923-2b0d-4413-9a0e-4d3929adf10a"
      },
      "execution_count": null,
      "outputs": [
        {
          "output_type": "execute_result",
          "data": {
            "text/plain": [
              "4"
            ]
          },
          "metadata": {},
          "execution_count": 29
        }
      ]
    },
    {
      "cell_type": "code",
      "source": [
        "def reverse_string(text):\n",
        "  s = Stack()\n",
        "  for i in text:\n",
        "    s.push(i)\n",
        "  res = \"\"\n",
        "  while(not s.isempty()):\n",
        "    res =  res + s.pop()\n",
        "  print(res)"
      ],
      "metadata": {
        "id": "ToNnKZrQb_ic"
      },
      "execution_count": null,
      "outputs": []
    },
    {
      "cell_type": "code",
      "source": [
        "reverse_string(\"Hello world\")"
      ],
      "metadata": {
        "colab": {
          "base_uri": "https://localhost:8080/"
        },
        "id": "nkezHIcbg9PL",
        "outputId": "5c4fa193-9d00-469c-84f2-b5678aca4cd6"
      },
      "execution_count": null,
      "outputs": [
        {
          "output_type": "stream",
          "name": "stdout",
          "text": [
            "dlrow olleH\n"
          ]
        }
      ]
    },
    {
      "cell_type": "code",
      "source": [
        "l=[1,2,3]\n",
        "l.pop()"
      ],
      "metadata": {
        "colab": {
          "base_uri": "https://localhost:8080/"
        },
        "id": "GR8yNoTEtPaq",
        "outputId": "65adf8e2-fd23-44ac-f636-6fb827670004"
      },
      "execution_count": null,
      "outputs": [
        {
          "output_type": "execute_result",
          "data": {
            "text/plain": [
              "3"
            ]
          },
          "metadata": {},
          "execution_count": 1
        }
      ]
    },
    {
      "cell_type": "code",
      "source": [
        "print(l)"
      ],
      "metadata": {
        "colab": {
          "base_uri": "https://localhost:8080/"
        },
        "id": "37fPQ5IbtV3m",
        "outputId": "6f9bc235-0375-473b-e51f-4b0883508286"
      },
      "execution_count": null,
      "outputs": [
        {
          "output_type": "stream",
          "name": "stdout",
          "text": [
            "[1, 2]\n"
          ]
        }
      ]
    },
    {
      "cell_type": "markdown",
      "source": [
        "# Queue\n",
        "\n",
        "FIFO\n",
        "\n",
        "head= front = deletation= dequeue\n",
        "\n",
        "tail= rear = insertation= enqueue\n",
        "\n",
        "operation need both head and tail\n",
        "\n",
        "time complexity = 0(1)\n",
        "\n"
      ],
      "metadata": {
        "id": "iQfBETQpp-or"
      }
    },
    {
      "cell_type": "code",
      "source": [
        "class Node:\n",
        "  def __init__(self, value):\n",
        "    self.data= value\n",
        "    self.next = None"
      ],
      "metadata": {
        "id": "TbKMttBSjz4W"
      },
      "execution_count": 7,
      "outputs": []
    },
    {
      "cell_type": "code",
      "source": [
        "class Queue:\n",
        "  def __init__(self):\n",
        "    self.front = None\n",
        "    self.rear =None\n",
        "\n",
        "  def enqueue(self, value):\n",
        "    new_node =Node(value)\n",
        "    if self.rear == None:\n",
        "      self.front = new_node\n",
        "      self.rear = self.front\n",
        "    else:\n",
        "      self.rear.next = new_node\n",
        "      self.rear = new_node\n",
        "\n",
        "  def dequeue(self):\n",
        "    if self.front == None:\n",
        "      return \"Empty\"\n",
        "    else:\n",
        "      self.front = self.front.next\n",
        "\n",
        "  def is_empty(self):\n",
        "    return self.front == None\n",
        "\n",
        "  def size(self):\n",
        "    temp = self.front\n",
        "    counter = 0\n",
        "    while temp != None:\n",
        "      counter+= 1\n",
        "      temp = temp.next\n",
        "    return counter\n",
        "\n",
        "  def front_item(self):\n",
        "    if self.front == None:\n",
        "      return \"empty\"\n",
        "    else:\n",
        "      return self.front.data\n",
        "\n",
        "  def rear_item(self):\n",
        "    if self.front == None:\n",
        "      return \"empty\"\n",
        "    else:\n",
        "      return self.rear.data\n",
        "\n",
        "  def traverse(self):\n",
        "    temp = self.front\n",
        "    while temp != None:\n",
        "      print(temp.data, end=' ')\n",
        "      temp = temp.next\n"
      ],
      "metadata": {
        "id": "37jj5jhmj9rL"
      },
      "execution_count": 16,
      "outputs": []
    },
    {
      "cell_type": "code",
      "source": [
        "q =Queue()"
      ],
      "metadata": {
        "id": "--dJeF32pkvR"
      },
      "execution_count": 17,
      "outputs": []
    },
    {
      "cell_type": "code",
      "source": [
        "q.enqueue(4)\n",
        "q.enqueue(5)\n",
        "q.enqueue(6)"
      ],
      "metadata": {
        "id": "UJa-AbicpqEU"
      },
      "execution_count": 18,
      "outputs": []
    },
    {
      "cell_type": "code",
      "source": [
        "q.traverse()"
      ],
      "metadata": {
        "colab": {
          "base_uri": "https://localhost:8080/"
        },
        "id": "tg57sGRjp3EC",
        "outputId": "b856d04d-0bf7-4f04-8bdb-87f66a7f8318"
      },
      "execution_count": 19,
      "outputs": [
        {
          "output_type": "stream",
          "name": "stdout",
          "text": [
            "4 5 6 "
          ]
        }
      ]
    },
    {
      "cell_type": "code",
      "source": [
        "q.dequeue()"
      ],
      "metadata": {
        "id": "4XY5RdmKqKdE"
      },
      "execution_count": 20,
      "outputs": []
    },
    {
      "cell_type": "code",
      "source": [
        "q.traverse()"
      ],
      "metadata": {
        "colab": {
          "base_uri": "https://localhost:8080/"
        },
        "id": "VIpiDhVJs1xJ",
        "outputId": "5990941b-de65-4238-eed9-07fb0ef9fd5e"
      },
      "execution_count": 21,
      "outputs": [
        {
          "output_type": "stream",
          "name": "stdout",
          "text": [
            "5 6 "
          ]
        }
      ]
    },
    {
      "cell_type": "code",
      "source": [],
      "metadata": {
        "id": "tsYIVxDKs4Mc"
      },
      "execution_count": null,
      "outputs": []
    }
  ]
}