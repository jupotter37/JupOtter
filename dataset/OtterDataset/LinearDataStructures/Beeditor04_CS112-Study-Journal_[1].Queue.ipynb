{
 "cells": [
  {
   "cell_type": "markdown",
   "metadata": {},
   "source": [
    "### ToC\n",
    "- Stack and Queue can be implemented by: `array` or `linked list`\n",
    "- [Queue](#1)\n",
    "- [Breadth First Search](#2)"
   ]
  },
  {
   "cell_type": "markdown",
   "metadata": {},
   "source": [
    "#### <a id=\"1\">Queue: FIFO</a>\n",
    "- `enqueue`: Add the end of linked lists\n",
    "- `dequeue`: Delete the front of linked lists"
   ]
  },
  {
   "cell_type": "code",
   "execution_count": 9,
   "metadata": {},
   "outputs": [
    {
     "data": {
      "text/plain": [
       "-1"
      ]
     },
     "execution_count": 9,
     "metadata": {},
     "output_type": "execute_result"
    }
   ],
   "source": [
    "class MyCircularQueue:\n",
    "\n",
    "    def __init__(self, k: int):\n",
    "        self.k = k\n",
    "        self.queue = [0]*self.k\n",
    "        self.head = 0\n",
    "        self.tail = -1\n",
    "        self.size = 0\n",
    "\n",
    "    def enQueue(self, value: int) -> bool:\n",
    "        if (self.size == self.k): return False\n",
    "        self.tail = (self.tail + 1) % self.k\n",
    "        self.queue[self.tail] = value\n",
    "        self.size += 1\n",
    "        return True\n",
    "    def deQueue(self) -> bool:\n",
    "        if (self.size == 0): return False\n",
    "        self.queue[self.head] = -1\n",
    "        self.head = (self.head + 1) % self.k\n",
    "        self.size -= 1\n",
    "        return True\n",
    "\n",
    "    def Front(self) -> int:\n",
    "        if (self.size == 0): return -1\n",
    "        return self.queue[self.head] if self.head >= 0 else self.queue[0]\n",
    "    \n",
    "    def Rear(self) -> int:\n",
    "        if (self.size == 0): return -1\n",
    "        return self.queue[self.tail] if self.tail >= 0 else self.queue[0]\n",
    "    def isEmpty(self) -> bool:\n",
    "        return True if (self.size == 0) else False\n",
    "\n",
    "    def isFull(self) -> bool:\n",
    "        return True if (self.size == self.k) else False\n",
    "\n",
    "\n",
    "value = 3\n",
    "obj = MyCircularQueue(2)\n",
    "obj.enQueue(1)\n",
    "obj.enQueue(2)\n",
    "obj.deQueue()\n",
    "obj.enQueue(3)\n",
    "obj.deQueue()\n",
    "obj.enQueue(3)\n",
    "obj.deQueue()\n",
    "obj.enQueue(3)\n",
    "obj.deQueue()\n",
    "obj.Front()"
   ]
  },
  {
   "cell_type": "markdown",
   "metadata": {},
   "source": [
    "### <a id=\"2\"> Breadth First Search </a>\n",
    "link: \n",
    "- https://www.geeksforgeeks.org/breadth-first-search-or-bfs-for-a-graph/\n",
    "- https://www.youtube.com/watch?v=pcKY4hjDrxk"
   ]
  }
 ],
 "metadata": {
  "kernelspec": {
   "display_name": "base",
   "language": "python",
   "name": "python3"
  },
  "language_info": {
   "codemirror_mode": {
    "name": "ipython",
    "version": 3
   },
   "file_extension": ".py",
   "mimetype": "text/x-python",
   "name": "python",
   "nbconvert_exporter": "python",
   "pygments_lexer": "ipython3",
   "version": "3.11.5"
  }
 },
 "nbformat": 4,
 "nbformat_minor": 2
}
