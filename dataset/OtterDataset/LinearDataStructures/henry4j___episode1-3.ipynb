{
 "cells": [
  {
   "cell_type": "markdown",
   "metadata": {},
   "source": [
    "#### 1. [Arrays and Strings](https://github.com/henry4j/-/blob/master/man/episode1-3.ipynb) | 4. [Trees and Graphs](https://github.com/henry4j/-/blob/master/man/episode4-7.ipynb)<a id=\"top\">\n",
    "\n",
    "**Gotchas**: escape-spaces(a), compress(s), **rotate(g)**, last(k), partition(head, x), move-tower(from, to, spare, n), Q-in-2-stacks, sort-in-stack.\n",
    "\n",
    "[1.1](#1.1) Write a program to determine if a string has all unique characters. What if you cannot use additional data structures?  \n",
    "[1.2](#1.2) Write a program to determine if a string is a permutation of the other.  \n",
    "!! [1.3](#1.3) Write a method to replace all spaces in a string with %20.  \n",
    "1.4 Write a program to determine if a string is a permutation of a palindrome.  \n",
    "1.5 Write a program to determine if two strings are one or zero edits away from each other (insert, delete, or replace).  \n",
    "!! [1.6](#1.6) Write a method to compress a string using counts of repeated chars, e.g., aabcccccaaa becomes a2b1c5a3.  \n",
    "!! [1.7](#1.7) Given an image represented by an NxN matrix, write a method to rotate the image by 90 degrees; in-place, in O(1) space.  \n",
    "[1.8](#1.8) Given an NxN matrix, write a program to set entire row and column to 0 if an element has a value of 0.  \n",
    "[1.9](#1.9) Given two strings, write a program to determine if a string is a rotation of the other using isSubstring method.  \n",
    "[1.x](#1.x) Write a function, void reverse(char* str), which reverses a null-terminated string.  "
   ]
  },
  {
   "cell_type": "markdown",
   "metadata": {},
   "source": [
    "#### <a id=\"2\"></a>[2](#top). Linked Lists\n",
    "\n",
    "[2.1](#2.1) Write code to remove duplicates from an unsorted linked list. What if you cannot use a temporary buffer?  \n",
    "[2.2](#2.2) Implement an algorithm to find the k-th last element of a singly linked list.  \n",
    "[2.3](#2.3) Given access only to a node, implement an algorithm to delete that node in the middle of a singly linked list.  \n",
    "!! [2.4](#2.4) Write a program to partition a linked list around a value of x, such that all nodes less than x come before all nodes greater than or equal to x.  \n",
    "[2.5](#2.5) Given two decimal numbers in a linked list where each node contains a single digit, write a program that sums up two numbers.  \n",
    "[2.6](#2.6) Given a circular linked list, implement an algorithm which returns the node at the beginning of the loop. e.g., INPUT: a -> b -> c -> d -> e -> c, and OUTPUT: c.  \n",
    "[2.7](#2.7) Implement a method to check if a linked list is a palindrome."
   ]
  },
  {
   "cell_type": "markdown",
   "metadata": {},
   "source": [
    "#### <a id=\"3\"></a>[3](#top). Stacks and Queues\n",
    "\n",
    "3.1 Implement three stacks using a single array.  \n",
    "[3.2](#3.2) Design a stack that has a min function that returns the minimum element in addition to push and pop. Push, pop, and min should all operate in O(1) time.  \n",
    "3.3 Imagine a literal stack of plates. If the stack gets too high, it might topple. Therefore, in real life, we would likely start a new stack when the previous stack exceeds some threshold. Implement a data structure SetOfStacks that mimics this. SetOfStacks should be composed of several stacks and should create a new stack once the previous one exceeds capacity. SetOfStacks.push() and SetOfStacks.pop() should behave identically to a single stack (that is, pop() should return the same values as it would if there were just a single stack). Implement a function popAt(int index) which performs a pop operation on a specific sub-stack.  \n",
    "!! [3.4](#3.4) Write a program that solves the tower of Hanoi puzzle of N disks between three rods.  \n",
    "[3.5](#3.5) Implement a queue using two stacks.  \n",
    "[3.6](#3.6) Write a program to sort a stack in ascending order with biggest items on top. You may use additional stacks to hold items, but you may not copy the elements into any other data structure such as an array. The stack supports the following operations: push, pop, peek, and isEmpty.  \n",
    "3.7 An animal shelter holds only dogs and cats, and operations on a strictly \"first in, first out\" basis. People must adopt either the oldest (based on the arrival time) of all animals at the shelter, or they can select whether they would prefer a dog or a cat (and will receive the oldest animal of that type). They cannot select which speicific animal they would like. Create the data structures to maintain this system and implement operations such as enqueue, dequeueAny, dequeueDog, and dequeueCat. You may use the LinkedList data structure.  "
   ]
  },
  {
   "cell_type": "markdown",
   "metadata": {},
   "source": [
    "<a id='1.1'></a>[1.1](#top) Write a program to determine if a string has all unique characters. What if you cannot use additional data structures? ([See Execution](http://goo.gl/v2Y2ml))"
   ]
  },
  {
   "cell_type": "code",
   "execution_count": 1,
   "metadata": {},
   "outputs": [],
   "source": [
    "def histogram(iterable):\n",
    "    d = {}\n",
    "    for e in iterable:\n",
    "        d[e] = d.get(e, 0) + 1\n",
    "    return d\n",
    "\n",
    "def uniq(s):\n",
    "    return all([v == 1 for v in histogram(s).values()])\n",
    "\n",
    "def unique(s):\n",
    "    for i, e in enumerate(s):\n",
    "        for j in range(i+1, len(s)):\n",
    "            if s[i] == s[j]:\n",
    "                return False\n",
    "    return True\n",
    "\n",
    "assert uniq('abc') and not uniq('abcba')\n",
    "assert unique('abc') and not unique('abcba')"
   ]
  },
  {
   "cell_type": "markdown",
   "metadata": {},
   "source": [
    "<a id=\"1.2\"></a>[1.2](#top) Write a function, void reverse(char* str), which reverses a null-terminated string."
   ]
  },
  {
   "cell_type": "code",
   "execution_count": 2,
   "metadata": {},
   "outputs": [],
   "source": [
    "def reverse(s):\n",
    "    a, n = list(s), len(s)\n",
    "    for i in range(n//2):\n",
    "        a[i], a[-1-i] = a[-1-i], a[i]\n",
    "    return \"\".join(a)\n",
    "\n",
    "assert 'tub' == reverse('but') and 'tub' == ''.join(reversed('but'))\n",
    "assert 'tub' == 'but'[::-1]"
   ]
  },
  {
   "cell_type": "markdown",
   "metadata": {},
   "source": [
    "<a id=\"1.3\"></a>[1.3](#top) Write a method to replace all spaces in a string with %20."
   ]
  },
  {
   "cell_type": "code",
   "execution_count": 3,
   "metadata": {},
   "outputs": [],
   "source": [
    "def resize(a, new_size, fill_value=None):\n",
    "    del a[new_size:]\n",
    "    a.extend([fill_value] * (new_size - len(a)))\n",
    "    return a\n",
    "\n",
    "def escape_spaces(a):\n",
    "    n = len(a)\n",
    "    j = m = n + 2 * sum(1 for e in a if e == \" \")\n",
    "    resize(a, m, \" \")\n",
    "    for i in range(n-1, -1, -1): # i in n-1..0\n",
    "        if a[i] == \" \":\n",
    "            a[j-3:j] = \"%20\"\n",
    "            j -= 3\n",
    "        else:\n",
    "            j -= 1\n",
    "            a[j] = a[i]\n",
    "    return a\n",
    "\n",
    "assert list(\"a%20b%20c%20\") == escape_spaces(list(\"a b c \"))"
   ]
  },
  {
   "cell_type": "markdown",
   "metadata": {},
   "source": [
    "<a id=\"1.3\"></a>[1.3](#top) Write a program to determine if a string is a permutation of the other."
   ]
  },
  {
   "cell_type": "code",
   "execution_count": 19,
   "metadata": {},
   "outputs": [],
   "source": [
    "def anagram(s1, s2):\n",
    "    if len(s1) != len(s2):\n",
    "        return False\n",
    "    h = histogram(s1)\n",
    "    for e in s2:\n",
    "        if h.get(e, 0) > 0:\n",
    "            h[e] -= 1\n",
    "        else:\n",
    "            return False\n",
    "    return True\n",
    "\n",
    "def anagram2(s1, s2):\n",
    "    signature = lambda s: ''.join(sorted(s))\n",
    "    return len(s1) == len(s2) and signature(s1) == signature(s2)\n",
    "\n",
    "def anagram3(s1, s2):\n",
    "    return histogram(s1) == histogram(s2)\n",
    "\n",
    "assert anagram('', '') and anagram('a', 'a') and anagram('ab', 'ba')\n",
    "assert anagram('aab', 'aba') and anagram('aabb', 'abab')\n",
    "assert not anagram('a', '') and not anagram('', 'a')\n",
    "assert not anagram('a', 'b') and not anagram('aa', 'ab')\n",
    "assert anagram2('aab', 'aba') and anagram2('aabb', 'abab')\n",
    "assert anagram3('aab', 'aba') and anagram3('aabb', 'abab')"
   ]
  },
  {
   "cell_type": "markdown",
   "metadata": {},
   "source": [
    "<a id=\"1.5\"></a>[1.5](#top) Write a method to compress a string using counts of repeated chars, e.g., aabcccccaaa becomes a2b1c5a3. If the \"compressed\" string would not become smaller than the original\n",
    "string, it should return the original string."
   ]
  },
  {
   "cell_type": "code",
   "execution_count": 5,
   "metadata": {},
   "outputs": [],
   "source": [
    "def compressed(s):\n",
    "    s2 = []\n",
    "    start, n = 0, len(s)\n",
    "    for stop in range(1, n+1):\n",
    "        if stop == n or s[stop] != s[start]:\n",
    "            s2.extend([s[start], str(stop - start)])\n",
    "            start = stop\n",
    "    return ''.join(s2) if len(s2) < n else s\n",
    "\n",
    "assert 'a2b1c5a3' == compressed('aabcccccaaa')\n",
    "assert 'abcc' == compressed('abcc')\n",
    "assert 'abc' == compressed('abc')\n",
    "assert '' == compressed('')"
   ]
  },
  {
   "cell_type": "markdown",
   "metadata": {},
   "source": [
    "<a id=\"1.6\"></a>[1.6](#top) Given an image represented by an NxN matrix, write a method to rotate the image by 90 degrees; in-place, in O(1) space."
   ]
  },
  {
   "cell_type": "code",
   "execution_count": 6,
   "metadata": {},
   "outputs": [],
   "source": [
    "def rotate(g):\n",
    "    n = len(g)\n",
    "    for layer in n//2:\n",
    "        head, tail = layer, n-1-layer\n",
    "        for i in range(head, tail):\n",
    "            top = g[layer][i]\n",
    "            g[layer][i] = g[n-1-i][head] # left to top\n",
    "            g[n-1-i][head] = g[tail][n-1-i] # bottom to left\n",
    "            g[tail][n-1-i] = g[i][tail] # right to bottom\n",
    "            g[i][tail] = top # top to right\n",
    "    return g\n",
    "\n",
    "g = [\n",
    "    [ 1,  2,  3,  4,  5],\n",
    "    [ 6,  7,  8,  9, 10],\n",
    "    [11, 12, 13, 14, 15],\n",
    "    [16, 17, 18, 19, 20],\n",
    "    [21, 22, 23, 24, 25]\n",
    "]\n",
    "\n",
    "assert [\n",
    "    [21, 16, 11,  6,  1],\n",
    "    [22, 17, 12,  7,  2],\n",
    "    [23, 18, 13,  8,  3],\n",
    "    [24, 19, 14,  9,  4],\n",
    "    [25, 20, 15, 10,  5]\n",
    "], rotate(g)"
   ]
  },
  {
   "cell_type": "markdown",
   "metadata": {},
   "source": [
    "<a id=\"1.7\"></a>[1.7](#top) Given an NxN matrix, write a program to set entire row and column to 0 if an element has a value of 0."
   ]
  },
  {
   "cell_type": "code",
   "execution_count": 7,
   "metadata": {},
   "outputs": [],
   "source": [
    "def zero_out(g):\n",
    "    m, n = len(g), len(g[0])\n",
    "    rows, columns = set(), set()\n",
    "    for r in range(m):\n",
    "        for c in range(n):\n",
    "            if g[r][c] == 0:\n",
    "                rows.add(r)\n",
    "                columns.add(c)\n",
    "    for r in range(m):\n",
    "        for c in range(n):\n",
    "            if r in rows or c in columns:\n",
    "                g[r][c] = 0\n",
    "    return g\n",
    "\n",
    "g = [\n",
    "    [ 1, 2, 3, 4 ],\n",
    "    [ 5, 6, 7, 8 ],\n",
    "    [ 9, 0, 1, 2 ],\n",
    "    [ 3, 4, 5, 6 ]\n",
    "]\n",
    "\n",
    "assert [\n",
    "    [1, 0, 3, 4],\n",
    "    [5, 0, 7, 8],\n",
    "    [0, 0, 0, 0],\n",
    "    [3, 0, 5, 6]\n",
    "] == zero_out(g)"
   ]
  },
  {
   "cell_type": "markdown",
   "metadata": {},
   "source": [
    "<a id=\"1.8\"></a>[1.8](#top) Given two strings, write a program to determine if a string is a rotation of the other using isSubstring method."
   ]
  },
  {
   "cell_type": "code",
   "execution_count": 8,
   "metadata": {},
   "outputs": [],
   "source": [
    "is_rotated = lambda s, t: len(s) == len(t) and -1 != (s+s).find(t)\n",
    "assert is_rotated(\"xyz\", \"yzx\") and is_rotated(\"xyz\", \"zxy\")\n",
    "assert is_rotated(\"x\", \"x\") and is_rotated(\"xy\", \"yx\")\n",
    "assert not is_rotated(\"xyz\", \"xyx\")"
   ]
  },
  {
   "cell_type": "markdown",
   "metadata": {},
   "source": [
    "#### 2. Linked Lists"
   ]
  },
  {
   "cell_type": "markdown",
   "metadata": {},
   "source": [
    "<a id=\"2.1\"></a>[2.1](#2) Write code to remove duplicates from an unsorted linked list. What if you cannot use a temporary buffer?"
   ]
  },
  {
   "cell_type": "markdown",
   "metadata": {},
   "source": [
    "<a id=\"2.2\"></a>[2.2](#2) Implement an algorithm to find the k-th to last element of a singly linked list."
   ]
  },
  {
   "cell_type": "code",
   "execution_count": 9,
   "metadata": {},
   "outputs": [],
   "source": [
    "class SNode:\n",
    "    def __init__(self, value, next_=None):\n",
    "        self.value, self.next_ = value, next_\n",
    "\n",
    "    def __repr__(self):\n",
    "        return \"SNode({0}, {1})\".format(self.value, self.next_)\n",
    "    \n",
    "    @classmethod\n",
    "    def from_values(cls, *values):\n",
    "        next_ = None\n",
    "        for value in reversed(values):\n",
    "            next_ = cls(value, next_)\n",
    "        return next_\n",
    "    \n",
    "    def __eq__(self, other):\n",
    "        return other and self.value == other.value and self.next_ == other.next_\n",
    "\n",
    "    def last(self, k=0):\n",
    "        p1 = pk = self\n",
    "        for _ in range(k):\n",
    "            if p1.next_ is None:\n",
    "                return None\n",
    "            p1 = p1.next_\n",
    "        while p1.next_:\n",
    "            p1, pk = p1.next_, pk.next_\n",
    "        return pk\n",
    "\n",
    "assert SNode.from_values(4) == SNode.from_values(1, 2, 3, 4).last(0)\n",
    "assert SNode.from_values(1, 2, 3, 4) == SNode.from_values(1, 2, 3, 4).last(3)\n",
    "assert SNode.from_values(1, 2, 3, 4).last(4) is None"
   ]
  },
  {
   "cell_type": "code",
   "execution_count": 10,
   "metadata": {},
   "outputs": [],
   "source": [
    "def dedup_o1_time(head):\n",
    "    curr, d = head, {}\n",
    "    while curr:\n",
    "        if curr.value in d:\n",
    "            pred.next_ = curr.next_\n",
    "        else:\n",
    "            d[curr.value], pred = True, curr\n",
    "        curr = curr.next_\n",
    "    return head\n",
    "\n",
    "assert SNode.from_values(1, 2, 3) == dedup_o1_time(SNode.from_values(1, 2, 3, 3, 3))\n",
    "assert SNode.from_values(1, 2, 3) == dedup_o1_time(SNode.from_values(1, 1, 2, 3, 3))\n",
    "assert SNode.from_values(1, 2, 3) == dedup_o1_time(SNode.from_values(1, 2, 2, 3, 2))\n",
    "\n",
    "def dedup_o1_space(head):\n",
    "    curr = head\n",
    "    while curr:\n",
    "        pred = curr\n",
    "        while pred.next_:\n",
    "            if curr.value == pred.next_.value:\n",
    "                pred.next_ = pred.next_.next_\n",
    "            else:\n",
    "                pred = pred.next_\n",
    "        curr = curr.next_\n",
    "    return head\n",
    "\n",
    "assert SNode.from_values(1, 2, 3) == dedup_o1_space(SNode.from_values(1, 2, 3, 3, 3))\n",
    "assert SNode.from_values(1, 2, 3) == dedup_o1_space(SNode.from_values(1, 1, 2, 3, 3))\n",
    "assert SNode.from_values(1, 2, 3) == dedup_o1_space(SNode.from_values(1, 2, 2, 3, 2))"
   ]
  },
  {
   "cell_type": "markdown",
   "metadata": {},
   "source": [
    "<a id=\"2.3\"></a>[2.3](#2) Given access only to a node, implement an algorithm to delete that node in the middle of a singly linked list."
   ]
  },
  {
   "cell_type": "markdown",
   "metadata": {},
   "source": [
    "<a id=\"2.4\"></a>[2.4](#2) Write a program to partition a linked list around a value of x, such that all nodes less than x come before all nodes greater than or equal to x."
   ]
  },
  {
   "cell_type": "code",
   "execution_count": 11,
   "metadata": {},
   "outputs": [],
   "source": [
    "def partition(head, x):\n",
    "    def push(pool, curr):\n",
    "        curr.next_ = pool\n",
    "        return curr\n",
    "    def last(curr):\n",
    "        while curr.next_:\n",
    "            curr = curr.next_\n",
    "        return curr\n",
    "    curr = head\n",
    "    head = tail = body = None\n",
    "    while curr:\n",
    "        next_ = curr.next_\n",
    "        if curr.value < x:\n",
    "            head = push(head, curr)\n",
    "        elif curr.value > x:\n",
    "            tail = push(tail, curr)\n",
    "        else:\n",
    "            body = push(body, curr)\n",
    "        curr = next_\n",
    "\n",
    "    last(head).next_ = body\n",
    "    last(body).next_ = tail\n",
    "    return head\n",
    "\n",
    "nine = SNode.from_values(9, 1, 8, 2, 5, 7, 3, 6, 4, 5)\n",
    "assert SNode.from_values(4, 3, 2, 1, 5, 5, 6, 7, 8, 9) == partition(nine, 5)"
   ]
  },
  {
   "cell_type": "markdown",
   "metadata": {},
   "source": [
    "<a id=\"3.2\"></a>[3.2](#3) Design a stack that has a min function that returns the minimum element in addition to push and pop. Push, pop, and min should all operate in O(1) time."
   ]
  },
  {
   "cell_type": "code",
   "execution_count": 12,
   "metadata": {},
   "outputs": [],
   "source": [
    "class MinStack:\n",
    "    def __init__(self):\n",
    "        self.minimum = None\n",
    "        self.stack = []\n",
    "\n",
    "    def push(self, e):\n",
    "        if self.minimum is None or e <= self.minimum:\n",
    "            self.stack.append(self.minimum)\n",
    "            self.minimum = e\n",
    "        self.stack.append(e)\n",
    "        return self\n",
    "\n",
    "    def pop(self): # return e\n",
    "        e = self.stack.pop()\n",
    "        if e == self.minimum:\n",
    "            self.minimum = self.stack.pop()\n",
    "        return e\n",
    "\n",
    "stack = MinStack().push(2).push(3).push(2).push(1)\n",
    "assert 1 == stack.minimum and 1 == stack.pop()\n",
    "assert 2 == stack.minimum and 2 == stack.pop()\n",
    "assert 2 == stack.minimum and 3 == stack.pop()\n",
    "assert 2 == stack.minimum and 2 == stack.pop()\n",
    "assert stack.minimum is None"
   ]
  },
  {
   "cell_type": "markdown",
   "metadata": {},
   "source": [
    "<a id=\"3.4\"></a>[3.4](#3) Write a program that solves the tower of Hanoi puzzle of N disks between three rods. "
   ]
  },
  {
   "cell_type": "code",
   "execution_count": 13,
   "metadata": {},
   "outputs": [],
   "source": [
    "def move_disk(from_, to):\n",
    "    return (from_, to)\n",
    "\n",
    "def move_tower(from_, to, spare, n):\n",
    "    if n == 1:\n",
    "        return [move_disk(from_, to)]\n",
    "    return (move_tower(from_, spare, to, n-1)\n",
    "            + [move_disk(from_, to)]\n",
    "            + move_tower(spare, to, from_, n-1))\n",
    "\n",
    "assert [\n",
    "    ('A', 'C'),\n",
    "    ('A', 'B'),\n",
    "    ('C', 'B'),\n",
    "    ('A', 'C'),\n",
    "    ('B', 'A'),\n",
    "    ('B', 'C'),\n",
    "    ('A', 'C')\n",
    "] == move_tower('A', 'C', 'B', 3)"
   ]
  },
  {
   "cell_type": "markdown",
   "metadata": {},
   "source": [
    "<a id=\"3.5\"></a>[3.5](#3) Implement a queue using two stacks. "
   ]
  },
  {
   "cell_type": "code",
   "execution_count": 14,
   "metadata": {},
   "outputs": [],
   "source": [
    "class Q:\n",
    "    def __init__(self):\n",
    "        self.inbox, self.outbox = [], []\n",
    "\n",
    "    def offer(self, element):\n",
    "        self.inbox.append(element)\n",
    "        return self\n",
    "\n",
    "    def poll(self):\n",
    "        if not self.outbox:\n",
    "            while self.inbox:\n",
    "                self.outbox.append(self.inbox.pop())\n",
    "        return self.outbox.pop() if self.outbox else None\n",
    "\n",
    "    def __repr__(self):\n",
    "        return 'Queueable(s1={0.s1!r}, s2={0.s2!r})'.format(self)\n",
    "\n",
    "q = Q()          # s1: [], s2: []\n",
    "q.offer(1).offer(2)      # s1: [1, 2], s2: []\n",
    "assert 1 == q.poll()     # s1: [], s2: [2], coverage: true, and 2 iterations\n",
    "assert 2 == q.poll()     # s1: [], s2: [], coverage: false\n",
    "q.offer(3)               # s1: [3], s2: []\n",
    "assert 3 == q.poll()     # s1: [], s2: [], coverage: true, and 1 iteration\n",
    "assert None == q.poll()  # s1: [], s2: [], coverage: true, and 0 iteration"
   ]
  },
  {
   "cell_type": "markdown",
   "metadata": {},
   "source": [
    "<a id=\"3.6\"></a>[3.6](#3) Write a program to sort a stack in ascending order with biggest items on top. You may use additional stacks to hold items, but you may not copy the elements into any other data structure such as an array. The stack supports the following operations: push, pop, peek, and isEmpty."
   ]
  },
  {
   "cell_type": "code",
   "execution_count": 15,
   "metadata": {},
   "outputs": [],
   "source": [
    "def sort(a): # a = [1, 2, 9, 8, 3, 4]\n",
    "    s = []\n",
    "    while a:\n",
    "        e = a.pop()\n",
    "        while s and s[-1] > e:\n",
    "            a.append(s.pop())\n",
    "        s.append(e)\n",
    "    a.extend(s)\n",
    "    return a\n",
    "\n",
    "assert [1, 2, 3, 4, 5] == sort([1, 2, 5, 3, 4])"
   ]
  },
  {
   "cell_type": "markdown",
   "metadata": {},
   "source": [
    "[Back to Top](#top)"
   ]
  }
 ],
 "metadata": {
  "kernelspec": {
   "display_name": "Python 3",
   "language": "python",
   "name": "python3"
  },
  "language_info": {
   "codemirror_mode": {
    "name": "ipython",
    "version": 3
   },
   "file_extension": ".py",
   "mimetype": "text/x-python",
   "name": "python",
   "nbconvert_exporter": "python",
   "pygments_lexer": "ipython3",
   "version": "3.6.2"
  },
  "name": "episode1-3"
 },
 "nbformat": 4,
 "nbformat_minor": 1
}
