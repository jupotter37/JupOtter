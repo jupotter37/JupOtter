{
 "cells": [
  {
   "cell_type": "markdown",
   "id": "0",
   "metadata": {},
   "source": [
    "## 12.3 Length of a sequence"
   ]
  },
  {
   "cell_type": "markdown",
   "id": "1",
   "metadata": {},
   "source": [
    "The same approach can be used with a collection of items,\n",
    "if we decrease it by one item at a time until it has the lowest number of items\n",
    "imposed by the preconditions (often, zero).\n",
    "\n",
    "Let's consider the problem of determining the length of a sequence."
   ]
  },
  {
   "cell_type": "markdown",
   "id": "2",
   "metadata": {},
   "source": [
    "### 12.3.1 Recursive definition"
   ]
  },
  {
   "cell_type": "markdown",
   "id": "3",
   "metadata": {},
   "source": [
    "To define the problem recursively, I must answer two questions:\n",
    "\n",
    "1. What are the smallest possible input and its output?\n",
    "   It's the empty sequence, with length&nbsp;0.\n",
    "2. If I know the output for a sequence with one item less,\n",
    "   how can I use it to compute the output for the whole sequence?\n",
    "   The length of the whole sequence is the length of the shorter sequence\n",
    "   plus one, because we only shortened it by one item.\n",
    "\n",
    "The recursive definition will be something like:\n",
    "\n",
    "- if *sequence* is empty: length(*sequence*) = 0\n",
    "- if *sequence* isn't empty: length(*sequence*) = length(shorter sequence) + 1.\n",
    "\n",
    "For integers, the decrease step did the subtraction *n*−1,\n",
    "but how can we decrease collections by one item?\n",
    "For a [stack](../07_Ordered/07_1_stack.ipynb#7.1-Stacks), we pop the top item.\n",
    "For a [queue](../07_Ordered/07_3_queue.ipynb#7.3.1-Queues), we dequeue the front item.\n",
    "For a [linked list](../06_Implementing/06_7_linked_list.ipynb#6.7-Linked-lists), we remove the first node by\n",
    "making the head point to the next node.\n",
    "For an array we remove any item and shift the others.\n",
    "\n",
    "To define recursive functions on general sequences,\n",
    "without depending on the operations of each sequence data type,\n",
    "it's useful to define a sequence recursively:\n",
    "\n",
    "> A sequence S is either empty or it consists of an item\n",
    "> (called the **head** of S) followed by another sequence\n",
    "> (called the **tail** of S).\n",
    "\n",
    "The second question can now be rephrased as\n",
    "\n",
    "2. If I know the output for the tail of sequence S, how can I compute the output for S?\n",
    "\n",
    "Defining the data recursively allows recursive function definitions to simply\n",
    "follow the shape of the data.\n",
    "For the problem at hand, the length of a sequence is zero if it's empty,\n",
    "otherwise it's one more than the length of its tail.\n",
    "\n",
    "- if *sequence* is empty: length(*sequence*) = 0\n",
    "- if *sequence* isn't empty: length(*sequence*) = length(tail(*sequence*)) + 1."
   ]
  },
  {
   "cell_type": "markdown",
   "id": "4",
   "metadata": {},
   "source": [
    "#### Exercise 12.3.1"
   ]
  },
  {
   "cell_type": "markdown",
   "id": "5",
   "metadata": {},
   "source": [
    "Write a recursive definition for sum(*numbers*),\n",
    "where *numbers* is a sequence of integers."
   ]
  },
  {
   "cell_type": "markdown",
   "id": "6",
   "metadata": {},
   "source": [
    "- if *numbers* is empty:\n",
    "- otherwise:"
   ]
  },
  {
   "cell_type": "markdown",
   "id": "7",
   "metadata": {},
   "source": [
    "[Hint](../31_Hints/Hints_12_3_01.ipynb)\n",
    "[Answer](../32_Answers/Answers_12_3_01.ipynb)"
   ]
  },
  {
   "cell_type": "markdown",
   "id": "8",
   "metadata": {},
   "source": [
    "### 12.3.2 Code"
   ]
  },
  {
   "cell_type": "markdown",
   "id": "9",
   "metadata": {},
   "source": [
    "The algorithm is the same as the recursive definition, just in slightly different notation, so I proceed directly to the code.\n",
    "I will use lists as the sequence data type.\n",
    "\n",
    "First I write the three functions that support the recursive definition of lists."
   ]
  },
  {
   "cell_type": "code",
   "execution_count": 1,
   "id": "10",
   "metadata": {},
   "outputs": [],
   "source": [
    "# this code is also in m269_rec_list.py\n",
    "\n",
    "def head(items: list) -> object:\n",
    "    \"\"\"Return the first item of the list.\n",
    "\n",
    "    Preconditions: items isn't empty\n",
    "    \"\"\"\n",
    "    return items[0]\n",
    "\n",
    "def tail(items: list) -> list:\n",
    "    \"\"\"Return the list without the first item.\n",
    "\n",
    "    Preconditions: items isn't empty\n",
    "    \"\"\"\n",
    "    return items[1:]\n",
    "\n",
    "def is_empty(items: list) -> bool:\n",
    "    \"\"\"Return True if and only if the list is empty.\"\"\"\n",
    "    return items == []"
   ]
  },
  {
   "cell_type": "markdown",
   "id": "11",
   "metadata": {},
   "source": [
    "Now I can implement the recursive definition of length."
   ]
  },
  {
   "cell_type": "code",
   "execution_count": 2,
   "id": "12",
   "metadata": {},
   "outputs": [],
   "source": [
    "def length(items: list) -> int:\n",
    "    \"\"\"Return the number of objects in the list.\"\"\"\n",
    "    if is_empty(items):\n",
    "        return 0\n",
    "    else:\n",
    "        return length(tail(items)) + 1"
   ]
  },
  {
   "cell_type": "markdown",
   "id": "13",
   "metadata": {},
   "source": [
    "The last line of code does the decrease, recur and combine steps in one expression. Decreasing the input is done by computing its tail.\n",
    "The combination step increments the solution of the decreased problem by one;\n",
    "the head of the sequence isn't needed for this problem, but that's an exception.\n",
    "\n",
    "Let's quickly check the implementation."
   ]
  },
  {
   "cell_type": "code",
   "execution_count": 3,
   "id": "14",
   "metadata": {},
   "outputs": [
    {
     "data": {
      "text/plain": [
       "0"
      ]
     },
     "execution_count": 3,
     "metadata": {},
     "output_type": "execute_result"
    }
   ],
   "source": [
    "length([])"
   ]
  },
  {
   "cell_type": "code",
   "execution_count": 4,
   "id": "15",
   "metadata": {},
   "outputs": [
    {
     "data": {
      "text/plain": [
       "3"
      ]
     },
     "execution_count": 4,
     "metadata": {},
     "output_type": "execute_result"
    }
   ],
   "source": [
    "length(['one', 'two', 'three'])"
   ]
  },
  {
   "cell_type": "markdown",
   "id": "16",
   "metadata": {},
   "source": [
    "### 12.3.3 Mistakes"
   ]
  },
  {
   "cell_type": "markdown",
   "id": "17",
   "metadata": {},
   "source": [
    "For a recursive definition and the corresponding algorithm to be correct,\n",
    "there must be a base case at which the recursion stops and\n",
    "the recurrence relation must progress towards the base case\n",
    "by decreasing the input.\n",
    "\n",
    "Without the base case the algorithm doesn't stop.\n",
    "The factorial function will happily decrease *n* by one forever\n",
    "if there's no check for *n* = 0 (and if the call stack were unlimited).\n",
    "\n",
    "Consider this implementation of the length function, which lacks the base case."
   ]
  },
  {
   "cell_type": "code",
   "execution_count": 5,
   "id": "18",
   "metadata": {},
   "outputs": [],
   "source": [
    "def wrong_length(items: list) -> int:\n",
    "    return wrong_length(tail(items)) + 1"
   ]
  },
  {
   "cell_type": "markdown",
   "id": "19",
   "metadata": {},
   "source": [
    "What will happen if this Python function is called for a list with three items?\n",
    "\n",
    "___\n",
    "\n",
    "It may look like this function will raise an error after three calls,\n",
    "because the tail operation is undefined for the empty list,\n",
    "according to its preconditions.\n",
    "\n",
    "However, it's implemented with slicing from index&nbsp;1.\n",
    "In Python, slicing returns an empty sequence if the indices are out of bounds.\n",
    "So, slicing the empty list (which doesn't have index&nbsp;1) produces the empty list."
   ]
  },
  {
   "cell_type": "code",
   "execution_count": 6,
   "id": "20",
   "metadata": {},
   "outputs": [
    {
     "data": {
      "text/plain": [
       "[]"
      ]
     },
     "execution_count": 6,
     "metadata": {},
     "output_type": "execute_result"
    }
   ],
   "source": [
    "tail([])"
   ]
  },
  {
   "cell_type": "markdown",
   "id": "21",
   "metadata": {},
   "source": [
    "Function `wrong_length` will keep attempting to decrease the empty list and\n",
    "only stop when the call stack's memory is exhausted."
   ]
  },
  {
   "cell_type": "code",
   "execution_count": 7,
   "id": "22",
   "metadata": {},
   "outputs": [
    {
     "ename": "RecursionError",
     "evalue": "maximum recursion depth exceeded",
     "output_type": "error",
     "traceback": [
      "\u001b[0;31m---------------------------------------------------------------------------\u001b[0m",
      "\u001b[0;31mRecursionError\u001b[0m                            Traceback (most recent call last)",
      "Cell \u001b[0;32mIn[7], line 1\u001b[0m\n\u001b[0;32m----> 1\u001b[0m \u001b[43mwrong_length\u001b[49m\u001b[43m(\u001b[49m\u001b[43m[\u001b[49m\u001b[38;5;241;43m1\u001b[39;49m\u001b[43m,\u001b[49m\u001b[43m \u001b[49m\u001b[38;5;241;43m2\u001b[39;49m\u001b[43m,\u001b[49m\u001b[43m \u001b[49m\u001b[38;5;241;43m3\u001b[39;49m\u001b[43m]\u001b[49m\u001b[43m)\u001b[49m\n",
      "Cell \u001b[0;32mIn[5], line 2\u001b[0m, in \u001b[0;36mwrong_length\u001b[0;34m(items)\u001b[0m\n\u001b[1;32m      1\u001b[0m \u001b[38;5;28;01mdef\u001b[39;00m \u001b[38;5;21mwrong_length\u001b[39m(items: \u001b[38;5;28mlist\u001b[39m) \u001b[38;5;241m-\u001b[39m\u001b[38;5;241m>\u001b[39m \u001b[38;5;28mint\u001b[39m:\n\u001b[0;32m----> 2\u001b[0m     \u001b[38;5;28;01mreturn\u001b[39;00m \u001b[43mwrong_length\u001b[49m\u001b[43m(\u001b[49m\u001b[43mtail\u001b[49m\u001b[43m(\u001b[49m\u001b[43mitems\u001b[49m\u001b[43m)\u001b[49m\u001b[43m)\u001b[49m \u001b[38;5;241m+\u001b[39m \u001b[38;5;241m1\u001b[39m\n",
      "Cell \u001b[0;32mIn[5], line 2\u001b[0m, in \u001b[0;36mwrong_length\u001b[0;34m(items)\u001b[0m\n\u001b[1;32m      1\u001b[0m \u001b[38;5;28;01mdef\u001b[39;00m \u001b[38;5;21mwrong_length\u001b[39m(items: \u001b[38;5;28mlist\u001b[39m) \u001b[38;5;241m-\u001b[39m\u001b[38;5;241m>\u001b[39m \u001b[38;5;28mint\u001b[39m:\n\u001b[0;32m----> 2\u001b[0m     \u001b[38;5;28;01mreturn\u001b[39;00m \u001b[43mwrong_length\u001b[49m\u001b[43m(\u001b[49m\u001b[43mtail\u001b[49m\u001b[43m(\u001b[49m\u001b[43mitems\u001b[49m\u001b[43m)\u001b[49m\u001b[43m)\u001b[49m \u001b[38;5;241m+\u001b[39m \u001b[38;5;241m1\u001b[39m\n",
      "    \u001b[0;31m[... skipping similar frames: wrong_length at line 2 (2970 times)]\u001b[0m\n",
      "Cell \u001b[0;32mIn[5], line 2\u001b[0m, in \u001b[0;36mwrong_length\u001b[0;34m(items)\u001b[0m\n\u001b[1;32m      1\u001b[0m \u001b[38;5;28;01mdef\u001b[39;00m \u001b[38;5;21mwrong_length\u001b[39m(items: \u001b[38;5;28mlist\u001b[39m) \u001b[38;5;241m-\u001b[39m\u001b[38;5;241m>\u001b[39m \u001b[38;5;28mint\u001b[39m:\n\u001b[0;32m----> 2\u001b[0m     \u001b[38;5;28;01mreturn\u001b[39;00m wrong_length(\u001b[43mtail\u001b[49m\u001b[43m(\u001b[49m\u001b[43mitems\u001b[49m\u001b[43m)\u001b[49m) \u001b[38;5;241m+\u001b[39m \u001b[38;5;241m1\u001b[39m\n",
      "\u001b[0;31mRecursionError\u001b[0m: maximum recursion depth exceeded"
     ]
    }
   ],
   "source": [
    "wrong_length([1, 2, 3])"
   ]
  },
  {
   "cell_type": "markdown",
   "id": "23",
   "metadata": {},
   "source": [
    "⟵ [Previous section](12_2_integers.ipynb) | [Up](12-introduction.ipynb) | [Next section](12_4_inspect_sequences.ipynb) ⟶"
   ]
  }
 ],
 "metadata": {
  "kernelspec": {
   "display_name": "Python 3",
   "language": "python",
   "name": "python3"
  },
  "language_info": {
   "codemirror_mode": {
    "name": "ipython",
    "version": 3
   },
   "file_extension": ".py",
   "mimetype": "text/x-python",
   "name": "python",
   "nbconvert_exporter": "python",
   "pygments_lexer": "ipython3",
   "version": "3.11.9"
  }
 },
 "nbformat": 4,
 "nbformat_minor": 5
}
