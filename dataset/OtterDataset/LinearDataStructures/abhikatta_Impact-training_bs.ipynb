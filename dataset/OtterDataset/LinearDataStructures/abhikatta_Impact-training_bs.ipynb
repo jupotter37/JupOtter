{
 "cells": [
  {
   "cell_type": "code",
   "execution_count": null,
   "metadata": {},
   "outputs": [],
   "source": [
    "x=1\n",
    "count=0\n",
    "while(x<=60):\n",
    "    for i in range(1,x+1):\n",
    "        if(x%i==0):\n",
    "            print(i,end=',')\n",
    "            count+=1\n",
    "    x+=1\n",
    "    print('\\n')"
   ]
  },
  {
   "cell_type": "code",
   "execution_count": null,
   "metadata": {},
   "outputs": [],
   "source": [
    "def fact(x:int)->int:\n",
    "    from math import factorial \n",
    "    return factorial(x)\n",
    "# fact(5)\n",
    "def str_num(num:int)->bool:\n",
    "    lis=[]\n",
    "    for i in str(num):\n",
    "        lis.append(fact(int((i))))\n",
    "        if(sum(lis)==num):\n",
    "            return True\n",
    "    return False\n",
    "num=input()\n",
    "str_num(int(num))"
   ]
  },
  {
   "cell_type": "code",
   "execution_count": null,
   "metadata": {},
   "outputs": [],
   "source": [
    "# cpp:\n",
    "\n",
    "# int dfs(int node, vector<int> &vis, vector<int> &path, vector<int> adj[], int sum) {\n",
    "#     vis[node] = 1;\n",
    "#     path[node] = sum;\n",
    "#     int tsum = INT_MIN;\n",
    "#     for(auto it : adj[node]) {\n",
    "#         if(!vis[it]) {\n",
    "#             int x = dfs(it, vis, path, adj, sum + it);\n",
    "#             tsum = max(tsum, x);\n",
    "#         } else if(path[it] != -1) {\n",
    "#             int x = path[node] - path[it] + it;\n",
    "#             tsum = max(tsum, x);\n",
    "#         }\n",
    "#     }\n",
    "#     path[node] = -1;\n",
    "#     return tsum;\n",
    "# }\n",
    "\n",
    "# int main() {\n",
    "#     int n;\n",
    "#     cin >> n;\n",
    "#     vector<int> v(n);\n",
    "#     for(int i = 0; i < n; i++) {\n",
    "#         cin >> v[i];\n",
    "#     }\n",
    "#     vector<int> adj[n]; for(int i = 0; i < n; i++) if(v[i] != -1) adj[i].push_back(v[i]);\n",
    "#     vector<int> vis(n, 0);\n",
    "#     vector<int> path(n, -1);\n",
    "#     int ans = 0;\n",
    "#     for(int i = 0; i < n; i++) {\n",
    "#         if(!vis[i]) {\n",
    "#             int x = dfs(i, vis, path, adj, i);\n",
    "#             ans = max(ans, x);\n",
    "#         }\n",
    "#     }\n",
    "#     cout << ans;\n",
    "# }\n",
    "# e(2, NUM):\n",
    "#             if (NUM % i) == 0:\n",
    "#                 break\n",
    "#     COUNT += 1\n",
    "#     print(COUNT)\n"
   ]
  },
  {
   "attachments": {},
   "cell_type": "markdown",
   "metadata": {},
   "source": [
    "### a \"strong number\" is a number that is equal to the sum of factorials of its digits.\n",
    "145=1!+4!=5!"
   ]
  },
  {
   "cell_type": "code",
   "execution_count": null,
   "metadata": {},
   "outputs": [],
   "source": [
    "# number where sum of factorial of digits is equal to number itself.\n",
    "print(\"*\"*3)"
   ]
  },
  {
   "cell_type": "code",
   "execution_count": null,
   "metadata": {},
   "outputs": [],
   "source": [
    "# 6-1,2,3\n",
    "import os\n",
    "os.system('')"
   ]
  },
  {
   "cell_type": "code",
   "execution_count": null,
   "metadata": {},
   "outputs": [],
   "source": [
    "'''\n",
    " *****\n",
    "*******\n",
    " *****\n",
    "  ***\n",
    "   *\n",
    "'''\n",
    "\n",
    "\n",
    "print('', '*'*5, ' ')\n",
    "print('*'*7, ' ')\n",
    "print('','*'*5)\n",
    "print(' ','*'*3)\n",
    "print('  ','*'*1)"
   ]
  },
  {
   "cell_type": "code",
   "execution_count": null,
   "metadata": {},
   "outputs": [],
   "source": [
    "# num=input()\n",
    "# print('')\n",
    "# for i in range(num/2):\n",
    "    \n",
    "    "
   ]
  },
  {
   "cell_type": "code",
   "execution_count": null,
   "metadata": {},
   "outputs": [],
   "source": [
    "for i in range(6):\n",
    "    print('*'*i)"
   ]
  },
  {
   "cell_type": "code",
   "execution_count": null,
   "metadata": {},
   "outputs": [],
   "source": [
    "# for i in range(6):\n",
    "#     print(' ')\n",
    "#     for j in range(6-i):\n",
    "#         print(' '*int(i),end='')\n",
    "#         print('*',end='')\n",
    "#     # print('\\n')\n",
    "#     for j in range():\n",
    "#         print(' '*int*abs(j),end='')\n",
    "#         print('*', end='')\n",
    "#     # print('\\n') "
   ]
  },
  {
   "cell_type": "code",
   "execution_count": null,
   "metadata": {},
   "outputs": [],
   "source": [
    "li =[i for i in range(0,150,3)if i%3==0 ]\n",
    "print(li,end=', ')"
   ]
  },
  {
   "cell_type": "code",
   "execution_count": null,
   "metadata": {},
   "outputs": [],
   "source": [
    "# ==========\n",
    "# def queue():\n",
    "a=ascii(\"₹æēr̥ṭñūīōāśḍṅḥl̥ṣṇ\")\n",
    "print(a)\n",
    "print(a.split('\\\\'))\n",
    "print(ascii('ē'))\n",
    "print((a[3]))\n",
    "# print(str('\\\\'+(a)[2]))\n",
    "# b=['\\\\'+i for i in a]\n",
    "# print('\\\\'+chr(b))"
   ]
  },
  {
   "cell_type": "code",
   "execution_count": null,
   "metadata": {},
   "outputs": [],
   "source": [
    "print(ord('a'))\n",
    "print(chr(97))"
   ]
  },
  {
   "cell_type": "code",
   "execution_count": null,
   "metadata": {},
   "outputs": [],
   "source": [
    "class Queue:\n",
    "    max_sizee=0\n",
    "    def __init__(self,max_size):\n",
    "        self.listt=[]\n",
    "        self.max_size=max_size\n",
    "    def isempty(self):\n",
    "        if(len(self.listt)==0):\n",
    "            return True\n",
    "        return False\n",
    "    def isfull(self):\n",
    "        if(len(self.listt)==self.max_size):\n",
    "            return True\n",
    "        return False\n",
    "    def enqueue(self,item):\n",
    "        self.listt.append(item)\n",
    "        return True\n",
    "    def dequeue(self,pos=0):\n",
    "        return self.listt.pop(pos)\n",
    "    def size(self):\n",
    "        return len(self.listt)\n",
    "    def print_whole_queue(self):\n",
    "        for i in self.listt:\n",
    "            if i ==None:\n",
    "                break\n",
    "            else:\n",
    "                print(i,end=', ')\n",
    "            \n",
    "q=Queue(5)\n",
    "q.enqueue(12)\n",
    "q.enqueue(124)\n",
    "q.enqueue(1245)\n",
    "q.enqueue(1232)\n",
    "q.enqueue(112)\n",
    "q.dequeue()\n",
    "print(q.isfull())\n",
    "print(q.isempty())\n",
    "print(q.print_whole_queue())"
   ]
  },
  {
   "cell_type": "code",
   "execution_count": null,
   "metadata": {},
   "outputs": [],
   "source": [
    "print(type((23.324432).__round__(4)))\n",
    "print(type(f\"{23.43232:.2f}\"))\n"
   ]
  },
  {
   "cell_type": "code",
   "execution_count": null,
   "metadata": {},
   "outputs": [],
   "source": [
    "class Stack:\n",
    "    def __init__(self,size) -> None:\n",
    "        self.max_size=size\n",
    "        self.items=[]\n",
    "    def push(self,item):\n",
    "        if (self.max_size<len(self.items)):\n",
    "            return \"Stack is Full!\"\n",
    "        self.items.append(item)\n",
    "    def pop(self):\n",
    "        if self.isempty():\n",
    "            return \"Stack is Empty!\"\n",
    "        self.items.pop(-1)\n",
    "        \n",
    "    def isfull(self):\n",
    "        if(len(self.items)==self.max_size):\n",
    "            return True\n",
    "        return False\n",
    "    def isempty(self):\n",
    "        if(len(self.items)==0):\n",
    "            return True\n",
    "        return False\n",
    "    def print_stack(self): \n",
    "        for i in self.items:\n",
    "            if i is not None:\n",
    "                print(i,end=', ')\n",
    "            elif i == None:\n",
    "                print('')"
   ]
  },
  {
   "cell_type": "code",
   "execution_count": null,
   "metadata": {},
   "outputs": [],
   "source": [
    "s=Stack(4)\n",
    "s.isempty()"
   ]
  },
  {
   "cell_type": "code",
   "execution_count": null,
   "metadata": {},
   "outputs": [],
   "source": [
    "s.isfull()"
   ]
  },
  {
   "cell_type": "code",
   "execution_count": null,
   "metadata": {},
   "outputs": [],
   "source": [
    "s.push(12)\n",
    "s.push(13)\n",
    "s.push(15)\n",
    "s.push(2342)\n",
    "s.print_stack()\n",
    "# s.__sizeof__(s)"
   ]
  },
  {
   "cell_type": "code",
   "execution_count": null,
   "metadata": {},
   "outputs": [],
   "source": [
    "s.isfull()"
   ]
  },
  {
   "cell_type": "code",
   "execution_count": null,
   "metadata": {},
   "outputs": [],
   "source": [
    "s.print_stack()"
   ]
  },
  {
   "cell_type": "code",
   "execution_count": null,
   "metadata": {},
   "outputs": [],
   "source": [
    "s.pop()"
   ]
  },
  {
   "cell_type": "code",
   "execution_count": null,
   "metadata": {},
   "outputs": [],
   "source": [
    "ads='asadasdsa'\n",
    "print(ads.endswith(' '))"
   ]
  },
  {
   "cell_type": "code",
   "execution_count": null,
   "metadata": {},
   "outputs": [],
   "source": [
    "print(ads.endswith(''))"
   ]
  },
  {
   "cell_type": "code",
   "execution_count": null,
   "metadata": {},
   "outputs": [],
   "source": [
    "a=' asdhg jgh jh '\n",
    "print(a.strip())"
   ]
  },
  {
   "cell_type": "code",
   "execution_count": null,
   "metadata": {},
   "outputs": [],
   "source": [
    "print(a.rstrip())\n"
   ]
  },
  {
   "cell_type": "code",
   "execution_count": null,
   "metadata": {},
   "outputs": [],
   "source": [
    "a=[213,43,543,432,123,234,543,6]\n",
    "def linear_search(array,target)->int:\n",
    "    for i in array:\n",
    "        if i==target:\n",
    "            return array.index(i)\n",
    "    return False\n",
    "linear_search(a,6)\n",
    "# a.index(543)"
   ]
  },
  {
   "cell_type": "code",
   "execution_count": null,
   "metadata": {},
   "outputs": [],
   "source": [
    "a = [213, 43, 543, 432, 123, 234, 543, 6]\n",
    "array = sorted(a)\n",
    "print(array)"
   ]
  },
  {
   "cell_type": "code",
   "execution_count": null,
   "metadata": {},
   "outputs": [],
   "source": [
    "def binary_search(array, first, last, target):\n",
    "    mid=(first+last)//2\n",
    "    if(target<array[mid]):\n",
    "        return binary_search(array, first, mid-1,target)\n",
    "    elif(target>array[mid]):\n",
    "        return binary_search(array,mid+1,last, target)\n",
    "    elif first>last:\n",
    "        return -1\n",
    "    else:\n",
    "        return mid"
   ]
  },
  {
   "cell_type": "code",
   "execution_count": null,
   "metadata": {},
   "outputs": [],
   "source": [
    "binary_search(array=array,first=0,last=len(array)-1,target=234)"
   ]
  },
  {
   "cell_type": "code",
   "execution_count": null,
   "metadata": {},
   "outputs": [],
   "source": [
    "s=\"s='\"'bab'\"',\"\n",
    "\n",
    "print(s.replace(\",\",\"\").replace(\"s=\",\"\"))\n",
    "\n"
   ]
  },
  {
   "cell_type": "code",
   "execution_count": null,
   "metadata": {},
   "outputs": [],
   "source": [
    "def selection_sort(array)->list:\n",
    "    for i in range(0,len(array)-1):\n",
    "        MIN_INDEX=i\n",
    "        \n",
    "        for j in range(i+1,len(array)):\n",
    "            if(array[j]<array[MIN_INDEX]):\n",
    "                MIN_INDEX=j\n",
    "        array[MIN_INDEX],array[i]=array[i],array[MIN_INDEX]\n",
    "    return array\n",
    "arr=[23,432543,123,543,432,543,4,52344,76,987,534]\n",
    "print(arr.index(min(arr)))\n",
    "print(selection_sort(array=arr))\n"
   ]
  },
  {
   "cell_type": "code",
   "execution_count": null,
   "metadata": {},
   "outputs": [],
   "source": [
    "def bubble_sort(array)->list:\n",
    "    for i in range(0,len(array)):\n",
    "        for j in range(i,len(array)-1):\n",
    "            if(array[j]>array[j+1]):\n",
    "                array[j+1], array[j] = array[j], array[j+1]\n",
    "            \n",
    "    return array\n",
    "\n",
    "print(bubble_sort(array=arr))\n",
    "    "
   ]
  },
  {
   "cell_type": "code",
   "execution_count": null,
   "metadata": {},
   "outputs": [],
   "source": [
    "class MS:\n",
    "    def merge_sort(self,array)->list:\n",
    "        if len(array)<=1:\n",
    "            return array\n",
    "        mid=len(array)//2\n",
    "        lefthalf=array[:mid]\n",
    "        righthalf=array[mid:]\n",
    "        sortedleft = self.merge_sort(lefthalf)\n",
    "        sortedright = self.merge_sort(righthalf)\n",
    "        mergedsort = self._merge(sortedleft, sortedright)\n",
    "        return mergedsort\n",
    "\n",
    "    def _merge(self,left,right)->list:\n",
    "        LEFTINDEX,RIGHTINDEX=0,0\n",
    "        result=[]\n",
    "        while LEFTINDEX<len(left) and RIGHTINDEX<len(right):\n",
    "            if(left[LEFTINDEX]<=right[RIGHTINDEX]):\n",
    "                result.append(left[LEFTINDEX])\n",
    "                LEFTINDEX+=1\n",
    "            else:\n",
    "                result.append(right[RIGHTINDEX])\n",
    "                RIGHTINDEX += 1\n",
    "        result.extend(left[LEFTINDEX:])\n",
    "        result.extend(right[RIGHTINDEX:])\n",
    "        return result\n",
    "\n",
    "arr = [23, 432543, 123, 543, 432, 543, 4, 52344, 76, 987, 534]\n",
    "ms=MS()\n",
    "print(ms.merge_sort(arr))"
   ]
  },
  {
   "cell_type": "code",
   "execution_count": null,
   "metadata": {},
   "outputs": [],
   "source": [
    "def returnNone()->None:\n",
    "    pass\n",
    "\n",
    "returnNone()"
   ]
  },
  {
   "attachments": {},
   "cell_type": "markdown",
   "metadata": {},
   "source": [
    "Search Insert Position\n",
    "Problem satatement:\n",
    "\n",
    "Given a sorted array of distinct integers and a target value, return the index if the target is found. If not, return the index where it would be if it were inserted in order.\n",
    "\n",
    "Constraints:\n",
    "\n",
    "1 <= nums.length <= 10^4\n",
    "-10^4 <= nums[i] <= 10^4\n",
    "nums contains distinct values sorted in ascending order.\n",
    "-10^4 <= target <= 10^4\n",
    "\n",
    "Example:\n",
    "\n",
    "Input:<br>\n",
    "4 <br>\n",
    "1 3 5 6<br>\n",
    "2<br>\n",
    "Output:<br>\n",
    "1"
   ]
  },
  {
   "cell_type": "code",
   "execution_count": null,
   "metadata": {},
   "outputs": [],
   "source": [
    "ARR=[123,33,545,656,5432,2,54,2,34]\n",
    "NUM=454\n",
    "def search_insert(ARR:list,NUM:int)->int:\n",
    "    ARR.append(NUM)\n",
    "    ARR=sorted(ARR)\n",
    "    print(ARR)\n",
    "    return ARR.index(NUM)\n",
    "    # for i in range(0,len(ARR)):\n",
    "    #     if NUM>ARR[i] and ARR[i+1]>NUM:\n",
    "    #         ARR.insert(i+1,NUM)\n",
    "    #         return i\n",
    "    #     elif NUM in ARR:\n",
    "    #         return ARR.index(NUM)\n",
    "        \n",
    "print(search_insert(ARR,NUM))"
   ]
  },
  {
   "cell_type": "code",
   "execution_count": null,
   "metadata": {},
   "outputs": [],
   "source": [
    "ARR=[1,3,5,6]\n",
    "ARR.insert(0,32420)"
   ]
  },
  {
   "cell_type": "code",
   "execution_count": null,
   "metadata": {},
   "outputs": [],
   "source": [
    "ARR"
   ]
  },
  {
   "attachments": {},
   "cell_type": "markdown",
   "metadata": {},
   "source": [
    "\n",
    "Form Smallest Number From Two Digit Arrays\n",
    "Problem satatement:\n",
    "\n",
    "Given two arrays of unique digits NUMS1 and NUMS2, return the smallest number that contains at least one digit from each array.\n",
    "\n",
    "Constraints:\n",
    "\n",
    "1 <= NUMS1.length, NUMS2.length <= 9\n",
    "1 <= NUMS1[i], NUMS2[i] <= 9\n",
    "All digits in each array are unique.\n",
    "\n",
    "Example:\n",
    "\n",
    "Input:<br>\n",
    "3 2<br>\n",
    "1 4 3<br>\n",
    "5 7<br>\n",
    "<br>\n",
    "Output:<br>\n",
    "15"
   ]
  },
  {
   "cell_type": "code",
   "execution_count": null,
   "metadata": {},
   "outputs": [],
   "source": []
  },
  {
   "cell_type": "code",
   "execution_count": null,
   "metadata": {},
   "outputs": [],
   "source": [
    "asd='012'\n",
    "asd"
   ]
  },
  {
   "cell_type": "code",
   "execution_count": null,
   "metadata": {},
   "outputs": [],
   "source": [
    "n1=[1,2,4,5,6]\n",
    "n2=[6,9,4,2,5,7]\n",
    "ans=str(min(n1))+str(min(n2))\n",
    "int(ans)"
   ]
  },
  {
   "cell_type": "code",
   "execution_count": null,
   "metadata": {},
   "outputs": [],
   "source": [
    "NUMS1_SIZE,NUMS2_SIZE=map(int,input().split())\n",
    "NUMS1=list(map(int,input().split()))\n",
    "NUMS2=list(map(int,input().split()))\n",
    "def create_num(NUMS1,NUMS2):\n",
    "  MIN_NUMS1=min(NUMS1)\n",
    "  MIN_NUMS2=min(NUMS2)\n",
    "  val1=MIN_NUMS1*10+MIN_NUMS2\n",
    "  val2=MIN_NUMS2*10+MIN_NUMS1\n",
    "  if val1>val2:\n",
    "    return val2\n",
    "  return val1\n",
    "print(create_num(NUMS1,NUMS2))"
   ]
  },
  {
   "cell_type": "code",
   "execution_count": null,
   "metadata": {},
   "outputs": [],
   "source": [
    "class Solution(object):\n",
    "    def minNumber(self, NUMS1, NUMS2):\n",
    "        common = set(NUMS1) & set(NUMS2)\n",
    "        if common:\n",
    "            return min(common)\n",
    "        MIN_NUMS1, MIN_NUMS2 = min(NUMS1), min(NUMS2)\n",
    "        if MIN_NUMS1 > MIN_NUMS2:\n",
    "            MIN_NUMS1, MIN_NUMS2 = MIN_NUMS2, MIN_NUMS1\n",
    "        return 10 * MIN_NUMS1 + MIN_NUMS2\n",
    "\n",
    "\n",
    "# Get the input from the user\n",
    "n, m = map(int, input().split())\n",
    "NUMS1 = list(map(int, input().split()))\n",
    "NUMS2 = list(map(int, input().split()))\n",
    "\n",
    "# Create an instance of the Solution class\n",
    "solution = Solution()\n",
    "\n",
    "# Call the minNumber method and print the result\n",
    "result = solution.minNumber(NUMS1, NUMS2)\n",
    "print(result)\n"
   ]
  },
  {
   "cell_type": "code",
   "execution_count": null,
   "metadata": {},
   "outputs": [],
   "source": [
    "NUMS1_SIZE,NUMS2_SIZE=map(int,input().split())\n",
    "NUMS1=list(map(int,input().split()))\n",
    "NUMS2=list(map(int,input().split()))\n",
    "def create_num(NUMS1,NUMS2):\n",
    "  MIN_NUMS1, MIN_NUMS2 = min(NUMS1), min(NUMS2)\n",
    "  common = set(NUMS1) & set(NUMS2)\n",
    "  if common:\n",
    "      return min(common)\n",
    "  if MIN_NUMS1 > MIN_NUMS2:\n",
    "    MIN_NUMS1, MIN_NUMS2 = MIN_NUMS2, MIN_NUMS1\n",
    "  return 10 * MIN_NUMS1 + MIN_NUMS2\n",
    "print(create_num(NUMS1,NUMS2))"
   ]
  },
  {
   "cell_type": "code",
   "execution_count": null,
   "metadata": {},
   "outputs": [],
   "source": [
    "asd='32432fads'\n",
    "print(int(asd))"
   ]
  },
  {
   "cell_type": "code",
   "execution_count": null,
   "metadata": {},
   "outputs": [],
   "source": [
    "def ANproblem(SIZE,list):    \n",
    "    try:\n",
    "        for i in list:\n",
    "            if i is not int and i!=0:\n",
    "                i=int(i)\n",
    "            if(i==0):\n",
    "                \n",
    "    except ValueError :\n",
    "        i=len(str(i))\n",
    "        return i\n",
    "    return max(list)\n",
    "\n",
    "\n",
    "SIZE = int(input())\n",
    "list = input().split()\n",
    "print(ANproblem(SIZE,list))\n",
    "    \n",
    "        "
   ]
  },
  {
   "attachments": {},
   "cell_type": "markdown",
   "metadata": {},
   "source": [
    "Problem satatement:<br>\n",
    "<br>\n",
    "The value of an alphanumeric string can be defined as:<br>\n",
    "<br>\n",
    "The numeric representation of the string in base 10, if it comprises of digits only.<br>\n",
    "The length of the string, otherwise.<br>\n",
    "Given an array strs of alphanumeric strings, return the maximum value of any string in strs.<br>\n",
    "<br>\n",
    "Constraints:<br>\n",
    "<br>\n",
    "1 <= strs.length <= 100<br>\n",
    "1 <= strs[i].length <= 9<br>\n",
    "strs[i] consists of only lowercase English letters and digits.<br>\n",
    "<br>\n",
    "Example:<br>\n",
    "<br>\n",
    "Input:<br>\n",
    "5<br>\n",
    "abcef 4 3 ab a<br>\n",
    "<br>\n",
    "Output:<br>\n",
    "5<br>\n",
    "\n"
   ]
  },
  {
   "cell_type": "code",
   "execution_count": null,
   "metadata": {},
   "outputs": [],
   "source": [
    "def max_value(strs):\n",
    "    max_val = 0\n",
    "\n",
    "    for s in strs:\n",
    "        val = 0\n",
    "        is_num = True\n",
    "        for c in s:\n",
    "            if c.isdigit():\n",
    "                val = val * 10 + int(c)\n",
    "            else:\n",
    "                is_num = False\n",
    "                break\n",
    "        if not is_num:\n",
    "            val = len(s)\n",
    "        max_val = max(max_val, val)\n",
    "\n",
    "    return max_val\n",
    "\n",
    "\n",
    "n = int(input())\n",
    "strs = list(input().split())\n",
    "result = max_value(strs)\n",
    "print(result)\n"
   ]
  },
  {
   "attachments": {},
   "cell_type": "markdown",
   "metadata": {},
   "source": []
  },
  {
   "attachments": {},
   "cell_type": "markdown",
   "metadata": {},
   "source": [
    "Problem satatement:\n",
    "\n",
    "Given a sorted array of distinct integers and a target value, return the index if the target is found. If not, return the index where it would be if it were inserted in order.\n",
    "\n",
    "Constraints:<br>\n",
    "<br>\n",
    "1 <= nums.length <= 10^4<br>\n",
    "-10^4 <= nums[i] <= 10^4<br>\n",
    "nums contains distinct values sorted in ascending order.<br>\n",
    "-10^4 <= target <= 10^4<br>\n",
    "<br>\n",
    "Example:<br>\n",
    "<br>\n",
    "Input:<br>\n",
    "4<br>\n",
    "1 3 5 6<br>\n",
    "2<br>\n",
    "Output:<br>\n",
    "1<br>\n",
    "\n"
   ]
  },
  {
   "cell_type": "code",
   "execution_count": null,
   "metadata": {},
   "outputs": [],
   "source": [
    "def search_insert(ARR: list, NUM: int) -> int:\n",
    "    ARR.append(NUM)\n",
    "    ARR = sorted(ARR)\n",
    "    return ARR.index(NUM)\n",
    "\n",
    "\n",
    "NUM_LENGTH = int(input())\n",
    "ARR = list(map(int, input().split()))\n",
    "NUM = int(input())\n",
    "print(search_insert(ARR, NUM))\n"
   ]
  },
  {
   "cell_type": "code",
   "execution_count": null,
   "metadata": {},
   "outputs": [],
   "source": [
    "help(map\n",
    "     )"
   ]
  },
  {
   "cell_type": "code",
   "execution_count": null,
   "metadata": {},
   "outputs": [],
   "source": [
    "ar1=[23,4,12,4,65,32,54,76,23]\n",
    "def bs54(array,target,first,last):\n",
    "    mid=(first+last)//2\n",
    "    if(first>last):\n",
    "        return None\n",
    "    if(target<array[mid]):\n",
    "        return bs54(array=array,target=target,first=first,last=mid-1)\n",
    "    elif(target>array[mid]):\n",
    "        return bs54(array=array,target=target,first=mid+1,last=last)\n",
    "    else:\n",
    "        return mid\n",
    "    \n",
    "ar1=sorted(ar1)\n",
    "print(bs54(ar1,target=65,first=0,last=(len(ar1)-1)))"
   ]
  },
  {
   "cell_type": "code",
   "execution_count": null,
   "metadata": {},
   "outputs": [],
   "source": [
    "print(ar_s[:(len(ar_s)//2)])"
   ]
  },
  {
   "cell_type": "code",
   "execution_count": null,
   "metadata": {},
   "outputs": [],
   "source": [
    "print(ar_s[(len(ar_s)//2):])"
   ]
  },
  {
   "cell_type": "code",
   "execution_count": null,
   "metadata": {},
   "outputs": [],
   "source": [
    "print(help(setattr),\n",
    "help(getattr))\n"
   ]
  },
  {
   "cell_type": "code",
   "execution_count": null,
   "metadata": {},
   "outputs": [],
   "source": [
    "NUM = int(input())\n",
    "x = map(int, input().split())\n",
    "TARGET = int(input())\n",
    "x = sorted(x)\n",
    "POS = []\n",
    "for i in range(0, len(x)):\n",
    "  if x[i] == TARGET:\n",
    "    POS.append(i)\n",
    "if POS is None:\n",
    "  print([-1, -1])\n",
    "else:\n",
    "  print(POS[0], POS[-1])\n"
   ]
  },
  {
   "cell_type": "code",
   "execution_count": null,
   "metadata": {},
   "outputs": [],
   "source": [
    "asd=[-12,53,-52,0,-0.4,-1,0,4-1230,-0,464,-546,234,6343]\n",
    "print(sorted(asd))"
   ]
  },
  {
   "cell_type": "code",
   "execution_count": null,
   "metadata": {},
   "outputs": [],
   "source": [
    "def iso(a: str, b:str):\n",
    "  same_len = False\n",
    "  if len(a) == len(b):\n",
    "    same_len = True\n",
    "  mapp = {}\n",
    "  for i in a:\n",
    "    mapp.keys = i\n",
    "  for j in b:\n",
    "    mapp.values[i] = j\n",
    "    print(mapp)\n",
    "    print(same_len)\n",
    "iso(\"egg\",\"bee\")\n",
    "\n"
   ]
  },
  {
   "cell_type": "code",
   "execution_count": null,
   "metadata": {},
   "outputs": [],
   "source": [
    "mappp={\n",
    "    'a':'123',\n",
    "    'b':'234',\n",
    "    'c':'345'\n",
    "    \n",
    "}\n",
    "print(mappp)\n",
    "list(mappp.keys())\n",
    "print(mappp)\n",
    "print(list(mappp.keys()))"
   ]
  },
  {
   "cell_type": "code",
   "execution_count": null,
   "metadata": {},
   "outputs": [],
   "source": [
    "keee=['a', 'b', 'c']\n",
    "asd={}\n",
    "asd.keys=keee"
   ]
  },
  {
   "cell_type": "code",
   "execution_count": null,
   "metadata": {},
   "outputs": [],
   "source": [
    "v=list('aeiou')\n",
    "v"
   ]
  },
  {
   "cell_type": "code",
   "execution_count": null,
   "metadata": {},
   "outputs": [],
   "source": [
    "class A:\n",
    "    def printsae(self):\n",
    "        print(\"classA1\")\n",
    "    def printaa(self):\n",
    "        print(\"classA2\")\n",
    "\n",
    "class B:\n",
    "    def printsa(self):\n",
    "        print(\"classB1\")\n",
    "    def printa(self):\n",
    "        print(\"classB2\")\n",
    "class C(B,A):\n",
    "    pass\n",
    "\n",
    "obj=C()\n",
    "obj.printsa()\n",
    "obj.printsae()\n",
    "obj.printaa()\n",
    "obj.printa()\n"
   ]
  },
  {
   "cell_type": "code",
   "execution_count": null,
   "metadata": {},
   "outputs": [],
   "source": [
    "class A:\n",
    "    pass\n",
    "class B:\n",
    "    pass\n",
    "class C:\n",
    "    pass\n",
    "class D:\n",
    "    pass\n",
    "class E(A,D,B):\n",
    "    pass\n",
    "class F(C,D):\n",
    "    pass\n",
    "class G(E,F):\n",
    "    pass\n",
    "\n",
    "\n",
    "print(list(G.mro().split('.')))\n"
   ]
  },
  {
   "cell_type": "code",
   "execution_count": null,
   "metadata": {},
   "outputs": [],
   "source": [
    "y=lambda x:x**2\n",
    "print(y(2))"
   ]
  },
  {
   "cell_type": "code",
   "execution_count": null,
   "metadata": {},
   "outputs": [],
   "source": [
    "asd=[(i lambda i: i**2) for i in range(10)]\n",
    "asd"
   ]
  },
  {
   "cell_type": "code",
   "execution_count": null,
   "metadata": {},
   "outputs": [],
   "source": [
    "test=[2,45,1]\n",
    "a=test.pop()\n",
    "a"
   ]
  },
  {
   "cell_type": "code",
   "execution_count": null,
   "metadata": {},
   "outputs": [],
   "source": [
    "size = int(input())\n",
    "vals = ['1','4','*','2','/']\n",
    "for i in vals:\n",
    "    try:\n",
    "        i=int(i)\n",
    "    except ValueError as e:\n",
    "        pass\n",
    "    else:\n",
    "        print(i)"
   ]
  },
  {
   "attachments": {},
   "cell_type": "markdown",
   "metadata": {},
   "source": [
    "Evaluate Reverse Polish Notation\n",
    "Problem Statement:\n",
    "\n",
    "You are given an array of strings tokens that represents an arithmetic expression in a Reverse Polish Notation.\n",
    "\n",
    "Evaluate the expression. Return an integer that represents the value of the expression.\n",
    "\n",
    "Note that:\n",
    "\n",
    "The valid operators are '+', '-', '*', and '/'.\n",
    "Each operand may be an integer or another expression.\n",
    "The division between two integers always truncates toward zero.\n",
    "There will not be any division by zero.\n",
    "The input represents a valid arithmetic expression in a reverse polish notation.\n",
    "The answer and all the intermediate calculations can be represented in a 32-bit integer.\n",
    "\n",
    "Constraints:\n",
    "1 <= tokens.length <= 10^4\n",
    "tokens[i] is either an operator: \"+\", \"-\", \"*\", or \"/\", or an integer in the range [-200, 200]\n",
    "<br>\n",
    "Example:<br>\n",
    "<br>\n",
    "Input:<br>\n",
    "5<br>\n",
    "2 1 + 3 *<br>\n",
    "<br>\n",
    "Output:<br>\n",
    "9<br>\n",
    "\n"
   ]
  },
  {
   "cell_type": "code",
   "execution_count": null,
   "metadata": {},
   "outputs": [],
   "source": [
    "def evalRPN(tokens):\n",
    "    stack = []\n",
    "\n",
    "    for token in tokens:\n",
    "        if isOperator(token):\n",
    "            operand2 = stack.pop()\n",
    "            operand1 = stack.pop()\n",
    "            result = performOperation(token, operand1, operand2)\n",
    "            stack.append(result)\n",
    "        else:\n",
    "            operand = int(token)\n",
    "            stack.append(operand)\n",
    "\n",
    "    return stack.pop()\n",
    "\n",
    "\n",
    "def isOperator(token):\n",
    "    return token == \"+\" or token == \"-\" or token == \"*\" or token == \"/\"\n",
    "\n",
    "\n",
    "def performOperation(operator, operand1, operand2):\n",
    "    if operator == \"+\":\n",
    "        return operand1 + operand2\n",
    "    elif operator == \"-\":\n",
    "        return operand1 - operand2\n",
    "    elif operator == \"*\":\n",
    "        return operand1 * operand2\n",
    "    elif operator == \"/\":\n",
    "        return int(operand1 / operand2)\n",
    "    else:\n",
    "        raise ValueError(\"Invalid operator: \" + operator)\n",
    "\n",
    "\n",
    "# Read the number of tokens\n",
    "n = int(input())\n",
    "\n",
    "# Read the tokens\n",
    "tokens = input().split()\n",
    "\n",
    "# Call the evalRPN function and print the result\n",
    "result = evalRPN(tokens)\n",
    "print(result)\n",
    "\n",
    "\n",
    "\n",
    "# modified own:\n",
    "def rev_pol_notation(vals: list) -> int:\n",
    "    stack = []\n",
    "\n",
    "    for val in vals:\n",
    "        if val.isdigit():  # Check if the value is a digit\n",
    "            stack.append(int(val))\n",
    "        else:\n",
    "            b = stack.pop()\n",
    "            a = stack.pop()\n",
    "            if val == '*':\n",
    "                result = a * b\n",
    "            elif val == '-':\n",
    "                result = a - b\n",
    "            elif val == '/':\n",
    "                result = a / b\n",
    "            elif val == '+':\n",
    "                result = a + b\n",
    "            stack.append(result)\n",
    "\n",
    "    return stack.pop()\n",
    "\n",
    "\n",
    "# Example usage\n",
    "size = int(input())\n",
    "vals = input().split()\n",
    "\n",
    "print(rev_pol_notation(vals))\n"
   ]
  },
  {
   "attachments": {},
   "cell_type": "markdown",
   "metadata": {},
   "source": [
    "Find the Prefix Common Array of Two Arrays\n",
    "Problem Statement:\n",
    "\n",
    "You are given two 0-indexed integer permutations A and B of length n.\n",
    "\n",
    "A prefix common array of A and B is an array C such that C[i] is equal to the count of numbers that are present at or before the index i in both A and B.\n",
    "\n",
    "Return the prefix common array of A and B.\n",
    "\n",
    "A sequence of n integers is called a permutation if it contains all integers from 1 to n exactly once.\n",
    "\n",
    "Constraints:\n",
    "1 <= A.length == B.length == n <= 50\n",
    "1 <= A[i], B[i] <= n\n",
    "It is guaranteed that A and B are both a permutation of n integers.\n",
    "<br>\n",
    "Example:<br>\n",
    "<br>\n",
    "Input:<br>\n",
    "4<br>\n",
    "1 3 2 4<br>\n",
    "3 1 2 4<br>\n",
    "<br>\n",
    "Output:<br>\n",
    "0 2 3 4<br>"
   ]
  },
  {
   "cell_type": "code",
   "execution_count": null,
   "metadata": {},
   "outputs": [],
   "source": []
  },
  {
   "attachments": {},
   "cell_type": "markdown",
   "metadata": {},
   "source": [
    "Find The Original Array of Prefix Xor\n",
    "Problem Statement:\n",
    "\n",
    "You are given an integer array pref of size n. Find and return the array arr of size n that satisfies:\n",
    "\n",
    "pref[i] = arr[0] ^ arr[1] ^ ... ^ arr[i].\n",
    "Note that ^ denotes the bitwise-xor operation.\n",
    "\n",
    "It can be proven that the answer is unique.\n",
    "\n",
    "Constraints:<br>\n",
    "<br>\n",
    "1 <= pref.length <= 10^5<br>\n",
    "0 <= pref[i] <= 10^6<br>\n",
    "<br>\n",
    "Example:<br>\n",
    "<br>\n",
    "Input:<br>\n",
    "5<br>\n",
    "5 2 0 3 1<br>\n",
    "<br>\n",
    "Output:<br>\n",
    "5 7 2 3 2<br>\n",
    "\n"
   ]
  },
  {
   "cell_type": "code",
   "execution_count": null,
   "metadata": {},
   "outputs": [],
   "source": [
    "# \n"
   ]
  },
  {
   "attachments": {},
   "cell_type": "markdown",
   "metadata": {},
   "source": [
    "num in millions\n",
    "give a space after after 3 from right to left\n",
    "but it should be an int coc problem"
   ]
  },
  {
   "cell_type": "code",
   "execution_count": null,
   "metadata": {},
   "outputs": [],
   "source": [
    "i=str(3241212) \n",
    "i"
   ]
  },
  {
   "cell_type": "code",
   "execution_count": null,
   "metadata": {},
   "outputs": [],
   "source": [
    "u=print(' '.join(i))\n",
    "u"
   ]
  },
  {
   "cell_type": "code",
   "execution_count": null,
   "metadata": {},
   "outputs": [],
   "source": [
    "ct = {\"India\": 91, \"UK\": 44, \"USA\": 1}\n",
    "print(ct)\n",
    "ct[\"asd\"]='32434dsa'\n",
    "print(ct)\n"
   ]
  },
  {
   "cell_type": "code",
   "execution_count": null,
   "metadata": {},
   "outputs": [],
   "source": [
    "def to_string(NUM):\n",
    "    NUM_STR=str(NUM)\n",
    "    NUM_LIST=list(NUM_STR)\n",
    "    \n",
    "    for i in range(len(NUM_LIST),0,3):\n",
    "        NUM_LIST.insert(i,' ')\n",
    "    \n",
    "    return NUM_LIST\n",
    "            \n",
    "test_cases = [\n",
    "    10000000,\n",
    "    190000,\n",
    "    120000000,\n",
    "    8000000000\n",
    "]\n",
    "for i in test_cases:\n",
    "    print(to_string(i), end='\\n')\n"
   ]
  },
  {
   "cell_type": "code",
   "execution_count": null,
   "metadata": {},
   "outputs": [],
   "source": [
    "asd=list('24fadsda')\n",
    "asd[4]= ' '\n",
    "asdd=''\n",
    "for i in asd:\n",
    "    asdd+=i\n",
    "asdd"
   ]
  },
  {
   "cell_type": "code",
   "execution_count": null,
   "metadata": {},
   "outputs": [],
   "source": [
    "l=[2,2,3]"
   ]
  },
  {
   "attachments": {},
   "cell_type": "markdown",
   "metadata": {},
   "source": [
    "Find the Duplicate Number\n",
    "Problem satatement:\n",
    "\n",
    "Given an array of integers nums containing n + 1 integers where each integer is in the range [1, n] inclusive.\n",
    "\n",
    "There is only one repeated number in nums, return this repeated number.\n",
    "\n",
    "You must solve the problem without modifying the array nums and use only constant extra space.\n",
    "\n",
    "Constraints:\n",
    "\n",
    "1 <= n <= 10^5\n",
    "nums.length == n + 1\n",
    "1 <= nums[i] <= n\n",
    "All the integers in nums appear only once except for precisely one integer which appears two or more times.\n",
    "\n",
    "Example:\n",
    "\n",
    "Input:\n",
    "5\n",
    "1 4 3 2 2\n",
    "\n",
    "Output:\n",
    "2\n",
    "\n"
   ]
  },
  {
   "cell_type": "code",
   "execution_count": null,
   "metadata": {},
   "outputs": [],
   "source": [
    "def dupes(ar: list) -> int:\n",
    "  ar = sorted(ar)\n",
    "  for i in range(0, len(ar)-1):\n",
    "      if i != len(ar) and ar[i] == ar[i+1]:\n",
    "          return ar[i]\n",
    "\n",
    "\n",
    "num = int(input())\n",
    "ar = list(map(int, input().split()))\n",
    "print(dupes(ar))\n"
   ]
  },
  {
   "cell_type": "code",
   "execution_count": null,
   "metadata": {},
   "outputs": [],
   "source": [
    "a=str('(())')\n",
    "stack=[]\n",
    "pars={   \n",
    "    '(':')',\n",
    "    '{':'}',\n",
    "    '[':']'\n",
    "}\n",
    "for key,value in pars.items():\n",
    "    if key in pars.keys():\n",
    "        stack.append(a[key])\n",
    "    elif key == value:\n",
    "        stack.pop(key)\n",
    "        \n",
    "print(stack)\n"
   ]
  },
  {
   "cell_type": "code",
   "execution_count": null,
   "metadata": {},
   "outputs": [],
   "source": [
    "a = \"{}()({[]})\"\n",
    "stack = []\n",
    "pars = {\n",
    "    '(': ')',\n",
    "    '{': '}',\n",
    "    '[': ']'\n",
    "}\n",
    "\n",
    "for char in a:\n",
    "    if char in pars.keys():\n",
    "        stack.append(char)\n",
    "    elif char in pars.values():\n",
    "        if pars[stack.pop()] != char:\n",
    "            print(\"Parentheses are not balanced.\")\n",
    "            break\n",
    "else:\n",
    "    if not stack:\n",
    "        print(\"Parentheses are balanced.\")\n",
    "    else:\n",
    "        print(\"Parentheses are not balanced.\")\n"
   ]
  },
  {
   "cell_type": "code",
   "execution_count": null,
   "metadata": {},
   "outputs": [],
   "source": [
    "a = str('(())')\n",
    "pars = {\n",
    "    '(': ')',\n",
    "    '{': '}',\n",
    "    '[': ']'\n",
    "}"
   ]
  },
  {
   "cell_type": "code",
   "execution_count": null,
   "metadata": {},
   "outputs": [],
   "source": [
    "a = str('(())')\n",
    "pars = {\n",
    "    '(': ')',\n",
    "    '{': '}',\n",
    "    '[': ']'\n",
    "}\n",
    "\n",
    "if ']' in pars.values():\n",
    "    print (True)\n"
   ]
  },
  {
   "cell_type": "code",
   "execution_count": null,
   "metadata": {},
   "outputs": [],
   "source": []
  },
  {
   "attachments": {},
   "cell_type": "markdown",
   "metadata": {},
   "source": [
    "Valid Parentheses\n",
    "Problem satatement:\n",
    "\n",
    "Given a string s containing just the characters '(', ')', '{', '}', '[' and ']', determine if the input string is valid.\n",
    "\n",
    "An input string is valid if:\n",
    "\n",
    "Open brackets must be closed by the same type of brackets.\n",
    "Open brackets must be closed in the correct order.\n",
    "Every close bracket has a corresponding open bracket of the same type.\n",
    "\n",
    "Constraints:\n",
    "\n",
    "1 <= s.length <= 10^4\n",
    "s consists of parentheses only '()[]{}'.\n",
    "\n",
    "Example:\n",
    "\n",
    "Input:\n",
    "(())\n",
    "\n",
    "Output:\n",
    "true (in lowercase only)\n",
    "\n"
   ]
  },
  {
   "cell_type": "code",
   "execution_count": null,
   "metadata": {},
   "outputs": [],
   "source": [
    "def VP(a: str):\n",
    "  stack = []\n",
    "  pars = {\n",
    "      '[': ']',\n",
    "      '{': '}',\n",
    "      '(': ')'\n",
    "  }\n",
    "\n",
    "  for i in a:\n",
    "    if i in pars.keys():\n",
    "      stack.append(i)\n",
    "    elif i in pars.values():\n",
    "      if i != pars[stack.pop()]:\n",
    "        break\n",
    "  else:\n",
    "    if not stack:\n",
    "      return 'true'\n",
    "    else:\n",
    "      return 'false'\n",
    "\n",
    "\n",
    "print(VP(input().strip()))\n"
   ]
  },
  {
   "attachments": {},
   "cell_type": "markdown",
   "metadata": {},
   "source": [
    "Minimum Rounds to Complete All Tasks\n",
    "Problem satatement:\n",
    "\n",
    "You are given a 0-indexed integer array tasks, where tasks[i] represents the difficulty level of a task. In each round, you can complete either 2 or 3 tasks of the same difficulty level.\n",
    "\n",
    "Return the minimum rounds required to complete all the tasks, or -1 if it is not possible to complete all the tasks.\n",
    "\n",
    "Constraints:\n",
    "\n",
    "1 <= tasks.length <= 10^5\n",
    "1 <= tasks[i] <= 10^9\n",
    "\n",
    "Example:\n",
    "\n",
    "Input:\n",
    "10\n",
    "2 2 3 3 2 4 4 4 4 4\n",
    "\n",
    "Output:\n",
    "4\n",
    "\n"
   ]
  },
  {
   "cell_type": "code",
   "execution_count": null,
   "metadata": {},
   "outputs": [],
   "source": [
    "a='{([])}'\n",
    "stack=[]\n",
    "pars={\n",
    "    '[':']',\n",
    "    '{':'}',\n",
    "    '(':')'\n",
    "}\n",
    "def isss(a):\n",
    "    for i in range(0,len(a)):\n",
    "        if i in pars.keys():\n",
    "            stack.append(a[i])\n",
    "        elif a[i] == pars[stack.pop()]:\n",
    "            pass\n",
    "        "
   ]
  },
  {
   "cell_type": "code",
   "execution_count": null,
   "metadata": {},
   "outputs": [],
   "source": [
    "a=[\n",
    "    [1,2,3],\n",
    "    [5,6,7],\n",
    "    [9,10,12]]\n",
    "aa=0\n",
    "for i in a:\n",
    "    aa=aa+len(i)\n",
    "aa"
   ]
  },
  {
   "cell_type": "code",
   "execution_count": null,
   "metadata": {},
   "outputs": [],
   "source": [
    "n=3\n",
    "for i in range(0,(n//2+1)):\n",
    "    for j in range(i,(n-i-1)+1):\n",
    "        print(a[i][j])\n",
    "    print()\n",
    "    for j in range(i+1,n-i-2):\n",
    "        print(a[j][n-i])\n",
    "    print()\n",
    "    for j in range(i+1,n-i-1,-1):\n",
    "        print(a[j][j+1])\n",
    "    print()\n",
    "    for j in range(i+1,n-i-2,-1):\n",
    "        print(a[j][n-i-1])"
   ]
  },
  {
   "cell_type": "code",
   "execution_count": null,
   "metadata": {},
   "outputs": [],
   "source": [
    "i=j=0,0\n",
    "n=4\n",
    "roundd=(n//2)+1\n",
    "while i < roundd:\n",
    "    for i in range(0,roundd):\n",
    "        print(a[i][j])"
   ]
  },
  {
   "cell_type": "code",
   "execution_count": null,
   "metadata": {},
   "outputs": [],
   "source": [
    "a=123\n",
    "a=str(a)\n",
    "# a.split()\n",
    "for i in a:\n",
    "    print(i)"
   ]
  },
  {
   "cell_type": "code",
   "execution_count": null,
   "metadata": {},
   "outputs": [],
   "source": [
    "b=''\n",
    "for i in str(a):\n",
    "    print(i)\n",
    "    b+=i\n",
    "b"
   ]
  },
  {
   "cell_type": "code",
   "execution_count": null,
   "metadata": {},
   "outputs": [],
   "source": [
    "l=[]\n",
    "for i in range(3):\n",
    "    for j in range(3):\n",
    "        l[j]='a'\n",
    "    print(l)\n",
    "    "
   ]
  },
  {
   "cell_type": "code",
   "execution_count": null,
   "metadata": {},
   "outputs": [],
   "source": [
    "a=3\n",
    "b='p'*a\n",
    "b"
   ]
  },
  {
   "cell_type": "code",
   "execution_count": null,
   "metadata": {},
   "outputs": [],
   "source": [
    "a={\n",
    "    'b1':1,\n",
    "    'b2':2,\n",
    "    'b3':3,\n",
    "    'b5':4\n",
    "}"
   ]
  },
  {
   "cell_type": "code",
   "execution_count": null,
   "metadata": {},
   "outputs": [],
   "source": [
    "print(a.values())"
   ]
  },
  {
   "cell_type": "code",
   "execution_count": null,
   "metadata": {},
   "outputs": [],
   "source": [
    "for i in range(2,0,-1):\n",
    "    print(i)"
   ]
  },
  {
   "cell_type": "code",
   "execution_count": null,
   "metadata": {},
   "outputs": [],
   "source": [
    "import math\n",
    "math.ceil(3/5)\n",
    "math.ceil(9/3)"
   ]
  },
  {
   "cell_type": "code",
   "execution_count": null,
   "metadata": {},
   "outputs": [],
   "source": [
    "a=[-1,1,2,2,-1,3,4]\n",
    "b=[]\n",
    "for i in a:\n",
    "    b.append(a.count(i))\n",
    "    print(a.count(i))\n",
    "b\n"
   ]
  },
  {
   "cell_type": "code",
   "execution_count": null,
   "metadata": {},
   "outputs": [],
   "source": [
    "counts={\n",
    "    2:3,\n",
    "    4:5,\n",
    "    1:123\n",
    "}\n",
    "for i in counts.keys():\n",
    "    if counts[i]==123:\n",
    "        print(i)"
   ]
  },
  {
   "cell_type": "code",
   "execution_count": null,
   "metadata": {},
   "outputs": [],
   "source": [
    "counts[5]=23"
   ]
  },
  {
   "cell_type": "code",
   "execution_count": null,
   "metadata": {},
   "outputs": [],
   "source": [
    "counts.pop(1,123)"
   ]
  },
  {
   "cell_type": "code",
   "execution_count": null,
   "metadata": {},
   "outputs": [],
   "source": [
    "counts"
   ]
  },
  {
   "cell_type": "code",
   "execution_count": null,
   "metadata": {},
   "outputs": [],
   "source": [
    "contacts=[]\n",
    "COUNT=0\n",
    "inputs=['add josey','add jose','find jos','find joy']\n",
    "a,b=map(str,input().split())\n",
    "if a=='add':\n",
    "    contacts.append(b)\n",
    "if a=='find':\n",
    "    for i in contacts:\n",
    "        if b in contacts[i]:\n",
    "            count+=1\n",
    "\n",
    "print(COUNT)\n"
   ]
  },
  {
   "cell_type": "code",
   "execution_count": null,
   "metadata": {},
   "outputs": [],
   "source": [
    "import math\n",
    "math.factorial(5)/(math.factorial(3)*math.factorial(2))"
   ]
  },
  {
   "cell_type": "code",
   "execution_count": null,
   "metadata": {},
   "outputs": [],
   "source": [
    "def prime_factors(num):\n",
    "    factors = []\n",
    "    divisor = 2\n",
    "    while divisor <= num:\n",
    "        if num % divisor == 0:\n",
    "            factors.append(divisor)\n",
    "            num = num / divisor\n",
    "        else:\n",
    "            divisor += 1\n",
    "    return factors\n"
   ]
  },
  {
   "cell_type": "code",
   "execution_count": null,
   "metadata": {},
   "outputs": [],
   "source": [
    "prime_factors(1729)"
   ]
  },
  {
   "cell_type": "code",
   "execution_count": null,
   "metadata": {},
   "outputs": [],
   "source": [
    "nu1=[12,43,54,12,54,]\n",
    "nu2=[2353,46,23,54,231,24]\n"
   ]
  },
  {
   "cell_type": "code",
   "execution_count": null,
   "metadata": {},
   "outputs": [],
   "source": [
    "nu1+=nu2"
   ]
  },
  {
   "cell_type": "code",
   "execution_count": null,
   "metadata": {},
   "outputs": [],
   "source": [
    "nu1"
   ]
  },
  {
   "cell_type": "code",
   "execution_count": null,
   "metadata": {},
   "outputs": [],
   "source": [
    "nu1.sort()"
   ]
  },
  {
   "cell_type": "code",
   "execution_count": null,
   "metadata": {},
   "outputs": [],
   "source": [
    "for i in nu2:\n",
    "    nu1.remove(i)\n",
    "# nu1.remove([i for i in nu2])\n",
    "nu1"
   ]
  },
  {
   "cell_type": "code",
   "execution_count": null,
   "metadata": {},
   "outputs": [],
   "source": [
    "import random\n",
    "\n",
    "print(int(random.random()*3))\n",
    "print(random.ran)"
   ]
  },
  {
   "cell_type": "code",
   "execution_count": null,
   "metadata": {},
   "outputs": [],
   "source": [
    "asd=[]"
   ]
  },
  {
   "cell_type": "code",
   "execution_count": null,
   "metadata": {},
   "outputs": [],
   "source": [
    "for i in [12,31,23,24,2,3,242]:\n",
    "    asd.append(i)"
   ]
  },
  {
   "cell_type": "code",
   "execution_count": null,
   "metadata": {},
   "outputs": [],
   "source": [
    "asd"
   ]
  },
  {
   "cell_type": "code",
   "execution_count": null,
   "metadata": {},
   "outputs": [],
   "source": [
    "remove_val=23\n",
    "for i in range(len(asd)-1):\n",
    "    asd[i-1]=asd[i]"
   ]
  },
  {
   "cell_type": "code",
   "execution_count": null,
   "metadata": {},
   "outputs": [],
   "source": [
    "asd"
   ]
  },
  {
   "cell_type": "code",
   "execution_count": null,
   "metadata": {},
   "outputs": [],
   "source": [
    "# start\n",
    "# visited\n",
    "# queue\n",
    "# not in visited\n",
    "# neighbours\n",
    "\n",
    "\n",
    "from collections import deque\n",
    "def bfs(graph,start):\n",
    "    visited=set()\n",
    "    queue=deque([start])\n",
    "    while queue:\n",
    "        node=queue.popleft()\n",
    "        visited.add(node)\n",
    "        print(\"Visiting node:\", node)    # Print the current visited node\n",
    "        # print(f\"current node:{nde}\",end=', ')\n",
    "        \n",
    "        neighbours=graph[node]\n",
    "        \n",
    "        for i in neighbours:\n",
    "            if i not in visited:\n",
    "                queue.append(i)\n",
    "    \n",
    "# Example graph represented as an adjacency list\n",
    "graph = {\n",
    "    'A': ['B', 'C'],\n",
    "    'B': ['A', 'D', 'E'],\n",
    "    'C': ['A', 'F'],\n",
    "    'D': ['B'],\n",
    "    'E': ['B', 'F'],\n",
    "    'F': ['C', 'E']\n",
    "}\n",
    "\n",
    "start_node = 'A'\n",
    "bfs(graph, start_node)"
   ]
  },
  {
   "cell_type": "code",
   "execution_count": null,
   "metadata": {},
   "outputs": [],
   "source": [
    "from collections import deque\n",
    "\n",
    "def bfs(graph, start):\n",
    "    visited = set()                     # Set to track visited nodes\n",
    "    queue = deque([start])               # Initialize a queue with the starting node\n",
    "\n",
    "    while queue:\n",
    "        node = queue.popleft()          # Remove and return the leftmost node in the queue\n",
    "        if node not in visited:\n",
    "            visited.add(node)               # Mark the current node as visited\n",
    "            print(\"Visiting node:\", node)    # Print the current visited node\n",
    "\n",
    "            neighbors = graph[node]          # Get the neighbors of the current node\n",
    "\n",
    "            for i in neighbors:\n",
    "                if i not in visited:  # Check if the neighbor has not been visited\n",
    "                    queue.append(i)   # Add the neighbor to the queue for further exploration\n",
    "\n",
    "# Example graph represented as an adjacency list\n",
    "graph = {\n",
    "    'A': ['B', 'C'],\n",
    "    'B': ['A', 'D', 'E'],\n",
    "    'C': ['A', 'F'],\n",
    "    'D': ['B'],\n",
    "    'E': ['B', 'F'],\n",
    "    'F': ['C', 'E']\n",
    "}\n",
    "\n",
    "start_node = 'A'\n",
    "bfs(graph, start_node)\n"
   ]
  },
  {
   "cell_type": "code",
   "execution_count": null,
   "metadata": {},
   "outputs": [],
   "source": [
    "import itertools\n",
    "def generate_combinations(elements, r):\n",
    "    combinations = list(itertools.permutations(elements, r))\n",
    "    return combinations.extend()\n",
    "# Example usage\n",
    "elements = [1, 2, 3]\n",
    "r = 3\n",
    "combinations = generate_combinations(elements, r)"
   ]
  },
  {
   "cell_type": "code",
   "execution_count": null,
   "metadata": {},
   "outputs": [],
   "source": [
    "def generate_combinations(elements, r):\n",
    "    combinations = []\n",
    "    generate_combinations_helper(elements, r, 0, [], combinations)\n",
    "    return combinations\n",
    "\n",
    "def generate_combinations_helper(elements, r, start, current_combination, combinations):\n",
    "    if r == 0:\n",
    "        combinations.append(current_combination)\n",
    "        return\n",
    "    for i in range(start, len(elements)):\n",
    "        generate_combinations_helper(elements, r - 1, i + 1, current_combination + [elements[i]], combinations)\n",
    "\n",
    "# Example usage\n",
    "elements = [1, 2, 3]\n",
    "r = 3\n",
    "combinations = generate_combinations(elements, r)\n",
    "print(combinations)"
   ]
  },
  {
   "cell_type": "code",
   "execution_count": null,
   "metadata": {},
   "outputs": [],
   "source": [
    "import itertools\n",
    "class Solution:\n",
    "    def nextPermutation(self, nums: list[int]) -> None:\n",
    "        permutations=list(itertools.permutations(nums,len(nums)))\n",
    "        return permutations.extend()"
   ]
  },
  {
   "cell_type": "code",
   "execution_count": null,
   "metadata": {},
   "outputs": [],
   "source": [
    "p=Solution()\n",
    "print(p.nextPermutation(nums=[1, 2, 3]))"
   ]
  },
  {
   "cell_type": "code",
   "execution_count": null,
   "metadata": {},
   "outputs": [],
   "source": [
    "print( [12,3,4]==[12,3,4])"
   ]
  },
  {
   "cell_type": "code",
   "execution_count": null,
   "metadata": {},
   "outputs": [],
   "source": [
    "print((12,3,4)==(12,4,3))"
   ]
  },
  {
   "cell_type": "code",
   "execution_count": null,
   "metadata": {},
   "outputs": [],
   "source": [
    "print( [12,3,4]==[12,4,3])"
   ]
  },
  {
   "cell_type": "code",
   "execution_count": null,
   "metadata": {},
   "outputs": [],
   "source": [
    "import itertools\n",
    "class Solution:\n",
    "    def nextPermutation(self, nums: list[int]) -> None:\n",
    "        \"\"\"\n",
    "        Do not return anything, modify nums in-place instead.\n",
    "        \"\"\"\n",
    "        permutations=list(itertools.permutations(nums,len(nums)))\n",
    "        ans=list()\n",
    "        print(permutations)\n",
    "        for i in range(len(permutations)):\n",
    "            if tuple(nums)==permutations[i]:\n",
    "                print(tuple(nums)==permutations[i])\n",
    "                nums=list(permutations[i+1])\n",
    "                print('done')\n",
    "                print(list(permutations[i+1]))\n",
    "                break\n",
    "s=Solution()\n",
    "nums=[1,2,3]\n",
    "s.nextPermutation(nums=nums)"
   ]
  },
  {
   "cell_type": "code",
   "execution_count": null,
   "metadata": {},
   "outputs": [],
   "source": [
    "print(nums)"
   ]
  },
  {
   "cell_type": "code",
   "execution_count": null,
   "metadata": {},
   "outputs": [],
   "source": [
    "nums=[]"
   ]
  },
  {
   "cell_type": "code",
   "execution_count": null,
   "metadata": {},
   "outputs": [],
   "source": [
    "num1=[2,5,23,23]"
   ]
  },
  {
   "cell_type": "code",
   "execution_count": null,
   "metadata": {},
   "outputs": [],
   "source": [
    "nums=num1"
   ]
  },
  {
   "cell_type": "code",
   "execution_count": null,
   "metadata": {},
   "outputs": [],
   "source": [
    "nums"
   ]
  },
  {
   "cell_type": "code",
   "execution_count": null,
   "metadata": {},
   "outputs": [],
   "source": [
    "a=[12,12,4,5,2,1,63,35,34]\n",
    "b=[35,124,4,324,5,2,1,63,35]\n",
    "for i in set(a):\n",
    "    a.remove(i)   "
   ]
  },
  {
   "cell_type": "code",
   "execution_count": null,
   "metadata": {},
   "outputs": [],
   "source": [
    "a[0]"
   ]
  },
  {
   "cell_type": "code",
   "execution_count": null,
   "metadata": {},
   "outputs": [],
   "source": [
    "a=[1,2,3,4,5]\n",
    "b=[5,6,7,8]"
   ]
  },
  {
   "cell_type": "code",
   "execution_count": null,
   "metadata": {},
   "outputs": [],
   "source": [
    "az=zip(b,a)"
   ]
  },
  {
   "cell_type": "code",
   "execution_count": null,
   "metadata": {},
   "outputs": [],
   "source": [
    "list(az)"
   ]
  },
  {
   "cell_type": "code",
   "execution_count": null,
   "metadata": {},
   "outputs": [],
   "source": [
    "grid = [\n",
    "    [-15,1,3],\n",
    "    [15,7,12],\n",
    "    [5,6,-2]\n",
    "]"
   ]
  },
  {
   "cell_type": "code",
   "execution_count": null,
   "metadata": {},
   "outputs": [],
   "source": [
    "ans=[]\n",
    "# ans.append(zip(max(len(grid[0]),max(len(grid[1])),max(len(grid[2])))))\n",
    "ans\n",
    "print(grid[0])\n",
    "cols=len(grid)\n",
    "rows=len(grid[0])"
   ]
  },
  {
   "cell_type": "code",
   "execution_count": null,
   "metadata": {},
   "outputs": [],
   "source": [
    "def convert_matrix_to_strings(matrix):\n",
    "    for row in matrix:\n",
    "        for i in range(len(row)):\n",
    "            row[i] = str(row[i])\n",
    "convert_matrix_to_strings(grid)"
   ]
  },
  {
   "cell_type": "code",
   "execution_count": null,
   "metadata": {},
   "outputs": [],
   "source": [
    "legends=['Revenant','Fuse','Mad Maggie','Ballistic','Rampart','Loba','Wattson','Catalyst','Horizon','Mirage','New Castle','Seer']"
   ]
  },
  {
   "cell_type": "code",
   "execution_count": null,
   "metadata": {},
   "outputs": [],
   "source": [
    "legends.append('Caustic')"
   ]
  },
  {
   "cell_type": "code",
   "execution_count": null,
   "metadata": {},
   "outputs": [],
   "source": [
    "len(legends)"
   ]
  },
  {
   "cell_type": "code",
   "execution_count": null,
   "metadata": {},
   "outputs": [],
   "source": [
    "import random\n",
    "\n",
    "legend=dict()\n",
    "for i in range(len(legends)):\n",
    "    i=random.choice(legends)\n",
    "    if i in legend.keys():\n",
    "        legend[i]+=1\n",
    "    else:\n",
    "        legend[i]=1\n",
    "legend \n",
    "\n",
    "    "
   ]
  },
  {
   "cell_type": "code",
   "execution_count": null,
   "metadata": {},
   "outputs": [],
   "source": [
    "hgf=dict()\n",
    "hgf['asd']=34\n"
   ]
  },
  {
   "cell_type": "code",
   "execution_count": null,
   "metadata": {},
   "outputs": [],
   "source": [
    "hgf"
   ]
  },
  {
   "cell_type": "code",
   "execution_count": null,
   "metadata": {},
   "outputs": [],
   "source": [
    "def f(n):\n",
    "    if n==0:return 0\n",
    "    elif n==1 :return 1\n",
    "    else:\n",
    "        return f(n-1)+f(n-2)\n",
    "for i in range(int(input())+1):\n",
    "    print(f\"{i}:{f(i)}\",end=', ')\n",
    "        "
   ]
  },
  {
   "cell_type": "code",
   "execution_count": null,
   "metadata": {},
   "outputs": [],
   "source": [
    "def fibonacci(n):\n",
    "    # Create a table to store the Fibonacci numbers\n",
    "    fib_table = [0] * (n + 1)\n",
    "\n",
    "    # Base cases\n",
    "    fib_table[0] = 0\n",
    "    fib_table[1] = 1\n",
    "\n",
    "    # Compute the Fibonacci numbers from 2 to n\n",
    "    for i in range(2, n + 1):\n",
    "        fib_table[i] = fib_table[i - 1] + fib_table[i - 2]\n",
    "\n",
    "    return fib_table[n]\n",
    "\n",
    "# Test the function\n",
    "\n",
    "print(\n",
    " fibonacci(int(input(\"Enter n: \")))\n",
    ")"
   ]
  },
  {
   "cell_type": "code",
   "execution_count": null,
   "metadata": {},
   "outputs": [],
   "source": []
  },
  {
   "cell_type": "code",
   "execution_count": null,
   "metadata": {},
   "outputs": [],
   "source": [
    "def longest_common_subsequence(X, Y):\n",
    "    m = len(X)  # Length of sequence X\n",
    "    n = len(Y)  # Length of sequence Y\n",
    "\n",
    "    # Create a table to store the lengths of LCS for subproblems\n",
    "    lcs_table = [[0] * (n + 1) for _ in range(m + 1)]\n",
    "\n",
    "    # Fill the table using bottom-up approach\n",
    "    for i in range(1, m + 1):\n",
    "        for j in range(1, n + 1):\n",
    "            if X[i - 1] == Y[j - 1]:\n",
    "                lcs_table[i][j] = lcs_table[i - 1][j - 1] + 1\n",
    "            else:\n",
    "                lcs_table[i][j] = max(lcs_table[i - 1][j], lcs_table[i][j - 1])\n",
    "\n",
    "    # Backtrack to find the LCS\n",
    "    lcs = \"\"\n",
    "    i = m\n",
    "    j = n\n",
    "    while i > 0 and j > 0:\n",
    "        if X[i - 1] == Y[j - 1]:\n",
    "            lcs = X[i - 1] + lcs\n",
    "            i -= 1\n",
    "            j -= 1\n",
    "        elif lcs_table[i - 1][j] > lcs_table[i][j - 1]:\n",
    "            i -= 1\n",
    "        else:\n",
    "            j -= 1\n",
    "\n",
    "    return lcs\n",
    "\n",
    "# Test the function\n",
    "X = \"AGGTAB\"\n",
    "Y = \"GXTXAYB\"\n",
    "result = longest_common_subsequence(X, Y)\n",
    "print(\"Longest Common Subsequence:\", result)\n"
   ]
  },
  {
   "cell_type": "code",
   "execution_count": null,
   "metadata": {},
   "outputs": [],
   "source": [
    "arra=[1,2,3,4,5]\n",
    "print(arra)\n",
    "aa=arra[1:4][::-1]\n",
    "for i in range(1,4):\n",
    "    arra[i]=aa[i-1]\n",
    "arra"
   ]
  },
  {
   "cell_type": "code",
   "execution_count": null,
   "metadata": {},
   "outputs": [],
   "source": [
    "# Definition for singly-linked list.\n",
    "# class ListNode:\n",
    "#     def __init__(self, val=0, next=None):\n",
    "#         self.val = val\n",
    "#         self.next = next\n",
    "class Solution:\n",
    "    def reversal(self,root):\n",
    "        current=root\n",
    "        prev=None\n",
    "        data=[]\n",
    "        while (current!=None):\n",
    "            data.append(current.val)\n",
    "            current=current.next\n",
    "        return data\n",
    "        # cur_next=current.next\n",
    "        while(current.next!=None):\n",
    "            current.next=prev\n",
    "            prev=current\n",
    "            current=cur_next\n",
    "            cur_next=cur_next.next\n",
    "        current.next=prev\n",
    "        root=current\n",
    "        return root\n",
    "    def reverseBetween(self, head: Optional[ListNode], left: int, right: int) -> Optional[ListNode]:\n",
    "        current=head\n",
    "        left_node=None\n",
    "        right_node=None\n",
    "        while(current!=None):\n",
    "            if(left_node or right_node):\n",
    "                break\n",
    "            if(current.val==left):\n",
    "                left_node=current\n",
    "                return left_node\n",
    "            # if(current.val==right):\n",
    "            #     right_node=current\n",
    "            #     print(right_node.val)\n",
    "            current=current.next\n",
    "        # print(right_node)\n",
    "\n",
    "        # last=right_node.next\n",
    "        # print(last.val)\n",
    "        # right_node.next=None\n",
    "        # first=head\n",
    "        # while (first!=None):\n",
    "        #     if(first.next==left_node):\n",
    "        #         break\n",
    "        #     first=first.next\n",
    "        node=self.reversal(left_node)\n",
    "        return node\n",
    "        # first.next=node\n",
    "        # node.next=last\n",
    "        # return head\n",
    "\n",
    "# OTHER APPROAH:\n",
    "# Definition for singly-linked list.\n",
    "# class ListNode:\n",
    "#     def __init__(self, val=0, next=None):\n",
    "#         self.val = val\n",
    "#         self.next = next\n",
    "class Solution:\n",
    "    def reversevals(self,arra:list)->list:\n",
    "        arra=[1,2,3,4,5]\n",
    "        aa=arra[1:4][::-1]\n",
    "        for i in range(1,4):\n",
    "            arra[i]=aa[i-1]\n",
    "        return arra\n",
    "\n",
    "    def reverseBetween(self, head: Optional[ListNode], left: int, right: int) -> Optional[ListNode]:\n",
    "        current=head\n",
    "        data=[]\n",
    "        left_index=None\n",
    "        count=0\n",
    "        right_index=None\n",
    "        while current.next!=None:\n",
    "            if current.val==left:\n",
    "                left_index=count\n",
    "            if current.val==right:\n",
    "                right_index=count\n",
    "            data.append(current.val)\n",
    "            current=current.next\n",
    "            count+=1\n",
    "        data=self.reversevals(data)\n",
    "        print(data,type(data),type(data[0]))\n",
    "        size=len(data)\n",
    "        self.root=None\n",
    "        once=False\n",
    "        root=None\n",
    "        for i in data:\n",
    "            if self.root is None:\n",
    "                self.root=ListNode(i)\n",
    "                if root is None:\n",
    "                    root=self.root\n",
    "            else:\n",
    "                self.root.next=ListNode(i)\n",
    "                self.root=self.root.next\n",
    "            once=True\n",
    "        if once is True:\n",
    "            r=root\n",
    "            root=None\n",
    "            self.root=None\n",
    "        return r\n",
    "    \n"
   ]
  },
  {
   "cell_type": "code",
   "execution_count": null,
   "metadata": {},
   "outputs": [],
   "source": [
    "# array=[1,2,3,4,5]\n",
    "# aa=array[1:4][::-1]\n",
    "# aa\n",
    "# for i in range(len(array)):\n",
    "    \n",
    "arra=[1,2,3,4,5]\n",
    "first=1\n",
    "last=4\n",
    "aa=arra[first:last+1][::-1]\n",
    "for i in range(first,last):\n",
    "    arra[i]=aa[i-1]\n",
    "arra"
   ]
  },
  {
   "cell_type": "code",
   "execution_count": null,
   "metadata": {},
   "outputs": [],
   "source": [
    "def largestCycle(edges):\n",
    "    result = []\n",
    "    visitedFrom = [-1] * len(edges)\n",
    "    for startCell in range(0, len(edges)):\n",
    "        cells = []\n",
    "        cell = startCell\n",
    "        while cell > -1 and visitedFrom[cell] == -1:\n",
    "            visitedFrom[cell] = startCell\n",
    "            cells.append(cell)\n",
    "            cell = edges[cell]\n",
    "        if cell > -1 and visitedFrom[cell] == startCell:\n",
    "            cells_idx = cells.index(cell)\n",
    "            cells = cells[cells_idx:]\n",
    "            if len(cells) > len(result):\n",
    "                result = cells\n",
    "\n",
    "    return result\n",
    "\n",
    "size = int(input())\n",
    "# edges = [4, 4, 1, 4, 13, 8, 8, 8, 0, 8, 14, 9, 15, 11, -1, 10, 15, 22, 22, 22, 22, 22, 21]\n",
    "edges=list(map(int,input().split()))\n",
    "ans=largestCycle(edges)\n",
    "\n",
    "sum(ans)\n"
   ]
  },
  {
   "cell_type": "code",
   "execution_count": null,
   "metadata": {},
   "outputs": [],
   "source": []
  }
 ],
 "metadata": {
  "kernelspec": {
   "display_name": "Python 3",
   "language": "python",
   "name": "python3"
  },
  "language_info": {
   "codemirror_mode": {
    "name": "ipython",
    "version": 3
   },
   "file_extension": ".py",
   "mimetype": "text/x-python",
   "name": "python",
   "nbconvert_exporter": "python",
   "pygments_lexer": "ipython3",
   "version": "3.11.2"
  },
  "orig_nbformat": 4
 },
 "nbformat": 4,
 "nbformat_minor": 2
}
