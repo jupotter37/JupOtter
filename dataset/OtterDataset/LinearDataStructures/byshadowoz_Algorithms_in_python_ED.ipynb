{
 "cells": [
  {
   "cell_type": "markdown",
   "metadata": {},
   "source": [
    "Antes de empezar a ver como funcionan los algoritmos hemos de saber algunos prerequisitos para lograr mayor entendimiento de estos"
   ]
  },
  {
   "cell_type": "markdown",
   "metadata": {},
   "source": [
    "## **Estructura de Datos  & Metodos Basicos**"
   ]
  },
  {
   "cell_type": "markdown",
   "metadata": {},
   "source": [
    "### Metodos"
   ]
  },
  {
   "cell_type": "code",
   "execution_count": 2,
   "metadata": {},
   "outputs": [],
   "source": [
    "#supongamos que tenemos la lista 'a' donde existen valores enteros del 1 al 10 en orden ascendiente\n",
    "a = [1,2,3,4,5,6,7,8,9,10]\n",
    "# si queremos ingresar otros datos tenemos los metodos append(), insert() y extend()\n"
   ]
  },
  {
   "cell_type": "code",
   "execution_count": 3,
   "metadata": {},
   "outputs": [
    {
     "data": {
      "text/plain": [
       "[1, 2, 3, 4, 5, 6, 7, 8, 9, 10, 11]"
      ]
     },
     "execution_count": 3,
     "metadata": {},
     "output_type": "execute_result"
    }
   ],
   "source": [
    "# append() agrega un elemento al final de la lista\n",
    "a.append(11)#simplemente pide un argumento el cual es el valor a ingresar\n",
    "a"
   ]
  },
  {
   "cell_type": "code",
   "execution_count": 4,
   "metadata": {},
   "outputs": [
    {
     "data": {
      "text/plain": [
       "[1, 2, 3, 4, 5, 6, 7, 8, 9, 10, 11, 12]"
      ]
     },
     "execution_count": 4,
     "metadata": {},
     "output_type": "execute_result"
    }
   ],
   "source": [
    "# insert() requiere de dos argumentos, la posicion y el valor\n",
    "a.insert(11, 12) #aqui estos colocando en la posicion 11 y el valor 12\n",
    "a"
   ]
  },
  {
   "cell_type": "code",
   "execution_count": 5,
   "metadata": {},
   "outputs": [
    {
     "data": {
      "text/plain": [
       "[1, 2, 3, 4, 5, 6, 7, 8, 9, 10, 11, 12, 20, 21, 22, 23, 24, 25]"
      ]
     },
     "execution_count": 5,
     "metadata": {},
     "output_type": "execute_result"
    }
   ],
   "source": [
    "# extend() es un metodo  para agregar todos los datos de un iterable sea lista, tupla, diccionario o string \n",
    "b = [20,21,22,23,24,25]#nueva lista\n",
    "a.extend(b)\n",
    "a"
   ]
  },
  {
   "cell_type": "code",
   "execution_count": 7,
   "metadata": {},
   "outputs": [
    {
     "data": {
      "text/plain": [
       "[1, 2, 3, 4, 5, 6, 7, 8, 9, 10, 12, 20, 21, 22, 23, 24, 25]"
      ]
     },
     "execution_count": 7,
     "metadata": {},
     "output_type": "execute_result"
    }
   ],
   "source": [
    "# remove() elimina el primer valor que encuentre que sea igual a el \n",
    "# valor dado si no existe dara un error\n",
    "a.remove(11) #valor a eliminar\n",
    "a\n",
    "#a.remove(100) este imprimira un error ya que no existe  "
   ]
  },
  {
   "cell_type": "code",
   "execution_count": 8,
   "metadata": {},
   "outputs": [
    {
     "data": {
      "text/plain": [
       "[1, 2, 3, 4, 5, 6, 7, 8, 9, 10, 12, 20, 21, 22, 23, 25]"
      ]
     },
     "execution_count": 8,
     "metadata": {},
     "output_type": "execute_result"
    }
   ],
   "source": [
    "# pop() elimina el valor de la posicion dada si no existe dara error y si no le damos ningun\n",
    "# argumento eliminara el ultimo elemento de la lista, si la lista esta vacia tambien dara error\n",
    "a.pop(15)#elimina el valor de la posicion 15\n",
    "a"
   ]
  },
  {
   "cell_type": "code",
   "execution_count": 9,
   "metadata": {},
   "outputs": [
    {
     "data": {
      "text/plain": [
       "[1, 2, 12, 20, 21, 22, 23, 25]"
      ]
     },
     "execution_count": 9,
     "metadata": {},
     "output_type": "execute_result"
    }
   ],
   "source": [
    "# del elimina valores desde la posicion x hasta la posicion y siendo y mas alto que x\n",
    "del a[2:10] #eliminara los valores desde la posicion 2 hasta la posicion 9 (no elimina el valor de la posicion 10)\n",
    "a"
   ]
  },
  {
   "cell_type": "code",
   "execution_count": 10,
   "metadata": {},
   "outputs": [
    {
     "data": {
      "text/plain": [
       "3"
      ]
     },
     "execution_count": 10,
     "metadata": {},
     "output_type": "execute_result"
    }
   ],
   "source": [
    "# retorna la posicion del valor ingresado si no existe dara error \n",
    "a.index(20)# valor "
   ]
  },
  {
   "cell_type": "code",
   "execution_count": 11,
   "metadata": {},
   "outputs": [
    {
     "data": {
      "text/plain": [
       "1"
      ]
     },
     "execution_count": 11,
     "metadata": {},
     "output_type": "execute_result"
    }
   ],
   "source": [
    "# retorna la cantidad de veces que aparece el valor en la lista\n",
    "a.count(25) # valor 25 solo aparece una vez"
   ]
  },
  {
   "cell_type": "code",
   "execution_count": 12,
   "metadata": {},
   "outputs": [
    {
     "data": {
      "text/plain": [
       "[25, 23, 22, 21, 20, 12, 2, 1]"
      ]
     },
     "execution_count": 12,
     "metadata": {},
     "output_type": "execute_result"
    }
   ],
   "source": [
    "# invierte las posiciones de la lista\n",
    "a.reverse()\n",
    "a"
   ]
  },
  {
   "cell_type": "code",
   "execution_count": 13,
   "metadata": {},
   "outputs": [
    {
     "data": {
      "text/plain": [
       "[25, 23, 22, 21, 20, 12, 2, 1]"
      ]
     },
     "execution_count": 13,
     "metadata": {},
     "output_type": "execute_result"
    }
   ],
   "source": [
    "# ordena los valores segun su argumento \n",
    "a.sort(reverse=True)#True ordena de mayor a menor y viceversa\n",
    "a"
   ]
  },
  {
   "cell_type": "markdown",
   "metadata": {},
   "source": [
    "ahora tenemos una lista 'ciudades' con nombres de distintas ciudades"
   ]
  },
  {
   "cell_type": "code",
   "execution_count": 14,
   "metadata": {},
   "outputs": [],
   "source": [
    "ciudades = ['Sidney','LA','Bogota','Lima','Santiago','Buenos Aires','La Paz']"
   ]
  },
  {
   "cell_type": "code",
   "execution_count": 15,
   "metadata": {},
   "outputs": [
    {
     "data": {
      "text/plain": [
       "['Bogota', 'Buenos Aires', 'LA', 'La Paz', 'Lima', 'Santiago', 'Sidney']"
      ]
     },
     "execution_count": 15,
     "metadata": {},
     "output_type": "execute_result"
    }
   ],
   "source": [
    "#el metodo sort los agrupara por el orden alfabetico del primer caracter\n",
    "ciudades.sort()\n",
    "ciudades"
   ]
  },
  {
   "cell_type": "code",
   "execution_count": 9,
   "metadata": {},
   "outputs": [
    {
     "name": "stdout",
     "output_type": "stream",
     "text": [
      "el codigo unicode de \"a\" es 97\n",
      "el caracter del numero \"105\" es i\n"
     ]
    }
   ],
   "source": [
    "# el metodo ord convierte un caracter especifico en codigo unicode\n",
    "letra = \"a\"\n",
    "codigo_unicode = ord(letra)\n",
    "print(f'el codigo unicode de \"{letra}\" es {codigo_unicode}')\n",
    "# el metodo chr es la inversa de ord\n",
    "numero = 105\n",
    "letra = chr(numero)\n",
    "print(f'el caracter del numero \"{numero}\" es {letra}')"
   ]
  },
  {
   "cell_type": "markdown",
   "metadata": {},
   "source": [
    "### Estructuras de datos\n",
    "existen varios tipos de estructuras de datos, para poder entender la mayoria de los algoritmos te mostrare 10 estructuas de datos muy utilizadas en la programacion"
   ]
  },
  {
   "cell_type": "markdown",
   "metadata": {},
   "source": [
    "#### Listas\n",
    "Las listas son la estructura de datos mas sencilla en python se usa para guardar todo tipo de datos, mayormente ordenados "
   ]
  },
  {
   "cell_type": "code",
   "execution_count": 16,
   "metadata": {},
   "outputs": [
    {
     "name": "stdout",
     "output_type": "stream",
     "text": [
      "a: <class 'list'>\n",
      "b: <class 'list'>\n"
     ]
    }
   ],
   "source": [
    "# en python podemos declarar listas de distintas formas\n",
    "a = []#forma basica para declarar una lista\n",
    "b = list()#se usa mayormente cuando se necesita organizar datos que ya estan en variables\n",
    "print('a:', type(a))\n",
    "print('b:', type(b))"
   ]
  },
  {
   "cell_type": "markdown",
   "metadata": {},
   "source": [
    "con las listas tambien podemos crear loops de valores "
   ]
  },
  {
   "cell_type": "code",
   "execution_count": 17,
   "metadata": {},
   "outputs": [
    {
     "data": {
      "text/plain": [
       "[0,\n",
       " 1,\n",
       " 2,\n",
       " 3,\n",
       " 4,\n",
       " 5,\n",
       " 6,\n",
       " 7,\n",
       " 8,\n",
       " 9,\n",
       " 10,\n",
       " 11,\n",
       " 12,\n",
       " 13,\n",
       " 14,\n",
       " 15,\n",
       " 16,\n",
       " 17,\n",
       " 18,\n",
       " 19,\n",
       " 20,\n",
       " 21,\n",
       " 22,\n",
       " 23,\n",
       " 24,\n",
       " 25,\n",
       " 26,\n",
       " 27,\n",
       " 28,\n",
       " 29,\n",
       " 30,\n",
       " 31,\n",
       " 32,\n",
       " 33,\n",
       " 34,\n",
       " 35,\n",
       " 36,\n",
       " 37,\n",
       " 38,\n",
       " 39,\n",
       " 40,\n",
       " 41,\n",
       " 42,\n",
       " 43,\n",
       " 44,\n",
       " 45,\n",
       " 46,\n",
       " 47,\n",
       " 48,\n",
       " 49,\n",
       " 50,\n",
       " 51,\n",
       " 52,\n",
       " 53,\n",
       " 54,\n",
       " 55,\n",
       " 56,\n",
       " 57,\n",
       " 58,\n",
       " 59,\n",
       " 60,\n",
       " 61,\n",
       " 62,\n",
       " 63,\n",
       " 64,\n",
       " 65,\n",
       " 66,\n",
       " 67,\n",
       " 68,\n",
       " 69,\n",
       " 70,\n",
       " 71,\n",
       " 72,\n",
       " 73,\n",
       " 74,\n",
       " 75,\n",
       " 76,\n",
       " 77,\n",
       " 78,\n",
       " 79,\n",
       " 80,\n",
       " 81,\n",
       " 82,\n",
       " 83,\n",
       " 84,\n",
       " 85,\n",
       " 86,\n",
       " 87,\n",
       " 88,\n",
       " 89,\n",
       " 90,\n",
       " 91,\n",
       " 92,\n",
       " 93,\n",
       " 94,\n",
       " 95,\n",
       " 96,\n",
       " 97,\n",
       " 98,\n",
       " 99]"
      ]
     },
     "execution_count": 17,
     "metadata": {},
     "output_type": "execute_result"
    }
   ],
   "source": [
    "a = [x for x in range(0,100)]#la variable x va a iterar en el rango de 0 a 100 y terminara al llegar a 99 el 100 no lo almacena\n",
    "a"
   ]
  },
  {
   "cell_type": "markdown",
   "metadata": {},
   "source": [
    "ahora con una lista ya creada podemos encontrar sus valores mediante su posicion"
   ]
  },
  {
   "cell_type": "code",
   "execution_count": 18,
   "metadata": {},
   "outputs": [
    {
     "name": "stdout",
     "output_type": "stream",
     "text": [
      "0\n",
      "1\n",
      "2\n",
      "3\n",
      "4\n",
      "5\n",
      "6\n",
      "7\n",
      "8\n",
      "9\n",
      "10\n",
      "11\n",
      "12\n",
      "13\n",
      "14\n",
      "15\n",
      "16\n",
      "17\n",
      "18\n",
      "19\n",
      "20\n",
      "21\n",
      "22\n",
      "23\n",
      "24\n",
      "25\n",
      "26\n",
      "27\n",
      "28\n",
      "29\n",
      "30\n",
      "31\n",
      "32\n",
      "33\n",
      "34\n",
      "35\n",
      "36\n",
      "37\n",
      "38\n",
      "39\n",
      "40\n",
      "41\n",
      "42\n",
      "43\n",
      "44\n",
      "45\n",
      "46\n",
      "47\n",
      "48\n",
      "49\n",
      "50\n",
      "51\n",
      "52\n",
      "53\n",
      "54\n",
      "55\n",
      "56\n",
      "57\n",
      "58\n",
      "59\n",
      "60\n",
      "61\n",
      "62\n",
      "63\n",
      "64\n",
      "65\n",
      "66\n",
      "67\n",
      "68\n",
      "69\n",
      "70\n",
      "71\n",
      "72\n",
      "73\n",
      "74\n",
      "75\n",
      "76\n",
      "77\n",
      "78\n",
      "79\n",
      "80\n",
      "81\n",
      "82\n",
      "83\n",
      "84\n",
      "85\n",
      "86\n",
      "87\n",
      "88\n",
      "89\n",
      "90\n",
      "91\n",
      "92\n",
      "93\n",
      "94\n",
      "95\n",
      "96\n",
      "97\n",
      "98\n",
      "99\n"
     ]
    }
   ],
   "source": [
    "posicion = 0 # el primer valor de una lista siempre sera 0\n",
    "while posicion <= len(a)-1: #creamos un loop que se ejecute si posicion es menor o igual a el largo de a\n",
    "    print(a[posicion])\n",
    "    posicion += 1 # avanzamos una posicion despues de imprimir la posicion actual"
   ]
  },
  {
   "cell_type": "markdown",
   "metadata": {},
   "source": [
    "#### Tabla hash (Hashtable)\n",
    "Las tablas hash son basicamente diccionarios de python {} donde se guarda una llave-valor con esta tabla solo necesitas tener la llave para acceder al valor dentro de ella. \n",
    "Las tablas hash tambien contienen una funcion hash la cual es la que se encarga de crear una direccion para guardar los elementos en la celda de esa direccion"
   ]
  },
  {
   "cell_type": "code",
   "execution_count": 19,
   "metadata": {},
   "outputs": [],
   "source": [
    "# para crear una tabla hash podemos crear una clase\n",
    "class HashTable:\n",
    "    def __init__(self, size): #inicializamos la clase\n",
    "        self.table = [[] for _ in range(size)]  # creamos una tabla que tenga el tamaño establecido en el parametro size \n",
    "        \n",
    "    def hash_func(self, key): # esta es la que empezara la funcion hash \n",
    "        val = 0#la llave que tendra nuestro valor\n",
    "        for i in range(0,len(key)): #iteramos desde cero hasta el indice mas alto de nuestro valor\n",
    "            val += ord(key[i]) #ord es un metodo que nos devuelve el valor ascii de un caracter\n",
    "        return val % len(self.table) # divide el valor de la llave entre el tamaño de la tabla y nos devuelve el residuo de la division\n",
    "    \n",
    "    def search(self, key):\n",
    "        hash_key = self.hash_func(key)\n",
    "        if key in self.table[hash_key]: # verificamos si el valor en el indice hash_value existe si no existe retornara falso\n",
    "            return self.table[hash_key]\n",
    "        else:\n",
    "            return False\n",
    "        "
   ]
  },
  {
   "cell_type": "markdown",
   "metadata": {},
   "source": [
    "existen muchas formas de crear una tabla hash pero al final todas tienen una llave y un valor"
   ]
  },
  {
   "cell_type": "code",
   "execution_count": 20,
   "metadata": {},
   "outputs": [],
   "source": [
    "Tablahash = HashTable(96) #indicamos una tabla de tamaño de 100 indices"
   ]
  },
  {
   "cell_type": "code",
   "execution_count": 21,
   "metadata": {},
   "outputs": [],
   "source": [
    "key, value = 'don', '543324'"
   ]
  },
  {
   "cell_type": "code",
   "execution_count": 22,
   "metadata": {},
   "outputs": [
    {
     "data": {
      "text/plain": [
       "33"
      ]
     },
     "execution_count": 22,
     "metadata": {},
     "output_type": "execute_result"
    }
   ],
   "source": [
    "idx = Tablahash.hash_func(key) #solo permite strings\n",
    "idx # es el indice que usaremos para guardar nuestros datos llave valor"
   ]
  },
  {
   "cell_type": "code",
   "execution_count": 23,
   "metadata": {},
   "outputs": [],
   "source": [
    "Tablahash.table[idx] = [key,value] #ingresamos los valores key y value en la posicion idx de la tabla"
   ]
  },
  {
   "cell_type": "code",
   "execution_count": 24,
   "metadata": {},
   "outputs": [
    {
     "data": {
      "text/plain": [
       "['don', '543324']"
      ]
     },
     "execution_count": 24,
     "metadata": {},
     "output_type": "execute_result"
    }
   ],
   "source": [
    "#revisamos si nuestra llave valor esta en nuestra tabla \n",
    "Tablahash.table[idx]"
   ]
  },
  {
   "cell_type": "markdown",
   "metadata": {},
   "source": [
    "#### Listas enlazadas (linked lists)\n",
    "son listas pero estas se diferencian en su forma de almacenarse ya que cada uno de los elementos o valores se encuentra enlazado con los valores siguientes uno de las desventajas es que a diferencia de las listas que podemos ingresar a sus valores desde su posicion en las listas enlazadas debemos recorrer todos los valores hasta llegar al que queremos "
   ]
  },
  {
   "cell_type": "code",
   "execution_count": 25,
   "metadata": {},
   "outputs": [],
   "source": [
    "# creamos la clase donde estara el orden en el que almacenaremos los datos\n",
    "class Node():\n",
    "    def __init__(self, data):\n",
    "        self.data = data # valor que queremos almacenar\n",
    "        self.next = None # siguiente valor que queremos almacenar"
   ]
  },
  {
   "cell_type": "code",
   "execution_count": 37,
   "metadata": {},
   "outputs": [],
   "source": [
    "# creamos la clase de nuestra lista enlazada\n",
    "class Linkedlist:\n",
    "    def __init__(self): #iniciamos nuestra lista enlazada\n",
    "        self.head = None #creamos la cabeza de la lista\n",
    "        \n",
    "    def append (self, value):#funcion para agregar los valores usando la clase Node\n",
    "        if self.head is None: #vemos si el primer valor esta vacio\n",
    "            self.head = Node(value) # le asignamos nuestro valor\n",
    "        else: #si no esta vacio\n",
    "            current_node = self.head # se crea una variable con la cabeza de la lista\n",
    "            while current_node.next is not None: # current_node verifica si el valor next esta vacia\n",
    "                current_node = current_node.next # si no esta vacio entonces pasa al siguiente valor\n",
    "            current_node.next = Node(value) # si el valor next esta vacio entonces se ingresa el valor nuevo\n",
    "    \n",
    "    def print_list(self): #funcion para imprimir la lista\n",
    "        current = self.head # primer valor de la lista \n",
    "        while current != None: #itera por todos los valores que no sean None\n",
    "            print(current.data)# imprime el valor\n",
    "            current = current.next #pasa al siguiente valor\n",
    "    \n",
    "    def get_element(self, position):#encontrar un valor mediante su indice\n",
    "        i = 0 #posicion de la lista\n",
    "        current = self.head\n",
    "        while current != None: \n",
    "            if i == position:#si el indice es igual a la posicion retorna el valor actual \n",
    "                return current.data\n",
    "            current = current.next #si no se cumple la condicion anterior pasa al siguiente valor\n",
    "            i += 1 # aumenta el indice\n",
    "        return None"
   ]
  },
  {
   "cell_type": "code",
   "execution_count": 38,
   "metadata": {},
   "outputs": [],
   "source": [
    "list2 = Linkedlist()\n",
    "list2.append(2)#ingresamos datos a nuestra lista enlazada\n",
    "list2.append(3)\n",
    "list2.append(5)\n",
    "list2.append(9)"
   ]
  },
  {
   "cell_type": "code",
   "execution_count": 39,
   "metadata": {},
   "outputs": [
    {
     "name": "stdout",
     "output_type": "stream",
     "text": [
      "2\n",
      "3\n",
      "5\n",
      "9\n",
      "None\n",
      "None\n"
     ]
    }
   ],
   "source": [
    "print(list2.print_list())\n",
    "print(list2.get_element(10))#posicion 10 no existe "
   ]
  },
  {
   "cell_type": "code",
   "execution_count": null,
   "metadata": {},
   "outputs": [],
   "source": []
  },
  {
   "cell_type": "markdown",
   "metadata": {},
   "source": [
    "#### Pilas & Colas (Stacks & Queue)\n",
    "Las pilas son una estructura de datos donde se usa el principio de el ultimo en entrar es el primero en salir en python se puede crear una Pila con una lista simplemente usando los metodos append() y pop() ya que append agrega un elemento desde la ultima posicion y pop elimina el ultimo elemento en la Lista    "
   ]
  },
  {
   "cell_type": "code",
   "execution_count": 51,
   "metadata": {},
   "outputs": [],
   "source": [
    "# Creamos una clase para nuestra Estructura de datos\n",
    "class Stack:\n",
    "    def __init__(self):\n",
    "        self.stack = []# Creamos una lista\n",
    "    \n",
    "    def push(self,value):\n",
    "        self.stack.append(value)# Añadimos un elemento al final de la lista\n",
    "        print(f'elemento: {value} agregado')\n",
    "    \n",
    "    def pop(self):\n",
    "        if self.stack == []:\n",
    "            return 'Pila vacia'    \n",
    "        self.stack.pop()# Eliminamos el ultimo elemento de la lista\n",
    "    "
   ]
  },
  {
   "cell_type": "code",
   "execution_count": 52,
   "metadata": {},
   "outputs": [
    {
     "name": "stdout",
     "output_type": "stream",
     "text": [
      "elemento: 1 agregado\n"
     ]
    }
   ],
   "source": [
    "stack = Stack()\n",
    "stack.push(1)"
   ]
  },
  {
   "cell_type": "code",
   "execution_count": 54,
   "metadata": {},
   "outputs": [
    {
     "data": {
      "text/plain": [
       "'Pila vacia'"
      ]
     },
     "execution_count": 54,
     "metadata": {},
     "output_type": "execute_result"
    }
   ],
   "source": [
    "stack.pop()"
   ]
  },
  {
   "cell_type": "markdown",
   "metadata": {},
   "source": [
    "Las Colas son una estructura de datos que usa el principio de el primero en elemento en entrar es el primero en salir parecido a las Pilas la unica diferencia es que en esta eliminamos el primer elemento"
   ]
  },
  {
   "cell_type": "code",
   "execution_count": 74,
   "metadata": {},
   "outputs": [],
   "source": [
    "class Queue:\n",
    "    def __init__(self):\n",
    "        self.list = []# Creamos una lista\n",
    "    \n",
    "    def enqueue(self,value):\n",
    "        self.list.append(value)# Añadimos un elemento a lista\n",
    "        print(f'elemento: {value} agregado')\n",
    "    \n",
    "    def dequeue(self):\n",
    "        if self.list == []:\n",
    "            return 'Pila vacia'    \n",
    "        self.list.pop(0)# Eliminamos el primer elemento de la lista\n",
    "        \n",
    "    def display(self):\n",
    "        print(self.list)\n",
    "    \n",
    "    def size(self):\n",
    "        return len(self.list)# Devolvemos el tamaño de la lista"
   ]
  },
  {
   "cell_type": "code",
   "execution_count": 71,
   "metadata": {},
   "outputs": [
    {
     "name": "stdout",
     "output_type": "stream",
     "text": [
      "elemento: 0 agregado\n",
      "elemento: 1 agregado\n",
      "elemento: 2 agregado\n",
      "elemento: 3 agregado\n",
      "elemento: 4 agregado\n",
      "elemento: 5 agregado\n",
      "elemento: 6 agregado\n",
      "elemento: 7 agregado\n",
      "elemento: 8 agregado\n",
      "elemento: 9 agregado\n",
      "elemento: 10 agregado\n",
      "elemento: 11 agregado\n",
      "elemento: 12 agregado\n",
      "elemento: 13 agregado\n",
      "elemento: 14 agregado\n",
      "elemento: 15 agregado\n",
      "elemento: 16 agregado\n",
      "elemento: 17 agregado\n",
      "elemento: 18 agregado\n",
      "elemento: 19 agregado\n",
      "elemento: 20 agregado\n",
      "elemento: 21 agregado\n",
      "elemento: 22 agregado\n",
      "elemento: 23 agregado\n",
      "elemento: 24 agregado\n",
      "elemento: 25 agregado\n",
      "elemento: 26 agregado\n",
      "elemento: 27 agregado\n",
      "elemento: 28 agregado\n",
      "elemento: 29 agregado\n",
      "elemento: 30 agregado\n",
      "elemento: 31 agregado\n",
      "elemento: 32 agregado\n",
      "elemento: 33 agregado\n",
      "elemento: 34 agregado\n",
      "elemento: 35 agregado\n",
      "elemento: 36 agregado\n",
      "elemento: 37 agregado\n",
      "elemento: 38 agregado\n",
      "elemento: 39 agregado\n",
      "elemento: 40 agregado\n",
      "elemento: 41 agregado\n",
      "elemento: 42 agregado\n",
      "elemento: 43 agregado\n",
      "elemento: 44 agregado\n",
      "elemento: 45 agregado\n",
      "elemento: 46 agregado\n",
      "elemento: 47 agregado\n",
      "elemento: 48 agregado\n",
      "elemento: 49 agregado\n",
      "elemento: 50 agregado\n",
      "elemento: 51 agregado\n",
      "elemento: 52 agregado\n",
      "elemento: 53 agregado\n",
      "elemento: 54 agregado\n",
      "elemento: 55 agregado\n",
      "elemento: 56 agregado\n",
      "elemento: 57 agregado\n",
      "elemento: 58 agregado\n",
      "elemento: 59 agregado\n",
      "elemento: 60 agregado\n",
      "elemento: 61 agregado\n",
      "elemento: 62 agregado\n",
      "elemento: 63 agregado\n",
      "elemento: 64 agregado\n",
      "elemento: 65 agregado\n",
      "elemento: 66 agregado\n",
      "elemento: 67 agregado\n",
      "elemento: 68 agregado\n",
      "elemento: 69 agregado\n",
      "elemento: 70 agregado\n",
      "elemento: 71 agregado\n",
      "elemento: 72 agregado\n",
      "elemento: 73 agregado\n",
      "elemento: 74 agregado\n",
      "elemento: 75 agregado\n",
      "elemento: 76 agregado\n",
      "elemento: 77 agregado\n",
      "elemento: 78 agregado\n",
      "elemento: 79 agregado\n",
      "elemento: 80 agregado\n",
      "elemento: 81 agregado\n",
      "elemento: 82 agregado\n",
      "elemento: 83 agregado\n",
      "elemento: 84 agregado\n",
      "elemento: 85 agregado\n",
      "elemento: 86 agregado\n",
      "elemento: 87 agregado\n",
      "elemento: 88 agregado\n",
      "elemento: 89 agregado\n",
      "elemento: 90 agregado\n",
      "elemento: 91 agregado\n",
      "elemento: 92 agregado\n",
      "elemento: 93 agregado\n",
      "elemento: 94 agregado\n",
      "elemento: 95 agregado\n",
      "elemento: 96 agregado\n",
      "elemento: 97 agregado\n",
      "elemento: 98 agregado\n",
      "elemento: 99 agregado\n",
      "elemento: 100 agregado\n"
     ]
    },
    {
     "data": {
      "text/plain": [
       "101"
      ]
     },
     "execution_count": 71,
     "metadata": {},
     "output_type": "execute_result"
    }
   ],
   "source": [
    "cola = Queue()\n",
    "for x in range(0,101):\n",
    "    cola.enqueue(x)\n",
    "cola.size()\n"
   ]
  },
  {
   "cell_type": "code",
   "execution_count": 79,
   "metadata": {},
   "outputs": [],
   "source": [
    "cola.dequeue()#elimina el elemento 0, 1, 2, 3, 4..."
   ]
  },
  {
   "cell_type": "code",
   "execution_count": 80,
   "metadata": {},
   "outputs": [
    {
     "name": "stdout",
     "output_type": "stream",
     "text": [
      "[3, 4, 5, 6, 7, 8, 9, 10, 11, 12, 13, 14, 15, 16, 17, 18, 19, 20, 21, 22, 23, 24, 25, 26, 27, 28, 29, 30, 31, 32, 33, 34, 35, 36, 37, 38, 39, 40, 41, 42, 43, 44, 45, 46, 47, 48, 49, 50, 51, 52, 53, 54, 55, 56, 57, 58, 59, 60, 61, 62, 63, 64, 65, 66, 67, 68, 69, 70, 71, 72, 73, 74, 75, 76, 77, 78, 79, 80, 81, 82, 83, 84, 85, 86, 87, 88, 89, 90, 91, 92, 93, 94, 95, 96, 97, 98, 99, 100]\n"
     ]
    }
   ],
   "source": [
    "cola.display()"
   ]
  },
  {
   "cell_type": "markdown",
   "metadata": {},
   "source": [
    "#### Arboles\n",
    "Los Arboles son una estructura de datos muy conocida esta estructura se basa en nodos donde existen nodos hijos, nodos hojas y  un nodo root existen varios tipos de arboles:"
   ]
  },
  {
   "cell_type": "markdown",
   "metadata": {},
   "source": [
    "##### Arbol basico\n",
    "la mayoria de los arboles de estructura de datos comparten una forma similar, existen terminologias como:\n",
    "- **Nodo(Node)**: es un elemento que contiene una llave o un valor, y esta conectado a otros nodos llamados nodos hijos o un nodo padre, si un nodo no tiene nodos hijos se le llama nodo externo o leaf node\n",
    "\n",
    "- **Raiz(Root)**: es el primer nodo del arbol, es el nodo que no tiene padre\n",
    "\n",
    "- **Ramas(Edge)**: es el enlaze entre dos nodos"
   ]
  },
  {
   "cell_type": "code",
   "execution_count": 21,
   "metadata": {},
   "outputs": [
    {
     "name": "stdout",
     "output_type": "stream",
     "text": [
      "3\n",
      "2\n",
      "[4]\n"
     ]
    }
   ],
   "source": [
    "# Creamos una Clase \n",
    "class TreeNode:\n",
    "    def __init__(self):\n",
    "        self.value = None #Nodo Padre/Raiz\n",
    "        self.children = [] #Nodo Hijo\n",
    "\n",
    "    def add_child(self, node):\n",
    "        self.children.append(node)# agregar un hijo\n",
    "\n",
    "    def remove_child(self, node):\n",
    "        self.children.remove(node)# eliminar un hijo\n",
    "\n",
    "Arbol = TreeNode()\n",
    "Arbol.value = 3\n",
    "Arbol.children = TreeNode()\n",
    "Arbol.children.value = 2\n",
    "Arbol.children.add_child(4)\n",
    "print(Arbol.value)\n",
    "print(Arbol.children.value)\n",
    "print(Arbol.children.children)"
   ]
  },
  {
   "cell_type": "markdown",
   "metadata": {},
   "source": [
    "##### Arbol binario (binary tree)\n",
    "es un tipo de arbol con una estructura muy definida un nodo padre y dos nodos hijos, izquierda y derecha \n",
    "un concepto muy importante tambien es el tree Trasversal, es la forma en la que se visita cada nodo en el arbol por si quieres encontrar el ultimo valor, el mas grande, el mas bajo:\n",
    "- **Inorder**: visita todos los nodos de la izquierda, luego visita el nodo padre y termina con los de la derecha\n",
    "\n",
    "- **Preorder**: visita el nodo padre y luego visita los de la izquierda y derecha\n",
    "\n",
    "- **Postorder**: visita todos los nodos de la izquierda, luego visita los de la derecha y termina con el nodo padre"
   ]
  },
  {
   "cell_type": "code",
   "execution_count": 30,
   "metadata": {},
   "outputs": [
    {
     "name": "stdout",
     "output_type": "stream",
     "text": [
      "Inorder traversal \n",
      "4->2->5->1->3->\n",
      "Preorder traversal \n",
      "1->2->4->5->3->\n",
      "Postorder traversal \n",
      "4->5->2->3->1->"
     ]
    }
   ],
   "source": [
    "#Creamos un Arbol basico\n",
    "class Tree:\n",
    "    def __init__(self,data):\n",
    "        self.data = data # Nodo Padre/Root\n",
    "        self.left = None # Nodo Izquierdo/Hijo\n",
    "        self.right = None # Nodo Derecho/Hijo\n",
    "\n",
    "def inorder(root):\n",
    "    if root:\n",
    "        inorder(root.left)\n",
    "        print(str(root.data) + \"->\", end='')\n",
    "        inorder(root.right)\n",
    "\n",
    "def postorder(root):\n",
    "    if root:\n",
    "        postorder(root.left)\n",
    "        postorder(root.right)\n",
    "        print(str(root.data) + \"->\", end='')\n",
    "            \n",
    "def preorder(root):\n",
    "    if root:\n",
    "        print(str(root.data) + \"->\", end='')\n",
    "        preorder(root.left)\n",
    "        preorder(root.right)\n",
    "\n",
    "\n",
    "root = Tree(1)\n",
    "root.left = Tree(2)\n",
    "root.right = Tree(3)\n",
    "root.left.left = Tree(4)\n",
    "root.left.right = Tree(5)\n",
    "\n",
    "print(\"Inorder traversal \")\n",
    "inorder(root)\n",
    "\n",
    "print(\"\\nPreorder traversal \")\n",
    "preorder(root)\n",
    "\n",
    "print(\"\\nPostorder traversal \")\n",
    "postorder(root)\n"
   ]
  },
  {
   "cell_type": "markdown",
   "metadata": {},
   "source": [
    "##### Arboles binarios de busqueda\n",
    "este tipo de arbol tienen principios mas especificos:\n",
    "- cada nodo puede tener como maximo dos hijos como lo vimos en el arbol binario\n",
    "- todos los nodos del lado izquierdo son menores al nodo padre\n",
    "- todos los nodos del lado derecho son mayores al nodo padre"
   ]
  },
  {
   "cell_type": "code",
   "execution_count": 4,
   "metadata": {},
   "outputs": [],
   "source": [
    "# creamos la clase BST\n",
    "class BST:\n",
    "    def __init__(self, value):\n",
    "        self.value = value\n",
    "        self.left = None\n",
    "        self.right = None\n",
    "        \n",
    "#atravesamos el arbol de forma inorder\n",
    "def inorder(root):\n",
    "    if root is not None:\n",
    "        inorder(root.left)\n",
    "            \n",
    "        print(str(root.value)+\"->\", end=\" \")\n",
    "            \n",
    "        inorder(root.right)\n",
    "\n",
    "#si queremos ingresar un valor al arbol    \n",
    "def insert(Tree, value):\n",
    "    if Tree is None:\n",
    "        return BST(value)\n",
    "    \n",
    "    if value < Tree.value:\n",
    "        Tree.left = insert(Tree.left, value)\n",
    "    else:\n",
    "        Tree.right = insert(Tree.right, value)\n",
    "    return Tree\n",
    "\n",
    "#encontrar el minimo valor del arbol\n",
    "def minValueNode(Tree):\n",
    "    curr = Tree\n",
    "    \n",
    "    while curr.left is not None:\n",
    "        curr.left\n",
    "    return curr\n",
    "\n",
    "#eliminar un nodo\n",
    "def deleteNode(Tree, value):\n",
    "    if Tree is None:\n",
    "        return Tree\n",
    "    \n",
    "    if value < Tree.value:\n",
    "        Tree.left = deleteNode(Tree.left, value)\n",
    "    elif(value > Tree.value):\n",
    "        Tree.right = deleteNode(Tree.right, value)\n",
    "    else:\n",
    "        if Tree.left is None:\n",
    "            temp = Tree.right\n",
    "            Tree = None\n",
    "            return temp\n",
    "        \n",
    "        elif Tree.right is None:\n",
    "            temp = Tree.left\n",
    "            Tree = None\n",
    "            return temp\n",
    "        \n",
    "        temp = minValueNode(Tree.right)\n",
    "        Tree.value = temp.value\n",
    "        Tree.right = deleteNode(Tree.right, temp.value)\n",
    "    return Tree"
   ]
  },
  {
   "cell_type": "code",
   "execution_count": 5,
   "metadata": {},
   "outputs": [
    {
     "name": "stdout",
     "output_type": "stream",
     "text": [
      "Inorder traversal:  1-> 3-> 4-> 6-> 7-> 8-> 10-> 14-> \n",
      "Delete 10\n",
      "Inorder traversal:  1-> 3-> 4-> 6-> 7-> 8-> 14-> "
     ]
    }
   ],
   "source": [
    "Tree = None\n",
    "Tree = insert(Tree, 8)\n",
    "Tree = insert(Tree, 3)\n",
    "Tree = insert(Tree, 1)\n",
    "Tree = insert(Tree, 6)\n",
    "Tree = insert(Tree, 7)\n",
    "Tree = insert(Tree, 10)\n",
    "Tree = insert(Tree, 14)\n",
    "Tree = insert(Tree, 4)\n",
    "\n",
    "print(\"Inorder traversal: \", end=' ')\n",
    "inorder(Tree)\n",
    "\n",
    "print(\"\\nDelete 10\")\n",
    "Tree = deleteNode(Tree, 10)\n",
    "print(\"Inorder traversal: \", end=' ')\n",
    "inorder(Tree)"
   ]
  },
  {
   "cell_type": "markdown",
   "metadata": {},
   "source": [
    "#### Grafos\n",
    "los grafos son una coleccion de vertices que contienen datos y estan conectados entre otros vertices mediante aristas\n",
    "los grafos son una estructura de datos muy importante en sus algoritmos\n",
    "las partes de los grafos son varias pero solo te dire las mas basicas\n",
    "- **Vertices**: Este vertice puede estar conectado con uno o mas nodos\n",
    "- **Arista**: La arista es la conexion entre dos o mas vertices"
   ]
  },
  {
   "cell_type": "markdown",
   "metadata": {},
   "source": [
    "los grafos se pueden representar de dos formas estandar \n",
    "- **listas de adyacencia**: Son las mas utilizadas y sobre todo en casos donde el numero de vertices es muy superior al numero de aristas\n",
    "- **matrices de adyacencia**: Se usan cuando se busca de forma rapida la conexion de dos vertices"
   ]
  },
  {
   "cell_type": "code",
   "execution_count": 5,
   "metadata": {},
   "outputs": [],
   "source": [
    "# definimos el vertice\n",
    "class Vertice:\n",
    "    #constructor\n",
    "    def __init__(self, val):\n",
    "        self.val = val\n",
    "        self.next = None\n",
    "        self.level = -1\n",
    "        self.nbrs = []\n",
    "    \n",
    "    def addNbrgs(self, val):\n",
    "        if not val in self.nbrs:\n",
    "            self.nbrs.append(val)\n",
    "            \n",
    "class Grafica: #esta clase definira la forma de nuestra estructura\n",
    "    def __init__(self): \n",
    "        self.vertices = {} #se inicia con un diccionario\n",
    "    \n",
    "    def addVertices(self, v):\n",
    "        if v not in self.vertices:\n",
    "            self.vertices[v] = Vertice(v)\n",
    "    \n",
    "    #creamos las aristas \n",
    "    def createEdge(self, a, b):\n",
    "        if a in self.vertices and b in self.vertices:\n",
    "            self.vertices[a].addNbrgs(b)\n",
    "            self.vertices[b].addNbrgs(a)\n",
    "#creamos un grafo\n",
    "def main():\n",
    "    \n",
    "    g = Grafica()\n",
    "    \n",
    "    l = [0,1,2,3,4,5,6]\n",
    "    #agregamos los valores/vertices de l a lista\n",
    "    for v in l:\n",
    "        g.addVertices(v)\n",
    "    #creamos las aristas\n",
    "    a =  [2,0,0,6,6,3,0,5,6,5,0,1,6,4,1,4]\n",
    "    for i in range(0, len(a) -1, 2):\n",
    "        g.createEdge(a[i], a[i+1])\n",
    "    \n",
    "    for v in g.vertices:\n",
    "        print(v, g.vertices[v].nbrs) \n",
    "\n",
    " "
   ]
  },
  {
   "cell_type": "markdown",
   "metadata": {},
   "source": [
    "##### Lista de adyacencia\n",
    "se representa como un una lista de listas enlazadas\n",
    "donde cada lista enlazada representa un vertice y contiene los vertices adyacentes a ese vertice.\n"
   ]
  },
  {
   "cell_type": "code",
   "execution_count": 10,
   "metadata": {},
   "outputs": [
    {
     "name": "stdout",
     "output_type": "stream",
     "text": [
      "0 [2, 6, 5, 1]\n",
      "1 [0, 4]\n",
      "2 [0]\n",
      "3 [6]\n",
      "4 [6, 1]\n",
      "5 [0, 6]\n",
      "6 [0, 3, 5, 4]\n"
     ]
    },
    {
     "data": {
      "text/plain": [
       "'en el lado izquierdo se encuentran los vertices de la grafica y del lado derecho se encuentran los vertices que tiene de vecinos/conectados por aristas'"
      ]
     },
     "execution_count": 10,
     "metadata": {},
     "output_type": "execute_result"
    }
   ],
   "source": [
    "main() \n",
    "\"\"\"en el lado izquierdo se encuentran los vertices de la grafica y del lado derecho se encuentran los vertices que tiene de vecinos/conectados por aristas\"\"\""
   ]
  },
  {
   "cell_type": "markdown",
   "metadata": {},
   "source": [
    "##### Matriz de adyacencia\n",
    "se representa como una lista 2D de V x V vertices, cada fila y columna representa un vertice\n",
    "si el valor de cualquier elemento dentro de la matriz **a[x][y]** es 1 representa que existe una arista conectando el vertice x y el vertice y"
   ]
  },
  {
   "cell_type": "code",
   "execution_count": 12,
   "metadata": {},
   "outputs": [
    {
     "name": "stdout",
     "output_type": "stream",
     "text": [
      "[0, 1, 1, 0, 0, 1, 1]\n",
      "[1, 0, 0, 0, 1, 0, 0]\n",
      "[1, 0, 0, 0, 0, 0, 0]\n",
      "[0, 0, 0, 0, 0, 0, 1]\n",
      "[0, 1, 0, 0, 0, 0, 1]\n",
      "[1, 0, 0, 0, 0, 0, 1]\n",
      "[1, 0, 0, 1, 1, 1, 0]\n"
     ]
    }
   ],
   "source": [
    "def create_adjacency_matrix(vertices, edges):\n",
    "    # Inicializamos una matriz V x V con ceros\n",
    "    V = len(vertices)\n",
    "    matrix = [[0] * V for _ in range(V)]\n",
    "\n",
    "    # Llenamos la matriz según las aristas\n",
    "    for edge in edges:\n",
    "        u, v = edge\n",
    "        matrix[u][v] = 1\n",
    "        matrix[v][u] = 1  # El grafo es no dirigido\n",
    "\n",
    "    return matrix\n",
    "\n",
    "# Ejemplo de uso\n",
    "vertices = [0, 1, 2, 3, 4, 5, 6]\n",
    "aristas = [(2, 0), (0, 6), (6, 3), (0, 5), (6, 5), (0, 1), (6, 4), (1, 4)]\n",
    "adjacency_matrix = create_adjacency_matrix(vertices, aristas)\n",
    "\n",
    "# Imprimimos la matriz\n",
    "for row in adjacency_matrix:\n",
    "    print(row)"
   ]
  },
  {
   "cell_type": "markdown",
   "metadata": {},
   "source": [
    "#### Monticulos(HEAP)\n",
    "Heap es un arbol binario completo que cumple ciertas porpiedades\n",
    "***\n",
    "***\n",
    "donde puede ser un min-heap o un max-heap\n",
    "- **min heap**: es una estructura heap donde el nodo padre debe ser estrictamente menor a sus nodos hijos\n",
    "\n",
    "- **max heap**: lo contrario a min-heap donde el nodo padre debe ser estrictamente mayor a sus nodos hijos\n"
   ]
  },
  {
   "cell_type": "code",
   "execution_count": 3,
   "metadata": {},
   "outputs": [
    {
     "data": {
      "text/plain": [
       "2"
      ]
     },
     "execution_count": 3,
     "metadata": {},
     "output_type": "execute_result"
    }
   ],
   "source": [
    "#Creamos la clase minheap\n",
    "class MinHeap:\n",
    "    def __init__(self):\n",
    "        self.heap = []# creamos un array para guardar los elementos\n",
    "\n",
    "    def insert(self, value):\n",
    "        self.heap.append(value)# agregamos el value que queramos al final de la lista\n",
    "        self._heapify_up(len(self.heap) - 1)#llamamos la funcion _heapify_up para asegurar que se cumpla la propiedad heap\n",
    "\n",
    "    def extract_min(self):# extrae el valor minimo del heap \n",
    "        if not self.heap:# si no hay heap \n",
    "            return None #retorna nada\n",
    "        min_value = self.heap[0] #busca el primer valor que esta en el primer nodo y lo mete a una variable \n",
    "        self.heap[0] = self.heap[-1] #remplaza el primer nodo con el ultimo nodo\n",
    "        self.heap.pop() # elimina el ultimo nodo (ahora este se encuentra en el inicio)\n",
    "        self._heapify_down(0)\n",
    "        return min_value # retorna el valor de min_value\n",
    "    \n",
    "    #tanto _heapify_up y _heapify_down son funciones privadas, es decir no pueden ser llamadas de afuera solo dentro de la clase\n",
    "    def _heapify_up(self, index):\n",
    "        parent = (index - 1) // 2 # busca el indice del nodo padre con esta formula \n",
    "        while index > 0 and self.heap[index] < self.heap[parent]: # mientras el indice no sea el primero y el indice es menor al indice padre\n",
    "            self.heap[index], self.heap[parent] = self.heap[parent], self.heap[index]#intercambia las posiciones\n",
    "            index = parent #ahora index es el padre \n",
    "            parent = (index - 1) // 2 #ahora busca el padre del indice \n",
    "\n",
    "    def _heapify_down(self, index):\n",
    "        left_child = 2 * index + 1 # la posicion del hijo izquierdo segun el array\n",
    "        right_child = 2 * index + 2 # posicion del hijo derecho segun el array\n",
    "        smallest = index #guarda el index con variable smallest\n",
    "\n",
    "        if left_child < len(self.heap) and self.heap[left_child] < self.heap[smallest]:\n",
    "            smallest = left_child\n",
    "        if right_child < len(self.heap) and self.heap[right_child] < self.heap[smallest]:\n",
    "            smallest = right_child\n",
    "\n",
    "        if smallest != index:\n",
    "            self.heap[index], self.heap[smallest] = self.heap[smallest], self.heap[index]\n",
    "            self._heapify_down(smallest)\n",
    "\n",
    "# Ejemplo de uso\n",
    "min_heap = MinHeap()\n",
    "min_heap.insert(5)\n",
    "min_heap.insert(2)\n",
    "min_heap.insert(8)\n",
    "\n",
    "min_heap.extract_min()\n"
   ]
  },
  {
   "cell_type": "markdown",
   "metadata": {},
   "source": [
    "Max heap es casi la misma sintaxis pero con minimos cambios"
   ]
  },
  {
   "cell_type": "code",
   "execution_count": 3,
   "metadata": {},
   "outputs": [],
   "source": [
    "#Creamos la clase maxheap\n",
    "class MaxHeap:\n",
    "    def __init__(self):\n",
    "        self.heap = []# creamos un array para guardar los elementos\n",
    "\n",
    "    def insert(self, value):\n",
    "        self.heap.append(value)# agregamos el value que queramos al final de la lista\n",
    "        self._heapify_up(len(self.heap) - 1)#llamamos la funcion _heapify_up para asegurar que se cumpla la propiedad heap\n",
    "\n",
    "    def extract_max(self):# extrae el valor maximo del heap \n",
    "        if not self.heap:# si no hay heap \n",
    "            return None #retorna nada\n",
    "        max_value = self.heap[0] #busca el primer valor que esta en el primer nodo y lo mete a una variable \n",
    "        self.heap[0] = self.heap[-1] #remplaza el primer nodo con el ultimo nodo\n",
    "        self.heap.pop() # elimina el ultimo nodo (ahora este se encuentra en el inicio)\n",
    "        self._heapify_down(0)\n",
    "        return max_value # retorna el valor de max_value\n",
    "    \n",
    "    #tanto _heapify_up y _heapify_down son funciones privadas, es decir no pueden ser llamadas de afuera solo dentro de la clase\n",
    "    \n",
    "    def _heapify_up(self, index):\n",
    "        parent = (index - 1) // 2 # busca el indice del nodo padre con esta formula \n",
    "        while index > 0 and self.heap[index] > self.heap[parent]: # mientras el indice no sea el primero y el indice es mayor al indice padre\n",
    "            self.heap[index], self.heap[parent] = self.heap[parent], self.heap[index]#intercambia las posiciones\n",
    "            index = parent #ahora index es el padre \n",
    "            parent = (index - 1) // 2 #ahora busca el padre del indice \n",
    "\n",
    "    def _heapify_down(self, index):\n",
    "        left_child = 2 * index + 1 # la posicion del hijo izquierdo segun el array\n",
    "        right_child = 2 * index + 2 # posicion del hijo derecho segun el array\n",
    "        highest = index #guarda el index con variable highest\n",
    "\n",
    "        if left_child < len(self.heap) and self.heap[left_child] > self.heap[highest]:\n",
    "            highest = left_child\n",
    "        if right_child < len(self.heap) and self.heap[right_child] > self.heap[highest]:\n",
    "            highest = right_child\n",
    "\n",
    "        if highest != index:\n",
    "            self.heap[index], self.heap[highest] = self.heap[highest], self.heap[index]\n",
    "            self._heapify_down(highest)\n",
    "max_heap = MaxHeap()\n",
    "max_heap.insert(50)\n",
    "max_heap.insert(42)\n",
    "max_heap.insert(49)\n",
    "max_heap.insert(30)\n",
    "max_heap.insert(20)\n",
    "max_heap.insert(41)\n",
    "max_heap.insert(39)\n",
    "max_heap.insert(5)"
   ]
  },
  {
   "cell_type": "code",
   "execution_count": 4,
   "metadata": {},
   "outputs": [
    {
     "data": {
      "text/plain": [
       "50"
      ]
     },
     "execution_count": 4,
     "metadata": {},
     "output_type": "execute_result"
    }
   ],
   "source": []
  },
  {
   "cell_type": "code",
   "execution_count": null,
   "metadata": {},
   "outputs": [],
   "source": []
  }
 ],
 "metadata": {
  "kernelspec": {
   "display_name": "Python 3",
   "language": "python",
   "name": "python3"
  },
  "language_info": {
   "codemirror_mode": {
    "name": "ipython",
    "version": 3
   },
   "file_extension": ".py",
   "mimetype": "text/x-python",
   "name": "python",
   "nbconvert_exporter": "python",
   "pygments_lexer": "ipython3",
   "version": "3.10.12"
  }
 },
 "nbformat": 4,
 "nbformat_minor": 2
}
