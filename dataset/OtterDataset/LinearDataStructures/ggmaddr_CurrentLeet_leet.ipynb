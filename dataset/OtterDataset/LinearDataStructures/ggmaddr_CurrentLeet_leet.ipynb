{
 "cells": [
  {
   "cell_type": "markdown",
   "metadata": {},
   "source": [
    "## Arrays & Hashing"
   ]
  },
  {
   "cell_type": "markdown",
   "metadata": {},
   "source": [
    "### Medium"
   ]
  },
  {
   "cell_type": "markdown",
   "metadata": {},
   "source": [
    "[5. Longest Palindromic Substring](https://leetcode.com/problems/longest-palindromic-substring/?envType=featured-list&envId=top-interview-questions?envType=featured-list&envId=top-interview-questions)\n"
   ]
  },
  {
   "cell_type": "markdown",
   "metadata": {},
   "source": [
    "Fastest Solution: only check next longer pal. \n",
    "- Loop through the string, r is bounded at index (r = i + 1)\n",
    "    - odd length check:\n",
    "        l = r - (res_len + 2)\n",
    "        \n",
    "    "
   ]
  },
  {
   "cell_type": "code",
   "execution_count": 1,
   "metadata": {},
   "outputs": [
    {
     "data": {
      "text/plain": [
       "'baxabaxab'"
      ]
     },
     "execution_count": 1,
     "metadata": {},
     "output_type": "execute_result"
    }
   ],
   "source": [
    "\n",
    "def longestPalindrome(s: str) -> str:\n",
    "        if s == s[::-1]:\n",
    "            return s\n",
    "\n",
    "        res_L = 0\n",
    "        res_len = 1\n",
    "\n",
    "        for i in range(1, len(s)):\n",
    "            r  = i + 1\n",
    "\n",
    "            # Odd length palindrome\n",
    "            l = r - (res_len+2)\n",
    "            substring = s[l:r]\n",
    "            # l can be negative, so check if it is >= 0\n",
    "            if l >= 0 and isPal(substring):\n",
    "                res_L = l\n",
    "                res_len = len(substring)\n",
    "                # The even wil be shorter, so no need to compute it\n",
    "                continue\n",
    "\n",
    "            # Even length palindrome\n",
    "            l = r - (res_len+1)\n",
    "            substring = s[l:r]\n",
    "            # l can be negative, so check if it is >= 0\n",
    "            if l >= 0 and isPal(substring):\n",
    "                res_L = l\n",
    "                res_len = len(substring)\n",
    "                \n",
    "        return s[res_L:res_L + res_len]\n",
    "    \n",
    "def isPal(str):\n",
    "    for i in range (len(str)//2):\n",
    "        if str[i] != str[len(str)-i-1]:\n",
    "            return False\n",
    "    return True \n",
    "longestPalindrome(\"abaxabaxabb\")\n"
   ]
  },
  {
   "cell_type": "markdown",
   "metadata": {},
   "source": [
    "- Loop through the whole strings. check palin that going outwards at each element.\n",
    "- At each element, expand in 2 ways to check odd length pal, and even length. \n",
    "    - To check odd length, starts R = 1\n",
    "    - To check even length, R = L + 1"
   ]
  },
  {
   "cell_type": "code",
   "execution_count": 2,
   "metadata": {},
   "outputs": [
    {
     "data": {
      "text/plain": [
       "'aba'"
      ]
     },
     "execution_count": 2,
     "metadata": {},
     "output_type": "execute_result"
    }
   ],
   "source": [
    "def longestPalindrome(s: str) -> str:\n",
    "        #for each letter, expands outwards        \n",
    "        resL, resR = 0,0\n",
    "\n",
    "        for i in range(len(s)):\n",
    "            #odd length\n",
    "            l,r = i,i\n",
    "            while l >= 0 and r < len(s) and s[l] == s[r]:\n",
    "                #update before moving outwards\n",
    "                if max(resR - resL + 1, r - l + 1 ) == r - l + 1:\n",
    "                    resR, resL = r, l\n",
    "                l-=1\n",
    "                r+=1\n",
    "            #even length\n",
    "            l, r = i, i+1\n",
    "            #exact same move outward code like above\n",
    "            while l >= 0 and r < len(s) and s[l] == s[r]:\n",
    "                if max(resR - resL + 1, r - l + 1) == r - l +1 :\n",
    "                    resR, resL = r, l\n",
    "                l -=1\n",
    "                r +=1\n",
    "        return s[resL: resR + 1]\n",
    "s = \"babad\"\n",
    "longestPalindrome(s)"
   ]
  },
  {
   "cell_type": "markdown",
   "metadata": {},
   "source": [
    "[36. Valid Sudoku](https://leetcode.com/problems/valid-sudoku/)- defaultdict(set)"
   ]
  },
  {
   "cell_type": "code",
   "execution_count": 54,
   "metadata": {},
   "outputs": [],
   "source": [
    "from collections import defaultdict \n",
    "#36. Valid Sudoku\n",
    "def isValidSudoku(board: list[list[str]]) -> bool:\n",
    "    #Idea: check if each small square belongs to coordinated-associated rows, cols, and sqr \n",
    "    #Implement: create hashset (dict of sets) as cols, rows and sqr\n",
    "    #each row, col, sqr is a set\n",
    "    #Form of each dict(set): e.g: rows = {0: {set}, 1:{set},...}\n",
    "    cols = defaultdict(set) \n",
    "    rows = defaultdict(set)\n",
    "    sqr = defaultdict(set)\n",
    "\n",
    "    for r in range(9):\n",
    "            for c in range(9):\n",
    "                if board[r][c] == \".\":\n",
    "                    continue\n",
    "                if (\n",
    "                    board[r][c] in rows[r]\n",
    "                    or board[r][c] in cols[c]\n",
    "                    or board[r][c] in sqr[(r // 3, c // 3)]\n",
    "                ):\n",
    "                    return False\n",
    "                cols[c].add(board[r][c])\n",
    "                rows[r].add(board[r][c])\n",
    "                sqr[(r // 3, c // 3)].add(board[r][c])\n",
    "\n",
    "    return True"
   ]
  },
  {
   "cell_type": "markdown",
   "metadata": {},
   "source": [
    "[238. Product of Array Except Self (2) - Only pos var](https://leetcode.com/problems/product-of-array-except-self/submissions/1089079628/)"
   ]
  },
  {
   "cell_type": "code",
   "execution_count": null,
   "metadata": {},
   "outputs": [
    {
     "data": {
      "text/plain": [
       "[24, 12, 8, 6]"
      ]
     },
     "metadata": {},
     "output_type": "display_data"
    }
   ],
   "source": [
    "def productExceptSelf(nums: list[int]) -> list[int]:\n",
    "    #Create an preArr stores prefix product up to + (exclude) nums[i]\n",
    "    #Loop from the end of preArr: at each preArr[i], multiply by current postfix product var\n",
    "\n",
    "    #Time: O(n), Space: O(n)\n",
    "    out = [1] * len(nums)\n",
    "    \n",
    "    #Create an arr stores prefix product up to nums[i] + (exclude) nums[i]\n",
    "    for i in range(1, len(nums)):\n",
    "        out[i] = out[i-1] * nums[i-1]\n",
    "    #init first and last in output\n",
    "    pos = nums[len(nums)-1]\n",
    "    for i in range(len(nums)-2, -1, -1):\n",
    "        out[i] = out[i] * pos  #upto prefix * upto postfix \n",
    "        pos *= nums[i]\n",
    "\n",
    "    return out\n",
    "nums = [1,2,3,4]\n",
    "productExceptSelf(nums)"
   ]
  },
  {
   "cell_type": "markdown",
   "metadata": {},
   "source": [
    "[238. Product of Array Except Self - Pre and pos as arrays](https://leetcode.com/problems/product-of-array-except-self/submissions/1089034138/)"
   ]
  },
  {
   "cell_type": "code",
   "execution_count": 3,
   "metadata": {},
   "outputs": [
    {
     "name": "stdout",
     "output_type": "stream",
     "text": [
      "[1, 2, 6, 24] [24, 24, 12, 4] [24, 12, 8, 6]\n"
     ]
    },
    {
     "data": {
      "text/plain": [
       "[24, 12, 8, 6]"
      ]
     },
     "execution_count": 3,
     "metadata": {},
     "output_type": "execute_result"
    }
   ],
   "source": [
    "def productExceptSelf(nums: list[int]) -> list[int]:\n",
    "    #Create 2 arrays: prefix product and postfix product.\n",
    "    #Output[i] = prefix[i-1] * postfix [i+1]\n",
    "    #Time: O(n), Space: O(3n)\n",
    "    l = len(nums)\n",
    "    pre, pos= [nums[0]]*l, [nums[l-1]]*l\n",
    "    j = l - 2\n",
    "    for i in range(1, l):\n",
    "        pre[i] = pre[i-1] * nums[i]\n",
    "        pos[j] = pos[j+1] * nums[j]\n",
    "        j-=1\n",
    "    #init first and last in output\n",
    "    out = [pos[1]]*l\n",
    "    out[l-1] = pre[l-2]\n",
    "\n",
    "    for i in range(1,l-1):\n",
    "        out[i] = pre[i-1]*pos[i+1]\n",
    "\n",
    "    print(pre, pos, out)\n",
    "    return out\n",
    "\n",
    "nums = [1,2,3,4]\n",
    "productExceptSelf(nums)"
   ]
  },
  {
   "cell_type": "markdown",
   "metadata": {},
   "source": [
    "[128. Longest Consecutive Sequence. Original](https://leetcode.com/problems/longest-consecutive-sequence/)"
   ]
  },
  {
   "cell_type": "markdown",
   "metadata": {},
   "source": [
    "If a number is part of a sequence, it'll visited at most twice. If a number is only a sequence of itself, it'll be visited once. So time complexity = O(2n) = O(n).\n",
    "Use a set"
   ]
  },
  {
   "cell_type": "code",
   "execution_count": 60,
   "metadata": {},
   "outputs": [
    {
     "name": "stdout",
     "output_type": "stream",
     "text": [
      "21\n"
     ]
    },
    {
     "data": {
      "text/plain": [
       "7"
      ]
     },
     "execution_count": 60,
     "metadata": {},
     "output_type": "execute_result"
    }
   ],
   "source": [
    "def longestConsecutive(nums: list[int]) -> int:\n",
    "    numSet = set(nums)\n",
    "    longest = 0\n",
    "    for num in numSet:  \n",
    "        #check if num is the start of the seq:\n",
    "        if (num - 1) not in numSet:\n",
    "            len = 0\n",
    "            while (num+len) in numSet:\n",
    "                len+=1\n",
    "            longest = max(longest,len)\n",
    "\n",
    "    return longest\n",
    "nums = [9,1,4,7,3,-1,0,5,8,-1,6]\n",
    "longestConsecutive(nums)\n"
   ]
  },
  {
   "cell_type": "markdown",
   "metadata": {},
   "source": [
    "[347. Top K Frequent Elements ](https://leetcode.com/problems/top-k-frequent-elements/submissions/)"
   ]
  },
  {
   "cell_type": "markdown",
   "metadata": {},
   "source": [
    "Bucket sort - Space: Linear, Time: Linear\n",
    "i(count): 0 1 2 3 4\n",
    "values: "
   ]
  },
  {
   "cell_type": "code",
   "execution_count": 68,
   "metadata": {},
   "outputs": [
    {
     "data": {
      "text/plain": [
       "[1, 2]"
      ]
     },
     "execution_count": 68,
     "metadata": {},
     "output_type": "execute_result"
    }
   ],
   "source": [
    "def topKFrequent(nums: list[int], k: int) -> list[int]:\n",
    "#bucket sort: create an array where index is the freqs, value is list of nums associating with the freqs\n",
    "# Space: O(N). Size of bucket always <= len(nums) because max freq of any num is len(nums).\n",
    "    count = {} # count dict\n",
    "    \n",
    "    buckets = [[] for i in range (len(nums)+1)] #freqs start from 1 to including len(nums)\n",
    "\n",
    "    #manually count instead of collections.Counter(nums)\n",
    "    for n in nums:\n",
    "        count[n] = 1 + count.get(n, 0) #count.get(n, 0) means count[n] = 0 if n has not exist in dict\n",
    "    \n",
    "    #bucket's index is the freqs, value is list of nums associating with the freqs\n",
    "    for num,freq in count.items():\n",
    "        \n",
    "        buckets[freq].append(num)\n",
    "    res = []\n",
    "    for i in range(len(buckets)-1, 0, -1): #start from last index\n",
    "        if len(buckets[i]) == 0:\n",
    "            continue\n",
    "        for num in buckets[i]:\n",
    "            res.append(num)\n",
    "            if len(res) == k:\n",
    "                return res\n",
    "    return res\n",
    "nums = [1,1,1,2,2,3]\n",
    "k = 2\n",
    "topKFrequent(nums,k)"
   ]
  },
  {
   "cell_type": "markdown",
   "metadata": {},
   "source": [
    "Heap - O(KlogN)"
   ]
  },
  {
   "cell_type": "code",
   "execution_count": 66,
   "metadata": {},
   "outputs": [
    {
     "name": "stdout",
     "output_type": "stream",
     "text": [
      "[(3, 1), (2, 2), (1, 3)]\n"
     ]
    },
    {
     "data": {
      "text/plain": [
       "[1, 2]"
      ]
     },
     "execution_count": 66,
     "metadata": {},
     "output_type": "execute_result"
    }
   ],
   "source": [
    "from collections import Counter\n",
    "import heapq \n",
    "\n",
    "def topKFrequent(nums: list[int], k: int) -> list[int]:\n",
    "    count = Counter(nums)\n",
    "    \n",
    "    #create a list of tuples (fre, num) for heapifying (we maintain heap by values)\n",
    "    heap = [(fre, num) for (num, fre) in count.items() ]\n",
    "    heapq._heapify_max(heap)\n",
    "    print(heap)\n",
    "\n",
    "    mlist = []\n",
    "    for i in range(k):\n",
    "        mlist.append(heapq._heappop_max(heap)[1]) #get the num (heap[1])\n",
    "    return mlist\n",
    "nums = [1,1,1,2,2,3]\n",
    "k = 2\n",
    "topKFrequent(nums, k)"
   ]
  },
  {
   "cell_type": "markdown",
   "metadata": {},
   "source": [
    "## Two Pointers"
   ]
  },
  {
   "cell_type": "markdown",
   "metadata": {},
   "source": [
    "### Medium"
   ]
  },
  {
   "cell_type": "markdown",
   "metadata": {},
   "source": [
    "[167. Two Sum II - Input Array Is Sorted](https://leetcode.com/problems/two-sum-ii-input-array-is-sorted/)"
   ]
  },
  {
   "cell_type": "code",
   "execution_count": 60,
   "metadata": {},
   "outputs": [],
   "source": [
    "def twoSum(numbers: list[int], target: int) -> list[int]:\n",
    "    #2 pointers: at start and at end. \n",
    "    # When sum(nums[i]+nums[j])> target -> decrement end p (decrease larger num in the sum)\n",
    "    #sum(nums[i]+nums[j]) < target -> increase start p \n",
    "    #Time: O(n), Space: O(1)\n",
    "\n",
    "    pre, pos = 0, len(numbers)-1\n",
    "    while pre < pos:\n",
    "        sum = numbers[pre]+numbers[pos]\n",
    "        if sum < target:\n",
    "            pre += 1\n",
    "        elif sum > target:\n",
    "            pos -= 1\n",
    "        else:\n",
    "            return [pre+1, pos+1]\n",
    "    return []"
   ]
  },
  {
   "cell_type": "markdown",
   "metadata": {},
   "source": [
    "[15. 3Sum](https://leetcode.com/problems/3sum/)"
   ]
  },
  {
   "cell_type": "code",
   "execution_count": 61,
   "metadata": {},
   "outputs": [
    {
     "data": {
      "text/plain": [
       "[[-2, 0, 2], [-2, 1, 1]]"
      ]
     },
     "metadata": {},
     "output_type": "display_data"
    },
    {
     "data": {
      "text/plain": [
       "[[-1, -1, 2], [-1, 0, 1]]"
      ]
     },
     "metadata": {},
     "output_type": "display_data"
    }
   ],
   "source": [
    "def threeSum(nums: list[int]) -> list[list[int]]:\n",
    "    nums.sort()\n",
    "    res = []\n",
    "\n",
    "    #i is pivot (leftest), l next to i, r is end of array\n",
    "    for i in range(len(nums)):\n",
    "        #no repeated triplet, nums[i-1] worked with everything on right of nums[i]\n",
    "        if i > 0 and nums[i] == nums[i-1]:\n",
    "            continue \n",
    "        #can't offset from positive pivot \n",
    "        if nums[i] > 0:\n",
    "            break\n",
    "        l, r = i+1, len(nums)-1\n",
    "        while l < r:\n",
    "            \n",
    "            sum = nums[i]+nums[l]+nums[r]\n",
    "            \n",
    "            if sum == 0:\n",
    "                res.append([nums[i],nums[l],nums[r]])\n",
    "                #only need to update 1 pointer\n",
    "                l+=1 \n",
    "                #no repeated triplet\n",
    "                while nums[l-1] == nums[l] and l<r :\n",
    "                    l+=1\n",
    "                \n",
    "            elif sum > 0:\n",
    "                r-=1\n",
    "            elif sum < 0:\n",
    "                l+=1\n",
    "        \n",
    "    return res\n",
    "nums = [-1,0,1,2,-1,-4]\n",
    "nums1= [-2,0,1,1,2]\n",
    "display(threeSum(nums1))\n",
    "display(threeSum(nums))"
   ]
  },
  {
   "cell_type": "markdown",
   "metadata": {},
   "source": [
    "## Stack"
   ]
  },
  {
   "cell_type": "markdown",
   "metadata": {},
   "source": [
    "### Easy"
   ]
  },
  {
   "cell_type": "markdown",
   "metadata": {},
   "source": [
    "[20. Valid Parentheses](https://leetcode.com/problems/valid-parentheses/)\n",
    "1. Loop through the strings\n",
    "2. If a open -> append to OpenStacks\n",
    "3. Elif (close) & OF THE TOP of OpenStack: pop\n",
    "4. Elif stack != 0 (still have non-open char -> illegal close char)"
   ]
  },
  {
   "cell_type": "code",
   "execution_count": 62,
   "metadata": {},
   "outputs": [],
   "source": [
    "def isValid(s: str) -> bool:\n",
    "    brack = {'{':'}', '[':']', '(':')'}\n",
    "    stack = []\n",
    "    for i in range(len(s)):\n",
    "        if s[i] in brack: # if current visited char is OPEN\n",
    "            stack.append(s[i])\n",
    "        elif len(stack) != 0: #if current char is CLOSE\n",
    "            if s[i] != brack[stack[-1]]: #peek if CLOSE <=> top of OPENs stack\n",
    "                return False\n",
    "            stack.pop()\n",
    "        # len(stack) == 0 + still have CLOSE char -> illegal close char\n",
    "        elif len(stack) == 0: \n",
    "            return False\n",
    "    if len(stack) != 0:\n",
    "        return False\n",
    "    return True"
   ]
  },
  {
   "cell_type": "markdown",
   "metadata": {},
   "source": [
    "### Medium"
   ]
  },
  {
   "cell_type": "markdown",
   "metadata": {},
   "source": [
    "[155. Min Stack](https://leetcode.com/problems/min-stack/)"
   ]
  },
  {
   "cell_type": "code",
   "execution_count": 7,
   "metadata": {},
   "outputs": [
    {
     "name": "stdout",
     "output_type": "stream",
     "text": [
      "Minimum element in the stack: -2\n"
     ]
    }
   ],
   "source": [
    "class MinStack:\n",
    "    #Create a another minstack next to normal stack that stores upto current min val\n",
    "    #minST always maintain the same size as stack\n",
    "    def __init__(self):\n",
    "        self.stack = []\n",
    "        self.minSt = []\n",
    "\n",
    "    def push(self, val: int) -> None:\n",
    "        self.stack.append(val)\n",
    "        #temp min\n",
    "        # Only consider minSt[-1] if minSt not EMPTY\n",
    "        self.minSt.append(min(val, self.minSt[-1] if self.minSt else val))\n",
    "\n",
    "\n",
    "    def pop(self) -> None:\n",
    "        #pop minSt always true. at any of its index, is always the stack's min up to that stack index: \n",
    "        # #st = [2, -1, 1, 0,-2]; min=[2,-1,-1,-1,-2]\n",
    "        self.minSt.pop()\n",
    "        self.stack.pop()\n",
    "\n",
    "    def top(self) -> int:\n",
    "        return self.stack[-1]\n",
    "\n",
    "    def getMin(self) -> int:\n",
    "        return self.minSt[-1]\n",
    "\n",
    "minStack = MinStack()\n",
    "minStack.push(-2)\n",
    "minStack.push(0)\n",
    "minStack.push(-3)\n",
    "minStack.getMin()\n",
    "minStack.pop()\n",
    "minStack.top()\n",
    "minStack.getMin()\n",
    "\n",
    "print(f\"Minimum element in the stack: {minStack.getMin()}\")  "
   ]
  },
  {
   "cell_type": "markdown",
   "metadata": {},
   "source": [
    "[150. Evaluate Reverse Polish Notation](https://leetcode.com/problems/evaluate-reverse-polish-notation/)"
   ]
  },
  {
   "cell_type": "markdown",
   "metadata": {},
   "source": [
    "This is postfix travel, utilize stack. Pop nums when encounter sign. Then push the result back to stack"
   ]
  },
  {
   "cell_type": "code",
   "execution_count": 64,
   "metadata": {},
   "outputs": [
    {
     "data": {
      "text/plain": [
       "6"
      ]
     },
     "execution_count": 64,
     "metadata": {},
     "output_type": "execute_result"
    }
   ],
   "source": [
    "import math\n",
    "def evalRPN(tokens: list[str]) -> int:\n",
    "    st = []\n",
    "    res = 0\n",
    "    for i in tokens:\n",
    "        ch = i\n",
    "        if ch == '+':\n",
    "            res = st.pop() + st.pop()\n",
    "        elif ch == '-':\n",
    "            #later digit on top, pop first\n",
    "            b,a = st.pop(), st.pop()\n",
    "            res = a - b\n",
    "        elif ch == '*':\n",
    "            res = st.pop() * st.pop()\n",
    "        elif ch == '/':\n",
    "            #cast to int\n",
    "            #e.g: -0.5 = 0, 8.9=8\n",
    "            b,a = st.pop(), st.pop()\n",
    "            res = int(a/b)\n",
    "        else: #if num\n",
    "            res = int(i)\n",
    "        st.append(res)\n",
    "    return st.pop()\n",
    "tokens = [\"10\",\"6\",\"9\",\"3\",\"+\",\"-11\",\"*\",\"/\",\"*\",\"17\",\"+\",\"5\",\"+\"]\n",
    "evalRPN(tokens)"
   ]
  },
  {
   "cell_type": "markdown",
   "metadata": {},
   "source": [
    "[22. Generate Parentheses](https://leetcode.com/problems/generate-parentheses/)"
   ]
  },
  {
   "cell_type": "markdown",
   "metadata": {},
   "source": [
    "[Generate Parentheses - Stack - Leetcode 22](https://www.youtube.com/watch?v=s9fokUqJ76A&t=1s)\n",
    "\n",
    "<img src=\"assets/l22.png\" width=800px />"
   ]
  },
  {
   "cell_type": "code",
   "execution_count": 10,
   "metadata": {},
   "outputs": [
    {
     "data": {
      "text/plain": [
       "['((()))', '(()())', '(())()', '()(())', '()()()']"
      ]
     },
     "execution_count": 10,
     "metadata": {},
     "output_type": "execute_result"
    }
   ],
   "source": [
    "def generateParenthesis(n: int) -> list[str]:\n",
    "\n",
    "    out = []\n",
    "    #comb = [] #each combination\n",
    "    \n",
    "    #Learned recursion TREE with # of o and c parentheses from 0 to n\n",
    "    #add ( when open < n, add ) when close < open\n",
    "    \n",
    "    def backtrack(ocount, ccount, comb):\n",
    "        #base case\n",
    "        if ocount == n and ccount == n:\n",
    "            out.append(\"\".join(comb))\n",
    "        \n",
    "        if ocount < n:\n",
    "            comb.append('(')\n",
    "            backtrack(ocount+1, ccount, comb)\n",
    "            comb.pop()\n",
    "            \n",
    "        if ccount < ocount: \n",
    "            comb.append(')')\n",
    "            backtrack(ocount, ccount+1, comb)\n",
    "            comb.pop()\n",
    "            \n",
    "\n",
    "    \n",
    "    backtrack(0,0,[])\n",
    "    return out\n",
    "n=3\n",
    "generateParenthesis(n)"
   ]
  },
  {
   "cell_type": "markdown",
   "metadata": {},
   "source": [
    "[739. Daily Temperatures](https://leetcode.com/problems/daily-temperatures/)"
   ]
  },
  {
   "cell_type": "markdown",
   "metadata": {},
   "source": [
    "Monotonic Decreasing Stack. O(n). Visit each elem once + Pop at most once -> O(2n)\n"
   ]
  },
  {
   "cell_type": "code",
   "execution_count": 2,
   "metadata": {},
   "outputs": [],
   "source": [
    "def dailyTemperatures(temperatures: list[int]) -> list[int]:\n",
    "    \n",
    "    #Pattern reg: find nearest correlation -> stack.pop get the most recent val within the correlation.\n",
    "    \n",
    "    #Add temps to stack maintaining decreasingly monotonic, only (keep) pop when found the nearest warm (increase t)\n",
    "    st = [] #val:count stack\n",
    "    out = [0]*len(temperatures)\n",
    "    \n",
    "    for i,t in enumerate(temperatures):\n",
    "        while st and t > st[-1][0]: #st[-1][0] = temp at top node\n",
    "            stT,stIndex = st.pop()\n",
    "            out[stIndex] = i - stIndex            \n",
    "        st.append((t,i)) #i, t\n",
    "\n",
    "    return out"
   ]
  },
  {
   "cell_type": "markdown",
   "metadata": {},
   "source": [
    "## Binary search\n",
    "Seach in sorted arrays.\n",
    "Find mid = (left + right) // 2. Avoid overflow: mid = l + ((r-l)//2)"
   ]
  },
  {
   "cell_type": "markdown",
   "metadata": {},
   "source": [
    "[74. Search a 2D Matrix](https://leetcode.com/problems/search-a-2d-matrix/)"
   ]
  },
  {
   "cell_type": "markdown",
   "metadata": {},
   "source": [
    "Bin search ROW (a range) -> bin search value in found ROW\n",
    "\n",
    "Given matrix m*n: O(logm + logn) = O(log(m * n))"
   ]
  },
  {
   "cell_type": "markdown",
   "metadata": {},
   "source": [
    "Turn into 1 1d array"
   ]
  },
  {
   "cell_type": "code",
   "execution_count": 13,
   "metadata": {},
   "outputs": [
    {
     "name": "stdout",
     "output_type": "stream",
     "text": [
      "False\n"
     ]
    }
   ],
   "source": [
    "def searchMatrix(matrix: list[list[int]], target: int) -> bool:\n",
    "    ROW, COL = len(matrix), len(matrix[0])\n",
    "    i,j = 0, ROW*COL-1 #start\n",
    "    \n",
    "    while i<=j:\n",
    "        midIndex = (i+j)//2\n",
    "        ro , co = midIndex//COL , midIndex % COL\n",
    "        if matrix[ro][co] == target:\n",
    "            return True\n",
    "        if matrix[ro][co] < target:\n",
    "            i = midIndex +1\n",
    "        else:\n",
    "            j = midIndex -1\n",
    "    \n",
    "    return False\n",
    "\n",
    "matrix = [[1,3,5,7],[10,11,16,20],[23,30,34,60]]\n",
    "target = 21\n",
    "print(searchMatrix(matrix, target))"
   ]
  },
  {
   "cell_type": "code",
   "execution_count": 14,
   "metadata": {},
   "outputs": [],
   "source": [
    "def searchMatrix(matrix: list[list[int]], target: int) -> bool:\n",
    "    ROW, COL = len(matrix), len(matrix[0])\n",
    "    top, bottom = 0, ROW - 1\n",
    "    \n",
    "    while top <= bottom:\n",
    "        midRow = (bottom + top)//2\n",
    "        if target > matrix[midRow][-1]:\n",
    "            top = midRow + 1\n",
    "        elif target < matrix[midRow][0]:\n",
    "            bottom = midRow - 1\n",
    "        else:\n",
    "            break\n",
    "    l, r = 0, COL -1 \n",
    "    while l <= r:\n",
    "        mid = (l+r)//2\n",
    "        if target < matrix[midRow][mid]:\n",
    "            r = mid - 1\n",
    "        elif target > matrix[midRow][mid]:\n",
    "            l = mid + 1\n",
    "        else: \n",
    "            return True\n",
    "    return False"
   ]
  },
  {
   "cell_type": "markdown",
   "metadata": {},
   "source": [
    "Convert 2d -> 1d and do easy bin search"
   ]
  },
  {
   "cell_type": "code",
   "execution_count": 7,
   "metadata": {},
   "outputs": [
    {
     "name": "stdout",
     "output_type": "stream",
     "text": [
      "True\n"
     ]
    }
   ],
   "source": [
    "def searchMatrix(matrix: list[list[int]], target: int) -> bool:\n",
    "    nums = [num for sublist in matrix for num in sublist]\n",
    "    mid = len(nums)//2\n",
    "    i,j= 0, len(nums)-1\n",
    "    while i<=j:\n",
    "        mid = (i+j)//2\n",
    "        if target == nums[mid]:\n",
    "            return True\n",
    "        if target > nums[mid]:\n",
    "            i = mid+1\n",
    "        else:\n",
    "            j = mid -1\n",
    "    return False\n",
    "\n",
    "matrix = [[1,3,5,7],[10,11,16,20],[23,30,34,60]]\n",
    "target = 3\n",
    "print(searchMatrix(matrix, target))"
   ]
  },
  {
   "cell_type": "markdown",
   "metadata": {},
   "source": [
    "[875. Koko Eating Bananas](https://leetcode.com/problems/koko-eating-bananas/)"
   ]
  },
  {
   "cell_type": "markdown",
   "metadata": {},
   "source": [
    "Lesson learned:\n",
    "- If it seems way too complicated, start with worst brute force\n",
    "- [0...k] search can always reduced to bin search"
   ]
  },
  {
   "cell_type": "code",
   "execution_count": 290,
   "metadata": {},
   "outputs": [
    {
     "data": {
      "text/plain": [
       "4"
      ]
     },
     "execution_count": 290,
     "metadata": {},
     "output_type": "execute_result"
    }
   ],
   "source": [
    "import math\n",
    "def minEatingSpeed(piles: list[int], h: int) -> int:\n",
    "    #h >= len(piles). Always. When h = len(piles), k = max(piles) (each hour, each pile)\n",
    "    #In general: 1 <= k < = max (piles) for all h\n",
    "    \n",
    "    i, j = 1, max(piles)\n",
    "    k = j\n",
    "\n",
    "    while i <= j:\n",
    "        mid = (i + j) // 2\n",
    "        totalTime = 0\n",
    "        \n",
    "        for p in piles:\n",
    "            totalTime += math.ceil(float(p) / mid)\n",
    "            \n",
    "        if totalTime <= h: #This means k is larger than should be, that it eats fater than given hours\n",
    "            k = mid\n",
    "            j = mid - 1\n",
    "        else:\n",
    "            i = mid + 1\n",
    "    return k\n",
    "            \n",
    "piles = [3,6,7,11]\n",
    "h = 8\n",
    "minEatingSpeed(piles,h)\n"
   ]
  },
  {
   "cell_type": "markdown",
   "metadata": {},
   "source": [
    "## Sliding Window\n",
    "\n",
    "l = 0;  \n",
    "for r in len(arr):  \n",
    "\n",
    "    determine when len(window) reaches max to reduce with\n",
    "    while\n",
    "    \n"
   ]
  },
  {
   "cell_type": "markdown",
   "metadata": {},
   "source": [
    "### Easy"
   ]
  },
  {
   "cell_type": "markdown",
   "metadata": {},
   "source": [
    "[121. Best Time to Buy and Sell Stock](https://leetcode.com/problems/best-time-to-buy-and-sell-stock/)"
   ]
  },
  {
   "cell_type": "code",
   "execution_count": 2,
   "metadata": {},
   "outputs": [],
   "source": [
    "def maxProfit(prices: list[int]) -> int:\n",
    "    buy = prices[0] #buy price\n",
    "    mx = 0 #max profit\n",
    "    for i in prices:\n",
    "        if i < buy: #update best buy price\n",
    "            buy = i\n",
    "        elif i > buy and i - buy > mx: #update max profit\n",
    "            mx = i - buy\n",
    "    return mx"
   ]
  },
  {
   "cell_type": "markdown",
   "metadata": {},
   "source": [
    "### Medium"
   ]
  },
  {
   "cell_type": "markdown",
   "metadata": {},
   "source": [
    "[3. Longest Substring Without Repeating Characters](https://leetcode.com/problems/longest-substring-without-repeating-characters/)"
   ]
  },
  {
   "cell_type": "code",
   "execution_count": 3,
   "metadata": {},
   "outputs": [],
   "source": [
    "def lengthOfLongestSubstring(s: str) -> int:\n",
    "    l = 0 #left pointer\n",
    "    longest = 0\n",
    "    cset = set()\n",
    "    for r in range(len(s)):\n",
    "        while s[r] in cset: #cannot proceed with this string's start l, remove that.\n",
    "            cset.remove(s[l])\n",
    "            l+=1\n",
    "\n",
    "        cset.add(s[r])\n",
    "        longest = max(longest, r-l+1)\n",
    "    return longest"
   ]
  },
  {
   "cell_type": "markdown",
   "metadata": {},
   "source": [
    "[424. Longest Repeating Character Replacement](https://leetcode.com/problems/longest-repeating-character-replacement/)"
   ]
  },
  {
   "cell_type": "markdown",
   "metadata": {},
   "source": [
    "- approach is counterintuitive with no str manipulation\n",
    "- concerns only max occurencies of a char\n",
    "- concern subtraction equation \"len(window) - mx\" = nums of replaced-needed chars (RNC)\n",
    "\n",
    "        Universal mx instead of loop hashmap to get true mx\n",
    "    \n",
    "    \n",
    "- **mx** not always represent mx count in inside window, \n",
    "- mx: largest count so far thoughout history, not temp largest in countdict.\n",
    "\n",
    "- if mx reduced, \n",
    "    - dont bother, wait until it raised and beat universal largest mx because universal mx results universal longest (return). (largest len(w) <-> largest mx)\n",
    "    - if true mx can't raised to beat universal mx, don't bother. Longest not updated, not what we return.\n",
    "    - \"while (r-l+1) - mx > k \"stays (false) with universal mx, which means \n",
    "        -  we don't care reducing windown with universal mx in hand, we ignore and expand window until finding char can beat universal mx, then \"while\" reducing later if necessary\n",
    "        \n",
    "        - reduce that way won't create error?... reducing later kindof thing? missing something?...\n",
    "\n",
    "    - **longest = max(longest, r - l+1)** longest won't bother to update, wait until mx raised, not mx reduced.\n"
   ]
  },
  {
   "cell_type": "code",
   "execution_count": 25,
   "metadata": {},
   "outputs": [
    {
     "data": {
      "text/plain": [
       "9"
      ]
     },
     "execution_count": 25,
     "metadata": {},
     "output_type": "execute_result"
    }
   ],
   "source": [
    "def characterReplacement(s: str, k: int) -> int:\n",
    "    l = 0\n",
    "    longest = 0\n",
    "    mx = 0\n",
    "    count = defaultdict(int)\n",
    "    for r in range(len(s)):\n",
    "        #concurrencies of chars\n",
    "        count[s[r]] +=1\n",
    "        \n",
    "        #mxcount is updated max of all count[s[r]] so far\n",
    "        mx = max(count[s[r]], mx)\n",
    "\n",
    "        #removing leftmost char in window to ensure there's enough k to replace needed in w (reduce len(w) in \"len(w) - mx\")\n",
    "        #\"while\" instead of if because there's case leftmost char is maxcount char -> maxcount char reduced -> number of RNC (non-mxcount char) exceed k remains \n",
    "        #->invalid substr cannot move on (cannot add more char to the w already have too many RNC, must \"while\" keep reduce w)\n",
    "        #another logic using while: mx is not true mx of table, when temp mx < mx, window kept spreading \n",
    "        # -> reducing window once found next mx will REQUIRE multipleb remove\n",
    "        while (r-l+1) - mx > k:\n",
    "            count[s[l]]-=1\n",
    "            l+=1\n",
    "        longest = max(longest, r - l+1)\n",
    "    return longest\n",
    "\n",
    "s = \"ABCFBBBAACCCCC\"\n",
    "k = 4\n",
    "characterReplacement(s, k)"
   ]
  },
  {
   "cell_type": "code",
   "execution_count": 28,
   "metadata": {},
   "outputs": [
    {
     "data": {
      "text/plain": [
       "9"
      ]
     },
     "execution_count": 28,
     "metadata": {},
     "output_type": "execute_result"
    }
   ],
   "source": [
    "from collections import defaultdict\n",
    "\n",
    "#Window reaches max and needs to reduce with `while` - when:\n",
    "    #len(window)-maxf > k\n",
    "\n",
    "def characterReplacement(s: str, k: int) -> int:\n",
    "    l = 0\n",
    "    res = 0 #max(len(window)-maxf)\n",
    "    maxf = 0 #max freq of a Character\n",
    "    # Keep track of count = {Char: Count} in a window\n",
    "    count = defaultdict(int)\n",
    "    \n",
    "    for r in range(len(s)):\n",
    "        count[s[r]] +=1\n",
    "        \n",
    "        maxf = max(maxf, count[s[r]])\n",
    "        #move left when window length - maxf > k\n",
    "        #not enough k to replace non-maxf characters\n",
    "        while ((r-l+1) - maxf) > k:\n",
    "            count[s[l]] -= 1\n",
    "            l+=1\n",
    "        \n",
    "        res = max(res, r-l+1)\n",
    "    \n",
    "    return res\n",
    "        \n",
    "s = \"ABCFBBBAACCCCC\"\n",
    "k = 4\n",
    "characterReplacement(s, k)\n",
    "        \n",
    "        \n",
    "    "
   ]
  },
  {
   "cell_type": "markdown",
   "metadata": {},
   "source": [
    "[567. Permutation in String](https://leetcode.com/problems/permutation-in-string/)"
   ]
  },
  {
   "cell_type": "markdown",
   "metadata": {},
   "source": [
    "Used 2 hashmap d1, d2\n",
    "\n",
    "        Even if we reduced s2[l] which is not same char as s2[r], it doesn't matter\n",
    "        we needed to reduced whatever it is anyway until\n",
    "        match counts of the char s2[r] (which means any char in d2)\n",
    "        Because it's a essential PRIOR step to move forward to find a permutation"
   ]
  },
  {
   "cell_type": "code",
   "execution_count": 54,
   "metadata": {},
   "outputs": [
    {
     "data": {
      "text/plain": [
       "True"
      ]
     },
     "execution_count": 54,
     "metadata": {},
     "output_type": "execute_result"
    }
   ],
   "source": [
    "from collections import defaultdict\n",
    "def checkInclusion(s1: str, s2: str) -> bool:\n",
    "    d1, d2 = defaultdict(int), defaultdict(int)\n",
    "    l = 0\n",
    "    for i in s1:\n",
    "        d1[i]+= 1\n",
    "            \n",
    "    for r in range(len(s2)):\n",
    "        char = s2[r]\n",
    "        if char not in d1:\n",
    "            if d1 == d2:\n",
    "                return True\n",
    "            #reset d2\n",
    "            d2.clear()\n",
    "            continue\n",
    "        \n",
    "        if not d2: #set l = r (start new strs) after d2 reset to empty\n",
    "            l = r\n",
    "\n",
    "        d2[char]+= 1 #update count of char in d2\n",
    "        #IMPORTANT: determine while when: d2[char] > d1[char]\n",
    "        #Ensure ALL CHAR count in d2 <= d1.\n",
    "        while d2[char] > d1[char]:\n",
    "            d2[s2[l]] -=1\n",
    "            l += 1\n",
    "        if d1 == d2:\n",
    "            return True\n",
    "    print(d1, d2)\n",
    "    return False\n",
    "s1 = \"adc\"\n",
    "s2 = \"dcda\"\n",
    "checkInclusion(s1,s2)"
   ]
  },
  {
   "cell_type": "markdown",
   "metadata": {},
   "source": [
    "Optimized sliding window with **match** count\n",
    "\n",
    "Maintain a match variable, which stores the #chars (out of the 26 alphabets), THAT have the same occurence in **s1** and **current window in s2s2s2**. \n",
    "\n",
    "When we slide the window, \n",
    "\n",
    "- if the deduction of the last element and the addition of the new element leads to a new frequency match of any of the characters, we increment the match by 1. \n",
    "- Else if count of a char was the same earlier(prior to addition or removal) as in s1\n",
    "\n",
    "    => NEW mismatch that was JUST USED TO be taken as prev **match**! -> decrement **match**.\n",
    "     \n",
    "- Else, do nothing, since **match** already up-to-date with all the matched and mismatched chars before.\n",
    "After the shifting of the window, the count evaluates to 26, it means all the characters match in frequency totally. So, we return a True in that case immediately."
   ]
  },
  {
   "cell_type": "code",
   "execution_count": 3,
   "metadata": {},
   "outputs": [
    {
     "data": {
      "text/plain": [
       "False"
      ]
     },
     "execution_count": 3,
     "metadata": {},
     "output_type": "execute_result"
    }
   ],
   "source": [
    "def checkInclusion(s1: str, s2: str) -> bool:\n",
    "    \n",
    "    #This not check is essential because if move on, can't access s2[i] as s1[i] in next examine range(len(s1)):\n",
    "    if len(s2) < len(s1):\n",
    "        return False\n",
    "    \n",
    "    match = 0\n",
    "    s1c,s2c = [0]*26, [0]*26\n",
    "    \n",
    "    #examine counts up to len(s1):\n",
    "    for i in range(len(s1)):\n",
    "        #s1c records s1, s2c records s2\n",
    "        s1c[ord(s1[i]) - ord('a')] += 1\n",
    "        s2c[ord(s2[i]) - ord('a')] += 1\n",
    "    \n",
    "    #examine init match of 26 chars:\n",
    "    for i in range(26):\n",
    "        if s1c[i] == s2c[i]:\n",
    "            match += 1\n",
    "    \n",
    "    l = 0\n",
    "    #examine the rest\n",
    "    for r in range(len(s1), len(s2)):\n",
    "        if match == 26: return True\n",
    "        \n",
    "        #Move l + r, consider both moves\n",
    "        \n",
    "        index = ord(s2[r]) - ord('a') #right char\n",
    "        s2c[index] +=1 #(I)\n",
    "        #After (I) update        \n",
    "        #Match ONLY INCRE when count of current char in 2 str matches <3\n",
    "        #Match ONLY DECRE when what JUST PREVIOUS match => now mismatch, must be taken out of match\n",
    "        if s1c[index] == s2c[index]:\n",
    "            match += 1\n",
    "        elif s1c[index] == s2c[index] - 1:\n",
    "            match -=1 \n",
    "        \n",
    "        index = ord(s2[l]) - ord('a') #left char\n",
    "        s2c[index] -=1\n",
    "        if s1c[index] == s2c[index]:\n",
    "            match += 1\n",
    "        elif s1c[index] == s2c[index] + 1:\n",
    "            match -=1 \n",
    "        l+=1\n",
    "    return match == 26\n",
    "\n",
    "s1 = \"adc\"\n",
    "s2 = \"dcdba\"\n",
    "checkInclusion(s1,s2)\n"
   ]
  },
  {
   "cell_type": "code",
   "execution_count": 59,
   "metadata": {},
   "outputs": [
    {
     "data": {
      "text/plain": [
       "True"
      ]
     },
     "execution_count": 59,
     "metadata": {},
     "output_type": "execute_result"
    }
   ],
   "source": [
    "#Try hashmap instead of array to keep 26char's count, less efficient\n",
    "def checkInclusion(s1: str, s2: str) -> bool:\n",
    "    if len(s2) < len(s1):\n",
    "        return False\n",
    "    \n",
    "    s1c, s2c = defaultdict(int), defaultdict(int)\n",
    "    \n",
    "    #Get counter of both strings up to s1 size\n",
    "    for i in range(len(s1)):\n",
    "        s1c[s1[i]]+=1\n",
    "        s2c[s2[i]]+=1\n",
    "\n",
    "    match = 0\n",
    "    #Init matches with 26 chars\n",
    "    for i in range(26):\n",
    "        char = chr(i+ord('a'))\n",
    "        if s1c[char] == s2c[char]:\n",
    "            match += 1\n",
    "    \n",
    "    l = 0\n",
    "    for r in range(len(s1),len(s2)):\n",
    "        #Shift right\n",
    "        s2c[s2[r]] += 1\n",
    "        \n",
    "        if s1c[s2[r]] == s2c[s2[r]]:\n",
    "            match += 1\n",
    "        elif s1c[s2[r]] == s2c[s2[r]] - 1:\n",
    "            match -= 1\n",
    "        \n",
    "        #Shift right\n",
    "        s2c[s2[l]] -= 1\n",
    "        if s1c[s2[l]] == s2c[s2[l]]:\n",
    "            match += 1\n",
    "        elif s1c[s2[l]] == s2c[s2[l]] + 1:\n",
    "            match -= 1\n",
    "        \n",
    "        l+=1\n",
    "        \n",
    "        if match == 26:\n",
    "            return True\n",
    "    return False\n",
    "        \n",
    "s1 = \"abc\"\n",
    "s2 = \"bbbca\"\n",
    "checkInclusion(s1,s2)"
   ]
  },
  {
   "cell_type": "markdown",
   "metadata": {},
   "source": [
    "## Linked List"
   ]
  },
  {
   "cell_type": "markdown",
   "metadata": {},
   "source": [
    "### <a id='initll'>Init Linked List for testing.</a>"
   ]
  },
  {
   "cell_type": "code",
   "execution_count": 62,
   "metadata": {},
   "outputs": [],
   "source": [
    "from typing import Optional\n",
    "\n",
    "# Definition for singly-linked list.\n",
    "class ListNode:\n",
    "    def __init__(self, val=0, next=None):\n",
    "        self.val = val\n",
    "        self.next = next\n",
    "    def __repr__(self):\n",
    "        s = \"(\"+ str(self.val) + \") => \"\n",
    "        tm = self.next\n",
    "        while tm:\n",
    "            s += str(tm.val) + \" -> \"\n",
    "            tm = tm.next\n",
    "        return s\n",
    "\n",
    "def print_list(head: Optional[ListNode]) -> None:\n",
    "    while head:\n",
    "        print(head.val, end=\" -> \")\n",
    "        head = head.next\n",
    "    print(\"None\")\n",
    "\n",
    "# Helper function to create a linked list from a list of values\n",
    "def create_list(values):\n",
    "    if not values:\n",
    "        return None\n",
    "    head = ListNode(values[0])\n",
    "    current = head\n",
    "    for val in values[1:]:\n",
    "        current.next = ListNode(val)\n",
    "        current = current.next\n",
    "    return head\n",
    "\n"
   ]
  },
  {
   "cell_type": "code",
   "execution_count": 5,
   "metadata": {},
   "outputs": [
    {
     "name": "stdout",
     "output_type": "stream",
     "text": [
      "Original Linked List:\n",
      "1 -> 2 -> 3 -> 4 -> 5 -> None\n"
     ]
    }
   ],
   "source": [
    "# Test Case 1: Basic Test\n",
    "head1 = create_list([1, 2, 3, 4, 5])\n",
    "print(\"Original Linked List:\")\n",
    "print_list(head1)\n",
    "# reversed_head1 = reverseList(head1)\n",
    "# print(\"Reversed Linked List:\")\n",
    "# print_linked_list(reversed_head1)"
   ]
  },
  {
   "cell_type": "markdown",
   "metadata": {},
   "source": [
    "### Easy\n",
    "Run Init [LinkedList](#initll) before testing methods"
   ]
  },
  {
   "cell_type": "markdown",
   "metadata": {},
   "source": [
    "#### [206. Reverse Linked List](https://leetcode.com/problems/reverse-linked-list/)"
   ]
  },
  {
   "cell_type": "markdown",
   "metadata": {},
   "source": [
    "        Reverse: prev is always the reversed list, not head, or temp"
   ]
  },
  {
   "cell_type": "code",
   "execution_count": 12,
   "metadata": {},
   "outputs": [
    {
     "name": "stdout",
     "output_type": "stream",
     "text": [
      "(1) => \n"
     ]
    },
    {
     "data": {
      "text/plain": [
       "(4) => 3 -> 2 -> 1 -> "
      ]
     },
     "execution_count": 12,
     "metadata": {},
     "output_type": "execute_result"
    }
   ],
   "source": [
    "\n",
    "def reverseList(head: Optional[ListNode]) -> Optional[ListNode]:\n",
    "    next = None #real next's next\n",
    "    prev = None\n",
    "    temp = head\n",
    "    \n",
    "    while temp:\n",
    "        #save next\n",
    "        next = temp.next \n",
    "        #point to prev\n",
    "        temp.next = prev\n",
    "        #update prev\n",
    "        prev = temp\n",
    "        #update temp\n",
    "        temp = next\n",
    "        # if temp == None:\n",
    "        #     head = prev\n",
    "    print(head)\n",
    "    return prev #at the end, prev is head\n",
    "reverseList(create_list([1,2,3,4]))"
   ]
  },
  {
   "cell_type": "markdown",
   "metadata": {},
   "source": [
    "#### [21. Merge Two Sorted Lists](https://leetcode.com/problems/merge-two-sorted-lists/)"
   ]
  },
  {
   "cell_type": "markdown",
   "metadata": {},
   "source": [
    "##### Iterative"
   ]
  },
  {
   "cell_type": "markdown",
   "metadata": {},
   "source": [
    "Create new list and gradually add next smaller nodes from two lists to the merged.\n",
    "\n",
    "        Learned: temp = dummy\n",
    "        \n",
    "        temp.next = s; temp = temp.next means temp helps adding things and act for dummy"
   ]
  },
  {
   "cell_type": "code",
   "execution_count": null,
   "metadata": {},
   "outputs": [],
   "source": [
    "def mergeTwoLists(self, list1: Optional[ListNode], list2: Optional[ListNode]) -> Optional[ListNode]:\n",
    "    \n",
    "        dummy = ListNode()\n",
    "        temp = dummy\n",
    "        \n",
    "        while list1 and list2:\n",
    "            if list1.val < list2.val:\n",
    "                temp.next = list1\n",
    "                list1 = list1.next\n",
    "            else:\n",
    "                temp.next = list2\n",
    "                list2 = list2.next\n",
    "            temp = temp.next\n",
    "        temp.next = list1 or list2\n",
    "        \n",
    "        dummy = dummy.next\n",
    "        return dummy"
   ]
  },
  {
   "cell_type": "markdown",
   "metadata": {},
   "source": [
    "##### Recursive \n",
    "Without using another list"
   ]
  },
  {
   "cell_type": "code",
   "execution_count": null,
   "metadata": {},
   "outputs": [],
   "source": [
    "def mergeTwoLists(self, list1: Optional[ListNode], list2: Optional[ListNode]) -> Optional[ListNode]:  \n",
    "    def merging(list1, list2):\n",
    "        \n",
    "        #base:list1 or list2 completely examined\n",
    "        if not list1:\n",
    "            return list2\n",
    "        if not list2:\n",
    "            return list1\n",
    "        \n",
    "        #the smaller will be assigned its next\n",
    "        #mergetwolist function acts like returning, providing the smaller node between two node args and keep moving on\"\n",
    "        if list1.val < list2.val:\n",
    "            list1.next = merging(list1.next, list2)\n",
    "            #providing the smaller results for the parent recursion\n",
    "            return list1 \n",
    "        else:\n",
    "            list2.next = merging(list2.next, list1)\n",
    "            return list2\n",
    "    \n",
    "    return merging(list1, list2)"
   ]
  },
  {
   "cell_type": "markdown",
   "metadata": {},
   "source": [
    "#### [141. Linked List Cycle](https://leetcode.com/problems/linked-list-cycle/)\n"
   ]
  },
  {
   "cell_type": "code",
   "execution_count": null,
   "metadata": {},
   "outputs": [],
   "source": [
    "def hasCycle(head: Optional[ListNode]) -> bool:\n",
    "    #Guaranteed to meet when having a circle\n",
    "    #Note: From meet point -> knot = head -> knot. \n",
    "    # ==> Find knot by move f to head, f and s incre 1 until meet\n",
    "    f,s = head, head\n",
    "\n",
    "    while f and f.next:\n",
    "        f = f.next.next\n",
    "        s = s.next\n",
    "        if s == f:\n",
    "            return True\n",
    "    return False"
   ]
  },
  {
   "cell_type": "markdown",
   "metadata": {},
   "source": [
    "### Medium"
   ]
  },
  {
   "cell_type": "markdown",
   "metadata": {},
   "source": [
    "#### [143. Reorder List](https://leetcode.com/problems/reorder-list/)"
   ]
  },
  {
   "cell_type": "markdown",
   "metadata": {},
   "source": [
    "**Approach 1** (Easy, slow): Create a arr, add each node to list in order. \n",
    "\n",
    "-> Reorder by indexing list "
   ]
  },
  {
   "cell_type": "code",
   "execution_count": 3,
   "metadata": {},
   "outputs": [
    {
     "name": "stdout",
     "output_type": "stream",
     "text": [
      "1 -> 2 -> 3 -> 4 -> None\n",
      "(1) => 4 -> 2 -> 3 -> \n"
     ]
    }
   ],
   "source": [
    "def reorderList(head: Optional[ListNode]) -> None:\n",
    "    \"\"\"\n",
    "    Do not return anything, modify head in-place instead.\n",
    "    \"\"\"\n",
    "    if head.next == None or head.next.next == None:\n",
    "        return head\n",
    "        \n",
    "    cur = head\n",
    "    nodelist = list()\n",
    "    while cur:\n",
    "        nodelist.append(cur)\n",
    "        cur = cur.next\n",
    "    \n",
    "    r = len(nodelist) - 1\n",
    "    stop =len(nodelist) //2\n",
    "\n",
    "    for l in range (stop):\n",
    "        # todo: examine 3-4-5 case.   \n",
    "        nodelist[l].next = nodelist[r]\n",
    "        nodelist[r].next = nodelist[l+1]\n",
    "        r-=1\n",
    "    if len(nodelist) % 2 == 0:\n",
    "        nodelist[r+1].next = None\n",
    "    else:\n",
    "        nodelist[r].next = None\n",
    "    return head\n",
    "    \n",
    "head = [1,2,3,4]\n",
    "\n",
    "head1 = create_list(head)\n",
    "print_list(head1)\n",
    "\n",
    "print(reorderList(head1))"
   ]
  },
  {
   "cell_type": "markdown",
   "metadata": {},
   "source": [
    "**Approach 2**\n",
    "1. Split into two halves. Using f,s pointers (s incre 1, f incre 2). When f no next -> s at middle\n",
    "2. Reverse second half\n",
    "3. Merge side by side 2 halves"
   ]
  },
  {
   "cell_type": "code",
   "execution_count": 4,
   "metadata": {},
   "outputs": [
    {
     "name": "stdout",
     "output_type": "stream",
     "text": [
      "(1) => 9 -> 2 -> 8 -> 3 -> 7 -> 4 -> 6 -> 5 -> \n"
     ]
    }
   ],
   "source": [
    "import math\n",
    "def reorderList(head: Optional[ListNode]) -> None:\n",
    "    \"\"\"\n",
    "    Do not return anything, modify head in-place instead.\n",
    "    \"\"\"\n",
    "    # firstnd middle\n",
    "    s, f = head, head\n",
    "    while f.next and f.next.next:\n",
    "        s = s.next\n",
    "        f = f.next.next\n",
    "    \n",
    "    #split\n",
    "    second = s.next #saved secondcond half\n",
    "    s.next = None #cut tail at mid\n",
    "    #mid 's' still belongs to head -> cut tail of head\n",
    "    \n",
    "    #Reversecond\n",
    "    prev = None\n",
    "    while second:\n",
    "        nextNode = second.next\n",
    "        second.next = prev\n",
    "        prev = second\n",
    "        second = nextNode\n",
    "    \n",
    "    second = prev #prev is reversecondd list\n",
    "    \n",
    "    #Merge 2 halves\n",
    "    \n",
    "    first = head #first half\n",
    "    \n",
    "    while first and second:\n",
    "        fnext, snext = first.next, second.next\n",
    "        first.next = second\n",
    "        second.next = fnext\n",
    "        first, second = fnext,snext\n",
    "    return head #for testing\n",
    "    \n",
    "head = [1,2,3,4,5,6,7,8,9]\n",
    "\n",
    "head1 = create_list(head)\n",
    "\n",
    "print(reorderList(head1))"
   ]
  },
  {
   "cell_type": "markdown",
   "metadata": {},
   "source": [
    "#### [19. Remove Nth Node From End of List](https://leetcode.com/problems/remove-nth-node-from-end-of-list/)"
   ]
  },
  {
   "cell_type": "code",
   "execution_count": null,
   "metadata": {},
   "outputs": [
    {
     "name": "stdout",
     "output_type": "stream",
     "text": [
      "(2) => \n"
     ]
    }
   ],
   "source": [
    "def removeNthFromEnd(head: Optional[ListNode], n: int) -> Optional[ListNode]:\n",
    "    \n",
    "    dummy = ListNode()\n",
    "    #Dummy to remove head.\n",
    "    dummy.next = head \n",
    "    l, r = dummy, head\n",
    "\n",
    "    while n > 1:\n",
    "       r = r.next\n",
    "       n -=1\n",
    "    #push r to last\n",
    "    while r.next: \n",
    "        r = r.next\n",
    "        l = l.next\n",
    "    l.next = l.next.next\n",
    "    \n",
    "    return dummy.next # return dummy.next instead of head to avoid situation remove head\n",
    "\n",
    "head = [1,2]\n",
    "\n",
    "head1 = create_list(head)\n",
    "print(removeNthFromEnd(head1,2))\n",
    "        \n",
    "       "
   ]
  },
  {
   "cell_type": "markdown",
   "metadata": {},
   "source": [
    "#### [287. Find the Duplicate Number](https://leetcode.com/problems/find-the-duplicate-number/description/)"
   ]
  },
  {
   "cell_type": "code",
   "execution_count": null,
   "metadata": {},
   "outputs": [],
   "source": [
    "def findDuplicate(nums: list[int]) -> int:\n",
    "    #floyd's hare and tortoise\n",
    "    \n",
    "    s,f = 0, 0\n",
    "    #do while loop instead of while s!=f to run the first loop\n",
    "    while True:\n",
    "        s = nums[s]\n",
    "        f = nums[nums[f]]\n",
    "        if s == f:\n",
    "            break\n",
    "\n",
    "    #when s and f meet, set f to beginning\n",
    "    f = 0\n",
    "    #each takes 1 steps\n",
    "    while s != f :\n",
    "        s = nums[s]\n",
    "        f = nums[f]\n",
    "            \n",
    "    return s"
   ]
  },
  {
   "cell_type": "code",
   "execution_count": 3,
   "metadata": {},
   "outputs": [
    {
     "data": {
      "text/plain": [
       "2"
      ]
     },
     "execution_count": 3,
     "metadata": {},
     "output_type": "execute_result"
    }
   ],
   "source": [
    "def findDuplicate(nums: list[int]) -> int:\n",
    "    s, f = nums[0], nums[0]\n",
    "    \n",
    "    while f < len(nums):\n",
    "        s = nums[s]\n",
    "        f = nums[nums[f]]\n",
    "        \n",
    "        if s == f:\n",
    "            break\n",
    "    s2 = nums[0]\n",
    "    while s2 != s:\n",
    "        s = nums[s]\n",
    "        s2 = nums[s2]\n",
    "    return s\n",
    "    \n",
    "findDuplicate([1,3,4,2,2])"
   ]
  },
  {
   "cell_type": "markdown",
   "metadata": {},
   "source": [
    "#### [2. Add Two Numbers](https://leetcode.com/problems/add-two-numbers/)"
   ]
  },
  {
   "cell_type": "code",
   "execution_count": null,
   "metadata": {},
   "outputs": [
    {
     "data": {
      "text/plain": [
       "(8) => 9 -> 9 -> 9 -> 0 -> 0 -> 0 -> 1 -> "
      ]
     },
     "execution_count": 5,
     "metadata": {},
     "output_type": "execute_result"
    }
   ],
   "source": [
    "def addTwoNumbers(l1: Optional[ListNode], l2: Optional[ListNode]) -> Optional[ListNode]:\n",
    "        res = ListNode()\n",
    "        temp = res\n",
    "        carr = 0 #carry\n",
    "        \n",
    "        #finsih loop while both l1 and l2 end\n",
    "        while l1 or l2:\n",
    "            \n",
    "            if l1 and l2:\n",
    "                ssum = l1.val + l2.val + carr\n",
    "            elif l1:\n",
    "                ssum = l1.val + carr \n",
    "            elif l2:\n",
    "                ssum = l2.val + carr\n",
    "            \n",
    "            temp.val = ssum%10\n",
    "            carr = ssum//10\n",
    "\n",
    "            l1 = l1.next if l1 else None\n",
    "            l2 = l2.next if l2 else None\n",
    "            \n",
    "            if l1 or l2:\n",
    "                temp.next = ListNode()\n",
    "                temp = temp.next\n",
    "                \n",
    "        if carr == 1:\n",
    "            temp.next = ListNode()\n",
    "            temp = temp.next\n",
    "            temp.val = 1\n",
    "        return res\n",
    "l1 = create_list([9,9,9,9,9,9,9])\n",
    "l2 = create_list([9,9,9,9])\n",
    "addTwoNumbers(l1,l2)"
   ]
  },
  {
   "cell_type": "markdown",
   "metadata": {},
   "source": [
    "#### [146. LRU Cache](https://leetcode.com/problems/lru-cache/)"
   ]
  },
  {
   "cell_type": "markdown",
   "metadata": {},
   "source": [
    "1. <b> <font color='yellow'>Lessons</font> </b>\n",
    "Create nodes next to head and tail like left, right that points to head, tail. To refer head/tail, only used left.next or right.prev\n",
    "\n",
    "-> To reduce complexity of code, reduce edge case where **head** and **tail** may not have **prev** and **next** like other nodes\n",
    "\n",
    "<b> <font color='yellow'>Each time LRU change</font> </b>\n",
    "Create 2 function: remove node, insert node to list\n",
    "    "
   ]
  },
  {
   "cell_type": "markdown",
   "metadata": {},
   "source": [
    "2. <b> <font color='yellow'>Approach</font> </b> LinkedList + HashMap for Put O(1) + Get O(1)\n",
    "- array inefficient for changing the order of elements from most to least recently used\n",
    "\n",
    "- To get any element O(1), we need to know the parent node of get node for order transition (getnode -> head, parent->get.next)\n",
    "- To retrieve parent node O(1), node must point to **parent** \n",
    "                \n",
    "            -> doule linkedlist\n",
    "\n",
    "- hashmap for put only is ineffecient for remaining the order of most to LRU element, need to corporate **linkedlist**.\n",
    "\n",
    "\n"
   ]
  },
  {
   "cell_type": "code",
   "execution_count": null,
   "metadata": {},
   "outputs": [
    {
     "name": "stdout",
     "output_type": "stream",
     "text": [
      "get 1 -1\n",
      "get 2 3\n",
      "(0) => \n",
      "{2: (2: 3), 4: (4: 1)}\n"
     ]
    }
   ],
   "source": [
    "class LRUCache:\n",
    "\n",
    "    def __init__(self, capacity: int):\n",
    "        self.capacity = capacity\n",
    "        self.head = Node(0,0) #most recent used\n",
    "        self.tail = Node(0,0) #least recent used\n",
    "        self.mdict = {}\n",
    "        self.tail.next, self.head.prev = self.head, self.tail\n",
    "        \n",
    "    def remove(self,node):\n",
    "        #all nodes have prev and next thanks to head and tail\n",
    "        prev, next = node.prev, node.next\n",
    "        prev.next = next\n",
    "        next.prev = prev\n",
    "        \n",
    "    def insert(self,node):\n",
    "        prev, next = self.head.prev, self.head\n",
    "        prev.next = next.prev =node\n",
    "        node.next, node.prev = next, prev\n",
    "        \n",
    "        \n",
    "    def get(self, key: int) -> int:\n",
    "        if key not in self.mdict:\n",
    "            return -1\n",
    "        node = self.mdict[key]\n",
    "        #each time use the element, remove and reinsert\n",
    "        self.remove(node)\n",
    "        self.insert(node)\n",
    "        return node.val\n",
    "    \n",
    "    def put(self, key: int, value: int) -> None:\n",
    "        if key in self.mdict:\n",
    "            self.remove(self.mdict[key])\n",
    "        \n",
    "        nNode = Node(key=key, val=value)\n",
    "        #add to dict and list\n",
    "        self.mdict[key] = nNode\n",
    "        self.insert(nNode)\n",
    "        \n",
    "        if len(self.mdict) > self.capacity:\n",
    "            lru = self.tail.next\n",
    "            self.remove(lru)\n",
    "            self.mdict.pop(lru.key)\n",
    "        \n",
    "    def __str__(self) -> str:\n",
    "        s = \"(\"+ str(self.head.val) + \") => \"\n",
    "        tm = self.head.next\n",
    "        while tm:\n",
    "            s += str(tm.val) + \" -> \"\n",
    "            tm = tm.next\n",
    "        s+='\\n'\n",
    "        s+=str(self.mdict)\n",
    "        return s\n",
    "   \n",
    "    def __repr__(self):\n",
    "        s = \"(\"+ str(self.head.val) + \") => \"\n",
    "        tm = self.head.next\n",
    "        while tm:\n",
    "            s += str(tm.val) + \" -> \"\n",
    "            tm = tm.next\n",
    "        s+='\\n'\n",
    "        s+=str(self.mdict)\n",
    "        return s\n",
    "class Node():\n",
    "    def __init__(self, key, val, next = None, prev=None):\n",
    "        self.key = key\n",
    "        self.val = val\n",
    "        self.next = next\n",
    "        self.prev = prev\n",
    "    def __str__(self) -> str:\n",
    "        return \"(\" +  str(self.key) + \": \" + str(self.val) + \")\"\n",
    "    def __repr__(self) -> str:\n",
    "        return \"(\" + str(self.key) + \": \" + str(self.val) + \")\"\n",
    "\n",
    "capacity = 1\n",
    "\n",
    "obj = LRUCache(capacity)\n",
    "# param_1 = obj.get(3)\n",
    "obj.put(2, 1)\n",
    "obj.get(2)\n",
    "obj.put(3, 2)\n",
    "obj.get(2)\n",
    "obj.get(3)\n",
    "\n",
    "# obj.put(4, 1)\n",
    "print(obj)"
   ]
  },
  {
   "cell_type": "markdown",
   "metadata": {},
   "source": [
    "#### [138. Copy List with Random Pointer](https://leetcode.com/problems/add-two-numbers/)\n"
   ]
  },
  {
   "cell_type": "markdown",
   "metadata": {},
   "source": [
    "Approach: Go through 2 iterations\n",
    "1. Create new deep copy nodes, map old nodes to new nodes in dict\n",
    "\n",
    "2. Linked nodes' next and rands\n",
    "- Link rands by mapping new nodes in dict by using relationships in old nodes\n",
    "\n",
    "\n"
   ]
  },
  {
   "cell_type": "code",
   "execution_count": null,
   "metadata": {},
   "outputs": [],
   "source": [
    "#debug helpers\n",
    "def create_linked_list(head_list):\n",
    "    if not head_list:\n",
    "        return None\n",
    "\n",
    "    # Create nodes and store them in a dictionary with their indices\n",
    "    nodes = {}\n",
    "    for i, (val, _) in enumerate(head_list):\n",
    "        nodes[i] = Node(val)\n",
    "\n",
    "    # Connect nodes based on the second element of each sublist\n",
    "    for i, (_, random_index) in enumerate(head_list):\n",
    "        if random_index is not None:\n",
    "            nodes[i].random = nodes[random_index]\n",
    "\n",
    "    # Connect nodes based on their order in the original list\n",
    "    for i in range(len(head_list) - 1):\n",
    "        nodes[i].next = nodes[i + 1]\n",
    "\n",
    "    return nodes[0]\n",
    "class Node:\n",
    "    def __init__(self, x: int, next: 'Node' = None, random: 'Node' = None):\n",
    "        self.val = int(x)\n",
    "        self.next = next\n",
    "        self.random = random\n",
    "    def __repr__(self):\n",
    "        current = self\n",
    "        s = \"\"\n",
    "        while current:\n",
    "            value = current.val\n",
    "            random_node = current.random.val if current.random else None\n",
    "            s+=f\"({value}, {random_node}) -> \"\n",
    "            current = current.next\n",
    "        s+=\"None\"\n",
    "        return s\n",
    "    "
   ]
  },
  {
   "cell_type": "code",
   "execution_count": null,
   "metadata": {},
   "outputs": [
    {
     "data": {
      "text/plain": [
       "(7, None) -> (13, 7) -> (11, 1) -> (10, 11) -> (1, 7) -> None"
      ]
     },
     "execution_count": 6,
     "metadata": {},
     "output_type": "execute_result"
    }
   ],
   "source": [
    "from typing import Optional\n",
    "\n",
    "def copyRandomList(head: 'Optional[Node]') -> 'Optional[Node]':\n",
    "        \n",
    "        temp = head\n",
    "        mdict = {None: None} #in case mdict[temp.next] or mdict[temp.random] null \n",
    "        \n",
    "        #map in dict {Key: Val} = {Original Node: New Node}\n",
    "        while temp:\n",
    "                mdict[temp] = Node(temp.val)\n",
    "                temp = temp.next\n",
    "        \n",
    "        temp = head\n",
    "        \n",
    "        while temp:\n",
    "                copiedN = mdict[temp]\n",
    "                #copiedN is the copied verson of temp\n",
    "                # mdict[temp.random] is the copied version of temp.random\n",
    "                # => mdict[temp.random] is random version of newNode\n",
    "                # So as \"next\"\n",
    "                copiedN.next = mdict[temp.next]\n",
    "                #mdict[temp.random] is the deep copied node newNode.random\n",
    "                copiedN.random = mdict[temp.random]\n",
    "                temp = temp.next\n",
    "                \n",
    "        return mdict[head]\n",
    "\n",
    "\n",
    "head_list = [[7, None], [13, 0], [11, 4], [10, 2], [1, 0]]\n",
    "head_node = create_linked_list(head_list)\n",
    "\n",
    "copyRandomList(head_node)\n",
    "        \n",
    "        "
   ]
  },
  {
   "cell_type": "markdown",
   "metadata": {},
   "source": [
    "## Trees\n",
    "A tree include trees.\n",
    "1. Base case\n",
    "2. Call function on left subtree (root.left)\n",
    "3. Call function on right subtree (root.right)\n",
    "4. Join function/return  \n",
    "**Inorder**: left -> node -> right  \n",
    "**Pre**: node -> left ->; **Post**: left->right->node"
   ]
  },
  {
   "cell_type": "code",
   "execution_count": null,
   "metadata": {},
   "outputs": [],
   "source": [
    "from collections import deque\n",
    "def inorderTraversal(root):\n",
    "    stack = []\n",
    "    result = []\n",
    "    current = root\n",
    "\n",
    "    while stack or current:\n",
    "        # Reach the leftmost node\n",
    "        while current:\n",
    "            stack.append(current)\n",
    "            current = current.left\n",
    "        # Process the node\n",
    "        current = stack.pop()\n",
    "        result.append(current.val)\n",
    "        # Visit the right subtree\n",
    "        current = current.right\n",
    "\n",
    "    return result\n",
    "def preorderTraversal(root):\n",
    "    if not root:\n",
    "        return []\n",
    "    \n",
    "    stack = [root]\n",
    "    result = []\n",
    "\n",
    "    while stack:\n",
    "        node = stack.pop()\n",
    "        result.append(node.val)\n",
    "        \n",
    "        # Push right first so that left is processed first\n",
    "        if node.right:\n",
    "            stack.append(node.right)\n",
    "        if node.left:\n",
    "            stack.append(node.left)\n",
    "\n",
    "    return result\n",
    "def postorderTraversal(root):\n",
    "    if not root:\n",
    "        return []\n",
    "    \n",
    "    stack = [root]\n",
    "    result = []\n",
    "    \n",
    "    while stack:\n",
    "        node = stack.pop()\n",
    "        result.append(node.val)\n",
    "        \n",
    "        # Push left first so that right is processed first\n",
    "        if node.left:\n",
    "            stack.append(node.left)\n",
    "        if node.right:\n",
    "            stack.append(node.right)\n",
    "    \n",
    "    # Reverse the result because we need left -> right -> root\n",
    "    return result[::-1]\n",
    "\n",
    "def inorderDFS(root):\n",
    "    if not root:\n",
    "        return []\n",
    "    return inorderDFS(root.left) + [root.val] + inorderDFS(root.right)\n",
    "def BFS(root):\n",
    "    q = deque([root])\n",
    "    while q:\n",
    "        for i in range(len(q)):\n",
    "            node = q.popleft()\n",
    "            print(node)\n",
    "            if node.left: q.append(node.left)\n",
    "            if node.right: q.append(node.right)\n"
   ]
  },
  {
   "cell_type": "markdown",
   "metadata": {},
   "source": [
    "### Easy"
   ]
  },
  {
   "cell_type": "markdown",
   "metadata": {},
   "source": [
    "#### Init Tree"
   ]
  },
  {
   "cell_type": "code",
   "execution_count": 71,
   "metadata": {},
   "outputs": [],
   "source": [
    "from typing import Optional\n",
    "class TreeNode:\n",
    "    def __init__(self, val=0, left=None, right=None):\n",
    "        self.val = val\n",
    "        self.left = left\n",
    "        self.right = right\n",
    "    def __repr__(self):\n",
    "        result = \"tree: {\"\n",
    "        queue = [self]\n",
    "\n",
    "        while queue:\n",
    "            current = queue.pop(0)\n",
    "\n",
    "            if current:\n",
    "                result += str(current.val) + \" \"\n",
    "\n",
    "                # Enqueue left and right children\n",
    "                queue.append(current.left)\n",
    "                queue.append(current.right)\n",
    "            else:\n",
    "                result += \"null \"\n",
    "        result += \"}\"\n",
    "        return result.rstrip()\n",
    "def to_tree(lst):\n",
    "    if not lst:\n",
    "        return None\n",
    "\n",
    "    root = TreeNode(lst[0])\n",
    "    nodes = [root]\n",
    "    i = 1\n",
    "\n",
    "    while nodes and i < len(lst):\n",
    "        current = nodes.pop(0)\n",
    "\n",
    "        if lst[i] is not None:\n",
    "            current.left = TreeNode(lst[i])\n",
    "            nodes.append(current.left)\n",
    "\n",
    "        i += 1\n",
    "\n",
    "        if i < len(lst) and lst[i] is not None:\n",
    "            current.right = TreeNode(lst[i])\n",
    "            nodes.append(current.right)\n",
    "\n",
    "        i += 1\n",
    "\n",
    "    return root\n",
    "# root = [3,9,20,None,None,15,7]\n",
    "# mtree = to_tree(root)\n",
    "# mtree\n"
   ]
  },
  {
   "cell_type": "markdown",
   "metadata": {},
   "source": [
    "#### [226. Invert Binary Tree](https://leetcode.com/problems/invert-binary-tree/)"
   ]
  },
  {
   "cell_type": "code",
   "execution_count": null,
   "metadata": {},
   "outputs": [],
   "source": [
    "#DFS stack call\n",
    "def invertTree(root: Optional[TreeNode]) -> Optional[TreeNode]:\n",
    "    #if have no child\n",
    "    if not root:\n",
    "        return\n",
    "    #perform first, call stack later\n",
    "    temp = root.left\n",
    "    root.left = root.right\n",
    "    root.right = temp\n",
    "    \n",
    "    invertTree(root.left)\n",
    "    invertTree(root.right)\n",
    "    return root"
   ]
  },
  {
   "cell_type": "markdown",
   "metadata": {},
   "source": [
    "#### [938. Range Sum of BST](https://leetcode.com/problems/range-sum-of-bst/description/?envType=daily-question&envId=2024-01-08)\n",
    "\n",
    "- In BST, inorder traversal is sorted\n",
    "\n",
    "Approach 1: Inorder Traversal  \n",
    "Approach 2: Check each node\n",
    "- If a node is larger than high -> don't go right\n",
    "- If a node is smaller than low -> don't go left\n",
    "\n"
   ]
  },
  {
   "cell_type": "code",
   "execution_count": null,
   "metadata": {},
   "outputs": [
    {
     "data": {
      "text/plain": [
       "23"
      ]
     },
     "execution_count": 3,
     "metadata": {},
     "output_type": "execute_result"
    }
   ],
   "source": [
    "class Solution:\n",
    "    def rangeSumBST(self, root: Optional[TreeNode], low: int, high: int) -> int:\n",
    "        if not root:\n",
    "            return 0\n",
    "        if root.val >= low and root.val <= high:\n",
    "            return root+ self.rangeSumBST(root.left,low, high)+ self.rangeSumBST(root.left,low, high)\n",
    "        if root.val < low:\n",
    "            return self.rangeSumBST(root.right)\n",
    "        if root.val > high:\n",
    "            return self.rangeSumBST(root.left)\n",
    "root = to_tree([10,5,15,3,7,13,18,1,None,6])\n",
    "low = 6 \n",
    "high = 10\n",
    "Solution.rangeSumBST(Solution, root, low, high)"
   ]
  },
  {
   "cell_type": "markdown",
   "metadata": {},
   "source": [
    "#### [872. Leaf-Similar Trees](https://leetcode.com/problems/leaf-similar-trees/description/?envType=daily-question&envId=2024-01-09)\n",
    "Get int[] of leaves's val of each tree and compare"
   ]
  },
  {
   "cell_type": "code",
   "execution_count": null,
   "metadata": {},
   "outputs": [],
   "source": [
    "class Solution:\n",
    "    def leafSimilar(self, root1: Optional[TreeNode], root2: Optional[TreeNode]) -> bool:\n",
    "        if not root1 and not root2:\n",
    "            return True\n",
    "        def getleafdfs(node, res):\n",
    "            if not node.left and not node.right:\n",
    "                res.append(node.val)\n",
    "                return res\n",
    "            if node.left:\n",
    "                res = getleafdfs(node.left, res)\n",
    "            if node.right:\n",
    "                res = getleafdfs(node.right, res)\n",
    "            return res\n",
    "        return  getleafdfs(root1, []) == getleafdfs(root2, [])\n",
    "root1 = [3,5,1,6,2,9,8,None,None,7,4]\n",
    "root2 = [3,5,1,6,7,4,2,None,None,None,None,None,None,9,8]"
   ]
  },
  {
   "cell_type": "markdown",
   "metadata": {},
   "source": [
    "#### [104. Maximum Depth of Binary Tree](https://leetcode.com/problems/maximum-depth-of-binary-tree/) \n",
    "All solutions' complexity is O(n) <a id='maxdepth'></a>"
   ]
  },
  {
   "cell_type": "markdown",
   "metadata": {},
   "source": [
    "**DFS Recursive**"
   ]
  },
  {
   "cell_type": "code",
   "execution_count": null,
   "metadata": {},
   "outputs": [],
   "source": [
    "def maxDepth(root: Optional[TreeNode]) -> int:\n",
    "    if not root:\n",
    "        return 0\n",
    "    return 1 + max(maxDepth(root.left), maxDepth(root.right))"
   ]
  },
  {
   "cell_type": "markdown",
   "metadata": {},
   "source": [
    "**DFS Iterative**\n",
    "1. Use a stack to record [[node, node.depth]]. Init with [root:1]\n",
    "2. DFS because the added e to stack will go deep down (keep popping and processing child of child, because child of child added to top)\n",
    "3. Pseudocode  \n",
    " While stack not empty:  \n",
    "    pop node -> append {children : parent.level++}  \n",
    "    maxlevel = max(maxlevel, node.level)  "
   ]
  },
  {
   "cell_type": "code",
   "execution_count": 72,
   "metadata": {},
   "outputs": [
    {
     "name": "stdout",
     "output_type": "stream",
     "text": [
      "3\n"
     ]
    }
   ],
   "source": [
    "from collections import OrderedDict\n",
    "def maxDepth(root: Optional[TreeNode]) -> int:\n",
    "    if not root:\n",
    "        return 0\n",
    "    maxDepth = 1\n",
    "    stack = [[root, 1]]\n",
    "    while stack:\n",
    "        node, nodeDepth = stack.pop()\n",
    "        if node:\n",
    "            stack.append([node.left, nodeDepth+1])\n",
    "            stack.append([node.right, nodeDepth+1])\n",
    "            maxDepth = max(maxDepth, nodeDepth)\n",
    "    return maxDepth\n",
    "\n",
    "root = [3,9,20,None,None,15,7]\n",
    "print(maxDepth(to_tree(root)))"
   ]
  },
  {
   "cell_type": "markdown",
   "metadata": {},
   "source": [
    "**BFS (Iterative)**\n",
    "1. Queue: deque([root]), level = 1\n",
    "2. Each time popnode = deque.popleft:  Pop \"node\", add node's left, child if available. level++.\n",
    "3. ...Until deque empty"
   ]
  },
  {
   "cell_type": "code",
   "execution_count": null,
   "metadata": {},
   "outputs": [
    {
     "name": "stdout",
     "output_type": "stream",
     "text": [
      "tree: {3 9 20 null null 15 7 null null null null }\n",
      "3\n"
     ]
    }
   ],
   "source": [
    "from collections import deque \n",
    "def maxDepth(root: Optional[TreeNode]) -> int:\n",
    "    #edge case: empty root\n",
    "    if not root:\n",
    "        return 0 \n",
    "\n",
    "    level = 0\n",
    "    #init the queue of list [] starting with root\n",
    "    q = deque([root])\n",
    "    \n",
    "    while q:\n",
    "        for i in range(len(q)):\n",
    "            popnode = q.popleft() #pop parents level and add children levels\n",
    "            if popnode.left: q.append(popnode.left)\n",
    "            if popnode.right: q.append(popnode.right)\n",
    "        level+=1 #level increase\n",
    "    return level\n",
    "\n",
    "root = [3,9,20,None,None,15,7]\n",
    "mtree = to_tree(root)\n",
    "print(maxDepth(mtree))"
   ]
  },
  {
   "cell_type": "markdown",
   "metadata": {},
   "source": [
    "#### [543. Diameter of Binary Tree](https://leetcode.com/problems/diameter-of-binary-tree/)"
   ]
  },
  {
   "cell_type": "markdown",
   "metadata": {},
   "source": [
    "***Brainstorm**: DFS gives us:  Each iter, we all can attain depth of two subtrees:\n",
    "**Lchild.depth, Rchild.depth**\n",
    "\n",
    "- p.depth = max(Lchild.depth,Rchild.depth) + 1\n",
    "- p.diameter = Lchild.depth + Rchild.depth\n",
    "\n",
    "\n",
    "Use DFS to find the max diameter of each node (subtree)\n",
    "1. Go down to bottom left node. Start cal from that node.\n",
    "2. Cal depth of l, r of that node.\n",
    "3. Cal diamter of each node, compared to current maxdiameter\n",
    "\n",
    "(DFS recursive): l, r = dfs(left), dfs(right)\n"
   ]
  },
  {
   "cell_type": "code",
   "execution_count": null,
   "metadata": {},
   "outputs": [
    {
     "name": "stdout",
     "output_type": "stream",
     "text": [
      "0\n"
     ]
    }
   ],
   "source": [
    "def diameterOfBinaryTree(root: Optional[TreeNode]) -> int:\n",
    "     #global max variable\n",
    "    maxDmter = 0\n",
    "    \n",
    "    #find height of any node AND continously update maxDiameter\n",
    "    def dfs(root):\n",
    "        if not root:\n",
    "            return 0 #null height is -1\n",
    "        \n",
    "        # count this node's diameter -> compared to global max\n",
    "        nonlocal maxDmter\n",
    "        maxDmter = max(maxDmter, dfs(root.left) + dfs(root.right))\n",
    "        \n",
    "        return 1 + max(dfs(root.left), dfs(root.right)) #depth of node\n",
    "    \n",
    "    dfs(root)\n",
    "    return maxDmter\n",
    "root = [1,2,3,4,5,None,None]\n",
    "mtree = to_tree(root)\n",
    "print(diameterOfBinaryTree(mtree))"
   ]
  },
  {
   "cell_type": "markdown",
   "metadata": {},
   "source": [
    "#### [110. Balanced Binary Tree](https://leetcode.com/problems/balanced-binary-tree/)"
   ]
  },
  {
   "cell_type": "markdown",
   "metadata": {},
   "source": [
    "A height-balanced binary tree: depth of the two subtrees of every node never differs by more than one."
   ]
  },
  {
   "cell_type": "markdown",
   "metadata": {},
   "source": [
    "**Learned**: More optimal because keep returning -1 when finish, Look at **count** below\n",
    "\n",
    "- Keep returning -1 will not bother this line return 1 + max(left, right) because:\n",
    "- When -1 is assigned to eather left, right. The next step is keep returning -1 to the prev assigned parent (or left, right of grandparent again) and\n",
    "\n",
    "and keep returning -1 instead of keep cal abs and 1+max.\n"
   ]
  },
  {
   "cell_type": "code",
   "execution_count": null,
   "metadata": {},
   "outputs": [],
   "source": [
    "# Definition for a binary tree node.\n",
    "# class TreeNode:\n",
    "#     def __init__(self, val=0, left=None, right=None):\n",
    "#         self.val = val\n",
    "#         self.left = left\n",
    "#         self.right = right\n",
    "class Solution:\n",
    "    def isBalanced(self, root: Optional[TreeNode]) -> bool:\n",
    "        \n",
    "        def dfs(root):\n",
    "            if not root:\n",
    "                return 0\n",
    "            left = dfs(root.left)\n",
    "            if left == -1:\n",
    "                return -1\n",
    "            right = dfs(root.right)\n",
    "            if right == -1:\n",
    "                return -1\n",
    "            \n",
    "            if abs(left - right) > 1:\n",
    "                return -1\n",
    "\n",
    "            return 1 + max(left, right)    \n",
    "        return dfs(root) != -1"
   ]
  },
  {
   "cell_type": "code",
   "execution_count": null,
   "metadata": {},
   "outputs": [
    {
     "name": "stdout",
     "output_type": "stream",
     "text": [
      "Backtracking count 7\n",
      "False\n"
     ]
    }
   ],
   "source": [
    "def isBalanced(root: Optional[TreeNode]) -> bool:\n",
    "        res = True\n",
    "        def maxDepth(root):\n",
    "            if not root:\n",
    "                return 0\n",
    "            #get l, r depth\n",
    "            l = maxDepth(root.left)\n",
    "            r = maxDepth(root.right)\n",
    "            if abs(l - r) > 1:\n",
    "                nonlocal res\n",
    "                res = False\n",
    "                return 0\n",
    "            return 1 + max(l,r)\n",
    "        maxDepth(root)\n",
    "        return res\n",
    "\n",
    "root = [1,2,2,3,3,None,None,4,4, None, None, 5,5, None, None, 6,6, None, None, 7,7,None, None, 8,8]\n",
    "mtree = to_tree(root)\n",
    "print(isBalanced(mtree))"
   ]
  },
  {
   "cell_type": "markdown",
   "metadata": {},
   "source": [
    "#### [100. Same Tree](https://leetcode.com/problems/same-tree/)"
   ]
  },
  {
   "cell_type": "markdown",
   "metadata": {},
   "source": [
    "**Top down approach**: Check from the root to l, r children.\n",
    "- Only keep going down if not found unmatched yet."
   ]
  },
  {
   "cell_type": "code",
   "execution_count": null,
   "metadata": {},
   "outputs": [
    {
     "name": "stdout",
     "output_type": "stream",
     "text": [
      "True\n"
     ]
    }
   ],
   "source": [
    "def isSameTree(p: Optional[TreeNode], q: Optional[TreeNode]) -> bool:\n",
    "    if not p and not q: #equal if both NULLs\n",
    "        return True\n",
    "    if p and q and p.val == q.val: #only go down if equal\n",
    "        \n",
    "        return isSameTree(p.left, q.left) and isSameTree(p.right, q.right)\n",
    "    \n",
    "    #assign false to parent otherwise, stop going down here.\n",
    "    return False "
   ]
  },
  {
   "cell_type": "markdown",
   "metadata": {},
   "source": [
    "**DFS approach**: Bottom up: check equal subtrees and pop up"
   ]
  },
  {
   "cell_type": "code",
   "execution_count": null,
   "metadata": {},
   "outputs": [
    {
     "name": "stdout",
     "output_type": "stream",
     "text": [
      "True\n"
     ]
    }
   ],
   "source": [
    "def isSameTree(p: Optional[TreeNode], q: Optional[TreeNode]) -> bool:\n",
    "    \n",
    "        if not p and not q:\n",
    "            return True\n",
    "        if p and q:\n",
    "            l = isSameTree(p.left, q.left)\n",
    "            if not l:\n",
    "                return False\n",
    "            r = isSameTree(p.right, q.right)\n",
    "            if not r:\n",
    "                return False\n",
    "            return p.val == q.val\n",
    "        \n",
    "        return False\n"
   ]
  },
  {
   "cell_type": "markdown",
   "metadata": {},
   "source": [
    "#### [572. Subtree of Another Tree](https://leetcode.com/problems/subtree-of-another-tree/description/)"
   ]
  },
  {
   "cell_type": "markdown",
   "metadata": {},
   "source": [
    "Fastest: O(n+m+n) ~ Linear\n",
    "1. DFS rec: get string traversal of sub and tree. check if sub in tree\n",
    "Slower: O(mn)\n",
    "2. DFS rec: While traversing dfs, check if subtree of each node in **root** is isSameTree as **subRoot**"
   ]
  },
  {
   "cell_type": "code",
   "execution_count": null,
   "metadata": {},
   "outputs": [],
   "source": [
    "#Approach 1 DFS: O(n+m+n), less stack call \n",
    "def isSubtree(root: TreeNode, subRoot: TreeNode) -> bool:\n",
    "    rootS = getStr(root)\n",
    "    subS = getStr(subRoot)\n",
    "    \n",
    "    if subS in rootS:\n",
    "        return True\n",
    "    \n",
    "    return False\n",
    "\n",
    "def getStr(root):\n",
    "    if not root:\n",
    "        return \" NUll \"\n",
    "    return str(root.val) + \" \"+  getStr(root.left) + getStr(root.right)\n"
   ]
  },
  {
   "cell_type": "code",
   "execution_count": null,
   "metadata": {},
   "outputs": [
    {
     "name": "stdout",
     "output_type": "stream",
     "text": [
      "True\n"
     ]
    }
   ],
   "source": [
    "#Approach 2: O(mn), more stack call, twice dfs\n",
    "def isSubtree(root: TreeNode, subRoot: TreeNode) -> bool:\n",
    "    if not subRoot:\n",
    "        return True\n",
    "    if not root:\n",
    "        return False\n",
    "    if isSameTree(root, subRoot):\n",
    "        return True\n",
    "    \n",
    "    return isSubtree(root.left, subRoot) or isSubtree(root.right, subRoot)\n",
    "    \n",
    "    return False \n",
    "\n",
    "def isSameTree(q,p) -> bool:\n",
    "    if not q and not p:\n",
    "        return True\n",
    "    \n",
    "    if p and q and p.val == q.val:\n",
    "        return isSameTree(p.left,q.left) and isSameTree(p.right,q.right) \n",
    "    \n",
    "    return False #False otherwise    \n",
    "root = [1,None,1,None,1,None,1,None,1,None,1,None,1,None,1,None,1,None,1,None,1,2]\n",
    "subRoot = [1,None,1,None,1,None,1,None,1,None,1,2]\n",
    "\n",
    "print(isSubtree(to_tree(root), to_tree(subRoot)))"
   ]
  },
  {
   "cell_type": "code",
   "execution_count": null,
   "metadata": {},
   "outputs": [
    {
     "name": "stdout",
     "output_type": "stream",
     "text": [
      "True\n"
     ]
    }
   ],
   "source": [
    "#Approach 2: O(mn), DFS Iter\n",
    "def isSubtree(root: TreeNode, subRoot: TreeNode) -> bool:\n",
    "    stack = [root]\n",
    "    while stack:\n",
    "        popn = stack.pop()\n",
    "        \n",
    "        #code\n",
    "        if isSameTree(popn, subRoot): return True\n",
    "        \n",
    "        if popn: \n",
    "            stack.append(popn.right)\n",
    "            stack.append(popn.left)\n",
    "        \n",
    "    return False\n",
    "\n",
    "def isSameTree(q,p) -> bool:\n",
    "    if not q and not p:\n",
    "        return True\n",
    "    \n",
    "    if p and q and p.val == q.val:\n",
    "        return isSameTree(p.left,q.left) and isSameTree(p.right,q.right) \n",
    "    \n",
    "    return False #False otherwise    \n",
    "root = [1,None,1,None,1,None,1,None,1,None,1,None,1,None,1,None,1,None,1,None,1,2]\n",
    "subRoot = [1,None,1,None,1,None,1,None,1,None,1,2]\n",
    "\n",
    "print(isSubtree(to_tree(root), to_tree(subRoot)))"
   ]
  },
  {
   "cell_type": "markdown",
   "metadata": {},
   "source": [
    "### Medium"
   ]
  },
  {
   "cell_type": "markdown",
   "metadata": {},
   "source": [
    "#### [235. Lowest Common Ancestor of a Binary Search Tree](https://leetcode.com/problems/lowest-common-ancestor-of-a-binary-search-tree/)"
   ]
  },
  {
   "cell_type": "code",
   "execution_count": null,
   "metadata": {},
   "outputs": [],
   "source": [
    "#DFS REC\n",
    "def lowestCommonAncestor(root: 'TreeNode', p: 'TreeNode', q: 'TreeNode') -> 'TreeNode':\n",
    "    greater = max( p.val, q.val)\n",
    "    smaller = min(q.val, p.val) \n",
    "    def dfsInRange(root): \n",
    "        if smaller <= root.val and root.val <= greater:\n",
    "            return root\n",
    "        elif root.val > greater:\n",
    "            return dfsInRange(root.left) \n",
    "        elif root.val < smaller:\n",
    "            return dfsInRange(root.right) \n",
    "    return dfsInRange(root)\n",
    "#Regular ITER\n",
    "def lowestCommonAncestor(root: 'TreeNode', p: 'TreeNode', q: 'TreeNode') -> 'TreeNode':\n",
    "    greater = max( p.val, q.val)\n",
    "    smaller = min(q.val, p.val) \n",
    "    cur = root\n",
    "    while cur:\n",
    "        \n",
    "        if smaller <= cur.val and cur.val <= greater:\n",
    "            return cur\n",
    "        elif cur.val > greater:\n",
    "            cur = cur.left\n",
    "        elif cur.val < smaller:\n",
    "            cur = cur.right \n",
    "    return cur"
   ]
  },
  {
   "cell_type": "markdown",
   "metadata": {},
   "source": [
    "#### [102. Binary Tree Level Order Traversal](https://leetcode.com/problems/binary-tree-level-order-traversal/)"
   ]
  },
  {
   "cell_type": "code",
   "execution_count": null,
   "metadata": {},
   "outputs": [
    {
     "name": "stdout",
     "output_type": "stream",
     "text": [
      "[[3], [9, 20], [15, 7]]\n"
     ]
    }
   ],
   "source": [
    "from collections import deque\n",
    "#BFS\n",
    "def levelOrder(root: Optional[TreeNode]) -> list[list[int]]:\n",
    "\n",
    "    if root:\n",
    "        queue = deque([root])\n",
    "    else: return []\n",
    "    res = []\n",
    "    while queue:\n",
    "        temp = [] #new list each level\n",
    "        #for each node in the current level\n",
    "        for i in range(len(queue)):\n",
    "            node = queue.popleft()  \n",
    "            temp.append(node.val)\n",
    "            if node.left:\n",
    "                queue.append(node.left)\n",
    "            if node.right: \n",
    "                queue.append(node.right)\n",
    "        #after each level\n",
    "        res.append(temp)\n",
    "    return res\n",
    "root = to_tree([3,9,20,None,None,15,7])\n",
    "print(levelOrder(root))\n",
    "    "
   ]
  },
  {
   "cell_type": "markdown",
   "metadata": {},
   "source": [
    "#### [199. Binary Tree Right Side View](https://leetcode.com/problems/binary-tree-right-side-view/)"
   ]
  },
  {
   "cell_type": "code",
   "execution_count": null,
   "metadata": {},
   "outputs": [
    {
     "name": "stdout",
     "output_type": "stream",
     "text": [
      "[1, 3, 4]\n"
     ]
    }
   ],
   "source": [
    "from collections import deque\n",
    "def rightSideView(root: Optional[TreeNode]) -> list[int]:\n",
    "        if not root:\n",
    "            return []\n",
    "\n",
    "        res = [root.val]\n",
    "        queue = deque([root])\n",
    "        while queue:\n",
    "            for i in range(len(queue)):\n",
    "                popnode = queue.popleft() #the rightest node in the queue\n",
    "                if popnode.right:\n",
    "                    queue.append(popnode.right)\n",
    "                if popnode.left:\n",
    "                    queue.append(popnode.left)\n",
    "\n",
    "            if queue:\n",
    "                #On each level, append the rightest (first) node in the queue.\n",
    "          \n",
    "                res.append(queue[0].val)\n",
    "        return res\n",
    "root = to_tree([1,2,3,None,5,None,4])\n",
    "print(rightSideView(root))"
   ]
  },
  {
   "cell_type": "markdown",
   "metadata": {},
   "source": [
    "#### [1448. Count Good Nodes in Binary Tree](https://leetcode.com/problems/count-good-nodes-in-binary-tree/)"
   ]
  },
  {
   "cell_type": "markdown",
   "metadata": {},
   "source": [
    "DFS Rec approach\n",
    "1. Each DFS, with record the current max of the traverse path of the node. Compared node with its max to incre **good**\n",
    "2. Curmax of both left and right subtree is curmax of node."
   ]
  },
  {
   "cell_type": "code",
   "execution_count": null,
   "metadata": {},
   "outputs": [
    {
     "data": {
      "text/plain": [
       "4"
      ]
     },
     "execution_count": 43,
     "metadata": {},
     "output_type": "execute_result"
    }
   ],
   "source": [
    "def goodNodes(root: TreeNode) -> int: \n",
    "    good = 0    \n",
    "    def dfsMax(node, curmax):\n",
    "        if not node:\n",
    "            return 0\n",
    "        \n",
    "        if node.val >= curmax:\n",
    "            curmax = node.val\n",
    "            nonlocal good\n",
    "            good+=1\n",
    "        \n",
    "        #curmax of node feed to left, right children\n",
    "        dfsMax(node.left, curmax)\n",
    "        dfsMax(node.right, curmax)\n",
    "    \n",
    "    dfsMax(root,root.val)\n",
    "    \n",
    "    return good \n",
    "     \n",
    "root = to_tree([3,1,4,3,None,1,5] )\n",
    "goodNodes(root)"
   ]
  },
  {
   "cell_type": "code",
   "execution_count": null,
   "metadata": {},
   "outputs": [],
   "source": [
    "def goodNodes(root: TreeNode) -> int: \n",
    "    #a dfs that have curNode and max of the traverse path\n",
    "    def dfs(node, mmax):\n",
    "        if not node:\n",
    "            return 0\n",
    "        goodCounts = 0\n",
    "        if node.val >= mmax:\n",
    "            goodCounts = 1\n",
    "            mmax = node.val   \n",
    "        goodCounts += dfs(node.left, mmax)\n",
    "        goodCounts += dfs(node.right,mmax)\n",
    "        \n",
    "        return goodCounts\n",
    "    return dfs(root, root.val)\n",
    "        \n",
    "        "
   ]
  },
  {
   "cell_type": "markdown",
   "metadata": {},
   "source": [
    "#### [98. Validate Binary Search Tree](https://leetcode.com/problems/validate-binary-search-tree/)\n",
    "1. Recursive dfs: Idea of compare node's subtrees with itself\n",
    "2. Pass the range (min, max) to each node where:\n",
    "- For node.left, min is bounded by node's min, max = node\n",
    "- For node.right, max is bounded by node's max, min = node"
   ]
  },
  {
   "cell_type": "code",
   "execution_count": null,
   "metadata": {},
   "outputs": [],
   "source": [
    "def isValidBST(self, root: Optional[TreeNode]) -> bool:\n",
    "    def dfs(node, nmin, nmax) -> bool:\n",
    "        if not node:\n",
    "            return True #if could reach base case eventually, return True and exit.\n",
    "        if not (nmin < node.val < nmax):\n",
    "            return False\n",
    "        #Pass node's min and node's max to check children after check self.\n",
    "        return dfs(node.left, nmin, node.val) and dfs(node.right, node.max, nmax)\n",
    "    return dfs(root, float(\"-inf\"), float(\"inf\"))\n",
    "\n",
    "#Iter stack version\n",
    "def iterative(root):\n",
    "    if not root: return True\n",
    "    stack = [(root, -float('inf'), float('inf'))]\n",
    "    while len(stack):\n",
    "        node, nmin, nmax = stack.pop()\n",
    "        if not (nmin < node.val < nmax): return False\n",
    "        if node.left: stack.append((node.left, nmin, node.val))\n",
    "        if node.right: stack.append((node.right, node.val, nmax))\n",
    "    return True"
   ]
  },
  {
   "cell_type": "markdown",
   "metadata": {},
   "source": [
    "#### [230. Kth Smallest Element in a BST](https://leetcode.com/problems/kth-smallest-element-in-a-bst/)"
   ]
  },
  {
   "cell_type": "markdown",
   "metadata": {},
   "source": [
    "The smallest -> largest in BST is inOrder traversal: Left - self - right\n",
    "\n",
    "**Recursive thinking:**\n",
    "- We go left, self, right where we only perform at \"self\". Left, and right passed to is just travelling"
   ]
  },
  {
   "cell_type": "code",
   "execution_count": null,
   "metadata": {},
   "outputs": [],
   "source": [
    "def kthSmallest(root: Optional[TreeNode], k: int) -> int:\n",
    "    count = 0\n",
    "    res = 0\n",
    "    def dfsInOrder(node):\n",
    "        if not node:\n",
    "            return\n",
    "        nonlocal count, res\n",
    "        dfsInOrder(node.left) \n",
    "        \n",
    "        #perform code\n",
    "        if count == -1: #help exit faster\n",
    "            return\n",
    "        count+=1\n",
    "        if count == k:\n",
    "            res = node.val\n",
    "            count = -1\n",
    "            return \n",
    "\n",
    "        dfsInOrder(node.right)\n",
    "        \n",
    "    dfsInOrder(root) \n",
    "    return res"
   ]
  },
  {
   "cell_type": "markdown",
   "metadata": {},
   "source": [
    "**Iter thinking**: cur = root will be the traveller.\n",
    "Use \n",
    "\n",
    "    while cur:\n",
    "            stack.append(cur) #all e in stack is not null\n",
    "            cur = cur.left\n",
    "            \n",
    "In the begining of each loop to get the leftest of a node."
   ]
  },
  {
   "cell_type": "code",
   "execution_count": null,
   "metadata": {},
   "outputs": [],
   "source": [
    "def kthSmallest(root: Optional[TreeNode], k: int) -> int:\n",
    "    count = 0\n",
    "    stack = [root]\n",
    "    cur = root\n",
    "    while stack or cur: #incase stack empty but cur right is working\n",
    "        #go all the way to bottom left before performing code\n",
    "        while cur:\n",
    "            stack.append(cur) #all e in stack is not null\n",
    "            cur = cur.left\n",
    "        #after while loop, cur is always None to the left.\n",
    "        cur = stack.pop() \n",
    "        #perform at node\n",
    "        count+=1\n",
    "        if count == k:\n",
    "            return cur.val\n",
    "        #go to rights\n",
    "        cur = cur.right"
   ]
  },
  {
   "cell_type": "markdown",
   "metadata": {},
   "source": [
    "#### [105. Construct Binary Tree from Preorder and Inorder Traversal](https://leetcode.com/problems/construct-binary-tree-from-preorder-and-inorder-traversal/)"
   ]
  },
  {
   "cell_type": "markdown",
   "metadata": {},
   "source": [
    "True Premises about arrays:\n",
    "- Preorder: Top is root -> left subtree -> right subtree\n",
    "- Inorder: left subtree -> root(midIndex) -> right subtree\n",
    "Recursion DFS approach:\n",
    "- Get curr node and its inorder index: root = preorder[0], midI = inorder.index(preorder[0])\n",
    "- Assign left, right subtree with:\n",
    "    - preorder_left = preorder[1:mid+1], preorder_right = preorder[mid+1:], \n",
    "    - inorder_left = inorder[:midI], inorder_right = inorder[mid+1:] (exclude midI)\n",
    "- Return curr node\n"
   ]
  },
  {
   "cell_type": "code",
   "execution_count": null,
   "metadata": {},
   "outputs": [],
   "source": [
    "class Solution:\n",
    "    def buildTree(self, preorder: list[int], inorder: list[int]) -> Optional[TreeNode]:\n",
    "        if not preorder or not inorder:\n",
    "            return None\n",
    "        root = TreeNode(preorder[0])\n",
    "        midI = inorder.index(preorder[0])\n",
    "        #DFS: Go to down leftest\n",
    "        root.left = self.buildTree(preorder[1:midI+1], inorder[:midI])\n",
    "        root.right = self.buildTree(preorder[midI+1:], inorder[midI+1:])\n",
    "        return root"
   ]
  },
  {
   "cell_type": "markdown",
   "metadata": {},
   "source": [
    "## Tries"
   ]
  },
  {
   "cell_type": "markdown",
   "metadata": {},
   "source": [
    "### Med"
   ]
  },
  {
   "cell_type": "markdown",
   "metadata": {},
   "source": [
    "#### [208. Implement Trie (Prefix Tree)](https://leetcode.com/problems/implement-trie-prefix-tree/submissions/)"
   ]
  },
  {
   "cell_type": "code",
   "execution_count": null,
   "metadata": {},
   "outputs": [],
   "source": [
    "class TrieNode:\n",
    "    def __init__(self):\n",
    "        self.children = {} #children hashmap\n",
    "        self.isWord = False\n",
    "class Trie:\n",
    "    def __init__(self):\n",
    "        self.root = TrieNode()\n",
    "\n",
    "    def insert(self, word: str) -> None:\n",
    "        cur = self.root\n",
    "        for c in word:\n",
    "            if c not in cur.children:\n",
    "                cur.children[c] = TrieNode()\n",
    "            cur = cur.children[c] #move to appropriate child node\n",
    "        cur.isWord = True\n",
    "    def search(self, word: str) -> bool:\n",
    "        cur = self.root\n",
    "        for c in word:\n",
    "            if c not in cur.children:\n",
    "                return False\n",
    "            cur = cur.children[c]\n",
    "        #after check if last TrieNode isWord after consuming word\n",
    "        if not cur.isWord:\n",
    "            return False\n",
    "        return True\n",
    "    def startsWith(self, prefix: str) -> bool:\n",
    "        cur = self.root\n",
    "        for c in prefix:\n",
    "            if c not in cur.children:\n",
    "                return False\n",
    "            cur = cur.children[c]\n",
    "        return True"
   ]
  },
  {
   "cell_type": "markdown",
   "metadata": {},
   "source": [
    "#### [211. Design Add and Search Words Data Structure](https://leetcode.com/problems/design-add-and-search-words-data-structure/)"
   ]
  },
  {
   "cell_type": "code",
   "execution_count": null,
   "metadata": {},
   "outputs": [],
   "source": [
    "class TrieNode:\n",
    "    def __init__(self):\n",
    "        self.children = {} #children hashmap\n",
    "        self.isWord = False\n",
    "    def __repr__(self) -> str:\n",
    "        return \"Children: \" + str(self.children.keys()) + str(self.isWord)\n",
    "       \n",
    "class WordDictionary:\n",
    "    def __init__(self):\n",
    "        self.root = TrieNode()\n",
    "    def addWord(self, word: str) -> None:\n",
    "        cur = self.root\n",
    "        for c in word:\n",
    "            if c not in cur.children:\n",
    "                cur.children[c] = TrieNode()\n",
    "            cur = cur.children[c]\n",
    "        cur.isWord = True\n",
    "    def search(self, word: str) -> bool:\n",
    "        print(self.root.children)\n",
    "        def dfs(word, root):\n",
    "            cur = root\n",
    "            for i in range(len(word)):\n",
    "                if word[i] == '.':\n",
    "                    for child in cur.children:\n",
    "                        if dfs(word[i+1:], cur.children[child]): return True\n",
    "                    return False       \n",
    "                else:\n",
    "                    if word[i] not in cur.children:\n",
    "                        return False\n",
    "                    cur = cur.children[word[i]]\n",
    "            \n",
    "            return cur.isWord == True\n",
    "        \n",
    "        return dfs(word, self.root)\n",
    "    \n",
    "wordDictionary = WordDictionary()\n",
    "\n",
    "op = [\"WordDictionary\",\"addWord\",\"addWord\",\"addWord\",\"addWord\",\"search\",\"search\",\"addWord\",\"search\",\"search\",\"search\",\"search\",\"search\",\"search\"]\n",
    "param = [[],[\"babaa\"],[\"and\"],[\"an\"],[\"add\"],[\"a\"],[\".at\"],[\"bat\"],[\".at\"],[\"an.\"],[\"a.d.\"],[\"b.\"],[\"a.d\"],[\".\"]]\n",
    "res = []\n",
    "for i in range(1, len(op)):\n",
    "    o, p = op[i], param[i]\n",
    "    if o == \"addWord\":\n",
    "        res.append(wordDictionary.addWord(param[i][0]))\n",
    "    elif o == \"search\":\n",
    "        res.append(wordDictionary.search(param[i][0]))\n",
    "print(res)\n"
   ]
  },
  {
   "cell_type": "markdown",
   "metadata": {},
   "source": [
    "### Hard"
   ]
  },
  {
   "cell_type": "markdown",
   "metadata": {},
   "source": [
    "#### [212. Word Search II](https://leetcode.com/problems/word-search-ii/)"
   ]
  },
  {
   "cell_type": "markdown",
   "metadata": {},
   "source": [
    "Approach: Search all words in the list at once by traveling each square in board, then dfs from the square outwards to see if the dfs path could check any word in the list.\n",
    "1. Add all searching words to a Trie.\n",
    "2. Use \"refs\" attribute for each nodes to represents # of chars in words shared a part of Trie path\n",
    "<img src=\"assets/wordsearchii.png\" width=500px></img>\n",
    "\n",
    "3. For each square in board, DFS each square to find most suitable words at once.\n",
    "    - Start with DFS (r,c, root, \"\"). String \"\" is word gained so far. \n",
    "    - On DFS: DFS up down left right square to find if each direction (on board) matches with any of current node's children (on Trie). Each time move deeper in DFS, current node = appropriate child node.\n",
    "    - If word gain so far isWord, add to res, remove from Trie."
   ]
  },
  {
   "cell_type": "code",
   "execution_count": null,
   "metadata": {},
   "outputs": [
    {
     "name": "stdout",
     "output_type": "stream",
     "text": [
      "['eat', 'oath']\n"
     ]
    }
   ],
   "source": [
    "class TrieNode:\n",
    "    def __init__(self) -> None: \n",
    "        self.children = {}\n",
    "        self.ref = 0\n",
    "        self.isWord = False\n",
    "class Trie:\n",
    "    def __init__(self) -> None:\n",
    "        self.root = TrieNode()\n",
    "    def addWord(self, word:str) -> None:\n",
    "        cur = self.root\n",
    "        for c in word:\n",
    "            if c not in cur.children:\n",
    "                cur.children[c] = TrieNode()\n",
    "            cur = cur.children[c]\n",
    "            cur.ref += 1 #incre the child's refs\n",
    "        cur.isWord = True\n",
    "        \n",
    "    def removeWord(self, word:str)->None:\n",
    "        cur = self.root\n",
    "        for c in word:\n",
    "            cur = cur.children[c]\n",
    "            cur.ref -=1 #decre the child's refs\n",
    "        cur.isWord = False \n",
    "    \n",
    "class Solution:\n",
    "    def findWords(self,board: list[list[str]], words: list[str]) -> list[str]:\n",
    "        mtrie = Trie()\n",
    "        for word in words:\n",
    "            mtrie.addWord(word)\n",
    "        res, visit = set(), set()\n",
    "        ROW, COL = len(board), len(board[0])\n",
    "        \n",
    "        def dfssearch(r, c, node, formingWord):\n",
    "            if (r not in range(ROW) or c not in range(COL) #out of bound \n",
    "            or (r, c) in visit #visited\n",
    "            or board[r][c] not in node.children #not the right char square\n",
    "            or node.children[board[r][c]].ref < 1): #if already found and removed\n",
    "                return\n",
    "             \n",
    "            visit.add((r,c))\n",
    "            formingWord += board[r][c]\n",
    "            node = node.children[board[r][c]]\n",
    "            \n",
    "            if node.isWord:\n",
    "                res.add(formingWord)\n",
    "                mtrie.removeWord(formingWord)\n",
    "            \n",
    "            dfssearch(r+1, c, node, formingWord)\n",
    "            dfssearch(r-1, c, node, formingWord)\n",
    "            dfssearch(r, c+1, node, formingWord)\n",
    "            dfssearch(r, c-1, node, formingWord)\n",
    "            \n",
    "            visit.remove((r,c))\n",
    "        for r in range(ROW):\n",
    "            for c in range(COL):\n",
    "                dfssearch(r,c, mtrie.root, \"\")\n",
    "        return list(res)\n",
    "\n",
    "board = [[\"o\",\"a\",\"a\",\"n\"],[\"e\",\"t\",\"a\",\"e\"],[\"i\",\"h\",\"k\",\"r\"],[\"i\",\"f\",\"l\",\"v\"]]\n",
    "words = [\"oath\",\"pea\",\"eat\",\"rain\"]\n",
    "print(Solution.findWords(Solution, board=board, words=words))"
   ]
  },
  {
   "cell_type": "markdown",
   "metadata": {},
   "source": [
    "My OG approach:\n",
    "Notes:\n",
    "-  INIT all TrieNode in nodeboard, then assign refs on the way i,j:\n",
    "e.g nodeboard[i][j+1].refs = ...\n",
    "\n",
    "- DO NOT create TrieNode in nodeboard as neighbor like: nodeboard[i][j] = new TrieNode(refs=...). Because it will cause mistake to RECREATE new TrieNode obj at nodeboard[i][j], cause broken code"
   ]
  },
  {
   "cell_type": "code",
   "execution_count": null,
   "metadata": {},
   "outputs": [
    {
     "data": {
      "text/plain": [
       "['oath', 'eat']"
      ]
     },
     "execution_count": 188,
     "metadata": {},
     "output_type": "execute_result"
    }
   ],
   "source": [
    "from collections import defaultdict\n",
    "class TrieNode:\n",
    "    def __init__(self, refs=\"\") -> None:\n",
    "        self.children = defaultdict(list)\n",
    "        self.isWord = False\n",
    "        self.refs = refs\n",
    "        self.val = \"\" #for debugging\n",
    "    def __repr__(self) -> str:\n",
    "        return \"NOD(\" + self.val+ self.refs + \")\" + \"children: \" + str(self.children.keys())\n",
    "class Trie:\n",
    "    def __init__(self) -> None:\n",
    "        self.root = TrieNode()\n",
    "    def addWord(self, word: str) -> None:\n",
    "        cur = self.root\n",
    "        for c in word:\n",
    "            if c not in cur.children:\n",
    "                cur.children[c] = TrieNode()\n",
    "            cur = cur.children[c]\n",
    "        cur.isWord = True\n",
    "    def searchWord(self, word: str) -> True:\n",
    "        cur = self.root\n",
    "        for c in word:\n",
    "            if c not in cur.children:\n",
    "                return False\n",
    "            cur = cur.children[c]\n",
    "        return True\n",
    "\n",
    "# def dfsAdding():\n",
    "class Solution:\n",
    "    def findWords(self,board: list[list[str]], words: list[str]) -> list[str]:\n",
    "        res = []\n",
    "        rows, cols = len(board), len(board[0])\n",
    "        #init 2d list [[0] * col for _ in range(row)]\n",
    "        nodeboard= [[TrieNode() for _ in range(cols)] for _ in range(rows)]\n",
    "        nodeboard[0][0].refs=\"00\"\n",
    "        mroot = TrieNode(\"r\")\n",
    "        \n",
    "        #DEBUG\n",
    "        nodeboard[0][0].val = board[0][0]\n",
    "        \n",
    "        #create nodes + add children \n",
    "        for i in range(rows):\n",
    "            for j in range(cols):\n",
    "                cur = nodeboard[i][j]\n",
    "                nodeboard[i][j].val = board[i][j]\n",
    "\n",
    "                mroot.children[board[i][j]].append(cur)\n",
    "                \n",
    "                #add left, up (created); right, down(not created yet)\n",
    "                #left, up\n",
    "                if j>0:\n",
    "                    # if board[i][j-1] not in cur.children:\n",
    "                    #     cur.children[board[i][j-1]] = [nodeboard[i][j-1]]\n",
    "                    # else:\n",
    "                    cur.children[board[i][j-1]].append(nodeboard[i][j-1])\n",
    "                if i>0:\n",
    "                    # if board[i-1][j] not in cur.children:\n",
    "                    #     cur.children[board[i-1][j]] = [nodeboard[i-1][j-1]]\n",
    "                    # else:\n",
    "                    cur.children[board[i-1][j]].append(nodeboard[i-1][j])\n",
    "                if j < cols-1:\n",
    "                    nodeboard[i][j+1].refs=str(i)+str(j+1)\n",
    "                    cur.children[board[i][j+1]].append(nodeboard[i][j+1])\n",
    "                if i < rows-1:\n",
    "                    nodeboard[i+1][j].refs=str(i+1)+str(j)                    \n",
    "                    cur.children[board[i+1][j]].append(nodeboard[i+1][j])\n",
    "\n",
    "        # debug\n",
    "        # s =\"\"\n",
    "        # for i in range(rows):\n",
    "        #     for j in range(cols):\n",
    "        #         s+=\"MNODE\"+str(nodeboard[i][j])+ \" | \"\n",
    "        #     s+='\\n'\n",
    "        # print(nodeboard[2][1],nodeboard[1][1].children['h'])\n",
    "\n",
    "        count = 0\n",
    "        \n",
    "        def dfssearch(node: TrieNode,word: str, path:set) -> bool:\n",
    "            nonlocal count\n",
    "            count+=1\n",
    "            cur = node\n",
    "            # print(node, )\n",
    "            if word == \"\":\n",
    "                return True\n",
    "            for i,c in enumerate(word):\n",
    "                if c not in cur.children:\n",
    "                    # print(\"false 1\")\n",
    "\n",
    "                    return False\n",
    "                #each child in list\n",
    "                for child in cur.children[c]:\n",
    "                    if child.refs in path:\n",
    "                        continue\n",
    "                    path.add(child.refs)\n",
    "                    #go to next child if return false\n",
    "                    if dfssearch(child, word[i+1:], path):\n",
    "                        return True\n",
    "                    else:\n",
    "                        path.remove(child.refs)\n",
    "                \n",
    "                return False\n",
    "            # print(\"false 3\")\n",
    "\n",
    "            return True\n",
    "            \n",
    "        for word in words:\n",
    "            path = set()\n",
    "            if dfssearch(mroot, word, path):\n",
    "                res.append(word)\n",
    "        return res\n",
    "                \n",
    "\n",
    "board = [[\"o\",\"a\",\"a\",\"n\"],[\"e\",\"t\",\"a\",\"e\"],[\"i\",\"h\",\"k\",\"r\"],[\"i\",\"f\",\"l\",\"v\"]]\n",
    "words = [\"oath\",\"pea\",\"eat\",\"rain\"]\n",
    "Solution.findWords(Solution,board, words)"
   ]
  },
  {
   "cell_type": "markdown",
   "metadata": {},
   "source": [
    "## Backtracking\n",
    "<img src=\"assets/backtrackrec.png\" width=\"250ptx\"></img>"
   ]
  },
  {
   "cell_type": "markdown",
   "metadata": {},
   "source": [
    "### Medium"
   ]
  },
  {
   "cell_type": "markdown",
   "metadata": {},
   "source": [
    "#### [46. Permutations](https://leetcode.com/problems/permutations/)\n",
    "<img src=\"assets/46. Permutations.png\" width=\"300px\"> </img>\n",
    "\n",
    "Optimal time+space approach:\n",
    "- Get perms from remain (nums.pop(0)), then append n=nums.pop(0) to each perm, extend perms to res\n",
    "- End of the loop: nums.append(n) # because nums is passed as reference, we have to append n to the back. Or else nums would be pop all -> can't move to next of \" for _ in nums:\"\n",
    "\n"
   ]
  },
  {
   "cell_type": "code",
   "execution_count": 14,
   "metadata": {},
   "outputs": [
    {
     "name": "stdout",
     "output_type": "stream",
     "text": [
      "[[5, 4, 3, 2, 1], [4, 5, 3, 2, 1], [3, 5, 4, 2, 1], [5, 3, 4, 2, 1], [4, 3, 5, 2, 1], [3, 4, 5, 2, 1], [2, 5, 4, 3, 1], [5, 2, 4, 3, 1], [4, 2, 5, 3, 1], [2, 4, 5, 3, 1], [5, 4, 2, 3, 1], [4, 5, 2, 3, 1], [3, 2, 5, 4, 1], [2, 3, 5, 4, 1], [5, 3, 2, 4, 1], [3, 5, 2, 4, 1], [2, 5, 3, 4, 1], [5, 2, 3, 4, 1], [4, 3, 2, 5, 1], [3, 4, 2, 5, 1], [2, 4, 3, 5, 1], [4, 2, 3, 5, 1], [3, 2, 4, 5, 1], [2, 3, 4, 5, 1], [1, 5, 4, 3, 2], [5, 1, 4, 3, 2], [4, 1, 5, 3, 2], [1, 4, 5, 3, 2], [5, 4, 1, 3, 2], [4, 5, 1, 3, 2], [3, 1, 5, 4, 2], [1, 3, 5, 4, 2], [5, 3, 1, 4, 2], [3, 5, 1, 4, 2], [1, 5, 3, 4, 2], [5, 1, 3, 4, 2], [4, 3, 1, 5, 2], [3, 4, 1, 5, 2], [1, 4, 3, 5, 2], [4, 1, 3, 5, 2], [3, 1, 4, 5, 2], [1, 3, 4, 5, 2], [5, 4, 3, 1, 2], [4, 5, 3, 1, 2], [3, 5, 4, 1, 2], [5, 3, 4, 1, 2], [4, 3, 5, 1, 2], [3, 4, 5, 1, 2], [2, 1, 5, 4, 3], [1, 2, 5, 4, 3], [5, 2, 1, 4, 3], [2, 5, 1, 4, 3], [1, 5, 2, 4, 3], [5, 1, 2, 4, 3], [4, 2, 1, 5, 3], [2, 4, 1, 5, 3], [1, 4, 2, 5, 3], [4, 1, 2, 5, 3], [2, 1, 4, 5, 3], [1, 2, 4, 5, 3], [5, 4, 2, 1, 3], [4, 5, 2, 1, 3], [2, 5, 4, 1, 3], [5, 2, 4, 1, 3], [4, 2, 5, 1, 3], [2, 4, 5, 1, 3], [1, 5, 4, 2, 3], [5, 1, 4, 2, 3], [4, 1, 5, 2, 3], [1, 4, 5, 2, 3], [5, 4, 1, 2, 3], [4, 5, 1, 2, 3], [3, 2, 1, 5, 4], [2, 3, 1, 5, 4], [1, 3, 2, 5, 4], [3, 1, 2, 5, 4], [2, 1, 3, 5, 4], [1, 2, 3, 5, 4], [5, 3, 2, 1, 4], [3, 5, 2, 1, 4], [2, 5, 3, 1, 4], [5, 2, 3, 1, 4], [3, 2, 5, 1, 4], [2, 3, 5, 1, 4], [1, 5, 3, 2, 4], [5, 1, 3, 2, 4], [3, 1, 5, 2, 4], [1, 3, 5, 2, 4], [5, 3, 1, 2, 4], [3, 5, 1, 2, 4], [2, 1, 5, 3, 4], [1, 2, 5, 3, 4], [5, 2, 1, 3, 4], [2, 5, 1, 3, 4], [1, 5, 2, 3, 4], [5, 1, 2, 3, 4], [4, 3, 2, 1, 5], [3, 4, 2, 1, 5], [2, 4, 3, 1, 5], [4, 2, 3, 1, 5], [3, 2, 4, 1, 5], [2, 3, 4, 1, 5], [1, 4, 3, 2, 5], [4, 1, 3, 2, 5], [3, 1, 4, 2, 5], [1, 3, 4, 2, 5], [4, 3, 1, 2, 5], [3, 4, 1, 2, 5], [2, 1, 4, 3, 5], [1, 2, 4, 3, 5], [4, 2, 1, 3, 5], [2, 4, 1, 3, 5], [1, 4, 2, 3, 5], [4, 1, 2, 3, 5], [3, 2, 1, 4, 5], [2, 3, 1, 4, 5], [1, 3, 2, 4, 5], [3, 1, 2, 4, 5], [2, 1, 3, 4, 5], [1, 2, 3, 4, 5]]\n"
     ]
    }
   ],
   "source": [
    "class Solution:\n",
    "    def permute(self, nums: list[int]) -> list[list[int]]:\n",
    "        res = []\n",
    "        if len(nums) == 1:\n",
    "            return [nums[:]]\n",
    "\n",
    "        for _ in nums:\n",
    "            n = nums.pop(0)\n",
    "            perms = self.permute(self,nums)\n",
    "            for perm in perms:\n",
    "                perm.append(n)\n",
    "            res.extend(perms)\n",
    "            nums.append(n) # because nums is passed as reference, we have to append n to the back\n",
    "        return res\n",
    "nums = [1,2,3,4,5]\n",
    "print(Solution.permute(Solution, nums))"
   ]
  },
  {
   "cell_type": "code",
   "execution_count": null,
   "metadata": {},
   "outputs": [],
   "source": [
    "class Solution:\n",
    "    def permute(self, nums: list[int]) -> list[list[int]]:\n",
    "        res = []\n",
    "        \n",
    "        def dfs(cur, remaining):\n",
    "            if not remaining:\n",
    "                res.append(cur[:])\n",
    "                return\n",
    "            \n",
    "            # Explore all possibilities by adding each element in remaining to cur\n",
    "            for i in range(len(remaining)):\n",
    "                cur.append(remaining[i])\n",
    "                dfs(cur, remaining[:i] + remaining[i+1:])\n",
    "                cur.pop()\n",
    "        \n",
    "        dfs([], nums)\n",
    "        return res\n"
   ]
  },
  {
   "cell_type": "markdown",
   "metadata": {},
   "source": [
    "#### [78. Subsets](https://leetcode.com/problems/subsets/)"
   ]
  },
  {
   "cell_type": "markdown",
   "metadata": {},
   "source": [
    "<img src=\"assets/l78.jpg\" width=400px></img>"
   ]
  },
  {
   "cell_type": "code",
   "execution_count": 42,
   "metadata": {},
   "outputs": [
    {
     "name": "stdout",
     "output_type": "stream",
     "text": [
      "CPU times: user 1.43 ms, sys: 58 µs, total: 1.49 ms\n",
      "Wall time: 1.85 ms\n"
     ]
    },
    {
     "data": {
      "text/plain": [
       "[[],\n",
       " [1],\n",
       " [1, 2],\n",
       " [1, 2, 3],\n",
       " [1, 2, 3, 4],\n",
       " [1, 2, 3, 4, 5],\n",
       " [1, 2, 3, 4, 5, 6],\n",
       " [1, 2, 3, 4, 5, 6, 7],\n",
       " [1, 2, 3, 4, 5, 6, 7, 8],\n",
       " [1, 2, 3, 4, 5, 6, 7, 8, 9],\n",
       " [1, 2, 3, 4, 5, 6, 7, 8, 9, 10],\n",
       " [1, 2, 3, 4, 5, 6, 7, 8, 9, 10, 11],\n",
       " [1, 2, 3, 4, 5, 6, 7, 8, 9, 11],\n",
       " [1, 2, 3, 4, 5, 6, 7, 8, 10],\n",
       " [1, 2, 3, 4, 5, 6, 7, 8, 10, 11],\n",
       " [1, 2, 3, 4, 5, 6, 7, 8, 11],\n",
       " [1, 2, 3, 4, 5, 6, 7, 9],\n",
       " [1, 2, 3, 4, 5, 6, 7, 9, 10],\n",
       " [1, 2, 3, 4, 5, 6, 7, 9, 10, 11],\n",
       " [1, 2, 3, 4, 5, 6, 7, 9, 11],\n",
       " [1, 2, 3, 4, 5, 6, 7, 10],\n",
       " [1, 2, 3, 4, 5, 6, 7, 10, 11],\n",
       " [1, 2, 3, 4, 5, 6, 7, 11],\n",
       " [1, 2, 3, 4, 5, 6, 8],\n",
       " [1, 2, 3, 4, 5, 6, 8, 9],\n",
       " [1, 2, 3, 4, 5, 6, 8, 9, 10],\n",
       " [1, 2, 3, 4, 5, 6, 8, 9, 10, 11],\n",
       " [1, 2, 3, 4, 5, 6, 8, 9, 11],\n",
       " [1, 2, 3, 4, 5, 6, 8, 10],\n",
       " [1, 2, 3, 4, 5, 6, 8, 10, 11],\n",
       " [1, 2, 3, 4, 5, 6, 8, 11],\n",
       " [1, 2, 3, 4, 5, 6, 9],\n",
       " [1, 2, 3, 4, 5, 6, 9, 10],\n",
       " [1, 2, 3, 4, 5, 6, 9, 10, 11],\n",
       " [1, 2, 3, 4, 5, 6, 9, 11],\n",
       " [1, 2, 3, 4, 5, 6, 10],\n",
       " [1, 2, 3, 4, 5, 6, 10, 11],\n",
       " [1, 2, 3, 4, 5, 6, 11],\n",
       " [1, 2, 3, 4, 5, 7],\n",
       " [1, 2, 3, 4, 5, 7, 8],\n",
       " [1, 2, 3, 4, 5, 7, 8, 9],\n",
       " [1, 2, 3, 4, 5, 7, 8, 9, 10],\n",
       " [1, 2, 3, 4, 5, 7, 8, 9, 10, 11],\n",
       " [1, 2, 3, 4, 5, 7, 8, 9, 11],\n",
       " [1, 2, 3, 4, 5, 7, 8, 10],\n",
       " [1, 2, 3, 4, 5, 7, 8, 10, 11],\n",
       " [1, 2, 3, 4, 5, 7, 8, 11],\n",
       " [1, 2, 3, 4, 5, 7, 9],\n",
       " [1, 2, 3, 4, 5, 7, 9, 10],\n",
       " [1, 2, 3, 4, 5, 7, 9, 10, 11],\n",
       " [1, 2, 3, 4, 5, 7, 9, 11],\n",
       " [1, 2, 3, 4, 5, 7, 10],\n",
       " [1, 2, 3, 4, 5, 7, 10, 11],\n",
       " [1, 2, 3, 4, 5, 7, 11],\n",
       " [1, 2, 3, 4, 5, 8],\n",
       " [1, 2, 3, 4, 5, 8, 9],\n",
       " [1, 2, 3, 4, 5, 8, 9, 10],\n",
       " [1, 2, 3, 4, 5, 8, 9, 10, 11],\n",
       " [1, 2, 3, 4, 5, 8, 9, 11],\n",
       " [1, 2, 3, 4, 5, 8, 10],\n",
       " [1, 2, 3, 4, 5, 8, 10, 11],\n",
       " [1, 2, 3, 4, 5, 8, 11],\n",
       " [1, 2, 3, 4, 5, 9],\n",
       " [1, 2, 3, 4, 5, 9, 10],\n",
       " [1, 2, 3, 4, 5, 9, 10, 11],\n",
       " [1, 2, 3, 4, 5, 9, 11],\n",
       " [1, 2, 3, 4, 5, 10],\n",
       " [1, 2, 3, 4, 5, 10, 11],\n",
       " [1, 2, 3, 4, 5, 11],\n",
       " [1, 2, 3, 4, 6],\n",
       " [1, 2, 3, 4, 6, 7],\n",
       " [1, 2, 3, 4, 6, 7, 8],\n",
       " [1, 2, 3, 4, 6, 7, 8, 9],\n",
       " [1, 2, 3, 4, 6, 7, 8, 9, 10],\n",
       " [1, 2, 3, 4, 6, 7, 8, 9, 10, 11],\n",
       " [1, 2, 3, 4, 6, 7, 8, 9, 11],\n",
       " [1, 2, 3, 4, 6, 7, 8, 10],\n",
       " [1, 2, 3, 4, 6, 7, 8, 10, 11],\n",
       " [1, 2, 3, 4, 6, 7, 8, 11],\n",
       " [1, 2, 3, 4, 6, 7, 9],\n",
       " [1, 2, 3, 4, 6, 7, 9, 10],\n",
       " [1, 2, 3, 4, 6, 7, 9, 10, 11],\n",
       " [1, 2, 3, 4, 6, 7, 9, 11],\n",
       " [1, 2, 3, 4, 6, 7, 10],\n",
       " [1, 2, 3, 4, 6, 7, 10, 11],\n",
       " [1, 2, 3, 4, 6, 7, 11],\n",
       " [1, 2, 3, 4, 6, 8],\n",
       " [1, 2, 3, 4, 6, 8, 9],\n",
       " [1, 2, 3, 4, 6, 8, 9, 10],\n",
       " [1, 2, 3, 4, 6, 8, 9, 10, 11],\n",
       " [1, 2, 3, 4, 6, 8, 9, 11],\n",
       " [1, 2, 3, 4, 6, 8, 10],\n",
       " [1, 2, 3, 4, 6, 8, 10, 11],\n",
       " [1, 2, 3, 4, 6, 8, 11],\n",
       " [1, 2, 3, 4, 6, 9],\n",
       " [1, 2, 3, 4, 6, 9, 10],\n",
       " [1, 2, 3, 4, 6, 9, 10, 11],\n",
       " [1, 2, 3, 4, 6, 9, 11],\n",
       " [1, 2, 3, 4, 6, 10],\n",
       " [1, 2, 3, 4, 6, 10, 11],\n",
       " [1, 2, 3, 4, 6, 11],\n",
       " [1, 2, 3, 4, 7],\n",
       " [1, 2, 3, 4, 7, 8],\n",
       " [1, 2, 3, 4, 7, 8, 9],\n",
       " [1, 2, 3, 4, 7, 8, 9, 10],\n",
       " [1, 2, 3, 4, 7, 8, 9, 10, 11],\n",
       " [1, 2, 3, 4, 7, 8, 9, 11],\n",
       " [1, 2, 3, 4, 7, 8, 10],\n",
       " [1, 2, 3, 4, 7, 8, 10, 11],\n",
       " [1, 2, 3, 4, 7, 8, 11],\n",
       " [1, 2, 3, 4, 7, 9],\n",
       " [1, 2, 3, 4, 7, 9, 10],\n",
       " [1, 2, 3, 4, 7, 9, 10, 11],\n",
       " [1, 2, 3, 4, 7, 9, 11],\n",
       " [1, 2, 3, 4, 7, 10],\n",
       " [1, 2, 3, 4, 7, 10, 11],\n",
       " [1, 2, 3, 4, 7, 11],\n",
       " [1, 2, 3, 4, 8],\n",
       " [1, 2, 3, 4, 8, 9],\n",
       " [1, 2, 3, 4, 8, 9, 10],\n",
       " [1, 2, 3, 4, 8, 9, 10, 11],\n",
       " [1, 2, 3, 4, 8, 9, 11],\n",
       " [1, 2, 3, 4, 8, 10],\n",
       " [1, 2, 3, 4, 8, 10, 11],\n",
       " [1, 2, 3, 4, 8, 11],\n",
       " [1, 2, 3, 4, 9],\n",
       " [1, 2, 3, 4, 9, 10],\n",
       " [1, 2, 3, 4, 9, 10, 11],\n",
       " [1, 2, 3, 4, 9, 11],\n",
       " [1, 2, 3, 4, 10],\n",
       " [1, 2, 3, 4, 10, 11],\n",
       " [1, 2, 3, 4, 11],\n",
       " [1, 2, 3, 5],\n",
       " [1, 2, 3, 5, 6],\n",
       " [1, 2, 3, 5, 6, 7],\n",
       " [1, 2, 3, 5, 6, 7, 8],\n",
       " [1, 2, 3, 5, 6, 7, 8, 9],\n",
       " [1, 2, 3, 5, 6, 7, 8, 9, 10],\n",
       " [1, 2, 3, 5, 6, 7, 8, 9, 10, 11],\n",
       " [1, 2, 3, 5, 6, 7, 8, 9, 11],\n",
       " [1, 2, 3, 5, 6, 7, 8, 10],\n",
       " [1, 2, 3, 5, 6, 7, 8, 10, 11],\n",
       " [1, 2, 3, 5, 6, 7, 8, 11],\n",
       " [1, 2, 3, 5, 6, 7, 9],\n",
       " [1, 2, 3, 5, 6, 7, 9, 10],\n",
       " [1, 2, 3, 5, 6, 7, 9, 10, 11],\n",
       " [1, 2, 3, 5, 6, 7, 9, 11],\n",
       " [1, 2, 3, 5, 6, 7, 10],\n",
       " [1, 2, 3, 5, 6, 7, 10, 11],\n",
       " [1, 2, 3, 5, 6, 7, 11],\n",
       " [1, 2, 3, 5, 6, 8],\n",
       " [1, 2, 3, 5, 6, 8, 9],\n",
       " [1, 2, 3, 5, 6, 8, 9, 10],\n",
       " [1, 2, 3, 5, 6, 8, 9, 10, 11],\n",
       " [1, 2, 3, 5, 6, 8, 9, 11],\n",
       " [1, 2, 3, 5, 6, 8, 10],\n",
       " [1, 2, 3, 5, 6, 8, 10, 11],\n",
       " [1, 2, 3, 5, 6, 8, 11],\n",
       " [1, 2, 3, 5, 6, 9],\n",
       " [1, 2, 3, 5, 6, 9, 10],\n",
       " [1, 2, 3, 5, 6, 9, 10, 11],\n",
       " [1, 2, 3, 5, 6, 9, 11],\n",
       " [1, 2, 3, 5, 6, 10],\n",
       " [1, 2, 3, 5, 6, 10, 11],\n",
       " [1, 2, 3, 5, 6, 11],\n",
       " [1, 2, 3, 5, 7],\n",
       " [1, 2, 3, 5, 7, 8],\n",
       " [1, 2, 3, 5, 7, 8, 9],\n",
       " [1, 2, 3, 5, 7, 8, 9, 10],\n",
       " [1, 2, 3, 5, 7, 8, 9, 10, 11],\n",
       " [1, 2, 3, 5, 7, 8, 9, 11],\n",
       " [1, 2, 3, 5, 7, 8, 10],\n",
       " [1, 2, 3, 5, 7, 8, 10, 11],\n",
       " [1, 2, 3, 5, 7, 8, 11],\n",
       " [1, 2, 3, 5, 7, 9],\n",
       " [1, 2, 3, 5, 7, 9, 10],\n",
       " [1, 2, 3, 5, 7, 9, 10, 11],\n",
       " [1, 2, 3, 5, 7, 9, 11],\n",
       " [1, 2, 3, 5, 7, 10],\n",
       " [1, 2, 3, 5, 7, 10, 11],\n",
       " [1, 2, 3, 5, 7, 11],\n",
       " [1, 2, 3, 5, 8],\n",
       " [1, 2, 3, 5, 8, 9],\n",
       " [1, 2, 3, 5, 8, 9, 10],\n",
       " [1, 2, 3, 5, 8, 9, 10, 11],\n",
       " [1, 2, 3, 5, 8, 9, 11],\n",
       " [1, 2, 3, 5, 8, 10],\n",
       " [1, 2, 3, 5, 8, 10, 11],\n",
       " [1, 2, 3, 5, 8, 11],\n",
       " [1, 2, 3, 5, 9],\n",
       " [1, 2, 3, 5, 9, 10],\n",
       " [1, 2, 3, 5, 9, 10, 11],\n",
       " [1, 2, 3, 5, 9, 11],\n",
       " [1, 2, 3, 5, 10],\n",
       " [1, 2, 3, 5, 10, 11],\n",
       " [1, 2, 3, 5, 11],\n",
       " [1, 2, 3, 6],\n",
       " [1, 2, 3, 6, 7],\n",
       " [1, 2, 3, 6, 7, 8],\n",
       " [1, 2, 3, 6, 7, 8, 9],\n",
       " [1, 2, 3, 6, 7, 8, 9, 10],\n",
       " [1, 2, 3, 6, 7, 8, 9, 10, 11],\n",
       " [1, 2, 3, 6, 7, 8, 9, 11],\n",
       " [1, 2, 3, 6, 7, 8, 10],\n",
       " [1, 2, 3, 6, 7, 8, 10, 11],\n",
       " [1, 2, 3, 6, 7, 8, 11],\n",
       " [1, 2, 3, 6, 7, 9],\n",
       " [1, 2, 3, 6, 7, 9, 10],\n",
       " [1, 2, 3, 6, 7, 9, 10, 11],\n",
       " [1, 2, 3, 6, 7, 9, 11],\n",
       " [1, 2, 3, 6, 7, 10],\n",
       " [1, 2, 3, 6, 7, 10, 11],\n",
       " [1, 2, 3, 6, 7, 11],\n",
       " [1, 2, 3, 6, 8],\n",
       " [1, 2, 3, 6, 8, 9],\n",
       " [1, 2, 3, 6, 8, 9, 10],\n",
       " [1, 2, 3, 6, 8, 9, 10, 11],\n",
       " [1, 2, 3, 6, 8, 9, 11],\n",
       " [1, 2, 3, 6, 8, 10],\n",
       " [1, 2, 3, 6, 8, 10, 11],\n",
       " [1, 2, 3, 6, 8, 11],\n",
       " [1, 2, 3, 6, 9],\n",
       " [1, 2, 3, 6, 9, 10],\n",
       " [1, 2, 3, 6, 9, 10, 11],\n",
       " [1, 2, 3, 6, 9, 11],\n",
       " [1, 2, 3, 6, 10],\n",
       " [1, 2, 3, 6, 10, 11],\n",
       " [1, 2, 3, 6, 11],\n",
       " [1, 2, 3, 7],\n",
       " [1, 2, 3, 7, 8],\n",
       " [1, 2, 3, 7, 8, 9],\n",
       " [1, 2, 3, 7, 8, 9, 10],\n",
       " [1, 2, 3, 7, 8, 9, 10, 11],\n",
       " [1, 2, 3, 7, 8, 9, 11],\n",
       " [1, 2, 3, 7, 8, 10],\n",
       " [1, 2, 3, 7, 8, 10, 11],\n",
       " [1, 2, 3, 7, 8, 11],\n",
       " [1, 2, 3, 7, 9],\n",
       " [1, 2, 3, 7, 9, 10],\n",
       " [1, 2, 3, 7, 9, 10, 11],\n",
       " [1, 2, 3, 7, 9, 11],\n",
       " [1, 2, 3, 7, 10],\n",
       " [1, 2, 3, 7, 10, 11],\n",
       " [1, 2, 3, 7, 11],\n",
       " [1, 2, 3, 8],\n",
       " [1, 2, 3, 8, 9],\n",
       " [1, 2, 3, 8, 9, 10],\n",
       " [1, 2, 3, 8, 9, 10, 11],\n",
       " [1, 2, 3, 8, 9, 11],\n",
       " [1, 2, 3, 8, 10],\n",
       " [1, 2, 3, 8, 10, 11],\n",
       " [1, 2, 3, 8, 11],\n",
       " [1, 2, 3, 9],\n",
       " [1, 2, 3, 9, 10],\n",
       " [1, 2, 3, 9, 10, 11],\n",
       " [1, 2, 3, 9, 11],\n",
       " [1, 2, 3, 10],\n",
       " [1, 2, 3, 10, 11],\n",
       " [1, 2, 3, 11],\n",
       " [1, 2, 4],\n",
       " [1, 2, 4, 5],\n",
       " [1, 2, 4, 5, 6],\n",
       " [1, 2, 4, 5, 6, 7],\n",
       " [1, 2, 4, 5, 6, 7, 8],\n",
       " [1, 2, 4, 5, 6, 7, 8, 9],\n",
       " [1, 2, 4, 5, 6, 7, 8, 9, 10],\n",
       " [1, 2, 4, 5, 6, 7, 8, 9, 10, 11],\n",
       " [1, 2, 4, 5, 6, 7, 8, 9, 11],\n",
       " [1, 2, 4, 5, 6, 7, 8, 10],\n",
       " [1, 2, 4, 5, 6, 7, 8, 10, 11],\n",
       " [1, 2, 4, 5, 6, 7, 8, 11],\n",
       " [1, 2, 4, 5, 6, 7, 9],\n",
       " [1, 2, 4, 5, 6, 7, 9, 10],\n",
       " [1, 2, 4, 5, 6, 7, 9, 10, 11],\n",
       " [1, 2, 4, 5, 6, 7, 9, 11],\n",
       " [1, 2, 4, 5, 6, 7, 10],\n",
       " [1, 2, 4, 5, 6, 7, 10, 11],\n",
       " [1, 2, 4, 5, 6, 7, 11],\n",
       " [1, 2, 4, 5, 6, 8],\n",
       " [1, 2, 4, 5, 6, 8, 9],\n",
       " [1, 2, 4, 5, 6, 8, 9, 10],\n",
       " [1, 2, 4, 5, 6, 8, 9, 10, 11],\n",
       " [1, 2, 4, 5, 6, 8, 9, 11],\n",
       " [1, 2, 4, 5, 6, 8, 10],\n",
       " [1, 2, 4, 5, 6, 8, 10, 11],\n",
       " [1, 2, 4, 5, 6, 8, 11],\n",
       " [1, 2, 4, 5, 6, 9],\n",
       " [1, 2, 4, 5, 6, 9, 10],\n",
       " [1, 2, 4, 5, 6, 9, 10, 11],\n",
       " [1, 2, 4, 5, 6, 9, 11],\n",
       " [1, 2, 4, 5, 6, 10],\n",
       " [1, 2, 4, 5, 6, 10, 11],\n",
       " [1, 2, 4, 5, 6, 11],\n",
       " [1, 2, 4, 5, 7],\n",
       " [1, 2, 4, 5, 7, 8],\n",
       " [1, 2, 4, 5, 7, 8, 9],\n",
       " [1, 2, 4, 5, 7, 8, 9, 10],\n",
       " [1, 2, 4, 5, 7, 8, 9, 10, 11],\n",
       " [1, 2, 4, 5, 7, 8, 9, 11],\n",
       " [1, 2, 4, 5, 7, 8, 10],\n",
       " [1, 2, 4, 5, 7, 8, 10, 11],\n",
       " [1, 2, 4, 5, 7, 8, 11],\n",
       " [1, 2, 4, 5, 7, 9],\n",
       " [1, 2, 4, 5, 7, 9, 10],\n",
       " [1, 2, 4, 5, 7, 9, 10, 11],\n",
       " [1, 2, 4, 5, 7, 9, 11],\n",
       " [1, 2, 4, 5, 7, 10],\n",
       " [1, 2, 4, 5, 7, 10, 11],\n",
       " [1, 2, 4, 5, 7, 11],\n",
       " [1, 2, 4, 5, 8],\n",
       " [1, 2, 4, 5, 8, 9],\n",
       " [1, 2, 4, 5, 8, 9, 10],\n",
       " [1, 2, 4, 5, 8, 9, 10, 11],\n",
       " [1, 2, 4, 5, 8, 9, 11],\n",
       " [1, 2, 4, 5, 8, 10],\n",
       " [1, 2, 4, 5, 8, 10, 11],\n",
       " [1, 2, 4, 5, 8, 11],\n",
       " [1, 2, 4, 5, 9],\n",
       " [1, 2, 4, 5, 9, 10],\n",
       " [1, 2, 4, 5, 9, 10, 11],\n",
       " [1, 2, 4, 5, 9, 11],\n",
       " [1, 2, 4, 5, 10],\n",
       " [1, 2, 4, 5, 10, 11],\n",
       " [1, 2, 4, 5, 11],\n",
       " [1, 2, 4, 6],\n",
       " [1, 2, 4, 6, 7],\n",
       " [1, 2, 4, 6, 7, 8],\n",
       " [1, 2, 4, 6, 7, 8, 9],\n",
       " [1, 2, 4, 6, 7, 8, 9, 10],\n",
       " [1, 2, 4, 6, 7, 8, 9, 10, 11],\n",
       " [1, 2, 4, 6, 7, 8, 9, 11],\n",
       " [1, 2, 4, 6, 7, 8, 10],\n",
       " [1, 2, 4, 6, 7, 8, 10, 11],\n",
       " [1, 2, 4, 6, 7, 8, 11],\n",
       " [1, 2, 4, 6, 7, 9],\n",
       " [1, 2, 4, 6, 7, 9, 10],\n",
       " [1, 2, 4, 6, 7, 9, 10, 11],\n",
       " [1, 2, 4, 6, 7, 9, 11],\n",
       " [1, 2, 4, 6, 7, 10],\n",
       " [1, 2, 4, 6, 7, 10, 11],\n",
       " [1, 2, 4, 6, 7, 11],\n",
       " [1, 2, 4, 6, 8],\n",
       " [1, 2, 4, 6, 8, 9],\n",
       " [1, 2, 4, 6, 8, 9, 10],\n",
       " [1, 2, 4, 6, 8, 9, 10, 11],\n",
       " [1, 2, 4, 6, 8, 9, 11],\n",
       " [1, 2, 4, 6, 8, 10],\n",
       " [1, 2, 4, 6, 8, 10, 11],\n",
       " [1, 2, 4, 6, 8, 11],\n",
       " [1, 2, 4, 6, 9],\n",
       " [1, 2, 4, 6, 9, 10],\n",
       " [1, 2, 4, 6, 9, 10, 11],\n",
       " [1, 2, 4, 6, 9, 11],\n",
       " [1, 2, 4, 6, 10],\n",
       " [1, 2, 4, 6, 10, 11],\n",
       " [1, 2, 4, 6, 11],\n",
       " [1, 2, 4, 7],\n",
       " [1, 2, 4, 7, 8],\n",
       " [1, 2, 4, 7, 8, 9],\n",
       " [1, 2, 4, 7, 8, 9, 10],\n",
       " [1, 2, 4, 7, 8, 9, 10, 11],\n",
       " [1, 2, 4, 7, 8, 9, 11],\n",
       " [1, 2, 4, 7, 8, 10],\n",
       " [1, 2, 4, 7, 8, 10, 11],\n",
       " [1, 2, 4, 7, 8, 11],\n",
       " [1, 2, 4, 7, 9],\n",
       " [1, 2, 4, 7, 9, 10],\n",
       " [1, 2, 4, 7, 9, 10, 11],\n",
       " [1, 2, 4, 7, 9, 11],\n",
       " [1, 2, 4, 7, 10],\n",
       " [1, 2, 4, 7, 10, 11],\n",
       " [1, 2, 4, 7, 11],\n",
       " [1, 2, 4, 8],\n",
       " [1, 2, 4, 8, 9],\n",
       " [1, 2, 4, 8, 9, 10],\n",
       " [1, 2, 4, 8, 9, 10, 11],\n",
       " [1, 2, 4, 8, 9, 11],\n",
       " [1, 2, 4, 8, 10],\n",
       " [1, 2, 4, 8, 10, 11],\n",
       " [1, 2, 4, 8, 11],\n",
       " [1, 2, 4, 9],\n",
       " [1, 2, 4, 9, 10],\n",
       " [1, 2, 4, 9, 10, 11],\n",
       " [1, 2, 4, 9, 11],\n",
       " [1, 2, 4, 10],\n",
       " [1, 2, 4, 10, 11],\n",
       " [1, 2, 4, 11],\n",
       " [1, 2, 5],\n",
       " [1, 2, 5, 6],\n",
       " [1, 2, 5, 6, 7],\n",
       " [1, 2, 5, 6, 7, 8],\n",
       " [1, 2, 5, 6, 7, 8, 9],\n",
       " [1, 2, 5, 6, 7, 8, 9, 10],\n",
       " [1, 2, 5, 6, 7, 8, 9, 10, 11],\n",
       " [1, 2, 5, 6, 7, 8, 9, 11],\n",
       " [1, 2, 5, 6, 7, 8, 10],\n",
       " [1, 2, 5, 6, 7, 8, 10, 11],\n",
       " [1, 2, 5, 6, 7, 8, 11],\n",
       " [1, 2, 5, 6, 7, 9],\n",
       " [1, 2, 5, 6, 7, 9, 10],\n",
       " [1, 2, 5, 6, 7, 9, 10, 11],\n",
       " [1, 2, 5, 6, 7, 9, 11],\n",
       " [1, 2, 5, 6, 7, 10],\n",
       " [1, 2, 5, 6, 7, 10, 11],\n",
       " [1, 2, 5, 6, 7, 11],\n",
       " [1, 2, 5, 6, 8],\n",
       " [1, 2, 5, 6, 8, 9],\n",
       " [1, 2, 5, 6, 8, 9, 10],\n",
       " [1, 2, 5, 6, 8, 9, 10, 11],\n",
       " [1, 2, 5, 6, 8, 9, 11],\n",
       " [1, 2, 5, 6, 8, 10],\n",
       " [1, 2, 5, 6, 8, 10, 11],\n",
       " [1, 2, 5, 6, 8, 11],\n",
       " [1, 2, 5, 6, 9],\n",
       " [1, 2, 5, 6, 9, 10],\n",
       " [1, 2, 5, 6, 9, 10, 11],\n",
       " [1, 2, 5, 6, 9, 11],\n",
       " [1, 2, 5, 6, 10],\n",
       " [1, 2, 5, 6, 10, 11],\n",
       " [1, 2, 5, 6, 11],\n",
       " [1, 2, 5, 7],\n",
       " [1, 2, 5, 7, 8],\n",
       " [1, 2, 5, 7, 8, 9],\n",
       " [1, 2, 5, 7, 8, 9, 10],\n",
       " [1, 2, 5, 7, 8, 9, 10, 11],\n",
       " [1, 2, 5, 7, 8, 9, 11],\n",
       " [1, 2, 5, 7, 8, 10],\n",
       " [1, 2, 5, 7, 8, 10, 11],\n",
       " [1, 2, 5, 7, 8, 11],\n",
       " [1, 2, 5, 7, 9],\n",
       " [1, 2, 5, 7, 9, 10],\n",
       " [1, 2, 5, 7, 9, 10, 11],\n",
       " [1, 2, 5, 7, 9, 11],\n",
       " [1, 2, 5, 7, 10],\n",
       " [1, 2, 5, 7, 10, 11],\n",
       " [1, 2, 5, 7, 11],\n",
       " [1, 2, 5, 8],\n",
       " [1, 2, 5, 8, 9],\n",
       " [1, 2, 5, 8, 9, 10],\n",
       " [1, 2, 5, 8, 9, 10, 11],\n",
       " [1, 2, 5, 8, 9, 11],\n",
       " [1, 2, 5, 8, 10],\n",
       " [1, 2, 5, 8, 10, 11],\n",
       " [1, 2, 5, 8, 11],\n",
       " [1, 2, 5, 9],\n",
       " [1, 2, 5, 9, 10],\n",
       " [1, 2, 5, 9, 10, 11],\n",
       " [1, 2, 5, 9, 11],\n",
       " [1, 2, 5, 10],\n",
       " [1, 2, 5, 10, 11],\n",
       " [1, 2, 5, 11],\n",
       " [1, 2, 6],\n",
       " [1, 2, 6, 7],\n",
       " [1, 2, 6, 7, 8],\n",
       " [1, 2, 6, 7, 8, 9],\n",
       " [1, 2, 6, 7, 8, 9, 10],\n",
       " [1, 2, 6, 7, 8, 9, 10, 11],\n",
       " [1, 2, 6, 7, 8, 9, 11],\n",
       " [1, 2, 6, 7, 8, 10],\n",
       " [1, 2, 6, 7, 8, 10, 11],\n",
       " [1, 2, 6, 7, 8, 11],\n",
       " [1, 2, 6, 7, 9],\n",
       " [1, 2, 6, 7, 9, 10],\n",
       " [1, 2, 6, 7, 9, 10, 11],\n",
       " [1, 2, 6, 7, 9, 11],\n",
       " [1, 2, 6, 7, 10],\n",
       " [1, 2, 6, 7, 10, 11],\n",
       " [1, 2, 6, 7, 11],\n",
       " [1, 2, 6, 8],\n",
       " [1, 2, 6, 8, 9],\n",
       " [1, 2, 6, 8, 9, 10],\n",
       " [1, 2, 6, 8, 9, 10, 11],\n",
       " [1, 2, 6, 8, 9, 11],\n",
       " [1, 2, 6, 8, 10],\n",
       " [1, 2, 6, 8, 10, 11],\n",
       " [1, 2, 6, 8, 11],\n",
       " [1, 2, 6, 9],\n",
       " [1, 2, 6, 9, 10],\n",
       " [1, 2, 6, 9, 10, 11],\n",
       " [1, 2, 6, 9, 11],\n",
       " [1, 2, 6, 10],\n",
       " [1, 2, 6, 10, 11],\n",
       " [1, 2, 6, 11],\n",
       " [1, 2, 7],\n",
       " [1, 2, 7, 8],\n",
       " [1, 2, 7, 8, 9],\n",
       " [1, 2, 7, 8, 9, 10],\n",
       " [1, 2, 7, 8, 9, 10, 11],\n",
       " [1, 2, 7, 8, 9, 11],\n",
       " [1, 2, 7, 8, 10],\n",
       " [1, 2, 7, 8, 10, 11],\n",
       " [1, 2, 7, 8, 11],\n",
       " [1, 2, 7, 9],\n",
       " [1, 2, 7, 9, 10],\n",
       " [1, 2, 7, 9, 10, 11],\n",
       " [1, 2, 7, 9, 11],\n",
       " [1, 2, 7, 10],\n",
       " [1, 2, 7, 10, 11],\n",
       " [1, 2, 7, 11],\n",
       " [1, 2, 8],\n",
       " [1, 2, 8, 9],\n",
       " [1, 2, 8, 9, 10],\n",
       " [1, 2, 8, 9, 10, 11],\n",
       " [1, 2, 8, 9, 11],\n",
       " [1, 2, 8, 10],\n",
       " [1, 2, 8, 10, 11],\n",
       " [1, 2, 8, 11],\n",
       " [1, 2, 9],\n",
       " [1, 2, 9, 10],\n",
       " [1, 2, 9, 10, 11],\n",
       " [1, 2, 9, 11],\n",
       " [1, 2, 10],\n",
       " [1, 2, 10, 11],\n",
       " [1, 2, 11],\n",
       " [1, 3],\n",
       " [1, 3, 4],\n",
       " [1, 3, 4, 5],\n",
       " [1, 3, 4, 5, 6],\n",
       " [1, 3, 4, 5, 6, 7],\n",
       " [1, 3, 4, 5, 6, 7, 8],\n",
       " [1, 3, 4, 5, 6, 7, 8, 9],\n",
       " [1, 3, 4, 5, 6, 7, 8, 9, 10],\n",
       " [1, 3, 4, 5, 6, 7, 8, 9, 10, 11],\n",
       " [1, 3, 4, 5, 6, 7, 8, 9, 11],\n",
       " [1, 3, 4, 5, 6, 7, 8, 10],\n",
       " [1, 3, 4, 5, 6, 7, 8, 10, 11],\n",
       " [1, 3, 4, 5, 6, 7, 8, 11],\n",
       " [1, 3, 4, 5, 6, 7, 9],\n",
       " [1, 3, 4, 5, 6, 7, 9, 10],\n",
       " [1, 3, 4, 5, 6, 7, 9, 10, 11],\n",
       " [1, 3, 4, 5, 6, 7, 9, 11],\n",
       " [1, 3, 4, 5, 6, 7, 10],\n",
       " [1, 3, 4, 5, 6, 7, 10, 11],\n",
       " [1, 3, 4, 5, 6, 7, 11],\n",
       " [1, 3, 4, 5, 6, 8],\n",
       " [1, 3, 4, 5, 6, 8, 9],\n",
       " [1, 3, 4, 5, 6, 8, 9, 10],\n",
       " [1, 3, 4, 5, 6, 8, 9, 10, 11],\n",
       " [1, 3, 4, 5, 6, 8, 9, 11],\n",
       " [1, 3, 4, 5, 6, 8, 10],\n",
       " [1, 3, 4, 5, 6, 8, 10, 11],\n",
       " [1, 3, 4, 5, 6, 8, 11],\n",
       " [1, 3, 4, 5, 6, 9],\n",
       " [1, 3, 4, 5, 6, 9, 10],\n",
       " [1, 3, 4, 5, 6, 9, 10, 11],\n",
       " [1, 3, 4, 5, 6, 9, 11],\n",
       " [1, 3, 4, 5, 6, 10],\n",
       " [1, 3, 4, 5, 6, 10, 11],\n",
       " [1, 3, 4, 5, 6, 11],\n",
       " [1, 3, 4, 5, 7],\n",
       " [1, 3, 4, 5, 7, 8],\n",
       " [1, 3, 4, 5, 7, 8, 9],\n",
       " [1, 3, 4, 5, 7, 8, 9, 10],\n",
       " [1, 3, 4, 5, 7, 8, 9, 10, 11],\n",
       " [1, 3, 4, 5, 7, 8, 9, 11],\n",
       " [1, 3, 4, 5, 7, 8, 10],\n",
       " [1, 3, 4, 5, 7, 8, 10, 11],\n",
       " [1, 3, 4, 5, 7, 8, 11],\n",
       " [1, 3, 4, 5, 7, 9],\n",
       " [1, 3, 4, 5, 7, 9, 10],\n",
       " [1, 3, 4, 5, 7, 9, 10, 11],\n",
       " [1, 3, 4, 5, 7, 9, 11],\n",
       " [1, 3, 4, 5, 7, 10],\n",
       " [1, 3, 4, 5, 7, 10, 11],\n",
       " [1, 3, 4, 5, 7, 11],\n",
       " [1, 3, 4, 5, 8],\n",
       " [1, 3, 4, 5, 8, 9],\n",
       " [1, 3, 4, 5, 8, 9, 10],\n",
       " [1, 3, 4, 5, 8, 9, 10, 11],\n",
       " [1, 3, 4, 5, 8, 9, 11],\n",
       " [1, 3, 4, 5, 8, 10],\n",
       " [1, 3, 4, 5, 8, 10, 11],\n",
       " [1, 3, 4, 5, 8, 11],\n",
       " [1, 3, 4, 5, 9],\n",
       " [1, 3, 4, 5, 9, 10],\n",
       " [1, 3, 4, 5, 9, 10, 11],\n",
       " [1, 3, 4, 5, 9, 11],\n",
       " [1, 3, 4, 5, 10],\n",
       " [1, 3, 4, 5, 10, 11],\n",
       " [1, 3, 4, 5, 11],\n",
       " [1, 3, 4, 6],\n",
       " [1, 3, 4, 6, 7],\n",
       " [1, 3, 4, 6, 7, 8],\n",
       " [1, 3, 4, 6, 7, 8, 9],\n",
       " [1, 3, 4, 6, 7, 8, 9, 10],\n",
       " [1, 3, 4, 6, 7, 8, 9, 10, 11],\n",
       " [1, 3, 4, 6, 7, 8, 9, 11],\n",
       " [1, 3, 4, 6, 7, 8, 10],\n",
       " [1, 3, 4, 6, 7, 8, 10, 11],\n",
       " [1, 3, 4, 6, 7, 8, 11],\n",
       " [1, 3, 4, 6, 7, 9],\n",
       " [1, 3, 4, 6, 7, 9, 10],\n",
       " [1, 3, 4, 6, 7, 9, 10, 11],\n",
       " [1, 3, 4, 6, 7, 9, 11],\n",
       " [1, 3, 4, 6, 7, 10],\n",
       " [1, 3, 4, 6, 7, 10, 11],\n",
       " [1, 3, 4, 6, 7, 11],\n",
       " [1, 3, 4, 6, 8],\n",
       " [1, 3, 4, 6, 8, 9],\n",
       " [1, 3, 4, 6, 8, 9, 10],\n",
       " [1, 3, 4, 6, 8, 9, 10, 11],\n",
       " [1, 3, 4, 6, 8, 9, 11],\n",
       " [1, 3, 4, 6, 8, 10],\n",
       " [1, 3, 4, 6, 8, 10, 11],\n",
       " [1, 3, 4, 6, 8, 11],\n",
       " [1, 3, 4, 6, 9],\n",
       " [1, 3, 4, 6, 9, 10],\n",
       " [1, 3, 4, 6, 9, 10, 11],\n",
       " [1, 3, 4, 6, 9, 11],\n",
       " [1, 3, 4, 6, 10],\n",
       " [1, 3, 4, 6, 10, 11],\n",
       " [1, 3, 4, 6, 11],\n",
       " [1, 3, 4, 7],\n",
       " [1, 3, 4, 7, 8],\n",
       " [1, 3, 4, 7, 8, 9],\n",
       " [1, 3, 4, 7, 8, 9, 10],\n",
       " [1, 3, 4, 7, 8, 9, 10, 11],\n",
       " [1, 3, 4, 7, 8, 9, 11],\n",
       " [1, 3, 4, 7, 8, 10],\n",
       " [1, 3, 4, 7, 8, 10, 11],\n",
       " [1, 3, 4, 7, 8, 11],\n",
       " [1, 3, 4, 7, 9],\n",
       " [1, 3, 4, 7, 9, 10],\n",
       " [1, 3, 4, 7, 9, 10, 11],\n",
       " [1, 3, 4, 7, 9, 11],\n",
       " [1, 3, 4, 7, 10],\n",
       " [1, 3, 4, 7, 10, 11],\n",
       " [1, 3, 4, 7, 11],\n",
       " [1, 3, 4, 8],\n",
       " [1, 3, 4, 8, 9],\n",
       " [1, 3, 4, 8, 9, 10],\n",
       " [1, 3, 4, 8, 9, 10, 11],\n",
       " [1, 3, 4, 8, 9, 11],\n",
       " [1, 3, 4, 8, 10],\n",
       " [1, 3, 4, 8, 10, 11],\n",
       " [1, 3, 4, 8, 11],\n",
       " [1, 3, 4, 9],\n",
       " [1, 3, 4, 9, 10],\n",
       " [1, 3, 4, 9, 10, 11],\n",
       " [1, 3, 4, 9, 11],\n",
       " [1, 3, 4, 10],\n",
       " [1, 3, 4, 10, 11],\n",
       " [1, 3, 4, 11],\n",
       " [1, 3, 5],\n",
       " [1, 3, 5, 6],\n",
       " [1, 3, 5, 6, 7],\n",
       " [1, 3, 5, 6, 7, 8],\n",
       " [1, 3, 5, 6, 7, 8, 9],\n",
       " [1, 3, 5, 6, 7, 8, 9, 10],\n",
       " [1, 3, 5, 6, 7, 8, 9, 10, 11],\n",
       " [1, 3, 5, 6, 7, 8, 9, 11],\n",
       " [1, 3, 5, 6, 7, 8, 10],\n",
       " [1, 3, 5, 6, 7, 8, 10, 11],\n",
       " [1, 3, 5, 6, 7, 8, 11],\n",
       " [1, 3, 5, 6, 7, 9],\n",
       " [1, 3, 5, 6, 7, 9, 10],\n",
       " [1, 3, 5, 6, 7, 9, 10, 11],\n",
       " [1, 3, 5, 6, 7, 9, 11],\n",
       " [1, 3, 5, 6, 7, 10],\n",
       " [1, 3, 5, 6, 7, 10, 11],\n",
       " [1, 3, 5, 6, 7, 11],\n",
       " [1, 3, 5, 6, 8],\n",
       " [1, 3, 5, 6, 8, 9],\n",
       " [1, 3, 5, 6, 8, 9, 10],\n",
       " [1, 3, 5, 6, 8, 9, 10, 11],\n",
       " [1, 3, 5, 6, 8, 9, 11],\n",
       " [1, 3, 5, 6, 8, 10],\n",
       " [1, 3, 5, 6, 8, 10, 11],\n",
       " [1, 3, 5, 6, 8, 11],\n",
       " [1, 3, 5, 6, 9],\n",
       " [1, 3, 5, 6, 9, 10],\n",
       " [1, 3, 5, 6, 9, 10, 11],\n",
       " [1, 3, 5, 6, 9, 11],\n",
       " [1, 3, 5, 6, 10],\n",
       " [1, 3, 5, 6, 10, 11],\n",
       " [1, 3, 5, 6, 11],\n",
       " [1, 3, 5, 7],\n",
       " [1, 3, 5, 7, 8],\n",
       " [1, 3, 5, 7, 8, 9],\n",
       " [1, 3, 5, 7, 8, 9, 10],\n",
       " [1, 3, 5, 7, 8, 9, 10, 11],\n",
       " [1, 3, 5, 7, 8, 9, 11],\n",
       " [1, 3, 5, 7, 8, 10],\n",
       " [1, 3, 5, 7, 8, 10, 11],\n",
       " [1, 3, 5, 7, 8, 11],\n",
       " [1, 3, 5, 7, 9],\n",
       " [1, 3, 5, 7, 9, 10],\n",
       " [1, 3, 5, 7, 9, 10, 11],\n",
       " [1, 3, 5, 7, 9, 11],\n",
       " [1, 3, 5, 7, 10],\n",
       " [1, 3, 5, 7, 10, 11],\n",
       " [1, 3, 5, 7, 11],\n",
       " [1, 3, 5, 8],\n",
       " [1, 3, 5, 8, 9],\n",
       " [1, 3, 5, 8, 9, 10],\n",
       " [1, 3, 5, 8, 9, 10, 11],\n",
       " [1, 3, 5, 8, 9, 11],\n",
       " [1, 3, 5, 8, 10],\n",
       " [1, 3, 5, 8, 10, 11],\n",
       " [1, 3, 5, 8, 11],\n",
       " [1, 3, 5, 9],\n",
       " [1, 3, 5, 9, 10],\n",
       " [1, 3, 5, 9, 10, 11],\n",
       " [1, 3, 5, 9, 11],\n",
       " [1, 3, 5, 10],\n",
       " [1, 3, 5, 10, 11],\n",
       " [1, 3, 5, 11],\n",
       " [1, 3, 6],\n",
       " [1, 3, 6, 7],\n",
       " [1, 3, 6, 7, 8],\n",
       " [1, 3, 6, 7, 8, 9],\n",
       " [1, 3, 6, 7, 8, 9, 10],\n",
       " [1, 3, 6, 7, 8, 9, 10, 11],\n",
       " [1, 3, 6, 7, 8, 9, 11],\n",
       " [1, 3, 6, 7, 8, 10],\n",
       " [1, 3, 6, 7, 8, 10, 11],\n",
       " [1, 3, 6, 7, 8, 11],\n",
       " [1, 3, 6, 7, 9],\n",
       " [1, 3, 6, 7, 9, 10],\n",
       " [1, 3, 6, 7, 9, 10, 11],\n",
       " [1, 3, 6, 7, 9, 11],\n",
       " [1, 3, 6, 7, 10],\n",
       " [1, 3, 6, 7, 10, 11],\n",
       " [1, 3, 6, 7, 11],\n",
       " [1, 3, 6, 8],\n",
       " [1, 3, 6, 8, 9],\n",
       " [1, 3, 6, 8, 9, 10],\n",
       " [1, 3, 6, 8, 9, 10, 11],\n",
       " [1, 3, 6, 8, 9, 11],\n",
       " [1, 3, 6, 8, 10],\n",
       " [1, 3, 6, 8, 10, 11],\n",
       " [1, 3, 6, 8, 11],\n",
       " [1, 3, 6, 9],\n",
       " [1, 3, 6, 9, 10],\n",
       " [1, 3, 6, 9, 10, 11],\n",
       " [1, 3, 6, 9, 11],\n",
       " [1, 3, 6, 10],\n",
       " [1, 3, 6, 10, 11],\n",
       " [1, 3, 6, 11],\n",
       " [1, 3, 7],\n",
       " [1, 3, 7, 8],\n",
       " [1, 3, 7, 8, 9],\n",
       " [1, 3, 7, 8, 9, 10],\n",
       " [1, 3, 7, 8, 9, 10, 11],\n",
       " [1, 3, 7, 8, 9, 11],\n",
       " [1, 3, 7, 8, 10],\n",
       " [1, 3, 7, 8, 10, 11],\n",
       " [1, 3, 7, 8, 11],\n",
       " [1, 3, 7, 9],\n",
       " [1, 3, 7, 9, 10],\n",
       " [1, 3, 7, 9, 10, 11],\n",
       " [1, 3, 7, 9, 11],\n",
       " [1, 3, 7, 10],\n",
       " [1, 3, 7, 10, 11],\n",
       " [1, 3, 7, 11],\n",
       " [1, 3, 8],\n",
       " [1, 3, 8, 9],\n",
       " [1, 3, 8, 9, 10],\n",
       " [1, 3, 8, 9, 10, 11],\n",
       " [1, 3, 8, 9, 11],\n",
       " [1, 3, 8, 10],\n",
       " [1, 3, 8, 10, 11],\n",
       " [1, 3, 8, 11],\n",
       " [1, 3, 9],\n",
       " [1, 3, 9, 10],\n",
       " [1, 3, 9, 10, 11],\n",
       " [1, 3, 9, 11],\n",
       " [1, 3, 10],\n",
       " [1, 3, 10, 11],\n",
       " [1, 3, 11],\n",
       " [1, 4],\n",
       " [1, 4, 5],\n",
       " [1, 4, 5, 6],\n",
       " [1, 4, 5, 6, 7],\n",
       " [1, 4, 5, 6, 7, 8],\n",
       " [1, 4, 5, 6, 7, 8, 9],\n",
       " [1, 4, 5, 6, 7, 8, 9, 10],\n",
       " [1, 4, 5, 6, 7, 8, 9, 10, 11],\n",
       " [1, 4, 5, 6, 7, 8, 9, 11],\n",
       " [1, 4, 5, 6, 7, 8, 10],\n",
       " [1, 4, 5, 6, 7, 8, 10, 11],\n",
       " [1, 4, 5, 6, 7, 8, 11],\n",
       " [1, 4, 5, 6, 7, 9],\n",
       " [1, 4, 5, 6, 7, 9, 10],\n",
       " [1, 4, 5, 6, 7, 9, 10, 11],\n",
       " [1, 4, 5, 6, 7, 9, 11],\n",
       " [1, 4, 5, 6, 7, 10],\n",
       " [1, 4, 5, 6, 7, 10, 11],\n",
       " [1, 4, 5, 6, 7, 11],\n",
       " [1, 4, 5, 6, 8],\n",
       " [1, 4, 5, 6, 8, 9],\n",
       " [1, 4, 5, 6, 8, 9, 10],\n",
       " [1, 4, 5, 6, 8, 9, 10, 11],\n",
       " [1, 4, 5, 6, 8, 9, 11],\n",
       " [1, 4, 5, 6, 8, 10],\n",
       " [1, 4, 5, 6, 8, 10, 11],\n",
       " [1, 4, 5, 6, 8, 11],\n",
       " [1, 4, 5, 6, 9],\n",
       " [1, 4, 5, 6, 9, 10],\n",
       " [1, 4, 5, 6, 9, 10, 11],\n",
       " [1, 4, 5, 6, 9, 11],\n",
       " [1, 4, 5, 6, 10],\n",
       " [1, 4, 5, 6, 10, 11],\n",
       " [1, 4, 5, 6, 11],\n",
       " [1, 4, 5, 7],\n",
       " [1, 4, 5, 7, 8],\n",
       " [1, 4, 5, 7, 8, 9],\n",
       " [1, 4, 5, 7, 8, 9, 10],\n",
       " [1, 4, 5, 7, 8, 9, 10, 11],\n",
       " [1, 4, 5, 7, 8, 9, 11],\n",
       " [1, 4, 5, 7, 8, 10],\n",
       " [1, 4, 5, 7, 8, 10, 11],\n",
       " [1, 4, 5, 7, 8, 11],\n",
       " [1, 4, 5, 7, 9],\n",
       " [1, 4, 5, 7, 9, 10],\n",
       " [1, 4, 5, 7, 9, 10, 11],\n",
       " [1, 4, 5, 7, 9, 11],\n",
       " [1, 4, 5, 7, 10],\n",
       " [1, 4, 5, 7, 10, 11],\n",
       " [1, 4, 5, 7, 11],\n",
       " [1, 4, 5, 8],\n",
       " [1, 4, 5, 8, 9],\n",
       " [1, 4, 5, 8, 9, 10],\n",
       " [1, 4, 5, 8, 9, 10, 11],\n",
       " [1, 4, 5, 8, 9, 11],\n",
       " [1, 4, 5, 8, 10],\n",
       " [1, 4, 5, 8, 10, 11],\n",
       " [1, 4, 5, 8, 11],\n",
       " [1, 4, 5, 9],\n",
       " [1, 4, 5, 9, 10],\n",
       " [1, 4, 5, 9, 10, 11],\n",
       " [1, 4, 5, 9, 11],\n",
       " [1, 4, 5, 10],\n",
       " [1, 4, 5, 10, 11],\n",
       " [1, 4, 5, 11],\n",
       " [1, 4, 6],\n",
       " [1, 4, 6, 7],\n",
       " [1, 4, 6, 7, 8],\n",
       " [1, 4, 6, 7, 8, 9],\n",
       " [1, 4, 6, 7, 8, 9, 10],\n",
       " [1, 4, 6, 7, 8, 9, 10, 11],\n",
       " [1, 4, 6, 7, 8, 9, 11],\n",
       " [1, 4, 6, 7, 8, 10],\n",
       " [1, 4, 6, 7, 8, 10, 11],\n",
       " [1, 4, 6, 7, 8, 11],\n",
       " [1, 4, 6, 7, 9],\n",
       " [1, 4, 6, 7, 9, 10],\n",
       " [1, 4, 6, 7, 9, 10, 11],\n",
       " [1, 4, 6, 7, 9, 11],\n",
       " [1, 4, 6, 7, 10],\n",
       " [1, 4, 6, 7, 10, 11],\n",
       " [1, 4, 6, 7, 11],\n",
       " [1, 4, 6, 8],\n",
       " [1, 4, 6, 8, 9],\n",
       " [1, 4, 6, 8, 9, 10],\n",
       " [1, 4, 6, 8, 9, 10, 11],\n",
       " [1, 4, 6, 8, 9, 11],\n",
       " [1, 4, 6, 8, 10],\n",
       " [1, 4, 6, 8, 10, 11],\n",
       " [1, 4, 6, 8, 11],\n",
       " [1, 4, 6, 9],\n",
       " [1, 4, 6, 9, 10],\n",
       " [1, 4, 6, 9, 10, 11],\n",
       " [1, 4, 6, 9, 11],\n",
       " [1, 4, 6, 10],\n",
       " [1, 4, 6, 10, 11],\n",
       " [1, 4, 6, 11],\n",
       " [1, 4, 7],\n",
       " [1, 4, 7, 8],\n",
       " [1, 4, 7, 8, 9],\n",
       " [1, 4, 7, 8, 9, 10],\n",
       " [1, 4, 7, 8, 9, 10, 11],\n",
       " [1, 4, 7, 8, 9, 11],\n",
       " [1, 4, 7, 8, 10],\n",
       " [1, 4, 7, 8, 10, 11],\n",
       " [1, 4, 7, 8, 11],\n",
       " [1, 4, 7, 9],\n",
       " [1, 4, 7, 9, 10],\n",
       " [1, 4, 7, 9, 10, 11],\n",
       " [1, 4, 7, 9, 11],\n",
       " [1, 4, 7, 10],\n",
       " [1, 4, 7, 10, 11],\n",
       " [1, 4, 7, 11],\n",
       " [1, 4, 8],\n",
       " [1, 4, 8, 9],\n",
       " [1, 4, 8, 9, 10],\n",
       " [1, 4, 8, 9, 10, 11],\n",
       " [1, 4, 8, 9, 11],\n",
       " [1, 4, 8, 10],\n",
       " [1, 4, 8, 10, 11],\n",
       " [1, 4, 8, 11],\n",
       " [1, 4, 9],\n",
       " [1, 4, 9, 10],\n",
       " [1, 4, 9, 10, 11],\n",
       " [1, 4, 9, 11],\n",
       " [1, 4, 10],\n",
       " [1, 4, 10, 11],\n",
       " [1, 4, 11],\n",
       " [1, 5],\n",
       " [1, 5, 6],\n",
       " [1, 5, 6, 7],\n",
       " [1, 5, 6, 7, 8],\n",
       " [1, 5, 6, 7, 8, 9],\n",
       " [1, 5, 6, 7, 8, 9, 10],\n",
       " [1, 5, 6, 7, 8, 9, 10, 11],\n",
       " [1, 5, 6, 7, 8, 9, 11],\n",
       " [1, 5, 6, 7, 8, 10],\n",
       " [1, 5, 6, 7, 8, 10, 11],\n",
       " [1, 5, 6, 7, 8, 11],\n",
       " [1, 5, 6, 7, 9],\n",
       " [1, 5, 6, 7, 9, 10],\n",
       " [1, 5, 6, 7, 9, 10, 11],\n",
       " [1, 5, 6, 7, 9, 11],\n",
       " [1, 5, 6, 7, 10],\n",
       " [1, 5, 6, 7, 10, 11],\n",
       " [1, 5, 6, 7, 11],\n",
       " [1, 5, 6, 8],\n",
       " [1, 5, 6, 8, 9],\n",
       " [1, 5, 6, 8, 9, 10],\n",
       " [1, 5, 6, 8, 9, 10, 11],\n",
       " [1, 5, 6, 8, 9, 11],\n",
       " [1, 5, 6, 8, 10],\n",
       " [1, 5, 6, 8, 10, 11],\n",
       " [1, 5, 6, 8, 11],\n",
       " [1, 5, 6, 9],\n",
       " [1, 5, 6, 9, 10],\n",
       " [1, 5, 6, 9, 10, 11],\n",
       " [1, 5, 6, 9, 11],\n",
       " [1, 5, 6, 10],\n",
       " [1, 5, 6, 10, 11],\n",
       " [1, 5, 6, 11],\n",
       " [1, 5, 7],\n",
       " [1, 5, 7, 8],\n",
       " [1, 5, 7, 8, 9],\n",
       " [1, 5, 7, 8, 9, 10],\n",
       " [1, 5, 7, 8, 9, 10, 11],\n",
       " [1, 5, 7, 8, 9, 11],\n",
       " [1, 5, 7, 8, 10],\n",
       " [1, 5, 7, 8, 10, 11],\n",
       " [1, 5, 7, 8, 11],\n",
       " [1, 5, 7, 9],\n",
       " [1, 5, 7, 9, 10],\n",
       " [1, 5, 7, 9, 10, 11],\n",
       " [1, 5, 7, 9, 11],\n",
       " [1, 5, 7, 10],\n",
       " [1, 5, 7, 10, 11],\n",
       " [1, 5, 7, 11],\n",
       " [1, 5, 8],\n",
       " [1, 5, 8, 9],\n",
       " [1, 5, 8, 9, 10],\n",
       " [1, 5, 8, 9, 10, 11],\n",
       " [1, 5, 8, 9, 11],\n",
       " [1, 5, 8, 10],\n",
       " [1, 5, 8, 10, 11],\n",
       " [1, 5, 8, 11],\n",
       " [1, 5, 9],\n",
       " [1, 5, 9, 10],\n",
       " [1, 5, 9, 10, 11],\n",
       " [1, 5, 9, 11],\n",
       " [1, 5, 10],\n",
       " [1, 5, 10, 11],\n",
       " [1, 5, 11],\n",
       " [1, 6],\n",
       " [1, 6, 7],\n",
       " [1, 6, 7, 8],\n",
       " [1, 6, 7, 8, 9],\n",
       " [1, 6, 7, 8, 9, 10],\n",
       " [1, 6, 7, 8, 9, 10, 11],\n",
       " [1, 6, 7, 8, 9, 11],\n",
       " [1, 6, 7, 8, 10],\n",
       " [1, 6, 7, 8, 10, 11],\n",
       " [1, 6, 7, 8, 11],\n",
       " [1, 6, 7, 9],\n",
       " [1, 6, 7, 9, 10],\n",
       " [1, 6, 7, 9, 10, 11],\n",
       " [1, 6, 7, 9, 11],\n",
       " [1, 6, 7, 10],\n",
       " [1, 6, 7, 10, 11],\n",
       " [1, 6, 7, 11],\n",
       " [1, 6, 8],\n",
       " [1, 6, 8, 9],\n",
       " [1, 6, 8, 9, 10],\n",
       " [1, 6, 8, 9, 10, 11],\n",
       " [1, 6, 8, 9, 11],\n",
       " [1, 6, 8, 10],\n",
       " [1, 6, 8, 10, 11],\n",
       " [1, 6, 8, 11],\n",
       " [1, 6, 9],\n",
       " [1, 6, 9, 10],\n",
       " [1, 6, 9, 10, 11],\n",
       " [1, 6, 9, 11],\n",
       " [1, 6, 10],\n",
       " [1, 6, 10, 11],\n",
       " [1, 6, 11],\n",
       " [1, 7],\n",
       " [1, 7, 8],\n",
       " [1, 7, 8, 9],\n",
       " [1, 7, 8, 9, 10],\n",
       " [1, 7, 8, 9, 10, 11],\n",
       " [1, 7, 8, 9, 11],\n",
       " ...]"
      ]
     },
     "execution_count": 42,
     "metadata": {},
     "output_type": "execute_result"
    }
   ],
   "source": [
    "%%time\n",
    "class Solution:\n",
    "    def subsets(self, nums: list[int]) -> list[list[int]]:\n",
    "        res = [[]]        \n",
    "        def dfs(nums, subset):\n",
    "            \n",
    "            for i in range(len(nums)):\n",
    "                subset.append(nums[i])\n",
    "\n",
    "                res.append(subset[:])\n",
    "                dfs(nums[i+1:], subset)\n",
    "\n",
    "                subset.pop()\n",
    "         \n",
    "        dfs(nums, [])\n",
    "\n",
    "        return res\n",
    "nums = [n for n in range(1,12)]\n",
    "Solution.subsets(Solution, nums)"
   ]
  },
  {
   "cell_type": "markdown",
   "metadata": {},
   "source": [
    "Neet approach:\n",
    "DFS decision tree to choose either append or not append nums[i]\n",
    "<img src=\"assets/subset.png\" width=400px></img>"
   ]
  },
  {
   "cell_type": "code",
   "execution_count": 34,
   "metadata": {},
   "outputs": [
    {
     "name": "stdout",
     "output_type": "stream",
     "text": [
      "[[1, 2, 3, 4, 5, 6, 7, 8, 9, 10, 11], [1, 2, 3, 4, 5, 6, 7, 8, 9, 10], [1, 2, 3, 4, 5, 6, 7, 8, 9, 11], [1, 2, 3, 4, 5, 6, 7, 8, 9], [1, 2, 3, 4, 5, 6, 7, 8, 10, 11], [1, 2, 3, 4, 5, 6, 7, 8, 10], [1, 2, 3, 4, 5, 6, 7, 8, 11], [1, 2, 3, 4, 5, 6, 7, 8], [1, 2, 3, 4, 5, 6, 7, 9, 10, 11], [1, 2, 3, 4, 5, 6, 7, 9, 10], [1, 2, 3, 4, 5, 6, 7, 9, 11], [1, 2, 3, 4, 5, 6, 7, 9], [1, 2, 3, 4, 5, 6, 7, 10, 11], [1, 2, 3, 4, 5, 6, 7, 10], [1, 2, 3, 4, 5, 6, 7, 11], [1, 2, 3, 4, 5, 6, 7], [1, 2, 3, 4, 5, 6, 8, 9, 10, 11], [1, 2, 3, 4, 5, 6, 8, 9, 10], [1, 2, 3, 4, 5, 6, 8, 9, 11], [1, 2, 3, 4, 5, 6, 8, 9], [1, 2, 3, 4, 5, 6, 8, 10, 11], [1, 2, 3, 4, 5, 6, 8, 10], [1, 2, 3, 4, 5, 6, 8, 11], [1, 2, 3, 4, 5, 6, 8], [1, 2, 3, 4, 5, 6, 9, 10, 11], [1, 2, 3, 4, 5, 6, 9, 10], [1, 2, 3, 4, 5, 6, 9, 11], [1, 2, 3, 4, 5, 6, 9], [1, 2, 3, 4, 5, 6, 10, 11], [1, 2, 3, 4, 5, 6, 10], [1, 2, 3, 4, 5, 6, 11], [1, 2, 3, 4, 5, 6], [1, 2, 3, 4, 5, 7, 8, 9, 10, 11], [1, 2, 3, 4, 5, 7, 8, 9, 10], [1, 2, 3, 4, 5, 7, 8, 9, 11], [1, 2, 3, 4, 5, 7, 8, 9], [1, 2, 3, 4, 5, 7, 8, 10, 11], [1, 2, 3, 4, 5, 7, 8, 10], [1, 2, 3, 4, 5, 7, 8, 11], [1, 2, 3, 4, 5, 7, 8], [1, 2, 3, 4, 5, 7, 9, 10, 11], [1, 2, 3, 4, 5, 7, 9, 10], [1, 2, 3, 4, 5, 7, 9, 11], [1, 2, 3, 4, 5, 7, 9], [1, 2, 3, 4, 5, 7, 10, 11], [1, 2, 3, 4, 5, 7, 10], [1, 2, 3, 4, 5, 7, 11], [1, 2, 3, 4, 5, 7], [1, 2, 3, 4, 5, 8, 9, 10, 11], [1, 2, 3, 4, 5, 8, 9, 10], [1, 2, 3, 4, 5, 8, 9, 11], [1, 2, 3, 4, 5, 8, 9], [1, 2, 3, 4, 5, 8, 10, 11], [1, 2, 3, 4, 5, 8, 10], [1, 2, 3, 4, 5, 8, 11], [1, 2, 3, 4, 5, 8], [1, 2, 3, 4, 5, 9, 10, 11], [1, 2, 3, 4, 5, 9, 10], [1, 2, 3, 4, 5, 9, 11], [1, 2, 3, 4, 5, 9], [1, 2, 3, 4, 5, 10, 11], [1, 2, 3, 4, 5, 10], [1, 2, 3, 4, 5, 11], [1, 2, 3, 4, 5], [1, 2, 3, 4, 6, 7, 8, 9, 10, 11], [1, 2, 3, 4, 6, 7, 8, 9, 10], [1, 2, 3, 4, 6, 7, 8, 9, 11], [1, 2, 3, 4, 6, 7, 8, 9], [1, 2, 3, 4, 6, 7, 8, 10, 11], [1, 2, 3, 4, 6, 7, 8, 10], [1, 2, 3, 4, 6, 7, 8, 11], [1, 2, 3, 4, 6, 7, 8], [1, 2, 3, 4, 6, 7, 9, 10, 11], [1, 2, 3, 4, 6, 7, 9, 10], [1, 2, 3, 4, 6, 7, 9, 11], [1, 2, 3, 4, 6, 7, 9], [1, 2, 3, 4, 6, 7, 10, 11], [1, 2, 3, 4, 6, 7, 10], [1, 2, 3, 4, 6, 7, 11], [1, 2, 3, 4, 6, 7], [1, 2, 3, 4, 6, 8, 9, 10, 11], [1, 2, 3, 4, 6, 8, 9, 10], [1, 2, 3, 4, 6, 8, 9, 11], [1, 2, 3, 4, 6, 8, 9], [1, 2, 3, 4, 6, 8, 10, 11], [1, 2, 3, 4, 6, 8, 10], [1, 2, 3, 4, 6, 8, 11], [1, 2, 3, 4, 6, 8], [1, 2, 3, 4, 6, 9, 10, 11], [1, 2, 3, 4, 6, 9, 10], [1, 2, 3, 4, 6, 9, 11], [1, 2, 3, 4, 6, 9], [1, 2, 3, 4, 6, 10, 11], [1, 2, 3, 4, 6, 10], [1, 2, 3, 4, 6, 11], [1, 2, 3, 4, 6], [1, 2, 3, 4, 7, 8, 9, 10, 11], [1, 2, 3, 4, 7, 8, 9, 10], [1, 2, 3, 4, 7, 8, 9, 11], [1, 2, 3, 4, 7, 8, 9], [1, 2, 3, 4, 7, 8, 10, 11], [1, 2, 3, 4, 7, 8, 10], [1, 2, 3, 4, 7, 8, 11], [1, 2, 3, 4, 7, 8], [1, 2, 3, 4, 7, 9, 10, 11], [1, 2, 3, 4, 7, 9, 10], [1, 2, 3, 4, 7, 9, 11], [1, 2, 3, 4, 7, 9], [1, 2, 3, 4, 7, 10, 11], [1, 2, 3, 4, 7, 10], [1, 2, 3, 4, 7, 11], [1, 2, 3, 4, 7], [1, 2, 3, 4, 8, 9, 10, 11], [1, 2, 3, 4, 8, 9, 10], [1, 2, 3, 4, 8, 9, 11], [1, 2, 3, 4, 8, 9], [1, 2, 3, 4, 8, 10, 11], [1, 2, 3, 4, 8, 10], [1, 2, 3, 4, 8, 11], [1, 2, 3, 4, 8], [1, 2, 3, 4, 9, 10, 11], [1, 2, 3, 4, 9, 10], [1, 2, 3, 4, 9, 11], [1, 2, 3, 4, 9], [1, 2, 3, 4, 10, 11], [1, 2, 3, 4, 10], [1, 2, 3, 4, 11], [1, 2, 3, 4], [1, 2, 3, 5, 6, 7, 8, 9, 10, 11], [1, 2, 3, 5, 6, 7, 8, 9, 10], [1, 2, 3, 5, 6, 7, 8, 9, 11], [1, 2, 3, 5, 6, 7, 8, 9], [1, 2, 3, 5, 6, 7, 8, 10, 11], [1, 2, 3, 5, 6, 7, 8, 10], [1, 2, 3, 5, 6, 7, 8, 11], [1, 2, 3, 5, 6, 7, 8], [1, 2, 3, 5, 6, 7, 9, 10, 11], [1, 2, 3, 5, 6, 7, 9, 10], [1, 2, 3, 5, 6, 7, 9, 11], [1, 2, 3, 5, 6, 7, 9], [1, 2, 3, 5, 6, 7, 10, 11], [1, 2, 3, 5, 6, 7, 10], [1, 2, 3, 5, 6, 7, 11], [1, 2, 3, 5, 6, 7], [1, 2, 3, 5, 6, 8, 9, 10, 11], [1, 2, 3, 5, 6, 8, 9, 10], [1, 2, 3, 5, 6, 8, 9, 11], [1, 2, 3, 5, 6, 8, 9], [1, 2, 3, 5, 6, 8, 10, 11], [1, 2, 3, 5, 6, 8, 10], [1, 2, 3, 5, 6, 8, 11], [1, 2, 3, 5, 6, 8], [1, 2, 3, 5, 6, 9, 10, 11], [1, 2, 3, 5, 6, 9, 10], [1, 2, 3, 5, 6, 9, 11], [1, 2, 3, 5, 6, 9], [1, 2, 3, 5, 6, 10, 11], [1, 2, 3, 5, 6, 10], [1, 2, 3, 5, 6, 11], [1, 2, 3, 5, 6], [1, 2, 3, 5, 7, 8, 9, 10, 11], [1, 2, 3, 5, 7, 8, 9, 10], [1, 2, 3, 5, 7, 8, 9, 11], [1, 2, 3, 5, 7, 8, 9], [1, 2, 3, 5, 7, 8, 10, 11], [1, 2, 3, 5, 7, 8, 10], [1, 2, 3, 5, 7, 8, 11], [1, 2, 3, 5, 7, 8], [1, 2, 3, 5, 7, 9, 10, 11], [1, 2, 3, 5, 7, 9, 10], [1, 2, 3, 5, 7, 9, 11], [1, 2, 3, 5, 7, 9], [1, 2, 3, 5, 7, 10, 11], [1, 2, 3, 5, 7, 10], [1, 2, 3, 5, 7, 11], [1, 2, 3, 5, 7], [1, 2, 3, 5, 8, 9, 10, 11], [1, 2, 3, 5, 8, 9, 10], [1, 2, 3, 5, 8, 9, 11], [1, 2, 3, 5, 8, 9], [1, 2, 3, 5, 8, 10, 11], [1, 2, 3, 5, 8, 10], [1, 2, 3, 5, 8, 11], [1, 2, 3, 5, 8], [1, 2, 3, 5, 9, 10, 11], [1, 2, 3, 5, 9, 10], [1, 2, 3, 5, 9, 11], [1, 2, 3, 5, 9], [1, 2, 3, 5, 10, 11], [1, 2, 3, 5, 10], [1, 2, 3, 5, 11], [1, 2, 3, 5], [1, 2, 3, 6, 7, 8, 9, 10, 11], [1, 2, 3, 6, 7, 8, 9, 10], [1, 2, 3, 6, 7, 8, 9, 11], [1, 2, 3, 6, 7, 8, 9], [1, 2, 3, 6, 7, 8, 10, 11], [1, 2, 3, 6, 7, 8, 10], [1, 2, 3, 6, 7, 8, 11], [1, 2, 3, 6, 7, 8], [1, 2, 3, 6, 7, 9, 10, 11], [1, 2, 3, 6, 7, 9, 10], [1, 2, 3, 6, 7, 9, 11], [1, 2, 3, 6, 7, 9], [1, 2, 3, 6, 7, 10, 11], [1, 2, 3, 6, 7, 10], [1, 2, 3, 6, 7, 11], [1, 2, 3, 6, 7], [1, 2, 3, 6, 8, 9, 10, 11], [1, 2, 3, 6, 8, 9, 10], [1, 2, 3, 6, 8, 9, 11], [1, 2, 3, 6, 8, 9], [1, 2, 3, 6, 8, 10, 11], [1, 2, 3, 6, 8, 10], [1, 2, 3, 6, 8, 11], [1, 2, 3, 6, 8], [1, 2, 3, 6, 9, 10, 11], [1, 2, 3, 6, 9, 10], [1, 2, 3, 6, 9, 11], [1, 2, 3, 6, 9], [1, 2, 3, 6, 10, 11], [1, 2, 3, 6, 10], [1, 2, 3, 6, 11], [1, 2, 3, 6], [1, 2, 3, 7, 8, 9, 10, 11], [1, 2, 3, 7, 8, 9, 10], [1, 2, 3, 7, 8, 9, 11], [1, 2, 3, 7, 8, 9], [1, 2, 3, 7, 8, 10, 11], [1, 2, 3, 7, 8, 10], [1, 2, 3, 7, 8, 11], [1, 2, 3, 7, 8], [1, 2, 3, 7, 9, 10, 11], [1, 2, 3, 7, 9, 10], [1, 2, 3, 7, 9, 11], [1, 2, 3, 7, 9], [1, 2, 3, 7, 10, 11], [1, 2, 3, 7, 10], [1, 2, 3, 7, 11], [1, 2, 3, 7], [1, 2, 3, 8, 9, 10, 11], [1, 2, 3, 8, 9, 10], [1, 2, 3, 8, 9, 11], [1, 2, 3, 8, 9], [1, 2, 3, 8, 10, 11], [1, 2, 3, 8, 10], [1, 2, 3, 8, 11], [1, 2, 3, 8], [1, 2, 3, 9, 10, 11], [1, 2, 3, 9, 10], [1, 2, 3, 9, 11], [1, 2, 3, 9], [1, 2, 3, 10, 11], [1, 2, 3, 10], [1, 2, 3, 11], [1, 2, 3], [1, 2, 4, 5, 6, 7, 8, 9, 10, 11], [1, 2, 4, 5, 6, 7, 8, 9, 10], [1, 2, 4, 5, 6, 7, 8, 9, 11], [1, 2, 4, 5, 6, 7, 8, 9], [1, 2, 4, 5, 6, 7, 8, 10, 11], [1, 2, 4, 5, 6, 7, 8, 10], [1, 2, 4, 5, 6, 7, 8, 11], [1, 2, 4, 5, 6, 7, 8], [1, 2, 4, 5, 6, 7, 9, 10, 11], [1, 2, 4, 5, 6, 7, 9, 10], [1, 2, 4, 5, 6, 7, 9, 11], [1, 2, 4, 5, 6, 7, 9], [1, 2, 4, 5, 6, 7, 10, 11], [1, 2, 4, 5, 6, 7, 10], [1, 2, 4, 5, 6, 7, 11], [1, 2, 4, 5, 6, 7], [1, 2, 4, 5, 6, 8, 9, 10, 11], [1, 2, 4, 5, 6, 8, 9, 10], [1, 2, 4, 5, 6, 8, 9, 11], [1, 2, 4, 5, 6, 8, 9], [1, 2, 4, 5, 6, 8, 10, 11], [1, 2, 4, 5, 6, 8, 10], [1, 2, 4, 5, 6, 8, 11], [1, 2, 4, 5, 6, 8], [1, 2, 4, 5, 6, 9, 10, 11], [1, 2, 4, 5, 6, 9, 10], [1, 2, 4, 5, 6, 9, 11], [1, 2, 4, 5, 6, 9], [1, 2, 4, 5, 6, 10, 11], [1, 2, 4, 5, 6, 10], [1, 2, 4, 5, 6, 11], [1, 2, 4, 5, 6], [1, 2, 4, 5, 7, 8, 9, 10, 11], [1, 2, 4, 5, 7, 8, 9, 10], [1, 2, 4, 5, 7, 8, 9, 11], [1, 2, 4, 5, 7, 8, 9], [1, 2, 4, 5, 7, 8, 10, 11], [1, 2, 4, 5, 7, 8, 10], [1, 2, 4, 5, 7, 8, 11], [1, 2, 4, 5, 7, 8], [1, 2, 4, 5, 7, 9, 10, 11], [1, 2, 4, 5, 7, 9, 10], [1, 2, 4, 5, 7, 9, 11], [1, 2, 4, 5, 7, 9], [1, 2, 4, 5, 7, 10, 11], [1, 2, 4, 5, 7, 10], [1, 2, 4, 5, 7, 11], [1, 2, 4, 5, 7], [1, 2, 4, 5, 8, 9, 10, 11], [1, 2, 4, 5, 8, 9, 10], [1, 2, 4, 5, 8, 9, 11], [1, 2, 4, 5, 8, 9], [1, 2, 4, 5, 8, 10, 11], [1, 2, 4, 5, 8, 10], [1, 2, 4, 5, 8, 11], [1, 2, 4, 5, 8], [1, 2, 4, 5, 9, 10, 11], [1, 2, 4, 5, 9, 10], [1, 2, 4, 5, 9, 11], [1, 2, 4, 5, 9], [1, 2, 4, 5, 10, 11], [1, 2, 4, 5, 10], [1, 2, 4, 5, 11], [1, 2, 4, 5], [1, 2, 4, 6, 7, 8, 9, 10, 11], [1, 2, 4, 6, 7, 8, 9, 10], [1, 2, 4, 6, 7, 8, 9, 11], [1, 2, 4, 6, 7, 8, 9], [1, 2, 4, 6, 7, 8, 10, 11], [1, 2, 4, 6, 7, 8, 10], [1, 2, 4, 6, 7, 8, 11], [1, 2, 4, 6, 7, 8], [1, 2, 4, 6, 7, 9, 10, 11], [1, 2, 4, 6, 7, 9, 10], [1, 2, 4, 6, 7, 9, 11], [1, 2, 4, 6, 7, 9], [1, 2, 4, 6, 7, 10, 11], [1, 2, 4, 6, 7, 10], [1, 2, 4, 6, 7, 11], [1, 2, 4, 6, 7], [1, 2, 4, 6, 8, 9, 10, 11], [1, 2, 4, 6, 8, 9, 10], [1, 2, 4, 6, 8, 9, 11], [1, 2, 4, 6, 8, 9], [1, 2, 4, 6, 8, 10, 11], [1, 2, 4, 6, 8, 10], [1, 2, 4, 6, 8, 11], [1, 2, 4, 6, 8], [1, 2, 4, 6, 9, 10, 11], [1, 2, 4, 6, 9, 10], [1, 2, 4, 6, 9, 11], [1, 2, 4, 6, 9], [1, 2, 4, 6, 10, 11], [1, 2, 4, 6, 10], [1, 2, 4, 6, 11], [1, 2, 4, 6], [1, 2, 4, 7, 8, 9, 10, 11], [1, 2, 4, 7, 8, 9, 10], [1, 2, 4, 7, 8, 9, 11], [1, 2, 4, 7, 8, 9], [1, 2, 4, 7, 8, 10, 11], [1, 2, 4, 7, 8, 10], [1, 2, 4, 7, 8, 11], [1, 2, 4, 7, 8], [1, 2, 4, 7, 9, 10, 11], [1, 2, 4, 7, 9, 10], [1, 2, 4, 7, 9, 11], [1, 2, 4, 7, 9], [1, 2, 4, 7, 10, 11], [1, 2, 4, 7, 10], [1, 2, 4, 7, 11], [1, 2, 4, 7], [1, 2, 4, 8, 9, 10, 11], [1, 2, 4, 8, 9, 10], [1, 2, 4, 8, 9, 11], [1, 2, 4, 8, 9], [1, 2, 4, 8, 10, 11], [1, 2, 4, 8, 10], [1, 2, 4, 8, 11], [1, 2, 4, 8], [1, 2, 4, 9, 10, 11], [1, 2, 4, 9, 10], [1, 2, 4, 9, 11], [1, 2, 4, 9], [1, 2, 4, 10, 11], [1, 2, 4, 10], [1, 2, 4, 11], [1, 2, 4], [1, 2, 5, 6, 7, 8, 9, 10, 11], [1, 2, 5, 6, 7, 8, 9, 10], [1, 2, 5, 6, 7, 8, 9, 11], [1, 2, 5, 6, 7, 8, 9], [1, 2, 5, 6, 7, 8, 10, 11], [1, 2, 5, 6, 7, 8, 10], [1, 2, 5, 6, 7, 8, 11], [1, 2, 5, 6, 7, 8], [1, 2, 5, 6, 7, 9, 10, 11], [1, 2, 5, 6, 7, 9, 10], [1, 2, 5, 6, 7, 9, 11], [1, 2, 5, 6, 7, 9], [1, 2, 5, 6, 7, 10, 11], [1, 2, 5, 6, 7, 10], [1, 2, 5, 6, 7, 11], [1, 2, 5, 6, 7], [1, 2, 5, 6, 8, 9, 10, 11], [1, 2, 5, 6, 8, 9, 10], [1, 2, 5, 6, 8, 9, 11], [1, 2, 5, 6, 8, 9], [1, 2, 5, 6, 8, 10, 11], [1, 2, 5, 6, 8, 10], [1, 2, 5, 6, 8, 11], [1, 2, 5, 6, 8], [1, 2, 5, 6, 9, 10, 11], [1, 2, 5, 6, 9, 10], [1, 2, 5, 6, 9, 11], [1, 2, 5, 6, 9], [1, 2, 5, 6, 10, 11], [1, 2, 5, 6, 10], [1, 2, 5, 6, 11], [1, 2, 5, 6], [1, 2, 5, 7, 8, 9, 10, 11], [1, 2, 5, 7, 8, 9, 10], [1, 2, 5, 7, 8, 9, 11], [1, 2, 5, 7, 8, 9], [1, 2, 5, 7, 8, 10, 11], [1, 2, 5, 7, 8, 10], [1, 2, 5, 7, 8, 11], [1, 2, 5, 7, 8], [1, 2, 5, 7, 9, 10, 11], [1, 2, 5, 7, 9, 10], [1, 2, 5, 7, 9, 11], [1, 2, 5, 7, 9], [1, 2, 5, 7, 10, 11], [1, 2, 5, 7, 10], [1, 2, 5, 7, 11], [1, 2, 5, 7], [1, 2, 5, 8, 9, 10, 11], [1, 2, 5, 8, 9, 10], [1, 2, 5, 8, 9, 11], [1, 2, 5, 8, 9], [1, 2, 5, 8, 10, 11], [1, 2, 5, 8, 10], [1, 2, 5, 8, 11], [1, 2, 5, 8], [1, 2, 5, 9, 10, 11], [1, 2, 5, 9, 10], [1, 2, 5, 9, 11], [1, 2, 5, 9], [1, 2, 5, 10, 11], [1, 2, 5, 10], [1, 2, 5, 11], [1, 2, 5], [1, 2, 6, 7, 8, 9, 10, 11], [1, 2, 6, 7, 8, 9, 10], [1, 2, 6, 7, 8, 9, 11], [1, 2, 6, 7, 8, 9], [1, 2, 6, 7, 8, 10, 11], [1, 2, 6, 7, 8, 10], [1, 2, 6, 7, 8, 11], [1, 2, 6, 7, 8], [1, 2, 6, 7, 9, 10, 11], [1, 2, 6, 7, 9, 10], [1, 2, 6, 7, 9, 11], [1, 2, 6, 7, 9], [1, 2, 6, 7, 10, 11], [1, 2, 6, 7, 10], [1, 2, 6, 7, 11], [1, 2, 6, 7], [1, 2, 6, 8, 9, 10, 11], [1, 2, 6, 8, 9, 10], [1, 2, 6, 8, 9, 11], [1, 2, 6, 8, 9], [1, 2, 6, 8, 10, 11], [1, 2, 6, 8, 10], [1, 2, 6, 8, 11], [1, 2, 6, 8], [1, 2, 6, 9, 10, 11], [1, 2, 6, 9, 10], [1, 2, 6, 9, 11], [1, 2, 6, 9], [1, 2, 6, 10, 11], [1, 2, 6, 10], [1, 2, 6, 11], [1, 2, 6], [1, 2, 7, 8, 9, 10, 11], [1, 2, 7, 8, 9, 10], [1, 2, 7, 8, 9, 11], [1, 2, 7, 8, 9], [1, 2, 7, 8, 10, 11], [1, 2, 7, 8, 10], [1, 2, 7, 8, 11], [1, 2, 7, 8], [1, 2, 7, 9, 10, 11], [1, 2, 7, 9, 10], [1, 2, 7, 9, 11], [1, 2, 7, 9], [1, 2, 7, 10, 11], [1, 2, 7, 10], [1, 2, 7, 11], [1, 2, 7], [1, 2, 8, 9, 10, 11], [1, 2, 8, 9, 10], [1, 2, 8, 9, 11], [1, 2, 8, 9], [1, 2, 8, 10, 11], [1, 2, 8, 10], [1, 2, 8, 11], [1, 2, 8], [1, 2, 9, 10, 11], [1, 2, 9, 10], [1, 2, 9, 11], [1, 2, 9], [1, 2, 10, 11], [1, 2, 10], [1, 2, 11], [1, 2], [1, 3, 4, 5, 6, 7, 8, 9, 10, 11], [1, 3, 4, 5, 6, 7, 8, 9, 10], [1, 3, 4, 5, 6, 7, 8, 9, 11], [1, 3, 4, 5, 6, 7, 8, 9], [1, 3, 4, 5, 6, 7, 8, 10, 11], [1, 3, 4, 5, 6, 7, 8, 10], [1, 3, 4, 5, 6, 7, 8, 11], [1, 3, 4, 5, 6, 7, 8], [1, 3, 4, 5, 6, 7, 9, 10, 11], [1, 3, 4, 5, 6, 7, 9, 10], [1, 3, 4, 5, 6, 7, 9, 11], [1, 3, 4, 5, 6, 7, 9], [1, 3, 4, 5, 6, 7, 10, 11], [1, 3, 4, 5, 6, 7, 10], [1, 3, 4, 5, 6, 7, 11], [1, 3, 4, 5, 6, 7], [1, 3, 4, 5, 6, 8, 9, 10, 11], [1, 3, 4, 5, 6, 8, 9, 10], [1, 3, 4, 5, 6, 8, 9, 11], [1, 3, 4, 5, 6, 8, 9], [1, 3, 4, 5, 6, 8, 10, 11], [1, 3, 4, 5, 6, 8, 10], [1, 3, 4, 5, 6, 8, 11], [1, 3, 4, 5, 6, 8], [1, 3, 4, 5, 6, 9, 10, 11], [1, 3, 4, 5, 6, 9, 10], [1, 3, 4, 5, 6, 9, 11], [1, 3, 4, 5, 6, 9], [1, 3, 4, 5, 6, 10, 11], [1, 3, 4, 5, 6, 10], [1, 3, 4, 5, 6, 11], [1, 3, 4, 5, 6], [1, 3, 4, 5, 7, 8, 9, 10, 11], [1, 3, 4, 5, 7, 8, 9, 10], [1, 3, 4, 5, 7, 8, 9, 11], [1, 3, 4, 5, 7, 8, 9], [1, 3, 4, 5, 7, 8, 10, 11], [1, 3, 4, 5, 7, 8, 10], [1, 3, 4, 5, 7, 8, 11], [1, 3, 4, 5, 7, 8], [1, 3, 4, 5, 7, 9, 10, 11], [1, 3, 4, 5, 7, 9, 10], [1, 3, 4, 5, 7, 9, 11], [1, 3, 4, 5, 7, 9], [1, 3, 4, 5, 7, 10, 11], [1, 3, 4, 5, 7, 10], [1, 3, 4, 5, 7, 11], [1, 3, 4, 5, 7], [1, 3, 4, 5, 8, 9, 10, 11], [1, 3, 4, 5, 8, 9, 10], [1, 3, 4, 5, 8, 9, 11], [1, 3, 4, 5, 8, 9], [1, 3, 4, 5, 8, 10, 11], [1, 3, 4, 5, 8, 10], [1, 3, 4, 5, 8, 11], [1, 3, 4, 5, 8], [1, 3, 4, 5, 9, 10, 11], [1, 3, 4, 5, 9, 10], [1, 3, 4, 5, 9, 11], [1, 3, 4, 5, 9], [1, 3, 4, 5, 10, 11], [1, 3, 4, 5, 10], [1, 3, 4, 5, 11], [1, 3, 4, 5], [1, 3, 4, 6, 7, 8, 9, 10, 11], [1, 3, 4, 6, 7, 8, 9, 10], [1, 3, 4, 6, 7, 8, 9, 11], [1, 3, 4, 6, 7, 8, 9], [1, 3, 4, 6, 7, 8, 10, 11], [1, 3, 4, 6, 7, 8, 10], [1, 3, 4, 6, 7, 8, 11], [1, 3, 4, 6, 7, 8], [1, 3, 4, 6, 7, 9, 10, 11], [1, 3, 4, 6, 7, 9, 10], [1, 3, 4, 6, 7, 9, 11], [1, 3, 4, 6, 7, 9], [1, 3, 4, 6, 7, 10, 11], [1, 3, 4, 6, 7, 10], [1, 3, 4, 6, 7, 11], [1, 3, 4, 6, 7], [1, 3, 4, 6, 8, 9, 10, 11], [1, 3, 4, 6, 8, 9, 10], [1, 3, 4, 6, 8, 9, 11], [1, 3, 4, 6, 8, 9], [1, 3, 4, 6, 8, 10, 11], [1, 3, 4, 6, 8, 10], [1, 3, 4, 6, 8, 11], [1, 3, 4, 6, 8], [1, 3, 4, 6, 9, 10, 11], [1, 3, 4, 6, 9, 10], [1, 3, 4, 6, 9, 11], [1, 3, 4, 6, 9], [1, 3, 4, 6, 10, 11], [1, 3, 4, 6, 10], [1, 3, 4, 6, 11], [1, 3, 4, 6], [1, 3, 4, 7, 8, 9, 10, 11], [1, 3, 4, 7, 8, 9, 10], [1, 3, 4, 7, 8, 9, 11], [1, 3, 4, 7, 8, 9], [1, 3, 4, 7, 8, 10, 11], [1, 3, 4, 7, 8, 10], [1, 3, 4, 7, 8, 11], [1, 3, 4, 7, 8], [1, 3, 4, 7, 9, 10, 11], [1, 3, 4, 7, 9, 10], [1, 3, 4, 7, 9, 11], [1, 3, 4, 7, 9], [1, 3, 4, 7, 10, 11], [1, 3, 4, 7, 10], [1, 3, 4, 7, 11], [1, 3, 4, 7], [1, 3, 4, 8, 9, 10, 11], [1, 3, 4, 8, 9, 10], [1, 3, 4, 8, 9, 11], [1, 3, 4, 8, 9], [1, 3, 4, 8, 10, 11], [1, 3, 4, 8, 10], [1, 3, 4, 8, 11], [1, 3, 4, 8], [1, 3, 4, 9, 10, 11], [1, 3, 4, 9, 10], [1, 3, 4, 9, 11], [1, 3, 4, 9], [1, 3, 4, 10, 11], [1, 3, 4, 10], [1, 3, 4, 11], [1, 3, 4], [1, 3, 5, 6, 7, 8, 9, 10, 11], [1, 3, 5, 6, 7, 8, 9, 10], [1, 3, 5, 6, 7, 8, 9, 11], [1, 3, 5, 6, 7, 8, 9], [1, 3, 5, 6, 7, 8, 10, 11], [1, 3, 5, 6, 7, 8, 10], [1, 3, 5, 6, 7, 8, 11], [1, 3, 5, 6, 7, 8], [1, 3, 5, 6, 7, 9, 10, 11], [1, 3, 5, 6, 7, 9, 10], [1, 3, 5, 6, 7, 9, 11], [1, 3, 5, 6, 7, 9], [1, 3, 5, 6, 7, 10, 11], [1, 3, 5, 6, 7, 10], [1, 3, 5, 6, 7, 11], [1, 3, 5, 6, 7], [1, 3, 5, 6, 8, 9, 10, 11], [1, 3, 5, 6, 8, 9, 10], [1, 3, 5, 6, 8, 9, 11], [1, 3, 5, 6, 8, 9], [1, 3, 5, 6, 8, 10, 11], [1, 3, 5, 6, 8, 10], [1, 3, 5, 6, 8, 11], [1, 3, 5, 6, 8], [1, 3, 5, 6, 9, 10, 11], [1, 3, 5, 6, 9, 10], [1, 3, 5, 6, 9, 11], [1, 3, 5, 6, 9], [1, 3, 5, 6, 10, 11], [1, 3, 5, 6, 10], [1, 3, 5, 6, 11], [1, 3, 5, 6], [1, 3, 5, 7, 8, 9, 10, 11], [1, 3, 5, 7, 8, 9, 10], [1, 3, 5, 7, 8, 9, 11], [1, 3, 5, 7, 8, 9], [1, 3, 5, 7, 8, 10, 11], [1, 3, 5, 7, 8, 10], [1, 3, 5, 7, 8, 11], [1, 3, 5, 7, 8], [1, 3, 5, 7, 9, 10, 11], [1, 3, 5, 7, 9, 10], [1, 3, 5, 7, 9, 11], [1, 3, 5, 7, 9], [1, 3, 5, 7, 10, 11], [1, 3, 5, 7, 10], [1, 3, 5, 7, 11], [1, 3, 5, 7], [1, 3, 5, 8, 9, 10, 11], [1, 3, 5, 8, 9, 10], [1, 3, 5, 8, 9, 11], [1, 3, 5, 8, 9], [1, 3, 5, 8, 10, 11], [1, 3, 5, 8, 10], [1, 3, 5, 8, 11], [1, 3, 5, 8], [1, 3, 5, 9, 10, 11], [1, 3, 5, 9, 10], [1, 3, 5, 9, 11], [1, 3, 5, 9], [1, 3, 5, 10, 11], [1, 3, 5, 10], [1, 3, 5, 11], [1, 3, 5], [1, 3, 6, 7, 8, 9, 10, 11], [1, 3, 6, 7, 8, 9, 10], [1, 3, 6, 7, 8, 9, 11], [1, 3, 6, 7, 8, 9], [1, 3, 6, 7, 8, 10, 11], [1, 3, 6, 7, 8, 10], [1, 3, 6, 7, 8, 11], [1, 3, 6, 7, 8], [1, 3, 6, 7, 9, 10, 11], [1, 3, 6, 7, 9, 10], [1, 3, 6, 7, 9, 11], [1, 3, 6, 7, 9], [1, 3, 6, 7, 10, 11], [1, 3, 6, 7, 10], [1, 3, 6, 7, 11], [1, 3, 6, 7], [1, 3, 6, 8, 9, 10, 11], [1, 3, 6, 8, 9, 10], [1, 3, 6, 8, 9, 11], [1, 3, 6, 8, 9], [1, 3, 6, 8, 10, 11], [1, 3, 6, 8, 10], [1, 3, 6, 8, 11], [1, 3, 6, 8], [1, 3, 6, 9, 10, 11], [1, 3, 6, 9, 10], [1, 3, 6, 9, 11], [1, 3, 6, 9], [1, 3, 6, 10, 11], [1, 3, 6, 10], [1, 3, 6, 11], [1, 3, 6], [1, 3, 7, 8, 9, 10, 11], [1, 3, 7, 8, 9, 10], [1, 3, 7, 8, 9, 11], [1, 3, 7, 8, 9], [1, 3, 7, 8, 10, 11], [1, 3, 7, 8, 10], [1, 3, 7, 8, 11], [1, 3, 7, 8], [1, 3, 7, 9, 10, 11], [1, 3, 7, 9, 10], [1, 3, 7, 9, 11], [1, 3, 7, 9], [1, 3, 7, 10, 11], [1, 3, 7, 10], [1, 3, 7, 11], [1, 3, 7], [1, 3, 8, 9, 10, 11], [1, 3, 8, 9, 10], [1, 3, 8, 9, 11], [1, 3, 8, 9], [1, 3, 8, 10, 11], [1, 3, 8, 10], [1, 3, 8, 11], [1, 3, 8], [1, 3, 9, 10, 11], [1, 3, 9, 10], [1, 3, 9, 11], [1, 3, 9], [1, 3, 10, 11], [1, 3, 10], [1, 3, 11], [1, 3], [1, 4, 5, 6, 7, 8, 9, 10, 11], [1, 4, 5, 6, 7, 8, 9, 10], [1, 4, 5, 6, 7, 8, 9, 11], [1, 4, 5, 6, 7, 8, 9], [1, 4, 5, 6, 7, 8, 10, 11], [1, 4, 5, 6, 7, 8, 10], [1, 4, 5, 6, 7, 8, 11], [1, 4, 5, 6, 7, 8], [1, 4, 5, 6, 7, 9, 10, 11], [1, 4, 5, 6, 7, 9, 10], [1, 4, 5, 6, 7, 9, 11], [1, 4, 5, 6, 7, 9], [1, 4, 5, 6, 7, 10, 11], [1, 4, 5, 6, 7, 10], [1, 4, 5, 6, 7, 11], [1, 4, 5, 6, 7], [1, 4, 5, 6, 8, 9, 10, 11], [1, 4, 5, 6, 8, 9, 10], [1, 4, 5, 6, 8, 9, 11], [1, 4, 5, 6, 8, 9], [1, 4, 5, 6, 8, 10, 11], [1, 4, 5, 6, 8, 10], [1, 4, 5, 6, 8, 11], [1, 4, 5, 6, 8], [1, 4, 5, 6, 9, 10, 11], [1, 4, 5, 6, 9, 10], [1, 4, 5, 6, 9, 11], [1, 4, 5, 6, 9], [1, 4, 5, 6, 10, 11], [1, 4, 5, 6, 10], [1, 4, 5, 6, 11], [1, 4, 5, 6], [1, 4, 5, 7, 8, 9, 10, 11], [1, 4, 5, 7, 8, 9, 10], [1, 4, 5, 7, 8, 9, 11], [1, 4, 5, 7, 8, 9], [1, 4, 5, 7, 8, 10, 11], [1, 4, 5, 7, 8, 10], [1, 4, 5, 7, 8, 11], [1, 4, 5, 7, 8], [1, 4, 5, 7, 9, 10, 11], [1, 4, 5, 7, 9, 10], [1, 4, 5, 7, 9, 11], [1, 4, 5, 7, 9], [1, 4, 5, 7, 10, 11], [1, 4, 5, 7, 10], [1, 4, 5, 7, 11], [1, 4, 5, 7], [1, 4, 5, 8, 9, 10, 11], [1, 4, 5, 8, 9, 10], [1, 4, 5, 8, 9, 11], [1, 4, 5, 8, 9], [1, 4, 5, 8, 10, 11], [1, 4, 5, 8, 10], [1, 4, 5, 8, 11], [1, 4, 5, 8], [1, 4, 5, 9, 10, 11], [1, 4, 5, 9, 10], [1, 4, 5, 9, 11], [1, 4, 5, 9], [1, 4, 5, 10, 11], [1, 4, 5, 10], [1, 4, 5, 11], [1, 4, 5], [1, 4, 6, 7, 8, 9, 10, 11], [1, 4, 6, 7, 8, 9, 10], [1, 4, 6, 7, 8, 9, 11], [1, 4, 6, 7, 8, 9], [1, 4, 6, 7, 8, 10, 11], [1, 4, 6, 7, 8, 10], [1, 4, 6, 7, 8, 11], [1, 4, 6, 7, 8], [1, 4, 6, 7, 9, 10, 11], [1, 4, 6, 7, 9, 10], [1, 4, 6, 7, 9, 11], [1, 4, 6, 7, 9], [1, 4, 6, 7, 10, 11], [1, 4, 6, 7, 10], [1, 4, 6, 7, 11], [1, 4, 6, 7], [1, 4, 6, 8, 9, 10, 11], [1, 4, 6, 8, 9, 10], [1, 4, 6, 8, 9, 11], [1, 4, 6, 8, 9], [1, 4, 6, 8, 10, 11], [1, 4, 6, 8, 10], [1, 4, 6, 8, 11], [1, 4, 6, 8], [1, 4, 6, 9, 10, 11], [1, 4, 6, 9, 10], [1, 4, 6, 9, 11], [1, 4, 6, 9], [1, 4, 6, 10, 11], [1, 4, 6, 10], [1, 4, 6, 11], [1, 4, 6], [1, 4, 7, 8, 9, 10, 11], [1, 4, 7, 8, 9, 10], [1, 4, 7, 8, 9, 11], [1, 4, 7, 8, 9], [1, 4, 7, 8, 10, 11], [1, 4, 7, 8, 10], [1, 4, 7, 8, 11], [1, 4, 7, 8], [1, 4, 7, 9, 10, 11], [1, 4, 7, 9, 10], [1, 4, 7, 9, 11], [1, 4, 7, 9], [1, 4, 7, 10, 11], [1, 4, 7, 10], [1, 4, 7, 11], [1, 4, 7], [1, 4, 8, 9, 10, 11], [1, 4, 8, 9, 10], [1, 4, 8, 9, 11], [1, 4, 8, 9], [1, 4, 8, 10, 11], [1, 4, 8, 10], [1, 4, 8, 11], [1, 4, 8], [1, 4, 9, 10, 11], [1, 4, 9, 10], [1, 4, 9, 11], [1, 4, 9], [1, 4, 10, 11], [1, 4, 10], [1, 4, 11], [1, 4], [1, 5, 6, 7, 8, 9, 10, 11], [1, 5, 6, 7, 8, 9, 10], [1, 5, 6, 7, 8, 9, 11], [1, 5, 6, 7, 8, 9], [1, 5, 6, 7, 8, 10, 11], [1, 5, 6, 7, 8, 10], [1, 5, 6, 7, 8, 11], [1, 5, 6, 7, 8], [1, 5, 6, 7, 9, 10, 11], [1, 5, 6, 7, 9, 10], [1, 5, 6, 7, 9, 11], [1, 5, 6, 7, 9], [1, 5, 6, 7, 10, 11], [1, 5, 6, 7, 10], [1, 5, 6, 7, 11], [1, 5, 6, 7], [1, 5, 6, 8, 9, 10, 11], [1, 5, 6, 8, 9, 10], [1, 5, 6, 8, 9, 11], [1, 5, 6, 8, 9], [1, 5, 6, 8, 10, 11], [1, 5, 6, 8, 10], [1, 5, 6, 8, 11], [1, 5, 6, 8], [1, 5, 6, 9, 10, 11], [1, 5, 6, 9, 10], [1, 5, 6, 9, 11], [1, 5, 6, 9], [1, 5, 6, 10, 11], [1, 5, 6, 10], [1, 5, 6, 11], [1, 5, 6], [1, 5, 7, 8, 9, 10, 11], [1, 5, 7, 8, 9, 10], [1, 5, 7, 8, 9, 11], [1, 5, 7, 8, 9], [1, 5, 7, 8, 10, 11], [1, 5, 7, 8, 10], [1, 5, 7, 8, 11], [1, 5, 7, 8], [1, 5, 7, 9, 10, 11], [1, 5, 7, 9, 10], [1, 5, 7, 9, 11], [1, 5, 7, 9], [1, 5, 7, 10, 11], [1, 5, 7, 10], [1, 5, 7, 11], [1, 5, 7], [1, 5, 8, 9, 10, 11], [1, 5, 8, 9, 10], [1, 5, 8, 9, 11], [1, 5, 8, 9], [1, 5, 8, 10, 11], [1, 5, 8, 10], [1, 5, 8, 11], [1, 5, 8], [1, 5, 9, 10, 11], [1, 5, 9, 10], [1, 5, 9, 11], [1, 5, 9], [1, 5, 10, 11], [1, 5, 10], [1, 5, 11], [1, 5], [1, 6, 7, 8, 9, 10, 11], [1, 6, 7, 8, 9, 10], [1, 6, 7, 8, 9, 11], [1, 6, 7, 8, 9], [1, 6, 7, 8, 10, 11], [1, 6, 7, 8, 10], [1, 6, 7, 8, 11], [1, 6, 7, 8], [1, 6, 7, 9, 10, 11], [1, 6, 7, 9, 10], [1, 6, 7, 9, 11], [1, 6, 7, 9], [1, 6, 7, 10, 11], [1, 6, 7, 10], [1, 6, 7, 11], [1, 6, 7], [1, 6, 8, 9, 10, 11], [1, 6, 8, 9, 10], [1, 6, 8, 9, 11], [1, 6, 8, 9], [1, 6, 8, 10, 11], [1, 6, 8, 10], [1, 6, 8, 11], [1, 6, 8], [1, 6, 9, 10, 11], [1, 6, 9, 10], [1, 6, 9, 11], [1, 6, 9], [1, 6, 10, 11], [1, 6, 10], [1, 6, 11], [1, 6], [1, 7, 8, 9, 10, 11], [1, 7, 8, 9, 10], [1, 7, 8, 9, 11], [1, 7, 8, 9], [1, 7, 8, 10, 11], [1, 7, 8, 10], [1, 7, 8, 11], [1, 7, 8], [1, 7, 9, 10, 11], [1, 7, 9, 10], [1, 7, 9, 11], [1, 7, 9], [1, 7, 10, 11], [1, 7, 10], [1, 7, 11], [1, 7], [1, 8, 9, 10, 11], [1, 8, 9, 10], [1, 8, 9, 11], [1, 8, 9], [1, 8, 10, 11], [1, 8, 10], [1, 8, 11], [1, 8], [1, 9, 10, 11], [1, 9, 10], [1, 9, 11], [1, 9], [1, 10, 11], [1, 10], [1, 11], [1], [2, 3, 4, 5, 6, 7, 8, 9, 10, 11], [2, 3, 4, 5, 6, 7, 8, 9, 10], [2, 3, 4, 5, 6, 7, 8, 9, 11], [2, 3, 4, 5, 6, 7, 8, 9], [2, 3, 4, 5, 6, 7, 8, 10, 11], [2, 3, 4, 5, 6, 7, 8, 10], [2, 3, 4, 5, 6, 7, 8, 11], [2, 3, 4, 5, 6, 7, 8], [2, 3, 4, 5, 6, 7, 9, 10, 11], [2, 3, 4, 5, 6, 7, 9, 10], [2, 3, 4, 5, 6, 7, 9, 11], [2, 3, 4, 5, 6, 7, 9], [2, 3, 4, 5, 6, 7, 10, 11], [2, 3, 4, 5, 6, 7, 10], [2, 3, 4, 5, 6, 7, 11], [2, 3, 4, 5, 6, 7], [2, 3, 4, 5, 6, 8, 9, 10, 11], [2, 3, 4, 5, 6, 8, 9, 10], [2, 3, 4, 5, 6, 8, 9, 11], [2, 3, 4, 5, 6, 8, 9], [2, 3, 4, 5, 6, 8, 10, 11], [2, 3, 4, 5, 6, 8, 10], [2, 3, 4, 5, 6, 8, 11], [2, 3, 4, 5, 6, 8], [2, 3, 4, 5, 6, 9, 10, 11], [2, 3, 4, 5, 6, 9, 10], [2, 3, 4, 5, 6, 9, 11], [2, 3, 4, 5, 6, 9], [2, 3, 4, 5, 6, 10, 11], [2, 3, 4, 5, 6, 10], [2, 3, 4, 5, 6, 11], [2, 3, 4, 5, 6], [2, 3, 4, 5, 7, 8, 9, 10, 11], [2, 3, 4, 5, 7, 8, 9, 10], [2, 3, 4, 5, 7, 8, 9, 11], [2, 3, 4, 5, 7, 8, 9], [2, 3, 4, 5, 7, 8, 10, 11], [2, 3, 4, 5, 7, 8, 10], [2, 3, 4, 5, 7, 8, 11], [2, 3, 4, 5, 7, 8], [2, 3, 4, 5, 7, 9, 10, 11], [2, 3, 4, 5, 7, 9, 10], [2, 3, 4, 5, 7, 9, 11], [2, 3, 4, 5, 7, 9], [2, 3, 4, 5, 7, 10, 11], [2, 3, 4, 5, 7, 10], [2, 3, 4, 5, 7, 11], [2, 3, 4, 5, 7], [2, 3, 4, 5, 8, 9, 10, 11], [2, 3, 4, 5, 8, 9, 10], [2, 3, 4, 5, 8, 9, 11], [2, 3, 4, 5, 8, 9], [2, 3, 4, 5, 8, 10, 11], [2, 3, 4, 5, 8, 10], [2, 3, 4, 5, 8, 11], [2, 3, 4, 5, 8], [2, 3, 4, 5, 9, 10, 11], [2, 3, 4, 5, 9, 10], [2, 3, 4, 5, 9, 11], [2, 3, 4, 5, 9], [2, 3, 4, 5, 10, 11], [2, 3, 4, 5, 10], [2, 3, 4, 5, 11], [2, 3, 4, 5], [2, 3, 4, 6, 7, 8, 9, 10, 11], [2, 3, 4, 6, 7, 8, 9, 10], [2, 3, 4, 6, 7, 8, 9, 11], [2, 3, 4, 6, 7, 8, 9], [2, 3, 4, 6, 7, 8, 10, 11], [2, 3, 4, 6, 7, 8, 10], [2, 3, 4, 6, 7, 8, 11], [2, 3, 4, 6, 7, 8], [2, 3, 4, 6, 7, 9, 10, 11], [2, 3, 4, 6, 7, 9, 10], [2, 3, 4, 6, 7, 9, 11], [2, 3, 4, 6, 7, 9], [2, 3, 4, 6, 7, 10, 11], [2, 3, 4, 6, 7, 10], [2, 3, 4, 6, 7, 11], [2, 3, 4, 6, 7], [2, 3, 4, 6, 8, 9, 10, 11], [2, 3, 4, 6, 8, 9, 10], [2, 3, 4, 6, 8, 9, 11], [2, 3, 4, 6, 8, 9], [2, 3, 4, 6, 8, 10, 11], [2, 3, 4, 6, 8, 10], [2, 3, 4, 6, 8, 11], [2, 3, 4, 6, 8], [2, 3, 4, 6, 9, 10, 11], [2, 3, 4, 6, 9, 10], [2, 3, 4, 6, 9, 11], [2, 3, 4, 6, 9], [2, 3, 4, 6, 10, 11], [2, 3, 4, 6, 10], [2, 3, 4, 6, 11], [2, 3, 4, 6], [2, 3, 4, 7, 8, 9, 10, 11], [2, 3, 4, 7, 8, 9, 10], [2, 3, 4, 7, 8, 9, 11], [2, 3, 4, 7, 8, 9], [2, 3, 4, 7, 8, 10, 11], [2, 3, 4, 7, 8, 10], [2, 3, 4, 7, 8, 11], [2, 3, 4, 7, 8], [2, 3, 4, 7, 9, 10, 11], [2, 3, 4, 7, 9, 10], [2, 3, 4, 7, 9, 11], [2, 3, 4, 7, 9], [2, 3, 4, 7, 10, 11], [2, 3, 4, 7, 10], [2, 3, 4, 7, 11], [2, 3, 4, 7], [2, 3, 4, 8, 9, 10, 11], [2, 3, 4, 8, 9, 10], [2, 3, 4, 8, 9, 11], [2, 3, 4, 8, 9], [2, 3, 4, 8, 10, 11], [2, 3, 4, 8, 10], [2, 3, 4, 8, 11], [2, 3, 4, 8], [2, 3, 4, 9, 10, 11], [2, 3, 4, 9, 10], [2, 3, 4, 9, 11], [2, 3, 4, 9], [2, 3, 4, 10, 11], [2, 3, 4, 10], [2, 3, 4, 11], [2, 3, 4], [2, 3, 5, 6, 7, 8, 9, 10, 11], [2, 3, 5, 6, 7, 8, 9, 10], [2, 3, 5, 6, 7, 8, 9, 11], [2, 3, 5, 6, 7, 8, 9], [2, 3, 5, 6, 7, 8, 10, 11], [2, 3, 5, 6, 7, 8, 10], [2, 3, 5, 6, 7, 8, 11], [2, 3, 5, 6, 7, 8], [2, 3, 5, 6, 7, 9, 10, 11], [2, 3, 5, 6, 7, 9, 10], [2, 3, 5, 6, 7, 9, 11], [2, 3, 5, 6, 7, 9], [2, 3, 5, 6, 7, 10, 11], [2, 3, 5, 6, 7, 10], [2, 3, 5, 6, 7, 11], [2, 3, 5, 6, 7], [2, 3, 5, 6, 8, 9, 10, 11], [2, 3, 5, 6, 8, 9, 10], [2, 3, 5, 6, 8, 9, 11], [2, 3, 5, 6, 8, 9], [2, 3, 5, 6, 8, 10, 11], [2, 3, 5, 6, 8, 10], [2, 3, 5, 6, 8, 11], [2, 3, 5, 6, 8], [2, 3, 5, 6, 9, 10, 11], [2, 3, 5, 6, 9, 10], [2, 3, 5, 6, 9, 11], [2, 3, 5, 6, 9], [2, 3, 5, 6, 10, 11], [2, 3, 5, 6, 10], [2, 3, 5, 6, 11], [2, 3, 5, 6], [2, 3, 5, 7, 8, 9, 10, 11], [2, 3, 5, 7, 8, 9, 10], [2, 3, 5, 7, 8, 9, 11], [2, 3, 5, 7, 8, 9], [2, 3, 5, 7, 8, 10, 11], [2, 3, 5, 7, 8, 10], [2, 3, 5, 7, 8, 11], [2, 3, 5, 7, 8], [2, 3, 5, 7, 9, 10, 11], [2, 3, 5, 7, 9, 10], [2, 3, 5, 7, 9, 11], [2, 3, 5, 7, 9], [2, 3, 5, 7, 10, 11], [2, 3, 5, 7, 10], [2, 3, 5, 7, 11], [2, 3, 5, 7], [2, 3, 5, 8, 9, 10, 11], [2, 3, 5, 8, 9, 10], [2, 3, 5, 8, 9, 11], [2, 3, 5, 8, 9], [2, 3, 5, 8, 10, 11], [2, 3, 5, 8, 10], [2, 3, 5, 8, 11], [2, 3, 5, 8], [2, 3, 5, 9, 10, 11], [2, 3, 5, 9, 10], [2, 3, 5, 9, 11], [2, 3, 5, 9], [2, 3, 5, 10, 11], [2, 3, 5, 10], [2, 3, 5, 11], [2, 3, 5], [2, 3, 6, 7, 8, 9, 10, 11], [2, 3, 6, 7, 8, 9, 10], [2, 3, 6, 7, 8, 9, 11], [2, 3, 6, 7, 8, 9], [2, 3, 6, 7, 8, 10, 11], [2, 3, 6, 7, 8, 10], [2, 3, 6, 7, 8, 11], [2, 3, 6, 7, 8], [2, 3, 6, 7, 9, 10, 11], [2, 3, 6, 7, 9, 10], [2, 3, 6, 7, 9, 11], [2, 3, 6, 7, 9], [2, 3, 6, 7, 10, 11], [2, 3, 6, 7, 10], [2, 3, 6, 7, 11], [2, 3, 6, 7], [2, 3, 6, 8, 9, 10, 11], [2, 3, 6, 8, 9, 10], [2, 3, 6, 8, 9, 11], [2, 3, 6, 8, 9], [2, 3, 6, 8, 10, 11], [2, 3, 6, 8, 10], [2, 3, 6, 8, 11], [2, 3, 6, 8], [2, 3, 6, 9, 10, 11], [2, 3, 6, 9, 10], [2, 3, 6, 9, 11], [2, 3, 6, 9], [2, 3, 6, 10, 11], [2, 3, 6, 10], [2, 3, 6, 11], [2, 3, 6], [2, 3, 7, 8, 9, 10, 11], [2, 3, 7, 8, 9, 10], [2, 3, 7, 8, 9, 11], [2, 3, 7, 8, 9], [2, 3, 7, 8, 10, 11], [2, 3, 7, 8, 10], [2, 3, 7, 8, 11], [2, 3, 7, 8], [2, 3, 7, 9, 10, 11], [2, 3, 7, 9, 10], [2, 3, 7, 9, 11], [2, 3, 7, 9], [2, 3, 7, 10, 11], [2, 3, 7, 10], [2, 3, 7, 11], [2, 3, 7], [2, 3, 8, 9, 10, 11], [2, 3, 8, 9, 10], [2, 3, 8, 9, 11], [2, 3, 8, 9], [2, 3, 8, 10, 11], [2, 3, 8, 10], [2, 3, 8, 11], [2, 3, 8], [2, 3, 9, 10, 11], [2, 3, 9, 10], [2, 3, 9, 11], [2, 3, 9], [2, 3, 10, 11], [2, 3, 10], [2, 3, 11], [2, 3], [2, 4, 5, 6, 7, 8, 9, 10, 11], [2, 4, 5, 6, 7, 8, 9, 10], [2, 4, 5, 6, 7, 8, 9, 11], [2, 4, 5, 6, 7, 8, 9], [2, 4, 5, 6, 7, 8, 10, 11], [2, 4, 5, 6, 7, 8, 10], [2, 4, 5, 6, 7, 8, 11], [2, 4, 5, 6, 7, 8], [2, 4, 5, 6, 7, 9, 10, 11], [2, 4, 5, 6, 7, 9, 10], [2, 4, 5, 6, 7, 9, 11], [2, 4, 5, 6, 7, 9], [2, 4, 5, 6, 7, 10, 11], [2, 4, 5, 6, 7, 10], [2, 4, 5, 6, 7, 11], [2, 4, 5, 6, 7], [2, 4, 5, 6, 8, 9, 10, 11], [2, 4, 5, 6, 8, 9, 10], [2, 4, 5, 6, 8, 9, 11], [2, 4, 5, 6, 8, 9], [2, 4, 5, 6, 8, 10, 11], [2, 4, 5, 6, 8, 10], [2, 4, 5, 6, 8, 11], [2, 4, 5, 6, 8], [2, 4, 5, 6, 9, 10, 11], [2, 4, 5, 6, 9, 10], [2, 4, 5, 6, 9, 11], [2, 4, 5, 6, 9], [2, 4, 5, 6, 10, 11], [2, 4, 5, 6, 10], [2, 4, 5, 6, 11], [2, 4, 5, 6], [2, 4, 5, 7, 8, 9, 10, 11], [2, 4, 5, 7, 8, 9, 10], [2, 4, 5, 7, 8, 9, 11], [2, 4, 5, 7, 8, 9], [2, 4, 5, 7, 8, 10, 11], [2, 4, 5, 7, 8, 10], [2, 4, 5, 7, 8, 11], [2, 4, 5, 7, 8], [2, 4, 5, 7, 9, 10, 11], [2, 4, 5, 7, 9, 10], [2, 4, 5, 7, 9, 11], [2, 4, 5, 7, 9], [2, 4, 5, 7, 10, 11], [2, 4, 5, 7, 10], [2, 4, 5, 7, 11], [2, 4, 5, 7], [2, 4, 5, 8, 9, 10, 11], [2, 4, 5, 8, 9, 10], [2, 4, 5, 8, 9, 11], [2, 4, 5, 8, 9], [2, 4, 5, 8, 10, 11], [2, 4, 5, 8, 10], [2, 4, 5, 8, 11], [2, 4, 5, 8], [2, 4, 5, 9, 10, 11], [2, 4, 5, 9, 10], [2, 4, 5, 9, 11], [2, 4, 5, 9], [2, 4, 5, 10, 11], [2, 4, 5, 10], [2, 4, 5, 11], [2, 4, 5], [2, 4, 6, 7, 8, 9, 10, 11], [2, 4, 6, 7, 8, 9, 10], [2, 4, 6, 7, 8, 9, 11], [2, 4, 6, 7, 8, 9], [2, 4, 6, 7, 8, 10, 11], [2, 4, 6, 7, 8, 10], [2, 4, 6, 7, 8, 11], [2, 4, 6, 7, 8], [2, 4, 6, 7, 9, 10, 11], [2, 4, 6, 7, 9, 10], [2, 4, 6, 7, 9, 11], [2, 4, 6, 7, 9], [2, 4, 6, 7, 10, 11], [2, 4, 6, 7, 10], [2, 4, 6, 7, 11], [2, 4, 6, 7], [2, 4, 6, 8, 9, 10, 11], [2, 4, 6, 8, 9, 10], [2, 4, 6, 8, 9, 11], [2, 4, 6, 8, 9], [2, 4, 6, 8, 10, 11], [2, 4, 6, 8, 10], [2, 4, 6, 8, 11], [2, 4, 6, 8], [2, 4, 6, 9, 10, 11], [2, 4, 6, 9, 10], [2, 4, 6, 9, 11], [2, 4, 6, 9], [2, 4, 6, 10, 11], [2, 4, 6, 10], [2, 4, 6, 11], [2, 4, 6], [2, 4, 7, 8, 9, 10, 11], [2, 4, 7, 8, 9, 10], [2, 4, 7, 8, 9, 11], [2, 4, 7, 8, 9], [2, 4, 7, 8, 10, 11], [2, 4, 7, 8, 10], [2, 4, 7, 8, 11], [2, 4, 7, 8], [2, 4, 7, 9, 10, 11], [2, 4, 7, 9, 10], [2, 4, 7, 9, 11], [2, 4, 7, 9], [2, 4, 7, 10, 11], [2, 4, 7, 10], [2, 4, 7, 11], [2, 4, 7], [2, 4, 8, 9, 10, 11], [2, 4, 8, 9, 10], [2, 4, 8, 9, 11], [2, 4, 8, 9], [2, 4, 8, 10, 11], [2, 4, 8, 10], [2, 4, 8, 11], [2, 4, 8], [2, 4, 9, 10, 11], [2, 4, 9, 10], [2, 4, 9, 11], [2, 4, 9], [2, 4, 10, 11], [2, 4, 10], [2, 4, 11], [2, 4], [2, 5, 6, 7, 8, 9, 10, 11], [2, 5, 6, 7, 8, 9, 10], [2, 5, 6, 7, 8, 9, 11], [2, 5, 6, 7, 8, 9], [2, 5, 6, 7, 8, 10, 11], [2, 5, 6, 7, 8, 10], [2, 5, 6, 7, 8, 11], [2, 5, 6, 7, 8], [2, 5, 6, 7, 9, 10, 11], [2, 5, 6, 7, 9, 10], [2, 5, 6, 7, 9, 11], [2, 5, 6, 7, 9], [2, 5, 6, 7, 10, 11], [2, 5, 6, 7, 10], [2, 5, 6, 7, 11], [2, 5, 6, 7], [2, 5, 6, 8, 9, 10, 11], [2, 5, 6, 8, 9, 10], [2, 5, 6, 8, 9, 11], [2, 5, 6, 8, 9], [2, 5, 6, 8, 10, 11], [2, 5, 6, 8, 10], [2, 5, 6, 8, 11], [2, 5, 6, 8], [2, 5, 6, 9, 10, 11], [2, 5, 6, 9, 10], [2, 5, 6, 9, 11], [2, 5, 6, 9], [2, 5, 6, 10, 11], [2, 5, 6, 10], [2, 5, 6, 11], [2, 5, 6], [2, 5, 7, 8, 9, 10, 11], [2, 5, 7, 8, 9, 10], [2, 5, 7, 8, 9, 11], [2, 5, 7, 8, 9], [2, 5, 7, 8, 10, 11], [2, 5, 7, 8, 10], [2, 5, 7, 8, 11], [2, 5, 7, 8], [2, 5, 7, 9, 10, 11], [2, 5, 7, 9, 10], [2, 5, 7, 9, 11], [2, 5, 7, 9], [2, 5, 7, 10, 11], [2, 5, 7, 10], [2, 5, 7, 11], [2, 5, 7], [2, 5, 8, 9, 10, 11], [2, 5, 8, 9, 10], [2, 5, 8, 9, 11], [2, 5, 8, 9], [2, 5, 8, 10, 11], [2, 5, 8, 10], [2, 5, 8, 11], [2, 5, 8], [2, 5, 9, 10, 11], [2, 5, 9, 10], [2, 5, 9, 11], [2, 5, 9], [2, 5, 10, 11], [2, 5, 10], [2, 5, 11], [2, 5], [2, 6, 7, 8, 9, 10, 11], [2, 6, 7, 8, 9, 10], [2, 6, 7, 8, 9, 11], [2, 6, 7, 8, 9], [2, 6, 7, 8, 10, 11], [2, 6, 7, 8, 10], [2, 6, 7, 8, 11], [2, 6, 7, 8], [2, 6, 7, 9, 10, 11], [2, 6, 7, 9, 10], [2, 6, 7, 9, 11], [2, 6, 7, 9], [2, 6, 7, 10, 11], [2, 6, 7, 10], [2, 6, 7, 11], [2, 6, 7], [2, 6, 8, 9, 10, 11], [2, 6, 8, 9, 10], [2, 6, 8, 9, 11], [2, 6, 8, 9], [2, 6, 8, 10, 11], [2, 6, 8, 10], [2, 6, 8, 11], [2, 6, 8], [2, 6, 9, 10, 11], [2, 6, 9, 10], [2, 6, 9, 11], [2, 6, 9], [2, 6, 10, 11], [2, 6, 10], [2, 6, 11], [2, 6], [2, 7, 8, 9, 10, 11], [2, 7, 8, 9, 10], [2, 7, 8, 9, 11], [2, 7, 8, 9], [2, 7, 8, 10, 11], [2, 7, 8, 10], [2, 7, 8, 11], [2, 7, 8], [2, 7, 9, 10, 11], [2, 7, 9, 10], [2, 7, 9, 11], [2, 7, 9], [2, 7, 10, 11], [2, 7, 10], [2, 7, 11], [2, 7], [2, 8, 9, 10, 11], [2, 8, 9, 10], [2, 8, 9, 11], [2, 8, 9], [2, 8, 10, 11], [2, 8, 10], [2, 8, 11], [2, 8], [2, 9, 10, 11], [2, 9, 10], [2, 9, 11], [2, 9], [2, 10, 11], [2, 10], [2, 11], [2], [3, 4, 5, 6, 7, 8, 9, 10, 11], [3, 4, 5, 6, 7, 8, 9, 10], [3, 4, 5, 6, 7, 8, 9, 11], [3, 4, 5, 6, 7, 8, 9], [3, 4, 5, 6, 7, 8, 10, 11], [3, 4, 5, 6, 7, 8, 10], [3, 4, 5, 6, 7, 8, 11], [3, 4, 5, 6, 7, 8], [3, 4, 5, 6, 7, 9, 10, 11], [3, 4, 5, 6, 7, 9, 10], [3, 4, 5, 6, 7, 9, 11], [3, 4, 5, 6, 7, 9], [3, 4, 5, 6, 7, 10, 11], [3, 4, 5, 6, 7, 10], [3, 4, 5, 6, 7, 11], [3, 4, 5, 6, 7], [3, 4, 5, 6, 8, 9, 10, 11], [3, 4, 5, 6, 8, 9, 10], [3, 4, 5, 6, 8, 9, 11], [3, 4, 5, 6, 8, 9], [3, 4, 5, 6, 8, 10, 11], [3, 4, 5, 6, 8, 10], [3, 4, 5, 6, 8, 11], [3, 4, 5, 6, 8], [3, 4, 5, 6, 9, 10, 11], [3, 4, 5, 6, 9, 10], [3, 4, 5, 6, 9, 11], [3, 4, 5, 6, 9], [3, 4, 5, 6, 10, 11], [3, 4, 5, 6, 10], [3, 4, 5, 6, 11], [3, 4, 5, 6], [3, 4, 5, 7, 8, 9, 10, 11], [3, 4, 5, 7, 8, 9, 10], [3, 4, 5, 7, 8, 9, 11], [3, 4, 5, 7, 8, 9], [3, 4, 5, 7, 8, 10, 11], [3, 4, 5, 7, 8, 10], [3, 4, 5, 7, 8, 11], [3, 4, 5, 7, 8], [3, 4, 5, 7, 9, 10, 11], [3, 4, 5, 7, 9, 10], [3, 4, 5, 7, 9, 11], [3, 4, 5, 7, 9], [3, 4, 5, 7, 10, 11], [3, 4, 5, 7, 10], [3, 4, 5, 7, 11], [3, 4, 5, 7], [3, 4, 5, 8, 9, 10, 11], [3, 4, 5, 8, 9, 10], [3, 4, 5, 8, 9, 11], [3, 4, 5, 8, 9], [3, 4, 5, 8, 10, 11], [3, 4, 5, 8, 10], [3, 4, 5, 8, 11], [3, 4, 5, 8], [3, 4, 5, 9, 10, 11], [3, 4, 5, 9, 10], [3, 4, 5, 9, 11], [3, 4, 5, 9], [3, 4, 5, 10, 11], [3, 4, 5, 10], [3, 4, 5, 11], [3, 4, 5], [3, 4, 6, 7, 8, 9, 10, 11], [3, 4, 6, 7, 8, 9, 10], [3, 4, 6, 7, 8, 9, 11], [3, 4, 6, 7, 8, 9], [3, 4, 6, 7, 8, 10, 11], [3, 4, 6, 7, 8, 10], [3, 4, 6, 7, 8, 11], [3, 4, 6, 7, 8], [3, 4, 6, 7, 9, 10, 11], [3, 4, 6, 7, 9, 10], [3, 4, 6, 7, 9, 11], [3, 4, 6, 7, 9], [3, 4, 6, 7, 10, 11], [3, 4, 6, 7, 10], [3, 4, 6, 7, 11], [3, 4, 6, 7], [3, 4, 6, 8, 9, 10, 11], [3, 4, 6, 8, 9, 10], [3, 4, 6, 8, 9, 11], [3, 4, 6, 8, 9], [3, 4, 6, 8, 10, 11], [3, 4, 6, 8, 10], [3, 4, 6, 8, 11], [3, 4, 6, 8], [3, 4, 6, 9, 10, 11], [3, 4, 6, 9, 10], [3, 4, 6, 9, 11], [3, 4, 6, 9], [3, 4, 6, 10, 11], [3, 4, 6, 10], [3, 4, 6, 11], [3, 4, 6], [3, 4, 7, 8, 9, 10, 11], [3, 4, 7, 8, 9, 10], [3, 4, 7, 8, 9, 11], [3, 4, 7, 8, 9], [3, 4, 7, 8, 10, 11], [3, 4, 7, 8, 10], [3, 4, 7, 8, 11], [3, 4, 7, 8], [3, 4, 7, 9, 10, 11], [3, 4, 7, 9, 10], [3, 4, 7, 9, 11], [3, 4, 7, 9], [3, 4, 7, 10, 11], [3, 4, 7, 10], [3, 4, 7, 11], [3, 4, 7], [3, 4, 8, 9, 10, 11], [3, 4, 8, 9, 10], [3, 4, 8, 9, 11], [3, 4, 8, 9], [3, 4, 8, 10, 11], [3, 4, 8, 10], [3, 4, 8, 11], [3, 4, 8], [3, 4, 9, 10, 11], [3, 4, 9, 10], [3, 4, 9, 11], [3, 4, 9], [3, 4, 10, 11], [3, 4, 10], [3, 4, 11], [3, 4], [3, 5, 6, 7, 8, 9, 10, 11], [3, 5, 6, 7, 8, 9, 10], [3, 5, 6, 7, 8, 9, 11], [3, 5, 6, 7, 8, 9], [3, 5, 6, 7, 8, 10, 11], [3, 5, 6, 7, 8, 10], [3, 5, 6, 7, 8, 11], [3, 5, 6, 7, 8], [3, 5, 6, 7, 9, 10, 11], [3, 5, 6, 7, 9, 10], [3, 5, 6, 7, 9, 11], [3, 5, 6, 7, 9], [3, 5, 6, 7, 10, 11], [3, 5, 6, 7, 10], [3, 5, 6, 7, 11], [3, 5, 6, 7], [3, 5, 6, 8, 9, 10, 11], [3, 5, 6, 8, 9, 10], [3, 5, 6, 8, 9, 11], [3, 5, 6, 8, 9], [3, 5, 6, 8, 10, 11], [3, 5, 6, 8, 10], [3, 5, 6, 8, 11], [3, 5, 6, 8], [3, 5, 6, 9, 10, 11], [3, 5, 6, 9, 10], [3, 5, 6, 9, 11], [3, 5, 6, 9], [3, 5, 6, 10, 11], [3, 5, 6, 10], [3, 5, 6, 11], [3, 5, 6], [3, 5, 7, 8, 9, 10, 11], [3, 5, 7, 8, 9, 10], [3, 5, 7, 8, 9, 11], [3, 5, 7, 8, 9], [3, 5, 7, 8, 10, 11], [3, 5, 7, 8, 10], [3, 5, 7, 8, 11], [3, 5, 7, 8], [3, 5, 7, 9, 10, 11], [3, 5, 7, 9, 10], [3, 5, 7, 9, 11], [3, 5, 7, 9], [3, 5, 7, 10, 11], [3, 5, 7, 10], [3, 5, 7, 11], [3, 5, 7], [3, 5, 8, 9, 10, 11], [3, 5, 8, 9, 10], [3, 5, 8, 9, 11], [3, 5, 8, 9], [3, 5, 8, 10, 11], [3, 5, 8, 10], [3, 5, 8, 11], [3, 5, 8], [3, 5, 9, 10, 11], [3, 5, 9, 10], [3, 5, 9, 11], [3, 5, 9], [3, 5, 10, 11], [3, 5, 10], [3, 5, 11], [3, 5], [3, 6, 7, 8, 9, 10, 11], [3, 6, 7, 8, 9, 10], [3, 6, 7, 8, 9, 11], [3, 6, 7, 8, 9], [3, 6, 7, 8, 10, 11], [3, 6, 7, 8, 10], [3, 6, 7, 8, 11], [3, 6, 7, 8], [3, 6, 7, 9, 10, 11], [3, 6, 7, 9, 10], [3, 6, 7, 9, 11], [3, 6, 7, 9], [3, 6, 7, 10, 11], [3, 6, 7, 10], [3, 6, 7, 11], [3, 6, 7], [3, 6, 8, 9, 10, 11], [3, 6, 8, 9, 10], [3, 6, 8, 9, 11], [3, 6, 8, 9], [3, 6, 8, 10, 11], [3, 6, 8, 10], [3, 6, 8, 11], [3, 6, 8], [3, 6, 9, 10, 11], [3, 6, 9, 10], [3, 6, 9, 11], [3, 6, 9], [3, 6, 10, 11], [3, 6, 10], [3, 6, 11], [3, 6], [3, 7, 8, 9, 10, 11], [3, 7, 8, 9, 10], [3, 7, 8, 9, 11], [3, 7, 8, 9], [3, 7, 8, 10, 11], [3, 7, 8, 10], [3, 7, 8, 11], [3, 7, 8], [3, 7, 9, 10, 11], [3, 7, 9, 10], [3, 7, 9, 11], [3, 7, 9], [3, 7, 10, 11], [3, 7, 10], [3, 7, 11], [3, 7], [3, 8, 9, 10, 11], [3, 8, 9, 10], [3, 8, 9, 11], [3, 8, 9], [3, 8, 10, 11], [3, 8, 10], [3, 8, 11], [3, 8], [3, 9, 10, 11], [3, 9, 10], [3, 9, 11], [3, 9], [3, 10, 11], [3, 10], [3, 11], [3], [4, 5, 6, 7, 8, 9, 10, 11], [4, 5, 6, 7, 8, 9, 10], [4, 5, 6, 7, 8, 9, 11], [4, 5, 6, 7, 8, 9], [4, 5, 6, 7, 8, 10, 11], [4, 5, 6, 7, 8, 10], [4, 5, 6, 7, 8, 11], [4, 5, 6, 7, 8], [4, 5, 6, 7, 9, 10, 11], [4, 5, 6, 7, 9, 10], [4, 5, 6, 7, 9, 11], [4, 5, 6, 7, 9], [4, 5, 6, 7, 10, 11], [4, 5, 6, 7, 10], [4, 5, 6, 7, 11], [4, 5, 6, 7], [4, 5, 6, 8, 9, 10, 11], [4, 5, 6, 8, 9, 10], [4, 5, 6, 8, 9, 11], [4, 5, 6, 8, 9], [4, 5, 6, 8, 10, 11], [4, 5, 6, 8, 10], [4, 5, 6, 8, 11], [4, 5, 6, 8], [4, 5, 6, 9, 10, 11], [4, 5, 6, 9, 10], [4, 5, 6, 9, 11], [4, 5, 6, 9], [4, 5, 6, 10, 11], [4, 5, 6, 10], [4, 5, 6, 11], [4, 5, 6], [4, 5, 7, 8, 9, 10, 11], [4, 5, 7, 8, 9, 10], [4, 5, 7, 8, 9, 11], [4, 5, 7, 8, 9], [4, 5, 7, 8, 10, 11], [4, 5, 7, 8, 10], [4, 5, 7, 8, 11], [4, 5, 7, 8], [4, 5, 7, 9, 10, 11], [4, 5, 7, 9, 10], [4, 5, 7, 9, 11], [4, 5, 7, 9], [4, 5, 7, 10, 11], [4, 5, 7, 10], [4, 5, 7, 11], [4, 5, 7], [4, 5, 8, 9, 10, 11], [4, 5, 8, 9, 10], [4, 5, 8, 9, 11], [4, 5, 8, 9], [4, 5, 8, 10, 11], [4, 5, 8, 10], [4, 5, 8, 11], [4, 5, 8], [4, 5, 9, 10, 11], [4, 5, 9, 10], [4, 5, 9, 11], [4, 5, 9], [4, 5, 10, 11], [4, 5, 10], [4, 5, 11], [4, 5], [4, 6, 7, 8, 9, 10, 11], [4, 6, 7, 8, 9, 10], [4, 6, 7, 8, 9, 11], [4, 6, 7, 8, 9], [4, 6, 7, 8, 10, 11], [4, 6, 7, 8, 10], [4, 6, 7, 8, 11], [4, 6, 7, 8], [4, 6, 7, 9, 10, 11], [4, 6, 7, 9, 10], [4, 6, 7, 9, 11], [4, 6, 7, 9], [4, 6, 7, 10, 11], [4, 6, 7, 10], [4, 6, 7, 11], [4, 6, 7], [4, 6, 8, 9, 10, 11], [4, 6, 8, 9, 10], [4, 6, 8, 9, 11], [4, 6, 8, 9], [4, 6, 8, 10, 11], [4, 6, 8, 10], [4, 6, 8, 11], [4, 6, 8], [4, 6, 9, 10, 11], [4, 6, 9, 10], [4, 6, 9, 11], [4, 6, 9], [4, 6, 10, 11], [4, 6, 10], [4, 6, 11], [4, 6], [4, 7, 8, 9, 10, 11], [4, 7, 8, 9, 10], [4, 7, 8, 9, 11], [4, 7, 8, 9], [4, 7, 8, 10, 11], [4, 7, 8, 10], [4, 7, 8, 11], [4, 7, 8], [4, 7, 9, 10, 11], [4, 7, 9, 10], [4, 7, 9, 11], [4, 7, 9], [4, 7, 10, 11], [4, 7, 10], [4, 7, 11], [4, 7], [4, 8, 9, 10, 11], [4, 8, 9, 10], [4, 8, 9, 11], [4, 8, 9], [4, 8, 10, 11], [4, 8, 10], [4, 8, 11], [4, 8], [4, 9, 10, 11], [4, 9, 10], [4, 9, 11], [4, 9], [4, 10, 11], [4, 10], [4, 11], [4], [5, 6, 7, 8, 9, 10, 11], [5, 6, 7, 8, 9, 10], [5, 6, 7, 8, 9, 11], [5, 6, 7, 8, 9], [5, 6, 7, 8, 10, 11], [5, 6, 7, 8, 10], [5, 6, 7, 8, 11], [5, 6, 7, 8], [5, 6, 7, 9, 10, 11], [5, 6, 7, 9, 10], [5, 6, 7, 9, 11], [5, 6, 7, 9], [5, 6, 7, 10, 11], [5, 6, 7, 10], [5, 6, 7, 11], [5, 6, 7], [5, 6, 8, 9, 10, 11], [5, 6, 8, 9, 10], [5, 6, 8, 9, 11], [5, 6, 8, 9], [5, 6, 8, 10, 11], [5, 6, 8, 10], [5, 6, 8, 11], [5, 6, 8], [5, 6, 9, 10, 11], [5, 6, 9, 10], [5, 6, 9, 11], [5, 6, 9], [5, 6, 10, 11], [5, 6, 10], [5, 6, 11], [5, 6], [5, 7, 8, 9, 10, 11], [5, 7, 8, 9, 10], [5, 7, 8, 9, 11], [5, 7, 8, 9], [5, 7, 8, 10, 11], [5, 7, 8, 10], [5, 7, 8, 11], [5, 7, 8], [5, 7, 9, 10, 11], [5, 7, 9, 10], [5, 7, 9, 11], [5, 7, 9], [5, 7, 10, 11], [5, 7, 10], [5, 7, 11], [5, 7], [5, 8, 9, 10, 11], [5, 8, 9, 10], [5, 8, 9, 11], [5, 8, 9], [5, 8, 10, 11], [5, 8, 10], [5, 8, 11], [5, 8], [5, 9, 10, 11], [5, 9, 10], [5, 9, 11], [5, 9], [5, 10, 11], [5, 10], [5, 11], [5], [6, 7, 8, 9, 10, 11], [6, 7, 8, 9, 10], [6, 7, 8, 9, 11], [6, 7, 8, 9], [6, 7, 8, 10, 11], [6, 7, 8, 10], [6, 7, 8, 11], [6, 7, 8], [6, 7, 9, 10, 11], [6, 7, 9, 10], [6, 7, 9, 11], [6, 7, 9], [6, 7, 10, 11], [6, 7, 10], [6, 7, 11], [6, 7], [6, 8, 9, 10, 11], [6, 8, 9, 10], [6, 8, 9, 11], [6, 8, 9], [6, 8, 10, 11], [6, 8, 10], [6, 8, 11], [6, 8], [6, 9, 10, 11], [6, 9, 10], [6, 9, 11], [6, 9], [6, 10, 11], [6, 10], [6, 11], [6], [7, 8, 9, 10, 11], [7, 8, 9, 10], [7, 8, 9, 11], [7, 8, 9], [7, 8, 10, 11], [7, 8, 10], [7, 8, 11], [7, 8], [7, 9, 10, 11], [7, 9, 10], [7, 9, 11], [7, 9], [7, 10, 11], [7, 10], [7, 11], [7], [8, 9, 10, 11], [8, 9, 10], [8, 9, 11], [8, 9], [8, 10, 11], [8, 10], [8, 11], [8], [9, 10, 11], [9, 10], [9, 11], [9], [10, 11], [10], [11], []]\n",
      "CPU times: user 1.72 ms, sys: 222 µs, total: 1.94 ms\n",
      "Wall time: 2.04 ms\n"
     ]
    }
   ],
   "source": [
    "%%time\n",
    "class Solution1:\n",
    "    def subsets(self, nums: list[int]) -> list[list[int]]:\n",
    "        res = []\n",
    "        subset = []\n",
    "        def dfs(i):\n",
    "            #base case: reach the end of decision tree (completed set)\n",
    "            if i >= len(nums):\n",
    "                res.append(subset[:]) #add copy to keep modifying subset\n",
    "                return \n",
    "            \n",
    "            #decision to choose nums[i]\n",
    "            subset.append(nums[i])\n",
    "            dfs(i+1)\n",
    "            #decision not to choose nums[i]\n",
    "            subset.pop()\n",
    "            dfs(i+1) #go to next level(i+1) without nums[i]\n",
    "        dfs(0)\n",
    "        return res\n",
    "nums = [n for n in range(1,12)]\n",
    "print(Solution1.subsets(Solution1, nums))"
   ]
  },
  {
   "cell_type": "markdown",
   "metadata": {},
   "source": [
    "#### [39. Combination Sum](https://leetcode.com/problems/combination-sum/)\n",
    "The backtracking decision tree to avoid duplicates candidates:\n",
    "- Suppose decision paths through candidates = [2,3,6,7]\n",
    "- Keep move from i, i or to i+1 in candidates, don't look back to avoid duplicates\n",
    "    - The first paths that have first pivot elements, later path never contains previous pivot elements \n",
    "    - (Path of 3 never contains 2, path of 7 never contains 2,3,...)\n",
    "\n",
    "<img src=\"assets/39. Combination Sum.png\" width=500px></img>"
   ]
  },
  {
   "cell_type": "code",
   "execution_count": 1,
   "metadata": {},
   "outputs": [
    {
     "data": {
      "text/plain": [
       "[[2, 2, 2, 1],\n",
       " [2, 2, 3],\n",
       " [2, 2, 1, 1, 1],\n",
       " [2, 3, 1, 1],\n",
       " [2, 1, 1, 1, 1, 1],\n",
       " [3, 3, 1],\n",
       " [3, 1, 1, 1, 1],\n",
       " [6, 1],\n",
       " [1, 1, 1, 1, 1, 1, 1]]"
      ]
     },
     "execution_count": 1,
     "metadata": {},
     "output_type": "execute_result"
    }
   ],
   "source": [
    "class Solution:    \n",
    "    def combinationSum(self, candidates: list[int], target: int) -> list[list[int]]:\n",
    "        res = []\n",
    "        cur = []\n",
    "        #i: index of num in candidates; cur: current comb\n",
    "        #(II): This function process i before new added cur, and added total\n",
    "        #And process its next index i+1 that never consider i again\n",
    "        def dfs(i, total):\n",
    "            if total == target:\n",
    "                res.append(cur[:])\n",
    "                return\n",
    "            if total > target or i >= len(candidates):\n",
    "                return\n",
    "            \n",
    "            cur.append(candidates[i])\n",
    "            #Process stage: pass i itself after the first pass at (II)\n",
    "            #Process i with new added cur and new total\n",
    "\n",
    "            dfs(i, total+candidates[i]) #(I)\n",
    "            \n",
    "            #Next index stage: pass i+1, would never consider i\n",
    "            cur.pop() #pop what just added (candidates[i])\n",
    "            \n",
    "            #Note** Do not add candidates[i+1] to total\n",
    "            dfs(i+1, total) \n",
    "            return\n",
    "        dfs(0, 0)\n",
    "        return res\n",
    "candidates = [2,3,6,1]\n",
    "target = 7\n",
    "Solution.combinationSum(Solution, candidates, target)\n"
   ]
  },
  {
   "cell_type": "markdown",
   "metadata": {},
   "source": [
    "**Note:  because we want to pass i+1 to be processed (the process of next index will be at line (I)), not process it now. \"To-be-process\" so that i+1 is treated like i, where it got processed, and its +1 (i+2 this case) got processed later. This recursively occur to i+2 to be processed so i+3 will be processsed after that.\n"
   ]
  },
  {
   "cell_type": "code",
   "execution_count": null,
   "metadata": {},
   "outputs": [],
   "source": [
    "class Solution:\n",
    "    def combinationSum(self, candidates: list[int], target: int) -> list[list[int]]:\n",
    "        res = []\n",
    "        n = len(candidates)\n",
    "        def backtrack(index, cur, total):\n",
    "            if total == target:\n",
    "                res.append(cur[:]) \n",
    "                return\n",
    "            if total > target:\n",
    "                return\n",
    "            \n",
    "            for i in range(index, n):\n",
    "                cur.append(candidates[i])  # Include the candidate\n",
    "                # Recurse with updated total and the same index `i` (can reuse the same candidate)\n",
    "                backtrack(i, cur, total + candidates[i])\n",
    "                # Backtrack by removing the last added element\n",
    "                cur.pop()\n",
    "        \n",
    "        backtrack(0, [], 0)\n",
    "        return res\n"
   ]
  },
  {
   "cell_type": "markdown",
   "metadata": {},
   "source": [
    "#### [40. Combination Sum II](https://leetcode.com/problems/combination-sum-ii/description/s)"
   ]
  },
  {
   "cell_type": "code",
   "execution_count": 5,
   "metadata": {},
   "outputs": [
    {
     "data": {
      "text/plain": [
       "[[2, 3, 2], [6, 1]]"
      ]
     },
     "execution_count": 5,
     "metadata": {},
     "output_type": "execute_result"
    }
   ],
   "source": [
    "class Solution:\n",
    "    def combinationSum2(self, candidates: list[int], target: int) -> list[list[int]]:\n",
    "        res = []\n",
    "\n",
    "        n = len(candidates)\n",
    "        candidates.sort()\n",
    "        def dfs(index, total, cur):\n",
    "            if total == target:\n",
    "                res.append(cur[:])\n",
    "                return\n",
    "            \n",
    "            if index >= n or total > target:\n",
    "                return\n",
    "            \n",
    "            for i in range(index, n):\n",
    "                #Compared [i-1] have to be in bound(index,n)\n",
    "                if candidates[i] == candidates[i-1] and i - 1 >= index:\n",
    "                    continue\n",
    "                #Actually process candidate[i]\n",
    "                cur.append(candidates[i])\n",
    "                dfs(i+1, total+candidates[i], cur)\n",
    "                cur.pop()\n",
    "                \n",
    "        dfs(0,0, [])\n",
    "        return res\n",
    "candidates = [2,3,2, 6,1]\n",
    "target = 7\n",
    "Solution.combinationSum2(Solution, candidates, target) "
   ]
  },
  {
   "cell_type": "markdown",
   "metadata": {},
   "source": [
    "#### [79. Word Search](https://leetcode.com/problems/word-search/)\n",
    "O(n * m * 4^n)\n",
    "\n",
    "- For time optimization: reverse the word if frequency of the first letter is higher than the last\n",
    "- This reduces DFS search from multiple same chars in board in the beginning."
   ]
  },
  {
   "cell_type": "code",
   "execution_count": null,
   "metadata": {},
   "outputs": [
    {
     "name": "stdout",
     "output_type": "stream",
     "text": [
      "found next at A\n",
      "found next at B\n",
      "found next at C\n",
      "found next at C\n",
      "found next at E\n",
      "found next at D\n"
     ]
    },
    {
     "data": {
      "text/plain": [
       "True"
      ]
     },
     "execution_count": 50,
     "metadata": {},
     "output_type": "execute_result"
    }
   ],
   "source": [
    "from collections import Counter\n",
    "class Solution:\n",
    "    def exist(self, board: list[list[str]], word: str) -> bool:\n",
    "        visit = set()\n",
    "        ROW, COL = len(board), len(board[0])\n",
    "        \n",
    "        def dfs(r,c, word)->bool:\n",
    "            #BASE CASE of TRUE/FALSE\n",
    "            if len(word) ==0:\n",
    "                return True\n",
    "            \n",
    "            if ((r,c) in visit\n",
    "                or not (0 <= r and r <ROW)\n",
    "                or not (0 <= c and c <COL) \n",
    "                or board[r][c] != word[0]):\n",
    "                return False\n",
    "            \n",
    "            visit.add((r,c))\n",
    "            print(\"found next at\", board[r][c])\n",
    "\n",
    "            if (dfs(r+1, c, word[1:])\n",
    "            or dfs(r-1, c, word[1:])\n",
    "            or dfs(r, c+1, word[1:])\n",
    "            or dfs(r, c-1, word[1:])):\n",
    "                return True\n",
    "            #if none of direction found next char, do not choose (r,c)\n",
    "            visit.remove((r,c))\n",
    "            return False\n",
    "        #Reverse if count[word[0]] > count[word[-1]]\n",
    "        c = Counter(word)\n",
    "        if c[word[0]] > c[word[-1]]:\n",
    "            word = word[::-1]\n",
    "        \n",
    "        for i in range(ROW):\n",
    "            for j in range(COL):\n",
    "                if dfs(i, j, word):\n",
    "                    return True\n",
    "        \n",
    "        return False\n",
    "board = [[\"A\",\"B\",\"C\",\"E\"],[\"S\",\"F\",\"C\",\"S\"],[\"A\",\"D\",\"E\",\"E\"]]\n",
    "word = \"ABCCED\"\n",
    "Solution.exist(Solution, board, word)"
   ]
  },
  {
   "cell_type": "markdown",
   "metadata": {},
   "source": [
    "#### [131. Palindrome Partitioning](https://leetcode.com/problems/palindrome-partitioning/)\n",
    "\n",
    "OG approach:\n",
    "- Pass in word to partition\n",
    "- Loop i-> wordlen: Check if word[:i] is Pali, if yes: pass Parti(word[i+1:])\n",
    "\n",
    "<img src=\"assets/131. Palindrome Partitioning.png\" width=400px></img>\n",
    "<img src=\"assets/131. PP.png\" ></img>"
   ]
  },
  {
   "cell_type": "code",
   "execution_count": null,
   "metadata": {},
   "outputs": [
    {
     "data": {
      "text/plain": [
       "[['c', 'b', 'b', 'b', 'c', 'c'],\n",
       " ['c', 'b', 'b', 'b', 'cc'],\n",
       " ['c', 'b', 'bb', 'c', 'c'],\n",
       " ['c', 'b', 'bb', 'cc'],\n",
       " ['c', 'bb', 'b', 'c', 'c'],\n",
       " ['c', 'bb', 'b', 'cc'],\n",
       " ['c', 'bbb', 'c', 'c'],\n",
       " ['c', 'bbb', 'cc'],\n",
       " ['cbbbc', 'c']]"
      ]
     },
     "execution_count": 49,
     "metadata": {},
     "output_type": "execute_result"
    }
   ],
   "source": [
    "class Solution:\n",
    "    def partition(self, s: str) -> list[list[str]]:\n",
    "        res = []\n",
    "        cur = []\n",
    "        \n",
    "        def dfspart(i):\n",
    "            if i >= len(s):\n",
    "                res.append(cur[:])\n",
    "                return\n",
    "            for j in range(i,len(s)):\n",
    "                pre = s[i:j+1]\n",
    "                if pre == pre[::-1]:\n",
    "                    cur.append(pre)\n",
    "                    dfspart(j+1)\n",
    "                    #after going down all the way in dfspart, \n",
    "                    #remove pre from cur to append another sibling \"pre\" in the for loop\n",
    "                    cur.pop()\n",
    "                \n",
    "        dfspart(0)\n",
    "        return res\n",
    "s = \"cbbbcc\"\n",
    "Solution.partition(Solution, s)"
   ]
  },
  {
   "cell_type": "markdown",
   "metadata": {},
   "source": [
    "#### [17. Letter Combinations of a Phone Number](https://leetcode.com/problems/letter-combinations-of-a-phone-number/)"
   ]
  },
  {
   "cell_type": "code",
   "execution_count": 46,
   "metadata": {},
   "outputs": [
    {
     "name": "stdout",
     "output_type": "stream",
     "text": [
      "CPU times: user 99 µs, sys: 82 µs, total: 181 µs\n",
      "Wall time: 348 µs\n"
     ]
    },
    {
     "data": {
      "text/plain": [
       "['gadgj',\n",
       " 'gadgk',\n",
       " 'gadgl',\n",
       " 'gadhj',\n",
       " 'gadhk',\n",
       " 'gadhl',\n",
       " 'gadij',\n",
       " 'gadik',\n",
       " 'gadil',\n",
       " 'gaegj',\n",
       " 'gaegk',\n",
       " 'gaegl',\n",
       " 'gaehj',\n",
       " 'gaehk',\n",
       " 'gaehl',\n",
       " 'gaeij',\n",
       " 'gaeik',\n",
       " 'gaeil',\n",
       " 'gafgj',\n",
       " 'gafgk',\n",
       " 'gafgl',\n",
       " 'gafhj',\n",
       " 'gafhk',\n",
       " 'gafhl',\n",
       " 'gafij',\n",
       " 'gafik',\n",
       " 'gafil',\n",
       " 'gbdgj',\n",
       " 'gbdgk',\n",
       " 'gbdgl',\n",
       " 'gbdhj',\n",
       " 'gbdhk',\n",
       " 'gbdhl',\n",
       " 'gbdij',\n",
       " 'gbdik',\n",
       " 'gbdil',\n",
       " 'gbegj',\n",
       " 'gbegk',\n",
       " 'gbegl',\n",
       " 'gbehj',\n",
       " 'gbehk',\n",
       " 'gbehl',\n",
       " 'gbeij',\n",
       " 'gbeik',\n",
       " 'gbeil',\n",
       " 'gbfgj',\n",
       " 'gbfgk',\n",
       " 'gbfgl',\n",
       " 'gbfhj',\n",
       " 'gbfhk',\n",
       " 'gbfhl',\n",
       " 'gbfij',\n",
       " 'gbfik',\n",
       " 'gbfil',\n",
       " 'gcdgj',\n",
       " 'gcdgk',\n",
       " 'gcdgl',\n",
       " 'gcdhj',\n",
       " 'gcdhk',\n",
       " 'gcdhl',\n",
       " 'gcdij',\n",
       " 'gcdik',\n",
       " 'gcdil',\n",
       " 'gcegj',\n",
       " 'gcegk',\n",
       " 'gcegl',\n",
       " 'gcehj',\n",
       " 'gcehk',\n",
       " 'gcehl',\n",
       " 'gceij',\n",
       " 'gceik',\n",
       " 'gceil',\n",
       " 'gcfgj',\n",
       " 'gcfgk',\n",
       " 'gcfgl',\n",
       " 'gcfhj',\n",
       " 'gcfhk',\n",
       " 'gcfhl',\n",
       " 'gcfij',\n",
       " 'gcfik',\n",
       " 'gcfil',\n",
       " 'hadgj',\n",
       " 'hadgk',\n",
       " 'hadgl',\n",
       " 'hadhj',\n",
       " 'hadhk',\n",
       " 'hadhl',\n",
       " 'hadij',\n",
       " 'hadik',\n",
       " 'hadil',\n",
       " 'haegj',\n",
       " 'haegk',\n",
       " 'haegl',\n",
       " 'haehj',\n",
       " 'haehk',\n",
       " 'haehl',\n",
       " 'haeij',\n",
       " 'haeik',\n",
       " 'haeil',\n",
       " 'hafgj',\n",
       " 'hafgk',\n",
       " 'hafgl',\n",
       " 'hafhj',\n",
       " 'hafhk',\n",
       " 'hafhl',\n",
       " 'hafij',\n",
       " 'hafik',\n",
       " 'hafil',\n",
       " 'hbdgj',\n",
       " 'hbdgk',\n",
       " 'hbdgl',\n",
       " 'hbdhj',\n",
       " 'hbdhk',\n",
       " 'hbdhl',\n",
       " 'hbdij',\n",
       " 'hbdik',\n",
       " 'hbdil',\n",
       " 'hbegj',\n",
       " 'hbegk',\n",
       " 'hbegl',\n",
       " 'hbehj',\n",
       " 'hbehk',\n",
       " 'hbehl',\n",
       " 'hbeij',\n",
       " 'hbeik',\n",
       " 'hbeil',\n",
       " 'hbfgj',\n",
       " 'hbfgk',\n",
       " 'hbfgl',\n",
       " 'hbfhj',\n",
       " 'hbfhk',\n",
       " 'hbfhl',\n",
       " 'hbfij',\n",
       " 'hbfik',\n",
       " 'hbfil',\n",
       " 'hcdgj',\n",
       " 'hcdgk',\n",
       " 'hcdgl',\n",
       " 'hcdhj',\n",
       " 'hcdhk',\n",
       " 'hcdhl',\n",
       " 'hcdij',\n",
       " 'hcdik',\n",
       " 'hcdil',\n",
       " 'hcegj',\n",
       " 'hcegk',\n",
       " 'hcegl',\n",
       " 'hcehj',\n",
       " 'hcehk',\n",
       " 'hcehl',\n",
       " 'hceij',\n",
       " 'hceik',\n",
       " 'hceil',\n",
       " 'hcfgj',\n",
       " 'hcfgk',\n",
       " 'hcfgl',\n",
       " 'hcfhj',\n",
       " 'hcfhk',\n",
       " 'hcfhl',\n",
       " 'hcfij',\n",
       " 'hcfik',\n",
       " 'hcfil',\n",
       " 'iadgj',\n",
       " 'iadgk',\n",
       " 'iadgl',\n",
       " 'iadhj',\n",
       " 'iadhk',\n",
       " 'iadhl',\n",
       " 'iadij',\n",
       " 'iadik',\n",
       " 'iadil',\n",
       " 'iaegj',\n",
       " 'iaegk',\n",
       " 'iaegl',\n",
       " 'iaehj',\n",
       " 'iaehk',\n",
       " 'iaehl',\n",
       " 'iaeij',\n",
       " 'iaeik',\n",
       " 'iaeil',\n",
       " 'iafgj',\n",
       " 'iafgk',\n",
       " 'iafgl',\n",
       " 'iafhj',\n",
       " 'iafhk',\n",
       " 'iafhl',\n",
       " 'iafij',\n",
       " 'iafik',\n",
       " 'iafil',\n",
       " 'ibdgj',\n",
       " 'ibdgk',\n",
       " 'ibdgl',\n",
       " 'ibdhj',\n",
       " 'ibdhk',\n",
       " 'ibdhl',\n",
       " 'ibdij',\n",
       " 'ibdik',\n",
       " 'ibdil',\n",
       " 'ibegj',\n",
       " 'ibegk',\n",
       " 'ibegl',\n",
       " 'ibehj',\n",
       " 'ibehk',\n",
       " 'ibehl',\n",
       " 'ibeij',\n",
       " 'ibeik',\n",
       " 'ibeil',\n",
       " 'ibfgj',\n",
       " 'ibfgk',\n",
       " 'ibfgl',\n",
       " 'ibfhj',\n",
       " 'ibfhk',\n",
       " 'ibfhl',\n",
       " 'ibfij',\n",
       " 'ibfik',\n",
       " 'ibfil',\n",
       " 'icdgj',\n",
       " 'icdgk',\n",
       " 'icdgl',\n",
       " 'icdhj',\n",
       " 'icdhk',\n",
       " 'icdhl',\n",
       " 'icdij',\n",
       " 'icdik',\n",
       " 'icdil',\n",
       " 'icegj',\n",
       " 'icegk',\n",
       " 'icegl',\n",
       " 'icehj',\n",
       " 'icehk',\n",
       " 'icehl',\n",
       " 'iceij',\n",
       " 'iceik',\n",
       " 'iceil',\n",
       " 'icfgj',\n",
       " 'icfgk',\n",
       " 'icfgl',\n",
       " 'icfhj',\n",
       " 'icfhk',\n",
       " 'icfhl',\n",
       " 'icfij',\n",
       " 'icfik',\n",
       " 'icfil']"
      ]
     },
     "execution_count": 46,
     "metadata": {},
     "output_type": "execute_result"
    }
   ],
   "source": [
    "%%time\n",
    "class Solution:\n",
    "    def letterCombinations(self, digits: str) -> list[str]:\n",
    "        mmap = {\"2\": \"abc\", \"3\": \"def\", \"4\":\"ghi\", \"5\":\"jkl\", \"6\":\"mno\", \"7\": \"pqrs\", \"8\":\"tuv\", \"9\":\"wxyz\"}\n",
    "        def comb(i) -> list[str]:\n",
    "            cur = []\n",
    "\n",
    "            #Base case\n",
    "            if i == 0:\n",
    "                return list(mmap[digits[i]])\n",
    "            \n",
    "            pre,outpost = digits[i], comb(i-1)\n",
    "            \n",
    "            for e in outpost:\n",
    "                for d in mmap[pre]:\n",
    "                    s = e+d\n",
    "                    cur.append(s)\n",
    "            return cur\n",
    "        if digits == \"\":\n",
    "            return []\n",
    "        return comb(len(digits)-1)\n",
    "\n",
    "digits = \"42345\"\n",
    "Solution.letterCombinations(Solution, digits)       \n"
   ]
  },
  {
   "cell_type": "code",
   "execution_count": 45,
   "metadata": {},
   "outputs": [
    {
     "ename": "NameError",
     "evalue": "name 'List' is not defined",
     "output_type": "error",
     "traceback": [
      "\u001b[0;31m---------------------------------------------------------------------------\u001b[0m",
      "\u001b[0;31mNameError\u001b[0m                                 Traceback (most recent call last)",
      "Cell \u001b[0;32mIn[45], line 1\u001b[0m\n\u001b[0;32m----> 1\u001b[0m \u001b[38;5;28;01mclass\u001b[39;00m \u001b[38;5;21;01mSolution\u001b[39;00m:\n\u001b[1;32m      2\u001b[0m     \u001b[38;5;28;01mdef\u001b[39;00m \u001b[38;5;21mletterCombinations\u001b[39m(\u001b[38;5;28mself\u001b[39m, digits: \u001b[38;5;28mstr\u001b[39m) \u001b[38;5;241m-\u001b[39m\u001b[38;5;241m>\u001b[39m List[\u001b[38;5;28mstr\u001b[39m]:\n\u001b[1;32m      3\u001b[0m         res \u001b[38;5;241m=\u001b[39m []\n",
      "Cell \u001b[0;32mIn[45], line 2\u001b[0m, in \u001b[0;36mSolution\u001b[0;34m()\u001b[0m\n\u001b[1;32m      1\u001b[0m \u001b[38;5;28;01mclass\u001b[39;00m \u001b[38;5;21;01mSolution\u001b[39;00m:\n\u001b[0;32m----> 2\u001b[0m     \u001b[38;5;28;01mdef\u001b[39;00m \u001b[38;5;21mletterCombinations\u001b[39m(\u001b[38;5;28mself\u001b[39m, digits: \u001b[38;5;28mstr\u001b[39m) \u001b[38;5;241m-\u001b[39m\u001b[38;5;241m>\u001b[39m List[\u001b[38;5;28mstr\u001b[39m]:\n\u001b[1;32m      3\u001b[0m         res \u001b[38;5;241m=\u001b[39m []\n\u001b[1;32m      4\u001b[0m         digitToChar \u001b[38;5;241m=\u001b[39m {\n\u001b[1;32m      5\u001b[0m             \u001b[38;5;124m\"\u001b[39m\u001b[38;5;124m2\u001b[39m\u001b[38;5;124m\"\u001b[39m: \u001b[38;5;124m\"\u001b[39m\u001b[38;5;124mabc\u001b[39m\u001b[38;5;124m\"\u001b[39m,\n\u001b[1;32m      6\u001b[0m             \u001b[38;5;124m\"\u001b[39m\u001b[38;5;124m3\u001b[39m\u001b[38;5;124m\"\u001b[39m: \u001b[38;5;124m\"\u001b[39m\u001b[38;5;124mdef\u001b[39m\u001b[38;5;124m\"\u001b[39m,\n\u001b[0;32m   (...)\u001b[0m\n\u001b[1;32m     12\u001b[0m             \u001b[38;5;124m\"\u001b[39m\u001b[38;5;124m9\u001b[39m\u001b[38;5;124m\"\u001b[39m: \u001b[38;5;124m\"\u001b[39m\u001b[38;5;124mwxyz\u001b[39m\u001b[38;5;124m\"\u001b[39m,\n\u001b[1;32m     13\u001b[0m         }\n",
      "\u001b[0;31mNameError\u001b[0m: name 'List' is not defined"
     ]
    }
   ],
   "source": [
    "class Solution:\n",
    "    def letterCombinations(self, digits: str) -> List[str]:\n",
    "        res = []\n",
    "        digitToChar = {\n",
    "            \"2\": \"abc\",\n",
    "            \"3\": \"def\",\n",
    "            \"4\": \"ghi\",\n",
    "            \"5\": \"jkl\",\n",
    "            \"6\": \"mno\",\n",
    "            \"7\": \"qprs\",\n",
    "            \"8\": \"tuv\",\n",
    "            \"9\": \"wxyz\",\n",
    "        }\n",
    "\n",
    "        def backtrack(i, curStr):\n",
    "            if len(curStr) == len(digits):\n",
    "                res.append(curStr)\n",
    "                return\n",
    "            for c in digitToChar[digits[i]]:\n",
    "                backtrack(i + 1, curStr + c)\n",
    "\n",
    "        if digits:\n",
    "            backtrack(0, \"\")\n",
    "\n",
    "        return res\n"
   ]
  },
  {
   "cell_type": "markdown",
   "metadata": {},
   "source": [
    "#### [90. Subsets II](https://leetcode.com/problems/subsets-ii/)"
   ]
  },
  {
   "cell_type": "code",
   "execution_count": null,
   "metadata": {},
   "outputs": [],
   "source": [
    "class Solution:\n",
    "    def subsetsWithDup(self, nums: list[int]) -> list[list[int]]:\n",
    "        res = []\n",
    "        cur = []\n",
    "        nums.sort()\n",
    "        def dfs(i):\n",
    "            if i >= len(nums):\n",
    "                \n",
    "                res.append(cur[:])\n",
    "                return\n",
    "            \n",
    "            #if choose nums[i], go dfs\n",
    "            cur.append(nums[i])\n",
    "            dfs(i+1)\n",
    "            #if not choose nums[i]\n",
    "            cur.pop()\n",
    "            count = 0\n",
    "            #after pop(), don't dfs nums[i+1] if , skip i to end of same element sequence\n",
    "            while i+1 < len(nums) and nums[i] == nums[i+1]:\n",
    "                count+=1\n",
    "                i+=1\n",
    "            \n",
    "            #dfs without num[i]\n",
    "            dfs(i+1)\n",
    "            \n",
    "        dfs(0)\n",
    "        \n",
    "        return res\n",
    "nums = [1,2,3,2,2,2,3,4,4]\n",
    "# print(Solution.subsetsWithDup(Solution, nums))    "
   ]
  },
  {
   "cell_type": "markdown",
   "metadata": {},
   "source": [
    "## [Heap / Priority Queue](https://leetcode.com/problems/kth-largest-element-in-a-stream/)"
   ]
  },
  {
   "cell_type": "code",
   "execution_count": null,
   "metadata": {},
   "outputs": [],
   "source": [
    "class MinHeap: #Heap implementation\n",
    "    def __init__(self):\n",
    "        self.heap = []\n",
    "\n",
    "    def parent(self, i):\n",
    "        return (i - 1) // 2\n",
    "\n",
    "    def left_child(self, i):\n",
    "        return 2 * i + 1\n",
    "\n",
    "    def right_child(self, i):\n",
    "        return 2 * i + 2\n",
    "\n",
    "    def swap(self, i, j):\n",
    "        self.heap[i], self.heap[j] = self.heap[j], self.heap[i]\n",
    "\n",
    "    def heapify_up(self, i):\n",
    "        while i > 0 and self.heap[i] < self.heap[self.parent(i)]:\n",
    "            self.swap(i, self.parent(i))\n",
    "            i = self.parent(i)\n",
    "\n",
    "    def heapify_down(self, i):\n",
    "        n = len(self.heap)\n",
    "        while True:\n",
    "            smallest = i\n",
    "            left = self.left_child(i)\n",
    "            right = self.right_child(i)\n",
    "\n",
    "            if left < n and self.heap[left] < self.heap[smallest]:\n",
    "                smallest = left\n",
    "\n",
    "            if right < n and self.heap[right] < self.heap[smallest]:\n",
    "                smallest = right\n",
    "\n",
    "            if smallest != i:\n",
    "                self.swap(i, smallest)\n",
    "                i = smallest\n",
    "            else:\n",
    "                break\n",
    "\n",
    "    def heapify(self, array):\n",
    "        self.heap = array  # Start with the input array\n",
    "        # Start from the last internal node and heapify each node\n",
    "        for i in range(len(self.heap) // 2 - 1, -1, -1):\n",
    "            self.heapify_down(i)\n",
    "\n",
    "    def push(self, item):\n",
    "        self.heap.append(item)\n",
    "        self.heapify_up(len(self.heap) - 1)\n",
    "\n",
    "    def pop(self):\n",
    "        if len(self.heap) == 0:\n",
    "            return None\n",
    "\n",
    "        root = self.heap[0]\n",
    "        self.heap[0] = self.heap[-1]\n",
    "        self.heap.pop()\n",
    "        self.heapify_down(0)\n",
    "        return root\n",
    "\n",
    "    def peek(self):\n",
    "        return self.heap[0] if self.heap else None\n",
    "\n",
    "    def size(self):\n",
    "        return len(self.heap)"
   ]
  },
  {
   "cell_type": "markdown",
   "metadata": {},
   "source": [
    "Note: \n",
    "- Set of k largest: Use min heap size k of the largest set, heap[0] is the smallest, used as boundary.\n",
    "- Set of k smallest: k largest but negative val."
   ]
  },
  {
   "cell_type": "markdown",
   "metadata": {},
   "source": [
    "### Easy"
   ]
  },
  {
   "cell_type": "markdown",
   "metadata": {},
   "source": [
    "#### [703. Kth Largest Element in a Stream](https://leetcode.com/problems/kth-largest-element-in-a-stream/)"
   ]
  },
  {
   "cell_type": "markdown",
   "metadata": {},
   "source": [
    "Approach:\n",
    "- Use min-heap of size k. \n",
    "    -  CREATE K-SIZE HEAP by appending from the largest in nums\n",
    "\n",
    "nums = [2,3,4,5,6], k =3 -> minheap = [4,5,6], heap[0] = 4\n",
    "\n",
    "- If (adding val to nums) val > heap[0], minheap.push(val), minheap.pop(). Return heap[0]"
   ]
  },
  {
   "cell_type": "code",
   "execution_count": null,
   "metadata": {},
   "outputs": [
    {
     "name": "stdout",
     "output_type": "stream",
     "text": [
      "4\n",
      "5\n",
      "5\n",
      "8\n",
      "8\n"
     ]
    }
   ],
   "source": [
    "import heapq\n",
    "class KthLargest:\n",
    "    def __init__(self, k: int, nums: list[int]):\n",
    "        self.heap = nums\n",
    "        heapq.heapify(self.heap)\n",
    "        while len(self.heap) > k:\n",
    "            heapq.heappop(self.heap)\n",
    "        if len(self.heap) < k: \n",
    "            heapq.heappush(self.heap, float('-inf')) #-> any next val can be pushed to heap\n",
    "            \n",
    "\n",
    "    def add(self, val: int) -> int:\n",
    "        #must be larger than the smallest in the upperlarge-heap to join heap\n",
    "        if val > self.heap[0]:\n",
    "            heapq.heappop(self.heap)\n",
    "            heapq.heappush(self.heap, val)\n",
    "        return self.heap[0]\n",
    "        \n",
    "            \n",
    "kthLargest = KthLargest(3, [4, 5, 8, 2])\n",
    "print(kthLargest.add(3))\n",
    "print(kthLargest.add(5))\n",
    "print(kthLargest.add(10))\n",
    "print(kthLargest.add(9))\n",
    "print(kthLargest.add(4))"
   ]
  },
  {
   "cell_type": "markdown",
   "metadata": {},
   "source": [
    "#### [1046. Last Stone Weight](https://leetcode.com/problems/last-stone-weight/)"
   ]
  },
  {
   "cell_type": "markdown",
   "metadata": {},
   "source": [
    "- Heapify -stones for maxheap\n",
    "- Keep heappop the largest two elements in heap -> compare -> decide to heappush different largest - second"
   ]
  },
  {
   "cell_type": "code",
   "execution_count": null,
   "metadata": {},
   "outputs": [
    {
     "data": {
      "text/plain": [
       "1"
      ]
     },
     "execution_count": 100,
     "metadata": {},
     "output_type": "execute_result"
    }
   ],
   "source": [
    "import heapq\n",
    "#work on negative sign heap -> change sign all operations\n",
    "def lastStoneWeight(stones: list[int]) -> int:\n",
    "    heap = [-x for x in stones]\n",
    "    \n",
    "    heapq.heapify(heap)\n",
    "    \n",
    "    while len(heap) >1:\n",
    "        largest = heapq.heappop(heap)\n",
    "        #largest and second large comparison\n",
    "        second = heapq.heappop(heap)\n",
    "        if largest != second:\n",
    "            heapq.heappush(heap, largest - second)\n",
    "    return 0 if not heap else -heap[0]\n",
    "    \n",
    "stones = [2,7,4,1,8,1]\n",
    "lastStoneWeight(stones)"
   ]
  },
  {
   "cell_type": "markdown",
   "metadata": {},
   "source": [
    "#### [973. K Closest Points to Origin](https://leetcode.com/problems/k-closest-points-to-origin/)\n",
    "- Create min heap size k, only contains k largest -distance (smallest real distance)\n",
    "- Heap form = [(val, [key])]"
   ]
  },
  {
   "cell_type": "code",
   "execution_count": 94,
   "metadata": {},
   "outputs": [
    {
     "data": {
      "text/plain": [
       "[[-2, 4], [3, 3]]"
      ]
     },
     "execution_count": 94,
     "metadata": {},
     "output_type": "execute_result"
    }
   ],
   "source": [
    "import heapq\n",
    "def kClosest( points: list[list[int]], k: int) -> list[list[int]]:\n",
    "    heap = [[float('-inf'), 0, 0]]*k\n",
    "    #maxheap to store min distance, root is max of minheap\n",
    "    for p in points:\n",
    "        dis = p[0]**2 + p[1]**2\n",
    "\n",
    "        if -dis > heap[0][0]:\n",
    "            heapq.heappush(heap, [-dis, p[0], p[1]])\n",
    "            heapq.heappop(heap)\n",
    "    \n",
    "    return [[x,y] for [z, x, y] in heap]\n",
    "\n",
    "points = [[3,3],[5,-1],[-2,4]]\n",
    "k = 2\n",
    "kClosest(points, k)"
   ]
  },
  {
   "cell_type": "markdown",
   "metadata": {},
   "source": [
    "#### 215. Kth Largest Element in an Array"
   ]
  },
  {
   "cell_type": "markdown",
   "metadata": {},
   "source": [
    "Heap aproach: Avg + Worst: Nlogn\n",
    "\n",
    "- Heapify nums -> pop k times"
   ]
  },
  {
   "cell_type": "code",
   "execution_count": null,
   "metadata": {},
   "outputs": [
    {
     "data": {
      "text/plain": [
       "5"
      ]
     },
     "execution_count": 151,
     "metadata": {},
     "output_type": "execute_result"
    }
   ],
   "source": [
    "def findKthLargest(nums: list[int], k: int) -> int:\n",
    "    nums = [-i for i in nums]\n",
    "    heapq.heapify(nums)\n",
    "    for i in range(k-1):\n",
    "        heapq.heappop(nums)\n",
    "    return -nums[0]\n",
    "nums = [3,2,1,5,6,4]\n",
    "k = 2\n",
    "findKthLargest(nums, k)"
   ]
  },
  {
   "cell_type": "markdown",
   "metadata": {},
   "source": [
    "Quicksort descending new: most efficient - \n",
    "- Random pivot\n",
    "- Create 3 arrays: left(all nums > pivot), mid(nums==pivot), right(nums< pivot)\n",
    "- if k <= len(left) => recursively go to left\n",
    "- if k > len(left)+len(mid) => recursively go to right\n",
    "- else return mid[0], k is the pivot(s)"
   ]
  },
  {
   "cell_type": "code",
   "execution_count": null,
   "metadata": {},
   "outputs": [],
   "source": [
    "import random\n",
    "def findKthLargest(nums: list[int], k: int) -> int:\n",
    "    pivot = random.choice(nums)\n",
    "    left = [num for num in nums if num > pivot]\n",
    "    right = [num for num in nums if num < pivot]\n",
    "    mid = [num for num in nums if num == pivot]\n",
    "    \n",
    "    if k <= len(left): return findKthLargest(left, k)\n",
    "    if k > len(left)+len(mid): return findKthLargest(right, k-len(left)-len(mid))\n",
    "    return mid[0]\n",
    "    \n",
    "    "
   ]
  },
  {
   "cell_type": "markdown",
   "metadata": {},
   "source": [
    "Approach: Old QuickSelect Pivot - RTL error\n",
    "- Avg: O(n), worst O(n^2)\n",
    "- Quick sort until kth pivot, quicksort is recursive\n",
    "- Quicksort(l,r) the range l,r, start with 0, len(nums)\n",
    "    - Init: pivotNumber = nums[r], l\n",
    "    - for i in range(l, r):\n",
    "        - If nums[i] >= nums[pivot], swap(num[i], num[p]); p+=1 (**Everytime a larger to pivot found, swap its place to p, p+=1 -> p reserve the next spot for the next larger**)\n",
    "        - i+=1\n",
    "    - swap nums[p], nums[pivot](**After the loop, p always reserve the spot to where pivot should be**)\n",
    "    \n",
    "    "
   ]
  },
  {
   "cell_type": "code",
   "execution_count": null,
   "metadata": {},
   "outputs": [],
   "source": [
    "def findKthLargest(nums: list[int], k: int) -> int:\n",
    "    def quickShort(l,r):\n",
    "        p, pivot = l, nums[r]\n",
    "        for i in range(l,r):\n",
    "            #even don't have to swap for \"=\" case, still use\n",
    "            #\"=\" to p++, reserve spot for next \">=\" nums[i]       \n",
    "            if nums[i] >= pivot:\n",
    "                nums[i], nums[p] = nums[p], nums[i]\n",
    "                p+=1\n",
    "        nums[p], nums[r] = pivot, nums[p]\n",
    "        #if p < k, go to larger partition: the right\n",
    "        if p < k: return quickShort(p+1, r)\n",
    "        if p > k: return quickShort(l, p-1)\n",
    "        return nums[p]\n",
    "    return quickShort(0, len(nums)-1)"
   ]
  },
  {
   "cell_type": "markdown",
   "metadata": {},
   "source": [
    "#### [621. Task Scheduler](https://leetcode.com/problems/task-scheduler/)\n",
    "Intuition: Most frequent task processed first to minimize idle time -> use **heap** to track most frequent task.  \n",
    "\n",
    "Think of tasks as their frequents: AAABBCC -> 3,2,2\n",
    "\n",
    "Approach: Implement maxheap (min neg heap) of counts of most frequent letters\n",
    "- Working with negative values -> Switch (-,+)\n",
    "    - Heap = [-3,-2,-2,...]\n",
    "    - Each time used a letter => Heap[i]+=1 => -3 -> -2 \n",
    "    (1 task of that letter done, waiting on Q to be added back to heap)\n",
    "- Have a queue saved counts of letters on IDLE. \n",
    "\n",
    "    - Form:[[count1:time1], [count2:time2],....]"
   ]
  },
  {
   "cell_type": "code",
   "execution_count": null,
   "metadata": {},
   "outputs": [
    {
     "data": {
      "text/plain": [
       "4256"
      ]
     },
     "execution_count": 250,
     "metadata": {},
     "output_type": "execute_result"
    }
   ],
   "source": [
    "import heapq\n",
    "from collections import Counter, deque\n",
    "def leastInterval(tasks: list[str], n: int) -> int:\n",
    "    c = Counter(tasks)\n",
    "    heap = [-x for x in c.values()]\n",
    "    heapq.heapify(heap)\n",
    "    que = deque()\n",
    "    time = 0\n",
    "    while heap or que: #Either letter on wait or on heap\n",
    "        time +=1\n",
    "\n",
    "        #if not heap -> all letters IDLE in que\n",
    "        #if heap, consume root(most freq letter)\n",
    "        if heap:\n",
    "            if heap[0]+1 != 0: #if there's still letters after consuming 1\n",
    "                que.append([heap[0]+1, time+n]) #add to que end\n",
    "            heapq.heappop(heap)\n",
    "        \n",
    "        #push back to heap the first letter ends to wait in IDLE\n",
    "        if que and que[0][1] == time:\n",
    "                heapq.heappush(heap, que.popleft()[0]) #pop IDLE, push count to heap    \n",
    "    return time\n",
    "    \n",
    "tasks = [\"B\",\"F\",\"J\",\"J\",\"H\",\"A\",\"D\",\"C\",\"C\",\"D\",\"J\",\"E\",\"B\",\"E\",\"C\",\"H\",\"E\",\"E\",\"G\",\"E\",\"H\",\"I\",\"I\",\"E\",\"H\",\"F\",\"C\",\"G\",\"H\",\"F\",\"E\",\"E\",\"I\",\"D\",\"D\",\"A\",\"E\",\"A\",\"C\",\"E\",\"F\",\"J\",\"E\",\"F\",\"G\",\"J\",\"A\",\"A\",\"A\",\"B\",\"E\",\"J\",\"H\",\"C\",\"A\",\"E\",\"D\",\"A\",\"E\",\"I\",\"H\",\"B\",\"A\",\"C\",\"E\",\"F\",\"J\",\"D\",\"F\",\"I\",\"I\",\"H\",\"J\",\"E\",\"B\",\"H\",\"H\",\"A\",\"J\",\"C\",\"C\",\"D\",\"C\",\"B\",\"C\",\"H\",\"H\",\"I\",\"H\",\"D\",\"C\",\"B\",\"D\",\"C\",\"H\",\"A\",\"F\",\"A\",\"J\",\"D\",\"F\",\"E\",\"H\",\"I\",\"D\",\"A\",\"E\",\"B\",\"H\",\"J\",\"F\",\"D\",\"C\",\"J\",\"J\",\"I\",\"A\",\"I\",\"J\",\"H\",\"A\",\"I\",\"I\",\"G\",\"C\",\"C\",\"H\",\"D\",\"B\",\"B\",\"B\",\"H\",\"I\",\"D\",\"B\",\"C\",\"H\",\"I\",\"I\",\"G\",\"E\",\"D\",\"D\",\"A\",\"E\",\"D\",\"H\",\"C\",\"J\",\"H\",\"C\",\"E\",\"I\",\"F\",\"A\",\"I\",\"E\",\"G\",\"A\",\"E\",\"F\",\"I\",\"B\",\"J\",\"B\",\"J\",\"B\",\"G\",\"A\",\"D\",\"C\",\"B\",\"I\",\"A\",\"C\",\"J\",\"J\",\"J\",\"B\",\"E\",\"E\",\"E\",\"B\",\"E\",\"B\",\"H\",\"B\",\"J\",\"H\",\"F\",\"G\",\"B\",\"B\",\"I\",\"C\",\"D\",\"I\",\"D\",\"D\",\"A\",\"I\",\"D\",\"H\",\"A\",\"J\",\"D\",\"J\",\"D\",\"I\",\"G\",\"F\",\"F\",\"B\",\"G\",\"A\",\"F\",\"I\",\"I\",\"H\",\"C\",\"B\",\"H\",\"H\",\"E\",\"F\",\"A\",\"H\",\"G\",\"F\",\"D\",\"G\",\"F\",\"A\",\"C\",\"F\",\"D\",\"F\",\"C\",\"J\",\"A\",\"D\",\"H\",\"G\",\"D\",\"D\",\"G\",\"C\",\"G\",\"C\",\"I\",\"B\",\"G\",\"E\",\"J\",\"C\",\"G\",\"J\",\"G\",\"E\",\"F\",\"F\",\"I\",\"D\",\"D\",\"E\",\"G\",\"F\",\"A\",\"F\",\"H\",\"D\",\"C\",\"B\",\"E\",\"H\",\"G\",\"H\",\"B\",\"A\",\"D\",\"A\",\"J\",\"A\",\"C\",\"B\",\"G\",\"C\",\"A\",\"J\",\"E\",\"I\",\"G\",\"H\",\"J\",\"A\",\"J\",\"I\",\"D\",\"I\",\"G\",\"B\",\"G\",\"I\",\"A\",\"B\",\"J\",\"B\",\"H\",\"E\",\"G\",\"G\",\"I\",\"G\",\"G\",\"C\",\"J\",\"J\",\"J\",\"H\",\"G\",\"A\",\"G\",\"B\",\"G\",\"I\",\"G\",\"A\",\"D\",\"B\",\"A\",\"E\",\"I\",\"H\",\"E\",\"G\",\"H\",\"J\",\"F\",\"H\",\"I\",\"A\",\"E\",\"A\",\"I\",\"A\",\"D\",\"D\",\"B\",\"D\",\"G\",\"E\",\"C\",\"J\",\"C\",\"C\",\"B\",\"F\",\"F\",\"B\",\"E\",\"A\",\"G\",\"D\",\"I\",\"G\",\"D\",\"J\",\"D\",\"G\",\"I\",\"B\",\"J\",\"J\",\"B\",\"F\",\"D\",\"I\",\"C\",\"I\",\"B\",\"J\",\"B\",\"D\",\"D\",\"A\",\"D\",\"C\",\"G\",\"A\",\"G\",\"C\",\"G\",\"C\",\"E\",\"C\",\"G\",\"A\",\"J\",\"C\",\"E\",\"F\",\"C\",\"C\",\"E\",\"J\",\"D\",\"H\",\"H\",\"F\",\"E\",\"D\",\"G\",\"E\",\"E\",\"I\",\"B\",\"G\",\"A\",\"C\",\"C\",\"E\",\"J\",\"F\",\"H\",\"C\",\"A\",\"G\",\"H\",\"G\",\"A\",\"G\",\"A\",\"D\",\"B\",\"E\",\"F\",\"H\",\"C\",\"C\",\"B\",\"I\",\"F\",\"H\",\"I\",\"C\",\"H\",\"G\",\"G\",\"C\",\"E\",\"A\",\"J\",\"F\",\"F\",\"F\",\"B\",\"D\",\"I\",\"E\",\"I\",\"F\",\"E\",\"F\",\"G\",\"G\",\"A\",\"D\",\"I\",\"A\",\"J\",\"A\",\"H\",\"J\",\"I\",\"H\",\"H\",\"A\",\"B\",\"B\",\"B\",\"I\",\"C\",\"J\",\"C\",\"G\",\"J\",\"G\",\"E\",\"I\",\"H\",\"D\",\"E\",\"H\",\"J\",\"A\",\"G\",\"A\",\"G\",\"A\",\"C\",\"F\",\"C\",\"G\",\"E\",\"G\",\"J\",\"D\",\"H\",\"H\",\"B\",\"J\",\"F\",\"J\",\"J\",\"B\",\"J\",\"D\",\"D\",\"G\",\"B\",\"I\",\"I\",\"H\",\"G\",\"B\",\"I\",\"E\",\"D\",\"H\",\"H\",\"I\",\"B\",\"A\",\"A\",\"A\",\"D\",\"H\",\"J\",\"H\",\"D\",\"J\",\"E\",\"D\",\"G\",\"J\",\"B\",\"B\",\"F\",\"G\",\"J\",\"G\",\"E\",\"G\",\"E\",\"E\",\"F\",\"H\",\"F\",\"J\",\"A\",\"G\",\"I\",\"D\",\"C\",\"H\",\"A\",\"C\",\"F\",\"B\",\"J\",\"E\",\"I\",\"A\",\"G\",\"J\",\"D\",\"I\",\"F\",\"I\",\"J\",\"H\",\"E\",\"D\",\"J\",\"A\",\"E\",\"G\",\"B\",\"B\",\"J\",\"I\",\"J\",\"H\",\"F\",\"D\",\"F\",\"F\",\"A\",\"G\",\"F\",\"F\",\"I\",\"C\",\"H\",\"E\",\"E\",\"G\",\"A\",\"D\",\"F\",\"I\",\"D\",\"D\",\"C\",\"B\",\"G\",\"C\",\"D\",\"G\",\"H\",\"F\",\"D\",\"J\",\"D\",\"B\",\"A\",\"J\",\"J\",\"I\",\"H\",\"F\",\"G\",\"D\",\"J\",\"H\",\"I\",\"H\",\"I\",\"A\",\"A\",\"I\",\"C\",\"B\",\"H\",\"G\",\"I\",\"C\",\"F\",\"E\",\"J\",\"J\",\"F\",\"F\",\"D\",\"F\",\"A\",\"J\",\"H\",\"B\",\"G\",\"A\",\"F\",\"D\",\"G\",\"D\",\"C\",\"F\",\"J\",\"F\",\"G\",\"D\",\"H\",\"J\",\"C\",\"A\",\"E\",\"C\",\"G\",\"J\",\"G\",\"I\",\"C\",\"G\",\"H\",\"G\",\"J\",\"D\",\"D\",\"G\",\"D\",\"F\",\"F\",\"J\",\"B\",\"D\",\"C\",\"E\",\"F\",\"G\",\"D\",\"A\",\"J\",\"H\",\"D\",\"F\",\"C\",\"B\",\"H\",\"C\",\"I\",\"D\",\"C\",\"F\",\"E\",\"C\",\"D\",\"J\",\"D\",\"E\",\"G\",\"C\",\"D\",\"H\",\"J\",\"E\",\"H\",\"I\",\"I\",\"A\",\"C\",\"E\",\"C\",\"I\",\"B\",\"A\",\"B\",\"E\",\"E\",\"H\",\"E\",\"B\",\"H\",\"C\",\"G\",\"B\",\"C\",\"C\",\"D\",\"G\",\"G\",\"A\",\"F\",\"A\",\"B\",\"D\",\"G\",\"F\",\"A\",\"H\",\"G\",\"C\",\"E\",\"D\",\"B\",\"H\",\"D\",\"F\",\"F\",\"G\",\"A\",\"J\",\"H\",\"E\",\"B\",\"C\",\"B\",\"B\",\"B\",\"H\",\"D\",\"F\",\"B\",\"B\",\"C\",\"G\",\"A\",\"C\",\"E\",\"J\",\"H\",\"F\",\"F\",\"D\",\"G\",\"J\",\"D\",\"F\",\"J\",\"G\",\"H\",\"B\",\"D\",\"B\",\"D\",\"D\",\"G\",\"J\",\"H\",\"B\",\"D\",\"F\",\"E\",\"E\",\"G\",\"D\",\"H\",\"B\",\"A\",\"I\",\"E\",\"B\",\"E\",\"B\",\"D\",\"I\",\"C\",\"A\",\"A\",\"E\",\"J\",\"A\",\"B\",\"A\",\"F\",\"C\",\"J\",\"F\",\"F\",\"F\",\"A\",\"I\",\"J\",\"F\",\"H\",\"G\",\"C\",\"F\",\"E\",\"D\",\"C\",\"B\",\"C\",\"G\",\"G\",\"G\",\"A\",\"B\",\"J\",\"J\",\"F\",\"J\",\"G\",\"C\",\"D\",\"B\",\"C\",\"F\",\"H\",\"I\",\"F\",\"D\",\"C\",\"I\",\"J\",\"D\",\"I\",\"G\",\"B\",\"G\",\"I\",\"J\",\"E\",\"H\",\"G\",\"G\",\"J\",\"J\",\"A\",\"E\",\"E\",\"I\",\"G\",\"E\",\"H\",\"F\",\"F\",\"C\",\"A\",\"J\",\"I\",\"I\",\"D\",\"C\",\"E\",\"G\",\"A\",\"A\",\"H\",\"F\",\"A\",\"I\",\"B\",\"H\",\"J\",\"H\",\"B\",\"H\",\"A\",\"A\",\"A\",\"G\",\"I\",\"I\",\"D\",\"F\",\"F\",\"C\",\"H\",\"D\",\"B\",\"J\",\"F\",\"G\",\"E\",\"F\",\"J\",\"A\",\"I\",\"G\",\"J\",\"J\",\"F\",\"F\",\"G\",\"B\",\"B\",\"D\",\"F\",\"E\",\"G\",\"D\",\"D\",\"A\",\"D\",\"D\",\"G\",\"C\",\"C\",\"I\",\"C\",\"H\",\"I\",\"C\",\"E\",\"G\",\"C\",\"E\",\"J\",\"F\",\"G\",\"J\",\"B\",\"I\",\"B\",\"B\",\"C\",\"B\",\"G\",\"A\",\"J\",\"H\",\"C\",\"G\",\"D\",\"E\",\"H\",\"E\",\"H\",\"A\",\"H\",\"I\",\"A\",\"J\",\"C\",\"G\",\"B\",\"G\",\"H\",\"G\",\"H\"]\n",
    "n = 36\n",
    "leastInterval(tasks, n)"
   ]
  },
  {
   "cell_type": "code",
   "execution_count": null,
   "metadata": {},
   "outputs": [
    {
     "data": {
      "text/plain": [
       "16"
      ]
     },
     "execution_count": 225,
     "metadata": {},
     "output_type": "execute_result"
    }
   ],
   "source": [
    "#OG approach, not optimal\n",
    "import heapq\n",
    "from collections import Counter\n",
    "def leastInterval(tasks: list[str], n: int) -> int:\n",
    "    c = Counter(tasks)\n",
    "    # count = len(tasks)\n",
    "    heap = [(-v, k) for (k,v) in c.items()]\n",
    "    heapq.heapify(heap)\n",
    "    ndict = ['']*n\n",
    "    copy = None\n",
    "    out = 0\n",
    "    while len(heap) >0:\n",
    "        copy = heap[:]\n",
    "        \n",
    "        out+=1\n",
    "\n",
    "        #Cur: the largest in heap and cannot be in n list\n",
    "        #-> Keep pop heap until cur not in n-list\n",
    "        cur = copy[0]\n",
    "\n",
    "        while cur[1] in ndict and copy:\n",
    "            heapq.heappop(copy)\n",
    "            if copy:\n",
    "                cur = copy[0]\n",
    "        \n",
    "        #If found a letter for work\n",
    "        if copy:\n",
    "            # cur[0] +=1 #Use 1 of the task \n",
    "            heap.remove(cur)\n",
    "            heapq.heapify(heap)\n",
    "\n",
    "            #if not use all, push back the remain\n",
    "            if cur[0]+1 != 0:\n",
    "                heapq.heappush(heap, (cur[0]+1, cur[1]))\n",
    "        #update queue\n",
    "        \n",
    "        ndict.pop(0)\n",
    "        if not copy:\n",
    "            ndict.append(\"ID\")\n",
    "        else:\n",
    "                ndict.append(cur[1])\n",
    "    return out\n",
    "tasks = [\"A\",\"A\",\"A\",\"A\",\"A\",\"A\",\"B\",\"C\",\"D\",\"E\",\"F\",\"G\"]\n",
    "n = 2\n",
    "leastInterval(tasks, n)"
   ]
  },
  {
   "cell_type": "markdown",
   "metadata": {},
   "source": [
    "#### [355. Design Twitter](https://leetcode.com/problems/design-twitter/)"
   ]
  },
  {
   "cell_type": "markdown",
   "metadata": {},
   "source": [
    "Notes:\n",
    "- getNewsFeed(userId): O(n log k) - Where 'n' is the total number of tweets from the user and their followees, and 'k' is the number of tweets to return (10 in this case). This is due to the heapq.nlargest operation.\n",
    "\n",
    "Attributes:  \n",
    "*   **`follower`:** defaultdict(set)  \n",
    "*   **`tweet`:** Dict map tweets for each user with timestamps, defaultdict(list)\n",
    "*   **`time`:** Global counter to order tweets.  \n",
    "\n",
    "Methods: \n",
    "*   **`postTweet`:** Adds a tweet with a timestamp.\n",
    "*   **`getNewsFeed`:**\n",
    "    *   Gathers tweets from the user and those they follow.\n",
    "    *   Uses `heapq.nlargest` to get the 10 most recent.\n",
    "*   **`follow` / `unfollow`:** Updates the follower relationships.\n",
    "\n",
    "This structure allows for efficient retrieval of recent tweets by combining followed users' tweets and using a heap for the top 10.\n"
   ]
  },
  {
   "cell_type": "code",
   "execution_count": 11,
   "metadata": {},
   "outputs": [
    {
     "name": "stdout",
     "output_type": "stream",
     "text": [
      "[[3, 2], [1, 2], [4, 5], [99]] [[3, 2], [1, 2], [4, 5]]\n"
     ]
    }
   ],
   "source": [
    "from collections import defaultdict\n",
    "tweets = defaultdict(list)\n",
    "tweets[\"a\"].extend([[3,2],[1,2],[4,5]])\n",
    "v=tweets[\"a\"][:]\n",
    "v.append([99])\n",
    "print(v, tweets[\"a\"])"
   ]
  },
  {
   "cell_type": "code",
   "execution_count": 45,
   "metadata": {},
   "outputs": [],
   "source": [
    "from collections import defaultdict\n",
    "import heapq\n",
    "class Twitter:\n",
    "\n",
    "    def __init__(self):\n",
    "        self.tweets = defaultdict(list)\n",
    "        self.followers = defaultdict(set)\n",
    "        self.time = 0\n",
    "\n",
    "    def postTweet(self, userId: int, tweetId: int) -> None:\n",
    "        self.time+=1\n",
    "        self.tweets[userId].append((self.time, tweetId)) #userID:[(tweetID, time)]\n",
    "    def getNewsFeed(self, userId: int) -> list[int]:\n",
    "        #Get all tweets from followers and user themselves\n",
    "        validTweets = self.tweets[userId][:] #copy list of tweets to validtweets\n",
    "        for followeeID in self.followers[userId]:\n",
    "            validTweets.extend(self.tweets[followeeID])\n",
    "            \n",
    "        return [tweetID for _, tweetID in heapq.nlargest(10, validTweets)]\n",
    "\n",
    "    def follow(self, followerId: int, followeeId: int) -> None:\n",
    "        self.followers[followerId].add(followeeId)\n",
    "\n",
    "    def unfollow(self, followerId: int, followeeId: int) -> None:\n",
    "        if followeeId in self.followers[followerId]:\n",
    "            self.followers[followerId].remove(followeeId)\n",
    "\n",
    "    def do(self, ops, params):\n",
    "        self.tw = Twitter()\n",
    "        res = []\n",
    "        for i in range(len(ops)):\n",
    "            if ops[i] == \"Twitter\":\n",
    "                res.append(None)  # Initialization returns None\n",
    "            elif ops[i] == \"postTweet\":\n",
    "                res.append(self.tw.postTweet(*params[i]))\n",
    "            elif ops[i] == \"getNewsFeed\":\n",
    "                res.append(self.tw.getNewsFeed(*params[i]))\n",
    "            elif ops[i] == \"follow\":\n",
    "                res.append(self.tw.follow(*params[i]))\n",
    "            elif ops[i] == \"unfollow\":\n",
    "                res.append(self.tw.unfollow(*params[i]))\n",
    "        return res"
   ]
  },
  {
   "cell_type": "code",
   "execution_count": null,
   "metadata": {},
   "outputs": [],
   "source": [
    "#Simple OG\n",
    "from collections import deque\n",
    "class Twitter:\n",
    "\n",
    "    def __init__(self):\n",
    "        self.tweets = deque()\n",
    "        self.users = {}\n",
    "\n",
    "    def postTweet(self, userId: int, tweetId: int) -> None:\n",
    "        if userId not in self.users:\n",
    "            self.users[userId] = set()\n",
    "        self.tweets.append((tweetId, userId))\n",
    "        \n",
    "    def getNewsFeed(self, userId: int) -> list[int]:\n",
    "        res = []\n",
    "        count = 0\n",
    "        t = len(self.tweets)-1\n",
    "        while t > -1 and count <10:\n",
    "            #If tweet's user is userID or in userID's following list\n",
    "            if self.tweets[t][1] == userId or self.tweets[t][1] in self.users[userId]:\n",
    "                count+=1\n",
    "                res.append(self.tweets[t][0])\n",
    "            t-=1\n",
    "        \n",
    "        return res\n",
    "\n",
    "    def follow(self, followerId: int, followeeId: int) -> None:\n",
    "        if followerId not in self.users:\n",
    "            self.users[followerId] = set()\n",
    "        self.users[followerId].add(followeeId)\n",
    "        \n",
    "    def unfollow(self, followerId: int, followeeId: int) -> None:\n",
    "        if followeeId in self.users[followerId]:\n",
    "            self.users[followerId].remove(followeeId)\n"
   ]
  },
  {
   "cell_type": "code",
   "execution_count": 46,
   "metadata": {},
   "outputs": [
    {
     "name": "stdout",
     "output_type": "stream",
     "text": [
      "[(1, 1)]\n",
      "[(1, 1)]\n",
      "[]\n"
     ]
    },
    {
     "data": {
      "text/plain": [
       "[None, None, [1], None, [1], None, []]"
      ]
     },
     "execution_count": 46,
     "metadata": {},
     "output_type": "execute_result"
    }
   ],
   "source": [
    "# TEST, put do inside twitter class\n",
    "def do(self,op, param):\n",
    "    res = []\n",
    "    for i in range(len(op)):\n",
    "        if op[i] == \"Twitter\":\n",
    "            continue\n",
    "        if op[i] == \"postTweet\":\n",
    "            res.append(self.postTweet(*param[i]))\n",
    "        elif op[i] == \"getNewsFeed\":\n",
    "            res.append(self.getNewsFeed(*param[i]))\n",
    "        elif op[i] == \"follow\":\n",
    "            res.append(self.follow(*param[i]))\n",
    "        elif op[i] == \"unfollow\":\n",
    "            res.append(self.unfollow(*param[i]))\n",
    "    return res            \n",
    "# op = [\"Twitter\", \"follow\",\"follow\",\"follow\",\"postTweet\",\"postTweet\",\"postTweet\",\"postTweet\",\"postTweet\",\"postTweet\",\"postTweet\",\"postTweet\",\"postTweet\",\"postTweet\",\"postTweet\",\"getNewsFeed\"]\n",
    "# pa = [[],[1,5],[1,6],[1,7],[7,77],[1,505],[1,111],[5,555],[6,66],[1,5],[2,3],[3,101],[4,13],[1,22],[1,11],[1]]\n",
    "\n",
    "op = [\"Twitter\",\"postTweet\",\"getNewsFeed\",\"follow\",\"getNewsFeed\",\"unfollow\",\"getNewsFeed\"]\n",
    "pa = [[],[1,1],[1],[2,1],[2],[2,1],[2]]\n",
    "\n",
    "t = Twitter()\n",
    "t.do(op,pa)\n",
    "#[None,None,None,None,None,None,None,None,None,None,None,None,None,None,None,None,None,None,None,None,None,None,None,[222,204,200,201,205,11,333,94,2,101],None,[211,222,233,208,204,202,200,213,201,203],None,[222,204,200,201,205,11,333,94,2,101]]"
   ]
  },
  {
   "cell_type": "markdown",
   "metadata": {},
   "source": [
    "## Graphs"
   ]
  },
  {
   "cell_type": "markdown",
   "metadata": {},
   "source": [
    "### Init Utilities"
   ]
  },
  {
   "cell_type": "code",
   "execution_count": 124,
   "metadata": {},
   "outputs": [],
   "source": [
    "from collections import deque\n",
    "class Node:\n",
    "    def __init__(self, val = 0, neighbors = None):\n",
    "        self.val = val\n",
    "        self.neighbors = neighbors if neighbors is not None else []\n",
    "    def __repr__(self) -> str:\n",
    "        s = \"{ \"+str(self.val)+\" } -> [\"\n",
    "        for i in self.neighbors:\n",
    "            s += str(i.val) + \", \"\n",
    "        s+= \" ]\"\n",
    "        return s\n",
    "def toAdjList(adjList: list) -> list:\n",
    "    nodes = {}\n",
    "    \n",
    "    for i, neighbors in enumerate(adjList, start=1):\n",
    "        nodes[i] = Node(i)\n",
    "\n",
    "    for i, neighbors in enumerate(adjList, start=1):\n",
    "        nodes[i].neighbors = [nodes[neighbor] for neighbor in neighbors]\n",
    "\n",
    "    return nodes\n",
    "\n",
    "            "
   ]
  },
  {
   "cell_type": "markdown",
   "metadata": {},
   "source": [
    "#### [200. Number of Islands](https://leetcode.com/problems/number-of-islands/)"
   ]
  },
  {
   "cell_type": "code",
   "execution_count": 123,
   "metadata": {},
   "outputs": [
    {
     "name": "stdout",
     "output_type": "stream",
     "text": [
      "3\n"
     ]
    }
   ],
   "source": [
    "from collections import deque\n",
    "class Solution:\n",
    "    def numIslands(self, grid: list[list[str]]) -> int:\n",
    "        if not grid:\n",
    "            return 0\n",
    "        \n",
    "        visit = set()\n",
    "        out = 0\n",
    "        \n",
    "        def bfs(r,c):\n",
    "            q = deque()\n",
    "            direction = [(0,1),(0,-1), (1,0), (-1,0)]\n",
    "            q.append((r,c))\n",
    "            while q:\n",
    "                \n",
    "                r,c = q.popleft() #Process a cell\n",
    "                #Add cell's children to\n",
    "                for dr, dc in direction:\n",
    "                    row, col = r + dr, c + dc\n",
    "                    if(row in range(len(grid))and \n",
    "                    col in range(len(grid[0]))and\n",
    "                    (row, col) not in visit and \n",
    "                    grid[row][col] == \"1\"):\n",
    "                        visit.add((row,col))\n",
    "                        q.append((row, col))\n",
    "            \n",
    "        for i in range(len(grid)):\n",
    "            for j in range(len(grid[0])):\n",
    "                if (i,j) not in visit and grid[i][j] == \"1\":\n",
    "                    bfs(i,j)\n",
    "                    out +=1\n",
    "        return out\n",
    "                \n",
    "grid = [\n",
    "  [\"1\",\"1\",\"0\",\"0\",\"0\"],\n",
    "  [\"1\",\"1\",\"0\",\"0\",\"0\"],\n",
    "  [\"0\",\"0\",\"1\",\"0\",\"0\"],\n",
    "  [\"0\",\"0\",\"0\",\"1\",\"1\"]]\n",
    "print(Solution.numIslands(Solution,grid))"
   ]
  },
  {
   "cell_type": "code",
   "execution_count": null,
   "metadata": {},
   "outputs": [
    {
     "name": "stdout",
     "output_type": "stream",
     "text": [
      "3\n"
     ]
    }
   ],
   "source": [
    "#DFS REC\n",
    "class Solution:\n",
    "    def numIslands(self, grid: list[list[str]]) -> int:\n",
    "        if not grid:\n",
    "            return 0\n",
    "        \n",
    "        visit = set()\n",
    "        out = 0\n",
    "        \n",
    "        def dfs(r,c):\n",
    "            \n",
    "            if ((r,c) in visit or \n",
    "            r not in range(len(grid)) or\n",
    "            c not in range(len(grid[0])) or \n",
    "            grid[r][c] != \"1\"):\n",
    "                return \n",
    "                        \n",
    "            visit.add((r,c))\n",
    "            dfs(r+1, c)\n",
    "            dfs(r, c+1) \n",
    "            dfs(r-1, c)\n",
    "            dfs(r, c-1)\n",
    "        \n",
    "        for i in range(len(grid)):\n",
    "            for j in range(len(grid[0])):\n",
    "                if (i,j) not in visit and grid[i][j] == \"1\":\n",
    "                    dfs(i,j)\n",
    "                    out +=1\n",
    "        return out\n",
    "                \n",
    "grid = [\n",
    "  [\"1\",\"1\",\"0\",\"0\",\"0\"],\n",
    "  [\"1\",\"1\",\"0\",\"0\",\"0\"],\n",
    "  [\"0\",\"0\",\"1\",\"0\",\"0\"],\n",
    "  [\"0\",\"0\",\"0\",\"1\",\"1\"]]\n",
    "print(Solution.numIslands(Solution,grid))"
   ]
  },
  {
   "cell_type": "markdown",
   "metadata": {},
   "source": [
    "#### [133. Clone Graph](https://leetcode.com/problems/clone-graph/)"
   ]
  },
  {
   "cell_type": "markdown",
   "metadata": {},
   "source": [
    "- A dictionary nodes = {oldNodes:newNode}\n",
    "- DFS recursive():\n",
    "    - nodes[oldNodes] = dfs(oldNodes)\n",
    "    - Base: Return nodes[oldNodes] if oldNodes in nodes?\n",
    "        - Return when see a node already created"
   ]
  },
  {
   "cell_type": "code",
   "execution_count": 129,
   "metadata": {},
   "outputs": [
    {
     "name": "stdout",
     "output_type": "stream",
     "text": [
      "{1: { 1 } -> [2, 4,  ], 2: { 2 } -> [1, 3,  ], 3: { 3 } -> [2, 4,  ], 4: { 4 } -> [1, 3,  ]}\n"
     ]
    },
    {
     "data": {
      "text/plain": [
       "{ 1 } -> [2, 4,  ]"
      ]
     },
     "execution_count": 129,
     "metadata": {},
     "output_type": "execute_result"
    }
   ],
   "source": [
    "\n",
    "from typing import Optional\n",
    "class Solution:\n",
    "    def cloneGraph(node: Optional['Node']) -> Optional['Node']:\n",
    "        cloneNodes = {}\n",
    "        def dfs(oldNode):\n",
    "            if oldNode in cloneNodes: #if this oldNode already cloned\n",
    "                return cloneNodes[oldNode]\n",
    "            \n",
    "            cloneNodes[oldNode] = Node(val=oldNode.val)\n",
    "            \n",
    "            for i in oldNode.neighbors:\n",
    "                cloneNodes[oldNode].neighbors.append(dfs(i))\n",
    "                \n",
    "            return cloneNodes[oldNode]\n",
    "            \n",
    "        return dfs(node)\n",
    "\n",
    "adjList = toAdjList([[2,4],[1,3],[2,4],[1,3]])\n",
    "print(adjList)\n",
    "Solution.cloneGraph(adjList[1])\n"
   ]
  },
  {
   "cell_type": "code",
   "execution_count": 134,
   "metadata": {},
   "outputs": [
    {
     "name": "stdout",
     "output_type": "stream",
     "text": [
      "{1: { 1 } -> [2, 4,  ], 2: { 2 } -> [1, 3,  ], 3: { 3 } -> [2, 4,  ], 4: { 4 } -> [1, 3,  ]}\n"
     ]
    },
    {
     "data": {
      "text/plain": [
       "{ 1 } -> [2, 4, 2, 4,  ]"
      ]
     },
     "execution_count": 134,
     "metadata": {},
     "output_type": "execute_result"
    }
   ],
   "source": [
    "#BFS\n",
    "from typing import Optional\n",
    "class Solution1:\n",
    "    def cloneGraph(node: Optional['Node']) -> Optional['Node']:\n",
    "        if not node: \n",
    "            return None\n",
    "        q = deque([node])\n",
    "        visit = set()\n",
    "        cloneNodes = {}\n",
    "\n",
    "        while q:\n",
    "            oldNode = q.popleft()\n",
    "            if oldNode not in cloneNodes:\n",
    "                cloneNodes[oldNode] = Node(val = oldNode.val)\n",
    "\n",
    "            for oldNeibor in oldNode.neighbors:\n",
    "                if oldNeibor not in cloneNodes:\n",
    "                    cloneNodes[oldNeibor] = Node(val = oldNeibor.val)\n",
    "                cloneNodes[oldNode].neighbors.append(cloneNodes[oldNeibor])\n",
    "                if oldNeibor not in visit:\n",
    "                    visit.add(oldNeibor)\n",
    "                    q.append(oldNeibor)\n",
    "            \n",
    "        return cloneNodes[node]\n",
    "adjList = toAdjList([[2,4],[1,3],[2,4],[1,3]])\n",
    "print(adjList)\n",
    "Solution1.cloneGraph(adjList[1])"
   ]
  },
  {
   "cell_type": "markdown",
   "metadata": {},
   "source": [
    "#### [695. Max Area of Island](https://leetcode.com/problems/max-area-of-island/description/)"
   ]
  },
  {
   "cell_type": "code",
   "execution_count": null,
   "metadata": {},
   "outputs": [
    {
     "data": {
      "text/plain": [
       "6"
      ]
     },
     "execution_count": 63,
     "metadata": {},
     "output_type": "execute_result"
    }
   ],
   "source": [
    "from collections import deque\n",
    "class Solution:\n",
    "    def maxAreaOfIsland(self, grid: list[list[int]]) -> int:\n",
    "        def bfs(r,c):\n",
    "            count = 0\n",
    "            q = deque()\n",
    "            q.append((r,c))\n",
    "            while q:\n",
    "                r,c = q.popleft() #turn q.popleft() -> q.pop(): DFS interative\n",
    "                dir = [(1,0),(0,1),(-1,0),(0,-1)]\n",
    "                for dr, dc in dir:\n",
    "                    if (r+dr not in range(len(grid)) \n",
    "                        or c+dc not in range(len(grid[0]))\n",
    "                        or (r+dr,c+dc) in visit\n",
    "                        or grid[r+dr][c+dc] != 1):\n",
    "                            continue\n",
    "\n",
    "                    count+=1\n",
    "                    visit.add((r+dr,c+dc))\n",
    "                    q.append((r+dr,c+dc))\n",
    "                \n",
    "            return count\n",
    "        visit,mx = set(), 0\n",
    "        for i in range(len(grid)):\n",
    "            for j in range(len(grid[0])):\n",
    "                if grid[i][j] == 1 and (i,j) not in visit:\n",
    "                    mx = max(mx, bfs(i,j))\n",
    "        return mx\n",
    "grid = [[0,0,1,0,0,0,0,1,0,0,0,0,0],[0,0,0,0,0,0,0,1,1,1,0,0,0],[0,1,1,0,1,0,0,0,0,0,0,0,0],[0,1,0,0,1,1,0,0,1,0,1,0,0],[0,1,0,0,1,1,0,0,1,1,1,0,0],[0,0,0,0,0,0,0,0,0,0,1,0,0],[0,0,0,0,0,0,0,1,1,1,0,0,0],[0,0,0,0,0,0,0,1,1,0,0,0,0]]\n",
    "Solution.maxAreaOfIsland(Solution, grid)"
   ]
  },
  {
   "cell_type": "code",
   "execution_count": null,
   "metadata": {},
   "outputs": [
    {
     "data": {
      "text/plain": [
       "6"
      ]
     },
     "execution_count": 65,
     "metadata": {},
     "output_type": "execute_result"
    }
   ],
   "source": [
    "#DFS RECURSIVE\n",
    "from collections import deque\n",
    "class Solution:\n",
    "    def maxAreaOfIsland(self, grid: list[list[int]]) -> int:\n",
    "        def dfs(r,c):\n",
    "            if (r not in range(len(grid)) \n",
    "                or c not in range(len(grid[0]))\n",
    "                or (r,c) in visit\n",
    "                or grid[r][c] != 1):\n",
    "                    return 0\n",
    "            visit.add((r,c))\n",
    "            return 1 + dfs(r+1, c) + dfs(r, c+1) + dfs(r-1, c) + dfs(r, c-1)\n",
    "            \n",
    "        visit,mx = set(), 0\n",
    "        for i in range(len(grid)):\n",
    "            for j in range(len(grid[0])):\n",
    "                if grid[i][j] == 1 and (i,j) not in visit:\n",
    "                    mx = max(mx, dfs(i,j))\n",
    "        return mx\n",
    "grid = [[0,0,1,0,0,0,0,1,0,0,0,0,0],[0,0,0,0,0,0,0,1,1,1,0,0,0],[0,1,1,0,1,0,0,0,0,0,0,0,0],[0,1,0,0,1,1,0,0,1,0,1,0,0],[0,1,0,0,1,1,0,0,1,1,1,0,0],[0,0,0,0,0,0,0,0,0,0,1,0,0],[0,0,0,0,0,0,0,1,1,1,0,0,0],[0,0,0,0,0,0,0,1,1,0,0,0,0]]\n",
    "Solution.maxAreaOfIsland(Solution, grid)"
   ]
  },
  {
   "cell_type": "markdown",
   "metadata": {},
   "source": [
    "#### [417. Pacific Atlantic Water Flow](https://leetcode.com/problems/pacific-atlantic-water-flow/)\n",
    "**Optimal Approach**: O(m.n)\n",
    "From borders, DFS inward to see what cells go to each ocean. For passing in DFS in the first loop:\n",
    "- From P up to down, P left to right\n",
    "- From A down to up, A right left\n",
    "\n",
    "Then go 4 directions from each cell.\n",
    "\n",
    "<img src=\"assets/417. Pacific Atlantic Water Flow.png\" height=200></img>\n",
    "\n",
    "For each cell, if cell is both in A,P, add to ouput\n",
    "\n",
    "**OG Approach**: O((m.n)^2)\n",
    "- DFS 4 directions from each cell"
   ]
  },
  {
   "cell_type": "code",
   "execution_count": null,
   "metadata": {},
   "outputs": [
    {
     "data": {
      "text/plain": [
       "[[0, 4], [1, 3], [1, 4], [2, 2], [3, 0], [3, 1], [4, 0]]"
      ]
     },
     "execution_count": 133,
     "metadata": {},
     "output_type": "execute_result"
    }
   ],
   "source": [
    "#Improvised than Neetcode: starts DFS 1 step inward from borders cuz borders -> auto PA/AT\n",
    "#Note: Have to add border cell before DFS in the loop in range(CO)/range(RO)\n",
    "class Solution:\n",
    "    def pacificAtlantic(self, heights: list[list[int]]) -> list[list[int]]:\n",
    "        al,pa,out = set(), set(),[]\n",
    "        RO, CO = len(heights), len(heights[0])\n",
    "        \n",
    "        def dfs(r,c, visit ,prevh):\n",
    "\n",
    "            if (r not in range(RO) or \n",
    "                c not in range(CO) or\n",
    "                (r,c) in visit or\n",
    "                heights[r][c] < prevh):\n",
    "                return\n",
    "            \n",
    "            visit.add((r,c))\n",
    "            dfs(r+1, c, visit, heights[r][c])\n",
    "            dfs(r, c+1, visit, heights[r][c])\n",
    "            dfs(r-1, c, visit, heights[r][c])\n",
    "            dfs(r, c-1, visit, heights[r][c])\n",
    "            return\n",
    "        \n",
    "        #All cells could go to Pacific/Atlantic will be added to pa, al sets\n",
    "        for i in range(CO):\n",
    "            #Add border to visit + pass border as prevheight (<=)\n",
    "            pa.add((0,i))\n",
    "            dfs(1, i, pa , heights[0][i])\n",
    "            al.add((RO-1,i))\n",
    "            dfs(RO-2, i, al , heights[RO-1][i])\n",
    "        for i in range(RO):\n",
    "            pa.add((i,0))\n",
    "            dfs(i, 1, pa ,heights[i][0])\n",
    "            al.add((i, CO-1))\n",
    "            dfs(i, CO-2, al , heights[i][CO-1])\n",
    "            \n",
    "        # print(pa,'\\n',al)\n",
    "        for i in range(RO):\n",
    "            for j in range(CO):\n",
    "                if (i,j) in al and (i,j) in pa:\n",
    "                    out.append([i,j])\n",
    "        return out    \n",
    "heights = [[1,2,2,3,5],[3,2,3,4,4],[2,4,5,3,1],[6,7,1,4,5],[5,1,1,2,4]]\n",
    "Solution.pacificAtlantic(Solution, heights)\n"
   ]
  },
  {
   "cell_type": "code",
   "execution_count": null,
   "metadata": {},
   "outputs": [
    {
     "data": {
      "text/plain": [
       "[[0, 4], [1, 3], [1, 4], [2, 2], [3, 0], [3, 1], [4, 0]]"
      ]
     },
     "execution_count": 132,
     "metadata": {},
     "output_type": "execute_result"
    }
   ],
   "source": [
    "#Original Neetcode (starts dfs from border)\n",
    "class Solution:\n",
    "    def pacificAtlantic(self, heights: list[list[int]]) -> list[list[int]]:\n",
    "        al,pa,out = set(), set(),[]\n",
    "        RO, CO = len(heights), len(heights[0])\n",
    "        \n",
    "        def dfs(r,c, visit ,prevh):\n",
    "\n",
    "            if (r not in range(RO) or \n",
    "                c not in range(CO) or\n",
    "                (r,c) in visit or\n",
    "                heights[r][c] < prevh):\n",
    "                return\n",
    "            \n",
    "            visit.add((r,c))\n",
    "            dfs(r+1, c, visit, heights[r][c])\n",
    "            dfs(r, c+1, visit, heights[r][c])\n",
    "            dfs(r-1, c, visit, heights[r][c])\n",
    "            dfs(r, c-1, visit, heights[r][c])\n",
    "            return\n",
    "        \n",
    "        #All cells could go to Pacific/Atlantic will be added to pa, al sets\n",
    "        for i in range(CO):\n",
    "            #pass 0 so any border cells work (<=)\n",
    "            dfs(0, i, pa , 0)\n",
    "            dfs(RO-1, i, al , 0)\n",
    "        for i in range(RO):\n",
    "            dfs(i, 0, pa ,0)\n",
    "            dfs(i, CO-1, al , 0)\n",
    "            \n",
    "        # print(pa,'\\n',al)\n",
    "        for i in range(RO):\n",
    "            for j in range(CO):\n",
    "\n",
    "                if (i,j) in al and (i,j) in pa:\n",
    "                    out.append([i,j])\n",
    "        return out    \n",
    "heights = [[1,2,2,3,5],[3,2,3,4,4],[2,4,5,3,1],[6,7,1,4,5],[5,1,1,2,4]]\n",
    "Solution.pacificAtlantic(Solution, heights)\n"
   ]
  },
  {
   "cell_type": "markdown",
   "metadata": {},
   "source": [
    "#### [130. Surrounded Regions](https://leetcode.com/problems/surrounded-regions/description/)"
   ]
  },
  {
   "cell_type": "markdown",
   "metadata": {},
   "source": [
    "Marked all the Os adjacent to Os in border."
   ]
  },
  {
   "cell_type": "code",
   "execution_count": null,
   "metadata": {},
   "outputs": [
    {
     "name": "stdout",
     "output_type": "stream",
     "text": [
      "CPU times: user 87 µs, sys: 0 ns, total: 87 µs\n",
      "Wall time: 88.9 µs\n"
     ]
    },
    {
     "data": {
      "text/plain": [
       "[['X', 'O', 'X', 'O', 'X', 'O'],\n",
       " ['O', 'X', 'X', 'X', 'X', 'X'],\n",
       " ['X', 'X', 'X', 'X', 'X', 'O'],\n",
       " ['O', 'X', 'O', 'X', 'O', 'X']]"
      ]
     },
     "execution_count": 192,
     "metadata": {},
     "output_type": "execute_result"
    }
   ],
   "source": [
    "%%time\n",
    "class Solution:\n",
    "    def solve(self, board: list[list[str]]) -> None:\n",
    "        \"\"\"\n",
    "        Do not return anything, modify board in-place instead.\n",
    "        \"\"\"\n",
    "        \n",
    "        CO, RO = len(board[0]), len(board)        \n",
    "        def dfs(r,c):\n",
    "            # print(r,c)\n",
    "            if (r not in range(RO) or\n",
    "                c not in range(CO) or \n",
    "                board[r][c] != \"O\"):\n",
    "                return\n",
    "        \n",
    "            board[r][c] = \"V\"\n",
    "            \n",
    "            dfs(r+1, c)\n",
    "            dfs(r, c+1)\n",
    "            dfs(r-1, c)\n",
    "            dfs(r, c-1)\n",
    "       \n",
    "        for i in range(RO):\n",
    "            for j in range(CO):\n",
    "                if board[i][j] == \"O\" and i in [0,RO-1] or j in [0, CO-1]:\n",
    "                    dfs(i,j)\n",
    "\n",
    "        for i in range(RO):\n",
    "            for j in range(CO):\n",
    "                if board[i][j] == \"O\":\n",
    "                    board[i][j] = \"X\" \n",
    "        \n",
    "        for i in range(RO):\n",
    "            for j in range(CO):\n",
    "                if board[i][j] == \"V\":\n",
    "                    board[i][j] = \"O\" \n",
    "        \n",
    "        return board\n",
    "board = [[\"X\",\"O\",\"X\",\"O\",\"X\",\"O\"],[\"O\",\"X\",\"O\",\"X\",\"O\",\"X\"],[\"X\",\"O\",\"X\",\"O\",\"X\",\"O\"],[\"O\",\"X\",\"O\",\"X\",\"O\",\"X\"]]\n",
    "Solution.solve(Solution,board)"
   ]
  },
  {
   "cell_type": "code",
   "execution_count": null,
   "metadata": {},
   "outputs": [
    {
     "name": "stdout",
     "output_type": "stream",
     "text": [
      "CPU times: user 52 µs, sys: 1 µs, total: 53 µs\n",
      "Wall time: 54.1 µs\n"
     ]
    },
    {
     "data": {
      "text/plain": [
       "[['X', 'O', 'X', 'O', 'X', 'O'],\n",
       " ['O', 'X', 'X', 'X', 'X', 'X'],\n",
       " ['X', 'X', 'X', 'X', 'X', 'O'],\n",
       " ['O', 'X', 'O', 'X', 'O', 'X']]"
      ]
     },
     "execution_count": 187,
     "metadata": {},
     "output_type": "execute_result"
    }
   ],
   "source": [
    "%%time\n",
    "class Solution:\n",
    "    def solve(self, board: list[list[str]]) -> None:\n",
    "        \"\"\"\n",
    "        Do not return anything, modify board in-place instead.\n",
    "        \"\"\"\n",
    "        \n",
    "        CO, RO = len(board[0]), len(board)\n",
    "        visit = set()\n",
    "        \n",
    "        def dfs(r,c, start):\n",
    "            # print(r,c)\n",
    "            if (r not in range(RO) or\n",
    "                c not in range(CO) or \n",
    "                (r,c) in visit and start == False or \n",
    "                board[r][c] != \"O\"):\n",
    "                return\n",
    "            # if start==True:\n",
    "                # print(\"First add\", r,c)\n",
    "            visit.add((r,c))\n",
    "            \n",
    "            dfs(r+1, c, False)\n",
    "            dfs(r, c+1, False)\n",
    "            dfs(r-1, c, False)\n",
    "            dfs(r, c-1, False)\n",
    "       \n",
    "        for i in range(CO):\n",
    "            if board[0][i] == \"O\":\n",
    "                dfs(0, i, True)\n",
    "            if board[RO-1][i] == \"O\":\n",
    "                dfs(RO-1, i, True)\n",
    "\n",
    "        for i in range(RO):\n",
    "            if board[i][0] == \"O\":\n",
    "                dfs(i, 0, True)\n",
    "            if board[i][CO-1] == \"O\":\n",
    "                dfs(i, CO-1, True)\n",
    "\n",
    "        for i in range(RO):\n",
    "            for j in range(CO):\n",
    "                if board[i][j] == \"O\" and (i,j) not in visit:\n",
    "                    board[i][j] = \"X\" \n",
    "        \n",
    "        return board\n",
    "board = [[\"X\",\"O\",\"X\",\"O\",\"X\",\"O\"],[\"O\",\"X\",\"O\",\"X\",\"O\",\"X\"],[\"X\",\"O\",\"X\",\"O\",\"X\",\"O\"],[\"O\",\"X\",\"O\",\"X\",\"O\",\"X\"]]\n",
    "Solution.solve(Solution,board)"
   ]
  },
  {
   "cell_type": "markdown",
   "metadata": {},
   "source": [
    "#### [994. Rotting Oranges](https://leetcode.com/problems/rotting-oranges/description/)\n",
    "**Approach**: Traverse all neighbors of certain nodes at a time -> BFS\n",
    "\n",
    "- Go through board to init the BFS queue with all rottens + count freshes\n",
    "- Start BFS to count minutes and decre freshes."
   ]
  },
  {
   "cell_type": "code",
   "execution_count": null,
   "metadata": {},
   "outputs": [
    {
     "data": {
      "text/plain": [
       "4"
      ]
     },
     "execution_count": 13,
     "metadata": {},
     "output_type": "execute_result"
    }
   ],
   "source": [
    "from collections import deque\n",
    "class Solution:\n",
    "    def orangesRotting(self, grid: list[list[int]]) -> int:\n",
    "        minTime = 0\n",
    "        q = deque()\n",
    "        fresh = 0 # need to know #fresh to stop early\n",
    "        dir = [(0,1),(1,0), (-1,0), (0,-1)]\n",
    "        #Count fresh and init rotten in q\n",
    "        for i in range(len(grid)):\n",
    "            for j in range(len(grid[0])):\n",
    "                if grid[i][j] == 2:\n",
    "                    q.append((i,j))\n",
    "                elif grid[i][j] == 1:\n",
    "                    fresh += 1\n",
    "        #question: is visited == turning val 1->2 \n",
    "        #BFS\n",
    "        #while q: there's still unprocessed rottens;\n",
    "        #-> no unprocessed rottens left OR no fresh left(mission done) ->terminate loop\n",
    "        while q and fresh > 0:\n",
    "            l = len(q)\n",
    "            for _ in range(l):\n",
    "                r,c = q.popleft()\n",
    "                \n",
    "                for dr,dc in dir:\n",
    "                    if (r+dr in range(len(grid)) \n",
    "                        and c+dc in range(len(grid[0])) \n",
    "                        and grid[r+dr][c+dc] == 1) :\n",
    "                        \n",
    "                        grid[r+dr][c+dc] = 2 #same as add to visit\n",
    "                        q.append((r+dr,c+dc))\n",
    "                        fresh-=1\n",
    "            minTime+=1\n",
    "        return minTime if fresh <=0 else -1\n",
    "grid = [[2,1,1],[1,1,0],[0,1,1]]           \n",
    "Solution.orangesRotting(Solution,grid)\n"
   ]
  },
  {
   "cell_type": "markdown",
   "metadata": {},
   "source": [
    "#### [207. Course Schedule](https://leetcode.com/problems/course-schedule/description/)\n",
    "\n",
    "Thought process to detect cycle using DFS:\n",
    "- **Traverse EACH DFS path independently to see anypath is cycle, recorded nodes in the path by visitSet, return F if a node in visitSet**\n",
    "    - Note that, at one time, the visitSet contains all nodes in ONE DFS path, not the whole graph.\n",
    "        - Therefore, if we see **one node on a DFS path twice**, cycle happened\n",
    "    - To obtain visitSet containing only ONE DFS PATH at a time *(instead of DFS WHOLE GRAPH like previous simple graph traversal problems)*,  add node to visitSet, then DFS all its child nodes, THEN SET its CHILD SET to EMPTY, THEN immediately REMOVE NODE. \n",
    "    - REMOVE NODE helps visit only records one path at a time, in case visit see the NODE traverse other path but it's not a a cycle\n",
    "\n",
    "Approach: prerequisites = lists of adjacent nodes\n",
    "- **HashMap (dict) to store adjacent of each node.**\n",
    "- Cycle detected -> Infinite loop to finish courses.\n",
    "    - Regular DFS with one note: After add node to visit, remove it after the path to its leaf.  \n",
    "\n",
    "Init Graph:\n",
    "- numCourses = #vertices. Vertices values: 0 -> #verticies\n",
    "- prerequisites = edges\n",
    "\n",
    "<img src=\"assets/207. Course Schedule.png\" width=400></img>"
   ]
  },
  {
   "cell_type": "code",
   "execution_count": 9,
   "metadata": {},
   "outputs": [
    {
     "data": {
      "text/plain": [
       "True"
      ]
     },
     "execution_count": 9,
     "metadata": {},
     "output_type": "execute_result"
    }
   ],
   "source": [
    "from collections import defaultdict\n",
    "class Solution:\n",
    "    def canFinish(self, numCourses: int, prerequisites: list[list[int]]) -> bool:\n",
    "        graph = defaultdict(list)\n",
    "        visit = set()\n",
    "        #Init graph\n",
    "        for des, src in prerequisites:\n",
    "            # if src not in graph:\n",
    "            #     graph[src] = set()\n",
    "            graph[src].append(des)\n",
    "        \n",
    "        def dfs(node):\n",
    "            if node in visit:\n",
    "                return False\n",
    "            if [] == graph[node]:\n",
    "                return True\n",
    "            \n",
    "            visit.add(node)\n",
    "            for child in graph[node]:\n",
    "                if not dfs(child):\n",
    "                    return False\n",
    "            graph[node] = []\n",
    "            visit.remove(node)\n",
    "            \n",
    "            return True\n",
    "        \n",
    "        for src in list(graph):\n",
    "            if not dfs(src):\n",
    "                return False\n",
    "        return True\n",
    "    \n",
    "    \n",
    "numCourses = 2\n",
    "prerequisites = [[1,0]]\n",
    "# prerequisites = [[1,0],[0,1]]\n",
    "Solution.canFinish(Solution, numCourses, prerequisites)"
   ]
  },
  {
   "cell_type": "markdown",
   "metadata": {},
   "source": [
    "Alternative Approach: Topological Sort \n",
    "Read more at [Topo Sort](#topological-sort-for-directed-graph)"
   ]
  },
  {
   "cell_type": "code",
   "execution_count": 10,
   "metadata": {},
   "outputs": [],
   "source": [
    "from collections import defaultdict, deque\n",
    "\n",
    "def canFinish(numCourses, prerequisites):\n",
    "\n",
    "    graph = defaultdict(list)\n",
    "    in_degree = [0] * numCourses\n",
    "    for dest, src in prerequisites:\n",
    "        graph[src].append(dest)\n",
    "        in_degree[dest] += 1\n",
    "\n",
    "    queue = deque([i for i in range(numCourses) if in_degree[i] == 0])\n",
    "    count = 0\n",
    "\n",
    "    while queue:\n",
    "        popnode = queue.popleft()\n",
    "        count += 1 #Finishing processing popnode, add to final topo count\n",
    "        for neighbor in graph[popnode]:\n",
    "            in_degree[neighbor] -= 1\n",
    "            if in_degree[neighbor] == 0:\n",
    "                queue.append(neighbor)\n",
    "\n",
    "    return count == numCourses  # If all courses can be taken, count will equal numCourses"
   ]
  },
  {
   "cell_type": "markdown",
   "metadata": {},
   "source": [
    "#### [Islands and Treasure](https://neetcode.io/problems/islands-and-treasure)"
   ]
  },
  {
   "cell_type": "markdown",
   "metadata": {},
   "source": [
    "Find min distance from each land node to treasure node. => Use BFS for min distance on a whole because BFS exlore all neighbor nodes per level from treasure node.  \n",
    "<img src=\"assets/islandtreas.jpg\" width=200/> "
   ]
  },
  {
   "cell_type": "code",
   "execution_count": 48,
   "metadata": {},
   "outputs": [
    {
     "data": {
      "text/plain": [
       "[[3, -1, 0, 1], [2, 2, 1, -1], [1, -1, 2, -1], [0, -1, 3, 4]]"
      ]
     },
     "execution_count": 48,
     "metadata": {},
     "output_type": "execute_result"
    }
   ],
   "source": [
    "class Solution:\n",
    "    def islandsAndTreasure(self, grid: list[list[int]]) -> None:\n",
    "        m,n = len(grid), len(grid[0])\n",
    "        #Determine what this q contains: 0 and mindist\n",
    "        q = deque()\n",
    "        #init q with treasures 0 \n",
    "        for i in range(m):\n",
    "            for j in range(n):\n",
    "                if grid[i][j] == 0:\n",
    "                    q.append((i,j))\n",
    "        \n",
    "        dir = [(0,1), (1,0), (-1,0),(0,-1)]\n",
    "        while q:\n",
    "            r,c = q.popleft()\n",
    "            for dr, dc in dir:\n",
    "                if ((r+dr) in range(m) and (c+dc) in range(n) \n",
    "                    and grid[r+dr][c+dc] == 2147483647): #cell is neither filled/-1\n",
    "                    q.append((r+dr, c+dc))\n",
    "                    grid[r+dr][c+dc] = grid[r][c]+1 #minDist = parent+1\n",
    "grid= [\n",
    "  [2147483647,-1,0,2147483647],\n",
    "  [2147483647,2147483647,2147483647,-1],\n",
    "  [2147483647,-1,2147483647,-1],\n",
    "  [0,-1,2147483647,2147483647]\n",
    "]\n",
    "Solution.islandsAndTreasure(Solution, grid)\n",
    "grid\n",
    "            "
   ]
  },
  {
   "cell_type": "markdown",
   "metadata": {},
   "source": [
    "#### [210. Course Schedule II](https://leetcode.com/problems/course-schedule-ii/description/)"
   ]
  },
  {
   "cell_type": "code",
   "execution_count": 57,
   "metadata": {},
   "outputs": [],
   "source": [
    "class Solution:\n",
    "    def findOrder(self, numCourses: int, prerequisites: list[list[int]]) -> list[int]:\n",
    "        topo = []\n",
    "        degree = [0]*numCourses\n",
    "        graph = defaultdict(list)\n",
    "        q = deque()\n",
    "        #1. Get indegrees and init graph\n",
    "        for des, src in prerequisites:\n",
    "            degree[des] +=1\n",
    "            graph[src].append(des)\n",
    "            \n",
    "        #2. Init Q with 0-degree, Q only has 0 degree nodes\n",
    "        # (node's parent processed in topo)\n",
    "        for node in range(numCourses):\n",
    "            if degree[node] == 0:\n",
    "                q.append(node)\n",
    "        #3. Go through Q, -1 each visit of non-0 degree child, add to res and Q if child.degree = 0\n",
    "        while q:\n",
    "            popNode = q.popleft()\n",
    "            topo.append(popNode) #Add TOPO, degree always == 0\n",
    "            for child in graph[popNode]:\n",
    "                if degree[child] > 0: degree[child] -=1\n",
    "                if degree[child] == 0: q.append(child)\n",
    "        if len(topo) == numCourses: return topo\n",
    "        return []"
   ]
  },
  {
   "cell_type": "markdown",
   "metadata": {},
   "source": [
    "#### [Valid Tree](https://neetcode.io/problems/valid-tree)\n",
    "For a undirected TREE cycle detection: \n",
    "- All nodes connected + no loop.\n",
    "- We can traverse a whole undirected tree at ANY NODE, and we CAN visit each node ONLY ONCE (by keeping a prev variable prevent one node to go back)\n",
    "- Add all nodes to visitSet throughout tree\n",
    "    - DONT REMOVE visit node after process children like [DIRECTED GRAPH cycle detect](#207-course-schedule)\n",
    "    - in directed graph, there's case where 2 nodes point to 1 nodeX create 2 dfs path, nodeX must be removed to be revisted in another DFS path\n",
    "    - in undirected, 3 nodes point to each other, don't have to revisit any node.\n"
   ]
  },
  {
   "cell_type": "code",
   "execution_count": 63,
   "metadata": {},
   "outputs": [
    {
     "data": {
      "text/plain": [
       "True"
      ]
     },
     "execution_count": 63,
     "metadata": {},
     "output_type": "execute_result"
    }
   ],
   "source": [
    "class Solution:\n",
    "    # Use visitSet to detect revisited node (loop)\n",
    "    # Memorize prevNode when DFS each Node to prevent Node go back, only go forward\n",
    "    def validTree(self, n: int, edges: list[list[int]]) -> bool:\n",
    "        graph = defaultdict(list)\n",
    "        visit = set()\n",
    "        for n1, n2 in edges:\n",
    "            graph[n1].append(n2)\n",
    "            graph[n2].append(n1)\n",
    "        \n",
    "        def dfs(node, prev):\n",
    "            if node in visit:\n",
    "                return False\n",
    "            visit.add(node)\n",
    "            for child in graph[node]:\n",
    "                if child != prev: #dfs all children except prev (parent)\n",
    "                    if not dfs(child, node):\n",
    "                        return False\n",
    "            return True\n",
    "        return dfs(0, -1) and len(visit) == n\n",
    "edges = [[0,1],[0,2],[0,3],[1,4]]\n",
    "n =5\n",
    "Solution.validTree(Solution, n, edges)"
   ]
  },
  {
   "cell_type": "markdown",
   "metadata": {},
   "source": [
    "#### [323. Number of Connected Components in an Undirected Graph](https://leetcode.com/problems/number-of-connected-components-in-an-undirected-graph/description/)\n",
    "\n",
    "##### DFS approach\n",
    "- Only use visit to track all nodes, no need prev because prev already in visit which we won't visit again \n",
    "    - and Don't care about if cycle exist, so don't separate about prev and other VISITED CHILD like [Valid tree](#valid-tree)\n",
    "- Overall count++ whenever dfs node not in visit\n",
    "    DFS node will get node's component."
   ]
  },
  {
   "cell_type": "code",
   "execution_count": 64,
   "metadata": {},
   "outputs": [
    {
     "data": {
      "text/plain": [
       "0"
      ]
     },
     "execution_count": 64,
     "metadata": {},
     "output_type": "execute_result"
    }
   ],
   "source": [
    "class Solution:\n",
    "    \n",
    "    def countComponents(self, n: int, edges: list[list[int]]) -> int: \n",
    "        graph= defaultdict(list)\n",
    "        for n1, n2 in edges:\n",
    "            graph[n1].append(n2)\n",
    "            graph[n2].append(n1)\n",
    "        count = 0\n",
    "        visit = set()\n",
    "\n",
    "        def dfs(node):\n",
    "            visit.add(node)\n",
    "            for child in graph[node]:\n",
    "                if \n",
    "                    dfs(child, node)\n",
    "            \n",
    "            \n",
    "        for i in range(n):\n",
    "            if i not in visit:\n",
    "                dfs(i, -1) #pass dfs of a new component\n",
    "                count+=1\n",
    "        return count\n",
    "        \n",
    "n=6\n",
    "edges=[[0,1], [1,2], [2,3], [4,5]]\n",
    "\n",
    "Solution.countComponents(Solution, n, edges)"
   ]
  },
  {
   "cell_type": "markdown",
   "metadata": {},
   "source": [
    "#### [851. Loud and Rich](https://leetcode.com/problems/loud-and-rich/description/)\n",
    "Graph:\n",
    "Richer: directed edges with no cycle (richer topologically)  \n",
    "Quiet: Value of vertices (different from index of vertices)  \n",
    "<img src=\"assets/851. Loud and Rich.jpeg\" width=400></img>  \n",
    "dfs(nodeX) return LeastQNode at nodeX  \n",
    "\n",
    "        LeastQNode at dfs(nodeX): init as nodeX  \n",
    "        for dfs each child: get childLeastQNode, compare to LeastQNode\n",
    "        ans[node] = LeastQNode found, return LeastQNode\n",
    "\n",
    "Lesson learn: find a temporary min value of each node to their children for every node"
   ]
  },
  {
   "cell_type": "code",
   "execution_count": 42,
   "metadata": {},
   "outputs": [
    {
     "data": {
      "text/plain": [
       "[5, 5, 2, 5, 4, 5, 6, 7]"
      ]
     },
     "execution_count": 42,
     "metadata": {},
     "output_type": "execute_result"
    }
   ],
   "source": [
    "class Solution:\n",
    "    def loudAndRich(self, richer: list[list[int]], quiet: list[int]) -> list[int]:\n",
    "        graph = defaultdict(list)\n",
    "        ans = [-1]*len(quiet)\n",
    "        for des, src in richer:\n",
    "            graph[src].append(des)\n",
    "        def dfs(node):\n",
    "            # if node's child list empty or ans[node] filled\n",
    "            if graph[node] == [] or ans[node] != -1:\n",
    "                if ans[node] == -1:\n",
    "                    ans[node] = node \n",
    "                return ans[node]\n",
    "            leastQNode = node\n",
    "            #find leastQNode for node among children\n",
    "            for child in graph[node]:\n",
    "                childLeastQNode = dfs(child)\n",
    "                if quiet[childLeastQNode] < quiet[leastQNode]:\n",
    "                    leastQNode = childLeastQNode\n",
    "            #after dfs all node's childs\n",
    "            ans[node] = leastQNode\n",
    "            return leastQNode\n",
    "        for node in range(len(quiet)):\n",
    "            if ans[node] == -1:\n",
    "                dfs(node)\n",
    "        return ans\n",
    "                \n",
    "richer = [[1,0],[2,1],[3,1],[3,7],[4,3],[5,3],[6,3]]\n",
    "quiet = [3,2,5,4,6,1,7,0]\n",
    "Solution.loudAndRich(Solution, richer , quiet)"
   ]
  },
  {
   "cell_type": "markdown",
   "metadata": {},
   "source": [
    "### Graph Theory:\n",
    "#### Topological sort for Directed Graph\n",
    "- Topological ordering: When orders of nodes matters/got directed (schedule, prerequisites, dependency....). One graph may have many orders.\n",
    "- A Directed Acyclic Graph (DAG) has a cycle + have NO VALID topo order.\n",
    "- Uses:\n",
    "    - Find topological ordering in O(V+E).\n",
    "\n",
    "<font color='yellow'>DFS</font> \n",
    "- For each node in the graph:\n",
    "    - DFS node that not in visit:\n",
    "    - After DFS to the end, write on topo order and return back\n",
    "- Note: Topo order is from **start node-> directed end**, but dfs add **directed end-> start node**:\n",
    "    - Ways to get right order:\n",
    "    1. Return Reverse topo: topo[::-1]\n",
    "    2. In DFS: Use param i where i from n-1 -> 0. Assign order[i]=visiting each dfs; i-=1"
   ]
  },
  {
   "cell_type": "code",
   "execution_count": 4,
   "metadata": {},
   "outputs": [],
   "source": [
    "#Util funcion turns adj to graph\n",
    "from collections import defaultdict\n",
    "def toGraph(n:int, adj:list, start:int)->dict:\n",
    "    graph = defaultdict(list)\n",
    "    #Create vertices\n",
    "    for i in range(start,n+start):\n",
    "        graph[i] = []\n",
    "    #Adj\n",
    "    for u,v in adj:\n",
    "        graph[u].append(v)\n",
    "      \n",
    "    return graph"
   ]
  },
  {
   "cell_type": "code",
   "execution_count": 5,
   "metadata": {},
   "outputs": [
    {
     "data": {
      "text/plain": [
       "[4, 1, 0, 2, 3, 5]"
      ]
     },
     "execution_count": 5,
     "metadata": {},
     "output_type": "execute_result"
    }
   ],
   "source": [
    "def topsort(graph: dict) -> list:\n",
    "    n = len(graph)\n",
    "    visit = set()\n",
    "    order = [-1]*n\n",
    "    index = n-1\n",
    "    \n",
    "    #In each dfs, go to neighbors -> assign to ordering\n",
    "    def dfs(index, node):\n",
    "        nonlocal graph, visit, order\n",
    "        #Mark as visit\n",
    "        visit.add(node)\n",
    "        #Go to neighbors\n",
    "        for adj in graph[node]:\n",
    "            if adj not in visit:\n",
    "                #Index is decre \n",
    "                index = dfs(index, adj) \n",
    "        order[index] = node \n",
    "        return index - 1\n",
    "    \n",
    "    for node in graph:\n",
    "        if node not in visit:\n",
    "            #DFS -> assign to ordering -> decre index\n",
    "            index = dfs(index, node) \n",
    "    return order\n",
    "\n",
    "adj = toGraph(5,[[1, 2],[1, 3],[2, 3],[2, 4],[3, 4],[3,5]],start=1)\n",
    "topsort(adj)\n",
    "graph = toGraph(6, [[1,0],[4,1],[4,5],[4,2],[0,2],[0,3],[2,3],[3,5],[5,2]], start=0)\n",
    "topsort(graph)\n"
   ]
  },
  {
   "cell_type": "markdown",
   "metadata": {},
   "source": [
    "<font color='yellow'>Kahn's: BFS - in degree - Detect cycle</font> "
   ]
  },
  {
   "cell_type": "markdown",
   "metadata": {},
   "source": [
    "<img src=\"assets/kahn topo.png\" width=300></img>\n",
    "1. Init the queue with all nodes with degree = 0\n",
    "2. BFS via the queue (which only contains 0-degree nodes)\n",
    "- While q:\n",
    "    - Decre indegree of all popnode.neighbors\n",
    "    - If a neighbor's indegree == 0 => add to q\n",
    "- If len(topo) != len(graph):\n",
    "    - print(\"Detect cycle\")"
   ]
  },
  {
   "cell_type": "code",
   "execution_count": 8,
   "metadata": {},
   "outputs": [
    {
     "name": "stdout",
     "output_type": "stream",
     "text": [
      "Detect cycle\n"
     ]
    },
    {
     "data": {
      "text/plain": [
       "[4, 1, 0]"
      ]
     },
     "execution_count": 8,
     "metadata": {},
     "output_type": "execute_result"
    }
   ],
   "source": [
    "from collections import deque\n",
    "def topsortKahn(graph: dict) -> list:\n",
    "    q = deque()\n",
    "    topo = []\n",
    "    indegree = [0]*(len(graph))\n",
    "    \n",
    "    #Get indegree of each vertex:\n",
    "    for node in graph:\n",
    "        for v in graph[node]:\n",
    "            indegree[v] += 1\n",
    "    \n",
    "    #Add 0-indegree vertices to q:\n",
    "    for i in range(0, len(indegree)):\n",
    "        if indegree[i] == 0:\n",
    "            q.append(i)\n",
    "            \n",
    "    #BFS\n",
    "    while q:\n",
    "        popn = q.popleft()\n",
    "        topo.append(popn) #To-be-finish processing popNode, add to topo sort\n",
    "        #Visit adj\n",
    "        for adj in graph[popn]:\n",
    "            indegree[adj] -= 1\n",
    "            if indegree[adj] == 0:\n",
    "                q.append(adj)\n",
    "    if len(topo) != len(graph):\n",
    "        print(\"Detect cycle\")\n",
    "    return topo\n",
    "\n",
    "#Test detect cycle\n",
    "graph = toGraph(6, [[1,0],[4,1],[4,5],[4,2],[0,2],[0,3],[2,3],[3,5],[5,2]], start=0)\n",
    "graph1 = toGraph(5,[[0, 1],[0, 2],[1, 2],[1, 3],[2, 3],[2,4]],start=0)\n",
    "\n",
    "topsortKahn(graph)\n",
    "\n",
    "# topsortKahn(graph1, start=1)\n"
   ]
  },
  {
   "cell_type": "code",
   "execution_count": null,
   "metadata": {},
   "outputs": [],
   "source": []
  },
  {
   "cell_type": "code",
   "execution_count": null,
   "metadata": {},
   "outputs": [],
   "source": []
  },
  {
   "cell_type": "markdown",
   "metadata": {},
   "source": [
    "### Advance Graphs\n"
   ]
  },
  {
   "cell_type": "markdown",
   "metadata": {},
   "source": []
  },
  {
   "cell_type": "markdown",
   "metadata": {},
   "source": [
    "#### [787. Cheapest Flights Within K Stops](https://leetcode.com/problems/cheapest-flights-within-k-stops/description/) Bellman Ford"
   ]
  },
  {
   "cell_type": "code",
   "execution_count": null,
   "metadata": {},
   "outputs": [],
   "source": []
  },
  {
   "cell_type": "code",
   "execution_count": null,
   "metadata": {},
   "outputs": [],
   "source": []
  },
  {
   "cell_type": "markdown",
   "metadata": {},
   "source": [
    "## 1-D Dynamic Programming"
   ]
  },
  {
   "cell_type": "markdown",
   "metadata": {},
   "source": [
    "#### [70. Climbing Stairs](https://leetcode.com/problems/climbing-stairs/)\n",
    "- Value of DP[i] = dp[i-1]+dp[i-2] (similar to Fibonacci) because at Stair[]\n",
    "- Instead of use dp[i] cost O(n) space complexity -> Use 2 vars \"one\", \"two\" to store dp[i-1], dp[i-2]\n",
    "\n",
    "<img src=\"assets/70. Climbing Stairs.png\" width=400></img>\n",
    "\n",
    "dp shows number of ways to reach the top from 3 to 0 (4,5 is init as 1)"
   ]
  },
  {
   "cell_type": "code",
   "execution_count": null,
   "metadata": {},
   "outputs": [],
   "source": [
    "#As from 3, it takes 1 way to reach 5, 1 way to reach 4 \n",
    "#-> Two init as 1 because dp[n-2] takes 1 step to reach two init.\n",
    "class Solution:\n",
    "    def climbStairs(self, n: int) -> int:\n",
    "        one, two = 1,1\n",
    "        #Shift one and two value\n",
    "        for i in range(n-1): #stop at n-2\n",
    "            temp = one\n",
    "            one = one + two\n",
    "            two = temp\n",
    "        return one"
   ]
  },
  {
   "cell_type": "markdown",
   "metadata": {},
   "source": [
    "#### [746. Min Cost Climbing Stairs](https://leetcode.com/problems/min-cost-climbing-stairs/description/)"
   ]
  },
  {
   "cell_type": "code",
   "execution_count": null,
   "metadata": {},
   "outputs": [],
   "source": [
    "\"\"\"_summary_\n",
    "\"\"\"\n",
    "class Solution:\n",
    "    def minCostClimbingStairs(self, cost: List[int]) -> int:\n",
    "        mincost, curcost = 0\n",
    "        \n",
    "        "
   ]
  },
  {
   "cell_type": "code",
   "execution_count": 70,
   "metadata": {},
   "outputs": [
    {
     "name": "stdout",
     "output_type": "stream",
     "text": [
      "{0: 0, 1: 1, 2: 1}\n",
      "{0: 0, 1: 1, 2: 1, 3: 2}\n",
      "{0: 0, 1: 1, 2: 1, 3: 2, 4: 3}\n",
      "{0: 0, 1: 1, 2: 1, 3: 2, 4: 3, 5: 5}\n",
      "{0: 0, 1: 1, 2: 1, 3: 2, 4: 3, 5: 5, 6: 8}\n",
      "{0: 0, 1: 1, 2: 1, 3: 2, 4: 3, 5: 5, 6: 8, 7: 13}\n"
     ]
    },
    {
     "data": {
      "text/plain": [
       "13"
      ]
     },
     "execution_count": 70,
     "metadata": {},
     "output_type": "execute_result"
    }
   ],
   "source": [
    "def fib(n,memo):\n",
    "    if n in memo:\n",
    "        return memo[n]\n",
    "    \n",
    "    memo[n] = fib(n-1, memo)+fib(n-2, memo)\n",
    "    print(memo)\n",
    "    return memo[n]\n",
    "fib(7, {0:0, 1:1})"
   ]
  },
  {
   "cell_type": "markdown",
   "metadata": {},
   "source": [
    "## 2D Arrays"
   ]
  },
  {
   "cell_type": "markdown",
   "metadata": {},
   "source": []
  },
  {
   "cell_type": "markdown",
   "metadata": {},
   "source": [
    "## Other leets"
   ]
  },
  {
   "cell_type": "markdown",
   "metadata": {},
   "source": [
    "#### [contiguous subarrays that represent a sawtooth sequence of at least two elements.](https://www.geeksforgeeks.org/count-subarrays-with-elements-in-alternate-increasing-decreasing-order-or-vice-versa/)\n",
    "Notes:\n",
    "- All cases Continuous flips(n) is a sum of arithm sequence: n(n+1)//2\n",
    "    - Continuous flips(5) = 5*6//2 = 15\n",
    "    - Explanation:\n",
    "    \n",
    "        Arithmetic sequence: Continuous flips(5) = 1+2+3+4+5\n",
    "        \n",
    "        Continuous flips(n) = Continuous flips(n-1) + n\n",
    "        \n",
    "    - e.g: continuous flips(4) = 10 (e.g [1, 10, 2, 8, 3]) \n",
    "    \n",
    "    - continuous flips(5) (e.g [1, 10, 2, 8, 3, 9]) \n",
    "    \n",
    "        = 15 \n",
    "        \n",
    "        = All continuous flips(4) + 5 new subs from 5th (9):\n",
    "    [3, 9], [8, 3, 9], [2, 8, 3, 9], [10, 2, 8, 3, 9], [1, 10, 2, 8, 3, 9]"
   ]
  },
  {
   "cell_type": "code",
   "execution_count": null,
   "metadata": {},
   "outputs": [
    {
     "name": "stdout",
     "output_type": "stream",
     "text": [
      "34\n",
      "4\n",
      "9\n",
      "10\n",
      "0\n",
      "31\n"
     ]
    }
   ],
   "source": [
    "def solution(arr):\n",
    "    totalCount, flips = 0, 0\n",
    "    up = -1\n",
    "    if arr[0] < arr[1]:\n",
    "        up = 1\n",
    "        flips = 1\n",
    "    elif arr[0] > arr[1]:\n",
    "        up = 0\n",
    "        flips = 1\n",
    "        \n",
    "    for i in range(1, len(arr)-1):\n",
    "        #Keep flipping | or | end flipping and reset\n",
    "        if up == 0 and arr[i] < arr[i+1] :\n",
    "            up = 1\n",
    "            flips+=1\n",
    "        elif up == 1 and arr[i] > arr[i+1] :\n",
    "            up = 0\n",
    "            flips+=1            \n",
    "        #end flipping and reset, flips = 1 -> res = 1, flips = 4 -> res = 10\n",
    "        else:\n",
    "            totalCount += flips*(flips+1)//2\n",
    "            flips = 1 if arr[i] != arr[i+1] else 0        \n",
    "    #unresolve flips\n",
    "    if flips > 0:\n",
    "        totalCount+= flips*(flips+1)//2\n",
    "    return totalCount\n",
    "arr1= [-779, -510, -829, 190, -35, -35, 106, -888, -400, -320, -320, 564, -513, 634, -280, -280, -73, -771, -630, 112]\n",
    "print(solution(arr1)) #34\n",
    "\n",
    "\n",
    "arr = [9,8,7,6,5]\n",
    "print(solution(arr)) # 4\n",
    "\n",
    "arr2 = [1,2,1,3,4,-2]\n",
    "print(solution(arr2)) # 9\n",
    "\n",
    "arr3 = [1,2,1,2,1]\n",
    "print(solution(arr3)) # 10\n",
    "\n",
    "arr4 = [10,10,10]\n",
    "print(solution(arr4)) # 0\n",
    "\n",
    "# from medium article comments\n",
    "arr5 = [-442024811,447425003,365210904,823944047,943356091,-781994958,872885721,-296856571,230380705,944396167,-636263320,-942060800,-116260950,-126531946,-838921202]\n",
    "print(solution(arr5)) # 31"
   ]
  },
  {
   "cell_type": "markdown",
   "metadata": {},
   "source": [
    "#### [2043. Simple Bank System](https://leetcode.com/problems/simple-bank-system/)"
   ]
  },
  {
   "cell_type": "code",
   "execution_count": null,
   "metadata": {},
   "outputs": [
    {
     "name": "stdout",
     "output_type": "stream",
     "text": [
      "['null', True, 'True', 'True', 'False', False]\n"
     ]
    }
   ],
   "source": [
    "from typing import List\n",
    "class Bank:\n",
    "    \n",
    "    #e.g account 3 's balance is balance[2]\n",
    "    def __init__(self, balance: List[int]):\n",
    "        self.balance = balance\n",
    "    def isValid(self, account1: int, money: int) -> bool:\n",
    "        # a = len(self.balance)\n",
    "        # if account1 > a:\n",
    "        #     return False\n",
    "        # if self.balance[account1-1] < money:\n",
    "        #     return False\n",
    "        # return True\n",
    "        return account1 <= len(self.balance) and self.balance[account1-1] >= money\n",
    "        \n",
    "    def transfer(self, account1: int, account2: int, money: int) -> bool:\n",
    "        if not self.isValid(account1, money):\n",
    "            return False\n",
    "        self.balance[account1-1] -= money\n",
    "        self.balance[account2-1] +=money\n",
    "        return True\n",
    "\n",
    "    def deposit(self, account: int, money: int) -> bool:\n",
    "        if account > len(self.balance):\n",
    "            return False\n",
    "        self.balance[account-1] += money\n",
    "        return True\n",
    "\n",
    "    def withdraw(self, account: int, money: int) -> bool:\n",
    "        if not self.isValid(account, money):\n",
    "            return False\n",
    "        self.balance[account-1] -= money\n",
    "        return True\n",
    "    def perform(self, ops, data) -> list:\n",
    "        res = [\"null\"]\n",
    "        for i in range(1, len(ops)):\n",
    "            if ops[i] == \"deposit\":\n",
    "                res.append(str(self.deposit(data[i][0],data[i][1])))\n",
    "            if ops[i] == \"transfer\":\n",
    "                res.append(str(self.transfer(data[i][0],data[i][1], data[i][2])))\n",
    "            if ops[i] == \"withdraw\":\n",
    "                res.append(self.withdraw(data[i][0],data[i][1]))\n",
    "        return res\n",
    "\n",
    "# Your Bank object will be instantiated and called as such:\n",
    "ops = [\"Bank\",\"withdraw\",\"transfer\",\"deposit\",\"transfer\",\"withdraw\"]\n",
    "data = [[[10,100,20,50,30]],[3,10],[5,1,20],[5,20],[3,4,15],[10,50]]\n",
    "mbank = Bank(data[0][0])\n",
    "\n",
    "print(mbank.perform(ops, data))"
   ]
  },
  {
   "cell_type": "markdown",
   "metadata": {},
   "source": [
    "#### [1492. The kth Factor of n](https://leetcode.com/problems/the-kth-factor-of-n/description/)"
   ]
  },
  {
   "cell_type": "code",
   "execution_count": null,
   "metadata": {},
   "outputs": [
    {
     "name": "stdout",
     "output_type": "stream",
     "text": [
      "-1\n",
      "CPU times: user 48 µs, sys: 4 µs, total: 52 µs\n",
      "Wall time: 53.9 µs\n"
     ]
    }
   ],
   "source": [
    "%%time\n",
    "def kthFactor(n: int, k: int) -> int:\n",
    "    #we could add 2 factors at one time, start with 1,n on the outside and work inwards\n",
    "    #work from 1 -> sqrt(n): return i (ascd i)\n",
    "    #keep going with sqrt(n)->1 : return n//i (desc i 0> => ascd n//i )\n",
    "    for i in range(1, int(n**0.5)+1): #1-> sqrt(n)\n",
    "        if n%i ==0:\n",
    "            k -= 1\n",
    "            if k == 0:\n",
    "                print(res)\n",
    "                return i\n",
    "\n",
    "    for i in range(int(n**0.5), 0,-1 ): #1-> sqrt(n)+1 -> 1\n",
    "        if n//i==i: continue #exclude repeated factors\n",
    "        if n%i ==0:\n",
    "            k -= 1\n",
    "            if k == 0:\n",
    "                return n//i\n",
    "    return -1\n",
    "    \n",
    "n = 2287\n",
    "k = 8\n",
    "print(kthFactor(n,k))\n",
    "#7625597484987"
   ]
  },
  {
   "cell_type": "markdown",
   "metadata": {},
   "source": [
    "#### [Sum of all the multiples of 3 or 5 below N](https://www.hackerrank.com/contests/projecteuler/challenges/euler001/problem?isFullScreen=true)"
   ]
  },
  {
   "cell_type": "markdown",
   "metadata": {},
   "source": [
    "iSum of Arithmetic sequence:\n",
    "\n",
    "        an = a1 + (n-1)d\n",
    "\n",
    "        => n = (an - a1)//d + 1\n",
    "\n",
    "        S = n/2(a1+an) (basic) \n",
    "    \n",
    "        or S = n/2(2a1 + (n-1)d)\n",
    "or (1) Triangle number:\n",
    "<img src =\"assets/triangle number.png\" width=300></img>\n",
    "\n",
    "    "
   ]
  },
  {
   "cell_type": "code",
   "execution_count": null,
   "metadata": {},
   "outputs": [
    {
     "data": {
      "text/plain": [
       "195"
      ]
     },
     "execution_count": 25,
     "metadata": {},
     "output_type": "execute_result"
    }
   ],
   "source": [
    "def mul(n):\n",
    "    def sumseq(n,m):\n",
    "        #Find last term below n (100) 99-95\n",
    "        last = n-1 - ((n-1)%m)\n",
    "        #Find #terms \n",
    "        k = (last - m)//m + 1\n",
    "        #Sum\n",
    "        return (k*(last + m)//2)\n",
    "    def sumtri(n,m):\n",
    "        d = n//m #\n",
    "        return m * (d*(d+1))//2\n",
    "    # return sumseq(n,3)+sumseq(n,5) - sumseq(n,15)\n",
    "    return sumtri(n,3)+sumtri(n,5) - sumtri(n,15)\n",
    "mul(29)"
   ]
  },
  {
   "cell_type": "code",
   "execution_count": null,
   "metadata": {},
   "outputs": [
    {
     "data": {
      "text/plain": [
       "(45, 45)"
      ]
     },
     "execution_count": 20,
     "metadata": {},
     "output_type": "execute_result"
    }
   ],
   "source": [
    "last = 15 - 1 - ((15 - 1) % 3) \n",
    "k = (15 - 3) // 3 + 1 \n",
    "result1 = int(5 / 2 * (15 + 3))  # Result1 = 37\n",
    "result2 = (5 * (15 + 3)) // 2     # Result2 = 40\n",
    "result1,result2"
   ]
  },
  {
   "cell_type": "markdown",
   "metadata": {},
   "source": [
    "#### [Bitwise AND count pairs](https://www.geeksforgeeks.org/count-of-pairs-whose-bitwise-and-is-a-power-of-2/) xxxx dont understand"
   ]
  },
  {
   "cell_type": "markdown",
   "metadata": {},
   "source": [
    "Power of 2 (num) means: num and num&(a-1)==0"
   ]
  },
  {
   "cell_type": "code",
   "execution_count": null,
   "metadata": {},
   "outputs": [
    {
     "name": "stdout",
     "output_type": "stream",
     "text": [
      "4\n"
     ]
    }
   ],
   "source": [
    "from collections import defaultdict\n",
    "def countPairs(arr: list[int], n: int) -> int:\n",
    "    # Initialize answer and maximum value in the array\n",
    "    ans, mx = 0, 0\n",
    "    # Create a defaultdict to store the frequency of each integer in the array\n",
    "    mp = defaultdict(int)\n",
    "    # Iterate through each integer in the array\n",
    "    for ai in arr:\n",
    "        # Update the frequency of each integer in the defaultdict\n",
    "        mp[ai] += 1\n",
    "        # Update the maximum value in the array\n",
    "        mx = max(mx, ai)\n",
    "    # Iterate through each integer i from 0 to mx\n",
    "    for i in range(mx+1):\n",
    "        # If i is not present in the defaultdict, skip to the next integer\n",
    "        if i not in mp:\n",
    "            continue\n",
    "        # Iterate through each integer j from i to mx\n",
    "        for j in range(i, mx+1):\n",
    "            # If j is not present in the defaultdict, skip to the next integer\n",
    "            if j not in mp:\n",
    "                continue\n",
    "            # Check if the bitwise AND of i and j has only one set bit\n",
    "            if bin(i & j).count('1') == 1:\n",
    "                # If i is equal to j, add the product of nCr(mp.get(i), 2) \n",
    "                # to the answer\n",
    "                if i == j:\n",
    "                    ans += (mp[i] * (mp[i]-1)) // 2\n",
    "                # If i is not equal to j, add the product of mp.get(i) \n",
    "                # and mp.get(j) to the answer\n",
    "                else:\n",
    "                    ans += mp[i] * mp[j]\n",
    "    # Return the answer\n",
    "    return ans\n",
    "arr = [6, 4, 2, 3]\n",
    "n = len(arr)\n",
    "print(countPairs(arr, n))"
   ]
  },
  {
   "cell_type": "markdown",
   "metadata": {},
   "source": [
    "#### [Largest Rectangle Area after drawing each boundary](https://leetcode.com/discuss/interview-question/1225894/largest-rectangle-area-after-drawing-each-boundary)"
   ]
  },
  {
   "cell_type": "markdown",
   "metadata": {},
   "source": [
    "Passed sample"
   ]
  },
  {
   "cell_type": "markdown",
   "metadata": {},
   "source": []
  },
  {
   "cell_type": "code",
   "execution_count": null,
   "metadata": {},
   "outputs": [
    {
     "name": "stdout",
     "output_type": "stream",
     "text": [
      "[12, 9]\n"
     ]
    }
   ],
   "source": [
    "import math\n",
    "\n",
    "class Node:\n",
    "    def __init__(self, parent, l, r, op=max):\n",
    "        self.parent = parent\n",
    "        self.l = l\n",
    "        self.r = r\n",
    "        self.lc = None\n",
    "        self.rc = None\n",
    "        self.val = r - l\n",
    "        self.op = op\n",
    "    \n",
    "    def split(self, x):\n",
    "        # No balancing, but doesn't seem to give timeouts.\n",
    "        assert self.l <= x <= self.r\n",
    "        if x == self.l or x == self.r:\n",
    "            # Split lies on borders.\n",
    "            return\n",
    "        if self.lc:\n",
    "            if x == self.lc.r:\n",
    "                # Split lies on mid split.\n",
    "                return\n",
    "            if x < self.lc.r:\n",
    "                self.lc.split(x)\n",
    "            else:\n",
    "                self.rc.split(x)\n",
    "            self.val = self.op(self.lc.val, self.rc.val)\n",
    "        else:\n",
    "            self.lc = Node(parent=self, l=self.l, r=x)\n",
    "            self.rc = Node(parent=self, l=x, r=self.r)\n",
    "            self.val = self.op(x - self.l, self.r - x)\n",
    "        \n",
    "def getMaxArea(w, h, isVertical, distance):\n",
    "    w_root = Node(parent=None, l=0, r=w)\n",
    "    h_root = Node(parent=None, l=0, r=h)\n",
    "    ans = []\n",
    "    for iv, d in zip(isVertical, distance):\n",
    "        if iv:\n",
    "            w_root.split(d)\n",
    "        else:\n",
    "            h_root.split(d)\n",
    "        ans.append(w_root.val * h_root.val)\n",
    "    return ans\n",
    "    \n",
    "\n",
    "w = 4\n",
    "h = 4\n",
    "isVertical = [0,1]\n",
    "distance = [3,1]\n",
    "print(getMaxArea(w,h,isVertical,distance))\n"
   ]
  },
  {
   "cell_type": "markdown",
   "metadata": {},
   "source": [
    "Below passed 11/15 tests, passed cert"
   ]
  },
  {
   "cell_type": "code",
   "execution_count": null,
   "metadata": {},
   "outputs": [],
   "source": [
    "def getMaxArea(w, h, isVertical, distance):\n",
    "    # Write your code here\n",
    "    def insort(test_list, k):\n",
    "        for i in range(len(test_list)):\n",
    "            if test_list[i] > k:\n",
    "                break\n",
    "        return test_list[:i] + [k] + test_list[i:]\n",
    "        \n",
    "    maxy = 0\n",
    "    wline = [0,w]\n",
    "    hline = [0,h]\n",
    "    res = []\n",
    "    for i in range(len(isVertical)):\n",
    "        if isVertical[i]:\n",
    "            wline = insort(wline, distance[i])\n",
    "        else:\n",
    "            hline = insort(hline, distance[i])\n",
    "        wmax = 0\n",
    "        hmax = 0\n",
    "        for i in range(1,len(wline)):\n",
    "            if wline[i] - wline[i-1] > wmax:\n",
    "                wmax = wline[i] - wline[i-1]\n",
    "        for i in range(1,len(hline)):\n",
    "            if hline[i] - hline[i-1] > hmax:\n",
    "                hmax = hline[i] - hline[i-1]\n",
    "     \n",
    "        res.append(hmax * wmax)\n",
    "    return res\n"
   ]
  },
  {
   "cell_type": "markdown",
   "metadata": {},
   "source": [
    "#### Road Repairs"
   ]
  },
  {
   "cell_type": "code",
   "execution_count": null,
   "metadata": {},
   "outputs": [
    {
     "name": "stdout",
     "output_type": "stream",
     "text": [
      "16\n"
     ]
    }
   ],
   "source": [
    "\n",
    "#(5-9, 3-3, 1-1, 4-15, 6-8)\n",
    "def getMinCost(crew_id, job_id):\n",
    "    crew_id.sort()\n",
    "    job_id.sort()\n",
    "    cost = 0\n",
    "    for i in range(len(crew_id)):\n",
    "        cost += abs(job_id[i] - crew_id[i])\n",
    "    return cost\n",
    "\n",
    "crewId = [4,5,1,4,2]\n",
    "jobId = [4,4,5,9,10] \n",
    "print(getMinCost(crewId, jobId))"
   ]
  },
  {
   "cell_type": "code",
   "execution_count": 1,
   "metadata": {},
   "outputs": [
    {
     "data": {
      "text/plain": [
       "[[6, 5], [4, 3]]"
      ]
     },
     "execution_count": 1,
     "metadata": {},
     "output_type": "execute_result"
    }
   ],
   "source": [
    "def image_blur(image, radius):\n",
    "\n",
    "    rows, cols = len(image), len(image[0])\n",
    "    result = [[0] * cols for _ in range(rows)]\n",
    "    \n",
    "    for i in range(rows):\n",
    "        for j in range(cols):\n",
    "            neighbors = []\n",
    "            \n",
    "            # Collect valid neighbors within the specified radius, excluding (i, j) itself\n",
    "            for k in range(max(0, i - radius), min(rows, i + radius + 1)):\n",
    "                for l in range(max(0, j - radius), min(cols, j + radius + 1)):\n",
    "                    if k == i and l == j:\n",
    "                        continue  # Skip the center cell\n",
    "                    neighbors.append(image[k][l])\n",
    "            \n",
    "            # Calculate mean of neighbors and apply the formula\n",
    "            if neighbors:\n",
    "                mean_neighbors = sum(neighbors) // len(neighbors)\n",
    "                result[i][j] = (image[i][j] + mean_neighbors) // 2\n",
    "            else:\n",
    "                # No neighbors, so the pixel remains the same\n",
    "                result[i][j] = image[i][j]\n",
    "                \n",
    "    return result\n",
    "image = [[9, 6], [3,0]]\n",
    "\n",
    "image_blur(image, 1)"
   ]
  },
  {
   "cell_type": "markdown",
   "metadata": {},
   "source": [
    "**need to be solved**\n",
    "\n",
    "#### [Total number of triangles formed when there are H horizontal and V vertical lines](https://www.geeksforgeeks.org/total-number-of-triangles-formed-when-there-are-h-horizontal-and-v-vertical-lines/)\n",
    "[Largest area possible after removal of a series of horizontal & vertical bars](https://www.geeksforgeeks.org/largest-area-possible-after-removal-of-a-series-of-horizontal-vertical-bars/)\n",
    "\n",
    "[Count number of triangles cut by the given horizontal and vertical line segments](https://www.geeksforgeeks.org/count-number-of-triangles-cut-by-the-given-horizontal-and-vertical-line-segments/)\n"
   ]
  },
  {
   "cell_type": "markdown",
   "metadata": {},
   "source": [
    "#### [1465. Maximum Area of a Piece of Cake After Horizontal and Vertical Cuts](https://leetcode.com/problems/maximum-area-of-a-piece-of-cake-after-horizontal-and-vertical-cuts/)"
   ]
  },
  {
   "cell_type": "code",
   "execution_count": null,
   "metadata": {},
   "outputs": [],
   "source": []
  },
  {
   "cell_type": "code",
   "execution_count": null,
   "metadata": {},
   "outputs": [],
   "source": []
  }
 ],
 "metadata": {
  "kernelspec": {
   "display_name": "base",
   "language": "python",
   "name": "python3"
  },
  "language_info": {
   "codemirror_mode": {
    "name": "ipython",
    "version": 3
   },
   "file_extension": ".py",
   "mimetype": "text/x-python",
   "name": "python",
   "nbconvert_exporter": "python",
   "pygments_lexer": "ipython3",
   "version": "3.11.8"
  }
 },
 "nbformat": 4,
 "nbformat_minor": 2
}
