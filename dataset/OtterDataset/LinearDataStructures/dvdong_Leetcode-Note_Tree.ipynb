{
 "cells": [
  {
   "cell_type": "markdown",
   "metadata": {},
   "source": [
    "<a name=\"top\"></a>\n",
    "<p style=\"text-align: right\"><a href=\"#bottom\" style=\"text-decoration: none;color: pink\"><strong>Bottom</strong></a></p>"
   ]
  },
  {
   "cell_type": "markdown",
   "metadata": {},
   "source": [
    "# <center>Tree"
   ]
  },
  {
   "cell_type": "code",
   "execution_count": 1,
   "metadata": {},
   "outputs": [],
   "source": [
    "public class TreeNode {\n",
    "    int val;\n",
    "    TreeNode left;\n",
    "    TreeNode right;\n",
    "    TreeNode(int x) { val = x; }\n",
    "}"
   ]
  },
  {
   "cell_type": "code",
   "execution_count": 2,
   "metadata": {},
   "outputs": [],
   "source": [
    "public class ListNode {\n",
    "    int val;\n",
    "    ListNode next;\n",
    "    ListNode(int x) { val = x; }\n",
    "}"
   ]
  },
  {
   "cell_type": "markdown",
   "metadata": {},
   "source": [
    "## [104. Maximum Depth of Binary Tree (easy)](https://leetcode-cn.com/problems/maximum-depth-of-binary-tree/)"
   ]
  },
  {
   "cell_type": "markdown",
   "metadata": {},
   "source": [
    "Given a binary tree, find its maximum depth.\n",
    "\n",
    "The maximum depth is the number of nodes along the longest path from the root node down to the farthest leaf node."
   ]
  },
  {
   "cell_type": "code",
   "execution_count": 4,
   "metadata": {},
   "outputs": [],
   "source": [
    "// 递归解法\n",
    "\n",
    "public int maxDepth2(TreeNode root){\n",
    "    if(root == null) return 0;\n",
    "    \n",
    "    int leftDepth = maxDepth2(root.left);\n",
    "    int rightDepth = maxDepth2(root.right);\n",
    "    return Math.max(leftDepth, rightDepth) + 1;\n",
    "}"
   ]
  },
  {
   "cell_type": "code",
   "execution_count": 3,
   "metadata": {},
   "outputs": [],
   "source": [
    "// BFS解法\n",
    "\n",
    "public int maxDepth(TreeNode root) {\n",
    "    if(root == null)\n",
    "        return 0;\n",
    "    Queue<TreeNode> q = new LinkedList<>();\n",
    "    q.offer(root);\n",
    "    int depth = 0;\n",
    "    while(!q.isEmpty()){\n",
    "        depth++;\n",
    "        int size = q.size();\n",
    "        for(int i = 0; i < size; i++){  // 每个内循环的次数为数每层的结点数\n",
    "            TreeNode temp = q.poll();\n",
    "            if(temp.left != null)\n",
    "                q.offer(temp.left);\n",
    "            if(temp.right != null)\n",
    "                q.offer(temp.right);\n",
    "        }\n",
    "    }\n",
    "    return depth;\n",
    "}"
   ]
  },
  {
   "cell_type": "markdown",
   "metadata": {},
   "source": [
    "## [110. Balanced Binary Tree (easy)](https://leetcode-cn.com/problems/balanced-binary-tree/)"
   ]
  },
  {
   "cell_type": "markdown",
   "metadata": {},
   "source": [
    "Given a binary tree, determine if it is height-balanced.\n",
    "\n",
    "For this problem, a height-balanced binary tree is defined as:\n",
    "\n",
    "a binary tree in which the left and right subtrees of every node differ in height by no more than 1."
   ]
  },
  {
   "cell_type": "code",
   "execution_count": 8,
   "metadata": {},
   "outputs": [],
   "source": [
    "// 每次递归求高度，判断高度差，再对子树递归\n",
    "\n",
    "public boolean isBalanced(TreeNode root) {\n",
    "    if(root == null)\n",
    "        return true;\n",
    "    int leftHeight = getHeight(root.left);\n",
    "    int rightHeight = getHeight(root.right);\n",
    "    if(Math.abs(leftHeight - rightHeight) > 1)\n",
    "        return false;\n",
    "    return isBalanced(root.left) && isBalanced(root.right);\n",
    "}\n",
    "\n",
    "private int getHeight(TreeNode root){\n",
    "    if(root == null)\n",
    "        return 0;\n",
    "    int leftHeight = getHeight(root.left);\n",
    "    int rightHeight = getHeight(root.right);\n",
    "    return Math.max(leftHeight, rightHeight) + 1;\n",
    "}"
   ]
  },
  {
   "cell_type": "code",
   "execution_count": 5,
   "metadata": {},
   "outputs": [],
   "source": [
    "// 解法2，更优化,在求高度的方法里加入对高度差的判断，避免用两次递归\n",
    "\n",
    "private boolean res = true;\n",
    "public boolean isBalanced(TreeNode root) {\n",
    "    if(root == null)\n",
    "        return true;\n",
    "    helper(root);\n",
    "    return res;\n",
    "}\n",
    "\n",
    "private int helper(TreeNode root){   // 返回值是树的高度\n",
    "    if(root == null)\n",
    "        return 0;\n",
    "    int leftHeight = helper(root.left);            // 分别递归求两棵树的高度\n",
    "    int rightHeight = helper(root.right);\n",
    "    if(leftHeight == -1 || rightHeight == -1)     // 递归过程中，如果有一棵树的高度为-1，就说明整棵树都不平衡，把结果记录在res中\n",
    "        res = false;\n",
    "   \n",
    "   if(Math.abs(leftHeight - rightHeight) > 1)    // 如果对某个root来说，左右不平衡了就返回-1高度，用-1表示一棵树不平衡\n",
    "        return -1;\n",
    "    return Math.max(leftHeight, rightHeight) + 1;  // 平衡的树就正常返回树高\n",
    "}"
   ]
  },
  {
   "cell_type": "markdown",
   "metadata": {},
   "source": [
    "## [543. Diameter of Binary Tree (easy)](https://leetcode-cn.com/problems/diameter-of-binary-tree/)"
   ]
  },
  {
   "cell_type": "markdown",
   "metadata": {},
   "source": [
    "Given a binary tree, you need to compute the length of the diameter of the tree. The diameter of a binary tree is the length of the longest path between any two nodes in a tree. This path may or may not pass through the root.\n",
    "\n",
    "Note: The length of path between two nodes is represented by the number of edges between them."
   ]
  },
  {
   "cell_type": "markdown",
   "metadata": {},
   "source": [
    "<font color='dd0000'>\n",
    "    \n",
    "一棵树的最长路径，除非只有一个结点，那么该路径一定会经过一个\"根\"结点，即一个\"拐点\"\n",
    "\n",
    "所以，定义一个求深度的方法，**最长路径 = 当前根节点左右两棵子树的最大深度的和**，在中间用一个成员变量保存结果，不断更新取最大\n",
    "\n",
    "对递归函数：\n",
    "</font>\n",
    "\n",
    "<font color='dd0000'>\n",
    "    \n",
    "1.终止条件：当根节点为null时，深度为0，返回0；\n",
    "    \n",
    "2.返回值：返回值应该是当前结点的最大深度，即左深度和右深度取最大(**单边**)\n",
    "</font>"
   ]
  },
  {
   "cell_type": "code",
   "execution_count": 3,
   "metadata": {},
   "outputs": [],
   "source": [
    "int ans = 0;\n",
    "public int diameterOfBinaryTree(TreeNode root) {\n",
    "    maxDepth(root);    // 调用求深度的函数,ans在中间保存结果\n",
    "    return ans;    // ans是结点数,返回边数\n",
    "}\n",
    "\n",
    "private int maxDepth(TreeNode root){\n",
    "    if(root == null) return 0;\n",
    "    int L = maxDepth(root.left);\n",
    "    int R = maxDepth(root.right);\n",
    "    ans = Math.max(ans, L + R);   // 左边的最大深度+右边的最大深度,即为当前的最长路径(边数),和前面的结果比较取最大\n",
    "    return Math.max(L, R) + 1;   // 递归函数的返回值是：两边子树的最大深度(结点数)\n",
    "}"
   ]
  },
  {
   "cell_type": "markdown",
   "metadata": {},
   "source": [
    "## [687. Longest Univalue Path (easy)](https://leetcode-cn.com/problems/longest-univalue-path/)"
   ]
  },
  {
   "cell_type": "markdown",
   "metadata": {},
   "source": [
    "Given a binary tree, find the length of the longest path where each node in the path has the same value. This path may or may not pass through the root.\n",
    "\n",
    "The length of path between two nodes is represented by the number of edges between them."
   ]
  },
  {
   "cell_type": "markdown",
   "metadata": {},
   "source": [
    "<font color='dd0000'>\n",
    "\n",
    "和上一题思路类似，递归求两边子树的**单边**最长同值路径，**最长同值路径根据root和两个子结点值的相等情况可能为0、R、L、L+R**。\n",
    "</font>"
   ]
  },
  {
   "cell_type": "code",
   "execution_count": 9,
   "metadata": {},
   "outputs": [],
   "source": [
    "int ans = 0;\n",
    "public int longestUnivaluePath(TreeNode root) {\n",
    "    getUnivaluePath(root);\n",
    "    return ans;\n",
    "}\n",
    "\n",
    "private int getUnivaluePath(TreeNode root){\n",
    "    if(root == null) return 0;\n",
    "    \n",
    "    int leftPath = getUnivaluePath(root.left);    // 左子树的同值最长路径\n",
    "    int rightPath = getUnivaluePath(root.right);  // 右子树的同值最长路径\n",
    "    \n",
    "    int L = 0, R = 0;    // !!!初始化为0，L+R用来表示当前root的总路径    \n",
    "    if(root.left != null && root.left.val == root.val)   // 如果左/右子树的值和root的值相同,则左/右路径+1\n",
    "        L = leftPath + 1;                                // 如果左/右子树的值和root的值不同,则L或R为0\n",
    "    if(root.right != null && root.right.val == root.val)\n",
    "        R = rightPath + 1;\n",
    "    ans = Math.max(ans, L + R);   // L+R为当前root的最长同值路径，不断更新取最大\n",
    "    return Math.max(L, R);    // 递归函数的返回值为：当前结点左右子树最长的同值路径(单边)\n",
    "}"
   ]
  },
  {
   "cell_type": "markdown",
   "metadata": {},
   "source": [
    "## [226. Invert Binary Tree (easy)](https://leetcode-cn.com/problems/invert-binary-tree/)"
   ]
  },
  {
   "cell_type": "markdown",
   "metadata": {},
   "source": [
    "Invert a binary tree."
   ]
  },
  {
   "cell_type": "markdown",
   "metadata": {},
   "source": [
    "⭐<font color='dd0000'>**递归**</font>⭐"
   ]
  },
  {
   "cell_type": "code",
   "execution_count": 6,
   "metadata": {},
   "outputs": [],
   "source": [
    "// 递归解法\n",
    "\n",
    "public TreeNode invertTree(TreeNode root) {\n",
    "    if(root == null) return null;                 // 1.终止条件：当root=null时，翻转结果就是null\n",
    "    TreeNode leftTree = invertTree(root.left);    // 2.返回值：方法返回的应该是一棵翻转后的树\n",
    "    TreeNode rightTree = invertTree(root.right);  \n",
    "    root.left = rightTree;                        // 3.每步的操作：分别翻转左右子树，并将它们交换\n",
    "    root.right = leftTree;\n",
    "    return root;\n",
    "}\n",
    "\n",
    "public TreeNode invertTree1(TreeNode root) {\n",
    "    invert(root);\n",
    "    return root;\n",
    "}\n",
    "\n",
    "private void invert(TreeNode root){\n",
    "    if(root == null){\n",
    "        return;\n",
    "    }\n",
    "    if(root.left == null && root.right == null){\n",
    "        return;\n",
    "    }\n",
    "    invert(root.left);\n",
    "    invert(root.right);\n",
    "    TreeNode temp = root.right;\n",
    "    root.right = root.left;\n",
    "    root.left = temp;\n",
    "}"
   ]
  },
  {
   "cell_type": "code",
   "execution_count": 7,
   "metadata": {},
   "outputs": [],
   "source": [
    "// BFS解法：一层一层从上到下逐层交换\n",
    "\n",
    "public TreeNode invertTree2(TreeNode root){\n",
    "    if(root == null) return null;\n",
    "    \n",
    "    Queue<TreeNode> q = new LinkedList<>();\n",
    "    q.offer(root);\n",
    "    while(!q.isEmpty()){\n",
    "        TreeNode current = q.poll();   // 出队一个作为当前结点\n",
    "        TreeNode left = current.left;  \n",
    "        TreeNode right = current.right;\n",
    "        current.left = right;\n",
    "        current.right = left;          // 交换当前结点的左右子结点\n",
    "        if(current.left != null) q.offer(current.left);  // 把下一层的结点入队，在下次循环中再交换它的子结点\n",
    "        if(current.right != null) q.offer(current.right);\n",
    "    }\n",
    "    return root;\n",
    "}"
   ]
  },
  {
   "cell_type": "markdown",
   "metadata": {},
   "source": [
    "## [101. Symmetric Tree (easy)](https://leetcode-cn.com/problems/symmetric-tree/)"
   ]
  },
  {
   "cell_type": "markdown",
   "metadata": {},
   "source": [
    "Given a binary tree, check whether it is a mirror of itself (ie, symmetric around its center).。"
   ]
  },
  {
   "cell_type": "markdown",
   "metadata": {},
   "source": [
    "<font color='dd0000'>\n",
    "\n",
    "**思路：**\n",
    "\n",
    "一棵树要对称，那么就必须它的两棵子树都对称，而方法本身只是判断一棵树是否对称，所以需要添加一个**判断两棵树是否对称的辅助方法**\n",
    "\n",
    "而两棵树是否对称，取决于**1树的左子树与2树的右子树是否对称且1树的右子树与2树的左子树是否对称**，这就形成了递归\n",
    "\n",
    "所以，辅助方法是一个递归过程：\n",
    "\n",
    "1. 终止条件：当两棵树都为null时，对称；当只有一棵为null时，不对称；当两棵树根的值不等时，不对称\n",
    "\n",
    "\n",
    "2. 返回值：方法应该返回这两棵树是否对称\n",
    "\n",
    "\n",
    "3. 每步的操作：每一步应该做的是，判断这两棵树的子树的对称情况\n",
    "</font>"
   ]
  },
  {
   "cell_type": "code",
   "execution_count": 8,
   "metadata": {},
   "outputs": [],
   "source": [
    "// 递归解法\n",
    "\n",
    "public boolean isSymmetric(TreeNode root) {\n",
    "    if(root == null) \n",
    "        return true;\n",
    "    \n",
    "    return isTwoTreeSymmetric(root.left, root.right);\n",
    "}\n",
    "\n",
    "private boolean isTwoTreeSymmetric(TreeNode t1, TreeNode t2){\n",
    "    if(t1 == null && t2 == null)\n",
    "        return true;\n",
    "    if(t1 == null || t2 == null)\n",
    "        return false;\n",
    "    if(t1.val != t2.val)\n",
    "        return false;\n",
    "    return isTwoTreeSymmetric(t1.left, t2.right) && isTwoTreeSymmetric(t1.right, t2.left);\n",
    "}"
   ]
  },
  {
   "cell_type": "code",
   "execution_count": 4,
   "metadata": {},
   "outputs": [],
   "source": [
    "// 迭代解法 BFS\n",
    "\n",
    "public boolean isSymmetric(TreeNode root) {\n",
    "    if(root == null)\n",
    "        return true;\n",
    "        \n",
    "    Queue<TreeNode> q = new LinkedList<>();\n",
    "    q.offer(root);\n",
    "    q.offer(root);\n",
    "    while(!q.isEmpty()){\n",
    "        TreeNode node1 = q.poll();  // 每次从队列中取出用来判断对称的两个结点进行比较\n",
    "        TreeNode node2 = q.poll();\n",
    "        if(node1 == null && node2 == null)  // 当这两个结点都为null时，可能是某个结点只有一个子结点的情况，所以还要继续看后面\n",
    "            continue;\n",
    "        if(node1 == null || node2 == null)  // 如果两个结点一个为空一个不为空，说明一定不对称\n",
    "            return false;\n",
    "        if(node1.val != node2.val)     // 如果这两个结点值不同，说明不对称\n",
    "            return false;\n",
    "            \n",
    "        q.offer(node1.left);    // 按照要比较的正确顺序把子结点入队\n",
    "        q.offer(node2.right);\n",
    "        q.offer(node1.right);\n",
    "        q.offer(node2.left);\n",
    "    }\n",
    "    return true;\n",
    "}"
   ]
  },
  {
   "cell_type": "markdown",
   "metadata": {},
   "source": [
    "## [111. Minimum Depth of Binary Tree (easy)](https://leetcode-cn.com/problems/minimum-depth-of-binary-tree/)"
   ]
  },
  {
   "cell_type": "markdown",
   "metadata": {},
   "source": [
    "Given a binary tree, find its minimum depth.\n",
    "\n",
    "The minimum depth is the number of nodes along the shortest path from the root node down to the nearest leaf node.\n",
    "\n",
    "**Note: A leaf is a node with no children.**"
   ]
  },
  {
   "cell_type": "markdown",
   "metadata": {},
   "source": [
    "<font color='dd0000'>**关键：**由题意，最小深度是到*叶子结点*的最短距离，所以当root有一个子结点为空时，最小深度**不为1**</font>\n",
    "\n",
    "<font color='dd0000'>因此，递归的出口应有3个:\n",
    "\n",
    "1. 当前根节点为空时，最小深度为0；\n",
    "\n",
    "2. 当前根节点左为空时，最小深度仅取右边+1；\n",
    "\n",
    "3. 当前根节点右为空时，最小深度仅取左边+1；\n",
    "\n",
    "\n",
    "剩下的情况才是取两边更小的深度+1\n",
    "</font>"
   ]
  },
  {
   "cell_type": "code",
   "execution_count": 10,
   "metadata": {},
   "outputs": [],
   "source": [
    "// 递归解法\n",
    "\n",
    "public int minDepth(TreeNode root) {\n",
    "    if(root == null)\n",
    "        return 0;\n",
    "    if(root.left == null && root.right != null)\n",
    "        return minDepth(root.right) + 1;\n",
    "    if(root.right == null && root.left != null)\n",
    "        return minDepth(root.left) + 1;\n",
    "    \n",
    "    return Math.min(minDepth(root.left), minDepth(root.right)) + 1;\n",
    "}"
   ]
  },
  {
   "cell_type": "code",
   "execution_count": 12,
   "metadata": {},
   "outputs": [],
   "source": [
    "// 层序迭代\n",
    "\n",
    "public int minDepth2(TreeNode root) {\n",
    "    if(root == null) return 0;\n",
    "    Queue<TreeNode> q = new LinkedList<>();\n",
    "    q.offer(root);\n",
    "    int depth = 0;\n",
    "    while(!q.isEmpty()){\n",
    "        depth++;      // 每进入一层，深度+1\n",
    "        int size = q.size();\n",
    "        for(int i = 0; i < size(); i++){  // 对每一层的每个结点做判断\n",
    "            TreeNode node = q.poll();\n",
    "            if(node.left == null && node.right == null) // 该node为叶子结点，因为是从上到下依次遍历的，所以这是最近的一个叶子结点\n",
    "                return depth;                           // 当前深度就是最小深度\n",
    "            if(node.left != null)  // 将下一层的结点入队\n",
    "                q.offer(node.left);\n",
    "            if(node.right != null)\n",
    "                q.offer(node.right);\n",
    "        }\n",
    "    }\n",
    "    return depth;\n",
    "}"
   ]
  },
  {
   "cell_type": "markdown",
   "metadata": {},
   "source": [
    "## [617. Merge Two Binary Trees (easy)](https://leetcode-cn.com/problems/merge-two-binary-trees/)"
   ]
  },
  {
   "cell_type": "markdown",
   "metadata": {},
   "source": [
    "Given two binary trees and imagine that when you put one of them to cover the other, some nodes of the two trees are overlapped while the others are not.\n",
    "\n",
    "You need to merge them into a new binary tree. The merge rule is that if two nodes overlap, then sum node values up as the new value of the merged node. Otherwise, the NOT null node will be used as the node of new tree."
   ]
  },
  {
   "cell_type": "code",
   "execution_count": 5,
   "metadata": {},
   "outputs": [],
   "source": [
    "public TreeNode mergeTrees(TreeNode t1, TreeNode t2) {\n",
    "    if(t1 == null && t2 == null) \n",
    "        return null;\n",
    "    if(t1 == null)\n",
    "        return t2;\n",
    "    if(t2 == null)\n",
    "        return t1;\n",
    "        \n",
    "    TreeNode root = new TreeNode(t1.val + t2.val);\n",
    "    root.left = mergeTrees(t1.left, t2.left);\n",
    "    root.right = mergeTrees(t1.right, t2.right);\n",
    "    return root;\n",
    "}"
   ]
  },
  {
   "cell_type": "markdown",
   "metadata": {},
   "source": [
    "## [654. Maximum Binary Tree (medium)](https://leetcode-cn.com/problems/maximum-binary-tree/)"
   ]
  },
  {
   "cell_type": "markdown",
   "metadata": {},
   "source": [
    "Given an integer array with no duplicates. A maximum tree building on this array is defined as follow:\n",
    "\n",
    "The root is the maximum number in the array.\n",
    "The left subtree is the maximum tree constructed from left part subarray divided by the maximum number.\n",
    "The right subtree is the maximum tree constructed from right part subarray divided by the maximum number.\n",
    "Construct the maximum tree by the given array and output the root node of this tree."
   ]
  },
  {
   "cell_type": "code",
   "execution_count": 2,
   "metadata": {},
   "outputs": [],
   "source": [
    "// 递归\n",
    "\n",
    "public TreeNode constructMaximumBinaryTree(int[] nums) {\n",
    "    return solve(nums, 0, nums.length - 1);\n",
    "}\n",
    "\n",
    "private TreeNode solve(int[] nums, int left, int right){\n",
    "    if(left > right) return null;\n",
    "    if(left == right) return new TreeNode(nums[left]);\n",
    "\n",
    "    int max = nums[left];\n",
    "    int maxIndex = left;\n",
    "    for(int i = left; i <= right; i++){\n",
    "        if(nums[i] > max){\n",
    "            max = nums[i];\n",
    "            maxIndex = i;\n",
    "        }\n",
    "    }\n",
    "\n",
    "    TreeNode root = new TreeNode(max);\n",
    "    root.left = solve(nums, left, maxIndex - 1);\n",
    "    root.right = solve(nums, maxIndex + 1, right);\n",
    "    return root;\n",
    "}"
   ]
  },
  {
   "cell_type": "markdown",
   "metadata": {},
   "source": [
    "## [112. Path Sum (easy)](https://leetcode-cn.com/problems/path-sum/)"
   ]
  },
  {
   "cell_type": "markdown",
   "metadata": {},
   "source": [
    "Given a binary tree and a sum, determine if the tree has a root-to-leaf path such that adding up all the values along the path equals the given sum.\n",
    "\n",
    "Note: A leaf is a node with no children."
   ]
  },
  {
   "cell_type": "code",
   "execution_count": 3,
   "metadata": {},
   "outputs": [],
   "source": [
    "// 递归\n",
    "\n",
    "public boolean hasPathSum(TreeNode root, int sum) {\n",
    "    if(root == null) \n",
    "        return false;\n",
    "            \n",
    "    if(root.val == sum && root.left == null && root.right == null)\n",
    "        return true;\n",
    "\n",
    "    return hasPathSum(root.left, sum - root.val) || hasPathSum(root.right, sum - root.val);\n",
    "}"
   ]
  },
  {
   "cell_type": "code",
   "execution_count": 4,
   "metadata": {},
   "outputs": [],
   "source": [
    "// 迭代：用两个栈，分别保存待检查结点和它应该匹配的值\n",
    "\n",
    "public boolean hasPathSum2(TreeNode root, int sum) {\n",
    "    Stack<TreeNode> s = new Stack<>();\n",
    "    Stack<Integer> num = new Stack<>();\n",
    "    if(root != null){\n",
    "        s.push(root);\n",
    "        num.push(sum);\n",
    "    }\n",
    "    while(!s.isEmpty()){\n",
    "        TreeNode cur = s.pop();\n",
    "        sum = num.pop();\n",
    "        int a = cur.val;\n",
    "        sum -= a;\n",
    "        if(sum == 0 && cur.left == null && cur.right == null)\n",
    "            return true;\n",
    "        else{\n",
    "            if(cur.right != null){  // 先左边的深度优先\n",
    "                s.push(cur.right);\n",
    "                num.push(sum);\n",
    "            }    \n",
    "            if(cur.left != null){\n",
    "                s.push(cur.left);\n",
    "                num.push(sum);\n",
    "            }      \n",
    "        }\n",
    "    }\n",
    "    return false;\n",
    "}"
   ]
  },
  {
   "cell_type": "markdown",
   "metadata": {},
   "source": [
    "## [572. Subtree of Another Tree (easy)](https://leetcode-cn.com/problems/subtree-of-another-tree/)"
   ]
  },
  {
   "cell_type": "markdown",
   "metadata": {},
   "source": [
    "Given two non-empty binary trees s and t, check whether tree t has exactly the same structure and node values with a subtree of s. A subtree of s is a tree consists of a node in s and all of this node's descendants. The tree s could also be considered as a subtree of itself."
   ]
  },
  {
   "cell_type": "code",
   "execution_count": 4,
   "metadata": {},
   "outputs": [],
   "source": [
    "// 递归\n",
    "\n",
    "public boolean isSubtree(TreeNode s, TreeNode t) {\n",
    "    if(s == null) return false;\n",
    "    if(t == null) return true;\n",
    "    // 如果两棵树相同，那么为true\n",
    "    if(isSame(s, t)) return true;\n",
    "    // 如果不是相同的两棵树，那么再分别判断是不是左子树或右子树的子树\n",
    "    return isSubtree(s.left, t) || isSubtree(s.right, t);\n",
    "}\n",
    "\n",
    "private boolean isSame(TreeNode s, TreeNode t){\n",
    "    if(s == null && t == null) return true;\n",
    "    if(s == null || t == null) return false;\n",
    "    // 两棵树相同必须 1.根结点值相同;2.左右子树都相同\n",
    "    return s.val == t.val && isSame(s.left, t.left) && isSame(s.right, t.right);\n",
    "}"
   ]
  },
  {
   "cell_type": "markdown",
   "metadata": {},
   "source": [
    "<font color='dd0000'>**时间复杂度：**设s的结点数为*N*,t的结点数为*M*,对s的每棵子树,都要去判断是否和t相同,这个过程的复杂度为*O(M)*,s共有*N*棵子树,所以时间复杂度为*O(M×N)*</font>"
   ]
  },
  {
   "cell_type": "markdown",
   "metadata": {},
   "source": [
    "⭐<font color='dd0000'>**用KMP的方法解**，时间复杂度为*O(M＋N)*</font>"
   ]
  },
  {
   "cell_type": "markdown",
   "metadata": {},
   "source": [
    "<font color='dd0000'>将两棵树都序列化成字符串，若*t*是*s*的子串，说明是子树。匹配子字符串用KMP解决。\n",
    "    \n",
    "序列化两棵树的复杂度分别是*O(N)*和*O(M)*，KMP匹配的复杂度是*O(N+M)*，所以总复杂度为*O(N+M)*</font>"
   ]
  },
  {
   "cell_type": "code",
   "execution_count": 8,
   "metadata": {},
   "outputs": [],
   "source": [
    "public boolean isSubtree2(TreeNode s, TreeNode t) {\n",
    "    String s1 = serialByPre(s, true);\n",
    "    String s2 = serialByPre(t, true);\n",
    "    return KMP(s1, s2);\n",
    "}\n",
    "\n",
    "// 序列化方法：!!! 因为要比较子串，所以左右空结点要用不同的符号，并且分隔符应放在数字前面\n",
    "// 例如：s = [12]和 t = [2]：t = 2!#!#! 是 s = 12!#!#! 的子串，但并不是子树\n",
    "public String serialByPre(TreeNode root, boolean isLeft){\n",
    "    if(root == null){\n",
    "        if(isLeft) return \"#lnull\";\n",
    "        else return \"#rnull\";\n",
    "    }\n",
    "    \n",
    "    String res = \"#\" + root.val;\n",
    "    res += serialByPre(root.left, true);\n",
    "    res += serialByPre(root.right, false);\n",
    "    return res;\n",
    "}\n",
    "\n",
    "// 求KMP的next数组\n",
    "public int[] getNext(String pattern){\n",
    "    int[] next = new int[pattern.length()];\n",
    "    next[0] = 0;\n",
    "    int len = 0;\n",
    "    for(int i = 1; i < pattern.length(); i++){\n",
    "        while(len > 0 && pattern.charAt(len) != pattern.charAt(i)){\n",
    "            len = next[len - 1];\n",
    "        }\n",
    "        if(pattern.charAt(len) == pattern.charAt(i)){\n",
    "            len++;\n",
    "        }\n",
    "        next[i] = len;\n",
    "    }\n",
    "    move(next);\n",
    "    return next;\n",
    "}\n",
    "\n",
    "private void move(int[] next){\n",
    "    for(int i = next.length - 1; i > 0; i--)\n",
    "        next[i] = next[i - 1];\n",
    "    next[0] = -1;\n",
    "}\n",
    "\n",
    "// KMP匹配\n",
    "public boolean KMP(String text, String pattern){\n",
    "    int[] next = getNext(pattern);\n",
    "    int i = 0, j = 0;\n",
    "    while(i < text.length()){\n",
    "        if(j == pattern.length() - 1 && text.charAt(i) == pattern.charAt(j)) // 匹配到pattern的最后一位\n",
    "            return true;\n",
    "        \n",
    "        if(text.charAt(i) == pattern.charAt(j)){ // 匹配到，两个指针同时后移\n",
    "            i++;\n",
    "            j++;\n",
    "        } else {  // 匹配失败，pattern的指针j移动到next指示的下标\n",
    "            j = next[j];\n",
    "            if(j == -1){  // 即没有可以跳过比较的前缀，从下一位(i+1)开始从头比较\n",
    "                i++;\n",
    "                j++;\n",
    "            }\n",
    "        }\n",
    "\n",
    "    }\n",
    "    return false;\n",
    "}"
   ]
  },
  {
   "cell_type": "markdown",
   "metadata": {},
   "source": [
    "## [404. Sum of Left Leaves (easy)](https://leetcode-cn.com/problems/sum-of-left-leaves/submissions/)"
   ]
  },
  {
   "cell_type": "markdown",
   "metadata": {},
   "source": [
    "Find the sum of all left leaves in a given binary tree."
   ]
  },
  {
   "cell_type": "code",
   "execution_count": 6,
   "metadata": {},
   "outputs": [],
   "source": [
    "// 自己的解：\n",
    "\n",
    "public int sumOfLeftLeaves(TreeNode root) {\n",
    "    if(root == null) return 0;\n",
    "\n",
    "    int l = solve(root.left, true);\n",
    "    int r = solve(root.right, false);\n",
    "    return l + r;\n",
    "}\n",
    "\n",
    "private int solve(TreeNode root, boolean isLeft){\n",
    "    if(root == null)\n",
    "        return 0;\n",
    "    if(root.left == null && root.right == null && isLeft)\n",
    "        return root.val;\n",
    "    if(root.left == null && root.right == null)\n",
    "        return 0;\n",
    "        \n",
    "    int l = solve(root.left, true);\n",
    "    int r = solve(root.right, false);\n",
    "    return l + r;\n",
    "}"
   ]
  },
  {
   "cell_type": "code",
   "execution_count": 9,
   "metadata": {},
   "outputs": [],
   "source": [
    "// 更简洁的解：\n",
    "\n",
    "int sum = 0;\n",
    "public int sumOfLeftLeaves2(TreeNode root) {\n",
    "    getSum(root, false); // 初始传入false是为了排除根节点就是叶子节点的情况\n",
    "    return sum;\n",
    "}\n",
    "\n",
    "private void getSum(TreeNode root, boolean isLeft){\n",
    "    if(root != null){\n",
    "        if(root.left == null && root.right == null && isLeft)\n",
    "            sum += root.val;\n",
    "        else{\n",
    "            getSum(root.left, true);\n",
    "            getSum(root.right, false);\n",
    "        }\n",
    "    }\n",
    "}"
   ]
  },
  {
   "cell_type": "markdown",
   "metadata": {},
   "source": [
    "## <font color='dddd00'>337. House Robber III (medium)\n",
    "    \n",
    "### See DP. "
   ]
  },
  {
   "cell_type": "markdown",
   "metadata": {},
   "source": [
    "## [671. Second Minimum Node In a Binary Tree (easy)](https://leetcode-cn.com/problems/second-minimum-node-in-a-binary-tree/)"
   ]
  },
  {
   "cell_type": "markdown",
   "metadata": {},
   "source": [
    "Given a non-empty special binary tree consisting of nodes with the non-negative value, where each node in this tree has exactly ```two``` or ```zero``` sub-node. If the node has two sub-nodes, then this node's value is the smaller value among its two sub-nodes. More formally, the property ```root.val = min(root.left.val, root.right.val)``` always holds.\n",
    "\n",
    "Given such a binary tree, you need to output the second minimum value in the set made of all the nodes' value in the whole tree.\n",
    "\n",
    "If no such second minimum value exists, output -1 instead."
   ]
  },
  {
   "cell_type": "markdown",
   "metadata": {},
   "source": [
    "<font color='dd0000'>问题可转换为：在左右子树中分别找到**第一个大于根节点值的点**，若两个值都找到了则返回小的那个，若有一个没找到，即为-1，则返回大的那个</font>"
   ]
  },
  {
   "cell_type": "code",
   "execution_count": 3,
   "metadata": {},
   "outputs": [],
   "source": [
    "public int findSecondMinimumValue(TreeNode root) {\n",
    "    int val = root.val;\n",
    "    return helper(root, val);\n",
    "}\n",
    "\n",
    "private int helper(TreeNode root, int val){  // 找比给定值大的节点\n",
    "    if(root == null) return -1;\n",
    "\n",
    "    if(root.val > val) return root.val;  // 因为此树子节点不小于父节点，所以只要出现第一个比val大的，就返回\n",
    "\n",
    "    int l = helper(root.left, val);\n",
    "    int r = helper(root.right, val);\n",
    "\n",
    "    if(l > 0 && r > 0) return Math.min(l, r); // 两个子树都找到了这个值,取小的那个\n",
    "        \n",
    "    return Math.max(l, r);  // 只有一边找到了或两边都没找到, 返回大于0的或-1\n",
    "}"
   ]
  },
  {
   "cell_type": "markdown",
   "metadata": {},
   "source": [
    "## [637. Average of Levels in Binary Tree (easy)](https://leetcode-cn.com/problems/average-of-levels-in-binary-tree/)"
   ]
  },
  {
   "cell_type": "markdown",
   "metadata": {},
   "source": [
    "Given a non-empty binary tree, return the average value of the nodes on each level in the form of an array."
   ]
  },
  {
   "cell_type": "code",
   "execution_count": 3,
   "metadata": {},
   "outputs": [],
   "source": [
    "// 层序遍历\n",
    "public List<Double> averageOfLevels(TreeNode root) {\n",
    "    List<Double> res = new ArrayList<>();\n",
    "    Queue<TreeNode> q = new LinkedList<>();\n",
    "    if(root != null)\n",
    "        q.offer(root);\n",
    "    while(!q.isEmpty()){\n",
    "        int size = q.size();\n",
    "        double sum = 0;\n",
    "        for(int i = 0; i < size; i++){\n",
    "            TreeNode cur = q.poll();\n",
    "            sum += cur.val;\n",
    "            if(cur.left != null) q.offer(cur.left);\n",
    "            if(cur.right != null) q.offer(cur.right);\n",
    "        }\n",
    "        res.add(sum / size);\n",
    "    }\n",
    "    return res;\n",
    "}"
   ]
  },
  {
   "cell_type": "code",
   "execution_count": 4,
   "metadata": {},
   "outputs": [],
   "source": [
    "// 深度优先遍历\n",
    "// 用一个数组存每一层的结点值之和，用一个数组存每一层的节点个数，最后再逐位相除\n",
    "// 要注意的是int相加越界的问题，表示和的数组要用Double型\n",
    "\n",
    "public List<Double> averageOfLevels2(TreeNode root) {\n",
    "    List<Double> res = new ArrayList<>();  // 保存每一层所有节点之和，下标表示第几层\n",
    "    List<Integer> count = new ArrayList<>();  // 保存每一层的节点数\n",
    "    int h = 0;\n",
    "    dfs(root, res, count, h);\n",
    "    for(int i = 0; i < res.size(); i++)\n",
    "        res.set(i, res.get(i) / count.get(i));\n",
    "    return res;\n",
    "}\n",
    "\n",
    "private void dfs(TreeNode root, List<Double> sum, List<Integer> count, int h){ // h表示层数\n",
    "    if(root == null) return;\n",
    "\n",
    "    // 用数组的size来判断当前递归过程是在第几层 size和层数是对应的\n",
    "    if(h < sum.size()){   // 如果是已经走过的层\n",
    "        sum.set(h, sum.get(h) + root.val);\n",
    "        count.set(h, count.get(h) + 1);\n",
    "    } \n",
    "    else{    // h >= sum.size() 说明是第一次经历这一层\n",
    "        sum.add(1.0 * root.val);  // int -> double\n",
    "        count.add(1);\n",
    "    }\n",
    "    h++;\n",
    "    dfs(root.left, sum, count, h);\n",
    "    dfs(root.right, sum, count, h);\n",
    "}"
   ]
  },
  {
   "cell_type": "markdown",
   "metadata": {},
   "source": [
    "## [513. Find  Bottom Left Tree Value (medium)](https://leetcode-cn.com/problems/find-bottom-left-tree-value/)"
   ]
  },
  {
   "cell_type": "markdown",
   "metadata": {},
   "source": [
    "Given a binary tree, find the leftmost value in the last row of the tree."
   ]
  },
  {
   "cell_type": "code",
   "execution_count": 3,
   "metadata": {},
   "outputs": [],
   "source": [
    "// DFS：不断向下搜索，每到叶子节点就判断当前高度是否是最高高度，若是，则保存节点值\n",
    "// 因为是先搜索左子树后搜索右子树，所以在最高层的时候，先访问的一定是左边的节点，此时记录下值\n",
    "// 之后即使访问到同一高度的其他子树，也不会更新ans\n",
    "\n",
    "int ans = 0;\n",
    "int max = -1;\n",
    "public int findBottomLeftValue(TreeNode root) {\n",
    "    dfs(root, 0);\n",
    "    return ans;\n",
    "}\n",
    "\n",
    "private void dfs(TreeNode root, int h){\n",
    "    if(root == null) return;\n",
    "    if(root.left == null && root.right == null){\n",
    "        if(h > max){\n",
    "            max = h;\n",
    "            ans = root.val;\n",
    "        }\n",
    "    }\n",
    "    dfs(root.left, h + 1);\n",
    "    dfs(root.right, h + 1);\n",
    "}"
   ]
  },
  {
   "cell_type": "code",
   "execution_count": 4,
   "metadata": {},
   "outputs": [],
   "source": [
    "// BFS：因为要求最左边的点，所以从右向左访问，这样最后一个节点就是最左下角\n",
    "\n",
    "public int findBottomLeftValue2(TreeNode root) {\n",
    "    Queue<TreeNode> q = new LinkedList<>();\n",
    "    q.offer(root);\n",
    "    TreeNode ans = root;\n",
    "    while(!q.isEmpty()){\n",
    "        ans = q.poll(); // 最后一个节点就是左下角节点\n",
    "        if(ans.right != null) q.offer(ans.right); // 先右后左\n",
    "        if(ans.left != null) q.offer(ans.left);\n",
    "    }\n",
    "    return ans.val;  // ans还指向最后一个结点\n",
    "}"
   ]
  },
  {
   "cell_type": "markdown",
   "metadata": {},
   "source": [
    "## [669. Trim a Binary Search Tree (easy)](https://leetcode-cn.com/problems/trim-a-binary-search-tree/)"
   ]
  },
  {
   "cell_type": "markdown",
   "metadata": {},
   "source": [
    "Given a binary search tree and the lowest and highest boundaries as ```L``` and ```R```, trim the tree so that all its elements lies in ```[L, R]``` (R >= L). You might need to change the root of the tree, so the result should return the new root of the trimmed binary search tree."
   ]
  },
  {
   "cell_type": "code",
   "execution_count": 4,
   "metadata": {},
   "outputs": [],
   "source": [
    "public TreeNode trimBST(TreeNode root, int L, int R) {\n",
    "    if(root == null)\n",
    "        return null;\n",
    "        \n",
    "    if(root.val < L) return trimBST(root.right, L, R);\n",
    "    if(root.val > L) return trimBST(root.left, L, R);\n",
    "    \n",
    "    root.left = trimBST(root.left, L, R);\n",
    "    root.right = trimBST(root.right, L, R);\n",
    "    return root;\n",
    "}"
   ]
  },
  {
   "cell_type": "markdown",
   "metadata": {},
   "source": [
    "## [230. Kth Smallest Element in a BST (medium)](https://leetcode-cn.com/problems/kth-smallest-element-in-a-bst/)"
   ]
  },
  {
   "cell_type": "markdown",
   "metadata": {},
   "source": [
    "Given a binary search tree, write a function ```kthSmallest``` to find the kth smallest element in it.\n",
    "\n",
    "Note:\n",
    "You may assume k is always valid, 1 ≤ k ≤ BST's total elements."
   ]
  },
  {
   "cell_type": "code",
   "execution_count": 11,
   "metadata": {},
   "outputs": [],
   "source": [
    "// 解法1：中序遍历，把值存在一个List中，最后返回第k-1个元素\n",
    "\n",
    "// 解法2：中序递归，找到了就把值保存，然后返回，不需要遍历一整棵树\n",
    "\n",
    "int ans = -1;\n",
    "int count = 1;\n",
    "\n",
    "public int kthSmallest(TreeNode root, int k) {\n",
    "    dfs(root, k);\n",
    "    return ans;\n",
    "}\n",
    "\n",
    "private void dfs(TreeNode root, int k){\n",
    "    if(root == null){\n",
    "        return;\n",
    "    }\n",
    "\n",
    "    dfs(root.left, k);\n",
    "    if(count == k) ans = root.val;\n",
    "    else if(count > k) return;    // 剪枝,找到了后面就不必再遍历\n",
    "    count++;\n",
    "    dfs(root.right, k);\n",
    "}"
   ]
  },
  {
   "cell_type": "code",
   "execution_count": 4,
   "metadata": {},
   "outputs": [],
   "source": [
    "// 解法3：用栈迭代，相当于模拟上述递归过程\n",
    "\n",
    "public int kthSmallest2(TreeNode root, int k) {\n",
    "    Stack<TreeNode> s = new Stack<>();\n",
    "    \n",
    "    while(true){\n",
    "        while(root != null){\n",
    "            s.push(root);\n",
    "            root = root.left;\n",
    "        }\n",
    "        root = s.pop();\n",
    "        if(--k == 0) return root.val;  // --k\n",
    "        root = root.right;\n",
    "    }\n",
    "}"
   ]
  },
  {
   "cell_type": "markdown",
   "metadata": {},
   "source": [
    "## [538. Convert BST to Greater Tree (easy)](https://leetcode-cn.com/problems/convert-bst-to-greater-tree/)"
   ]
  },
  {
   "cell_type": "markdown",
   "metadata": {},
   "source": [
    "Given a Binary Search Tree (BST), convert it to a Greater Tree such that every key of the original BST is changed to the original key plus sum of all keys greater than the original key in BST."
   ]
  },
  {
   "cell_type": "markdown",
   "metadata": {},
   "source": [
    "<font color='dd0000'>BST按中序遍历的结果就是从小到大，所以找某个节点比它大的所有值，可按照逆序即右->中->左进行遍历，它前面的所有值都比它大，累加到这个节点上即可</font>"
   ]
  },
  {
   "cell_type": "code",
   "execution_count": 3,
   "metadata": {},
   "outputs": [],
   "source": [
    "int preSum = 0; // 保存累加结果\n",
    "public TreeNode convertBST(TreeNode root) {\n",
    "    helper(root);\n",
    "    return root;\n",
    "}\n",
    "\n",
    "private void helper(TreeNode root){\n",
    "    if(root == null) return;\n",
    "    \n",
    "    helper(root.right); // 先递归右子树\n",
    "    root.val += preSum;  // 处理当前节点，把之前的累加和都加到当前节点上\n",
    "    preSum = root.val;  // 更新累加和\n",
    "    helper(root.left);  // 最后处理左子树\n",
    "}"
   ]
  },
  {
   "cell_type": "markdown",
   "metadata": {},
   "source": [
    "## [235. Lowest Common Ancestor of a Binary Search Tree (easy)](https://leetcode-cn.com/problems/lowest-common-ancestor-of-a-binary-search-tree/)"
   ]
  },
  {
   "cell_type": "markdown",
   "metadata": {},
   "source": [
    "Given a binary search tree (BST), find the lowest common ancestor (LCA) of two given nodes in the BST.\n",
    "\n",
    "According to the definition of LCA on Wikipedia: “The lowest common ancestor is defined between two nodes p and q as the lowest node in T that has both p and q as descendants (where we allow a node to be a descendant of itself).”"
   ]
  },
  {
   "cell_type": "markdown",
   "metadata": {},
   "source": [
    "<font color='dd0000'>利用BST的性质即可</font>"
   ]
  },
  {
   "cell_type": "code",
   "execution_count": 5,
   "metadata": {},
   "outputs": [],
   "source": [
    "public TreeNode lowestCommonAncestor(TreeNode root, TreeNode p, TreeNode q) {\n",
    "    if(root == null) return null;\n",
    "\n",
    "    if(p.val < root.val && q.val < root.val)\n",
    "        return lowestCommonAncestor(root.left, p, q);\n",
    "    else if(p.val > root.val && q.val > root.val)\n",
    "        return lowestCommonAncestor(root.right, p, q);\n",
    "    else\n",
    "        return root;\n",
    "}"
   ]
  },
  {
   "cell_type": "markdown",
   "metadata": {},
   "source": [
    "## [236. Lowest Common Ancestor of a Binary Tree (medium)](https://leetcode-cn.com/problems/lowest-common-ancestor-of-a-binary-tree/)"
   ]
  },
  {
   "cell_type": "markdown",
   "metadata": {},
   "source": [
    "Given a binary tree, find the lowest common ancestor (LCA) of two given nodes in the tree.\n",
    "\n",
    "According to the definition of LCA on Wikipedia: “The lowest common ancestor is defined between two nodes p and q as the lowest node in T that has both p and q as descendants (where we allow a node to be a descendant of itself).”\n",
    "\n",
    "Given the following binary tree:  root = [3,5,1,6,2,0,8,null,null,7,4]"
   ]
  },
  {
   "cell_type": "markdown",
   "metadata": {},
   "source": [
    "<font color='dd0000'>从BST变为了普通二叉树，所以对*p、q*的位置判断变得更复杂</font>"
   ]
  },
  {
   "cell_type": "code",
   "execution_count": 12,
   "metadata": {},
   "outputs": [],
   "source": [
    "public TreeNode lowestCommonAncestor(TreeNode root, TreeNode p, TreeNode q) {\n",
    "    if(root == null) return null;\n",
    "\n",
    "    if(root.val == p.val || root.val == q.val)\n",
    "        return root;\n",
    "    // 先直接去找\n",
    "    TreeNode l = lowestCommonAncestor(root.left, p, q);\n",
    "    TreeNode r = lowestCommonAncestor(root.right, p, q);\n",
    "    // 再看找不找得到,因为若找不到会返回null\n",
    "    if(l == null) // 说明p、q都不在左子树，那么公共祖先节点应该从右子树找到，即r\n",
    "        return r;\n",
    "    else if(r == null) // 说明p、q都不在右子树，那么公共祖先节点应该从左子树找到，即l\n",
    "        return l;\n",
    "    return root;  // l、r都不为null，说明肯定左右子树各有一个，那么公共祖先节点就是root\n",
    "}"
   ]
  },
  {
   "cell_type": "markdown",
   "metadata": {},
   "source": [
    "## [108. Convert Sorted Array to Binary Search Tree (easy)](https://leetcode-cn.com/problems/convert-sorted-array-to-binary-search-tree/)"
   ]
  },
  {
   "cell_type": "markdown",
   "metadata": {},
   "source": [
    "Given an array where elements are sorted in ascending order, convert it to a height balanced BST.\n",
    "\n",
    "For this problem, a height-balanced binary tree is defined as a binary tree in which the depth of the two subtrees of every node never differ by more than 1."
   ]
  },
  {
   "cell_type": "code",
   "execution_count": 2,
   "metadata": {},
   "outputs": [],
   "source": [
    "public TreeNode sortedArrayToBST(int[] nums) {\n",
    "    return helper(nums, 0, nums.length - 1);\n",
    "}\n",
    "\n",
    "private TreeNode helper(int[] nums, int left, int right){\n",
    "    if(left > right) return null;\n",
    "    if(left == right) return new TreeNode(nums[left]);\n",
    "\n",
    "    int mid = left + (right - left) / 2;\n",
    "    TreeNode root = new TreeNode(nums[mid]);\n",
    "    root.left = helper(nums, left, mid - 1);\n",
    "    root.right = helper(nums, mid + 1, right);\n",
    "    return root;\n",
    "}"
   ]
  },
  {
   "cell_type": "markdown",
   "metadata": {},
   "source": [
    "<font color='dd0000'>根据选取的中点不同，构造出来的BST结果不唯一</font>"
   ]
  },
  {
   "cell_type": "markdown",
   "metadata": {},
   "source": [
    "## [109. Convert Sorted List to Binary Search Tree (medium)](https://leetcode-cn.com/problems/convert-sorted-list-to-binary-search-tree/)"
   ]
  },
  {
   "cell_type": "markdown",
   "metadata": {},
   "source": [
    "Given a singly linked list where elements are sorted in ascending order, convert it to a height balanced BST.\n",
    "\n",
    "For this problem, a height-balanced binary tree is defined as a binary tree in which the depth of the two subtrees of every node never differ by more than 1."
   ]
  },
  {
   "cell_type": "code",
   "execution_count": 5,
   "metadata": {},
   "outputs": [],
   "source": [
    "// 解法1：按照上题的思路，先把链表转为数组，再根据数组构造树\n",
    "\n",
    "public TreeNode sortedListToBST(ListNode head) {\n",
    "    int[] nums = toArray(head);\n",
    "    return helper(nums, 0, nums.length - 1);\n",
    "}\n",
    "\n",
    "private int[] toArray(ListNode head){\n",
    "    int length = 0;\n",
    "    for(ListNode i = head; i != null; i = i.next)\n",
    "        length++;\n",
    "    int[] nums = new int[length];\n",
    "    int k = 0;\n",
    "    for(ListNode j = head; j != null; j = j.next){\n",
    "        nums[k] = j.val;\n",
    "        k++;\n",
    "    } \n",
    "    return nums;\n",
    "}\n",
    "\n",
    "private TreeNode helper(int[] nums, int left, int right){\n",
    "    if(left > right) return null;\n",
    "    if(left == right) return new TreeNode(nums[left]);\n",
    "\n",
    "    int mid = left + (right - left) / 2;\n",
    "    TreeNode root = new TreeNode(nums[mid]);\n",
    "    root.left = helper(nums, left, mid - 1);\n",
    "    root.right = helper(nums, mid + 1, right);\n",
    "    return root;\n",
    "}"
   ]
  },
  {
   "cell_type": "code",
   "execution_count": 7,
   "metadata": {},
   "outputs": [],
   "source": [
    "// 解法2：用快慢指针直接定位链表中点\n",
    "//        注意还需要一个prev节点，在递归前半部分时，把prev的next设为null\n",
    "\n",
    "public TreeNode sortedListToBST2(ListNode head) {\n",
    "    if(head == null) return null;\n",
    "    if(head.next == null) return new TreeNode(head.val);\n",
    "        \n",
    "    ListNode slow = head;\n",
    "    ListNode fast = head;\n",
    "    ListNode prev = head;\n",
    "    while(fast != null && fast.next != null){  // 这种判断条件,slow最后会落在length/2的后一个点\n",
    "        slow = slow.next;                      // 避免出现prev == slow的情况,导致下面对prev的循环死掉(链表只有两个节点的情况)\n",
    "        fast = fast.next.next;\n",
    "    }\n",
    "    while(prev.next != slow){  // prev移到slow前一个,截取前半部分链表\n",
    "        prev = prev.next;\n",
    "    }\n",
    "    TreeNode root = new TreeNode(slow.val);\n",
    "    prev.next = null;  // !!!重要\n",
    "    root.left = sortedListToBST(head);\n",
    "    root.right = sortedListToBST(slow.next);\n",
    "    return root;\n",
    "}"
   ]
  },
  {
   "cell_type": "markdown",
   "metadata": {},
   "source": [
    "## [653. Two Sum IV - Input is a BST (easy)](https://leetcode-cn.com/problems/two-sum-iv-input-is-a-bst/)"
   ]
  },
  {
   "cell_type": "markdown",
   "metadata": {},
   "source": [
    "Given a Binary Search Tree and a target number, return true if there exist two elements in the BST such that their sum is equal to the given target."
   ]
  },
  {
   "cell_type": "code",
   "execution_count": 8,
   "metadata": {},
   "outputs": [],
   "source": [
    "// 解法1：用HashSet保存节点值，遍历树时，比较target和当前节点的差值是否在Set中\n",
    "\n",
    "public boolean findTarget(TreeNode root, int k) {\n",
    "    Set<Integer> set = new HashSet<>();\n",
    "    return find(root, k, set);\n",
    "}\n",
    "\n",
    "private boolean find(TreeNode root, int k, Set<Integer> set){\n",
    "    if(root == null) return false;\n",
    "\n",
    "    if(set.contains(k - root.val)) return true;\n",
    "    else set.add(root.val);\n",
    "    return find(root.left, k, set) || find(root.right, k, set);\n",
    " }"
   ]
  },
  {
   "cell_type": "code",
   "execution_count": 9,
   "metadata": {},
   "outputs": [],
   "source": [
    "// 解法2：利用BST的特点，先中序遍历把树存入数组中，对有序数组用双指针做Two Sum\n",
    "\n",
    "public boolean findTarget2(TreeNode root, int k) {\n",
    "    List<Integer> list = new ArrayList<>();\n",
    "    inorder(root, list);\n",
    "    int i = 0, j = list.size() - 1;\n",
    "    while(i < j){\n",
    "        if(list.get(i) + list.get(j) == k)\n",
    "            return true;\n",
    "        if(list.get(i) + list.get(j) > k)\n",
    "            j--;\n",
    "        if(list.get(i) + list.get(j) < k)\n",
    "            i++;\n",
    "    }\n",
    "    return false;\n",
    "}\n",
    "\n",
    "private void inorder(TreeNode root, List<Integer> list){\n",
    "    if(root == null) return;\n",
    "\n",
    "    inorder(root.left, list);\n",
    "    list.add(root.val);\n",
    "    inorder(root.right, list);\n",
    "}"
   ]
  },
  {
   "cell_type": "markdown",
   "metadata": {},
   "source": [
    "## [530. Minimum Absolute Difference in BST (easy)](https://leetcode-cn.com/problems/minimum-absolute-difference-in-bst/)"
   ]
  },
  {
   "cell_type": "markdown",
   "metadata": {},
   "source": [
    "Given a binary search tree with non-negative values, find the minimum absolute difference between values of any two nodes."
   ]
  },
  {
   "cell_type": "code",
   "execution_count": 13,
   "metadata": {},
   "outputs": [],
   "source": [
    "int min = Integer.MAX_VALUE;\n",
    "Integer prev = null;  //!!!将整型值设为包装类型，方便处理初始值不好设\n",
    "public int getMinimumDifference(TreeNode root) {\n",
    "    inorder(root);\n",
    "    return min;\n",
    "}\n",
    "\n",
    "private void inorder(TreeNode root){\n",
    "    if(root == null)\n",
    "        return;\n",
    "\n",
    "    inorder(root.left);\n",
    "    if(prev == null){   // 通过prev为不为空来判断是否是第一次处理\n",
    "        prev = root.val;\n",
    "    } else{\n",
    "        int diff = root.val - prev;\n",
    "        if(diff < min) min = diff;\n",
    "        prev = root.val;\n",
    "    }\n",
    "    inorder(root.right);\n",
    "}"
   ]
  },
  {
   "cell_type": "markdown",
   "metadata": {},
   "source": [
    "## [501. Find Mode in Binary Search Tree (easy)](https://leetcode-cn.com/problems/find-mode-in-binary-search-tree/)"
   ]
  },
  {
   "cell_type": "markdown",
   "metadata": {},
   "source": [
    "Given a binary search tree (BST) with duplicates, find all the mode(s) (the most frequently occurred element) in the given BST."
   ]
  },
  {
   "cell_type": "code",
   "execution_count": 5,
   "metadata": {},
   "outputs": [],
   "source": [
    "// 使用了额外空间List，遍历一次，遍历的同时对List进行删除和增加\n",
    "// 对不使用额外空间的要求，仍需要一个List来保存，因为结果可能不止一个\n",
    "// 进行两次遍历，第一次记录最多的次数；第二次把具有最多次数的节点加入List，这样可以避免多次删除和增加操作\n",
    "// 但最后还是需要把List再转为数组\n",
    "\n",
    "TreeNode prev;\n",
    "int count = 0;\n",
    "int max = 0;\n",
    "List<Integer> res = new ArrayList<>();\n",
    "public int[] findMode(TreeNode root) {\n",
    "    helper(root);\n",
    "    int[] a = new int[res.size()];\n",
    "    for(int i = 0; i < res.size(); i++)\n",
    "        a[i] = res.get(i);\n",
    "    return a;\n",
    "}\n",
    "\n",
    "private void helper(TreeNode root){\n",
    "    if(root == null) return;\n",
    "\n",
    "    helper(root.left);\n",
    "    if(prev != null){\n",
    "        if(root.val == prev.val)\n",
    "            count++;\n",
    "        else\n",
    "            count = 1;\n",
    "                \n",
    "        if(count == max){\n",
    "            res.add(root.val);\n",
    "        }\n",
    "        else if(count > max){\n",
    "            res.clear();\n",
    "            res.add(root.val);\n",
    "            max = count;\n",
    "        } \n",
    "    }\n",
    "    else{\n",
    "        count++;\n",
    "        max = count;\n",
    "        res.add(root.val);\n",
    "    }\n",
    "    prev = root;\n",
    "    helper(root.right);\n",
    "}"
   ]
  },
  {
   "cell_type": "markdown",
   "metadata": {},
   "source": [
    "## 94/144/145. Binary Tree Inorder/Preorder/<font color='dddd00'>Postorder</font> Traversal"
   ]
  },
  {
   "cell_type": "markdown",
   "metadata": {},
   "source": [
    "<font color='dd0000'>非递归解法：</font>"
   ]
  },
  {
   "cell_type": "code",
   "execution_count": 15,
   "metadata": {},
   "outputs": [],
   "source": [
    "// 中序\n",
    "public List<Integer> inorder(TreeNode root){\n",
    "    List<Integer> res = new ArrayList<>();\n",
    "    Stack<TreeNode> s = new Stack<>();\n",
    "    TreeNode cur = root;\n",
    "    while(cur != null || !s.isEmpty()){\n",
    "        if(cur != null){\n",
    "            s.push(cur);\n",
    "            cur = cur.left;\n",
    "        } else {\n",
    "            cur = s.pop();\n",
    "            res.add(cur.val);\n",
    "            cur = cur.right;\n",
    "        }\n",
    "    }\n",
    "    return res;\n",
    "}"
   ]
  },
  {
   "cell_type": "code",
   "execution_count": 19,
   "metadata": {},
   "outputs": [],
   "source": [
    "// 前序\n",
    "public List<Integer> preorder(TreeNode root){\n",
    "    List<Integer> res = new ArrayList<>();\n",
    "    Stack<TreeNode> s = new Stack<>();\n",
    "    TreeNode cur = root;\n",
    "    while(cur != null || !s.isEmpty()){\n",
    "        if(cur != null){\n",
    "            res.add(cur.val);\n",
    "            s.push(cur);    // 当前节点入栈,用于后续回溯\n",
    "            cur = cur.left; // 不断看左子节点\n",
    "        } else{\n",
    "            cur = s.peek().right; // 当走到某个节点的左子节点为空时,从栈中取出它,再看它的右子节点\n",
    "            s.pop();\n",
    "        }\n",
    "    }\n",
    "    return res;\n",
    "}\n",
    "\n",
    "// 另一种写法\n",
    "public List<Integer> preorder2(TreeNode root){\n",
    "    List<Integer> res = new ArrayList<>();\n",
    "    Stack<TreeNode> s = new Stack<>();\n",
    "    if(root != null)\n",
    "        s.push(root);\n",
    "    while(!s.isEmpty()){\n",
    "        TreeNode node = s.pop();\n",
    "        res.add(node.val);\n",
    "        if(node.right != null)\n",
    "            s.push(node.right);\n",
    "        if(node.left != null)\n",
    "            s.push(node.left);\n",
    "    }\n",
    "    return res;\n",
    "}"
   ]
  },
  {
   "cell_type": "code",
   "execution_count": 4,
   "metadata": {},
   "outputs": [],
   "source": [
    "// 后序\n",
    "/* 后序的访问顺序是 left -> right -> root\n",
    " * 先写出root -> right -> left的遍历过程(这与前序类似，更简单)，再把结果反转，得到后序的结果(或者访问时直接从前面插入List)\n",
    " */\n",
    " \n",
    " public List<Integer> postorder(TreeNode root){\n",
    "    List<Integer> res = new ArrayList<>();\n",
    "    Stack<TreeNode> s = new Stack<>();\n",
    "    TreeNode cur = root;\n",
    "    while(cur != null || !s.isEmpty()){\n",
    "        if(cur != null){\n",
    "            res.add(cur.val);\n",
    "            s.push(cur);\n",
    "            cur = cur.right;    // 注意先去访问right\n",
    "        } else {\n",
    "            cur = s.peek().left;\n",
    "            s.pop();\n",
    "        }\n",
    "    }\n",
    "    Collections.reverse(res);\n",
    "    return res;\n",
    " }\n",
    "\n",
    "// 用两个栈进行后序遍历\n",
    " public List<Integer> postorder2(TreeNode root){\n",
    "     List<Integer> res = new ArrayList<>();\n",
    "     Stack<TreeNode> s1 = new Stack<>();\n",
    "     Stack<TreeNode> s2 = new Stack<>();\n",
    "     if(root != null)\n",
    "         s1.push(root);\n",
    "     while(!s1.isEmpty()){\n",
    "         TreeNode cur = s1.pop();\n",
    "         s2.push(cur);                              // 每次根先进s2\n",
    "         if(cur.left != null) s1.push(cur.left);   // 对s1,左子节点先进右子节点后进\n",
    "         if(cur.right != null) s1.push(cur.right); // 则在s2中就是左子节点在栈顶右子节点在栈顶\n",
    "     }                                             // 最终从s2中弹出的顺序就是left -> right -> root\n",
    "     while(!s2.isEmpty()){\n",
    "         res.add(s2.pop().val);\n",
    "     }\n",
    "     return res;\n",
    " }\n",
    "\n",
    "// 只用一个栈进行后序遍历，使用两个额外变量来保存【当前栈顶节点】和【上一次处理的节点】\n",
    "public List<Integer> postorder3(TreeNode root){\n",
    "    List<Integer> res = new ArrayList<>();\n",
    "    Stack<TreeNode> s = new Stack<>();\n",
    "    TreeNode c = null; // 保存当前栈顶结点\n",
    "    TreeNode h = root; // 保存上一次处理的结点，初始化为root\n",
    "    if(root != null){\n",
    "        s.push(root);\n",
    "    }\n",
    "    while(!s.isEmpty()){                // 要点：根节点和它的两个子节点一定是连续被处理的，只有两个子节点处理了才处理根节点\n",
    "        c = s.peek();                   // 入栈的顺序不能变\n",
    "        if(c.left != null && h != c.left && h != c.right){ // 【第1种情况】,上次处理的结点h既不是当前栈顶结点c的左子结点或右子结点\n",
    "            s.push(c.left);                               // 说明c的左子树一定还未被处理(因为不论h是左子还是右子,都说明c的左子树已被处理)\n",
    "        }                                                 // 所以把左子节点入栈\n",
    "        else if(c.right != null && h != c.right){         // 【第2种情况】,c的左子结点为空或已被处理,就看右子结点有没有被处理\n",
    "            s.push(c.right);                               // 若没有,就把右子节点入栈\n",
    "        }\n",
    "        else {                                            // 剩下的情况,就是左子树和右子树都被处理过了,则处理当前节点\n",
    "            res.add(c.val); \n",
    "            s.pop();\n",
    "            h = c;\n",
    "        }\n",
    "    }\n",
    "    return res;\n",
    "}"
   ]
  },
  {
   "cell_type": "markdown",
   "metadata": {},
   "source": [
    "## [102. Binary Tree Level Order Traversal (medium)](https://leetcode-cn.com/problems/binary-tree-level-order-traversal/)"
   ]
  },
  {
   "cell_type": "markdown",
   "metadata": {},
   "source": [
    "Given a binary tree, return the level order traversal of its nodes' values. (ie, from left to right, level by level)."
   ]
  },
  {
   "cell_type": "code",
   "execution_count": null,
   "metadata": {},
   "outputs": [],
   "source": [
    "// BFS\n",
    "public List<List<Integer>> levelOrder(TreeNode root) {\n",
    "    List<List<Integer>> res = new ArrayList<>();\n",
    "    if(root == null){\n",
    "        return res;\n",
    "    }\n",
    "    Queue<TreeNode> q = new LinkedList<>();\n",
    "    q.offer(root);\n",
    "    while(!q.isEmpty()){\n",
    "        int size = q.size();\n",
    "        List<Integer> layer = new ArrayList<>();\n",
    "        for(int i = 0; i < size; i++){\n",
    "            TreeNode cur = q.poll();\n",
    "            layer.add(cur.val);\n",
    "            if(cur.left != null){\n",
    "                q.offer(cur.left);\n",
    "            }\n",
    "            if(cur.right != null){\n",
    "                q.offer(cur.right);\n",
    "            }\n",
    "        }\n",
    "        res.add(layer);\n",
    "    }\n",
    "    return res;\n",
    "}\n",
    "\n",
    "//DFS\n",
    "List<List<Integer>> res = new ArrayList<>();\n",
    "public List<List<Integer>> levelOrder(TreeNode root) {\n",
    "    dfs(root, 0);\n",
    "    return res;\n",
    "}\n",
    "\n",
    "private void dfs(TreeNode root, int n){ // n表示层数\n",
    "    if(root == null){\n",
    "        return;\n",
    "    }\n",
    "\n",
    "    if(n == res.size()){  // 第一次进入第n层，new一个list\n",
    "        List<Integer> list = new ArrayList<>();\n",
    "        res.add(list);\n",
    "    }\n",
    "    res.get(n).add(root.val); // 当前节点加入当前层的list中\n",
    "    dfs(root.left, n + 1);\n",
    "    dfs(root.right, n + 1);\n",
    "}"
   ]
  },
  {
   "cell_type": "markdown",
   "metadata": {},
   "source": [
    "## [107. Binary Tree Level Order Traversal II (easy)](https://leetcode-cn.com/problems/binary-tree-level-order-traversal-ii/)"
   ]
  },
  {
   "cell_type": "markdown",
   "metadata": {},
   "source": [
    "Given a binary tree, return the bottom-up level order traversal of its nodes' values. (ie, from left to right, level by level from leaf to root)."
   ]
  },
  {
   "cell_type": "markdown",
   "metadata": {},
   "source": [
    "<font color='dd0000'>和上题一样，不过将结果改为用```LinkedList```保存，这样将底层的从头进行插入</font>"
   ]
  },
  {
   "cell_type": "code",
   "execution_count": 3,
   "metadata": {},
   "outputs": [],
   "source": [
    "// BFS\n",
    "public List<List<Integer>> levelOrderBottom(TreeNode root) {\n",
    "    LinkedList<List<Integer>> res = new LinkedList<>();\n",
    "    if(root == null){\n",
    "        return res;\n",
    "    }\n",
    "    Queue<TreeNode> q = new LinkedList<>();\n",
    "    q.offer(root);\n",
    "    while(!q.isEmpty()){\n",
    "        int size = q.size();\n",
    "        List<Integer> list = new ArrayList<>();\n",
    "        for(int i = 0; i < size; i++){\n",
    "            TreeNode cur = q.poll();\n",
    "            list.add(cur.val);\n",
    "            if(cur.left != null){\n",
    "                q.offer(cur.left);\n",
    "            }\n",
    "            if(cur.right != null){\n",
    "                q.offer(cur.right);\n",
    "            }\n",
    "        }\n",
    "        res.addFirst(list);\n",
    "    }\n",
    "    return res;\n",
    "}\n",
    "\n",
    "// DFS如果用LinkedList不方便根据索引访问，所以仍用ArrayList，不过添加时用add(0, list)加在头部"
   ]
  },
  {
   "cell_type": "markdown",
   "metadata": {},
   "source": [
    "## [208. Implement Trie (Prefix Tree) (medium)](https://leetcode-cn.com/problems/implement-trie-prefix-tree/)"
   ]
  },
  {
   "cell_type": "markdown",
   "metadata": {},
   "source": [
    "Implement a trie with insert, search, and startsWith methods."
   ]
  },
  {
   "cell_type": "markdown",
   "metadata": {},
   "source": [
    "https://leetcode-cn.com/problems/implement-trie-prefix-tree/"
   ]
  },
  {
   "cell_type": "code",
   "execution_count": 2,
   "metadata": {},
   "outputs": [],
   "source": [
    "class Trie {\n",
    "    class TrieNode{\n",
    "        private final int N = 26;\n",
    "        boolean isEnd;   // 标记该节点是不是一个完整的串\n",
    "        TrieNode[] children;  // 保存该节点的子节点\n",
    "\n",
    "        public TrieNode(){\n",
    "            isEnd = false;\n",
    "            children = new TrieNode[N];  //字符范围是小写字母,所以每个节点最多有26个子节点,用数组保存\n",
    "        }\n",
    "    }\n",
    "\n",
    "    TrieNode root;\n",
    "\n",
    "    /** Initialize your data structure here. */\n",
    "    public Trie() {\n",
    "        root = new TrieNode();\n",
    "    }\n",
    "    \n",
    "    /** Inserts a word into the trie. */\n",
    "    public void insert(String word) {\n",
    "        TrieNode cur = root;\n",
    "        for(int i = 0; i < word.length(); i++){\n",
    "            int index = word.charAt(i) - 'a';  // 遍历word的每个字符\n",
    "            if(cur.children[index] == null)\n",
    "                cur.children[index] = new TrieNode(); // 如果还没有该字符的节点,就创建出来\n",
    "            cur = cur.children[index];\n",
    "        }\n",
    "        cur.isEnd = true;  // 在最后一个节点处标记到这个节点是个完整的串\n",
    "    }\n",
    "    \n",
    "    /** Returns if the word is in the trie. */\n",
    "    public boolean search(String word) {\n",
    "        TrieNode node = find(word);\n",
    "        return node != null && node.isEnd;  // 同时满足能查找到word且word是完整的串才返回true\n",
    "    }\n",
    "    \n",
    "    /** Returns if there is any word in the trie that starts with the given prefix. */\n",
    "    public boolean startsWith(String prefix) {\n",
    "        return find(prefix) != null;  // 只要查到了有这个prefix在树里,就返回true\n",
    "    }\n",
    "\n",
    "    private TrieNode find(String str){   // search和startsWith方法都要查找输入的字符串,所以定义一个公用的find方法\n",
    "        TrieNode cur = root;\n",
    "        for(int i = 0; i < str.length(); i++){\n",
    "            int index = str.charAt(i) - 'a';\n",
    "            if(cur.children[index] == null) return null;  // 如果输入的字符串不在现有的树里,就返回null\n",
    "            cur = cur.children[index];\n",
    "        }\n",
    "        return cur;  // 查找结束,返回最后那个节点\n",
    "    }\n",
    "}"
   ]
  },
  {
   "cell_type": "markdown",
   "metadata": {},
   "source": [
    "## [⭐677. Map Sum Pairs (medium)](https://leetcode-cn.com/problems/map-sum-pairs/)"
   ]
  },
  {
   "cell_type": "markdown",
   "metadata": {},
   "source": [
    "Implement a MapSum class with ```insert```, and ```sum``` methods.\n",
    "\n",
    "For the method ```insert```, you'll be given a pair of (string, integer). The string represents the key and the integer represents the value. If the key already existed, then the original key-value pair will be overridden to the new one.\n",
    "\n",
    "For the method ```sum```, you'll be given a string representing the prefix, and you need to return the sum of all the pairs' value whose key starts with the prefix."
   ]
  },
  {
   "cell_type": "code",
   "execution_count": 3,
   "metadata": {},
   "outputs": [],
   "source": [
    "// 方法1：用trie,每个节点都保存以它为前缀的所有和\n",
    "class MapSum {\n",
    "    class TrieNode{\n",
    "        private final int N = 128;\n",
    "        int value;   // 保存前缀和\n",
    "        TrieNode[] children;\n",
    "\n",
    "        public TrieNode(){\n",
    "            value = 0;\n",
    "            children = new TrieNode[N];\n",
    "        }\n",
    "    }\n",
    "\n",
    "    TrieNode root;\n",
    "    Map<String, Integer> map;\n",
    "\n",
    "    /** Initialize your data structure here. */\n",
    "    public MapSum() {\n",
    "        root = new TrieNode();\n",
    "        map = new HashMap<>();\n",
    "    }\n",
    "    \n",
    "    public void insert(String key, int val) {\n",
    "        // 插入的时候要考虑key是否已存在\n",
    "        // 如果存在就用差值来更新路径上的每个节点\n",
    "        // 所以要用一个HashMap来保存(key, val)对,用来查询旧值\n",
    "        int diff = val;\n",
    "        if(map.containsKey(key))\n",
    "            diff -= map.get(key);\n",
    "        TrieNode cur = root;\n",
    "        for(int i = 0; i < key.length(); i++){\n",
    "            int index = key.charAt(i);\n",
    "            if(cur.children[index] == null){  // 如果节点不存在就new\n",
    "                cur.children[index] = new TrieNode();\n",
    "            }\n",
    "            cur = cur.children[index];\n",
    "            cur.value += diff;  // 更新每个节点处的前缀和\n",
    "        }\n",
    "        map.put(key, val); // 更新map\n",
    "    }\n",
    "    \n",
    "    public int sum(String prefix) {\n",
    "        // 只需遍历到prefix的最后一个节点,返回它的value即可\n",
    "        // 如果没有找到prefix,就返回0\n",
    "        TrieNode cur = root;\n",
    "        for(int i = 0; i < prefix.length(); i++){\n",
    "            int index = prefix.charAt(i);\n",
    "            if(cur.children[index] == null) return 0;\n",
    "            cur = cur.children[index];\n",
    "        }\n",
    "        return cur.value;\n",
    "    }\n",
    "}"
   ]
  },
  {
   "cell_type": "code",
   "execution_count": 5,
   "metadata": {},
   "outputs": [],
   "source": [
    "// 方法2：用两个哈希表实现.一个用来保存所有的(String, val),一个用来保存所有的(prefix, val)\n",
    "class MapSum2 {\n",
    "    Map<String, Integer> map;\n",
    "    Map<String, Integer> prefixSum;\n",
    "    \n",
    "    /** Initialize your data structure here. */\n",
    "    public MapSum2() {\n",
    "        map = new HashMap<>();\n",
    "        prefixSum = new HashMap<>();\n",
    "    }\n",
    "    \n",
    "    public void insert(String key, int val) {\n",
    "        // 同样要考虑key是否存在,若存在,就用差值更新所有的前缀\n",
    "        int diff = val;\n",
    "        if(map.containsKey(key))\n",
    "            diff -= map.get(key);\n",
    "        // 更新key的所有前缀,取key的每一个前缀子串,更新prefixSum\n",
    "        for(int i = 0; i < key.length(); i++){\n",
    "            String str = key.substring(0, i + 1);\n",
    "            if(!prefixSum.containsKey(str)){  // 如果该前缀还不存在,就直接put(str,diff)\n",
    "                prefixSum.put(str, diff);\n",
    "            } else {  // 如果存在,取出原值加上diff再更新\n",
    "                int value = prefixSum.get(str);\n",
    "                value += diff;\n",
    "                prefixSum.put(str, value);\n",
    "            }\n",
    "        }\n",
    "        map.put(key, val); // 不要忘记把原串加入map中\n",
    "    }\n",
    "    \n",
    "    public int sum(String prefix) {\n",
    "        // 求前缀和直接访问prefixSum即可\n",
    "        if(!prefixSum.containsKey(prefix)) return 0;\n",
    "        return prefixSum.get(prefix);\n",
    "    }\n",
    "}"
   ]
  },
  {
   "cell_type": "markdown",
   "metadata": {},
   "source": [
    "## [199. Binary Tree Right Side View (medium)](https://leetcode-cn.com/problems/binary-tree-right-side-view/)"
   ]
  },
  {
   "cell_type": "markdown",
   "metadata": {},
   "source": [
    "Given a binary tree, imagine yourself standing on the right side of it, return the values of the nodes you can see ordered from top to bottom."
   ]
  },
  {
   "cell_type": "markdown",
   "metadata": {},
   "source": [
    "<font color='dd0000'>解法1：BFS。层序遍历，每次只取最右边的节点</font>"
   ]
  },
  {
   "cell_type": "code",
   "execution_count": 2,
   "metadata": {},
   "outputs": [],
   "source": [
    "public List<Integer> rightSideView(TreeNode root) {\n",
    "    List<Integer> res = new ArrayList<>();\n",
    "    if(root == null){\n",
    "        return res;\n",
    "    }\n",
    "    Queue<TreeNode> q = new LinkedList<>();\n",
    "    q.offer(root);\n",
    "    while(!q.isEmpty()){\n",
    "        int size = q.size();\n",
    "        for(int i = 0; i < size; i++){\n",
    "            TreeNode cur = q.poll();\n",
    "            if(i == size - 1){\n",
    "                res.add(cur.val);\n",
    "            }\n",
    "            if(cur.left != null) q.offer(root.left);\n",
    "            if(cur.right != null) q.offer(root.right);\n",
    "        }\n",
    "    }\n",
    "    return res;\n",
    "}"
   ]
  },
  {
   "cell_type": "markdown",
   "metadata": {},
   "source": [
    "<font color='dd0000'>解法2：DFS。按照【根 -> 右节点 -> 左节点】深度优先搜索树，记录访问的层数，只在第一次访问时加入结果列表</font>"
   ]
  },
  {
   "cell_type": "code",
   "execution_count": 3,
   "metadata": {},
   "outputs": [],
   "source": [
    "List<Integer> res;\n",
    "public List<Integer> rightSideView2(TreeNode root) {\n",
    "    res = new ArrayList<>();\n",
    "    dfs(root, 0);\n",
    "    return res;\n",
    "}\n",
    "\n",
    "private void dfs(TreeNode root, int n){\n",
    "    if(root == null) return;\n",
    "    \n",
    "    if(res.size() == n){\n",
    "        res.add(root.val);\n",
    "    }\n",
    "    dfs(root.right, n + 1);\n",
    "    dfs(root.left, n + 1);\n",
    "}"
   ]
  },
  {
   "cell_type": "markdown",
   "metadata": {},
   "source": [
    "## [98. Validate Binary Search Tree (medium)](https://leetcode-cn.com/problems/validate-binary-search-tree/)"
   ]
  },
  {
   "cell_type": "markdown",
   "metadata": {},
   "source": [
    "Given a binary tree, determine if it is a valid binary search tree (BST).\n",
    "\n",
    "Assume a BST is defined as follows:\n",
    "\n",
    "- The left subtree of a node contains only nodes with keys **less than** the node's key.\n",
    "- The right subtree of a node contains only nodes with keys **greater than** the node's key.\n",
    "- Both the left and right subtrees must also be binary search trees."
   ]
  },
  {
   "cell_type": "markdown",
   "metadata": {},
   "source": [
    "<font color='dd0000'>检查给定二叉树中序遍历是否是严格升序的，如果是，则说明是BST，否则不是BST。进行中序遍历，比较当前值和前一个值</font>"
   ]
  },
  {
   "cell_type": "code",
   "execution_count": 3,
   "metadata": {},
   "outputs": [],
   "source": [
    "Integer pre = null; // 用Integer类型来控制第一次处理的情况\n",
    "boolean res = true;\n",
    "public boolean isValidBST(TreeNode root) {\n",
    "    dfs(root);\n",
    "    return res;\n",
    "}\n",
    "\n",
    "private void dfs(TreeNode root){\n",
    "    if(root == null){\n",
    "        return;\n",
    "    }\n",
    "    dfs(root.left);\n",
    "    int value = root.val;\n",
    "    if(pre != null){\n",
    "        if(value <= pre){\n",
    "            res = false;\n",
    "        }\n",
    "    }\n",
    "    pre = value;\n",
    "    dfs(root.right);\n",
    "}"
   ]
  },
  {
   "cell_type": "markdown",
   "metadata": {},
   "source": [
    "## [105. Construct Binary Tree from Preorder and Inorder Traversal (medium)](https://leetcode-cn.com/problems/construct-binary-tree-from-preorder-and-inorder-traversal/)"
   ]
  },
  {
   "cell_type": "markdown",
   "metadata": {},
   "source": [
    "Given preorder and inorder traversal of a tree, construct the binary tree.\n",
    "\n",
    "**Note:**\n",
    "You may assume that duplicates do not exist in the tree."
   ]
  },
  {
   "cell_type": "code",
   "execution_count": 2,
   "metadata": {},
   "outputs": [],
   "source": [
    "int[] _preorder;\n",
    "int[] _inorder;\n",
    "public TreeNode buildTree(int[] preorder, int[] inorder) {\n",
    "    if(preorder.length < 1){\n",
    "        return null;\n",
    "    }\n",
    "    _preorder = preorder;\n",
    "    _inorder = inorder;\n",
    "    return helper(0, preorder.length - 1, 0, inorder.length - 1);\n",
    "}\n",
    "\n",
    "// i,j表示前序数组的起点和终点；x,y表示中序数组的起点和终点\n",
    "// x~y表示了某个子树的所有节点，i~j包含了这棵子树的根节点的所有可能\n",
    "private TreeNode helper(int i, int j, int x, int y){\n",
    "    if(x > y){\n",
    "        return null;  // 起点大于终点，返回null\n",
    "    }\n",
    "    if(x == y){\n",
    "        return new TreeNode(_inorder[x]); // 起点和终点相同，说明就只有一个节点\n",
    "    }\n",
    "    \n",
    "    TreeNode root = new TreeNode(_preorder[i]); // 前序数组的起始节点一定是这个子树的根节点\n",
    "    \n",
    "    for(int k = x; k <= y; k++){\n",
    "        if(_inorder[k] == _preorder[i]){  // 在中序数组中找到当前根节点的位置，此位置左边范围就是根节点的左子树，右边范围就是右子树\n",
    "            root.left = helper(i + 1, j, x, k - 1);  // \n",
    "            root.right = helper(i + 1 + k - x, j, k + 1, y);\n",
    "        }\n",
    "    }\n",
    "    return root;\n",
    "}"
   ]
  },
  {
   "cell_type": "markdown",
   "metadata": {},
   "source": [
    "<font color='dd0000'>在上面的方法中，每次在中序数组中找根节点的位置都要遍历一遍数组，可以用一个哈希表，事先存储中序数组中【值和下标的映射】，这样就可以$O(1)$时间直接定位到下标</font>"
   ]
  },
  {
   "cell_type": "code",
   "execution_count": 3,
   "metadata": {},
   "outputs": [],
   "source": [
    "int[] _preorder;\n",
    "int[] _inorder;\n",
    "Map<Integer, Integer> map; // 保存中序数组中根和下标的映射 快速定位到k\n",
    "public TreeNode buildTree(int[] preorder, int[] inorder) {\n",
    "    if(preorder.length < 1){\n",
    "        return null;\n",
    "    }\n",
    "    _preorder = preorder;\n",
    "    _inorder = inorder;\n",
    "    map = new HashMap<>();\n",
    "    for(int i = 0; i < inorder.length; i++){ // 记录值和下标\n",
    "        map.put(inorder[i], i);\n",
    "    }\n",
    "    return helper(0, preorder.length - 1, 0, inorder.length - 1);\n",
    "}\n",
    "\n",
    "private TreeNode helper(int i, int j, int x, int y){\n",
    "    if(x > y){\n",
    "        return null;\n",
    "    }\n",
    "    if(x == y){\n",
    "        return new TreeNode(_inorder[x]);\n",
    "    }\n",
    "    int value = _preorder[i];\n",
    "    TreeNode root = new TreeNode(value);\n",
    "    int k = map.get(value);  // 直接在哈希表中查根节点值对应的下标\n",
    "    root.left = helper(i + 1, j, x, k - 1);\n",
    "    root.right = helper(i + 1 + k - x, j, k + 1, y);          \n",
    "    return root;\n",
    "}"
   ]
  },
  {
   "cell_type": "markdown",
   "metadata": {},
   "source": [
    "## [1028. Recover a Tree From Preorder Traversal (hard)](https://leetcode-cn.com/problems/recover-a-tree-from-preorder-traversal/)"
   ]
  },
  {
   "cell_type": "markdown",
   "metadata": {},
   "source": [
    "We run a preorder depth first search on the ```root``` of a binary tree.\n",
    "\n",
    "At each node in this traversal, we output ```D``` dashes (where ```D``` is the depth of this node), then we output the value of this node.  (If the depth of a node is ```D```, the depth of its immediate child is ```D+1```.  The depth of the root node is ```0```.)\n",
    "\n",
    "If a node has only one child, that child is guaranteed to be the **left** child.\n",
    "\n",
    "Given the output ```S``` of this traversal, recover the tree and return its ```root```."
   ]
  },
  {
   "cell_type": "markdown",
   "metadata": {},
   "source": [
    "<font color='dd0000'>**思路一：**迭代</font>"
   ]
  },
  {
   "cell_type": "code",
   "execution_count": null,
   "metadata": {},
   "outputs": [],
   "source": [
    "public TreeNode recoverFromPreorder(String S) {\n",
    "    Deque<TreeNode> stack = new LinkedList<>(); // 用栈的高度表示当前要插入节点的深度\n",
    "    char[] s = S.toCharArray();\n",
    "    int i = 0;\n",
    "    while(i < s.length){\n",
    "        int depth = 0;\n",
    "        while(s[i] == '-'){ // 计算深度\n",
    "            depth++;\n",
    "            i++;\n",
    "        }\n",
    "        int number = 0;\n",
    "        while(i < s.length && s[i] != '-'){  // 计算数字\n",
    "            number = number * 10 + s[i] - '0';\n",
    "            i++;\n",
    "        }\n",
    "        TreeNode node = new TreeNode(number);\n",
    "        if(stack.isEmpty()){ // 第一次创建节点，直接入栈即可\n",
    "            stack.push(node);\n",
    "            continue;\n",
    "        }\n",
    "        if(stack.size() == depth){ // 当栈的高度等于当前深度时，说明当前节点是要继续加在下一层的\n",
    "            stack.peek().left = node;\n",
    "        }\n",
    "        else{\n",
    "            while(stack.size() > depth){ // 当栈的高度大于当前深度时，说明当前节点是上层的，应退回到对应层数\n",
    "                stack.pop();\n",
    "            }\n",
    "            stack.peek().right = node;\n",
    "        }\n",
    "        stack.push(node); // 每创建一个节点就入栈，方便回退\n",
    "    }\n",
    "    while(stack.size() > 1){ // 栈底即为根节点\n",
    "        stack.pop();\n",
    "    }\n",
    "    return stack.peek();\n",
    "}"
   ]
  },
  {
   "cell_type": "markdown",
   "metadata": {},
   "source": [
    "<font color='dd0000'>**思路二：**递归</font>"
   ]
  },
  {
   "cell_type": "code",
   "execution_count": null,
   "metadata": {},
   "outputs": [],
   "source": [
    "int i = 0; // 表示字符串的位置,用来计算层数和数字,需要回退,所以设为全局量\n",
    "public TreeNode recoverFromPreorder(String S) {\n",
    "    char[] s = S.toCharArray();\n",
    "    return dfs(s, 0);\n",
    "}\n",
    "\n",
    "private TreeNode dfs(char[] s, int depth){ // depth表示当前要进行创建节点的层数\n",
    "    int d = getDepth(s); // 得到字符串中得到的层数\n",
    "    if(d < depth){ // 如果它小于当前层,说明当前层没有节点,返回null,且回退i,回到正确的层再创建\n",
    "        i -= d;\n",
    "        return null;\n",
    "    }\n",
    "    int value = getNumber(s);\n",
    "    TreeNode node = new TreeNode(value);\n",
    "    node.left = dfs(s, depth + 1);\n",
    "    node.right = dfs(s, depth + 1);\n",
    "    return node;\n",
    "}\n",
    "\n",
    "private int getDepth(char[] s){ // 计算层数\n",
    "    int depth = 0;\n",
    "    while(i < s.length && s[i] == '-'){\n",
    "        depth++;\n",
    "        i++;\n",
    "    }\n",
    "    return depth;\n",
    "}\n",
    "\n",
    "private int getNumber(char[] s){ //计算数字\n",
    "    int number = 0;\n",
    "    while(i < s.length && s[i] != '-'){\n",
    "        number = number * 10 + s[i] - '0';\n",
    "        i++;\n",
    "    }\n",
    "    return number;\n",
    "}"
   ]
  },
  {
   "cell_type": "markdown",
   "metadata": {},
   "source": [
    "## [124. Binary Tree Maximum Path Sum (hard)](https://leetcode-cn.com/problems/binary-tree-maximum-path-sum/)"
   ]
  },
  {
   "cell_type": "markdown",
   "metadata": {},
   "source": [
    "Given a **non-empty** binary tree, find the maximum path sum.\n",
    "\n",
    "For this problem, a path is defined as any sequence of nodes from some starting node to any node in the tree along the parent-child connections. The path must contain **at least one node** and does not need to go through the root."
   ]
  },
  {
   "cell_type": "markdown",
   "metadata": {},
   "source": [
    "<font color='dd0000'>\n",
    "\n",
    "和 <a href=\"#543.-Diameter-of-Binary-Tree-(easy)\">543.求二叉树直径</a>、<a href=\"#687.-Longest-Univalue-Path-(easy)\">687.求最长同值路径</a> 类似，对每个节点求**单边**的路径和，在求到单边和之后计算总的路径和，返回单边和\n",
    "\n",
    "</font>\n",
    "\n",
    "\n"
   ]
  },
  {
   "cell_type": "code",
   "execution_count": null,
   "metadata": {},
   "outputs": [],
   "source": [
    "int res = Integer.MIN_VALUE;\n",
    "public int maxPathSum(TreeNode root) {\n",
    "    getSum(root);\n",
    "    return res;\n",
    "}\n",
    "\n",
    "private int getSum(TreeNode node){ // 求以node出发的【单边】最大路径和\n",
    "    if(node == null){\n",
    "        return 0;\n",
    "    }\n",
    "    int sum = node.val;\n",
    "    int l = sum + getSum(node.left);\n",
    "    int r = sum + getSum(node.right);\n",
    "    int singleMax = Math.max(sum, Math.max(l, r)); \n",
    "    // 在求每个节点的单边最大路径和的同时可以求到它的最大路径和\n",
    "    // 最大路径和在左边、右边、自己、左+右(去掉重复的自己)四个值中取到\n",
    "    int total = l + r - sum;\n",
    "    res = Math.max(res, Math.max(total, singleMax));\n",
    "    return singleMax; // 返回值只能是单边\n",
    "}"
   ]
  },
  {
   "cell_type": "markdown",
   "metadata": {},
   "source": [
    "## [297. Serialize and Deserialize Binary Tree (hard)](https://leetcode-cn.com/problems/serialize-and-deserialize-binary-tree/)"
   ]
  },
  {
   "cell_type": "markdown",
   "metadata": {},
   "source": [
    "Serialization is the process of converting a data structure or object into a sequence of bits so that it can be stored in a file or memory buffer, or transmitted across a network connection link to be reconstructed later in the same or another computer environment.\n",
    "\n",
    "Design an algorithm to serialize and deserialize a binary tree. There is no restriction on how your serialization/deserialization algorithm should work. You just need to ensure that a binary tree can be serialized to a string and this string can be deserialized to the original tree structure."
   ]
  },
  {
   "cell_type": "markdown",
   "metadata": {},
   "source": [
    "<font color='dd0000'>\n",
    "\n",
    "**方法一：**先序遍历序列化。注意反序列化时要用**队列**。也可以用后序遍历，中序遍历无法恢复，因为无法定位到根节点。\n",
    "\n",
    "**方法二：**层序遍历序列化。\n",
    "\n",
    "</font>"
   ]
  },
  {
   "cell_type": "code",
   "execution_count": 11,
   "metadata": {},
   "outputs": [],
   "source": [
    "//序列化\n",
    "public String serialize(TreeNode root) {\n",
    "    return preorderSerial(root);\n",
    "}\n",
    "\n",
    "//反序列化\n",
    "public TreeNode deserialize(String data) {\n",
    "    return preorderDeserial(data);\n",
    "}\n",
    "\n",
    "//先序遍历序列化\n",
    "private String preorderSerial(TreeNode root){\n",
    "    if(root == null){\n",
    "        return \"#!\";\n",
    "    }\n",
    "    String s = String.valueOf(root.val) + \"!\"; // !为节点间的分隔符\n",
    "    s += preorderSerial(root.left);\n",
    "    s += preorderSerial(root.right);\n",
    "    return s;\n",
    "}\n",
    "\n",
    "//先序遍历反序列化，注意使用队列来处理当前创建的节点\n",
    "private TreeNode preorderDeserial(String s){\n",
    "    String[] arr = s.split(\"!\"); // 根据分隔符分开各个节点的值\n",
    "    Queue<String> q = new LinkedList<>(); // 将每个节点的值存入队列,队列中的值即为root-left-right的顺序,依次构造\n",
    "    for(String str : arr){\n",
    "        q.offer(str);\n",
    "    }\n",
    "    return recover(q);\n",
    "}\n",
    "\n",
    "private TreeNode recover(Queue<String> q){\n",
    "    String cur = q.poll();  // 从头开始弹出值依次创建节点\n",
    "    if(cur.equals(\"#\")){  // 空节点\n",
    "        return null;\n",
    "    }\n",
    "    TreeNode root = new TreeNode(Integer.parseInt(cur));\n",
    "    root.left = recover(q);\n",
    "    root.right = recover(q);\n",
    "    return root;\n",
    "}\n",
    "\n",
    "// 层序遍历序列化\n",
    "private String levelSerial(TreeNode root){\n",
    "    StringBuilder sb = new StringBuilder();\n",
    "    Queue<TreeNode> q = new LinkedList<>();\n",
    "    q.offer(root);\n",
    "    while(!q.isEmpty()){\n",
    "        TreeNode cur = q.poll();\n",
    "        if(cur == null){\n",
    "            sb.append(\"#!\");\n",
    "            continue;\n",
    "        }\n",
    "        sb.append(String.valueOf(cur.val) + \"!\");\n",
    "        q.offer(cur.left);\n",
    "        q.offer(cur.right);\n",
    "    }\n",
    "    return sb.toString();\n",
    "}\n",
    "\n",
    "// 层序遍历反序列化\n",
    "private TreeNode levelDeserial(String s){\n",
    "    String[] arr = s.split(\"!\");\n",
    "    Queue<TreeNode> q = new LinkedList<>();\n",
    "    int index = 0;\n",
    "    String value = arr[index++];\n",
    "    if(value.equals(\"#\")){\n",
    "        return null;\n",
    "    }\n",
    "    TreeNode root = new TreeNode(Integer.parseInt(value));\n",
    "    q.offer(root);\n",
    "    while(!q.isEmpty()){\n",
    "        TreeNode cur = q.poll();\n",
    "        String l = arr[index++];\n",
    "        if(!l.equals(\"#\")){\n",
    "            cur.left = new TreeNode(Integer.parseInt(l));\n",
    "            q.offer(cur.left);\n",
    "        }\n",
    "        String r = arr[index++];\n",
    "        if(!r.equals(\"#\")){\n",
    "            cur.right = new TreeNode(Integer.parseInt(r));\n",
    "            q.offer(cur.right);\n",
    "        }\n",
    "    }\n",
    "    return root;\n",
    "}"
   ]
  },
  {
   "cell_type": "markdown",
   "metadata": {},
   "source": [
    "## [114. Flatten Binary Tree to Linked List (medium)](https://leetcode-cn.com/problems/flatten-binary-tree-to-linked-list/)"
   ]
  },
  {
   "cell_type": "markdown",
   "metadata": {},
   "source": [
    "Given a binary tree, flatten it to a linked list in-place."
   ]
  },
  {
   "cell_type": "code",
   "execution_count": null,
   "metadata": {},
   "outputs": [],
   "source": [
    "public void flatten(TreeNode root) {\n",
    "    if(root == null || root.left == null && root.right == null){\n",
    "        return;\n",
    "    }\n",
    "    flatten(root.left);\n",
    "    flatten(root.right);\n",
    "    TreeNode cur = root.left;\n",
    "    if(cur == null){\n",
    "        return;\n",
    "    }\n",
    "    while(cur.right != null){\n",
    "        cur = cur.next;\n",
    "    }\n",
    "    cur.right = root.right;\n",
    "    root.right = root.left;\n",
    "    root.left = null;\n",
    "}"
   ]
  },
  {
   "cell_type": "markdown",
   "metadata": {},
   "source": [
    "<a name=\"bottom\"></a>\n",
    "<p style=\"text-align: right\"><a href=\"#top\" style=\"text-decoration: none;color: pink\"><strong>Top</strong></a></p>"
   ]
  }
 ],
 "metadata": {
  "kernelspec": {
   "display_name": "Java",
   "language": "java",
   "name": "java"
  },
  "language_info": {
   "codemirror_mode": "java",
   "file_extension": ".jshell",
   "mimetype": "text/x-java-source",
   "name": "Java",
   "pygments_lexer": "java",
   "version": "12.0.2+10"
  }
 },
 "nbformat": 4,
 "nbformat_minor": 2
}
