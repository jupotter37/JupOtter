{
 "cells": [
  {
   "cell_type": "markdown",
   "metadata": {},
   "source": [
    "Given a number N. There will be N numbers given. Print the smallest number in the given list after each input(Hint use priority queue).\n",
    "Input Size : N <= 100000\n",
    "Sample Testcase :\n",
    "INPUT\n",
    "4\n",
    "3 2 4 1\n",
    "OUTPUT\n",
    "3 2 2 1"
   ]
  },
  {
   "cell_type": "code",
   "execution_count": 1,
   "metadata": {},
   "outputs": [
    {
     "name": "stdout",
     "output_type": "stream",
     "text": [
      "3 2 2 1\n"
     ]
    }
   ],
   "source": [
    "import heapq\n",
    "\n",
    "def find_smallest_after_each_input(numbers):\n",
    "    min_heap = []\n",
    "    result = []\n",
    "\n",
    "    for number in numbers:\n",
    "        heapq.heappush(min_heap, number)\n",
    "        result.append(min_heap[0])\n",
    "    \n",
    "    return result\n",
    "\n",
    "# Sample Testcase\n",
    "N = 4\n",
    "numbers = [3, 2, 4, 1]\n",
    "output = find_smallest_after_each_input(numbers)\n",
    "print(\" \".join(map(str, output)))  # Expected output: 3 2 2 1\n"
   ]
  },
  {
   "cell_type": "markdown",
   "metadata": {},
   "source": [
    "You are given an array of digits. Your task is to print the digit with maximum frequency.\n",
    "\n",
    "Input Description:\n",
    "You are given length of array ’n’,next line contains n space separated numbers.\n",
    "\n",
    "Output Description:\n",
    "Print the number with maximum frequency. If two number have equal freqency prin the number that comes first\n",
    "\n",
    "Sample Input :\n",
    "7\n",
    "1 2 3 4 4 4 5\n",
    "Sample Output :\n",
    "4"
   ]
  },
  {
   "cell_type": "code",
   "execution_count": null,
   "metadata": {},
   "outputs": [],
   "source": [
    "# Function to find the digit with the maximum frequency\n",
    "def find_max_frequency_digit(n, digits):\n",
    "    # Dictionary to store frequency of each digit\n",
    "    frequency = {}\n",
    "    \n",
    "    # Iterate through the digits to count the frequency\n",
    "    for digit in digits:\n",
    "        if digit in frequency:\n",
    "            frequency[digit] += 1\n",
    "        else:\n",
    "            frequency[digit] = 1\n",
    "            \n",
    "    # Variables to keep track of the max frequency and corresponding digit\n",
    "    max_freq = -1\n",
    "    max_freq_digit = None\n",
    "    \n",
    "    # Iterate through the digits again to find the first digit with max frequency\n",
    "    for digit in digits:\n",
    "        if frequency[digit] > max_freq:\n",
    "            max_freq = frequency[digit]\n",
    "            max_freq_digit = digit\n",
    "            \n",
    "    return max_freq_digit\n",
    "\n",
    "# Input reading\n",
    "n = int(input())\n",
    "digits = input().split()\n",
    "\n",
    "# Find and print the digit with the maximum frequency\n",
    "result = find_max_frequency_digit(n, digits)\n",
    "print(result)\n"
   ]
  },
  {
   "cell_type": "markdown",
   "metadata": {},
   "source": [
    "you are given with ‘arasu’ series(shown in example).You have to understand it and you will be given a number ‘n’ ,you have to print the series till n numbers.\n",
    "\n",
    "Input Description:\n",
    "You are given a number n;\n",
    "\n",
    "Output Description:\n",
    "Print series till nth number\n",
    "\n",
    "Sample Input :\n",
    "4\n",
    "Sample Output :\n",
    "2 5 10 17\n"
   ]
  },
  {
   "cell_type": "code",
   "execution_count": null,
   "metadata": {},
   "outputs": [],
   "source": [
    "def generate_arasu_series(n):\n",
    "    series = []\n",
    "    current = 2\n",
    "    series.append(current)\n",
    "    \n",
    "    for i in range(1, n):\n",
    "        current += (2 * i + 1)\n",
    "        series.append(current)\n",
    "    \n",
    "    return series\n",
    "\n",
    "# Input reading\n",
    "n = int(input(\"Enter a number: \"))\n",
    "\n",
    "# Generate and print the series till n terms\n",
    "result = generate_arasu_series(n)\n",
    "print(\" \".join(map(str, result)))\n"
   ]
  },
  {
   "cell_type": "markdown",
   "metadata": {},
   "source": [
    "You are given an array.Your task is to print the length of longest consecutive subsequence. A longest consecutive subsequence is such that next element differ from previous by 1.\n",
    "\n",
    "Input Description:\n",
    "You are given with the length of array. Next line contains n space separated integers.\n",
    "\n",
    "Output Description:\n",
    "Print the length of longest consecutive subsequence.\n",
    "\n",
    "Sample Input :\n",
    "8\n",
    "1 6 5 3 2 4 10 12\n",
    "Sample Output :\n",
    "6"
   ]
  },
  {
   "cell_type": "code",
   "execution_count": null,
   "metadata": {},
   "outputs": [],
   "source": [
    "def longest_consecutive_subsequence(arr):\n",
    "    # Convert array to set for O(1) lookups\n",
    "    num_set = set(arr)\n",
    "    max_length = 0\n",
    "    \n",
    "    for num in num_set:\n",
    "        # Check if num is the start of a sequence\n",
    "        if num - 1 not in num_set:\n",
    "            current_num = num\n",
    "            current_length = 1\n",
    "            \n",
    "            # Check for the next numbers in the sequence\n",
    "            while current_num + 1 in num_set:\n",
    "                current_num += 1\n",
    "                current_length += 1\n",
    "                \n",
    "            # Update the maximum length found\n",
    "            max_length = max(max_length, current_length)\n",
    "    \n",
    "    return max_length\n",
    "\n",
    "# Input reading\n",
    "n = int(input())\n",
    "arr = list(map(int, input().split()))\n",
    "\n",
    "# Find and print the length of longest consecutive subsequence\n",
    "result = longest_consecutive_subsequence(arr)\n",
    "print(result)\n"
   ]
  },
  {
   "cell_type": "markdown",
   "metadata": {},
   "source": [
    "Given a number n followed by n numbers print the number less than 15 if there is no number exits print -1\n",
    "\n",
    "Input Description:\n",
    "0<n<100 Given a number n Followed by n number in next line\n",
    "\n",
    "Output Description:\n",
    "Print the number which is less than 15 if there is no number exits print -1\n",
    "\n",
    "Sample Input :\n",
    "3\n",
    "5 7 4\n",
    "Sample Output :\n",
    "5 7 4"
   ]
  },
  {
   "cell_type": "code",
   "execution_count": 4,
   "metadata": {},
   "outputs": [
    {
     "name": "stdout",
     "output_type": "stream",
     "text": [
      "-1\n"
     ]
    }
   ],
   "source": [
    "n=int(input())\n",
    "\n",
    "number=list(map(int,input().split()))\n",
    "\n",
    "filter=[num for num in number if num < 15]\n",
    "\n",
    "if filter:\n",
    "    print(\" \".join(map(str,filter)))\n",
    "else:\n",
    "    print(-1)"
   ]
  },
  {
   "cell_type": "markdown",
   "metadata": {},
   "source": [
    "Given a year, find whether leap year or not?\n",
    "\n",
    "Input Description:\n",
    "Given a 4 digit number\n",
    "\n",
    "Output Description:\n",
    "Print leap year or not a leap year\n",
    "\n",
    "Sample Input :\n",
    "1996\n",
    "Sample Output :\n",
    "leap year"
   ]
  },
  {
   "cell_type": "code",
   "execution_count": null,
   "metadata": {},
   "outputs": [
    {
     "ename": "",
     "evalue": "",
     "output_type": "error",
     "traceback": [
      "\u001b[1;31mRunning cells with '.venv (Python 3.11.9)' requires the ipykernel package.\n",
      "\u001b[1;31mRun the following command to install 'ipykernel' into the Python environment. \n",
      "\u001b[1;31mCommand: '\"d:/Guvi/Singapore  Resale Flat Prices Predicting/.venv/Scripts/python.exe\" -m pip install ipykernel -U --force-reinstall'"
     ]
    }
   ],
   "source": [
    "year=int(input().strip())\n",
    "\n",
    "if (year%4==0 and year%100 !=0) or (year%400==0):\n",
    "    print(\"leap year\")\n",
    "else:\n",
    "    print(\"not a leap year\")"
   ]
  },
  {
   "cell_type": "markdown",
   "metadata": {},
   "source": [
    "Given a string convert string into lower case\n",
    "\n",
    "Input Description:\n",
    "Given a string\n",
    "\n",
    "Output Description:\n",
    "Print string into lower case\n",
    "\n",
    "Sample Input :\n",
    "Guvi Geek\n",
    "Sample Output :\n",
    "guvi geek"
   ]
  },
  {
   "cell_type": "code",
   "execution_count": null,
   "metadata": {},
   "outputs": [],
   "source": [
    "string=input()\n",
    "\n",
    "lstring=string.lower()\n",
    "\n",
    "print(lstring)"
   ]
  },
  {
   "cell_type": "markdown",
   "metadata": {},
   "source": [
    " Given a number n,m and k separated by a space followed by n numbers print the numbers between this two numbers listed in a array if there is no number exits print -1\n",
    "\n",
    "Input Description:\n",
    "number n, m and k separated by a space 0<n<1000 0<m<1000 0<k<1000 m<k Given a number n Followed by n number in next line\n",
    "\n",
    "Output Description:\n",
    "print the numbers between this two numbers listed in a array if there is no number exits print -1\n",
    "\n",
    "Sample Input :\n",
    "3 5 8\n",
    "5 7 4\n",
    "Sample Output :\n",
    "7\n"
   ]
  },
  {
   "cell_type": "code",
   "execution_count": null,
   "metadata": {},
   "outputs": [],
   "source": [
    "# Read n, m, and k\n",
    "n, m, k = map(int, input().strip().split())\n",
    "\n",
    "# Read the list of n numbers\n",
    "numbers = list(map(int, input().strip().split()))\n",
    "\n",
    "# Filter numbers strictly between m and k\n",
    "filtered_numbers = [num for num in numbers if m < num < k]\n",
    "\n",
    "# Print the result\n",
    "if filtered_numbers:\n",
    "    print(\" \".join(map(str, filtered_numbers)))\n",
    "else:\n",
    "    print(-1)\n",
    "  "
   ]
  },
  {
   "cell_type": "markdown",
   "metadata": {},
   "source": [
    "Given a number N, print 'yes' if it is composite else print 'no'.\n",
    "Sample Testcase :\n",
    "INPUT\n",
    "123\n",
    "OUTPUT\n",
    "yes        "
   ]
  },
  {
   "cell_type": "code",
   "execution_count": null,
   "metadata": {},
   "outputs": [],
   "source": [
    "import math\n",
    "\n",
    "# Function to check if a number is composite\n",
    "def is_composite(n):\n",
    "    if n <= 1:\n",
    "        return False\n",
    "    for i in range(2, int(math.sqrt(n)) + 1):\n",
    "        if n % i == 0:\n",
    "            return True\n",
    "    return False\n",
    "\n",
    "# Read the input number\n",
    "N = int(input().strip())\n",
    "\n",
    "# Check if the number is composite and print the result\n",
    "if is_composite(N):\n",
    "    print(\"yes\")\n",
    "else:\n",
    "    print(\"no\")\n",
    "                  "
   ]
  },
  {
   "cell_type": "markdown",
   "metadata": {},
   "source": [
    "Find the minimum among 10 numbers.\n",
    "Sample Testcase :\n",
    "INPUT\n",
    "5 4 3 2 1 7 6 10 8 9\n",
    "OUTPUT\n",
    "1"
   ]
  },
  {
   "cell_type": "code",
   "execution_count": 1,
   "metadata": {},
   "outputs": [
    {
     "name": "stdout",
     "output_type": "stream",
     "text": [
      "2\n"
     ]
    }
   ],
   "source": [
    "numbers=list(map(int,input().strip().split()))\n",
    "\n",
    "minimum_num=min(numbers)\n",
    "print(minimum_num)"
   ]
  },
  {
   "cell_type": "markdown",
   "metadata": {},
   "source": [
    " Joseph was going through topic of strings. He learnt about anagrams. But due to some circumstances he forget ,now he hired you to help him in completing the work.Your task is to tell whether the two given strings are anagrams\n",
    "\n",
    "Input Description:\n",
    "The first line of the input is a string N, the second line of the input is a string M\n",
    "\n",
    "Output Description:\n",
    "Compare the two string input N and M. Print 1 if they are anagram else print 0.\n",
    "\n",
    "Sample Input :\n",
    "abcd\n",
    "cdab\n",
    "Sample Output :\n",
    "1"
   ]
  },
  {
   "cell_type": "code",
   "execution_count": null,
   "metadata": {},
   "outputs": [],
   "source": [
    "N=input().strip()\n",
    "\n",
    "M=input().strip()\n",
    "\n",
    "def anagram(str1,str2):\n",
    "    if len(str1) != len(str2):\n",
    "        return False\n",
    "    return sorted(str1)== sorted(str2)\n",
    "    \n",
    "if anagram(N,M):\n",
    "    print(1)\n",
    "else:\n",
    "    print(0)"
   ]
  },
  {
   "cell_type": "code",
   "execution_count": null,
   "metadata": {},
   "outputs": [],
   "source": [
    "Mani finds himself in a queue of( n) people but is uncertain about his exact position. However, he's confident that there are at least( a) people in front of him and at most( b) people behind him. Mani seeks to determine the number of different positions he could occupy in the queue.\n",
    "\n",
    "Input:\n",
    "\n",
    "The input consists of a single line containing three integers:( n),( a), and( b) (( 0≤a,b<n≤100)). These represent the total number of people in the queue, the minimum number of people in front of Mani, and the maximum number of people behind Mani, respectively.\n",
    "Output:\n",
    "\n",
    "Print a single integer, the number of possible positions Mani could occupy in the queue.\n",
    "Constraints:\n",
    "\n",
    "The queue contains between 1 and 100 people.\n",
    "Mani is certain there are at least 0 people in front of him and at most( n-1) people behind him.\n",
    "Sample input:\n",
    "\n",
    "5 2 3\n",
    "\n",
    "Sample output:\n",
    "\n",
    "3"
   ]
  },
  {
   "cell_type": "code",
   "execution_count": 1,
   "metadata": {},
   "outputs": [
    {
     "name": "stdout",
     "output_type": "stream",
     "text": [
      "Standardized Train Data:\n",
      " [[ 1.18321596  1.18321596  1.18321596]\n",
      " [-0.16903085 -0.16903085 -0.16903085]\n",
      " [-1.52127766 -1.52127766 -1.52127766]\n",
      " [ 0.50709255  0.50709255  0.50709255]]\n",
      "Min-Max Scaled Train Data:\n",
      " [[1.   1.   1.  ]\n",
      " [0.5  0.5  0.5 ]\n",
      " [0.   0.   0.  ]\n",
      " [0.75 0.75 0.75]]\n",
      "Robust Scaled Train Data:\n",
      " [[ 0.85714286  0.85714286  0.85714286]\n",
      " [-0.28571429 -0.28571429 -0.28571429]\n",
      " [-1.42857143 -1.42857143 -1.42857143]\n",
      " [ 0.28571429  0.28571429  0.28571429]]\n"
     ]
    }
   ],
   "source": [
    "import pandas as pd\n",
    "from sklearn.model_selection import train_test_split\n",
    "from sklearn.preprocessing import StandardScaler, MinMaxScaler, RobustScaler\n",
    "\n",
    "# Example DataFrame\n",
    "df = pd.DataFrame({\n",
    "    'feature1': [1, 2, 3, 4, 5],\n",
    "    'feature2': [10, 20, 30, 40, 50],\n",
    "    'feature3': [100, 200, 300, 400, 500]\n",
    "})\n",
    "\n",
    "# Split the dataset into features and target variable\n",
    "X = df[['feature1', 'feature2', 'feature3']]\n",
    "y = df['feature1']  # Just an example target\n",
    "\n",
    "# Split the dataset into training and testing sets\n",
    "x_train, x_test, y_train, y_test = train_test_split(X, y, test_size=0.2, random_state=42)\n",
    "\n",
    "# Standardization\n",
    "scaler = StandardScaler()\n",
    "x_train_standardized = scaler.fit_transform(x_train)\n",
    "x_test_standardized = scaler.transform(x_test)\n",
    "\n",
    "# Min-Max Scaling\n",
    "scaler = MinMaxScaler()\n",
    "x_train_minmax = scaler.fit_transform(x_train)\n",
    "x_test_minmax = scaler.transform(x_test)\n",
    "\n",
    "# Robust Scaling\n",
    "scaler = RobustScaler()\n",
    "x_train_robust = scaler.fit_transform(x_train)\n",
    "x_test_robust = scaler.transform(x_test)\n",
    "\n",
    "print(\"Standardized Train Data:\\n\", x_train_standardized)\n",
    "print(\"Min-Max Scaled Train Data:\\n\", x_train_minmax)\n",
    "print(\"Robust Scaled Train Data:\\n\", x_train_robust)\n"
   ]
  },
  {
   "cell_type": "code",
   "execution_count": 3,
   "metadata": {},
   "outputs": [
    {
     "name": "stdout",
     "output_type": "stream",
     "text": [
      "1\n"
     ]
    }
   ],
   "source": [
    "def number_of_positions(n, a, b):\n",
    "    min_position = a + 1\n",
    "    max_position = n - b\n",
    "    if min_position > max_position:\n",
    "        return b\n",
    "    return max_position - min_position + 1\n",
    "\n",
    "# Example usage:\n",
    "n = 5\n",
    "a = 4\n",
    "b = 0\n",
    "print(number_of_positions(n, a, b))  # Output: 3\n"
   ]
  },
  {
   "cell_type": "markdown",
   "metadata": {},
   "source": [
    "You are given an array.Your task is to print the length of longest consecutive subsequence. A longest consecutive subsequence is such that next element differ from previous by 1.\n",
    "\n",
    "Input Description:\n",
    "You are given with the length of array. Next line contains n space separated integers.\n",
    "\n",
    "Output Description:\n",
    "Print the length of longest consecutive subsequence.\n",
    "\n",
    "Sample Input :\n",
    "8\n",
    "1 6 5 3 2 4 10 12\n",
    "Sample Output :\n",
    "6"
   ]
  },
  {
   "cell_type": "code",
   "execution_count": null,
   "metadata": {},
   "outputs": [],
   "source": [
    "def longest_consecutive_subsequence(arr):\n",
    "    # Convert array to set to handle duplicates and allow O(1) lookups\n",
    "    num_set = set(arr)\n",
    "    longest_streak = 0\n",
    "\n",
    "    for num in num_set:\n",
    "        # Check if 'num' is the start of a sequence\n",
    "        if num - 1 not in num_set:\n",
    "            current_num = num\n",
    "            current_streak = 1\n",
    "\n",
    "            # Count consecutive numbers\n",
    "            while current_num + 1 in num_set:\n",
    "                current_num += 1\n",
    "                current_streak += 1\n",
    "\n",
    "            # Update longest streak\n",
    "            longest_streak = max(longest_streak, current_streak)\n",
    "\n",
    "    return longest_streak\n",
    "\n",
    "# Read input\n",
    "n = int(input())\n",
    "arr = list(map(int, input().split()))\n",
    "\n",
    "# Print the length of longest consecutive subsequence\n",
    "print(longest_consecutive_subsequence(arr))\n"
   ]
  },
  {
   "cell_type": "markdown",
   "metadata": {},
   "source": [
    "You are given with an array of numbers, Your task is to print the difference of indices of largest and smallest number.All number are unique.\n",
    "\n",
    "Input Description:\n",
    "First line contains a number ‘n’. Then next line contains n space separated numbers.\n",
    "\n",
    "Output Description:\n",
    "Print the difference of indices of largest and smallest array\n",
    "\n",
    "Sample Input :\n",
    "5\n",
    "1 6 4 0 3\n",
    "Sample Output :\n",
    "-2"
   ]
  },
  {
   "cell_type": "code",
   "execution_count": 5,
   "metadata": {},
   "outputs": [
    {
     "name": "stdout",
     "output_type": "stream",
     "text": [
      "3\n"
     ]
    }
   ],
   "source": [
    "def find_index_difference(n, arr):\n",
    "    if n <= 1:\n",
    "        return 0  # No meaningful difference if there's only one element or less\n",
    "    \n",
    "    min_index = 0\n",
    "    max_index = 0\n",
    "    \n",
    "    # Find indices of smallest and largest numbers\n",
    "    for i in range(1, n):\n",
    "        if arr[i] < arr[min_index]:\n",
    "            min_index = i\n",
    "        if arr[i] > arr[max_index]:\n",
    "            max_index = i\n",
    "            \n",
    "    # Calculate the difference\n",
    "    difference = max_index - min_index\n",
    "    \n",
    "    return difference\n",
    "\n",
    "# Read input\n",
    "n = int(input())\n",
    "arr = list(map(int, input().split()))\n",
    "\n",
    "# Find and print the difference of indices\n",
    "print(find_index_difference(n, arr))\n"
   ]
  },
  {
   "cell_type": "markdown",
   "metadata": {},
   "source": [
    "Assume that you are ticket verifier at a club. Your club has decided to give a special discount to the person(s) who are satisfying the following condition\n",
    "\n",
    " \n",
    "\n",
    "Condition:-\n",
    "\n",
    "If ticket number is divisible by date of month. You are eligible for a discount.\n",
    "\n",
    "Input Description:\n",
    "First line contains input ‘n’.Next line contains n space separated numbers denoting ticket numbers .Next line contains ‘k’ date of the month.\n",
    "\n",
    "Output Description:\n",
    "Print 1 if the ticket is eligible for discount else 0\n",
    "\n",
    "Sample Input :\n",
    "6\n",
    "112 139 165 175 262 130\n",
    "22\n",
    "Sample Output :\n",
    "0 0 0 0 0 0"
   ]
  },
  {
   "cell_type": "code",
   "execution_count": null,
   "metadata": {},
   "outputs": [],
   "source": [
    "def discount(ticket_numbers,k):\n",
    "    results=[]\n",
    "    \n",
    "    for ticket in ticket_numbers:\n",
    "        if ticket%k==0:\n",
    "            results.append(\"1\")\n",
    "        else:\n",
    "            results.append(\"0\")\n",
    "    return \" \".join(results)\n",
    "    \n",
    "n=int(input())\n",
    "\n",
    "ticket_numbers=list(map(int,input().split()))\n",
    "k=int(input())\n",
    "print(discount(ticket_numbers,k))"
   ]
  },
  {
   "cell_type": "markdown",
   "metadata": {},
   "source": [
    "Prateek finds it difficult to judge the minimum element in the list of elements given to him. Your task is to develop the algorithm in order to find the minimum element.\n",
    "\n",
    "Input Description:\n",
    "You are given ‘n’ number of elements. Next line contains n space separated numbers.\n",
    "\n",
    "Output Description:\n",
    "Print the minimum element\n",
    "\n",
    "Sample Input :\n",
    "5\n",
    "3 4 9 1 6\n",
    "Sample Output :\n",
    "1"
   ]
  },
  {
   "cell_type": "code",
   "execution_count": null,
   "metadata": {},
   "outputs": [],
   "source": [
    "def find_mini_number(arr):\n",
    "    min_element=arr[0]\n",
    "    \n",
    "    for num in arr[1:]:\n",
    "        if num < min_element:\n",
    "            min_element=num\n",
    "    \n",
    "    return min_element\n",
    "    \n",
    "n=int(input())\n",
    "arr=list(map(int,input().split()))\n",
    "print(find_mini_number(arr))"
   ]
  },
  {
   "cell_type": "markdown",
   "metadata": {},
   "source": [
    "In a garage the service man takes 10 minutes to service one car.If there are N cars in garage and X is number of minutes after which one person arrives,Calculate how much time last person has to wait in garage.(Print answer in minutes)\n",
    "\n",
    "Input Description:\n",
    "You are given Two numbers ‘N’ and ‘X’\n",
    "\n",
    "Output Description:\n",
    "Waiting time of last person\n",
    "\n",
    "Sample Input :\n",
    "4 5\n",
    "Sample Output :\n",
    "15"
   ]
  },
  {
   "cell_type": "code",
   "execution_count": 8,
   "metadata": {},
   "outputs": [
    {
     "name": "stdout",
     "output_type": "stream",
     "text": [
      "35\n"
     ]
    }
   ],
   "source": [
    "def calculate_waiting_time(N, X):\n",
    "    \n",
    "    total_service_time = N * 10\n",
    "    waiting_time = (N - 1) * 10 + X\n",
    "    return waiting_time\n",
    "\n",
    "N, X = map(int, input().split())\n",
    "\n",
    "# Calculate waiting time for the last person\n",
    "waiting_time = calculate_waiting_time(N, X)\n",
    "\n",
    "# Print the waiting time\n",
    "print(waiting_time)\n"
   ]
  },
  {
   "cell_type": "markdown",
   "metadata": {},
   "source": [
    "You are a software engineer at an MNC. You are given the task of sorting the employees in your company based on their salary. Perform the task so that the employees, including yourself, will get a bonus from the management.\n",
    "\n",
    "CONSTRAINT:\n",
    "\n",
    "0<=salary<=1000000\n",
    "\n",
    " \n",
    "\n",
    "Input Description:\n",
    "Number of employees followed by their name and salary\n",
    "\n",
    "Output Description:\n",
    "Sorted list of employee names\n",
    "\n",
    "Sample Input :\n",
    "3\n",
    "Karthik 23000 rohan 81734 varshini 12343\n",
    "Sample Output :\n",
    "varshini\n",
    "Karthik\n",
    "Rohan"
   ]
  },
  {
   "cell_type": "code",
   "execution_count": 1,
   "metadata": {},
   "outputs": [],
   "source": [
    "def sort_employees():\n",
    "    import sys\n",
    "    input_string=sys.stdin.read().strip()\n",
    "    parts=input_string.split()\n",
    "    num_employess=int(parts[0])\n",
    "    employees=[]\n",
    "\n",
    "    index=1\n",
    "    for i in range(num_employess):\n",
    "        name=parts[index]\n",
    "        salary=int(parts[index+1])\n",
    "        employees.append((salary,name))\n",
    "        index+=2\n",
    "\n",
    "    employees.sort()\n",
    "\n",
    "    sorted_names=[name for _,name in employees]\n",
    "    for name in sorted_names:\n",
    "        print(name)\n",
    "\n",
    "sort_employees()"
   ]
  },
  {
   "cell_type": "markdown",
   "metadata": {},
   "source": [
    "Loki wants to steal the tesseract but in order to do so, he has to rearrange the elements in an array in a specific manner which is mentioned in a clue. The clue says ‘cursed are the odd and sorted are the even’. Loki manages to decode the clue which translates to “sort the even positioned elements of an array, starting from the element at index 0, in ascending order”. Manipulate the array so as to help Loki steal the tesseract.\n",
    " \n",
    "\n",
    "Input Description:\n",
    "Size of the array followed by the elements of the array\n",
    "\n",
    "Output Description:\n",
    "Even index array elements sorted in ascending order\n",
    "\n",
    "Sample Input :\n",
    "5\n",
    "3 9 1 44 6\n",
    "Sample Output :\n",
    "1 9 3 44 6"
   ]
  },
  {
   "cell_type": "code",
   "execution_count": null,
   "metadata": {},
   "outputs": [],
   "source": [
    "def sort_even_indexed_elements(size, arr):\n",
    "    # Extract even-indexed elements\n",
    "    even_indexed_elements = arr[0::2]  # slicing to get elements at even indices (0, 2, 4, ...)\n",
    "    \n",
    "    # Sort even-indexed elements\n",
    "    even_indexed_elements.sort()\n",
    "    \n",
    "    # Replace even-indexed elements in the original array\n",
    "    for i in range(0, size, 2):\n",
    "        arr[i] = even_indexed_elements[i // 2]\n",
    "    \n",
    "    # Print the modified array\n",
    "    print(' '.join(map(str, arr)))\n",
    "\n",
    "# Reading input\n",
    "import sys\n",
    "input = sys.stdin.read().strip().split('\\n')\n",
    "\n",
    "size = int(input[0].strip())\n",
    "arr = list(map(int, input[1].strip().split()))\n",
    "\n",
    "# Call the function to sort even-indexed elements\n",
    "sort_even_indexed_elements(size, arr)\n"
   ]
  },
  {
   "cell_type": "markdown",
   "metadata": {},
   "source": [
    "Ram is the CEO of an MNC. He wants to order the employee salaries in ascending order so that he can do a salary hike based on the salary values of employees. He selects you to do the task of sorting the salaries. Sort the salaries in ascending order and pass on the information to Ram.\n",
    "\n",
    "Input Description:\n",
    "Number of employees followed by the salaries of employees.\n",
    "\n",
    "Output Description:\n",
    "Salaries sorted in ascending order.\n",
    "\n",
    "Sample Input :\n",
    "8\n",
    "7000 8000 6500 1200 4000 2800 3000 5230\n",
    "Sample Output :\n",
    "1200 2800 3000 4000 5230 6500 7000 8000"
   ]
  },
  {
   "cell_type": "code",
   "execution_count": null,
   "metadata": {},
   "outputs": [],
   "source": [
    "def sort_salaries(num_employees, salaries):\n",
    "    # Convert salaries to integers\n",
    "    salaries = list(map(int, salaries))\n",
    "    \n",
    "    # Sort salaries in ascending order\n",
    "    salaries.sort()\n",
    "    \n",
    "    # Print sorted salaries\n",
    "    print(' '.join(map(str, salaries)))\n",
    "\n",
    "# Reading input\n",
    "import sys\n",
    "input = sys.stdin.read().strip().split()\n",
    "\n",
    "num_employees = int(input[0])\n",
    "salaries = input[1:num_employees + 1]\n",
    "\n",
    "# Call the function to sort salaries and print them\n",
    "sort_salaries(num_employees, salaries)\n"
   ]
  },
  {
   "cell_type": "markdown",
   "metadata": {},
   "source": [
    "Given a number N and K followed by N elements and K elements. Now insert the given K elements one by one into the array and print the maximum in the array after each insertion .\n",
    "Input Size : K <= N <= 10000(read about priority queues and implement)\n",
    "Sample Testcase :\n",
    "INPUT\n",
    "5 2\n",
    "1 2 3 4 5\n",
    "5 4\n",
    "OUTPUT\n",
    "5 5"
   ]
  },
  {
   "cell_type": "code",
   "execution_count": null,
   "metadata": {},
   "outputs": [],
   "source": [
    "import heapq\n",
    "\n",
    "def insert_and_print_max(N, K, array, to_insert):\n",
    "    max_heap = []  # Max-heap (simulated using negative values)\n",
    "    \n",
    "    # Initialize the max-heap with the initial array elements\n",
    "    for num in array:\n",
    "        heapq.heappush(max_heap, -num)\n",
    "    \n",
    "    results = []\n",
    "    for num in to_insert:\n",
    "        # Push negative of num to simulate max-heap behavior\n",
    "        heapq.heappush(max_heap, -num)\n",
    "        \n",
    "        # Get the current maximum element\n",
    "        current_max = -max_heap[0]\n",
    "        results.append(current_max)\n",
    "    \n",
    "    return results\n",
    "\n",
    "# Reading input\n",
    "import sys\n",
    "input = sys.stdin.read().strip().split()\n",
    "\n",
    "N = int(input[0])\n",
    "K = int(input[1])\n",
    "array = list(map(int, input[2:N+2]))\n",
    "to_insert = list(map(int, input[N+2:N+2+K]))\n",
    "\n",
    "# Call the function to insert elements and print maximum after each insertion\n",
    "results = insert_and_print_max(N, K, array, to_insert)\n",
    "for result in results:\n",
    "    print(result)\n"
   ]
  },
  {
   "cell_type": "markdown",
   "metadata": {},
   "source": [
    "Given a string S of length N, find if it forms a Palindrome after deleting 1 character.\n",
    "Input Size : 1 <= N <= 100000\n",
    "Sample Testcases :\n",
    "INPUT\n",
    "abxba\n",
    "OUTPUT\n",
    "YES"
   ]
  },
  {
   "cell_type": "code",
   "execution_count": null,
   "metadata": {},
   "outputs": [],
   "source": [
    "def is_palindrome(s, left, right):\n",
    "    while left < right:\n",
    "        if s[left] != s[right]:\n",
    "            return False\n",
    "        left += 1\n",
    "        right -= 1\n",
    "    return True\n",
    "\n",
    "def can_form_palindrome_by_deletion(s):\n",
    "    n = len(s)\n",
    "    left = 0\n",
    "    right = n - 1\n",
    "    \n",
    "    while left < right:\n",
    "        if s[left] != s[right]:\n",
    "            # Try deleting s[left]\n",
    "            if is_palindrome(s, left + 1, right):\n",
    "                return True\n",
    "            # Try deleting s[right]\n",
    "            if is_palindrome(s, left, right - 1):\n",
    "                return True\n",
    "            return False\n",
    "        left += 1\n",
    "        right -= 1\n",
    "    \n",
    "    return True  # If entire string is already a palindrome\n",
    "\n",
    "# Reading input\n",
    "import sys\n",
    "input = sys.stdin.read().strip()\n",
    "\n",
    "# Call the function to check if string can form palindrome by deleting 1 character\n",
    "if can_form_palindrome_by_deletion(input):\n",
    "    print(\"YES\")\n",
    "else:\n",
    "    print(\"NO\")\n"
   ]
  },
  {
   "cell_type": "markdown",
   "metadata": {},
   "source": [
    "Given 2 numbers a and B.Print the value of a!/b!.\n",
    "Input Size : A,B <= 10000 and A-B <= 5\n",
    "Sample Testcase :\n",
    "INPUT\n",
    "4 2\n",
    "OUTPUT\n",
    "12"
   ]
  },
  {
   "cell_type": "code",
   "execution_count": null,
   "metadata": {},
   "outputs": [],
   "source": [
    "def factorial_ratio(a, b):\n",
    "    # Edge case: if b is greater than a, return 1 (since b! would be part of a!)\n",
    "    if b > a:\n",
    "        return 1\n",
    "    \n",
    "    result = 1\n",
    "    # Calculate (a * (a-1) * ... * (b+1))\n",
    "    for i in range(b + 1, a + 1):\n",
    "        result *= i\n",
    "    return result\n",
    "\n",
    "# Reading input\n",
    "import sys\n",
    "input = sys.stdin.read().strip().split()\n",
    "A = int(input[0])\n",
    "B = int(input[1])\n",
    "\n",
    "# Calculate the factorial ratio a!/b!\n",
    "result = factorial_ratio(A, B)\n",
    "\n",
    "# Output the result\n",
    "print(result)\n"
   ]
  },
  {
   "cell_type": "markdown",
   "metadata": {},
   "source": [
    "Given a tree with N nodes and M edges, print whether it is a BinaryTree.\n",
    "\n",
    "Input Description:\n",
    "The first line consists of input N ranges from 1 <= N. The second line consists of N number of space-separated inputs M which ranges from M <= 100000\n",
    "\n",
    "Output Description:\n",
    "Print YES if it was a binary tree else print NO\n",
    "\n",
    "Sample Input :\n",
    "7\n",
    "626 1026 310 410 63 13 2\n",
    "Sample Output :\n",
    "YES"
   ]
  },
  {
   "cell_type": "code",
   "execution_count": null,
   "metadata": {},
   "outputs": [],
   "source": [
    "def is_binary_tree(N, child_counts):\n",
    "    total_edges = sum(child_counts)\n",
    "    \n",
    "    if total_edges != N - 1:\n",
    "        return \"NO\"\n",
    "    \n",
    "    # Count nodes with zero incoming edges (potential roots)\n",
    "    roots_count = 0\n",
    "    for count in child_counts:\n",
    "        if count == 0:\n",
    "            roots_count += 1\n",
    "    \n",
    "    if roots_count == 1:\n",
    "        return \"YES\"\n",
    "    else:\n",
    "        return \"NO\"\n",
    "\n",
    "# Reading input\n",
    "N = int(input().strip())\n",
    "child_counts = list(map(int, input().strip().split()))\n",
    "\n",
    "# Check if it's a binary tree\n",
    "result = is_binary_tree(N, child_counts)\n",
    "print(result)\n"
   ]
  },
  {
   "cell_type": "markdown",
   "metadata": {},
   "source": [
    "You are provided with a number, \"N\". Find its factorial.\n",
    "\n",
    "Input Description:\n",
    "A positive integer is provided as an input.\n",
    "\n",
    "Output Description:\n",
    "Print the factorial of the integer.\n",
    "\n",
    "Sample Input :\n",
    "2\n",
    "Sample Output :\n",
    "2"
   ]
  },
  {
   "cell_type": "code",
   "execution_count": null,
   "metadata": {},
   "outputs": [],
   "source": [
    "N=int(input())\n",
    "\n",
    "fact=1\n",
    "\n",
    "for i in range(1,N+1):\n",
    "    fact *= i\n",
    "    \n",
    "print(fact)"
   ]
  },
  {
   "cell_type": "markdown",
   "metadata": {},
   "source": [
    "Print the First 3 multiples of the given number \"N\". (N is a positive integer)\n",
    "\n",
    "Note: print the characters with a single space between them.\n",
    "\n",
    "Input Description:\n",
    "A positive integer is provided to you as an input.\n",
    "\n",
    "Output Description:\n",
    "Print the First 3 multiples of the number with single spaces between them as an output.\n",
    "\n",
    "Sample Input :\n",
    "2\n",
    "Sample Output :\n",
    "2 4 6"
   ]
  },
  {
   "cell_type": "code",
   "execution_count": null,
   "metadata": {},
   "outputs": [],
   "source": [
    "\n",
    "N=int(input())\n",
    "n1=(N*1)\n",
    "n2=(N*2)\n",
    "n3=(N*3)\n",
    "\n",
    "print(n1,n2,n3)\n"
   ]
  },
  {
   "cell_type": "markdown",
   "metadata": {},
   "source": [
    "You will be provided with a number. Print the number of days in the month corresponding to that number.\n",
    "\n",
    "Note: In case the input is February, print 28 days. If the Input is not in valid range print \"Error\".\n",
    "\n",
    "Input Description:\n",
    "The input is in the form of a number.\n",
    "\n",
    "Output Description:\n",
    "Find the days in the month corresponding to the input number. Print Error if the input is not in a valid range.\n",
    "\n",
    "Sample Input :\n",
    "8\n",
    "Sample Output :\n",
    "31"
   ]
  },
  {
   "cell_type": "markdown",
   "metadata": {},
   "source": [
    "A person saves his monthly saving according to given schema. He saves same amount of money which is equal to the money saved in immediate previous two months. Assume, initially he saved 1000 rupees and in first month he saved another 1000. Your task is to tell how much he had totally saved at the end of ‘n’ months\n",
    "\n",
    "Input Description:\n",
    "You will be given a number ‘n’->No. of months\n",
    "\n",
    "Output Description:\n",
    "Print the total savings at the end of ‘n’ months\n",
    "\n",
    "Sample Input :\n",
    "1\n",
    "Sample Output :\n",
    "2000"
   ]
  },
  {
   "cell_type": "markdown",
   "metadata": {},
   "source": [
    "Rajesh was going through alternative array sorting. He wishes to print the array alternatively. Hence hired you. Your task is to help rajesh in printing the array alternatively.\n",
    "\n",
    "\n",
    "\n",
    "An alternative array is an array in which first element is maximum of the whole array second element is minimum of the whole array. Third element is the second largest. Fourth element is the second smallest And so on. print the array in the desired manner.\n",
    "\n",
    "\n",
    "\n",
    "\n",
    "Input Description:\n",
    "You are given with the length of array ‘n’. followed by ‘n’ space separated numbers.\n",
    "\n",
    "Output Description:\n",
    "Print the array as mentioned.\n",
    "\n",
    "Sample Input :\n",
    "5 1 7 11 16 19\n",
    "Sample Output :\n",
    "19 1 16 7 11"
   ]
  },
  {
   "cell_type": "code",
   "execution_count": 1,
   "metadata": {},
   "outputs": [
    {
     "name": "stdout",
     "output_type": "stream",
     "text": [
      "100 7 69 12 58\n"
     ]
    }
   ],
   "source": [
    "n=int(input())\n",
    "arr=list(map(int,input().split()))\n",
    "\n",
    "arr.sort()\n",
    "\n",
    "left=0\n",
    "right=n-1\n",
    "\n",
    "result=[]\n",
    "\n",
    "while left<=right:\n",
    "    if left==right:\n",
    "        result.append(arr[left])\n",
    "    else:\n",
    "        result.append(arr[right])\n",
    "        result.append(arr[left])\n",
    "    left+=1\n",
    "    right-=1\n",
    "    \n",
    "print(' '.join(map(str, result)))"
   ]
  },
  {
   "cell_type": "markdown",
   "metadata": {},
   "source": [
    "Write a program to rotate the given string by the given number of times.\n",
    "\n",
    "Input Description:\n",
    "String, rotation times\n",
    "\n",
    "Output Description:\n",
    "print the Rotated string\n",
    "\n",
    "Sample Input :\n",
    "hello 3\n",
    "Sample Output :\n",
    "llohe"
   ]
  },
  {
   "cell_type": "code",
   "execution_count": null,
   "metadata": {},
   "outputs": [],
   "source": [
    "# Step 1: Read input\n",
    "input_string, rotation_times = input().split()\n",
    "rotation_times = int(rotation_times)\n",
    "\n",
    "# Step 2: Calculate the effective rotation for right rotation\n",
    "length_of_string = len(input_string)\n",
    "effective_rotation = length_of_string - (rotation_times % length_of_string)\n",
    "\n",
    "# Step 3: Rotate the string\n",
    "rotated_string = input_string[effective_rotation:] + input_string[:effective_rotation]\n",
    "\n",
    "# Step 4: Print the rotated string\n",
    "print(rotated_string)\n"
   ]
  },
  {
   "cell_type": "markdown",
   "metadata": {},
   "source": [
    "You are given with a queue. Your task is to reverse the queue elements and print it.\n",
    "\n",
    "Input Description:\n",
    "You are given a number ‘n’,denoting size of queue, Next line contains s space separated numbers\n",
    "\n",
    "Output Description:\n",
    "Print the reversed queue.\n",
    "\n",
    "Sample Input :\n",
    "6\n",
    "1 2 3 4 5 6\n",
    "Sample Output :\n",
    "6 5 4 3 2 1"
   ]
  },
  {
   "cell_type": "code",
   "execution_count": null,
   "metadata": {},
   "outputs": [],
   "source": [
    "\n",
    "\n",
    "from collections import deque\n",
    "\n",
    "\n",
    "def reverse_queue(queue):\n",
    "    stack = []\n",
    "    \n",
    "    \n",
    "    while queue:\n",
    "        stack.append(queue.popleft())\n",
    "    \n",
    "    \n",
    "    while stack:\n",
    "        queue.append(stack.pop())\n",
    "\n",
    "\n",
    "n = int(input())\n",
    "elements = list(map(int, input().split()))\n",
    "\n",
    "\n",
    "queue = deque(elements)\n",
    "\n",
    "\n",
    "reverse_queue(queue)\n",
    "\n",
    "\n",
    "\n",
    "print(\" \".join(map(str, queue)))\n"
   ]
  },
  {
   "cell_type": "markdown",
   "metadata": {},
   "source": [
    "Write a code to get 2 integers as input and add the integers without any carry.\n",
    "\n",
    "Input Description:\n",
    "A single line containing 2 integers.\n",
    "\n",
    "Output Description:\n",
    "Print sum of the 2 integers without carry\n",
    "\n",
    "Sample Input :\n",
    "44 66\n",
    "Sample Output :\n",
    "0"
   ]
  },
  {
   "cell_type": "code",
   "execution_count": null,
   "metadata": {},
   "outputs": [],
   "source": [
    "# Read input\n",
    "num1, num2 = input().strip().split()\n",
    "num1 = int(num1)\n",
    "num2 = int(num2)\n",
    "\n",
    "result = 0\n",
    "multiplier = 1\n",
    "\n",
    "while num1 > 0 or num2 > 0:\n",
    "    # Extract the last digit of both numbers\n",
    "    digit1 = num1 % 10\n",
    "    digit2 = num2 % 10\n",
    "    \n",
    "    # Add digits without considering carry\n",
    "    sum_digits = (digit1 + digit2) % 10\n",
    "    \n",
    "    # Add to result, considering its place\n",
    "    result += sum_digits * multiplier\n",
    "    \n",
    "    # Move to the next place (tens, hundreds, thousands, etc.)\n",
    "    num1 //= 10\n",
    "    num2 //= 10\n",
    "    multiplier *= 10\n",
    "\n",
    "# Print the result\n",
    "print(result)\n"
   ]
  },
  {
   "cell_type": "markdown",
   "metadata": {},
   "source": [
    "Given a dictionary consisting of many roots and a sentence, write a function replace_words to stem all the words in the sentence with the root forming it. If a word has many roots that can form it, replace it with the root with the shortest length.\n",
    "\n",
    "Example:\n",
    "\n",
    "Input:\n",
    "\n",
    "\n",
    "roots = [\"cat\", \"bat\", \"rat\"]\n",
    "sentence = \"the cattle was rattled by the battery\"\n",
    "Output:\n",
    "\n",
    " \"the cat was rat by the bat\""
   ]
  },
  {
   "cell_type": "code",
   "execution_count": 8,
   "metadata": {},
   "outputs": [
    {
     "data": {
      "text/plain": [
       "'the cat was rat by the bat'"
      ]
     },
     "execution_count": 8,
     "metadata": {},
     "output_type": "execute_result"
    }
   ],
   "source": [
    "roots = [\"cat\", \"bat\", \"rat\"]\n",
    "sentence = \"the cattle was rattled by the battery\"\n",
    "\n",
    "def replace_words(roots,sentence):\n",
    "    words=sentence.split(\" \")\n",
    "\n",
    "    for index,word in enumerate(words):\n",
    "        for root in roots:\n",
    "            if word.startswith(root):\n",
    "                words[index]=root\n",
    "    return \" \".join(words)\n",
    "\n",
    "\n",
    "replace_words(roots,sentence)"
   ]
  },
  {
   "cell_type": "code",
   "execution_count": 10,
   "metadata": {},
   "outputs": [],
   "source": [
    "import re\n",
    "\n",
    "def is_palindrome(text):\n",
    "    # lowering the string\n",
    "    text = text.lower()\n",
    "   \n",
    "    # Cleaning the string\n",
    "    rx = re.compile('\\W+')\n",
    "    text = rx.sub('',text).strip()\n",
    "   \n",
    "    # Reversing and comparing the string\n",
    "    return text == text[::-1]"
   ]
  },
  {
   "cell_type": "code",
   "execution_count": 16,
   "metadata": {},
   "outputs": [
    {
     "name": "stdout",
     "output_type": "stream",
     "text": [
      "anna\n"
     ]
    }
   ],
   "source": [
    "import re\n",
    "text='Anna'\n",
    "\n",
    "text=text.lower()\n",
    "rx=re.compile('\\W+')\n",
    "text=rx.sub('',text).strip()\n",
    "if text==text[::-1]:\n",
    "    print(text)"
   ]
  },
  {
   "cell_type": "code",
   "execution_count": 17,
   "metadata": {},
   "outputs": [
    {
     "name": "stdout",
     "output_type": "stream",
     "text": [
      "Is Anna a palindrome? True\n",
      "Is **Radar**** a palindrome? True\n",
      "Is ntn a palindrome? True\n",
      "Is (Level) a palindrome? True\n",
      "Is Data a palindrome? False\n"
     ]
    }
   ],
   "source": [
    "# Test cases\n",
    "List = ['Anna', '**Radar****','ntn','(Level)', 'Data']\n",
    "\n",
    "for text in List:\n",
    "    print(f\"Is {text} a palindrome? {is_palindrome(text)}\")\n",
    "\n",
    "\n",
    "# Is Anna a palindrome? True\n",
    "# Is **Radar**** a palindrome? True\n",
    "# Is Abid a palindrome? False\n",
    "# Is (Level) a palindrome? True\n",
    "# Is Data a palindrome? False"
   ]
  },
  {
   "cell_type": "markdown",
   "metadata": {},
   "source": [
    "1. Two Sum\n",
    "Easy\n",
    "Topics\n",
    "Companies\n",
    "Hint\n",
    "Given an array of integers nums and an integer target, return indices of the two numbers such that they add up to target.\n",
    "\n",
    "You may assume that each input would have exactly one solution, and you may not use the same element twice.\n",
    "\n",
    "You can return the answer in any order.\n",
    "\n",
    " \n",
    "\n",
    "Example 1:\n",
    "\n",
    "Input: nums = [2,7,11,15], target = 9\n",
    "Output: [0,1]\n",
    "Explanation: Because nums[0] + nums[1] == 9, we return [0, 1].\n",
    "Example 2:\n",
    "\n",
    "Input: nums = [3,2,4], target = 6\n",
    "Output: [1,2]\n",
    "Example 3:\n",
    "\n",
    "Input: nums = [3,3], target = 6\n",
    "Output: [0,1]\n",
    " \n",
    "\n",
    "Constraints:\n",
    "\n",
    "2 <= nums.length <= 104\n",
    "-109 <= nums[i] <= 109\n",
    "-109 <= target <= 109\n",
    "Only one valid answer exists.\n",
    " "
   ]
  },
  {
   "cell_type": "code",
   "execution_count": 1,
   "metadata": {},
   "outputs": [],
   "source": [
    "class Solution:\n",
    "    def twoSum(self, nums,target):\n",
    "        for i in range(len(nums)):\n",
    "            for j in range(i+1,len(nums)):\n",
    "                if nums[i]+nums[j]==target:\n",
    "                    return [i,j]\n",
    " "
   ]
  },
  {
   "cell_type": "markdown",
   "metadata": {},
   "source": [
    "Add Two Numbers\n",
    "Medium\n",
    "Topics\n",
    "Companies\n",
    "You are given two non-empty linked lists representing two non-negative integers. The digits are stored in reverse order, and each of their nodes contains a single digit. Add the two numbers and return the sum as a linked list.\n",
    "\n",
    "You may assume the two numbers do not contain any leading zero, except the number 0 itself.\n",
    "\n",
    " \n",
    "\n",
    "Example 1:\n",
    "\n",
    "\n",
    "Input: l1 = [2,4,3], l2 = [5,6,4]\n",
    "Output: [7,0,8]\n",
    "Explanation: 342 + 465 = 807.\n",
    "Example 2:\n",
    "\n",
    "Input: l1 = [0], l2 = [0]\n",
    "Output: [0]\n",
    "Example 3:\n",
    "\n",
    "Input: l1 = [9,9,9,9,9,9,9], l2 = [9,9,9,9]\n",
    "Output: [8,9,9,9,0,0,0,1]\n",
    " \n",
    "\n",
    "Constraints:\n",
    "\n",
    "The number of nodes in each linked list is in the range [1, 100].\n",
    "0 <= Node.val <= 9\n",
    "It is guaranteed that the list represents a number that does not have leading zeros."
   ]
  },
  {
   "cell_type": "code",
   "execution_count": 2,
   "metadata": {},
   "outputs": [
    {
     "name": "stdout",
     "output_type": "stream",
     "text": [
      "7 0 8 \n",
      "0 \n",
      "8 9 9 9 0 0 0 1 \n"
     ]
    }
   ],
   "source": [
    "# Definition for singly-linked list.\n",
    "class ListNode:\n",
    "    def __init__(self, val=0, next=None):\n",
    "        self.val = val\n",
    "        self.next = next\n",
    "\n",
    "class Solution:\n",
    "    def addTwoNumbers(self, l1: ListNode, l2: ListNode) -> ListNode:\n",
    "        # Initialize the dummy node to help build the result linked list\n",
    "        dummy = ListNode(0)\n",
    "        current = dummy\n",
    "        carry = 0\n",
    "\n",
    "        # Traverse both linked lists\n",
    "        while l1 or l2 or carry:\n",
    "            # Get the values from the current nodes or 0 if one list is shorter\n",
    "            val1 = l1.val if l1 else 0\n",
    "            val2 = l2.val if l2 else 0\n",
    "            \n",
    "            # Calculate the sum of values and carry\n",
    "            total = val1 + val2 + carry\n",
    "            carry = total // 10  # Calculate the carry\n",
    "            new_value = total % 10  # Get the new digit for the result\n",
    "            \n",
    "            # Add the new value as a new node to the result list\n",
    "            current.next = ListNode(new_value)\n",
    "            current = current.next\n",
    "            \n",
    "            # Move to the next nodes in the lists if they exist\n",
    "            if l1: l1 = l1.next\n",
    "            if l2: l2 = l2.next\n",
    "        \n",
    "        # Return the next node of dummy since the first node is a placeholder\n",
    "        return dummy.next\n",
    "\n",
    "# Helper function to create linked lists from a list\n",
    "def create_linked_list(numbers):\n",
    "    dummy = ListNode(0)\n",
    "    current = dummy\n",
    "    for number in numbers:\n",
    "        current.next = ListNode(number)\n",
    "        current = current.next\n",
    "    return dummy.next\n",
    "\n",
    "# Helper function to print the linked list\n",
    "def print_linked_list(node):\n",
    "    while node:\n",
    "        print(node.val, end=' ')\n",
    "        node = node.next\n",
    "    print()\n",
    "\n",
    "# Example Usage\n",
    "solution = Solution()\n",
    "\n",
    "# Test case 1\n",
    "l1 = create_linked_list([2, 4, 3])\n",
    "l2 = create_linked_list([5, 6, 4])\n",
    "result = solution.addTwoNumbers(l1, l2)\n",
    "print_linked_list(result)  # Output: 7 0 8\n",
    "\n",
    "# Test case 2\n",
    "l1 = create_linked_list([0])\n",
    "l2 = create_linked_list([0])\n",
    "result = solution.addTwoNumbers(l1, l2)\n",
    "print_linked_list(result)  # Output: 0\n",
    "\n",
    "# Test case 3\n",
    "l1 = create_linked_list([9, 9, 9, 9, 9, 9, 9])\n",
    "l2 = create_linked_list([9, 9, 9, 9])\n",
    "result = solution.addTwoNumbers(l1, l2)\n",
    "print_linked_list(result)  # Output: 8 9 9 9 0 0 0 1\n"
   ]
  },
  {
   "cell_type": "markdown",
   "metadata": {},
   "source": [
    "Longest Substring Without Repeating Characters\n",
    "Medium\n",
    "Topics\n",
    "Companies\n",
    "Hint\n",
    "Given a string s, find the length of the longest \n",
    "substring\n",
    " without repeating characters.\n",
    "\n",
    " \n",
    "\n",
    "Example 1:\n",
    "\n",
    "Input: s = \"abcabcbb\"\n",
    "Output: 3\n",
    "Explanation: The answer is \"abc\", with the length of 3.\n",
    "Example 2:\n",
    "\n",
    "Input: s = \"bbbbb\"\n",
    "Output: 1\n",
    "Explanation: The answer is \"b\", with the length of 1.\n",
    "Example 3:\n",
    "\n",
    "Input: s = \"pwwkew\"\n",
    "Output: 3\n",
    "Explanation: The answer is \"wke\", with the length of 3.\n",
    "Notice that the answer must be a substring, \"pwke\" is a subsequence and not a substring.\n",
    " \n",
    "\n",
    "Constraints:\n",
    "\n",
    "0 <= s.length <= 5 * 104\n",
    "s consists of English letters, digits, symbols and spaces."
   ]
  },
  {
   "cell_type": "code",
   "execution_count": 3,
   "metadata": {},
   "outputs": [],
   "source": [
    "class Solution:\n",
    "    def lengthOfLongestSubstring(self, s):\n",
    "        char_set = set() \n",
    "        left = 0\n",
    "        max_len = 0 \n",
    "\n",
    "      \n",
    "        for right in range(len(s)):\n",
    "            while s[right] in char_set:\n",
    "                char_set.remove(s[left])  \n",
    "                left += 1  \n",
    "\n",
    "            char_set.add(s[right])\n",
    "            max_len = max(max_len, right - left + 1)\n",
    "\n",
    "        return max_len\n"
   ]
  },
  {
   "cell_type": "markdown",
   "metadata": {},
   "source": [
    "Longest Palindromic Substring\n",
    "Medium\n",
    "Topics\n",
    "Companies\n",
    "Hint\n",
    "Given a string s, return the longest \n",
    "palindromic\n",
    " \n",
    "substring\n",
    " in s.\n",
    "\n",
    " \n",
    "\n",
    "Example 1:\n",
    "\n",
    "Input: s = \"babad\"\n",
    "Output: \"bab\"\n",
    "Explanation: \"aba\" is also a valid answer.\n",
    "Example 2:\n",
    "\n",
    "Input: s = \"cbbd\"\n",
    "Output: \"bb\"\n",
    " \n",
    "\n",
    "Constraints:\n",
    "\n",
    "1 <= s.length <= 1000\n",
    "s consist of only digits and English letters."
   ]
  },
  {
   "cell_type": "code",
   "execution_count": null,
   "metadata": {},
   "outputs": [],
   "source": []
  },
  {
   "cell_type": "markdown",
   "metadata": {},
   "source": [
    " Roman to Integer\n",
    "Easy\n",
    "Topics\n",
    "Companies\n",
    "Hint\n",
    "Roman numerals are represented by seven different symbols: I, V, X, L, C, D and M.\n",
    "\n",
    "Symbol       Value\n",
    "I             1\n",
    "V             5\n",
    "X             10\n",
    "L             50\n",
    "C             100\n",
    "D             500\n",
    "M             1000\n",
    "For example, 2 is written as II in Roman numeral, just two ones added together. 12 is written as XII, which is simply X + II. The number 27 is written as XXVII, which is XX + V + II.\n",
    "\n",
    "Roman numerals are usually written largest to smallest from left to right. However, the numeral for four is not IIII. Instead, the number four is written as IV. Because the one is before the five we subtract it making four. The same principle applies to the number nine, which is written as IX. There are six instances where subtraction is used:\n",
    "\n",
    "I can be placed before V (5) and X (10) to make 4 and 9. \n",
    "X can be placed before L (50) and C (100) to make 40 and 90. \n",
    "C can be placed before D (500) and M (1000) to make 400 and 900.\n",
    "Given a roman numeral, convert it to an integer.\n",
    "\n",
    " \n",
    "\n",
    "Example 1:\n",
    "\n",
    "Input: s = \"III\"\n",
    "Output: 3\n",
    "Explanation: III = 3.\n",
    "Example 2:\n",
    "\n",
    "Input: s = \"LVIII\"\n",
    "Output: 58\n",
    "Explanation: L = 50, V= 5, III = 3.\n",
    "Example 3:\n",
    "\n",
    "Input: s = \"MCMXCIV\"\n",
    "Output: 1994\n",
    "Explanation: M = 1000, CM = 900, XC = 90 and IV = 4.\n",
    " \n",
    "\n",
    "Constraints:\n",
    "\n",
    "1 <= s.length <= 15\n",
    "s contains only the characters ('I', 'V', 'X', 'L', 'C', 'D', 'M').\n",
    "It is guaranteed that s is a valid roman numeral in the range [1, 3999]."
   ]
  },
  {
   "cell_type": "code",
   "execution_count": 4,
   "metadata": {},
   "outputs": [],
   "source": [
    "class Solution:\n",
    "    def romanToInt(self, s: str) -> int:\n",
    "        roman_to_int={\n",
    "            'I':1,\n",
    "            'V':5,\n",
    "            'X':10,\n",
    "            'L':50,\n",
    "            'C':100,\n",
    "            'D':500,\n",
    "            'M':1000\n",
    "        }\n",
    "        total=0\n",
    "        prev_value=0\n",
    "\n",
    "        for char in s:\n",
    "            current_value=roman_to_int[char]\n",
    "\n",
    "            if current_value>prev_value:\n",
    "                total+=current_value-2*prev_value\n",
    "            else:\n",
    "                total+=current_value\n",
    "            prev_value=current_value\n",
    "        return total\n"
   ]
  },
  {
   "cell_type": "markdown",
   "metadata": {},
   "source": [
    "Longest Common Prefix\n",
    "Easy\n",
    "Topics\n",
    "Companies\n",
    "Write a function to find the longest common prefix string amongst an array of strings.\n",
    "\n",
    "If there is no common prefix, return an empty string \"\".\n",
    "\n",
    " \n",
    "\n",
    "Example 1:\n",
    "\n",
    "Input: strs = [\"flower\",\"flow\",\"flight\"]\n",
    "Output: \"fl\"\n",
    "Example 2:\n",
    "\n",
    "Input: strs = [\"dog\",\"racecar\",\"car\"]\n",
    "Output: \"\"\n",
    "Explanation: There is no common prefix among the input strings.\n",
    " \n",
    "\n",
    "Constraints:\n",
    "\n",
    "1 <= strs.length <= 200\n",
    "0 <= strs[i].length <= 200\n",
    "strs[i] consists of only lowercase English letters."
   ]
  },
  {
   "cell_type": "code",
   "execution_count": null,
   "metadata": {},
   "outputs": [],
   "source": [
    "class Solution:\n",
    "    def longestCommonPrefix(self, strs: List[str]) -> str:\n",
    "        if not strs:\n",
    "            return \"\"\n",
    "        prefix=strs[0]\n",
    "\n",
    "        for string in strs[1:]:\n",
    "            while not string.startswith(prefix):\n",
    "                prefix=prefix[:-1]\n",
    "                if not prefix:\n",
    "                    return \"\"\n",
    "        return prefix\n",
    "        "
   ]
  },
  {
   "cell_type": "code",
   "execution_count": 3,
   "metadata": {},
   "outputs": [
    {
     "name": "stdout",
     "output_type": "stream",
     "text": [
      "no\n"
     ]
    }
   ],
   "source": [
    "word='sam'\n",
    "if word==word[::-1]:\n",
    "    print('pal')\n",
    "else:\n",
    "    print('no')"
   ]
  },
  {
   "cell_type": "code",
   "execution_count": 12,
   "metadata": {},
   "outputs": [
    {
     "name": "stdout",
     "output_type": "stream",
     "text": [
      "\n"
     ]
    }
   ],
   "source": [
    "a='hello world'\n",
    "s=''\n",
    "if len(a)<5:\n",
    "    s=a[:5][::-1] + a[5:]\n",
    "print(s)"
   ]
  },
  {
   "cell_type": "code",
   "execution_count": 7,
   "metadata": {},
   "outputs": [
    {
     "name": "stdout",
     "output_type": "stream",
     "text": [
      "1\n",
      "2\n"
     ]
    }
   ],
   "source": [
    "arr=[1,2,3,1,4,2]\n",
    "for i in range(len(arr)):\n",
    "    for j in range(i+1,len(arr)):\n",
    "        if arr[i]==arr[j]:\n",
    "            print(arr[i])\n"
   ]
  }
 ],
 "metadata": {
  "kernelspec": {
   "display_name": ".venv",
   "language": "python",
   "name": "python3"
  },
  "language_info": {
   "codemirror_mode": {
    "name": "ipython",
    "version": 3
   },
   "file_extension": ".py",
   "mimetype": "text/x-python",
   "name": "python",
   "nbconvert_exporter": "python",
   "pygments_lexer": "ipython3",
   "version": "3.11.9"
  }
 },
 "nbformat": 4,
 "nbformat_minor": 2
}
