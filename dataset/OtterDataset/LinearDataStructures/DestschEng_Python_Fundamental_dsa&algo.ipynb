{
  "cells": [
    {
      "cell_type": "code",
      "execution_count": null,
      "metadata": {
        "colab": {
          "base_uri": "https://localhost:8080/"
        },
        "id": "P1Q9HgRAaAsc",
        "outputId": "76e55004-c77c-478e-d563-746e169c2c90"
      },
      "outputs": [
        {
          "name": "stdout",
          "output_type": "stream",
          "text": [
            "Array: [2, 100, 49, 93, 50, 16, 33, 62, 7, 89]\n",
            "Enter the target:33\n",
            "Length of array: 10\n",
            "2\n",
            "100\n",
            "49\n",
            "93\n",
            "50\n",
            "16\n",
            "\n",
            "Target found at index: 6\n"
          ]
        }
      ],
      "source": [
        "# ------- Linear_Search\n",
        "import random\n",
        "\n",
        "def generate_random_number():\n",
        "  array=[]\n",
        "  for i in range(10):\n",
        "    array.append(random.randint(1,100))\n",
        "  return array\n",
        "\n",
        "def linear_search(array,target):\n",
        "  n=len(array)\n",
        "  print(\"Length of array:\",n)\n",
        "  for i in range(n):\n",
        "    if array[i]==target:\n",
        "      return i\n",
        "    print(array[i])\n",
        "  return -1\n",
        "\n",
        "def main():\n",
        "  array=generate_random_number()\n",
        "  print(\"Array:\",array)\n",
        "  target=int(input(\"Enter the target:\"))\n",
        "  result=linear_search(array,target)\n",
        "  print()\n",
        "  if result!=-1:\n",
        "    print(\"Target found at index:\",result)\n",
        "  else:\n",
        "    print(\"Target not found\")\n",
        "\n",
        "if __name__==\"__main__\":\n",
        "  main()"
      ]
    },
    {
      "cell_type": "code",
      "execution_count": null,
      "metadata": {
        "colab": {
          "base_uri": "https://localhost:8080/"
        },
        "id": "rvFStPQWcYIw",
        "outputId": "4a43801c-e417-46be-caf5-6ed516eb824d"
      },
      "outputs": [
        {
          "name": "stdout",
          "output_type": "stream",
          "text": [
            "Array: [42, 52, 59, 65, 68, 70, 76, 79, 83, 87]\n",
            "Enter the target: 83\n",
            "Left: 0, Right: 9, Mid: 4, Mid Value: 68\n",
            "Left: 5, Right: 9, Mid: 7, Mid Value: 79\n",
            "Left: 8, Right: 9, Mid: 8, Mid Value: 83\n",
            "Target found at index: 8 target number 83\n"
          ]
        }
      ],
      "source": [
        "# ------ Binary_search\n",
        "# ------ best case O(1), worst case O(log(n))\n",
        "import random\n",
        "\n",
        "def generate_increase_number(n: int):\n",
        "    array = []\n",
        "    first_number = random.randint(1, 100)\n",
        "    array.append(first_number)\n",
        "    for i in range(1, n):\n",
        "        increase_number = array[i-1] + random.randint(1, 10)  # Smaller increment for better control\n",
        "        array.append(increase_number)\n",
        "    return array\n",
        "\n",
        "def binary_search(array: list, target: int):\n",
        "    left = 0\n",
        "    right = len(array) - 1\n",
        "    while left <= right:\n",
        "        mid = (left + right) // 2\n",
        "        print(f\"Left: {left}, Right: {right}, Mid: {mid}, Mid Value: {array[mid]}\")  # Debug print\n",
        "        if array[mid] == target:\n",
        "            return mid\n",
        "        elif array[mid] < target:\n",
        "            left = mid + 1\n",
        "        else:\n",
        "            right = mid - 1\n",
        "    return -1\n",
        "\n",
        "def main():\n",
        "    array = generate_increase_number(10)\n",
        "    print(\"Array:\", array)\n",
        "    target = int(input(\"Enter the target: \"))\n",
        "    result = binary_search(array, target)\n",
        "    if result != -1:\n",
        "        print(\"Target found at index:\", result, \"target number\", array[result])\n",
        "    else:\n",
        "        print(\"Target not found\")\n",
        "\n",
        "if __name__ == \"__main__\":\n",
        "    main()\n"
      ]
    },
    {
      "cell_type": "code",
      "execution_count": null,
      "metadata": {
        "colab": {
          "base_uri": "https://localhost:8080/"
        },
        "id": "6bVvCvUvmhjF",
        "outputId": "e395ceb9-6c1b-4b2e-e48c-ffa2f82383cd"
      },
      "outputs": [
        {
          "name": "stdout",
          "output_type": "stream",
          "text": [
            "Array:\n",
            " [1, 76, 64, 39, 62, 32, 65, 53, 51, 47]\n",
            "1 - [1, 32, 76, 64, 39, 62, 47, 65, 53, 51]\n",
            "2 - [1, 32, 39, 76, 64, 47, 62, 51, 65, 53]\n",
            "3 - [1, 32, 39, 47, 76, 64, 51, 62, 53, 65]\n",
            "4 - [1, 32, 39, 47, 51, 76, 64, 53, 62, 65]\n",
            "5 - [1, 32, 39, 47, 51, 53, 76, 64, 62, 65]\n",
            "6 - [1, 32, 39, 47, 51, 53, 62, 76, 64, 65]\n",
            "7 - [1, 32, 39, 47, 51, 53, 62, 64, 76, 65]\n",
            "8 - [1, 32, 39, 47, 51, 53, 62, 64, 65, 76]\n",
            "9 - [1, 32, 39, 47, 51, 53, 62, 64, 65, 76]\n",
            "Sorted array: [1, 32, 39, 47, 51, 53, 62, 64, 65, 76]\n"
          ]
        }
      ],
      "source": [
        "# ------ Bubble_Sort\n",
        "# 0, 1 .... n-2, n-1 (n là số phần tử của danh sách)\n",
        "import random\n",
        "\n",
        "def generate_random_number(n:int):\n",
        "  array=[]\n",
        "  for i in range(n):\n",
        "    array.append(random.randint(1,100))\n",
        "  return array\n",
        "def bubble_sort(array:list):\n",
        "  n=len(array)\n",
        "  for i in range(n): # i=[0,n-1]\n",
        "    swapped=False\n",
        "    for j in range(n-2,i-1,-1): # j=[n-2,i]\n",
        "      if array[j]>array[j+1]:\n",
        "        array[j],array[j+1]=array[j+1],array[j]\n",
        "        swapped=True\n",
        "    print(i+1,\"-\", array)\n",
        "    if swapped==False:\n",
        "      break\n",
        "def main():\n",
        "  array=generate_random_number(10)\n",
        "  print(\"Array:\\n\",array)\n",
        "  bubble_sort(array)\n",
        "  print(\"Sorted array:\",array)\n",
        "\n",
        "if __name__==\"__main__\":\n",
        "  main()"
      ]
    },
    {
      "cell_type": "code",
      "execution_count": null,
      "metadata": {
        "colab": {
          "base_uri": "https://localhost:8080/"
        },
        "id": "fMcxivKy5qCC",
        "outputId": "70cc8fac-dfba-4054-d821-46bbf882e7c8"
      },
      "outputs": [
        {
          "name": "stdout",
          "output_type": "stream",
          "text": [
            "Array:\n",
            " [56, 57, 26, 94, 79, 80, 25, 60, 33, 80]\n",
            "1 - [25, 57, 26, 94, 79, 80, 56, 60, 33, 80]\n",
            "2 - [25, 26, 57, 94, 79, 80, 56, 60, 33, 80]\n",
            "3 - [25, 26, 33, 94, 79, 80, 56, 60, 57, 80]\n",
            "4 - [25, 26, 33, 56, 79, 80, 94, 60, 57, 80]\n",
            "5 - [25, 26, 33, 56, 57, 80, 94, 60, 79, 80]\n",
            "6 - [25, 26, 33, 56, 57, 60, 94, 80, 79, 80]\n",
            "7 - [25, 26, 33, 56, 57, 60, 79, 80, 94, 80]\n",
            "8 - [25, 26, 33, 56, 57, 60, 79, 80, 94, 80]\n",
            "9 - [25, 26, 33, 56, 57, 60, 79, 80, 80, 94]\n",
            "10 - [25, 26, 33, 56, 57, 60, 79, 80, 80, 94]\n",
            "Sorted array: [25, 26, 33, 56, 57, 60, 79, 80, 80, 94]\n"
          ]
        }
      ],
      "source": [
        "# ---- Selection_Sort (Sắp xếp chọn)\n",
        "import random\n",
        "from typing import List\n",
        "\n",
        "def generate_random_number(n:int) -> List[int]:\n",
        "  array=[]\n",
        "  for i in range(n):\n",
        "    array.append(random.randint(1,100))\n",
        "  return array\n",
        "def Selection_Sort(array:List[int]) -> List[int]:\n",
        "  for i in range(len(array)):\n",
        "    min_index=i\n",
        "    for j in range(i+1,len(array)):\n",
        "      if array[j]<array[min_index]:\n",
        "        min_index=j\n",
        "    array[i],array[min_index]=array[min_index],array[i]\n",
        "    print(i+1,\"-\", array)\n",
        "  return array\n",
        "\n",
        "def main():\n",
        "  array=generate_random_number(10)\n",
        "  print(\"Array:\\n\",array)\n",
        "  Selection_Sort(array)\n",
        "  print(\"Sorted array:\",array)\n",
        "\n",
        "if __name__==\"__main__\":\n",
        "  main()"
      ]
    },
    {
      "cell_type": "code",
      "execution_count": null,
      "metadata": {
        "colab": {
          "base_uri": "https://localhost:8080/"
        },
        "id": "iXjDXkRCYXAN",
        "outputId": "e37dbd09-c4c0-4502-8f22-001c31457263"
      },
      "outputs": [
        {
          "name": "stdout",
          "output_type": "stream",
          "text": [
            "Array:\n",
            " [9, 100, 66, 70, 32, 54, 54, 31, 35, 14]\n",
            "1 - [9, 100, 66, 70, 32, 54, 54, 31, 35, 14]\n",
            "2 - [9, 66, 100, 70, 32, 54, 54, 31, 35, 14]\n",
            "3 - [9, 66, 70, 100, 32, 54, 54, 31, 35, 14]\n",
            "4 - [9, 32, 66, 70, 100, 54, 54, 31, 35, 14]\n",
            "5 - [9, 32, 54, 66, 70, 100, 54, 31, 35, 14]\n",
            "6 - [9, 32, 54, 54, 66, 70, 100, 31, 35, 14]\n",
            "7 - [9, 31, 32, 54, 54, 66, 70, 100, 35, 14]\n",
            "8 - [9, 31, 32, 35, 54, 54, 66, 70, 100, 14]\n",
            "9 - [9, 14, 31, 32, 35, 54, 54, 66, 70, 100]\n",
            "Sorted array: [9, 14, 31, 32, 35, 54, 54, 66, 70, 100]\n"
          ]
        }
      ],
      "source": [
        "# ------ Insertion_Sort\n",
        "import random\n",
        "from typing import List\n",
        "def generate_random_number(n:int) -> List[int]:\n",
        "  array=[]\n",
        "  for i in range(n):\n",
        "    array.append(random.randint(1,100))\n",
        "  return array\n",
        "def insertion_sort(array:List[int]) -> List[int]:\n",
        "  n = len(array)\n",
        "  for i in range(1, n): # 0 index already sort\n",
        "    key = array[i]\n",
        "    j = i\n",
        "    while j >= 0 and key < array[j-1]:\n",
        "      array[j] = array[j-1]\n",
        "      j -= 1\n",
        "    array[j] = key\n",
        "    print(i,\"-\",array)\n",
        "  return array\n",
        "def main():\n",
        "  array=generate_random_number(10)\n",
        "  print(\"Array:\\n\",array)\n",
        "  insertion_sort(array)\n",
        "  print(\"Sorted array:\",array)\n",
        "\n",
        "if __name__==\"__main__\":\n",
        "  main()"
      ]
    },
    {
      "cell_type": "code",
      "execution_count": null,
      "metadata": {
        "colab": {
          "base_uri": "https://localhost:8080/"
        },
        "id": "xUDjru5kf-Lx",
        "outputId": "ca724864-0273-4952-d145-31dc653e9241"
      },
      "outputs": [
        {
          "name": "stdout",
          "output_type": "stream",
          "text": [
            "Array:\n",
            " [94, 39, 19, 53, 77, 27, 63, 77, 78, 5]\n",
            "Sorted array: [5, 19, 27, 39, 53, 63, 77, 77, 78, 94]\n"
          ]
        }
      ],
      "source": [
        "# ------ Merge_Sort\n",
        "import random\n",
        "from typing import List\n",
        "def generate_random_number(n:int) -> List[int]:\n",
        "  array=[]\n",
        "  for i in range(n):\n",
        "    array.append(random.randint(1,100))\n",
        "  return array\n",
        "def merge_sort(array:List[int]) -> List[int]:\n",
        "  if len(array) > 1:\n",
        "    mid=len(array)//2 # lấy cận dưới [trái, phải]\n",
        "    left=array[:mid]  # left is a new array that contains all the elements from the start up to mid.\n",
        "    right=array[mid:] # right is a new array that contains all the elements from mid to the end.\n",
        "    merge_sort(left)  # Recursively sort the first half\n",
        "    merge_sort(right) # Recursively sort the second half\n",
        "    i=j=k=0 # i, j, k are indices used to keep track of positions in the left, right, and array respectively.\n",
        "    \"\"\"\n",
        "    The while loop compares elements from left and right.\n",
        "    It places the smaller element into the array and moves the index forward (i or j).\n",
        "    k is used to track the position in the array where the next smallest element should go.\n",
        "    \"\"\"\n",
        "    # Merge the two halves back into the original array\n",
        "    while i<len(left) and j<len(right):\n",
        "      if left[i]<right[j]:\n",
        "        array[k]=left[i]\n",
        "        i+=1\n",
        "      else:\n",
        "        array[k]=right[j]\n",
        "        j+=1\n",
        "      k+=1\n",
        "    while i<len(left):\n",
        "      array[k]=left[i]\n",
        "      i+=1\n",
        "      k+=1\n",
        "    while j<len(right):\n",
        "      array[k]=right[j]\n",
        "      j+=1\n",
        "      k+=1\n",
        "    #end while\n",
        "  #end if\n",
        "  return array\n",
        "def main():\n",
        "  array=generate_random_number(10)\n",
        "  print(\"Array:\\n\",array)\n",
        "  merge_sort(array)\n",
        "  print(\"Sorted array:\",array)\n",
        "\n",
        "if __name__==\"__main__\":\n",
        "  main()"
      ]
    },
    {
      "cell_type": "code",
      "execution_count": null,
      "metadata": {
        "id": "lrieLdVf7qTl"
      },
      "outputs": [],
      "source": [
        "#Merge sort is a “divide and conquer” sorting algorithm.\n",
        "#It breaks a problem into smaller pieces, solves each piece, and then combines the solutions to solve the original problem.\n",
        "\"\"\"\n",
        "Imagine you have a big pile of playing cards that are all jumbled up,\n",
        "and you want to sort them by number. Here’s how you can think about this sorting method:\n",
        "\n",
        "Splitting: First, you cut the pile of cards into two smaller piles.\n",
        "You keep doing this until you end up with lots of tiny piles, each with just one card.\n",
        "(This is like breaking the list into smaller lists.)\n",
        "\n",
        "Sorting Tiny Piles: Since each tiny pile has only one card, it’s already sorted.\n",
        "\n",
        "Merging: Next, you start combining the tiny piles back into bigger piles,\n",
        "but you make sure to put the cards in order as you combine them.\n",
        "You compare the top cards of the two small piles and put the smaller one into a new pile.\n",
        "\n",
        "Combining the Piles: After you’ve compared and combined all the small piles into bigger piles,\n",
        "you do the same thing until you have your big pile of cards sorted from smallest to largest.\n",
        "\n",
        "In the code:\n",
        "\n",
        "Splitting is done by dividing the list into left and right.\n",
        "Sorting Tiny Piles happens through the recursive calls to merge_sort.\n",
        "Merging happens in the loops where we combine the sorted smaller lists (left and right) back into the original list (array), ensuring everything is in order.\n",
        "\"\"\""
      ]
    },
    {
      "cell_type": "code",
      "execution_count": null,
      "metadata": {
        "colab": {
          "base_uri": "https://localhost:8080/"
        },
        "id": "X6D7mAil-0OB",
        "outputId": "d7276bdf-b245-4163-c687-20ea7ac3c93a"
      },
      "outputs": [
        {
          "name": "stdout",
          "output_type": "stream",
          "text": [
            "Array:\n",
            " [21, 83, 15, 57, 61, 65, 57, 71, 23, 94]\n",
            "Sorted array: [15, 21, 23, 57, 57, 61, 65, 71, 83, 94]\n"
          ]
        }
      ],
      "source": [
        "# ----- Quick_Sort\n",
        "import random\n",
        "from typing import List\n",
        "\n",
        "def generate_random_number(n:int) -> List[int]:\n",
        "  array=[]\n",
        "  for i in range(n):\n",
        "    array.append(random.randint(1,100))\n",
        "  return array\n",
        "\n",
        "# low  --> Starting index, high  --> Ending index\n",
        "def partition(array:List[int],low:int,high:int) -> int:\n",
        "  pivot=array[high] # pivot mốc ...\n",
        "  i=low-1 # chỉ mục của phần tử nhỏ hơn mốc\n",
        "  for j in range(low,high):\n",
        "    if array[j]<=pivot:\n",
        "      # If element smaller than pivot is found\n",
        "      # swap it with the greater element pointed by i\n",
        "      i+=1\n",
        "      array[i],array[j]=array[j],array[i] # swap\n",
        "  array[i+1],array[high]=array[high],array[i+1] # swap nếu lớn hơn mốc\n",
        "  return i+1 # chỉ mục chia d/s thành 2 phần nhỏ hơn và lớn hơn mốc\n",
        "\n",
        "def quick_sort(array:List[int],low:int, high:int) -> None:\n",
        "  if low<high:\n",
        "    pi=partition(array,low,high)\n",
        "    quick_sort(array,low,pi-1)\n",
        "    quick_sort(array,pi+1,high)\n",
        "\n",
        "def main():\n",
        "  array=generate_random_number(10)\n",
        "  print(\"Array:\\n\",array)\n",
        "  quick_sort(array,0,len(array)-1)\n",
        "  print(\"Sorted array:\",array)\n",
        "if __name__==\"__main__\":\n",
        "  main()"
      ]
    },
    {
      "cell_type": "code",
      "execution_count": null,
      "metadata": {
        "colab": {
          "base_uri": "https://localhost:8080/"
        },
        "id": "YanH9WQkz5Bp",
        "outputId": "5d0c602c-4cc2-43c3-ccc1-90969fe29d3a"
      },
      "outputs": [
        {
          "name": "stdout",
          "output_type": "stream",
          "text": [
            "Unsorted array:\n",
            " [33, 68, 29, 35, 6, 54, 92, 32, 40, 2]\n",
            "Sorted array:\n",
            " [2, 6, 29, 32, 33, 35, 40, 54, 68, 92]\n"
          ]
        }
      ],
      "source": [
        "# Quick_Sort_2\n",
        "import random\n",
        "from typing import List\n",
        "def generate_random_number(n:int)->List[int]:\n",
        "  array=[]\n",
        "  for i in range(n):\n",
        "    array.append(random.randint(1,100))\n",
        "  return array\n",
        "\n",
        "def quick_sort(array: List[int]) -> List[int]:\n",
        "    if len(array) <= 1:\n",
        "        return array\n",
        "    pivot = array[0]\n",
        "    left = [x for x in array[1:] if x <= pivot]\n",
        "    right = [x for x in array[1:] if x > pivot]\n",
        "    return quick_sort(left) + [pivot] + quick_sort(right)\n",
        "\n",
        "# Example usage:\n",
        "if __name__ == \"__main__\":\n",
        "    n = 10\n",
        "    random_numbers = generate_random_number(n)\n",
        "    print(f\"Unsorted array:\\n {random_numbers}\")\n",
        "    sorted_numbers = quick_sort(random_numbers)\n",
        "    print(f\"Sorted array:\\n {sorted_numbers}\")"
      ]
    },
    {
      "cell_type": "code",
      "execution_count": null,
      "metadata": {
        "colab": {
          "base_uri": "https://localhost:8080/",
          "height": 53
        },
        "collapsed": true,
        "id": "YTuJKz782An-",
        "outputId": "873d4422-0e97-4119-ebb4-ff31886b2b0b"
      },
      "outputs": [
        {
          "data": {
            "application/vnd.google.colaboratory.intrinsic+json": {
              "type": "string"
            },
            "text/plain": [
              "'\\narray = [5, 3, 8, 4, 2, 7, 6, 1]\\npivot = array[0]  # pivot is 5\\narray[1:]  # gives [3, 8, 4, 2, 7, 6, 1]\\n\\nleft = [x for x in array[1:] if x <= 5]  # [3, 4, 2, 1]\\nright = [x for x in array[1:] if x > 5]  # [8, 7, 6]\\n'"
            ]
          },
          "execution_count": 11,
          "metadata": {},
          "output_type": "execute_result"
        }
      ],
      "source": [
        "\"\"\"\n",
        "array = [5, 3, 8, 4, 2, 7, 6, 1]\n",
        "pivot = array[0]  # pivot is 5\n",
        "array[1:]  # gives [3, 8, 4, 2, 7, 6, 1]\n",
        "\n",
        "left = [x for x in array[1:] if x <= 5]  # [3, 4, 2, 1]\n",
        "right = [x for x in array[1:] if x > 5]  # [8, 7, 6]\n",
        "\"\"\""
      ]
    },
    {
      "cell_type": "code",
      "execution_count": null,
      "metadata": {
        "colab": {
          "base_uri": "https://localhost:8080/"
        },
        "id": "SPErI5xW5Itf",
        "outputId": "b6b7867c-a0b5-49d9-9ee1-db45fd2c78bb"
      },
      "outputs": [
        {
          "name": "stdout",
          "output_type": "stream",
          "text": [
            "3\n",
            "5\n",
            "3\n",
            "4\n"
          ]
        }
      ],
      "source": [
        "from typing import Optional\n",
        "\n",
        "class Node:\n",
        "    def __init__(self, data: Optional[int] = None, next: Optional['Node'] = None) -> None:\n",
        "        self.data: Optional[int] = data\n",
        "        self.next: Optional['Node'] = next\n",
        "\n",
        "# Tạo Linked List\n",
        "head = Node(3)\n",
        "head.next = Node(5)\n",
        "head.next.next = Node(3)\n",
        "head.next.next.next = Node(4)\n",
        "\n",
        "# Duyệt Linked List\n",
        "current = head\n",
        "while current:\n",
        "    print(current.data)\n",
        "    current = current.next\n"
      ]
    },
    {
      "cell_type": "code",
      "execution_count": null,
      "metadata": {
        "colab": {
          "base_uri": "https://localhost:8080/"
        },
        "id": "8LQ976Rtewnk",
        "outputId": "a5e860ee-bd2f-47e6-e7a8-287cad0214e5"
      },
      "outputs": [
        {
          "name": "stdout",
          "output_type": "stream",
          "text": [
            "Input 1: 2 -> 4 -> 3\n",
            "Input 2: 5 -> 6 -> 4\n",
            "Result: 7 -> 0 -> 8\n"
          ]
        }
      ],
      "source": [
        "class ListNode:\n",
        "    def __init__(self, x):\n",
        "        self.val = x\n",
        "        self.next = None\n",
        "\n",
        "class Solution:\n",
        "    def addTwoNumbers(self, l1: ListNode, l2: ListNode) -> ListNode:\n",
        "        dummy = ListNode(0)\n",
        "        current = dummy\n",
        "        carry = 0\n",
        "        while l1 or l2 or carry:\n",
        "            # Get the values from l1 and l2, or 0 if they're null\n",
        "            val1 = l1.val if l1 else 0\n",
        "            val2 = l2.val if l2 else 0\n",
        "            # Calculate the sum and carry\n",
        "            total = val1 + val2 + carry\n",
        "            carry = total // 10\n",
        "            # Create a new node with the value (total % 10)\n",
        "            current.next = ListNode(total % 10)\n",
        "            current = current.next\n",
        "            # Move to the next node in l1 and l2 if they exist\n",
        "            if l1:\n",
        "                l1 = l1.next\n",
        "            if l2:\n",
        "                l2 = l2.next\n",
        "\n",
        "        return dummy.next\n",
        "\n",
        "# Helper function to create a linked list from a list of integers\n",
        "def create_linked_list(numbers):\n",
        "    dummy = ListNode(0)\n",
        "    current = dummy\n",
        "    for number in numbers:\n",
        "        current.next = ListNode(number)\n",
        "        current = current.next\n",
        "    return dummy.next\n",
        "\n",
        "# Helper function to print the linked list\n",
        "def print_linked_list(node):\n",
        "    while node:\n",
        "        print(node.val, end=\" -> \" if node.next else \"\")\n",
        "        node = node.next\n",
        "    print()\n",
        "\n",
        "def main():\n",
        "    # Example: (2 -> 4 -> 3) + (5 -> 6 -> 4)\n",
        "    l1 = create_linked_list([2, 4, 3])\n",
        "    l2 = create_linked_list([5, 6, 4])\n",
        "    print(\"Input 1: \", end=\"\")\n",
        "    print_linked_list(l1)\n",
        "    print(\"Input 2: \", end=\"\")\n",
        "    print_linked_list(l2)\n",
        "    solution = Solution()\n",
        "    result = solution.addTwoNumbers(l1, l2)\n",
        "    print(\"Result: \", end=\"\")\n",
        "    print_linked_list(result)\n",
        "\n",
        "if __name__ == \"__main__\":\n",
        "    main()"
      ]
    },
    {
      "cell_type": "code",
      "execution_count": null,
      "metadata": {
        "colab": {
          "base_uri": "https://localhost:8080/"
        },
        "id": "KIBozL8v9erA",
        "outputId": "18143175-58e9-4212-ad6b-48d81d01611b"
      },
      "outputs": [
        {
          "name": "stdout",
          "output_type": "stream",
          "text": [
            "linked list length: 5\n",
            "banana\n",
            "hwachae\n",
            "watermelon\n",
            "nho\n",
            "strawbery\n",
            "<__main__.Node object at 0x7c0dd8697e80> cái ban đầu - head\n",
            "<__main__.Node object at 0x7c0dd8697e80>\n",
            "<__main__.Node object at 0x7c0dd8697e20>\n",
            "hwachae địa chỉ cái next:  <__main__.Node object at 0x7c0dd86790c0> và  apple\n",
            "banana-->hwachae-->apple-->watermelon-->nho-->strawbery-->\n"
          ]
        }
      ],
      "source": [
        "from re import A\n",
        "from typing import Optional, Any, List\n",
        "\n",
        "class Node:\n",
        "  def __init__(self,data: Any =None,next=None) -> None:\n",
        "    self.data=data  # data can contain interger, number or complex object\n",
        "    self.next=next\n",
        "class LinkedList:\n",
        "  def __init__(self) -> None:\n",
        "    self.head=None  # point to the head of the linked list\n",
        "\n",
        "  def insert_at_beginning(self,data: Any):\n",
        "    node=Node(data, self.head)\n",
        "    self.head=node\n",
        "\n",
        "  def insert_at_end(self,data: Any):\n",
        "    if self.head is None:\n",
        "      self.head=Node(data,None) # nếu ban đầu rỗng sau khi thêm thì next sẽ là Null == None\n",
        "      return\n",
        "    itr=self.head\n",
        "    while itr.next:  # nếu next có tồn tại value chạy đến last value\n",
        "      itr=itr.next\n",
        "    itr.next=Node(data,None) # insert value vào cuối\n",
        "\n",
        "  def insert_values(self,data_list: List) -> None:\n",
        "    self.head=None\n",
        "    for data in data_list:\n",
        "      self.insert_at_end(data)\n",
        "\n",
        "  def length(self) -> int:\n",
        "    count=0\n",
        "    itr=self.head\n",
        "    while itr:\n",
        "      count+=1\n",
        "      itr=itr.next\n",
        "    return count\n",
        "\n",
        "  def remove(self,index:int) -> None:\n",
        "    if index<0 and index>=self.length():\n",
        "      raise Exception(\"----Invalid Index----\")\n",
        "    if index==0:\n",
        "      self.head=self.head.next\n",
        "      return\n",
        "    count=0\n",
        "    itr=self.head\n",
        "    while itr:\n",
        "      if count==index-1:\n",
        "        if itr.next is None:\n",
        "          raise Exception(\"----Invalid Index----\")\n",
        "        itr.next=itr.next.next  # chiếu đến địa chỉ index sau index bị bỏ\n",
        "        break\n",
        "      itr=itr.next\n",
        "      count+=1\n",
        "  def insert_at(self,index: int, data: Any) ->None:\n",
        "    if index<0 and index >=self.length():\n",
        "      raise Exception(\"Error......\")\n",
        "    elif index==0:\n",
        "      self.insert_at_beginning\n",
        "      return\n",
        "    count=0\n",
        "    itr=self.head\n",
        "    while itr:\n",
        "      if count==index-1:  # modify next pointer of the previos element\n",
        "        node=Node(data, itr.next)\n",
        "        itr.next=node\n",
        "        break\n",
        "      itr=itr.next\n",
        "      count+=1\n",
        "\n",
        "  def logging(self):\n",
        "    if self.head is None:\n",
        "      print(\"Linked list is empty\")\n",
        "      return\n",
        "    itr=self.head\n",
        "    llstr=''\n",
        "    while itr:\n",
        "      llstr+=str(itr.data)+'-->'\n",
        "      itr=itr.next\n",
        "    print(llstr)\n",
        "\n",
        "  def insert_after_value(self, data_after, data_to_insert):\n",
        "      # Search for first occurance of data_after value in linked list\n",
        "      itr=self.head  # In a linked list, -->>> itr is a Node object\n",
        "      print(itr,\"cái ban đầu - head\")\n",
        "      while itr:\n",
        "        print(itr)\n",
        "        if itr.data==data_after:\n",
        "          node=Node(data_to_insert,itr.next)\n",
        "          itr.next=node\n",
        "          print(itr.data,\"địa chỉ cái next: \",itr.next,\"và \",itr.next.data)\n",
        "          break\n",
        "        itr=itr.next\n",
        "      # Now insert data_to_insert after data_after node\n",
        "\n",
        "  def remove_by_value(self, data):\n",
        "\n",
        "    # Remove first node that contains data\n",
        "\n",
        "    pass\n",
        "\n",
        "  def loop(self):\n",
        "    itr=self.head\n",
        "    while itr:\n",
        "      print(itr.data)\n",
        "      itr=itr.next\n",
        "\n",
        "if __name__==\"__main__\":\n",
        "  ll=LinkedList()\n",
        "  ll.insert_at_beginning(5)\n",
        "  ll.insert_at_beginning(89)\n",
        "  ll.insert_at_beginning(19)\n",
        "  ll.insert_at_beginning(15)\n",
        "  ll.insert_at_end(45)\n",
        "  ll.insert_at_end(67)\n",
        "  ll.insert_values([\"banana\",\"hwachae\",\"watermelon\",\"nho\",\"fudu\"])\n",
        "  len=ll.length()\n",
        "  print(f\"linked list length: {len}\")\n",
        "  ll.remove(4)\n",
        "  ll.insert_at(4,\"strawbery\")\n",
        "  ll.loop()\n",
        "  ll.insert_after_value(\"hwachae\",\"apple\") # insert apple after mango\n",
        "  ll.logging()"
      ]
    },
    {
      "cell_type": "code",
      "execution_count": null,
      "metadata": {
        "id": "Ig5CJDtNk-1j"
      },
      "outputs": [],
      "source": [
        "\"\"\"\n",
        "lặp các biến trong linked list:\n",
        "\n",
        "itr=self.head\n",
        "while itr:\n",
        "  itr=itr.next\n",
        "  print(itr)\n",
        "                          linked list length: 5\n",
        "                          <__main__.Node object at 0x7dc95a02b6a0>\n",
        "                          <__main__.Node object at 0x7dc95a028940>\n",
        "                          <__main__.Node object at 0x7dc95a02a920>\n",
        "                          <__main__.Node object at 0x7dc95a1ce6b0>\n",
        "                          None\n",
        "                          banana-->hwachae-->watermelon-->nho-->strawbery-->\n",
        "\"\"\"\n",
        "# class Node:\n",
        "#   def __init__(self,data,next,prev) -> None:\n",
        "#     self.data=data\n",
        "#     self.next=next\n",
        "#     self.prev=prev\n",
        "\n",
        "\"\"\"\n",
        "A -> B -> C -> D\n",
        "  And you want to insert X after B.\n",
        "\n",
        "  itr is currently pointing to B.\n",
        "  You create X such that it points to C (itr.next).\n",
        "\n",
        "  Then, you update B.next (which is itr.next) to point to X.\n",
        "\n",
        "  After running itr.next = node, your list will look like this:\n",
        "\n",
        "A -> B -> X -> C -> D\n",
        "  This line effectively \"inserts\" the new node into the list at the correct position.\n",
        "\"\"\""
      ]
    },
    {
      "cell_type": "code",
      "execution_count": null,
      "metadata": {
        "colab": {
          "base_uri": "https://localhost:8080/"
        },
        "id": "dd5_88isNJQh",
        "outputId": "062914d6-a603-4755-d1ca-b102721fa726"
      },
      "outputs": [
        {
          "name": "stdout",
          "output_type": "stream",
          "text": [
            "<__main__.Node object at 0x7c0dd867aef0>\n",
            "<__main__.Node object at 0x7c0dd867aef0>\n",
            "<__main__.Node object at 0x7c0dd867aef0>  và  <__main__.Node object at 0x7c0dd867bd00>\n",
            "1  và  2\n",
            "<__main__.Node object at 0x7c0dd867bd00>\n",
            "<__main__.Node object at 0x7c0dd867a470>\n",
            "<__main__.Node object at 0x7c0dd867a470>  và  <__main__.Node object at 0x7c0dd867a6e0>\n",
            "3  và  4\n",
            "<__main__.Node object at 0x7c0dd867a470>\n",
            "<__main__.Node object at 0x7c0dd867b070>\n",
            "<__main__.Node object at 0x7c0dd867b070>  và  <__main__.Node object at 0x7c0dd867a110>\n",
            "5  và  6\n",
            "<__main__.Node object at 0x7c0dd867a6e0>\n",
            "<__main__.Node object at 0x7c0dd867bb80>\n",
            "<__main__.Node object at 0x7c0dd867bb80>  và  <__main__.Node object at 0x7c0dd8679150>\n",
            "7  và  8\n",
            "<__main__.Node object at 0x7c0dd867b070>\n",
            "<__main__.Node object at 0x7c0dd8678d30>\n",
            "<__main__.Node object at 0x7c0dd8678d30>  và  <__main__.Node object at 0x7c0dd86790c0>\n",
            "9  và  10\n",
            "<__main__.Node object at 0x7c0dd867a110>\n",
            "None\n",
            "6\n"
          ]
        }
      ],
      "source": [
        "class LinkedList:\n",
        "    def __init__(self):\n",
        "        self.head = None\n",
        "\n",
        "    def insert_at_end(self, data):\n",
        "        if not self.head:\n",
        "            self.head = Node(data)\n",
        "            return\n",
        "        itr = self.head\n",
        "        while itr.next:\n",
        "            itr = itr.next\n",
        "        itr.next = Node(data)\n",
        "\n",
        "    def find_middle(self):\n",
        "        slow = self.head\n",
        "        fast = self.head\n",
        "        print(slow)\n",
        "        print(fast)\n",
        "        while fast and fast.next:\n",
        "            print(fast,\" và \" , fast.next)\n",
        "            print(fast.data,\" và \" , fast.next.data)\n",
        "            slow = slow.next           # Move slow by 1 step\n",
        "            print(slow)\n",
        "            fast = fast.next.next      # Move fast by 2 steps\n",
        "            print(fast)\n",
        "        return slow.data if slow else None\n",
        "\n",
        "if __name__ == \"__main__\":\n",
        "    ll = LinkedList()\n",
        "    ll.insert_at_end(1)\n",
        "    ll.insert_at_end(2)\n",
        "    ll.insert_at_end(3)\n",
        "    ll.insert_at_end(4)\n",
        "    ll.insert_at_end(5)\n",
        "    ll.insert_at_end(6)\n",
        "    ll.insert_at_end(7)\n",
        "    ll.insert_at_end(8)\n",
        "    ll.insert_at_end(9)\n",
        "    ll.insert_at_end(10)\n",
        "    print(ll.find_middle())  # Output: 3\n"
      ]
    },
    {
      "cell_type": "code",
      "execution_count": null,
      "metadata": {
        "colab": {
          "base_uri": "https://localhost:8080/"
        },
        "id": "FCpfvRv3PtHF",
        "outputId": "3aaf64a3-5cfa-455d-dd61-f26a84ed216f"
      },
      "outputs": [
        {
          "data": {
            "text/plain": [
              "109"
            ]
          },
          "execution_count": 9,
          "metadata": {},
          "output_type": "execute_result"
        }
      ],
      "source": [
        "# ascii của giá trị %s\n",
        "ord('m')"
      ]
    },
    {
      "cell_type": "code",
      "execution_count": null,
      "metadata": {
        "colab": {
          "base_uri": "https://localhost:8080/"
        },
        "id": "O7e394zqwnj8",
        "outputId": "9513e5b5-1138-406a-def7-9de06f1e73ac"
      },
      "outputs": [
        {
          "data": {
            "text/plain": [
              "5"
            ]
          },
          "execution_count": 10,
          "metadata": {},
          "output_type": "execute_result"
        }
      ],
      "source": [
        "# def hash_fuction(key:Any) -> int:\n",
        "#   h=0\n",
        "#   for char in key:\n",
        "#     h+=ord(char)\n",
        "#   return h%100\n",
        "# hash_fuction(\"xin chào\")"
      ]
    },
    {
      "cell_type": "code",
      "execution_count": null,
      "metadata": {
        "id": "EbEC8bLc2WVO"
      },
      "outputs": [],
      "source": [
        "\"\"\"\n",
        "Any:\n",
        "    This type hint indicates that the value can be of any type, like int, str, list, a custom object, etc.\n",
        "Optional[T]:\n",
        "    This is a shorthand for Union[T, None], meaning that the value can either be of type T or None.\n",
        "Optional[Any]:\n",
        "    This combines the two, indicating that the value can be of any type or None.\n",
        "\"\"\""
      ]
    },
    {
      "cell_type": "code",
      "execution_count": null,
      "metadata": {
        "colab": {
          "base_uri": "https://localhost:8080/"
        },
        "id": "FMqnpZy1xZpz",
        "outputId": "ab2dba3a-bb17-41c8-81d5-fb1494fcba57"
      },
      "outputs": [
        {
          "name": "stdout",
          "output_type": "stream",
          "text": [
            "74 :  20\n",
            "[None, None, None, None, None, None, None, None, None, None, None, None, None, None, None, None, None, None, None, None, None, None, None, None, None, None, None, None, None, None, None, None, None, None, None, None, None, None, None, None, None, None, None, None, None, None, None, None, None, None, None, None, None, None, None, None, None, None, None, None, None, None, None, None, None, None, None, None, None, None, None, None, None, None, 20, None, None, None, None, None, None, None, None, None, None, None, None, None, None, None, None, None, None, None, None, None, None, None, None, None]\n",
            "73 :  1220\n",
            "69 :  320\n",
            "67 :  150\n"
          ]
        }
      ],
      "source": [
        "from typing import Any, List, Optional\n",
        "class HashTable:\n",
        "  def __init__(self) -> None:\n",
        "    self.MAX=100\n",
        "    self.arr=[None for i in range(self.MAX)]\n",
        "\n",
        "  def hash_function(self,key:Any) -> int:\n",
        "    h: int=0\n",
        "    for char in key:\n",
        "      h+=ord(char)\n",
        "    return h % self.MAX\n",
        "\n",
        "  def add(self, key: str, val: Any) -> None:\n",
        "    h: int=self.hash_function(key)\n",
        "    self.arr[h]=val\n",
        "    print(h,\": \",self.arr[h])\n",
        "\n",
        "  def get(self, key: str) -> Optional[Any]:\n",
        "    h=self.hash_function(key)\n",
        "    return self.arr[h]\n",
        "  def __setitem__(self, key: str, val: Any) -> None:\n",
        "    h: int=self.hash_function(key)\n",
        "    self.arr[h]=val\n",
        "    print(h,\": \",self.arr[h])\n",
        "\n",
        "  def __getitem__(self, key: str) -> Optional[Any]:\n",
        "    h=self.hash_function(key)\n",
        "    return self.arr[h]\n",
        "  def __delitem__(self,key: str)-> None:\n",
        "    h=self.hash_function(key)\n",
        "    self.arr[h]=None\n",
        "    return\n",
        "if __name__==\"__main__\":\n",
        "  t = HashTable()\n",
        "  t.hash_function(\"helaau\")\n",
        "  t.add(\"march-19\",20)\n",
        "  print(t.arr)\n",
        "  t.get(\"march-19\")\n",
        "  t[\"march-27\"]=1220\n",
        "  t[\"march-14\"]=320\n",
        "  t[\"march-30\"]=150"
      ]
    },
    {
      "cell_type": "code",
      "execution_count": null,
      "metadata": {
        "colab": {
          "base_uri": "https://localhost:8080/"
        },
        "id": "zWCBvpko0RPh",
        "outputId": "23e10493-f524-43f9-e856-87dd18405e74"
      },
      "outputs": [
        {
          "data": {
            "text/plain": [
              "20"
            ]
          },
          "execution_count": 43,
          "metadata": {},
          "output_type": "execute_result"
        }
      ],
      "source": [
        "  t.get(\"march-19\")"
      ]
    },
    {
      "cell_type": "code",
      "execution_count": null,
      "metadata": {
        "id": "2U5HAQVd2t7P"
      },
      "outputs": [],
      "source": [
        "del t['march-19']\n",
        "t.arr"
      ]
    },
    {
      "cell_type": "code",
      "execution_count": null,
      "metadata": {
        "id": "4EYPiFLK4NOZ",
        "colab": {
          "base_uri": "https://localhost:8080/"
        },
        "outputId": "24b0c0e3-df54-4677-9ad5-699ba12fd648"
      },
      "outputs": [
        {
          "output_type": "stream",
          "name": "stdout",
          "text": [
            "Index: 0, Element: ('march 6', 123)\n",
            "321\n",
            "120\n",
            "230\n",
            "5499\n",
            "167\n",
            "Checking index: 0, Element: ('march 6', 321)\n",
            "Deleted key: march 6 at index: 0\n",
            "Checking index: 0, Element: ('march 12', 5499)\n",
            "Deleted key: march 12 at index: 0\n",
            "\"Key 'march 6' not found\"\n",
            "\"Key 'march 12' not found\"\n",
            "120\n",
            "230\n",
            "167\n"
          ]
        }
      ],
      "source": [
        "from typing import Any, Optional\n",
        "\n",
        "class HashTable:\n",
        "    def __init__(self):\n",
        "        self.MAX = 100\n",
        "        self.arr = [[] for _ in range(self.MAX)]\n",
        "\n",
        "    def hash_function(self, key: str) -> int:\n",
        "        h = 0\n",
        "        for char in key:\n",
        "            h += ord(char)\n",
        "        return h % self.MAX\n",
        "\n",
        "    def __setitem__(self, key: str, val: Any) -> None:\n",
        "        h = self.hash_function(key)\n",
        "        found = False\n",
        "        for idx, element in enumerate(self.arr[h]):\n",
        "            print(f\"Index: {idx}, Element: {element}\")  # Debugging print statement\n",
        "            if element[0] == key:\n",
        "                self.arr[h][idx] = (key, val)\n",
        "                found = True\n",
        "                break\n",
        "        if not found:\n",
        "            self.arr[h].append((key, val))\n",
        "\n",
        "    def __getitem__(self, key: str) -> Optional[Any]:\n",
        "        h = self.hash_function(key)\n",
        "        for element in self.arr[h]:\n",
        "            if element[0] == key:\n",
        "                return element[1]\n",
        "        raise KeyError(f\"Key '{key}' not found\")  # Handle missing key\n",
        "\n",
        "    # Deleting Items:\n",
        "    # The deletion should remove the item from the bucket and handle cases where multiple items might have the same hash value.\n",
        "    def __delitem__(self,key: str):\n",
        "        h = self.hash_function(key)\n",
        "        for idx, kval in enumerate(self.arr[h]):\n",
        "            print(f\"Checking index: {idx}, Element: {kval}\")  # Debugging print statement\n",
        "            if kval[0]==key:\n",
        "                del self.arr[h][idx]\n",
        "                print(f\"Deleted key: {key} at index: {idx}\")  # Debugging print statement\n",
        "                return\n",
        "        raise KeyError(f\"Key '{key}' not found\")  # Handle missing key\n",
        "\n",
        "    def __repr__(self) -> str:\n",
        "        return str(self.arr)\n",
        "\n",
        "# Test\n",
        "t = HashTable()\n",
        "t[\"march 6\"] = 123\n",
        "t[\"march 6\"] = 321\n",
        "t[\"march 8\"] = 120\n",
        "t[\"march 27\"] = 230\n",
        "t[\"march 12\"] = 5499\n",
        "t[\"march 23\"] = 167\n",
        "\n",
        "# Print to verify values before deletion\n",
        "print(t[\"march 6\"])   # Output: 321\n",
        "print(t[\"march 8\"])   # Output: 120\n",
        "print(t[\"march 27\"])  # Output: 230\n",
        "print(t[\"march 12\"])  # Output: 5499\n",
        "print(t[\"march 23\"])  # Output: 167\n",
        "\n",
        "# Delete items\n",
        "del t[\"march 6\"]\n",
        "del t[\"march 12\"]\n",
        "\n",
        "# Print to verify values after deletion\n",
        "try:\n",
        "    print(t[\"march 6\"])\n",
        "except KeyError as e:\n",
        "    print(e)  # Expected: Key 'march 6' not found\n",
        "\n",
        "try:\n",
        "    print(t[\"march 12\"])\n",
        "except KeyError as e:\n",
        "    print(e)  # Expected: Key 'march 12' not found\n",
        "\n",
        "# Verify other items\n",
        "print(t[\"march 8\"])   # Output: 120\n",
        "print(t[\"march 27\"])  # Output: 230\n",
        "print(t[\"march 23\"])  # Output: 167"
      ]
    },
    {
      "cell_type": "code",
      "execution_count": null,
      "metadata": {
        "colab": {
          "background_save": true,
          "base_uri": "https://localhost:8080/"
        },
        "id": "L9LBnBTw4YzY",
        "outputId": "7b62da3b-defa-4f02-b5e1-5448ec777632"
      },
      "outputs": [
        {
          "name": "stdout",
          "output_type": "stream",
          "text": [
            "True\n"
          ]
        }
      ],
      "source": [
        "\n",
        "from typing import Dict, Union, List\n",
        "\n",
        "my_dict: Dict[str, Union[str, int, List[str]]] = {\n",
        "    \"name\": \"pavol\",\n",
        "    \"age\": 47,\n",
        "    \"hobbies\": [\"tetris\", \"horse riding\"]\n",
        "}\n",
        "\n",
        "# Using isinstance() to check variable type at runtime\n",
        "print(isinstance(my_dict[\"age\"], int)) # True"
      ]
    },
    {
      "cell_type": "code",
      "execution_count": null,
      "metadata": {
        "id": "mFXDy4K78sc9",
        "colab": {
          "base_uri": "https://localhost:8080/"
        },
        "outputId": "83bafe82-7135-462a-acf1-61c180fa305e"
      },
      "outputs": [
        {
          "output_type": "stream",
          "name": "stdout",
          "text": [
            "two: 2\n",
            "roads: 2\n",
            "diverged: 2\n",
            "in: 4\n",
            "a: 3\n",
            "yellow: 1\n",
            "wood: 2\n",
            "and: 9\n",
            "sorry: 1\n",
            "i: 8\n",
            "could: 2\n",
            "not: 1\n",
            "travel: 1\n",
            "both: 2\n",
            "be: 2\n",
            "one: 3\n",
            "traveler: 1\n",
            "long: 1\n",
            "stood: 1\n",
            "looked: 1\n",
            "down: 1\n",
            "as: 5\n",
            "far: 1\n",
            "to: 2\n",
            "where: 1\n",
            "it: 2\n",
            "bent: 1\n",
            "the: 8\n",
            "undergrowth: 1\n",
            "then: 1\n",
            "took: 2\n",
            "other: 1\n",
            "just: 1\n",
            "fair: 1\n",
            "having: 1\n",
            "perhaps: 1\n",
            "better: 1\n",
            "claim: 1\n",
            "because: 1\n",
            "was: 1\n",
            "grassy: 1\n",
            "wanted: 1\n",
            "wear: 1\n",
            "though: 1\n",
            "for: 2\n",
            "that: 3\n",
            "passing: 1\n",
            "there: 1\n",
            "had: 2\n",
            "worn: 1\n",
            "them: 1\n",
            "really: 1\n",
            "about: 1\n",
            "same: 1\n",
            "morning: 1\n",
            "equally: 1\n",
            "lay: 1\n",
            "leaves: 1\n",
            "no: 1\n",
            "step: 1\n",
            "trodden: 1\n",
            "black: 1\n",
            "oh: 1\n",
            "kept: 1\n",
            "first: 1\n",
            "another: 1\n",
            "day: 1\n",
            "yet: 1\n",
            "knowing: 1\n",
            "how: 1\n",
            "way: 2\n",
            "leads: 1\n",
            "on: 1\n",
            "doubted: 1\n",
            "if: 1\n",
            "should: 1\n",
            "ever: 1\n",
            "come: 1\n",
            "back: 1\n",
            "shall: 1\n",
            "telling: 1\n",
            "this: 1\n",
            "with: 1\n",
            "sigh: 1\n",
            "somewhere: 1\n",
            "ages: 2\n",
            "hence: 1\n",
            "i—: 1\n",
            "less: 1\n",
            "traveled: 1\n",
            "by: 1\n",
            "has: 1\n",
            "made: 1\n",
            "all: 1\n",
            "difference: 1\n"
          ]
        }
      ],
      "source": [
        "import string\n",
        "from typing import Dict, List\n",
        "\n",
        "poem = \"\"\"\n",
        "    Two roads diverged in a yellow wood,\n",
        "    And sorry I could not travel both\n",
        "    And be one traveler, long I stood\n",
        "    And looked down one as far as I could\n",
        "    To where it bent in the undergrowth;\n",
        "\n",
        "    Then took the other, as just as fair,\n",
        "    And having perhaps the better claim,\n",
        "    Because it was grassy and wanted wear;\n",
        "    Though as for that the passing there\n",
        "    Had worn them really about the same,\n",
        "\n",
        "    And both that morning equally lay\n",
        "    In leaves no step had trodden black.\n",
        "    Oh, I kept the first for another day!\n",
        "    Yet knowing how way leads on to way,\n",
        "    I doubted if I should ever come back.\n",
        "\n",
        "    I shall be telling this with a sigh\n",
        "    Somewhere ages and ages hence:\n",
        "    Two roads diverged in a wood, and I—\n",
        "    I took the one less traveled by,\n",
        "    And that has made all the difference.\n",
        "\"\"\"\n",
        "\n",
        "def word_count() -> Dict[str, int]:\n",
        "    # Remove punctuation\n",
        "    translator = str.maketrans('', '', string.punctuation)\n",
        "    cleaned_poem = poem.translate(translator)\n",
        "\n",
        "    # Convert to lowercase and split into words\n",
        "    words = cleaned_poem.lower().split()\n",
        "\n",
        "    # Count word frequencies using a dictionary\n",
        "    word_count = {}\n",
        "    for w in words:\n",
        "        if w in word_count:\n",
        "            word_count[w] += 1\n",
        "        else:\n",
        "            word_count[w] = 1\n",
        "    # Print word frequencies\n",
        "    for key, val in word_count.items():\n",
        "        print(f\"{key}: {val}\")\n",
        "    return word_count\n",
        "\n",
        "# Call the function\n",
        "word_count_dict = word_count()"
      ]
    },
    {
      "cell_type": "code",
      "source": [
        "# Implement hash table collision handling using linear probing\n",
        "\n",
        "class HashTable:\n",
        "    def __init__(self):\n",
        "        self.MAX = 10 # I am keeping size very low to demonstrate linear probing easily but usually the size should be high\n",
        "        self.arr = [None for i in range(self.MAX)]\n",
        "\n",
        "    def get_hash(self, key):\n",
        "        hash = 0\n",
        "        for char in key:\n",
        "            hash += ord(char)\n",
        "        return hash % self.MAX\n",
        "\n",
        "    def __getitem__(self, key):\n",
        "        h = self.get_hash(key)\n",
        "        if self.arr[h] is None:\n",
        "            return\n",
        "        prob_range = self.get_prob_range(h)\n",
        "        for prob_index in prob_range:\n",
        "            element = self.arr[prob_index]\n",
        "            if element is None:\n",
        "                return\n",
        "            if element[0] == key:\n",
        "                return element[1]\n",
        "\n",
        "    def __setitem__(self, key, val):\n",
        "        h = self.get_hash(key)\n",
        "        if self.arr[h] is None:\n",
        "            self.arr[h] = (key,val)\n",
        "        else:\n",
        "            new_h = self.find_slot(key, h)\n",
        "            self.arr[new_h] = (key,val)\n",
        "        print(self.arr)\n",
        "\n",
        "    def get_prob_range(self, index):\n",
        "        return [*range(index, len(self.arr))] + [*range(0,index)]\n",
        "\n",
        "    def find_slot(self, key, index):\n",
        "        prob_range = self.get_prob_range(index)\n",
        "        for prob_index in prob_range:\n",
        "            if self.arr[prob_index] is None:\n",
        "                return prob_index\n",
        "            if self.arr[prob_index][0] == key:\n",
        "                return prob_index\n",
        "        raise Exception(\"Hashmap full\")\n",
        "\n",
        "    def __delitem__(self, key):\n",
        "        h = self.get_hash(key)\n",
        "        prob_range = self.get_prob_range(h)\n",
        "        for prob_index in prob_range:\n",
        "            if self.arr[prob_index] is None:\n",
        "                return # item not found so return. You can also throw exception\n",
        "            if self.arr[prob_index][0] == key:\n",
        "                self.arr[prob_index]=None\n",
        "        print(self.arr)"
      ],
      "metadata": {
        "id": "SEqXDznlVfq3"
      },
      "execution_count": null,
      "outputs": []
    },
    {
      "cell_type": "code",
      "source": [
        "[*range(5,8)] + [*range(0,4)]"
      ],
      "metadata": {
        "colab": {
          "base_uri": "https://localhost:8080/"
        },
        "id": "Q6HnI5giZUS3",
        "outputId": "046b7714-1516-4d19-808a-352a3337d1a5"
      },
      "execution_count": null,
      "outputs": [
        {
          "output_type": "execute_result",
          "data": {
            "text/plain": [
              "[5, 6, 7, 0, 1, 2, 3]"
            ]
          },
          "metadata": {},
          "execution_count": 33
        }
      ]
    },
    {
      "cell_type": "code",
      "source": [
        "t = HashTable()\n",
        "t[\"march 6\"] = 20\n",
        "t[\"march 17\"] =  88"
      ],
      "metadata": {
        "colab": {
          "base_uri": "https://localhost:8080/"
        },
        "id": "or0_lAksZU88",
        "outputId": "f00e48e9-9748-44c8-f9f9-3648697d6005"
      },
      "execution_count": null,
      "outputs": [
        {
          "output_type": "stream",
          "name": "stdout",
          "text": [
            "[None, None, None, None, None, None, None, None, None, ('march 6', 20)]\n",
            "[('march 17', 88), None, None, None, None, None, None, None, None, ('march 6', 20)]\n"
          ]
        }
      ]
    },
    {
      "cell_type": "code",
      "source": [
        "# Stack [LIFO]\n",
        "\"\"\"\n",
        "      ↴  ↷\n",
        "    |  📓  |\n",
        "    |  📓  |\n",
        "    |  📓  |\n",
        "    |  📓  |\n",
        "    |__📓__|\n",
        "\n",
        "                      \"\"\"\n",
        "# Queue [FIFO]\n",
        "\"\"\"\n",
        "     _____________________\n",
        "  ↳  |___|___|___|___|___|  ↦\n",
        "\n",
        "                      \"\"\""
      ],
      "metadata": {
        "id": "e55dYKIzZXIA"
      },
      "execution_count": null,
      "outputs": []
    },
    {
      "cell_type": "code",
      "source": [
        "l=[] # List\n",
        "l.append('https://www.youtube.com/')\n",
        "l.append('https://www.youtube.com/feed/subscriptions')\n",
        "l.append('https://www.youtube.com/feed/history')\n",
        "l.append('https://www.youtube.com/playlist?list=WL')\n",
        "l.pop()"
      ],
      "metadata": {
        "colab": {
          "base_uri": "https://localhost:8080/",
          "height": 36
        },
        "id": "Z0JMc328eVLj",
        "outputId": "7c8180c3-0691-4492-9e32-2d1d53e73ede"
      },
      "execution_count": null,
      "outputs": [
        {
          "output_type": "execute_result",
          "data": {
            "text/plain": [
              "'https://www.youtube.com/playlist?list=WL'"
            ],
            "application/vnd.google.colaboratory.intrinsic+json": {
              "type": "string"
            }
          },
          "metadata": {},
          "execution_count": 36
        }
      ]
    },
    {
      "cell_type": "code",
      "source": [
        "l[-1] # last index"
      ],
      "metadata": {
        "colab": {
          "base_uri": "https://localhost:8080/",
          "height": 36
        },
        "id": "YCuG_CcCezi9",
        "outputId": "665d81b9-f47b-4f4b-deaf-af723be8e10e"
      },
      "execution_count": null,
      "outputs": [
        {
          "output_type": "execute_result",
          "data": {
            "text/plain": [
              "'https://www.youtube.com/feed/history'"
            ],
            "application/vnd.google.colaboratory.intrinsic+json": {
              "type": "string"
            }
          },
          "metadata": {},
          "execution_count": 37
        }
      ]
    },
    {
      "cell_type": "code",
      "source": [
        "from collections import deque\n",
        "stack=deque()\n",
        "dir(stack)"
      ],
      "metadata": {
        "colab": {
          "base_uri": "https://localhost:8080/"
        },
        "id": "HHCNKhQagNwJ",
        "outputId": "b19debe3-9852-4cdb-829d-23c7c5b76a6a"
      },
      "execution_count": null,
      "outputs": [
        {
          "output_type": "execute_result",
          "data": {
            "text/plain": [
              "['__add__',\n",
              " '__bool__',\n",
              " '__class__',\n",
              " '__class_getitem__',\n",
              " '__contains__',\n",
              " '__copy__',\n",
              " '__delattr__',\n",
              " '__delitem__',\n",
              " '__dir__',\n",
              " '__doc__',\n",
              " '__eq__',\n",
              " '__format__',\n",
              " '__ge__',\n",
              " '__getattribute__',\n",
              " '__getitem__',\n",
              " '__gt__',\n",
              " '__hash__',\n",
              " '__iadd__',\n",
              " '__imul__',\n",
              " '__init__',\n",
              " '__init_subclass__',\n",
              " '__iter__',\n",
              " '__le__',\n",
              " '__len__',\n",
              " '__lt__',\n",
              " '__mul__',\n",
              " '__ne__',\n",
              " '__new__',\n",
              " '__reduce__',\n",
              " '__reduce_ex__',\n",
              " '__repr__',\n",
              " '__reversed__',\n",
              " '__rmul__',\n",
              " '__setattr__',\n",
              " '__setitem__',\n",
              " '__sizeof__',\n",
              " '__str__',\n",
              " '__subclasshook__',\n",
              " 'append',\n",
              " 'appendleft',\n",
              " 'clear',\n",
              " 'copy',\n",
              " 'count',\n",
              " 'extend',\n",
              " 'extendleft',\n",
              " 'index',\n",
              " 'insert',\n",
              " 'maxlen',\n",
              " 'pop',\n",
              " 'popleft',\n",
              " 'remove',\n",
              " 'reverse',\n",
              " 'rotate']"
            ]
          },
          "metadata": {},
          "execution_count": 38
        }
      ]
    },
    {
      "cell_type": "code",
      "source": [
        "stack.append('https://www.youtube.com/')\n",
        "stack.append('https://www.youtube.com/feed/subscriptions')\n",
        "stack.append('https://www.youtube.com/feed/history')\n",
        "stack.append('https://www.youtube.com/playlist?list=WL')\n",
        "stack"
      ],
      "metadata": {
        "colab": {
          "base_uri": "https://localhost:8080/"
        },
        "id": "tMFROqIEh8K3",
        "outputId": "cf3aec26-0d4b-4f35-b938-517f9102cd8b"
      },
      "execution_count": null,
      "outputs": [
        {
          "output_type": "execute_result",
          "data": {
            "text/plain": [
              "deque(['https://www.youtube.com/',\n",
              "       'https://www.youtube.com/feed/subscriptions',\n",
              "       'https://www.youtube.com/feed/history',\n",
              "       'https://www.youtube.com/playlist?list=WL',\n",
              "       'https://www.youtube.com/',\n",
              "       'https://www.youtube.com/feed/subscriptions',\n",
              "       'https://www.youtube.com/feed/history',\n",
              "       'https://www.youtube.com/playlist?list=WL',\n",
              "       'https://www.youtube.com/',\n",
              "       'https://www.youtube.com/feed/subscriptions',\n",
              "       'https://www.youtube.com/feed/history',\n",
              "       'https://www.youtube.com/playlist?list=WL'])"
            ]
          },
          "metadata": {},
          "execution_count": 72
        }
      ]
    },
    {
      "cell_type": "code",
      "source": [
        "# Clear the deque\n",
        "while stack:\n",
        "    stack.pop()\n",
        "\n",
        "stack"
      ],
      "metadata": {
        "colab": {
          "base_uri": "https://localhost:8080/"
        },
        "id": "NG-fhwKwiOXM",
        "outputId": "b6e8936c-1849-4280-fa8d-ab9e7d96192c"
      },
      "execution_count": null,
      "outputs": [
        {
          "output_type": "execute_result",
          "data": {
            "text/plain": [
              "deque([])"
            ]
          },
          "metadata": {},
          "execution_count": 69
        }
      ]
    },
    {
      "cell_type": "code",
      "source": [
        "# Duyệt qua bản sao\n",
        "for _ in list(stack):\n",
        "    stack.pop()  # Xóa phần tử cuối cùng trong stack gốc\n",
        "stack"
      ],
      "metadata": {
        "colab": {
          "base_uri": "https://localhost:8080/"
        },
        "id": "oqmK5YSTiYJJ",
        "outputId": "6498ebf1-1d89-4454-8804-8ad27fdf75c5"
      },
      "execution_count": null,
      "outputs": [
        {
          "output_type": "execute_result",
          "data": {
            "text/plain": [
              "deque([])"
            ]
          },
          "metadata": {},
          "execution_count": 74
        }
      ]
    },
    {
      "cell_type": "code",
      "source": [
        "class Stack:\n",
        "  def __init__(self):\n",
        "    self.container=deque()\n",
        "  def push(self,val) -> None:\n",
        "    self.container.append(val)\n",
        "  def pop(self):\n",
        "    return self.container.pop()\n",
        "  def peek(self):\n",
        "    return self.container[-1]\n",
        "  def is_empty(self):\n",
        "    return len(self.container)==0\n",
        "  def size(self):\n",
        "    return len(self.container)\n",
        "  def __repr__(self):\n",
        "    return f\"Stack({list(self.container)})\"\n",
        "\n",
        "s = Stack()\n",
        "s.push('4')\n",
        "s.push('5')\n",
        "s.push('32')\n",
        "s.push('100')\n",
        "print(s) # <__main__.Stack object at 0x7d9026983310>  || sau khi có __repr__ Stack(['4', '5', '32', '100'])\n",
        "s.peek()"
      ],
      "metadata": {
        "colab": {
          "base_uri": "https://localhost:8080/",
          "height": 53
        },
        "id": "HOxPdG6EjPZ7",
        "outputId": "f1600782-e8fa-40ca-abbf-c4f2ad83ca60"
      },
      "execution_count": null,
      "outputs": [
        {
          "output_type": "stream",
          "name": "stdout",
          "text": [
            "Stack(['4', '5', '32', '100'])\n"
          ]
        },
        {
          "output_type": "execute_result",
          "data": {
            "text/plain": [
              "'100'"
            ],
            "application/vnd.google.colaboratory.intrinsic+json": {
              "type": "string"
            }
          },
          "metadata": {},
          "execution_count": 135
        }
      ]
    },
    {
      "cell_type": "code",
      "source": [
        "reverse_string=\"We will conquere COVID-19\"\n",
        "translator = str.maketrans('', '')\n",
        "cleaned = reverse_string.translate(translator)\n",
        "words=cleaned.split() # 'list' object --> type(w)\n",
        "\n",
        "for w in words:\n",
        "  print(w)"
      ],
      "metadata": {
        "colab": {
          "base_uri": "https://localhost:8080/"
        },
        "id": "NjeSREg6xWfp",
        "outputId": "75ff5294-7c38-421c-a31c-2c9830faeab6"
      },
      "execution_count": null,
      "outputs": [
        {
          "output_type": "stream",
          "name": "stdout",
          "text": [
            "We\n",
            "will\n",
            "conquere\n",
            "COVID-19\n"
          ]
        }
      ]
    },
    {
      "cell_type": "code",
      "source": [
        "def reverse_string(s: str) -> str:\n",
        "  stack=Stack()\n",
        "  print(type(stack), stack) # deque()\n",
        "  for w in s:\n",
        "    stack.push(w)\n",
        "  reverse_string=''\n",
        "  while stack.size()!=0:\n",
        "    reverse_string = reverse_string + stack.pop()\n",
        "  return reverse_string\n",
        "reverse_string(\"We will conquere COVID-19\")\n",
        "#reverse_string(\"Nguyễn Đức Anh\")"
      ],
      "metadata": {
        "colab": {
          "base_uri": "https://localhost:8080/",
          "height": 53
        },
        "id": "Fn9JHElOyEFJ",
        "outputId": "325290a5-cd67-4fa9-d059-6f61ba6ea432"
      },
      "execution_count": null,
      "outputs": [
        {
          "output_type": "stream",
          "name": "stdout",
          "text": [
            "<class '__main__.Stack'> <__main__.Stack object at 0x7d9026983160>\n"
          ]
        },
        {
          "output_type": "execute_result",
          "data": {
            "text/plain": [
              "'91-DIVOC ereuqnoc lliw eW'"
            ],
            "application/vnd.google.colaboratory.intrinsic+json": {
              "type": "string"
            }
          },
          "metadata": {},
          "execution_count": 104
        }
      ]
    },
    {
      "cell_type": "code",
      "source": [
        "import time\n",
        "def reverse_string(s: str) -> str:\n",
        "  stack=Stack()\n",
        "  words=s.split() # 'list' object --> type(w)\n",
        "  for w in s:\n",
        "    stack.push(w)\n",
        "    time.sleep(0.5)\n",
        "    print(f\"Pushed '{w}' onto the stack: {stack}\")\n",
        "\n",
        "  reverse_string=''\n",
        "  while stack.size()!=0:\n",
        "    reverse_string = reverse_string + stack.pop()\n",
        "    time.sleep(0.5)\n",
        "    print(f\"Reversed string so far: '{reverse_string.strip()}'\")\n",
        "\n",
        "  return reverse_string\n",
        "s1 = reverse_string(\"We will conquere COVID-19\").split()\n",
        "def rv(s:str):\n",
        "  stack=Stack()\n",
        "  for i in s:\n",
        "    stack.push\n",
        "  print(f\"Stack content after pushing: {stack.container}\")\n",
        "\n",
        "rv(s1)\n",
        "#reverse_string(\"Nguyễn Đức Anh\")"
      ],
      "metadata": {
        "colab": {
          "base_uri": "https://localhost:8080/"
        },
        "id": "8m1uUXz-yDeB",
        "outputId": "188f81cc-83c9-41da-8315-493101831a9f"
      },
      "execution_count": null,
      "outputs": [
        {
          "output_type": "stream",
          "name": "stdout",
          "text": [
            "Pushed 'W' onto the stack: <__main__.Stack object at 0x7d90269aec80>\n",
            "Pushed 'e' onto the stack: <__main__.Stack object at 0x7d90269aec80>\n",
            "Pushed ' ' onto the stack: <__main__.Stack object at 0x7d90269aec80>\n",
            "Pushed 'w' onto the stack: <__main__.Stack object at 0x7d90269aec80>\n",
            "Pushed 'i' onto the stack: <__main__.Stack object at 0x7d90269aec80>\n",
            "Pushed 'l' onto the stack: <__main__.Stack object at 0x7d90269aec80>\n",
            "Pushed 'l' onto the stack: <__main__.Stack object at 0x7d90269aec80>\n",
            "Pushed ' ' onto the stack: <__main__.Stack object at 0x7d90269aec80>\n",
            "Pushed 'c' onto the stack: <__main__.Stack object at 0x7d90269aec80>\n",
            "Pushed 'o' onto the stack: <__main__.Stack object at 0x7d90269aec80>\n",
            "Pushed 'n' onto the stack: <__main__.Stack object at 0x7d90269aec80>\n",
            "Pushed 'q' onto the stack: <__main__.Stack object at 0x7d90269aec80>\n",
            "Pushed 'u' onto the stack: <__main__.Stack object at 0x7d90269aec80>\n",
            "Pushed 'e' onto the stack: <__main__.Stack object at 0x7d90269aec80>\n",
            "Pushed 'r' onto the stack: <__main__.Stack object at 0x7d90269aec80>\n",
            "Pushed 'e' onto the stack: <__main__.Stack object at 0x7d90269aec80>\n",
            "Pushed ' ' onto the stack: <__main__.Stack object at 0x7d90269aec80>\n",
            "Pushed 'C' onto the stack: <__main__.Stack object at 0x7d90269aec80>\n",
            "Pushed 'O' onto the stack: <__main__.Stack object at 0x7d90269aec80>\n",
            "Pushed 'V' onto the stack: <__main__.Stack object at 0x7d90269aec80>\n",
            "Pushed 'I' onto the stack: <__main__.Stack object at 0x7d90269aec80>\n",
            "Pushed 'D' onto the stack: <__main__.Stack object at 0x7d90269aec80>\n",
            "Pushed '-' onto the stack: <__main__.Stack object at 0x7d90269aec80>\n",
            "Pushed '1' onto the stack: <__main__.Stack object at 0x7d90269aec80>\n",
            "Pushed '9' onto the stack: <__main__.Stack object at 0x7d90269aec80>\n",
            "Reversed string so far: '9'\n",
            "Reversed string so far: '91'\n",
            "Reversed string so far: '91-'\n",
            "Reversed string so far: '91-D'\n",
            "Reversed string so far: '91-DI'\n",
            "Reversed string so far: '91-DIV'\n",
            "Reversed string so far: '91-DIVO'\n",
            "Reversed string so far: '91-DIVOC'\n",
            "Reversed string so far: '91-DIVOC'\n",
            "Reversed string so far: '91-DIVOC e'\n",
            "Reversed string so far: '91-DIVOC er'\n",
            "Reversed string so far: '91-DIVOC ere'\n",
            "Reversed string so far: '91-DIVOC ereu'\n",
            "Reversed string so far: '91-DIVOC ereuq'\n",
            "Reversed string so far: '91-DIVOC ereuqn'\n",
            "Reversed string so far: '91-DIVOC ereuqno'\n",
            "Reversed string so far: '91-DIVOC ereuqnoc'\n",
            "Reversed string so far: '91-DIVOC ereuqnoc'\n",
            "Reversed string so far: '91-DIVOC ereuqnoc l'\n",
            "Reversed string so far: '91-DIVOC ereuqnoc ll'\n",
            "Reversed string so far: '91-DIVOC ereuqnoc lli'\n",
            "Reversed string so far: '91-DIVOC ereuqnoc lliw'\n",
            "Reversed string so far: '91-DIVOC ereuqnoc lliw'\n",
            "Reversed string so far: '91-DIVOC ereuqnoc lliw e'\n",
            "Reversed string so far: '91-DIVOC ereuqnoc lliw eW'\n",
            "Stack content after pushing: deque([])\n"
          ]
        }
      ]
    },
    {
      "cell_type": "code",
      "source": [
        "txt = \"Hello Sam!\"\n",
        "mytable = str.maketrans(\"S\", \"P\")\n",
        "print(txt.translate(mytable))"
      ],
      "metadata": {
        "colab": {
          "base_uri": "https://localhost:8080/"
        },
        "id": "iz5AMv14137n",
        "outputId": "af5c9beb-e114-4187-bece-d0a1dafbe957"
      },
      "execution_count": null,
      "outputs": [
        {
          "output_type": "stream",
          "name": "stdout",
          "text": [
            "Hello Pam!\n"
          ]
        }
      ]
    },
    {
      "cell_type": "code",
      "source": [
        "list=[\"a\",\"b\",\"c\"]\n",
        "for i in list:\n",
        "  print(i)\n",
        "print(*list, sep =\"-->\")\n"
      ],
      "metadata": {
        "colab": {
          "base_uri": "https://localhost:8080/"
        },
        "id": "uW72XqHe63rU",
        "outputId": "a135c513-d50f-4337-cb9f-715ac1bce72c"
      },
      "execution_count": null,
      "outputs": [
        {
          "output_type": "stream",
          "name": "stdout",
          "text": [
            "a\n",
            "b\n",
            "c\n",
            "a-->b-->c\n"
          ]
        }
      ]
    },
    {
      "cell_type": "code",
      "source": [
        "walmart_stock_prices_queue=[] # List\n",
        "walmart_stock_prices_queue.insert(0, 131.10)\n",
        "walmart_stock_prices_queue.insert(0, 130.25)\n",
        "walmart_stock_prices_queue.insert(0, 135.00)"
      ],
      "metadata": {
        "id": "-ymdCZz57JP6"
      },
      "execution_count": null,
      "outputs": []
    },
    {
      "cell_type": "code",
      "source": [
        "\"\"\"\n",
        "insert(index, element) được sử dụng để chèn một phần tử vào vị trí chỉ định bởi index.\n",
        "\n",
        "Khi bạn sử dụng wallmart_stock_prices_queue.insert(0, 131.10),\n",
        "điều này có nghĩa là bạn đang chèn giá trị 131.10 vào đầu danh sách (index = 0).\n",
        "Vì thế, giá trị này sẽ được đẩy tất cả các phần tử khác xuống một vị trí.\n",
        "                                                                                       \"\"\"\n",
        "walmart_stock_prices_queue"
      ],
      "metadata": {
        "colab": {
          "base_uri": "https://localhost:8080/"
        },
        "id": "7smTLoSj-Ip5",
        "outputId": "cd071e23-7afd-4c02-aa68-f5a36259b9da"
      },
      "execution_count": null,
      "outputs": [
        {
          "output_type": "execute_result",
          "data": {
            "text/plain": [
              "[135.0, 130.25, 131.1]"
            ]
          },
          "metadata": {},
          "execution_count": 147
        }
      ]
    },
    {
      "cell_type": "code",
      "source": [
        "walmart_stock_prices_queue.pop()"
      ],
      "metadata": {
        "colab": {
          "base_uri": "https://localhost:8080/"
        },
        "id": "KWmp7Jf2-JOu",
        "outputId": "73253714-657e-45d7-d158-37922ec53895"
      },
      "execution_count": null,
      "outputs": [
        {
          "output_type": "execute_result",
          "data": {
            "text/plain": [
              "131.1"
            ]
          },
          "metadata": {},
          "execution_count": 148
        }
      ]
    },
    {
      "cell_type": "code",
      "source": [
        "from collections import deque\n",
        "q = deque() # flexible can be stack || queue\n",
        "q.appendleft(10)\n",
        "q.appendleft(12)\n",
        "q.appendleft(7)"
      ],
      "metadata": {
        "id": "AgEqFjEr_C68"
      },
      "execution_count": null,
      "outputs": []
    },
    {
      "cell_type": "code",
      "source": [
        "q"
      ],
      "metadata": {
        "colab": {
          "base_uri": "https://localhost:8080/"
        },
        "id": "E9Zw9X-I_cfw",
        "outputId": "970e26c2-1b49-412c-e895-8ee9e9717b0b"
      },
      "execution_count": null,
      "outputs": [
        {
          "output_type": "execute_result",
          "data": {
            "text/plain": [
              "deque([7, 12, 10])"
            ]
          },
          "metadata": {},
          "execution_count": 150
        }
      ]
    },
    {
      "cell_type": "code",
      "source": [
        "q.pop()"
      ],
      "metadata": {
        "colab": {
          "base_uri": "https://localhost:8080/"
        },
        "id": "hj76DUip_dYV",
        "outputId": "14f09f7d-76ea-4042-a793-4bf4b3af2629"
      },
      "execution_count": null,
      "outputs": [
        {
          "output_type": "execute_result",
          "data": {
            "text/plain": [
              "10"
            ]
          },
          "metadata": {},
          "execution_count": 151
        }
      ]
    },
    {
      "cell_type": "code",
      "source": [
        "from collections import deque\n",
        "from typing import Any\n",
        "class Queue:\n",
        "  def __init__(self) -> None:\n",
        "    self.buffer=deque() # buffer which is an instance of deque\n",
        "  def enqueue(self, val: Any) -> None:\n",
        "    self.buffer.appendleft(val)\n",
        "  def dequeue(self) -> None:\n",
        "    return self.buffer.pop()\n",
        "  def is_empty(self):\n",
        "    return len(self.buffer)==0\n",
        "  def size(self) -> int:\n",
        "    return len(self.buffer)"
      ],
      "metadata": {
        "id": "26ECkvJc_hTY"
      },
      "execution_count": null,
      "outputs": []
    },
    {
      "cell_type": "code",
      "source": [
        "pq=Queue()\n",
        "pq.enqueue({\n",
        "    'company': 'AAPL',\n",
        "    'timestamp':'10 Aug, 1:20 PM',\n",
        "    'price': 250.00\n",
        "})\n",
        "pq.enqueue({\n",
        "    'company': 'AAPL',\n",
        "    'timestamp':'10 Aug, 10:25 AM',\n",
        "    'price': 240.12\n",
        "})\n",
        "pq.enqueue({\n",
        "    'company': 'AAPL',\n",
        "    'timestamp':'1 Aug, 5:20 PM',\n",
        "    'price': 245.52\n",
        "})"
      ],
      "metadata": {
        "id": "UdXMBRQXAfH8"
      },
      "execution_count": null,
      "outputs": []
    },
    {
      "cell_type": "code",
      "source": [
        "pq.buffer"
      ],
      "metadata": {
        "colab": {
          "base_uri": "https://localhost:8080/"
        },
        "id": "8POU1iMSA4-X",
        "outputId": "73727e9d-9a53-403a-f6a1-c7599c47335f"
      },
      "execution_count": null,
      "outputs": [
        {
          "output_type": "execute_result",
          "data": {
            "text/plain": [
              "deque([{'company': 'AAPL', 'timestamp': '1 Aug, 5:20 PM', 'price': 245.52},\n",
              "       {'company': 'AAPL', 'timestamp': '10 Aug, 10:25 AM', 'price': 240.12},\n",
              "       {'company': 'AAPL', 'timestamp': '10 Aug, 1:20 PM', 'price': 250.0}])"
            ]
          },
          "metadata": {},
          "execution_count": 159
        }
      ]
    },
    {
      "cell_type": "code",
      "source": [
        "pq.dequeue()"
      ],
      "metadata": {
        "colab": {
          "base_uri": "https://localhost:8080/"
        },
        "id": "EsEVXJK5BtIl",
        "outputId": "52d30506-9b18-4bcf-8ae8-90ea43577588"
      },
      "execution_count": null,
      "outputs": [
        {
          "output_type": "execute_result",
          "data": {
            "text/plain": [
              "{'company': 'AAPL', 'timestamp': '10 Aug, 1:20 PM', 'price': 250.0}"
            ]
          },
          "metadata": {},
          "execution_count": 161
        }
      ]
    },
    {
      "cell_type": "code",
      "source": [
        "pq.size()"
      ],
      "metadata": {
        "colab": {
          "base_uri": "https://localhost:8080/"
        },
        "id": "V2kvzgq8B0Ky",
        "outputId": "f8c7c806-9980-4347-910b-7d146e55c5ed"
      },
      "execution_count": null,
      "outputs": [
        {
          "output_type": "execute_result",
          "data": {
            "text/plain": [
              "2"
            ]
          },
          "metadata": {},
          "execution_count": 162
        }
      ]
    },
    {
      "cell_type": "code",
      "source": [
        "from typing import Any, List\n",
        "from collections import deque\n",
        "import threading\n",
        "import time\n",
        "\n",
        "class Queue:\n",
        "    def __init__(self):\n",
        "        self.buffer = deque()\n",
        "        self.lock = threading.Lock()\n",
        "\n",
        "    def enqueue(self, val: Any):\n",
        "        with self.lock:\n",
        "            self.buffer.appendleft(val)\n",
        "\n",
        "    def dequeue(self):\n",
        "        with self.lock:\n",
        "            if not self.is_empty():\n",
        "                return self.buffer.pop()\n",
        "            else:\n",
        "                return None\n",
        "\n",
        "    def is_empty(self):\n",
        "        with self.lock:\n",
        "            return len(self.buffer) == 0\n",
        "\n",
        "    def size(self) -> int:\n",
        "        with self.lock:\n",
        "            return len(self.buffer)\n",
        "\n",
        "order_queue = Queue()\n",
        "done_event = threading.Event()  # Event to signal when all orders are placed\n",
        "\n",
        "def place_order(orders: List) -> None:\n",
        "    for o in orders:\n",
        "        print(\"Placing order for:\", o)\n",
        "        order_queue.enqueue(o)\n",
        "        time.sleep(0.5)\n",
        "    done_event.set()  # Signal that all orders have been placed\n",
        "\n",
        "def serve_order():\n",
        "    while True:\n",
        "        if not order_queue.is_empty():\n",
        "            order = order_queue.dequeue()\n",
        "            if order is not None:\n",
        "                print(\"Now serving:\", order)\n",
        "                time.sleep(2)\n",
        "        else:\n",
        "            if done_event.is_set():  # Check if all orders have been placed\n",
        "                print(\"All orders have been served.\")\n",
        "                break\n",
        "            print(\"No orders to serve. Waiting for new orders...\")\n",
        "            time.sleep(1)\n",
        "\n",
        "if __name__ == '__main__':\n",
        "    orders = ['pizza', 'samosa', 'pasta', 'biryani', 'burger', 'hwachaw', 'mocktail', 'omija', 'tiramisu']\n",
        "    t1 = threading.Thread(target=place_order, args=(orders,))\n",
        "    t2 = threading.Thread(target=serve_order)\n",
        "\n",
        "    t1.start()\n",
        "    t2.start()"
      ],
      "metadata": {
        "colab": {
          "base_uri": "https://localhost:8080/"
        },
        "id": "ZIdajjxHCKR2",
        "outputId": "f1572765-c72b-4b6a-e055-88527b8c5816"
      },
      "execution_count": null,
      "outputs": [
        {
          "output_type": "stream",
          "name": "stdout",
          "text": [
            "Placing order for: pizza\n"
          ]
        }
      ]
    },
    {
      "cell_type": "code",
      "source": [
        "class Queue:\n",
        "    def __init__(self):\n",
        "        self.queue = []\n",
        "\n",
        "    def enqueue(self, item):\n",
        "        self.queue.append(item)\n",
        "\n",
        "    def dequeue(self):\n",
        "        if self.is_empty():\n",
        "            return None\n",
        "        return self.queue.pop(0)\n",
        "\n",
        "    def is_empty(self):\n",
        "        return len(self.queue) == 0\n",
        "\n",
        "def process_orders(queue):\n",
        "    while not queue.is_empty():\n",
        "        order = queue.dequeue()\n",
        "        print(f\"Now serving: {order}\")\n",
        "\n",
        "# Create a queue and add some orders\n",
        "order_queue = Queue()\n",
        "orders = ['pizza', 'samosa', 'pasta', 'biryani', 'burger', 'hwachaw', 'mocktail', 'omija', 'tiramisu']\n",
        "\n",
        "for order in orders:\n",
        "    order_queue.enqueue(order)\n",
        "\n",
        "# Process the orders\n",
        "process_orders(order_queue)\n"
      ],
      "metadata": {
        "colab": {
          "base_uri": "https://localhost:8080/"
        },
        "id": "XXnIvhkNUXIj",
        "outputId": "e7ba7cbb-3956-44e6-a529-101ce6fb05c7"
      },
      "execution_count": null,
      "outputs": [
        {
          "output_type": "stream",
          "name": "stdout",
          "text": [
            "Now serving: pizza\n",
            "Now serving: samosa\n",
            "Now serving: pasta\n",
            "Now serving: biryani\n",
            "Now serving: burger\n",
            "Now serving: hwachaw\n",
            "Now serving: mocktail\n",
            "Now serving: omija\n",
            "Now serving: tiramisu\n"
          ]
        }
      ]
    },
    {
      "cell_type": "code",
      "source": [
        "# Design a food ordering system where your python program will run two threads,\n",
        "\n",
        "# Place Order: This thread will be placing an order and inserting that into a queue.\n",
        "# This thread places new order every 0.5 second. (hint: use time.sleep(0.5) function)\n",
        "# Serve Order: This thread will server the order.\n",
        "# All you need to do is pop the order out of the queue and print it.\n",
        "# This thread serves an order every 2 seconds.\n",
        "# Also start this thread 1 second after place order thread is started.\n",
        "# Use this video to get yourself familiar with multithreading in python\n",
        "\n",
        "# Pass following list as an argument to place order thread,\n",
        "\n",
        "orders = ['pizza','samosa','pasta','biryani','burger']\n",
        "for o in orders:\n",
        "  pass"
      ],
      "metadata": {
        "id": "8JiBxigaDjWY"
      },
      "execution_count": null,
      "outputs": []
    },
    {
      "cell_type": "code",
      "source": [
        "import threading\n",
        "\n",
        "def print_cube(num) -> int:\n",
        "    print(\"Cube: {}\" .format(num * num * num))\n",
        "def print_square(num) -> int:\n",
        "    print(\"Square: {}\" .format(num * num))\n",
        "\n",
        "if __name__ ==\"__main__\":\n",
        "    t1 = threading.Thread(target=print_square, args=(10,))\n",
        "    t2 = threading.Thread(target=print_cube, args=(10,))\n",
        "\n",
        "    t1.start()\n",
        "    t2.start()\n",
        "\n",
        "    t1.join()\n",
        "    t2.join()\n",
        "    print(\"Done!\")"
      ],
      "metadata": {
        "colab": {
          "base_uri": "https://localhost:8080/"
        },
        "id": "UJ_VVx6VEuXZ",
        "outputId": "ba79a452-699b-4da8-d279-83b740084c33"
      },
      "execution_count": null,
      "outputs": [
        {
          "output_type": "stream",
          "name": "stdout",
          "text": [
            "Square: 100\n",
            "Cube: 1000\n",
            "Done!\n"
          ]
        }
      ]
    },
    {
      "cell_type": "code",
      "source": [
        "from typing import List, Optional\n",
        "# Tree is a recursion data structure:\n",
        "class TreeNode:\n",
        "    def __init__(self, data: str):\n",
        "        self.data = data\n",
        "        self.children: List['TreeNode'] = []  # children is a list of TreeNode instances\n",
        "        self.parent: Optional['TreeNode'] = None  # parent can be None or a TreeNode instance\n",
        "\n",
        "    def add_child(self, child: 'TreeNode'):\n",
        "        child.parent = self\n",
        "        self.children.append(child)\n",
        "\n",
        "    def get_level(self):\n",
        "        level=0\n",
        "        p=self.parent\n",
        "        while p:\n",
        "          level+=1\n",
        "          p=p.parent\n",
        "        return level\n",
        "\n",
        "    def print_tree(self):\n",
        "        space=\"   \"*self.get_level()*2\n",
        "        prefix= space + \"|__\" if self.parent else \"\"\n",
        "        print(prefix + self.data)\n",
        "\n",
        "        if self.children: # tương đương len() > 0\n",
        "            for child in self.children:\n",
        "                #print(child.data)\n",
        "                child.print_tree()\n",
        "\n",
        "def build_product_tree() -> TreeNode:\n",
        "    # root = TreeNode(\"Yua Mikami\")\n",
        "    # creampie = TreeNode(\"Creampie\")\n",
        "    # anal = TreeNode(\"Anal\")\n",
        "    # root.add_child(creampie)\n",
        "    # root.add_child(anal)\n",
        "    #return root\n",
        "\n",
        "    root = TreeNode(\"AV Actress\")\n",
        "\n",
        "    kozue=TreeNode(\"Kozue Minami\")\n",
        "    kozue.add_child(TreeNode(\"Anal\"))\n",
        "    kozue.add_child(TreeNode(\"Oral\"))\n",
        "    kozue.add_child(TreeNode(\"Dark skin\"))\n",
        "\n",
        "    yua=TreeNode(\"Yua Mikami\")\n",
        "    yua.add_child(TreeNode(\"Creampie\"))\n",
        "    yua.add_child(TreeNode(\"Orgy\"))\n",
        "    yua.add_child(TreeNode(\"Slender\"))\n",
        "\n",
        "    arina=TreeNode(\"Arina Arata\")\n",
        "    arina.add_child(TreeNode(\"Foot fetish\"))\n",
        "    arina.add_child(TreeNode(\"Cheating wife\"))\n",
        "    arina.add_child(TreeNode(\"Nymphomaniac\"))\n",
        "\n",
        "    root.add_child(kozue)\n",
        "    root.add_child(yua)\n",
        "    root.add_child(arina)\n",
        "\n",
        "    # print(yua.get_level())\n",
        "    return root\n",
        "\n",
        "if __name__ == \"__main__\":\n",
        "    tree = build_product_tree()\n",
        "    # Optional: Print tree structure to verify\n",
        "    print(tree.data)\n",
        "    for child in tree.children:\n",
        "        print(f'Child of {tree.data}: {child.data}')\n",
        "    pass\n",
        "    tree.print_tree()\n",
        "    tree.get_level()"
      ],
      "metadata": {
        "colab": {
          "base_uri": "https://localhost:8080/"
        },
        "id": "Rk5QDMoSFblp",
        "outputId": "2e835dd2-6f25-43f1-82a0-842c9e0490f2"
      },
      "execution_count": null,
      "outputs": [
        {
          "output_type": "stream",
          "name": "stdout",
          "text": [
            "AV Actress\n",
            "Child of AV Actress: Kozue Minami\n",
            "Child of AV Actress: Yua Mikami\n",
            "Child of AV Actress: Arina Arata\n",
            "AV Actress\n",
            "      |__Kozue Minami\n",
            "            |__Anal\n",
            "            |__Oral\n",
            "            |__Dark skin\n",
            "      |__Yua Mikami\n",
            "            |__Creampie\n",
            "            |__Orgy\n",
            "            |__Slender\n",
            "      |__Arina Arata\n",
            "            |__Foot fetish\n",
            "            |__Cheating wife\n",
            "            |__Nymphomaniac\n"
          ]
        }
      ]
    },
    {
      "cell_type": "code",
      "source": [
        "from typing import List, Optional\n",
        "\n",
        "class TreeNode:\n",
        "    def __init__(self, key: str, val: str):\n",
        "        self.key = key\n",
        "        self.val = val\n",
        "        self.children: List['TreeNode'] = []\n",
        "        self.parent: Optional['TreeNode'] = None\n",
        "\n",
        "    def add_child(self, child: 'TreeNode'):\n",
        "        child.parent = self\n",
        "        self.children.append(child)\n",
        "\n",
        "    def get_level(self) -> int:\n",
        "        level = 0\n",
        "        p = self.parent\n",
        "        while p:\n",
        "            level += 1\n",
        "            p = p.parent\n",
        "        return level\n",
        "\n",
        "    def print_tree(self, property_name: str = 'both', level: int = None):\n",
        "        \"\"\"\n",
        "        Prints the tree. You can specify a property ('key', 'val', or 'both') to print,\n",
        "        and a level to control how deep the tree should be printed.\n",
        "        \"\"\"\n",
        "        if level is not None and self.get_level() > level:\n",
        "            return\n",
        "\n",
        "        if property_name == 'both':\n",
        "            value = f\"{self.key} ({self.val})\"\n",
        "        elif property_name == 'key':\n",
        "            value = self.key\n",
        "        else:\n",
        "            value = self.val\n",
        "\n",
        "        spaces = ' ' * self.get_level() * 3\n",
        "        prefix = spaces + \"|__\" if self.parent else \"\"\n",
        "        print(prefix + value)\n",
        "\n",
        "        if self.children:\n",
        "            for child in self.children:\n",
        "                child.print_tree(property_name, level)\n",
        "\n",
        "# Example Usage:\n",
        "if __name__ == '__main__':\n",
        "    root = TreeNode(\"CEO\", \"John\")\n",
        "\n",
        "    head_development = TreeNode(\"Head of Development\", \"Alice\")\n",
        "    head_sales = TreeNode(\"Head of Sales\", \"Bob\")\n",
        "\n",
        "    root.add_child(head_development)\n",
        "    root.add_child(head_sales)\n",
        "\n",
        "    lead_dev = TreeNode(\"Lead Developer\", \"Charlie\")\n",
        "    junior_dev = TreeNode(\"Junior Developer\", \"David\")\n",
        "\n",
        "    head_development.add_child(lead_dev)\n",
        "    head_development.add_child(junior_dev)\n",
        "\n",
        "    sales_rep = TreeNode(\"Sales Representative\", \"Eve\")\n",
        "\n",
        "    head_sales.add_child(sales_rep)\n",
        "\n",
        "    print(\"Printing entire tree:\")\n",
        "    root.print_tree(property_name='both')\n",
        "\n",
        "    print(\"\\nPrinting tree up to level 2:\")\n",
        "    root.print_tree(property_name='both', level=2)\n"
      ],
      "metadata": {
        "id": "r1QQqMkkXbl6",
        "colab": {
          "base_uri": "https://localhost:8080/"
        },
        "outputId": "9f34a006-12bb-4b4d-a8a0-cc39eac04623"
      },
      "execution_count": null,
      "outputs": [
        {
          "output_type": "stream",
          "name": "stdout",
          "text": [
            "Printing entire tree:\n",
            "CEO (John)\n",
            "   |__Head of Development (Alice)\n",
            "      |__Lead Developer (Charlie)\n",
            "      |__Junior Developer (David)\n",
            "   |__Head of Sales (Bob)\n",
            "      |__Sales Representative (Eve)\n",
            "\n",
            "Printing tree up to level 2:\n",
            "CEO (John)\n",
            "   |__Head of Development (Alice)\n",
            "      |__Lead Developer (Charlie)\n",
            "      |__Junior Developer (David)\n",
            "   |__Head of Sales (Bob)\n",
            "      |__Sales Representative (Eve)\n"
          ]
        }
      ]
    },
    {
      "cell_type": "code",
      "source": [
        "# set similar to list || set --> unique"
      ],
      "metadata": {
        "id": "X_h_p_onx7Se"
      },
      "execution_count": null,
      "outputs": []
    },
    {
      "cell_type": "code",
      "source": [
        "from typing import List, Any\n",
        "\n",
        "\n",
        "class BinarySearchTreeNode:\n",
        "  def __init__(self, data: Any):\n",
        "    self.data=data\n",
        "    self.left=None\n",
        "    self.right=None\n",
        "\n",
        "  def add_child(self, data):\n",
        "    if data == self.data: # the value already exist\n",
        "      return\n",
        "    if data < self.data:\n",
        "      # add data to the left subtree\n",
        "      if self.left: # == left node has data --> recursive --> add child\n",
        "        self.left.add_child(data)\n",
        "      else:\n",
        "        self.left=BinarySearchTreeNode(data)\n",
        "    else:\n",
        "      # add data to the right subtree\n",
        "      if self.right:\n",
        "        self.right.add_child(data)\n",
        "      else:\n",
        "        self.right=BinarySearchTreeNode(data)\n",
        "\n",
        "\n",
        "  def in_order_traversal(self) -> List:\n",
        "      elements=[]\n",
        "\n",
        "      # visit left tree first\n",
        "      if self.left:\n",
        "        elements+=self.left.in_order_traversal()\n",
        "      # visit the base node\n",
        "      elements.append(self.data)\n",
        "      # visit the right node\n",
        "      if self.right:\n",
        "        elements+=self.right.in_order_traversal()\n",
        "      return elements\n",
        "\n",
        "\n",
        "  def search(self,val: int):\n",
        "    if self.data==val:\n",
        "      return True\n",
        "    if val<self.data:\n",
        "      if self.left:\n",
        "        return self.left.search(val)\n",
        "      else:\n",
        "        return False\n",
        "\n",
        "    if val>self.data:\n",
        "      if self.right:\n",
        "        return self.right.search(val)\n",
        "      else:\n",
        "        return False\n",
        "\n",
        "  def find_min(self):\n",
        "    if self.left is None:\n",
        "      return self.data\n",
        "    return self.left.find_min()\n",
        "\n",
        "  def find_max(self):\n",
        "    if self.right is None:\n",
        "      return self.data\n",
        "    return self.right.find_max()\n",
        "\n",
        "  def calculate_sum(self):\n",
        "    left_sum=self.left.calculate_sum() if self.left else 0\n",
        "    right_sum=self.right.calculate_sum() if self.right else 0\n",
        "\n",
        "    return self.data+ left_sum + right_sum\n",
        "\n",
        "  def pre_order_traversal(self):\n",
        "        elements = [self.data]\n",
        "        if self.left:\n",
        "            elements += self.left.pre_order_traversal()\n",
        "        if self.right:\n",
        "            elements += self.right.pre_order_traversal()\n",
        "\n",
        "        return elements\n",
        "\n",
        "  def post_order_traversal(self):\n",
        "        elements = []\n",
        "        if self.left:\n",
        "            elements += self.left.post_order_traversal()\n",
        "        if self.right:\n",
        "            elements += self.right.post_order_traversal()\n",
        "\n",
        "        elements.append(self.data)\n",
        "\n",
        "        return elements\n",
        "  def delete(self,val):\n",
        "    if val<self.data:\n",
        "      if self.left:\n",
        "        self.left.delete(val)\n",
        "    elif val>self.data:\n",
        "      if self.right:\n",
        "        self.right.delete(val)\n",
        "    else:\n",
        "        # Node with no children\n",
        "        if self.left is None and self.right is None:\n",
        "            return None\n",
        "        # Node with one child (right)\n",
        "        if self.left is None:\n",
        "            return self.right\n",
        "        # Node with one child (left)\n",
        "        if self.right is None:\n",
        "            return self.left\n",
        "        # Node with two children\n",
        "        min_val = self.right.find_min()  # Corrected to call the method\n",
        "        self.data = min_val\n",
        "        self.right = self.right.delete(min_val)\n",
        "\n",
        "    return self\n",
        "\n",
        "# - - - - - - - - - - - - - - - - - - - - #\n",
        "def build_tree(elements: List):\n",
        "  root=BinarySearchTreeNode(elements[0])\n",
        "  for i in range(1, len(elements)):\n",
        "    root.add_child(elements[i])\n",
        "  return root\n",
        "# - - - - - - - - - - - - - - - - - - - - #\n",
        "\n",
        "\n",
        "if __name__==\"__main__\":\n",
        "  numbers=[12,3,5,35,54,24,646,75,75,75]\n",
        "  t=build_tree(numbers)\n",
        "  print(t.in_order_traversal())\n",
        "  #print(t.search(75))\n",
        "  print(t.find_min())\n",
        "  print(t.find_max())\n",
        "  print(\"Sum:\", t.calculate_sum())\n",
        "  print(\"Pre order traversal:\", t.pre_order_traversal())\n",
        "  print(\"Post order traversal:\", t.post_order_traversal())\n",
        "\n",
        "  print(\"Before deletion:\", t.in_order_traversal())\n",
        "  t.delete(35)  # Delete a node with one or two children\n",
        "  print(\"After deletion:\", t.in_order_traversal())\n"
      ],
      "metadata": {
        "id": "Lmed7BALIZV3",
        "colab": {
          "base_uri": "https://localhost:8080/"
        },
        "outputId": "18e7d14f-9925-4c2e-ca04-1599deb4a8ac"
      },
      "execution_count": null,
      "outputs": [
        {
          "output_type": "stream",
          "name": "stdout",
          "text": [
            "[3, 5, 12, 24, 35, 54, 75, 646]\n",
            "3\n",
            "646\n",
            "Sum: 854\n",
            "Pre order traversal: [12, 3, 5, 35, 24, 54, 646, 75]\n",
            "Post order traversal: [5, 3, 24, 75, 646, 54, 35, 12]\n",
            "Before deletion: [3, 5, 12, 24, 35, 54, 75, 646]\n",
            "After deletion: [3, 5, 12, 24, 54, 75, 646]\n"
          ]
        }
      ]
    },
    {
      "cell_type": "code",
      "source": [
        "\"\"\"\n",
        "Case 1: Node with No Children (Leaf Node):\n",
        "    If the node has no children (both left and right are None),\n",
        "    it simply returns None, indicating the node can be deleted.\n",
        "\n",
        "Case 2: Node with One Child:\n",
        "    If the node has only one child (either left or right is None),\n",
        "    it returns the non-None child, which will replace the current node.\n",
        "\n",
        "Case 3: Node with Two Children:\n",
        "    The method finds the minimum value in the right subtree (min_val),\n",
        "    replaces the current node's data with this value,\n",
        "    and then deletes the node with the min_val from the right subtree.\n",
        "\n",
        "\"\"\""
      ],
      "metadata": {
        "id": "YpGg2o-A-sa5"
      },
      "execution_count": null,
      "outputs": []
    },
    {
      "cell_type": "code",
      "source": [
        "card_values = [2, 3, 4, 5, 6, 7, 8, 9, 10, \"J\", \"Q\", \"K\", \"A\"]\n",
        "\n",
        "suits = {\n",
        "    \"Spade\": \"♠\",\n",
        "    \"Club\": \"♣\",\n",
        "    \"Diamond\": \"♢\",\n",
        "    \"Heart\": \"♡\"\n",
        "}\n",
        "\n",
        "deck = [(card, suit) for card in card_values for suit in suits.values()] # .values() để in giá trị\n",
        "print(deck)\n"
      ],
      "metadata": {
        "id": "7BmfAe2DIxhw",
        "colab": {
          "base_uri": "https://localhost:8080/"
        },
        "outputId": "9b672f68-b181-47d1-e96c-62e55fde1e51"
      },
      "execution_count": null,
      "outputs": [
        {
          "output_type": "stream",
          "name": "stdout",
          "text": [
            "[(2, '♠'), (2, '♣'), (2, '♢'), (2, '♡'), (3, '♠'), (3, '♣'), (3, '♢'), (3, '♡'), (4, '♠'), (4, '♣'), (4, '♢'), (4, '♡'), (5, '♠'), (5, '♣'), (5, '♢'), (5, '♡'), (6, '♠'), (6, '♣'), (6, '♢'), (6, '♡'), (7, '♠'), (7, '♣'), (7, '♢'), (7, '♡'), (8, '♠'), (8, '♣'), (8, '♢'), (8, '♡'), (9, '♠'), (9, '♣'), (9, '♢'), (9, '♡'), (10, '♠'), (10, '♣'), (10, '♢'), (10, '♡'), ('J', '♠'), ('J', '♣'), ('J', '♢'), ('J', '♡'), ('Q', '♠'), ('Q', '♣'), ('Q', '♢'), ('Q', '♡'), ('K', '♠'), ('K', '♣'), ('K', '♢'), ('K', '♡'), ('A', '♠'), ('A', '♣'), ('A', '♢'), ('A', '♡')]\n"
          ]
        }
      ]
    },
    {
      "cell_type": "code",
      "source": [
        "import random\n",
        "# Define the card values and suits\n",
        "card_values = [2, 3, 4, 5, 6, 7, 8, 9, 10, \"J\", \"Q\", \"K\", \"A\"]\n",
        "suits = {\n",
        "    \"Spade\": \"♠\",\n",
        "    \"Club\": \"♣\",\n",
        "    \"Diamond\": \"♢\",\n",
        "    \"Heart\": \"♡\"\n",
        "}\n",
        "\n",
        "# Create the deck of cards\n",
        "deck = [(card, suit) for card in card_values for suit in suits.values()]\n",
        "\n",
        "# Shuffle the deck\n",
        "random.shuffle(deck)\n",
        "\n",
        "# Logic for Tiến Lên Miền Nam (Southern Vietnamese Poker)\n",
        "# In Tiến Lên, the deck is usually dealt evenly to 4 players\n",
        "\n",
        "def deal_cards(deck, num_players=4):\n",
        "    \"\"\"Deal cards to the specified number of players.\"\"\"\n",
        "    return [deck[i::num_players] for i in range(num_players)]\n",
        "\n",
        "# Deal the cards to 4 players\n",
        "players_hands = deal_cards(deck)\n",
        "\n",
        "# Print each player's hand\n",
        "for i, hand in enumerate(players_hands, start=1):\n",
        "    print(f\"Player {i}'s hand: {hand}\")\n"
      ],
      "metadata": {
        "colab": {
          "base_uri": "https://localhost:8080/"
        },
        "id": "XtiDSG91lNpX",
        "outputId": "dcd9b197-05ff-42ee-8b59-0b7df11dc08d"
      },
      "execution_count": null,
      "outputs": [
        {
          "output_type": "stream",
          "name": "stdout",
          "text": [
            "Player 1's hand: [(5, '♡'), (2, '♡'), (10, '♡'), (8, '♣'), (10, '♣'), (10, '♢'), ('K', '♣'), (4, '♡'), ('J', '♢'), (7, '♣'), (3, '♡'), (3, '♣'), ('Q', '♣')]\n",
            "Player 2's hand: [('J', '♡'), (6, '♡'), ('J', '♠'), (7, '♢'), (5, '♢'), (5, '♠'), (6, '♣'), (4, '♠'), (3, '♠'), (8, '♡'), ('J', '♣'), ('Q', '♢'), (2, '♢')]\n",
            "Player 3's hand: [('A', '♣'), ('A', '♡'), (2, '♠'), ('K', '♡'), (3, '♢'), ('K', '♠'), ('Q', '♠'), (5, '♣'), (8, '♢'), (4, '♢'), (2, '♣'), (8, '♠'), ('K', '♢')]\n",
            "Player 4's hand: [('Q', '♡'), (7, '♠'), (9, '♠'), (4, '♣'), (6, '♠'), (10, '♠'), (9, '♣'), (9, '♡'), (9, '♢'), ('A', '♠'), ('A', '♢'), (6, '♢'), (7, '♡')]\n"
          ]
        }
      ]
    },
    {
      "cell_type": "code",
      "source": [
        "from typing import List, Union\n",
        "\n",
        "# Define the possible values and suits for the cards\n",
        "values: List[int] = list(range(2, 15))\n",
        "suits: List[str] = [\"♠\", \"♣\", \"♢\", \"♡\"]\n",
        "\n",
        "# Map face card values to their corresponding symbols and vice versa\n",
        "face_card: dict[Union[int, str], Union[str, int]] = {\n",
        "                                                          11: \"J\",\n",
        "                                                          12: \"Q\",\n",
        "                                                          13: \"K\",\n",
        "                                                          14: \"A\",\n",
        "                                                          \"J\": 11,\n",
        "                                                          \"Q\": 12,\n",
        "                                                          \"K\": 13,\n",
        "                                                          \"A\": 14\n",
        "                                                      }\n",
        "\n",
        "# Define the Card class with value and suit attributes\n",
        "class Card:\n",
        "    def __init__(self, value: Union[int, str], suit: str) -> None:\n",
        "        self.value = value\n",
        "        self.suit = suit\n",
        "\n",
        "    def __repr__(self) -> str:\n",
        "        return f\"{self.value}{self.suit}\"\n",
        "\n",
        "# Function to create a deck of cards\n",
        "def deck(values: List[int], suits: List[str]) -> List[Card]:\n",
        "    cards: List[Card] = []\n",
        "    for v in values:\n",
        "        for s in suits:\n",
        "            card_value = face_card.get(v, v)\n",
        "            cards.append(Card(card_value, s))\n",
        "    return cards\n",
        "\n",
        "# Create a deck of cards\n",
        "cards = deck(values, suits)\n",
        "# Shuffle the deck\n",
        "random.shuffle(cards)\n",
        "\n",
        "# Print each card in the shuffled deck\n",
        "for card in cards:\n",
        "    print(card)"
      ],
      "metadata": {
        "colab": {
          "base_uri": "https://localhost:8080/"
        },
        "id": "UDcHGM-GpNr_",
        "outputId": "31096885-b989-44ab-f69b-453ea1115fc2"
      },
      "execution_count": null,
      "outputs": [
        {
          "output_type": "stream",
          "name": "stdout",
          "text": [
            "Q♡\n",
            "8♣\n",
            "2♣\n",
            "A♢\n",
            "4♠\n",
            "10♣\n",
            "8♠\n",
            "9♠\n",
            "2♡\n",
            "J♠\n",
            "7♢\n",
            "Q♠\n",
            "4♢\n",
            "10♢\n",
            "5♠\n",
            "3♢\n",
            "7♣\n",
            "8♢\n",
            "2♢\n",
            "3♡\n",
            "K♣\n",
            "10♡\n",
            "A♣\n",
            "J♣\n",
            "4♣\n",
            "9♢\n",
            "6♢\n",
            "Q♣\n",
            "2♠\n",
            "A♠\n",
            "3♣\n",
            "3♠\n",
            "9♡\n",
            "J♡\n",
            "8♡\n",
            "K♢\n",
            "K♡\n",
            "9♣\n",
            "6♡\n",
            "J♢\n",
            "5♢\n",
            "A♡\n",
            "7♠\n",
            "10♠\n",
            "4♡\n",
            "5♡\n",
            "6♠\n",
            "7♡\n",
            "6♣\n",
            "5♣\n",
            "Q♢\n",
            "K♠\n"
          ]
        }
      ]
    },
    {
      "cell_type": "code",
      "source": [
        "from typing import Optional, Iterator, List\n",
        "\n",
        "class Node:\n",
        "    def __init__(self, value: Optional[int] = None) -> None:\n",
        "        self.value: Optional[int] = value\n",
        "        self.next: Optional['Node'] = None\n",
        "\n",
        "class SingleList:\n",
        "    def __init__(self) -> None:\n",
        "        self.head: Optional[Node] = None\n",
        "        self.tail: Optional[Node] = None\n",
        "\n",
        "    def __iter__(self) -> Iterator[Node]:\n",
        "        node = self.head\n",
        "        while node:\n",
        "            yield node\n",
        "            node = node.next\n",
        "\n",
        "    def append(self, value: int) -> None:\n",
        "        new_node = Node(value)\n",
        "        if self.head is None:\n",
        "            self.head = new_node\n",
        "            self.tail = new_node\n",
        "        else:\n",
        "            assert self.tail is not None  # for type checker\n",
        "            self.tail.next = new_node\n",
        "            self.tail = new_node\n",
        "\n",
        "# Example usage\n",
        "s = SingleList()\n",
        "s.append(1)\n",
        "s.append(2)\n",
        "s.append(3)\n",
        "# Debug: Print all node values\n",
        "print([node.value for node in s])  # Output: [1, 2, 3]"
      ],
      "metadata": {
        "colab": {
          "base_uri": "https://localhost:8080/"
        },
        "id": "3TGREEEnpmUm",
        "outputId": "c44b197f-11b7-4ed3-e53a-43f9f82b61eb"
      },
      "execution_count": null,
      "outputs": [
        {
          "output_type": "stream",
          "name": "stdout",
          "text": [
            "[1, 2, 3]\n"
          ]
        }
      ]
    },
    {
      "cell_type": "code",
      "source": [
        "# recursive\n",
        "def find_sum(n):\n",
        "  if n==1:\n",
        "    return 1\n",
        "  return n + find_sum(n-1)\n",
        "if __name__==\"__main__\":\n",
        "  print(find_sum(6))"
      ],
      "metadata": {
        "colab": {
          "base_uri": "https://localhost:8080/"
        },
        "id": "T1yEmWTE0_uK",
        "outputId": "77cb2d19-7934-44f4-ca98-4c813ecf2879"
      },
      "execution_count": null,
      "outputs": [
        {
          "output_type": "stream",
          "name": "stdout",
          "text": [
            "21\n"
          ]
        }
      ]
    },
    {
      "cell_type": "code",
      "source": [
        "def fib(n):\n",
        "  if n==0 or n==1: # base conditions.\n",
        "    return n\n",
        "  return fib(n-1) + fib(n-2) # invoke the func again \\\\ frame to a call stack --> stack data structure\n",
        "if __name__==\"__main__\":\n",
        "  print(fib(6))\n",
        "# fib(5) + fib(4) --> fib(4)[3-->21,2] + (fib(3)[2,1])-->2 + (fib(3)[2,1]+ fibt(2)[1,0])--3"
      ],
      "metadata": {
        "colab": {
          "base_uri": "https://localhost:8080/"
        },
        "id": "cscMnV8yErEu",
        "outputId": "febc089c-5254-423c-c8de-942e41386246"
      },
      "execution_count": null,
      "outputs": [
        {
          "output_type": "stream",
          "name": "stdout",
          "text": [
            "8\n"
          ]
        }
      ]
    },
    {
      "cell_type": "code",
      "source": [],
      "metadata": {
        "id": "PE83W_h3FRi1"
      },
      "execution_count": null,
      "outputs": []
    }
  ],
  "metadata": {
    "colab": {
      "provenance": [],
      "gpuType": "T4"
    },
    "kernelspec": {
      "display_name": "Python 3",
      "name": "python3"
    },
    "language_info": {
      "name": "python"
    }
  },
  "nbformat": 4,
  "nbformat_minor": 0
}