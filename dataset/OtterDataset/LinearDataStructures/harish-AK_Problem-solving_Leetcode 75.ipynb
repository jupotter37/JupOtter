{
 "cells": [
  {
   "cell_type": "code",
   "execution_count": 3,
   "metadata": {},
   "outputs": [
    {
     "data": {
      "text/plain": [
       "'apbqcr'"
      ]
     },
     "execution_count": 3,
     "metadata": {},
     "output_type": "execute_result"
    }
   ],
   "source": [
    "# 1\n",
    "# merge strings alternatively\n",
    "# You are given two strings word1 and word2. Merge the strings by adding letters in alternating order, starting with word1. If a \n",
    "# string is longer than the other, append the additional letters onto the end of the merged string.\n",
    "# Return the merged string.\n",
    "\n",
    "# Example 1:\n",
    "\n",
    "# Input: word1 = \"abc\", word2 = \"pqr\"\n",
    "# Output: \"apbqcr\"\n",
    "# Explanation: The merged string will be merged as so:\n",
    "# word1:  a   b   c\n",
    "# word2:    p   q   r\n",
    "# merged: a p b q c r\n",
    "\n",
    "word1 = \"abc\"\n",
    "word2 = \"pqr\"\n",
    "\n",
    "w1 = 0\n",
    "w2 = 0\n",
    "res = \"\"\n",
    "\n",
    "while w1 < len(word1) or w2 < len(word2):\n",
    "    if w1 < len(word1):\n",
    "        res += word1[w1]\n",
    "        w1 += 1\n",
    "    if w2 < len(word2):\n",
    "        res += word2[w2]\n",
    "        w2 += 1\n",
    "res\n"
   ]
  },
  {
   "cell_type": "code",
   "execution_count": 2,
   "metadata": {},
   "outputs": [
    {
     "name": "stdout",
     "output_type": "stream",
     "text": [
      "3\n"
     ]
    },
    {
     "data": {
      "text/plain": [
       "'ABC'"
      ]
     },
     "execution_count": 2,
     "metadata": {},
     "output_type": "execute_result"
    }
   ],
   "source": [
    "# 2\n",
    "# greatest common divisor\n",
    "# For two strings s and t, we say \"t divides s\" if and only if s = t + t + t + ... + t + t (i.e., t is concatenated with \n",
    "# itself one or more times).\n",
    "# Given two strings str1 and str2, return the largest string x such that x divides both str1 and str2.\n",
    "\n",
    "# Example 1:\n",
    "\n",
    "# Input: str1 = \"ABCABC\", str2 = \"ABC\"\n",
    "# Output: \"ABC\"\n",
    "import math\n",
    "str1 = \"ABCABC\"\n",
    "str2 = \"ABC\"\n",
    "if str1 + str2 != str1 + str2:\n",
    "    print(\"\")\n",
    "else:\n",
    "    gcd = math.gcd(len(str1),len(str2))\n",
    "    print(gcd)\n",
    "str1[:gcd]"
   ]
  },
  {
   "cell_type": "code",
   "execution_count": 10,
   "metadata": {},
   "outputs": [
    {
     "data": {
      "text/plain": [
       "[True, True, True, False, True]"
      ]
     },
     "execution_count": 10,
     "metadata": {},
     "output_type": "execute_result"
    }
   ],
   "source": [
    "# 3\n",
    "# kids with greatest number of candies\n",
    "# There are n kids with candies. You are given an integer array candies, where each candies[i] represents the number of candies the ith kid has, \n",
    "# and an integer extraCandies, denoting the number of extra candies that you have.\n",
    "# Return a boolean array result of length n, where result[i] is true if, after giving the ith kid all the extraCandies, they will have the \n",
    "# greatest number of candies among all the kids, or false otherwise.\n",
    "# Note that multiple kids can have the greatest number of candies.\n",
    "\n",
    "# Example 1:\n",
    "\n",
    "# Input: candies = [2,3,5,1,3], extraCandies = 3\n",
    "# Output: [true,true,true,false,true] \n",
    "# Explanation: If you give all extraCandies to:\n",
    "# - Kid 1, they will have 2 + 3 = 5 candies, which is the greatest among the kids.\n",
    "# - Kid 2, they will have 3 + 3 = 6 candies, which is the greatest among the kids.\n",
    "# - Kid 3, they will have 5 + 3 = 8 candies, which is the greatest among the kids.\n",
    "# - Kid 4, they will have 1 + 3 = 4 candies, which is not the greatest among the kids.\n",
    "# - Kid 5, they will have 3 + 3 = 6 candies, which is the greatest among the kids.\n",
    "\n",
    "candies = [2,3,5,1,3]\n",
    "extraCandies = 3\n",
    "lis = [False]*len(candies)\n",
    "for i in range(len(candies)):\n",
    "    if candies[i] + extraCandies >= max(candies):\n",
    "        lis[i] = True\n",
    "        \n",
    "lis"
   ]
  },
  {
   "cell_type": "code",
   "execution_count": 9,
   "metadata": {},
   "outputs": [
    {
     "name": "stdout",
     "output_type": "stream",
     "text": [
      "False\n"
     ]
    }
   ],
   "source": [
    "# 4\n",
    "# can place flowers\n",
    "# You have a long flowerbed in which some of the plots are planted, and some are not. However, flowers cannot be planted in adjacent plots.\n",
    "# Given an integer array flowerbed containing 0's and 1's, where 0 means empty and 1 means not empty, and an integer n, return true if n new \n",
    "# flowers can be planted in the flowerbed without violating the no-adjacent-flowers rule and false otherwise.\n",
    "\n",
    "# Example 1:\n",
    "\n",
    "# Input: flowerbed = [1,0,0,0,1], n = 1\n",
    "# Output: true\n",
    "\n",
    "flowerbed = [1,0,0,0,0,1]\n",
    "n = 2\n",
    "\n",
    "if len(flowerbed) == 1 and flowerbed[0] == 0:\n",
    "    flowerbed[0] = 1\n",
    "    n -= 1\n",
    "\n",
    "if flowerbed[0] == 0 and flowerbed[1] == 0:\n",
    "    flowerbed[0] = 1\n",
    "    n -= 1\n",
    "\n",
    "for i in range(1, len(flowerbed) - 1):\n",
    "    if flowerbed[i] == 0 and flowerbed[i - 1] == 0 and flowerbed[i + 1] == 0:\n",
    "        flowerbed[i] = 1\n",
    "        n -= 1\n",
    "        if n == 0:  \n",
    "            break\n",
    "\n",
    "if flowerbed[len(flowerbed) - 1] == 0 and flowerbed[len(flowerbed) - 2] == 0:\n",
    "    flowerbed[len(flowerbed) - 1] = 1\n",
    "    n -= 1\n",
    "\n",
    "print(True if n <= 0 else False)\n"
   ]
  },
  {
   "cell_type": "code",
   "execution_count": 19,
   "metadata": {},
   "outputs": [
    {
     "data": {
      "text/plain": [
       "'AceCreIm'"
      ]
     },
     "execution_count": 19,
     "metadata": {},
     "output_type": "execute_result"
    }
   ],
   "source": [
    "# 5\n",
    "# reverse vowels of a string\n",
    "# Given a string s, reverse only all the vowels in the string and return it.\n",
    "\n",
    "# The vowels are 'a', 'e', 'i', 'o', and 'u', and they can appear in both lower and upper cases, more than once.\n",
    "\n",
    "# Example 1:\n",
    "\n",
    "# Input: s = \"IceCreAm\"\n",
    "# Output: \"AceCreIm\"\n",
    "# Explanation:\n",
    "# The vowels in s are ['I', 'e', 'e', 'A']. On reversing the vowels, s becomes \"AceCreIm\".\n",
    "\n",
    "s = \"IceCreAm\"\n",
    "s = list(s)\n",
    "l = 0\n",
    "r = len(s)-1\n",
    "while l < r:\n",
    "    if s[l] in 'aeiouAEIOU' and s[r] in 'aeiouAEIOU':\n",
    "        s[l],s[r] = s[r],s[l]\n",
    "        l += 1\n",
    "        r -= 1\n",
    "    if s[l] not  in 'aeiouAEIOU':\n",
    "        l += 1\n",
    "    if s[r] not in 'aeiouAEIOU':\n",
    "        r -=1\n",
    "\"\".join(s)"
   ]
  },
  {
   "cell_type": "code",
   "execution_count": 23,
   "metadata": {},
   "outputs": [
    {
     "data": {
      "text/plain": [
       "['blue', 'is', 'sky', 'the']"
      ]
     },
     "execution_count": 23,
     "metadata": {},
     "output_type": "execute_result"
    }
   ],
   "source": [
    "# 6\n",
    "# Reverse words in a string\n",
    "# Given an input string s, reverse the order of the words.\n",
    "\n",
    "# A word is defined as a sequence of non-space characters. The words in s will be separated by at least one space.\n",
    "\n",
    "# Return a string of the words in reverse order concatenated by a single space.\n",
    "\n",
    "# Note that s may contain leading or trailing spaces or multiple spaces between two words. The returned string \n",
    "# should only have a single space separating the words. Do not include any extra spaces.\n",
    "\n",
    "# Example 1:\n",
    "\n",
    "# Input: s = \"the sky is blue\"\n",
    "# Output: \"blue is sky the\"\n",
    "s = \"the sky is blue\"\n",
    "s = s.split()\n",
    "s[::-1]"
   ]
  },
  {
   "cell_type": "code",
   "execution_count": 6,
   "metadata": {},
   "outputs": [
    {
     "name": "stdout",
     "output_type": "stream",
     "text": [
      "[24, 12, 8, 6]\n",
      "24\n",
      "[24, 12, 8, 6]\n"
     ]
    }
   ],
   "source": [
    "# 7\n",
    "# product of array excepy self\n",
    "# Given an integer array nums, return an array answer such that answer[i] is equal to the product of all the elements of nums except nums[i].\n",
    "\n",
    "# The product of any prefix or suffix of nums is guaranteed to fit in a 32-bit integer.\n",
    "\n",
    "# You must write an algorithm that runs in O(n) time and without using the division operation.\n",
    "\n",
    " \n",
    "\n",
    "# Example 1:\n",
    "\n",
    "# Input: nums = [1,2,3,4]\n",
    "# Output: [24,12,8,6]\n",
    "\n",
    "nums = [1,2,3,4]\n",
    "res = []\n",
    "c = 0\n",
    "mul = 1\n",
    "while c < len(nums):\n",
    "    \n",
    "    curr = nums[c]\n",
    "    nums[c] = 1\n",
    "\n",
    "    for i in range(len(nums)):    \n",
    "        mul *= nums[i]\n",
    "    res.append(mul)\n",
    "    mul = 1\n",
    "    nums[c] = curr\n",
    "    c += 1\n",
    "print(res)\n",
    "\n",
    "# method 2\n",
    "nums = [1, 2, 3, 4]\n",
    "n = len(nums)\n",
    "res = [1] * n  \n",
    "\n",
    "left_prod = 1\n",
    "for i in range(n):\n",
    "    res[i] = left_prod\n",
    "    left_prod *= nums[i]\n",
    "\n",
    "right_prod = 1\n",
    "for i in range(n - 1, -1, -1):\n",
    "    res[i] *= right_prod\n",
    "    right_prod *= nums[i]\n",
    "\n",
    "print(res)\n",
    "        "
   ]
  },
  {
   "cell_type": "code",
   "execution_count": 12,
   "metadata": {},
   "outputs": [
    {
     "data": {
      "text/plain": [
       "True"
      ]
     },
     "execution_count": 12,
     "metadata": {},
     "output_type": "execute_result"
    }
   ],
   "source": [
    "# 8\n",
    "# Increasing triplet subsequence\n",
    "# Given an integer array nums, return true if there exists a triple of indices (i, j, k) such that i < j < k and \n",
    "# nums[i] < nums[j] < nums[k]. If no such indices exists, return false.\n",
    "\n",
    "# Example 1:\n",
    "\n",
    "# Input: nums = [1,2,3,4,5]\n",
    "# Output: true\n",
    "# Explanation: Any triplet where i < j < k is valid.\n",
    "\n",
    "nums = [20,100,10,12,5,13]\n",
    "flag = False\n",
    "firs = sec = float('inf')\n",
    "\n",
    "for i in nums:\n",
    "    if i <= firs:\n",
    "        firs = i\n",
    "    elif i <= sec:\n",
    "        sec = i\n",
    "    else:\n",
    "        flag = True\n",
    "flag"
   ]
  },
  {
   "cell_type": "code",
   "execution_count": 2,
   "metadata": {},
   "outputs": [
    {
     "data": {
      "text/plain": [
       "4"
      ]
     },
     "execution_count": 2,
     "metadata": {},
     "output_type": "execute_result"
    }
   ],
   "source": [
    "# 9 \n",
    "# string compression\n",
    "# Given an array of characters chars, compress it using the following algorithm:\n",
    "\n",
    "# Begin with an empty string s. For each group of consecutive repeating characters in chars:\n",
    "\n",
    "# If the group's length is 1, append the character to s.\n",
    "# Otherwise, append the character followed by the group's length.\n",
    "# The compressed string s should not be returned separately, but instead, be stored in the input character array chars. Note that \n",
    "# group lengths that are 10 or longer will be split into multiple characters in chars.\n",
    "\n",
    "# After you are done modifying the input array, return the new length of the array.\n",
    "\n",
    "# You must write an algorithm that uses only constant extra space.\n",
    "\n",
    " \n",
    "\n",
    "# Example 1:\n",
    "\n",
    "# Input: chars = [\"a\",\"a\",\"b\",\"b\",\"c\",\"c\",\"c\"]\n",
    "# Output: Return 6, and the first 6 characters of the input array should be: [\"a\",\"2\",\"b\",\"2\",\"c\",\"3\"]\n",
    "# Explanation: The groups are \"aa\", \"bb\", and \"ccc\". This compresses to \"a2b2c3\".\n",
    "\n",
    "chars =    [\"a\",\"b\",\"b\",\"b\",\"b\",\"b\",\"b\",\"b\",\"b\",\"b\",\"b\",\"b\",\"b\"]\n",
    "write = 0\n",
    "i = 0\n",
    "while i<len(chars):\n",
    "    char = chars[i] # a\n",
    "    count = 0\n",
    "\n",
    "    while i<len(chars) and chars[i] == char:\n",
    "        count += 1\n",
    "        i += 1\n",
    "    chars[write] = char\n",
    "    write += 1\n",
    "\n",
    "    if count > 1:\n",
    "        for c  in str(count):\n",
    "            chars[write] = c\n",
    "            write += 1\n",
    "write\n",
    "\n"
   ]
  },
  {
   "cell_type": "code",
   "execution_count": 18,
   "metadata": {},
   "outputs": [
    {
     "name": "stdout",
     "output_type": "stream",
     "text": [
      "[1, 3, 12, 3, 12]\n"
     ]
    },
    {
     "data": {
      "text/plain": [
       "[1, 3, 12, 0, 0]"
      ]
     },
     "execution_count": 18,
     "metadata": {},
     "output_type": "execute_result"
    }
   ],
   "source": [
    "# 10\n",
    "# move zeros\n",
    "# Given an integer array nums, move all 0's to the end of it while maintaining the relative order of the non-zero elements.\n",
    "# Note that you must do this in-place without making a copy of the array.\n",
    "\n",
    "# Example 1:\n",
    "\n",
    "# Input: nums = [0,1,0,3,12]\n",
    "# Output: [1,3,12,0,0]\n",
    "\n",
    "nums = [0,1,0,3,12]\n",
    "non_zero_index = 0\n",
    "        \n",
    "for i in range(len(nums)):   \n",
    "    if nums[i] != 0:\n",
    "        nums[non_zero_index] = nums[i]\n",
    "        non_zero_index += 1\n",
    "\n",
    "print(nums)\n",
    "\n",
    "for i in range(non_zero_index,len(nums)):\n",
    "    nums[i] = 0\n",
    "nums"
   ]
  },
  {
   "cell_type": "code",
   "execution_count": 6,
   "metadata": {},
   "outputs": [
    {
     "name": "stdout",
     "output_type": "stream",
     "text": [
      "False\n"
     ]
    }
   ],
   "source": [
    "# 11\n",
    "# is subsequence\n",
    "# Given two strings s and t, return true if s is a subsequence of t, or false otherwise.\n",
    "\n",
    "# A subsequence of a string is a new string that is formed from the original string by deleting some (can be none) of the characters \n",
    "# without disturbing the relative positions of the remaining characters. (i.e., \"ace\" is a subsequence of \"abcde\" while \"aec\" is not).\n",
    "\n",
    "\n",
    "# Example 1:\n",
    "\n",
    "# Input: s = \"abc\", t = \"ahbgdc\"\n",
    "# Output: true\n",
    "\n",
    "s = \"axc\"\n",
    "t = \"ahbgdc\"\n",
    "\n",
    "i = 0\n",
    "j = 0\n",
    "\n",
    "while j < len(t):\n",
    "    if s[i] == t[j]:\n",
    "        i += 1\n",
    "        j += 1\n",
    "    j += 1\n",
    "if i == len(s):\n",
    "    print(True)\n",
    "else:\n",
    "    print(False)"
   ]
  },
  {
   "cell_type": "code",
   "execution_count": 1,
   "metadata": {},
   "outputs": [
    {
     "data": {
      "text/plain": [
       "49"
      ]
     },
     "execution_count": 1,
     "metadata": {},
     "output_type": "execute_result"
    }
   ],
   "source": [
    "# 12\n",
    "# container with most water\n",
    "# You are given an integer array height of length n. There are n vertical lines drawn such that the two endpoints of the ith line are \n",
    "# (i, 0) and (i, height[i]).\n",
    "\n",
    "# Find two lines that together with the x-axis form a container, such that the container contains the most water.\n",
    "\n",
    "# Return the maximum amount of water a container can store.\n",
    "\n",
    "# Input: height = [1,8,6,2,5,4,8,3,7]\n",
    "# Output: 49\n",
    "# Explanation: The above vertical lines are represented by array [1,8,6,2,5,4,8,3,7]. In this case, the max area of water (blue section) \n",
    "# the container can contain is 49.\n",
    "\n",
    "height = [1,8,6,2,5,4,8,3,7]\n",
    "l = 0\n",
    "r = len(height) - 1\n",
    "maxA = 0\n",
    "\n",
    "while l<r:\n",
    "    w = r-l # width\n",
    "    h = min(height[l],height[r])\n",
    "    area = w*h\n",
    "    maxA = max(area,maxA)\n",
    "\n",
    "    if height[l] > height[r]:\n",
    "        r -= 1\n",
    "    else:\n",
    "        l += 1\n",
    "maxA"
   ]
  },
  {
   "cell_type": "code",
   "execution_count": 18,
   "metadata": {},
   "outputs": [
    {
     "data": {
      "text/plain": [
       "1"
      ]
     },
     "execution_count": 18,
     "metadata": {},
     "output_type": "execute_result"
    }
   ],
   "source": [
    "# 13\n",
    "# Max number of k sum pairs\n",
    "\n",
    "# You are given an integer array nums and an integer k.\n",
    "\n",
    "# In one operation, you can pick two numbers from the array whose sum equals k and remove them from the array.\n",
    "\n",
    "# Return the maximum number of operations you can perform on the array.\n",
    "\n",
    " \n",
    "\n",
    "# Example 1:\n",
    "\n",
    "# Input: nums = [1,2,3,4], k = 5\n",
    "# Output: 2\n",
    "# Explanation: Starting with nums = [1,2,3,4]:\n",
    "# - Remove numbers 1 and 4, then nums = [2,3]\n",
    "# - Remove numbers 2 and 3, then nums = []\n",
    "# There are no more pairs that sum up to 5, hence a total of 2 operations.\n",
    "\n",
    "nums = [1, 2, 3, 4]\n",
    "k = 5\n",
    "l = 0\n",
    "r = len(nums) - 1\n",
    "nums.sort()\n",
    "cou = 0\n",
    "\n",
    "while l < r:\n",
    "    if nums[l] + nums[r] == k:\n",
    "        cou += 1\n",
    "        l += 1\n",
    "        r -= 1\n",
    "    elif nums[l] + nums[r] < k:\n",
    "        l += 1\n",
    "    else:\n",
    "        r -= 1\n",
    "\n",
    "cou\n"
   ]
  },
  {
   "cell_type": "code",
   "execution_count": 26,
   "metadata": {},
   "outputs": [
    {
     "data": {
      "text/plain": [
       "12.75"
      ]
     },
     "execution_count": 26,
     "metadata": {},
     "output_type": "execute_result"
    }
   ],
   "source": [
    "# 14\n",
    "# Maximum average sub array\n",
    "# You are given an integer array nums consisting of n elements, and an integer k.\n",
    "\n",
    "# Find a contiguous subarray whose length is equal to k that has the maximum average value and return this value. Any answer \n",
    "# with a calculation error less than 10-5 will be accepted.\n",
    "\n",
    "# Example 1:\n",
    "\n",
    "# Input: nums = [1,12,-5,-6,50,3], k = 4\n",
    "# Output: 12.75000\n",
    "# Explanation: Maximum average is (12 - 5 - 6 + 50) / 4 = 51 / 4 = 12.75\n",
    "\n",
    "nums = [1,12,-5,-6,50,3]\n",
    "k = 4\n",
    "n = len(nums)\n",
    "ssum = sum(nums[:k])\n",
    "avg = ssum / k\n",
    "\n",
    "for i in range(k, n):\n",
    "    ssum += nums[i] - nums[i - k]\n",
    "    avg = max(avg, ssum / k)\n",
    "    \n",
    "avg\n",
    "    "
   ]
  },
  {
   "cell_type": "code",
   "execution_count": 10,
   "metadata": {},
   "outputs": [
    {
     "data": {
      "text/plain": [
       "3"
      ]
     },
     "execution_count": 10,
     "metadata": {},
     "output_type": "execute_result"
    }
   ],
   "source": [
    "# 15\n",
    "# Maximum number of vowels in a substring\n",
    "# Given a string s and an integer k, return the maximum number of vowel letters in any substring of s with length k.\n",
    "\n",
    "# Vowel letters in English are 'a', 'e', 'i', 'o', and 'u'.\n",
    "\n",
    "# Example 1:\n",
    "\n",
    "# Input: s = \"abciiidef\", k = 3\n",
    "# Output: 3\n",
    "# Explanation: The substring \"iii\" contains 3 vowel letters.\n",
    "\n",
    "s = \"abciiidef\"\n",
    "k = 3\n",
    "vow = \"aeiouAEIOU\"\n",
    "curr = 0\n",
    "maxi = 0\n",
    "for i in range(k):\n",
    "    if s[i] in vow:\n",
    "        curr += 1\n",
    "maxi = curr\n",
    "\n",
    "for i in range(k,len(s)):\n",
    "    \n",
    "    if s[i] in vow:\n",
    "        curr += 1\n",
    "    if s[i-k] not in vow: # if left most val not in vow reduce the substring vowel count by 1\n",
    "        curr -= 1\n",
    "\n",
    "    maxi = max(maxi,curr)\n",
    "maxi\n",
    "\n"
   ]
  },
  {
   "cell_type": "code",
   "execution_count": 8,
   "metadata": {},
   "outputs": [
    {
     "data": {
      "text/plain": [
       "6"
      ]
     },
     "execution_count": 8,
     "metadata": {},
     "output_type": "execute_result"
    }
   ],
   "source": [
    "# 16\n",
    "# Max consecutive ones\n",
    "# Given a binary array nums and an integer k, return the maximum number of consecutive 1's in the array if you can flip at most k 0's.\n",
    "# Example 1:\n",
    "\n",
    "# Input: nums = [1,1,1,0,0,0,1,1,1,1,0], k = 2\n",
    "# Output: 6\n",
    "# Explanation: [1,1,1,0,0,1,1,1,1,1,1]\n",
    "# Bolded numbers were flipped from 0 to 1. The longest subarray is underlined.\n",
    "\n",
    "nums = [1,1,1,0,0,0,1,1,1,1,0]\n",
    "l = 0\n",
    "zf = 0\n",
    "maxi = 0\n",
    "for i in range(len(nums)):\n",
    "    if nums[i] == 0:\n",
    "        zf += 1\n",
    "\n",
    "    while zf > k:\n",
    "        if nums[l] == 0:\n",
    "            zf -= 1\n",
    "        l += 1\n",
    "    maxi = max(maxi, i - l + 1)\n",
    "maxi "
   ]
  },
  {
   "cell_type": "code",
   "execution_count": 1,
   "metadata": {},
   "outputs": [
    {
     "data": {
      "text/plain": [
       "6"
      ]
     },
     "execution_count": 1,
     "metadata": {},
     "output_type": "execute_result"
    }
   ],
   "source": [
    "# 17\n",
    "# Longest sub array of nums after deleting one element\n",
    "# Given a binary array nums, you should delete one element from it.\n",
    "\n",
    "# Return the size of the longest non-empty subarray containing only 1's in the resulting array. Return 0 if there is no such subarray.\n",
    "\n",
    "# Example 1:\n",
    "\n",
    "# Input: nums = [1,1,0,1]\n",
    "# Output: 3\n",
    "# Explanation: After deleting the number in position 2, [1,1,1] contains 3 numbers with value of 1's.\n",
    "\n",
    "nums = [0,1,1,1,0,1,1,0,1]\n",
    "l = 0\n",
    "zer = 0\n",
    "maxi = 0\n",
    "\n",
    "for i in range(len(nums)):\n",
    "    if nums[i] == 0:\n",
    "        zer += 1\n",
    "    \n",
    "    while zer > 1:\n",
    "        if nums[l] == 0:\n",
    "            zer -= 1\n",
    "        l += 1\n",
    "    maxi = max(maxi,i-l)\n",
    "maxi"
   ]
  },
  {
   "cell_type": "code",
   "execution_count": 2,
   "metadata": {},
   "outputs": [
    {
     "data": {
      "text/plain": [
       "1"
      ]
     },
     "execution_count": 2,
     "metadata": {},
     "output_type": "execute_result"
    }
   ],
   "source": [
    "# 18\n",
    "# find the highest altitude\n",
    "# There is a biker going on a road trip. The road trip consists of n + 1 points at different altitudes. The biker starts his trip on point \n",
    "# 0 with altitude equal 0.\n",
    "\n",
    "# You are given an integer array gain of length n where gain[i] is the net gain in altitude between points i​​​​​​ and i + 1 for all (0 <= i < n). \n",
    "# Return the highest altitude of a point.\n",
    "\n",
    "# Example 1:\n",
    "\n",
    "# Input: gain = [-5,1,5,0,-7]\n",
    "# Output: 1\n",
    "# Explanation: The altitudes are [0,-5,-4,1,1,-6]. The highest is 1.\n",
    "\n",
    "gain = [-5,1,5,0,-7]\n",
    "cop = [0]\n",
    "for i in gain:\n",
    "    cop.append(i+cop[-1])\n",
    "max(cop)"
   ]
  },
  {
   "cell_type": "code",
   "execution_count": 20,
   "metadata": {},
   "outputs": [
    {
     "name": "stdout",
     "output_type": "stream",
     "text": [
      "3\n"
     ]
    },
    {
     "data": {
      "text/plain": [
       "28"
      ]
     },
     "execution_count": 20,
     "metadata": {},
     "output_type": "execute_result"
    }
   ],
   "source": [
    "# 19\n",
    "# Find pivot index\n",
    "# Given an array of integers nums, calculate the pivot index of this array.\n",
    "\n",
    "# The pivot index is the index where the sum of all the numbers strictly to the left of the index is equal to the sum of all the numbers \n",
    "# strictly to the index's right.\n",
    "\n",
    "# If the index is on the left edge of the array, then the left sum is 0 because there are no elements to the left. This also applies to the \n",
    "# right edge of the array.\n",
    "\n",
    "# Return the leftmost pivot index. If no such index exists, return -1.\n",
    "\n",
    "# Example 1:\n",
    "\n",
    "# Input: nums = [1,7,3,6,5,6]\n",
    "# Output: 3\n",
    "# Explanation:\n",
    "# The pivot index is 3.\n",
    "# Left sum = nums[0] + nums[1] + nums[2] = 1 + 7 + 3 = 11\n",
    "# Right sum = nums[4] + nums[5] = 5 + 6 = 11\n",
    "\n",
    "nums = [1,7,3,6,5,6]\n",
    "tot = sum(nums)\n",
    "left = 0\n",
    "\n",
    "for i in range(len(nums)):\n",
    "    if left == tot-left-nums[i]:\n",
    "        print(i)\n",
    "    left += nums[i]\n",
    "left"
   ]
  },
  {
   "cell_type": "code",
   "execution_count": 9,
   "metadata": {},
   "outputs": [
    {
     "data": {
      "text/plain": [
       "[[1, 3], [4, 6]]"
      ]
     },
     "execution_count": 9,
     "metadata": {},
     "output_type": "execute_result"
    }
   ],
   "source": [
    "# 20\n",
    "# Find differences of 2 arrays\n",
    "# Given two 0-indexed integer arrays nums1 and nums2, return a list answer of size 2 where:\n",
    "\n",
    "# answer[0] is a list of all distinct integers in nums1 which are not present in nums2.\n",
    "# answer[1] is a list of all distinct integers in nums2 which are not present in nums1.\n",
    "# Note that the integers in the lists may be returned in any order.\n",
    " \n",
    "\n",
    "# Example 1:\n",
    "\n",
    "# Input: nums1 = [1,2,3], nums2 = [2,4,6]\n",
    "# Output: [[1,3],[4,6]]\n",
    "# Explanation:\n",
    "# For nums1, nums1[1] = 2 is present at index 0 of nums2, whereas nums1[0] = 1 and nums1[2] = 3 are not present in nums2. Therefore, answer[0] = [1,3].\n",
    "# For nums2, nums2[0] = 2 is present at index 1 of nums1, whereas nums2[1] = 4 and nums2[2] = 6 are not present in nums2. Therefore, answer[1] = [4,6].\n",
    "\n",
    "nums1 = [1,2,3]\n",
    "nums2 = [2,4,6]\n",
    "\n",
    "a = set(nums1) - set(nums2)\n",
    "b = set(nums2) - set(nums1)\n",
    "[list(a),list(b)]"
   ]
  },
  {
   "cell_type": "code",
   "execution_count": 18,
   "metadata": {},
   "outputs": [
    {
     "name": "stdout",
     "output_type": "stream",
     "text": [
      "False\n"
     ]
    }
   ],
   "source": [
    "# 21\n",
    "# unique number of occurrence\n",
    "# Given an array of integers arr, return true if the number of occurrences of each value in the array is unique or false otherwise.\n",
    "\n",
    "# Example 1:\n",
    "\n",
    "# Input: arr = [1,2,2,1,1,3]\n",
    "# Output: true\n",
    "# Explanation: The value 1 has 3 occurrences, 2 has 2 and 3 has 1. No two values have the same number of occurrences.\n",
    "\n",
    "arr = [1,2]\n",
    "from collections import Counter\n",
    "\n",
    "cou = Counter(arr)\n",
    "res = list(cou.values())\n",
    "se = set(res)\n",
    "if len(res) == len(se):\n",
    "    print(True)\n",
    "else:\n",
    "    print(False)"
   ]
  },
  {
   "cell_type": "code",
   "execution_count": 11,
   "metadata": {},
   "outputs": [
    {
     "name": "stdout",
     "output_type": "stream",
     "text": [
      "[2, 3, 1, 0, 0, 0, 0, 0, 0, 0, 0, 0, 0, 0, 0, 0, 0, 0, 0, 0, 0, 0, 0, 0, 0, 0]\n",
      "[1, 2, 3, 0, 0, 0, 0, 0, 0, 0, 0, 0, 0, 0, 0, 0, 0, 0, 0, 0, 0, 0, 0, 0, 0, 0]\n"
     ]
    },
    {
     "data": {
      "text/plain": [
       "True"
      ]
     },
     "execution_count": 11,
     "metadata": {},
     "output_type": "execute_result"
    }
   ],
   "source": [
    "# 22\n",
    "# determine if 2 strings are close\n",
    "# Two strings are considered close if you can attain one from the other using the following operations:\n",
    "\n",
    "# Operation 1: Swap any two existing characters.\n",
    "# For example, abcde -> aecdb\n",
    "# Operation 2: Transform every occurrence of one existing character into another existing character, and do the same with the other character.\n",
    "# For example, aacabb -> bbcbaa (all a's turn into b's, and all b's turn into a's)\n",
    "# You can use the operations on either string as many times as necessary.\n",
    "\n",
    "# Given two strings, word1 and word2, return true if word1 and word2 are close, and false otherwise.\n",
    "\n",
    "# Example 1:\n",
    "\n",
    "# Input: word1 = \"abc\", word2 = \"bca\"\n",
    "# Output: true\n",
    "# Explanation: You can attain word2 from word1 in 2 operations.\n",
    "# Apply Operation 1: \"abc\" -> \"acb\"\n",
    "# Apply Operation 1: \"acb\" -> \"bca\"\n",
    "\n",
    "word1 = \"cabbba\"\n",
    "word2 = \"abbccc\"\n",
    "\n",
    "f1 = [0]*26\n",
    "f2 = [0]*26\n",
    "\n",
    "for i in word1:\n",
    "    f1[(ord(i)) - ord('a')] += 1\n",
    "\n",
    "for j in word2:\n",
    "    f2[(ord(j)) - ord('a')] += 1\n",
    "\n",
    "print(f1)\n",
    "print(f2)\n",
    "\n",
    "fe1 = [i for i in f1 if i != 0]\n",
    "fe2 = [i for i in f2 if i != 0]\n",
    "sorted(fe1) == sorted(fe2)\n"
   ]
  },
  {
   "cell_type": "code",
   "execution_count": 14,
   "metadata": {},
   "outputs": [
    {
     "name": "stdout",
     "output_type": "stream",
     "text": [
      "[[3, 1, 2], [2, 7, 7], [1, 6, 7]]\n"
     ]
    },
    {
     "data": {
      "text/plain": [
       "1"
      ]
     },
     "execution_count": 14,
     "metadata": {},
     "output_type": "execute_result"
    }
   ],
   "source": [
    "# 23\n",
    "# equal row and column pairs\n",
    "# Given a 0-indexed n x n integer matrix grid, return the number of pairs (ri, cj) such that row ri and column cj are equal.\n",
    "\n",
    "# A row and column pair is considered equal if they contain the same elements in the same order (i.e., an equal array).\n",
    "\n",
    " \n",
    "# Example 1:\n",
    "\n",
    "\n",
    "# Input: grid = [[3,2,1],[1,7,6],[2,7,7]]\n",
    "# Output: 1\n",
    "# Explanation: There is 1 equal row and column pair:\n",
    "# - (Row 2, Column 1): [2,7,7]\n",
    "\n",
    "grid = [[3,2,1],\n",
    "        [1,7,6],\n",
    "        [2,7,7]]\n",
    "\n",
    "# n = len(grid)\n",
    "# pairs = 0\n",
    "# for i in range(n):\n",
    "#     for j in range(n):\n",
    "#         if all(grid[i][k] == grid[k][j] for k in range(n)):\n",
    "#             pairs += 1\n",
    "# pairs\n",
    "\n",
    "col = []\n",
    "for i in range(len(grid[0])):\n",
    "    c = [row[i] for row in grid]\n",
    "    col.append(c)\n",
    "print(col)\n",
    "\n",
    "p = 0\n",
    "for i in col:\n",
    "    if i in grid:\n",
    "        p += 1\n",
    "p"
   ]
  },
  {
   "cell_type": "code",
   "execution_count": 2,
   "metadata": {},
   "outputs": [
    {
     "data": {
      "text/plain": [
       "'lecoe'"
      ]
     },
     "execution_count": 2,
     "metadata": {},
     "output_type": "execute_result"
    }
   ],
   "source": [
    "# 24\n",
    "# removing stars from a string\n",
    "# You are given a string s, which contains stars *.\n",
    "\n",
    "# In one operation, you can:\n",
    "\n",
    "# Choose a star in s.\n",
    "# Remove the closest non-star character to its left, as well as remove the star itself.\n",
    "# Return the string after all stars have been removed.\n",
    "\n",
    "# Note:\n",
    "\n",
    "# The input will be generated such that the operation is always possible.\n",
    "# It can be shown that the resulting string will always be unique.\n",
    " \n",
    "\n",
    "# Example 1:\n",
    "\n",
    "# Input: s = \"leet**cod*e\"\n",
    "# Output: \"lecoe\"\n",
    "# Explanation: Performing the removals from left to right:\n",
    "# - The closest character to the 1st star is 't' in \"leet**cod*e\". s becomes \"lee*cod*e\".\n",
    "# - The closest character to the 2nd star is 'e' in \"lee*cod*e\". s becomes \"lecod*e\".\n",
    "# - The closest character to the 3rd star is 'd' in \"lecod*e\". s becomes \"lecoe\".\n",
    "# There are no more stars, so we return \"lecoe\".\n",
    "\n",
    "s = \"leet**cod*e\"\n",
    "res = []\n",
    "for i in range(len(s)):\n",
    "    if s[i] != \"*\":\n",
    "        res.append(s[i])\n",
    "    elif s[i] == \"*\":\n",
    "        res.pop()\n",
    "\"\".join(res)\n"
   ]
  },
  {
   "cell_type": "code",
   "execution_count": 13,
   "metadata": {},
   "outputs": [
    {
     "data": {
      "text/plain": [
       "[5, 10]"
      ]
     },
     "execution_count": 13,
     "metadata": {},
     "output_type": "execute_result"
    }
   ],
   "source": [
    "# 25\n",
    "# asteriod collision\n",
    "# We are given an array asteroids of integers representing asteroids in a row.\n",
    "\n",
    "# For each asteroid, the absolute value represents its size, and the sign represents its direction (positive meaning right, negative meaning \n",
    "# left). Each asteroid moves at the same speed.\n",
    "\n",
    "# Find out the state of the asteroids after all collisions. If two asteroids meet, the smaller one will explode. If both are the same size, \n",
    "# both \n",
    "# will explode. Two asteroids moving in the same direction will never meet.\n",
    "\n",
    " \n",
    "\n",
    "# Example 1:\n",
    "\n",
    "# Input: asteroids = [5,10,-5]\n",
    "# Output: [5,10]\n",
    "# Explanation: The 10 and -5 collide resulting in 10. The 5 and 10 never collide.\n",
    "\n",
    "asteroids = [5,10,-5]\n",
    "res = []\n",
    "for i in asteroids:\n",
    "    while res and i < 0 < res[-1]:\n",
    "        if res[-1] < -i:\n",
    "            res.pop()\n",
    "            continue\n",
    "        elif res[-1] == -i:\n",
    "            res.pop()\n",
    "        break\n",
    "    else:\n",
    "        res.append(i)\n",
    "res"
   ]
  },
  {
   "cell_type": "code",
   "execution_count": 5,
   "metadata": {},
   "outputs": [
    {
     "name": "stdout",
     "output_type": "stream",
     "text": [
      "3\n",
      "[('', 3)]\n",
      "2\n",
      "[('aaa', 2)]\n"
     ]
    },
    {
     "data": {
      "text/plain": [
       "'aaabcbc'"
      ]
     },
     "execution_count": 5,
     "metadata": {},
     "output_type": "execute_result"
    }
   ],
   "source": [
    "# 26\n",
    "# decode string\n",
    "# Given an encoded string, return its decoded string.\n",
    "\n",
    "# The encoding rule is: k[encoded_string], where the encoded_string inside the square brackets is being repeated exactly k times. Note that \n",
    "# k is guaranteed to be a positive integer.\n",
    "\n",
    "# You may assume that the input string is always valid; there are no extra white spaces, square brackets are well-formed, etc. Furthermore, \n",
    "# you may assume that the original data does not contain any digits and that digits are only for those repeat numbers, k. For example, there \n",
    "# will not be input like 3a or 2[4].\n",
    "\n",
    "# The test cases are generated so that the length of the output will never exceed 105.\n",
    "\n",
    "# Example 1:\n",
    "\n",
    "# Input: s = \"3[a]2[bc]\"\n",
    "# Output: \"aaabcbc\"\n",
    "\n",
    "s = \"3[a]2[bc]\"\n",
    "stack = []  # Stack to keep track of previous strings and numbers\n",
    "current_num = 0\n",
    "current_string = \"\"\n",
    "\n",
    "for char in s:\n",
    "    if char.isdigit():\n",
    "        current_num = current_num * 10 + int(char)  \n",
    "        print(current_num)\n",
    "\n",
    "    elif char == '[':\n",
    "        stack.append((current_string, current_num))\n",
    "        print(stack)\n",
    "        current_string = \"\"\n",
    "        current_num = 0\n",
    "\n",
    "    elif char == ']':\n",
    "        prev_string, num = stack.pop()\n",
    "        current_string = prev_string + current_string * num\n",
    "\n",
    "    else:\n",
    "        current_string += char\n",
    "current_string"
   ]
  },
  {
   "cell_type": "code",
   "execution_count": 7,
   "metadata": {},
   "outputs": [
    {
     "name": "stdout",
     "output_type": "stream",
     "text": [
      "aaabcbc\n"
     ]
    }
   ],
   "source": [
    "# 27\n",
    "# number of recent calls\n",
    "# You have a RecentCounter class which counts the number of recent requests within a certain time frame.\n",
    "\n",
    "# Implement the RecentCounter class:\n",
    "\n",
    "# RecentCounter() Initializes the counter with zero recent requests.\n",
    "# int ping(int t) Adds a new request at time t, where t represents some time in milliseconds, and returns the number of requests that \n",
    "# has happened in the past 3000 milliseconds (including the new request). Specifically, return the number of requests that have happened in the inclusive range [t - 3000, t].\n",
    "# It is guaranteed that every call to ping uses a strictly larger value of t than the previous call.\n",
    "\n",
    " \n",
    "\n",
    "# Example 1:\n",
    "\n",
    "# Input\n",
    "# [\"RecentCounter\", \"ping\", \"ping\", \"ping\", \"ping\"]\n",
    "# [[], [1], [100], [3001], [3002]]\n",
    "# Output\n",
    "# [null, 1, 2, 3, 3]\n",
    "\n",
    "from collections import deque\n",
    "class RecentCounter:\n",
    "\n",
    "    def __init__(self):\n",
    "        self.q = deque()\n",
    "        \n",
    "\n",
    "    def ping(self, t: int) -> int:\n",
    "        self.q.append(t)\n",
    "        while self.q[0] < t - 3000:\n",
    "            self.q.popleft()\n",
    "        return len(self.q)\n",
    "\n",
    "\n",
    "# Your RecentCounter object will be instantiated and called as such:\n",
    "# obj = RecentCounter()\n",
    "# param_1 = obj.ping(t)"
   ]
  },
  {
   "cell_type": "code",
   "execution_count": 7,
   "metadata": {},
   "outputs": [
    {
     "name": "stdout",
     "output_type": "stream",
     "text": [
      "Radiant\n"
     ]
    }
   ],
   "source": [
    "# 28\n",
    "# Dota 2 senate\n",
    "# In the world of Dota2, there are two parties: the Radiant and the Dire.\n",
    "\n",
    "# The Dota2 senate consists of senators coming from two parties. Now the Senate wants to decide on a change in the Dota2 game. The voting \n",
    "# for this change is a round-based procedure. In each round, each senator can exercise one of the two rights:\n",
    "\n",
    "# Ban one senator's right: A senator can make another senator lose all his rights in this and all the following rounds.\n",
    "# Announce the victory: If this senator found the senators who still have rights to vote are all from the same party, he can announce the victory \n",
    "# and decide on the change in the game.\n",
    "# Given a string senate representing each senator's party belonging. The character 'R' and 'D' represent the Radiant party and the Dire party. \n",
    "# Then if there are n senators, the size of the given string will be n.\n",
    "\n",
    "# The round-based procedure starts from the first senator to the last senator in the given order. This procedure will last until the end of \n",
    "# voting. All the senators who have lost their rights will be skipped during the procedure.\n",
    "\n",
    "# Suppose every senator is smart enough and will play the best strategy for his own party. Predict which party will finally announce the victory \n",
    "# and change the Dota2 game. The output should be \"Radiant\" or \"Dire\".\n",
    "\n",
    " \n",
    "\n",
    "# Example 1:\n",
    "\n",
    "# Input: senate = \"RD\"\n",
    "# Output: \"Radiant\"\n",
    "# Explanation: \n",
    "# The first senator comes from Radiant and he can just ban the next senator's right in round 1. \n",
    "# And the second senator can't exercise any rights anymore since his right has been banned. \n",
    "# And in round 2, the first senator can just announce the victory since he is the only guy in the senate who can vote.\n",
    "from collections import deque\n",
    "senate = \"RRR\"\n",
    "radiant = deque()\n",
    "dire = deque()\n",
    "\n",
    "# Fill the initial queues with the indices of the senators\n",
    "for i, s in enumerate(senate):\n",
    "    if s == 'R':\n",
    "        radiant.append(i)\n",
    "    else:\n",
    "        dire.append(i)\n",
    "\n",
    "# Simulate the rounds\n",
    "while radiant and dire:\n",
    "    r = radiant.popleft()\n",
    "    d = dire.popleft()\n",
    "    # The senator with the smaller index bans the other and gets to vote in the next round\n",
    "    if r < d:\n",
    "        radiant.append(r + len(senate))\n",
    "    else:\n",
    "        dire.append(d + len(senate))\n",
    "print(\"Radiant\" if radiant else \"Dire\")"
   ]
  },
  {
   "cell_type": "code",
   "execution_count": 29,
   "metadata": {},
   "outputs": [
    {
     "name": "stdout",
     "output_type": "stream",
     "text": [
      "1 3 4 7 1 2 6 \n",
      "after adjustment\n",
      "1 3 4 1 2 6 \n"
     ]
    }
   ],
   "source": [
    "# 29\n",
    "# delete middle node of linked list\n",
    "# You are given the head of a linked list. Delete the middle node, and return the head of the modified linked list.\n",
    "\n",
    "# The middle node of a linked list of size n is the ⌊n / 2⌋th node from the start using 0-based indexing, where ⌊x⌋ denotes the largest integer \n",
    "# less than or equal to x.\n",
    "\n",
    "# For n = 1, 2, 3, 4, and 5, the middle nodes are 0, 1, 1, 2, and 2, respectively.\n",
    " \n",
    "\n",
    "# Example 1:\n",
    "\n",
    "\n",
    "# Input: head = [1,3,4,7,1,2,6]\n",
    "# Output: [1,3,4,1,2,6]\n",
    "# Explanation:\n",
    "# The above figure represents the given linked list. The indices of the nodes are written below.\n",
    "# Since n = 7, node 3 with value 7 is the middle node, which is marked in red.\n",
    "# We return the new list after removing this node. \n",
    "import math\n",
    "class Node:\n",
    "    def __init__(self, data) -> None:\n",
    "        self.data = data\n",
    "        self.next = None\n",
    "\n",
    "class LinkedList:\n",
    "    def __init__(self) -> None:\n",
    "        self.head = None\n",
    "\n",
    "    def insert(self, data):\n",
    "        new = Node(data)\n",
    "        if self.head is None:\n",
    "            self.head = new\n",
    "        else:\n",
    "            curr = self.head\n",
    "            while curr.next:\n",
    "                curr = curr.next\n",
    "            curr.next = new\n",
    "    \n",
    "    def printll(self):\n",
    "        current = self.head\n",
    "        while current:\n",
    "            print(current.data, end=\" \")\n",
    "            current = current.next\n",
    "        print()\n",
    "    \n",
    "    def deletemid(self):\n",
    "    # Special case: if the list is empty or has only one node\n",
    "        if self.head is None or self.head.next is None:\n",
    "            self.head = None\n",
    "            return\n",
    "\n",
    "        # Step 1: Find the length of the linked list\n",
    "        curr = self.head\n",
    "        l = 0\n",
    "        while curr:\n",
    "            l += 1\n",
    "            curr = curr.next\n",
    "\n",
    "        # Step 2: Calculate the middle node index\n",
    "        mid = l // 2\n",
    "\n",
    "        # Step 3: Traverse to the node just before the middle node\n",
    "        curr = self.head\n",
    "        idx = 0\n",
    "        while idx != mid - 1:\n",
    "            curr = curr.next\n",
    "            idx += 1\n",
    "\n",
    "        # Step 4: Delete the middle node by adjusting the pointers\n",
    "        # if curr.next:\n",
    "        curr.next = curr.next.next\n",
    "    \n",
    "\n",
    "\n",
    "\n",
    "ll = LinkedList()\n",
    "\n",
    "ll.insert(1)\n",
    "ll.insert(3)\n",
    "ll.insert(4)\n",
    "ll.insert(7)\n",
    "ll.insert(1)\n",
    "ll.insert(2)\n",
    "ll.insert(6)\n",
    "\n",
    "ll.printll()  \n",
    "\n",
    "ll.deletemid()\n",
    "\n",
    "print(\"after adjustment\")\n",
    "ll.printll()"
   ]
  },
  {
   "cell_type": "code",
   "execution_count": 16,
   "metadata": {},
   "outputs": [
    {
     "name": "stdout",
     "output_type": "stream",
     "text": [
      "1 2 3 4 5 \n",
      "1 3 5 2 4 \n"
     ]
    }
   ],
   "source": [
    "# 30\n",
    "# Given the head of a singly linked list, group all the nodes with odd indices together followed by the nodes with even indices, and return \n",
    "# the reordered list.\n",
    "\n",
    "# The first node is considered odd, and the second node is even, and so on.\n",
    "\n",
    "# Note that the relative order inside both the even and odd groups should remain as it was in the input.\n",
    "\n",
    "# You must solve the problem in O(1) extra space complexity and O(n) time complexity.\n",
    "\n",
    " \n",
    "\n",
    "# Example 1:\n",
    "\n",
    "\n",
    "# Input: head = [1,2,3,4,5]\n",
    "# Output: [1,3,5,2,4]\n",
    "head = [1,2,3,4,5]\n",
    "\n",
    "class Node:\n",
    "    def __init__(self, data):\n",
    "        self.data = data\n",
    "        self.next = None\n",
    "\n",
    "class LinkedList:\n",
    "    def __init__(self):\n",
    "        self.head = None\n",
    "\n",
    "    def insert(self, data):\n",
    "        new_node = Node(data)\n",
    "        if self.head is None:\n",
    "            self.head = new_node\n",
    "        else:\n",
    "            curr = self.head\n",
    "            while curr.next:\n",
    "                curr = curr.next\n",
    "            curr.next = new_node\n",
    "\n",
    "    def printll(self):\n",
    "        curr = self.head\n",
    "        while curr:\n",
    "            print(curr.data, end=\" \")\n",
    "            curr = curr.next\n",
    "        print()\n",
    "\n",
    "    def oddeveList(self):\n",
    "        if not self.head or not self.head.next:\n",
    "            return self.head\n",
    "\n",
    "        odd = self.head\n",
    "        even = self.head.next\n",
    "        even_head = even\n",
    "\n",
    "        while even and even.next:\n",
    "            odd.next = even.next\n",
    "            odd = odd.next\n",
    "            even.next = odd.next\n",
    "            even = even.next\n",
    "\n",
    "        odd.next = even_head\n",
    "\n",
    "    def print_list(self, head):\n",
    "        curr = head\n",
    "        while curr:\n",
    "            print(curr.data, end=\" \")\n",
    "            curr = curr.next\n",
    "        print()\n",
    "\n",
    "ll = LinkedList()\n",
    "ll.insert(1)\n",
    "ll.insert(2)\n",
    "ll.insert(3)\n",
    "ll.insert(4)\n",
    "ll.insert(5)\n",
    "\n",
    "ll.printll()  # Output - 1 2 3 4 5\n",
    "ll.oddeveList()\n",
    "ll.printll()  # Output - 1 3 5 2 4\n"
   ]
  },
  {
   "cell_type": "code",
   "execution_count": 2,
   "metadata": {},
   "outputs": [
    {
     "name": "stdout",
     "output_type": "stream",
     "text": [
      "1 2 3 4 5 \n",
      "5 4 3 2 1 \n"
     ]
    }
   ],
   "source": [
    "# 31\n",
    "# Given the head of a singly linked list, reverse the list, and return the reversed list.\n",
    "\n",
    "# Example 1:\n",
    "\n",
    "# Input: head = [1,2,3,4,5]\n",
    "# Output: [5,4,3,2,1]\n",
    "\n",
    "class Node:\n",
    "    def __init__(self, data):\n",
    "        self.data = data\n",
    "        self.next = None\n",
    "\n",
    "class Node:\n",
    "    def __init__(self, data):\n",
    "        self.data = data\n",
    "        self.next = None\n",
    "\n",
    "class LinkedList:\n",
    "    def __init__(self):\n",
    "        self.head = None\n",
    "\n",
    "    def insert(self, data):\n",
    "        new_node = Node(data)\n",
    "        if self.head is None:\n",
    "            self.head = new_node\n",
    "        else:\n",
    "            curr = self.head\n",
    "            while curr.next:\n",
    "                curr = curr.next\n",
    "            curr.next = new_node\n",
    "\n",
    "    def printll(self):\n",
    "        curr = self.head\n",
    "        while curr:\n",
    "            print(curr.data, end=\" \")\n",
    "            curr = curr.next\n",
    "        print()\n",
    "\n",
    "    def reverse(self):\n",
    "        prev = None\n",
    "        curr = self.head\n",
    "        while curr:\n",
    "            nxt = curr.next\n",
    "            curr.next = prev\n",
    "            prev = curr\n",
    "            curr = nxt\n",
    "        self.head = prev\n",
    "\n",
    "# Creating and testing the LinkedList\n",
    "ll = LinkedList()\n",
    "ll.insert(1)\n",
    "ll.insert(2)\n",
    "ll.insert(3)\n",
    "ll.insert(4)\n",
    "ll.insert(5)\n",
    "\n",
    "ll.printll()  # Output - 1 2 3 4 5\n",
    "ll.reverse()\n",
    "ll.printll()  # Output - 5 4 3 2 1\n"
   ]
  },
  {
   "cell_type": "code",
   "execution_count": 9,
   "metadata": {},
   "outputs": [
    {
     "name": "stdout",
     "output_type": "stream",
     "text": [
      "5\n",
      "4\n",
      "2\n",
      "1\n",
      "Nodes in list :  [5, 4, 2, 1]\n",
      "6\n"
     ]
    }
   ],
   "source": [
    "# 32\n",
    "# Maximum twin sum of a linked list\n",
    "# In a linked list of size n, where n is even, the ith node (0-indexed) of the linked list is known as the twin of the (n-1-i)th node, \n",
    "# if 0 <= i <= (n / 2) - 1.\n",
    "\n",
    "# For example, if n = 4, then node 0 is the twin of node 3, and node 1 is the twin of node 2. These are the only nodes with twins for n = 4.\n",
    "# The twin sum is defined as the sum of a node and its twin.\n",
    "\n",
    "# Given the head of a linked list with even length, return the maximum twin sum of the linked list.\n",
    "\n",
    " \n",
    "\n",
    "# Example 1:\n",
    "\n",
    "\n",
    "# Input: head = [5,4,2,1]\n",
    "# Output: 6\n",
    "# Explanation:\n",
    "# Nodes 0 and 1 are the twins of nodes 3 and 2, respectively. All have twin sum = 6.\n",
    "# There are no other nodes with twins in the linked list.\n",
    "# Thus, the maximum twin sum of the linked list is 6. \n",
    "\n",
    "class Node:\n",
    "    def __init__(self,data) -> None:\n",
    "        self.data = data\n",
    "        self.next = None\n",
    "class LinkedList:\n",
    "    def __init__(self) -> None:\n",
    "        self.head = None\n",
    "        \n",
    "    def insert(self,data):\n",
    "        new = Node(data)\n",
    "        if self.head is None:\n",
    "            self.head = new\n",
    "        else:\n",
    "            curr = self.head\n",
    "            while curr.next:\n",
    "                curr = curr.next\n",
    "            curr.next = new\n",
    "    \n",
    "    def printll(self):\n",
    "        curr = self.head\n",
    "        while curr:\n",
    "            print(curr.data)\n",
    "            curr = curr.next\n",
    "    \n",
    "    def twinsum(self):\n",
    "        st = []\n",
    "        curr = self.head\n",
    "        while curr:\n",
    "            st.append(curr.data)\n",
    "            curr = curr.next\n",
    "        print(\"Nodes in list : \",st)\n",
    "        maxi = -float('inf')\n",
    "        l = 0\n",
    "        r = len(st)-1\n",
    "        while l < r:\n",
    "            maxi = max(st[l]+st[r],maxi)\n",
    "            l += 1\n",
    "            r -= 1\n",
    "        print(maxi)\n",
    "\n",
    "obj = LinkedList()\n",
    "obj.insert(5)\n",
    "obj.insert(4)\n",
    "obj.insert(2)\n",
    "obj.insert(1)\n",
    "\n",
    "obj.printll()\n",
    "obj.twinsum()\n",
    "\n"
   ]
  },
  {
   "cell_type": "code",
   "execution_count": 14,
   "metadata": {},
   "outputs": [
    {
     "data": {
      "text/plain": [
       "3"
      ]
     },
     "execution_count": 14,
     "metadata": {},
     "output_type": "execute_result"
    }
   ],
   "source": [
    "# 33 \n",
    "# Maximum depth of binary tree\n",
    "# Given the root of a binary tree, return its maximum depth.\n",
    "\n",
    "# A binary tree's maximum depth is the number of nodes along the longest path from the root node down to the farthest leaf node.\n",
    "# Example 1:\n",
    "\n",
    "# Input: root = [3,9,20,null,null,15,7]\n",
    "# Output: 3\n",
    "\n",
    "class TreeNode:\n",
    "    def __init__(self,val=0,left = None, right = None):\n",
    "        self.val = val\n",
    "        self.right = right\n",
    "        self.left = left\n",
    "\n",
    "class Solution:\n",
    "    def maxdepth(self, root):\n",
    "        if not root:\n",
    "            return 0  # Base case: if the tree is empty, depth is 0\n",
    "\n",
    "        q = [root]\n",
    "        res = 0  # To count levels of the tree\n",
    "\n",
    "        while q:\n",
    "            res += 1  # Increment depth level for each row\n",
    "            for _ in range(len(q)):  # Process nodes in the current level\n",
    "                curr = q.pop(0)\n",
    "                if curr.left:\n",
    "                    q.append(curr.left)  # Add left child to the queue\n",
    "                if curr.right:\n",
    "                    q.append(curr.right)  # Add right child to the queue\n",
    "        return res\n",
    "\n",
    "#          3\n",
    "#         / \\\n",
    "#        9   20\n",
    "#            / \\\n",
    "#           15  7\n",
    "\n",
    "root = TreeNode(3)\n",
    "root.left = TreeNode(9)\n",
    "root.right = TreeNode(20)\n",
    "root.right.left = TreeNode(15)\n",
    "root.right.right = TreeNode(7)\n",
    "\n",
    "sol = Solution()\n",
    "sol.maxdepth(root)"
   ]
  },
  {
   "cell_type": "code",
   "execution_count": null,
   "metadata": {},
   "outputs": [],
   "source": [
    "# 34\n",
    "# Leaf similar trees\n",
    "# Consider all the leaves of a binary tree, from left to right order, the values of those leaves form a leaf value sequence.\n",
    "\n",
    "# For example, in the given tree above, the leaf value sequence is (6, 7, 4, 9, 8).\n",
    "\n",
    "# Two binary trees are considered leaf-similar if their leaf value sequence is the same.\n",
    "\n",
    "# Return true if and only if the two given trees with head nodes root1 and root2 are leaf-similar.\n",
    "# Input: root1 = [3,5,1,6,2,9,8,null,null,7,4], root2 = [3,5,1,6,7,4,2,null,null,null,null,null,null,9,8]\n",
    "# Output: true"
   ]
  },
  {
   "attachments": {
    "image.png": {
     "image/png": "[encoded data removed]"
    }
   },
   "cell_type": "markdown",
   "metadata": {},
   "source": [
    "![image.png](attachment:image.png)"
   ]
  },
  {
   "cell_type": "code",
   "execution_count": 14,
   "metadata": {},
   "outputs": [
    {
     "name": "stdout",
     "output_type": "stream",
     "text": [
      "Leaf nodes of Tree 1: [6, 7, 4, 9, 8]\n",
      "Leaf nodes of Tree 2: [6, 7, 4, 9, 89]\n",
      "False\n"
     ]
    }
   ],
   "source": [
    "class TreeNode:\n",
    "    def __init__(self, val=0, left=None, right=None) -> None:\n",
    "        self.val = val\n",
    "        self.left = left\n",
    "        self.right = right\n",
    "\n",
    "def tree(root, t):\n",
    "    if not root:\n",
    "        return\n",
    "    if not root.left and not root.right:  # Check if it's a leaf node\n",
    "        t.append(root.val)\n",
    "    tree(root.left, t)  # Traverse left subtree\n",
    "    tree(root.right, t)  # Traverse right subtree\n",
    "    return t\n",
    "\n",
    "# Tree 1\n",
    "tree1 = TreeNode(3,\n",
    "                 TreeNode(5,\n",
    "                          TreeNode(6),\n",
    "                          TreeNode(2,\n",
    "                                   TreeNode(7),\n",
    "                                   TreeNode(4))),\n",
    "                 TreeNode(1,\n",
    "                          TreeNode(9),\n",
    "                          TreeNode(8)))\n",
    "\n",
    "# Tree 2\n",
    "tree2 = TreeNode(3,\n",
    "                 TreeNode(5,\n",
    "                          TreeNode(6),\n",
    "                          TreeNode(7)),\n",
    "                 TreeNode(1,\n",
    "                          TreeNode(4),\n",
    "                          TreeNode(2,\n",
    "                                   TreeNode(9),\n",
    "                                   TreeNode(8))))\n",
    "\n",
    "# Separate lists for each tree\n",
    "leafs_tree1 = tree(tree1, [])\n",
    "leafs_tree2 = tree(tree2, [])\n",
    "\n",
    "print(\"Leaf nodes of Tree 1:\", leafs_tree1)  # Output: [6, 7, 4, 9, 8]\n",
    "print(\"Leaf nodes of Tree 2:\", leafs_tree2)  # Output: [6, 7, 4, 9, 8]\n",
    "\n",
    "if leafs_tree1 == leafs_tree2:\n",
    "    print(True)\n",
    "else:\n",
    "    print(False)"
   ]
  },
  {
   "cell_type": "code",
   "execution_count": 1,
   "metadata": {},
   "outputs": [
    {
     "name": "stdout",
     "output_type": "stream",
     "text": [
      "[3, 3, 4, 5]\n",
      "4\n"
     ]
    }
   ],
   "source": [
    "# 35\n",
    "# count good nodes in binary tree\n",
    "# Given a binary tree root, a node X in the tree is named good if in the path from root to X there are no nodes with a value greater than X.\n",
    "\n",
    "# Return the number of good nodes in the binary tree.\n",
    "\n",
    "\n",
    "# Example 1:\n",
    "\n",
    "\n",
    "\n",
    "# Input: root = [3,1,4,3,null,1,5]\n",
    "# Output: 4\n",
    "# Explanation: Nodes in blue are good.\n",
    "# Root Node (3) is always a good node.\n",
    "# Node 4 -> (3,4) is the maximum value in the path starting from the root.\n",
    "# Node 5 -> (3,4,5) is the maximum value in the path\n",
    "# Node 3 -> (3,1,3) is the maximum value in the path.\n",
    "\n",
    "class TreeNode:\n",
    "    def __init__(self, val=0, left=None, right=None):\n",
    "        self.val = val\n",
    "        self.right = right\n",
    "        self.left = left\n",
    "\n",
    "def goodtree(root):\n",
    "    if not root:\n",
    "        return 0  # No nodes to process\n",
    "    \n",
    "    result = []\n",
    "\n",
    "    def dfs(node, max_val):\n",
    "        if not node:\n",
    "            return\n",
    "        \n",
    "        # Check if the node is \"good\"\n",
    "        if node.val >= max_val:\n",
    "            result.append(node.val)\n",
    "        \n",
    "        # Update max_val for the path\n",
    "        max_val = max(max_val, node.val)\n",
    "        \n",
    "        # Recur for left and right children\n",
    "        dfs(node.left, max_val)\n",
    "        dfs(node.right, max_val)\n",
    "    \n",
    "    # Start DFS from root\n",
    "    dfs(root, root.val)\n",
    "    print(result)  # Print all \"good\" nodes\n",
    "    return len(result)\n",
    "\n",
    "tree = TreeNode(3,\n",
    "                TreeNode(1,\n",
    "                         TreeNode(3),\n",
    "                         None),\n",
    "                TreeNode(4,\n",
    "                         TreeNode(1),\n",
    "                         TreeNode(5)))\n",
    "\n",
    "print(goodtree(tree))  # Output: 4\n"
   ]
  },
  {
   "attachments": {
    "image.png": {
     "image/png": "[encoded data removed]"
    }
   },
   "cell_type": "markdown",
   "metadata": {},
   "source": [
    "![image.png](attachment:image.png)"
   ]
  },
  {
   "cell_type": "code",
   "execution_count": 11,
   "metadata": {},
   "outputs": [
    {
     "name": "stdout",
     "output_type": "stream",
     "text": [
      "{1: 1, 7: 2, -1: 3}\n",
      "2\n"
     ]
    }
   ],
   "source": [
    "# 36\n",
    "# maximum level sum of binary tree\n",
    "# Given the root of a binary tree, the level of its root is 1, the level of its children is 2, and so on.\n",
    "\n",
    "# Return the smallest level x such that the sum of all the values of nodes at level x is maximal.\n",
    "\n",
    " \n",
    "\n",
    "# Example 1:\n",
    "\n",
    "\n",
    "# Input: root = [1,7,0,7,-8,null,null]\n",
    "# Output: 2\n",
    "# Explanation: \n",
    "# Level 1 sum = 1.\n",
    "# Level 2 sum = 7 + 0 = 7.\n",
    "# Level 3 sum = 7 + -8 = -1.\n",
    "# So we return the level with the maximum sum which is level 2.\n",
    "\n",
    "\n",
    "class TreeNode:\n",
    "    def __init__(self, val=0, left=None, right=None):\n",
    "        self.val = val\n",
    "        self.left = left\n",
    "        self.right = right\n",
    "\n",
    "def maxLevSum(root):\n",
    "    if not root:\n",
    "        return []\n",
    "    \n",
    "    res = []  # To store level-wise nodes\n",
    "    q = [root]  # Queue for level-order traversal\n",
    "\n",
    "    while q:\n",
    "        row = []\n",
    "        l = len(q)  # Number of nodes at current level\n",
    "        for _ in range(l):\n",
    "            curr = q.pop(0)  # Pop the first node\n",
    "            row.append(curr.val)\n",
    "            if curr.left:\n",
    "                q.append(curr.left)\n",
    "            if curr.right:\n",
    "                q.append(curr.right)\n",
    "        res.append(row)  # Append the current level\n",
    "    d = {}\n",
    "    lev = 1\n",
    "    for i in res:\n",
    "        d[sum(i)] = lev\n",
    "        lev += 1\n",
    "    print(d)\n",
    "        \n",
    "    maxi = max(d)\n",
    "    return d[maxi]\n",
    "\n",
    "# Tree construction\n",
    "tree = TreeNode(1,\n",
    "                TreeNode(7,\n",
    "                         TreeNode(7),\n",
    "                         TreeNode(-8)),\n",
    "                TreeNode(0))\n",
    "\n",
    "# Test the function\n",
    "print(maxLevSum(tree))\n"
   ]
  },
  {
   "cell_type": "code",
   "execution_count": 14,
   "metadata": {},
   "outputs": [
    {
     "name": "stdout",
     "output_type": "stream",
     "text": [
      "[2, [1, None, None], [3, None, None]]\n"
     ]
    }
   ],
   "source": [
    "# 37\n",
    "# Search in BST\n",
    "# You are given the root of a binary search tree (BST) and an integer val.\n",
    "\n",
    "# Find the node in the BST that the node's value equals val and return the subtree rooted with that node. If such a node does not exist, \n",
    "# return null.\n",
    "\n",
    " \n",
    "\n",
    "# Example 1:\n",
    "\n",
    "\n",
    "# Input: root = [4,2,7,1,3], val = 2\n",
    "# Output: [2,1,3]\n",
    "\n",
    "class TreeNode:\n",
    "    def __init__(self, val=0, left=None, right=None) -> None:\n",
    "        self.val = val\n",
    "        self.left = left\n",
    "        self.right = right\n",
    "\n",
    "def searchBst(root, tar):\n",
    "    def dfs(node):\n",
    "        if not node:\n",
    "            return None\n",
    "        if node.val == tar:\n",
    "            return node\n",
    "        elif node.val > tar:\n",
    "            return dfs(node.left)\n",
    "        else:\n",
    "            return dfs(node.right)\n",
    "    return dfs(root)\n",
    "\n",
    "# Helper function to print the subtree rooted at a given node\n",
    "def treeToList(node):\n",
    "    if not node:\n",
    "        return None\n",
    "    return [node.val, treeToList(node.left), treeToList(node.right)]\n",
    "\n",
    "# Build the tree\n",
    "tree = TreeNode(4, TreeNode(2, TreeNode(1), TreeNode(3)), TreeNode(7))\n",
    "\n",
    "# Search the value\n",
    "result = searchBst(tree, 2)\n",
    "\n",
    "# Output the subtree as a list\n",
    "print(treeToList(result))\n"
   ]
  },
  {
   "cell_type": "code",
   "execution_count": 1,
   "metadata": {},
   "outputs": [
    {
     "data": {
      "text/plain": [
       "[5, 6]"
      ]
     },
     "execution_count": 1,
     "metadata": {},
     "output_type": "execute_result"
    }
   ],
   "source": [
    "# 38\n",
    "# kth largest element\n",
    "# Given an integer array nums and an integer k, return the kth largest element in the array.\n",
    "\n",
    "# Note that it is the kth largest element in the sorted order, not the kth distinct element.\n",
    "\n",
    "# Can you solve it without sorting?\n",
    "\n",
    "# Example 1:\n",
    "\n",
    "# Input: nums = [3,2,1,5,6,4], k = 2\n",
    "# Output: 5\n",
    "# Example 2:\n",
    "\n",
    "# Input: nums = [3,2,3,1,2,4,5,5,6], k = 4\n",
    "# Output: 4\n",
    " \n",
    "import heapq\n",
    "nums = [3,2,1,5,6,4]\n",
    "k = 2\n",
    "\n",
    "minh = []\n",
    "for i in nums:\n",
    "    if k > len(minh):\n",
    "        heapq.heappush(minh,i)\n",
    "    else:\n",
    "        heapq.heappushpop(minh,i)\n",
    "minh"
   ]
  },
  {
   "cell_type": "code",
   "execution_count": 2,
   "metadata": {},
   "outputs": [
    {
     "data": {
      "text/plain": [
       "6"
      ]
     },
     "execution_count": 2,
     "metadata": {},
     "output_type": "execute_result"
    }
   ],
   "source": [
    "# 39\n",
    "# We are playing the Guess Game. The game is as follows:\n",
    "\n",
    "# I pick a number from 1 to n. You have to guess which number I picked.\n",
    "\n",
    "# Every time you guess wrong, I will tell you whether the number I picked is higher or lower than your guess.\n",
    "\n",
    "# You call a pre-defined API int guess(int num), which returns three possible results:\n",
    "\n",
    "# -1: Your guess is higher than the number I picked (i.e. num > pick).\n",
    "# 1: Your guess is lower than the number I picked (i.e. num < pick).\n",
    "# 0: your guess is equal to the number I picked (i.e. num == pick).\n",
    "# Return the number that I picked.\n",
    "\n",
    " \n",
    "\n",
    "# Example 1:\n",
    "\n",
    "# Input: n = 10, pick = 6\n",
    "# Output: 6\n",
    "\n",
    "\n",
    "n = 10\n",
    "pick = 6\n",
    "def answer(mid):\n",
    "    if pick <  mid:\n",
    "        return -1\n",
    "    elif pick > mid:\n",
    "        return 1\n",
    "    else:\n",
    "        return 0 \n",
    "\n",
    "def guess(n):\n",
    "    l = 1\n",
    "    r = n\n",
    "    while l<=n:\n",
    "        mid = l+(r-l)//2\n",
    "        res = answer(mid)\n",
    "        if res == -1:\n",
    "            r = mid-1\n",
    "        elif res == 1:\n",
    "            l = mid+1\n",
    "        else:\n",
    "            return mid\n",
    "    return -1\n",
    "guess(10)"
   ]
  },
  {
   "cell_type": "code",
   "execution_count": 15,
   "metadata": {},
   "outputs": [
    {
     "data": {
      "text/plain": [
       "[4, 0, 3]"
      ]
     },
     "execution_count": 15,
     "metadata": {},
     "output_type": "execute_result"
    }
   ],
   "source": [
    "# 40\n",
    "# You are given two positive integer arrays spells and potions, of length n and m respectively, where spells[i] represents the strength of the ith spell and potions[j] represents the strength of the jth potion.\n",
    "\n",
    "# You are also given an integer success. A spell and potion pair is considered successful if the product of their strengths is at least success.\n",
    "\n",
    "# Return an integer array pairs of length n where pairs[i] is the number of potions that will form a successful pair with the ith spell.\n",
    "\n",
    " \n",
    "\n",
    "# Example 1:\n",
    "\n",
    "# Input: spells = [5,1,3], potions = [1,2,3,4,5], success = 7\n",
    "# Output: [4,0,3]\n",
    "# Explanation:\n",
    "# - 0th spell: 5 * [1,2,3,4,5] = [5,10,15,20,25]. 4 pairs are successful.\n",
    "# - 1st spell: 1 * [1,2,3,4,5] = [1,2,3,4,5]. 0 pairs are successful.\n",
    "# - 2nd spell: 3 * [1,2,3,4,5] = [3,6,9,12,15]. 3 pairs are successful.\n",
    "# Thus, [4,0,3] is returned.\n",
    "\n",
    "spells = [5,1,3]\n",
    "potions = [1,2,3,4,5]\n",
    "success = 7\n",
    "potions.sort()\n",
    "res = []\n",
    "\n",
    "def binary(i,potions):\n",
    "    l = 0\n",
    "    r = len(potions)-1\n",
    "\n",
    "    while l<= r:\n",
    "        mid = l+(r-l)//2\n",
    "        if potions[mid]*i >= success:\n",
    "            r = mid-1\n",
    "        \n",
    "        else:\n",
    "            l = mid+1\n",
    "        \n",
    "    return len(potions)-l\n",
    "        \n",
    "for i in spells:\n",
    "    bin = binary(i,potions)\n",
    "    res.append(bin)\n",
    "res\n",
    "\n",
    "# res = []\n",
    "# for i in spells:\n",
    "#     po = [x*i for x in potions ]\n",
    "#     cou = [a for a in po if a >= success]\n",
    "#     res.append(len(cou))\n",
    "# res"
   ]
  },
  {
   "cell_type": "code",
   "execution_count": 2,
   "metadata": {},
   "outputs": [
    {
     "data": {
      "text/plain": [
       "5"
      ]
     },
     "execution_count": 2,
     "metadata": {},
     "output_type": "execute_result"
    }
   ],
   "source": [
    "# 41\n",
    "# A peak element is an element that is strictly greater than its neighbors.\n",
    "# Example 2:\n",
    "\n",
    "# Input: nums = [1,2,1,3,5,6,4]\n",
    "# Output: 5\n",
    "# Explanation: Your function can return either index number 1 where the peak element is 2, or index number 5 where the peak element is 6.\n",
    "\n",
    "nums = [1,2,1,3,5,6,4]\n",
    "l = 0\n",
    "r = len(nums)-1\n",
    "\n",
    "while l<r:\n",
    "    mid = (l+r)//2\n",
    "    if nums[mid] < nums[mid+1]:\n",
    "        l = mid+1\n",
    "    else:\n",
    "        r = mid\n",
    "l\n",
    "        \n",
    "# peak = float('-inf')\n",
    "# for i in range(1,len(nums)):\n",
    "#     if nums[i] > nums[i-1] and nums[i] > nums[i+1]:\n",
    "#         peak = max(peak,i)\n",
    "# peak\n"
   ]
  },
  {
   "cell_type": "code",
   "execution_count": null,
   "metadata": {},
   "outputs": [],
   "source": [
    "# 42\n"
   ]
  }
 ],
 "metadata": {
  "kernelspec": {
   "display_name": "ipykernel",
   "language": "python",
   "name": "base"
  },
  "language_info": {
   "codemirror_mode": {
    "name": "ipython",
    "version": 3
   },
   "file_extension": ".py",
   "mimetype": "text/x-python",
   "name": "python",
   "nbconvert_exporter": "python",
   "pygments_lexer": "ipython3",
   "version": "3.12.4"
  }
 },
 "nbformat": 4,
 "nbformat_minor": 2
}
