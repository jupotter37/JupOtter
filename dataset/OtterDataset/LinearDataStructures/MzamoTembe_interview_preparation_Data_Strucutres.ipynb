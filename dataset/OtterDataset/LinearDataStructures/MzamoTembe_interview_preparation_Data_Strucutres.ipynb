{
  "cells": [
    {
      "cell_type": "markdown",
      "metadata": {
        "id": "HKtwalMwKurX"
      },
      "source": [
        "# Leetcode Grind (Common Data structures)\n",
        "This is just a quick notebook for all the fundamentals that could help me prep for interviews. I think if you have a strong understanding oif these then you are fine for most junior level interviews (that test DSA)."
      ]
    },
    {
      "cell_type": "markdown",
      "metadata": {
        "id": "2j-sGAhWKurY"
      },
      "source": [
        "# Dynamic Arrays\n",
        "\n",
        "Dynamic arrays are a fundamental data structure that stores elements of the same type in contiguous memory locations. They offer fast access to elements using indexing and can resize dynamically to accommodate new elements.\n",
        "\n",
        "**Suitable Use Cases:**\n",
        "\n",
        "-   Storing collections of data when the exact size isn't known beforehand.\n",
        "-   Implementing resizable lists or stacks.\n",
        "-   Dynamic programming algorithms where the size of subproblems may vary.\n",
        "\n",
        "**Practice Problems:**\n",
        "\n",
        "-   [Implement Dynamic Array from Scratch](https://neetcode.io/problems/dynamicArray): Build a dynamic array class with methods for appending, inserting, removing, and resizing."
      ]
    },
    {
      "cell_type": "code",
      "execution_count": null,
      "metadata": {
        "id": "t_pSNYGnKurZ",
        "outputId": "680542ed-7569-44e4-d12b-500874a8a362"
      },
      "outputs": [
        {
          "name": "stdout",
          "output_type": "stream",
          "text": [
            "[1, 2, 3]\n"
          ]
        }
      ],
      "source": [
        "arr = [1, 2, 3, 4]  # Initialization\n",
        "arr.append(5)  # Append: O(1) - Appends the element to the end of the list.\n",
        "arr.remove(5)  # Remove: O(n) - Removes the first occurrence of the element from the list.\n",
        "arr.pop()  # Pop: O(1) - Removes and returns the last element from the list.\n",
        "\n",
        "print(arr)  # Output: [1, 2, 3, 4]"
      ]
    },
    {
      "cell_type": "markdown",
      "metadata": {
        "id": "BCGS_0FNKurb"
      },
      "source": [
        "# Stacks\n",
        "\n",
        "Stacks are a linear data structure where elements are inserted (pushed) and removed (popped) from the same end, called the **top**, adhering to the **Last-In-First-Out (LIFO)** principle.\n",
        "\n",
        "**Suitable Use Cases:**\n",
        "\n",
        "-   **Function Call Management:** Storing function call information and local variables.\n",
        "-   **Undo/Redo Functionality:** Tracking actions in text editors or other applications.\n",
        "-   **Browser History:** Maintaining a list of visited web pages.\n",
        "-   **Backtracking Algorithms:**  Exploring solution spaces and retracing steps.\n",
        "\n",
        "**Practice Problems:**\n",
        "\n",
        "-   [Implement Stack from Scratch](https://leetcode.com/problems/min-stack/): Create a basic stack implementation with push, pop, peek, and isEmpty operations.\n",
        "-   [Implement Stack using Queues](https://leetcode.com/problems/implement-stack-using-queues/): Simulate stack behavior using two queues.\n",
        "-   [Sort a Stack](https://www.hackerrank.com/contests/cbsummerchallenge2016/challenges/stack-sort-the-stack-using-recursion/problem): Sort the elements of a stack in ascending order."
      ]
    },
    {
      "cell_type": "code",
      "execution_count": null,
      "metadata": {
        "id": "6t9e69cWKurb",
        "outputId": "7bda35ef-dae3-4b35-a79b-ac23dbc69512"
      },
      "outputs": [
        {
          "name": "stdout",
          "output_type": "stream",
          "text": [
            "[5, 10, 15]\n",
            "15\n",
            "15\n",
            "[5, 10]\n",
            "False\n"
          ]
        }
      ],
      "source": [
        "# Initialize a Stack (empty list)\n",
        "stack = []  # Initialization: O(1)\n",
        "\n",
        "# Push (add) elements onto the stack\n",
        "stack.append(5)  # Push: O(1) (Average Case)\n",
        "stack.append(10) # Push: O(1) (Average Case)\n",
        "stack.append(15) # Push: O(1) (Average Case)\n",
        "\n",
        "print(stack)  # Output: [5, 10, 15]\n",
        "\n",
        "# Peek (view) the top element without removing it\n",
        "top_element = stack[-1]  # Peek: O(1)\n",
        "print(top_element)  # Output: 15\n",
        "\n",
        "# Pop (remove) the top element\n",
        "popped_element = stack.pop()  # Pop: O(1)\n",
        "print(popped_element)  # Output: 15\n",
        "print(stack)  # Output: [5, 10]\n",
        "\n",
        "# Check if the stack is empty\n",
        "is_empty = len(stack) == 0  # isEmpty: O(1)\n",
        "print(is_empty)  # Output: False\n"
      ]
    },
    {
      "cell_type": "markdown",
      "metadata": {
        "id": "aY1UXqCEKurc"
      },
      "source": [
        "# Queues\n",
        "\n",
        "Queues are a linear data structure where elements are inserted at the **rear (enqueue)** and removed from the **front (dequeue)**, adhering to the **First-In-First-Out (FIFO)** principle.\n",
        "\n",
        "**Suitable Use Cases:**\n",
        "\n",
        "-   **Task Scheduling:** Managing tasks in the order they arrive.\n",
        "-   **Message Passing:** Facilitating communication between components of a system.\n",
        "-   **Breadth-First Search (BFS):** Exploring nodes in a graph level by level.\n",
        "-   **Printer Queues:** Managing print jobs in the order they are submitted.\n",
        "-   **Web Server Requests:** Handling incoming requests in the order they arrive.\n",
        "\n",
        "**Practice Problems:**\n",
        "\n",
        "-   [Implement Queue using Stacks](https://leetcode.com/problems/implement-queue-using-stacks/): Simulate a queue's behavior using two stacks.\n",
        "-   [Implement Circular Queue](https://leetcode.com/problems/design-circular-queue/): Design a queue with efficient space usage using an array.\n",
        "-   [Design Front Middle Back Queue](https://leetcode.com/problems/design-front-middle-back-queue/): Create a queue supporting insertion and deletion at the front, middle, and back.\n",
        "-   [Design Circular Deque (Double-Ended Queue)](https://leetcode.com/problems/design-circular-deque/): Design a queue allowing insertion and deletion at both ends."
      ]
    },
    {
      "cell_type": "code",
      "execution_count": null,
      "metadata": {
        "id": "B0JVJPsMKurc",
        "outputId": "59d27492-2426-40d0-d368-6bbf36c5d24e"
      },
      "outputs": [
        {
          "name": "stdout",
          "output_type": "stream",
          "text": [
            "[5, 10, 15]\n",
            "5\n",
            "5\n",
            "[10, 15]\n",
            "False\n"
          ]
        }
      ],
      "source": [
        "# Initialize a Queue (empty list)\n",
        "queue = []  # Initialization: O(1)\n",
        "\n",
        "# Enqueue (add) elements to the queue\n",
        "queue.append(5)  # Enqueue: O(1) (Average Case)\n",
        "queue.append(10) # Enqueue: O(1) (Average Case)\n",
        "queue.append(15) # Enqueue: O(1) (Average Case)\n",
        "\n",
        "print(queue)  # Output: [5, 10, 15]\n",
        "\n",
        "# Peek (view) the front element without removing it\n",
        "front_element = queue[0]  # Peek: O(1)\n",
        "print(front_element)  # Output: 5\n",
        "\n",
        "# Dequeue (remove) the front element\n",
        "dequeued_element = queue.pop(0)  # Dequeue: O(n)\n",
        "print(dequeued_element)  # Output: 5\n",
        "print(queue)  # Output: [10, 15]\n",
        "\n",
        "# Check if the queue is empty\n",
        "is_empty = len(queue) == 0  # isEmpty: O(1)\n",
        "print(is_empty)  # Output: False"
      ]
    },
    {
      "cell_type": "markdown",
      "metadata": {
        "id": "GjRjOFPjKurd"
      },
      "source": [
        "# Priority Queues/Heap (using list)\n",
        "\n",
        "Priority Queues are advanced data structures that efficiently manage elements based on their priority. Elements with higher priority are dequeued before elements with lower priority, ensuring that important tasks are handled first. These structures are integral in various computational scenarios such as task scheduling, graph algorithms, and data compression.\n",
        "\n",
        "**Key Applications and Use Cases:**\n",
        "- **Task Scheduling**: Prioritize and manage tasks efficiently, ensuring high-priority tasks are executed first, which optimizes system performance.\n",
        "- **Graph Algorithms**: Implement algorithms like Dijkstra's to determine the most efficient route between nodes in a graph, essential for routing and navigation systems.\n",
        "- **Data Compression**: Use Huffman coding to compress data based on frequency of occurrence, optimizing storage and transmission.\n",
        "- **Operating Systems**: Implement process scheduling and resource management by handling tasks with different priority levels effectively.\n",
        "\n",
        "**Practice Problems:**\n",
        "- [Building a Heap](https://rosalind.info/problems/hea/): Learn the fundamentals of constructing a heap.\n",
        "- [Design a Heap](https://neetcode.io/problems/heap): Gain insights into designing and implementing heap structures.\n",
        "- [Sort an Array](https://leetcode.com/problems/sort-an-array/description/): Apply heap-based sorting algorithms to order elements.\n",
        "- [Dijkstra's Shortest Path Algorithm](https://rosalind.info/problems/dij/): Implement Dijkstra's algorithm to find the shortest paths in a graph.\n",
        "\n"
      ]
    },
    {
      "cell_type": "code",
      "execution_count": null,
      "metadata": {
        "id": "BZDXRoTBKure",
        "outputId": "2932367d-8373-4c36-e047-e3e7f9da732a"
      },
      "outputs": [
        {
          "name": "stdout",
          "output_type": "stream",
          "text": [
            "1\n",
            "2\n"
          ]
        },
        {
          "data": {
            "text/plain": [
              "2"
            ]
          },
          "execution_count": 5,
          "metadata": {},
          "output_type": "execute_result"
        }
      ],
      "source": [
        "import heapq\n",
        "\n",
        "heap = []  # Initialization: O(1) - No elements, empty list.\n",
        "\n",
        "# Insert operation\n",
        "heapq.heappush(heap, 3)  # Insert: O(log n) - Maintains the heap property by percolating the new element up.\n",
        "\n",
        "# Insert more elements\n",
        "heapq.heappush(heap, 1)\n",
        "heapq.heappush(heap, 6)\n",
        "heapq.heappush(heap, 5)\n",
        "heapq.heappush(heap, 2)\n",
        "heapq.heappush(heap, 4)\n",
        "\n",
        "# Extract min/max operation\n",
        "min_item = heapq.heappop(heap)  # Extract min: O(log n) - Removes and returns the smallest element, then reheapifies.\n",
        "\n",
        "# Find min/max without extraction\n",
        "min_item_peek = heap[0]  # Peek min: O(1) - Returns the smallest element without removing it.\n",
        "\n",
        "print(min_item)  # Output: 1\n",
        "print(min_item_peek)  # Output: 2\n",
        "\n",
        "# Convert a list to a heap\n",
        "data = [3, 1, 6, 5, 2, 4]\n",
        "heapq.heapify(data)  # Heapify: O(n) - Converts the list into a heap in linear time.\n",
        "\n",
        "# Replace the min element\n",
        "heapq.heapreplace(heap, 10)  # Replace: O(log n) - Pops and returns the smallest element, then pushes the new element."
      ]
    },
    {
      "cell_type": "markdown",
      "metadata": {
        "id": "J-Jvsm1aKurf"
      },
      "source": [
        "# HashMap (Dictionary in Python)\n",
        "\n",
        "HashMaps are data structures that store key-value pairs and provide efficient insertion, deletion, and lookup operations. They are commonly used in scenarios such as implementing caching mechanisms, indexing data, and solving problems involving frequency counting.\n",
        "\n",
        "**Key Applications and Use Cases:**\n",
        "- **Caching Mechanisms**: Store and retrieve frequently accessed data quickly to improve performance.\n",
        "- **Data Indexing**: Index data for fast retrieval, which is crucial in databases and search engines.\n",
        "- **Symbol Tables in Compilers**: Manage variable and function names during the compilation process.\n",
        "\n",
        "**Practice Problems:**\n",
        "- [Design a Hash Table](https://neetcode.io/problems/hashTable): Designing  it form scratch.\n",
        "- [Design a Hash Map](https://leetcode.com/problems/design-hashmap/description/): Designing it form scratch without built in libraries"
      ]
    },
    {
      "cell_type": "code",
      "execution_count": null,
      "metadata": {
        "id": "HbsDmMT3Kurf",
        "outputId": "13b805c2-f03b-4d9b-b4e3-3bf6bc29c1db"
      },
      "outputs": [
        {
          "name": "stdout",
          "output_type": "stream",
          "text": [
            "{}\n"
          ]
        }
      ],
      "source": [
        "hashmap = {}  # Initialization\n",
        "hashmap['key'] = 'value'  # Insert: O(1) - Inserts a key-value pair into the dictionary.\n",
        "value = hashmap['key']  # Search: O(1) - Retrieves the value associated with the key.\n",
        "del hashmap['key']  # Delete: O(1) - Deletes the key-value pair from the dictionary.\n",
        "\n",
        "print(hashmap)  # Output: {}"
      ]
    },
    {
      "cell_type": "markdown",
      "metadata": {
        "id": "2V3syuTaKurg"
      },
      "source": [
        "# HashSet\n",
        "\n",
        "HashSets are data structures that store unique elements and provide efficient insertion, deletion, and lookup operations. They are commonly used in scenarios where uniqueness is required, such as tracking unique items, removing duplicates, and membership testing.\n",
        "\n",
        "**Key Applications and Use Cases:**\n",
        "- **Removing Duplicates**: Ensure all elements in a collection are unique, useful in data cleaning and preprocessing.\n",
        "- **Membership Testing**: Quickly check if an element is present in a set, which is faster than list-based membership testing.\n",
        "- **Tracking Unique Items**: Keep track of unique items in real-time applications, such as streaming data or user sessions.\n",
        "\n",
        "**Practice Problems:**\n",
        "- [Design HashSet](https://leetcode.com/problems/design-hashset/description/): Designing it form scratch without built in libraries."
      ]
    },
    {
      "cell_type": "code",
      "execution_count": null,
      "metadata": {
        "id": "YdXAZ4thKurg",
        "outputId": "f29bc853-4c08-4cab-89e6-14e1d95d3da1"
      },
      "outputs": [
        {
          "name": "stdout",
          "output_type": "stream",
          "text": [
            "set()\n"
          ]
        }
      ],
      "source": [
        "hashset = set()  # Initialization\n",
        "hashset.add(5)  # Add: O(1) - Adds an element to the set.\n",
        "hashset.remove(5)  # Remove: O(1) - Removes an element from the set.\n",
        "is_present = 5 in hashset  # Search: O(1) - Checks if an element is present in the set.\n",
        "\n",
        "print(hashset)  # Output: set()"
      ]
    },
    {
      "cell_type": "markdown",
      "metadata": {
        "id": "VP4G83CnKurg"
      },
      "source": [
        "# Linked List\n",
        "\n",
        "Linked Lists are data structures that consist of nodes, each containing a value and a reference to the next node in the sequence. They are commonly used in scenarios where efficient insertions and deletions are required, such as implementing dynamic data structures like stacks, queues, and adjacency lists for graphs.\n",
        "\n",
        "**Key Applications and Use Cases:**\n",
        "- **Dynamic Data Structures**: Implement stacks, queues, and other data structures that require efficient insertions and deletions.\n",
        "- **Graph Representations**: Represent adjacency lists in graph algorithms, providing a flexible way to store connections between nodes.\n",
        "- **Memory Management**: Manage memory dynamically in scenarios where array resizing would be inefficient.\n",
        "- **Undo Mechanisms**: Implement undo functionality in applications like text editors, where operations are tracked in a sequence.\n",
        "\n",
        "**Practice Problems:**\n",
        "- [Design Linked List](https://leetcode.com/problems/design-linked-list/description/): Implement a singly linked list.\n",
        "- [Insert a node at the head of a linked list](https://www.hackerrank.com/challenges/insert-a-node-at-the-head-of-a-linked-list/problem?isFullScreen=true): Insert a node at the beginning of a linked list.\n",
        "- [Insert a Node at the Tail of a Linked List](https://www.hackerrank.com/challenges/insert-a-node-at-a-specific-position-in-a-linked-list/problem?isFullScreen=true): Insert a node at the end of a linked list.\n",
        "- [Insert a node at a specific position in a linked list](https://www.hackerrank.com/challenges/insert-a-node-at-a-specific-position-in-a-linked-list/problem?isFullScreen=true): Insert a node at a given position in a linked list.\n",
        "- [Remove Linked List Elements](https://leetcode.com/problems/remove-linked-list-elements/description/): Remove all elements from a linked list that have a specified value.\n",
        "- [Remove Nth Node From End of List](https://leetcode.com/problems/remove-nth-node-from-end-of-list/): Remove the nth node from the end of a linked list.\n",
        "- [Remove Duplicates from Sorted List](https://leetcode.com/problems/remove-duplicates-from-sorted-list/description/): Remove duplicates from a sorted linked list.\n",
        "- [Reverse Linked List](https://leetcode.com/problems/reverse-linked-list/): Reverse a singly linked list.\n",
        "- [Linked List Cycle](https://leetcode.com/problems/linked-list-cycle/): Detect if a linked list has a cycle in it.\n",
        "- [Merge Two Sorted Lists](https://leetcode.com/problems/merge-two-sorted-lists/): Merge two sorted linked lists into a single sorted list.\n",
        "\n"
      ]
    },
    {
      "cell_type": "code",
      "execution_count": null,
      "metadata": {
        "id": "U51Xd0NwKurh",
        "outputId": "f990b3d5-6ec5-4c1b-c507-4890e471f3f9"
      },
      "outputs": [
        {
          "name": "stdout",
          "output_type": "stream",
          "text": [
            "1 -> 2 -> 3 -> None\n"
          ]
        }
      ],
      "source": [
        "class ListNode:\n",
        "    def __init__(self, val=0, next=None):\n",
        "        self.val = val\n",
        "        self.next = next\n",
        "\n",
        "# Create a linked list: 1 -> 2 -> 3\n",
        "node1 = ListNode(1)\n",
        "node2 = ListNode(2)\n",
        "node3 = ListNode(3)\n",
        "\n",
        "node1.next = node2\n",
        "node2.next = node3\n",
        "\n",
        "# Traverse the linked list and print its elements\n",
        "current = node1\n",
        "while current:\n",
        "    print(current.val, end=\" -> \")\n",
        "    current = current.next\n",
        "print(\"None\")"
      ]
    },
    {
      "cell_type": "markdown",
      "metadata": {
        "id": "303DLRSRKurh"
      },
      "source": [
        "# Doubly Linked List\n",
        "\n",
        "Doubly Linked Lists are data structures that consist of nodes, each containing a value, a reference to the next node, and a reference to the previous node. They are commonly used in scenarios where bidirectional traversal is required, such as implementing complex data structures like dequeues and certain types of caches.\n",
        "\n",
        "**Key Applications and Use Cases:**\n",
        "- **Dequeues (Double-ended Queues)**: Allow efficient insertions and deletions at both ends of the list.\n",
        "- **Navigation Systems**: Enable easy navigation forwards and backwards, useful in applications like web browsers (for history) and undo-redo functionality in editors.\n",
        "- **Complex Data Structures**: Serve as building blocks for more complex data structures that require bidirectional traversal.\n",
        "\n",
        "**Practice Problems:**\n",
        "- [Reverse a doubly linked list](https://www.hackerrank.com/challenges/reverse-a-doubly-linked-list/problem): Reverse a doubly linked list.\n",
        "- [Inserting a Node Into a Sorted Doubly Linked List](https://www.hackerrank.com/challenges/insert-a-node-into-a-sorted-doubly-linked-list/problem?isFullScreen=true): Inserting a into a Sorted Doubly Linked List\n",
        "- [Flatten a Multilevel Doubly Linked List](https://leetcode.com/problems/flatten-a-multilevel-doubly-linked-list/): Flatten a multilevel doubly linked list.\n",
        "- [LRU Cache](https://leetcode.com/problems/lru-cache/): Implement an LRU Cache using a doubly linked list and a hash map."
      ]
    },
    {
      "cell_type": "code",
      "execution_count": null,
      "metadata": {
        "id": "g1M71HxFKurh",
        "outputId": "be2dff6f-6699-4ea0-e7c2-d2db922a5846"
      },
      "outputs": [
        {
          "name": "stdout",
          "output_type": "stream",
          "text": [
            "1 <-> 2 <-> 3 <-> None\n",
            "3 <-> 2 <-> 1 <-> None\n"
          ]
        }
      ],
      "source": [
        "class ListNode:\n",
        "    def __init__(self, val=0, prev=None, next=None):\n",
        "        self.val = val\n",
        "        self.prev = prev\n",
        "        self.next = next\n",
        "\n",
        "# Create a doubly linked list: 1 <-> 2 <-> 3\n",
        "node1 = ListNode(1)\n",
        "node2 = ListNode(2)\n",
        "node3 = ListNode(3)\n",
        "\n",
        "node1.next = node2\n",
        "node2.prev = node1\n",
        "node2.next = node3\n",
        "node3.prev = node2\n",
        "\n",
        "# Traverse the doubly linked list forward and print its elements\n",
        "current = node1\n",
        "while current:\n",
        "    print(current.val, end=\" <-> \")\n",
        "    current = current.next\n",
        "print(\"None\")\n",
        "\n",
        "# Traverse the doubly linked list backward and print its elements\n",
        "current = node3\n",
        "while current:\n",
        "    print(current.val, end=\" <-> \")\n",
        "    current = current.prev\n",
        "print(\"None\")"
      ]
    },
    {
      "cell_type": "markdown",
      "metadata": {
        "id": "s-ZN1zDTKuri"
      },
      "source": [
        "# Binary Tree\n",
        "\n",
        "Binary Trees are hierarchical data structures in which each node has at most two children, referred to as the left child and the right child. They are commonly used in scenarios such as hierarchical data representation, searching and sorting, and implementing abstract data types like binary search trees, heaps, and syntax trees.\n",
        "\n",
        "**Key Applications and Use Cases:**\n",
        "- **Hierarchical Data Representation**: Represent hierarchical structures such as organizational charts and file systems.\n",
        "- **Searching and Sorting**: Implement efficient searching and sorting algorithms, such as binary search trees (BST) and heaps.\n",
        "- **Balanced Trees**: Maintain balanced trees like AVL trees and Red-Black trees for efficient insertion, deletion, and lookup operations.\n",
        "\n",
        "**Practice Problems:**\n",
        "- [Convert Sorted Array to Binary Search Tree](https://leetcode.com/problems/convert-sorted-array-to-binary-search-tree/description/): Create a balanced binary search tree from a sorted array.\n",
        "- [Create Binary Tree From Descriptions](https://leetcode.com/problems/create-binary-tree-from-descriptions/): Construct a binary tree from its string representation.\n",
        "- [Convert Sorted List to Binary Search Tree](https://leetcode.com/problems/convert-sorted-list-to-binary-search-tree/): Convert a sorted linked list into a balanced binary search tree.\n",
        "- [Insert into a Binary Search Tree](https://leetcode.com/problems/insert-into-a-binary-search-tree/): Insert a value into a binary search tree.\n",
        "- [Delete Node in BST](https://leetcode.com/problems/delete-node-in-a-bst/description/): Delete a node from a binary search tree.\n",
        "- [Search in a Binary Search Tree](https://leetcode.com/problems/search-in-a-binary-search-tree/description/): Search for a value in a binary search tree.\n",
        "- [Validate Binary Search Tree](https://leetcode.com/problems/validate-binary-search-tree/): Check if a binary tree is a valid binary search tree.\n",
        "- [Balance a Binary Search Tree](https://leetcode.com/problems/balance-a-binary-search-tree/): Balance an unbalanced binary search tree.\n",
        "- [Invert Binary Tree](https://leetcode.com/problems/invert-binary-tree/): Invert a binary tree.\n",
        "- [Maximum Depth of Binary Tree](https://leetcode.com/problems/maximum-depth-of-binary-tree/): Find the maximum depth of a binary tree.\n",
        "- [Binary Tree Level Order Traversal](https://leetcode.com/problems/binary-tree-level-order-traversal/description/): Traverse a binary tree by level.\n",
        "- [Binary Tree Inorder Traversal](https://leetcode.com/problems/binary-tree-inorder-traversal/): Traverse a binary tree in inorder.\n",
        "- [Binary Tree Preorder Traversal](https://leetcode.com/problems/binary-tree-preorder-traversal/): Traverse a binary tree in preorder.\n",
        "- [Binary Tree Postorder Traversal](https://leetcode.com/problems/binary-tree-postorder-traversal/): Traverse a binary tree in postorder.\n",
        "- [Binary Tree Paths](https://leetcode.com/problems/binary-tree-paths/description/): Finding all paths from the root to leaf nodes in a binary tree."
      ]
    },
    {
      "cell_type": "code",
      "execution_count": null,
      "metadata": {
        "id": "4Er0rP7qKuri",
        "outputId": "fb3d844f-f152-45cf-a511-0761c30fc083"
      },
      "outputs": [
        {
          "name": "stdout",
          "output_type": "stream",
          "text": [
            "Inorder Traversal: 4 2 5 1 6 3 7 \n"
          ]
        }
      ],
      "source": [
        "### Trees\n",
        "# Define a TreeNode class for representing tree nodes\n",
        "class TreeNode:\n",
        "    def __init__(self, val=0, left=None, right=None):\n",
        "        self.val = val\n",
        "        self.left = left\n",
        "        self.right = right\n",
        "\n",
        "# Example of creating a binary tree:     1\n",
        "#                                       /   \\\n",
        "#                                      2     3\n",
        "#                                     / \\   / \\\n",
        "#                                    4   5 6   7\n",
        "root = TreeNode(1)\n",
        "root.left = TreeNode(2)\n",
        "root.right = TreeNode(3)\n",
        "root.left.left = TreeNode(4)\n",
        "root.left.right = TreeNode(5)\n",
        "root.right.left = TreeNode(6)\n",
        "root.right.right = TreeNode(7)\n",
        "\n",
        "# Example of traversing the binary tree using inorder traversal\n",
        "def inorder_traversal(node):\n",
        "    if node:\n",
        "        inorder_traversal(node.left)\n",
        "        print(node.val, end=\" \")\n",
        "        inorder_traversal(node.right)\n",
        "\n",
        "print(\"Inorder Traversal:\", end=\" \")\n",
        "inorder_traversal(root)\n",
        "print()"
      ]
    },
    {
      "cell_type": "markdown",
      "metadata": {
        "id": "sEhdFMd2Kuri"
      },
      "source": [
        "# Graphs\n",
        "\n",
        "Graphs are a non-linear data structure consisting of nodes (vertices) connected by edges. They are used to model relationships between objects and find applications in various fields.\n",
        "\n",
        "**Suitable Use Cases:**\n",
        "\n",
        "-   **Social Networks:** Representing connections between people.\n",
        "-   **Transportation Networks:** Modeling roads, flights, or other routes.\n",
        "-   **Computer Networks:**  Visualizing connections between devices and servers.\n",
        "-   **Recommendation Systems:**  Suggesting items based on user preferences and relationships.\n",
        "-   **Web Page Link Analysis:** Understanding the structure of the internet.\n",
        "\n",
        "**Practice Problems:**\n",
        "- [Design a Graph](https://neetcode.io/problems/graph): Implementing a graph data structure.\n",
        "- [Same Tree](https://leetcode.com/problems/same-tree/description/): Check if trees are the same\n",
        "- [Subtree of Another Tree](https://leetcode.com/problems/subtree-of-another-tree/description/): Check if tree is a subtree\n",
        "- [Symmetric Tree](https://leetcode.com/problems/symmetric-tree/description/): Checking if a binary tree is symmetric.\n",
        "- [Find if Path Exists in Graph](https://leetcode.com/problems/find-if-path-exists-in-graph/description/): Determining if a path exists between two nodes in a graph."
      ]
    },
    {
      "cell_type": "code",
      "execution_count": null,
      "metadata": {
        "id": "kbHVldg7Kuri",
        "outputId": "0997050b-d63f-4d9e-91d4-84e15f8c9557"
      },
      "outputs": [
        {
          "name": "stdout",
          "output_type": "stream",
          "text": [
            "DFS Traversal: 1 2 4 3 \n"
          ]
        }
      ],
      "source": [
        "### Graphs\n",
        "# Define a Graph class for representing a directed graph using adjacency lists\n",
        "class Graph:\n",
        "    def __init__(self):\n",
        "        self.adjacency_list = {}\n",
        "\n",
        "    def add_edge(self, u, v):\n",
        "        if u not in self.adjacency_list:\n",
        "            self.adjacency_list[u] = []\n",
        "        self.adjacency_list[u].append(v)\n",
        "\n",
        "# Example of creating a directed graph:\n",
        "#    1 -> 2\n",
        "#    |    |\n",
        "#    v    v\n",
        "#    3 -> 4\n",
        "graph = Graph()\n",
        "graph.add_edge(1, 2)\n",
        "graph.add_edge(1, 3)\n",
        "graph.add_edge(3, 4)\n",
        "graph.add_edge(2, 4)\n",
        "\n",
        "# Example of traversing the graph using depth-first search (DFS)\n",
        "def dfs(graph, node, visited):\n",
        "    visited.add(node)\n",
        "    print(node, end=\" \")\n",
        "    if node in graph.adjacency_list:\n",
        "        for neighbor in graph.adjacency_list[node]:\n",
        "            if neighbor not in visited:\n",
        "                dfs(graph, neighbor, visited)\n",
        "\n",
        "print(\"DFS Traversal:\", end=\" \")\n",
        "visited = set()\n",
        "dfs(graph, 1, visited)\n",
        "print()"
      ]
    }
  ],
  "metadata": {
    "kernelspec": {
      "display_name": "Python 3",
      "language": "python",
      "name": "python3"
    },
    "language_info": {
      "codemirror_mode": {
        "name": "ipython",
        "version": 3
      },
      "file_extension": ".py",
      "mimetype": "text/x-python",
      "name": "python",
      "nbconvert_exporter": "python",
      "pygments_lexer": "ipython3",
      "version": "3.11.9"
    },
    "colab": {
      "provenance": [],
      "toc_visible": true
    }
  },
  "nbformat": 4,
  "nbformat_minor": 0
}