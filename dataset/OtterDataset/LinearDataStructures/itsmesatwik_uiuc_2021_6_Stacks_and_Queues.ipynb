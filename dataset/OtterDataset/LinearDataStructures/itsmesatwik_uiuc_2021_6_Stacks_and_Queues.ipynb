{
 "cells": [
  {
   "cell_type": "markdown",
   "metadata": {},
   "source": [
    "## Stacks and Queues\n",
    "\n",
    "Today we will discuss two data structures that are usually implemented similarly to Linked Lists: Stacks and Queues. We will be using the Node class you all are familiar with (Hopefully!!)\n",
    "\n",
    "### Stacks\n",
    "\n",
    "Its exactly what it sounds like, elements physically stacked onto each other! Stacks are collections of objects that you can **push** to and **pop** from the top. You may hear stacks referred to as LIFO (Last in First out).\n",
    "\n",
    "Methods that stacks generally have are **push**, **pop** and **peek**\n",
    "\n",
    "**Push** - Adds an element to the top of a stack\n",
    "\n",
    "**Pop** - Removes the top element of a stack, and returns it.\n",
    "\n",
    "**Peek** -- Returns the top element of a stack without removing it.\n",
    "\n",
    "With the linked list implementation that we will describe, these three operations are O(1)\n",
    "\n",
    "Stacks are very useful for many things, and can fit many interview questions. One notable thing that stacks are used for is in Assembly languages and C/C++ where local variables and other important things are stored on a stack. You will have to learn about how stacks in memory works in 233 :^)\n",
    "\n",
    "\n",
    "### Queues \n",
    "\n",
    "Also exactly what it sounds like. Imagine you're waiting for a bus in the UK! Queues are collections of objects that you can **enqueue** to and **dequeue** from.  You many hear queues referred to as FIFO (First in First out).\n",
    "\n",
    "Methods that queues generally have are **enqueue** and **dequeue**\n",
    "\n",
    "**Enqueue** - Adds a element to the back of a queue\n",
    "\n",
    "**Dequeue** - Returns an element from the front of the queue and removes that element from the queue.\n",
    "\n",
    "With the implementation that we will describe, these operations are O(1) as well. We will maintain references to both the front and the back of the Queue\n",
    "\n",
    "\n"
   ]
  },
  {
   "cell_type": "code",
   "execution_count": 1,
   "metadata": {
    "collapsed": true
   },
   "outputs": [],
   "source": [
    "class Node(object):\n",
    "    def __init__(self, data=None, next_node=None):\n",
    "        \"\"\"\n",
    "        Initializes Node in Linked List.\n",
    "        \"\"\"\n",
    "        self.data = data\n",
    "        self.next = next_node\n",
    "\n",
    "\n",
    "    def __str__(self):\n",
    "        \"\"\"\n",
    "        Converts current linked list to a string.\n",
    "        \"\"\"\n",
    "        node = self\n",
    "        buffer = str(node.data)\n",
    "\n",
    "        node = node.next\n",
    "        while node != None:\n",
    "            buffer += ' -> ' + str(node.data)\n",
    "            node = node.next\n",
    "\n",
    "        return buffer"
   ]
  },
  {
   "cell_type": "code",
   "execution_count": 2,
   "metadata": {},
   "outputs": [],
   "source": [
    "class Stack(object):\n",
    "    \n",
    "    def __init__(self, top=None):\n",
    "        self.top = top\n",
    "        \n",
    "    \n",
    "    def push(self, data):\n",
    "        \n",
    "        if self.top == None: #Check if our stack is empty\n",
    "            self.top = Node(data) #Make a new node \n",
    "            return\n",
    "            \n",
    "        temp = Node(data) #Create a node\n",
    "        temp.next = self.top #Make our node point to the top node\n",
    "        self.top = temp #Make our node the new top node\n",
    "        \n",
    "    def pop(self):\n",
    "        \n",
    "        if self.top == None: #Check if our stack is empty\n",
    "            return None #return None if so\n",
    "        \n",
    "        temp = self.top #Save the top node\n",
    "        self.top = temp.next #Make the new top node the next node\n",
    "        return temp.data #Return our saved value\n",
    "    \n",
    "    def peek(self):\n",
    "        \n",
    "        if self.top == None: #Check if our stack is empty\n",
    "            return None #return None if so\n",
    "        \n",
    "        return self.top.data\n",
    "        \n",
    "    def __str__(self):\n",
    "        return str(self.top)\n"
   ]
  },
  {
   "cell_type": "code",
   "execution_count": 3,
   "metadata": {
    "collapsed": true
   },
   "outputs": [],
   "source": [
    "s = Stack()\n",
    "s.push(1)\n",
    "s.push(2)\n",
    "s.push(3)\n",
    "s.push(4)"
   ]
  },
  {
   "cell_type": "code",
   "execution_count": 4,
   "metadata": {},
   "outputs": [
    {
     "name": "stdout",
     "output_type": "stream",
     "text": [
      "4 -> 3 -> 2 -> 1\n"
     ]
    }
   ],
   "source": [
    "print(s)"
   ]
  },
  {
   "cell_type": "code",
   "execution_count": 5,
   "metadata": {},
   "outputs": [
    {
     "data": {
      "text/plain": [
       "4"
      ]
     },
     "execution_count": 5,
     "metadata": {},
     "output_type": "execute_result"
    }
   ],
   "source": [
    "s.pop()"
   ]
  },
  {
   "cell_type": "code",
   "execution_count": 6,
   "metadata": {},
   "outputs": [
    {
     "data": {
      "text/plain": [
       "3"
      ]
     },
     "execution_count": 6,
     "metadata": {},
     "output_type": "execute_result"
    }
   ],
   "source": [
    "s.peek()"
   ]
  },
  {
   "cell_type": "code",
   "execution_count": 7,
   "metadata": {},
   "outputs": [
    {
     "name": "stdout",
     "output_type": "stream",
     "text": [
      "3 -> 2 -> 1\n"
     ]
    }
   ],
   "source": [
    "print(s)"
   ]
  },
  {
   "cell_type": "code",
   "execution_count": 8,
   "metadata": {
    "collapsed": true
   },
   "outputs": [],
   "source": [
    "class Queue(object):\n",
    "    \n",
    "    def __init__(self, front=None, back=None):\n",
    "        self.front = front\n",
    "        self.back = back\n",
    "        \n",
    "    \n",
    "    def enqueue(self, data):\n",
    "        \n",
    "        if self.front == None: #Check if our stack is empty\n",
    "            self.front = Node(data) #Make a new node \n",
    "            self.back = self.front #Make our pointers right\n",
    "            return\n",
    "            \n",
    "        temp = Node(data) #Create a node\n",
    "        self.back.next = temp #Place our node at the very back\n",
    "        self.back = temp #Make our node the new back node\n",
    "        \n",
    "    def dequeue(self):\n",
    "        \n",
    "        if self.front == None: #Check if our stack is empty\n",
    "            return None #return None if so\n",
    "        \n",
    "        temp = self.front #Save the top node\n",
    "        self.front = temp.next #Make the new top node the next node\n",
    "        return temp.data #Return our saved value\n",
    "    \n",
    "    def __str__(self):\n",
    "        return str(self.front)\n",
    "    "
   ]
  },
  {
   "cell_type": "code",
   "execution_count": 9,
   "metadata": {},
   "outputs": [],
   "source": [
    "q = Queue()\n",
    "q.enqueue(1)\n",
    "q.enqueue(2)\n",
    "q.enqueue(3)\n",
    "q.enqueue(4)"
   ]
  },
  {
   "cell_type": "code",
   "execution_count": 10,
   "metadata": {},
   "outputs": [
    {
     "name": "stdout",
     "output_type": "stream",
     "text": [
      "1 -> 2 -> 3 -> 4\n"
     ]
    }
   ],
   "source": [
    "print(q)"
   ]
  },
  {
   "cell_type": "code",
   "execution_count": 11,
   "metadata": {},
   "outputs": [
    {
     "data": {
      "text/plain": [
       "1"
      ]
     },
     "execution_count": 11,
     "metadata": {},
     "output_type": "execute_result"
    }
   ],
   "source": [
    "q.dequeue()"
   ]
  },
  {
   "cell_type": "code",
   "execution_count": 12,
   "metadata": {},
   "outputs": [
    {
     "name": "stdout",
     "output_type": "stream",
     "text": [
      "2 -> 3 -> 4\n"
     ]
    }
   ],
   "source": [
    "print(q)"
   ]
  },
  {
   "cell_type": "markdown",
   "metadata": {},
   "source": [
    "## Python Lists as Stacks and Queues\n",
    "\n",
    "Linked lists are not the only data structure used to represent Stacks and Queues, Lists and Arrays are also viable options. In fact, python lists have functions built in to allow them to act like Stacks and Queues\\*\n",
    "\n",
    "For Documentation, see here: https://docs.python.org/3.6/tutorial/datastructures.html#using-lists-as-stacks\n",
    "\n",
    "\\*Not quite but close"
   ]
  },
  {
   "cell_type": "markdown",
   "metadata": {},
   "source": [
    "### List as a Stack"
   ]
  },
  {
   "cell_type": "code",
   "execution_count": 13,
   "metadata": {},
   "outputs": [
    {
     "name": "stdout",
     "output_type": "stream",
     "text": [
      "['1', '2', '3']\n"
     ]
    }
   ],
   "source": [
    "list_stack = []\n",
    "list_stack.append('1')\n",
    "list_stack.append('2')\n",
    "list_stack.append('3')\n",
    "print(list_stack)"
   ]
  },
  {
   "cell_type": "code",
   "execution_count": 14,
   "metadata": {},
   "outputs": [
    {
     "data": {
      "text/plain": [
       "'3'"
      ]
     },
     "execution_count": 14,
     "metadata": {},
     "output_type": "execute_result"
    }
   ],
   "source": [
    "list_stack.pop()"
   ]
  },
  {
   "cell_type": "code",
   "execution_count": 15,
   "metadata": {},
   "outputs": [
    {
     "name": "stdout",
     "output_type": "stream",
     "text": [
      "['1', '2']\n"
     ]
    }
   ],
   "source": [
    "print(list_stack)"
   ]
  },
  {
   "cell_type": "markdown",
   "metadata": {},
   "source": [
    "### List as a Queue"
   ]
  },
  {
   "cell_type": "code",
   "execution_count": 16,
   "metadata": {},
   "outputs": [
    {
     "name": "stdout",
     "output_type": "stream",
     "text": [
      "['1', '2', '3']\n"
     ]
    }
   ],
   "source": [
    "list_queue = []\n",
    "list_queue.append('1')\n",
    "list_queue.append('2')\n",
    "list_queue.append('3')\n",
    "print(list_queue)"
   ]
  },
  {
   "cell_type": "code",
   "execution_count": 17,
   "metadata": {},
   "outputs": [
    {
     "data": {
      "text/plain": [
       "'1'"
      ]
     },
     "execution_count": 17,
     "metadata": {},
     "output_type": "execute_result"
    }
   ],
   "source": [
    "list_queue.pop(0)"
   ]
  },
  {
   "cell_type": "code",
   "execution_count": 18,
   "metadata": {},
   "outputs": [
    {
     "name": "stdout",
     "output_type": "stream",
     "text": [
      "['2', '3']\n"
     ]
    }
   ],
   "source": [
    "print(list_queue)"
   ]
  },
  {
   "cell_type": "markdown",
   "metadata": {},
   "source": [
    "### Deque\n",
    "\n",
    "Using a standard list as a queue is inefficient, so python has a better way."
   ]
  },
  {
   "cell_type": "code",
   "execution_count": 19,
   "metadata": {},
   "outputs": [
    {
     "name": "stdout",
     "output_type": "stream",
     "text": [
      "deque(['1', '2', '3'])\n"
     ]
    }
   ],
   "source": [
    "from collections import deque\n",
    "queue = deque()\n",
    "queue.append('1')\n",
    "queue.append('2')\n",
    "queue.append('3')\n",
    "print(queue)"
   ]
  },
  {
   "cell_type": "code",
   "execution_count": 20,
   "metadata": {},
   "outputs": [
    {
     "data": {
      "text/plain": [
       "'1'"
      ]
     },
     "execution_count": 20,
     "metadata": {},
     "output_type": "execute_result"
    }
   ],
   "source": [
    "queue.popleft()"
   ]
  },
  {
   "cell_type": "code",
   "execution_count": 21,
   "metadata": {},
   "outputs": [
    {
     "name": "stdout",
     "output_type": "stream",
     "text": [
      "deque(['2', '3'])\n"
     ]
    }
   ],
   "source": [
    "print(queue)"
   ]
  },
  {
   "cell_type": "markdown",
   "metadata": {},
   "source": [
    "## Example Interview Question\n",
    "\n",
    "Classic stacks/queues question: Given 2 stacks, implement a queue."
   ]
  }
 ],
 "metadata": {
  "kernelspec": {
   "display_name": "Python 3",
   "language": "python",
   "name": "python3"
  },
  "language_info": {
   "codemirror_mode": {
    "name": "ipython",
    "version": 3
   },
   "file_extension": ".py",
   "mimetype": "text/x-python",
   "name": "python",
   "nbconvert_exporter": "python",
   "pygments_lexer": "ipython3",
   "version": "3.6.2"
  }
 },
 "nbformat": 4,
 "nbformat_minor": 2
}
