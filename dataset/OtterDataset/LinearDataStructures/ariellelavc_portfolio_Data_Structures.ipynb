{
 "cells": [
  {
   "cell_type": "markdown",
   "metadata": {},
   "source": [
    "## 1. Dictionaries, Maps and Hashtables\n",
    "\n",
    "#### *  Dictionaries are the central data structure in Python.\n",
    "\n",
    "#### *  Dicts store an arbitrary number of objects, each identified by a unique hashable *key*.\n",
    "\n",
    "#### *  Dicts are *unordered* (key, value) mappings.\n",
    "\n",
    "#### *  Dicts are often called *maps*, *hashmaps*, *lookup tables*, or *associative arrays*.\n",
    "\n",
    "#### *  Dicts allow for efficient lookup, insert, update and delete operations of any object associated with a given key."
   ]
  },
  {
   "cell_type": "markdown",
   "metadata": {},
   "source": [
    "### Built-in **dict** mapping data type\n",
    "\n",
    "#### Indexed by keys that can be of any hashable data type (e.g. immutable types such as strings and numbers, or tuples of hashable types only)\n",
    "\n",
    "#### Dicts are based on a well tuned hashtable implementation\n",
    "\n",
    "#### *O(1)* time complexity for lookups, inserts, deletes and updates \n",
    "\n",
    "#### Dicts can be created by several means:\n",
    "\n",
    "#### -  Curly-braces dictionary expression syntax, comma-separated list of key:value pairs\n",
    "#### -  Dictionary comprehension: {}\n",
    "#### -  **dict** type constructor: dict()"
   ]
  },
  {
   "cell_type": "code",
   "execution_count": 1,
   "metadata": {},
   "outputs": [],
   "source": [
    "DNA_bases = {\n",
    "    'A':'adenine',\n",
    "    'T':'thymine',\n",
    "    'C':'cytosine',\n",
    "    'G':'guanine'\n",
    "}\n",
    "\n",
    "RNA_bases = dict(zip(['A','U','C','G'], ['adenine','uracil','cytosine','guanine']))\n",
    "\n",
    "hexadecimals = {x:hex(x) for x in range(16)}"
   ]
  },
  {
   "cell_type": "code",
   "execution_count": 2,
   "metadata": {},
   "outputs": [
    {
     "data": {
      "text/plain": [
       "{0: '0x0',\n",
       " 1: '0x1',\n",
       " 2: '0x2',\n",
       " 3: '0x3',\n",
       " 4: '0x4',\n",
       " 5: '0x5',\n",
       " 6: '0x6',\n",
       " 7: '0x7',\n",
       " 8: '0x8',\n",
       " 9: '0x9',\n",
       " 10: '0xa',\n",
       " 11: '0xb',\n",
       " 12: '0xc',\n",
       " 13: '0xd',\n",
       " 14: '0xe',\n",
       " 15: '0xf'}"
      ]
     },
     "execution_count": 2,
     "metadata": {},
     "output_type": "execute_result"
    }
   ],
   "source": [
    "hexadecimals"
   ]
  },
  {
   "cell_type": "code",
   "execution_count": 3,
   "metadata": {},
   "outputs": [
    {
     "data": {
      "text/plain": [
       "{'A': 'adenine', 'T': 'thymine', 'C': 'cytosine', 'G': 'guanine'}"
      ]
     },
     "execution_count": 3,
     "metadata": {},
     "output_type": "execute_result"
    }
   ],
   "source": [
    "DNA_bases"
   ]
  },
  {
   "cell_type": "code",
   "execution_count": 4,
   "metadata": {},
   "outputs": [
    {
     "data": {
      "text/plain": [
       "{'A': 'adenine', 'U': 'uracil', 'C': 'cytosine', 'G': 'guanine'}"
      ]
     },
     "execution_count": 4,
     "metadata": {},
     "output_type": "execute_result"
    }
   ],
   "source": [
    "RNA_bases"
   ]
  },
  {
   "cell_type": "code",
   "execution_count": 6,
   "metadata": {},
   "outputs": [
    {
     "data": {
      "text/plain": [
       "['__class__',\n",
       " '__contains__',\n",
       " '__delattr__',\n",
       " '__delitem__',\n",
       " '__dir__',\n",
       " '__doc__',\n",
       " '__eq__',\n",
       " '__format__',\n",
       " '__ge__',\n",
       " '__getattribute__',\n",
       " '__getitem__',\n",
       " '__gt__',\n",
       " '__hash__',\n",
       " '__init__',\n",
       " '__init_subclass__',\n",
       " '__iter__',\n",
       " '__le__',\n",
       " '__len__',\n",
       " '__lt__',\n",
       " '__ne__',\n",
       " '__new__',\n",
       " '__reduce__',\n",
       " '__reduce_ex__',\n",
       " '__repr__',\n",
       " '__setattr__',\n",
       " '__setitem__',\n",
       " '__sizeof__',\n",
       " '__str__',\n",
       " '__subclasshook__',\n",
       " 'clear',\n",
       " 'copy',\n",
       " 'fromkeys',\n",
       " 'get',\n",
       " 'items',\n",
       " 'keys',\n",
       " 'pop',\n",
       " 'popitem',\n",
       " 'setdefault',\n",
       " 'update',\n",
       " 'values']"
      ]
     },
     "execution_count": 6,
     "metadata": {},
     "output_type": "execute_result"
    }
   ],
   "source": [
    "dir(dict)"
   ]
  },
  {
   "cell_type": "code",
   "execution_count": 7,
   "metadata": {},
   "outputs": [
    {
     "name": "stdout",
     "output_type": "stream",
     "text": [
      "Help on class dict in module builtins:\n",
      "\n",
      "class dict(object)\n",
      " |  dict() -> new empty dictionary\n",
      " |  dict(mapping) -> new dictionary initialized from a mapping object's\n",
      " |      (key, value) pairs\n",
      " |  dict(iterable) -> new dictionary initialized as if via:\n",
      " |      d = {}\n",
      " |      for k, v in iterable:\n",
      " |          d[k] = v\n",
      " |  dict(**kwargs) -> new dictionary initialized with the name=value pairs\n",
      " |      in the keyword argument list.  For example:  dict(one=1, two=2)\n",
      " |  \n",
      " |  Methods defined here:\n",
      " |  \n",
      " |  __contains__(self, key, /)\n",
      " |      True if the dictionary has the specified key, else False.\n",
      " |  \n",
      " |  __delitem__(self, key, /)\n",
      " |      Delete self[key].\n",
      " |  \n",
      " |  __eq__(self, value, /)\n",
      " |      Return self==value.\n",
      " |  \n",
      " |  __ge__(self, value, /)\n",
      " |      Return self>=value.\n",
      " |  \n",
      " |  __getattribute__(self, name, /)\n",
      " |      Return getattr(self, name).\n",
      " |  \n",
      " |  __getitem__(...)\n",
      " |      x.__getitem__(y) <==> x[y]\n",
      " |  \n",
      " |  __gt__(self, value, /)\n",
      " |      Return self>value.\n",
      " |  \n",
      " |  __init__(self, /, *args, **kwargs)\n",
      " |      Initialize self.  See help(type(self)) for accurate signature.\n",
      " |  \n",
      " |  __iter__(self, /)\n",
      " |      Implement iter(self).\n",
      " |  \n",
      " |  __le__(self, value, /)\n",
      " |      Return self<=value.\n",
      " |  \n",
      " |  __len__(self, /)\n",
      " |      Return len(self).\n",
      " |  \n",
      " |  __lt__(self, value, /)\n",
      " |      Return self<value.\n",
      " |  \n",
      " |  __ne__(self, value, /)\n",
      " |      Return self!=value.\n",
      " |  \n",
      " |  __repr__(self, /)\n",
      " |      Return repr(self).\n",
      " |  \n",
      " |  __setitem__(self, key, value, /)\n",
      " |      Set self[key] to value.\n",
      " |  \n",
      " |  __sizeof__(...)\n",
      " |      D.__sizeof__() -> size of D in memory, in bytes\n",
      " |  \n",
      " |  clear(...)\n",
      " |      D.clear() -> None.  Remove all items from D.\n",
      " |  \n",
      " |  copy(...)\n",
      " |      D.copy() -> a shallow copy of D\n",
      " |  \n",
      " |  get(self, key, default=None, /)\n",
      " |      Return the value for key if key is in the dictionary, else default.\n",
      " |  \n",
      " |  items(...)\n",
      " |      D.items() -> a set-like object providing a view on D's items\n",
      " |  \n",
      " |  keys(...)\n",
      " |      D.keys() -> a set-like object providing a view on D's keys\n",
      " |  \n",
      " |  pop(...)\n",
      " |      D.pop(k[,d]) -> v, remove specified key and return the corresponding value.\n",
      " |      If key is not found, d is returned if given, otherwise KeyError is raised\n",
      " |  \n",
      " |  popitem(...)\n",
      " |      D.popitem() -> (k, v), remove and return some (key, value) pair as a\n",
      " |      2-tuple; but raise KeyError if D is empty.\n",
      " |  \n",
      " |  setdefault(self, key, default=None, /)\n",
      " |      Insert key with a value of default if key is not in the dictionary.\n",
      " |      \n",
      " |      Return the value for key if key is in the dictionary, else default.\n",
      " |  \n",
      " |  update(...)\n",
      " |      D.update([E, ]**F) -> None.  Update D from dict/iterable E and F.\n",
      " |      If E is present and has a .keys() method, then does:  for k in E: D[k] = E[k]\n",
      " |      If E is present and lacks a .keys() method, then does:  for k, v in E: D[k] = v\n",
      " |      In either case, this is followed by: for k in F:  D[k] = F[k]\n",
      " |  \n",
      " |  values(...)\n",
      " |      D.values() -> an object providing a view on D's values\n",
      " |  \n",
      " |  ----------------------------------------------------------------------\n",
      " |  Class methods defined here:\n",
      " |  \n",
      " |  fromkeys(iterable, value=None, /) from builtins.type\n",
      " |      Create a new dictionary with keys from iterable and values set to value.\n",
      " |  \n",
      " |  ----------------------------------------------------------------------\n",
      " |  Static methods defined here:\n",
      " |  \n",
      " |  __new__(*args, **kwargs) from builtins.type\n",
      " |      Create and return a new object.  See help(type) for accurate signature.\n",
      " |  \n",
      " |  ----------------------------------------------------------------------\n",
      " |  Data and other attributes defined here:\n",
      " |  \n",
      " |  __hash__ = None\n",
      "\n"
     ]
    }
   ],
   "source": [
    "help(dict)"
   ]
  },
  {
   "cell_type": "code",
   "execution_count": 8,
   "metadata": {},
   "outputs": [
    {
     "data": {
      "text/plain": [
       "{'A': 'adenine', 'G': 'guanine'}"
      ]
     },
     "execution_count": 8,
     "metadata": {},
     "output_type": "execute_result"
    }
   ],
   "source": [
    "# Extracting a subset of a dictionary\n",
    "# Make a dict of purines using a dictionary comprehension\n",
    "\n",
    "codes = {'A', 'G'}\n",
    "purines = {k:v for k,v in DNA_bases.items() if k in codes}\n",
    "purines"
   ]
  },
  {
   "cell_type": "code",
   "execution_count": 9,
   "metadata": {},
   "outputs": [
    {
     "data": {
      "text/plain": [
       "{'C': 'cytosine', 'T': 'thymine'}"
      ]
     },
     "execution_count": 9,
     "metadata": {},
     "output_type": "execute_result"
    }
   ],
   "source": [
    "# Make a dict of pyrimidines\n",
    "# Remove purines keys\n",
    "\n",
    "DNA_pyrimidines = {k:DNA_bases[k] for k in DNA_bases.keys() - codes}\n",
    "DNA_pyrimidines"
   ]
  },
  {
   "cell_type": "code",
   "execution_count": 10,
   "metadata": {},
   "outputs": [
    {
     "data": {
      "text/plain": [
       "{'C': 'cytosine', 'U': 'uracil'}"
      ]
     },
     "execution_count": 10,
     "metadata": {},
     "output_type": "execute_result"
    }
   ],
   "source": [
    "RNA_pyrimidines = {k:RNA_bases[k] for k in RNA_bases.keys() - codes}\n",
    "RNA_pyrimidines"
   ]
  },
  {
   "cell_type": "code",
   "execution_count": 11,
   "metadata": {},
   "outputs": [
    {
     "data": {
      "text/plain": [
       "['A', 'U', 'C', 'G']"
      ]
     },
     "execution_count": 11,
     "metadata": {},
     "output_type": "execute_result"
    }
   ],
   "source": [
    "list(RNA_bases)"
   ]
  },
  {
   "cell_type": "code",
   "execution_count": 12,
   "metadata": {},
   "outputs": [
    {
     "data": {
      "text/plain": [
       "4"
      ]
     },
     "execution_count": 12,
     "metadata": {},
     "output_type": "execute_result"
    }
   ],
   "source": [
    "len(RNA_bases)"
   ]
  },
  {
   "cell_type": "code",
   "execution_count": 13,
   "metadata": {},
   "outputs": [
    {
     "data": {
      "text/plain": [
       "'A'"
      ]
     },
     "execution_count": 13,
     "metadata": {},
     "output_type": "execute_result"
    }
   ],
   "source": [
    "it = iter(RNA_bases)\n",
    "next(it)"
   ]
  },
  {
   "cell_type": "code",
   "execution_count": 14,
   "metadata": {},
   "outputs": [],
   "source": [
    "RNA_pyrimidines.get('A') #returns default None since the key is not in the dictionary"
   ]
  },
  {
   "cell_type": "code",
   "execution_count": 15,
   "metadata": {},
   "outputs": [
    {
     "data": {
      "text/plain": [
       "{0: '0x0',\n",
       " 1: '0x1',\n",
       " 2: '0x2',\n",
       " 3: '0x3',\n",
       " 4: '0x4',\n",
       " 5: '0x5',\n",
       " 6: '0x6',\n",
       " 7: '0x7',\n",
       " 8: '0x8',\n",
       " 9: '0x9',\n",
       " 10: '0xa',\n",
       " 11: '0xb',\n",
       " 12: '0xc',\n",
       " 13: '0xd',\n",
       " 14: '0xe',\n",
       " 15: '0xf',\n",
       " 16: '0x10',\n",
       " 17: '0x11',\n",
       " 18: '0x12',\n",
       " 19: '0x13',\n",
       " 20: '0x14',\n",
       " 21: '0x15',\n",
       " 22: '0x16',\n",
       " 23: '0x17',\n",
       " 24: '0x18',\n",
       " 25: '0x19',\n",
       " 26: '0x1a',\n",
       " 27: '0x1b',\n",
       " 28: '0x1c',\n",
       " 29: '0x1d',\n",
       " 30: '0x1e',\n",
       " 31: '0x1f'}"
      ]
     },
     "execution_count": 15,
     "metadata": {},
     "output_type": "execute_result"
    }
   ],
   "source": [
    "hexadecimals_extra = {x:hex(x) for x in range(16, 32)}\n",
    "hexadecimals.update(hexadecimals_extra)\n",
    "hexadecimals"
   ]
  },
  {
   "cell_type": "code",
   "execution_count": 16,
   "metadata": {},
   "outputs": [
    {
     "data": {
      "text/plain": [
       "{16, 17, 18, 19, 20, 21, 22, 23, 24, 25, 26, 27, 28, 29, 30, 31}"
      ]
     },
     "execution_count": 16,
     "metadata": {},
     "output_type": "execute_result"
    }
   ],
   "source": [
    "# Find commonalities in two dictionaries\n",
    "\n",
    "# keys in common\n",
    "hexadecimals.keys() & hexadecimals_extra.keys()"
   ]
  },
  {
   "cell_type": "code",
   "execution_count": 17,
   "metadata": {},
   "outputs": [
    {
     "data": {
      "text/plain": [
       "{('U', 'uracil')}"
      ]
     },
     "execution_count": 17,
     "metadata": {},
     "output_type": "execute_result"
    }
   ],
   "source": [
    "# (key, value) pairs not in common\n",
    "RNA_bases.items() - DNA_bases.items()"
   ]
  },
  {
   "cell_type": "markdown",
   "metadata": {},
   "source": [
    "### Specialized dictionary implementations from Python's standard library"
   ]
  },
  {
   "cell_type": "markdown",
   "metadata": {},
   "source": [
    "### **collections.defaultdict**\n",
    "\n",
    "#### dict subclass that calls a factory function to supply default values for missing keys"
   ]
  },
  {
   "cell_type": "code",
   "execution_count": 18,
   "metadata": {},
   "outputs": [
    {
     "data": {
      "text/plain": [
       "[('purine', ['A', 'G']), ('pyrimidine', ['T', 'U', 'C'])]"
      ]
     },
     "execution_count": 18,
     "metadata": {},
     "output_type": "execute_result"
    }
   ],
   "source": [
    "from collections import defaultdict\n",
    "\n",
    "nucleobases = [('purine', 'A'), ('pyrimidine', 'T'), ('pyrimidine', 'U'), ('pyrimidine', 'C'), ('purine', 'G')]\n",
    "nuc_defdict = defaultdict(list)\n",
    "\n",
    "# accessing a missing key creates it and \n",
    "# initializes it using the default factory\n",
    "# e.g. list(), set() or any callable passed to the constructor\n",
    "for k, v in nucleobases:\n",
    "    nuc_defdict[k].append(v)\n",
    "    \n",
    "sorted(nuc_defdict.items())"
   ]
  },
  {
   "cell_type": "code",
   "execution_count": 19,
   "metadata": {},
   "outputs": [
    {
     "data": {
      "text/plain": [
       "[]"
      ]
     },
     "execution_count": 19,
     "metadata": {},
     "output_type": "execute_result"
    }
   ],
   "source": [
    "# accessing an uninitialized key\n",
    "# results in default value assignment\n",
    "# here an empty list\n",
    "nuc_defdict['other_nuc']"
   ]
  },
  {
   "cell_type": "code",
   "execution_count": 20,
   "metadata": {},
   "outputs": [
    {
     "data": {
      "text/plain": [
       "'\\ndefaultdict(lambda :None)\\ndefaultdict(lambda :50)\\n\\n\\ndef defaultvalue():\\n    return 50\\n\\nother_defdict = defaultdict(defaultvalue)\\n'"
      ]
     },
     "execution_count": 20,
     "metadata": {},
     "output_type": "execute_result"
    }
   ],
   "source": [
    "'''\n",
    "defaultdict(lambda :None)\n",
    "defaultdict(lambda :50)\n",
    "\n",
    "\n",
    "def defaultvalue():\n",
    "    return 50\n",
    "\n",
    "other_defdict = defaultdict(defaultvalue)\n",
    "'''"
   ]
  },
  {
   "cell_type": "markdown",
   "metadata": {},
   "source": [
    "### **collections.OrderedDict**\n",
    "\n",
    "#### dict subclass that remembers the original insertion order of entries added to it when iterating or serializing"
   ]
  },
  {
   "cell_type": "code",
   "execution_count": 21,
   "metadata": {},
   "outputs": [],
   "source": [
    "from collections import OrderedDict\n",
    "\n",
    "gene_ids = {\"symbol\": \"http://identifiers.org/hgnc.symbol/\",\n",
    "            \"ensembl.gene\": \"http://identifiers.org/ensembl.gene/\",\n",
    "            \"ensembl.protein\": \"http://identifiers.org/ensembl.protein/\",\n",
    "            \"ensembl.transcript\": \"http://identifiers.org/ensembl.transcript/\",\n",
    "            \"go.CC.id\": \"http://identifiers.org/go/\",\n",
    "            \"go.CC.pubmed\": \"http://identifiers.org/pubmed/\",\n",
    "            \"go.MF.id\": \"http://identifiers.org/go/\",\n",
    "            \"go.MF.pubmed\": \"http://identifiers.org/pubmed/\",\n",
    "            \"go.BP.id\": \"http://identifiers.org/go/\",\n",
    "            \"go.BP.pubmed\": \"http://identifiers.org/pubmed/\",\n",
    "            \"generif.pubmed\": \"http://identifiers.org/pubmed/\",\n",
    "            \"homologene.id\": \"http://identifiers.org/homologene/\",\n",
    "            \"interpro.id\": \"http://identifiers.org/interpro/\",\n",
    "            \"pathway.biocarta.id\": \"http://identifiers.org/biocarta.pathway/\",\n",
    "            \"pathway.kegg.id\": \"http://identifiers.org/kegg.pathway/\",\n",
    "            \"pathway.pharmgkb.id\": \"http://identifiers.org/pharmgkb.pathways/\",\n",
    "            \"pathway.reactome.id\": \"http://identifiers.org/reactome/\",\n",
    "            \"pathway.sympdb.id\": \"http://identifiers.org/smpdb/\",\n",
    "            \"pathway.wikipathways.id\": \"http://identifiers.org/wikipathways/\",\n",
    "            \"refseq.genomic\": \"http://identifiers.org/refseq/\",\n",
    "            \"refseq.protein\": \"http://identifiers.org/refseq/\",\n",
    "            \"refseq.rna\": \"http://identifiers.org/refseq/\",\n",
    "            \"uniprot.Swiss-Prot\": \"http://identifiers.org/uniprot/\"\n",
    "           }\n",
    "\n",
    "gene_info_ordered = OrderedDict(gene_ids)"
   ]
  },
  {
   "cell_type": "code",
   "execution_count": 22,
   "metadata": {},
   "outputs": [
    {
     "data": {
      "text/plain": [
       "OrderedDict([('symbol', 'http://identifiers.org/hgnc.symbol/'),\n",
       "             ('ensembl.gene', 'http://identifiers.org/ensembl.gene/'),\n",
       "             ('ensembl.protein', 'http://identifiers.org/ensembl.protein/'),\n",
       "             ('ensembl.transcript',\n",
       "              'http://identifiers.org/ensembl.transcript/'),\n",
       "             ('go.CC.id', 'http://identifiers.org/go/'),\n",
       "             ('go.CC.pubmed', 'http://identifiers.org/pubmed/'),\n",
       "             ('go.MF.id', 'http://identifiers.org/go/'),\n",
       "             ('go.MF.pubmed', 'http://identifiers.org/pubmed/'),\n",
       "             ('go.BP.id', 'http://identifiers.org/go/'),\n",
       "             ('go.BP.pubmed', 'http://identifiers.org/pubmed/'),\n",
       "             ('generif.pubmed', 'http://identifiers.org/pubmed/'),\n",
       "             ('homologene.id', 'http://identifiers.org/homologene/'),\n",
       "             ('interpro.id', 'http://identifiers.org/interpro/'),\n",
       "             ('pathway.biocarta.id',\n",
       "              'http://identifiers.org/biocarta.pathway/'),\n",
       "             ('pathway.kegg.id', 'http://identifiers.org/kegg.pathway/'),\n",
       "             ('pathway.pharmgkb.id',\n",
       "              'http://identifiers.org/pharmgkb.pathways/'),\n",
       "             ('pathway.reactome.id', 'http://identifiers.org/reactome/'),\n",
       "             ('pathway.sympdb.id', 'http://identifiers.org/smpdb/'),\n",
       "             ('pathway.wikipathways.id',\n",
       "              'http://identifiers.org/wikipathways/'),\n",
       "             ('refseq.genomic', 'http://identifiers.org/refseq/'),\n",
       "             ('refseq.protein', 'http://identifiers.org/refseq/'),\n",
       "             ('refseq.rna', 'http://identifiers.org/refseq/'),\n",
       "             ('uniprot.Swiss-Prot', 'http://identifiers.org/uniprot/')])"
      ]
     },
     "execution_count": 22,
     "metadata": {},
     "output_type": "execute_result"
    }
   ],
   "source": [
    "gene_info_ordered"
   ]
  },
  {
   "cell_type": "code",
   "execution_count": 23,
   "metadata": {},
   "outputs": [
    {
     "data": {
      "text/plain": [
       "OrderedDict([('symbol', 'http://identifiers.org/hgnc.symbol/'),\n",
       "             ('ensembl.gene', 'http://identifiers.org/ensembl.gene/'),\n",
       "             ('ensembl.protein', 'http://identifiers.org/ensembl.protein/'),\n",
       "             ('ensembl.transcript',\n",
       "              'http://identifiers.org/ensembl.transcript/'),\n",
       "             ('go.CC.id', 'http://identifiers.org/go/'),\n",
       "             ('go.CC.pubmed', 'http://identifiers.org/pubmed/'),\n",
       "             ('go.MF.id', 'http://identifiers.org/go/'),\n",
       "             ('go.MF.pubmed', 'http://identifiers.org/pubmed/'),\n",
       "             ('go.BP.id', 'http://identifiers.org/go/'),\n",
       "             ('go.BP.pubmed', 'http://identifiers.org/pubmed/'),\n",
       "             ('generif.pubmed', 'some_uri'),\n",
       "             ('homologene.id', 'http://identifiers.org/homologene/'),\n",
       "             ('interpro.id', 'http://identifiers.org/interpro/'),\n",
       "             ('pathway.biocarta.id',\n",
       "              'http://identifiers.org/biocarta.pathway/'),\n",
       "             ('pathway.kegg.id', 'http://identifiers.org/kegg.pathway/'),\n",
       "             ('pathway.pharmgkb.id',\n",
       "              'http://identifiers.org/pharmgkb.pathways/'),\n",
       "             ('pathway.reactome.id', 'http://identifiers.org/reactome/'),\n",
       "             ('pathway.sympdb.id', 'http://identifiers.org/smpdb/'),\n",
       "             ('pathway.wikipathways.id',\n",
       "              'http://identifiers.org/wikipathways/'),\n",
       "             ('refseq.genomic', 'http://identifiers.org/refseq/'),\n",
       "             ('refseq.protein', 'http://identifiers.org/refseq/'),\n",
       "             ('refseq.rna', 'http://identifiers.org/refseq/'),\n",
       "             ('uniprot.Swiss-Prot', 'http://identifiers.org/uniprot/')])"
      ]
     },
     "execution_count": 23,
     "metadata": {},
     "output_type": "execute_result"
    }
   ],
   "source": [
    "# reassignment of an existing key doesn't change the order\n",
    "# OrderedDict maintains internally a doubly linked list for ordering the keys in the insertion order\n",
    "\n",
    "gene_info_ordered['generif.pubmed'] = 'some_uri'\n",
    "gene_info_ordered"
   ]
  },
  {
   "cell_type": "code",
   "execution_count": 24,
   "metadata": {},
   "outputs": [
    {
     "name": "stdout",
     "output_type": "stream",
     "text": [
      "symbol http://identifiers.org/hgnc.symbol/\n",
      "ensembl.gene http://identifiers.org/ensembl.gene/\n",
      "ensembl.protein http://identifiers.org/ensembl.protein/\n",
      "ensembl.transcript http://identifiers.org/ensembl.transcript/\n",
      "go.CC.id http://identifiers.org/go/\n",
      "go.CC.pubmed http://identifiers.org/pubmed/\n",
      "go.MF.id http://identifiers.org/go/\n",
      "go.MF.pubmed http://identifiers.org/pubmed/\n",
      "go.BP.id http://identifiers.org/go/\n",
      "go.BP.pubmed http://identifiers.org/pubmed/\n",
      "generif.pubmed some_uri\n",
      "homologene.id http://identifiers.org/homologene/\n",
      "interpro.id http://identifiers.org/interpro/\n",
      "pathway.biocarta.id http://identifiers.org/biocarta.pathway/\n",
      "pathway.kegg.id http://identifiers.org/kegg.pathway/\n",
      "pathway.pharmgkb.id http://identifiers.org/pharmgkb.pathways/\n",
      "pathway.reactome.id http://identifiers.org/reactome/\n",
      "pathway.sympdb.id http://identifiers.org/smpdb/\n",
      "pathway.wikipathways.id http://identifiers.org/wikipathways/\n",
      "refseq.genomic http://identifiers.org/refseq/\n",
      "refseq.protein http://identifiers.org/refseq/\n",
      "refseq.rna http://identifiers.org/refseq/\n",
      "uniprot.Swiss-Prot http://identifiers.org/uniprot/\n"
     ]
    }
   ],
   "source": [
    "for key in gene_info_ordered:\n",
    "    print(key, gene_info_ordered[key])"
   ]
  },
  {
   "cell_type": "code",
   "execution_count": 25,
   "metadata": {},
   "outputs": [
    {
     "data": {
      "text/plain": [
       "OrderedDict([('symbol', 'http://identifiers.org/hgnc.symbol/'),\n",
       "             ('ensembl.gene', 'http://identifiers.org/ensembl.gene/'),\n",
       "             ('ensembl.protein', 'http://identifiers.org/ensembl.protein/'),\n",
       "             ('ensembl.transcript',\n",
       "              'http://identifiers.org/ensembl.transcript/'),\n",
       "             ('go.CC.id', 'http://identifiers.org/go/'),\n",
       "             ('go.CC.pubmed', 'http://identifiers.org/pubmed/'),\n",
       "             ('go.MF.id', 'http://identifiers.org/go/'),\n",
       "             ('go.MF.pubmed', 'http://identifiers.org/pubmed/'),\n",
       "             ('go.BP.id', 'http://identifiers.org/go/'),\n",
       "             ('go.BP.pubmed', 'http://identifiers.org/pubmed/'),\n",
       "             ('generif.pubmed', 'http://identifiers.org/pubmed/'),\n",
       "             ('homologene.id', 'http://identifiers.org/homologene/'),\n",
       "             ('interpro.id', 'http://identifiers.org/interpro/'),\n",
       "             ('pathway.biocarta.id',\n",
       "              'http://identifiers.org/biocarta.pathway/'),\n",
       "             ('pathway.kegg.id', 'http://identifiers.org/kegg.pathway/'),\n",
       "             ('pathway.pharmgkb.id',\n",
       "              'http://identifiers.org/pharmgkb.pathways/'),\n",
       "             ('pathway.reactome.id', 'http://identifiers.org/reactome/'),\n",
       "             ('pathway.sympdb.id', 'http://identifiers.org/smpdb/'),\n",
       "             ('pathway.wikipathways.id',\n",
       "              'http://identifiers.org/wikipathways/'),\n",
       "             ('refseq.genomic', 'http://identifiers.org/refseq/'),\n",
       "             ('refseq.protein', 'http://identifiers.org/refseq/'),\n",
       "             ('refseq.rna', 'http://identifiers.org/refseq/'),\n",
       "             ('uniprot.Swiss-Prot', 'http://identifiers.org/uniprot/')])"
      ]
     },
     "execution_count": 25,
     "metadata": {},
     "output_type": "execute_result"
    }
   ],
   "source": [
    "gene_info_ordered['generif.pubmed'] = 'http://identifiers.org/pubmed/'\n",
    "gene_info_ordered"
   ]
  },
  {
   "cell_type": "code",
   "execution_count": 26,
   "metadata": {},
   "outputs": [
    {
     "name": "stdout",
     "output_type": "stream",
     "text": [
      "symbol http://identifiers.org/hgnc.symbol/\n",
      "ensembl.gene http://identifiers.org/ensembl.gene/\n",
      "ensembl.protein http://identifiers.org/ensembl.protein/\n",
      "ensembl.transcript http://identifiers.org/ensembl.transcript/\n",
      "go.CC.id http://identifiers.org/go/\n",
      "go.CC.pubmed http://identifiers.org/pubmed/\n",
      "go.MF.id http://identifiers.org/go/\n",
      "go.MF.pubmed http://identifiers.org/pubmed/\n",
      "go.BP.id http://identifiers.org/go/\n",
      "go.BP.pubmed http://identifiers.org/pubmed/\n",
      "generif.pubmed http://identifiers.org/pubmed/\n",
      "homologene.id http://identifiers.org/homologene/\n",
      "interpro.id http://identifiers.org/interpro/\n",
      "pathway.biocarta.id http://identifiers.org/biocarta.pathway/\n",
      "pathway.kegg.id http://identifiers.org/kegg.pathway/\n",
      "pathway.pharmgkb.id http://identifiers.org/pharmgkb.pathways/\n",
      "pathway.reactome.id http://identifiers.org/reactome/\n",
      "pathway.sympdb.id http://identifiers.org/smpdb/\n",
      "pathway.wikipathways.id http://identifiers.org/wikipathways/\n",
      "refseq.genomic http://identifiers.org/refseq/\n",
      "refseq.protein http://identifiers.org/refseq/\n",
      "refseq.rna http://identifiers.org/refseq/\n",
      "uniprot.Swiss-Prot http://identifiers.org/uniprot/\n"
     ]
    }
   ],
   "source": [
    "for key in gene_info_ordered:\n",
    "    print(key, gene_info_ordered[key])"
   ]
  },
  {
   "cell_type": "code",
   "execution_count": 27,
   "metadata": {},
   "outputs": [
    {
     "data": {
      "text/plain": [
       "'{\"symbol\": \"http://identifiers.org/hgnc.symbol/\", \"ensembl.gene\": \"http://identifiers.org/ensembl.gene/\", \"ensembl.protein\": \"http://identifiers.org/ensembl.protein/\", \"ensembl.transcript\": \"http://identifiers.org/ensembl.transcript/\", \"go.CC.id\": \"http://identifiers.org/go/\", \"go.CC.pubmed\": \"http://identifiers.org/pubmed/\", \"go.MF.id\": \"http://identifiers.org/go/\", \"go.MF.pubmed\": \"http://identifiers.org/pubmed/\", \"go.BP.id\": \"http://identifiers.org/go/\", \"go.BP.pubmed\": \"http://identifiers.org/pubmed/\", \"generif.pubmed\": \"http://identifiers.org/pubmed/\", \"homologene.id\": \"http://identifiers.org/homologene/\", \"interpro.id\": \"http://identifiers.org/interpro/\", \"pathway.biocarta.id\": \"http://identifiers.org/biocarta.pathway/\", \"pathway.kegg.id\": \"http://identifiers.org/kegg.pathway/\", \"pathway.pharmgkb.id\": \"http://identifiers.org/pharmgkb.pathways/\", \"pathway.reactome.id\": \"http://identifiers.org/reactome/\", \"pathway.sympdb.id\": \"http://identifiers.org/smpdb/\", \"pathway.wikipathways.id\": \"http://identifiers.org/wikipathways/\", \"refseq.genomic\": \"http://identifiers.org/refseq/\", \"refseq.protein\": \"http://identifiers.org/refseq/\", \"refseq.rna\": \"http://identifiers.org/refseq/\", \"uniprot.Swiss-Prot\": \"http://identifiers.org/uniprot/\"}'"
      ]
     },
     "execution_count": 27,
     "metadata": {},
     "output_type": "execute_result"
    }
   ],
   "source": [
    "# control the order of fields in a JSON encoding\n",
    "# using the data contained in an OrderedDict\n",
    "\n",
    "import json\n",
    "json.dumps(gene_info_ordered)"
   ]
  },
  {
   "cell_type": "code",
   "execution_count": 28,
   "metadata": {},
   "outputs": [
    {
     "data": {
      "text/plain": [
       "'http://identifiers.org/pubmed/'"
      ]
     },
     "execution_count": 28,
     "metadata": {},
     "output_type": "execute_result"
    }
   ],
   "source": [
    "#delete\n",
    "removed = gene_info_ordered.pop('generif.pubmed')\n",
    "removed"
   ]
  },
  {
   "cell_type": "code",
   "execution_count": 29,
   "metadata": {},
   "outputs": [
    {
     "data": {
      "text/plain": [
       "OrderedDict([('symbol', 'http://identifiers.org/hgnc.symbol/'),\n",
       "             ('ensembl.gene', 'http://identifiers.org/ensembl.gene/'),\n",
       "             ('ensembl.protein', 'http://identifiers.org/ensembl.protein/'),\n",
       "             ('ensembl.transcript',\n",
       "              'http://identifiers.org/ensembl.transcript/'),\n",
       "             ('go.CC.id', 'http://identifiers.org/go/'),\n",
       "             ('go.CC.pubmed', 'http://identifiers.org/pubmed/'),\n",
       "             ('go.MF.id', 'http://identifiers.org/go/'),\n",
       "             ('go.MF.pubmed', 'http://identifiers.org/pubmed/'),\n",
       "             ('go.BP.id', 'http://identifiers.org/go/'),\n",
       "             ('go.BP.pubmed', 'http://identifiers.org/pubmed/'),\n",
       "             ('homologene.id', 'http://identifiers.org/homologene/'),\n",
       "             ('interpro.id', 'http://identifiers.org/interpro/'),\n",
       "             ('pathway.biocarta.id',\n",
       "              'http://identifiers.org/biocarta.pathway/'),\n",
       "             ('pathway.kegg.id', 'http://identifiers.org/kegg.pathway/'),\n",
       "             ('pathway.pharmgkb.id',\n",
       "              'http://identifiers.org/pharmgkb.pathways/'),\n",
       "             ('pathway.reactome.id', 'http://identifiers.org/reactome/'),\n",
       "             ('pathway.sympdb.id', 'http://identifiers.org/smpdb/'),\n",
       "             ('pathway.wikipathways.id',\n",
       "              'http://identifiers.org/wikipathways/'),\n",
       "             ('refseq.genomic', 'http://identifiers.org/refseq/'),\n",
       "             ('refseq.protein', 'http://identifiers.org/refseq/'),\n",
       "             ('refseq.rna', 'http://identifiers.org/refseq/'),\n",
       "             ('uniprot.Swiss-Prot', 'http://identifiers.org/uniprot/')])"
      ]
     },
     "execution_count": 29,
     "metadata": {},
     "output_type": "execute_result"
    }
   ],
   "source": [
    "gene_info_ordered"
   ]
  },
  {
   "cell_type": "code",
   "execution_count": 30,
   "metadata": {},
   "outputs": [
    {
     "data": {
      "text/plain": [
       "OrderedDict([('symbol', 'http://identifiers.org/hgnc.symbol/'),\n",
       "             ('ensembl.gene', 'http://identifiers.org/ensembl.gene/'),\n",
       "             ('ensembl.protein', 'http://identifiers.org/ensembl.protein/'),\n",
       "             ('ensembl.transcript',\n",
       "              'http://identifiers.org/ensembl.transcript/'),\n",
       "             ('go.CC.id', 'http://identifiers.org/go/'),\n",
       "             ('go.CC.pubmed', 'http://identifiers.org/pubmed/'),\n",
       "             ('go.MF.id', 'http://identifiers.org/go/'),\n",
       "             ('go.MF.pubmed', 'http://identifiers.org/pubmed/'),\n",
       "             ('go.BP.id', 'http://identifiers.org/go/'),\n",
       "             ('go.BP.pubmed', 'http://identifiers.org/pubmed/'),\n",
       "             ('homologene.id', 'http://identifiers.org/homologene/'),\n",
       "             ('interpro.id', 'http://identifiers.org/interpro/'),\n",
       "             ('pathway.biocarta.id',\n",
       "              'http://identifiers.org/biocarta.pathway/'),\n",
       "             ('pathway.kegg.id', 'http://identifiers.org/kegg.pathway/'),\n",
       "             ('pathway.pharmgkb.id',\n",
       "              'http://identifiers.org/pharmgkb.pathways/'),\n",
       "             ('pathway.reactome.id', 'http://identifiers.org/reactome/'),\n",
       "             ('pathway.sympdb.id', 'http://identifiers.org/smpdb/'),\n",
       "             ('pathway.wikipathways.id',\n",
       "              'http://identifiers.org/wikipathways/'),\n",
       "             ('refseq.genomic', 'http://identifiers.org/refseq/'),\n",
       "             ('refseq.protein', 'http://identifiers.org/refseq/'),\n",
       "             ('refseq.rna', 'http://identifiers.org/refseq/'),\n",
       "             ('uniprot.Swiss-Prot', 'http://identifiers.org/uniprot/'),\n",
       "             ('generif.pubmed', 'http://identifiers.org/pubmed/')])"
      ]
     },
     "execution_count": 30,
     "metadata": {},
     "output_type": "execute_result"
    }
   ],
   "source": [
    "# insert\n",
    "gene_info_ordered['generif.pubmed'] = 'http://identifiers.org/pubmed/'\n",
    "gene_info_ordered"
   ]
  },
  {
   "cell_type": "markdown",
   "metadata": {},
   "source": [
    "### **collections.Counter**\n",
    "\n",
    "#### dict subclass for counting hashable objects\n",
    "\n",
    "#### a dictionary that maps the hashable input items to the number of occurrences\n",
    "\n",
    "#### Counter instances can be combined using various mathematical operations"
   ]
  },
  {
   "cell_type": "code",
   "execution_count": 32,
   "metadata": {},
   "outputs": [
    {
     "data": {
      "text/plain": [
       "Counter({'C': 292, 'A': 146, 'G': 204, 'T': 130})"
      ]
     },
     "execution_count": 32,
     "metadata": {},
     "output_type": "execute_result"
    }
   ],
   "source": [
    "from collections import Counter\n",
    "\n",
    "seq = 'CAGCCTCCCGCGACGATGCCCCTCAACGTTAGCTTCACCAACAGGAACTATGACCTCGAC\\\n",
    "TACGACTCGGTGCAGCCGTATTTCTACTGCGACGAGGAGGAGAACTTCTACCAGCAGCAG\\\n",
    "CAGCAGAGCGAGCTGCAGCCCCCGGCGCCCAGCGAGGATATCTGGAAGAAATTCGAGCTG\\\n",
    "CTGCCCACCCCGCCCCTGTCCCCTAGCCGCCGCTCCGGGCTCTGCTCGCCCTCCTACGTT\\\n",
    "GCGGTCACACCCTTCTCCCTTCGGGGAGACAACGACGGCGGTGGCGGGAGCTTCTCCACG\\\n",
    "GCCGACCAGCTGGAGATGGTGACCGAGCTGCTGGGAGGAGACATGGTGAACCAGAGTTTC\\\n",
    "ATCTGCGACCCGGACGACGAGACCTTCATCAAAAACATCATCATCCAGGACTGTATGTGG\\\n",
    "AGCGGCTTCTCGGCCGCCGCCAAGCTCGTCTCAGAGAAGCTGGCCTCCTACCAGGCTGCG\\\n",
    "CGCAAAGACAGCGGCAGCCCGAACCCCGCCCGCGGCCACAGCGTCTGCTCCACCTCCAGC\\\n",
    "TTGTACCTGCAGGATCTGAGCGCCGCCGCCTCAGAGTGCATCGACCCCTCGGTGGTCTTC\\\n",
    "CCCTACCCTCTCAACGACAGCAGCTCGCCCAAGTCCTGCGCCTCGCAAGACTCCAGCGCC\\\n",
    "TTCTCTCCGTCCTCGGATTCTCTGCTCTCCTCGACGGAGTCCTCCCCGCAGGGCAGCCCC\\\n",
    "GAGCCCCTGGTGCTCCATGAGGAGACACCGCCCACCACCAGCAGCGACTCTG'\n",
    "\n",
    "counts = Counter(seq)\n",
    "counts"
   ]
  },
  {
   "cell_type": "code",
   "execution_count": 33,
   "metadata": {},
   "outputs": [
    {
     "data": {
      "text/plain": [
       "[('C', 292), ('G', 204)]"
      ]
     },
     "execution_count": 33,
     "metadata": {},
     "output_type": "execute_result"
    }
   ],
   "source": [
    "# two most frequently occuring items in the seq\n",
    "counts.most_common(2)"
   ]
  },
  {
   "cell_type": "markdown",
   "metadata": {},
   "source": [
    "### **collections.ChainMap**\n",
    "\n",
    "#### dict-like class for creating a single, updatable view of multiple mappings\n",
    "\n",
    "#### underlying mappings, stored in a list, are successively scanned till a key is found\n",
    "\n",
    "#### operations that alter the mappings always affect the first mapping listed"
   ]
  },
  {
   "cell_type": "code",
   "execution_count": 34,
   "metadata": {},
   "outputs": [
    {
     "name": "stdout",
     "output_type": "stream",
     "text": [
      "T\n",
      "A\n",
      "11\n",
      "['pos1', 'pos2', 'pos3', 'pos4', 'pos5', 'pos6', 'pos7', 'pos8', 'pos9', 'pos10', 'pos11']\n",
      "['T', 'A', 'T', 'T', 'G', 'C', 'A', 'C', 'A', 'A', 'T']\n",
      "First mapping:  {'pos2': 'A', 'pos3': 'T', 'pos4': 'T', 'pos5': 'G', 'pos6': 'C', 'pos7': 'A', 'pos8': 'C', 'pos9': 'A', 'pos10': 'A'}\n",
      "Altered first mapping:  {'pos3': 'T', 'pos4': 'T', 'pos5': 'G', 'pos6': 'C', 'pos7': 'A', 'pos8': 'C', 'pos9': 'A', 'pos10': 'A'}\n",
      "Error trying to alter the second mapping:  \"Key not found in the first mapping: 'pos2'\"\n",
      "['pos2', 'pos3', 'pos4', 'pos5', 'pos6', 'pos7', 'pos8', 'pos9', 'pos10']\n"
     ]
    }
   ],
   "source": [
    "from collections import ChainMap\n",
    "\n",
    "binding_motif_core = {'pos2': 'A', 'pos3': 'T', 'pos4': 'T', 'pos5': 'G', 'pos6': 'C', \n",
    "                      'pos7': 'A', 'pos8': 'C', 'pos9': 'A', 'pos10': 'A'}\n",
    "\n",
    "binding_motif_extended_variant = {'pos1': 'T', 'pos2': 'G', 'pos3': 'T', 'pos4': 'T', 'pos5': 'T', 'pos6': 'C', \n",
    "                      'pos7': 'G', 'pos8': 'T', 'pos9': 'C', 'pos10': 'A', 'pos11': 'T'}\n",
    "\n",
    "binding_motif = ChainMap(binding_motif_core, binding_motif_extended_variant)\n",
    " \n",
    "print(binding_motif['pos1'])    # from extended variant\n",
    "print(binding_motif['pos2'])    # from core\n",
    "\n",
    "print(len(binding_motif))\n",
    "print(list(binding_motif.keys()))\n",
    "print(list(binding_motif.values()))\n",
    "\n",
    "print(\"First mapping: \", binding_motif_core)\n",
    "del binding_motif['pos2']\n",
    "print(\"Altered first mapping: \", binding_motif_core)\n",
    "\n",
    "try:\n",
    "    del binding_motif['pos2']\n",
    "except KeyError as err:\n",
    "    print(\"Error trying to alter the second mapping: \", err)\n",
    "    \n",
    "binding_motif['pos2'] = 'A'\n",
    "print(sorted(binding_motif_core, key=lambda x: int(x[3:])))"
   ]
  },
  {
   "cell_type": "markdown",
   "metadata": {},
   "source": [
    "![TF_Sequence_Logo](https://jaspar.genereg.net/static/logos/all/svg/MA0466.1.svg)"
   ]
  },
  {
   "cell_type": "markdown",
   "metadata": {},
   "source": [
    "### **types.MappingProxyType**\n",
    "\n",
    "#### wrapper for creating immutable versions of dictionaries"
   ]
  },
  {
   "cell_type": "code",
   "execution_count": 35,
   "metadata": {},
   "outputs": [
    {
     "name": "stdout",
     "output_type": "stream",
     "text": [
      "thymine\n"
     ]
    },
    {
     "ename": "TypeError",
     "evalue": "'mappingproxy' object does not support item assignment",
     "output_type": "error",
     "traceback": [
      "\u001b[1;31m---------------------------------------------------------------------------\u001b[0m",
      "\u001b[1;31mTypeError\u001b[0m                                 Traceback (most recent call last)",
      "\u001b[1;32m<ipython-input-35-38e2ada4b6fc>\u001b[0m in \u001b[0;36m<module>\u001b[1;34m\u001b[0m\n\u001b[0;32m      5\u001b[0m \u001b[0mprint\u001b[0m\u001b[1;33m(\u001b[0m\u001b[0mDNA_bases_read_only\u001b[0m\u001b[1;33m[\u001b[0m\u001b[1;34m'T'\u001b[0m\u001b[1;33m]\u001b[0m\u001b[1;33m)\u001b[0m\u001b[1;33m\u001b[0m\u001b[1;33m\u001b[0m\u001b[0m\n\u001b[0;32m      6\u001b[0m \u001b[1;33m\u001b[0m\u001b[0m\n\u001b[1;32m----> 7\u001b[1;33m \u001b[0mDNA_bases_read_only\u001b[0m\u001b[1;33m[\u001b[0m\u001b[1;34m'T'\u001b[0m\u001b[1;33m]\u001b[0m \u001b[1;33m=\u001b[0m \u001b[1;34m'uracil'\u001b[0m    \u001b[1;31m#invalid\u001b[0m\u001b[1;33m\u001b[0m\u001b[1;33m\u001b[0m\u001b[0m\n\u001b[0m",
      "\u001b[1;31mTypeError\u001b[0m: 'mappingproxy' object does not support item assignment"
     ]
    }
   ],
   "source": [
    "from types import MappingProxyType\n",
    "\n",
    "DNA_bases_read_only = MappingProxyType(DNA_bases)\n",
    "\n",
    "print(DNA_bases_read_only['T'])\n",
    "\n",
    "DNA_bases_read_only['T'] = 'uracil'    #invalid"
   ]
  },
  {
   "cell_type": "markdown",
   "metadata": {},
   "source": [
    "![DNA_RNA_cartoon.png](./Images/DNA_RNA_cartoon.png)"
   ]
  },
  {
   "cell_type": "markdown",
   "metadata": {},
   "source": [
    "## 2. Array Data Structures\n",
    "\n",
    "#### * Arrays are contiguous (not linked) data structures that store information in adjoining blocks of memory.\n",
    "\n",
    "#### * Arrays consist of fixed-size data records that allow each element to be efficiently located based in its index.\n",
    "\n",
    "#### * *O(1)* time complexity for accessing an element by its index. "
   ]
  },
  {
   "cell_type": "markdown",
   "metadata": {},
   "source": [
    "### **list**\n",
    "\n",
    "#### *ordered* and *mutable* dynamic arrays\n",
    "\n",
    "#### elements can be added or removed and the list will automatically adjust the storage by allocating or releasing memory\n",
    "\n",
    "#### can hold elements of arbitrary data types \n",
    "\n",
    "#### less tightly packed than a types array, takes up more space"
   ]
  },
  {
   "cell_type": "code",
   "execution_count": 36,
   "metadata": {},
   "outputs": [
    {
     "data": {
      "text/plain": [
       "[<function min>,\n",
       " <function max>,\n",
       " type,\n",
       " <function scipy.stats.stats.describe(a, axis=0, ddof=1, bias=True, nan_policy='propagate')>,\n",
       " [0, 1, 1, 2, 3, 5, 8]]"
      ]
     },
     "execution_count": 36,
     "metadata": {},
     "output_type": "execute_result"
    }
   ],
   "source": [
    "from scipy import stats\n",
    "\n",
    "arr = [min, max, type, stats.describe, [0, 1, 1, 2, 3, 5, 8]]\n",
    "arr"
   ]
  },
  {
   "cell_type": "code",
   "execution_count": 37,
   "metadata": {},
   "outputs": [
    {
     "data": {
      "text/plain": [
       "<function min>"
      ]
     },
     "execution_count": 37,
     "metadata": {},
     "output_type": "execute_result"
    }
   ],
   "source": [
    "arr[0]"
   ]
  },
  {
   "cell_type": "code",
   "execution_count": 38,
   "metadata": {},
   "outputs": [
    {
     "data": {
      "text/plain": [
       "[0, 1, 1, 2, 3, 5, 8]"
      ]
     },
     "execution_count": 38,
     "metadata": {},
     "output_type": "execute_result"
    }
   ],
   "source": [
    "arr[-1]"
   ]
  },
  {
   "cell_type": "code",
   "execution_count": 39,
   "metadata": {},
   "outputs": [
    {
     "data": {
      "text/plain": [
       "8"
      ]
     },
     "execution_count": 39,
     "metadata": {},
     "output_type": "execute_result"
    }
   ],
   "source": [
    "arr[1](arr[-1])"
   ]
  },
  {
   "cell_type": "code",
   "execution_count": 40,
   "metadata": {},
   "outputs": [
    {
     "data": {
      "text/plain": [
       "list"
      ]
     },
     "execution_count": 40,
     "metadata": {},
     "output_type": "execute_result"
    }
   ],
   "source": [
    "arr[2](arr[-1])"
   ]
  },
  {
   "cell_type": "code",
   "execution_count": 41,
   "metadata": {},
   "outputs": [],
   "source": [
    "arr[4].append(13)"
   ]
  },
  {
   "cell_type": "code",
   "execution_count": 42,
   "metadata": {},
   "outputs": [
    {
     "data": {
      "text/plain": [
       "[<function min>,\n",
       " <function max>,\n",
       " type,\n",
       " <function scipy.stats.stats.describe(a, axis=0, ddof=1, bias=True, nan_policy='propagate')>,\n",
       " [0, 1, 1, 2, 3, 5, 8, 13]]"
      ]
     },
     "execution_count": 42,
     "metadata": {},
     "output_type": "execute_result"
    }
   ],
   "source": [
    "arr"
   ]
  },
  {
   "cell_type": "code",
   "execution_count": 43,
   "metadata": {},
   "outputs": [
    {
     "data": {
      "text/plain": [
       "DescribeResult(nobs=8, minmax=(0, 13), mean=4.125, variance=19.553571428571427, skewness=1.0874194280027905, kurtosis=-0.03979733533495944)"
      ]
     },
     "execution_count": 43,
     "metadata": {},
     "output_type": "execute_result"
    }
   ],
   "source": [
    "arr[-2](arr[-1])"
   ]
  },
  {
   "cell_type": "code",
   "execution_count": 44,
   "metadata": {},
   "outputs": [
    {
     "data": {
      "text/plain": [
       "[13, 8, 5, 3, 2, 1, 1, 0]"
      ]
     },
     "execution_count": 44,
     "metadata": {},
     "output_type": "execute_result"
    }
   ],
   "source": [
    "arr[-1][::-1]"
   ]
  },
  {
   "cell_type": "code",
   "execution_count": 45,
   "metadata": {},
   "outputs": [
    {
     "data": {
      "text/plain": [
       "[<function min>,\n",
       " <function max>,\n",
       " type,\n",
       " <function scipy.stats.stats.describe(a, axis=0, ddof=1, bias=True, nan_policy='propagate')>,\n",
       " [0, 1, 1, 2, 3, 5, 8, 13],\n",
       " <function numpy.mean(a, axis=None, dtype=None, out=None, keepdims=<no value>)>,\n",
       " <function numpy.std(a, axis=None, dtype=None, out=None, ddof=0, keepdims=<no value>)>]"
      ]
     },
     "execution_count": 45,
     "metadata": {},
     "output_type": "execute_result"
    }
   ],
   "source": [
    "from numpy import mean, std\n",
    "\n",
    "arr.append(mean)\n",
    "arr.append(std)\n",
    "\n",
    "arr"
   ]
  },
  {
   "cell_type": "code",
   "execution_count": 46,
   "metadata": {},
   "outputs": [
    {
     "data": {
      "text/plain": [
       "4.125"
      ]
     },
     "execution_count": 46,
     "metadata": {},
     "output_type": "execute_result"
    }
   ],
   "source": [
    "arr[-2](arr[-3])"
   ]
  },
  {
   "cell_type": "code",
   "execution_count": 47,
   "metadata": {},
   "outputs": [
    {
     "data": {
      "text/plain": [
       "[0, 3, 6]"
      ]
     },
     "execution_count": 47,
     "metadata": {},
     "output_type": "execute_result"
    }
   ],
   "source": [
    "# a list comprehension\n",
    "[idx for idx, item in enumerate(arr[-3]) if item % 2 == 0]"
   ]
  },
  {
   "cell_type": "markdown",
   "metadata": {},
   "source": [
    "### **tuple**\n",
    "\n",
    "#### *immutable* \n",
    "\n",
    "#### elements can't be added or removed dynamically \n",
    "\n",
    "#### elements are defined at creation time\n",
    "\n",
    "#### can hold elements of arbitrary data types "
   ]
  },
  {
   "cell_type": "code",
   "execution_count": 48,
   "metadata": {},
   "outputs": [
    {
     "data": {
      "text/plain": [
       "('A', 'T', 'G')"
      ]
     },
     "execution_count": 48,
     "metadata": {},
     "output_type": "execute_result"
    }
   ],
   "source": [
    "arr = 'A', 'T', 'G'\n",
    "arr"
   ]
  },
  {
   "cell_type": "code",
   "execution_count": 49,
   "metadata": {},
   "outputs": [
    {
     "ename": "TypeError",
     "evalue": "'tuple' object does not support item assignment",
     "output_type": "error",
     "traceback": [
      "\u001b[1;31m---------------------------------------------------------------------------\u001b[0m",
      "\u001b[1;31mTypeError\u001b[0m                                 Traceback (most recent call last)",
      "\u001b[1;32m<ipython-input-49-174d7474df3e>\u001b[0m in \u001b[0;36m<module>\u001b[1;34m\u001b[0m\n\u001b[1;32m----> 1\u001b[1;33m \u001b[0marr\u001b[0m\u001b[1;33m[\u001b[0m\u001b[1;36m0\u001b[0m\u001b[1;33m]\u001b[0m \u001b[1;33m=\u001b[0m\u001b[1;34m'T'\u001b[0m\u001b[1;33m\u001b[0m\u001b[1;33m\u001b[0m\u001b[0m\n\u001b[0m",
      "\u001b[1;31mTypeError\u001b[0m: 'tuple' object does not support item assignment"
     ]
    }
   ],
   "source": [
    "arr[0] ='T'"
   ]
  },
  {
   "cell_type": "code",
   "execution_count": 50,
   "metadata": {},
   "outputs": [
    {
     "ename": "TypeError",
     "evalue": "'tuple' object doesn't support item deletion",
     "output_type": "error",
     "traceback": [
      "\u001b[1;31m---------------------------------------------------------------------------\u001b[0m",
      "\u001b[1;31mTypeError\u001b[0m                                 Traceback (most recent call last)",
      "\u001b[1;32m<ipython-input-50-f025312b9eb0>\u001b[0m in \u001b[0;36m<module>\u001b[1;34m\u001b[0m\n\u001b[1;32m----> 1\u001b[1;33m \u001b[1;32mdel\u001b[0m \u001b[0marr\u001b[0m\u001b[1;33m[\u001b[0m\u001b[1;36m0\u001b[0m\u001b[1;33m]\u001b[0m\u001b[1;33m\u001b[0m\u001b[1;33m\u001b[0m\u001b[0m\n\u001b[0m",
      "\u001b[1;31mTypeError\u001b[0m: 'tuple' object doesn't support item deletion"
     ]
    }
   ],
   "source": [
    "del arr[0]"
   ]
  },
  {
   "cell_type": "code",
   "execution_count": 51,
   "metadata": {},
   "outputs": [
    {
     "ename": "AttributeError",
     "evalue": "'tuple' object has no attribute 'append'",
     "output_type": "error",
     "traceback": [
      "\u001b[1;31m---------------------------------------------------------------------------\u001b[0m",
      "\u001b[1;31mAttributeError\u001b[0m                            Traceback (most recent call last)",
      "\u001b[1;32m<ipython-input-51-245fc5e2a7b4>\u001b[0m in \u001b[0;36m<module>\u001b[1;34m\u001b[0m\n\u001b[1;32m----> 1\u001b[1;33m \u001b[0marr\u001b[0m\u001b[1;33m.\u001b[0m\u001b[0mappend\u001b[0m\u001b[1;33m(\u001b[0m\u001b[1;34m'T'\u001b[0m\u001b[1;33m)\u001b[0m\u001b[1;33m\u001b[0m\u001b[1;33m\u001b[0m\u001b[0m\n\u001b[0m",
      "\u001b[1;31mAttributeError\u001b[0m: 'tuple' object has no attribute 'append'"
     ]
    }
   ],
   "source": [
    "arr.append('T')"
   ]
  },
  {
   "cell_type": "code",
   "execution_count": 52,
   "metadata": {},
   "outputs": [
    {
     "data": {
      "text/plain": [
       "('A', 'T', 'G', 'A')"
      ]
     },
     "execution_count": 52,
     "metadata": {},
     "output_type": "execute_result"
    }
   ],
   "source": [
    "# adding elements creates a copy of the tuple\n",
    "arr + ('A',)"
   ]
  },
  {
   "cell_type": "markdown",
   "metadata": {},
   "source": [
    "### **array.array**\n",
    "\n",
    "#### *mutable space-efficient typed* arrays \n",
    "\n",
    "#### store characters, integer or floating point numeric data types\n",
    "\n",
    "#### the *type* is specified at creation time using a single character *typecode*"
   ]
  },
  {
   "cell_type": "code",
   "execution_count": 54,
   "metadata": {},
   "outputs": [
    {
     "name": "stdout",
     "output_type": "stream",
     "text": [
      "Help on class array in module array:\n",
      "\n",
      "class array(builtins.object)\n",
      " |  array(typecode [, initializer]) -> array\n",
      " |  \n",
      " |  Return a new array whose items are restricted by typecode, and\n",
      " |  initialized from the optional initializer value, which must be a list,\n",
      " |  string or iterable over elements of the appropriate type.\n",
      " |  \n",
      " |  Arrays represent basic values and behave very much like lists, except\n",
      " |  the type of objects stored in them is constrained. The type is specified\n",
      " |  at object creation time by using a type code, which is a single character.\n",
      " |  The following type codes are defined:\n",
      " |  \n",
      " |      Type code   C Type             Minimum size in bytes \n",
      " |      'b'         signed integer     1 \n",
      " |      'B'         unsigned integer   1 \n",
      " |      'u'         Unicode character  2 (see note) \n",
      " |      'h'         signed integer     2 \n",
      " |      'H'         unsigned integer   2 \n",
      " |      'i'         signed integer     2 \n",
      " |      'I'         unsigned integer   2 \n",
      " |      'l'         signed integer     4 \n",
      " |      'L'         unsigned integer   4 \n",
      " |      'q'         signed integer     8 (see note) \n",
      " |      'Q'         unsigned integer   8 (see note) \n",
      " |      'f'         floating point     4 \n",
      " |      'd'         floating point     8 \n",
      " |  \n",
      " |  NOTE: The 'u' typecode corresponds to Python's unicode character. On \n",
      " |  narrow builds this is 2-bytes on wide builds this is 4-bytes.\n",
      " |  \n",
      " |  NOTE: The 'q' and 'Q' type codes are only available if the platform \n",
      " |  C compiler used to build Python supports 'long long', or, on Windows, \n",
      " |  '__int64'.\n",
      " |  \n",
      " |  Methods:\n",
      " |  \n",
      " |  append() -- append a new item to the end of the array\n",
      " |  buffer_info() -- return information giving the current memory info\n",
      " |  byteswap() -- byteswap all the items of the array\n",
      " |  count() -- return number of occurrences of an object\n",
      " |  extend() -- extend array by appending multiple elements from an iterable\n",
      " |  fromfile() -- read items from a file object\n",
      " |  fromlist() -- append items from the list\n",
      " |  frombytes() -- append items from the string\n",
      " |  index() -- return index of first occurrence of an object\n",
      " |  insert() -- insert a new item into the array at a provided position\n",
      " |  pop() -- remove and return item (default last)\n",
      " |  remove() -- remove first occurrence of an object\n",
      " |  reverse() -- reverse the order of the items in the array\n",
      " |  tofile() -- write all items to a file object\n",
      " |  tolist() -- return the array converted to an ordinary list\n",
      " |  tobytes() -- return the array converted to a string\n",
      " |  \n",
      " |  Attributes:\n",
      " |  \n",
      " |  typecode -- the typecode character used to create the array\n",
      " |  itemsize -- the length in bytes of one array item\n",
      " |  \n",
      " |  Methods defined here:\n",
      " |  \n",
      " |  __add__(self, value, /)\n",
      " |      Return self+value.\n",
      " |  \n",
      " |  __contains__(self, key, /)\n",
      " |      Return key in self.\n",
      " |  \n",
      " |  __copy__(self, /)\n",
      " |      Return a copy of the array.\n",
      " |  \n",
      " |  __deepcopy__(self, unused, /)\n",
      " |      Return a copy of the array.\n",
      " |  \n",
      " |  __delitem__(self, key, /)\n",
      " |      Delete self[key].\n",
      " |  \n",
      " |  __eq__(self, value, /)\n",
      " |      Return self==value.\n",
      " |  \n",
      " |  __ge__(self, value, /)\n",
      " |      Return self>=value.\n",
      " |  \n",
      " |  __getattribute__(self, name, /)\n",
      " |      Return getattr(self, name).\n",
      " |  \n",
      " |  __getitem__(self, key, /)\n",
      " |      Return self[key].\n",
      " |  \n",
      " |  __gt__(self, value, /)\n",
      " |      Return self>value.\n",
      " |  \n",
      " |  __iadd__(self, value, /)\n",
      " |      Implement self+=value.\n",
      " |  \n",
      " |  __imul__(self, value, /)\n",
      " |      Implement self*=value.\n",
      " |  \n",
      " |  __iter__(self, /)\n",
      " |      Implement iter(self).\n",
      " |  \n",
      " |  __le__(self, value, /)\n",
      " |      Return self<=value.\n",
      " |  \n",
      " |  __len__(self, /)\n",
      " |      Return len(self).\n",
      " |  \n",
      " |  __lt__(self, value, /)\n",
      " |      Return self<value.\n",
      " |  \n",
      " |  __mul__(self, value, /)\n",
      " |      Return self*value.\n",
      " |  \n",
      " |  __ne__(self, value, /)\n",
      " |      Return self!=value.\n",
      " |  \n",
      " |  __reduce_ex__(self, value, /)\n",
      " |      Return state information for pickling.\n",
      " |  \n",
      " |  __repr__(self, /)\n",
      " |      Return repr(self).\n",
      " |  \n",
      " |  __rmul__(self, value, /)\n",
      " |      Return value*self.\n",
      " |  \n",
      " |  __setitem__(self, key, value, /)\n",
      " |      Set self[key] to value.\n",
      " |  \n",
      " |  __sizeof__(self, /)\n",
      " |      Size of the array in memory, in bytes.\n",
      " |  \n",
      " |  append(self, v, /)\n",
      " |      Append new value v to the end of the array.\n",
      " |  \n",
      " |  buffer_info(self, /)\n",
      " |      Return a tuple (address, length) giving the current memory address and the length in items of the buffer used to hold array's contents.\n",
      " |      \n",
      " |      The length should be multiplied by the itemsize attribute to calculate\n",
      " |      the buffer length in bytes.\n",
      " |  \n",
      " |  byteswap(self, /)\n",
      " |      Byteswap all items of the array.\n",
      " |      \n",
      " |      If the items in the array are not 1, 2, 4, or 8 bytes in size, RuntimeError is\n",
      " |      raised.\n",
      " |  \n",
      " |  count(self, v, /)\n",
      " |      Return number of occurrences of v in the array.\n",
      " |  \n",
      " |  extend(self, bb, /)\n",
      " |      Append items to the end of the array.\n",
      " |  \n",
      " |  frombytes(self, buffer, /)\n",
      " |      Appends items from the string, interpreting it as an array of machine values, as if it had been read from a file using the fromfile() method).\n",
      " |  \n",
      " |  fromfile(self, f, n, /)\n",
      " |      Read n objects from the file object f and append them to the end of the array.\n",
      " |  \n",
      " |  fromlist(self, list, /)\n",
      " |      Append items to array from list.\n",
      " |  \n",
      " |  fromstring(self, buffer, /)\n",
      " |      Appends items from the string, interpreting it as an array of machine values, as if it had been read from a file using the fromfile() method).\n",
      " |      \n",
      " |      This method is deprecated. Use frombytes instead.\n",
      " |  \n",
      " |  fromunicode(self, ustr, /)\n",
      " |      Extends this array with data from the unicode string ustr.\n",
      " |      \n",
      " |      The array must be a unicode type array; otherwise a ValueError is raised.\n",
      " |      Use array.frombytes(ustr.encode(...)) to append Unicode data to an array of\n",
      " |      some other type.\n",
      " |  \n",
      " |  index(self, v, /)\n",
      " |      Return index of first occurrence of v in the array.\n",
      " |  \n",
      " |  insert(self, i, v, /)\n",
      " |      Insert a new item v into the array before position i.\n",
      " |  \n",
      " |  pop(self, i=-1, /)\n",
      " |      Return the i-th element and delete it from the array.\n",
      " |      \n",
      " |      i defaults to -1.\n",
      " |  \n",
      " |  remove(self, v, /)\n",
      " |      Remove the first occurrence of v in the array.\n",
      " |  \n",
      " |  reverse(self, /)\n",
      " |      Reverse the order of the items in the array.\n",
      " |  \n",
      " |  tobytes(self, /)\n",
      " |      Convert the array to an array of machine values and return the bytes representation.\n",
      " |  \n",
      " |  tofile(self, f, /)\n",
      " |      Write all items (as machine values) to the file object f.\n",
      " |  \n",
      " |  tolist(self, /)\n",
      " |      Convert array to an ordinary list with the same items.\n",
      " |  \n",
      " |  tostring(self, /)\n",
      " |      Convert the array to an array of machine values and return the bytes representation.\n",
      " |      \n",
      " |      This method is deprecated. Use tobytes instead.\n",
      " |  \n",
      " |  tounicode(self, /)\n",
      " |      Extends this array with data from the unicode string ustr.\n",
      " |      \n",
      " |      Convert the array to a unicode string.  The array must be a unicode type array;\n",
      " |      otherwise a ValueError is raised.  Use array.tobytes().decode() to obtain a\n",
      " |      unicode string from an array of some other type.\n",
      " |  \n",
      " |  ----------------------------------------------------------------------\n",
      " |  Static methods defined here:\n",
      " |  \n",
      " |  __new__(*args, **kwargs) from builtins.type\n",
      " |      Create and return a new object.  See help(type) for accurate signature.\n",
      " |  \n",
      " |  ----------------------------------------------------------------------\n",
      " |  Data descriptors defined here:\n",
      " |  \n",
      " |  itemsize\n",
      " |      the size, in bytes, of one array item\n",
      " |  \n",
      " |  typecode\n",
      " |      the typecode character used to create the array\n",
      " |  \n",
      " |  ----------------------------------------------------------------------\n",
      " |  Data and other attributes defined here:\n",
      " |  \n",
      " |  __hash__ = None\n",
      "\n"
     ]
    }
   ],
   "source": [
    "import array\n",
    "\n",
    "help(array.array)"
   ]
  },
  {
   "cell_type": "code",
   "execution_count": 55,
   "metadata": {},
   "outputs": [
    {
     "data": {
      "text/plain": [
       "array('f', [0.0010000000474974513, 0.004999999888241291, 0.009999999776482582, 0.05000000074505806, 0.10000000149011612, 0.5])"
      ]
     },
     "execution_count": 55,
     "metadata": {},
     "output_type": "execute_result"
    }
   ],
   "source": [
    "arr = array.array('f', (0.001, 0.005, 0.01, 0.05, 0.1, 0.5))\n",
    "arr"
   ]
  },
  {
   "cell_type": "code",
   "execution_count": 56,
   "metadata": {},
   "outputs": [
    {
     "data": {
      "text/plain": [
       "array('f', [0.0010000000474974513, 0.004999999888241291, 0.009999999776482582, 0.05000000074505806, 0.10000000149011612, 0.5, 1.0])"
      ]
     },
     "execution_count": 56,
     "metadata": {},
     "output_type": "execute_result"
    }
   ],
   "source": [
    "arr.append(1)\n",
    "arr"
   ]
  },
  {
   "cell_type": "code",
   "execution_count": 57,
   "metadata": {},
   "outputs": [
    {
     "ename": "TypeError",
     "evalue": "must be real number, not str",
     "output_type": "error",
     "traceback": [
      "\u001b[1;31m---------------------------------------------------------------------------\u001b[0m",
      "\u001b[1;31mTypeError\u001b[0m                                 Traceback (most recent call last)",
      "\u001b[1;32m<ipython-input-57-7b1626dff045>\u001b[0m in \u001b[0;36m<module>\u001b[1;34m\u001b[0m\n\u001b[1;32m----> 1\u001b[1;33m \u001b[0marr\u001b[0m\u001b[1;33m[\u001b[0m\u001b[1;36m0\u001b[0m\u001b[1;33m]\u001b[0m \u001b[1;33m=\u001b[0m \u001b[1;34m'I am typed'\u001b[0m\u001b[1;33m\u001b[0m\u001b[1;33m\u001b[0m\u001b[0m\n\u001b[0m",
      "\u001b[1;31mTypeError\u001b[0m: must be real number, not str"
     ]
    }
   ],
   "source": [
    "arr[0] = 'I am typed'"
   ]
  },
  {
   "cell_type": "markdown",
   "metadata": {},
   "source": [
    "### **other array data structures**\n",
    "\n",
    "#### **str** - *immutable* arrays of Unicode characters\n",
    "\n",
    "#### **bytes** - *immutable* arrays of single bytes\n",
    "\n",
    "#### **bytearray** - *mutable* arrays of single bytes"
   ]
  },
  {
   "cell_type": "code",
   "execution_count": 58,
   "metadata": {},
   "outputs": [
    {
     "ename": "TypeError",
     "evalue": "'str' object does not support item assignment",
     "output_type": "error",
     "traceback": [
      "\u001b[1;31m---------------------------------------------------------------------------\u001b[0m",
      "\u001b[1;31mTypeError\u001b[0m                                 Traceback (most recent call last)",
      "\u001b[1;32m<ipython-input-58-a9cc397a639e>\u001b[0m in \u001b[0;36m<module>\u001b[1;34m\u001b[0m\n\u001b[0;32m      3\u001b[0m \u001b[1;33m\u001b[0m\u001b[0m\n\u001b[0;32m      4\u001b[0m \u001b[1;31m# immutable\u001b[0m\u001b[1;33m\u001b[0m\u001b[1;33m\u001b[0m\u001b[1;33m\u001b[0m\u001b[0m\n\u001b[1;32m----> 5\u001b[1;33m \u001b[0marr\u001b[0m\u001b[1;33m[\u001b[0m\u001b[1;36m0\u001b[0m\u001b[1;33m]\u001b[0m \u001b[1;33m=\u001b[0m \u001b[1;34m'Y'\u001b[0m\u001b[1;33m\u001b[0m\u001b[1;33m\u001b[0m\u001b[0m\n\u001b[0m",
      "\u001b[1;31mTypeError\u001b[0m: 'str' object does not support item assignment"
     ]
    }
   ],
   "source": [
    "# str\n",
    "arr = 'ATCG'\n",
    "\n",
    "# immutable\n",
    "arr[0] = 'Y'"
   ]
  },
  {
   "cell_type": "code",
   "execution_count": 59,
   "metadata": {},
   "outputs": [
    {
     "data": {
      "text/plain": [
       "['A', 'T', 'C', 'G']"
      ]
     },
     "execution_count": 59,
     "metadata": {},
     "output_type": "execute_result"
    }
   ],
   "source": [
    "# mutable representation of a string - list of characters \n",
    "list(arr)"
   ]
  },
  {
   "cell_type": "code",
   "execution_count": 60,
   "metadata": {},
   "outputs": [
    {
     "data": {
      "text/plain": [
       "'ATCG'"
      ]
     },
     "execution_count": 60,
     "metadata": {},
     "output_type": "execute_result"
    }
   ],
   "source": [
    "''.join(list(arr))"
   ]
  },
  {
   "cell_type": "code",
   "execution_count": 61,
   "metadata": {},
   "outputs": [
    {
     "data": {
      "text/plain": [
       "b'\\x00\\x04\\x08\\x0c'"
      ]
     },
     "execution_count": 61,
     "metadata": {},
     "output_type": "execute_result"
    }
   ],
   "source": [
    "arr = bytes([*range(0, 16, 4)])\n",
    "arr"
   ]
  },
  {
   "cell_type": "code",
   "execution_count": 62,
   "metadata": {},
   "outputs": [
    {
     "ename": "TypeError",
     "evalue": "'bytes' object doesn't support item deletion",
     "output_type": "error",
     "traceback": [
      "\u001b[1;31m---------------------------------------------------------------------------\u001b[0m",
      "\u001b[1;31mTypeError\u001b[0m                                 Traceback (most recent call last)",
      "\u001b[1;32m<ipython-input-62-f025312b9eb0>\u001b[0m in \u001b[0;36m<module>\u001b[1;34m\u001b[0m\n\u001b[1;32m----> 1\u001b[1;33m \u001b[1;32mdel\u001b[0m \u001b[0marr\u001b[0m\u001b[1;33m[\u001b[0m\u001b[1;36m0\u001b[0m\u001b[1;33m]\u001b[0m\u001b[1;33m\u001b[0m\u001b[1;33m\u001b[0m\u001b[0m\n\u001b[0m",
      "\u001b[1;31mTypeError\u001b[0m: 'bytes' object doesn't support item deletion"
     ]
    }
   ],
   "source": [
    "del arr[0]"
   ]
  },
  {
   "cell_type": "code",
   "execution_count": 63,
   "metadata": {},
   "outputs": [
    {
     "data": {
      "text/plain": [
       "bytearray(b'\\x00\\x04\\x08\\x0c')"
      ]
     },
     "execution_count": 63,
     "metadata": {},
     "output_type": "execute_result"
    }
   ],
   "source": [
    "arr = bytearray([*range(0, 16, 4)])\n",
    "arr"
   ]
  },
  {
   "cell_type": "code",
   "execution_count": 64,
   "metadata": {},
   "outputs": [
    {
     "ename": "ValueError",
     "evalue": "byte must be in range(0, 256)",
     "output_type": "error",
     "traceback": [
      "\u001b[1;31m---------------------------------------------------------------------------\u001b[0m",
      "\u001b[1;31mValueError\u001b[0m                                Traceback (most recent call last)",
      "\u001b[1;32m<ipython-input-64-f523ba2ca30c>\u001b[0m in \u001b[0;36m<module>\u001b[1;34m\u001b[0m\n\u001b[1;32m----> 1\u001b[1;33m \u001b[0marr\u001b[0m\u001b[1;33m[\u001b[0m\u001b[1;36m3\u001b[0m\u001b[1;33m]\u001b[0m \u001b[1;33m=\u001b[0m \u001b[1;36m256\u001b[0m\u001b[1;33m\u001b[0m\u001b[1;33m\u001b[0m\u001b[0m\n\u001b[0m",
      "\u001b[1;31mValueError\u001b[0m: byte must be in range(0, 256)"
     ]
    }
   ],
   "source": [
    "arr[3] = 256"
   ]
  },
  {
   "cell_type": "code",
   "execution_count": 65,
   "metadata": {},
   "outputs": [
    {
     "data": {
      "text/plain": [
       "b'\\x00\\x04\\x08\\x0c'"
      ]
     },
     "execution_count": 65,
     "metadata": {},
     "output_type": "execute_result"
    }
   ],
   "source": [
    "bytes(arr) #conversion copies the data"
   ]
  },
  {
   "cell_type": "markdown",
   "metadata": {},
   "source": [
    "## 3. Sets\n",
    "\n",
    "#### * *unordered* and *mutable* collections of *unique* elements\n",
    "\n",
    "#### * backed by the **dict** data type\n",
    "\n",
    "#### * *O(1)* time complexity for membership tests \n",
    "\n",
    "#### * *O(n)* for set operations: union, intersection, difference, etc."
   ]
  },
  {
   "cell_type": "code",
   "execution_count": 66,
   "metadata": {},
   "outputs": [],
   "source": [
    "DNA_bases = {'A', 'T', 'C', 'G'}\n",
    "RNA_bases = {'A', 'U', 'C', 'G'}"
   ]
  },
  {
   "cell_type": "code",
   "execution_count": 67,
   "metadata": {},
   "outputs": [
    {
     "data": {
      "text/plain": [
       "True"
      ]
     },
     "execution_count": 67,
     "metadata": {},
     "output_type": "execute_result"
    }
   ],
   "source": [
    "# membership test\n",
    "'A' in DNA_bases"
   ]
  },
  {
   "cell_type": "code",
   "execution_count": 68,
   "metadata": {},
   "outputs": [],
   "source": [
    "DNA_bases.add('A')"
   ]
  },
  {
   "cell_type": "code",
   "execution_count": 69,
   "metadata": {},
   "outputs": [
    {
     "data": {
      "text/plain": [
       "{'A', 'C', 'G', 'T'}"
      ]
     },
     "execution_count": 69,
     "metadata": {},
     "output_type": "execute_result"
    }
   ],
   "source": [
    "DNA_bases"
   ]
  },
  {
   "cell_type": "code",
   "execution_count": 70,
   "metadata": {},
   "outputs": [
    {
     "data": {
      "text/plain": [
       "{'A', 'C', 'G', 'T', 'U'}"
      ]
     },
     "execution_count": 70,
     "metadata": {},
     "output_type": "execute_result"
    }
   ],
   "source": [
    " DNA_bases | RNA_bases   #equivalent to DNA_bases.union(RNA_bases)"
   ]
  },
  {
   "cell_type": "code",
   "execution_count": 71,
   "metadata": {},
   "outputs": [
    {
     "data": {
      "text/plain": [
       "{'A', 'C', 'G'}"
      ]
     },
     "execution_count": 71,
     "metadata": {},
     "output_type": "execute_result"
    }
   ],
   "source": [
    "# intersection\n",
    "DNA_bases & RNA_bases   #equivalent to DNA_bases.intersection(RNA_bases)"
   ]
  },
  {
   "cell_type": "code",
   "execution_count": 72,
   "metadata": {},
   "outputs": [
    {
     "data": {
      "text/plain": [
       "{'T'}"
      ]
     },
     "execution_count": 72,
     "metadata": {},
     "output_type": "execute_result"
    }
   ],
   "source": [
    "# difference\n",
    "DNA_bases - RNA_bases   #equivalent to DNA_bases.difference(RNA_bases)"
   ]
  },
  {
   "cell_type": "code",
   "execution_count": 73,
   "metadata": {},
   "outputs": [
    {
     "data": {
      "text/plain": [
       "{'T', 'U'}"
      ]
     },
     "execution_count": 73,
     "metadata": {},
     "output_type": "execute_result"
    }
   ],
   "source": [
    "# symmetric difference\n",
    "DNA_bases ^ RNA_bases   #equivalent to DNA_bases.symmetric_difference(RNA_bases)"
   ]
  },
  {
   "cell_type": "code",
   "execution_count": 74,
   "metadata": {},
   "outputs": [
    {
     "data": {
      "text/plain": [
       "{0, 1, 2, 3, 5, 8, 13}"
      ]
     },
     "execution_count": 74,
     "metadata": {},
     "output_type": "execute_result"
    }
   ],
   "source": [
    "set([0, 1, 1, 2, 3, 5, 8, 13])"
   ]
  },
  {
   "cell_type": "code",
   "execution_count": 75,
   "metadata": {},
   "outputs": [
    {
     "data": {
      "text/plain": [
       "{'AAA',\n",
       " 'AAC',\n",
       " 'AAG',\n",
       " 'AAU',\n",
       " 'ACA',\n",
       " 'ACC',\n",
       " 'ACG',\n",
       " 'ACU',\n",
       " 'AGA',\n",
       " 'AGC',\n",
       " 'AGG',\n",
       " 'AGU',\n",
       " 'AUA',\n",
       " 'AUC',\n",
       " 'AUG',\n",
       " 'AUU',\n",
       " 'CAA',\n",
       " 'CAC',\n",
       " 'CAG',\n",
       " 'CAU',\n",
       " 'CCA',\n",
       " 'CCC',\n",
       " 'CCG',\n",
       " 'CCU',\n",
       " 'CGA',\n",
       " 'CGC',\n",
       " 'CGG',\n",
       " 'CGU',\n",
       " 'CUA',\n",
       " 'CUC',\n",
       " 'CUG',\n",
       " 'CUU',\n",
       " 'GAA',\n",
       " 'GAC',\n",
       " 'GAG',\n",
       " 'GAU',\n",
       " 'GCA',\n",
       " 'GCC',\n",
       " 'GCG',\n",
       " 'GCU',\n",
       " 'GGA',\n",
       " 'GGC',\n",
       " 'GGG',\n",
       " 'GGU',\n",
       " 'GUA',\n",
       " 'GUC',\n",
       " 'GUG',\n",
       " 'GUU',\n",
       " 'UAA',\n",
       " 'UAC',\n",
       " 'UAG',\n",
       " 'UAU',\n",
       " 'UCA',\n",
       " 'UCC',\n",
       " 'UCG',\n",
       " 'UCU',\n",
       " 'UGA',\n",
       " 'UGC',\n",
       " 'UGG',\n",
       " 'UGU',\n",
       " 'UUA',\n",
       " 'UUC',\n",
       " 'UUG',\n",
       " 'UUU'}"
      ]
     },
     "execution_count": 75,
     "metadata": {},
     "output_type": "execute_result"
    }
   ],
   "source": [
    "from itertools import product\n",
    "\n",
    "# a set comprehension\n",
    "codons = {''.join(l) for l in product('AUCG', repeat = 3)}\n",
    "codons"
   ]
  },
  {
   "cell_type": "code",
   "execution_count": 76,
   "metadata": {},
   "outputs": [
    {
     "data": {
      "text/plain": [
       "64"
      ]
     },
     "execution_count": 76,
     "metadata": {},
     "output_type": "execute_result"
    }
   ],
   "source": [
    "len(codons)"
   ]
  },
  {
   "cell_type": "code",
   "execution_count": 77,
   "metadata": {},
   "outputs": [
    {
     "data": {
      "text/plain": [
       "64"
      ]
     },
     "execution_count": 77,
     "metadata": {},
     "output_type": "execute_result"
    }
   ],
   "source": [
    "codons.add('UUU')\n",
    "len(codons)"
   ]
  },
  {
   "cell_type": "markdown",
   "metadata": {},
   "source": [
    "#### **frozenset** - *immutable* sets\n",
    "\n",
    "#### frozen sets are hashable and can be used as dictionary keys or elements of other sets"
   ]
  },
  {
   "cell_type": "code",
   "execution_count": 78,
   "metadata": {},
   "outputs": [
    {
     "ename": "AttributeError",
     "evalue": "'frozenset' object has no attribute 'add'",
     "output_type": "error",
     "traceback": [
      "\u001b[1;31m---------------------------------------------------------------------------\u001b[0m",
      "\u001b[1;31mAttributeError\u001b[0m                            Traceback (most recent call last)",
      "\u001b[1;32m<ipython-input-78-da832a38897a>\u001b[0m in \u001b[0;36m<module>\u001b[1;34m\u001b[0m\n\u001b[0;32m      1\u001b[0m \u001b[0mcodons_read_only\u001b[0m \u001b[1;33m=\u001b[0m \u001b[0mfrozenset\u001b[0m\u001b[1;33m(\u001b[0m\u001b[0mcodons\u001b[0m\u001b[1;33m)\u001b[0m\u001b[1;33m\u001b[0m\u001b[1;33m\u001b[0m\u001b[0m\n\u001b[1;32m----> 2\u001b[1;33m \u001b[0mcodons_read_only\u001b[0m\u001b[1;33m.\u001b[0m\u001b[0madd\u001b[0m\u001b[1;33m(\u001b[0m\u001b[1;34m'UUU'\u001b[0m\u001b[1;33m)\u001b[0m\u001b[1;33m\u001b[0m\u001b[1;33m\u001b[0m\u001b[0m\n\u001b[0m",
      "\u001b[1;31mAttributeError\u001b[0m: 'frozenset' object has no attribute 'add'"
     ]
    }
   ],
   "source": [
    "codons_read_only = frozenset(codons)\n",
    "codons_read_only.add('UUU')"
   ]
  },
  {
   "cell_type": "markdown",
   "metadata": {},
   "source": [
    "![codon_wheel.png](./Images/codon_wheel.png)"
   ]
  },
  {
   "cell_type": "markdown",
   "metadata": {},
   "source": [
    "## 4. Stacks & Queues\n",
    "\n",
    "#### * Stacks - collections that support *last-in, first-out (LIFO)* semantics for insert and delete operations\n",
    "\n",
    "#### * Queues - collections that support *first-in, first-out (FIFO)* semantics for inserts and deletes"
   ]
  },
  {
   "cell_type": "markdown",
   "metadata": {},
   "source": [
    "### **collections.deque**\n",
    "\n",
    "#### *double-ended queue* used to implement fast and robust stacks and queues\n",
    "\n",
    "#### *deque* objects implemented as doubly-linked lists\n",
    "\n",
    "#### supports adding and removing elements from either end with constant *O(1)* performance"
   ]
  },
  {
   "cell_type": "code",
   "execution_count": 80,
   "metadata": {},
   "outputs": [
    {
     "name": "stdout",
     "output_type": "stream",
     "text": [
      "Help on class deque in module collections:\n",
      "\n",
      "class deque(builtins.object)\n",
      " |  deque([iterable[, maxlen]]) --> deque object\n",
      " |  \n",
      " |  A list-like sequence optimized for data accesses near its endpoints.\n",
      " |  \n",
      " |  Methods defined here:\n",
      " |  \n",
      " |  __add__(self, value, /)\n",
      " |      Return self+value.\n",
      " |  \n",
      " |  __bool__(self, /)\n",
      " |      self != 0\n",
      " |  \n",
      " |  __contains__(self, key, /)\n",
      " |      Return key in self.\n",
      " |  \n",
      " |  __copy__(...)\n",
      " |      Return a shallow copy of a deque.\n",
      " |  \n",
      " |  __delitem__(self, key, /)\n",
      " |      Delete self[key].\n",
      " |  \n",
      " |  __eq__(self, value, /)\n",
      " |      Return self==value.\n",
      " |  \n",
      " |  __ge__(self, value, /)\n",
      " |      Return self>=value.\n",
      " |  \n",
      " |  __getattribute__(self, name, /)\n",
      " |      Return getattr(self, name).\n",
      " |  \n",
      " |  __getitem__(self, key, /)\n",
      " |      Return self[key].\n",
      " |  \n",
      " |  __gt__(self, value, /)\n",
      " |      Return self>value.\n",
      " |  \n",
      " |  __iadd__(self, value, /)\n",
      " |      Implement self+=value.\n",
      " |  \n",
      " |  __imul__(self, value, /)\n",
      " |      Implement self*=value.\n",
      " |  \n",
      " |  __init__(self, /, *args, **kwargs)\n",
      " |      Initialize self.  See help(type(self)) for accurate signature.\n",
      " |  \n",
      " |  __iter__(self, /)\n",
      " |      Implement iter(self).\n",
      " |  \n",
      " |  __le__(self, value, /)\n",
      " |      Return self<=value.\n",
      " |  \n",
      " |  __len__(self, /)\n",
      " |      Return len(self).\n",
      " |  \n",
      " |  __lt__(self, value, /)\n",
      " |      Return self<value.\n",
      " |  \n",
      " |  __mul__(self, value, /)\n",
      " |      Return self*value.\n",
      " |  \n",
      " |  __ne__(self, value, /)\n",
      " |      Return self!=value.\n",
      " |  \n",
      " |  __reduce__(...)\n",
      " |      Return state information for pickling.\n",
      " |  \n",
      " |  __repr__(self, /)\n",
      " |      Return repr(self).\n",
      " |  \n",
      " |  __reversed__(...)\n",
      " |      D.__reversed__() -- return a reverse iterator over the deque\n",
      " |  \n",
      " |  __rmul__(self, value, /)\n",
      " |      Return value*self.\n",
      " |  \n",
      " |  __setitem__(self, key, value, /)\n",
      " |      Set self[key] to value.\n",
      " |  \n",
      " |  __sizeof__(...)\n",
      " |      D.__sizeof__() -- size of D in memory, in bytes\n",
      " |  \n",
      " |  append(...)\n",
      " |      Add an element to the right side of the deque.\n",
      " |  \n",
      " |  appendleft(...)\n",
      " |      Add an element to the left side of the deque.\n",
      " |  \n",
      " |  clear(...)\n",
      " |      Remove all elements from the deque.\n",
      " |  \n",
      " |  copy(...)\n",
      " |      Return a shallow copy of a deque.\n",
      " |  \n",
      " |  count(...)\n",
      " |      D.count(value) -> integer -- return number of occurrences of value\n",
      " |  \n",
      " |  extend(...)\n",
      " |      Extend the right side of the deque with elements from the iterable\n",
      " |  \n",
      " |  extendleft(...)\n",
      " |      Extend the left side of the deque with elements from the iterable\n",
      " |  \n",
      " |  index(...)\n",
      " |      D.index(value, [start, [stop]]) -> integer -- return first index of value.\n",
      " |      Raises ValueError if the value is not present.\n",
      " |  \n",
      " |  insert(...)\n",
      " |      D.insert(index, object) -- insert object before index\n",
      " |  \n",
      " |  pop(...)\n",
      " |      Remove and return the rightmost element.\n",
      " |  \n",
      " |  popleft(...)\n",
      " |      Remove and return the leftmost element.\n",
      " |  \n",
      " |  remove(...)\n",
      " |      D.remove(value) -- remove first occurrence of value.\n",
      " |  \n",
      " |  reverse(...)\n",
      " |      D.reverse() -- reverse *IN PLACE*\n",
      " |  \n",
      " |  rotate(...)\n",
      " |      Rotate the deque n steps to the right (default n=1).  If n is negative, rotates left.\n",
      " |  \n",
      " |  ----------------------------------------------------------------------\n",
      " |  Static methods defined here:\n",
      " |  \n",
      " |  __new__(*args, **kwargs) from builtins.type\n",
      " |      Create and return a new object.  See help(type) for accurate signature.\n",
      " |  \n",
      " |  ----------------------------------------------------------------------\n",
      " |  Data descriptors defined here:\n",
      " |  \n",
      " |  maxlen\n",
      " |      maximum size of a deque or None if unbounded\n",
      " |  \n",
      " |  ----------------------------------------------------------------------\n",
      " |  Data and other attributes defined here:\n",
      " |  \n",
      " |  __hash__ = None\n",
      "\n"
     ]
    }
   ],
   "source": [
    "from collections import deque\n",
    "\n",
    "help(deque)"
   ]
  },
  {
   "cell_type": "code",
   "execution_count": 81,
   "metadata": {},
   "outputs": [
    {
     "data": {
      "text/plain": [
       "deque(['python -c \"import tensorflow as tf; print(tf.config.list_physical_devices(device_type=\"GPU\"))\"',\n",
       "       'conda list cudnn',\n",
       "       'conda install -c conda-forge cudnn',\n",
       "       'conda install cudatoolkit=11',\n",
       "       'conda list | grep tensor',\n",
       "       'pip install tensorflow-gpu~=2.4',\n",
       "       'conda install -c conda-forge rdkit deepchem=2.5.0',\n",
       "       'conda activate deepchem',\n",
       "       'conda create --name deepchem python=3.7'])"
      ]
     },
     "execution_count": 81,
     "metadata": {},
     "output_type": "execute_result"
    }
   ],
   "source": [
    "# stack implementation using collections.deque \n",
    "\n",
    "# the stack maintains a history of commands \n",
    "# for installing deepchem - a library built on the TensorFlow platform,\n",
    "# here with GPU acceleration -\n",
    "# to facilitate the use of deep learning in the life sciences\n",
    "# from genomics, to microscopy to drug discovery and beyond\n",
    "\n",
    "from collections import deque\n",
    "history = deque()\n",
    "\n",
    "history.appendleft('conda create --name deepchem python=3.7')\n",
    "history.appendleft('conda activate deepchem')\n",
    "history.appendleft('conda install -c conda-forge rdkit deepchem=2.5.0')\n",
    "history.appendleft('pip install tensorflow-gpu~=2.4')\n",
    "history.appendleft('conda list | grep tensor')\n",
    "history.appendleft('conda install cudatoolkit=11')\n",
    "history.appendleft('conda install -c conda-forge cudnn')\n",
    "history.appendleft('conda list cudnn')\n",
    "history.appendleft('python -c \"import tensorflow as tf; print(tf.config.list_physical_devices(device_type=\"GPU\"))\"')\n",
    "\n",
    "history"
   ]
  },
  {
   "cell_type": "code",
   "execution_count": 82,
   "metadata": {},
   "outputs": [
    {
     "data": {
      "text/plain": [
       "'python -c \"import tensorflow as tf; print(tf.config.list_physical_devices(device_type=\"GPU\"))\"'"
      ]
     },
     "execution_count": 82,
     "metadata": {},
     "output_type": "execute_result"
    }
   ],
   "source": [
    "history.popleft()"
   ]
  },
  {
   "cell_type": "code",
   "execution_count": 83,
   "metadata": {},
   "outputs": [
    {
     "data": {
      "text/plain": [
       "'conda list cudnn'"
      ]
     },
     "execution_count": 83,
     "metadata": {},
     "output_type": "execute_result"
    }
   ],
   "source": [
    "history.popleft()"
   ]
  },
  {
   "cell_type": "code",
   "execution_count": 84,
   "metadata": {},
   "outputs": [
    {
     "data": {
      "text/plain": [
       "'conda install -c conda-forge cudnn'"
      ]
     },
     "execution_count": 84,
     "metadata": {},
     "output_type": "execute_result"
    }
   ],
   "source": [
    "history.popleft()"
   ]
  },
  {
   "cell_type": "code",
   "execution_count": 85,
   "metadata": {},
   "outputs": [
    {
     "data": {
      "text/plain": [
       "deque(['conda install cudatoolkit=11',\n",
       "       'conda list | grep tensor',\n",
       "       'pip install tensorflow-gpu~=2.4',\n",
       "       'conda install -c conda-forge rdkit deepchem=2.5.0',\n",
       "       'conda activate deepchem',\n",
       "       'conda create --name deepchem python=3.7'])"
      ]
     },
     "execution_count": 85,
     "metadata": {},
     "output_type": "execute_result"
    }
   ],
   "source": [
    "history"
   ]
  },
  {
   "cell_type": "code",
   "execution_count": 86,
   "metadata": {},
   "outputs": [
    {
     "data": {
      "text/plain": [
       "deque(['conda install -c conda-forge cudnn',\n",
       "       'conda install cudatoolkit=11',\n",
       "       'conda list | grep tensor',\n",
       "       'pip install tensorflow-gpu~=2.4',\n",
       "       'conda install -c conda-forge rdkit deepchem=2.5.0',\n",
       "       'conda activate deepchem',\n",
       "       'conda create --name deepchem python=3.7'])"
      ]
     },
     "execution_count": 86,
     "metadata": {},
     "output_type": "execute_result"
    }
   ],
   "source": [
    "history.appendleft('conda install -c conda-forge cudnn')\n",
    "history"
   ]
  },
  {
   "cell_type": "code",
   "execution_count": 87,
   "metadata": {},
   "outputs": [],
   "source": [
    "history.appendleft('conda list cudnn')"
   ]
  },
  {
   "cell_type": "code",
   "execution_count": 88,
   "metadata": {},
   "outputs": [
    {
     "data": {
      "text/plain": [
       "deque(['python -c \"import tensorflow as tf; print(tf.config.list_physical_devices(device_type=\"GPU\"))\"',\n",
       "       'conda list cudnn',\n",
       "       'conda install -c conda-forge cudnn',\n",
       "       'conda install cudatoolkit=11',\n",
       "       'conda list | grep tensor',\n",
       "       'pip install tensorflow-gpu~=2.4',\n",
       "       'conda install -c conda-forge rdkit deepchem=2.5.0',\n",
       "       'conda activate deepchem',\n",
       "       'conda create --name deepchem python=3.7'])"
      ]
     },
     "execution_count": 88,
     "metadata": {},
     "output_type": "execute_result"
    }
   ],
   "source": [
    "history.appendleft('python -c \"import tensorflow as tf; print(tf.config.list_physical_devices(device_type=\"GPU\"))\"')\n",
    "history"
   ]
  },
  {
   "cell_type": "code",
   "execution_count": 89,
   "metadata": {},
   "outputs": [
    {
     "data": {
      "text/plain": [
       "deque(['conda create --name deepchem python=3.7',\n",
       "       'python -c \"import tensorflow as tf; print(tf.config.list_physical_devices(device_type=\"GPU\"))\"',\n",
       "       'conda list cudnn',\n",
       "       'conda install -c conda-forge cudnn',\n",
       "       'conda install cudatoolkit=11',\n",
       "       'conda list | grep tensor',\n",
       "       'pip install tensorflow-gpu~=2.4',\n",
       "       'conda install -c conda-forge rdkit deepchem=2.5.0',\n",
       "       'conda activate deepchem'])"
      ]
     },
     "execution_count": 89,
     "metadata": {},
     "output_type": "execute_result"
    }
   ],
   "source": [
    "history.rotate(1)\n",
    "history"
   ]
  },
  {
   "cell_type": "code",
   "execution_count": 90,
   "metadata": {},
   "outputs": [
    {
     "data": {
      "text/plain": [
       "deque(['python -c \"import tensorflow as tf; print(tf.config.list_physical_devices(device_type=\"GPU\"))\"',\n",
       "       'conda list cudnn',\n",
       "       'conda install -c conda-forge cudnn',\n",
       "       'conda install cudatoolkit=11',\n",
       "       'conda list | grep tensor',\n",
       "       'pip install tensorflow-gpu~=2.4',\n",
       "       'conda install -c conda-forge rdkit deepchem=2.5.0',\n",
       "       'conda activate deepchem',\n",
       "       'conda create --name deepchem python=3.7'])"
      ]
     },
     "execution_count": 90,
     "metadata": {},
     "output_type": "execute_result"
    }
   ],
   "source": [
    "history.rotate(-1)\n",
    "history"
   ]
  },
  {
   "cell_type": "code",
   "execution_count": 91,
   "metadata": {},
   "outputs": [
    {
     "data": {
      "text/plain": [
       "deque(['jobid=`qsub -N trHbN_02011_01                          ./run.cp2k`',\n",
       "       'jobid=`qsub -N trHbN_02011_02 -W depend=afterok:$jobid ./run.cp2k`',\n",
       "       'jobid=`qsub -N trHbN_02011_03 -W depend=afterok:$jobid ./run.cp2k`',\n",
       "       'jobid=`qsub -N trHbN_02011_04 -W depend=afterok:$jobid ./run.cp2k`',\n",
       "       'jobid=`qsub -N trHbN_02011_05 -W depend=afterok:$jobid ./run.cp2k`',\n",
       "       'jobid=`qsub -N trHbN_02011_06 -W depend=afterok:$jobid ./run.cp2k`',\n",
       "       'jobid=`qsub -N trHbN_02011_07 -W depend=afterok:$jobid ./run.cp2k`',\n",
       "       'jobid=`qsub -N trHbN_02011_08 -W depend=afterok:$jobid ./run.cp2k`',\n",
       "       'jobid=`qsub -N trHbN_02011_09 -W depend=afterok:$jobid ./run.cp2k`',\n",
       "       'jobid=`qsub -N trHbN_02011_10 -W depend=afterok:$jobid ./run.cp2k`'])"
      ]
     },
     "execution_count": 91,
     "metadata": {},
     "output_type": "execute_result"
    }
   ],
   "source": [
    "# queue implementation using collections.deque \n",
    "\n",
    "# the queue holds a batch of CP2K QM/MM simulations \n",
    "# submission jobs to be executed on HPC clusters in the FIFO order\n",
    "\n",
    "from collections import deque\n",
    "\n",
    "jobs = deque()\n",
    "\n",
    "with open('./run_02011.bash', 'rt') as f:\n",
    "    [jobs.append(job.strip()) for job in f if not job.startswith('#')]\n",
    "    \n",
    "jobs"
   ]
  },
  {
   "cell_type": "code",
   "execution_count": 92,
   "metadata": {},
   "outputs": [
    {
     "data": {
      "text/plain": [
       "'jobid=`qsub -N trHbN_02011_01                          ./run.cp2k`'"
      ]
     },
     "execution_count": 92,
     "metadata": {},
     "output_type": "execute_result"
    }
   ],
   "source": [
    "jobs.popleft()"
   ]
  },
  {
   "cell_type": "code",
   "execution_count": 93,
   "metadata": {},
   "outputs": [
    {
     "data": {
      "text/plain": [
       "'jobid=`qsub -N trHbN_02011_02 -W depend=afterok:$jobid ./run.cp2k`'"
      ]
     },
     "execution_count": 93,
     "metadata": {},
     "output_type": "execute_result"
    }
   ],
   "source": [
    "jobs.popleft()"
   ]
  },
  {
   "cell_type": "code",
   "execution_count": null,
   "metadata": {},
   "outputs": [],
   "source": []
  }
 ],
 "metadata": {
  "kernelspec": {
   "display_name": "Python 3",
   "language": "python",
   "name": "python3"
  },
  "language_info": {
   "codemirror_mode": {
    "name": "ipython",
    "version": 3
   },
   "file_extension": ".py",
   "mimetype": "text/x-python",
   "name": "python",
   "nbconvert_exporter": "python",
   "pygments_lexer": "ipython3",
   "version": "3.7.5"
  }
 },
 "nbformat": 4,
 "nbformat_minor": 2
}
