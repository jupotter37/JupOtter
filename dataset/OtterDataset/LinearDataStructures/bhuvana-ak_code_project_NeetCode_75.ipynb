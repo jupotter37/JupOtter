{
  "nbformat": 4,
  "nbformat_minor": 0,
  "metadata": {
    "colab": {
      "provenance": [],
      "authorship_tag": "ABX9TyNOCISCQ2XOV1i1GKSKsIsq",
      "include_colab_link": true
    },
    "kernelspec": {
      "name": "python3",
      "display_name": "Python 3"
    },
    "language_info": {
      "name": "python"
    }
  },
  "cells": [
    {
      "cell_type": "markdown",
      "metadata": {
        "id": "view-in-github",
        "colab_type": "text"
      },
      "source": [
        "<a href=\"https://colab.research.google.com/github/bhuvana-ak/code_project/blob/main/NeetCode_75.ipynb\" target=\"_parent\"><img src=\"https://colab.research.google.com/assets/colab-badge.svg\" alt=\"Open In Colab\"/></a>"
      ]
    },
    {
      "cell_type": "markdown",
      "source": [
        "https://neetcode.io/practice"
      ],
      "metadata": {
        "id": "6qYk0Uk4xuAn"
      }
    },
    {
      "cell_type": "markdown",
      "source": [
        "Binary Search"
      ],
      "metadata": {
        "id": "wl1GhtxTx7pE"
      }
    },
    {
      "cell_type": "markdown",
      "source": [
        "# 1"
      ],
      "metadata": {
        "id": "ITCy5ini-NZK"
      }
    },
    {
      "cell_type": "markdown",
      "source": [
        "https://neetcode.io/problems/find-minimum-in-rotated-sorted-array\n",
        "\n",
        "Find Minimum in Rotated Sorted Array\n"
      ],
      "metadata": {
        "id": "VR_XmUh43e-c"
      }
    },
    {
      "cell_type": "markdown",
      "source": [],
      "metadata": {
        "id": "KqX-WEeH-K0C"
      }
    },
    {
      "cell_type": "code",
      "source": [
        "from typing import List\n",
        "def find_min(nums: List[int])-> int:\n",
        "    l,r=0,len(nums)-1\n",
        "    while l < r :\n",
        "      m = (l+r) //2\n",
        "      if nums[m] > nums[r]: # right side of pivot contains min sorted part\n",
        "        l = m+1\n",
        "      elif nums[m] < nums[r]: # left side of pivot contains\n",
        "        r = m\n",
        "    return nums[l]\n"
      ],
      "metadata": {
        "id": "X_cyQy7mx1ob"
      },
      "execution_count": 1,
      "outputs": []
    },
    {
      "cell_type": "code",
      "source": [
        "nums = [4, 5, 6, 7,-2,-1,0, 1, 2]\n",
        "\n",
        "find_min(nums)"
      ],
      "metadata": {
        "colab": {
          "base_uri": "https://localhost:8080/"
        },
        "collapsed": true,
        "id": "r2QOm68t8LB7",
        "outputId": "98c86a8d-1db7-4169-d157-2db2be5ebbfc"
      },
      "execution_count": null,
      "outputs": [
        {
          "output_type": "execute_result",
          "data": {
            "text/plain": [
              "-2"
            ]
          },
          "metadata": {},
          "execution_count": 80
        }
      ]
    },
    {
      "cell_type": "code",
      "source": [
        "from typing import List\n",
        "def find_min1(nums: List[int])-> int:\n",
        "    l,r=0,len(nums)-1\n",
        "    while l < r :\n",
        "      m = (l+r) //2\n",
        "      if nums[m] < nums[r]: # right side of pivot contains min sorted part\n",
        "        r = m\n",
        "      elif nums[m] > nums[r]: # left side of pivot contains\n",
        "        l = m+1\n",
        "    return nums[l]"
      ],
      "metadata": {
        "id": "2A66ZIX_e7N3"
      },
      "execution_count": null,
      "outputs": []
    },
    {
      "cell_type": "code",
      "source": [
        "nums = [4, 5, 6, 7,0, 1, 2]\n",
        "\n",
        "find_min1(nums)"
      ],
      "metadata": {
        "colab": {
          "base_uri": "https://localhost:8080/"
        },
        "id": "AHGlvGDFe_c_",
        "outputId": "2d1fba91-5e46-4fe3-bf6c-459b445fee7f"
      },
      "execution_count": null,
      "outputs": [
        {
          "output_type": "execute_result",
          "data": {
            "text/plain": [
              "0"
            ]
          },
          "metadata": {},
          "execution_count": 2
        }
      ]
    },
    {
      "cell_type": "markdown",
      "source": [
        "Time Complexity\n",
        "\n",
        "\t•\tBinary search narrows the range by half in each iteration.\n",
        "\t•\tTime complexity: O(\\log n).\n",
        "\n",
        "Space Complexity\n",
        "\n",
        "\t•\tNo extra space is used apart from a few variables.\n",
        "\t•\tSpace complexity: O(1)."
      ],
      "metadata": {
        "id": "LhbCUxsV87AU"
      }
    },
    {
      "cell_type": "markdown",
      "source": [
        "# 2"
      ],
      "metadata": {
        "id": "IWDxFyr6-Ufv"
      }
    },
    {
      "cell_type": "markdown",
      "source": [
        "https://neetcode.io/problems/find-target-in-rotated-sorted-array\n",
        "\n",
        "Search in Rotated Sorted Array\n"
      ],
      "metadata": {
        "id": "vvs1NH6l-Wb4"
      }
    },
    {
      "cell_type": "code",
      "source": [
        "from typing import List\n",
        "def search(nums: List[int], target: int) -> int:\n",
        "  l , r =0, len(nums)-1\n",
        "  while l <=r :\n",
        "    m =(l+r) //2\n",
        "    if nums[m] == target:\n",
        "      return m\n",
        "    print(f\"l {l}, r {r}, m {m}\")\n",
        "    if nums[l] <= nums[m]:\n",
        "      if nums[l] <= target < nums[m]:\n",
        "        r = m-1\n",
        "      else :\n",
        "        l = m +1\n",
        "    else: #elif nums[m] <= nums[r]:\n",
        "      if nums[m] < target <= nums[r]:\n",
        "        l = m +1\n",
        "      else :\n",
        "        r = m-1\n",
        "\n",
        "  return -1\n"
      ],
      "metadata": {
        "id": "vkqRUgIG-se3"
      },
      "execution_count": null,
      "outputs": []
    },
    {
      "cell_type": "code",
      "source": [
        "nums = [4, 5, 6, 7,0, 1, 2]\n",
        "search(nums,target=2)"
      ],
      "metadata": {
        "colab": {
          "base_uri": "https://localhost:8080/"
        },
        "id": "3Cc47X53_qVi",
        "outputId": "90ca399d-f9f2-47ca-a478-338a12a181f6"
      },
      "execution_count": null,
      "outputs": [
        {
          "output_type": "stream",
          "name": "stdout",
          "text": [
            "l 0, r 6, m 3\n",
            "l 4, r 6, m 5\n"
          ]
        },
        {
          "output_type": "execute_result",
          "data": {
            "text/plain": [
              "6"
            ]
          },
          "metadata": {},
          "execution_count": 9
        }
      ]
    },
    {
      "cell_type": "markdown",
      "source": [
        "## CHATGPT\n",
        "Problem: Find the First Occurrence of a Target in a Sorted Array\n",
        "\n",
        "\n",
        "You are given a sorted array nums of integers and a target value target. Write an algorithm to find the index of the first occurrence of the target in the array. If the target is not found, return -1."
      ],
      "metadata": {
        "id": "4ci3d4Cvl7nA"
      }
    },
    {
      "cell_type": "code",
      "source": [
        "def find_first_occurrence(nums: List[int], target:int) -> int:\n",
        "    l,r=0,len(nums)-1\n",
        "    result = -1\n",
        "    while l <=r :\n",
        "      m = (l +r)//2\n",
        "      if target == nums[m]:\n",
        "         result = m\n",
        "         r = m-1\n",
        "      if target > nums[m]:\n",
        "          l = m +1\n",
        "      else:\n",
        "          r = m-1\n",
        "    return result\n"
      ],
      "metadata": {
        "id": "FLKHiz8ql-bE"
      },
      "execution_count": null,
      "outputs": []
    },
    {
      "cell_type": "code",
      "source": [
        "nums = [0,1,1,2,2,2,3]\n",
        "find_first_occurrence(nums,target=2)"
      ],
      "metadata": {
        "colab": {
          "base_uri": "https://localhost:8080/"
        },
        "id": "5ri2UPcZoWJr",
        "outputId": "0fb5ebc1-c4ef-4a45-864e-68b6eb23e94d"
      },
      "execution_count": null,
      "outputs": [
        {
          "output_type": "execute_result",
          "data": {
            "text/plain": [
              "3"
            ]
          },
          "metadata": {},
          "execution_count": 65
        }
      ]
    },
    {
      "cell_type": "markdown",
      "source": [
        "# Two pointers\n",
        "\n",
        "## Two pointers in same direction fast and slow pointer. sigle pass, find cycles and find mid of list\n",
        "## Two pointers in opp. direction - finding pairs / comparing elements\n",
        "two sum in a sorted array"
      ],
      "metadata": {
        "id": "z1IWZAft2ikh"
      }
    },
    {
      "cell_type": "markdown",
      "source": [
        "https://neetcode.io/problems/is-palindrome\n",
        "# 1"
      ],
      "metadata": {
        "id": "3ssVR28B9efC"
      }
    },
    {
      "cell_type": "code",
      "source": [
        "def isPalindrome(s: str) -> bool:\n",
        "        s=s.strip()\n",
        "        s=\"\".join(filter(str.isalnum,s))\n",
        "        s=s.lower()\n",
        "        print(s)\n",
        "        l,h=0,len(s)-1\n",
        "        while l<= h:\n",
        "          if s[l] != s[h]:\n",
        "            print(\"Not a Palindrome\")\n",
        "            return False\n",
        "          l +=1\n",
        "          h -=1\n",
        "        return True"
      ],
      "metadata": {
        "id": "T5RtsIRQ88Y_"
      },
      "execution_count": null,
      "outputs": []
    },
    {
      "cell_type": "code",
      "source": [
        "s=\"Was it a car or a cat I saw?\"\n",
        "isPalindrome(s)"
      ],
      "metadata": {
        "colab": {
          "base_uri": "https://localhost:8080/"
        },
        "id": "n1ytvIMR9kmq",
        "outputId": "2f8cb437-48fe-4855-a6f2-b9caf90774b4"
      },
      "execution_count": null,
      "outputs": [
        {
          "output_type": "stream",
          "name": "stdout",
          "text": [
            "wasitacaroracatisaw\n"
          ]
        },
        {
          "output_type": "execute_result",
          "data": {
            "text/plain": [
              "True"
            ]
          },
          "metadata": {},
          "execution_count": 14
        }
      ]
    },
    {
      "cell_type": "markdown",
      "source": [
        "# Two SUM"
      ],
      "metadata": {
        "id": "Dt2ITMCFGpHz"
      }
    },
    {
      "cell_type": "code",
      "source": [
        "#2 sum problem\n",
        "\n",
        "\n",
        "def two_sum(nums,target):\n",
        "  n = len(nums)\n",
        "  for i in range(0, n - 1):  # Outer loop\n",
        "    for j in range(i + 1, n):  # Inner loop starts from i + 1\n",
        "        print(f\"Comparing {nums[i]} with {nums[j]}\")\n",
        "        sum = nums[i] + nums[j]\n",
        "        if target == sum:\n",
        "          return [i,j]\n",
        "  return [-1,-1]"
      ],
      "metadata": {
        "id": "C9S5vP5CuFnz"
      },
      "execution_count": null,
      "outputs": []
    },
    {
      "cell_type": "code",
      "source": [
        "nums = [2,6,7,8,9]\n",
        "target = 15\n",
        "two_sum(nums,target)"
      ],
      "metadata": {
        "colab": {
          "base_uri": "https://localhost:8080/"
        },
        "id": "vreVblQiJSQM",
        "outputId": "48e9c025-2c83-4167-ea1f-80d8b9d7a112"
      },
      "execution_count": null,
      "outputs": [
        {
          "output_type": "stream",
          "name": "stdout",
          "text": [
            "Comparing 2 with 6\n",
            "Comparing 2 with 7\n",
            "Comparing 2 with 8\n",
            "Comparing 2 with 9\n",
            "Comparing 6 with 7\n",
            "Comparing 6 with 8\n",
            "Comparing 6 with 9\n"
          ]
        },
        {
          "output_type": "execute_result",
          "data": {
            "text/plain": [
              "[1, 4]"
            ]
          },
          "metadata": {},
          "execution_count": 18
        }
      ]
    },
    {
      "cell_type": "code",
      "source": [
        "from collections import defaultdict\n",
        "\n",
        "def two_sum2(nums, target):\n",
        "    d = defaultdict(int)\n",
        "    for i, n in enumerate(nums):\n",
        "        complement = target - n\n",
        "        if complement in d:\n",
        "            return [d[complement], i]\n",
        "        d[n] = i\n",
        "    return [-1, -1]  # or raise an exception if no solution is found"
      ],
      "metadata": {
        "id": "x4tljOCMKLc6"
      },
      "execution_count": null,
      "outputs": []
    },
    {
      "cell_type": "code",
      "source": [
        "nums = [2,6,7,8,9]\n",
        "target = 15\n",
        "two_sum2(nums,target)"
      ],
      "metadata": {
        "colab": {
          "base_uri": "https://localhost:8080/"
        },
        "id": "u859pGXBMJkB",
        "outputId": "c49c064f-1176-4572-9402-0b601b55f89e"
      },
      "execution_count": null,
      "outputs": [
        {
          "output_type": "execute_result",
          "data": {
            "text/plain": [
              "[2, 3]"
            ]
          },
          "metadata": {},
          "execution_count": 26
        }
      ]
    },
    {
      "cell_type": "code",
      "source": [
        "# return numbers because sorted will change index\n",
        "def two_sum3(nums, target):\n",
        "    nums = sorted(nums)\n",
        "    print(nums)\n",
        "    n = len(nums)-1\n",
        "    i,j=0,n\n",
        "    while i <j:\n",
        "      sum = nums[i] + nums[j]\n",
        "      if target == sum :\n",
        "        return[nums[i],nums[j]]\n",
        "      elif target > sum :\n",
        "        i += 1\n",
        "      else:\n",
        "        j -= 1\n",
        "    return [-1, -1]"
      ],
      "metadata": {
        "id": "Q3SwbYOOOOhW"
      },
      "execution_count": null,
      "outputs": []
    },
    {
      "cell_type": "code",
      "source": [
        "nums = [7,6,2,8,9]\n",
        "target = 15\n",
        "two_sum3(nums,target)"
      ],
      "metadata": {
        "colab": {
          "base_uri": "https://localhost:8080/"
        },
        "id": "xB-l9AnnO5rv",
        "outputId": "2efc5e09-e5d8-49c8-cd87-749ff131b071"
      },
      "execution_count": null,
      "outputs": [
        {
          "output_type": "stream",
          "name": "stdout",
          "text": [
            "[2, 6, 7, 8, 9]\n"
          ]
        },
        {
          "output_type": "execute_result",
          "data": {
            "text/plain": [
              "[6, 9]"
            ]
          },
          "metadata": {},
          "execution_count": 39
        }
      ]
    },
    {
      "cell_type": "code",
      "source": [
        "def two_sum3a(nums, target):\n",
        "  nums_with_index = [(n,i) for i,n in enumerate(nums)]\n",
        "  nums_with_index.sort(key = lambda x : x[0])\n",
        "  print(nums_with_index)\n",
        "  n = len(nums_with_index) -1\n",
        "  i,j=0,n\n",
        "  while i <j:\n",
        "      sum = nums_with_index[i][0] + nums_with_index[j][0]\n",
        "      if target == sum :\n",
        "        return[nums_with_index[i][1],nums_with_index[j][1]]\n",
        "      elif target > sum :\n",
        "        i += 1\n",
        "      else:\n",
        "        j -= 1\n",
        "  return [-1, -1]"
      ],
      "metadata": {
        "id": "8T0EwYRyQ5v-"
      },
      "execution_count": null,
      "outputs": []
    },
    {
      "cell_type": "code",
      "source": [
        "nums = [7,6,2,8,9]\n",
        "target = 15\n",
        "two_sum3a(nums,target)"
      ],
      "metadata": {
        "colab": {
          "base_uri": "https://localhost:8080/"
        },
        "id": "ITYxflW7RiFf",
        "outputId": "d8d8fe5a-c828-4f50-bae7-286c6331d534"
      },
      "execution_count": null,
      "outputs": [
        {
          "output_type": "stream",
          "name": "stdout",
          "text": [
            "[(2, 2), (6, 1), (7, 0), (8, 3), (9, 4)]\n"
          ]
        },
        {
          "output_type": "execute_result",
          "data": {
            "text/plain": [
              "[1, 4]"
            ]
          },
          "metadata": {},
          "execution_count": 3
        }
      ]
    },
    {
      "cell_type": "markdown",
      "source": [
        "## Three Sum\n",
        "https://neetcode.io/problems/three-integer-sum\n",
        "#2"
      ],
      "metadata": {
        "id": "1OZleVXUuCFE"
      }
    },
    {
      "cell_type": "markdown",
      "source": [
        "### Three sum\n",
        "https://neetcode.io/problems/three-integer-sum\n",
        "\n",
        "Given an integer array nums, return all the triplets [nums[i], nums[j], nums[k]] where nums[i] + nums[j] + nums[k] == 0, and the indices i, j and k are all distinct.\n",
        "\n",
        "The output should not contain any duplicate triplets. You may return the output and the triplets in any order.\n",
        "\n",
        "Example 1:\n",
        "\n",
        "Input: nums = [-1,0,1,2,-1,-4]\n",
        "\n",
        "Output: [[-1,-1,2],[-1,0,1]]\n",
        "Explanation:\n",
        "nums[0] + nums[1] + nums[2] = (-1) + 0 + 1 = 0.\n",
        "nums[1] + nums[2] + nums[4] = 0 + 1 + (-1) = 0.\n",
        "nums[0] + nums[3] + nums[4] = (-1) + 2 + (-1) = 0.\n",
        "The distinct triplets are [-1,0,1] and [-1,-1,2].\n",
        "\n",
        "Example 2:\n",
        "\n",
        "Input: nums = [0,1,1]\n",
        "\n",
        "Output: []\n",
        "Explanation: The only possible triplet does not sum up to 0.\n",
        "\n",
        "Example 3:\n",
        "\n",
        "Input: nums = [0,0,0]\n",
        "\n",
        "Output: [[0,0,0]]\n",
        "Explanation: The only possible triplet sums up to 0."
      ],
      "metadata": {
        "id": "h6_dC40_oFRC"
      }
    },
    {
      "cell_type": "code",
      "source": [
        "from typing import List\n",
        "def threeSum(nums:List[int])-> List[int]:\n",
        "  nums = sorted(nums)\n",
        "  print(nums)\n",
        "  n = len(nums)-1\n",
        "  res = []\n",
        "  for i, a in enumerate(nums):\n",
        "    l = i+1\n",
        "    r = n\n",
        "    if a > 0:\n",
        "      break # because we covered all negative numbers in a sorted array and there is no way we can find a sum==0 after this point\n",
        "    if i > 0 and nums[i] == nums[i-1]:\n",
        "      continue\n",
        "    while l < r:\n",
        "      sum = a+nums[l]+nums[r]\n",
        "      if sum < 0:\n",
        "        l +=1\n",
        "      elif sum > 0:\n",
        "        r -= 1\n",
        "      else: # sum ==0\n",
        "        res.append([a,nums[l],nums[r]])\n",
        "        l +=1\n",
        "        # edge case where l and l-1 are same numbers / duplicates\n",
        "        while nums[l] == nums[l-1] and l <r:\n",
        "          l+=1\n",
        "  return res"
      ],
      "metadata": {
        "id": "cLd6qT1poOIU"
      },
      "execution_count": null,
      "outputs": []
    },
    {
      "cell_type": "code",
      "source": [
        "from typing import List\n",
        "\n",
        "def threeSum1(nums:List[int]) -> List[int]:\n",
        "  nums.sort()\n",
        "  n = len(nums)-1\n",
        "  res = []\n",
        "  for idx, num in enumerate(nums):\n",
        "    if idx >0 and num == nums[idx-1]:\n",
        "      continue ##  Duplicates in succession\n",
        "    if num > 0:\n",
        "      break ## we wnt through all possible combinations\n",
        "    l = idx+1\n",
        "    r = n\n",
        "    while l <r :\n",
        "      threesum = num+nums[l]+nums[r]\n",
        "      if threesum < 0 :\n",
        "        l +=1\n",
        "      elif threesum > 0 :\n",
        "        r -=1\n",
        "      else : # threesum == 0\n",
        "        res.append([num,nums[l],nums[r]])\n",
        "        l +=1 # move to next element\n",
        "        print(\"updated l\",num,l,r,res)\n",
        "        # one more edge case [-2,-2,0,0,2,2] here if l is pointing at index 2 and value is 0, when it moves to next index, it will again encounter a 0\n",
        "        # [-2,_,0,_,_,2]\n",
        "        # [-2,_,_,0,_,2]\n",
        "        # to avoid above, we have to add this\n",
        "        while nums[l] == nums[l-1] and l <r: # l <r  condition to onlige with parent while loop condition\n",
        "          l+= 1\n",
        "\n",
        "  return res"
      ],
      "metadata": {
        "id": "VM9qi9Wzvj2S"
      },
      "execution_count": null,
      "outputs": []
    },
    {
      "cell_type": "code",
      "source": [
        "nums = [-2,-2,0,0,2,2]\n",
        "threeSum1(nums)"
      ],
      "metadata": {
        "colab": {
          "base_uri": "https://localhost:8080/"
        },
        "id": "1ndsvv2gomJF",
        "outputId": "071f1fca-2ece-4679-b785-4dacdf8055b9"
      },
      "execution_count": null,
      "outputs": [
        {
          "output_type": "stream",
          "name": "stdout",
          "text": [
            "updated l -2 3 5 [[-2, 0, 2]]\n"
          ]
        },
        {
          "output_type": "execute_result",
          "data": {
            "text/plain": [
              "[[-2, 0, 2]]"
            ]
          },
          "metadata": {},
          "execution_count": 28
        }
      ]
    },
    {
      "cell_type": "markdown",
      "source": [
        "# Container With Most Water\n",
        "# 3\n",
        "\n",
        "https://neetcode.io/problems/max-water-container\n",
        "\n",
        "You are given an integer array heights where heights[i] represents the height of the\n",
        "i\n",
        "t\n",
        "h\n",
        "i\n",
        "th\n",
        "  bar.\n",
        "\n",
        "You may choose any two bars to form a container. Return the maximum amount of water a container can store.\n",
        "Example 1:\n",
        "\n",
        "Input: height = [1,7,2,5,4,7,3,6]\n",
        "\n",
        "Output: 36\n",
        "Example 2:\n",
        "\n",
        "Input: height = [2,2,2]\n",
        "\n",
        "Output: 4"
      ],
      "metadata": {
        "id": "V0FbN__r2a1w"
      }
    },
    {
      "cell_type": "code",
      "source": [
        "#\n",
        "def max_quantity(heights: List[int]) -> int:\n",
        "        l,r=0,len(heights)-1\n",
        "        res = 0\n",
        "        while l < r:\n",
        "            area = min(heights[l],heights[r])* (r-l)\n",
        "            res = max(res,area)\n",
        "            if heights[l] < heights[r]:\n",
        "                l+=1\n",
        "            else:\n",
        "                r -=1\n",
        "\n",
        "        return res"
      ],
      "metadata": {
        "id": "rB1ekd_b2ptY"
      },
      "execution_count": null,
      "outputs": []
    },
    {
      "cell_type": "code",
      "source": [
        "heights = [1,7,2,5,4,7,3,6]\n",
        "max_quantity(heights)"
      ],
      "metadata": {
        "colab": {
          "base_uri": "https://localhost:8080/"
        },
        "id": "0FYxCZ163k7p",
        "outputId": "a57964ac-f72b-4d91-843d-64dfbd17325a"
      },
      "execution_count": null,
      "outputs": [
        {
          "output_type": "execute_result",
          "data": {
            "text/plain": [
              "36"
            ]
          },
          "metadata": {},
          "execution_count": 47
        }
      ]
    },
    {
      "cell_type": "markdown",
      "source": [
        "# Sliding Window"
      ],
      "metadata": {
        "id": "pya-mB6--HnV"
      }
    },
    {
      "cell_type": "markdown",
      "source": [
        "#1\n",
        "https://neetcode.io/problems/buy-and-sell-crypto\n",
        "# Best Time to Buy and Sell Stock\n",
        "You are given an integer array prices where prices[i] is the price of NeetCoin on the ith day.\n",
        "\n",
        "You may choose a single day to buy one NeetCoin and choose a different day in the future to sell it.\n",
        "\n",
        "Return the maximum profit you can achieve. You may choose to not make any transactions, in which case the profit would be 0.\n",
        "\n",
        "Example 1:\n",
        "\n",
        "Input: prices = [10,1,5,6,7,1]\n",
        "\n",
        "Output: 6\n",
        "Explanation: Buy prices[1] and sell prices[4], profit = 7 - 1 = 6.\n",
        "\n",
        "Example 2:\n",
        "\n",
        "Input: prices = [10,8,7,5,2]\n",
        "\n",
        "Output: 0\n",
        "Explanation: No profitable transactions can be made, thus the max profit is 0."
      ],
      "metadata": {
        "id": "VUgZm-YB-KDc"
      }
    },
    {
      "cell_type": "code",
      "source": [
        "def maxprofit(prices:List[int]) -> int:\n",
        "  l,r =0,1\n",
        "  max_profit = 0\n",
        "  while r < len(prices):\n",
        "    if prices[l] < prices[r]:\n",
        "      profit = prices[r]-prices[l]\n",
        "      max_profit = max(max_profit,profit)\n",
        "    else :\n",
        "       l =r\n",
        "    r +=1\n",
        "  return max_profit"
      ],
      "metadata": {
        "id": "RQuDMoSR-TMp"
      },
      "execution_count": null,
      "outputs": []
    },
    {
      "cell_type": "code",
      "source": [
        "prices = [10,1,5,6,7,1]\n",
        "maxprofit(prices)"
      ],
      "metadata": {
        "colab": {
          "base_uri": "https://localhost:8080/"
        },
        "id": "hRcRNCcf-esy",
        "outputId": "d3346e18-b43a-4304-d6e8-280e7b98dea6"
      },
      "execution_count": null,
      "outputs": [
        {
          "output_type": "execute_result",
          "data": {
            "text/plain": [
              "6"
            ]
          },
          "metadata": {},
          "execution_count": 59
        }
      ]
    },
    {
      "cell_type": "markdown",
      "source": [
        "#2\n",
        "https://neetcode.io/problems/longest-substring-without-duplicates\n",
        "\n",
        "## Longest Substring Without Repeating Characters\n",
        "\n",
        "Given a string s, find the length of the longest substring without duplicate characters.\n",
        "\n",
        "A substring is a contiguous sequence of characters within a string.\n",
        "\n",
        "Example 1:\n",
        "\n",
        "Input: s = \"zxyzxyz\"\n",
        "\n",
        "Output: 3\n",
        "Explanation: The string \"xyz\" is the longest without duplicate characters.\n",
        "\n",
        "Example 2:\n",
        "\n",
        "Input: s = \"xxxx\"\n",
        "\n",
        "Output: 1"
      ],
      "metadata": {
        "id": "djdF_C0qA-qM"
      }
    },
    {
      "cell_type": "code",
      "source": [
        "def get_longest_substr_length(s :str)->int:\n",
        "  if len(s) == 0 or len(s) ==1:\n",
        "    return len(s)\n",
        "  char_set = set()\n",
        "  l = 0\n",
        "  res = 0\n",
        "  for r in range(len(s)):\n",
        "      while s[r] in char_set:\n",
        "        char_set.remove(s[l])\n",
        "        l +=1\n",
        "      char_set.add(s[r])\n",
        "      res = max(res,(r-l)+1)\n",
        "  return res"
      ],
      "metadata": {
        "id": "4WmvklZaB536"
      },
      "execution_count": null,
      "outputs": []
    },
    {
      "cell_type": "code",
      "source": [
        "s = \"zxyzxyz\"\n",
        "get_longest_substr_length(s)"
      ],
      "metadata": {
        "colab": {
          "base_uri": "https://localhost:8080/"
        },
        "id": "jmbTwsG2EFKR",
        "outputId": "8f8c8087-21de-482d-de01-f33b771779fe"
      },
      "execution_count": null,
      "outputs": [
        {
          "output_type": "execute_result",
          "data": {
            "text/plain": [
              "3"
            ]
          },
          "metadata": {},
          "execution_count": 75
        }
      ]
    },
    {
      "cell_type": "markdown",
      "source": [
        "#3\n",
        "\n",
        "## Longest Repeating Character Replacement\n",
        "You are given a string s consisting of only uppercase english characters and an integer k. You can choose up to k characters of the string and replace them with any other uppercase English character.\n",
        "\n",
        "After performing at most k replacements, return the length of the longest substring which contains only one distinct character.\n",
        "\n",
        "Example 1:\n",
        "\n",
        "Input: s = \"XYYX\", k = 2\n",
        "\n",
        "Output: 4\n",
        "Explanation: Either replace the 'X's with 'Y's, or replace the 'Y's with 'X's.\n",
        "\n",
        "Example 2:\n",
        "\n",
        "Input: s = \"AAABABB\", k = 1\n",
        "\n",
        "Output: 5"
      ],
      "metadata": {
        "id": "SY-iL7uthySD"
      }
    },
    {
      "cell_type": "code",
      "source": [
        "def characterReplacement(s: str, k: int) -> int:\n",
        "  char_counter = {}\n",
        "  l = 0\n",
        "  res = 0\n",
        "  for r in range(len(s)):\n",
        "    char_counter[s[r]] = 1 + char_counter.get(s[r], 0)\n",
        "    while((r-l+1)-max(char_counter.values())>k):\n",
        "      char_counter[s[l]] -=1\n",
        "      l+=1\n",
        "    res = max(res,(r-l+1))\n",
        "  return res"
      ],
      "metadata": {
        "id": "64YgOLegjxUA"
      },
      "execution_count": null,
      "outputs": []
    },
    {
      "cell_type": "code",
      "source": [
        "s = \"AAABABB\"\n",
        "k=1\n",
        "characterReplacement(s,k)"
      ],
      "metadata": {
        "colab": {
          "base_uri": "https://localhost:8080/"
        },
        "id": "F48OyFSn755C",
        "outputId": "89b8e8c2-eec3-45fe-8848-08864c3c65de"
      },
      "execution_count": null,
      "outputs": [
        {
          "output_type": "execute_result",
          "data": {
            "text/plain": [
              "5"
            ]
          },
          "metadata": {},
          "execution_count": 40
        }
      ]
    },
    {
      "cell_type": "markdown",
      "source": [
        "#4\n",
        "https://neetcode.io/problems/minimum-window-with-characters\n",
        "## Minimum Window Substring\n",
        "\n",
        "Given two strings s and t, return the shortest substring of s such that every character in t, including duplicates, is present in the substring. If such a substring does not exist, return an empty string \"\".\n",
        "\n",
        "You may assume that the correct output is always unique.\n",
        "\n",
        "Example 1:\n",
        "\n",
        "Input: s = \"OUZODYXAZV\", t = \"XYZ\"\n",
        "\n",
        "Output: \"YXAZ\"\n",
        "Explanation: \"YXAZ\" is the shortest substring that includes \"X\", \"Y\", and \"Z\" from string t.\n",
        "\n",
        "Example 2:\n",
        "\n",
        "Input: s = \"xyz\", t = \"xyz\"\n",
        "\n",
        "Output: \"xyz\"\n",
        "Example 3:\n",
        "\n",
        "Input: s = \"x\", t = \"xy\"\n",
        "\n",
        "Output: \"\"\n"
      ],
      "metadata": {
        "id": "l2yfAxOL76Nv"
      }
    },
    {
      "cell_type": "code",
      "source": [],
      "metadata": {
        "id": "WD5Q77Vw8FaP"
      },
      "execution_count": null,
      "outputs": []
    },
    {
      "cell_type": "code",
      "source": [],
      "metadata": {
        "id": "oNBz-UTo8FmE"
      },
      "execution_count": null,
      "outputs": []
    },
    {
      "cell_type": "markdown",
      "source": [
        "# Linked List\n",
        "# 1\n",
        "https://neetcode.io/problems/reverse-a-linked-list\n",
        "\n",
        "Reverse Linked List\n",
        "Given the beginning of a singly linked list head, reverse the list, and return the new beginning of the list.\n",
        "\n",
        "Example 1:\n",
        "\n",
        "Input: head = [0,1,2,3]\n",
        "\n",
        "Output: [3,2,1,0]\n",
        "Example 2:\n",
        "\n",
        "Input: head = []\n",
        "\n",
        "Output: []"
      ],
      "metadata": {
        "id": "9KIGPhM68GMk"
      }
    },
    {
      "cell_type": "code",
      "source": [
        "#Definition for singly-linked list.\n",
        "class ListNode:\n",
        "    def __init__(self, val=0, next=None):\n",
        "        self.val = val\n",
        "        self.next = next"
      ],
      "metadata": {
        "id": "1S9pmWqDAPl0"
      },
      "execution_count": null,
      "outputs": []
    },
    {
      "cell_type": "code",
      "source": [
        "from typing import Optional\n",
        "\n",
        "class Solution:\n",
        "    def reverseList(self, head: Optional[ListNode]) -> Optional[ListNode]:\n",
        "     prev =None\n",
        "     curr = head\n",
        "     while curr :\n",
        "      temp = curr.next\n",
        "      curr.next = prev\n",
        "      prev = curr\n",
        "      curr = temp\n",
        "     return prev"
      ],
      "metadata": {
        "id": "69XtHLqFAZKy"
      },
      "execution_count": null,
      "outputs": []
    },
    {
      "cell_type": "code",
      "source": [
        "solution = Solution()\n",
        "l3 = ListNode(3,None)\n",
        "l2 = ListNode(2,l3)\n",
        "l1 = ListNode(1,l2)\n",
        "l0 = ListNode(0,l1)\n",
        "print(l0.val,l0.next.val,l0.next.next.val)\n",
        "reversed = solution.reverseList(l0)\n",
        "print(reversed.val,reversed.next.val,reversed.next.next.val)"
      ],
      "metadata": {
        "colab": {
          "base_uri": "https://localhost:8080/"
        },
        "id": "LjaYkHh9BQx0",
        "outputId": "686bd094-63ba-4da0-c563-b8c806fb4d46"
      },
      "execution_count": null,
      "outputs": [
        {
          "output_type": "stream",
          "name": "stdout",
          "text": [
            "0 1 2\n",
            "3 2 1\n"
          ]
        }
      ]
    },
    {
      "cell_type": "markdown",
      "source": [
        "# ChATGPT\n",
        "\n",
        "Problem: Tokenizing and Reversing Words in a Sentence\n",
        "\n",
        "Given a string  s  containing words separated by spaces, write a function to reverse the order of the words. Ensure that:\n",
        "\n",
        "\t1.\tThe words are separated by a single space in the output.\n",
        "\t2.\tLeading or trailing spaces in the input string should be ignored.\n",
        "\t3.\tMultiple spaces between words in the input should be treated as a single space.\n",
        "\n",
        "Example 1:\n",
        "\n",
        "Input:\n",
        "s = \"  Hello   World  \"\n",
        "Output:\n",
        "\"World Hello\"\n",
        "\n",
        "Example 2:\n",
        "\n",
        "Input:\n",
        "s = \"Tokenizing and reversing words\"\n",
        "Output:\n",
        "\"words reversing and Tokenizing\"\n"
      ],
      "metadata": {
        "id": "N0XUtiBFdGQt"
      }
    },
    {
      "cell_type": "code",
      "source": [
        "def reverse_words(sentence : str) -> str:\n",
        "  sentence = sentence.strip()\n",
        "  split_sentence = sentence.split()\n",
        "  reversed = []\n",
        "  for i in range(len(split_sentence) - 1, -1, -1):\n",
        "    reversed.append(split_sentence[i])\n",
        "  print(reversed)\n",
        "  return \" \".join(reversed)\n"
      ],
      "metadata": {
        "id": "xJXwj85PdFpJ"
      },
      "execution_count": null,
      "outputs": []
    },
    {
      "cell_type": "code",
      "source": [
        "s = \" Tokenizing   and reversing words \"\n",
        "reverse_words(s)"
      ],
      "metadata": {
        "colab": {
          "base_uri": "https://localhost:8080/",
          "height": 53
        },
        "id": "EUk8REVUdhe4",
        "outputId": "613a0cb7-7899-4fff-fcc4-ab6e2a3f3636"
      },
      "execution_count": null,
      "outputs": [
        {
          "output_type": "stream",
          "name": "stdout",
          "text": [
            "['words', 'reversing', 'and', 'Tokenizing']\n"
          ]
        },
        {
          "output_type": "execute_result",
          "data": {
            "text/plain": [
              "'words reversing and Tokenizing'"
            ],
            "application/vnd.google.colaboratory.intrinsic+json": {
              "type": "string"
            }
          },
          "metadata": {},
          "execution_count": 34
        }
      ]
    },
    {
      "cell_type": "code",
      "source": [
        "# second question from chatgpt\n",
        "# Input:\n",
        "# s = \"abcabcbb\"\n",
        "# Output:\n",
        "# 3\n",
        "# Explanation: The longest substring without repeating characters is \"abc\", with a length of 3.\n",
        "\n",
        "def get_longest_substr(s:str)->int:\n",
        "  char_set = set()\n",
        "  l = 0\n",
        "  res = 0\n",
        "  for r in range(len(s)):\n",
        "    while s[r] in char_set:\n",
        "      char_set.remove(s[l])\n",
        "      l +=1\n",
        "    char_set.add(s[r])\n",
        "    res = max(res,(r-l)+1)\n",
        "  return res"
      ],
      "metadata": {
        "id": "L2HtWN86gzia"
      },
      "execution_count": null,
      "outputs": []
    },
    {
      "cell_type": "code",
      "source": [
        "s = \"abcabcbb\"\n",
        "get_longest_substr(s)"
      ],
      "metadata": {
        "colab": {
          "base_uri": "https://localhost:8080/"
        },
        "id": "smuGaSQHhqEx",
        "outputId": "8012e4b5-43ba-4214-8289-bdb3181758de"
      },
      "execution_count": null,
      "outputs": [
        {
          "output_type": "execute_result",
          "data": {
            "text/plain": [
              "3"
            ]
          },
          "metadata": {},
          "execution_count": 36
        }
      ]
    },
    {
      "cell_type": "markdown",
      "source": [
        "# Top K Frequent Elements\n",
        "https://neetcode.io/problems/top-k-elements-in-list\n",
        "## 1\n",
        "Given an integer array nums and an integer k, return the k most frequent elements within the array.\n",
        "\n",
        "The test cases are generated such that the answer is always unique.\n",
        "\n",
        "You may return the output in any order.\n",
        "\n",
        "Example 1:\n",
        "\n",
        "Input: nums = [1,2,2,3,3,3], k = 2\n",
        "\n",
        "Output: [2,3]\n",
        "Example 2:\n",
        "\n",
        "Input: nums = [7,7], k = 1\n",
        "\n",
        "Output: [7]\n"
      ],
      "metadata": {
        "id": "IIsxE5ui0BkJ"
      }
    },
    {
      "cell_type": "code",
      "source": [
        "import heapq\n",
        "from typing import List\n",
        "def topKFrequent(nums: List[int], k: int) -> List[int]:\n",
        "  count_map = {}\n",
        "  res = []\n",
        "  for n in nums:\n",
        "    count_map[n] = 1+count_map.get(n,0)\n",
        "  heap = []\n",
        "  for key,value in count_map.items():\n",
        "    heapq.heappush(heap,(-value,key))\n",
        "  for i in range(k):\n",
        "    res.append(heapq.heappop(heap)[1])\n",
        "  return res"
      ],
      "metadata": {
        "id": "VYGEzXG30Of2"
      },
      "execution_count": null,
      "outputs": []
    },
    {
      "cell_type": "code",
      "source": [
        "nums = [1,1,1,2,2,2,3]\n",
        "topKFrequent(nums,3)"
      ],
      "metadata": {
        "colab": {
          "base_uri": "https://localhost:8080/"
        },
        "id": "suDigEDx3E9M",
        "outputId": "29d6179f-547b-4f2e-e875-46da2eefa8a8"
      },
      "execution_count": null,
      "outputs": [
        {
          "output_type": "execute_result",
          "data": {
            "text/plain": [
              "[1, 2, 3]"
            ]
          },
          "metadata": {},
          "execution_count": 52
        }
      ]
    },
    {
      "cell_type": "code",
      "source": [
        "#Bucket Sort\n",
        "def topKFrequent_bucketsort(nums: List[int], k: int) -> List[int]:\n",
        "  count_map = {}\n",
        "  freq = [[] for i in range(len(nums)+1)]\n",
        "\n",
        "  for n in nums:\n",
        "    count_map[n] = 1 + count_map.get(n,0)\n",
        "\n",
        "  for key, value in count_map.items():\n",
        "    freq[value].append(key)\n",
        "\n",
        "  res = []\n",
        "  for i in range(len(freq)-1,-1,-1):\n",
        "    for n in freq[i]:\n",
        "      res.append(n)\n",
        "      if len(res) == k:\n",
        "        return res\n",
        "\n"
      ],
      "metadata": {
        "id": "JwgOj58Z4-U3"
      },
      "execution_count": null,
      "outputs": []
    },
    {
      "cell_type": "code",
      "source": [
        "nums = [1,2,2,2,3,3]\n",
        "#freq = [[0] * (len(nums)-1)]\n",
        "freq = [[] for i in range(len(nums) + 1)]\n",
        "print(freq)\n",
        "topKFrequent_bucketsort(nums,3)"
      ],
      "metadata": {
        "colab": {
          "base_uri": "https://localhost:8080/"
        },
        "id": "WjizcmMx5OMQ",
        "outputId": "579e3131-888b-4eae-92fe-2b0e151ff9e6"
      },
      "execution_count": null,
      "outputs": [
        {
          "output_type": "stream",
          "name": "stdout",
          "text": [
            "[[], [], [], [], [], [], []]\n"
          ]
        },
        {
          "output_type": "execute_result",
          "data": {
            "text/plain": [
              "[2, 3, 1]"
            ]
          },
          "metadata": {},
          "execution_count": 69
        }
      ]
    },
    {
      "cell_type": "markdown",
      "source": [
        "# Tree\n",
        "# Chatgpt\n",
        "To find the boundary of a binary tree, you need to traverse and collect the nodes that form the boundary. The boundary consists of three parts:\n",
        "\n",
        "\t1.\tLeft boundary: The nodes from the root to the leftmost node, excluding leaf nodes.\n",
        "\t2.\tLeaf nodes: All leaf nodes from left to right (bottom boundary).\n",
        "\t3.\tRight boundary: The nodes from the rightmost node to the root, excluding leaf nodes (in reverse order).\n",
        "\n",
        "Steps to Solve the Problem\n",
        "\n",
        "\t1.\tTraverse the left boundary:\n",
        "\t•\tStart from the root.\n",
        "\t•\tGo down the left child until reaching a leaf node.\n",
        "\t•\tExclude leaf nodes.\n",
        "\t2.\tCollect leaf nodes:\n",
        "\t•\tTraverse the entire tree (both left and right subtrees).\n",
        "\t•\tAdd nodes that have no children (leaf nodes).\n",
        "\t3.\tTraverse the right boundary:\n",
        "\t•\tStart from the root.\n",
        "\t•\tGo down the right child until reaching a leaf node.\n",
        "\t•\tExclude leaf nodes.\n",
        "\t•\tCollect the nodes in reverse order.\n",
        "\t4.\tCombine results:\n",
        "\t•\tConcatenate the left boundary, leaf nodes, and reversed right boundary.\n",
        "\n",
        "Example\n",
        "\n",
        "Input:\n",
        "        1\n",
        "       / \\\n",
        "      2   3\n",
        "     / \\    \\\n",
        "    4   5    6\n",
        "       / \\  / \\\n",
        "      7   8 9  10\n",
        "\n",
        "Output:\n",
        "\n",
        "Boundary: [1, 2, 4, 7, 8, 9, 10, 6, 3]\n",
        "\t•\tLeft boundary: [1, 2, 4]\n",
        "\t•\tLeaf nodes: [7, 8, 9, 10]\n",
        "\t•\tRight boundary: [6, 3] (in reverse order: [3, 6])"
      ],
      "metadata": {
        "id": "KvLWnCkaG5-c"
      }
    },
    {
      "cell_type": "markdown",
      "source": [],
      "metadata": {
        "id": "UC6aqSUtHCxl"
      }
    },
    {
      "cell_type": "code",
      "source": [
        "class TreeNode:\n",
        "    def __init__(self, val=0, left=None, right=None):\n",
        "        self.val = val\n",
        "        self.left = left\n",
        "        self.right = right\n",
        "\n",
        "def boundary_of_binary_tree(root: TreeNode) -> list:\n",
        "    if not root:\n",
        "        return []\n",
        "\n",
        "    boundary = []\n",
        "    # Check if a node is a leaf\n",
        "    def is_leaf(node):\n",
        "        return not node.left and not node.right\n",
        "\n",
        "    # Add the root if it's not a leaf\n",
        "    if not is_leaf(root):\n",
        "        boundary.append(root.val)\n",
        "\n",
        "    # Helper to get the left boundary\n",
        "    def get_left_boundary(node):\n",
        "        print(\"left \",node.val)\n",
        "        while node:\n",
        "            if not is_leaf(node):\n",
        "                boundary.append(node.val)\n",
        "            node = node.left if node.left else node.right\n",
        "        print(\"get_left_boundary\",boundary)\n",
        "\n",
        "    # Helper to get the leaf nodes\n",
        "    def get_leaves(node):\n",
        "        if not node:\n",
        "            return\n",
        "        if is_leaf(node):\n",
        "            boundary.append(node.val)\n",
        "        get_leaves(node.left)\n",
        "        get_leaves(node.right)\n",
        "        print(\"get_leaves\",boundary)\n",
        "\n",
        "    # Helper to get the right boundary (reversed)\n",
        "    def get_right_boundary(node):\n",
        "        stack = []\n",
        "        while node:\n",
        "            if not is_leaf(node):\n",
        "                stack.append(node.val)\n",
        "            node = node.right if node.right else node.left\n",
        "        while stack:\n",
        "            boundary.append(stack.pop())\n",
        "        print(\"get_right_boundary\",boundary)\n",
        "\n",
        "\n",
        "\n",
        "    # Collect boundaries\n",
        "    get_left_boundary(root.left)\n",
        "    get_leaves(root)\n",
        "    get_right_boundary(root.right)\n",
        "\n",
        "    return boundary"
      ],
      "metadata": {
        "id": "ayEofg6FHKvt"
      },
      "execution_count": null,
      "outputs": []
    },
    {
      "cell_type": "code",
      "source": [
        "# Example Tree\n",
        "root = TreeNode(1)\n",
        "root.left = TreeNode(2)\n",
        "root.right = TreeNode(3)\n",
        "root.left.left = TreeNode(4)\n",
        "root.left.right = TreeNode(5)\n",
        "root.right.right = TreeNode(6)\n",
        "root.left.right.left = TreeNode(7)\n",
        "root.left.right.right = TreeNode(8)\n",
        "root.right.right.left = TreeNode(9)\n",
        "root.right.right.right = TreeNode(10)\n",
        "\n",
        "print(boundary_of_binary_tree(root))\n",
        "# Output: [1, 2, 4, 7, 8, 9, 10, 6, 3]"
      ],
      "metadata": {
        "colab": {
          "base_uri": "https://localhost:8080/"
        },
        "id": "5oJEc-24HS_9",
        "outputId": "7520600e-30b0-4e05-a36d-f7be918f74b6"
      },
      "execution_count": null,
      "outputs": [
        {
          "output_type": "stream",
          "name": "stdout",
          "text": [
            "left  2\n",
            "get_left_boundary [1, 2]\n",
            "get_leaves [1, 2, 4]\n",
            "get_leaves [1, 2, 4, 7]\n",
            "get_leaves [1, 2, 4, 7, 8]\n",
            "get_leaves [1, 2, 4, 7, 8]\n",
            "get_leaves [1, 2, 4, 7, 8]\n",
            "get_leaves [1, 2, 4, 7, 8, 9]\n",
            "get_leaves [1, 2, 4, 7, 8, 9, 10]\n",
            "get_leaves [1, 2, 4, 7, 8, 9, 10]\n",
            "get_leaves [1, 2, 4, 7, 8, 9, 10]\n",
            "get_leaves [1, 2, 4, 7, 8, 9, 10]\n",
            "get_right_boundary [1, 2, 4, 7, 8, 9, 10, 6, 3]\n",
            "[1, 2, 4, 7, 8, 9, 10, 6, 3]\n"
          ]
        }
      ]
    },
    {
      "cell_type": "markdown",
      "source": [
        "## Practice problems on deque (deck)\n",
        "1. Deque (Double-Ended Queue)\n",
        "\n",
        "A deque is a generalized form of a queue that allows adding and removing elements from both ends efficiently. It’s implemented in Python’s collections module.\n",
        ""
      ],
      "metadata": {
        "id": "W1zwiv0KrpFC"
      }
    }
  ]
}