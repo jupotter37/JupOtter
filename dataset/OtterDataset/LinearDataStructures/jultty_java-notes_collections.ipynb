{
 "cells": [
  {
   "cell_type": "markdown",
   "id": "3fdf0b52-8454-4515-b10f-963e7553448b",
   "metadata": {},
   "source": [
    "# The Collections Framework"
   ]
  },
  {
   "cell_type": "markdown",
   "id": "1589b51a-1e6e-42a9-8cc0-7325ec889d1d",
   "metadata": {},
   "source": [
    "> the Collections Framework is a set of interfaces that models different way of storing data in different types of containers. Then the Framework provides at least one implementation for each interface. [$^1$](#1)"
   ]
  },
  {
   "cell_type": "markdown",
   "id": "702e35b1-61cd-4cd5-8b6e-4a49c3956f5e",
   "metadata": {},
   "source": [
    "On the highest level, the Collections Framework can be divided between **collections** and **maps**."
   ]
  },
  {
   "cell_type": "markdown",
   "id": "d9b9f1fa-8ef7-4261-95e5-4acfdff20cc3",
   "metadata": {},
   "source": [
    "## Collections"
   ]
  },
  {
   "cell_type": "code",
   "execution_count": 1,
   "id": "6610de32-62e1-4915-b35a-622c235054db",
   "metadata": {},
   "outputs": [],
   "source": [
    "import java.util.Collection;"
   ]
  },
  {
   "cell_type": "markdown",
   "id": "5f0bcc85-31a6-4c90-a4f0-e73b524ec506",
   "metadata": {},
   "source": [
    "> Collections are about storing objects and iterating over them. [$^2$](#2)"
   ]
  },
  {
   "cell_type": "markdown",
   "id": "a201fd11-67a5-4643-84e0-d21ad99dcc53",
   "metadata": {
    "jp-MarkdownHeadingCollapsed": true
   },
   "source": [
    "The `Collection` interface extends the `Iterable` interface, which is not part of the Collections Framework.\n",
    "\n",
    "The `Iterable` interface has the methods `forEach`, `iterator` and `spliterator`.\n",
    "\n",
    "The `iterator` method returns an `Iterator`object. This object provides `hasNext` and `next` methods, which allow for traversing a collection and checking if it is over."
   ]
  },
  {
   "cell_type": "markdown",
   "id": "f8d074c0-160b-412b-bda3-8256d7675f03",
   "metadata": {},
   "source": [
    "### Subinterfaces"
   ]
  },
  {
   "cell_type": "markdown",
   "id": "fc0e2423-1d9c-4b37-831b-d1a181da90d5",
   "metadata": {},
   "source": [
    "- `List`: Ordered collection that can contain duplicates. Any element from its index is accessable. Resembles a dynamically-sized array. Can be sorted, shuffled, reversed and searched.\n",
    "- `Set`: A collection of unique elements \n",
    "- `Queue`: Typically used for FIFO collections, but not restricted to them.\n",
    "- `Dequeue`: Stands for \"double-ended queue\", pronounced \"deck\". Linear collection supporting insertion and removal at both ends. Supports setting a fixed capacity.\n",
    "\n",
    "<details>\n",
    "<summary>Expand to show more subinterfaces</summary>\n",
    "\n",
    "- `SequencedCollection<E>`\n",
    "- `SequencedSet<E>`, `SortedSet<E>`, `NavigableSet<E>`, `EventSet`\n",
    "- `BlockingQueue<E>`, `BlockingDeque<E>`, `TransferQueue<E>`\n",
    "- `BeanContext`, `BeanContextServices`\n",
    "</details>"
   ]
  },
  {
   "cell_type": "markdown",
   "id": "d58cd972-50b0-4496-81f1-b20bf17803e1",
   "metadata": {},
   "source": [
    "### Methods"
   ]
  },
  {
   "cell_type": "markdown",
   "id": "49559851-eb25-47ed-a3a7-1341606ad225",
   "metadata": {},
   "source": [
    "For the listings below, the capital letter **C** refers to `Collection`.\n",
    "\n",
    "`Collections` interface methods:\n",
    "- `size`: Returns an `int` for the number of elements in C\n",
    "- `isEmpty`: Returns true if collection has no elements\n",
    "- `equals`: Compares the parameter object with C for equality\n",
    "- `contains`: Returns true if C contains the parameter element\n",
    "- `containsAll`: Returns true if C contains all the elements in the parameter C\n",
    "- `add`: Ensures that C contains the parameter element\n",
    "- `addAll`: Add all elements from the parameter C into C\n",
    "- `remove`: Remove a single instance of the specified element from C\n",
    "- `removeAll`: Removes from C all elements also found in the parameter C\n",
    "- `retainAll`: Removes from C all elements not found in the parameter C\n",
    "- `clear`: Removes all elements from C\n",
    "- `iterator`: Returns an interator over the elements of C\n",
    "- `toArray`: Returns an array containing the elements of C\n",
    "- `hashCode`: Returns the hash code for C\n",
    "\n",
    "All of these methods are static. Instance-only methods are few, such as `parallelStream`, `removeIf`, `spliterator`, and `stream`.\n",
    "\n",
    "Inherited from superinterface `Iterable`:\n",
    "- `forEach`: Perform a given action for each element of C"
   ]
  },
  {
   "cell_type": "markdown",
   "id": "b7d05297-f18f-4b49-861f-35dc22ff35a3",
   "metadata": {},
   "source": [
    "### Implementation classes"
   ]
  },
  {
   "cell_type": "markdown",
   "id": "771c43b3-182c-4e17-8cd0-5b91c55844dd",
   "metadata": {},
   "source": [
    "Many implementation classes exist for the `Collection` interface. None of them however are _direct_ implementations, instead they implement the subinterfaces.\n",
    "\n",
    "- Subinterface `List`\n",
    "    - `ArrayList`\n",
    "    - `LinkedList`\n",
    "- Subinterface `Set`\n",
    "    - `HashSet`\n",
    "    - `LinkedHashSet`\n",
    "    - Subinterfaces `SortedSet` and `NavigableSet`\n",
    "        - `TreeSet`\n",
    "\n",
    "<details>\n",
    "<summary>Expand to show more implementation classes</summary>\n",
    "\n",
    "- `AbstractCollection`, `AbstractList`, `AbstractQueue`,  `AbstractSet`, `AbstractSequentialList`\n",
    "- `ArrayDeque`, `ArrayBlockingQueue`,\n",
    "- `BeanContextServicesSupport`, `BeanContextSupport`\n",
    "- `ConcurrentHashMap.KeySetView`, `ConcurrentLinkedDeque`, `ConcurrentLinkedQueue`, `ConcurrentSkipListSet`\n",
    "- `CopyOnWriteArrayList`, `CopyOnWriteArraySet`\n",
    "- `LinkedBlockingDeque`, `LinkedBlockingQueue`, `LinkedTransferQueue`\n",
    "- `PriorityBlockingQueue`, `PriorityQueue` `DelayQueue` `SynchronousQueue`\n",
    "- `RoleList`, `RoleUnresolvedList` `AttributeList`\n",
    "- `JobStateReasons`\n",
    "- `EnumSet`\n",
    "- `Stack` (deprecated)\n",
    "- `Vector` (deprecated; uses `Enumeration` for its iterator, also deprecated)\n",
    "\n",
    "</details>"
   ]
  },
  {
   "cell_type": "markdown",
   "id": "40648548-bf6e-406d-b743-d56f97dc0897",
   "metadata": {},
   "source": [
    "#### Lists"
   ]
  },
  {
   "cell_type": "code",
   "execution_count": 2,
   "id": "a333cda2-ce1e-45ee-90e7-3cd5b98a6d2e",
   "metadata": {},
   "outputs": [],
   "source": [
    "import java.util.List;\n",
    "import java.util.ArrayList;\n",
    "import java.util.Iterator;\n",
    "\n",
    "import static java.lang.System.out;"
   ]
  },
  {
   "cell_type": "markdown",
   "id": "78a3a311-2dde-44f0-9585-31a714205869",
   "metadata": {},
   "source": [
    "> What was true for linked lists when computing was invented in the 60's does not hold anymore, and the capacity of linked lists to outperform arrays on insertion and deletion operations is greatly diminished by modern hardware, CPU caches, and pointer chasing. Iterating over the elements of an [`ArrayList`](https://docs.oracle.com/en/java/javase/21/docs/api/java.base/java/util/ArrayList.html) is much faster that over the elements of a [`LinkedList`](https://docs.oracle.com/en/java/javase/21/docs/api/java.base/java/util/LinkedList.html), mainly due to pointer chasing and CPU cache misses.\n",
    "\n",
    "> There are still cases where a linked list is faster than an array. A doubly-linked list can access its first and last element faster than an [`ArrayList`](https://docs.oracle.com/en/java/javase/21/docs/api/java.base/java/util/ArrayList.html) can. This is the main use case that makes [`LinkedList`](https://docs.oracle.com/en/java/javase/21/docs/api/java.base/java/util/LinkedList.html) better than [`ArrayList`](https://docs.oracle.com/en/java/javase/21/docs/api/java.base/java/util/ArrayList.html). So if your application needs a Last In, First Out (LIFO, covered later in this tutorial) stack, or a First In, First Out (FIFO, also covered later) waiting queue, then choosing a linked list is probably your best choice.\n",
    "\n",
    "> On the other hand, if you plan to iterate through the elements of your list, or to access them randomly by their index, then the [`ArrayList`](https://docs.oracle.com/en/java/javase/21/docs/api/java.base/java/util/ArrayList.html) is probably your best bet. [$^6$](#6)"
   ]
  },
  {
   "cell_type": "markdown",
   "id": "abf74fd3-c448-4407-8802-561dc139a774",
   "metadata": {},
   "source": [
    "Lists differ from sets not only in allowing duplicates, but by knowing the order in which elements are added. Each element has an index, and this index is used in many of the methods prescribed by the `List` interface.\n",
    "\n",
    "Because a list is an indexed collection, it has methods for adding one or more elements at a given position (`add`, `addAll`, `addFirst`, `addLast`).\n",
    "\n",
    "The `add` method allows passing both an index and an element, inserting the element at the specified index and adjusting the remaining elements accordingly. Similarly, `addAll` takes an index and a collection of objects to insert at the given index. The `set` method works instead by replacing the element at the given index."
   ]
  },
  {
   "cell_type": "markdown",
   "id": "23a6271f-2cd4-4404-852b-b1d5ece691e3",
   "metadata": {},
   "source": [
    "Also related to indexes are methods like `get`, `indexOf` and `lastIndexOf`, which allows for getting an object from a given index, or getting the index of a given object. Notice that `lastIndexOf` is not meant for the last index, but for the index of the last occurence of the given element. Instead, the methods `getFirst` and `getLast` do return the elements at the head and tail of the collection.\n",
    "\n",
    "For removal, a list provides a `remove` method that can take either an index or an object. `removeAll` can pass a collection for removal of the matching elements, while `removeFirst` and `removeLast` will remove the corresponding first and last elements.\n",
    "\n",
    "Because lists are ordered, a reversed view of the list can be obtained with `reversed`. They can also be reordered with `sort` and a comparator as [argument](https://docs.oracle.com/en/java/javase/21/docs/api/java.base/java/util/Comparator.html). If you pass a `null` comparator or `Comparator.naturalOrder()`, the elements will be ordered according to their own implementation of the `Comparable` interface. If they do not implement it, `ClassCastException` will be thrown."
   ]
  },
  {
   "cell_type": "markdown",
   "id": "26030d90-aef4-4cbe-943c-6e02db38d59b",
   "metadata": {},
   "source": [
    "Finally, a list can be sliced through `subList`, the arguments being the first, inclusive, and last, exclusive, indexes of the range.\n",
    "\n",
    "Because the returned sublist is a view of the original list, altering it does alter the original list:"
   ]
  },
  {
   "cell_type": "code",
   "execution_count": 3,
   "id": "65d6b537-9d29-4656-a006-62b3eee9e0d7",
   "metadata": {},
   "outputs": [
    {
     "name": "stdout",
     "output_type": "stream",
     "text": [
      "[0, 1, 2, 3, 4, 5]\n",
      "[0, 1, 5]\n"
     ]
    }
   ],
   "source": [
    "List<String> strings = new ArrayList<>(List.of(\"0\", \"1\", \"2\", \"3\", \"4\", \"5\"));\n",
    "out.println(strings);\n",
    "strings.subList(2, 5).clear();\n",
    "out.println(strings);"
   ]
  },
  {
   "cell_type": "markdown",
   "id": "90f2afd1-9225-4746-a0cb-75f9701a6880",
   "metadata": {},
   "source": [
    "##### Iterating"
   ]
  },
  {
   "cell_type": "markdown",
   "id": "e7397f86-bafb-43b9-ad4c-47ab1ba8ec4d",
   "metadata": {},
   "source": [
    "> A ListIterator has no current element; its cursor position always lies between the element that would be returned by a call to previous() and the element that would be returned by a call to next(). [$^5$](#5)"
   ]
  },
  {
   "cell_type": "markdown",
   "id": "94f8feb6-b450-4dbb-a49d-f0465cc252c0",
   "metadata": {},
   "source": [
    "The simplest way to iterate over a collection, if the intention is simply to read the elements, would be using an _enhanced `for`_ control structure."
   ]
  },
  {
   "cell_type": "code",
   "execution_count": 4,
   "id": "79f4babb-6290-4554-bbe2-4aafd0f9e5c5",
   "metadata": {},
   "outputs": [
    {
     "name": "stdout",
     "output_type": "stream",
     "text": [
      "one\n",
      "two\n",
      "three\n",
      "four\n"
     ]
    }
   ],
   "source": [
    "import java.util.Arrays;\n",
    "\n",
    "ArrayList<String> strings = new ArrayList<>();\n",
    "strings.addAll(Arrays.asList(\"one\", \"two\", \"three\", \"four\"));\n",
    "\n",
    "for (String e: strings) {\n",
    "    out.println(e);\n",
    "}"
   ]
  },
  {
   "cell_type": "markdown",
   "id": "fe6ccbec-f2bf-47b7-a40d-e3f483cb1de7",
   "metadata": {},
   "source": [
    "If there is a need to delete elements as you iterate, it is better to use an iterator:"
   ]
  },
  {
   "cell_type": "code",
   "execution_count": 5,
   "id": "07f652b2-1ee5-496c-a1bb-d8f2b33abecb",
   "metadata": {},
   "outputs": [
    {
     "name": "stdout",
     "output_type": "stream",
     "text": [
      "one\n",
      "two\n"
     ]
    }
   ],
   "source": [
    "import java.util.Arrays;\n",
    "\n",
    "strings.clear();\n",
    "strings.addAll(Arrays.asList(\"one\", \"two\", \"three\", \"four\"));\n",
    "\n",
    "for (Iterator<String> iterator = strings.iterator(); iterator.hasNext();) {\n",
    "    String e = iterator.next();\n",
    "    if (e.length() > 3) {\n",
    "        iterator.remove();\n",
    "    }\n",
    "}\n",
    "\n",
    "for (String e: strings) {\n",
    "    out.println(e);\n",
    "}"
   ]
  },
  {
   "cell_type": "markdown",
   "id": "d70b7109-3097-4e38-ad37-c4c88b4f2d7b",
   "metadata": {},
   "source": [
    "Though the logic above could be simplified to simply:"
   ]
  },
  {
   "cell_type": "code",
   "execution_count": 6,
   "id": "05cbe09e-6bc3-4bff-925e-db2055148208",
   "metadata": {},
   "outputs": [],
   "source": [
    "strings.removeIf(e -> e.length() > 3);"
   ]
  },
  {
   "cell_type": "markdown",
   "id": "4d873767-c634-44c3-b4d2-28bc48cfe4a0",
   "metadata": {},
   "source": [
    "Note that `iterator.hasNext()` is used to check if there is a next element before it is accessed. If it weren't, trying to access the non-existent element would throw a `NoSuchElementException`."
   ]
  },
  {
   "cell_type": "markdown",
   "id": "89e9fc05-db6f-4eca-bdfe-3745cf114c23",
   "metadata": {},
   "source": [
    "Lists also provide a `ListIterator`, which has `previous()`, ` hasPrevious()`, `nextWithIndex` and `previousWithIndex`, allowing for backwards traversal."
   ]
  },
  {
   "cell_type": "markdown",
   "id": "c680d547-405d-4444-87ec-158525ecc753",
   "metadata": {},
   "source": [
    "A `ListIterator` also provides `add` and `set` methods. `add` will add the element _before_ the element that would be returned by `next()`.\n",
    "\n",
    "> The new element is inserted before the implicit cursor: a subsequent call to next would be unaffected, and a subsequent call to previous would return the new element. [$^5$](#5)"
   ]
  },
  {
   "cell_type": "code",
   "execution_count": 7,
   "id": "e0c6a732-c6a8-4d77-9fa2-12dc1cd50963",
   "metadata": {},
   "outputs": [
    {
     "name": "stdout",
     "output_type": "stream",
     "text": [
      "strings = [one, 2, three]\n"
     ]
    }
   ],
   "source": [
    "import java.util.ListIterator;\n",
    "\n",
    "String two = \"two\";\n",
    "\n",
    "strings.clear();\n",
    "strings.addAll(Arrays.asList(\"one\", \"two\", \"three\"));\n",
    "\n",
    "for (ListIterator<String> iterator = strings.listIterator(); iterator.hasNext();) {\n",
    "    String nextElement = iterator.next();\n",
    "    if (two.equals(nextElement)) {\n",
    "        iterator.set(\"2\");\n",
    "    }\n",
    "}\n",
    "\n",
    "out.println(\"strings = \" + strings);"
   ]
  },
  {
   "cell_type": "markdown",
   "id": "9e7c5849-bd8e-4613-aa95-854b537d2702",
   "metadata": {},
   "source": [
    "Finally, list iterators can be initialized by passing a position to their constructor, meaning they don't necessarily must start iteration from index 0:"
   ]
  },
  {
   "cell_type": "code",
   "execution_count": 8,
   "id": "80e2edb5-b73a-441c-9daa-490c916970c1",
   "metadata": {},
   "outputs": [
    {
     "name": "stdout",
     "output_type": "stream",
     "text": [
      "three\n",
      "four\n",
      "five\n",
      "six\n"
     ]
    }
   ],
   "source": [
    "strings.clear();\n",
    "strings.addAll(Arrays.asList(\"one\", \"two\", \"three\", \"four\", \"five\", \"six\"));\n",
    "\n",
    "for (ListIterator<String> iterator = strings.listIterator(2); iterator.hasNext();) {\n",
    "    String e = iterator.next();\n",
    "    out.println(e);\n",
    "}"
   ]
  },
  {
   "cell_type": "markdown",
   "id": "9c921a59-e24b-4b63-a7e1-9364c1a6cefd",
   "metadata": {},
   "source": [
    "#### Sets"
   ]
  },
  {
   "cell_type": "markdown",
   "id": "aab52560-1c30-469e-8e31-a4be51f0435e",
   "metadata": {},
   "source": [
    "> More formally, sets contain no pair of elements `e1` and `e2` such that `e1.equals(e2)`, and at most one null element. [$^3$](#3)"
   ]
  },
  {
   "cell_type": "markdown",
   "id": "75f46b0a-1471-4702-a5e1-770ed520b875",
   "metadata": {},
   "source": [
    "The `Set` subinterface does not bring new methods to a collection. It has one plain implementation, `HashSet`, which wraps an instance of `HashMap`.\n",
    "\n",
    "The main distinction betweeen sets and lists is that set elements are always unique. Another difference is that, while it can be _sorted_, a `Set` is not fit for iteration in the order that elements were added to it.\n",
    "\n",
    "When laying out this distinction, the docs contrast the concepts of **sorting** and **ordering**. _Ordering_ is explained in relation to the order in which the elements are added to the collection, whereas _sorting_ indicates there is some logic that dictates the ascending sequence of the elements. [$^7$](#7)"
   ]
  },
  {
   "cell_type": "code",
   "execution_count": 9,
   "id": "96468bad-c072-420a-9b18-d965ea2092f7",
   "metadata": {},
   "outputs": [
    {
     "name": "stdout",
     "output_type": "stream",
     "text": [
      "six\n",
      "four\n",
      "one\n",
      "two\n",
      "five\n"
     ]
    }
   ],
   "source": [
    "import java.util.Set;\n",
    "import java.util.HashSet;\n",
    "\n",
    "List<String> strings = List.of(\"one\", \"two\", \"two\", \"four\", \"five\", \"six\", \"one\");\n",
    "\n",
    "Set<String> set = new HashSet<>();\n",
    "set.addAll(strings);\n",
    "\n",
    "set.forEach(out::println);"
   ]
  },
  {
   "cell_type": "markdown",
   "id": "6d236383-3132-414f-acd4-32072d580775",
   "metadata": {},
   "source": [
    "The example above shows both properties. The duplicate elements from the `strings` list were reduced to unique ones, and the order of the original list was lost."
   ]
  },
  {
   "cell_type": "markdown",
   "id": "f2926b57-187a-4e3b-a5fd-df612ab745b0",
   "metadata": {},
   "source": [
    "##### Subinterface `SortedSet`"
   ]
  },
  {
   "cell_type": "code",
   "execution_count": 10,
   "id": "e5cf5ccd-94f1-47e0-9c99-763ae41ef491",
   "metadata": {},
   "outputs": [],
   "source": [
    "import java.util.SortedSet;\n",
    "import java.util.TreeSet;"
   ]
  },
  {
   "cell_type": "markdown",
   "id": "f1b919c7-a1d0-4c32-a41f-204ac02bf32f",
   "metadata": {},
   "source": [
    "The `SortedSet` subinterface defines a collection that can be sorted in ascending order not through indexes, but by means of an implementation of the `Comparable` interface's `compareTo` method, or by providing a `Comparator`.\n",
    "\n",
    "There is a single implementation class for `SortedSet` in the Collections Framework, `TreeSet`.\n",
    "\n",
    "The `SortedSet` subinterface has `addFirst` and `addLast` methods that throw `UnsupportedOperationException`. A `comparator` method returns the comparator that is used to sort the elements, or `null` if they are sorted by their [natural order](https://docs.oracle.com/en/java/javase/21/docs/api/java.base/java/lang/Comparable.html).\n",
    "\n",
    "`first` and `last` allow accessing the lowest and largest elements of the set. Note that this has nothing to do with the order they were added in, but to how they are sorted. The `removeFirst` and `removeLast` methods allow for removing these.\n",
    "\n",
    "The method `headSet` takes a single element as argument. The method will return a view of the set \"whose elements are strictly less than\" [$^4$](#4)\n",
    "the parameter element. Conversely, there is also a `tailSet` method, which returns the elements that are _greater than or equal to_ the parameter element.\n",
    "\n",
    "Another way to slice the set is using `subSet`, which takes two elements as arguments. Similarly to the `List` interface's `subList`, this method returns a view of the set ranging from the first element ,inclusive, to the second element, exclusive:"
   ]
  },
  {
   "cell_type": "code",
   "execution_count": 11,
   "id": "1aafd84d-b3ba-406c-b642-62aeb5db1327",
   "metadata": {},
   "outputs": [
    {
     "name": "stdout",
     "output_type": "stream",
     "text": [
      "sub set = [b, c, d]\n"
     ]
    }
   ],
   "source": [
    "SortedSet<String> strings = new TreeSet<>(Set.of(\"a\", \"b\", \"c\", \"d\", \"e\", \"f\"));\n",
    "SortedSet<String> subSet = strings.subSet(\"b\", \"e\");\n",
    "\n",
    "out.println(\"sub set = \" + subSet);"
   ]
  },
  {
   "cell_type": "markdown",
   "id": "7d2b7c05-b8bb-4b32-b4a2-1ac52838429d",
   "metadata": {},
   "source": [
    "> You can remove or add elements to the main set through these subsets. There is one point you need to keep in mind though. These three subsets remember the limits on which they have been built. For consistency reasons, it is not legal to add an element through a subset outside its limits. For instance, if you take a [`headSet`](https://docs.oracle.com/en/java/javase/21/docs/api/java.base/java/util/SortedSet.html#headSet(E)) and try to add an element greater than `toElement`, then you will get an [`IllegalArgumentException`](https://docs.oracle.com/en/java/javase/21/docs/api/java.base/java/lang/IllegalArgumentException.html). [$^8$](#8)"
   ]
  },
  {
   "cell_type": "markdown",
   "id": "7e1e6ea5-5a23-482b-b5aa-774c2f60fd07",
   "metadata": {},
   "source": [
    "##### Subinterface `NavigableSet`"
   ]
  },
  {
   "cell_type": "code",
   "execution_count": 12,
   "id": "f4be24f8-7ee4-4e31-afe8-5d13cbfa675c",
   "metadata": {},
   "outputs": [],
   "source": [
    "import java.util.NavigableSet;"
   ]
  },
  {
   "cell_type": "markdown",
   "id": "fd42c74f-3d74-409a-aa86-d976d71fea81",
   "metadata": {},
   "source": [
    "The `NavigableSet` subinterface extends the `SortedSet` subinterface, while also providing extra methods to find closest matches and navigate the set in descending order.\n",
    "\n",
    "The `TreeSet` implementation class also extends `NavigableSet`."
   ]
  },
  {
   "cell_type": "markdown",
   "id": "f378ea65-1aaf-4b96-9d4c-2fc27bb4c804",
   "metadata": {},
   "source": [
    "`NavigableSet` overloads `headSet`, `tailSet` and `subSet` by allowing a second boolean argument that defines whether the limits are included in the returned subset."
   ]
  },
  {
   "cell_type": "markdown",
   "id": "810eab78-5001-43aa-bf17-3b656e151d6b",
   "metadata": {},
   "source": [
    "It also adds the following methods:\n",
    "\n",
    "- `ceiling` and `floor` take a single element and return the greatest element below, or the lowest element above, inclusive, compared to the parameter element. If there isn't one, they return `null`."
   ]
  },
  {
   "cell_type": "code",
   "execution_count": 13,
   "id": "7770b415-9dad-4a8a-bd70-3e2d1498b18c",
   "metadata": {},
   "outputs": [
    {
     "name": "stdout",
     "output_type": "stream",
     "text": [
      "b\n",
      "b\n",
      "d\n",
      "null\n"
     ]
    }
   ],
   "source": [
    "// contains a through f, except for c\n",
    "NavigableSet<String> strings = new TreeSet<>(Set.of(\"a\", \"b\", \"d\", \"e\", \"f\"));\n",
    "\n",
    "out.println(strings.floor(\"c\"));\n",
    "out.println(strings.floor(\"b\"));\n",
    "out.println(strings.ceiling(\"c\"));\n",
    "out.println(strings.ceiling(\"g\"));"
   ]
  },
  {
   "cell_type": "markdown",
   "id": "78fa85e2-ec6a-4f2a-a575-03964ceba578",
   "metadata": {},
   "source": [
    "- `lower` and `higher` return the greater element below, or the lower element above the parameter element. If there isn't one, they also return `null`.\n",
    "- `pollFirst` and `pollLast` return and remove the lowest or greatest element in the set "
   ]
  },
  {
   "cell_type": "code",
   "execution_count": 14,
   "id": "350e3a66-b80a-4cc5-9fcf-8e7c214746cc",
   "metadata": {},
   "outputs": [
    {
     "name": "stdout",
     "output_type": "stream",
     "text": [
      "b\n",
      "a\n",
      "d\n",
      "f\n",
      "null\n",
      "null\n",
      "a\n",
      "null\n"
     ]
    }
   ],
   "source": [
    "out.println(strings.lower(\"c\"));\n",
    "out.println(strings.lower(\"b\"));\n",
    "out.println(strings.higher(\"c\"));\n",
    "out.println(strings.higher(\"e\"));\n",
    "out.println(strings.higher(\"f\"));\n",
    "out.println(strings.lower(\"a\"));\n",
    "out.println(strings.pollFirst());\n",
    "out.println(strings.lower(\"b\"));"
   ]
  },
  {
   "cell_type": "markdown",
   "id": "67d9ef75-d810-4256-8802-2e62000598d6",
   "metadata": {},
   "source": [
    "Finally, a `NavigableSet` subinterface implementation will provide ways to navigate the set in descending order with `descendingIterator`, which returns a iterator object, and `descendingSet`, which will return a reversed `NavigableSet` view."
   ]
  },
  {
   "cell_type": "code",
   "execution_count": 15,
   "id": "364867dd-4005-4fce-93bf-b439315839cd",
   "metadata": {},
   "outputs": [
    {
     "name": "stdout",
     "output_type": "stream",
     "text": [
      "sorted strings = [a, b, c, d, e, f]\n",
      "reversed strings = [f, e, d, c, b, a]\n"
     ]
    }
   ],
   "source": [
    "NavigableSet<String> sortedStrings = new TreeSet<>(Set.of(\"a\", \"b\", \"c\", \"d\", \"e\", \"f\"));\n",
    "System.out.println(\"sorted strings = \" + sortedStrings);\n",
    "NavigableSet<String> reversedStrings = sortedStrings.descendingSet();\n",
    "System.out.println(\"reversed strings = \" + reversedStrings);"
   ]
  },
  {
   "cell_type": "markdown",
   "id": "5249e55a-343e-4406-9702-f004a66fa0c0",
   "metadata": {},
   "source": [
    "## Maps"
   ]
  },
  {
   "cell_type": "markdown",
   "id": "fa5754a5-88ba-4050-96f6-d0401129674a",
   "metadata": {},
   "source": [
    "> A Map stores an object along with a key, which represents that object. [$^2$](#2)"
   ]
  },
  {
   "cell_type": "markdown",
   "id": "e22348b7-68b4-410d-af84-655afa86a858",
   "metadata": {},
   "source": [
    "The `Map` interface is the root interface for  maps. Its hierarchy has no direct relationship to the `Collection` hierarchy."
   ]
  },
  {
   "cell_type": "markdown",
   "id": "d99741e1-7c6b-4fc9-9864-edb5d94ac979",
   "metadata": {},
   "source": [
    "> Usually a key is a simple object: think of a string of several characters or a number. The value, on the other hand, can be as complex as you need. This is what hashmaps have been made for: you can manipulate keys, move them from one part of your application to another, transmit them over a network, and when you need the full object, then you can retrieve it with its key. [$^9$](#9)"
   ]
  },
  {
   "cell_type": "markdown",
   "id": "225ad400-654b-4ff3-90c4-a61792e9ddcb",
   "metadata": {},
   "source": [
    "While a key is unique and always bound to a single value, the same value may be bound to multiple keys. This means that values are never checked for their uniqueness."
   ]
  },
  {
   "cell_type": "markdown",
   "id": "15ac3056-a133-4f52-ac4c-bc11c79498d2",
   "metadata": {},
   "source": [
    "A key should be immutable, risking that some values in your map become unreachable if a key gets corrupted. Using a mutable structure for a key, and, even worse, mutating it, is an [easily-demonstratable antipattern](https://dev.java/learn/api/collections-framework/choosing-keys/#no-mutable-keys)."
   ]
  },
  {
   "cell_type": "markdown",
   "id": "e181434b-2f76-4cc1-9699-672cae481c10",
   "metadata": {},
   "source": [
    "The `isEmpty`, `size` and `clear` methods also are present and work similarly to their homonyms from the `Collection` interface. "
   ]
  },
  {
   "cell_type": "markdown",
   "id": "38916bc1-6119-4e34-bb01-74a66320f4cc",
   "metadata": {},
   "source": [
    "Some methods will return collections with the content of the map. `keySet` returns a `Set` with only the keys. Similarly, `entrySet` returns a set of type `Set<Map.Entry>` that will contain all the pairs from the original map. Finally, `values` will return a `Collection` with only the values."
   ]
  },
  {
   "cell_type": "markdown",
   "id": "08235281-c183-4160-b262-40a0c9a22181",
   "metadata": {},
   "source": [
    "Any modification to the structures obtained using these methods **is** reflected on the original map. Notice that if you remove a _value_, since it can occur more than once, that will remove only the first occurrence found."
   ]
  },
  {
   "cell_type": "markdown",
   "id": "92fa0271-d463-4144-9238-441d3ef6c3e6",
   "metadata": {},
   "source": [
    "### Adding pairs"
   ]
  },
  {
   "cell_type": "markdown",
   "id": "d4568cd2-58a1-42c7-85fb-7a6e52504e66",
   "metadata": {},
   "source": [
    "The simplest way to add a new key-value pair to the map is through the `put` method:"
   ]
  },
  {
   "cell_type": "code",
   "execution_count": 29,
   "id": "fb51dd0e-ae8e-4ad5-836f-eb9c572d48a9",
   "metadata": {},
   "outputs": [
    {
     "name": "stdout",
     "output_type": "stream",
     "text": [
      "6 null 1 2 3 5 "
     ]
    }
   ],
   "source": [
    "import java.util.Map;\n",
    "import java.util.HashMap;\n",
    "\n",
    "Map<String, Integer> map = new HashMap<>();\n",
    "\n",
    "map.put(\"one\", 1);\n",
    "map.put(\"two\", 2);\n",
    "map.put(\"three\", 3);\n",
    "map.put(\"four\", null);\n",
    "map.put(\"five\", 5);\n",
    "map.put(\"six\", 6);\n",
    "\n",
    "for (Integer value : map.values()) {\n",
    "    out.print(value + \" \");\n",
    "}"
   ]
  },
  {
   "cell_type": "markdown",
   "id": "cbeeba40-147f-490e-8b6a-961b86277f9e",
   "metadata": {},
   "source": [
    "The `putIfAbsent` method can be used to fix the `null` value above:"
   ]
  },
  {
   "cell_type": "code",
   "execution_count": 33,
   "id": "f4dcb97d-de3c-482c-9b3f-c588fa5fabcd",
   "metadata": {},
   "outputs": [
    {
     "name": "stdout",
     "output_type": "stream",
     "text": [
      "-1"
     ]
    }
   ],
   "source": [
    "for (String key : map.keySet()) {\n",
    "    map.putIfAbsent(key, -1);\n",
    "}\n",
    "\n",
    "out.print(map.get(\"four\"));"
   ]
  },
  {
   "cell_type": "markdown",
   "id": "4850f9a8-18e4-4d6d-8be6-605390a1259d",
   "metadata": {},
   "source": [
    "The method `putAll` will put all of the pairs from the argument map. Notice that if some keys are identical, the argument map will overwrite the original map's pair."
   ]
  },
  {
   "cell_type": "markdown",
   "id": "ad7cf376-2945-4326-bde6-884c7c899732",
   "metadata": {},
   "source": [
    "### Getting values"
   ]
  },
  {
   "cell_type": "markdown",
   "id": "af577e3a-899c-471f-9726-7c9bf47bcf66",
   "metadata": {},
   "source": [
    "If you try to get a value for a non-existent key, the `get` method will return `null`:"
   ]
  },
  {
   "cell_type": "code",
   "execution_count": 34,
   "id": "67956e5a-61fa-42d0-ae97-0e3a956856eb",
   "metadata": {},
   "outputs": [
    {
     "name": "stdout",
     "output_type": "stream",
     "text": [
      "null"
     ]
    }
   ],
   "source": [
    "out.print(map.get(\"sixteen\"));"
   ]
  },
  {
   "cell_type": "markdown",
   "id": "a561d1c3-54ba-4168-89ce-ba931807dcbf",
   "metadata": {},
   "source": [
    "The method `getOrDefault` provides a way to specify another value to be returned when the key is absent."
   ]
  },
  {
   "cell_type": "markdown",
   "id": "83027c59-9219-4d2f-88c4-a30fa40e290a",
   "metadata": {},
   "source": [
    "Consider for the following map, which contains pairs only for keys `1` through `3`:"
   ]
  },
  {
   "cell_type": "code",
   "execution_count": 60,
   "id": "41e91d60-827a-452a-8ff9-da36a8551a50",
   "metadata": {},
   "outputs": [],
   "source": [
    "Map<Integer, String> map = new HashMap<>();\n",
    "\n",
    "map.put(1, \"one\");\n",
    "map.put(2, \"two\");\n",
    "map.put(3, \"three\");"
   ]
  },
  {
   "cell_type": "markdown",
   "id": "6bce81e5-9c7e-49f1-a2df-470ee5041cbe",
   "metadata": {},
   "source": [
    "The two snippets below show how to use `getOrDefault` to populate a separate `ArrayList` with the map values, placing the string \"UNDEFINED\" instead of `null` when there is no pair:"
   ]
  },
  {
   "cell_type": "markdown",
   "id": "02c89cf2-c089-454e-a528-f8aefab1b603",
   "metadata": {},
   "source": [
    "With a classical for loop:"
   ]
  },
  {
   "cell_type": "code",
   "execution_count": 51,
   "id": "c97dafd9-6eb4-40b9-bfaa-6c54bb41f7e4",
   "metadata": {},
   "outputs": [
    {
     "name": "stdout",
     "output_type": "stream",
     "text": [
      "[UNDEFINED, one, two, three, UNDEFINED]"
     ]
    }
   ],
   "source": [
    "List<String> values = new ArrayList<>();\n",
    "\n",
    "for (int key = 0; key < 5; key++) {\n",
    "    values.add(map.getOrDefault(key,\"UNDEFINED\"));\n",
    "}\n",
    "\n",
    "out.print(values);"
   ]
  },
  {
   "cell_type": "markdown",
   "id": "9173ff31-7b3d-498c-a2eb-8f6567b22df8",
   "metadata": {},
   "source": [
    "With streams:"
   ]
  },
  {
   "cell_type": "code",
   "execution_count": 50,
   "id": "16a04a99-6779-47ef-82ef-0dbd028eb0d4",
   "metadata": {},
   "outputs": [
    {
     "name": "stdout",
     "output_type": "stream",
     "text": [
      "[UNDEFINED, one, two, three, UNDEFINED]"
     ]
    }
   ],
   "source": [
    "import java.util.stream.IntStream;\n",
    "import java.util.stream.Collectors;\n",
    "\n",
    "List<String> values =\n",
    "    IntStream.range(0, 5)\n",
    "        .mapToObj(key -> map.getOrDefault(key, \"UNDEFINED\"))\n",
    "        .collect(Collectors.toList());\n",
    "\n",
    "out.print(values);"
   ]
  },
  {
   "cell_type": "markdown",
   "id": "8fd28630-ac63-4631-a62c-c8de01a12fb1",
   "metadata": {},
   "source": [
    "To check for the presence of a given key or value, the `containsKey` and `containsValue` methods are available, both of which return `true` in case of a match."
   ]
  },
  {
   "cell_type": "markdown",
   "id": "a3ee7ff8-01d2-44a3-8431-3302d437b4ed",
   "metadata": {},
   "source": [
    "### Removing pairs"
   ]
  },
  {
   "cell_type": "markdown",
   "id": "5c9ae553-5256-4c47-b1d6-834ce20ce35c",
   "metadata": {},
   "source": [
    "Because removing keys from a map is a risky, irreversible action, besides the `remove(key)` method there is also a `remove(key, value)` method that will only perform the removal in case there is an exact match for both the key and the value. In addition, it returns `true` only if the pair was sucessfully removed."
   ]
  },
  {
   "cell_type": "markdown",
   "id": "4b645f59-f5ab-416a-b4d4-578b7904837c",
   "metadata": {},
   "source": [
    "### Modifying values"
   ]
  },
  {
   "cell_type": "markdown",
   "id": "8481013f-9cab-4fff-b0c3-3fd5d6c1be2d",
   "metadata": {},
   "source": [
    "When replacing values, a similar approach is possible. The `replace` method provides an overload with a third argument, `replace(key, existingValue, newValue)`. Like for `remove(key, value)`, the value will be replaced only if there is an exact match and in that case it will also return `true` if the replacement occurred."
   ]
  },
  {
   "cell_type": "markdown",
   "id": "2661c781-e1df-4c98-8397-e2ca659ed6fd",
   "metadata": {},
   "source": [
    "One more flexible way to perform a replacement is by passing a two-argument lambda to `replaceAll`:"
   ]
  },
  {
   "cell_type": "code",
   "execution_count": 59,
   "id": "bddb0f8d-8eed-42cf-9855-26ae01b0afc4",
   "metadata": {},
   "outputs": [
    {
     "name": "stdout",
     "output_type": "stream",
     "text": [
      "1 :: ONE\n",
      "2 :: TWO\n",
      "3 :: THREE\n"
     ]
    }
   ],
   "source": [
    "map.replaceAll((key, value) -> value.toUpperCase());\n",
    "map.forEach((key, value) -> out.println(key + \" :: \" + value));"
   ]
  },
  {
   "cell_type": "markdown",
   "id": "94b2f695-40ca-4f8e-aad6-fce63162ca67",
   "metadata": {},
   "source": [
    "The `compute`, `computeIfPresent` and `computeIfAbsent` are also able to perform (re)mappings using lambdas.\n",
    "\n",
    "They take the key, the current value bound to the key (for `compute` and `computeIfPresent`) and a function. This function can return `null`, in which case the pair gets removed. If it does return a non-null value, that value is mapped to the key and the new value is returned.\n",
    "\n",
    "The [documentation](https://dev.java/learn/api/collections-framework/maps-and-lambdas/#computing-values) provides a more extensive explanation with examples on how each of them is used."
   ]
  },
  {
   "cell_type": "markdown",
   "id": "061e0427-3137-4553-ae37-2452904c6e24",
   "metadata": {},
   "source": [
    "Finally, you can also use the `merge` method to perform changes to values:"
   ]
  },
  {
   "cell_type": "markdown",
   "id": "00aac34d-a418-4d38-a35b-fd9caad87337",
   "metadata": {},
   "source": [
    "> If the key is not in the map or bound to a null value, then the value is bound to that key. The remapping function is not called in this case.\n",
    "\n",
    "> On the contrary, if the key is already bound to a non-null value, then the remapping function is called with the existing value, and the new value passed as an argument. If this remapping function returns null, then the key is removed from the map. The value it produces is bound to that key otherwise. "
   ]
  },
  {
   "cell_type": "markdown",
   "id": "0517dadc-59d3-48de-9265-e4812f0ca09f",
   "metadata": {},
   "source": [
    "In the example below, the `merge` method is used to concatenate the existing value to a new value from the iteration of a list. The map starts empty, and the same key has its value merged with a new word each time that word has the same length in characters as another."
   ]
  },
  {
   "cell_type": "code",
   "execution_count": 62,
   "id": "084d3f04-9733-417c-9e70-a770c1e4ac73",
   "metadata": {},
   "outputs": [
    {
     "name": "stdout",
     "output_type": "stream",
     "text": [
      "3 :: one, two\n",
      "4 :: four, five\n",
      "5 :: three\n"
     ]
    }
   ],
   "source": [
    "List<String> strings = List.of(\"one\", \"two\", \"three\", \"four\", \"five\");\n",
    "\n",
    "Map<Integer, String> map = new HashMap<>();\n",
    "\n",
    "for (String word: strings) {\n",
    "    int length = word.length();\n",
    "    map.merge(length, word, \n",
    "              (existingValue, newWord) -> existingValue + \", \" + newWord);\n",
    "}\n",
    "\n",
    "map.forEach((key, value) -> out.println(key + \" :: \" + value));"
   ]
  },
  {
   "cell_type": "markdown",
   "id": "44c095bf-eeac-4b0b-9bd2-2903a8246de1",
   "metadata": {},
   "source": [
    "### Iterating"
   ]
  },
  {
   "cell_type": "markdown",
   "id": "08b11f16-536a-4e43-881a-e0dd5474ff15",
   "metadata": {},
   "source": [
    "The `Map` interface has a `forEach` method, but it takes a [`BiConsumer`](https://docs.oracle.com/en/java/javase/21/docs/api/java.base/java/util/function/BiConsumer.html) instead of a [`Consumer`](https://docs.oracle.com/en/java/javase/21/docs/api/java.base/java/util/function/Consumer.html), meaning that if you pass a lambda to it it has to take two arguments:"
   ]
  },
  {
   "cell_type": "code",
   "execution_count": 57,
   "id": "17ffb995-f7b8-4cad-a931-077185210d0e",
   "metadata": {},
   "outputs": [
    {
     "name": "stdout",
     "output_type": "stream",
     "text": [
      "key: 1, value: one\n",
      "key: 2, value: two\n",
      "key: 3, value: three\n"
     ]
    }
   ],
   "source": [
    "map.forEach(\n",
    "    (key, value) -> System.out.println(\"key: \" + key + \", value: \" + value)\n",
    ");"
   ]
  },
  {
   "cell_type": "markdown",
   "id": "5a43e5c6-68e4-433d-b402-2f8e9f99185a",
   "metadata": {},
   "source": [
    "### Subinterfaces"
   ]
  },
  {
   "cell_type": "markdown",
   "id": "fd7ab67b-c362-48db-a587-ccd51f50b5b5",
   "metadata": {},
   "source": [
    "- `SortedMap<K,V>`\n",
    "    - `NavigableMap<K,V>`\n",
    "\n",
    "<details>\n",
    "<summary>Show more subinterfaces</summary>\n",
    "\n",
    "- `Bindings`\n",
    "- `ConcurrentMap<K,V>`\n",
    "- `ConcurrentNavigableMap<K,V>`\n",
    "- `SequencedMap<K,V>`\n",
    "    \n",
    "</details>"
   ]
  },
  {
   "cell_type": "markdown",
   "id": "058339ee-9c25-41d3-a4fd-d27f4eebcc3c",
   "metadata": {},
   "source": [
    "Similarly to a `SortedSet`, a `SortedMap` keeps its pairs sorted by their keys. And also similarly to the `NavigableSet`, the `NavigableMap` allows for additional ways of traversing this sequence."
   ]
  },
  {
   "cell_type": "markdown",
   "id": "9678fba0-1782-449e-a553-c94d734c3cf7",
   "metadata": {},
   "source": [
    "#### `SortedMap`"
   ]
  },
  {
   "cell_type": "markdown",
   "id": "e0fac679-b160-4931-93ca-32da02bbaf65",
   "metadata": {},
   "source": [
    "The two extensions of the `Map` interface, `SortedMap` and `NavigableMap` (which extends the former), are also implemented by `TreeMap`."
   ]
  },
  {
   "cell_type": "markdown",
   "id": "b52c9e9b-3f60-4d60-b1d9-7c57f5760366",
   "metadata": {},
   "source": [
    "These subinterfaces cover the use case where a map needs to be sorted by its keys. This means that the key will need ot implement `Comparable`, providing a `Comparator`, or use a type that already provides it."
   ]
  },
  {
   "cell_type": "markdown",
   "id": "ba81b66c-a8b8-4f5f-9a03-417d5536e97f",
   "metadata": {},
   "source": [
    "The following methods are added when using this subinterface:"
   ]
  },
  {
   "cell_type": "markdown",
   "id": "6b383504-4939-4ec5-b8bf-2cc5aba77942",
   "metadata": {},
   "source": [
    "- `firstKey` and `lastKey`: returns the lowest and greatest keys according to the sorting logic defined by the comparator\n",
    "- `headMap` and `tailMap`: filters the map by returning a `SortedMap` where the keys are either less than or greater than the parameter key\n",
    "- `subMap(fromKey, toKey)`: slices the map between the `fromKey`, inclusive, and the `toKey`, exclusive"
   ]
  },
  {
   "cell_type": "markdown",
   "id": "72451cc4-83ba-457d-a92c-11c939a41899",
   "metadata": {},
   "source": [
    "Just like the previous methods that have a similar behavior, the returned maps are views, meaning that changes made to them are reflected in the original map."
   ]
  },
  {
   "cell_type": "markdown",
   "id": "48d76f70-7857-4b73-b42f-a258ad5bb90e",
   "metadata": {},
   "source": [
    "#### `NavigableMap`"
   ]
  },
  {
   "cell_type": "markdown",
   "id": "15be61b7-6cfa-4571-acf7-e8f2099f7f16",
   "metadata": {},
   "source": [
    "Like `NavigableSet`, a `NavigableMap` provides more ways to iterate the map:"
   ]
  },
  {
   "cell_type": "markdown",
   "id": "5f835b09-9ccb-49ff-b00c-dfcbb9b81ec1",
   "metadata": {},
   "source": [
    "- `firstKey`, `firstEntry`, `lastEntry`, `lastKey`: get the lowest or greatest key or entry\n",
    "- `ceilingKey`, `ceilingEntry`, `higherKey`, `higherEntry`: return the lowest key or entry above the parameter key, `ceiling` methods being inclusive and `higher` exclusive\n",
    "- `floorKey`, `floorEntry`, `lowerKey`, `lowerEntry`: return the greatest key or entry below the parameter keym `floor` methods being inclsuive and `lower` exclusive\n",
    "- `pollFirstEntry`, `pollLastEntry`: return and remove the lowest or greatest pair\n",
    "- `navigableKeySet`: returns a `NavigableSet` of this map\n",
    "- `descendingKeySet`: returns a `NavigableSet` of this map that is iterable in reverse order\n",
    "- `descendingMap`: returns a `NavigableMap` of this map that is iterable in reverse order\n",
    "- `subMap(fromKey, fromInclusive, toKey, toInclusive)`: returns a slice of the map, the `fromInclusive` and `toInclusive` arguments being booleans that determine whether or not the boundaries are included\n",
    "- `headMap(toKey, inclusive)`: returns a view for all keys that are less than `toKey`, the second argument being a boolean determining boundary inclusivity\n",
    "- `tailMap(fromKey, inclusive)`: returns a view for all keys that are greater than `fromKey`, the second argument being a boolean determining boundary inclusivity"
   ]
  },
  {
   "cell_type": "markdown",
   "id": "aa16289f-337b-4e97-b926-066ecfe20222",
   "metadata": {},
   "source": [
    "#### `Map.Entry`"
   ]
  },
  {
   "cell_type": "markdown",
   "id": "65dab34f-303e-42c3-a0c9-5c0c7d512c40",
   "metadata": {},
   "source": [
    "The `Map` interface has a nested, member interface:\n",
    "\n",
    "```java \n",
    "static interface Map.Entry<K,V>\n",
    "```"
   ]
  },
  {
   "cell_type": "markdown",
   "id": "999a104a-7d06-4755-8024-80b4fe68bfca",
   "metadata": {},
   "source": [
    "This member interface models an entry, that is, a key-value pair belonging to the map. It has three methods:\n",
    "\n",
    "- `getKey` returns the key\n",
    "- `getValue` returns the value\n",
    "- `setValue` replaces the value\n",
    "\n",
    "Getting a `Map.Entry` from the map means getting a view on the map content. This implies that any changes will be reflected on the actual map."
   ]
  },
  {
   "cell_type": "markdown",
   "id": "6fd9c01c-eb38-40bd-a92d-2a0fe0b35a3c",
   "metadata": {},
   "source": [
    "### Implementation classes:"
   ]
  },
  {
   "cell_type": "markdown",
   "id": "ec5e92af-5f8b-448f-8f1e-d9c16adeee11",
   "metadata": {},
   "source": [
    "- `HashMap`\n",
    "- `TreeMap`\n",
    "- `LinkedHashMap`\n",
    "\n",
    "<details>\n",
    "<summary>Expand ot show more implementation classes</summary>\n",
    "\n",
    "- `WeakHashMap`, `IdentityHashMap`\n",
    "- `ConcurrentHashMap`, `ConcurrentSkipListMap`, \n",
    "- `AbstractMap`, \n",
    "- `Attributes`, \n",
    "- `AuthProvider`, \n",
    "- `EnumMap`, \n",
    "- `Headers`, \n",
    "- `PrinterStateReasons`, \n",
    "- `Properties`, \n",
    "- `Provider`, \n",
    "- `RenderingHints`, \n",
    "- `SimpleBindings`, \n",
    "- `TabularDataSupport`, \n",
    "- `UIDefaults`, \n",
    "- `Hashtable` (deprecated)\n",
    "</details>"
   ]
  },
  {
   "cell_type": "markdown",
   "id": "af72a7a3-1d51-4553-a78b-cff06c056741",
   "metadata": {},
   "source": [
    "The most widely used implementation class for a map is the `HashMap`. There is also a `LinkedHashMap` implementation, which keeps the pairs ordered in the order you have added them.\n",
    "\n"
   ]
  },
  {
   "cell_type": "markdown",
   "id": "d24f8a88-f35b-40d6-aebd-a2b2664f5927",
   "metadata": {},
   "source": [
    "### Methods"
   ]
  },
  {
   "cell_type": "markdown",
   "id": "7a941f85-185e-417d-8cbb-c5f1f21395e2",
   "metadata": {},
   "source": [
    "- `clear`: remove all mappings\n",
    "- `compute`: attempts to compute a mapping for parameter key using the parameter function, potentially remapping its value\n",
    "- `computeIfAbsent`: same as `compute`, for unmapped keys only\n",
    "- `computeIfPresent`: same as `compute`, for mapped keys only\n",
    "- `containsKey`: returns true if a mapping is present and not null for the parameter key\n",
    "- `containsValue` : returns true if there are keys for the parameter value\n",
    "- `copyOf`: returns an ummodifiable copy the map\n",
    "- `entry`: returns an unmodifiable `Map.Entry` with the parameter key and value\n",
    "- `entrySet`: returns a `Set` for the mappings in the map\n",
    "- `equals`:  compares the parameter object with the map for equality\n",
    "- `forEach`: performs the parameter function for each map entry\n",
    "- `get`: returns the value for the parameter key, or null if key is not found\n",
    "- `getOrDefault`: returns the value for the parameter key, or the parameter object if not found\n",
    "- `hashCode`: returns the hash code for the map\n",
    "- `isEmpty`: returns true if the map contains no mappings\n",
    "- `keySet`: returns a `Set` of the keys in the map\n",
    "- `merge`: If the parameter key is not already mapped, map it for the parameter value\n",
    "- `of`: returns an umodifiable map containing the parameter mappings\n",
    "- `ofEntries` returns an unmodifiable map containing keys and values extracted from the parameter map\n",
    "- `put`: associate the parameter value with the parameter key\n",
    "- `putAll`: copy all mappings from the parameter map\n",
    "- `putIfAbsent`: if the parameter key is unmapped or mapped to null, map it with the parameter value and return `null`; if it is, return the current value\n",
    "- `remove`: remove the mapping for the parameter key; if a parameter value is passed, removeonly  if it is mapped to the parameter value\n",
    "- `replace`: replace the value for the parameter key with the parameter value; if a third value is supplied, replace with it if the second parameter value matches the current value\n",
    "- `replaceAll`: replace each mapped value with the result of the invoked parameter function\n",
    "- `size`: return an `int` for the total number of mappings\n",
    "- `values`: returns a `Collection` of the values in the map"
   ]
  },
  {
   "cell_type": "markdown",
   "id": "ce3b4b89-4996-4e83-83bf-872d8785fef2",
   "metadata": {},
   "source": [
    "## Skipped"
   ]
  },
  {
   "cell_type": "markdown",
   "id": "f5fb850e-d796-49a1-9ee3-9034b5bbe868",
   "metadata": {},
   "source": [
    "- <https://dev.java/learn/api/collections-framework/immutable-collections/>\n",
    "- <https://dev.java/learn/api/collections-framework/stacks-queues/>"
   ]
  },
  {
   "cell_type": "markdown",
   "id": "d88ed31b-3d21-4bc4-b900-2e3069ef2bf1",
   "metadata": {},
   "source": [
    "## References"
   ]
  },
  {
   "cell_type": "markdown",
   "id": "434dcace-d397-44e5-9dfe-bcfe55298670",
   "metadata": {},
   "source": [
    "<ul>\n",
    "    <li>https://docs.oracle.com/en/java/javase/21/docs/api/java.base/java/util/Collection.html</li>\n",
    "</ul>\n",
    "\n",
    "<ol>\n",
    "    <li id=\"1\">https://dev.java/learn/api/collections-framework/intri/#intro</li>\n",
    "    <li id=\"2\">https://dev.java/learn/api/collections-framework/intro/#presentation</li>\n",
    "    <li id=\"3\">https://docs.oracle.com/en/java/javase/21/docs/api/java.base/java/util/Set.html</li>\n",
    "    <li id=\"4\">https://docs.oracle.com/en/java/javase/21/docs/api/java.base/java/util/SortedSet.html#headSet(E)</li>\n",
    "    <li id=\"5\">https://docs.oracle.com/javase/8/docs/api/java/util/ListIterator.html#add-E-</li>\n",
    "    <li id=\"6\">https://dev.java/learn/api/collections-framework/lists/#choosing-an-implementation</li>\n",
    "    <li id=\"7\">https://dev.java/learn/api/collections-framework/organization/#navigableset</li>\n",
    "    <li id=\"8\">https://dev.java/learn/api/collections-framework/sets/#sortedset</li>\n",
    "    <li id=\"9\">https://dev.java/learn/api/collections-framework/maps/#hierarchy</li>\n",
    "    <li id=\"10\">https://dev.java/learn/api/collections-framework/maps-and-lambdas/#merging-values</li>\n",
    "</ol>"
   ]
  }
 ],
 "metadata": {
  "kernelspec": {
   "display_name": "Ganymede 2.1.2 (Java 17)",
   "language": "java",
   "name": "ganymede-2.1.2-java-17"
  },
  "language_info": {
   "file_extension": ".java",
   "mimetype": "text/x-java",
   "name": "java",
   "version": "11"
  }
 },
 "nbformat": 4,
 "nbformat_minor": 5
}
