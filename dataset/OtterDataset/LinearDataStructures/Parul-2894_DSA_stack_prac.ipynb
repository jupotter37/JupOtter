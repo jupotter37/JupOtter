{
 "cells": [
  {
   "cell_type": "code",
   "execution_count": 1,
   "metadata": {},
   "outputs": [],
   "source": [
    "#List can be easily used as stack which is LIFO. \n",
    "\n",
    "# The problem with using list as a Stack is that list uses a dynamic array. Foor example if yo uhave a list iwth a capacity of 10\n",
    "# and you want to insert an 11th element then internally what it will do is it will go to other meremory location and allocate an extra capacity for 10*2 elements  and then it will copy\n",
    "# all elements to that location. S not only lis is allocating new memeory but it is copying as well. \n",
    "#For that reason list is not recommended. \n"
   ]
  },
  {
   "cell_type": "markdown",
   "metadata": {},
   "source": [
    "In Python, lists are dynamic arrays, and their memory allocation involves several components:\n",
    "\n",
    "1. List Object Overhead\n",
    "A list in Python is a complex object that has some fixed overhead. This includes:\n",
    "\n",
    "Object Header: Information needed to manage the object (type, reference count, etc.).\n",
    "Pointer to the List’s Items: The list maintains a pointer to an internal array where the actual elements are stored.\n",
    "Other Internal Metadata: Such as size and capacity of the list.\n",
    "On a 64-bit system, the overhead for a list object itself is typically around 64 bytes, but this can vary with Python versions and implementation details.\n",
    "\n",
    "2. Dynamic Array for Elements\n",
    "The elements of a list are stored in a dynamically allocated array. The list starts with a small, fixed-size array and grows as elements are added. Here’s how it typically works:\n",
    "\n",
    "Initial Allocation: When a list is created, Python allocates a small array to hold the list elements. This initial size is usually small (e.g., 4 or 8 elements).\n",
    "Resizing: When more elements are added than the current capacity of the array, Python allocates a larger array and copies the existing elements over. The new size is usually a bit larger than the old size to amortize the cost of resizing. The list’s capacity typically grows by a factor (like doubling) to balance the cost of resizing against memory usage.\n",
    "3. Memory Management\n",
    "Python uses a technique called over-allocation to optimize performance and reduce the frequency of resizing:\n",
    "\n",
    "Over-allocation: When a list grows, Python often allocates more space than currently needed. This extra space allows the list to grow without immediate need for another resizing operation.\n",
    "Garbage Collection: Unused or deleted elements are managed by Python’s garbage collector, which frees up memory as objects are no longer referenced.\n",
    "Example\n",
    "If you create a list and append elements, Python will initially allocate space for a small number of elements. As you add more elements, it reallocates memory to accommodate the new size, using the over-allocation strategy to make future appends more efficient.\n",
    "\n",
    "Here’s a simplified illustration of how memory might grow:\n",
    "\n",
    "Initial Allocation: Allocate memory for an initial small size, e.g., 4 elements.\n",
    "Add Elements: As you add elements, the list may expand.\n",
    "Resize: If the current capacity is exceeded, allocate a new larger array (e.g., double the size) and copy elements.\n",
    "You can use sys.getsizeof() to check the memory usage of a list at different stages:"
   ]
  },
  {
   "cell_type": "code",
   "execution_count": null,
   "metadata": {},
   "outputs": [],
   "source": [
    "# It is because of this memory allocation and copying proocess lists are not recommended for stacks. "
   ]
  },
  {
   "cell_type": "code",
   "execution_count": 2,
   "metadata": {},
   "outputs": [],
   "source": [
    "s = []\n",
    "s.append(\"India\")\n",
    "s.append(\"Sri Lanka\")\n",
    "s.append(\"USA\")"
   ]
  },
  {
   "cell_type": "code",
   "execution_count": 4,
   "metadata": {},
   "outputs": [
    {
     "data": {
      "text/plain": [
       "'USA'"
      ]
     },
     "execution_count": 4,
     "metadata": {},
     "output_type": "execute_result"
    }
   ],
   "source": [
    "s.pop()"
   ]
  },
  {
   "cell_type": "code",
   "execution_count": 9,
   "metadata": {},
   "outputs": [
    {
     "name": "stdout",
     "output_type": "stream",
     "text": [
      "96\n",
      "152\n"
     ]
    }
   ],
   "source": [
    "import sys\n",
    "lst = [None]*5\n",
    "\n",
    "\n",
    "print(sys.getsizeof(lst))\n",
    "\n",
    "lst.append(1)\n",
    "\n",
    "print(sys.getsizeof(lst))\n"
   ]
  },
  {
   "cell_type": "code",
   "execution_count": null,
   "metadata": {},
   "outputs": [],
   "source": [
    "# the recommended way is to use collection.deque\n",
    "\n",
    "# Dequeues are a generalization of stack and queues.\n",
    "\n",
    "# In Python, the deque (short for \"double-ended queue\") from the collections module is often preferred for implementing stacks rather than using lists because of its performance characteristics. Here's why deque is generally a better choice for stacks:\n",
    "\n",
    "# 1. Efficient O(1) Operations\n",
    "# Appending and Popping: deque provides O(1) time complexity for appending and popping elements from both ends (left and right). This is because deque is implemented as a doubly linked list, allowing it to efficiently manage these operations.\n",
    "# Lists: While lists have O(1) time complexity for append operations (.append()), popping an element from the start of a list (.pop(0)) or inserting at the beginning (.insert(0, x)) requires O(n) time because all the elements have to be shifted.\n",
    "# 2. Memory Management\n",
    "# deque uses a block of memory and grows more efficiently compared to lists, which may need to copy elements to a new memory location when they grow, causing reallocation overhead.\n",
    "# 3. Thread Safety\n",
    "# deque is thread-safe for appends and pops, making it more suitable for concurrent applications without additional locking mechanisms.\n",
    "# 4. Built-In Methods\n",
    "# deque offers methods like append(), appendleft(), pop(), and popleft(), which are particularly useful for implementing both stack (LIFO) and queue (FIFO) data structures."
   ]
  },
  {
   "cell_type": "code",
   "execution_count": 3,
   "metadata": {},
   "outputs": [
    {
     "name": "stdout",
     "output_type": "stream",
     "text": [
      "deque([1, 2, 3])\n",
      "3\n",
      "2\n",
      "deque([1])\n"
     ]
    }
   ],
   "source": [
    "from collections import deque\n",
    "\n",
    "stack = deque()\n",
    "stack.append(1)\n",
    "stack.append(2)\n",
    "stack.append(3)\n",
    "print(stack)\n",
    "\n",
    "print(stack.pop())\n",
    "print(stack.pop())\n",
    "\n",
    "print(stack)"
   ]
  },
  {
   "cell_type": "code",
   "execution_count": null,
   "metadata": {},
   "outputs": [],
   "source": []
  }
 ],
 "metadata": {
  "kernelspec": {
   "display_name": "Python 3",
   "language": "python",
   "name": "python3"
  },
  "language_info": {
   "codemirror_mode": {
    "name": "ipython",
    "version": 3
   },
   "file_extension": ".py",
   "mimetype": "text/x-python",
   "name": "python",
   "nbconvert_exporter": "python",
   "pygments_lexer": "ipython3",
   "version": "3.11.1"
  }
 },
 "nbformat": 4,
 "nbformat_minor": 2
}
