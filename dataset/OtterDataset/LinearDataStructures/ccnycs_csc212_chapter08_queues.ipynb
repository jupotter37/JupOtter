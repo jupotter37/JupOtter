{
 "cells": [
  {
   "cell_type": "markdown",
   "metadata": {
    "slideshow": {
     "slide_type": "slide"
    }
   },
   "source": [
    "# Chapter 08: Queues"
   ]
  },
  {
   "cell_type": "markdown",
   "metadata": {
    "slideshow": {
     "slide_type": "slide"
    }
   },
   "source": [
    "# Objectives\n",
    "* understand queue operations: enqueue and de-queue\n",
    "* use the STL queue class to implement queue-based algorithms such as scheduling, first-come, first serve tasks\n",
    "* use the STL double-ended queue classes in applications\n",
    "* implement the queue and double-ended queue classes using an array or linked-list data structure"
   ]
  },
  {
   "cell_type": "markdown",
   "metadata": {
    "slideshow": {
     "slide_type": "slide"
    }
   },
   "source": [
    "![lego standing on a bench and 3 legos in line](figures\\chap08\\legoq.jpg??)\n",
    "https://www.flickr.com/photos/pasukaru76/4656741022/"
   ]
  },
  {
   "cell_type": "markdown",
   "metadata": {
    "slideshow": {
     "slide_type": "slide"
    }
   },
   "source": [
    "# Characteristics of a queue\n",
    "* entries are ordered\n",
    "* entries are inserted at the __rear__ and removed from the __front__:\n",
    "    + __FIFO__ - first in, first out\n",
    "    + __enqueue__ -add entry to __rear__ of queue\n",
    "    + __dequeue__ - remove entry from __front__ of queue\n",
    "* stack errors:\n",
    "    + __underflow__ - __dequeue__ an entry from an empty queue\n",
    "    + __overflow__ - __enqueue__ an entry on a full queue"
   ]
  },
  {
   "cell_type": "markdown",
   "metadata": {
    "slideshow": {
     "slide_type": "slide"
    }
   },
   "source": [
    "# Programming Example: Echoing a Word"
   ]
  },
  {
   "cell_type": "code",
   "execution_count": 1,
   "metadata": {
    "slideshow": {
     "slide_type": "slide"
    }
   },
   "outputs": [
    {
     "name": "stdout",
     "output_type": "stream",
     "text": [
      "hello\n"
     ]
    }
   ],
   "source": [
    "!echo \"hello\""
   ]
  },
  {
   "cell_type": "code",
   "execution_count": 2,
   "metadata": {
    "slideshow": {
     "slide_type": "slide"
    }
   },
   "outputs": [
    {
     "name": "stdout",
     "output_type": "stream",
     "text": [
      "/home/hannah/miniconda3/envs/xeus-cling/bin:/home/hannah/miniconda3/envs/xeus-cling/bin:/home/hannah/miniconda3/condabin:/usr/local/sbin:/usr/local/bin:/usr/sbin:/usr/bin:/sbin:/bin:/usr/games:/usr/local/games:/mnt/c/Program Files/WindowsApps/CanonicalGroupLimited.Ubuntu18.04onWindows_1804.2018.817.0_x64__79rhkp1fndgsc:/mnt/c/Windows/System32:/mnt/c/Windows:/mnt/c/Windows/System32/wbem:/mnt/c/Windows/System32/WindowsPowerShell/v1.0:/mnt/c/Windows/System32/OpenSSH:/mnt/c/Program Files (x86)/Intel/Intel(R) Management Engine Components/DAL:/mnt/c/Program Files/Intel/Intel(R) Management Engine Components/DAL:/mnt/c/Program Files/Intel/WiFi/bin:/mnt/c/Program Files/Common Files/Intel/WirelessCommon:/mnt/c/Users/story/AppData/Local/Microsoft/WindowsApps:/mnt/c/Users/story/AppData/Local/Programs/Microsoft VS Code/bin:/snap/bin$\n"
     ]
    }
   ],
   "source": [
    "!echo $PATH$"
   ]
  },
  {
   "cell_type": "markdown",
   "metadata": {
    "slideshow": {
     "slide_type": "slide"
    }
   },
   "source": [
    "# Enqueue `Hello`\n",
    "\n",
    "| H | e | l | l | o |\n",
    "|:--:|:--:|:--:|:---:|:---:|\n",
    "|<br><br><br><br> H | <br> <br><br>e<br>H | <br><br>l<br>e<br>H | <br>l<br>l<br>e<br>H | o<br>l<br>l<br>e<br>H|"
   ]
  },
  {
   "cell_type": "markdown",
   "metadata": {
    "slideshow": {
     "slide_type": "fragment"
    }
   },
   "source": [
    "the __front__ of the queue starts at `H`, the __rear__ of the queue is `o`"
   ]
  },
  {
   "cell_type": "markdown",
   "metadata": {
    "slideshow": {
     "slide_type": "slide"
    }
   },
   "source": [
    "# Dequeue `Hello`\n",
    "\n",
    "|<i></i> | <i></i> | <i></i> | <i></i> | <i></i> |\n",
    "|:--:|:--:|:--:|:---:|:---:|\n",
    "|o<br>l<br>l<br>e<br>H|<br>o<br>l<br>l<br>e|<br><br>o<br>l<br>l|<br><br><br>o<br>l|<br><br><br><br>o|\n",
    "| __H__| __e__ | __l__ | __l__ | __o__ |"
   ]
  },
  {
   "cell_type": "markdown",
   "metadata": {
    "slideshow": {
     "slide_type": "slide"
    }
   },
   "source": [
    "# How do we implement this? \n",
    "\n",
    " 1. declare a queue of characters\n",
    " 2. while (there are more characters of the word to read)\n",
    "     1. read a chaarcter\n",
    "     2. push the character into the queue\n",
    " 3. while (the queue is not empty)\n",
    "     1. write the front character to the screen\n",
    "     2. remove the front character from the queue\n"
   ]
  },
  {
   "cell_type": "markdown",
   "metadata": {
    "slideshow": {
     "slide_type": "slide"
    }
   },
   "source": [
    "# STL Queue member functions\n",
    "\n",
    "* __(constructor)__ Construct queue(public member function )\n",
    "* __empty__ Test whether container is empty (public member function )\n",
    "* __size__ Return size (public member function )\n",
    "* __front__ Access next element (public member function )\n",
    "* __back__ Access last element (public member function)\n",
    "* __push__ Insert element (public member function )\n",
    "* __emplace__ Construct and insert element (public member function )\n",
    "* __pop__ Remove top element (public member function )\n",
    "* __swap__ Swap contents (public member function )\n",
    "    \n",
    "\n",
    "source: http://www.cplusplus.com/reference/queue/queue/"
   ]
  },
  {
   "cell_type": "markdown",
   "metadata": {
    "slideshow": {
     "slide_type": "slide"
    }
   },
   "source": [
    "```cpp\n",
    "#include <queue>\n",
    "\n",
    "std::queue<char> letters;\n",
    "std::string word;\n",
    "```\n",
    "\n"
   ]
  },
  {
   "cell_type": "markdown",
   "metadata": {
    "slideshow": {
     "slide_type": "slide"
    }
   },
   "source": [
    "# Queue Applications: Recognizing Palindromes\n",
    "\n",
    "## Input: Hannah\n",
    "\n",
    "* use a stack for the reversing? (why?)\n"
   ]
  },
  {
   "cell_type": "code",
   "execution_count": 12,
   "metadata": {
    "slideshow": {
     "slide_type": "slide"
    }
   },
   "outputs": [
    {
     "name": "stderr",
     "output_type": "stream",
     "text": [
      "\u001b[1minput_line_31:1:6: \u001b[0m\u001b[0;1;31merror: \u001b[0m\u001b[1mredefinition of 'is_palindrome'\u001b[0m\n",
      "bool is_palindrome(const std::string& exp...\n",
      "\u001b[0;1;32m     ^\n",
      "\u001b[0m\u001b[1minput_line_28:1:6: \u001b[0m\u001b[0;1;30mnote: \u001b[0mprevious definition is here\u001b[0m\n",
      "bool is_palindrome(const std::string& exp...\n",
      "\u001b[0;1;32m     ^\n",
      "\u001b[0m"
     ]
    },
    {
     "ename": "Interpreter Error",
     "evalue": "",
     "output_type": "error",
     "traceback": [
      "Interpreter Error: "
     ]
    }
   ],
   "source": [
    "// implement the is balanced function, and add a test for it in main\n",
    "#include <queue>\n",
    "#include <stack>\n",
    "bool is_palindrome(const std::string& expression){\n",
    "    //postcondition: A true return value indicates that word reads the same forwards and when reversed\n",
    "}"
   ]
  },
  {
   "cell_type": "markdown",
   "metadata": {
    "slideshow": {
     "slide_type": "slide"
    }
   },
   "source": [
    "# Queue Applications: Scheduling/Resource allocation\n",
    "\n",
    "## Check if Xavier can give change to every person in the queue\n",
    "\n",
    "Customers are standing in a queue waiting to buy an ice-cream from Xavier which costs 2 dollars. The possible currencies are 1, 5, 10, and 20 dollars. Initially, Xavier has no money. Check if Xavier will be able to provide change to every person waiting to buy an ice-cream. \n",
    "\n",
    "* queue of customers, each buying one $2 ice cream \n",
    "* queue stores how much the customer pays\n",
    "* print out:\n",
    "    + the index of the customer Xavier can't give change to and Xavier's revenue\n",
    "    + \"Every customer got change\" + Xavier's revenue\n",
    "* Modification: also let customers buy more than one ice cream, Xavier has 100 in stock\n",
    "    + the index of the customer Xavier is sold out at\n",
    "    + how many Xavier has left after there are no more customers\n",
    "* Modification two: average\n",
    "    + ice creames sold\n",
    "    + revenue\n",
    "    \n",
    "<!--source: https://www.geeksforgeeks.org/check-if-x-can-give-change-to-every-person-in-the-queue/-->"
   ]
  },
  {
   "cell_type": "markdown",
   "metadata": {
    "slideshow": {
     "slide_type": "slide"
    }
   },
   "source": [
    "# Summary:\n",
    "Queues: \n",
    "   * entries are ordered\n",
    "   * entries are __pushed__ to *back* of queue\n",
    "   * entries are __popped__ from *front* of queue\n",
    "   * errors: __underflow__ and __overflow__\n",
    "   * implemented as STL queueclass\n",
    "   \n",
    "Applications:\n",
    "   * listing: echoing a word\n",
    "   * resource allocation, scheduling: ice cream seller\n",
    "\n",
    "Implementations:\n",
    "   * STL: queue, vector\n",
    "   * dynamic array\n",
    "   * linked list"
   ]
  },
  {
   "cell_type": "code",
   "execution_count": null,
   "metadata": {},
   "outputs": [],
   "source": []
  }
 ],
 "metadata": {
  "celltoolbar": "Slideshow",
  "kernelspec": {
   "display_name": "C++17",
   "language": "C++17",
   "name": "xeus-cling-cpp17"
  },
  "language_info": {
   "codemirror_mode": "text/x-c++src",
   "file_extension": ".cpp",
   "mimetype": "text/x-c++src",
   "name": "c++",
   "version": "-std=c++17"
  },
  "latex_envs": {
   "LaTeX_envs_menu_present": true,
   "autoclose": false,
   "autocomplete": true,
   "bibliofile": "biblio.bib",
   "cite_by": "apalike",
   "current_citInitial": 1,
   "eqLabelWithNumbers": true,
   "eqNumInitial": 1,
   "hotkeys": {
    "equation": "Ctrl-E",
    "itemize": "Ctrl-I"
   },
   "labels_anchors": false,
   "latex_user_defs": false,
   "report_style_numbering": false,
   "user_envs_cfg": false
  },
  "varInspector": {
   "cols": {
    "lenName": 16,
    "lenType": 16,
    "lenVar": 40
   },
   "kernels_config": {
    "python": {
     "delete_cmd_postfix": "",
     "delete_cmd_prefix": "del ",
     "library": "var_list.py",
     "varRefreshCmd": "print(var_dic_list())"
    },
    "r": {
     "delete_cmd_postfix": ") ",
     "delete_cmd_prefix": "rm(",
     "library": "var_list.r",
     "varRefreshCmd": "cat(var_dic_list()) "
    }
   },
   "types_to_exclude": [
    "module",
    "function",
    "builtin_function_or_method",
    "instance",
    "_Feature"
   ],
   "window_display": false
  }
 },
 "nbformat": 4,
 "nbformat_minor": 2
}
