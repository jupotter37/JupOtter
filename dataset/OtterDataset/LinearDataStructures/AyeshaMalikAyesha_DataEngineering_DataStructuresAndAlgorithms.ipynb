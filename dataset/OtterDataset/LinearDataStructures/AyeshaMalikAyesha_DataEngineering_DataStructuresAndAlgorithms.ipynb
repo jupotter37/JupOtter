{
  "nbformat": 4,
  "nbformat_minor": 0,
  "metadata": {
    "colab": {
      "provenance": [],
      "authorship_tag": "ABX9TyP+7obYKtstvTfbu7P6USQ7",
      "include_colab_link": true
    },
    "kernelspec": {
      "name": "python3",
      "display_name": "Python 3"
    },
    "language_info": {
      "name": "python"
    }
  },
  "cells": [
    {
      "cell_type": "markdown",
      "metadata": {
        "id": "view-in-github",
        "colab_type": "text"
      },
      "source": [
        "<a href=\"https://colab.research.google.com/github/AyeshaMalikAyesha/DataEngineering/blob/main/DataStructuresAndAlgorithms.ipynb\" target=\"_parent\"><img src=\"https://colab.research.google.com/assets/colab-badge.svg\" alt=\"Open In Colab\"/></a>"
      ]
    },
    {
      "cell_type": "markdown",
      "source": [
        "# Data Structures and Algorithms\n",
        "\n"
      ],
      "metadata": {
        "id": "rx9fjg7SVkvR"
      }
    },
    {
      "cell_type": "markdown",
      "source": [
        "Data structure is a way to organize data and Algorithms are set of rules that can be converted into code and executed by compiler on different inputs."
      ],
      "metadata": {
        "id": "fjo2D-PXVshK"
      }
    },
    {
      "cell_type": "markdown",
      "source": [
        "SELF represents instance of class. It is used to access the attributes and methods of class."
      ],
      "metadata": {
        "id": "bUn1m5aEVwg2"
      }
    },
    {
      "cell_type": "markdown",
      "source": [
        "str and repr both are string representation of objects but str is more readable and is for users but repr is for developers and is more detailed."
      ],
      "metadata": {
        "id": "x6fCwDgbVzMk"
      }
    },
    {
      "cell_type": "code",
      "source": [
        "class Student:\n",
        "    uniName='RIPHAH' # class variable is shared across all instance of the class\n",
        "    # Constructor\n",
        "    def __init__(self,sapId,name):\n",
        "        self.sapId=sapId\n",
        "        self.name=name\n",
        "    def __str__(self):\n",
        "        return self.__repr__()\n",
        "    def __repr__(self):\n",
        "        return f'Name:{self.name} ,ID:{self.sapId}, Uni Name:{self.uniName}'\n",
        "std1=Student(24764,'Ayesha')\n",
        "std1"
      ],
      "metadata": {
        "colab": {
          "base_uri": "https://localhost:8080/"
        },
        "id": "JctFNX2TVoR_",
        "outputId": "72b84c7e-3e69-4e38-936b-db8eac073269"
      },
      "execution_count": null,
      "outputs": [
        {
          "output_type": "execute_result",
          "data": {
            "text/plain": [
              "Name:Ayesha ,ID:24764, Uni Name:RIPHAH"
            ]
          },
          "metadata": {},
          "execution_count": 1
        }
      ]
    },
    {
      "cell_type": "markdown",
      "source": [
        "# Linear Search Algorithm O(n)"
      ],
      "metadata": {
        "id": "GlR7Vk2dWA9X"
      }
    },
    {
      "cell_type": "code",
      "source": [
        "def linear_search(arr,target):\n",
        "    for i in range(len(arr)):\n",
        "        if arr[i]==target:\n",
        "            return i\n",
        "    return -1\n",
        "\n",
        "arr=[1,2,3,4,5,6,7,8,90,45]\n",
        "linear_search(arr,5)\n",
        "\n"
      ],
      "metadata": {
        "colab": {
          "base_uri": "https://localhost:8080/"
        },
        "id": "C-yKN8IKV6zW",
        "outputId": "f0764e23-649f-4f04-fc2b-10b32a5ba77a"
      },
      "execution_count": null,
      "outputs": [
        {
          "output_type": "execute_result",
          "data": {
            "text/plain": [
              "4"
            ]
          },
          "metadata": {},
          "execution_count": 2
        }
      ]
    },
    {
      "cell_type": "markdown",
      "source": [
        "# Binary Search Algorithm TC=O(logn)"
      ],
      "metadata": {
        "id": "Q4YvBM1MWXPX"
      }
    },
    {
      "cell_type": "code",
      "source": [
        "def binary_search(arr,target):\n",
        "    l,h=0,len(arr)-1\n",
        "    while l<=h:\n",
        "        mid=(l+h)//2\n",
        "        if arr[mid]==target:\n",
        "            return mid\n",
        "        elif target>arr[mid]:\n",
        "            l=mid+1\n",
        "        else:\n",
        "            h=mid-1\n",
        "    return arr\n",
        "arr=[1,2,3,4,5,6,7,8,9]\n",
        "binary_search(arr,5)"
      ],
      "metadata": {
        "colab": {
          "base_uri": "https://localhost:8080/"
        },
        "id": "Oczt56XAWJBP",
        "outputId": "ceae1f0b-e181-43f3-845f-ec639826603e"
      },
      "execution_count": null,
      "outputs": [
        {
          "output_type": "execute_result",
          "data": {
            "text/plain": [
              "4"
            ]
          },
          "metadata": {},
          "execution_count": 3
        }
      ]
    },
    {
      "cell_type": "markdown",
      "source": [
        "**Find first occurance of target using binary search**"
      ],
      "metadata": {
        "id": "zesAT9nTWmy3"
      }
    },
    {
      "cell_type": "code",
      "source": [
        "def binary_search(arr,target):\n",
        "    l,h=0,len(arr)-1\n",
        "    while l<=h:\n",
        "        mid=(l+h)//2\n",
        "        if target==arr[mid]:\n",
        "            if mid>0 and arr[mid-1]==target:\n",
        "                h=mid-1\n",
        "            else:\n",
        "                return mid\n",
        "        elif target>arr[mid]:\n",
        "            l=mid+1\n",
        "        else:\n",
        "            h=mid-1\n",
        "    return -1\n",
        "binary_search([1,2,2,3,4],2)"
      ],
      "metadata": {
        "colab": {
          "base_uri": "https://localhost:8080/"
        },
        "id": "ZsMQ0IGEWjCj",
        "outputId": "4fa7ac1e-e44b-433d-bff7-6b25156cb87f"
      },
      "execution_count": null,
      "outputs": [
        {
          "output_type": "execute_result",
          "data": {
            "text/plain": [
              "1"
            ]
          },
          "metadata": {},
          "execution_count": 4
        }
      ]
    },
    {
      "cell_type": "markdown",
      "source": [
        "# Rotated List"
      ],
      "metadata": {
        "id": "wsunROuOWylv"
      }
    },
    {
      "cell_type": "markdown",
      "source": [
        "We have to find out that how many times the sorted list has been rotated?"
      ],
      "metadata": {
        "id": "i8cj1pYcW21J"
      }
    },
    {
      "cell_type": "code",
      "source": [
        "def linear_search(arr):\n",
        "    for i in range(len(arr)):\n",
        "        if arr[i]<arr[len(arr)-1]:\n",
        "            return i\n",
        "    return 0\n",
        "linear_search([4,5,6,7,8,9,1,2,3])"
      ],
      "metadata": {
        "colab": {
          "base_uri": "https://localhost:8080/"
        },
        "id": "C2QcSqylWtZ0",
        "outputId": "d163d8d1-bfc1-4e6c-c024-c0abcb1d0924"
      },
      "execution_count": null,
      "outputs": [
        {
          "output_type": "execute_result",
          "data": {
            "text/plain": [
              "6"
            ]
          },
          "metadata": {},
          "execution_count": 5
        }
      ]
    },
    {
      "cell_type": "code",
      "source": [
        "def binary_search(arr):\n",
        "    l,h=0,len(arr)-1\n",
        "    while l<=h:\n",
        "        mid=(l+h)//2\n",
        "        if mid>0 and arr[mid]<arr[mid-1]:\n",
        "            return mid\n",
        "        elif mid<len(arr)-1 and arr[mid]>arr[mid+1]:\n",
        "            return mid+1\n",
        "        elif arr[mid]>arr[h]:\n",
        "            l=mid+1\n",
        "        else:\n",
        "            h=mid-1\n",
        "    return 0\n",
        "binary_search([4,5,6,1,2,3])"
      ],
      "metadata": {
        "colab": {
          "base_uri": "https://localhost:8080/"
        },
        "id": "uiGOplh7W5yQ",
        "outputId": "b2c2cccd-9ba9-4765-b76b-f0b168385e5f"
      },
      "execution_count": null,
      "outputs": [
        {
          "output_type": "execute_result",
          "data": {
            "text/plain": [
              "3"
            ]
          },
          "metadata": {},
          "execution_count": 6
        }
      ]
    },
    {
      "cell_type": "markdown",
      "source": [
        "# Sorting"
      ],
      "metadata": {
        "id": "AFUuI2xUDdWU"
      }
    },
    {
      "cell_type": "markdown",
      "source": [
        "**Bubble Sort**"
      ],
      "metadata": {
        "id": "PaEtlInIDfsG"
      }
    },
    {
      "cell_type": "markdown",
      "source": [
        "**Bubble Sort Algorithm**\n",
        "\n",
        "1. Go through each element of array.\n",
        "2. Compare the two consecutive elements, and place the largest element at the right side.\n",
        "3. Go through the array as many times as one less the number of elements in array(n-1)."
      ],
      "metadata": {
        "id": "ixg9N-PoDkwG"
      }
    },
    {
      "cell_type": "markdown",
      "source": [
        "1. Time Complexity=O(n^2) Where n is the length of array\n",
        "2. Space Complexity=O(1) as no extra space is required to sort the array."
      ],
      "metadata": {
        "id": "T9Ljk7fyDwCD"
      }
    },
    {
      "cell_type": "code",
      "source": [
        "def bubble_sort(arr):\n",
        "    n=len(arr)\n",
        "    for i in range(n-1):\n",
        "        for j in range(n-i-1):\n",
        "            if arr[j]>arr[j+1]:\n",
        "                arr[j],arr[j+1]=arr[j+1],arr[j]\n",
        "    return arr\n",
        "bubble_sort([9,10,2,3,1])"
      ],
      "metadata": {
        "id": "tQK2DoAsW8XD",
        "colab": {
          "base_uri": "https://localhost:8080/"
        },
        "outputId": "f74c33d5-4dee-4dce-cbb0-4df3a5749f16"
      },
      "execution_count": null,
      "outputs": [
        {
          "output_type": "execute_result",
          "data": {
            "text/plain": [
              "[1, 2, 3, 9, 10]"
            ]
          },
          "metadata": {},
          "execution_count": 7
        }
      ]
    },
    {
      "cell_type": "markdown",
      "source": [
        "# Selection Sort"
      ],
      "metadata": {
        "id": "Po6JfAGHDqTp"
      }
    },
    {
      "cell_type": "markdown",
      "source": [
        "1. Go through every element of list to find the lowest element.\n",
        "2. Move the lowest element to front unsorted part of array.\n",
        "3. Repeat the above steps as many times as 1 less the number of elements in the list."
      ],
      "metadata": {
        "id": "tFh3H7wCDsuJ"
      }
    },
    {
      "cell_type": "markdown",
      "source": [
        "TC=O(N^2) AND SC=O(1)"
      ],
      "metadata": {
        "id": "Z5fzTaPGD1Cr"
      }
    },
    {
      "cell_type": "code",
      "source": [
        "def selection_sort(arr):\n",
        "    n=len(arr)\n",
        "    for i in range(n-1):\n",
        "        min=i\n",
        "        for j in range(i+1,n):\n",
        "            if arr[min]>arr[j]:\n",
        "                min=j\n",
        "        arr[min],arr[i]=arr[i],arr[min]\n",
        "    return arr\n",
        "selection_sort([2,5,3,1])"
      ],
      "metadata": {
        "id": "H8QtPwsAD1ve",
        "colab": {
          "base_uri": "https://localhost:8080/"
        },
        "outputId": "c495cb45-c15c-4faa-ff9a-156d8064a68d"
      },
      "execution_count": null,
      "outputs": [
        {
          "output_type": "execute_result",
          "data": {
            "text/plain": [
              "[1, 2, 3, 5]"
            ]
          },
          "metadata": {},
          "execution_count": 8
        }
      ]
    },
    {
      "cell_type": "markdown",
      "source": [
        "# Insertion Sort"
      ],
      "metadata": {
        "id": "_pn8YF524ObY"
      }
    },
    {
      "cell_type": "markdown",
      "source": [
        "1. Start with second element as first element is assumed to be sorted.\n",
        "2. Compare second element with first element and swap if second element is less than first element.\n",
        "3. Now compare third element with second and then first element and insert it at the right position of the sorted list.\n",
        "4. Repeat the steps until the entire array is sorted."
      ],
      "metadata": {
        "id": "rU0iotZW4Q3y"
      }
    },
    {
      "cell_type": "markdown",
      "source": [
        "TC=O(n^2),SC=O(1)"
      ],
      "metadata": {
        "id": "Muwp2NHj4cPI"
      }
    },
    {
      "cell_type": "markdown",
      "source": [
        "def **insertion_sort**(arr):\n",
        "\n",
        "    n=len(arr)\n",
        "    for i in range(1,n):\n",
        "        temp=arr[i]\n",
        "        j=i\n",
        "        while (j>0 and temp<arr[j-1]):\n",
        "            arr[j]=arr[j-1]\n",
        "            j-=1\n",
        "        arr[j]=temp\n",
        "    return arr\n",
        "insertion_sort([10,-2,45,2,5,3,1])"
      ],
      "metadata": {
        "id": "7tMIYQqzoDGY"
      }
    },
    {
      "cell_type": "code",
      "source": [
        "def insertion_sort(arr):\n",
        "    n=len(arr)\n",
        "    for i in range(1,n):\n",
        "        temp=arr[i]\n",
        "        j=i\n",
        "        while (j>0 and temp<arr[j-1]):\n",
        "            arr[j]=arr[j-1]\n",
        "            j-=1\n",
        "        arr[j]=temp\n",
        "    return arr\n",
        "insertion_sort([10,-2,45,2,5,3,1])"
      ],
      "metadata": {
        "colab": {
          "base_uri": "https://localhost:8080/"
        },
        "id": "CsNVxCIZX3Lu",
        "outputId": "68f5fe44-fe3b-415c-ec6a-d28e48242128"
      },
      "execution_count": null,
      "outputs": [
        {
          "output_type": "execute_result",
          "data": {
            "text/plain": [
              "[-2, 1, 2, 3, 5, 10, 45]"
            ]
          },
          "metadata": {},
          "execution_count": 19
        }
      ]
    },
    {
      "cell_type": "markdown",
      "source": [
        "# Quick Sort"
      ],
      "metadata": {
        "id": "Hwzy8xuquYcC"
      }
    },
    {
      "cell_type": "markdown",
      "source": [
        "1. It is a divide and conquer algorithm.\n",
        "2. It picks an element as a pivot and partitions the given array around picked pivots.\n",
        "3. In worst case the time complexity is O(n^2) when the array is already sorted(pivot is always greatest or smallest) but in avg case the time complexity is O(nlogn).\n",
        "4. Space complexity is O(n) due to unbalanced partitioning leading to depp recursive stack in worst case."
      ],
      "metadata": {
        "id": "NVRHbtz63HpS"
      }
    },
    {
      "cell_type": "code",
      "source": [
        "def quickSort(arr,low,high):\n",
        "  if low<high:\n",
        "    pivot=partition(arr,low,high)\n",
        "    quickSort(arr,low,pivot-1)\n",
        "    quickSort(arr,pivot+1,high)\n",
        "\n",
        "def partition(arr,low,high):\n",
        "  pivot=arr[low]\n",
        "  i=low+1\n",
        "  j=high\n",
        "\n",
        "  while True:\n",
        "    while i<=j and arr[i]<=pivot:\n",
        "      i+=1\n",
        "    while i<=j and arr[j]>=pivot:\n",
        "      j-=1\n",
        "    if i<=j:\n",
        "      arr[i],arr[j]=arr[j],arr[i]\n",
        "    else:\n",
        "      break\n",
        "\n",
        "  arr[low],arr[j]=arr[j],arr[low]\n",
        "  return j\n",
        "\n",
        "arr=[5,6,2,1,7,90,87,65,45,100]\n",
        "quickSort(arr,0,len(arr)-1)\n",
        "print(arr)\n"
      ],
      "metadata": {
        "colab": {
          "base_uri": "https://localhost:8080/"
        },
        "id": "iW5BcR4Jzh7w",
        "outputId": "05d81fb1-be78-44fe-e2ff-b7c550efeba2"
      },
      "execution_count": null,
      "outputs": [
        {
          "output_type": "stream",
          "name": "stdout",
          "text": [
            "[1, 2, 5, 6, 7, 45, 65, 87, 90, 100]\n"
          ]
        }
      ]
    },
    {
      "cell_type": "markdown",
      "source": [
        "# Merge Sort"
      ],
      "metadata": {
        "id": "MOY27jRA6j6J"
      }
    },
    {
      "cell_type": "markdown",
      "source": [
        "1. It follows divide and conquer approach.\n",
        "2. It recursively divides the input array into sub arrays and sorting those sub arrays and then merging them back to get the sorted array.\n",
        "3. TC=O(nlogn) in worst case and SC=O(n)"
      ],
      "metadata": {
        "id": "cZn4MFLxcBrk"
      }
    },
    {
      "cell_type": "code",
      "source": [
        "def mergeSort(arr):\n",
        "  if len(arr)<=1:\n",
        "    return arr\n",
        "  mid=len(arr)//2\n",
        "  l_half=arr[:mid]\n",
        "  r_half=arr[mid:]\n",
        "  l_half=mergeSort(l_half)\n",
        "  r_half=mergeSort(r_half)\n",
        "  return merge(l_half,r_half)\n",
        "\n",
        "def merge(left,right):\n",
        "  new=[]\n",
        "  i,j=0,0\n",
        "  while i<len(left) and j<len(right):\n",
        "    if left[i]<=right[j]:\n",
        "      new.append(left[i])\n",
        "      i+=1\n",
        "    else:\n",
        "      new.append(right[j])\n",
        "      j+=1\n",
        "  new.extend(left[i:])\n",
        "  new.extend(right[j:])\n",
        "  return new\n",
        "\n",
        "arr=[5,3,1,8,7,9,0,4]\n",
        "mergeSort(arr)\n",
        "\n"
      ],
      "metadata": {
        "id": "sFjpvDW16mlv",
        "colab": {
          "base_uri": "https://localhost:8080/"
        },
        "outputId": "4bc3343f-f6b9-419a-a767-fc3091232497"
      },
      "execution_count": null,
      "outputs": [
        {
          "output_type": "execute_result",
          "data": {
            "text/plain": [
              "[0, 1, 3, 4, 5, 7, 8, 9]"
            ]
          },
          "metadata": {},
          "execution_count": 10
        }
      ]
    },
    {
      "cell_type": "markdown",
      "source": [
        "# Tuple"
      ],
      "metadata": {
        "id": "D3ufVca6161s"
      }
    },
    {
      "cell_type": "markdown",
      "source": [
        "1. Tuple elements are unchangeable,ordered and allow duplicate values"
      ],
      "metadata": {
        "id": "H8rr71t618kS"
      }
    },
    {
      "cell_type": "code",
      "source": [
        "myTuple=(1,2,3,4,5,2,1,2,2)\n",
        "print(myTuple)\n",
        "# length of tuple\n",
        "print(f'length of tuple is {len(myTuple)}')\n",
        "# get an element at specific index\n",
        "print(f'Element at index 2 is {myTuple[2]}')\n",
        "# how many times specific element at tuple occur\n",
        "print(f'2 occur {myTuple.count(2)} times in myTuple')\n",
        "# find the index of specific element\n",
        "print(f'1 element is present at {myTuple.index(1)} index')"
      ],
      "metadata": {
        "colab": {
          "base_uri": "https://localhost:8080/"
        },
        "id": "QW5WiRYp2HDf",
        "outputId": "c50b2d39-e0ca-48b0-d9bd-4293e3299bb7"
      },
      "execution_count": 36,
      "outputs": [
        {
          "output_type": "stream",
          "name": "stdout",
          "text": [
            "(1, 2, 3, 4, 5, 2, 1, 2, 2)\n",
            "length of tuple is 9\n",
            "Element at index 2 is 3\n",
            "2 occur 4 times in myTuple\n",
            "1 element is present at 0 index\n"
          ]
        }
      ]
    },
    {
      "cell_type": "markdown",
      "source": [
        "# Set"
      ],
      "metadata": {
        "id": "Iz-l90HZY8hv"
      }
    },
    {
      "cell_type": "markdown",
      "source": [
        "1. Set is a data structure in python that is unordered.\n",
        "2. It donot allow duplicate values.\n",
        "3. It is unchangeable means once the values are set, they cannot be changed.\n",
        "4. Sets are mutable, we can add or reove elements"
      ],
      "metadata": {
        "id": "l9m4aPz-ZU8c"
      }
    },
    {
      "cell_type": "code",
      "source": [
        "set1={1,22,3,2,2,True,'a','Ali'}\n",
        "print(set1)"
      ],
      "metadata": {
        "colab": {
          "base_uri": "https://localhost:8080/"
        },
        "id": "P9iPv3G9ZwbK",
        "outputId": "d2bca1d3-f3ab-40d4-aa24-11f67f92e7cc"
      },
      "execution_count": null,
      "outputs": [
        {
          "output_type": "stream",
          "name": "stdout",
          "text": [
            "{1, 2, 3, 'Ali', 22, 'a'}\n"
          ]
        }
      ]
    },
    {
      "cell_type": "code",
      "source": [
        "set2={2,'Ali',True,1}\n",
        "print(set2)"
      ],
      "metadata": {
        "colab": {
          "base_uri": "https://localhost:8080/"
        },
        "id": "1D1-s8_QZ6k3",
        "outputId": "54c00ec7-cf9f-4a2b-c837-a0f20e255025"
      },
      "execution_count": null,
      "outputs": [
        {
          "output_type": "stream",
          "name": "stdout",
          "text": [
            "{True, 2, 'Ali'}\n"
          ]
        }
      ]
    },
    {
      "cell_type": "code",
      "source": [
        "set3={1,22,3,2,2,True,'a','Ali'}\n",
        "print(len(set3))\n",
        "# Add any element\n",
        "set3.add(5)\n",
        "print(set3)\n",
        "\n",
        "# remove any element\n",
        "set3.remove(2)\n",
        "print(set3)\n",
        "\n",
        "# discard(also remove element but if the element to be removed is not present then it will not throw exception but remove does throw exception)\n",
        "set3.discard(32)\n",
        "print(set3)\n",
        "\n",
        "# to remove all elements from set\n",
        "set3.clear()\n",
        "print(set3)"
      ],
      "metadata": {
        "colab": {
          "base_uri": "https://localhost:8080/"
        },
        "id": "xORwjL7uaROa",
        "outputId": "3928bdba-3344-463f-bed7-de6dc7444d66"
      },
      "execution_count": null,
      "outputs": [
        {
          "output_type": "stream",
          "name": "stdout",
          "text": [
            "{1, 2, 3, 'Ali', 5, 22, 'a'}\n",
            "{1, 3, 'Ali', 5, 22, 'a'}\n",
            "{1, 3, 'Ali', 5, 22, 'a'}\n",
            "6\n",
            "set()\n"
          ]
        }
      ]
    },
    {
      "cell_type": "markdown",
      "source": [
        "We can add tuple to set but we can't add list because list elements are indexed and can be changed but tuple elements are immutable and set elements are also unchangeable."
      ],
      "metadata": {
        "id": "kQW6630ob1UB"
      }
    },
    {
      "cell_type": "code",
      "source": [
        "set4={1,4,'ali','b',4.5}\n",
        "set4.add((2,3,4)) # we can add tuple to set as well\n",
        "print(set4)"
      ],
      "metadata": {
        "colab": {
          "base_uri": "https://localhost:8080/"
        },
        "id": "NLR3ZbawbWRZ",
        "outputId": "e5f9f221-80eb-447d-f1cb-a972e793586f"
      },
      "execution_count": null,
      "outputs": [
        {
          "output_type": "stream",
          "name": "stdout",
          "text": [
            "{1, 'ali', 4.5, 'b', 4, (2, 3, 4)}\n"
          ]
        }
      ]
    },
    {
      "cell_type": "markdown",
      "source": [
        "# HashSet"
      ],
      "metadata": {
        "id": "7bvJkme2ga7S"
      }
    },
    {
      "cell_type": "markdown",
      "source": [
        "1. Hash set donot contain duplicate elements.\n",
        "2. Hash set internally use the hash table data structure to store data items.\n",
        "3. Hash set is different from set as set is implemeted as hashset,list or tree."
      ],
      "metadata": {
        "id": "n_kkMmw8hc96"
      }
    },
    {
      "cell_type": "markdown",
      "source": [
        "TC=O(1) in AVG case but O(n) in worst case due to collision"
      ],
      "metadata": {
        "id": "yN2-f_zUiLxM"
      }
    },
    {
      "cell_type": "code",
      "source": [
        "class Hashset:\n",
        "  def __init__(self):\n",
        "    self.size=10\n",
        "    self.buckets=[[]for _ in range(self.size)]\n",
        "\n",
        "  def _hash(self,x):\n",
        "    return x%self.size\n",
        "\n",
        "  def add(self,x):\n",
        "    index=self._hash(x)\n",
        "    if x not in self.buckets[index]:\n",
        "      self.buckets[index].append(x)\n",
        "\n",
        "  def remove(self,x):\n",
        "    index=self._hash(x)\n",
        "    if x in self.buckets[index]:\n",
        "      self.buckets[index].remove(x)\n",
        "\n",
        "  def contains(self,x):\n",
        "    index=self._hash(x)\n",
        "    return x in self.buckets[index]\n",
        "\n",
        "  def __str__(self):\n",
        "    return str(self.buckets)\n",
        "\n",
        "  def display(self):\n",
        "    for i in range(self.size):\n",
        "      if self.buckets[i]:\n",
        "        print(self.buckets[i],end=' ')\n",
        "\n",
        "\n",
        "\n"
      ],
      "metadata": {
        "id": "UNdBYHX0X53v"
      },
      "execution_count": null,
      "outputs": []
    },
    {
      "cell_type": "code",
      "source": [
        "set=Hashset()\n",
        "set.add(10)\n",
        "set.add(20)\n",
        "set.add(12)\n",
        "set.add(2)\n",
        "set.add(2)\n",
        "set.remove(10)\n",
        "set.add(3)\n",
        "print(set.display())"
      ],
      "metadata": {
        "colab": {
          "base_uri": "https://localhost:8080/"
        },
        "id": "Ye4JP3COmz62",
        "outputId": "0e253739-79a2-403d-c298-06bf1eecb678"
      },
      "execution_count": null,
      "outputs": [
        {
          "output_type": "stream",
          "name": "stdout",
          "text": [
            "[20] [12, 2] [3] None\n"
          ]
        }
      ]
    },
    {
      "cell_type": "markdown",
      "source": [
        "# Map"
      ],
      "metadata": {
        "id": "QuojPF683cMP"
      }
    },
    {
      "cell_type": "markdown",
      "source": [
        "1. Also called as dictionaries in python.\n",
        "2. Dictionaries are mutable.\n",
        "3. Store data in the form of key value pairs.\n",
        "4. We can change the value of particular key.\n",
        "5. We can also add more key value pairs.\n",
        "6. Dictionaries are unordered."
      ],
      "metadata": {
        "id": "nIjZAv6y38me"
      }
    },
    {
      "cell_type": "code",
      "source": [
        "word_dict={\"intelligent\":\"smart\",\"rich\":\"wealthy\",\"alert\":\"warn\",\"assist\":\"give help\"}\n",
        "type(word_dict),word_dict"
      ],
      "metadata": {
        "colab": {
          "base_uri": "https://localhost:8080/"
        },
        "id": "Y9iw08I63d0x",
        "outputId": "21ff90b8-1593-49d5-b656-24c52301b2c6"
      },
      "execution_count": 5,
      "outputs": [
        {
          "output_type": "execute_result",
          "data": {
            "text/plain": [
              "(dict,\n",
              " {'intelligent': 'smart',\n",
              "  'rich': 'wealthy',\n",
              "  'alert': 'warn',\n",
              "  'assist': 'give help'})"
            ]
          },
          "metadata": {},
          "execution_count": 5
        }
      ]
    },
    {
      "cell_type": "code",
      "source": [
        "# get all the keys\n",
        "word_dict.keys()"
      ],
      "metadata": {
        "colab": {
          "base_uri": "https://localhost:8080/"
        },
        "id": "NkI83ZMB6NV9",
        "outputId": "5678da27-e6c1-49a7-8b65-c5c40f3aad0f"
      },
      "execution_count": 6,
      "outputs": [
        {
          "output_type": "execute_result",
          "data": {
            "text/plain": [
              "dict_keys(['intelligent', 'rich', 'alert', 'assist'])"
            ]
          },
          "metadata": {},
          "execution_count": 6
        }
      ]
    },
    {
      "cell_type": "code",
      "source": [
        "# get all the values\n",
        "word_dict.values()"
      ],
      "metadata": {
        "colab": {
          "base_uri": "https://localhost:8080/"
        },
        "id": "A0REE2tW6UsZ",
        "outputId": "316ebc64-73c5-4b83-e68e-6112874ab681"
      },
      "execution_count": 7,
      "outputs": [
        {
          "output_type": "execute_result",
          "data": {
            "text/plain": [
              "dict_values(['smart', 'wealthy', 'warn', 'give help'])"
            ]
          },
          "metadata": {},
          "execution_count": 7
        }
      ]
    },
    {
      "cell_type": "code",
      "source": [
        "# get key value pairs\n",
        "word_dict.items()"
      ],
      "metadata": {
        "colab": {
          "base_uri": "https://localhost:8080/"
        },
        "id": "2jdUkK7r6HFF",
        "outputId": "804ca92c-b179-40bc-f8d1-5e8f17c66b90"
      },
      "execution_count": 8,
      "outputs": [
        {
          "output_type": "execute_result",
          "data": {
            "text/plain": [
              "dict_items([('intelligent', 'smart'), ('rich', 'wealthy'), ('alert', 'warn'), ('assist', 'give help')])"
            ]
          },
          "metadata": {},
          "execution_count": 8
        }
      ]
    },
    {
      "cell_type": "code",
      "source": [
        "word_dict[\"intelligent\"]"
      ],
      "metadata": {
        "colab": {
          "base_uri": "https://localhost:8080/",
          "height": 36
        },
        "id": "TTKErNB5478J",
        "outputId": "0f06dad9-e0af-468b-ee81-d6687851b674"
      },
      "execution_count": 9,
      "outputs": [
        {
          "output_type": "execute_result",
          "data": {
            "text/plain": [
              "'smart'"
            ],
            "application/vnd.google.colaboratory.intrinsic+json": {
              "type": "string"
            }
          },
          "metadata": {},
          "execution_count": 9
        }
      ]
    },
    {
      "cell_type": "code",
      "source": [
        "# sort on the basis of values\n",
        "sorted(word_dict,key=lambda x: word_dict[x])"
      ],
      "metadata": {
        "colab": {
          "base_uri": "https://localhost:8080/"
        },
        "id": "D_LMC8WG58Gf",
        "outputId": "1744863b-591e-4128-8558-d250a475e24d"
      },
      "execution_count": 10,
      "outputs": [
        {
          "output_type": "execute_result",
          "data": {
            "text/plain": [
              "['assist', 'intelligent', 'alert', 'rich']"
            ]
          },
          "metadata": {},
          "execution_count": 10
        }
      ]
    },
    {
      "cell_type": "code",
      "source": [
        "# sort on the basis of key\n",
        "sorted(word_dict)"
      ],
      "metadata": {
        "colab": {
          "base_uri": "https://localhost:8080/"
        },
        "id": "lqAedVD-5DdZ",
        "outputId": "d030000c-8fb4-4575-e6cb-ce32940f7633"
      },
      "execution_count": 11,
      "outputs": [
        {
          "output_type": "execute_result",
          "data": {
            "text/plain": [
              "['alert', 'assist', 'intelligent', 'rich']"
            ]
          },
          "metadata": {},
          "execution_count": 11
        }
      ]
    },
    {
      "cell_type": "code",
      "source": [
        "# as tuples are immutable so it can also act as key\n",
        "num_dict={1:'one',2:'two',3:'three',(1,2,3):'tuple'}\n",
        "num_dict.get(5,'not found')"
      ],
      "metadata": {
        "colab": {
          "base_uri": "https://localhost:8080/",
          "height": 36
        },
        "id": "-P-ZiUF56lap",
        "outputId": "e9ce8776-43ce-4ce8-a78d-ea86f5ead2d3"
      },
      "execution_count": 12,
      "outputs": [
        {
          "output_type": "execute_result",
          "data": {
            "text/plain": [
              "'not found'"
            ],
            "application/vnd.google.colaboratory.intrinsic+json": {
              "type": "string"
            }
          },
          "metadata": {},
          "execution_count": 12
        }
      ]
    },
    {
      "cell_type": "code",
      "source": [
        "# change the value of specific key\n",
        "num_dict[1]='ones'\n",
        "num_dict"
      ],
      "metadata": {
        "colab": {
          "base_uri": "https://localhost:8080/"
        },
        "id": "7NWrOOF87Hyl",
        "outputId": "e43501d6-0d3a-4b3f-a2ea-e8bebd0f4d08"
      },
      "execution_count": 13,
      "outputs": [
        {
          "output_type": "execute_result",
          "data": {
            "text/plain": [
              "{1: 'ones', 2: 'two', 3: 'three', (1, 2, 3): 'tuple'}"
            ]
          },
          "metadata": {},
          "execution_count": 13
        }
      ]
    },
    {
      "cell_type": "code",
      "source": [
        "# add more key value pairs\n",
        "num_dict[4]='four'\n",
        "num_dict"
      ],
      "metadata": {
        "colab": {
          "base_uri": "https://localhost:8080/"
        },
        "id": "BhvoL-2u7RaN",
        "outputId": "d1c8c6ef-4573-4762-bbbd-0ca07f890a11"
      },
      "execution_count": 14,
      "outputs": [
        {
          "output_type": "execute_result",
          "data": {
            "text/plain": [
              "{1: 'ones', 2: 'two', 3: 'three', (1, 2, 3): 'tuple', 4: 'four'}"
            ]
          },
          "metadata": {},
          "execution_count": 14
        }
      ]
    },
    {
      "cell_type": "code",
      "source": [
        "orders_data=[(101,1000),(102,20000),(103,30000)]\n",
        "orders_dict=dict(orders_data)\n",
        "orders_dict"
      ],
      "metadata": {
        "colab": {
          "base_uri": "https://localhost:8080/"
        },
        "id": "IwW8or5d7avr",
        "outputId": "fd80942d-466e-4a03-b636-7f714b568d8b"
      },
      "execution_count": 15,
      "outputs": [
        {
          "output_type": "execute_result",
          "data": {
            "text/plain": [
              "{101: 1000, 102: 20000, 103: 30000}"
            ]
          },
          "metadata": {},
          "execution_count": 15
        }
      ]
    },
    {
      "cell_type": "code",
      "source": [
        "list(orders_dict.items())"
      ],
      "metadata": {
        "colab": {
          "base_uri": "https://localhost:8080/"
        },
        "id": "CHo3qfOZ9Osx",
        "outputId": "31ae253e-f4f1-4610-88a1-e8b78406c5c2"
      },
      "execution_count": 16,
      "outputs": [
        {
          "output_type": "execute_result",
          "data": {
            "text/plain": [
              "[(101, 1000), (102, 20000), (103, 30000)]"
            ]
          },
          "metadata": {},
          "execution_count": 16
        }
      ]
    },
    {
      "cell_type": "code",
      "source": [
        "# to clear all the elements of list\n",
        "orders_dict.clear()"
      ],
      "metadata": {
        "id": "KE-njX7l9U8T"
      },
      "execution_count": 17,
      "outputs": []
    },
    {
      "cell_type": "markdown",
      "source": [
        "**Example 1**"
      ],
      "metadata": {
        "id": "JYT_ihqd9gnq"
      }
    },
    {
      "cell_type": "code",
      "source": [
        "customers_raw_data=\"\"\"customer_id,customer_fname,customer_lname,address,city,state,pincode\n",
        "11599,Mary,Malone,8708 Indian Horse Highway,Hickory,NC,28601\n",
        "256,David,Rodriguez,7605 Tawny Horse Falls,Chicago,IL,60625\n",
        "12111,Amber,Franco,8766 Clear Prairie Line,Santa,NC,95060\n",
        "8827,Brian,Wilson,8396 High Corners,San Antonio,NC,78240\n",
        "11318,Mary,Hanry,3047 Silent Embers Maze,Caguas,PR,00725\"\"\"\n",
        "customer_header=customers_raw_data.split('\\n')[0]\n",
        "customer_data=customers_raw_data.split('\\n')[1:]\n",
        "customer_dict={}\n",
        "\n",
        "for x in customer_data:\n",
        "  customer_dict[x.split(',')[0]]=tuple(x.split(',')[1:])\n",
        "\n",
        "customer_dict"
      ],
      "metadata": {
        "colab": {
          "base_uri": "https://localhost:8080/"
        },
        "id": "-svN-f979ihN",
        "outputId": "1be55f31-89bc-43c8-eee4-300319730dda"
      },
      "execution_count": 19,
      "outputs": [
        {
          "output_type": "execute_result",
          "data": {
            "text/plain": [
              "{'11599': ('Mary',\n",
              "  'Malone',\n",
              "  '8708 Indian Horse Highway',\n",
              "  'Hickory',\n",
              "  'NC',\n",
              "  '28601'),\n",
              " '256': ('David',\n",
              "  'Rodriguez',\n",
              "  '7605 Tawny Horse Falls',\n",
              "  'Chicago',\n",
              "  'IL',\n",
              "  '60625'),\n",
              " '12111': ('Amber',\n",
              "  'Franco',\n",
              "  '8766 Clear Prairie Line',\n",
              "  'Santa',\n",
              "  'NC',\n",
              "  '95060'),\n",
              " '8827': ('Brian',\n",
              "  'Wilson',\n",
              "  '8396 High Corners',\n",
              "  'San Antonio',\n",
              "  'NC',\n",
              "  '78240'),\n",
              " '11318': ('Mary',\n",
              "  'Hanry',\n",
              "  '3047 Silent Embers Maze',\n",
              "  'Caguas',\n",
              "  'PR',\n",
              "  '00725')}"
            ]
          },
          "metadata": {},
          "execution_count": 19
        }
      ]
    },
    {
      "cell_type": "code",
      "source": [
        "customer_header=customer_header.split(',')"
      ],
      "metadata": {
        "id": "sRUD9hnxB695"
      },
      "execution_count": 20,
      "outputs": []
    },
    {
      "cell_type": "code",
      "source": [
        "nested_dict={}\n",
        "\n",
        "for key,value in customer_dict.items():\n",
        "  nested_dict[key]={\n",
        "      customer_header[1]:value[0],\n",
        "      customer_header[2]:value[1],\n",
        "      customer_header[3]:value[2],\n",
        "      customer_header[4]:value[3],\n",
        "      customer_header[5]:value[4],\n",
        "      customer_header[6]:value[5]\n",
        "  }\n",
        "nested_dict"
      ],
      "metadata": {
        "colab": {
          "base_uri": "https://localhost:8080/"
        },
        "id": "0AihaNMQBFQU",
        "outputId": "1ebb95dd-d5f5-4ebd-ab30-aeb48496059e"
      },
      "execution_count": 21,
      "outputs": [
        {
          "output_type": "execute_result",
          "data": {
            "text/plain": [
              "{'11599': {'customer_fname': 'Mary',\n",
              "  'customer_lname': 'Malone',\n",
              "  'address': '8708 Indian Horse Highway',\n",
              "  'city': 'Hickory',\n",
              "  'state': 'NC',\n",
              "  'pincode': '28601'},\n",
              " '256': {'customer_fname': 'David',\n",
              "  'customer_lname': 'Rodriguez',\n",
              "  'address': '7605 Tawny Horse Falls',\n",
              "  'city': 'Chicago',\n",
              "  'state': 'IL',\n",
              "  'pincode': '60625'},\n",
              " '12111': {'customer_fname': 'Amber',\n",
              "  'customer_lname': 'Franco',\n",
              "  'address': '8766 Clear Prairie Line',\n",
              "  'city': 'Santa',\n",
              "  'state': 'NC',\n",
              "  'pincode': '95060'},\n",
              " '8827': {'customer_fname': 'Brian',\n",
              "  'customer_lname': 'Wilson',\n",
              "  'address': '8396 High Corners',\n",
              "  'city': 'San Antonio',\n",
              "  'state': 'NC',\n",
              "  'pincode': '78240'},\n",
              " '11318': {'customer_fname': 'Mary',\n",
              "  'customer_lname': 'Hanry',\n",
              "  'address': '3047 Silent Embers Maze',\n",
              "  'city': 'Caguas',\n",
              "  'state': 'PR',\n",
              "  'pincode': '00725'}}"
            ]
          },
          "metadata": {},
          "execution_count": 21
        }
      ]
    },
    {
      "cell_type": "code",
      "source": [
        "id=input('Enter customer_id: ')\n",
        "detail=input('Enter detail: ')\n",
        "nested_dict.get(id),nested_dict.get(id).get(detail)"
      ],
      "metadata": {
        "colab": {
          "base_uri": "https://localhost:8080/"
        },
        "id": "K5ZTTd8wCmp3",
        "outputId": "b6ca81ee-f31e-436d-ee22-7d1ae3a9d6e7"
      },
      "execution_count": 23,
      "outputs": [
        {
          "name": "stdout",
          "output_type": "stream",
          "text": [
            "Enter customer_id: 11318\n",
            "Enter detail: city\n"
          ]
        },
        {
          "output_type": "execute_result",
          "data": {
            "text/plain": [
              "({'customer_fname': 'Mary',\n",
              "  'customer_lname': 'Hanry',\n",
              "  'address': '3047 Silent Embers Maze',\n",
              "  'city': 'Caguas',\n",
              "  'state': 'PR',\n",
              "  'pincode': '00725'},\n",
              " 'Caguas')"
            ]
          },
          "metadata": {},
          "execution_count": 23
        }
      ]
    },
    {
      "cell_type": "markdown",
      "source": [
        "# Hashmap"
      ],
      "metadata": {
        "id": "BJ502K1-esB-"
      }
    },
    {
      "cell_type": "markdown",
      "source": [
        "Hashmap is a data structure tha use hash table data structure to store key value pairs. It is also called dictionaries in python."
      ],
      "metadata": {
        "id": "OV452HIZe06k"
      }
    },
    {
      "cell_type": "markdown",
      "source": [
        "TC on avg is O(1) fro insertion,updation and deletion but in worst case it is O(n) due to collision"
      ],
      "metadata": {
        "id": "29lIMRMGnSr5"
      }
    },
    {
      "cell_type": "code",
      "source": [
        "class Hashmap:\n",
        "  def __init__(self):\n",
        "    self.size=10\n",
        "    self.buckets=[[] for _ in range(self.size)]\n",
        "\n",
        "  def _hash(self,key):\n",
        "    return key%self.size\n",
        "\n",
        "  def put(self,key,value):\n",
        "    idx=self._hash(key)\n",
        "    for i,(k,v) in enumerate(self.buckets[idx]):\n",
        "      if key==k:\n",
        "        self.buckets[idx][i]=(k,value)\n",
        "        return\n",
        "\n",
        "    self.buckets[idx].append((key,value))\n",
        "\n",
        "  def get(self,key):\n",
        "    idx=self._hash(key)\n",
        "    for i,(k,v) in enumerate(self.buckets[idx]):\n",
        "      if key==k:\n",
        "        return v\n",
        "    return -1\n",
        "\n",
        "  def remove(self,key):\n",
        "    idx=self._hash(key)\n",
        "    for i,(k,v) in enumerate(self.buckets[idx]):\n",
        "      if key==k:\n",
        "        del self.buckets[idx][i]\n",
        "        return\n",
        "    return -1\n",
        "\n",
        "  def display(self):\n",
        "    for i in range(self.size):\n",
        "      if self.buckets[i]:\n",
        "        print(self.buckets[i])"
      ],
      "metadata": {
        "id": "yp4nEqMhnHoJ"
      },
      "execution_count": null,
      "outputs": []
    },
    {
      "cell_type": "code",
      "source": [
        "map1=Hashmap()\n",
        "map1.put(1,'ones')\n",
        "map1.put(2,'twos')\n",
        "map1.put(3,'threes')\n",
        "map1.put(4,'fours')\n",
        "map1.put(5,'fives')\n",
        "map1.put(55,'fives')\n",
        "map1.remove(2)\n",
        "print(map1.get(1))\n",
        "print(map1.display())"
      ],
      "metadata": {
        "colab": {
          "base_uri": "https://localhost:8080/"
        },
        "id": "ETVHj61vhqQp",
        "outputId": "8656cc00-04e6-4add-cd57-3ff44febed94"
      },
      "execution_count": null,
      "outputs": [
        {
          "output_type": "stream",
          "name": "stdout",
          "text": [
            "ones\n",
            "[(1, 'ones')]\n",
            "[(3, 'threes')]\n",
            "[(4, 'fours')]\n",
            "[(5, 'fif'), (55, 'fives')]\n",
            "None\n"
          ]
        }
      ]
    },
    {
      "cell_type": "markdown",
      "source": [
        "# Linked List"
      ],
      "metadata": {
        "id": "dQPcORK2J0vQ"
      }
    },
    {
      "cell_type": "markdown",
      "source": [
        "1. Linked list is a linear data structure in python that consists of series of nodes connected by pointers in C/C++ or references in java/python/js.\n",
        "2. Each node consists of data and pointers/references to next node in a list.\n",
        "3. It is non-contiguous.\n"
      ],
      "metadata": {
        "id": "tzUhCiS5KW1V"
      }
    },
    {
      "cell_type": "code",
      "source": [
        "class Node:\n",
        "  def __init__(self,data):\n",
        "    self.data=data\n",
        "    self.next=None\n",
        "\n",
        "class LinkedList:\n",
        "  # Constructor\n",
        "  def __init__(self):\n",
        "    self.head=None\n",
        "\n",
        "  # Retrieving element from linked list\n",
        "  def traversal(self):\n",
        "    current=self.head\n",
        "    while current:\n",
        "      print(current.data,end=' ')\n",
        "      current=current.next\n",
        "    return\n",
        "  # Search any element in a list\n",
        "  def search(self,target):\n",
        "    curr=self.head\n",
        "    while curr:\n",
        "      if curr.data==target:\n",
        "        return True\n",
        "      curr=curr.next\n",
        "    return False\n",
        "\n",
        "  # No of elements in linked list\n",
        "  def len(self):\n",
        "    curr=self.head\n",
        "    length=0\n",
        "    while curr:\n",
        "      curr=curr.next\n",
        "      length+=1\n",
        "    return length\n",
        "\n",
        "  # Inserting node at the head of linked list\n",
        "  def insert_at_begin(self,key):\n",
        "    newNode=Node(key)\n",
        "    if not self.head:\n",
        "      self.head=newNode\n",
        "      return\n",
        "    newNode.next=self.head\n",
        "    self.head=newNode\n",
        "\n",
        "  # Inserting node at the last of linked list\n",
        "  def insert_at_last(self,key):\n",
        "    newNode=Node(key)\n",
        "    if not self.head:\n",
        "      self.head=newNode\n",
        "      return\n",
        "\n",
        "    curr=self.head\n",
        "    while curr.next:\n",
        "      curr=curr.next\n",
        "    curr.next=newNode\n",
        "\n",
        "  # Inserting node at specific position\n",
        "  def insert_at_pos(self,key,pos):\n",
        "\n",
        "    newNode=Node(key)\n",
        "    if not self.head:\n",
        "      self.head=newNode\n",
        "      return\n",
        "    curr=self.head\n",
        "    count=0\n",
        "\n",
        "    if pos==1:\n",
        "      newNode.next=self.head\n",
        "      self.head=newNode\n",
        "      return\n",
        "\n",
        "    while curr:\n",
        "      count+=1\n",
        "      if count==pos-1:\n",
        "        temp=curr.next\n",
        "        curr.next=newNode\n",
        "        newNode.next=temp\n",
        "        return\n",
        "      curr=curr.next\n",
        "\n",
        "    return -1\n",
        "\n",
        "  # Deleting node at the head of linked list\n",
        "  def delete_at_begin(self):\n",
        "    if self.head:\n",
        "      self.head=self.head.next\n",
        "    return\n",
        "\n",
        "  # Deleting node at the last of linked list\n",
        "  def delete_at_last(self):\n",
        "    if self.head is None or self.head.next is None:\n",
        "      self.head=None\n",
        "      return\n",
        "    curr=self.head\n",
        "    while curr.next.next:\n",
        "      curr=curr.next\n",
        "\n",
        "    curr.next=None\n",
        "\n",
        "\n",
        "  # Deleting node at specific position\n",
        "  def delete_at_pos(self,pos):\n",
        "    if pos<1:\n",
        "      return -1\n",
        "\n",
        "    if pos==1:\n",
        "      self.head=self.head.next\n",
        "      return\n",
        "\n",
        "    curr=self.head\n",
        "    count=0\n",
        "\n",
        "    while curr:\n",
        "      count+=1\n",
        "      if count==pos-1:\n",
        "        temp=curr.next.next\n",
        "        curr.next=temp\n",
        "        return\n",
        "      curr=curr.next\n",
        "    return -1\n",
        "\n",
        "\n",
        "  # Reverse a linked list\n",
        "  def reverse(self):\n",
        "    prev=None\n",
        "    curr=self.head\n",
        "\n",
        "\n",
        "    while curr:\n",
        "      next_node=curr.next\n",
        "      curr.next=prev\n",
        "      prev=curr\n",
        "      curr=next_node\n",
        "\n",
        "    self.head=prev\n",
        "    return\n",
        "\n",
        "\n",
        "\n"
      ],
      "metadata": {
        "id": "i45JolG6mDAU"
      },
      "execution_count": null,
      "outputs": []
    },
    {
      "cell_type": "code",
      "source": [
        "# Creating a linked list\n",
        "ll=LinkedList()\n",
        "\n",
        "# Insertion of data in linked list\n",
        "ll.insert_at_begin(10)\n",
        "ll.insert_at_last(20)\n",
        "ll.insert_at_pos(30,1)\n",
        "ll.insert_at_pos(40,2)\n",
        "ll.insert_at_pos(50,3)\n",
        "ll.insert_at_last(60)\n",
        "\n",
        "ll.traversal()\n",
        "print('\\n')\n",
        "print(f'Total elements in linked list are {ll.len()}')\n",
        "\n",
        "# Reverse a linked list\n",
        "print('After Reversing the linked list')\n",
        "ll.reverse()\n",
        "\n",
        "ll.traversal()\n",
        "print('\\n')\n",
        "\n",
        "# Deleting any node\n",
        "ll.delete_at_begin()\n",
        "ll.delete_at_last()\n",
        "ll.delete_at_pos(4)\n",
        "\n",
        "print(ll.search(10))\n",
        "\n",
        "ll.traversal()\n",
        "print('\\n')\n",
        "print(f'Total elements in linked list are {ll.len()}')\n"
      ],
      "metadata": {
        "colab": {
          "base_uri": "https://localhost:8080/"
        },
        "id": "vG3J8-LKT0Ri",
        "outputId": "786672cb-5d5c-4895-e620-70b640566aac"
      },
      "execution_count": null,
      "outputs": [
        {
          "output_type": "stream",
          "name": "stdout",
          "text": [
            "30 40 50 10 20 60 \n",
            "\n",
            "Total elements in linked list are 6\n",
            "After Reversing the linked list\n",
            "60 20 10 50 40 30 \n",
            "\n",
            "True\n",
            "20 10 50 \n",
            "\n",
            "Total elements in linked list are 3\n"
          ]
        }
      ]
    },
    {
      "cell_type": "markdown",
      "source": [
        "# Stack"
      ],
      "metadata": {
        "id": "F9JgLIb6bZXi"
      }
    },
    {
      "cell_type": "markdown",
      "source": [
        "Stack is a linear data structure, that stores items in LIFO order."
      ],
      "metadata": {
        "id": "WGT20XK8bmWj"
      }
    },
    {
      "cell_type": "markdown",
      "source": [
        "**Implementation Using List**\n",
        "TC=O(1) for push/pop/top"
      ],
      "metadata": {
        "id": "xb0_NhVEb8WO"
      }
    },
    {
      "cell_type": "code",
      "source": [
        "class Stack:\n",
        "  def __init__(self):\n",
        "    self.stack=[]\n",
        "\n",
        "  def push(self,x):\n",
        "    self.stack.append(x)\n",
        "\n",
        "  def pop(self):\n",
        "    if not self.is_empty():\n",
        "      return self.stack.pop()\n",
        "    return -1\n",
        "\n",
        "  def is_empty(self):\n",
        "    return not self.stack\n",
        "\n",
        "  def top(self):\n",
        "    return self.stack[len(self.stack)-1]\n",
        "\n"
      ],
      "metadata": {
        "id": "dwsJBycCdvf7"
      },
      "execution_count": null,
      "outputs": []
    },
    {
      "cell_type": "code",
      "source": [
        "s1=Stack()\n",
        "s1.push(2)\n",
        "s1.push(3)\n",
        "s1.push(4)\n",
        "s1.push(5)\n",
        "print(s1.pop())\n",
        "s1.top()"
      ],
      "metadata": {
        "colab": {
          "base_uri": "https://localhost:8080/"
        },
        "id": "OMgsMrtMcnQT",
        "outputId": "fcb78384-0cdf-459f-d2e6-9878df190a76"
      },
      "execution_count": null,
      "outputs": [
        {
          "output_type": "stream",
          "name": "stdout",
          "text": [
            "5\n"
          ]
        },
        {
          "output_type": "execute_result",
          "data": {
            "text/plain": [
              "4"
            ]
          },
          "metadata": {},
          "execution_count": 12
        }
      ]
    },
    {
      "cell_type": "markdown",
      "source": [
        "**Implementation Using LinkedList**\n",
        "TC=O(1) for push/pop/peek"
      ],
      "metadata": {
        "id": "lzGP9Kszd3Lu"
      }
    },
    {
      "cell_type": "code",
      "source": [
        "class Node:\n",
        "  def __init__(self,data):\n",
        "    self.data=data\n",
        "    self.next=None\n",
        "\n",
        "class Stack:\n",
        "  def __init__(self):\n",
        "    self.top=None\n",
        "\n",
        "  def push(self,x):\n",
        "    newNode=Node(x)\n",
        "    if self.top is None:\n",
        "      self.top=newNode\n",
        "      return\n",
        "    newNode.next=self.top\n",
        "    self.top=newNode\n",
        "\n",
        "  def pop(self):\n",
        "    if self.top is None:\n",
        "      return -1\n",
        "    val=self.top.data\n",
        "    self.top=self.top.next\n",
        "    return val\n",
        "\n",
        "  def peek(self):\n",
        "    return self.top.data"
      ],
      "metadata": {
        "id": "yMz6uVhXdbdj"
      },
      "execution_count": null,
      "outputs": []
    },
    {
      "cell_type": "code",
      "source": [
        "s1=Stack()\n",
        "s1.push(2)\n",
        "s1.push(3)\n",
        "s1.push(4)\n",
        "s1.push(5)\n",
        "print(s1.pop())\n",
        "print(s1.pop())\n",
        "print(s1.peek())\n"
      ],
      "metadata": {
        "colab": {
          "base_uri": "https://localhost:8080/"
        },
        "id": "h-ml5BX_fk7X",
        "outputId": "11808f93-4689-47a8-9658-3ee201ca5325"
      },
      "execution_count": null,
      "outputs": [
        {
          "output_type": "stream",
          "name": "stdout",
          "text": [
            "5\n",
            "4\n",
            "3\n"
          ]
        }
      ]
    },
    {
      "cell_type": "markdown",
      "source": [
        "# Queue"
      ],
      "metadata": {
        "id": "T_-qKc-YgtNM"
      }
    },
    {
      "cell_type": "markdown",
      "source": [
        "Queue is a data structure in python that is used to store elements in FIFO"
      ],
      "metadata": {
        "id": "1_-pg9sKguv6"
      }
    },
    {
      "cell_type": "markdown",
      "source": [
        "**Implementation using List**"
      ],
      "metadata": {
        "id": "4WFobE9bg7h_"
      }
    },
    {
      "cell_type": "markdown",
      "source": [
        "TC=O(1) for enqueue and O(n) for dequeue because elements need to shift to the left"
      ],
      "metadata": {
        "id": "Zt5uOnIQk2WT"
      }
    },
    {
      "cell_type": "code",
      "source": [
        "class Queue:\n",
        "  def __init__(self):\n",
        "    self.queue=[]\n",
        "\n",
        "  def enqueue(self,x):\n",
        "    self.queue.append(x)\n",
        "\n",
        "  def dequeue(self):\n",
        "    if not self.is_empty():\n",
        "      return self.queue.pop(0)\n",
        "    return -1\n",
        "\n",
        "  def is_empty(self):\n",
        "    return not self.queue\n"
      ],
      "metadata": {
        "id": "Z2XcPAlagjww"
      },
      "execution_count": null,
      "outputs": []
    },
    {
      "cell_type": "code",
      "source": [
        "q1=Queue()\n",
        "q1.enqueue(1)\n",
        "q1.enqueue(2)\n",
        "q1.enqueue(3)\n",
        "q1.enqueue(4)\n",
        "print(q1.dequeue())\n",
        "print(q1.queue)"
      ],
      "metadata": {
        "colab": {
          "base_uri": "https://localhost:8080/"
        },
        "id": "q9NqgQQLj0x3",
        "outputId": "f8805862-9e5c-4142-8dba-bbfb5162d24d"
      },
      "execution_count": null,
      "outputs": [
        {
          "output_type": "stream",
          "name": "stdout",
          "text": [
            "1\n",
            "[2, 3, 4]\n"
          ]
        }
      ]
    },
    {
      "cell_type": "markdown",
      "source": [
        "**Implementation using Linkedlist**\n",
        "TC=O(1) for enqueue/dequeue"
      ],
      "metadata": {
        "id": "VfI6fuqhlPeM"
      }
    },
    {
      "cell_type": "code",
      "source": [
        "class Node:\n",
        "  def __init__(self,data):\n",
        "    self.data=data\n",
        "    self.next=None\n",
        "\n",
        "class Queue:\n",
        "  def __init__(self):\n",
        "    self.front=None\n",
        "    self.rear=None\n",
        "\n",
        "  def enqueue(self,x):\n",
        "    newNode=Node(x)\n",
        "    if self.rear is None:\n",
        "      self.rear=newNode\n",
        "      self.front=newNode\n",
        "      return\n",
        "    self.rear.next=newNode\n",
        "    self.rear=newNode\n",
        "\n",
        "  def dequeue(self):\n",
        "    if self.front is None:\n",
        "      return -1\n",
        "\n",
        "    temp=self.front\n",
        "    self.front=self.front.next\n",
        "\n",
        "    if self.front is None:\n",
        "      self.rear=None\n",
        "\n",
        "    return temp.data\n",
        "\n"
      ],
      "metadata": {
        "id": "_XlGgBC8kZrl"
      },
      "execution_count": null,
      "outputs": []
    },
    {
      "cell_type": "code",
      "source": [
        "q1=Queue()\n",
        "q1.enqueue(1)\n",
        "q1.enqueue(2)\n",
        "q1.enqueue(3)\n",
        "q1.enqueue(4)\n",
        "q1.dequeue()"
      ],
      "metadata": {
        "colab": {
          "base_uri": "https://localhost:8080/"
        },
        "id": "Oy4jJoNXnHWL",
        "outputId": "fd07cfe0-3f0d-4e30-bd77-2cadfab297b6"
      },
      "execution_count": null,
      "outputs": [
        {
          "output_type": "execute_result",
          "data": {
            "text/plain": [
              "1"
            ]
          },
          "metadata": {},
          "execution_count": 43
        }
      ]
    },
    {
      "cell_type": "markdown",
      "source": [
        "**Implementation Using deque**"
      ],
      "metadata": {
        "id": "fKmixpZPIiYY"
      }
    },
    {
      "cell_type": "code",
      "source": [
        "from collections import deque\n",
        "q=deque()\n",
        "q.append(1)\n",
        "q.append(2)\n",
        "q.append(3)\n",
        "q.append(4)\n",
        "q.popleft()\n",
        "q.popleft()\n",
        "print(q)\n",
        "q.append(5)\n",
        "print(q)\n"
      ],
      "metadata": {
        "colab": {
          "base_uri": "https://localhost:8080/"
        },
        "id": "LIzuqSHlI9EE",
        "outputId": "165fb72b-08f2-4cf5-c57e-7349b8982fc7"
      },
      "execution_count": null,
      "outputs": [
        {
          "output_type": "stream",
          "name": "stdout",
          "text": [
            "deque([3, 4])\n",
            "deque([3, 4, 5])\n"
          ]
        }
      ]
    },
    {
      "cell_type": "markdown",
      "source": [
        "# Implement Stack Using Queues"
      ],
      "metadata": {
        "id": "E862adqhqWB6"
      }
    },
    {
      "cell_type": "code",
      "source": [
        "class Stack:\n",
        "  def __init__(self):\n",
        "    self.q1=[]\n",
        "    self.q2=[]\n",
        "\n",
        "  def enqueue(self,x):\n",
        "    self.q2.append(x)\n",
        "    while self.q1:\n",
        "      self.q2.append(self.q1.pop(0))\n",
        "\n",
        "    self.q1,self.q2=self.q2,self.q1\n",
        "\n",
        "  def dequeue(self):\n",
        "    if not self.is_empty():\n",
        "      return self.q1.pop(0)\n",
        "    return -1\n",
        "\n",
        "\n",
        "  def is_empty(self):\n",
        "    return not self.q1\n",
        "\n"
      ],
      "metadata": {
        "id": "rNRPdoqzoco4"
      },
      "execution_count": null,
      "outputs": []
    },
    {
      "cell_type": "code",
      "source": [
        "s1=Stack()\n",
        "s1.enqueue(1)\n",
        "s1.enqueue(2)\n",
        "s1.enqueue(3)\n",
        "s1.enqueue(4)\n",
        "print(s1.dequeue())\n",
        "print(s1.dequeue())\n",
        "print(s1.dequeue())\n",
        "print(s1.dequeue())"
      ],
      "metadata": {
        "colab": {
          "base_uri": "https://localhost:8080/"
        },
        "id": "N92j-1uerzwk",
        "outputId": "6e024757-2aed-471a-86ad-55a52673a894"
      },
      "execution_count": null,
      "outputs": [
        {
          "output_type": "stream",
          "name": "stdout",
          "text": [
            "4\n",
            "3\n",
            "2\n",
            "1\n",
            "-1\n"
          ]
        }
      ]
    },
    {
      "cell_type": "markdown",
      "source": [
        "# Implement Queue Using Stacks\n",
        "\n",
        "---\n",
        "\n"
      ],
      "metadata": {
        "id": "lbZXfBAbEH1R"
      }
    },
    {
      "cell_type": "code",
      "source": [
        "class Queue:\n",
        "  def __init__(self):\n",
        "    self.s1=[]\n",
        "    self.s2=[]\n",
        "\n",
        "  def enqueue(self,x):\n",
        "    while self.s1:\n",
        "      self.s2.append(self.s1.pop())\n",
        "    self.s1.append(x)\n",
        "    while self.s2:\n",
        "      self.s1.append(self.s2.pop())\n",
        "\n",
        "  def dequeue(self):\n",
        "    if self.s1:\n",
        "      return self.s1.pop()\n",
        "    return -1"
      ],
      "metadata": {
        "id": "K1UNmocovw8_"
      },
      "execution_count": null,
      "outputs": []
    },
    {
      "cell_type": "code",
      "source": [
        "q1=Queue()\n",
        "q1.enqueue(1)\n",
        "q1.enqueue(2)\n",
        "q1.enqueue(3)\n",
        "q1.enqueue(4)\n",
        "print(q1.dequeue())\n",
        "print(q1.dequeue())"
      ],
      "metadata": {
        "colab": {
          "base_uri": "https://localhost:8080/"
        },
        "id": "s7RBfbrsHjPt",
        "outputId": "938eba87-07b0-4dc4-c295-90919df3ec91"
      },
      "execution_count": null,
      "outputs": [
        {
          "output_type": "stream",
          "name": "stdout",
          "text": [
            "1\n",
            "2\n"
          ]
        }
      ]
    },
    {
      "cell_type": "markdown",
      "source": [
        "# Deque"
      ],
      "metadata": {
        "id": "OOGdsvr2ft4o"
      }
    },
    {
      "cell_type": "markdown",
      "source": [
        "Deque or double ended queue is a data structure in which elements are inserted and removed from both ends so it doesn't follow FIFO principle."
      ],
      "metadata": {
        "id": "XpDvKk8pfvzx"
      }
    },
    {
      "cell_type": "markdown",
      "source": [
        "**Implementation of deque by list**"
      ],
      "metadata": {
        "id": "Igv59wxAgefw"
      }
    },
    {
      "cell_type": "markdown",
      "source": [
        "TC=O(1) for append/pop and TC=O(N) for appendLeft/popLeft"
      ],
      "metadata": {
        "id": "rMrpDdFBhlkD"
      }
    },
    {
      "cell_type": "code",
      "source": [
        "class Deque:\n",
        "  def __init__(self):\n",
        "    self.deque=[]\n",
        "\n",
        "  def append(self,x):\n",
        "    self.deque.append(x)\n",
        "\n",
        "  def appendLeft(self,x):\n",
        "    self.deque.insert(0,x)\n",
        "\n",
        "  def pop(self):\n",
        "    if self.deque:\n",
        "      return self.deque.pop()\n",
        "    return -1\n",
        "\n",
        "  def popLeft(self):\n",
        "    if self.deque:\n",
        "      return self.deque.pop(0)\n",
        "    return -1"
      ],
      "metadata": {
        "id": "SyjJsthlHphP"
      },
      "execution_count": null,
      "outputs": []
    },
    {
      "cell_type": "code",
      "source": [
        "q=Deque()\n",
        "q.append(1)\n",
        "q.append(2)\n",
        "q.append(3)\n",
        "q.append(4)\n",
        "print(q.pop())\n",
        "q.appendLeft(5)\n",
        "print(q.popLeft())\n"
      ],
      "metadata": {
        "colab": {
          "base_uri": "https://localhost:8080/"
        },
        "id": "HvQJD_Auhj-u",
        "outputId": "4cda0af2-013c-40b6-cc6f-557e3759e1ad"
      },
      "execution_count": null,
      "outputs": [
        {
          "output_type": "stream",
          "name": "stdout",
          "text": [
            "4\n",
            "5\n"
          ]
        }
      ]
    },
    {
      "cell_type": "markdown",
      "source": [
        "**Implementation of deque by doubly Linked List**"
      ],
      "metadata": {
        "id": "CnoVfc23h9x8"
      }
    },
    {
      "cell_type": "code",
      "source": [
        "class Node:\n",
        "  # Constructor for creating a node\n",
        "  def __init__(self,data):\n",
        "    self.data=data\n",
        "    self.next=None\n",
        "    self.prev=None\n",
        "\n",
        "class LinkedList:\n",
        "  def __init__(self):\n",
        "    self.front=None\n",
        "    self.rear=None\n",
        "\n",
        "  # Insert at end/rear of link list\n",
        "  def insertRear(self,x):\n",
        "    newNode=Node(x)\n",
        "    if self.front is None:\n",
        "      self.front=self.rear=newNode\n",
        "      return\n",
        "    self.rear.next=newNode\n",
        "    newNode.prev=self.rear\n",
        "    self.rear=newNode\n",
        "\n",
        "\n",
        "  # Insert at front/start of link list\n",
        "  def insertFront(self,x):\n",
        "    newNode=Node(x)\n",
        "    if self.front is None:\n",
        "      self.front=self.rear=newNode\n",
        "      return\n",
        "    newNode.next=self.front\n",
        "    self.front.prev=newNode\n",
        "    self.front=newNode\n",
        "\n",
        "\n",
        "  # Remove node from start/front of link list\n",
        "  def deleteFront(self):\n",
        "    if self.front is None:\n",
        "      return -1\n",
        "\n",
        "    temp=self.front\n",
        "    self.front=self.front.next\n",
        "\n",
        "    if self.front is None:\n",
        "      self.front=self.rear=None\n",
        "      return temp.data\n",
        "\n",
        "    self.front.prev=None\n",
        "    return temp.data\n",
        "\n",
        "  # Remove Node from end/rear of link list\n",
        "  def deleteRear(self):\n",
        "    if self.rear is None:\n",
        "      return -1\n",
        "\n",
        "    temp=self.rear\n",
        "    self.rear=self.rear.prev\n",
        "\n",
        "    if self.rear is None:\n",
        "      self.front=None\n",
        "      return temp.data\n",
        "\n",
        "    self.rear.next=None\n",
        "    return temp.data\n",
        "\n",
        "  # Print the link list\n",
        "  def print(self):\n",
        "    curr=self.front\n",
        "    while curr:\n",
        "      print(curr.data,end=' ')\n",
        "      curr=curr.next\n",
        "\n",
        "\n",
        "\n"
      ],
      "metadata": {
        "id": "Dh4uIrU9h_9m"
      },
      "execution_count": null,
      "outputs": []
    },
    {
      "cell_type": "code",
      "source": [
        "q=LinkedList()\n",
        "q.insertFront(1)\n",
        "q.insertFront(2)\n",
        "q.insertFront(3)\n",
        "q.insertFront(4)\n",
        "q.insertRear(5)\n",
        "q.insertRear(6)\n",
        "q.print()\n",
        "print('\\n')\n",
        "print(q.deleteFront())\n",
        "print(q.deleteRear())\n",
        "q.print()"
      ],
      "metadata": {
        "colab": {
          "base_uri": "https://localhost:8080/"
        },
        "id": "C7GFqJqloZYa",
        "outputId": "a84fbe4c-f8d6-4ac0-b968-bf8524a289ea"
      },
      "execution_count": null,
      "outputs": [
        {
          "output_type": "stream",
          "name": "stdout",
          "text": [
            "4 3 2 1 5 6 \n",
            "\n",
            "4\n",
            "6\n",
            "3 2 1 5 "
          ]
        }
      ]
    },
    {
      "cell_type": "markdown",
      "source": [
        "# Lambda Function"
      ],
      "metadata": {
        "id": "T09R9FYQp3zd"
      }
    },
    {
      "cell_type": "markdown",
      "source": [
        "Lambda function is an anonymous function that is used to perform small operations and is not reusable"
      ],
      "metadata": {
        "id": "C54irJG9p6Vu"
      }
    },
    {
      "cell_type": "markdown",
      "source": [
        "**Example 1**"
      ],
      "metadata": {
        "id": "lSe7ARr8q4ev"
      }
    },
    {
      "cell_type": "code",
      "source": [
        "ans=lambda x:x+2\n",
        "print(ans(10))"
      ],
      "metadata": {
        "colab": {
          "base_uri": "https://localhost:8080/"
        },
        "id": "pC5HnjC1p5gl",
        "outputId": "e9f6413a-cadf-48f8-9ccd-23845c2c7227"
      },
      "execution_count": null,
      "outputs": [
        {
          "output_type": "stream",
          "name": "stdout",
          "text": [
            "12\n"
          ]
        }
      ]
    },
    {
      "cell_type": "markdown",
      "source": [
        "**Example 2**"
      ],
      "metadata": {
        "id": "nMSpoL1Jrh6o"
      }
    },
    {
      "cell_type": "code",
      "source": [
        "# Find even numbers\n",
        "nums=[1,2,4,3,5,7,87,6,5,88]\n",
        "even=list(filter(lambda x:x%2==0,nums))\n",
        "print(even)"
      ],
      "metadata": {
        "colab": {
          "base_uri": "https://localhost:8080/"
        },
        "id": "BP3F9B82rjVU",
        "outputId": "9455fb44-cf48-4214-fd7d-9dba157dffd2"
      },
      "execution_count": null,
      "outputs": [
        {
          "output_type": "stream",
          "name": "stdout",
          "text": [
            "[2, 4, 6, 88]\n"
          ]
        }
      ]
    },
    {
      "cell_type": "markdown",
      "source": [
        "**Example 3**"
      ],
      "metadata": {
        "id": "nNwE8OwFsuTp"
      }
    },
    {
      "cell_type": "code",
      "source": [
        "# Find odd numbers\n",
        "nums=[1,23,43,4,5,7,6,8]\n",
        "odd=list(filter(lambda x:x%2==1,nums))\n",
        "print(odd)"
      ],
      "metadata": {
        "colab": {
          "base_uri": "https://localhost:8080/"
        },
        "id": "_6Rjxbxzsv8l",
        "outputId": "944368a0-b4da-4f70-9c23-d41c5f584d9c"
      },
      "execution_count": null,
      "outputs": [
        {
          "output_type": "stream",
          "name": "stdout",
          "text": [
            "[1, 23, 43, 5, 7]\n"
          ]
        }
      ]
    },
    {
      "cell_type": "markdown",
      "source": [
        "**Example 4**"
      ],
      "metadata": {
        "id": "vloEJATns8zO"
      }
    },
    {
      "cell_type": "code",
      "source": [
        "# Sort numbers\n",
        "nums=[1,4,6,9,80,76,45,2,31,23]\n",
        "result=sorted(nums,key=lambda x:x)\n",
        "print(result)"
      ],
      "metadata": {
        "colab": {
          "base_uri": "https://localhost:8080/"
        },
        "id": "FOKx0BPAs-be",
        "outputId": "35f0796d-d1ee-4d81-d157-7edca048072d"
      },
      "execution_count": null,
      "outputs": [
        {
          "output_type": "stream",
          "name": "stdout",
          "text": [
            "[1, 2, 4, 6, 9, 23, 31, 45, 76, 80]\n"
          ]
        }
      ]
    },
    {
      "cell_type": "markdown",
      "source": [
        "**Example 5**"
      ],
      "metadata": {
        "id": "NZONqtyftjON"
      }
    },
    {
      "cell_type": "code",
      "source": [
        "# Sort by number of characters\n",
        "cities=['Karachi','Islamabad','Lahore','Quetta','Multan','Bahawalpur','Kashmir','Dera Ghazi Khan']\n",
        "sorted_list=sorted(cities,key=lambda x:len(x))\n",
        "print(sorted_list)"
      ],
      "metadata": {
        "colab": {
          "base_uri": "https://localhost:8080/"
        },
        "id": "EWPYIdkTkkTl",
        "outputId": "e05e39eb-1870-4246-b7c5-b45fb649e8f5"
      },
      "execution_count": null,
      "outputs": [
        {
          "output_type": "stream",
          "name": "stdout",
          "text": [
            "['Lahore', 'Quetta', 'Multan', 'Karachi', 'Kashmir', 'Islamabad', 'Bahawalpur', 'Dera Ghazi Khan']\n"
          ]
        }
      ]
    },
    {
      "cell_type": "code",
      "source": [
        "# Sort by number of characters and 3 character of each string alphabetically\n",
        "cities=['Karachi','Islamabad','Lahore','Quetta','Multan','Bahawalpur','Kashmir','Dera Ghazi Khan']\n",
        "result=sorted(cities,key=lambda x:(len(x),x[2]))\n",
        "print(result)"
      ],
      "metadata": {
        "colab": {
          "base_uri": "https://localhost:8080/"
        },
        "id": "9-Fjuz8jtlAF",
        "outputId": "fd94271a-c9ad-4f8a-fc81-5b6a827061ef"
      },
      "execution_count": null,
      "outputs": [
        {
          "output_type": "stream",
          "name": "stdout",
          "text": [
            "['Quetta', 'Lahore', 'Multan', 'Karachi', 'Kashmir', 'Islamabad', 'Bahawalpur', 'Dera Ghazi Khan']\n"
          ]
        }
      ]
    },
    {
      "cell_type": "markdown",
      "source": [
        "**Example 6**\n"
      ],
      "metadata": {
        "id": "IQXeTZsFxBqn"
      }
    },
    {
      "cell_type": "code",
      "source": [
        "# Lambda function take multiple arguments\n",
        "ans=lambda a,b:a*b\n",
        "ans(5,4)"
      ],
      "metadata": {
        "colab": {
          "base_uri": "https://localhost:8080/"
        },
        "id": "2dKhvvNLxDWb",
        "outputId": "4a93bf38-8d96-4e10-aef3-4e6180c302a7"
      },
      "execution_count": null,
      "outputs": [
        {
          "output_type": "execute_result",
          "data": {
            "text/plain": [
              "20"
            ]
          },
          "metadata": {},
          "execution_count": 56
        }
      ]
    },
    {
      "cell_type": "markdown",
      "source": [
        "**Example 7**"
      ],
      "metadata": {
        "id": "vqoOzNrYzUWF"
      }
    },
    {
      "cell_type": "code",
      "source": [
        "greet=lambda:print('Hello World!')\n",
        "greet()"
      ],
      "metadata": {
        "colab": {
          "base_uri": "https://localhost:8080/"
        },
        "id": "I5175I7_zViX",
        "outputId": "97b0531b-b73a-492d-bc2e-4438f7bc0f53"
      },
      "execution_count": null,
      "outputs": [
        {
          "output_type": "stream",
          "name": "stdout",
          "text": [
            "Hello World!\n"
          ]
        }
      ]
    },
    {
      "cell_type": "markdown",
      "source": [
        "**Example 8**"
      ],
      "metadata": {
        "id": "2I0cwWIq0FO7"
      }
    },
    {
      "cell_type": "code",
      "source": [
        "greet=lambda name:print(f'Hello {name}')\n",
        "greet('Huzaifa')"
      ],
      "metadata": {
        "colab": {
          "base_uri": "https://localhost:8080/"
        },
        "id": "7TdjPkeY0AD0",
        "outputId": "7dff8a06-61db-464f-d13a-1f7bfd50eaf1"
      },
      "execution_count": null,
      "outputs": [
        {
          "output_type": "stream",
          "name": "stdout",
          "text": [
            "Hello Huzaifa\n"
          ]
        }
      ]
    },
    {
      "cell_type": "markdown",
      "source": [
        "**Example 9**"
      ],
      "metadata": {
        "id": "29RmGJkW6kwe"
      }
    },
    {
      "cell_type": "code",
      "source": [
        "# Calculate avg\n",
        "avg=lambda a,b,c:(a+b+c)/3\n",
        "avg(2,4,6)"
      ],
      "metadata": {
        "colab": {
          "base_uri": "https://localhost:8080/"
        },
        "id": "Lf5GZgn36g5q",
        "outputId": "a7c78d27-5117-47c7-917c-2b504cadfdd1"
      },
      "execution_count": null,
      "outputs": [
        {
          "output_type": "execute_result",
          "data": {
            "text/plain": [
              "4.0"
            ]
          },
          "metadata": {},
          "execution_count": 60
        }
      ]
    },
    {
      "cell_type": "markdown",
      "source": [
        "**Example 9**"
      ],
      "metadata": {
        "id": "Q6wFquU3-3p0"
      }
    },
    {
      "cell_type": "code",
      "source": [
        "#Length of string\n",
        "length=lambda s:len(s)\n",
        "print(length('Ali'))"
      ],
      "metadata": {
        "colab": {
          "base_uri": "https://localhost:8080/"
        },
        "id": "Dbrkc6LI-40s",
        "outputId": "0bba96b8-cac0-442b-bf36-0861429f498d"
      },
      "execution_count": null,
      "outputs": [
        {
          "output_type": "stream",
          "name": "stdout",
          "text": [
            "3\n"
          ]
        }
      ]
    },
    {
      "cell_type": "markdown",
      "source": [
        "**Example 10**"
      ],
      "metadata": {
        "id": "hHldIFfl_TBE"
      }
    },
    {
      "cell_type": "code",
      "source": [
        "nums=[1,2,3,4,5]\n",
        "square=list(map(lambda x:x*x,nums))\n",
        "print(square)"
      ],
      "metadata": {
        "colab": {
          "base_uri": "https://localhost:8080/"
        },
        "id": "kgu7XbAXSeUT",
        "outputId": "96a1114c-b211-4cad-be61-386dbed294b4"
      },
      "execution_count": null,
      "outputs": [
        {
          "output_type": "stream",
          "name": "stdout",
          "text": [
            "[1, 4, 9, 16, 25]\n"
          ]
        }
      ]
    },
    {
      "cell_type": "code",
      "source": [
        "# Convert a list of integers to their square values\n",
        "nums=[1,2,3,4,5]\n",
        "square=map(lambda x:x**2,nums)\n",
        "print({key:val for key,val in zip(nums,square)})"
      ],
      "metadata": {
        "colab": {
          "base_uri": "https://localhost:8080/"
        },
        "id": "jao4eh2-_Ug6",
        "outputId": "3fecc847-f90b-43de-ef1c-0b34ef412d7f"
      },
      "execution_count": null,
      "outputs": [
        {
          "output_type": "stream",
          "name": "stdout",
          "text": [
            "{1: 1, 2: 4, 3: 9, 4: 16, 5: 25}\n"
          ]
        }
      ]
    },
    {
      "cell_type": "markdown",
      "source": [
        "**Example 11**"
      ],
      "metadata": {
        "id": "XCPlDdgzBQzO"
      }
    },
    {
      "cell_type": "code",
      "source": [
        "# Sort a list of dictionaries base on specific key\n",
        "people=[{'name':'Ali','age':35,'city':'Karachi'},\n",
        "        {'name':'Ahsan','age':30,'city':'Multan'},\n",
        "        {'name':'Ahmed','age':30,'city':'Islamabad'},\n",
        "        {'name':'Huzaifa','age':1,'city':'Multan'}\n",
        "        ]\n",
        "\n",
        "sorted_list=sorted(people,key=lambda x:x['age'])\n",
        "sorted_list"
      ],
      "metadata": {
        "colab": {
          "base_uri": "https://localhost:8080/"
        },
        "id": "uEeeASNHn7SC",
        "outputId": "30f6fabc-94d7-467e-d817-4c61cf1bab33"
      },
      "execution_count": null,
      "outputs": [
        {
          "output_type": "execute_result",
          "data": {
            "text/plain": [
              "[{'name': 'Huzaifa', 'age': 1, 'city': 'Multan'},\n",
              " {'name': 'Ahsan', 'age': 30, 'city': 'Multan'},\n",
              " {'name': 'Ahmed', 'age': 30, 'city': 'Islamabad'},\n",
              " {'name': 'Ali', 'age': 35, 'city': 'Karachi'}]"
            ]
          },
          "metadata": {},
          "execution_count": 37
        }
      ]
    },
    {
      "cell_type": "code",
      "source": [
        "# Sort a list of dictionaries base on specific key\n",
        "people=[{'name':'Ali','age':30,'city':'Karachi'},\n",
        "        {'name':'Ahmed','age':30,'city':'Islamabad'},\n",
        "        {'name':'Huzaifa','age':1,'city':'Multan'}\n",
        "        ]\n",
        "# order by age and key\n",
        "result=sorted(people,key=lambda x:(x['age'],x['name']))\n",
        "result"
      ],
      "metadata": {
        "colab": {
          "base_uri": "https://localhost:8080/"
        },
        "id": "GtcW3jMVBSKn",
        "outputId": "5e735400-a22c-4882-b701-d4808e9fba46"
      },
      "execution_count": null,
      "outputs": [
        {
          "output_type": "execute_result",
          "data": {
            "text/plain": [
              "[{'name': 'Huzaifa', 'age': 1, 'city': 'Multan'},\n",
              " {'name': 'Ahmed', 'age': 30, 'city': 'Islamabad'},\n",
              " {'name': 'Ali', 'age': 30, 'city': 'Karachi'}]"
            ]
          },
          "metadata": {},
          "execution_count": 39
        }
      ]
    },
    {
      "cell_type": "markdown",
      "source": [
        "**Example 12**"
      ],
      "metadata": {
        "id": "OBai_2qpDYOb"
      }
    },
    {
      "cell_type": "code",
      "source": [
        "# Sort values in dictionary\n",
        "data={'a':10,'b':20,'c':30,'d':15}\n",
        "sorted_arr=sorted(data,key=lambda x:data[x])\n",
        "for key in sorted_arr:\n",
        "  print(key,data[key])\n"
      ],
      "metadata": {
        "colab": {
          "base_uri": "https://localhost:8080/"
        },
        "id": "j0kU8IJSTL-W",
        "outputId": "df8c4456-1bf4-47cf-81a9-fac49b93b3a2"
      },
      "execution_count": null,
      "outputs": [
        {
          "output_type": "stream",
          "name": "stdout",
          "text": [
            "a 10\n",
            "d 15\n",
            "b 20\n",
            "c 30\n"
          ]
        }
      ]
    },
    {
      "cell_type": "code",
      "source": [
        "# Sort values in dictionary\n",
        "data={'a':10,'b':20,'c':30,'d':15}\n",
        "print(sorted(data,key=lambda x:data[x]))"
      ],
      "metadata": {
        "colab": {
          "base_uri": "https://localhost:8080/"
        },
        "id": "YCqeEIWnDZ5z",
        "outputId": "6b61aacd-51c5-4f87-f728-5cf2def4f21e"
      },
      "execution_count": null,
      "outputs": [
        {
          "output_type": "stream",
          "name": "stdout",
          "text": [
            "['a', 'd', 'b', 'c']\n"
          ]
        }
      ]
    },
    {
      "cell_type": "markdown",
      "source": [
        "**Example 13**"
      ],
      "metadata": {
        "id": "ICkS59tuETou"
      }
    },
    {
      "cell_type": "code",
      "source": [
        "# Finding max value in dictionary\n",
        "data={'a':10,'b':20,'c':30,'d':15}\n",
        "print(max(data,key=lambda x:data[x]))"
      ],
      "metadata": {
        "colab": {
          "base_uri": "https://localhost:8080/"
        },
        "id": "_VqHAYXVEVGQ",
        "outputId": "efbac62c-ba25-42e0-9fbb-0966d043c2df"
      },
      "execution_count": null,
      "outputs": [
        {
          "output_type": "stream",
          "name": "stdout",
          "text": [
            "c\n"
          ]
        }
      ]
    },
    {
      "cell_type": "markdown",
      "source": [
        "# Recursion"
      ],
      "metadata": {
        "id": "X8nB9nwbraN4"
      }
    },
    {
      "cell_type": "markdown",
      "source": [
        "1. When a function calls iteslf repeatedly unless the base condition is True.\n",
        "2. Every recursive call needs an extra space in stack memory."
      ],
      "metadata": {
        "id": "cArY3xvLr9Ab"
      }
    },
    {
      "cell_type": "markdown",
      "source": [
        "**Example 1**"
      ],
      "metadata": {
        "id": "8wtzFPk2sYN7"
      }
    },
    {
      "cell_type": "code",
      "source": [
        "# Print numbers from 1 to n using recursion\n",
        "def print_nums(n):\n",
        "  if n==0:\n",
        "    return\n",
        "  print_nums(n-1)\n",
        "  print(n)\n",
        "\n",
        "n=int(input('Enter any number:'))\n",
        "print_nums(n)"
      ],
      "metadata": {
        "colab": {
          "base_uri": "https://localhost:8080/"
        },
        "id": "2i7l8BAGrb3n",
        "outputId": "4fab6540-153d-495e-cead-3baaeb3348bd"
      },
      "execution_count": null,
      "outputs": [
        {
          "output_type": "stream",
          "name": "stdout",
          "text": [
            "Enter any number:6\n",
            "1\n",
            "2\n",
            "3\n",
            "4\n",
            "5\n",
            "6\n"
          ]
        }
      ]
    },
    {
      "cell_type": "markdown",
      "source": [
        "**Example 2**"
      ],
      "metadata": {
        "id": "G1-NfBpHukp8"
      }
    },
    {
      "cell_type": "code",
      "source": [
        "# Print numbers from n to 1\n",
        "\n",
        "def print_nums(n):\n",
        "  if n==0:\n",
        "    return\n",
        "  print(n)\n",
        "  print_nums(n-1)\n",
        "\n",
        "print_nums(5)"
      ],
      "metadata": {
        "colab": {
          "base_uri": "https://localhost:8080/"
        },
        "id": "9s2eIgULuiIC",
        "outputId": "0de20548-2059-4a7c-bfbb-08d5aff1b6c6"
      },
      "execution_count": null,
      "outputs": [
        {
          "output_type": "stream",
          "name": "stdout",
          "text": [
            "5\n",
            "4\n",
            "3\n",
            "2\n",
            "1\n"
          ]
        }
      ]
    },
    {
      "cell_type": "markdown",
      "source": [
        "**Example 3**"
      ],
      "metadata": {
        "id": "vcpc99yVvOk6"
      }
    },
    {
      "cell_type": "code",
      "source": [
        "# Factorial of n\n",
        "def fact(n):\n",
        "  if n==0:\n",
        "    return 1\n",
        "  return n*fact(n-1)\n",
        "\n",
        "fact(5)"
      ],
      "metadata": {
        "colab": {
          "base_uri": "https://localhost:8080/"
        },
        "id": "Mh94z1TwvQW-",
        "outputId": "8131df16-f363-4de8-d998-6196d3515d5c"
      },
      "execution_count": null,
      "outputs": [
        {
          "output_type": "execute_result",
          "data": {
            "text/plain": [
              "120"
            ]
          },
          "metadata": {},
          "execution_count": 61
        }
      ]
    },
    {
      "cell_type": "markdown",
      "source": [
        "**Example 4**"
      ],
      "metadata": {
        "id": "uJBXQ7wUwuPN"
      }
    },
    {
      "cell_type": "code",
      "source": [
        "# Sum of all numbers from 1 to n inclusively\n",
        "def sum(n):\n",
        "  if n==0:\n",
        "    return 0\n",
        "  return n+sum(n-1)\n",
        "\n",
        "sum(5)"
      ],
      "metadata": {
        "colab": {
          "base_uri": "https://localhost:8080/"
        },
        "id": "wu2zGRPkwwLe",
        "outputId": "b855152d-8d18-4582-bea7-30b06458f240"
      },
      "execution_count": null,
      "outputs": [
        {
          "output_type": "execute_result",
          "data": {
            "text/plain": [
              "15"
            ]
          },
          "metadata": {},
          "execution_count": 67
        }
      ]
    },
    {
      "cell_type": "markdown",
      "source": [
        "**Example 5**"
      ],
      "metadata": {
        "id": "cgmHgYnp07pP"
      }
    },
    {
      "cell_type": "code",
      "source": [
        "# Fibonacci series using recursion\n",
        "def fib(n):\n",
        "  if n==1 or n==0:\n",
        "    return n\n",
        "  return fib(n-1)+fib(n-2)\n",
        "\n",
        "fib(6)"
      ],
      "metadata": {
        "colab": {
          "base_uri": "https://localhost:8080/"
        },
        "id": "zrPxee8z09Ci",
        "outputId": "3e6f7fa3-231f-4506-b548-035f7a87d39f"
      },
      "execution_count": null,
      "outputs": [
        {
          "output_type": "execute_result",
          "data": {
            "text/plain": [
              "8"
            ]
          },
          "metadata": {},
          "execution_count": 81
        }
      ]
    },
    {
      "cell_type": "markdown",
      "source": [
        "**Example 6**"
      ],
      "metadata": {
        "id": "sEaTOWToAWxk"
      }
    },
    {
      "cell_type": "code",
      "source": [
        "# is power of 3\n",
        "class Solution:\n",
        "    @staticmethod\n",
        "    def isPowerOfThree(n: int) -> bool:\n",
        "        def isPower(n,x):\n",
        "            if (3**x)==n:\n",
        "                return True\n",
        "            if (3**x)>n:\n",
        "                return False\n",
        "            return isPower(n,x+1)\n",
        "        return isPower(n,0)\n",
        "Solution.isPowerOfThree(27)"
      ],
      "metadata": {
        "colab": {
          "base_uri": "https://localhost:8080/"
        },
        "id": "AKWrH2jtAYJ8",
        "outputId": "2a5b316e-039b-448f-a4ae-b6209ffc3ed5"
      },
      "execution_count": null,
      "outputs": [
        {
          "output_type": "execute_result",
          "data": {
            "text/plain": [
              "True"
            ]
          },
          "metadata": {},
          "execution_count": 95
        }
      ]
    },
    {
      "cell_type": "markdown",
      "source": [
        "**Example 7**"
      ],
      "metadata": {
        "id": "iWn_P8f1AYnq"
      }
    },
    {
      "cell_type": "code",
      "source": [
        "# is power of 4\n",
        "class Solution:\n",
        "    def isPowerOfFour(n: int) -> bool:\n",
        "        def isPower(n,x):\n",
        "            if (4**x)==n:\n",
        "                return True\n",
        "            if (4**x)>n:\n",
        "                return False\n",
        "            return isPower(n,x+1)\n",
        "        return isPower(n,0)\n",
        "\n",
        "Solution.isPowerOfFour(64)"
      ],
      "metadata": {
        "colab": {
          "base_uri": "https://localhost:8080/"
        },
        "id": "vfS52OGWAaAi",
        "outputId": "8fdbbcad-0a05-4cac-9fa2-1a74b6935e63"
      },
      "execution_count": null,
      "outputs": [
        {
          "output_type": "execute_result",
          "data": {
            "text/plain": [
              "True"
            ]
          },
          "metadata": {},
          "execution_count": 97
        }
      ]
    },
    {
      "cell_type": "markdown",
      "source": [
        "# Dynamic Programming"
      ],
      "metadata": {
        "id": "sQyLorbqrmuT"
      }
    },
    {
      "cell_type": "markdown",
      "source": [
        "1. Dynamic programming is principle of optimality.\n",
        "2. DP is a technique in which problem is broken down into sub problems and the results are saved and then sub problems are optimized to find the overall solution.\n",
        "3. In greedy method(doesn't give optimal solution), the decision is taken one time while in DP the decision is taken at every setp."
      ],
      "metadata": {
        "id": "n4RXfjLdrySK"
      }
    },
    {
      "cell_type": "markdown",
      "source": [
        "DP has 2 approaches/method:\n",
        "1. Memoization method: recursive approach, top down approach\n",
        "2. Tabulation method: iterative approach, bottom up approach"
      ],
      "metadata": {
        "id": "FzIRDYbvtIQ2"
      }
    },
    {
      "cell_type": "markdown",
      "source": [
        "**Example 1**"
      ],
      "metadata": {
        "id": "7GuZC6_ps7YG"
      }
    },
    {
      "cell_type": "code",
      "source": [
        "# Fibonacci Series by tabulation method\n",
        "def fib(n):\n",
        "  dp=[0]*(n+1)\n",
        "  dp[0],dp[1]=0,1\n",
        "  for i in range(2,n+1):\n",
        "    dp[i]=dp[i-1]+dp[i-2]\n",
        "  return dp[n]\n",
        "\n",
        "fib(5)"
      ],
      "metadata": {
        "colab": {
          "base_uri": "https://localhost:8080/"
        },
        "id": "8PmiA-3hrpVT",
        "outputId": "f257cf1b-68f5-4723-c0a6-f8205cb23534"
      },
      "execution_count": null,
      "outputs": [
        {
          "output_type": "execute_result",
          "data": {
            "text/plain": [
              "5"
            ]
          },
          "metadata": {},
          "execution_count": 4
        }
      ]
    },
    {
      "cell_type": "code",
      "source": [
        "# Fibonacci Series by memoization method\n",
        "def fib(n,memo={}):\n",
        "  if n in memo:\n",
        "    return memo[n]\n",
        "  if n==1 or n==0:\n",
        "    return n\n",
        "  memo[n]= fib(n-1,memo)+fib(n-2,memo)\n",
        "  return memo[n]\n",
        "\n",
        "fib(7)"
      ],
      "metadata": {
        "colab": {
          "base_uri": "https://localhost:8080/"
        },
        "id": "mfhR8_7Xt_wn",
        "outputId": "1c7ca2e8-2a9a-4da5-b5ed-ed53f458bee0"
      },
      "execution_count": null,
      "outputs": [
        {
          "output_type": "execute_result",
          "data": {
            "text/plain": [
              "13"
            ]
          },
          "metadata": {},
          "execution_count": 21
        }
      ]
    },
    {
      "cell_type": "markdown",
      "source": [
        "**Example 2**"
      ],
      "metadata": {
        "id": "1bcffhBnxk7j"
      }
    },
    {
      "cell_type": "markdown",
      "source": [
        "You are climbing a staircase. It takes n steps to reach the top.\n",
        "\n",
        "Each time you can either climb 1 or 2 steps. In how many distinct ways can you climb to the top?\n",
        "\n",
        "\n",
        "\n",
        "Example:\n",
        "\n",
        "Input: n = 2\n",
        "Output: 2\n",
        "Explanation: There are two ways to climb to the top.\n",
        "1. 1 step + 1 step\n",
        "2. 2 steps"
      ],
      "metadata": {
        "id": "XEe7DQcXycin"
      }
    },
    {
      "cell_type": "markdown",
      "source": [
        "**Tabulation method**"
      ],
      "metadata": {
        "id": "xm9ADtIz1Zqw"
      }
    },
    {
      "cell_type": "code",
      "source": [
        "def climbStairs(n):\n",
        "  dp=[0]*(n+1)\n",
        "  dp[0]=dp[1]=1\n",
        "\n",
        "  for i in range(2,n+1):\n",
        "    dp[i]=dp[i-1]+dp[i-2]\n",
        "  return dp[n]\n",
        "\n",
        "climbStairs(5)"
      ],
      "metadata": {
        "colab": {
          "base_uri": "https://localhost:8080/"
        },
        "id": "twnw7z90vhmp",
        "outputId": "22d5a0a5-1cd9-4f27-bcb4-4f6cf4904751"
      },
      "execution_count": null,
      "outputs": [
        {
          "output_type": "execute_result",
          "data": {
            "text/plain": [
              "8"
            ]
          },
          "metadata": {},
          "execution_count": 22
        }
      ]
    },
    {
      "cell_type": "markdown",
      "source": [
        "**Memoization Method**"
      ],
      "metadata": {
        "id": "hX6GN86d1cZz"
      }
    },
    {
      "cell_type": "code",
      "source": [
        "def climbStairs(n,memo={}):\n",
        "  if n in memo:\n",
        "    return memo[n]\n",
        "  if n==1 or n==0:\n",
        "    return 1\n",
        "  memo[n]=climbStairs(n-1,memo)+climbStairs(n-2,memo)\n",
        "  return memo[n]\n",
        "\n",
        "climbStairs(5)"
      ],
      "metadata": {
        "colab": {
          "base_uri": "https://localhost:8080/"
        },
        "id": "qik_klJIzi0g",
        "outputId": "025452ec-7d82-48bc-f453-e10da524b453"
      },
      "execution_count": null,
      "outputs": [
        {
          "output_type": "execute_result",
          "data": {
            "text/plain": [
              "8"
            ]
          },
          "metadata": {},
          "execution_count": 30
        }
      ]
    },
    {
      "cell_type": "markdown",
      "source": [
        "**Example 3**"
      ],
      "metadata": {
        "id": "ccYA8UKV1gU1"
      }
    },
    {
      "cell_type": "markdown",
      "source": [
        "You are given an integer array cost where cost[i] is the cost of ith step on a staircase. Once you pay the cost, you can either climb one or two steps.\n",
        "\n",
        "You can either start from the step with index 0, or the step with index 1.\n",
        "\n",
        "Return the minimum cost to reach the top of the floor.\n",
        "\n",
        "\n",
        "\n",
        "Example:\n",
        "\n",
        "Input: cost = [10,15,20]\n",
        "Output: 15\n",
        "Explanation: You will start at index 1.\n",
        "- Pay 15 and climb two steps to reach the top.\n",
        "The total cost is 15."
      ],
      "metadata": {
        "id": "sJz9wpW210c6"
      }
    },
    {
      "cell_type": "code",
      "source": [
        "# By Tabulation Method\n",
        "def min_cost(cost):\n",
        "  n=len(cost)\n",
        "  dp=[0]*(n+2)\n",
        "\n",
        "  for i in range(n-1,-1,-1):\n",
        "    dp[i]=cost[i]+min(dp[i+1],dp[i+2])\n",
        "\n",
        "  return min(dp[0],dp[1])\n",
        "\n",
        "min_cost([1,100,1,1,1,100,1,1,100,1])\n"
      ],
      "metadata": {
        "colab": {
          "base_uri": "https://localhost:8080/"
        },
        "id": "XgEtpMIk1hpl",
        "outputId": "df2f9d6d-3825-4689-ca92-bc056b9c9b2f"
      },
      "execution_count": null,
      "outputs": [
        {
          "output_type": "execute_result",
          "data": {
            "text/plain": [
              "6"
            ]
          },
          "metadata": {},
          "execution_count": 33
        }
      ]
    }
  ]
}