{
 "cells": [
  {
   "cell_type": "code",
   "execution_count": 1,
   "outputs": [],
   "source": [
    "import unittest"
   ],
   "metadata": {
    "collapsed": false,
    "pycharm": {
     "name": "#%%\n"
    }
   }
  },
  {
   "cell_type": "code",
   "execution_count": 2,
   "outputs": [],
   "source": [
    "class Testing(unittest.TestCase):\n",
    "    def test(self, answer, solution):\n",
    "        self.assertEqual(answer, solution)"
   ],
   "metadata": {
    "collapsed": false,
    "pycharm": {
     "name": "#%%\n"
    }
   }
  },
  {
   "cell_type": "markdown",
   "source": [
    "### Day 1 Array"
   ],
   "metadata": {
    "collapsed": false
   }
  },
  {
   "cell_type": "code",
   "execution_count": 4,
   "outputs": [
    {
     "data": {
      "text/plain": "True"
     },
     "execution_count": 4,
     "metadata": {},
     "output_type": "execute_result"
    }
   ],
   "source": [
    "# Contains Duplicate (Easy)\n",
    "\n",
    "nums = [1,2,3,1]\n",
    "\n",
    "class Solution:\n",
    "    def containsDuplicate(self, nums) -> bool:\n",
    "        return False if len(nums) == len(set(nums)) else True\n",
    "\n",
    "Solution().containsDuplicate(nums)"
   ],
   "metadata": {
    "collapsed": false,
    "pycharm": {
     "name": "#%%\n"
    }
   }
  },
  {
   "cell_type": "code",
   "execution_count": 10,
   "outputs": [
    {
     "data": {
      "text/plain": "6"
     },
     "execution_count": 10,
     "metadata": {},
     "output_type": "execute_result"
    }
   ],
   "source": [
    "# Maximum Subarray (Easy)\n",
    "\n",
    "nums = [-2,1,-3,4,-1,2,1,-5,4]\n",
    "\n",
    "class Solution:\n",
    "    def maxSubArray(self, nums) -> int:\n",
    "        count = best = nums[0]\n",
    "        for num in nums[1:]:\n",
    "            count = max(num, count+num)\n",
    "            best = max(count, best)\n",
    "        return best\n",
    "\n",
    "Solution().maxSubArray(nums)"
   ],
   "metadata": {
    "collapsed": false,
    "pycharm": {
     "name": "#%%\n"
    }
   }
  },
  {
   "cell_type": "markdown",
   "source": [
    "### Day 2 Array"
   ],
   "metadata": {
    "collapsed": false,
    "pycharm": {
     "name": "#%% md\n"
    }
   }
  },
  {
   "cell_type": "code",
   "execution_count": 10,
   "outputs": [],
   "source": [
    "# Two Sum (Easy)\n",
    "\n",
    "class Solution:\n",
    "    def twoSum(self, nums, target):\n",
    "        comps = {}\n",
    "        for i, num in enumerate(nums):\n",
    "            comp = target-num\n",
    "            if comp in comps:\n",
    "                return [i, comps[comp]]\n",
    "            comps[num] = i\n",
    "\n",
    "Testing().test(sorted(Solution().twoSum([2,7,11,15], 9)),[0,1])"
   ],
   "metadata": {
    "collapsed": false,
    "pycharm": {
     "name": "#%%\n"
    }
   }
  },
  {
   "cell_type": "code",
   "execution_count": 60,
   "outputs": [],
   "source": [
    "# Merge Sorted Array (Easy)\n",
    "\n",
    "class Solution:\n",
    "    def merge(self, nums1, m: int, nums2, n: int) -> None:\n",
    "        \"\"\"\n",
    "        Do not return anything, modify nums1 in-place instead.\n",
    "        \"\"\"\n",
    "        nums1[:] = nums1[:m]\n",
    "        ans = []\n",
    "        while len(ans) != (m+n):\n",
    "            if not nums1:\n",
    "                ans += nums2\n",
    "            elif not nums2:\n",
    "                ans += nums1\n",
    "            else:\n",
    "                if nums1[0] > nums2[0]:\n",
    "                    ans.append(nums2.pop(0))\n",
    "                elif nums1[0] < nums2[0]:\n",
    "                    ans.append(nums1.pop(0))\n",
    "                else:\n",
    "                    ans.append(nums2.pop(0))\n",
    "        nums1[:] = ans\n",
    "\n",
    "    def merge2(self, nums1, m: int, nums2, n: int) -> None:\n",
    "        nums1[:] = nums1[:m]\n",
    "        if m == 0:\n",
    "            nums1[:] = nums2[:]\n",
    "        elif n == 0:\n",
    "            nums1[:] = nums1[:m]\n",
    "\n",
    "        for i in range(m+n):\n",
    "            if i == len(nums1):\n",
    "                nums1 += nums2\n",
    "                break\n",
    "            if nums1[i] > nums2[0]:\n",
    "                nums1.insert(i, nums2.pop(0))\n",
    "\n",
    "    def merge3(self, nums1, m: int, nums2, n: int) -> None:\n",
    "        if m == 0:\n",
    "            nums1[:] = nums2\n",
    "            return\n",
    "        elif n == 0:\n",
    "            return\n",
    "        p1, p2 = m - 1, n - 1\n",
    "        for i in range(m+n-1, -1, -1):\n",
    "            if nums2[p2] > nums1[p1] and p2 >= 0 or p1 < 0:\n",
    "                nums1[i] = nums2[p2]\n",
    "                p2 -= 1\n",
    "            else:\n",
    "                nums1[i] = nums1[p1]\n",
    "                p1 -= 1\n",
    "\n",
    "    def merge4(self, nums1, m: int, nums2, n: int) -> None:\n",
    "        p1, p2 = m - 1, n - 1\n",
    "        for i in range(m+n-1, -1, -1):\n",
    "            if p2 < 0:\n",
    "                break\n",
    "            if p1 >= 0 and nums1[p1] > nums2[p2]:\n",
    "                nums1[i] = nums1[p1]\n",
    "                p1 -= 1\n",
    "            else:\n",
    "                nums1[i] = nums2[p2]\n",
    "                p2 -= 1\n",
    "\n",
    "    def merge5(self, nums1, m: int, nums2, n: int) -> None:\n",
    "        \"\"\"\n",
    "        Tim sort takes advantage of presorts\n",
    "        :param nums1:\n",
    "        :param m:\n",
    "        :param nums2:\n",
    "        :param n:\n",
    "        :return:\n",
    "        \"\"\"\n",
    "        nums1[:] = sorted(nums1[:m] + nums2)\n",
    "\n",
    "nums1, m = [1,2,3,0,0,0], 3\n",
    "nums2, n = [2,5,6], 3\n",
    "Solution().merge5(nums1, m, nums2, n)\n",
    "Testing().test(nums1,[1,2,2,3,5,6])"
   ],
   "metadata": {
    "collapsed": false,
    "pycharm": {
     "name": "#%%\n"
    }
   }
  },
  {
   "cell_type": "markdown",
   "source": [
    "### Day 3 Array"
   ],
   "metadata": {
    "collapsed": false,
    "pycharm": {
     "name": "#%% md\n"
    }
   }
  },
  {
   "cell_type": "code",
   "execution_count": 15,
   "outputs": [],
   "source": [
    "# Intersection of Two Arrays II (Easy)\n",
    "\n",
    "class Solution:\n",
    "    def intersect(self, nums1, nums2):\n",
    "        \"\"\"\n",
    "\n",
    "        Time:\n",
    "        Space:\n",
    "        Solve: 20m\n",
    "        \"\"\"\n",
    "        intersect = []\n",
    "        for num in nums1:\n",
    "            if num in nums2:\n",
    "                nums2.remove(num)\n",
    "                intersect.append(num)\n",
    "        return intersect\n",
    "\n",
    "Testing().test(Solution().intersect([1,2,2,1], [2,2]),[2,2])\n",
    "Testing().test(Solution().intersect([4,9,5], [9,4,9,8,4]),[4,9])\n",
    "Testing().test(Solution().intersect([4,7,9,7,6,7], [5,0,0,6,1,6,2,2,4]),[4,6])"
   ],
   "metadata": {
    "collapsed": false,
    "pycharm": {
     "name": "#%%\n"
    }
   }
  },
  {
   "cell_type": "code",
   "execution_count": 21,
   "outputs": [],
   "source": [
    "# Best Time to Buy and Sell Stock (Easy)\n",
    "\n",
    "class Solution:\n",
    "    def maxProfit(self, prices) -> int:\n",
    "        \"\"\"\n",
    "        Time: O(N)\n",
    "        Space: O(1)\n",
    "        Solve: 17M\n",
    "        \"\"\"\n",
    "        buy = prices[0]\n",
    "        profit = 0\n",
    "        for price in prices[1:]:\n",
    "            if price < buy:\n",
    "                buy = price\n",
    "            else:\n",
    "                profit = max(profit, price - buy)\n",
    "        return profit\n",
    "\n",
    "Testing().test(Solution().maxProfit([7,1,5,3,6,4]), 5)\n",
    "Testing().test(Solution().maxProfit([7,6,4,3,1]), 0)\n",
    "Testing().test(Solution().maxProfit([2,4,1]), 2)"
   ],
   "metadata": {
    "collapsed": false,
    "pycharm": {
     "name": "#%%\n"
    }
   }
  },
  {
   "cell_type": "markdown",
   "source": [
    "### Day 4 Array"
   ],
   "metadata": {
    "collapsed": false,
    "pycharm": {
     "name": "#%% md\n"
    }
   }
  },
  {
   "cell_type": "code",
   "execution_count": 68,
   "outputs": [],
   "source": [
    "# Reshape the Matrix (Easy)\n",
    "\n",
    "class Solution:\n",
    "    def matrixReshape(self, mat, r: int, c: int):\n",
    "        \"\"\"\n",
    "        Time:\n",
    "        Space:\n",
    "        Solve: 17M\n",
    "        \"\"\"\n",
    "        h, w = len(mat), len(mat[0])\n",
    "        if h*w != r*c:\n",
    "            return mat\n",
    "\n",
    "        rmat = []\n",
    "        flatten = [ele for row in mat for ele in row]\n",
    "        for i in range(r):\n",
    "            start_idx = i * c\n",
    "            end_idx = start_idx + c\n",
    "            rmat.append(flatten[start_idx:end_idx])\n",
    "        return rmat\n",
    "\n",
    "    def matrixReshape(self, mat, r: int, c: int):\n",
    "        \"\"\"\n",
    "        built-in\n",
    "        Time:\n",
    "        Space:\n",
    "        Solve:\n",
    "        \"\"\"\n",
    "        flatten = sum(mat, [])\n",
    "        if len(flatten) != r * c:\n",
    "            return mat\n",
    "        return list(map(list, zip(*([iter(flatten)] * c))))\n",
    "\n",
    "Testing().test(Solution().matrixReshape([[1,2],[3,4]], 1, 4), [[1,2,3,4]])\n",
    "Testing().test(Solution().matrixReshape([[1,2],[3,4]], 2, 4), [[1,2],[3,4]])"
   ],
   "metadata": {
    "collapsed": false,
    "pycharm": {
     "name": "#%%\n"
    }
   }
  },
  {
   "cell_type": "code",
   "execution_count": 83,
   "outputs": [],
   "source": [
    "# Pascal's Triangle (Easy)\n",
    "\n",
    "class Solution:\n",
    "    def generate(self, numRows: int):\n",
    "        \"\"\"\n",
    "        Time:\n",
    "        Space:\n",
    "        Solve:\n",
    "        \"\"\"\n",
    "        pascal = []\n",
    "        for row_idx in range(numRows):\n",
    "            row = [None for _ in range(row_idx + 1)]\n",
    "            row[0] = row[-1] = 1\n",
    "\n",
    "            for i in range(1, len(row)-1):\n",
    "                row[i] = pascal[row_idx-1][i-1] + pascal[row_idx-1][i]\n",
    "            pascal.append(row)\n",
    "        return pascal\n",
    "\n",
    "Testing().test(Solution().generate(5), [[1],[1,1],[1,2,1],[1,3,3,1],[1,4,6,4,1]])\n",
    "Testing().test(Solution().generate(1), [[1]])"
   ],
   "metadata": {
    "collapsed": false,
    "pycharm": {
     "name": "#%%\n"
    }
   }
  },
  {
   "cell_type": "markdown",
   "source": [
    "### Day 5 Array"
   ],
   "metadata": {
    "collapsed": false,
    "pycharm": {
     "name": "#%% md\n"
    }
   }
  },
  {
   "cell_type": "code",
   "execution_count": 10,
   "outputs": [],
   "source": [
    "# Valid Sudoku (Medium)\n",
    "\n",
    "class Solution:\n",
    "    def isValidSudoku(self, board) -> bool:\n",
    "        \"\"\"\n",
    "        Time:\n",
    "        Space:\n",
    "        Solve:\n",
    "        \"\"\"\n",
    "        self.board = board\n",
    "        if self.checkrows() and self.checkcols() and self.checkbox():\n",
    "            return True\n",
    "        return False\n",
    "\n",
    "    def valid(self, group):\n",
    "        digits = [d for d in group if d != \".\"]\n",
    "        return len(set(digits)) == len(digits)\n",
    "\n",
    "    def checkrows(self):\n",
    "        for row in self.board:\n",
    "            if not self.valid(row):\n",
    "                return False\n",
    "        return True\n",
    "\n",
    "    def checkcols(self):\n",
    "        for col in zip(*self.board):\n",
    "            if not self.valid(col):\n",
    "                return False\n",
    "        return True\n",
    "\n",
    "    def checkbox(self):\n",
    "        for i in [0, 3, 6]:\n",
    "            for j in [0, 3, 6]:\n",
    "                group = [self.board[x][y] for x in range(i, i+3) for y in range(j, j+3)]\n",
    "                if not self.valid(group):\n",
    "                    return False\n",
    "        return True\n",
    "\n",
    "\n",
    "board = [[\"5\",\"3\",\".\",\".\",\"7\",\".\",\".\",\".\",\".\"]\n",
    "        ,[\"6\",\".\",\".\",\"1\",\"9\",\"5\",\".\",\".\",\".\"]\n",
    "        ,[\".\",\"9\",\"8\",\".\",\".\",\".\",\".\",\"6\",\".\"]\n",
    "        ,[\"8\",\".\",\".\",\".\",\"6\",\".\",\".\",\".\",\"3\"]\n",
    "        ,[\"4\",\".\",\".\",\"8\",\".\",\"3\",\".\",\".\",\"1\"]\n",
    "        ,[\"7\",\".\",\".\",\".\",\"2\",\".\",\".\",\".\",\"6\"]\n",
    "        ,[\".\",\"6\",\".\",\".\",\".\",\".\",\"2\",\"8\",\".\"]\n",
    "        ,[\".\",\".\",\".\",\"4\",\"1\",\"9\",\".\",\".\",\"5\"]\n",
    "        ,[\".\",\".\",\".\",\".\",\"8\",\".\",\".\",\"7\",\"9\"]]\n",
    "\n",
    "Testing().test(Solution().isValidSudoku(board), True)"
   ],
   "metadata": {
    "collapsed": false,
    "pycharm": {
     "name": "#%%\n"
    }
   }
  },
  {
   "cell_type": "code",
   "execution_count": 25,
   "outputs": [],
   "source": [
    "# Search a 2D Matrix (Medium)\n",
    "import bisect\n",
    "\n",
    "class Solution:\n",
    "    def searchMatrix(self, matrix, target: int) -> bool:\n",
    "        \"\"\"\n",
    "        Time: O(log(mn)) binary search\n",
    "        Space: O(1)\n",
    "        Solve: 5m\n",
    "        \"\"\"\n",
    "        flatten = sum(matrix, [])\n",
    "        idx = bisect.bisect_left(flatten, target)\n",
    "        if idx > len(flatten) - 1:\n",
    "            return False\n",
    "        return flatten[idx] == target\n",
    "\n",
    "Testing().test(Solution().searchMatrix([[1,3,5,7],[10,11,16,20],[23,30,34,60]], 3), True)\n",
    "Testing().test(Solution().searchMatrix([[1,3,5,7],[10,11,16,20],[23,30,34,60]], 13), False)\n",
    "Testing().test(Solution().searchMatrix([[1]], 2), False)"
   ],
   "metadata": {
    "collapsed": false,
    "pycharm": {
     "name": "#%%\n"
    }
   }
  },
  {
   "cell_type": "markdown",
   "source": [
    "### Day 6 String"
   ],
   "metadata": {
    "collapsed": false,
    "pycharm": {
     "name": "#%% md\n"
    }
   }
  },
  {
   "cell_type": "code",
   "execution_count": 33,
   "outputs": [],
   "source": [
    "# First Unique Character in a String (Easy)\n",
    "from collections import deque\n",
    "\n",
    "class Solution:\n",
    "    def firstUniqChar(self, s: str) -> int:\n",
    "        \"\"\"\n",
    "        Time: O(N)\n",
    "        Space: O(N)\n",
    "        Solve:36m\n",
    "        \"\"\"\n",
    "        q = deque()\n",
    "        idx = {}\n",
    "        for i, char in enumerate(s):\n",
    "            if char not in idx:\n",
    "                q.append(char)\n",
    "                idx[char] = i\n",
    "            elif char in q:\n",
    "                q.remove(char)\n",
    "        return idx[q.popleft()] if q else -1\n",
    "\n",
    "    def firstUniqChar(self, s: str) -> int:\n",
    "        \"\"\"\n",
    "        Time: O(N)\n",
    "        Space: O(N)\n",
    "        Solve: Best Solution\n",
    "        \"\"\"\n",
    "        idx = {}\n",
    "        seen = set()\n",
    "        for i, char in enumerate(s):\n",
    "            if char not in seen:\n",
    "                idx[char] = i\n",
    "                seen.add(char)\n",
    "            elif char in idx:\n",
    "                del idx[char]\n",
    "        return next(iter(idx.values())) if idx else -1\n",
    "\n",
    "Testing().test(Solution().firstUniqChar(\"leetcode\"), 0)\n",
    "Testing().test(Solution().firstUniqChar(\"loveleetcode\"), 2)\n",
    "Testing().test(Solution().firstUniqChar(\"aabb\"), -1)\n",
    "Testing().test(Solution().firstUniqChar(\"aadadaad\"), -1)"
   ],
   "metadata": {
    "collapsed": false,
    "pycharm": {
     "name": "#%%\n"
    }
   }
  },
  {
   "cell_type": "code",
   "execution_count": 40,
   "outputs": [],
   "source": [
    "# Ransom Note (Easy)\n",
    "from collections import Counter\n",
    "\n",
    "class Solution:\n",
    "    def canConstruct(self, ransomNote: str, magazine: str) -> bool:\n",
    "        \"\"\"\n",
    "        Time: O(N)\n",
    "        Space: O(N)\n",
    "        Solve: 10M\n",
    "        \"\"\"\n",
    "        random_count = Counter(ransomNote)\n",
    "        magazine_count = Counter(magazine)\n",
    "        for char, amt_req in random_count.items():\n",
    "            if char not in magazine_count or magazine_count[char] < amt_req:\n",
    "                return False\n",
    "        return True\n",
    "\n",
    "Testing().test(Solution().canConstruct(\"a\", \"b\"), False)\n",
    "Testing().test(Solution().canConstruct(\"aa\", \"ab\"), False)\n",
    "Testing().test(Solution().canConstruct(\"aa\", \"aab\"), True)"
   ],
   "metadata": {
    "collapsed": false,
    "pycharm": {
     "name": "#%%\n"
    }
   }
  },
  {
   "cell_type": "code",
   "execution_count": 42,
   "outputs": [],
   "source": [
    "# Valid Anagram (Easy)\n",
    "\n",
    "class Solution:\n",
    "    def isAnagram(self, s: str, t: str) -> bool:\n",
    "        \"\"\"\n",
    "        Time: O(N)\n",
    "        Space: O(N)\n",
    "        Solve: 3M\n",
    "        \"\"\"\n",
    "        return self.convertSignature(s) == self.convertSignature(t)\n",
    "\n",
    "    def convertSignature(self, str):\n",
    "        return ''.join(sorted(str))\n",
    "\n",
    "Testing().test(Solution().isAnagram(\"anagram\", \"nagaram\"), True)\n",
    "Testing().test(Solution().isAnagram(\"rat\", \"car\"), False)"
   ],
   "metadata": {
    "collapsed": false,
    "pycharm": {
     "name": "#%%\n"
    }
   }
  },
  {
   "cell_type": "markdown",
   "source": [],
   "metadata": {
    "collapsed": false,
    "pycharm": {
     "name": "#%% md\n"
    }
   }
  },
  {
   "cell_type": "markdown",
   "source": [
    "### Day 7 Linked List"
   ],
   "metadata": {
    "collapsed": false,
    "pycharm": {
     "name": "#%% md\n"
    }
   }
  },
  {
   "cell_type": "code",
   "execution_count": 11,
   "outputs": [
    {
     "name": "stdout",
     "output_type": "stream",
     "text": [
      "False\n"
     ]
    }
   ],
   "source": [
    "# Linked List Cycle (Easy)\n",
    "\n",
    "# Definition for singly-linked list.\n",
    "class ListNode:\n",
    "    def __init__(self, x):\n",
    "        self.val = x\n",
    "        self.next = next\n",
    "\n",
    "class Solution:\n",
    "    def hasCycle(self, head) -> bool:\n",
    "        \"\"\"\n",
    "        Time: O(N)\n",
    "        Space: O(1)\n",
    "        Solve: 18M\n",
    "        \"\"\"\n",
    "        slow = fast = head\n",
    "        if not fast:\n",
    "            return False\n",
    "        while fast.next and fast.next.next:\n",
    "            slow = slow.next\n",
    "            fast = fast.next.next\n",
    "            if slow == fast:\n",
    "                return True\n",
    "        return False"
   ],
   "metadata": {
    "collapsed": false,
    "pycharm": {
     "name": "#%%\n"
    }
   }
  },
  {
   "cell_type": "code",
   "execution_count": 11,
   "outputs": [],
   "source": [
    "# Merge Two Sorted Lists (Easy)\n",
    "\n",
    "# Definition for singly-linked list.\n",
    "class ListNode:\n",
    "    def __init__(self, val=0, next=None):\n",
    "        self.val = val\n",
    "        self.next = next\n",
    "\n",
    "class Solution:\n",
    "    def mergeTwoLists(self, list1, list2):\n",
    "        \"\"\"\n",
    "        Time: O(N)\n",
    "        Space: O(1)\n",
    "        Solve: 15m\n",
    "        \"\"\"\n",
    "        head = ListNode()\n",
    "        prev = head\n",
    "        while list1 and list2:\n",
    "            if list1.val <= list2.val:\n",
    "                prev.next = list1\n",
    "                list1 = list1.next\n",
    "            else:\n",
    "                prev.next = list2\n",
    "                list2 = list2.next\n",
    "            prev = prev.next\n",
    "        prev.next = list1 if list1 is not None else list2\n",
    "        return head.next\n"
   ],
   "metadata": {
    "collapsed": false,
    "pycharm": {
     "name": "#%%\n"
    }
   }
  },
  {
   "cell_type": "code",
   "execution_count": 13,
   "outputs": [],
   "source": [
    "# Remove Linked List Elements (Easy)\n",
    "\n",
    "# Definition for singly-linked list.\n",
    "class ListNode:\n",
    "    def __init__(self, val=0, next=None):\n",
    "        self.val = val\n",
    "        self.next = next\n",
    "\n",
    "class Solution:\n",
    "    def removeElements(self, head, val: int):\n",
    "        \"\"\"\n",
    "        Time: O(N)\n",
    "        Space: O(1)\n",
    "        Solve: 18M\n",
    "        \"\"\"\n",
    "        anchor = ListNode()\n",
    "        anchor.next = head\n",
    "        prev, curr = anchor, head\n",
    "        while curr:\n",
    "            if curr.val == val:\n",
    "                prev.next = curr.next\n",
    "            else:\n",
    "                prev = curr\n",
    "            curr = curr.next\n",
    "        return anchor.next"
   ],
   "metadata": {
    "collapsed": false,
    "pycharm": {
     "name": "#%%\n"
    }
   }
  },
  {
   "cell_type": "markdown",
   "source": [
    "### Day 8 Linked List"
   ],
   "metadata": {
    "collapsed": false,
    "pycharm": {
     "name": "#%% md\n"
    }
   }
  },
  {
   "cell_type": "code",
   "execution_count": null,
   "outputs": [],
   "source": [
    "# Reverse Linked List (Easy)\n",
    "\n",
    "# Definition for singly-linked list.\n",
    "class ListNode:\n",
    "    def __init__(self, val=0, next=None):\n",
    "        self.val = val\n",
    "        self.next = next\n",
    "\n",
    "class Solution:\n",
    "    def reverseList(self, head):\n",
    "        \"\"\"\n",
    "        Time: O(N)\n",
    "        Space: O(1)\n",
    "        Solve:\n",
    "        \"\"\"\n",
    "        cur = head\n",
    "        prev = None\n",
    "        while cur:\n",
    "            nextNode = cur.next\n",
    "            cur.next = prev\n",
    "            prev = cur\n",
    "            cur = nextNode\n",
    "        return prev"
   ],
   "metadata": {
    "collapsed": false,
    "pycharm": {
     "name": "#%%\n"
    }
   }
  },
  {
   "cell_type": "code",
   "execution_count": 14,
   "outputs": [
    {
     "name": "stdout",
     "output_type": "stream",
     "text": [
      "20 20\n"
     ]
    }
   ],
   "source": [
    "# Remove Duplicates from Sorted List (Easy)\n",
    "\n",
    "# Definition for singly-linked list.\n",
    "class ListNode:\n",
    "    def __init__(self, val=0, next=None):\n",
    "        self.val = val\n",
    "        self.next = next\n",
    "\n",
    "class Solution:\n",
    "    def deleteDuplicates(self, head):\n",
    "        \"\"\"\n",
    "        Time: O(N)\n",
    "        Space: o(1)\n",
    "        Solve:\n",
    "        \"\"\"\n",
    "        cur = head\n",
    "        while cur and cur.next:\n",
    "            if cur.val == cur.next.val:\n",
    "                cur.next = cur.next.next\n",
    "            else:\n",
    "                cur = cur.next\n",
    "        return head"
   ],
   "metadata": {
    "collapsed": false,
    "pycharm": {
     "name": "#%%\n"
    }
   }
  },
  {
   "cell_type": "markdown",
   "source": [
    "### Day 9 Stack / Queue"
   ],
   "metadata": {
    "collapsed": false,
    "pycharm": {
     "name": "#%% md\n"
    }
   }
  },
  {
   "cell_type": "code",
   "execution_count": 24,
   "outputs": [],
   "source": [
    "# Valid Parentheses (Easy)\n",
    "\n",
    "class Solution:\n",
    "    def isValid(self, s: str) -> bool:\n",
    "        \"\"\"\n",
    "        Time: O(N)\n",
    "        Space: O(1)\n",
    "        Solve: 43m (Best Solution)\n",
    "        \"\"\"\n",
    "        stack = []\n",
    "        key = {'(': ')',\n",
    "               '[': ']',\n",
    "               '{': '}'}\n",
    "        for char in s:\n",
    "            if char in \"([{\":\n",
    "                stack.append(key[char])\n",
    "            elif stack:\n",
    "                close = stack.pop()\n",
    "                if close != char:\n",
    "                    return False\n",
    "            else:\n",
    "                return False\n",
    "        return not stack\n",
    "\n",
    "Testing().test(Solution().isValid(\"()\"), True)\n",
    "Testing().test(Solution().isValid(\"()[]{}\"), True)\n",
    "Testing().test(Solution().isValid(\"(]\"), False)\n",
    "Testing().test(Solution().isValid(\"([)]\"), False)"
   ],
   "metadata": {
    "collapsed": false,
    "pycharm": {
     "name": "#%%\n"
    }
   }
  },
  {
   "cell_type": "code",
   "execution_count": null,
   "outputs": [],
   "source": [
    "# Implement Queue using Stacks (Easy)\n",
    "\n",
    "class MyQueue:\n",
    "    \"\"\"\n",
    "    Time: O(1)\n",
    "    Space: O(N)\n",
    "    Solve: 8m\n",
    "    \"\"\"\n",
    "    def __init__(self):\n",
    "        self.stack = []\n",
    "\n",
    "    def push(self, x: int) -> None:\n",
    "        self.stack.append(x)\n",
    "\n",
    "    def pop(self) -> int:\n",
    "        return self.stack.pop(0)\n",
    "\n",
    "    def peek(self) -> int:\n",
    "        return self.stack[0]\n",
    "\n",
    "    def empty(self) -> bool:\n",
    "        return not self.stack\n",
    "\n",
    "\n",
    "# Your MyQueue object will be instantiated and called as such:\n",
    "# obj = MyQueue()\n",
    "# obj.push(x)\n",
    "# param_2 = obj.pop()\n",
    "# param_3 = obj.peek()\n",
    "# param_4 = obj.empty()"
   ],
   "metadata": {
    "collapsed": false,
    "pycharm": {
     "name": "#%%\n"
    }
   }
  },
  {
   "cell_type": "markdown",
   "source": [
    "### Day 10 Tree"
   ],
   "metadata": {
    "collapsed": false,
    "pycharm": {
     "name": "#%% md\n"
    }
   }
  },
  {
   "cell_type": "code",
   "execution_count": null,
   "outputs": [],
   "source": [
    "# Binary Tree Preorder Traversal (Easy)\n",
    "\n",
    "# Definition for a binary tree node.\n",
    "class TreeNode:\n",
    "    def __init__(self, val=0, left=None, right=None):\n",
    "        self.val = val\n",
    "        self.left = left\n",
    "        self.right = right\n",
    "\n",
    "class Solution:\n",
    "    def preorderTraversal(self, root):\n",
    "        \"\"\"\n",
    "        Time:\n",
    "        Space:\n",
    "        Solve: 9M (best solution)\n",
    "        \"\"\"\n",
    "        if not root:\n",
    "            return []\n",
    "        return [root.val] + self.preorderTraversal(root.left) + self.preorderTraversal(root.right)\n"
   ],
   "metadata": {
    "collapsed": false,
    "pycharm": {
     "name": "#%%\n"
    }
   }
  },
  {
   "cell_type": "code",
   "execution_count": null,
   "outputs": [],
   "source": [
    "# Binary Tree Inorder Traversal (Easy)\n",
    "\n",
    "# Definition for a binary tree node.\n",
    "class TreeNode:\n",
    "    def __init__(self, val=0, left=None, right=None):\n",
    "        self.val = val\n",
    "        self.left = left\n",
    "        self.right = right\n",
    "\n",
    "class Solution:\n",
    "    def inorderTraversal(self, root):\n",
    "        \"\"\"\n",
    "        Time:\n",
    "        Space:\n",
    "        Solve: 5M\n",
    "        \"\"\"\n",
    "        if not root:\n",
    "            return []\n",
    "        return self.inorderTraversal(root.left) + [root.val] + self.inorderTraversal(root.right)"
   ],
   "metadata": {
    "collapsed": false,
    "pycharm": {
     "name": "#%%\n"
    }
   }
  },
  {
   "cell_type": "code",
   "execution_count": null,
   "outputs": [],
   "source": [
    "# Binary Tree Postorder Traversal (Easy)\n",
    "\n",
    "# Definition for a binary tree node.\n",
    "class TreeNode:\n",
    "    def __init__(self, val=0, left=None, right=None):\n",
    "        self.val = val\n",
    "        self.left = left\n",
    "        self.right = right\n",
    "\n",
    "class Solution:\n",
    "    \"\"\"\n",
    "    Solve: 2M\n",
    "    \"\"\"\n",
    "    def postorderTraversal(self, root):\n",
    "        if not root:\n",
    "            return []\n",
    "        return self.postorderTraversal(root.left) + self.postorderTraversal(root.right) + [root.val]"
   ],
   "metadata": {
    "collapsed": false,
    "pycharm": {
     "name": "#%%\n"
    }
   }
  },
  {
   "cell_type": "code",
   "execution_count": null,
   "outputs": [],
   "source": [],
   "metadata": {
    "collapsed": false,
    "pycharm": {
     "name": "#%%\n"
    }
   }
  }
 ],
 "metadata": {
  "kernelspec": {
   "display_name": "Python 3",
   "language": "python",
   "name": "python3"
  },
  "language_info": {
   "codemirror_mode": {
    "name": "ipython",
    "version": 2
   },
   "file_extension": ".py",
   "mimetype": "text/x-python",
   "name": "python",
   "nbconvert_exporter": "python",
   "pygments_lexer": "ipython2",
   "version": "2.7.6"
  }
 },
 "nbformat": 4,
 "nbformat_minor": 0
}