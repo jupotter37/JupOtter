{
 "cells": [
  {
   "cell_type": "markdown",
   "id": "81eae28e",
   "metadata": {},
   "source": [
    "<a id=\"0\"></a> <br>\n",
    " # Table of Contents  \n",
    "1. [Binary Search](#1)     \n",
    "1. [235. Lowest Common Ancestor of a Binary Search Tree](#235) \n",
    "1. [110. Balanced Binary Tree](#110)"
   ]
  },
  {
   "cell_type": "markdown",
   "id": "ac0caded-fb35-4ba2-926b-4800ecd03580",
   "metadata": {
    "jp-MarkdownHeadingCollapsed": true
   },
   "source": [
    "# 1. Trees"
   ]
  },
  {
   "cell_type": "markdown",
   "id": "e22214af-75de-4f61-8bc4-0c584d534e33",
   "metadata": {},
   "source": [
    "## Defining a Node of a tree\n",
    "The node of a tree can be defined as a class with value and two empty pointers for right and left subtrees"
   ]
  },
  {
   "cell_type": "code",
   "execution_count": 1,
   "id": "19713f39-35d4-4175-8406-c5035965b77b",
   "metadata": {},
   "outputs": [],
   "source": [
    "class Node:\n",
    "    def __init__(self, val):\n",
    "        self.val = val\n",
    "        self.left = None\n",
    "        self.right = None"
   ]
  },
  {
   "cell_type": "markdown",
   "id": "9f7ad8f9-0524-468c-9d9d-806db17115bd",
   "metadata": {},
   "source": [
    "## Array representation of a tree\n",
    "\n",
    "All elements in a full binary tree can be represented as an array. Where the relation between the nodes can be determined through the indices as follows\n",
    "- Parent(i) = i//2\n",
    "- leftChild(i) = 2*i + 1\n",
    "- rightChild(i) = 2*i + 2\n"
   ]
  },
  {
   "cell_type": "code",
   "execution_count": 2,
   "id": "0a3a0272-c15f-454b-a8ff-539c49d9ae6f",
   "metadata": {},
   "outputs": [],
   "source": [
    "# Let us create a tree from an array\n",
    "\n",
    "class Tree:\n",
    "    def __init__(self):\n",
    "        root = None\n",
    "    def getLeftChild(self, i):\n",
    "        return 2*i + 1\n",
    "    def getRightChild(self, i):\n",
    "        return 2*i + 2\n",
    "    def createTree(self, treeArr):\n",
    "        N = len(treeArr)\n",
    "        if N == 0:\n",
    "            return None\n",
    "        self.root = Node(treeArr[0])\n",
    "        self.populate(self.root, treeArr, 0)\n",
    "\n",
    "    def populate(self, root, treeArr, i):\n",
    "        N = len(treeArr)\n",
    "        if root is None:\n",
    "            return\n",
    "        leftIdx = self.getLeftChild(i)\n",
    "        rightIdx = self.getRightChild(i)\n",
    "        root.left = Node(treeArr[leftIdx]) if leftIdx<N else None\n",
    "        root.right = Node(treeArr[rightIdx]) if rightIdx<N else None\n",
    "        self.populate(root.left, treeArr, leftIdx)\n",
    "        self.populate(root.right, treeArr, rightIdx)\n",
    "\n"
   ]
  },
  {
   "cell_type": "code",
   "execution_count": 3,
   "id": "02ed9849-729b-4c91-a68b-e0d474770ee5",
   "metadata": {},
   "outputs": [
    {
     "name": "stdout",
     "output_type": "stream",
     "text": [
      "<__main__.Node object at 0x000001976F73D190>\n"
     ]
    }
   ],
   "source": [
    "tree = Tree()\n",
    "tree.createTree([1,2,3,4,5,6,7])\n",
    "print(tree.root)"
   ]
  },
  {
   "cell_type": "markdown",
   "id": "5c8af659-3ba2-4283-915f-335511abf086",
   "metadata": {},
   "source": [
    "## Depth first traversals of tree\n",
    "\n",
    "A tree can be traversed in three ways to accomplish depth first traversals.\n",
    "1. Inorder Traversal\n",
    "2. PreOrder Traversal\n",
    "3. PostOrder Traversal"
   ]
  },
  {
   "cell_type": "code",
   "execution_count": 43,
   "id": "746a1cee-856f-4fd3-9025-f9b4074af1cf",
   "metadata": {},
   "outputs": [
    {
     "name": "stdout",
     "output_type": "stream",
     "text": [
      "4\n",
      "2\n",
      "5\n",
      "1\n",
      "6\n",
      "3\n",
      "7\n"
     ]
    }
   ],
   "source": [
    "def inorderTraversal(root):\n",
    "    if root is None:\n",
    "        return \n",
    "    inorderTraversal(root.left)\n",
    "    print(root.val)\n",
    "    inorderTraversal(root.right)\n",
    "\n",
    "\n",
    "inorderTraversal(tree.root)"
   ]
  },
  {
   "cell_type": "code",
   "execution_count": 44,
   "id": "30aa05d0-f472-4396-a3ac-1165cde63a63",
   "metadata": {},
   "outputs": [
    {
     "name": "stdout",
     "output_type": "stream",
     "text": [
      "1\n",
      "2\n",
      "4\n",
      "5\n",
      "3\n",
      "6\n",
      "7\n"
     ]
    }
   ],
   "source": [
    "def preOrderTraversal(root):\n",
    "    if root is None:\n",
    "        return \n",
    "    print(root.val)\n",
    "    preOrderTraversal(root.left)\n",
    "    preOrderTraversal(root.right)\n",
    "\n",
    "preOrderTraversal(tree.root)"
   ]
  },
  {
   "cell_type": "code",
   "execution_count": 45,
   "id": "c3ff6b27-6bbb-45f5-91a3-09536339cc20",
   "metadata": {},
   "outputs": [
    {
     "name": "stdout",
     "output_type": "stream",
     "text": [
      "4\n",
      "5\n",
      "2\n",
      "6\n",
      "7\n",
      "3\n",
      "1\n"
     ]
    }
   ],
   "source": [
    "def postOrderTraversal(root):\n",
    "    if root is None:\n",
    "        return \n",
    "    postOrderTraversal(root.left)\n",
    "    postOrderTraversal(root.right)\n",
    "    print(root.val)\n",
    "\n",
    "postOrderTraversal(tree.root)"
   ]
  },
  {
   "cell_type": "markdown",
   "id": "545ec31e-75ae-4380-9ed7-a54579a7a812",
   "metadata": {
    "jp-MarkdownHeadingCollapsed": true
   },
   "source": [
    "# Delete an element from binary tree\n",
    "\n",
    "This can be achieved by first finding the last node in the binary tree in level order traversal. Then finding the node with the said elements an replacing with one another.\n",
    "Time complexity - O(N)\n",
    "Space complexity - O(N)"
   ]
  },
  {
   "cell_type": "code",
   "execution_count": 31,
   "id": "20965768-dca5-46ec-8da2-40467baf12e8",
   "metadata": {},
   "outputs": [],
   "source": [
    "from collections import deque\n",
    "\n",
    "class Node:\n",
    "    def __init__(self, val):\n",
    "        self.val = val\n",
    "        self.left = None\n",
    "        self.right = None\n",
    "\n",
    "class Tree:\n",
    "    def __init__(self):\n",
    "        self.root = None\n",
    "\n",
    "    def createTree(self):\n",
    "        self.root = Node(1)\n",
    "        self.root.left = Node(2)\n",
    "        self.root.right = Node(3)\n",
    "        self.root.left.left = Node(4)\n",
    "        self.root.left.right = Node(5)\n",
    "\n",
    "    def printTree(self, node):\n",
    "        if node:\n",
    "            print(node.val)\n",
    "            self.printTree(node.left)\n",
    "            self.printTree(node.right)\n",
    "\n",
    "    def deleteNode(self, root, node):\n",
    "        if root:\n",
    "            if root.left == node:\n",
    "                del node\n",
    "                root.left = None\n",
    "            elif root.right == node:\n",
    "                del node\n",
    "                root.right = None\n",
    "            else:\n",
    "                self.deleteNode(root.left, node)\n",
    "                self.deleteNode(root.right, node)\n",
    "            \n",
    "tree = Tree()\n",
    "tree.createTree()\n",
    "\n",
    "def deleteElement(root, k):\n",
    "    if root:\n",
    "        Q = deque()\n",
    "        Q.append(root)\n",
    "        last = None\n",
    "        kNode = None\n",
    "        while(len(Q) > 0):\n",
    "            last = Q.popleft()\n",
    "            if last.val == k:\n",
    "                kNode = last\n",
    "            if last.left:\n",
    "                Q.append(last.left)\n",
    "            if last.right:\n",
    "                Q.append(last.right)\n",
    "        kNode.val = last.val\n",
    "        tree.deleteNode(root, last)\n",
    "        "
   ]
  },
  {
   "cell_type": "code",
   "execution_count": 32,
   "id": "e1bbfddd-fa3c-418c-9cba-7a9ef6ce1561",
   "metadata": {},
   "outputs": [
    {
     "name": "stdout",
     "output_type": "stream",
     "text": [
      "1\n",
      "2\n",
      "4\n",
      "5\n",
      "3\n"
     ]
    }
   ],
   "source": [
    "tree.printTree(tree.root)"
   ]
  },
  {
   "cell_type": "code",
   "execution_count": 33,
   "id": "c6a19917-5fa4-4a18-a21d-343d566d77dd",
   "metadata": {},
   "outputs": [],
   "source": [
    "deleteElement(tree.root, 4)"
   ]
  },
  {
   "cell_type": "code",
   "execution_count": 34,
   "id": "240923d6-6a7b-4af0-9b44-da3235845daf",
   "metadata": {},
   "outputs": [
    {
     "name": "stdout",
     "output_type": "stream",
     "text": [
      "1\n",
      "2\n",
      "5\n",
      "3\n"
     ]
    }
   ],
   "source": [
    "tree.printTree(tree.root)"
   ]
  },
  {
   "cell_type": "markdown",
   "id": "c37a4740-82f4-422c-a341-aa88420f60c7",
   "metadata": {
    "jp-MarkdownHeadingCollapsed": true
   },
   "source": [
    "# Number of leaves in binary tree without recursion\n",
    "\n",
    "We can do a level order traversal using a queue. And return the count of nodes where they didn't have any of the right or left children. \n",
    "Time complecxity - O(N)\n",
    "Space complexity - O(N)"
   ]
  },
  {
   "cell_type": "code",
   "execution_count": 37,
   "id": "22422aee-dd35-4a72-8628-6c4886209ff1",
   "metadata": {},
   "outputs": [
    {
     "name": "stdout",
     "output_type": "stream",
     "text": [
      "3\n"
     ]
    }
   ],
   "source": [
    "from collections import deque \n",
    "\n",
    "tree = Tree()\n",
    "tree.createTree()\n",
    "\n",
    "def numLeaves(root):\n",
    "    if root:\n",
    "        Q =  deque()\n",
    "        Q.append(root)\n",
    "        leafCount = 0\n",
    "        while(len(Q) > 0):\n",
    "            front = Q.popleft()\n",
    "            if not front.left and not front.right:\n",
    "                leafCount += 1\n",
    "            if front.left:\n",
    "                Q.append(front.left)\n",
    "            if front.right:\n",
    "                Q.append(front.right)\n",
    "        return leafCount\n",
    "\n",
    "print(numLeaves(tree.root))"
   ]
  },
  {
   "cell_type": "markdown",
   "id": "9c99e6e1-fb84-417b-81b3-0021479c9b27",
   "metadata": {
    "jp-MarkdownHeadingCollapsed": true
   },
   "source": [
    "# Number of full nodes in the binary tree without recursion\n",
    "\n",
    "Full nodes are the nodes with both the right and left children present. We can find the num of full nodews by perfroming a level order traversal using a queue and counting the nodes with both the children present.\n",
    "\n",
    "Time complexity - O(N)\n",
    "Space complexity - O(N)"
   ]
  },
  {
   "cell_type": "code",
   "execution_count": 44,
   "id": "1ab56bfb-58f6-4065-b247-53d94aee56b2",
   "metadata": {},
   "outputs": [
    {
     "name": "stdout",
     "output_type": "stream",
     "text": [
      "1\n",
      "2\n",
      "4\n",
      "5\n",
      "3\n"
     ]
    }
   ],
   "source": [
    "class Node:\n",
    "    def __init__(self, val):\n",
    "        self.val = val\n",
    "        self.left = None\n",
    "        self.right = None\n",
    "\n",
    "class Tree:\n",
    "    def __int__(self):\n",
    "        self.root = None\n",
    "\n",
    "    def createTree(self):\n",
    "        N1 = Node(1)\n",
    "        N2 = Node(2)\n",
    "        N3 = Node(3)\n",
    "        N4 = Node(4)\n",
    "        N5 = Node(5)\n",
    "\n",
    "        self.root = N1\n",
    "        N1.left = N2\n",
    "        N1.right = N3\n",
    "        N2.left = N4\n",
    "        N2.right = N5\n",
    "\n",
    "    def printTree(self, root):\n",
    "        if root:\n",
    "            print(root.val)\n",
    "            self.printTree(root.left)\n",
    "            self.printTree(root.right)\n",
    "\n",
    "tree = Tree()\n",
    "tree.createTree()\n",
    "tree.printTree(tree.root)"
   ]
  },
  {
   "cell_type": "code",
   "execution_count": 49,
   "id": "82b524b0-b472-4bbe-a3a1-ba7bd22c8f2b",
   "metadata": {},
   "outputs": [],
   "source": [
    "from collections import deque\n",
    "def fullNodes(root):\n",
    "    if root:\n",
    "        Q = deque()\n",
    "        Q.append(root)\n",
    "        numFullNodes = 0\n",
    "        while(len(Q) > 0):\n",
    "            front = Q.popleft()\n",
    "            if front.right and front.left:\n",
    "                numFullNodes += 1\n",
    "            if front.left:\n",
    "                Q.append(front.left)\n",
    "            if front.right:\n",
    "                Q.append(front.right)\n",
    "        return numFullNodes\n",
    "    else:\n",
    "        0"
   ]
  },
  {
   "cell_type": "code",
   "execution_count": 50,
   "id": "28b81214-9fd9-4bfd-bda8-ed123f770b94",
   "metadata": {},
   "outputs": [
    {
     "data": {
      "text/plain": [
       "2"
      ]
     },
     "execution_count": 50,
     "metadata": {},
     "output_type": "execute_result"
    }
   ],
   "source": [
    "fullNodes(tree.root)"
   ]
  },
  {
   "cell_type": "markdown",
   "id": "7a80f6d3-0f81-426d-9240-84ca33ba5b53",
   "metadata": {
    "jp-MarkdownHeadingCollapsed": true
   },
   "source": [
    "# Find if 2 binary trees are structurally identical\n",
    "\n",
    "This can be solved recursively by first checking if the roots of both the trees are same either null or non null. Then recursively check the same for left and right subtrees. \n",
    "\n",
    "Time complexity - O(N)\n",
    "Space complexity - O(N)"
   ]
  },
  {
   "cell_type": "code",
   "execution_count": 51,
   "id": "70000497-43d4-4b39-a198-a6733ec18ca6",
   "metadata": {},
   "outputs": [],
   "source": [
    "def structureSimilarity(root1, root2):\n",
    "    if (not root1 and not root2):\n",
    "        return True\n",
    "    elif (not root1 and root2) or (root1 and not root2):\n",
    "        return False\n",
    "    else:\n",
    "        return structureSimilarity(root1.left, root2.left) and structureSimilarity(root1.right, root2.right)"
   ]
  },
  {
   "cell_type": "code",
   "execution_count": 52,
   "id": "6ccbe283-b010-4fd8-9bd5-c7785aef5cb6",
   "metadata": {},
   "outputs": [
    {
     "data": {
      "text/plain": [
       "True"
      ]
     },
     "execution_count": 52,
     "metadata": {},
     "output_type": "execute_result"
    }
   ],
   "source": [
    "tree1 = Tree()\n",
    "tree1.createTree()\n",
    "tree2 = Tree()\n",
    "tree2.createTree()\n",
    "\n",
    "structureSimilarity(tree1.root, tree2.root)"
   ]
  },
  {
   "cell_type": "code",
   "execution_count": 53,
   "id": "d4598840-51c8-443a-adff-13fd2c7b73ff",
   "metadata": {},
   "outputs": [
    {
     "data": {
      "text/plain": [
       "False"
      ]
     },
     "execution_count": 53,
     "metadata": {},
     "output_type": "execute_result"
    }
   ],
   "source": [
    "structureSimilarity(tree1.root, None)"
   ]
  },
  {
   "cell_type": "code",
   "execution_count": 54,
   "id": "639a713a-65fb-4f64-b02a-1452de5f160f",
   "metadata": {},
   "outputs": [
    {
     "data": {
      "text/plain": [
       "False"
      ]
     },
     "execution_count": 54,
     "metadata": {},
     "output_type": "execute_result"
    }
   ],
   "source": [
    "structureSimilarity(None, Node(3))"
   ]
  },
  {
   "cell_type": "code",
   "execution_count": 55,
   "id": "96c867d5-54a6-4c36-b461-24a69132b0c5",
   "metadata": {},
   "outputs": [
    {
     "data": {
      "text/plain": [
       "True"
      ]
     },
     "execution_count": 55,
     "metadata": {},
     "output_type": "execute_result"
    }
   ],
   "source": [
    "structureSimilarity(Node(1), Node(3))"
   ]
  },
  {
   "cell_type": "markdown",
   "id": "58ff2f67-1214-41a0-8c91-b70958fd1f1b",
   "metadata": {
    "jp-MarkdownHeadingCollapsed": true
   },
   "source": [
    "# Diameter of a tree\n",
    "\n",
    "- find max diameter of left subtree and right subtree and the summation of their lengths\n",
    "\n",
    "Time complexity - O(N), Space Complexity - O(N)"
   ]
  },
  {
   "cell_type": "code",
   "execution_count": 68,
   "id": "63ae5dbf-d475-42fd-907c-eabd92e1120f",
   "metadata": {},
   "outputs": [],
   "source": [
    "class Node:\n",
    "    def __init__(self, val):\n",
    "        self.val = val\n",
    "        self.left = None\n",
    "        self.right = None\n",
    "\n",
    "class Tree:\n",
    "    def __init__(self):\n",
    "        self.root = None\n",
    "\n",
    "    def createTree(self):\n",
    "        N1 = Node(1)\n",
    "        N2 = Node(2)\n",
    "        N3 = Node(3)\n",
    "        N4 = Node(4)\n",
    "        N5 = Node(5)\n",
    "        N6 = Node(6)\n",
    "\n",
    "        self.root = N1\n",
    "        N1.left = N2\n",
    "        N1.right = N3\n",
    "        N2.left = N4\n",
    "        N2.right = N5\n",
    "        N3.left = N6"
   ]
  },
  {
   "cell_type": "code",
   "execution_count": 69,
   "id": "956afaae-4518-42ab-93b2-f45120b989f4",
   "metadata": {},
   "outputs": [],
   "source": [
    "def diameter(root):\n",
    "    if root:\n",
    "        diaL, hL = diameter(root.left)\n",
    "        diaR, hR = diameter(root.right)\n",
    "        return max(diaL, diaR, hL+hR+1), max(hL, hR) + 1 \n",
    "    else:\n",
    "        return 0, 0"
   ]
  },
  {
   "cell_type": "code",
   "execution_count": 70,
   "id": "1dc2daf2-a62c-446f-afc3-df77dca0db38",
   "metadata": {},
   "outputs": [
    {
     "data": {
      "text/plain": [
       "(5, 3)"
      ]
     },
     "execution_count": 70,
     "metadata": {},
     "output_type": "execute_result"
    }
   ],
   "source": [
    "tree = Tree()\n",
    "tree.createTree()\n",
    "\n",
    "diameter(tree.root)"
   ]
  },
  {
   "cell_type": "markdown",
   "id": "c22a7811-418e-4370-b866-38c22d84ca0a",
   "metadata": {
    "jp-MarkdownHeadingCollapsed": true
   },
   "source": [
    "# Find the level with maximum sum in the binary tree\n",
    "\n",
    "- Use level order traversal\n",
    "- Keep Track of level changing\n",
    "    - count number of items to be processed in each level by counting children of last level\n",
    "    - Check the change of level in the same pass through items remaining to be processed in the given level\n",
    "- Sum through values in each level\n",
    "\n",
    "Time complexity - O(N)\n",
    "Space complexity - O(N)"
   ]
  },
  {
   "cell_type": "code",
   "execution_count": 92,
   "id": "ed3282b3-2944-44a7-b014-5c933704120a",
   "metadata": {},
   "outputs": [],
   "source": [
    "from collections import deque\n",
    "\n",
    "def maxSumLevel(root):\n",
    "    if root:\n",
    "        Q = deque()\n",
    "        Q.append(root)\n",
    "        curr = 1\n",
    "        next = 0\n",
    "        level = 1\n",
    "        levelSum = 0\n",
    "        maxSumLevel = 0\n",
    "        maxSum = 0\n",
    "        while(len(Q)>0):\n",
    "            # print(Q)\n",
    "            front = Q.popleft()\n",
    "            curr -= 1\n",
    "            levelSum = levelSum + front.val\n",
    "            if front.left:\n",
    "                Q.append(front.left)\n",
    "                next += 1\n",
    "            if front.right:\n",
    "                Q.append(front.right)\n",
    "                next += 1\n",
    "            if curr == 0:\n",
    "                # print(level, levelSum, maxSum, maxSumLevel)\n",
    "                if levelSum > maxSum:\n",
    "                    maxSumLevel = level\n",
    "                    maxSum = levelSum\n",
    "                levelSum = 0\n",
    "                level += 1\n",
    "                curr = next\n",
    "                next = 0\n",
    "        return maxSumLevel\n",
    "    else:\n",
    "        return 0"
   ]
  },
  {
   "cell_type": "code",
   "execution_count": 93,
   "id": "07677473-231d-4676-b9f5-fc9af1f298a3",
   "metadata": {},
   "outputs": [
    {
     "data": {
      "text/plain": [
       "3"
      ]
     },
     "execution_count": 93,
     "metadata": {},
     "output_type": "execute_result"
    }
   ],
   "source": [
    "maxSumLevel(tree.root)"
   ]
  },
  {
   "cell_type": "markdown",
   "id": "c471b9f8-acc5-4e89-a15b-a26f6698bee4",
   "metadata": {
    "jp-MarkdownHeadingCollapsed": true
   },
   "source": [
    "# Print all root to leaf paths\n",
    "\n",
    "Pass augmented strings from root to child nodes and print when he leaf node is arrived at"
   ]
  },
  {
   "cell_type": "code",
   "execution_count": 94,
   "id": "e916411f-079e-4e78-a73c-40c1eef8a43b",
   "metadata": {},
   "outputs": [],
   "source": [
    "class Node:\n",
    "    def __init__(self, val):\n",
    "        self.val = val\n",
    "        self.right = None\n",
    "        self.left = None\n",
    "\n",
    "class Tree:\n",
    "    def __init__(self):\n",
    "        self.root = None\n",
    "\n",
    "    def createTree(self):\n",
    "        N1 = Node(1)\n",
    "        N2 = Node(2)\n",
    "        N3 = Node(3)\n",
    "        N4 = Node(4)\n",
    "        N5 = Node(5)\n",
    "\n",
    "        self.root = N1\n",
    "        N1.left = N2\n",
    "        N1.right = N3\n",
    "        N2.left = N4\n",
    "        N2.right = N5"
   ]
  },
  {
   "cell_type": "code",
   "execution_count": 95,
   "id": "922da625-232d-4156-b7d0-97fa2b859d4e",
   "metadata": {},
   "outputs": [],
   "source": [
    "def rootToLeaf(root, augStr):\n",
    "    if root:\n",
    "        augStrCurr = augStr + str(root.val)\n",
    "        if not root.left and not root.right:\n",
    "            print(augStrCurr)\n",
    "        else:\n",
    "            rootToLeaf(root.left, augStrCurr)\n",
    "            rootToLeaf(root.right, augStrCurr)"
   ]
  },
  {
   "cell_type": "code",
   "execution_count": 99,
   "id": "af144124-b393-433d-90e3-f9a6fd294119",
   "metadata": {},
   "outputs": [
    {
     "name": "stdout",
     "output_type": "stream",
     "text": [
      "124\n",
      "125\n",
      "13\n"
     ]
    }
   ],
   "source": [
    "tree = Tree()\n",
    "tree.createTree()\n",
    "\n",
    "rootToLeaf(tree.root, \"\")"
   ]
  },
  {
   "cell_type": "markdown",
   "id": "05b903ca-6f85-46dd-a5db-d28f639e33a1",
   "metadata": {
    "jp-MarkdownHeadingCollapsed": true
   },
   "source": [
    "# All ancestors of a node in the binary tree\n",
    "\n",
    "We can track all the ancestors of the binary tree through recursion.\n",
    "\n",
    "Time complexity O(N)\n",
    "Space complexity O(N)"
   ]
  },
  {
   "cell_type": "code",
   "execution_count": 100,
   "id": "dc4b377e-b37f-4cee-b76d-6c909129d322",
   "metadata": {},
   "outputs": [],
   "source": [
    "def printAncestors(root, k):\n",
    "    if root:\n",
    "        if root.val == k:\n",
    "            return True\n",
    "        foundLeft = printAncestors(root.left, k)\n",
    "        foundRight = printAncestors(root.right, k)\n",
    "        if foundLeft or foundRight:\n",
    "            print(root.val)\n",
    "            return True\n",
    "    else:\n",
    "        False"
   ]
  },
  {
   "cell_type": "code",
   "execution_count": 101,
   "id": "cf8e34c3-ae67-44f4-8c79-9e684b73e321",
   "metadata": {},
   "outputs": [
    {
     "name": "stdout",
     "output_type": "stream",
     "text": [
      "2\n",
      "1\n"
     ]
    },
    {
     "data": {
      "text/plain": [
       "True"
      ]
     },
     "execution_count": 101,
     "metadata": {},
     "output_type": "execute_result"
    }
   ],
   "source": [
    "printAncestors(tree.root, 4)"
   ]
  },
  {
   "cell_type": "markdown",
   "id": "b191cda6-359e-43cd-a8a9-97c63a5b2156",
   "metadata": {
    "jp-MarkdownHeadingCollapsed": true
   },
   "source": [
    "# Least Common Ancestors of two nodes"
   ]
  },
  {
   "cell_type": "code",
   "execution_count": 108,
   "id": "828642b1-3004-4551-9ef0-2fa522ada15c",
   "metadata": {},
   "outputs": [],
   "source": [
    "def LCA(root, node1, node2):\n",
    "    if root:\n",
    "        if root.val == node1.val or root.val == node2.val:\n",
    "            return root\n",
    "        foundLeft = LCA(root.left, node1, node2)\n",
    "        foundRight = LCA(root.right, node1, node2)\n",
    "        if foundLeft and foundRight:\n",
    "            return root\n",
    "        elif foundLeft and not foundRight:\n",
    "            return foundLeft\n",
    "        elif foundRight and not foundLeft:\n",
    "            return foundRight\n",
    "    else:\n",
    "        return None"
   ]
  },
  {
   "cell_type": "code",
   "execution_count": 110,
   "id": "9876e515-c6f1-4070-bd0c-9562f866c563",
   "metadata": {},
   "outputs": [
    {
     "data": {
      "text/plain": [
       "2"
      ]
     },
     "execution_count": 110,
     "metadata": {},
     "output_type": "execute_result"
    }
   ],
   "source": [
    "LCA(tree.root, Node(4), Node(5))"
   ]
  },
  {
   "cell_type": "code",
   "execution_count": null,
   "id": "9ed961b7-6bc0-4543-a9b5-aa5aeb4dd482",
   "metadata": {},
   "outputs": [],
   "source": []
  },
  {
   "cell_type": "markdown",
   "id": "9d372009-d114-4629-a7a4-0d9f549e0e51",
   "metadata": {},
   "source": [
    "## Sorted double linked list from binary tree\n",
    "Using the same structure convert the tree to sorted doubly linkedlist in-place"
   ]
  },
  {
   "cell_type": "code",
   "execution_count": null,
   "id": "c139dd38-f672-43cb-beb3-0d239df48f01",
   "metadata": {},
   "outputs": [],
   "source": [
    "class Node:\n",
    "    def __init__(self, val)\n",
    "    self.value = val\n",
    "    self.left = None\n",
    "    self.right = None"
   ]
  },
  {
   "cell_type": "markdown",
   "id": "56664491-0220-4a09-9654-49b609a9f9a1",
   "metadata": {
    "jp-MarkdownHeadingCollapsed": true
   },
   "source": [
    "# 314. Binary Tree Vertical Order Traversal"
   ]
  },
  {
   "cell_type": "raw",
   "id": "13e6a4db-cbe4-4b70-af51-eb0c6e70f787",
   "metadata": {},
   "source": [
    "- We can assign a column number to everynode, then assign the colnum-1 to the left node and colnum+1 to right node (recursive - O(n))\n",
    "- estimate number of columns - max possible leaf nodes - depth of tree/levels of the tree (O(logn))\n",
    "- hash map -> add node val as per the col number (O(1))\n",
    "- print hash map in order (O(n))\n",
    "\n",
    "O(n)"
   ]
  },
  {
   "cell_type": "code",
   "execution_count": 24,
   "id": "12a0ac79-6b71-4165-9b45-3b87e5193bce",
   "metadata": {},
   "outputs": [
    {
     "data": {
      "text/plain": [
       "'\\nTest case\\n\\ntree = [2,1,3]\\n[[1], [2], [3]]\\n\\nnum_levels               root_col_number           col_hash                  vertical_order\\n2                             2                    2->[2], 1->[1], 3->[3]        [[1], [2], [3]] \\n'"
      ]
     },
     "execution_count": 24,
     "metadata": {},
     "output_type": "execute_result"
    }
   ],
   "source": [
    "class TreeNode:\n",
    "    def __init__(self, val):\n",
    "        self.val = val\n",
    "        self.left = None\n",
    "        self.right = None\n",
    "\n",
    "\n",
    "def getTreeLevels(root):\n",
    "    if root:\n",
    "        return max(getTreeLevels(root.left), getTreeLevels(root.right)) + 1\n",
    "    else:\n",
    "        return 0\n",
    "\n",
    "def colAssign(root, col_num, col_hash):\n",
    "    if root:\n",
    "        if col_num in col_hash:\n",
    "            col_hash[col_num].append(root.val)\n",
    "        else:\n",
    "            col_hash[col_num] = [root.val]\n",
    "        colAssign(root.left, col_num-1, col_hash)\n",
    "        colAssign(root.right, col_num+1, col_hash)\n",
    "\n",
    "def verticalOrder(root):\n",
    "    num_levels = getTreeLevels(root)\n",
    "\n",
    "    max_columns = 2 ** num_levels\n",
    "    root_col_number = max_columns // 2\n",
    "\n",
    "    col_hash = {}\n",
    "    colAssign(root, root_col_number, col_hash)\n",
    "        \n",
    "    vertical_order = []\n",
    "    for i in range(max_columns):\n",
    "        if i in col_hash:\n",
    "            col_vals = col_hash[i]\n",
    "            if len(col_vals) > 0:\n",
    "                vertical_order.append(col_vals)\n",
    "    return vertical_order\n",
    "\n",
    "\n",
    "'''\n",
    "Test case\n",
    "\n",
    "tree = [2,1,3]\n",
    "[[1], [2], [3]]\n",
    "\n",
    "num_levels               root_col_number           col_hash                  vertical_order\n",
    "2                             2                    2->[2], 1->[1], 3->[3]        [[1], [2], [3]] \n",
    "'''\n"
   ]
  },
  {
   "cell_type": "raw",
   "id": "d875b97d-9c9b-42f9-98c6-af001d59f8f8",
   "metadata": {},
   "source": [
    "The above solution actually does not take care of the top to bottom traversal. It can be done if we replace preorder traversal with level order traversal for the colAssign function."
   ]
  },
  {
   "cell_type": "code",
   "execution_count": 25,
   "id": "59ab8274-6118-431f-a50b-74b053942242",
   "metadata": {},
   "outputs": [
    {
     "data": {
      "text/plain": [
       "[[1], [2], [3]]"
      ]
     },
     "execution_count": 25,
     "metadata": {},
     "output_type": "execute_result"
    }
   ],
   "source": [
    "root = TreeNode(2)\n",
    "root.left = TreeNode(1)\n",
    "root.right = TreeNode(3)\n",
    "\n",
    "verticalOrder(root)"
   ]
  },
  {
   "cell_type": "code",
   "execution_count": null,
   "id": "e34ec3e3-d017-4545-aa98-daaffac96749",
   "metadata": {},
   "outputs": [],
   "source": [
    "import deque\n",
    "\n",
    "def colAssign(root, col_num, col_hash):\n",
    "    def addCol(root, col_num):\n",
    "        if col_num in col_hash:\n",
    "            col_hash[col_num].append(root.val)\n",
    "        else:\n",
    "            col_hash[col_num] = [root.val]\n",
    "            \n",
    "    Q = deque()\n",
    "    \n",
    "    Q.append([root, col_num])\n",
    "\n",
    "    while(root):\n",
    "        front = root.popLeft()\n",
    "        curr = front[0]\n",
    "        col_num_curr = front[1]\n",
    "        addCol:(curr, col_num_curr)\n",
    "        if left:\n",
    "            Q.append([curr.left, col_num_curr-1])\n",
    "        if right:\n",
    "            Q.append([curr.right, col_num_curr+1])\n",
    "    "
   ]
  },
  {
   "cell_type": "markdown",
   "id": "46cfb3b3-a464-441d-a683-50fd23d1c12d",
   "metadata": {
    "jp-MarkdownHeadingCollapsed": true
   },
   "source": [
    "# 1650. Lowest Common Ancestor of a Binary Tree III"
   ]
  },
  {
   "cell_type": "code",
   "execution_count": null,
   "id": "41385744-8956-4322-b3cc-1d7f05136187",
   "metadata": {},
   "outputs": [],
   "source": []
  },
  {
   "cell_type": "code",
   "execution_count": null,
   "id": "839d7f8b-8be8-4362-b7b8-5ee7cb8b4abf",
   "metadata": {},
   "outputs": [],
   "source": []
  },
  {
   "cell_type": "markdown",
   "id": "62f208d4-948e-44ec-b94a-6f38190e76cc",
   "metadata": {
    "jp-MarkdownHeadingCollapsed": true
   },
   "source": [
    "# 987. Vertical Order Traversal of a Binary Tree"
   ]
  },
  {
   "cell_type": "code",
   "execution_count": null,
   "id": "a03b74da-60c3-4b5d-8bdc-45defe0686a6",
   "metadata": {},
   "outputs": [],
   "source": [
    "class Solution:\n",
    "    def verticalTraversal(self, root: Optional[TreeNode]) -> List[List[int]]:\n",
    "        col_hash = {}\n",
    "\n",
    "        def createHashMap(root, row, col):\n",
    "            if root:\n",
    "                nonlocal col_hash\n",
    "                ##\n",
    "                if col not in col_hash:\n",
    "                    col_hash[col] = {row: [root.val]}\n",
    "                else:\n",
    "                    row_dict = col_hash[col]\n",
    "                    if row not in row_dict:\n",
    "                        row_dict[row] = [root.val]\n",
    "                    else:\n",
    "                        row_dict[row].append(root.val)\n",
    "\n",
    "                createHashMap(root.left, row+1, col-1)\n",
    "                createHashMap(root.right, row+1, col+1)\n",
    "            return\n",
    "        \n",
    "        createHashMap(root, 1, 0)\n",
    "\n",
    "        vertical_order = []\n",
    "        all_cols = col_hash.keys()\n",
    "        for idx in range(min(all_cols), max(all_cols)+1):\n",
    "            if idx in col_hash:\n",
    "                col_items = []\n",
    "                all_rows_dict = col_hash[idx]\n",
    "                all_rows = all_rows_dict.keys()\n",
    "                for ridx in range(min(all_rows), max(all_rows)+1):\n",
    "                    if ridx in all_rows:\n",
    "                        all_items = all_rows_dict[ridx]\n",
    "                        all_items.sort()\n",
    "                        col_items = col_items + all_items\n",
    "                vertical_order.append(col_items)\n",
    "        \n",
    "        return vertical_order"
   ]
  },
  {
   "cell_type": "code",
   "execution_count": null,
   "id": "2a67f0bf-b1ca-4f0d-91e7-41e9acaa2c0f",
   "metadata": {},
   "outputs": [],
   "source": []
  },
  {
   "cell_type": "code",
   "execution_count": null,
   "id": "e47346d3-5e0c-4c0c-bd90-53c0e75ea712",
   "metadata": {},
   "outputs": [],
   "source": []
  },
  {
   "cell_type": "markdown",
   "id": "a1879e83-efe3-41aa-a29a-def913a124f4",
   "metadata": {
    "jp-MarkdownHeadingCollapsed": true
   },
   "source": [
    "# 938. Range Sum of BST"
   ]
  },
  {
   "cell_type": "code",
   "execution_count": null,
   "id": "f181e5fb-4723-4ed0-9254-2b5a363a8fda",
   "metadata": {},
   "outputs": [],
   "source": [
    "'''\n",
    "low = \n",
    "high = \n",
    "\n",
    "Solution #1\n",
    "\n",
    "- Inorder traverse the treee\n",
    "  - process the num if it falls within the range, ignore otherwise\n",
    "\n",
    "O(N), O(N)\n",
    "\n",
    "'''\n",
    "\n",
    "def rangeSumBST(root, low, high):\n",
    "    range_sum = 0\n",
    "\n",
    "    def rangeSumHelper(root, low, high):\n",
    "        nonlocal range_sum\n",
    "        if root: \n",
    "            if root.val >= low and root.val <= high:\n",
    "                range_sum += root.val\n",
    "            rangeSumHelper(root.left, low, high)\n",
    "            rangeSumHelper(root.right, low, high)\n",
    "        return \n",
    "\n",
    "    rangeSumHelper(root, low, high)\n",
    "    return range_sum\n",
    "\n",
    "'''\n",
    "\n",
    "     10\n",
    "  /     \\\n",
    "  5    15\n",
    "/  \\     \\\n",
    "3  7      18\n",
    "\n",
    "range_sum         root        low         high\n",
    "32                            7           15\n",
    "\n",
    "'''                "
   ]
  },
  {
   "cell_type": "markdown",
   "id": "39423e9c-3a49-43c2-86ff-5d641122af6d",
   "metadata": {
    "jp-MarkdownHeadingCollapsed": true
   },
   "source": [
    "# 426. Convert Binary Search Tree to Sorted Doubly Linked List"
   ]
  },
  {
   "cell_type": "code",
   "execution_count": 1,
   "id": "deebd8fc-5318-41e5-a632-4d5430611b4b",
   "metadata": {},
   "outputs": [
    {
     "data": {
      "text/plain": [
       "'\\nTest #1\\n    2\\n  /    1   3\\n\\nfirst_node      last_node     root      curr_node\\n<-1-><-2-><-3->          3\\n'"
      ]
     },
     "execution_count": 1,
     "metadata": {},
     "output_type": "execute_result"
    }
   ],
   "source": [
    "'''\n",
    "- Input : Binary Search Tree, sort the tree\n",
    "    - Inorder traversal\n",
    "- Output : Doubly linked List \n",
    "    - circular\n",
    "    - inplace\n",
    "\n",
    "Solution #1\n",
    "- pointer to last node \n",
    "  - Inorder Traversal\n",
    "  - lastnode next to current\n",
    "  - curr node next to last node\n",
    "  - make curr as last node\n",
    "- Identify first and last node\n",
    "  - first - if last node doesn't point to anything yet\n",
    "  - last - when recursion exists the last node points to\n",
    "N - numnber of node\n",
    "O(N), O(N)\n",
    "'''\n",
    "\n",
    "class Node:\n",
    "    def __init__(self, val):\n",
    "        self.val = val\n",
    "        self.left = None\n",
    "        self.right = None\n",
    "\n",
    "def treeToDoublyList(root):\n",
    "    first_node = None\n",
    "    last_node = None\n",
    "\n",
    "    def inorder(root):\n",
    "        nonlocal first_node\n",
    "        nonlocal last_node\n",
    "\n",
    "        if root:\n",
    "            inorder(root.left)\n",
    "            curr_node = root\n",
    "            if not last_node:\n",
    "                first_node = curr_node\n",
    "                last_node = curr_node\n",
    "            else:\n",
    "                last_node.right = curr_node\n",
    "                curr_node.left = last_node\n",
    "                last_node = curr_node\n",
    "            inorder(root.right)\n",
    "        return\n",
    "    inorder(root)\n",
    "\n",
    "    if root:\n",
    "        last_node.right = first_node\n",
    "        first_node.left = last_node\n",
    "    return first_node\n",
    "\n",
    "'''\n",
    "Test #1\n",
    "    2\n",
    "  /  \\\n",
    "  1   3\n",
    "\n",
    "first_node      last_node     root      curr_node\n",
    "<-1-><-2-><-3->          3\n",
    "'''"
   ]
  },
  {
   "cell_type": "markdown",
   "id": "e5a3b7aa-30aa-435f-95e8-83e9c5bf80f5",
   "metadata": {
    "jp-MarkdownHeadingCollapsed": true
   },
   "source": [
    "# 236. Lowest Common Ancestor of a Binary Tree"
   ]
  },
  {
   "cell_type": "code",
   "execution_count": null,
   "id": "83bc6c7b-9a01-4bbb-9156-fe612370d89c",
   "metadata": {},
   "outputs": [],
   "source": [
    "'''\n",
    "LCA of 2 nodes in tree.\n",
    "1\n",
    "\\\n",
    " 2\n",
    "/ \\ \n",
    "4  3\n",
    "- Root\n",
    "  - if both nodes are found is same child\n",
    "  - if both nodes are found in diff child\n",
    "    - first occurance\n",
    "\n",
    "O(n^2), O(n)\n",
    "'''\n",
    "\n",
    "def lowestCommonAncestor(root, p, q):\n",
    "    lca = None\n",
    "\n",
    "    def find(root, p):\n",
    "      if root:\n",
    "        if root == p:\n",
    "          return True\n",
    "        else:\n",
    "          return find(root.left, p) or find(root.right, p)\n",
    "      else:\n",
    "        return False\n",
    "\n",
    "    def LCAhelper(root, p, q):\n",
    "      nonlocal lca\n",
    "      if root:\n",
    "        # ancestor of p\n",
    "        if find(root.left, p):\n",
    "          ancestor_p = -1\n",
    "        elif find(root.right, p):\n",
    "          ancestor_p = 1\n",
    "        elif root == p:\n",
    "          ancestor_p = 0\n",
    "\n",
    "        # ancestor of q\n",
    "        if find(root.left, q):\n",
    "          ancestor_q = -1\n",
    "        elif find(root.right, q):\n",
    "          ancestor_q = 1\n",
    "        elif root == q:\n",
    "          ancestor_q = 0\n",
    "        \n",
    "        if ancestor_p*ancestor_q > 0:\n",
    "          if ancestor_p == -1:\n",
    "            LCAhelper(root.left, p, q)\n",
    "          else:\n",
    "            LCAhelper(root.right, p, q)\n",
    "        elif ancestor_p*ancestor_p <= 0:\n",
    "          lca = root\n",
    "        return \n",
    "      LCAhelper(root, p, q) \n",
    "    return lca\n",
    "\n",
    "'''\n",
    "Test#1\n",
    "1\n",
    "\\\n",
    " 2\n",
    "/ \\ \n",
    "4  3\n",
    "root    p   q   ancestor_p    ancestor_q      LCA\n",
    "2       4   3       -1           1            2\n",
    "\n",
    "root    p\n",
    "4       4  true\n",
    "'''\n",
    "\n",
    "def lowestCommonAncestor(root, p, q):\n",
    "    def find(root, p, q):\n",
    "      if root:\n",
    "        if root == p or root == q:\n",
    "          return root\n",
    "        else:\n",
    "          left_find = find(root.left, p, q)\n",
    "          right_find = find(root.left, p, q)\n",
    "          if left_find and right_find:\n",
    "            return root\n",
    "          else:\n",
    "            if left_find is not None:\n",
    "              return left_find \n",
    "            elif right_find is not None:\n",
    "              return right_find\n",
    "            else:\n",
    "              return None\n",
    "      else:\n",
    "        return None\n",
    "      lca = find(root, p, q)\n",
    "      return lca\n",
    "\n",
    "'''\n",
    "O(n), O(n)\n",
    "'''"
   ]
  },
  {
   "cell_type": "markdown",
   "id": "a68b73d2-2bc4-4737-994b-1e4d8ee6b295",
   "metadata": {},
   "source": [
    "# 129. Sum Root to Leaf Numbers"
   ]
  },
  {
   "cell_type": "code",
   "execution_count": null,
   "id": "dab571a0-5ef4-4783-8c71-40a96b263549",
   "metadata": {},
   "outputs": [],
   "source": [
    "'''\n",
    "    4\n",
    "    /\\\n",
    "    2 3\n",
    "   /\\\n",
    "   1 0\n",
    "     /\n",
    "     5     \n",
    "\n",
    "421 + 4205 + 43\n",
    "\n",
    "Approach #1\n",
    "- Generate all paths\n",
    "  - DFS\n",
    "  - keep all nodes in the stack, pop once no child is to be processed\n",
    "  - convert to integer, add to another arra\n",
    "- return sum\n",
    "O(n), O(n)\n",
    "'''\n",
    "\n",
    "def sumNumbers(root):\n",
    "  # Generate all path numbers\n",
    "  all_numbers = []\n",
    "\n",
    "  def rDfs(root, num_array):\n",
    "    if root:\n",
    "      num_array.append(str(root.val))\n",
    "      if not root.left and not root.right:\n",
    "        number = int(\"\".join(num_array))\n",
    "        all_numbers.append(number)\n",
    "      if root.left:\n",
    "        rDfs(root.left, num_array)\n",
    "      if root.right:\n",
    "        rDfs(root.right, num_array)\n",
    "      num_array.pop()\n",
    "\n",
    "  rDfs(root, [])\n",
    "  return sum(all_numbers)\n",
    "\n",
    "'''\n",
    "Test #1\n",
    "     4\n",
    "    /\\\n",
    "    2 3\n",
    "   /\\\n",
    "   1 0\n",
    "     /\n",
    "     5     \n",
    "all_numbers\n",
    "[421, 4205, 43]\n",
    "root      num_array   \n",
    "\n",
    "- Optimization\n",
    "  - Remove the array and replace them with numbers instead\n",
    "\n",
    "def sumNumbers(root):\n",
    "        # Generate all path numbers\n",
    "        all_numbers = 0\n",
    "\n",
    "        def rDfs(root, num_array):\n",
    "            nonlocal all_numbers\n",
    "            if root:\n",
    "                num_array = num_array*10 + root.val\n",
    "                if not root.left and not root.right:\n",
    "                    all_numbers += num_array\n",
    "                if root.left:\n",
    "                    rDfs(root.left, num_array)\n",
    "                if root.right:\n",
    "                    rDfs(root.right, num_array)\n",
    "\n",
    "        rDfs(root, 0)\n",
    "        return all_numbers\n",
    "'''\n"
   ]
  },
  {
   "cell_type": "code",
   "execution_count": null,
   "id": "31f057db-7980-4953-8d0d-c4273e5a8284",
   "metadata": {},
   "outputs": [],
   "source": []
  },
  {
   "cell_type": "markdown",
   "id": "aef620b3",
   "metadata": {},
   "source": [
    "# 226. Invert Binary Tree"
   ]
  },
  {
   "cell_type": "code",
   "execution_count": null,
   "id": "58f94708",
   "metadata": {},
   "outputs": [],
   "source": [
    "'''\n",
    "Invert a binary tree given a root. Every node has its children inverted\n",
    "There could be 0 nodes as well. For edge cases we should just return None\n",
    "\n",
    "Approach #1\n",
    "- create a function to reverse a node\n",
    "- in that function recursively call the reverse function on both child nodes\n",
    "- when they return swap the right for left and vice versa\n",
    "- terminal condition : If empty just return\n",
    "\n",
    "O(n), O(h)\n",
    "'''\n",
    "\n",
    "def invertTree(root):\n",
    "    if root is None:\n",
    "        return None\n",
    "\n",
    "    leftChild = invertTree(root.left)\n",
    "    rightChild = invertTree(root.right)\n",
    "\n",
    "    root.left = rightChild\n",
    "    root.right = leftChild\n",
    "    return root\n",
    "\n"
   ]
  },
  {
   "cell_type": "markdown",
   "id": "622a5c92",
   "metadata": {},
   "source": [
    "<a id=235></a>\n",
    "# 235. Lowest Common Ancestor of a Binary Search Tree"
   ]
  },
  {
   "cell_type": "code",
   "execution_count": null,
   "id": "73c9b518",
   "metadata": {},
   "outputs": [],
   "source": [
    "'''\n",
    "LCA in a binary search tree\n",
    "- There will al ways b e atleast 2 nodes\n",
    "- the p and q will be unique\n",
    "- there are no duplicates\n",
    "- the p, q will for sure be present in the tree, so we need not validate their presence\n",
    "    6\n",
    "   / \\\n",
    "  2   8\n",
    "  /\\  /\\\n",
    " 0  4 7 9\n",
    "    /\\\n",
    "    3 5\n",
    "Approach #1\n",
    "- at a node, search for both p and q\n",
    "- if both  of them could be found on the same side, continue searching on that side recursively\n",
    "- if both of them could be found on the differernt sides, return the node\n",
    "- ending criteria - if the node is null, just return null\n",
    "'''\n",
    "\n",
    "def lowestCommonAncestor(root, p, q):\n",
    "    if root == p or root == q:\n",
    "        return root\n",
    "  \n",
    "    side_p = 0 if p.val < root.val else 1\n",
    "    side_q = 0 if q.val < root.val else 1\n",
    "\n",
    "    if side_p == side_q:\n",
    "        if side_p == 0:\n",
    "            return lowestCommonAncestor(root.left, p, q)\n",
    "        else:\n",
    "            return lowestCommonAncestor(root.right, p, q)\n",
    "    else:\n",
    "        return root\n",
    "    "
   ]
  },
  {
   "cell_type": "markdown",
   "id": "e13a6e02",
   "metadata": {},
   "source": [
    "<a id='110'></a>\n",
    "# 110. Balanced Binary Tree"
   ]
  },
  {
   "cell_type": "code",
   "execution_count": null,
   "id": "617716bc",
   "metadata": {},
   "outputs": [],
   "source": [
    "'''\n",
    "Determine if the tree is height balanced\n",
    "- |left height - righ height| <= 1\n",
    "- all left and right subtrees need to be heigh balanced as well\n",
    "- tree can be empty\n",
    "\n",
    "Approach #1\n",
    "- For root\n",
    "    - Get height of left subtree, \n",
    "    - get height of right subtree\n",
    "    - compare both \n",
    "    - check if both subtrees as balanced as well\n",
    "    - to get height,  just return the max height from left and right subtrees to the parent\n",
    "\n",
    "O(n), O(n)\n",
    "'''\n",
    "\n",
    "def isBalanced(root):\n",
    "\n",
    "    def balanceHelper(root):\n",
    "        if not root:\n",
    "            return 0, True\n",
    "\n",
    "        lHeight, lBalance = balanceHelper(root.left)\n",
    "        rHeight, rBalance = balanceHelper(root.right)\n",
    "\n",
    "        return max(lHeight, rHeight) + 1, abs(lHeight - rHeight) <= 1 and lBalance and rBalance\n",
    "\n",
    "    _, balance = balanceHelper(root)\n",
    "\n",
    "    return balance"
   ]
  }
 ],
 "metadata": {
  "kernelspec": {
   "display_name": "Python 3 (ipykernel)",
   "language": "python",
   "name": "python3"
  },
  "language_info": {
   "codemirror_mode": {
    "name": "ipython",
    "version": 3
   },
   "file_extension": ".py",
   "mimetype": "text/x-python",
   "name": "python",
   "nbconvert_exporter": "python",
   "pygments_lexer": "ipython3",
   "version": "3.11.8"
  }
 },
 "nbformat": 4,
 "nbformat_minor": 5
}
