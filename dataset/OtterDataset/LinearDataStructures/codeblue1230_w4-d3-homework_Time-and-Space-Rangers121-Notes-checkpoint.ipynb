{
 "cells": [
  {
   "cell_type": "markdown",
   "metadata": {},
   "source": [
    "# Time/Space Complexity - Intro to Data Structures (User Defined)\n",
    "\n",
    "### Topics to discuss today:\n",
    "\n",
    "<ul>\n",
    "    <li>Time and Space Complexity - What is it/How do we measure it</li>\n",
    "    <li>Asymptotic Analysis</li>\n",
    "    <li><strong>Data Structures</strong></li>\n",
    "    <li>Some of the popular sorting algorithms</li>\n",
    "</ul>\n",
    "\n",
    "### Data Structures to discuss:\n",
    "- Arrays\n",
    "- Stacks\n",
    "- Queues\n",
    "- Linked Lists\n",
    "    - Singly Linked Lists\n",
    "    - Traversing A Linked List\n",
    "    - Finding a node in a linked list\n",
    "    - Adding to a linked list\n"
   ]
  },
  {
   "cell_type": "markdown",
   "metadata": {},
   "source": [
    "## Time and Space Complexity\n",
    "\n",
    "#### What is it?\n",
    "\n",
    "Time and space complexity is the measure of how much time a given action(function) will take to solve a problem. In the same fashion, we determine how much a given data structure will need in terms of memory allocation. A problem can have multiple solutions and finding the optimal solution for the problem needs to be analyzed in time and space.\n",
    "\n",
    "#### How do we measure Time and Space Complexity?\n",
    "\n",
    "In order to measure time and space complexity we use Asymptotic analysis. The reason for this is because we need a way to measure different algorithms (functions) based on the size of their inputs in a mathmatical way. For example, we could have a function that is computed as f(n) and another that is g(n^2). All things around the function staying constant, the only thing that changes is the size of the input. Below is the chart that shows the different Asymptotic analysis formats. "
   ]
  },
  {
   "cell_type": "markdown",
   "metadata": {},
   "source": [
    "<table style=\"text-align:center;\" class=\"table table-bordered\">\n",
    "<tbody><tr>\n",
    "<td>constant</td>\n",
    "<td>−</td>\n",
    "<td>Ο(1)</td>\n",
    "</tr>\n",
    "<tr>\n",
    "<td>logarithmic</td>\n",
    "<td>−</td>\n",
    "<td>Ο(log n)</td>\n",
    "</tr>\n",
    "<tr>\n",
    "<td>linear</td>\n",
    "<td>−</td>\n",
    "<td>Ο(n)</td>\n",
    "</tr>\n",
    "<tr>\n",
    "<td>Linear Logarithmic</td>\n",
    "<td>−</td>\n",
    "<td>Ο(n log n)</td>\n",
    "</tr>\n",
    "<tr>\n",
    "<td>quadratic</td>\n",
    "<td>−</td>\n",
    "<td>Ο(n<sup>2</sup>)</td>\n",
    "</tr>\n",
    "<tr>\n",
    "<td>cubic</td>\n",
    "<td>−</td>\n",
    "<td>Ο(n<sup>3</sup>)</td>\n",
    "</tr>\n",
    "<tr>\n",
    "<td>polynomial</td>\n",
    "<td>−</td>\n",
    "<td>n<sup>Ο(1)</sup></td>\n",
    "</tr>\n",
    "<tr>\n",
    "<td>exponential</td>\n",
    "<td>−</td>\n",
    "<td>2<sup>Ο(n)</sup></td>\n",
    "</tr>\n",
    "</tbody></table>"
   ]
  },
  {
   "cell_type": "code",
   "execution_count": 2,
   "metadata": {},
   "outputs": [
    {
     "name": "stdout",
     "output_type": "stream",
     "text": [
      "[1, 2, 2, 3, 3, 3]\n",
      "3\n"
     ]
    }
   ],
   "source": [
    "#Constant Time O(1)\n",
    "def add_nums(num1, num2):\n",
    "    return num1 + num2\n",
    "\n",
    "#Logarithmic O(log n)\n",
    "#binary Search\n",
    "#breaking our list down into halves to search for an index\n",
    "#we're never traversing the entirety of the list\n",
    "def binary_search(array, target):\n",
    "    left = 0\n",
    "    right = len(array) - 1\n",
    "    \n",
    "    while left <= right:\n",
    "        middle = (left + right) // 2\n",
    "        potential_match = array[middle]\n",
    "        if target == potential_match:\n",
    "            return f\"The index is {middle}\"\n",
    "        elif target < potential_match:\n",
    "            right = middle - 1\n",
    "        else:\n",
    "            left = middle + 1\n",
    "    return -1\n",
    "\n",
    "#Linear O(n)\n",
    "#time increases with the number of inputs\n",
    "arr = [1, 2, 3, 4, 5]\n",
    "def print_num(arr):\n",
    "    for num in arr:\n",
    "        print(num)\n",
    "#membership checks in a list\n",
    "#looping through a string\n",
    "#.count()\n",
    "\n",
    "\n",
    "#Linear Logarithmic O(n Log n)\n",
    "#merge sort\n",
    "#.sort()\n",
    "#sorted()\n",
    "\n",
    "#Quadratic O(n^2)\n",
    "#any nested equation\n",
    "# 2 loops nested inside of each other\n",
    "def quads_bb(arr):\n",
    "    for num in arr:\n",
    "        for num2 in arr:\n",
    "            print(num, num2)\n",
    "lucky = [1, 2, 2, 3, 3, 3]\n",
    "def lucky_nums(arr):\n",
    "    lucky_numbers = []\n",
    "    for num in arr:\n",
    "        if num == arr.count(num):\n",
    "            lucky_numbers.append(num)\n",
    "    print(lucky_numbers)\n",
    "    \n",
    "    if lucky_numbers == []:\n",
    "        return -1\n",
    "    else:\n",
    "        return max(lucky_numbers)\n",
    "print(lucky_nums(lucky))\n",
    "\n",
    "#Cubic O(n^3)\n",
    "#any triply nested linear operations\n",
    "nums1 = [1, 2, 3, 4, 5]\n",
    "nums2 = [1, 2, 3, 4, 5]\n",
    "nums3 = [1, 2, 3, 4, 5]\n",
    "def print_nums3(arr1, arr2, arr3):\n",
    "    for num1 in arr1:\n",
    "        for num2 in arr2:\n",
    "            for num3 in arr3:\n",
    "                print(num1 + num2 + num3)\n",
    "    \n"
   ]
  },
  {
   "cell_type": "markdown",
   "metadata": {},
   "source": [
    "## Arrays"
   ]
  },
  {
   "cell_type": "markdown",
   "metadata": {},
   "source": [
    "In python we benefit from the dynamic array which means the block of memory will expand as needed for the given input to the array. In traditional arrays (depending on the type of operating system) we will usually store our inputs in 4 or 8 consecutive blocks of memory. Below is a diagram of how that looks under the hood:\n",
    "\n",
    "<img src=\"http://www.mathcs.emory.edu/~cheung/Courses/170/Syllabus/09/FIGS/array02x.gif\" style=\"height:250px; width:350px;\">"
   ]
  },
  {
   "cell_type": "markdown",
   "metadata": {},
   "source": [
    "## Which in python looks like this:"
   ]
  },
  {
   "cell_type": "code",
   "execution_count": null,
   "metadata": {},
   "outputs": [],
   "source": []
  },
  {
   "cell_type": "markdown",
   "metadata": {},
   "source": [
    "### Let's take a look at some of the time and space analysis of arrays"
   ]
  },
  {
   "cell_type": "code",
   "execution_count": 7,
   "metadata": {},
   "outputs": [
    {
     "name": "stdout",
     "output_type": "stream",
     "text": [
      "3\n",
      "It's here\n",
      "It's in both\n",
      "[1, 2, 3, 4, 5]\n",
      "[1, 2, 3, 4, 5]\n",
      "[1, 2, 3, 20, 5]\n"
     ]
    }
   ],
   "source": [
    "#Indexing an array\n",
    "#constant time and constant space\n",
    "#arr[i]\n",
    "my_list = [1 , 2, 3, 4, 5]\n",
    "num = my_list[2]\n",
    "print(num)\n",
    "\n",
    "#Searching through an array/membership check\n",
    "#Linear Time O(n) and constant space\n",
    "if 1 in my_list:\n",
    "    print(\"It's here\")\n",
    "#Quadratic example of a search in a for loop\n",
    "my_list2 = [5, 6, 7, 8, 9]\n",
    "for num in my_list:\n",
    "    if num in my_list2:\n",
    "        print(\"It's in both\")\n",
    "#Copying an array\n",
    "#linear time O(n)\n",
    "#linear space O(n)\n",
    "my_list_copy = my_list[:]\n",
    "print(my_list_copy)\n",
    "\n",
    "empty_list = []\n",
    "for num in my_list:\n",
    "    empty_list.append(num)\n",
    "print(empty_list)\n",
    "\n",
    "#setting an index\n",
    "#Constant Time and Constant Space\n",
    "num = 20\n",
    "my_list[3] = num\n",
    "\n",
    "print(my_list)\n"
   ]
  },
  {
   "cell_type": "markdown",
   "metadata": {},
   "source": [
    "## Stacks and Queues\n",
    "\n",
    "** Stacks ** as the name suggests is a data structure that allows for data to follow the Last In First Out priciple(LIFO). Think of a stack of pancakes for example. To get the first pancake you would  start with the top and go down.\n",
    "\n",
    "##### Searching through a stack will be Linear Time O(n) - Constant Space O(1)\n",
    "##### Selecting the last item will be done in Constant Time O(1) - Constant Space O(1)\n",
    "##### Adding to the stack should take Constant Time O(1) - Constant Space O(1)\n",
    "\n",
    "** Queues ** are similar but in this case follow the First In First Out principle(FIFO). Think of this as a line in a black friday sale. The first person camped out for the big screen tv is the first to get it.\n",
    "\n",
    "##### Searching through a queue will be Linear Time O(n) - Constant Space O(1)\n",
    "##### Selecting the first item will be done in Constant Time O(1) - Constant Space O(1)\n",
    "##### Adding to the queue should take Constant Time O(1) - Constant Space O(1)"
   ]
  },
  {
   "cell_type": "code",
   "execution_count": 10,
   "metadata": {},
   "outputs": [
    {
     "name": "stdout",
     "output_type": "stream",
     "text": [
      "['pancake1', 'pancake2']\n",
      "['pancake1', 'pancake2', 'pancake3']\n",
      "['pancake1', 'pancake2', 'pancake3', 'pancake4']\n",
      "['pancake1', 'pancake2', 'pancake3']\n",
      "['pancake1', 'pancake2']\n"
     ]
    }
   ],
   "source": [
    "from collections import deque\n",
    "#python list version of stack\n",
    "stack = ['pancake1']\n",
    "stack.append('pancake2')\n",
    "print(stack)\n",
    "stack.append('pancake3')\n",
    "print(stack)\n",
    "stack.append('pancake4')\n",
    "print(stack)\n",
    "\n",
    "stack.pop()\n",
    "print(stack)\n",
    "stack.pop()\n",
    "print(stack)"
   ]
  },
  {
   "cell_type": "code",
   "execution_count": 15,
   "metadata": {},
   "outputs": [
    {
     "name": "stdout",
     "output_type": "stream",
     "text": [
      "deque([])\n",
      "deque(['pancake1', 'pancake2'])\n",
      "deque(['pancake1', 'pancake2', 'pancake3'])\n",
      "deque(['pancake1', 'pancake2'])\n"
     ]
    }
   ],
   "source": [
    "stack = deque()\n",
    "print(stack)\n",
    "stack.append('pancake1')\n",
    "stack.append('pancake2')\n",
    "print(stack)\n",
    "stack.append('pancake3')\n",
    "print(stack)\n",
    "\n",
    "stack.pop()\n",
    "print(stack)\n"
   ]
  },
  {
   "cell_type": "code",
   "execution_count": 20,
   "metadata": {},
   "outputs": [
    {
     "name": "stdout",
     "output_type": "stream",
     "text": [
      "deque([])\n",
      "deque(['Frank'])\n",
      "deque(['Dave', 'Frank'])\n",
      "deque(['Lori', 'Dave', 'Frank'])\n",
      "deque(['Lori', 'Dave'])\n",
      "deque(['Lori'])\n"
     ]
    }
   ],
   "source": [
    "queue = deque()\n",
    "print(queue)\n",
    "#first shopper in first shopper out\n",
    "queue.appendleft(\"Frank\")\n",
    "print(queue)\n",
    "queue.appendleft(\"Dave\")\n",
    "print(queue)\n",
    "queue.appendleft(\"Lori\")\n",
    "print(queue)\n",
    "\n",
    "queue.pop()\n",
    "print(queue)\n",
    "queue.pop()\n",
    "print(queue)\n",
    "\n"
   ]
  },
  {
   "cell_type": "markdown",
   "metadata": {},
   "source": [
    "# Sum of Parts Time Compelxity Exercise"
   ]
  },
  {
   "cell_type": "code",
   "execution_count": null,
   "metadata": {},
   "outputs": [],
   "source": [
    "#sum of parts\n",
    "https://www.codewars.com/kata/5ce399e0047a45001c853c2b"
   ]
  },
  {
   "cell_type": "code",
   "execution_count": null,
   "metadata": {},
   "outputs": [],
   "source": [
    "def parts_sums(ls):\n",
    "    result = []\n",
    "    #linear built in function\n",
    "    total_sum = sum(ls)\n",
    "    #linear for loop\n",
    "    for num in ls:\n",
    "        #constant\n",
    "        result.append(total_sum)\n",
    "        #constant\n",
    "        total_sum -= num\n",
    "    #constant\n",
    "    result.append(total_sum)  # Add the final sum of an empty list\n",
    "\n",
    "    return result\n"
   ]
  },
  {
   "cell_type": "markdown",
   "metadata": {},
   "source": [
    "## Linked List (Data Structure)\n",
    "\n",
    "A linked list is created by using the node class. We create a Node object and create another class to use this node object. We pass the appropriate values thorugh the node object to point the to the next data elements.\n",
    "\n",
    "There are some advantages and disadvantages with this data structure. **Advantages** Linked Lists can save memory because they can be flexibile with memory management which saves memory. **Disadvantages** Finding or adding to the list requires traversing the entire list."
   ]
  },
  {
   "cell_type": "code",
   "execution_count": 22,
   "metadata": {},
   "outputs": [],
   "source": [
    "#2 components of the linked list\n",
    "# the Node Class and a node object\n",
    "\n",
    "#Linked list class that lets us tie our node objects together\n",
    "#Node class\n",
    "class Node():\n",
    "    def __init__(self, value):\n",
    "        self.value = value\n",
    "        self.next = None\n",
    "        \n",
    "class LinkedList():\n",
    "    def __init__(self):\n",
    "        self.head = None\n",
    "        \n",
    "#push_on method (place an item at the beginning of the list)\n",
    "    def push_on(self, new_value):\n",
    "        new_node = Node(new_value)\n",
    "        new_node.next = self.head\n",
    "        self.head = new_node\n",
    "        \n",
    "#insert_after (which will insert another node in the linked list)\n",
    "    def insert_after(self, prev_node, new_value):\n",
    "        #check if previous node exists\n",
    "        if prev_node is None:\n",
    "            print(\"The given prev_node must not be empty\")\n",
    "            return\n",
    "        #if the prev_node is not empty\n",
    "        new_node = Node(new_value)\n",
    "        \n",
    "        #update the new node's next to be the previous node's next\n",
    "        new_node.next = prev_node.next\n",
    "        \n",
    "        #update pre_node next to be new_node\n",
    "        prev_node.next = new_node\n",
    "\n",
    "#append (add a new node to the end of the list)\n",
    "    def append_(self, new_value):\n",
    "        #create new node object\n",
    "        new_node = Node(new_value)\n",
    "        \n",
    "        #check if the linked list is empty\n",
    "        #if it is make the new node the head of the linked list\n",
    "        if self.head is None:\n",
    "            self.head = new_node\n",
    "            \n",
    "        #if not empty, traverse the linked list and append to the end\n",
    "        last = self.head\n",
    "        \n",
    "        #change last variable to the new value and continuously check for an empty next\n",
    "        while last.next:\n",
    "            last = last.next\n",
    "        #change the current last node (tail) to point to the new node object\n",
    "        last.next = new_node\n",
    "        \n",
    "#traverse (move through the linked list)\n",
    "    def traverse(self):\n",
    "        temp = self.head\n",
    "        #while temp is NOT NONE --> keep on truckin through the list until it is none\n",
    "        while temp:\n",
    "            print(temp.value)\n",
    "            temp = temp.next\n",
    "        print(\"End of your list!\")\n",
    "\n"
   ]
  },
  {
   "cell_type": "code",
   "execution_count": 39,
   "metadata": {
    "scrolled": true
   },
   "outputs": [
    {
     "name": "stdout",
     "output_type": "stream",
     "text": [
      "Monday\n",
      "Wednesday\n",
      "Monday\n",
      "Tuesday\n",
      "Wednesday\n",
      "End of your list!\n",
      "Monday\n",
      "Tuesday\n",
      "Wednesday\n",
      "Thursday\n",
      "End of your list!\n",
      "Sunday\n",
      "Monday\n",
      "Tuesday\n",
      "Wednesday\n",
      "Thursday\n",
      "End of your list!\n",
      "Thursday\n"
     ]
    }
   ],
   "source": [
    "weekdays_list = LinkedList()\n",
    "weekdays_list.push_on(\"Monday\")\n",
    "print(weekdays_list.head.value)\n",
    "weekdays_list.append_(\"Wednesday\")\n",
    "print(weekdays_list.head.next.value)\n",
    "weekdays_list.insert_after(weekdays_list.head, \"Tuesday\")\n",
    "weekdays_list.traverse()\n",
    "weekdays_list.append_(\"Thursday\")\n",
    "weekdays_list.traverse()\n",
    "weekdays_list.push_on(\"Sunday\")\n",
    "weekdays_list.traverse()\n",
    "\n",
    "print(weekdays_list.head.next.next.next.next.value)\n"
   ]
  },
  {
   "cell_type": "code",
   "execution_count": 49,
   "metadata": {},
   "outputs": [
    {
     "name": "stdout",
     "output_type": "stream",
     "text": [
      "45\n"
     ]
    }
   ],
   "source": [
    "# If we list all the natural numbers below 10 that are multiples of 3 or 5, \n",
    "# we get 3, 5, 6 and 9. The sum of these multiples is 23. Finish the solution \n",
    "# so that it returns the sum of all the multiples of 3 or 5 below the number passed in. \n",
    "# Additionally, if the number is negative, return 0 (for languages that do have them).\n",
    "# Note: If the number is a multiple of both 3 and 5, only count it once.\n",
    "\n",
    "# https://www.codewars.com/kata/514b92a657cdc65150000006\n",
    "\n",
    "def solution(number):\n",
    "    new_num = [] # constant \n",
    "    for num in range(number): # linear\n",
    "        if num % 3 == 0 or num % 5 == 0: # constant\n",
    "            new_num.append(num) # constant\n",
    "    if sum(new_num) >= 0: # linear\n",
    "        return sum(new_num) # linear\n",
    "    else: \n",
    "        return 0 # constant\n",
    "    \n",
    "print(solution(15))\n",
    "    "
   ]
  },
  {
   "cell_type": "code",
   "execution_count": 69,
   "metadata": {},
   "outputs": [
    {
     "name": "stdout",
     "output_type": "stream",
     "text": [
      "4\n",
      "4\n"
     ]
    }
   ],
   "source": [
    "# Given an array of integers, find the one that appears an odd number of times.\n",
    "\n",
    "# There will always be only one integer that appears an odd number of times.\n",
    "\n",
    "# Examples\n",
    "# [7] should return 7, because it occurs 1 time (which is odd).\n",
    "# [0] should return 0, because it occurs 1 time (which is odd).\n",
    "# [1,1,2] should return 2, because it occurs 1 time (which is odd).\n",
    "# [0,1,0,1,0] should return 0, because it occurs 3 times (which is odd).\n",
    "# [1,2,2,3,3,3,4,3,3,3,2,2,1] should return 4, because it appears 1 time (which is odd)\n",
    "\n",
    "# https://www.codewars.com/kata/54da5a58ea159efa38000836\n",
    "\n",
    "def find_it(seq):\n",
    "    for num in seq: # linear\n",
    "        if seq.count(num) % 2 != 0: # quadratic\n",
    "            return num # constant\n",
    "        \n",
    "def find_it_v2(arr):\n",
    "    num_dict = {} # constant\n",
    "    for num in arr: # linear\n",
    "        if num not in num_dict: # constant\n",
    "            num_dict[num] = 1 # constant\n",
    "        else: \n",
    "            num_dict[num] += 1 # constant\n",
    "    for key, value in num_dict.items(): # linear\n",
    "        if value % 2 != 0: # constant\n",
    "            return key # constant\n",
    "        \n",
    "print(find_it([1,2,2,3,3,3,4,3,3,3,2,2,1]))\n",
    "print(find_it_v2([1,2,2,3,3,3,4,3,3,3,2,2,1]))\n"
   ]
  },
  {
   "cell_type": "code",
   "execution_count": 90,
   "metadata": {},
   "outputs": [
    {
     "name": "stdout",
     "output_type": "stream",
     "text": [
      "Alex, Jacob and 2 others like this\n",
      "Alex, Jacob and 2 others like this\n"
     ]
    }
   ],
   "source": [
    "from collections import deque\n",
    "\n",
    "# You probably know the \"like\" system from Facebook and other pages. \n",
    "# People can \"like\" blog posts, pictures or other items. \n",
    "# We want to create the text that should be displayed next to such an item.\n",
    "\n",
    "# Implement the function which takes an array containing the names of \n",
    "# people that like an item. It must return the display text as shown in the examples:\n",
    "\n",
    "# []                                -->  \"no one likes this\"\n",
    "# [\"Peter\"]                         -->  \"Peter likes this\"\n",
    "# [\"Jacob\", \"Alex\"]                 -->  \"Jacob and Alex like this\"\n",
    "# [\"Max\", \"John\", \"Mark\"]           -->  \"Max, John and Mark like this\"\n",
    "# [\"Alex\", \"Jacob\", \"Mark\", \"Max\"]  -->  \"Alex, Jacob and 2 others like this\"\n",
    "# Note: For 4 or more names, the number in \"and 2 others\" simply increases.\n",
    "    \n",
    "# https://www.codewars.com/kata/5266876b8f4bf2da9b000362\n",
    "    \n",
    "def likes(names):\n",
    "    if names == []: # constant\n",
    "        return \"no one likes this\" #constant\n",
    "    if len(names) == 1: # constant\n",
    "        for name in names: # linear \n",
    "            return f\"{names.pop(0)} likes this\" # constant\n",
    "    if len(names) == 2: # constant\n",
    "        for name in names: # linear\n",
    "            return f\"{names.pop(0)} and {names.pop(0)} like this\" # maybe quadratic as best case, but probably worse \n",
    "    if len(names) == 3: # constant\n",
    "        for name in names: # linear\n",
    "            return f\"{names.pop(0)}, {names.pop(0)} and {names.pop()} like this\" # maybe quadratic as best case, but probably worse \n",
    "    if len(names) >= 4: # constant\n",
    "        for name in names: # linear\n",
    "            return f\"{names.pop(0)}, {names.pop(0)} and {len(names)} others like this\" # maybe quadratic as best case, but probably worse \n",
    "\n",
    "print(likes([\"Alex\", \"Jacob\", \"Mark\", \"Max\"]))\n",
    "\n",
    "# as you can see from my notes on the above problem I am fairly certain the pop methods nested in each for\n",
    "# loop are quadratic. However I'm not sure because they have multiple pops so I'm thinking they could be worse\n",
    "# Whether I am right or wrong this can definetely be optimized using deque\n",
    "# to prevent each item from having to shift over after removing the first index\n",
    "\n",
    "# after coding down below I now realized I didn't need any of the for loops in the above problem.\n",
    "# cool to know :)\n",
    "\n",
    "def likes_v2(names):\n",
    "    names = deque(names)\n",
    "    if names == []: # constant\n",
    "        return \"no one likes this\" #constant\n",
    "    if len(names) == 1: # constant\n",
    "        return f\"{names.pop()} likes this\" # constant\n",
    "    if len(names) == 2: # constant\n",
    "        return f\"{names.popleft()} and {names.popleft()} like this\" # constant\n",
    "    if len(names) == 3: # constant\n",
    "        return f\"{names.popleft()}, {names.popleft()} and {names.popleft()} like this\" # constant\n",
    "    if len(names) >= 4: # constant\n",
    "        return f\"{names.popleft()}, {names.popleft()} and {len(names)} others like this\" # constant\n",
    "    \n",
    "    \n",
    "print(likes_v2([\"Alex\", \"Jacob\", \"Mark\", \"Max\"]))\n",
    "    \n",
    "    "
   ]
  },
  {
   "cell_type": "code",
   "execution_count": null,
   "metadata": {},
   "outputs": [],
   "source": [
    "# linear --> list aka in a line (1 operation per item) (grows linearly with data)\n",
    "# single values are constant\n",
    "# iterables are likely to be linear\n",
    "\n",
    "#searching a dictionary is constant\n",
    "#adding methods to search a dictionary makes a list of tuples (key, value pairs)\n"
   ]
  }
 ],
 "metadata": {
  "kernelspec": {
   "display_name": "Python 3 (ipykernel)",
   "language": "python",
   "name": "python3"
  },
  "language_info": {
   "codemirror_mode": {
    "name": "ipython",
    "version": 3
   },
   "file_extension": ".py",
   "mimetype": "text/x-python",
   "name": "python",
   "nbconvert_exporter": "python",
   "pygments_lexer": "ipython3",
   "version": "3.11.3"
  }
 },
 "nbformat": 4,
 "nbformat_minor": 2
}
