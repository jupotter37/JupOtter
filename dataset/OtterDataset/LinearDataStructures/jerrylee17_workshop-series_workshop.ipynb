{
 "nbformat": 4,
 "nbformat_minor": 2,
 "metadata": {
  "language_info": {
   "name": "python",
   "codemirror_mode": {
    "name": "ipython",
    "version": 3
   },
   "version": "3.7.4-final"
  },
  "orig_nbformat": 2,
  "file_extension": ".py",
  "mimetype": "text/x-python",
  "name": "python",
  "npconvert_exporter": "python",
  "pygments_lexer": "ipython3",
  "version": 3,
  "kernelspec": {
   "name": "python37464bitac03641431254c3c98036337416b6071",
   "display_name": "Python 3.7.4 64-bit"
  }
 },
 "cells": [
  {
   "cell_type": "markdown",
   "execution_count": null,
   "metadata": {},
   "outputs": [],
   "source": [
    "# Basic Data Structures\n",
    "\n",
    "In this workshop, we will cover lists, stacks, and queues. These data structures are used in pretty much all algorithm problems, so it is important to know their time complexities and how to use them.\n",
    "\n",
    "Topics that we will cover are: \n",
    "\n",
    "1. lists\n",
    "1. linked lists\n",
    "1. stacks\n",
    "1. queues\n",
    "1. teque competitive programming problem"
   ]
  },
  {
   "cell_type": "markdown",
   "execution_count": null,
   "metadata": {},
   "outputs": [],
   "source": [
    "## Lists\n",
    "\n",
    "In Python, lists are dynamic, autoscaling arrays. This means that there is no size limit to the array. Lists are stored in consecutive locations in the memory, so it is easy to access elements.\n",
    "\n",
    "##### Time complexities\n",
    "\n",
    "- Get: O(1)\n",
    "- Insert: O(n)\n",
    "- Append: O(1)\n",
    "- Remove: O(n)\n",
    "\n",
    "Lists are declared with brackets in Python. As learned in the python shortcuts workshop, we can also use list comprehension to generate a list. "
   ]
  },
  {
   "cell_type": "code",
   "execution_count": null,
   "metadata": {},
   "outputs": [],
   "source": [
    "# Getting elements from a list\n",
    "\n",
    "myList = [i for i in range(10, 15)]\n",
    "\n",
    "print('The list is: ', myList)\n",
    "print('Index at 0: ', myList[0])\n",
    "print('Indexes 2, 3: ', myList[2:4])\n",
    "print('Every even numbered index: ', myList[::2])\n",
    "\n",
    "# What happens when these numbers are negative? Try it out below!\n"
   ]
  },
  {
   "cell_type": "code",
   "execution_count": null,
   "metadata": {},
   "outputs": [],
   "source": [
    "# Inserting elements into a list\n",
    "\n",
    "myList = [i for i in range(10, 19)]\n",
    "\n",
    "print('Initially, the list is: ', myList)\n",
    "\n",
    "myList.insert(5, 999999)\n",
    "\n",
    "print('After inserting, the list becomes ', myList)"
   ]
  },
  {
   "cell_type": "code",
   "execution_count": null,
   "metadata": {},
   "outputs": [],
   "source": [
    "# Appending to a list\n",
    "myList = [i for i in range(10, 19)]\n",
    "\n",
    "print('Initially, the list is: ', myList)\n",
    "myList.append(1000)\n",
    "print('After appending 1000, the list is: ', myList)\n",
    "\n",
    "# Try appending 3 elements: ['a', 'b', 'c'] to the end of myList in 1 append statement!\n"
   ]
  },
  {
   "cell_type": "code",
   "execution_count": null,
   "metadata": {},
   "outputs": [],
   "source": [
    "# Removing from a list\n",
    "myList = [i for i in range(10, 19)]\n",
    "\n",
    "print('Initially, the list is: ', myList)\n",
    "myList.pop(2)\n",
    "print('We just popped the element at index 2 of the list!', myList)\n",
    "\n",
    "# What happens when you don't give pop a parameter? Try it!"
   ]
  },
  {
   "cell_type": "markdown",
   "execution_count": null,
   "metadata": {},
   "outputs": [],
   "source": [
    "## Linked Lists\n",
    "\n",
    "Linked lists are really similar to lists where it stores a collection of values. However, its implementation is different. Linked lists are consisted of nodes consisting of its value and a pointer to the next node. \n",
    "\n",
    "##### Time complexities (singly-linked lists)\n",
    "- Get: O(n)\n",
    "- Insert: O(n)\n",
    "- Append: O(n)\n",
    "- Remove: O(n)\n",
    "\n",
    "\n",
    "There are two types of linked lists: Singly-linked and doubly-linked. A node in a singly-linked list is shown below. The only difference between this and a doubly linked list is that a doubly linked list has a self.prev value, which points to the previous node.\n",
    "\n",
    "```\n",
    "class ListNode:\n",
    "    def __init__(self, x):\n",
    "        self.val = x\n",
    "        self.next = None\n",
    "```\n",
    "\n",
    "To make a linked list, first create a root node. Then, set the next node of root to another node. Keep doing this until all of the elements that should be added has been added. "
   ]
  },
  {
   "cell_type": "code",
   "execution_count": null,
   "metadata": {},
   "outputs": [],
   "source": [
    "class ListNode:\n",
    "    def __init__(self, x):\n",
    "        self.val = x\n",
    "        self.next = None\n",
    "\n",
    "# Make a linked list\n",
    "root = ListNode(0)\n",
    "tmp = root\n",
    "for i in range(1,10):\n",
    "    tmp.next = ListNode(i)\n",
    "    tmp = tmp.next\n",
    "\n",
    "# function to print out a linked list\n",
    "def printList(root):\n",
    "    while root:\n",
    "        print(root.val, end=\", \")\n",
    "        root = root.next\n",
    "\n",
    "printList(root)"
   ]
  },
  {
   "cell_type": "markdown",
   "execution_count": null,
   "metadata": {},
   "outputs": [],
   "source": [
    "Inserting elements into a linked list is more difficult. To insert to the \"ith\" position of a linked list, you need a runner and a counter. The counter keeps track of the position and the runner inserts the node. \n",
    "\n",
    "Steps to Inserting to linked list:\n",
    "\n",
    "1. Go to element right before position to insert\n",
    "1. Temporarily store element.next\n",
    "1. Set element.next to be a new node with the given value\n",
    "1. Set node.next to the old element.next value"
   ]
  },
  {
   "cell_type": "code",
   "execution_count": null,
   "metadata": {},
   "outputs": [],
   "source": [
    "# ListNode class\n",
    "class ListNode:\n",
    "    def __init__(self, x):\n",
    "        self.val = x\n",
    "        self.next = None\n",
    "\n",
    "# Printing List function\n",
    "def printList(root):\n",
    "    while root:\n",
    "        print(root.val, end=\", \")\n",
    "        root = root.next\n",
    "\n",
    "# Make a linked list\n",
    "root = ListNode(0)\n",
    "tmp = root\n",
    "for i in range(1,10):\n",
    "    tmp.next = ListNode(i)\n",
    "    tmp = tmp.next\n",
    "\n",
    "# Insert function\n",
    "def insert(root, position, element):\n",
    "    runner = root\n",
    "    for i in range(position-1):\n",
    "        runner = runner.next\n",
    "    # tmp = runner.next\n",
    "    # runner.next = ListNode(element)\n",
    "    # runner.next.next = tmp\n",
    "    # This does the same thing as the top 3\n",
    "    runner.next, runner.next.next = ListNode(element), runner.next\n",
    "    return root\n",
    "\n",
    "root = insert(root, 2, 'hello')\n",
    "printList(root)"
   ]
  },
  {
   "cell_type": "markdown",
   "execution_count": null,
   "metadata": {},
   "outputs": [],
   "source": [
    "Now that you know how to insert elements into a linked list, write a function for appending to the end of a linked list. "
   ]
  },
  {
   "cell_type": "code",
   "execution_count": null,
   "metadata": {},
   "outputs": [],
   "source": [
    "# ListNode class\n",
    "class ListNode:\n",
    "    def __init__(self, x):\n",
    "        self.val = x\n",
    "        self.next = None\n",
    "\n",
    "# Printing List function\n",
    "def printList(root):\n",
    "    while root:\n",
    "        print(root.val, end=\", \")\n",
    "        root = root.next\n",
    "\n",
    "# Make a linked list\n",
    "root = ListNode(0)\n",
    "tmp = root\n",
    "for i in range(1,10):\n",
    "    tmp.next = ListNode(i)\n",
    "    tmp = tmp.next\n",
    "\n",
    "# append function\n",
    "def append(root, element):\n",
    "    # Put code here\n",
    "    return root\n",
    "\n",
    "root = append(root, 'last element')\n",
    "printList(root)"
   ]
  },
  {
   "cell_type": "markdown",
   "execution_count": null,
   "metadata": {},
   "outputs": [],
   "source": [
    "Finally, we need to remove elements by index from a linked list. Here are the steps to do this.\n",
    "\n",
    "1. Go to the element at the position right before the element we need to remove\n",
    "1. Point element.next to element.next.next\n",
    "\n",
    "Tada! The element will be removed. Try it below!"
   ]
  },
  {
   "cell_type": "code",
   "execution_count": null,
   "metadata": {},
   "outputs": [],
   "source": [
    "# ListNode class\n",
    "class ListNode:\n",
    "    def __init__(self, x):\n",
    "        self.val = x\n",
    "        self.next = None\n",
    "\n",
    "# Printing List function\n",
    "def printList(root):\n",
    "    while root:\n",
    "        print(root.val, end=\", \")\n",
    "        root = root.next\n",
    "\n",
    "# Make a linked list\n",
    "root = ListNode(0)\n",
    "tmp = root\n",
    "for i in range(1,10):\n",
    "    tmp.next = ListNode(i)\n",
    "    tmp = tmp.next\n",
    "\n",
    "# append function\n",
    "def remove(root, index):\n",
    "    # Put code here\n",
    "    return root\n",
    "\n",
    "root = remove(root, 5)\n",
    "printList(root)"
   ]
  },
  {
   "cell_type": "markdown",
   "execution_count": null,
   "metadata": {},
   "outputs": [],
   "source": [
    "## Stacks\n",
    "\n",
    "Stacks are a collection of objects that support first in last out (FILO). A good example of a stack would be putting tennis balls into a can. The first ball to be put in is the last one to be taken out. Stacks only have 2 functions: pop and push. Popping from a stack is like taking out a tennis ball. Pushing to a stack is like putting a tennis ball into a can. \n",
    "\n",
    "##### Time complexities\n",
    "\n",
    "- Pop: O(1)\n",
    "- Push: O(1)\n",
    "\n",
    "Lists in Python already have built in popping and pushing functions. Can you remember which functions we need to use to push and pop?"
   ]
  },
  {
   "cell_type": "code",
   "execution_count": null,
   "metadata": {},
   "outputs": [],
   "source": [
    "# Initial stack\n",
    "\n",
    "myStack = [7, 6, 10]\n",
    "print(\"Initial: \", myStack)\n",
    "\n",
    "\n",
    "# Now push to the stack!\n",
    "print('After pushing: ', myStack)\n",
    "\n",
    "\n",
    "# Now, pop an element out!\n",
    "print('After popping: ', myStack)\n"
   ]
  },
  {
   "cell_type": "markdown",
   "execution_count": null,
   "metadata": {},
   "outputs": [],
   "source": [
    "## Queues\n",
    "Queues are a collection of objects that support first in first out (FIFO). An example of a queue is the line to get food in the student union. First person in the line gets food first. Just like stacks, queues only have 2 default functions: get and insert. Get is similar to when someone gets their food and insert is when a new person lines up. \n",
    "\n",
    "Time complexities\n",
    "- Get: O(1)\n",
    "- Insert: O(1)\n",
    "\n",
    "In the code below, I have generated a list where we will store the queue. It is initially \\[1, 2, ..., 8, 9]. Try implementing your own insert and get functions for the FIFO queue!"
   ]
  },
  {
   "cell_type": "code",
   "execution_count": null,
   "metadata": {},
   "outputs": [],
   "source": [
    "myQueue = [x for x in range(1, 10)]\n",
    "\n",
    "def insert(queue, element):\n",
    "    # Implement an insert function\n",
    "    return queue\n",
    "\n",
    "def get(queue): \n",
    "    # Implement a get function\n",
    "    return queue, element\n",
    "\n",
    "print('Initial: ',myQueue)\n",
    "myQueue = insert(myQueue, 20)\n",
    "print('After insert: ', myQueue)\n",
    "myQueue, element = get(myQueue)\n",
    "print('After remove: ', myQueue)\n",
    "print('Element at front of queue is: ', element)"
   ]
  },
  {
   "cell_type": "markdown",
   "execution_count": null,
   "metadata": {},
   "outputs": [],
   "source": [
    "## [Teque Competitive Programming](https://open.kattis.com/problems/teque)\n",
    "\n",
    "The queue that you just learned is a single ended queue. There are also double ended queues (*deque*), where you can push and pop from both the front and back of the queue. This competitive programming problem takes the *deque* to a whole new level. \n",
    "\n",
    "The teque supports the following four operations:\n",
    "\n",
    "- **push_back x**: insert the element x into the back of the teque.\n",
    "- **push_front x**: insert the element x into the front of the teque.\n",
    "- **push_middle x**: insert the element x into the middle of the teque. The inserted element x now becomes the new median element of the teque, where the median is defined as the ((size of teque)+1)/2 indexed element (0-based).\n",
    "- **get i**: prints out the ith index element (0-based) of the teque.\n",
    "\n",
    "Basically, you can push to the back, front, and middle of the queue. In the bottom, implement your own teque. \n",
    "\n",
    "For a big hint, run the box directly below the implementation box.\n"
   ]
  },
  {
   "cell_type": "code",
   "execution_count": null,
   "metadata": {},
   "outputs": [],
   "source": [
    "# Implement teque"
   ]
  },
  {
   "cell_type": "code",
   "execution_count": null,
   "metadata": {},
   "outputs": [],
   "source": [
    "key = 7\n",
    "message = \"Bzl h kvbisf spurlk spza dpao h wvpualy av aol lukz huk tpkksl lsltlua!\".lower()\n",
    "alpha = \"abcdefghijklmnopqrstuvwxyz\"\n",
    "result = \"\"\n",
    "\n",
    "for letter in message:\n",
    "    if letter in alpha: \n",
    "        letter_index = (alpha.find(letter) - key) % len(alpha)\n",
    "\n",
    "        result = result + alpha[letter_index]\n",
    "    else:\n",
    "        result = result + letter\n",
    "\n",
    "print(result)"
   ]
  }
 ]
}