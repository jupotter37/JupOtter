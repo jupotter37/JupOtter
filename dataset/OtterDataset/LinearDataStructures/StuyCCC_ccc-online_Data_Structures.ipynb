{
 "cells": [
  {
   "cell_type": "markdown",
   "metadata": {},
   "source": [
    "# Basic Data Structures  \n",
    "`Lessons[1]`  \n",
    "*This document contains runnable python examples. You may edit and run code blocks by pressing `Shift-Enter`*\n",
    "\n",
    "---\n",
    "#### What are Data Structures?\n",
    "Data structures store data in the computer's memory. They each have their own use, depending on the problem/task at hand. You may already be familiar with arrays, which are a type of data structure.  \n",
    "\n",
    "We'll be going over the concepts of Linked Lists, Vectors, HashMaps, Sets/HashSets,  Stacks, and Queues.\n",
    "\n",
    "#### Arrays\n",
    "Arrays are lists that store one type of objects or primitives. In Python arrays are called lists, and can store multiple types of things. They may also be called Vectors.  \n",
    "\n",
    "In many languages, the maximum length of an array is set at its initialization. In Python arrays are automatically resized to fit the data they contain."
   ]
  },
  {
   "cell_type": "code",
   "execution_count": 2,
   "metadata": {},
   "outputs": [
    {
     "name": "stdout",
     "output_type": "stream",
     "text": [
      "4\n"
     ]
    }
   ],
   "source": [
    "x = [1,2,3,4,5] # A 1-dimensional vector/array with 5 members, all ints\n",
    "print(x[3])"
   ]
  },
  {
   "cell_type": "markdown",
   "metadata": {},
   "source": [
    "Since arrays can store any object, they can store other arrays. An array of arrays is often called a multi-dimensional array. A simple visualization of a 2D array is a 2D table/grid."
   ]
  },
  {
   "cell_type": "code",
   "execution_count": 4,
   "metadata": {},
   "outputs": [
    {
     "name": "stdout",
     "output_type": "stream",
     "text": [
      "8\n"
     ]
    }
   ],
   "source": [
    "y = [[1,2,3], #A 3x3 2D array.\n",
    "     [4,5,6],\n",
    "     [7,8,9]]\n",
    "\n",
    "print(y[2][1])"
   ]
  },
  {
   "attachments": {
    "image.png": {
     "image/png": "[encoded data removed]"
    }
   },
   "cell_type": "markdown",
   "metadata": {},
   "source": [
    "#### Linked Lists\n",
    "A linked list is a data structure values, each having a reference to the next value in the list. This is called a **singly linked list**. Likewise, a linked list with value having references to the preceding *and* succeeding values is called a **doubly linked list**.  Accessing a linked list's values runs in `O(n)`, or linear time (As opposed to constant time for many other lists).  \n",
    "![image.png](attachment:image.png)  \n",
    "*A diagram of singly linked list*\n",
    "\n",
    "#### Stacks & Queues\n",
    "A stack is a data structure used to store objects by following the last-in first-out (LIFO) principle. Think of it like a stack of books: You can easily add and remove from the top of the stack, but not from anywhere else. You **push** objects onto the top of the stack, and **pop** to remove them from the top.  \n",
    "\n",
    "Conversely, a queue stores objects by following the first-in first-out (FIFO) principles. Just like queues in real-life, the first person in a line will be the first person to come out of the line. You push objects to the back of the queue, and pop them off the front.  \n",
    "\n",
    "A linked list can be used to implement both stacks, queues and dequeues (A queue where you can pop and push from either side).\n",
    "\n",
    "#### Sets\n",
    "Sets are data structures similar to arrays, but unordered. While an array will preserve the order of insertion, a set doesn't necessarily maintain any order. In some languages, sets may be ordered in some way or the other. Additionally, sets do not distinguish between duplicate elements. For example, adding a `2` to the set of `{3,5,2,7}` would do nothing, since the `2` would be duplicated.\n",
    "\n",
    "A HashSet is a set using hash-based implementation. For brevity, we won't talk about hashing, but the important part is that the access operations for Hash-based data structures are amortized `O(1)`, or **constant time** on average.  \n",
    "\n",
    "#### Maps\n",
    "A map is an array consisting of key-value pairs, with each key corresponding to a value. A key is a unique identifier used to retrieve some value. You could think of arrays consisting of key-value pairs where the key is the index of the value. In Python, the builtin dictionaries are a type of map."
   ]
  },
  {
   "cell_type": "code",
   "execution_count": 9,
   "metadata": {},
   "outputs": [
    {
     "name": "stdout",
     "output_type": "stream",
     "text": [
      "Blue\n"
     ]
    }
   ],
   "source": [
    "lightsabers = {\"Yoda\":\"Green\",\n",
    "               \"Luke\":\"Blue\",\n",
    "               \"Darth Vader\":\"Red\",\n",
    "               \"Mace Windu\":\"Purple\"}\n",
    "\n",
    "print(lightsabers[\"Luke\"])"
   ]
  },
  {
   "cell_type": "markdown",
   "metadata": {},
   "source": [
    "HashMaps are maps that are hash-based.  \n",
    "\n",
    "That's about it for this lesson! As always, if you have any feedback feel free to contact one of the instructors, or email stuyccc@gmail.com"
   ]
  }
 ],
 "metadata": {
  "kernelspec": {
   "display_name": "Python 3",
   "language": "python",
   "name": "python3"
  },
  "language_info": {
   "codemirror_mode": {
    "name": "ipython",
    "version": 3
   },
   "file_extension": ".py",
   "mimetype": "text/x-python",
   "name": "python",
   "nbconvert_exporter": "python",
   "pygments_lexer": "ipython3",
   "version": "3.6.9"
  }
 },
 "nbformat": 4,
 "nbformat_minor": 4
}
