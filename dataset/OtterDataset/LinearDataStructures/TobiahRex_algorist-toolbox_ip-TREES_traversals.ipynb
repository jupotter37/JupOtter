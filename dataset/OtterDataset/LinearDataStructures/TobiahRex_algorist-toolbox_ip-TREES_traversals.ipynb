{
 "cells": [
  {
   "cell_type": "markdown",
   "metadata": {},
   "source": [
    "# Tree Traversal\n",
    "--------------------------------------------------------\n",
    "\n",
    "## Need to Know\n",
    "1. Ordered Traversals\n",
    "    1. Pre-Order:\n",
    "        - [x] Recursive\n",
    "        - [x] Iterative\n",
    "        - Key Takeaways\n",
    "    2. In-Order:\n",
    "        - [x] Recursive\n",
    "        - [x] Iterative\n",
    "        - Key Takeaways\n",
    "    3. Post-Order:\n",
    "        - [x] Recursive\n",
    "        - [x] Iterative\n",
    "        - Key Takeaways\n",
    "    4. Level-Order:\n",
    "        - [x] Iterative\n",
    "        - Key Takeaways\n",
    "    5. Boundary Walk\n",
    "        - [x] Solution Template\n",
    "        - Key Takeaways\n",
    "2. Bottom-Up & Top-Down\n",
    "    - [x] Recursive\n",
    "    - [x] Key Differences\n",
    "    - [x] Proplem Strategy\n",
    "--------------------------------------------------------\n",
    "<img src=\"https://imgur.com/gwpseiG.png\" style=\"max-width:400px\">\n",
    "--------------------------------------------------------\n"
   ]
  },
  {
   "cell_type": "markdown",
   "metadata": {},
   "source": [
    "## 1. Ordered Traversals\n",
    "An ordered traversal is simply a design pattern. You're allowed to alter your algorithm design to meet solution requirements, but if so doing, you may violate the design principles laid out to perfectly match a design pattern.  The Design pattern is meant to help us abstract solution strategies into re-usable concepts for achieving expected behavior.\n",
    "\n",
    "Below is my own mental-model of how Ordered Traversals can be conceptualized.\n",
    "\n",
    "The \"Sensor\" exists as a west-pointing element. Following a Border-Traversal flow, we'd execute some logic in a left-to-right-level-order-traversal way. See image below.\n",
    "<img src=\"https://imgur.com/qWmkTej.png\" style=\"max-width:400px\">\n"
   ]
  },
  {
   "cell_type": "markdown",
   "metadata": {},
   "source": [
    "**ALL** iterative traversals use a _Stack_ as a general design pattern. Some different _Stack_ ADT are \n",
    "- array.\n",
    "- linked list.\n",
    "- de-queue."
   ]
  },
  {
   "cell_type": "code",
   "execution_count": null,
   "metadata": {},
   "outputs": [],
   "source": [
    "class Stack:\n",
    "    def __init__(self):\n",
    "        self.stack = []\n",
    "\n",
    "    def push(self, val):\n",
    "        self.stack.append(val)\n",
    "\n",
    "    def pop(self):\n",
    "        return self.stack.pop()\n",
    "\n",
    "    def is_empty(self):\n",
    "        return len(self.stack) == 0"
   ]
  },
  {
   "cell_type": "markdown",
   "metadata": {},
   "source": [
    "1. **Pre-Order**\n",
    "    1. *Design Pattern*:\n",
    "        - **Do some work**\n",
    "        - Call Left child\n",
    "        - Call Right child\n",
    "    2. Recursive:"
   ]
  },
  {
   "cell_type": "code",
   "execution_count": null,
   "metadata": {},
   "outputs": [],
   "source": [
    "def pre_order(root):\n",
    "    if not root:\n",
    "        return\n",
    "    do_work()\n",
    "    if root.left:\n",
    "        pre_order(root.left)\n",
    "    if root.right:\n",
    "        pre_order(root.right)"
   ]
  },
  {
   "cell_type": "markdown",
   "metadata": {},
   "source": [
    "<img src=\"https://imgur.com/WNXTlIp.png\" style=\"max-width:200px\">\n",
    "We can imagine a \"sensor\" on the left-hand-side of each node that would emit the Node's work, whenever we do a boundary walk and come into activation proximity of the \"sensor\"."
   ]
  },
  {
   "cell_type": "markdown",
   "metadata": {},
   "source": [
    "1. ...\n",
    "    3. Iterative"
   ]
  },
  {
   "cell_type": "code",
   "execution_count": null,
   "metadata": {},
   "outputs": [],
   "source": [
    "def pre_order_traversal(root=None, results=[]):\n",
    "    if root is None:\n",
    "        return results\n",
    "    stack = [root]\n",
    "    while stack:\n",
    "        node = stack.pop()\n",
    "        results.append(node.value)\n",
    "        [stack.append(n) for n in (node.right, node.left) if n]\n",
    "    return results"
   ]
  },
  {
   "cell_type": "markdown",
   "metadata": {},
   "source": [
    "<img src=\"https://imgur.com/BGPBqOQ.png\" style=\"max-width:200px\">\n",
    "\n",
    "1. ...\n",
    "    4. Key Takeaways:\n",
    "        Pre-Order is intended to mimic DFS traversal. If you find yourself writing a DFS solution, or think that a DFS approach will solve the problem, you're likely considering a Pre-Order traversal design pattern implicitly.\n",
    "--------------------------------------------------------\n",
    "2. **In-Order Traversal**\n",
    "    1. _Design Pattern_\n",
    "        - Call left child\n",
    "        - **Do Work**\n",
    "        - Call right child\n",
    "    2. Recursive\n",
    "<img src=\"https://imgur.com/ujqnFih.png\" style=\"max-width:200px\">"
   ]
  },
  {
   "cell_type": "code",
   "execution_count": null,
   "metadata": {},
   "outputs": [],
   "source": [
    "def in_order(root):\n",
    "    if not root: return\n",
    "    if root.left:\n",
    "        in_order(root.left)\n",
    "    do_work()\n",
    "    if root.right:\n",
    "        in_order(root.right)"
   ]
  },
  {
   "cell_type": "markdown",
   "metadata": {},
   "source": [
    "<img src=\"https://imgur.com/qGECZ29.png\" style=\"max-width:200px\">\n",
    "\n",
    "2. ...\n",
    "    3. Iterative"
   ]
  },
  {
   "cell_type": "code",
   "execution_count": null,
   "metadata": {},
   "outputs": [],
   "source": [
    "def in_order_traversal(root=None, results=[]):\n",
    "    if root is None:\n",
    "        root = results\n",
    "    stack = []\n",
    "    node = root\n",
    "    while True:\n",
    "        if node is not None:\n",
    "            stack.append(node)\n",
    "            node = node.left\n",
    "        elif stack:\n",
    "            node = stack.pop()\n",
    "            results.append(node.value)\n",
    "            node = node.right\n",
    "        else:\n",
    "            break\n",
    "    return results"
   ]
  },
  {
   "cell_type": "markdown",
   "metadata": {},
   "source": [
    "* The _Iterative In-Order_ code-structure is the same as the other iterative approaches, but it does have some quarks.\n",
    "    1. Our while condition cannot depend on the stack not being empty since we initially have the stack empty as we only want to start appending children to the stack; specifically the **left children first**.\n",
    "    2. Only after we **pop** from the stack, do we then add the **right children second**.\n",
    "    3. Finally once the stack is empty, and our pointer _node_ is also `None` are we ready to break from the while-loop."
   ]
  },
  {
   "cell_type": "markdown",
   "metadata": {},
   "source": [
    "--------------------------------------------------------\n",
    "\n",
    "3. **Post-Order**\n",
    "    1. _Design Pattern_\n",
    "        - Call Left Child\n",
    "        - Call Right Child\n",
    "        - **Do Work**\n",
    "    2. Recursive"
   ]
  },
  {
   "cell_type": "code",
   "execution_count": null,
   "metadata": {},
   "outputs": [],
   "source": [
    "def post_order(root):\n",
    "    if not root: return\n",
    "    if root.left:\n",
    "        post_order(root.left)\n",
    "    if root.right:\n",
    "        post_order(root.right)\n",
    "    do_work()"
   ]
  },
  {
   "cell_type": "markdown",
   "metadata": {},
   "source": [
    "<img src=\"https://imgur.com/ZjZYnCU.png\" style=\"max-width:200px\">\n",
    "\n",
    "\n",
    "3. ...\n",
    "    3. Iterative: The _most complicated_ version of all 3, but arguably the **most useful**.\n",
    "        - Since `post-order` traversal mimics `bottom-up recursion` we'd do well to be intimitately familiar with its design pattern."
   ]
  },
  {
   "cell_type": "code",
   "execution_count": null,
   "metadata": {},
   "outputs": [],
   "source": [
    "def post_order_traversal(root=None):\n",
    "    results = []\n",
    "    if not root:\n",
    "        return results\n",
    "    prev = None\n",
    "    stack = []\n",
    "    while root or stack:\n",
    "        if root:\n",
    "            stack.append(root)\n",
    "            root = root.left\n",
    "        else:\n",
    "            root = stack[-1]\n",
    "            if root.right is None or root.right is prev:\n",
    "                results.append(stack.pop().value)\n",
    "                prev = root\n",
    "                root = None\n",
    "            else:\n",
    "                root = root.right\n",
    "    return results\n"
   ]
  },
  {
   "cell_type": "markdown",
   "metadata": {},
   "source": [
    "* The _Iterative Post-Order_ is a bit of an onion to peel back. There's 3 key steps.\n",
    "    1. Similar to _In-Order_ we want to focs on the left children first, but not add them to the `stack`, or the `results` list quite yet. We're simply doing a DFS anytime we can.\n",
    "    2. Once we've found a `None` value at our pointer `root`, we have 2 possible outcomes:\n",
    "        1. We need to **travel right** (see #3 below)\n",
    "        2. Or we need to **pop** and **save** a value from the stack.\n",
    "    3. We choose between the two next options by first assigning the pointer to the top of the stack\n",
    "        1. Now we check if our pointer is a leaf node `if root.right is None ... `. if so, we know we need to **save** the node value and mark the node as _visited_ using the `prev` pointer.\n",
    "        2. Otherwise we check if our pointer has seen the right node already `root.right is prev...`. If so, we know we're done looking at this subtree, so we can safely pop it off the stack and save it's value, marking it as _visited_ using the `prev` pointer.\n",
    "    4. Finally, our third situation is we've finished travelling down the left-subtree, now we need to travel down the right-subtree.\n",
    "* **Bottom-Up Problem Solving Strategy**:\n",
    "    * Whenever we pop from the stack:\n",
    "        - Code:\n",
    "            ```python\n",
    "            if root.right is None or root.right is pre:\n",
    "                # Section 1\n",
    "                results.append(stack.pop().value)\n",
    "                pre = root\n",
    "                root = None\n",
    "            ```\n",
    "        - The current node's subtree has been completely visited.\n",
    "        - We've travelled from the **root** to **all leaf nodes** below us.\n",
    "    * Whenever we travel right:\n",
    "        - Code:\n",
    "            ```python\n",
    "            if root.right is None or root.right is pre:\n",
    "                # ...\n",
    "            else:\n",
    "                # Section 2\n",
    "                root = root.right\n",
    "            ```\n",
    "        - The current node is the **root of the subtree**!\n",
    "        - We've travelled the entire left-side of the current node's subtree.\n",
    "    * **Strategies**:\n",
    "        - Using the above information, we can collect info about all our children at `Section 1` and act on it; like giving it to our parent node node for consumption.\n",
    "        - We can split information between our subtrees at `Section 2`."
   ]
  },
  {
   "cell_type": "markdown",
   "metadata": {},
   "source": [
    "3. ...\n",
    "    4. TakeAways:\n",
    "        - Post-Order traversal is uniquely qualified as a \"Bottom-Up\" approach.\n",
    "        - The design pattern is intended to only do some work after traversing all of it's children, having gathered information about those children that will be returned back to the parent.\n",
    "        - Extremely useful and _often utilized_ for solving problems.\n",
    "4. **Level-Order Traversal**\n",
    "    1. _Design Pattern_:\n",
    "        - Uses Queue\n",
    "        - Iterates through length of Queue: Simulating a lateral traversal at the current level.\n",
    "        - For each i: Pops the node from the Queue.\n",
    "        - For each i: Does Work\n",
    "        - For each i: Adds Left Child of i'th node into Queue.\n",
    "        - For each i: Adds Right Child of i'th node into Queue.\n",
    "    2. Recursive:\n",
    "        - No implementation can garauntee the intended result, so we do not have a recursive solution.\n",
    "    3. Iterative"
   ]
  },
  {
   "cell_type": "code",
   "execution_count": null,
   "metadata": {},
   "outputs": [],
   "source": [
    "from collections import deque as queue\n",
    "\n",
    "def level_order(root):\n",
    "    if not root: return\n",
    "    q = queue([root])\n",
    "    while q:\n",
    "        for i in range(0, q.length):\n",
    "            node = q.pop()\n",
    "            do_work()\n",
    "            if node.left:\n",
    "                q.appendleft(node.left)\n",
    "            if node.right:\n",
    "                q.appendleft(node.right)"
   ]
  },
  {
   "cell_type": "markdown",
   "metadata": {},
   "source": [
    "4. ...\n",
    "    3. ...\n",
    "        - It's important to realize the # of nodes we're eating up in the Queue is equal to the size of the Q at the moment we *start*. As we eat, we append the next-levels-worth of nodes that it will eat, stopping before we eat any nodes we have queue'd.\n",
    "        - The placement of `do_work()` is not important to honoring the overall design pattern in relation to when we en-queue `node.left` or `node.right`, before/after/in-between are all ok.\n",
    "        - This patterns is very similar to Breadth-First-Search (_BFS_), but different:\n",
    "            * _BFS_ is intended mostly for Graph's, not Tree's, so it's enqueue-action is dependent upon how many _neighbors_ it finds connected to itself. If a neighbor to the current `node` is found, then it will `enqueue` that neighbor.\n",
    "            * _BFS_ typically keeps track of which node's it's visited and not. So extra state (`visited = []`) is kept during _BFS_. Other than those details, the structure is exactly the same as In-Order traversal.\n",
    "-----------------------------\n",
    "\n",
    "## Boundary Walks\n",
    "1. _Solution Template_: Given some problem tree, and some problem definition we can start by asking some key questions.\n",
    "    * > Is the problem asking for Family relationships? i.e. Parent-Child/Child-Parent relationship?\n",
    "        - Words like: `sub-tree`, `longest-path`, `total sum`, `max/min`, `average`?\n",
    "        - If `yes` then reach for a traversal algorithm as they will travel the boundry of the tree.\n",
    "            * `Pre-Order`: DFS-like.\n",
    "            * `Post-Order`: Reversed DFS-like.\n",
    "        - If `no` then a Brute-Force approach may be better:\n",
    "            * Words like: `Permuation`, `Combination`, `All subsets`.\n",
    "    * > Is the problem asking for information that can be found from child nodes, and given to parent?\n",
    "        - If `yes` then a traversal that collects info from all children *first* then gives that information to the parent *second* would be `pre-order` or `in-order` traversals.\n",
    "    * > Is the problem asking for information that can be found form a single child?\n",
    "        - If `yes` then reach for `in-order` traversal, as we'll collect info from the left children, then give it to the parent, then collect information from the right children and give it to the parent.\n",
    "-----------------------------\n",
    "\n",
    "## Bottom-Up & Top-Down\n",
    "0. Mental-Model: I find it highly intuitive to think of these types as a _Producer-Consumer_ design pattern.  Who is the _Producer_ and who is the _Consumer_? The answer depends on which strategy i use: **BU** or **TD**.\n",
    "1. _Top-Down_ is going to be `pre-order` traversal. The _Parent_ will be the _Producer_ and the _Child_ will be the _Consumer_.  Because as a parent-node, i want to produce a semi-solution as I call my next child and make them update that solution; i.e. Parent will pass information _down_ to my ancestors so they can do some work. After they do some work, they will call their children passing the information down yet again; typically returning without giving me anything. When they return, i simply know they _consumed_ the information i gave them to consume.\n",
    "    1. Say we have the following function called `fun()`"
   ]
  },
  {
   "cell_type": "code",
   "execution_count": 3,
   "metadata": {},
   "outputs": [
    {
     "data": {
      "text/plain": [
       "91"
      ]
     },
     "execution_count": 3,
     "metadata": {},
     "output_type": "execute_result"
    }
   ],
   "source": [
    "def fun(n):\n",
    "    if n > 100:\n",
    "        return n - 10\n",
    "    return fun(fun(n+11))\n",
    "fun(95)"
   ]
  },
  {
   "cell_type": "markdown",
   "metadata": {},
   "source": [
    "    1. The image below describes the tracing tree for this function. As we can see, we're doing some work before the call to deepen our depth in the call-stack.  The work being done is simply adding 1 to the current tree-level call in an indirect way. But this would be considered producing some type of work that we want to pass off to our child calls and ask them to consume it.  Once we've reached the maximum depth, the child calls, simply return the final result all the way up the call stack without doing any additional work. This is **Top-Down**.\n",
    "\n",
    "<img src=\"https://imgur.com/RwSCHim.png\" style=\"max-width:400px\">"
   ]
  },
  {
   "cell_type": "markdown",
   "metadata": {},
   "source": [
    "2. _Bottom-Up_ is going to be `post-order` traversal. The _Parent_ will be the _Consumer_ and the _Child_ will be the _Producer_. Because as a parent-node, i want to collect information about all my ancestors first before doing work, consuming the information they gave me as producers of that information.  We say \"Bottom-Up\" because the information is being passed UP the call-stack, starting from the BOTTOM of the tree.\n",
    "    1. Say we have the following compositional-recursive function `sum_natural_nums()`"
   ]
  },
  {
   "cell_type": "code",
   "execution_count": 7,
   "metadata": {},
   "outputs": [
    {
     "data": {
      "text/plain": [
       "15"
      ]
     },
     "execution_count": 7,
     "metadata": {},
     "output_type": "execute_result"
    }
   ],
   "source": [
    "def sum_natural_nums(n):\n",
    "    if n == 0:\n",
    "        return n\n",
    "    return sum_natural_nums(n - 1) + n\n",
    "sum_natural_nums(5)"
   ]
  },
  {
   "cell_type": "markdown",
   "metadata": {},
   "source": [
    "    2. The work being done is after we begin returning up the call-stack. This is what is defined as \"Bottom-Up\".\n",
    "\n",
    "<img src=\"https://imgur.com/U7g6Ysk.png\" style=\"max-width:200px\">"
   ]
  },
  {
   "cell_type": "markdown",
   "metadata": {},
   "source": [
    "3. **BU**: Is a useful pattern since almost any _recursive BU_ solution can be traslated into a **Dynamic Programming (DP)** iterative solution. BU is the heart of DP and why DP exists! To optimize BU soultions into iterative solutions, rather than recursive ones to eliminate call-stack consumption.\n",
    "4. **TD**: Is a super useful pattern for _recursive_ solutions as it leverages the idea that I have some ideal state, and I want to de-construct that state into smaller parts, to extract some other, smaller ideal state; the solution i'm looking for."
   ]
  }
 ],
 "metadata": {
  "kernelspec": {
   "display_name": "Python 3.8.9 ('env': venv)",
   "language": "python",
   "name": "python3"
  },
  "language_info": {
   "codemirror_mode": {
    "name": "ipython",
    "version": 3
   },
   "file_extension": ".py",
   "mimetype": "text/x-python",
   "name": "python",
   "nbconvert_exporter": "python",
   "pygments_lexer": "ipython3",
   "version": "3.8.9"
  },
  "orig_nbformat": 4,
  "vscode": {
   "interpreter": {
    "hash": "7567341d4109f7d7c109ca0cef11eb54bdf88081d7a72c6faa88d24a2db59b1f"
   }
  }
 },
 "nbformat": 4,
 "nbformat_minor": 2
}
