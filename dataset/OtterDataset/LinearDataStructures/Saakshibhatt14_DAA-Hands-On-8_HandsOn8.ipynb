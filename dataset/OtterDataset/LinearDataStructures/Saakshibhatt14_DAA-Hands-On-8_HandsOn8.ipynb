{
  "nbformat": 4,
  "nbformat_minor": 0,
  "metadata": {
    "colab": {
      "provenance": []
    },
    "kernelspec": {
      "name": "python3",
      "display_name": "Python 3"
    },
    "language_info": {
      "name": "python"
    }
  },
  "cells": [
    {
      "cell_type": "markdown",
      "source": [
        "1. Leverage your implementation of quicksort to implement the ith order statistic. Demonstrate it's working via an example. Upload your code to github."
      ],
      "metadata": {
        "id": "eY_Dwv2w3qSx"
      }
    },
    {
      "cell_type": "code",
      "source": [
        "def partition(arr, low, high):\n",
        "    pivot = arr[high]\n",
        "    i = low - 1\n",
        "    for j in range(low, high):\n",
        "        if arr[j] <= pivot:\n",
        "            i += 1\n",
        "            arr[i], arr[j] = arr[j], arr[i]\n",
        "    arr[i + 1], arr[high] = arr[high], arr[i + 1]\n",
        "    return i + 1\n",
        "\n",
        "def quicksort(arr, low, high):\n",
        "    if low < high:\n",
        "        pi = partition(arr, low, high)\n",
        "        quicksort(arr, low, pi - 1)\n",
        "        quicksort(arr, pi + 1, high)\n",
        "\n",
        "def ith_order_statistic(arr, i):\n",
        "    quicksort(arr, 0, len(arr) - 1)\n",
        "    return arr[i - 1]\n",
        "\n",
        "# Example usage:\n",
        "arr = [7, 6, 4, 10, 5, 3]\n",
        "i = 4\n",
        "print(f\"The {i}nd order statistic is: {ith_order_statistic(arr, i)}\")"
      ],
      "metadata": {
        "colab": {
          "base_uri": "https://localhost:8080/"
        },
        "id": "kqOl3scs3rXn",
        "outputId": "2202d16f-89c7-431c-b437-b19eb870cbd6"
      },
      "execution_count": 3,
      "outputs": [
        {
          "output_type": "stream",
          "name": "stdout",
          "text": [
            "The 4nd order statistic is: 6\n"
          ]
        }
      ]
    },
    {
      "cell_type": "markdown",
      "source": [
        "2. Implement and upload your source code to github for: stack, queue, and singly linked list. Make sure to implement the same functionality (api/interface) as the ones from the book.  *Restriction*: Use fixed sized arrays (C style arrays) and assume only integers (C style int) for the data to store."
      ],
      "metadata": {
        "id": "AjITDLvs38He"
      }
    },
    {
      "cell_type": "code",
      "source": [
        "# Implementation of Stack\n",
        "class Stack:\n",
        "    def __init__(self, max_size):\n",
        "        self.max_size = max_size\n",
        "        self.stack = [0] * max_size\n",
        "        self.top = -1\n",
        "\n",
        "    def is_empty(self):\n",
        "        return self.top == -1\n",
        "\n",
        "    def is_full(self):\n",
        "        return self.top == self.max_size - 1\n",
        "\n",
        "    def push(self, value):\n",
        "        if self.is_full():\n",
        "            print(\"Stack Overflow\")\n",
        "            return\n",
        "        self.top += 1\n",
        "        self.stack[self.top] = value\n",
        "\n",
        "    def pop(self):\n",
        "        if self.is_empty():\n",
        "            print(\"Stack Underflow\")\n",
        "            return None\n",
        "        value = self.stack[self.top]\n",
        "        self.top -= 1\n",
        "        return value\n",
        "\n",
        "    def peek(self):\n",
        "        if self.is_empty():\n",
        "            print(\"Stack is empty\")\n",
        "            return None\n",
        "        return self.stack[self.top]\n",
        "\n",
        "    def display(self):\n",
        "        if self.is_empty():\n",
        "            print(\"Stack is empty\")\n",
        "            return\n",
        "        for i in range(self.top, -1, -1):\n",
        "            print(self.stack[i])\n",
        "\n",
        "\n",
        "stack = Stack(5)\n",
        "stack.push(1)\n",
        "stack.push(2)\n",
        "stack.push(3)\n",
        "stack.push(4)\n",
        "stack.push(5)\n",
        "stack.push(6)  # Stack Overflow\n",
        "stack.display()\n",
        "print(\"Popped:\", stack.pop())\n",
        "print(\"Top element:\", stack.peek())\n",
        "stack.display()"
      ],
      "metadata": {
        "colab": {
          "base_uri": "https://localhost:8080/"
        },
        "id": "askVXw-84A4r",
        "outputId": "5d1d2396-67d6-48fd-c6b0-4bb8627d423b"
      },
      "execution_count": 5,
      "outputs": [
        {
          "output_type": "stream",
          "name": "stdout",
          "text": [
            "Stack Overflow\n",
            "5\n",
            "4\n",
            "3\n",
            "2\n",
            "1\n",
            "Popped: 5\n",
            "Top element: 4\n",
            "4\n",
            "3\n",
            "2\n",
            "1\n"
          ]
        }
      ]
    },
    {
      "cell_type": "code",
      "source": [
        "# Implementation of Queue\n",
        "class Queue:\n",
        "    def __init__(self, max_size):\n",
        "        self.max_size = max_size\n",
        "        self.queue = [0] * max_size\n",
        "        self.front = 0\n",
        "        self.rear = -1\n",
        "        self.size = 0\n",
        "\n",
        "    def is_empty(self):\n",
        "        return self.size == 0\n",
        "\n",
        "    def is_full(self):\n",
        "        return self.size == self.max_size\n",
        "\n",
        "    def enqueue(self, value):\n",
        "        if self.is_full():\n",
        "            print(\"Queue Overflow\")\n",
        "            return\n",
        "        self.rear = (self.rear + 1) % self.max_size\n",
        "        self.queue[self.rear] = value\n",
        "        self.size += 1\n",
        "\n",
        "    def dequeue(self):\n",
        "        if self.is_empty():\n",
        "            print(\"Queue Underflow\")\n",
        "            return None\n",
        "        value = self.queue[self.front]\n",
        "        self.front = (self.front + 1) % self.max_size\n",
        "        self.size -= 1\n",
        "        return value\n",
        "\n",
        "    def peek(self):\n",
        "        if self.is_empty():\n",
        "            print(\"Queue is empty\")\n",
        "            return None\n",
        "        return self.queue[self.front]\n",
        "\n",
        "    def display(self):\n",
        "        if self.is_empty():\n",
        "            print(\"Queue is empty\")\n",
        "            return\n",
        "        i = self.front\n",
        "        while i != self.rear:\n",
        "            print(self.queue[i])\n",
        "            i = (i + 1) % self.max_size\n",
        "        print(self.queue[self.rear])\n",
        "\n",
        "queue = Queue(5)\n",
        "queue.enqueue(1)\n",
        "queue.enqueue(2)\n",
        "queue.enqueue(3)\n",
        "queue.enqueue(4)\n",
        "queue.enqueue(5)\n",
        "queue.enqueue(6)  # Queue Overflow\n",
        "queue.display()\n",
        "print(\"Dequeued:\", queue.dequeue())\n",
        "print(\"Front element:\", queue.peek())\n",
        "queue.display()"
      ],
      "metadata": {
        "colab": {
          "base_uri": "https://localhost:8080/"
        },
        "id": "J80gKzQC4Xnz",
        "outputId": "f3b996f9-606f-48ec-ab58-f162428df85a"
      },
      "execution_count": 7,
      "outputs": [
        {
          "output_type": "stream",
          "name": "stdout",
          "text": [
            "Queue Overflow\n",
            "1\n",
            "2\n",
            "3\n",
            "4\n",
            "5\n",
            "Dequeued: 1\n",
            "Front element: 2\n",
            "2\n",
            "3\n",
            "4\n",
            "5\n"
          ]
        }
      ]
    },
    {
      "cell_type": "code",
      "source": [
        "# Implementation if Linked List\n",
        "class Node:\n",
        "    def __init__(self, data):\n",
        "        self.data = data\n",
        "        self.next = None\n",
        "\n",
        "\n",
        "class LinkedList:\n",
        "    def __init__(self):\n",
        "        self.head = None\n",
        "\n",
        "    def is_empty(self):\n",
        "        return self.head is None\n",
        "\n",
        "    def insert_at_beginning(self, data):\n",
        "        new_node = Node(data)\n",
        "        new_node.next = self.head\n",
        "        self.head = new_node\n",
        "\n",
        "    def insert_at_end(self, data):\n",
        "        new_node = Node(data)\n",
        "        if self.head is None:\n",
        "            self.head = new_node\n",
        "            return\n",
        "        last_node = self.head\n",
        "        while last_node.next:\n",
        "            last_node = last_node.next\n",
        "        last_node.next = new_node\n",
        "\n",
        "    def delete_at_beginning(self):\n",
        "        if self.head is None:\n",
        "            print(\"List is empty\")\n",
        "            return None\n",
        "        data = self.head.data\n",
        "        self.head = self.head.next\n",
        "        return data\n",
        "\n",
        "    def delete_at_end(self):\n",
        "        if self.head is None:\n",
        "            print(\"List is empty\")\n",
        "            return None\n",
        "        if self.head.next is None:\n",
        "            data = self.head.data\n",
        "            self.head = None\n",
        "            return data\n",
        "        second_last = self.head\n",
        "        while second_last.next.next:\n",
        "            second_last = second_last.next\n",
        "        data = second_last.next.data\n",
        "        second_last.next = None\n",
        "        return data\n",
        "\n",
        "    def display(self):\n",
        "        current = self.head\n",
        "        while current:\n",
        "            print(current.data)\n",
        "            current = current.next\n",
        "\n",
        "linked_list = LinkedList()\n",
        "linked_list.insert_at_end(1)\n",
        "linked_list.insert_at_end(2)\n",
        "linked_list.insert_at_end(3)\n",
        "linked_list.insert_at_end(4)\n",
        "linked_list.insert_at_end(5)\n",
        "linked_list.display()\n",
        "print(\"Deleted from beginning:\", linked_list.delete_at_beginning())\n",
        "print(\"Deleted from end:\", linked_list.delete_at_end())\n",
        "linked_list.display()"
      ],
      "metadata": {
        "colab": {
          "base_uri": "https://localhost:8080/"
        },
        "id": "09tOq3-f4u2t",
        "outputId": "a8d81daf-d2b7-46b8-e4ca-b9b23b22607c"
      },
      "execution_count": 8,
      "outputs": [
        {
          "output_type": "stream",
          "name": "stdout",
          "text": [
            "1\n",
            "2\n",
            "3\n",
            "4\n",
            "5\n",
            "Deleted from beginning: 1\n",
            "Deleted from end: 5\n",
            "2\n",
            "3\n",
            "4\n"
          ]
        }
      ]
    }
  ]
}