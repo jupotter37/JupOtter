{
 "cells": [
  {
   "cell_type": "code",
   "execution_count": 1,
   "metadata": {},
   "outputs": [],
   "source": [
    "class Empty(Exception):\n",
    "    pass"
   ]
  },
  {
   "cell_type": "markdown",
   "metadata": {},
   "source": [
    "## Queue Implementation"
   ]
  },
  {
   "cell_type": "code",
   "execution_count": 2,
   "metadata": {},
   "outputs": [],
   "source": [
    "class LinkedListQueue:\n",
    "    '''FIFO Queue implementation using singly linked list as the underlying data structure.'''\n",
    "    \n",
    "    class _Node:\n",
    "        '''Nested class that implements the linkedlist data structure.'''\n",
    "        __slots__ = '_element', '_next'\n",
    "        \n",
    "        def __init__(self, element, node):\n",
    "            self._element = element\n",
    "            self._next = node\n",
    "    \n",
    "    def __init__(self, size=1):\n",
    "        '''Create an empty queue.'''\n",
    "        self._head = None\n",
    "        self._tail = None\n",
    "        self._size = 0\n",
    "    \n",
    "    def __len__(self):\n",
    "        '''Return the number of elements in the queue.'''\n",
    "        return self._size\n",
    "    \n",
    "    def enqueue(self, e):\n",
    "        '''Add an element to the end of the queue.'''\n",
    "        new_node = self._Node(e, None)\n",
    "        if self.is_empty():\n",
    "            self._head = new_node\n",
    "        else:\n",
    "            self._tail._next = new_node\n",
    "        self._tail = new_node\n",
    "        self._size += 1\n",
    "        \n",
    "    def dequeue(self):\n",
    "        '''Remove and return the element from the beginning of the queue.'''\n",
    "        if self.is_empty():\n",
    "            raise Empty('Queue underflow')\n",
    "        element = self._head._element\n",
    "        self._head = self._head._next\n",
    "        self._size -=1\n",
    "        if self.is_empty():\n",
    "            self._tail = None\n",
    "        return element\n",
    "\n",
    "    def first(self):\n",
    "        '''Return the first element of the queue.'''\n",
    "        if self.is_empty():\n",
    "            raise Empty('Queue underflow')\n",
    "        return self._head._element\n",
    "    \n",
    "    def is_empty(self):\n",
    "        '''Return True if the queue is empty.'''\n",
    "        return self._size == 0\n",
    "    \n",
    "    def reverse(self):\n",
    "        '''Non-destrucive reverse. Returns new instance of Queue with reversed element.'''\n",
    "        Q = LinkedListQueue()\n",
    "        S = LinkedListStack()\n",
    "        current_node = self._head\n",
    "        \n",
    "        while current_node:\n",
    "            S.push(current_node._element)\n",
    "            current_node = current_node._next\n",
    "        \n",
    "        while not S.is_empty():\n",
    "            Q.enqueue(S.pop())\n",
    "        \n",
    "        return Q\n",
    "    \n",
    "    def __iter__(self):\n",
    "        '''Return the class itself as an iterator.'''\n",
    "        self._current_node = self._head\n",
    "        return self\n",
    "    \n",
    "    def __next__(self):\n",
    "        '''Returns the next element in the queue or raise StopIteration error.'''\n",
    "        if not self._current_node:\n",
    "            raise StopIteration()\n",
    "        element = self._current_node._element\n",
    "        self._current_node = self._current_node._next\n",
    "        return element"
   ]
  },
  {
   "cell_type": "code",
   "execution_count": 3,
   "metadata": {},
   "outputs": [
    {
     "data": {
      "text/plain": [
       "(2, 5)"
      ]
     },
     "execution_count": 3,
     "metadata": {},
     "output_type": "execute_result"
    }
   ],
   "source": [
    "Q = LinkedListQueue()\n",
    "Q.enqueue(5)\n",
    "Q.enqueue(3)\n",
    "len(Q), Q.first()"
   ]
  },
  {
   "cell_type": "code",
   "execution_count": 4,
   "metadata": {},
   "outputs": [
    {
     "data": {
      "text/plain": [
       "False"
      ]
     },
     "execution_count": 4,
     "metadata": {},
     "output_type": "execute_result"
    }
   ],
   "source": [
    "Q.is_empty()"
   ]
  },
  {
   "cell_type": "code",
   "execution_count": 5,
   "metadata": {},
   "outputs": [
    {
     "data": {
      "text/plain": [
       "5"
      ]
     },
     "execution_count": 5,
     "metadata": {},
     "output_type": "execute_result"
    }
   ],
   "source": [
    "Q.enqueue(50)\n",
    "Q.enqueue(500)\n",
    "Q.enqueue(.5)\n",
    "len(Q)"
   ]
  },
  {
   "cell_type": "code",
   "execution_count": 6,
   "metadata": {},
   "outputs": [
    {
     "data": {
      "text/plain": [
       "5"
      ]
     },
     "execution_count": 6,
     "metadata": {},
     "output_type": "execute_result"
    }
   ],
   "source": [
    "Q.dequeue()"
   ]
  },
  {
   "cell_type": "code",
   "execution_count": 7,
   "metadata": {},
   "outputs": [
    {
     "data": {
      "text/plain": [
       "4"
      ]
     },
     "execution_count": 7,
     "metadata": {},
     "output_type": "execute_result"
    }
   ],
   "source": [
    "len(Q)"
   ]
  },
  {
   "cell_type": "code",
   "execution_count": 8,
   "metadata": {},
   "outputs": [
    {
     "name": "stdout",
     "output_type": "stream",
     "text": [
      "3\n",
      "50\n",
      "500\n",
      "0.5\n"
     ]
    }
   ],
   "source": [
    "for q in Q:\n",
    "    print(q)"
   ]
  },
  {
   "cell_type": "markdown",
   "metadata": {
    "heading_collapsed": true
   },
   "source": [
    "# Circularly Linked List"
   ]
  },
  {
   "cell_type": "markdown",
   "metadata": {
    "hidden": true
   },
   "source": [
    "It is very useful when we `dequeue` and `enqueue` the same element back to back. So instead of doing two operations at the same time (`dequeue` followed by `enqueue`), we can keep a reference to the tail node that always reference its next pointer to the head node. Therefore, we can use `rotate` method that make the head as new tail in one operation. It is very useful in applications such as Round-Robin Schedulers where resources are shared between a collection of elements such as processes."
   ]
  },
  {
   "cell_type": "code",
   "execution_count": 9,
   "metadata": {
    "hidden": true
   },
   "outputs": [],
   "source": [
    "class LinkedListQueue:\n",
    "    '''FIFO Queue implementation using circularly linked list as the underlying data structure.'''\n",
    "    \n",
    "    class _Node:\n",
    "        '''Nested class that implements the linkedlist data structure.'''\n",
    "        __slots__ = '_element', '_next'\n",
    "        \n",
    "        def __init__(self, element, node):\n",
    "            self._element = element\n",
    "            self._next = node\n",
    "    \n",
    "    def __init__(self, size=1):\n",
    "        '''Create an empty queue.'''\n",
    "        self._tail = None\n",
    "        self._size = 0\n",
    "    \n",
    "    def __len__(self):\n",
    "        '''Return the number of elements in the queue.'''\n",
    "        return self._size\n",
    "    \n",
    "    def enqueue(self, e):\n",
    "        '''Add an element to the end of the queue.'''\n",
    "        new_node = self._Node(e, None)\n",
    "        if self.is_empty():\n",
    "            new_node._next = new_node\n",
    "        else:\n",
    "            new_node._next = self._tail._next\n",
    "            self._tail._next = new_node\n",
    "        self._tail = new_node\n",
    "        self._size += 1\n",
    "        \n",
    "    def dequeue(self):\n",
    "        '''Remove and return the element from the beginning of the queue.'''\n",
    "        if self.is_empty():\n",
    "            raise Empty('Queue underflow.')\n",
    "        head = self._tail._next\n",
    "        element = head._element\n",
    "        self._size -=1\n",
    "        if self.is_empty():\n",
    "            self._tail = None\n",
    "        else:\n",
    "            self._tail._next = head._next\n",
    "        return element\n",
    "\n",
    "    def first(self):\n",
    "        '''Return the first element of the queue.'''\n",
    "        if self.is_empty():\n",
    "            raise Empty('Queue is empty.')\n",
    "        head = self._tail._next\n",
    "        return head._element\n",
    "    \n",
    "    def is_empty(self):\n",
    "        '''Return True if the queue is empty.'''\n",
    "        return self._size == 0\n",
    "    \n",
    "    def rotate(self):\n",
    "        '''Rotate front element to the back of the queue.'''\n",
    "        if self._size > 1:\n",
    "            self._tail = self._tail._next\n",
    "    \n",
    "    def __iter__(self):\n",
    "        '''Return the class itself as an iterator.'''\n",
    "        self._current_node = self._tail._next\n",
    "        self._counter = 0\n",
    "        return self\n",
    "    \n",
    "    def __next__(self):\n",
    "        '''Returns the next element in the queue or raise StopIteration error.'''\n",
    "        if self._counter >= self._size:\n",
    "            raise StopIteration()\n",
    "        element = self._current_node._element\n",
    "        self._current_node = self._current_node._next\n",
    "        self._counter += 1\n",
    "        return element"
   ]
  },
  {
   "cell_type": "code",
   "execution_count": 10,
   "metadata": {
    "hidden": true
   },
   "outputs": [
    {
     "data": {
      "text/plain": [
       "(2, 5)"
      ]
     },
     "execution_count": 10,
     "metadata": {},
     "output_type": "execute_result"
    }
   ],
   "source": [
    "Q = LinkedListQueue()\n",
    "Q.enqueue(5)\n",
    "Q.enqueue(3)\n",
    "len(Q), Q.first()"
   ]
  },
  {
   "cell_type": "code",
   "execution_count": 11,
   "metadata": {
    "hidden": true
   },
   "outputs": [
    {
     "data": {
      "text/plain": [
       "False"
      ]
     },
     "execution_count": 11,
     "metadata": {},
     "output_type": "execute_result"
    }
   ],
   "source": [
    "Q.is_empty()"
   ]
  },
  {
   "cell_type": "code",
   "execution_count": 12,
   "metadata": {
    "hidden": true
   },
   "outputs": [
    {
     "data": {
      "text/plain": [
       "5"
      ]
     },
     "execution_count": 12,
     "metadata": {},
     "output_type": "execute_result"
    }
   ],
   "source": [
    "Q.enqueue(50)\n",
    "Q.enqueue(500)\n",
    "Q.enqueue(.5)\n",
    "len(Q)"
   ]
  },
  {
   "cell_type": "code",
   "execution_count": 13,
   "metadata": {
    "hidden": true
   },
   "outputs": [
    {
     "data": {
      "text/plain": [
       "5"
      ]
     },
     "execution_count": 13,
     "metadata": {},
     "output_type": "execute_result"
    }
   ],
   "source": [
    "Q.dequeue()"
   ]
  },
  {
   "cell_type": "code",
   "execution_count": 14,
   "metadata": {
    "hidden": true
   },
   "outputs": [
    {
     "data": {
      "text/plain": [
       "4"
      ]
     },
     "execution_count": 14,
     "metadata": {},
     "output_type": "execute_result"
    }
   ],
   "source": [
    "len(Q)"
   ]
  },
  {
   "cell_type": "code",
   "execution_count": 15,
   "metadata": {
    "hidden": true
   },
   "outputs": [
    {
     "name": "stdout",
     "output_type": "stream",
     "text": [
      "3\n",
      "50\n",
      "500\n",
      "0.5\n"
     ]
    }
   ],
   "source": [
    "for q in Q:\n",
    "    print(q)"
   ]
  },
  {
   "cell_type": "code",
   "execution_count": 16,
   "metadata": {
    "hidden": true
   },
   "outputs": [],
   "source": [
    "Q.rotate()"
   ]
  },
  {
   "cell_type": "code",
   "execution_count": 17,
   "metadata": {
    "hidden": true
   },
   "outputs": [
    {
     "name": "stdout",
     "output_type": "stream",
     "text": [
      "50\n",
      "500\n",
      "0.5\n",
      "3\n"
     ]
    }
   ],
   "source": [
    "for q in Q:\n",
    "    print(q)"
   ]
  },
  {
   "cell_type": "markdown",
   "metadata": {},
   "source": [
    "# Doubly Linked List"
   ]
  },
  {
   "cell_type": "markdown",
   "metadata": {},
   "source": [
    "Instead of having a reference for only the node that immediately comes after it, each node would have references to two nodes: the previous node and the next node. With Circular **DLL**, the head node's previous reference would point towards the tail node and the tail node's next reference would point towards the head node. \n",
    "\n",
    "The main advantage of of **Doubly Linked List** over **Singly Linked List** is that we can delete the tail node with O(1). However, the deletion of interior nodes are not O(1). Note that we can traverse the **DLL** forward and backward."
   ]
  },
  {
   "cell_type": "code",
   "execution_count": 18,
   "metadata": {},
   "outputs": [],
   "source": [
    "class DoublyLinkedDeque:\n",
    "    '''\n",
    "    Implementation of Double-Ended Queues (Deque) using circular doubly linked\n",
    "    list as the underlying data structure.\n",
    "    '''\n",
    "    \n",
    "    class _Node:\n",
    "        '''Nested class that implements the doubly linkedlist data structure.'''\n",
    "        __slots__ = '_prev', '_element', '_next'\n",
    "        \n",
    "        def __init__(self, element, prev_node, next_node):\n",
    "            self._element = element\n",
    "            self._prev = prev_node\n",
    "            self._next = next_node\n",
    "\n",
    "    def __init__(self):\n",
    "        '''Create an empty deque.'''\n",
    "        self._size = 0\n",
    "        self._sentinel_front = self._Node(None, None, None)\n",
    "        self._sentinel_back = self._Node(None, None, None)\n",
    "        self._sentinel_front._next = self._sentinel_back\n",
    "        self._sentinel_back._prev = self._sentinel_front\n",
    "\n",
    "    def __len__(self):\n",
    "        '''Return the number of elements in the queue.'''\n",
    "        return self._size\n",
    "\n",
    "    def is_empty(self):\n",
    "        '''Return True if the queue is empty.'''\n",
    "        return self._size == 0\n",
    "\n",
    "    def first(self):\n",
    "        '''Return the first element of the deque.'''\n",
    "        if self.is_empty():\n",
    "            raise Empty('Deque is empty.')\n",
    "        head = self._sentinel_front._next\n",
    "        return head._element\n",
    "\n",
    "    def last(self):\n",
    "        '''Return the last element of the deque.'''\n",
    "        if self.is_empty():\n",
    "            raise Empty('Deque is empty.')\n",
    "        tail = self._sentinel_back._prev\n",
    "        return tail._element\n",
    "    \n",
    "    def add_first(self, e):\n",
    "        '''Add element to the front of the deque.'''\n",
    "        self._sentinel_front._next = self._Node(e, self._sentinel_front, self._sentinel_front._next)\n",
    "        self._sentinel_front._next._next._prev = self._sentinel_front._next\n",
    "        self._size += 1\n",
    "    \n",
    "    def add_last(self, e):\n",
    "        '''Add element to the back of the deque.'''\n",
    "        self._sentinel_back._prev._next = self._Node(e, self._sentinel_back._prev, self._sentinel_back)\n",
    "        self._sentinel_back._prev = self._sentinel_back._prev._next\n",
    "        self._size += 1\n",
    "\n",
    "    def remove_first(self):\n",
    "        '''Remove and return the first element from the deque.'''\n",
    "        if self.is_empty():\n",
    "            raise Empty('Deque is empty.')\n",
    "        self._sentinel_front._next = self._sentinel_front._next._next\n",
    "        self._sentinel_front._next._prev = self._sentinel_front\n",
    "        self._size -= 1\n",
    "\n",
    "    def remove_last(self):\n",
    "        '''Remove and return the last element from the deque.'''\n",
    "        if self.is_empty():\n",
    "            raise Empty('Deque is empty.')\n",
    "        self._sentinel_back._prev = self._sentinel_back._prev._prev\n",
    "        self._sentinel_back._prev._next = self._sentinel_back\n",
    "        self._size -= 1\n",
    "\n",
    "    def get(self, i):\n",
    "        '''Get the element at index i; otherwise return None'''\n",
    "        if self._size == 0 or i >= self._size:\n",
    "            return\n",
    "        \n",
    "        current_node = self._sentinel_front._next\n",
    "        for k in range(i):\n",
    "            current_node = current_node._next\n",
    "        return current_node._element\n",
    "    \n",
    "    def __iter__(self):\n",
    "        '''Return the class itself as an iterator.'''\n",
    "        self._current_node = self._sentinel_front._next\n",
    "        self._position = 0\n",
    "        return self\n",
    "    \n",
    "    def __next__(self):\n",
    "        '''Return next element in the deque or raise StopIteration error.'''\n",
    "        if self._position == self._size:\n",
    "            raise StopIteration()\n",
    "        \n",
    "        element = self._current_node._element\n",
    "        self._current_node = self._current_node._next\n",
    "        self._position += 1\n",
    "        return element"
   ]
  },
  {
   "cell_type": "code",
   "execution_count": 19,
   "metadata": {},
   "outputs": [],
   "source": [
    "DQ = DoublyLinkedDeque()"
   ]
  },
  {
   "cell_type": "code",
   "execution_count": 20,
   "metadata": {},
   "outputs": [
    {
     "data": {
      "text/plain": [
       "10"
      ]
     },
     "execution_count": 20,
     "metadata": {},
     "output_type": "execute_result"
    }
   ],
   "source": [
    "DQ.add_first(10)\n",
    "DQ.first()"
   ]
  },
  {
   "cell_type": "code",
   "execution_count": 21,
   "metadata": {},
   "outputs": [
    {
     "data": {
      "text/plain": [
       "100"
      ]
     },
     "execution_count": 21,
     "metadata": {},
     "output_type": "execute_result"
    }
   ],
   "source": [
    "DQ.add_last(100)\n",
    "DQ.last()"
   ]
  },
  {
   "cell_type": "code",
   "execution_count": 22,
   "metadata": {},
   "outputs": [
    {
     "data": {
      "text/plain": [
       "2"
      ]
     },
     "execution_count": 22,
     "metadata": {},
     "output_type": "execute_result"
    }
   ],
   "source": [
    "len(DQ)"
   ]
  },
  {
   "cell_type": "code",
   "execution_count": 23,
   "metadata": {},
   "outputs": [
    {
     "data": {
      "text/plain": [
       "10"
      ]
     },
     "execution_count": 23,
     "metadata": {},
     "output_type": "execute_result"
    }
   ],
   "source": [
    "DQ.get(0)"
   ]
  },
  {
   "cell_type": "code",
   "execution_count": 24,
   "metadata": {},
   "outputs": [
    {
     "data": {
      "text/plain": [
       "100"
      ]
     },
     "execution_count": 24,
     "metadata": {},
     "output_type": "execute_result"
    }
   ],
   "source": [
    "DQ.get(1)"
   ]
  },
  {
   "cell_type": "code",
   "execution_count": 25,
   "metadata": {},
   "outputs": [],
   "source": [
    "DQ.get(10)"
   ]
  },
  {
   "cell_type": "code",
   "execution_count": 26,
   "metadata": {},
   "outputs": [
    {
     "data": {
      "text/plain": [
       "(100, 100)"
      ]
     },
     "execution_count": 26,
     "metadata": {},
     "output_type": "execute_result"
    }
   ],
   "source": [
    "DQ.remove_first()\n",
    "DQ.first(), DQ.last()"
   ]
  },
  {
   "cell_type": "code",
   "execution_count": 27,
   "metadata": {},
   "outputs": [
    {
     "data": {
      "text/plain": [
       "1"
      ]
     },
     "execution_count": 27,
     "metadata": {},
     "output_type": "execute_result"
    }
   ],
   "source": [
    "len(DQ)"
   ]
  },
  {
   "cell_type": "code",
   "execution_count": 28,
   "metadata": {},
   "outputs": [
    {
     "data": {
      "text/plain": [
       "100"
      ]
     },
     "execution_count": 28,
     "metadata": {},
     "output_type": "execute_result"
    }
   ],
   "source": [
    "DQ.get(0)"
   ]
  },
  {
   "cell_type": "code",
   "execution_count": 29,
   "metadata": {},
   "outputs": [
    {
     "name": "stdout",
     "output_type": "stream",
     "text": [
      "100\n"
     ]
    }
   ],
   "source": [
    "for e in DQ:\n",
    "    print(e)"
   ]
  },
  {
   "cell_type": "code",
   "execution_count": 32,
   "metadata": {},
   "outputs": [],
   "source": [
    "class _DLListBase:\n",
    "    \"\"\"A base class providing a doubly linked list representation.\"\"\"\n",
    "\n",
    "    class _Node:\n",
    "        __slots__ = \"_element\", \"_prev\", \"_next\"\n",
    "\n",
    "        def __init__(self, element, prev_node, next_node):\n",
    "            self._element = element\n",
    "            self._next = next_node\n",
    "            self._prev = prev_node\n",
    "\n",
    "    def __init__(self):\n",
    "        self._size = 0\n",
    "        self._sentinel_front = self._Node(None, None, None)\n",
    "        self._sentinel_back = self._Node(None, None, None)\n",
    "        self._sentinel_front._next = self._sentinel_back\n",
    "        self._sentinel_back._prev = self._sentinel_front\n",
    "\n",
    "    def __len__(self):\n",
    "        return self._size\n",
    "\n",
    "    def is_empty(self):\n",
    "        return self._size == 0\n",
    "\n",
    "    def _insert_between(self, e, prev_node, next_node):\n",
    "        \"Add element e between two existing nodes.\"\n",
    "        new_node = self._Node(e, prev_node, next_node)\n",
    "        prev_node._next = new_node\n",
    "        next_node._prev = new_node\n",
    "        self._size += 1\n",
    "        return new_node\n",
    "\n",
    "    def _delete_node(self, node):\n",
    "        \"Delete nonsentinel node and return its element.\"\n",
    "        prev_node = node._prev\n",
    "        next_node = node._next\n",
    "        e = node._element\n",
    "        prev_node._next = next_node\n",
    "        next_node._prev = prev_node\n",
    "        self._size -= 1\n",
    "        node._prev = node._next = node._element = None\n",
    "        return e"
   ]
  },
  {
   "cell_type": "code",
   "execution_count": 47,
   "metadata": {},
   "outputs": [],
   "source": [
    "class DLListDeque(_DLListBase):\n",
    "    \"\"\"List of objects using Doubly Linked List data structure.\"\"\"\n",
    "\n",
    "    def __getitem__(self, index):\n",
    "        if self._size == 0:\n",
    "            raise Empty(\"list is empty\")\n",
    "        elif not 0 <= index < self._size:\n",
    "            raise IndexError(\"index out of range\")\n",
    "        position = index\n",
    "        current_node = self._sentinel_front\n",
    "        while position >= 0:\n",
    "            current_node = current_node._next\n",
    "            position -= 1\n",
    "        return current_node._element\n",
    "\n",
    "    def add_first(self, element):\n",
    "        self._insert_between(\n",
    "            element, self._sentinel_front, self._sentinel_front._next\n",
    "        )\n",
    "\n",
    "    def add_last(self, element):\n",
    "        self._insert_between(\n",
    "            element, self._sentinel_back._prev, self._sentinel_back\n",
    "        )\n",
    "\n",
    "    def first(self):\n",
    "        if self._size == 0:\n",
    "            raise Empty(\"List is empty.\")\n",
    "        return self._sentinel_front._next._element\n",
    "\n",
    "    def last(self):\n",
    "        if self._size == 0:\n",
    "            raise Empty(\"List is empty.\")\n",
    "        return self._sentinel_back._prev._element\n",
    "\n",
    "    def remove_first(self):\n",
    "        if self._size == 0:\n",
    "            raise Empty(\"list is empty.\")\n",
    "        _ = self._delete_node(self._sentinel_front._next)\n",
    "\n",
    "    def remove_last(self):\n",
    "        if self._size == 0:\n",
    "            raise Empty(\"list is empty.\")\n",
    "        _ = self._delete_node(self._sentinel_back._prev)\n",
    "\n",
    "    def __iter__(self):\n",
    "        self._current_node = self._sentinel_front._next\n",
    "        return self\n",
    "\n",
    "    def __next__(self):\n",
    "        while not self._current_node._next:\n",
    "            raise StopIteration()\n",
    "        e = self._current_node._element\n",
    "        self._current_node = self._current_node._next\n",
    "        return e"
   ]
  },
  {
   "cell_type": "code",
   "execution_count": 48,
   "metadata": {},
   "outputs": [],
   "source": [
    "DQ = DLListDeque()"
   ]
  },
  {
   "cell_type": "code",
   "execution_count": 49,
   "metadata": {},
   "outputs": [
    {
     "data": {
      "text/plain": [
       "10"
      ]
     },
     "execution_count": 49,
     "metadata": {},
     "output_type": "execute_result"
    }
   ],
   "source": [
    "DQ.add_first(10)\n",
    "DQ.first()"
   ]
  },
  {
   "cell_type": "code",
   "execution_count": 50,
   "metadata": {},
   "outputs": [
    {
     "data": {
      "text/plain": [
       "100"
      ]
     },
     "execution_count": 50,
     "metadata": {},
     "output_type": "execute_result"
    }
   ],
   "source": [
    "DQ.add_last(100)\n",
    "DQ.last()"
   ]
  },
  {
   "cell_type": "code",
   "execution_count": 51,
   "metadata": {},
   "outputs": [
    {
     "data": {
      "text/plain": [
       "2"
      ]
     },
     "execution_count": 51,
     "metadata": {},
     "output_type": "execute_result"
    }
   ],
   "source": [
    "len(DQ)"
   ]
  },
  {
   "cell_type": "code",
   "execution_count": 52,
   "metadata": {},
   "outputs": [
    {
     "data": {
      "text/plain": [
       "10"
      ]
     },
     "execution_count": 52,
     "metadata": {},
     "output_type": "execute_result"
    }
   ],
   "source": [
    "DQ[0]"
   ]
  },
  {
   "cell_type": "code",
   "execution_count": 53,
   "metadata": {},
   "outputs": [
    {
     "data": {
      "text/plain": [
       "100"
      ]
     },
     "execution_count": 53,
     "metadata": {},
     "output_type": "execute_result"
    }
   ],
   "source": [
    "DQ[1]"
   ]
  },
  {
   "cell_type": "code",
   "execution_count": 54,
   "metadata": {},
   "outputs": [
    {
     "ename": "IndexError",
     "evalue": "index out of range",
     "output_type": "error",
     "traceback": [
      "\u001b[0;31m---------------------------------------------------------------------------\u001b[0m",
      "\u001b[0;31mIndexError\u001b[0m                                Traceback (most recent call last)",
      "\u001b[0;32m<ipython-input-54-9b3d4c967896>\u001b[0m in \u001b[0;36m<module>\u001b[0;34m\u001b[0m\n\u001b[0;32m----> 1\u001b[0;31m \u001b[0mDQ\u001b[0m\u001b[0;34m[\u001b[0m\u001b[0;36m10\u001b[0m\u001b[0;34m]\u001b[0m\u001b[0;34m\u001b[0m\u001b[0;34m\u001b[0m\u001b[0m\n\u001b[0m",
      "\u001b[0;32m<ipython-input-47-429e5c3a59c3>\u001b[0m in \u001b[0;36m__getitem__\u001b[0;34m(self, index)\u001b[0m\n\u001b[1;32m      6\u001b[0m             \u001b[0;32mraise\u001b[0m \u001b[0mEmpty\u001b[0m\u001b[0;34m(\u001b[0m\u001b[0;34m\"list is empty\"\u001b[0m\u001b[0;34m)\u001b[0m\u001b[0;34m\u001b[0m\u001b[0;34m\u001b[0m\u001b[0m\n\u001b[1;32m      7\u001b[0m         \u001b[0;32melif\u001b[0m \u001b[0;32mnot\u001b[0m \u001b[0;36m0\u001b[0m \u001b[0;34m<=\u001b[0m \u001b[0mindex\u001b[0m \u001b[0;34m<\u001b[0m \u001b[0mself\u001b[0m\u001b[0;34m.\u001b[0m\u001b[0m_size\u001b[0m\u001b[0;34m:\u001b[0m\u001b[0;34m\u001b[0m\u001b[0;34m\u001b[0m\u001b[0m\n\u001b[0;32m----> 8\u001b[0;31m             \u001b[0;32mraise\u001b[0m \u001b[0mIndexError\u001b[0m\u001b[0;34m(\u001b[0m\u001b[0;34m\"index out of range\"\u001b[0m\u001b[0;34m)\u001b[0m\u001b[0;34m\u001b[0m\u001b[0;34m\u001b[0m\u001b[0m\n\u001b[0m\u001b[1;32m      9\u001b[0m         \u001b[0mposition\u001b[0m \u001b[0;34m=\u001b[0m \u001b[0mindex\u001b[0m\u001b[0;34m\u001b[0m\u001b[0;34m\u001b[0m\u001b[0m\n\u001b[1;32m     10\u001b[0m         \u001b[0mcurrent_node\u001b[0m \u001b[0;34m=\u001b[0m \u001b[0mself\u001b[0m\u001b[0;34m.\u001b[0m\u001b[0m_sentinel_front\u001b[0m\u001b[0;34m\u001b[0m\u001b[0;34m\u001b[0m\u001b[0m\n",
      "\u001b[0;31mIndexError\u001b[0m: index out of range"
     ]
    }
   ],
   "source": [
    "DQ[10]"
   ]
  },
  {
   "cell_type": "code",
   "execution_count": 55,
   "metadata": {},
   "outputs": [
    {
     "data": {
      "text/plain": [
       "(100, 100)"
      ]
     },
     "execution_count": 55,
     "metadata": {},
     "output_type": "execute_result"
    }
   ],
   "source": [
    "DQ.remove_first()\n",
    "DQ.first(), DQ.last()"
   ]
  },
  {
   "cell_type": "code",
   "execution_count": 56,
   "metadata": {},
   "outputs": [
    {
     "data": {
      "text/plain": [
       "1"
      ]
     },
     "execution_count": 56,
     "metadata": {},
     "output_type": "execute_result"
    }
   ],
   "source": [
    "len(DQ)"
   ]
  },
  {
   "cell_type": "code",
   "execution_count": 57,
   "metadata": {},
   "outputs": [
    {
     "data": {
      "text/plain": [
       "100"
      ]
     },
     "execution_count": 57,
     "metadata": {},
     "output_type": "execute_result"
    }
   ],
   "source": [
    "DQ[0]"
   ]
  },
  {
   "cell_type": "code",
   "execution_count": 58,
   "metadata": {},
   "outputs": [
    {
     "name": "stdout",
     "output_type": "stream",
     "text": [
      "100\n"
     ]
    }
   ],
   "source": [
    "for e in DQ:\n",
    "    print(e)"
   ]
  },
  {
   "cell_type": "code",
   "execution_count": 68,
   "metadata": {},
   "outputs": [],
   "source": [
    "class _CircularDLListBase(_DLListBase):\n",
    "    \"\"\"A base class providing a circular doubly linked list representation.\"\"\"\n",
    "\n",
    "    def __init__(self):\n",
    "        self._size = 0\n",
    "        self._sentinel = self._Node(None, None, None)\n",
    "        self._sentinel._prev = self._sentinel\n",
    "        self._sentinel._next = self._sentinel\n",
    "\n",
    "\n",
    "class CircularDLListDeque(_CircularDLListBase):\n",
    "    \"\"\"List of objects using Doubly Linked List data structure.\"\"\"\n",
    "\n",
    "    def __getitem__(self, index):\n",
    "        if self._size == 0:\n",
    "            raise Empty(\"list is empty\")\n",
    "        elif not 0 <= index < self._size:\n",
    "            raise IndexError(\"index out of range\")\n",
    "        position = index\n",
    "        current_node = self._sentinel\n",
    "        while position >= 0:\n",
    "            current_node = current_node._next\n",
    "            position -= 1\n",
    "        return current_node._element\n",
    "\n",
    "    def add_first(self, element):\n",
    "        self._insert_between(element, self._sentinel, self._sentinel._next)\n",
    "\n",
    "    def add_last(self, element):\n",
    "        self._insert_between(element, self._sentinel._prev, self._sentinel)\n",
    "\n",
    "    def first(self):\n",
    "        if self._size == 0:\n",
    "            raise Empty(\"List is empty.\")\n",
    "        return self._sentinel._next._element\n",
    "\n",
    "    def last(self):\n",
    "        if self._size == 0:\n",
    "            raise Empty(\"List is empty.\")\n",
    "        return self._sentinel._prev._element\n",
    "\n",
    "    def remove_first(self):\n",
    "        if self._size == 0:\n",
    "            raise Empty(\"list is empty.\")\n",
    "        _ = self._delete_node(self._sentinel._next)\n",
    "\n",
    "    def remove_last(self):\n",
    "        if self._size == 0:\n",
    "            raise Empty(\"list is empty.\")\n",
    "        _ = self._delete_node(self._sentinel._prev)\n",
    "\n",
    "\n",
    "    def __iter__(self):\n",
    "        self._current_node = self._sentinel._next\n",
    "        self._counter = 0\n",
    "        return self\n",
    "\n",
    "    def __next__(self):\n",
    "        if self._counter == self._size :\n",
    "            raise StopIteration()\n",
    "        e = self._current_node._element\n",
    "        self._current_node = self._current_node._next\n",
    "        self._counter += 1\n",
    "        return e"
   ]
  },
  {
   "cell_type": "code",
   "execution_count": 69,
   "metadata": {},
   "outputs": [],
   "source": [
    "DQ = CircularDLListDeque()"
   ]
  },
  {
   "cell_type": "code",
   "execution_count": 70,
   "metadata": {},
   "outputs": [
    {
     "data": {
      "text/plain": [
       "10"
      ]
     },
     "execution_count": 70,
     "metadata": {},
     "output_type": "execute_result"
    }
   ],
   "source": [
    "DQ.add_first(10)\n",
    "DQ.first()"
   ]
  },
  {
   "cell_type": "code",
   "execution_count": 71,
   "metadata": {},
   "outputs": [
    {
     "data": {
      "text/plain": [
       "100"
      ]
     },
     "execution_count": 71,
     "metadata": {},
     "output_type": "execute_result"
    }
   ],
   "source": [
    "DQ.add_last(100)\n",
    "DQ.last()"
   ]
  },
  {
   "cell_type": "code",
   "execution_count": 72,
   "metadata": {},
   "outputs": [
    {
     "data": {
      "text/plain": [
       "2"
      ]
     },
     "execution_count": 72,
     "metadata": {},
     "output_type": "execute_result"
    }
   ],
   "source": [
    "len(DQ)"
   ]
  },
  {
   "cell_type": "code",
   "execution_count": 73,
   "metadata": {},
   "outputs": [
    {
     "data": {
      "text/plain": [
       "10"
      ]
     },
     "execution_count": 73,
     "metadata": {},
     "output_type": "execute_result"
    }
   ],
   "source": [
    "DQ[0]"
   ]
  },
  {
   "cell_type": "code",
   "execution_count": 74,
   "metadata": {},
   "outputs": [
    {
     "data": {
      "text/plain": [
       "100"
      ]
     },
     "execution_count": 74,
     "metadata": {},
     "output_type": "execute_result"
    }
   ],
   "source": [
    "DQ[1]"
   ]
  },
  {
   "cell_type": "code",
   "execution_count": 75,
   "metadata": {},
   "outputs": [
    {
     "ename": "IndexError",
     "evalue": "index out of range",
     "output_type": "error",
     "traceback": [
      "\u001b[0;31m---------------------------------------------------------------------------\u001b[0m",
      "\u001b[0;31mIndexError\u001b[0m                                Traceback (most recent call last)",
      "\u001b[0;32m<ipython-input-75-9b3d4c967896>\u001b[0m in \u001b[0;36m<module>\u001b[0;34m\u001b[0m\n\u001b[0;32m----> 1\u001b[0;31m \u001b[0mDQ\u001b[0m\u001b[0;34m[\u001b[0m\u001b[0;36m10\u001b[0m\u001b[0;34m]\u001b[0m\u001b[0;34m\u001b[0m\u001b[0;34m\u001b[0m\u001b[0m\n\u001b[0m",
      "\u001b[0;32m<ipython-input-68-b4b162deff5a>\u001b[0m in \u001b[0;36m__getitem__\u001b[0;34m(self, index)\u001b[0m\n\u001b[1;32m     16\u001b[0m             \u001b[0;32mraise\u001b[0m \u001b[0mEmpty\u001b[0m\u001b[0;34m(\u001b[0m\u001b[0;34m\"list is empty\"\u001b[0m\u001b[0;34m)\u001b[0m\u001b[0;34m\u001b[0m\u001b[0;34m\u001b[0m\u001b[0m\n\u001b[1;32m     17\u001b[0m         \u001b[0;32melif\u001b[0m \u001b[0;32mnot\u001b[0m \u001b[0;36m0\u001b[0m \u001b[0;34m<=\u001b[0m \u001b[0mindex\u001b[0m \u001b[0;34m<\u001b[0m \u001b[0mself\u001b[0m\u001b[0;34m.\u001b[0m\u001b[0m_size\u001b[0m\u001b[0;34m:\u001b[0m\u001b[0;34m\u001b[0m\u001b[0;34m\u001b[0m\u001b[0m\n\u001b[0;32m---> 18\u001b[0;31m             \u001b[0;32mraise\u001b[0m \u001b[0mIndexError\u001b[0m\u001b[0;34m(\u001b[0m\u001b[0;34m\"index out of range\"\u001b[0m\u001b[0;34m)\u001b[0m\u001b[0;34m\u001b[0m\u001b[0;34m\u001b[0m\u001b[0m\n\u001b[0m\u001b[1;32m     19\u001b[0m         \u001b[0mposition\u001b[0m \u001b[0;34m=\u001b[0m \u001b[0mindex\u001b[0m\u001b[0;34m\u001b[0m\u001b[0;34m\u001b[0m\u001b[0m\n\u001b[1;32m     20\u001b[0m         \u001b[0mcurrent_node\u001b[0m \u001b[0;34m=\u001b[0m \u001b[0mself\u001b[0m\u001b[0;34m.\u001b[0m\u001b[0m_sentinel\u001b[0m\u001b[0;34m\u001b[0m\u001b[0;34m\u001b[0m\u001b[0m\n",
      "\u001b[0;31mIndexError\u001b[0m: index out of range"
     ]
    }
   ],
   "source": [
    "DQ[10]"
   ]
  },
  {
   "cell_type": "code",
   "execution_count": 76,
   "metadata": {},
   "outputs": [
    {
     "data": {
      "text/plain": [
       "(100, 100)"
      ]
     },
     "execution_count": 76,
     "metadata": {},
     "output_type": "execute_result"
    }
   ],
   "source": [
    "DQ.remove_first()\n",
    "DQ.first(), DQ.last()"
   ]
  },
  {
   "cell_type": "code",
   "execution_count": 77,
   "metadata": {},
   "outputs": [
    {
     "data": {
      "text/plain": [
       "1"
      ]
     },
     "execution_count": 77,
     "metadata": {},
     "output_type": "execute_result"
    }
   ],
   "source": [
    "len(DQ)"
   ]
  },
  {
   "cell_type": "code",
   "execution_count": 78,
   "metadata": {},
   "outputs": [
    {
     "data": {
      "text/plain": [
       "100"
      ]
     },
     "execution_count": 78,
     "metadata": {},
     "output_type": "execute_result"
    }
   ],
   "source": [
    "DQ[0]"
   ]
  },
  {
   "cell_type": "code",
   "execution_count": 79,
   "metadata": {},
   "outputs": [
    {
     "name": "stdout",
     "output_type": "stream",
     "text": [
      "100\n"
     ]
    }
   ],
   "source": [
    "for e in DQ:\n",
    "    print(e)"
   ]
  },
  {
   "cell_type": "markdown",
   "metadata": {},
   "source": [
    "# Conclusion"
   ]
  },
  {
   "cell_type": "markdown",
   "metadata": {},
   "source": [
    "1. Advantages of **Array-Based** sequences:\n",
    "    - Array provides O(1) access time to any element based on integer ondex.\n",
    "    - The constant factor for operations is more efficient for arrays than LinkedList. For example, adding an element to the array requires storing the element in the array and incrementing the index. However, for LinkedList it requires instantiating the node, store references for both the element and next/previous nodes and then increment the index.\n",
    "    - In terms of memory usage, the worst-case memory would be 2 * len(A) if we doubled the size and haven't added new elements yet. However, with LinkedList it would be at least 2 * len(A) for SLL or 3 * len(A) for DLL."
   ]
  },
  {
   "cell_type": "markdown",
   "metadata": {},
   "source": [
    "1. Advantages of **LinkedList** sequences:\n",
    "    - LinkedList data structure provides worst-case guarantee for operations running time O(1), where arrays have amortized running times."
   ]
  }
 ],
 "metadata": {
  "kernelspec": {
   "display_name": "Python 3",
   "language": "python",
   "name": "python3"
  },
  "language_info": {
   "codemirror_mode": {
    "name": "ipython",
    "version": 3
   },
   "file_extension": ".py",
   "mimetype": "text/x-python",
   "name": "python",
   "nbconvert_exporter": "python",
   "pygments_lexer": "ipython3",
   "version": "3.7.4"
  }
 },
 "nbformat": 4,
 "nbformat_minor": 4
}
