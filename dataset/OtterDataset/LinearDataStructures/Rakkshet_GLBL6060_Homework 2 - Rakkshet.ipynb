{
 "cells": [
  {
   "cell_type": "markdown",
   "id": "20724b08-3ac7-45e2-9465-cde655fc5319",
   "metadata": {},
   "source": [
    "## Basic Data Types vs. Data Structures\n",
    "Basic Data Types: \n",
    "Integers, floats, booleans, and characters are considered basic or primitive data types. They represent single values and are the building blocks used within data structures. Integers, floats, Booleans, strings\n",
    "\n",
    "Data Structures: These are more complex organizations of data designed for efficient storage and manipulation of data collections. Data structures can be linear (like arrays, lists, stacks, and queues) or non-linear (like trees and graphs), and they can hold multiple items, often including basic data types as their elements."
   ]
  },
  {
   "cell_type": "markdown",
   "id": "bb628f9f-016c-4d8d-b31d-62b5639b1c8a",
   "metadata": {},
   "source": [
    "### What aboout strings?\n",
    "\n",
    "Strings can be viewed both as a data type and as a data structure, depending on the context of the discussion and the level of abstraction considered.\n",
    "\n",
    "\n",
    "#### Strings as a Data Type: \n",
    "In many programming languages, including Python, a string is considered a basic data type. It represents textual data, consisting of a sequence of characters. As a basic data type, strings are used to store and manipulate text, such as names, messages, or any other kind of textual information.\n",
    "\n",
    "#### Strings as a Data Structure\n",
    "Sequential Data Structure: Strings can also be viewed as a data structure, specifically a sequential or linear data structure. This perspective comes from their ability to organize data (characters) in a sequential order, supporting operations like indexing, slicing, iterating, and searching. In this sense, strings share characteristics with other sequence data structures, such as lists and arrays, but are specialized for textual content.\n",
    "\n",
    "#### Python's Approach\n",
    "In Python, strings are objects of the class str. This object-oriented approach provides strings with methods that allow them to behave like both data types (by holding textual data) and data structures (by organizing characters in sequence and supporting various operations).\n",
    "\n",
    "Python treats strings as immutable sequences, meaning once a string is created, it cannot be modified in place—any operation that modifies a string will actually create a new string. This immutability is similar to how tuples, another sequence data structure, are treated in Python, contrasting with lists, which are mutable.\n",
    "\n",
    "\n",
    "The dual nature of strings—as both a data type for text representation and a data structure for organizing a sequence of characters—highlights the versatility of strings in programming. This versatility allows for a wide range of applications, from simple text processing to complex data manipulation and analysis, making strings a fundamental aspect of software development across various programming languages, including Python."
   ]
  },
  {
   "cell_type": "markdown",
   "id": "89492aab-a066-4f15-91df-5f06cf722dd4",
   "metadata": {},
   "source": [
    "## Built in DATA STRUCTURES in Python\n",
    "\n",
    "Python offers a variety of built-in data structures, each with its unique features and uses. Here's a comprehensive list of Python's primary data structures:\n",
    "\n",
    "Built-in Data Structures\n",
    "\n",
    "**List**: An **ordered, mutable** collection of items that can be of mixed types. Lists are defined with square brackets [].\n",
    "\n",
    "**Tuple**: An **ordered, immutable** collection of items that can be of mixed types. Tuples are defined with parentheses ().\n",
    "\n",
    "**Set**: An **unordered** collection of unique items. Sets are **mutable**, do not allow duplicates, and are defined with curly braces {} or the set() function for an empty set.\n",
    "\n",
    "**Dictionary (Dict)**: A collection of key-value pairs where keys are unique. Dictionaries are **mutable and ordered** by insertion order (as of Python 3.7+). They are defined with curly braces {} with key-value pairs separated by colons.\n"
   ]
  },
  {
   "cell_type": "markdown",
   "id": "93df0af9-bc67-4b65-b1b8-3cfd735a4aa8",
   "metadata": {},
   "source": [
    "1. What does the word \"mutable\" mean in English? Is that like Teenage Mutable Ninja Turtle? Give me a definition of mutable. "
   ]
  },
  {
   "cell_type": "markdown",
   "id": "ef0be1db",
   "metadata": {},
   "source": [
    "Definition: that can change; likely to change"
   ]
  },
  {
   "cell_type": "markdown",
   "id": "15e47d62-be18-4d93-81e9-048fd6501aec",
   "metadata": {},
   "source": [
    "2. Write a function called \"translate_word\" using the googletrans package in Python. Translate the word \"mutable\" into the language of your choice. Comment each line of code that explains what each line does. If you do not, points will be deducted."
   ]
  },
  {
   "cell_type": "code",
   "execution_count": 1,
   "id": "37ebff6a",
   "metadata": {},
   "outputs": [
    {
     "name": "stdout",
     "output_type": "stream",
     "text": [
      "उत्परिवर्तनीय\n"
     ]
    }
   ],
   "source": [
    "## I tried using deep_translator but the code, wasn't working. So, I used a different tool.\n",
    "\n",
    "# Import the Translator class from the translate module\n",
    "from translate import Translator\n",
    "\n",
    "# Define a function named 'translate_word' that takes a word and an optional target language as parameters\n",
    "def translate_word(word, target_language=''):\n",
    "    # Create an instance of the Translator class with the specified target language\n",
    "    translator = Translator(to_lang=target_language)\n",
    "\n",
    "    # Use the translator to translate the given word\n",
    "    translation = translator.translate(word)\n",
    "\n",
    "    # Return the translated word\n",
    "    return translation\n",
    "\n",
    "# Call the translate_word function with the word 'mutable' and the target language 'hi' (Hindi)\n",
    "translated_word = translate_word('mutable', target_language='hi')\n",
    "\n",
    "# Print the translated word\n",
    "print(translated_word)"
   ]
  },
  {
   "cell_type": "markdown",
   "id": "5dbc120f-481d-4f99-871b-02200ac49345",
   "metadata": {},
   "source": [
    "3. Of the built-in data structures, which are mutable?"
   ]
  },
  {
   "cell_type": "markdown",
   "id": "b5c384a5",
   "metadata": {},
   "source": [
    "Basic: List, Set and Dictionary\n",
    "\n",
    "There are some others that I found on internet like Deque, Bytearray, Array and User-Defined Classes."
   ]
  },
  {
   "cell_type": "markdown",
   "id": "63e762b8",
   "metadata": {},
   "source": [
    "4. Of the built-in data structures, which are immutable?"
   ]
  },
  {
   "cell_type": "markdown",
   "id": "d910b07d",
   "metadata": {},
   "source": [
    "Basic: Tuple\n",
    "\n",
    "There are some others that I found on internet like String and Frozenset"
   ]
  },
  {
   "cell_type": "markdown",
   "id": "39b43f07",
   "metadata": {},
   "source": [
    "5. Of the built in data structures, which are ordered? What does that mean? Give me an example."
   ]
  },
  {
   "cell_type": "markdown",
   "id": "2ad0ae4b-a9b2-490b-834a-b899cb2c6611",
   "metadata": {},
   "source": [
    "a.What does that mean?\n",
    "Explain here:\n"
   ]
  },
  {
   "cell_type": "markdown",
   "id": "eabcf131",
   "metadata": {},
   "source": [
    "Ordered data structures have an explicit order to the elements and the order in which elements are added or defined is the same order in which they will be stored and accessed. "
   ]
  },
  {
   "cell_type": "markdown",
   "id": "ffd2930c",
   "metadata": {},
   "source": [
    "b. Give an example"
   ]
  },
  {
   "cell_type": "code",
   "execution_count": 2,
   "id": "f550ad76",
   "metadata": {},
   "outputs": [
    {
     "name": "stdout",
     "output_type": "stream",
     "text": [
      "3\n",
      "apple\n",
      "l\n",
      "one 1\n",
      "two 2\n",
      "three 3\n"
     ]
    }
   ],
   "source": [
    "#List\n",
    "my_list = [3, 1, 4, 1, 5, 9, 2]\n",
    "print(my_list[0])  # Output: 3\n",
    "\n",
    "#Tuple\n",
    "my_tuple = (10, 'apple', 3.14, True)\n",
    "print(my_tuple[1])  # Output: 'apple'\n",
    "\n",
    "#String\n",
    "my_string = \"hello\"\n",
    "print(my_string[2])  # Output: 'l'\n",
    "\n",
    "#Dictionary\n",
    "my_dict = {'one': 1, 'two': 2, 'three': 3}\n",
    "for key in my_dict:\n",
    "    print(key, my_dict[key])\n",
    "# Output:\n",
    "# one 1\n",
    "# two 2\n",
    "# three 3"
   ]
  },
  {
   "cell_type": "markdown",
   "id": "7ed5f693-0bdd-4358-a2c4-6949aa195a0b",
   "metadata": {},
   "source": [
    "6. So, wait...you mean a set is unordered? True of False I set a set equal to a variable it might print differently each time"
   ]
  },
  {
   "cell_type": "code",
   "execution_count": 3,
   "id": "6335dd2b",
   "metadata": {},
   "outputs": [],
   "source": [
    "#True, sets are unordered."
   ]
  },
  {
   "cell_type": "markdown",
   "id": "862cea8e-739d-4b1d-b5f0-36ca90bda018",
   "metadata": {},
   "source": [
    "7. Prove your answer above with examples that provide compelling if not conslusive evidence:"
   ]
  },
  {
   "cell_type": "code",
   "execution_count": 4,
   "id": "b1277d43-65ab-4feb-8f33-b1543bdf59ae",
   "metadata": {},
   "outputs": [
    {
     "name": "stdout",
     "output_type": "stream",
     "text": [
      "{1, 2, 3, 4}\n"
     ]
    }
   ],
   "source": [
    "'''\n",
    "When you print a set, the elements will be displayed, but the order in which \n",
    "they are printed is not guaranteed to be the same each time.\n",
    "'''\n",
    "my_set = {3, 1, 4, 2}\n",
    "\n",
    "# The order in the printed representation may vary\n",
    "print(my_set)"
   ]
  },
  {
   "cell_type": "markdown",
   "id": "0a57ad25-f7b7-4b11-8812-b5dda6af2f3f",
   "metadata": {},
   "source": [
    "## Extended Data Structures:\n",
    "\n",
    "Python's versatility and richness mean there are indeed more types and structures, especially when considering broader usage contexts, including those provided by standard libraries beyond the built-in and collections modules.\n",
    "\n",
    "(You won't have to worry about these, but I wanted you to see them)\n",
    "\n",
    "Bytes and Byte Arrays: Used for binary data manipulation. bytes are immutable, and bytearray are mutable.\n",
    "\n",
    "MemoryView: A memoryview object allows Python code to access the internal data of an object that supports the buffer protocol without copying. This is a more advanced feature used for direct memory access and manipulation.\n",
    "\n",
    "Arrays (from the array module): Provides a space-efficient way to store C-type data structures. Good for large arrays of basic C-type data where lists would be memory-inefficient.\n",
    "\n",
    "Structs (from the struct module): Allows for packing and unpacking data to and from C-like structs, useful for binary data processing and interfacing with C code.\n",
    "\n",
    "Queues (from the queue module): Provides thread-safe classes for multi-threading programming, including FIFO (queue.Queue), LIFO (queue.LifoQueue), and priority queues (queue.PriorityQueue).\n",
    "\n",
    "Linked Lists, Trees, Graphs: Not provided as built-in data structures in Python but can be implemented using classes or using collections like lists and dictionaries for their representation.\n",
    "\n",
    "These are the ones you'll see:\n",
    "\n",
    "**Strings**: As we discussed, strings are sequential collections of characters, fundamental for text processing.\n",
    "\n",
    "**DataFrames (from pandas library)**: While not part of Python's standard library, pandas DataFrames are crucial in data science and analytics for structured data manipulation and analysis.\n",
    "\n",
    "**Arrays (from numpy library)**(: Similar to pandas, numpy arrays are not built-in but are essential in scientific computing for efficient array and matrix operations.\n",
    "\n"
   ]
  },
  {
   "cell_type": "markdown",
   "id": "ad055f0a-6de3-48df-b1f2-db098e7c35aa",
   "metadata": {},
   "source": [
    "## LISTS\n"
   ]
  },
  {
   "cell_type": "markdown",
   "id": "84fd5405-12a2-446a-b904-d0888f13d2bf",
   "metadata": {},
   "source": [
    "\n",
    "International development economics often involves analyzing data to understand and address global economic disparities, poverty, and development challenges.\n",
    "\n",
    "Lists can be used to store, manipulate, and analyze this data in complex ways. Here are three examples of complex uses of lists involving international development economics data:\n",
    "\n",
    "#### Multidimensional Lists for Storing Country Profiles\n",
    "A multidimensional list can store comprehensive economic profiles of countries, including metrics like GDP, poverty rate, literacy rate, and unemployment rate. Each sublist represents a country, with elements corresponding to different economic indicators.\n"
   ]
  },
  {
   "cell_type": "code",
   "execution_count": 5,
   "id": "04bd5ef7-933b-4f63-a9ac-b4d4bfb174e8",
   "metadata": {},
   "outputs": [],
   "source": [
    "countries = [\n",
    "    [\"Country A\", 300000000, 15.2, 98.5, 4.2],  # [Country Name, GDP (USD), Poverty Rate (%), Literacy Rate (%), Unemployment Rate (%)]\n",
    "    [\"Country B\", 1200000000, 29.1, 88.0, 9.8],\n",
    "    [\"Country C\", 450000000, 5.4, 99.2, 3.5]\n",
    "]\n"
   ]
  },
  {
   "cell_type": "markdown",
   "id": "355e0ac0-2a54-42bc-8030-cce5b74974ef",
   "metadata": {},
   "source": [
    "8. Select FIVE countries using OECD data: https://stats.oecd.org/ Create a multidimensional list with the name of the country first, then GDP, and then 3 other metrics of your choosing. Assign them to the variable \"countries_list1\"."
   ]
  },
  {
   "cell_type": "code",
   "execution_count": 6,
   "id": "9313fd19-6136-477a-8238-e77207aaa375",
   "metadata": {},
   "outputs": [],
   "source": [
    "#Country Name, GDP (Current Price, Current Exchange Rate)(in USD million), Employment Rate (in percent), Currency exchange rates (to USD), Net Exports (contributions to changes in real GDP)\n",
    "\n",
    "countries_list1 = [\n",
    "    [\"Australia\", 1776577, 77.3, 1.447, 0.015],\n",
    "    [\"Chile\", 300686, 61.9, 801.342, 0.001],\n",
    "    [\"Belgium\", 583435, 66.5, 1.082, 0.001],\n",
    "    [\"Austria\", 470941, 74, 1.082, 0.021],\n",
    "    [\"Canada\", 2161483, 75.6, 1.345, 0.015]\n",
    "]"
   ]
  },
  {
   "cell_type": "markdown",
   "id": "2b9ca31c-5aaa-4a08-bf64-3fd456f14dd2",
   "metadata": {},
   "source": [
    "9. Write code that sorts the list alphabetically by country."
   ]
  },
  {
   "cell_type": "code",
   "execution_count": 7,
   "id": "1a968e25-a511-4bfa-938e-1392355ac2b7",
   "metadata": {},
   "outputs": [
    {
     "name": "stdout",
     "output_type": "stream",
     "text": [
      "['Australia', 1776577, 77.3, 1.447, 0.015]\n",
      "['Austria', 470941, 74, 1.082, 0.021]\n",
      "['Belgium', 583435, 66.5, 1.082, 0.001]\n",
      "['Canada', 2161483, 75.6, 1.345, 0.015]\n",
      "['Chile', 300686, 61.9, 801.342, 0.001]\n"
     ]
    }
   ],
   "source": [
    "sorted_countries_list1 = sorted(countries_list1, key=lambda x: x[0])\n",
    "\n",
    "for country_info in sorted_countries_list1:\n",
    "    print(country_info)"
   ]
  },
  {
   "cell_type": "markdown",
   "id": "dc89e9bd",
   "metadata": {},
   "source": [
    "10. Write code that sorts the list in some other way (example, GDP, or Poverty Rate."
   ]
  },
  {
   "cell_type": "code",
   "execution_count": 8,
   "id": "1741b183-98b1-47fc-9ac9-a246998f24d0",
   "metadata": {},
   "outputs": [
    {
     "name": "stdout",
     "output_type": "stream",
     "text": [
      "['Canada', 2161483, 75.6, 1.345, 0.015]\n",
      "['Australia', 1776577, 77.3, 1.447, 0.015]\n",
      "['Belgium', 583435, 66.5, 1.082, 0.001]\n",
      "['Austria', 470941, 74, 1.082, 0.021]\n",
      "['Chile', 300686, 61.9, 801.342, 0.001]\n"
     ]
    }
   ],
   "source": [
    "element = 1\n",
    "\n",
    "def custom_sort_function(element):\n",
    "    sorted_countries_list1 = sorted(countries_list1, key=lambda x: x[element], reverse=True)\n",
    "    for country_info in sorted_countries_list1:\n",
    "        print(country_info)\n",
    "\n",
    "custom_sort_function(element)"
   ]
  },
  {
   "cell_type": "markdown",
   "id": "60fcba65",
   "metadata": {},
   "source": [
    "11. Write code that calculates the average GDP and assign to a new variable"
   ]
  },
  {
   "cell_type": "code",
   "execution_count": 9,
   "id": "0eaec3d2-edd3-4108-af11-dc0d7c34a03c",
   "metadata": {},
   "outputs": [
    {
     "name": "stdout",
     "output_type": "stream",
     "text": [
      "Average GDP: 1058624.4\n"
     ]
    }
   ],
   "source": [
    "gdp_values = [country[1] for country in countries_list1]\n",
    "\n",
    "average_gdp = sum(gdp_values)/len(gdp_values)\n",
    "\n",
    "print(\"Average GDP:\", average_gdp)"
   ]
  },
  {
   "cell_type": "markdown",
   "id": "0cc726f3-1370-477e-8f48-b2438a0d8c28",
   "metadata": {},
   "source": [
    "12. Write code that iterates through the GDP element (for loop), filters out the country with the highest and lowest GDP and appends them to two empty lists, one called \"highest_GDP\" the other called \"lowest_GDP\"\n",
    " "
   ]
  },
  {
   "cell_type": "code",
   "execution_count": 10,
   "id": "16594f8e-ec2a-4af0-970a-840356a14fb6",
   "metadata": {},
   "outputs": [
    {
     "name": "stdout",
     "output_type": "stream",
     "text": [
      "[['Canada', 2161483, 75.6, 1.345, 0.015]]\n",
      "[['Chile', 300686, 61.9, 801.342, 0.001]]\n"
     ]
    }
   ],
   "source": [
    "index_highest = gdp_values.index(max(gdp_values))\n",
    "index_lowest = gdp_values.index(min(gdp_values))\n",
    "\n",
    "highest_GDP = []\n",
    "lowest_GDP = []\n",
    "\n",
    "highest_GDP.append(countries_list1[index_highest])\n",
    "lowest_GDP.append(countries_list1[index_lowest])\n",
    "\n",
    "print(highest_GDP)\n",
    "print(lowest_GDP)"
   ]
  },
  {
   "cell_type": "markdown",
   "id": "2610e9bf-4de1-4626-9458-475ed1db8528",
   "metadata": {},
   "source": [
    "#### Time Series Analysis with Nested Lists\n",
    "For analyzing economic trends over time, a nested list structure can be used where each sublist contains time series data for a specific economic indicator across different years."
   ]
  },
  {
   "cell_type": "code",
   "execution_count": 11,
   "id": "0d2b6098-cdbc-4fc8-89c7-504dd3a51ced",
   "metadata": {},
   "outputs": [
    {
     "ename": "SyntaxError",
     "evalue": "incomplete input (3087681617.py, line 4)",
     "output_type": "error",
     "traceback": [
      "\u001b[0;36m  Cell \u001b[0;32mIn[11], line 4\u001b[0;36m\u001b[0m\n\u001b[0;31m    [\"Country C\", [1.2, 1.5, 1.7, 1.9, 2.1]]\u001b[0m\n\u001b[0m                                            ^\u001b[0m\n\u001b[0;31mSyntaxError\u001b[0m\u001b[0;31m:\u001b[0m incomplete input\n"
     ]
    }
   ],
   "source": [
    "# For example:\n",
    "gdp_growth = [[\"Country A\", [2.5, 3.0, 2.8, 3.2, 3.5]],  # [Country Name, [Growth Rate (%) over 5 years]]\n",
    "    [\"Country B\", [6.5, 7.0, 7.2, 7.5, 7.8]],\n",
    "    [\"Country C\", [1.2, 1.5, 1.7, 1.9, 2.1]]"
   ]
  },
  {
   "cell_type": "markdown",
   "id": "19f8411a-a00a-4c15-aa39-3f5e10355fd2",
   "metadata": {},
   "source": [
    "13. Using the OECD data, provide actual countries and use the nested list structure to capture time series data to demonstrate a trend over time of some key metric of your choosing."
   ]
  },
  {
   "cell_type": "code",
   "execution_count": 12,
   "id": "14b5a70b-5a5b-4202-ac3d-5e1335cd1945",
   "metadata": {},
   "outputs": [
    {
     "name": "stdout",
     "output_type": "stream",
     "text": [
      "Australia GDP Growth Rates:\n",
      "  2018: 2.8%\n",
      "  2019: 1.9%\n",
      "  2020: -1.8%\n",
      "  2021: 5.1%\n",
      "  2022: 3.7%\n",
      "Austria GDP Growth Rates:\n",
      "  2018: 2.3%\n",
      "  2019: 1.4%\n",
      "  2020: -6.7%\n",
      "  2021: 4.3%\n",
      "  2022: 4.8%\n",
      "Belgium GDP Growth Rates:\n",
      "  2018: 1.7%\n",
      "  2019: 2.2%\n",
      "  2020: -5.2%\n",
      "  2021: 6.8%\n",
      "  2022: 3.0%\n"
     ]
    }
   ],
   "source": [
    "gdp_growth = [\n",
    "    [\"Australia\", [2.8, 1.9, -1.8, 5.1, 3.7]],\n",
    "    [\"Austria\", [2.3, 1.4, -6.7, 4.3, 4.8]],\n",
    "    [\"Belgium\", [1.7, 2.2, -5.2, 6.8, 3.0]]\n",
    "]\n",
    "\n",
    "for country_data in gdp_growth:\n",
    "    country_name = country_data[0]\n",
    "    growth_rates = country_data[1]\n",
    "    \n",
    "    print(f\"{country_name} GDP Growth Rates:\")\n",
    "    for year, growth_rate in enumerate(growth_rates, start=2018):\n",
    "        print(f\"  {year}: {growth_rate}%\")"
   ]
  },
  {
   "cell_type": "markdown",
   "id": "d0ff644f-acac-4c3a-aef6-ced4150d688b",
   "metadata": {},
   "source": [
    "14. Nested Loops for Data Aggregation Across Multiple Dimensions\n",
    "    \n",
    "For more comprehensive data analysis, you might encounter situations where you need to aggregate data across multiple dimensions within nested lists, such as summing values by category across different groups."
   ]
  },
  {
   "cell_type": "markdown",
   "id": "f75ee971-70ad-41fb-922e-70744059d4f0",
   "metadata": {},
   "source": [
    "**Example: Aggregating Poverty Rate Changes by Region**\n",
    "\n",
    "Suppose we have a dataset that records annual poverty rates for various countries, categorized by region. The goal is to calculate the average change in poverty rates for each region over a given period.\n",
    "\n",
    "**Dataset Structure:**\n",
    "\n",
    "Each entry in the dataset is a list with the following structure: [Region, Country, Year, Poverty Rate].\n",
    "The dataset is a nested list, with each sublist representing a year's data for a country in a specific region.\n",
    "\n",
    "**Task:**\n",
    "Calculate the average change in poverty rates for each region over the dataset's span.\n",
    "Assume poverty rates are provided for a span of 5 years."
   ]
  },
  {
   "cell_type": "code",
   "execution_count": 13,
   "id": "ac23e1bf-40ca-434d-9987-55929008fb63",
   "metadata": {},
   "outputs": [
    {
     "name": "stdout",
     "output_type": "stream",
     "text": [
      "{'Sub-Saharan Africa': -1.5, 'South Asia': -1.5}\n"
     ]
    }
   ],
   "source": [
    "#Example code solution:\n",
    "data = [\n",
    "    [\"Sub-Saharan Africa\", \"Country A\", 2000, 45.0],\n",
    "    [\"Sub-Saharan Africa\", \"Country A\", 2001, 43.5],\n",
    "    [\"Sub-Saharan Africa\", \"Country A\", 2002, 42.0],\n",
    "    [\"South Asia\", \"Country B\", 2000, 50.0],\n",
    "    [\"South Asia\", \"Country B\", 2001, 48.5],\n",
    "    [\"South Asia\", \"Country B\", 2002, 47.0],\n",
    "    # More data follows...\n",
    "]\n",
    "\n",
    "# Initialize a dictionary to keep track of total change and counts for each region\n",
    "region_changes = {}\n",
    "\n",
    "for entry in data:\n",
    "    region, country, year, rate = entry\n",
    "    if region not in region_changes:\n",
    "        region_changes[region] = {\"total_change\": 0, \"count\": 0, \"previous_rate\": rate}\n",
    "    else:\n",
    "        change = rate - region_changes[region][\"previous_rate\"]\n",
    "        region_changes[region][\"total_change\"] += change\n",
    "        region_changes[region][\"count\"] += 1\n",
    "        region_changes[region][\"previous_rate\"] = rate\n",
    "\n",
    "# Calculate average change for each region\n",
    "average_changes = {region: changes[\"total_change\"] / changes[\"count\"] for region, changes in region_changes.items() if changes[\"count\"] > 0}\n",
    "\n",
    "print(average_changes)\n"
   ]
  },
  {
   "cell_type": "markdown",
   "id": "c0c983df-7977-4bd7-b81b-02d230abda01",
   "metadata": {},
   "source": [
    "15. Pick 9 countries, 3 each from three different regions of the world. Calculate the average change in unemployment rates (or any rate of your choosing) over a 5 year period. Comment each line of code and describe what you are doing in each."
   ]
  },
  {
   "cell_type": "code",
   "execution_count": 14,
   "id": "11277380-fe58-420a-bfe4-1b50cc50b075",
   "metadata": {},
   "outputs": [
    {
     "name": "stdout",
     "output_type": "stream",
     "text": [
      "{'Angola': 0.17, 'Benin': -0.05, 'Bangladesh': 0.08, 'Maldives': -0.02, 'India': -0.08, 'China': 0.15, 'Japan': 0.04, 'South Korea': 0.04}\n"
     ]
    }
   ],
   "source": [
    "data = [\n",
    "    [\"Sub-Saharan Africa\", \"Angola\", 2018, 9.52],\n",
    "    [\"Sub-Saharan Africa\", \"Angola\", 2019, 9.48],\n",
    "    [\"Sub-Saharan Africa\", \"Angola\", 2020, 10.35],\n",
    "    [\"Sub-Saharan Africa\", \"Angola\", 2021, 10.38],\n",
    "    [\"Sub-Saharan Africa\", \"Angola\", 2022, 10.21],\n",
    "    [\"Sub-Saharan Africa\", \"Benin\", 2018, 1.47],\n",
    "    [\"Sub-Saharan Africa\", \"Benin\", 2019, 1.47],\n",
    "    [\"Sub-Saharan Africa\", \"Benin\", 2020, 1.67],\n",
    "    [\"Sub-Saharan Africa\", \"Benin\", 2021, 1.75],\n",
    "    [\"Sub-Saharan Africa\", \"Benin\", 2022, 1.65], \n",
    "    [\"Sub-Saharan Africa\", \"Benin\", 2018, 1.02],\n",
    "    [\"Sub-Saharan Africa\", \"Benin\", 2019, 0.87],\n",
    "    [\"Sub-Saharan Africa\", \"Benin\", 2020, 1.03],\n",
    "    [\"Sub-Saharan Africa\", \"Benin\", 2021, 1.13],\n",
    "    [\"Sub-Saharan Africa\", \"Benin\", 2022, 1.02], \n",
    "    [\"South Asia\", \"Bangladesh\", 2018, 4.38],\n",
    "    [\"South Asia\", \"Bangladesh\", 2019, 4.38],\n",
    "    [\"South Asia\", \"Bangladesh\", 2020, 5.21],\n",
    "    [\"South Asia\", \"Bangladesh\", 2021, 5.10],\n",
    "    [\"South Asia\", \"Bangladesh\", 2022, 4.70],\n",
    "    [\"South Asia\", \"Maldives\", 2018, 4.97],\n",
    "    [\"South Asia\", \"Maldives\", 2019, 4.56],\n",
    "    [\"South Asia\", \"Maldives\", 2020, 5.34],\n",
    "    [\"South Asia\", \"Maldives\", 2021, 5.26],\n",
    "    [\"South Asia\", \"Maldives\", 2022, 4.88],\n",
    "    [\"South Asia\", \"India\", 2018, 7.65],\n",
    "    [\"South Asia\", \"India\", 2019, 6.51],\n",
    "    [\"South Asia\", \"India\", 2020, 10.20],\n",
    "    [\"South Asia\", \"India\", 2021, 7.71],\n",
    "    [\"South Asia\", \"India\", 2022, 7.33],\n",
    "    [\"East Asia\", \"China\", 2018, 4.31],\n",
    "    [\"East Asia\", \"China\", 2019, 4.56],\n",
    "    [\"East Asia\", \"China\", 2020, 5.00],\n",
    "    [\"East Asia\", \"China\", 2021, 4.55],\n",
    "    [\"East Asia\", \"China\", 2022, 4.89],\n",
    "    [\"East Asia\", \"Japan\", 2018, 2.47],\n",
    "    [\"East Asia\", \"Japan\", 2019, 2.35],\n",
    "    [\"East Asia\", \"Japan\", 2020, 2.80],\n",
    "    [\"East Asia\", \"Japan\", 2021, 2.80],\n",
    "    [\"East Asia\", \"Japan\", 2022, 2.64],\n",
    "    [\"East Asia\", \"South Korea\", 2018, 2.81],\n",
    "    [\"East Asia\", \"South Korea\", 2019, 2.78],\n",
    "    [\"East Asia\", \"South Korea\", 2020, 3.06],\n",
    "    [\"East Asia\", \"South Korea\", 2021, 3.21],\n",
    "    [\"East Asia\", \"South Korea\", 2022, 2.96],\n",
    "]\n",
    "\n",
    "country_changes = {}\n",
    "\n",
    "for entry in data:\n",
    "    region, country, year, rate = entry\n",
    "    if country not in country_changes:\n",
    "        country_changes[country] = {\"total_change\": 0, \"count\": 0, \"previous_rate\": rate}\n",
    "    else:\n",
    "        change = rate - country_changes[country][\"previous_rate\"]\n",
    "        country_changes[country][\"total_change\"] += change\n",
    "        country_changes[country][\"count\"] += 1\n",
    "        country_changes[country][\"previous_rate\"] = rate\n",
    "\n",
    "average_changes = {country: round(changes[\"total_change\"] / changes[\"count\"], 2) for country, changes in country_changes.items() if changes[\"count\"] > 0}\n",
    "\n",
    "print(average_changes)"
   ]
  },
  {
   "cell_type": "markdown",
   "id": "bdea7c22-c5f4-480d-a26e-aa25849affa3",
   "metadata": {},
   "source": [
    "#### Dictionaries\n",
    "If you are thinking, \"wait...these previous excercises using nested lists could also be represented using key:value pairs using Python's dictionary data type.\" Well...you would be right! \n",
    "\n",
    "What is a dictionary? \n",
    "\n",
    "A Python dictionary is a built-in data type that allows for storing a collection of key-value pairs. Dictionaries in Python are mutable, meaning they can be changed after they are created. They are written with curly braces {}, with each key-value pair separated by a colon : and each item separated by commas.\n",
    "\n",
    "Key Characteristics of Python Dictionaries:\n",
    "\n",
    "Unordered: Before Python 3.7, dictionaries were considered unordered, meaning that the order in which key-value pairs were added could not be relied upon when accessing them. From Python 3.7 onwards, dictionaries preserve the insertion order, although this should not be a primary feature relied upon for most programming needs.\n",
    "\n",
    "Mutable: You can add, remove, and change values after the dictionary has been created.\n",
    "Indexed by keys: Values in a dictionary are accessed using keys. These keys must be unique within a single dictionary and immutable (which means you can use strings, numbers, or tuples as dictionary keys, as long as the tuples contain only immutable elements).\n",
    "\n",
    "Dynamic: Dictionaries can grow and shrink as needed, and they can be nested, meaning a dictionary can contain another dictionary as a value, allowing for complex data structures.\n"
   ]
  },
  {
   "cell_type": "code",
   "execution_count": 15,
   "id": "9a88cc92-f960-4558-ace4-b1f8b90bdb68",
   "metadata": {},
   "outputs": [
    {
     "name": "stdout",
     "output_type": "stream",
     "text": [
      "value1\n",
      "key1 new value\n",
      "key2 value2\n",
      "key1 exists in the dictionary.\n"
     ]
    }
   ],
   "source": [
    "#Basic Operations:\n",
    "#Creating a Dictionary:\n",
    "\n",
    "my_dict = {\"key1\": \"value1\", \"key2\": \"value2\"}\n",
    "\n",
    "#Accessing Values:\n",
    "\n",
    "print(my_dict[\"key1\"])  # Outputs: value1\n",
    "\n",
    "#Adding or Updating Values:\n",
    "\n",
    "my_dict[\"key3\"] = \"value3\"  # Adds a new key-value pair\n",
    "my_dict[\"key1\"] = \"new value\"  # Updates the value for key1\n",
    "\n",
    "#Removing Key-Value Pairs:\n",
    "\n",
    "del my_dict[\"key3\"]  # Removes the key \"key3\" and its associated value\n",
    "\n",
    "#Iterating Through a Dictionary:\n",
    "\n",
    "for key, value in my_dict.items():\n",
    "    print(key, value)\n",
    "    \n",
    "#Checking if a Key Exists:\n",
    "\n",
    "if \"key1\" in my_dict:\n",
    "    print(\"key1 exists in the dictionary.\")"
   ]
  },
  {
   "cell_type": "markdown",
   "id": "598d329d-891e-47e2-b827-9ef30423b867",
   "metadata": {},
   "source": [
    "16. Write code that takes the nested list in problem #8 and rewrites them as a list of dictionary key value pairs. Save them as \"countries_dict\" Hint: To transfer the nested list countries into a list of dictionaries where each dictionary represents a country and its economic indicators as key-value pairs, you can use a for loop to iterate through each sublist and construct a dictionary for each."
   ]
  },
  {
   "cell_type": "code",
   "execution_count": 16,
   "id": "adcbb431-2d4e-475a-8394-8b294fe3af4e",
   "metadata": {},
   "outputs": [
    {
     "name": "stdout",
     "output_type": "stream",
     "text": [
      "{'Australia': [1776577, 77.3, 1.447, 0.015], 'Chile': [300686, 61.9, 801.342, 0.001], 'Belgium': [583435, 66.5, 1.082, 0.001], 'Austria': [470941, 74, 1.082, 0.021], 'Canada': [2161483, 75.6, 1.345, 0.015]}\n"
     ]
    }
   ],
   "source": [
    "#Country Name, GDP (Current Price, Current Exchange Rate)(in USD million), Employment Rate (in percent), Currency exchange rates (to USD), Net Exports (contributions to changes in real GDP)\n",
    "\n",
    "countries_list1 = [\n",
    "    [\"Australia\", 1776577, 77.3, 1.447, 0.015],\n",
    "    [\"Chile\", 300686, 61.9, 801.342, 0.001],\n",
    "    [\"Belgium\", 583435, 66.5, 1.082, 0.001],\n",
    "    [\"Austria\", 470941, 74, 1.082, 0.021],\n",
    "    [\"Canada\", 2161483, 75.6, 1.345, 0.015]\n",
    "]\n",
    "\n",
    "countries_dict = {}\n",
    "for country_data in countries_list1:\n",
    "    country_name = country_data[0]\n",
    "    country_values = country_data[1:]\n",
    "    countries_dict[country_name] = country_values\n",
    "\n",
    "print(countries_dict)\n"
   ]
  },
  {
   "cell_type": "markdown",
   "id": "a51e4e15-451c-4db3-bcd2-0318756541d7",
   "metadata": {},
   "source": [
    "17. Add a new value of your choosing to the countries_dict list of key value pairs from the OECD data."
   ]
  },
  {
   "cell_type": "code",
   "execution_count": 17,
   "id": "78e98bf1-3e94-4a48-b194-5f728a52cff0",
   "metadata": {},
   "outputs": [
    {
     "name": "stdout",
     "output_type": "stream",
     "text": [
      "{'Australia': [1776577, 77.3, 1.447, 0.015], 'Chile': [300686, 61.9, 801.342, 0.001], 'Belgium': [583435, 66.5, 1.082, 0.001], 'Austria': [470941, 74, 1.082, 0.021], 'Canada': [2161483, 75.6, 1.345, 0.015], 'Columbia': '[460200, 72.3, 109.36, -0.019]'}\n"
     ]
    }
   ],
   "source": [
    "countries_dict[\"Columbia\"] = \"[460200, 72.3, 109.36, -0.019]\"\n",
    "print(countries_dict)"
   ]
  },
  {
   "cell_type": "markdown",
   "id": "266de328-cf77-4af4-9c4c-6617689577a5",
   "metadata": {},
   "source": [
    "18. Oh no!  You just got the call from the chief economist, and the reported data was incorrect. They forgot to count an entire region when they calculated the second country in your list. Change the GDP value of your second country adding 10% to the GDP total for that country."
   ]
  },
  {
   "cell_type": "code",
   "execution_count": 18,
   "id": "43d6cfaf-c32e-4424-8202-cba5dc4d3b80",
   "metadata": {},
   "outputs": [
    {
     "name": "stdout",
     "output_type": "stream",
     "text": [
      "{'Australia': [1776577, 77.3, 1.447, 0.015], 'Chile': [330754.60000000003, 61.9, 801.342, 0.001], 'Belgium': [583435, 66.5, 1.082, 0.001], 'Austria': [470941, 74, 1.082, 0.021], 'Canada': [2161483, 75.6, 1.345, 0.015], 'Columbia': '[460200, 72.3, 109.36, -0.019]'}\n"
     ]
    }
   ],
   "source": [
    "gdp_index = 0\n",
    "current_gdp = countries_dict['Chile'][gdp_index]\n",
    "new_gdp = current_gdp * 1.1 \n",
    "countries_dict['Chile'][gdp_index] = new_gdp\n",
    "\n",
    "print(countries_dict) "
   ]
  },
  {
   "cell_type": "markdown",
   "id": "5d3dac27-1eba-45da-a943-7c8d15058877",
   "metadata": {},
   "source": [
    "#### Functions\n",
    "Creating functions in Python is a fundamental aspect of the language, allowing for code reuse, organization, and readability. Functions enable you to encapsulate a block of code that performs a specific task and can be executed whenever the function is called. Here's a basic overview of how to define and use functions in Python:\n",
    "\n",
    "**Defining a Function**\n",
    "A function is defined using the def keyword, followed by the function name, parentheses (), and a colon :. Inside the parentheses, you can optionally include parameters (also known as arguments) that the function can accept. The function's code block starts on the next line and must be indented.\n"
   ]
  },
  {
   "cell_type": "code",
   "execution_count": 19,
   "id": "8570c5ac-f508-4cc1-8647-720d01cf1cbe",
   "metadata": {},
   "outputs": [],
   "source": [
    "def my_function():\n",
    "\n",
    "    print(\"Hello from a function!\")"
   ]
  },
  {
   "cell_type": "markdown",
   "id": "b047b51c",
   "metadata": {},
   "source": [
    "**Calling a Function**\n",
    "\n",
    "To call (execute) the function, use the function name followed by parentheses. If the function accepts parameters, you'll provide the arguments inside these parentheses.\n"
   ]
  },
  {
   "cell_type": "code",
   "execution_count": 20,
   "id": "a79d16df-74a6-4690-98d6-5fd33b75a800",
   "metadata": {},
   "outputs": [
    {
     "name": "stdout",
     "output_type": "stream",
     "text": [
      "Hello from a function!\n"
     ]
    }
   ],
   "source": [
    "my_function()  # This will print \"Hello from a function!\""
   ]
  },
  {
   "cell_type": "markdown",
   "id": "514d716e",
   "metadata": {},
   "source": [
    "**Function with Parameters**\n",
    "Functions can accept parameters, which are variables passed into the function. Parameters allow you to pass data to a function, making functions more flexible and reusable.\n"
   ]
  },
  {
   "cell_type": "code",
   "execution_count": 21,
   "id": "d190f444-0659-4e76-9e00-5cd52b11d9dd",
   "metadata": {},
   "outputs": [
    {
     "name": "stdout",
     "output_type": "stream",
     "text": [
      "Hello, Alice!\n"
     ]
    }
   ],
   "source": [
    "def greet(name):\n",
    "    print(f\"Hello, {name}!\")\n",
    "\n",
    "#You can call this function with a parameter:\n",
    "\n",
    "greet(\"Alice\")  # This will print \"Hello, Alice!\""
   ]
  },
  {
   "cell_type": "markdown",
   "id": "40e7cb1e-6e19-4b68-bf59-f60fc1e0ff91",
   "metadata": {},
   "source": [
    "**Returning Values**\n",
    "Functions can return values using the return statement. A function stops executing when it reaches a return statement, and it returns the specified value to the caller.\n"
   ]
  },
  {
   "cell_type": "code",
   "execution_count": 22,
   "id": "e5f081c4-798c-4427-80dd-d1e762552418",
   "metadata": {},
   "outputs": [],
   "source": [
    "def add(a, b):\n",
    "    return a + b\n",
    "\n",
    "#You can capture the returned value in a variable:\n",
    "\n",
    "result = add(5, 7)  # result will be 12\n"
   ]
  },
  {
   "cell_type": "markdown",
   "id": "8bbf56bb-4c74-477d-a8ed-472f42de2848",
   "metadata": {},
   "source": [
    "**Default Parameter Values**\n",
    "You can provide default values for parameters. If the caller does not supply an argument for such a parameter, the default value is used.\n"
   ]
  },
  {
   "cell_type": "code",
   "execution_count": 23,
   "id": "e4e75db3-c5fb-425a-a5ae-106e2bd69b99",
   "metadata": {},
   "outputs": [
    {
     "name": "stdout",
     "output_type": "stream",
     "text": [
      "Hello, World!\n"
     ]
    }
   ],
   "source": [
    "def greet(name=\"World\"):\n",
    "    print(f\"Hello, {name}!\")\n",
    "#Calling the function without providing an argument uses the default value:\n",
    "greet()  # Prints \"Hello, World!\""
   ]
  },
  {
   "cell_type": "markdown",
   "id": "735231df-9992-408d-8cf7-4dbce87b643a",
   "metadata": {},
   "source": [
    "**Keyword Arguments**\n",
    "When calling functions, you can specify arguments by name. This is useful when a function takes several parameters.\n"
   ]
  },
  {
   "cell_type": "code",
   "execution_count": 24,
   "id": "5d124524-bba1-4274-bd25-8f6b4ea25cf6",
   "metadata": {},
   "outputs": [
    {
     "name": "stdout",
     "output_type": "stream",
     "text": [
      "I have a cat named Whiskers.\n"
     ]
    }
   ],
   "source": [
    "def describe_pet(animal_type, pet_name):\n",
    "    print(f\"I have a {animal_type} named {pet_name}.\")\n",
    "\n",
    "describe_pet(pet_name=\"Whiskers\", animal_type=\"cat\")\n"
   ]
  },
  {
   "cell_type": "markdown",
   "id": "ef5c0d6e-6578-4453-9af6-965ea0226739",
   "metadata": {},
   "source": [
    "**Arbitrary Number of Arguments**\n",
    "Sometimes, you might not know how many arguments will be passed into your function. \n",
    "The *args parameter in Python functions allows you to pass a variable number of arguments to a function. It is used when you want to make a function that can handle more arguments than you specified while defining the function. The arguments are accessed as a tuple within the function. Here are three examples demonstrating how to use *args in different contexts:\n",
    "\n",
    "1. Sum Function\n",
    "This function calculates the sum of all the numbers passed to it as arguments, demonstrating the use of *args to accept an arbitrary number of numeric arguments.\n"
   ]
  },
  {
   "cell_type": "code",
   "execution_count": 25,
   "id": "5251d477-616c-45de-a3ae-5060e0c194dd",
   "metadata": {},
   "outputs": [
    {
     "name": "stdout",
     "output_type": "stream",
     "text": [
      "45\n",
      "15\n"
     ]
    }
   ],
   "source": [
    "def sum_numbers(*args):\n",
    "    return sum(args)\n",
    "\n",
    "# Example usage:\n",
    "print(sum_numbers(10, 15, 20))  # Output: 45\n",
    "print(sum_numbers(5, 10))       # Output: 15"
   ]
  },
  {
   "cell_type": "markdown",
   "id": "61e4dbb5",
   "metadata": {},
   "source": [
    "2. Concatenate Strings\n",
    "This function concatenates all string arguments passed to it, showcasing how *args can be used to work with an unknown number of string arguments.\n"
   ]
  },
  {
   "cell_type": "code",
   "execution_count": 26,
   "id": "32c578dd-e796-445f-922b-0fa7e6844a8b",
   "metadata": {},
   "outputs": [],
   "source": [
    "def concatenate_strings(*args):\n",
    "    result = \"\"\n",
    "    for arg in args:\n",
    "        result += arg + \" \"  # Adding a space for readability\n",
    "    return result.strip()"
   ]
  },
  {
   "cell_type": "code",
   "execution_count": 27,
   "id": "fa4b595c-b8b2-45c0-a7d6-e27d6a0aab0a",
   "metadata": {},
   "outputs": [
    {
     "name": "stdout",
     "output_type": "stream",
     "text": [
      "Python is awesome\n",
      "Hello World\n"
     ]
    }
   ],
   "source": [
    "# Example usage:\n",
    "print(concatenate_strings(\"Python\", \"is\", \"awesome\"))  # Output: 'Python is awesome'\n",
    "print(concatenate_strings(\"Hello\", \"World\"))           # Output: 'Hello World'"
   ]
  },
  {
   "cell_type": "markdown",
   "id": "224e5431",
   "metadata": {},
   "source": [
    "3. Logging Function\n",
    "This example demonstrates a logging function that accepts a message and an arbitrary number of additional details, illustrating the flexibility of *args for functions that might need optional additional information.\n"
   ]
  },
  {
   "cell_type": "code",
   "execution_count": 28,
   "id": "f4a83c80-6f09-4ff2-a9c8-3376c3739232",
   "metadata": {},
   "outputs": [
    {
     "name": "stdout",
     "output_type": "stream",
     "text": [
      "User logged in - User: admin - Time: 12:34 PM\n",
      "Server started\n"
     ]
    }
   ],
   "source": [
    "def log_message(message, *args):\n",
    "    full_message = message\n",
    "    for detail in args:\n",
    "        full_message += f\" - {detail}\"\n",
    "    print(full_message)\n",
    "\n",
    "# Example usage:\n",
    "log_message(\"User logged in\", \"User: admin\", \"Time: 12:34 PM\")  \n",
    "# Output: User logged in - User: admin - Time: 12:34 PM\n",
    "\n",
    "log_message(\"Server started\")  \n",
    "# Output: Server started\n"
   ]
  },
  {
   "cell_type": "markdown",
   "id": "73cb57a5-ed4f-42d9-8362-29529213bde3",
   "metadata": {},
   "source": [
    "20. Write a function called calc_avg_values designed to uppose you want to create a function that calculates the average value of an economic indicator (like GDP growth rate, inflation rate, etc.) for a given set of years. Since the number of years may vary depending on the analysis you're conducting, hint: *args can be very useful here (see above)\n",
    "\n"
   ]
  },
  {
   "cell_type": "code",
   "execution_count": 29,
   "id": "e837c415-fcdf-40f0-b068-cc31b9184c1b",
   "metadata": {},
   "outputs": [],
   "source": [
    "def calc_avg_values(*args):\n",
    "    if not args:\n",
    "        return \"No values provided.\"\n",
    "    total = sum(args)\n",
    "    average = total / len(args)     \n",
    "    return average "
   ]
  },
  {
   "cell_type": "code",
   "execution_count": 30,
   "id": "45e3e6fd",
   "metadata": {},
   "outputs": [
    {
     "name": "stdout",
     "output_type": "stream",
     "text": [
      "1180006.0\n"
     ]
    }
   ],
   "source": [
    "print(calc_avg_values(1776577, 583435))"
   ]
  },
  {
   "cell_type": "markdown",
   "id": "ac88c95a-20be-44a7-8af4-6f7214ca2a22",
   "metadata": {},
   "source": [
    "#### Some viz basics\n",
    "You may want to visualize some of your findings!\n",
    "\n",
    "To visualize data with Python, both Seaborn and Matplotlib are excellent choices. Seaborn is built on top of Matplotlib and provides a high-level interface for drawing attractive and informative statistical graphics. For simplicity and aesthetics, we'll use Seaborn to visualize the example data related to international economic development.\n",
    "\n",
    "Let's assume you have data on the GDP per capita for a specific region over a series of years, and you want to visualize this data to analyze trends over time.\n",
    "\n",
    "First, we need to install Seaborn if it's not already installed. You can install Seaborn using pip.\n"
   ]
  },
  {
   "cell_type": "code",
   "execution_count": 31,
   "id": "8b73642b-6840-4832-bf2c-147d34d74e6c",
   "metadata": {},
   "outputs": [
    {
     "data": {
      "image/png": "[encoded data removed]",
      "text/plain": [
       "<Figure size 640x480 with 1 Axes>"
      ]
     },
     "metadata": {},
     "output_type": "display_data"
    }
   ],
   "source": [
    "import seaborn as sns\n",
    "import pandas as pd\n",
    "import matplotlib.pyplot as plt\n",
    "\n",
    "# Example data: GDP per capita over a range of years for \"Region X\"\n",
    "data = {\n",
    "    'Year': [2015, 2016, 2017, 2018, 2019],\n",
    "    'GDP per Capita': [9000, 9200, 9400, 9600, 9800]\n",
    "}\n",
    "\n",
    "# Convert the data into a DataFrame\n",
    "df = pd.DataFrame(data)\n",
    "\n",
    "# Create a line plot to visualize GDP per capita over the years\n",
    "sns.lineplot(x='Year', y='GDP per Capita', data=df, marker='o')\n",
    "\n",
    "# Enhancing the plot\n",
    "plt.title('GDP per Capita Over Time for Region X')\n",
    "plt.xlabel('Year')\n",
    "plt.ylabel('GDP per Capita (USD)')\n",
    "plt.grid(True)\n",
    "plt.tight_layout()\n",
    "\n",
    "# Show the plot\n",
    "plt.show()"
   ]
  },
  {
   "cell_type": "markdown",
   "id": "b352750a-ab8d-4416-9f8e-4558ad700dd1",
   "metadata": {},
   "source": [
    "21. Adapt the code above to visualize the change in GDP from your previous solution."
   ]
  },
  {
   "cell_type": "code",
   "execution_count": 32,
   "id": "f1973d68-a32b-4262-a617-291f73ef7b79",
   "metadata": {},
   "outputs": [
    {
     "data": {
      "image/png": "[encoded data removed]",
      "text/plain": [
       "<Figure size 640x480 with 1 Axes>"
      ]
     },
     "metadata": {},
     "output_type": "display_data"
    }
   ],
   "source": [
    "import seaborn as sns\n",
    "import pandas as pd\n",
    "import matplotlib.pyplot as plt\n",
    "\n",
    "# Example data: GDP per capita over a range of years for \"Region X\"\n",
    "data = {\n",
    "    'Year': [2015, 2016, 2017, 2018, 2019],\n",
    "    'GDP per Capita': [9000, 9200, 9400, 9600, 9800]\n",
    "}\n",
    "\n",
    "# Convert the data into a DataFrame\n",
    "df = pd.DataFrame(data)\n",
    "\n",
    "# Calculate the change in GDP\n",
    "df['GDP Change'] = df['GDP per Capita'].diff()\n",
    "\n",
    "# Create a line plot to visualize the change in GDP over the years\n",
    "sns.lineplot(x='Year', y='GDP Change', data=df, marker='o')\n",
    "\n",
    "# Enhancing the plot\n",
    "plt.title('Change in GDP Over Time for Region X')\n",
    "plt.xlabel('Year')\n",
    "plt.ylabel('GDP Change (USD)')\n",
    "plt.grid(True)\n",
    "plt.tight_layout()\n",
    "\n",
    "# Show the plot\n",
    "plt.show()\n"
   ]
  },
  {
   "cell_type": "markdown",
   "id": "732eaf65-70c9-4e54-b5d4-7887d12f94bb",
   "metadata": {},
   "source": [
    "### Try-Except \n",
    "Sometimes when we pull data from a spreadsheet,there are values that are misentered. This is where we Try-Except can work.\n",
    "Check out this example\n"
   ]
  },
  {
   "cell_type": "code",
   "execution_count": 33,
   "id": "02cf38ca-7a6d-4caf-bbaa-3e79b15b9e85",
   "metadata": {},
   "outputs": [
    {
     "name": "stdout",
     "output_type": "stream",
     "text": [
      "Valid GDP value: 4500\n",
      "Invalid data encountered, skipping...\n",
      "Valid GDP value: 5200\n"
     ]
    }
   ],
   "source": [
    "gdp_values = [\"4500\", \"undefined\", \"5200\"]\n",
    "for value in gdp_values:\n",
    "    try:\n",
    "        gdp = int(value)\n",
    "        print(f\"Valid GDP value: {gdp}\")\n",
    "    except ValueError:\n",
    "        print(\"Invalid data encountered, skipping...\")"
   ]
  },
  {
   "cell_type": "markdown",
   "id": "2068c30c",
   "metadata": {},
   "source": [
    "22. Explain, in words, the code above."
   ]
  },
  {
   "cell_type": "markdown",
   "id": "1703a93b-004e-46fb-a520-f3872bc80dbb",
   "metadata": {},
   "source": [
    "Your answer here: In the above code, the program runs through each element of gdp_value, and checks if the element is an integer or not. If it is it prints \"Valid GDP value\" along with the GDP. If it is not, then it prints ValueError and moves on to the next element. "
   ]
  },
  {
   "cell_type": "markdown",
   "id": "f9de24f2-b226-47a0-981c-1b6da23288ba",
   "metadata": {},
   "source": [
    "23. Give another example of try, except, but do not use int(value) but some other way of determining a True value."
   ]
  },
  {
   "cell_type": "code",
   "execution_count": 34,
   "id": "86664b1f-b6fe-44ce-acb6-f3fbbc22f09c",
   "metadata": {},
   "outputs": [
    {
     "name": "stdout",
     "output_type": "stream",
     "text": [
      "The result of 10 divided by 2 is: 5.0\n",
      "Error: Division by zero is not allowed.\n"
     ]
    }
   ],
   "source": [
    "def divide_numbers(a, b):\n",
    "    try:\n",
    "        result = a / b\n",
    "        print(f\"The result of {a} divided by {b} is: {result}\")\n",
    "    except ZeroDivisionError:\n",
    "        print(\"Error: Division by zero is not allowed.\")\n",
    "    except Exception as e:\n",
    "        print(f\"An unexpected error occurred: {e}\")\n",
    "\n",
    "divide_numbers(10, 2)\n",
    "divide_numbers(10, 0)"
   ]
  },
  {
   "cell_type": "markdown",
   "id": "456eba22-ac06-4adf-aaa1-96857ded0bd4",
   "metadata": {},
   "source": [
    "#### Comprehensions\n"
   ]
  },
  {
   "cell_type": "code",
   "execution_count": 35,
   "id": "2f1a09bd-ea7d-4ce4-97f9-ccd0e35d748b",
   "metadata": {},
   "outputs": [],
   "source": [
    "country_growth_data = {\"CountryA\": 3.2, \"CountryB\": 6.5, \"CountryC\": 2.8, \"CountryD\": 5.4}"
   ]
  },
  {
   "cell_type": "markdown",
   "id": "691a11cb-b9eb-4e9a-a8a7-2c5f5da7baa9",
   "metadata": {},
   "source": [
    "24. Write a for loop that iterates over each item in the gdp_growth_data dictionary, checks the GDP growth rate, and assigns a category (\"High\" or \"Moderate\") based on the condition (rate > 5). Store the results in a growth_category dictionary."
   ]
  },
  {
   "cell_type": "code",
   "execution_count": 36,
   "id": "6e39f74e-abc8-4500-a7f1-35c1d0d3f7d8",
   "metadata": {},
   "outputs": [
    {
     "name": "stdout",
     "output_type": "stream",
     "text": [
      "CountryA has Moderate GDP Growth Rate\n",
      "CountryB has High GDP Growth Rate\n",
      "CountryC has Moderate GDP Growth Rate\n",
      "CountryD has High GDP Growth Rate\n"
     ]
    }
   ],
   "source": [
    "for country, growth_rate in country_growth_data.items():\n",
    "    if growth_rate > 5:\n",
    "        print(f\"{country} has High GDP Growth Rate\")\n",
    "    else:\n",
    "        print(f\"{country} has Moderate GDP Growth Rate\")"
   ]
  },
  {
   "cell_type": "markdown",
   "id": "badaea3c-ccfa-47d8-a2de-73af0f686bb9",
   "metadata": {},
   "source": [
    "25. Now re-write the code as a list comprehension"
   ]
  },
  {
   "cell_type": "code",
   "execution_count": 37,
   "id": "002632c6-92a8-4938-b0fd-8068f29dc68c",
   "metadata": {},
   "outputs": [
    {
     "name": "stdout",
     "output_type": "stream",
     "text": [
      "[['CountryA', 3.2], ['CountryB', 6.5], ['CountryC', 2.8], ['CountryD', 5.4]]\n"
     ]
    }
   ],
   "source": [
    "nested_country_data = [[country, growth_rate] for country, growth_rate in country_growth_data.items()]\n",
    "\n",
    "print(nested_country_data)"
   ]
  },
  {
   "cell_type": "markdown",
   "id": "a571e149",
   "metadata": {},
   "source": [
    "This is how you would write it as a dictionary comprehension:"
   ]
  },
  {
   "cell_type": "code",
   "execution_count": 38,
   "id": "9446c3b3-b4b7-4582-9b6d-a93a5d020618",
   "metadata": {},
   "outputs": [
    {
     "name": "stdout",
     "output_type": "stream",
     "text": [
      "{'CountryA': 'Moderate', 'CountryB': 'High', 'CountryC': 'Moderate'}\n"
     ]
    }
   ],
   "source": [
    "gdp_growth_data = {\"CountryA\": 2.5, \"CountryB\": 7.1, \"CountryC\": 4.9}\n",
    "growth_category = {country: \"High\" if rate > 5 else \"Moderate\" for country, rate in gdp_growth_data.items()}\n",
    "print(growth_category)"
   ]
  },
  {
   "cell_type": "markdown",
   "id": "3901b8b5",
   "metadata": {},
   "source": [
    "26. What type of data structure is growth_category?\n"
   ]
  },
  {
   "cell_type": "markdown",
   "id": "5598fd27",
   "metadata": {},
   "source": [
    "growth_category is a dictionary. "
   ]
  }
 ],
 "metadata": {
  "kernelspec": {
   "display_name": "Python 3 (ipykernel)",
   "language": "python",
   "name": "python3"
  },
  "language_info": {
   "codemirror_mode": {
    "name": "ipython",
    "version": 3
   },
   "file_extension": ".py",
   "mimetype": "text/x-python",
   "name": "python",
   "nbconvert_exporter": "python",
   "pygments_lexer": "ipython3",
   "version": "3.11.4"
  }
 },
 "nbformat": 4,
 "nbformat_minor": 5
}
