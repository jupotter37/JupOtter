{
  "cells": [
    {
      "cell_type": "markdown",
      "metadata": {
        "id": "JFX_lra3_YlP"
      },
      "source": [
        "pYTHON COURSE"
      ]
    },
    {
      "cell_type": "code",
      "execution_count": 1,
      "metadata": {
        "colab": {
          "base_uri": "https://localhost:8080/"
        },
        "id": "5CtHfJxA_YlR",
        "outputId": "d594c203-ead1-4c24-fe72-95b8263ae8e8"
      },
      "outputs": [
        {
          "output_type": "stream",
          "name": "stdout",
          "text": [
            "Hello, World!\n"
          ]
        }
      ],
      "source": [
        "print(\"Hello, World!\")\n"
      ]
    },
    {
      "cell_type": "markdown",
      "metadata": {
        "id": "tUQvl-T4_YlS"
      },
      "source": [
        "variable and data types"
      ]
    },
    {
      "cell_type": "code",
      "execution_count": 2,
      "metadata": {
        "id": "vNAjT88W_YlS"
      },
      "outputs": [],
      "source": [
        "age = 25\n",
        "height = 5.8\n",
        "name = \"John\""
      ]
    },
    {
      "cell_type": "markdown",
      "metadata": {
        "id": "Mobo6hU9_YlS"
      },
      "source": [
        "LISTS"
      ]
    },
    {
      "cell_type": "code",
      "execution_count": 3,
      "metadata": {
        "id": "IXW_tb7L_YlT"
      },
      "outputs": [],
      "source": [
        "fruits = [\"apple\", \"banana\", \"orange\"]\n"
      ]
    },
    {
      "cell_type": "markdown",
      "metadata": {
        "id": "nlQ0Hmdg_YlT"
      },
      "source": [
        "CONTROL FLOW"
      ]
    },
    {
      "cell_type": "code",
      "execution_count": 4,
      "metadata": {
        "colab": {
          "base_uri": "https://localhost:8080/"
        },
        "id": "NuNbnDPh_YlT",
        "outputId": "ceb20fb9-0b46-4bf6-d7bf-21edaf68c525"
      },
      "outputs": [
        {
          "output_type": "stream",
          "name": "stdout",
          "text": [
            "You are an adult.\n",
            "apple\n",
            "banana\n",
            "orange\n"
          ]
        }
      ],
      "source": [
        "if age > 18:\n",
        "    print(\"You are an adult.\")\n",
        "for fruit in fruits:\n",
        "    print(fruit)\n"
      ]
    },
    {
      "cell_type": "markdown",
      "metadata": {
        "id": "nnFqVmXA_YlT"
      },
      "source": [
        "FUNCTIONS"
      ]
    },
    {
      "cell_type": "code",
      "execution_count": 5,
      "metadata": {
        "colab": {
          "base_uri": "https://localhost:8080/"
        },
        "id": "jaK806jM_YlT",
        "outputId": "72614767-aaf4-47d7-de45-5f72ecbbe8d7"
      },
      "outputs": [
        {
          "output_type": "stream",
          "name": "stdout",
          "text": [
            "Hello, Alice!\n"
          ]
        }
      ],
      "source": [
        "def greet(name):\n",
        "    print(\"Hello, \" + name + \"!\")\n",
        "greet(\"Alice\")"
      ]
    },
    {
      "cell_type": "markdown",
      "metadata": {
        "id": "kg3NYeZD_YlU"
      },
      "source": [
        "QUEUE"
      ]
    },
    {
      "cell_type": "code",
      "execution_count": 14,
      "metadata": {
        "id": "h8NcgGvF_YlU"
      },
      "outputs": [],
      "source": [
        "from collections import deque\n",
        "queue = deque([1, 2, 3])\n",
        "queue.append(4)  # Enqueue\n",
        "dequeued_item = queue.popleft()  # Dequeue\n"
      ]
    },
    {
      "cell_type": "markdown",
      "metadata": {
        "id": "ihsffS9L_YlU"
      },
      "source": [
        "LINKED LIST"
      ]
    },
    {
      "cell_type": "code",
      "execution_count": 8,
      "metadata": {
        "id": "Lo30fs9N_YlU"
      },
      "outputs": [],
      "source": [
        "class Node:\n",
        "    def __init__(self, data=None):\n",
        "        self.data = data\n",
        "        self.next = None\n",
        "\n",
        "# Usage:\n",
        "node1 = Node(1)\n",
        "node2 = Node(2)\n",
        "node1.next = node2"
      ]
    },
    {
      "cell_type": "code",
      "source": [
        "person = {\"name\": \"John\", \"age\": 25, \"city\": \"New York\"}\n"
      ],
      "metadata": {
        "id": "TFn-did2Ecjz"
      },
      "execution_count": 13,
      "outputs": []
    },
    {
      "cell_type": "code",
      "source": [
        "unique_numbers = {1, 2, 3, 4, 5}"
      ],
      "metadata": {
        "id": "f3TqWlVJEe3I"
      },
      "execution_count": 12,
      "outputs": []
    },
    {
      "cell_type": "markdown",
      "source": [
        "arrays"
      ],
      "metadata": {
        "id": "BzJeSmngEha9"
      }
    },
    {
      "cell_type": "code",
      "source": [
        "class SimpleArray:\n",
        "    def __init__(self):\n",
        "        self.data = []\n",
        "\n",
        "    def append(self, value):\n",
        "        self.data.append(value)\n",
        "\n",
        "    def get(self, index):\n",
        "        return self.data[index]\n",
        "\n",
        "    def length(self):\n",
        "        return len(self.data)\n",
        "\n",
        "\n",
        "# Example Usage:\n",
        "my_array = SimpleArray()\n",
        "my_array.append(1)\n",
        "my_array.append(2)\n",
        "print(my_array.get(1))  # Output: 2\n",
        "print(my_array.length())  # Output: 2"
      ],
      "metadata": {
        "colab": {
          "base_uri": "https://localhost:8080/"
        },
        "id": "YgPhqojZEi8L",
        "outputId": "399ff828-bd96-42a9-e64e-0a75f1fae4b0"
      },
      "execution_count": 15,
      "outputs": [
        {
          "output_type": "stream",
          "name": "stdout",
          "text": [
            "2\n",
            "2\n"
          ]
        }
      ]
    },
    {
      "cell_type": "markdown",
      "source": [
        "linear search"
      ],
      "metadata": {
        "id": "b6i9R02dEmIF"
      }
    },
    {
      "cell_type": "code",
      "source": [
        "def linear_search(arr, target):\n",
        "    for i, value in enumerate(arr):\n",
        "        if value == target:\n",
        "            return i\n",
        "    return -1\n",
        "\n",
        "\n",
        "# Example Usage:\n",
        "my_list = [1, 2, 3, 4, 5]\n",
        "target_value = 3\n",
        "print(linear_search(my_list, target_value))  # Output: 2\n"
      ],
      "metadata": {
        "colab": {
          "base_uri": "https://localhost:8080/"
        },
        "id": "cmebk5sVEo1o",
        "outputId": "2f757b42-1ad8-4400-fd6b-aca1e690d33f"
      },
      "execution_count": 10,
      "outputs": [
        {
          "output_type": "stream",
          "name": "stdout",
          "text": [
            "2\n"
          ]
        }
      ]
    },
    {
      "cell_type": "markdown",
      "source": [
        "bubble sort"
      ],
      "metadata": {
        "id": "iqBocdEqErWu"
      }
    },
    {
      "cell_type": "code",
      "source": [
        "def bubble_sort(arr):\n",
        "    n = len(arr)\n",
        "    for i in range(n):\n",
        "        for j in range(0, n - i - 1):\n",
        "            if arr[j] > arr[j + 1]:\n",
        "                arr[j], arr[j + 1] = arr[j + 1], arr[j]\n",
        "\n",
        "\n",
        "# Example Usage:\n",
        "unsorted_list = [64, 34, 25, 12, 22, 11, 90]\n",
        "bubble_sort(unsorted_list)\n",
        "print(unsorted_list)  # Output: [11, 12, 22, 25, 34, 64, 90]"
      ],
      "metadata": {
        "colab": {
          "base_uri": "https://localhost:8080/"
        },
        "id": "sbyMNm3nEuke",
        "outputId": "0b53a838-2f87-45a6-b206-ed71cc6bebc9"
      },
      "execution_count": 9,
      "outputs": [
        {
          "output_type": "stream",
          "name": "stdout",
          "text": [
            "[11, 12, 22, 25, 34, 64, 90]\n"
          ]
        }
      ]
    },
    {
      "cell_type": "markdown",
      "source": [
        "set"
      ],
      "metadata": {
        "id": "jsv-47lcEw_s"
      }
    },
    {
      "cell_type": "code",
      "source": [
        "class SimpleSet:\n",
        "    def __init__(self):\n",
        "        self.data = set()\n",
        "\n",
        "    def add(self, value):\n",
        "        self.data.add(value)\n",
        "\n",
        "    def contains(self, value):\n",
        "        return value in self.data\n",
        "\n",
        "\n",
        "# Example Usage:\n",
        "my_set = SimpleSet()\n",
        "my_set.add(1)\n",
        "my_set.add(2)\n",
        "print(my_set.contains(2))  # Output: True\n",
        "print(my_set.contains(3))  # Output: False\n"
      ],
      "metadata": {
        "colab": {
          "base_uri": "https://localhost:8080/"
        },
        "id": "ntjByACzExyg",
        "outputId": "7b0fca8a-5e19-4828-975d-ee409e197655"
      },
      "execution_count": 16,
      "outputs": [
        {
          "output_type": "stream",
          "name": "stdout",
          "text": [
            "True\n",
            "False\n"
          ]
        }
      ]
    },
    {
      "cell_type": "markdown",
      "source": [
        "maps"
      ],
      "metadata": {
        "id": "2oIpAjYVE02R"
      }
    },
    {
      "cell_type": "code",
      "source": [
        "class SimpleMap:\n",
        "    def __init__(self):\n",
        "        self.data = {}\n",
        "\n",
        "    def add(self, key, value):\n",
        "        self.data[key] = value\n",
        "\n",
        "    def get(self, key):\n",
        "        return self.data.get(key)\n",
        "\n",
        "\n",
        "# Example Usage:\n",
        "my_map = SimpleMap()\n",
        "my_map.add(\"name\", \"John\")\n",
        "my_map.add(\"age\", 25)\n",
        "print(my_map.get(\"name\"))  # Output: John\n",
        "print(my_map.get(\"city\"))  # Output: None\n"
      ],
      "metadata": {
        "colab": {
          "base_uri": "https://localhost:8080/"
        },
        "id": "5i2Hssk3E3Jy",
        "outputId": "c39855bf-ec96-43d6-ed4a-1cda01da7c91"
      },
      "execution_count": 17,
      "outputs": [
        {
          "output_type": "stream",
          "name": "stdout",
          "text": [
            "John\n",
            "None\n"
          ]
        }
      ]
    },
    {
      "cell_type": "markdown",
      "source": [
        "tree"
      ],
      "metadata": {
        "id": "kAXPr_79GW-z"
      }
    },
    {
      "cell_type": "code",
      "source": [
        "class TreeNode:\n",
        "    def __init__(self, value):\n",
        "        self.value = value\n",
        "        self.children = []\n",
        "\n",
        "    def add_child(self, child_node):\n",
        "        self.children.append(child_node)\n",
        "\n",
        "\n",
        "# Example Usage:\n",
        "root = TreeNode(1)\n",
        "child1 = TreeNode(2)\n",
        "child2 = TreeNode(3)\n",
        "root.add_child(child1)\n",
        "root.add_child(child2)"
      ],
      "metadata": {
        "id": "yyy4cxsKGX-d"
      },
      "execution_count": 19,
      "outputs": []
    },
    {
      "cell_type": "markdown",
      "source": [
        "graph"
      ],
      "metadata": {
        "id": "WCU4C8V7GcBy"
      }
    },
    {
      "cell_type": "code",
      "source": [
        "class Graph:\n",
        "    def __init__(self):\n",
        "        self.vertices = {}\n",
        "\n",
        "    def add_vertex(self, vertex):\n",
        "        self.vertices[vertex] = []\n",
        "\n",
        "    def add_edge(self, start_vertex, end_vertex):\n",
        "        self.vertices[start_vertex].append(end_vertex)\n",
        "\n",
        "\n",
        "# Example Usage:\n",
        "my_graph = Graph()\n",
        "my_graph.add_vertex(1)\n",
        "my_graph.add_vertex(2)\n",
        "my_graph.add_edge(1, 2)"
      ],
      "metadata": {
        "id": "IwCwtgn0GdN2"
      },
      "execution_count": 20,
      "outputs": []
    },
    {
      "cell_type": "markdown",
      "source": [
        "stack"
      ],
      "metadata": {
        "id": "OCEAPI5vGeLW"
      }
    },
    {
      "cell_type": "code",
      "source": [
        "class SimpleStack:\n",
        "    def __init__(self):\n",
        "        self.data = []\n",
        "\n",
        "    def push(self, value):\n",
        "        self.data.append(value)\n",
        "\n",
        "    def pop(self):\n",
        "        if not self.is_empty():\n",
        "            return self.data.pop()\n",
        "\n",
        "    def is_empty(self):\n",
        "        return len(self.data) == 0\n",
        "\n",
        "\n",
        "# Example Usage:\n",
        "my_stack = SimpleStack()\n",
        "my_stack.push(1)\n",
        "my_stack.push(2)\n",
        "print(my_stack.pop())  # Output: 2\n",
        "print(my_stack.pop())  # Output: 1"
      ],
      "metadata": {
        "id": "q5lDt2FhGiLU",
        "outputId": "3664f990-87ba-4e08-d70e-30bee0b3e37d",
        "colab": {
          "base_uri": "https://localhost:8080/"
        }
      },
      "execution_count": 21,
      "outputs": [
        {
          "output_type": "stream",
          "name": "stdout",
          "text": [
            "2\n",
            "1\n"
          ]
        }
      ]
    },
    {
      "cell_type": "markdown",
      "source": [
        "queue"
      ],
      "metadata": {
        "id": "JvlIxSUAGnq8"
      }
    },
    {
      "cell_type": "code",
      "source": [
        "from collections import deque\n",
        "\n",
        "class SimpleQueue:\n",
        "    def __init__(self):\n",
        "        self.data = deque()\n",
        "\n",
        "    def enqueue(self, value):\n",
        "        self.data.append(value)\n",
        "\n",
        "    def dequeue(self):\n",
        "        if not self.is_empty():\n",
        "            return self.data.popleft()\n",
        "\n",
        "    def is_empty(self):\n",
        "        return len(self.data) == 0\n",
        "\n",
        "\n",
        "# Example Usage:\n",
        "my_queue = SimpleQueue()\n",
        "my_queue.enqueue(1)\n",
        "my_queue.enqueue(2)\n",
        "print(my_queue.dequeue())  # Output: 1\n",
        "print(my_queue.dequeue())  # Output: 2"
      ],
      "metadata": {
        "id": "5QMp6TXcGok_",
        "outputId": "a8f8a812-40f9-420e-c286-ba3a0cf895fe",
        "colab": {
          "base_uri": "https://localhost:8080/"
        }
      },
      "execution_count": 22,
      "outputs": [
        {
          "output_type": "stream",
          "name": "stdout",
          "text": [
            "1\n",
            "2\n"
          ]
        }
      ]
    },
    {
      "cell_type": "markdown",
      "source": [
        "list"
      ],
      "metadata": {
        "id": "yBlVEpXqGry1"
      }
    },
    {
      "cell_type": "code",
      "source": [
        "# List is a mutable ordered collection\n",
        "my_list = [1, 2, 3, 'apple', 'banana']\n",
        "print(\"List:\", my_list)\n",
        "\n",
        "# Adding an element\n",
        "my_list.append('orange')\n",
        "print(\"After appending:\", my_list)\n",
        "\n",
        "# Accessing elements\n",
        "print(\"Element at index 2:\", my_list[2])\n",
        "\n",
        "# Modifying an element\n",
        "my_list[1] = 'grape'\n",
        "print(\"After modifying:\", my_list)\n",
        "\n",
        "# Removing an element\n",
        "my_list.remove('apple')\n",
        "print(\"After removing:\", my_list)"
      ],
      "metadata": {
        "id": "lwe4h_2fGswP",
        "outputId": "04ea79bc-9ff4-4a07-8411-8f5b6c2c1c9d",
        "colab": {
          "base_uri": "https://localhost:8080/"
        }
      },
      "execution_count": 23,
      "outputs": [
        {
          "output_type": "stream",
          "name": "stdout",
          "text": [
            "List: [1, 2, 3, 'apple', 'banana']\n",
            "After appending: [1, 2, 3, 'apple', 'banana', 'orange']\n",
            "Element at index 2: 3\n",
            "After modifying: [1, 'grape', 3, 'apple', 'banana', 'orange']\n",
            "After removing: [1, 'grape', 3, 'banana', 'orange']\n"
          ]
        }
      ]
    },
    {
      "cell_type": "markdown",
      "source": [
        "tuple"
      ],
      "metadata": {
        "id": "x_6kPD5wGtwA"
      }
    },
    {
      "cell_type": "code",
      "source": [
        "# Tuple is an immutable ordered collection\n",
        "my_tuple = (1, 2, 3, 'apple', 'banana')\n",
        "print(\"Tuple:\", my_tuple)\n",
        "\n",
        "# Accessing elements\n",
        "print(\"Element at index 2:\", my_tuple[2])\n",
        "\n",
        "# Concatenating tuples\n",
        "new_tuple = my_tuple + ('orange', 'grape')\n",
        "print(\"After concatenation:\", new_tuple)"
      ],
      "metadata": {
        "id": "nwqrvWviGuxt",
        "outputId": "4fcfc9da-f7bd-4e1a-96d0-84011074359d",
        "colab": {
          "base_uri": "https://localhost:8080/"
        }
      },
      "execution_count": 24,
      "outputs": [
        {
          "output_type": "stream",
          "name": "stdout",
          "text": [
            "Tuple: (1, 2, 3, 'apple', 'banana')\n",
            "Element at index 2: 3\n",
            "After concatenation: (1, 2, 3, 'apple', 'banana', 'orange', 'grape')\n"
          ]
        }
      ]
    },
    {
      "cell_type": "markdown",
      "source": [
        "dictionary"
      ],
      "metadata": {
        "id": "fdQ7iHGYGyMK"
      }
    },
    {
      "cell_type": "code",
      "source": [
        "# Dictionary is an unordered collection of key-value pairs\n",
        "my_dict = {'name': 'John', 'age': 25, 'city': 'New York'}\n",
        "print(\"Dictionary:\", my_dict)\n",
        "\n",
        "# Accessing values\n",
        "print(\"Age:\", my_dict['age'])\n",
        "\n",
        "# Modifying values\n",
        "my_dict['age'] = 26\n",
        "print(\"After modification:\", my_dict)\n",
        "\n",
        "# Adding a new key-value pair\n",
        "my_dict['country'] = 'USA'\n",
        "print(\"After adding:\", my_dict)\n",
        "\n",
        "# Removing a key-value pair\n",
        "del my_dict['city']\n",
        "print(\"After removal:\", my_dict)"
      ],
      "metadata": {
        "id": "ku4hHZZvGzhJ",
        "outputId": "10ae9251-a786-4e23-8182-f496f5f53428",
        "colab": {
          "base_uri": "https://localhost:8080/"
        }
      },
      "execution_count": 25,
      "outputs": [
        {
          "output_type": "stream",
          "name": "stdout",
          "text": [
            "Dictionary: {'name': 'John', 'age': 25, 'city': 'New York'}\n",
            "Age: 25\n",
            "After modification: {'name': 'John', 'age': 26, 'city': 'New York'}\n",
            "After adding: {'name': 'John', 'age': 26, 'city': 'New York', 'country': 'USA'}\n",
            "After removal: {'name': 'John', 'age': 26, 'country': 'USA'}\n"
          ]
        }
      ]
    },
    {
      "cell_type": "markdown",
      "source": [],
      "metadata": {
        "id": "6uwP0JJOG2PS"
      }
    }
  ],
  "metadata": {
    "language_info": {
      "name": "python"
    },
    "colab": {
      "provenance": []
    },
    "kernelspec": {
      "name": "python3",
      "display_name": "Python 3"
    }
  },
  "nbformat": 4,
  "nbformat_minor": 0
}