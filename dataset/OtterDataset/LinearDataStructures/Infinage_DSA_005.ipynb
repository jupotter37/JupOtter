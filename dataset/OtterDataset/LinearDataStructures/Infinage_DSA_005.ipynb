{
 "cells": [
  {
   "cell_type": "code",
   "execution_count": 1,
   "id": "fa51d761",
   "metadata": {
    "execution": {
     "iopub.execute_input": "2024-07-14T14:14:18.051824Z",
     "iopub.status.busy": "2024-07-14T14:14:18.051387Z",
     "iopub.status.idle": "2024-07-14T14:14:18.379179Z",
     "shell.execute_reply": "2024-07-14T14:14:18.378718Z"
    },
    "papermill": {
     "duration": 0.345372,
     "end_time": "2024-07-14T14:14:18.380603",
     "exception": false,
     "start_time": "2024-07-14T14:14:18.035231",
     "status": "completed"
    },
    "tags": []
   },
   "outputs": [],
   "source": [
    "from typing import List, Optional, Generator\n",
    "import pandas as pd\n",
    "import numpy as np\n",
    "import sqlite3\n",
    "import re\n",
    "import io\n",
    "import math\n",
    "import collections\n",
    "import itertools\n",
    "import functools\n",
    "import random\n",
    "import string\n",
    "import tqdm\n",
    "import bisect\n",
    "import heapq\n",
    "\n",
    "conn = sqlite3.connect(\":memory:\")\n",
    "\n",
    "def regexp(expr, item):\n",
    "    reg = re.compile(expr)\n",
    "    return reg.search(item) is not None\n",
    "\n",
    "def read_lc_df(s: str, dtypes: dict[str, str]=dict()) -> pd.DataFrame:\n",
    "    temp = pd.read_csv(io.StringIO(s), sep=\"|\", skiprows=2)\n",
    "    temp = temp.iloc[1:-1, 1:-1]\n",
    "    temp.columns = temp.columns.map(str.strip)\n",
    "    temp = temp.map(lambda x: x if type(x) != str else None if x.strip() == 'null' else x.strip())\n",
    "    temp = temp.astype(dtypes)\n",
    "    return temp\n",
    "\n",
    "conn.create_function(\"REGEXP\", 2, regexp)"
   ]
  },
  {
   "cell_type": "markdown",
   "id": "db473660",
   "metadata": {
    "papermill": {
     "duration": 0.014735,
     "end_time": "2024-07-14T14:14:18.410310",
     "exception": false,
     "start_time": "2024-07-14T14:14:18.395575",
     "status": "completed"
    },
    "tags": []
   },
   "source": [
    "#### Helper for Binary tree problems"
   ]
  },
  {
   "cell_type": "code",
   "execution_count": 2,
   "id": "6e8896c0",
   "metadata": {
    "execution": {
     "iopub.execute_input": "2024-07-14T14:14:18.440491Z",
     "iopub.status.busy": "2024-07-14T14:14:18.439938Z",
     "iopub.status.idle": "2024-07-14T14:14:18.446723Z",
     "shell.execute_reply": "2024-07-14T14:14:18.446273Z"
    },
    "lines_to_next_cell": 1,
    "papermill": {
     "duration": 0.023068,
     "end_time": "2024-07-14T14:14:18.447871",
     "exception": false,
     "start_time": "2024-07-14T14:14:18.424803",
     "status": "completed"
    },
    "tags": []
   },
   "outputs": [],
   "source": [
    "class BinaryTreeNode:\n",
    "    def __init__(self, val=0, left=None, right=None):\n",
    "        self.val = val\n",
    "        self.left = left\n",
    "        self.right = right\n",
    "\n",
    "    def to_list(self):\n",
    "        to_visit = [self]\n",
    "        visited = []\n",
    "        while len(to_visit) > 0:\n",
    "            curr = to_visit.pop(0)\n",
    "            if curr:\n",
    "                to_visit.append(curr.left)\n",
    "                to_visit.append(curr.right)\n",
    "                visited.append(curr.val)\n",
    "            else:\n",
    "                visited.append(curr)\n",
    "\n",
    "        while visited and not visited[-1]:\n",
    "            visited.pop()\n",
    "\n",
    "        return visited\n",
    "\n",
    "    def __str__(self):\n",
    "        return str(self.val)\n",
    "\n",
    "    @staticmethod\n",
    "    def from_array(nums: list[int|None]):\n",
    "        '''Create a Tree from a list of nums. Returns the root node.'''\n",
    "        if len(nums) == 0:\n",
    "            return None\n",
    "        elif len(nums) == 1:\n",
    "            return BinaryTreeNode(nums[0])\n",
    "        else:\n",
    "            forest = [BinaryTreeNode(nums[0])]\n",
    "            parent_idx = -1\n",
    "            for i in range(1, len(nums)):\n",
    "\n",
    "                curr = None\n",
    "                if nums[i] is not None:\n",
    "                    curr = BinaryTreeNode(nums[i])\n",
    "                    forest.append(curr)\n",
    "\n",
    "                if i % 2 == 1:\n",
    "                    parent_idx += 1\n",
    "                    forest[parent_idx].left = curr\n",
    "                else:\n",
    "                    forest[parent_idx].right = curr\n",
    "\n",
    "        return forest[0]"
   ]
  },
  {
   "cell_type": "markdown",
   "id": "de5b1765",
   "metadata": {
    "papermill": {
     "duration": 0.014386,
     "end_time": "2024-07-14T14:14:18.476600",
     "exception": false,
     "start_time": "2024-07-14T14:14:18.462214",
     "status": "completed"
    },
    "tags": []
   },
   "source": [
    "#### Helper for Singly Linked lists"
   ]
  },
  {
   "cell_type": "code",
   "execution_count": 3,
   "id": "e736c8a5",
   "metadata": {
    "execution": {
     "iopub.execute_input": "2024-07-14T14:14:18.506036Z",
     "iopub.status.busy": "2024-07-14T14:14:18.505592Z",
     "iopub.status.idle": "2024-07-14T14:14:18.509832Z",
     "shell.execute_reply": "2024-07-14T14:14:18.509384Z"
    },
    "lines_to_next_cell": 1,
    "papermill": {
     "duration": 0.020016,
     "end_time": "2024-07-14T14:14:18.510826",
     "exception": false,
     "start_time": "2024-07-14T14:14:18.490810",
     "status": "completed"
    },
    "tags": []
   },
   "outputs": [],
   "source": [
    "class ListNode:\n",
    "    def __init__(self, val=0, next=None):\n",
    "        self.val = val\n",
    "        self.next = next\n",
    "\n",
    "    def __str__(self):\n",
    "        return str(self.val)\n",
    "\n",
    "    @staticmethod\n",
    "    def to_singly_linked_list(nums: list[int]):\n",
    "        root = prev = None\n",
    "        for n in nums:\n",
    "            curr = ListNode(n)\n",
    "            # Init once\n",
    "            if not root:\n",
    "                root = curr\n",
    "            if prev:\n",
    "                prev.next = curr\n",
    "            prev = curr\n",
    "\n",
    "        return root\n",
    "\n",
    "    def to_list(self) -> list[int]:\n",
    "        result = []\n",
    "        curr = self\n",
    "        while curr:\n",
    "            result.append(curr.val)\n",
    "            curr = curr.next\n",
    "        return result"
   ]
  },
  {
   "cell_type": "markdown",
   "id": "cd635853",
   "metadata": {
    "papermill": {
     "duration": 0.014356,
     "end_time": "2024-07-14T14:14:18.539610",
     "exception": false,
     "start_time": "2024-07-14T14:14:18.525254",
     "status": "completed"
    },
    "tags": []
   },
   "source": [
    "Codeforces practice"
   ]
  },
  {
   "cell_type": "code",
   "execution_count": 4,
   "id": "df35356a",
   "metadata": {
    "execution": {
     "iopub.execute_input": "2024-07-14T14:14:18.568959Z",
     "iopub.status.busy": "2024-07-14T14:14:18.568572Z",
     "iopub.status.idle": "2024-07-14T14:14:18.572854Z",
     "shell.execute_reply": "2024-07-14T14:14:18.572408Z"
    },
    "lines_to_next_cell": 1,
    "papermill": {
     "duration": 0.020072,
     "end_time": "2024-07-14T14:14:18.573950",
     "exception": false,
     "start_time": "2024-07-14T14:14:18.553878",
     "status": "completed"
    },
    "tags": []
   },
   "outputs": [],
   "source": [
    "# https://codeforces.com/problemset/problem/1984/B\n",
    "def large_addition(N: int) -> bool:\n",
    "    if N < 10:\n",
    "        return False\n",
    "    else:\n",
    "        N_str: str = str(N)\n",
    "        length = len(N_str)\n",
    "        for i in range(length):\n",
    "            if i == 0 and N_str[i] != '1':\n",
    "                return False\n",
    "            elif i == length - 1 and N_str[i] == '9':\n",
    "                return False\n",
    "            elif i not in (0, length - 1) and N_str[i] == '0':\n",
    "                return False\n",
    "\n",
    "        return True\n",
    "\n",
    "# Testing the solution\n",
    "assert large_addition(1393938) == True\n",
    "assert large_addition(200) == False\n",
    "assert large_addition(10) == True"
   ]
  },
  {
   "cell_type": "markdown",
   "id": "80b62de1",
   "metadata": {
    "papermill": {
     "duration": 0.015013,
     "end_time": "2024-07-14T14:14:18.603398",
     "exception": false,
     "start_time": "2024-07-14T14:14:18.588385",
     "status": "completed"
    },
    "tags": []
   },
   "source": [
    "LC Virtual: 25th June 2024\n",
    "https://leetcode.com/contest/smarking-algorithm-contest-3/"
   ]
  },
  {
   "cell_type": "code",
   "execution_count": 5,
   "id": "ec2db856",
   "metadata": {
    "execution": {
     "iopub.execute_input": "2024-07-14T14:14:18.632848Z",
     "iopub.status.busy": "2024-07-14T14:14:18.632469Z",
     "iopub.status.idle": "2024-07-14T14:14:18.636275Z",
     "shell.execute_reply": "2024-07-14T14:14:18.635819Z"
    },
    "lines_to_next_cell": 1,
    "papermill": {
     "duration": 0.019644,
     "end_time": "2024-07-14T14:14:18.637291",
     "exception": false,
     "start_time": "2024-07-14T14:14:18.617647",
     "status": "completed"
    },
    "tags": []
   },
   "outputs": [],
   "source": [
    "# Q1\n",
    "# https://www.youtube.com/watch?v=x8T11yRLIyY\n",
    "def minMoves(nums: list[int]) -> int:\n",
    "    \"\"\"\n",
    "    Intution: Instead of increasing all n - 1 elements by 1 each time, try to decrement\n",
    "    the max element to the smallest element. Relative distances between numbers are the same.\n",
    "    \"\"\"\n",
    "    nums.sort()\n",
    "    result = 0\n",
    "    for i in range(len(nums) - 1, -1, -1):\n",
    "        result += nums[i] - nums[0]\n",
    "    return result\n",
    "\n",
    "# Testing the solution\n",
    "assert minMoves([1,2,3,4]) == 6\n",
    "assert minMoves([1,2,3]) == 3"
   ]
  },
  {
   "cell_type": "code",
   "execution_count": 6,
   "id": "46f751bf",
   "metadata": {
    "execution": {
     "iopub.execute_input": "2024-07-14T14:14:18.667161Z",
     "iopub.status.busy": "2024-07-14T14:14:18.666970Z",
     "iopub.status.idle": "2024-07-14T14:14:18.672363Z",
     "shell.execute_reply": "2024-07-14T14:14:18.671913Z"
    },
    "lines_to_next_cell": 1,
    "papermill": {
     "duration": 0.021375,
     "end_time": "2024-07-14T14:14:18.673395",
     "exception": false,
     "start_time": "2024-07-14T14:14:18.652020",
     "status": "completed"
    },
    "tags": []
   },
   "outputs": [],
   "source": [
    "# Q2\n",
    "def numberOfBoomerangs(points: list[list[int]]) -> int:\n",
    "    def distance(pt1: list[int], pt2: list[int]) -> float:\n",
    "        return math.sqrt(((pt1[0] - pt2[0]) ** 2) + ((pt1[1] - pt2[1]) ** 2))\n",
    "\n",
    "    boommerangs: int = 0\n",
    "    N = len(points)\n",
    "    for i in range(N):\n",
    "        curr = points[i]\n",
    "        distances: dict[float, int] = dict()\n",
    "        for j in range(N):\n",
    "            if j != i:\n",
    "                dist = distance(points[i], points[j])\n",
    "                distances[dist] = distances.get(dist, 0) + 1\n",
    "\n",
    "        for count in distances.values():\n",
    "            boommerangs += math.perm(count, 2)\n",
    "\n",
    "    return boommerangs\n",
    "\n",
    "# Testing the solution\n",
    "assert numberOfBoomerangs([[0,0],[1,0],[2,0]]) == 2\n",
    "assert numberOfBoomerangs([[1,1],[2,2],[3,3]]) == 2\n",
    "assert numberOfBoomerangs([[1,1]]) == 0"
   ]
  },
  {
   "cell_type": "code",
   "execution_count": 7,
   "id": "06c17597",
   "metadata": {
    "execution": {
     "iopub.execute_input": "2024-07-14T14:14:18.717097Z",
     "iopub.status.busy": "2024-07-14T14:14:18.716799Z",
     "iopub.status.idle": "2024-07-14T14:14:18.721927Z",
     "shell.execute_reply": "2024-07-14T14:14:18.721487Z"
    },
    "lines_to_next_cell": 1,
    "papermill": {
     "duration": 0.021257,
     "end_time": "2024-07-14T14:14:18.722974",
     "exception": false,
     "start_time": "2024-07-14T14:14:18.701717",
     "status": "completed"
    },
    "tags": []
   },
   "outputs": [],
   "source": [
    "# Q3\n",
    "def findMinArrowShots(points: list[list[int]]) -> int:\n",
    "    # Sort by end and merge the start, end\n",
    "    points.sort(key=lambda x: (x[1], x[0]))\n",
    "\n",
    "    # Merge the intervals\n",
    "    merged_intervals: list[tuple[int, int]] = []\n",
    "    for start, end in points:\n",
    "        if merged_intervals and merged_intervals[-1][1] >= start:\n",
    "            merged_intervals[-1] = max(merged_intervals[-1][0], start), min(merged_intervals[-1][1], end)\n",
    "        else:\n",
    "            merged_intervals.append((start, end))\n",
    "\n",
    "    return len(merged_intervals)\n",
    "\n",
    "# Testing the solution\n",
    "assert findMinArrowShots([[10,16],[2,8],[1,6],[7,12]]) == 2\n",
    "assert findMinArrowShots([[1,2],[3,4],[5,6],[7,8]]) == 4\n",
    "assert findMinArrowShots([[1,2],[2,3],[3,4],[4,5]]) == 2"
   ]
  },
  {
   "cell_type": "code",
   "execution_count": 8,
   "id": "602ae596",
   "metadata": {
    "execution": {
     "iopub.execute_input": "2024-07-14T14:14:18.752552Z",
     "iopub.status.busy": "2024-07-14T14:14:18.752231Z",
     "iopub.status.idle": "2024-07-14T14:14:18.756772Z",
     "shell.execute_reply": "2024-07-14T14:14:18.756338Z"
    },
    "lines_to_next_cell": 1,
    "papermill": {
     "duration": 0.02043,
     "end_time": "2024-07-14T14:14:18.757845",
     "exception": false,
     "start_time": "2024-07-14T14:14:18.737415",
     "status": "completed"
    },
    "tags": []
   },
   "outputs": [],
   "source": [
    "# Q4\n",
    "def numberOfArithmeticSlicesBrute(nums: list[int]) -> int:\n",
    "    def is_valid(sub: list[int]) -> bool:\n",
    "        if len(sub) < 3:\n",
    "            return False\n",
    "        else:\n",
    "            diff = sub[1] - sub[0]\n",
    "            for i in range(len(sub) - 1):\n",
    "                if sub[i + 1] - sub[i] != diff:\n",
    "                    return False\n",
    "            return True\n",
    "\n",
    "    count = 0\n",
    "    def backtrack(i: int, subseq: list[int]):\n",
    "        if i == N:\n",
    "            count += is_valid(subseq)\n",
    "        else:\n",
    "            subseq.append(nums[i])\n",
    "            backtrack(i + 1, subseq)\n",
    "            subseq.pop()\n",
    "            backtrack(i + 1, subseq)\n",
    "\n",
    "    N = len(nums)\n",
    "    backtrack(0, [])\n",
    "    return count"
   ]
  },
  {
   "cell_type": "code",
   "execution_count": 9,
   "id": "f1e64142",
   "metadata": {
    "execution": {
     "iopub.execute_input": "2024-07-14T14:14:18.787524Z",
     "iopub.status.busy": "2024-07-14T14:14:18.787225Z",
     "iopub.status.idle": "2024-07-14T14:14:18.791640Z",
     "shell.execute_reply": "2024-07-14T14:14:18.791183Z"
    },
    "lines_to_next_cell": 1,
    "papermill": {
     "duration": 0.020403,
     "end_time": "2024-07-14T14:14:18.792742",
     "exception": false,
     "start_time": "2024-07-14T14:14:18.772339",
     "status": "completed"
    },
    "tags": []
   },
   "outputs": [],
   "source": [
    "# Upsolving\n",
    "# https://www.youtube.com/watch?v=YIMwwT9JdIE\n",
    "def numberOfArithmeticSlices(nums: list[int]) -> int:\n",
    "    \"\"\"\n",
    "    Ending at index 'j' what is maximum number of arthimetic subsequences that I can form >= 2\n",
    "    \"\"\"\n",
    "    N = len(nums)\n",
    "    dp: list[collections.defaultdict[int, int]] = [collections.defaultdict(int) for _ in range(N)]\n",
    "    sub_count = dp_sum = 0\n",
    "    for j in range(N):\n",
    "        for i in range(j):\n",
    "            delta = nums[i] - nums[j]\n",
    "            dp[j][delta] += dp[i][delta] + 1\n",
    "            sub_count, dp_sum = sub_count + 1, dp_sum + dp[i][delta] + 1\n",
    "\n",
    "    return dp_sum - sub_count\n",
    "\n",
    "# Testing the solution\n",
    "assert numberOfArithmeticSlices([2,4,6,8,10]) == 7\n",
    "assert numberOfArithmeticSlices([7,7,7,7,7]) == 16"
   ]
  },
  {
   "cell_type": "markdown",
   "id": "79053be1",
   "metadata": {
    "papermill": {
     "duration": 0.01427,
     "end_time": "2024-07-14T14:14:18.821329",
     "exception": false,
     "start_time": "2024-07-14T14:14:18.807059",
     "status": "completed"
    },
    "tags": []
   },
   "source": [
    "LC VC: June 26th 2024"
   ]
  },
  {
   "cell_type": "code",
   "execution_count": 10,
   "id": "2e438aa0",
   "metadata": {
    "execution": {
     "iopub.execute_input": "2024-07-14T14:14:18.850917Z",
     "iopub.status.busy": "2024-07-14T14:14:18.850466Z",
     "iopub.status.idle": "2024-07-14T14:14:18.855561Z",
     "shell.execute_reply": "2024-07-14T14:14:18.855021Z"
    },
    "lines_to_next_cell": 1,
    "papermill": {
     "duration": 0.020998,
     "end_time": "2024-07-14T14:14:18.856676",
     "exception": false,
     "start_time": "2024-07-14T14:14:18.835678",
     "status": "completed"
    },
    "tags": []
   },
   "outputs": [],
   "source": [
    "# Q4: Pattern 132\n",
    "# https://www.youtube.com/watch?v=q5ANAl8Z458\n",
    "# https://leetcode.com/problems/132-pattern/submissions/1301126531/\n",
    "def find132pattern(nums: list[int]) -> bool:\n",
    "    N = len(nums)\n",
    "\n",
    "    # Monotonic stack, storing min values till index - value, min pairs\n",
    "    stack: list[tuple[int, int]] = []\n",
    "    min_: int = nums[0]\n",
    "\n",
    "    for n in nums:\n",
    "        while stack and stack[-1][0] <= n:\n",
    "            stack.pop()\n",
    "\n",
    "        if stack and stack[-1][1] < n:\n",
    "            return True\n",
    "\n",
    "        stack.append((n, min_))\n",
    "        min_ = min(min_, n)\n",
    "\n",
    "    return False\n",
    "\n",
    "# Testing the solution\n",
    "assert find132pattern([1,2,3,4]) == False\n",
    "assert find132pattern([3,1,4,2]) == True\n",
    "assert find132pattern([-1,3,2,0]) == True\n",
    "assert find132pattern([3,1,2]) == False"
   ]
  },
  {
   "cell_type": "markdown",
   "id": "6afba366",
   "metadata": {
    "papermill": {
     "duration": 0.014277,
     "end_time": "2024-07-14T14:14:18.885345",
     "exception": false,
     "start_time": "2024-07-14T14:14:18.871068",
     "status": "completed"
    },
    "tags": []
   },
   "source": [
    "Balance a Binary Search tree"
   ]
  },
  {
   "cell_type": "code",
   "execution_count": 11,
   "id": "47bab318",
   "metadata": {
    "execution": {
     "iopub.execute_input": "2024-07-14T14:14:18.914899Z",
     "iopub.status.busy": "2024-07-14T14:14:18.914572Z",
     "iopub.status.idle": "2024-07-14T14:14:18.920252Z",
     "shell.execute_reply": "2024-07-14T14:14:18.919781Z"
    },
    "lines_to_next_cell": 1,
    "papermill": {
     "duration": 0.021477,
     "end_time": "2024-07-14T14:14:18.921308",
     "exception": false,
     "start_time": "2024-07-14T14:14:18.899831",
     "status": "completed"
    },
    "tags": []
   },
   "outputs": [
    {
     "name": "stdout",
     "output_type": "stream",
     "text": [
      "[3, 2, 4, 1]\n"
     ]
    }
   ],
   "source": [
    "# https://leetcode.com/problems/balance-a-binary-search-tree/submissions/1301150197\n",
    "def balanceBST(root: BinaryTreeNode) -> BinaryTreeNode|None:\n",
    "    def createBalancedBST(nodes_: list[int]) -> BinaryTreeNode|None:\n",
    "        N = len(nodes_)\n",
    "        if N == 0:\n",
    "            return None\n",
    "        else:\n",
    "            mid = N // 2\n",
    "            root_: BinaryTreeNode = BinaryTreeNode(nodes_[mid])\n",
    "            root_.left = createBalancedBST(nodes_[:mid])\n",
    "            root_.right = createBalancedBST(nodes_[mid + 1:])\n",
    "            return root_\n",
    "\n",
    "    # 1. Retrieve all elements in-order traversal (left, root, right), this returns an array in sorted order\n",
    "    curr: BinaryTreeNode = root\n",
    "    nodes: list[int] = []\n",
    "    stack: list[BinaryTreeNode] = []\n",
    "    while True:\n",
    "        while curr:\n",
    "            stack.append(curr)\n",
    "            curr = curr.left\n",
    "        if stack:\n",
    "            curr = stack.pop()\n",
    "            nodes.append(curr.val)\n",
    "            curr = curr.right\n",
    "        else:\n",
    "            break\n",
    "\n",
    "    # 2. Create a BST from the nodes: Take the middle element as the root, create left and right subtree recursively\n",
    "    return createBalancedBST(nodes)\n",
    "\n",
    "# Testing the solution\n",
    "print(balanceBST(BinaryTreeNode.from_array([1,None,2,None,3,None,4,None,None])).to_list())"
   ]
  },
  {
   "cell_type": "markdown",
   "id": "304faf22",
   "metadata": {
    "papermill": {
     "duration": 0.01423,
     "end_time": "2024-07-14T14:14:18.949912",
     "exception": false,
     "start_time": "2024-07-14T14:14:18.935682",
     "status": "completed"
    },
    "tags": []
   },
   "source": [
    "LC Practice"
   ]
  },
  {
   "cell_type": "code",
   "execution_count": 12,
   "id": "0ac43f3b",
   "metadata": {
    "execution": {
     "iopub.execute_input": "2024-07-14T14:14:18.979321Z",
     "iopub.status.busy": "2024-07-14T14:14:18.978941Z",
     "iopub.status.idle": "2024-07-14T14:14:18.983012Z",
     "shell.execute_reply": "2024-07-14T14:14:18.982579Z"
    },
    "lines_to_next_cell": 1,
    "papermill": {
     "duration": 0.01986,
     "end_time": "2024-07-14T14:14:18.984067",
     "exception": false,
     "start_time": "2024-07-14T14:14:18.964207",
     "status": "completed"
    },
    "tags": []
   },
   "outputs": [],
   "source": [
    "def subarraySum(nums: list[int], k: int) -> int:\n",
    "    prefix: collections.defaultdict = collections.defaultdict(int)\n",
    "    prefix[0], count, psum = 1, 0, 0\n",
    "    for n in nums:\n",
    "        psum += n\n",
    "        count += prefix[psum - k]\n",
    "        prefix[psum] += 1\n",
    "\n",
    "    return count\n",
    "\n",
    "# Testing the solution\n",
    "assert subarraySum([1,2,3], 3) == 2\n",
    "assert subarraySum([1,1,1], 2) == 2"
   ]
  },
  {
   "cell_type": "code",
   "execution_count": 13,
   "id": "b278e908",
   "metadata": {
    "execution": {
     "iopub.execute_input": "2024-07-14T14:14:19.013714Z",
     "iopub.status.busy": "2024-07-14T14:14:19.013269Z",
     "iopub.status.idle": "2024-07-14T14:14:19.018735Z",
     "shell.execute_reply": "2024-07-14T14:14:19.018293Z"
    },
    "lines_to_next_cell": 1,
    "papermill": {
     "duration": 0.021417,
     "end_time": "2024-07-14T14:14:19.019819",
     "exception": false,
     "start_time": "2024-07-14T14:14:18.998402",
     "status": "completed"
    },
    "tags": []
   },
   "outputs": [],
   "source": [
    "# https://leetcode.com/problems/continuous-subarray-sum/submissions/1301461461/\n",
    "def checkSubarraySum(nums: list[int], k: int) -> bool:\n",
    "    N = len(nums)\n",
    "    prefix: dict[int, int] = {0: -1}\n",
    "    psum = 0\n",
    "    for i in range(N):\n",
    "        psum = (psum + nums[i]) % k\n",
    "        if i - prefix.get(psum, i) >= 2:\n",
    "            return True\n",
    "        prefix[psum] = min(prefix.get(psum, i), i)\n",
    "\n",
    "    return False\n",
    "\n",
    "# Testing the solution\n",
    "assert checkSubarraySum([23,2,4,6,7], 6) == True\n",
    "assert checkSubarraySum([0], 1) == False\n",
    "assert checkSubarraySum([23,2,6,4,7,13], 13) == False\n",
    "assert checkSubarraySum([23,2,6,4,7,13,13], 13) == True\n",
    "assert checkSubarraySum([1,0], 2) == False\n",
    "assert checkSubarraySum([1,2,3,4], 6) == True"
   ]
  },
  {
   "cell_type": "markdown",
   "id": "b3ac55c5",
   "metadata": {
    "papermill": {
     "duration": 0.014309,
     "end_time": "2024-07-14T14:14:19.048679",
     "exception": false,
     "start_time": "2024-07-14T14:14:19.034370",
     "status": "completed"
    },
    "tags": []
   },
   "source": [
    "Check if array is sorted and rotated"
   ]
  },
  {
   "cell_type": "code",
   "execution_count": 14,
   "id": "05c610bc",
   "metadata": {
    "execution": {
     "iopub.execute_input": "2024-07-14T14:14:19.078238Z",
     "iopub.status.busy": "2024-07-14T14:14:19.077861Z",
     "iopub.status.idle": "2024-07-14T14:14:19.082293Z",
     "shell.execute_reply": "2024-07-14T14:14:19.081846Z"
    },
    "lines_to_next_cell": 1,
    "papermill": {
     "duration": 0.020381,
     "end_time": "2024-07-14T14:14:19.083343",
     "exception": false,
     "start_time": "2024-07-14T14:14:19.062962",
     "status": "completed"
    },
    "tags": []
   },
   "outputs": [],
   "source": [
    "def checkArraySortedAndRotated(nums: list[int]) -> bool:\n",
    "    N = len(nums)\n",
    "    count = 0\n",
    "    for i in range(N - 1):\n",
    "        count += nums[i + 1] < nums[i]\n",
    "    return count == 0 or (count == 1 and nums[0] > nums[-1])\n",
    "\n",
    "# Testing the solution\n",
    "assert checkArraySortedAndRotated([3,4,5,1,2]) == True\n",
    "assert checkArraySortedAndRotated([2,1,3,4]) == False\n",
    "assert checkArraySortedAndRotated([3,2,1]) == False"
   ]
  },
  {
   "cell_type": "markdown",
   "id": "2d033d8f",
   "metadata": {
    "papermill": {
     "duration": 0.014341,
     "end_time": "2024-07-14T14:14:19.112000",
     "exception": false,
     "start_time": "2024-07-14T14:14:19.097659",
     "status": "completed"
    },
    "tags": []
   },
   "source": [
    "All ancestors of a node in a DAG"
   ]
  },
  {
   "cell_type": "code",
   "execution_count": 15,
   "id": "50e7e595",
   "metadata": {
    "execution": {
     "iopub.execute_input": "2024-07-14T14:14:19.141992Z",
     "iopub.status.busy": "2024-07-14T14:14:19.141573Z",
     "iopub.status.idle": "2024-07-14T14:14:19.147889Z",
     "shell.execute_reply": "2024-07-14T14:14:19.147318Z"
    },
    "lines_to_next_cell": 1,
    "papermill": {
     "duration": 0.022437,
     "end_time": "2024-07-14T14:14:19.148953",
     "exception": false,
     "start_time": "2024-07-14T14:14:19.126516",
     "status": "completed"
    },
    "tags": []
   },
   "outputs": [],
   "source": [
    "# https://leetcode.com/problems/all-ancestors-of-a-node-in-a-directed-acyclic-graph/submissions/1304043339\n",
    "def getAncestors(N: int, edges: list[list[int]]) -> list[list[int]]:\n",
    "    @functools.cache\n",
    "    def DFS(n: int) -> set[int]:\n",
    "        ancestors: set[int] = set()\n",
    "        for next_ in adjl[n]:\n",
    "            ancestors.add(next_)\n",
    "            for next_ancestor in DFS(next_):\n",
    "                ancestors.add(next_ancestor)\n",
    "        return ancestors\n",
    "\n",
    "    adjl: collections.defaultdict[int, list[int]] = collections.defaultdict(list)\n",
    "    for n1, n2 in edges:\n",
    "        adjl[n2].append(n1)\n",
    "\n",
    "    result: list[list[int]] = [[] for _ in range(N)]\n",
    "    for i in range(N):\n",
    "        result[i] = sorted(DFS(i))\n",
    "\n",
    "    return result\n",
    "\n",
    "# Testing the solution\n",
    "assert getAncestors(8, [[0,3],[0,4],[1,3],[2,4],[2,7],[3,5],[3,6],[3,7],[4,6]]) == [[],[],[],[0,1],[0,2],[0,1,3],[0,1,2,3,4],[0,1,2,3]]\n",
    "assert getAncestors(5, [[0,1],[0,2],[0,3],[0,4],[1,2],[1,3],[1,4],[2,3],[2,4],[3,4]]) == [[],[0],[0,1],[0,1,2],[0,1,2,3]]"
   ]
  },
  {
   "cell_type": "markdown",
   "id": "0fb25f1d",
   "metadata": {
    "papermill": {
     "duration": 0.014292,
     "end_time": "2024-07-14T14:14:19.177860",
     "exception": false,
     "start_time": "2024-07-14T14:14:19.163568",
     "status": "completed"
    },
    "tags": []
   },
   "source": [
    "LC Contest: 30th June 2024"
   ]
  },
  {
   "cell_type": "code",
   "execution_count": 16,
   "id": "2cc84226",
   "metadata": {
    "execution": {
     "iopub.execute_input": "2024-07-14T14:14:19.207307Z",
     "iopub.status.busy": "2024-07-14T14:14:19.207022Z",
     "iopub.status.idle": "2024-07-14T14:14:19.211957Z",
     "shell.execute_reply": "2024-07-14T14:14:19.211542Z"
    },
    "lines_to_next_cell": 1,
    "papermill": {
     "duration": 0.020823,
     "end_time": "2024-07-14T14:14:19.213032",
     "exception": false,
     "start_time": "2024-07-14T14:14:19.192209",
     "status": "completed"
    },
    "tags": []
   },
   "outputs": [],
   "source": [
    "# Q1\n",
    "def maxHeightOfTriangle(red: int, blue: int) -> int:\n",
    "    @functools.cache\n",
    "    def backtrack(i: int) -> tuple[int, int]:\n",
    "        if i == 0:\n",
    "            return 0, 0\n",
    "        else:\n",
    "            prev = backtrack(i - 1)\n",
    "            if i % 2 == 0:\n",
    "                return prev[0], prev[1] + i\n",
    "            else:\n",
    "                return prev[0] + i, prev[1]\n",
    "\n",
    "    red, blue = sorted([red, blue])\n",
    "    low, high = 1, 20\n",
    "    while low <= high:\n",
    "        mid = (low + high) // 2\n",
    "        r, b = sorted(backtrack(mid))\n",
    "        if r <= red and b <= blue:\n",
    "            low = mid + 1\n",
    "        else:\n",
    "            high = mid - 1\n",
    "\n",
    "    return high\n",
    "\n",
    "# Testing the solution\n",
    "assert maxHeightOfTriangle(10, 1) == 2\n",
    "assert maxHeightOfTriangle(1, 1) == 1\n",
    "assert maxHeightOfTriangle(2, 1) == 2\n",
    "assert maxHeightOfTriangle(2, 4) == 3"
   ]
  },
  {
   "cell_type": "code",
   "execution_count": 17,
   "id": "3acecb65",
   "metadata": {
    "execution": {
     "iopub.execute_input": "2024-07-14T14:14:19.242758Z",
     "iopub.status.busy": "2024-07-14T14:14:19.242556Z",
     "iopub.status.idle": "2024-07-14T14:14:19.247202Z",
     "shell.execute_reply": "2024-07-14T14:14:19.246773Z"
    },
    "lines_to_next_cell": 1,
    "papermill": {
     "duration": 0.020688,
     "end_time": "2024-07-14T14:14:19.248249",
     "exception": false,
     "start_time": "2024-07-14T14:14:19.227561",
     "status": "completed"
    },
    "tags": []
   },
   "outputs": [],
   "source": [
    "# Q2\n",
    "def maximumLength(nums: list[int]) -> int:\n",
    "    \"\"\"\n",
    "    Either all consequetive element pairs should sum up to an even number or to an odd number\n",
    "\n",
    "    If all elements are to sum to an even number: either all should be even or all numbers should be odd => max(odd_count, even_count)\n",
    "    If all elements are to sum to an odd number: greedily check validity (consequetive elements should be odd-even or even-odd)\n",
    "    \"\"\"\n",
    "    odd_sum_length = odd_count = even_count = 0\n",
    "    prev = 0 if nums[0] % 2 else 1\n",
    "    for i in range(len(nums)):\n",
    "        if nums[i] % 2 == 0:\n",
    "            even_count += 1\n",
    "        else:\n",
    "            odd_count += 1\n",
    "\n",
    "        if nums[i] % 2 != prev:\n",
    "            odd_sum_length, prev = odd_sum_length + 1, nums[i] % 2\n",
    "\n",
    "    return max(odd_sum_length, odd_count, even_count)\n",
    "\n",
    "# Testing the solution\n",
    "assert maximumLength([1,2,3,4]) == 4\n",
    "assert maximumLength([1,2,1,1,2,1,2]) == 6\n",
    "assert maximumLength([1,3]) == 2"
   ]
  },
  {
   "cell_type": "markdown",
   "id": "7d9b395f",
   "metadata": {
    "papermill": {
     "duration": 0.014444,
     "end_time": "2024-07-14T14:14:19.277228",
     "exception": false,
     "start_time": "2024-07-14T14:14:19.262784",
     "status": "completed"
    },
    "tags": []
   },
   "source": [
    "search-query-auto-complete: Striver A2Z: First question"
   ]
  },
  {
   "cell_type": "code",
   "execution_count": 18,
   "id": "ac84136c",
   "metadata": {
    "execution": {
     "iopub.execute_input": "2024-07-14T14:14:19.306969Z",
     "iopub.status.busy": "2024-07-14T14:14:19.306767Z",
     "iopub.status.idle": "2024-07-14T14:14:19.314347Z",
     "shell.execute_reply": "2024-07-14T14:14:19.313912Z"
    },
    "lines_to_next_cell": 1,
    "papermill": {
     "duration": 0.023662,
     "end_time": "2024-07-14T14:14:19.315416",
     "exception": false,
     "start_time": "2024-07-14T14:14:19.291754",
     "status": "completed"
    },
    "tags": []
   },
   "outputs": [],
   "source": [
    "class AutoCompleteSystem:\n",
    "    def __init__(self, sentences: list[str], times: list[int]) -> None:\n",
    "        # Store a dictionary of sentences along with their frequencies\n",
    "        self.sentences: collections.defaultdict[str, int] = collections.defaultdict(lambda: 0)\n",
    "        self.acc: str = \"\"\n",
    "        for sentence, freq in zip(sentences, times):\n",
    "            self.sentences[sentence] = freq\n",
    "\n",
    "    def input(self, character: str) -> list[str]:\n",
    "        if character != '#':\n",
    "            self.acc += character\n",
    "            result: list[tuple[int, str]] = []\n",
    "            for sentence, freq in self.sentences.items():\n",
    "                if sentence.startswith(self.acc):\n",
    "                    result.append((-freq, sentence))\n",
    "            result.sort()\n",
    "            return list(map(lambda x: x[1], result[:3]))\n",
    "\n",
    "        else:\n",
    "            self.sentences[self.acc] += 1\n",
    "            self.acc = ''\n",
    "            return []\n",
    "\n",
    "# Testing the solution - 1\n",
    "temp = AutoCompleteSystem([\"i love you\", \"island\", \"ironman\", \"i love geeksforgeeks\"], [5,3,2,2])\n",
    "assert temp.input(\"i\") == [\"i love you\", \"island\",\"i love geeksforgeeks\"]\n",
    "assert temp.input(\" \") == [\"i love you\", \"i love geeksforgeeks\"]\n",
    "assert temp.input(\"a\") == []\n",
    "assert temp.input(\"#\") == []\n",
    "assert temp.input(\"i\") == ['i love you', 'island', 'i love geeksforgeeks']\n",
    "assert temp.input(\" \") == ['i love you', 'i love geeksforgeeks', 'i a']\n",
    "assert temp.input(\"a\") == ['i a']\n",
    "assert temp.input(\"m\") == []\n",
    "assert temp.input(\"#\") == []\n",
    "assert temp.input(\"i\") == ['i love you', 'island', 'i love geeksforgeeks']\n",
    "assert temp.input(\" \") == ['i love you', 'i love geeksforgeeks', 'i a']\n",
    "assert temp.input(\"a\") == ['i a', 'i am']\n",
    "assert temp.input(\"m\") == ['i am']\n",
    "assert temp.input(\" \") == []"
   ]
  },
  {
   "cell_type": "markdown",
   "id": "4629edb8",
   "metadata": {
    "papermill": {
     "duration": 0.014357,
     "end_time": "2024-07-14T14:14:19.344317",
     "exception": false,
     "start_time": "2024-07-14T14:14:19.329960",
     "status": "completed"
    },
    "tags": []
   },
   "source": [
    "Patterns practice"
   ]
  },
  {
   "cell_type": "code",
   "execution_count": 19,
   "id": "0a0790b9",
   "metadata": {
    "execution": {
     "iopub.execute_input": "2024-07-14T14:14:19.374060Z",
     "iopub.status.busy": "2024-07-14T14:14:19.373858Z",
     "iopub.status.idle": "2024-07-14T14:14:19.377715Z",
     "shell.execute_reply": "2024-07-14T14:14:19.377255Z"
    },
    "lines_to_next_cell": 1,
    "papermill": {
     "duration": 0.01995,
     "end_time": "2024-07-14T14:14:19.378732",
     "exception": false,
     "start_time": "2024-07-14T14:14:19.358782",
     "status": "completed"
    },
    "tags": []
   },
   "outputs": [
    {
     "name": "stdout",
     "output_type": "stream",
     "text": [
      "*****\n",
      "*****\n",
      "*****\n",
      "*****\n",
      "*****\n"
     ]
    }
   ],
   "source": [
    "def p1(N: int) -> None:\n",
    "    for i in range(N):\n",
    "        for j in range(N):\n",
    "            print('*', end='')\n",
    "        print()\n",
    "\n",
    "# Testing the solution\n",
    "p1(5)"
   ]
  },
  {
   "cell_type": "code",
   "execution_count": 20,
   "id": "3917a2b2",
   "metadata": {
    "execution": {
     "iopub.execute_input": "2024-07-14T14:14:19.408881Z",
     "iopub.status.busy": "2024-07-14T14:14:19.408684Z",
     "iopub.status.idle": "2024-07-14T14:14:19.412588Z",
     "shell.execute_reply": "2024-07-14T14:14:19.412149Z"
    },
    "lines_to_next_cell": 1,
    "papermill": {
     "duration": 0.020297,
     "end_time": "2024-07-14T14:14:19.413624",
     "exception": false,
     "start_time": "2024-07-14T14:14:19.393327",
     "status": "completed"
    },
    "tags": []
   },
   "outputs": [
    {
     "name": "stdout",
     "output_type": "stream",
     "text": [
      "*\n",
      "**\n",
      "***\n",
      "****\n",
      "*****\n"
     ]
    }
   ],
   "source": [
    "def p2(N: int) -> None:\n",
    "    for i in range(N):\n",
    "        for j in range(i + 1):\n",
    "            print(\"*\", end='')\n",
    "        print()\n",
    "\n",
    "# Testing the solution\n",
    "p2(5)"
   ]
  },
  {
   "cell_type": "code",
   "execution_count": 21,
   "id": "1a2807e5",
   "metadata": {
    "execution": {
     "iopub.execute_input": "2024-07-14T14:14:19.443674Z",
     "iopub.status.busy": "2024-07-14T14:14:19.443244Z",
     "iopub.status.idle": "2024-07-14T14:14:19.446916Z",
     "shell.execute_reply": "2024-07-14T14:14:19.446477Z"
    },
    "lines_to_next_cell": 1,
    "papermill": {
     "duration": 0.019749,
     "end_time": "2024-07-14T14:14:19.447982",
     "exception": false,
     "start_time": "2024-07-14T14:14:19.428233",
     "status": "completed"
    },
    "tags": []
   },
   "outputs": [
    {
     "name": "stdout",
     "output_type": "stream",
     "text": [
      "1 \n",
      "1 2 \n",
      "1 2 3 \n",
      "1 2 3 4 \n",
      "1 2 3 4 5 \n"
     ]
    }
   ],
   "source": [
    "def p3(N: int) -> None:\n",
    "    for i in range(N):\n",
    "        for j in range(i + 1):\n",
    "            print(j + 1, end=' ')\n",
    "        print()\n",
    "\n",
    "# Testing the solution\n",
    "p3(5)"
   ]
  },
  {
   "cell_type": "code",
   "execution_count": 22,
   "id": "a81ab688",
   "metadata": {
    "execution": {
     "iopub.execute_input": "2024-07-14T14:14:19.477957Z",
     "iopub.status.busy": "2024-07-14T14:14:19.477573Z",
     "iopub.status.idle": "2024-07-14T14:14:19.481143Z",
     "shell.execute_reply": "2024-07-14T14:14:19.480641Z"
    },
    "lines_to_next_cell": 1,
    "papermill": {
     "duration": 0.01957,
     "end_time": "2024-07-14T14:14:19.482159",
     "exception": false,
     "start_time": "2024-07-14T14:14:19.462589",
     "status": "completed"
    },
    "tags": []
   },
   "outputs": [
    {
     "name": "stdout",
     "output_type": "stream",
     "text": [
      "1 \n",
      "2 2 \n",
      "3 3 3 \n",
      "4 4 4 4 \n",
      "5 5 5 5 5 \n"
     ]
    }
   ],
   "source": [
    "def p4(N: int) -> None:\n",
    "    for i in range(N):\n",
    "        for j in range(i + 1):\n",
    "            print(i + 1, end=' ')\n",
    "        print()\n",
    "\n",
    "# Testing the solution\n",
    "p4(5)"
   ]
  },
  {
   "cell_type": "code",
   "execution_count": 23,
   "id": "a3ae50be",
   "metadata": {
    "execution": {
     "iopub.execute_input": "2024-07-14T14:14:19.512275Z",
     "iopub.status.busy": "2024-07-14T14:14:19.511997Z",
     "iopub.status.idle": "2024-07-14T14:14:19.515746Z",
     "shell.execute_reply": "2024-07-14T14:14:19.515273Z"
    },
    "lines_to_next_cell": 1,
    "papermill": {
     "duration": 0.01993,
     "end_time": "2024-07-14T14:14:19.516799",
     "exception": false,
     "start_time": "2024-07-14T14:14:19.496869",
     "status": "completed"
    },
    "tags": []
   },
   "outputs": [
    {
     "name": "stdout",
     "output_type": "stream",
     "text": [
      "*****\n",
      "****\n",
      "***\n",
      "**\n",
      "*\n"
     ]
    }
   ],
   "source": [
    "def p5(N: int) -> None:\n",
    "    for i in range(N, 0, -1):\n",
    "        for j in range(i):\n",
    "            print(\"*\", end='')\n",
    "        print()\n",
    "\n",
    "# Testing the solution\n",
    "p5(5)"
   ]
  },
  {
   "cell_type": "code",
   "execution_count": 24,
   "id": "2c02ed3c",
   "metadata": {
    "execution": {
     "iopub.execute_input": "2024-07-14T14:14:19.547008Z",
     "iopub.status.busy": "2024-07-14T14:14:19.546685Z",
     "iopub.status.idle": "2024-07-14T14:14:19.550259Z",
     "shell.execute_reply": "2024-07-14T14:14:19.549781Z"
    },
    "lines_to_next_cell": 1,
    "papermill": {
     "duration": 0.019775,
     "end_time": "2024-07-14T14:14:19.551272",
     "exception": false,
     "start_time": "2024-07-14T14:14:19.531497",
     "status": "completed"
    },
    "tags": []
   },
   "outputs": [
    {
     "name": "stdout",
     "output_type": "stream",
     "text": [
      "12345\n",
      "1234\n",
      "123\n",
      "12\n",
      "1\n"
     ]
    }
   ],
   "source": [
    "def p6(N: int) -> None:\n",
    "    for i in range(N, 0, -1):\n",
    "        for j in range(i):\n",
    "            print(j + 1, end='')\n",
    "        print()\n",
    "\n",
    "# Testing the solution\n",
    "p6(5)"
   ]
  },
  {
   "cell_type": "code",
   "execution_count": 25,
   "id": "126c1e65",
   "metadata": {
    "execution": {
     "iopub.execute_input": "2024-07-14T14:14:19.581495Z",
     "iopub.status.busy": "2024-07-14T14:14:19.581143Z",
     "iopub.status.idle": "2024-07-14T14:14:19.585694Z",
     "shell.execute_reply": "2024-07-14T14:14:19.585249Z"
    },
    "lines_to_next_cell": 1,
    "papermill": {
     "duration": 0.020804,
     "end_time": "2024-07-14T14:14:19.586755",
     "exception": false,
     "start_time": "2024-07-14T14:14:19.565951",
     "status": "completed"
    },
    "tags": []
   },
   "outputs": [
    {
     "name": "stdout",
     "output_type": "stream",
     "text": [
      "    *    \n",
      "   ***   \n",
      "  *****  \n",
      " ******* \n",
      "*********\n"
     ]
    }
   ],
   "source": [
    "def p7(N: int) -> None:\n",
    "    max_stars: int = (2 * N) - 1\n",
    "    for i in range(1, N + 1):\n",
    "        stars: int = (2 * i) - 1\n",
    "        half = (max_stars - stars) // 2\n",
    "        for j in range(half):\n",
    "            print(\" \", end='')\n",
    "        for j in range(stars):\n",
    "            print(\"*\", end='')\n",
    "        for j in range(half):\n",
    "            print(\" \", end='')\n",
    "        print()\n",
    "\n",
    "# Testing the solution\n",
    "p7(5)"
   ]
  },
  {
   "cell_type": "code",
   "execution_count": 26,
   "id": "cb4e9553",
   "metadata": {
    "execution": {
     "iopub.execute_input": "2024-07-14T14:14:19.617203Z",
     "iopub.status.busy": "2024-07-14T14:14:19.616869Z",
     "iopub.status.idle": "2024-07-14T14:14:19.621258Z",
     "shell.execute_reply": "2024-07-14T14:14:19.620760Z"
    },
    "lines_to_next_cell": 1,
    "papermill": {
     "duration": 0.020739,
     "end_time": "2024-07-14T14:14:19.622298",
     "exception": false,
     "start_time": "2024-07-14T14:14:19.601559",
     "status": "completed"
    },
    "tags": []
   },
   "outputs": [
    {
     "name": "stdout",
     "output_type": "stream",
     "text": [
      "*********\n",
      " ******* \n",
      "  *****  \n",
      "   ***   \n",
      "    *    \n"
     ]
    }
   ],
   "source": [
    "def p8(N: int) -> None:\n",
    "    max_stars: int = (2 * N) - 1\n",
    "    for i in range(N, 0, -1):\n",
    "        stars: int = (2 * i) - 1\n",
    "        half = (max_stars - stars) // 2\n",
    "        for j in range(half):\n",
    "            print(\" \", end='')\n",
    "        for j in range(stars):\n",
    "            print(\"*\", end='')\n",
    "        for j in range(half):\n",
    "            print(\" \", end='')\n",
    "        print()\n",
    "\n",
    "# Testing the solution\n",
    "p8(5)"
   ]
  },
  {
   "cell_type": "code",
   "execution_count": 27,
   "id": "7c80140a",
   "metadata": {
    "execution": {
     "iopub.execute_input": "2024-07-14T14:14:19.652766Z",
     "iopub.status.busy": "2024-07-14T14:14:19.652467Z",
     "iopub.status.idle": "2024-07-14T14:14:19.656116Z",
     "shell.execute_reply": "2024-07-14T14:14:19.655673Z"
    },
    "lines_to_next_cell": 1,
    "papermill": {
     "duration": 0.019821,
     "end_time": "2024-07-14T14:14:19.657115",
     "exception": false,
     "start_time": "2024-07-14T14:14:19.637294",
     "status": "completed"
    },
    "tags": []
   },
   "outputs": [
    {
     "name": "stdout",
     "output_type": "stream",
     "text": [
      "    *    \n",
      "   ***   \n",
      "  *****  \n",
      " ******* \n",
      "*********\n",
      "*********\n",
      " ******* \n",
      "  *****  \n",
      "   ***   \n",
      "    *    \n"
     ]
    }
   ],
   "source": [
    "def p9(N: int) -> None:\n",
    "    p7(N)\n",
    "    p8(N)\n",
    "\n",
    "# Testing the solution\n",
    "p9(5)"
   ]
  },
  {
   "cell_type": "code",
   "execution_count": 28,
   "id": "2e32fb2d",
   "metadata": {
    "execution": {
     "iopub.execute_input": "2024-07-14T14:14:19.687823Z",
     "iopub.status.busy": "2024-07-14T14:14:19.687381Z",
     "iopub.status.idle": "2024-07-14T14:14:19.691447Z",
     "shell.execute_reply": "2024-07-14T14:14:19.691000Z"
    },
    "lines_to_next_cell": 1,
    "papermill": {
     "duration": 0.02052,
     "end_time": "2024-07-14T14:14:19.692479",
     "exception": false,
     "start_time": "2024-07-14T14:14:19.671959",
     "status": "completed"
    },
    "tags": []
   },
   "outputs": [
    {
     "name": "stdout",
     "output_type": "stream",
     "text": [
      "*\n",
      "**\n",
      "***\n",
      "****\n",
      "*****\n",
      "****\n",
      "***\n",
      "**\n",
      "*\n"
     ]
    }
   ],
   "source": [
    "def p10(N: int) -> None:\n",
    "    for i in range(N):\n",
    "        for j in range(i + 1):\n",
    "            print(\"*\", end='')\n",
    "        print()\n",
    "\n",
    "    for i in range(N - 1, 0, -1):\n",
    "        for j in range(i):\n",
    "            print(\"*\", end='')\n",
    "        print()\n",
    "\n",
    "# Testing the solution\n",
    "p10(5)"
   ]
  },
  {
   "cell_type": "code",
   "execution_count": 29,
   "id": "36d6b021",
   "metadata": {
    "execution": {
     "iopub.execute_input": "2024-07-14T14:14:19.723199Z",
     "iopub.status.busy": "2024-07-14T14:14:19.722825Z",
     "iopub.status.idle": "2024-07-14T14:14:19.726588Z",
     "shell.execute_reply": "2024-07-14T14:14:19.726156Z"
    },
    "lines_to_next_cell": 1,
    "papermill": {
     "duration": 0.020183,
     "end_time": "2024-07-14T14:14:19.727623",
     "exception": false,
     "start_time": "2024-07-14T14:14:19.707440",
     "status": "completed"
    },
    "tags": []
   },
   "outputs": [
    {
     "name": "stdout",
     "output_type": "stream",
     "text": [
      "1 \n",
      "0 1 \n",
      "1 0 1 \n",
      "0 1 0 1 \n",
      "1 0 1 0 1 \n"
     ]
    }
   ],
   "source": [
    "def p11(N: int) -> None:\n",
    "    for i in range(N):\n",
    "        for j in range(i + 1):\n",
    "            print(1 if i % 2 == j % 2 else 0, end=\" \")\n",
    "        print()\n",
    "\n",
    "# Testing the solution\n",
    "p11(5)"
   ]
  },
  {
   "cell_type": "code",
   "execution_count": 30,
   "id": "ff248593",
   "metadata": {
    "execution": {
     "iopub.execute_input": "2024-07-14T14:14:19.758271Z",
     "iopub.status.busy": "2024-07-14T14:14:19.758105Z",
     "iopub.status.idle": "2024-07-14T14:14:19.762326Z",
     "shell.execute_reply": "2024-07-14T14:14:19.761874Z"
    },
    "lines_to_next_cell": 1,
    "papermill": {
     "duration": 0.020723,
     "end_time": "2024-07-14T14:14:19.763365",
     "exception": false,
     "start_time": "2024-07-14T14:14:19.742642",
     "status": "completed"
    },
    "tags": []
   },
   "outputs": [
    {
     "name": "stdout",
     "output_type": "stream",
     "text": [
      "1        1\n",
      "12      21\n",
      "123    321\n",
      "1234  4321\n",
      "1234554321\n"
     ]
    }
   ],
   "source": [
    "def p12(N: int) -> None:\n",
    "    for i in range(1, N + 1):\n",
    "        for j in range(1, N + 1):\n",
    "            print(j if i >= j else \" \", end=\"\")\n",
    "        for j in range(N, 0, -1):\n",
    "            print(j if i >= j else \" \", end=\"\")\n",
    "        print()\n",
    "\n",
    "# Testing the solution\n",
    "p12(5)"
   ]
  },
  {
   "cell_type": "code",
   "execution_count": 31,
   "id": "4cb3993a",
   "metadata": {
    "execution": {
     "iopub.execute_input": "2024-07-14T14:14:19.794035Z",
     "iopub.status.busy": "2024-07-14T14:14:19.793838Z",
     "iopub.status.idle": "2024-07-14T14:14:19.797586Z",
     "shell.execute_reply": "2024-07-14T14:14:19.797152Z"
    },
    "lines_to_next_cell": 1,
    "papermill": {
     "duration": 0.020214,
     "end_time": "2024-07-14T14:14:19.798589",
     "exception": false,
     "start_time": "2024-07-14T14:14:19.778375",
     "status": "completed"
    },
    "tags": []
   },
   "outputs": [
    {
     "name": "stdout",
     "output_type": "stream",
     "text": [
      "1 \n",
      "2 3 \n",
      "4 5 6 \n",
      "7 8 9 10 \n",
      "11 12 13 14 15 \n"
     ]
    }
   ],
   "source": [
    "def p13(N: int) -> None:\n",
    "    counter = 1\n",
    "    for i in range(1, N + 1):\n",
    "        for j in range(i):\n",
    "            print(counter, end=\" \")\n",
    "            counter += 1\n",
    "        print()\n",
    "\n",
    "# Testing the solution\n",
    "p13(5)"
   ]
  },
  {
   "cell_type": "code",
   "execution_count": 32,
   "id": "0adac77e",
   "metadata": {
    "execution": {
     "iopub.execute_input": "2024-07-14T14:14:19.829507Z",
     "iopub.status.busy": "2024-07-14T14:14:19.829205Z",
     "iopub.status.idle": "2024-07-14T14:14:19.833033Z",
     "shell.execute_reply": "2024-07-14T14:14:19.832503Z"
    },
    "lines_to_next_cell": 1,
    "papermill": {
     "duration": 0.020367,
     "end_time": "2024-07-14T14:14:19.834043",
     "exception": false,
     "start_time": "2024-07-14T14:14:19.813676",
     "status": "completed"
    },
    "tags": []
   },
   "outputs": [
    {
     "name": "stdout",
     "output_type": "stream",
     "text": [
      "A \n",
      "A B \n",
      "A B C \n",
      "A B C D \n",
      "A B C D E \n"
     ]
    }
   ],
   "source": [
    "def p14(N: int) -> None:\n",
    "    for i in range(1, N + 1):\n",
    "        for j in range(i):\n",
    "            print(chr(ord('A') + j), end=\" \")\n",
    "        print()\n",
    "\n",
    "# Testing the solution\n",
    "p14(5)"
   ]
  },
  {
   "cell_type": "code",
   "execution_count": 33,
   "id": "3918fd7d",
   "metadata": {
    "execution": {
     "iopub.execute_input": "2024-07-14T14:14:19.864767Z",
     "iopub.status.busy": "2024-07-14T14:14:19.864407Z",
     "iopub.status.idle": "2024-07-14T14:14:19.868015Z",
     "shell.execute_reply": "2024-07-14T14:14:19.867517Z"
    },
    "lines_to_next_cell": 1,
    "papermill": {
     "duration": 0.020004,
     "end_time": "2024-07-14T14:14:19.869062",
     "exception": false,
     "start_time": "2024-07-14T14:14:19.849058",
     "status": "completed"
    },
    "tags": []
   },
   "outputs": [
    {
     "name": "stdout",
     "output_type": "stream",
     "text": [
      "A B C D E \n",
      "A B C D \n",
      "A B C \n",
      "A B \n",
      "A \n"
     ]
    }
   ],
   "source": [
    "def p15(N: int) -> None:\n",
    "    for i in range(N, 0, -1):\n",
    "        for j in range(i):\n",
    "            print(chr(ord('A') + j), end=\" \")\n",
    "        print()\n",
    "\n",
    "# Testing the solution\n",
    "p15(5)"
   ]
  },
  {
   "cell_type": "code",
   "execution_count": 34,
   "id": "cc083076",
   "metadata": {
    "execution": {
     "iopub.execute_input": "2024-07-14T14:14:19.899991Z",
     "iopub.status.busy": "2024-07-14T14:14:19.899629Z",
     "iopub.status.idle": "2024-07-14T14:14:19.903521Z",
     "shell.execute_reply": "2024-07-14T14:14:19.902996Z"
    },
    "lines_to_next_cell": 1,
    "papermill": {
     "duration": 0.020403,
     "end_time": "2024-07-14T14:14:19.904557",
     "exception": false,
     "start_time": "2024-07-14T14:14:19.884154",
     "status": "completed"
    },
    "tags": []
   },
   "outputs": [
    {
     "name": "stdout",
     "output_type": "stream",
     "text": [
      "A \n",
      "B B \n",
      "C C C \n",
      "D D D D \n",
      "E E E E E \n"
     ]
    }
   ],
   "source": [
    "def p16(N: int) -> None:\n",
    "    for i in range(1, N + 1):\n",
    "        for j in range(i):\n",
    "            print(chr(ord('A') + i - 1), end=\" \")\n",
    "        print()\n",
    "\n",
    "# Testing the solution\n",
    "p16(5)"
   ]
  },
  {
   "cell_type": "code",
   "execution_count": 35,
   "id": "d9432d4b",
   "metadata": {
    "execution": {
     "iopub.execute_input": "2024-07-14T14:14:19.935892Z",
     "iopub.status.busy": "2024-07-14T14:14:19.935494Z",
     "iopub.status.idle": "2024-07-14T14:14:19.940306Z",
     "shell.execute_reply": "2024-07-14T14:14:19.939798Z"
    },
    "lines_to_next_cell": 1,
    "papermill": {
     "duration": 0.02158,
     "end_time": "2024-07-14T14:14:19.941431",
     "exception": false,
     "start_time": "2024-07-14T14:14:19.919851",
     "status": "completed"
    },
    "tags": []
   },
   "outputs": [
    {
     "name": "stdout",
     "output_type": "stream",
     "text": [
      "    A    \n",
      "   ABA   \n",
      "  ABCBA  \n",
      " ABCDCBA \n",
      "ABCDEDCBA\n"
     ]
    }
   ],
   "source": [
    "def p17(N: int) -> None:\n",
    "    max_width = (2 * N) - 1\n",
    "    for i in range(1, N + 1):\n",
    "        width = (2 * i) - 1\n",
    "        spaces = max_width - width\n",
    "        for j in range(spaces // 2):\n",
    "            print(\" \", end=\"\")\n",
    "        for j in range(i):\n",
    "            print(chr(ord('A') + j), end=\"\")\n",
    "        for j in range(i - 2, -1, -1):\n",
    "            print(chr(ord('A') + j), end=\"\")\n",
    "        for j in range(spaces // 2):\n",
    "            print(\" \", end=\"\")\n",
    "        print()\n",
    "\n",
    "# Testing the solution\n",
    "p17(5)"
   ]
  },
  {
   "cell_type": "code",
   "execution_count": 36,
   "id": "4633133c",
   "metadata": {
    "execution": {
     "iopub.execute_input": "2024-07-14T14:14:19.972770Z",
     "iopub.status.busy": "2024-07-14T14:14:19.972318Z",
     "iopub.status.idle": "2024-07-14T14:14:19.976061Z",
     "shell.execute_reply": "2024-07-14T14:14:19.975619Z"
    },
    "lines_to_next_cell": 1,
    "papermill": {
     "duration": 0.020409,
     "end_time": "2024-07-14T14:14:19.977057",
     "exception": false,
     "start_time": "2024-07-14T14:14:19.956648",
     "status": "completed"
    },
    "tags": []
   },
   "outputs": [
    {
     "name": "stdout",
     "output_type": "stream",
     "text": [
      "E \n",
      "D E \n",
      "C D E \n",
      "B C D E \n",
      "A B C D E \n"
     ]
    }
   ],
   "source": [
    "def p18(N: int) -> None:\n",
    "    for i in range(1, N + 1):\n",
    "        for j in range(N - i, N):\n",
    "            print(chr(ord('A') + j), end=' ')\n",
    "        print()\n",
    "\n",
    "# Testing the solution\n",
    "p18(5)"
   ]
  },
  {
   "cell_type": "code",
   "execution_count": 37,
   "id": "45cf811d",
   "metadata": {
    "execution": {
     "iopub.execute_input": "2024-07-14T14:14:20.008258Z",
     "iopub.status.busy": "2024-07-14T14:14:20.007891Z",
     "iopub.status.idle": "2024-07-14T14:14:20.012661Z",
     "shell.execute_reply": "2024-07-14T14:14:20.012207Z"
    },
    "lines_to_next_cell": 1,
    "papermill": {
     "duration": 0.021365,
     "end_time": "2024-07-14T14:14:20.013718",
     "exception": false,
     "start_time": "2024-07-14T14:14:19.992353",
     "status": "completed"
    },
    "tags": []
   },
   "outputs": [
    {
     "name": "stdout",
     "output_type": "stream",
     "text": [
      "**********\n",
      "****  ****\n",
      "***    ***\n",
      "**      **\n",
      "*        *\n",
      "*        *\n",
      "**      **\n",
      "***    ***\n",
      "****  ****\n",
      "**********\n"
     ]
    }
   ],
   "source": [
    "def p19(N: int) -> None:\n",
    "    max_width = 2 * N\n",
    "    for i_ in range(2 * N):\n",
    "        i = N - i_ if i_ < N else (i_ % N) + 1\n",
    "        for j in range(i):\n",
    "            print(\"*\", end='')\n",
    "        for j in range(max_width - (2 * i)):\n",
    "            print(\" \", end='')\n",
    "        for j in range(i):\n",
    "            print(\"*\", end='')\n",
    "        print()\n",
    "\n",
    "# Testing the solution\n",
    "p19(5)"
   ]
  },
  {
   "cell_type": "code",
   "execution_count": 38,
   "id": "da170774",
   "metadata": {
    "execution": {
     "iopub.execute_input": "2024-07-14T14:14:20.045043Z",
     "iopub.status.busy": "2024-07-14T14:14:20.044690Z",
     "iopub.status.idle": "2024-07-14T14:14:20.049166Z",
     "shell.execute_reply": "2024-07-14T14:14:20.048685Z"
    },
    "lines_to_next_cell": 1,
    "papermill": {
     "duration": 0.021253,
     "end_time": "2024-07-14T14:14:20.050214",
     "exception": false,
     "start_time": "2024-07-14T14:14:20.028961",
     "status": "completed"
    },
    "tags": []
   },
   "outputs": [
    {
     "name": "stdout",
     "output_type": "stream",
     "text": [
      "*        *\n",
      "**      **\n",
      "***    ***\n",
      "****  ****\n",
      "**********\n",
      "****  ****\n",
      "***    ***\n",
      "**      **\n",
      "*        *\n"
     ]
    }
   ],
   "source": [
    "def p20(N: int) -> None:\n",
    "    max_width = 2 * N\n",
    "    for i_ in range(2 * N - 1):\n",
    "        i = i_ + 1 if i_ < N else 2 * N - i_ - 1\n",
    "        for j in range(i):\n",
    "            print(\"*\", end='')\n",
    "        for j in range(max_width - 2 * i):\n",
    "            print(\" \", end='')\n",
    "        for j in range(i):\n",
    "            print(\"*\", end='')\n",
    "        print()\n",
    "\n",
    "# Testing the solution\n",
    "p20(5)"
   ]
  },
  {
   "cell_type": "code",
   "execution_count": 39,
   "id": "c9ec1076",
   "metadata": {
    "execution": {
     "iopub.execute_input": "2024-07-14T14:14:20.081720Z",
     "iopub.status.busy": "2024-07-14T14:14:20.081453Z",
     "iopub.status.idle": "2024-07-14T14:14:20.085135Z",
     "shell.execute_reply": "2024-07-14T14:14:20.084642Z"
    },
    "lines_to_next_cell": 1,
    "papermill": {
     "duration": 0.020497,
     "end_time": "2024-07-14T14:14:20.086146",
     "exception": false,
     "start_time": "2024-07-14T14:14:20.065649",
     "status": "completed"
    },
    "tags": []
   },
   "outputs": [
    {
     "name": "stdout",
     "output_type": "stream",
     "text": [
      "*****\n",
      "*   *\n",
      "*   *\n",
      "*   *\n",
      "*****\n"
     ]
    }
   ],
   "source": [
    "def p21(N: int) -> None:\n",
    "    for i in range(N):\n",
    "        for j in range(N):\n",
    "            print(\"*\" if i in (0, N - 1) or j in (0, N - 1) else \" \", end='')\n",
    "        print()\n",
    "\n",
    "# Testing the solution\n",
    "p21(5)"
   ]
  },
  {
   "cell_type": "code",
   "execution_count": 40,
   "id": "519e516c",
   "metadata": {
    "execution": {
     "iopub.execute_input": "2024-07-14T14:14:20.117606Z",
     "iopub.status.busy": "2024-07-14T14:14:20.117242Z",
     "iopub.status.idle": "2024-07-14T14:14:20.122044Z",
     "shell.execute_reply": "2024-07-14T14:14:20.121606Z"
    },
    "lines_to_next_cell": 1,
    "papermill": {
     "duration": 0.021567,
     "end_time": "2024-07-14T14:14:20.123050",
     "exception": false,
     "start_time": "2024-07-14T14:14:20.101483",
     "status": "completed"
    },
    "tags": []
   },
   "outputs": [
    {
     "name": "stdout",
     "output_type": "stream",
     "text": [
      "3 3 3 3 3 \n",
      "3 2 2 2 3 \n",
      "3 2 1 2 3 \n",
      "3 2 2 2 3 \n",
      "3 3 3 3 3 \n"
     ]
    }
   ],
   "source": [
    "def p22(N: int) -> None:\n",
    "    result: collections.deque[collections.deque[int]] = collections.deque([collections.deque([1])])\n",
    "    for i in range(2, N + 1):\n",
    "        for row in result:\n",
    "            row.appendleft(i)\n",
    "            row.append(i)\n",
    "        result.appendleft(collections.deque([i for _ in range(2 * i - 1)]))\n",
    "        result.append(collections.deque([i for _ in range(2 * i - 1)]))\n",
    "\n",
    "    for row in result:\n",
    "        for col in row:\n",
    "            print(col, end=' ')\n",
    "        print()\n",
    "\n",
    "# Testing the solution\n",
    "p22(3)"
   ]
  },
  {
   "cell_type": "markdown",
   "id": "9cdce5e5",
   "metadata": {
    "papermill": {
     "duration": 0.015156,
     "end_time": "2024-07-14T14:14:20.153718",
     "exception": false,
     "start_time": "2024-07-14T14:14:20.138562",
     "status": "completed"
    },
    "tags": []
   },
   "source": [
    "Basic Math"
   ]
  },
  {
   "cell_type": "code",
   "execution_count": 41,
   "id": "cd23fa37",
   "metadata": {
    "execution": {
     "iopub.execute_input": "2024-07-14T14:14:20.184872Z",
     "iopub.status.busy": "2024-07-14T14:14:20.184437Z",
     "iopub.status.idle": "2024-07-14T14:14:20.187764Z",
     "shell.execute_reply": "2024-07-14T14:14:20.187347Z"
    },
    "lines_to_next_cell": 1,
    "papermill": {
     "duration": 0.019996,
     "end_time": "2024-07-14T14:14:20.188832",
     "exception": false,
     "start_time": "2024-07-14T14:14:20.168836",
     "status": "completed"
    },
    "tags": []
   },
   "outputs": [],
   "source": [
    "def reverseDigits(N: int) -> int:\n",
    "    NR, num = 0, abs(N)\n",
    "    while num > 0:\n",
    "        digit, num = num % 10, num // 10\n",
    "        NR = (NR * 10) + digit\n",
    "    return NR if N > 0 else -NR\n",
    "\n",
    "# Testing the solution\n",
    "assert reverseDigits(-123) == -321"
   ]
  },
  {
   "cell_type": "code",
   "execution_count": 42,
   "id": "5d9d6817",
   "metadata": {
    "execution": {
     "iopub.execute_input": "2024-07-14T14:14:20.221376Z",
     "iopub.status.busy": "2024-07-14T14:14:20.220960Z",
     "iopub.status.idle": "2024-07-14T14:14:20.224655Z",
     "shell.execute_reply": "2024-07-14T14:14:20.224240Z"
    },
    "lines_to_next_cell": 1,
    "papermill": {
     "duration": 0.020521,
     "end_time": "2024-07-14T14:14:20.225697",
     "exception": false,
     "start_time": "2024-07-14T14:14:20.205176",
     "status": "completed"
    },
    "tags": []
   },
   "outputs": [],
   "source": [
    "def isPalindrome(N: int) -> bool:\n",
    "    def reverse(num: int) -> int:\n",
    "        numR = 0\n",
    "        while num > 0:\n",
    "            digit, num = num % 10, num // 10\n",
    "            numR = (numR * 10) + digit\n",
    "        return numR\n",
    "\n",
    "    return N >= 0 and N == reverse(N)\n",
    "\n",
    "# Testing the solution\n",
    "assert isPalindrome(121) == True"
   ]
  },
  {
   "cell_type": "markdown",
   "id": "012c2ce0",
   "metadata": {
    "papermill": {
     "duration": 0.015264,
     "end_time": "2024-07-14T14:14:20.256303",
     "exception": false,
     "start_time": "2024-07-14T14:14:20.241039",
     "status": "completed"
    },
    "tags": []
   },
   "source": []
  },
  {
   "cell_type": "code",
   "execution_count": 43,
   "id": "389e84de",
   "metadata": {
    "execution": {
     "iopub.execute_input": "2024-07-14T14:14:20.287089Z",
     "iopub.status.busy": "2024-07-14T14:14:20.286934Z",
     "iopub.status.idle": "2024-07-14T14:14:20.292037Z",
     "shell.execute_reply": "2024-07-14T14:14:20.291628Z"
    },
    "lines_to_next_cell": 1,
    "papermill": {
     "duration": 0.021701,
     "end_time": "2024-07-14T14:14:20.293073",
     "exception": false,
     "start_time": "2024-07-14T14:14:20.271372",
     "status": "completed"
    },
    "tags": []
   },
   "outputs": [],
   "source": [
    "def lcmAndGcd(n1: int , n2: int) -> tuple[int, int]:\n",
    "    def primeFactors(n: int) -> dict[int, int]:\n",
    "        factors: collections.defaultdict[int, int] = collections.defaultdict(int)\n",
    "        curr = 2\n",
    "        while curr <= n:\n",
    "            if n % curr == 0:\n",
    "                n //= curr\n",
    "                factors[curr] += 1\n",
    "            else:\n",
    "                curr += 1\n",
    "        return factors\n",
    "\n",
    "    pf1, pf2 = primeFactors(n1), primeFactors(n2)\n",
    "    factors: set[int] = {*pf1.keys(), *pf2.keys()}\n",
    "    lcm = gcd = 1\n",
    "    for factor in factors:\n",
    "        min_, max_ = min(pf1[factor], pf2[factor]), max(pf1[factor], pf2[factor])\n",
    "        if min_ != 0:\n",
    "            gcd *= factor ** min_\n",
    "        if max_ != 0:\n",
    "            lcm *= factor ** max_\n",
    "\n",
    "    return lcm, gcd\n",
    "#\n",
    "# Testing the solution\n",
    "assert lcmAndGcd(5, 10) == (10, 5)\n",
    "assert lcmAndGcd(14, 8) == (56, 2)\n",
    "assert lcmAndGcd(8, 42) == (168, 2)"
   ]
  },
  {
   "cell_type": "code",
   "execution_count": 44,
   "id": "bf026496",
   "metadata": {
    "execution": {
     "iopub.execute_input": "2024-07-14T14:14:20.324653Z",
     "iopub.status.busy": "2024-07-14T14:14:20.324301Z",
     "iopub.status.idle": "2024-07-14T14:14:20.328627Z",
     "shell.execute_reply": "2024-07-14T14:14:20.328225Z"
    },
    "lines_to_next_cell": 1,
    "papermill": {
     "duration": 0.021274,
     "end_time": "2024-07-14T14:14:20.329709",
     "exception": false,
     "start_time": "2024-07-14T14:14:20.308435",
     "status": "completed"
    },
    "tags": []
   },
   "outputs": [],
   "source": [
    "def lcmAndGcdOptimal(n1: int , n2: int) -> tuple[int, int]:\n",
    "    \"\"\"\n",
    "    Euclidean algo: GCD remains same even if greater of two numbers is subtracted with the smaller number\n",
    "    Continously subtract greater by smaller until we get a 0.\n",
    "    \"\"\"\n",
    "    def gcd(n1: int, n2: int) -> int:\n",
    "        while n1 != 0 and n2 != 0:\n",
    "            n1, n2 = sorted([n1, n2])\n",
    "            n1, n2 = n1, n2 - n1\n",
    "        return max(n1, n2)\n",
    "\n",
    "    gcd_ = gcd(n1, n2)\n",
    "    lcm_ = (n1 * n2) // gcd_\n",
    "    return lcm_, gcd_\n",
    "\n",
    "# Testing the solution\n",
    "assert lcmAndGcdOptimal(5, 10) == (10, 5)\n",
    "assert lcmAndGcdOptimal(14, 8) == (56, 2)\n",
    "assert lcmAndGcdOptimal(8, 42) == (168, 2)"
   ]
  },
  {
   "cell_type": "code",
   "execution_count": 45,
   "id": "e6aa105e",
   "metadata": {
    "execution": {
     "iopub.execute_input": "2024-07-14T14:14:20.361159Z",
     "iopub.status.busy": "2024-07-14T14:14:20.360730Z",
     "iopub.status.idle": "2024-07-14T14:14:20.364626Z",
     "shell.execute_reply": "2024-07-14T14:14:20.364086Z"
    },
    "lines_to_next_cell": 1,
    "papermill": {
     "duration": 0.020471,
     "end_time": "2024-07-14T14:14:20.365630",
     "exception": false,
     "start_time": "2024-07-14T14:14:20.345159",
     "status": "completed"
    },
    "tags": []
   },
   "outputs": [],
   "source": [
    "def armstrong(N: int) -> bool:\n",
    "    def countDigits(n: int) -> int:\n",
    "        digits = 0\n",
    "        while n > 0:\n",
    "            digits, n = digits + 1, n // 10\n",
    "        return digits\n",
    "\n",
    "    total, n, K = 0, N, countDigits(N)\n",
    "    while n > 0:\n",
    "        digit, n = n % 10, n // 10\n",
    "        total +=digit ** K\n",
    "\n",
    "    return total == N\n",
    "\n",
    "# Testing the solution\n",
    "assert armstrong(371) == True\n",
    "assert armstrong(123) == False"
   ]
  },
  {
   "cell_type": "code",
   "execution_count": 46,
   "id": "aa26b4c6",
   "metadata": {
    "execution": {
     "iopub.execute_input": "2024-07-14T14:14:20.396985Z",
     "iopub.status.busy": "2024-07-14T14:14:20.396581Z",
     "iopub.status.idle": "2024-07-14T14:14:20.400142Z",
     "shell.execute_reply": "2024-07-14T14:14:20.399641Z"
    },
    "lines_to_next_cell": 1,
    "papermill": {
     "duration": 0.020328,
     "end_time": "2024-07-14T14:14:20.401249",
     "exception": false,
     "start_time": "2024-07-14T14:14:20.380921",
     "status": "completed"
    },
    "tags": []
   },
   "outputs": [],
   "source": [
    "def printAllDivisors(N: int) -> list[int]:\n",
    "    result: set[int] = set()\n",
    "    i = 1\n",
    "    while i * i <= N:\n",
    "        if N % i == 0:\n",
    "            result.add(i)\n",
    "            result.add(N // i)\n",
    "        i += 1\n",
    "\n",
    "    return sorted(result)\n",
    "\n",
    "# Testing the solution\n",
    "assert printAllDivisors(12) == [1, 2, 3, 4, 6, 12]"
   ]
  },
  {
   "cell_type": "code",
   "execution_count": 47,
   "id": "c8135fe8",
   "metadata": {
    "execution": {
     "iopub.execute_input": "2024-07-14T14:14:20.432688Z",
     "iopub.status.busy": "2024-07-14T14:14:20.432375Z",
     "iopub.status.idle": "2024-07-14T14:14:20.436251Z",
     "shell.execute_reply": "2024-07-14T14:14:20.435829Z"
    },
    "lines_to_next_cell": 1,
    "papermill": {
     "duration": 0.020499,
     "end_time": "2024-07-14T14:14:20.437234",
     "exception": false,
     "start_time": "2024-07-14T14:14:20.416735",
     "status": "completed"
    },
    "tags": []
   },
   "outputs": [],
   "source": [
    "def minJumps(arr: list[int], N: int) -> int:\n",
    "    \"\"\"\n",
    "    Greedy Approach = Time: O(N), Space: O(1)\n",
    "\n",
    "    Keep track of the range we can jump into with minimum number of steps\n",
    "    For jump = 0, we can jump to index = 0 (left = right = 0)\n",
    "\n",
    "    For each iteration through range, compute maximum range we can jump into.\n",
    "    As we move with the next iteration, jumps = jumps + 1.\n",
    "    Again recompute the next range\n",
    "    \"\"\"\n",
    "    jumps = left = right = 0\n",
    "    while right < N - 1:\n",
    "        max_idx = 0\n",
    "        for i in range(left, right + 1):\n",
    "            max_idx = max(max_idx, i + arr[i])\n",
    "        # For next iteration, we start with where we left off in the previous range (right + 1)\n",
    "        jumps, left, right = jumps + 1, right + 1, max_idx\n",
    "\n",
    "    return jumps\n",
    "\n",
    "# Testing the solution\n",
    "assert minJumps([1,3,5,8,9,2,6,7,6,8,9], 11) == 3"
   ]
  },
  {
   "cell_type": "markdown",
   "id": "bc8d59b3",
   "metadata": {
    "papermill": {
     "duration": 0.015141,
     "end_time": "2024-07-14T14:14:20.467691",
     "exception": false,
     "start_time": "2024-07-14T14:14:20.452550",
     "status": "completed"
    },
    "tags": []
   },
   "source": [
    "#### Basic Recursion"
   ]
  },
  {
   "cell_type": "code",
   "execution_count": 48,
   "id": "e69b9a66",
   "metadata": {
    "execution": {
     "iopub.execute_input": "2024-07-14T14:14:20.498956Z",
     "iopub.status.busy": "2024-07-14T14:14:20.498631Z",
     "iopub.status.idle": "2024-07-14T14:14:20.502006Z",
     "shell.execute_reply": "2024-07-14T14:14:20.501503Z"
    },
    "lines_to_next_cell": 1,
    "papermill": {
     "duration": 0.020268,
     "end_time": "2024-07-14T14:14:20.503128",
     "exception": false,
     "start_time": "2024-07-14T14:14:20.482860",
     "status": "completed"
    },
    "tags": []
   },
   "outputs": [],
   "source": [
    "def sumOfSeries(n: int) -> int:\n",
    "    \"\"\"\n",
    "    Figured this out by checking if there is a pattern by printing all results\n",
    "    \"\"\"\n",
    "    sqrt = (n * (n + 1)) // 2\n",
    "    return sqrt * sqrt\n",
    "\n",
    "# Testing the solution\n",
    "assert sumOfSeries(5) == 225\n",
    "assert sumOfSeries(7) == 784"
   ]
  },
  {
   "cell_type": "code",
   "execution_count": 49,
   "id": "c2c609ac",
   "metadata": {
    "execution": {
     "iopub.execute_input": "2024-07-14T14:14:20.534383Z",
     "iopub.status.busy": "2024-07-14T14:14:20.534113Z",
     "iopub.status.idle": "2024-07-14T14:14:20.537745Z",
     "shell.execute_reply": "2024-07-14T14:14:20.537346Z"
    },
    "lines_to_next_cell": 1,
    "papermill": {
     "duration": 0.020352,
     "end_time": "2024-07-14T14:14:20.538795",
     "exception": false,
     "start_time": "2024-07-14T14:14:20.518443",
     "status": "completed"
    },
    "tags": []
   },
   "outputs": [],
   "source": [
    "def factorialNumbers(N: int) -> list[int]:\n",
    "    def factorial(i: int, curr: int) -> None:\n",
    "        if curr > N:\n",
    "            return\n",
    "        else:\n",
    "            result.append(curr)\n",
    "            factorial(i + 1, curr * (i + 1))\n",
    "\n",
    "    result: list[int] = []\n",
    "    factorial(1, 1)\n",
    "    return result\n",
    "\n",
    "# Testing the solution\n",
    "assert factorialNumbers(3) == [1, 2]\n",
    "assert factorialNumbers(6) == [1, 2, 6]"
   ]
  },
  {
   "cell_type": "code",
   "execution_count": 50,
   "id": "b6270d65",
   "metadata": {
    "execution": {
     "iopub.execute_input": "2024-07-14T14:14:20.570112Z",
     "iopub.status.busy": "2024-07-14T14:14:20.569909Z",
     "iopub.status.idle": "2024-07-14T14:14:20.573844Z",
     "shell.execute_reply": "2024-07-14T14:14:20.573433Z"
    },
    "lines_to_next_cell": 1,
    "papermill": {
     "duration": 0.020749,
     "end_time": "2024-07-14T14:14:20.574912",
     "exception": false,
     "start_time": "2024-07-14T14:14:20.554163",
     "status": "completed"
    },
    "tags": []
   },
   "outputs": [],
   "source": [
    "def reverseArray(nums: list[int]):\n",
    "    def reverse(i: int, j: int) -> None:\n",
    "        if i >= j:\n",
    "            return\n",
    "        nums[i], nums[j] = nums[j], nums[i]\n",
    "        reverse(i + 1, j - 1)\n",
    "\n",
    "    N = len(nums)\n",
    "    reverse(0, N - 1)\n",
    "    return nums\n",
    "\n",
    "# Testing the solution\n",
    "assert reverseArray([1,2]) == [2,1]\n",
    "assert reverseArray([1,2,3,4]) == [4,3,2,1]"
   ]
  },
  {
   "cell_type": "code",
   "execution_count": 51,
   "id": "89cf59c4",
   "metadata": {
    "execution": {
     "iopub.execute_input": "2024-07-14T14:14:20.606001Z",
     "iopub.status.busy": "2024-07-14T14:14:20.605843Z",
     "iopub.status.idle": "2024-07-14T14:14:20.610331Z",
     "shell.execute_reply": "2024-07-14T14:14:20.609797Z"
    },
    "lines_to_next_cell": 1,
    "papermill": {
     "duration": 0.021211,
     "end_time": "2024-07-14T14:14:20.611365",
     "exception": false,
     "start_time": "2024-07-14T14:14:20.590154",
     "status": "completed"
    },
    "tags": []
   },
   "outputs": [],
   "source": [
    "def isPalindrome2(s: str) -> bool:\n",
    "    def check(i: int, j: int) -> bool:\n",
    "        if i >= j:\n",
    "            return True\n",
    "        elif not s[i].isalnum():\n",
    "            return check(i + 1, j)\n",
    "        elif not s[j].isalnum():\n",
    "            return check(i, j - 1)\n",
    "        else:\n",
    "            return  s[i].lower() == s[j].lower() and check(i + 1, j - 1)\n",
    "\n",
    "    N = len(s)\n",
    "    return check(0, N - 1)\n",
    "\n",
    "# Testing the solution\n",
    "assert isPalindrome2(\"A man, a plan, a canal: Panama\") == True\n",
    "assert isPalindrome2(\"race a car\") == False\n",
    "assert isPalindrome2(\"0P\") == False"
   ]
  },
  {
   "cell_type": "code",
   "execution_count": 52,
   "id": "bb5a8346",
   "metadata": {
    "execution": {
     "iopub.execute_input": "2024-07-14T14:14:20.645943Z",
     "iopub.status.busy": "2024-07-14T14:14:20.645684Z",
     "iopub.status.idle": "2024-07-14T14:14:20.650816Z",
     "shell.execute_reply": "2024-07-14T14:14:20.650293Z"
    },
    "lines_to_next_cell": 1,
    "papermill": {
     "duration": 0.021994,
     "end_time": "2024-07-14T14:14:20.651964",
     "exception": false,
     "start_time": "2024-07-14T14:14:20.629970",
     "status": "completed"
    },
    "tags": []
   },
   "outputs": [],
   "source": [
    "def frequencyCount(arr: list[int], N: int, P: int) -> list[int]:\n",
    "    \"\"\"\n",
    "    Similar to finding the missing duplicate number problem.\n",
    "    \"\"\"\n",
    "    def backtrack(i: int) -> None:\n",
    "        if i >= N:\n",
    "            return\n",
    "        elif arr[i] <= 0:\n",
    "            arr[i] -= 1\n",
    "        else:\n",
    "            arr[i], next_ = -1, arr[i] - 1\n",
    "            backtrack(next_)\n",
    "\n",
    "    for i in range(N):\n",
    "        if arr[i] > 0:\n",
    "            arr[i], next_ = 0, arr[i] - 1\n",
    "            backtrack(next_)\n",
    "\n",
    "    for i in range(N):\n",
    "        arr[i] = abs(arr[i])\n",
    "\n",
    "    return arr\n",
    "\n",
    "# Testing the solution\n",
    "assert frequencyCount([2, 3, 2, 3, 5], 5, 5) == [0, 2, 2, 0, 1]\n",
    "assert frequencyCount([3, 3, 3, 3], 4, 3) == [0, 0, 4, 0]\n",
    "assert frequencyCount([8, 9], 2, 9)"
   ]
  },
  {
   "cell_type": "code",
   "execution_count": 53,
   "id": "1ece5c67",
   "metadata": {
    "execution": {
     "iopub.execute_input": "2024-07-14T14:14:20.683589Z",
     "iopub.status.busy": "2024-07-14T14:14:20.683142Z",
     "iopub.status.idle": "2024-07-14T14:14:20.688481Z",
     "shell.execute_reply": "2024-07-14T14:14:20.687969Z"
    },
    "lines_to_next_cell": 1,
    "papermill": {
     "duration": 0.022339,
     "end_time": "2024-07-14T14:14:20.689610",
     "exception": false,
     "start_time": "2024-07-14T14:14:20.667271",
     "status": "completed"
    },
    "tags": []
   },
   "outputs": [],
   "source": [
    "def frequencyCountGFG(arr: list[int], N: int, P: int) -> list[int]:\n",
    "    \"\"\"\n",
    "    Same idea but a diff approach: -ve values represent integers\n",
    "    Instead of backtracking, we can swap with i until we hit a freq\n",
    "    \"\"\"\n",
    "    for i in range(N):\n",
    "        while arr[i] > 0:\n",
    "            j = arr[i] - 1\n",
    "            if j >= N:\n",
    "                arr[i] = 0\n",
    "            elif arr[j] <= 0: # j < N and arr[j] <= 0 (arr[j] is a freq)\n",
    "                arr[j] -= 1\n",
    "                arr[i] = 0\n",
    "            else: # j < N and arr[j] > 0 (arr[j] is a number, we swap)\n",
    "                arr[i], arr[j] = arr[j], arr[i]\n",
    "                arr[j] = -1\n",
    "\n",
    "    for i in range(N):\n",
    "        arr[i] = abs(arr[i])\n",
    "\n",
    "    return arr\n",
    "\n",
    "assert frequencyCountGFG([2, 3, 2, 3, 5], 5, 5) == [0, 2, 2, 0, 1]\n",
    "assert frequencyCountGFG([3, 3, 3, 3], 4, 3) == [0, 0, 4, 0]\n",
    "assert frequencyCountGFG([8, 9], 2, 9)"
   ]
  },
  {
   "cell_type": "markdown",
   "id": "8fe0125c",
   "metadata": {
    "papermill": {
     "duration": 0.015179,
     "end_time": "2024-07-14T14:14:20.720172",
     "exception": false,
     "start_time": "2024-07-14T14:14:20.704993",
     "status": "completed"
    },
    "tags": []
   },
   "source": [
    "LC Medium: https://leetcode.com/problems/frequency-of-the-most-frequent-element/description/"
   ]
  },
  {
   "cell_type": "code",
   "execution_count": 54,
   "id": "ad477e2a",
   "metadata": {
    "execution": {
     "iopub.execute_input": "2024-07-14T14:14:20.751226Z",
     "iopub.status.busy": "2024-07-14T14:14:20.751063Z",
     "iopub.status.idle": "2024-07-14T14:14:20.756165Z",
     "shell.execute_reply": "2024-07-14T14:14:20.755723Z"
    },
    "lines_to_next_cell": 1,
    "papermill": {
     "duration": 0.021931,
     "end_time": "2024-07-14T14:14:20.757204",
     "exception": false,
     "start_time": "2024-07-14T14:14:20.735273",
     "status": "completed"
    },
    "tags": []
   },
   "outputs": [],
   "source": [
    "# Had to see the hint that is a sliding window problem\n",
    "# https://leetcode.com/problems/frequency-of-the-most-frequent-element/submissions/1309518869\n",
    "def maxFrequency(nums: list[int], k: int) -> int:\n",
    "    nums.sort()\n",
    "    N, max_freq, i, j, curr_max, cost = len(nums), 1, 0, 0, nums[0], 0\n",
    "    while i < N and j < N:\n",
    "        if cost <= k:\n",
    "            max_freq = max(max_freq, j - i + 1)\n",
    "            j += 1\n",
    "            if j < N:\n",
    "                cost += (nums[j] - curr_max) * (j - i)\n",
    "                curr_max = max(curr_max, nums[j])\n",
    "        else:\n",
    "            cost -= curr_max - nums[i]\n",
    "            i += 1\n",
    "\n",
    "    return max_freq\n",
    "\n",
    "# Testing the solution\n",
    "assert maxFrequency([1,1,1,1,1,1,11,11,11,12,12,12,12,12,12,12,12], 10) == 11\n",
    "assert maxFrequency([1], 10) == 1\n",
    "assert maxFrequency([3,9,6], 2) == 1\n",
    "assert maxFrequency([1,4,8,13], 5) == 2"
   ]
  },
  {
   "cell_type": "code",
   "execution_count": 55,
   "id": "226b20de",
   "metadata": {
    "execution": {
     "iopub.execute_input": "2024-07-14T14:14:20.788719Z",
     "iopub.status.busy": "2024-07-14T14:14:20.788406Z",
     "iopub.status.idle": "2024-07-14T14:14:20.793382Z",
     "shell.execute_reply": "2024-07-14T14:14:20.792950Z"
    },
    "lines_to_next_cell": 1,
    "papermill": {
     "duration": 0.021839,
     "end_time": "2024-07-14T14:14:20.794425",
     "exception": false,
     "start_time": "2024-07-14T14:14:20.772586",
     "status": "completed"
    },
    "tags": []
   },
   "outputs": [],
   "source": [
    "# https://leetcode.com/problems/frequency-of-the-most-frequent-element/submissions/1309910554/\n",
    "def maxFrequencyBetter(nums: list[int], k: int) -> int:\n",
    "    \"\"\"\n",
    "    Continue expanding if cost <= k.\n",
    "    If cost exceeds k, slide.\n",
    "    \"\"\"\n",
    "    nums.sort()\n",
    "    N, max_window, cost, curr_max = len(nums), 1, 0, nums[0]\n",
    "    i, j = 0, 1\n",
    "    while j < N:\n",
    "\n",
    "        # Continue expanding always\n",
    "        cost += (nums[j] - curr_max) * (j - i)\n",
    "        curr_max = max(curr_max, nums[j])\n",
    "        j += 1\n",
    "\n",
    "        if cost <= k:\n",
    "            max_window = max(max_window, j - i)\n",
    "        else: # Shrink window\n",
    "            cost -= curr_max - nums[i]\n",
    "            i += 1\n",
    "\n",
    "    return max_window\n",
    "\n",
    "# Testing the solution\n",
    "assert maxFrequencyBetter([1,1,1,1,1,1,11,11,11,12,12,12,12,12,12,12,12], 10) == 11\n",
    "assert maxFrequencyBetter([1], 10) == 1\n",
    "assert maxFrequencyBetter([3,9,6], 2) == 1\n",
    "assert maxFrequencyBetter([1,4,8,13], 5) == 2"
   ]
  },
  {
   "cell_type": "markdown",
   "id": "709133f7",
   "metadata": {
    "papermill": {
     "duration": 0.015144,
     "end_time": "2024-07-14T14:14:20.824769",
     "exception": false,
     "start_time": "2024-07-14T14:14:20.809625",
     "status": "completed"
    },
    "tags": []
   },
   "source": [
    "Sorting - 1"
   ]
  },
  {
   "cell_type": "code",
   "execution_count": 56,
   "id": "5f48c157",
   "metadata": {
    "execution": {
     "iopub.execute_input": "2024-07-14T14:14:20.855876Z",
     "iopub.status.busy": "2024-07-14T14:14:20.855677Z",
     "iopub.status.idle": "2024-07-14T14:14:20.859672Z",
     "shell.execute_reply": "2024-07-14T14:14:20.859222Z"
    },
    "lines_to_next_cell": 1,
    "papermill": {
     "duration": 0.020843,
     "end_time": "2024-07-14T14:14:20.860779",
     "exception": false,
     "start_time": "2024-07-14T14:14:20.839936",
     "status": "completed"
    },
    "tags": []
   },
   "outputs": [],
   "source": [
    "def ssort(nums: list[int]) -> list[int]:\n",
    "    \"\"\"\n",
    "    Find the minimum and put it at the right place. Repeat for each index\n",
    "    \"\"\"\n",
    "    N = len(nums)\n",
    "    for i in range(N - 1):\n",
    "        min_idx = i\n",
    "        for j in range(i, N):\n",
    "            if nums[j] < nums[min_idx]:\n",
    "                min_idx = j\n",
    "        nums[i], nums[min_idx] = nums[min_idx], nums[i]\n",
    "\n",
    "    return nums\n",
    "\n",
    "# Testing the solution\n",
    "assert ssort([2,3,1,2,3,4]) == [1,2,2,3,3,4]"
   ]
  },
  {
   "cell_type": "code",
   "execution_count": 57,
   "id": "ca02da2e",
   "metadata": {
    "execution": {
     "iopub.execute_input": "2024-07-14T14:14:20.892321Z",
     "iopub.status.busy": "2024-07-14T14:14:20.892015Z",
     "iopub.status.idle": "2024-07-14T14:14:20.896489Z",
     "shell.execute_reply": "2024-07-14T14:14:20.895966Z"
    },
    "lines_to_next_cell": 1,
    "papermill": {
     "duration": 0.021265,
     "end_time": "2024-07-14T14:14:20.897511",
     "exception": false,
     "start_time": "2024-07-14T14:14:20.876246",
     "status": "completed"
    },
    "tags": []
   },
   "outputs": [],
   "source": [
    "def bsort(nums: list[int]) -> list[int]:\n",
    "    \"\"\"\n",
    "    Compares adjacent elements and places greatest element at the last of the window\n",
    "    Best: O (N), Worst / Avg: O(N ^ 2)\n",
    "    \"\"\"\n",
    "    N = len(nums)\n",
    "    for i in range(N):\n",
    "        swapped: bool = False\n",
    "        for j in range(N - i - 1):\n",
    "            if nums[j] > nums[j + 1]:\n",
    "                nums[j], nums[j + 1] = nums[j + 1], nums[j]\n",
    "                swapped = True\n",
    "\n",
    "        if not swapped:\n",
    "            break\n",
    "\n",
    "    return nums\n",
    "\n",
    "# Testing the solution\n",
    "assert bsort([2,3,1,2,3,4]) == [1,2,2,3,3,4]\n",
    "assert bsort([1,2,3,4,5]) == [1,2,3,4,5]"
   ]
  },
  {
   "cell_type": "code",
   "execution_count": 58,
   "id": "6c55c24f",
   "metadata": {
    "execution": {
     "iopub.execute_input": "2024-07-14T14:14:20.929072Z",
     "iopub.status.busy": "2024-07-14T14:14:20.928635Z",
     "iopub.status.idle": "2024-07-14T14:14:20.932860Z",
     "shell.execute_reply": "2024-07-14T14:14:20.932415Z"
    },
    "lines_to_next_cell": 1,
    "papermill": {
     "duration": 0.02109,
     "end_time": "2024-07-14T14:14:20.933894",
     "exception": false,
     "start_time": "2024-07-14T14:14:20.912804",
     "status": "completed"
    },
    "tags": []
   },
   "outputs": [],
   "source": [
    "def isort(nums: list[int]) -> list[int]:\n",
    "    \"\"\"\n",
    "    Avg, Worst: O (N ^ 2), Best: O(N)\n",
    "    For each element, make sure it is inserted correctly\n",
    "    \"\"\"\n",
    "    N = len(nums)\n",
    "    for i in range(N):\n",
    "        j = i\n",
    "        while j > 0 and nums[j] < nums[j - 1]:\n",
    "            nums[j], nums[j - 1] = nums[j - 1], nums[j]\n",
    "            j -= 1\n",
    "    return nums\n",
    "\n",
    "# Testing the solution\n",
    "assert isort([2,3,1,2,3,4]) == [1,2,2,3,3,4]\n",
    "assert isort([1,2,3,4,5]) == [1,2,3,4,5]"
   ]
  },
  {
   "cell_type": "code",
   "execution_count": 59,
   "id": "b83bbe39",
   "metadata": {
    "execution": {
     "iopub.execute_input": "2024-07-14T14:14:20.965200Z",
     "iopub.status.busy": "2024-07-14T14:14:20.964856Z",
     "iopub.status.idle": "2024-07-14T14:14:20.969182Z",
     "shell.execute_reply": "2024-07-14T14:14:20.968738Z"
    },
    "lines_to_next_cell": 1,
    "papermill": {
     "duration": 0.021076,
     "end_time": "2024-07-14T14:14:20.970201",
     "exception": false,
     "start_time": "2024-07-14T14:14:20.949125",
     "status": "completed"
    },
    "tags": []
   },
   "outputs": [],
   "source": [
    "def isort2(nums: list[int]) -> list[int]:\n",
    "    \"\"\"\n",
    "    Avg, Worst: O (N ^ 2), Best: O(N)\n",
    "    For each element, make sure it is inserted correctly\n",
    "    \"\"\"\n",
    "    N = len(nums)\n",
    "    for i in range(1, N):\n",
    "        curr, j = nums[i], i - 1\n",
    "        while j >= 0 and nums[j] > curr:\n",
    "            nums[j + 1] = nums[j]\n",
    "            j -= 1\n",
    "        nums[j + 1] = curr\n",
    "\n",
    "    return nums\n",
    "\n",
    "# Testing the solution\n",
    "assert isort2([2,3,1,2,3,4]) == [1,2,2,3,3,4]\n",
    "assert isort2([1,2,3,4,5]) == [1,2,3,4,5]"
   ]
  },
  {
   "cell_type": "markdown",
   "id": "06a9c2c1",
   "metadata": {
    "papermill": {
     "duration": 0.015138,
     "end_time": "2024-07-14T14:14:21.000838",
     "exception": false,
     "start_time": "2024-07-14T14:14:20.985700",
     "status": "completed"
    },
    "tags": []
   },
   "source": [
    "Code Gladiators Semi Final"
   ]
  },
  {
   "cell_type": "code",
   "execution_count": 60,
   "id": "fcda3819",
   "metadata": {
    "execution": {
     "iopub.execute_input": "2024-07-14T14:14:21.031977Z",
     "iopub.status.busy": "2024-07-14T14:14:21.031626Z",
     "iopub.status.idle": "2024-07-14T14:14:21.036701Z",
     "shell.execute_reply": "2024-07-14T14:14:21.036282Z"
    },
    "lines_to_next_cell": 1,
    "papermill": {
     "duration": 0.021872,
     "end_time": "2024-07-14T14:14:21.037749",
     "exception": false,
     "start_time": "2024-07-14T14:14:21.015877",
     "status": "completed"
    },
    "tags": []
   },
   "outputs": [],
   "source": [
    "# Q1\n",
    "def max_rides_q1(arr1: list[int], N1: int, arr2: list[int], N2: int, money: int) -> int:\n",
    "    i = j = rides = 0\n",
    "    while i < N1 or j < N2:\n",
    "        if i < N1 and arr1[i] <= money and (j >= N2 or arr1[i] <= arr2[j]):\n",
    "            rides, i, money = rides + 1, i + 1, money - arr1[i]\n",
    "        elif j < N2 and arr2[j] <= money and (i >= N1 or arr1[i] > arr2[j]):\n",
    "            rides, j, money = rides + 1, j + 1, money - arr2[j]\n",
    "        else:\n",
    "            break\n",
    "\n",
    "    return rides\n",
    "\n",
    "# Testing the solution\n",
    "assert max_rides_q1([5,3,6,8,10,20], 6, [4,4,4,6,7,10,4,8], 8, 20) == 5\n",
    "assert max_rides_q1([10,20,30,40], 4, [5,3,9,10,2,3,6,9,15], 9, 60) == 9"
   ]
  },
  {
   "cell_type": "markdown",
   "id": "ddd2b276",
   "metadata": {
    "papermill": {
     "duration": 0.017108,
     "end_time": "2024-07-14T14:14:21.070259",
     "exception": false,
     "start_time": "2024-07-14T14:14:21.053151",
     "status": "completed"
    },
    "tags": []
   },
   "source": [
    "Merge sort"
   ]
  },
  {
   "cell_type": "code",
   "execution_count": 61,
   "id": "9bae07ec",
   "metadata": {
    "execution": {
     "iopub.execute_input": "2024-07-14T14:14:21.101568Z",
     "iopub.status.busy": "2024-07-14T14:14:21.101141Z",
     "iopub.status.idle": "2024-07-14T14:14:21.106407Z",
     "shell.execute_reply": "2024-07-14T14:14:21.105905Z"
    },
    "lines_to_next_cell": 1,
    "papermill": {
     "duration": 0.021925,
     "end_time": "2024-07-14T14:14:21.107437",
     "exception": false,
     "start_time": "2024-07-14T14:14:21.085512",
     "status": "completed"
    },
    "tags": []
   },
   "outputs": [],
   "source": [
    "def msort(arr: list[int]) -> list[int]:\n",
    "    \"\"\"\n",
    "    Divide and merge\n",
    "    Best, Avg, Worst: O(n log n)\n",
    "    \"\"\"\n",
    "    def merge(arr1: list[int], arr2: list[int]) -> list[int]:\n",
    "        N1, N2, i, j = len(arr1), len(arr2), 0, 0\n",
    "        result: list[int] = []\n",
    "        while i < N1 or j < N2:\n",
    "            if j >= N2 or (i < N1 and arr1[i] <= arr2[j]):\n",
    "                result.append(arr1[i])\n",
    "                i += 1\n",
    "            else:\n",
    "                result.append(arr2[j])\n",
    "                j += 1\n",
    "\n",
    "        return result\n",
    "\n",
    "    N = len(arr)\n",
    "    if N == 1:\n",
    "        return arr\n",
    "    else:\n",
    "        mid = N // 2\n",
    "        left = msort(arr[:mid])\n",
    "        right = msort(arr[mid:])\n",
    "        return merge(left, right)\n",
    "\n",
    "# Testing the solution\n",
    "assert msort([5,4,3,2,1]) == [1,2,3,4,5]\n",
    "assert msort([2,1]) == [1,2]\n",
    "assert msort([1]) == [1]"
   ]
  },
  {
   "cell_type": "code",
   "execution_count": 62,
   "id": "64ad8a6d",
   "metadata": {
    "execution": {
     "iopub.execute_input": "2024-07-14T14:14:21.153380Z",
     "iopub.status.busy": "2024-07-14T14:14:21.152901Z",
     "iopub.status.idle": "2024-07-14T14:14:21.160985Z",
     "shell.execute_reply": "2024-07-14T14:14:21.160542Z"
    },
    "lines_to_next_cell": 1,
    "papermill": {
     "duration": 0.025575,
     "end_time": "2024-07-14T14:14:21.162068",
     "exception": false,
     "start_time": "2024-07-14T14:14:21.136493",
     "status": "completed"
    },
    "tags": []
   },
   "outputs": [],
   "source": [
    "def msortBetter(arr: list[int]) -> list[int]:\n",
    "    def backtrack(left: int, right: int) -> None:\n",
    "        if right - left <= 1:\n",
    "            return\n",
    "        else:\n",
    "            mid = (left + right) // 2\n",
    "            backtrack(left, mid)\n",
    "            backtrack(mid, right)\n",
    "\n",
    "            temp: list[int] = []\n",
    "            i, j = left, mid\n",
    "            while i < mid or j < right:\n",
    "                if j >= right or (i < mid and arr[i] <= arr[j]):\n",
    "                    temp.append(arr[i])\n",
    "                    i += 1\n",
    "                else:\n",
    "                    temp.append(arr[j])\n",
    "                    j += 1\n",
    "\n",
    "            for idx in range(left, right):\n",
    "                arr[idx] = temp[idx - left]\n",
    "\n",
    "    N = len(arr)\n",
    "    backtrack(0, N)\n",
    "    return arr\n",
    "\n",
    "# Testing the solution\n",
    "for _ in range(50):\n",
    "    arr = np.random.randint(0, 50, random.randint(1, 51)).tolist()\n",
    "    msortBetter(arr)\n",
    "    assert arr == sorted(arr)"
   ]
  },
  {
   "cell_type": "markdown",
   "id": "d01399f4",
   "metadata": {
    "papermill": {
     "duration": 0.015019,
     "end_time": "2024-07-14T14:14:21.192424",
     "exception": false,
     "start_time": "2024-07-14T14:14:21.177405",
     "status": "completed"
    },
    "tags": []
   },
   "source": [
    "Quick Sort"
   ]
  },
  {
   "cell_type": "code",
   "execution_count": 63,
   "id": "2b24de28",
   "metadata": {
    "execution": {
     "iopub.execute_input": "2024-07-14T14:14:21.224726Z",
     "iopub.status.busy": "2024-07-14T14:14:21.224359Z",
     "iopub.status.idle": "2024-07-14T14:14:21.230743Z",
     "shell.execute_reply": "2024-07-14T14:14:21.230236Z"
    },
    "lines_to_next_cell": 1,
    "papermill": {
     "duration": 0.023243,
     "end_time": "2024-07-14T14:14:21.231927",
     "exception": false,
     "start_time": "2024-07-14T14:14:21.208684",
     "status": "completed"
    },
    "tags": []
   },
   "outputs": [],
   "source": [
    "def qsort(arr: list[int]) -> list[int]:\n",
    "    \"\"\"\n",
    "    Pick a pivot and place it at its correct position - smaller elements to the left, larger elements to the right of pivot\n",
    "    Sort left & right halves recusively\n",
    "    \"\"\"\n",
    "    N = len(arr)\n",
    "    if N <= 1:\n",
    "        return arr\n",
    "    else:\n",
    "        left, right, pivot = [], [], 0\n",
    "        for i in range(N):\n",
    "            if i != pivot:\n",
    "                if arr[i] <= arr[pivot]:\n",
    "                    left.append(arr[i])\n",
    "                else:\n",
    "                    right.append(arr[i])\n",
    "\n",
    "        return qsort(left) + [arr[pivot]] + qsort(right)\n",
    "\n",
    "# Testing the solution\n",
    "for _ in range(50):\n",
    "    arr = np.random.randint(0, 50, random.randint(1, 51)).tolist()\n",
    "    assert qsort(arr) == sorted(arr)"
   ]
  },
  {
   "cell_type": "code",
   "execution_count": 64,
   "id": "e5849396",
   "metadata": {
    "execution": {
     "iopub.execute_input": "2024-07-14T14:14:21.263801Z",
     "iopub.status.busy": "2024-07-14T14:14:21.263405Z",
     "iopub.status.idle": "2024-07-14T14:14:21.270666Z",
     "shell.execute_reply": "2024-07-14T14:14:21.270216Z"
    },
    "lines_to_next_cell": 1,
    "papermill": {
     "duration": 0.024191,
     "end_time": "2024-07-14T14:14:21.271760",
     "exception": false,
     "start_time": "2024-07-14T14:14:21.247569",
     "status": "completed"
    },
    "tags": []
   },
   "outputs": [],
   "source": [
    "def qsortBetter(arr: list[int]) -> list[int]:\n",
    "    def partition(left: int, right: int, pivot: int) -> int:\n",
    "        \"\"\"\n",
    "        Place two pointers, i = left, j = right\n",
    "        Iterate i forward until we hit a number greater than arr[pivot]\n",
    "        Iterate j backward until we hit a number lesser than or equal to arr[pivot]\n",
    "        if i < j:\n",
    "            Swap arr[i], arr[j]\n",
    "        else:\n",
    "            swap arr[pivot], arr[j]\n",
    "            return j\n",
    "        \"\"\"\n",
    "        i, j = left, right\n",
    "        while i < j:\n",
    "            while i < right and arr[i] <= arr[pivot]:\n",
    "                i += 1\n",
    "            while j > left and arr[j] > arr[pivot]:\n",
    "                j -= 1\n",
    "            if i < j:\n",
    "                arr[i], arr[j] = arr[j], arr[i]\n",
    "\n",
    "        arr[pivot], arr[j] = arr[j], arr[pivot]\n",
    "        return j\n",
    "\n",
    "    def backtrack(left: int, right: int) -> None:\n",
    "        if left < right:\n",
    "            pivot = partition(left, right, left)\n",
    "            backtrack(left, pivot - 1)\n",
    "            backtrack(pivot + 1, right)\n",
    "\n",
    "    N = len(arr)\n",
    "    backtrack(0, N - 1)\n",
    "    return arr\n",
    "\n",
    "# Testing the solution\n",
    "for _ in range(50):\n",
    "    arr = np.random.randint(0, 50, random.randint(1, 51)).tolist()\n",
    "    qsortBetter(arr)\n",
    "    assert arr == sorted(arr)"
   ]
  },
  {
   "cell_type": "markdown",
   "id": "7d24ea52",
   "metadata": {
    "papermill": {
     "duration": 0.015102,
     "end_time": "2024-07-14T14:14:21.302094",
     "exception": false,
     "start_time": "2024-07-14T14:14:21.286992",
     "status": "completed"
    },
    "tags": []
   },
   "source": [
    "LC POTD"
   ]
  },
  {
   "cell_type": "code",
   "execution_count": 65,
   "id": "c8d69999",
   "metadata": {
    "execution": {
     "iopub.execute_input": "2024-07-14T14:14:21.333249Z",
     "iopub.status.busy": "2024-07-14T14:14:21.332773Z",
     "iopub.status.idle": "2024-07-14T14:14:21.336658Z",
     "shell.execute_reply": "2024-07-14T14:14:21.336232Z"
    },
    "lines_to_next_cell": 1,
    "papermill": {
     "duration": 0.020505,
     "end_time": "2024-07-14T14:14:21.337733",
     "exception": false,
     "start_time": "2024-07-14T14:14:21.317228",
     "status": "completed"
    },
    "tags": []
   },
   "outputs": [],
   "source": [
    "# https://leetcode.com/problems/pass-the-pillow/submissions/1311515636\n",
    "def passThePillow(n: int, time: int) -> int:\n",
    "    atFirst = (time // (n - 1)) % 2 == 0\n",
    "    position = time % (n - 1)\n",
    "    return position + 1 if atFirst else n - position\n",
    "\n",
    "# Testing the solution\n",
    "assert passThePillow(4, 5) == 2\n",
    "assert passThePillow(3, 2) == 3\n",
    "assert passThePillow(6, 5) == 6"
   ]
  },
  {
   "cell_type": "code",
   "execution_count": 66,
   "id": "be0a407e",
   "metadata": {
    "execution": {
     "iopub.execute_input": "2024-07-14T14:14:21.369333Z",
     "iopub.status.busy": "2024-07-14T14:14:21.368896Z",
     "iopub.status.idle": "2024-07-14T14:14:21.373847Z",
     "shell.execute_reply": "2024-07-14T14:14:21.373348Z"
    },
    "lines_to_next_cell": 1,
    "papermill": {
     "duration": 0.021809,
     "end_time": "2024-07-14T14:14:21.374958",
     "exception": false,
     "start_time": "2024-07-14T14:14:21.353149",
     "status": "completed"
    },
    "tags": []
   },
   "outputs": [],
   "source": [
    "def intersect(nums1: list[int], nums2: list[int]) -> list[int]:\n",
    "    \"\"\"\n",
    "    Taking this approach since in one of the follow ups, its mentioned that the array is sorted\n",
    "    \"\"\"\n",
    "    # Sort both the arrays\n",
    "    nums1.sort()\n",
    "    nums2.sort()\n",
    "\n",
    "    N1, N2, i, j = len(nums1), len(nums2), 0, 0\n",
    "    intersection: list[int] = []\n",
    "    while i < N1 and j < N2:\n",
    "        if nums1[i] < nums2[j]:\n",
    "            i += 1\n",
    "        elif nums1[i] > nums2[j]:\n",
    "            j += 1\n",
    "        else:\n",
    "            intersection.append(nums1[i])\n",
    "            i, j = i + 1, j + 1\n",
    "\n",
    "    return intersection\n",
    "\n",
    "# Testing the solution\n",
    "assert intersect([1,2,2,1], [2,2]) == [2,2]\n",
    "assert intersect([4,9,5], [9,4,9,8,4]) == [4,9]\n",
    "assert intersect([4,9,5,4], [9,4,9,8,4]) == [4,4,9]"
   ]
  },
  {
   "cell_type": "markdown",
   "id": "c9ce06ce",
   "metadata": {
    "papermill": {
     "duration": 0.015249,
     "end_time": "2024-07-14T14:14:21.405500",
     "exception": false,
     "start_time": "2024-07-14T14:14:21.390251",
     "status": "completed"
    },
    "tags": []
   },
   "source": [
    "Codeforces Practice"
   ]
  },
  {
   "cell_type": "code",
   "execution_count": 67,
   "id": "fd52ba67",
   "metadata": {
    "execution": {
     "iopub.execute_input": "2024-07-14T14:14:21.437077Z",
     "iopub.status.busy": "2024-07-14T14:14:21.436594Z",
     "iopub.status.idle": "2024-07-14T14:14:21.440175Z",
     "shell.execute_reply": "2024-07-14T14:14:21.439756Z"
    },
    "lines_to_next_cell": 1,
    "papermill": {
     "duration": 0.020445,
     "end_time": "2024-07-14T14:14:21.441201",
     "exception": false,
     "start_time": "2024-07-14T14:14:21.420756",
     "status": "completed"
    },
    "tags": []
   },
   "outputs": [],
   "source": [
    "# Drinks 800\n",
    "def drinks(proportions: list[int], n_drinks: int) -> float:\n",
    "    return (sum(proportions) * 100) / (100 * n_drinks)\n",
    "\n",
    "# Testing the solution\n",
    "assert round(drinks([50,50,100], 3), 2) == 66.67\n",
    "assert round(drinks([0,25,50,75], 4), 2) == 37.5"
   ]
  },
  {
   "cell_type": "code",
   "execution_count": 68,
   "id": "b793f455",
   "metadata": {
    "execution": {
     "iopub.execute_input": "2024-07-14T14:14:21.472814Z",
     "iopub.status.busy": "2024-07-14T14:14:21.472407Z",
     "iopub.status.idle": "2024-07-14T14:14:21.476713Z",
     "shell.execute_reply": "2024-07-14T14:14:21.476213Z"
    },
    "lines_to_next_cell": 1,
    "papermill": {
     "duration": 0.021327,
     "end_time": "2024-07-14T14:14:21.477929",
     "exception": false,
     "start_time": "2024-07-14T14:14:21.456602",
     "status": "completed"
    },
    "tags": []
   },
   "outputs": [],
   "source": [
    "# Substring and subsequence - 1200 \n",
    "def substr_subsequence(text1: str, text2: str) -> int:\n",
    "    N1, N2 = len(text1), len(text2)\n",
    "    ans: int = N1 + N2\n",
    "    for k in range(N2):\n",
    "        i, j = 0, k\n",
    "        while i < N1 and j < N2:\n",
    "            if text1[i] == text2[j]:\n",
    "                j += 1\n",
    "            i += 1\n",
    "        ans = min(ans, N1 + N2 - (j - k))\n",
    "\n",
    "    return ans\n",
    "\n",
    "# Testing the solution\n",
    "assert substr_subsequence(\"aba\", \"cb\") == 4\n",
    "assert substr_subsequence(\"contest\", \"test\") == 7\n",
    "assert substr_subsequence(\"cde\", \"abcefg\") == 7\n",
    "assert substr_subsequence(\"cdaa\", \"cdca\") == 6"
   ]
  },
  {
   "cell_type": "markdown",
   "id": "b864bd53",
   "metadata": {
    "papermill": {
     "duration": 0.015186,
     "end_time": "2024-07-14T14:14:21.508542",
     "exception": false,
     "start_time": "2024-07-14T14:14:21.493356",
     "status": "completed"
    },
    "tags": []
   },
   "source": [
    "LC Biweekly - 6th July, started at 9 PM IST"
   ]
  },
  {
   "cell_type": "code",
   "execution_count": 69,
   "id": "2dd8e45d",
   "metadata": {
    "execution": {
     "iopub.execute_input": "2024-07-14T14:14:21.539685Z",
     "iopub.status.busy": "2024-07-14T14:14:21.539424Z",
     "iopub.status.idle": "2024-07-14T14:14:21.543247Z",
     "shell.execute_reply": "2024-07-14T14:14:21.542743Z"
    },
    "lines_to_next_cell": 1,
    "papermill": {
     "duration": 0.020699,
     "end_time": "2024-07-14T14:14:21.544426",
     "exception": false,
     "start_time": "2024-07-14T14:14:21.523727",
     "status": "completed"
    },
    "tags": []
   },
   "outputs": [],
   "source": [
    "# Q1\n",
    "def numberOfAlternatingGroups(colors: list[int]) -> int:\n",
    "    N = len(colors)\n",
    "    colors += colors[:2]\n",
    "    groups = 0\n",
    "    for i in range(N):\n",
    "        if colors[i + 2] == colors[i] and colors[i] != colors[i + 1]:\n",
    "            groups += 1\n",
    "    return groups\n",
    "\n",
    "# Testing the solution\n",
    "assert numberOfAlternatingGroups([0,1,0,0,1]) == 3\n",
    "assert numberOfAlternatingGroups([1,1,0]) == 1"
   ]
  },
  {
   "cell_type": "code",
   "execution_count": 70,
   "id": "7701afcb",
   "metadata": {
    "execution": {
     "iopub.execute_input": "2024-07-14T14:14:21.576000Z",
     "iopub.status.busy": "2024-07-14T14:14:21.575728Z",
     "iopub.status.idle": "2024-07-14T14:14:21.579920Z",
     "shell.execute_reply": "2024-07-14T14:14:21.579401Z"
    },
    "lines_to_next_cell": 1,
    "papermill": {
     "duration": 0.021052,
     "end_time": "2024-07-14T14:14:21.580997",
     "exception": false,
     "start_time": "2024-07-14T14:14:21.559945",
     "status": "completed"
    },
    "tags": []
   },
   "outputs": [],
   "source": [
    "# Q2\n",
    "def maximumPoints(enemyEnergies: list[int], currentEnergy: int) -> int:\n",
    "    \"\"\"\n",
    "    Sort by enemy energies.\n",
    "    We can only consume energy once from an enemy - we do this from the most 'expensive' enemy\n",
    "    We continue gaining points from the weaker guy\n",
    "    \"\"\"\n",
    "\n",
    "    enemyEnergies.sort()\n",
    "    N = len(enemyEnergies)\n",
    "    points = 0\n",
    "    while enemyEnergies:\n",
    "        if enemyEnergies[0] <= currentEnergy:\n",
    "            currentEnergy, points = currentEnergy % enemyEnergies[0], points + (currentEnergy // enemyEnergies[0])\n",
    "        elif points > 0:\n",
    "            currentEnergy += enemyEnergies.pop()\n",
    "        else:\n",
    "            break\n",
    "\n",
    "    return points\n",
    "\n",
    "# Testing the solution\n",
    "assert maximumPoints([3,2,2], 2) == 3\n",
    "assert maximumPoints([2], 10) == 5\n",
    "assert maximumPoints([2], 1) == 0"
   ]
  },
  {
   "cell_type": "markdown",
   "id": "d7002f9b",
   "metadata": {
    "papermill": {
     "duration": 0.015194,
     "end_time": "2024-07-14T14:14:21.611485",
     "exception": false,
     "start_time": "2024-07-14T14:14:21.596291",
     "status": "completed"
    },
    "tags": []
   },
   "source": [
    "Upsolving Q3"
   ]
  },
  {
   "cell_type": "code",
   "execution_count": 71,
   "id": "3ac42c70",
   "metadata": {
    "execution": {
     "iopub.execute_input": "2024-07-14T14:14:21.642860Z",
     "iopub.status.busy": "2024-07-14T14:14:21.642515Z",
     "iopub.status.idle": "2024-07-14T14:14:21.647054Z",
     "shell.execute_reply": "2024-07-14T14:14:21.646530Z"
    },
    "lines_to_next_cell": 1,
    "papermill": {
     "duration": 0.021446,
     "end_time": "2024-07-14T14:14:21.648189",
     "exception": false,
     "start_time": "2024-07-14T14:14:21.626743",
     "status": "completed"
    },
    "tags": []
   },
   "outputs": [],
   "source": [
    "# Q3\n",
    "# https://leetcode.com/problems/alternating-groups-ii/submissions/1311884953\n",
    "def numberOfAlternatingGroupsII(colors: list[int], k: int) -> int:\n",
    "    colors += colors[:k - 1]\n",
    "    N = len(colors)\n",
    "    i, j, prev, groups = 0, 0, int(not colors[0]), 0\n",
    "    while j < N:\n",
    "        if colors[j] != prev:\n",
    "            prev = int(colors[j])\n",
    "        else:\n",
    "            i = j\n",
    "        if j - i + 1 >= k:\n",
    "            groups += 1\n",
    "\n",
    "        j += 1\n",
    "\n",
    "    return groups\n",
    "\n",
    "# Testing the solution\n",
    "assert numberOfAlternatingGroupsII([0,1,0,0,1,0,1], 6) == 2\n",
    "assert numberOfAlternatingGroupsII([1,1,0,1], 4) == 0\n",
    "assert numberOfAlternatingGroupsII([0,1,0,1,0], 3) == 3"
   ]
  },
  {
   "cell_type": "markdown",
   "id": "f5496f5f",
   "metadata": {
    "papermill": {
     "duration": 0.015227,
     "end_time": "2024-07-14T14:14:21.678807",
     "exception": false,
     "start_time": "2024-07-14T14:14:21.663580",
     "status": "completed"
    },
    "tags": []
   },
   "source": [
    "Codeforces practice"
   ]
  },
  {
   "cell_type": "code",
   "execution_count": 72,
   "id": "e199a57c",
   "metadata": {
    "execution": {
     "iopub.execute_input": "2024-07-14T14:14:21.709968Z",
     "iopub.status.busy": "2024-07-14T14:14:21.709710Z",
     "iopub.status.idle": "2024-07-14T14:14:21.713629Z",
     "shell.execute_reply": "2024-07-14T14:14:21.713199Z"
    },
    "lines_to_next_cell": 1,
    "papermill": {
     "duration": 0.020718,
     "end_time": "2024-07-14T14:14:21.714680",
     "exception": false,
     "start_time": "2024-07-14T14:14:21.693962",
     "status": "completed"
    },
    "tags": []
   },
   "outputs": [],
   "source": [
    "def chewbacca(N: int) -> int:\n",
    "    # Invert and add to stack\n",
    "    stack: list[int] = []\n",
    "    while N > 0:\n",
    "        digit, N = N % 10, N // 10\n",
    "        stack.append(digit if digit < 5 or (digit == 9 and N == 0) else 9 - digit)\n",
    "\n",
    "    # Pop and accumulate to result\n",
    "    result: int = 0\n",
    "    while stack:\n",
    "        result = (result * 10) + stack.pop()\n",
    "\n",
    "    return result\n",
    "\n",
    "# Testing the solution\n",
    "assert chewbacca(4545) == 4444\n",
    "assert chewbacca(27) == 22\n",
    "assert chewbacca(9) == 9\n",
    "assert chewbacca(919) == 910"
   ]
  },
  {
   "cell_type": "markdown",
   "id": "72c3c5e5",
   "metadata": {
    "papermill": {
     "duration": 0.015207,
     "end_time": "2024-07-14T14:14:21.745167",
     "exception": false,
     "start_time": "2024-07-14T14:14:21.729960",
     "status": "completed"
    },
    "tags": []
   },
   "source": [
    "LC Weekly - 7th July 2024"
   ]
  },
  {
   "cell_type": "code",
   "execution_count": 73,
   "id": "5e6cb793",
   "metadata": {
    "execution": {
     "iopub.execute_input": "2024-07-14T14:14:21.776687Z",
     "iopub.status.busy": "2024-07-14T14:14:21.776352Z",
     "iopub.status.idle": "2024-07-14T14:14:21.779911Z",
     "shell.execute_reply": "2024-07-14T14:14:21.779409Z"
    },
    "lines_to_next_cell": 1,
    "papermill": {
     "duration": 0.020535,
     "end_time": "2024-07-14T14:14:21.780978",
     "exception": false,
     "start_time": "2024-07-14T14:14:21.760443",
     "status": "completed"
    },
    "tags": []
   },
   "outputs": [],
   "source": [
    "# Q1\n",
    "def getEncryptedString(s: str, k: int) -> str:\n",
    "    N = len(s)\n",
    "    result: list[str] = []\n",
    "    for i in range(N):\n",
    "        result.append(s[(i + k) % N])\n",
    "    return ''.join(result)\n",
    "\n",
    "# Testing the solution\n",
    "assert getEncryptedString(\"dart\", 3) == \"tdar\"\n",
    "assert getEncryptedString(\"aaa\", 1) == \"aaa\""
   ]
  },
  {
   "cell_type": "code",
   "execution_count": 74,
   "id": "95ed49ab",
   "metadata": {
    "execution": {
     "iopub.execute_input": "2024-07-14T14:14:21.812647Z",
     "iopub.status.busy": "2024-07-14T14:14:21.812202Z",
     "iopub.status.idle": "2024-07-14T14:14:21.816426Z",
     "shell.execute_reply": "2024-07-14T14:14:21.815923Z"
    },
    "lines_to_next_cell": 1,
    "papermill": {
     "duration": 0.021038,
     "end_time": "2024-07-14T14:14:21.817543",
     "exception": false,
     "start_time": "2024-07-14T14:14:21.796505",
     "status": "completed"
    },
    "tags": []
   },
   "outputs": [],
   "source": [
    "# Q2\n",
    "def validStrings(N: int) -> set[str]:\n",
    "    def backtrack(acc: list[str]) -> None:\n",
    "        if len(acc) == N:\n",
    "            result.add(''.join(acc))\n",
    "        else:\n",
    "            if not acc or acc[-1] == '1':\n",
    "                acc.append('0')\n",
    "                backtrack(acc)\n",
    "                acc.pop()\n",
    "            acc.append('1')\n",
    "            backtrack(acc)\n",
    "            acc.pop()\n",
    "\n",
    "    result: set[str] = set()\n",
    "    backtrack([])\n",
    "    return result\n",
    "\n",
    "# Testing the solution\n",
    "assert sorted(validStrings(3)) == ['010', '011', '101', '110', '111']"
   ]
  },
  {
   "cell_type": "code",
   "execution_count": 75,
   "id": "5064877b",
   "metadata": {
    "execution": {
     "iopub.execute_input": "2024-07-14T14:14:21.849140Z",
     "iopub.status.busy": "2024-07-14T14:14:21.848892Z",
     "iopub.status.idle": "2024-07-14T14:14:21.857044Z",
     "shell.execute_reply": "2024-07-14T14:14:21.856590Z"
    },
    "lines_to_next_cell": 1,
    "papermill": {
     "duration": 0.025018,
     "end_time": "2024-07-14T14:14:21.858072",
     "exception": false,
     "start_time": "2024-07-14T14:14:21.833054",
     "status": "completed"
    },
    "tags": []
   },
   "outputs": [],
   "source": [
    "# Q4\n",
    "def minimumCost(target: str, words: list[str], costs: list[int]) -> int:\n",
    "    match_cache: dict[tuple[int, int], str] = dict()\n",
    "    def match(i_: int, s_length: int, s: str) -> bool:\n",
    "        if (i_, s_length) in match_cache:\n",
    "            return s == match_cache[(i_, s_length)]\n",
    "        elif i_ + s_length > target_length:\n",
    "            return False\n",
    "        else:\n",
    "            i = i_\n",
    "            for j in range(s_length):\n",
    "                if i < target_length and s[j] == target[i]:\n",
    "                    i += 1\n",
    "                else:\n",
    "                    return False\n",
    "\n",
    "            match_cache[(i_, s_length)] = s\n",
    "            return True\n",
    "\n",
    "    @functools.cache\n",
    "    def backtrack(i: int) -> float:\n",
    "        if i == target_length:\n",
    "            return 0\n",
    "        else:\n",
    "            min_cost: float = math.inf\n",
    "            for cost, candidate in starts_with[target[i]]:\n",
    "                candidate_length = len(candidate)\n",
    "                if match(i, candidate_length, candidate):\n",
    "                    min_cost = min(min_cost, cost + backtrack(i + candidate_length))\n",
    "            return min_cost\n",
    "\n",
    "    N_words = len(words)\n",
    "    target_length = len(target)\n",
    "\n",
    "    # Remove duplicates\n",
    "    unique: collections.defaultdict[str, float] = collections.defaultdict(lambda: math.inf)\n",
    "    for i in range(N_words):\n",
    "        unique[words[i]] = min(unique[words[i]], costs[i])\n",
    "\n",
    "    # Store the first character as a key\n",
    "    starts_with: collections.defaultdict[str, list[tuple[float, str]]] = collections.defaultdict(list)\n",
    "    for word, cost in unique.items():\n",
    "        starts_with[word[0]].append((cost, word))\n",
    "\n",
    "    # Sort by minimum cost\n",
    "    for k in starts_with:\n",
    "        starts_with[k].sort()\n",
    "\n",
    "    # Backtrack and find the minimum cost\n",
    "    min_cost = backtrack(0)\n",
    "    return int(min_cost) if not math.isinf(min_cost) else -1\n",
    "\n",
    "# Testing the solution\n",
    "assert minimumCost(\"abcdef\", [\"abdef\",\"abc\",\"d\",\"def\",\"ef\"], [100,1,1,10,5]) == 7\n",
    "assert minimumCost(\"aaaa\", [\"z\", \"zz\", \"zzz\"], [1, 10, 100]) == -1\n",
    "assert minimumCost(\"aaaa\", [\"a\", \"z\", \"zz\", \"zzz\"], [1, 1, 10, 100]) == 4\n",
    "assert minimumCost(\"sgsipzma\", [\"s\",\"s\",\"g\",\"ipzma\"], [1,5,2,1]) == 5"
   ]
  },
  {
   "cell_type": "markdown",
   "id": "2a369efe",
   "metadata": {
    "papermill": {
     "duration": 0.015217,
     "end_time": "2024-07-14T14:14:21.888722",
     "exception": false,
     "start_time": "2024-07-14T14:14:21.873505",
     "status": "completed"
    },
    "tags": []
   },
   "source": [
    "Codeforces practice - Math"
   ]
  },
  {
   "cell_type": "code",
   "execution_count": 76,
   "id": "04e0064e",
   "metadata": {
    "execution": {
     "iopub.execute_input": "2024-07-14T14:14:21.920566Z",
     "iopub.status.busy": "2024-07-14T14:14:21.920155Z",
     "iopub.status.idle": "2024-07-14T14:14:21.925638Z",
     "shell.execute_reply": "2024-07-14T14:14:21.925095Z"
    },
    "lines_to_next_cell": 1,
    "papermill": {
     "duration": 0.02249,
     "end_time": "2024-07-14T14:14:21.926676",
     "exception": false,
     "start_time": "2024-07-14T14:14:21.904186",
     "status": "completed"
    },
    "tags": []
   },
   "outputs": [],
   "source": [
    "# Beautiful matrix\n",
    "def beautiful_matrix(matrix: list[list[str]]) -> int:\n",
    "    to_visit: collections.deque[tuple[int, int, int]] = collections.deque([(2, 2, 0)])\n",
    "    visited: set[tuple[int, int]] = set()\n",
    "    while to_visit:\n",
    "        i, j, moves = to_visit.popleft()\n",
    "        visited.add((i, j))\n",
    "        if matrix[i][j] == '1':\n",
    "            return moves\n",
    "        else:\n",
    "            for x, y in [(i + 1, j), (i - 1, j), (i, j + 1), (i, j - 1)]:\n",
    "                if 0 <= x < 5 and 0 <= y < 5 and (x, y) not in visited:\n",
    "                    to_visit.append((x, y, moves + 1))\n",
    "    return -1\n",
    "\n",
    "# Testing the solution\n",
    "assert beautiful_matrix([['0','0','0','0','0'], ['0','0','0','0','1'], ['0','0','0','0','0'], ['0','0','0','0','0'], ['0','0','0','0','0']]) == 3\n",
    "assert beautiful_matrix([['0','0','0','0','0'], ['0','0','0','0','0'], ['0','1','0','0','0'], ['0','0','0','0','0'], ['0','0','0','0','0']]) == 1"
   ]
  },
  {
   "cell_type": "code",
   "execution_count": 77,
   "id": "50e4cf4e",
   "metadata": {
    "execution": {
     "iopub.execute_input": "2024-07-14T14:14:21.957983Z",
     "iopub.status.busy": "2024-07-14T14:14:21.957640Z",
     "iopub.status.idle": "2024-07-14T14:14:21.961725Z",
     "shell.execute_reply": "2024-07-14T14:14:21.961286Z"
    },
    "lines_to_next_cell": 1,
    "papermill": {
     "duration": 0.020854,
     "end_time": "2024-07-14T14:14:21.962756",
     "exception": false,
     "start_time": "2024-07-14T14:14:21.941902",
     "status": "completed"
    },
    "tags": []
   },
   "outputs": [],
   "source": [
    "def array_with_odd_sum(arr: list[int]) -> bool:\n",
    "    N = len(arr)\n",
    "    odd, even = functools.reduce(\n",
    "            lambda initial, n: (initial[0] + int(n % 2 == 1), initial[1] + int(n % 2 == 0)),\n",
    "            arr, (0, 0)\n",
    "    )\n",
    "\n",
    "    # If there are odd number of evens\n",
    "    return (odd > 0 and even > 0) or (even == 0 and N % 2 == 1)\n",
    "\n",
    "# Testing the solution\n",
    "assert array_with_odd_sum([2,3]) == True\n",
    "assert array_with_odd_sum([2,2,8,8]) == False\n",
    "assert array_with_odd_sum([1,1,1,1]) == False\n",
    "assert array_with_odd_sum([1,1,1]) == True"
   ]
  },
  {
   "cell_type": "code",
   "execution_count": 78,
   "id": "2959d402",
   "metadata": {
    "execution": {
     "iopub.execute_input": "2024-07-14T14:14:21.994465Z",
     "iopub.status.busy": "2024-07-14T14:14:21.994004Z",
     "iopub.status.idle": "2024-07-14T14:14:21.997292Z",
     "shell.execute_reply": "2024-07-14T14:14:21.996761Z"
    },
    "lines_to_next_cell": 1,
    "papermill": {
     "duration": 0.02034,
     "end_time": "2024-07-14T14:14:21.998416",
     "exception": false,
     "start_time": "2024-07-14T14:14:21.978076",
     "status": "completed"
    },
    "tags": []
   },
   "outputs": [],
   "source": [
    "def floor_number(n: int, x: int) -> int:\n",
    "    n = max(n - 2, 0)\n",
    "    return math.ceil(n / x) + 1\n",
    "\n",
    "# Testing the solution\n",
    "assert floor_number(2, 100) == 1\n",
    "assert floor_number(7, 3) == 3\n",
    "assert floor_number(987, 13) == 77"
   ]
  },
  {
   "cell_type": "markdown",
   "id": "98cf5dcc",
   "metadata": {
    "papermill": {
     "duration": 0.0153,
     "end_time": "2024-07-14T14:14:22.029165",
     "exception": false,
     "start_time": "2024-07-14T14:14:22.013865",
     "status": "completed"
    },
    "tags": []
   },
   "source": [
    "Codeforces practice - Binary Search"
   ]
  },
  {
   "cell_type": "code",
   "execution_count": 79,
   "id": "b667d14c",
   "metadata": {
    "execution": {
     "iopub.execute_input": "2024-07-14T14:14:22.060802Z",
     "iopub.status.busy": "2024-07-14T14:14:22.060369Z",
     "iopub.status.idle": "2024-07-14T14:14:22.065172Z",
     "shell.execute_reply": "2024-07-14T14:14:22.064739Z"
    },
    "lines_to_next_cell": 1,
    "papermill": {
     "duration": 0.021642,
     "end_time": "2024-07-14T14:14:22.066178",
     "exception": false,
     "start_time": "2024-07-14T14:14:22.044536",
     "status": "completed"
    },
    "tags": []
   },
   "outputs": [],
   "source": [
    "def magic_powder(magic_powder: int, required: list[int], available: list[int]) -> int:\n",
    "    def check(qty: int) -> bool:\n",
    "        powder = magic_powder\n",
    "        for req, avail in zip(required, available):\n",
    "            powder -= max(0, (req * qty) - avail)\n",
    "        return powder >= 0\n",
    "\n",
    "    low = min(avail // req for req, avail in zip(required, available))\n",
    "    high = low + magic_powder\n",
    "    while low <= high:\n",
    "        mid = (low + high) // 2\n",
    "        if check(mid):\n",
    "            low = mid + 1\n",
    "        else:\n",
    "            high = mid - 1\n",
    "\n",
    "    return high\n",
    "\n",
    "# Testing the solution\n",
    "assert magic_powder(1, [2,1,4], [11,3,16]) == 4\n",
    "assert magic_powder(3, [4,3,5,6], [11,12,14,20]) == 3"
   ]
  },
  {
   "cell_type": "code",
   "execution_count": 80,
   "id": "ecdbcce3",
   "metadata": {
    "execution": {
     "iopub.execute_input": "2024-07-14T14:14:22.097830Z",
     "iopub.status.busy": "2024-07-14T14:14:22.097390Z",
     "iopub.status.idle": "2024-07-14T14:14:22.101430Z",
     "shell.execute_reply": "2024-07-14T14:14:22.100943Z"
    },
    "lines_to_next_cell": 1,
    "papermill": {
     "duration": 0.021013,
     "end_time": "2024-07-14T14:14:22.102541",
     "exception": false,
     "start_time": "2024-07-14T14:14:22.081528",
     "status": "completed"
    },
    "tags": []
   },
   "outputs": [],
   "source": [
    "def pipeline(n: int, k: int) -> int:\n",
    "    def check(i: int) -> bool:\n",
    "        \"\"\"\n",
    "        Check if connecting the largest 'i' pipes would give flow >= n\n",
    "        Sum of arithmetic progression: sn = n * ((a1 + an) / 2)\n",
    "        \"\"\"\n",
    "        max_sum = (i * (k + k - i + 1) // 2) - i + 1\n",
    "        return max_sum >= n\n",
    "\n",
    "    low, high = 0, k\n",
    "    while low <= high:\n",
    "        mid = (low + high) // 2\n",
    "        if check(mid):\n",
    "            high = mid - 1\n",
    "        else:\n",
    "            low = mid + 1\n",
    "\n",
    "    return low if low <= k else -1\n",
    "\n",
    "# Testing the solution\n",
    "assert pipeline(8, 4) == -1\n",
    "assert pipeline(5, 5) == 1\n",
    "assert pipeline(4, 3) == 2\n",
    "assert pipeline(1, 4) == 0"
   ]
  },
  {
   "cell_type": "code",
   "execution_count": 81,
   "id": "6c05099b",
   "metadata": {
    "execution": {
     "iopub.execute_input": "2024-07-14T14:14:22.134193Z",
     "iopub.status.busy": "2024-07-14T14:14:22.133772Z",
     "iopub.status.idle": "2024-07-14T14:14:22.138721Z",
     "shell.execute_reply": "2024-07-14T14:14:22.138283Z"
    },
    "lines_to_next_cell": 1,
    "papermill": {
     "duration": 0.021876,
     "end_time": "2024-07-14T14:14:22.139828",
     "exception": false,
     "start_time": "2024-07-14T14:14:22.117952",
     "status": "completed"
    },
    "tags": []
   },
   "outputs": [],
   "source": [
    "def poisoned_dagger(N: int, hp: int, seconds: list[int]) -> int:\n",
    "    def check(k: int) -> bool:\n",
    "        damage = 0\n",
    "        for i in range(N):\n",
    "            damage += min(k, seconds[i + 1] - seconds[i])\n",
    "\n",
    "        return damage >= hp\n",
    "\n",
    "    # Update seconds for the sake of 'check'\n",
    "    seconds.append(seconds[-1] + hp)\n",
    "\n",
    "    # Binary search\n",
    "    low, high = 1, hp\n",
    "    while low <= high:\n",
    "        mid = (low + high) // 2\n",
    "        if check(mid):\n",
    "            high = mid - 1\n",
    "        else:\n",
    "            low = mid + 1\n",
    "    return low\n",
    "\n",
    "# Testing the solution\n",
    "assert poisoned_dagger(2, 5, [1, 5]) == 3\n",
    "assert poisoned_dagger(3, 10, [2, 4, 10]) == 4\n",
    "assert poisoned_dagger(5, 3, [1, 2, 4, 5, 7]) == 1\n",
    "assert poisoned_dagger(4, 1000, [3, 25, 64, 1337]) == 470"
   ]
  },
  {
   "cell_type": "markdown",
   "id": "9c3df917",
   "metadata": {
    "papermill": {
     "duration": 0.015307,
     "end_time": "2024-07-14T14:14:22.170718",
     "exception": false,
     "start_time": "2024-07-14T14:14:22.155411",
     "status": "completed"
    },
    "tags": []
   },
   "source": [
    "Codeforces practice"
   ]
  },
  {
   "cell_type": "code",
   "execution_count": 82,
   "id": "97e10095",
   "metadata": {
    "execution": {
     "iopub.execute_input": "2024-07-14T14:14:22.202556Z",
     "iopub.status.busy": "2024-07-14T14:14:22.202100Z",
     "iopub.status.idle": "2024-07-14T14:14:22.206369Z",
     "shell.execute_reply": "2024-07-14T14:14:22.205861Z"
    },
    "lines_to_next_cell": 1,
    "papermill": {
     "duration": 0.0214,
     "end_time": "2024-07-14T14:14:22.207532",
     "exception": false,
     "start_time": "2024-07-14T14:14:22.186132",
     "status": "completed"
    },
    "tags": []
   },
   "outputs": [],
   "source": [
    "def chocolate_theives(m: int) -> int:\n",
    "    \"\"\"\n",
    "    Not clear on the upper bound aspect, led to TLE.\n",
    "    Looks like we can fix UB to 8 (m + 1).\n",
    "    \"\"\"\n",
    "    # Time: n ** 1/3\n",
    "    def count_ways(n: int) -> int:\n",
    "        count = 0\n",
    "        k = 2\n",
    "        while k ** 3 <= n:\n",
    "            count += n // (k ** 3)\n",
    "            k += 1\n",
    "        return count\n",
    "\n",
    "    # Binary search - log2(m)\n",
    "    low, high = 8, 8 * (m + 1)\n",
    "    while low <= high:\n",
    "        mid = (low + high) // 2\n",
    "        ways = count_ways(mid)\n",
    "        if ways >= m:\n",
    "            high = mid - 1\n",
    "        else:\n",
    "            low = mid + 1\n",
    "\n",
    "    return low if count_ways(low) == m else -1\n",
    "\n",
    "# Testing the solution\n",
    "assert chocolate_theives(10) == -1\n",
    "assert chocolate_theives(8) == 54\n",
    "assert chocolate_theives(1) == 8"
   ]
  },
  {
   "cell_type": "markdown",
   "id": "0abc9811",
   "metadata": {
    "papermill": {
     "duration": 0.015385,
     "end_time": "2024-07-14T14:14:22.238375",
     "exception": false,
     "start_time": "2024-07-14T14:14:22.222990",
     "status": "completed"
    },
    "tags": []
   },
   "source": [
    "Striver CP - Prime, Seive, Prime Factorisation"
   ]
  },
  {
   "cell_type": "code",
   "execution_count": 83,
   "id": "b2abc95d",
   "metadata": {
    "execution": {
     "iopub.execute_input": "2024-07-14T14:14:22.269992Z",
     "iopub.status.busy": "2024-07-14T14:14:22.269595Z",
     "iopub.status.idle": "2024-07-14T14:14:22.276523Z",
     "shell.execute_reply": "2024-07-14T14:14:22.276092Z"
    },
    "lines_to_next_cell": 1,
    "papermill": {
     "duration": 0.023729,
     "end_time": "2024-07-14T14:14:22.277562",
     "exception": false,
     "start_time": "2024-07-14T14:14:22.253833",
     "status": "completed"
    },
    "tags": []
   },
   "outputs": [
    {
     "data": {
      "text/plain": [
       "[3, 5, 7, 11]"
      ]
     },
     "execution_count": 83,
     "metadata": {},
     "output_type": "execute_result"
    }
   ],
   "source": [
    "def generate_primes(low: int, high: int) -> list[int]:\n",
    "    \"\"\"\n",
    "    Return list of primes inclusive of range [low, high] using seive of Erastosthenes\n",
    "    \"\"\"\n",
    "    soe: list[bool] = [True for i in range(high + 1)]\n",
    "    soe[0], soe[1], i = False, False, 2\n",
    "    while i * i <= high:\n",
    "        if soe[i]:\n",
    "            soe[i*i::i] = [False] * len(soe[i*i::i])\n",
    "        i += 1\n",
    "\n",
    "    return [i for i in range(low, high + 1) if soe[i]]\n",
    "\n",
    "# Testing the solution\n",
    "generate_primes(3, 11)"
   ]
  },
  {
   "cell_type": "code",
   "execution_count": 84,
   "id": "ef78960e",
   "metadata": {
    "execution": {
     "iopub.execute_input": "2024-07-14T14:14:22.309558Z",
     "iopub.status.busy": "2024-07-14T14:14:22.309244Z",
     "iopub.status.idle": "2024-07-14T14:14:22.312868Z",
     "shell.execute_reply": "2024-07-14T14:14:22.312413Z"
    },
    "lines_to_next_cell": 1,
    "papermill": {
     "duration": 0.020753,
     "end_time": "2024-07-14T14:14:22.313935",
     "exception": false,
     "start_time": "2024-07-14T14:14:22.293182",
     "status": "completed"
    },
    "tags": []
   },
   "outputs": [],
   "source": [
    "def hulk(n: int) -> str:\n",
    "    result: list[str] = []\n",
    "    for i in range(n):\n",
    "        result.append(\"I\")\n",
    "        result.append(\"hate\" if i % 2 == 0 else \"love\")\n",
    "        result.append(\"it\" if i == n - 1 else \"that\")\n",
    "\n",
    "    return \" \".join(result)\n",
    "\n",
    "# Testing the solution\n",
    "assert hulk(1) == \"I hate it\"\n",
    "assert hulk(2) == \"I hate that I love it\"\n",
    "assert hulk(3) == \"I hate that I love that I hate it\""
   ]
  },
  {
   "cell_type": "markdown",
   "id": "12e34bcd",
   "metadata": {
    "papermill": {
     "duration": 0.015373,
     "end_time": "2024-07-14T14:14:22.344919",
     "exception": false,
     "start_time": "2024-07-14T14:14:22.329546",
     "status": "completed"
    },
    "tags": []
   },
   "source": [
    "Segmented Seive of Erastosthenes\n",
    "Video Link: https://www.youtube.com/watch?v=MY0fXk-3BVQ"
   ]
  },
  {
   "cell_type": "code",
   "execution_count": 85,
   "id": "413321da",
   "metadata": {
    "execution": {
     "iopub.execute_input": "2024-07-14T14:14:22.376353Z",
     "iopub.status.busy": "2024-07-14T14:14:22.375984Z",
     "iopub.status.idle": "2024-07-14T14:14:22.381565Z",
     "shell.execute_reply": "2024-07-14T14:14:22.381058Z"
    },
    "lines_to_next_cell": 1,
    "papermill": {
     "duration": 0.022539,
     "end_time": "2024-07-14T14:14:22.382691",
     "exception": false,
     "start_time": "2024-07-14T14:14:22.360152",
     "status": "completed"
    },
    "tags": []
   },
   "outputs": [],
   "source": [
    "def segmented_seive_of_erastosthenes(low: int, high: int) -> list[int]:\n",
    "    \"\"\"\n",
    "    1. Generate primes till sqrt(high)\n",
    "    2. For each generated prime, repeat same logic - (i * i, end, i), instead of starting at i * i start at first position within range [low, high].\n",
    "    \"\"\"\n",
    "\n",
    "    # Step 1\n",
    "    sqrt = int(math.sqrt(high))\n",
    "    seive: list[bool] = [True for i in range(sqrt + 1)]\n",
    "    seive[0], seive[1], i = False, False, 2\n",
    "    while i * i <= sqrt:\n",
    "        if seive[i]:\n",
    "            seive[i*i::i] = [False] * len(seive[i*i::i])\n",
    "        i += 1\n",
    "\n",
    "    primes_below: list[int] = [i for i in range(sqrt + 1) if seive[i]]\n",
    "\n",
    "    # Step 2\n",
    "    seive = [True for i in range(low, high + 1)]\n",
    "    for prime in primes_below:\n",
    "        # Always start at n * n and if that is smaller, we check for the 1st num in range\n",
    "        start = max(prime * prime, math.ceil(low / prime) * prime)\n",
    "        seive[start - low::prime] = [False] * len(seive[start - low::prime])\n",
    "\n",
    "    primes: list[int] = [i for i in range(low, high + 1) if seive[i - low] and i != 1]\n",
    "\n",
    "    return primes\n",
    "\n",
    "# Testing the solution\n",
    "assert segmented_seive_of_erastosthenes(100, 125) == [101, 103, 107, 109, 113]\n",
    "assert segmented_seive_of_erastosthenes(1, 10) == [2, 3, 5, 7]"
   ]
  },
  {
   "cell_type": "markdown",
   "id": "94e647eb",
   "metadata": {
    "papermill": {
     "duration": 0.015391,
     "end_time": "2024-07-14T14:14:22.413537",
     "exception": false,
     "start_time": "2024-07-14T14:14:22.398146",
     "status": "completed"
    },
    "tags": []
   },
   "source": [
    "To count the number of primes available lesser than a number (approximately)"
   ]
  },
  {
   "cell_type": "code",
   "execution_count": 86,
   "id": "5ec5bc2a",
   "metadata": {
    "execution": {
     "iopub.execute_input": "2024-07-14T14:14:22.445032Z",
     "iopub.status.busy": "2024-07-14T14:14:22.444723Z",
     "iopub.status.idle": "2024-07-14T14:14:22.447586Z",
     "shell.execute_reply": "2024-07-14T14:14:22.447140Z"
    },
    "lines_to_next_cell": 1,
    "papermill": {
     "duration": 0.019741,
     "end_time": "2024-07-14T14:14:22.448646",
     "exception": false,
     "start_time": "2024-07-14T14:14:22.428905",
     "status": "completed"
    },
    "tags": []
   },
   "outputs": [],
   "source": [
    "# Count of prime numbers <= n ~= ceil(n / ln(n))\n",
    "def count_primes(n: int) -> int:\n",
    "    return math.ceil(n / math.log(n))\n",
    "\n",
    "# Testing the solution\n",
    "assert count_primes(int(1e8)) >= 1e6\n",
    "assert count_primes(int(1e9)) >= 1e7"
   ]
  },
  {
   "cell_type": "markdown",
   "id": "af34624d",
   "metadata": {
    "papermill": {
     "duration": 0.015373,
     "end_time": "2024-07-14T14:14:22.479593",
     "exception": false,
     "start_time": "2024-07-14T14:14:22.464220",
     "status": "completed"
    },
    "tags": []
   },
   "source": [
    "Codeforces practice"
   ]
  },
  {
   "cell_type": "code",
   "execution_count": 87,
   "id": "39cfd8bb",
   "metadata": {
    "execution": {
     "iopub.execute_input": "2024-07-14T14:14:22.511169Z",
     "iopub.status.busy": "2024-07-14T14:14:22.510734Z",
     "iopub.status.idle": "2024-07-14T14:14:22.515104Z",
     "shell.execute_reply": "2024-07-14T14:14:22.514570Z"
    },
    "lines_to_next_cell": 1,
    "papermill": {
     "duration": 0.021348,
     "end_time": "2024-07-14T14:14:22.516125",
     "exception": false,
     "start_time": "2024-07-14T14:14:22.494777",
     "status": "completed"
    },
    "tags": []
   },
   "outputs": [],
   "source": [
    "def longest_good_sequence_memo(N: int, arr: list[int]) -> int:\n",
    "    @functools.cache\n",
    "    def backtrack(i: int, prev: int) -> int:\n",
    "        if i == N:\n",
    "            return 0\n",
    "        else:\n",
    "            pick = 0\n",
    "            if prev == -1 or (arr[i] > arr[prev] and math.gcd(arr[i], arr[prev]) > 1):\n",
    "                pick = 1 + backtrack(i + 1, i)\n",
    "            nopick = backtrack(i + 1, prev)\n",
    "            return max(pick, nopick)\n",
    "\n",
    "    return backtrack(0, -1)\n",
    "\n",
    "# Testing the solution\n",
    "assert longest_good_sequence_memo(5, [2,3,4,6,9]) == 4\n",
    "assert longest_good_sequence_memo(9, [1,2,3,5,6,7,8,9,10]) == 4"
   ]
  },
  {
   "cell_type": "code",
   "execution_count": 88,
   "id": "b58a7a51",
   "metadata": {
    "execution": {
     "iopub.execute_input": "2024-07-14T14:14:22.548066Z",
     "iopub.status.busy": "2024-07-14T14:14:22.547534Z",
     "iopub.status.idle": "2024-07-14T14:14:22.552390Z",
     "shell.execute_reply": "2024-07-14T14:14:22.551976Z"
    },
    "lines_to_next_cell": 1,
    "papermill": {
     "duration": 0.021851,
     "end_time": "2024-07-14T14:14:22.553420",
     "exception": false,
     "start_time": "2024-07-14T14:14:22.531569",
     "status": "completed"
    },
    "tags": []
   },
   "outputs": [],
   "source": [
    "def longest_good_sequence_better(N: int, arr: list[int]) -> int:\n",
    "    dp: list[int] = [0 for j in range(N + 1)]\n",
    "    for i in range(N - 1, -1, -1):\n",
    "        next_dp: list[int] = list(dp)\n",
    "        for prev in range(N - 2, -2, -1):\n",
    "            if prev == -1 or (arr[i] > arr[prev] and math.gcd(arr[i], arr[prev]) > 1):\n",
    "                next_dp[prev + 1] = 1 + dp[i + 1]\n",
    "            next_dp[prev + 1] = max(next_dp[prev + 1], dp[prev + 1])\n",
    "        dp = next_dp\n",
    "\n",
    "    return dp[0]\n",
    "\n",
    "# Testing the solution\n",
    "assert longest_good_sequence_better(5, [2,3,4,6,9]) == 4\n",
    "assert longest_good_sequence_better(9, [1,2,3,5,6,7,8,9,10]) == 4"
   ]
  },
  {
   "cell_type": "code",
   "execution_count": 89,
   "id": "74218c0a",
   "metadata": {
    "execution": {
     "iopub.execute_input": "2024-07-14T14:14:22.585572Z",
     "iopub.status.busy": "2024-07-14T14:14:22.585145Z",
     "iopub.status.idle": "2024-07-14T14:14:22.590144Z",
     "shell.execute_reply": "2024-07-14T14:14:22.589725Z"
    },
    "lines_to_next_cell": 1,
    "papermill": {
     "duration": 0.022081,
     "end_time": "2024-07-14T14:14:22.591182",
     "exception": false,
     "start_time": "2024-07-14T14:14:22.569101",
     "status": "completed"
    },
    "tags": []
   },
   "outputs": [],
   "source": [
    "def longest_good_sequence(N: int, arr: list[int]) -> int:\n",
    "    MAX = max(arr)\n",
    "    counts: list[int] = [0 for i in range(MAX + 1)]\n",
    "    for n in arr:\n",
    "        max_count, i = 0, 2\n",
    "        factors: set[int] = set()\n",
    "        while i * i <= n:\n",
    "            if n % i == 0:\n",
    "                while n % i == 0:\n",
    "                    n //= i\n",
    "                max_count = max(max_count, counts[i] + 1)\n",
    "                factors.add(i)\n",
    "            i += 1\n",
    "\n",
    "        if n > 1:\n",
    "            factors.add(n)\n",
    "            max_count = max(max_count, counts[n] + 1)\n",
    "\n",
    "        for prime in factors:\n",
    "            counts[prime] = max_count\n",
    "\n",
    "    return max(*counts, 1)\n",
    "\n",
    "# Testing the solution\n",
    "assert longest_good_sequence(5, [2,3,4,6,9]) == 4\n",
    "assert longest_good_sequence(9, [1,2,3,5,6,7,8,9,10]) == 4"
   ]
  },
  {
   "cell_type": "markdown",
   "id": "1c05a06f",
   "metadata": {
    "papermill": {
     "duration": 0.015386,
     "end_time": "2024-07-14T14:14:22.622077",
     "exception": false,
     "start_time": "2024-07-14T14:14:22.606691",
     "status": "completed"
    },
    "tags": []
   },
   "source": [
    "Codeforces Practice"
   ]
  },
  {
   "cell_type": "code",
   "execution_count": 90,
   "id": "cad74e8d",
   "metadata": {
    "execution": {
     "iopub.execute_input": "2024-07-14T14:14:22.653782Z",
     "iopub.status.busy": "2024-07-14T14:14:22.653617Z",
     "iopub.status.idle": "2024-07-14T14:14:22.657368Z",
     "shell.execute_reply": "2024-07-14T14:14:22.656840Z"
    },
    "lines_to_next_cell": 1,
    "papermill": {
     "duration": 0.020856,
     "end_time": "2024-07-14T14:14:22.658372",
     "exception": false,
     "start_time": "2024-07-14T14:14:22.637516",
     "status": "completed"
    },
    "tags": []
   },
   "outputs": [],
   "source": [
    "# Taxes\n",
    "def minimum_taxes(N: int) -> int:\n",
    "    \"\"\"\n",
    "    https://codeforces.com/blog/entry/48659\n",
    "\n",
    "    Uses goldbach's conjecture: Every even natural number > 2 can be repr as sum of two primes.\n",
    "    Every odd number can be repr as 3, n - 3 (even)\n",
    "    \"\"\"\n",
    "    def check_prime(n: int) -> bool:\n",
    "        count, i = 0, 1\n",
    "        while i * i <= n:\n",
    "            if n % i == 0:\n",
    "                count += 1 if n / i == i else 2\n",
    "            i += 1\n",
    "        return count == 2\n",
    "\n",
    "    # Prime itself\n",
    "    if check_prime(N):\n",
    "        return 1\n",
    "\n",
    "    # Even or if we can split N into [2, Prime]\n",
    "    elif N % 2 == 0 or check_prime(N - 2):\n",
    "        return 2\n",
    "\n",
    "    # Turn it into even for goldbach's conjecture to apply\n",
    "    else:\n",
    "        return 3"
   ]
  },
  {
   "cell_type": "markdown",
   "id": "bf5e096f",
   "metadata": {
    "papermill": {
     "duration": 0.015454,
     "end_time": "2024-07-14T14:14:22.689475",
     "exception": false,
     "start_time": "2024-07-14T14:14:22.674021",
     "status": "completed"
    },
    "tags": []
   },
   "source": [
    "Codeforces practice: Bit Manipulation / Powerset"
   ]
  },
  {
   "cell_type": "code",
   "execution_count": 91,
   "id": "aa2c4073",
   "metadata": {
    "execution": {
     "iopub.execute_input": "2024-07-14T14:14:22.720909Z",
     "iopub.status.busy": "2024-07-14T14:14:22.720745Z",
     "iopub.status.idle": "2024-07-14T14:14:22.724012Z",
     "shell.execute_reply": "2024-07-14T14:14:22.723569Z"
    },
    "lines_to_next_cell": 1,
    "papermill": {
     "duration": 0.020205,
     "end_time": "2024-07-14T14:14:22.725014",
     "exception": false,
     "start_time": "2024-07-14T14:14:22.704809",
     "status": "completed"
    },
    "tags": []
   },
   "outputs": [],
   "source": [
    "# New Year's Eve\n",
    "def new_years_eve(N: int, K: int) -> int:\n",
    "    \"Simply count the number of bits\"\n",
    "    if K > 1:\n",
    "        count = 0\n",
    "        while N > 0:\n",
    "            N, count = N >> 1, count + 1\n",
    "        return 2 ** count - 1\n",
    "    else:\n",
    "        return N\n",
    "\n",
    "# Testing the solution\n",
    "assert new_years_eve(20, 2) == 31\n",
    "assert new_years_eve(20, 1) == 20"
   ]
  },
  {
   "cell_type": "code",
   "execution_count": 92,
   "id": "3682be9b",
   "metadata": {
    "execution": {
     "iopub.execute_input": "2024-07-14T14:14:22.770718Z",
     "iopub.status.busy": "2024-07-14T14:14:22.770257Z",
     "iopub.status.idle": "2024-07-14T14:14:22.774574Z",
     "shell.execute_reply": "2024-07-14T14:14:22.774127Z"
    },
    "lines_to_next_cell": 1,
    "papermill": {
     "duration": 0.035178,
     "end_time": "2024-07-14T14:14:22.775666",
     "exception": false,
     "start_time": "2024-07-14T14:14:22.740488",
     "status": "completed"
    },
    "tags": []
   },
   "outputs": [],
   "source": [
    "# Special Numbers\n",
    "def special_numbers(n: int, k: int) -> int:\n",
    "    \"\"\"\n",
    "    Thought this solution after some trial n error.\n",
    "    Observation: Positions of a number in the series:\n",
    "    - n = 3\n",
    "        - 3^0 => 1 => 1\n",
    "        - 3^1 => 3 => 2\n",
    "        - 3^2 => 9 => 4\n",
    "        - 3^3 => 27 => 8\n",
    "\n",
    "    - n = 4\n",
    "        - 4^0 => 1 => 1\n",
    "        - 4^1 => 4 => 2\n",
    "        - 4^2 => 8 => 4\n",
    "\n",
    "    - We can narrow down the position simply find 2 ** (logn (some number))\n",
    "    - How to find the points in between: Represent them as intermediate powers of n\n",
    "\n",
    "    For eg:\n",
    "        f(3, 11) -> f(3, 8) + f(3, 2) + f(3, 1)\n",
    "        f(4, 15) -> f(4, 8) + f(4, 4) + f(4, 2) + f(4, 1)\n",
    "    \"\"\"\n",
    "    MOD = int(1e9 + 7)\n",
    "    result: int = 0\n",
    "    while k > 0:\n",
    "        power = int(math.log(k, 2))\n",
    "        result, k = result + pow(n, power, MOD), k - 2 ** power\n",
    "\n",
    "    return result % MOD\n",
    "\n",
    "# Testing the solution\n",
    "assert special_numbers(3, 4) == 9\n",
    "assert special_numbers(2, 12) == 12\n",
    "assert special_numbers(105, 564) == 3595374"
   ]
  },
  {
   "cell_type": "code",
   "execution_count": 93,
   "id": "e8614749",
   "metadata": {
    "execution": {
     "iopub.execute_input": "2024-07-14T14:14:22.807398Z",
     "iopub.status.busy": "2024-07-14T14:14:22.807212Z",
     "iopub.status.idle": "2024-07-14T14:14:22.811130Z",
     "shell.execute_reply": "2024-07-14T14:14:22.810689Z"
    },
    "lines_to_next_cell": 1,
    "papermill": {
     "duration": 0.020886,
     "end_time": "2024-07-14T14:14:22.812130",
     "exception": false,
     "start_time": "2024-07-14T14:14:22.791244",
     "status": "completed"
    },
    "tags": []
   },
   "outputs": [],
   "source": [
    "# Petr and a combination lock\n",
    "def combination_lock(N: int, rotations: list[int]) -> bool:\n",
    "    def backtrack(i: int, sum_: int) -> bool:\n",
    "        if i == N:\n",
    "            return sum_ % 360 == 0\n",
    "        else:\n",
    "            return backtrack(i + 1, sum_ - rotations[i]) or backtrack(i + 1, sum_ + rotations[i])\n",
    "\n",
    "    return backtrack(0, 0)\n",
    "\n",
    "# Testing the solution\n",
    "assert combination_lock(3, [10, 20, 30]) == True\n",
    "assert combination_lock(3, [10, 10, 10]) == False\n",
    "assert combination_lock(3, [120, 120, 120]) == True\n",
    "assert combination_lock(2, [360, 360]) == True"
   ]
  },
  {
   "cell_type": "code",
   "execution_count": 94,
   "id": "cbb7239e",
   "metadata": {
    "execution": {
     "iopub.execute_input": "2024-07-14T14:14:22.843976Z",
     "iopub.status.busy": "2024-07-14T14:14:22.843621Z",
     "iopub.status.idle": "2024-07-14T14:14:22.848455Z",
     "shell.execute_reply": "2024-07-14T14:14:22.847966Z"
    },
    "lines_to_next_cell": 1,
    "papermill": {
     "duration": 0.021913,
     "end_time": "2024-07-14T14:14:22.849494",
     "exception": false,
     "start_time": "2024-07-14T14:14:22.827581",
     "status": "completed"
    },
    "tags": []
   },
   "outputs": [],
   "source": [
    "# Array Elimination\n",
    "def array_elimination(N: int, arr: list[int]) -> list[int]:\n",
    "    \"\"\"\n",
    "    https://codeforces.com/blog/entry/95865\n",
    "    https://www.youtube.com/watch?v=SxV8HL2xH2k\n",
    "\n",
    "    Don't fully understand the workings yet.\n",
    "    Solution:\n",
    "        - Count number of bits for all positions for all elements\n",
    "        - Compute GCD of bit counts in prev step\n",
    "        - For K to be a valid elimation, K % GCD == 0\n",
    "    \"\"\"\n",
    "\n",
    "    # Count the number of bits for each number\n",
    "    bit_counts: list[int] = [0 for i in range(64)]\n",
    "    for n in arr:\n",
    "        pos = 0\n",
    "        while n > 0:\n",
    "            bit_counts[pos], n, pos = bit_counts[pos] + (n & 1), n >> 1, pos + 1\n",
    "\n",
    "    # Compute GCD of all counts\n",
    "    GCD: int = functools.reduce(math.gcd, bit_counts, 0)\n",
    "\n",
    "    # For each i->N, check if i is divisible by GCD\n",
    "    return [i for i in range(1, N + 1) if GCD % i == 0]\n",
    "\n",
    "# Testing the solution\n",
    "assert array_elimination(6, [3,5,3,1,7,1]) == [1]\n",
    "assert array_elimination(4, [4,4,4,4]) == [1,2,4]\n",
    "assert array_elimination(5, [0,0,0,0,0]) == [1,2,3,4,5]"
   ]
  },
  {
   "cell_type": "markdown",
   "id": "8cbcbafc",
   "metadata": {
    "papermill": {
     "duration": 0.015472,
     "end_time": "2024-07-14T14:14:22.880392",
     "exception": false,
     "start_time": "2024-07-14T14:14:22.864920",
     "status": "completed"
    },
    "tags": []
   },
   "source": [
    "LC Weekly: 14th July 2024"
   ]
  },
  {
   "cell_type": "code",
   "execution_count": 95,
   "id": "79f3a164",
   "metadata": {
    "execution": {
     "iopub.execute_input": "2024-07-14T14:14:22.912202Z",
     "iopub.status.busy": "2024-07-14T14:14:22.911763Z",
     "iopub.status.idle": "2024-07-14T14:14:22.915978Z",
     "shell.execute_reply": "2024-07-14T14:14:22.915484Z"
    },
    "lines_to_next_cell": 1,
    "papermill": {
     "duration": 0.021199,
     "end_time": "2024-07-14T14:14:22.917060",
     "exception": false,
     "start_time": "2024-07-14T14:14:22.895861",
     "status": "completed"
    },
    "tags": []
   },
   "outputs": [],
   "source": [
    "# Q1\n",
    "def getSmallestString(s: str) -> str:\n",
    "    N = len(s)\n",
    "    str_list: list[str] = list(s)\n",
    "    for i in range(N - 1):\n",
    "        if int(str_list[i]) % 2 == int(str_list[i + 1]) % 2 and int(str_list[i]) > int(str_list[i + 1]):\n",
    "            str_list[i], str_list[i + 1] = str_list[i + 1], str_list[i]\n",
    "            break\n",
    "    return ''.join(str_list)\n",
    "\n",
    "# Testing the solution\n",
    "assert getSmallestString(\"45320\") == \"43520\"\n",
    "assert getSmallestString(\"001\") == \"001\""
   ]
  },
  {
   "cell_type": "code",
   "execution_count": 96,
   "id": "baa60f53",
   "metadata": {
    "execution": {
     "iopub.execute_input": "2024-07-14T14:14:22.948954Z",
     "iopub.status.busy": "2024-07-14T14:14:22.948612Z",
     "iopub.status.idle": "2024-07-14T14:14:22.953545Z",
     "shell.execute_reply": "2024-07-14T14:14:22.953040Z"
    },
    "lines_to_next_cell": 1,
    "papermill": {
     "duration": 0.021886,
     "end_time": "2024-07-14T14:14:22.954531",
     "exception": false,
     "start_time": "2024-07-14T14:14:22.932645",
     "status": "completed"
    },
    "tags": []
   },
   "outputs": [],
   "source": [
    "# Q2\n",
    "def modifiedList(nums: list[int], head: ListNode) -> ListNode:\n",
    "    nums_set: set[int] = set(nums)\n",
    "    prev, curr = None, head\n",
    "    while curr:\n",
    "        if curr.val in nums_set:\n",
    "            if prev:\n",
    "                prev.next = curr.next\n",
    "            else:\n",
    "                head = head.next\n",
    "            curr = curr.next\n",
    "        else:\n",
    "            prev, curr = curr, curr.next\n",
    "\n",
    "    return head\n",
    "\n",
    "# Testing the solution\n",
    "assert modifiedList([1,2,3], ListNode.to_singly_linked_list([1,2,3,4,5])).to_list() == [4,5]\n",
    "assert modifiedList([1], ListNode.to_singly_linked_list([1,2,1,2,1,2])).to_list() == [2,2,2]\n",
    "assert modifiedList([5], ListNode.to_singly_linked_list([1,2,3,4])).to_list() == [1,2,3,4]\n",
    "assert modifiedList([1], ListNode.to_singly_linked_list([1,1])) is None"
   ]
  },
  {
   "cell_type": "code",
   "execution_count": 97,
   "id": "5d463e94",
   "metadata": {
    "execution": {
     "iopub.execute_input": "2024-07-14T14:14:22.986227Z",
     "iopub.status.busy": "2024-07-14T14:14:22.985911Z",
     "iopub.status.idle": "2024-07-14T14:14:22.990137Z",
     "shell.execute_reply": "2024-07-14T14:14:22.989721Z"
    },
    "lines_to_next_cell": 1,
    "papermill": {
     "duration": 0.021206,
     "end_time": "2024-07-14T14:14:22.991171",
     "exception": false,
     "start_time": "2024-07-14T14:14:22.969965",
     "status": "completed"
    },
    "tags": []
   },
   "outputs": [],
   "source": [
    "# Q3,4\n",
    "def minimumCostCakes(m: int, n: int, horizontalCut: list[int], verticalCut: list[int]) -> int:\n",
    "    cuts: list[tuple[int, str]] = sorted([*map(lambda x: (x, 'H'), horizontalCut), *map(lambda x: (x, 'V'), verticalCut)])\n",
    "    total_cost, rows, cols = 0, 1, 1\n",
    "    while cuts:\n",
    "        cost, direction = cuts.pop()\n",
    "        if direction == 'H':\n",
    "            total_cost, cols = total_cost + (rows * cost), cols + 1\n",
    "        else:\n",
    "            total_cost, rows = total_cost + (cols * cost), rows + 1\n",
    "\n",
    "    return total_cost\n",
    "\n",
    "# Testing the solution\n",
    "assert minimumCostCakes(3, 2, [1,3], [5]) == 13\n",
    "assert minimumCostCakes(2, 2, [7], [4]) == 15"
   ]
  },
  {
   "cell_type": "markdown",
   "id": "3d39bbb8",
   "metadata": {
    "papermill": {
     "duration": 0.015397,
     "end_time": "2024-07-14T14:14:23.022304",
     "exception": false,
     "start_time": "2024-07-14T14:14:23.006907",
     "status": "completed"
    },
    "tags": []
   },
   "source": [
    "Codeforces Practice"
   ]
  },
  {
   "cell_type": "code",
   "execution_count": 98,
   "id": "e0f653bf",
   "metadata": {
    "execution": {
     "iopub.execute_input": "2024-07-14T14:14:23.054183Z",
     "iopub.status.busy": "2024-07-14T14:14:23.053979Z",
     "iopub.status.idle": "2024-07-14T14:14:23.059869Z",
     "shell.execute_reply": "2024-07-14T14:14:23.059432Z"
    },
    "lines_to_next_cell": 1,
    "papermill": {
     "duration": 0.023109,
     "end_time": "2024-07-14T14:14:23.060921",
     "exception": false,
     "start_time": "2024-07-14T14:14:23.037812",
     "status": "completed"
    },
    "tags": []
   },
   "outputs": [],
   "source": [
    "# Powers of Two\n",
    "def powers_of_two(n: int, k: int) -> list[int]:\n",
    "    min_power_sum: list[int] = []\n",
    "    curr = n\n",
    "    while curr:\n",
    "        power = int(math.log2(curr))\n",
    "        sub = 2 ** power\n",
    "        min_power_sum.append(sub)\n",
    "        curr -= sub\n",
    "\n",
    "    if (min_length := len(min_power_sum)) > k or k > n:\n",
    "        return []\n",
    "    else:\n",
    "        freq: collections.defaultdict[int, int] = collections.defaultdict(int)\n",
    "        curr = min_power_sum[0]\n",
    "        while min_power_sum:\n",
    "            freq[min_power_sum.pop()] = 1\n",
    "\n",
    "        for i in range(k - min_length):\n",
    "            freq[curr] -= 1\n",
    "            freq[curr // 2] += 2\n",
    "            if not freq[curr]:\n",
    "                freq.pop(curr)\n",
    "                curr //= 2\n",
    "\n",
    "        result: list[int] = []\n",
    "        for x, v in sorted(freq.items()):\n",
    "            result.extend([x] * v)\n",
    "\n",
    "        return result\n",
    "\n",
    "# Testing the solution\n",
    "for n, freq, exists in [(1000, 8, True), (9, 4, True), (8, 1, True), (5, 1, False)]:\n",
    "    power_of_two_result = powers_of_two(n, freq)\n",
    "    if power_of_two_result:\n",
    "        assert all(map(lambda x: math.log2(x).is_integer(), power_of_two_result)), \"Result contains numbers that are not powers of 2.\"\n",
    "        assert sum(power_of_two_result) == n and len(power_of_two_result) == freq, \"Length / Sum doesn't match expected values.'\"\n",
    "    else:\n",
    "        assert not power_of_two_result"
   ]
  },
  {
   "cell_type": "markdown",
   "id": "c40cf07c",
   "metadata": {
    "papermill": {
     "duration": 0.015528,
     "end_time": "2024-07-14T14:14:23.092102",
     "exception": false,
     "start_time": "2024-07-14T14:14:23.076574",
     "status": "completed"
    },
    "tags": []
   },
   "source": [
    "Codeforces: Stacks, Queues, PQueues"
   ]
  },
  {
   "cell_type": "code",
   "execution_count": 99,
   "id": "28fe2beb",
   "metadata": {
    "execution": {
     "iopub.execute_input": "2024-07-14T14:14:23.124204Z",
     "iopub.status.busy": "2024-07-14T14:14:23.123884Z",
     "iopub.status.idle": "2024-07-14T14:14:23.127472Z",
     "shell.execute_reply": "2024-07-14T14:14:23.126976Z"
    },
    "lines_to_next_cell": 1,
    "papermill": {
     "duration": 0.0209,
     "end_time": "2024-07-14T14:14:23.128591",
     "exception": false,
     "start_time": "2024-07-14T14:14:23.107691",
     "status": "completed"
    },
    "tags": []
   },
   "outputs": [],
   "source": [
    "# Alternating current\n",
    "def untangle_wires(wires: str) -> bool:\n",
    "    stack: list[str] = []\n",
    "    for wire in wires:\n",
    "        if stack and stack[-1] == wire:\n",
    "            stack.pop()\n",
    "        else:\n",
    "            stack.append(wire)\n",
    "\n",
    "    return len(stack) == 0\n",
    "\n",
    "# Testing the solution\n",
    "assert untangle_wires(\"-++-\") == True\n",
    "assert untangle_wires(\"+-\") == False\n",
    "assert untangle_wires(\"++\") == True\n",
    "assert untangle_wires(\"-\") == False"
   ]
  },
  {
   "cell_type": "code",
   "execution_count": 100,
   "id": "602237bf",
   "metadata": {
    "execution": {
     "iopub.execute_input": "2024-07-14T14:14:23.160744Z",
     "iopub.status.busy": "2024-07-14T14:14:23.160359Z",
     "iopub.status.idle": "2024-07-14T14:14:23.164765Z",
     "shell.execute_reply": "2024-07-14T14:14:23.164296Z"
    },
    "lines_to_next_cell": 1,
    "papermill": {
     "duration": 0.021574,
     "end_time": "2024-07-14T14:14:23.165777",
     "exception": false,
     "start_time": "2024-07-14T14:14:23.144203",
     "status": "completed"
    },
    "tags": []
   },
   "outputs": [],
   "source": [
    "# CD & PWD Commands\n",
    "def linux_change_directory(commands: list[str]) -> list[str]:\n",
    "    results: list[str] = []\n",
    "\n",
    "    pwd_: list[str] = []\n",
    "    for command in commands:\n",
    "        if not command:\n",
    "            results.append(\"/\" + \"/\".join(pwd_) + (\"/\" if pwd_ else \"\"))\n",
    "        else:\n",
    "            if command[0] == \"/\":\n",
    "                pwd_.clear()\n",
    "            for folder in command.split(\"/\"):\n",
    "                if not folder:\n",
    "                    continue\n",
    "                elif folder == \"..\":\n",
    "                    pwd_.pop()\n",
    "                else:\n",
    "                    pwd_.append(folder)\n",
    "\n",
    "    return results\n",
    "\n",
    "# Testing the solution\n",
    "assert linux_change_directory([\"\", \"/home/vasya\", \"\", \"..\", \"\", \"vasya/../petya\", \"\"]) == ['/', '/home/vasya/', '/home/', '/home/petya/']\n",
    "assert linux_change_directory([\"/a/b\", \"\", \"../a/b\", \"\"]) == [\"/a/b/\", \"/a/a/b/\"]"
   ]
  },
  {
   "cell_type": "code",
   "execution_count": 101,
   "id": "2d23a22a",
   "metadata": {
    "execution": {
     "iopub.execute_input": "2024-07-14T14:14:23.197976Z",
     "iopub.status.busy": "2024-07-14T14:14:23.197660Z",
     "iopub.status.idle": "2024-07-14T14:14:23.203577Z",
     "shell.execute_reply": "2024-07-14T14:14:23.202948Z"
    },
    "lines_to_next_cell": 1,
    "papermill": {
     "duration": 0.023137,
     "end_time": "2024-07-14T14:14:23.204650",
     "exception": false,
     "start_time": "2024-07-14T14:14:23.181513",
     "status": "completed"
    },
    "tags": []
   },
   "outputs": [],
   "source": [
    "# Longest Regular Bracket Sequence\n",
    "def longestBracketSequence(sequence: str) -> tuple[int, int]:\n",
    "    # Compute valid sequence intervals\n",
    "    stack: list[int] = []\n",
    "    valid_sequences: list[tuple[int, int]] = []\n",
    "    for end in range(len(sequence)):\n",
    "        if sequence[end] == \"(\":\n",
    "            stack.append(end)\n",
    "        elif sequence[end] == \")\" and stack and sequence[stack[-1]] == \"(\":\n",
    "            start = stack.pop()\n",
    "            valid_sequences.append((start, end))\n",
    "\n",
    "    # Merge intervals\n",
    "    valid_sequences.sort(key=lambda x: x[1])\n",
    "    merged_intervals: list[tuple[int, int]] = []\n",
    "    for start, end in valid_sequences:\n",
    "        while merged_intervals and start - 1 <= merged_intervals[-1][1]:\n",
    "            prev_start, prev_end = merged_intervals.pop()\n",
    "            start, end = min(prev_start, start), max(prev_end, end)\n",
    "        merged_intervals.append((start, end))\n",
    "\n",
    "    # Compute longest seq, freq\n",
    "    longest, freq = 0, 0\n",
    "    for start, end in merged_intervals:\n",
    "        length = end - start + 1\n",
    "        if length == longest:\n",
    "            freq += 1\n",
    "        elif length > longest:\n",
    "            longest, freq = length, 1\n",
    "\n",
    "    return longest, (freq if longest > 0 else 1)\n",
    "\n",
    "# Testing the solution\n",
    "assert longestBracketSequence(\")((())))(()())\") == (6, 2)\n",
    "assert longestBracketSequence(\"))(\") == (0, 1)\n",
    "assert longestBracketSequence(\"()((()(()(())()()())((()(())()(()()()()))()(())()(((()())()(()((())()(())(()))\") == (28, 1)"
   ]
  },
  {
   "cell_type": "code",
   "execution_count": 102,
   "id": "9fa1df09",
   "metadata": {
    "execution": {
     "iopub.execute_input": "2024-07-14T14:14:23.236942Z",
     "iopub.status.busy": "2024-07-14T14:14:23.236479Z",
     "iopub.status.idle": "2024-07-14T14:14:23.240566Z",
     "shell.execute_reply": "2024-07-14T14:14:23.240067Z"
    },
    "papermill": {
     "duration": 0.021275,
     "end_time": "2024-07-14T14:14:23.241572",
     "exception": false,
     "start_time": "2024-07-14T14:14:23.220297",
     "status": "completed"
    },
    "tags": []
   },
   "outputs": [],
   "source": [
    "# Great Vova Wall\n",
    "def vovaWall1(N: int, arr: list[int]) -> bool:\n",
    "    \"\"\"\n",
    "    Instead of trying to construct the wall, check if we can raze it to the\n",
    "    ground by removing bricks per the rules.\n",
    "    \"\"\"\n",
    "\n",
    "    # Remove all 1 x 2 bricks\n",
    "    for i in range(N):\n",
    "        arr[i] %= 2\n",
    "\n",
    "    # Remove all 2 x 1 bricks\n",
    "    stack: list[int] = []\n",
    "    for n in arr:\n",
    "        if stack and stack[-1] == n:\n",
    "            stack.pop()\n",
    "        else:\n",
    "            stack.append(n)\n",
    "\n",
    "    return len(stack) <= 1\n",
    "\n",
    "# Testing the solution\n",
    "assert vovaWall1(5, [2,1,1,2,5]) == True\n",
    "assert vovaWall1(3, [4,5,3]) == True\n",
    "assert vovaWall1(2, [10,10]) == True\n",
    "assert vovaWall1(3, [1,2,3]) == False"
   ]
  }
 ],
 "metadata": {
  "kernelspec": {
   "display_name": "Python 3 (ipykernel)",
   "language": "python",
   "name": "python3"
  },
  "language_info": {
   "codemirror_mode": {
    "name": "ipython",
    "version": 3
   },
   "file_extension": ".py",
   "mimetype": "text/x-python",
   "name": "python",
   "nbconvert_exporter": "python",
   "pygments_lexer": "ipython3",
   "version": "3.11.9"
  },
  "papermill": {
   "default_parameters": {},
   "duration": 6.571875,
   "end_time": "2024-07-14T14:14:23.472692",
   "environment_variables": {},
   "exception": null,
   "input_path": "practice/005.ipynb",
   "output_path": "practice/005.ipynb",
   "parameters": {},
   "start_time": "2024-07-14T14:14:16.900817",
   "version": "2.6.0"
  }
 },
 "nbformat": 4,
 "nbformat_minor": 5
}