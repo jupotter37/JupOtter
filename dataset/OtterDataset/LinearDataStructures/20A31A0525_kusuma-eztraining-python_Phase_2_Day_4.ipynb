{
  "nbformat": 4,
  "nbformat_minor": 0,
  "metadata": {
    "colab": {
      "provenance": [],
      "authorship_tag": "ABX9TyMvq9416bz4SPVnHQOMqANu",
      "include_colab_link": true
    },
    "kernelspec": {
      "name": "python3",
      "display_name": "Python 3"
    },
    "language_info": {
      "name": "python"
    }
  },
  "cells": [
    {
      "cell_type": "markdown",
      "metadata": {
        "id": "view-in-github",
        "colab_type": "text"
      },
      "source": [
        "<a href=\"https://colab.research.google.com/github/20A31A0525/kusuma-eztraining-python/blob/main/Phase_2_Day_4.ipynb\" target=\"_parent\"><img src=\"https://colab.research.google.com/assets/colab-badge.svg\" alt=\"Open In Colab\"/></a>"
      ]
    },
    {
      "cell_type": "markdown",
      "source": [
        "**Stack implementation using arrays and list**"
      ],
      "metadata": {
        "id": "ipaJpC3EPpoH"
      }
    },
    {
      "cell_type": "code",
      "execution_count": null,
      "metadata": {
        "colab": {
          "base_uri": "https://localhost:8080/"
        },
        "id": "RiNvu-nSLUlk",
        "outputId": "95bacf8d-21af-44be-ca59-972f948a6d94"
      },
      "outputs": [
        {
          "name": "stdout",
          "output_type": "stream",
          "text": [
            "Choose the below operations to perform on the stack:\n",
            "1.push\n",
            "2.pop\n",
            "3.quit\n",
            "1\n",
            "enter the element u want to push\n",
            "20\n",
            "[20]\n",
            "Choose the below operations to perform on the stack:\n",
            "1.push\n",
            "2.pop\n",
            "3.quit\n",
            "1\n",
            "enter the element u want to push\n",
            "30\n",
            "[20, 30]\n",
            "Choose the below operations to perform on the stack:\n",
            "1.push\n",
            "2.pop\n",
            "3.quit\n",
            "1\n",
            "enter the element u want to push\n",
            "45\n",
            "[20, 30, 45]\n",
            "Choose the below operations to perform on the stack:\n",
            "1.push\n",
            "2.pop\n",
            "3.quit\n",
            "2\n",
            "After the pop operation the stack is:\n",
            "[20, 30]\n",
            "Choose the below operations to perform on the stack:\n",
            "1.push\n",
            "2.pop\n",
            "3.quit\n",
            "3\n"
          ]
        }
      ],
      "source": [
        "l=[]\n",
        "def push():\n",
        "  print(\"enter the element u want to push\")\n",
        "  l.append(int(input()))\n",
        "  print(l)\n",
        "def pop():\n",
        "  l.pop()\n",
        "  print(\"After the pop operation the stack is:\")\n",
        "  print(l)\n",
        "while True:\n",
        "  print(\"Choose the below operations to perform on the stack:\")\n",
        "  print(\"1.push\\n2.pop\\n3.quit\")\n",
        "  choice=int(input())\n",
        "  if choice==1:\n",
        "    push()\n",
        "  elif choice==2:\n",
        "    pop()\n",
        "  elif choice==3:\n",
        "    break\n",
        "  else:\n",
        "    print(\"enter valid number\")"
      ]
    },
    {
      "cell_type": "code",
      "source": [
        "1"
      ],
      "metadata": {
        "id": "9LCIwgS8R4Vy"
      },
      "execution_count": null,
      "outputs": []
    },
    {
      "cell_type": "markdown",
      "source": [
        "**Linked list using stack operations **"
      ],
      "metadata": {
        "id": "R3UQ6eAzXZKY"
      }
    },
    {
      "cell_type": "code",
      "source": [
        "class Node:\n",
        "  def __init__(self,data):\n",
        "    self.data=data\n",
        "    self.next=None\n",
        "class linkedlist:\n",
        "  def __init__(self):\n",
        "    self.head=None\n",
        "  def isempty(self):\n",
        "    if self.head==None:\n",
        "      return True\n",
        "    else:\n",
        "      return False\n",
        "  def push(self,data):\n",
        "    new_node=Node(data)\n",
        "    if self.head==None:\n",
        "      self.head=new_node\n",
        "    else:\n",
        "      new_node=Node(data)\n",
        "      new_node.next=self.head\n",
        "      self.head=new_node\n",
        "  def pop(self):\n",
        "    if self.isempty():\n",
        "      return None\n",
        "    else:\n",
        "      popnode=self.head\n",
        "      self.head=self.head.next\n",
        "      popnode.next=None\n",
        "      return popnode.data\n",
        "  def peek(self):\n",
        "    if self.isempty():\n",
        "      return None\n",
        "    else:\n",
        "      return self.head.data\n",
        "  def display(self):\n",
        "    if self.isempty():\n",
        "      print(\"list is empty\")\n",
        "    else:\n",
        "      temp=self.head\n",
        "      while(temp):\n",
        "        print(temp.data,end=\"\")\n",
        "        temp=temp.next\n",
        "        if temp!=None:\n",
        "          print(\"->\",end=\"\")\n",
        "if __name__=='__main__':\n",
        "  s=linkedlist()\n",
        "  s.push(10)\n",
        "  s.push(20)\n",
        "  s.push(30)\n",
        "  s.push(40)\n",
        "  s.push(50)\n",
        "  s.display()\n",
        "  s.pop()\n",
        "  print()\n",
        "  s.display()\n",
        "  print()\n",
        "  print(s.isempty())\n",
        "\n",
        "      \n",
        "\n",
        "    \n",
        "\n"
      ],
      "metadata": {
        "colab": {
          "base_uri": "https://localhost:8080/"
        },
        "id": "FeC8AHmBXdrW",
        "outputId": "77bbfa52-2f83-4be6-9bb3-918037da2aca"
      },
      "execution_count": null,
      "outputs": [
        {
          "output_type": "stream",
          "name": "stdout",
          "text": [
            "50->40->30->20->10\n",
            "40->30->20->10\n",
            "False\n"
          ]
        }
      ]
    },
    {
      "cell_type": "markdown",
      "source": [
        "**Checing parthensis using stack**"
      ],
      "metadata": {
        "id": "E7EpIvv7kOLI"
      }
    },
    {
      "cell_type": "code",
      "source": [
        "s=input()\n",
        "l=[]\n",
        "balanced=True\n",
        "for char in s:\n",
        "  if char in '([{':\n",
        "    l.append(char)\n",
        "  else:\n",
        "    if char==')':\n",
        "      if len(l) and l.pop()!='(':\n",
        "        balanced=False\n",
        "    elif char==']':\n",
        "      if len(l) and l.pop()!='[':\n",
        "        balanced=False\n",
        "    elif char=='}':\n",
        "      if len(l) and l.pop()!='{':\n",
        "        balanced=False\n",
        "if balanced==False or len(l):\n",
        "  print('Not Balanced')\n",
        "else:\n",
        "  print('Balanced')"
      ],
      "metadata": {
        "colab": {
          "base_uri": "https://localhost:8080/"
        },
        "id": "-f3LB038XhMz",
        "outputId": "a13feebb-91db-4639-fde0-f8d212ab65c6"
      },
      "execution_count": null,
      "outputs": [
        {
          "output_type": "stream",
          "name": "stdout",
          "text": [
            "[[[]]\n",
            "Not Balanced\n"
          ]
        }
      ]
    },
    {
      "cell_type": "markdown",
      "source": [
        "**Queue operations**"
      ],
      "metadata": {
        "id": "beFOHJI9rd-a"
      }
    },
    {
      "cell_type": "code",
      "source": [
        "q=[]\n",
        "def enqueue():\n",
        "  print(\"enter an element:\")\n",
        "  q.append(int(input()))\n",
        "def dequeue():\n",
        "  if not q:\n",
        "    print(\"queue is empty\")\n",
        "  else:\n",
        "    e=q.pop(0)\n",
        "    print(\"removed element is\",e)\n",
        "def show():\n",
        "  print(*q)\n",
        "while(True):\n",
        "  print(\"enter any number below to perform queue operations\")\n",
        "  print(\"1.enqueue\\n2.dequeue\\n3.show\\n4.quit\")\n",
        "  n=int(input())\n",
        "  if n==1:\n",
        "    enqueue()\n",
        "  elif n==2:\n",
        "    dequeue()\n",
        "  elif n==3:\n",
        "    show()\n",
        "  elif n==4:\n",
        "    break\n",
        "  else:\n",
        "    print(\"enter a valid number:\")"
      ],
      "metadata": {
        "colab": {
          "base_uri": "https://localhost:8080/"
        },
        "id": "H0lS2aNslZMM",
        "outputId": "11ed34ed-a5fb-4892-9f4e-dacd09bb7950"
      },
      "execution_count": null,
      "outputs": [
        {
          "name": "stdout",
          "output_type": "stream",
          "text": [
            "enter any number below to perform queue operations\n",
            "1.enqueue\n",
            "2.dequeue\n",
            "3.show\n",
            "4.quit\n",
            "1\n",
            "enter an element:\n",
            "10\n",
            "enter any number below to perform queue operations\n",
            "1.enqueue\n",
            "2.dequeue\n",
            "3.show\n",
            "4.quit\n",
            "1\n",
            "enter an element:\n",
            "20\n",
            "enter any number below to perform queue operations\n",
            "1.enqueue\n",
            "2.dequeue\n",
            "3.show\n",
            "4.quit\n",
            "1\n",
            "enter an element:\n",
            "30\n",
            "enter any number below to perform queue operations\n",
            "1.enqueue\n",
            "2.dequeue\n",
            "3.show\n",
            "4.quit\n",
            "3\n",
            "10 20 30\n",
            "enter any number below to perform queue operations\n",
            "1.enqueue\n",
            "2.dequeue\n",
            "3.show\n",
            "4.quit\n",
            "2\n",
            "removed element is 10\n",
            "enter any number below to perform queue operations\n",
            "1.enqueue\n",
            "2.dequeue\n",
            "3.show\n",
            "4.quit\n",
            "3\n",
            "20 30\n",
            "enter any number below to perform queue operations\n",
            "1.enqueue\n",
            "2.dequeue\n",
            "3.show\n",
            "4.quit\n",
            "4\n"
          ]
        }
      ]
    },
    {
      "cell_type": "markdown",
      "source": [
        "**implementing the stack using queue module**"
      ],
      "metadata": {
        "id": "9-MOH4p_BRaW"
      }
    },
    {
      "cell_type": "code",
      "source": [
        "from queue import LifoQueue\n",
        "s=LifoQueue(maxsize=3)\n",
        "print(s.qsize())\n",
        "s.put('a')\n",
        "s.put('b')\n",
        "s.put('c')\n",
        "print(s.full())\n",
        "print(s.qsize())\n",
        "print(s.get())\n",
        "print(s.get())\n",
        "print(s.get())\n"
      ],
      "metadata": {
        "id": "JDVzQ5v0slT5",
        "colab": {
          "base_uri": "https://localhost:8080/"
        },
        "outputId": "4d635f51-d615-46b2-f4ed-7767b124a159"
      },
      "execution_count": null,
      "outputs": [
        {
          "output_type": "stream",
          "name": "stdout",
          "text": [
            "0\n",
            "True\n",
            "3\n",
            "c\n",
            "b\n",
            "a\n"
          ]
        }
      ]
    },
    {
      "cell_type": "markdown",
      "source": [
        "Implementing queue using queue module"
      ],
      "metadata": {
        "id": "iIy8jTH5Dc1U"
      }
    },
    {
      "cell_type": "code",
      "source": [
        "import queue\n",
        "l=queue.Queue(maxsize=3)\n",
        "l.put(10)\n",
        "l.put(20)\n",
        "print(l.get())\n",
        "print(l.get())"
      ],
      "metadata": {
        "id": "4j1Jj-cuByXE",
        "colab": {
          "base_uri": "https://localhost:8080/"
        },
        "outputId": "784f383e-e619-42c4-9c38-54dfe77540e6"
      },
      "execution_count": null,
      "outputs": [
        {
          "output_type": "stream",
          "name": "stdout",
          "text": [
            "10\n",
            "20\n"
          ]
        }
      ]
    },
    {
      "cell_type": "markdown",
      "source": [
        "implementing queue using linked list"
      ],
      "metadata": {
        "id": "IYCPu5XEGooZ"
      }
    },
    {
      "cell_type": "code",
      "source": [
        "class Node:\n",
        "  def __init__(self,data):\n",
        "    self.data=data\n",
        "class "
      ],
      "metadata": {
        "id": "WaDfehQdDt1F"
      },
      "execution_count": null,
      "outputs": []
    },
    {
      "cell_type": "markdown",
      "source": [
        "**Program to remove duplicates in a linked list**"
      ],
      "metadata": {
        "id": "9k0pUREdbAGp"
      }
    },
    {
      "cell_type": "code",
      "source": [
        "class Node:\n",
        "  def __init__(self,data):\n",
        "    self.data=data\n",
        "    self.next=None\n",
        "class linkedlist():\n",
        "  def __init__(self):\n",
        "    self.head=None\n",
        "    self.last_node=None\n",
        "  def append(self,data):\n",
        "    new_node=Node(data)\n",
        "    if self.last_node is None:\n",
        "      self.head=Node(data)\n",
        "      self.last_node=self.head\n",
        "  def get_prev_node(self,ref_node):\n",
        "    current=self.head\n",
        "    while(current and current.next!=ref_node):\n",
        "      current=current.next\n",
        "    return current\n",
        "  def remove(self,node):\n",
        "    prev_node=self.get_prev_node(node)\n",
        "    if prev_node is None:\n",
        "      self.head=self.head.next\n",
        "    else:\n",
        "      prev_node.next=node.next\n",
        "  def display(self):\n",
        "    current=self.head\n",
        "    while current:\n",
        "      print(current.data,end=\" \")\n",
        "      current=current.next\n",
        "  def remove_dplicates(llist):\n",
        "    current1=llist.head\n",
        "    while(current1):\n",
        "      data=current1.data\n",
        "      current2=current1.next\n",
        "      while current2:\n",
        "        if current2.data==data:\n",
        "          llist.remove(current2)\n",
        "        current2=current2.next\n",
        "    current1=current1.next\n",
        "a_list=linkedlist()\n",
        "data_list=input(\"Please enter the elements in the list\")\n",
        "for data in data_list:\n",
        "  a_list.append(int(data))\n",
        "remove_duplicates(a_list)\n",
        "print(\"the list with duplicates removed:\")\n",
        "a_list.display()\n",
        "\n",
        "\n"
      ],
      "metadata": {
        "id": "LcPZa_YVbGNs"
      },
      "execution_count": null,
      "outputs": []
    },
    {
      "cell_type": "code",
      "source": [],
      "metadata": {
        "id": "98q-rI6rhN80"
      },
      "execution_count": null,
      "outputs": []
    }
  ]
}