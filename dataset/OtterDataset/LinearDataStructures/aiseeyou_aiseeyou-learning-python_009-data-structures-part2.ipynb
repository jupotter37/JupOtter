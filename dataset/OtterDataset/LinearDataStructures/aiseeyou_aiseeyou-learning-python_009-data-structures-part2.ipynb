{
 "cells": [
  {
   "cell_type": "markdown",
   "id": "c35318069bde6413",
   "metadata": {},
   "source": [
    "# Python Data Structures - Part 2\n",
    "\n",
    "<center><img height=\"400\" src=\"image/pythondatastructuresmin.png\" width=\"700\"/></center>\n",
    "\n",
    "Struktur Data adalah cara mengatur data sehingga dapat diakses dengan lebih efisien tergantung pada situasinya. Struktur Data adalah dasar dari bahasa pemrograman apa pun yang digunakan untuk membuat program.\n"
   ]
  },
  {
   "cell_type": "markdown",
   "id": "9fb4697d6a991a02",
   "metadata": {},
   "source": [
    "# Collections Module"
   ]
  },
  {
   "cell_type": "markdown",
   "id": "82d2b18cf00c40ba",
   "metadata": {},
   "source": [
    "## 5. Counter\n",
    "\n",
    "A counter is a sub-class of the dictionary. It is used to keep the count of the elements in an iterable in the form of an unordered dictionary where the key represents the element in the iterable and value represents the count of that element in the iterable. This is equivalent to a bag or multiset of other languages.\n"
   ]
  },
  {
   "cell_type": "code",
   "id": "e11996d862390c4b",
   "metadata": {
    "ExecuteTime": {
     "end_time": "2024-06-25T07:09:52.333582Z",
     "start_time": "2024-06-25T07:09:52.315607Z"
    }
   },
   "source": [
    "from collections import Counter\n",
    "   \n",
    "# With sequence of items \n",
    "print(Counter(['B','B','A','B','C','A','B','B','A','C']))\n",
    "   \n",
    "# with dictionary\n",
    "count = Counter({'A':3, 'B':5, 'C':2})\n",
    "print(count)\n",
    " \n",
    "count.update(['A', 1])\n",
    "print(count)"
   ],
   "outputs": [
    {
     "name": "stdout",
     "output_type": "stream",
     "text": [
      "Counter({'B': 5, 'A': 3, 'C': 2})\n",
      "Counter({'B': 5, 'A': 3, 'C': 2})\n",
      "Counter({'B': 5, 'A': 4, 'C': 2, 1: 1})\n"
     ]
    }
   ],
   "execution_count": 1
  },
  {
   "metadata": {
    "ExecuteTime": {
     "end_time": "2024-06-25T07:11:37.989717Z",
     "start_time": "2024-06-25T07:11:37.967416Z"
    }
   },
   "cell_type": "code",
   "source": [
    "count2 = Counter({'D':3, 'E':5, 'F':2})\n",
    "count2"
   ],
   "id": "f74270cf5028bffb",
   "outputs": [
    {
     "data": {
      "text/plain": [
       "Counter({'E': 5, 'D': 3, 'F': 2})"
      ]
     },
     "execution_count": 2,
     "metadata": {},
     "output_type": "execute_result"
    }
   ],
   "execution_count": 2
  },
  {
   "metadata": {
    "ExecuteTime": {
     "end_time": "2024-06-25T07:12:01.938889Z",
     "start_time": "2024-06-25T07:12:01.931358Z"
    }
   },
   "cell_type": "code",
   "source": [
    "count2.update(['D', 1])\n",
    "print(count2)"
   ],
   "id": "5f86aae79ce15b8c",
   "outputs": [
    {
     "name": "stdout",
     "output_type": "stream",
     "text": [
      "Counter({'E': 5, 'D': 4, 'F': 2, 1: 1})\n"
     ]
    }
   ],
   "execution_count": 3
  },
  {
   "metadata": {
    "ExecuteTime": {
     "end_time": "2024-06-25T07:13:26.914251Z",
     "start_time": "2024-06-25T07:13:26.907364Z"
    }
   },
   "cell_type": "code",
   "source": [
    "for a in count2.elements():\n",
    "\tprint(a)"
   ],
   "id": "ee53b2eac81fc6c8",
   "outputs": [
    {
     "name": "stdout",
     "output_type": "stream",
     "text": [
      "D\n",
      "D\n",
      "D\n",
      "D\n",
      "E\n",
      "E\n",
      "E\n",
      "E\n",
      "E\n",
      "F\n",
      "F\n",
      "1\n"
     ]
    }
   ],
   "execution_count": 5
  },
  {
   "cell_type": "markdown",
   "id": "628fb784691b5453",
   "metadata": {},
   "source": [
    "## 6. OrderedDict\n",
    "\n",
    "An OrderedDict is also a sub-class of dictionary but unlike a dictionary, it remembers the order in which the keys were inserted. "
   ]
  },
  {
   "cell_type": "code",
   "id": "481594294e3d7886",
   "metadata": {
    "ExecuteTime": {
     "end_time": "2024-06-25T07:14:28.088105Z",
     "start_time": "2024-06-25T07:14:28.074746Z"
    }
   },
   "source": [
    "from collections import OrderedDict\n",
    " \n",
    "print(\"Before deleting:\\n\")\n",
    "od = OrderedDict()\n",
    "od['a'] = 1\n",
    "od['b'] = 2\n",
    "od['c'] = 3\n",
    "od['d'] = 4\n",
    " \n",
    "for key, value in od.items():\n",
    "    print(key, value)\n",
    " \n",
    "print(\"\\nAfter deleting:\\n\")\n",
    "od.pop('c')\n",
    "for key, value in od.items():\n",
    "    print(key, value)\n",
    " \n",
    "print(\"\\nAfter re-inserting:\\n\")\n",
    "od['c'] = 3\n",
    "for key, value in od.items():\n",
    "    print(key, value)"
   ],
   "outputs": [
    {
     "name": "stdout",
     "output_type": "stream",
     "text": [
      "Before deleting:\n",
      "\n",
      "a 1\n",
      "b 2\n",
      "c 3\n",
      "d 4\n",
      "\n",
      "After deleting:\n",
      "\n",
      "a 1\n",
      "b 2\n",
      "d 4\n",
      "\n",
      "After re-inserting:\n",
      "\n",
      "a 1\n",
      "b 2\n",
      "d 4\n",
      "c 3\n"
     ]
    }
   ],
   "execution_count": 6
  },
  {
   "cell_type": "markdown",
   "id": "f1a0616417017f8e",
   "metadata": {},
   "source": [
    "## 7. DefaultDict\n",
    "\n",
    "DefaultDict is used to provide some default values for the key that does not exist and never raises a KeyError. Its objects can be initialized using DefaultDict() method by passing the data type as an argument.\n",
    "\n",
    "Note: default_factory is a function that provides the default value for the dictionary created. If this parameter is absent then the KeyError is raised."
   ]
  },
  {
   "cell_type": "code",
   "id": "c97516501cf1658d",
   "metadata": {
    "ExecuteTime": {
     "end_time": "2024-06-25T07:16:51.997930Z",
     "start_time": "2024-06-25T07:16:51.990841Z"
    }
   },
   "source": [
    "from collections import defaultdict\n",
    "     \n",
    " \n",
    "# Defining the dict\n",
    "d = defaultdict(int)\n",
    "     \n",
    "L = [1, 2, 3, 4, 2, 4, 1, 2]\n",
    "     \n",
    "# Iterate through the list\n",
    "# for keeping the count\n",
    "for i in L:\n",
    "         \n",
    "    # The default value is 0\n",
    "    # so there is no need to\n",
    "    # enter the key first\n",
    "    d[i] += 1\n",
    "         \n",
    "print(d)"
   ],
   "outputs": [
    {
     "name": "stdout",
     "output_type": "stream",
     "text": [
      "defaultdict(<class 'int'>, {1: 2, 2: 3, 3: 1, 4: 2})\n"
     ]
    }
   ],
   "execution_count": 8
  },
  {
   "metadata": {
    "ExecuteTime": {
     "end_time": "2024-06-25T07:17:38.970713Z",
     "start_time": "2024-06-25T07:17:38.959258Z"
    }
   },
   "cell_type": "code",
   "source": [
    "d_ex = defaultdict()\n",
    "d_ex['a']=1\n",
    "d_ex['b']=[]\n",
    "d_ex['b'].append(2)\n",
    "d_ex['b'].append(3)\n",
    "print(dict(d_ex))"
   ],
   "id": "f1e45f50fafaa711",
   "outputs": [
    {
     "name": "stdout",
     "output_type": "stream",
     "text": [
      "{'a': 1, 'b': [2, 3]}\n"
     ]
    }
   ],
   "execution_count": 13
  },
  {
   "metadata": {
    "ExecuteTime": {
     "end_time": "2024-06-25T07:18:31.879670Z",
     "start_time": "2024-06-25T07:18:31.864568Z"
    }
   },
   "cell_type": "code",
   "source": [
    "dictreal = {}\n",
    "dictreal['a']= []\n",
    "dictreal['b']=[]\n",
    "print(dictreal)\n",
    "dictreal['a'].append(5)\n",
    "print(dictreal)"
   ],
   "id": "a84c9a3802ddf52",
   "outputs": [
    {
     "name": "stdout",
     "output_type": "stream",
     "text": [
      "{'a': [], 'b': []}\n",
      "{'a': [5], 'b': []}\n"
     ]
    }
   ],
   "execution_count": 15
  },
  {
   "cell_type": "markdown",
   "id": "2326cd3de9df70fd",
   "metadata": {},
   "source": [
    "## 8. ChainMap\n",
    "\n",
    "A ChainMap encapsulates many dictionaries into a single unit and returns a list of dictionaries. When a key is needed to be found then all the dictionaries are searched one by one until the key is found."
   ]
  },
  {
   "cell_type": "code",
   "id": "cf20802aec497312",
   "metadata": {
    "ExecuteTime": {
     "end_time": "2024-06-25T07:20:52.104280Z",
     "start_time": "2024-06-25T07:20:52.089727Z"
    }
   },
   "source": [
    "from collections import ChainMap\n",
    "     \n",
    "     \n",
    "d1 = {'a': 1, 'b': 2}\n",
    "d2 = {'c': 3, 'd': 4}\n",
    "d3 = {'e': 5, 'f': 6}\n",
    "     \n",
    "# Defining the chainmap\n",
    "c = ChainMap(d1, d2, d3)\n",
    "print(c)\n",
    " \n",
    "print(c['a'])\n",
    "print(c['f'])"
   ],
   "outputs": [
    {
     "name": "stdout",
     "output_type": "stream",
     "text": [
      "ChainMap({'a': 1, 'b': 2}, {'c': 3, 'd': 4}, {'e': 5, 'f': 6})\n",
      "1\n",
      "6\n"
     ]
    }
   ],
   "execution_count": 17
  },
  {
   "cell_type": "markdown",
   "id": "23e97d7a954b62e4",
   "metadata": {},
   "source": [
    "## 9. NamedTuple\n",
    "\n",
    "A NamedTuple returns a tuple object with names for each position which the ordinary tuples lack. For example, consider a tuple names student where the first element represents fname, second represents lname and the third element represents the DOB. Suppose for calling fname instead of remembering the index position you can actually call the element by using the fname argument, then it will be really easy for accessing tuples element. This functionality is provided by the NamedTuple."
   ]
  },
  {
   "cell_type": "code",
   "id": "485729b40900bd02",
   "metadata": {
    "ExecuteTime": {
     "end_time": "2024-06-25T07:21:49.337054Z",
     "start_time": "2024-06-25T07:21:49.327739Z"
    }
   },
   "source": [
    "from collections import namedtuple\n",
    "     \n",
    "# Declaring namedtuple()\n",
    "Student = namedtuple('Student',['name','age','DOB'])\n",
    "     \n",
    "# Adding values\n",
    "S = Student('Nandini','19','2541997')\n",
    "     \n",
    "# Access using index\n",
    "print (\"The Student age using index is : \",end =\"\")\n",
    "print (S[1])\n",
    "     \n",
    "# Access using name\n",
    "print (\"The Student name using keyname is : \",end =\"\")\n",
    "print (S.name)"
   ],
   "outputs": [
    {
     "name": "stdout",
     "output_type": "stream",
     "text": [
      "The Student age using index is : 19\n",
      "The Student name using keyname is : Nandini\n"
     ]
    }
   ],
   "execution_count": 18
  },
  {
   "metadata": {
    "ExecuteTime": {
     "end_time": "2024-06-25T07:25:25.775562Z",
     "start_time": "2024-06-25T07:25:25.764533Z"
    }
   },
   "cell_type": "code",
   "source": "print(S[0])",
   "id": "3049f31dae857c16",
   "outputs": [
    {
     "name": "stdout",
     "output_type": "stream",
     "text": [
      "Nandini\n"
     ]
    }
   ],
   "execution_count": 22
  },
  {
   "cell_type": "markdown",
   "id": "4c351b025cb42b4d",
   "metadata": {},
   "source": [
    "## 10. Deque\n",
    "Deque (Doubly Ended Queue) is the optimized list for quicker append and pop operations from both sides of the container. It provides O(1) time complexity for append and pop operations as compared to the list with O(n) time complexity.\n",
    "\n",
    "Python Deque is implemented using doubly linked lists therefore the performance for randomly accessing the elements is O(n)."
   ]
  },
  {
   "cell_type": "code",
   "id": "462c4e85abace6e2",
   "metadata": {
    "ExecuteTime": {
     "end_time": "2024-06-25T07:28:57.548384Z",
     "start_time": "2024-06-25T07:28:57.537959Z"
    }
   },
   "source": [
    "# importing \"collections\" for deque operations\n",
    "import collections\n",
    "\n",
    "# initializing deque\n",
    "de = collections.deque([1,2,3])\n",
    "\n",
    "# using append() to insert element at right end\n",
    "# inserts 4 at the end of deque\n",
    "de.append(4)\n",
    "\n",
    "# printing modified deque\n",
    "print(\"The deque after appending at right is : \")\n",
    "print(de)\n",
    "\n",
    "# using appendleft() to insert element at left end\n",
    "# inserts 6 at the beginning of deque\n",
    "de.appendleft(6)\n",
    "\n",
    "# printing modified deque\n",
    "print(\"The deque after appending at left is : \")\n",
    "print(de)\n",
    "\n",
    "# using pop() to delete element from right end\n",
    "# deletes 4 from the right end of deque\n",
    "de.pop()\n",
    "\n",
    "# printing modified deque\n",
    "print(\"The deque after deleting from right is : \")\n",
    "print(de)\n",
    "\n",
    "# using popleft() to delete element from left end\n",
    "# deletes 6 from the left end of deque\n",
    "de.popleft()\n",
    "\n",
    "# printing modified deque\n",
    "print(\"The deque after deleting from left is : \")\n",
    "print(de)\n"
   ],
   "outputs": [
    {
     "name": "stdout",
     "output_type": "stream",
     "text": [
      "The deque after appending at right is : \n",
      "deque([1, 2, 3, 4])\n",
      "The deque after appending at left is : \n",
      "deque([6, 1, 2, 3, 4])\n",
      "The deque after deleting from right is : \n",
      "deque([6, 1, 2, 3])\n",
      "The deque after deleting from left is : \n",
      "deque([1, 2, 3])\n"
     ]
    }
   ],
   "execution_count": 23
  },
  {
   "metadata": {},
   "cell_type": "code",
   "outputs": [],
   "execution_count": null,
   "source": "",
   "id": "583a1810b6813191"
  },
  {
   "cell_type": "markdown",
   "id": "980fbd214eb28aa0",
   "metadata": {},
   "source": [
    "## 11.UserDict\n",
    "\n",
    "UserDict is a dictionary-like container that acts as a wrapper around the dictionary objects. This container is used when someone wants to create their own dictionary with some modified or new functionality. "
   ]
  },
  {
   "metadata": {},
   "cell_type": "code",
   "outputs": [],
   "execution_count": null,
   "source": [
    "dictEx = {'el1':1,'el2:2'}\n",
    "# dictEx.po"
   ],
   "id": "7dbf0c29b4dbfd31"
  },
  {
   "cell_type": "code",
   "id": "8cc8023fe4d6128",
   "metadata": {
    "ExecuteTime": {
     "end_time": "2024-06-25T07:37:18.103343Z",
     "start_time": "2024-06-25T07:37:18.074495Z"
    }
   },
   "source": [
    "from collections import UserDict\n",
    " \n",
    "# Creating a Dictionary where\n",
    "# deletion is not allowed\n",
    "class MyDict(UserDict):\n",
    "     \n",
    "    # Function to stop deletion\n",
    "    # from dictionary\n",
    "    def __del__(self):\n",
    "        raise RuntimeError(\"Deletion not allowed\")\n",
    "         \n",
    "    # Function to stop pop from\n",
    "    # dictionary\n",
    "    def pop(self, s = None):\n",
    "        raise RuntimeError(\"Deletion not allowed\")\n",
    "         \n",
    "    # Function to stop popitem\n",
    "    # from Dictionary\n",
    "    def popitem(self, s = None):\n",
    "        raise RuntimeError(\"Deletion not allowed\")\n",
    "\t\t\n",
    "\t# Function to stop popitem\n",
    "    # from Dictionary\n",
    "    def printAll(self, s = None):\n",
    "        print(self.items())\n",
    "\t\n",
    "     \n",
    "# Driver's code\n",
    "d = MyDict({'a':1,\n",
    "    'b': 2,\n",
    "    'c': 3})\n",
    " \n",
    "print(\"Original Dictionary\")\n",
    "print(d)\n",
    "d.printAll()\n",
    "d.pop(1)"
   ],
   "outputs": [
    {
     "name": "stdout",
     "output_type": "stream",
     "text": [
      "Original Dictionary\n",
      "{'a': 1, 'b': 2, 'c': 3}\n",
      "ItemsView({'a': 1, 'b': 2, 'c': 3})\n"
     ]
    },
    {
     "ename": "RuntimeError",
     "evalue": "Deletion not allowed",
     "output_type": "error",
     "traceback": [
      "\u001B[1;31m---------------------------------------------------------------------------\u001B[0m",
      "\u001B[1;31mRuntimeError\u001B[0m                              Traceback (most recent call last)",
      "Cell \u001B[1;32mIn[28], line 36\u001B[0m\n\u001B[0;32m     34\u001B[0m \u001B[38;5;28mprint\u001B[39m(d)\n\u001B[0;32m     35\u001B[0m d\u001B[38;5;241m.\u001B[39mprintAll()\n\u001B[1;32m---> 36\u001B[0m \u001B[43md\u001B[49m\u001B[38;5;241;43m.\u001B[39;49m\u001B[43mpop\u001B[49m\u001B[43m(\u001B[49m\u001B[38;5;241;43m1\u001B[39;49m\u001B[43m)\u001B[49m\n",
      "Cell \u001B[1;32mIn[28], line 15\u001B[0m, in \u001B[0;36mMyDict.pop\u001B[1;34m(self, s)\u001B[0m\n\u001B[0;32m     14\u001B[0m \u001B[38;5;28;01mdef\u001B[39;00m \u001B[38;5;21mpop\u001B[39m(\u001B[38;5;28mself\u001B[39m, s \u001B[38;5;241m=\u001B[39m \u001B[38;5;28;01mNone\u001B[39;00m):\n\u001B[1;32m---> 15\u001B[0m     \u001B[38;5;28;01mraise\u001B[39;00m \u001B[38;5;167;01mRuntimeError\u001B[39;00m(\u001B[38;5;124m\"\u001B[39m\u001B[38;5;124mDeletion not allowed\u001B[39m\u001B[38;5;124m\"\u001B[39m)\n",
      "\u001B[1;31mRuntimeError\u001B[0m: Deletion not allowed"
     ]
    }
   ],
   "execution_count": 28
  },
  {
   "cell_type": "markdown",
   "id": "ce6a7986b8090a52",
   "metadata": {},
   "source": [
    "## 12. UserList\n",
    "\n",
    "UserList is a list-like container that acts as a wrapper around the list objects. This is useful when someone wants to create their own list with some modified or additional functionality."
   ]
  },
  {
   "cell_type": "code",
   "id": "74faec815279c98e",
   "metadata": {
    "ExecuteTime": {
     "end_time": "2024-06-25T07:38:48.155495Z",
     "start_time": "2024-06-25T07:38:48.128417Z"
    }
   },
   "source": [
    "# Python program to demonstrate\n",
    "# userlist\n",
    "\n",
    "\n",
    "from collections import UserList\n",
    "\n",
    "\n",
    "# Creating a List where\n",
    "# deletion is not allowed\n",
    "class MyList(UserList):\n",
    "\t\n",
    "\t# Function to stop deletion\n",
    "\t# from List\n",
    "\tdef remove(self, s = None):\n",
    "\t\traise RuntimeError(\"Deletion not allowed\")\n",
    "\t\t\n",
    "\t# Function to stop pop from\n",
    "\t# List\n",
    "\tdef pop(self, s = None):\n",
    "\t\traise RuntimeError(\"Deletion not allowed\")\n",
    "\t\n",
    "# Driver's code\n",
    "L = MyList([1, 2, 3, 4])\n",
    "\n",
    "print(\"Original List\")\n",
    "print(L)\n",
    "\n",
    "# Inserting to List\"\n",
    "L.append(5)\n",
    "print(\"After Insertion\")\n",
    "print(L)\n",
    "\n",
    "# Deleting From List\n",
    "L.remove()\n"
   ],
   "outputs": [
    {
     "name": "stderr",
     "output_type": "stream",
     "text": [
      "Exception ignored in: <function MyDict.__del__ at 0x000001977E134DC0>\n",
      "Traceback (most recent call last):\n",
      "  File \"C:\\Users\\amita\\AppData\\Local\\Temp\\ipykernel_41248\\348656398.py\", line 10, in __del__\n",
      "RuntimeError: Deletion not allowed\n",
      "Exception ignored in: <function MyDict.__del__ at 0x000001977F43B430>\n",
      "Traceback (most recent call last):\n",
      "  File \"C:\\Users\\amita\\AppData\\Local\\Temp\\ipykernel_41248\\4263465765.py\", line 10, in __del__\n",
      "RuntimeError: Deletion not allowed\n"
     ]
    },
    {
     "name": "stdout",
     "output_type": "stream",
     "text": [
      "Original List\n",
      "[1, 2, 3, 4]\n",
      "After Insertion\n",
      "[1, 2, 3, 4, 5]\n"
     ]
    },
    {
     "ename": "RuntimeError",
     "evalue": "Deletion not allowed",
     "output_type": "error",
     "traceback": [
      "\u001B[1;31m---------------------------------------------------------------------------\u001B[0m",
      "\u001B[1;31mRuntimeError\u001B[0m                              Traceback (most recent call last)",
      "Cell \u001B[1;32mIn[29], line 34\u001B[0m\n\u001B[0;32m     31\u001B[0m \u001B[38;5;28mprint\u001B[39m(L)\n\u001B[0;32m     33\u001B[0m \u001B[38;5;66;03m# Deleting From List\u001B[39;00m\n\u001B[1;32m---> 34\u001B[0m \u001B[43mL\u001B[49m\u001B[38;5;241;43m.\u001B[39;49m\u001B[43mremove\u001B[49m\u001B[43m(\u001B[49m\u001B[43m)\u001B[49m\n",
      "Cell \u001B[1;32mIn[29], line 15\u001B[0m, in \u001B[0;36mMyList.remove\u001B[1;34m(self, s)\u001B[0m\n\u001B[0;32m     14\u001B[0m \u001B[38;5;28;01mdef\u001B[39;00m \u001B[38;5;21mremove\u001B[39m(\u001B[38;5;28mself\u001B[39m, s \u001B[38;5;241m=\u001B[39m \u001B[38;5;28;01mNone\u001B[39;00m):\n\u001B[1;32m---> 15\u001B[0m \t\u001B[38;5;28;01mraise\u001B[39;00m \u001B[38;5;167;01mRuntimeError\u001B[39;00m(\u001B[38;5;124m\"\u001B[39m\u001B[38;5;124mDeletion not allowed\u001B[39m\u001B[38;5;124m\"\u001B[39m)\n",
      "\u001B[1;31mRuntimeError\u001B[0m: Deletion not allowed"
     ]
    }
   ],
   "execution_count": 29
  },
  {
   "cell_type": "markdown",
   "id": "b9de6e26b79d7de8",
   "metadata": {},
   "source": [
    "## 13. UserString\n",
    "\n",
    "UserString is a string-like container and just like UserDict and UserList, it acts as a wrapper around string objects. It is used when someone wants to create their own strings with some modified or additional functionality. "
   ]
  },
  {
   "cell_type": "code",
   "id": "f7559335d39bac06",
   "metadata": {
    "ExecuteTime": {
     "end_time": "2024-06-25T07:41:56.262210Z",
     "start_time": "2024-06-25T07:41:56.253212Z"
    }
   },
   "source": [
    "from collections import UserString\n",
    "\n",
    "# Creating a Mutable String\n",
    "class Mystring(UserString):\n",
    "\t\n",
    "\t# Function to append to\n",
    "\t# string\n",
    "\tdef append(self, s):\n",
    "\t\tself.data += s\n",
    "\t\t\n",
    "\t# Function to remove from\n",
    "\t# string\n",
    "\tdef remove(self, s):\n",
    "\t\tself.data = self.data.replace(s, \"\")\n",
    "\t\n",
    "# Driver's code\n",
    "s1 = Mystring(\"Geeks\")\n",
    "print(\"Original String:\", s1.data)\n",
    "\n",
    "# Appending to string\n",
    "s1.append(\"s\")\n",
    "print(\"String After Appending:\", s1.data)\n",
    "\n",
    "# Removing from string\n",
    "s1.remove(\"e\")\n",
    "print(\"String after Removing:\", s1.data)\n"
   ],
   "outputs": [
    {
     "name": "stdout",
     "output_type": "stream",
     "text": [
      "Original String: Geeks\n",
      "String After Appending: Geekss\n",
      "String after Removing: Gkss\n"
     ]
    }
   ],
   "execution_count": 35
  },
  {
   "metadata": {
    "ExecuteTime": {
     "end_time": "2024-06-25T07:40:50.393437Z",
     "start_time": "2024-06-25T07:40:50.378203Z"
    }
   },
   "cell_type": "code",
   "source": [
    "exString = 'example'\n",
    "for a in exString:\n",
    "\tprint(a)"
   ],
   "id": "fe11c65b0c8a3bb",
   "outputs": [
    {
     "name": "stdout",
     "output_type": "stream",
     "text": [
      "e\n",
      "x\n",
      "a\n",
      "m\n",
      "p\n",
      "l\n",
      "e\n"
     ]
    }
   ],
   "execution_count": 33
  },
  {
   "metadata": {
    "ExecuteTime": {
     "end_time": "2024-06-25T07:41:30.975786Z",
     "start_time": "2024-06-25T07:41:30.965884Z"
    }
   },
   "cell_type": "code",
   "source": [
    "exString2 = 'ex2'\n",
    "print(exString.join(exString2))"
   ],
   "id": "7334b716bd36869f",
   "outputs": [
    {
     "name": "stdout",
     "output_type": "stream",
     "text": [
      "eexamplexexample2\n"
     ]
    }
   ],
   "execution_count": 34
  },
  {
   "cell_type": "markdown",
   "id": "1a0741bd9a585406",
   "metadata": {},
   "source": [
    "# Advance Type Data\n",
    "## 13. Linked List\n",
    "A linked list is a linear data structure, in which the elements are not stored at contiguous memory locations. The elements in a linked list are linked using pointers as shown in the below image:\n",
    "\n",
    "<center><img height=\"400\" src=\"image/Linkedlist.png\" width=\"900\"/></center>\n",
    "\n",
    "A linked list is represented by a pointer to the first node of the linked list. The first node is called the head. If the linked list is empty, then the value of the head is NULL. Each node in a list consists of at least two parts:\n",
    "\n",
    "Data\n",
    "Pointer (Or Reference) to the next node"
   ]
  },
  {
   "cell_type": "code",
   "id": "7bec76d0a2fd2bb0",
   "metadata": {
    "ExecuteTime": {
     "end_time": "2024-06-25T07:46:01.250741Z",
     "start_time": "2024-06-25T07:46:01.235647Z"
    }
   },
   "source": [
    "# A simple Python program to introduce a linked list\n",
    " \n",
    "# Node class\n",
    "class Node:\n",
    " \n",
    "    # Function to initialise the node object\n",
    "    def __init__(self, data):\n",
    "        self.data = data # Assign data\n",
    "        self.next = None # Initialize next as null\n",
    " \n",
    " \n",
    "# Linked List class contains a Node object\n",
    "class LinkedList:\n",
    " \n",
    "    # Function to initialize head\n",
    "    def __init__(self):\n",
    "        self.head = None\n",
    " \n",
    " \n",
    "# Start with the empty list\n",
    "linked_list = LinkedList()\n",
    "\n",
    "linked_list.head = Node(1)\n",
    "second = Node(2)\n",
    "third = Node(3)\n",
    "\n",
    "'''\n",
    "Three nodes have been created.\n",
    "We have references to these three blocks as head,\n",
    "second and third\n",
    "\n",
    "list.head     second             third\n",
    "    |             |                 |\n",
    "    |             |                 |\n",
    "+----+------+     +----+------+     +----+------+\n",
    "| 1 | None |     | 2 | None |     | 3 | None |\n",
    "+----+------+     +----+------+     +----+------+\n",
    "'''\n",
    "\n",
    "linked_list.head.next = second  # Link first node with second\n",
    "\n",
    "'''\n",
    "Now next of first Node refers to second. So they\n",
    "both are linked.\n",
    "\n",
    "list.head     second             third\n",
    "    |             |                 |\n",
    "    |             |                 |\n",
    "+----+------+     +----+------+     +----+------+\n",
    "| 1 | o-------->| 2 | null |     | 3 | null |\n",
    "+----+------+     +----+------+     +----+------+\n",
    "'''\n",
    "\n",
    "second.next = third  # Link second node with the third node\n",
    "\n",
    "'''\n",
    "Now next of second Node refers to third. So all three\n",
    "nodes are linked.\n",
    "\n",
    "list.head     second             third\n",
    "    |             |                 |\n",
    "    |             |                 |\n",
    "+----+------+     +----+------+     +----+------+\n",
    "| 1 | o-------->| 2 | o-------->| 3 | null |\n",
    "+----+------+     +----+------+     +----+------+\n",
    "    '''"
   ],
   "outputs": [
    {
     "data": {
      "text/plain": [
       "'\\nNow next of second Node refers to third. So all three\\nnodes are linked.\\n\\nlist.head     second             third\\n    |             |                 |\\n    |             |                 |\\n+----+------+     +----+------+     +----+------+\\n| 1 | o-------->| 2 | o-------->| 3 | null |\\n+----+------+     +----+------+     +----+------+\\n    '"
      ]
     },
     "execution_count": 36,
     "metadata": {},
     "output_type": "execute_result"
    }
   ],
   "execution_count": 36
  },
  {
   "metadata": {},
   "cell_type": "code",
   "outputs": [],
   "execution_count": null,
   "source": "",
   "id": "ec5b64589350ed39"
  },
  {
   "cell_type": "markdown",
   "id": "3c1d06e6ad1d497d",
   "metadata": {},
   "source": [
    "## 14. Linked List Traversal \n",
    "\n",
    "In the previous program, we have created a simple linked list with three nodes. Let us traverse the created list and print the data of each node. For traversal, let us write a general-purpose function printList() that prints any given list."
   ]
  },
  {
   "cell_type": "code",
   "id": "934e722e7420b230",
   "metadata": {
    "ExecuteTime": {
     "end_time": "2024-06-25T07:49:44.836158Z",
     "start_time": "2024-06-25T07:49:44.825634Z"
    }
   },
   "source": [
    "# A simple Python program for traversal of a linked list\n",
    " \n",
    "# Node class\n",
    "class Node:\n",
    " \n",
    "    # Function to initialise the node object\n",
    "    def __init__(self, data):\n",
    "        self.data = data # Assign data\n",
    "        self.next = None # Initialize next as null\n",
    " \n",
    " \n",
    "# Linked List class contains a Node object\n",
    "class LinkedList:\n",
    " \n",
    "    # Function to initialize head\n",
    "    def __init__(self):\n",
    "        self.head = None\n",
    " \n",
    "    # This function prints contents of linked list\n",
    "    # starting from head\n",
    "    def printList(self):\n",
    "        temp = self.head\n",
    "        while (temp):\n",
    "            print (temp.data)\n",
    "            temp = temp.next\n",
    " \n",
    " \n",
    "# Code execution starts here\n",
    "\n",
    " \n",
    "# Start with the empty list\n",
    "linked_list = LinkedList()\n",
    "\n",
    "linked_list.head = Node(1)\n",
    "second = Node(2)\n",
    "third = Node(3)\n",
    "\n",
    "linked_list.head.next = second  # Link first node with second\n",
    "second.next = third  # Link second node with the third node\n",
    "\n",
    "linked_list.printList()"
   ],
   "outputs": [
    {
     "name": "stdout",
     "output_type": "stream",
     "text": [
      "1\n",
      "2\n",
      "3\n"
     ]
    }
   ],
   "execution_count": 39
  },
  {
   "cell_type": "markdown",
   "id": "dffb9382ab653989",
   "metadata": {},
   "source": [
    "## 15. Stack\n",
    "\n",
    "<center><img height=\"400\" src=\"image/stack.png\" width=\"700\"/></center>\n",
    "A stack is a linear data structure that stores items in a Last-In/First-Out (LIFO) or First-In/Last-Out (FILO) manner. In stack, a new element is added at one end and an element is removed from that end only. The insert and delete operations are often called push and pop."
   ]
  },
  {
   "cell_type": "markdown",
   "id": "9c7f586bb0e4d4d3",
   "metadata": {},
   "source": [
    "The functions associated with stack are:\n",
    "\n",
    "1. empty() – Returns whether the stack is empty – Time Complexity: O(1)\n",
    "2. size() – Returns the size of the stack – Time Complexity: O(1)\n",
    "3. top() – Returns a reference to the topmost element of the stack – Time Complexity: O(1)\n",
    "4. push(a) – Inserts the element ‘a’ at the top of the stack – Time Complexity: O(1)\n",
    "5. pop() – Deletes the topmost element of the stack – Time Complexity: O(1)"
   ]
  },
  {
   "cell_type": "markdown",
   "id": "8455259352217557",
   "metadata": {},
   "source": [
    "### Python Stack Implementation\n",
    "Stack in Python can be implemented using the following ways:\n",
    "\n",
    "- list\n",
    "- Collections.deque\n",
    "- queue.LifoQueue\n",
    "### Implementation using List\n",
    "\n",
    "Python’s built-in data structure list can be used as a stack. Instead of push(), append() is used to add elements to the top of the stack while pop() removes the element in LIFO order. "
   ]
  },
  {
   "cell_type": "code",
   "id": "c98733ad0422e329",
   "metadata": {
    "ExecuteTime": {
     "end_time": "2024-06-25T07:51:12.786257Z",
     "start_time": "2024-06-25T07:51:12.769630Z"
    }
   },
   "source": [
    "stack = []\n",
    "\n",
    "# append() function to push\n",
    "# element in the stack\n",
    "stack.append('g')\n",
    "stack.append('f')\n",
    "stack.append('g')\n",
    "\n",
    "print('Initial stack')\n",
    "print(stack)\n",
    "\n",
    "# pop() function to pop\n",
    "# element from stack in\n",
    "# LIFO order\n",
    "print('\\nElements popped from stack:')\n",
    "print(stack.pop())\n",
    "print(stack.pop())\n",
    "print(stack.pop())\n",
    "\n",
    "print('\\nStack after elements are popped:')\n",
    "print(stack)\n",
    "\n",
    "# uncommenting print(stack.pop())\n",
    "# will cause an IndexError\n",
    "# as the stack is now empty\n"
   ],
   "outputs": [
    {
     "name": "stdout",
     "output_type": "stream",
     "text": [
      "Initial stack\n",
      "['g', 'f', 'g']\n",
      "\n",
      "Elements popped from stack:\n",
      "g\n",
      "f\n",
      "g\n",
      "\n",
      "Stack after elements are popped:\n",
      "[]\n"
     ]
    }
   ],
   "execution_count": 40
  },
  {
   "cell_type": "markdown",
   "id": "16270f08fc6ef76f",
   "metadata": {},
   "source": [
    "### Implementation using collections.deque:\n",
    "\n",
    "Python stack can be implemented using the deque class from the collections module. Deque is preferred over the list in the cases where we need quicker append and pop operations from both the ends of the container, as deque provides an O(1) time complexity for append and pop operations as compared to list which provides O(n) time complexity. "
   ]
  },
  {
   "cell_type": "code",
   "execution_count": 7,
   "id": "ac0741adbc8e5728",
   "metadata": {
    "ExecuteTime": {
     "end_time": "2024-04-17T09:47:34.288873Z",
     "start_time": "2024-04-17T09:47:34.271815Z"
    }
   },
   "outputs": [
    {
     "name": "stdout",
     "output_type": "stream",
     "text": [
      "Initial stack:\n",
      "deque(['g', 'f', 'g'])\n",
      "\n",
      "Elements popped from stack:\n",
      "g\n",
      "f\n",
      "g\n",
      "\n",
      "Stack after elements are popped:\n",
      "deque([])\n"
     ]
    }
   ],
   "source": [
    "from collections import deque\n",
    "\n",
    "stack = deque()\n",
    "\n",
    "# append() function to push\n",
    "# element in the stack\n",
    "stack.append('g')\n",
    "stack.append('f')\n",
    "stack.append('g')\n",
    "\n",
    "print('Initial stack:')\n",
    "print(stack)\n",
    "\n",
    "# pop() function to pop\n",
    "# element from stack in\n",
    "# LIFO order\n",
    "print('\\nElements popped from stack:')\n",
    "print(stack.pop())\n",
    "print(stack.pop())\n",
    "print(stack.pop())\n",
    "\n",
    "print('\\nStack after elements are popped:')\n",
    "print(stack)\n",
    "\n",
    "# uncommenting print(stack.pop())\n",
    "# will cause an IndexError\n",
    "# as the stack is now empty\n"
   ]
  },
  {
   "cell_type": "markdown",
   "id": "4f46785a45bc9407",
   "metadata": {},
   "source": [
    "### Implementation using queue module\n",
    "\n",
    "The queue module also has a LIFO Queue, which is basically a Stack. Data is inserted into Queue using the put() function and get() takes data out from the Queue. "
   ]
  },
  {
   "cell_type": "code",
   "execution_count": 8,
   "id": "8ef4ec0da4224cc9",
   "metadata": {
    "ExecuteTime": {
     "end_time": "2024-04-17T09:47:34.647312Z",
     "start_time": "2024-04-17T09:47:34.630804Z"
    }
   },
   "outputs": [
    {
     "name": "stdout",
     "output_type": "stream",
     "text": [
      "0\n",
      "Full:  True\n",
      "Size:  3\n",
      "\n",
      "Elements popped from the stack\n",
      "g\n",
      "f\n",
      "g\n",
      "\n",
      "Empty:  True\n"
     ]
    }
   ],
   "source": [
    "from queue import LifoQueue\n",
    "\n",
    "# Initializing a stack\n",
    "stack = LifoQueue(maxsize = 3)\n",
    "\n",
    "# qsize() show the number of elements\n",
    "# in the stack\n",
    "print(stack.qsize())\n",
    "\n",
    "# put() function to push\n",
    "# element in the stack\n",
    "stack.put('g')\n",
    "stack.put('f')\n",
    "stack.put('g')\n",
    "\n",
    "print(\"Full: \", stack.full())\n",
    "print(\"Size: \", stack.qsize())\n",
    "\n",
    "# get() function to pop\n",
    "# element from stack in\n",
    "# LIFO order\n",
    "print('\\nElements popped from the stack')\n",
    "print(stack.get())\n",
    "print(stack.get())\n",
    "print(stack.get())\n",
    "\n",
    "print(\"\\nEmpty: \", stack.empty())\n"
   ]
  },
  {
   "cell_type": "markdown",
   "id": "1a2c2bfdc4f0d6d7",
   "metadata": {},
   "source": [
    "## 16. Queue\n",
    "\n",
    "<center><img height=\"400\" src=\"image/Queue.png\" width=\"900\"/></center>\n",
    "\n",
    "As a stack, the queue is a linear data structure that stores items in a First In First Out (FIFO) manner. With a queue, the least recently added item is removed first. A good example of the queue is any queue of consumers for a resource where the consumer that came first is served first."
   ]
  },
  {
   "cell_type": "markdown",
   "id": "5223cac18e43ae58",
   "metadata": {},
   "source": [
    "Operations associated with queue are:\n",
    "\n",
    "- Enqueue: Adds an item to the queue. If the queue is full, then it is said to be an Overflow condition – Time Complexity: O(1)\n",
    "- Dequeue: Removes an item from the queue. The items are popped in the same order in which they are pushed. If the queue is empty, then it is said to be an Underflow condition – Time Complexity: O(1)\n",
    "- Front: Get the front item from queue – Time Complexity: O(1)\n",
    "- Rear: Get the last item from queue – Time Complexity: O(1)"
   ]
  },
  {
   "cell_type": "markdown",
   "id": "dd12db8467426029",
   "metadata": {},
   "source": [
    "### Python queue Implementation\n",
    "Queue in Python can be implemented in the following ways:\n",
    "\n",
    "- list\n",
    "- collections.deque\n",
    "- queue.Queue\n",
    "\n",
    "### Implementation using list\n",
    "\n",
    "Instead of enqueue() and dequeue(), append() and pop() function is used."
   ]
  },
  {
   "cell_type": "code",
   "execution_count": 9,
   "id": "781eeb70371c0809",
   "metadata": {
    "ExecuteTime": {
     "end_time": "2024-04-17T09:47:35.364997Z",
     "start_time": "2024-04-17T09:47:35.353490Z"
    }
   },
   "outputs": [
    {
     "name": "stdout",
     "output_type": "stream",
     "text": [
      "Initial queue\n",
      "['g', 'f', 'g']\n",
      "\n",
      "Elements dequeued from queue\n",
      "g\n",
      "f\n",
      "g\n",
      "\n",
      "Queue after removing elements\n",
      "[]\n"
     ]
    }
   ],
   "source": [
    "# Initializing a queue\n",
    "queue = []\n",
    "\n",
    "# Adding elements to the queue\n",
    "queue.append('g')\n",
    "queue.append('f')\n",
    "queue.append('g')\n",
    "\n",
    "print(\"Initial queue\")\n",
    "print(queue)\n",
    "\n",
    "# Removing elements from the queue\n",
    "print(\"\\nElements dequeued from queue\")\n",
    "print(queue.pop(0))\n",
    "print(queue.pop(0))\n",
    "print(queue.pop(0))\n",
    "\n",
    "print(\"\\nQueue after removing elements\")\n",
    "print(queue)\n",
    "\n",
    "# Uncommenting print(queue.pop(0))\n",
    "# will raise and IndexError\n",
    "# as the queue is now empty\n"
   ]
  },
  {
   "cell_type": "markdown",
   "id": "c2869dcd56341ab2",
   "metadata": {},
   "source": [
    "### Implementation using collections.deque\n",
    "\n",
    "Deque is preferred over the list in the cases where we need quicker append and pop operations from both the ends of the container, as deque provides an O(1) time complexity for append and pop operations as compared to list which provides O(n) time complexity."
   ]
  },
  {
   "cell_type": "code",
   "execution_count": 10,
   "id": "d25fc6d25c1892a9",
   "metadata": {
    "ExecuteTime": {
     "end_time": "2024-04-17T09:47:35.727595Z",
     "start_time": "2024-04-17T09:47:35.715591Z"
    }
   },
   "outputs": [
    {
     "name": "stdout",
     "output_type": "stream",
     "text": [
      "Initial queue\n",
      "deque(['g', 'f', 'g'])\n",
      "\n",
      "Elements dequeued from the queue\n",
      "g\n",
      "f\n",
      "g\n",
      "\n",
      "Queue after removing elements\n",
      "deque([])\n"
     ]
    }
   ],
   "source": [
    "from collections import deque\n",
    "\n",
    "# Initializing a queue\n",
    "q = deque()\n",
    "\n",
    "# Adding elements to a queue\n",
    "q.append('g')\n",
    "q.append('f')\n",
    "q.append('g')\n",
    "\n",
    "print(\"Initial queue\")\n",
    "print(q)\n",
    "\n",
    "# Removing elements from a queue\n",
    "print(\"\\nElements dequeued from the queue\")\n",
    "print(q.popleft())\n",
    "print(q.popleft())\n",
    "print(q.popleft())\n",
    "\n",
    "print(\"\\nQueue after removing elements\")\n",
    "print(q)\n",
    "\n",
    "# Uncommenting q.popleft()\n",
    "# will raise an IndexError\n",
    "# as queue is now empty\n"
   ]
  },
  {
   "cell_type": "markdown",
   "id": "bcf57c397047ecdd",
   "metadata": {},
   "source": [
    "### Implementation using the queue.Queue\n",
    "\n",
    "queue.Queue(maxsize) initializes a variable to a maximum size of maxsize. A maxsize of zero ‘0’ means an infinite queue. This Queue follows the FIFO rule. "
   ]
  },
  {
   "cell_type": "code",
   "execution_count": 11,
   "id": "cc2f5f7a39ab75a9",
   "metadata": {
    "ExecuteTime": {
     "end_time": "2024-04-17T09:47:36.074600Z",
     "start_time": "2024-04-17T09:47:36.067359Z"
    }
   },
   "outputs": [
    {
     "name": "stdout",
     "output_type": "stream",
     "text": [
      "0\n",
      "\n",
      "Full:  True\n",
      "\n",
      "Elements dequeued from the queue\n",
      "g\n",
      "f\n",
      "g\n",
      "\n",
      "Empty:  True\n",
      "\n",
      "Empty:  False\n",
      "Full:  False\n"
     ]
    }
   ],
   "source": [
    "from queue import Queue\n",
    "\n",
    "# Initializing a queue\n",
    "q = Queue(maxsize = 3)\n",
    "\n",
    "# qsize() give the maxsize\n",
    "# of the Queue\n",
    "print(q.qsize())\n",
    "\n",
    "# Adding of element to queue\n",
    "q.put('g')\n",
    "q.put('f')\n",
    "q.put('g')\n",
    "\n",
    "# Return Boolean for Full\n",
    "# Queue\n",
    "print(\"\\nFull: \", q.full())\n",
    "\n",
    "# Removing element from queue\n",
    "print(\"\\nElements dequeued from the queue\")\n",
    "print(q.get())\n",
    "print(q.get())\n",
    "print(q.get())\n",
    "\n",
    "# Return Boolean for Empty\n",
    "# Queue\n",
    "print(\"\\nEmpty: \", q.empty())\n",
    "\n",
    "q.put(1)\n",
    "print(\"\\nEmpty: \", q.empty())\n",
    "print(\"Full: \", q.full())\n",
    "\n",
    "# This would result into Infinite\n",
    "# Loop as the Queue is empty.\n",
    "# print(q.get())\n"
   ]
  },
  {
   "cell_type": "markdown",
   "id": "37654c37ce87e48d",
   "metadata": {},
   "source": [
    "## 17. Priority Queue\n",
    "\n",
    "Priority Queues are abstract data structures where each data/value in the queue has a certain priority. For example, In airlines, baggage with the title “Business” or “First-class” arrives earlier than the rest. Priority Queue is an extension of the queue with the following properties.\n",
    "\n",
    "- An element with high priority is dequeued before an element with low priority.\n",
    "- If two elements have the same priority, they are served according to their order in the queue."
   ]
  },
  {
   "cell_type": "code",
   "id": "915c4334d54363a6",
   "metadata": {
    "ExecuteTime": {
     "end_time": "2024-06-25T08:01:29.338518Z",
     "start_time": "2024-06-25T08:01:29.325642Z"
    }
   },
   "source": [
    "# A simple implementation of Priority Queue\n",
    "# using Queue.\n",
    "class PriorityQueue(object):\n",
    "\tdef __init__(self):\n",
    "\t\tself.queue = []\n",
    "\n",
    "\tdef __str__(self):\n",
    "\t\treturn ' '.join([str(i) for i in self.queue])\n",
    "\n",
    "\t# for checking if the queue is empty\n",
    "\tdef isEmpty(self):\n",
    "\t\treturn len(self.queue) == 0\n",
    "\n",
    "\t# for inserting an element in the queue\n",
    "\tdef insert(self, data):\n",
    "\t\tself.queue.append(data)\n",
    "\n",
    "\t# for popping an element based on Priority\n",
    "\tdef delete(self):\n",
    "\t\ttry:\n",
    "\t\t\tmax = 0\n",
    "\t\t\tfor i in range(len(self.queue)):\n",
    "\t\t\t\tif self.queue[i] > self.queue[max]:\n",
    "\t\t\t\t\tmax = i\n",
    "\t\t\titem = self.queue[max]\n",
    "\t\t\tdel self.queue[max]\n",
    "\t\t\treturn item\n",
    "\t\texcept IndexError:\n",
    "\t\t\tprint()\n",
    "\t\t\texit()\n",
    "\n",
    "if __name__ == '__main__':\n",
    "\tmyQueue = PriorityQueue()\n",
    "\tmyQueue.insert(12)\n",
    "\tmyQueue.insert(1)\n",
    "\tmyQueue.insert(14)\n",
    "\tmyQueue.insert(7)\n",
    "\tprint(myQueue)\t\t \n",
    "\twhile not myQueue.isEmpty():\n",
    "\t\tprint(myQueue.delete())\n"
   ],
   "outputs": [
    {
     "name": "stdout",
     "output_type": "stream",
     "text": [
      "12 1 14 7\n",
      "14\n",
      "12\n",
      "7\n",
      "1\n"
     ]
    }
   ],
   "execution_count": 41
  },
  {
   "cell_type": "markdown",
   "id": "85566ce21016e030",
   "metadata": {},
   "source": [
    "## 18. Heap queue (or heapq)\n",
    "\n",
    "heapq module in Python provides the heap data structure that is mainly used to represent a priority queue. The property of this data structure in Python is that each time the smallest heap element is popped(min-heap). Whenever elements are pushed or popped, heap structure is maintained. The heap[0] element also returns the smallest element each time. \n",
    "\n",
    "It supports the extraction and insertion of the smallest element in the O(log n) times."
   ]
  },
  {
   "cell_type": "code",
   "id": "dd0dc3929c2f9c54",
   "metadata": {
    "ExecuteTime": {
     "end_time": "2024-06-25T08:02:38.557129Z",
     "start_time": "2024-06-25T08:02:38.539098Z"
    }
   },
   "source": [
    "# importing \"heapq\" to implement heap queue\n",
    "import heapq\n",
    "\n",
    "# initializing list\n",
    "li = [5, 7, 9, 1, 3]\n",
    "\n",
    "# using heapify to convert list into heap\n",
    "heapq.heapify(li)\n",
    "\n",
    "# printing created heap\n",
    "print (\"The created heap is : \",end=\"\")\n",
    "print (li)\n",
    "\n",
    "# using heappush() to push elements into heap\n",
    "# pushes 4\n",
    "heapq.heappush(li,4)\n",
    "\n",
    "# printing modified heap\n",
    "print (\"The modified heap after push is : \",end=\"\")\n",
    "print (li)\n",
    "\n",
    "# using heappop() to pop smallest element\n",
    "print (\"The popped and smallest element is : \",end=\"\")\n",
    "print (heapq.heappop(li))\n"
   ],
   "outputs": [
    {
     "name": "stdout",
     "output_type": "stream",
     "text": [
      "The created heap is : [1, 3, 9, 7, 5]\n",
      "The modified heap after push is : [1, 3, 4, 7, 5, 9]\n",
      "The popped and smallest element is : 1\n"
     ]
    }
   ],
   "execution_count": 42
  },
  {
   "cell_type": "markdown",
   "id": "ad57670fab051253",
   "metadata": {},
   "source": [
    "## 19. Binary Tree\n",
    "\n",
    "A tree is a  hierarchical data structure that looks like the below figure – \n",
    "\n",
    "<center><img height=\"400\" src=\"image/tree.jpg\" width=\"700\"/></center>\n",
    "\n",
    "The topmost node of the tree is called the root whereas the bottommost nodes or the nodes with no children are called the leaf nodes. The nodes that are directly under a node are called its children and the nodes that are directly above something are called its parent.\n",
    "\n",
    "A binary tree is a tree whose elements can have almost two children. Since each element in a binary tree can have only 2 children, we typically name them the left and right children. A Binary Tree node contains the following parts.\n",
    "\n",
    "- Data\n",
    "- Pointer to left child\n",
    "- Pointer to the right child"
   ]
  },
  {
   "cell_type": "code",
   "execution_count": 14,
   "id": "410cd6fd8799bf7c",
   "metadata": {
    "ExecuteTime": {
     "end_time": "2024-04-17T09:47:37.162435Z",
     "start_time": "2024-04-17T09:47:37.154249Z"
    }
   },
   "outputs": [
    {
     "data": {
      "text/plain": [
       "'4 becomes left child of 2\\n\\t\\t1\\n\\t/\\t \\t2\\t\\t 3\\n\\t/ \\\\\\t / 4 None None None\\n/ None None'"
      ]
     },
     "execution_count": 14,
     "metadata": {},
     "output_type": "execute_result"
    }
   ],
   "source": [
    "# Python program to introduce Binary Tree\n",
    "\n",
    "# A class that represents an individual node in a\n",
    "# Binary Tree\n",
    "class Node:\n",
    "\tdef __init__(self,key):\n",
    "\t\tself.left = None\n",
    "\t\tself.right = None\n",
    "\t\tself.val = key\n",
    "\n",
    "\n",
    "# create root\n",
    "root = Node(1)\n",
    "''' following is the tree after above statement\n",
    "\t\t1\n",
    "\t/ \\\n",
    "\tNone None'''\n",
    "\n",
    "root.left\t = Node(2)\n",
    "root.right\t = Node(3)\n",
    "\n",
    "''' 2 and 3 become left and right children of 1\n",
    "\t\t1\n",
    "\t\t/ \\\n",
    "\t\t2\t 3\n",
    "\t/ \\ / \\\n",
    "None None None None'''\n",
    "\n",
    "\n",
    "root.left.left = Node(4)\n",
    "'''4 becomes left child of 2\n",
    "\t\t1\n",
    "\t/\t \\\n",
    "\t2\t\t 3\n",
    "\t/ \\\t / \\\n",
    "4 None None None\n",
    "/ \\\n",
    "None None'''\n"
   ]
  },
  {
   "cell_type": "markdown",
   "id": "2b72b0a0b3b3db05",
   "metadata": {},
   "source": [
    "## 20. Tree Traversal\n",
    "\n",
    "Trees can be traversed in different ways. Following are the generally used ways for traversing trees. Let us consider the below tree – \n",
    "\n",
    "<center><img height=\"400\" src=\"image/tree-transversal.jpg\" width=\"500\"/></center>"
   ]
  },
  {
   "cell_type": "markdown",
   "id": "de327da13236cdb7",
   "metadata": {},
   "source": [
    "### Depth First Traversals:\n",
    "\n",
    "- Inorder (Left, Root, Right) : 4 2 5 1 3\n",
    "- Preorder (Root, Left, Right) : 1 2 4 5 3\n",
    "- Postorder (Left, Right, Root) : 4 5 2 3 1\n",
    "### Algorithm Inorder(tree)\n",
    "\n",
    "- Traverse the left subtree, i.e., call Inorder(left-subtree)\n",
    "- Visit the root.\n",
    "- Traverse the right subtree, i.e., call Inorder(right-subtree)\n",
    "### Algorithm Preorder(tree)\n",
    "\n",
    "- Visit the root.\n",
    "- Traverse the left subtree, i.e., call Preorder(left-subtree)\n",
    "- Traverse the right subtree, i.e., call Preorder(right-subtree)\n",
    "### Algorithm Postorder(tree)\n",
    "\n",
    "- Traverse the left subtree, i.e., call Postorder(left-subtree)\n",
    "- Traverse the right subtree, i.e., call Postorder(right-subtree)\n",
    "- Visit the root."
   ]
  },
  {
   "cell_type": "code",
   "id": "3aadaf79354b950a",
   "metadata": {
    "ExecuteTime": {
     "end_time": "2024-06-25T08:07:42.950814Z",
     "start_time": "2024-06-25T08:07:42.936760Z"
    }
   },
   "source": [
    "# Python program to for tree traversals\n",
    "\n",
    "# A class that represents an individual node in a\n",
    "# Binary Tree\n",
    "class Node:\n",
    "\tdef __init__(self, key):\n",
    "\t\tself.left = None\n",
    "\t\tself.right = None\n",
    "\t\tself.val = key\n",
    "\n",
    "\n",
    "# A function to do inorder tree traversal\n",
    "def printInorder(root):\n",
    "\n",
    "\tif root:\n",
    "\n",
    "\t\t# First recur on left child\n",
    "\t\tprintInorder(root.left)\n",
    "\n",
    "\t\t# then print the data of node\n",
    "\t\tprint(root.val),\n",
    "\n",
    "\t\t# now recur on right child\n",
    "\t\tprintInorder(root.right)\n",
    "\n",
    "\n",
    "# A function to do postorder tree traversal\n",
    "def printPostorder(root):\n",
    "\n",
    "\tif root:\n",
    "\n",
    "\t\t# First recur on left child\n",
    "\t\tprintPostorder(root.left)\n",
    "\n",
    "\t\t# the recur on right child\n",
    "\t\tprintPostorder(root.right)\n",
    "\n",
    "\t\t# now print the data of node\n",
    "\t\tprint(root.val),\n",
    "\n",
    "\n",
    "# A function to do preorder tree traversal\n",
    "def printPreorder(root):\n",
    "\n",
    "\tif root:\n",
    "\n",
    "\t\t# First print the data of node\n",
    "\t\tprint(root.val),\n",
    "\n",
    "\t\t# Then recur on left child\n",
    "\t\tprintPreorder(root.left)\n",
    "\n",
    "\t\t# Finally recur on right child\n",
    "\t\tprintPreorder(root.right)\n",
    "\n",
    "\n",
    "# Driver code\n",
    "root = Node(1)\n",
    "root.left = Node(2)\n",
    "root.right = Node(3)\n",
    "root.left.left = Node(4)\n",
    "root.left.right = Node(5)\n",
    "print(\"Preorder traversal of binary tree is\")\n",
    "printPreorder(root)\n",
    "\n",
    "print(\"\\nInorder traversal of binary tree is\")\n",
    "printInorder(root)\n",
    "\n",
    "print(\"\\nPostorder traversal of binary tree is\")\n",
    "printPostorder(root)\n"
   ],
   "outputs": [
    {
     "name": "stdout",
     "output_type": "stream",
     "text": [
      "Preorder traversal of binary tree is\n",
      "1\n",
      "2\n",
      "4\n",
      "5\n",
      "3\n",
      "\n",
      "Inorder traversal of binary tree is\n",
      "4\n",
      "2\n",
      "5\n",
      "1\n",
      "3\n",
      "\n",
      "Postorder traversal of binary tree is\n",
      "4\n",
      "5\n",
      "2\n",
      "3\n",
      "1\n"
     ]
    }
   ],
   "execution_count": 43
  },
  {
   "cell_type": "markdown",
   "id": "d86adef60e46af2a",
   "metadata": {},
   "source": [
    "Time Complexity –  O(n) \n",
    "\n",
    "### Breadth-First or Level Order Traversal\n",
    "\n",
    "Level order traversal of a tree is breadth-first traversal for the tree. The level order traversal of the above tree is 1 2 3 4 5.\n",
    "\n",
    "For each node, first, the node is visited and then its child nodes are put in a FIFO queue. Below is the algorithm for the same – \n",
    "\n",
    "1. Create an empty queue q\n",
    "2. temp_node = root /*start from root*/\n",
    "3. Loop while temp_node is not NULL\n",
    "\t- nt temp_node->data.\n",
    "\t- Enqueue temp_node’s children (first left then right children) to q\n",
    "\t- Dequeue a node from q"
   ]
  },
  {
   "cell_type": "code",
   "execution_count": 16,
   "id": "9bbc4c59480c8ff5",
   "metadata": {
    "ExecuteTime": {
     "end_time": "2024-04-17T09:47:38.098102Z",
     "start_time": "2024-04-17T09:47:38.079098Z"
    }
   },
   "outputs": [
    {
     "name": "stdout",
     "output_type": "stream",
     "text": [
      "Level Order Traversal of binary tree is -\n",
      "1\n",
      "2\n",
      "3\n",
      "4\n",
      "5\n"
     ]
    }
   ],
   "source": [
    "# Python program to print level\n",
    "# order traversal using Queue\n",
    "\n",
    "# A node structure\n",
    "class Node:\n",
    "\n",
    "\t# A utility function to create a new node\n",
    "\tdef __init__(self ,key):\n",
    "\t\tself.data = key\n",
    "\t\tself.left = None\n",
    "\t\tself.right = None\n",
    "\n",
    "# Iterative Method to print the\n",
    "# height of a binary tree\n",
    "def printLevelOrder(root):\n",
    "\n",
    "\t# Base Case\n",
    "\tif root is None:\n",
    "\t\treturn\n",
    "\t\n",
    "\t# Create an empty queue\n",
    "\t# for level order traversal\n",
    "\tqueue = []\n",
    "\n",
    "\t# Enqueue Root and initialize height\n",
    "\tqueue.append(root)\n",
    "\n",
    "\twhile(len(queue) > 0):\n",
    "\t\n",
    "\t\t# Print front of queue and\n",
    "\t\t# remove it from queue\n",
    "\t\tprint (queue[0].data)\n",
    "\t\tnode = queue.pop(0)\n",
    "\n",
    "\t\t# Enqueue left child\n",
    "\t\tif node.left is not None:\n",
    "\t\t\tqueue.append(node.left)\n",
    "\n",
    "\t\t# Enqueue right child\n",
    "\t\tif node.right is not None:\n",
    "\t\t\tqueue.append(node.right)\n",
    "\n",
    "# Driver Program to test above function\n",
    "root = Node(1)\n",
    "root.left = Node(2)\n",
    "root.right = Node(3)\n",
    "root.left.left = Node(4)\n",
    "root.left.right = Node(5)\n",
    "\n",
    "print (\"Level Order Traversal of binary tree is -\")\n",
    "printLevelOrder(root)\n"
   ]
  },
  {
   "cell_type": "markdown",
   "id": "d63a9d2d28278e18",
   "metadata": {},
   "source": [
    "Time Complexity: O(n) "
   ]
  },
  {
   "cell_type": "markdown",
   "id": "5f097312e58ee4de",
   "metadata": {},
   "source": [
    "## 21. Graph\n",
    "\n",
    "A graph is a nonlinear data structure consisting of nodes and edges. The nodes are sometimes also referred to as vertices and the edges are lines or arcs that connect any two nodes in the graph. More formally a Graph can be defined as a Graph consisting of a finite set of vertices(or nodes) and a set of edges that connect a pair of nodes.\n",
    "\n",
    "<center><img height=\"350\" src=\"image/undirectedgraph.png\" width=\"800\"/></center>"
   ]
  },
  {
   "cell_type": "markdown",
   "id": "1c6b54c62ef4a4ac",
   "metadata": {},
   "source": [
    "In the above Graph, the set of vertices V = {0,1,2,3,4} and the set of edges E = {01, 12, 23, 34, 04, 14, 13}.\n",
    "\n",
    "The following two are the most commonly used representations of a graph.\n",
    "\n",
    "1. Adjacency Matrix\n",
    "2. Adjacency List\n",
    "\n",
    "\n",
    "### Adjacency Matrix\n",
    "Adjacency Matrix is a 2D array of size V x V where V is the number of vertices in a graph. Let the 2D array be adj[][], a slot adj[i][j] = 1 indicates that there is an edge from vertex i to vertex j. The adjacency matrix for an undirected graph is always symmetric. Adjacency Matrix is also used to represent weighted graphs. If adj[i][j] = w, then there is an edge from vertex i to vertex j with weight w. "
   ]
  },
  {
   "cell_type": "code",
   "id": "e673eec5fa5d293c",
   "metadata": {
    "ExecuteTime": {
     "end_time": "2024-06-25T08:12:12.965849Z",
     "start_time": "2024-06-25T08:12:12.949912Z"
    }
   },
   "source": [
    "# A simple representation of graph using Adjacency Matrix\n",
    "class Graph:\n",
    "\tdef __init__(self,numvertex):\n",
    "\t\tself.adjMatrix = [[-1]*numvertex for x in range(numvertex)]\n",
    "\t\tself.numvertex = numvertex\n",
    "\t\tself.vertices = {}\n",
    "\t\tself.verticeslist =[0]*numvertex\n",
    "\n",
    "\tdef set_vertex(self,vtx,id):\n",
    "\t\tif 0<=vtx<=self.numvertex:\n",
    "\t\t\tself.vertices[id] = vtx\n",
    "\t\t\tself.verticeslist[vtx] = id\n",
    "\n",
    "\tdef set_edge(self,frm,to,cost=0):\n",
    "\t\tfrm = self.vertices[frm]\n",
    "\t\tto = self.vertices[to]\n",
    "\t\tself.adjMatrix[frm][to] = cost\n",
    "\t\t\n",
    "\t\t# for directed graph do not add this\n",
    "\t\tself.adjMatrix[to][frm] = cost\n",
    "\n",
    "\tdef get_vertex(self):\n",
    "\t\treturn self.verticeslist\n",
    "\n",
    "\tdef get_edges(self):\n",
    "\t\tedges=[]\n",
    "\t\tfor i in range (self.numvertex):\n",
    "\t\t\tfor j in range (self.numvertex):\n",
    "\t\t\t\tif (self.adjMatrix[i][j]!=-1):\n",
    "\t\t\t\t\tedges.append((self.verticeslist[i],self.verticeslist[j],self.adjMatrix[i][j]))\n",
    "\t\treturn edges\n",
    "\t\t\n",
    "\tdef get_matrix(self):\n",
    "\t\treturn self.adjMatrix\n",
    "\n",
    "G =Graph(6)\n",
    "G.set_vertex(0,'a')\n",
    "G.set_vertex(1,'b')\n",
    "G.set_vertex(2,'c')\n",
    "G.set_vertex(3,'d')\n",
    "G.set_vertex(4,'e')\n",
    "G.set_vertex(5,'f')\n",
    "G.set_edge('a','e',10)\n",
    "G.set_edge('a','c',20)\n",
    "G.set_edge('c','b',30)\n",
    "G.set_edge('b','e',40)\n",
    "G.set_edge('e','d',50)\n",
    "G.set_edge('f','e',60)\n",
    "\n",
    "print(\"Vertices of Graph\")\n",
    "print(G.get_vertex())\n",
    "\n",
    "print(\"Edges of Graph\")\n",
    "print(G.get_edges())\n",
    "\n",
    "print(\"Adjacency Matrix of Graph\")\n",
    "print(G.get_matrix())\n"
   ],
   "outputs": [
    {
     "name": "stdout",
     "output_type": "stream",
     "text": [
      "Vertices of Graph\n",
      "['a', 'b', 'c', 'd', 'e', 'f']\n",
      "Edges of Graph\n",
      "[('a', 'c', 20), ('a', 'e', 10), ('b', 'c', 30), ('b', 'e', 40), ('c', 'a', 20), ('c', 'b', 30), ('d', 'e', 50), ('e', 'a', 10), ('e', 'b', 40), ('e', 'd', 50), ('e', 'f', 60), ('f', 'e', 60)]\n",
      "Adjacency Matrix of Graph\n",
      "[[-1, -1, 20, -1, 10, -1], [-1, -1, 30, -1, 40, -1], [20, 30, -1, -1, -1, -1], [-1, -1, -1, -1, 50, -1], [10, 40, -1, 50, -1, 60], [-1, -1, -1, -1, 60, -1]]\n"
     ]
    }
   ],
   "execution_count": 44
  },
  {
   "cell_type": "markdown",
   "id": "bdf355a3d76f7ae7",
   "metadata": {},
   "source": [
    "### Adjacency List\n",
    "\n",
    "An array of lists is used. The size of the array is equal to the number of vertices. Let the array be an array[]. An entry array[i] represents the list of vertices adjacent to the ith vertex. This representation can also be used to represent a weighted graph. The weights of edges can be represented as lists of pairs. Following is the adjacency list representation of the above graph. \n",
    "\n",
    "<center><img height=\"400\" src=\"image/Graph-Representation-of-Directed-graph-to-Adjacency-List.png\" width=\"800\"/></center>"
   ]
  },
  {
   "cell_type": "code",
   "id": "a5eec81114f6c22a",
   "metadata": {
    "ExecuteTime": {
     "end_time": "2024-06-25T08:12:25.073108Z",
     "start_time": "2024-06-25T08:12:25.056201Z"
    }
   },
   "source": [
    "# A class to represent the adjacency list of the node\n",
    "class AdjNode:\n",
    "\tdef __init__(self, data):\n",
    "\t\tself.vertex = data\n",
    "\t\tself.next = None\n",
    "\n",
    "\n",
    "# A class to represent a graph. A graph\n",
    "# is the list of the adjacency lists.\n",
    "# Size of the array will be the no. of the\n",
    "# vertices \"V\"\n",
    "class Graph:\n",
    "\tdef __init__(self, vertices):\n",
    "\t\tself.V = vertices\n",
    "\t\tself.graph = [None] * self.V\n",
    "\n",
    "\t# Function to add an edge in an undirected graph\n",
    "\tdef add_edge(self, src, dest):\n",
    "\t\n",
    "\t\t# Adding the node to the source node\n",
    "\t\tnode = AdjNode(dest)\n",
    "\t\tnode.next = self.graph[src]\n",
    "\t\tself.graph[src] = node\n",
    "\n",
    "\t\t# Adding the source node to the destination as\n",
    "\t\t# it is the undirected graph\n",
    "\t\tnode = AdjNode(src)\n",
    "\t\tnode.next = self.graph[dest]\n",
    "\t\tself.graph[dest] = node\n",
    "\n",
    "\t# Function to print the graph\n",
    "\tdef print_graph(self):\n",
    "\t\tfor i in range(self.V):\n",
    "\t\t\tprint(\"Adjacency list of vertex {}\\n head\".format(i), end=\"\")\n",
    "\t\t\ttemp = self.graph[i]\n",
    "\t\t\twhile temp:\n",
    "\t\t\t\tprint(\" -> {}\".format(temp.vertex), end=\"\")\n",
    "\t\t\t\ttemp = temp.next\n",
    "\t\t\tprint(\" \\n\")\n",
    "\n",
    "\n",
    "# Driver program to the above graph class\n",
    "if __name__ == \"__main__\":\n",
    "\tV = 5\n",
    "\tgraph = Graph(V)\n",
    "\tgraph.add_edge(0, 1)\n",
    "\tgraph.add_edge(0, 4)\n",
    "\tgraph.add_edge(1, 2)\n",
    "\tgraph.add_edge(1, 3)\n",
    "\tgraph.add_edge(1, 4)\n",
    "\tgraph.add_edge(2, 3)\n",
    "\tgraph.add_edge(3, 4)\n",
    "\n",
    "\tgraph.print_graph()\n"
   ],
   "outputs": [
    {
     "name": "stdout",
     "output_type": "stream",
     "text": [
      "Adjacency list of vertex 0\n",
      " head -> 4 -> 1 \n",
      "\n",
      "Adjacency list of vertex 1\n",
      " head -> 4 -> 3 -> 2 -> 0 \n",
      "\n",
      "Adjacency list of vertex 2\n",
      " head -> 3 -> 1 \n",
      "\n",
      "Adjacency list of vertex 3\n",
      " head -> 4 -> 2 -> 1 \n",
      "\n",
      "Adjacency list of vertex 4\n",
      " head -> 3 -> 1 -> 0 \n",
      "\n"
     ]
    }
   ],
   "execution_count": 45
  },
  {
   "cell_type": "markdown",
   "id": "a8b5c26d8f5f4fa1",
   "metadata": {},
   "source": [
    "## 22. Graph Traversal\n",
    "### Breadth-First Search or BFS\n",
    "\n",
    "Breadth-First Traversal for a graph is similar to Breadth-First Traversal of a tree. The only catch here is, unlike trees, graphs may contain cycles, so we may come to the same node again. To avoid processing a node more than once, we use a boolean visited array. For simplicity, it is assumed that all vertices are reachable from the starting vertex.\n",
    "\n",
    "For example, in the following graph, we start traversal from vertex 2. When we come to vertex 0, we look for all adjacent vertices of it. 2 is also an adjacent vertex of 0. If we don’t mark visited vertices, then 2 will be processed again and it will become a non-terminating process. A Breadth-First Traversal of the following graph is 2, 0, 3, 1.\n",
    "\n",
    "<center><img height=\"400\" src=\"image/bfs-5.png\" width=\"700\"/></center>\n"
   ]
  },
  {
   "cell_type": "code",
   "execution_count": 19,
   "id": "63e0b16b9fa7b076",
   "metadata": {
    "ExecuteTime": {
     "end_time": "2024-04-17T09:47:39.772151Z",
     "start_time": "2024-04-17T09:47:39.758878Z"
    }
   },
   "outputs": [
    {
     "name": "stdout",
     "output_type": "stream",
     "text": [
      "Following is Breadth First Traversal (starting from vertex 2)\n",
      "2 0 3 1 "
     ]
    }
   ],
   "source": [
    "from typing import List, Dict\n",
    "# Python3 Program to print BFS traversal\n",
    "# from a given source vertex. BFS(int s)\n",
    "# traverses vertices reachable from s.\n",
    "from collections import defaultdict\n",
    "\n",
    "# This class represents a directed graph\n",
    "# using adjacency list representation\n",
    "class Graph:\n",
    "\n",
    "\t# Constructor\n",
    "\tdef __init__(self):\n",
    "\n",
    "\t\t# default dictionary to store graph\n",
    "\t\tself.graph = defaultdict(list)\n",
    "\n",
    "\t# function to add an edge to graph\n",
    "\tdef addEdge(self,u,v):\n",
    "\t\tself.graph[u].append(v)\n",
    "\n",
    "\t# Function to print a BFS of graph\n",
    "\tdef BFS(self, s):\n",
    "\n",
    "\t\t# Mark all the vertices as not visited\n",
    "\t\tvisited = [False] * (max(self.graph) + 1)\n",
    "\n",
    "\t\t# Create a queue for BFS\n",
    "\t\tqueue = []\n",
    "\n",
    "\t\t# Mark the source node as\n",
    "\t\t# visited and enqueue it\n",
    "\t\tqueue.append(s)\n",
    "\t\tvisited[s] = True\n",
    "\n",
    "\t\twhile queue:\n",
    "\n",
    "\t\t\t# Dequeue a vertex from\n",
    "\t\t\t# queue and print it\n",
    "\t\t\ts = queue.pop(0)\n",
    "\t\t\tprint (s, end = \" \")\n",
    "\n",
    "\t\t\t# Get all adjacent vertices of the\n",
    "\t\t\t# dequeued vertex s. If a adjacent\n",
    "\t\t\t# has not been visited, then mark it\n",
    "\t\t\t# visited and enqueue it\n",
    "\t\t\tfor i in self.graph[s]:\n",
    "\t\t\t\tif visited[i] == False:\n",
    "\t\t\t\t\tqueue.append(i)\n",
    "\t\t\t\t\tvisited[i] = True\n",
    "\n",
    "# Driver code\n",
    "\n",
    "# Create a graph given in\n",
    "# the above diagram\n",
    "g = Graph()\n",
    "g.addEdge(0, 1)\n",
    "g.addEdge(0, 2)\n",
    "g.addEdge(1, 2)\n",
    "g.addEdge(2, 0)\n",
    "g.addEdge(2, 3)\n",
    "g.addEdge(3, 3)\n",
    "\n",
    "print (\"Following is Breadth First Traversal\"\n",
    "\t\t\t\t\" (starting from vertex 2)\")\n",
    "g.BFS(2)\n",
    "\n",
    "# This code is contributed by Neelam Yadav\n"
   ]
  },
  {
   "cell_type": "markdown",
   "id": "7a0c45bfb0b90a52",
   "metadata": {},
   "source": [
    "Time Complexity: O(V+E) where V is the number of vertices in the graph and E is the number of edges in the graph."
   ]
  },
  {
   "cell_type": "markdown",
   "id": "f5b853386670ef96",
   "metadata": {},
   "source": [
    "### Depth First Search or DFS\n",
    "\n",
    "Depth First Traversal for a graph is similar to Depth First Traversal of a tree. The only catch here is, unlike trees, graphs may contain cycles, a node may be visited twice. To avoid processing a node more than once, use a boolean visited array.\n",
    "\n",
    "Algorithm:\n",
    "\n",
    "- Create a recursive function that takes the index of the node and a visited array.\n",
    "- Mark the current node as visited and print the node.\n",
    "- Traverse all the adjacent and unmarked nodes and call the recursive function with the index of the adjacent node."
   ]
  },
  {
   "cell_type": "code",
   "execution_count": 22,
   "id": "1d9dc1a4efce638e",
   "metadata": {
    "ExecuteTime": {
     "end_time": "2024-04-17T09:49:24.010657Z",
     "start_time": "2024-04-17T09:49:23.992275Z"
    }
   },
   "outputs": [
    {
     "name": "stdout",
     "output_type": "stream",
     "text": [
      "Following is DFS from (starting from vertex 2)\n",
      "2 0 1 3 "
     ]
    }
   ],
   "source": [
    "# Python3 program to print DFS traversal\n",
    "# from a given graph\n",
    "from collections import defaultdict\n",
    "\n",
    "# This class represents a directed graph using\n",
    "# adjacency list representation\n",
    "\n",
    "\n",
    "class Graph:\n",
    "\n",
    "\t# Constructor\n",
    "\tdef __init__(self):\n",
    "\n",
    "\t\t# default dictionary to store graph\n",
    "\t\tself.graph = defaultdict(list)\n",
    "\n",
    "\t# function to add an edge to graph\n",
    "\tdef addEdge(self, u, v):\n",
    "\t\tself.graph[u].append(v)\n",
    "\n",
    "\t# A function used by DFS\n",
    "\tdef DFSUtil(self, v, visited):\n",
    "\n",
    "\t\t# Mark the current node as visited\n",
    "\t\t# and print it\n",
    "\t\tvisited.add(v)\n",
    "\t\tprint(v, end=' ')\n",
    "\n",
    "\t\t# Recur for all the vertices\n",
    "\t\t# adjacent to this vertex\n",
    "\t\tfor neighbour in self.graph[v]:\n",
    "\t\t\tif neighbour not in visited:\n",
    "\t\t\t\tself.DFSUtil(neighbour, visited)\n",
    "\n",
    "\t# The function to do DFS traversal. It uses\n",
    "\t# recursive DFSUtil()\n",
    "\tdef DFS(self, v):\n",
    "\n",
    "\t\t# Create a set to store visited vertices\n",
    "\t\tvisited = set()\n",
    "\n",
    "\t\t# Call the recursive helper function\n",
    "\t\t# to print DFS traversal\n",
    "\t\tself.DFSUtil(v, visited)\n",
    "\n",
    "# Driver code\n",
    "\n",
    "\n",
    "# Create a graph given\n",
    "# in the above diagram\n",
    "g = Graph()\n",
    "g.addEdge(0, 1)\n",
    "g.addEdge(0, 2)\n",
    "g.addEdge(1, 2)\n",
    "g.addEdge(2, 0)\n",
    "g.addEdge(2, 3)\n",
    "g.addEdge(3, 3)\n",
    "\n",
    "print(\"Following is DFS from (starting from vertex 2)\")\n",
    "g.DFS(2)\n"
   ]
  },
  {
   "cell_type": "markdown",
   "id": "1c57b455b09ea865",
   "metadata": {},
   "source": [
    "Time complexity: O(V + E), where V is the number of vertices and E is the number of edges in the graph.\n"
   ]
  },
  {
   "cell_type": "code",
   "execution_count": null,
   "id": "506f1a7edeae299a",
   "metadata": {},
   "outputs": [],
   "source": []
  }
 ],
 "metadata": {
  "kernelspec": {
   "display_name": "Python 3 (ipykernel)",
   "language": "python",
   "name": "python3"
  },
  "language_info": {
   "codemirror_mode": {
    "name": "ipython",
    "version": 3
   },
   "file_extension": ".py",
   "mimetype": "text/x-python",
   "name": "python",
   "nbconvert_exporter": "python",
   "pygments_lexer": "ipython3",
   "version": "3.9.7"
  }
 },
 "nbformat": 4,
 "nbformat_minor": 5
}
