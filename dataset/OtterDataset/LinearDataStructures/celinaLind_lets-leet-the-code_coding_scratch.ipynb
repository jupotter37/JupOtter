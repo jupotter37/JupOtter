{
 "cells": [
  {
   "cell_type": "code",
   "execution_count": null,
   "metadata": {},
   "outputs": [],
   "source": [
    "# Array Declaration\n",
    "array = [3,5,7,9,11]\n",
    "print(\"Original array\", array)"
   ]
  },
  {
   "cell_type": "code",
   "execution_count": null,
   "metadata": {},
   "outputs": [],
   "source": [
    "# can only index within the range of the array\n",
    "array[6] # IndexError: list index out of range"
   ]
  },
  {
   "cell_type": "code",
   "execution_count": null,
   "metadata": {},
   "outputs": [],
   "source": [
    "#Accessing elements\n",
    "print(\"First element\", array[0])\n",
    "print(\"Last element\", array[-1])"
   ]
  },
  {
   "cell_type": "code",
   "execution_count": null,
   "metadata": {},
   "outputs": [],
   "source": [
    "# Insert element at the end\n",
    "array.append(13)\n",
    "# new array [3,5,7,9,11,13]\n",
    "# python append is a push operation"
   ]
  },
  {
   "cell_type": "code",
   "execution_count": null,
   "metadata": {},
   "outputs": [],
   "source": [
    "#Insert element at specific index\n",
    "array.insert(2, 6) #insert 6 at index 2\n",
    "# new array [3,5,6,7,9,11,13]\n",
    "# does not replace the element at index 2, but shifts all elements to the right"
   ]
  },
  {
   "cell_type": "code",
   "execution_count": null,
   "metadata": {},
   "outputs": [],
   "source": [
    "# Delete element\n",
    "array.remove(6) # remove element 6\n",
    "# new array [3,5,7,9,11,13]"
   ]
  },
  {
   "cell_type": "code",
   "execution_count": null,
   "metadata": {},
   "outputs": [],
   "source": [
    "array.append(6)\n",
    "array.append(6)\n",
    "array.remove(6) # remove first occurrence of 6"
   ]
  },
  {
   "cell_type": "code",
   "execution_count": null,
   "metadata": {},
   "outputs": [],
   "source": [
    "# to remove all occurrences of 6, use a loop\n",
    "def remove_all(array, value):\n",
    "    while value in array:\n",
    "        array.remove(value)"
   ]
  },
  {
   "cell_type": "markdown",
   "metadata": {},
   "source": [
    "# Strings\n",
    "- \"array of characters\"\n",
    "- concatenation = combining strings together\n",
    "- slicing\n",
    "- searching\n",
    "- modification (done by creating a new string)"
   ]
  },
  {
   "cell_type": "code",
   "execution_count": null,
   "metadata": {},
   "outputs": [],
   "source": [
    "# Given string s, reverse it in place and return the reversed string\n",
    "# reverse string in place means that you should not create a new string\n",
    "# s = \"hello\"\n",
    "# using native python functions reversed(s) or s[::-1] is not allowed\n",
    "# explain the below function\n",
    "# s[::-1] creates a new string that is the reverse of s and assigns it to s\n",
    "# reversed(s) creates a new list of characters that is the reverse of s and assigns it to s\n",
    "\n",
    "def reverse_string(s):\n",
    "    # convert string to list of characters to allow modification\n",
    "    s = list(s)\n",
    "    # two pointers, one at the beginning and one at the end\n",
    "    left = 0\n",
    "    right = len(s) - 1\n",
    "\n",
    "    while left < right:\n",
    "        # swap characters at left and right\n",
    "        s[left], s[right] = s[right], s[left]\n",
    "        # move pointers towards each other\n",
    "        left += 1\n",
    "        right -= 1\n",
    "\n",
    "    # convert list of characters back to string\n",
    "    return ''.join(s)\n",
    "\n",
    "# Immutable means that the object cannot be modified after creation"
   ]
  },
  {
   "cell_type": "code",
   "execution_count": 1,
   "metadata": {},
   "outputs": [
    {
     "name": "stdout",
     "output_type": "stream",
     "text": [
      "<reversed object at 0x0000026E4316F370>\n"
     ]
    }
   ],
   "source": [
    "print(reversed(\"hello\")) # <reversed object at 0x7f8e3b7b3d30>\n",
    "\"\".join(reversed(\"hello\")) # 'olleh'"
   ]
  },
  {
   "cell_type": "markdown",
   "metadata": {},
   "source": [
    "# Linked List\n",
    "- consists of nodes (contains data and a reference/pointer to the next node)\n",
    "- Advantages\n",
    "    - dynamic size (can grow and shrink during runtime)\n",
    "    - efficient insertions and deletions (no need to shift elements)\n",
    "- Types:\n",
    "    - Singly Linked List: Nodes point to the next node\n",
    "    - Doubly Linked List: Nodes point to the previous node and the next node\n",
    "    - Circular Linked List: \n",
    "\n",
    "When deleting element you just need to update the previous reference to the node following the node you want to delete\n",
    "EX. Linked list A -> B -> C\n",
    "    removing B ==> A -> C"
   ]
  },
  {
   "cell_type": "code",
   "execution_count": 4,
   "metadata": {},
   "outputs": [],
   "source": [
    "class Node: # node is the basic building block of a linked list\n",
    "    # define a \"dunder\" method __init__ that initializes the object\n",
    "    # self is the node object itself\n",
    "    # data is the value that the node holds\n",
    "    # the dunder method is called when the object is created\n",
    "    def __init__(self, data):\n",
    "        self.data = data\n",
    "        self.next = None\n",
    "\n",
    "class LinkedList:\n",
    "    def __init__(self):\n",
    "        # initialize the linked list with a head node\n",
    "        self.head = None\n",
    "\n",
    "    # define a method that appends a new node to the end of the linked list\n",
    "    def append(self, data):\n",
    "        new_node = Node(data)\n",
    "        if self.head is None:\n",
    "            self.head = new_node\n",
    "            return\n",
    "\n",
    "        last = self.head\n",
    "        while last.next:\n",
    "            last = last.next\n",
    "\n",
    "        last.next = new_node\n",
    "\n",
    "    # prepend a new node to the beginning of the linked list\n",
    "    def prepend(self, data):\n",
    "        # create a new node\n",
    "        new_node = Node(data)\n",
    "        # set the next pointer/reference of the new node to the current head\n",
    "        new_node.next = self.head\n",
    "        # set the head of the linked list to the new node\n",
    "        self.head = new_node\n",
    "\n",
    "    # delete a node by value\n",
    "    def delete(self, key): # key is the value of the node to delete\n",
    "        # store the head node\n",
    "        temp = self.head\n",
    "        # if the head node is the key\n",
    "        if temp and temp.data == key:\n",
    "            # the head node is the key, so set the head to the next node\n",
    "            self.head = temp.next\n",
    "            temp = None\n",
    "            return\n",
    "        # search for the key to be deleted, keep track of the previous node so we can update the next pointer\n",
    "        prev = None\n",
    "        while temp and temp.data != key:\n",
    "            # keep track of the previous node\n",
    "            prev = temp\n",
    "            # temp is now the next node in the linked list\n",
    "            temp = temp.next\n",
    "        # if the key is not found\n",
    "        if temp is None:\n",
    "            return\n",
    "        \n",
    "        # unlink the node to be deleted\n",
    "        # like in the example where we connected A to C\n",
    "        prev.next = temp.next\n",
    "        temp = None\n",
    "\n",
    "        #print the linked list\n",
    "    def print_list(self):\n",
    "        temp = self.head\n",
    "        while temp:\n",
    "            print(temp.data)\n",
    "            temp = temp.next"
   ]
  },
  {
   "cell_type": "code",
   "execution_count": 6,
   "metadata": {},
   "outputs": [
    {
     "name": "stdout",
     "output_type": "stream",
     "text": [
      "Append 1,2,3\n",
      "1\n",
      "2\n",
      "3\n",
      "Prepend 0\n",
      "0\n",
      "1\n",
      "2\n",
      "3\n",
      "Delete 1\n",
      "0\n",
      "2\n",
      "3\n"
     ]
    }
   ],
   "source": [
    "# test linked list \n",
    "\n",
    "llist = LinkedList()\n",
    "print(\"Append 1,2,3\")\n",
    "llist.append(1)\n",
    "llist.append(2)\n",
    "llist.append(3)\n",
    "llist.print_list()\n",
    "print(\"Prepend 0\")\n",
    "llist.prepend(0)\n",
    "llist.print_list()\n",
    "print(\"Delete 1\")\n",
    "llist.delete(1)\n",
    "llist.print_list()"
   ]
  },
  {
   "cell_type": "code",
   "execution_count": null,
   "metadata": {},
   "outputs": [],
   "source": [
    "# Given a linked list, determine if it has a cycle\n",
    "# A cycle is when a node points to a previous node in the linked list, forming a loop\n",
    "# A -> B -> C -> D -> B\n",
    "# can test by using a fast and slow pointer\n",
    "# if the fast pointer catches up to the slow pointer, then there is a cycle\n",
    "# if the fast pointer reaches the end of the linked list, then there is no cycle\n",
    "# Above is called the Tortoise and Hare algorithm\n",
    "\n",
    "# Slow pointer moves one node at a time\n",
    "# Fast pointer moves two nodes at a time\n",
    "\n",
    "def has_cycle(head):\n",
    "    # pointers start at the head/beginning of the linked list\n",
    "    slow = head\n",
    "    fast = head\n",
    "    # continue until the fast pointer reaches the end of the linked list\n",
    "    while fast and fast.next:\n",
    "        slow = slow.next\n",
    "        fast = fast.next.next\n",
    "        # if the fast pointer catches up to the slow pointer, there is a cycle\n",
    "        if slow == fast:\n",
    "            return True\n",
    "\n",
    "    return False\n"
   ]
  },
  {
   "cell_type": "code",
   "execution_count": null,
   "metadata": {},
   "outputs": [],
   "source": [
    "# create a cycle manually\n",
    "llist.head.next.next.next.next = llist.head.next"
   ]
  },
  {
   "cell_type": "markdown",
   "metadata": {},
   "source": [
    "### Time Complexity of above solution = O(n)\n",
    "* in worst case the time complexity is the length of the list\n",
    "### Space Complexity = O(1)\n",
    "* not needing to add new variables/data as the list grows only 2 single variables created"
   ]
  },
  {
   "cell_type": "markdown",
   "metadata": {},
   "source": [
    "# Stacks and Queues\n",
    "- Stacks \n",
    "    - Linear data structures\n",
    "    - Last-in-first-out (LIFO) principle \n",
    "    - Common Operations:\n",
    "        - push(): add item to top of the stack\n",
    "        - pop(): rmv and return popped item\n",
    "        - peek(): return top item w/o rmving\n",
    "        - is_empty():\n",
    "    - Use cases:\n",
    "        - fcn call management\n",
    "        - expression evaluation and syntax parsing\n",
    "- Queues\n",
    "    - First-in-first-out (FIFO) principle"
   ]
  },
  {
   "cell_type": "code",
   "execution_count": null,
   "metadata": {},
   "outputs": [],
   "source": [
    "# Stack Problem\n",
    "# Given string containing just the characters '(', ')', '{', '}', '[' and ']'\n",
    "# determine if the input string is valid\n",
    "# An input string is valid if:\n",
    "# Open brackets must be closed by the same type of brackets\n",
    "# Open brackets must be closed in the correct order\n",
    "# Valid examples: \"()\", \"()[]{}\", \"{[]}\"\n",
    "# Invalid examples: \"(]\", \"([)]\"\n",
    "\n",
    "# Use a stack to keep track of the open brackets\n",
    "# When a closing bracket is encountered, pop the top of the stack\n",
    "# If the closing bracket does not match the top of the stack, return False\n",
    "# If the stack is empty at the end, return True\n",
    "\n",
    "def is_valid(s):\n",
    "    stack = []\n",
    "    # dictionary to map closing brackets to opening brackets\n",
    "    mapping = {\n",
    "        ')': '(', \n",
    "        '}': '{', \n",
    "        ']': '['\n",
    "        }\n",
    "    \n",
    "    for char in s:\n",
    "        if char in mapping.values():\n",
    "            # it's an opening bracket, push it onto the stack\n",
    "            stack.append(char)\n",
    "        elif char in mapping.keys():\n",
    "        # it's a closing bracket\n",
    "        # if the stack is empty/at the end of the stack, return False\n",
    "            if not stack or mapping[char] != stack.pop():\n",
    "                return False # this means the stack is invalid\n",
    "        else:\n",
    "            # invalid character\n",
    "            return False\n",
    "            \n",
    "        return not stack"
   ]
  },
  {
   "cell_type": "code",
   "execution_count": null,
   "metadata": {},
   "outputs": [],
   "source": [
    "class Queue:\n",
    "    def __init__(self):\n",
    "        self.stack_in = []\n",
    "        self.stack_out = []\n",
    "\n",
    "    #Enqueue operation\n",
    "    def enqueue(self, x):\n",
    "        self.stack_in.append(x)\n",
    "\n",
    "    #Dequeue operation\n",
    "    def dequeue(self):\n",
    "        # if the out stack is empty, move all elements from in stack to out stack\n",
    "        if not self.stack_out:\n",
    "            while self.stack_in:\n",
    "                self.stack_out.append(self.stack_in.pop())\n",
    "            if self.stack_out:\n",
    "                return self.stack_out.pop()\n",
    "            else:\n",
    "                return None # Queue is empty\n",
    "\n",
    "    # Check if queue is empty\n",
    "    def is_empty(self):\n",
    "        return not (self.stack_in or self.stack_out)\n",
    "\n",
    "    # Front operation\n",
    "    def front(self):\n",
    "        if not self.stack_out:\n",
    "            while self.stack_in:\n",
    "                self.stack_out.append(self.stack_in.pop())\n",
    "        if self.stack_out:\n",
    "            return self.stack_out[-1]\n",
    "        else:\n",
    "            return None # Queue is empty\n",
    "    \n"
   ]
  }
 ],
 "metadata": {
  "kernelspec": {
   "display_name": "Python 3",
   "language": "python",
   "name": "python3"
  },
  "language_info": {
   "codemirror_mode": {
    "name": "ipython",
    "version": 3
   },
   "file_extension": ".py",
   "mimetype": "text/x-python",
   "name": "python",
   "nbconvert_exporter": "python",
   "pygments_lexer": "ipython3",
   "version": "3.12.7"
  }
 },
 "nbformat": 4,
 "nbformat_minor": 2
}
