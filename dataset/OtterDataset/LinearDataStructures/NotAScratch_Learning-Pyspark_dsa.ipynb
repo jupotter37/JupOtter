{
 "cells": [
  {
   "cell_type": "code",
   "execution_count": 1,
   "metadata": {},
   "outputs": [],
   "source": [
    "## DSA day one"
   ]
  },
  {
   "cell_type": "code",
   "execution_count": 8,
   "metadata": {},
   "outputs": [],
   "source": [
    "import numpy as np"
   ]
  },
  {
   "cell_type": "code",
   "execution_count": 10,
   "metadata": {},
   "outputs": [],
   "source": [
    "# Find the greater num among two numbers\n",
    "def greater_num(num1, num2):\n",
    "    if num1 > num2:\n",
    "        return num1\n",
    "    else:\n",
    "        return num2 "
   ]
  },
  {
   "cell_type": "code",
   "execution_count": 12,
   "metadata": {},
   "outputs": [
    {
     "data": {
      "text/plain": [
       "10"
      ]
     },
     "execution_count": 12,
     "metadata": {},
     "output_type": "execute_result"
    }
   ],
   "source": [
    "greater_num(10, 10)"
   ]
  },
  {
   "cell_type": "code",
   "execution_count": 17,
   "metadata": {},
   "outputs": [],
   "source": [
    "list1 = np.arange(1, 20)"
   ]
  },
  {
   "cell_type": "code",
   "execution_count": 18,
   "metadata": {},
   "outputs": [
    {
     "data": {
      "text/plain": [
       "array([ 1,  2,  3,  4,  5,  6,  7,  8,  9, 10, 11, 12, 13, 14, 15, 16, 17,\n",
       "       18, 19])"
      ]
     },
     "execution_count": 18,
     "metadata": {},
     "output_type": "execute_result"
    }
   ],
   "source": [
    "list1"
   ]
  },
  {
   "cell_type": "code",
   "execution_count": 19,
   "metadata": {},
   "outputs": [],
   "source": [
    "#Check if a number is greater than 25 or 50 or 100\n",
    "def check_num(num):\n",
    "    if num > 100:\n",
    "        return \"The number is greater than 100\"\n",
    "    elif num > 50:\n",
    "        return \"The number is greater than 50\"\n",
    "    elif num > 25:\n",
    "        return \"The number is greater than 25\"\n",
    "    else:\n",
    "        return \"The number is less than 25\""
   ]
  },
  {
   "cell_type": "code",
   "execution_count": 20,
   "metadata": {},
   "outputs": [
    {
     "data": {
      "text/plain": [
       "'The number is greater than 100'"
      ]
     },
     "execution_count": 20,
     "metadata": {},
     "output_type": "execute_result"
    }
   ],
   "source": [
    "check_num(263)"
   ]
  },
  {
   "cell_type": "code",
   "execution_count": 25,
   "metadata": {},
   "outputs": [
    {
     "data": {
      "text/plain": [
       "array([  1,   2,   3,   4, 100,   6,   7,   8,   9,  10])"
      ]
     },
     "execution_count": 25,
     "metadata": {},
     "output_type": "execute_result"
    }
   ],
   "source": [
    " #tuples vs lists\n",
    "\n",
    "#Tuples are immutable while lists are mutable\n",
    "#Tuples are faster than lists\n",
    "#Tuples are used when the data is not supposed to change\n",
    "#Tuples are used as keys in dictionaries while lists are not\n",
    "#Tuples are used in string formatting\n",
    "\n",
    "#Create a list of 10 elements\n",
    "list2 = np.arange(1, 11)\n",
    "list2\n",
    "\n",
    "#Change the 5th element of the list\n",
    "list2[4] = 100\n",
    "list2\n",
    "\n"
   ]
  },
  {
   "cell_type": "code",
   "execution_count": 26,
   "metadata": {},
   "outputs": [],
   "source": [
    "def any_func(value):\n",
    "    print(value)\n",
    "\n"
   ]
  },
  {
   "cell_type": "code",
   "execution_count": 30,
   "metadata": {},
   "outputs": [
    {
     "name": "stdout",
     "output_type": "stream",
     "text": [
      "3\n"
     ]
    }
   ],
   "source": [
    "any_func(3)"
   ]
  },
  {
   "cell_type": "markdown",
   "metadata": {},
   "source": [
    "## Linear Data Structure"
   ]
  },
  {
   "cell_type": "markdown",
   "metadata": {},
   "source": [
    "The term \"Linear Data Structure\" in the context of your workspace appears in the dsa.ipynb file. Linear data structures are a type of data structure where data elements are arranged in a sequential manner, and each member element is connected to its previous and next element in a single level. Examples include arrays, linked lists, stacks, and queues. These structures are called linear because they all have a logical start and a logical end.\n",
    "\n",
    "In the dsa.ipynb file, the section on \"Linear Data Structure\" seems to be intended for discussing or demonstrating concepts related to linear data structures in Python, possibly using examples or exercises. However, the specific content or examples intended for this section were not provided in the excerpts you've shared."
   ]
  },
  {
   "cell_type": "markdown",
   "metadata": {},
   "source": [
    "## Stack"
   ]
  },
  {
   "cell_type": "code",
   "execution_count": 2,
   "metadata": {},
   "outputs": [],
   "source": [
    "# Find the power of a number using recursion\n",
    "def power_of_num(num, power):\n",
    "    if power == 0:\n",
    "        return 1\n",
    "    else:\n",
    "        return num * power_of_num(num, power - 1)"
   ]
  },
  {
   "cell_type": "code",
   "execution_count": 3,
   "metadata": {},
   "outputs": [
    {
     "data": {
      "text/plain": [
       "8"
      ]
     },
     "execution_count": 3,
     "metadata": {},
     "output_type": "execute_result"
    }
   ],
   "source": [
    "power_of_num(2, 3)"
   ]
  },
  {
   "cell_type": "code",
   "execution_count": 10,
   "metadata": {},
   "outputs": [],
   "source": [
    "stack = []\n",
    "stack.append(1)\n",
    "stack.append(2)\n",
    "stack.append(3)"
   ]
  },
  {
   "cell_type": "code",
   "execution_count": 11,
   "metadata": {},
   "outputs": [
    {
     "data": {
      "text/plain": [
       "[1, 2, 3]"
      ]
     },
     "execution_count": 11,
     "metadata": {},
     "output_type": "execute_result"
    }
   ],
   "source": [
    "stack"
   ]
  },
  {
   "cell_type": "code",
   "execution_count": 13,
   "metadata": {},
   "outputs": [],
   "source": [
    "if stack:\n",
    "    stack.pop()\n",
    "else:\n",
    "    print(\"Stack is empty, cannot pop element.\")\n"
   ]
  },
  {
   "cell_type": "markdown",
   "metadata": {},
   "source": [
    "To demonstrate the use of a `deque` (double-ended queue) in Python, we'll create a simple example that showcases basic operations such as appending, popping from both ends, and iterating over a deque.\n",
    "\n",
    "Pseudocode:\n",
    "1. Import the `deque` class from the `collections` module.\n",
    "2. Create a new deque object with some initial elements.\n",
    "3. Append an element to the right end.\n",
    "4. Append an element to the left end.\n",
    "5. Pop an element from the right end and print it.\n",
    "6. Pop an element from the left end and print it.\n",
    "7. Iterate over the remaining elements in the deque and print each.\n",
    "\n",
    "```python\n",
    "from collections import deque\n",
    "\n",
    "# Step 2: Create a deque with some initial elements\n",
    "d = deque([\"a\", \"b\", \"c\"])\n",
    "\n",
    "# Step 3: Append an element to the right\n",
    "d.append(\"d\")\n",
    "\n",
    "# Step 4: Append an element to the left\n",
    "d.appendleft(\"0\")\n",
    "\n",
    "# Step 5:  Pop and print an element from the right\n",
    "print(\"Popped from right:\", d.pop())\n",
    "\n",
    "# Step 6: Pop and print an element from the left\n",
    "print(\"Popped from left:\", d.popleft())\n",
    "\n",
    "# Step 7: Iterate and print remaining elements\n",
    "print(\"Remaining elements in deque:\")\n",
    "for element in d:\n",
    "    print(element)"
   ]
  },
  {
   "cell_type": "code",
   "execution_count": 14,
   "metadata": {},
   "outputs": [],
   "source": [
    "from collections import deque"
   ]
  },
  {
   "cell_type": "code",
   "execution_count": 25,
   "metadata": {},
   "outputs": [],
   "source": [
    "queqe = deque()"
   ]
  },
  {
   "cell_type": "code",
   "execution_count": 26,
   "metadata": {},
   "outputs": [],
   "source": [
    "queqe.append(1)\n",
    "queqe.append(2)\n",
    "queqe.append(3)"
   ]
  },
  {
   "cell_type": "code",
   "execution_count": 27,
   "metadata": {},
   "outputs": [
    {
     "data": {
      "text/plain": [
       "deque([1, 2, 3])"
      ]
     },
     "execution_count": 27,
     "metadata": {},
     "output_type": "execute_result"
    }
   ],
   "source": [
    "queqe"
   ]
  },
  {
   "cell_type": "code",
   "execution_count": 28,
   "metadata": {},
   "outputs": [
    {
     "data": {
      "text/plain": [
       "3"
      ]
     },
     "execution_count": 28,
     "metadata": {},
     "output_type": "execute_result"
    }
   ],
   "source": [
    "queqe.pop()"
   ]
  },
  {
   "cell_type": "code",
   "execution_count": 29,
   "metadata": {},
   "outputs": [],
   "source": [
    "queqe.appendleft(4)"
   ]
  },
  {
   "cell_type": "code",
   "execution_count": 30,
   "metadata": {},
   "outputs": [
    {
     "data": {
      "text/plain": [
       "deque([4, 1, 2])"
      ]
     },
     "execution_count": 30,
     "metadata": {},
     "output_type": "execute_result"
    }
   ],
   "source": [
    "queqe"
   ]
  }
 ],
 "metadata": {
  "kernelspec": {
   "display_name": "Python 3",
   "language": "python",
   "name": "python3"
  },
  "language_info": {
   "codemirror_mode": {
    "name": "ipython",
    "version": 3
   },
   "file_extension": ".py",
   "mimetype": "text/x-python",
   "name": "python",
   "nbconvert_exporter": "python",
   "pygments_lexer": "ipython3",
   "version": "3.11.9"
  }
 },
 "nbformat": 4,
 "nbformat_minor": 2
}
