{
 "cells": [
  {
   "cell_type": "markdown",
   "id": "9be8d5fe",
   "metadata": {},
   "source": [
    "1. Reverse a String:"
   ]
  },
  {
   "cell_type": "code",
   "execution_count": 2,
   "id": "139e8448",
   "metadata": {},
   "outputs": [
    {
     "data": {
      "text/plain": [
       "'rimaA'"
      ]
     },
     "execution_count": 2,
     "metadata": {},
     "output_type": "execute_result"
    }
   ],
   "source": [
    "def reverse_string(s):\n",
    "    return s[::-1]\n",
    "reverse_string(\"Aamir\")"
   ]
  },
  {
   "cell_type": "markdown",
   "id": "5a0b4054",
   "metadata": {},
   "source": [
    "2. Palindrome Check:"
   ]
  },
  {
   "cell_type": "code",
   "execution_count": 5,
   "id": "7974f63c",
   "metadata": {},
   "outputs": [
    {
     "data": {
      "text/plain": [
       "False"
      ]
     },
     "execution_count": 5,
     "metadata": {},
     "output_type": "execute_result"
    }
   ],
   "source": [
    "def is_palindrome(s):\n",
    "    return s == s[::-1]\n",
    "is_palindrome(\"Aamir\")"
   ]
  },
  {
   "cell_type": "markdown",
   "id": "992a760b",
   "metadata": {},
   "source": [
    "3. Anagram Check:"
   ]
  },
  {
   "cell_type": "code",
   "execution_count": 15,
   "id": "5de830fa",
   "metadata": {},
   "outputs": [
    {
     "data": {
      "text/plain": [
       "True"
      ]
     },
     "execution_count": 15,
     "metadata": {},
     "output_type": "execute_result"
    }
   ],
   "source": [
    "def is_anagram(str1, str2):\n",
    "    return sorted(str1.lower()) == sorted(str2.lower())\n",
    "is_anagram(\"Listen\", \"silent\")"
   ]
  },
  {
   "cell_type": "markdown",
   "id": "74a66c3a",
   "metadata": {},
   "source": [
    "4. Factorial:"
   ]
  },
  {
   "cell_type": "code",
   "execution_count": 18,
   "id": "643f0b98",
   "metadata": {},
   "outputs": [
    {
     "data": {
      "text/plain": [
       "120"
      ]
     },
     "execution_count": 18,
     "metadata": {},
     "output_type": "execute_result"
    }
   ],
   "source": [
    "def factorial(n):\n",
    "    if n== 0:\n",
    "        return 1\n",
    "    else:\n",
    "        return n * factorial(n-1)\n",
    "factorial(5)"
   ]
  },
  {
   "cell_type": "markdown",
   "id": "52a58225",
   "metadata": {},
   "source": [
    "5 .Fibonacci Sequence:"
   ]
  },
  {
   "cell_type": "code",
   "execution_count": 41,
   "id": "05bb506d",
   "metadata": {},
   "outputs": [
    {
     "data": {
      "text/plain": [
       "2"
      ]
     },
     "execution_count": 41,
     "metadata": {},
     "output_type": "execute_result"
    }
   ],
   "source": [
    "def fibonacci(n):\n",
    "    if n <= 1:\n",
    "        return n\n",
    "    else:\n",
    "        return fibonacci(n-1) + fibonacci(n-2)\n",
    "fibonacci(3)"
   ]
  },
  {
   "cell_type": "markdown",
   "id": "4ae5fecd",
   "metadata": {},
   "source": [
    "6.Sum of Digits:"
   ]
  },
  {
   "cell_type": "code",
   "execution_count": 30,
   "id": "f3f0cf9b",
   "metadata": {},
   "outputs": [
    {
     "data": {
      "text/plain": [
       "6"
      ]
     },
     "execution_count": 30,
     "metadata": {},
     "output_type": "execute_result"
    }
   ],
   "source": [
    "def sum_of_digits(n):\n",
    "    return sum(map(int, str(n)))\n",
    "sum_of_digits(123)"
   ]
  },
  {
   "cell_type": "raw",
   "id": "aa662cbd",
   "metadata": {},
   "source": [
    "7. Unique Elements:"
   ]
  },
  {
   "cell_type": "code",
   "execution_count": 40,
   "id": "aae7f904",
   "metadata": {},
   "outputs": [
    {
     "data": {
      "text/plain": [
       "[1, 2, 3, 4]"
      ]
     },
     "execution_count": 40,
     "metadata": {},
     "output_type": "execute_result"
    }
   ],
   "source": [
    "def find_unique_elements(lst):\n",
    "    return list(set(lst))\n",
    "find_unique_elements([1,2,3,4,1])"
   ]
  },
  {
   "cell_type": "raw",
   "id": "6476c213",
   "metadata": {},
   "source": [
    "8. Find the Missing Number:\n",
    "find the missing number in a sequence of numbers from 1 to n, where n is the length of the input list nums plus 1. \n",
    "n_sum = n * (n + 1) // 2 // gives us the sum of series \n",
    "# For n = 6, n_sum = 6 * (6 + 1) // 2 = 21"
   ]
  },
  {
   "cell_type": "code",
   "execution_count": 47,
   "id": "b0ce28b4",
   "metadata": {},
   "outputs": [
    {
     "data": {
      "text/plain": [
       "3"
      ]
     },
     "execution_count": 47,
     "metadata": {},
     "output_type": "execute_result"
    }
   ],
   "source": [
    "def find_missing_number(nums):\n",
    "    n = len(nums) + 1\n",
    "    return n * (n + 1) // 2 - sum(nums)\n",
    "\n",
    "find_missing_number([1,2,4,5,6])"
   ]
  },
  {
   "cell_type": "raw",
   "id": "0bfdf217",
   "metadata": {},
   "source": [
    "9. Maximum Subarray Sum:"
   ]
  },
  {
   "cell_type": "code",
   "execution_count": 51,
   "id": "8adbd390",
   "metadata": {},
   "outputs": [
    {
     "data": {
      "text/plain": [
       "10"
      ]
     },
     "execution_count": 51,
     "metadata": {},
     "output_type": "execute_result"
    }
   ],
   "source": [
    "def max_subarray_sum(nums):\n",
    "    max_sum = current_sum = nums[0]\n",
    "    for num in nums[1:]:\n",
    "        current_sum = max(num, current_sum + num)\n",
    "        max_sum = max(max_sum, current_sum)\n",
    "    return max_sum\n",
    "max_subarray_sum([1,2,3,4])"
   ]
  },
  {
   "cell_type": "raw",
   "id": "fd1d2cf3",
   "metadata": {},
   "source": [
    "10. Check for Duplicates:"
   ]
  },
  {
   "cell_type": "code",
   "execution_count": 54,
   "id": "d64a4aef",
   "metadata": {},
   "outputs": [
    {
     "data": {
      "text/plain": [
       "False"
      ]
     },
     "execution_count": 54,
     "metadata": {},
     "output_type": "execute_result"
    }
   ],
   "source": [
    "def has_duplicates(lst):\n",
    "    return len(lst) != len(set(lst))\n",
    "has_duplicates([1,2])"
   ]
  },
  {
   "cell_type": "raw",
   "id": "201a3e81",
   "metadata": {},
   "source": [
    "11. Binary Search:"
   ]
  },
  {
   "cell_type": "code",
   "execution_count": 57,
   "id": "3f243949",
   "metadata": {},
   "outputs": [
    {
     "data": {
      "text/plain": [
       "8"
      ]
     },
     "execution_count": 57,
     "metadata": {},
     "output_type": "execute_result"
    }
   ],
   "source": [
    "def binary_search(arr, target):\n",
    "    low, high = 0, len(arr) - 1\n",
    "    while low <= high:\n",
    "        mid = (low + high) // 2\n",
    "        if arr[mid] == target:\n",
    "            return mid\n",
    "        elif arr[mid] < target:\n",
    "            low = mid + 1\n",
    "        else:\n",
    "            high = mid - 1\n",
    "    return -1\n",
    "arr = [1, 2, 3, 4, 5, 6, 7, 8, 9]\n",
    "target = 9\n",
    "binary_search(arr, target)"
   ]
  },
  {
   "cell_type": "raw",
   "id": "b08b64cc",
   "metadata": {},
   "source": [
    "12 . Merge Sort:"
   ]
  },
  {
   "cell_type": "code",
   "execution_count": 65,
   "id": "b18b7250",
   "metadata": {},
   "outputs": [],
   "source": [
    "def merge_sort(arr):\n",
    "    if len(arr) > 1:\n",
    "        mid = len(arr) // 2\n",
    "        left_half = arr[:mid]\n",
    "        right_half = arr[mid:]\n",
    "\n",
    "        merge_sort(left_half)\n",
    "        merge_sort(right_half)\n",
    "\n",
    "        i = j = k = 0\n",
    "        while i < len(left_half) and j < len(right_half):\n",
    "            if left_half[i] < right_half[j]:\n",
    "                arr[k] = left_half[i]\n",
    "                i += 1\n",
    "            else:\n",
    "                arr[k] = right_half[j]\n",
    "                j += 1\n",
    "            k += 1\n",
    "\n",
    "        while i < len(left_half):\n",
    "            arr[k] = left_half[i]\n",
    "            i += 1\n",
    "            k += 1\n",
    "\n",
    "        while j < len(right_half):\n",
    "            arr[k] = right_half[j]\n",
    "            j += 1\n",
    "            k += 1\n",
    "arr = [1,21,1,3,4]\n",
    "merge_sort(arr)"
   ]
  },
  {
   "cell_type": "code",
   "execution_count": 66,
   "id": "935a1b02",
   "metadata": {},
   "outputs": [
    {
     "data": {
      "text/plain": [
       "[1, 1, 3, 4, 21]"
      ]
     },
     "execution_count": 66,
     "metadata": {},
     "output_type": "execute_result"
    }
   ],
   "source": [
    "arr"
   ]
  },
  {
   "cell_type": "raw",
   "id": "bacdd248",
   "metadata": {},
   "source": [
    "13. Linked List Reversal:"
   ]
  },
  {
   "cell_type": "code",
   "execution_count": 73,
   "id": "029073d8",
   "metadata": {},
   "outputs": [
    {
     "name": "stdout",
     "output_type": "stream",
     "text": [
      "5 -> 4 -> 3 -> 2 -> 1 -> "
     ]
    }
   ],
   "source": [
    "class ListNode:\n",
    "    def __init__(self, value=0, next=None):\n",
    "        self.value = value\n",
    "        self.next = next\n",
    "\n",
    "def reverse_linked_list(head):\n",
    "    prev = None\n",
    "    current = head\n",
    "    while current is not None:\n",
    "        next_node = current.next\n",
    "        current.next = prev\n",
    "        prev = current\n",
    "        current = next_node\n",
    "    return prev\n",
    "# Original Linked List: 1 -> 2 -> 3 -> 4 -> 5\n",
    "head = ListNode(1, ListNode(2, ListNode(3, ListNode(4, ListNode(5)))))\n",
    "# Reverse the Linked List\n",
    "reversed_head = reverse_linked_list(head)\n",
    "# Traverse the Reversed Linked List\n",
    "current_node = reversed_head\n",
    "while current_node is not None:\n",
    "    print(current_node.value, end=\" -> \")\n",
    "    current_node = current_node.next"
   ]
  },
  {
   "cell_type": "code",
   "execution_count": 7,
   "id": "45d6a642",
   "metadata": {},
   "outputs": [],
   "source": [
    "# Detect Cycle in a Linked List:\n",
    "\n",
    "def has_cycle(head):\n",
    "    slow = fast = head\n",
    "    while fast and fast.next:\n",
    "        slow = slow.next\n",
    "        fast = fast.next.next\n",
    "        if slow == fast:\n",
    "            return True\n",
    "    return False"
   ]
  },
  {
   "cell_type": "code",
   "execution_count": 8,
   "id": "c27bc918",
   "metadata": {},
   "outputs": [],
   "source": [
    "# Stack Implementation:\n",
    "\n",
    "class Stack:\n",
    "    def __init__(self):\n",
    "        self.items = []\n",
    "\n",
    "    def is_empty(self):\n",
    "        return len(self.items) == 0\n",
    "\n",
    "    def push(self, item):\n",
    "        self.items.append(item)\n",
    "\n",
    "    def pop(self):\n",
    "        if not self.is_empty():\n",
    "            return self.items.pop()\n",
    "\n",
    "    def peek(self):\n",
    "        if not self.is_empty():\n",
    "            return self.items[-1]\n",
    "\n",
    "    def size(self):\n",
    "        return len(self.items)"
   ]
  },
  {
   "cell_type": "code",
   "execution_count": 9,
   "id": "65c6a4a8",
   "metadata": {},
   "outputs": [],
   "source": [
    "# Queue Implementation:\n",
    "\n",
    "class QueueUsingStacks:\n",
    "    def __init__(self):\n",
    "        self.stack1 = []\n",
    "        self.stack2 = []\n",
    "\n",
    "    def enqueue(self, item):\n",
    "        self.stack1.append(item)\n",
    "\n",
    "    def dequeue(self):\n",
    "        if not self.stack2:\n",
    "            while self.stack1:\n",
    "                self.stack2.append(self.stack1.pop())\n",
    "        if not self.stack2:\n",
    "            return None\n",
    "        return self.stack2.pop()"
   ]
  },
  {
   "cell_type": "code",
   "execution_count": 10,
   "id": "a12258d6",
   "metadata": {},
   "outputs": [],
   "source": [
    "# Depth-First Search (DFS):\n",
    "\n",
    "def dfs(graph, start, visited=None):\n",
    "    if visited is None:\n",
    "        visited = set()\n",
    "    visited.add(start)\n",
    "    for neighbor in graph[start] - visited:\n",
    "        dfs(graph, neighbor, visited)\n",
    "    return visited"
   ]
  },
  {
   "cell_type": "code",
   "execution_count": 11,
   "id": "b1ec544c",
   "metadata": {},
   "outputs": [],
   "source": [
    "# Breadth-First Search (BFS):\n",
    "\n",
    "from collections import deque\n",
    "\n",
    "def bfs(graph, start):\n",
    "    visited = set()\n",
    "    queue = deque([start])\n",
    "    while queue:\n",
    "        vertex = queue.popleft()\n",
    "        if vertex not in visited:\n",
    "            visited.add(vertex)\n",
    "            queue.extend(graph[vertex] - visited)\n",
    "    return visited"
   ]
  },
  {
   "cell_type": "code",
   "execution_count": 12,
   "id": "01fb5531",
   "metadata": {},
   "outputs": [],
   "source": [
    "# Check for Balanced Parentheses:\n",
    "\n",
    "def is_balanced_parentheses(s):\n",
    "    stack = []\n",
    "    parentheses = {')': '(', '}': '{', ']': '['}\n",
    "    for char in s:\n",
    "        if char in parentheses.values():\n",
    "            stack.append(char)\n",
    "        elif char in parentheses:\n",
    "            if not stack or stack.pop() != parentheses[char]:\n",
    "                return False\n",
    "    return not stack"
   ]
  },
  {
   "cell_type": "code",
   "execution_count": 13,
   "id": "ab3c1b3f",
   "metadata": {},
   "outputs": [],
   "source": [
    "#Calculate Power:\n",
    "\n",
    "def power(x, n):\n",
    "    if n == 0:\n",
    "        return 1\n",
    "    if n % 2 == 0:\n",
    "        half_pow = power(x, n // 2)\n",
    "        return half_pow * half_pow\n",
    "    else:\n",
    "        return x * power(x, n - 1)"
   ]
  },
  {
   "cell_type": "code",
   "execution_count": null,
   "id": "c39a6fb3",
   "metadata": {},
   "outputs": [],
   "source": [
    "# Rotate Array:\n",
    "\n",
    "def rotate_array(nums, k):\n",
    "    k = k % len(nums)\n",
    "    nums[:] = nums[-k:] + nums[:-k]\n",
    "Find Peak Element:\n",
    "\n",
    "def find_peak_element(nums):\n",
    "    low, high = 0, len(nums) - 1\n",
    "    while low < high:\n",
    "        mid = (low + high) // 2\n",
    "        if nums[mid] < nums[mid + 1]:\n",
    "            low = mid + 1\n",
    "        else:\n",
    "            high = mid\n",
    "    return low"
   ]
  },
  {
   "cell_type": "code",
   "execution_count": 14,
   "id": "1b3b12ea",
   "metadata": {},
   "outputs": [],
   "source": [
    "# Largest Sum Contiguous Subarray:\n",
    "\n",
    "def max_subarray_sum(nums):\n",
    "    max_sum = current_sum = nums[0]\n",
    "    for num in nums[1:]:\n",
    "        current_sum = max(num, current_sum + num)\n",
    "        max_sum = max(max_sum, current_sum)\n",
    "    return max_sum"
   ]
  },
  {
   "cell_type": "code",
   "execution_count": 15,
   "id": "c16f0882",
   "metadata": {},
   "outputs": [],
   "source": [
    "# Intersection of Two Arrays:\n",
    "\n",
    "def intersection(nums1, nums2):\n",
    "    return list(set(nums1) & set(nums2))"
   ]
  },
  {
   "cell_type": "code",
   "execution_count": 16,
   "id": "2d38fe05",
   "metadata": {},
   "outputs": [],
   "source": [
    "# Valid Sudoku:\n",
    "\n",
    "def is_valid_sudoku(board):\n",
    "    seen = set()\n",
    "    for i in range(9):\n",
    "        for j in range(9):\n",
    "            current_value = board[i][j]\n",
    "            if current_value != '.':\n",
    "                if (i, current_value) in seen or (current_value, j) in seen or (i // 3, j // 3, current_value) in seen:\n",
    "                    return False\n",
    "                seen.add((i, current_value))\n",
    "                seen.add((current_value, j))\n",
    "                seen.add((i // 3, j // 3, current_value))\n",
    "    return True"
   ]
  },
  {
   "cell_type": "code",
   "execution_count": 17,
   "id": "ea133470",
   "metadata": {},
   "outputs": [],
   "source": [
    "# String Compression:\n",
    "\n",
    "def compress_string(s):\n",
    "    result = \"\"\n",
    "    count = 1\n",
    "    for i in range(1, len(s)):\n",
    "        if s[i] == s[i - 1]:\n",
    "            count += 1\n",
    "        else:\n",
    "            result += s[i - 1] + str(count)\n",
    "            count = 1\n",
    "    result += s[-1] + str(count)\n",
    "    return result if len(result) < len(s) else s"
   ]
  },
  {
   "cell_type": "code",
   "execution_count": 18,
   "id": "7cc1bed8",
   "metadata": {},
   "outputs": [],
   "source": [
    "# Count and Say:\n",
    "\n",
    "def count_and_say(n):\n",
    "    result = \"1\"\n",
    "    for _ in range(n - 1):\n",
    "        temp = \"\"\n",
    "        count = 1\n",
    "        for i in range(1, len(result)):\n",
    "            if result[i] == result[i - 1]:\n",
    "                count += 1\n",
    "            else:\n",
    "                temp += str(count) + result[i - 1]\n",
    "                count = 1\n",
    "        temp += str(count) + result[-1]\n",
    "        result = temp\n",
    "    return result"
   ]
  },
  {
   "cell_type": "code",
   "execution_count": 19,
   "id": "dcebafdb",
   "metadata": {},
   "outputs": [],
   "source": [
    "# Minimum Path Sum:\n",
    "\n",
    "def min_path_sum(grid):\n",
    "    for i in range(len(grid)):\n",
    "        for j in range(len(grid[0])):\n",
    "            if i == 0 and j == 0:\n",
    "                continue\n",
    "            elif i == 0:\n",
    "                grid[i][j] += grid[i][j - 1]\n",
    "            elif j == 0:\n",
    "                grid[i][j] += grid[i - 1][j]\n",
    "            else:\n",
    "                grid[i][j] += min(grid[i - 1][j], grid[i][j - 1])\n",
    "    return grid[-1][-1]"
   ]
  },
  {
   "cell_type": "code",
   "execution_count": 2,
   "id": "283ec8b1",
   "metadata": {},
   "outputs": [],
   "source": [
    "#First Non-Repeating Character:\n",
    "\n",
    "def first_non_repeating_char(s):\n",
    "    char_count = {}\n",
    "    for char in s:\n",
    "        char_count[char] = char_count.get(char, 0) + 1\n",
    "    for char in s:\n",
    "        if char_count[char] == 1:\n",
    "            return char\n",
    "    return None"
   ]
  },
  {
   "cell_type": "code",
   "execution_count": 20,
   "id": "ae64187b",
   "metadata": {},
   "outputs": [],
   "source": [
    "#Longest Increasing Subsequence:\n",
    "\n",
    "def length_of_lis(nums):\n",
    "    if not nums:\n",
    "        return 0\n",
    "    dp = [1] * len(nums)\n",
    "    for i in range(1, len(nums)):\n",
    "        for j in range(i):\n",
    "            if nums[i] > nums[j]:\n",
    "                dp[i] = max(dp[i], dp[j] + 1)\n",
    "    return max(dp)"
   ]
  },
  {
   "cell_type": "markdown",
   "id": "58269613",
   "metadata": {},
   "source": [
    "# Generators in Python\n",
    "- A Generator in Python is a function \n",
    "- that returns an iterator using the Yield keyword. In this article, we will discuss how the generator function works in Python."
   ]
  },
  {
   "cell_type": "code",
   "execution_count": 4,
   "id": "ba180ecc",
   "metadata": {},
   "outputs": [
    {
     "name": "stdout",
     "output_type": "stream",
     "text": [
      "1\n",
      "2\n",
      "3\n"
     ]
    }
   ],
   "source": [
    "# A generator function that yields 1 for first time, \n",
    "# 2 second time and 3 third time \n",
    "def simpleGeneratorFun(): \n",
    "    yield 1            \n",
    "    yield 2            \n",
    "    yield 3            \n",
    "   \n",
    "# Driver code to check above generator function \n",
    "for value in simpleGeneratorFun():  \n",
    "    print(value)"
   ]
  },
  {
   "cell_type": "markdown",
   "id": "1df81a09",
   "metadata": {},
   "source": [
    "# Decorators in Python\n",
    "\n",
    "- Decorators are a very powerful and useful tool in Python since it allows programmers to modify \n",
    "the behaviour of a function or class. Decorators allow us to wrap another function in order to \n",
    "extend the behaviour of the wrapped function, without permanently modifying it. \n",
    "But before diving deep into decorators let us understand some concepts that will come in handy in learning the decorators.\n",
    "- https://www.geeksforgeeks.org/decorators-in-python/\n"
   ]
  },
  {
   "cell_type": "code",
   "execution_count": 6,
   "id": "14fd99ce",
   "metadata": {},
   "outputs": [
    {
     "name": "stdout",
     "output_type": "stream",
     "text": [
      "Something is happening before the function is called.\n",
      "Hello!\n",
      "Something is happening after the function is called.\n"
     ]
    }
   ],
   "source": [
    "# Decorator function\n",
    "def my_decorator(func):\n",
    "    def wrapper():\n",
    "        print(\"Something is happening before the function is called.\")\n",
    "        func()  # Call the original function\n",
    "        print(\"Something is happening after the function is called.\")\n",
    "    return wrapper\n",
    "\n",
    "# Function decorated with my_decorator\n",
    "@my_decorator\n",
    "def say_hello():\n",
    "    print(\"Hello!\")\n",
    "\n",
    "# Calling the decorated function\n",
    "say_hello()\n"
   ]
  },
  {
   "cell_type": "markdown",
   "id": "b5bac637",
   "metadata": {},
   "source": [
    "### Write a program to divide a given tuple into two tuples that contain even and odd indexed elements of the original tuple. Print both these tuples in the given output format.\n",
    "\n",
    "Note: The input tuple follows 1-based indexing. This means the element at index 0  is treated as having index as 1. "
   ]
  },
  {
   "cell_type": "code",
   "execution_count": 1,
   "id": "15b628db",
   "metadata": {},
   "outputs": [
    {
     "name": "stdout",
     "output_type": "stream",
     "text": [
      "Enter elements of the tuple separated by spaces: 1m2\n"
     ]
    },
    {
     "ename": "ValueError",
     "evalue": "invalid literal for int() with base 10: '1m2'",
     "output_type": "error",
     "traceback": [
      "\u001b[1;31m---------------------------------------------------------------------------\u001b[0m",
      "\u001b[1;31mValueError\u001b[0m                                Traceback (most recent call last)",
      "Cell \u001b[1;32mIn[1], line 21\u001b[0m\n\u001b[0;32m     18\u001b[0m     \u001b[38;5;28mprint\u001b[39m(\u001b[38;5;124m\"\u001b[39m\u001b[38;5;124mTuple with odd indexed elements:\u001b[39m\u001b[38;5;124m\"\u001b[39m, odd_tuple)\n\u001b[0;32m     20\u001b[0m \u001b[38;5;28;01mif\u001b[39;00m \u001b[38;5;18m__name__\u001b[39m \u001b[38;5;241m==\u001b[39m \u001b[38;5;124m\"\u001b[39m\u001b[38;5;124m__main__\u001b[39m\u001b[38;5;124m\"\u001b[39m:\n\u001b[1;32m---> 21\u001b[0m     main()\n",
      "Cell \u001b[1;32mIn[1], line 11\u001b[0m, in \u001b[0;36mmain\u001b[1;34m()\u001b[0m\n\u001b[0;32m      8\u001b[0m input_tuple \u001b[38;5;241m=\u001b[39m \u001b[38;5;28mtuple\u001b[39m(\u001b[38;5;28minput\u001b[39m(\u001b[38;5;124m\"\u001b[39m\u001b[38;5;124mEnter elements of the tuple separated by spaces: \u001b[39m\u001b[38;5;124m\"\u001b[39m)\u001b[38;5;241m.\u001b[39msplit())\n\u001b[0;32m     10\u001b[0m \u001b[38;5;66;03m# Convert input elements to integers\u001b[39;00m\n\u001b[1;32m---> 11\u001b[0m input_tuple \u001b[38;5;241m=\u001b[39m \u001b[38;5;28mtuple\u001b[39m(\u001b[38;5;28mmap\u001b[39m(\u001b[38;5;28mint\u001b[39m, input_tuple))\n\u001b[0;32m     13\u001b[0m \u001b[38;5;66;03m# Divide the tuple\u001b[39;00m\n\u001b[0;32m     14\u001b[0m even_tuple, odd_tuple \u001b[38;5;241m=\u001b[39m divide_tuple(input_tuple)\n",
      "\u001b[1;31mValueError\u001b[0m: invalid literal for int() with base 10: '1m2'"
     ]
    }
   ],
   "source": [
    "def divide_tuple(tup):\n",
    "    even_indexed = tup[0::2]\n",
    "    odd_indexed = tup[1::2]\n",
    "    return even_indexed, odd_indexed\n",
    "\n",
    "def main():\n",
    "    # Input tuple\n",
    "    input_tuple = tuple(input(\"Enter elements of the tuple separated by spaces: \").split())\n",
    "\n",
    "    # Convert input elements to integers\n",
    "    input_tuple = tuple(map(int, input_tuple))\n",
    "\n",
    "    # Divide the tuple\n",
    "    even_tuple, odd_tuple = divide_tuple(input_tuple)\n",
    "\n",
    "    # Printing the tuples\n",
    "    print(\"Tuple with even indexed elements:\", even_tuple)\n",
    "    print(\"Tuple with odd indexed elements:\", odd_tuple)\n",
    "\n",
    "if __name__ == \"__main__\":\n",
    "    main()"
   ]
  },
  {
   "cell_type": "markdown",
   "id": "2a796ca5",
   "metadata": {},
   "source": [
    "# Python Dictionary, Default Dict Counter Tricks"
   ]
  },
  {
   "cell_type": "code",
   "execution_count": 9,
   "id": "70c902f4",
   "metadata": {},
   "outputs": [
    {
     "name": "stdout",
     "output_type": "stream",
     "text": [
      "{'a': 2, 'm': 1, 'i': 1, 'r': 1}\n"
     ]
    }
   ],
   "source": [
    "def get_counter(s):\n",
    "    counter = {}\n",
    "    for c in s:\n",
    "        if c in counter:\n",
    "            counter[c]+=1\n",
    "        else:\n",
    "            counter[c] = 1\n",
    "    return counter\n",
    "print(get_counter('aamir'))"
   ]
  },
  {
   "cell_type": "code",
   "execution_count": 16,
   "id": "accfd1c9",
   "metadata": {},
   "outputs": [
    {
     "name": "stdout",
     "output_type": "stream",
     "text": [
      "defaultdict(<class 'int'>, {'a': 2, 'm': 1, 'i': 1, 'r': 1})\n"
     ]
    }
   ],
   "source": [
    "# better Way \n",
    "from collections import defaultdict\n",
    "def get_counter(s):\n",
    "    counter = defaultdict(int)\n",
    "    for c in s:\n",
    "        counter[c]+=1  # it will not through error as we are using the default dict and it will imdedaily put that in dict\n",
    "    return counter\n",
    "print(get_counter('aamir'))"
   ]
  },
  {
   "cell_type": "code",
   "execution_count": 18,
   "id": "0661a269",
   "metadata": {},
   "outputs": [
    {
     "name": "stdout",
     "output_type": "stream",
     "text": [
      "Counter({'a': 2, 'm': 1, 'i': 1, 'r': 1})\n"
     ]
    }
   ],
   "source": [
    "# It is common patter and it is fully implemneted \n",
    "from collections import Counter\n",
    "def get_counter(s):\n",
    "    return Counter(s)\n",
    "print(get_counter('aamir'))"
   ]
  },
  {
   "cell_type": "code",
   "execution_count": null,
   "id": "44e5f1dc",
   "metadata": {},
   "outputs": [],
   "source": []
  }
 ],
 "metadata": {
  "kernelspec": {
   "display_name": "Python 3 (ipykernel)",
   "language": "python",
   "name": "python3"
  },
  "language_info": {
   "codemirror_mode": {
    "name": "ipython",
    "version": 3
   },
   "file_extension": ".py",
   "mimetype": "text/x-python",
   "name": "python",
   "nbconvert_exporter": "python",
   "pygments_lexer": "ipython3",
   "version": "3.11.3"
  }
 },
 "nbformat": 4,
 "nbformat_minor": 5
}
