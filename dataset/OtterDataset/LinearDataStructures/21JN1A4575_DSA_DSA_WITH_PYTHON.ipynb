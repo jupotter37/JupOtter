{
  "nbformat": 4,
  "nbformat_minor": 0,
  "metadata": {
    "colab": {
      "provenance": [],
      "authorship_tag": "ABX9TyMU7IpDT+ozw3EfyBBLuVY2",
      "include_colab_link": true
    },
    "kernelspec": {
      "name": "python3",
      "display_name": "Python 3"
    },
    "language_info": {
      "name": "python"
    }
  },
  "cells": [
    {
      "cell_type": "markdown",
      "metadata": {
        "id": "view-in-github",
        "colab_type": "text"
      },
      "source": [
        "<a href=\"https://colab.research.google.com/github/21JN1A4575/DSA/blob/main/DSA_WITH_PYTHON.ipynb\" target=\"_parent\"><img src=\"https://colab.research.google.com/assets/colab-badge.svg\" alt=\"Open In Colab\"/></a>"
      ]
    },
    {
      "cell_type": "markdown",
      "source": [
        "# **STACKS**"
      ],
      "metadata": {
        "id": "E_M0my7HvJdl"
      }
    },
    {
      "cell_type": "code",
      "source": [
        "stack=[]\n",
        "stack.append(10)\n",
        "stack.append(20)\n",
        "stack.append(30)\n",
        "print(stack)\n",
        "stack.pop()\n",
        "print(stack)\n",
        "stack.pop()\n",
        "print(stack)\n",
        "stack.pop()\n",
        "print(stack)"
      ],
      "metadata": {
        "colab": {
          "base_uri": "https://localhost:8080/"
        },
        "id": "gIuxO2vOwUdS",
        "outputId": "4768e2fa-70b2-46d3-eade-b39905c684a3"
      },
      "execution_count": null,
      "outputs": [
        {
          "output_type": "stream",
          "name": "stdout",
          "text": [
            "[10, 20, 30]\n",
            "[10, 20]\n",
            "[10]\n",
            "[]\n"
          ]
        }
      ]
    },
    {
      "cell_type": "code",
      "source": [
        "stack=[]\n",
        "def push():\n",
        "  element = int(input())\n",
        "  stack.append(element)\n",
        "  print(stack)\n",
        "def pop():\n",
        "  if len(stack)==0:\n",
        "    print(\"stack is empty\")\n",
        "  else:\n",
        "    print(stack.pop())\n",
        "    print(stack)\n",
        "while True:\n",
        "  print(\"select operation 1.push 2.pop 3.quit\")\n",
        "  choice = int(input())\n",
        "  if choice==1:\n",
        "    push()\n",
        "  elif choice==2:\n",
        "    pop()\n",
        "  elif choice==3:\n",
        "    break\n",
        "  else:\n",
        "    print(\"enter the correct operation\")\n"
      ],
      "metadata": {
        "colab": {
          "base_uri": "https://localhost:8080/"
        },
        "id": "ulXwVQoLvLcY",
        "outputId": "5bd6f506-0107-4254-f545-b7c99ca46fd9"
      },
      "execution_count": null,
      "outputs": [
        {
          "name": "stdout",
          "output_type": "stream",
          "text": [
            "select operation 1.push 2.pop 3.quit\n",
            "1\n",
            "33\n",
            "[33]\n",
            "select operation 1.push 2.pop 3.quit\n",
            "1\n",
            "44\n",
            "[33, 44]\n",
            "select operation 1.push 2.pop 3.quit\n",
            "1\n",
            "55\n",
            "[33, 44, 55]\n",
            "select operation 1.push 2.pop 3.quit\n",
            "2\n",
            "55\n",
            "[33, 44]\n",
            "select operation 1.push 2.pop 3.quit\n",
            "2\n",
            "44\n",
            "[33]\n",
            "select operation 1.push 2.pop 3.quit\n",
            "2\n",
            "33\n",
            "[]\n",
            "select operation 1.push 2.pop 3.quit\n",
            "2\n",
            "stack is empty\n",
            "select operation 1.push 2.pop 3.quit\n",
            "3\n"
          ]
        }
      ]
    },
    {
      "cell_type": "markdown",
      "source": [
        "**collections**"
      ],
      "metadata": {
        "id": "jGyMH9hgyKhQ"
      }
    },
    {
      "cell_type": "code",
      "source": [
        "import collections\n",
        "stack = collections.deque()\n",
        "stack"
      ],
      "metadata": {
        "colab": {
          "base_uri": "https://localhost:8080/"
        },
        "id": "1Pbss5FH37uZ",
        "outputId": "7d388c55-3efd-4379-b723-0be91e546929"
      },
      "execution_count": null,
      "outputs": [
        {
          "output_type": "execute_result",
          "data": {
            "text/plain": [
              "deque([])"
            ]
          },
          "metadata": {},
          "execution_count": 5
        }
      ]
    },
    {
      "cell_type": "code",
      "source": [
        "stack.append(10)\n",
        "stack.append(20)\n",
        "stack.append(30)\n",
        "stack\n"
      ],
      "metadata": {
        "colab": {
          "base_uri": "https://localhost:8080/"
        },
        "id": "EtpC_J0v4NdN",
        "outputId": "7f2471ea-cf42-4a49-d10d-72e431a439d6"
      },
      "execution_count": null,
      "outputs": [
        {
          "output_type": "execute_result",
          "data": {
            "text/plain": [
              "deque([10, 20, 30])"
            ]
          },
          "metadata": {},
          "execution_count": 6
        }
      ]
    },
    {
      "cell_type": "code",
      "source": [
        "stack.pop()\n",
        "stack.pop()\n",
        "stack.pop()\n"
      ],
      "metadata": {
        "colab": {
          "base_uri": "https://localhost:8080/"
        },
        "id": "S5mFIOuO4cHn",
        "outputId": "ffd09c80-9d7d-412f-ba70-7f8ee3883021"
      },
      "execution_count": null,
      "outputs": [
        {
          "output_type": "execute_result",
          "data": {
            "text/plain": [
              "10"
            ]
          },
          "metadata": {},
          "execution_count": 7
        }
      ]
    },
    {
      "cell_type": "code",
      "source": [
        "len(stack)==0"
      ],
      "metadata": {
        "colab": {
          "base_uri": "https://localhost:8080/"
        },
        "id": "22hwQQOx4n1D",
        "outputId": "15b1d1fb-a4b9-4903-b448-91a7fa23a778"
      },
      "execution_count": null,
      "outputs": [
        {
          "output_type": "execute_result",
          "data": {
            "text/plain": [
              "True"
            ]
          },
          "metadata": {},
          "execution_count": 9
        }
      ]
    },
    {
      "cell_type": "code",
      "source": [
        "import queue\n",
        "stack = queue.LifoQueue()\n",
        "stack.put(10)\n",
        "stack.put(20)\n",
        "stack.put(30)\n",
        "stack"
      ],
      "metadata": {
        "colab": {
          "base_uri": "https://localhost:8080/"
        },
        "id": "-p-p-yOa4uil",
        "outputId": "c37e15e7-5402-4f03-cd99-c0500378cbaa"
      },
      "execution_count": null,
      "outputs": [
        {
          "output_type": "execute_result",
          "data": {
            "text/plain": [
              "<queue.LifoQueue at 0x7f503eb92f20>"
            ]
          },
          "metadata": {},
          "execution_count": 4
        }
      ]
    },
    {
      "cell_type": "code",
      "source": [
        "import queue\n",
        "stack = queue.LifoQueue(3)\n",
        "stack.put(10)\n",
        "stack.put(20)\n",
        "stack.put(30)\n",
        "stack.put(40,timeout=1)"
      ],
      "metadata": {
        "colab": {
          "base_uri": "https://localhost:8080/",
          "height": 297
        },
        "id": "fn5lx20k5hT-",
        "outputId": "f724d9de-6585-4935-e5ec-ba4389633f69"
      },
      "execution_count": null,
      "outputs": [
        {
          "output_type": "error",
          "ename": "Full",
          "evalue": "",
          "traceback": [
            "\u001b[0;31m---------------------------------------------------------------------------\u001b[0m",
            "\u001b[0;31mFull\u001b[0m                                      Traceback (most recent call last)",
            "\u001b[0;32m<ipython-input-17-e701a99092e5>\u001b[0m in \u001b[0;36m<cell line: 6>\u001b[0;34m()\u001b[0m\n\u001b[1;32m      4\u001b[0m \u001b[0mstack\u001b[0m\u001b[0;34m.\u001b[0m\u001b[0mput\u001b[0m\u001b[0;34m(\u001b[0m\u001b[0;36m20\u001b[0m\u001b[0;34m)\u001b[0m\u001b[0;34m\u001b[0m\u001b[0;34m\u001b[0m\u001b[0m\n\u001b[1;32m      5\u001b[0m \u001b[0mstack\u001b[0m\u001b[0;34m.\u001b[0m\u001b[0mput\u001b[0m\u001b[0;34m(\u001b[0m\u001b[0;36m30\u001b[0m\u001b[0;34m)\u001b[0m\u001b[0;34m\u001b[0m\u001b[0;34m\u001b[0m\u001b[0m\n\u001b[0;32m----> 6\u001b[0;31m \u001b[0mstack\u001b[0m\u001b[0;34m.\u001b[0m\u001b[0mput\u001b[0m\u001b[0;34m(\u001b[0m\u001b[0;36m40\u001b[0m\u001b[0;34m,\u001b[0m\u001b[0mtimeout\u001b[0m\u001b[0;34m=\u001b[0m\u001b[0;36m1\u001b[0m\u001b[0;34m)\u001b[0m\u001b[0;34m\u001b[0m\u001b[0;34m\u001b[0m\u001b[0m\n\u001b[0m",
            "\u001b[0;32m/usr/lib/python3.10/queue.py\u001b[0m in \u001b[0;36mput\u001b[0;34m(self, item, block, timeout)\u001b[0m\n\u001b[1;32m    146\u001b[0m                         \u001b[0mremaining\u001b[0m \u001b[0;34m=\u001b[0m \u001b[0mendtime\u001b[0m \u001b[0;34m-\u001b[0m \u001b[0mtime\u001b[0m\u001b[0;34m(\u001b[0m\u001b[0;34m)\u001b[0m\u001b[0;34m\u001b[0m\u001b[0;34m\u001b[0m\u001b[0m\n\u001b[1;32m    147\u001b[0m                         \u001b[0;32mif\u001b[0m \u001b[0mremaining\u001b[0m \u001b[0;34m<=\u001b[0m \u001b[0;36m0.0\u001b[0m\u001b[0;34m:\u001b[0m\u001b[0;34m\u001b[0m\u001b[0;34m\u001b[0m\u001b[0m\n\u001b[0;32m--> 148\u001b[0;31m                             \u001b[0;32mraise\u001b[0m \u001b[0mFull\u001b[0m\u001b[0;34m\u001b[0m\u001b[0;34m\u001b[0m\u001b[0m\n\u001b[0m\u001b[1;32m    149\u001b[0m                         \u001b[0mself\u001b[0m\u001b[0;34m.\u001b[0m\u001b[0mnot_full\u001b[0m\u001b[0;34m.\u001b[0m\u001b[0mwait\u001b[0m\u001b[0;34m(\u001b[0m\u001b[0mremaining\u001b[0m\u001b[0;34m)\u001b[0m\u001b[0;34m\u001b[0m\u001b[0;34m\u001b[0m\u001b[0m\n\u001b[1;32m    150\u001b[0m             \u001b[0mself\u001b[0m\u001b[0;34m.\u001b[0m\u001b[0m_put\u001b[0m\u001b[0;34m(\u001b[0m\u001b[0mitem\u001b[0m\u001b[0;34m)\u001b[0m\u001b[0;34m\u001b[0m\u001b[0;34m\u001b[0m\u001b[0m\n",
            "\u001b[0;31mFull\u001b[0m: "
          ]
        }
      ]
    },
    {
      "cell_type": "markdown",
      "source": [
        "# **QUEUES**"
      ],
      "metadata": {
        "id": "jzTdrzAQ71Jx"
      }
    },
    {
      "cell_type": "code",
      "source": [
        "queue=[]\n",
        "queue.append(10)\n",
        "queue.append(20)\n",
        "queue.append(30)\n",
        "queue"
      ],
      "metadata": {
        "colab": {
          "base_uri": "https://localhost:8080/"
        },
        "id": "smoFRlYY69mM",
        "outputId": "d46cccc7-1808-49c9-dce9-611776668cd6"
      },
      "execution_count": null,
      "outputs": [
        {
          "output_type": "stream",
          "name": "stdout",
          "text": [
            "[10, 20, 30]\n",
            "[20, 30]\n",
            "[30]\n"
          ]
        }
      ]
    },
    {
      "cell_type": "code",
      "source": [
        "queue=[]\n",
        "queue.insert(0,10)\n",
        "queue.insert(0,20)\n",
        "queue.insert(0,30)\n",
        "print(queue)\n",
        "queue.pop()\n",
        "print(queue)\n",
        "queue.pop()\n",
        "print(queue)"
      ],
      "metadata": {
        "colab": {
          "base_uri": "https://localhost:8080/"
        },
        "id": "vQsGiAgn8nIt",
        "outputId": "84ec4229-272e-49d3-85f0-b3671739949f"
      },
      "execution_count": null,
      "outputs": [
        {
          "output_type": "stream",
          "name": "stdout",
          "text": [
            "[30, 20, 10]\n",
            "[30, 20]\n",
            "[30]\n"
          ]
        }
      ]
    },
    {
      "cell_type": "code",
      "source": [
        "queue=[]\n",
        "def enqueue():\n",
        "  element = int(input())\n",
        "  queue.append(element)\n",
        "  print(queue)\n",
        "def dequeue():\n",
        "  if len(queue)==0:\n",
        "    print(\"queue is empty\")\n",
        "  else:\n",
        "    e=queue.pop(0)\n",
        "    print(\"removed element\",e)\n",
        "    print(queue)\n",
        "while True:\n",
        "  print(\"select operation 1.enqueue 2.dequeue 3.quit 111\")\n",
        "  choice = int(input())\n",
        "  if choice==1:\n",
        "    enqueue()\n",
        "  elif choice==2:\n",
        "    dequeue()\n",
        "  elif choice==3:\n",
        "    break\n",
        "  else:\n",
        "    print(\"corrrect option\")\n"
      ],
      "metadata": {
        "colab": {
          "base_uri": "https://localhost:8080/"
        },
        "id": "tvvX7KRB83py",
        "outputId": "afd262c0-463b-416d-ee4d-ccc7a17b6c5f"
      },
      "execution_count": null,
      "outputs": [
        {
          "name": "stdout",
          "output_type": "stream",
          "text": [
            "select operation 1.enqueue 2.dequeue 3.quit 111\n",
            "1\n",
            "11\n",
            "[11]\n",
            "select operation 1.enqueue 2.dequeue 3.quit 111\n",
            "1\n",
            "12\n",
            "[11, 12]\n",
            "select operation 1.enqueue 2.dequeue 3.quit 111\n",
            "2\n",
            "removed element 11\n",
            "[12]\n",
            "select operation 1.enqueue 2.dequeue 3.quit 111\n",
            "2\n",
            "removed element 12\n",
            "[]\n",
            "select operation 1.enqueue 2.dequeue 3.quit 111\n",
            "3\n"
          ]
        }
      ]
    },
    {
      "cell_type": "markdown",
      "source": [
        "**collections**"
      ],
      "metadata": {
        "id": "--sbLhUW_sWL"
      }
    },
    {
      "cell_type": "code",
      "source": [
        "import collections\n",
        "queue=collections.deque()\n",
        "queue\n",
        "queue.appendleft(10)\n",
        "queue.appendleft(20)\n",
        "queue.appendleft(30)\n",
        "queue\n",
        "queue.pop()\n",
        "queue\n",
        "queue.pop()\n",
        "queue\n",
        "\n"
      ],
      "metadata": {
        "colab": {
          "base_uri": "https://localhost:8080/"
        },
        "id": "wjnIfmT2_u7Y",
        "outputId": "7474c69a-c21d-44d8-eedd-d649f61a918c"
      },
      "execution_count": null,
      "outputs": [
        {
          "output_type": "execute_result",
          "data": {
            "text/plain": [
              "deque([30])"
            ]
          },
          "metadata": {},
          "execution_count": 39
        }
      ]
    },
    {
      "cell_type": "code",
      "source": [
        "import collections\n",
        "queue=collections.deque()\n",
        "queue\n",
        "queue.append(10)\n",
        "queue.append(20)\n",
        "queue.append(30)\n",
        "queue\n",
        "queue.popleft()\n",
        "queue\n",
        "queue.popleft()\n",
        "queue\n",
        "\n",
        "\n"
      ],
      "metadata": {
        "colab": {
          "base_uri": "https://localhost:8080/"
        },
        "id": "__JQU_p9AOCC",
        "outputId": "bf5bc1cf-7922-4c2c-f8ad-2cc1bb058d1e"
      },
      "execution_count": null,
      "outputs": [
        {
          "output_type": "execute_result",
          "data": {
            "text/plain": [
              "deque([30])"
            ]
          },
          "metadata": {},
          "execution_count": 38
        }
      ]
    },
    {
      "cell_type": "code",
      "source": [
        "len(queue)==0"
      ],
      "metadata": {
        "colab": {
          "base_uri": "https://localhost:8080/"
        },
        "id": "nur5-OwoBMFf",
        "outputId": "61d9d369-733d-440f-ccb8-5008075a1e7e"
      },
      "execution_count": null,
      "outputs": [
        {
          "output_type": "execute_result",
          "data": {
            "text/plain": [
              "False"
            ]
          },
          "metadata": {},
          "execution_count": 41
        }
      ]
    },
    {
      "cell_type": "code",
      "source": [
        "queue[-1]"
      ],
      "metadata": {
        "colab": {
          "base_uri": "https://localhost:8080/"
        },
        "id": "mYhga1jsBEU4",
        "outputId": "4fcf0836-9cd6-4933-d242-b215011f3064"
      },
      "execution_count": null,
      "outputs": [
        {
          "output_type": "execute_result",
          "data": {
            "text/plain": [
              "30"
            ]
          },
          "metadata": {},
          "execution_count": 40
        }
      ]
    },
    {
      "cell_type": "code",
      "source": [
        "import queue\n",
        "queue = queue.Queue()\n",
        "queue.put(10)\n",
        "queue.put(20)\n",
        "queue.put(30)\n",
        "print(queue)\n",
        "queue.get()\n",
        "queue.get()\n",
        "queue.get()"
      ],
      "metadata": {
        "colab": {
          "base_uri": "https://localhost:8080/"
        },
        "id": "ZHAjHPfQEii6",
        "outputId": "f47e25a3-ba5b-4ee5-c3af-6050b45eb6f3"
      },
      "execution_count": null,
      "outputs": [
        {
          "output_type": "stream",
          "name": "stdout",
          "text": [
            "<queue.Queue object at 0x7ce4d4d52ef0>\n"
          ]
        },
        {
          "output_type": "execute_result",
          "data": {
            "text/plain": [
              "30"
            ]
          },
          "metadata": {},
          "execution_count": 49
        }
      ]
    },
    {
      "cell_type": "markdown",
      "source": [
        "PRIORITY QUEUE"
      ],
      "metadata": {
        "id": "mgYr6ygiFjZ8"
      }
    },
    {
      "cell_type": "markdown",
      "source": [
        "1.*list*"
      ],
      "metadata": {
        "id": "_SynWFrEHWCr"
      }
    },
    {
      "cell_type": "code",
      "source": [
        "queue=[]\n",
        "queue.append(10)\n",
        "queue.append(40)\n",
        "queue.append(30)\n",
        "queue.sort()\n",
        "print(queue)\n",
        "queue.pop(0)\n",
        "print(queue)\n",
        "queue.pop(0)\n",
        "print(queue)"
      ],
      "metadata": {
        "colab": {
          "base_uri": "https://localhost:8080/"
        },
        "id": "WWQL5e-NFiz0",
        "outputId": "e557c5d3-eee7-432f-f1aa-9c92e529a487"
      },
      "execution_count": null,
      "outputs": [
        {
          "output_type": "stream",
          "name": "stdout",
          "text": [
            "[10, 30, 40]\n",
            "[30, 40]\n",
            "[40]\n"
          ]
        }
      ]
    },
    {
      "cell_type": "markdown",
      "source": [
        "2.*priority queue*"
      ],
      "metadata": {
        "id": "cnzWKCAVHmc_"
      }
    },
    {
      "cell_type": "code",
      "source": [
        "import queue\n",
        "queue = queue.PriorityQueue()\n",
        "queue.put(10)\n",
        "queue.put(40)\n",
        "queue.put(30)\n",
        "queue.get()\n",
        "queue.get()\n",
        "queue.get()\n"
      ],
      "metadata": {
        "colab": {
          "base_uri": "https://localhost:8080/"
        },
        "id": "_NyU7NuqHpnc",
        "outputId": "68fbc211-023c-440b-d226-bb4faf91587d"
      },
      "execution_count": null,
      "outputs": [
        {
          "output_type": "execute_result",
          "data": {
            "text/plain": [
              "40"
            ]
          },
          "metadata": {},
          "execution_count": 54
        }
      ]
    },
    {
      "cell_type": "code",
      "source": [
        "queue=[]\n",
        "queue.append((2,\"saiiiiiii\"))\n",
        "queue.append((3,\"saiiiii\"))\n",
        "queue.append((1,\"saiii\"))\n",
        "queue.sort(reverse=True)\n",
        "queue"
      ],
      "metadata": {
        "colab": {
          "base_uri": "https://localhost:8080/"
        },
        "id": "kqVMOyx-INaC",
        "outputId": "35ec1edb-8641-491f-de4f-5d31b6102ab9"
      },
      "execution_count": null,
      "outputs": [
        {
          "output_type": "execute_result",
          "data": {
            "text/plain": [
              "[(3, 'saiiiii'), (2, 'saiiiiiii'), (1, 'saiii')]"
            ]
          },
          "metadata": {},
          "execution_count": 57
        }
      ]
    },
    {
      "cell_type": "code",
      "source": [
        "queue.pop(0)\n"
      ],
      "metadata": {
        "colab": {
          "base_uri": "https://localhost:8080/"
        },
        "id": "GTHi8gQSIwbj",
        "outputId": "a00c709d-7543-4f77-ce03-b980fbbb07b0"
      },
      "execution_count": null,
      "outputs": [
        {
          "output_type": "execute_result",
          "data": {
            "text/plain": [
              "(2, 'saiiiiiii')"
            ]
          },
          "metadata": {},
          "execution_count": 60
        }
      ]
    },
    {
      "cell_type": "markdown",
      "source": [
        "# **LINKED LIST**"
      ],
      "metadata": {
        "id": "nLpip_F8yke3"
      }
    },
    {
      "cell_type": "code",
      "source": [
        "#Note Classes are are mutable data type in python\n",
        "class Node:\n",
        "\n",
        "    def __init__(self, data):\n",
        "        self.data = data\n",
        "        self.next = None\n",
        "\n",
        "class LinkedList:\n",
        "    def __init__ (self):\n",
        "        self.head = None\n",
        "\n",
        "    def insertStart(self, data):\n",
        "        new_node = Node (data)\n",
        "        new_node.next = self.head\n",
        "\n",
        "        #changing the head to freshly entered node\n",
        "        self.head = new_node\n",
        "\n",
        "    def insertLast(self, data):\n",
        "        new_node = Node (data)\n",
        "\n",
        "        new_node.next = None\n",
        "\n",
        "        #need this if there is no node present in linked list at all\n",
        "        if self.head is None:\n",
        "            self.head = new_node\n",
        "            return\n",
        "\n",
        "        temp = self.head\n",
        "\n",
        "        while temp.next is not None:\n",
        "            temp = temp.next\n",
        "\n",
        "        temp.next = new_node\n",
        "\n",
        "    def insertPosition (self, pos, data):\n",
        "        size = self.calcSize ()\n",
        "        if pos<1 or size<pos:\n",
        "            print (\"Can't insert\", pos,\" is not valid position\")\n",
        "        else:\n",
        "            temp = self.head\n",
        "            new_node = Node (data)\n",
        "\n",
        "        for i in range(1, pos):\n",
        "            temp = temp.next\n",
        "            pos -= 1\n",
        "\n",
        "        new_node.next = temp.next\n",
        "        temp.next = new_node\n",
        "\n",
        "    def display(self) :\n",
        "        temp = self.head\n",
        "\t    while temp :\n",
        "            print (temp.data, end = \" \")\n",
        "            temp = temp.next\n",
        "\n",
        "    def calcSize(self):\n",
        "        size = 0\n",
        "        node =self.head\n",
        "\n",
        "        while node is not None:\n",
        "            node = node.next\n",
        "            size +=1\n",
        "        return size\n",
        "\n",
        "#Drive Code\n",
        "ll = LinkedList()\n",
        "\n",
        "ll.insertStart(12)\n",
        "ll.insertStart(16)\n",
        "ll.insertStart(20)\n",
        "\n",
        "ll.insertLast(10)\n",
        "ll.insertLast(14)\n",
        "ll.insertLast(18)\n",
        "ll.insertLast(11)\n",
        "\n",
        "#Inserts after 3rd position\n",
        "ll.insertPosition(3, 25)\n",
        "\n",
        "ll.display()\n"
      ],
      "metadata": {
        "id": "l5XPoRTBynNZ"
      },
      "execution_count": null,
      "outputs": []
    },
    {
      "cell_type": "code",
      "source": [
        "class Node:\n",
        "\n",
        "    def __init__ (self, data):\n",
        "        self.data = data\n",
        "        self.next = None\n",
        "\n",
        "class LinkedList:\n",
        "    def __init__ (self):\n",
        "        self.head = None\n",
        "\n",
        "    def insert (self, data):\n",
        "        new_node = Node (data)\n",
        "        new_node.next = self.head\n",
        "\n",
        "        #changing the head to freshly entered node\n",
        "        self.head = new_node\n",
        "\n",
        "    def display (self):\n",
        "        temp = self.head\n",
        "        while temp:\n",
        "            print (temp.data, end = \" \")\n",
        "            temp = temp.next\n",
        "        print (\"\\n\")\n",
        "\n",
        "    def delete_node (self, pos):\n",
        "        temp = self.head\n",
        "        previous = None\n",
        "\n",
        "        #if the head node itself needs to be deleted\n",
        "        size = self.calcSize ()\n",
        "\n",
        "        if pos <1 or pos > size:\n",
        "            print (\"Enter valid position, pos: {0}, size: {1}\".format (pos, size))\n",
        "            return\n",
        "\n",
        "        if pos== 1:\n",
        "            #Case 1 head becomes 30\n",
        "\t        self.head = temp.next\n",
        "            #changing head to next in the list\n",
        "\t        print(\"Value deleted: \", temp.data)\n",
        "            return\n",
        "\n",
        "        #run until we find the value to be deleted in the list\n",
        "\t    for i in range (1, pos):\n",
        "            #store previous link node as we need to change its next val\n",
        "\t        previous = temp\n",
        "            temp = temp.next\n",
        "            pos -= 1\n",
        "\n",
        "        #Case 2: (24)->next = 16 (as 20->next = 16)\n",
        "        #Case 3: (16)->next = NULL (as 12->next = NULL)\n",
        "        previous.next = temp.next\n",
        "        print (\"Value deleted: \", temp.data)\n",
        "\n",
        "    def calcSize (self):\n",
        "        size = 0\n",
        "\t    node = self.head\n",
        "\n",
        "        while node is not None:\n",
        "            node = node.next\n",
        "            size += 1\n",
        "\n",
        "        return size\n",
        "\n",
        "#Drive Code\n",
        "ll = LinkedList ()\n",
        "\n",
        "ll.insert (12)\n",
        "ll.insert (16)\n",
        "ll.insert (20)\n",
        "ll.insert (24)\n",
        "ll.insert (30)\n",
        "ll.insert (22)\n",
        "\n",
        "ll.display ()\n",
        "\n",
        "ll.delete_node (1)\n",
        "ll.display ()\n",
        "\n",
        "ll.delete_node (3)\n",
        "ll.display ()\n",
        "\n",
        "ll.delete_node (4)\n",
        "ll.display ()\n",
        "\n",
        "ll.delete_node (-2)\n",
        "ll.delete_node (10)\n",
        "\n",
        "ll.display ()\n"
      ],
      "metadata": {
        "colab": {
          "base_uri": "https://localhost:8080/",
          "height": 106
        },
        "id": "Dv0HCT5NiKBr",
        "outputId": "ff165a54-39e1-45c7-8435-2b3881750355"
      },
      "execution_count": null,
      "outputs": [
        {
          "output_type": "error",
          "ename": "IndentationError",
          "evalue": "unindent does not match any outer indentation level (<tokenize>, line 41)",
          "traceback": [
            "\u001b[0;36m  File \u001b[0;32m\"<tokenize>\"\u001b[0;36m, line \u001b[0;32m41\u001b[0m\n\u001b[0;31m    return\u001b[0m\n\u001b[0m    ^\u001b[0m\n\u001b[0;31mIndentationError\u001b[0m\u001b[0;31m:\u001b[0m unindent does not match any outer indentation level\n"
          ]
        }
      ]
    },
    {
      "cell_type": "markdown",
      "source": [
        "# **LINEAR SEARCH**"
      ],
      "metadata": {
        "id": "kYc4lZjuDBdc"
      }
    },
    {
      "cell_type": "code",
      "source": [
        "def linear_search(arr,length,item):\n",
        "  for i in range(0,length):\n",
        "    if arr[i]==item:\n",
        "      return i\n",
        "  return -1\n",
        "arr=[10,20,22,33,44,55,66]\n",
        "length=len(arr)\n",
        "item=33\n",
        "result=linear_search(arr,length,item)\n",
        "if result==-1:\n",
        "  print(\"element {} not found\",format(item))\n",
        "else:\n",
        "  print(\"print element {} at index {}\".format(item,result))"
      ],
      "metadata": {
        "colab": {
          "base_uri": "https://localhost:8080/"
        },
        "id": "t9z-VLnF8mTV",
        "outputId": "2fb30644-7ab0-49bd-9def-05e616424a41"
      },
      "execution_count": null,
      "outputs": [
        {
          "output_type": "stream",
          "name": "stdout",
          "text": [
            "print element 33 at index 3\n"
          ]
        }
      ]
    },
    {
      "cell_type": "markdown",
      "source": [
        "# **Binary search**"
      ],
      "metadata": {
        "id": "RnA4DDCSjr0i"
      }
    },
    {
      "cell_type": "code",
      "source": [
        "def binary_search(arr,key,n):\n",
        "  left=0\n",
        "  right=n-1\n",
        "  while left<=right:\n",
        "    mid=(left+right)//2\n",
        "    if key>arr[mid]:\n",
        "      left=mid+1\n",
        "    elif arr[mid]>key:\n",
        "      right=mid-1\n",
        "    else:\n",
        "      return mid\n",
        "    return -1\n",
        "arr=[10,20,30,40,50,60,70,80,90]\n",
        "n=len(arr)\n",
        "key=33\n",
        "\n",
        "result=binary_search(arr,key,n)\n",
        "if result==-1:\n",
        "  print(\"element {} not found\",format(key))\n",
        "else:\n",
        "  print(\"print element {} at index {}\".format(key,result))\n"
      ],
      "metadata": {
        "colab": {
          "base_uri": "https://localhost:8080/"
        },
        "id": "sj5xGFz0mciI",
        "outputId": "e0ad0965-a4e7-44a2-afdb-a752f0fd5efb"
      },
      "execution_count": null,
      "outputs": [
        {
          "output_type": "stream",
          "name": "stdout",
          "text": [
            "element {} not found 33\n"
          ]
        }
      ]
    },
    {
      "cell_type": "markdown",
      "source": [
        "# **selection sort**"
      ],
      "metadata": {
        "id": "vKNX8IWDwSNK"
      }
    },
    {
      "cell_type": "code",
      "source": [
        "def sort(arr):\n",
        "  for i in range(0,n):\n",
        "    min_index=i\n",
        "    for j in range(i+1,n):\n",
        "      if arr[j]<arr[min_index]:\n",
        "        min_index=j\n",
        "        temp=arr[min_index]\n",
        "        arr[min_index]=arr[i]\n",
        "        arr[i]=temp\n",
        "arr=[22,44,12,66,44,88,55]\n",
        "n=len(arr)\n",
        "sort(arr)\n",
        "print(arr)\n"
      ],
      "metadata": {
        "colab": {
          "base_uri": "https://localhost:8080/"
        },
        "id": "-BOvzJxPuGRD",
        "outputId": "033d9810-92cd-47a3-ae01-8bfb219f5463"
      },
      "execution_count": null,
      "outputs": [
        {
          "output_type": "stream",
          "name": "stdout",
          "text": [
            "[12, 22, 44, 55, 44, 66, 88]\n"
          ]
        }
      ]
    },
    {
      "cell_type": "markdown",
      "source": [
        "# **bubble sort**"
      ],
      "metadata": {
        "id": "xTj8etFGwaW0"
      }
    },
    {
      "cell_type": "code",
      "source": [
        "def sort(arr):\n",
        "  for i in range(1,n):\n",
        "    for j in range(0,n-i):\n",
        "      if arr[j]>arr[j+1]:\n",
        "        temp=arr[j]\n",
        "        arr[j]=arr[j+1]\n",
        "        arr[j+1]=temp\n",
        "arr=[22,44,12,66,44,88,55]\n",
        "n=len(arr)\n",
        "sort(arr)\n",
        "print(arr)\n"
      ],
      "metadata": {
        "colab": {
          "base_uri": "https://localhost:8080/"
        },
        "id": "QRKF1ZyTu6y5",
        "outputId": "af9c0599-37f2-43ca-a18a-f3f633066f3e"
      },
      "execution_count": null,
      "outputs": [
        {
          "output_type": "stream",
          "name": "stdout",
          "text": [
            "[12, 22, 44, 44, 55, 66, 88]\n"
          ]
        }
      ]
    },
    {
      "cell_type": "markdown",
      "source": [
        "# **insertion sort**"
      ],
      "metadata": {
        "id": "zIUh_aTZwhrc"
      }
    },
    {
      "cell_type": "code",
      "source": [
        "def sort(arr):\n",
        "  for i in range(1,n):\n",
        "    j=i-1\n",
        "    while j>=0:\n",
        "      if arr[j]>arr[j+1]:\n",
        "        temp=arr[j]\n",
        "        arr[j]=arr[j+1]\n",
        "        arr[j+1]=temp\n",
        "      else:\n",
        "        break\n",
        "arr=[22,44,12,66,44,88,55]\n",
        "n=len(arr)\n",
        "sort(arr)\n",
        "print(arr)\n"
      ],
      "metadata": {
        "colab": {
          "base_uri": "https://localhost:8080/"
        },
        "id": "sJETdrotwPzn",
        "outputId": "3e74f6ae-b96f-424f-a6f7-84c1fcb91273"
      },
      "execution_count": null,
      "outputs": [
        {
          "output_type": "stream",
          "name": "stdout",
          "text": [
            "[22, 12, 44, 44, 66, 55, 88]\n"
          ]
        }
      ]
    },
    {
      "cell_type": "code",
      "source": [
        "\n",
        "def merge(arr, l, m, r):\n",
        "\tn1 = m - l + 1\n",
        "\tn2 = r - m\n",
        "\tL = [0] * (n1)\n",
        "\tR = [0] * (n2)\n",
        "\tfor i in range(0, n1):\n",
        "\t\tL[i] = arr[l + i]\n",
        "\tfor j in range(0, n2):\n",
        "\t\tR[j] = arr[m + 1 + j]\n",
        "\ti = 0\t # Initial index of first subarray\n",
        "\tj = 0\t # Initial index of second subarray\n",
        "\tk = l\t # Initial index of merged subarray\n",
        "\n",
        "\twhile i < n1 and j < n2:\n",
        "\t\tif L[i] <= R[j]:\n",
        "\t\t\tarr[k] = L[i]\n",
        "\t\t\ti += 1\n",
        "\t\telse:\n",
        "\t\t\tarr[k] = R[j]\n",
        "\t\t\tj += 1\n",
        "\t\tk += 1\n",
        "\twhile i < n1:\n",
        "\t\tarr[k] = L[i]\n",
        "\t\ti += 1\n",
        "\t\tk += 1\n",
        "\twhile j < n2:\n",
        "\t\tarr[k] = R[j]\n",
        "\t\tj += 1\n",
        "\t\tk += 1\n",
        "def mergeSort(arr, l, r):\n",
        "\tif l < r:\n",
        "\t\tm = l+(r-l)//2\n",
        "\t\tmergeSort(arr, l, m)\n",
        "\t\tmergeSort(arr, m+1, r)\n",
        "\t\tmerge(arr, l, m, r)\n",
        "arr = [12, 11, 13, 5, 6, 7]\n",
        "n = len(arr)\n",
        "print(\"Given array is\")\n",
        "for i in range(n):\n",
        "\tprint(\"%d\" % arr[i],end=\" \")\n",
        "\n",
        "mergeSort(arr, 0, n-1)\n",
        "print(\"\\n\\nSorted array is\")\n",
        "for i in range(n):\n",
        "\tprint(\"%d\" % arr[i],end=\" \")\n",
        "\n"
      ],
      "metadata": {
        "id": "9-EpCVqbDHzt",
        "colab": {
          "base_uri": "https://localhost:8080/"
        },
        "outputId": "fe6e02b5-30de-4ef6-a0ac-04f5bb6a7b58"
      },
      "execution_count": null,
      "outputs": [
        {
          "output_type": "stream",
          "name": "stdout",
          "text": [
            "Given array is\n",
            "12 11 13 5 6 7 \n",
            "\n",
            "Sorted array is\n",
            "5 6 7 11 12 13 "
          ]
        }
      ]
    },
    {
      "cell_type": "code",
      "source": [
        "def count_sort(arr):\n",
        "    max_val = max(arr)\n",
        "    count = [0] * (max_val + 1)\n",
        "    output = [0] * len(arr)\n",
        "    for num in arr:\n",
        "        count[num] += 1\n",
        "    for i in range(1, len(count)):\n",
        "        count[i] += count[i - 1]\n",
        "    for num in reversed(arr):\n",
        "        output[count[num] - 1] = num\n",
        "        count[num] -= 1\n",
        "    for i in range(len(arr)):\n",
        "        arr[i] = output[i]\n",
        "arr = [4, 2, 2, 8, 3, 3, 1]\n",
        "count_sort(arr)\n",
        "print(\"Sorted array is:\", arr)"
      ],
      "metadata": {
        "id": "9OMqu5Z0f1lV",
        "outputId": "2e888260-f568-4d85-d490-065b89ee970e",
        "colab": {
          "base_uri": "https://localhost:8080/"
        }
      },
      "execution_count": 1,
      "outputs": [
        {
          "output_type": "stream",
          "name": "stdout",
          "text": [
            "Sorted array is: [1, 2, 2, 3, 3, 4, 8]\n"
          ]
        }
      ]
    },
    {
      "cell_type": "code",
      "source": [],
      "metadata": {
        "id": "bFOyBiHfD-4O"
      },
      "execution_count": null,
      "outputs": []
    }
  ]
}