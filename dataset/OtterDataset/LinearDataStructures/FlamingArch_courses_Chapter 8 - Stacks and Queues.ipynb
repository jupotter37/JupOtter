{
 "cells": [
  {
   "cell_type": "markdown",
   "metadata": {},
   "source": [
    "# Chapter 7 - Stacks and Queues\n",
    "## Stacks\n",
    "Stacks is similar to something like a stack of plates. New are added on top of others, and removed on a top to bottom basis, or **Last-In First Out (LIFO)**.\n",
    "\n",
    "A common use of stacks is to keep the track of return addresses during function calls.\n",
    "\n",
    "Imagine the following program:\n",
    "\n",
    "    def b():\n",
    "        print('b')\n",
    "\n",
    "    def a():\n",
    "        b()\n",
    "\n",
    "    a()\n",
    "    print('done')\n",
    "\n",
    "When the program execution gets call to `a()`, it pushes the addresses of the following instruction onto the stack, then jumps to `a`. Inside `a`, `b` is called, but before that, the return addresses is pushed onto the stack. Once in `b()`,and the function is done, the return address is popped off the stack, which takes us back to `a()`. When `a` is completed, the return address is popped off the stack, which takes us back to the `print` statement. \n",
    "\n",
    "Stacks are also used to pass data to a function. Example:\n",
    "\n",
    "    someFunc(14, 'eggs', 'ham', 'spam')\n",
    "\n",
    "Here, 14, 'eggs', 'ham' and 'spam' is pushed onto the stack, one at a time.\n",
    "\n",
    "When the code jumps into the function, the values for `a`, `b`, `c`, `d` will be popped off the stack. The `spam` element will be popped off the stack and assigned to `d`, `ham` to `c`, and so on. \n",
    "\n",
    "### Stack implementation\n",
    "- Start by creating a `Node` class, similar to the ones in LinkedList, which stores data, and a reference to the next element. \n",
    "- Create a stack class : Start off by a simple linked list. We need to keep track of node at the top of the stack. \n",
    "- Add a `push` operation to add an element on top of the stack. \n",
    "- Add a `pop` operation to remove the top element from the stack, and return the element too. Return `None` if there are no more elements.\n",
    "- Add a `peek` method to return the top of the stack without removing it from the stack. If there is no top item, it returns `None`.\n",
    "\n"
   ]
  },
  {
   "cell_type": "code",
   "execution_count": 1,
   "metadata": {},
   "outputs": [],
   "source": [
    "class Node:\n",
    "    def __init__(self, data=None):\n",
    "        self.data = data\n",
    "        self.next = None\n",
    "\n",
    "class Stack:\n",
    "    def __init__(self):\n",
    "        self.top = None\n",
    "        self.size = 0\n",
    "\n",
    "    def push(self, data):\n",
    "        node = Node(data)\n",
    "        if self.top:\n",
    "            node.next = self.top\n",
    "            self.top = node\n",
    "        else:\n",
    "            self.top = node\n",
    "        self.size += 1\n",
    "\n",
    "    def pop(self):\n",
    "        if self.top:\n",
    "            data = self.top.data\n",
    "            self.size -= 1\n",
    "            if self.top.next:\n",
    "                self.top = self.top.next\n",
    "            else:\n",
    "                self.top = None\n",
    "            return data\n",
    "        else:\n",
    "            return None\n",
    "\n",
    "    def peek(self):\n",
    "        return self.top"
   ]
  },
  {
   "cell_type": "markdown",
   "metadata": {},
   "source": [
    "\n",
    "\n",
    "### Example of Stack: Bracket Matching Application\n",
    "\n",
    "This program checks if each of the brackets are matched with a closing bracket, and if one pair of bracket is really in contained in another."
   ]
  },
  {
   "cell_type": "code",
   "execution_count": 7,
   "metadata": {},
   "outputs": [
    {
     "name": "stdout",
     "output_type": "stream",
     "text": [
      "{(foo)(bar)}[hello](((this)is)a)test: True\n",
      "{(foo)(bar)}[hello](((this)is)atest: False\n",
      "{(foo)(bar)}[hello](((this)is)a)test)): False\n"
     ]
    }
   ],
   "source": [
    "def checkBrackets(statement):\n",
    "    stack = Stack()\n",
    "    for ch in statement:\n",
    "        if ch in ('{', '[', '('):\n",
    "            stack.push(ch)\n",
    "        if ch in ('}', ']', ')'):\n",
    "            last = stack.pop()\n",
    "            if last == '{' and ch == '}':\n",
    "                continue\n",
    "            elif last == '[' and ch == ']':\n",
    "                continue\n",
    "            elif last == '(' and ch == ')':\n",
    "                continue\n",
    "            else:\n",
    "                return False\n",
    "    if stack.size > 0:\n",
    "        return False\n",
    "    else:\n",
    "        return True\n",
    "\n",
    "sl = ( \n",
    "    \"{(foo)(bar)}[hello](((this)is)a)test\", \n",
    "    \"{(foo)(bar)}[hello](((this)is)atest\", \n",
    "    \"{(foo)(bar)}[hello](((this)is)a)test))\" \n",
    ") \n",
    "for s in sl: \n",
    "    m = checkBrackets(s) \n",
    "    print(\"{}: {}\".format(s, m))"
   ]
  },
  {
   "cell_type": "markdown",
   "metadata": {},
   "source": [
    "\n",
    "## Queues\n",
    "These are similar to the queues from real life. First item is accessed and removed the first, or **First-In, First Out (FIFO)**. Items are added after the last item in the queue. Length of the queue doesn't matter. This is the only legal/permitted way by which the queue accepts new entrants. \n",
    "\n",
    "### Enqueue\n",
    "Operation of adding an item to the queue is called **enqueue**. Anytime a queue is enqueued, the length or size of the queue increases by one. \n",
    "\n",
    "### Dequeue \n",
    "Operation of removing an item to the queue is called **dequeue**. Anytime a queue is dequeued, the length or size of the queue decreases by one. \n",
    "\n",
    "### List Based Queue\n",
    "Implementing a simple queue based on Python's list:\n",
    "- Create a class (here, ListQueue) with items as a list, and size starting at 0.\n",
    "- Create an `enqueue` operation, which uses the `insert` method of the `list` class to insert items at the front of the list. Index 0 is the first position in any list or array. However, here, index 0 is the only place where new data elements are inserted into the queue. The `insert` operation will shift the existing elements in the list by one position up and then insert the new data in the space created at index 0. \n",
    "- Add a `dequeue` operation to remove items from the queue. The Python `list` has a method `pop()` which removes and returns the last item from the list. This is stored in `data` variable, and then at the last line, returned. \n"
   ]
  },
  {
   "cell_type": "code",
   "execution_count": 1,
   "metadata": {},
   "outputs": [],
   "source": [
    "class ListQueue:\n",
    "    def __init__(self):\n",
    "        self.items = []\n",
    "        self.size = 0\n",
    "\n",
    "    def enqueue(self, data):\n",
    "        self.items.insert(0, data)\n",
    "        self.size += 1\n",
    "        \n",
    "    def dequeue(self):\n",
    "        data = self.items.pop()\n",
    "        self.size-=1\n",
    "        return data\n",
    "    "
   ]
  },
  {
   "cell_type": "markdown",
   "metadata": {},
   "source": [
    "### Stack Based Queue\n",
    "Another implementation of the queue is to use two stacks. `list` class will again be used to simulate a stack."
   ]
  },
  {
   "cell_type": "code",
   "execution_count": 1,
   "metadata": {},
   "outputs": [],
   "source": [
    "class Queue:\n",
    "    def __init__(self):\n",
    "        self.inbound_stack = []\n",
    "        self.outbound_stack = []\n",
    "        \n",
    "    def enqueue(self, data):\n",
    "        self.inbound_stack.append(data)\n",
    "        \n",
    "    def dequeue(self):\n",
    "        if not self.outbound_stack:\n",
    "            while self.inbound_stack:\n",
    "                self.outbound_stack.append(self.inbound_stack.pop())\n",
    "        return self.outbound_stack.pop()"
   ]
  },
  {
   "cell_type": "code",
   "execution_count": 5,
   "metadata": {},
   "outputs": [
    {
     "name": "stdout",
     "output_type": "stream",
     "text": [
      "[5, 6, 7]\n"
     ]
    }
   ],
   "source": [
    "q = Queue()\n",
    "q.enqueue(5)\n",
    "q.enqueue(6)\n",
    "q.enqueue(7)\n",
    "print(q.inbound_stack)"
   ]
  },
  {
   "cell_type": "markdown",
   "metadata": {},
   "source": [
    "### Node Based Queue"
   ]
  },
  {
   "cell_type": "markdown",
   "metadata": {},
   "source": [
    "A queue can also be implemented using a doubly linked list."
   ]
  },
  {
   "cell_type": "code",
   "execution_count": 10,
   "metadata": {},
   "outputs": [],
   "source": [
    "class Node:\n",
    "    def __init__(self, data, prev=None, next=None):\n",
    "        self.data = data\n",
    "        self.prev = prev\n",
    "        self.next = next"
   ]
  },
  {
   "cell_type": "code",
   "execution_count": 48,
   "metadata": {},
   "outputs": [],
   "source": [
    "class Queue:\n",
    "    def __init__(self):\n",
    "        self.head = None\n",
    "        self.tail = None\n",
    "        self.count = 0\n",
    "        \n",
    "    def enqueue(self, data):\n",
    "        new_node = Node(data, None, None)\n",
    "        if self.head is None:\n",
    "            self.head = new_node\n",
    "            self.tail = self.head\n",
    "        else:\n",
    "            new_node.prev = self.tail\n",
    "            self.tail.next = new_node\n",
    "            self.tail = new_node\n",
    "        self.count+=1\n",
    "    \n",
    "    def dequeue(self):\n",
    "        current = self.head\n",
    "        if self.count==1:\n",
    "            self.count -= 1\n",
    "            self.head = None\n",
    "            self.tail = None\n",
    "        elif self.count > 1:\n",
    "            self.head = self.head.next\n",
    "            self.head.prev = None\n",
    "            self.count-=1"
   ]
  },
  {
   "cell_type": "markdown",
   "metadata": {},
   "source": [
    "Queue implemented using doubly linked lists, the `insertion` and `deletion` operations have a time complexity of $O(1)$."
   ]
  },
  {
   "cell_type": "markdown",
   "metadata": {},
   "source": [
    "### **Queue Example:** Media Player Queue"
   ]
  },
  {
   "cell_type": "code",
   "execution_count": 49,
   "metadata": {},
   "outputs": [],
   "source": [
    "from random import randint\n",
    "class Track:\n",
    "    def __init__(self, title=None):\n",
    "        self.title = title\n",
    "        self.length = randint(5, 10)\n",
    "\n",
    "track1 = Track('Sample Track 1')\n",
    "track2 = Track('Sample Track 2')\n",
    "track3 = Track('Sample Track 3')"
   ]
  },
  {
   "cell_type": "code",
   "execution_count": 50,
   "metadata": {},
   "outputs": [],
   "source": [
    "import time\n",
    "class MediaPlayerQueue(Queue):\n",
    "    def __init__(self):\n",
    "        super(MediaPlayerQueue, self).__init__()\n",
    "    def add_track(self, track):\n",
    "        self.enqueue(track)\n",
    "    def play(self):\n",
    "        while self.count > 0:\n",
    "            current_track_node = self.dequeue()\n",
    "            print(f'Now Playing (current_track_node.data.title)')\n",
    "            time.sleep(current_track_node.length)"
   ]
  },
  {
   "cell_type": "code",
   "execution_count": 51,
   "metadata": {},
   "outputs": [],
   "source": [
    "mp = MediaPlayerQueue()"
   ]
  },
  {
   "cell_type": "code",
   "execution_count": 52,
   "metadata": {},
   "outputs": [],
   "source": [
    "mp.add_track(track1)\n",
    "mp.add_track(track2)\n",
    "mp.add_track(track3)"
   ]
  },
  {
   "cell_type": "code",
   "execution_count": 53,
   "metadata": {},
   "outputs": [
    {
     "name": "stdout",
     "output_type": "stream",
     "text": [
      "Now Playing (current_track_node.data.title)\n"
     ]
    },
    {
     "ename": "AttributeError",
     "evalue": "'NoneType' object has no attribute 'length'",
     "output_type": "error",
     "traceback": [
      "\u001b[0;31m---------------------------------------------------------------------------\u001b[0m",
      "\u001b[0;31mAttributeError\u001b[0m                            Traceback (most recent call last)",
      "\u001b[0;32m<ipython-input-53-a3d8c5105ea8>\u001b[0m in \u001b[0;36m<module>\u001b[0;34m\u001b[0m\n\u001b[0;32m----> 1\u001b[0;31m \u001b[0mmp\u001b[0m\u001b[0;34m.\u001b[0m\u001b[0mplay\u001b[0m\u001b[0;34m(\u001b[0m\u001b[0;34m)\u001b[0m\u001b[0;34m\u001b[0m\u001b[0;34m\u001b[0m\u001b[0m\n\u001b[0m",
      "\u001b[0;32m<ipython-input-50-ef85fdaec432>\u001b[0m in \u001b[0;36mplay\u001b[0;34m(self)\u001b[0m\n\u001b[1;32m      9\u001b[0m             \u001b[0mcurrent_track_node\u001b[0m \u001b[0;34m=\u001b[0m \u001b[0mself\u001b[0m\u001b[0;34m.\u001b[0m\u001b[0mdequeue\u001b[0m\u001b[0;34m(\u001b[0m\u001b[0;34m)\u001b[0m\u001b[0;34m\u001b[0m\u001b[0;34m\u001b[0m\u001b[0m\n\u001b[1;32m     10\u001b[0m             \u001b[0mprint\u001b[0m\u001b[0;34m(\u001b[0m\u001b[0;34mf'Now Playing (current_track_node.data.title)'\u001b[0m\u001b[0;34m)\u001b[0m\u001b[0;34m\u001b[0m\u001b[0;34m\u001b[0m\u001b[0m\n\u001b[0;32m---> 11\u001b[0;31m             \u001b[0mtime\u001b[0m\u001b[0;34m.\u001b[0m\u001b[0msleep\u001b[0m\u001b[0;34m(\u001b[0m\u001b[0mcurrent_track_node\u001b[0m\u001b[0;34m.\u001b[0m\u001b[0mlength\u001b[0m\u001b[0;34m)\u001b[0m\u001b[0;34m\u001b[0m\u001b[0;34m\u001b[0m\u001b[0m\n\u001b[0m",
      "\u001b[0;31mAttributeError\u001b[0m: 'NoneType' object has no attribute 'length'"
     ]
    }
   ],
   "source": [
    "mp.play()"
   ]
  }
 ],
 "metadata": {
  "kernelspec": {
   "display_name": "Python 3",
   "language": "python",
   "name": "python3"
  },
  "language_info": {
   "codemirror_mode": {
    "name": "ipython",
    "version": 3
   },
   "file_extension": ".py",
   "mimetype": "text/x-python",
   "name": "python",
   "nbconvert_exporter": "python",
   "pygments_lexer": "ipython3",
   "version": "3.8.3"
  }
 },
 "nbformat": 4,
 "nbformat_minor": 4
}
