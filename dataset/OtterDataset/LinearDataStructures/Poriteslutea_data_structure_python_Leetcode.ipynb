{
 "cells": [
  {
   "cell_type": "markdown",
   "metadata": {},
   "source": [
    "# Linked List********"
   ]
  },
  {
   "cell_type": "markdown",
   "metadata": {},
   "source": [
    "## 21. Merge Two Sorted Lists\n",
    "\n",
    "You are given the heads of two sorted linked lists list1 and list2.\n",
    "\n",
    "Merge the two lists in a one sorted list. The list should be made by splicing together the nodes of the first two lists.\n",
    "\n",
    "Return the head of the merged linked list.\n",
    "\n"
   ]
  },
  {
   "cell_type": "markdown",
   "metadata": {},
   "source": [
    "### 想法一\n",
    "\n",
    "做一個虛擬首節點，然後開始挑，誰的值小就跳到那個串列的節點上，選到的串列指標就跳下一個，沒選就保持原樣<br>\n",
    "如果某個串列的節點選完了，就直接跳到另一個還有的串列上，然後return dummyhead.next\n"
   ]
  },
  {
   "cell_type": "code",
   "execution_count": 10,
   "metadata": {},
   "outputs": [],
   "source": [
    "# Definition for singly-linked list.\n",
    "class ListNode:\n",
    "    def __init__(self, x):\n",
    "        self.val = x\n",
    "        self.next = None\n",
    "\n",
    "\n",
    "class Solution:\n",
    "    def mergeTwoLists(self, l1, l2):\n",
    "        dummy = ListNode(0)\n",
    "        curr = dummy\n",
    "        \n",
    "        while(l1 and l2):\n",
    "            if(l1.val < l2.val):\n",
    "                curr.next = l1\n",
    "                l1 = l1.next\n",
    "            else:\n",
    "                curr.next = l2\n",
    "                l2 = l2.next\n",
    "            curr = curr.next\n",
    "            \n",
    "        if l1:\n",
    "            curr.next = l1\n",
    "        if l2:\n",
    "            curr.next = l2\n",
    "            \n",
    "        return dummy.next\n",
    "        "
   ]
  },
  {
   "cell_type": "markdown",
   "metadata": {},
   "source": [
    "## 141. Linked List Cycle\n",
    "\n",
    "Given head, the head of a linked list, determine if the linked list has a cycle in it.\n",
    "\n",
    "There is a cycle in a linked list if there is some node in the list that can be reached again by continuously following the next pointer. \n",
    "\n",
    "Internally, pos is used to denote the index of the node that tail's next pointer is connected to. \n",
    "\n",
    "Note that pos is not passed as a parameter.\n",
    "\n",
    "Return true if there is a cycle in the linked list. Otherwise, return false."
   ]
  },
  {
   "cell_type": "markdown",
   "metadata": {},
   "source": [
    "### 想法一\n",
    "有跑過的位置標記起來，遇到標記過的就return True"
   ]
  },
  {
   "cell_type": "code",
   "execution_count": 11,
   "metadata": {},
   "outputs": [],
   "source": [
    "# Definition for singly-linked list.\n",
    "class ListNode:\n",
    "    def __init__(self, x):\n",
    "        self.val = x\n",
    "        self.next = None\n",
    "\n",
    "class Solution:\n",
    "    def hasCycle(self, head) -> bool:\n",
    "        \"\"\"\n",
    "        :type head: ListNode\n",
    "        :rtype: bool\n",
    "        \"\"\"\n",
    "        # 先確定傳進來的listnode在合理範圍\n",
    "        if head == None or head.next == None:\n",
    "            return False\n",
    "\n",
    "        # 有跑過的node標記起來\n",
    "        map = {}\n",
    "        while(head):\n",
    "            if id(head) in map:\n",
    "                return True\n",
    "            else:\n",
    "                map[id(head)] = True\n",
    "\n",
    "            head = head.next\n",
    "        \n",
    "        return False\n",
    "\n",
    "        \n"
   ]
  },
  {
   "cell_type": "markdown",
   "metadata": {},
   "source": [
    "### 想法二\n",
    "快慢指針法，用兩個指針，快指針一次移動兩個節點，慢指針一次移動一個節點，如果有閉環，就一定會有相等的時候"
   ]
  },
  {
   "cell_type": "code",
   "execution_count": 12,
   "metadata": {},
   "outputs": [],
   "source": [
    "# Definition for singly-linked list.\n",
    "class ListNode:\n",
    "    def __init__(self, x):\n",
    "        self.val = x\n",
    "        self.next = None\n",
    "\n",
    "class Solution:\n",
    "    def hasCycle(self, head) -> bool:\n",
    "        \"\"\"\n",
    "        :type head: ListNode\n",
    "        :rtype: bool\n",
    "        \"\"\"\n",
    "        # 先確定傳進來的listnode在合理範圍（沒有節點或只有一個節點都不算）\n",
    "        if head == None or head.next == None:\n",
    "            return False\n",
    "\n",
    "        # 設定快慢指針\n",
    "        fast = head\n",
    "        slow = head\n",
    "        while fast and fast.next:\n",
    "            slow = slow.next\n",
    "            fast = fast.next.next\n",
    "            if slow == fast:\n",
    "                return True\n",
    "            \n",
    "        \n",
    "        return False"
   ]
  },
  {
   "cell_type": "markdown",
   "metadata": {},
   "source": [
    "## 83. Remove Duplicates from Sorted List\n",
    "\n",
    "Given the head of a sorted linked list, delete all duplicates such that each element appears only once. Return the linked list sorted as well."
   ]
  },
  {
   "cell_type": "markdown",
   "metadata": {},
   "source": [
    "### 想法一\n",
    "\n",
    "下一個node值一樣的話就跳過\n",
    "\n",
    "要注意的是while(cur.next)而不是while(cur)"
   ]
  },
  {
   "cell_type": "code",
   "execution_count": 13,
   "metadata": {},
   "outputs": [],
   "source": [
    "class ListNode:\n",
    "    def __init__(self, val=0, next=None):\n",
    "        self.val = val\n",
    "        self.next = next\n",
    "class Solution:\n",
    "    def deleteDuplicates(self, head):\n",
    "        \"\"\"\n",
    "        :type head: ListNode\n",
    "        :rtype: ListNode\n",
    "\n",
    "        \"\"\"\n",
    "        # 設定linked list合理範圍\n",
    "        if head==None or head.next==None:\n",
    "            return head\n",
    "\n",
    "        cur = head\n",
    "        while(cur.next):\n",
    "            if cur.val == cur.next.val:\n",
    "                cur.next = cur.next.next\n",
    "            else:\n",
    "                cur = cur.next\n",
    "\n",
    "        return head"
   ]
  },
  {
   "cell_type": "markdown",
   "metadata": {},
   "source": [
    "## 24. Swap Nodes in Pairs\n",
    "\n",
    "Given a linked list, swap every two adjacent nodes and return its head.\n",
    "\n",
    "For example, Given 1->2->3->4, you should return the list as 2->1->4->3.\n",
    "\n",
    "Your algorithm should use only constant space. You may not modify the values in the list, only nodes itself can be changed."
   ]
  },
  {
   "cell_type": "markdown",
   "metadata": {},
   "source": [
    "### 想法一\n",
    "\n",
    "\n",
    "1. 先設一個虛擬首節點(dummy), 把pre指標指在這個節點上，cur指標指在head上\n",
    "2. 迴圈開始後，先保存下一個pair的開頭(cur.next.next)，設個指標為keep\n",
    "3. 首先把cur節點的下下一點指向自己，做一個倒轉，也跟下一個pair分開\n",
    "4. 再來虛設的首節點指向新的開頭(cur.next)，然後cur自己則指向下一個pair的開頭(keep)\n",
    "5. 再來下一個pair用同樣方式處理，要把指標歸位\n",
    "6. pre指標指向cur, cur指標指向下一個\n",
    "7. 繼續迴圈"
   ]
  },
  {
   "cell_type": "code",
   "execution_count": 14,
   "metadata": {},
   "outputs": [],
   "source": [
    "class ListNode:\n",
    "    def __init__(self, val=0, next=None):\n",
    "        self.val = val\n",
    "        self.next = next\n",
    "class Solution:\n",
    "    def swapPairs(self, head):\n",
    "        \"\"\"\n",
    "        :type head: ListNode\n",
    "        :rtype: ListNode\n",
    "\n",
    "        \"\"\"\n",
    "        # 設定linked list合理範圍\n",
    "        if head==None or head.next==None:\n",
    "            return head\n",
    "\n",
    "        # 設虛擬首節點\n",
    "        dummy = ListNode(0)\n",
    "        dummy.next = head\n",
    "\n",
    "        # 設定前後指標\n",
    "        pre = dummy\n",
    "        cur = head\n",
    "        \n",
    "        while cur and cur.next:        \n",
    "            keep = cur.next.next #保留下一個pair的開頭\n",
    "            cur.next.next = cur #倒轉pair\n",
    "            pre.next = cur.next #把串列接往倒轉後的pair開頭\n",
    "            cur.next = keep #把倒轉後的pair接往下一個pair\n",
    "            pre = cur #把pre指標移到要下一個要處理的pair前一節點上\n",
    "            cur = cur.next #把cur指標移到下一個要處理的pair第一節點上\n",
    "\n",
    "        return dummy.next\n",
    "\n",
    "            "
   ]
  },
  {
   "cell_type": "markdown",
   "metadata": {},
   "source": [
    "## 19. Remove Nth Node From End of List\n",
    "\n",
    "Given the head of a linked list, remove the nth node from the end of the list and return its head."
   ]
  },
  {
   "cell_type": "markdown",
   "metadata": {},
   "source": [
    "### 想法一\n",
    "\n",
    "\n",
    "設一個虛擬首指標，他n+1次next後的節點如果不是None，就把指標再推進一個節點，直到n+1次next後的節點是None，然後這個節點的next，就指向下下一個\n",
    "\n",
    "正式解法：快慢指針，想法差不多，差在第一次快指針跑完n+1步之後，就快慢指針一起往前平移就好...不用再每次都重複去跑快指針了...浪費時間"
   ]
  },
  {
   "cell_type": "code",
   "execution_count": 3,
   "metadata": {},
   "outputs": [],
   "source": [
    "# Definition for singly-linked list.\n",
    "class ListNode:\n",
    "    def __init__(self, val=0, next=None):\n",
    "        self.val = val\n",
    "        self.next = next\n",
    "class Solution:\n",
    "    def removeNthFromEnd(self, head: ListNode, n: int) -> ListNode:\n",
    "        \n",
    "        # 合理範圍\n",
    "        if head == None:\n",
    "            return\n",
    "        \n",
    "        # 設一個虛擬首指標\n",
    "        dummy = ListNode(0)\n",
    "        dummy.next = head\n",
    "        cur = dummy\n",
    "        \n",
    "\n",
    "        while cur.next:\n",
    "            \n",
    "            # 找倒數第n個節點的前一個\n",
    "            flag = cur\n",
    "            for i in range(n+1):\n",
    "                flag = flag.next\n",
    "            \n",
    "            # 找到後把第n個節點跳過\n",
    "            if flag == None:\n",
    "                cur.next = cur.next.next\n",
    "                return dummy.next\n",
    "                \n",
    "            # 沒找到的話繼續往下一個移動\n",
    "            else:\n",
    "                cur = cur.next\n",
    "        \n",
    "        return \n",
    "\n",
    "\n",
    "    # 一樣的思路寫成快慢指針的寫法\n",
    "\n",
    "    def removeNthFromEnd_2(self, head: ListNode, n: int) -> ListNode:\n",
    "        \n",
    "        dummy = ListNode()\n",
    "        dummy.next = head\n",
    "\n",
    "        slow, fast = dummy, dummy\n",
    "\n",
    "        # 先移動快針n+1步\n",
    "        while n!=-1:\n",
    "            fast = fast.next\n",
    "            n -= 1\n",
    "\n",
    "        #如果fast不等於None的話，再往下一個移動(我上面原本自己寫的，fast指針每次沒找到又從第一個再往下找一次，這個寫法就不用，兩個指針一起平移前進就好)\n",
    "        while fast:\n",
    "            slow = slow.next\n",
    "            fast = fast.next\n",
    "\n",
    "        #fast走到結尾後，slow的下一個節點就是要刪除的點\n",
    "        slow.next = slow.next.next\n",
    "\n",
    "        return dummy.next\n"
   ]
  },
  {
   "cell_type": "markdown",
   "metadata": {},
   "source": [
    "## 160. Intersection of Two Linked Lists\n",
    "\n",
    "Given the heads of two singly linked-lists headA and headB, return the node at which the two lists intersect. \n",
    "\n",
    "If the two linked lists have no intersection at all, return null."
   ]
  },
  {
   "cell_type": "markdown",
   "metadata": {},
   "source": [
    "### 想法一\n",
    "\n",
    "第一個想法是暴力解QQ，先跑A鏈，把所有節點的id存到list中，再跑B鏈，每個節點去對這個id有沒有出現在A鏈id list之中，有的話就回傳這個節點，B鏈跑完都沒有的話就回傳null，但submit都沒過哭哭，我就廢。\n",
    "\n",
    "今天重寫一次，差別只是原本是把串列a各節點的id append到list之中，然後再用if i in list的方式找b的id有沒有出現過；這裡改成把id丟到dictionary的key中，value為true，一樣用if i in dict的方式找，居然就過了，真奇妙，蒐尋item有沒有在list中跟蒐尋key有沒有在dictionary中難道時間複雜度不一樣嗎～～\n",
    "\n",
    "喔然後，好像不用特別寫id()，直接nodea == nodeb 這樣也可以判斷的樣子..."
   ]
  },
  {
   "cell_type": "markdown",
   "metadata": {},
   "source": [
    "#### Note\n",
    "\n",
    "[參考 - Python時間複雜度](https://wiki.python.org/moin/TimeComplexity)\n",
    "\n",
    "當用i in s的情況，list會全部跑完才告訴你Ture或False，dict的key或set因為每個element有唯一性，所以有遇到就會告訴你是True還是False了～"
   ]
  },
  {
   "cell_type": "code",
   "execution_count": 1,
   "metadata": {},
   "outputs": [],
   "source": [
    "# Definition for singly-linked list.\n",
    "class ListNode:\n",
    "    def __init__(self, x):\n",
    "        self.val = x\n",
    "        self.next = None\n",
    "\n",
    "class Solution:\n",
    "    def getIntersectionNode(self, headA: ListNode, headB: ListNode) -> ListNode:\n",
    "        \n",
    "        a = headA\n",
    "        lista = {}\n",
    "        while a:\n",
    "            lista[id(a)] = True\n",
    "            a = a.next\n",
    "          \n",
    "        b = headB\n",
    "        while b:\n",
    "            if id(b) in lista:\n",
    "                return b\n",
    "            else:\n",
    "                b=b.next\n",
    "            \n",
    "        return None\n",
    "        "
   ]
  },
  {
   "cell_type": "markdown",
   "metadata": {},
   "source": [
    "## 2. Add Two Numbers\n",
    "\n",
    "You are given two non-empty linked lists representing two non-negative integers.\n",
    "\n",
    "The digits are stored in reverse order, and each of their nodes contains a single digit. Add the two numbers and return the sum as a linked list.\n",
    "\n",
    "You may assume the two numbers do not contain any leading zero, except the number 0 itself."
   ]
  },
  {
   "cell_type": "markdown",
   "metadata": {},
   "source": [
    "### 想法一\n",
    "\n",
    "這題自己想了很久但submit沒過嗚嗚，原本想法是：兩個串列指標一起跑，每次都把指到的val相加，然後設到新的listnode中，如果其中一個串列先遇到None，node.val就直接改成0，一樣繼續加，兩邊都None之後確認有沒有要進位，然後停止。\n",
    "\n",
    "#進位怎麼辦？如果要進位的，下一個節點要多加1～\n",
    "\n",
    "#時間過不了哭哭，原本寫法太87放來對比一下嗚嗚"
   ]
  },
  {
   "cell_type": "code",
   "execution_count": null,
   "metadata": {},
   "outputs": [],
   "source": [
    "\n",
    "\n",
    "\n",
    "class Solution:\n",
    "    def addTwoNumbers(self, l1: ListNode, l2: ListNode) -> ListNode:\n",
    "        \n",
    "        \n",
    "        a = l1\n",
    "        b = l2\n",
    "        new_list = ListNode(0)\n",
    "        c = new_list\n",
    "       \n",
    "    \n",
    "        while c:\n",
    "           \n",
    "            if a and b:\n",
    "                sum = a.val + b.val\n",
    "                a = a.next\n",
    "                b = b.next\n",
    "            elif a:\n",
    "                sum = a.val\n",
    "                a = a.next\n",
    "            elif b:\n",
    "                sum = b.val\n",
    "                b = b.next\n",
    "                \n",
    "\n",
    "            if a or b:\n",
    "                c.next = ListNode(0)\n",
    "                c.val = c.val + sum\n",
    "                if c.val >= 10 :\n",
    "                    c.val = c.val % 10 \n",
    "                    c.next.val = 1 \n",
    "            else:\n",
    "                c.val = c.val + sum\n",
    "                if c.val >= 10:\n",
    "                    c.val = c.val % 10\n",
    "                    c.next = ListNode(0)\n",
    "                    c.next.val = 1\n",
    "                    c.next.next = None\n",
    "                else:\n",
    "                    c.next = None\n",
    "\n",
    "                \n",
    "            c = c.next\n",
    "        \n",
    "        \n",
    "        return new_list\n",
    "            "
   ]
  },
  {
   "cell_type": "markdown",
   "metadata": {},
   "source": [
    "### 想法二\n",
    "\n",
    "看別人的解，好看多了，一個重點是，a節點有就加a節點，b節點有就加b節點，加到的值傳到新的listnode之中，如果有進位的話就用n//10讓他變回0或1（真聰明嗚嗚）接著跑下個迴圈\n",
    "\n",
    "另外一個小重點是可以設一個虛假首節點，以免指標向後指之後傳不回原來要的完整ListNode!\n",
    "\n"
   ]
  },
  {
   "cell_type": "code",
   "execution_count": 6,
   "metadata": {},
   "outputs": [],
   "source": [
    "# Definition for singly-linked list.\n",
    "class ListNode:\n",
    "    def __init__(self, val=0, next=None):\n",
    "        self.val = val\n",
    "        self.next = next\n",
    "class Solution:\n",
    "    def addTwoNumbers(self, l1: ListNode, l2: ListNode) -> ListNode:\n",
    "        \n",
    "        root = ListNode(0)\n",
    "        result = root\n",
    "        a = l1\n",
    "        b = l2\n",
    "        n = 0\n",
    "        \n",
    "        while a or b or n:\n",
    "            \n",
    "            if a:\n",
    "                n += a.val \n",
    "                a = a.next\n",
    "                \n",
    "            if b:\n",
    "                n += b.val\n",
    "                b = b.next\n",
    "               \n",
    "            result.next = ListNode(n % 10)\n",
    "            result = result.next\n",
    "            n = n // 10\n",
    "            \n",
    "        return root.next"
   ]
  },
  {
   "cell_type": "markdown",
   "metadata": {},
   "source": [
    "## 206. Reverse Linked List\n",
    "\n",
    "Given the head of a singly linked list, reverse the list, and return the reversed list."
   ]
  },
  {
   "cell_type": "markdown",
   "metadata": {},
   "source": [
    "### 想法一\n",
    "\n",
    "灌水一題～～三個指標，下一個保留節點、當前節點、前一個節點～～"
   ]
  },
  {
   "cell_type": "code",
   "execution_count": 1,
   "metadata": {},
   "outputs": [],
   "source": [
    "# Definition for singly-linked list.\n",
    "class ListNode:\n",
    "    def __init__(self, val=0, next=None):\n",
    "        self.val = val\n",
    "        self.next = next\n",
    "class Solution:\n",
    "    def reverseList(self, head: ListNode) -> ListNode:\n",
    "        \n",
    "        prev = None\n",
    "        cur = head\n",
    "        \n",
    "        while cur:\n",
    "            nextkeep = cur.next\n",
    "            cur.next = prev\n",
    "            prev = cur\n",
    "            cur = nextkeep\n",
    "        \n",
    "        return prev"
   ]
  },
  {
   "cell_type": "markdown",
   "metadata": {},
   "source": [
    "## 725. Split Linked List in Parts\n",
    "\n",
    "Given the head of a singly linked list and an integer k, split the linked list into k consecutive linked list parts.\n",
    "\n",
    "The length of each part should be as equal as possible: no two parts should have a size differing by more than one. This may lead to some parts being null.\n",
    "\n",
    "The parts should be in the order of occurrence in the input list, and parts occurring earlier should always have a size greater than or equal to parts occurring later."
   ]
  },
  {
   "cell_type": "markdown",
   "metadata": {},
   "source": [
    "### 想法：\n",
    "要先知道listnode的長度，然後除以k(分幾個part)，商數為每個part的基本length(n)，有餘數的話，餘數可以分給其他part\n",
    "- len listnode長度\n",
    "- k 分幾個part \n",
    "- n 每個part的length\n",
    "\n",
    "```\n",
    "len // k = n \n",
    "len % k = a \n",
    "處理餘數a \n",
    "a % k  = aa   #前面aa個 n+1 \n",
    "a // k = qaa   #所有加qaa \n",
    "n = n + qaa  #n先加上qaa\n",
    "```\n",
    "\n",
    "例如23要分4份：\n",
    "\n",
    "```\n",
    "23 // 4 = 5 n==5\n",
    "23 % 5 = 3  餘數為3\n",
    "3 % 4 = 3 （前三個part n+1) \n",
    "3 // 4 = 0 (所有n+0) 餘數可以平均分幾輪\n",
    "\n",
    "```\n",
    "\n",
    "\n",
    "跑串列！注意要設虛首節點\n",
    "\n",
    "第i個part<br> \n",
    "跑n個，如果有i < a，多跑一個節點，跑完之後下一個node存下來，然後尾node給到None，可以回傳第一個part，然後把指標傳給剛剛存的下一個node <br>\n",
    "如果沒有要加餘數，就正常跑n個節點，然後步驟跟上面一樣 <br>\n",
    "如果沒有節點了，就不移動指標直接append空串列\n",
    "\n",
    "\n",
    "\n",
    "大guy4醬\n",
    "\n",
    "\n",
    "\n"
   ]
  },
  {
   "cell_type": "code",
   "execution_count": 3,
   "metadata": {},
   "outputs": [],
   "source": [
    "# Definition for singly-linked list.\n",
    "# class ListNode:\n",
    "#     def __init__(self, val=0, next=None):\n",
    "#         self.val = val\n",
    "#         self.next = next\n",
    "class Solution:\n",
    "    def splitListToParts(self, head: ListNode, k: int) -> list:\n",
    "        \n",
    "        # 先算出len(head)\n",
    "        i = 0\n",
    "        cur = head\n",
    "        while cur:\n",
    "            cur = cur.next\n",
    "            i = i+1\n",
    "        length = i\n",
    "        print(length)\n",
    "\n",
    "\n",
    "        # 每個part要的節點數(n)\n",
    "        n = length // k \n",
    "        a = length % k\n",
    "        q = a // k\n",
    "        n = n + q \n",
    "        print(n)\n",
    "        \n",
    "        ptr = head\n",
    "        \n",
    "        result = []\n",
    "        for i in range(k):\n",
    "            #建立串列\n",
    "            dummyhead = ListNode()\n",
    "            dummyhead.next = ptr\n",
    "            \n",
    "            # 把餘數分配給前幾個node\n",
    "            if i < a:\n",
    "                # 存n+1個節點，但ptr停在第n個\n",
    "                for ii in range(n):\n",
    "                    ptr = ptr.next\n",
    "                keep = ptr.next\n",
    "                ptr.next = None\n",
    "                result.append(dummyhead.next)\n",
    "                ptr = keep\n",
    "                \n",
    "            else:\n",
    "                if n >= 1:\n",
    "                    for ii in range(n-1):\n",
    "                        ptr = ptr.next\n",
    "                    keep = ptr.next\n",
    "                    ptr.next = None\n",
    "                    result.append(dummyhead.next)\n",
    "                    ptr = keep\n",
    "                else:\n",
    "                    result.append(dummyhead.next)\n",
    "                   \n",
    "    \n",
    "        \n",
    "        return result"
   ]
  },
  {
   "cell_type": "markdown",
   "metadata": {},
   "source": [
    "## 142. Linked List Cycle II\n",
    "\n",
    "Given the head of a linked list, return the node where the cycle begins. If there is no cycle, return null.\n",
    "\n",
    "There is a cycle in a linked list if there is some node in the list that can be reached again by continuously following the next pointer. <br>\n",
    "Internally, pos is used to denote the index of the node that tail's next pointer is connected to (0-indexed). <br>\n",
    "It is -1 if there is no cycle. \n",
    "\n",
    "Note that pos is not passed as a parameter.\n",
    "\n",
    "Do not modify the linked list."
   ]
  },
  {
   "cell_type": "markdown",
   "metadata": {},
   "source": [
    "### 想法一\n",
    "\n",
    "+ 想法是需判別是不是循環，再來是找出初始循環點\n",
    "+ 可用快慢指針法，在進入環之前，快指針一定跑在慢指針前面，進入環之後，快指針就是每往前一次都會靠近慢指針一步，並且在一圈之內一定會跟慢指針相遇。\n",
    "+ x是首節點走到環開始的點的步數，y是從環開始的點走到相遇點的步數，z是相遇點走回環開始的點的步數, n是相遇前快指針走的圈數\n",
    "+ 2(x+y) = x+n(y+z)+y  相遇時，慢節點步數的兩倍會等於快節點\n",
    "+ 式子簡化後，可以發現 x = n-1(y+z) + z，y+z就是走一圈環的步數，從這個式子可以發現，如果一個指針從z開始走，一個從首節點開始走，最後一定會在環開始的點相遇\n",
    "+ 誰想得到啦= = 這個不是我自己想的，哭哭"
   ]
  },
  {
   "cell_type": "code",
   "execution_count": 3,
   "metadata": {},
   "outputs": [],
   "source": [
    "class ListNode:\n",
    "    def __init__(self, val=0, next=None):\n",
    "        self.val = val\n",
    "        self.next = next\n",
    "\n",
    "class Solution:\n",
    "    def detectCycle(self, head: ListNode) -> ListNode:\n",
    "             \n",
    "        fast = slow = head\n",
    "   \n",
    "        while fast and fast.next:\n",
    "            fast = fast.next.next\n",
    "            slow = slow.next\n",
    "            if fast == slow:              \n",
    "                while slow != head:\n",
    "                    slow = slow.next\n",
    "                    head = head.next\n",
    "            \n",
    "                return head\n",
    "            \n",
    "        \n",
    "        return None"
   ]
  },
  {
   "cell_type": "markdown",
   "metadata": {},
   "source": [
    "## 328. Odd Even Linked List\n",
    "\n",
    "Given the head of a singly linked list, group all the nodes with odd indices together followed by the nodes with even indices, and return the reordered list.\n",
    "\n",
    "The first node is considered odd, and the second node is even, and so on.\n",
    "\n",
    "Note that the relative order inside both the even and odd groups should remain as it was in the input.\n",
    "\n",
    "You must solve the problem in O(1) extra space complexity and O(n) time complexity.\n",
    "\n",
    "```\n",
    "Input: head = [1,2,3,4,5]\n",
    "Output: [1,3,5,2,4]\n",
    "\n",
    "```"
   ]
  },
  {
   "cell_type": "markdown",
   "metadata": {},
   "source": [
    "### 想法一：\n",
    "啊就設兩個指標去找奇數節點及偶數節點，另外要設兩個頭節點以免最後找不到頭。"
   ]
  },
  {
   "cell_type": "code",
   "execution_count": null,
   "metadata": {},
   "outputs": [],
   "source": [
    "# Definition for singly-linked list.\n",
    "class ListNode:\n",
    "    def __init__(self, val=0, next=None):\n",
    "        self.val = val\n",
    "        self.next = next\n",
    "class Solution:\n",
    "    def oddEvenList(self, head: Optional[ListNode]) -> Optional[ListNode]:\n",
    "        # 設四個Pointer，兩個指向第一個，兩個指向第二個\n",
    "        if not head:\n",
    "            return None\n",
    "        elif not head.next:\n",
    "            return head\n",
    "        po = head\n",
    "        pe = head.next\n",
    "        even = ListNode()\n",
    "        res = ListNode()\n",
    "        even.next = pe\n",
    "        res.next = po\n",
    "        \n",
    "        while pe.next:\n",
    "            po.next = pe.next\n",
    "            po = po.next\n",
    "            if po.next:\n",
    "                pe.next = po.next\n",
    "                pe = pe.next\n",
    "            else:\n",
    "                pe.next = None\n",
    "                break\n",
    "        \n",
    "        po.next = even.next\n",
    "        \n",
    "\n",
    "        return res.next"
   ]
  },
  {
   "attachments": {},
   "cell_type": "markdown",
   "metadata": {},
   "source": [
    "## 1721. Swapping Nodes in a Linked List\n",
    "\n",
    "You are given the head of a linked list, and an integer k.\n",
    "\n",
    "Return the head of the linked list after swapping the values of the kth node from the beginning and the kth node from the end (the list is 1-indexed).\n",
    "\n",
    "https://leetcode.com/problems/swapping-nodes-in-a-linked-list/description/\n",
    "\n",
    "### Example\n",
    "```\n",
    "Input: head = [1,2,3,4,5], k = 2\n",
    "Output: [1,4,3,2,5]\n",
    "\n",
    "```"
   ]
  },
  {
   "attachments": {},
   "cell_type": "markdown",
   "metadata": {},
   "source": [
    "### 想法：\n",
    "先找出左邊的節點，再找右邊的節點（計算多k步後何時走到盡頭即可找到），接著將兩個node的值互換，接著回傳一開始的head即可"
   ]
  },
  {
   "cell_type": "code",
   "execution_count": null,
   "metadata": {},
   "outputs": [],
   "source": [
    "# Definition for singly-linked list.\n",
    "class ListNode:\n",
    "    def __init__(self, val=0, next=None):\n",
    "        self.val = val\n",
    "        self.next = next\n",
    "class Solution:\n",
    "    def swapNodes(self, head: Optional[ListNode], k: int) -> Optional[ListNode]:\n",
    "\n",
    "        # 先找到left node\n",
    "        leftnode = head\n",
    "        for i in range(1,k):\n",
    "            leftnode = leftnode.next\n",
    "\n",
    "        # 再找right node\n",
    "        current = leftnode\n",
    "        rightnode = head\n",
    "        while current.next:\n",
    "            current = current.next\n",
    "            rightnode = rightnode.next\n",
    "        \n",
    "        # 交換值\n",
    "        leftnode.val, rightnode.val = rightnode.val, leftnode.val\n",
    "\n",
    "        return head"
   ]
  },
  {
   "cell_type": "markdown",
   "metadata": {},
   "source": [
    "# String****"
   ]
  },
  {
   "cell_type": "markdown",
   "metadata": {},
   "source": [
    "## 14. Longest Common Prefix\n",
    "\n",
    "Write a function to find the longest common prefix string amongst an array of strings.\n",
    "\n",
    "If there is no common prefix, return an empty string \"\".\n",
    "```\n",
    "Example:\n",
    "Input: strs = [\"flower\",\"flow\",\"flight\"]\n",
    "Output: \"fl\"\n",
    "```"
   ]
  },
  {
   "cell_type": "markdown",
   "metadata": {},
   "source": [
    "### 想法一\n",
    "\n",
    "- 查找的順序是[0][0] >> [1][0] >> [2][0] ... [n][0]，當一樣的話就找下一個，如果最後查到n==(len(strs))就把這個值加到要return的string中\n",
    "- 如果不一樣然後停下來了，沒到n，就直接return result\n",
    "- 主要是會out of range，所以要注意不要超過最短字串的length，為此多跑一個loop有點87，哭啊"
   ]
  },
  {
   "cell_type": "code",
   "execution_count": 16,
   "metadata": {},
   "outputs": [],
   "source": [
    "\n",
    "def longestCommonPrefix(strs) -> str:\n",
    "    \n",
    "    \n",
    "    result = ''\n",
    "    \n",
    "    # 先找最短字串，小心別超過\n",
    "    if strs:\n",
    "        min_len = len(strs[0])\n",
    "        for i in strs:\n",
    "            if min_len > len(i):\n",
    "                min_len = len(i)\n",
    "    else:\n",
    "        return None\n",
    "                    \n",
    "        \n",
    "    i = 0\n",
    "    j = 0\n",
    "    while j < min_len:\n",
    "        i = 0\n",
    "        prefix = strs[i][j]\n",
    "\n",
    "        for i in range(len(strs)):\n",
    "            if prefix == strs[i][j]:\n",
    "                idx = i\n",
    "            else:\n",
    "                break\n",
    "\n",
    "        if idx+1 == len(strs):\n",
    "            result = result + prefix\n",
    "            j += 1\n",
    "        else: \n",
    "            return result\n",
    "    \n",
    "    return result\n",
    "        "
   ]
  },
  {
   "cell_type": "markdown",
   "metadata": {},
   "source": [
    "### 想法二\n",
    "其他人寫的嗚嗚\n",
    "\n"
   ]
  },
  {
   "cell_type": "code",
   "execution_count": 32,
   "metadata": {},
   "outputs": [],
   "source": [
    "def longestCommonPrefix_2(strs) -> str:\n",
    "    \n",
    "    strs.sort(key = lambda x:len(x))\n",
    "    prefix = strs[0]\n",
    "    for i in range(len(strs[0]),0,-1):\n",
    "        if all([prefix[:i] == strs[j][:i] for j in range(1,len(strs))]):\n",
    "            return(prefix[:i])\n",
    "    return \"\""
   ]
  },
  {
   "cell_type": "code",
   "execution_count": 31,
   "metadata": {},
   "outputs": [
    {
     "data": {
      "text/plain": [
       "'fld'"
      ]
     },
     "execution_count": 31,
     "metadata": {},
     "output_type": "execute_result"
    }
   ],
   "source": [
    "a = longestCommonPrefix([\"fld\",'fldslfd'])\n",
    "a\n"
   ]
  },
  {
   "cell_type": "markdown",
   "metadata": {},
   "source": [
    "## 49. Group Anagrams\n",
    "\n",
    "Given an array of strings strs, group the anagrams together. You can return the answer in any order.\n",
    "\n",
    "An Anagram is a word or phrase formed by rearranging the letters of a different word or phrase, typically using all the original letters exactly once."
   ]
  },
  {
   "cell_type": "markdown",
   "metadata": {},
   "source": [
    "### 想法一\n",
    "\n",
    "把字串sorted然後再join回來，再把這個值放到dict的key中，接著把每個字串append到有對應到的key中，接著回傳這個dict的value\n",
    "\n",
    "啊我做出一條排序的字串列又再做一個空dictionary，很87，別人直接跑一次for loop就好了，還用了defaultdict()，就是當找不到key值時，直接幫你做一個，裡面的空值就依default的type給，讚讚\n",
    "\n",
    "[defaultdict的參考](https://www.jianshu.com/p/bbd258f99fd3)<br>\n",
    "[collections的參考](https://ithelp.ithome.com.tw/articles/10193094)\n"
   ]
  },
  {
   "cell_type": "code",
   "execution_count": 20,
   "metadata": {},
   "outputs": [],
   "source": [
    "strs = [\"eat\",\"tea\",\"tan\",\"ate\",\"nat\",\"bat\"]"
   ]
  },
  {
   "cell_type": "code",
   "execution_count": 91,
   "metadata": {},
   "outputs": [],
   "source": [
    "from collections import defaultdict\n",
    "\n",
    "\n",
    "# 我自己寫的\n",
    "def groupAnagrams(strs):\n",
    "    \n",
    "    sort_map = list(map(lambda x: ''.join(sorted(x)), strs))\n",
    "    a = sort_map[0]\n",
    "\n",
    "    ref = {a:[strs[0]]}\n",
    "    \n",
    "    for i, v in enumerate(sort_map[1:]):\n",
    "        if v in ref:\n",
    "            ref[v].append(strs[i+1])\n",
    "        else:\n",
    "            ref[v] = [strs[i+1]]\n",
    "\n",
    "    return list(ref.values())\n",
    "\n",
    "\n",
    "# 想法差不多，但人家寫的多簡單，嗚嗚\n",
    "def groupAnagrams_2(strs):\n",
    "            \n",
    "        anadict = defaultdict(list)                    # Ex: [\"eat\",\"tea\",\"tan\",\"ate\",\"nat\",\"bat\"]                     \n",
    "        \n",
    "        for s in strs:                  #  s   ana  anadict   \n",
    "            ana = ''.join(sorted(s))    # –––  –––  –––––––  \n",
    "            anadict[ana].append(s)      # eat  aet  {'aet': ['eat']}\n",
    "                                        # tea  aet  {'aet': ['eat', 'tea']}\n",
    "                                        # tan  ant  {'aet': ['eat', 'tea'], 'ant': ['tan']}\n",
    "                                        # ate  aet  {'aet': ['eat', 'tea', 'ate'], 'ant': ['tan']}\n",
    "                                        # nat  ant  {'aet': ['eat', 'tea', 'ate'], 'ant': ['tan', 'nat']}\n",
    "                                        # bat  abt  {'aet': ['eat', 'tea', 'ate'], 'ant': ['tan', 'nat'], 'abt': ['bat']}\n",
    "\n",
    "        return list(anadict.values()) \n",
    "\n"
   ]
  },
  {
   "cell_type": "code",
   "execution_count": 93,
   "metadata": {},
   "outputs": [
    {
     "data": {
      "text/plain": [
       "[['eat', 'tea', 'ate'], ['tan', 'nat'], ['bat']]"
      ]
     },
     "execution_count": 93,
     "metadata": {},
     "output_type": "execute_result"
    }
   ],
   "source": [
    "groupAnagrams(strs)"
   ]
  },
  {
   "cell_type": "markdown",
   "metadata": {},
   "source": [
    "## 796. Rotate String\n",
    "Given two strings s and goal, return true if and only if s can become goal after some number of shifts on s.\n",
    "\n",
    "A shift on s consists of moving the leftmost character of s to the rightmost position.\n",
    "```\n",
    "For example, if s = \"abcde\", then it will be \"bcdea\" after one shift.\n",
    "```"
   ]
  },
  {
   "cell_type": "markdown",
   "metadata": {},
   "source": [
    "### 想法一\n",
    "\n",
    "第1個數開頭、第2個數開頭...第n個數開頭，共n種可能，其中一種會對到goal~~~~~~~~~~~~~~~~"
   ]
  },
  {
   "cell_type": "code",
   "execution_count": 19,
   "metadata": {},
   "outputs": [],
   "source": [
    "def rotateString(s: str, goal: str) -> bool:\n",
    "    \n",
    "    if len(s) == len(goal):\n",
    "        ori = s\n",
    "        s = s[1:] + s[:1]\n",
    "        while s != ori:\n",
    "            s = s[1:] + s[:1]    \n",
    "            if s == goal:\n",
    "                return True\n",
    "\n",
    "    return False\n"
   ]
  },
  {
   "cell_type": "markdown",
   "metadata": {},
   "source": [
    "### 想法二\n",
    "\n",
    "goal一定會是s+s的substring"
   ]
  },
  {
   "cell_type": "code",
   "execution_count": 25,
   "metadata": {},
   "outputs": [],
   "source": [
    "def rotateString_2(s: str, goal: str) -> bool:\n",
    "\n",
    "\n",
    "    return len(s) == len(goal) and goal in s+s"
   ]
  },
  {
   "cell_type": "code",
   "execution_count": 27,
   "metadata": {},
   "outputs": [
    {
     "name": "stdout",
     "output_type": "stream",
     "text": [
      "False\n"
     ]
    }
   ],
   "source": [
    "s = 'string'\n",
    "goal = 'stringddd'\n",
    "rotateString(s,goal)\n",
    "print(rotateString_2(s,goal))"
   ]
  },
  {
   "cell_type": "markdown",
   "metadata": {},
   "source": [
    "## 541. Reverse String II\n",
    "\n",
    "Given a string s and an integer k, reverse the first k characters for every 2k characters counting from the start of the string.\n",
    "\n",
    "If there are fewer than k characters left, reverse all of them. If there are less than 2k but greater than or equal to k characters, then reverse the first k characters and leave the other as original."
   ]
  },
  {
   "cell_type": "markdown",
   "metadata": {},
   "source": [
    "### 想法一\n",
    "\n",
    "n = len(s)\n",
    "把字串split成n//k +1組，每組k個，第1,3,5...組要reverse，如果最後一組未滿k個，就看那組是不是要reverse的，是就reverse，不是就正常尾數傳回來\n",
    "\n",
    "```                \n",
    "#         s[0:k]\n",
    "#         s[1k:2k][::-1] \n",
    "#         s[2k:3k]\n",
    "#         s[3k:4k][::-1]\n",
    "#         s[4k:n]\n",
    "        \n",
    "```"
   ]
  },
  {
   "cell_type": "code",
   "execution_count": 46,
   "metadata": {},
   "outputs": [],
   "source": [
    "def reverseStr(s: str, k: int) -> str:\n",
    "       \n",
    "    n = len(s)\n",
    "    q = n // k\n",
    "    \n",
    "    i = 0\n",
    "    result = ''\n",
    "    \n",
    "    for i in range(q+1):\n",
    "\n",
    "        if i % 2 == 0:\n",
    "            si = s[(i*k):((i+1)*k)][::-1]\n",
    "        else:\n",
    "            si = s[(i*k):((i+1)*k)]\n",
    "        \n",
    "        i += 1\n",
    "        result += si\n",
    "        \n",
    "        \n",
    "        \n",
    "    return result\n",
    "\n",
    "\n",
    "\n",
    "# 其他的嗚嗚，直接用了range(start, stop, step)每隔兩組改一次裡面的值，不用額外再用一個result去加\n",
    "\n",
    "def reverseStr_2(s, k):\n",
    "    a = list(s)\n",
    "    for i in range(0, len(a), 2*k):\n",
    "        a[i:i+k] = a[i:i+k][::-1]\n",
    "    return \"\".join(a)"
   ]
  },
  {
   "cell_type": "code",
   "execution_count": 6,
   "metadata": {},
   "outputs": [
    {
     "name": "stdout",
     "output_type": "stream",
     "text": [
      "ba cd fe ggg\n"
     ]
    }
   ],
   "source": [
    "s = 'abcdefgggg'\n",
    "k=2\n",
    "print(s[0:2][::-1],\n",
    "s[2:4],\n",
    "s[4:6][::-1],\n",
    "s[6:9],)\n",
    "\n",
    "# print(reverseStr_2(s,3))\n"
   ]
  },
  {
   "cell_type": "markdown",
   "metadata": {},
   "source": [
    "## 767. Reorganize String\n",
    "\n",
    "Given a string s, rearrange the characters of s so that any two adjacent characters are not the same.\n",
    "\n",
    "Return any possible rearrangement of s or return \"\" if not possible.\n",
    "\n"
   ]
  },
  {
   "cell_type": "code",
   "execution_count": 25,
   "metadata": {},
   "outputs": [],
   "source": [
    "\n",
    "def reorganizeString(s: str) -> str:\n",
    "\n",
    "    if len(s) == 1:\n",
    "        return s\n",
    "\n",
    "    # 計算出現的字母與他們重複幾次\n",
    "    strdict = {}\n",
    "    for v in list(s):\n",
    "        if v in strdict:\n",
    "            strdict[v] += 1\n",
    "        else:\n",
    "            strdict[v] = 1\n",
    "\n",
    "    # 從重複次數最少的字母排到重複次數最多的字母，重複次數最多的一組切掉，剩下的放到insert_str\n",
    "    ss = [(k,v) for k,v in strdict.items()]\n",
    "    ss = sorted(ss, key=lambda x: x[1])\n",
    "    insert_str = ''\n",
    "    for k,v in ss[:-1]:\n",
    "        insert_str = insert_str + k*v\n",
    "\n",
    "    # 把最多的那個字串間隔放好，然後把insert_str的字串依間隔的洞插進去，直到剩下的字串都插完\n",
    "\n",
    "    # 做一個間隔的list\n",
    "    output_list = ['']*2*ss[-1][1]\n",
    "    for i in range(0, len(output_list), 2):\n",
    "        output_list[i] = ss[-1][0]\n",
    "\n",
    "    # 如果剩下的字串塞不滿一輪間隔，或根本沒有剩下的字串可以插，就return空字串，代表一定會有相連字母\n",
    "    if len(insert_str) < ss[-1][1]-1 or len(insert_str) == 0:\n",
    "        return ''\n",
    "   \n",
    "    # 看一下insert_str可以插幾輪（n)，插完後如果insert_str還有剩，再把剩下的插進去間隔\n",
    "    n = len(insert_str) // ss[-1][1]\n",
    "    \n",
    "    for k in range(n): \n",
    "        for i in range(1, len(output_list), 2):\n",
    "            output_list[i] += insert_str[-1]\n",
    "            insert_str = insert_str[:-1]\n",
    "            \n",
    "    if insert_str:\n",
    "        k = 1\n",
    "        for i in insert_str:\n",
    "            output_list[k] += insert_str[-1]\n",
    "            insert_str = insert_str[:-1]\n",
    "            k += 2\n",
    "        \n",
    "    result = ''.join(output_list)\n",
    "    \n",
    "    return result\n",
    "    "
   ]
  },
  {
   "cell_type": "markdown",
   "metadata": {},
   "source": [
    "## 3. Longest Substring Without Repeating Characters\n",
    "\n",
    "Given a string s, find the length of the longest substring without repeating characters.\n",
    "\n"
   ]
  },
  {
   "cell_type": "markdown",
   "metadata": {},
   "source": [
    "### 想法一\n",
    "\n",
    "1. 設一個要放sub_string_number的空List<br>\n",
    "2. for i in s, 判斷i有沒有在dict中，沒有的話就加到key中，已經有這個key的話，就將dict中有多少key的數字append到sub_string_number中，然後把這個dict變空，再加一次現在的字母到dict的key中<br>\n",
    "3. return max(sub_string_number)\n",
    "\n",
    "\n",
    "所遇到的問題：因為是順序的方式，如果s為dvdf，那最長不重複字串應該為「vdf」，但目前方法會難以回溯去判別不重複字串長度，所以這個方法不可行。\n",
    "\n",
    "那可以改成用兩個指針的方式，一個指針指向目標字串的首字母(left)，一個指針指向目標字串的尾字母(right)，一開始兩指針都指在主字串第一個字母，left先不動，right往後移動，right指針指到的字母就加入字典，如果下一個指到的字母在字典內有出現過，回傳right idx - left idx的值並append到sub_str_num的list中，則left指針向前移一格，然後right指針回來和left指在同一位置，直到right指到主字串最後一個數。\n",
    "\n",
    "改良後可成功submit，但是時間複雜度高，空間使用也大～～"
   ]
  },
  {
   "cell_type": "code",
   "execution_count": 16,
   "metadata": {},
   "outputs": [],
   "source": [
    "# sub_str_num = []\n",
    "# sub_str = {}\n",
    "# for i in s:\n",
    "#     if i in sub_str:\n",
    "#         sub_str_num.append(len(sub_str.keys()))\n",
    "#         sub_str = {}\n",
    "#         sub_str[i] = True\n",
    "#     else:\n",
    "#         sub_str[i] = True\n",
    "\n",
    "# sub_str_num.append(len(sub_str.keys()))\n",
    "\n",
    "# print(sub_str)\n",
    "# print(sub_str_num)\n",
    "# print(max(sub_str_num))\n",
    "\n",
    "def lengthOfLongestSubstring(s: str) -> int:\n",
    "    if len(s) == 0:\n",
    "        return 0\n",
    "    i = 1\n",
    "    k = 0\n",
    "    sub_str ={}\n",
    "    sub_str_num = []\n",
    "    while i < len(s):\n",
    "        left = s[k]\n",
    "        right = s[i]\n",
    "        sub_str[left] = True\n",
    "        if right not in sub_str:\n",
    "            sub_str[right] = True\n",
    "            i += 1\n",
    "        else:\n",
    "            sub_str_num.append(i - k)\n",
    "            sub_str = {}\n",
    "            k += 1\n",
    "            i = k + 1\n",
    "\n",
    "    sub_str_num.append(i-k)\n",
    "\n",
    "    return max(sub_str_num)\n"
   ]
  },
  {
   "cell_type": "markdown",
   "metadata": {},
   "source": [
    "### 想法二\n",
    "\n",
    "別人寫的，改良最大的部分，就是如果遇上之前沒遇過的字母，字典新增一個key，但裡面還沒有值（值還為0)，所以start還會在原本的start，end則往後指，而字典新增完字母之後，會以目前index+1設為新的start（也就是之後遇上重複字母時，sliding window的起始位置要移去上一個重複字母的下一位），接著一路計算sliding window的length(起始終點位置左右閉合，長度為end-start+1)，並在每一輪中保留較長的長度。\n",
    "\n",
    "這個想法中，右指標不回溯，移動初始位置即可，可節省時間，然後用max每輪保留較長的目標字串長度，也比原本全部append到一個list之中再找最大值節省空間。\n",
    "而初始位置要移動到哪裡，則巧妙地用Hash table，將如果下一個字母重複時會導到的位置存在value之中，方便初始位置移動。"
   ]
  },
  {
   "cell_type": "code",
   "execution_count": 59,
   "metadata": {},
   "outputs": [],
   "source": [
    "from collections import defaultdict\n",
    "def lengthOfLongestSubstring_2(s: str) -> int:\n",
    "\n",
    "    max_len = 0\n",
    "    pos = defaultdict(int)\n",
    "    start = 0\n",
    "    \n",
    "    for end, v in enumerate(s):\n",
    "        start = max(start, pos[v])\n",
    "        max_len = max(max_len, end-start+1)\n",
    "        pos[v] = end + 1\n",
    "        print(start, end)\n",
    "            \n",
    "    return max_len"
   ]
  },
  {
   "cell_type": "code",
   "execution_count": 61,
   "metadata": {},
   "outputs": [
    {
     "name": "stdout",
     "output_type": "stream",
     "text": [
      "0 0\n",
      "0 1\n",
      "1 2\n",
      "2 3\n",
      "4 4\n"
     ]
    },
    {
     "data": {
      "text/plain": [
       "2"
      ]
     },
     "execution_count": 61,
     "metadata": {},
     "output_type": "execute_result"
    }
   ],
   "source": [
    "s = 'avavv'\n",
    "lengthOfLongestSubstring_2(s)"
   ]
  },
  {
   "cell_type": "code",
   "execution_count": 37,
   "metadata": {},
   "outputs": [
    {
     "data": {
      "text/plain": [
       "1"
      ]
     },
     "execution_count": 37,
     "metadata": {},
     "output_type": "execute_result"
    }
   ],
   "source": []
  },
  {
   "cell_type": "markdown",
   "metadata": {},
   "source": [
    "## 2131. Longest Palindrome by Concatenating Two Letter Words\n",
    "\n",
    "You are given an array of strings words. Each element of words consists of two lowercase English letters.\n",
    "\n",
    "Create the longest possible palindrome by selecting some elements from words and concatenating them in any order. Each element can be selected at most once.\n",
    "\n",
    "Return the length of the longest palindrome that you can create. If it is impossible to create any palindrome, return 0.\n",
    "\n",
    "A palindrome is a string that reads the same forward and backward."
   ]
  },
  {
   "cell_type": "markdown",
   "metadata": {},
   "source": [
    "### 想法一\n",
    "\n",
    "先找出兩個字母一樣的，然後算他們重複次數，用重複次數為奇數的做中間\n",
    "\n",
    "再來找可成對的字串\n",
    "\n",
    "接著從剩下字串中找至少可當邊邊的（注意這裡可視情況要不要和正中央的做抽換）（這個人的寫法沒有考慮到這步@@！！）\n",
    "\n",
    "[Leetcode Solution 討論區](https://leetcode.com/problems/longest-palindrome-by-concatenating-two-letter-words/solutions/2771999/python3-hash-map-approach-with-line-by-line-comments/)\n"
   ]
  },
  {
   "cell_type": "code",
   "execution_count": 17,
   "metadata": {},
   "outputs": [],
   "source": [
    "from collections import Counter\n",
    "\n",
    "# 別人寫的，但沒有考量到邊界可能有只配對到一個字母的情形\n",
    "\n",
    "def longestPalindrome(words: list) -> int:\n",
    "\n",
    "        # 計算每個字串的數量\n",
    "        counter = Counter(words)\n",
    "\n",
    "        res = mid = 0\n",
    "\n",
    "        for word in counter.keys():\n",
    "\n",
    "            # 如果有字母一樣的字串\n",
    "            if word[0] == word[1]:\n",
    "\n",
    "                res += counter[word] if counter[word] % 2 == 0 else counter[word] - 1  # 重複次數為偶數的話字串數目會被加入result\n",
    "\n",
    "                mid |= counter[word] % 2  # 重複次數為奇數的話會被當中間字串，mid = 1\n",
    "\n",
    "            # 如果有成對的字串\n",
    "            elif word[::-1] in counter:\n",
    "\n",
    "                res += min(counter[word], counter[word[::-1]])  # 這寫法好聰明，取重複次數比較少的字串（代表成對的數量），把字串數加到result\n",
    "\n",
    "\n",
    "        return (res + mid) * 2\n"
   ]
  },
  {
   "cell_type": "code",
   "execution_count": 20,
   "metadata": {},
   "outputs": [
    {
     "data": {
      "text/plain": [
       "6"
      ]
     },
     "execution_count": 20,
     "metadata": {},
     "output_type": "execute_result"
    }
   ],
   "source": [
    "s = [\"lc\",\"cl\",\"gg\",\"ac\",\"cc\"]\n",
    "\n",
    "longestPalindrome(s)"
   ]
  },
  {
   "cell_type": "markdown",
   "metadata": {},
   "source": [
    "## 345. Reverse Vowels of a String\n",
    "\n",
    "Given a string s, reverse only all the vowels in the string and return it.\n",
    "\n",
    "The vowels are 'a', 'e', 'i', 'o', and 'u', and they can appear in both lower and upper cases, more than once."
   ]
  },
  {
   "cell_type": "markdown",
   "metadata": {},
   "source": [
    "### 想法一\n",
    "\n",
    "先跑完一圈字串，看裡面有母音的字母位置，記錄index，再來用兩個一樣的字串list, 把正的index_list與反的index_list同時遞迴，就可以交換"
   ]
  },
  {
   "cell_type": "code",
   "execution_count": 11,
   "metadata": {},
   "outputs": [],
   "source": [
    "\n",
    "def reverseVowels(s: str) -> str:\n",
    "    vowels = {'a', 'e', 'i', 'o', 'u', 'A', 'E', 'I', 'O', 'U'}\n",
    "\n",
    "    idx = []\n",
    "    for i in range(len(s)):\n",
    "        if s[i] in vowels:\n",
    "            idx.append(i)\n",
    "\n",
    "    s = list(s)\n",
    "    r = s.copy()\n",
    "\n",
    "    for i, j in zip(idx, idx[::-1]):\n",
    "        s[i] = r[j]\n",
    "\n",
    "    return ''.join(s)  "
   ]
  },
  {
   "cell_type": "code",
   "execution_count": 12,
   "metadata": {},
   "outputs": [
    {
     "data": {
      "text/plain": [
       "'   fly mo   to   the moen  '"
      ]
     },
     "execution_count": 12,
     "metadata": {},
     "output_type": "execute_result"
    }
   ],
   "source": [
    "s = \"   fly me   to   the moon  \"\n",
    "len([i for i in s.split(' ') if len(i.replace(' ','')) > 0][-1])\n",
    "\n",
    "reverseVowels(s)"
   ]
  },
  {
   "cell_type": "markdown",
   "metadata": {},
   "source": [
    "## 12. Integer to Roman\n",
    "\n",
    "Roman numerals are represented by seven different symbols: I, V, X, L, C, D and M.\n",
    "```\n",
    "Symbol       Value\n",
    "I             1\n",
    "V             5\n",
    "X             10\n",
    "L             50\n",
    "C             100\n",
    "D             500\n",
    "M             1000\n",
    "\n",
    "```\n",
    "For example, 2 is written as II in Roman numeral, just two one's added together. 12 is written as XII, which is simply X + II. The number 27 is written as XXVII, which is XX + V + II.\n",
    "\n",
    "Roman numerals are usually written largest to smallest from left to right. However, the numeral for four is not IIII. Instead, the number four is written as IV. Because the one is before the five we subtract it making four. The same principle applies to the number nine, which is written as IX. There are six instances where subtraction is used:\n",
    "```\n",
    "I can be placed before V (5) and X (10) to make 4 and 9. \n",
    "X can be placed before L (50) and C (100) to make 40 and 90. \n",
    "C can be placed before D (500) and M (1000) to make 400 and 900.\n",
    "```\n",
    "Given an integer, convert it to a roman numeral.\n",
    "\n"
   ]
  },
  {
   "cell_type": "markdown",
   "metadata": {},
   "source": [
    "### 想法一\n",
    "有點使用暴力解，先看千位數字，看完後去掉剩百位數字，看完後再看十位，最後個位數，然後轉換法則因為規律差不多可以寫成函式，每個數字得到的字串join起來就好。"
   ]
  },
  {
   "cell_type": "code",
   "execution_count": null,
   "metadata": {},
   "outputs": [],
   "source": [
    "def intToRoman(num: int) -> str:\n",
    "\n",
    "        rom = []\n",
    "        while num:\n",
    "            if num // 1000 > 0 :\n",
    "                rom.append('M' * (num // 1000))\n",
    "                num = num % 1000\n",
    "            elif num // 100 > 0:\n",
    "                rom.append(int_trans(100, num))\n",
    "                num = num % 100\n",
    "            elif num // 10 > 0:\n",
    "                rom.append(int_trans(10, num))\n",
    "                num = num % 10\n",
    "            elif num > 0:\n",
    "                rom.append(int_trans(1, num))\n",
    "                num = ''\n",
    "            else:\n",
    "                num = ''\n",
    "\n",
    "        return ''.join(rom)\n",
    "\n",
    "def int_trans(scale, num):\n",
    "\n",
    "    dict = {1:'I', 5:'V', 10:'X', 50:'L', 100:'C', 500:'D', 1000:'M'}\n",
    "    n = num // scale\n",
    "    if n < 4:\n",
    "        return dict[scale] * n\n",
    "    elif n == 4:\n",
    "        return dict[scale] + dict[scale*5]\n",
    "    elif n == 5:\n",
    "        return dict[scale*5]\n",
    "    elif n < 9:\n",
    "        return dict[scale*5] + (dict[scale] * (n - 5))\n",
    "    else:\n",
    "        return dict[scale] + dict[scale*10]\n",
    "\n",
    "\n"
   ]
  },
  {
   "cell_type": "markdown",
   "metadata": {},
   "source": [
    "## 17. Letter Combinations of a Phone Number\n",
    "\n",
    "Given a string containing digits from 2-9 inclusive, return all possible letter combinations that the number could represent. Return the answer in any order.\n",
    "\n",
    "A mapping of digits to letters (just like on the telephone buttons) is given below. Note that 1 does not map to any letter\n",
    "\n",
    "```\n",
    " ref_map = {2:'abc', 3:'def', 4:'ghi', 5:'jkl', 6:'mno', 7:'pqrs', 8:'tuv', 9:'wxyz'}\n",
    "\n",
    "```\n",
    "Constraints:\n",
    "```\n",
    "0 <= digits.length <= 4\n",
    "digits[i] is a digit in the range ['2', '9'].\n",
    "```"
   ]
  },
  {
   "cell_type": "markdown",
   "metadata": {},
   "source": [
    "### 想法一\n",
    "暴力解，寫的有夠醜，他的tag裡面有Backtracking，可以研究一下，要不然這個code超級悲劇QQ"
   ]
  },
  {
   "cell_type": "code",
   "execution_count": null,
   "metadata": {},
   "outputs": [],
   "source": [
    "\n",
    "def letterCombinations(digits: str) -> List[str]:\n",
    "    ref_map = {2:'abc', 3:'def', 4:'ghi', 5:'jkl', 6:'mno', 7:'pqrs', 8:'tuv', 9:'wxyz'}\n",
    "    res = []\n",
    "    for dig in digits:\n",
    "        sub=[]\n",
    "        for i in ref_map[int(dig)]:\n",
    "            sub.append(i)\n",
    "        res.append(sub)\n",
    "\n",
    "    output = []\n",
    "    if len(res) > 0:\n",
    "        for i in res[0]:\n",
    "            if len(res) == 1:\n",
    "                output.append(i)\n",
    "            else:\n",
    "                for j in res[1]:\n",
    "                    if len(res) == 2:\n",
    "                        output.append(''.join([i,j]))\n",
    "                    else:\n",
    "                        for k in res[2]:\n",
    "                            if len(res) == 3:\n",
    "                                output.append(''.join([i,j,k]))\n",
    "                            else:\n",
    "                                for l in res[3]:\n",
    "                                    output.append(''.join([i,j,k,l]))\n",
    "    else:\n",
    "        return []\n",
    "\n",
    "\n",
    "    return output"
   ]
  },
  {
   "cell_type": "markdown",
   "metadata": {},
   "source": [
    "### 其他人的\n"
   ]
  },
  {
   "cell_type": "code",
   "execution_count": null,
   "metadata": {},
   "outputs": [],
   "source": [
    "class Solution:\n",
    "    def letterCombinations(self, digits: str) -> List[str]:\n",
    "        if not digits:\n",
    "            return []\n",
    "        letters = [\n",
    "            None,\n",
    "            None,\n",
    "            \"abc\",\n",
    "            \"def\",\n",
    "            \"ghi\",\n",
    "            \"jkl\",\n",
    "            \"mno\",\n",
    "            \"pqrs\",\n",
    "            \"tuv\",\n",
    "            \"wxyz\"\n",
    "        ]\n",
    "        iterables = list(letters[int(n)] for n in digits)\n",
    "        return [''.join(x) for x in product(*iterables)] "
   ]
  },
  {
   "cell_type": "markdown",
   "metadata": {},
   "source": [
    "## 5. Longest Palindromic Substring\n",
    "\n",
    "Given a string s, return the longest palindromic substring in s.\n",
    "\n",
    "https://leetcode.com/problems/longest-palindromic-substring/submissions/\n",
    "\n"
   ]
  },
  {
   "cell_type": "markdown",
   "metadata": {},
   "source": [
    "###  想法一\n",
    "\n",
    "先計算一圈整個字串之中各字母的出現數量，把有重複出現的字記下來，由左到右抓到這些字母與他們的index\n",
    "\n",
    "由最左邊的字母（有重複出現的）的第一次出現位置及最後出現位置向中間比對（左右指標），遇到對不上的話，右邊指標移到倒數第二個出現的位置，繼續向中間比對\n",
    "\n",
    "如果有對到（左右指標相遇left>=right) 就回傳這個回文字串長度，再來查找下一個重複出現的字母\n",
    "\n",
    "假設已經找到回文字串，且len(s) - 新查找字串的起頭index <= 目前已經記錄到的最長回文字串，整個找尋停止，回傳目前的回文子字串\n",
    "\n",
    "> 目前這個想法可以過，但字串較長或重複字串極多時，較會過不了time limit\n",
    "Example\n",
    "```\n",
    "\"aaaaaaaaaaaaaaaabaaaaaaaaaaaaaaaaa...\"\n",
    "\n",
    "```"
   ]
  },
  {
   "cell_type": "code",
   "execution_count": null,
   "metadata": {},
   "outputs": [],
   "source": [
    "def longestPalindrome(self, s: str) -> str:\n",
    "\n",
    "        # 計算重複字串與index\n",
    "        rep_str = defaultdict(list)\n",
    "        for i, v in enumerate(s):\n",
    "            rep_str[v].append(i)\n",
    "\n",
    "        rep_str = {k: v for k, v in rep_str.items() if len(v) > 1}\n",
    "\n",
    "        max_substr_len = 0   # 最長回文字串長度\n",
    "        palindrome_start = 0   # 起始位置\n",
    "        substr_len = 0\n",
    "        for idx, v in enumerate(s):\n",
    "\n",
    "            if v in rep_str:\n",
    "                i = 0\n",
    "                no_palin = True\n",
    "                while i < (len(rep_str[v]) -1) and no_palin:\n",
    "\n",
    "                \n",
    "                    left = idx  # 目前主字串的index(左起始)\n",
    "                    right = rep_str[v][::-1][i]   # 離最遠的相同字串index（右起始）\n",
    "                    substr_len = right - left + 1   # 如果找到的話，回文字串的長度\n",
    "\n",
    "\n",
    "                    while right > left and s[left] == s[right]:\n",
    "                        left += 1\n",
    "                        right -= 1\n",
    "                    \n",
    "                    \n",
    "                    if left >= right:  # 有找到回文字串，是目前最長的話就存起來\n",
    "                        if substr_len > max_substr_len:\n",
    "                            max_substr_len = substr_len\n",
    "                            palindrome_start = idx\n",
    "                        \n",
    "                        no_palin = False\n",
    "                        print(max_substr_len)\n",
    "\n",
    "                    else:   # 沒找到回文字串\n",
    "                        i += 1\n",
    "                        \n",
    "                    # 如果剩下的字串已經短於最長回文字串，就直接return結果\n",
    "                    if (len(s) - idx) <= max_substr_len:\n",
    "                        return s[palindrome_start: (palindrome_start + max_substr_len)]\n",
    "\n",
    "        print(palindrome_start, max_substr_len)\n",
    "        return s[0]\n"
   ]
  },
  {
   "cell_type": "markdown",
   "metadata": {},
   "source": [
    "### 想法二\n",
    "\n",
    "耶，也算自己想的，但時間很慢空間佔用很多，算是暴力解，偶爾會不過submit...<br>\n",
    "想法很簡單，就從最大的回文字串長度開始比對，不行的話就去比小一點的回文字串，直到找到回文字串為止。<br>\n",
    "寫了一個確認有沒有回文的子function在裡面 <br>\n",
    "比上面那個簡單明確多了～～上面那個有很多bug~~~~~\n"
   ]
  },
  {
   "cell_type": "code",
   "execution_count": 122,
   "metadata": {},
   "outputs": [
    {
     "data": {
      "text/plain": [
       "'abaaba'"
      ]
     },
     "execution_count": 122,
     "metadata": {},
     "output_type": "execute_result"
    }
   ],
   "source": [
    "s = 'abaabaa'\n",
    "n = len(s)\n",
    "def checkPalindrome(s:str) -> bool:\n",
    "    left = 0\n",
    "    right = len(s) - 1\n",
    "    while left <= right:\n",
    "        if s[left] == s[right]:\n",
    "            left += 1\n",
    "            right -= 1\n",
    "        else:\n",
    "            return False\n",
    "\n",
    "    return True\n",
    "\n",
    "\n",
    "checkPalindrome(s)\n",
    "\n",
    "def longestPalindrome(s: str) -> str:\n",
    "\n",
    "    n = len(s)  # 最長回文字串長度，從n開始找，找不到就-1，直到找到為止\n",
    "    if checkPalindrome(s):\n",
    "        return s\n",
    "\n",
    "    while n > 0:\n",
    "        li = 0\n",
    "        ri = n\n",
    "        while ri <= len(s) + 1:\n",
    "            sub_s = s[li:ri]\n",
    "            if checkPalindrome(sub_s):\n",
    "                return sub_s\n",
    "            else:\n",
    "                li += 1\n",
    "                ri += 1\n",
    "        n -= 1\n",
    "\n",
    "longestPalindrome(s)"
   ]
  },
  {
   "cell_type": "code",
   "execution_count": 74,
   "metadata": {},
   "outputs": [
    {
     "name": "stdout",
     "output_type": "stream",
     "text": [
      "1\n",
      "bacab\n",
      "2\n",
      "bacab\n",
      "4\n",
      "bacab\n",
      "5\n",
      "bacab\n"
     ]
    }
   ],
   "source": [
    "\n",
    "max_substr_len = 0   # 最長回文字串長度\n",
    "palindrome_start = 0   # 起始位置\n",
    "substr_len = 0\n",
    "for idx, v in enumerate(s):\n",
    "\n",
    "    if v in rep_str:\n",
    "        i = 0\n",
    "        no_palin = True\n",
    "        while i < (len(rep_str[v]) -1) and no_palin:\n",
    "\n",
    "           \n",
    "            left = idx  # 目前主字串的index(左起始)\n",
    "            right = rep_str[v][::-1][i]   # 離最遠的相同字串index（右起始）\n",
    "            substr_len = right - left + 1   # 如果找到的話，回文字串的長度\n",
    "\n",
    "            \n",
    "\n",
    "            while right > left and s[left] == s[right]:\n",
    "                left += 1\n",
    "                right -= 1\n",
    "            \n",
    "            \n",
    "            if left >= right:  # 有找到回文字串，是目前最長的話就存起來\n",
    "                if substr_len > max_substr_len:\n",
    "                    max_substr_len = substr_len\n",
    "                    palindrome_start = idx\n",
    "\n",
    "                    \n",
    "                \n",
    "                no_palin = False\n",
    "\n",
    "            else:   # 沒找到回文字串\n",
    "                i += 1\n",
    "                \n",
    "            # 如果剩下的字串已經短於最長回文字串，就直接return結果\n",
    "            if (len(s) - idx) <= max_substr_len:\n",
    "                print(idx)\n",
    "                print(s[palindrome_start: (palindrome_start + max_substr_len)])\n",
    "                break\n",
    "\n",
    "\n",
    "    "
   ]
  },
  {
   "cell_type": "markdown",
   "metadata": {},
   "source": [
    "## 6. Zigzag Conversion\n",
    "\n",
    "The string \"PAYPALISHIRING\" is written in a zigzag pattern on a given number of rows like this: (you may want to display this pattern in a fixed font for better legibility)\n",
    "```\n",
    "P   A   H   N\n",
    "A P L S I I G\n",
    "Y   I   R\n",
    "```\n",
    "And then read line by line: \"PAHNAPLSIIGYIR\"\n",
    "\n",
    "Example：\n",
    "```\n",
    "Input: s = \"PAYPALISHIRING\", numRows = 4\n",
    "Output: \"PINALSIGYAHRPI\"\n",
    "Explanation:\n",
    "P     I    N\n",
    "A   L S  I G\n",
    "Y A   H R\n",
    "P     I\n",
    "\n",
    "```\n",
    "\n",
    "zigzag pattern 是之字型分布的意思，就是個怪題目，超多人倒讚"
   ]
  },
  {
   "cell_type": "markdown",
   "metadata": {},
   "source": [
    "### 想法一\n",
    "\n",
    "找規律，先分成垂直的線跟斜線兩部分，垂直的部分，每隔（numRows + (numRows-2))的index會出現一個<br>\n",
    "再來是斜線的部分，只有在第二行才開始有(i=1)，最多有(numRows-2)行，用一個指標k對應要加斜線的第幾行行數<br>\n",
    "然後斜線的規律，是垂直那個數加上2*(numRows-(k+1))就會是斜線上的數：<br>\n",
    "k=1 (row-2)+(row-2)   (垂直部分+斜線部分的index)<br>\n",
    "k=2 (row-3)+(row-3)<br>\n",
    "...\n"
   ]
  },
  {
   "cell_type": "code",
   "execution_count": null,
   "metadata": {},
   "outputs": [],
   "source": [
    "\n",
    "def convert(s: str, numRows: int) -> str:\n",
    "\n",
    "    if numRows == 1:\n",
    "        return s\n",
    "\n",
    "    n = len(s)\n",
    "    ss = []\n",
    "    k = 1\n",
    "    for i in range(numRows):\n",
    "        for j in range(i,n,numRows*2-2):\n",
    "            ss.append(s[j])                     # 垂直部分的字母\n",
    "            if i == k and (numRows-2) >= k:     # 斜線部分要多加的字母\n",
    "                if j+2*(numRows-(k+1)) < n:     # 防止index溢出\n",
    "                    ss.append(s[j+2*(numRows-(k+1))])   # 斜線部分的規律\n",
    "                    \n",
    "        if i >= 1:    # 第二行之後才開始要加斜線部分的字母\n",
    "            k += 1\n",
    "            \n",
    "\n",
    "    return ''.join(ss)"
   ]
  },
  {
   "cell_type": "markdown",
   "metadata": {},
   "source": [
    "# Array"
   ]
  },
  {
   "cell_type": "markdown",
   "metadata": {},
   "source": [
    "## 88. Merge Sorted Array\n",
    "\n",
    "You are given two integer arrays nums1 and nums2, sorted in non-decreasing order, and two integers m and n, representing the number of elements in nums1 and nums2 respectively.\n",
    "\n",
    "Merge nums1 and nums2 into a single array sorted in non-decreasing order.\n",
    "\n",
    "The final sorted array should not be returned by the function, but instead be stored inside the array nums1. To accommodate this, nums1 has a length of m + n, where the first m elements denote the elements that should be merged, and the last n elements are set to 0 and should be ignored. nums2 has a length of n."
   ]
  },
  {
   "cell_type": "markdown",
   "metadata": {},
   "source": [
    "### 想法一\n",
    "\n",
    "pop, append, sort都是可以直接影響list本身的～～～～～\n",
    "我就很簡單的先得到目標長度的nums1，然後再把nums2的數字append進來，最後用sort()，大功告成"
   ]
  },
  {
   "cell_type": "code",
   "execution_count": 1,
   "metadata": {},
   "outputs": [],
   "source": [
    "def merge(self, nums1:list, m: int, nums2:list, n: int) -> None:\n",
    "    \"\"\"\n",
    "    Do not return anything, modify nums1 in-place instead.\n",
    "    \"\"\"\n",
    "    \n",
    "    while len(nums1) != m:\n",
    "        nums1.pop()\n",
    "    \n",
    "    i = 0\n",
    "    while len(nums1) != m+n:\n",
    "        nums1.append(nums2[i])\n",
    "        i += 1\n",
    "        \n",
    "    nums1.sort()  "
   ]
  },
  {
   "cell_type": "markdown",
   "metadata": {},
   "source": [
    "## 766. Toeplitz Matrix\n",
    "\n",
    "Given an m x n matrix, return true if the matrix is Toeplitz. Otherwise, return false.\n",
    "\n",
    "A matrix is Toeplitz if every diagonal from top-left to bottom-right has the same elements.\n",
    "\n",
    "```\n",
    "toeplitz matrix example:\n",
    "1234\n",
    "5123\n",
    "9512\n",
    "\n",
    "[[1,2,3,4],[5,1,2,3],[9,5,1,2]]\n",
    "```\n"
   ]
  },
  {
   "cell_type": "code",
   "execution_count": 2,
   "metadata": {},
   "outputs": [
    {
     "data": {
      "text/plain": [
       "3"
      ]
     },
     "execution_count": 2,
     "metadata": {},
     "output_type": "execute_result"
    }
   ],
   "source": [
    "m = [[1,2,3,4],[5,1,2,3],[9,5,1,2]]\n",
    "\n",
    "m[0][:3]\n",
    "len(m)"
   ]
  },
  {
   "cell_type": "markdown",
   "metadata": {},
   "source": [
    "## 26. Remove Duplicates from Sorted Array\n",
    "\n",
    "Given an integer array nums sorted in non-decreasing order, remove the duplicates in-place such that each unique element appears only once. The relative order of the elements should be kept the same.\n",
    "\n",
    "Since it is impossible to change the length of the array in some languages, you must instead have the result be placed in the first part of the array nums. More formally, if there are k elements after removing the duplicates, then the first k elements of nums should hold the final result. It does not matter what you leave beyond the first k elements.\n",
    "\n",
    "Return k after placing the final result in the first k slots of nums.\n",
    "\n",
    "Do not allocate extra space for another array. You must do this by modifying the input array in-place with O(1) extra memory.\n",
    "\n",
    "Example：\n",
    "```\n",
    "Input: nums = [0,0,1,1,1,2,2,3,3,4]\n",
    "Output: 5, nums = [0,1,2,3,4,_,_,_,_,_]\n",
    "Explanation: Your function should return k = 5, with the first five elements of nums being 0, 1, 2, 3, and 4 respectively.\n",
    "It does not matter what you leave beyond the returned k (hence they are underscores).\n",
    "\n",
    "```"
   ]
  },
  {
   "cell_type": "markdown",
   "metadata": {},
   "source": [
    "### 想法\n",
    "我一開始自己寫的方法，在迴圈中還用到.remove然後還不知道為什麼跑得出來，但速度感覺很慢（可是空間用得比第二個方法少一點），可以再研究一下他是怎麼運作的\n",
    "第二個方法，直接在一個迴圈中改動開頭的index。"
   ]
  },
  {
   "cell_type": "code",
   "execution_count": null,
   "metadata": {},
   "outputs": [],
   "source": [
    "\n",
    "def removeDuplicates(self, nums: list) -> int:\n",
    "\n",
    "    prev = nums[0]\n",
    "\n",
    "    for i in nums[1:]:\n",
    "        if i == prev:\n",
    "            nums.remove(i)\n",
    "            \n",
    "        else:\n",
    "            prev = i\n",
    "\n",
    "    return len(nums)\n",
    "\n",
    "\n",
    "# 其他人寫的(速度比較快)\n",
    "def removeDuplicates_2(self, nums: list) -> int:\n",
    "\n",
    "    prev = nums[0]\n",
    "\n",
    "    k = 0\n",
    "    for i in range(len(nums)):\n",
    "        if nums[i] > prev:\n",
    "            k += 1\n",
    "            prev = nums[i]\n",
    "            nums[k] = prev\n",
    "\n",
    "    return k+1"
   ]
  },
  {
   "cell_type": "markdown",
   "metadata": {},
   "source": [
    "## 11. Container With Most Water \n",
    "\n",
    "You are given an integer array height of length n. There are n vertical lines drawn such that the two endpoints of the ith line are (i, 0) and (i, height[i]).\n",
    "\n",
    "Find two lines that together with the x-axis form a container, such that the container contains the most water.\n",
    "\n",
    "Return the maximum amount of water a container can store.\n",
    "\n",
    "Notice that you may not slant the container.\n",
    "\n",
    "https://leetcode.com/problems/container-with-most-water/\n"
   ]
  },
  {
   "cell_type": "markdown",
   "metadata": {},
   "source": [
    "### 想法一\n",
    "\n",
    "目前就用暴力解法，但超過時間，還沒過submission"
   ]
  },
  {
   "cell_type": "code",
   "execution_count": 4,
   "metadata": {},
   "outputs": [
    {
     "data": {
      "text/plain": [
       "49"
      ]
     },
     "execution_count": 4,
     "metadata": {},
     "output_type": "execute_result"
    }
   ],
   "source": [
    "height = [1,8,6,2,5,4,8,3,7]\n",
    "\n",
    "ref = [(h, i) for i, h in zip(range(len(height)), height)]\n",
    "\n",
    "ref.sort(key=lambda x: x[0], reverse=True)\n",
    "max_vol = 0\n",
    "for ele in ref:\n",
    "    dist = list(map(lambda x: abs(x[1] - ele[1]), ref))\n",
    "    h = list(map(lambda x: min(x[0],ele[0]), ref))\n",
    "    cur_max = max([i * j for i, j in zip(dist, h)])\n",
    "    if max_vol < cur_max:\n",
    "        max_vol = cur_max\n",
    "\n",
    "max_vol\n",
    "\n",
    "# Brute Force 官方的暴力解～～～～嗚嗚，寫得很簡單易懂～～～～～\n",
    "\n",
    "def maxArea(height: list[int]) -> int:\n",
    "    maxarea = 0\n",
    "    for left in range(len(height)):\n",
    "        for right in range(left + 1, len(height)):\n",
    "            width = right - left\n",
    "            maxarea = max(maxarea, min(height[left], height[right]) * width)\n",
    "\n",
    "    return maxarea\n",
    "\n",
    "\n",
    "maxArea(height)"
   ]
  },
  {
   "cell_type": "markdown",
   "metadata": {},
   "source": [
    "### 想法二\n",
    "\n",
    "Two pointer - 實現原理是用兩個指標，先分別指向左右最遠的兩個wall，把體積存下來，接下來指向比較矮的牆的指標往內移一格，再算一次體積，看有沒有比較大，直到左右指標相遇。\n",
    "\n",
    "這個想法是，兩個最遠的會有最大寬度，再來判斷高度，其中一個指標指向矮的牆，往內的話雖然寬度會減少，但可能遇到更高的牆，高度就會變成另一個指標原本在的牆，體積可能會再增加；\n",
    "反過來說，如果是移動指向高牆的指標，下一個牆不論多高，裝水的高度都還是會<=矮牆，加上寬度減少，整體的體積一定會變小，所以這幾種比較都可以略過。\n",
    "最後再從這些算完的體積中找出最大的～就可以了！\n"
   ]
  },
  {
   "cell_type": "code",
   "execution_count": 6,
   "metadata": {},
   "outputs": [
    {
     "data": {
      "text/plain": [
       "49"
      ]
     },
     "execution_count": 6,
     "metadata": {},
     "output_type": "execute_result"
    }
   ],
   "source": [
    "# Two pointer\n",
    "def maxArea(height: list[int]) -> int:\n",
    "    maxarea = 0\n",
    "    left = 0\n",
    "    right = len(height) - 1\n",
    "    \n",
    "    while left < right:\n",
    "        width = right - left\n",
    "        maxarea = max(maxarea, min(height[left], height[right]) * width)\n",
    "        if height[left] <= height[right]:\n",
    "            left += 1\n",
    "        else:\n",
    "            right -= 1\n",
    "            \n",
    "    return maxarea\n",
    "\n",
    "maxArea(height)\n"
   ]
  },
  {
   "cell_type": "markdown",
   "metadata": {},
   "source": [
    "## 1926. Nearest Exit from Entrance in Maze (未完成)\n",
    "\n",
    "You are given an m x n matrix maze (0-indexed) with empty cells (represented as '.') and walls (represented as '+'). \n",
    "\n",
    "You are also given the entrance of the maze, where entrance = [entrance(row), entrance(col)] denotes the row and column of the cell you are initially standing at.\n",
    "\n",
    "In one step, you can move one cell up, down, left, or right. You cannot step into a cell with a wall, and you cannot step outside the maze. \n",
    "\n",
    "Your goal is to find the nearest exit from the entrance. An exit is defined as an empty cell that is at the border of the maze. The entrance does not count as an exit.\n",
    "\n",
    "Return the number of steps in the shortest path from the entrance to the nearest exit, or -1 if no such path exists.\n",
    "\n",
    "Example:\n",
    "\n",
    "> Input: maze = [[\"+\",\"+\",\".\",\"+\"],[\".\",\".\",\".\",\"+\"],[\"+\",\"+\",\"+\",\".\"]], entrance = [1,2]\n",
    ">\n",
    "> Output: 1\n",
    ">\n",
    "> Explanation: There are 3 exits in this maze at [1,0], [0,2], and [2,3].\n",
    "> Initially, you are at the entrance cell [1,2].\n",
    "> - You can reach [1,0] by moving 2 steps left.\n",
    "> - You can reach [0,2] by moving 1 step up.\n",
    "> - It is impossible to reach [2,3] from the entrance.\n",
    "> Thus, the nearest exit is [0,2], which is 1 step away.\n",
    ">  \n",
    ">\n",
    "\n",
    "\n",
    "\n"
   ]
  },
  {
   "cell_type": "markdown",
   "metadata": {},
   "source": [
    "### 想法一\n",
    "\n",
    "應該是找入口到最近邊界的邊界有沒有empty，有的話就回傳到那裡的步數，不是的話就找再多一步的範圍內可到的邊界，再次檢查這個範圍內有沒有empty cell\n",
    "\n",
    "如何判斷邊界？<br>\n",
    "col = [:,len(maze[0])-1] [:,0]<br>\n",
    "row = [len(maze)-1, :]  [0, :]<br>\n",
    "\n",
    "最小步數：<br>\n",
    "橫向移動：min((len(maze[0])-1) - entrance[1], entrance[1])<br>\n",
    "縱向移動：min((len(maze)-1) - entrance[0], entrance[0])<br>\n",
    "\n",
    "\n",
    "\n"
   ]
  },
  {
   "cell_type": "code",
   "execution_count": 72,
   "metadata": {},
   "outputs": [
    {
     "name": "stdout",
     "output_type": "stream",
     "text": [
      "1 2 1 1\n"
     ]
    },
    {
     "data": {
      "text/plain": [
       "'+'"
      ]
     },
     "execution_count": 72,
     "metadata": {},
     "output_type": "execute_result"
    }
   ],
   "source": [
    "maze = [[\"+\",\"+\",\".\",\"+\"],[\".\",\".\",\".\",\"+\"],[\"+\",\"+\",\"+\",\".\"]]\n",
    "entrance = [1,2]\n",
    "\n",
    "print((len(maze[0])-1) - entrance[1], entrance[1], (len(maze)-1) - entrance[0], entrance[0])\n",
    "\n",
    "maze[1][-1]\n",
    "\n",
    "\n"
   ]
  },
  {
   "cell_type": "markdown",
   "metadata": {},
   "source": [
    "## 36. Valid Sudoku\n",
    "\n",
    "Determine if a 9 x 9 Sudoku board is valid. Only the filled cells need to be validated according to the following rules:\n",
    "\n",
    "Each row must contain the digits 1-9 without repetition.\n",
    "\n",
    "Each column must contain the digits 1-9 without repetition.\n",
    "\n",
    "Each of the nine 3 x 3 sub-boxes of the grid must contain the digits 1-9 without repetition.\n",
    "\n",
    "\n",
    "Note:\n",
    "\n",
    "- A Sudoku board (partially filled) could be valid but is not necessarily solvable.\n",
    "- Only the filled cells need to be validated according to the mentioned rules."
   ]
  },
  {
   "cell_type": "markdown",
   "metadata": {},
   "source": [
    "### 想法：\n",
    "直觀暴力解，九宮格的迴圈有卡一下，底下的是重複出現，往上的是循環出現，不要混淆。"
   ]
  },
  {
   "cell_type": "code",
   "execution_count": 110,
   "metadata": {},
   "outputs": [
    {
     "name": "stdout",
     "output_type": "stream",
     "text": [
      "{}\n",
      "{}\n",
      "{}\n",
      "{}\n",
      "{}\n",
      "{}\n",
      "{}\n",
      "{}\n",
      "{}\n"
     ]
    }
   ],
   "source": [
    "import numpy as np\n",
    "from collections import defaultdict\n",
    "\n",
    "board = [[\".\",\".\",\"4\",\".\",\".\",\".\",\"6\",\"3\",\".\"],[\".\",\".\",\".\",\".\",\".\",\".\",\".\",\".\",\".\"],[\"5\",\".\",\".\",\".\",\".\",\".\",\".\",\"9\",\".\"],[\".\",\".\",\".\",\"5\",\"6\",\".\",\".\",\".\",\".\"],[\"4\",\".\",\"3\",\".\",\".\",\".\",\".\",\".\",\"1\"],[\".\",\".\",\".\",\"7\",\".\",\".\",\".\",\".\",\".\"],[\".\",\".\",\".\",\"5\",\".\",\".\",\".\",\".\",\".\"],[\".\",\".\",\".\",\".\",\".\",\".\",\".\",\".\",\".\"],[\".\",\".\",\".\",\".\",\".\",\".\",\".\",\".\",\".\"]]\n",
    "\n",
    "\n",
    "def isValidSudoku(board: list) -> bool:\n",
    "\n",
    "        # 先是row的hash_table\n",
    "        for row in board:\n",
    "            r = {}\n",
    "            for el in row:\n",
    "                if el != '.':\n",
    "                    if el in r:\n",
    "                        return False\n",
    "                    else:\n",
    "                        r[el] = True\n",
    "\n",
    "        # 再來是col的hash_table\n",
    "        for i in range(9):\n",
    "            c = {}\n",
    "            for row in board:\n",
    "                if row[i] != '.':\n",
    "                    if row[i] in c:\n",
    "                        return False         \n",
    "                    else:\n",
    "                        c[row[i]] = True\n",
    "            \n",
    "        # 接著是九宮格內的hash_table\n",
    "        for i in range(0, 9, 3):\n",
    "            for j in range(0, 9, 3):\n",
    "                ss = {}\n",
    "                for k in range(j, j+3):\n",
    "                    for l in range(i, i+3):\n",
    "                        if board[k][l] != '.':\n",
    "                            if board[k][l] in ss:\n",
    "                                return False\n",
    "                            else:\n",
    "                                ss[board[k][l]] = True\n",
    "\n",
    "        return True\n"
   ]
  },
  {
   "cell_type": "markdown",
   "metadata": {},
   "source": [
    "## 2501. Longest Square Streak in an Array\n",
    "\n",
    "You are given an integer array nums. A subsequence of nums is called a square streak if:\n",
    "\n",
    "The length of the subsequence is at least 2, and\n",
    "after sorting the subsequence, each element (except the first element) is the square of the previous number.\n",
    "Return the length of the longest square streak in nums, or return -1 if there is no square streak.\n",
    "\n",
    "A subsequence is an array that can be derived from another array by deleting some or no elements without changing the order of the remaining elements.\n"
   ]
  },
  {
   "cell_type": "markdown",
   "metadata": {},
   "source": [
    "### 想法：\n",
    "\n",
    "先把list照順序排列，接著每遍歷到一個數，就把他的平方值加到dictionary的key之中，本身的值為[value]<br>\n",
    "然後同時比較這個數有沒有在這份dictionary之中，有的話代表他是前面某個數的平方，那就把之前那個數的[value]加到現在這個下面，同時去比較value list的長度，找最長的。\n",
    "\n",
    "週賽題，解出來但時間複雜度不是很好，再加油\n"
   ]
  },
  {
   "cell_type": "code",
   "execution_count": null,
   "metadata": {},
   "outputs": [],
   "source": [
    "class Solution:\n",
    "    def longestSquareStreak(self, nums: List[int]) -> int:\n",
    "        \n",
    "        sq_dict = {}\n",
    "        M = 1\n",
    "        for i in sorted(nums):\n",
    "            sq_dict[i*i] = [i]\n",
    "                \n",
    "            if i in sq_dict:\n",
    "                sq_dict[i*i].extend(sq_dict[i])\n",
    "                M = max(len(sq_dict[i*i]), M)\n",
    "                # del sq_dict[i]\n",
    "        \n",
    "        if M == 1 or len(nums) == 0:\n",
    "            return -1\n",
    "        \n",
    "        return M\n",
    "        "
   ]
  },
  {
   "cell_type": "markdown",
   "metadata": {},
   "source": [
    "## 57. Insert Interval\n",
    "\n",
    "You are given an array of non-overlapping intervals intervals where intervals[i] = [starti, endi] represent the start and the end of the ith interval and intervals is sorted in ascending order by starti. You are also given an interval newInterval = [start, end] that represents the start and end of another interval.\n",
    "\n",
    "Insert newInterval into intervals such that intervals is still sorted in ascending order by starti and intervals still does not have any overlapping intervals (merge overlapping intervals if necessary).\n",
    "\n",
    "Return intervals after the insertion.\n",
    "\n",
    "Example:\n",
    "```\n",
    "Input: intervals = [[1,3],[6,9]], newInterval = [2,5]\n",
    "Output: [[1,5],[6,9]]\n",
    "\n",
    "```\n",
    "\n",
    "https://leetcode.com/problems/insert-interval/description/\n"
   ]
  },
  {
   "cell_type": "markdown",
   "metadata": {},
   "source": [
    "### 想法一\n",
    "\n",
    "照順序把newInterval的開頭插進去interval，再來插入結尾～<br>\n",
    "如果在原有的interval之內，就會變成三個數的List, 如果在之間，就會多一個單一數的list<br>\n",
    "插完應該會只有兩個list的個數是奇數，把第一個奇數list的最小值及第二個奇數List的最大值合併，其他List在這之外的不管它<br>\n",
    "處理各種case搞很久…不是很好的方法...但速度意外地還算可以！"
   ]
  },
  {
   "cell_type": "code",
   "execution_count": null,
   "metadata": {},
   "outputs": [],
   "source": [
    "class Solution:\n",
    "    def insert(self, intervals: List[List[int]], newInterval: List[int]) -> List[List[int]]:\n",
    "        \n",
    "        # intervals中沒東西，直接回傳newInterval\n",
    "        if not intervals:\n",
    "            return [newInterval]\n",
    "\n",
    "        # newInterval整個區間在所有intervals外面，直接加在外面\n",
    "        if newInterval[0] > intervals[-1][1]:\n",
    "            return intervals + [newInterval]\n",
    "        \n",
    "        # 先處理開頭值，如果比較小，就單獨append進去，如果在某個interval之間，就加到這個interval之中，當插入進去後，就break，如果開頭值都比interval大，就append interval本身\n",
    "        ins = []\n",
    "        ns = newInterval[0]\n",
    "\n",
    "        for idx,interval in enumerate(intervals):\n",
    "            if ns < interval[0]:\n",
    "                ins.append([ns])\n",
    "                # ins.append(interval)\n",
    "                break\n",
    "            elif interval[0] <= ns <= interval[1]:\n",
    "                ins.append(sorted(interval + [ns]))\n",
    "                break\n",
    "            elif ns > interval[1]:\n",
    "                ins.append(interval)\n",
    "            \n",
    "        print(idx)\n",
    "        # 在開頭值插完後，index留在剛插入完的位置，接著看結尾值，如果結尾值比目前Interval小，單獨append結尾值，再插入原interval(這情況發生在newInterval比所有Interval小的時候)\n",
    "        # 如果結尾值也在Interval之間，那就append加入結尾值的interval\n",
    "        # 注意在結尾值處理完之後，變成-1，當作標記，如果已處理完，再遇到Interval時就直接append進來就好\n",
    "        ne = newInterval[1]\n",
    "        for interval in intervals[idx:]:\n",
    "            if 0 <= ne < interval[0]:\n",
    "                ins.append([ne])\n",
    "                ins.append(interval)\n",
    "                ne = -1\n",
    "            elif interval[0] <= ne <= interval[-1]:\n",
    "                ins.append(sorted(interval + [ne]))\n",
    "                ne = -1\n",
    "            elif ne > interval[-1]:\n",
    "                # ins.append([ne])\n",
    "                continue\n",
    "            elif ne == -1:\n",
    "                ins.append(interval)\n",
    "\n",
    "        # 如果結尾值比最後一個interval還要大，要額外處理尾巴\n",
    "        if ne > interval[-1]:\n",
    "            ins.append([ne])\n",
    "        \n",
    "        # 這時候的ins，應該是會有兩組list含奇數個元素（就是插完開頭值及結尾值的），把這第一組list的最小值與第二組的最大值合併為新List, 中間的都不理它們\n",
    "        print(ins)\n",
    "\n",
    "\n",
    "        # 有flag代表夾在奇數List中間的interval，就略過～～～\n",
    "        flag = 0\n",
    "        res = []\n",
    "        ii = 0\n",
    "        for idx,lis in enumerate(ins):\n",
    "            if flag == 0 and len(lis) % 2 == 1:\n",
    "                res.append([lis[0]])\n",
    "                ii = idx\n",
    "                flag = 1\n",
    "            elif flag == 1 and len(lis) % 2 == 1:\n",
    "                res[ii].append(lis[-1])\n",
    "                flag = 0\n",
    "            elif flag == 1:\n",
    "                continue\n",
    "            elif flag == 0:\n",
    "                res.append(lis)\n",
    "        \n",
    "        return res"
   ]
  },
  {
   "cell_type": "markdown",
   "metadata": {},
   "source": [
    "# Stack and queues"
   ]
  },
  {
   "cell_type": "markdown",
   "metadata": {},
   "source": [
    "## 232. Implement Queue using Stacks\n",
    "\n",
    "\n",
    "Implement a first in first out (FIFO) queue using only two stacks. The implemented queue should support all the functions of a normal queue (push, peek, pop, and empty).\n",
    "\n",
    "Implement the MyQueue class:\n",
    "\n",
    "- void push(int x) Pushes element x to the back of the queue.\n",
    "- int pop() Removes the element from the front of the queue and returns it.\n",
    "- int peek() Returns the element at the front of the queue.\n",
    "- boolean empty() Returns true if the queue is empty, false otherwise.\n",
    "\n",
    "Notes:\n",
    "\n",
    "- You must use only standard operations of a stack, which means only push to top, peek/pop from top, size, and is empty operations are valid.\n",
    "- Depending on your language, the stack may not be supported natively. You may simulate a stack using a list or deque (double-ended queue) as long as you use only a stack's standard operations."
   ]
  },
  {
   "cell_type": "markdown",
   "metadata": {},
   "source": [
    "### 想法\n",
    "\n",
    "用兩個stack去做，進來的先放stack in，要出去的丟到stack out，如果stack out有東西，丟最外面的出去，如果stack out沒東西，把stack in所有值丟到stack out中，這樣先進後出的值會變成先進先出，然後再Pop最外面的值，就會變queue中先進先出了，當兩個stack都空的時候，queue也是空的"
   ]
  },
  {
   "cell_type": "code",
   "execution_count": null,
   "metadata": {},
   "outputs": [],
   "source": [
    "class MyQueue:\n",
    "\n",
    "    def __init__(self):\n",
    "        \n",
    "        self.stack_in = []\n",
    "        self.stack_out = []\n",
    "        \n",
    "\n",
    "    def push(self, x: int) -> None:\n",
    "        self.stack_in.append(x)\n",
    "\n",
    "    def pop(self) -> int:\n",
    "        \n",
    "        if self.empty():\n",
    "            return None\n",
    "        \n",
    "        if self.stack_out:\n",
    "            return self.stack_out.pop()\n",
    "        else:\n",
    "            for i in range(len(self.stack_in)):\n",
    "                self.stack_out.append(self.stack_in.pop())\n",
    "            return self.stack_out.pop()\n",
    "        \n",
    "\n",
    "    def peek(self) -> int:\n",
    "        \n",
    "        ans = self.pop()\n",
    "        self.stack_out.append(ans)\n",
    "        \n",
    "        return ans\n",
    "        \n",
    "        \n",
    "\n",
    "    def empty(self) -> bool:\n",
    "        \n",
    "        return not (self.stack_out or self.stack_in)"
   ]
  },
  {
   "cell_type": "markdown",
   "metadata": {},
   "source": [
    "## 225. Implement Stack using Queues\n",
    "\n",
    "Implement a last-in-first-out (LIFO) stack using only two queues. The implemented stack should support all the functions of a normal stack (push, top, pop, and empty).\n",
    "\n",
    "Implement the MyStack class:\n",
    "\n",
    "- void push(int x) Pushes element x to the top of the stack.\n",
    "- int pop() Removes the element on the top of the stack and returns it.\n",
    "- int top() Returns the element on the top of the stack.\n",
    "- boolean empty() Returns true if the stack is empty, false otherwise.\n",
    "\n",
    "Notes:\n",
    "- You must use only standard operations of a queue, which means that only push to back, peek/pop from front, size and is empty operations are valid.\n",
    "- Depending on your language, the queue may not be supported natively. You may simulate a queue using a list or deque (double-ended queue) as long as you use only a queue's standard operations."
   ]
  },
  {
   "cell_type": "markdown",
   "metadata": {},
   "source": [
    "### 想法\n",
    "\n",
    "[參考代碼隨想錄](https://programmercarl.com/0225.%E7%94%A8%E9%98%9F%E5%88%97%E5%AE%9E%E7%8E%B0%E6%A0%88.html)\n",
    "\n",
    "使用一個queqe即可，在pop的時候，將queqe的頭部元素重新加到尾部（除最後一個），pop就會pop出stack的順序了（等於是把這個queqe翻轉)"
   ]
  },
  {
   "cell_type": "code",
   "execution_count": 1,
   "metadata": {},
   "outputs": [],
   "source": [
    "from collections import deque\n",
    "\n",
    "class MyStack:\n",
    "\n",
    "    def __init__(self):\n",
    "        self.que = deque()\n",
    "        \n",
    "\n",
    "    def push(self, x: int) -> None:\n",
    "        self.que.append(x)\n",
    "        \n",
    "\n",
    "    def pop(self) -> int:\n",
    "        if self.empty():\n",
    "            return None\n",
    "        for i in range(len(self.que)-1):\n",
    "            self.que.append(self.que.popleft())\n",
    "        return self.que.popleft()       \n",
    "\n",
    "    def top(self) -> int:\n",
    "        if self.empty():\n",
    "            return None\n",
    "        return self.que[-1]\n",
    "        \n",
    "\n",
    "    def empty(self) -> bool:\n",
    "        return not self.que\n",
    "        \n",
    "\n",
    "\n",
    "# Your MyStack object will be instantiated and called as such:\n",
    "# obj = MyStack()\n",
    "# obj.push(x)\n",
    "# param_2 = obj.pop()\n",
    "# param_3 = obj.top()\n",
    "# param_4 = obj.empty()"
   ]
  },
  {
   "cell_type": "markdown",
   "metadata": {},
   "source": [
    "## 1047. Remove All Adjacent Duplicates In String\n",
    "\n",
    "You are given a string s consisting of lowercase English letters. A duplicate removal consists of choosing two adjacent and equal letters and removing them.\n",
    "\n",
    "We repeatedly make duplicate removals on s until we no longer can.\n",
    "\n",
    "Return the final string after all such duplicate removals have been made. It can be proven that the answer is unique."
   ]
  },
  {
   "cell_type": "markdown",
   "metadata": {},
   "source": [
    "### 想法\n",
    "原本用迴圈寫法寫，會很冗，改成stack後，就發現其實簡單很多。"
   ]
  },
  {
   "cell_type": "code",
   "execution_count": 12,
   "metadata": {},
   "outputs": [],
   "source": [
    "\n",
    "def removeDuplicates(self, s: str) -> str:\n",
    "\n",
    "    stack_list = []\n",
    "    for i in s:\n",
    "        if len(stack_list) == 0:\n",
    "            stack_list.append(i)\n",
    "            continue\n",
    "\n",
    "        if i != stack_list[-1]:\n",
    "            stack_list.append(i)\n",
    "        else:\n",
    "            stack_list.pop()\n",
    "    \n",
    "    return ''.join(stack_list)\n",
    "\n",
    "\n",
    "# 補一下相同想法別人寫的(比較乾淨一點)\n",
    "\n",
    "def removeDuplicates_2(self, s: str) -> str:\n",
    "\n",
    "    stack_list = []\n",
    "    for i in s:\n",
    "        if len(stack_list) > 0 and stack_list[-1] == i:\n",
    "            stack_list.pop()\n",
    "        else:\n",
    "            stack_list.append(a)\n",
    "    \n",
    "    return ''.join(stack_list)\n"
   ]
  },
  {
   "cell_type": "markdown",
   "metadata": {},
   "source": [
    "## 901. Online Stock Span\n",
    "\n",
    "Design an algorithm that collects daily price quotes for some stock and returns the span of that stock's price for the current day.\n",
    "\n",
    "The span of the stock's price today is defined as the maximum number of consecutive days (starting from today and going backward) for which the stock price was less than or equal to today's price.\n",
    "\n",
    "- For example, if the price of a stock over the next 7 days were [100,80,60,70,60,75,85], then the stock spans would be [1,1,1,2,1,4,6].\n",
    "\n",
    "Implement the StockSpanner class:\n",
    "\n",
    "- StockSpanner() Initializes the object of the class.\n",
    "- int next(int price) Returns the span of the stock's price given that today's price is price.\n",
    "\n",
    "\n",
    "Example\n",
    "```\n",
    "Input\n",
    "[\"StockSpanner\", \"next\", \"next\", \"next\", \"next\", \"next\", \"next\", \"next\"]\n",
    "[[], [100], [80], [60], [70], [60], [75], [85]]\n",
    "Output\n",
    "[null, 1, 1, 1, 2, 1, 4, 6]\n",
    "\n",
    "Explanation\n",
    "StockSpanner stockSpanner = new StockSpanner();\n",
    "stockSpanner.next(100); // return 1\n",
    "stockSpanner.next(80);  // return 1\n",
    "stockSpanner.next(60);  // return 1\n",
    "stockSpanner.next(70);  // return 2\n",
    "stockSpanner.next(60);  // return 1\n",
    "stockSpanner.next(75);  // return 4, because the last 4 prices (including today's price of 75) were less than or equal to today's price.\n",
    "stockSpanner.next(85);  // return 6\n",
    "```"
   ]
  },
  {
   "cell_type": "markdown",
   "metadata": {},
   "source": [
    "### 想法\n",
    "\n",
    "如果不用stack的話，暴力解就是每進來一個新價格，都往前找哪個數字大於新價格，直到碰到大於新價格的數為止，這樣每次都會重複跑一次前面的價格\n",
    "\n",
    "用stack的話，邏輯上就是，因為最後一個進來的價格，他的output都已經有給出他是往前算幾天內的最高價了（假設output = n)，因此如果進來的數比最後一個高，那代表他往前算n天內（包括今天）一定都比那些價格高\n",
    "\n",
    "所以可以直接從n開始加（然後邊加邊把比自己小的數字吃掉）這樣這個stack一定是順序遞減的序列～～～\n",
    "\n",
    "\n"
   ]
  },
  {
   "cell_type": "code",
   "execution_count": null,
   "metadata": {},
   "outputs": [],
   "source": [
    "class StockSpanner:\n",
    "    def __init__(self):\n",
    "        self.stack = []\n",
    "\n",
    "    def next(self, price: int) -> int:\n",
    "        ans = 1\n",
    "        while self.stack and self.stack[-1][0] <= price:\n",
    "            ans += self.stack.pop()[1]\n",
    "        \n",
    "        self.stack.append([price, ans])\n",
    "        return ans"
   ]
  },
  {
   "cell_type": "markdown",
   "metadata": {},
   "source": [
    "## 155. Min Stack\n",
    "\n",
    "Design a stack that supports push, pop, top, and retrieving the minimum element in constant time.\n",
    "\n",
    "Implement the MinStack class:\n",
    "\n",
    "- MinStack() initializes the stack object.\n",
    "- void push(int val) pushes the element val onto the stack.\n",
    "- void pop() removes the element on the top of the stack.\n",
    "- int top() gets the top element of the stack.\n",
    "- int getMin() retrieves the minimum element in the stack.\n",
    "- You must implement a solution with O(1) time complexity for each function.\n",
    "\n"
   ]
  },
  {
   "cell_type": "markdown",
   "metadata": {},
   "source": [
    "### 想法\n",
    "\n",
    "用兩個stack，一個stack放每次的最小值，一個stack正常放，其實好像也可以只用一個stack，但那個stack每個element是一個tuple，第一個值是正常放的val，第二個值是每次的最小值，就可以少做一個stack list"
   ]
  },
  {
   "cell_type": "code",
   "execution_count": null,
   "metadata": {},
   "outputs": [],
   "source": [
    "class MinStack:\n",
    "\n",
    "    def __init__(self):\n",
    "        self.minstack = []\n",
    "        self.inputstack = []\n",
    "\n",
    "    def push(self, val: int) -> None:\n",
    "        self.inputstack.append(val)\n",
    "        if self.minstack:\n",
    "            cur_min = self.minstack[-1] \n",
    "            cur_min = min(val,cur_min) \n",
    "            self.minstack.append(cur_min)\n",
    "        else:\n",
    "            self.minstack.append(val)\n",
    "\n",
    "    def pop(self) -> None:\n",
    "        self.minstack.pop()\n",
    "        self.inputstack.pop()\n",
    "\n",
    "    def top(self) -> int:\n",
    "        return self.inputstack[-1] if self.inputstack else []\n",
    "        \n",
    "\n",
    "    def getMin(self) -> int:\n",
    "        return self.minstack[-1] if self.minstack else []"
   ]
  },
  {
   "cell_type": "markdown",
   "metadata": {},
   "source": [
    "## 907. Sum of Subarray Minimums(TLE未完成)\n",
    "\n",
    "Given an array of integers arr, find the sum of min(b), where b ranges over every (contiguous) subarray of arr. \n",
    "Example:\n",
    "```\n",
    "Input: arr = [3,1,2,4]\n",
    "Output: 17\n",
    "Explanation: \n",
    "Subarrays are [3], [1], [2], [4], [3,1], [1,2], [2,4], [3,1,2], [1,2,4], [3,1,2,4]. \n",
    "Minimums are 3, 1, 2, 4, 1, 1, 2, 1, 1, 1.\n",
    "Sum is 17.\n",
    "\n",
    "```\n",
    "\n",
    "所有subarray的最小值的和"
   ]
  },
  {
   "cell_type": "markdown",
   "metadata": {},
   "source": [
    "### 想法一\n",
    "\n",
    "暴力解，當然沒有過submit，Time Limit Exceeded~~~\n"
   ]
  },
  {
   "cell_type": "code",
   "execution_count": 40,
   "metadata": {},
   "outputs": [
    {
     "data": {
      "text/plain": [
       "1386"
      ]
     },
     "execution_count": 40,
     "metadata": {},
     "output_type": "execute_result"
    }
   ],
   "source": [
    "def sumSubarrayMins(arr: list) -> int:\n",
    "    n = 2 # subarray的長度\n",
    "    res = sum(arr)\n",
    "    while n <= len(arr):\n",
    "        for i in range(len(arr)-n+1):\n",
    "            mm = []\n",
    "            for j in range(i,i+n):\n",
    "                mm.append(arr[j])  \n",
    "            res += min(mm)                 \n",
    "        n += 1\n",
    "    return res\n",
    "\n",
    "arr = [94,95,100,91,90]\n",
    "sumSubarrayMins(arr)"
   ]
  },
  {
   "cell_type": "code",
   "execution_count": 54,
   "metadata": {},
   "outputs": [
    {
     "name": "stdout",
     "output_type": "stream",
     "text": [
      "[3, 1, 1, 1]\n",
      "6\n",
      "{1: 3}\n",
      "[2, 2]\n",
      "13\n",
      "17\n"
     ]
    }
   ],
   "source": [
    "from collections import deque, Counter\n",
    "\n",
    "arr = [3,1,2,4]\n",
    "\n",
    "min_stack = [arr[0]]\n",
    "res = [arr[0]]\n",
    "total = 0\n",
    "i = 1\n",
    "dp = {}\n",
    "\n",
    "while i < len(arr):\n",
    "\n",
    "    if res[0] in dp:\n",
    "        total += dp[res[0]]\n",
    "        dp ={}\n",
    "    \n",
    "    else:\n",
    "\n",
    "        for idx in range(i, len(arr)):\n",
    "\n",
    "            if arr[idx] < min_stack[-1]:\n",
    "                min_stack.append(arr[idx])\n",
    "\n",
    "            if arr[idx] in dp:\n",
    "                res.append(dp[min_stack[-1]])\n",
    "                break\n",
    "\n",
    "            res.append(min_stack[-1])\n",
    "        \n",
    "        total += sum(res)\n",
    "        print(res)\n",
    "        print(total)\n",
    "        if len(min_stack) > 1:\n",
    "            a = min_stack[1]\n",
    "            for k,val in enumerate(res):\n",
    "                if val == a:\n",
    "                    dp[val] = sum(res[k:])\n",
    "                    break\n",
    "                    \n",
    "            print(dp)\n",
    "\n",
    "    min_stack = [arr[i]]\n",
    "    res = [arr[i]]\n",
    "\n",
    "    i += 1\n",
    "\n",
    "total += arr[-1]\n",
    "print(total)"
   ]
  },
  {
   "cell_type": "code",
   "execution_count": 52,
   "metadata": {},
   "outputs": [
    {
     "name": "stdout",
     "output_type": "stream",
     "text": [
      "tt [36, 29, 29, 29, 29, 29, 29, 29, 29]\n",
      "[96, 36, 29, 29, 29, 29, 29, 29, 29, 29]\n",
      "total2 364\n",
      "total 632\n",
      "total 864\n",
      "tt []\n",
      "[36, 36, 36, 36, 36, 36, 36]\n",
      "total2 1116\n",
      "tt [64, 63, 63, 39, 39]\n",
      "[95, 64, 63, 63, 39, 39]\n",
      "total2 1479\n",
      "total 1747\n",
      "total 1951\n",
      "gg\n",
      "tt [39, 39]\n",
      "[72, 39, 39]\n",
      "total2 2101\n",
      "total 2179\n",
      "2221\n"
     ]
    }
   ],
   "source": [
    "from collections import deque, Counter\n",
    "\n",
    "arr = [96,36,29,36,95,64,63,72,39,42]\n",
    "\n",
    "min_stack = [arr[0]]\n",
    "res = [arr[0]]\n",
    "total = 0\n",
    "tt = []\n",
    "i = 1\n",
    "\n",
    "\n",
    "while i < len(arr):\n",
    "\n",
    "    min_stack = [arr[i-1]]\n",
    "    res = [arr[i-1]]\n",
    "\n",
    "\n",
    "\n",
    "    if len(tt) > 0 and arr[i-1] == tt[0]:\n",
    "        total += sum(tt)\n",
    "        tt = [tt[i] for i,v in enumerate(tt) if v != tt[0]]\n",
    "        print('total', total)\n",
    "      \n",
    "        \n",
    "    \n",
    "    else:\n",
    "        \n",
    "        for idx in range(i, len(arr)):\n",
    "            if arr[idx] < min_stack[-1]:\n",
    "                min_stack.append(arr[idx])\n",
    "            \n",
    "            if len(tt) > 0 and arr[idx] == tt[0]:\n",
    "                res.extend(tt)\n",
    "                print('gg')\n",
    "                break       \n",
    "                \n",
    "            res.append(min_stack[-1])\n",
    "\n",
    "        tt = [res[i] for i,v in enumerate(res) if v != res[0]]\n",
    "        total += sum(res)\n",
    "\n",
    "        print('tt', tt)\n",
    "        print(res)\n",
    "        print('total2', total)\n",
    "\n",
    "    \n",
    "    i += 1\n",
    "\n",
    "\n",
    "\n",
    "print(total+arr[-1])"
   ]
  },
  {
   "cell_type": "markdown",
   "metadata": {},
   "source": [
    "96 95 93 91 90\n",
    "95 93 91 90\n",
    "93 91 90\n",
    "91 90\n",
    "90"
   ]
  },
  {
   "cell_type": "markdown",
   "metadata": {},
   "source": [
    "### 別人解的"
   ]
  },
  {
   "cell_type": "code",
   "execution_count": 53,
   "metadata": {},
   "outputs": [],
   "source": [
    "\n",
    "def sumSubarrayMins(arr:list) -> int:\n",
    "    \n",
    "    stack, sums = [], [0] * len(arr)\n",
    "\n",
    "    for i,n in enumerate(arr):\n",
    "        while stack and arr[stack[-1]] > n:\n",
    "            stack.pop()\n",
    "        j = stack[-1] if stack else -1\n",
    "        \n",
    "        sums[i] = sums[j] + (i-j)*n\n",
    "        stack.append(i)\n",
    "    \n",
    "    return sum(sums) % (1_000_000_007)"
   ]
  },
  {
   "cell_type": "markdown",
   "metadata": {},
   "source": [
    "## 42. Trapping Rain Water\n",
    "\n",
    "Given n non-negative integers representing an elevation map where the width of each bar is 1, compute how much water it can trap after raining.\n",
    "\n",
    "Example:\n",
    "```\n",
    "Input: height = [0,1,0,2,1,0,1,3,2,1,2,1]\n",
    "Output: 6\n",
    "Explanation: The above elevation map (black section) is represented by array [0,1,0,2,1,0,1,3,2,1,2,1]. In this case, 6 units of rain water (blue section) are being trapped.\n",
    "\n",
    "```"
   ]
  },
  {
   "cell_type": "markdown",
   "metadata": {},
   "source": [
    "### 想法：\n",
    "\n",
    "mono stack, 單向遞增或遞減的stack～～我自己寫的寫法好像有點變形（？）到時候可以補一下別人的寫法<br>\n",
    "這題分類在hard，但應該算簡單一點的hard～～～<br>\n",
    "我的想法很直觀，遇到比前值小的數，就放到stack之中，並且continue<br>\n",
    "下一個數，如果比stack最後一個數還大，就pop掉，直到遇到一樣高或更高的值，pop的過程中，用較低的牆-bottom值去算可以存的雨量<br>\n",
    "temp[]是用來放要填平的值，如果目前的值還沒比左邊最高牆高，每算完一格雨量，就要填平這個bottom～～～<br>\n",
    "整個過程結束再來調整左牆高～"
   ]
  },
  {
   "cell_type": "code",
   "execution_count": null,
   "metadata": {},
   "outputs": [],
   "source": [
    "class Solution:\n",
    "    def trap(self, height: List[int]) -> int:\n",
    "        # 如果後一個數小於等於前一個數，把它加到stack中，如果後一個數大於stack最後一個數，pop掉最後一個，直到後\n",
    "        leftwall = height[0]\n",
    "        bottom = []\n",
    "        rain = 0\n",
    "        for i in range(1,len(height)):\n",
    "\n",
    "            if height[i] < height[i-1]:\n",
    "                bottom.append(height[i])\n",
    "                continue\n",
    "            \n",
    "            if len(bottom) > 0:\n",
    "                temp = []\n",
    "                while bottom and height[i] > bottom[-1]:\n",
    "                    cur = bottom.pop()\n",
    "                    rain += min(leftwall,height[i]) - cur\n",
    "                    # print(height[i],leftwall,rain)\n",
    "                    temp.append(min(leftwall,height[i]))\n",
    "            \n",
    "                if height[i] >= leftwall:\n",
    "                    bottom = []\n",
    "                else:\n",
    "                    bottom.extend(temp)\n",
    "                    bottom.append(height[i])\n",
    "\n",
    "            leftwall = max(height[i],leftwall)\n",
    "\n",
    "        \n",
    "        return rain"
   ]
  }
 ],
 "metadata": {
  "kernelspec": {
   "display_name": "Python 3.9.13 ('dask_worker')",
   "language": "python",
   "name": "python3"
  },
  "language_info": {
   "codemirror_mode": {
    "name": "ipython",
    "version": 3
   },
   "file_extension": ".py",
   "mimetype": "text/x-python",
   "name": "python",
   "nbconvert_exporter": "python",
   "pygments_lexer": "ipython3",
   "version": "3.9.13"
  },
  "orig_nbformat": 4,
  "vscode": {
   "interpreter": {
    "hash": "06f7aefc5041c770a0b6cea7ade4adb70dd9687b6650a782b2420b49498c49c5"
   }
  }
 },
 "nbformat": 4,
 "nbformat_minor": 2
}
