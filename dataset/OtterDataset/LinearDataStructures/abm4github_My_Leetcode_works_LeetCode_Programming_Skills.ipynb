{
  "nbformat": 4,
  "nbformat_minor": 0,
  "metadata": {
    "colab": {
      "provenance": [],
      "collapsed_sections": [],
      "authorship_tag": "ABX9TyOSPqvb29WAoQzT6btDslin",
      "include_colab_link": true
    },
    "kernelspec": {
      "name": "python3",
      "display_name": "Python 3"
    },
    "language_info": {
      "name": "python"
    }
  },
  "cells": [
    {
      "cell_type": "markdown",
      "metadata": {
        "id": "view-in-github",
        "colab_type": "text"
      },
      "source": [
        "<a href=\"https://colab.research.google.com/github/abm4github/My_Leetcode_works/blob/main/LeetCode_Programming_Skills.ipynb\" target=\"_parent\"><img src=\"https://colab.research.google.com/assets/colab-badge.svg\" alt=\"Open In Colab\"/></a>"
      ]
    },
    {
      "cell_type": "markdown",
      "source": [
        "#LEVEL 1"
      ],
      "metadata": {
        "id": "6R-QNAdeXk8O"
      }
    },
    {
      "cell_type": "markdown",
      "source": [
        "##Day 1: Basic Data Type"
      ],
      "metadata": {
        "id": "fGZZrMX2NtUU"
      }
    },
    {
      "cell_type": "markdown",
      "source": [
        "####1523. Count Odd Numbers in an Interval Range"
      ],
      "metadata": {
        "id": "MhBKdKFBNtGz"
      }
    },
    {
      "cell_type": "code",
      "source": [
        "\"\"\"\n",
        "1523. Count Odd Numbers in an Interval Range\n",
        "Easy\n",
        "\n",
        "985\n",
        "\n",
        "73\n",
        "\n",
        "Add to List\n",
        "\n",
        "Share\n",
        "Given two non-negative integers low and high. Return the count of odd numbers between low and high (inclusive).\n",
        "\n",
        " \n",
        "\n",
        "Example 1:\n",
        "\n",
        "Input: low = 3, high = 7\n",
        "Output: 3\n",
        "Explanation: The odd numbers between 3 and 7 are [3,5,7].\n",
        "Example 2:\n",
        "\n",
        "Input: low = 8, high = 10\n",
        "Output: 1\n",
        "Explanation: The odd numbers between 8 and 10 are [9].\n",
        " \n",
        "\n",
        "Constraints:\n",
        "\n",
        "0 <= low <= high <= 10^9\n",
        "\"\"\""
      ],
      "metadata": {
        "id": "GbdNZxfHNsTS"
      },
      "execution_count": null,
      "outputs": []
    },
    {
      "cell_type": "code",
      "execution_count": null,
      "metadata": {
        "colab": {
          "base_uri": "https://localhost:8080/"
        },
        "id": "EBmYKbqVNMZM",
        "outputId": "10eeefd9-ea23-473f-89fc-f86d3ac1c3d5"
      },
      "outputs": [
        {
          "output_type": "execute_result",
          "data": {
            "text/plain": [
              "9"
            ]
          },
          "metadata": {},
          "execution_count": 42
        }
      ],
      "source": [
        "# Memory Limit Exceeded\n",
        "\n",
        "def countOdds(low, high):\n",
        "    count = 0\n",
        "    for i in range(low, high+1, 1):\n",
        "        if i % 2 == 1:\n",
        "            count += 1  \n",
        "    return count\n",
        "\n",
        "\n",
        "countOdds(2, 20)"
      ]
    },
    {
      "cell_type": "code",
      "source": [
        "# improved version\n",
        "\n",
        "\"\"\"\n",
        "Runtime: 15 ms, faster than 94.23% of Python online submissions for Count Odd Numbers in an Interval Range.\n",
        "Memory Usage: 13.5 MB, less than 32.78% of Python online submissions for Count Odd Numbers in an Interval Range.\n",
        "\"\"\"\n",
        "\n",
        "def countOdds(low, high):\n",
        "    if low % 2 == 0 and high % 2 == 0:\n",
        "        return ((high-low)//2)\n",
        "    else:\n",
        "        return ((high-low)//2) + 1\n",
        "\n",
        "\n",
        "countOdds(2, 20)"
      ],
      "metadata": {
        "colab": {
          "base_uri": "https://localhost:8080/"
        },
        "id": "BngrvwDzNqkU",
        "outputId": "0132789e-b788-413b-8968-57e3fc130c51"
      },
      "execution_count": null,
      "outputs": [
        {
          "output_type": "execute_result",
          "data": {
            "text/plain": [
              "9"
            ]
          },
          "metadata": {},
          "execution_count": 47
        }
      ]
    },
    {
      "cell_type": "markdown",
      "source": [
        "####1491. Average Salary Excluding the Minimum and Maximum Salary"
      ],
      "metadata": {
        "id": "hLL-6VMPXZRV"
      }
    },
    {
      "cell_type": "code",
      "source": [
        "\"\"\"\n",
        "1491. Average Salary Excluding the Minimum and Maximum Salary\n",
        "Easy\n",
        "\n",
        "867\n",
        "\n",
        "103\n",
        "\n",
        "Add to List\n",
        "\n",
        "Share\n",
        "You are given an array of unique integers salary where salary[i] is the salary of the ith employee.\n",
        "\n",
        "Return the average salary of employees excluding the minimum and maximum salary. Answers within 10-5 of the actual answer will be accepted.\n",
        "\n",
        " \n",
        "\n",
        "Example 1:\n",
        "\n",
        "Input: salary = [4000,3000,1000,2000]\n",
        "Output: 2500.00000\n",
        "Explanation: Minimum salary and maximum salary are 1000 and 4000 respectively.\n",
        "Average salary excluding minimum and maximum salary is (2000+3000) / 2 = 2500\n",
        "Example 2:\n",
        "\n",
        "Input: salary = [1000,2000,3000]\n",
        "Output: 2000.00000\n",
        "Explanation: Minimum salary and maximum salary are 1000 and 3000 respectively.\n",
        "Average salary excluding minimum and maximum salary is (2000) / 1 = 2000\n",
        " \n",
        "\n",
        "Constraints:\n",
        "\n",
        "3 <= salary.length <= 100\n",
        "1000 <= salary[i] <= 106\n",
        "All the integers of salary are unique.\n",
        "\"\"\""
      ],
      "metadata": {
        "id": "hgSx0aw9VvLB"
      },
      "execution_count": null,
      "outputs": []
    },
    {
      "cell_type": "code",
      "source": [
        "# Here we can understand the necessity of using brackets properly,\n",
        "# float(total - min - max) / len(salary)-2 gives WRONG answer,\n",
        "# float(total - min - max) / (len(salary)-2) gives RIGHT answer.\n",
        "\n",
        "\"\"\"\n",
        "Runtime: 34 ms, faster than 25.90% of Python online submissions for Average Salary Excluding the Minimum and Maximum Salary.\n",
        "Memory Usage: 13.5 MB, less than 20.19% of Python online submissions for Average Salary Excluding the Minimum and Maximum Salary.\n",
        "\"\"\"\n",
        "\n",
        "def average(salary):\n",
        "    total = 0\n",
        "    min = salary[0]\n",
        "    max = salary[0]\n",
        "\n",
        "    for sal in salary:\n",
        "        total += sal\n",
        "        if sal > max:\n",
        "            max = sal\n",
        "        elif sal < min:\n",
        "            min = sal\n",
        "\n",
        "    return float(total - min - max) / (len(salary)-2)\n",
        "\n",
        "\n",
        "average([48000,59000,99000,13000,78000,45000,31000,17000,39000,37000,93000,77000,33000,28000,4000,54000,67000,6000,1000,11000])"
      ],
      "metadata": {
        "colab": {
          "base_uri": "https://localhost:8080/"
        },
        "id": "yECrQA3rVvGz",
        "outputId": "3677b3e2-e2e1-488d-cb0f-f89b88fbb35b"
      },
      "execution_count": null,
      "outputs": [
        {
          "output_type": "execute_result",
          "data": {
            "text/plain": [
              "41111.11111111111"
            ]
          },
          "metadata": {},
          "execution_count": 46
        }
      ]
    },
    {
      "cell_type": "markdown",
      "source": [
        "##Day 2: Operator"
      ],
      "metadata": {
        "id": "JbWaiFpafJE9"
      }
    },
    {
      "cell_type": "markdown",
      "source": [
        "####191. Number of 1 Bits"
      ],
      "metadata": {
        "id": "YikITOsEnyVd"
      }
    },
    {
      "cell_type": "code",
      "source": [
        "\"\"\"\n",
        "191. Number of 1 Bits\n",
        "Easy\n",
        "\n",
        "4122\n",
        "\n",
        "912\n",
        "\n",
        "Add to List\n",
        "\n",
        "Share\n",
        "Write a function that takes an unsigned integer and returns the number of '1' bits it has (also known as the Hamming weight).\n",
        "\n",
        "Note:\n",
        "\n",
        "Note that in some languages, such as Java, there is no unsigned integer type. In this case, the input will be given as a signed integer type. It should not affect your implementation, as the integer's internal binary representation is the same, whether it is signed or unsigned.\n",
        "In Java, the compiler represents the signed integers using 2's complement notation. Therefore, in Example 3, the input represents the signed integer. -3.\n",
        " \n",
        "\n",
        "Example 1:\n",
        "\n",
        "Input: n = 00000000000000000000000000001011\n",
        "Output: 3\n",
        "Explanation: The input binary string 00000000000000000000000000001011 has a total of three '1' bits.\n",
        "Example 2:\n",
        "\n",
        "Input: n = 00000000000000000000000010000000\n",
        "Output: 1\n",
        "Explanation: The input binary string 00000000000000000000000010000000 has a total of one '1' bit.\n",
        "Example 3:\n",
        "\n",
        "Input: n = 11111111111111111111111111111101\n",
        "Output: 31\n",
        "Explanation: The input binary string 11111111111111111111111111111101 has a total of thirty one '1' bits.\n",
        " \n",
        "\n",
        "Constraints:\n",
        "\n",
        "The input must be a binary string of length 32.\n",
        " \n",
        "\n",
        "Follow up: If this function is called many times, how would you optimize it?\n",
        "\"\"\""
      ],
      "metadata": {
        "id": "NZjGEmGqr65m"
      },
      "execution_count": null,
      "outputs": []
    },
    {
      "cell_type": "code",
      "source": [
        "# needs revision\n",
        "# this is not executing on google colab\n",
        "# right answerto this is 31 wheras its showing 60\n",
        "# video explanation: https://www.youtube.com/watch?v=5Km3utixwZs\n",
        "# this code can be improved\n",
        "\n",
        "\"\"\"\n",
        "Runtime: 30 ms, faster than 46.60% of Python online submissions for Number of 1 Bits.\n",
        "Memory Usage: 13.2 MB, less than 86.37% of Python online submissions for Number of 1 Bits.\n",
        "\"\"\"\n",
        "\n",
        "def hammingWeight(n):\n",
        "    output = 0\n",
        "    while n:\n",
        "        output += n % 2\n",
        "        n = n >> 1\n",
        "    return output\n",
        "\n",
        "\n",
        "hammingWeight(11111111111111111111111111111101)"
      ],
      "metadata": {
        "id": "GxNMvlKGnzSW"
      },
      "execution_count": null,
      "outputs": []
    },
    {
      "cell_type": "markdown",
      "source": [
        "####1281. Subtract the Product and Sum of Digits of an Integer"
      ],
      "metadata": {
        "id": "C-gdG3b3fIyD"
      }
    },
    {
      "cell_type": "code",
      "source": [
        "\"\"\"\n",
        "1281. Subtract the Product and Sum of Digits of an Integer\n",
        "Easy\n",
        "\n",
        "1497\n",
        "\n",
        "196\n",
        "\n",
        "Add to List\n",
        "\n",
        "Share\n",
        "Given an integer number n, return the difference between the product of its digits and the sum of its digits.\n",
        " \n",
        "\n",
        "Example 1:\n",
        "\n",
        "Input: n = 234\n",
        "Output: 15 \n",
        "Explanation: \n",
        "Product of digits = 2 * 3 * 4 = 24 \n",
        "Sum of digits = 2 + 3 + 4 = 9 \n",
        "Result = 24 - 9 = 15\n",
        "Example 2:\n",
        "\n",
        "Input: n = 4421\n",
        "Output: 21\n",
        "Explanation: \n",
        "Product of digits = 4 * 4 * 2 * 1 = 32 \n",
        "Sum of digits = 4 + 4 + 2 + 1 = 11 \n",
        "Result = 32 - 11 = 21\n",
        " \n",
        "\n",
        "Constraints:\n",
        "\n",
        "1 <= n <= 10^5\n",
        "\"\"\""
      ],
      "metadata": {
        "id": "kJ5zN4zQn1_n"
      },
      "execution_count": null,
      "outputs": []
    },
    {
      "cell_type": "code",
      "source": [
        "\"\"\"\n",
        "Runtime: 28 ms, faster than 42.81% of Python online submissions for Subtract the Product and Sum of Digits of an Integer.\n",
        "Memory Usage: 13.4 MB, less than 64.96% of Python online submissions for Subtract the Product and Sum of Digits of an Integer.\n",
        "\"\"\"\n",
        "\n",
        "def subtractProductAndSum(n):\n",
        "    prod = 1\n",
        "    summ = 0\n",
        "\n",
        "    for digi in str(n):\n",
        "        prod *= int(digi)\n",
        "        summ += int(digi)\n",
        "    \n",
        "    return prod - summ \n",
        "\n",
        "\n",
        "subtractProductAndSum(234)"
      ],
      "metadata": {
        "colab": {
          "base_uri": "https://localhost:8080/"
        },
        "id": "JZLSRjpgfW_x",
        "outputId": "29b85416-03ce-44cd-bf66-ed31249e1e31"
      },
      "execution_count": null,
      "outputs": [
        {
          "output_type": "execute_result",
          "data": {
            "text/plain": [
              "15"
            ]
          },
          "metadata": {},
          "execution_count": 1
        }
      ]
    },
    {
      "cell_type": "markdown",
      "source": [
        "##Day 3: Conditional Statements"
      ],
      "metadata": {
        "id": "CnOSnobCP9T2"
      }
    },
    {
      "cell_type": "markdown",
      "source": [
        "####976. Largest Perimeter Triangle"
      ],
      "metadata": {
        "id": "IgScwFUkQS_1"
      }
    },
    {
      "cell_type": "code",
      "source": [
        "\"\"\"\n",
        "976. Largest Perimeter Triangle\n",
        "Easy\n",
        "\n",
        "1342\n",
        "\n",
        "194\n",
        "\n",
        "Add to List\n",
        "\n",
        "Share\n",
        "Given an integer array nums, return the largest perimeter of a triangle with a non-zero area, formed from three of these lengths. If it is impossible to form any triangle of a non-zero area, return 0.\n",
        "\n",
        " \n",
        "\n",
        "Example 1:\n",
        "\n",
        "Input: nums = [2,1,2]\n",
        "Output: 5\n",
        "Example 2:\n",
        "\n",
        "Input: nums = [1,2,1]\n",
        "Output: 0\n",
        " \n",
        "\n",
        "Constraints:\n",
        "\n",
        "3 <= nums.length <= 104\n",
        "1 <= nums[i] <= 106\n",
        "\"\"\""
      ],
      "metadata": {
        "id": "Olj5c6xrP_rX"
      },
      "execution_count": null,
      "outputs": []
    },
    {
      "cell_type": "code",
      "source": [
        "# needs revision\n",
        "# code link: https://github.com/algorhythms/LeetCode/blob/master/976%20Largest%20Perimeter%20Triangle.py\n",
        "\n",
        "\"\"\"\n",
        "Runtime: 323 ms, faster than 18.47% of Python online submissions for Largest Perimeter Triangle.\n",
        "Memory Usage: 14.8 MB, less than 28.17% of Python online submissions for Largest Perimeter Triangle.\n",
        "\"\"\"\n",
        "\n",
        "def largestPerimeter(nums):\n",
        "    nums.sort()\n",
        "    for i in range(len(nums) - 3, -1, -1):\n",
        "        if nums[i] + nums[i+1] > nums[i+2]:\n",
        "            return sum(nums[i:i+3])\n",
        "    else:\n",
        "        return 0\n",
        "\n",
        "\n",
        "largestPerimeter([2,1,2])"
      ],
      "metadata": {
        "colab": {
          "base_uri": "https://localhost:8080/"
        },
        "id": "9XnW78_MQBYZ",
        "outputId": "c0bd40c1-688b-4b2f-a3f8-d52dd3b4a3b2"
      },
      "execution_count": null,
      "outputs": [
        {
          "output_type": "execute_result",
          "data": {
            "text/plain": [
              "5"
            ]
          },
          "metadata": {},
          "execution_count": 4
        }
      ]
    },
    {
      "cell_type": "markdown",
      "source": [
        "####1779. Find Nearest Point That Has the Same X or Y Coordinate"
      ],
      "metadata": {
        "id": "Fb7TUKQRQknS"
      }
    },
    {
      "cell_type": "code",
      "source": [
        "\"\"\"\n",
        "1779. Find Nearest Point That Has the Same X or Y Coordinate\n",
        "Easy\n",
        "\n",
        "537\n",
        "\n",
        "103\n",
        "\n",
        "Add to List\n",
        "\n",
        "Share\n",
        "You are given two integers, x and y, which represent your current location on a Cartesian grid: (x, y). You are also given an array points where each points[i] = [ai, bi] represents that a point exists at (ai, bi). A point is valid if it shares the same x-coordinate or the same y-coordinate as your location.\n",
        "\n",
        "Return the index (0-indexed) of the valid point with the smallest Manhattan distance from your current location. If there are multiple, return the valid point with the smallest index. If there are no valid points, return -1.\n",
        "\n",
        "The Manhattan distance between two points (x1, y1) and (x2, y2) is abs(x1 - x2) + abs(y1 - y2).\n",
        "\n",
        " \n",
        "\n",
        "Example 1:\n",
        "\n",
        "Input: x = 3, y = 4, points = [[1,2],[3,1],[2,4],[2,3],[4,4]]\n",
        "Output: 2\n",
        "Explanation: Of all the points, only [3,1], [2,4] and [4,4] are valid. Of the valid points, [2,4] and [4,4] have the smallest Manhattan distance from your current location, with a distance of 1. [2,4] has the smallest index, so return 2.\n",
        "Example 2:\n",
        "\n",
        "Input: x = 3, y = 4, points = [[3,4]]\n",
        "Output: 0\n",
        "Explanation: The answer is allowed to be on the same location as your current location.\n",
        "Example 3:\n",
        "\n",
        "Input: x = 3, y = 4, points = [[2,3]]\n",
        "Output: -1\n",
        "Explanation: There are no valid points.\n",
        " \n",
        "\n",
        "Constraints:\n",
        "\n",
        "1 <= points.length <= 104\n",
        "points[i].length == 2\n",
        "1 <= x, y, ai, bi <= 104\n",
        "\"\"\""
      ],
      "metadata": {
        "id": "-7Vemf3BQPEc"
      },
      "execution_count": null,
      "outputs": []
    },
    {
      "cell_type": "code",
      "source": [
        "# needs revision\n",
        "# code link: https://github.com/qianzhangut/LeetCodePractice/blob/master/problems/1779.Find%20Nearest%20Point%20That%20Has%20the%20Same%20X%20or%20Y%20Coordinate.py\n",
        "# python3\n",
        "\n",
        "\"\"\"\n",
        "Runtime: 1147 ms, faster than 44.51% of Python3 online submissions for Find Nearest Point That Has the Same X or Y Coordinate.\n",
        "Memory Usage: 19.6 MB, less than 5.78% of Python3 online submissions for Find Nearest Point That Has the Same X or Y Coordinate.\n",
        "\"\"\"\n",
        "\n",
        "class Solution:\n",
        "    def nearestValidPoint(self, x: int, y: int, points: List[List[int]]) -> int:\n",
        "        res, index = math.inf, -1\n",
        "        for i, (l, r) in enumerate(points):\n",
        "            if (x-l)*(y-r) == 0 and (abs(x-l) + abs(y-r)<res):\n",
        "                res = abs(x-l) + abs(y-r)\n",
        "                index = i\n",
        "        return index  "
      ],
      "metadata": {
        "id": "5e3pTNhaR8XP"
      },
      "execution_count": null,
      "outputs": []
    },
    {
      "cell_type": "code",
      "source": [
        "# wrong answer, question seems buggy, check later\n",
        "\n",
        "\n",
        "def nearestValidPoint(x, y, points):\n",
        "    countt = 0\n",
        "    c = 0\n",
        "    listo = []\n",
        "    min_d = 10**5\n",
        "    for point in points:\n",
        "        \n",
        "        if (point[0] == x or point[1] == y) and (point not in listo):\n",
        "            c += 1 \n",
        "            d = (((x-point[0])**2) + ((y-point[1])**2))**(1/2) \n",
        "            if d == min_d:\n",
        "                countt += 1\n",
        "            elif d < min_d:\n",
        "                countt = 0\n",
        "                min_d = d\n",
        "                \n",
        "        listo.append(point)\n",
        "        \n",
        "    if c == 0:\n",
        "        return -1\n",
        "    else:\n",
        "        return countt\n",
        "\n",
        "\n",
        "nearestValidPoint(3, 4, [[1,2],[3,1],[2,4],[2,3],[4,4]] )"
      ],
      "metadata": {
        "colab": {
          "base_uri": "https://localhost:8080/"
        },
        "id": "62QPSJpagc2O",
        "outputId": "341aa626-0551-4bc9-facb-d590e958614a"
      },
      "execution_count": null,
      "outputs": [
        {
          "output_type": "execute_result",
          "data": {
            "text/plain": [
              "2"
            ]
          },
          "metadata": {},
          "execution_count": 3
        }
      ]
    },
    {
      "cell_type": "markdown",
      "source": [
        "##Day 4: Loop"
      ],
      "metadata": {
        "id": "e1ov_PzH1AF_"
      }
    },
    {
      "cell_type": "markdown",
      "source": [
        "####1822. Sign of the Product of an Array"
      ],
      "metadata": {
        "id": "gomgoN3v0-4h"
      }
    },
    {
      "cell_type": "code",
      "source": [
        "\"\"\"\n",
        "1822. Sign of the Product of an Array\n",
        "Easy\n",
        "\n",
        "710\n",
        "\n",
        "96\n",
        "\n",
        "Add to List\n",
        "\n",
        "Share\n",
        "There is a function signFunc(x) that returns:\n",
        "\n",
        "1 if x is positive.\n",
        "-1 if x is negative.\n",
        "0 if x is equal to 0.\n",
        "You are given an integer array nums. Let product be the product of all values in the array nums.\n",
        "\n",
        "Return signFunc(product).\n",
        "\n",
        " \n",
        "\n",
        "Example 1:\n",
        "\n",
        "Input: nums = [-1,-2,-3,-4,3,2,1]\n",
        "Output: 1\n",
        "Explanation: The product of all values in the array is 144, and signFunc(144) = 1\n",
        "Example 2:\n",
        "\n",
        "Input: nums = [1,5,0,2,-3]\n",
        "Output: 0\n",
        "Explanation: The product of all values in the array is 0, and signFunc(0) = 0\n",
        "Example 3:\n",
        "\n",
        "Input: nums = [-1,1,-1,1,-1]\n",
        "Output: -1\n",
        "Explanation: The product of all values in the array is -1, and signFunc(-1) = -1\n",
        " \n",
        "\n",
        "Constraints:\n",
        "\n",
        "1 <= nums.length <= 1000\n",
        "-100 <= nums[i] <= 100\n",
        "\"\"\""
      ],
      "metadata": {
        "id": "wGcQqVW1gsy2"
      },
      "execution_count": null,
      "outputs": []
    },
    {
      "cell_type": "code",
      "source": [
        "\"\"\"\n",
        "Runtime: 84 ms, faster than 19.40% of Python online submissions for Sign of the Product of an Array.\n",
        "Memory Usage: 13.6 MB, less than 24.61% of Python online submissions for Sign of the Product of an Array.\n",
        "\"\"\"\n",
        "\n",
        "def arraySign(nums):\n",
        "    countt = 0\n",
        "    for num in nums:\n",
        "        if num == 0:\n",
        "            return 0\n",
        "        elif num < 0:\n",
        "            countt += 1\n",
        "    if countt % 2 == 0:\n",
        "        return 1\n",
        "    else:\n",
        "        return -1\n",
        "\n",
        "\n",
        "arraySign([-1,-2,-3,-4,3,2,1])"
      ],
      "metadata": {
        "colab": {
          "base_uri": "https://localhost:8080/"
        },
        "id": "d2oY2bNP0-Te",
        "outputId": "42bb7a94-9a74-475e-d0fc-dd353f00864e"
      },
      "execution_count": null,
      "outputs": [
        {
          "output_type": "execute_result",
          "data": {
            "text/plain": [
              "1"
            ]
          },
          "metadata": {},
          "execution_count": 1
        }
      ]
    },
    {
      "cell_type": "markdown",
      "source": [
        "####1502. Can Make Arithmetic Progression From Sequence"
      ],
      "metadata": {
        "id": "qnVs1KQ96fAj"
      }
    },
    {
      "cell_type": "code",
      "source": [
        "\"\"\"\n",
        "1502. Can Make Arithmetic Progression From Sequence\n",
        "Easy\n",
        "\n",
        "799\n",
        "\n",
        "52\n",
        "\n",
        "Add to List\n",
        "\n",
        "Share\n",
        "A sequence of numbers is called an arithmetic progression if the difference between any two consecutive elements is the same.\n",
        "\n",
        "Given an array of numbers arr, return true if the array can be rearranged to form an arithmetic progression. Otherwise, return false.\n",
        "\n",
        " \n",
        "\n",
        "Example 1:\n",
        "\n",
        "Input: arr = [3,5,1]\n",
        "Output: true\n",
        "Explanation: We can reorder the elements as [1,3,5] or [5,3,1] with differences 2 and -2 respectively, between each consecutive elements.\n",
        "Example 2:\n",
        "\n",
        "Input: arr = [1,2,4]\n",
        "Output: false\n",
        "Explanation: There is no way to reorder the elements to obtain an arithmetic progression.\n",
        " \n",
        "\n",
        "Constraints:\n",
        "\n",
        "2 <= arr.length <= 1000\n",
        "-106 <= arr[i] <= 106\n",
        "\"\"\""
      ],
      "metadata": {
        "id": "sWcH9_Hs1xBs"
      },
      "execution_count": null,
      "outputs": []
    },
    {
      "cell_type": "code",
      "source": [
        "\"\"\"\n",
        "Runtime: 34 ms, faster than 71.69% of Python online submissions for Can Make Arithmetic Progression From Sequence.\n",
        "Memory Usage: 13.6 MB, less than 17.99% of Python online submissions for Can Make Arithmetic Progression From Sequence.\n",
        "\"\"\"\n",
        "\n",
        "def canMakeArithmeticProgression(arr):\n",
        "    arr.sort()\n",
        "    cd = arr[1] - arr[0]\n",
        "    for i in range(1, len(arr)):\n",
        "        if arr[i] - arr[i-1] != cd:\n",
        "            return False\n",
        "    return True\n",
        "\n",
        "canMakeArithmeticProgression([1,2,4])"
      ],
      "metadata": {
        "colab": {
          "base_uri": "https://localhost:8080/"
        },
        "id": "mFc33UUl6kxg",
        "outputId": "c871f935-05ca-48bd-9244-caa8c46a073a"
      },
      "execution_count": null,
      "outputs": [
        {
          "output_type": "execute_result",
          "data": {
            "text/plain": [
              "False"
            ]
          },
          "metadata": {},
          "execution_count": 2
        }
      ]
    },
    {
      "cell_type": "markdown",
      "source": [
        "####202. Happy Number"
      ],
      "metadata": {
        "id": "rjUT0cHpL7J-"
      }
    },
    {
      "cell_type": "code",
      "source": [
        "\"\"\"\n",
        "202. Happy Number\n",
        "Easy\n",
        "\n",
        "6570\n",
        "\n",
        "820\n",
        "\n",
        "Add to List\n",
        "\n",
        "Share\n",
        "Write an algorithm to determine if a number n is happy.\n",
        "\n",
        "A happy number is a number defined by the following process:\n",
        "\n",
        "Starting with any positive integer, replace the number by the sum of the squares of its digits.\n",
        "Repeat the process until the number equals 1 (where it will stay), or it loops endlessly in a cycle which does not include 1.\n",
        "Those numbers for which this process ends in 1 are happy.\n",
        "Return true if n is a happy number, and false if not.\n",
        "\n",
        " \n",
        "\n",
        "Example 1:\n",
        "\n",
        "Input: n = 19\n",
        "Output: true\n",
        "Explanation:\n",
        "12 + 92 = 82\n",
        "82 + 22 = 68\n",
        "62 + 82 = 100\n",
        "12 + 02 + 02 = 1\n",
        "Example 2:\n",
        "\n",
        "Input: n = 2\n",
        "Output: false\n",
        " \n",
        "\n",
        "Constraints:\n",
        "\n",
        "1 <= n <= 231 - 1\n",
        "\"\"\""
      ],
      "metadata": {
        "id": "iYmxCl5iL7yC"
      },
      "execution_count": null,
      "outputs": []
    },
    {
      "cell_type": "code",
      "source": [
        "# needs revision\n",
        "# video explanation: https://www.youtube.com/watch?v=ljz85bxOYJ0\n",
        "\n",
        "\"\"\"\n",
        "Runtime: 62 ms, faster than 31.61% of Python3 online submissions for Happy Number.\n",
        "Memory Usage: 14 MB, less than 14.96% of Python3 online submissions for Happy Number.\n",
        "\"\"\"\n",
        "\n",
        "class Solution:\n",
        "    def isHappy(self, n: int) -> bool:\n",
        "        visit = set()\n",
        "        \n",
        "        while n not in visit:\n",
        "            visit.add(n)\n",
        "            n = self.sumOfSquares(n)\n",
        "            \n",
        "            if n == 1:\n",
        "                return True\n",
        "            \n",
        "        return False\n",
        "    \n",
        "    def sumOfSquares(self, n: int) -> int:\n",
        "        output = 0\n",
        "        \n",
        "        while n:\n",
        "            digit = n % 10\n",
        "            digit = digit ** 2\n",
        "            output += digit\n",
        "            n = n // 10\n",
        "        return output\n",
        "        "
      ],
      "metadata": {
        "id": "j2zHclgtL6DB"
      },
      "execution_count": null,
      "outputs": []
    },
    {
      "cell_type": "markdown",
      "source": [
        "####1790. Check if One String Swap Can Make Strings Equal"
      ],
      "metadata": {
        "id": "XMO6AjwWLFkr"
      }
    },
    {
      "cell_type": "code",
      "source": [
        "\"\"\"\n",
        "1790. Check if One String Swap Can Make Strings Equal\n",
        "Easy\n",
        "\n",
        "629\n",
        "\n",
        "28\n",
        "\n",
        "Add to List\n",
        "\n",
        "Share\n",
        "You are given two strings s1 and s2 of equal length. A string swap is an operation where you choose two indices in a string (not necessarily different) and swap the characters at these indices.\n",
        "\n",
        "Return true if it is possible to make both strings equal by performing at most one string swap on exactly one of the strings. Otherwise, return false.\n",
        "\n",
        " \n",
        "\n",
        "Example 1:\n",
        "\n",
        "Input: s1 = \"bank\", s2 = \"kanb\"\n",
        "Output: true\n",
        "Explanation: For example, swap the first character with the last character of s2 to make \"bank\".\n",
        "Example 2:\n",
        "\n",
        "Input: s1 = \"attack\", s2 = \"defend\"\n",
        "Output: false\n",
        "Explanation: It is impossible to make them equal with one string swap.\n",
        "Example 3:\n",
        "\n",
        "Input: s1 = \"kelb\", s2 = \"kelb\"\n",
        "Output: true\n",
        "Explanation: The two strings are already equal, so no string swap operation is required.\n",
        " \n",
        "\n",
        "Constraints:\n",
        "\n",
        "1 <= s1.length, s2.length <= 100\n",
        "s1.length == s2.length\n",
        "s1 and s2 consist of only lowercase English letters.\n",
        "\"\"\""
      ],
      "metadata": {
        "id": "5ws5A1TA63wZ"
      },
      "execution_count": null,
      "outputs": []
    },
    {
      "cell_type": "code",
      "source": [
        "# code could be improved i guess\n",
        "\n",
        "\"\"\"\n",
        "Runtime: 34 ms, faster than 32.02% of Python online submissions for Check if One String Swap Can Make Strings Equal.\n",
        "Memory Usage: 13.2 MB, less than 96.07% of Python online submissions for Check if One String Swap Can Make Strings Equal.\n",
        "\"\"\"\n",
        "\n",
        "def areAlmostEqual(s1, s2):\n",
        "    if s1 == s2:\n",
        "        return True\n",
        "    if len(s1) != len(s2):\n",
        "        return False\n",
        "    countt = 0\n",
        "    l = []\n",
        "    for i in range(len(s1)):\n",
        "        if s1[i] != s2[i]:\n",
        "            countt += 1\n",
        "            if countt > 2:\n",
        "                return False\n",
        "            l.append(i)\n",
        "    if countt != 2 or len(l) != 2:\n",
        "        return False\n",
        "        \n",
        "    if s1[l[0]] == s2[l[1]] and s1[l[1]] == s2[l[0]]:\n",
        "        return True\n",
        "    else:\n",
        "        return False\n",
        "\n",
        "areAlmostEqual(\"attack\",\"defend\")"
      ],
      "metadata": {
        "colab": {
          "base_uri": "https://localhost:8080/"
        },
        "id": "53nx-zuCLGxC",
        "outputId": "aa743efa-4c1b-4d5a-e191-3c9000440262"
      },
      "execution_count": null,
      "outputs": [
        {
          "output_type": "execute_result",
          "data": {
            "text/plain": [
              "False"
            ]
          },
          "metadata": {},
          "execution_count": 3
        }
      ]
    },
    {
      "cell_type": "markdown",
      "source": [
        "##Day 5: Function"
      ],
      "metadata": {
        "id": "U_pKElB-EXqg"
      }
    },
    {
      "cell_type": "markdown",
      "source": [
        "####589. N-ary Tree Preorder Traversal"
      ],
      "metadata": {
        "id": "v3TC8Pt3FCZx"
      }
    },
    {
      "cell_type": "code",
      "source": [
        "\"\"\"\n",
        "589. N-ary Tree Preorder Traversal\n",
        "Easy\n",
        "\n",
        "2196\n",
        "\n",
        "103\n",
        "\n",
        "Add to List\n",
        "\n",
        "Share\n",
        "Given the root of an n-ary tree, return the preorder traversal of its nodes' values.\n",
        "\n",
        "Nary-Tree input serialization is represented in their level order traversal. Each group of children is separated by the null value (See examples)\n",
        "\n",
        " \n",
        "\n",
        "Example 1:\n",
        "\n",
        "\n",
        "\n",
        "Input: root = [1,null,3,2,4,null,5,6]\n",
        "Output: [1,3,5,6,2,4]\n",
        "Example 2:\n",
        "\n",
        "\n",
        "\n",
        "Input: root = [1,null,2,3,4,5,null,null,6,7,null,8,null,9,10,null,null,11,null,12,null,13,null,null,14]\n",
        "Output: [1,2,3,6,7,11,14,4,8,12,5,9,13,10]\n",
        " \n",
        "\n",
        "Constraints:\n",
        "\n",
        "The number of nodes in the tree is in the range [0, 104].\n",
        "0 <= Node.val <= 104\n",
        "The height of the n-ary tree is less than or equal to 1000.\n",
        " \n",
        "\n",
        "Follow up: Recursive solution is trivial, could you do it iteratively?\n",
        "\"\"\""
      ],
      "metadata": {
        "id": "OX7O0bMOFE70"
      },
      "execution_count": null,
      "outputs": []
    },
    {
      "cell_type": "code",
      "source": [
        "# needs revision\n",
        "# code link: https://goodtecher.com/leetcode-589-n-ary-tree-preorder-traversal/\n",
        "\n",
        "\"\"\"\n",
        "Runtime: 80 ms, faster than 17.30% of Python online submissions for N-ary Tree Preorder Traversal.\n",
        "Memory Usage: 16.3 MB, less than 91.11% of Python online submissions for N-ary Tree Preorder Traversal.\n",
        "\"\"\"\n",
        "\n",
        "\n",
        "\"\"\"\n",
        "# Definition for a Node.\n",
        "class Node(object):\n",
        "    def __init__(self, val=None, children=None):\n",
        "        self.val = val\n",
        "        self.children = children\n",
        "\"\"\"\n",
        "\n",
        "class Solution(object):\n",
        "    def preorder(self, root):\n",
        "        results = []\n",
        "        \n",
        "        self.helper(root, results)\n",
        "        \n",
        "        return results\n",
        "        \n",
        "        \n",
        "    def helper(self, root, results):\n",
        "        if not root:\n",
        "            return\n",
        "        \n",
        "        results.append(root.val)        \n",
        "        \n",
        "        for child in root.children:\n",
        "            self.helper(child, results)"
      ],
      "metadata": {
        "id": "J9ORXj5rFEsy"
      },
      "execution_count": null,
      "outputs": []
    },
    {
      "cell_type": "markdown",
      "source": [
        "####496. Next Greater Element I"
      ],
      "metadata": {
        "id": "_GFupuWGEWsf"
      }
    },
    {
      "cell_type": "code",
      "source": [
        "\"\"\"\n",
        "496. Next Greater Element I\n",
        "Easy\n",
        "\n",
        "4159\n",
        "\n",
        "255\n",
        "\n",
        "Add to List\n",
        "\n",
        "Share\n",
        "The next greater element of some element x in an array is the first greater element that is to the right of x in the same array.\n",
        "\n",
        "You are given two distinct 0-indexed integer arrays nums1 and nums2, where nums1 is a subset of nums2.\n",
        "\n",
        "For each 0 <= i < nums1.length, find the index j such that nums1[i] == nums2[j] and determine the next greater element of nums2[j] in nums2. If there is no next greater element, then the answer for this query is -1.\n",
        "\n",
        "Return an array ans of length nums1.length such that ans[i] is the next greater element as described above.\n",
        "\n",
        " \n",
        "\n",
        "Example 1:\n",
        "\n",
        "Input: nums1 = [4,1,2], nums2 = [1,3,4,2]\n",
        "Output: [-1,3,-1]\n",
        "Explanation: The next greater element for each value of nums1 is as follows:\n",
        "- 4 is underlined in nums2 = [1,3,4,2]. There is no next greater element, so the answer is -1.\n",
        "- 1 is underlined in nums2 = [1,3,4,2]. The next greater element is 3.\n",
        "- 2 is underlined in nums2 = [1,3,4,2]. There is no next greater element, so the answer is -1.\n",
        "Example 2:\n",
        "\n",
        "Input: nums1 = [2,4], nums2 = [1,2,3,4]\n",
        "Output: [3,-1]\n",
        "Explanation: The next greater element for each value of nums1 is as follows:\n",
        "- 2 is underlined in nums2 = [1,2,3,4]. The next greater element is 3.\n",
        "- 4 is underlined in nums2 = [1,2,3,4]. There is no next greater element, so the answer is -1.\n",
        " \n",
        "\n",
        "Constraints:\n",
        "\n",
        "1 <= nums1.length <= nums2.length <= 1000\n",
        "0 <= nums1[i], nums2[i] <= 104\n",
        "All integers in nums1 and nums2 are unique.\n",
        "All the integers of nums1 also appear in nums2.\n",
        " \n",
        "\n",
        "Follow up: Could you find an O(nums1.length + nums2.length) solution?\n",
        "\"\"\""
      ],
      "metadata": {
        "id": "toQvF3omEYkM"
      },
      "execution_count": null,
      "outputs": []
    },
    {
      "cell_type": "code",
      "source": [
        "# needs revision\n",
        "# code link: https://zhenyu0519.github.io/2020/06/22/lc496/\n",
        "\n",
        "\n",
        "\"\"\"\n",
        "Runtime: 72 ms, faster than 47.48% of Python online submissions for Next Greater Element I.\n",
        "Memory Usage: 13.7 MB, less than 32.48% of Python online submissions for Next Greater Element I.\n",
        "\"\"\"\n",
        "\n",
        "\n",
        "def nextGreaterElement(nums1, nums2):\n",
        "    if not nums1 or not nums2: return []\n",
        "    res = []\n",
        "    nums2_dic = {v:i for i, v in enumerate(nums2)}\n",
        "    for x in nums1:\n",
        "        index=nums2_dic[x]+1\n",
        "        while index < len(nums2) and x >= nums2[index]:\n",
        "            index += 1\n",
        "        if index == len(nums2):\n",
        "            res.append(-1)\n",
        "        else:\n",
        "            res.append(nums2[index])\n",
        "    return res"
      ],
      "metadata": {
        "id": "j25lC7IMEY7y"
      },
      "execution_count": null,
      "outputs": []
    },
    {
      "cell_type": "markdown",
      "source": [
        "####1232. Check If It Is a Straight Line"
      ],
      "metadata": {
        "id": "pmjR7aW5Qju2"
      }
    },
    {
      "cell_type": "code",
      "source": [
        "\"\"\"\n",
        "1232. Check If It Is a Straight Line\n",
        "Easy\n",
        "\n",
        "1047\n",
        "\n",
        "160\n",
        "\n",
        "Add to List\n",
        "\n",
        "Share\n",
        "You are given an array coordinates, coordinates[i] = [x, y], where [x, y] represents the coordinate of a point. Check if these points make a straight line in the XY plane.\n",
        "\n",
        " \n",
        "\n",
        " \n",
        "\n",
        "Example 1:\n",
        "\n",
        "\n",
        "\n",
        "Input: coordinates = [[1,2],[2,3],[3,4],[4,5],[5,6],[6,7]]\n",
        "Output: true\n",
        "Example 2:\n",
        "\n",
        "\n",
        "\n",
        "Input: coordinates = [[1,1],[2,2],[3,4],[4,5],[5,6],[7,7]]\n",
        "Output: false\n",
        " \n",
        "\n",
        "Constraints:\n",
        "\n",
        "2 <= coordinates.length <= 1000\n",
        "coordinates[i].length == 2\n",
        "-10^4 <= coordinates[i][0], coordinates[i][1] <= 10^4\n",
        "coordinates contains no duplicate point.\n",
        "\"\"\""
      ],
      "metadata": {
        "id": "U5B_PU_FQkbi"
      },
      "execution_count": null,
      "outputs": []
    },
    {
      "cell_type": "code",
      "source": [
        "\"\"\"\n",
        "Runtime: 78 ms, faster than 27.04% of Python online submissions for Check If It Is a Straight Line.\n",
        "Memory Usage: 13.9 MB, less than 78.52% of Python online submissions for Check If It Is a Straight Line.\n",
        "\"\"\"\n",
        "\n",
        "\n",
        "def checkStraightLine(coordinates):\n",
        "    if (coordinates[1][0] - coordinates[0][0]) != 0:\n",
        "        m = (coordinates[1][1] - coordinates[0][1]) / (coordinates[1][0] - coordinates[0][0])\n",
        "    \n",
        "        for i in range(2, len(coordinates)):\n",
        "            if (coordinates[i][0] - coordinates[i-1][0]) == 0:\n",
        "                return False\n",
        "            if (coordinates[i][1] - coordinates[i-1][1]) / (coordinates[i][0] - coordinates[i-1][0]) != m:\n",
        "                return False\n",
        "        return True\n",
        "    else:\n",
        "        for i in range(2, len(coordinates)):\n",
        "            if (coordinates[i][0] - coordinates[i-1][0]) != 0:\n",
        "                return False\n",
        "        return True\n",
        "\n",
        "\n",
        "checkStraightLine([[1,2],[2,3],[3,4],[4,5],[5,6],[6,7]])"
      ],
      "metadata": {
        "colab": {
          "base_uri": "https://localhost:8080/"
        },
        "id": "6vLflgzAQk4e",
        "outputId": "8078f2e8-7c90-4955-b26d-641c04be6c4f"
      },
      "execution_count": null,
      "outputs": [
        {
          "output_type": "execute_result",
          "data": {
            "text/plain": [
              "True"
            ]
          },
          "metadata": {},
          "execution_count": 1
        }
      ]
    },
    {
      "cell_type": "markdown",
      "source": [
        "##Day 6: Array"
      ],
      "metadata": {
        "id": "rrLsKxY9Hln4"
      }
    },
    {
      "cell_type": "markdown",
      "source": [
        "####1588. Sum of All Odd Length Subarrays"
      ],
      "metadata": {
        "id": "YQus2Ko0HqHI"
      }
    },
    {
      "cell_type": "code",
      "source": [
        "\"\"\"\n",
        "1588. Sum of All Odd Length Subarrays\n",
        "Easy\n",
        "\n",
        "2448\n",
        "\n",
        "187\n",
        "\n",
        "Add to List\n",
        "\n",
        "Share\n",
        "Given an array of positive integers arr, return the sum of all possible odd-length subarrays of arr.\n",
        "\n",
        "A subarray is a contiguous subsequence of the array.\n",
        "\n",
        " \n",
        "\n",
        "Example 1:\n",
        "\n",
        "Input: arr = [1,4,2,5,3]\n",
        "Output: 58\n",
        "Explanation: The odd-length subarrays of arr and their sums are:\n",
        "[1] = 1\n",
        "[4] = 4\n",
        "[2] = 2\n",
        "[5] = 5\n",
        "[3] = 3\n",
        "[1,4,2] = 7\n",
        "[4,2,5] = 11\n",
        "[2,5,3] = 10\n",
        "[1,4,2,5,3] = 15\n",
        "If we add all these together we get 1 + 4 + 2 + 5 + 3 + 7 + 11 + 10 + 15 = 58\n",
        "Example 2:\n",
        "\n",
        "Input: arr = [1,2]\n",
        "Output: 3\n",
        "Explanation: There are only 2 subarrays of odd length, [1] and [2]. Their sum is 3.\n",
        "Example 3:\n",
        "\n",
        "Input: arr = [10,11,12]\n",
        "Output: 66\n",
        " \n",
        "\n",
        "Constraints:\n",
        "\n",
        "1 <= arr.length <= 100\n",
        "1 <= arr[i] <= 1000\n",
        " \n",
        "\n",
        "Follow up:\n",
        "\n",
        "Could you solve this problem in O(n) time complexity?\n",
        "\"\"\""
      ],
      "metadata": {
        "id": "7KxyMlGrHpZf"
      },
      "execution_count": null,
      "outputs": []
    },
    {
      "cell_type": "code",
      "source": [
        "\"\"\"\n",
        "Runtime: 84 ms, faster than 40.35% of Python online submissions for Sum of All Odd Length Subarrays.\n",
        "Memory Usage: 13.3 MB, less than 89.59% of Python online submissions for Sum of All Odd Length Subarrays.\n",
        "\"\"\"\n",
        "\n",
        "def sumOddLengthSubarrays(arr):\n",
        "    summ = 0\n",
        "    for i in range(1, len(arr)+1):\n",
        "        if i % 2 == 1:\n",
        "            for j in range(len(arr)-(i-1)):\n",
        "                 summ += sum(arr[j: j+i])\n",
        "    return summ\n",
        "        \n",
        "\n",
        "sumOddLengthSubarrays([1,4,2,5,3])"
      ],
      "metadata": {
        "colab": {
          "base_uri": "https://localhost:8080/"
        },
        "id": "lwCPyawUHrlT",
        "outputId": "4002e0de-97f6-4c02-fd02-6a1c9bcf572a"
      },
      "execution_count": null,
      "outputs": [
        {
          "output_type": "execute_result",
          "data": {
            "text/plain": [
              "58"
            ]
          },
          "metadata": {},
          "execution_count": 1
        }
      ]
    },
    {
      "cell_type": "markdown",
      "source": [
        "####283. Move Zeroes"
      ],
      "metadata": {
        "id": "AP_iKGQWtaNo"
      }
    },
    {
      "cell_type": "code",
      "source": [
        "\"\"\"\n",
        "283. Move Zeroes\n",
        "Easy\n",
        "\n",
        "10800\n",
        "\n",
        "261\n",
        "\n",
        "Add to List\n",
        "\n",
        "Share\n",
        "Given an integer array nums, move all 0's to the end of it while maintaining the relative order of the non-zero elements.\n",
        "\n",
        "Note that you must do this in-place without making a copy of the array.\n",
        "\n",
        " \n",
        "\n",
        "Example 1:\n",
        "\n",
        "Input: nums = [0,1,0,3,12]\n",
        "Output: [1,3,12,0,0]\n",
        "Example 2:\n",
        "\n",
        "Input: nums = [0]\n",
        "Output: [0]\n",
        " \n",
        "\n",
        "Constraints:\n",
        "\n",
        "1 <= nums.length <= 104\n",
        "-231 <= nums[i] <= 231 - 1\n",
        " \n",
        "\n",
        "Follow up: Could you minimize the total number of operations done?\n",
        "\"\"\""
      ],
      "metadata": {
        "id": "hb73wTUTtb2r"
      },
      "execution_count": null,
      "outputs": []
    },
    {
      "cell_type": "code",
      "source": [
        "# needs revision\n",
        "# code link: https://dxmahata.gitbooks.io/leetcode-python-solutions/content/move_zeros.html\n",
        "\"\"\"\n",
        "Runtime: 332 ms, faster than 26.16% of Python online submissions for Move Zeroes.\n",
        "Memory Usage: 14.5 MB, less than 83.26% of Python online submissions for Move Zeroes.\n",
        "\"\"\"\n",
        "\n",
        "def moveZeroes(nums):\n",
        "    i = 0\n",
        "    j = 0\n",
        "    while j < len(nums):\n",
        "        if nums[j] == 0:\n",
        "            j += 1\n",
        "        else:\n",
        "            nums[i] = nums[j]\n",
        "            i += 1\n",
        "            j += 1\n",
        "\n",
        "    while i < len(nums):\n",
        "        nums[i] = 0\n",
        "        i += 1\n",
        "    return nums\n",
        "\n",
        "# following is a wrong solution\n",
        "\n",
        "\"\"\"\n",
        "def moveZeroes(nums):\n",
        "    if sum(nums) == 0:\n",
        "        return nums\n",
        "    n = nums.count(0) + 1\n",
        "    for i in range(n):\n",
        "        if nums[i] == 0 and len(nums[i:]) > 1:\n",
        "            for j in range(i+1, len(nums)):\n",
        "                if nums[j] != 0:\n",
        "                    nums[i], nums[j] = nums[j], nums[i]\n",
        "                    break\n",
        "    return nums\n",
        "\"\"\"\n",
        "\n",
        "\n",
        "moveZeroes([0,1,0,3,12])       "
      ],
      "metadata": {
        "colab": {
          "base_uri": "https://localhost:8080/"
        },
        "id": "aumi2a7OtcYy",
        "outputId": "96d3336f-7500-4c70-e123-59ed625236a4"
      },
      "execution_count": null,
      "outputs": [
        {
          "output_type": "execute_result",
          "data": {
            "text/plain": [
              "[1, 3, 12, 0, 0]"
            ]
          },
          "metadata": {},
          "execution_count": 3
        }
      ]
    },
    {
      "cell_type": "markdown",
      "source": [
        "####1672. Richest Customer Wealth"
      ],
      "metadata": {
        "id": "YbSoFwZdtdQC"
      }
    },
    {
      "cell_type": "code",
      "source": [
        "\"\"\"\n",
        "1672. Richest Customer Wealth\n",
        "Easy\n",
        "\n",
        "2414\n",
        "\n",
        "288\n",
        "\n",
        "Add to List\n",
        "\n",
        "Share\n",
        "You are given an m x n integer grid accounts where accounts[i][j] is the amount of money the i​​​​​​​​​​​th​​​​ customer has in the j​​​​​​​​​​​th​​​​ bank. Return the wealth that the richest customer has.\n",
        "\n",
        "A customer's wealth is the amount of money they have in all their bank accounts. The richest customer is the customer that has the maximum wealth.\n",
        "\n",
        " \n",
        "\n",
        "Example 1:\n",
        "\n",
        "Input: accounts = [[1,2,3],[3,2,1]]\n",
        "Output: 6\n",
        "Explanation:\n",
        "1st customer has wealth = 1 + 2 + 3 = 6\n",
        "2nd customer has wealth = 3 + 2 + 1 = 6\n",
        "Both customers are considered the richest with a wealth of 6 each, so return 6.\n",
        "Example 2:\n",
        "\n",
        "Input: accounts = [[1,5],[7,3],[3,5]]\n",
        "Output: 10\n",
        "Explanation: \n",
        "1st customer has wealth = 6\n",
        "2nd customer has wealth = 10 \n",
        "3rd customer has wealth = 8\n",
        "The 2nd customer is the richest with a wealth of 10.\n",
        "Example 3:\n",
        "\n",
        "Input: accounts = [[2,8,7],[7,1,3],[1,9,5]]\n",
        "Output: 17\n",
        " \n",
        "\n",
        "Constraints:\n",
        "\n",
        "m == accounts.length\n",
        "n == accounts[i].length\n",
        "1 <= m, n <= 50\n",
        "1 <= accounts[i][j] <= 100\n",
        "\"\"\""
      ],
      "metadata": {
        "id": "-z-4QXr-tdwM"
      },
      "execution_count": null,
      "outputs": []
    },
    {
      "cell_type": "code",
      "source": [
        "# needs revision\n",
        "# code link: https://donic0211.medium.com/leetcode-1672-richest-customer-wealth-76d40f2420b4\n",
        "\n",
        "\"\"\"\n",
        "Richest Customer Wealth.\n",
        "Memory Usage: 13.6 MB, less than 24.62% of Python online submissions for Richest Customer Wealth.\n",
        "\"\"\"\n",
        "\n",
        "\n",
        "def maximumWealth(accounts):\n",
        "    ans, curr= 0, 0\n",
        "    for i in accounts:\n",
        "        for j in i:\n",
        "            curr+=j\n",
        "        ans=max(ans,curr)\n",
        "        curr=0\n",
        "    return ans\n",
        "    \n",
        "\n",
        "maximumWealth([[2,8,7],[7,1,3],[1,9,5]])"
      ],
      "metadata": {
        "colab": {
          "base_uri": "https://localhost:8080/"
        },
        "id": "bbCzbI2uteLq",
        "outputId": "8648a437-58d0-4b94-fc3e-2a01f844dc24"
      },
      "execution_count": null,
      "outputs": [
        {
          "output_type": "execute_result",
          "data": {
            "text/plain": [
              "17"
            ]
          },
          "metadata": {},
          "execution_count": 1
        }
      ]
    },
    {
      "cell_type": "markdown",
      "source": [
        "##Day 7: Array"
      ],
      "metadata": {
        "id": "l9Yq3zLrthSp"
      }
    },
    {
      "cell_type": "markdown",
      "source": [
        "####1572. Matrix Diagonal Sum"
      ],
      "metadata": {
        "id": "gDsP4Urztmq7"
      }
    },
    {
      "cell_type": "code",
      "source": [
        "\"\"\"\n",
        "1572. Matrix Diagonal Sum\n",
        "Easy\n",
        "\n",
        "1498\n",
        "\n",
        "23\n",
        "\n",
        "Add to List\n",
        "\n",
        "Share\n",
        "Given a square matrix mat, return the sum of the matrix diagonals.\n",
        "\n",
        "Only include the sum of all the elements on the primary diagonal and all the elements on the secondary diagonal that are not part of the primary diagonal.\n",
        "\n",
        " \n",
        "\n",
        "Example 1:\n",
        "\n",
        "\n",
        "Input: mat = [[1,2,3],\n",
        "              [4,5,6],\n",
        "              [7,8,9]]\n",
        "Output: 25\n",
        "Explanation: Diagonals sum: 1 + 5 + 9 + 3 + 7 = 25\n",
        "Notice that element mat[1][1] = 5 is counted only once.\n",
        "Example 2:\n",
        "\n",
        "Input: mat = [[1,1,1,1],\n",
        "              [1,1,1,1],\n",
        "              [1,1,1,1],\n",
        "              [1,1,1,1]]\n",
        "Output: 8\n",
        "Example 3:\n",
        "\n",
        "Input: mat = [[5]]\n",
        "Output: 5\n",
        " \n",
        "\n",
        "Constraints:\n",
        "\n",
        "n == mat.length == mat[i].length\n",
        "1 <= n <= 100\n",
        "1 <= mat[i][j] <= 100\n",
        "\"\"\""
      ],
      "metadata": {
        "id": "s1siI10MtvFX"
      },
      "execution_count": null,
      "outputs": []
    },
    {
      "cell_type": "code",
      "source": [
        "\"\"\"\n",
        "Runtime: 122 ms, faster than 61.76% of Python online submissions for Matrix Diagonal Sum.\n",
        "Memory Usage: 13.6 MB, less than 39.01% of Python online submissions for Matrix Diagonal Sum.\n",
        "\"\"\"\n",
        "\n",
        "def diagonalSum(mat):\n",
        "    N_row_col = len(mat[0])\n",
        "    if N_row_col == 1:\n",
        "        return mat[0][0]\n",
        "    \n",
        "    sum = 0\n",
        "    for row_n in range(N_row_col):\n",
        "        for column_n in range(N_row_col):\n",
        "            if row_n == column_n or row_n + column_n == N_row_col-1:\n",
        "                sum += mat[row_n][column_n]\n",
        "    return sum\n",
        "\n",
        "\n",
        "diagonalSum([[1,1,1,1],[1,1,1,1],[1,1,1,1],[1,1,1,1]])"
      ],
      "metadata": {
        "colab": {
          "base_uri": "https://localhost:8080/"
        },
        "id": "1lrIID6kt0fw",
        "outputId": "1aa373b5-111f-4efa-c2ba-1477ec93671b"
      },
      "execution_count": null,
      "outputs": [
        {
          "output_type": "execute_result",
          "data": {
            "text/plain": [
              "8"
            ]
          },
          "metadata": {},
          "execution_count": 1
        }
      ]
    },
    {
      "cell_type": "markdown",
      "source": [
        "####566. Reshape the Matrix"
      ],
      "metadata": {
        "id": "JcqYK3y9xNHT"
      }
    },
    {
      "cell_type": "code",
      "source": [
        "\"\"\"\n",
        "566. Reshape the Matrix\n",
        "Easy\n",
        "\n",
        "2676\n",
        "\n",
        "300\n",
        "\n",
        "Add to List\n",
        "\n",
        "Share\n",
        "In MATLAB, there is a handy function called reshape which can reshape an m x n matrix into a new one with a different size r x c keeping its original data.\n",
        "\n",
        "You are given an m x n matrix mat and two integers r and c representing the number of rows and the number of columns of the wanted reshaped matrix.\n",
        "\n",
        "The reshaped matrix should be filled with all the elements of the original matrix in the same row-traversing order as they were.\n",
        "\n",
        "If the reshape operation with given parameters is possible and legal, output the new reshaped matrix; Otherwise, output the original matrix.\n",
        "\n",
        " \n",
        "\n",
        "Example 1:\n",
        "\n",
        "\n",
        "Input: mat = [[1,2],[3,4]], r = 1, c = 4\n",
        "Output: [[1,2,3,4]]\n",
        "Example 2:\n",
        "\n",
        "\n",
        "Input: mat = [[1,2],[3,4]], r = 2, c = 4\n",
        "Output: [[1,2],[3,4]]\n",
        " \n",
        "\n",
        "Constraints:\n",
        "\n",
        "m == mat.length\n",
        "n == mat[i].length\n",
        "1 <= m, n <= 100\n",
        "-1000 <= mat[i][j] <= 1000\n",
        "1 <= r, c <= 300\n",
        "\"\"\""
      ],
      "metadata": {
        "id": "yHQjE4ijxCI6"
      },
      "execution_count": null,
      "outputs": []
    },
    {
      "cell_type": "code",
      "source": [
        "\"\"\"\n",
        "Runtime: 140 ms, faster than 18.17% of Python online submissions for Reshape the Matrix.\n",
        "Memory Usage: 14.2 MB, less than 48.05% of Python online submissions for Reshape the Matrix.\n",
        "\"\"\"\n",
        "\n",
        "def matrixReshape(mat, r, c):\n",
        "    if (len(mat) == r and len(mat[0]) == c) or (len(mat) * len(mat[0]) != r * c):\n",
        "        return mat\n",
        "    \n",
        "    res = []\n",
        "    temp = []\n",
        "    for i in range(len(mat)):\n",
        "        for j in range(len(mat[0])):\n",
        "            temp.append(mat[i][j])\n",
        "            if len(temp) == c:\n",
        "                res.append(temp)\n",
        "                temp = []\n",
        "    return res\n",
        "\n",
        "\n",
        "matrixReshape([[1,2],[3,4]], 1, 4)"
      ],
      "metadata": {
        "colab": {
          "base_uri": "https://localhost:8080/"
        },
        "id": "CLGpXJY-xZFn",
        "outputId": "449bbf29-ebfe-481e-a50c-0734bbc6f72c"
      },
      "execution_count": null,
      "outputs": [
        {
          "output_type": "execute_result",
          "data": {
            "text/plain": [
              "[[1, 2, 3, 4]]"
            ]
          },
          "metadata": {},
          "execution_count": 3
        }
      ]
    },
    {
      "cell_type": "markdown",
      "source": [
        "##Day 8: String"
      ],
      "metadata": {
        "id": "UncPkDztSZc8"
      }
    },
    {
      "cell_type": "markdown",
      "source": [
        "####1768. Merge Strings Alternately"
      ],
      "metadata": {
        "id": "NRFJv-ewSgDW"
      }
    },
    {
      "cell_type": "code",
      "source": [
        "\"\"\"\n",
        "1768. Merge Strings Alternately\n",
        "Easy\n",
        "\n",
        "724\n",
        "\n",
        "14\n",
        "\n",
        "Add to List\n",
        "\n",
        "Share\n",
        "You are given two strings word1 and word2. Merge the strings by adding letters in alternating order, starting with word1. If a string is longer than the other, append the additional letters onto the end of the merged string.\n",
        "\n",
        "Return the merged string.\n",
        "\n",
        " \n",
        "\n",
        "Example 1:\n",
        "\n",
        "Input: word1 = \"abc\", word2 = \"pqr\"\n",
        "Output: \"apbqcr\"\n",
        "Explanation: The merged string will be merged as so:\n",
        "word1:  a   b   c\n",
        "word2:    p   q   r\n",
        "merged: a p b q c r\n",
        "Example 2:\n",
        "\n",
        "Input: word1 = \"ab\", word2 = \"pqrs\"\n",
        "Output: \"apbqrs\"\n",
        "Explanation: Notice that as word2 is longer, \"rs\" is appended to the end.\n",
        "word1:  a   b \n",
        "word2:    p   q   r   s\n",
        "merged: a p b q   r   s\n",
        "Example 3:\n",
        "\n",
        "Input: word1 = \"abcd\", word2 = \"pq\"\n",
        "Output: \"apbqcd\"\n",
        "Explanation: Notice that as word1 is longer, \"cd\" is appended to the end.\n",
        "word1:  a   b   c   d\n",
        "word2:    p   q \n",
        "merged: a p b q c   d\n",
        " \n",
        "\n",
        "Constraints:\n",
        "\n",
        "1 <= word1.length, word2.length <= 100\n",
        "word1 and word2 consist of lowercase English letters.\n",
        "\"\"\""
      ],
      "metadata": {
        "id": "a0VzAAbySUaX"
      },
      "execution_count": null,
      "outputs": []
    },
    {
      "cell_type": "code",
      "source": [
        "\"\"\"\n",
        "Runtime: 38 ms, faster than 15.66% of Python online submissions for Merge Strings Alternately.\n",
        "Memory Usage: 13.6 MB, less than 39.50% of Python online submissions for Merge Strings Alternately.\n",
        "\"\"\"\n",
        "\n",
        "def mergeAlternately(word1, word2):\n",
        "    if word1 == \"\":\n",
        "        return word2\n",
        "    if word2 == \"\":\n",
        "        return word1    \n",
        "    out = \"\"\n",
        "    for i in range(min(len(word1), len(word2))):\n",
        "        out += word1[i] + word2[i]\n",
        "    if word1[i+1: ] != []:\n",
        "        out += word1[i+1:]\n",
        "    if word2[i+1: ] != []:\n",
        "        out += word2[i+1:]\n",
        "    return out\n",
        "\n",
        "\n",
        "mergeAlternately(\"abcd\",\"pq\")"
      ],
      "metadata": {
        "colab": {
          "base_uri": "https://localhost:8080/",
          "height": 36
        },
        "id": "iupzCOHwSXeN",
        "outputId": "6b7eee33-ed11-4bb2-a292-2a7407633850"
      },
      "execution_count": null,
      "outputs": [
        {
          "output_type": "execute_result",
          "data": {
            "text/plain": [
              "'apbqcd'"
            ],
            "application/vnd.google.colaboratory.intrinsic+json": {
              "type": "string"
            }
          },
          "metadata": {},
          "execution_count": 2
        }
      ]
    },
    {
      "cell_type": "markdown",
      "source": [
        "####1678. Goal Parser Interpretation"
      ],
      "metadata": {
        "id": "di2eFSS2SqhR"
      }
    },
    {
      "cell_type": "code",
      "source": [
        "\"\"\"\n",
        "1678. Goal Parser Interpretation\n",
        "Easy\n",
        "\n",
        "906\n",
        "\n",
        "71\n",
        "\n",
        "Add to List\n",
        "\n",
        "Share\n",
        "You own a Goal Parser that can interpret a string command. The command consists of an alphabet of \"G\", \"()\" and/or \"(al)\" in some order. The Goal Parser will interpret \"G\" as the string \"G\", \"()\" as the string \"o\", and \"(al)\" as the string \"al\". The interpreted strings are then concatenated in the original order.\n",
        "\n",
        "Given the string command, return the Goal Parser's interpretation of command.\n",
        "\n",
        " \n",
        "\n",
        "Example 1:\n",
        "\n",
        "Input: command = \"G()(al)\"\n",
        "Output: \"Goal\"\n",
        "Explanation: The Goal Parser interprets the command as follows:\n",
        "G -> G\n",
        "() -> o\n",
        "(al) -> al\n",
        "The final concatenated result is \"Goal\".\n",
        "Example 2:\n",
        "\n",
        "Input: command = \"G()()()()(al)\"\n",
        "Output: \"Gooooal\"\n",
        "Example 3:\n",
        "\n",
        "Input: command = \"(al)G(al)()()G\"\n",
        "Output: \"alGalooG\"\n",
        " \n",
        "\n",
        "Constraints:\n",
        "\n",
        "1 <= command.length <= 100\n",
        "command consists of \"G\", \"()\", and/or \"(al)\" in some order.\n",
        "\"\"\""
      ],
      "metadata": {
        "id": "oY-Ma_UnSpiF"
      },
      "execution_count": null,
      "outputs": []
    },
    {
      "cell_type": "code",
      "source": [
        "\"\"\"\n",
        "Runtime: 42 ms, faster than 5.42% of Python online submissions for Goal Parser Interpretation.\n",
        "Memory Usage: 13.6 MB, less than 6.99% of Python online submissions for Goal Parser Interpretation.\n",
        "\"\"\"\n",
        "\n",
        "def interpret(command):\n",
        "    out = \"\"\n",
        "    i = 0\n",
        "    while command[i: ] != \"\":\n",
        "        if command[i] == \"G\":\n",
        "            out += \"G\"\n",
        "            i += 1\n",
        "        elif command[i] == \"(\" and command[i+1] == \")\":\n",
        "            out += \"o\"\n",
        "            i += 2\n",
        "        else:\n",
        "            out += \"al\"\n",
        "            i+= 4\n",
        "    return out\n",
        "\n",
        "\n",
        "interpret(\"(al)G(al)()()G\")   "
      ],
      "metadata": {
        "colab": {
          "base_uri": "https://localhost:8080/",
          "height": 36
        },
        "id": "xEW0wHNzap_z",
        "outputId": "df973c24-66ef-4691-9bd6-8443cad7ffa2"
      },
      "execution_count": null,
      "outputs": [
        {
          "output_type": "execute_result",
          "data": {
            "text/plain": [
              "'alGalooG'"
            ],
            "application/vnd.google.colaboratory.intrinsic+json": {
              "type": "string"
            }
          },
          "metadata": {},
          "execution_count": 5
        }
      ]
    },
    {
      "cell_type": "markdown",
      "source": [
        "####389. Find the Difference"
      ],
      "metadata": {
        "id": "f8tS-YMOmKi5"
      }
    },
    {
      "cell_type": "code",
      "source": [
        "\"\"\"\n",
        "389. Find the Difference\n",
        "Easy\n",
        "\n",
        "3146\n",
        "\n",
        "397\n",
        "\n",
        "Add to List\n",
        "\n",
        "Share\n",
        "You are given two strings s and t.\n",
        "\n",
        "String t is generated by random shuffling string s and then add one more letter at a random position.\n",
        "\n",
        "Return the letter that was added to t.\n",
        "\n",
        " \n",
        "\n",
        "Example 1:\n",
        "\n",
        "Input: s = \"abcd\", t = \"abcde\"\n",
        "Output: \"e\"\n",
        "Explanation: 'e' is the letter that was added.\n",
        "Example 2:\n",
        "\n",
        "Input: s = \"\", t = \"y\"\n",
        "Output: \"y\"\n",
        " \n",
        "\n",
        "Constraints:\n",
        "\n",
        "0 <= s.length <= 1000\n",
        "t.length == s.length + 1\n",
        "s and t consist of lowercase English letters.\n",
        "\"\"\""
      ],
      "metadata": {
        "id": "uBFvQTg4avC3"
      },
      "execution_count": null,
      "outputs": []
    },
    {
      "cell_type": "code",
      "source": [
        "# by the use of library\n",
        "\n",
        "\"\"\"\n",
        "Runtime: 79 ms, faster than 5.37% of Python online submissions for Find the Difference.\n",
        "Memory Usage: 13.4 MB, less than 70.73% of Python online submissions for Find the Difference.\n",
        "\"\"\"\n",
        "import re\n",
        "\n",
        "def findTheDifference(s, t):\n",
        "    t = re.findall('[a-zA-Z]', t)\n",
        "    for char in s:\n",
        "        t.remove(char)\n",
        "    return t[0]\n",
        "\n",
        "\n",
        "findTheDifference(\"abcd\", \"abcde\")"
      ],
      "metadata": {
        "colab": {
          "base_uri": "https://localhost:8080/",
          "height": 36
        },
        "id": "xMw59oVMmQw6",
        "outputId": "8926b9c4-2970-46a3-9f84-938e0ffd9ad5"
      },
      "execution_count": null,
      "outputs": [
        {
          "output_type": "execute_result",
          "data": {
            "text/plain": [
              "'e'"
            ],
            "application/vnd.google.colaboratory.intrinsic+json": {
              "type": "string"
            }
          },
          "metadata": {},
          "execution_count": 11
        }
      ]
    },
    {
      "cell_type": "code",
      "source": [
        "# without the use of library\n",
        "# need to search a better way to solve this\n",
        "\n",
        "\"\"\"\n",
        "Runtime: 109 ms, faster than 5.12% of Python online submissions for Find the Difference.\n",
        "Memory Usage: 13.7 MB, less than 18.54% of Python online submissions for Find the Difference.\n",
        "\"\"\"\n",
        "\n",
        "def findTheDifference(s, t):\n",
        "    temp = []\n",
        "    for char in t:\n",
        "      temp.append(char)\n",
        "    print(temp)\n",
        "    for char in s:\n",
        "        temp.remove(char)\n",
        "    return temp[0]\n",
        "\n",
        "\n",
        "findTheDifference(\"abcd\", \"abcde\")"
      ],
      "metadata": {
        "colab": {
          "base_uri": "https://localhost:8080/",
          "height": 55
        },
        "id": "j0AbsyZRnf9d",
        "outputId": "17b0e526-d3e8-4354-cebf-143c223a8e14"
      },
      "execution_count": null,
      "outputs": [
        {
          "output_type": "stream",
          "name": "stdout",
          "text": [
            "['a', 'b', 'c', 'd', 'e']\n"
          ]
        },
        {
          "output_type": "execute_result",
          "data": {
            "text/plain": [
              "'e'"
            ],
            "application/vnd.google.colaboratory.intrinsic+json": {
              "type": "string"
            }
          },
          "metadata": {},
          "execution_count": 21
        }
      ]
    },
    {
      "cell_type": "markdown",
      "source": [
        "##Day 9: String"
      ],
      "metadata": {
        "id": "pBM8XJXUqULz"
      }
    },
    {
      "cell_type": "markdown",
      "source": [
        "####709. To Lower Case"
      ],
      "metadata": {
        "id": "Z6Lb458PqYrD"
      }
    },
    {
      "cell_type": "code",
      "source": [
        "\"\"\"\n",
        "709. To Lower Case\n",
        "Easy\n",
        "\n",
        "1246\n",
        "\n",
        "2439\n",
        "\n",
        "Add to List\n",
        "\n",
        "Share\n",
        "Given a string s, return the string after replacing every uppercase letter with the same lowercase letter.\n",
        "\n",
        " \n",
        "\n",
        "Example 1:\n",
        "\n",
        "Input: s = \"Hello\"\n",
        "Output: \"hello\"\n",
        "Example 2:\n",
        "\n",
        "Input: s = \"here\"\n",
        "Output: \"here\"\n",
        "Example 3:\n",
        "\n",
        "Input: s = \"LOVELY\"\n",
        "Output: \"lovely\"\n",
        " \n",
        "\n",
        "Constraints:\n",
        "\n",
        "1 <= s.length <= 100\n",
        "s consists of printable ASCII characters.\n",
        "\"\"\""
      ],
      "metadata": {
        "id": "RdKUr_nRqXpV"
      },
      "execution_count": null,
      "outputs": []
    },
    {
      "cell_type": "code",
      "source": [
        "# can be solved without the use of lower()\n",
        "\n",
        "\"\"\"\n",
        "Runtime: 42 ms, faster than 5.63% of Python online submissions for To Lower Case.\n",
        "Memory Usage: 13.3 MB, less than 94.92% of Python online submissions for To Lower Case.\n",
        "\"\"\"\n",
        "\n",
        "def toLowerCase(s):\n",
        "    return s.lower()\n",
        "\n",
        "\n",
        "toLowerCase(\"Hello\")"
      ],
      "metadata": {
        "colab": {
          "base_uri": "https://localhost:8080/",
          "height": 36
        },
        "id": "WxY0scs2qh61",
        "outputId": "dd3c6e82-a403-477d-de68-c1ea734d6d0a"
      },
      "execution_count": null,
      "outputs": [
        {
          "output_type": "execute_result",
          "data": {
            "text/plain": [
              "'hello'"
            ],
            "application/vnd.google.colaboratory.intrinsic+json": {
              "type": "string"
            }
          },
          "metadata": {},
          "execution_count": 1
        }
      ]
    },
    {
      "cell_type": "markdown",
      "source": [
        "####1309. Decrypt String from Alphabet to Integer Mapping"
      ],
      "metadata": {
        "id": "etNeZiou1Xn_"
      }
    },
    {
      "cell_type": "code",
      "source": [
        "\"\"\"\n",
        "1309. Decrypt String from Alphabet to Integer Mapping\n",
        "Easy\n",
        "\n",
        "1128\n",
        "\n",
        "83\n",
        "\n",
        "Add to List\n",
        "\n",
        "Share\n",
        "You are given a string s formed by digits and '#'. We want to map s to English lowercase characters as follows:\n",
        "\n",
        "Characters ('a' to 'i') are represented by ('1' to '9') respectively.\n",
        "Characters ('j' to 'z') are represented by ('10#' to '26#') respectively.\n",
        "Return the string formed after mapping.\n",
        "\n",
        "The test cases are generated so that a unique mapping will always exist.\n",
        "\n",
        " \n",
        "\n",
        "Example 1:\n",
        "\n",
        "Input: s = \"10#11#12\"\n",
        "Output: \"jkab\"\n",
        "Explanation: \"j\" -> \"10#\" , \"k\" -> \"11#\" , \"a\" -> \"1\" , \"b\" -> \"2\".\n",
        "Example 2:\n",
        "\n",
        "Input: s = \"1326#\"\n",
        "Output: \"acz\"\n",
        " \n",
        "\n",
        "Constraints:\n",
        "\n",
        "1 <= s.length <= 1000\n",
        "s consists of digits and the '#' letter.\n",
        "s will be a valid string such that mapping is always possible.\n",
        "\"\"\""
      ],
      "metadata": {
        "id": "UNhwFMkR1t2Z"
      },
      "execution_count": null,
      "outputs": []
    },
    {
      "cell_type": "code",
      "source": [
        "# code can be improved\n",
        "\n",
        "\"\"\"\n",
        "Runtime: 39 ms, faster than 17.02% of Python online submissions for Decrypt String from Alphabet to Integer Mapping.\n",
        "Memory Usage: 13.6 MB, less than 50.00% of Python online submissions for Decrypt String from Alphabet to Integer Mapping.\n",
        "\"\"\"\n",
        "\n",
        "\n",
        "def freqAlphabets(s):\n",
        "    d = {'1':\"a\", '2':\"b\", '3':\"c\", '4':\"d\", '5':\"e\", '6':\"f\", '7':\"g\", '8':\"h\", '9':\"i\", '10':\"j\", '11':\"k\", '12':\"l\", '13':\"m\", '14':\"n\", '15':\"o\", '16':\"p\", '17':\"q\", '18':\"r\", '19':\"s\", '20':\"t\", '21':\"u\", '22':\"v\", '23':\"w\", '24':\"x\", '25':\"y\", '26':\"z\"}\n",
        "    \n",
        "    ss = \"\"\n",
        "    i = 0\n",
        "    \n",
        "    while i < len(s):\n",
        "        if s[i+2:]:\n",
        "            if s[i+2] == \"#\":\n",
        "                ss += d[s[i:i+2]]\n",
        "                i += 3   \n",
        "            else:\n",
        "                ss += d[s[i]]\n",
        "                i += 1\n",
        "        else:\n",
        "            ss += d[s[i]]\n",
        "            i += 1\n",
        "    return ss\n",
        "\n",
        "\n",
        "freqAlphabets(\"1326#\")"
      ],
      "metadata": {
        "colab": {
          "base_uri": "https://localhost:8080/",
          "height": 36
        },
        "id": "oJqWprG8uLL0",
        "outputId": "f953357b-a7a7-48ae-a814-de7896f144be"
      },
      "execution_count": null,
      "outputs": [
        {
          "output_type": "execute_result",
          "data": {
            "text/plain": [
              "'acz'"
            ],
            "application/vnd.google.colaboratory.intrinsic+json": {
              "type": "string"
            }
          },
          "metadata": {},
          "execution_count": 4
        }
      ]
    },
    {
      "cell_type": "markdown",
      "source": [
        "####953. Verifying an Alien Dictionary"
      ],
      "metadata": {
        "id": "IzfE643v3HwW"
      }
    },
    {
      "cell_type": "code",
      "source": [
        "\"\"\"\n",
        "953. Verifying an Alien Dictionary\n",
        "Easy\n",
        "\n",
        "3059\n",
        "\n",
        "982\n",
        "\n",
        "Add to List\n",
        "\n",
        "Share\n",
        "In an alien language, surprisingly, they also use English lowercase letters, but possibly in a different order. The order of the alphabet is some permutation of lowercase letters.\n",
        "\n",
        "Given a sequence of words written in the alien language, and the order of the alphabet, return true if and only if the given words are sorted lexicographically in this alien language.\n",
        "\n",
        " \n",
        "\n",
        "Example 1:\n",
        "\n",
        "Input: words = [\"hello\",\"leetcode\"], order = \"hlabcdefgijkmnopqrstuvwxyz\"\n",
        "Output: true\n",
        "Explanation: As 'h' comes before 'l' in this language, then the sequence is sorted.\n",
        "Example 2:\n",
        "\n",
        "Input: words = [\"word\",\"world\",\"row\"], order = \"worldabcefghijkmnpqstuvxyz\"\n",
        "Output: false\n",
        "Explanation: As 'd' comes after 'l' in this language, then words[0] > words[1], hence the sequence is unsorted.\n",
        "Example 3:\n",
        "\n",
        "Input: words = [\"apple\",\"app\"], order = \"abcdefghijklmnopqrstuvwxyz\"\n",
        "Output: false\n",
        "Explanation: The first three characters \"app\" match, and the second string is shorter (in size.) According to lexicographical rules \"apple\" > \"app\", because 'l' > '∅', where '∅' is defined as the blank character which is less than any other character (More info).\n",
        " \n",
        "\n",
        "Constraints:\n",
        "\n",
        "1 <= words.length <= 100\n",
        "1 <= words[i].length <= 20\n",
        "order.length == 26\n",
        "All characters in words[i] and order are English lowercase letters.\n",
        "\"\"\""
      ],
      "metadata": {
        "id": "k7lCM59B3Iq6"
      },
      "execution_count": null,
      "outputs": []
    },
    {
      "cell_type": "code",
      "source": [
        "# needs revision\n",
        "# code link: https://dev.to/seanpgallivan/solution-verifying-an-alien-dictionary-76f\n",
        "\n",
        "\"\"\"\n",
        "Runtime: 37 ms, faster than 40.57% of Python online submissions for Verifying an Alien Dictionary.\n",
        "Memory Usage: 13.4 MB, less than 94.97% of Python online submissions for Verifying an Alien Dictionary.\n",
        "\"\"\"\n",
        "\n",
        "def isAlienSorted(words, order):\n",
        "    alpha = {order[i]: i for i in range(len(order))}\n",
        "    for i in range(1,len(words)):\n",
        "        a, b = words[i-1], words[i]\n",
        "        for j in range(len(a)):\n",
        "            if j == len(b): return False\n",
        "            achar, bchar = a[j], b[j]\n",
        "            aix, bix = alpha[achar], alpha[bchar]\n",
        "            if aix < bix: break\n",
        "            if aix > bix: return False\n",
        "    return True\n",
        "\n",
        "\n",
        "isAlienSorted([\"word\",\"world\",\"row\"], \"worldabcefghijkmnpqstuvxyz\")"
      ],
      "metadata": {
        "colab": {
          "base_uri": "https://localhost:8080/"
        },
        "id": "9pS_EmeS3Nru",
        "outputId": "365fc0ec-6874-442d-e347-bc76187fa827"
      },
      "execution_count": null,
      "outputs": [
        {
          "output_type": "execute_result",
          "data": {
            "text/plain": [
              "False"
            ]
          },
          "metadata": {},
          "execution_count": 5
        }
      ]
    },
    {
      "cell_type": "markdown",
      "source": [
        "##Day 10: Linked List & Tree"
      ],
      "metadata": {
        "id": "j5QK010vjNIA"
      }
    },
    {
      "cell_type": "markdown",
      "source": [
        "####1290. Convert Binary Number in a Linked List to Integer"
      ],
      "metadata": {
        "id": "NGwcyNV8jVax"
      }
    },
    {
      "cell_type": "code",
      "source": [
        "\"\"\"\n",
        "1290. Convert Binary Number in a Linked List to Integer\n",
        "Easy\n",
        "\n",
        "3008\n",
        "\n",
        "137\n",
        "\n",
        "Add to List\n",
        "\n",
        "Share\n",
        "Given head which is a reference node to a singly-linked list. The value of each node in the linked list is either 0 or 1. The linked list holds the binary representation of a number.\n",
        "\n",
        "Return the decimal value of the number in the linked list.\n",
        "\n",
        "The most significant bit is at the head of the linked list.\n",
        "\n",
        " \n",
        "\n",
        "Example 1:\n",
        "\n",
        "\n",
        "Input: head = [1,0,1]\n",
        "Output: 5\n",
        "Explanation: (101) in base 2 = (5) in base 10\n",
        "Example 2:\n",
        "\n",
        "Input: head = [0]\n",
        "Output: 0\n",
        " \n",
        "\n",
        "Constraints:\n",
        "\n",
        "The Linked List is not empty.\n",
        "Number of nodes will not exceed 30.\n",
        "Each node's value is either 0 or 1.\n",
        "\"\"\""
      ],
      "metadata": {
        "id": "f_QJr18FjUYL"
      },
      "execution_count": null,
      "outputs": []
    },
    {
      "cell_type": "code",
      "source": [
        "# needs revision\n",
        "# code link: https://walkccc.me/LeetCode/problems/1290/\n",
        "\n",
        "\"\"\"\n",
        "Runtime: 19 ms, faster than 86.02% of Python online submissions for Convert Binary Number in a Linked List to Integer.\n",
        "Memory Usage: 13.4 MB, less than 37.86% of Python online submissions for Convert Binary Number in a Linked List to Integer.\n",
        "\"\"\"\n",
        "\n",
        "# Definition for singly-linked list.\n",
        "# class ListNode(object):\n",
        "#     def __init__(self, val=0, next=None):\n",
        "#         self.val = val\n",
        "#         self.next = next\n",
        "class Solution(object):\n",
        "    def getDecimalValue(self, head):\n",
        "        ans = 0\n",
        "        while head:\n",
        "          ans = ans * 2 + head.val\n",
        "          head = head.next\n",
        "        return ans"
      ],
      "metadata": {
        "id": "HNRLZDjhQtst"
      },
      "execution_count": null,
      "outputs": []
    },
    {
      "cell_type": "markdown",
      "source": [
        "####876. Middle of the Linked List"
      ],
      "metadata": {
        "id": "xSOnRiSORQ8B"
      }
    },
    {
      "cell_type": "code",
      "source": [
        "\"\"\"\n",
        "876. Middle of the Linked List\n",
        "Easy\n",
        "\n",
        "6856\n",
        "\n",
        "184\n",
        "\n",
        "Add to List\n",
        "\n",
        "Share\n",
        "Given the head of a singly linked list, return the middle node of the linked list.\n",
        "\n",
        "If there are two middle nodes, return the second middle node.\n",
        "\n",
        " \n",
        "\n",
        "Example 1:\n",
        "\n",
        "\n",
        "Input: head = [1,2,3,4,5]\n",
        "Output: [3,4,5]\n",
        "Explanation: The middle node of the list is node 3.\n",
        "Example 2:\n",
        "\n",
        "\n",
        "Input: head = [1,2,3,4,5,6]\n",
        "Output: [4,5,6]\n",
        "Explanation: Since the list has two middle nodes with values 3 and 4, we return the second one.\n",
        " \n",
        "\n",
        "Constraints:\n",
        "\n",
        "The number of nodes in the list is in the range [1, 100].\n",
        "1 <= Node.val <= 100\n",
        "\"\"\""
      ],
      "metadata": {
        "id": "SKK3WWyxRRcT"
      },
      "execution_count": null,
      "outputs": []
    },
    {
      "cell_type": "code",
      "source": [
        "\"\"\"\n",
        "Runtime: 47 ms, faster than 5.26% of Python online submissions for Middle of the Linked List.\n",
        "Memory Usage: 13.7 MB, less than 8.33% of Python online submissions for Middle of the Linked List.\n",
        "\"\"\"\n",
        "\n",
        "\n",
        "# Definition for singly-linked list.\n",
        "# class ListNode(object):\n",
        "#     def __init__(self, val=0, next=None):\n",
        "#         self.val = val\n",
        "#         self.next = next\n",
        "class Solution(object):\n",
        "    def middleNode(self, head):\n",
        "        temp1 = head\n",
        "        temp2 = head\n",
        "        \n",
        "        while temp2 != None and temp2.next != None:\n",
        "            temp1 = temp1.next\n",
        "            temp2 = temp2.next\n",
        "            temp2 = temp2.next\n",
        "        \n",
        "        return temp1"
      ],
      "metadata": {
        "id": "FZtsei3ARR9H"
      },
      "execution_count": null,
      "outputs": []
    },
    {
      "cell_type": "markdown",
      "source": [
        "####104. Maximum Depth of Binary Tree"
      ],
      "metadata": {
        "id": "V4V3ichhSFMr"
      }
    },
    {
      "cell_type": "code",
      "source": [
        "\"\"\"\n",
        "104. Maximum Depth of Binary Tree\n",
        "Easy\n",
        "\n",
        "8343\n",
        "\n",
        "138\n",
        "\n",
        "Add to List\n",
        "\n",
        "Share\n",
        "Given the root of a binary tree, return its maximum depth.\n",
        "\n",
        "A binary tree's maximum depth is the number of nodes along the longest path from the root node down to the farthest leaf node.\n",
        "\n",
        " \n",
        "\n",
        "Example 1:\n",
        "\n",
        "\n",
        "Input: root = [3,9,20,null,null,15,7]\n",
        "Output: 3\n",
        "Example 2:\n",
        "\n",
        "Input: root = [1,null,2]\n",
        "Output: 2\n",
        " \n",
        "\n",
        "Constraints:\n",
        "\n",
        "The number of nodes in the tree is in the range [0, 104].\n",
        "-100 <= Node.val <= 100\n",
        "\"\"\""
      ],
      "metadata": {
        "id": "mFK0PZwzSFn-"
      },
      "execution_count": null,
      "outputs": []
    },
    {
      "cell_type": "code",
      "source": [
        "# needs revision\n",
        "# code link: https://zhenyu0519.github.io/2020/03/07/lc104/ \n",
        "\n",
        "\"\"\"\n",
        "Runtime: 57 ms, faster than 14.38% of Python online submissions for Maximum Depth of Binary Tree.\n",
        "Memory Usage: 15.9 MB, less than 88.29% of Python online submissions for Maximum Depth of Binary Tree.\n",
        "\"\"\"\n",
        "\n",
        "# Definition for a binary tree node.\n",
        "# class TreeNode(object):\n",
        "#     def __init__(self, val=0, left=None, right=None):\n",
        "#         self.val = val\n",
        "#         self.left = left\n",
        "#         self.right = right\n",
        "class Solution(object):\n",
        "    def maxDepth(self, root):\n",
        "        if root is None:\n",
        "            return 0\n",
        "        return max(self.maxDepth(root.left), self.maxDepth(root.right)) + 1"
      ],
      "metadata": {
        "id": "Dcz1s1KISGFf"
      },
      "execution_count": null,
      "outputs": []
    },
    {
      "cell_type": "markdown",
      "source": [
        "####404. Sum of Left Leaves"
      ],
      "metadata": {
        "id": "_S_ZVGqMSmqk"
      }
    },
    {
      "cell_type": "code",
      "source": [
        "\"\"\"\n",
        "404. Sum of Left Leaves\n",
        "Easy\n",
        "\n",
        "3792\n",
        "\n",
        "259\n",
        "\n",
        "Add to List\n",
        "\n",
        "Share\n",
        "Given the root of a binary tree, return the sum of all left leaves.\n",
        "\n",
        "A leaf is a node with no children. A left leaf is a leaf that is the left child of another node.\n",
        "\n",
        " \n",
        "\n",
        "Example 1:\n",
        "\n",
        "\n",
        "Input: root = [3,9,20,null,null,15,7]\n",
        "Output: 24\n",
        "Explanation: There are two left leaves in the binary tree, with values 9 and 15 respectively.\n",
        "Example 2:\n",
        "\n",
        "Input: root = [1]\n",
        "Output: 0\n",
        " \n",
        "\n",
        "Constraints:\n",
        "\n",
        "The number of nodes in the tree is in the range [1, 1000].\n",
        "-1000 <= Node.val <= 1000\n",
        "\"\"\""
      ],
      "metadata": {
        "id": "2vSLUvD9SnMb"
      },
      "execution_count": null,
      "outputs": []
    },
    {
      "cell_type": "code",
      "source": [
        "# needs revision \n",
        "# code link: https://www.goodtecher.com/leetcode-404-sum-of-left-leaves/\n",
        "\n",
        "\"\"\"\n",
        "Runtime: 27 ms, faster than 69.75% of Python online submissions for Sum of Left Leaves.\n",
        "Memory Usage: 14.2 MB, less than 40.17% of Python online submissions for Sum of Left Leaves.\n",
        "\"\"\"\n",
        "\n",
        "# Definition for a binary tree node.\n",
        "# class TreeNode(object):\n",
        "#     def __init__(self, val=0, left=None, right=None):\n",
        "#         self.val = val\n",
        "#         self.left = left\n",
        "#         self.right = right\n",
        "class Solution(object):\n",
        "    def sumOfLeftLeaves(self, root):\n",
        "        self.sum_left = 0\n",
        "        \n",
        "        self.traverse(root, False)\n",
        "        \n",
        "        return self.sum_left\n",
        "        \n",
        "        \n",
        "    def traverse(self, root, is_left):\n",
        "        if not root:\n",
        "            return\n",
        "        \n",
        "        if is_left and not root.left and not root.right:\n",
        "            self.sum_left += root.val            \n",
        "        \n",
        "        self.traverse(root.left, True)\n",
        "        self.traverse(root.right, False)"
      ],
      "metadata": {
        "id": "dhiZVbmwSnpr"
      },
      "execution_count": null,
      "outputs": []
    },
    {
      "cell_type": "markdown",
      "source": [
        "##Day 11: Containers and Libraries"
      ],
      "metadata": {
        "id": "eSUsQOhdp36A"
      }
    },
    {
      "cell_type": "markdown",
      "source": [
        "####1356. Sort Integers by The Number of 1 Bits"
      ],
      "metadata": {
        "id": "BJ7FK0Tip3gs"
      }
    },
    {
      "cell_type": "code",
      "source": [
        "\"\"\"\n",
        "1356. Sort Integers by The Number of 1 Bits\n",
        "Easy\n",
        "\n",
        "1242\n",
        "\n",
        "53\n",
        "\n",
        "Add to List\n",
        "\n",
        "Share\n",
        "You are given an integer array arr. Sort the integers in the array in ascending order by the number of 1's in their binary representation and in case of two or more integers have the same number of 1's you have to sort them in ascending order.\n",
        "\n",
        "Return the array after sorting it.\n",
        "\n",
        " \n",
        "\n",
        "Example 1:\n",
        "\n",
        "Input: arr = [0,1,2,3,4,5,6,7,8]\n",
        "Output: [0,1,2,4,8,3,5,6,7]\n",
        "Explantion: [0] is the only integer with 0 bits.\n",
        "[1,2,4,8] all have 1 bit.\n",
        "[3,5,6] have 2 bits.\n",
        "[7] has 3 bits.\n",
        "The sorted array by bits is [0,1,2,4,8,3,5,6,7]\n",
        "Example 2:\n",
        "\n",
        "Input: arr = [1024,512,256,128,64,32,16,8,4,2,1]\n",
        "Output: [1,2,4,8,16,32,64,128,256,512,1024]\n",
        "Explantion: All integers have 1 bit in the binary representation, you should just sort them in ascending order.\n",
        " \n",
        "\n",
        "Constraints:\n",
        "\n",
        "1 <= arr.length <= 500\n",
        "0 <= arr[i] <= 104\n",
        "\"\"\""
      ],
      "metadata": {
        "id": "IWkDvQJnp3Dj"
      },
      "execution_count": null,
      "outputs": []
    },
    {
      "cell_type": "code",
      "source": [
        "# needs revision\n",
        "# code link: https://donic0211.medium.com/leetcode-1356-sort-integers-by-the-number-of-1-bits-f7dd132e128b\n",
        "\"\"\"\n",
        "Runtime: 108 ms, faster than 31.89% of Python online submissions for Sort Integers by The Number of 1 Bits.\n",
        "Memory Usage: 13.6 MB, less than 65.63% of Python online submissions for Sort Integers by The Number of 1 Bits.\n",
        "\"\"\"\n",
        "\n",
        "def sortByBits(arr):\n",
        "    li = []\n",
        "    for i in sorted(arr):\n",
        "        li.append((i, bin(i).count('1')))\n",
        "    \n",
        "    Out = []\n",
        "    for i in sorted(li, key = lambda x: x[1]):\n",
        "        Out.append(i[0])\n",
        "        \n",
        "    return Out\n",
        "\n",
        "sortByBits([0,1,2,3,4,5,6,7,8])"
      ],
      "metadata": {
        "colab": {
          "base_uri": "https://localhost:8080/"
        },
        "id": "oFYl6GLZr2I-",
        "outputId": "5cfcfe5f-e296-4748-cf4e-e0483c10674a"
      },
      "execution_count": null,
      "outputs": [
        {
          "output_type": "execute_result",
          "data": {
            "text/plain": [
              "[0, 1, 2, 4, 8, 3, 5, 6, 7]"
            ]
          },
          "metadata": {},
          "execution_count": 7
        }
      ]
    },
    {
      "cell_type": "markdown",
      "source": [
        "####232. Implement Queue using Stacks"
      ],
      "metadata": {
        "id": "bZWpBR5iWoB6"
      }
    },
    {
      "cell_type": "code",
      "source": [
        "\"\"\"\n",
        "232. Implement Queue using Stacks\n",
        "Easy\n",
        "\n",
        "4242\n",
        "\n",
        "274\n",
        "\n",
        "Add to List\n",
        "\n",
        "Share\n",
        "Implement a first in first out (FIFO) queue using only two stacks. The implemented queue should support all the functions of a normal queue (push, peek, pop, and empty).\n",
        "\n",
        "Implement the MyQueue class:\n",
        "\n",
        "void push(int x) Pushes element x to the back of the queue.\n",
        "int pop() Removes the element from the front of the queue and returns it.\n",
        "int peek() Returns the element at the front of the queue.\n",
        "boolean empty() Returns true if the queue is empty, false otherwise.\n",
        "Notes:\n",
        "\n",
        "You must use only standard operations of a stack, which means only push to top, peek/pop from top, size, and is empty operations are valid.\n",
        "Depending on your language, the stack may not be supported natively. You may simulate a stack using a list or deque (double-ended queue) as long as you use only a stack's standard operations.\n",
        " \n",
        "\n",
        "Example 1:\n",
        "\n",
        "Input\n",
        "[\"MyQueue\", \"push\", \"push\", \"peek\", \"pop\", \"empty\"]\n",
        "[[], [1], [2], [], [], []]\n",
        "Output\n",
        "[null, null, null, 1, 1, false]\n",
        "\n",
        "Explanation\n",
        "MyQueue myQueue = new MyQueue();\n",
        "myQueue.push(1); // queue is: [1]\n",
        "myQueue.push(2); // queue is: [1, 2] (leftmost is front of the queue)\n",
        "myQueue.peek(); // return 1\n",
        "myQueue.pop(); // return 1, queue is [2]\n",
        "myQueue.empty(); // return false\n",
        " \n",
        "\n",
        "Constraints:\n",
        "\n",
        "1 <= x <= 9\n",
        "At most 100 calls will be made to push, pop, peek, and empty.\n",
        "All the calls to pop and peek are valid.\n",
        " \n",
        "\n",
        "Follow-up: Can you implement the queue such that each operation is amortized O(1) time complexity? In other words, performing n operations will take overall O(n) time even if one of those operations may take longer.\n",
        "\"\"\""
      ],
      "metadata": {
        "id": "WM512_ftr9bj"
      },
      "execution_count": null,
      "outputs": []
    },
    {
      "cell_type": "code",
      "source": [
        "# needs revision\n",
        "# code link: https://zhenyu0519.github.io/2020/06/08/lc232/\n",
        "\n",
        "\"\"\"\n",
        "Runtime: 22 ms, faster than 68.62% of Python online submissions for Implement Queue using Stacks.\n",
        "Memory Usage: 13.5 MB, less than 34.46% of Python online submissions for Implement Queue using Stacks.\n",
        "\"\"\"\n",
        "\n",
        "class MyQueue(object):\n",
        "\n",
        "    def __init__(self):\n",
        "\n",
        "        self.push_stack = []\n",
        "        self.pop_stack = []\n",
        "\n",
        "    def push(self, x):\n",
        "\n",
        "        self.push_stack.append(x)\n",
        "\n",
        "    def pop(self):\n",
        "\n",
        "        if self.empty(): return\n",
        "        if len(self.pop_stack):\n",
        "            return self.pop_stack.pop()\n",
        "        else:\n",
        "            while len(self.push_stack):\n",
        "                self.pop_stack.append(self.push_stack.pop())\n",
        "        return self.pop_stack.pop()\n",
        "\n",
        "    def peek(self):\n",
        "\n",
        "        if self.empty(): return\n",
        "        if len(self.pop_stack):\n",
        "            return self.pop_stack[-1]\n",
        "        else:\n",
        "            while len(self.push_stack):\n",
        "                self.pop_stack.append(self.push_stack.pop())\n",
        "        return self.pop_stack[-1]\n",
        "\n",
        "    def empty(self):\n",
        "\n",
        "        return len(self.push_stack)==False and len(self.pop_stack) == False"
      ],
      "metadata": {
        "id": "Cn7vwhUSWvfp"
      },
      "execution_count": null,
      "outputs": []
    },
    {
      "cell_type": "markdown",
      "source": [
        "####242. Valid Anagram"
      ],
      "metadata": {
        "id": "-jc_g6Y6YnYm"
      }
    },
    {
      "cell_type": "code",
      "source": [
        "\"\"\"\n",
        "242. Valid Anagram\n",
        "Easy\n",
        "\n",
        "6881\n",
        "\n",
        "238\n",
        "\n",
        "Add to List\n",
        "\n",
        "Share\n",
        "Given two strings s and t, return true if t is an anagram of s, and false otherwise.\n",
        "\n",
        "An Anagram is a word or phrase formed by rearranging the letters of a different word or phrase, typically using all the original letters exactly once.\n",
        "\n",
        " \n",
        "\n",
        "Example 1:\n",
        "\n",
        "Input: s = \"anagram\", t = \"nagaram\"\n",
        "Output: true\n",
        "Example 2:\n",
        "\n",
        "Input: s = \"rat\", t = \"car\"\n",
        "Output: false\n",
        " \n",
        "\n",
        "Constraints:\n",
        "\n",
        "1 <= s.length, t.length <= 5 * 104\n",
        "s and t consist of lowercase English letters.\n",
        " \n",
        "\n",
        "Follow up: What if the inputs contain Unicode characters? How would you adapt your solution to such a case?\n",
        "\"\"\""
      ],
      "metadata": {
        "id": "S9OhtCYhYoOd"
      },
      "execution_count": null,
      "outputs": []
    },
    {
      "cell_type": "code",
      "source": [
        "\"\"\"\n",
        "Runtime: 219 ms, faster than 7.46% of Python online submissions for Valid Anagram.\n",
        "Memory Usage: 13.8 MB, less than 78.31% of Python online submissions for Valid Anagram.\n",
        "\"\"\"\n",
        "\n",
        "def isAnagram(s, t):\n",
        "    \n",
        "    ds = {}\n",
        "    dt = {}\n",
        "    \n",
        "    for i in s:\n",
        "        if i not in ds.keys():\n",
        "            ds[i] = 0\n",
        "        ds[i] += 1\n",
        "        \n",
        "    for i in t:\n",
        "        if i not in dt.keys():\n",
        "            dt[i] = 0\n",
        "        dt[i] += 1\n",
        "        \n",
        "    if ds == dt:\n",
        "        return True\n",
        "    else:\n",
        "        return False\n",
        "\n",
        "\n",
        "isAnagram(\"rat\",\"car\")"
      ],
      "metadata": {
        "colab": {
          "base_uri": "https://localhost:8080/"
        },
        "id": "6UOfRjnaYvwb",
        "outputId": "a55ee6c1-1dc2-4b3b-a606-297e5b173a38"
      },
      "execution_count": null,
      "outputs": [
        {
          "output_type": "execute_result",
          "data": {
            "text/plain": [
              "False"
            ]
          },
          "metadata": {},
          "execution_count": 2
        }
      ]
    },
    {
      "cell_type": "markdown",
      "source": [
        "####217. Contains Duplicate"
      ],
      "metadata": {
        "id": "CtQZx7F5Z6Vp"
      }
    },
    {
      "cell_type": "code",
      "source": [
        "\"\"\"\n",
        "217. Contains Duplicate\n",
        "Easy\n",
        "\n",
        "6478\n",
        "\n",
        "1022\n",
        "\n",
        "Add to List\n",
        "\n",
        "Share\n",
        "Given an integer array nums, return true if any value appears at least twice in the array, and return false if every element is distinct.\n",
        "\n",
        " \n",
        "\n",
        "Example 1:\n",
        "\n",
        "Input: nums = [1,2,3,1]\n",
        "Output: true\n",
        "Example 2:\n",
        "\n",
        "Input: nums = [1,2,3,4]\n",
        "Output: false\n",
        "Example 3:\n",
        "\n",
        "Input: nums = [1,1,1,3,3,4,3,2,4,2]\n",
        "Output: true\n",
        " \n",
        "\n",
        "Constraints:\n",
        "\n",
        "1 <= nums.length <= 105\n",
        "-109 <= nums[i] <= 109\n",
        "\"\"\""
      ],
      "metadata": {
        "id": "01PEnwcCZ65N"
      },
      "execution_count": null,
      "outputs": []
    },
    {
      "cell_type": "code",
      "source": [
        "\"\"\"\n",
        "Runtime: 1223 ms, faster than 5.01% of Python online submissions for Contains Duplicate.\n",
        "Memory Usage: 23.7 MB, less than 84.78% of Python online submissions for Contains Duplicate.\n",
        "\"\"\"\n",
        "\n",
        "\n",
        "def containsDuplicate(nums):\n",
        "    nums_set_list = list(set(nums))\n",
        "    \n",
        "    if len(nums_set_list) == len(nums):\n",
        "        return False\n",
        "    else:\n",
        "        return True\n",
        "\n",
        "\n",
        "containsDuplicate([1,2,3,4])"
      ],
      "metadata": {
        "colab": {
          "base_uri": "https://localhost:8080/"
        },
        "id": "Wbeiy4JhY8qu",
        "outputId": "7815957e-036e-4ed0-ffaa-81e0b7b5f516"
      },
      "execution_count": null,
      "outputs": [
        {
          "output_type": "execute_result",
          "data": {
            "text/plain": [
              "False"
            ]
          },
          "metadata": {},
          "execution_count": 3
        }
      ]
    },
    {
      "cell_type": "markdown",
      "source": [
        "##Day 12: Class and Object"
      ],
      "metadata": {
        "id": "8ggSlIVQXoNE"
      }
    },
    {
      "cell_type": "markdown",
      "source": [
        "####1603. Design Parking System"
      ],
      "metadata": {
        "id": "Ip0hMfVaXpF8"
      }
    },
    {
      "cell_type": "code",
      "source": [
        "\"\"\"\n",
        "1603. Design Parking System\n",
        "Easy\n",
        "\n",
        "812\n",
        "\n",
        "314\n",
        "\n",
        "Add to List\n",
        "\n",
        "Share\n",
        "Design a parking system for a parking lot. The parking lot has three kinds of parking spaces: big, medium, and small, with a fixed number of slots for each size.\n",
        "\n",
        "Implement the ParkingSystem class:\n",
        "\n",
        "ParkingSystem(int big, int medium, int small) Initializes object of the ParkingSystem class. The number of slots for each parking space are given as part of the constructor.\n",
        "bool addCar(int carType) Checks whether there is a parking space of carType for the car that wants to get into the parking lot. carType can be of three kinds: big, medium, or small, which are represented by 1, 2, and 3 respectively. A car can only park in a parking space of its carType. If there is no space available, return false, else park the car in that size space and return true.\n",
        " \n",
        "\n",
        "Example 1:\n",
        "\n",
        "Input\n",
        "[\"ParkingSystem\", \"addCar\", \"addCar\", \"addCar\", \"addCar\"]\n",
        "[[1, 1, 0], [1], [2], [3], [1]]\n",
        "Output\n",
        "[null, true, true, false, false]\n",
        "\n",
        "Explanation\n",
        "ParkingSystem parkingSystem = new ParkingSystem(1, 1, 0);\n",
        "parkingSystem.addCar(1); // return true because there is 1 available slot for a big car\n",
        "parkingSystem.addCar(2); // return true because there is 1 available slot for a medium car\n",
        "parkingSystem.addCar(3); // return false because there is no available slot for a small car\n",
        "parkingSystem.addCar(1); // return false because there is no available slot for a big car. It is already occupied.\n",
        " \n",
        "\n",
        "Constraints:\n",
        "\n",
        "0 <= big, medium, small <= 1000\n",
        "carType is 1, 2, or 3\n",
        "At most 1000 calls will be made to addCar\n",
        "\"\"\""
      ],
      "metadata": {
        "id": "ORdezp3NXph4"
      },
      "execution_count": null,
      "outputs": []
    },
    {
      "cell_type": "code",
      "source": [
        "# needs revision\n",
        "#code link: https://www.youtube.com/watch?v=9-vsKo9UcmE\n",
        "\n",
        "\"\"\"\n",
        "Runtime: 113 ms, faster than 94.00% of Python online submissions for Design Parking System.\n",
        "Memory Usage: 14.1 MB, less than 13.13% of Python online submissions for Design Parking System.\n",
        "\"\"\"\n",
        "\n",
        "class ParkingSystem(object):\n",
        "\n",
        "\n",
        "    def __init__(self, big, medium, small):\n",
        "      self.lot={}\n",
        "      self.lot[1]=big\n",
        "      self.lot[2]=medium\n",
        "      self.lot[3]=small\n",
        "      \n",
        "\n",
        "    def addCar(self, carType):\n",
        "      if not self.lot.get(carType):\n",
        "        return False\n",
        "      elif self.lot.get(carType)>0:\n",
        "        self.lot[carType]-=1\n",
        "        return True\n",
        "\n",
        "\n",
        "# Your ParkingSystem object will be instantiated and called as such:\n",
        "# obj = ParkingSystem(big, medium, small)\n",
        "# param_1 = obj.addCar(carType)"
      ],
      "metadata": {
        "id": "xKe6DKGnXqKk"
      },
      "execution_count": null,
      "outputs": []
    },
    {
      "cell_type": "markdown",
      "source": [
        "####303. Range Sum Query - Immutable"
      ],
      "metadata": {
        "id": "WphF7sOXYgsW"
      }
    },
    {
      "cell_type": "code",
      "source": [
        "\"\"\"\n",
        "303. Range Sum Query - Immutable\n",
        "Easy\n",
        "\n",
        "2302\n",
        "\n",
        "1705\n",
        "\n",
        "Add to List\n",
        "\n",
        "Share\n",
        "Given an integer array nums, handle multiple queries of the following type:\n",
        "\n",
        "Calculate the sum of the elements of nums between indices left and right inclusive where left <= right.\n",
        "Implement the NumArray class:\n",
        "\n",
        "NumArray(int[] nums) Initializes the object with the integer array nums.\n",
        "int sumRange(int left, int right) Returns the sum of the elements of nums between indices left and right inclusive (i.e. nums[left] + nums[left + 1] + ... + nums[right]).\n",
        " \n",
        "\n",
        "Example 1:\n",
        "\n",
        "Input\n",
        "[\"NumArray\", \"sumRange\", \"sumRange\", \"sumRange\"]\n",
        "[[[-2, 0, 3, -5, 2, -1]], [0, 2], [2, 5], [0, 5]]\n",
        "Output\n",
        "[null, 1, -1, -3]\n",
        "\n",
        "Explanation\n",
        "NumArray numArray = new NumArray([-2, 0, 3, -5, 2, -1]);\n",
        "numArray.sumRange(0, 2); // return (-2) + 0 + 3 = 1\n",
        "numArray.sumRange(2, 5); // return 3 + (-5) + 2 + (-1) = -1\n",
        "numArray.sumRange(0, 5); // return (-2) + 0 + 3 + (-5) + 2 + (-1) = -3\n",
        " \n",
        "\n",
        "Constraints:\n",
        "\n",
        "1 <= nums.length <= 104\n",
        "-105 <= nums[i] <= 105\n",
        "0 <= left <= right < nums.length\n",
        "At most 104 calls will be made to sumRange.\n",
        "\"\"\""
      ],
      "metadata": {
        "id": "_MmBHyWVYhz6"
      },
      "execution_count": null,
      "outputs": []
    },
    {
      "cell_type": "code",
      "source": [
        "# needs revision\n",
        "# code link: https://programs.programmingoneonone.com/2021/09/leetcode-range-sum-query-immutable-problem-solution.html\n",
        "\n",
        "\"\"\"\n",
        "Runtime: 160 ms, faster than 52.41% of Python online submissions for Range Sum Query - Immutable.\n",
        "Memory Usage: 17.2 MB, less than 49.68% of Python online submissions for Range Sum Query - Immutable.\n",
        "\"\"\"\n",
        "\n",
        "class NumArray(object):\n",
        "\n",
        "    def __init__(self, nums):\n",
        "        self.lst = []\n",
        "        sum_ = 0\n",
        "        for i in nums:\n",
        "            sum_ += i\n",
        "            self.lst.append(sum_)\n",
        "        \n",
        "\n",
        "    def sumRange(self, left, right):\n",
        "        if left > 0 and right >0:\n",
        "            return self.lst[right] - self.lst[left-1]\n",
        "        else:\n",
        "            return self.lst[right]\n",
        "        \n",
        "\n",
        "\n",
        "# Your NumArray object will be instantiated and called as such:\n",
        "# obj = NumArray(nums)\n",
        "# param_1 = obj.sumRange(left,right)"
      ],
      "metadata": {
        "id": "PJ5_TrKpYiPv"
      },
      "execution_count": null,
      "outputs": []
    }
  ]
}