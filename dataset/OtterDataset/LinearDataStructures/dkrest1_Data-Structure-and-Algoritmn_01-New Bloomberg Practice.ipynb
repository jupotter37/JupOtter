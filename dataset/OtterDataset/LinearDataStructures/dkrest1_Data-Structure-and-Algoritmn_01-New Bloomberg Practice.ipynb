{
 "cells": [
  {
   "cell_type": "markdown",
   "metadata": {},
   "source": [
    "### 1. Subset"
   ]
  },
  {
   "cell_type": "markdown",
   "metadata": {},
   "source": [
    "### With duplicates"
   ]
  },
  {
   "cell_type": "code",
   "execution_count": 1,
   "metadata": {},
   "outputs": [
    {
     "name": "stdout",
     "output_type": "stream",
     "text": [
      "[[], [1], [1, 2], [1, 2, 3], [1, 3], [2], [2, 3], [3]]\n"
     ]
    }
   ],
   "source": [
    "def subsets(nums):\n",
    "    res = []\n",
    "    dfs(nums, 0, [], res)\n",
    "    return res\n",
    "\n",
    "def dfs(nums, index, path, res):\n",
    "    res.append(path)\n",
    "    for i in range(index, len(nums)):\n",
    "        dfs(nums, i+1, path+[nums[i]], res)\n",
    "\n",
    "print(subsets([1,2,3]))\n",
    "\n",
    "######"
   ]
  },
  {
   "cell_type": "markdown",
   "metadata": {},
   "source": [
    "### without duplicates"
   ]
  },
  {
   "cell_type": "code",
   "execution_count": 2,
   "metadata": {},
   "outputs": [
    {
     "name": "stdout",
     "output_type": "stream",
     "text": [
      "[[], [1], [1, 1], [1, 1, 3], [1, 3], [3]]\n"
     ]
    }
   ],
   "source": [
    "def subsets(nums):\n",
    "    res = []\n",
    "    nums.sort()\n",
    "    dfs(nums, 0, [], res)\n",
    "    return res\n",
    "\n",
    "def dfs(nums, index, path, res):\n",
    "    res.append(path)\n",
    "    for i in range(index, len(nums)):\n",
    "        if i > index and nums[i] == nums[i-1]:\n",
    "            continue\n",
    "        dfs(nums, i+1, path+[nums[i]], res)\n",
    "\n",
    "print(subsets([1,1,3]))"
   ]
  },
  {
   "cell_type": "markdown",
   "metadata": {},
   "source": [
    "### Iterative approach"
   ]
  },
  {
   "cell_type": "code",
   "execution_count": 3,
   "metadata": {},
   "outputs": [
    {
     "name": "stdout",
     "output_type": "stream",
     "text": [
      "[[], [1], [1], [1, 1], [3], [1, 3], [1, 3], [1, 1, 3]]\n"
     ]
    }
   ],
   "source": [
    "def subset(nums):\n",
    "    res = [[]]\n",
    "    for num in nums:\n",
    "        res += [cur+[num] for cur in res]\n",
    "    return res\n",
    "print(subset([1,1,3]))"
   ]
  },
  {
   "cell_type": "markdown",
   "metadata": {},
   "source": [
    "#### * Remember to solve it using bit manipulation and also check the complexity"
   ]
  },
  {
   "cell_type": "code",
   "execution_count": null,
   "metadata": {},
   "outputs": [],
   "source": []
  },
  {
   "cell_type": "markdown",
   "metadata": {},
   "source": [
    "### Longest Substring Without Repeating Character"
   ]
  },
  {
   "cell_type": "code",
   "execution_count": 4,
   "metadata": {},
   "outputs": [],
   "source": [
    "def longest(s):\n",
    "    res = start = 0\n",
    "    store = {}\n",
    "    for i, elem in enumerate(s):\n",
    "        if elem in store:\n",
    "            res = max(res, i-start)\n",
    "            start = max(start, store[elem]+1)\n",
    "        store[elem] = i\n",
    "    return max(res, len(s)-start)"
   ]
  },
  {
   "cell_type": "markdown",
   "metadata": {},
   "source": [
    "### Palindrome Numbers"
   ]
  },
  {
   "cell_type": "code",
   "execution_count": 5,
   "metadata": {},
   "outputs": [
    {
     "name": "stdout",
     "output_type": "stream",
     "text": [
      "False\n"
     ]
    }
   ],
   "source": [
    "def isPalindrome(num):\n",
    "    first = num\n",
    "    last = 0\n",
    "    while num:\n",
    "        temp = num % 10\n",
    "        last = (last*10) + temp\n",
    "        num //= 10\n",
    "    return first == last\n",
    "\n",
    "print(isPalindrome(10000211))\n",
    "        \n",
    "    \n",
    "class Solution:\n",
    "    def isPalindrome(self, x):\n",
    "        if x < 0 or (x % 10 == 0 and x != 0):\n",
    "            return False       \n",
    "        reverse = 0\n",
    "        while x > reverse:\n",
    "            reverse = reverse*10 + (x%10)\n",
    "            x //= 10\n",
    "        return x == reverse or x == reverse//10"
   ]
  },
  {
   "cell_type": "markdown",
   "metadata": {},
   "source": [
    "### Min Stack Problem"
   ]
  },
  {
   "cell_type": "code",
   "execution_count": 6,
   "metadata": {},
   "outputs": [],
   "source": [
    "class MinStack:\n",
    "\n",
    "    def __init__(self):\n",
    "        \"\"\"\n",
    "        initialize your data structure here.\n",
    "        \"\"\"\n",
    "        self.stack = []\n",
    "        self.mini = []\n",
    "        \n",
    "\n",
    "    def push(self, x: int) -> None:\n",
    "        self.stack.append(x)\n",
    "        if not self.mini or x <= self.mini[-1]:\n",
    "            self.mini.append(x)\n",
    "\n",
    "    def pop(self) -> None:\n",
    "        temp = self.stack.pop()\n",
    "        if temp == self.mini[-1]:\n",
    "            self.mini.pop()\n",
    "\n",
    "    def top(self) -> int:\n",
    "        return self.stack[-1]\n",
    "\n",
    "    def getMin(self) -> int:\n",
    "        return self.mini[-1]\n",
    "\n",
    "\n",
    "# Your MinStack object will be instantiated and called as such:\n",
    "# obj = MinStack()\n",
    "# obj.push(x)\n",
    "# obj.pop()\n",
    "# param_3 = obj.top()\n",
    "# param_4 = obj.getMin()"
   ]
  },
  {
   "cell_type": "markdown",
   "metadata": {},
   "source": [
    "### Two city scheduling"
   ]
  },
  {
   "cell_type": "code",
   "execution_count": 7,
   "metadata": {},
   "outputs": [],
   "source": [
    "class Solution:\n",
    "    def twoCitySchedCost(self, costs):\n",
    "        costs.sort(key = lambda x: x[0]-x[1])\n",
    "        total, n = 0, len(costs) // 2\n",
    "        for i in range(n):\n",
    "            total += costs[i][0]+costs[n+i][1]\n",
    "        return total\n",
    "    #explanation: Talk about the question in terms of amount saved by sending person i to A w.r.t B and sort accordingly\n",
    "    # We have to sort by the total cost saved by sending a person to A with respect to B \n",
    "    # Then we will get the maximum amount saved by send N/2 persons to A over B and the other half we be B"
   ]
  },
  {
   "cell_type": "markdown",
   "metadata": {},
   "source": [
    "\n",
    "*3. Electronic Exchange.\n",
    "\n",
    "You work in an electronic exchange. Throughout the day, you receive ticks (trading data) which consists of \n",
    "product name and its traded volume of stocks. Eg: {name: vodafone, volume: 20}. What data structure will you \n",
    "maintain if:\n",
    "* You have to tell top k products traded by volume at end of day.\n",
    "* You have to tell top k products traded by volume throughout the day"
   ]
  },
  {
   "cell_type": "markdown",
   "metadata": {},
   "source": [
    "### 4. Insert Delete GetRandom o(1)"
   ]
  },
  {
   "cell_type": "code",
   "execution_count": 8,
   "metadata": {},
   "outputs": [],
   "source": [
    "class RandomizedSet:\n",
    "\n",
    "    def __init__(self):\n",
    "        \"\"\"\n",
    "        Initialize your data structure here.\n",
    "        \"\"\"\n",
    "        self.store = {}\n",
    "        self.vals = []\n",
    "        \n",
    "\n",
    "    def insert(self, val: int) -> bool:\n",
    "        \"\"\"\n",
    "        Inserts a value to the set. Returns true if the set did not already contain the specified element.\n",
    "        \"\"\"\n",
    "        if val not in self.store:\n",
    "            self.vals.append(val)\n",
    "            self.store[val] = len(self.vals)-1\n",
    "            return True\n",
    "        return False\n",
    "\n",
    "    def remove(self, val: int) -> bool:\n",
    "        \"\"\"\n",
    "        Removes a value from the set. Returns true if the set contained the specified element.\n",
    "        \"\"\"\n",
    "        if val in self.store:\n",
    "            temp = self.store[val]\n",
    "            self.store[self.vals[-1]] = temp\n",
    "            self.vals[-1], self.vals[temp] = self.vals[temp], self.vals[-1]\n",
    "            self.vals.pop()\n",
    "            del self.store[val]\n",
    "            return True\n",
    "        return False\n",
    "        \n",
    "\n",
    "    def getRandom(self) -> int:\n",
    "        \"\"\"\n",
    "        Get a random element from the set.\n",
    "        \"\"\"\n",
    "        return random.choice(self.vals)\n",
    "        \n",
    "\n",
    "\n",
    "# Your RandomizedSet object will be instantiated and called as such:\n",
    "# obj = RandomizedSet()\n",
    "# param_1 = obj.insert(val)\n",
    "# param_2 = obj.remove(val)\n",
    "# param_3 = obj.getRandom()"
   ]
  },
  {
   "cell_type": "markdown",
   "metadata": {},
   "source": [
    "### 5. 1D candy crush"
   ]
  },
  {
   "cell_type": "code",
   "execution_count": null,
   "metadata": {},
   "outputs": [],
   "source": []
  },
  {
   "cell_type": "code",
   "execution_count": 1,
   "metadata": {},
   "outputs": [
    {
     "name": "stdout",
     "output_type": "stream",
     "text": [
      "ac\n"
     ]
    }
   ],
   "source": [
    "test = \"aaabbbacddd\"\n",
    "def candy_crush(string):\n",
    "    string += \"#\"\n",
    "    res = []\n",
    "    for i, char in enumerate(string):\n",
    "        if not res:\n",
    "            res.append([char, 0])\n",
    "        if res[-1][0] == char:\n",
    "            res[-1][1] += 1\n",
    "        else:\n",
    "            res.append([char, 1])\n",
    "        if i+1 < len(string) and string[i] != string[i+1] and res[-1][1] >= 3:\n",
    "            res.pop()\n",
    "            \n",
    "    if res[-1][1] >= 3:\n",
    "        res.pop()\n",
    "    ans = []\n",
    "    for char, num in res[:-1]:\n",
    "        ans.append(char*num)\n",
    "    return \"\".join(ans)\n",
    "\n",
    "print(candy_crush(test))\n",
    "            "
   ]
  },
  {
   "cell_type": "code",
   "execution_count": 4,
   "metadata": {},
   "outputs": [
    {
     "name": "stdout",
     "output_type": "stream",
     "text": [
      "ac\n"
     ]
    }
   ],
   "source": [
    "def candy_crush(candy):\n",
    "    stack = []\n",
    "    for i, char in enumerate(candy):\n",
    "        if not stack or char != stack[-1][0]:\n",
    "            stack.append([char, 1])\n",
    "        elif stack[-1][0] == char:\n",
    "            stack[-1][1] += 1\n",
    "            if (i == len(candy)-1 or (i+1 < len(candy) and candy[i+1] != char)) and stack[-1][1] >= 3:\n",
    "                stack.pop()\n",
    "    res  = []\n",
    "    for char, num in stack:\n",
    "        res.append(char*num)\n",
    "    return \"\".join(res)\n",
    "\n",
    "print(candy_crush(test))"
   ]
  },
  {
   "cell_type": "markdown",
   "metadata": {},
   "source": [
    "### Minimum Remove to make Parenthesis Valid"
   ]
  },
  {
   "cell_type": "code",
   "execution_count": 10,
   "metadata": {},
   "outputs": [],
   "source": [
    "class Solution:\n",
    "    def minRemoveToMakeValid(self, s):\n",
    "        stack = []\n",
    "        temp = \"\"\n",
    "        for char in s:\n",
    "            if char == \"(\":\n",
    "                stack.append(temp)\n",
    "                temp = \"\"\n",
    "            elif char == \")\":\n",
    "                if stack:\n",
    "                    temp = stack.pop() + \"(\" + temp + \")\"    \n",
    "            else:\n",
    "                temp += char\n",
    "        while stack: \n",
    "            temp = stack.pop() + temp\n",
    "        return temp\n"
   ]
  },
  {
   "cell_type": "markdown",
   "metadata": {},
   "source": [
    "### LRU Cache"
   ]
  },
  {
   "cell_type": "code",
   "execution_count": 11,
   "metadata": {},
   "outputs": [],
   "source": [
    "class Node:\n",
    "    def __init__(self, key, value):\n",
    "        self.key = key\n",
    "        self.val = value\n",
    "        self.prev = None\n",
    "        self.next = None\n",
    "        \n",
    "class LinkedList:\n",
    "    def __init__(self):\n",
    "        self.head = None\n",
    "        self.tail = None\n",
    "        \n",
    "    def appendHead(self, node):\n",
    "        node.prev, node.next = None, self.head\n",
    "        if self.head:\n",
    "            self.head.prev = node\n",
    "        if not self.tail:\n",
    "            self.tail = node\n",
    "        self.head = node\n",
    "        \n",
    "    def remove(self, node):\n",
    "        if not node:\n",
    "            return\n",
    "        prev, nxt = node.prev, node.next\n",
    "        if node.prev:\n",
    "            node.prev.next = nxt\n",
    "        if node.next:\n",
    "            node.next.prev = prev\n",
    "        if node == self.head:\n",
    "            self.head = nxt\n",
    "        if node == self.tail:\n",
    "            self.tail = prev\n",
    "        return node\n",
    "    \n",
    "    def removeTail(self):\n",
    "        return self.remove(self.tail)\n",
    "    \n",
    "    def advance(self, node):\n",
    "        self.remove(node)\n",
    "        self.appendHead(node)\n",
    "        \n",
    "class LRUCache:\n",
    "    def __init__(self, capacity):\n",
    "        self.capacity = capacity \n",
    "        self.store = {}\n",
    "        self.DLinkedList = LinkedList()\n",
    "    \n",
    "    def get(self, key):\n",
    "        if key not in self.store:\n",
    "            return -1\n",
    "        self.DLinkedList.advance(self.store[key])\n",
    "        return self.store[key].val\n",
    "    \n",
    "    def set(self, key, val):\n",
    "        if key in self.store:\n",
    "            self.store[key] = value\n",
    "            self.DLinkedList.advance(self.store[key])\n",
    "        else:\n",
    "            node = Node(key, val)\n",
    "            self.store[key] = node\n",
    "            self.DLinkedList.appendHead(node)\n",
    "            if len(self.store) > capacity:\n",
    "                del self.store[self.DLinkedList.removeTail().key]       \n",
    "            \n",
    "#Using OrderedDict\n",
    "class LRUCache:\n",
    "\n",
    "    def __init__(self, capacity: int):\n",
    "        self.store = collections.OrderedDict()\n",
    "        self.remain = capacity\n",
    "\n",
    "    def get(self, key: int) -> int:\n",
    "        if key not in self.store:\n",
    "            return -1\n",
    "        \n",
    "        value = self.store.pop(key)\n",
    "        self.store[key] = value\n",
    "        return value\n",
    "\n",
    "    def put(self, key: int, value: int) -> None:\n",
    "        if key in self.store:\n",
    "            self.store.pop(key)\n",
    "        else:\n",
    "            if self.remain > 0:\n",
    "                self.remain -= 1\n",
    "            else:\n",
    "                self.store.popitem(last=False)\n",
    "        self.store[key] = value\n",
    "        "
   ]
  },
  {
   "cell_type": "markdown",
   "metadata": {},
   "source": [
    "### Decode String"
   ]
  },
  {
   "cell_type": "code",
   "execution_count": 12,
   "metadata": {},
   "outputs": [],
   "source": [
    "class Solution:\n",
    "    def decodeString(self, s):\n",
    "        cur_num, cur_char = 0, \"\"\n",
    "        stack = []\n",
    "        for char in s:\n",
    "            if char == \"[\":\n",
    "                stack.append(cur_num)\n",
    "                stack.append(cur_char)\n",
    "                cur_num, cur_char = 0, \"\"\n",
    "            elif char == \"]\":\n",
    "                prev_string = stack.pop()\n",
    "                num = stack.pop()\n",
    "                cur_char = prev_string + num*cur_char\n",
    "                \n",
    "            elif char.isdigit():\n",
    "                cur_num = cur_num * 10 + int(char)\n",
    "            else:\n",
    "                cur_char += char\n",
    "                \n",
    "        return cur_char\n",
    "                "
   ]
  },
  {
   "cell_type": "markdown",
   "metadata": {},
   "source": [
    "### Valid Anagram"
   ]
  },
  {
   "cell_type": "code",
   "execution_count": 13,
   "metadata": {},
   "outputs": [],
   "source": [
    "class Solution:\n",
    "    def isAnagram(self, s: str, t: str) -> bool:\n",
    "        store = [0] * 26\n",
    "        for char in s:\n",
    "            store[ord(char)-ord(\"a\")] += 1\n",
    "        for char in t:\n",
    "            store[ord(char)-ord(\"a\")] -= 1\n",
    "        return all(i == 0 for i in store)\n"
   ]
  },
  {
   "cell_type": "markdown",
   "metadata": {},
   "source": [
    "### Flatten a multilevel doubly linked list"
   ]
  },
  {
   "cell_type": "code",
   "execution_count": 14,
   "metadata": {},
   "outputs": [],
   "source": [
    "#*Revise this!\n",
    "\"\"\"\n",
    "# Definition for a Node.\n",
    "class Node:\n",
    "    def __init__(self, val, prev, next, child):\n",
    "        self.val = val\n",
    "        self.prev = prev\n",
    "        self.next = next\n",
    "        self.child = child\n",
    "\"\"\"\n",
    "\n",
    "class Solution:\n",
    "    def flatten(self, head):\n",
    "        if not head:\n",
    "            return head\n",
    "        self.helper(head)\n",
    "        return head\n",
    "        \n",
    "    def helper(self, node):\n",
    "        last = None\n",
    "        \n",
    "        while node:\n",
    "            nxt = node.next\n",
    "            if node.child:\n",
    "                end = self.helper(node.child)\n",
    "                last = end\n",
    "                end.next = node.next\n",
    "                if node.next:\n",
    "                    node.next.prev = end\n",
    "                node.next = node.child\n",
    "                node.child.prev = node\n",
    "                node.child = None\n",
    "            \n",
    "            else:\n",
    "                last = node\n",
    "            node = nxt\n",
    "        return last\n"
   ]
  },
  {
   "cell_type": "code",
   "execution_count": 15,
   "metadata": {},
   "outputs": [],
   "source": [
    "def helper(node):\n",
    "    prev = None\n",
    "    \n",
    "    while node:\n",
    "        nxt = node.next\n",
    "        if not node.child:\n",
    "            prev = node\n",
    "        else:\n",
    "            end = helper(node.child)\n",
    "            prev = end\n",
    "            end.next = node.next\n",
    "            if node.next:\n",
    "                node.next.prev = end\n",
    "            node.next = node.child\n",
    "            node.child.prev = node\n",
    "            node.child = None\n",
    "        node = nxt\n",
    "    return prev\n",
    "\n",
    "def flatten(head):\n",
    "    if not head:\n",
    "        return None\n",
    "    self.helper(head)\n",
    "    return head\n"
   ]
  },
  {
   "cell_type": "markdown",
   "metadata": {},
   "source": [
    "### Output data from a stream in order"
   ]
  },
  {
   "cell_type": "markdown",
   "metadata": {},
   "source": [
    "Input: (1, \"abcd\"), (2, \"efgh\"), (4, \"mnop\"), (5, \"qrst\"), (3, \"ijkl\")\n",
    "\n",
    "Write a program to output the data from the stream in realtime in order, so 1,2,3,4,5..\n",
    "You cannot queue up the incoming data from the stream.\n",
    "So for example if the first incoming bit of data is (1, \"abcd\"), and the second is (4, \"mnop\"), you cannot output (4, \"mnop\") until you get 2, 3.\n",
    "\n",
    "Ans: Use minheaap"
   ]
  },
  {
   "cell_type": "markdown",
   "metadata": {},
   "source": [
    "### Word  Break I"
   ]
  },
  {
   "cell_type": "code",
   "execution_count": 16,
   "metadata": {},
   "outputs": [],
   "source": [
    "class Solution:\n",
    "    def wordBreak(self, s, wordDict):\n",
    "        store = set(wordDict)\n",
    "        \n",
    "        dp = [False] * (len(s)+1)\n",
    "        dp[0] = True\n",
    "        for i in range(1, len(s)+1):\n",
    "            for j in range(i):\n",
    "                if dp[j] and s[j:i] in store:\n",
    "                    dp[i] = True\n",
    "                    break\n",
    "        return dp[-1]\n",
    "                "
   ]
  },
  {
   "cell_type": "markdown",
   "metadata": {},
   "source": [
    "### Word Break II"
   ]
  },
  {
   "cell_type": "code",
   "execution_count": 3,
   "metadata": {},
   "outputs": [
    {
     "name": "stdout",
     "output_type": "stream",
     "text": [
      "[]\n"
     ]
    }
   ],
   "source": [
    "class Solution:\n",
    "    def wordBreak(self, s, wordDict):\n",
    "        res = []\n",
    "        store = set(wordDict)\n",
    "        self.dfs(s, store, \"\", res)\n",
    "        return res\n",
    "    \n",
    "    def dfs(self, s, store, path, res):\n",
    "        if self.check(s, store):\n",
    "            if not s:\n",
    "                res.append(path[:-1])\n",
    "                return\n",
    "            for i in range(len(s)):\n",
    "                if s[:i+1] in store:\n",
    "                    self.dfs(s[i+1:], store, path+s[:i+1]+\" \", res)\n",
    "                \n",
    "    def check(self, s, store):\n",
    "        dp = [False]*(len(s)+1)\n",
    "        dp[0] = True\n",
    "        \n",
    "        for i in range(1, len(s)+1):\n",
    "            for j in range(i):\n",
    "                if dp[j] and s[j:i] in store:\n",
    "                    dp[i] = True\n",
    "                    break\n",
    "        return dp[-1]\n",
    "    \n",
    "    \n",
    "class Solution:\n",
    "    def wordBreak(self, s, wordDict):\n",
    "        res = []\n",
    "        store = set(wordDict)\n",
    "        dp = self.check(s, store)\n",
    "        if not dp[-1]:\n",
    "            return []\n",
    "        self.dfs(s, store, \"\", res)\n",
    "        return res\n",
    "    \n",
    "    def dfs(self, s, store, path, res):\n",
    "        if not s:\n",
    "            res.append(path[:-1])\n",
    "            return\n",
    "        for i in range(len(s)):\n",
    "            if s[:i+1] in store:\n",
    "                self.dfs(s[i+1:], store, path+s[:i+1]+\" \", res)\n",
    "                \n",
    "    def check(self, s, store):\n",
    "        dp = [False]*(len(s)+1)\n",
    "        dp[0] = True\n",
    "        \n",
    "        for i in range(1, len(s)+1):\n",
    "            for j in range(i):\n",
    "                if dp[j] and s[j:i] in store:\n",
    "                    dp[i] = True\n",
    "                    break\n",
    "        return dp\n",
    "    \n",
    "\n",
    "class Solution:\n",
    "    def wordBreak(self, s, wordDict):\n",
    "        wordDict = set(wordDict)\n",
    "        cache = {}\n",
    "        return self.helper(s, wordDict, cache)\n",
    "    \n",
    "    def helper(self, s, wordDict, cache):\n",
    "        if s not in cache:\n",
    "            res = []\n",
    "            if s in wordDict:\n",
    "                res.append(s)\n",
    "            for i in range(1, len(s)):\n",
    "                if s[:i] in wordDict:\n",
    "                    subsentence = self.helper(s[i:], wordDict, cache)\n",
    "                    for sen in subsentence:\n",
    "                        res.append(s[:i] + \" \" + sen)\n",
    "            cache[s] = res\n",
    "        return cache[s]\n",
    "                \n",
    "s = \"pineapplepenapplei\"\n",
    "obj = Solution()\n",
    "wordDict = [\"apple\", \"pen\", \"applepen\", \"pine\", \"pineapple\"]\n",
    "print(obj.wordBreak(s, wordDict))\n"
   ]
  },
  {
   "cell_type": "markdown",
   "metadata": {},
   "source": [
    "### Right side view of a binary tree"
   ]
  },
  {
   "cell_type": "code",
   "execution_count": null,
   "metadata": {},
   "outputs": [
    {
     "ename": "",
     "evalue": "",
     "output_type": "error",
     "traceback": [
      "\u001b[1;31mRunning cells with 'Python 3.8.0 32-bit' requires ipykernel package.\n",
      "Run the following command to install 'ipykernel' into the Python environment. \n",
      "Command: '\"C:/Users/Babban Gona/AppData/Local/Programs/Python/Python38-32/python.exe\" -m pip install ipykernel -U --user --force-reinstall'"
     ]
    }
   ],
   "source": [
    "# Definition for a binary tree node.\n",
    "# class TreeNode:\n",
    "#     def __init__(self, val=0, left=None, right=None):\n",
    "#         self.val = val\n",
    "#         self.left = left\n",
    "#         self.right = right\n",
    "class Solution:\n",
    "    def rightSideView(self, root):\n",
    "        if not root:\n",
    "            return\n",
    "        res = []\n",
    "        queue = collections.deque([root])\n",
    "        while queue:\n",
    "            size = len(queue)\n",
    "            for _ in range(size):\n",
    "                node = queue.popleft()\n",
    "                if node.left:\n",
    "                    queue.append(node.left)\n",
    "                if node.right:\n",
    "                    queue.append(node.right)            \n",
    "            res.append(node.val)\n",
    "        return res    \n"
   ]
  },
  {
   "cell_type": "markdown",
   "metadata": {},
   "source": [
    "### Word Search I"
   ]
  },
  {
   "cell_type": "code",
   "execution_count": 19,
   "metadata": {},
   "outputs": [],
   "source": [
    "class Solution:\n",
    "    def exist(self, board, word):\n",
    "        for i in range(len(board)):\n",
    "            for j in range(len(board[0])):\n",
    "                if board[i][j] == word[0] and self.dfs(i, j, word, board, 0):\n",
    "                    return True\n",
    "        return False\n",
    "    \n",
    "    \n",
    "    def dfs(self, i, j, word, board, idx):\n",
    "        if idx == len(word):\n",
    "            return True\n",
    "        \n",
    "        if 0 <= i <len(board) and 0 <= j < len(board[0]) and board[i][j] == word[idx]: \n",
    "            neighs = [(1,0), (-1,0), (0,1), (0,-1)]\n",
    "            temp = board[i][j]\n",
    "            board[i][j] = \"#\"\n",
    "            for x, y in neighs:\n",
    "                row, col = i+x, j+y\n",
    "                if self.dfs(row, col, word, board, idx+1):\n",
    "                    return True\n",
    "            board[i][j] = temp\n",
    "            \n",
    "        return False"
   ]
  },
  {
   "cell_type": "markdown",
   "metadata": {},
   "source": [
    "#### Time complexity: O(N * 3^L); Space complexity: O(L)"
   ]
  },
  {
   "cell_type": "markdown",
   "metadata": {},
   "source": [
    "### Word Search II"
   ]
  },
  {
   "cell_type": "code",
   "execution_count": 20,
   "metadata": {},
   "outputs": [],
   "source": [
    "class Solution:\n",
    "    def findWords(self, board, words):\n",
    "        trie = {}\n",
    "        for word in words: \n",
    "            self.add_word(word, trie)\n",
    "            \n",
    "        res = []\n",
    "        for i in range(len(board)):\n",
    "            for j in range(len(board[0])):\n",
    "                self.dfs(i, j, trie, \"\", res, board)\n",
    "        return res\n",
    "    \n",
    "    def dfs(self, i, j, trie, path, res, board):\n",
    "        if \"*\" in trie:\n",
    "            res.append(path)\n",
    "            del trie[\"*\"]\n",
    "            \n",
    "        if i < 0 or i >= len(board) or j < 0 or j >= len(board[0]) or board[i][j] not in trie:\n",
    "            return \n",
    "        \n",
    "        temp = board[i][j]\n",
    "        board[i][j] = \"#\"   \n",
    "        self.dfs(i, j+1, trie[temp], path+temp, res, board)\n",
    "        self.dfs(i, j-1, trie[temp], path+temp, res, board)\n",
    "        self.dfs(i+1, j, trie[temp], path+temp, res, board)\n",
    "        self.dfs(i-1, j, trie[temp], path+temp, res, board)\n",
    "        board[i][j] = temp\n",
    "        \n",
    "    def add_word(self, word, store):\n",
    "        for letter in word:\n",
    "            if letter not in store:\n",
    "                store[letter] = {}\n",
    "            store = store[letter]\n",
    "        store[\"*\"] = word\n",
    "        \n",
    "\n",
    "s = \"catsanddog\"\n",
    "wordDict = [\"cat\", \"cats\", \"and\", \"sand\", \"dog\"]\n",
    "\n",
    "\n",
    "class Solution:\n",
    "    def findWords(self, board, words):\n",
    "        store = {}\n",
    "        for word in words:\n",
    "            self.add_word(word, store)\n",
    "            \n",
    "        res = []\n",
    "        for i in range(len(board)):\n",
    "            for j in range(len(board[0])):\n",
    "                if board[i][j] in store:\n",
    "                    self.dfs(board, store, i, j, res)                  \n",
    "        return res\n",
    "    \n",
    "    \n",
    "    def dfs(self, board, store, i, j, res):\n",
    "        if \"*\" in store:\n",
    "            res.append(store[\"*\"])\n",
    "            del store[\"*\"]\n",
    "        \n",
    "        if 0 <= i < len(board) and 0 <= j < len(board[0]) and board[i][j] in store:\n",
    "            adjacent_nodes = [(1, 0), (0, 1), (-1, 0), (0, -1)]\n",
    "            temp = board[i][j]\n",
    "            board[i][j] = \"#\"\n",
    "            for di, dj in adjacent_nodes:\n",
    "                self.dfs(board, store[temp], i+di, j+dj, res)\n",
    "            board[i][j] = temp\n",
    "\n",
    "    def add_word(self, word, store):\n",
    "        for letter in word:\n",
    "            if letter not in store:\n",
    "                store[letter] = {}\n",
    "            store = store[letter]\n",
    "        store[\"*\"] = word\n",
    "        "
   ]
  },
  {
   "cell_type": "markdown",
   "metadata": {},
   "source": [
    "#### Time Complexity: O(M(4⋅3^L−1)) ; Space complexity O(N)"
   ]
  },
  {
   "cell_type": "markdown",
   "metadata": {},
   "source": [
    "### Reconstruct Itinerary"
   ]
  },
  {
   "cell_type": "code",
   "execution_count": 21,
   "metadata": {},
   "outputs": [],
   "source": [
    "from collections import defaultdict, deque\n",
    "class Solution(object):\n",
    "    def findItinerary(self, tickets):\n",
    "        store = defaultdict(list)  \n",
    "        for ticket in tickets:\n",
    "            store[ticket[0]].append(ticket[1])\n",
    "            \n",
    "        for orig, dest in store.items():\n",
    "            dest.sort(reverse=True)\n",
    "        \n",
    "        res = []    \n",
    "        def dfs(node):\n",
    "            while store[node]:\n",
    "                dfs(store[node].pop())\n",
    "            res.append(node)\n",
    "        dfs(\"JFK\")\n",
    "        return res[::-1]\n",
    "    \n",
    "    "
   ]
  },
  {
   "cell_type": "markdown",
   "metadata": {},
   "source": [
    "### First Unique Element"
   ]
  },
  {
   "cell_type": "code",
   "execution_count": 22,
   "metadata": {},
   "outputs": [],
   "source": [
    "from collections import Counter\n",
    "class Solution:\n",
    "    def firstUniqChar(self, s):\n",
    "        store = Counter(s)\n",
    "        for i, char in enumerate(s):\n",
    "            if store[char] == 1:\n",
    "                return i\n",
    "        return -1"
   ]
  },
  {
   "cell_type": "markdown",
   "metadata": {},
   "source": [
    "### Longest Consecutive Sequence "
   ]
  },
  {
   "cell_type": "code",
   "execution_count": 23,
   "metadata": {},
   "outputs": [],
   "source": [
    "class Solution:\n",
    "    def longestConsecutive(self, nums):\n",
    "        store = set(nums)\n",
    "        res = 0\n",
    "        \n",
    "        for num in nums:\n",
    "            temp = num\n",
    "            if num-1 not in store:\n",
    "                count = 0\n",
    "                while num in store:\n",
    "                     temp += 1\n",
    "                     count += 1\n",
    "                res = max(res, count)\n",
    "        return res"
   ]
  },
  {
   "cell_type": "markdown",
   "metadata": {},
   "source": [
    "### Validate Binary Search Tree"
   ]
  },
  {
   "cell_type": "code",
   "execution_count": 24,
   "metadata": {},
   "outputs": [],
   "source": [
    "# Definition for a binary tree node.\n",
    "# class TreeNode:\n",
    "#     def __init__(self, val=0, left=None, right=None):\n",
    "#         self.val = val\n",
    "#         self.left = left\n",
    "#         self.right = right\n",
    "\n",
    "# Using recursion method\n",
    "class Solution:\n",
    "    def isValidBST(self, root):\n",
    "        lower, higher = float(\"-inf\"), float(\"inf\")\n",
    "        return self.helper(lower, root, higher)\n",
    "    \n",
    "    def helper(self, lower, root, higher):\n",
    "        if not root:\n",
    "            return True\n",
    "        node = root.val\n",
    "        if lower >= node or node >= higher:\n",
    "            return False\n",
    "        \n",
    "        return self.helper(lower, root.left, node) and self.helper(node, root.right, higher)\n",
    "        \n",
    " #Using Iterative method\n",
    "class Solution:\n",
    "    def isValidBST(self, root):\n",
    "        prev = float(\"-inf\")\n",
    "        stack = []\n",
    "        while stack or root:\n",
    "            while root:\n",
    "                stack.append(root)\n",
    "                root = root.left\n",
    "            root = stack.pop()\n",
    "            if prev >= root.val:\n",
    "                return False\n",
    "            prev = root.val\n",
    "            root = root.right\n",
    "        return True\n",
    "            "
   ]
  },
  {
   "cell_type": "markdown",
   "metadata": {},
   "source": [
    "### Trip Average "
   ]
  },
  {
   "cell_type": "code",
   "execution_count": 25,
   "metadata": {},
   "outputs": [],
   "source": [
    "class Trips:\n",
    "    def __init__(self):\n",
    "        self.on_going_trips = {}\n",
    "        self.total_duration = 0\n",
    "        self.num_of_finish_trips = 0\n",
    "        \n",
    "    def touchIn(self, station_idx, user_id, time_stamp):\n",
    "        self.on_going_trip[user_id] = time_stamp\n",
    "    \n",
    "    def touchOut(self, station_idx, user_id, time_stamp):\n",
    "        end_time = time_stamp\n",
    "        start_time = self.on_going_trip[user_id]\n",
    "        del self.on_going_trip[user_id]\n",
    "        trip_duration = end_time - start_time\n",
    "        self._add_to_average(trip_duration)\n",
    "        \n",
    "    def _add_to_average(self, trip_duration):\n",
    "        self.total_duration += trip_duration\n",
    "        self.num_of_finish_trips += 1\n",
    "        \n",
    "    def average_duration(self):\n",
    "        if self.num_of_finish_trips:\n",
    "            return self.total_duration / self.num_of_finish_trips\n",
    "        return 0\n",
    "    \n",
    "class UndergroundSystem:\n",
    "\n",
    "    def __init__(self):\n",
    "        self.check_in_data = {}\n",
    "        self.trip_data = {}\n",
    "\n",
    "    def checkIn(self, id: int, stationName: str, t: int) -> None:\n",
    "        self.check_in_data[id] = [stationName, t]\n",
    "\n",
    "    def checkOut(self, id: int, stationName: str, t: int) -> None:\n",
    "        start_location, time = self.check_in_data.pop(id)\n",
    "        if not (start_location, stationName) in self.trip_data:\n",
    "            self.trip_data[(start_location, stationName)] = [0, 0]\n",
    "        self.trip_data[(start_location, stationName)][0]  += (t-time)\n",
    "        self.trip_data[(start_location, stationName)][1] += 1\n",
    "\n",
    "    def getAverageTime(self, startStation: str, endStation: str) -> float:\n",
    "        total_time, num = self.trip_data[(startStation, endStation)]\n",
    "        return total_time/num\n",
    "    "
   ]
  },
  {
   "cell_type": "code",
   "execution_count": 8,
   "metadata": {},
   "outputs": [
    {
     "data": {
      "text/plain": [
       "121"
      ]
     },
     "execution_count": 8,
     "metadata": {},
     "output_type": "execute_result"
    }
   ],
   "source": [
    "class Collatz:\n",
    "    \n",
    "    def __init__(self):\n",
    "        self.store = {}\n",
    "    \n",
    "    def find_steps(self, n):\n",
    "        step = 0\n",
    "        temp = n\n",
    "        res = [n]\n",
    "        \n",
    "        while n != 1:\n",
    "            if n in self.store:\n",
    "                step += self.store[n]\n",
    "                break\n",
    "            if n % 2:\n",
    "                n = 3*n + 1\n",
    "            else:\n",
    "                n //= 2\n",
    "            step += 1\n",
    "            res.append(n)\n",
    "            \n",
    "        for elem in res:     \n",
    "            self.store[elem] = step\n",
    "            step -= 1\n",
    "        return self.store[temp]\n",
    "    \n",
    "obj = Collatz()\n",
    "obj.find_steps(129)\n",
    "\n",
    "5 - 16 - 8 - 4- 2\n",
    "\n",
    "5 - 5\n",
    "129 - 121\n",
    "\n",
    "\n",
    "n\n",
    "if even: divide by 2\n",
    "else: multiply by 3 plus 1\n",
    "\n",
    "    \n",
    "class Collatz:\n",
    "    def __init__():\n",
    "        self.store = {}\n",
    "    \n",
    "    def steps(n):\n",
    "        steps = 0\n",
    "        arr = []\n",
    "        while n != 1:\n",
    "            arr.append(n)\n",
    "            if n in self.store:\n",
    "                steps += self.store[n]\n",
    "                break\n",
    "            if n % 2:\n",
    "                n = 3*n +1\n",
    "            else:\n",
    "                n //= 2\n",
    "            step += 1\n",
    "            \n",
    "        for elem in array:\n",
    "            self.store[elem] = steps\n",
    "            steps -= 1\n",
    "        return self.store[arr[0]]\n",
    "    \n",
    "\n",
    "\n",
    "obj = Collatz()\n",
    "array = [5,67,46,4,64,3,5,9,5,7]\n",
    "obj.steps()\n",
    "\n",
    "\n",
    "\n",
    "45 - 5\n",
    "\n",
    "5, 16, 8,4, 2\n",
    "\n",
    "for num in array:\n",
    "    obj.steps(num)\n",
    "    \n",
    "    \n",
    "a c b\n",
    "ab c d"
   ]
  },
  {
   "cell_type": "markdown",
   "metadata": {},
   "source": [
    "### Collatz Conjecture"
   ]
  },
  {
   "cell_type": "code",
   "execution_count": 26,
   "metadata": {},
   "outputs": [],
   "source": [
    "def isToOneRec(n: int, s: set) -> bool: \n",
    "    if n == 1: \n",
    "        return True\n",
    "  \n",
    "    # If there is a cycle formed, \n",
    "    # we can't reach 1. \n",
    "    if n in s: \n",
    "        return False\n",
    "\n",
    "    # If n is odd then pass n = 3n+1 else n = n/2 \n",
    "    if n % 2: \n",
    "        return isToOneRec(3 * n + 1, s) \n",
    "    else: \n",
    "        return isToOneRec(n // 2, s) \n",
    "  \n",
    "# Wrapper over isToOneRec() \n",
    "def isToOne(n: int) -> bool: \n",
    "  \n",
    "    # To store numbers visited \n",
    "    # using recursive calls. \n",
    "    s = set() \n",
    "  "
   ]
  },
  {
   "cell_type": "code",
   "execution_count": 27,
   "metadata": {},
   "outputs": [
    {
     "name": "stdout",
     "output_type": "stream",
     "text": [
      "8\n"
     ]
    }
   ],
   "source": [
    "def helper(num, store):\n",
    "    if num == 1:\n",
    "        return 1\n",
    "    \n",
    "    if num not in store:\n",
    "        if num % 2:\n",
    "             ans = 1 + helper(3*num+1, store)\n",
    "        else:\n",
    "            ans = 1 + helper(num // 2, store)\n",
    "        store[num] = ans\n",
    "    return store[num]\n",
    "\n",
    "[5,121,34,46]\n",
    "def longest_collatz_sequence(nums):\n",
    "    store = {}\n",
    "    res = 0 \n",
    "    for num in nums:\n",
    "        res = max(res, helper(num, store))\n",
    "    return res\n",
    "\n",
    "test = [3, 20]\n",
    "print(longest_collatz_sequence(test))"
   ]
  },
  {
   "cell_type": "markdown",
   "metadata": {},
   "source": [
    "### Update Next Pointer"
   ]
  },
  {
   "cell_type": "code",
   "execution_count": 28,
   "metadata": {},
   "outputs": [],
   "source": [
    "class Solution:\n",
    "    def connect(self, root):\n",
    "        if not root:\n",
    "            return \n",
    "        # connect nodes level by level,\n",
    "        # similar to level order traversal\n",
    "        queue = collections.deque([root])\n",
    "        nextLevel = collections.deque([])\n",
    "        while queue:\n",
    "            node = queue.popleft()\n",
    "            if node.left:\n",
    "                nextLevel.append(node.left)\n",
    "            if node.right:\n",
    "                nextLevel.append(node.right)\n",
    "            if queue:\n",
    "                node.next = queue[0]\n",
    "            if not queue:\n",
    "                queue, nextLevel = nextLevel, queue\n",
    "        return root"
   ]
  },
  {
   "cell_type": "markdown",
   "metadata": {},
   "source": [
    "### Buy and Sell Stock Once"
   ]
  },
  {
   "cell_type": "code",
   "execution_count": 29,
   "metadata": {},
   "outputs": [],
   "source": [
    "class Solution:\n",
    "    def maxProfit(self, prices):\n",
    "        res = 0\n",
    "        curr  = float(\"inf\")\n",
    "        for i in range(len(prices)):\n",
    "            res = max(res, prices[i]-curr)\n",
    "            curr = min(curr, prices[i])\n",
    "        return res"
   ]
  },
  {
   "cell_type": "markdown",
   "metadata": {},
   "source": [
    "### Count Ships"
   ]
  },
  {
   "cell_type": "code",
   "execution_count": 30,
   "metadata": {},
   "outputs": [],
   "source": [
    "# \"\"\"\n",
    "# This is Sea's API interface.\n",
    "# You should not implement it, or speculate about its implementation\n",
    "# \"\"\"\n",
    "#class Sea(object):\n",
    "#    def hasShips(self, topRight: 'Point', bottomLeft: 'Point') -> bool:\n",
    "#\n",
    "#class Point(object):\n",
    "#\tdef __init__(self, x: int, y: int):\n",
    "#\t\tself.x = x\n",
    "#\t\tself.y = y\n",
    "\n",
    "class Solution(object):\n",
    "    def countShips(self, sea: 'Sea', topRight: 'Point', bottomLeft: 'Point') -> int:\n",
    "        x1, y1 = bottomLeft.x, bottomLeft.y\n",
    "        x2, y2 = topRight.x, topRight.y\n",
    "        \n",
    "        if x1 > x2 or y1 > y2 or not sea.hasShips(topRight, bottomLeft):\n",
    "            return 0\n",
    "        \n",
    "        if x1 == x2 and y1 == y2:\n",
    "            return 1\n",
    "        \n",
    "        x = (x1+x2) // 2\n",
    "        y = (y1+y2) // 2\n",
    "        \n",
    "        ans = self.countShips(sea, Point(x2, y2), Point(x+1, y+1)) + \\\n",
    "              self.countShips(sea, Point(x, y), Point(x1, y1)) + \\\n",
    "              self.countShips(sea, Point(x2, y), Point(x+1, y1)) + \\\n",
    "              self.countShips(sea, Point(x, y2), Point(x1, y+1))\n",
    "\n",
    "        return ans"
   ]
  },
  {
   "cell_type": "markdown",
   "metadata": {},
   "source": [
    "### Topological Sort"
   ]
  },
  {
   "cell_type": "code",
   "execution_count": 31,
   "metadata": {},
   "outputs": [],
   "source": [
    "class Solution:\n",
    "    def findOrder(self, numCourses: int, prerequisites):\n",
    "        forward = {i: set() for i in range(numCourses)}\n",
    "        backward = collections.defaultdict(set)\n",
    "        L = []\n",
    "        for i, j in prerequisites:\n",
    "            forward[i].add(j)\n",
    "            backward[j].add(i)\n",
    "            \n",
    "        queue = collections.deque([node for node in forward if len(forward[node]) == 0])\n",
    "        while queue:\n",
    "            node = queue.popleft()\n",
    "            L.append(node)\n",
    "            for neigh in backward[node]:\n",
    "                forward[neigh].remove(node)\n",
    "                if len(forward[neigh]) == 0:\n",
    "                    queue.append(neigh)\n",
    "            forward.pop(node)\n",
    "        \n",
    "        return [] if forward else L"
   ]
  },
  {
   "cell_type": "markdown",
   "metadata": {},
   "source": [
    "### Trapping Rain Water"
   ]
  },
  {
   "cell_type": "code",
   "execution_count": 32,
   "metadata": {},
   "outputs": [],
   "source": [
    "class Solution:\n",
    "    def trap(self, height):\n",
    "        water = 0\n",
    "        stack = []\n",
    "        for i, num in enumerate(height):\n",
    "            while stack and num > stack[-1][-1]:\n",
    "                _, popped = stack.pop()\n",
    "                if stack:\n",
    "                    j, left_bar = stack[-1]\n",
    "                    water += (min(num, left_bar)-popped) * (i-j-1) \n",
    "            stack.append((i, num))\n",
    "        return water\n",
    "    \n",
    "class Solution:\n",
    "    def trap(self, bars):\n",
    "        left, right = 0, len(bars)-1\n",
    "        left_wall, right_wall = 0, 0\n",
    "        volume = 0\n",
    "        \n",
    "        while left < right:\n",
    "            if bars[left] < bars[right]:\n",
    "                if bars[left] > left_wall:\n",
    "                    left_wall = bars[left]\n",
    "                else:\n",
    "                    volume += left_wall - bars[left]\n",
    "                left += 1\n",
    "            else:\n",
    "                if bars[right] > right_wall:\n",
    "                    right_wall = bars[right]\n",
    "                else:\n",
    "                    volume += right_wall - bars[right]\n",
    "                right -= 1\n",
    "                \n",
    "                \n"
   ]
  },
  {
   "cell_type": "markdown",
   "metadata": {},
   "source": [
    "### Minimun Add To Make Parenthesis Valid"
   ]
  },
  {
   "cell_type": "code",
   "execution_count": 33,
   "metadata": {},
   "outputs": [],
   "source": [
    "class Solution:\n",
    "    def minAddToMakeValid(self, S):\n",
    "        res = 0      \n",
    "        count = 0\n",
    "        for paren in S:\n",
    "            if paren == \"(\":\n",
    "                count += 1\n",
    "            elif count == 0:\n",
    "                res += 1\n",
    "            else:\n",
    "                count -= 1\n",
    "        return res+count"
   ]
  },
  {
   "cell_type": "markdown",
   "metadata": {},
   "source": [
    "### Word Ladder"
   ]
  },
  {
   "cell_type": "code",
   "execution_count": 34,
   "metadata": {},
   "outputs": [],
   "source": [
    "from collections import defaultdict, deque\n",
    "class Solution:\n",
    "    def ladderLength(self, beginWord, endWord, wordList):\n",
    "        graph  = self.build_graph(wordList)\n",
    "        seen = set()\n",
    "        queue = deque([(beginWord, 1)])\n",
    "\n",
    "        while queue:\n",
    "            new_word, count = queue.popleft()\n",
    "            if new_word == endWord:\n",
    "                return count\n",
    "            for i in range(len(new_word)):\n",
    "                s = new_word[:i] + \"-\" + new_word[i+1:]\n",
    "                for word in graph[s]:\n",
    "                    if word not in seen:\n",
    "                        queue.append((word, count+1))\n",
    "                        seen.add(word)\n",
    "        return 0\n",
    "    \n",
    "    def build_graph(self, wordList):\n",
    "        \n",
    "        store = defaultdict(set)\n",
    "        for word in wordList:\n",
    "            for i in range(len(word)):\n",
    "                key = word[:i] + \"-\" + word[i+1:]\n",
    "                store[key].add(word)\n",
    "        return store"
   ]
  },
  {
   "cell_type": "markdown",
   "metadata": {},
   "source": [
    "### Remove All Adjacent Duplicates In String"
   ]
  },
  {
   "cell_type": "code",
   "execution_count": 35,
   "metadata": {},
   "outputs": [],
   "source": [
    "class Solution:\n",
    "    def removeDuplicates(self, S: str) -> str:\n",
    "        stack = []\n",
    "        for char in S:\n",
    "            if not stack or stack[-1] != char:\n",
    "                stack.append(char)\n",
    "            else:\n",
    "                stack.pop()\n",
    "        return \"\".join(stack)\n",
    "        "
   ]
  },
  {
   "cell_type": "markdown",
   "metadata": {},
   "source": [
    "### Remove All Adjacent Duplicates In String II"
   ]
  },
  {
   "cell_type": "code",
   "execution_count": 36,
   "metadata": {},
   "outputs": [],
   "source": [
    "class Solution:\n",
    "    def removeDuplicates(self, s: str, k: int) -> str:\n",
    "        stack = []\n",
    "        for char in s:\n",
    "            if not stack or stack[-1][0] != char:\n",
    "                stack.append([char, 1])\n",
    "            else:\n",
    "                if stack[-1][1] == k-1:\n",
    "                    stack.pop()\n",
    "                else:\n",
    "                    stack[-1][1] += 1\n",
    "        res = []\n",
    "        for char, times in stack:\n",
    "            res.append(char*times)\n",
    "        \n",
    "        return \"\".join(res)"
   ]
  },
  {
   "cell_type": "markdown",
   "metadata": {},
   "source": [
    "### Invert A Binary Tree"
   ]
  },
  {
   "cell_type": "code",
   "execution_count": 37,
   "metadata": {},
   "outputs": [],
   "source": [
    "class Solution:\n",
    "    def invertTree(self, root):\n",
    "        if root:\n",
    "            root.left, root.right = self.invertTree(root.right), self.invertTree(root.left)\n",
    "            return root\n",
    "        \n",
    "# DFS\n",
    "def invertTree(self, root):\n",
    "    stack = [root]\n",
    "    while stack:\n",
    "        node = stack.pop()\n",
    "        if node:\n",
    "            node.left, node.right = node.right, node.left\n",
    "            stack.extend([node.right, node.left])\n",
    "    return root"
   ]
  },
  {
   "cell_type": "markdown",
   "metadata": {},
   "source": [
    "### Shuffle An Array"
   ]
  },
  {
   "cell_type": "code",
   "execution_count": 38,
   "metadata": {},
   "outputs": [],
   "source": [
    "class Solution:\n",
    "    def __init__(self, nums):\n",
    "        self.array = nums\n",
    "        self.original = list(nums)\n",
    "\n",
    "    def reset(self):\n",
    "        self.array = list(self.original)\n",
    "        return self.array\n",
    "\n",
    "    def shuffle(self):\n",
    "        for i in range(len(self.array)):\n",
    "            remove_idx = random.randrange(i, len(self.array))\n",
    "            self.array[i], self.array[remove_idx] = self.array[remove_idx], self.array[i]\n",
    "\n",
    "        return self.array"
   ]
  },
  {
   "cell_type": "markdown",
   "metadata": {},
   "source": [
    "### Revers a LinkedList"
   ]
  },
  {
   "cell_type": "code",
   "execution_count": 39,
   "metadata": {},
   "outputs": [],
   "source": [
    "class Solution:\n",
    "    def reverseList(self, head):\n",
    "        return self.helper(head, None)\n",
    "    \n",
    "    def helper(self, head, node):\n",
    "        if not head:\n",
    "            return node\n",
    "        temp = head.next\n",
    "        head.next = node\n",
    "        return self.helper(temp, head)\n",
    "    \n",
    "    \n",
    "class Solution:\n",
    "    def reverseList(self, head):\n",
    "        node = None\n",
    "        while head:\n",
    "            temp = head.next\n",
    "            head.next = node\n",
    "            node = head\n",
    "            head = temp\n",
    "        return node"
   ]
  },
  {
   "cell_type": "markdown",
   "metadata": {},
   "source": [
    "### Add String"
   ]
  },
  {
   "cell_type": "code",
   "execution_count": 40,
   "metadata": {},
   "outputs": [],
   "source": [
    "class Solution:\n",
    "    def addStrings(self, num1: str, num2: str) -> str:\n",
    "        p1 = len(num1)-1\n",
    "        p2 = len(num2)-1\n",
    "        \n",
    "        \n",
    "        res = []\n",
    "        carry = 0\n",
    "        while p1 >= 0 or p2 >= 0:\n",
    "            x1 = int(num1[p1]) if p1 >= 0 else 0\n",
    "            x2 = int(num2[p2]) if p2 >= 0 else 0\n",
    "            \n",
    "            res.append(str((x1+x2+carry)%10))\n",
    "            carry = (x1+x2+carry) // 10\n",
    "            p1 -= 1\n",
    "            p2 -= 1\n",
    "        \n",
    "        if carry:\n",
    "            res.append(str(carry))\n",
    "        print(res)\n",
    "        \n",
    "        return \"\".join(res[::-1])"
   ]
  },
  {
   "cell_type": "markdown",
   "metadata": {},
   "source": [
    "### Add Number II"
   ]
  },
  {
   "cell_type": "code",
   "execution_count": 41,
   "metadata": {},
   "outputs": [],
   "source": [
    "class Solution:\n",
    "    def addTwoNumbers(self, l1, l2):\n",
    "\n",
    "        def fn(node): \n",
    "            \"\"\"Return number represented by linked list.\"\"\"\n",
    "            ans = 0\n",
    "            while node:\n",
    "                ans = 10*ans + node.val\n",
    "                node = node.next\n",
    "            return ans \n",
    "        \n",
    "        dummy = node = ListNode()\n",
    "        for i in str(fn(l1) + fn(l2)): \n",
    "            node.next = ListNode(int(i))\n",
    "            node = node.next\n",
    "        return dummy.next \n",
    "    \n",
    "class Solution:\n",
    "    def addTwoNumbers(self, l1, l2):\n",
    "        \n",
    "        def fn(node): \n",
    "            \"\"\"Reverse a linked list.\"\"\"\n",
    "            prev = None\n",
    "            while node: prev, node.next, node = node, prev, node.next\n",
    "            return prev \n",
    "        \n",
    "        l1, l2 = fn(l1), fn(l2) # reverse l1 & l2\n",
    "        carry = 0\n",
    "        dummy = node = ListNode()\n",
    "        while carry or l1 or l2:\n",
    "            if l1: \n",
    "                carry += l1.val\n",
    "                l1 = l1.next\n",
    "            if l2: \n",
    "                carry += l2.val\n",
    "                l2 = l2.next\n",
    "            carry, x = divmod(carry, 10)\n",
    "            node.next = node = ListNode(x)\n",
    "        return fn(dummy.next)"
   ]
  },
  {
   "cell_type": "markdown",
   "metadata": {},
   "source": [
    "### Sort Character By Frequency"
   ]
  },
  {
   "cell_type": "code",
   "execution_count": 42,
   "metadata": {},
   "outputs": [],
   "source": [
    "from collections import Counter\n",
    "class Solution:\n",
    "    def frequencySort(self, s):\n",
    "        counter = Counter(s)\n",
    "        array = sorted(counter.keys(), key = lambda x: -counter[x])\n",
    "        res = []\n",
    "        for key in array:\n",
    "            res.append(key*counter[key])\n",
    "        return \"\".join(res)\n",
    "    \n",
    "    \n",
    "from collections import Counter\n",
    "class Solution:\n",
    "    def frequencySort(self, s: str) -> str:\n",
    "        if not s:\n",
    "            return s\n",
    "        counter = Counter(s)\n",
    "        max_freq = max(counter.values())\n",
    "        \n",
    "        \n",
    "        bucket = [[] for _ in range(max_freq)]\n",
    "        \n",
    "        res = []\n",
    "        for key, value in counter.items():\n",
    "            bucket[value-1].append(key)\n",
    "        \n",
    "        for i in range(len(bucket)-1, -1, -1):\n",
    "            for c in bucket[i]:\n",
    "                res.append(c*(i+1))\n",
    "                \n",
    "        return \"\".join(res)"
   ]
  },
  {
   "cell_type": "markdown",
   "metadata": {},
   "source": [
    "### Find Minimum in Rotated Sorted Array"
   ]
  },
  {
   "cell_type": "code",
   "execution_count": 43,
   "metadata": {},
   "outputs": [],
   "source": [
    "class Solution:\n",
    "    def findMin(self, nums):\n",
    "        start, end = 0, len(nums)-1\n",
    "        \n",
    "        while start < end:\n",
    "            mid = start + (end-start)//2\n",
    "            if nums[mid] > nums[end]:\n",
    "                start = mid+1\n",
    "            else:\n",
    "                end = mid\n",
    "        return nums[start]\n",
    "                \n",
    "class Solution:\n",
    "    def findMin(self, nums):\n",
    "        start, end = 0, len(nums)-1       \n",
    "        while start <= end:\n",
    "            mid = start + (end-start)//2\n",
    "            if nums[mid] > nums[end]:\n",
    "                start = mid+1\n",
    "            elif mid == 0 or nums[mid] < nums[mid-1]:\n",
    "                return nums[mid]\n",
    "            else:\n",
    "                end = mid-1\n",
    "\n",
    "                "
   ]
  },
  {
   "cell_type": "markdown",
   "metadata": {},
   "source": [
    "### Vertical Order Traversal of a Binary Tree"
   ]
  },
  {
   "cell_type": "code",
   "execution_count": 44,
   "metadata": {},
   "outputs": [],
   "source": [
    "# Definition for a binary tree node.\n",
    "# class TreeNode:\n",
    "#     def __init__(self, val=0, left=None, right=None):\n",
    "#         self.val = val\n",
    "#         self.left = left\n",
    "#         self.right = right\n",
    "class Solution:\n",
    "    def verticalTraversal(self, root):\n",
    "        res = []\n",
    "        self.dfs(root, 0, 0, res)\n",
    "        res.sort()\n",
    "        \n",
    "        store = collections.OrderedDict()\n",
    "        #print(res)\n",
    "        for key, value, node in res:\n",
    "            if key not in store:\n",
    "                store[key] = []\n",
    "            store[key].append(node)\n",
    "        \n",
    "        return store.values()\n",
    "    \n",
    "    def dfs(self, node, x, y, res):\n",
    "        if not node:\n",
    "            return\n",
    "        res.append((x, y, node.val))\n",
    "        self.dfs(node.left, x-1, y+1, res)\n",
    "        self.dfs(node.right, x+1, y+1, res)"
   ]
  },
  {
   "cell_type": "markdown",
   "metadata": {},
   "source": [
    "### All Path from Source to Destination"
   ]
  },
  {
   "cell_type": "code",
   "execution_count": 45,
   "metadata": {},
   "outputs": [],
   "source": [
    "class Solution:\n",
    "    def allPathsSourceTarget(self, graph):\n",
    "        res = []\n",
    "        target = len(graph)-1\n",
    "        self.dfs(0, [0], res, graph)\n",
    "        return res\n",
    "        \n",
    "    def dfs(self, cur, path, res, graph):\n",
    "        if cur == len(graph)-1:\n",
    "            res.append(path)\n",
    "            return\n",
    "        \n",
    "        for node in graph[cur]:\n",
    "            self.dfs(node, path+[node], res, graph)"
   ]
  },
  {
   "cell_type": "markdown",
   "metadata": {},
   "source": [
    "### Number of Dice Rolls With Target Sum"
   ]
  },
  {
   "cell_type": "code",
   "execution_count": 46,
   "metadata": {},
   "outputs": [],
   "source": [
    "class Solution:\n",
    "    def numRollsToTarget(self, d, f, target):\n",
    "        memo = {}\n",
    "        def helper(d, target):\n",
    "            if d == 0:\n",
    "                if target == 0:\n",
    "                    return 1\n",
    "                else:\n",
    "                    return 0\n",
    "            if (d, target) not in memo:\n",
    "                ans = 0\n",
    "                for i in range(1, f+1):\n",
    "                    ans += helper(d-1, target-i)\n",
    "                memo[(d, target)] = ans\n",
    "            return memo[(d, target)]\n",
    "        \n",
    "        return helper(d, target) % (10**9 + 7)"
   ]
  },
  {
   "cell_type": "markdown",
   "metadata": {},
   "source": [
    "### Range Sum Query 2D"
   ]
  },
  {
   "cell_type": "code",
   "execution_count": 47,
   "metadata": {},
   "outputs": [],
   "source": [
    "class NumMatrix:\n",
    "\n",
    "    def __init__(self, matrix):\n",
    "        if not matrix:\n",
    "            return\n",
    "        \n",
    "        row, col = len(matrix)+1, len(matrix[0])+1\n",
    "        self.dp = [[0]*(col) for _ in range(row)]\n",
    "        \n",
    "        for i in range(1, row):\n",
    "            for j in range(1, col):\n",
    "                self.dp[i][j]=self.dp[i][j-1]+self.dp[i-1][j]-self.dp[i-1][j-1]+matrix[i-1][j-1]\n",
    "\n",
    "    def sumRegion(self, row1: int, col1: int, row2: int, col2: int) -> int:\n",
    "        row1, col1, row2, col2 = row1+1, col1+1, row2+1, col2+1\n",
    "        return self.dp[row2][col2] + self.dp[row1-1][col1-1] - self.dp[row1-1][col2] - self.dp[row2][col1-1]\n",
    "    \n",
    "\n",
    "# Your NumMatrix object will be instantiated and called as such:\n",
    "# obj = NumMatrix(matrix)\n",
    "# param_1 = obj.sumRegion(row1,col1,row2,col2)"
   ]
  },
  {
   "cell_type": "markdown",
   "metadata": {},
   "source": [
    "### Sum of Mutated Array Closest To Target"
   ]
  },
  {
   "cell_type": "code",
   "execution_count": 7,
   "metadata": {},
   "outputs": [],
   "source": [
    "class Solution:\n",
    "    def findBestValue(self, arr, target):\n",
    "        arr.sort()\n",
    "        length = len(arr)\n",
    "        for i in range(length):\n",
    "            ans = round(target / length)\n",
    "            if ans <= arr[i]:\n",
    "                return ans\n",
    "            target -= arr[i]\n",
    "            length -= 1\n",
    "        return arr[-1]"
   ]
  },
  {
   "cell_type": "markdown",
   "metadata": {},
   "source": [
    "### Remove Invalid Parenthesis"
   ]
  },
  {
   "cell_type": "code",
   "execution_count": 10,
   "metadata": {},
   "outputs": [
    {
     "data": {
      "text/plain": [
       "['((()))', '(()())']"
      ]
     },
     "execution_count": 10,
     "metadata": {},
     "output_type": "execute_result"
    }
   ],
   "source": [
    "class Solution:\n",
    "    def removeInvalidParentheses(self, s):\n",
    "        res = []\n",
    "        visited = set([s])\n",
    "        \n",
    "        def dfs(s):\n",
    "            miss = valid(s)\n",
    "            if miss == 0:\n",
    "                res.append(s)\n",
    "                return\n",
    "            for i in range(len(s)):\n",
    "                if s[i] in (\"(\", \")\"):\n",
    "                    ns = s[:i] + s[i+1:]\n",
    "                    if ns not in visited and valid(ns) < miss:\n",
    "                        visited.add(ns)\n",
    "                        dfs(ns)\n",
    "            \n",
    "        \n",
    "        def valid(s):\n",
    "            a = b = 0\n",
    "            for char in s:\n",
    "                a += {\"(\":1, \")\":-1}.get(char, 0)\n",
    "                b += a < 0\n",
    "                a = max(a, 0)\n",
    "            return a+b\n",
    "        \n",
    "        dfs(s)\n",
    "        return res\n",
    "    \n",
    "    \n",
    "obj = Solution()\n",
    "test = \"(()()))\"\n",
    "obj.removeInvalidParentheses(test)"
   ]
  },
  {
   "cell_type": "code",
   "execution_count": 13,
   "metadata": {},
   "outputs": [
    {
     "data": {
      "text/plain": [
       "['((()))', '(()())']"
      ]
     },
     "execution_count": 13,
     "metadata": {},
     "output_type": "execute_result"
    }
   ],
   "source": [
    "def min_remove(s):\n",
    "    opening = 0\n",
    "    closing = 0\n",
    "    for char in s:\n",
    "        if char == \"(\":\n",
    "            opening += 1\n",
    "        elif char == \")\":\n",
    "            if not opening:\n",
    "                closing += 1\n",
    "            else:\n",
    "                opening -= 1\n",
    "    return opening + closing\n",
    "\n",
    "\n",
    "def removeParentheses(s):\n",
    "    res = []\n",
    "    seen = set([s])\n",
    "    \n",
    "    def dfs(s):\n",
    "        miss = min_remove(s)\n",
    "        if miss == 0:\n",
    "            res.append(s)\n",
    "            return\n",
    "        \n",
    "        for i in range(len(s)):\n",
    "            ns = s[:i] + s[i+1:]\n",
    "            if ns not in seen and min_remove(ns) < miss:\n",
    "                seen.add(ns)\n",
    "                dfs(ns)\n",
    "    dfs(s)\n",
    "    return res\n",
    "                \n",
    "removeParentheses(test)"
   ]
  },
  {
   "cell_type": "markdown",
   "metadata": {},
   "source": [
    "### Allocate Mailboxes"
   ]
  },
  {
   "cell_type": "code",
   "execution_count": 50,
   "metadata": {},
   "outputs": [],
   "source": [
    "class Solution:\n",
    "    def minDistance(self, houses, k):\n",
    "        houses.sort()\n",
    "        memo = {}\n",
    "        left, right = 0, len(houses)-1\n",
    "        return self.helper(houses, left, right, k, memo)\n",
    "        \n",
    "    def helper(self, houses, left, right, num, memo):\n",
    "        if right - left + 1 < num:\n",
    "            return float(\"inf\")\n",
    "        \n",
    "        if (left, right, num) not in memo:\n",
    "            \n",
    "            if num == 1:\n",
    "                ans  = 0\n",
    "                mid = (left + right) // 2\n",
    "                for i in range(left, right+1):\n",
    "                    ans += abs(houses[mid]-houses[i])\n",
    "                memo[(left, right, num)] = ans\n",
    "            else:\n",
    "                ans = float(\"inf\")\n",
    "                for i in range(left, right+1):\n",
    "                    ans = min(ans, self.helper(houses, left, i, 1, memo)+\\\n",
    "                              self.helper(houses, i+1, right, num-1, memo))\n",
    "                memo[(left, right, num)] = ans\n",
    "        return memo[(left, right, num)]"
   ]
  },
  {
   "cell_type": "markdown",
   "metadata": {},
   "source": [
    "### Number of Islands"
   ]
  },
  {
   "cell_type": "code",
   "execution_count": 51,
   "metadata": {},
   "outputs": [],
   "source": [
    "def numIslands1(self, grid):\n",
    "    count = 0\n",
    "    for r in xrange(len(grid)):\n",
    "        for c in xrange(len(grid[0])):\n",
    "            if grid[r][c] == \"1\":\n",
    "                count += 1\n",
    "                self.dfs(grid, r, c)\n",
    "    return count\n",
    "    \n",
    "def dfs(self, grid, r, c):\n",
    "    if not (0 <= r < len(grid)) or not (0 <= c < len(grid[0])) or grid[r][c] == \"0\":\n",
    "        return \n",
    "    grid[r][c] = \"0\"\n",
    "    self.dfs(grid, r+1, c)\n",
    "    self.dfs(grid, r-1, c)\n",
    "    self.dfs(grid, r, c+1)\n",
    "    self.dfs(grid, r, c-1)\n"
   ]
  },
  {
   "cell_type": "markdown",
   "metadata": {},
   "source": [
    "### LFU Cache"
   ]
  },
  {
   "cell_type": "code",
   "execution_count": 52,
   "metadata": {},
   "outputs": [],
   "source": [
    "class Node:\n",
    "    def __init__(self, key, value):\n",
    "        self.key = key\n",
    "        self.val = value\n",
    "        self.freq = 1\n",
    "        self.next  = None\n",
    "        self.prev = None\n",
    "        \n",
    "class DLinkedList:\n",
    "    def __init__(self):\n",
    "        self.size = 0\n",
    "        self.head = None\n",
    "        self.tail = None\n",
    "        \n",
    "    def appendHead(self, node):\n",
    "        node.next = self.head\n",
    "        node.prev = None\n",
    "        if self.head:\n",
    "            self.head.prev = node\n",
    "        if not self.tail:\n",
    "            self.tail = node\n",
    "        self.head = node\n",
    "        self.size += 1\n",
    "        \n",
    "    def remove(self, node):\n",
    "        if not node:\n",
    "            return -1\n",
    "        prev, nxt = node.prev, node.next\n",
    "        if prev:\n",
    "            prev.next = nxt\n",
    "        if nxt:\n",
    "            nxt.prev = prev\n",
    "        if node == self.head:\n",
    "            self.head = nxt\n",
    "        if node == self.tail:\n",
    "            self.tail = prev\n",
    "        self.size -= 1\n",
    "        return node\n",
    "    \n",
    "    def remove_tail(self):\n",
    "        return self.remove(self.tail)\n",
    "            \n",
    "class LFUCache:\n",
    "\n",
    "    def __init__(self, capacity: int):\n",
    "        self.capacity = capacity\n",
    "        self.min_freq = 0\n",
    "        self.cache = {}\n",
    "        self.freqTable = collections.defaultdict(DLinkedList)\n",
    "    \n",
    "    def _update(self, key, value):\n",
    "        node = self.cache[key]\n",
    "        node.val = value\n",
    "        prev_freq = node.freq\n",
    "        node.freq += 1\n",
    "        self.freqTable[prev_freq].remove(node)\n",
    "        self.freqTable[node.freq].appendHead(node)\n",
    "        if prev_freq == self.min_freq and self.freqTable[prev_freq].size == 0:\n",
    "            self.min_freq += 1\n",
    "    \n",
    "    def get(self, key: int) -> int:\n",
    "        if key not in self.cache:\n",
    "            return -1\n",
    "        self._update(key, self.cache[key].val)\n",
    "        return self.cache[key].val\n",
    "        \n",
    "    def put(self, key: int, value: int) -> None:\n",
    "        if not self.capacity:\n",
    "            return\n",
    "        if key in self.cache:\n",
    "            self._update(key, value)\n",
    "        else:\n",
    "            if len(self.cache) == self.capacity:\n",
    "                prev_tail = self.freqTable[self.min_freq].remove_tail()\n",
    "                #print(self.freqTable)\n",
    "                del self.cache[prev_tail.key]\n",
    "\n",
    "            node = Node(key, value)\n",
    "            self.freqTable[1].appendHead(node)\n",
    "            self.cache[key] = node\n",
    "            self.min_freq = 1"
   ]
  },
  {
   "cell_type": "markdown",
   "metadata": {},
   "source": [
    "\n",
    "\n",
    "### Zuma Game"
   ]
  },
  {
   "cell_type": "code",
   "execution_count": 53,
   "metadata": {},
   "outputs": [],
   "source": [
    "class Solution:\n",
    "    def findMinStep(self, board, hand):\n",
    "        hand = collections.Counter(hand)\n",
    "        res = self.dfs(board, hand)\n",
    "        return res if res < float(\"inf\") else -1\n",
    "    \n",
    "    def dfs(self, board, hand):\n",
    "        if not board:\n",
    "            return 0\n",
    "        i = j = 0\n",
    "        res = float(\"inf\")\n",
    "        while j < len(board):\n",
    "            while j < len(board) and board[j] == board[i]:\n",
    "                j += 1\n",
    "            need = 3 - min(3, j-i)\n",
    "            if hand[board[i]] >= need:\n",
    "                hand[board[i]] -= need\n",
    "                res = min(res, need+self.dfs(board[:i]+board[j:], hand))\n",
    "                hand[board[i]] += need\n",
    "            i = j\n",
    "        return res"
   ]
  },
  {
   "cell_type": "markdown",
   "metadata": {},
   "source": [
    "### Welsh Alphabets Sorting"
   ]
  },
  {
   "cell_type": "code",
   "execution_count": 73,
   "metadata": {},
   "outputs": [
    {
     "name": "stdout",
     "output_type": "stream",
     "text": [
      "['dea', 'dear', 'dd', 'ddr', 'ngah', 'nah']\n"
     ]
    }
   ],
   "source": [
    "class Word:\n",
    "    letters = [\"a\", \"b\", \"c\", \"ch\", \"d\", \"dd\", \"e\", \"f\", \"ff\", \"g\", \"ng\", \"h\", \"i\", \"l\", \"ll\",\\\n",
    "               \"m\", \"n\", \"o\", \"p\", \"ph\", \"r\", \"rh\", \"s\", \"t\", \"th\", \"u\", \"w\", \"y\"]\n",
    "    \n",
    "    store = {letter: i for i, letter in enumerate(letters)}\n",
    "    \n",
    "    def __init__(self, word):\n",
    "        self.word = word\n",
    "    \n",
    "    def __lt__(self, other):\n",
    "        i = j = 0\n",
    "        #[dd, nah]\n",
    "        while i < len(self.word) and j < len(other.word): \n",
    "            char1_is_pair = char2_is_pair = False\n",
    "            char1, char2 = self.word[i], other.word[i]\n",
    "            \n",
    "            if i+1 < len(self.word) and self.word[i:i+2] in Word.store:\n",
    "                char1 = self.word[i:i+2] dd\n",
    "                char1_is_pair = True\n",
    "                \n",
    "            if j+1 < len(other.word) and other.word[i:i+2] in Word.store: dd\n",
    "                char2 = other.word[i:i+2]\n",
    "                char2_is_pair = True\n",
    "                \n",
    "            if char1 == char2:\n",
    "                i += 1+char1_is_pair\n",
    "                j += 1+char2_is_pair\n",
    "            else:\n",
    "                return Word.store[char1] < Word.store[char2]\n",
    "        return len(self.word) < len(other.word)\n",
    "\n",
    "def welsh_alphabets(words):\n",
    "    words.sort(key=lambda x: Word(x))\n",
    "    return words\n",
    "\n",
    "words = [\"ddefr\", \"nah\", \"dear\", \"ddr\", \"dea\", \"ngah\"]\n",
    "print(welsh_alphabets(words))\n",
    " "
   ]
  },
  {
   "cell_type": "code",
   "execution_count": 72,
   "metadata": {},
   "outputs": [
    {
     "name": "stdout",
     "output_type": "stream",
     "text": [
      "['dea', 'dear', 'dd', 'ddr', 'ngah', 'nah']\n"
     ]
    }
   ],
   "source": [
    "class Word:\n",
    "    letters = [\"a\", \"b\", \"c\", \"ch\", \"d\", \"dd\", \"e\", \"f\", \"ff\", \"g\", \"ng\", \"h\", \"i\", \"l\", \"ll\",\\\n",
    "               \"m\", \"n\", \"o\", \"p\", \"ph\", \"r\", \"rh\", \"s\", \"t\", \"th\", \"u\", \"w\", \"y\"]\n",
    "    store = {letter: i for i, letter in enumerate(letters)}\n",
    "    \n",
    "    def __init__(self, word):\n",
    "        self.word = word\n",
    "        \n",
    "    def __lt__(self, other):\n",
    "        i = j = 0\n",
    "        \n",
    "        while i < len(self.word) and j < len(other.word):\n",
    "            char1_is_pair = char2_is_pair = False\n",
    "            char1 = self.word[i]\n",
    "            char2 = other.word[j]\n",
    "            \n",
    "            if i+1 < len(self.word) and self.word[i:i+2] in Word.store:\n",
    "                char1 = self.word[i:i+2]\n",
    "                char1_is_pair = True\n",
    "                \n",
    "            if j+1 < len(other.word) and other.word[j:j+2] in Word.store:\n",
    "                char2 = other.word[j:j+2]\n",
    "                char2_is_pair = True\n",
    "                \n",
    "            if char1 == char2:\n",
    "                i += 1+char1_is_pair\n",
    "                j += 1+char2_is_pair\n",
    "            else:\n",
    "                return Word.store[char1] < Word.store[char2]\n",
    "        return len(self.word) < len(other.word)\n",
    "\n",
    "def welsh(words):\n",
    "    words.sort(key=lambda x: Word(x))\n",
    "    return words\n",
    "\n",
    "words = [\"dd\", \"nah\", \"dear\", \"ddr\", \"dea\", \"ngah\"]\n",
    "print(welsh(words))"
   ]
  },
  {
   "cell_type": "markdown",
   "metadata": {},
   "source": [
    "### Josephus Problem"
   ]
  },
  {
   "cell_type": "code",
   "execution_count": 64,
   "metadata": {},
   "outputs": [
    {
     "name": "stdout",
     "output_type": "stream",
     "text": [
      "5\n"
     ]
    }
   ],
   "source": [
    "def josephus(num, k):\n",
    "    if num == 1:\n",
    "        return 1\n",
    "    return (josephus(num-1, k) + k) % num\n",
    "\n",
    "print(josephus(6, 4))"
   ]
  },
  {
   "cell_type": "code",
   "execution_count": 1,
   "metadata": {},
   "outputs": [],
   "source": [
    "#Merge Intervals\n",
    "#Meeting room I"
   ]
  },
  {
   "cell_type": "markdown",
   "metadata": {},
   "source": [
    "### Meeting Rooms II"
   ]
  },
  {
   "cell_type": "code",
   "execution_count": 67,
   "metadata": {},
   "outputs": [],
   "source": [
    "class Solution:\n",
    "    def minMeetingRooms(self, intervals):\n",
    "        if not intervals:\n",
    "            return 0\n",
    "\n",
    "        free_rooms = []\n",
    "\n",
    "        intervals.sort(key= lambda x: x[0])\n",
    "\n",
    "        # Add the first meeting. We have to give a new room to the first meeting.\n",
    "        heapq.heappush(free_rooms, intervals[0][1])\n",
    "\n",
    "        for i in intervals[1:]:\n",
    "\n",
    "            if free_rooms[0] <= i[0]:\n",
    "                heapq.heappop(free_rooms)\n",
    "            heapq.heappush(free_rooms, i[1])\n",
    "        return len(free_rooms)"
   ]
  },
  {
   "cell_type": "markdown",
   "metadata": {},
   "source": [
    "### Kill Process"
   ]
  },
  {
   "cell_type": "code",
   "execution_count": 68,
   "metadata": {},
   "outputs": [],
   "source": [
    "class Solution:\n",
    "    def killProcess(self, pid, ppid, kill):\n",
    "        graph = collections.defaultdict(list)\n",
    "        for i in range(len(pid)):\n",
    "            if ppid[i]:\n",
    "                graph[ppid[i]].append(pid[i])\n",
    "        \n",
    "        res = []\n",
    "        queue = collections.deque([kill])\n",
    "        \n",
    "        seen = set()\n",
    "        while queue:\n",
    "            node = queue.popleft()\n",
    "            res.append(node)\n",
    "            for neigh in graph[node]:\n",
    "                if neigh not in seen:\n",
    "                    seen.add(neigh)\n",
    "                    queue.append(neigh)\n",
    "        return res"
   ]
  },
  {
   "cell_type": "markdown",
   "metadata": {},
   "source": [
    "### Largest Rectangle in Histogram"
   ]
  },
  {
   "cell_type": "code",
   "execution_count": 69,
   "metadata": {},
   "outputs": [],
   "source": [
    "class Solution:\n",
    "    def largestRectangleArea(self, heights):\n",
    "        heights.append(0)\n",
    "        res = 0\n",
    "        stack = [-1]\n",
    "        for i, height in enumerate(heights):\n",
    "            while height < heights[stack[-1]]:\n",
    "                bar = heights[stack.pop()]\n",
    "                width = i-stack[-1]-1\n",
    "                res = max(res, bar*width)\n",
    "            stack.append(i)\n",
    "        return res"
   ]
  },
  {
   "cell_type": "code",
   "execution_count": 70,
   "metadata": {},
   "outputs": [],
   "source": [
    "class Solution(object):\n",
    "    def largestRectangleArea(self, heights):\n",
    "        \"\"\"\n",
    "        :type heights: List[int]\n",
    "        :rtype: int\n",
    "        \"\"\"\n",
    "        max_area, st = 0, []\n",
    "        for idx,x in enumerate(heights):\n",
    "            if len(st) == 0:\n",
    "                st.append(idx)\n",
    "            elif x >= heights[st[-1]]:\n",
    "                st.append(idx)\n",
    "            else:\n",
    "                while st and heights[st[-1]] > x:\n",
    "   \n",
    "                    min_height = heights[st.pop()] \n",
    "                    max_area = max(max_area, min_height*(idx-1-st[-1])) if st else max(max_area, min_height*idx)\n",
    "                st.append(idx)\n",
    "        while st:\n",
    "            min_height = heights[st.pop()] \n",
    "            max_area = max(max_area, min_height*(len(heights)-1-st[-1])) if st else max(max_area, min_height*len(heights))\n",
    "        return max_area"
   ]
  },
  {
   "cell_type": "markdown",
   "metadata": {},
   "source": [
    "### Candy Crush 2D"
   ]
  },
  {
   "cell_type": "code",
   "execution_count": 71,
   "metadata": {},
   "outputs": [],
   "source": [
    "class Solution:\n",
    "    def candyCrush(self, board):\n",
    "        row, col  = len(board), len(board[0])\n",
    "        \n",
    "        def crush():\n",
    "            crushed = False\n",
    "            for i in range(row):\n",
    "                for j in range(col):\n",
    "                    x = board[i][j]\n",
    "                    if x == 0:\n",
    "                        continue\n",
    "                    \n",
    "                    if i < row-2 and abs(x) == abs(board[i+1][j]) == abs(board[i+2][j]):\n",
    "                        board[i][j] = board[i+1][j] = board[i+2][j] = -abs(x)\n",
    "                    \n",
    "                    if j < col-2 and abs(x) == abs(board[i][j+1]) == abs(board[i][j+2]):\n",
    "                        board[i][j] = board[i][j+1] = board[i][j+2] = -abs(x)\n",
    "                        \n",
    "                    if board[i][j] < 0:\n",
    "                        board[i][j] = 0\n",
    "                        crushed = True\n",
    "            return crushed\n",
    "        \n",
    "        def drop():\n",
    "            for j in range(col):\n",
    "                read = write = row-1\n",
    "            \n",
    "                while read >= 0:\n",
    "                    if board[read][j] != 0:\n",
    "                        board[write][j] = board[read][j]\n",
    "                        write -= 1\n",
    "                    read -= 1\n",
    "                \n",
    "                while write >= 0:\n",
    "                    board[write][j] = 0\n",
    "                    write -= 1\n",
    "        while crush():\n",
    "            drop()\n",
    "        return boardclass Solution:\n",
    "    def candyCrush(self, board):\n",
    "        row, col  = len(board), len(board[0])\n",
    "        \n",
    "        def crush():\n",
    "            crushed = False\n",
    "            for i in range(row):\n",
    "                for j in range(col):\n",
    "                    x = board[i][j]\n",
    "                    if x == 0:\n",
    "                        continue\n",
    "                    \n",
    "                    if i < row-2 and abs(x) == abs(board[i+1][j]) == abs(board[i+2][j]):\n",
    "                        board[i][j] = board[i+1][j] = board[i+2][j] = -abs(x)\n",
    "                    \n",
    "                    if j < col-2 and abs(x) == abs(board[i][j+1]) == abs(board[i][j+2]):\n",
    "                        board[i][j] = board[i][j+1] = board[i][j+2] = -abs(x)\n",
    "                        \n",
    "                    if board[i][j] < 0:\n",
    "                        board[i][j] = 0\n",
    "                        crushed = True\n",
    "            return crushed\n",
    "        \n",
    "        def drop():\n",
    "            for j in range(col):\n",
    "                read = write = row-1\n",
    "            \n",
    "                while read >= 0:\n",
    "                    if board[read][j] != 0:\n",
    "                        board[write][j] = board[read][j]\n",
    "                        write -= 1\n",
    "                    read -= 1\n",
    "                \n",
    "                while write >= 0:\n",
    "                    board[write][j] = 0\n",
    "                    write -= 1\n",
    "        while crush():\n",
    "            drop()\n",
    "        return board"
   ]
  },
  {
   "cell_type": "code",
   "execution_count": 5,
   "metadata": {},
   "outputs": [],
   "source": [
    "from collections import deque\n",
    "\n",
    "class Stocks:\n",
    "    def _init_(self):\n",
    "        self.stocks = {}\n",
    "        # end is most recently used, start is least recently used\n",
    "        self.freq_bins = {}\n",
    "        self.max_freq = 0\n",
    "\n",
    "    def processStock(self, stock):\n",
    "        # if stock not in cache, add it to the stock list and to the freq_bin\n",
    "        if stock not in self.stocks: \n",
    "          self.stocks[stock] = 1\n",
    "          self.freq_bins[1] = self.freq_bins.get(1, deque())\n",
    "          self.freq_bins[1].append(stock)\n",
    "\n",
    "\n",
    "          if self.max_freq == 0: self.max_freq += 1\n",
    "\n",
    "        # if stock in cache\n",
    "        else:  \n",
    "          # update the freq in the cache\n",
    "          freq = self.stocks[stock]\n",
    "          self.stocks[stock] = freq + 1\n",
    "          \n",
    "\n",
    "          # move the stock to the next freq bin\n",
    "          self.freq_bins[freq].remove(stock)\n",
    "          \n",
    "          self.freq_bins[freq+1] = self.freq_bins.get(freq+1, deque())\n",
    "          self.freq_bins[freq+1].append(stock)\n",
    "          \n",
    "          # update max if necessary\n",
    "          if freq + 1 > self.max_freq:\n",
    "            self.max_freq += 1\n",
    "                \n",
    "        \n",
    "    def decrementTrendingStock(self):\n",
    "      # find max freq stock\n",
    "      max_freq_most_recent_stock = self.freq_bins[self.max_freq].pop()\n",
    "\n",
    "      # update val in stocks list\n",
    "      self.stocks[max_freq_most_recent_stock] -= 1\n",
    "\n",
    "      # move to different freq_bin  \n",
    "      self.freq_bins[self.max_freq - 1].append(max_freq_most_recent_stock)\n",
    "\n",
    "      # update max_freq if necessary\n",
    "      if len(self.freq_bins[self.max_freq]) == 0:\n",
    "        self.max_freq -= 1"
   ]
  },
  {
   "cell_type": "markdown",
   "metadata": {},
   "source": [
    "### Largest Rectangle in a Histogram"
   ]
  },
  {
   "cell_type": "code",
   "execution_count": 6,
   "metadata": {},
   "outputs": [],
   "source": [
    "class Solution:\n",
    "    def largestRectangleArea(self, heights):\n",
    "        stack = [-1]\n",
    "        heights.append(0)\n",
    "        res = 0\n",
    "        for i in range(len(heights)):\n",
    "            while heights[i] < heights[stack[-1]]:\n",
    "                h = heights[stack.pop()]\n",
    "                w = i - stack[-1]-1\n",
    "                res = max(res, h*w)\n",
    "            stack.append(i)\n",
    "        return res"
   ]
  },
  {
   "cell_type": "markdown",
   "metadata": {},
   "source": [
    "### Currency Exchange"
   ]
  },
  {
   "cell_type": "code",
   "execution_count": 6,
   "metadata": {},
   "outputs": [
    {
     "name": "stdout",
     "output_type": "stream",
     "text": [
      "{'eurusd': 1.4, 'eurgbp': 1.3, 'usdgbp': 0.8}\n"
     ]
    }
   ],
   "source": [
    "class Exchange:\n",
    "    def __init__(self):\n",
    "        self.banks = {}\n",
    "        self.currency_average = {}\n",
    "        self.output = {}\n",
    "        \n",
    "    def add_pair(self, string):\n",
    "        bank, currency_pair, rate = string.split(\"|\")\n",
    "        rate = float(rate)\n",
    "        if bank not in self.banks:\n",
    "            self.banks[bank] = {}\n",
    "\n",
    "        if currency_pair in self.banks[bank]:\n",
    "            prev = self.banks[bank][currency_pair]\n",
    "            self.banks[bank][currency_pair] = rate\n",
    "            self.currency_average[currency_pair][0] -= rate-prev\n",
    "            \n",
    "        else:\n",
    "            self.banks[bank][currency_pair] = rate\n",
    "            \n",
    "            if currency_pair not in self.currency_average:\n",
    "                self.currency_average[currency_pair] = [0, 0]\n",
    "                \n",
    "            self.currency_average[currency_pair][0] += rate\n",
    "            self.currency_average[currency_pair][1] += 1\n",
    "        \n",
    "        total, num = self.currency_average[currency_pair]\n",
    "        self.output[currency_pair] = round(total / num, 1)\n",
    "    \n",
    "    def get_average(self):\n",
    "        return self.output\n",
    "    \n",
    "    \n",
    "class Exchange:\n",
    "    \n",
    "    def __init__(self):\n",
    "        self.bank = {}\n",
    "        self.average = {}\n",
    "        self.currency = {}\n",
    "        \n",
    "    def add_pair(self, string):\n",
    "        bank, cur_pair, rate = string.split(\"|\")\n",
    "        rate = float(rate)\n",
    "        if bank not in self.bank:\n",
    "            self.bank[bank] = {}\n",
    "            \n",
    "        if cur_pair in self.bank[bank]:\n",
    "            former_rate = self.bank[bank][cur_pair]\n",
    "            self.currency[cur_pair][0] -= former_rate\n",
    "            self.currency[cur_pair][1] -= 1\n",
    "            \n",
    "        self.bank[bank][cur_pair] = rate\n",
    "        if cur_pair not in self.currency:\n",
    "            self.currency[cur_pair] = [0, 0]\n",
    "        self.currency[cur_pair][0] += rate\n",
    "        self.currency[cur_pair][1] += 1\n",
    "        \n",
    "        curs, count = self.currency[cur_pair]\n",
    "        self.average[cur_pair] = round(curs / count, 2)\n",
    "        \n",
    "    def get_average(self):\n",
    "        return self.average\n",
    "        \n",
    "    \n",
    "obj = Exchange()\n",
    "strings = [\"1|eurusd|1.3\", \"2|eurgbp|1.1\", \"3|usdgbp|0.8\", \"2|eurusd|1.2\", \"3|eurusd|1.5\", \"2|eurgbp|1.3\", \"1|eurusd|1.5\"]\n",
    "for string in strings:\n",
    "    obj.add_pair(string)\n",
    "print(obj.get_average())"
   ]
  },
  {
   "cell_type": "raw",
   "metadata": {},
   "source": [
    "boundary: [1, 4, 8, 12, 16, 19, 21, 23]\n",
    "\n",
    "\n",
    "[(2,6), (3, 8), (10, 15)\n",
    "\n",
    "[2,3,5,6,7,97,5,3]\n",
    "                             |\n",
    "         \n",
    "vals : [1,2,3,4,5,6,7,8,9,10, 12,14, 18, 22]\n",
    "        \t\t\t                          |\n",
    "                                     |\n",
    "\n",
    "\n",
    "ans: [3, 4, 3, 2, 1, 0, 1]\n",
    "\n",
    "\n",
    "\n",
    "\n",
    "class TopK:\n",
    "\n",
    "\tdef __init__(self):\n",
    "  \tself.datastore = [ \n",
    "    \n",
    "  def addStock(stock_name, val):\n",
    "    self.datastor.append(stock_name)\n",
    "  \tsorted(self.datastore)\n",
    "    \n",
    "  def getTopK(k):\n",
    "  \treturn self.datastore[-k:]\n",
    "    \n",
    "    [ (c, 5), (d, 6), (a, 9), (b, 12), (f, 90)]\n"
   ]
  },
  {
   "cell_type": "markdown",
   "metadata": {},
   "source": [
    "### Top K traded stock"
   ]
  },
  {
   "cell_type": "code",
   "execution_count": 1,
   "metadata": {},
   "outputs": [],
   "source": [
    "from collections import defaultdict\n",
    "class Leaderboard:\n",
    "\n",
    "    def __init__(self):\n",
    "        self.store = defaultdict(int)\n",
    "\n",
    "    def addScore(self, playerId, score):\n",
    "        self.store[playerId] += score\n",
    "\n",
    "    def top(self, K):\n",
    "        heap = []\n",
    "        for key, value in self.store.items():\n",
    "            heapq.heappush(heap, (value))\n",
    "            if len(heap) > K:\n",
    "                heapq.heappop(heap)\n",
    "        \n",
    "        return sum(heap)\n",
    "\n",
    "    def reset(self, playerId):\n",
    "        del self.store[playerId]\n",
    "\n",
    "\n",
    "# Your Leaderboard object will be instantiated and called as such:\n",
    "# obj = Leaderboard()\n",
    "# obj.addScore(playerId,score)\n",
    "# param_2 = obj.top(K)\n",
    "# obj.reset(playerId)"
   ]
  },
  {
   "cell_type": "markdown",
   "metadata": {},
   "source": [
    "### Invalid Transactions"
   ]
  },
  {
   "cell_type": "code",
   "execution_count": 3,
   "metadata": {},
   "outputs": [],
   "source": [
    "from collections import defaultdict\n",
    "\n",
    "class Solution:\n",
    "    def invalidTransactions(self, transactions):\n",
    "        transactions = [t.split(\",\") for t in transactions]\n",
    "        transactions = sorted(transactions, key=lambda x: int(x[1]))\n",
    "        \n",
    "        store = defaultdict(list)\n",
    "        res = []\n",
    "        \n",
    "        for i, elem in enumerate(transactions):\n",
    "            name, time, amount, city = elem\n",
    "            time, amount = int(time), int(amount)\n",
    "            \n",
    "            if amount > 1000:\n",
    "                res.append(i)\n",
    "                \n",
    "            if name in store:\n",
    "                idx = len(store[name])-1\n",
    "                \n",
    "                while idx >= 0 and time - int(transactions[store[name][idx]][1]) <= 60:\n",
    "                    index = store[name][idx]\n",
    "                    if transactions[index][3] != city:\n",
    "                        res.append(index)\n",
    "                        res.append(i)\n",
    "                    idx -= 1\n",
    "            store[name].append(i)\n",
    "        return [\",\".join(transactions[i]) for i in set(res)]\n",
    "                    "
   ]
  },
  {
   "cell_type": "code",
   "execution_count": 13,
   "metadata": {},
   "outputs": [
    {
     "name": "stdout",
     "output_type": "stream",
     "text": [
      "{'eurusd': 1.4, 'eurgbp': 1.3, 'usdgbp': 0.8}\n"
     ]
    }
   ],
   "source": [
    "class Exchange:\n",
    "    \n",
    "    def __init__(self):\n",
    "        self.bank = {bank : { cur_pair: rate}}\n",
    "        self.average = {}\n",
    "        self.currency = {cur_pair: [total_cur_pair, num]}\n",
    "        \n",
    "    def add_pair(self, string):\n",
    "        bank, cur_pair, rate = string.split(\"|\")\n",
    "        rate = float(rate)\n",
    "        if bank not in self.bank:\n",
    "            self.bank[bank] = {}\n",
    "            \n",
    "        if cur_pair in self.bank[bank]:\n",
    "            former_rate = self.bank[bank][cur_pair]\n",
    "            self.currency[cur_pair][0] -= former_rate\n",
    "            self.currency[cur_pair][1] -= 1\n",
    "            \n",
    "        self.bank[bank][cur_pair] = rate\n",
    "        if cur_pair not in self.currency:\n",
    "            self.currency[cur_pair] = [0, 0]\n",
    "        self.currency[cur_pair][0] += rate\n",
    "        self.currency[cur_pair][1] += 1\n",
    "        \n",
    "        cursrate, count = self.currency[cur_pair]\n",
    "        self.average[cur_pair] = round(cursrate / count, 2)\n",
    "        \n",
    "    def get_average(self):\n",
    "        return self.average\n",
    "    \"\"\"\n",
    "    bank = {1:{eurusd:1.5}, 2:{eurusd:1.2},2:{eurusd:1.5}}\n",
    "    bank,currPair,rate = 1,eurusd,1.5\n",
    "    currency = {eurusd: [6.8,3],}\n",
    "    curs,count = 2.6,3\n",
    "\n",
    "    average = {eurusd: 2.23}\n",
    "\n",
    "    strings = [\"1|eurusd|1.3\", \"1|eurusd|1.4\", \"2|eurgbp|1.1\", \"3|usdgbp|0.8\", \"2|eurusd|1.2\", \"3|eurusd|1.5\", \"2|eurgbp|1.3\", \"1|eurusd|1.5\"]\n",
    "    \"\"\"\n",
    "    \"\"\"\n",
    "    Question summary\n",
    "    1. Given a list of strings of banks, currPair and exchage rate:\n",
    "    Design a class with the the following functions:\n",
    "    - \"add currencty pair\"(if currency exist, increment exisiting rate and count else add new curPair)\n",
    "    - get average of of all currency pair (return type: list or dict)-------> hint(average = totalRate/currFreq)\n",
    "    \"\"\"\n",
    "obj = Exchange()\n",
    "strings = [\"1|eurusd|1.3\", \"1|eurusd|1.4\", \"2|eurgbp|1.1\", \"3|usdgbp|0.8\", \"2|eurusd|1.2\", \"3|eurusd|1.5\", \"2|eurgbp|1.3\", \"1|eurusd|1.5\"]\n",
    "for string in strings:\n",
    "    obj.add_pair(string)\n",
    "print(obj.get_average())\n"
   ]
  },
  {
   "cell_type": "markdown",
   "metadata": {},
   "source": [
    "### Chopped Average"
   ]
  },
  {
   "cell_type": "code",
   "execution_count": null,
   "metadata": {},
   "outputs": [],
   "source": []
  }
 ],
 "metadata": {
  "kernelspec": {
   "display_name": "Python 3",
   "language": "python",
   "name": "python3"
  },
  "language_info": {
   "codemirror_mode": {
    "name": "ipython",
    "version": 3
   },
   "file_extension": ".py",
   "mimetype": "text/x-python",
   "name": "python",
   "nbconvert_exporter": "python",
   "pygments_lexer": "ipython3",
   "version": "3.8.0"
  }
 },
 "nbformat": 4,
 "nbformat_minor": 4
}
