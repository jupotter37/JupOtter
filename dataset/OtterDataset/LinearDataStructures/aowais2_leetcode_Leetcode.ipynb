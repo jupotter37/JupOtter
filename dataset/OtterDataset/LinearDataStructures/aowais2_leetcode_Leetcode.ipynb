{
  "nbformat": 4,
  "nbformat_minor": 0,
  "metadata": {
    "colab": {
      "provenance": [],
      "toc_visible": true,
      "authorship_tag": "ABX9TyPyr/yqvTK43KxYHy/ie9mR",
      "include_colab_link": true
    },
    "kernelspec": {
      "name": "python3",
      "display_name": "Python 3"
    },
    "language_info": {
      "name": "python"
    }
  },
  "cells": [
    {
      "cell_type": "markdown",
      "metadata": {
        "id": "view-in-github",
        "colab_type": "text"
      },
      "source": [
        "<a href=\"https://colab.research.google.com/github/aowais2/leetcode/blob/main/Leetcode.ipynb\" target=\"_parent\"><img src=\"https://colab.research.google.com/assets/colab-badge.svg\" alt=\"Open In Colab\"/></a>"
      ]
    },
    {
      "cell_type": "markdown",
      "source": [
        "# Notes"
      ],
      "metadata": {
        "id": "lfWetmia8Wjw"
      }
    },
    {
      "cell_type": "markdown",
      "source": [
        "**To-Do**\n",
        "\n",
        "* Graphs, Bipartite graphs\n",
        "* Trees, tries\n",
        "* Backtracking\n",
        "* Sort\n",
        "* Djikstra\n",
        "* A*\n",
        "* Heaps\n",
        "* Greedy\n",
        "* Intervals\n"
      ],
      "metadata": {
        "id": "WE52QcO3_GCT"
      }
    },
    {
      "cell_type": "markdown",
      "source": [
        "\n",
        "*   Python Concepts: Decorators, Polymorphism, Abstraction, Overloading, Walrus Operators, abstract class, lambda functions, Call by value, ref, object ref\n",
        "*  Data Structures: Stack, Q, Heap, Arrays and Hash maps, Graphs (Bipartite), Stacks, Linked Lists, (Tree, Tries)\n",
        "*  Algorithms: Sort, Search (Binary), DP (memoization, tabulation), DFS/BFS, Recursion, Two Pointers, Sliding Windows, Backtracking, Greedy, Intervals, Math and Geometry\n",
        "*  Systems Design: Design Patterns"
      ],
      "metadata": {
        "id": "XRCC_whD-7rX"
      }
    },
    {
      "cell_type": "markdown",
      "source": [
        "**Patterns Observed**\n",
        "\n",
        "* Traversing through 1-D arrays or strings is best done through Hash maps, Hash sets\n",
        "* For calculating areas or traversing through 1-D arrays, two pointers are a good option\n",
        "* Graph search using DFS/BFS: Good for checking 2-D structures with neighbors/layers adjacent to a starting point\n",
        "  * Building Relationships into vertices with edges\n",
        "* Break down a problem by creating a decision tree of the algorithm"
      ],
      "metadata": {
        "id": "UgzODXa26hU1"
      }
    },
    {
      "cell_type": "markdown",
      "source": [
        "**Graphs/BFS/DFS methodology**\n",
        "- Usually, the task involves searching/traversing a graph\n",
        "  - This is normally done through BFS/DFS\n",
        "- Graphs in general, and BFS and DFS specifically usually have the following similarities:\n",
        "  - A base case that returns true/false that serves as a way to end the search\n",
        "  - At least one hash-set (seen/visited)\n",
        "  - Additionally, to detect a graph loop or cyclic behavior, a cycle  hash set\n",
        "    - We need to carefully control what is added or removed from these sets\n",
        "  - Usually, a hash map (adjacency list/dictionary) with key as base node and value as a list of adjacent vertices/nodes\n",
        "  - A recursive function at the end that checks adjacent units (up, down, right, left, therefore: (r+1,c),(r-1,c),(r,c-1),(r,c+1))\n",
        "\n",
        "Depth-First Search (DFS):\n",
        "\n",
        "- Starting Point: Begin at the root (or an arbitrary node in the case of graphs).\n",
        "\n",
        "- Exploration: Traverse as far down a branch as possible before backtracking.\n",
        "\n",
        "- Backtracking: If a node has no unvisited children, backtrack to its parent.\n",
        "\n",
        "- Visited Nodes: Mark each node as visited when you explore it to avoid cycles.\n",
        "\n",
        "- Stack Structure: Use a stack (either implicit via recursion or explicit) to manage the nodes.\n",
        "\n",
        "Breadth-First Search (BFS):\n",
        "\n",
        "- Starting Point: Start at the root (or an arbitrary node in the case of graphs).\n",
        "\n",
        "- Exploration: Traverse all neighbors at the present depth level before moving to nodes at the next depth level.\n",
        "\n",
        "- Queue Structure: Use a queue to keep track of nodes to be explored.\n",
        "\n",
        "- Visited Nodes: Mark nodes as visited when you enqueue them to avoid cycles.\n",
        "\n",
        "- Layer-by-Layer: Process nodes layer by layer, ensuring each layer is fully explored before moving deeper."
      ],
      "metadata": {
        "id": "N20KjyBKOFzH"
      }
    },
    {
      "cell_type": "markdown",
      "source": [
        "**Backtracking**\n",
        "\n",
        "Used to find all permutations/combinations\n",
        "\n",
        "Strategy:\n",
        "\n",
        "- Goal Reached? : Add solution to result\n",
        "- for i in ALL_CHOICES:\n",
        "  - make choice [i]\n",
        "  - backtrack [result, args]\n",
        "  - undo choices [i]"
      ],
      "metadata": {
        "id": "mJSQPUFRlD5r"
      }
    },
    {
      "cell_type": "markdown",
      "source": [
        "If the input array is sorted then\n",
        " - Binary search\n",
        " - Two pointers\n",
        "\n",
        "If asked for all permutations/subsets then\n",
        " - Backtracking\n",
        "\n",
        "If given a tree then\n",
        " - DFS\n",
        " - BFS\n",
        "\n",
        "If given a graph then\n",
        " - DFS\n",
        " - BFS\n",
        "\n",
        "If given a linked list then\n",
        " - Two pointers\n",
        "\n",
        "If recursion is banned then\n",
        " - Stack\n",
        "\n",
        "If must solve in-place then\n",
        " - Swap corresponding values\n",
        " - Store one or more different values in the same pointer\n",
        "\n",
        "If asked for maximum/minimum subarray/ subset/options then\n",
        " - Dynamic programming\n",
        "\n",
        "If asked for top/least K items then\n",
        " - Heap\n",
        " - QuickSelect\n",
        "\n",
        "If asked for common strings then\n",
        " - Map\n",
        " - Trie\n",
        "\n",
        "Else\n",
        " - Map/Set for O(1) time & O(n) space\n",
        " - Sort input for O(nlogn) time and O(1) space\n",
        "\n"
      ],
      "metadata": {
        "id": "k0N7sXpb6bfE"
      }
    },
    {
      "cell_type": "markdown",
      "source": [
        " UMPIRE (Understand(clarify with questions, happy case), Match(match to known pattern, known techniques), Plan(Pseudocode, think of edge cases), Implement(write code), Review(walk through the code like you were debugging), Evaluate(discuss Time/Space complexity)."
      ],
      "metadata": {
        "id": "ulVflhhYgre_"
      }
    },
    {
      "cell_type": "markdown",
      "source": [
        "**Graphs**\n",
        "\n",
        "200 \tMedium \tNumber of Islands\n",
        "\n",
        "133 \tMedium \tClone Graph\n",
        "\n",
        "695 \tMedium \tMax Area of Island\n",
        "\n",
        "417 \tMedium \tPacific Atlantic Water Flow\n",
        "\n",
        "130 \tMedium \tSurrounded Regions\n",
        "\n",
        "994 \tMedium \tRotting Oranges\n",
        "\n",
        "286 \tMedium \tWalls and Gates\n",
        "\n",
        "207 \tMedium \t*Course Schedule*\n",
        "\n",
        "210 \tMedium \t*Course Schedule II*\n",
        "\n",
        "684 \tMedium \tRedundant Connection\n",
        "\n",
        "323 \tMedium \tNumber of Connected Components In An Undirected Graph\n",
        "\n",
        "261 \tMedium \tGraph Valid Tree\n",
        "\n",
        "127 \tHard \tWord Ladder\n",
        "\n",
        "**Advanced Graphs**\n",
        "\n",
        "332 \tHard \tReconstruct Itinerary\n",
        "\n",
        "1584 \tMedium \tMin Cost to Connect All Points\n",
        "\n",
        "743 \tMedium \tNetwork Delay Time\n",
        "\n",
        "778 \tHard \tSwim in Rising Water\n",
        "\n",
        "269 \tHard \tAlien Dictionary\n",
        "\n",
        "787 \tMedium \t*Cheapest Flights Within K Stops*\n",
        "\n",
        "**1-D Dynamic Programming**\n",
        "\n",
        "70 \tEasy \tClimbing Stairs\n",
        "\n",
        "746 \tEasy \tMin Cost Climbing Stairs\n",
        "\n",
        "198 \tMedium \tHouse Robber\n",
        "\n",
        "213 \tMedium \tHouse Robber II\n",
        "\n",
        "5 \tMedium \tLongest Palindromic Substring\n",
        "\n",
        "647 \tMedium \tPalindromic Substrings\n",
        "\n",
        "91 \tMedium \tDecode Ways\n",
        "\n",
        "322 \tMedium \tCoin Change\n",
        "\n",
        "152 \tMedium \tMaximum Product Subarray\n",
        "\n",
        "139 \tMedium \tWord Break\n",
        "\n",
        "300 \tMedium \tLongest Increasing Subsequence\n",
        "\n",
        "416 \tMedium \tPartition Equal Subset Sum\n",
        "\n",
        "\n",
        "**2-D Dynamic Programing**\n",
        "\n",
        "62 \tMedium \tUnique Paths\n",
        "\n",
        "1143 \tMedium \tLongest Common Subsequence\n",
        "\n",
        "309 \tMedium \tBest Time to Buy and Sell Stock with Cooldown\n",
        "\n",
        "518 \tMedium \tCoin Change II\n",
        "\n",
        "494 \tMedium \tTarget Sum\n",
        "\n",
        "97 \tMedium \tInterleaving String\n",
        "\n",
        "329 \tHard \tLongest Increasing Path in a Matrix\n",
        "\n",
        "115 \tHard \tDistinct Subsequences\n",
        "\n",
        "72 \tHard \tEdit Distance\n",
        "\n",
        "312 \tHard \tBurst Balloons\n",
        "\n",
        "10 \tHard \tRegular Expression Matching\n",
        "\n",
        "\n",
        "**Backtracking**\n",
        "\n",
        "78 \tMedium  Subsets \tC++ • Python • Rust\n",
        "\n",
        "39 \tMedium \tCombination Sum \tC++ • Python • Rust\n",
        "\n",
        "46 \tMedium \tPermutations \tC++ • Python • Rust\n",
        "\n",
        "90 \tMedium \tSubsets II \tC++ • Python • Rust\n",
        "\n",
        "40 \tMedium \tCombination Sum II \tC++ • Python • Rust\n",
        "\n",
        "79 \tMedium \tWord Search \tC++ • Python • Rust\n",
        "\n",
        "131 \tMedium \tPalindrome Partitioning \tC++ • Python • Rust\n",
        "\n",
        "17 \tMedium \tLetter Combinations of a Phone Number \tC++ • Python • Rust\n",
        "\n",
        "51 \tHard \tN-Queens \tC++ • Python • Rust\n",
        "\n",
        "\n",
        "    Big-O analysis of run-time complexity for known or created algorithms.\n",
        "\n",
        "    Sorting: Know at least one n*log(n) sorting algorithm, preferably two (ex, quicksort and mergesort)\n",
        "\n",
        "    Hashtables and heaps\n",
        "\n",
        "    Trees Implementation: Binary trees, n-ary trees, and trie-trees. Balanced binary tree, whether it's a red/black tree, a splay tree or an AVL tree\n",
        "\n",
        "https://leetracer.com/screener\n",
        "\n",
        "https://github.com/mdmzfzl/NeetCode-Solutions"
      ],
      "metadata": {
        "id": "KTnTtT0_EHuV"
      }
    },
    {
      "cell_type": "markdown",
      "source": [
        "# Arrays and Hashing"
      ],
      "metadata": {
        "id": "khO7gnRYnnYP"
      }
    },
    {
      "cell_type": "markdown",
      "source": [
        "## Contains Dupicates\n",
        "\n",
        "Given an integer array nums, return true if any value appears at least twice in the array, and return false if every element is distinct.\n",
        "\n",
        "Example 1:\n",
        "Input: nums = [1,2,3,1]\n",
        "Output: true\n",
        "\n",
        "Example 2:\n",
        "Input: nums = [1,2,3,4]\n",
        "Output: false\n",
        "\n",
        "Example 3:\n",
        "Input: nums = [1,1,1,3,3,4,3,2,4,2]\n",
        "Output: true"
      ],
      "metadata": {
        "id": "uSPAiS5JnvZW"
      }
    },
    {
      "cell_type": "code",
      "source": [
        "\"\"\" Build a set, check if new value is in set\"\"\"\n",
        "class Duplicates:\n",
        "    def containsDuplicate(self, nums: list[int]) -> bool:\n",
        "      unique_values = set()\n",
        "      for num in nums:\n",
        "        if num in unique_values:\n",
        "          return True\n",
        "        unique_values.add(num)\n",
        "      return False"
      ],
      "metadata": {
        "id": "od__pOxon8ej"
      },
      "execution_count": null,
      "outputs": []
    },
    {
      "cell_type": "code",
      "source": [
        "# Create a set of unique values\n",
        "# If another occurrence of values in the set occurs, there is a duplicate\n",
        "\n",
        "nums = [1,1,1,3,3,4,3,2,4,2]\n",
        "dup = Duplicates()\n",
        "dup.containsDuplicate(nums)"
      ],
      "metadata": {
        "colab": {
          "base_uri": "https://localhost:8080/"
        },
        "id": "DVxiYcirsPE0",
        "outputId": "e0b12826-8935-4f9f-efbb-a816260db6bc"
      },
      "execution_count": null,
      "outputs": [
        {
          "output_type": "execute_result",
          "data": {
            "text/plain": [
              "True"
            ]
          },
          "metadata": {},
          "execution_count": 32
        }
      ]
    },
    {
      "cell_type": "markdown",
      "source": [
        "## Valid Anagram\n",
        "\n",
        "Given two strings s and t, return true if t is an anagram of s, and false otherwise.\n",
        "\n",
        "An Anagram is a word or phrase formed by rearranging the letters of a different word or phrase, typically using all the original letters exactly once.\n",
        "\n",
        "Example 1:\n",
        "\n",
        "Input: s = \"anagram\", t = \"nagaram\"\n",
        "Output: true\n",
        "\n",
        "Example 2:\n",
        "Input: s = \"rat\", t = \"car\"\n",
        "Output: false"
      ],
      "metadata": {
        "id": "99a6z4EEszau"
      }
    },
    {
      "cell_type": "code",
      "source": [
        "class Solution:\n",
        "    def isAnagram(self, s: str, t: str) -> bool:\n",
        "      if len(s) != len(t):\n",
        "        return False\n",
        "      s_dict = {}\n",
        "      for letter in s:\n",
        "        s_dict[letter] = s_dict.get(letter , 0) + 1\n",
        "      print(s_dict)\n",
        "\n",
        "      for char in t:\n",
        "        if char not in s_dict or s_dict[char] == 0:\n",
        "          return False\n",
        "        s_dict[char] -= 1\n",
        "\n",
        "      return True\n"
      ],
      "metadata": {
        "id": "vXf4JC8wvPEl"
      },
      "execution_count": null,
      "outputs": []
    },
    {
      "cell_type": "code",
      "source": [
        "s = \"rut\"\n",
        "t = \"tue\"\n",
        "\n",
        "# Length of the 2 str should be the same\n",
        "# Find freq of occurrence of each char in one str using get() and save in dict\n",
        "# Check if freq is same in the other str by subtracting every char occurrence\n",
        "# from the freq in dict\n",
        "\n",
        "sltn = Solution()\n",
        "sltn.isAnagram(s,t)"
      ],
      "metadata": {
        "colab": {
          "base_uri": "https://localhost:8080/"
        },
        "id": "3X1tdAbmwCt5",
        "outputId": "39654ea8-bd97-4dc8-be58-c5db5a1408ef"
      },
      "execution_count": null,
      "outputs": [
        {
          "output_type": "stream",
          "name": "stdout",
          "text": [
            "{'r': 1, 'u': 1, 't': 1}\n"
          ]
        },
        {
          "output_type": "execute_result",
          "data": {
            "text/plain": [
              "False"
            ]
          },
          "metadata": {},
          "execution_count": 5
        }
      ]
    },
    {
      "cell_type": "code",
      "source": [
        "dct = {}\n",
        "letters = \"tunneyspasture\"\n",
        "for letter in letters:\n",
        "  dct[letter] = dct.get(letter,0) + 1\n",
        "print(dct)"
      ],
      "metadata": {
        "colab": {
          "base_uri": "https://localhost:8080/"
        },
        "id": "jo60C-COCPV8",
        "outputId": "9fd25586-6358-403e-8d7c-6e8a87ad7b83"
      },
      "execution_count": null,
      "outputs": [
        {
          "output_type": "stream",
          "name": "stdout",
          "text": [
            "{'t': 2, 'u': 2, 'n': 2, 'e': 2, 'y': 1, 's': 2, 'p': 1, 'a': 1, 'r': 1}\n"
          ]
        }
      ]
    },
    {
      "cell_type": "markdown",
      "source": [
        "## Two Sum\n",
        "\n",
        "Given an array of integers nums and an integer target, return indices of the two numbers such that they add up to target.\n",
        "\n",
        "You may assume that each input would have exactly one solution, and you may not use the same element twice.\n",
        "\n",
        "You can return the answer in any order.\n",
        "\n",
        "Example 1:\n",
        "\n",
        "Input: nums = [2,7,11,15], target = 9\n",
        "Output: [0,1]\n",
        "Explanation: Because nums[0] + nums[1] == 9, we return [0, 1].\n",
        "\n",
        "Example 2:\n",
        "\n",
        "Input: nums = [3,2,4], target = 6\n",
        "Output: [1,2]"
      ],
      "metadata": {
        "id": "ejUcyUTwJHUB"
      }
    },
    {
      "cell_type": "code",
      "source": [
        "class TwoSum:\n",
        "    def twoSum(self, nums, target):\n",
        "      prev_nums = {}\n",
        "      for i,n in enumerate(nums):\n",
        "        diff = target - n\n",
        "        if diff in prev_nums:\n",
        "          print(prev_nums, prev_nums[diff], diff)\n",
        "          return [prev_nums[diff], i]\n",
        "        prev_nums[n] = i\n"
      ],
      "metadata": {
        "id": "k6JK2bveJUIc"
      },
      "execution_count": null,
      "outputs": []
    },
    {
      "cell_type": "code",
      "source": [
        "nums = [2,11,7,15]\n",
        "target = 9\n",
        "\n",
        "# Store every parsed element in for loop in dict\n",
        "# Store it as key:value pair with key = number, value = index\n",
        "# Find the difference to target from current number\n",
        "# Check if the difference is a value in the key:value pairs of the dict\n",
        "\n",
        "soltn = TwoSum()\n",
        "soltn.twoSum(nums,target)"
      ],
      "metadata": {
        "colab": {
          "base_uri": "https://localhost:8080/"
        },
        "id": "I-TO8Q1TJY7P",
        "outputId": "71d29f29-bfd5-48eb-c1e1-abbcf00a1fbd"
      },
      "execution_count": null,
      "outputs": [
        {
          "output_type": "stream",
          "name": "stdout",
          "text": [
            "{2: 0, 11: 1} 0 2\n"
          ]
        },
        {
          "output_type": "execute_result",
          "data": {
            "text/plain": [
              "[0, 2]"
            ]
          },
          "metadata": {},
          "execution_count": 8
        }
      ]
    },
    {
      "cell_type": "markdown",
      "source": [
        "## Group Anagrams\n",
        "\n",
        "Given an array of strings strs, group the anagrams together. You can return the answer in any order.\n",
        "\n",
        "An Anagram is a word or phrase formed by rearranging the letters of a different word or phrase, typically using all the original letters exactly once.\n",
        "\n",
        "\n",
        "\n",
        "Example 1:\n",
        "\n",
        "Input: strs = [\"eat\",\"tea\",\"tan\",\"ate\",\"nat\",\"bat\"]\n",
        "Output: [[\"bat\"],[\"nat\",\"tan\"],[\"ate\",\"eat\",\"tea\"]]\n",
        "\n",
        "Example 2:\n",
        "\n",
        "Input: strs = [\"\"]\n",
        "Output: [[\"\"]]\n",
        "\n",
        "Example 3:\n",
        "\n",
        "Input: strs = [\"a\"]\n",
        "Output: [[\"a\"]]"
      ],
      "metadata": {
        "id": "Ybp6YbrzUY2_"
      }
    },
    {
      "cell_type": "code",
      "source": [
        "class Solution:\n",
        "    def groupAnagrams(self, strs: list[str]) -> list[list[str]]:\n",
        "      anagram_map = {}\n",
        "\n",
        "      for word in strs:\n",
        "        sorted_word = \"\".join(sorted(word))\n",
        "        if sorted_word in anagram_map:\n",
        "          anagram_map[sorted_word].append(word)\n",
        "        else:\n",
        "          anagram_map[sorted_word] = [word]\n",
        "\n",
        "      return list(anagram_map.values())"
      ],
      "metadata": {
        "id": "5SprHQSSpD16"
      },
      "execution_count": null,
      "outputs": []
    },
    {
      "cell_type": "code",
      "source": [
        "strs = [\"eat\",\"tea\",\"tan\",\"ate\",\"nat\",\"bat\"]\n",
        "\n",
        "# Sort words\n",
        "# Create new key:value pair in dict for the sorted word\n",
        "# If another similar sorted word exists, append to the key:value pair as list\n",
        "# else make separate list for that word alone\n",
        "\n",
        "grpA = Solution()\n",
        "grpA.groupAnagrams(strs)"
      ],
      "metadata": {
        "colab": {
          "base_uri": "https://localhost:8080/"
        },
        "id": "31FIsLm1UgaJ",
        "outputId": "6804fb26-690a-468e-b937-592e8ac49cdb"
      },
      "execution_count": null,
      "outputs": [
        {
          "output_type": "execute_result",
          "data": {
            "text/plain": [
              "[['eat', 'tea', 'ate'], ['tan', 'nat'], ['bat']]"
            ]
          },
          "metadata": {},
          "execution_count": 29
        }
      ]
    },
    {
      "cell_type": "markdown",
      "source": [
        "## Top K elements\n",
        "\n",
        "Given an integer array nums and an integer k, return the k most frequent elements. You may return the answer in any order.\n",
        "\n",
        "\n",
        "\n",
        "Example 1:\n",
        "\n",
        "Input: nums = [1,1,1,2,2,3], k = 2\n",
        "Output: [1,2]\n",
        "\n",
        "Example 2:\n",
        "\n",
        "Input: nums = [1], k = 1\n",
        "Output: [1]"
      ],
      "metadata": {
        "id": "3yxRWwElrIrw"
      }
    },
    {
      "cell_type": "code",
      "source": [
        "import heapq\n",
        "\n",
        "class KFreq:\n",
        "    def topKFrequent(self, nums: list[int], k: int) -> list[int]:\n",
        "      s_dict = {}\n",
        "      for n in nums:\n",
        "        s_dict[n] = s_dict.get(n,0) + 1\n",
        "\n",
        "      min_heap = []\n",
        "      for num, freq in s_dict.items():\n",
        "        print(num,freq)\n",
        "        heapq.heappush(min_heap, (freq,num))\n",
        "        if len(min_heap) > k:\n",
        "          heapq.heappop(min_heap)\n",
        "\n",
        "      return [num for freq,num in min_heap]"
      ],
      "metadata": {
        "id": "F5te_D9WrMJJ"
      },
      "execution_count": null,
      "outputs": []
    },
    {
      "cell_type": "code",
      "source": [
        "\"\"\" Get the number of occurrences of a num using dict.get, create a heap, push\n",
        " freq and the num as tuple, pop anything higher than k\"\"\"\n",
        "\n",
        "nums = [1,1,1,1,2,2,3,4,4,4,4]\n",
        "k = 1\n",
        "k_f = KFreq()\n",
        "k_f.topKFrequent(nums,k)"
      ],
      "metadata": {
        "id": "wiEZsE_ijlbS",
        "colab": {
          "base_uri": "https://localhost:8080/"
        },
        "outputId": "d6ec6ee7-84f5-4163-fc02-b062c75d2c91"
      },
      "execution_count": null,
      "outputs": [
        {
          "output_type": "stream",
          "name": "stdout",
          "text": [
            "1 4\n",
            "2 2\n",
            "3 1\n",
            "4 4\n"
          ]
        },
        {
          "output_type": "execute_result",
          "data": {
            "text/plain": [
              "[4]"
            ]
          },
          "metadata": {},
          "execution_count": 19
        }
      ]
    },
    {
      "cell_type": "markdown",
      "source": [
        "## Valid Palindrome\n",
        "\n",
        "A phrase is a palindrome if, after converting all uppercase letters into lowercase letters and removing all non-alphanumeric characters, it reads the same forward and backward. Alphanumeric characters include letters and numbers.\n",
        "\n",
        "Given a string s, return true if it is a palindrome, or false otherwise.\n",
        "\n",
        "Example 1:\n",
        "\n",
        "Input: s = \"A man, a plan, a canal: Panama\"\n",
        "\n",
        "Output: true\n",
        "\n",
        "Explanation: \"amanaplanacanalpanama\" is a palindrome.\n"
      ],
      "metadata": {
        "id": "aZzJrlcuCa8c"
      }
    },
    {
      "cell_type": "code",
      "source": [
        "\"\"\" Two pointers from either end need to match each other\n",
        "as long as they are alphanumerics\n",
        "\"\"\"\n",
        "class Solution:\n",
        "    def isPalindrome(self, s: str) -> bool:\n",
        "      left = 0\n",
        "      right = len(s) - 1\n",
        "      # Needs to handle isalnum and tolower cases\n",
        "      while left < right:\n",
        "        if s[left] != s[right]:\n",
        "          return False\n",
        "        left+=1\n",
        "        right-=1\n",
        "      return True"
      ],
      "metadata": {
        "id": "N5SYmiK4Cjwu"
      },
      "execution_count": null,
      "outputs": []
    },
    {
      "cell_type": "code",
      "source": [
        "s = \"A man, a plan, a canal: Panama\"\n",
        "s = Solution()\n",
        "s.isPalindrome(s)"
      ],
      "metadata": {
        "id": "SGl1ztFtK6Qp"
      },
      "execution_count": null,
      "outputs": []
    },
    {
      "cell_type": "markdown",
      "source": [
        "## Product of array except self\n",
        "\n",
        "Given an integer array nums, return an array answer such that answer[i] is equal to the product of all the elements of nums except nums[i].\n",
        "\n",
        "The product of any prefix or suffix of nums is guaranteed to fit in a 32-bit integer.\n",
        "\n",
        "You must write an algorithm that runs in O(n) time and without using the division operation.\n",
        "\n",
        "\n",
        "\n",
        "Example 1:\n",
        "\n",
        "Input: nums = [1,2,3,4]\n",
        "\n",
        "Output: [24,12,8,6]\n"
      ],
      "metadata": {
        "id": "GR7mOh91OW2J"
      }
    },
    {
      "cell_type": "code",
      "source": [
        "class ExceptSelf:\n",
        "    def productExceptSelf(self, nums: list[int]) -> list[int]:\n",
        "      n = len(nums)\n",
        "      ans = [1] * n\n",
        "\n",
        "      for i,num in enumerate(nums):\n",
        "        nums.pop(i)\n",
        "        ans[i] = self.listProd(nums)\n",
        "        nums.insert(i,num)\n",
        "\n",
        "      return ans\n",
        "\n",
        "    def listProd(self, num_lst:list[int]) -> int:\n",
        "      result = 1\n",
        "      for num in num_lst:\n",
        "        result *= num\n",
        "      return result\n"
      ],
      "metadata": {
        "id": "KgOUy3PSOcP-"
      },
      "execution_count": null,
      "outputs": []
    },
    {
      "cell_type": "code",
      "source": [
        "nums = [1,2,3,4]\n",
        "#         i\n",
        "es = ExceptSelf()\n",
        "es.productExceptSelf(nums)"
      ],
      "metadata": {
        "colab": {
          "base_uri": "https://localhost:8080/"
        },
        "id": "deGyELXjQYja",
        "outputId": "c8e13b54-26e9-474b-b29a-0995e44879dd"
      },
      "execution_count": null,
      "outputs": [
        {
          "output_type": "execute_result",
          "data": {
            "text/plain": [
              "[24, 12, 8, 6]"
            ]
          },
          "metadata": {},
          "execution_count": 49
        }
      ]
    },
    {
      "cell_type": "markdown",
      "source": [
        "## Valid Sudoku\n",
        "\n",
        "Determine if a 9 x 9 Sudoku board is valid. Only the filled cells need to be validated according to the following rules:\n",
        "\n",
        "    Each row must contain the digits 1-9 without repetition.\n",
        "    Each column must contain the digits 1-9 without repetition.\n",
        "    Each of the nine 3 x 3 sub-boxes of the grid must contain the digits 1-9 without repetition.\n",
        "\n",
        "Note:\n",
        "\n",
        "    A Sudoku board (partially filled) could be valid but is not necessarily solvable.\n",
        "    Only the filled cells need to be validated according to the mentioned rules.\n"
      ],
      "metadata": {
        "id": "hk_kxABTdIOG"
      }
    },
    {
      "cell_type": "code",
      "source": [
        "class Sudoku:\n",
        "    def isValidSudoku(self, board: list[list[str]]) -> bool:\n",
        "      n=9\n",
        "      seen = set()\n",
        "      for i in range(n):\n",
        "        for j in range(n):\n",
        "          if board[i][j] != \".\":\n",
        "            num = board[i][j]\n",
        "            if (\n",
        "                (i,num) in seen or\n",
        "                (num,j) in seen or\n",
        "                (i//3, j//3, num) in seen\n",
        "            ):\n",
        "              print(\"Already seen\", i,j,num)\n",
        "              return False\n",
        "            seen.add((i,num))\n",
        "            seen.add((num,j))\n",
        "            seen.add((i//3,j//3,num))\n",
        "            print(seen)\n",
        "      return True"
      ],
      "metadata": {
        "id": "gQQWQmwxdLmK"
      },
      "execution_count": null,
      "outputs": []
    },
    {
      "cell_type": "code",
      "source": [
        "\"\"\"\n",
        "- i represents rows, so (i,num) should be unique hash-set\n",
        "- same for columns\n",
        "\n",
        "- For each 3*3 matrix, to ensure unique hash-sets, we use the \"//\" operator.\n",
        "  For eg: 2//3 = 2, 4//3 = 1 etc\n",
        "  If we do this for each 3*3 matrix, we should get a unique set of hash-sets\n",
        "  for each row,col paired with the num itself\n",
        "\"\"\"\n",
        "board = [[\"5\",\"3\",\".\",\".\",\"7\",\".\",\".\",\".\",\".\"]\n",
        ",[\"6\",\".\",\".\",\"1\",\"9\",\"5\",\".\",\".\",\".\"]\n",
        ",[\".\",\"9\",\"8\",\".\",\".\",\".\",\".\",\"6\",\".\"]\n",
        ",[\"8\",\".\",\".\",\".\",\"6\",\".\",\".\",\".\",\"3\"]\n",
        ",[\"4\",\".\",\".\",\"8\",\".\",\"3\",\".\",\".\",\"1\"]\n",
        ",[\"7\",\".\",\".\",\".\",\"2\",\".\",\".\",\".\",\"6\"]\n",
        ",[\".\",\"6\",\".\",\".\",\".\",\".\",\"2\",\"8\",\".\"]\n",
        ",[\".\",\".\",\".\",\"4\",\"1\",\"9\",\".\",\".\",\"5\"]\n",
        ",[\".\",\".\",\".\",\".\",\"8\",\".\",\".\",\"7\",\"9\"]]\n",
        "\n",
        "board_f = [[\"8\",\"3\",\".\",\".\",\"7\",\".\",\".\",\".\",\".\"]\n",
        ",[\"6\",\".\",\".\",\"1\",\"9\",\"5\",\".\",\".\",\".\"]\n",
        ",[\".\",\"9\",\"8\",\".\",\".\",\".\",\".\",\"6\",\".\"]\n",
        ",[\"8\",\".\",\".\",\".\",\"6\",\".\",\".\",\".\",\"3\"]\n",
        ",[\"4\",\".\",\".\",\"8\",\".\",\"3\",\".\",\".\",\"1\"]\n",
        ",[\"7\",\".\",\".\",\".\",\"2\",\".\",\".\",\".\",\"6\"]\n",
        ",[\".\",\"6\",\".\",\".\",\".\",\".\",\"2\",\"8\",\".\"]\n",
        ",[\".\",\".\",\".\",\"4\",\"1\",\"9\",\".\",\".\",\"5\"]\n",
        ",[\".\",\".\",\".\",\".\",\"8\",\".\",\".\",\"7\",\"9\"]]\n",
        "\n",
        "sud = Sudoku()\n",
        "print(sud.isValidSudoku(board))\n",
        "print(sud.isValidSudoku(board_f))"
      ],
      "metadata": {
        "colab": {
          "base_uri": "https://localhost:8080/"
        },
        "id": "hzFva9eSdeRT",
        "outputId": "79f710fb-24b8-41d6-e7dd-67b00ca2f23d"
      },
      "execution_count": null,
      "outputs": [
        {
          "output_type": "stream",
          "name": "stdout",
          "text": [
            "{(0, '5'), (0, 0, '5'), ('5', 0)}\n",
            "{('3', 1), (0, 0, '3'), (0, 0, '5'), (0, '5'), ('5', 0), (0, '3')}\n",
            "{('3', 1), (0, 0, '3'), (0, 0, '5'), (0, '5'), ('5', 0), ('7', 4), (0, 1, '7'), (0, '7'), (0, '3')}\n",
            "{('3', 1), (0, 0, '3'), (0, 0, '5'), (0, 0, '6'), ('6', 0), (0, '5'), (1, '6'), ('5', 0), ('7', 4), (0, 1, '7'), (0, '7'), (0, '3')}\n",
            "{('3', 1), (0, 0, '3'), (0, 1, '1'), (0, 0, '5'), ('1', 3), (0, 0, '6'), ('6', 0), (0, '5'), (1, '6'), ('5', 0), (1, '1'), ('7', 4), (0, 1, '7'), (0, '7'), (0, '3')}\n",
            "{('3', 1), (0, 0, '3'), (0, 1, '1'), (0, 0, '5'), ('1', 3), (0, 0, '6'), ('6', 0), (0, '5'), (1, '6'), (1, '9'), ('5', 0), ('9', 4), (1, '1'), ('7', 4), (0, 1, '7'), (0, '7'), (0, '3'), (0, 1, '9')}\n",
            "{(0, 0, '5'), (0, 1, '7'), ('5', 5), ('1', 3), (0, '5'), (1, '6'), ('3', 1), (0, 1, '1'), (0, 1, '5'), (1, '1'), ('7', 4), (1, '5'), (0, 0, '6'), (0, 1, '9'), (0, 0, '3'), ('6', 0), (1, '9'), ('5', 0), ('9', 4), (0, '7'), (0, '3')}\n",
            "{(0, 0, '5'), (0, 1, '7'), (0, 0, '9'), ('5', 5), ('1', 3), (0, '5'), (1, '6'), (2, '9'), ('3', 1), (0, 1, '1'), (0, 1, '5'), (1, '1'), ('7', 4), (1, '5'), (0, 0, '6'), (0, 1, '9'), (0, 0, '3'), ('6', 0), (1, '9'), ('9', 1), ('5', 0), ('9', 4), (0, '7'), (0, '3')}\n",
            "{(0, 0, '5'), (0, 1, '7'), (0, 0, '9'), ('5', 5), (2, '8'), ('1', 3), (0, '5'), (1, '6'), ('8', 2), (2, '9'), ('3', 1), (0, 1, '1'), (0, 1, '5'), (1, '1'), ('7', 4), (1, '5'), (0, 0, '6'), (0, 1, '9'), (0, 0, '3'), ('6', 0), (1, '9'), ('9', 1), ('5', 0), ('9', 4), (0, '7'), (0, '3'), (0, 0, '8')}\n",
            "{(0, 0, '5'), (2, '6'), (0, 1, '7'), (0, 0, '9'), ('5', 5), (2, '8'), ('1', 3), (0, '5'), (1, '6'), ('8', 2), (2, '9'), ('3', 1), (0, 1, '1'), ('6', 7), (0, 1, '5'), (1, '1'), ('7', 4), (1, '5'), (0, 0, '6'), (0, 1, '9'), (0, 2, '6'), (0, 0, '3'), ('6', 0), (1, '9'), ('9', 1), ('5', 0), ('9', 4), (0, '7'), (0, '3'), (0, 0, '8')}\n",
            "{('8', 0), (0, 0, '5'), (2, '6'), (1, 0, '8'), (0, 1, '7'), (0, 0, '9'), ('5', 5), (2, '8'), ('1', 3), (0, '5'), (1, '6'), ('8', 2), (2, '9'), ('3', 1), (0, 1, '1'), ('6', 7), (0, 1, '5'), (1, '1'), ('7', 4), (1, '5'), (0, 0, '6'), (0, 1, '9'), (0, 2, '6'), (0, 0, '3'), (3, '8'), ('6', 0), (1, '9'), ('9', 1), ('5', 0), ('9', 4), (0, '7'), (0, '3'), (0, 0, '8')}\n",
            "{('8', 0), (0, 0, '5'), (2, '6'), (1, 0, '8'), (0, 1, '7'), (0, 0, '9'), ('5', 5), (2, '8'), ('1', 3), (0, '5'), (1, '6'), ('8', 2), (1, 1, '6'), ('6', 4), (2, '9'), ('3', 1), (0, 1, '1'), ('6', 7), (0, 1, '5'), (3, '6'), (1, '1'), ('7', 4), (1, '5'), (0, 0, '6'), (0, 1, '9'), (0, 2, '6'), (0, 0, '3'), (3, '8'), ('6', 0), (1, '9'), ('9', 1), ('5', 0), ('9', 4), (0, '7'), (0, '3'), (0, 0, '8')}\n",
            "{('8', 0), (0, 0, '5'), (2, '6'), (1, 0, '8'), (0, 1, '7'), ('3', 8), (0, 0, '9'), ('5', 5), (2, '8'), ('1', 3), (0, '5'), (1, '6'), ('8', 2), (1, 1, '6'), ('6', 4), (2, '9'), ('3', 1), (0, 1, '1'), ('6', 7), (3, '3'), (0, 1, '5'), (3, '6'), (1, '1'), ('7', 4), (1, '5'), (0, 0, '6'), (0, 1, '9'), (0, 2, '6'), (0, 0, '3'), (1, 2, '3'), (3, '8'), ('6', 0), (1, '9'), ('9', 1), ('5', 0), ('9', 4), (0, '7'), (0, '3'), (0, 0, '8')}\n",
            "{('8', 0), (0, 0, '5'), (2, '6'), (1, 0, '8'), (4, '4'), ('4', 0), (0, 1, '7'), ('3', 8), (0, 0, '9'), ('5', 5), (2, '8'), ('1', 3), (0, '5'), (1, '6'), ('8', 2), (1, 1, '6'), ('6', 4), (2, '9'), ('3', 1), (0, 1, '1'), ('6', 7), (3, '3'), (0, 1, '5'), (3, '6'), (1, 0, '4'), (1, '1'), ('7', 4), (1, '5'), (0, 0, '6'), (0, 1, '9'), (0, 2, '6'), (0, 0, '3'), (1, 2, '3'), (3, '8'), ('6', 0), (1, '9'), ('9', 1), ('5', 0), ('9', 4), (0, '7'), (0, '3'), (0, 0, '8')}\n",
            "{('8', 0), (0, 0, '5'), (2, '6'), (1, 0, '8'), ('8', 3), (4, '4'), ('4', 0), (0, 1, '7'), ('3', 8), (0, 0, '9'), ('5', 5), (2, '8'), ('1', 3), (0, '5'), (1, '6'), ('8', 2), (4, '8'), (1, 1, '6'), ('6', 4), (2, '9'), ('3', 1), (0, 1, '1'), ('6', 7), (3, '3'), (0, 1, '5'), (3, '6'), (1, 0, '4'), (1, '1'), ('7', 4), (1, '5'), (1, 1, '8'), (0, 0, '6'), (0, 1, '9'), (0, 2, '6'), (0, 0, '3'), (1, 2, '3'), (3, '8'), ('6', 0), (1, '9'), ('9', 1), ('5', 0), ('9', 4), (0, '7'), (0, '3'), (0, 0, '8')}\n",
            "{('8', 0), (0, 0, '5'), (2, '6'), (1, 0, '8'), ('8', 3), (4, '4'), ('4', 0), ('3', 5), (0, 1, '7'), ('3', 8), (0, 0, '9'), (4, '3'), ('5', 5), (2, '8'), ('1', 3), (0, '5'), (1, '6'), ('8', 2), (4, '8'), (1, 1, '3'), (1, 1, '6'), ('6', 4), (2, '9'), ('3', 1), (0, 1, '1'), ('6', 7), (3, '3'), (0, 1, '5'), (3, '6'), (1, 0, '4'), (1, '1'), ('7', 4), (1, '5'), (1, 1, '8'), (0, 0, '6'), (0, 1, '9'), (0, 2, '6'), (0, 0, '3'), (1, 2, '3'), (3, '8'), ('6', 0), (1, '9'), ('9', 1), ('5', 0), ('9', 4), (0, '7'), (0, '3'), (0, 0, '8')}\n",
            "{('8', 0), (0, 0, '5'), (2, '6'), (1, 0, '8'), ('8', 3), (4, '4'), ('4', 0), ('3', 5), (0, 1, '7'), ('3', 8), (0, 0, '9'), (4, '3'), ('5', 5), (2, '8'), (1, 2, '1'), ('1', 3), (0, '5'), (1, '6'), ('8', 2), (4, '8'), (1, 1, '3'), (1, 1, '6'), ('6', 4), (2, '9'), (4, '1'), ('3', 1), (0, 1, '1'), ('6', 7), (3, '3'), (0, 1, '5'), (3, '6'), (1, 0, '4'), (1, '1'), ('1', 8), ('7', 4), (1, '5'), (1, 1, '8'), (0, 0, '6'), (0, 1, '9'), (0, 2, '6'), (0, 0, '3'), (1, 2, '3'), (3, '8'), ('6', 0), (1, '9'), ('9', 1), ('5', 0), ('9', 4), (0, '7'), (0, '3'), (0, 0, '8')}\n",
            "{('8', 0), ('7', 0), (0, 0, '5'), (2, '6'), (1, 0, '8'), ('8', 3), (4, '4'), ('4', 0), ('3', 5), (0, 1, '7'), ('3', 8), (0, 0, '9'), (4, '3'), ('5', 5), (2, '8'), (1, 2, '1'), ('1', 3), (0, '5'), (1, '6'), ('8', 2), (4, '8'), (1, 1, '3'), (1, 1, '6'), ('6', 4), (2, '9'), (4, '1'), ('3', 1), (0, 1, '1'), ('6', 7), (5, '7'), (3, '3'), (0, 1, '5'), (3, '6'), (1, 0, '4'), (1, '1'), ('1', 8), ('7', 4), (1, '5'), (1, 1, '8'), (0, 0, '6'), (1, 0, '7'), (0, 1, '9'), (0, 2, '6'), (0, 0, '3'), (1, 2, '3'), (3, '8'), ('6', 0), (1, '9'), ('9', 1), ('5', 0), ('9', 4), (0, '7'), (0, '3'), (0, 0, '8')}\n",
            "{('8', 0), ('7', 0), (0, 0, '5'), (2, '6'), (1, 0, '8'), ('8', 3), (4, '4'), ('4', 0), ('3', 5), (0, 1, '7'), ('3', 8), (0, 0, '9'), (4, '3'), ('5', 5), (2, '8'), (1, 2, '1'), ('2', 4), ('1', 3), (1, 1, '2'), (0, '5'), (1, '6'), ('8', 2), (5, '2'), (4, '8'), (1, 1, '3'), (1, 1, '6'), ('6', 4), (2, '9'), (4, '1'), ('3', 1), (0, 1, '1'), ('6', 7), (5, '7'), (3, '3'), (0, 1, '5'), (3, '6'), (1, 0, '4'), (1, '1'), ('1', 8), ('7', 4), (1, '5'), (1, 1, '8'), (0, 0, '6'), (1, 0, '7'), (0, 1, '9'), (0, 2, '6'), (0, 0, '3'), (1, 2, '3'), (3, '8'), ('6', 0), (1, '9'), ('9', 1), ('5', 0), ('9', 4), (0, '7'), (0, '3'), (0, 0, '8')}\n",
            "{('8', 0), ('7', 0), (0, 0, '5'), (2, '6'), (1, 0, '8'), ('8', 3), (4, '4'), ('4', 0), ('3', 5), (0, 1, '7'), ('3', 8), (0, 0, '9'), (4, '3'), ('5', 5), ('6', 8), (2, '8'), (1, 2, '1'), ('2', 4), ('1', 3), (1, 1, '2'), (0, '5'), (1, '6'), ('8', 2), (5, '2'), (4, '8'), (1, 1, '3'), (1, 1, '6'), ('6', 4), (2, '9'), (4, '1'), ('3', 1), (0, 1, '1'), ('6', 7), (5, '7'), (5, '6'), (3, '3'), (0, 1, '5'), (3, '6'), (1, 0, '4'), (1, '1'), ('1', 8), ('7', 4), (1, '5'), (1, 1, '8'), (0, 0, '6'), (1, 0, '7'), (0, 1, '9'), (0, 2, '6'), (0, 0, '3'), (1, 2, '3'), (3, '8'), ('6', 0), (1, '9'), ('9', 1), ('5', 0), ('9', 4), (1, 2, '6'), (0, '7'), (0, '3'), (0, 0, '8')}\n",
            "{('8', 0), ('7', 0), (0, 0, '5'), (2, '6'), (1, 0, '8'), ('8', 3), (6, '6'), (4, '4'), ('4', 0), ('3', 5), (0, 1, '7'), ('3', 8), (0, 0, '9'), (4, '3'), ('5', 5), ('6', 8), (2, '8'), (1, 2, '1'), ('2', 4), ('1', 3), (1, 1, '2'), (0, '5'), (1, '6'), ('8', 2), (5, '2'), (4, '8'), (1, 1, '3'), (1, 1, '6'), ('6', 4), (2, '9'), (4, '1'), ('3', 1), (0, 1, '1'), ('6', 7), (5, '7'), ('6', 1), (5, '6'), (3, '3'), (0, 1, '5'), (3, '6'), (1, 0, '4'), (1, '1'), ('1', 8), ('7', 4), (1, '5'), (1, 1, '8'), (0, 0, '6'), (1, 0, '7'), (0, 1, '9'), (0, 2, '6'), (0, 0, '3'), (1, 2, '3'), (3, '8'), ('6', 0), (1, '9'), ('9', 1), ('5', 0), (2, 0, '6'), ('9', 4), (1, 2, '6'), (0, '7'), (0, '3'), (0, 0, '8')}\n",
            "{('8', 0), ('7', 0), (0, 0, '5'), (2, '6'), (1, 0, '8'), ('8', 3), (6, '6'), (4, '4'), ('4', 0), ('3', 5), (0, 1, '7'), ('3', 8), (0, 0, '9'), (4, '3'), ('5', 5), ('6', 8), (2, '8'), (1, 2, '1'), ('2', 4), ('1', 3), (1, 1, '2'), (0, '5'), (1, '6'), ('8', 2), (5, '2'), (4, '8'), (1, 1, '3'), (1, 1, '6'), ('6', 4), (2, '9'), (4, '1'), ('3', 1), (0, 1, '1'), ('6', 7), (5, '7'), ('6', 1), (5, '6'), (3, '3'), (0, 1, '5'), (3, '6'), ('2', 6), (1, 0, '4'), (1, '1'), ('1', 8), ('7', 4), (1, '5'), (1, 1, '8'), (0, 0, '6'), (1, 0, '7'), (2, 2, '2'), (0, 1, '9'), (0, 2, '6'), (0, 0, '3'), (1, 2, '3'), (3, '8'), ('6', 0), (1, '9'), ('9', 1), ('5', 0), (2, 0, '6'), ('9', 4), (1, 2, '6'), (6, '2'), (0, '7'), (0, '3'), (0, 0, '8')}\n",
            "{('8', 0), ('7', 0), (0, 0, '5'), (2, '6'), (1, 0, '8'), ('8', 3), (6, '6'), (4, '4'), (2, 2, '8'), ('4', 0), ('3', 5), (0, 1, '7'), ('3', 8), (0, 0, '9'), (4, '3'), ('5', 5), ('6', 8), (2, '8'), (1, 2, '1'), ('2', 4), ('1', 3), (1, 1, '2'), (0, '5'), (1, '6'), ('8', 2), (6, '8'), (5, '2'), (4, '8'), (1, 1, '3'), (1, 1, '6'), ('6', 4), (2, '9'), (4, '1'), ('3', 1), (0, 1, '1'), ('6', 7), (5, '7'), ('6', 1), (5, '6'), (3, '3'), (0, 1, '5'), (3, '6'), ('2', 6), (1, 0, '4'), (1, '1'), ('1', 8), ('7', 4), (1, '5'), (1, 1, '8'), (0, 0, '6'), ('8', 7), (1, 0, '7'), (2, 2, '2'), (0, 1, '9'), (0, 2, '6'), (0, 0, '3'), (1, 2, '3'), (3, '8'), ('6', 0), (1, '9'), ('9', 1), ('5', 0), (2, 0, '6'), ('9', 4), (1, 2, '6'), (6, '2'), (0, '7'), (0, '3'), (0, 0, '8')}\n",
            "{('8', 0), ('7', 0), (0, 0, '5'), (2, '6'), (1, 0, '8'), ('8', 3), (6, '6'), (4, '4'), (2, 1, '4'), (2, 2, '8'), ('4', 0), ('3', 5), ('4', 3), (0, 1, '7'), ('3', 8), (0, 0, '9'), (4, '3'), ('5', 5), ('6', 8), (2, '8'), (1, 2, '1'), ('2', 4), ('1', 3), (1, 1, '2'), (0, '5'), (1, '6'), ('8', 2), (6, '8'), (5, '2'), (4, '8'), (1, 1, '3'), (1, 1, '6'), ('6', 4), (2, '9'), (4, '1'), ('3', 1), (0, 1, '1'), ('6', 7), (5, '7'), ('6', 1), (5, '6'), (3, '3'), (0, 1, '5'), (3, '6'), ('2', 6), (1, 0, '4'), (1, '1'), ('1', 8), (7, '4'), ('7', 4), (1, '5'), (1, 1, '8'), (0, 0, '6'), ('8', 7), (1, 0, '7'), (2, 2, '2'), (0, 1, '9'), (0, 2, '6'), (0, 0, '3'), (1, 2, '3'), (3, '8'), ('6', 0), (1, '9'), ('9', 1), ('5', 0), (2, 0, '6'), ('9', 4), (1, 2, '6'), (6, '2'), (0, '7'), (0, '3'), (0, 0, '8')}\n",
            "{('8', 0), ('7', 0), (0, 0, '5'), (2, '6'), (1, 0, '8'), ('8', 3), (6, '6'), (7, '1'), (4, '4'), (2, 1, '4'), (2, 2, '8'), ('4', 0), ('3', 5), ('4', 3), (0, 1, '7'), ('3', 8), (0, 0, '9'), (4, '3'), ('5', 5), ('6', 8), (2, '8'), (1, 2, '1'), ('2', 4), ('1', 3), (1, 1, '2'), (0, '5'), (1, '6'), ('8', 2), (6, '8'), (5, '2'), (4, '8'), (1, 1, '3'), (1, 1, '6'), ('6', 4), (2, '9'), (4, '1'), ('3', 1), (0, 1, '1'), ('6', 7), (5, '7'), ('6', 1), (5, '6'), (3, '3'), (0, 1, '5'), (3, '6'), (2, 1, '1'), ('2', 6), (1, 0, '4'), (1, '1'), ('1', 8), (7, '4'), ('7', 4), (1, '5'), (1, 1, '8'), (0, 0, '6'), ('8', 7), (1, 0, '7'), (2, 2, '2'), (0, 1, '9'), (0, 2, '6'), (0, 0, '3'), (1, 2, '3'), ('1', 4), (3, '8'), ('6', 0), (1, '9'), ('9', 1), ('5', 0), (2, 0, '6'), ('9', 4), (1, 2, '6'), (6, '2'), (0, '7'), (0, '3'), (0, 0, '8')}\n",
            "{(2, '6'), (1, 0, '8'), (7, '1'), (4, '4'), ('4', 3), ('3', 8), (4, '3'), ('2', 4), ('1', 3), (1, 1, '2'), (1, 1, '3'), (1, 1, '6'), ('3', 1), (0, 1, '1'), ('6', 7), (5, '6'), (0, 1, '5'), ('2', 6), (1, '1'), (1, '5'), (2, 1, '9'), (2, 2, '2'), (0, 1, '9'), (0, 0, '3'), ('6', 0), ('9', 4), (0, '3'), ('8', 3), ('4', 0), ('3', 5), ('5', 5), (2, '8'), (1, 2, '1'), (1, '6'), (6, '8'), (5, '2'), (4, '8'), ('6', 4), (2, '9'), (5, '7'), (2, 1, '1'), (1, 0, '4'), (7, '4'), (1, 1, '8'), ('8', 7), ('9', 1), ('5', 0), (2, 0, '6'), (1, 2, '6'), (0, '7'), (0, 0, '8'), ('8', 0), ('7', 0), (0, 0, '5'), (2, 2, '8'), (0, 0, '9'), ('8', 2), (4, '1'), (3, '3'), (3, '6'), ('7', 4), (1, 0, '7'), (0, 2, '6'), (1, 2, '3'), ('1', 4), (6, '6'), (2, 1, '4'), (0, 1, '7'), ('6', 8), (7, '9'), (0, '5'), ('6', 1), ('9', 5), ('1', 8), (0, 0, '6'), (3, '8'), (1, '9'), (6, '2')}\n",
            "{(2, '6'), (1, 0, '8'), (7, '1'), (4, '4'), (7, '5'), ('4', 3), ('3', 8), (4, '3'), ('2', 4), ('5', 8), ('1', 3), (1, 1, '2'), (1, 1, '3'), (1, 1, '6'), ('3', 1), (0, 1, '1'), ('6', 7), (5, '6'), (0, 1, '5'), ('2', 6), (1, '1'), (1, '5'), (2, 1, '9'), (2, 2, '2'), (0, 1, '9'), (0, 0, '3'), ('6', 0), ('9', 4), (0, '3'), ('8', 3), ('4', 0), ('3', 5), ('5', 5), (2, '8'), (1, 2, '1'), (1, '6'), (6, '8'), (5, '2'), (4, '8'), ('6', 4), (2, '9'), (5, '7'), (2, 1, '1'), (1, 0, '4'), (7, '4'), (1, 1, '8'), ('8', 7), ('9', 1), ('5', 0), (2, 0, '6'), (1, 2, '6'), (0, '7'), (0, 0, '8'), ('8', 0), ('7', 0), (0, 0, '5'), (2, 2, '8'), (0, 0, '9'), ('8', 2), (4, '1'), (3, '3'), (3, '6'), ('7', 4), (1, 0, '7'), (0, 2, '6'), (1, 2, '3'), ('1', 4), (6, '6'), (2, 1, '4'), (0, 1, '7'), ('6', 8), (7, '9'), (2, 2, '5'), (0, '5'), ('6', 1), ('9', 5), ('1', 8), (0, 0, '6'), (3, '8'), (1, '9'), (6, '2')}\n",
            "{(2, '6'), (1, 0, '8'), (7, '1'), (4, '4'), (7, '5'), ('4', 3), ('3', 8), (4, '3'), ('2', 4), ('5', 8), ('1', 3), (1, 1, '2'), (1, 1, '3'), (1, 1, '6'), (2, 1, '8'), ('3', 1), (0, 1, '1'), ('6', 7), (5, '6'), (0, 1, '5'), ('2', 6), (1, '1'), (1, '5'), (2, 1, '9'), (2, 2, '2'), (0, 1, '9'), (0, 0, '3'), ('6', 0), ('9', 4), (0, '3'), ('8', 3), ('4', 0), ('3', 5), ('5', 5), (2, '8'), (1, 2, '1'), (1, '6'), (6, '8'), (5, '2'), (4, '8'), ('6', 4), (2, '9'), (5, '7'), (2, 1, '1'), (8, '8'), (1, 0, '4'), (7, '4'), (1, 1, '8'), ('8', 7), ('9', 1), ('5', 0), (2, 0, '6'), (1, 2, '6'), (0, '7'), (0, 0, '8'), ('8', 0), ('7', 0), (0, 0, '5'), (2, 2, '8'), (0, 0, '9'), ('8', 2), (4, '1'), (3, '3'), (3, '6'), ('7', 4), ('8', 4), (1, 0, '7'), (0, 2, '6'), (1, 2, '3'), ('1', 4), (6, '6'), (2, 1, '4'), (0, 1, '7'), ('6', 8), (7, '9'), (2, 2, '5'), (0, '5'), ('6', 1), ('9', 5), ('1', 8), (0, 0, '6'), (3, '8'), (1, '9'), (6, '2')}\n",
            "{(2, '6'), (1, 0, '8'), (7, '1'), (4, '4'), (7, '5'), ('4', 3), ('3', 8), (4, '3'), ('2', 4), ('5', 8), ('1', 3), (1, 1, '2'), (1, 1, '3'), (1, 1, '6'), (2, 1, '8'), ('3', 1), (0, 1, '1'), ('6', 7), (5, '6'), (0, 1, '5'), ('2', 6), (1, '1'), (1, '5'), (2, 1, '9'), (2, 2, '2'), (0, 1, '9'), (0, 0, '3'), ('6', 0), ('9', 4), (0, '3'), ('8', 3), ('4', 0), ('3', 5), ('5', 5), (2, '8'), (1, 2, '1'), (8, '7'), (1, '6'), (6, '8'), (5, '2'), (4, '8'), ('6', 4), (2, '9'), (5, '7'), (2, 1, '1'), (8, '8'), (1, 0, '4'), (7, '4'), (1, 1, '8'), ('8', 7), ('7', 7), ('9', 1), ('5', 0), (2, 0, '6'), (2, 2, '7'), (1, 2, '6'), (0, '7'), (0, 0, '8'), ('8', 0), ('7', 0), (0, 0, '5'), (2, 2, '8'), (0, 0, '9'), ('8', 2), (4, '1'), (3, '3'), (3, '6'), ('7', 4), ('8', 4), (1, 0, '7'), (0, 2, '6'), (1, 2, '3'), ('1', 4), (6, '6'), (2, 1, '4'), (0, 1, '7'), ('6', 8), (7, '9'), (2, 2, '5'), (0, '5'), ('6', 1), ('9', 5), ('1', 8), (0, 0, '6'), (3, '8'), (1, '9'), (6, '2')}\n",
            "{(2, '6'), (1, 0, '8'), (7, '1'), (4, '4'), (7, '5'), ('4', 3), ('3', 8), (4, '3'), ('2', 4), ('5', 8), ('1', 3), (1, 1, '2'), (1, 1, '3'), (1, 1, '6'), (2, 1, '8'), ('3', 1), (0, 1, '1'), ('6', 7), (5, '6'), (0, 1, '5'), ('2', 6), (1, '1'), (1, '5'), (2, 1, '9'), (2, 2, '2'), (0, 1, '9'), (0, 0, '3'), ('6', 0), ('9', 4), (0, '3'), ('8', 3), ('4', 0), ('3', 5), ('5', 5), (2, '8'), (1, 2, '1'), (8, '7'), (1, '6'), (6, '8'), (5, '2'), (4, '8'), ('6', 4), (2, '9'), (5, '7'), (2, 1, '1'), (8, '8'), ('9', 8), (1, 0, '4'), (7, '4'), (1, 1, '8'), ('8', 7), ('7', 7), (8, '9'), ('9', 1), ('5', 0), (2, 0, '6'), (2, 2, '7'), (1, 2, '6'), (0, '7'), (0, 0, '8'), ('8', 0), ('7', 0), (0, 0, '5'), (2, 2, '8'), (0, 0, '9'), ('8', 2), (2, 2, '9'), (4, '1'), (3, '3'), (3, '6'), ('7', 4), ('8', 4), (1, 0, '7'), (0, 2, '6'), (1, 2, '3'), ('1', 4), (6, '6'), (2, 1, '4'), (0, 1, '7'), ('6', 8), (7, '9'), (2, 2, '5'), (0, '5'), ('6', 1), ('9', 5), ('1', 8), (0, 0, '6'), (3, '8'), (1, '9'), (6, '2')}\n",
            "True\n",
            "{('8', 0), (0, '8'), (0, 0, '8')}\n",
            "{('8', 0), ('3', 1), (0, 0, '3'), (0, '8'), (0, '3'), (0, 0, '8')}\n",
            "{('8', 0), ('3', 1), (0, 0, '3'), ('7', 4), (0, 1, '7'), (0, '7'), (0, '8'), (0, '3'), (0, 0, '8')}\n",
            "{('8', 0), ('3', 1), (0, 0, '3'), (0, 0, '6'), ('6', 0), (1, '6'), ('7', 4), (0, 1, '7'), (0, '7'), (0, '8'), (0, '3'), (0, 0, '8')}\n",
            "{('8', 0), ('3', 1), (0, 0, '3'), (0, 1, '1'), ('1', 3), (0, 0, '6'), ('6', 0), (1, '6'), (1, '1'), ('7', 4), (0, 1, '7'), (0, '7'), (0, '8'), (0, '3'), (0, 0, '8')}\n",
            "{('8', 0), ('3', 1), (0, 0, '3'), (0, 1, '1'), ('1', 3), (0, 0, '6'), ('6', 0), (1, '6'), (1, '9'), (0, 1, '9'), ('9', 4), (1, '1'), ('7', 4), (0, 1, '7'), (0, '7'), (0, '8'), (0, '3'), (0, 0, '8')}\n",
            "{('8', 0), (0, 1, '7'), (0, '8'), ('5', 5), ('1', 3), (1, '6'), ('3', 1), (0, 1, '1'), (0, 1, '5'), (1, '1'), ('7', 4), (1, '5'), (0, 0, '6'), (0, 1, '9'), (0, 0, '3'), ('6', 0), (1, '9'), ('9', 4), (0, '7'), (0, '3'), (0, 0, '8')}\n",
            "{('8', 0), (0, 1, '7'), (0, '8'), (0, 0, '9'), ('5', 5), ('1', 3), (1, '6'), (2, '9'), ('3', 1), (0, 1, '1'), (0, 1, '5'), (1, '1'), ('7', 4), (1, '5'), (0, 0, '6'), (0, 1, '9'), (0, 0, '3'), ('6', 0), (1, '9'), ('9', 1), ('9', 4), (0, '7'), (0, '3'), (0, 0, '8')}\n",
            "Already seen 2 2 8\n",
            "False\n"
          ]
        }
      ]
    },
    {
      "cell_type": "markdown",
      "source": [
        "## Encode and Decode Strings\n",
        "\n",
        "Design an algorithm to encode a list of strings to a string. The encoded string is then sent over the network and is decoded back to the original list of strings.\n",
        "\n",
        "Example1\n",
        "\n",
        "Input: [“lint”,“code”,“love”,“you”] Output: [“lint”,“code”,“love”,“you”] Explanation: One possible encode method is: “lint:;code:;love:;you”\n",
        "\n",
        "Example2\n",
        "\n",
        "Input: [“we”, “say”, “:”, “yes”] Output: [“we”, “say”, “:”, “yes”] Explanation: One possible encode method is: “we:;say:;:::;yes”"
      ],
      "metadata": {
        "id": "BBNXlsK-easF"
      }
    },
    {
      "cell_type": "code",
      "source": [
        "\"\"\"\n",
        "Encode such that len(string) and delimiter are pre-ambles to the word\n",
        "Eg:\n",
        "Encode input: [\"me\",\"gusta\"]\n",
        "Encode output: \"2#me5#gusta\"\n",
        "Decode input : \"2#me2#no5#gusta\"\n",
        "Decode output: [\"me\",\"no\",\"gusta\"]\n",
        "\"\"\"\n",
        "class Codec:\n",
        "    def encode(self, strs: list[str]) -> str:\n",
        "      res = \"\"\n",
        "      for s in strs:\n",
        "        res += str(len(s)) + \"#\" + s\n",
        "      return res\n",
        "\n",
        "    def decode(self, s: str) -> list[str]:\n",
        "      res = []\n",
        "      i = 0\n",
        "      while i < len(s):\n",
        "        j = i\n",
        "        # j is at i's position (which starts at 0) and keeps incrementing until\n",
        "        # a delimiter is found\n",
        "        while s[j] != \"#\":\n",
        "          j += 1\n",
        "        wordlen = int(s[i:j])\n",
        "        word = s[j+1 : j+1+wordlen]\n",
        "        res.append(word)\n",
        "        i = j + 1 + wordlen\n",
        "\n",
        "      return res\n"
      ],
      "metadata": {
        "id": "HG7iyzrCe-cr"
      },
      "execution_count": null,
      "outputs": []
    },
    {
      "cell_type": "code",
      "source": [
        "ip_e = [\"me\",\"gusta\"]\n",
        "ip_d = \"2#me2#no5#gusta\"\n",
        "c = Codec()\n",
        "print(c.encode(ip_e))\n",
        "print(c.decode(ip_d))"
      ],
      "metadata": {
        "colab": {
          "base_uri": "https://localhost:8080/"
        },
        "id": "WQ2w-0LRgD7x",
        "outputId": "3bb3a6a5-c8ec-4cb1-90d4-a0a0617e3a1e"
      },
      "execution_count": null,
      "outputs": [
        {
          "output_type": "stream",
          "name": "stdout",
          "text": [
            "2#me5#gusta\n",
            "['me', 'no', 'gusta']\n"
          ]
        }
      ]
    },
    {
      "cell_type": "markdown",
      "source": [
        "## Longest Consecutive Sequence\n",
        "\n",
        "Given array of unsorted ints, find the length of the longest consecutive sequence\n",
        "\n",
        "Eg: nums = [100,4,200,3,1,2]\n",
        "\n",
        "OP: 4 (1,2,3,4) is the longest sequence"
      ],
      "metadata": {
        "id": "-GFtcwou3bTu"
      }
    },
    {
      "cell_type": "code",
      "source": [
        "\"\"\"\n",
        "- Check if any (num -1) exists. If it does, move there, otherwise it is the\n",
        "  beginning of a sequence\n",
        "- For every beginning of seq, check if next element is in set, then the next and\n",
        "  so on\n",
        "  [1,2,3,4]\n",
        "\"\"\"\n",
        "class LongSeq:\n",
        "  def longestSeq(self, nums: list[int]) -> int:\n",
        "    longest = 0\n",
        "    numSet = set(nums)\n",
        "    for num in nums:\n",
        "      length = 0\n",
        "      if num-1 not in numSet:\n",
        "        # beginning of Seq\n",
        "        while num + length in numSet:\n",
        "          length += 1\n",
        "          longest = max(longest,length)\n",
        "\n",
        "    return longest"
      ],
      "metadata": {
        "id": "zTgEa-TI3y0F"
      },
      "execution_count": null,
      "outputs": []
    },
    {
      "cell_type": "code",
      "source": [
        "nums = [100,4,200,3,1,2]\n",
        "l = LongSeq()\n",
        "l.longestSeq(nums)"
      ],
      "metadata": {
        "colab": {
          "base_uri": "https://localhost:8080/"
        },
        "id": "lJ8D2ldMGmVd",
        "outputId": "f74ebdad-560b-4186-b5f7-79ee88d2c7b3"
      },
      "execution_count": null,
      "outputs": [
        {
          "output_type": "execute_result",
          "data": {
            "text/plain": [
              "4"
            ]
          },
          "metadata": {},
          "execution_count": 10
        }
      ]
    },
    {
      "cell_type": "markdown",
      "source": [
        "# Two Pointer"
      ],
      "metadata": {
        "id": "etbVb3xdN_AU"
      }
    },
    {
      "cell_type": "markdown",
      "source": [
        "\n",
        "\n",
        "## 3 Sum\n",
        "\n",
        "Given an integer array nums, return all the triplets [nums[i], nums[j], nums[k]] such that i != j, i != k, and j != k, and nums[i] + nums[j] + nums[k] == 0.\n",
        "\n",
        "Notice that the solution set must not contain duplicate triplets.\n",
        "\n",
        "Example 1:\n",
        "\n",
        "Input: nums = [-1,0,1,2,-1,-4]\n",
        "\n",
        "Output: [[-1,-1,2],[-1,0,1]]"
      ],
      "metadata": {
        "id": "tb8q4LW9Li6Z"
      }
    },
    {
      "cell_type": "code",
      "source": [
        "class ThreeSum:\n",
        "    def threeSum(self, nums: list[int]) -> list[list[int]]:\n",
        "      # [-1,0,1,2,-1,-4]\n",
        "      #     ^ ^       ^\n",
        "      ans = []\n",
        "      for i , num in enumerate(nums):\n",
        "        l = 0\n",
        "        r = len(nums) - 1\n",
        "        while l < r and i!=l and i!=r:\n",
        "            print(num , nums[l] , nums[r])\n",
        "            if num + nums[l] + nums[r] == 0:\n",
        "              ans.append([num,nums[l],nums[r]])\n",
        "              r-=1\n",
        "            else:\n",
        "              #l+=1\n",
        "              r-=1\n",
        "      return ans"
      ],
      "metadata": {
        "id": "yWplix-1RjxD"
      },
      "execution_count": null,
      "outputs": []
    },
    {
      "cell_type": "code",
      "source": [
        "nums = [-1,0,1,2,-1,-4]\n",
        "zerosum = ThreeSum()\n",
        "zerosum.threeSum(nums)"
      ],
      "metadata": {
        "colab": {
          "base_uri": "https://localhost:8080/"
        },
        "id": "mzmiGZwiX1h-",
        "outputId": "a4b283d0-823f-4869-b373-d25fc185f595"
      },
      "execution_count": null,
      "outputs": [
        {
          "output_type": "stream",
          "name": "stdout",
          "text": [
            "0 -1 -4\n",
            "0 -1 -1\n",
            "0 -1 2\n",
            "0 -1 1\n",
            "1 -1 -4\n",
            "1 -1 -1\n",
            "1 -1 2\n",
            "2 -1 -4\n",
            "2 -1 -1\n",
            "-1 -1 -4\n"
          ]
        },
        {
          "output_type": "execute_result",
          "data": {
            "text/plain": [
              "[[0, -1, 1], [2, -1, -1]]"
            ]
          },
          "metadata": {},
          "execution_count": 29
        }
      ]
    },
    {
      "cell_type": "markdown",
      "source": [
        "## Container with most water\n",
        "\n",
        "You are given an integer array height of length n. There are n vertical lines drawn such that the two endpoints of the ith line are (i, 0) and (i, height[i]).\n",
        "\n",
        "Find two lines that together with the x-axis form a container, such that the container contains the most water.\n",
        "\n",
        "Return the maximum amount of water a container can store.\n",
        "\n",
        "Notice that you may not slant the container.\n",
        "\n",
        "Input: height = [1,8,6,2,5,4,8,3,7]\n",
        "\n",
        "Output: 49\n",
        "\n",
        "Explanation: The above vertical lines are represented by array [1,8,6,2,5,4,8,3,7]. In this case, the max area of water (blue section) the container can contain is 49"
      ],
      "metadata": {
        "id": "VO69Yd811EZH"
      }
    },
    {
      "cell_type": "code",
      "source": [
        "class Container:\n",
        "    def maxArea(self, height: list[int]) -> int:\n",
        "      area = 0\n",
        "      l = 0\n",
        "      r = len(height) - 1\n",
        "      while l < r:\n",
        "        minHt = min(height[l], height[r])\n",
        "        area = max(area, minHt * (r-l))\n",
        "        if height[l] < height[r]:\n",
        "          l+=1\n",
        "        else:\n",
        "          r-=1\n",
        "      return area"
      ],
      "metadata": {
        "id": "Xt-tdwYT1KBa"
      },
      "execution_count": null,
      "outputs": []
    },
    {
      "cell_type": "code",
      "source": [
        "height = [1,8,6,2,5,4,8,3,7]\n",
        "#           ^ ^\n",
        "c = Container()\n",
        "c.maxArea(height)"
      ],
      "metadata": {
        "colab": {
          "base_uri": "https://localhost:8080/"
        },
        "id": "GeO-or9V1jQi",
        "outputId": "18cb0c29-182c-4d8c-ed29-65b3c2b178de"
      },
      "execution_count": null,
      "outputs": [
        {
          "output_type": "execute_result",
          "data": {
            "text/plain": [
              "49"
            ]
          },
          "metadata": {},
          "execution_count": 37
        }
      ]
    },
    {
      "cell_type": "markdown",
      "source": [
        "## Trapping Rain Water\n",
        "\n",
        "Given n non-negative integers representing an elevation map where the width of each bar is 1, compute how much water it can trap after raining.\n",
        "\n",
        "Input: height = [0,1,0,2,1,0,1,3,2,1,2,1]\n",
        "\n",
        "Output: 6\n",
        "\n",
        "Explanation: The above elevation map (black section) is represented by array [0,1,0,2,1,0,1,3,2,1,2,1]. In this case, 6 units of rain water (blue section) are being trapped.\n",
        "\n",
        "Example 2:\n",
        "\n",
        "Input: height = [4,2,0,3,2,5]\n",
        "\n",
        "Output: 9\n"
      ],
      "metadata": {
        "id": "2XIYhbF25cKF"
      }
    },
    {
      "cell_type": "code",
      "source": [
        "\"\"\"\n",
        "We initialize two pointers, one at the beginning of the array (left) and the\n",
        "other at the end of the array (right). We also initialize two variables to keep\n",
        "track of the maximum left height and maximum right height seen so far. While the\n",
        "left pointer is less than the right pointer, we compare the height at the left\n",
        "and right pointers. If the height at the left pointer is less than or equal to\n",
        "the height at the right pointer, it means we can trap water between the left\n",
        "pointer and the maximum left height. Otherwise, we can trap water between the\n",
        "right pointer and the maximum right height. At each step, we update the trapped\n",
        "water amount and move the pointers and update the maximum heights accordingly.\n",
        "\"\"\"\n",
        "class TrapWater:\n",
        "    def trap(self, height: list[int]) -> int:\n",
        "      l= 0\n",
        "      r= len(height) - 1\n",
        "      max_ht_l = 0\n",
        "      max_ht_r = 0\n",
        "      trapped_water = 0\n",
        "\n",
        "      while l < r:\n",
        "        if height[l] <= height[r]:\n",
        "          if height[l] >= max_ht_l:\n",
        "            max_ht_l = height[l]\n",
        "          else:\n",
        "            trapped_water += max_ht_l - height[l]\n",
        "          l+=1\n",
        "        else:\n",
        "          if height[r] >= max_ht_r:\n",
        "            max_ht_r = height[r]\n",
        "          else:\n",
        "            trapped_water += max_ht_r - height[r]\n",
        "          r-=1\n",
        "\n",
        "      return trapped_water"
      ],
      "metadata": {
        "id": "aW6kYZXH5lCi"
      },
      "execution_count": null,
      "outputs": []
    },
    {
      "cell_type": "code",
      "source": [
        "height = [4,2,0,3,2,5]\n",
        "trap_water = TrapWater()\n",
        "trap_water.trap(height)"
      ],
      "metadata": {
        "colab": {
          "base_uri": "https://localhost:8080/"
        },
        "id": "PKFbwtIDwyt9",
        "outputId": "1505f4be-5209-4bf6-faf7-cc619f5e745d"
      },
      "execution_count": null,
      "outputs": [
        {
          "output_type": "execute_result",
          "data": {
            "text/plain": [
              "9"
            ]
          },
          "metadata": {},
          "execution_count": 3
        }
      ]
    },
    {
      "cell_type": "markdown",
      "source": [
        "# Sliding Window"
      ],
      "metadata": {
        "id": "p62H8LZMRMeY"
      }
    },
    {
      "cell_type": "markdown",
      "source": [
        "## Best time to buy and sell stock\n",
        "\n"
      ],
      "metadata": {
        "id": "MCGQvvVmRQhD"
      }
    },
    {
      "cell_type": "markdown",
      "source": [
        "Say you have an array for which the ith element is the price of a given stock on day i.\n",
        "\n",
        "If you were only permitted to complete at most one transaction (i.e., buy one and sell one share of the stock), design an algorithm to find the maximum profit.\n",
        "\n",
        "Note that you cannot sell a stock before you buy one.\n",
        "\n",
        "Example 1:\n",
        "\n",
        "Input: [7,1,5,3,6,4]\n",
        "\n",
        "Output: 5\n",
        "\n",
        "Explanation: Buy on day 2 (price = 1) and sell on day 5 (price = 6), profit = 6-1 = 5.\n",
        "             Not 7-1 = 6, as selling price needs to be larger than buying price.\n",
        "\n",
        "Example 2:\n",
        "\n",
        "Input: [7,6,4,3,1]\n",
        "\n",
        "Output: 0\n",
        "\n",
        "Explanation: In this case, no transaction is done, i.e. max profit = 0."
      ],
      "metadata": {
        "id": "Qdc51Kdo8iUJ"
      }
    },
    {
      "cell_type": "code",
      "source": [
        "class Stock:\n",
        "  def maxProfit(self, prices: list[int]) -> int:\n",
        "    # l = buy, r = sell\n",
        "    l = 0\n",
        "    r = 1\n",
        "    maxP = 0\n",
        "\n",
        "    while r < len(prices) - 1:\n",
        "      if prices[l] < prices[r]:\n",
        "        profit = prices[r] - prices[l]\n",
        "        maxP = max(maxP, profit)\n",
        "      else:\n",
        "        l = r\n",
        "      r += 1\n",
        "    return maxP"
      ],
      "metadata": {
        "id": "TLd-j3-tTkAs"
      },
      "execution_count": null,
      "outputs": []
    },
    {
      "cell_type": "code",
      "source": [
        "prices = [7,1,5,3,6,4]\n",
        "s = Stock()\n",
        "s.maxProfit(prices)"
      ],
      "metadata": {
        "colab": {
          "base_uri": "https://localhost:8080/"
        },
        "id": "cs4Lj5L9XYeH",
        "outputId": "a02b69dc-b0ec-44dd-a7ea-66de2f269d8d"
      },
      "execution_count": null,
      "outputs": [
        {
          "output_type": "execute_result",
          "data": {
            "text/plain": [
              "5"
            ]
          },
          "metadata": {},
          "execution_count": 2
        }
      ]
    },
    {
      "cell_type": "markdown",
      "source": [
        "## Logger rate limiter"
      ],
      "metadata": {
        "id": "E3glNiH-Y-xW"
      }
    },
    {
      "cell_type": "code",
      "source": [
        "\"\"\"\n",
        "Hashmap with Key: value, key - msg, val - ts\n",
        "If msg not in dict, add to dict\n",
        "If msg in dict, check ts, if ts>10, print msg\n",
        "                          if ts<10, continue\n",
        "\"\"\"\n",
        "\n",
        "class Logger:\n",
        "  def __init__(self):\n",
        "    self.log = {}\n",
        "  def shouldPrint(self, ts:int, msg:string)->bool:\n",
        "    if msg not in self.log:\n",
        "      self.log[msg] = ts\n",
        "      return True\n",
        "    if ts - self.log[msg] >=10:\n",
        "      return True\n",
        "    else:\n",
        "      return False\n"
      ],
      "metadata": {
        "id": "ZG6ZafK0ZCaw"
      },
      "execution_count": null,
      "outputs": []
    },
    {
      "cell_type": "markdown",
      "source": [
        "# Binary Search"
      ],
      "metadata": {
        "id": "xePOLiN3sMw2"
      }
    },
    {
      "cell_type": "markdown",
      "source": [
        "## Koko Eating Bananas"
      ],
      "metadata": {
        "id": "mlT4ORWusP-K"
      }
    },
    {
      "cell_type": "code",
      "source": [
        "def min_eating_speed(piles, H):\n",
        "    def can_finish(k):\n",
        "        hours = 0\n",
        "        for pile in piles:\n",
        "            hours += (pile + k - 1) // k\n",
        "        return hours <= H\n",
        "\n",
        "    left, right = 1, max(piles)\n",
        "    while left < right:\n",
        "        mid = (left + right) // 2\n",
        "        if can_finish(mid):\n",
        "            right = mid\n",
        "        else:\n",
        "            left = mid + 1\n",
        "    return left\n",
        "\n",
        "# Example usage:\n",
        "piles = [3, 6, 7, 11]\n",
        "H = 8\n",
        "print(min_eating_speed(piles, H))  # Output: 4\n"
      ],
      "metadata": {
        "id": "ZVO6Rp7lsTeh"
      },
      "execution_count": null,
      "outputs": []
    },
    {
      "cell_type": "markdown",
      "source": [
        "# Linked Lists"
      ],
      "metadata": {
        "id": "MY87j6IpxWZZ"
      }
    },
    {
      "cell_type": "markdown",
      "source": [
        "## Find middle node in linked list"
      ],
      "metadata": {
        "id": "-3Pm0lnRYkxa"
      }
    },
    {
      "cell_type": "markdown",
      "source": [
        "## Linked List Cycle"
      ],
      "metadata": {
        "id": "YmS7R2KGYqtZ"
      }
    },
    {
      "cell_type": "markdown",
      "source": [
        "## Linked List Cycle II"
      ],
      "metadata": {
        "id": "frTSehbaY5sW"
      }
    },
    {
      "cell_type": "markdown",
      "source": [
        "## Merge two sorted lists"
      ],
      "metadata": {
        "id": "goAgwAJEZEt5"
      }
    },
    {
      "cell_type": "markdown",
      "source": [
        "## Intersection of two linked lists"
      ],
      "metadata": {
        "id": "QkJ49TBwZI5N"
      }
    },
    {
      "cell_type": "markdown",
      "source": [
        "## Reverse a linked list"
      ],
      "metadata": {
        "id": "eQy1UfmtxZEn"
      }
    },
    {
      "cell_type": "code",
      "source": [
        "\"\"\"\n",
        "      1  ->  2  ->  3  ->  None\n",
        "prev  head\n",
        "      curr\n",
        "\"\"\"\n",
        "\n",
        "class ListNode:\n",
        "  def __init__(self, value = 0, next = None):\n",
        "    self.value = value\n",
        "    self.next = None\n",
        "\n",
        "def reverseList(head):\n",
        "  prev = None\n",
        "  curr = head\n",
        "  while curr:\n",
        "    next_node = curr.next\n",
        "    curr.next = prev\n",
        "    prev = curr\n",
        "    curr = next_node\n",
        "\n",
        "  def print_list(node):\n",
        "    while node:\n",
        "        print(node.value, end=\" -> \")\n",
        "        node = node.next\n",
        "    print(\"None\")\n",
        "\n",
        "# Create a linked list 1 -> 2 -> 3 -> None\n",
        "head = ListNode(1, ListNode(2, ListNode(3)))\n",
        "print(\"Original list:\")\n",
        "print_list(head)\n",
        "\n",
        "# Reverse the linked list\n",
        "reversed_head = reverse_linked_list(head)\n",
        "print(\"Reversed list:\")\n",
        "print_list(reverse_head)"
      ],
      "metadata": {
        "id": "Yx3WuQ8jrMdO"
      },
      "execution_count": null,
      "outputs": []
    },
    {
      "cell_type": "markdown",
      "source": [
        "## LRU Cache"
      ],
      "metadata": {
        "id": "G7t76HnFPVpU"
      }
    },
    {
      "cell_type": "markdown",
      "source": [
        "Implement LRUCache class with positive size\n",
        "- get: return the value of key if key exists, else -1\n",
        "- put: Update val of key if key exists, else add to cache\n",
        "  - If number of keys exceeds capacity, evict least recently used"
      ],
      "metadata": {
        "id": "e6qSOuKSPX1i"
      }
    },
    {
      "cell_type": "code",
      "source": [
        "\"\"\"\n",
        "Double linked list where:\n",
        "left node: is least recently used\n",
        "right node: most recently used\n",
        "two way links between the nodes, prev and next\n",
        "\n",
        "k1   ->   k2  ->    k3\n",
        "v1   <-   v2  <-    v3\n",
        "LRU                 MRU\n",
        "head                tail\n",
        "\"\"\"\n",
        "class Node:\n",
        "  def __init__(self, key, val):\n",
        "    self.key = key\n",
        "    self.val = val\n",
        "    self.prev = None\n",
        "    self.nxt = None\n",
        "\n",
        "class LRUCache:\n",
        "  def __init__(self, capacity:int):\n",
        "    self.cap = capacity\n",
        "    self.cache = {}\n",
        "    # left-LRU, right-MRU\n",
        "    self.left =  Node(0,0)\n",
        "    self.right = Node(0,0)\n",
        "    self.left.nxt = self.right\n",
        "    self.right.prev = self.left\n",
        "\n",
        "  # to remove LRU\n",
        "  def remove(self, node):\n",
        "    prev = node.prev\n",
        "    nxt = node.nxt\n",
        "    prev.nxt = nxt\n",
        "    nxt.prev = prev\n",
        "\n",
        "  # to insert to the right as MRU\n",
        "  def insert(self, node):\n",
        "    prev = self.right.prev\n",
        "    prev.nxt = node\n",
        "    self.right.prev = node\n",
        "    node.prev = prev\n",
        "    node.nxt = self\n",
        "\n",
        "  def get(self, key:int) -> int:\n",
        "    if key in self.cache:\n",
        "      self.remove(self.cache[key])\n",
        "      self.insert(self.cache[key])\n",
        "      return self.cache[key].val\n",
        "      # Update this key:val pair to most recently used\n",
        "\n",
        "    return -1\n",
        "\n",
        "  def put(self, key:int, val:int) -> None:\n",
        "    if key in self.cache:\n",
        "      self.remove(self.cache[key])\n",
        "    self.cache[key] = Node(key, val)\n",
        "    self.insert(self.cache[key])\n",
        "\n",
        "    if len(self.cache) > self.cap:\n",
        "      lru = self.left.nxt\n",
        "      self.remove(lru)\n",
        "      del(self.cache[lru.key])\n"
      ],
      "metadata": {
        "id": "op6e2ypuP9cX"
      },
      "execution_count": null,
      "outputs": []
    },
    {
      "cell_type": "code",
      "source": [
        "# Create an LRU cache with a capacity of 2\n",
        "lru_cache = LRUCache(2)\n",
        "\n",
        "# Add key-value pairs to the cache\n",
        "lru_cache.put(1, 1)\n",
        "lru_cache.put(2, 2)\n",
        "\n",
        "# Retrieve the value of key 1\n",
        "print(lru_cache.get(1)) # Outputs: 1\n",
        "\n",
        "# Add another key-value pair, causing the least recently used item (key 2) to be evicted\n",
        "lru_cache.put(3, 3)\n",
        "\n",
        "# Attempt to retrieve the value of key 2, which was evicted\n",
        "print(lru_cache.get(2)) # Outputs: -1\n",
        "\n",
        "# Add another key-value pair, causing the least recently used item (key 1) to be evicted\n",
        "lru_cache.put(4, 4)\n",
        "\n",
        "# Retrieve the value of key 1, which was evicted\n",
        "print(lru_cache.get(1)) # Outputs: -1\n",
        "\n",
        "# Retrieve the value of key 3\n",
        "print(lru_cache.get(3)) # Outputs: 3\n",
        "\n",
        "# Retrieve the value of key 4\n",
        "print(lru_cache.get(4)) # Outputs: 4"
      ],
      "metadata": {
        "colab": {
          "base_uri": "https://localhost:8080/"
        },
        "id": "7ngp7BdfQN5N",
        "outputId": "684dc9ee-9ba8-48af-e1b9-694a0f7cf1b8"
      },
      "execution_count": null,
      "outputs": [
        {
          "output_type": "stream",
          "name": "stdout",
          "text": [
            "1\n",
            "-1\n",
            "-1\n",
            "3\n",
            "4\n"
          ]
        }
      ]
    },
    {
      "cell_type": "markdown",
      "source": [
        "# Graphs"
      ],
      "metadata": {
        "id": "QUczeAC42ofe"
      }
    },
    {
      "cell_type": "markdown",
      "source": [
        "## Networkx"
      ],
      "metadata": {
        "id": "aD6DXRCjv69n"
      }
    },
    {
      "cell_type": "code",
      "source": [
        "!pip install networkx matplotlib"
      ],
      "metadata": {
        "colab": {
          "base_uri": "https://localhost:8080/"
        },
        "id": "yhJV2Mdwv6EG",
        "outputId": "81b0d6e9-183f-4d6d-d4fd-8b3e2c42475e"
      },
      "execution_count": 1,
      "outputs": [
        {
          "output_type": "stream",
          "name": "stdout",
          "text": [
            "Requirement already satisfied: networkx in /usr/local/lib/python3.10/dist-packages (3.4.2)\n",
            "Requirement already satisfied: matplotlib in /usr/local/lib/python3.10/dist-packages (3.8.0)\n",
            "Requirement already satisfied: contourpy>=1.0.1 in /usr/local/lib/python3.10/dist-packages (from matplotlib) (1.3.1)\n",
            "Requirement already satisfied: cycler>=0.10 in /usr/local/lib/python3.10/dist-packages (from matplotlib) (0.12.1)\n",
            "Requirement already satisfied: fonttools>=4.22.0 in /usr/local/lib/python3.10/dist-packages (from matplotlib) (4.55.3)\n",
            "Requirement already satisfied: kiwisolver>=1.0.1 in /usr/local/lib/python3.10/dist-packages (from matplotlib) (1.4.7)\n",
            "Requirement already satisfied: numpy<2,>=1.21 in /usr/local/lib/python3.10/dist-packages (from matplotlib) (1.26.4)\n",
            "Requirement already satisfied: packaging>=20.0 in /usr/local/lib/python3.10/dist-packages (from matplotlib) (24.2)\n",
            "Requirement already satisfied: pillow>=6.2.0 in /usr/local/lib/python3.10/dist-packages (from matplotlib) (11.0.0)\n",
            "Requirement already satisfied: pyparsing>=2.3.1 in /usr/local/lib/python3.10/dist-packages (from matplotlib) (3.2.0)\n",
            "Requirement already satisfied: python-dateutil>=2.7 in /usr/local/lib/python3.10/dist-packages (from matplotlib) (2.8.2)\n",
            "Requirement already satisfied: six>=1.5 in /usr/local/lib/python3.10/dist-packages (from python-dateutil>=2.7->matplotlib) (1.17.0)\n"
          ]
        }
      ]
    },
    {
      "cell_type": "code",
      "source": [
        "import networkx as nx\n",
        "import matplotlib.pyplot as plt\n",
        "\n",
        "# Create an empty graph\n",
        "G = nx.Graph()\n",
        "\n",
        "# Add nodes (locations)\n",
        "G.add_node(\"A\")\n",
        "G.add_node(\"B\")\n",
        "G.add_node(\"C\")\n",
        "G.add_node(\"D\")\n",
        "\n",
        "# Add edges (roads) with weights (distances)\n",
        "G.add_edge(\"A\", \"B\", weight=1)\n",
        "G.add_edge(\"A\", \"C\", weight=4)\n",
        "G.add_edge(\"B\", \"C\", weight=2)\n",
        "G.add_edge(\"B\", \"D\", weight=5)\n",
        "G.add_edge(\"C\", \"D\", weight=1)\n",
        "\n",
        "# Draw the graph\n",
        "pos = nx.spring_layout(G)  # positions for all nodes\n",
        "nx.draw(G, pos, with_labels=True, node_size=700, node_color='lightblue')\n",
        "\n",
        "# Draw edge labels (weights)\n",
        "labels = nx.get_edge_attributes(G, 'weight')\n",
        "nx.draw_networkx_edge_labels(G, pos, edge_labels=labels)\n",
        "\n",
        "# Display the graph\n",
        "plt.show()"
      ],
      "metadata": {
        "colab": {
          "base_uri": "https://localhost:8080/",
          "height": 516
        },
        "id": "BbwZrp85wLTV",
        "outputId": "939d589b-af00-4dcb-9c66-8fc45e708a09"
      },
      "execution_count": 2,
      "outputs": [
        {
          "output_type": "display_data",
          "data": {
            "text/plain": [
              "<Figure size 640x480 with 1 Axes>"
            ],
            "image/png": "[encoded data removed]"
          },
          "metadata": {}
        }
      ]
    },
    {
      "cell_type": "markdown",
      "source": [
        "## Max Area of an Island"
      ],
      "metadata": {
        "id": "9P4g6zNWHvo9"
      }
    },
    {
      "cell_type": "code",
      "source": [
        "\"\"\"\n",
        "- Utilize DFS to find area of an island\n",
        "- While checking if a block is land, turn 1 into 0 after checking to avoid going\n",
        "over it again\n",
        "- Accumulate total area, then find the max of current maxArea and current\n",
        "island's area\n",
        "\"\"\"\n",
        "\n",
        "class Area:\n",
        "  def maxAreaOfIsland(self, grid:list[list[int]]) -> int:\n",
        "    ROWS = len(grid)\n",
        "    COLS = len(grid[0])\n",
        "    maxArea = 0\n",
        "\n",
        "    def dfs(r, c):\n",
        "      if (\n",
        "          r < 0 or r >= ROWS or\n",
        "          c < 0 or c >= COLS or\n",
        "          grid[r][c] == 0\n",
        "      ):\n",
        "        return\n",
        "      grid[r][c] = 0  # Mark as visited\n",
        "      area = 1\n",
        "      area += dfs(r+1, c)\n",
        "      area += dfs(r-1, c)\n",
        "      area += dfs(r, c+1)\n",
        "      area += dfs(r, c-1)\n",
        "      return area\n",
        "\n",
        "    for row in range(ROWS):\n",
        "      for col in range(COLS):\n",
        "        if grid[row][col] == 1:\n",
        "          max(maxArea, dfs(row, col))\n",
        "\n",
        "    return maxArea"
      ],
      "metadata": {
        "id": "yE4o0dAAHy9_"
      },
      "execution_count": null,
      "outputs": []
    },
    {
      "cell_type": "code",
      "source": [
        "grid = [[0,0,1,0,0,0,0,1,0,0,0,0,0],\n",
        " [0,0,0,0,0,0,0,1,1,1,0,0,0],\n",
        "  [0,1,1,0,1,0,0,0,0,0,0,0,0],\n",
        "   [0,1,0,0,1,1,0,0,1,0,1,0,0],\n",
        "    [0,1,0,0,1,1,0,0,1,1,1,0,0],\n",
        "     [0,0,0,0,0,0,0,0,0,0,1,0,0],\n",
        "      [0,0,0,0,0,0,0,1,1,1,0,0,0],\n",
        "       [0,0,0,0,0,0,0,1,1,0,0,0,0]]\n",
        "\n",
        "a = Area()\n",
        "a.maxAreaOfIsland(grid) # OP: 6"
      ],
      "metadata": {
        "id": "kXvre-_oH4i3"
      },
      "execution_count": null,
      "outputs": []
    },
    {
      "cell_type": "markdown",
      "source": [
        "## Number of islands"
      ],
      "metadata": {
        "id": "NZD0D4mA_6uR"
      }
    },
    {
      "cell_type": "markdown",
      "source": [
        "Given an m x n 2D binary grid grid which represents a map of '1's (land) and '0's (water), return the number of islands.\n",
        "\n",
        "An island is surrounded by water and is formed by connecting adjacent lands horizontally or vertically. You may assume all four edges of the grid are all surrounded by water."
      ],
      "metadata": {
        "id": "th5Y5hslBGmt"
      }
    },
    {
      "cell_type": "code",
      "source": [
        "\"\"\"\n",
        "- If using BFS, intuition is to use a queue to keep track of all adjacent valid\n",
        "land (1) blocks\n",
        "- Set \"seen\" keeps track of all grid values already checked\n",
        "\"\"\"\n",
        "\n",
        "from collections import deque\n",
        "class Islands:\n",
        "  def numIslands(self, grid:list[list[str]]) -> int:\n",
        "    islands = 0\n",
        "    ROWS = len(grid)\n",
        "    COLS = len(grid[0])\n",
        "    seen = set()\n",
        "    q = deque()\n",
        "\n",
        "    # Find adjacent cells with value \"1\"\n",
        "    def bfs(r,c):\n",
        "      seen.add((r,c))\n",
        "      q.append((r,c))\n",
        "      while q:\n",
        "        row, col = q.popleft()\n",
        "        dirs = [[1,0],[0,1],[-1,0],[0,-1]]\n",
        "        for dr, dc in dirs:\n",
        "          r, c = row + dr, col + dc\n",
        "          if (\n",
        "              r in range(ROWS) and\n",
        "              c in range(COLS) and\n",
        "              grid[r][c] == \"1\" and\n",
        "              (r,c) not in seen\n",
        "          ):\n",
        "            q.append((r,c))\n",
        "            seen.add((r,c))\n",
        "\n",
        "    for r in ROWS:\n",
        "      for c in COLS:\n",
        "        if grid[r][c] == \"1\" and (r,c) not in seen:\n",
        "          bfs(r,c)\n",
        "          islands += 1\n",
        "    return islands"
      ],
      "metadata": {
        "id": "RATHnEJI_8he"
      },
      "execution_count": null,
      "outputs": []
    },
    {
      "cell_type": "code",
      "source": [
        "grid = [\n",
        "  [\"1\",\"1\",\"1\",\"1\",\"0\"],\n",
        "  [\"1\",\"1\",\"0\",\"1\",\"0\"],\n",
        "  [\"1\",\"1\",\"0\",\"0\",\"0\"],\n",
        "  [\"0\",\"0\",\"0\",\"0\",\"0\"]\n",
        "]\n",
        "# OP: 1\n",
        "grid1 = [\n",
        "  [\"1\",\"1\",\"0\",\"0\",\"0\"],\n",
        "  [\"1\",\"1\",\"0\",\"0\",\"0\"],\n",
        "  [\"0\",\"0\",\"1\",\"0\",\"0\"],\n",
        "  [\"0\",\"0\",\"0\",\"1\",\"1\"]\n",
        "]\n",
        "# Output: 3"
      ],
      "metadata": {
        "id": "jzv78mE3BKUa"
      },
      "execution_count": null,
      "outputs": []
    },
    {
      "cell_type": "markdown",
      "source": [
        "## Walls and Gates\n",
        "\n",
        "You are given a m x n 2D grid initialized with these three possible values.\n",
        "\n",
        "    -1 - A wall or an obstacle.\n",
        "    0 - A gate.\n",
        "    INF - Infinity means an empty room. We use the value 231 - 1 = 2147483647 to represent INF as you may assume that the distance to a gate is less than 2147483647.\n",
        "\n",
        "Fill each empty room with the distance to its nearest gate. If it is impossible to reach a gate, it should be filled with INF.\n",
        "\n",
        "Example:\n",
        "\n",
        "Given the 2D grid:\n",
        "\n",
        "INF  -1  0  INF\n",
        "INF INF INF  -1\n",
        "INF  -1 INF  -1\n",
        "  0  -1 INF INF\n",
        "\n",
        "After running your function, the 2D grid should be:\n",
        "\n",
        "  3  -1   0   1\n",
        "  2   2   1  -1\n",
        "  1  -1   2  -1\n",
        "  0  -1   3   4\n"
      ],
      "metadata": {
        "id": "TILJuwbi2qq3"
      }
    },
    {
      "cell_type": "code",
      "source": [
        "from collections import deque\n",
        "class Walls:\n",
        "  def wallsAndGates(self, rooms: list[list[int]]) -> None:\n",
        "    ROWS, COLS = len(rooms), len(rooms[0])\n",
        "    q = deque()\n",
        "    seen = set()\n",
        "\n",
        "    def addRoom(r,c):\n",
        "        if (\n",
        "            (r,c) not in seen or\n",
        "            r!=0 or r!= ROWS-1 or\n",
        "            c!=0 or c!= COLS -1 or\n",
        "            rooms[r][c] != 0\n",
        "        ):\n",
        "          return\n",
        "        seen.add([r,c])\n",
        "        q.append([r,c])\n",
        "\n",
        "    for row in range(ROWS):\n",
        "      for col in range(COLS):\n",
        "        if rooms[row][col] == 0:\n",
        "          seen.add([row,col])\n",
        "          q.append([row,col])\n",
        "\n",
        "    dist = 0\n",
        "\n",
        "    while q:\n",
        "      r,c = q.popleft()\n",
        "      for i in range(len(q)):\n",
        "        rooms[r][c] = dist\n",
        "        addRoom(r+1,c)\n",
        "        addRoom(r,c+1)\n",
        "        addRoom(r-1,c)\n",
        "        addRoom(r,c-1)\n",
        "      dist += 1"
      ],
      "metadata": {
        "id": "Rol4QUQU2oGU"
      },
      "execution_count": null,
      "outputs": []
    },
    {
      "cell_type": "code",
      "source": [
        "from collections import deque\n",
        "\n",
        "class Walls:\n",
        "  def distToGate(self, matrix:list[list[int]]) -> list[list[int]]:\n",
        "    q = deque()\n",
        "    seen = set()\n",
        "    ROWS = len(matrix)\n",
        "    COLS = len(matrix[0])\n",
        "    INF = 2**31-1\n",
        "    dir = [[0,1],[1,0],[-1,0],[0,-1]]\n",
        "\n",
        "    # Collect list of gates in q\n",
        "    for row in range(ROWS):\n",
        "      for col in range(COLS):\n",
        "        if (row,col) not in seen and matrix[row][col] == 0:\n",
        "          q.append((row,col))\n",
        "          seen.add((row,col))\n",
        "\n",
        "    while q:\n",
        "      r, c = q.popleft()\n",
        "      for dr, dc in dir:\n",
        "          nr, nc = r + dr, c + dc\n",
        "          if 0 <= nr < ROWS and 0 <= nc < COLS and matrix[nr][nc] == INF:\n",
        "              matrix[nr][nc] = matrix[r][c] + 1\n",
        "              q.append((nr, nc))\n",
        "\n",
        "    return matrix\n",
        "\n",
        "    \"\"\"\n",
        "    while q:\n",
        "      # Get the gate\n",
        "      r,c = q.popleft()\n",
        "      for dr,dc in dir:\n",
        "        nr = r+dr\n",
        "        nc = c+dc\n",
        "        if 0 <= nr < ROWS and 0 <= nc < COLS and matrix[nr][nc] == INF:\n",
        "          matrix[nr][nc] = matrix[r][c] + 1\n",
        "          #seen.add((nr,nc))\n",
        "          q.append((nr,nc))\n",
        "\n",
        "    return matrix\n",
        "    \"\"\""
      ],
      "metadata": {
        "id": "CKEGXZqSxNqh"
      },
      "execution_count": null,
      "outputs": []
    },
    {
      "cell_type": "code",
      "source": [
        "INF = 2**31-1\n",
        "rooms = [[INF, -1, 0, INF],\n",
        "         [INF, INF, INF, -1],\n",
        "         [INF, -1, INF, -1],\n",
        "         [0, -1, INF, INF]]\n",
        "w = Walls()\n",
        "w.distToGate(rooms)"
      ],
      "metadata": {
        "colab": {
          "base_uri": "https://localhost:8080/"
        },
        "id": "WVUzVy_C0TiJ",
        "outputId": "b0d7e2ce-39ce-4ce8-d964-bad950fa95ef"
      },
      "execution_count": null,
      "outputs": [
        {
          "output_type": "execute_result",
          "data": {
            "text/plain": [
              "[[3, -1, 0, 1], [2, 2, 1, -1], [1, -1, 2, -1], [0, -1, 3, 4]]"
            ]
          },
          "metadata": {},
          "execution_count": 48
        }
      ]
    },
    {
      "cell_type": "markdown",
      "source": [
        "## Course Schedule"
      ],
      "metadata": {
        "id": "EJaT54CYMXfz"
      }
    },
    {
      "cell_type": "code",
      "source": [
        "\"\"\"\n",
        "- Iterate through all courses (nodes)\n",
        "- Apply base cases to DFS for each node (crs)\n",
        "  - If crs (node) has already been seen, return false\n",
        "  - If dict[crs] (which is prereq) is empty, prereq does not exist, therefore\n",
        "    return true\n",
        "- Otherwise, if the above 2 conditions are not met, meaning we are searching\n",
        "  through the depth of a node, add crs (node) to seen\n",
        "  - Therefore, recursively search for whether those prereqs have prereqs or not\n",
        "- Once searched, and no prereqs are cyclic, remove node (crs) from seen, turn\n",
        "  dict value (a list) to empty, and return true\n",
        "\"\"\"\n",
        "class CourseSched:\n",
        "  def canFinish(self, numCourses: int, prereqs: list[list[int]]) -> bool:\n",
        "    seen = set()\n",
        "    crs_map = {key:[] for key in range(numCourses)}\n",
        "    for crs, pre in prereqs:\n",
        "      crs_map[crs].append(pre)\n",
        "\n",
        "    def dfs(crs):\n",
        "      if crs in seen:\n",
        "        return False\n",
        "      if crs_map[crs] == []:\n",
        "        return True\n",
        "\n",
        "      seen.add(crs)\n",
        "      for pre in crs_map[crs]:\n",
        "        if not dfs(pre): return False\n",
        "\n",
        "      seen.remove(crs)\n",
        "      crs_map[crs] = []\n",
        "      return True\n",
        "\n",
        "    for crs in range(numCourses):\n",
        "      if not dfs(crs): return False\n",
        "\n",
        "    return True"
      ],
      "metadata": {
        "id": "6rsWOR8lMaDX"
      },
      "execution_count": null,
      "outputs": []
    },
    {
      "cell_type": "code",
      "source": [
        "prereqs = [[0,1],[0,2],[1,3],[1,4],[3,4]]\n",
        "c = CourseSched()\n",
        "c.canFinish(numCourses= 5, prereqs= prereqs)"
      ],
      "metadata": {
        "colab": {
          "base_uri": "https://localhost:8080/"
        },
        "id": "mEClwnclMZcK",
        "outputId": "0bd6db69-1df1-4bf6-9a5d-b6b8ffdb6dda"
      },
      "execution_count": null,
      "outputs": [
        {
          "output_type": "execute_result",
          "data": {
            "text/plain": [
              "True"
            ]
          },
          "metadata": {},
          "execution_count": 13
        }
      ]
    },
    {
      "cell_type": "code",
      "source": [
        "\"\"\"\n",
        "          4\n",
        "          ^\n",
        "          |\n",
        "4 <- 3 <- 1 <- 0 -> 2\n",
        "\n",
        "prereqs:\n",
        "0: [1, 2]\n",
        "1: [3, 4]\n",
        "2: []\n",
        "3: [4]\n",
        "4: []\n",
        "\"\"\""
      ],
      "metadata": {
        "id": "2K4x-nkweTMN"
      },
      "execution_count": null,
      "outputs": []
    },
    {
      "cell_type": "markdown",
      "source": [
        "## Course Schedule II"
      ],
      "metadata": {
        "id": "rPTtNik1Py8u"
      }
    },
    {
      "cell_type": "code",
      "source": [
        "class CrsSched:\n",
        "    def findOrder(self, numCourses: int, prerequisites: list[list[int]]) -> list[int]:\n",
        "      crs_map = {i:[] for i in range(numCourses)}\n",
        "      visit = set()\n",
        "      cycle = set()\n",
        "      course_order = []\n",
        "\n",
        "      for crs, pre in prerequisites:\n",
        "        crs_map[crs].append(pre)\n",
        "\n",
        "      def dfs(crs):\n",
        "        if crs in cycle:\n",
        "          return False\n",
        "        if crs in visit:\n",
        "          return True\n",
        "        cycle.add(crs)\n",
        "        for pre in crs_map[crs]:\n",
        "          # dfs(pre) will flush out any cyclic relationships and return False if so\n",
        "          if not dfs(pre): return False\n",
        "        cycle.remove(crs)\n",
        "        visit.add(crs)\n",
        "        course_order.append(crs)\n",
        "        return True\n",
        "\n",
        "      for crs in range(numCourses):\n",
        "        if dfs(crs) == False: return []\n",
        "      return course_order"
      ],
      "metadata": {
        "id": "39C0fhZHP66f"
      },
      "execution_count": null,
      "outputs": []
    },
    {
      "cell_type": "code",
      "source": [
        "# Positive case: [[0,1],[0,2], [1,3], [3,2], [4,0], [5,0]], numCourses = 6, OP = [2,3,1,0,4,5]\n",
        "# Negative case: [[0,1],[0,2], [1,3], [2,0], [3,2], [4,0], [5,0]], numCourses = 6, OP = []\n",
        "# Positive case: [[1,0],[2,0],[3,1],[3,2]], numCourses = 4\n",
        "numCourses = 6\n",
        "prerequisites = [[0,1],[0,2], [1,3], [3,2], [4,0], [5,0]]\n",
        "c = CrsSched()\n",
        "c.findOrder(numCourses, prerequisites)"
      ],
      "metadata": {
        "colab": {
          "base_uri": "https://localhost:8080/"
        },
        "id": "rrbhvCRwP7UI",
        "outputId": "8787b28a-ab5a-4703-8c88-c8838c1dd62e"
      },
      "execution_count": null,
      "outputs": [
        {
          "output_type": "execute_result",
          "data": {
            "text/plain": [
              "[2, 3, 1, 0, 4, 5]"
            ]
          },
          "metadata": {},
          "execution_count": 26
        }
      ]
    },
    {
      "cell_type": "code",
      "source": [
        "# Topological sort with Kahn's algorithm\n",
        "\n",
        "def topologicalSort(numCourses:int, prerequisites:list[tuple[int]]) -> list:\n",
        "  from collections import deque\n",
        "\n",
        "  topo_order = []\n",
        "  in_degrees = [0] * numCourses\n",
        "  graph = {i:[] for i in range(numCourses)}\n",
        "  for crs, pre in prerequisites:\n",
        "    graph[crs].append(pre)\n",
        "    in_degrees[crs] += 1\n",
        "\n",
        "  # Form a queue of zero in-degree nodes as starting points\n",
        "  zero_indegree_q = deque()\n",
        "  for i in range(numCourses):\n",
        "    if in_degrees[i] == 0:\n",
        "      zero_indegree_q.append(i)\n",
        "\n",
        "  while zero_indegree_q:\n",
        "    course = zero_indegree_q.popleft()\n",
        "    topo_order.append(course)\n",
        "    for crse in graph[course]:\n",
        "      in_degrees[crse] -= 1\n",
        "      if in_degrees[crse] == 0:\n",
        "        zero_indegree_q.append(crse)\n",
        "\n",
        "  if len(topo_order) == numCourses:\n",
        "    return topo_order\n",
        "  else:\n",
        "    return []\n",
        "\n",
        "\n",
        "numCourses = 6\n",
        "prerequisites = [(5, 2), (5, 0), (4, 0), (4, 1), (2, 3), (3, 1)]\n",
        "print(topological_sort(numCourses, prerequisites))  # Outputs: [4, 5, 2, 0, 3, 1]"
      ],
      "metadata": {
        "id": "Z7ngignNSu6w"
      },
      "execution_count": null,
      "outputs": []
    },
    {
      "cell_type": "markdown",
      "source": [
        "## Cheapest Flights within K Stops\n",
        "\n",
        "There are n cities connected by some number of flights. You are given an array flights where flights[i] = [fromi, toi, pricei] indicates that there is a flight from city fromi to city toi with cost pricei.\n",
        "\n",
        "You are also given three integers src, dst, and k, return the cheapest price from src to dst with at most k stops. If there is no such route, return -1."
      ],
      "metadata": {
        "id": "KI7vfxiCJV3J"
      }
    },
    {
      "cell_type": "code",
      "source": [
        "class Flights:\n",
        "    def findCheapestPrice(self, n: int, flights: list[list[int]], src: int, dst: int, max_stops: int) -> int:\n",
        "      prices = [float(\"inf\")] * n\n",
        "      prices[src] = 0\n",
        "\n",
        "      for i in range(k+1):\n",
        "        tmpPrices = prices.copy()\n",
        "        # s- source, d- dest, p- prices\n",
        "        for s,d,p in flights:\n",
        "          if prices[s] == float(\"inf\"):\n",
        "            continue\n",
        "          if prices[s] + p < tmpPrices[d]:\n",
        "            tmpPrices[d] = prices[s] + p\n",
        "        prices = tmpPrices\n",
        "      return -1 if prices[dst] == float(\"inf\") else prices[dst]"
      ],
      "metadata": {
        "id": "-ctxPVmYJZy0"
      },
      "execution_count": null,
      "outputs": []
    },
    {
      "cell_type": "code",
      "source": [
        "n = 4\n",
        "flights = [[0,1,100],[1,2,100],[2,0,100],[1,3,600],[2,3,200]]\n",
        "src = 0\n",
        "dst = 3\n",
        "k = 1\n",
        "# Output: 700\n",
        "\n",
        "f = Flights()\n",
        "f.findCheapestPrice(n, flights, src, dst, k)"
      ],
      "metadata": {
        "colab": {
          "base_uri": "https://localhost:8080/"
        },
        "id": "BXvRlOE3KNFP",
        "outputId": "4dea32aa-10c5-480d-8c8b-226e37594a53"
      },
      "execution_count": null,
      "outputs": [
        {
          "output_type": "execute_result",
          "data": {
            "text/plain": [
              "700"
            ]
          },
          "metadata": {},
          "execution_count": 48
        }
      ]
    },
    {
      "cell_type": "markdown",
      "source": [
        "## Evaluate Division"
      ],
      "metadata": {
        "id": "AT_tqbx72pfc"
      }
    },
    {
      "cell_type": "code",
      "source": [
        "from collections import defaultdict\n",
        "\n",
        "class Evaluate:\n",
        "  def calcEquation(self, equations:list[str],\n",
        "                   values:[list[int]],\n",
        "                   queries:list[str]) -> list[int]:\n",
        "\n",
        "    result = []\n",
        "    # Create a defaultdict of dicts to represent edge connections with weights\n",
        "    graph = defaultdict(dict)\n",
        "    for (u,v), value in zip(equations, values):\n",
        "      graph[u][v] = value\n",
        "      # Reverse calc\n",
        "      graph[v][u] = 1/value\n",
        "    print(graph)\n",
        "\n",
        "    # DFS because we want to search depth first to see if multiplying vals gets\n",
        "    # us our desired ratio\n",
        "    def dfs(src, dest, visited):\n",
        "      if src == dest:\n",
        "        return 1.0\n",
        "      visited.add(src)\n",
        "      for nei, val in graph[src].items():\n",
        "        print(src,nei,val)\n",
        "        if nei in visited:\n",
        "          continue\n",
        "        res = dfs(nei,dest,visited)\n",
        "        if res != -1:\n",
        "          return res*val\n",
        "      return -1\n",
        "\n",
        "    for u,v in queries:\n",
        "      if u not in graph and v not in graph:\n",
        "        result.append(-1)\n",
        "      elif u==v:\n",
        "        result.append(1)\n",
        "      else:\n",
        "        result.append(dfs(u,v,set()))\n",
        "\n",
        "    return result"
      ],
      "metadata": {
        "id": "f_vtNR3P20Cl"
      },
      "execution_count": null,
      "outputs": []
    },
    {
      "cell_type": "code",
      "source": [
        "# Example Usage\n",
        "equations = [[\"a\", \"b\"], [\"b\", \"c\"]]\n",
        "values = [2.0, 3.0]\n",
        "queries = [[\"a\", \"c\"], [\"b\", \"a\"], [\"a\", \"e\"], [\"a\", \"a\"], [\"x\", \"x\"]]\n",
        "\n",
        "solver = Evaluate()\n",
        "print(solver.calcEquation(equations, values, queries))"
      ],
      "metadata": {
        "colab": {
          "base_uri": "https://localhost:8080/"
        },
        "id": "Gv4PV-xM2rKw",
        "outputId": "2293cf18-eeea-4a01-8415-009ebd76dd72"
      },
      "execution_count": null,
      "outputs": [
        {
          "output_type": "stream",
          "name": "stdout",
          "text": [
            "defaultdict(<class 'dict'>, {'a': {'b': 2.0}, 'b': {'a': 0.5, 'c': 3.0}, 'c': {'b': 0.3333333333333333}})\n",
            "a b 2.0\n",
            "b a 0.5\n",
            "b c 3.0\n",
            "b a 0.5\n",
            "a b 2.0\n",
            "b a 0.5\n",
            "b c 3.0\n",
            "c b 0.3333333333333333\n",
            "[6.0, 0.5, -1, 1, -1]\n"
          ]
        }
      ]
    },
    {
      "cell_type": "markdown",
      "source": [
        "## Alien Dictionary"
      ],
      "metadata": {
        "id": "DeM_34S_dhbx"
      }
    },
    {
      "cell_type": "code",
      "source": [
        "from collections import defaultdict, deque\n",
        "\n",
        "def alienOrder(words):\n"
      ],
      "metadata": {
        "id": "o2apy4x9hsi6"
      },
      "execution_count": null,
      "outputs": []
    },
    {
      "cell_type": "code",
      "source": [
        "words = [\"wrt\", \"wrf\", \"er\", \"ett\", \"rftt\"]\n",
        "print(alienOrder(words))"
      ],
      "metadata": {
        "id": "xGzHIpqRFu-P"
      },
      "execution_count": null,
      "outputs": []
    },
    {
      "cell_type": "markdown",
      "source": [
        "## Number of Components in an unconnected Graph"
      ],
      "metadata": {
        "id": "5vHxUboRdVFD"
      }
    },
    {
      "cell_type": "code",
      "source": [],
      "metadata": {
        "id": "p1UrlxXvdYa-"
      },
      "execution_count": null,
      "outputs": []
    },
    {
      "cell_type": "markdown",
      "source": [
        "## Is graph bipartite"
      ],
      "metadata": {
        "id": "QQJW75e6tXoF"
      }
    },
    {
      "cell_type": "code",
      "source": [
        "from collections import deque\n",
        "\n",
        "def isBipartite(graph:list[list[int]]) -> list[int]:\n",
        "  # Divide nodes into two colors to check bipartite nature\n",
        "  color = [-1] * len(graph)\n",
        "\n",
        "  for node in range(len(graph)):\n",
        "    if color[node] == -1:\n",
        "      q = deque([node])\n",
        "      color[node] = 0\n",
        "      while q:\n",
        "        curr = q.popleft()\n",
        "        for nei in graph[curr]:\n",
        "          if color[nei] == -1:\n",
        "            color[nei] = 1 - color[curr]\n",
        "            q.append(nei)\n",
        "          elif color[nei] == color[curr]:\n",
        "            return False\n",
        "  return True"
      ],
      "metadata": {
        "id": "ePdbG-jPWF-Q"
      },
      "execution_count": null,
      "outputs": []
    },
    {
      "cell_type": "code",
      "source": [
        "# node:   0       1       2       3\n",
        "graph = [[1, 3], [0, 2], [1, 3], [0, 2]]\n",
        "print(isBipartite(graph))  # Outputs: True\n",
        "\n",
        "graph = [[1, 2, 3], [0, 2], [0, 1, 3], [0, 2]]\n",
        "print(isBipartite(graph))  # OP: False"
      ],
      "metadata": {
        "colab": {
          "base_uri": "https://localhost:8080/"
        },
        "id": "2WmkkbYOtaTw",
        "outputId": "6fd23b4f-eae3-4a07-fda1-4f0208130cf3"
      },
      "execution_count": null,
      "outputs": [
        {
          "output_type": "stream",
          "name": "stdout",
          "text": [
            "True\n",
            "False\n"
          ]
        }
      ]
    },
    {
      "cell_type": "markdown",
      "source": [
        "# Dynamic Programming"
      ],
      "metadata": {
        "id": "Fj3D0X6tG2ML"
      }
    },
    {
      "cell_type": "markdown",
      "source": [
        "Recursion:\n",
        "\n",
        "- Base Case\n",
        "- Recursive case\n",
        "- Proceed to goal\n",
        "- Combine results if necessary"
      ],
      "metadata": {
        "id": "WXWv_AgGltPd"
      }
    },
    {
      "cell_type": "markdown",
      "source": [
        "## Longest Palindromic Substring"
      ],
      "metadata": {
        "id": "z9HqWyrUG5nq"
      }
    },
    {
      "cell_type": "code",
      "source": [
        "\"\"\"\n",
        " babad - aba, bab\n",
        "<-lmr->\n",
        "Time complexity is O(n^3) because of slicing operation (O(n^2*n))\n",
        "\"\"\"\n",
        "class Palind:\n",
        "  def longestPalin(self, s:str) -> str:\n",
        "    res = \"\"\n",
        "    reslen = 0\n",
        "    for i in range(len(s)):\n",
        "      # odd lengths\n",
        "      l,r = i,i\n",
        "      while l>=0 and r<len(s) and s[l] == s[r]:\n",
        "        if (r-l+1) > reslen:\n",
        "          res = s[l:r+1]\n",
        "          reslen = (r-l+1)\n",
        "          l-=1\n",
        "          r+=1\n",
        "      #for even lengths\n",
        "      l,r = i,i+1\n",
        "      while l>=0 and r<len(s) and s[l] == s[r]:\n",
        "        if (r-l+1) > reslen:\n",
        "          res = s[l:r+1]\n",
        "          reslen = (r-l+1)\n",
        "          l-=1\n",
        "          r+=1"
      ],
      "metadata": {
        "id": "ijX-pOUnG9iB"
      },
      "execution_count": null,
      "outputs": []
    },
    {
      "cell_type": "code",
      "source": [
        "s = \"babad\"\n",
        "p = Palind()\n",
        "p.longestPalin(s)"
      ],
      "metadata": {
        "id": "4H3-cajKVnBN"
      },
      "execution_count": null,
      "outputs": []
    },
    {
      "cell_type": "markdown",
      "source": [
        "## Maximum Subarray\n",
        "\n",
        "Note: Check Kadane's Algorithm"
      ],
      "metadata": {
        "id": "vzVm9VxLupkM"
      }
    },
    {
      "cell_type": "code",
      "source": [
        "class MaxSub():\n",
        "  def subArray(self, nums:list[int]) -> int:\n",
        "    res = nums[0]\n",
        "    total = 0\n",
        "\n",
        "    for n in nums:\n",
        "        total += n\n",
        "        res = max(res, total)\n",
        "        if total < 0:\n",
        "            total = 0\n",
        "    return res"
      ],
      "metadata": {
        "id": "lycNVcbjusZK"
      },
      "execution_count": null,
      "outputs": []
    },
    {
      "cell_type": "code",
      "source": [
        "ip = [-2, 1, -3, 4, -1, 2, 1, -5, 4]\n",
        "#                                 n\n",
        "# res = 6, total = 5"
      ],
      "metadata": {
        "id": "DiI2Kmm4uUCw"
      },
      "execution_count": null,
      "outputs": []
    },
    {
      "cell_type": "markdown",
      "source": [
        "## House Robber\n",
        "\n",
        "You are a professional robber planning to rob houses along a street. Each house has a certain amount of money stashed, the only constraint stopping you from robbing each of them is that adjacent houses have security systems connected and it will automatically contact the police if two adjacent houses were broken into on the same night.\n",
        "\n",
        "Given an integer array nums representing the amount of money of each house, return the maximum amount of money you can rob tonight without alerting the police.\n",
        "\n",
        "\n",
        "\n",
        "Example 1:\n",
        "\n",
        "Input: nums = [1,2,3,1]\n",
        "\n",
        "Output: 4\n",
        "\n",
        "Explanation: Rob house 1 (money = 1) and then rob house 3 (money = 3).\n",
        "Total amount you can rob = 1 + 3 = 4."
      ],
      "metadata": {
        "id": "qXqhQ_qY0j03"
      }
    },
    {
      "cell_type": "code",
      "source": [
        "class Rob:\n",
        "  def maxRob(self, nums:list[int]) -> int:\n",
        "    rob1, rob2 = 0, 0\n",
        "    for n in nums:\n",
        "      # We start and are centered at n\n",
        "      # [ rob1, rob2, n, n+1 ]\n",
        "      # rob1 becomes the new rob2 for next iter, and rob2 becomes temp\n",
        "      # because we want to carry over knowledge of past max with us\n",
        "      temp = max(rob1 + n, rob2)\n",
        "      rob1 = rob2\n",
        "      rob2 = temp\n",
        "    # rob2 is returned because it has the latest max value\n",
        "    return rob2"
      ],
      "metadata": {
        "id": "rpyeFs5OLw2r"
      },
      "execution_count": null,
      "outputs": []
    },
    {
      "cell_type": "code",
      "source": [
        "nums = [1,2,3,4]"
      ],
      "metadata": {
        "id": "28i8-DM91KQ_"
      },
      "execution_count": null,
      "outputs": []
    },
    {
      "cell_type": "markdown",
      "source": [
        "## Climbing Stairs"
      ],
      "metadata": {
        "id": "gNg5gTdZznna"
      }
    },
    {
      "cell_type": "code",
      "source": [
        "\"\"\"\n",
        "For n=5, which is 5 steps, following every step, either 1 or 2 steps can be\n",
        "taken. Working our way back from 5, and following the 1/2 step rule, the fib\n",
        "seq emerges:\n",
        "0 1 2 3 4 5\n",
        "8 5 3 2 1 1 <-- Start here\n",
        "        x y\n",
        "To compute index 3, we only need indices 4 and 5 (x and y). We can keep shifting\n",
        "to the left thereafter until x reaches 0. Then we can return x.\n",
        "\"\"\"\n",
        "\n",
        "class ClimbStairs:\n",
        "  def fibSoltn(self, n:int) -> int:\n",
        "    x,y = 1,1\n",
        "    for i in range(n-1):\n",
        "      temp = x\n",
        "      x += y\n",
        "      y = temp\n",
        "\n",
        "    return x"
      ],
      "metadata": {
        "id": "QgU6gwd2zuLs"
      },
      "execution_count": null,
      "outputs": []
    },
    {
      "cell_type": "code",
      "source": [
        "c = ClimbStairs()\n",
        "c.fibSoltn(5)"
      ],
      "metadata": {
        "colab": {
          "base_uri": "https://localhost:8080/"
        },
        "id": "I6NfHWtgc-6e",
        "outputId": "d187e443-8b3e-47c8-fe62-ed8203b9704f"
      },
      "execution_count": null,
      "outputs": [
        {
          "output_type": "execute_result",
          "data": {
            "text/plain": [
              "8"
            ]
          },
          "metadata": {},
          "execution_count": 7
        }
      ]
    },
    {
      "cell_type": "markdown",
      "source": [
        "## Jump Game (Greedy Approach)"
      ],
      "metadata": {
        "id": "pVJFVPOEd7zB"
      }
    },
    {
      "cell_type": "code",
      "source": [
        "# Greedy Approach\n",
        "\"\"\"\n",
        "2 3 1 1 4\n",
        "3 2 1 0 2\n",
        "     <- g   <- goal position\n",
        "Beginning from the right, as long as the goal position (denoted by g) can move\n",
        "to the left either using the max jump or one of the lesser jumps possible, we\n",
        "move the goal post to the left. If g reaches the beginning of the array, we know\n",
        "that we can reach the end.\n",
        "\"\"\"\n",
        "\n",
        "class JumpGame:\n",
        "  def canJump(self, nums:list[int]) -> bool:\n",
        "    goal = len(nums) - 1\n",
        "    for i in range(len(nums)-1 ,-1 ,-1):\n",
        "      print(i)\n",
        "      if i + nums[i] >= goal:\n",
        "        goal = i\n",
        "\n",
        "    return True if goal == 0 else False"
      ],
      "metadata": {
        "id": "RafeGN3Yd-K4"
      },
      "execution_count": null,
      "outputs": []
    },
    {
      "cell_type": "code",
      "source": [
        "# Memoization approach\n",
        "\n",
        "def canJump(nums):\n",
        "    memo = [None] * len(nums)\n",
        "    memo[-1] = True  # The last position is always reachable from itself\n",
        "\n",
        "    def can_reach_end(position):\n",
        "        if memo[position] is not None:\n",
        "            return memo[position]\n",
        "\n",
        "        furthest_jump = min(position + nums[position], len(nums) - 1)\n",
        "        for next_position in range(position + 1, furthest_jump + 1):\n",
        "            if can_reach_end(next_position):\n",
        "                memo[position] = True\n",
        "                return True\n",
        "\n",
        "        memo[position] = False\n",
        "        return False\n",
        "\n",
        "    return can_reach_end(0)"
      ],
      "metadata": {
        "id": "Tz40B26_tD0I"
      },
      "execution_count": null,
      "outputs": []
    },
    {
      "cell_type": "code",
      "source": [
        "#nums = [2,3,1,1,4]   # Negative Case\n",
        "nums = [3,2,1,0,2]    # Positive Case\n",
        "#print(canJump(nums))  # Memoization approach\n",
        "j = JumpGame()\n",
        "j.canJump(nums)"
      ],
      "metadata": {
        "colab": {
          "base_uri": "https://localhost:8080/"
        },
        "id": "-Qbdrq8hd-So",
        "outputId": "a4241b38-ba65-4ae4-f3d0-0ca99b2cb315"
      },
      "execution_count": null,
      "outputs": [
        {
          "output_type": "stream",
          "name": "stdout",
          "text": [
            "4\n",
            "3\n",
            "2\n",
            "1\n",
            "0\n"
          ]
        },
        {
          "output_type": "execute_result",
          "data": {
            "text/plain": [
              "False"
            ]
          },
          "metadata": {},
          "execution_count": 16
        }
      ]
    },
    {
      "cell_type": "markdown",
      "source": [
        "## Generate Paranthesis (Backtracking)"
      ],
      "metadata": {
        "id": "Dx_G4A7vAuXN"
      }
    },
    {
      "cell_type": "code",
      "source": [
        "\"\"\"\n",
        "Open paranthesis = openP\n",
        "Closed paranthesis = closedP\n",
        "- closedP < openP\n",
        "- openP < n\n",
        "- End condn: closedP == openP == n\n",
        "\"\"\"\n",
        "class Paranthesis:\n",
        "  def genP(self, n:int) -> list[str]:\n",
        "    openP, closedP = 0, 0\n",
        "    stack = []\n",
        "    res = []\n",
        "    def backtrack(openP, closedP):\n",
        "      if closedP == openP == n:\n",
        "        res.append(\"\".join(stack))\n",
        "        return\n",
        "      if openP < n:\n",
        "        stack.append(\"(\")\n",
        "        backtrack(openP+1, closedP)\n",
        "        stack.pop()\n",
        "      if closedP < openP:\n",
        "        stack.append(\")\")\n",
        "        backtrack(openP, closedP + 1)\n",
        "        stack.pop()\n",
        "\n",
        "    backtrack(0,0)\n",
        "    return res"
      ],
      "metadata": {
        "id": "FNtjLTFyAyRk"
      },
      "execution_count": null,
      "outputs": []
    },
    {
      "cell_type": "code",
      "source": [
        "n = 3\n",
        "p = Paranthesis()\n",
        "p.genP(n)"
      ],
      "metadata": {
        "colab": {
          "base_uri": "https://localhost:8080/"
        },
        "id": "0jCLqO3SAynM",
        "outputId": "269e5b4a-f2cd-4aad-d316-7a82db368a81"
      },
      "execution_count": null,
      "outputs": [
        {
          "output_type": "execute_result",
          "data": {
            "text/plain": [
              "['((()))', '(()())', '(())()', '()(())', '()()()']"
            ]
          },
          "metadata": {},
          "execution_count": 3
        }
      ]
    },
    {
      "cell_type": "markdown",
      "source": [
        "# Backtracking"
      ],
      "metadata": {
        "id": "X9vvb2Gj3W1y"
      }
    },
    {
      "cell_type": "markdown",
      "source": [
        "## Letter combinations of a Phone Number"
      ],
      "metadata": {
        "id": "Y-SAOq3F3Ygu"
      }
    },
    {
      "cell_type": "code",
      "source": [
        "class Solution:\n",
        "    def letterCombinations(self, digits: str) -> list[str]:\n",
        "        res = []\n",
        "        digitToChar = {\n",
        "            \"2\": \"abc\",\n",
        "            \"3\": \"def\",\n",
        "            \"4\": \"ghi\",\n",
        "            \"5\": \"jkl\",\n",
        "            \"6\": \"mno\",\n",
        "            \"7\": \"qprs\",\n",
        "            \"8\": \"tuv\",\n",
        "            \"9\": \"wxyz\",\n",
        "        }\n",
        "\n",
        "        def backtrack(i, curStr):\n",
        "            if len(curStr) == len(digits):\n",
        "                res.append(curStr)\n",
        "                return\n",
        "            for c in digitToChar[digits[i]]:\n",
        "                backtrack(i + 1, curStr + c)\n",
        "\n",
        "        if digits:\n",
        "            backtrack(0, \"\")\n",
        "\n",
        "        return res"
      ],
      "metadata": {
        "id": "7ixRuTfu3dol"
      },
      "execution_count": null,
      "outputs": []
    },
    {
      "cell_type": "markdown",
      "source": [
        "## Word Search\n",
        "\n",
        "Given an m x n grid of characters board and a string word, return true if word exists in the grid.\n",
        "\n",
        "The word can be constructed from letters of sequentially adjacent cells, where adjacent cells are horizontally or vertically neighboring. The same letter cell may not be used more than once.\n",
        "\n",
        "Input: board = [[\"A\",\"B\",\"C\",\"E\"],[\"S\",\"F\",\"C\",\"S\"],[\"A\",\"D\",\"E\",\"E\"]],\n",
        "\n",
        "word = \"ABCCED\"\n",
        "\n",
        "Output: true\n",
        "\n",
        "board = [[\"A\",\"B\",\"C\",\"E\"],[\"S\",\"F\",\"C\",\"S\"],[\"A\",\"D\",\"E\",\"E\"]],\n",
        "\n",
        "word = \"ABCB\"\n",
        "\n",
        "Output: false"
      ],
      "metadata": {
        "id": "UM_cf3CQi-Ks"
      }
    },
    {
      "cell_type": "code",
      "source": [
        "class WordSearch:\n",
        "    def exist(self, board: list[list[str]], word: str) -> bool:\n",
        "      ROWS = len(board)\n",
        "      COLS = len(board[0])\n",
        "      seen = set()\n",
        "      # r - row, c - col, i - current letter in word\n",
        "      def dfs(r,c,i):\n",
        "        if len(word) == i:\n",
        "          return True\n",
        "        if (\n",
        "            r<0 or c<0 or\n",
        "            r>=ROWS or c>=COLS or\n",
        "            board[r][c]!=word[i] or\n",
        "            (r,c) in seen\n",
        "        ):\n",
        "          return False\n",
        "        seen.add((r,c))\n",
        "        res = (\n",
        "            (dfs(r+1,c,i+1)) or\n",
        "            (dfs(r-1,c,i+1)) or\n",
        "            (dfs(r,c+1,i+1)) or\n",
        "            (dfs(r,c-1,i+1))\n",
        "        )\n",
        "        return res\n",
        "\n",
        "      for r in range(ROWS):\n",
        "        for c in range(COLS):\n",
        "          if dfs(r,c,0): return True\n",
        "\n",
        "      return False"
      ],
      "metadata": {
        "id": "TUBZpGrMjLqI"
      },
      "execution_count": null,
      "outputs": []
    },
    {
      "cell_type": "code",
      "source": [
        "#board = [[\"A\",\"B\",\"C\",\"E\"],[\"S\",\"F\",\"C\",\"S\"],[\"A\",\"D\",\"E\",\"E\"]] # True\n",
        "#word = \"ABCCED\"\n",
        "board = [[\"A\",\"B\",\"C\",\"E\"],[\"S\",\"F\",\"C\",\"S\"],[\"A\",\"D\",\"E\",\"E\"]] # False\n",
        "word = \"ABCB\"\n",
        "\n",
        "w = WordSearch()\n",
        "w.exist(board, word)"
      ],
      "metadata": {
        "colab": {
          "base_uri": "https://localhost:8080/"
        },
        "id": "bTaJmjFbjMFv",
        "outputId": "606edef1-de33-40a0-8637-856936b4fb6d"
      },
      "execution_count": null,
      "outputs": [
        {
          "output_type": "execute_result",
          "data": {
            "text/plain": [
              "False"
            ]
          },
          "metadata": {},
          "execution_count": 9
        }
      ]
    },
    {
      "cell_type": "markdown",
      "source": [
        "## Combination Sum"
      ],
      "metadata": {
        "id": "bXulPg3WfMnt"
      }
    },
    {
      "cell_type": "markdown",
      "source": [
        "# Trees/ Tries"
      ],
      "metadata": {
        "id": "yz7dWTd-HHPA"
      }
    },
    {
      "cell_type": "markdown",
      "source": [
        "## Word Search II - Backtracking Trie"
      ],
      "metadata": {
        "id": "3gS08qzLyC7H"
      }
    },
    {
      "cell_type": "code",
      "source": [
        "class TrieNode:\n",
        "  def __init__(self):\n",
        "    self.children = {}\n",
        "    self.is_end = False\n",
        "  def addWord(self, word):\n",
        "    cur = self\n",
        "    for c in word:\n",
        "      if c not in cur.children:\n",
        "        cur.children[c] = TrieNode()\n",
        "      cur = cur.children[c]\n",
        "    cur.is_end = True\n",
        "\n",
        "class WordSearch:\n",
        "  def findWords(self, board:list[list[int]], words:list[str]) -> list[str]:\n",
        "    root = TrieNode()\n",
        "    for w in words:\n",
        "      root.addWord(w)\n",
        "\n",
        "    ROWS, COLS = len(board), len(board[0])\n",
        "    res, visit = set(), set()\n",
        "\n",
        "    def dfs(r, c, node, word):\n",
        "      if (\n",
        "          r < 0 or r == ROWS or\n",
        "          c < 0 or c == COLS or\n",
        "          board[r][c] not in node.children or\n",
        "          (r,c) in visit\n",
        "      ):\n",
        "        return\n",
        "\n",
        "      visit.add((r,c))\n",
        "      node = node.children[board[r][c]]\n",
        "      word += board[r][c]\n",
        "      if node.is_end:\n",
        "        res.add(word)\n",
        "\n",
        "      dfs(r+1, c, node, word)\n",
        "      dfs(r-1, c, node, word)\n",
        "      dfs(r, c+1, node, word)\n",
        "      dfs(r, c-1, node, word)\n",
        "\n",
        "      visit.remove((r,c))\n",
        "\n",
        "    for row in range(ROWS):\n",
        "      for col in range(COLS):\n",
        "        dfs(row, col, root, \"\")\n",
        "\n",
        "    return list(res)"
      ],
      "metadata": {
        "id": "l8OOqUjMQgsY"
      },
      "execution_count": null,
      "outputs": []
    },
    {
      "cell_type": "code",
      "source": [
        "board = [\n",
        "    ['o', 'a', 'a', 'n'],\n",
        "    ['e', 't', 'a', 'e'],\n",
        "    ['i', 'h', 'k', 'r'],\n",
        "    ['i', 'f', 'l', 'v']\n",
        "]\n",
        "words = [\"oath\", \"pea\", \"eat\", \"rain\"]\n",
        "w = WordSearch()\n",
        "w.findWords(board, words)"
      ],
      "metadata": {
        "colab": {
          "base_uri": "https://localhost:8080/"
        },
        "id": "XBhKV1QqnQIU",
        "outputId": "76f7a235-1df9-4d77-9713-2c26e7ab0f41"
      },
      "execution_count": null,
      "outputs": [
        {
          "output_type": "execute_result",
          "data": {
            "text/plain": [
              "['eat', 'oath']"
            ]
          },
          "metadata": {},
          "execution_count": 14
        }
      ]
    },
    {
      "cell_type": "markdown",
      "source": [
        "## Binary Tree Max Path Sum\n",
        "\n",
        "A path in a binary tree is a sequence of nodes where each pair of adjacent nodes in the sequence has an edge connecting them. A node can only appear in the sequence at most once. Note that the path does not need to pass through the root.\n",
        "\n",
        "The path sum of a path is the sum of the node's values in the path.\n",
        "\n",
        "Given the root of a binary tree, return the maximum path sum of any non-empty path.\n",
        "\n",
        "Input: root = [1,2,3]\n",
        "\n",
        "Output: 6\n",
        "\n",
        "Explanation: The optimal path is 2 -> 1 -> 3 with a path sum of 2 + 1 + 3 = 6.\n",
        "\n",
        "Input: root = [-10,9,20,null,null,15,7]\n",
        "\n",
        "Output: 42\n",
        "\n",
        "Explanation: The optimal path is 15 -> 20 -> 7 with a path sum of 15 + 20 + 7 = 42."
      ],
      "metadata": {
        "id": "bLlKOb25v4AQ"
      }
    },
    {
      "cell_type": "code",
      "source": [
        "class TreeNode:\n",
        "    def __init__(self, value=0, left=None, right=None):\n",
        "        self.value = value\n",
        "        self.left = left\n",
        "        self.right = right\n",
        "\n",
        "class TreeMaxSum:\n",
        "  def maxPathSum(self, root:TreeNode) -> int:\n",
        "    self.max_sum = float('-inf')\n",
        "\n",
        "    def dfs(curr):\n",
        "      if not curr:\n",
        "        return 0\n",
        "\n",
        "      left_max = max(dfs(curr.left), 0)\n",
        "      right_max = max(dfs(curr.right), 0)\n",
        "      curr_max = left_max + right_max + curr.value\n",
        "      self.max_sum = max(self.max_sum, curr_max)\n",
        "\n",
        "      return curr.value + max(left_max, right_max)\n",
        "\n",
        "    dfs(root)\n",
        "    return self.max_sum"
      ],
      "metadata": {
        "id": "IPfrDitYwNT-"
      },
      "execution_count": null,
      "outputs": []
    },
    {
      "cell_type": "code",
      "source": [
        "# Example Usage\n",
        "root = TreeNode(1)\n",
        "root.left = TreeNode(2)\n",
        "root.right = TreeNode(3)\n",
        "root.left.left = TreeNode(4)\n",
        "root.left.right = TreeNode(5)\n",
        "root.right.left = TreeNode(6)\n",
        "root.right.right = TreeNode(7)\n",
        "solver = TreeMaxSum()\n",
        "print(solver.maxPathSum(root))  # OP: 18; 4 -> 2 -> 1 -> 3 -> 7"
      ],
      "metadata": {
        "colab": {
          "base_uri": "https://localhost:8080/"
        },
        "id": "tokobe3JwOD3",
        "outputId": "9c10e404-fe1f-49fd-c749-5670e4bf652f"
      },
      "execution_count": null,
      "outputs": [
        {
          "output_type": "stream",
          "name": "stdout",
          "text": [
            "18\n"
          ]
        }
      ]
    },
    {
      "cell_type": "markdown",
      "source": [
        "## Longest common ancestor of a BST\n",
        "\n"
      ],
      "metadata": {
        "id": "4p6f7lGKHKS5"
      }
    },
    {
      "cell_type": "code",
      "source": [
        "class BSTNode:\n",
        "  def __init__(self, val):\n",
        "    self.val = val\n",
        "    self.left = None\n",
        "    self.right = None\n",
        "\n",
        "class Ancestor:\n",
        "  def lowestCommon(self, root:BSTNode, p:BSTNode, q:BSTNode) -> BSTNode:\n",
        "    cur = root\n",
        "    while val:\n",
        "      if p.val > cur.val and q.val > cur.val:\n",
        "        cur = root.right\n",
        "      elif p.val < cur.val and q.val < cur.val:\n",
        "        cur = root.left\n",
        "      else:\n",
        "        return cur"
      ],
      "metadata": {
        "id": "I40ytlusHJAO"
      },
      "execution_count": null,
      "outputs": []
    },
    {
      "cell_type": "markdown",
      "source": [
        "## Diameter of a Binary Tree"
      ],
      "metadata": {
        "id": "LILblbTRS4n8"
      }
    },
    {
      "cell_type": "code",
      "source": [
        "class TreeNode:\n",
        "  def __init__(self, val):\n",
        "    self.val = val\n",
        "    self.left = None\n",
        "    self.right = None\n",
        "\n",
        "class Diameter:\n",
        "  def diam(self, root:TreeNode):\n",
        "    self.dia = 0\n",
        "\n",
        "    def height(node):\n",
        "      if not node:\n",
        "        return 0\n",
        "      left_ht = height(node.left)\n",
        "      right_ht = height(node.right)\n",
        "      self.dia = max(self.dia, left_ht + right_ht)\n",
        "      return max(left_ht, right_ht) + 1\n",
        "\n",
        "    height(root)\n",
        "    return self.dia"
      ],
      "metadata": {
        "id": "Wrp2sf8fS8Uf"
      },
      "execution_count": null,
      "outputs": []
    },
    {
      "cell_type": "code",
      "source": [
        "root = TreeNode(1)\n",
        "root.left = TreeNode(2)\n",
        "root.right = TreeNode(3)\n",
        "root.left.left = TreeNode(4)\n",
        "root.left.right = TreeNode(5)\n",
        "d = Diameter()\n",
        "print(d.diam(root))"
      ],
      "metadata": {
        "colab": {
          "base_uri": "https://localhost:8080/"
        },
        "id": "O1AkOJNvYJ3p",
        "outputId": "db4f22a6-22bf-409c-9fb5-33e2c50bc585"
      },
      "execution_count": null,
      "outputs": [
        {
          "output_type": "stream",
          "name": "stdout",
          "text": [
            "3\n"
          ]
        }
      ]
    },
    {
      "cell_type": "markdown",
      "source": [
        "# Math and Geometry"
      ],
      "metadata": {
        "id": "zHPEIpiaHYk_"
      }
    },
    {
      "cell_type": "markdown",
      "source": [
        "## Pow(x,n)"
      ],
      "metadata": {
        "id": "PyswsCiJHcX1"
      }
    },
    {
      "cell_type": "code",
      "source": [
        "class Power:\n",
        "  def pow(self, x:float, n:int) -> float:\n",
        "    res = 0\n",
        "    def recursion(x,n):\n",
        "      # n needs a 0 check first since 0^0 is 1\n",
        "      if n == 0: return 1\n",
        "      if x == 0: return 0\n",
        "      res = recursion(x,n//2)\n",
        "      res = res * res\n",
        "      return x*res if n%2 else res\n",
        "    res = recursion(x,abs(n))\n",
        "    return res if n>=0 else 1/res"
      ],
      "metadata": {
        "id": "wj32n6_lIqdX"
      },
      "execution_count": null,
      "outputs": []
    },
    {
      "cell_type": "code",
      "source": [
        "p = Power()\n",
        "p.pow(2,-4)"
      ],
      "metadata": {
        "colab": {
          "base_uri": "https://localhost:8080/"
        },
        "id": "zI6xfI9KJ4uv",
        "outputId": "bea57f77-0b7f-4975-d425-da4d4aa71955"
      },
      "execution_count": null,
      "outputs": [
        {
          "output_type": "execute_result",
          "data": {
            "text/plain": [
              "0.0625"
            ]
          },
          "metadata": {},
          "execution_count": 23
        }
      ]
    },
    {
      "cell_type": "markdown",
      "source": [
        "# Binary Search\n",
        "\n",
        "Given an array of integers nums which is sorted in ascending order, and an integer target, write a function to search target in nums. If target exists, then return its index. Otherwise, return -1.\n",
        "\n",
        "You must write an algorithm with O(log n) runtime complexity.\n",
        "\n",
        "\n",
        "\n",
        "Example 1:\n",
        "\n",
        "Input: nums = [-1,0,3,5,9,12], target = 9\n",
        "\n",
        "Output: 4\n",
        "\n",
        "Explanation: 9 exists in nums and its index is 4\n"
      ],
      "metadata": {
        "id": "53GjZdlzNaAd"
      }
    },
    {
      "cell_type": "code",
      "source": [
        "class BinSearch:\n",
        "    def search(self, nums: list[int], target: int) -> int:\n",
        "      left = 0\n",
        "      right = len(nums) - 1\n",
        "      while left <= right:\n",
        "        mid = left + (right-left)//2\n",
        "        if nums[mid] == target:\n",
        "          return mid\n",
        "        elif nums[mid] < target:\n",
        "          left = mid + 1\n",
        "        elif nums[mid] > target:\n",
        "          right = mid - 1\n",
        "      return -1"
      ],
      "metadata": {
        "id": "_Sn5ljR0Nehl"
      },
      "execution_count": null,
      "outputs": []
    },
    {
      "cell_type": "code",
      "source": [
        "nums = [-1,0,3,5,9,12]\n",
        "target = 9\n",
        "b = BinSearch()\n",
        "b.search(nums, target)"
      ],
      "metadata": {
        "colab": {
          "base_uri": "https://localhost:8080/"
        },
        "id": "_4XrkDQuOvpB",
        "outputId": "7a32be1f-7d98-41a3-8c1d-ea9debeade4f"
      },
      "execution_count": null,
      "outputs": [
        {
          "output_type": "execute_result",
          "data": {
            "text/plain": [
              "4"
            ]
          },
          "metadata": {},
          "execution_count": 21
        }
      ]
    },
    {
      "cell_type": "markdown",
      "source": [
        "# BFS/DFS"
      ],
      "metadata": {
        "id": "t6pIoL8pUNDI"
      }
    },
    {
      "cell_type": "code",
      "source": [
        "from collections import deque\n",
        "\n",
        "class Graph:\n",
        "  def __init__(self):\n",
        "    self.graph = {}\n",
        "\n",
        "  def add_edge(self, u, v):\n",
        "    if u not in self.graph:\n",
        "      self.graph[u] = []\n",
        "    self.graph[u].append(v)\n",
        "\n",
        "  def bfs(self, start):\n",
        "    visited = set()\n",
        "    q = deque([start])\n",
        "    visited.add(start)\n",
        "    while q:\n",
        "      node = q.popleft()\n",
        "      print(node, end=\" \")\n",
        "\n",
        "      for neighbor in self.graph.get(node,[]):\n",
        "        print(\"\\n Neighbor \", neighbor)\n",
        "        if neighbor not in visited:\n",
        "          q.append(neighbor)\n",
        "          visited.add(neighbor)\n"
      ],
      "metadata": {
        "id": "XhKFJYfkUY-B"
      },
      "execution_count": null,
      "outputs": []
    },
    {
      "cell_type": "code",
      "source": [
        "g = Graph()\n",
        "g.add_edge(0, 1)\n",
        "g.add_edge(0, 2)\n",
        "g.add_edge(1, 2)\n",
        "g.add_edge(2, 0)\n",
        "g.add_edge(2, 3)\n",
        "g.add_edge(3, 3)\n",
        "\n",
        "print(\"BFS starting from node 2:\")\n",
        "g.bfs(2)"
      ],
      "metadata": {
        "colab": {
          "base_uri": "https://localhost:8080/",
          "height": 231
        },
        "id": "KK9G56RIcD61",
        "outputId": "a26075f9-6327-4b1c-84e7-00138909caf7"
      },
      "execution_count": null,
      "outputs": [
        {
          "output_type": "error",
          "ename": "NameError",
          "evalue": "name 'Graph' is not defined",
          "traceback": [
            "\u001b[0;31m---------------------------------------------------------------------------\u001b[0m",
            "\u001b[0;31mNameError\u001b[0m                                 Traceback (most recent call last)",
            "\u001b[0;32m<ipython-input-15-d809da85db9b>\u001b[0m in \u001b[0;36m<cell line: 1>\u001b[0;34m()\u001b[0m\n\u001b[0;32m----> 1\u001b[0;31m \u001b[0mg\u001b[0m \u001b[0;34m=\u001b[0m \u001b[0mGraph\u001b[0m\u001b[0;34m(\u001b[0m\u001b[0;34m)\u001b[0m\u001b[0;34m\u001b[0m\u001b[0;34m\u001b[0m\u001b[0m\n\u001b[0m\u001b[1;32m      2\u001b[0m \u001b[0mg\u001b[0m\u001b[0;34m.\u001b[0m\u001b[0madd_edge\u001b[0m\u001b[0;34m(\u001b[0m\u001b[0;36m0\u001b[0m\u001b[0;34m,\u001b[0m \u001b[0;36m1\u001b[0m\u001b[0;34m)\u001b[0m\u001b[0;34m\u001b[0m\u001b[0;34m\u001b[0m\u001b[0m\n\u001b[1;32m      3\u001b[0m \u001b[0mg\u001b[0m\u001b[0;34m.\u001b[0m\u001b[0madd_edge\u001b[0m\u001b[0;34m(\u001b[0m\u001b[0;36m0\u001b[0m\u001b[0;34m,\u001b[0m \u001b[0;36m2\u001b[0m\u001b[0;34m)\u001b[0m\u001b[0;34m\u001b[0m\u001b[0;34m\u001b[0m\u001b[0m\n\u001b[1;32m      4\u001b[0m \u001b[0mg\u001b[0m\u001b[0;34m.\u001b[0m\u001b[0madd_edge\u001b[0m\u001b[0;34m(\u001b[0m\u001b[0;36m1\u001b[0m\u001b[0;34m,\u001b[0m \u001b[0;36m2\u001b[0m\u001b[0;34m)\u001b[0m\u001b[0;34m\u001b[0m\u001b[0;34m\u001b[0m\u001b[0m\n\u001b[1;32m      5\u001b[0m \u001b[0mg\u001b[0m\u001b[0;34m.\u001b[0m\u001b[0madd_edge\u001b[0m\u001b[0;34m(\u001b[0m\u001b[0;36m2\u001b[0m\u001b[0;34m,\u001b[0m \u001b[0;36m0\u001b[0m\u001b[0;34m)\u001b[0m\u001b[0;34m\u001b[0m\u001b[0;34m\u001b[0m\u001b[0m\n",
            "\u001b[0;31mNameError\u001b[0m: name 'Graph' is not defined"
          ]
        }
      ]
    },
    {
      "cell_type": "code",
      "source": [
        "\n",
        "class Graph:\n",
        "    def __init__(self):\n",
        "        self.graph = {}\n",
        "\n",
        "    def add_edge(self, u, v):\n",
        "        if u not in self.graph:\n",
        "            self.graph[u] = []\n",
        "        self.graph[u].append(v)\n",
        "\n",
        "    def dfs_util(self, v, visited):\n",
        "        visited.add(v)\n",
        "        print(v, end=\" \")\n",
        "\n",
        "        for neighbor in self.graph.get(v, []):\n",
        "            if neighbor not in visited:\n",
        "                self.dfs_util(neighbor, visited)\n",
        "\n",
        "    def dfs(self, start):\n",
        "        visited = set()\n",
        "        self.dfs_util(start, visited)\n",
        "\n",
        "# Example usage\n",
        "g = Graph()\n",
        "g.add_edge(0, 1)\n",
        "g.add_edge(0, 2)\n",
        "g.add_edge(1, 2)\n",
        "g.add_edge(2, 0)\n",
        "g.add_edge(2, 3)\n",
        "g.add_edge(3, 3)\n",
        "\n",
        "print(\"DFS starting from node 2:\")\n",
        "g.dfs(2)\n"
      ],
      "metadata": {
        "colab": {
          "base_uri": "https://localhost:8080/"
        },
        "id": "-SkryvUVUPZL",
        "outputId": "ab0d457d-ef8f-4b64-8d75-1688ca953c08"
      },
      "execution_count": null,
      "outputs": [
        {
          "output_type": "stream",
          "name": "stdout",
          "text": [
            "BFS starting from node 2:\n",
            "2 0 3 1 DFS starting from node 2:\n",
            "2 0 1 3 "
          ]
        }
      ]
    },
    {
      "cell_type": "markdown",
      "source": [
        "# Python features"
      ],
      "metadata": {
        "id": "fu1FxugnAxdo"
      }
    },
    {
      "cell_type": "markdown",
      "source": [
        "## Decorators\n",
        "\n",
        "Calculate the time taken for a function"
      ],
      "metadata": {
        "id": "HYSkX92T2G7S"
      }
    },
    {
      "cell_type": "code",
      "source": [
        "import time\n",
        "import math\n",
        "\n",
        "# Pass func as an argument. This can be any function\n",
        "def calc_time(func):\n",
        "\n",
        "  def inner_func(*args, **kwargs):\n",
        "    beg = time.time()\n",
        "    func(*args, **kwargs)\n",
        "    end = time.time()\n",
        "    tt = end - beg\n",
        "    #print(\"Time Taken : \", )\n",
        "    return tt\n",
        "\n",
        "  return inner_func\n",
        "\n",
        "@calc_time\n",
        "def factorials(n):\n",
        "  time.sleep(1)\n",
        "  math.factorial(n)\n",
        "\n",
        "time_taken = factorials(100)\n",
        "print(time_taken)"
      ],
      "metadata": {
        "colab": {
          "base_uri": "https://localhost:8080/"
        },
        "id": "DGvPnAknBBG_",
        "outputId": "2b5fced2-03e9-4d22-be09-41b2a226dc88"
      },
      "execution_count": null,
      "outputs": [
        {
          "output_type": "stream",
          "name": "stdout",
          "text": [
            "1.0011529922485352\n"
          ]
        }
      ]
    },
    {
      "cell_type": "markdown",
      "source": [
        "## Class and Instance methods"
      ],
      "metadata": {
        "id": "Rtzzifg62Ly0"
      }
    },
    {
      "cell_type": "code",
      "source": [
        "class MyClass:\n",
        "    instance_count = 0\n",
        "\n",
        "    def __init__(self):\n",
        "        MyClass.instance_count += 1\n",
        "\n",
        "    @classmethod\n",
        "    def get_instance_count(cls):\n",
        "        return cls.instance_count\n",
        "\n",
        "# Create instances\n",
        "obj1 = MyClass()\n",
        "obj2 = MyClass()\n",
        "obj3 = MyClass()\n",
        "\n",
        "# Call the class method\n",
        "print(MyClass.get_instance_count())  # Output: 3"
      ],
      "metadata": {
        "id": "fWEgARn12NeX"
      },
      "execution_count": null,
      "outputs": []
    },
    {
      "cell_type": "markdown",
      "source": [
        "## Operator overloading"
      ],
      "metadata": {
        "id": "unF5zJQG3Ade"
      }
    },
    {
      "cell_type": "code",
      "source": [
        "class Vector:\n",
        "    def __init__(self, x, y):\n",
        "        self.x = x\n",
        "        self.y = y\n",
        "\n",
        "    def __add__(self, other):\n",
        "        return Vector(self.x + other.x, self.y + other.y)\n",
        "\n",
        "    def __eq__(self, other):\n",
        "        return self.x == other.x and self.y == other.y\n",
        "\n",
        "    def __str__(self):\n",
        "        return f\"Vector({self.x}, {self.y})\"\n",
        "\n",
        "# Create vectors\n",
        "v1 = Vector(2, 3)\n",
        "v2 = Vector(3, 4)\n",
        "v3 = Vector(5, 7)\n",
        "\n",
        "# Add vectors\n",
        "v4 = v1 + v2\n",
        "print(v4)  # Output: Vector(5, 7)\n",
        "\n",
        "# Check equality\n",
        "print(v3 == v4)  # Output: True"
      ],
      "metadata": {
        "id": "ZR618Fcq3B9l"
      },
      "execution_count": null,
      "outputs": []
    },
    {
      "cell_type": "markdown",
      "source": [
        "## Pipes and stdout, stderr"
      ],
      "metadata": {
        "id": "qJucn0yU7AOe"
      }
    },
    {
      "cell_type": "code",
      "source": [
        "import subprocess\n",
        "\n",
        "\"\"\"\n",
        "We use the ls -l command to list the files in a directory and then pipe the\n",
        "output to the grep command to filter the results for files with a .txt extension\n",
        "\"\"\"\n",
        "def list_and_filter_files():\n",
        "    # Create the first process\n",
        "    process1 = subprocess.Popen(['ls', '-l'], stdout=subprocess.PIPE, text=True)\n",
        "\n",
        "    # Create the second process, using the stdout of the first process as its stdin\n",
        "    process2 = subprocess.Popen(['grep', '.txt'], stdin=process1.stdout, stdout=subprocess.PIPE, text=True)\n",
        "\n",
        "    # Close the stdout of the first process to allow process1 to receive a SIGPIPE if process2 exits\n",
        "    process1.stdout.close()\n",
        "\n",
        "    # Capture and print the output of the second process\n",
        "    output, errors = process2.communicate()\n",
        "    print(output)\n",
        "\n",
        "# Call the function\n",
        "list_and_filter_files()\n"
      ],
      "metadata": {
        "id": "U4EHoJl_7CIB"
      },
      "execution_count": null,
      "outputs": []
    },
    {
      "cell_type": "markdown",
      "source": [
        "## Multi-threading"
      ],
      "metadata": {
        "id": "TpQSJDVkNWFD"
      }
    },
    {
      "cell_type": "markdown",
      "source": [
        "Thread: A sequence of executable instructions that can run concurrently with other threads.\n",
        "\n",
        "GIL (Global Interpreter Lock): A mutex that protects access to Python objects, preventing multiple threads from executing Python bytecodes at once. Due to GIL, Python threads are not ideal for CPU-bound tasks but are beneficial for I/O-bound tasks.\n",
        "\n",
        "Concurrency vs Parallelism:\n",
        "\n",
        "*   Concurrency: Running multiple tasks simultaneously in overlapping time periods.\n",
        "*   Parallelism: Running multiple tasks simultaneously in exact time periods, typically on multiple cores."
      ],
      "metadata": {
        "id": "4GpMXwNoOKlG"
      }
    },
    {
      "cell_type": "code",
      "source": [
        "\"\"\"\n",
        "Spawn and print using threads and locks\n",
        "\"\"\"\n",
        "import threading\n",
        "\n",
        "lock = threading.Lock()\n",
        "\n",
        "def synchronized_print():\n",
        "    with lock:\n",
        "        for i in range(3):\n",
        "            print(f'Thread {threading.current_thread().name}: {i}')\n",
        "            time.sleep(1)\n",
        "\n",
        "threads = []\n",
        "for i in range(5):\n",
        "    t = threading.Thread(target=synchronized_print)\n",
        "    threads.append(t)\n",
        "    t.start()\n",
        "\n",
        "for t in threads:\n",
        "    t.join()\n",
        "\n",
        "print(\"All threads finished!\")"
      ],
      "metadata": {
        "id": "0tWlEfAMNYCg"
      },
      "execution_count": null,
      "outputs": []
    },
    {
      "cell_type": "code",
      "source": [
        "\"\"\"\n",
        "Check response from three URLs using three threads\n",
        "\"\"\"\n",
        "import threading\n",
        "import requests\n",
        "\n",
        "urls = [\n",
        "    'http://example.com',\n",
        "    'http://example.org',\n",
        "    'http://example.net'\n",
        "]\n",
        "\n",
        "def fetch_url(url):\n",
        "    response = requests.get(url)\n",
        "    print(f'{url}: {response.status_code}')\n",
        "\n",
        "threads = []\n",
        "for url in urls:\n",
        "    t = threading.Thread(target=fetch_url, args=(url,))\n",
        "    threads.append(t)\n",
        "    t.start()\n",
        "\n",
        "for t in threads:\n",
        "    t.join()\n",
        "\n",
        "print(\"All URLs fetched!\")"
      ],
      "metadata": {
        "id": "PQLjG3GLTOYz"
      },
      "execution_count": null,
      "outputs": []
    },
    {
      "cell_type": "code",
      "source": [
        "\"\"\"\n",
        "Reading a very large text file efficiently using threading in Python can be\n",
        "accomplished by dividing the file into chunks and having multiple threads\n",
        "process these chunks concurrently\n",
        "\n",
        "Determine File Size: Find the size of the file to divide it into manageable chunks.\n",
        "Divide File into Chunks: Split the file into chunks that can be processed by different threads.\n",
        "Read Chunks in Threads: Use multiple threads to read and process each chunk concurrently.\n",
        "\"\"\"\n",
        "import threading\n",
        "\n",
        "def read_chunk(file_path, start, end, result, index):\n",
        "    with open(file_path, 'r') as file:\n",
        "        file.seek(start)\n",
        "        data = file.read(end - start)\n",
        "        result[index] = data\n",
        "\n",
        "def get_chunk_positions(file_path, num_chunks):\n",
        "    file_size = os.path.getsize(file_path)\n",
        "    chunk_size = file_size // num_chunks\n",
        "    positions = []\n",
        "    for i in range(num_chunks):\n",
        "        start = i * chunk_size\n",
        "        end = start + chunk_size\n",
        "        if i == num_chunks - 1:  # Last chunk\n",
        "            end = file_size\n",
        "        positions.append((start, end))\n",
        "    return positions\n",
        "\n",
        "def read_large_file_in_threads(file_path, num_threads):\n",
        "    chunk_positions = get_chunk_positions(file_path, num_threads)\n",
        "    threads = []\n",
        "    result = [None] * num_threads\n",
        "    for i, (start, end) in enumerate(chunk_positions):\n",
        "        thread = threading.Thread(target=read_chunk, args=(file_path, start, end, result, i))\n",
        "        threads.append(thread)\n",
        "        thread.start()\n",
        "\n",
        "    for thread in threads:\n",
        "        thread.join()\n",
        "\n",
        "    return ''.join(result)\n",
        "\n",
        "if __name__ == \"__main__\":\n",
        "    import os\n",
        "\n",
        "    file_path = 'large_text_file.txt'\n",
        "    num_threads = 4  # You can adjust the number of threads\n",
        "    content = read_large_file_in_threads(file_path, num_threads)\n",
        "    print(content)  # You can process the content further\n"
      ],
      "metadata": {
        "id": "7QaXYEFThY1A"
      },
      "execution_count": null,
      "outputs": []
    },
    {
      "cell_type": "markdown",
      "source": [
        "# CPP"
      ],
      "metadata": {
        "id": "Lbp9i0mORC-L"
      }
    },
    {
      "cell_type": "markdown",
      "source": [
        "\n",
        "\n",
        "* Data Structures\n",
        " * Arrays\n",
        " * Hash Tables (Unordered, ordered, Maps)\n",
        " * Queues, sets\n",
        " * Linked Lists\n",
        " * Graphs, Trees\n",
        "\n",
        "* Algorithms\n",
        " * Sorting: Merge, Quick, Bubble\n",
        " * Search: Linear, Binary\n",
        " * Graph: DFS, BFS : Trees\n",
        "\n",
        "* Program Flow\n",
        " * Conditional flow (if), looping flow (for, while)\n",
        " * Recursion, Exception handling\n",
        " * Classes (Constructors, Destructors), Objects, functions, virtual funcs\n",
        " * Templates\n",
        " * Pointers, references\n",
        " * Inheritance, Polymorphism\n",
        "\n",
        "* Real Time/ Multi-Threading concepts\n",
        "\n",
        "* System level concepts\n",
        "  * Compile and run time behavior\n",
        "  * C++ compilation on ARM/x86\n",
        "  * Machine code\n",
        "  * Debugging/Testing\n",
        "  * IPC (Inter Process Communication)\n"
      ],
      "metadata": {
        "id": "somL8GNQRXkN"
      }
    },
    {
      "cell_type": "code",
      "source": [
        "%%writefile welcome.cpp\n",
        "\n",
        "#include <iostream>\n",
        "int main()\n",
        "{\n",
        "    std::cout << \"Hello World\\n\";\n",
        "    return 0;\n",
        "}"
      ],
      "metadata": {
        "colab": {
          "base_uri": "https://localhost:8080/"
        },
        "id": "CjlCygHfREwF",
        "outputId": "32596cc6-7a2b-4bc6-94db-51245416a10f"
      },
      "execution_count": null,
      "outputs": [
        {
          "output_type": "stream",
          "name": "stdout",
          "text": [
            "Overwriting welcome.cpp\n"
          ]
        }
      ]
    },
    {
      "cell_type": "code",
      "source": [
        "%%bash\n",
        "\n",
        "g++ welcome.cpp -o welcome\n",
        "./welcome"
      ],
      "metadata": {
        "colab": {
          "base_uri": "https://localhost:8080/"
        },
        "id": "Jtdy-Vk8RKd9",
        "outputId": "ad7c0ff4-0289-4964-d759-33f61f09d22b"
      },
      "execution_count": null,
      "outputs": [
        {
          "output_type": "stream",
          "name": "stdout",
          "text": [
            "Hello World\n"
          ]
        }
      ]
    },
    {
      "cell_type": "code",
      "source": [
        "%%writefile datastruct.cpp\n",
        "\n",
        "#include <iostream>\n",
        "#include <map>\n",
        "\n",
        "int main()\n",
        "{\n",
        "  std::map<int, std::string> myDict;\n",
        "  myDict[0] = \"Nova\";\n",
        "  myDict[1] = \"Scotia\";\n",
        "  myDict[2] = \"Cape Breton\";\n",
        "\n",
        "  for(const auto& pair:myDict)\n",
        "  {\n",
        "    std::cout << \"Key \" << pair.first << \" Value \" << pair.second << std::endl;\n",
        "  }\n",
        "\n",
        "  // Find a key:val pair\n",
        "  int keytoCheck = 1;\n",
        "  if (myDict.find(keytoCheck) != myDict.end())\n",
        "  {\n",
        "    std::cout << \"Key \" << keytoCheck <<\" Value: \" << myDict[keytoCheck];\n",
        "  }\n",
        "  else\n",
        "  {\n",
        "    std::cout << \"Key \" << keytoCheck << \" Does not exist\";\n",
        "  }\n",
        "\n",
        "  // Del a key:val pair\n",
        "  myDict.erase(2);\n",
        "  std::cout << \"After erasure: \" << std::endl;\n",
        "  for(const auto& pair:myDict)\n",
        "  {\n",
        "    std::cout << \" Key : \" << pair.first << \" Val: \" << pair.second;\n",
        "  }\n",
        "\n",
        "  return 0;\n",
        "}"
      ],
      "metadata": {
        "colab": {
          "base_uri": "https://localhost:8080/"
        },
        "id": "Q8ahqUD5hOsa",
        "outputId": "59534455-2320-46c9-86bb-3263d59a1ee2"
      },
      "execution_count": null,
      "outputs": [
        {
          "output_type": "stream",
          "name": "stdout",
          "text": [
            "Overwriting datastruct.cpp\n"
          ]
        }
      ]
    },
    {
      "cell_type": "code",
      "source": [
        "%%bash\n",
        "g++ datastruct.cpp -o datastruct\n",
        "./datastruct"
      ],
      "metadata": {
        "colab": {
          "base_uri": "https://localhost:8080/"
        },
        "id": "ZeaC7s6bj2dt",
        "outputId": "c5a581fe-ba42-4435-9744-98bb0efa736a"
      },
      "execution_count": null,
      "outputs": [
        {
          "output_type": "stream",
          "name": "stdout",
          "text": [
            "Key 0 Value Nova\n",
            "Key 1 Value Scotia\n",
            "Key 2 Value Cape Breton\n",
            "Key 1 Value: ScotiaAfter erasure: \n",
            " Key : 0 Val: Nova Key : 1 Val: Scotia"
          ]
        }
      ]
    },
    {
      "cell_type": "markdown",
      "source": [
        "## Sort"
      ],
      "metadata": {
        "id": "PW87d69B0F4I"
      }
    },
    {
      "cell_type": "markdown",
      "source": [
        "### Merge Sort"
      ],
      "metadata": {
        "id": "HZ0hR-0eoAOE"
      }
    },
    {
      "cell_type": "code",
      "source": [
        "%%writefile mergesort.cpp\n",
        "\n",
        "#include<iostream>\n",
        "#include<vector>\n",
        "\n",
        "void merge(std::vector<int>& arr, int left, int mid, int right)\n",
        "{\n",
        "  int n1 = mid - left + 1;\n",
        "  int n2 = right - mid;\n",
        "\n",
        "  std::vector<int> leftArr(n1);\n",
        "  std::vector<int> rightArr(n2);\n",
        "\n",
        "  for(int i = 0; i < n1; i++)\n",
        "  {\n",
        "    leftArr[i] = arr[left + i];\n",
        "  }\n",
        "  for(int j = 0; j < n2; j++)\n",
        "  {\n",
        "    rightArr[j] = arr[mid + 1 + j];\n",
        "  }\n",
        "\n",
        "  int i = 0, j = 0, k = left;\n",
        "  while(i < n1 && j < n2)\n",
        "  {\n",
        "    if(leftArr[i] <= rightArr[j])\n",
        "    {\n",
        "      arr[k] = leftArr[i];\n",
        "      i++;\n",
        "    }\n",
        "    else\n",
        "    {\n",
        "      arr[k] = rightArr[j];\n",
        "      j++;\n",
        "    }\n",
        "    k++;\n",
        "  }\n",
        "  while(i < n1)\n",
        "  {\n",
        "    arr[k] = leftArr[i];\n",
        "    ++i;\n",
        "    ++k;\n",
        "  }\n",
        "  while(j < n2)\n",
        "  {\n",
        "    arr[k] = rightArr[j];\n",
        "    ++j;\n",
        "    ++k;\n",
        "  }\n",
        "}\n",
        "\n",
        "void mergesort(std::vector<int>& arr, int left, int right)\n",
        "{\n",
        "  if(left < right)\n",
        "  {\n",
        "    int mid = left + (right - left)/2 ;\n",
        "    mergesort(arr, left, mid);\n",
        "    mergesort(arr, mid + 1, right);\n",
        "    merge(arr, left, mid, right);\n",
        "  }\n",
        "}\n",
        "\n",
        "int main()\n",
        "{\n",
        "  std::vector<int> arr = {5, 4, 7, 1, 2, 45, 458};\n",
        "  std::cout << \"Give array is \";\n",
        "  for(int i = 0; i < arr.size(); i++)\n",
        "  {\n",
        "    std::cout << arr[i] << \" \" ;\n",
        "  }\n",
        "  std::cout << std::endl;\n",
        "\n",
        "  mergesort(arr, 0, arr.size() - 1);\n",
        "\n",
        "  std::cout << \" Sort array is \";\n",
        "  for(int j = 0; j < arr.size(); j++)\n",
        "  {\n",
        "    std::cout << arr[j] << \" \";\n",
        "  }\n",
        "\n",
        "  return 0;\n",
        "}"
      ],
      "metadata": {
        "colab": {
          "base_uri": "https://localhost:8080/"
        },
        "id": "-BF8HKROoDrn",
        "outputId": "5734b199-1647-4800-8003-d0f028d79eeb"
      },
      "execution_count": null,
      "outputs": [
        {
          "output_type": "stream",
          "name": "stdout",
          "text": [
            "Overwriting mergesort.cpp\n"
          ]
        }
      ]
    },
    {
      "cell_type": "code",
      "source": [
        "%%bash\n",
        "g++ mergesort.cpp -o mergesort\n",
        "./mergesort"
      ],
      "metadata": {
        "colab": {
          "base_uri": "https://localhost:8080/"
        },
        "id": "mjuktytK4YJr",
        "outputId": "dddc01a0-a7bc-4d66-c97a-1ed0aef38401"
      },
      "execution_count": null,
      "outputs": [
        {
          "output_type": "stream",
          "name": "stdout",
          "text": [
            "Give array is 5 4 7 1 2 45 458 \n",
            " Sort array is 1 2 4 5 7 45 458 "
          ]
        }
      ]
    },
    {
      "cell_type": "markdown",
      "source": [
        "### Bubble Sort"
      ],
      "metadata": {
        "id": "MeK0-nDPXrKk"
      }
    },
    {
      "cell_type": "code",
      "source": [
        "%%writefile bubblesort.h\n",
        "\n",
        "#ifndef BUBBLESORT_H\n",
        "#define BUBBLESORT_H\n",
        "\n",
        "#include<vector>\n",
        "\n",
        "class BubbleSort\n",
        "{\n",
        "  public:\n",
        "    void sort(std::vector<int>& arr);\n",
        "};\n",
        "\n",
        "#endif"
      ],
      "metadata": {
        "colab": {
          "base_uri": "https://localhost:8080/"
        },
        "id": "3I7HC6WmXuB9",
        "outputId": "ddc98ef9-6e87-4b85-e511-7d7635a837ae"
      },
      "execution_count": null,
      "outputs": [
        {
          "output_type": "stream",
          "name": "stdout",
          "text": [
            "Writing bubblesort.h\n"
          ]
        }
      ]
    },
    {
      "cell_type": "code",
      "source": [
        "%%writefile bubblesort.cpp\n",
        "\n",
        "#include \"bubblesort.h\"\n",
        "\n",
        "void BubbleSort::sort(std::vector<int>& arr)\n",
        "{\n",
        "  int n = arr.size();\n",
        "  for(int i = 0; i < n-1; i++)\n",
        "  {\n",
        "    for(int j = 0; j < n-i-1; j++)\n",
        "    {\n",
        "      if(arr[j] > arr[j+1])\n",
        "      {\n",
        "        int temp = arr[j];\n",
        "        arr[j] = arr[j+1];\n",
        "        arr[j+1] = temp;\n",
        "      }\n",
        "    }\n",
        "  }\n",
        "}"
      ],
      "metadata": {
        "colab": {
          "base_uri": "https://localhost:8080/"
        },
        "id": "8yXXxxjbdXtU",
        "outputId": "b6049527-d7b1-45a4-88a1-70eb7d9b2f48"
      },
      "execution_count": null,
      "outputs": [
        {
          "output_type": "stream",
          "name": "stdout",
          "text": [
            "Overwriting bubblesort.cpp\n"
          ]
        }
      ]
    },
    {
      "cell_type": "code",
      "source": [
        "%%writefile main_bubblesort.cpp\n",
        "\n",
        "#include<iostream>\n",
        "#include<vector>\n",
        "#include \"bubblesort.h\"\n",
        "\n",
        "int main()\n",
        "{\n",
        "  std::vector<int> arr = {64, 34, 25, 12, 22, 11, 90};\n",
        "  BubbleSort bubblesorter;\n",
        "\n",
        "  std::cout << \"Unsorted array: \";\n",
        "  for (int i = 0; i < arr.size(); ++i)\n",
        "  { std::cout << arr[i] << \" \"; }\n",
        "  std::cout << std::endl;\n",
        "\n",
        "  bubblesorter.sort(arr);\n",
        "\n",
        "  std::cout << \"Sorted array: \";\n",
        "  for (int i = 0; i < arr.size(); ++i)\n",
        "  { std::cout << arr[i] << \" \"; }\n",
        "  std::cout << std::endl;\n",
        "  return 0;\n",
        "}"
      ],
      "metadata": {
        "colab": {
          "base_uri": "https://localhost:8080/"
        },
        "id": "c4FS_iXjh7Gm",
        "outputId": "ac7c2ade-fbfb-4a61-b314-e3813073735d"
      },
      "execution_count": null,
      "outputs": [
        {
          "output_type": "stream",
          "name": "stdout",
          "text": [
            "Writing main_bubblesort.cpp\n"
          ]
        }
      ]
    },
    {
      "cell_type": "code",
      "source": [
        "%%bash\n",
        "g++ main_bubblesort.cpp bubblesort.cpp -o main_bubblesort\n",
        "./main_bubblesort"
      ],
      "metadata": {
        "colab": {
          "base_uri": "https://localhost:8080/"
        },
        "id": "pbh9jjXLXzjG",
        "outputId": "f45d2445-994b-457f-d8ae-a06cf08dae6d"
      },
      "execution_count": null,
      "outputs": [
        {
          "output_type": "stream",
          "name": "stdout",
          "text": [
            "Unsorted array: 64 34 25 12 22 11 90 \n",
            "Sorted array: 11 12 22 25 34 64 90 \n"
          ]
        }
      ]
    },
    {
      "cell_type": "markdown",
      "source": [
        "### Quick Sort"
      ],
      "metadata": {
        "id": "iX2aaCycjyd7"
      }
    },
    {
      "cell_type": "code",
      "source": [
        "%%writefile quicksort.h\n",
        "\n",
        "#ifndef QUICKSORT_H\n",
        "#define QUICKSORT_H\n",
        "\n",
        "#include<vector>\n",
        "\n",
        "class QuickSort\n",
        "{\n",
        "  public:\n",
        "    void sort(std::vector<int>& arr);\n",
        "  private:\n",
        "    void quicksort();\n",
        "    int partition();\n",
        "}\n",
        "\n",
        "#endif QUICKSORT_H"
      ],
      "metadata": {
        "id": "PnSxZTHQj0J3"
      },
      "execution_count": null,
      "outputs": []
    },
    {
      "cell_type": "markdown",
      "source": [
        "### Binary Search"
      ],
      "metadata": {
        "id": "ClZJzvW9NFjW"
      }
    },
    {
      "cell_type": "code",
      "source": [
        "%%writefile binarysearch.h\n",
        "\n",
        "#ifndef BINARYSEARCH_H\n",
        "#define BINARYSEARCH_H\n",
        "\n",
        "#include<vector>\n",
        "\n",
        "class BinarySearch\n",
        "{\n",
        "  public:\n",
        "    int search(const std::vector<int>& arr, int target);\n",
        "  private:\n",
        "    int binarySearch(const std::vector<int>& arr, int left, int right, int target);\n",
        "};\n",
        "\n",
        "#endif"
      ],
      "metadata": {
        "colab": {
          "base_uri": "https://localhost:8080/"
        },
        "id": "r3dCQW5wNHZF",
        "outputId": "03f2a876-d846-4dd2-b1fb-c7760d8ecf5d"
      },
      "execution_count": null,
      "outputs": [
        {
          "output_type": "stream",
          "name": "stdout",
          "text": [
            "Writing binarysearch.h\n"
          ]
        }
      ]
    },
    {
      "cell_type": "code",
      "source": [
        "%%writefile binarysearch.cpp\n",
        "\n",
        "#include \"binarysearch.h\"\n",
        "\n",
        "int BinarySearch::search(const std::vector<int>& arr, int target)\n",
        "{\n",
        "  return binarySearch(arr, 0, arr.size() -1, target);\n",
        "}\n",
        "\n",
        "int BinarySearch::binarySearch(const std::vector<int>& arr, int left, int right, int target)\n",
        "{\n",
        "  if(left <= right)\n",
        "  {\n",
        "    int mid = left + (right - left)/2;\n",
        "    if(arr[mid] == target)\n",
        "    {\n",
        "      return mid;\n",
        "    }\n",
        "    if(arr[mid] > target)\n",
        "    {\n",
        "      return binarySearch(arr, left, mid -1 , target);\n",
        "    }\n",
        "    return binarySearch(arr, mid + 1, right, target);\n",
        "  }\n",
        "  return -1;\n",
        "}"
      ],
      "metadata": {
        "colab": {
          "base_uri": "https://localhost:8080/"
        },
        "id": "cyEYKSjlencE",
        "outputId": "1055f5bb-1221-4c75-ac52-791edb2d8cd3"
      },
      "execution_count": null,
      "outputs": [
        {
          "output_type": "stream",
          "name": "stdout",
          "text": [
            "Overwriting binarysearch.cpp\n"
          ]
        }
      ]
    },
    {
      "cell_type": "code",
      "source": [
        "%%writefile main.cpp\n",
        "\n",
        "#include <iostream>\n",
        "#include <vector>\n",
        "#include \"binarysearch.h\"\n",
        "\n",
        "int main()\n",
        "{\n",
        "  std::vector<int> arr = {2, 3, 4, 10, 40};\n",
        "  BinarySearch binarySearcher;\n",
        "\n",
        "  int target = 10;\n",
        "  int result = binarySearcher.search(arr, target);\n",
        "\n",
        "  if (result != -1)\n",
        "  {\n",
        "      std::cout << \"Element is present at index \" << result << std::endl;\n",
        "  }\n",
        "  else\n",
        "  {\n",
        "      std::cout << \"Element is not present in array\" << std::endl;\n",
        "  }\n",
        "\n",
        "  return 0;\n",
        "}\n"
      ],
      "metadata": {
        "colab": {
          "base_uri": "https://localhost:8080/"
        },
        "id": "Kmt0GNG8gOzy",
        "outputId": "cb5769e9-cef9-453f-ea9e-b7d605d27b1f"
      },
      "execution_count": null,
      "outputs": [
        {
          "output_type": "stream",
          "name": "stdout",
          "text": [
            "Overwriting main.cpp\n"
          ]
        }
      ]
    },
    {
      "cell_type": "code",
      "source": [
        "%%bash\n",
        "g++ -o binary_search main.cpp binarysearch.cpp\n",
        "./binary_search"
      ],
      "metadata": {
        "colab": {
          "base_uri": "https://localhost:8080/",
          "height": 428
        },
        "id": "oF1X5SS-gm0W",
        "outputId": "05b49cb1-6a88-48c1-fbcb-243e43f6226d"
      },
      "execution_count": null,
      "outputs": [
        {
          "output_type": "stream",
          "name": "stderr",
          "text": [
            "cc1plus: fatal error: main.cpp: No such file or directory\n",
            "compilation terminated.\n",
            "cc1plus: fatal error: binarysearch.cpp: No such file or directory\n",
            "compilation terminated.\n",
            "bash: line 2: ./binary_search: No such file or directory\n"
          ]
        },
        {
          "output_type": "error",
          "ename": "CalledProcessError",
          "evalue": "Command 'b'g++ -o binary_search main.cpp binarysearch.cpp\\n./binary_search\\n'' returned non-zero exit status 127.",
          "traceback": [
            "\u001b[0;31m---------------------------------------------------------------------------\u001b[0m",
            "\u001b[0;31mCalledProcessError\u001b[0m                        Traceback (most recent call last)",
            "\u001b[0;32m<ipython-input-1-3be24140f92b>\u001b[0m in \u001b[0;36m<cell line: 1>\u001b[0;34m()\u001b[0m\n\u001b[0;32m----> 1\u001b[0;31m \u001b[0mget_ipython\u001b[0m\u001b[0;34m(\u001b[0m\u001b[0;34m)\u001b[0m\u001b[0;34m.\u001b[0m\u001b[0mrun_cell_magic\u001b[0m\u001b[0;34m(\u001b[0m\u001b[0;34m'bash'\u001b[0m\u001b[0;34m,\u001b[0m \u001b[0;34m''\u001b[0m\u001b[0;34m,\u001b[0m \u001b[0;34m'g++ -o binary_search main.cpp binarysearch.cpp\\n./binary_search\\n'\u001b[0m\u001b[0;34m)\u001b[0m\u001b[0;34m\u001b[0m\u001b[0;34m\u001b[0m\u001b[0m\n\u001b[0m",
            "\u001b[0;32m/usr/local/lib/python3.10/dist-packages/google/colab/_shell.py\u001b[0m in \u001b[0;36mrun_cell_magic\u001b[0;34m(self, magic_name, line, cell)\u001b[0m\n\u001b[1;32m    332\u001b[0m     \u001b[0;32mif\u001b[0m \u001b[0mline\u001b[0m \u001b[0;32mand\u001b[0m \u001b[0;32mnot\u001b[0m \u001b[0mcell\u001b[0m\u001b[0;34m:\u001b[0m\u001b[0;34m\u001b[0m\u001b[0;34m\u001b[0m\u001b[0m\n\u001b[1;32m    333\u001b[0m       \u001b[0mcell\u001b[0m \u001b[0;34m=\u001b[0m \u001b[0;34m' '\u001b[0m\u001b[0;34m\u001b[0m\u001b[0;34m\u001b[0m\u001b[0m\n\u001b[0;32m--> 334\u001b[0;31m     \u001b[0;32mreturn\u001b[0m \u001b[0msuper\u001b[0m\u001b[0;34m(\u001b[0m\u001b[0;34m)\u001b[0m\u001b[0;34m.\u001b[0m\u001b[0mrun_cell_magic\u001b[0m\u001b[0;34m(\u001b[0m\u001b[0mmagic_name\u001b[0m\u001b[0;34m,\u001b[0m \u001b[0mline\u001b[0m\u001b[0;34m,\u001b[0m \u001b[0mcell\u001b[0m\u001b[0;34m)\u001b[0m\u001b[0;34m\u001b[0m\u001b[0;34m\u001b[0m\u001b[0m\n\u001b[0m\u001b[1;32m    335\u001b[0m \u001b[0;34m\u001b[0m\u001b[0m\n\u001b[1;32m    336\u001b[0m \u001b[0;34m\u001b[0m\u001b[0m\n",
            "\u001b[0;32m/usr/local/lib/python3.10/dist-packages/IPython/core/interactiveshell.py\u001b[0m in \u001b[0;36mrun_cell_magic\u001b[0;34m(self, magic_name, line, cell)\u001b[0m\n\u001b[1;32m   2471\u001b[0m             \u001b[0;32mwith\u001b[0m \u001b[0mself\u001b[0m\u001b[0;34m.\u001b[0m\u001b[0mbuiltin_trap\u001b[0m\u001b[0;34m:\u001b[0m\u001b[0;34m\u001b[0m\u001b[0;34m\u001b[0m\u001b[0m\n\u001b[1;32m   2472\u001b[0m                 \u001b[0margs\u001b[0m \u001b[0;34m=\u001b[0m \u001b[0;34m(\u001b[0m\u001b[0mmagic_arg_s\u001b[0m\u001b[0;34m,\u001b[0m \u001b[0mcell\u001b[0m\u001b[0;34m)\u001b[0m\u001b[0;34m\u001b[0m\u001b[0;34m\u001b[0m\u001b[0m\n\u001b[0;32m-> 2473\u001b[0;31m                 \u001b[0mresult\u001b[0m \u001b[0;34m=\u001b[0m \u001b[0mfn\u001b[0m\u001b[0;34m(\u001b[0m\u001b[0;34m*\u001b[0m\u001b[0margs\u001b[0m\u001b[0;34m,\u001b[0m \u001b[0;34m**\u001b[0m\u001b[0mkwargs\u001b[0m\u001b[0;34m)\u001b[0m\u001b[0;34m\u001b[0m\u001b[0;34m\u001b[0m\u001b[0m\n\u001b[0m\u001b[1;32m   2474\u001b[0m             \u001b[0;32mreturn\u001b[0m \u001b[0mresult\u001b[0m\u001b[0;34m\u001b[0m\u001b[0;34m\u001b[0m\u001b[0m\n\u001b[1;32m   2475\u001b[0m \u001b[0;34m\u001b[0m\u001b[0m\n",
            "\u001b[0;32m/usr/local/lib/python3.10/dist-packages/IPython/core/magics/script.py\u001b[0m in \u001b[0;36mnamed_script_magic\u001b[0;34m(line, cell)\u001b[0m\n\u001b[1;32m    140\u001b[0m             \u001b[0;32melse\u001b[0m\u001b[0;34m:\u001b[0m\u001b[0;34m\u001b[0m\u001b[0;34m\u001b[0m\u001b[0m\n\u001b[1;32m    141\u001b[0m                 \u001b[0mline\u001b[0m \u001b[0;34m=\u001b[0m \u001b[0mscript\u001b[0m\u001b[0;34m\u001b[0m\u001b[0;34m\u001b[0m\u001b[0m\n\u001b[0;32m--> 142\u001b[0;31m             \u001b[0;32mreturn\u001b[0m \u001b[0mself\u001b[0m\u001b[0;34m.\u001b[0m\u001b[0mshebang\u001b[0m\u001b[0;34m(\u001b[0m\u001b[0mline\u001b[0m\u001b[0;34m,\u001b[0m \u001b[0mcell\u001b[0m\u001b[0;34m)\u001b[0m\u001b[0;34m\u001b[0m\u001b[0;34m\u001b[0m\u001b[0m\n\u001b[0m\u001b[1;32m    143\u001b[0m \u001b[0;34m\u001b[0m\u001b[0m\n\u001b[1;32m    144\u001b[0m         \u001b[0;31m# write a basic docstring:\u001b[0m\u001b[0;34m\u001b[0m\u001b[0;34m\u001b[0m\u001b[0m\n",
            "\u001b[0;32m<decorator-gen-103>\u001b[0m in \u001b[0;36mshebang\u001b[0;34m(self, line, cell)\u001b[0m\n",
            "\u001b[0;32m/usr/local/lib/python3.10/dist-packages/IPython/core/magic.py\u001b[0m in \u001b[0;36m<lambda>\u001b[0;34m(f, *a, **k)\u001b[0m\n\u001b[1;32m    185\u001b[0m     \u001b[0;31m# but it's overkill for just that one bit of state.\u001b[0m\u001b[0;34m\u001b[0m\u001b[0;34m\u001b[0m\u001b[0m\n\u001b[1;32m    186\u001b[0m     \u001b[0;32mdef\u001b[0m \u001b[0mmagic_deco\u001b[0m\u001b[0;34m(\u001b[0m\u001b[0marg\u001b[0m\u001b[0;34m)\u001b[0m\u001b[0;34m:\u001b[0m\u001b[0;34m\u001b[0m\u001b[0;34m\u001b[0m\u001b[0m\n\u001b[0;32m--> 187\u001b[0;31m         \u001b[0mcall\u001b[0m \u001b[0;34m=\u001b[0m \u001b[0;32mlambda\u001b[0m \u001b[0mf\u001b[0m\u001b[0;34m,\u001b[0m \u001b[0;34m*\u001b[0m\u001b[0ma\u001b[0m\u001b[0;34m,\u001b[0m \u001b[0;34m**\u001b[0m\u001b[0mk\u001b[0m\u001b[0;34m:\u001b[0m \u001b[0mf\u001b[0m\u001b[0;34m(\u001b[0m\u001b[0;34m*\u001b[0m\u001b[0ma\u001b[0m\u001b[0;34m,\u001b[0m \u001b[0;34m**\u001b[0m\u001b[0mk\u001b[0m\u001b[0;34m)\u001b[0m\u001b[0;34m\u001b[0m\u001b[0;34m\u001b[0m\u001b[0m\n\u001b[0m\u001b[1;32m    188\u001b[0m \u001b[0;34m\u001b[0m\u001b[0m\n\u001b[1;32m    189\u001b[0m         \u001b[0;32mif\u001b[0m \u001b[0mcallable\u001b[0m\u001b[0;34m(\u001b[0m\u001b[0marg\u001b[0m\u001b[0;34m)\u001b[0m\u001b[0;34m:\u001b[0m\u001b[0;34m\u001b[0m\u001b[0;34m\u001b[0m\u001b[0m\n",
            "\u001b[0;32m/usr/local/lib/python3.10/dist-packages/IPython/core/magics/script.py\u001b[0m in \u001b[0;36mshebang\u001b[0;34m(self, line, cell)\u001b[0m\n\u001b[1;32m    243\u001b[0m             \u001b[0msys\u001b[0m\u001b[0;34m.\u001b[0m\u001b[0mstderr\u001b[0m\u001b[0;34m.\u001b[0m\u001b[0mflush\u001b[0m\u001b[0;34m(\u001b[0m\u001b[0;34m)\u001b[0m\u001b[0;34m\u001b[0m\u001b[0;34m\u001b[0m\u001b[0m\n\u001b[1;32m    244\u001b[0m         \u001b[0;32mif\u001b[0m \u001b[0margs\u001b[0m\u001b[0;34m.\u001b[0m\u001b[0mraise_error\u001b[0m \u001b[0;32mand\u001b[0m \u001b[0mp\u001b[0m\u001b[0;34m.\u001b[0m\u001b[0mreturncode\u001b[0m\u001b[0;34m!=\u001b[0m\u001b[0;36m0\u001b[0m\u001b[0;34m:\u001b[0m\u001b[0;34m\u001b[0m\u001b[0;34m\u001b[0m\u001b[0m\n\u001b[0;32m--> 245\u001b[0;31m             \u001b[0;32mraise\u001b[0m \u001b[0mCalledProcessError\u001b[0m\u001b[0;34m(\u001b[0m\u001b[0mp\u001b[0m\u001b[0;34m.\u001b[0m\u001b[0mreturncode\u001b[0m\u001b[0;34m,\u001b[0m \u001b[0mcell\u001b[0m\u001b[0;34m,\u001b[0m \u001b[0moutput\u001b[0m\u001b[0;34m=\u001b[0m\u001b[0mout\u001b[0m\u001b[0;34m,\u001b[0m \u001b[0mstderr\u001b[0m\u001b[0;34m=\u001b[0m\u001b[0merr\u001b[0m\u001b[0;34m)\u001b[0m\u001b[0;34m\u001b[0m\u001b[0;34m\u001b[0m\u001b[0m\n\u001b[0m\u001b[1;32m    246\u001b[0m \u001b[0;34m\u001b[0m\u001b[0m\n\u001b[1;32m    247\u001b[0m     \u001b[0;32mdef\u001b[0m \u001b[0m_run_script\u001b[0m\u001b[0;34m(\u001b[0m\u001b[0mself\u001b[0m\u001b[0;34m,\u001b[0m \u001b[0mp\u001b[0m\u001b[0;34m,\u001b[0m \u001b[0mcell\u001b[0m\u001b[0;34m,\u001b[0m \u001b[0mto_close\u001b[0m\u001b[0;34m)\u001b[0m\u001b[0;34m:\u001b[0m\u001b[0;34m\u001b[0m\u001b[0;34m\u001b[0m\u001b[0m\n",
            "\u001b[0;31mCalledProcessError\u001b[0m: Command 'b'g++ -o binary_search main.cpp binarysearch.cpp\\n./binary_search\\n'' returned non-zero exit status 127."
          ]
        }
      ]
    },
    {
      "cell_type": "markdown",
      "source": [
        "## Leetcode"
      ],
      "metadata": {
        "id": "GzjzS7Vazvul"
      }
    },
    {
      "cell_type": "markdown",
      "source": [
        "### Two Sum"
      ],
      "metadata": {
        "id": "GDyphqnBOXmk"
      }
    },
    {
      "cell_type": "code",
      "source": [
        "%%writefile twosum.cpp\n",
        "\n",
        "#include<iostream>\n",
        "#include<vector>\n",
        "\n",
        "std::vector<int> twoSum(std::vector<int>& nums, int target)\n",
        "{\n",
        "  for(int i = 0; i < nums.size(), i++)\n",
        "  {\n",
        "    for(int j = 0; j < nums.size(), j++)\n",
        "    {\n",
        "      if(nums[i] + nums[j] == target)\n",
        "      {\n",
        "        return {i, j};\n",
        "      }\n",
        "    }\n",
        "  }\n",
        "  return {};\n",
        "}\n",
        "\n",
        "int main()\n",
        "{\n",
        "  std::vector<int> nums = {2, 7, 11, 15};\n",
        "  int target = 9;\n",
        "  std::vector<int> result = twoSum(nums, target);\n",
        "  std::cout << \"[\" << result[0] << \", \" << result[1] << \"]\" << std::endl;\n",
        "  return 0;\n",
        "}"
      ],
      "metadata": {
        "id": "RWgmLoEgOZ_9"
      },
      "execution_count": null,
      "outputs": []
    },
    {
      "cell_type": "code",
      "source": [
        "%%writefile twoSumDict.cpp\n",
        "\n",
        "#include<iostream>\n",
        "#include<unordered_map>\n",
        "#include<vector>\n",
        "\n",
        "std::vector<int> twoSum(std::vector<int>& nums, int target)\n",
        "{\n",
        "  std::unordered_map<int, int> numMap;\n",
        "  for(int i = 0; i < nums.size(), i++)\n",
        "  {\n",
        "    int complement = target - nums[i];\n",
        "    if(numMap.find(complement) != numMap.end())\n",
        "    {\n",
        "      return {numMap[complement], i};\n",
        "    }\n",
        "    numMap[nums[i]] = i;\n",
        "  }\n",
        "  return {};\n",
        "}\n",
        "\n",
        "int main()\n",
        "{\n",
        "  std::vector<int> nums = {2, 7, 11, 15};\n",
        "  int target = 9;\n",
        "  std::vector<int> result = twoSum(nums, target);\n",
        "  std::cout << \"Result: \" << result << std::endl;\n",
        "  return 0;\n",
        "}"
      ],
      "metadata": {
        "colab": {
          "base_uri": "https://localhost:8080/"
        },
        "id": "KQjt0TL9JC2A",
        "outputId": "823697f4-5661-44ea-9487-3a5ee3ce3307"
      },
      "execution_count": null,
      "outputs": [
        {
          "output_type": "stream",
          "name": "stdout",
          "text": [
            "Writing twoSumDict.cpp\n"
          ]
        }
      ]
    },
    {
      "cell_type": "code",
      "source": [
        "%%bash\n",
        "g++ twoSumDict.cpp -o twoSumDict\n",
        "./twoSumDict"
      ],
      "metadata": {
        "id": "3va8Hpp5Ty6f"
      },
      "execution_count": null,
      "outputs": []
    },
    {
      "cell_type": "markdown",
      "source": [
        "## Multithreading"
      ],
      "metadata": {
        "id": "0qthFYFH0Qd9"
      }
    },
    {
      "cell_type": "code",
      "source": [
        "%%writefile multithread.cpp\n",
        "#include<iostream>\n",
        "#include<thread>\n",
        "\n",
        "void printEven(int target)\n",
        "{\n",
        "  for(int i=0 ; i<target; i+=2)\n",
        "  {\n",
        "    std::cout<< \"Even \" << i << \" \" ;\n",
        "  }\n",
        "  std::cout << std::endl;\n",
        "}\n",
        "\n",
        "void printOdd(int target)\n",
        "{\n",
        "  for(int i=1 ; i<target; i+=2)\n",
        "  {\n",
        "    std::cout<< \"Odd \" << i << \" \" ;\n",
        "  }\n",
        "  std::cout << std::endl;\n",
        "}\n",
        "\n",
        "int main()\n",
        "{\n",
        "  int limit = 10;\n",
        "\n",
        "  //Create threads\n",
        "  std::thread evenT(printEven, limit);\n",
        "  std::thread oddT(printOdd, limit);\n",
        "\n",
        "  //Wait for threads to finish\n",
        "  evenT.join();\n",
        "  oddT.join();\n",
        "\n",
        "  std::cout << \"Threads have finished executing.\" << std::endl;\n",
        "  return 0;\n",
        "}"
      ],
      "metadata": {
        "colab": {
          "base_uri": "https://localhost:8080/"
        },
        "id": "9FcI0uYEWQyO",
        "outputId": "ef9c8062-9789-49fc-eedb-4df7619fb0af"
      },
      "execution_count": null,
      "outputs": [
        {
          "output_type": "stream",
          "name": "stdout",
          "text": [
            "Writing multithread.cpp\n"
          ]
        }
      ]
    },
    {
      "cell_type": "code",
      "source": [
        "%%bash\n",
        "g++ -o multi multithread.cpp\n",
        "./multi"
      ],
      "metadata": {
        "colab": {
          "base_uri": "https://localhost:8080/"
        },
        "id": "pF6gI0ijXlpA",
        "outputId": "034b0099-93c6-424a-bbdb-b1e6a2c812db"
      },
      "execution_count": null,
      "outputs": [
        {
          "output_type": "stream",
          "name": "stdout",
          "text": [
            "Odd 1 Odd 3 Odd 5 Odd 7 Odd 9 \n",
            "Even 0 Even 2 Even 4 Even 6 Even 8 \n",
            "Threads have finished executing.\n"
          ]
        }
      ]
    },
    {
      "cell_type": "code",
      "source": [
        "%%writefile mutex.cpp\n",
        "\n",
        "#include<iostream>\n",
        "#include<mutex>\n",
        "#include<thread>\n",
        "\n",
        "std::mutex mx;\n",
        "int sharecounter = 0;\n",
        "\n",
        "void incrementCounter(int id)\n",
        "{\n",
        "  for(int i=0; i<10; i++)\n",
        "  {\n",
        "    std::lock_guard<std::mutex> guard(mx);\n",
        "    ++sharecounter;\n",
        "    std::cout << \"Thread \" << id << \" incremented counter to \" << sharecounter << std::endl;\n",
        "  }\n",
        "}\n",
        "\n",
        "int main()\n",
        "{\n",
        "  std::thread t1(incrementCounter, 1);\n",
        "  std::thread t2(incrementCounter, 2);\n",
        "\n",
        "  t1.join();\n",
        "  t2.join();\n",
        "\n",
        "  return 0;\n",
        "}"
      ],
      "metadata": {
        "colab": {
          "base_uri": "https://localhost:8080/"
        },
        "id": "hsoR1l0zj8zX",
        "outputId": "9464fee5-8684-4e4e-e7b9-23e93bc27476"
      },
      "execution_count": null,
      "outputs": [
        {
          "output_type": "stream",
          "name": "stdout",
          "text": [
            "Overwriting mutex.cpp\n"
          ]
        }
      ]
    },
    {
      "cell_type": "code",
      "source": [
        "%%bash\n",
        "g++ -o mutex mutex.cpp\n",
        "./mutex"
      ],
      "metadata": {
        "colab": {
          "base_uri": "https://localhost:8080/"
        },
        "id": "joiMKkE9kyPT",
        "outputId": "bac7515f-2e91-4a1b-be2d-2953660754e3"
      },
      "execution_count": null,
      "outputs": [
        {
          "output_type": "stream",
          "name": "stdout",
          "text": [
            "Thread 1 incremented counter to 1\n",
            "Thread 1 incremented counter to 2\n",
            "Thread 1 incremented counter to 3\n",
            "Thread 1 incremented counter to 4\n",
            "Thread 1 incremented counter to 5\n",
            "Thread 1 incremented counter to 6\n",
            "Thread 1 incremented counter to 7\n",
            "Thread 1 incremented counter to 8\n",
            "Thread 1 incremented counter to 9\n",
            "Thread 1 incremented counter to 10\n",
            "Thread 2 incremented counter to 11\n",
            "Thread 2 incremented counter to 12\n",
            "Thread 2 incremented counter to 13\n",
            "Thread 2 incremented counter to 14\n",
            "Thread 2 incremented counter to 15\n",
            "Thread 2 incremented counter to 16\n",
            "Thread 2 incremented counter to 17\n",
            "Thread 2 incremented counter to 18\n",
            "Thread 2 incremented counter to 19\n",
            "Thread 2 incremented counter to 20\n"
          ]
        }
      ]
    },
    {
      "cell_type": "code",
      "source": [
        "%%writefile mutexcv.cpp\n",
        "\n",
        "#include<iostream>\n",
        "#include<thread>\n",
        "#include<mutex>\n",
        "#include<condition_variable>\n",
        "\n",
        "std::mutex mtx;\n",
        "std::condition_variable cv;\n",
        "int sharedCounter = 0;\n",
        "bool ready = false;\n",
        "\n",
        "void incrementCounter(int id)\n",
        "{\n",
        "  std::unique_lock<std::mutex> lock(mtx);\n",
        "  while(sharedCounter < 10)\n",
        "  {\n",
        "    cv.wait(lock, [id] {return ready;});\n",
        "    ++sharedCounter;\n",
        "\n",
        "  }\n",
        "}"
      ],
      "metadata": {
        "id": "5g56sEKpsfiS"
      },
      "execution_count": null,
      "outputs": []
    },
    {
      "cell_type": "code",
      "source": [
        "%%bash\n",
        "g++ -o mutexcv mutexcv.cpp\n",
        "./mutexcv"
      ],
      "metadata": {
        "id": "-MFgwJJ1sc0T"
      },
      "execution_count": null,
      "outputs": []
    },
    {
      "cell_type": "code",
      "source": [
        "%%writefile fizzbuzz.cpp\n",
        "\n",
        "#include<iostream>\n",
        "#include<thread>\n",
        "#include<mutex>\n",
        "#include<vector>\n",
        "#include<condition_variable>\n",
        "\n",
        "class FizzBuzz\n",
        "{\n",
        "  private:\n",
        "    int n;\n",
        "    int current;\n",
        "    std::mutex mtx;\n",
        "    std::condition_variable cv;\n",
        "  public:\n",
        "    FizzBuzz(int n): n(n), current(1) {}\n",
        "}"
      ],
      "metadata": {
        "id": "hKFtTgrP0QB-"
      },
      "execution_count": null,
      "outputs": []
    },
    {
      "cell_type": "markdown",
      "source": [
        "## Polymorphism"
      ],
      "metadata": {
        "id": "5Lg_I61Wme5x"
      }
    },
    {
      "cell_type": "code",
      "source": [
        "%%writefile overloading.cpp\n",
        "\n",
        "#include <iostream>\n",
        "\n",
        "// Function overloading\n",
        "class Calculator\n",
        "{\n",
        "  public:\n",
        "    int add(int a, int b)\n",
        "    {\n",
        "      return a + b;\n",
        "    }\n",
        "    float add(float a, float b)\n",
        "    {\n",
        "      return a + b;\n",
        "    }\n",
        "};\n",
        "\n",
        "//Operator overloading\n",
        "class complex\n",
        "{\n",
        "  public:\n",
        "    double real, imag;\n",
        "    complex(double r=0, double i=0) : real(r), imag(i) {}\n",
        "    // Overload the << operator\n",
        "    friend ostream& operator<<(ostream& os, complex& c)\n",
        "    {\n",
        "      os << c.real << \" + \" << c.imag;\n",
        "      return os;\n",
        "    }\n",
        "}\n",
        "\n",
        "// operator overloading 2\n",
        "\n",
        "\n",
        "int main()\n",
        "{\n",
        "  Calculator calc;\n",
        "  cout << calc.add(1, 2);\n",
        "  cout << calc.add(1.5, 2.5);\n",
        "\n",
        "  complex c1(2, 4);\n",
        "  cout << c1 << endl;\n",
        "  return 0;\n",
        "}"
      ],
      "metadata": {
        "id": "7q0CtmTemgl0"
      },
      "execution_count": null,
      "outputs": []
    }
  ]
}