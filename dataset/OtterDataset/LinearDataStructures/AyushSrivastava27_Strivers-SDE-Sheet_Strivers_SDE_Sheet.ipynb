{
  "nbformat": 4,
  "nbformat_minor": 0,
  "metadata": {
    "colab": {
      "provenance": [],
      "toc_visible": true,
      "authorship_tag": "ABX9TyNSqp6sU0XpJ0L+ycPqAnA0",
      "include_colab_link": true
    },
    "kernelspec": {
      "name": "python3",
      "display_name": "Python 3"
    },
    "language_info": {
      "name": "python"
    }
  },
  "cells": [
    {
      "cell_type": "markdown",
      "metadata": {
        "id": "view-in-github",
        "colab_type": "text"
      },
      "source": [
        "<a href=\"https://colab.research.google.com/github/AyushSrivastava27/Strivers-SDE-Sheet/blob/main/Strivers_SDE_Sheet.ipynb\" target=\"_parent\"><img src=\"https://colab.research.google.com/assets/colab-badge.svg\" alt=\"Open In Colab\"/></a>"
      ]
    },
    {
      "cell_type": "markdown",
      "source": [
        "#### 1. [Set Matrix Zeroes](https://leetcode.com/problems/set-matrix-zeroes/)"
      ],
      "metadata": {
        "id": "AjrphxV-MqHz"
      }
    },
    {
      "cell_type": "code",
      "execution_count": null,
      "metadata": {
        "id": "Qog6Rc4tZ34h"
      },
      "outputs": [],
      "source": [
        "class Solution:\n",
        "    def getChanges(self, mat):\n",
        "        changePositions = []\n",
        "        for i in range(len(mat)):\n",
        "            for j in range(len(mat[0])):\n",
        "                if mat[i][j] == 0:\n",
        "                    changePositions.append((i, j))\n",
        "        return changePositions\n",
        "    def setZeroes(self, matrix):\n",
        "        changes = self.getChanges(matrix)\n",
        "        m = len(matrix)\n",
        "        n = len(matrix[0])\n",
        "        for coor in changes:\n",
        "            for i in range(m):\n",
        "                matrix[i][coor[1]] = 0\n",
        "            for j in range(n):\n",
        "                matrix[coor[0]][j] = 0"
      ]
    },
    {
      "cell_type": "markdown",
      "source": [
        "#### 2. [Pascal's Triangle](https://leetcode.com/problems/pascals-triangle/)"
      ],
      "metadata": {
        "id": "pJfaVwP7eiJv"
      }
    },
    {
      "cell_type": "code",
      "source": [
        "class Solution:\n",
        "    def generate(self, numRows: int) -> List[List[int]]:\n",
        "        arr = [[1]]\n",
        "        l = []\n",
        "        for i in range(numRows-1):\n",
        "            l = [1]\n",
        "            for j in range(i):\n",
        "                l.append(arr[i][j] + arr[i][j+1])\n",
        "            l.append(1)\n",
        "            arr.append(l)\n",
        "        return arr"
      ],
      "metadata": {
        "id": "yCyPtEtJeh4U"
      },
      "execution_count": null,
      "outputs": []
    },
    {
      "cell_type": "markdown",
      "source": [
        "#### 3. [Next Permutation](https://leetcode.com/problems/next-permutation/description/)"
      ],
      "metadata": {
        "id": "guLSuVkvUtcL"
      }
    },
    {
      "cell_type": "code",
      "source": [
        "class Solution:\n",
        "    def nextPermutation(self, nums: List[int]) -> None:\n",
        "        \"\"\"\n",
        "        Do not return anything, modify nums in-place instead.\n",
        "        \"\"\"\n",
        "        n = len(nums)\n",
        "\n",
        "        if n in [0,1]:\n",
        "            return\n",
        "        b = -1\n",
        "        for i in range(n-1, -1, -1):\n",
        "            if nums[i] < nums[b]:\n",
        "                for j in range(n-1, i, -1):\n",
        "                    if nums[j] > nums[i]:\n",
        "                        nums[i], nums[j] = nums[j], nums[i]\n",
        "                        nums[i+1:] = sorted(nums[i+1:])\n",
        "                        return\n",
        "            else:\n",
        "                b = i\n",
        "        nums.sort()"
      ],
      "metadata": {
        "id": "RDyBoo5IUqCg"
      },
      "execution_count": null,
      "outputs": []
    },
    {
      "cell_type": "markdown",
      "source": [
        "#### 4. [Maximum Subarray](https://leetcode.com/problems/maximum-subarray/description/)"
      ],
      "metadata": {
        "id": "XmLic8I_skbE"
      }
    },
    {
      "cell_type": "code",
      "source": [
        "# 1. Brute force method\n",
        "class Solution:\n",
        "    def maxSubArray(self, nums: List[int]) -> int:\n",
        "        m = 0\n",
        "        for i in range(len(nums)):\n",
        "            for j in range(i, len(nums)):\n",
        "                sum = 0\n",
        "                for k in range(i, j+1):\n",
        "                    sum += nums[k]\n",
        "                m = max(sum, m)\n",
        "        return m\n",
        "\n",
        "# 2. Kadane's Algorithm\n",
        "\n",
        "class Solution:\n",
        "    def maxSubArray(self, nums: List[int]) -> int:\n",
        "        sum = 0\n",
        "        m = nums[0]\n",
        "\n",
        "        for i in range(0, len(nums)):\n",
        "            sum += nums[i]\n",
        "            m = max(m, sum)\n",
        "\n",
        "            if sum<0:\n",
        "                sum = 0\n",
        "        return m"
      ],
      "metadata": {
        "id": "RU_vLMfe7yiD"
      },
      "execution_count": null,
      "outputs": []
    },
    {
      "cell_type": "markdown",
      "source": [
        "#### 5. [Sort Colors](https://leetcode.com/problems/sort-colors/description/)"
      ],
      "metadata": {
        "id": "fKQgWH42N04S"
      }
    },
    {
      "cell_type": "code",
      "source": [
        "class Solution:\n",
        "    def sortColors(self, nums: List[int]) -> None:\n",
        "        \"\"\"\n",
        "        Do not return anything, modify nums in-place instead.\n",
        "        \"\"\"\n",
        "        nums = nums.sort()"
      ],
      "metadata": {
        "id": "HfFjlkhxN1Yz"
      },
      "execution_count": null,
      "outputs": []
    },
    {
      "cell_type": "markdown",
      "source": [
        "#### 6. [Best Time to Buy and Sell Stock](https://leetcode.com/problems/best-time-to-buy-and-sell-stock/description/)"
      ],
      "metadata": {
        "id": "r1lBMJVAMYSX"
      }
    },
    {
      "cell_type": "code",
      "source": [
        "class Solution:\n",
        "    def maxProfit(self, prices: List[int]) -> int:\n",
        "        min_price = prices[0]\n",
        "        max_profit = 0\n",
        "\n",
        "        for i in prices[1:]:\n",
        "            max_profit = max(max_profit, i-min_price)\n",
        "            min_price = min(min_price, i)\n",
        "\n",
        "        return max_profit"
      ],
      "metadata": {
        "id": "e4DRT94EMhjE"
      },
      "execution_count": null,
      "outputs": []
    },
    {
      "cell_type": "markdown",
      "source": [
        "#### 7. [Rotate Matrix](https://leetcode.com/problems/rotate-image/description/)"
      ],
      "metadata": {
        "id": "_8kozEa2zuuQ"
      }
    },
    {
      "cell_type": "code",
      "source": [
        "class Solution:\n",
        "    def rotate(self, matrix: List[List[int]]) -> None:\n",
        "        \"\"\"\n",
        "        Do not return anything, modify matrix in-place instead.\n",
        "        \"\"\"\n",
        "        l = len(matrix)\n",
        "        for i in range(l):\n",
        "            for j in range(i, l):\n",
        "                matrix[i][j], matrix[j][i] = matrix[j][i], matrix[i][j]\n",
        "\n",
        "        for i in range(l):\n",
        "            matrix[i].reverse()"
      ],
      "metadata": {
        "id": "kuiiaSiYzt9D"
      },
      "execution_count": null,
      "outputs": []
    },
    {
      "cell_type": "markdown",
      "source": [
        "#### 8. [Merge Intervals](https://leetcode.com/problems/merge-intervals/description/)"
      ],
      "metadata": {
        "id": "Kdgn-YTOgLS_"
      }
    },
    {
      "cell_type": "code",
      "source": [
        "class Solution:\n",
        "    def merge(self, intervals: List[List[int]]) -> List[List[int]]:\n",
        "        intervals = sorted(intervals)\n",
        "        arr = []\n",
        "\n",
        "        for i in intervals:\n",
        "            if not arr or arr[-1][1] < i[0]:\n",
        "                arr.append(i)\n",
        "            else:\n",
        "                arr[-1][1] = max(arr[-1][1], i[1])\n",
        "        return arr\n"
      ],
      "metadata": {
        "id": "l8yz7agkgKAl"
      },
      "execution_count": null,
      "outputs": []
    },
    {
      "cell_type": "markdown",
      "source": [
        "#### 9. [Merge Sorted Array](https://leetcode.com/problems/merge-sorted-array/)"
      ],
      "metadata": {
        "id": "CegDx2QMQb9D"
      }
    },
    {
      "cell_type": "code",
      "source": [
        "class Solution:\n",
        "    def merge(self, nums1: List[int], m: int, nums2: List[int], n: int) -> None:\n",
        "        \"\"\"\n",
        "        Do not return anything, modify nums1 in-place instead.\n",
        "        \"\"\"\n",
        "        for i in range(m, len(nums1)):\n",
        "            nums1[i] = nums2[i-m]\n",
        "\n",
        "        nums1 = nums1.sort()"
      ],
      "metadata": {
        "id": "QYbDA4mSQeLZ"
      },
      "execution_count": null,
      "outputs": []
    },
    {
      "cell_type": "markdown",
      "source": [
        "#### 10. [Find the Duplicate Number](https://leetcode.com/problems/find-the-duplicate-number/description/)"
      ],
      "metadata": {
        "id": "LvL5k3GJWcNu"
      }
    },
    {
      "cell_type": "code",
      "source": [
        "class Solution:\n",
        "    def findDuplicate(self, nums: List[int]) -> int:\n",
        "        slow = nums[0]\n",
        "        fast = nums[0]\n",
        "\n",
        "        while True:\n",
        "            slow = nums[slow]\n",
        "            fast = nums[nums[fast]]\n",
        "            if slow == fast:\n",
        "                break\n",
        "\n",
        "        slow = nums[0]\n",
        "        while slow != fast:\n",
        "            slow = nums[slow]\n",
        "            fast = nums[fast]\n",
        "\n",
        "        return fast"
      ],
      "metadata": {
        "id": "hY8HgYnGWitE"
      },
      "execution_count": null,
      "outputs": []
    },
    {
      "cell_type": "markdown",
      "source": [
        "#### 11. [Find Missing and repeating Number](https://www.interviewbit.com/problems/repeat-and-missing-number-array/)"
      ],
      "metadata": {
        "id": "cKHgDmIaWjp9"
      }
    },
    {
      "cell_type": "code",
      "source": [
        "class Solution:\n",
        "    def repeatedNumber(self, A):\n",
        "        a = []\n",
        "        for i in A:\n",
        "            if count(i) > 1:\n",
        "                a.append(i)\n",
        "\n",
        "            for i in range(len(A)):\n",
        "                if i not in A:\n",
        "                    a.append(i)\n",
        "\n",
        "        return a"
      ],
      "metadata": {
        "id": "XhrTV7plWvIx"
      },
      "execution_count": null,
      "outputs": []
    },
    {
      "cell_type": "markdown",
      "source": [
        "### [Search in a 2D Array](https://leetcode.com/problems/search-a-2d-matrix/description/)"
      ],
      "metadata": {
        "id": "wC-EsEn80hRO"
      }
    },
    {
      "cell_type": "code",
      "source": [
        "class Solution:\n",
        "    def searchMatrix(self, matrix: List[List[int]], target: int) -> bool:\n",
        "        if not matrix or not matrix[0]:\n",
        "            return False\n",
        "\n",
        "        m, n = len(matrix), len(matrix[0])\n",
        "        left, right = 0, m * n - 1\n",
        "\n",
        "        while left <= right:\n",
        "            mid = (left + right) // 2\n",
        "            mid_value = matrix[mid // n][mid % n]\n",
        "\n",
        "            if mid_value == target:\n",
        "                return True\n",
        "            elif mid_value < target:\n",
        "                left = mid + 1\n",
        "            else:\n",
        "                right = mid - 1\n",
        "\n",
        "        return False"
      ],
      "metadata": {
        "id": "i1Vq684m0qBl"
      },
      "execution_count": null,
      "outputs": []
    },
    {
      "cell_type": "markdown",
      "source": [
        "### [Pow(x, n)](https://leetcode.com/problems/powx-n/description/)"
      ],
      "metadata": {
        "id": "AAW_xIDqE0VT"
      }
    },
    {
      "cell_type": "code",
      "source": [
        "class Solution:\n",
        "    def myPow(self, x: float, n: int) -> float:\n",
        "        return x**n"
      ],
      "metadata": {
        "id": "ZA3xupF8E8Cz"
      },
      "execution_count": null,
      "outputs": []
    },
    {
      "cell_type": "markdown",
      "source": [
        "### [Majority Element](https://leetcode.com/problems/majority-element/description/)"
      ],
      "metadata": {
        "id": "Cc413rKMaHnH"
      }
    },
    {
      "cell_type": "code",
      "source": [
        "class Solution:\n",
        "    def majorityElement(self, nums: List[int]) -> int:\n",
        "        d = {}\n",
        "        for i in set(nums):\n",
        "            d[i] = nums.count(i)\n",
        "        key = [k for k, v in d.items() if v == max(d.values())]\n",
        "        return key[0]"
      ],
      "metadata": {
        "id": "TjmPjITkaRpA"
      },
      "execution_count": null,
      "outputs": []
    },
    {
      "cell_type": "markdown",
      "source": [
        "### [Majority Element II](https://leetcode.com/problems/majority-element-ii/description/)"
      ],
      "metadata": {
        "id": "A_--W0MJceDY"
      }
    },
    {
      "cell_type": "code",
      "source": [
        "class Solution:\n",
        "    def majorityElement(self, nums: List[int]) -> List[int]:\n",
        "        d = {}\n",
        "        for i in set(nums):\n",
        "            d[i] = nums.count(i)\n",
        "        key = [k for k, v in d.items() if v > len(nums)/3]\n",
        "        return key"
      ],
      "metadata": {
        "id": "jXflGlDVcjJ6"
      },
      "execution_count": null,
      "outputs": []
    },
    {
      "cell_type": "markdown",
      "source": [
        "### [Two Sum Problem](https://leetcode.com/problems/two-sum/description/)"
      ],
      "metadata": {
        "id": "b7Twq83S1OJ4"
      }
    },
    {
      "cell_type": "code",
      "source": [
        "class Solution:\n",
        "    def twoSum(self, nums: List[int], target: int) -> List[int]:\n",
        "        d = {}\n",
        "\n",
        "        for i, j in enumerate(nums):\n",
        "            r = target - j\n",
        "            if r in d:\n",
        "                return [i, d[r]]\n",
        "            d[j] = i"
      ],
      "metadata": {
        "id": "0wgVOkH21VEF"
      },
      "execution_count": null,
      "outputs": []
    },
    {
      "cell_type": "markdown",
      "source": [
        "### [Longest Consecutive Sequence](https://leetcode.com/problems/longest-consecutive-sequence/description/)"
      ],
      "metadata": {
        "id": "n_v2nI0y3TD8"
      }
    },
    {
      "cell_type": "code",
      "source": [
        "class Solution:\n",
        "    def longestConsecutive(self, nums: List[int]) -> int:\n",
        "        longest = 0\n",
        "        num_set = set(nums)\n",
        "\n",
        "        for n in num_set:\n",
        "            if (n-1) not in num_set:\n",
        "                length = 1\n",
        "                while (n+length) in num_set:\n",
        "                    length += 1\n",
        "                longest = max(longest, length)\n",
        "\n",
        "        return longest"
      ],
      "metadata": {
        "id": "8nJkt3Hp3XlF"
      },
      "execution_count": null,
      "outputs": []
    },
    {
      "cell_type": "markdown",
      "source": [
        "### [Longest Substring Without Repeating Characters](https://leetcode.com/problems/longest-substring-without-repeating-characters/description/)"
      ],
      "metadata": {
        "id": "lLt2HL2s3beo"
      }
    },
    {
      "cell_type": "code",
      "source": [
        "class Solution:\n",
        "    def lengthOfLongestSubstring(self, s: str) -> int:\n",
        "        n = len(s)\n",
        "        m = 0\n",
        "        charSet = set()\n",
        "        left = 0\n",
        "\n",
        "        for i in range(n):\n",
        "            if s[i] not in charSet:\n",
        "                charSet.add(s[i])\n",
        "                m = max(m, i - left + 1)\n",
        "            else:\n",
        "                while s[i] in charSet:\n",
        "                    charSet.remove(s[left])\n",
        "                    left += 1\n",
        "                charSet.add(s[i])\n",
        "        return m"
      ],
      "metadata": {
        "id": "1yku_fJw3k6W"
      },
      "execution_count": null,
      "outputs": []
    },
    {
      "cell_type": "markdown",
      "source": [
        "## Greedy Algorithm"
      ],
      "metadata": {
        "id": "oNgPxI1DhIJv"
      }
    },
    {
      "cell_type": "markdown",
      "source": [
        "### [Job Sequencing](https://www.geeksforgeeks.org/problems/job-sequencing-problem-1587115620/1)"
      ],
      "metadata": {
        "id": "7VjE0I3Usjab"
      }
    },
    {
      "cell_type": "code",
      "source": [
        "def jobSequencing(N, Jobs):\n",
        "    Jobs.sort(key=lambda x: x.profit, reverse=True)\n",
        "\n",
        "    max_deadline = max(job.deadline for job in Jobs)\n",
        "\n",
        "    time_slots = [-1] * max_deadline\n",
        "\n",
        "    total_profit = 0\n",
        "    job_count = 0\n",
        "\n",
        "    for job in Jobs:\n",
        "        for j in range(min(max_deadline, job.deadline) - 1, -1, -1):\n",
        "            if time_slots[j] == -1:\n",
        "                time_slots[j] = job.id\n",
        "                total_profit += job.profit\n",
        "                job_count += 1\n",
        "                break\n",
        "\n",
        "    return total_profit, job_count"
      ],
      "metadata": {
        "id": "eLiZDm0hss4i"
      },
      "execution_count": null,
      "outputs": []
    },
    {
      "cell_type": "markdown",
      "source": [
        "### [Minimum Platform](https://www.geeksforgeeks.org/problems/minimum-platforms-1587115620/1)"
      ],
      "metadata": {
        "id": "5YbKAsnTstuk"
      }
    },
    {
      "cell_type": "code",
      "source": [
        "def minimumPlatform(n, arr, dep):\n",
        "    arr.sort()\n",
        "    dep.sort()\n",
        "\n",
        "    i, j, plat, minplat = 0, 0, 0, 0\n",
        "\n",
        "    while i < n:\n",
        "        if arr[i] <= dep[j]:\n",
        "            plat += 1\n",
        "            i += 1\n",
        "        else:\n",
        "            plat -= 1\n",
        "            j += 1\n",
        "\n",
        "        minplat = max(plat, minplat)\n",
        "\n",
        "    return minplat"
      ],
      "metadata": {
        "id": "fEZBWWGQtESs"
      },
      "execution_count": null,
      "outputs": []
    },
    {
      "cell_type": "markdown",
      "source": [
        "### [N Meetings](https://www.geeksforgeeks.org/problems/n-meetings-in-one-room-1587115620/1)"
      ],
      "metadata": {
        "id": "L3zNshgns3yy"
      }
    },
    {
      "cell_type": "code",
      "source": [
        "def maximumMeetings(n, start, end):\n",
        "    meetings = [(start[i], end[i]) for i in range(n)]\n",
        "\n",
        "    meetings.sort(key=lambda x: x[1])\n",
        "\n",
        "    count = 1\n",
        "    last_end_time = meetings[0][1]\n",
        "\n",
        "    for i in range(1, n):\n",
        "        if meetings[i][0] > last_end_time:\n",
        "            count += 1\n",
        "            last_end_time = meetings[i][1]\n",
        "\n",
        "    return count"
      ],
      "metadata": {
        "id": "TnvX9lqRtH4j"
      },
      "execution_count": null,
      "outputs": []
    },
    {
      "cell_type": "markdown",
      "source": [
        "### [Fractional Knapsack](https://www.geeksforgeeks.org/problems/fractional-knapsack-1587115620/1)"
      ],
      "metadata": {
        "id": "shIAIoOkzIxP"
      }
    },
    {
      "cell_type": "code",
      "source": [
        "class Item:\n",
        "    def __init__(self, weight, value):\n",
        "        self.weight = weight\n",
        "        self.value = value\n",
        "        self.ratio = value / weight\n",
        "\n",
        "def knapsackMethod(items, capacity):\n",
        "    items.sort(key=lambda x: x.ratio, reverse = True)\n",
        "    usedCapacity = 0\n",
        "    totalValue = 0\n",
        "    for i in items:\n",
        "        if usedCapacity + i.weight <= capacity:\n",
        "            usedCapacity += i.weight\n",
        "            totalValue += i.value\n",
        "        else:\n",
        "            unusedWeight = capacity - usedCapacity\n",
        "            value = i.ratio * unusedWeight\n",
        "            usedCapacity += unusedWeight\n",
        "            totalValue += value\n",
        "\n",
        "        if usedCapacity == capacity:\n",
        "            return totalValue"
      ],
      "metadata": {
        "id": "YgQb3HgZy_Y4"
      },
      "execution_count": null,
      "outputs": []
    },
    {
      "cell_type": "markdown",
      "source": [
        "### [Coin Change](https://www.geeksforgeeks.org/find-minimum-number-of-coins-that-make-a-change/)"
      ],
      "metadata": {
        "id": "A8oY8TX43uDN"
      }
    },
    {
      "cell_type": "code",
      "source": [
        "def coinChange(totalNumber, coins):\n",
        "    N = totalNumber\n",
        "    arr = []\n",
        "    coins.sort()\n",
        "    index = len(coins)-1\n",
        "    while True:\n",
        "        coinValue = coins[index]\n",
        "        if N >= coinValue:\n",
        "            arr.append(coinValue)\n",
        "            N = N - coinValue\n",
        "        if N < coinValue:\n",
        "            index -= 1\n",
        "\n",
        "        if N == 0:\n",
        "            break\n",
        "    return arr"
      ],
      "metadata": {
        "id": "K2v6ItRT4LCe"
      },
      "execution_count": null,
      "outputs": []
    },
    {
      "cell_type": "markdown",
      "source": [
        "### [Assign Cookies](https://leetcode.com/problems/assign-cookies/description/)"
      ],
      "metadata": {
        "id": "jHtKqnMO3YqI"
      }
    },
    {
      "cell_type": "code",
      "source": [
        "def findContentChildren(self, g: List[int], s: List[int]) -> int:\n",
        "    g.sort()\n",
        "    s.sort()\n",
        "\n",
        "    i, j = 0, 0\n",
        "    total = 0\n",
        "\n",
        "    while i < len(g) and j < len(s):\n",
        "        if s[j] >= g[i]:\n",
        "            total += 1\n",
        "            i += 1\n",
        "        j += 1\n",
        "\n",
        "    return total"
      ],
      "metadata": {
        "id": "JHIjXBab3XEk"
      },
      "execution_count": null,
      "outputs": []
    },
    {
      "cell_type": "markdown",
      "source": [
        "## Recursion"
      ],
      "metadata": {
        "id": "Exw5ZbJOy6Ce"
      }
    },
    {
      "cell_type": "markdown",
      "source": [
        "###[Subset Sums I](https://www.geeksforgeeks.org/problems/subset-sums2234/1)"
      ],
      "metadata": {
        "id": "8RYyRvdXy9jQ"
      }
    },
    {
      "cell_type": "code",
      "source": [
        "def subsetSums(arr, n):\n",
        "    nums = []\n",
        "    func(0, 0, arr, n, nums)\n",
        "    return sorted(nums)\n",
        "\n",
        "def func(ind, sum, arr, n, nums):\n",
        "    if ind == n:\n",
        "        nums.append(sum)\n",
        "        return\n",
        "\n",
        "    # pick the element\n",
        "    func(ind+1, sum + arr[ind], arr, n, nums)\n",
        "\n",
        "    # do not pick the element\n",
        "    func(ind + 1, sum, arr, n, nums)\n",
        "\n",
        "print(subsetSums([5, 2, 1], 3))"
      ],
      "metadata": {
        "id": "2Z1KPlXuzIJy"
      },
      "execution_count": null,
      "outputs": []
    },
    {
      "cell_type": "markdown",
      "source": [
        "### [Subsets II](https://leetcode.com/problems/subsets-ii/description/)"
      ],
      "metadata": {
        "id": "ARxALyGFj5wB"
      }
    },
    {
      "cell_type": "code",
      "source": [
        "def subset(nums):\n",
        "    def back(nums, arr, temp):\n",
        "        arr.append(temp)\n",
        "        for i in range(len(nums)):\n",
        "            if i!= 0 and nums[i] == nums[i-1]:\n",
        "                continue\n",
        "            back(nums[i+1:], arr, temp + [nums[i]])\n",
        "\n",
        "    arr = []\n",
        "    back(nums, arr, [])\n",
        "    return arr"
      ],
      "metadata": {
        "id": "NHE8Lr8qj46D"
      },
      "execution_count": null,
      "outputs": []
    },
    {
      "cell_type": "markdown",
      "source": [
        "###[Combination Sum I](https://leetcode.com/problems/combination-sum/description/)"
      ],
      "metadata": {
        "id": "QqNYcu8zm_7F"
      }
    },
    {
      "cell_type": "code",
      "source": [
        "def combinationSum(self, candidates: List[int], target: int) -> List[List[int]]:\n",
        "    def findCombinations(ind, arr, target, ans, temp):\n",
        "        if target == 0:\n",
        "            ans.append(temp[:])\n",
        "            return\n",
        "\n",
        "        if ind == len(arr):\n",
        "            return\n",
        "\n",
        "        if arr[ind] <= target:\n",
        "            temp.append(arr[ind])\n",
        "            findCombinations(ind, arr, target - arr[ind], ans, temp)\n",
        "            temp.pop()\n",
        "\n",
        "        findCombinations(ind + 1, arr, target, ans, temp)\n",
        "\n",
        "    ans = []\n",
        "    findCombinations(0, candidates, target, ans, [])\n",
        "    return ans"
      ],
      "metadata": {
        "id": "XaQLIJhHm9gH"
      },
      "execution_count": null,
      "outputs": []
    },
    {
      "cell_type": "markdown",
      "source": [
        "### [Combination Sum II](https://leetcode.com/problems/combination-sum-ii/description/)"
      ],
      "metadata": {
        "id": "H_dDcvrJu5Ew"
      }
    },
    {
      "cell_type": "code",
      "source": [
        "def combinationSum2(self, candidates: List[int], target: int) -> List[List[int]]:\n",
        "    def findCombinations(ind, arr, target, ans, temp):\n",
        "        if target == 0:\n",
        "            ans.append(temp[:])\n",
        "            return\n",
        "\n",
        "        for i in range(ind, len(arr)):\n",
        "            if i > ind and arr[i] == arr[i - 1]:\n",
        "                continue\n",
        "            if arr[i] > target:\n",
        "                break\n",
        "            temp.append(arr[i])\n",
        "            findCombinations(i + 1, arr, target - arr[i], ans, temp)\n",
        "            temp.pop()\n",
        "\n",
        "    candidates.sort()\n",
        "    ans = []\n",
        "    findCombinations(0, candidates, target, ans, [])\n",
        "    return ans"
      ],
      "metadata": {
        "id": "_uEJIX_Mu3M6"
      },
      "execution_count": null,
      "outputs": []
    },
    {
      "cell_type": "markdown",
      "source": [
        "### [Palindrome Partitioning](https://leetcode.com/problems/palindrome-partitioning/description/)"
      ],
      "metadata": {
        "id": "SPHFiuEVZNZw"
      }
    },
    {
      "cell_type": "code",
      "source": [
        "def partition(s):\n",
        "    nums = []\n",
        "    path = []\n",
        "\n",
        "    func(0, s, path, nums)\n",
        "    return nums\n",
        "\n",
        "def func(ind, s, path , nums):\n",
        "    if ind == len(s):\n",
        "        nums.append(path[:])\n",
        "        return\n",
        "\n",
        "    for i in range(ind, len(s)):\n",
        "        if (isPalindrome(s, ind, i)):\n",
        "            path.append(s[ind:i+1])\n",
        "            func(i+1, s, path, nums)\n",
        "            path.pop()\n",
        "\n",
        "def isPalindrome(s, start, end):\n",
        "    while start <end:\n",
        "        if s[start] != s[end]:\n",
        "            return False\n",
        "        start += 1\n",
        "        end -= 1\n",
        "    return True"
      ],
      "metadata": {
        "id": "U9OG1dEjaCBt"
      },
      "execution_count": null,
      "outputs": []
    },
    {
      "cell_type": "markdown",
      "source": [
        "### [Permutation Sequence](https://leetcode.com/problems/permutation-sequence/description/)"
      ],
      "metadata": {
        "id": "Hesr5rnVa-Rj"
      }
    },
    {
      "cell_type": "code",
      "source": [
        "def getPermutation(n, k):\n",
        "    fact = 1\n",
        "    nums = []\n",
        "    for i in range(1, n):\n",
        "        fact *= i\n",
        "        nums.append(i)\n",
        "    nums.append(n)\n",
        "    ans = \"\"\n",
        "    k -= 1\n",
        "    while True:\n",
        "        ans += str(nums[k//fact])\n",
        "        nums.pop(k//fact)\n",
        "        if len(nums) == 0:\n",
        "            break\n",
        "        k = k% fact\n",
        "        fact = fact // len(nums)\n",
        "\n",
        "    return ans"
      ],
      "metadata": {
        "id": "J_89YJxZbFT7"
      },
      "execution_count": null,
      "outputs": []
    },
    {
      "cell_type": "markdown",
      "source": [
        "## Binary Search"
      ],
      "metadata": {
        "id": "PtTbxQxVDj6g"
      }
    },
    {
      "cell_type": "markdown",
      "source": [
        "### [Nth Root](https://www.naukri.com/code360/problems/1062679?topList=striver-sde-sheet-problems&utm_source=striver&utm_medium=website&count=25&page=1&search=&sort_entity=order&sort_order=ASC)"
      ],
      "metadata": {
        "id": "SQtE-s1a9nl0"
      }
    },
    {
      "cell_type": "code",
      "source": [
        "def nthRoot(n, m):\n",
        "    if m < 1:\n",
        "        return -1\n",
        "\n",
        "    low, high = 1, m\n",
        "    while low <= high:\n",
        "        mid = (low + high) // 2\n",
        "        power = mid ** n\n",
        "\n",
        "        if power == m:\n",
        "            return mid\n",
        "        elif power < m:\n",
        "            low = mid + 1\n",
        "        else:\n",
        "            high = mid - 1\n",
        "\n",
        "    return -1"
      ],
      "metadata": {
        "id": "1AXvAaHI9kl0"
      },
      "execution_count": null,
      "outputs": []
    },
    {
      "cell_type": "markdown",
      "source": [
        "### [Median in a Row wise Sorted Array](https://bit.ly/3PvwuPk)"
      ],
      "metadata": {
        "id": "7RFZNTS6_9P1"
      }
    },
    {
      "cell_type": "code",
      "source": [
        "def median(matrix, R, C):\n",
        "    def countLessEqual(matrix, mid):\n",
        "        count = 0\n",
        "        for row in matrix:\n",
        "            lo, hi = 0, len(row)\n",
        "            while lo < hi:\n",
        "                md = (lo + hi) // 2\n",
        "                if row[md] <= mid:\n",
        "                    lo = md + 1\n",
        "                else:\n",
        "                    hi = md\n",
        "            count += lo\n",
        "        return count\n",
        "\n",
        "    low, high = matrix[0][0], matrix[0][-1]\n",
        "    for i in range(1, R):\n",
        "        low = min(low, matrix[i][0])\n",
        "        high = max(high, matrix[i][-1])\n",
        "\n",
        "    desired = (R * C + 1) // 2\n",
        "\n",
        "    while low < high:\n",
        "        mid = (low + high) // 2\n",
        "        if countLessEqual(matrix, mid) < desired:\n",
        "            low = mid + 1\n",
        "        else:\n",
        "            high = mid\n",
        "\n",
        "    return low"
      ],
      "metadata": {
        "id": "GgD3Sd_9_8OO"
      },
      "execution_count": null,
      "outputs": []
    },
    {
      "cell_type": "markdown",
      "source": [
        "### [ Single Element in a Sorted Array](https://leetcode.com/problems/single-element-in-a-sorted-array/description/)"
      ],
      "metadata": {
        "id": "PbKwxuCQDml4"
      }
    },
    {
      "cell_type": "code",
      "source": [
        "class Solution:\n",
        "    def singleNonDuplicate(self, nums: List[int]) -> int:\n",
        "        low = 0\n",
        "        high = len(nums)-2\n",
        "        while(low <= high):\n",
        "            mid = (low + high)//2\n",
        "            if nums[mid] == nums[mid ^ 1]:\n",
        "                low = mid + 1\n",
        "            else:\n",
        "                high = mid -1\n",
        "        return nums[low]"
      ],
      "metadata": {
        "id": "DfG-3OqjDlax"
      },
      "execution_count": null,
      "outputs": []
    },
    {
      "cell_type": "markdown",
      "source": [
        "### [Search in Rotated Sorted Array](https://leetcode.com/problems/search-in-rotated-sorted-array/description/)"
      ],
      "metadata": {
        "id": "EiBP3u85QyZZ"
      }
    },
    {
      "cell_type": "code",
      "source": [
        "class Solution:\n",
        "    def search(self, nums: List[int], target: int) -> int:\n",
        "        start, end = 0, len(nums) - 1\n",
        "        while start <= end:\n",
        "            mid = (start + end) // 2\n",
        "            if nums[mid] == target:\n",
        "                return mid\n",
        "            if nums[start] <= nums[mid]:\n",
        "                if nums[start] <= target < nums[mid]:\n",
        "                    end = mid - 1\n",
        "                else:\n",
        "                    start = mid + 1\n",
        "            else:\n",
        "                if nums[mid] < target <= nums[end]:\n",
        "                    start = mid + 1\n",
        "                else:\n",
        "                    end = mid - 1\n",
        "        return -1"
      ],
      "metadata": {
        "id": "r5AA5THDQ2ju"
      },
      "execution_count": null,
      "outputs": []
    },
    {
      "cell_type": "markdown",
      "source": [
        "### [Median of Two Sorted Array](https://leetcode.com/problems/median-of-two-sorted-arrays/description/)"
      ],
      "metadata": {
        "id": "JnrFeAdVQqRb"
      }
    },
    {
      "cell_type": "code",
      "source": [
        "def findMedianSortedArrays(nums1, nums2):\n",
        "    if len(nums1) > len(nums2):\n",
        "        nums1, nums2 = nums2, nums1\n",
        "\n",
        "    n1, n2 = len(nums1), len(nums2)\n",
        "    i, j = 0, 0\n",
        "    n = n1 + n2\n",
        "    mid1, mid2 = n // 2 - 1, n // 2\n",
        "    cnt = 0\n",
        "    ind1_el, ind2_el = -1, -1\n",
        "\n",
        "    while i < n1 and j < n2:\n",
        "        if nums1[i] < nums2[j]:\n",
        "            if cnt == mid1:\n",
        "                ind1_el = nums1[i]\n",
        "            if cnt == mid2:\n",
        "                ind2_el = nums1[i]\n",
        "            cnt += 1\n",
        "            i += 1\n",
        "        else:\n",
        "            if cnt == mid1:\n",
        "                ind1_el = nums2[j]\n",
        "            if cnt == mid2:\n",
        "                ind2_el = nums2[j]\n",
        "            cnt += 1\n",
        "            j += 1\n",
        "\n",
        "    while i < n1:\n",
        "        if cnt == mid1:\n",
        "            ind1_el = nums1[i]\n",
        "        if cnt == mid2:\n",
        "            ind2_el = nums1[i]\n",
        "        cnt += 1\n",
        "        i += 1\n",
        "\n",
        "    while j < n2:\n",
        "        if cnt == mid1:\n",
        "            ind1_el = nums2[j]\n",
        "        if cnt == mid2:\n",
        "            ind2_el = nums2[j]\n",
        "        cnt += 1\n",
        "        j += 1\n",
        "\n",
        "    if n % 2 == 0:\n",
        "        return (ind1_el + ind2_el) / 2.0\n",
        "    else:\n",
        "        return ind2_el"
      ],
      "metadata": {
        "id": "SRuCSLW4QhHj"
      },
      "execution_count": null,
      "outputs": []
    },
    {
      "cell_type": "markdown",
      "source": [
        "## Heap"
      ],
      "metadata": {
        "id": "yHYkLv4qsMID"
      }
    },
    {
      "cell_type": "markdown",
      "source": [
        "### [Kth Largest Element](https://leetcode.com/problems/kth-largest-element-in-an-array/description/)"
      ],
      "metadata": {
        "id": "OUfzDvj1tMx0"
      }
    },
    {
      "cell_type": "code",
      "source": [
        "import heapq\n",
        "\n",
        "def findKthLargest(nums, k):\n",
        "    hp = []\n",
        "    for el in nums:\n",
        "        if len(hp) < k:\n",
        "            heapq.heappush(hp, el)\n",
        "        else:\n",
        "            heapq.heappushpop(hp, el)\n",
        "    return hp[0]"
      ],
      "metadata": {
        "id": "sVozAZfksOGU"
      },
      "execution_count": null,
      "outputs": []
    },
    {
      "cell_type": "markdown",
      "source": [
        "### [Find Median from Data Stream](https://leetcode.com/problems/find-median-from-data-stream/description/)"
      ],
      "metadata": {
        "id": "iULMf5b6AT3X"
      }
    },
    {
      "cell_type": "code",
      "source": [
        "import heapq\n",
        "\n",
        "class MedianFinder:\n",
        "\n",
        "    def __init__(self):\n",
        "        self.small, self.large = [], []\n",
        "\n",
        "    def addNum(self, num: int) -> None:\n",
        "        heapq.heappush(self.small, -num)\n",
        "\n",
        "        # Ensure every num in small is <= every num in large\n",
        "        if self.small and self.large and (-self.small[0]) > self.large[0]:\n",
        "            val = -heapq.heappop(self.small)\n",
        "            heapq.heappush(self.large, val)\n",
        "\n",
        "        # Balance the sizes of the two heaps\n",
        "        if len(self.small) > len(self.large) + 1:\n",
        "            val = -heapq.heappop(self.small)\n",
        "            heapq.heappush(self.large, val)\n",
        "\n",
        "        if len(self.large) > len(self.small) + 1:\n",
        "            val = heapq.heappop(self.large)\n",
        "            heapq.heappush(self.small, -val)\n",
        "\n",
        "    def findMedian(self) -> float:\n",
        "        if len(self.small) > len(self.large):\n",
        "            return -self.small[0]\n",
        "        if len(self.large) > len(self.small):\n",
        "            return self.large[0]\n",
        "\n",
        "        return (-self.small[0] + self.large[0]) / 2.0"
      ],
      "metadata": {
        "id": "KI_gi0RNAbxW"
      },
      "execution_count": null,
      "outputs": []
    },
    {
      "cell_type": "markdown",
      "source": [
        "### [Merge k Sorted Lists](https://leetcode.com/problems/merge-k-sorted-lists/)"
      ],
      "metadata": {
        "id": "cEc6yOPoxj7W"
      }
    },
    {
      "cell_type": "code",
      "source": [
        "def mergeKLists(self, lists):\n",
        "    import heapq\n",
        "    hp = []\n",
        "    counter = 0\n",
        "\n",
        "    for head in lists:\n",
        "        if head:\n",
        "            heapq.heappush(hp, (head.val, counter, head))\n",
        "            counter += 1\n",
        "\n",
        "    ans = ListNode()\n",
        "    p = ans\n",
        "\n",
        "    while hp:\n",
        "        _, _, el = heapq.heappop(hp)\n",
        "        p.next = el\n",
        "        p = p.next\n",
        "\n",
        "        if el.next:\n",
        "            heapq.heappush(hp, (el.next.val, counter, el.next))\n",
        "            counter += 1\n",
        "\n",
        "    return ans.next"
      ],
      "metadata": {
        "id": "MQeS4QDcxg9E"
      },
      "execution_count": null,
      "outputs": []
    },
    {
      "cell_type": "markdown",
      "source": [
        "### [K Most Frequent Element](https://leetcode.com/problems/top-k-frequent-elements/)"
      ],
      "metadata": {
        "id": "qPRMIUZ3t9cD"
      }
    },
    {
      "cell_type": "code",
      "source": [
        "def topKFrequent(numsk):\n",
        "    import heapq\n",
        "    from collections import Counter\n",
        "    freq = Counter(nums)\n",
        "    hp =  []\n",
        "\n",
        "    for el in freq:\n",
        "        count = freq[el]\n",
        "        heapq.heappush(hp, (count, el))\n",
        "        if len(hp) > k:\n",
        "            heapq.heappop(hp)\n",
        "\n",
        "    return [x[1] for x in hp]"
      ],
      "metadata": {
        "id": "VNiG5-bruFcW"
      },
      "execution_count": null,
      "outputs": []
    },
    {
      "cell_type": "markdown",
      "source": [
        "## String"
      ],
      "metadata": {
        "id": "mhbTQnyQ6PAm"
      }
    },
    {
      "cell_type": "markdown",
      "source": [
        "### [Reverse Words in a String](https://leetcode.com/problems/reverse-words-in-a-string/)"
      ],
      "metadata": {
        "id": "khgiGjim6Q82"
      }
    },
    {
      "cell_type": "code",
      "source": [
        "class Solution:\n",
        "    def reverseWords(self, s: str) -> str:\n",
        "        l = s.split()\n",
        "        l.reverse()\n",
        "        s1 = \" \".join(l)\n",
        "        return s1.strip()"
      ],
      "metadata": {
        "id": "BHlrsDRp6QXV"
      },
      "execution_count": null,
      "outputs": []
    },
    {
      "cell_type": "markdown",
      "source": [
        "### [Longest Common Prefix](https://leetcode.com/problems/longest-common-prefix/description/)"
      ],
      "metadata": {
        "id": "EqqYXzs7UX1n"
      }
    },
    {
      "cell_type": "code",
      "source": [
        "class Solution:\n",
        "    def longestCommonPrefix(self, strs: List[str]) -> str:\n",
        "        res = \"\"\n",
        "        for a in zip(*strs):\n",
        "            if len(set(a)) == 1:\n",
        "                res += a[0]\n",
        "            else:\n",
        "                return res\n",
        "        return res"
      ],
      "metadata": {
        "id": "qpfANrhyUXOU"
      },
      "execution_count": null,
      "outputs": []
    },
    {
      "cell_type": "markdown",
      "source": [
        "### [Roman to Integer](https://leetcode.com/problems/roman-to-integer/description/)"
      ],
      "metadata": {
        "id": "6wkSn1F1gbEY"
      }
    },
    {
      "cell_type": "code",
      "source": [
        "def romanToInt(self, s: str) -> int:\n",
        "    d = {'M': 1000, 'D' : 500, 'C': 100, 'L': 50, 'X': 10, 'V' : 5, 'I' : 1}\n",
        "    l = 0\n",
        "    i = 0\n",
        "    while i < len(s)-1:\n",
        "        if d[s[i]] < d[s[i+1]]:\n",
        "            l += d[s[i+1]] - d[s[i]]\n",
        "            i += 1\n",
        "\n",
        "        else:\n",
        "            l += d[s[i]]\n",
        "        i += 1\n",
        "\n",
        "    if i < len(s):\n",
        "        l += d[s[i]]\n",
        "\n",
        "    return l"
      ],
      "metadata": {
        "id": "VB8RegGMghFe"
      },
      "execution_count": null,
      "outputs": []
    },
    {
      "cell_type": "markdown",
      "source": [
        "### [Longest Palindrome](https://leetcode.com/problems/longest-palindromic-substring/description/)"
      ],
      "metadata": {
        "id": "ujY2INMaW_cz"
      }
    },
    {
      "cell_type": "code",
      "source": [
        "def longestPalindrome(self, s: str) -> str:\n",
        "        res = \"\"\n",
        "        reslen = 0\n",
        "\n",
        "        for i in range(len(s)):\n",
        "            # Check for odd length palindromes centered at i\n",
        "            l, r = i, i\n",
        "            while l >= 0 and r < len(s) and s[l] == s[r]:\n",
        "                if (r - l + 1) > reslen:\n",
        "                    res = s[l:r + 1]\n",
        "                    reslen = r - l + 1\n",
        "                l -= 1\n",
        "                r += 1\n",
        "\n",
        "            # Check for even length palindromes centered between i and i+1\n",
        "            l, r = i, i + 1\n",
        "            while l >= 0 and r < len(s) and s[l] == s[r]:\n",
        "                if (r - l + 1) > reslen:\n",
        "                    res = s[l:r + 1]\n",
        "                    reslen = r - l + 1\n",
        "                l -= 1\n",
        "                r += 1\n",
        "\n",
        "        return res"
      ],
      "metadata": {
        "id": "xpz5VRBwXFTV"
      },
      "execution_count": null,
      "outputs": []
    },
    {
      "cell_type": "markdown",
      "source": [
        "### [Repeated String Match](https://leetcode.com/problems/repeated-string-match/description/)"
      ],
      "metadata": {
        "id": "7zXsxeFxw14Z"
      }
    },
    {
      "cell_type": "code",
      "source": [
        "def repeatedStringMatch(self, a: str, b: str) -> int:\n",
        "    if b in a:\n",
        "        return 1\n",
        "\n",
        "    for i in set(b):\n",
        "        if i not in a:\n",
        "            return -1\n",
        "\n",
        "    n = a\n",
        "    i = 1\n",
        "    while b not in a and len(a) <= 20*len(b):\n",
        "        a += n\n",
        "        i += 1\n",
        "\n",
        "    if b in a:\n",
        "        return i\n",
        "\n",
        "    return -1"
      ],
      "metadata": {
        "id": "RtSt5Lrew0Yu"
      },
      "execution_count": null,
      "outputs": []
    },
    {
      "cell_type": "markdown",
      "source": [
        "### [Z Function](https://leetcode.com/problems/find-the-index-of-the-first-occurrence-in-a-string/)"
      ],
      "metadata": {
        "id": "gA10SH5Px76P"
      }
    },
    {
      "cell_type": "code",
      "source": [
        "class Solution:\n",
        "    def strStr(self, haystack: str, needle: str) -> int:\n",
        "        if needle in haystack:\n",
        "            return haystack.index(needle)\n",
        "\n",
        "        return -1"
      ],
      "metadata": {
        "id": "6GsfE4XUx_-N"
      },
      "execution_count": null,
      "outputs": []
    },
    {
      "cell_type": "markdown",
      "source": [
        "### [KMP algo array](https://leetcode.com/problems/find-the-index-of-the-first-occurrence-in-a-string/description/)"
      ],
      "metadata": {
        "id": "WuUfOV_oyc8_"
      }
    },
    {
      "cell_type": "code",
      "source": [
        "def strStr(self, haystack: str, needle: str) -> int:\n",
        "    if needle in haystack:\n",
        "        return haystack.index(needle)\n",
        "\n",
        "    return -1"
      ],
      "metadata": {
        "id": "41mtI2rFylxd"
      },
      "execution_count": null,
      "outputs": []
    },
    {
      "cell_type": "markdown",
      "source": [
        "### [Valid Anagram](https://leetcode.com/problems/valid-anagram/)"
      ],
      "metadata": {
        "id": "9nkH63H5xZdz"
      }
    },
    {
      "cell_type": "code",
      "source": [
        "def isAnagram(self, s: str, t: str) -> bool:\n",
        "\n",
        "    if set(s) == set(t) and len(s) == len(t):\n",
        "        for i in set(s):\n",
        "            if s.count(i) != t.count(i):\n",
        "                return False\n",
        "\n",
        "        return True\n",
        "\n",
        "    return False"
      ],
      "metadata": {
        "id": "Tcv_Is4axeFQ"
      },
      "execution_count": null,
      "outputs": []
    },
    {
      "cell_type": "markdown",
      "source": [
        "### [Count and Say](https://leetcode.com/problems/count-and-say/description/)"
      ],
      "metadata": {
        "id": "8Nu3Bl_Bd4Ir"
      }
    },
    {
      "cell_type": "code",
      "source": [
        "def countAndSay(n):\n",
        "    a = '1'\n",
        "    for _ in range(n - 1):\n",
        "        a = convert(a)\n",
        "    return a\n",
        "\n",
        "def convert(nums):\n",
        "    result = []\n",
        "    i = 0\n",
        "    while i < len(nums):\n",
        "        count = 1\n",
        "        while i + 1 < len(nums) and nums[i] == nums[i + 1]:\n",
        "            i += 1\n",
        "            count += 1\n",
        "        result.append(str(count))\n",
        "        result.append(nums[i])\n",
        "        i += 1\n",
        "    return ''.join(result)"
      ],
      "metadata": {
        "id": "45CMLc6Nd819"
      },
      "execution_count": null,
      "outputs": []
    },
    {
      "cell_type": "markdown",
      "source": [
        "### [Compare Version Numbers](https://leetcode.com/problems/compare-version-numbers/description/)"
      ],
      "metadata": {
        "id": "makpZd6F88n2"
      }
    },
    {
      "cell_type": "code",
      "source": [
        "    def compareVersion(self, version1: str, version2: str) -> int:\n",
        "        v1 = [int(i) for i in version1.split('.')]\n",
        "        v2 = [int(i) for i in version2.split('.')]\n",
        "\n",
        "        diff = len(v1) - len(v2)\n",
        "        if diff > 0:\n",
        "            v2.extend([0]* diff)\n",
        "        if diff < 0:\n",
        "            v1.extend([0]* (-diff))\n",
        "\n",
        "        for a, b in zip(v1, v2):\n",
        "            if a > b:\n",
        "                return 1\n",
        "            elif a < b:\n",
        "                return -1\n",
        "\n",
        "        return 0"
      ],
      "metadata": {
        "id": "beS595uD9B07"
      },
      "execution_count": null,
      "outputs": []
    },
    {
      "cell_type": "markdown",
      "source": [
        "## Greedy Algorithm"
      ],
      "metadata": {
        "id": "XaDp_aF5-gpq"
      }
    },
    {
      "cell_type": "markdown",
      "source": [
        "### Activity Selection"
      ],
      "metadata": {
        "id": "Yd4er8BT-j2H"
      }
    },
    {
      "cell_type": "code",
      "source": [
        "activities = [[\"A1\", 0, 6],\n",
        "              [\"A2\", 3, 4],\n",
        "              [\"A3\", 1, 2],\n",
        "              [\"A4\", 5, 8],\n",
        "              [\"A5\", 5, 7],\n",
        "              [\"A6\", 8, 9]\n",
        "                ]\n",
        "\n",
        "def maxActivity(activities):\n",
        "    activities.sort(key = lambda x: x[2])\n",
        "    i = 0\n",
        "    first = activities[i][0]\n",
        "    print(first)\n",
        "    for j in range(len(activities)):\n",
        "        if activities[j][1] > activities[i][2]:\n",
        "            print(activities[j][0])\n",
        "            i = j\n",
        "\n",
        "print(maxActivity(activities))"
      ],
      "metadata": {
        "id": "9DF5jr3e-jJw"
      },
      "execution_count": null,
      "outputs": []
    },
    {
      "cell_type": "markdown",
      "source": [
        "### Minimum No of Coins"
      ],
      "metadata": {
        "id": "r-s9x24r_FPJ"
      }
    },
    {
      "cell_type": "code",
      "source": [
        "def coinChange(totalNumber, coins):\n",
        "    N = totalNumber\n",
        "    coins.sort()\n",
        "    index = len(coins) - 1\n",
        "    while True:\n",
        "        coinValue = coins[index]\n",
        "        if N >= coinValue:\n",
        "            print(coinValue)\n",
        "            N = N - coinValue\n",
        "        if N < coinValue:\n",
        "            index -= 1\n",
        "\n",
        "        if N == 0:\n",
        "            break\n",
        "\n",
        "coins = [1, 2, 5, 20, 50, 100]\n",
        "coinChange(201, coins)"
      ],
      "metadata": {
        "id": "HEUYzrvG_Nio"
      },
      "execution_count": null,
      "outputs": []
    },
    {
      "cell_type": "markdown",
      "source": [
        "### Fractional Knapsack Problem"
      ],
      "metadata": {
        "id": "W9CXL7D6_Oms"
      }
    },
    {
      "cell_type": "code",
      "source": [
        "class Item:\n",
        "    def __init__(self, weight, value):\n",
        "        self.weight = weight\n",
        "        self.value = value\n",
        "        self.ratio = value / weight\n",
        "\n",
        "def knapsack(items, capacity):\n",
        "    items.sort(key = lambda x: x.ratio, reverse = True)\n",
        "    usedCapacity = 0\n",
        "    totalValue = 0\n",
        "    for i in items:\n",
        "        if usedCapacity + i.weight <= capacity:\n",
        "            usedCapacity += i.weight\n",
        "            totalValue += i.value\n",
        "        else:\n",
        "            unusedWeight = capacity - usedCapacity\n",
        "            value = i.ratio * unusedWeight\n",
        "            usedCapacity += unusedWeight\n",
        "            totalValue += value\n",
        "\n",
        "        if usedCapacity == capacity:\n",
        "            break\n",
        "    print(\"Total Value obtained:\" +str(totalValue))\n",
        "\n",
        "\n",
        "item1 = Item(20,100)\n",
        "item2 = Item(30,120)\n",
        "item3 = Item(10,60)\n",
        "cList = [item1, item2, item3]\n",
        "\n",
        "knapsack(cList, 50)"
      ],
      "metadata": {
        "id": "9hv_y6gO_Unw"
      },
      "execution_count": null,
      "outputs": []
    },
    {
      "cell_type": "markdown",
      "source": [
        "## Stack and Queue"
      ],
      "metadata": {
        "id": "14BTm1Q7ncak"
      }
    },
    {
      "cell_type": "markdown",
      "source": [
        "### Implement Stacks using Arrays"
      ],
      "metadata": {
        "id": "2GbNcd24ngL9"
      }
    },
    {
      "cell_type": "code",
      "source": [
        "class Stack:\n",
        "    def __init__(self):\n",
        "        self.list = []\n",
        "\n",
        "    def __str__(self):\n",
        "        values = reversed(self.list)\n",
        "        values = [str(x) for x in values]\n",
        "        return '\\n'.join(values)\n",
        "\n",
        "    def isEmpty(self):\n",
        "        if self.list == []:\n",
        "            return True\n",
        "        else:\n",
        "            return False\n",
        "\n",
        "    def push(self, value):\n",
        "        self.list.append(value)\n",
        "        return \"The element has been successfully pushed\"\n",
        "\n",
        "    def peek(self):\n",
        "        if self.isEmpty():\n",
        "            return \"Stack is empty\"\n",
        "        else:\n",
        "            return self.list[-1]\n",
        "\n",
        "    def pop(self):\n",
        "        if self.isEmpty():\n",
        "            return \"Stack is empty\"\n",
        "        else:\n",
        "            return self.list.pop()\n",
        "\n",
        "    def delete(self):\n",
        "        self.list = None\n"
      ],
      "metadata": {
        "id": "hYsrh-2Infp4"
      },
      "execution_count": null,
      "outputs": []
    },
    {
      "cell_type": "markdown",
      "source": [
        "### [Valid Parentheses](https://leetcode.com/problems/valid-parentheses/description/)"
      ],
      "metadata": {
        "id": "u4JZW03W-dMM"
      }
    },
    {
      "cell_type": "code",
      "source": [
        "class Solution:\n",
        "    def isValid(self, s: str) -> bool:\n",
        "        l = list(s)\n",
        "        arr = []\n",
        "\n",
        "        for i in range(len(l)):\n",
        "            if l[i] in [\"(\", \"[\", \"{\"]:\n",
        "                arr.append(l[i])\n",
        "            else:\n",
        "                if len(arr) ==0:\n",
        "                    return False\n",
        "                if l[i] == \")\" and arr[-1] != \"(\":\n",
        "                    return False\n",
        "                if l[i] == \"]\" and arr[-1] != \"[\":\n",
        "                    return False\n",
        "                if l[i] == \"}\" and arr[-1] != \"{\":\n",
        "                    return False\n",
        "                arr.pop()\n",
        "        if len(arr) == 0:\n",
        "            return True\n",
        "        return False"
      ],
      "metadata": {
        "id": "dI0Ws4TS-ite"
      },
      "execution_count": null,
      "outputs": []
    },
    {
      "cell_type": "markdown",
      "source": [
        "### [Next Greater Element](https://leetcode.com/problems/next-greater-element-i/description/)"
      ],
      "metadata": {
        "id": "VFyrr-L_6QTs"
      }
    },
    {
      "cell_type": "code",
      "source": [
        "class Solution:\n",
        "    def nextGreaterElement(self, nums1: List[int], nums2: List[int]) -> List[int]:\n",
        "        arr = []\n",
        "        for i in nums1:\n",
        "            a = nums2.index(i)\n",
        "            for j in range(a, len(nums2)):\n",
        "                if nums2[j] > i:\n",
        "                    arr.append(nums2[j])\n",
        "                    break\n",
        "                if j == len(nums2)-1:\n",
        "                    arr.append(-1)\n",
        "        return arr"
      ],
      "metadata": {
        "id": "ISJwHEEZ6VOy"
      },
      "execution_count": null,
      "outputs": []
    },
    {
      "cell_type": "markdown",
      "source": [
        "### [LRU Cache](https://leetcode.com/problems/lru-cache/description/)"
      ],
      "metadata": {
        "id": "loJ7Y6I7HPKp"
      }
    },
    {
      "cell_type": "code",
      "source": [
        "class Node:\n",
        "    def __init__(self, key, value):\n",
        "        self.left = None\n",
        "        self.right = None\n",
        "        self.key = key\n",
        "        self.value = value\n",
        "\n",
        "class LinkedList:\n",
        "    def __init__(self):\n",
        "        self.length = 0\n",
        "        self.head = None\n",
        "        self.tail = None\n",
        "\n",
        "    def remove(self, node):\n",
        "        # if it's the only node\n",
        "        if node.left == None and node.right == None:\n",
        "            self.head = self.tail = None\n",
        "\n",
        "        # if it's the head\n",
        "        elif node.left == None:\n",
        "            self.head = node.right\n",
        "            self.head.left = None\n",
        "\n",
        "        # if it's the tail\n",
        "        elif node.right == None:\n",
        "            self.tail = node.left\n",
        "            self.tail.right = None\n",
        "\n",
        "        # if it's in the middle\n",
        "        else:\n",
        "            node.left.right = node.right\n",
        "            node.right.left = node.left\n",
        "\n",
        "        self.length -= 1\n",
        "\n",
        "    def insert(self, node):\n",
        "        # if empty\n",
        "        if self.head == None:\n",
        "            self.head = self.tail = node\n",
        "        else:\n",
        "            node.left = None\n",
        "            node.right = self.head\n",
        "            self.head.left = node\n",
        "            self.head = node\n",
        "\n",
        "        self.length += 1\n",
        "\n",
        "\n",
        "class LRUCache:\n",
        "\n",
        "    def __init__(self, capacity: int):\n",
        "        self.capacity = capacity\n",
        "        self.cache = {}\n",
        "        self.list = LinkedList()\n",
        "\n",
        "    def get(self, key: int) -> int:\n",
        "        if key in self.cache:\n",
        "            node = self.cache[key]\n",
        "\n",
        "            # move node to be head\n",
        "            self.list.remove(node)\n",
        "            self.list.insert(node)\n",
        "\n",
        "            return node.value\n",
        "        return -1\n",
        "\n",
        "    def put(self, key: int, value: int) -> None:\n",
        "        # if key exists, remove prev node\n",
        "        if key in self.cache:\n",
        "            self.list.remove(self.cache[key])\n",
        "\n",
        "        new_node = Node(key, value)\n",
        "        self.list.insert(new_node)\n",
        "        self.cache[key] = new_node\n",
        "\n",
        "        if self.list.length > self.capacity:\n",
        "            # remove last element\n",
        "            key_to_remove = self.list.tail.key\n",
        "            node_to_remove = self.list.tail\n",
        "\n",
        "            self.list.remove(node_to_remove)\n",
        "            del self.cache[key_to_remove]"
      ],
      "metadata": {
        "id": "yyeaCp5FHWnc"
      },
      "execution_count": null,
      "outputs": []
    },
    {
      "cell_type": "markdown",
      "source": [
        "## Binary Tree"
      ],
      "metadata": {
        "id": "pUxmou3TT9dc"
      }
    },
    {
      "cell_type": "markdown",
      "source": [
        "### [Binary Tree Inorder](https://leetcode.com/problems/binary-tree-inorder-traversal/description/)"
      ],
      "metadata": {
        "id": "0DeIxBB0UCwV"
      }
    },
    {
      "cell_type": "code",
      "source": [
        "class Solution:\n",
        "    def inorderTraversal(self, root: Optional[TreeNode]) -> List[int]:\n",
        "        arr = []\n",
        "        def inorder(root, arr):\n",
        "            if root:\n",
        "                inorder(root.left, arr)\n",
        "                arr.append(root.val)\n",
        "                inorder(root.right, arr)\n",
        "        inorder(root, arr)\n",
        "        return arr"
      ],
      "metadata": {
        "id": "2VkMSiMET_ZY"
      },
      "execution_count": null,
      "outputs": []
    },
    {
      "cell_type": "markdown",
      "source": [
        "### [Binary Tree Preorder](https://leetcode.com/problems/binary-tree-preorder-traversal/)"
      ],
      "metadata": {
        "id": "HSztyL0zU5Lo"
      }
    },
    {
      "cell_type": "code",
      "source": [
        "class Solution:\n",
        "    def preorderTraversal(self, root: Optional[TreeNode]) -> List[int]:\n",
        "        arr = []\n",
        "        def preorder(root, arr):\n",
        "            if root:\n",
        "                arr.append(root.val)\n",
        "                preorder(root.left, arr)\n",
        "                preorder(root.right, arr)\n",
        "\n",
        "        preorder(root, arr)\n",
        "        return arr"
      ],
      "metadata": {
        "id": "mw5agUBcVCbU"
      },
      "execution_count": null,
      "outputs": []
    },
    {
      "cell_type": "markdown",
      "source": [
        "### [Binary Tree Postorder](https://leetcode.com/problems/binary-tree-postorder-traversal/description/)"
      ],
      "metadata": {
        "id": "wkBN50_1lOSC"
      }
    },
    {
      "cell_type": "code",
      "source": [
        "class Solution:\n",
        "    def postorderTraversal(self, root: Optional[TreeNode]) -> List[int]:\n",
        "        arr = []\n",
        "        def postorder(root, arr):\n",
        "            if root:\n",
        "                postorder(root.left, arr)\n",
        "                postorder(root.right, arr)\n",
        "                arr.append(root.val)\n",
        "        postorder(root, arr)\n",
        "        return arr"
      ],
      "metadata": {
        "id": "cfScx9_UlV5I"
      },
      "execution_count": null,
      "outputs": []
    },
    {
      "cell_type": "markdown",
      "source": [
        "### [Left View of Binary Tree](https://www.geeksforgeeks.org/problems/left-view-of-binary-tree/1)"
      ],
      "metadata": {
        "id": "WEda9NA8_qCC"
      }
    },
    {
      "cell_type": "code",
      "source": [
        "def LeftView(root):\n",
        "\n",
        "    arr = []\n",
        "\n",
        "    def leftview(root, level):\n",
        "        if root:\n",
        "            if len(arr) == level:\n",
        "                arr.append(root.data)\n",
        "            leftview(root.left, level+1)\n",
        "            leftview(root.right, level+1)\n",
        "\n",
        "    leftview(root, 0)\n",
        "    return arr"
      ],
      "metadata": {
        "id": "IgakBsJM_q0g"
      },
      "execution_count": null,
      "outputs": []
    },
    {
      "cell_type": "markdown",
      "source": [
        "### [Top View of Binary Tree](https://www.geeksforgeeks.org/problems/top-view-of-binary-tree/1)"
      ],
      "metadata": {
        "id": "l3M0WdMQ2x1U"
      }
    },
    {
      "cell_type": "code",
      "source": [
        "def topView(root):\n",
        "    ans = []\n",
        "    if(root == None):\n",
        "        return\n",
        "    q = []\n",
        "    m = dict()\n",
        "    hd = 0\n",
        "    root.hd = hd\n",
        "\n",
        "    q.append(root)\n",
        "\n",
        "    while(len(q)):\n",
        "        root = q[0]\n",
        "        hd = root.hd\n",
        "\n",
        "        if hd not in m:\n",
        "            m[hd] = root.data\n",
        "        if(root.left):\n",
        "            root.left.hd = hd - 1\n",
        "            q.append(root.left)\n",
        "\n",
        "        if(root.right):\n",
        "            root.right.hd = hd + 1\n",
        "            q.append(root.right)\n",
        "\n",
        "        q.pop(0)\n",
        "    for i in sorted(m):\n",
        "        ans.append(m[i])\n",
        "\n",
        "    return ans"
      ],
      "metadata": {
        "id": "hr4DDF2K21cq"
      },
      "execution_count": null,
      "outputs": []
    },
    {
      "cell_type": "markdown",
      "source": [
        "### [Bottom View of Binary Tree](https://www.geeksforgeeks.org/problems/bottom-view-of-binary-tree/1)"
      ],
      "metadata": {
        "id": "YZgCIRaZ7Mw6"
      }
    },
    {
      "cell_type": "code",
      "source": [
        "def bottomView(root):\n",
        "    ans = []\n",
        "    if (root == None):\n",
        "        return\n",
        "\n",
        "    hd = 0\n",
        "\n",
        "    min_hd, max_hd = 0, 0\n",
        "\n",
        "    hd_dict = dict()\n",
        "\n",
        "    q = deque()\n",
        "\n",
        "    root.hd = hd\n",
        "    q.append(root)\n",
        "\n",
        "    while q:\n",
        "        curr_node = q.popleft()\n",
        "\n",
        "        hd = curr_node.hd\n",
        "\n",
        "        min_hd = min(min_hd, hd)\n",
        "        max_hd = max(max_hd, hd)\n",
        "\n",
        "        hd_dict[hd] = curr_node.data\n",
        "\n",
        "        if curr_node.left:\n",
        "            curr_node.left.hd = hd - 1\n",
        "            q.append(curr_node.left)\n",
        "\n",
        "        if curr_node.right:\n",
        "            curr_node.right.hd = hd + 1\n",
        "            q.append(curr_node.right)\n",
        "\n",
        "    for i in range(min_hd, max_hd+1):\n",
        "        ans.append(hd_dict[i])\n",
        "\n",
        "    return ans"
      ],
      "metadata": {
        "id": "m6M79VXo7JVr"
      },
      "execution_count": null,
      "outputs": []
    },
    {
      "cell_type": "markdown",
      "source": [
        "### PreOrder InOrder PostOrder in a Single Traversal"
      ],
      "metadata": {
        "id": "A7xK7lLQBB0w"
      }
    },
    {
      "cell_type": "code",
      "source": [
        "def SingleTraversal(root):\n",
        "  if root is None:\n",
        "    return [], [], []\n",
        "\n",
        "  stack = [(root, 1)]\n",
        "  preorder, inorder, postorder = [], [], []\n",
        "\n",
        "  while stack:\n",
        "    node, state = stack.pop()\n",
        "\n",
        "    if state == 1:\n",
        "      preorder.append(node.data)\n",
        "      stack.append((node, 2))\n",
        "      if node.left:\n",
        "        stack.append((node.left, 1))\n",
        "\n",
        "    elif state == 2:\n",
        "      inorder.append(node.data)\n",
        "      stack.append((node, state + 1))\n",
        "      if node.right:\n",
        "        stack.append((node.right, 1))\n",
        "\n",
        "    else:\n",
        "      postorder.append(node.data)\n",
        "\n",
        "  return preorder, inorder, postorder"
      ],
      "metadata": {
        "id": "63tZy_TgBJhA"
      },
      "execution_count": null,
      "outputs": []
    },
    {
      "cell_type": "markdown",
      "source": [
        "### [Vertical Order Traversal](https://leetcode.com/problems/vertical-order-traversal-of-a-binary-tree/description/)"
      ],
      "metadata": {
        "id": "8kkBWawd1cKt"
      }
    },
    {
      "cell_type": "code",
      "source": [
        "def verticalTraversal(self, root: Optional[TreeNode]) -> List[List[int]]:\n",
        "    from collections import defaultdict, deque\n",
        "\n",
        "    if not root:\n",
        "        return []\n",
        "\n",
        "    valCol = defaultdict(list)\n",
        "    q = deque([(root, 0, 0)])\n",
        "    minColIdx = maxColIdx = 0\n",
        "\n",
        "    while q:\n",
        "        aNode, colIdx, rowIdx = q.popleft()\n",
        "        valCol[colIdx].append((rowIdx, aNode.val))\n",
        "        minColIdx = min(colIdx, minColIdx)\n",
        "        maxColIdx = max(colIdx, maxColIdx)\n",
        "\n",
        "        if aNode.left:\n",
        "            q.append((aNode.left, colIdx - 1, rowIdx + 1))\n",
        "        if aNode.right:\n",
        "            q.append((aNode.right, colIdx + 1, rowIdx + 1))\n",
        "\n",
        "    ans = []\n",
        "    for colIdx in range(minColIdx, maxColIdx + 1):\n",
        "        ans.append([val for row, val in sorted(valCol[colIdx])])\n",
        "\n",
        "    return ans"
      ],
      "metadata": {
        "id": "fRojEB7J1ft4"
      },
      "execution_count": null,
      "outputs": []
    },
    {
      "cell_type": "markdown",
      "source": [
        "### [Root to leaf paths](https://www.geeksforgeeks.org/problems/root-to-leaf-paths/1)"
      ],
      "metadata": {
        "id": "LbZsyQR_j1yG"
      }
    },
    {
      "cell_type": "code",
      "source": [
        "def Paths(root : Optional['Node']) -> List[List[int]]:\n",
        "    if not root:\n",
        "        return []\n",
        "\n",
        "    paths = []\n",
        "    current_path = []\n",
        "\n",
        "    def dfs(node, path):\n",
        "        if not node:\n",
        "            return\n",
        "\n",
        "        path.append(node.data)\n",
        "\n",
        "        if not node.left and not node.right:\n",
        "            paths.append(path[:])\n",
        "        else:\n",
        "            dfs(node.left, path)\n",
        "            dfs(node.right, path)\n",
        "\n",
        "        path.pop()\n",
        "\n",
        "    dfs(root, current_path)\n",
        "    return paths"
      ],
      "metadata": {
        "id": "E7TbhF4ljxpd"
      },
      "execution_count": null,
      "outputs": []
    },
    {
      "cell_type": "markdown",
      "source": [
        "### [Maximum Width of Binary Tree](https://leetcode.com/problems/maximum-width-of-binary-tree/)"
      ],
      "metadata": {
        "id": "LCRlynrFO2fH"
      }
    },
    {
      "cell_type": "code",
      "source": [
        "def widthOfBinaryTree(self, root: Optional[TreeNode]) -> int:\n",
        "    if not root:\n",
        "        return 0\n",
        "\n",
        "    res = 0\n",
        "    q = deque([(root, 1, 0)])\n",
        "    prevlevel, prevnum = 0, 1\n",
        "\n",
        "    while q:\n",
        "        node, num, level = q.popleft()\n",
        "\n",
        "        if level > prevlevel:\n",
        "            prevlevel = level\n",
        "            prevnum = num\n",
        "\n",
        "        res = max(res, num - prevnum + 1)\n",
        "\n",
        "        if node.left:\n",
        "            q.append((node.left, 2 * num, level + 1))\n",
        "        if node.right:\n",
        "            q.append((node.right, 2 * num + 1, level + 1))\n",
        "\n",
        "    return res"
      ],
      "metadata": {
        "id": "yWC4SLQZO16P"
      },
      "execution_count": null,
      "outputs": []
    },
    {
      "cell_type": "markdown",
      "source": [
        "### [Level Order Traversal](https://leetcode.com/problems/binary-tree-level-order-traversal/)"
      ],
      "metadata": {
        "id": "EdGjl5zEv_lG"
      }
    },
    {
      "cell_type": "code",
      "source": [
        "def levelOrder(self, root: Optional[TreeNode]) -> List[List[int]]:\n",
        "    if not root:\n",
        "        return []\n",
        "\n",
        "    ans = []\n",
        "    q = deque([root])\n",
        "\n",
        "    while q:\n",
        "        level_size = len(q)\n",
        "        current_level = []\n",
        "\n",
        "        for _ in range(level_size):\n",
        "            node = q.popleft()\n",
        "            current_level.append(node.val)\n",
        "\n",
        "            if node.left:\n",
        "                q.append(node.left)\n",
        "            if node.right:\n",
        "                q.append(node.right)\n",
        "\n",
        "        ans.append(current_level)\n",
        "\n",
        "    return ans"
      ],
      "metadata": {
        "id": "SBCZDLqsv7L-"
      },
      "execution_count": null,
      "outputs": []
    },
    {
      "cell_type": "markdown",
      "source": [
        "### [Max Depth of Binary Tree](https://leetcode.com/problems/maximum-depth-of-binary-tree/)"
      ],
      "metadata": {
        "id": "IoE-wRvNw351"
      }
    },
    {
      "cell_type": "code",
      "source": [
        "def maxDepth(self, root: Optional[TreeNode]) -> int:\n",
        "    if root is None:\n",
        "        return 0\n",
        "    return max(self.maxDepth(root.left), self.maxDepth(root.right)) + 1"
      ],
      "metadata": {
        "id": "wSYZc70Mw1Nh"
      },
      "execution_count": null,
      "outputs": []
    },
    {
      "cell_type": "markdown",
      "source": [
        "### [Diameter of Binary Tree](https://leetcode.com/problems/diameter-of-binary-tree/description/)"
      ],
      "metadata": {
        "id": "g38gYrxfJBfg"
      }
    },
    {
      "cell_type": "code",
      "source": [
        "def diameterOfBinaryTree(root: Optional[TreeNode]) -> int:\n",
        "    res = [0]\n",
        "    def dfs(root):\n",
        "        if not root:\n",
        "            return -1\n",
        "        left = dfs(root.left)\n",
        "        right = dfs(root.right)\n",
        "        res[0] = max(res[0], 2 + left + right)\n",
        "        return 1 + max(left, right)\n",
        "\n",
        "    dfs(root)\n",
        "    return res[0]"
      ],
      "metadata": {
        "id": "ODe3o-ngJINo"
      },
      "execution_count": null,
      "outputs": []
    },
    {
      "cell_type": "markdown",
      "source": [
        "### [Lowest Common Ancestor of a Binary Tree](https://leetcode.com/problems/lowest-common-ancestor-of-a-binary-tree/description/)"
      ],
      "metadata": {
        "id": "sKsMvoNVNjxs"
      }
    },
    {
      "cell_type": "code",
      "source": [
        "def lowestCommonAncestor(root: 'TreeNode', p: 'TreeNode', q: 'TreeNode') -> 'TreeNode':\n",
        "    def traverse(node):\n",
        "        if node == None:\n",
        "            return None\n",
        "        if node == p or node == q:\n",
        "            return node\n",
        "        left = traverse(node.left)\n",
        "        right = traverse(node.right)\n",
        "        if left and right:\n",
        "            return node\n",
        "        return left or right\n",
        "    return traverse(root)"
      ],
      "metadata": {
        "id": "udEbe-LCJLDO"
      },
      "execution_count": null,
      "outputs": []
    },
    {
      "cell_type": "markdown",
      "source": [
        "### [Same Tree](https://leetcode.com/problems/same-tree/)"
      ],
      "metadata": {
        "id": "7XP6zqgrltqu"
      }
    },
    {
      "cell_type": "code",
      "source": [
        "def SameTree(p, q):\n",
        "    if (p and not q) or (q and not p):\n",
        "        return False\n",
        "    if not p and not q :\n",
        "        return True\n",
        "    if p.val == q.val and SameTree(p.left, q.left) and SameTree(p.right, q.right) :\n",
        "        return True"
      ],
      "metadata": {
        "id": "46vdTMeglreH"
      },
      "execution_count": null,
      "outputs": []
    },
    {
      "cell_type": "markdown",
      "source": [
        "### [Balanced Binary Tree](https://leetcode.com/problems/balanced-binary-tree/description/)"
      ],
      "metadata": {
        "id": "bWCiZZQFoUsc"
      }
    },
    {
      "cell_type": "code",
      "source": [
        "def isBalanced(root: Optional[TreeNode]) -> bool:\n",
        "    def dfs(root):\n",
        "        if root is None:\n",
        "            return [True, 0]\n",
        "\n",
        "        left, right = dfs(root.left), dfs(root.right)\n",
        "        balanced = left[0] and right[0] and abs(left[1] - right[1]) <= 1\n",
        "\n",
        "        return [balanced, 1 + max(left[1], right[1])]\n",
        "\n",
        "    return dfs(root)[0]"
      ],
      "metadata": {
        "id": "KGudFyLQoRhk"
      },
      "execution_count": null,
      "outputs": []
    },
    {
      "cell_type": "markdown",
      "source": [
        "### [Binary Tree Zig Zag Level Order Traversal](https://leetcode.com/problems/binary-tree-zigzag-level-order-traversal/description/)"
      ],
      "metadata": {
        "id": "w1n7jMVynQcD"
      }
    },
    {
      "cell_type": "code",
      "source": [
        "def zigzagLevelOrder(root: Optional[TreeNode]) -> List[List[int]]:\n",
        "    res = []\n",
        "    q = deque([root] if root else [])\n",
        "    while q:\n",
        "        level = []\n",
        "        for i in range(len(q)):\n",
        "            node =q.popleft()\n",
        "            level.append(node.val)\n",
        "            if node.left:\n",
        "                q.append(node.left)\n",
        "            if node.right:\n",
        "                q.append(node.right)\n",
        "        level = reversed(level) if len(res) % 2 else level\n",
        "        res.append(level)\n",
        "    return res"
      ],
      "metadata": {
        "id": "EitROUuGnMiE"
      },
      "execution_count": null,
      "outputs": []
    },
    {
      "cell_type": "markdown",
      "source": [
        "### [Construct Binary Tree from Preoder and Inorder](https://leetcode.com/problems/construct-binary-tree-from-preorder-and-inorder-traversal/description/)"
      ],
      "metadata": {
        "id": "yHGckH6Gl0mG"
      }
    },
    {
      "cell_type": "code",
      "source": [
        "def buildTree(preorder: List[int], inorder: List[int]) -> Optional[TreeNode]:\n",
        "    if not preorder or not inorder:\n",
        "        return None\n",
        "\n",
        "    root = TreeNode(preorder[0])\n",
        "    index = inorder.index(preorder[0])\n",
        "    root.left = buildTree(preorder[1:index+1], inorder[:index])\n",
        "    root.right = buildTree(preorder[index+1:], inorder[index+1:])\n",
        "    return root"
      ],
      "metadata": {
        "id": "pKFcr4b5lv22"
      },
      "execution_count": null,
      "outputs": []
    },
    {
      "cell_type": "markdown",
      "source": [
        "### [Construct Binary Tree from Inorder and Postorder](https://leetcode.com/problems/construct-binary-tree-from-inorder-and-postorder-traversal/description/)"
      ],
      "metadata": {
        "id": "ktNUfopSRQEy"
      }
    },
    {
      "cell_type": "code",
      "source": [
        "def buildTree(inorder: List[int], postorder: List[int]) -> Optional[TreeNode]:\n",
        "    if not inorder:\n",
        "        return None\n",
        "    root = TreeNode(postorder.pop())\n",
        "    idx = inorder.index(root.val)\n",
        "    root.right = buildTree(inorder[idx+1:], postorder)\n",
        "    root.left = buildTree (inorder [:idx], postorder)\n",
        "    return root"
      ],
      "metadata": {
        "id": "q4cFrcmxRK_-"
      },
      "execution_count": null,
      "outputs": []
    },
    {
      "cell_type": "markdown",
      "source": [
        "### [Symmetric Tree](https://leetcode.com/problems/symmetric-tree/description/)"
      ],
      "metadata": {
        "id": "jZcEl-5lrgO9"
      }
    },
    {
      "cell_type": "code",
      "source": [
        "def isSymmetric(root: Optional[TreeNode]) -> bool:\n",
        "    def dfs(left, right):\n",
        "        if not left and not right:\n",
        "            return True\n",
        "        if not left or not right:\n",
        "            return False\n",
        "        return (left.val == right.val and\n",
        "                dfs(left. left, right.right) and\n",
        "                dfs(left.right, right.left))\n",
        "    return dfs(root.left, root.right)"
      ],
      "metadata": {
        "id": "T0rLjnNfrVw2"
      },
      "execution_count": null,
      "outputs": []
    },
    {
      "cell_type": "markdown",
      "source": [
        "### [Find Median from Data Stream](https://leetcode.com/problems/find-median-from-data-stream/description/)"
      ],
      "metadata": {
        "id": "MeAnZha-B5Z8"
      }
    },
    {
      "cell_type": "code",
      "source": [
        "import heapq\n",
        "\n",
        "class MedianFinder:\n",
        "\n",
        "    def __init__(self):\n",
        "        self.small, self.large = [], []\n",
        "\n",
        "    def addNum(self, num: int) -> None:\n",
        "        heapq.heappush(self.small, -num)\n",
        "\n",
        "        # Ensure every num in small is <= every num in large\n",
        "        if self.small and self.large and (-self.small[0]) > self.large[0]:\n",
        "            val = -heapq.heappop(self.small)\n",
        "            heapq.heappush(self.large, val)\n",
        "\n",
        "        # Balance the sizes of the two heaps\n",
        "        if len(self.small) > len(self.large) + 1:\n",
        "            val = -heapq.heappop(self.small)\n",
        "            heapq.heappush(self.large, val)\n",
        "\n",
        "        if len(self.large) > len(self.small) + 1:\n",
        "            val = heapq.heappop(self.large)\n",
        "            heapq.heappush(self.small, -val)\n",
        "\n",
        "    def findMedian(self) -> float:\n",
        "        if len(self.small) > len(self.large):\n",
        "            return -self.small[0]\n",
        "        if len(self.large) > len(self.small):\n",
        "            return self.large[0]\n",
        "\n",
        "        return (-self.small[0] + self.large[0]) / 2.0"
      ],
      "metadata": {
        "id": "YOvkLUwLB-F-"
      },
      "execution_count": null,
      "outputs": []
    },
    {
      "cell_type": "markdown",
      "source": [
        "### [Kth Largest Element in a Array](https://leetcode.com/problems/kth-largest-element-in-an-array/description/)"
      ],
      "metadata": {
        "id": "2cwciJDXCUq3"
      }
    },
    {
      "cell_type": "code",
      "source": [
        "class Solution:\n",
        "    def findKthLargest(self, nums: List[int], k: int) -> int:\n",
        "        import heapq\n",
        "        hp = []\n",
        "\n",
        "        for ele in nums:\n",
        "            if len(hp) < k:\n",
        "                heapq.heappush(hp, ele)\n",
        "            else:\n",
        "                heapq.heappushpop(hp, ele)\n",
        "\n",
        "        return hp[0]"
      ],
      "metadata": {
        "id": "F2btwWhxCUH2"
      },
      "execution_count": null,
      "outputs": []
    },
    {
      "cell_type": "markdown",
      "source": [
        "### [Kth Largest Element in a Stream](https://leetcode.com/problems/kth-largest-element-in-a-stream/description/)"
      ],
      "metadata": {
        "id": "qpCPvB-xCyGi"
      }
    },
    {
      "cell_type": "code",
      "source": [
        "class KthLargest:\n",
        "    def __init__(self, k: int, nums: List[int]):\n",
        "        self.k = k\n",
        "        self.arr = sorted(nums, reverse = True)\n",
        "\n",
        "    def add(self, val: int) -> int:\n",
        "        self.arr.append(val)\n",
        "        self.arr.sort(reverse = True)\n",
        "        return self.arr[self.k - 1]"
      ],
      "metadata": {
        "id": "8LJZQdkbCxO6"
      },
      "execution_count": null,
      "outputs": []
    },
    {
      "cell_type": "markdown",
      "source": [
        "### [Flood Fill](https://leetcode.com/problems/flood-fill/description/)"
      ],
      "metadata": {
        "id": "SDIE3XQ6D-N-"
      }
    },
    {
      "cell_type": "code",
      "source": [
        "class Solution:\n",
        "    def floodFill(self, image: List[List[int]], sr: int, sc: int, color: int) -> List[List[int]]:\n",
        "\n",
        "        start_color = image[sr][sc]\n",
        "\n",
        "        def flood_fill(x, y):\n",
        "            if x < 0 or x >= len(image): return\n",
        "            if y < 0 or y >= len(image[0]): return\n",
        "\n",
        "            if image[x][y] == color: return\n",
        "            if image[x][y] != start_color: return\n",
        "\n",
        "            image[x][y] = color\n",
        "\n",
        "            flood_fill(x-1, y)\n",
        "            flood_fill(x+1, y)\n",
        "            flood_fill(x, y+1)\n",
        "            flood_fill(x, y-1)\n",
        "\n",
        "        flood_fill(sr, sc)\n",
        "        return image"
      ],
      "metadata": {
        "id": "rHMjyoO1D7qZ"
      },
      "execution_count": null,
      "outputs": []
    },
    {
      "cell_type": "markdown",
      "source": [
        "### [Flatten Binary Tree to Linked List](https://leetcode.com/problems/flatten-binary-tree-to-linked-list/description/)"
      ],
      "metadata": {
        "id": "CZDF8WIQ0kDW"
      }
    },
    {
      "cell_type": "code",
      "source": [
        "def dfs(root):\n",
        "    if not root:\n",
        "        return None\n",
        "    leftTail =dfs(root.left)\n",
        "    rightTail = dfs(root.right)\n",
        "    if root.left:\n",
        "        leftTail.right = root.right\n",
        "        root.right = root.left\n",
        "        root.left = None\n",
        "    last = rightTail or leftTail or root\n",
        "    return last\n",
        "dfs(root)"
      ],
      "metadata": {
        "id": "TvwoAGFv0o0M"
      },
      "execution_count": null,
      "outputs": []
    },
    {
      "cell_type": "markdown",
      "source": [
        "### [Binary Tree Maximum Path Sum](https://leetcode.com/problems/binary-tree-maximum-path-sum/description/)"
      ],
      "metadata": {
        "id": "t9usFugd03Rs"
      }
    },
    {
      "cell_type": "code",
      "source": [
        "def maxPathSum(root: Optional[TreeNode]) -> int:\n",
        "    res = [root.val]\n",
        "\n",
        "    def dfs(root):\n",
        "        if not root:\n",
        "            return 0\n",
        "\n",
        "        leftMax = dfs(root.left)\n",
        "        rightMax = dfs(root.right)\n",
        "        leftMax = max(0, leftMax)\n",
        "        rightMax = max(0, rightMax)\n",
        "\n",
        "        res[0] = max(res[0], root.val + leftMax + rightMax)\n",
        "\n",
        "        return root.val + max(leftMax, rightMax)\n",
        "\n",
        "    dfs(root)\n",
        "    return res[0]"
      ],
      "metadata": {
        "id": "lozDDhDu07MM"
      },
      "execution_count": null,
      "outputs": []
    },
    {
      "cell_type": "markdown",
      "source": [
        "## Binary Search Tree"
      ],
      "metadata": {
        "id": "1XlwCjmOqYcP"
      }
    },
    {
      "cell_type": "markdown",
      "source": [
        "### [Search in a Binary Search Tree](https://leetcode.com/problems/search-in-a-binary-search-tree/description/)"
      ],
      "metadata": {
        "id": "zAWdo8K2qa51"
      }
    },
    {
      "cell_type": "code",
      "source": [
        "def searchBST(root: Optional[TreeNode], val: int) -> Optional[TreeNode]:\n",
        "    if root:\n",
        "        if val == root.val:\n",
        "            return root\n",
        "        if val > root.val:\n",
        "            return self.searchBST(root.right, val)\n",
        "        if val < root.val:\n",
        "            return self.searchBST(root.left, val)\n",
        "    return None"
      ],
      "metadata": {
        "id": "0z7rIgrlqaLH"
      },
      "execution_count": null,
      "outputs": []
    },
    {
      "cell_type": "markdown",
      "source": [
        "### [Convert Sorted Array to BST](https://leetcode.com/problems/convert-sorted-array-to-binary-search-tree/)"
      ],
      "metadata": {
        "id": "R22zzIAUvB2N"
      }
    },
    {
      "cell_type": "code",
      "source": [
        "def sortedArrayToBST(nums: List[int]) -> Optional[TreeNode]:\n",
        "    def helper(l,r):\n",
        "        if l > r:\n",
        "            return None\n",
        "\n",
        "        m = (l + r) //2\n",
        "        root = TreeNode(nums[m])\n",
        "        root.left = helper(l, m-1)\n",
        "        root.right = helper(m + 1, r)\n",
        "        return root\n",
        "\n",
        "    return helper(0, len(nums)-1)"
      ],
      "metadata": {
        "id": "q4GBQ7Ibu9QA"
      },
      "execution_count": null,
      "outputs": []
    },
    {
      "cell_type": "markdown",
      "source": [
        "### [Lowest Common Ancestor of BST](https://leetcode.com/problems/lowest-common-ancestor-of-a-binary-search-tree/description/)"
      ],
      "metadata": {
        "id": "QnhByE_BjTB9"
      }
    },
    {
      "cell_type": "code",
      "source": [
        "def lowestCommonAncestor(root: 'TreeNode', p: 'TreeNode', q: 'TreeNode'):\n",
        "    def f(root, p, q):\n",
        "        if root:\n",
        "            if p<= root.val <=q:\n",
        "                return root\n",
        "            if q<root.val:\n",
        "                return f(root.left, p, q)\n",
        "            return f(root.right, p, q)\n",
        "    return f(root, min(p.val,q.val), max(p.val,q.val))"
      ],
      "metadata": {
        "id": "_5YI4dEDjX0I"
      },
      "execution_count": null,
      "outputs": []
    },
    {
      "cell_type": "markdown",
      "source": [
        "### [Validate BST](https://leetcode.com/problems/validate-binary-search-tree/description/)"
      ],
      "metadata": {
        "id": "xExMtfp1kRa3"
      }
    },
    {
      "cell_type": "code",
      "source": [
        "prev = None\n",
        "\n",
        "class Solution:\n",
        "    def isValidBST(self, root: Optional[TreeNode]) -> bool:\n",
        "        global prev\n",
        "        prev = -(2<<31 + 1)\n",
        "        return 1 if f(root) else 0\n",
        "\n",
        "def f(root):\n",
        "    if root:\n",
        "        if not f(root.left):\n",
        "            return False\n",
        "        global prev\n",
        "        if prev >= root.val:\n",
        "            return False\n",
        "        prev = root.val\n",
        "        if not f(root.right):\n",
        "            return False\n",
        "        return True\n",
        "    return True"
      ],
      "metadata": {
        "id": "SWM0lmU8kP6L"
      },
      "execution_count": null,
      "outputs": []
    },
    {
      "cell_type": "markdown",
      "source": [
        "### [Populating Next Right Pointers in Each Node](https://leetcode.com/problems/populating-next-right-pointers-in-each-node/description/)"
      ],
      "metadata": {
        "id": "aFmLuhVGExIY"
      }
    },
    {
      "cell_type": "code",
      "source": [
        "def connect(self, root: 'Optional[Node]') -> 'Optional[Node]':\n",
        "    q = deque([root])\n",
        "    while q:\n",
        "        n = len(q)\n",
        "\n",
        "        for i in range(n):\n",
        "            node = q.popleft()\n",
        "\n",
        "            if i<n-1:\n",
        "                node.next = q[0]\n",
        "            if node and node.left:\n",
        "                q.append(node.left)\n",
        "            if node and node.right:\n",
        "                q.append(node.right)\n",
        "    return root"
      ],
      "metadata": {
        "id": "hECwYjoHE6m3"
      },
      "execution_count": null,
      "outputs": []
    },
    {
      "cell_type": "markdown",
      "source": [
        "### [Construct Binary Search Tree from Preorder Traversal](https://leetcode.com/problems/construct-binary-search-tree-from-preorder-traversal/description/)"
      ],
      "metadata": {
        "id": "nYZaRJSuFKmd"
      }
    },
    {
      "cell_type": "code",
      "source": [
        "def bstFromPreorder(self, preorder: List[int]) -> TreeNode:\n",
        "    if not preorder:\n",
        "        return None\n",
        "    root = TreeNode(preorder[0])\n",
        "    i = 1\n",
        "    while i<len(preorder) and  preorder[i] < root.val:\n",
        "        i+=1\n",
        "    root.left = self.bstFromPreorder(preorder[1:i])\n",
        "    root.right = self.bstFromPreorder(preorder[i:])\n",
        "    return root"
      ],
      "metadata": {
        "id": "VAe9OzyUFStn"
      },
      "execution_count": null,
      "outputs": []
    },
    {
      "cell_type": "markdown",
      "source": [
        "### [Kth Smallest Element in a BST](https://leetcode.com/problems/kth-smallest-element-in-a-bst/description/)"
      ],
      "metadata": {
        "id": "-SmC8dAhFjDt"
      }
    },
    {
      "cell_type": "code",
      "source": [
        "def kthSmallest(self, root: Optional[TreeNode], k: int) -> int:\n",
        "    global i, n\n",
        "    i = 0\n",
        "    n = None\n",
        "    def solve(root, k):\n",
        "        global i, n\n",
        "        if root:\n",
        "            solve(root.left, k)\n",
        "            i += 1\n",
        "            if i==k:\n",
        "                n = root.val\n",
        "            elif i<k:\n",
        "                solve(root.right, k)\n",
        "        return n\n",
        "\n",
        "    solve(root, k)\n",
        "    return n"
      ],
      "metadata": {
        "id": "zZ_GiYOBFstX"
      },
      "execution_count": null,
      "outputs": []
    },
    {
      "cell_type": "markdown",
      "source": [
        "###[Two Sum IV - Input is a BST](https://leetcode.com/problems/two-sum-iv-input-is-a-bst/description/)"
      ],
      "metadata": {
        "id": "XlkHpLYQF3PS"
      }
    },
    {
      "cell_type": "code",
      "source": [
        "def findTarget(self, root: Optional[TreeNode], k: int) -> bool:\n",
        "    if not root:\n",
        "        return False\n",
        "    visit = set()\n",
        "    q = [root]\n",
        "    for i in q:\n",
        "        if (k-i.val) in visit:\n",
        "            return True\n",
        "        visit.add(i.val)\n",
        "        if i.left:\n",
        "            q.append(i.left)\n",
        "        if i.right:\n",
        "            q.append(i.right)"
      ],
      "metadata": {
        "id": "7X-kt-b-F6TE"
      },
      "execution_count": null,
      "outputs": []
    },
    {
      "cell_type": "markdown",
      "source": [
        "###[Binary Search Tree Iterator](https://leetcode.com/problems/binary-search-tree-iterator/description/)"
      ],
      "metadata": {
        "id": "mXApCOU_JBXG"
      }
    },
    {
      "cell_type": "code",
      "source": [
        "class BSTIterator:\n",
        "\n",
        "    st=[]\n",
        "    def __init__(self, root: Optional[TreeNode]):\n",
        "        def inorder(root):\n",
        "            if root is None:\n",
        "                return\n",
        "            inorder(root.left)\n",
        "            self.st.append(root.val)\n",
        "            inorder(root.right)\n",
        "        inorder(root)\n",
        "    def next(self) -> int:\n",
        "        return self.st.pop(0)\n",
        "    def hasNext(self) -> bool:\n",
        "        return len(self.st)>0"
      ],
      "metadata": {
        "id": "ze1RihAKJAyS"
      },
      "execution_count": null,
      "outputs": []
    },
    {
      "cell_type": "markdown",
      "source": [
        "###[Maximum Sum BST in Binary Tree](https://leetcode.com/problems/maximum-sum-bst-in-binary-tree/description/)"
      ],
      "metadata": {
        "id": "yUtfAbP1OCFt"
      }
    },
    {
      "cell_type": "code",
      "source": [
        "class Solution:\n",
        "    def maxSumBST(self, root: Optional[TreeNode]) -> int:\n",
        "        global msum\n",
        "        msum = 0\n",
        "        f(root)\n",
        "        return msum\n",
        "\n",
        "msum = 0\n",
        "def f(root):\n",
        "    if not root:\n",
        "        return 4*(10**4), -4*(10**4), 0\n",
        "    lmin, lmax, lsum = f(root.left)\n",
        "    rmin, rmax, rsum = f(root.right)\n",
        "\n",
        "    if lmax < root.val < rmin :\n",
        "        global msum\n",
        "        msum = max(msum, lsum+rsum+root.val)\n",
        "        return min(lmin, root.val), max(rmax, root.val), lsum+ rsum+ root.val\n",
        "    return -4*(10**4), 4*(10**4), 0"
      ],
      "metadata": {
        "id": "Xy8TBACnOJOc"
      },
      "execution_count": null,
      "outputs": []
    },
    {
      "cell_type": "markdown",
      "source": [
        "###[Serialize and Deserialize Binary Tree](https://leetcode.com/problems/serialize-and-deserialize-binary-tree/)"
      ],
      "metadata": {
        "id": "9K0DjWfaQDBe"
      }
    },
    {
      "cell_type": "code",
      "source": [
        "class Codec:\n",
        "\n",
        "    def serialize(self, root):\n",
        "        \"\"\"Encodes a tree to a single string.\n",
        "\n",
        "        :type root: TreeNode\n",
        "        :rtype: str\n",
        "        \"\"\"\n",
        "        res = []\n",
        "\n",
        "        def dfs(node):\n",
        "            if not node:\n",
        "                res.append(\"N\")\n",
        "                return\n",
        "            res.append(str(node.val))\n",
        "            dfs(node.left)\n",
        "            dfs(node.right)\n",
        "        dfs(root)\n",
        "        return \",\".join(res)\n",
        "\n",
        "    def deserialize(self, data):\n",
        "        \"\"\"Decodes your encoded data to tree.\n",
        "\n",
        "        :type data: str\n",
        "        :rtype: TreeNode\n",
        "        \"\"\"\n",
        "        vals = data.split(\",\")\n",
        "        self.i = 0\n",
        "\n",
        "        def dfs():\n",
        "            if vals[self.i] == \"N\":\n",
        "                self.i += 1\n",
        "                return None\n",
        "            node = TreeNode(int(vals[self.i]))\n",
        "            self.i += 1\n",
        "            node.left = dfs()\n",
        "            node.right = dfs()\n",
        "            return node\n",
        "        return dfs()"
      ],
      "metadata": {
        "id": "VQw3LlOOQCHF"
      },
      "execution_count": null,
      "outputs": []
    },
    {
      "cell_type": "markdown",
      "source": [
        "## Graph"
      ],
      "metadata": {
        "id": "ygUeiuqmRFwy"
      }
    },
    {
      "cell_type": "markdown",
      "source": [
        "### [Clone Graph](https://leetcode.com/problems/clone-graph/description/)"
      ],
      "metadata": {
        "id": "T65ouHjGRH4A"
      }
    },
    {
      "cell_type": "code",
      "source": [
        "from typing import Optional\n",
        "class Solution:\n",
        "    def cloneGraph(self, node: Optional['Node']) -> Optional['Node']:\n",
        "        oldToNew = {}\n",
        "\n",
        "        def dfs(node):\n",
        "            if node in oldToNew:\n",
        "                return oldToNew[node]\n",
        "            copy = Node(node.val)\n",
        "            oldToNew[node] = copy\n",
        "\n",
        "            for nei in node.neighbors:\n",
        "                copy.neighbors.append(dfs(nei))\n",
        "            return copy\n",
        "\n",
        "        return dfs(node) if node else None"
      ],
      "metadata": {
        "id": "QmCXqp4CRHGE"
      },
      "execution_count": null,
      "outputs": []
    },
    {
      "cell_type": "markdown",
      "source": [
        "### [Course Schedule](https://leetcode.com/problems/course-schedule/description/)"
      ],
      "metadata": {
        "id": "nUufQlHPRXnd"
      }
    },
    {
      "cell_type": "code",
      "source": [
        "def canFinish(self, numCourses: int, prerequisites: List[List[int]]) -> bool:\n",
        "    preMap = {i: [] for i in range(numCourses)}\n",
        "\n",
        "    for crs, pre in prerequisites:\n",
        "        preMap[crs].append(pre)\n",
        "\n",
        "    visitSet = set()\n",
        "\n",
        "    def dfs(crs):\n",
        "        if crs in visitSet:\n",
        "            return False\n",
        "        if preMap[crs] == []:\n",
        "            return True\n",
        "        visitSet.add(crs)\n",
        "        for pre in preMap[crs]:\n",
        "            if not dfs(pre): return False\n",
        "        visitSet.remove(crs)\n",
        "        preMap[crs] = []\n",
        "        return True\n",
        "    for crs in range(numCourses):\n",
        "        if not dfs(crs): return False\n",
        "    return True"
      ],
      "metadata": {
        "id": "zbkGGSb9RaE5"
      },
      "execution_count": null,
      "outputs": []
    },
    {
      "cell_type": "markdown",
      "source": [
        "### [Is Graph Bipartite?](https://leetcode.com/problems/is-graph-bipartite/description/)"
      ],
      "metadata": {
        "id": "2K1YrwmsdHy-"
      }
    },
    {
      "cell_type": "code",
      "source": [
        "class Solution:\n",
        "    def isBipartite(self, graph: List[List[int]]) -> bool:\n",
        "        odd = [0] * len(graph)\n",
        "        def bfs(i):\n",
        "            if odd[i]:\n",
        "                return True\n",
        "            q = deque([i])\n",
        "            odd[i] = -1\n",
        "            while q:\n",
        "                i = q.popleft()\n",
        "                for nei in graph[i]:\n",
        "                    if odd[i] == odd[nei]:\n",
        "                        return False\n",
        "                    elif not odd[nei]:\n",
        "                        q.append(nei)\n",
        "                        odd [nei] = -1 * odd[i]\n",
        "            return True\n",
        "        for i in range(len(graph)):\n",
        "            if not bfs(i):\n",
        "                return False\n",
        "        return True"
      ],
      "metadata": {
        "id": "3vlqYk19dN-9"
      },
      "execution_count": null,
      "outputs": []
    },
    {
      "cell_type": "markdown",
      "source": [
        "### [Topological Sort]()"
      ],
      "metadata": {
        "id": "K9O8YbTIa3Vy"
      }
    },
    {
      "cell_type": "code",
      "source": [
        "def topologicalSortUtil(self, v, visited, stack):\n",
        "    visited.append(v)\n",
        "\n",
        "    for i in self.graph[v]:\n",
        "        if i not in visited:\n",
        "            self.topologicalSortUtil(i, visited, stack)\n",
        "\n",
        "    stack.insert(0, v)\n",
        "\n",
        "\n",
        "def topologicalSort(self):\n",
        "    visited = []\n",
        "    stack = []\n",
        "\n",
        "    for k in list(self.graph):\n",
        "        if k not in visited:\n",
        "            self.topologicalSortUtil(k, visited, stack)\n",
        "\n",
        "    print(stack)"
      ],
      "metadata": {
        "id": "l7oM-Sega7ip"
      },
      "execution_count": null,
      "outputs": []
    },
    {
      "cell_type": "markdown",
      "source": [
        "### MST Using Krushkal's Algo"
      ],
      "metadata": {
        "id": "_1KxTRcYJ0H-"
      }
    },
    {
      "cell_type": "code",
      "source": [
        "class DisjointSet:\n",
        "    def __init__(self, vertices):\n",
        "        self.vertices = vertices\n",
        "        self.parent = {}\n",
        "        for v in vertices:\n",
        "            self.parent[v] = v\n",
        "        self.rank = dict.fromkeys(vertices, 0)\n",
        "\n",
        "    def find(self, item):\n",
        "        if self.parent[item] == item:\n",
        "            return item\n",
        "        else:\n",
        "            return self.find(self.parent[item])\n",
        "\n",
        "    def union(self, x, y):\n",
        "        xroot = self.find(x)\n",
        "        yroot = self.find(y)\n",
        "        if self.rank[xroot] < self.rank[yroot]:\n",
        "            self.parent[xroot] = yroot\n",
        "        elif self.rank[xroot] > self.rank[yroot]:\n",
        "            self.parent[yroot] = xroot\n",
        "        else:\n",
        "            self.parent[yroot] = xroot\n",
        "            self.rank[xroot] += 1\n",
        "\n",
        "class Graph:\n",
        "    def __init__(self, vertices):\n",
        "        self.V = vertices\n",
        "        self.graph = []\n",
        "        self.nodes = []\n",
        "        self.MST = []\n",
        "\n",
        "    def addEdge(self, s, d, w):\n",
        "        self.graph.append([s, d, w])\n",
        "\n",
        "    def addNode(self, value):\n",
        "        self.nodes.append(value)\n",
        "\n",
        "    def printSolution(self, s, d, w):\n",
        "        for s, d, w in self.MST:\n",
        "            print(\"%s - %s: %s\" % (s, d, w))\n",
        "\n",
        "    def kruskalAlgo(self):\n",
        "        i, e = 0, 0\n",
        "        ds = dst.DisjointSet(self.nodes)\n",
        "        self.graph = sorted(self.graph, key = lambda item: item[2])\n",
        "        while e < self.V - 1:\n",
        "            s, d, w = self.graph[i]\n",
        "            i += 1\n",
        "            x = ds.find(s)\n",
        "            y = ds.find(d)\n",
        "            if x != y:\n",
        "                e += 1\n",
        "                self.MST.append([s, d, w])\n",
        "                ds.union(x, y)\n",
        "        self. printSolution(s, d, w)"
      ],
      "metadata": {
        "id": "GWKbx7Uia8bn"
      },
      "execution_count": null,
      "outputs": []
    },
    {
      "cell_type": "markdown",
      "source": [
        "### MST Using Prim's Algo"
      ],
      "metadata": {
        "id": "mnO4GXd4KHVU"
      }
    },
    {
      "cell_type": "code",
      "source": [
        "import sys\n",
        "class Graph:\n",
        "    def __init__(self, vertexNum, edges, nodes):\n",
        "        self.edges = edges\n",
        "        self.nodes = nodes\n",
        "        self.vertexNum = vertexNum\n",
        "        self.MST = []\n",
        "\n",
        "    def printSolution(self):\n",
        "        print(\"Edge : Weight\")\n",
        "        for s, d, w in self.MST:\n",
        "            print(\"%s -> %s: %s\" % (s, d, w))\n",
        "\n",
        "    def primsAlgo(self):\n",
        "        visited = [0]*self.vertexNum\n",
        "        edgeNum=0\n",
        "        visited[0]=True\n",
        "        while edgeNum<self.vertexNum-1:\n",
        "            min = sys.maxsize\n",
        "            for i in range(self.vertexNum):\n",
        "                if visited[i]:\n",
        "                    for j in range(self.vertexNum):\n",
        "                        if ((not visited[j]) and self.edges[i][j]):\n",
        "                            if min > self.edges[i][j]:\n",
        "                                min = self.edges[i][j]\n",
        "                                s = i\n",
        "                                d = j\n",
        "            self.MST.append([self.nodes[s], self.nodes[d], self.edges[s][d]])\n",
        "            visited[d] = True\n",
        "            edgeNum += 1\n",
        "        self.printSolution()"
      ],
      "metadata": {
        "id": "zyIVVPvMKJNs"
      },
      "execution_count": null,
      "outputs": []
    },
    {
      "cell_type": "markdown",
      "source": [
        "### Floyd Warshell Algorithm"
      ],
      "metadata": {
        "id": "jD2bmt4YKx3z"
      }
    },
    {
      "cell_type": "code",
      "source": [
        "INF = 9999\n",
        "\n",
        "def printSolution(nV, distance):\n",
        "    for i in range(nV):\n",
        "        for j in range(nV):\n",
        "            if (distance[i][j] == INF):\n",
        "                print(\"INF\", end = \" \")\n",
        "            else:\n",
        "                print(distance[i][j], end = \" \")\n",
        "\n",
        "        print(\" \")\n",
        "\n",
        "def floydWarshall(nV, G):\n",
        "    distance = G\n",
        "    for k in range(nV):\n",
        "        for i in range(nV):\n",
        "            for j in range(nV):\n",
        "                distance[i][j] = min(distance[i][j], distance[i][k] + distance[k][j])\n",
        "\n",
        "    printSolution(nV, distance)\n",
        "\n",
        "G = [[0, 8, INF,1],\n",
        "    [INF, 0, 1,INF],\n",
        "    [4, INF, 0,INF],\n",
        "    [INF, 2, 9,1]\n",
        "    ]\n",
        "\n",
        "floydWarshall(4, G)"
      ],
      "metadata": {
        "id": "AqnZxn_GK3jL"
      },
      "execution_count": null,
      "outputs": []
    },
    {
      "cell_type": "markdown",
      "source": [
        "### Bellman Ford Algorithm"
      ],
      "metadata": {
        "id": "R7rtUeoHwU2b"
      }
    },
    {
      "cell_type": "code",
      "source": [
        "class Graph:\n",
        "    def __init__(self, vertices):\n",
        "        self.v = vertices\n",
        "        self.graph = []\n",
        "        self.nodes = []\n",
        "\n",
        "    def add_edge(self, s, d, w):\n",
        "        self.graph.append([s, d, w])\n",
        "\n",
        "    def addNode(self, value):\n",
        "        self.nodes.append(value)\n",
        "\n",
        "    def print_solution(self, dist):\n",
        "        print(\"Vertex Distance from source\")\n",
        "        for key, value in dist.items():\n",
        "            print(' ' + key, ' :    ', value)\n",
        "\n",
        "    def bellmanFord(self, src):\n",
        "        dist = {i : float(\"Inf\") for i in self.nodes}\n",
        "\n",
        "        dist[src] = 0\n",
        "\n",
        "        for _ in range(self.v-1):\n",
        "            for s, d, w in self.graph:\n",
        "                if dist[s] != float(\"Inf\") and dist[s] + w < dist[d]:\n",
        "                    dist[d] = dist[s] + w\n",
        "\n",
        "        for s, d, w in self.graph:\n",
        "            if dist[s] != float(\"Inf\") and dist[s] + w < dist[d]:\n",
        "                print(\"Graph contains negative cycle\")\n",
        "                return\n",
        "        self.print_solution(dist)"
      ],
      "metadata": {
        "id": "MB5GMKrUwXtc"
      },
      "execution_count": null,
      "outputs": []
    },
    {
      "cell_type": "markdown",
      "source": [
        "### Dijkastra's Algorithm"
      ],
      "metadata": {
        "id": "zSmbT0aYw18o"
      }
    },
    {
      "cell_type": "code",
      "source": [
        "from collections import defaultdict\n",
        "\n",
        "class Graph:\n",
        "    def __init__(self):\n",
        "        self.nodes = set()\n",
        "        self.edges = defaultdict(list)\n",
        "        self.distances = {}\n",
        "\n",
        "    def addNode(self, value):\n",
        "        self.nodes.add(value)\n",
        "\n",
        "    def addEdge(self, fromNode, toNode, distance):\n",
        "        self.edges[fromNode].append(toNode)\n",
        "        self.distances[(fromNode, toNode)] = distance\n",
        "\n",
        "def dijkstra(graph, initial):\n",
        "    visited = {initial : 0}\n",
        "    path = defaultdict(list)\n",
        "\n",
        "    nodes = set(graph.nodes)\n",
        "\n",
        "    while nodes:\n",
        "        minNode = None\n",
        "        for node in nodes:\n",
        "            if node in visited:\n",
        "                if minNode is None:\n",
        "                    minNode = node\n",
        "                elif visited[node] < visited[minNode]:\n",
        "                    minNode = node\n",
        "        if minNode is None:\n",
        "            break\n",
        "\n",
        "        nodes.remove(minNode)\n",
        "        currentWeight = visited[minNode]\n",
        "\n",
        "        for edge in graph.edges[minNode]:\n",
        "            weight = currentWeight + graph.distances[(minNode, edge)]\n",
        "            if edge not in visited or weight < visited[edge]:\n",
        "                visited[edge] = weight\n",
        "                path[edge].append(minNode)\n",
        "\n",
        "    return visited, path"
      ],
      "metadata": {
        "id": "gs3Kceqpw7ri"
      },
      "execution_count": null,
      "outputs": []
    },
    {
      "cell_type": "markdown",
      "source": [
        "## Dynamic Programming"
      ],
      "metadata": {
        "id": "Qj-9Eu6-6iUc"
      }
    },
    {
      "cell_type": "markdown",
      "source": [
        "### [Maximum Product Subarray](https://leetcode.com/problems/maximum-product-subarray/description/)"
      ],
      "metadata": {
        "id": "ri1YjTZx6k_o"
      }
    },
    {
      "cell_type": "code",
      "source": [
        "class Solution:\n",
        "    def maxProduct(self, nums: List[int]) -> int:\n",
        "        res = max(nums)\n",
        "        curMin, curMax = 1, 1\n",
        "\n",
        "        for n in nums:\n",
        "            if n == 0:\n",
        "                curMin, curMax = 1, 1\n",
        "                continue\n",
        "            tmp = curMax * n\n",
        "            curMax = max(n * curMax, n * curMin, n)\n",
        "            curMin = min(tmp, n * curMin, n)\n",
        "            res = max(res, curMax)\n",
        "        return res"
      ],
      "metadata": {
        "id": "eZ3kGz5f6kUp"
      },
      "execution_count": null,
      "outputs": []
    },
    {
      "cell_type": "markdown",
      "source": [
        "### [Longest Common Subsequence](https://leetcode.com/problems/longest-common-subsequence/)"
      ],
      "metadata": {
        "id": "5ZVZ5K5bKIUM"
      }
    },
    {
      "cell_type": "code",
      "source": [
        "class Solution:\n",
        "    def longestCommonSubsequence(self, text1: str, text2: str) -> int:\n",
        "        dp = [[0 for j in range(len(text2) + 1)] for i in range(len(text1)+ 1)]\n",
        "\n",
        "        for i in range(len(text1) -1, -1, -1):\n",
        "            for j in range(len(text2) -1, -1, -1):\n",
        "                if text1[i] == text2[j]:\n",
        "                    dp[i][j] = 1 + dp[i + 1][j + 1]\n",
        "                else:\n",
        "                    dp[i][j] = max(dp[i][j+1], dp[i+ 1][j])\n",
        "\n",
        "        return dp[0][0]"
      ],
      "metadata": {
        "id": "d3B6E-mSKL-r"
      },
      "execution_count": null,
      "outputs": []
    },
    {
      "cell_type": "markdown",
      "source": [
        "### [Longest Increasing Subsequence](https://leetcode.com/problems/longest-increasing-subsequence/description/)"
      ],
      "metadata": {
        "id": "quoQBdeKV6qr"
      }
    },
    {
      "cell_type": "code",
      "source": [
        "class Solution:\n",
        "    def lengthOfLIS(self, nums: List[int]) -> int:\n",
        "        LIS = [1] * len(nums)\n",
        "\n",
        "        for i in range(len(nums)-1, -1, -1):\n",
        "            for j in range(i +1, len(nums)):\n",
        "                if nums[i] < nums[j]:\n",
        "                    LIS[i] = max(LIS[i], 1 + LIS[j])\n",
        "\n",
        "        return max(LIS)"
      ],
      "metadata": {
        "id": "4mV0rlFoWBOq"
      },
      "execution_count": null,
      "outputs": []
    },
    {
      "cell_type": "markdown",
      "source": [
        "### [Edit Distance](https://leetcode.com/problems/edit-distance/)"
      ],
      "metadata": {
        "id": "Nh9bbd1gVs-9"
      }
    },
    {
      "cell_type": "code",
      "source": [
        "class Solution:\n",
        "    def minDistance(self, word1: str, word2: str) -> int:\n",
        "        cache = [[float(\"inf\")] * (len(word2) + 1) for i in range(len(word1) + 1)]\n",
        "\n",
        "        for j in range(len(word2) + 1):\n",
        "            cache[len(word1)][j] = len(word2) - j\n",
        "        for i in range(len(word1) + 1):\n",
        "            cache[i][len(word2)] = len(word1) - i\n",
        "\n",
        "        for i in range(len(word1) -1, -1, -1):\n",
        "            for j in range(len(word2)-1, -1, -1):\n",
        "                if word1[i] == word2[j]:\n",
        "                    cache[i][j] = cache[i + 1][j + 1]\n",
        "                else:\n",
        "                    cache[i][j] = 1 + min(cache[i + 1][j], cache[i][j+1], cache[i+1][j+1])\n",
        "        return cache[0][0]"
      ],
      "metadata": {
        "id": "3lahGfyaVsTG"
      },
      "execution_count": null,
      "outputs": []
    },
    {
      "cell_type": "markdown",
      "source": [
        "### [Minimum Path Sum](https://leetcode.com/problems/minimum-path-sum/description/)"
      ],
      "metadata": {
        "id": "Zp-3lb-kyHHk"
      }
    },
    {
      "cell_type": "code",
      "source": [
        "class Solution:\n",
        "    def minPathSum(self, grid: List[List[int]]) -> int:\n",
        "        rows, cols = len(grid), len(grid[0])\n",
        "\n",
        "        res = [[float(\"inf\")] * (cols + 1) for r in range (rows + 1)]\n",
        "        res[rows-1][cols] = 0\n",
        "\n",
        "        for r in range(rows-1, -1, -1):\n",
        "            for c in range(cols-1, -1, -1):\n",
        "                res[r][c] = grid[r][c] + min(res[r+1][c], res[r][c+1])\n",
        "        return res[0][0]"
      ],
      "metadata": {
        "id": "M2jd0I7fyMme"
      },
      "execution_count": null,
      "outputs": []
    },
    {
      "cell_type": "markdown",
      "source": [
        "### [Partition Equal Subset Sum](https://leetcode.com/problems/partition-equal-subset-sum/description/)"
      ],
      "metadata": {
        "id": "XBJixU_s7K-a"
      }
    },
    {
      "cell_type": "code",
      "source": [
        "class Solution:\n",
        "    def canPartition(self, nums: List[int]) -> bool:\n",
        "        if sum(nums) % 2:\n",
        "            return False\n",
        "        dp = set()\n",
        "        dp.add(0)\n",
        "        target = sum(nums) // 2\n",
        "        for i in range(len(nums)- 1, -1, -1):\n",
        "            nextDP = set()\n",
        "            for t in dp:\n",
        "                nextDP.add(t + nums[i])\n",
        "                nextDP.add(t)\n",
        "            dp = nextDP\n",
        "        return True if target in dp else False"
      ],
      "metadata": {
        "id": "pVpTenEk7PsB"
      },
      "execution_count": null,
      "outputs": []
    },
    {
      "cell_type": "markdown",
      "source": [
        "### [Coin Change](https://leetcode.com/problems/coin-change/description/)"
      ],
      "metadata": {
        "id": "l2V6owUZ7oM9"
      }
    },
    {
      "cell_type": "code",
      "source": [
        "class Solution:\n",
        "    def coinChange(self, coins: List[int], amount: int) -> int:\n",
        "        dp = [amount + 1] * (amount+1)\n",
        "        dp[0] = 0\n",
        "\n",
        "        for a in range(1, amount+1):\n",
        "            for c in coins:\n",
        "                if a - c >= 0:\n",
        "                    dp[a] = min(dp[a], 1 + dp[a - c])\n",
        "\n",
        "        return dp[amount] if dp[amount] != amount + 1 else -1"
      ],
      "metadata": {
        "id": "9C1ZqhE07sF4"
      },
      "execution_count": null,
      "outputs": []
    },
    {
      "cell_type": "markdown",
      "source": [
        "### [Word Break](https://leetcode.com/problems/word-break/description/)"
      ],
      "metadata": {
        "id": "R-mzjmiX72qD"
      }
    },
    {
      "cell_type": "code",
      "source": [
        "class Solution:\n",
        "    def wordBreak(self, s: str, wordDict: List[str]) -> bool:\n",
        "        dp = [False] * (len(s) + 1)\n",
        "        dp[len(s)] = [True]\n",
        "\n",
        "        for i in range(len(s)-1, -1, -1):\n",
        "            for w in wordDict:\n",
        "                if (i + len(w) <= len(s)) and s[i: i + len(w)] == w:\n",
        "                    dp[i] = dp[i + len(w)]\n",
        "                if dp[i]:\n",
        "                    break\n",
        "        return dp[0]"
      ],
      "metadata": {
        "id": "f9DP7-xd76Nf"
      },
      "execution_count": null,
      "outputs": []
    },
    {
      "cell_type": "markdown",
      "source": [
        "### [Minimum Cost to Cut a Stick](https://leetcode.com/problems/minimum-cost-to-cut-a-stick/description/)"
      ],
      "metadata": {
        "id": "DIr6cO0J9F0i"
      }
    },
    {
      "cell_type": "code",
      "source": [
        "from functools import cache\n",
        "\n",
        "class Solution:\n",
        "    def minCost(self, n: int, cuts: List[int]) -> int:\n",
        "        cuts.sort()\n",
        "\n",
        "        @cache\n",
        "        def dp(a, b, i, j):\n",
        "            if i == j:\n",
        "                return 0\n",
        "\n",
        "            return min(\n",
        "                dp(a, cuts[k], i, k) + dp(cuts[k], b, k + 1, j)\n",
        "                for k in range(i, j)\n",
        "            ) + b - a\n",
        "\n",
        "        return dp(0, n, 0, len(cuts))"
      ],
      "metadata": {
        "id": "xecX5nS89KWB"
      },
      "execution_count": null,
      "outputs": []
    }
  ]
}