{
 "cells": [
  {
   "cell_type": "markdown",
   "metadata": {},
   "source": [
    "### Python data structure Tutorial\n",
    "\n",
    "This is to make a tutorial about data structure in python, what is **data structure**?  In fact we could store the data in computer, and retrieve the data from the computer, but how to store it and how to get the data from the computer more efficient is the main goal of data structure, in fact, whithen different programming language, the data structure is almost same with each other, the most common data structure for python is: `List`, `Array`, `Linked List`, `Doubly Linked List`, `Queue`, `Stack`, `Binary Tree`, `Graph` ... And there are also some common structure, we will make this one by one... "
   ]
  },
  {
   "cell_type": "markdown",
   "metadata": {},
   "source": [
    "### List\n",
    "Using python, the most basic data structure is List, list could contain any data types data in the list, even with different data type in same list. for list, we could do many things like: \n",
    "\n",
    "1. append variable to list; \n",
    "2. detele variable; \n",
    "3. insert variable; \n",
    "4. get the variable index \n",
    "5. .....\n",
    "\n",
    "we could do many things using `list`, I really recommend you should read the web: [more on list](https://docs.python.org/3.6/tutorial/datastructures.html). The whole web I really recommend to read(Won't take too much time)!!!"
   ]
  },
  {
   "cell_type": "code",
   "execution_count": 1,
   "metadata": {
    "code_folding": []
   },
   "outputs": [
    {
     "name": "stdout",
     "output_type": "stream",
     "text": [
      "now list:  [1, 2, {'a': 1}]\n",
      "Insert string:  ['first position', 1, 2, {'a': 1}]\n",
      "remove variable :  ['first position', 2, {'a': 1}]\n",
      "index variable in the list:  1\n"
     ]
    }
   ],
   "source": [
    "data_list = [1,2]\n",
    "\n",
    "data_list.append({'a':1})  # we could append another data structure\n",
    "print('now list: ', data_list)\n",
    "\n",
    "data_list.insert(0, 'first position')   # insert string in the first position\n",
    "print('Insert string: ', data_list)\n",
    "\n",
    "data_list.remove(1)    # we could remove the data from the list\n",
    "print('remove variable : ', data_list)\n",
    "\n",
    "print('index variable in the list: ', data_list.index(2))    # get the position of the list, if not exits, raise error\n"
   ]
  },
  {
   "cell_type": "markdown",
   "metadata": {},
   "source": [
    "### Array\n",
    "\n",
    "During our coding step, we use array many many times, we would use `numpy.ndarray` to process the array as `numpy` has make array more efficient. \n",
    "\n",
    "The difference between `array` and `list` is that `list` could be changed like `append`, but `array` couldn't be changed like list easy, in fact we could change array. I will show you. And the array could just save the object with **same data types**!!! `list` could save many data types.\n",
    "\n",
    "`numpy.ndarray` has many properties, during the working time, we could learn it during the work time.\n",
    "\n",
    "Final words for `array` and `list`: if we dive deep into the difference between array and list is that for `list` data dosen't need to occupy the whole memory in computer, it just use a pointer to the object in the computer, but `array` will occupy continous memory in computer, so that's why array is more efficient and fast than list, but the main drawback is it must with same data type in array!!!"
   ]
  },
  {
   "cell_type": "code",
   "execution_count": 6,
   "metadata": {},
   "outputs": [
    {
     "name": "stdout",
     "output_type": "stream",
     "text": [
      "Type: <class 'numpy.ndarray'>\n",
      "Data type in data:  float64\n",
      "Change the data wouldn't affect original\n",
      "first row first col:  10.0\n"
     ]
    }
   ],
   "source": [
    "import numpy as np\n",
    "\n",
    "data_array = np.random.randn(3, 3)\n",
    "\n",
    "print(\"Type:\", type(data_array))\n",
    "\n",
    "print(\"Data type in data: \", data_array.dtype)   # here is float64 data type\n",
    "\n",
    "print(\"Change the data wouldn't affect original\")\n",
    "data_array[0, 0] = 10\n",
    "print('first row first col: ', data_array[0, 0])"
   ]
  },
  {
   "cell_type": "markdown",
   "metadata": {},
   "source": [
    "### Queue\n",
    "\n",
    "What is `Queue` data structure? `queue` is more efficient to get the first value in list, the most important thing you should remember is that `Queue` is **First in First out(FIFO)**! what's that? Supporse you line a line to buy something, you come first, then you should buy things first and after you pay, then you could go first, that's first in first out! If you still have questions about this, you could ask me~~~\n",
    "\n",
    "Here I will implement a class to instance the `Queue` object, so that we could use is to store data."
   ]
  },
  {
   "cell_type": "code",
   "execution_count": 2,
   "metadata": {},
   "outputs": [
    {
     "name": "stdout",
     "output_type": "stream",
     "text": [
      "Get list:  [0, 1, 2]\n",
      "Get list:  [1, 2]\n",
      "Find: 0\n"
     ]
    }
   ],
   "source": [
    "# in fact, we could use 'collections.deque' to implement this, but I just use list to show you the logic for us \n",
    "# to implement the logic we want to do! This step could be used in any senario\n",
    "\n",
    "class Queue(object):\n",
    "    def __init__(self):\n",
    "        self.head = []\n",
    "    \n",
    "    def push(self, value):\n",
    "        # push variable to the last position, could just use append\n",
    "        self.head.append(value)\n",
    "    \n",
    "    def pop(self):\n",
    "        # remove the first position value, just remove the variable\n",
    "        del self.head[0]\n",
    "        \n",
    "    def remove(self, value):\n",
    "        if value not in self.head:\n",
    "            raise ValueError(\"Value %d not in the list!\" % value)\n",
    "        self.head.remove(value)\n",
    "            \n",
    "    def find(self, value):\n",
    "        if value not in self.head:\n",
    "            raise ValueError(\"Value %d not in the list \"% value)\n",
    "        return self.head.index(value)\n",
    "    \n",
    "    def detele(self):\n",
    "        self.head = None\n",
    "    \n",
    "    def revsers(self):\n",
    "        self.head = list(reversed(self.head))\n",
    "    \n",
    "    def print_var(self):\n",
    "        print('Get list: ', self.head)\n",
    "        \n",
    "q = Queue()\n",
    "q.push(0)\n",
    "q.push(1)\n",
    "q.push(2)\n",
    "q.print_var()\n",
    "\n",
    "q.pop()\n",
    "q.print_var()\n",
    "\n",
    "print('Find:' , q.find(1))"
   ]
  },
  {
   "cell_type": "markdown",
   "metadata": {},
   "source": [
    "### Stack\n",
    "\n",
    "`Stack` is really similiar with `Queue`, the only difference is `Stack` is computed with **Last in First out(LIFO)**, that means the last person will go out first. so it's really alike `Queue`.\n",
    "We could just use the `List` to implement the `Stack`."
   ]
  },
  {
   "cell_type": "code",
   "execution_count": 5,
   "metadata": {},
   "outputs": [
    {
     "name": "stdout",
     "output_type": "stream",
     "text": [
      "Get list: [0, 1, 2, 3]\n",
      "Get list: [0, 1, 2]\n",
      "Get list: [2, 1, 0]\n",
      "Find : 2\n",
      "Get list: [2, 1]\n",
      "Get list: None\n"
     ]
    }
   ],
   "source": [
    "class Stack(object):\n",
    "    def __init__(self):\n",
    "        self.head = []\n",
    "        \n",
    "    def push(self, value):\n",
    "        # add variable to the list\n",
    "        self.head.append(value)\n",
    "\n",
    "    def pop(self):\n",
    "        # remove the last variable in the list\n",
    "        return self.head.pop()\n",
    "    \n",
    "    def remove(self, value):\n",
    "        if value not in self.head:\n",
    "            raise ValueError(\"Value %d not in list!\" % value)\n",
    "        self.head.remove(value)\n",
    "        \n",
    "    def find(self, value):\n",
    "        if value not in self.head:\n",
    "            raise ValueError(\"Value %d not in list!\" % value)\n",
    "        return self.head.index(value)\n",
    "    \n",
    "    def delete(self):\n",
    "        self.head = None\n",
    "    \n",
    "    def reverse(self):\n",
    "        self.head = list(reversed(self.head))\n",
    "        \n",
    "    def print_var(self):\n",
    "        print('Get list:', self.head)\n",
    "        \n",
    "\n",
    "s = Stack()\n",
    "s.push(0)\n",
    "s.push(1)\n",
    "s.push(2)\n",
    "s.push(3)\n",
    "s.print_var()\n",
    "\n",
    "s.pop()\n",
    "s.print_var()\n",
    "\n",
    "s.reverse()\n",
    "s.print_var()\n",
    "\n",
    "print('Find :', s.find(0))\n",
    "\n",
    "s.remove(0)\n",
    "s.print_var()\n",
    "\n",
    "s.delete()   # nothing in the list, will return None\n",
    "s.print_var()"
   ]
  },
  {
   "cell_type": "markdown",
   "metadata": {},
   "source": [
    "### Linked List\n",
    "\n",
    "The `Linked List` is also a linear structure that don't use the `list` to implement, we could store the data in a node object(two parts: value and next pointer). `Linked List` will sequence the node with pointer between each node object, you should really take this web as reference: [Linked List](https://www.javatpoint.com/singly-linked-list). \n",
    "You would wonder why we should use `Linked List`? the reason is that the `Linked List` just use a pointer to connect with next variable, so it's really space efficient(don't need a continous memory in computer.)\n",
    "If you still don't understand this, you could just reach me~"
   ]
  },
  {
   "cell_type": "code",
   "execution_count": 35,
   "metadata": {},
   "outputs": [
    {
     "name": "stdout",
     "output_type": "stream",
     "text": [
      "Get value list: [-1, 100, 0, 1, 2]\n",
      "find: 2\n",
      "Get value list: [100, 0, 1, 2]\n"
     ]
    }
   ],
   "source": [
    "# first make a class to init Node to store the varaibles.\n",
    "class Node(object):\n",
    "    def __init__(self, value):\n",
    "        self.value = value\n",
    "        self.next = None\n",
    "\n",
    "\n",
    "# class object\n",
    "class LinkedList(object):\n",
    "    # first thing to init the object\n",
    "    def __init__(self):\n",
    "        self.head = None\n",
    "    \n",
    "    # we could push variable in the list in last position\n",
    "    def push(self, value):\n",
    "        # if the head is None, we should init with Node\n",
    "        if self.head is None:\n",
    "            self.head = Node(value)\n",
    "        else:\n",
    "            # make another object to get the head node\n",
    "            node = self.head\n",
    "            # to get the next node util we don't have the node object\n",
    "            while node.next is not None:\n",
    "                node = node.next\n",
    "            node.next = Node(value)\n",
    "            \n",
    "    # remove the first value from the list with first position\n",
    "    def pop(self):\n",
    "        remove_node = self.head\n",
    "        # change \n",
    "        self.head = self.head.next\n",
    "        return remove_node\n",
    "    \n",
    "    # find value in the list with the position!\n",
    "    def find(self, value):\n",
    "        if self.head is None:\n",
    "            # if nothing in the list, we will raise error\n",
    "            raise ValueError(\"Nothing in the list!\")\n",
    "        else:\n",
    "            curr_step = 0\n",
    "            node = self.head\n",
    "            if node.value == value:\n",
    "                # if the head value == value, then just return 0\n",
    "                return curr_step\n",
    "            else:\n",
    "                # continue to find the node to find whether the node's value == wantted value\n",
    "                while node.next is not None:\n",
    "                    curr_step += 1\n",
    "                    if node.next.value == value:\n",
    "                        return curr_step\n",
    "                    else:\n",
    "                        # next value not equal with wanted value, just change current node with next node\n",
    "                        node = node.next\n",
    "                # if the whole linked list end, doesn't find the value!\n",
    "                raise ValueError(\"Value %d not in the list!\" % value)\n",
    "    \n",
    "    def remove(self, value):\n",
    "        # remove the value from the linked list\n",
    "        if self.head is None:\n",
    "            raise ValueError(\"Nothing in the list!\")\n",
    "        else:\n",
    "            # just check the next node exist or not, just check with current node value\n",
    "            node = self.head\n",
    "            # if the head value == value\n",
    "            if node.value == value:\n",
    "                if node.next is None:\n",
    "                    # just one node in the list\n",
    "                    self.head = None\n",
    "                else:\n",
    "                    # change the head pointer to next node\n",
    "                    self.head = node.next  \n",
    "            else:\n",
    "                # not only just one node\n",
    "                while node.next is not None:\n",
    "                   # we couldn't find the value with current node, we have to compare with next node\n",
    "                   # as we need to the point to next node, couldn't move the current pointer\n",
    "                    # here we should first check with head node\n",
    "                    if node.next.value == value:\n",
    "                        # if next value == value, we could just move next pointer to next.next node\n",
    "                        if node.next.next is None:\n",
    "                            # if next.next node is None\n",
    "                            node.next = None\n",
    "                        else:\n",
    "                            # just change the poiner\n",
    "                            node.next = node.next.next\n",
    "                        return self\n",
    "                    else:\n",
    "                        # next node value != value, just change the node to next node\n",
    "                        node = node.next\n",
    "                if node.value == value:\n",
    "                    # if the last node value == value\n",
    "                    node = None\n",
    "                else:\n",
    "                    # if the whole list doesn't contain the value, then raise error\n",
    "                    raise ValueError(\"Value %d not in the list!\" % value)\n",
    "                \n",
    "    def insert(self, value, position=-1):\n",
    "        # we could insert a node in any position we want\n",
    "        if position < -1:\n",
    "            position = -1 \n",
    "            \n",
    "        if self.head is None:\n",
    "            self.head = Node(value)\n",
    "        else:\n",
    "            node = self.head\n",
    "            if position == -1:\n",
    "                # means to add node in the last\n",
    "                while node.next is not None:\n",
    "                    node = node.next\n",
    "                # get to the end of the list\n",
    "                node.next = Node(value)\n",
    "            elif position == 0:\n",
    "                # means to insert to the first position\n",
    "                org_head = node\n",
    "                self.head = Node(value)   # create a new head\n",
    "                self.head.next = org_head   # add the head next node as original head\n",
    "            else:\n",
    "                # insert into any position\n",
    "                curr_step = 0\n",
    "                while node.next is not None and curr_step < position - 1:\n",
    "                    curr_step += 1\n",
    "                    node = node.next\n",
    "                if node.next is None:\n",
    "                    # next node is none, then just add another node in the list\n",
    "                    node.next = Node(value)\n",
    "                else:\n",
    "                    next_node = node.next\n",
    "                    node.next = Node(value)   # current node.next change to a new\n",
    "                    node.next.next = next_node   # pointer to the original next node\n",
    "        return self\n",
    "\n",
    "    def print_var(self):\n",
    "        if self.head is None:\n",
    "            print(\"Nothing in the list!\")\n",
    "        else:\n",
    "            node = self.head\n",
    "            res = [node.value]\n",
    "            while node.next is not None:\n",
    "                node = node.next\n",
    "                res.append(node.value)\n",
    "            print(\"Get value list:\", res)\n",
    "            \n",
    "\n",
    "#### In fact I could make the more complix implement for the linked list, but here I don't make it more\n",
    "# but we have create the class, here we should check the class logic could run correct!\n",
    "\n",
    "ll = LinkedList()\n",
    "ll.push(0)\n",
    "ll.push(1)\n",
    "\n",
    "ll.insert(2, -1)\n",
    "ll.insert(-1, 0)\n",
    "ll.insert(100, 1)\n",
    "ll.print_var()\n",
    "\n",
    "print('find:', ll.find(0))\n",
    "\n",
    "ll.remove(-1)\n",
    "ll.print_var()                "
   ]
  },
  {
   "cell_type": "markdown",
   "metadata": {},
   "source": [
    "### Doubly Linked List\n",
    "\n",
    "For the `Doubly Linked List` is really similiar to `Linked List`, the only difference is that for `Linked List` data is connected with directional pointer to next node, but for `Doubly Linked List` it has two pointer link, one for next node and one for previous node, You could reference this link for more explain: [Doubly linked list](https://www.javatpoint.com/doubly-linked-list).\n",
    "\n",
    "You would wonder what is pointer? In fact, you store something in computer, computer would store the data in memory, but how could the computer know where the data is? This is the pointer means, you could think data is stored in computer and there is also a value to stroe the position where is data.\n",
    "For using python, I could make some sample code to show you how the pointer means in python, really easy."
   ]
  },
  {
   "cell_type": "code",
   "execution_count": 40,
   "metadata": {},
   "outputs": [
    {
     "name": "stdout",
     "output_type": "stream",
     "text": [
      "The pointer to data is:  2884788420360\n",
      "data2 pointer:  2884788420552\n",
      "different data with different pointer, are they same?  False\n",
      "just use pointer to point to the original data, not to create a new one, should with same pointer: True\n",
      "Even with same value and type, but this just create a new one, so pointer is different: False\n"
     ]
    }
   ],
   "source": [
    "data = [1, 2] \n",
    "# data is list, just use id() could find the data\n",
    "print(\"The pointer to data is: \", id(data))\n",
    "\n",
    "data2 = [1, 2, 3]\n",
    "print(\"data2 pointer: \",  id(data2))\n",
    "print(\"different data with different pointer, are they same? \", id(data) == id(data2))\n",
    "\n",
    "data3 = data\n",
    "print(\"just use pointer to point to the original data, not to create a new one, should with same pointer:\", id(data3) == id(data))\n",
    "\n",
    "data4 = [1, 2]\n",
    "print(\"Even with same value and type, but this just create a new one, so pointer is different:\", id(data) == id(data4))"
   ]
  },
  {
   "cell_type": "markdown",
   "metadata": {},
   "source": [
    "### Tree\n",
    "\n",
    "For `Tree` data structure, this is different with the above data structures as `Tree` is a non-linear data structure and use many times in production, machine learning algorithm `Decision Tree` is also a tree structure.\n",
    "But how do use use `Tree` to store data? The first thing you should know is that for `Tree` contains tree parts: **root, node and leaf**, **root** is the stamp for first store data, **node** is for compare the new data to go to which direction? **leaf** is just the final store data, so the main part is the **node** part to find how to direct the data to go,  you should reference this link for general highlight [Tree data structure](https://www.javatpoint.com/tree)."
   ]
  },
  {
   "cell_type": "markdown",
   "metadata": {},
   "source": [
    "### Last Tips\n",
    "\n",
    "In fact, I could write the whole data structure implement using python code, but as I write `Linked List` data structure, then I feel that I shouldn't write so many implement code, the most important is the core idea of how these data structure works! You would also wonder is these data structures used many times in real work? I have to admit that in fact not, as these algorithms and data structures have been implemented the various modules, but why should we learn this?\n",
    "\n",
    "As I have learned that for Big company like Google, Facebook or Microsoft, what they would like to get from us during the interview is all about data structures, nothing about what you have done or what you have learned, ***but*** China company just want to interveiw what you have done and what you could do!\n",
    "\n",
    "So this is the reason there will be final practice for machine learning models parts! I really recommend that you should learn these data structures during your daily work! if you have any problems about these, you could just reach me! I will make you as clear as possible!!!"
   ]
  },
  {
   "cell_type": "code",
   "execution_count": null,
   "metadata": {},
   "outputs": [],
   "source": []
  }
 ],
 "metadata": {
  "kernelspec": {
   "display_name": "Python 3",
   "language": "python",
   "name": "python3"
  },
  "language_info": {
   "codemirror_mode": {
    "name": "ipython",
    "version": 3
   },
   "file_extension": ".py",
   "mimetype": "text/x-python",
   "name": "python",
   "nbconvert_exporter": "python",
   "pygments_lexer": "ipython3",
   "version": "3.6.5"
  }
 },
 "nbformat": 4,
 "nbformat_minor": 2
}
