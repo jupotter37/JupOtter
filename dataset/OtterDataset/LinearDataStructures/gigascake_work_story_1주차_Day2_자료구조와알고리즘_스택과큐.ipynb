{
 "cells": [
  {
   "cell_type": "markdown",
   "id": "88faa0ff",
   "metadata": {},
   "source": [
    "## 11강. 스택(Stack)"
   ]
  },
  {
   "cell_type": "markdown",
   "id": "f253678e",
   "metadata": {},
   "source": [
    "#### (A + B) * (C + D)\n",
    "#### 스택 AB+CD+*\n",
    "\n",
    "#### A*(B-(C+D))\n",
    "#### ABCD+-*\n",
    "\n"
   ]
  },
  {
   "cell_type": "code",
   "execution_count": 1,
   "id": "6ead8cce",
   "metadata": {},
   "outputs": [
    {
     "data": {
      "text/plain": [
       "'\\n(12) 중위표현 수식 --> 후위표현 수식\\n문제 설명\\n중위 표기법을 따르는 수식 S 가 인자로 주어질 때, 이 수식을 후위 표기법을 따르는 수식으로 변환하여 반환하는 함수 solution() 을 완성하세요.\\n\\n인자로 주어지는 수식 문자열 S 는 영문 대문자 알파벳 한 글자로 이루어지는 변수 A - Z 까지와 4칙연산을 나타내는 연산자 기호 +, -, *, /, 그리고 여는 괄호와 닫는 괄호 (, ) 로 이루어져 있으며 공백 문자는 포함하지 않는 것으로 가정합니다. 또한, 올바르게 구성되지 않은 수식은 인자로 주어지지 않는다고 가정합니다. (수식의 유효성은 검증할 필요가 없습니다.)\\n\\n문제에서 미리 주어진, 연산자의 우선순위를 표현한 python dict 인 prec 을 활용할 수 있습니다.\\n\\n또한, 스택의 기초 강의에서 이미 구현한, 배열을 이용한 스택의 추상적 자료 구조 코드가 이미 포함되어 있으므로 그대로 이용할 수 있습니다.\\n\\n(참고) 테스트 케이스를 보완하여 문제가 2019년 9월 24일에 수정되었습니다.\\n(추가 참고) 테스트 케이스를 또 보완하여 문제가 2021년 7월 21일에 수정되었습니다. 추가된 테스트 케이스들은 9번부터 12번까지입니다. 관련하여 질문과 답변 (https://programmers.co.kr/questions/19360) 을 참고할 수 있습니다.\\n'"
      ]
     },
     "execution_count": 1,
     "metadata": {},
     "output_type": "execute_result"
    }
   ],
   "source": [
    "'''\n",
    "(12) 중위표현 수식 --> 후위표현 수식\n",
    "문제 설명\n",
    "중위 표기법을 따르는 수식 S 가 인자로 주어질 때, 이 수식을 후위 표기법을 따르는 수식으로 변환하여 반환하는 함수 solution() 을 완성하세요.\n",
    "\n",
    "인자로 주어지는 수식 문자열 S 는 영문 대문자 알파벳 한 글자로 이루어지는 변수 A - Z 까지와 4칙연산을 나타내는 연산자 기호 +, -, *, /, 그리고 여는 괄호와 닫는 괄호 (, ) 로 이루어져 있으며 공백 문자는 포함하지 않는 것으로 가정합니다. 또한, 올바르게 구성되지 않은 수식은 인자로 주어지지 않는다고 가정합니다. (수식의 유효성은 검증할 필요가 없습니다.)\n",
    "\n",
    "문제에서 미리 주어진, 연산자의 우선순위를 표현한 python dict 인 prec 을 활용할 수 있습니다.\n",
    "\n",
    "또한, 스택의 기초 강의에서 이미 구현한, 배열을 이용한 스택의 추상적 자료 구조 코드가 이미 포함되어 있으므로 그대로 이용할 수 있습니다.\n",
    "\n",
    "(참고) 테스트 케이스를 보완하여 문제가 2019년 9월 24일에 수정되었습니다.\n",
    "(추가 참고) 테스트 케이스를 또 보완하여 문제가 2021년 7월 21일에 수정되었습니다. 추가된 테스트 케이스들은 9번부터 12번까지입니다. 관련하여 질문과 답변 (https://programmers.co.kr/questions/19360) 을 참고할 수 있습니다.\n",
    "'''"
   ]
  },
  {
   "cell_type": "code",
   "execution_count": 1,
   "id": "40a6f01f",
   "metadata": {},
   "outputs": [],
   "source": [
    "class ArrayStack:\n",
    "\n",
    "    def __init__(self):\n",
    "        self.data = []\n",
    "\n",
    "    def size(self):\n",
    "        return len(self.data)\n",
    "\n",
    "    def isEmpty(self):\n",
    "        return self.size() == 0\n",
    "\n",
    "    def push(self, item):\n",
    "        self.data.append(item)\n",
    "\n",
    "    def pop(self):\n",
    "        return self.data.pop()\n",
    "\n",
    "    def peek(self):\n",
    "        return self.data[-1]\n",
    "\n",
    "prec = {\n",
    "    '*': 3, '/': 3,\n",
    "    '+': 2, '-': 2,\n",
    "    '(': 1\n",
    "}"
   ]
  },
  {
   "cell_type": "code",
   "execution_count": 2,
   "id": "d245bfc0",
   "metadata": {},
   "outputs": [],
   "source": [
    "def solution2(S):\n",
    "    opStack = ArrayStack()\n",
    "    answer = ''\n",
    "    for item in S:        \n",
    "        ## 여는 괄호는 스택에 push\n",
    "        ## 닫는 괄호를 만나면 여는 괄호가 나올때까지 pop\n",
    "        ## 연산자를 만났을때, 여는 괄호 너머까지 pop하지 않도록\n",
    "        ## 여는 괄호의 우선순위는 가장 낮게 설정.\n",
    "        if item not in prec:\n",
    "            if item == ')':\n",
    "                if opStack.peek() != '(':\n",
    "                    answer += opStack.pop()\n",
    "            else:\n",
    "                answer += item\n",
    "        else:            \n",
    "            #if item != '(':\n",
    "            if opStack.isEmpty() == False and prec.get(opStack.peek()) > prec.get(item):\n",
    "#             print(prec.get(opStack.peek()))\n",
    "#             print(prec.get(item))        \n",
    "                #if item != ')' or :\n",
    "                answer += opStack.pop()\n",
    "                opStack.push(item)\n",
    "            else:\n",
    "                \n",
    "                opStack.push(item)\n",
    "            \n",
    "        ### prec 우선순위가 stack에 저장된 연산자가 높을경우에 stack에서 pop()\n",
    "        ### 하고 낮은 연산자를 stack에 넣는다.\n",
    "        \n",
    "        #print(item)\n",
    "#         if opStack.isEmpty() == False:\n",
    "#             print(prec.get(opStack.peek()))\n",
    "#             print(prec.get(item))\n",
    "#         if opStack.isEmpty() == False and prec.get(opStack.peek()) > prec.get(item):\n",
    "#             print(prec.get(opStack.peek()))\n",
    "#             print(prec.get(item))\n",
    "#             answer += opStack.pop()\n",
    "#             opStack.push(item)\n",
    "        #elif :\n",
    "            \n",
    "        \n",
    "            \n",
    "        #    answer += opStack.pop()\n",
    "        #elif item = ')':\n",
    "        #    answer += opStack.pop() + i\n",
    "    #if opStack.isEmpty() == False:\n",
    "    #    answer += opStack.pop()\n",
    "    print(opStack.data)\n",
    "    return answer"
   ]
  },
  {
   "cell_type": "code",
   "execution_count": 5,
   "id": "258e4e44",
   "metadata": {},
   "outputs": [],
   "source": [
    "## 알고리즘의 설계\n",
    "## 중위표현식을 왼쪽부터 한 글자씩 읽어서\n",
    "## 피연산자이면 그냥 출력\n",
    "## '('이면 스택에 push\n",
    "## ')'이면 '('이 나올때까지 스택에서 pop 출력\n",
    "def solution3(S):\n",
    "    opStack = ArrayStack()\n",
    "    answer = ''\n",
    "    check_start_grap = False\n",
    "    for item in S:\n",
    "        \n",
    "        ## 피연산자 이면서 '('이면, \n",
    "        if item not in prec:\n",
    "            if item != ')':\n",
    "                answer += item\n",
    "            else:\n",
    "                if opStack.isEmpty() == False and item == ')':\n",
    "                    while opStack.peek() != '(':                    \n",
    "                        answer += opStack.pop()\n",
    "                if opStack.peek() == '(':\n",
    "                    check_start_grap = False\n",
    "                    opStack.pop()\n",
    "        ## 피연산자가 아니면,\n",
    "        else:\n",
    "            print('xxx:{}',item)\n",
    "            if item == '(':\n",
    "                check_start_grap = True\n",
    "            \n",
    "            if opStack.isEmpty() == False and prec.get(opStack.peek()) > prec.get(item) and check_start_grap == False:\n",
    "                print(prec.get(opStack.peek()))\n",
    "                print(prec.get(item))\n",
    "                answer += opStack.pop()\n",
    "                opStack.push(item)\n",
    "            elif opStack.isEmpty() == False and prec.get(opStack.peek()) == prec.get(item) and check_start_grap == False:\n",
    "                answer += opStack.pop()\n",
    "                opStack.push(item)\n",
    "            else:\n",
    "                opStack.push(item)\n",
    "        print(opStack.data)\n",
    "        print(answer)\n",
    "    while opStack.isEmpty() == False:                    \n",
    "        answer += opStack.pop()\n",
    "    return answer"
   ]
  },
  {
   "cell_type": "code",
   "execution_count": 19,
   "id": "6f750f79",
   "metadata": {},
   "outputs": [],
   "source": [
    "## 알고리즘의 설계\n",
    "## 중위표현식을 왼쪽부터 한 글자씩 읽어서\n",
    "## 피연산자이면 그냥 출력\n",
    "## '('이면 스택에 push\n",
    "## ')'이면 '('이 나올때까지 스택에서 pop 출력\n",
    "def solution(S):\n",
    "    opStack = ArrayStack()\n",
    "    answer = ''\n",
    "    for item in S:\n",
    "        \n",
    "        ## 피연산자 이면서 '('이면, \n",
    "        if item not in prec:\n",
    "            if item != ')':\n",
    "                answer += item\n",
    "            else:\n",
    "                if opStack.isEmpty() == False and item == ')':\n",
    "                    while opStack.peek() != '(':                    \n",
    "                        answer += opStack.pop()\n",
    "                if opStack.peek() == '(':\n",
    "                    opStack.pop()\n",
    "        ## 피연산자가 아니면(연산자이면),\n",
    "        else:\n",
    "#            print('item :',item)\n",
    "            # 스택이 비어있을 경우 스택에 push\n",
    "            if opStack.isEmpty():\n",
    "                opStack.push(item)\n",
    "                \n",
    "            # 스택이 비어있지 않다면 비교\n",
    "            else:\n",
    "                \n",
    "                # 스택에 값이 존재할 동안에 반복\n",
    "                while opStack.size() > 0:\n",
    "                    # 우선 순위가 스택안에 있는게 높으면 꺼낸다\n",
    "                    if item != '(' and prec[opStack.peek()] >= prec[item]:\n",
    "                        answer += opStack.pop()\n",
    "                    else:\n",
    "                        break\n",
    "                \n",
    "                opStack.push(item)\n",
    "                \n",
    "#        print('opStack.data :',opStack.data)\n",
    "#        print('answer :', answer)\n",
    "    while opStack.isEmpty() == False:                    \n",
    "        answer += opStack.pop()\n",
    "    return answer"
   ]
  },
  {
   "cell_type": "code",
   "execution_count": 20,
   "id": "6ccacb51",
   "metadata": {},
   "outputs": [
    {
     "name": "stdout",
     "output_type": "stream",
     "text": [
      "item : (\n",
      "opStack.data : ['(']\n",
      "answer : \n",
      "opStack.data : ['(']\n",
      "answer : A\n",
      "item : +\n",
      "opStack.data : ['(', '+']\n",
      "answer : A\n",
      "opStack.data : ['(', '+']\n",
      "answer : AB\n",
      "opStack.data : []\n",
      "answer : AB+\n",
      "item : *\n",
      "opStack.data : ['*']\n",
      "answer : AB+\n",
      "item : (\n",
      "opStack.data : ['*', '(']\n",
      "answer : AB+\n",
      "opStack.data : ['*', '(']\n",
      "answer : AB+C\n",
      "item : +\n",
      "opStack.data : ['*', '(', '+']\n",
      "answer : AB+C\n",
      "opStack.data : ['*', '(', '+']\n",
      "answer : AB+CD\n",
      "opStack.data : ['*']\n",
      "answer : AB+CD+\n"
     ]
    },
    {
     "data": {
      "text/plain": [
       "'AB+CD+*'"
      ]
     },
     "execution_count": 20,
     "metadata": {},
     "output_type": "execute_result"
    }
   ],
   "source": [
    "S = \"(A+B)*(C+D)\"\n",
    "result = \"AB+CD+*\"\n",
    "solution(S)"
   ]
  },
  {
   "cell_type": "code",
   "execution_count": null,
   "id": "7acb2adf",
   "metadata": {},
   "outputs": [],
   "source": [
    "prec.get('*')"
   ]
  },
  {
   "cell_type": "code",
   "execution_count": null,
   "id": "742ff2d2",
   "metadata": {},
   "outputs": [],
   "source": [
    "prec.get('+')"
   ]
  },
  {
   "cell_type": "code",
   "execution_count": null,
   "id": "3109f9b6",
   "metadata": {},
   "outputs": [],
   "source": []
  },
  {
   "cell_type": "code",
   "execution_count": null,
   "id": "70604303",
   "metadata": {},
   "outputs": [],
   "source": [
    "if prec.get('*') < prec.get('+'):\n",
    "    print('성공')"
   ]
  },
  {
   "cell_type": "code",
   "execution_count": 21,
   "id": "466f3d67",
   "metadata": {},
   "outputs": [
    {
     "name": "stdout",
     "output_type": "stream",
     "text": [
      "opStack.data : []\n",
      "answer : A\n",
      "item : *\n",
      "opStack.data : ['*']\n",
      "answer : A\n",
      "opStack.data : ['*']\n",
      "answer : AB\n",
      "item : +\n",
      "opStack.data : ['+']\n",
      "answer : AB*\n",
      "opStack.data : ['+']\n",
      "answer : AB*C\n"
     ]
    },
    {
     "data": {
      "text/plain": [
       "'AB*C+'"
      ]
     },
     "execution_count": 21,
     "metadata": {},
     "output_type": "execute_result"
    }
   ],
   "source": [
    "S = \"A*B+C\"\n",
    "result = \"AB*C+\"\n",
    "solution(S)"
   ]
  },
  {
   "cell_type": "code",
   "execution_count": 22,
   "id": "c5fcf748",
   "metadata": {},
   "outputs": [
    {
     "name": "stdout",
     "output_type": "stream",
     "text": [
      "opStack.data : []\n",
      "answer : A\n",
      "item : +\n",
      "opStack.data : ['+']\n",
      "answer : A\n",
      "opStack.data : ['+']\n",
      "answer : AB\n",
      "item : +\n",
      "opStack.data : ['+']\n",
      "answer : AB+\n",
      "opStack.data : ['+']\n",
      "answer : AB+C\n"
     ]
    },
    {
     "data": {
      "text/plain": [
       "'AB+C+'"
      ]
     },
     "execution_count": 22,
     "metadata": {},
     "output_type": "execute_result"
    }
   ],
   "source": [
    "S = \"A+B+C\"\n",
    "result = \"AB+C+\"\n",
    "solution(S)"
   ]
  },
  {
   "cell_type": "code",
   "execution_count": 23,
   "id": "af9dffde",
   "metadata": {},
   "outputs": [
    {
     "name": "stdout",
     "output_type": "stream",
     "text": [
      "opStack.data : []\n",
      "answer : A\n",
      "item : +\n",
      "opStack.data : ['+']\n",
      "answer : A\n",
      "opStack.data : ['+']\n",
      "answer : AB\n",
      "item : +\n",
      "opStack.data : ['+']\n",
      "answer : AB+\n",
      "opStack.data : ['+']\n",
      "answer : AB+C\n",
      "item : *\n",
      "opStack.data : ['+', '*']\n",
      "answer : AB+C\n",
      "item : (\n",
      "opStack.data : ['+', '*', '(']\n",
      "answer : AB+C\n",
      "opStack.data : ['+', '*', '(']\n",
      "answer : AB+CD\n",
      "item : +\n",
      "opStack.data : ['+', '*', '(', '+']\n",
      "answer : AB+CD\n",
      "opStack.data : ['+', '*', '(', '+']\n",
      "answer : AB+CDE\n",
      "opStack.data : ['+', '*']\n",
      "answer : AB+CDE+\n",
      "item : *\n",
      "opStack.data : ['+', '*']\n",
      "answer : AB+CDE+*\n",
      "opStack.data : ['+', '*']\n",
      "answer : AB+CDE+*F\n"
     ]
    },
    {
     "data": {
      "text/plain": [
       "'AB+CDE+*F*+'"
      ]
     },
     "execution_count": 23,
     "metadata": {},
     "output_type": "execute_result"
    }
   ],
   "source": [
    "S = \"A+B+C*(D+E)*F\"\n",
    "result = \"AB+CDE+*F*+\"\n",
    "solution(S)"
   ]
  },
  {
   "cell_type": "code",
   "execution_count": 24,
   "id": "374a7de2",
   "metadata": {},
   "outputs": [
    {
     "name": "stdout",
     "output_type": "stream",
     "text": [
      "opStack.data : []\n",
      "answer : A\n",
      "item : +\n",
      "opStack.data : ['+']\n",
      "answer : A\n",
      "opStack.data : ['+']\n",
      "answer : AB\n"
     ]
    },
    {
     "data": {
      "text/plain": [
       "'AB+'"
      ]
     },
     "execution_count": 24,
     "metadata": {},
     "output_type": "execute_result"
    }
   ],
   "source": [
    "S = \"A+B\"\n",
    "result = \"AB+\"\n",
    "solution(S)"
   ]
  },
  {
   "cell_type": "code",
   "execution_count": 25,
   "id": "2f614f6f",
   "metadata": {},
   "outputs": [
    {
     "name": "stdout",
     "output_type": "stream",
     "text": [
      "item : (\n",
      "opStack.data : ['(']\n",
      "answer : \n",
      "opStack.data : ['(']\n",
      "answer : A\n",
      "item : *\n",
      "opStack.data : ['(', '*']\n",
      "answer : A\n",
      "opStack.data : ['(', '*']\n",
      "answer : AB\n",
      "opStack.data : []\n",
      "answer : AB*\n"
     ]
    },
    {
     "data": {
      "text/plain": [
       "'AB*'"
      ]
     },
     "execution_count": 25,
     "metadata": {},
     "output_type": "execute_result"
    }
   ],
   "source": [
    "S = \"(A*B)\"\n",
    "result = \"AB*\"\n",
    "solution(S)"
   ]
  },
  {
   "cell_type": "code",
   "execution_count": 26,
   "id": "c2624c47",
   "metadata": {},
   "outputs": [
    {
     "name": "stdout",
     "output_type": "stream",
     "text": [
      "opStack.data : []\n",
      "answer : C\n",
      "item : *\n",
      "opStack.data : ['*']\n",
      "answer : C\n",
      "item : (\n",
      "opStack.data : ['*', '(']\n",
      "answer : C\n",
      "opStack.data : ['*', '(']\n",
      "answer : CA\n",
      "item : +\n",
      "opStack.data : ['*', '(', '+']\n",
      "answer : CA\n",
      "opStack.data : ['*', '(', '+']\n",
      "answer : CAB\n",
      "opStack.data : ['*']\n",
      "answer : CAB+\n"
     ]
    },
    {
     "data": {
      "text/plain": [
       "'CAB+*'"
      ]
     },
     "execution_count": 26,
     "metadata": {},
     "output_type": "execute_result"
    }
   ],
   "source": [
    "S = \"C*(A+B)\"\n",
    "result = \"CAB+*\"\n",
    "solution(S)"
   ]
  },
  {
   "cell_type": "code",
   "execution_count": 27,
   "id": "a1eb7ea8",
   "metadata": {},
   "outputs": [
    {
     "name": "stdout",
     "output_type": "stream",
     "text": [
      "item : (\n",
      "opStack.data : ['(']\n",
      "answer : \n",
      "opStack.data : ['(']\n",
      "answer : A\n",
      "item : +\n",
      "opStack.data : ['(', '+']\n",
      "answer : A\n",
      "opStack.data : ['(', '+']\n",
      "answer : AB\n",
      "opStack.data : []\n",
      "answer : AB+\n",
      "item : +\n",
      "opStack.data : ['+']\n",
      "answer : AB+\n",
      "item : (\n",
      "opStack.data : ['+', '(']\n",
      "answer : AB+\n",
      "item : (\n",
      "opStack.data : ['+', '(', '(']\n",
      "answer : AB+\n",
      "opStack.data : ['+', '(', '(']\n",
      "answer : AB+C\n",
      "item : +\n",
      "opStack.data : ['+', '(', '(', '+']\n",
      "answer : AB+C\n",
      "opStack.data : ['+', '(', '(', '+']\n",
      "answer : AB+CD\n",
      "opStack.data : ['+', '(']\n",
      "answer : AB+CD+\n",
      "item : -\n",
      "opStack.data : ['+', '(', '-']\n",
      "answer : AB+CD+\n",
      "opStack.data : ['+', '(', '-']\n",
      "answer : AB+CD+E\n",
      "opStack.data : ['+']\n",
      "answer : AB+CD+E-\n",
      "item : *\n",
      "opStack.data : ['+', '*']\n",
      "answer : AB+CD+E-\n",
      "opStack.data : ['+', '*']\n",
      "answer : AB+CD+E-G\n"
     ]
    },
    {
     "data": {
      "text/plain": [
       "'AB+CD+E-G*+'"
      ]
     },
     "execution_count": 27,
     "metadata": {},
     "output_type": "execute_result"
    }
   ],
   "source": [
    "S = \"(A+B)+((C+D)-E)*G\"\n",
    "result = \"AB+CD+E-G*+\"\n",
    "solution(S)"
   ]
  },
  {
   "cell_type": "code",
   "execution_count": null,
   "id": "9f34c596",
   "metadata": {},
   "outputs": [],
   "source": []
  },
  {
   "cell_type": "markdown",
   "id": "486ef10a",
   "metadata": {},
   "source": [
    "#### 테스트는 다 통과했는데 제출테스트에서 실패.\n",
    "#### 다시 짠다. ㅋㅋ\n",
    "#### 파이썬으로 자료구조 제대로 공부하니 어렵다.-_-;\n",
    "#### 자바로 자료구조 놀았던 시절이...ㅠ"
   ]
  },
  {
   "cell_type": "code",
   "execution_count": null,
   "id": "26ddca44",
   "metadata": {},
   "outputs": [],
   "source": []
  },
  {
   "cell_type": "code",
   "execution_count": null,
   "id": "a8778274",
   "metadata": {},
   "outputs": [],
   "source": []
  },
  {
   "cell_type": "markdown",
   "id": "63712ca7",
   "metadata": {},
   "source": [
    "## 13강, 후위 표기 수식 계산\n",
    "#### AB+CD+*\n",
    "#### 값도 스택에 넣는다.\n",
    "#### push A\n",
    "#### pusb B\n",
    "#### 연산자를 만나면 pop하고 계산결과를 push한다. A+B값을 push\n",
    "#### push C\n",
    "#### push D\n",
    "#### 연산자를 만나면 pop하고 계산결과를 push한다. C+D값을 push\n",
    "#### 연산자를 만나면 pop하고 계산결과를 push한다. (A+B)*(C+D)값을 push\n"
   ]
  },
  {
   "cell_type": "markdown",
   "id": "cefba925",
   "metadata": {},
   "source": [
    "#### 알고리즘의 설계\n",
    "#### 후위 표현식을 왼쪽부터 한 글자씩 읽어서\n",
    "#### 피연산자이면 스택에 push\n",
    "#### 연산자를 만나면 스택에서 pop -> (1), 또 pop -> (2)\n",
    "#### (2) 연산 (1)을 계산, 이 결과를 스택에 push\n",
    "#### 수식의 끝에 도달하면, 스택에서 pop -> 이것이 계산 결과. (스택 값이 하나만 남아 있어야 한다.)"
   ]
  },
  {
   "cell_type": "code",
   "execution_count": null,
   "id": "2626269f",
   "metadata": {},
   "outputs": [],
   "source": [
    "### 수와 기호를 분리하기 위한 함수.\n",
    "def splitTokens(exprStr):\n",
    "    tokens = []\n",
    "    val = 0\n",
    "    valProcessing = False\n",
    "    for c in exprStr:\n",
    "        if c == ' ':\n",
    "            continue\n",
    "        if c in '0123456789':\n",
    "            val = val * 10 + int(c)\n",
    "            valProcessing = True\n",
    "        else:\n",
    "            if valProcessing:\n",
    "                tokens.append(val)\n",
    "                val = 0\n",
    "            valProcessing = False\n",
    "            tokens.append(c)\n",
    "    if valProcessing:\n",
    "        tokens.append(val)\n",
    "    return tokens"
   ]
  },
  {
   "cell_type": "code",
   "execution_count": null,
   "id": "7f5a7858",
   "metadata": {},
   "outputs": [],
   "source": [
    "#from stack import ArrayStack as Stack\n",
    "\n",
    "def infixToPostfix(tokenList):\n",
    "    prec = {\n",
    "        '*': 3,\n",
    "        '/': 3,\n",
    "        '+': 2,\n",
    "        '-': 2,\n",
    "        '(':1,\n",
    "    }\n",
    "    \n",
    "    opStack = ArrayStack()\n",
    "    postfixList = []\n",
    "    \n",
    "    for token in tokenList:\n",
    "        if type(token) is int:\n",
    "            pass\n",
    "        elif token == '(':\n",
    "            pass\n",
    "        elif token == ')':\n",
    "            pass\n",
    "        else:\n",
    "            pass\n",
    "        \n",
    "    while not opStack.isEmpty():\n",
    "        pass\n",
    "    \n",
    "    return postfixList"
   ]
  },
  {
   "cell_type": "code",
   "execution_count": null,
   "id": "d19af756",
   "metadata": {},
   "outputs": [],
   "source": [
    "def postfixEval(tokenList):\n",
    "    valStack = ArrayStack()\n",
    "    \n",
    "    for token in tokenList:\n",
    "        if type(token) is int:\n",
    "            pass\n",
    "        elif token == '*':\n",
    "            pass\n",
    "        elif token == '/':\n",
    "            pass\n",
    "        elif token == '+':\n",
    "            pass\n",
    "        elif token == '-':\n",
    "            pass\n",
    "        \n",
    "    return valStack.pop()\n",
    "\n",
    "def solution(expr):\n",
    "    tokens = splitTokens(expr)\n",
    "    postfix = infixToPostfix(tokens)\n",
    "    val = postfixEval(postfix)\n",
    "    return val"
   ]
  },
  {
   "cell_type": "code",
   "execution_count": null,
   "id": "1c55ac2d",
   "metadata": {},
   "outputs": [],
   "source": [
    "'''\n",
    "(13) 후위표현 수식 계산\n",
    "문제 설명\n",
    "인자로 주어진 문자열 expr 은 소괄호와 사칙연산 기호, 그리고 정수들로만 이루어진 중위 표현 수식입니다. 함수 solution() 은 이 수식의 값을 계산하여 그 결과를 리턴하도록 작성되어 있습니다. 이 함수는 차례로 splitTokens(), infixToPostfix(), 그리고 postfixEval() 함수를 호출하여 이 수식의 값을 계산하는데,\n",
    "\n",
    "splitTokens() - 강의 내용에서와 같은 코드로 이미 구현되어 있습니다.\n",
    "infixToPostfix() - 지난 강의의 연습문제에서 작성했던 코드를 수정하여, 문자열이 아닌 리스트를 리턴하도록 작성합니다.\n",
    "postfixEval() - 이번 강의의 연습문제입니다. 함수의 내용을 완성하세요.\n",
    "즉, 두 개의 함수 infixToPostfix() 와 postfixEval() 을 구현하는 연습입니다. 스택을 이용하기 위하여 class ArrayStack 이 정의되어 있으므로 그것을 활용하세요.\n",
    "\n",
    "[참고] Python 에는 eval() 이라는 built-in 함수가 있어서, 이 함수에 문자열을 인자로 전달하면, 그 문자열을 그대로 Python 표현식으로 간주하고 계산한 결과를 리턴하도록 되어 있습니다. 이 built-in 함수 eval() 을 이용하면 이 연습문제는 전혀 직접 코드를 작성하지 않고도 정답을 낼 수 있을 것이지만, 스택을 이용하여 중위표현식을 계산하는 프로그래밍 연습을 위한 것이니, 강의 내용에서 설명한 절차를 수행하도록 코드를 작성해 보세요.\n",
    "'''"
   ]
  },
  {
   "cell_type": "code",
   "execution_count": null,
   "id": "4777035d",
   "metadata": {},
   "outputs": [],
   "source": [
    "class ArrayStack:\n",
    "\n",
    "    def __init__(self):\n",
    "        self.data = []\n",
    "\n",
    "    def size(self):\n",
    "        return len(self.data)\n",
    "\n",
    "    def isEmpty(self):\n",
    "        return self.size() == 0\n",
    "\n",
    "    def push(self, item):\n",
    "        self.data.append(item)\n",
    "\n",
    "    def pop(self):\n",
    "        return self.data.pop()\n",
    "\n",
    "    def peek(self):\n",
    "        return self.data[-1]\n",
    "\n",
    "\n",
    "def splitTokens(exprStr):\n",
    "    tokens = []\n",
    "    val = 0\n",
    "    valProcessing = False\n",
    "    for c in exprStr:\n",
    "        if c == ' ':\n",
    "            continue\n",
    "        if c in '0123456789':\n",
    "            val = val * 10 + int(c)\n",
    "            valProcessing = True\n",
    "        else:\n",
    "            if valProcessing:\n",
    "                tokens.append(val)\n",
    "                val = 0\n",
    "            valProcessing = False\n",
    "            tokens.append(c)\n",
    "    if valProcessing:\n",
    "        tokens.append(val)\n",
    "\n",
    "    return tokens\n",
    "\n",
    "\n",
    "#### 지난 강의의 연습문제에서 작성했던 코드를 수정하여, 문자열이 아닌 리스트를 리턴하도록 작성.\n",
    "def infixToPostfix(tokenList):\n",
    "    prec = {\n",
    "        '*': 3,\n",
    "        '/': 3,\n",
    "        '+': 2,\n",
    "        '-': 2,\n",
    "        '(':1,\n",
    "    }\n",
    "    \n",
    "    opStack = ArrayStack()\n",
    "    postfixList = []\n",
    "    \n",
    "    for token in tokenList:\n",
    "        if type(token) is int:\n",
    "            postfixList.append(token)\n",
    "        elif token == '(':\n",
    "            opStack.push(token)\n",
    "        elif token == ')':\n",
    "            while not opStack.peek() == '(':\n",
    "                postfixList.append(opStack.pop())\n",
    "            opStack.pop()\n",
    "        else:\n",
    "            if opStack.isEmpty():\n",
    "                opStack.push(token)\n",
    "            else:\n",
    "                # 스택에 값이 존재한다면\n",
    "                while opStack.size() > 0:\n",
    "                    if prec[opStack.peek()] >= prec[token]:\n",
    "                        postfixList.append(opStack.pop())\n",
    "                    else:\n",
    "                        break\n",
    "                    \n",
    "                opStack.push(token)\n",
    "        \n",
    "    while not opStack.isEmpty():\n",
    "        postfixList.append(opStack.pop())\n",
    "    \n",
    "    return postfixList\n",
    "#### 이번강의의 연습문제. 함수의 내용완성.\n",
    "def postfixEval(tokenList):\n",
    "    valStack = ArrayStack()\n",
    "    \n",
    "    for token in tokenList:\n",
    "        if type(token) is int:\n",
    "            valStack.push(token)\n",
    "        elif token == '*':\n",
    "            right = valStack.pop()\n",
    "            left = valStack.pop()\n",
    "            valStack.push(left * right)\n",
    "        elif token == '/':\n",
    "            right = valStack.pop()\n",
    "            left = valStack.pop()\n",
    "            valStack.push(left / right)\n",
    "        elif token == '+':\n",
    "            right = valStack.pop()\n",
    "            left = valStack.pop()\n",
    "            valStack.push(left + right)\n",
    "        elif token == '-':\n",
    "            right = valStack.pop()\n",
    "            left = valStack.pop()\n",
    "            valStack.push(left - right)\n",
    "        \n",
    "    return valStack.pop()\n",
    "\n",
    "\n",
    "def solution(expr):\n",
    "    tokens = splitTokens(expr)\n",
    "    print(tokens)\n",
    "    postfix = infixToPostfix(tokens)\n",
    "    print(postfix)\n",
    "    val = postfixEval(postfix)\n",
    "    print(val)\n",
    "    return val"
   ]
  },
  {
   "cell_type": "code",
   "execution_count": null,
   "id": "a85f9d09",
   "metadata": {},
   "outputs": [],
   "source": [
    "expr = \"5 + 3\"\n",
    "result = 8\n",
    "solution(expr)"
   ]
  },
  {
   "cell_type": "code",
   "execution_count": null,
   "id": "70e93b16",
   "metadata": {},
   "outputs": [],
   "source": [
    "expr = \"(1 + 2) * (3 + 4)\"\n",
    "result = 21\n",
    "solution(expr)"
   ]
  },
  {
   "cell_type": "code",
   "execution_count": null,
   "id": "ac179b4e",
   "metadata": {},
   "outputs": [],
   "source": [
    "expr = \"7 * (9 - (3+2))\"\n",
    "result = 28\n",
    "solution(expr)"
   ]
  },
  {
   "cell_type": "markdown",
   "id": "8c5c3248",
   "metadata": {},
   "source": [
    "## 14강. 큐(Queues)\n",
    "## enqueue 데이터 넣기.\n",
    "## dequeue 넣은쪽 반대쪽으로 꺼내기.\n",
    "#### 큐의 추상적 자료구조 표현\n",
    "#### (1) 배열(array)을 이용하여 구현\n",
    "#### - Python 리스트와 메서드들을 이용\n",
    "#### (2) 연결리스트(linked list)를 이용하여 구현\n",
    "#### - 이전 강의에서 마련한 양방향 연결 리스트를 이용.\n",
    "\n",
    "#### 연산의 정의\n",
    "#### size()\n",
    "#### isEmpty()\n",
    "#### enqueue(x)\n",
    "#### peek() 큐의 맨 앞에 저장된 데이터 원소를 반환(제거하지 않음)\n"
   ]
  },
  {
   "cell_type": "code",
   "execution_count": null,
   "id": "0f0ebeec",
   "metadata": {},
   "outputs": [],
   "source": [
    "class ArrayQueue:\n",
    "    def __init__(self):\n",
    "        self.data = []\n",
    "        \n",
    "    def isEmpty(self):\n",
    "        return self.size() == 0\n",
    "    \n",
    "    def enqueue(self, item):\n",
    "        self.data.append(item)\n",
    "        \n",
    "    def dequeue(self):\n",
    "        return self.data.pop(0)\n",
    "    \n",
    "    def peek(self):\n",
    "        return self.data[0]"
   ]
  },
  {
   "cell_type": "code",
   "execution_count": null,
   "id": "ea977e1c",
   "metadata": {},
   "outputs": [],
   "source": [
    "#### 배열로 구현한 큐의 연산 복잡도\n",
    "#### size() : O(1)\n",
    "#### isEmpty() : O(1)\n",
    "#### enqueue() : O(1)\n",
    "#### dequeue() : O(n)\n",
    "#### peek() : O(1)\n"
   ]
  },
  {
   "cell_type": "code",
   "execution_count": null,
   "id": "4ce491a8",
   "metadata": {},
   "outputs": [],
   "source": [
    "#### 연습문제 - 코드의 구현은 매우 쉬움\n",
    "#### 연산의 복잡도에 대해서 생각해볼것\n"
   ]
  },
  {
   "cell_type": "code",
   "execution_count": null,
   "id": "f437608b",
   "metadata": {},
   "outputs": [],
   "source": [
    "from pythonds.basic.queue import Queue\n",
    "Q = Queue()"
   ]
  },
  {
   "cell_type": "code",
   "execution_count": null,
   "id": "6677c128",
   "metadata": {},
   "outputs": [],
   "source": [
    "!pip3 install pythonds"
   ]
  },
  {
   "cell_type": "markdown",
   "id": "d28ebd84",
   "metadata": {},
   "source": [
    "## 14강. 실습: 양방향 연결리스트로 구현하는 큐"
   ]
  },
  {
   "cell_type": "code",
   "execution_count": 28,
   "id": "8f45c0e7",
   "metadata": {},
   "outputs": [
    {
     "data": {
      "text/plain": [
       "'\\n(14) 양방향 연결 리스트로 구현하는 큐\\n문제 설명\\n양방향 연결 리스트를 활용하여 큐 (queue) 의 추상적 자료구조 (abstract data structure) 구현을 완성하세요.\\n\\n정의하고자 하는 큐의 추상적 자료구조는 class LinkedListQueue 로 구현됩니다. 이 문제는 해당 클래스의 메서드들의 구현을 빈칸 채우기 형태로 완성하는 것으로 되어 있으며, 이 클래스의 구현은 L120 부터 시작합니다.\\n\\n그 위에는 (LL1-117) 이 추상적 자료구조를 구현하기 위해서 이용할 class DoublyLinkedList 와, 또한 여기서 이용하는 class Node 의 구현이 정의되어 있습니다. 이 코드는 이전의 \"양방향 연결 리스트\" 강의에서 다루어진 것과 완전히 동일합니다.\\n\\n정확성 테스트는 class LinkedListQueue 의 각 메서드가 올바르게 구현되어 있는지를 검사합니다. \"코드 실행\" 을 눌렀을 때 예시 테스트 케이스를 통과하는 것은 아무런 의미가 없습니다.\\n'"
      ]
     },
     "execution_count": 28,
     "metadata": {},
     "output_type": "execute_result"
    }
   ],
   "source": [
    "'''\n",
    "(14) 양방향 연결 리스트로 구현하는 큐\n",
    "문제 설명\n",
    "양방향 연결 리스트를 활용하여 큐 (queue) 의 추상적 자료구조 (abstract data structure) 구현을 완성하세요.\n",
    "\n",
    "정의하고자 하는 큐의 추상적 자료구조는 class LinkedListQueue 로 구현됩니다. 이 문제는 해당 클래스의 메서드들의 구현을 빈칸 채우기 형태로 완성하는 것으로 되어 있으며, 이 클래스의 구현은 L120 부터 시작합니다.\n",
    "\n",
    "그 위에는 (LL1-117) 이 추상적 자료구조를 구현하기 위해서 이용할 class DoublyLinkedList 와, 또한 여기서 이용하는 class Node 의 구현이 정의되어 있습니다. 이 코드는 이전의 \"양방향 연결 리스트\" 강의에서 다루어진 것과 완전히 동일합니다.\n",
    "\n",
    "정확성 테스트는 class LinkedListQueue 의 각 메서드가 올바르게 구현되어 있는지를 검사합니다. \"코드 실행\" 을 눌렀을 때 예시 테스트 케이스를 통과하는 것은 아무런 의미가 없습니다.\n",
    "'''"
   ]
  },
  {
   "cell_type": "code",
   "execution_count": null,
   "id": "83294af9",
   "metadata": {},
   "outputs": [],
   "source": [
    "class Node:\n",
    "\n",
    "    def __init__(self, item):\n",
    "        self.data = item\n",
    "        self.prev = None\n",
    "        self.next = None\n",
    "\n",
    "\n",
    "class DoublyLinkedList:\n",
    "\n",
    "    def __init__(self):\n",
    "        self.nodeCount = 0\n",
    "        self.head = Node(None)\n",
    "        self.tail = Node(None)\n",
    "        self.head.prev = None\n",
    "        self.head.next = self.tail\n",
    "        self.tail.prev = self.head\n",
    "        self.tail.next = None\n",
    "\n",
    "\n",
    "    def __repr__(self):\n",
    "        if self.nodeCount == 0:\n",
    "            return 'LinkedList: empty'\n",
    "\n",
    "        s = ''\n",
    "        curr = self.head\n",
    "        while curr.next.next:\n",
    "            curr = curr.next\n",
    "            s += repr(curr.data)\n",
    "            if curr.next.next is not None:\n",
    "                s += ' -> '\n",
    "        return s\n",
    "\n",
    "\n",
    "    def getLength(self):\n",
    "        return self.nodeCount\n",
    "\n",
    "\n",
    "    def traverse(self):\n",
    "        result = []\n",
    "        curr = self.head\n",
    "        while curr.next.next:\n",
    "            curr = curr.next\n",
    "            result.append(curr.data)\n",
    "        return result\n",
    "\n",
    "\n",
    "    def reverse(self):\n",
    "        result = []\n",
    "        curr = self.tail\n",
    "        while curr.prev.prev:\n",
    "            curr = curr.prev\n",
    "            result.append(curr.data)\n",
    "        return result\n",
    "\n",
    "\n",
    "    def getAt(self, pos):\n",
    "        if pos < 0 or pos > self.nodeCount:\n",
    "            return None\n",
    "\n",
    "        if pos > self.nodeCount // 2:\n",
    "            i = 0\n",
    "            curr = self.tail\n",
    "            while i < self.nodeCount - pos + 1:\n",
    "                curr = curr.prev\n",
    "                i += 1\n",
    "        else:\n",
    "            i = 0\n",
    "            curr = self.head\n",
    "            while i < pos:\n",
    "                curr = curr.next\n",
    "                i += 1\n",
    "\n",
    "        return curr\n",
    "\n",
    "\n",
    "    def insertAfter(self, prev, newNode):\n",
    "        next = prev.next\n",
    "        newNode.prev = prev\n",
    "        newNode.next = next\n",
    "        prev.next = newNode\n",
    "        next.prev = newNode\n",
    "        self.nodeCount += 1\n",
    "        return True\n",
    "\n",
    "\n",
    "    def insertAt(self, pos, newNode):\n",
    "        if pos < 1 or pos > self.nodeCount + 1:\n",
    "            return False\n",
    "\n",
    "        prev = self.getAt(pos - 1)\n",
    "        return self.insertAfter(prev, newNode)\n",
    "\n",
    "\n",
    "    def popAfter(self, prev):\n",
    "        curr = prev.next\n",
    "        next = curr.next\n",
    "        prev.next = next\n",
    "        next.prev = prev\n",
    "        self.nodeCount -= 1\n",
    "        return curr.data\n",
    "\n",
    "\n",
    "    def popAt(self, pos):\n",
    "        if pos < 1 or pos > self.nodeCount:\n",
    "            raise IndexError('Index out of range')\n",
    "\n",
    "        prev = self.getAt(pos - 1)\n",
    "        return self.popAfter(prev)\n",
    "\n",
    "\n",
    "    def concat(self, L):\n",
    "        self.tail.prev.next = L.head.next\n",
    "        L.head.next.prev = self.tail.prev\n",
    "        self.tail = L.tail\n",
    "\n",
    "        self.nodeCount += L.nodeCount\n",
    "\n",
    "\n",
    "class LinkedListQueue:\n",
    "\n",
    "    def __init__(self):\n",
    "        self.data = DoublyLinkedList()\n",
    "\n",
    "    def size(self):\n",
    "        return self.data.getLength()\n",
    "\n",
    "\n",
    "    def isEmpty(self):\n",
    "        return self.data.getLength() == 0\n",
    "\n",
    "\n",
    "    def enqueue(self, item):\n",
    "        node = Node(item)\n",
    "        self.data.insertAt(self.data.nodeCount+1, node)\n",
    "\n",
    "\n",
    "    def dequeue(self):\n",
    "        return self.data.pop(1)\n",
    "\n",
    "\n",
    "    def peek(self):\n",
    "        return self.data.getAt(1).data\n",
    "\n",
    "\n",
    "\n",
    "def solution(x):\n",
    "    return 0\n"
   ]
  },
  {
   "cell_type": "code",
   "execution_count": null,
   "id": "999e90a8",
   "metadata": {},
   "outputs": [],
   "source": []
  },
  {
   "cell_type": "markdown",
   "id": "1ee0714f",
   "metadata": {},
   "source": [
    "## 15강, 환형 큐(Circular Queue)\n",
    "#### 환형 큐(Circular Queue)\n",
    "#### front, rear point 로 큐를 관리한다.\n",
    "#### 가득차면 더이상 채울수 없기때문에 queue.size()를 체크해야함.\n",
    "#### isFull() - 큐에 데이터 원소가 꽉 차 있는지를 판단.\n",
    "####"
   ]
  },
  {
   "cell_type": "code",
   "execution_count": null,
   "id": "1b6e82f0",
   "metadata": {},
   "outputs": [],
   "source": [
    "class CircularQueue:\n",
    "    def __init__(self, n):\n",
    "        self.maxCount = n\n",
    "        self.data = [None] * n\n",
    "        self.count = 0\n",
    "        self.front = -1\n",
    "        self.rear = -1\n",
    "        \n",
    "    def isEmpty(self):\n",
    "        return self.count == 0\n",
    "    \n",
    "    def isFull(self):\n",
    "        return self.count == self.maxCount\n",
    "    \n",
    "    def enqueue(self, x):\n",
    "        if self.isFull():\n",
    "            # IndexError('Queue Full') exception 처리\n",
    "        self.rear = [##빈칸]\n",
    "        self.data[self.rear] = x\n",
    "        self.count += 1\n",
    "            \n",
    "    def dequeue(self):\n",
    "        if [#빈칸]:\n",
    "            raise IndexError('Queue empty')\n",
    "        self.front = [ #빈칸]\n",
    "        x = [#빈칸]\n",
    "        self.count -= 1\n",
    "        return x\n",
    "    \n",
    "    def peek(self):\n",
    "        if [빈칸]:\n",
    "            rais IndexError('Queue Empty')\n",
    "        return [빈칸]"
   ]
  },
  {
   "cell_type": "markdown",
   "id": "8e13c10d",
   "metadata": {},
   "source": [
    "## 15강 실습: 환형 큐 구현\n"
   ]
  },
  {
   "cell_type": "code",
   "execution_count": 29,
   "id": "0de94be1",
   "metadata": {},
   "outputs": [
    {
     "data": {
      "text/plain": [
       "'\\n(15) 환형 큐 구현\\n문제 설명\\nPython 의 내장 데이터형인 리스트 (list) 를 이용하여 환형 큐의 추상적 자료 구조를 구현한 클래스 CircularQueue 를 완성하세요.\\n\\n[참고] 함수 solution() 은 이 클래스의 구현과는 관계 없는 것이지만, 문제가 올바르게 동작하는 데 필요해서 넣어 둔 것이니 무시해도 좋습니다. 또한, \"실행\" 을 눌렀을 때 예시 테스트 케이스를 통과한다고 출력되는 것은 아무런 의미가 없습니다.\\n'"
      ]
     },
     "execution_count": 29,
     "metadata": {},
     "output_type": "execute_result"
    }
   ],
   "source": [
    "'''\n",
    "(15) 환형 큐 구현\n",
    "문제 설명\n",
    "Python 의 내장 데이터형인 리스트 (list) 를 이용하여 환형 큐의 추상적 자료 구조를 구현한 클래스 CircularQueue 를 완성하세요.\n",
    "\n",
    "[참고] 함수 solution() 은 이 클래스의 구현과는 관계 없는 것이지만, 문제가 올바르게 동작하는 데 필요해서 넣어 둔 것이니 무시해도 좋습니다. 또한, \"실행\" 을 눌렀을 때 예시 테스트 케이스를 통과한다고 출력되는 것은 아무런 의미가 없습니다.\n",
    "'''"
   ]
  },
  {
   "cell_type": "code",
   "execution_count": 31,
   "id": "59b3315b",
   "metadata": {},
   "outputs": [
    {
     "ename": "IndentationError",
     "evalue": "unindent does not match any outer indentation level (<tokenize>, line 32)",
     "output_type": "error",
     "traceback": [
      "\u001b[0;36m  File \u001b[0;32m\"<tokenize>\"\u001b[0;36m, line \u001b[0;32m32\u001b[0m\n\u001b[0;31m    self.front =\u001b[0m\n\u001b[0m    ^\u001b[0m\n\u001b[0;31mIndentationError\u001b[0m\u001b[0;31m:\u001b[0m unindent does not match any outer indentation level\n"
     ]
    }
   ],
   "source": [
    "class CircularQueue:\n",
    "\n",
    "    def __init__(self, n):\n",
    "        self.maxCount = n\n",
    "        self.data = [None] * n\n",
    "        self.count = 0\n",
    "        self.front = -1\n",
    "        self.rear = -1\n",
    "\n",
    "\n",
    "    def size(self):\n",
    "        return self.count\n",
    "\n",
    "    def isEmpty(self):\n",
    "        return self.count == 0\n",
    "\n",
    "    def isFull(self):\n",
    "        return self.count == self.maxCount\n",
    "\n",
    "    def enqueue(self, x):\n",
    "        if self.isFull():\n",
    "            raise IndexError('Queue full')\n",
    "        self.rear = (self.rear + 1) % self.maxCount\n",
    "\n",
    "        self.data[self.rear] = x\n",
    "        self.count += 1\n",
    "\n",
    "    def dequeue(self):\n",
    "        if self.isEmpty():\n",
    "            raise IndexError('Queue empty')\n",
    "        self.front = (self.front + 1) % self.maxCount) \n",
    "\n",
    "        x = self.data[self.front]\n",
    "\n",
    "        self.count -= 1\n",
    "        return x\n",
    "\n",
    "    def peek(self):\n",
    "        if self.isEmpty():\n",
    "            raise IndexError('Queue empty')\n",
    "        return self.data[(self.front+1)% self.maxCount]\n",
    "\n",
    "\n",
    "\n",
    "def solution(x):\n",
    "    return 0"
   ]
  },
  {
   "cell_type": "code",
   "execution_count": null,
   "id": "50a7040f",
   "metadata": {},
   "outputs": [],
   "source": [
    "#### [    0,   1,   2,   3,   4,   5]\n",
    "#### [front,   0,   0,rear,   0,   0]\n",
    "#### maxCount = 6\n",
    "#### front = 0\n",
    "#### rear = 3\n",
    "#### enqueue일때 ) rear는\n",
    "#### self.rear = (self.rear + 1) % self.maxCount\n",
    "#### self.raar = ((3 + 1) % 6) \n",
    "#### dequeue일때 ) front는\n",
    "#### self.front = (self.front + 1) % self.maxCount) \n",
    "#### self.front = ((0 + 1) % 6) \n",
    "#### x = self.data[0]\n",
    "\n",
    "#### [    0,    1,   2,   3,   4,   5]\n",
    "#### [    0,front,   0,rear,   0,   0]\n",
    "#### maxCount = 6\n",
    "#### front = 1\n",
    "#### rear = 3\n",
    "#### count = 3\n",
    "#### enqueue일때 ) rear는\n",
    "#### self.rear = (self.rear + 1) % self.maxCount\n",
    "#### self.rear = ((3 + 1) % 6) \n",
    "#### self.rear =  4\n",
    "#### dequeue일때 ) front는\n",
    "#### self.front = (self.front + 1) % self.maxCount) \n",
    "#### self.front = ((1 + 1) % 6) \n",
    "#### self.front = 2\n",
    "#### x = self.data[2]\n"
   ]
  },
  {
   "cell_type": "code",
   "execution_count": null,
   "id": "8bcaecee",
   "metadata": {},
   "outputs": [],
   "source": [
    "#### [    0,    1,   2,   3,   4,   5]\n",
    "#### [    0,front,   0,rear,   0,   0]\n",
    "#### maxCount = 6\n",
    "#### front = 1\n",
    "#### rear = 3\n",
    "#### enqueue일때 ) rear는\n",
    "#### self.rear = ((self.front + self.count) % self.maxCount) + 1\n",
    "#### self.rear = ((1 + 3) % 6) +1\n",
    "#### self.rear =  5\n",
    "#### dequeue일때 ) front는\n",
    "#### self.front = ((self.rear - self.count) % self.maxCount) + 1\n",
    "#### self.front = ((3 - 3) % 6) + 1\n",
    "#### self.front = 1\n",
    "#### x = self.data[1]"
   ]
  },
  {
   "cell_type": "code",
   "execution_count": null,
   "id": "d8396c45",
   "metadata": {},
   "outputs": [],
   "source": []
  },
  {
   "cell_type": "code",
   "execution_count": null,
   "id": "e31027d3",
   "metadata": {},
   "outputs": [],
   "source": [
    "### 16강 : 우선순위 큐 \n",
    "#### 우선순위가 높은 순서로 갚이 빠져나옴.?\n",
    "#### 운영체제의 CPU스케쥴러?\n",
    "#### ** 서로 다른 두가지 방식이 가능\n",
    "#### (1) Enqueue할때 우선순위 순서를 유지\n",
    "#### (2) Dequeue할때 우선순위 높은 것을 선택\n",
    "#### 서로 다른 두가지 재료를 이용할수있음\n",
    "#### (1) 선형 배열 이용\n",
    "#### (3) 연결리스트 이용 (시간적으로 유리)\n"
   ]
  },
  {
   "cell_type": "code",
   "execution_count": null,
   "id": "9fe7612d",
   "metadata": {},
   "outputs": [],
   "source": [
    "from doublylinkedlist import Node, DoublyLinkedList\n",
    "\n",
    "class PriorityQueue:\n",
    "    \n",
    "    def __init__(self, x):\n",
    "        self.queue = DoublyLinkedList()\n",
    "        \n",
    "    #### [주의] : 양방향 연결리스트의 getAt() 메서드를 이용하지 않음!! -> 왜?\n",
    "    def enqueue(self, x):\n",
    "        newNode = Node(x)\n",
    "        curr = [빈칸]     ###우선순위를 비교해서 적합한 위치를 찾음. 처음시작하는 위치를 찾음?\n",
    "        while [빈칸] and [빈칸]:   ### 끝을 만나지 않는동안.\n",
    "            curr = curr.next\n",
    "        self.queue.[빈칸](curr, newNode)     #### 해당위치에 insert한다."
   ]
  },
  {
   "cell_type": "code",
   "execution_count": null,
   "id": "4c589a0d",
   "metadata": {},
   "outputs": [],
   "source": []
  },
  {
   "cell_type": "markdown",
   "id": "55edcdc4",
   "metadata": {},
   "source": [
    "## 16강 실습 : 우선순위 큐의 enqueuq 연산 구현"
   ]
  },
  {
   "cell_type": "code",
   "execution_count": 33,
   "id": "b8fca1a4",
   "metadata": {},
   "outputs": [
    {
     "data": {
      "text/plain": [
       "'\\n(16) 우선순위 큐의 enqueue 연산 구현\\n문제 설명\\n앞선 강의에서 소개된 양방향 연결 리스트의 추상적 자료구조 구현인 클래스 DoublyLinkedList 를 이용하여 우선순위 큐의 추상적 자료구조인 클래스 PriorityQueue 의 구현을 완성하세요.\\n\\n코드의 윗부분은 양방향 연결 리스트를 이용하기 위한 클래스 Node 와 DoublyLinikedList 의 구현입니다. 그대로 둔 채, 아래에 있는 class PriorityQueue 의 메서드들 중 enqueue() 메서드의 구현을 위한 빈 칸 채우기만 완성하면 됩니다.\\n\\n[참고] 함수 solution() 은 이 클래스의 구현과는 관계 없는 것이지만, 문제가 올바르게 동작하는 데 필요해서 넣어 둔 것이니 무시해도 좋습니다. 또한, 실행 을 눌렀을 때 예시 테스트 케이스를 통과한다고 출력되는 것은 아무런 의미가 없습니다.\\n'"
      ]
     },
     "execution_count": 33,
     "metadata": {},
     "output_type": "execute_result"
    }
   ],
   "source": [
    "'''\n",
    "(16) 우선순위 큐의 enqueue 연산 구현\n",
    "문제 설명\n",
    "앞선 강의에서 소개된 양방향 연결 리스트의 추상적 자료구조 구현인 클래스 DoublyLinkedList 를 이용하여 우선순위 큐의 추상적 자료구조인 클래스 PriorityQueue 의 구현을 완성하세요.\n",
    "\n",
    "코드의 윗부분은 양방향 연결 리스트를 이용하기 위한 클래스 Node 와 DoublyLinikedList 의 구현입니다. 그대로 둔 채, 아래에 있는 class PriorityQueue 의 메서드들 중 enqueue() 메서드의 구현을 위한 빈 칸 채우기만 완성하면 됩니다.\n",
    "\n",
    "[참고] 함수 solution() 은 이 클래스의 구현과는 관계 없는 것이지만, 문제가 올바르게 동작하는 데 필요해서 넣어 둔 것이니 무시해도 좋습니다. 또한, 실행 을 눌렀을 때 예시 테스트 케이스를 통과한다고 출력되는 것은 아무런 의미가 없습니다.\n",
    "'''"
   ]
  },
  {
   "cell_type": "code",
   "execution_count": null,
   "id": "d9c8aa5c",
   "metadata": {},
   "outputs": [],
   "source": [
    "class Node:\n",
    "\n",
    "    def __init__(self, item):\n",
    "        self.data = item\n",
    "        self.prev = None\n",
    "        self.next = None\n",
    "\n",
    "\n",
    "class DoublyLinkedList:\n",
    "\n",
    "    def __init__(self):\n",
    "        self.nodeCount = 0\n",
    "        self.head = Node(None)\n",
    "        self.tail = Node(None)\n",
    "        self.head.prev = None\n",
    "        self.head.next = self.tail\n",
    "        self.tail.prev = self.head\n",
    "        self.tail.next = None\n",
    "\n",
    "\n",
    "    def __repr__(self):\n",
    "        if self.nodeCount == 0:\n",
    "            return 'LinkedList: empty'\n",
    "\n",
    "        s = ''\n",
    "        curr = self.head\n",
    "        while curr.next.next:\n",
    "            curr = curr.next\n",
    "            s += repr(curr.data)\n",
    "            if curr.next.next is not None:\n",
    "                s += ' -> '\n",
    "        return s\n",
    "\n",
    "\n",
    "    def getLength(self):\n",
    "        return self.nodeCount\n",
    "\n",
    "\n",
    "    def traverse(self):\n",
    "        result = []\n",
    "        curr = self.head\n",
    "        while curr.next.next:\n",
    "            curr = curr.next\n",
    "            result.append(curr.data)\n",
    "        return result\n",
    "\n",
    "\n",
    "    def reverse(self):\n",
    "        result = []\n",
    "        curr = self.tail\n",
    "        while curr.prev.prev:\n",
    "            curr = curr.prev\n",
    "            result.append(curr.data)\n",
    "        return result\n",
    "\n",
    "\n",
    "    def getAt(self, pos):\n",
    "        if pos < 0 or pos > self.nodeCount:\n",
    "            return None\n",
    "\n",
    "        if pos > self.nodeCount // 2:\n",
    "            i = 0\n",
    "            curr = self.tail\n",
    "            while i < self.nodeCount - pos + 1:\n",
    "                curr = curr.prev\n",
    "                i += 1\n",
    "        else:\n",
    "            i = 0\n",
    "            curr = self.head\n",
    "            while i < pos:\n",
    "                curr = curr.next\n",
    "                i += 1\n",
    "\n",
    "        return curr\n",
    "\n",
    "\n",
    "    def insertAfter(self, prev, newNode):\n",
    "        next = prev.next\n",
    "        newNode.prev = prev\n",
    "        newNode.next = next\n",
    "        prev.next = newNode\n",
    "        next.prev = newNode\n",
    "        self.nodeCount += 1\n",
    "        return True\n",
    "\n",
    "\n",
    "    def insertAt(self, pos, newNode):\n",
    "        if pos < 1 or pos > self.nodeCount + 1:\n",
    "            return False\n",
    "\n",
    "        prev = self.getAt(pos - 1)\n",
    "        return self.insertAfter(prev, newNode)\n",
    "\n",
    "\n",
    "    def popAfter(self, prev):\n",
    "        curr = prev.next\n",
    "        next = curr.next\n",
    "        prev.next = next\n",
    "        next.prev = prev\n",
    "        self.nodeCount -= 1\n",
    "        return curr.data\n",
    "\n",
    "\n",
    "    def popAt(self, pos):\n",
    "        if pos < 1 or pos > self.nodeCount:\n",
    "            return None\n",
    "\n",
    "        prev = self.getAt(pos - 1)\n",
    "        return self.popAfter(prev)\n",
    "\n",
    "\n",
    "    def concat(self, L):\n",
    "        self.tail.prev.next = L.head.next\n",
    "        L.head.next.prev = self.tail.prev\n",
    "        self.tail = L.tail\n",
    "\n",
    "        self.nodeCount += L.nodeCount\n",
    "\n",
    "\n",
    "class PriorityQueue:\n",
    "\n",
    "    def __init__(self):\n",
    "        self.queue = DoublyLinkedList()\n",
    "\n",
    "\n",
    "    def size(self):\n",
    "        return self.queue.getLength()\n",
    "\n",
    "    def isEmpty(self):\n",
    "        return self.size() == 0\n",
    "\n",
    "    def enqueue(self, x):\n",
    "        newNode = Node(x)\n",
    "        curr = self.queue.head\n",
    "\n",
    "        while curr.next != self.queue.tail  and  x < curr.next.data:\n",
    "            curr = curr.next\n",
    "        self.queue.insertAfter(curr, newNode)\n",
    "\n",
    "    def dequeue(self):\n",
    "        return self.queue.popAt(self.queue.getLength())\n",
    "\n",
    "    def peek(self):\n",
    "        return self.queue.getAt(self.queue.getLength()).data\n",
    "\n",
    "\n",
    "def solution(x):\n",
    "    return 0"
   ]
  },
  {
   "cell_type": "markdown",
   "id": "4a3718bc",
   "metadata": {},
   "source": [
    "## lv1_예산_소팅"
   ]
  },
  {
   "cell_type": "code",
   "execution_count": 2,
   "id": "1b2778ab",
   "metadata": {},
   "outputs": [
    {
     "data": {
      "text/plain": [
       "'\\n예산_소팅\\n문제 설명\\nS사에서는 각 부서에 필요한 물품을 지원해 주기 위해 부서별로 물품을 구매하는데 필요한 금액을 조사했습니다. 그러나, 전체 예산이 정해져 있기 때문에 모든 부서의 물품을 구매해 줄 수는 없습니다. 그래서 최대한 많은 부서의 물품을 구매해 줄 수 있도록 하려고 합니다.\\n\\n물품을 구매해 줄 때는 각 부서가 신청한 금액만큼을 모두 지원해 줘야 합니다. 예를 들어 1,000원을 신청한 부서에는 정확히 1,000원을 지원해야 하며, 1,000원보다 적은 금액을 지원해 줄 수는 없습니다.\\n\\n부서별로 신청한 금액이 들어있는 배열 d와 예산 budget이 매개변수로 주어질 때, 최대 몇 개의 부서에 물품을 지원해 줄 수 있는지 return 하도록 solution 함수를 완성해주세요.\\n\\n제한사항\\nd는 부서별로 신청한 금액이 들어있는 배열이며, 길이(전체 부서의 개수)는 1 이상 100 이하입니다.\\nd의 각 원소는 부서별로 신청한 금액을 나타내며, 부서별 신청 금액은 1 이상 100,000 이하의 자연수입니다.\\nbudget은 예산을 나타내며, 1 이상 10,000,000 이하의 자연수입니다.\\n물품을 구매해 줄 수 있는 부서 개수의 최댓값을 return 하세요.\\n'"
      ]
     },
     "execution_count": 2,
     "metadata": {},
     "output_type": "execute_result"
    }
   ],
   "source": [
    "'''\n",
    "예산_소팅\n",
    "문제 설명\n",
    "S사에서는 각 부서에 필요한 물품을 지원해 주기 위해 부서별로 물품을 구매하는데 필요한 금액을 조사했습니다. 그러나, 전체 예산이 정해져 있기 때문에 모든 부서의 물품을 구매해 줄 수는 없습니다. 그래서 최대한 많은 부서의 물품을 구매해 줄 수 있도록 하려고 합니다.\n",
    "\n",
    "물품을 구매해 줄 때는 각 부서가 신청한 금액만큼을 모두 지원해 줘야 합니다. 예를 들어 1,000원을 신청한 부서에는 정확히 1,000원을 지원해야 하며, 1,000원보다 적은 금액을 지원해 줄 수는 없습니다.\n",
    "\n",
    "부서별로 신청한 금액이 들어있는 배열 d와 예산 budget이 매개변수로 주어질 때, 최대 몇 개의 부서에 물품을 지원해 줄 수 있는지 return 하도록 solution 함수를 완성해주세요.\n",
    "\n",
    "제한사항\n",
    "d는 부서별로 신청한 금액이 들어있는 배열이며, 길이(전체 부서의 개수)는 1 이상 100 이하입니다.\n",
    "d의 각 원소는 부서별로 신청한 금액을 나타내며, 부서별 신청 금액은 1 이상 100,000 이하의 자연수입니다.\n",
    "budget은 예산을 나타내며, 1 이상 10,000,000 이하의 자연수입니다.\n",
    "물품을 구매해 줄 수 있는 부서 개수의 최댓값을 return 하세요.\n",
    "'''"
   ]
  },
  {
   "cell_type": "markdown",
   "id": "d0f9a7dc",
   "metadata": {},
   "source": [
    "### 조건\n",
    "#### 1. 지원금은 딱 맞아 떨어져야 한다.\n",
    "#### 2. 배열 d : 부서별로 신청한 금액이 들어있는 배열\n",
    "#### 3. 예산 budget \n",
    "#### 4. return : 최대 몇 개의 부서에 물품을 지원해 줄 수 있는지.\n",
    "### 제한사항\n",
    "#### d 는 부서별로 신청한 금액이 들어있는 배열이며, 길이(전체 부서"
   ]
  },
  {
   "cell_type": "code",
   "execution_count": 17,
   "id": "d35ea74e",
   "metadata": {},
   "outputs": [],
   "source": [
    "d = [1,3,2,5,4]\n",
    "budget = 9\n",
    "result = 3"
   ]
  },
  {
   "cell_type": "code",
   "execution_count": 18,
   "id": "c197b523",
   "metadata": {},
   "outputs": [],
   "source": [
    "### 필요예산이 적은수로 지원해주면 최대한 많이 지원해줄수 있따.\n",
    "def solution(d, budget):    \n",
    "    answer = 0 \n",
    "    d.sort()\n",
    "    for item in d:\n",
    "        if budget - item >= 0:\n",
    "            budget -= item\n",
    "            answer += 1\n",
    "        else:\n",
    "            break\n",
    "    return answer\n",
    "    "
   ]
  },
  {
   "cell_type": "code",
   "execution_count": 19,
   "id": "ba536c44",
   "metadata": {},
   "outputs": [
    {
     "data": {
      "text/plain": [
       "3"
      ]
     },
     "execution_count": 19,
     "metadata": {},
     "output_type": "execute_result"
    }
   ],
   "source": [
    "solution(d, budget)"
   ]
  },
  {
   "cell_type": "code",
   "execution_count": 20,
   "id": "b485d628",
   "metadata": {},
   "outputs": [],
   "source": [
    "d = [2, 2, 3, 3]\n",
    "budget = 10\n",
    "result = 4"
   ]
  },
  {
   "cell_type": "code",
   "execution_count": 21,
   "id": "9826c2c2",
   "metadata": {},
   "outputs": [
    {
     "data": {
      "text/plain": [
       "4"
      ]
     },
     "execution_count": 21,
     "metadata": {},
     "output_type": "execute_result"
    }
   ],
   "source": [
    "solution(d, budget)"
   ]
  },
  {
   "cell_type": "markdown",
   "id": "b57a7aab",
   "metadata": {},
   "source": [
    "## lv2_기능개발\n",
    "#### 각 기능은 진도가 100%일 때 서비스에 반영할 수 있다.\n",
    "#### progresses : 배포되어야하는 순서대로 작업의 진도가 적힌 정수 배열\n",
    "#### speeds : 각 작업의 개발속도가 적힌 정수 배열\n",
    "#### return : 각 배포마다 몇 개의 기능이 배포되는지를 \n",
    "#### 배열의 길이는 100개 이하\n",
    "####  작업 진도, 작업 속도 100미만의 자연수\n",
    "#### 배포는 하루의 끝에 이루어진다고 가정.\n"
   ]
  },
  {
   "cell_type": "code",
   "execution_count": 62,
   "id": "59332811",
   "metadata": {},
   "outputs": [],
   "source": [
    "progresses = [93, 30, 50]\n",
    "speeds = [1, 30, 5]\n"
   ]
  },
  {
   "cell_type": "code",
   "execution_count": 65,
   "id": "22625c77",
   "metadata": {},
   "outputs": [],
   "source": [
    "def solution(progresses, speeds):\n",
    "    answer = []\n",
    "    work_day = 1\n",
    "    complete_count = 0\n",
    "    \n",
    "    ## 배포되어야 하는 작업이 완료되지 않았을 경우\n",
    "    while len(progresses) > 0:\n",
    "        ## 배포되어야하는 작업의 색인\n",
    "        if (progresses[0] + work_day* speeds[0]) >= 100:\n",
    "            progresses.pop(0)\n",
    "            speeds.pop(0)\n",
    "            complete_count += 1\n",
    "        else:\n",
    "            if complete_count > 0:\n",
    "                answer.append(complete_count)\n",
    "                complete_count = 0\n",
    "            work_day += 1\n",
    "        \n",
    "    answer.append(complete_count)\n",
    "    return answer\n",
    "                "
   ]
  },
  {
   "cell_type": "code",
   "execution_count": 66,
   "id": "0034190a",
   "metadata": {},
   "outputs": [
    {
     "data": {
      "text/plain": [
       "[2, 1]"
      ]
     },
     "execution_count": 66,
     "metadata": {},
     "output_type": "execute_result"
    }
   ],
   "source": [
    "solution(progresses, speeds)"
   ]
  },
  {
   "cell_type": "code",
   "execution_count": null,
   "id": "278f019d",
   "metadata": {},
   "outputs": [],
   "source": [
    "len(progresses)"
   ]
  },
  {
   "cell_type": "code",
   "execution_count": null,
   "id": "7d9ee45c",
   "metadata": {},
   "outputs": [],
   "source": [
    "## lv2_가장큰수\n",
    "####"
   ]
  },
  {
   "cell_type": "code",
   "execution_count": null,
   "id": "dec9bf1c",
   "metadata": {},
   "outputs": [],
   "source": []
  },
  {
   "cell_type": "code",
   "execution_count": null,
   "id": "52f3a104",
   "metadata": {},
   "outputs": [],
   "source": []
  },
  {
   "cell_type": "code",
   "execution_count": null,
   "id": "8567cbd2",
   "metadata": {},
   "outputs": [],
   "source": [
    "## 19강 : 이진 트리 - 넓이 우선 순회 (Breadth First Traversal)\n",
    "#### 원칙 : 수준이 낮은 노드를 우선 방문\n",
    "#### 같은 수준의 노들 사이에는, \n",
    "####    부모 노드의 방문 순서에 따라 방문\n",
    "####    왼쪽 자식 노드를 오른쪽 자식보다 먼저 방문\n",
    "#### 재귀적 방법이 적합한가? 적합하지 않다.\n",
    "\n",
    "#### 한 노드를 방문했을때, \n",
    "####    나중에 방문할 노드들을 순서대로 기록해 두어야한다.\n",
    "####    ==> 큐를 이용하면 좋다.\n",
    "\n",
    "#### 큐:\n",
    "      \n",
    "    \n",
    "####  넓이 우선 순회 알고리즘 구현\n",
    "#### 1. (초기화) traversal <- 빈리스트, q <- 빈큐\n",
    "#### 2. 빈 트리가 아니면, root node를 q에 추가(enqueue)\n",
    "#### 3.q가 비어 있지 않은동안\n",
    "####    3.1 node <- q에서 원소를 추출(dequeue)\n",
    "####    3.2 node를 방문.\n"
   ]
  },
  {
   "cell_type": "code",
   "execution_count": null,
   "id": "447f5d83",
   "metadata": {},
   "outputs": [],
   "source": []
  },
  {
   "cell_type": "code",
   "execution_count": null,
   "id": "4241c707",
   "metadata": {},
   "outputs": [],
   "source": [
    "## Heap 이란?\n",
    "#### 이진 트리의 한 종류( 이진 힙 - binary heap)\n",
    "#### 1. 루트(root)노드가 언제나 최댓값 또는 최솟값을 가짐\n",
    "#### 2, 완전 이진 트리여야함.\n",
    "\n",
    "## 이진 탐색 트리와의 비교\n",
    "#### 1. 원소들은 완전히 크기 순으로 정렬되어 있는가?\n",
    "#### 2. 특정 키 값을 가지는 원소를 빠르게 검색할 수 있는가?\n",
    "#### 3. 부가의 제약 조건은 어떤 것인가?\n"
   ]
  }
 ],
 "metadata": {
  "kernelspec": {
   "display_name": "Python 3",
   "language": "python",
   "name": "python3"
  },
  "language_info": {
   "codemirror_mode": {
    "name": "ipython",
    "version": 3
   },
   "file_extension": ".py",
   "mimetype": "text/x-python",
   "name": "python",
   "nbconvert_exporter": "python",
   "pygments_lexer": "ipython3",
   "version": "3.8.8"
  }
 },
 "nbformat": 4,
 "nbformat_minor": 5
}
