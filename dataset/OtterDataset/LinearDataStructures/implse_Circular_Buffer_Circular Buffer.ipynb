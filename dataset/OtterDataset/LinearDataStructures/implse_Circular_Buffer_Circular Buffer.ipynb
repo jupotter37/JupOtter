{
 "cells": [
  {
   "cell_type": "markdown",
   "metadata": {},
   "source": [
    "# Circular Buffer"
   ]
  },
  {
   "cell_type": "markdown",
   "metadata": {},
   "source": [
    "A circular buffer is a data structure that uses a single, fixed-size buffer as if it were connected end-to-end. \n",
    "\n",
    "This structure lends itself easily to buffering infinite data streams."
   ]
  },
  {
   "cell_type": "markdown",
   "metadata": {},
   "source": [
    "## The Basics"
   ]
  },
  {
   "cell_type": "markdown",
   "metadata": {},
   "source": [
    "Two common data structures in computer science are `LIFO` (last in first out) and `FIFO` (first in first out)"
   ]
  },
  {
   "cell_type": "markdown",
   "metadata": {},
   "source": [
    "### Stack"
   ]
  },
  {
   "cell_type": "markdown",
   "metadata": {},
   "source": [
    "A Stack is an ordered list in which insertion and deletion are done at one end, called top. \n",
    "\n",
    "The last element inserted is the first one to be deleted. (LIFO)\n",
    "\n",
    "There are two basic operations:\n",
    "\n",
    "- `push` : insert data into the stack.\n",
    "- `pop` : removes and return the last inserted element from the stack.\n",
    "    \n",
    "There are many ways of implementing stack:\n",
    "\n",
    "- Simple array based implementation.\n",
    "- Dynamic array based implementation.\n",
    "- Linked List implementation."
   ]
  },
  {
   "cell_type": "markdown",
   "metadata": {},
   "source": [
    "### Queue"
   ]
  },
  {
   "cell_type": "markdown",
   "metadata": {},
   "source": [
    "A Queue is an ordered list in which insertions are done at one end (rear) and deletions are done at other end (front).\n",
    "\n",
    "The first element to be inserted is the first to be deleted. (FIFO)\n",
    "\n",
    "\n",
    "There are two basic operations:\n",
    "\n",
    "- `enqueue` : append an element to the end of the list.\n",
    "- `dequeue` : remove the first element from the list.\n",
    "        \n",
    "There are many ways of implementing queue:\n",
    "\n",
    "- Simple circular list based implementation.\n",
    "- Dynamic circular array based implementation.\n",
    "- Linked List implementation."
   ]
  },
  {
   "cell_type": "markdown",
   "metadata": {
    "collapsed": true
   },
   "source": [
    "## Circular Buffer"
   ]
  },
  {
   "cell_type": "markdown",
   "metadata": {},
   "source": [
    "Use Python list as fixed-size buffer.\n",
    "\n",
    "- Maintain illusion that it wraps around to form a clockwise circle.\n",
    "- Queue behavoir :\n",
    "    - Add to the end. `O(1)`\n",
    "    - Remove from the front. `O(1)`\n",
    "    \n",
    "Adding element overrides oldest element in buffer.\n",
    "\n",
    "- Maintain (low, high) indices within buffer."
   ]
  },
  {
   "cell_type": "markdown",
   "metadata": {},
   "source": [
    "### Implementation"
   ]
  },
  {
   "cell_type": "markdown",
   "metadata": {},
   "source": [
    "Fixed sized storage.\n",
    "Seperate indices and count.\n",
    "    - When not empty, low is index of first element.\n",
    "    - When not empty, high is index of next location to use."
   ]
  },
  {
   "cell_type": "code",
   "execution_count": 50,
   "metadata": {},
   "outputs": [],
   "source": [
    "class CircularBuffer:\n",
    "    def __init__(self, size):\n",
    "        self.buffer = [None] * size\n",
    "        self.low = 0\n",
    "        self.high = 0\n",
    "        self.size = size\n",
    "        self.count = 0\n",
    "        \n",
    "    def isEmpty(self):\n",
    "        return self.count == 0\n",
    "    \n",
    "    def isFull(self):\n",
    "        return self.count == self.size\n",
    "    \n",
    "    def add(self, value):\n",
    "        if self.isFull():\n",
    "            self.low = (self.low + 1) % self.size\n",
    "        else:\n",
    "            self.count += 1\n",
    "        self.buffer[self.high] = value\n",
    "        self.high = (self.high + 1 ) % self.size\n",
    "    \n",
    "    def remove(self):\n",
    "        if self.count == 0:\n",
    "            return 'Circular Buffer is empty'\n",
    "        value = self.buffer[self.low]\n",
    "        self.low = (self.low + 1) % self.size\n",
    "        self.count -= 1\n",
    "        return value\n",
    "    \n",
    "    def __iter__(self):\n",
    "        idx = self.low\n",
    "        num = self.count\n",
    "        while num > 0:\n",
    "            yield self.buffer[idx]\n",
    "            idx = (idx + 1) % self.size\n",
    "            num -= 1\n",
    "    \n",
    "    def __repr__(self):\n",
    "        if self.isEmpty():\n",
    "            return 'Circular Buffer is empty'\n",
    "        return 'Circular Buffer [' + ', '.join(map(str, self)) + ']'\n"
   ]
  },
  {
   "cell_type": "code",
   "execution_count": 51,
   "metadata": {
    "collapsed": true
   },
   "outputs": [],
   "source": [
    "buffer = CircularBuffer(5)"
   ]
  },
  {
   "cell_type": "code",
   "execution_count": 52,
   "metadata": {},
   "outputs": [
    {
     "name": "stdout",
     "output_type": "stream",
     "text": [
      "True\n"
     ]
    }
   ],
   "source": [
    "print(buffer.isEmpty())"
   ]
  },
  {
   "cell_type": "code",
   "execution_count": 53,
   "metadata": {},
   "outputs": [],
   "source": [
    "buffer.add(3)\n",
    "buffer.add(4)\n",
    "buffer.add(2)\n",
    "buffer.add(5)\n",
    "buffer.add(4)"
   ]
  },
  {
   "cell_type": "code",
   "execution_count": 54,
   "metadata": {},
   "outputs": [
    {
     "data": {
      "text/plain": [
       "Circular Buffer [3, 4, 2, 5, 4]"
      ]
     },
     "execution_count": 54,
     "metadata": {},
     "output_type": "execute_result"
    }
   ],
   "source": [
    "buffer"
   ]
  },
  {
   "cell_type": "code",
   "execution_count": 55,
   "metadata": {
    "collapsed": true
   },
   "outputs": [],
   "source": [
    "buffer.add(6)\n",
    "buffer.add(7)"
   ]
  },
  {
   "cell_type": "code",
   "execution_count": 56,
   "metadata": {},
   "outputs": [
    {
     "data": {
      "text/plain": [
       "Circular Buffer [2, 5, 4, 6, 7]"
      ]
     },
     "execution_count": 56,
     "metadata": {},
     "output_type": "execute_result"
    }
   ],
   "source": [
    "buffer"
   ]
  },
  {
   "cell_type": "code",
   "execution_count": 57,
   "metadata": {},
   "outputs": [
    {
     "data": {
      "text/plain": [
       "2"
      ]
     },
     "execution_count": 57,
     "metadata": {},
     "output_type": "execute_result"
    }
   ],
   "source": [
    "buffer.remove()"
   ]
  },
  {
   "cell_type": "code",
   "execution_count": 58,
   "metadata": {},
   "outputs": [
    {
     "data": {
      "text/plain": [
       "Circular Buffer [5, 4, 6, 7]"
      ]
     },
     "execution_count": 58,
     "metadata": {},
     "output_type": "execute_result"
    }
   ],
   "source": [
    "buffer"
   ]
  }
 ],
 "metadata": {
  "kernelspec": {
   "display_name": "Python 3",
   "language": "python",
   "name": "python3"
  },
  "language_info": {
   "codemirror_mode": {
    "name": "ipython",
    "version": 3
   },
   "file_extension": ".py",
   "mimetype": "text/x-python",
   "name": "python",
   "nbconvert_exporter": "python",
   "pygments_lexer": "ipython3",
   "version": "3.6.12"
  }
 },
 "nbformat": 4,
 "nbformat_minor": 2
}
