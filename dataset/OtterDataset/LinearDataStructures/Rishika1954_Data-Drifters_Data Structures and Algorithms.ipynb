{
 "cells": [
  {
   "cell_type": "markdown",
   "metadata": {},
   "source": [
    "- Data Structures and Algorithms\n",
    "\n",
    "Introduction :-\n",
    "\n",
    "- Data Structures:\n",
    "Data structures are fundamental constructs around which you build your programs. They are a way of organizing and storing data to enable efficient access and modification. Choosing the right data structure can significantly affect the performance of an algorithm. Common data structures include arrays, linked lists, stacks, queues, trees, and graphs.\n",
    "\n",
    "- Algorithms:\n",
    "Algorithms are step-by-step procedures or formulas for solving problems. An algorithm takes some input and transforms it into the desired output. The efficiency of an algorithm is often measured in terms of its time complexity (how the runtime increases with the size of the input) and space complexity (how the memory usage increases with the size of the input)."
   ]
  },
  {
   "cell_type": "markdown",
   "metadata": {},
   "source": [
    "- Importance of Data Structures and Algorithms\n",
    "\n",
    "1. Efficiency:\n",
    "\n",
    "Efficient data structures and algorithms help in optimizing the performance of software applications by reducing the time and space complexity.\n",
    "\n",
    "2. Scalability:\n",
    "\n",
    "Proper use of data structures and algorithms ensures that applications can scale to handle large amounts of data and high user loads.\n",
    "\n",
    "3. Maintainability:\n",
    "\n",
    "Well-structured code using appropriate data structures and algorithms is easier to understand, maintain, and extend."
   ]
  },
  {
   "cell_type": "markdown",
   "metadata": {},
   "source": [
    "- Types of Data Structures\n",
    "\n",
    "1. Linear Data Structures:\n",
    "\n",
    "Elements are arranged in a sequential manner.\n",
    "Examples: Arrays, Linked Lists, Stacks, Queues.\n",
    "\n",
    "2. Non-Linear Data Structures:\n",
    "\n",
    "Elements are arranged in a hierarchical manner.\n",
    "Examples: Trees, Graphs."
   ]
  },
  {
   "cell_type": "markdown",
   "metadata": {},
   "source": [
    "Linear Data Structures:\n",
    "\n",
    "Arrays:\n",
    "An array is a collection of elements identified by index or key. They allow for quick access to elements but can be costly to resize.\n",
    "\n",
    "Linked Lists:\n",
    "A linked list is a collection of nodes where each node contains data and a reference to the next node. They are dynamic and can grow as needed but accessing elements is slower compared to arrays.\n",
    "\n",
    "Stacks:\n",
    "A stack is a collection of elements that follows the Last In First Out (LIFO) principle. The most recently added element is removed first.\n",
    "\n",
    "Queues:\n",
    "A queue is a collection of elements that follows the First In First Out (FIFO) principle. The oldest added element is removed first."
   ]
  },
  {
   "cell_type": "markdown",
   "metadata": {},
   "source": [
    "Non-Linear Data Structures:\n",
    "\n",
    "Trees:\n",
    "A tree is a hierarchical structure where each node has a value and references to child nodes. Trees are used in databases and file systems.\n",
    "\n",
    "Graphs:\n",
    "A graph consists of nodes (vertices) and edges connecting them. Graphs are used to represent networks like social media connections or routing paths."
   ]
  },
  {
   "cell_type": "markdown",
   "metadata": {},
   "source": [
    "- Common Algorithms\n",
    "\n",
    "1. Sorting Algorithms:\n",
    "\n",
    "Methods to arrange data in a particular order (ascending/descending).\n",
    "Examples: Bubble Sort, Merge Sort, Quick Sort, Insertion Sort.\n",
    "\n",
    "2. Searching Algorithms:\n",
    "\n",
    "Techniques to find specific elements in data structures.\n",
    "Examples: Linear Search, Binary Search.\n",
    "\n",
    "3. Graph Algorithms:\n",
    "\n",
    "Used to solve problems related to graphs.\n",
    "Examples: Depth-First Search (DFS), Breadth-First Search (BFS), Dijkstra's Algorithm.\n",
    "\n",
    "4. Dynamic Programming:\n",
    "\n",
    "A method for solving complex problems by breaking them down into simpler subproblems.\n",
    "Examples: Fibonacci Sequence, Knapsack Problem.\n",
    "\n",
    "5. Greedy Algorithms:\n",
    "\n",
    "Algorithms that make the locally optimal choice at each step.\n",
    "Examples: Kruskal’s Algorithm, Prim’s Algorithm."
   ]
  },
  {
   "cell_type": "markdown",
   "metadata": {},
   "source": [
    "- Time and Space Complexity\n",
    "\n",
    "1. Time Complexity:\n",
    "A measure of the time an algorithm takes to complete as a function of the size of the input. Common notations include O(1), O(n), O(log n), O(n^2), etc.\n",
    "\n",
    "2. Space Complexity:\n",
    "A measure of the amount of memory an algorithm uses as a function of the size of the input."
   ]
  },
  {
   "cell_type": "markdown",
   "metadata": {},
   "source": [
    "1. Arrays\n",
    "\n",
    "Explanation:\n",
    "\n",
    "Arrays are a collection of elements identified by index or key. Python does not have a built-in array data structure, but it uses lists which can function as arrays."
   ]
  },
  {
   "cell_type": "code",
   "execution_count": null,
   "metadata": {},
   "outputs": [],
   "source": [
    "# Creating an array (list in Python)\n",
    "arr = [1, 2, 3, 4, 5]\n",
    "\n",
    "# Accessing elements\n",
    "print(arr[0])  # Output: 1\n",
    "\n",
    "# Modifying elements\n",
    "arr[1] = 20\n",
    "print(arr)  # Output: [1, 20, 3, 4, 5]\n",
    "\n",
    "# Adding elements\n",
    "arr.append(6)\n",
    "print(arr)  # Output: [1, 20, 3, 4, 5, 6]\n",
    "\n",
    "# Removing elements\n",
    "arr.remove(20)\n",
    "print(arr)  # Output: [1, 3, 4, 5, 6]"
   ]
  },
  {
   "cell_type": "markdown",
   "metadata": {},
   "source": [
    "2. Linked Lists\n",
    "\n",
    "Explanation:\n",
    "\n",
    "A linked list is a linear data structure where each element is a separate object, referred to as a node. Each node contains the data and a reference (or link) to the next node in the sequence."
   ]
  },
  {
   "cell_type": "code",
   "execution_count": null,
   "metadata": {},
   "outputs": [],
   "source": [
    "class Node:\n",
    "    def __init__(self, data):\n",
    "        self.data = data\n",
    "        self.next = None\n",
    "\n",
    "class LinkedList:\n",
    "    def __init__(self):\n",
    "        self.head = None\n",
    "\n",
    "    def append(self, data):\n",
    "        new_node = Node(data)\n",
    "        if self.head is None:\n",
    "            self.head = new_node\n",
    "            return\n",
    "        last_node = self.head\n",
    "        while last_node.next:\n",
    "            last_node = last_node.next\n",
    "        last_node.next = new_node\n",
    "\n",
    "    def print_list(self):\n",
    "        current_node = self.head\n",
    "        while current_node:\n",
    "            print(current_node.data, end=\" -> \")\n",
    "            current_node = current_node.next\n",
    "        print(None)\n",
    "\n",
    "# Usage\n",
    "llist = LinkedList()\n",
    "llist.append(1)\n",
    "llist.append(2)\n",
    "llist.append(3)\n",
    "llist.print_list()  # Output: 1 -> 2 -> 3 -> None"
   ]
  },
  {
   "cell_type": "markdown",
   "metadata": {},
   "source": [
    "3. Stacks\n",
    "\n",
    "Explanation:\n",
    "\n",
    "A stack is a linear data structure that follows the Last In First Out (LIFO) principle. The element added last is the first one to be removed."
   ]
  },
  {
   "cell_type": "code",
   "execution_count": null,
   "metadata": {},
   "outputs": [],
   "source": [
    "class Stack:\n",
    "    def __init__(self):\n",
    "        self.stack = []\n",
    "\n",
    "    def push(self, data):\n",
    "        self.stack.append(data)\n",
    "\n",
    "    def pop(self):\n",
    "        if not self.is_empty():\n",
    "            return self.stack.pop()\n",
    "        return None\n",
    "\n",
    "    def peek(self):\n",
    "        if not self.is_empty():\n",
    "            return self.stack[-1]\n",
    "        return None\n",
    "\n",
    "    def is_empty(self):\n",
    "        return len(self.stack) == 0\n",
    "\n",
    "# Usage\n",
    "stack = Stack()\n",
    "stack.push(1)\n",
    "stack.push(2)\n",
    "stack.push(3)\n",
    "print(stack.pop())  # Output: 3\n",
    "print(stack.peek())  # Output: 2"
   ]
  },
  {
   "cell_type": "markdown",
   "metadata": {},
   "source": [
    "4. Queues\n",
    "\n",
    "Explanation:\n",
    "\n",
    "A queue is a linear data structure that follows the First In First Out (FIFO) principle. The element added first is the first one to be removed."
   ]
  },
  {
   "cell_type": "code",
   "execution_count": null,
   "metadata": {},
   "outputs": [],
   "source": [
    "class Queue:\n",
    "    def __init__(self):\n",
    "        self.queue = []\n",
    "\n",
    "    def enqueue(self, data):\n",
    "        self.queue.append(data)\n",
    "\n",
    "    def dequeue(self):\n",
    "        if not self.is_empty():\n",
    "            return self.queue.pop(0)\n",
    "        return None\n",
    "\n",
    "    def peek(self):\n",
    "        if not self.is_empty():\n",
    "            return self.queue[0]\n",
    "        return None\n",
    "\n",
    "    def is_empty(self):\n",
    "        return len(self.queue) == 0\n",
    "\n",
    "# Usage\n",
    "queue = Queue()\n",
    "queue.enqueue(1)\n",
    "queue.enqueue(2)\n",
    "queue.enqueue(3)\n",
    "print(queue.dequeue())  # Output: 1\n",
    "print(queue.peek())  # Output: 2"
   ]
  }
 ],
 "metadata": {
  "language_info": {
   "name": "python"
  }
 },
 "nbformat": 4,
 "nbformat_minor": 2
}
