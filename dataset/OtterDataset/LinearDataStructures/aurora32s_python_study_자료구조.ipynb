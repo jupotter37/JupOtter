{
  "nbformat": 4,
  "nbformat_minor": 0,
  "metadata": {
    "colab": {
      "name": "자료구조.ipynb",
      "provenance": [],
      "collapsed_sections": [
        "gPKOg2OxBY98",
        "ZCCf7BJy7yI4",
        "FNEjn34gDlzv",
        "pioRMnBoJfaZ",
        "jUwJhKPldhfk",
        "VHuqt-fEj2SK",
        "408Yr-hX3aZO",
        "lKemvOf7igCN",
        "XPkmE8dimWIX",
        "wPt9KIN3s-sN"
      ],
      "authorship_tag": "ABX9TyOSVihyHTrmr3mWZfETa2Yo",
      "include_colab_link": true
    },
    "kernelspec": {
      "name": "python3",
      "display_name": "Python 3"
    },
    "language_info": {
      "name": "python"
    }
  },
  "cells": [
    {
      "cell_type": "markdown",
      "metadata": {
        "id": "view-in-github",
        "colab_type": "text"
      },
      "source": [
        "<a href=\"https://colab.research.google.com/github/aurora32s/python_study/blob/master/%EC%9E%90%EB%A3%8C%EA%B5%AC%EC%A1%B0.ipynb\" target=\"_parent\"><img src=\"https://colab.research.google.com/assets/colab-badge.svg\" alt=\"Open In Colab\"/></a>"
      ]
    },
    {
      "cell_type": "markdown",
      "metadata": {
        "id": "gPKOg2OxBY98"
      },
      "source": [
        "# Chapter 06. 배열\n",
        "- 데이터를 나열하고, 각 데이터를 인덱스에 대응하도록 구성한 데이터 구조\n",
        "- 파이썬에서는 리스트 타입이 배열 기능을 제공하고 있음.\n",
        "\n",
        "### 1. 배열이 왜 필요할까?\n",
        "- 같은 종류의 데이터를 효율적으로 관리하기 위해 사용\n",
        "- 같은 종류의 데이터를 순차적으로 저장\n",
        "\n",
        "### 2. 배열의 장점\n",
        "- 빠른 접근 가능\n",
        "\n",
        "### 3. 배열의 단점\n",
        "- 배열의 크기가 고정되어 있어, 리소스가 낭비될 수 있다.\n",
        "- 배열을 확장하는데 많은 리소스가 소요된다.\n",
        "- 데이터가 가변적이라면 추가/삭제가 쉽지 않다.\n",
        "\n",
        "### 4. 파이썬과 C언어의 배열 예제\n",
        "\n"
      ]
    },
    {
      "cell_type": "code",
      "metadata": {
        "id": "Wo1xlhuMARTk"
      },
      "source": [
        "#inclue<studio.h>\n",
        "\n",
        "int main (int argc, char * argv[])\n",
        "{\n",
        "    char country[3] = \"US\"; # 크기 고정\n",
        "    printf(\"%c%c\\n\", country[0], country[1]);\n",
        "    print(\"%s\\n\", country);\n",
        "    return 0;\n",
        "}"
      ],
      "execution_count": null,
      "outputs": []
    },
    {
      "cell_type": "code",
      "metadata": {
        "colab": {
          "base_uri": "https://localhost:8080/"
        },
        "id": "vNjeYrue2ZYv",
        "outputId": "d24c0b3d-b128-47fd-a6d1-41c1dd82a5cf"
      },
      "source": [
        "# 파이썬\n",
        "country = \"US\" # 최대 길이를 지정하지 않는다!!!\n",
        "print(country)\n",
        "\n",
        "country = country + 'A'\n",
        "print(country)"
      ],
      "execution_count": null,
      "outputs": [
        {
          "output_type": "stream",
          "name": "stdout",
          "text": [
            "US\n",
            "USA\n"
          ]
        }
      ]
    },
    {
      "cell_type": "markdown",
      "metadata": {
        "id": "2ejkD8LN3a4o"
      },
      "source": [
        "### 5. 파이썬과 배열\n",
        "- 파이썬 리스트 활용"
      ]
    },
    {
      "cell_type": "code",
      "metadata": {
        "colab": {
          "base_uri": "https://localhost:8080/"
        },
        "id": "2e0rvrNe3zM3",
        "outputId": "d39bc3fd-8225-4873-a1a8-a8ffc67b39ce"
      },
      "source": [
        "# 1차원 배열 리스트로 구현\n",
        "data = [1,2,3,4,5]\n",
        "data # 마지막에 변수명만 있다면 print와 동일한 기능을 제공한다."
      ],
      "execution_count": null,
      "outputs": [
        {
          "output_type": "execute_result",
          "data": {
            "text/plain": [
              "[1, 2, 3, 4, 5]"
            ]
          },
          "metadata": {},
          "execution_count": 6
        }
      ]
    },
    {
      "cell_type": "code",
      "metadata": {
        "colab": {
          "base_uri": "https://localhost:8080/"
        },
        "id": "sIhhe5YR48gq",
        "outputId": "59d0a9fc-8802-4f0d-c638-99cc90f177c8"
      },
      "source": [
        "# 2차원 배열 리스트로 구현\n",
        "data = [[1,2],[3,4]]\n",
        "print(data[0])\n",
        "print(data[0][0])"
      ],
      "execution_count": null,
      "outputs": [
        {
          "output_type": "stream",
          "name": "stdout",
          "text": [
            "[1, 2]\n",
            "1\n"
          ]
        }
      ]
    },
    {
      "cell_type": "markdown",
      "metadata": {
        "id": "nIW-P3V-55Nn"
      },
      "source": [
        "### 6. 연습"
      ]
    },
    {
      "cell_type": "code",
      "metadata": {
        "colab": {
          "base_uri": "https://localhost:8080/"
        },
        "id": "OO_8NIrO57n6",
        "outputId": "5ce2d752-ef28-4ea8-d7e2-edd53976197a"
      },
      "source": [
        "data = [[1,2,3],[4,5,6],[7,8,9]]\n",
        "print(list(reversed(data[2])))"
      ],
      "execution_count": null,
      "outputs": [
        {
          "output_type": "stream",
          "name": "stdout",
          "text": [
            "[9, 8, 7]\n"
          ]
        }
      ]
    },
    {
      "cell_type": "code",
      "metadata": {
        "id": "Du-IlaeZ62lh"
      },
      "source": [
        "m_count = 0\n",
        "for data in dataset:\n",
        "  for index in range(len(data)):\n",
        "    if data[index] == 'M':\n",
        "      m_count += 1"
      ],
      "execution_count": null,
      "outputs": []
    },
    {
      "cell_type": "markdown",
      "metadata": {
        "id": "ZCCf7BJy7yI4"
      },
      "source": [
        "# Chapter 07. 큐(Queue)\n",
        "\n",
        "### 1. queue의 구조\n",
        "- FIFO\n",
        "\n",
        "### 2. 알아둘 용어\n",
        "- Enqueue : 큐에 데이터를 넣는 기능\n",
        "- Dequeue : 큐에서 데이터를 꺼내는 기능\n",
        "\n",
        "### 3. 파이썬 queue 라이브러리\n",
        "- 다양한 큐 구조를 제공\\\n",
        "(1) Qeueu() : 가장 일반적인 큐 자료 구조\\\n",
        "(2) LifoQueue() : 스택과 동일한 구조\\\n",
        "(3) PriorityQueue() : 우선순위 큐\\\n"
      ]
    },
    {
      "cell_type": "code",
      "metadata": {
        "colab": {
          "base_uri": "https://localhost:8080/"
        },
        "id": "PlhIpIbw725i",
        "outputId": "26e0c9de-afe9-4b18-80a3-6f4c7c3e17f6"
      },
      "source": [
        "import queue\n",
        "\n",
        "data_queue = queue.Queue()\n",
        "data_queue.put('hello world')\n",
        "data_queue.put(1)\n",
        "\n",
        "print(data_queue.qsize())\n",
        "print(data_queue.get())\n",
        "print(data_queue.qsize())"
      ],
      "execution_count": null,
      "outputs": [
        {
          "output_type": "stream",
          "name": "stdout",
          "text": [
            "2\n",
            "hello world\n",
            "1\n"
          ]
        }
      ]
    },
    {
      "cell_type": "code",
      "metadata": {
        "colab": {
          "base_uri": "https://localhost:8080/"
        },
        "id": "Mv-Eurk6_5Dp",
        "outputId": "3b6aadb5-861f-489b-c133-fbeacdf952e4"
      },
      "source": [
        "import queue\n",
        "\n",
        "data_queue = queue.LifoQueue()\n",
        "data_queue.put('hello world')\n",
        "data_queue.put(1)\n",
        "\n",
        "print(data_queue.qsize())\n",
        "print(data_queue.get())\n",
        "print(data_queue.qsize())"
      ],
      "execution_count": null,
      "outputs": [
        {
          "output_type": "stream",
          "name": "stdout",
          "text": [
            "2\n",
            "1\n",
            "1\n"
          ]
        }
      ]
    },
    {
      "cell_type": "code",
      "metadata": {
        "colab": {
          "base_uri": "https://localhost:8080/"
        },
        "id": "ZnilNST6AHqF",
        "outputId": "3fe7ceb4-d1b0-4f07-f512-7aa3b8d546a9"
      },
      "source": [
        "# 우선순위 큐\n",
        "import queue\n",
        "\n",
        "data_queue = queue.PriorityQueue()\n",
        "data_queue.put((10, 'korea')) # 우선순위, 값\n",
        "data_queue.put((5, 1))\n",
        "data_queue.put((15, 'china'))\n",
        "\n",
        "print(data_queue.qsize())\n",
        "print(data_queue.get())\n",
        "print(data_queue.get())"
      ],
      "execution_count": null,
      "outputs": [
        {
          "output_type": "stream",
          "name": "stdout",
          "text": [
            "3\n",
            "(5, 1)\n",
            "(10, 'korea')\n"
          ]
        }
      ]
    },
    {
      "cell_type": "markdown",
      "metadata": {
        "id": "-Rofgq0SBeHk"
      },
      "source": [
        "[참고] 어디에 큐가 많이 쓰일까?\n",
        "- 멀티 태스킹을 위한 프로세스 스케쥴링 방식을 구현하기 위해 많이 사용된다.(ex, 운영체제)"
      ]
    },
    {
      "cell_type": "code",
      "metadata": {
        "id": "rjsjqkYHB4pv"
      },
      "source": [
        "# 리스트로 queue 구현해보기\n",
        "\n",
        "queue_list = list()\n",
        "\n",
        "def enqueue (data) :\n",
        "  queue_list.append(data)\n",
        "\n",
        "def dequeue () :\n",
        "  data = queue_list[0]\n",
        "  del queue_list[0]\n",
        "  return data"
      ],
      "execution_count": null,
      "outputs": []
    },
    {
      "cell_type": "markdown",
      "metadata": {
        "id": "FNEjn34gDlzv"
      },
      "source": [
        "# Chapter 08. Stack(스택)\n",
        "\n",
        "### 1. 대표적인 스택의 활용\n",
        "- 컴퓨터 내부의 프로세스 구조의 함수 동작 방식\n",
        "\n",
        "### 2. 주요 기능\n",
        "- push() : 데이터를 스택에 넣기\n",
        "- pop() : 테이터를 스택에서 가져오기\n",
        "\n",
        "### 3. 스택의 장점\n",
        "- 구조가 단순해서 구현이 쉽다.\n",
        "- 데이터 저장/읽기 속도가 빠르다.\n",
        "\n",
        "### 4. 스택의 단점\n",
        "- 데이터 최대 갯수를 미리 정해야 한다.\n",
        "  * 파이썬의 경우, 재귀함수의 호출은 1000번까지만 호출이 가능하다.\n",
        "- 저장 공간의 낭비가 발생할 수 있다.\n",
        "  * 미리 최대 크기만큼 저장 공간을 확보하고 나서 사용되기 때문"
      ]
    },
    {
      "cell_type": "code",
      "metadata": {
        "id": "_y4IjJO0Hapw"
      },
      "source": [
        "# list의 append(push), pop 메서드 제공\n",
        "\n",
        "data_stack = list()\n",
        "data_stack.append(1)\n",
        "data_stack.append(2)"
      ],
      "execution_count": null,
      "outputs": []
    },
    {
      "cell_type": "code",
      "metadata": {
        "colab": {
          "base_uri": "https://localhost:8080/"
        },
        "id": "RPO-JKSdHs-t",
        "outputId": "518f21fb-3a56-462a-9964-1e549a22841c"
      },
      "source": [
        "data_stack"
      ],
      "execution_count": null,
      "outputs": [
        {
          "output_type": "execute_result",
          "data": {
            "text/plain": [
              "[1, 2]"
            ]
          },
          "metadata": {},
          "execution_count": 21
        }
      ]
    },
    {
      "cell_type": "code",
      "metadata": {
        "colab": {
          "base_uri": "https://localhost:8080/"
        },
        "id": "4hjt0V6qHt14",
        "outputId": "834b3f19-6c37-42a5-bf75-acc92765774b"
      },
      "source": [
        "data_stack.pop()"
      ],
      "execution_count": null,
      "outputs": [
        {
          "output_type": "execute_result",
          "data": {
            "text/plain": [
              "2"
            ]
          },
          "metadata": {},
          "execution_count": 22
        }
      ]
    },
    {
      "cell_type": "code",
      "metadata": {
        "id": "WJkrOfR7HvqM"
      },
      "source": [
        "# data_stack.peek() : list에서 peek은 지원해주지 않음."
      ],
      "execution_count": null,
      "outputs": []
    },
    {
      "cell_type": "code",
      "metadata": {
        "id": "Lb5Dk1NBH0Aq"
      },
      "source": [
        "stack = list()\n",
        "\n",
        "def push (data) :\n",
        "  stack.append(data)\n",
        "def pop () :\n",
        "  data = stack[-1]\n",
        "  del stack[-1]\n",
        "  return data"
      ],
      "execution_count": null,
      "outputs": []
    },
    {
      "cell_type": "code",
      "metadata": {
        "colab": {
          "base_uri": "https://localhost:8080/"
        },
        "id": "-M8d_LP7IF3f",
        "outputId": "a16b035b-1c5d-4b7b-906d-a86aa4bdaaf2"
      },
      "source": [
        "push(1)\n",
        "push(2)\n",
        "stack"
      ],
      "execution_count": null,
      "outputs": [
        {
          "output_type": "execute_result",
          "data": {
            "text/plain": [
              "[1, 2]"
            ]
          },
          "metadata": {},
          "execution_count": 27
        }
      ]
    },
    {
      "cell_type": "code",
      "metadata": {
        "colab": {
          "base_uri": "https://localhost:8080/"
        },
        "id": "BeTiO8nEIZoc",
        "outputId": "9c0ce485-bd7e-4344-af76-e81f1ddf83ee"
      },
      "source": [
        "pop()"
      ],
      "execution_count": null,
      "outputs": [
        {
          "output_type": "execute_result",
          "data": {
            "text/plain": [
              "2"
            ]
          },
          "metadata": {},
          "execution_count": 28
        }
      ]
    },
    {
      "cell_type": "code",
      "metadata": {
        "colab": {
          "base_uri": "https://localhost:8080/"
        },
        "id": "aWEVq-K-IbdJ",
        "outputId": "4116ece2-ceed-4238-d57d-86f4c68967d3"
      },
      "source": [
        "pop()"
      ],
      "execution_count": null,
      "outputs": [
        {
          "output_type": "execute_result",
          "data": {
            "text/plain": [
              "1"
            ]
          },
          "metadata": {},
          "execution_count": 29
        }
      ]
    },
    {
      "cell_type": "code",
      "metadata": {
        "id": "6ChiBcQTIdXW"
      },
      "source": [
        "# pop() : 더 이상 pop할게 없어 index out of range 에러 발생"
      ],
      "execution_count": null,
      "outputs": []
    },
    {
      "cell_type": "markdown",
      "metadata": {
        "id": "pioRMnBoJfaZ"
      },
      "source": [
        "# Chapter 09. 링크드 리스트(Linked List)\n",
        "\n",
        "### 1. 링크드 리스트(Linked List) 구조\n",
        "- 연결 리스트라고도 함\n",
        "- 배열은 순차적으로 연결된 공간에 데이터를 나열하는 데이터 구조\n",
        "  * 정해진 공간을 미리 선언해 둬야 한다.\n",
        "- 링크드 리스트는 떨어진 곳에 존재하는 데이터를 화살표로 연결해서 관리하는 데이터 구조\n",
        "  * 리스트 타입이 링크드 리스트의 기능을 모두 지원한다.\n",
        "  \n",
        "### 2. 용어\n",
        "- node : 데이터 저장 단위(데이터 값, 포인터)로 구성\n",
        "- pointer : 각 노드 안에서, 다음이나 이전의 노드와의 연결 정보를 가지고 있는 공간\n"
      ]
    },
    {
      "cell_type": "code",
      "metadata": {
        "id": "avO6bWeeIeX5"
      },
      "source": [
        "# 1. Node 구현\n",
        "class Node:\n",
        "  def __init__ (self, value, pointer=None):\n",
        "    self.value = value\n",
        "    self.pointer = pointer"
      ],
      "execution_count": null,
      "outputs": []
    },
    {
      "cell_type": "code",
      "metadata": {
        "id": "x-7uHdCIMuXJ"
      },
      "source": [
        "# 2. Node와 Node 연결하기기\n",
        "node1 = Node(1)\n",
        "\n",
        "head = node1 # 탐색 시작점"
      ],
      "execution_count": null,
      "outputs": []
    },
    {
      "cell_type": "code",
      "metadata": {
        "id": "Avbby_jAZRWH"
      },
      "source": [
        "# 링크드 리스트로 데이터 추가하기\n",
        "def add (data) :\n",
        "  node = head\n",
        "  while node.pointer : # None은 false\n",
        "    node = node.pointer\n",
        "  new_node = Node(data)\n",
        "  node.pointer = new_node"
      ],
      "execution_count": null,
      "outputs": []
    },
    {
      "cell_type": "code",
      "metadata": {
        "colab": {
          "base_uri": "https://localhost:8080/"
        },
        "id": "KPVvOEcGa65H",
        "outputId": "870ca03c-4599-4b7d-ed99-c05b4086001d"
      },
      "source": [
        "# 링크드 리스트트 데이터 출력하기(검색하기)\n",
        "def printAll () :\n",
        "  node = head\n",
        "  while node.pointer :\n",
        "    print(node.value, end=' ')\n",
        "    node = node.pointer\n",
        "  print(node.value)\n",
        "\n",
        "printAll()"
      ],
      "execution_count": null,
      "outputs": [
        {
          "output_type": "stream",
          "name": "stdout",
          "text": [
            "1\n"
          ]
        }
      ]
    },
    {
      "cell_type": "code",
      "metadata": {
        "colab": {
          "base_uri": "https://localhost:8080/"
        },
        "id": "WOLen1N_bSDN",
        "outputId": "f61b0d8f-0208-472a-8310-8f5f797aeed5"
      },
      "source": [
        "add(2)\n",
        "printAll()"
      ],
      "execution_count": null,
      "outputs": [
        {
          "output_type": "stream",
          "name": "stdout",
          "text": [
            "1 2\n"
          ]
        }
      ]
    },
    {
      "cell_type": "markdown",
      "metadata": {
        "id": "jUwJhKPldhfk"
      },
      "source": [
        "### 3. 링크드 리스트의 장정\n",
        "- 장점\\\n",
        "(1) 미리 데이터 공간을 할당하지 않아도 된다.\n",
        "  * 배열은 미리 데이터 공간을 할당 해야 한다.\n",
        "- 단점\\\n",
        "(1) 연결을 위한 별도 데이터 공간이 필요하므로, 저장공간 효율이 높지 않다.\\\n",
        "(2) 연결 정보를 찾는 시간이 필요하므로 접근 속도가 느리다.\\\n",
        "(3) 중간 데이터 삭제시, 앞뒤 데이터의 연결을 재구성해야 하는 부가적인 작업이 필요하다.\\\n",
        "\n",
        "\\\n",
        "### 4. 링크드 리스트의 복잡한 기능 1\n",
        "- 링크드 리스트 데이터 사이에 데이터를 추가\n",
        "- 링크드 리스트는 유지관리에 부가적인 구현이 필요하다."
      ]
    },
    {
      "cell_type": "code",
      "metadata": {
        "id": "jgTbk-LPcbX9",
        "colab": {
          "base_uri": "https://localhost:8080/"
        },
        "outputId": "4fc74940-9bab-4f39-8167-de5c3ad7aabb"
      },
      "source": [
        "node3 = Node(1.5)\n",
        "\n",
        "search = True\n",
        "node = head\n",
        "while search :\n",
        "  if node.value == 1 :\n",
        "    search = False\n",
        "  else :\n",
        "    node = node.pointer\n",
        "\n",
        "node_next = node.pointer\n",
        "node.pointer = node3\n",
        "node3.pointer = node_next\n",
        "\n",
        "printAll()"
      ],
      "execution_count": null,
      "outputs": [
        {
          "output_type": "stream",
          "name": "stdout",
          "text": [
            "1 1.5 2\n"
          ]
        }
      ]
    },
    {
      "cell_type": "code",
      "metadata": {
        "id": "fefkL1yuhdE7"
      },
      "source": [
        "# 파이썬 객체 지향 프로그래밍으로 링크드 리스트 구현하기\n",
        "class Node :\n",
        "  def __init__ (self, data) :\n",
        "    self.data = data\n",
        "    self.next = None\n",
        "\n",
        "class NodeMgmt :\n",
        "  def __init__ (self, data) :\n",
        "    self.head = Node(data)\n",
        "    \n",
        "  def add (self, data) : # 추가\n",
        "    if self.head == None :\n",
        "      self.head = Node(data)\n",
        "    else :\n",
        "      node = self.head\n",
        "      while node.next :\n",
        "        node = node.next\n",
        "      node.next = Node(data)\n",
        "\n",
        "  def desc (self) : # 순회\n",
        "    node = self.head\n",
        "    while node.next :\n",
        "      print(node.data, end=' ')\n",
        "      node = node.next\n",
        "    print(node.data)"
      ],
      "execution_count": null,
      "outputs": []
    },
    {
      "cell_type": "code",
      "metadata": {
        "colab": {
          "base_uri": "https://localhost:8080/"
        },
        "id": "fqh2bfk9lCjv",
        "outputId": "867f0e3c-71f3-4538-c8ca-5de31cb6ac73"
      },
      "source": [
        "linkedList = NodeMgmt(0)\n",
        "linkedList.desc()"
      ],
      "execution_count": null,
      "outputs": [
        {
          "output_type": "stream",
          "name": "stdout",
          "text": [
            "0\n"
          ]
        }
      ]
    },
    {
      "cell_type": "code",
      "metadata": {
        "colab": {
          "base_uri": "https://localhost:8080/"
        },
        "id": "ApK8hYD9lVJU",
        "outputId": "4161a930-16f6-4a60-d3dc-318288601f82"
      },
      "source": [
        "for data in range(1, 10) :\n",
        "  linkedList.add(data)\n",
        "linkedList.desc()"
      ],
      "execution_count": null,
      "outputs": [
        {
          "output_type": "stream",
          "name": "stdout",
          "text": [
            "0 1 2 3 4 5 6 7 8 9\n"
          ]
        }
      ]
    },
    {
      "cell_type": "markdown",
      "metadata": {
        "id": "VHuqt-fEj2SK"
      },
      "source": [
        "### 6. 링크드 리스트의 복작한 기능 2\n",
        "- 특정 노드를 삭제\\\n",
        "(1) head 삭제\\\n",
        "(2) 마지막 노드 삭제\\\n",
        "(3) 중간 노드 삭제\n"
      ]
    },
    {
      "cell_type": "code",
      "metadata": {
        "id": "RUN22B6Gmsen"
      },
      "source": [
        "class NodeMgmt :\n",
        "  def __init__ (self, data) :\n",
        "    self.head = Node(data)\n",
        "    \n",
        "  def add (self, data) : # 추가\n",
        "    if self.head == None : # 방어 코드 중요\n",
        "      self.head = Node(data)\n",
        "    else :\n",
        "      node = self.head\n",
        "      while node.next :\n",
        "        node = node.next\n",
        "      node.next = Node(data)\n",
        "\n",
        "  def desc (self) : # 순회\n",
        "    node = self.head\n",
        "    while node.next :\n",
        "      print(node.data, end=' ')\n",
        "      node = node.next\n",
        "    print(node.data)\n",
        "\n",
        "  def delete (self, data) :\n",
        "    if self.head == None : # 방어 코드 중요\n",
        "      print('해당 값을 가진 노드가 없습니다.')\n",
        "      return\n",
        "    \n",
        "    # 1. head 삭제\n",
        "    if self.head.data == data :\n",
        "      temp = self.head\n",
        "      self.head = self.head.next\n",
        "      del temp\n",
        "    else :\n",
        "      node = self.head\n",
        "      while node.next :\n",
        "        if node.next.data == data :\n",
        "          temp = node.next\n",
        "          node.next = node.next.next\n",
        "          del temp\n",
        "          return\n",
        "        else :\n",
        "          node = node.next\n",
        "\n",
        "    print('해당 값을 가진 노드가 없습니다.')\n",
        "\n",
        "  # 특정 데이터를 가지는 노드 값 반환하기\n",
        "  def search (self, data) :\n",
        "    if self.head == None :\n",
        "      print('해당 값을 가진 노드가 없습니다.')\n",
        "      return\n",
        "    \n",
        "    node = self.head\n",
        "    while node.next :\n",
        "      if node.data == data :\n",
        "        return data\n",
        "      else :\n",
        "        node = node.next\n",
        "    print('해당 값을 가진 노드가 없습니다.')\n",
        "    "
      ],
      "execution_count": null,
      "outputs": []
    },
    {
      "cell_type": "code",
      "metadata": {
        "colab": {
          "base_uri": "https://localhost:8080/"
        },
        "id": "ldnVVtyAo7eJ",
        "outputId": "27d36801-7f44-4caa-d04f-82832973590a"
      },
      "source": [
        "linkedList = NodeMgmt(0)\n",
        "linkedList.desc()"
      ],
      "execution_count": null,
      "outputs": [
        {
          "output_type": "stream",
          "name": "stdout",
          "text": [
            "0\n"
          ]
        }
      ]
    },
    {
      "cell_type": "code",
      "metadata": {
        "colab": {
          "base_uri": "https://localhost:8080/"
        },
        "id": "7U2KxF2zpDw3",
        "outputId": "d47904d6-87f0-4a9b-f2b4-98821f96ab5b"
      },
      "source": [
        "# head가 살아있음을 확인\n",
        "linkedList.head"
      ],
      "execution_count": null,
      "outputs": [
        {
          "output_type": "execute_result",
          "data": {
            "text/plain": [
              "<__main__.Node at 0x7fe37f49a250>"
            ]
          },
          "metadata": {},
          "execution_count": 108
        }
      ]
    },
    {
      "cell_type": "code",
      "metadata": {
        "colab": {
          "base_uri": "https://localhost:8080/"
        },
        "id": "AcoiDrSUpKF6",
        "outputId": "13f0c0d9-0fd8-403c-cfd0-5a6caf116e25"
      },
      "source": [
        "# head를 지워본다.\n",
        "linkedList.delete(0)"
      ],
      "execution_count": null,
      "outputs": [
        {
          "output_type": "stream",
          "name": "stdout",
          "text": [
            "해당 값을 가진 노드가 없습니다.\n"
          ]
        }
      ]
    },
    {
      "cell_type": "code",
      "metadata": {
        "id": "OEBbfpx4pRNn"
      },
      "source": [
        "linkedList.head"
      ],
      "execution_count": null,
      "outputs": []
    },
    {
      "cell_type": "code",
      "metadata": {
        "id": "IMn7NPf_o_Np"
      },
      "source": [
        "for data in range(1,10) :\n",
        "  linkedList.add(data)"
      ],
      "execution_count": null,
      "outputs": []
    },
    {
      "cell_type": "code",
      "metadata": {
        "colab": {
          "base_uri": "https://localhost:8080/"
        },
        "id": "FcqdUsIJpTfi",
        "outputId": "890d8470-2e09-4f91-92e3-94f09bc5c7d8"
      },
      "source": [
        "linkedList.desc()"
      ],
      "execution_count": null,
      "outputs": [
        {
          "output_type": "stream",
          "name": "stdout",
          "text": [
            "1 2 3 4 5 6 7 8 9\n"
          ]
        }
      ]
    },
    {
      "cell_type": "code",
      "metadata": {
        "colab": {
          "base_uri": "https://localhost:8080/"
        },
        "id": "hC7MvmMnquyg",
        "outputId": "01bbed12-0a19-46d5-bf00-d7d855f10349"
      },
      "source": [
        "linkedList.delete(4)\n",
        "linkedList.desc()"
      ],
      "execution_count": null,
      "outputs": [
        {
          "output_type": "stream",
          "name": "stdout",
          "text": [
            "1 2 3 5 6 7 8 9\n"
          ]
        }
      ]
    },
    {
      "cell_type": "code",
      "metadata": {
        "colab": {
          "base_uri": "https://localhost:8080/"
        },
        "id": "PPNABrlws0VM",
        "outputId": "e2419441-17a1-49f2-f0dc-215854a1f132"
      },
      "source": [
        "result = linkedList.search(5)\n",
        "print(result)"
      ],
      "execution_count": null,
      "outputs": [
        {
          "output_type": "stream",
          "name": "stdout",
          "text": [
            "5\n"
          ]
        }
      ]
    },
    {
      "cell_type": "code",
      "metadata": {
        "colab": {
          "base_uri": "https://localhost:8080/"
        },
        "id": "VpFhG8jjtJPv",
        "outputId": "50e46e0f-4fde-4cac-c57a-12c6218d683e"
      },
      "source": [
        "result = linkedList.search(4)"
      ],
      "execution_count": null,
      "outputs": [
        {
          "output_type": "stream",
          "name": "stdout",
          "text": [
            "해당 값을 가진 노드가 없습니다.\n"
          ]
        }
      ]
    },
    {
      "cell_type": "markdown",
      "metadata": {
        "id": "IFQIPgZKr6z1"
      },
      "source": [
        "### 7. 다양한 링크드 리스트 구조\n",
        "(1) 더블 링크드 리스트(Doubly linked list) 기본 구조\n",
        "- 이중 연결 리스트라고도 함\n",
        "- 장점 : 양방향으로 연결되어 있어서 노드 탐색이 양쪽으로 모두 가능\n"
      ]
    },
    {
      "cell_type": "code",
      "metadata": {
        "id": "wRcmds9fq0Aw"
      },
      "source": [
        "class Node :\n",
        "  def __init__ (self, data):\n",
        "    self.prev = None\n",
        "    self.data = data\n",
        "    self.next = None\n",
        "\n",
        "class NodeMgmt :\n",
        "  def __init__ (self, data) :\n",
        "    self.head = Node(data)\n",
        "    self.tail = self.head\n",
        "\n",
        "  def insert (self, data) :\n",
        "    if self.head == None :\n",
        "      self.head = Node(data)\n",
        "      self.tail = self.head\n",
        "\n",
        "    else :\n",
        "      new_node = Node(data)\n",
        "      last_node = self.tail\n",
        "      last_node.next = new_node\n",
        "      new_node.prev = last_node\n",
        "      self.tail = new_node\n",
        "\n",
        "  def desc (self) :\n",
        "    node = self.head\n",
        "    while node :\n",
        "      print(node.data, end=' ')\n",
        "      node = node.next\n",
        "\n",
        "  def search_from_head (self, data) :\n",
        "    if self.head == None :\n",
        "      print('해당 값이 존재하지 않습니다.')\n",
        "      return\n",
        "    \n",
        "    node = self.head\n",
        "    while node :\n",
        "      if node.data == data :\n",
        "        return node\n",
        "      node = node.next\n",
        "    print('해당 값이 존재하지 않습니다.')\n",
        "\n",
        "  def search_from_tail (self, data) :\n",
        "    if self.tail == None :\n",
        "      print('해당 값이 존재하지 않습니다.')\n",
        "      return\n",
        "    \n",
        "    node = self.tail\n",
        "    while node :\n",
        "      if node.data == data :\n",
        "        return node\n",
        "      node = node.prev\n",
        "    print('해당 값이 존재하지 않습니다.')\n",
        "\n",
        "  def insert_before (self, data, before_data) :\n",
        "    if self.head == None :\n",
        "      self.head = Node(data)\n",
        "      self.tail = Node(data)\n",
        "    else :\n",
        "      node = self.head\n",
        "\n",
        "      while node :\n",
        "        if node.data == before_data :\n",
        "          break\n",
        "        else :\n",
        "          node = node.next\n",
        "      \n",
        "      if node == None :\n",
        "        print('해당 데이터가 없어 새로운 데이터를 추가하지 못했습니다.')\n",
        "        return\n",
        "\n",
        "      new_node = Node(data)\n",
        "      new_node.prev = node.prev\n",
        "      new_node.next = node\n",
        "      if node != self.head : node.prev.next = new_node\n",
        "      else : self.head = new_node\n",
        "      node.prev = new_node\n",
        "\n",
        "  def insert_after (self, data, after_data) :\n",
        "    if self.tail == None :\n",
        "      self.head = Node(data)\n",
        "      self.tail = Node(data)\n",
        "    else :\n",
        "      node = self.tail\n",
        "\n",
        "      while node :\n",
        "        if node.data == after_data :\n",
        "          break\n",
        "        else :\n",
        "          node = node.prev\n",
        "      \n",
        "      if node == None :\n",
        "        print('해당 데이터가 없어 새로운 데이터를 추가하지 못했습니다.')\n",
        "        return\n",
        "\n",
        "      new_node = Node(data)\n",
        "      new_node.next = node.next\n",
        "      new_node.prev = node\n",
        "      if node != self.tail : node.next.prev = new_node\n",
        "      else : self.tail = new_node\n",
        "      node.next = new_node"
      ],
      "execution_count": null,
      "outputs": []
    },
    {
      "cell_type": "code",
      "metadata": {
        "colab": {
          "base_uri": "https://localhost:8080/"
        },
        "id": "eGEbKPZOxELL",
        "outputId": "4929b78d-1e2d-4d9c-884f-92533577f9fe"
      },
      "source": [
        "double_linkedlist = NodeMgmt(0)\n",
        "double_linkedlist.desc()"
      ],
      "execution_count": null,
      "outputs": [
        {
          "output_type": "stream",
          "name": "stdout",
          "text": [
            "0 "
          ]
        }
      ]
    },
    {
      "cell_type": "code",
      "metadata": {
        "colab": {
          "base_uri": "https://localhost:8080/"
        },
        "id": "HBRmdwaaxMYi",
        "outputId": "5281abfc-bfd9-4d44-f973-28e67edcdf5b"
      },
      "source": [
        "for data in range(1, 10) :\n",
        "  double_linkedlist.insert(data)\n",
        "double_linkedlist.desc()"
      ],
      "execution_count": null,
      "outputs": [
        {
          "output_type": "stream",
          "name": "stdout",
          "text": [
            "0 1 2 3 4 5 6 7 8 9 "
          ]
        }
      ]
    },
    {
      "cell_type": "code",
      "metadata": {
        "colab": {
          "base_uri": "https://localhost:8080/"
        },
        "id": "s3bouz3qxXvE",
        "outputId": "6167adab-649a-45fe-8d03-bf45f985d18b"
      },
      "source": [
        "double_linkedlist.search_from_head(8)"
      ],
      "execution_count": null,
      "outputs": [
        {
          "output_type": "execute_result",
          "data": {
            "text/plain": [
              "<__main__.Node at 0x7fe37f448210>"
            ]
          },
          "metadata": {},
          "execution_count": 127
        }
      ]
    },
    {
      "cell_type": "code",
      "metadata": {
        "colab": {
          "base_uri": "https://localhost:8080/"
        },
        "id": "70sJEM7zySxM",
        "outputId": "79861a91-5ac4-4ffc-f304-bb4ccbcf8f4d"
      },
      "source": [
        "double_linkedlist.search_from_tail(8)"
      ],
      "execution_count": null,
      "outputs": [
        {
          "output_type": "execute_result",
          "data": {
            "text/plain": [
              "<__main__.Node at 0x7fe37f482d10>"
            ]
          },
          "metadata": {},
          "execution_count": 131
        }
      ]
    },
    {
      "cell_type": "code",
      "metadata": {
        "colab": {
          "base_uri": "https://localhost:8080/"
        },
        "id": "-l34lsiey01-",
        "outputId": "de3b810d-bfd5-49ec-eb86-1aa8ccf954d6"
      },
      "source": [
        "double_linkedlist.insert_before(1.5, 2)\n",
        "double_linkedlist.desc()"
      ],
      "execution_count": null,
      "outputs": [
        {
          "output_type": "stream",
          "name": "stdout",
          "text": [
            "0 1 1.5 2 3 4 5 6 7 8 9 "
          ]
        }
      ]
    },
    {
      "cell_type": "code",
      "metadata": {
        "colab": {
          "base_uri": "https://localhost:8080/"
        },
        "id": "kOWvRNxh00tm",
        "outputId": "211dfbff-3a8d-4cb2-8bd4-af26ca9e3353"
      },
      "source": [
        "double_linkedlist.insert_before(-1, 0)\n",
        "double_linkedlist.desc()"
      ],
      "execution_count": null,
      "outputs": [
        {
          "output_type": "stream",
          "name": "stdout",
          "text": [
            "-1 0 1 1.5 2 3 4 5 6 7 8 9 "
          ]
        }
      ]
    },
    {
      "cell_type": "code",
      "metadata": {
        "colab": {
          "base_uri": "https://localhost:8080/"
        },
        "id": "SeQdPKlu044s",
        "outputId": "587d956e-ec35-43fe-85fa-b30d59b4f70f"
      },
      "source": [
        "double_linkedlist.insert_after(3.5, 3)\n",
        "double_linkedlist.desc()"
      ],
      "execution_count": null,
      "outputs": [
        {
          "output_type": "stream",
          "name": "stdout",
          "text": [
            "-1 0 1 1.5 2 3 3.5 4 5 6 7 8 9 "
          ]
        }
      ]
    },
    {
      "cell_type": "code",
      "metadata": {
        "colab": {
          "base_uri": "https://localhost:8080/"
        },
        "id": "6x4Gmxo_2j7y",
        "outputId": "2f0602cd-eab9-4ac5-e5b9-e89a3466a1e7"
      },
      "source": [
        "double_linkedlist.insert_after(10, 9)\n",
        "double_linkedlist.desc()"
      ],
      "execution_count": null,
      "outputs": [
        {
          "output_type": "stream",
          "name": "stdout",
          "text": [
            "-1 0 1 1.5 2 3 3.5 4 5 6 7 8 9 10 "
          ]
        }
      ]
    },
    {
      "cell_type": "code",
      "metadata": {
        "id": "R1DZAYkZ2nyE"
      },
      "source": [
        ""
      ],
      "execution_count": null,
      "outputs": []
    },
    {
      "cell_type": "markdown",
      "metadata": {
        "id": "408Yr-hX3aZO"
      },
      "source": [
        "# Chapter 10. 알고리즘 복잡도 표현 방법\n",
        "\n",
        "### 1. 알고리즘 복잡도 계산이 필요한 이유\n",
        "- 하나의 문제를 푸는 알고리즘은 다양할 수 있다.\n",
        "- 다양한 알고리즘 중 어느 알고리즘이 더 좋은지를 분석하기 위해, 복잡도를 정의하고 계산할 필요가 있다.\n",
        "\n",
        "### 2. 알고리즘 복잡도 계산 항목\n",
        "(1) 시간 복잡도 : 알고리즘 실행 속도\\\n",
        "(2) 공간 복잡도 : 알고리즘이 사용하는 메모리 사이즈\\\n",
        "| 가장 중요한 시간 복잡도를 꼭 이해하고 계산할 수 있어야 한다! |\n",
        "\n",
        "- 알고리즘 시간 복잡도의 주요 요소 : 반복문의 계산 횟수\n",
        "\n",
        "### 3. 알고리즘 성능 표기법\n",
        "1. Big O(빅-오) 표기법 : O(N)\n",
        "  - 알고리즘에서 가능한 최악의 실행 시간을 표기\n",
        "  - 가장 많이/일반적으로 사용한다.\n",
        "  - 아무리 최악의 상황이여도, 이 정도의 성능은 보장한다는 의미이기 때문이다.\n",
        "2. Ω(오메가) 표기법 : Ω(N)\n",
        "  - 최상의 실행 시간을 표기\\\n",
        "3. θ(세타) 표기법 : θ(N)\n",
        "  - 평균 실행 시간을 표기\n",
        "\n",
        "### 4. 대문자 O 표기법\n",
        "- 빅 오 표기법, Big-O 표기법이라고도 부름\n",
        "- O(입력)\n",
        "  * 입력 n에 다라 결정되는 시간 복잡도 함수\n",
        "  * O(1), O(logn), O(nlogn), O(n^2), O(2^n), O(n!)등으로 표기한다.\n",
        "  * 입력 n의 크기에 따라 기하급수적으로 시간 복잡도가 늘어날 수 있다.\n",
        "  * O(1) < O(logn) < O(nlogn) < O(n^2) < O(2^n) < O(n!)\\\n",
        "    ** log n의 베이스는 2입니다. 10 아님.\n",
        "- 단순하게 입력 n에 따라, 몇번 실행이 되는지를 계산하면 됩니다.\n",
        "  * 표현식에 가장 큰 영향을 미치는 n의 단위로 표기합니다.\n",
        "  * n이 1이든 100이든, 1000이든,  10000이든 실행을\\\n",
        "    (1) 무조건 2회(상수회) 실행한다면 O(1)\n",
        "      ```python\n",
        "        if n > 10 : \n",
        "          print(n)\n",
        "      ```\n",
        "    (2) n에 따라, n번, n + 10번, 또는 3n + 10번 실행한다면 O(n)\n",
        "      ```python\n",
        "        variable = 1\n",
        "        for num in range(3) :\n",
        "          for index in range(n) :\n",
        "            print(index)\n",
        "      ```\n",
        "    (3) n에 따라, n^2, 3n^2, 3n^2 + 1000번 실행한다면 O(n^2)\n",
        "\n",
        "### 5. 실제 알고리즘을 예로 각 알고리즘의 시간 복잡도와 빅 오 표기법 알아보기"
      ]
    },
    {
      "cell_type": "code",
      "metadata": {
        "colab": {
          "base_uri": "https://localhost:8080/"
        },
        "id": "Vn_urel_ALfQ",
        "outputId": "66a35861-ea23-4742-ae6a-7d0704a698d3"
      },
      "source": [
        "# 알고리즘 1 : 1부터 n까지의 합을 구하는 알고리즘 1\n",
        "def sum (n) :\n",
        "  total = 0\n",
        "  for num in range(1, n+1) :\n",
        "    total += num\n",
        "  return total\n",
        "\n",
        "sum(100) # O(n)"
      ],
      "execution_count": null,
      "outputs": [
        {
          "output_type": "execute_result",
          "data": {
            "text/plain": [
              "5050"
            ]
          },
          "metadata": {},
          "execution_count": 158
        }
      ]
    },
    {
      "cell_type": "code",
      "metadata": {
        "colab": {
          "base_uri": "https://localhost:8080/"
        },
        "id": "0TQvjklmAvcx",
        "outputId": "6b9eb1cb-d419-484e-b496-7f10dac59ee1"
      },
      "source": [
        "# 알고리즘 2 : 1부터 n까지의 합을 구하는 알고리즘 2\n",
        "def sum_2 (n) :\n",
        "  return int(n * (n+1) / 2)\n",
        "\n",
        "sum_2(100) # O(1)"
      ],
      "execution_count": null,
      "outputs": [
        {
          "output_type": "execute_result",
          "data": {
            "text/plain": [
              "5050"
            ]
          },
          "metadata": {},
          "execution_count": 159
        }
      ]
    },
    {
      "cell_type": "code",
      "metadata": {
        "id": "BbxnEhPsBL_I"
      },
      "source": [
        ""
      ],
      "execution_count": null,
      "outputs": []
    },
    {
      "cell_type": "markdown",
      "metadata": {
        "id": "jVoQwdeZicCO"
      },
      "source": [
        ""
      ]
    },
    {
      "cell_type": "markdown",
      "metadata": {
        "id": "lKemvOf7igCN"
      },
      "source": [
        "# Chapter 11. HashTable"
      ]
    },
    {
      "cell_type": "markdown",
      "metadata": {
        "id": "lp-AYOGNmL3t"
      },
      "source": [
        "### 1. Hash 구조\n",
        "- Hash Table : 키에 데이터를 저장하는 데이터 구조\n",
        "- 키를 통해 바로 데이터를 받아올 수 있으므로, 속도가 획기적으로 빨라진다.\n",
        "- 파이썬 딕셔너리(Dictionary)타입이 해쉬 테이블의 예\n",
        "- 보통 배열로 미리 Hash Table 사이즈만큼 생성 후에 (공간과 탐색 시간을 맞바꾸는 기법)\n",
        "- 단, 파이썬에서는 해쉬를 별도 구현할 이유가 없다. (딕셔너리 타입을 사용하면 된다.)"
      ]
    },
    {
      "cell_type": "markdown",
      "metadata": {
        "id": "0H2YeSUVmOdb"
      },
      "source": [
        "\n",
        "### 2. 알아둘 용어\n",
        "- 해쉬 : 임의 값을 고정 길이로 변환하는 것\n",
        "- 해쉬 테이블 : 키 값의 연산에 의해 직접 접근이 가능한 데이터 구조\n",
        "- 해쉬 함수 : 키에 대해 산술 연산을 이용해 데이터 위치를 찾을 수 있는 함수\n",
        "- 해쉬 값(해쉬 주소) : 키를 해싱 함수로 연산해서, 해쉬 값을 알아내고, 이를 기반으로 해쉬 테이블에서 해당 key에 대한 데이터 위치를 일관성 있게 찾을 수 있음.\n",
        "- 슬롯 : 한 개의 데이터를 저장할 수 있는 공간\n",
        "- 저장할 데이터에 대해 key를 추출할 수 있는 별도 함수도 존재할 수 있음."
      ]
    },
    {
      "cell_type": "markdown",
      "metadata": {
        "id": "XPkmE8dimWIX"
      },
      "source": [
        "### 3. 간단한 해쉬 예"
      ]
    },
    {
      "cell_type": "code",
      "metadata": {
        "colab": {
          "base_uri": "https://localhost:8080/"
        },
        "id": "o2gv1za9mYX0",
        "outputId": "b7dd816e-0a7a-4158-89f9-df51e1f161ee"
      },
      "source": [
        "# 3.1 hash table 만들기\n",
        "hash_table = list([i for i in range(10)])\n",
        "hash_table"
      ],
      "execution_count": null,
      "outputs": [
        {
          "output_type": "execute_result",
          "data": {
            "text/plain": [
              "[0, 1, 2, 3, 4, 5, 6, 7, 8, 9]"
            ]
          },
          "metadata": {},
          "execution_count": 6
        }
      ]
    },
    {
      "cell_type": "code",
      "metadata": {
        "id": "7UI9EU_PmhoA"
      },
      "source": [
        "# 3.2 이번엔 초간단 해쉬 함수를 만들어보자\n",
        "def hash_func (key) :\n",
        "  return key % 10"
      ],
      "execution_count": null,
      "outputs": []
    },
    {
      "cell_type": "code",
      "metadata": {
        "colab": {
          "base_uri": "https://localhost:8080/"
        },
        "id": "QZYSoe6QnIgi",
        "outputId": "7ccbb784-1249-43f8-c3ab-f44b51e3b828"
      },
      "source": [
        "# 3.3 해쉬 테이블에 저장\n",
        "data1 = 'Andy'\n",
        "data2 = 'Dave'\n",
        "data3 = 'Trump'\n",
        "\n",
        "## ord() : 문자의 ASCII코드 리턴\n",
        "print(ord(data1[0]),ord(data2[0]),ord(data3[0]))\n",
        "print(hash_func(ord(data1[0])),hash_func(ord(data2[0])),hash_func(ord(data3[0])))"
      ],
      "execution_count": null,
      "outputs": [
        {
          "output_type": "stream",
          "name": "stdout",
          "text": [
            "65 68 84\n",
            "5 8 4\n"
          ]
        }
      ]
    },
    {
      "cell_type": "code",
      "metadata": {
        "colab": {
          "base_uri": "https://localhost:8080/"
        },
        "id": "J8qBQSy-neY8",
        "outputId": "dcc0517e-33d3-4ff7-ac08-0a0867f580a8"
      },
      "source": [
        "# 3.3.2 해쉬 테이블에 값 저장\n",
        "def storage_data (data, value) :\n",
        "  key = ord(data[0])\n",
        "  hash_address = hash_func(key)\n",
        "  hash_table[hash_address] = value\n",
        "\n",
        "storage_data('Andy', 23)\n",
        "hash_table"
      ],
      "execution_count": null,
      "outputs": [
        {
          "output_type": "execute_result",
          "data": {
            "text/plain": [
              "[0, 1, 2, 3, 4, 23, 6, 7, 8, 9]"
            ]
          },
          "metadata": {},
          "execution_count": 9
        }
      ]
    },
    {
      "cell_type": "code",
      "metadata": {
        "colab": {
          "base_uri": "https://localhost:8080/"
        },
        "id": "NdDsCXOAon5c",
        "outputId": "6e009e95-d6fa-404b-c851-edecd19bfd43"
      },
      "source": [
        "# 3.4 해쉬 테이블에서 특정 주소의 데이터를 가져오는 함수\n",
        "storage_data('Andy', '01012341234')\n",
        "storage_data('Dave', '010111111111')\n",
        "storage_data('Trump', '01022222222')\n",
        "\n",
        "def get_data (data) :\n",
        "  key = ord(data[0])\n",
        "  hash_address = hash_func(key)\n",
        "  return hash_table[hash_address]\n",
        "\n",
        "print(get_data('Andy'))"
      ],
      "execution_count": null,
      "outputs": [
        {
          "output_type": "stream",
          "name": "stdout",
          "text": [
            "01012341234\n"
          ]
        }
      ]
    },
    {
      "cell_type": "markdown",
      "metadata": {
        "id": "2ljz2JFXq2CY"
      },
      "source": [
        "### 4. 해쉬의 장/단점\n",
        "- 장점\n",
        "  - 데이터 저장/읽기 속도가 빠르다.(검색 속도가 빠르다.)\n",
        "  - 해쉬는 키에 대한 중복 확인이 쉽다.\n",
        "- 단점\n",
        "  - 일반적으로 저장 공간이 좀 더 많이 필요하다.\n",
        "  - 여러 키에 해당하는 주소가 동일할 경우 충돌을 해결하기 위해 별도 자료구조가 필요하다.\n",
        "- 주요 용도\n",
        "  - 검색이 많이 필요한 경우\n",
        "  - 저장, 삭제, 읽기가 빈번한 경우\n",
        "  - 캐쉬 구현시(중복확인 쉽기 때문에)"
      ]
    },
    {
      "cell_type": "markdown",
      "metadata": {
        "id": "wPt9KIN3s-sN"
      },
      "source": [
        "### 5. 프로그래밍 연습"
      ]
    },
    {
      "cell_type": "code",
      "metadata": {
        "colab": {
          "base_uri": "https://localhost:8080/"
        },
        "id": "yfxutT6YtDbG",
        "outputId": "3ec09504-32e0-47d6-913c-1c3595c59284"
      },
      "source": [
        "hash('Dave')"
      ],
      "execution_count": null,
      "outputs": [
        {
          "output_type": "execute_result",
          "data": {
            "text/plain": [
              "432392204260100524"
            ]
          },
          "metadata": {},
          "execution_count": 11
        }
      ]
    },
    {
      "cell_type": "code",
      "metadata": {
        "colab": {
          "base_uri": "https://localhost:8080/",
          "height": 37
        },
        "id": "P1Gbh9KMtFM-",
        "outputId": "f900cdea-69f9-4b9a-b345-6c67688177a2"
      },
      "source": [
        "def hash_func (key) :\n",
        "  return key % 8\n",
        "\n",
        "def get_key (data) :\n",
        "  return hash(data)\n",
        "\n",
        "hash_table = list([i for i in range(8)])\n",
        "\n",
        "def save_data (data, value) :\n",
        "  key = get_key(data)\n",
        "  hash_address = hash_func(key)\n",
        "  hash_table[hash_address] = value\n",
        "\n",
        "def read_data (data) :\n",
        "  key = get_key(data)\n",
        "  hash_address = hash_func(key)\n",
        "  return hash_table[hash_address]\n",
        "\n",
        "save_data('Dave','1234')\n",
        "save_data('Andy','5678')\n",
        "read_data('Dave')"
      ],
      "execution_count": null,
      "outputs": [
        {
          "output_type": "execute_result",
          "data": {
            "application/vnd.google.colaboratory.intrinsic+json": {
              "type": "string"
            },
            "text/plain": [
              "'1234'"
            ]
          },
          "metadata": {},
          "execution_count": 13
        }
      ]
    },
    {
      "cell_type": "code",
      "metadata": {
        "colab": {
          "base_uri": "https://localhost:8080/"
        },
        "id": "lnSXYY_kuLqR",
        "outputId": "a14c5d74-8e34-49bc-d39c-1b2abaf84d86"
      },
      "source": [
        "hash_table"
      ],
      "execution_count": null,
      "outputs": [
        {
          "output_type": "execute_result",
          "data": {
            "text/plain": [
              "[0, 1, 2, 3, '1234', 5, '5678', 7]"
            ]
          },
          "metadata": {},
          "execution_count": 14
        }
      ]
    },
    {
      "cell_type": "markdown",
      "metadata": {
        "id": "aHogmUqhuatP"
      },
      "source": [
        "### 6. 충돌 해결 알고리즘\n",
        "\n",
        "1. Chaining 기법\n",
        "- 개방 해슁 또는 Open Hashing 기법 중 하나.- 충돌이 난 데이터에 대해 해쉬 테이블 저장공간 의외 공간을 활용하는 기법\n",
        "- 충돌이 일어나면, 링크드 리스트라는 자료 구조를 사용해서, 링크드 리스트로 데이터를 추가로 뒤에 연결시켜서 저장하는 기법(각 키별)\n",
        "\n",
        "2. Linear Probing 기법\n",
        "- 폐쇄 해슁 또는 Close Hashing 기법 중 하나.\n",
        "- 해쉬 테이블 저장공간 안에서 충돌 문제를 해결하는 기법\n",
        "- 충돌이 일어나면, 해당 hash address의 다음 address부터 맨 처음 나오는 빈 공간에 저장하는 기법\n",
        "  - 저장공간 활용도를 높이기 위한 기법\n",
        "\n",
        "3. 빈번한 충돌을 개선하는 기법\n",
        "- 해쉬 함수의 재정의 또는 저장공간 확대\n",
        "\n",
        "++ 해쉬 함수와 키 생성 함수\n",
        "- 파이썬의 hash() 함수는 실행할 때마다, 값이 달라질 수 있다.\n",
        "- 해쉬 함수 : SHA(안전한 해쉬 알고리즘)\n",
        "  - 어떤 데이터도 유일한 고정된 크기의 고정값을 리턴해주므로, 해쉬 함수로 유용하게 활용 가능\n",
        "  "
      ]
    },
    {
      "cell_type": "code",
      "metadata": {
        "colab": {
          "base_uri": "https://localhost:8080/"
        },
        "id": "pCLjVgLMvqB9",
        "outputId": "6a5df34c-3b62-4aae-898f-747936f7aa0b"
      },
      "source": [
        "# Chaining 기법\n",
        "def hash_func (key) :\n",
        "  return key % 8\n",
        "\n",
        "def get_key (data) :\n",
        "  return hash(data)\n",
        "\n",
        "hash_table = list([0]*8)\n",
        "\n",
        "def save_data (data, value) :\n",
        "  key = get_key(data)\n",
        "  hash_address = hash_func(key)\n",
        "\n",
        "  # 중복 데이터 검사\n",
        "  if hash_table[hash_address] != 0 : # 데이터가 있는 경우\n",
        "    for index in range(len(hash_table[hash_address])) :\n",
        "      # 기존에 이미 데이터가 있는 경우\n",
        "      if hash_table[hash_address][index][0] == key :\n",
        "        hash_table[hash_address][index][1] = value\n",
        "        return\n",
        "    # 데이터가 없는 경우\n",
        "    hash_table[hash_address].append([key, value])\n",
        "  else :\n",
        "    hash_table[hash_address] = [[key, value]]\n",
        "\n",
        "def read_data (data) :\n",
        "  key = get_key(data)\n",
        "  hash_address = hash_func(key)\n",
        "\n",
        "  if hash_table[hash_address] != 0 : # 데이터가 있는 경우\n",
        "    for index in range(len(hash_table[hash_address])) :\n",
        "      # 기존에 이미 데이터가 있는 경우\n",
        "      if hash_table[hash_address][index][0] == key :\n",
        "        return hash_table[hash_address][index][1]\n",
        "    return None\n",
        "  else :\n",
        "    return None\n",
        "\n",
        "save_data('David','1234')\n",
        "save_data('Dd','7777')\n",
        "save_data('Andy','5678')\n",
        "hash_table"
      ],
      "execution_count": null,
      "outputs": [
        {
          "output_type": "execute_result",
          "data": {
            "text/plain": [
              "[0,\n",
              " [[8213353935694951273, '7777']],\n",
              " 0,\n",
              " 0,\n",
              " 0,\n",
              " [[-5619503873453209275, '1234']],\n",
              " [[-9163804079596022442, '5678']],\n",
              " 0]"
            ]
          },
          "metadata": {},
          "execution_count": 27
        }
      ]
    },
    {
      "cell_type": "code",
      "metadata": {
        "colab": {
          "base_uri": "https://localhost:8080/",
          "height": 37
        },
        "id": "YfVAD-W7yDm_",
        "outputId": "7932c10b-5ad0-459f-a40d-69dac28e71d0"
      },
      "source": [
        "# Linear Probing 기법\n",
        "def hash_func (key) :\n",
        "  return key % 8\n",
        "\n",
        "def get_key (data) :\n",
        "  return hash(data)\n",
        "\n",
        "hash_table = list([0]*8)\n",
        "\n",
        "def save_data (data, value) :\n",
        "  key = get_key(data)\n",
        "  hash_address = hash_func(key)\n",
        "\n",
        "  # 중복 데이터 검사\n",
        "  if hash_table[hash_address] != 0 : # 데이터가 있는 경우\n",
        "    for index in range(hash_address, len(hash_table)) :\n",
        "      if hash_table[index] == 0 :\n",
        "        hash_table[index] = [key,value]\n",
        "        return\n",
        "      elif hash_table[index][0] == key :\n",
        "        hash_table[index][1] = value\n",
        "        return\n",
        "  else :\n",
        "    hash_table[hash_address] = [key, value]\n",
        "\n",
        "def read_data (data) :\n",
        "  key = get_key(data)\n",
        "  hash_address = hash_func(key)\n",
        "\n",
        "  # 중복 데이터 검사\n",
        "  if hash_table[hash_address] != 0 : # 데이터가 있는 경우\n",
        "    for index in range(hash_address, len(hash_table)) :\n",
        "      if hash_table[index][0] == key :\n",
        "        return hash_table[index][1]\n",
        "    return None\n",
        "  else :\n",
        "    return None\n",
        "\n",
        "save_data('David','1234')\n",
        "save_data('Dd','7777')\n",
        "save_data('Andy','5678')\n",
        "read_data('Dd')"
      ],
      "execution_count": null,
      "outputs": [
        {
          "output_type": "execute_result",
          "data": {
            "application/vnd.google.colaboratory.intrinsic+json": {
              "type": "string"
            },
            "text/plain": [
              "'7777'"
            ]
          },
          "metadata": {},
          "execution_count": 30
        }
      ]
    },
    {
      "cell_type": "code",
      "metadata": {
        "colab": {
          "base_uri": "https://localhost:8080/"
        },
        "id": "ObfHIKs114Nw",
        "outputId": "0fee6cd4-3773-44a5-8d97-9b9c81b3a94b"
      },
      "source": [
        "# SHA-1\n",
        "import hashlib\n",
        "\n",
        "data = 'test'.encode() # byte 형식으로 변경(Ecode)\n",
        "hash_object = hashlib.sha1()\n",
        "hash_object.update(b'test') # b'test' == 'test'.ecode()\n",
        "hex_dig = hash_object.hexdigest() # 16진수로 결과값 출력\n",
        "print(hex_dig)"
      ],
      "execution_count": null,
      "outputs": [
        {
          "output_type": "stream",
          "name": "stdout",
          "text": [
            "a94a8fe5ccb19ba61c4c0873d391e987982fbbd3\n"
          ]
        }
      ]
    },
    {
      "cell_type": "code",
      "metadata": {
        "colab": {
          "base_uri": "https://localhost:8080/"
        },
        "id": "qyFpS1Dv3sL4",
        "outputId": "3668b749-7fb6-4299-bafd-968ca15b5baf"
      },
      "source": [
        "# SHA-256\n",
        "import hashlib\n",
        "\n",
        "data = 'test'.encode() # byte 형식으로 변경(Ecode)\n",
        "hash_object = hashlib.sha256()\n",
        "hash_object.update(b'test') # b'test' == 'test'.ecode()\n",
        "hex_dig = hash_object.hexdigest() # 16진수로 결과값 출력\n",
        "print(hex_dig)"
      ],
      "execution_count": null,
      "outputs": [
        {
          "output_type": "stream",
          "name": "stdout",
          "text": [
            "9f86d081884c7d659a2feaa0c55ad015a3bf4f1b2b0b822cd15d6c15b0f00a08\n"
          ]
        }
      ]
    },
    {
      "cell_type": "code",
      "metadata": {
        "id": "Ij75gMh95BKO"
      },
      "source": [
        "# Chaining 기법 + SHA-256\n",
        "import hashlib\n",
        "def hash_func (key) :\n",
        "  return key % 8\n",
        "\n",
        "def get_key (data) :\n",
        "  hash_object = hashlib.sha256()\n",
        "  hash_object.update(data.encode()) # b'test' == 'test'.ecode()\n",
        "  hex_dig = hash_object.hexdigest() # 16진수로 결과값 출력\n",
        "  return int(hex_dig, 16) # 16진수를 int형으로 변경\n",
        "\n",
        "hash_table = list([0]*8)\n",
        "\n",
        "def save_data (data, value) :\n",
        "  key = get_key(data)\n",
        "  hash_address = hash_func(key)\n",
        "\n",
        "  # 중복 데이터 검사\n",
        "  if hash_table[hash_address] != 0 : # 데이터가 있는 경우\n",
        "    for index in range(len(hash_table[hash_address])) :\n",
        "      # 기존에 이미 데이터가 있는 경우\n",
        "      if hash_table[hash_address][index][0] == key :\n",
        "        hash_table[hash_address][index][1] = value\n",
        "        return\n",
        "    # 데이터가 없는 경우\n",
        "    hash_table[hash_address].append([key, value])\n",
        "  else :\n",
        "    hash_table[hash_address] = [[key, value]]\n",
        "\n",
        "def read_data (data) :\n",
        "  key = get_key(data)\n",
        "  hash_address = hash_func(key)\n",
        "\n",
        "  if hash_table[hash_address] != 0 : # 데이터가 있는 경우\n",
        "    for index in range(len(hash_table[hash_address])) :\n",
        "      # 기존에 이미 데이터가 있는 경우\n",
        "      if hash_table[hash_address][index][0] == key :\n",
        "        return hash_table[hash_address][index][1]\n",
        "    return None\n",
        "  else :\n",
        "    return None\n",
        "\n",
        "save_data('David','1234')\n",
        "save_data('Dd','7777')\n",
        "save_data('Andy','5678')\n",
        "hash_table"
      ],
      "execution_count": null,
      "outputs": []
    },
    {
      "cell_type": "markdown",
      "metadata": {
        "id": "RYbhuMhS5TW5"
      },
      "source": [
        "### 7. 시간복잡도\n",
        "- 일반적인 경우(충돌이 없는 경우) : O(1)\n",
        "- 최악의 경우(모든 데이터에서 충돌이 발생한 경우) : O(N)\n",
        "- 보통 충돌이 최대한 발생하지 않도록 사용하는 자료구조가 해쉬테이블이기 때문에 시간 복잡도는 O(1)이라고 할 수 있다."
      ]
    },
    {
      "cell_type": "code",
      "metadata": {
        "id": "PjwKaLRQ5BFZ"
      },
      "source": [
        ""
      ],
      "execution_count": null,
      "outputs": []
    },
    {
      "cell_type": "markdown",
      "metadata": {
        "id": "TmT0Y9GA6yCi"
      },
      "source": [
        "# Chapter 12. 트리"
      ]
    },
    {
      "cell_type": "markdown",
      "metadata": {
        "id": "3rv0yIlL7F5H"
      },
      "source": [
        "### 1. 트리(Tree) 구조\n",
        "- 트리 : Node의 Branch를 이용하서, 사이클을 이루지 않도록 구성한 데이터 구조\n",
        "- 이진트리(Binary Tree) 형태의 구조로, 탐색(검색) 알고리즘 구현을 위해 많이 사용된다.\n"
      ]
    },
    {
      "cell_type": "markdown",
      "metadata": {
        "id": "nwGGd3ol7Sd5"
      },
      "source": [
        "### 2. 알아둘 용어\n",
        "- 노드 : 트리에서 데이터를 저장하는 기본 요소\n",
        "- 루트 노드 : 트리 맨 위에 있는 노드\n",
        "- 레벨 : 노드의 깊이\n",
        "- 부모 노드 / 자식 노드\n",
        "- leaf 노드 : 자식 노드가 하나도 없는 노드\n",
        "- sibling : 동일한 부모 노드를 가지는 노드\n",
        "- depth : 트리의 높이"
      ]
    },
    {
      "cell_type": "markdown",
      "metadata": {
        "id": "BM629iJq8PUD"
      },
      "source": [
        "### 3. 이진트리와 이진탐색트리\n",
        "- 이진트리 : 노드의 최대 가지수가 2개\n",
        "- 이진탐색트리(BST) : 이진 트리에 다음과 같은 추가적인 조건이 있는 트리\n",
        "  - 왼쪽 노드는 해당 노드보다 작은 값, 오른쪽 노드는 해당 노드보다 큰 값을 가지고 있다."
      ]
    },
    {
      "cell_type": "markdown",
      "metadata": {
        "id": "csdkFxHr8rQ9"
      },
      "source": [
        "### 4. 자료 구조 이진 탐색 트리의 장점과 주요 용도\n",
        "- 데이터 검색(탐색) 시에 주요 사용\n",
        "- 장점 : 탐색 속도를 개선할 수 있다.\n"
      ]
    },
    {
      "cell_type": "markdown",
      "metadata": {
        "id": "UI5DtFSg9l6A"
      },
      "source": [
        "### 5. 파이썬 객체지향 프로그래밍으로 링크드 리스트 구현하기"
      ]
    },
    {
      "cell_type": "code",
      "metadata": {
        "id": "_eWVRQDK8OnX"
      },
      "source": [
        "# 5.1 노드 클래스 만들기\n",
        "class Node:\n",
        "  def __init__ (self, value) :\n",
        "    self.value = value\n",
        "    self.left = None\n",
        "    self.right = None"
      ],
      "execution_count": null,
      "outputs": []
    },
    {
      "cell_type": "code",
      "metadata": {
        "id": "SYRaDD1I99S8"
      },
      "source": [
        "# 5.2 이진 탐색 트리에 데이터 넣기\n",
        "\n",
        "class NodeMgnt :\n",
        "  def __init__ (self, head) :\n",
        "    self.head = head\n",
        "  \n",
        "  def insert (self, value) : # 추가\n",
        "    self.current_node = self.head\n",
        "    while True :\n",
        "      if value < self.current_node.value :\n",
        "        if self.current_node.left is None :\n",
        "          self.current_node.left = Node(value)\n",
        "          break\n",
        "        else :\n",
        "          self.current_node = self.current_node.left\n",
        "      else :\n",
        "        if self.current_node.right is None :\n",
        "          self.current_node.right = Node(value)\n",
        "          break\n",
        "        else :\n",
        "          self.current_node = self.current_node.right\n",
        "\n",
        "  # 탐색\n",
        "  def search (self, value) :\n",
        "    self.current_node = self.head\n",
        "    while self.current_node != None:\n",
        "      if self.current_node.value == value :\n",
        "        return True\n",
        "      elif self.current_node.value > value :\n",
        "        self.current_node = self.current_node.left\n",
        "      else :\n",
        "        self.current_code = self.current_node.right\n",
        "    return False\n",
        "\n",
        "  # 삭제\n",
        "head = Node(0)\n",
        "BST = NodeMgnt(head)"
      ],
      "execution_count": null,
      "outputs": []
    },
    {
      "cell_type": "code",
      "metadata": {
        "id": "i4v9hj6e_H5A"
      },
      "source": [
        "for index in range(1, 10) :\n",
        "  BST.insert(index)"
      ],
      "execution_count": null,
      "outputs": []
    },
    {
      "cell_type": "code",
      "metadata": {
        "id": "lmQQQiEpAGrj"
      },
      "source": [
        "BST.search(5)"
      ],
      "execution_count": null,
      "outputs": []
    },
    {
      "cell_type": "markdown",
      "metadata": {
        "id": "4dVuUc2TEe-O"
      },
      "source": [
        "### 6. 노드 삭제\n",
        "(1) leaf 노드인 경우\n",
        "- 해당 노드만 제거\n",
        "\n",
        "(2) 자식 노드가 하나만 있는 경우\n",
        "- 해당 노드 제거\n",
        "- 해당 노드의 자식 노드를 해당 노드의 부모 노드에 연결\n",
        "\n",
        "(3) 자식 노드가 두개 있는 경우\\\n",
        "[오른쪽 자식 노드의 가장 작은 자식 노드 선택]\n",
        "- 삭제할 Node의 오른쪽 자신 선택\n",
        "- 오른쪽 자신의 가장 왼쪽에 있는 Node를 선택\n",
        "- 해당 Node를 삭제할 Node의 parent node의 왼쪽 branch가 가리키게 한다.\n",
        "- 해당 Node의 왼쪽 branch가 삭제할 Node의 왼쪽 자식 노드를 가리키게 한다.\n",
        "- 해당 Node의 오른쪽 branch가 삭제할 node의 오른쪽 자식 노드를 가리키게 한다.\n",
        "- 해당 Node가 오른쪽 자식 노드를 가지고 있는 경우에는, 해당 Node의 본래 부모 노드의 왼쪽 브랜치가 해당 오른쪽 자식 노드를 가리키게 한다."
      ]
    },
    {
      "cell_type": "code",
      "metadata": {
        "id": "PNwDd_hdAIx8"
      },
      "source": [
        "# 삭제할 노드 탐색\n",
        "# - 삭제할 Node가 없는 경우도 처리해야 함\n",
        "# - 삭제할 Node가 없는 경우에는 False를 리턴하고, 함수를 종료\n",
        "\n",
        "def delete (self, value) :\n",
        "  searched = False\n",
        "  self.current_node = self.head\n",
        "  self.parent = self.parent\n",
        "\n",
        "  while self.current_node :\n",
        "    if self.current_node == value :\n",
        "      searched = True\n",
        "      break\n",
        "    elif value < self.current_node.value :\n",
        "      self.parent = self.current_node\n",
        "      self.current_node = self.current_node.left\n",
        "    else :\n",
        "      self.parent = self.current_node\n",
        "      self.current_node = self.current_node.right\n",
        "\n",
        "  # 삭제할 Node가 없는 경우\n",
        "  if searched == False :\n",
        "    return False\n",
        "\n",
        "  # 1. 삭제할 Node가 Leaf Node인 경우\n",
        "  if self.current_node.left == None and self.current_node.right == None :\n",
        "    if value < self.parent.value : # left child\n",
        "      self.parent.left = None\n",
        "    else : # right child\n",
        "      self.parent.right = None\n",
        "    del self.current_node\n",
        "  # 2. 삭제할 Node가 Child Node를 한개 가지고 있는 경우\n",
        "  if self.current_node.left != None and self.current_node.right == None :\n",
        "    if value < self.parent.value : # left child\n",
        "      self.parent.left = self.current_node.left\n",
        "    else : # right child\n",
        "      self.parent.right = self.current_node.left\n",
        "  elif self.current_node.left == None and self.current_node.right != None :\n",
        "    if value < self.parent.value : # left child\n",
        "      self.parent.left = self.current_node.right\n",
        "    else : # right child\n",
        "      self.parent.right = self.current_node.right\n",
        "  # 복잡한 경우에는 그림을 그려두고 푸는 방법을 활용하자!!\n",
        "  # 3. 삭제할 Node가 Child를 두개 가지고 있는 경우\n",
        "  # 전략\n",
        "  #   1. 삭제할 Node의 오른쪽 자식 중, 가장 작은 값을 삭제할 Node의 Parent Node가 가리키도록 한다.\n",
        "  #   2. 삭제할 Node의 왼쪽 자식 중, 가장 큰 값을 삭제할 Node의 Parent Node가 가리키도록 한다.\n",
        "  # 전략 1 사용\n",
        "  #   단, 삭제할 Node의 오른쪽 자식 중, 가장 작은 값을 가진 Node의 오른쪽 Child Node가 있는 경우 주의!!!\n",
        "  if self.current_node.left != None and self.current_node.right != None :\n",
        "    if value < self.parent.value : # left child\n",
        "      self.change_node = self.current_node.right\n",
        "      self.change_node_parent = self.current_node.right\n",
        "      while self.change_node.left != None:\n",
        "        self.change_node_parent = self.change_node\n",
        "        self.change_node = self.change_node.left\n",
        "      \n",
        "      if self.change_node.right != None :\n",
        "        self.change_node_parent.left = self.change_node.right\n",
        "      else :\n",
        "        self.change_node_parent.left = None\n",
        "\n",
        "      self.parent_node.left = self.change_node\n",
        "      self.change_node.right = self.current_node.right\n",
        "      self.change_node.left = self.current_node.left\n",
        "    \n",
        "    else : # right child\n",
        "      self.change_node = self.current_node.right\n",
        "      self.change_node_parent = self.current_node.right\n",
        "      while self.change_node.left != None:\n",
        "        self.change_node_parent = self.change_node\n",
        "        self.change_node = self.change_node.left\n",
        "      \n",
        "      if self.change_node.right != None :\n",
        "        self.change_node_parent.left = self.change_node.right\n",
        "      else :\n",
        "        self.change_node_parent.left = None\n",
        "\n",
        "      self.parent_node.right = self.change_node\n",
        "      self.change_node.right = self.current_node.right\n",
        "      self.change_node.left = self.current_node.left"
      ],
      "execution_count": null,
      "outputs": []
    },
    {
      "cell_type": "markdown",
      "metadata": {
        "id": "TxRYMZ3Kj8fZ"
      },
      "source": [
        "### 7. 파이썬 전체 코드 테스트"
      ]
    },
    {
      "cell_type": "code",
      "metadata": {
        "id": "fjFzo-w6Scil"
      },
      "source": [
        "# 1-1000 숫자 중에서 임의로 100개를 추출해서, 이진 탐색 트리에 입력, 검색\n",
        "import random\n",
        "\n",
        "bst_nums = set() # 중복된 값은 사용하지 않기 위해 집합 사용\n",
        "while len(bst_nums) != 100 :\n",
        "  bst_nums.add(random.randint(0,999))\n",
        "# print(bst_nums)\n",
        "\n",
        "# 선택된 100개의 숫자를 이진탐색트리에 입력, 임의로 루트노드는 500으로 설정\n",
        "head = Node(500)\n",
        "binary_tree = NodeMgnt(head)\n",
        "for num in bst_nums :\n",
        "  binary_tree.insert(num)"
      ],
      "execution_count": null,
      "outputs": []
    },
    {
      "cell_type": "code",
      "metadata": {
        "id": "7EJX_KIGk38s"
      },
      "source": [
        "# 입력한 100개의 숫자 검색 (검색 기능 확인)\n",
        "for num in bst_nums :\n",
        "  if binary_tree.search(num) == False :\n",
        "    print('search failed >>>',num)"
      ],
      "execution_count": null,
      "outputs": []
    },
    {
      "cell_type": "code",
      "metadata": {
        "id": "_5ZWnlATmEBo"
      },
      "source": [
        "# 10개의 숫자 랜덤 선택\n",
        "delete_nums = set()\n",
        "while len(delete_nums) != 10 :\n",
        "  delete_nums.add(bst_nums[random.randint(0,99)])\n",
        "\n",
        "# 선택한 10개의 숫자 삭제\n",
        "for del_num in delete_nums :\n",
        "  if binary_tree.delete(del_num) == False :\n",
        "    print('delete failed >>>', del_num)"
      ],
      "execution_count": null,
      "outputs": []
    },
    {
      "cell_type": "markdown",
      "metadata": {
        "id": "mN2CjMK9l9Nd"
      },
      "source": [
        "### 8. 이진 탐색 트리의 시간 복잡도의 단점\n",
        "1. 시간 복잡도(탐색시)\n",
        "- depth(트리의 높이)를 h라고 표기한다면 O(h)\n",
        "- n개의 노드를 가진다면, h = log2(n)에 가까우므로, 시간복잡도는 O(log2(n))\n",
        "\n",
        "2. 이진 탐색 트리의 단점\n",
        "- 최악의 경우(데이터가 한쪽으로 쏠려있는 경우)에는 링크드 리스트와 동일한 성능으로 동작한다. -> O(n)"
      ]
    },
    {
      "cell_type": "markdown",
      "metadata": {
        "id": "Ev78nF88pCdM"
      },
      "source": [
        ""
      ]
    },
    {
      "cell_type": "markdown",
      "metadata": {
        "id": "-kKKGJwNp3Xr"
      },
      "source": [
        "# Chapter 13. Heap\n"
      ]
    },
    {
      "cell_type": "markdown",
      "metadata": {
        "id": "aM1eg5a0qunv"
      },
      "source": [
        "### 1. Heap이란?\n",
        "- 데이터에서 최대값과 최소값을 빠르게 찾기 위해 고안된 완전 이진트리(Complete Binary Tree)\n",
        "  * 완전 이진 트리 : 노드를 삽입할 때, 최하단 왼쪽 노드부터 차례대로 삽입하는 트리\n",
        "\n",
        "- 힙을 사용하는 이유\n",
        "  * 배열에 데이터를 넣고 최대값과 최소값을 찾으려면 O(n)의 시간을 걸린다.\n",
        "  * 이에 반해, 힙에 데이터를 넣고, 최대값과 최소값을 찾으면, O(logn)의 시간이 걸린다.\n",
        "  * 우선순위 큐와 같이 최대값과 최소값을 빠르게 찾아야 하는 자료구조 및 알고리즘 구현 등에 활용된다."
      ]
    },
    {
      "cell_type": "markdown",
      "metadata": {
        "id": "BKm0YdAOrqnp"
      },
      "source": [
        "### 2. Heap 구조\n",
        "- 최대값을 구하기 위한 구조(최대heap)와, 최소값을 구하기 위한 구조(최소heap)로 분류할 수 있다.\n",
        "- 조건\n",
        "  * 각 노드의 값은 해당 노드의 자식 노드가 가진 값보다 크거나 같다.\n",
        "  * 최소heap의 경우는 자식 노드가 가진 값보다 작거나 같다.\n",
        "  * 완전 이진 트리의 형태를 가진다."
      ]
    },
    {
      "cell_type": "markdown",
      "metadata": {
        "id": "JlDP_l0TucMB"
      },
      "source": [
        "### 3. heap과 이진탐색트리의 공통점과 차이점\n",
        "- 공통점 : 힙과 이진탐색트리는 모두 이진트리이다.\n",
        "- 차이점\n",
        "  * 힙은 각 노드의 값이 자식 노드보다 크거나 같다.\n",
        "  * 이진탐색트리는 왼쪽 자식 노드 < 부모 노드 < 오른쪽 자식 노드\n",
        "  * 따라서 이진탐색트리는 반드시 왼쪽 자식노드 < 오른쪽 자식 노드이지만, 힙은 자식노드끼리의 크기는 비교하지 않는다.\n",
        "- 이진탐색트리는 탐색을 위한 구조, 힙은 최대/최소값 검색을 위한 구조 중 하나로 이해하면 된다."
      ]
    },
    {
      "cell_type": "markdown",
      "metadata": {
        "id": "rtEDPEYNv-Oa"
      },
      "source": [
        "### 4. heap 동작\n",
        "1. 힙에 데이터 삽입하기\n",
        "- 힙은 완전 이진트리이므로 삽입할 노드는 기본적으로 왼쪽 최하단부 노드부터 채워지는 형태로 삽입한다.\n",
        "- 삽입할 데이터가 힙의 데이터보다 클 경우\n",
        "  * 먼저 삽입된 데이터는 완전 이진트리 구조에 맞추어, 최하단부 왼쪽 노드부터 채워진다.\n",
        "  * 채워진 노드 위치에서, 부모 노드보다 클 경우, 부모 노드와 위치를 바꿔주는 작업을 반복한다.(swap)\n",
        "\n",
        "2. 힙에 데이터 삭제하기\n",
        "- 최상단 노드(root 노드)를 삭제하는 것이 일반적이다.\n",
        "- 삭제 후, 가장 최하단부 왼쪽에 위치한 노드(일반적으로 가장 마지막에 추가한 노드)를 root노드로 이동\n",
        "- root 노드의 값이 child node보다 작을 경우, root node의 child node 중 가장 큰 값을 가진 노드와 root 노드 위치를 바꿔주는 작업을 반복(swap)"
      ]
    },
    {
      "cell_type": "markdown",
      "metadata": {
        "id": "1kLHfvoFz5oA"
      },
      "source": [
        "### 5. heap 구현\n",
        "- 일반적으로 힙 구현 시 배열 자료구조를 활용한다.(완전이진트리의 형태를 하기 때문에)\n",
        "- 배열은 인덱스가 0번부터 시작하지만, 힙 구현의 편의를 위해, root 노드 인덱스 번호를 1로 지정하면, 구현이 좀 더 수월하다.\n",
        "  * parent node index = child node index // 2\n",
        "  * left child node index = parent node index * 2\n",
        "  * right child node index = parent node index * 2 + 1"
      ]
    },
    {
      "cell_type": "code",
      "metadata": {
        "id": "bQ9eRgm2qnFe"
      },
      "source": [
        "# Heap\n",
        "class Heap :\n",
        "  def __init__ (self, data) :\n",
        "    self.heap_array = list()\n",
        "    self.heap_array.append(None) # index 0\n",
        "    self.heap_array.append(data)\n",
        "\n",
        "  def insert (self, data) :\n",
        "    if len(self.heap_array) == 0 :\n",
        "      self.heap_array.append(None)\n",
        "      self.heap_array.append(data)\n",
        "      return True\n",
        "\n",
        "    self.heap_array.append(data)\n",
        "    inserted_idx = len(self.heap_array) - 1\n",
        "\n",
        "    while self.move_up(inserted_idx) :\n",
        "      parent_idx = inserted_idx // 2\n",
        "      self.heap_array[inserted_idx], self.heap_array[parent_idx] = self.heap_array[parent_idx], self.heap_array[inserted_idx]\n",
        "      inserted_idx = parent_idx\n",
        "    \n",
        "    return True\n",
        "\n",
        "  def move_up (self, inserted_idx) :\n",
        "    if inserted_idx == 1 : # inserted node == root node\n",
        "      return False\n",
        "    \n",
        "    parent_idx = inserted_idx // 2\n",
        "    if self.heap_array[parent_idx] < self.heap_array[inserted_idx] :\n",
        "      return True\n",
        "    else :\n",
        "      return False\n",
        "\n",
        "  def pop (self) :\n",
        "    if len(self.heap_array) < 2 :\n",
        "      return None\n",
        "    \n",
        "    result = self.heap_array[1]\n",
        "    self.heap_array[1] = self.heap_array[-1]\n",
        "    del self.heap_array[-1]\n",
        "\n",
        "    poped_idx = 1\n",
        "\n",
        "    while self.move_down(poped_idx) :\n",
        "      left_child = poped_idx * 2\n",
        "      right_child = poped_idx * 2 + 1\n",
        "\n",
        "      if right_child >= len(self.heap_array) :\n",
        "        # only has left child\n",
        "        if self.heap_array[poped_idx] < self.heap_array[left_child] :\n",
        "          self.heap_array[poped_idx], self.heap_array[left_child] = self.heap_array[left_child], self.heap_array[poped_idx]\n",
        "          poped_idx = left_child\n",
        "      else :\n",
        "        if self.heap_array[left_child] > self.heap_array[right_child] :\n",
        "          if self.heap_array[left_child] > self.heap_array[poped_idx] :\n",
        "            self.heap_array[poped_idx], self.heap_array[left_child] = self.heap_array[left_child], self.heap_array[poped_idx]\n",
        "            poped_idx = left_child\n",
        "        else :\n",
        "          if self.heap_array[right_child] > self.heap_array[poped_idx] :\n",
        "            self.heap_array[poped_idx], self.heap_array[right_child] = self.heap_array[right_child], self.heap_array[poped_idx]\n",
        "            poped_idx = right_child\n",
        "\n",
        "    return result\n",
        "\n",
        "  def move_down (self, poped_idx) :\n",
        "    left_child = poped_idx * 2\n",
        "    right_child = poped_idx * 2 + 1\n",
        "\n",
        "    # There isn't any child node\n",
        "    if left_child >= len(self.heap_array) :\n",
        "      return False\n",
        "    elif right_child >= len(self.heap_array) :\n",
        "      # only has left child\n",
        "      if self.heap_array[poped_idx] < self.heap_array[left_child] :\n",
        "        return True\n",
        "      else :\n",
        "        return False\n",
        "    else :\n",
        "      if self.heap_array[left_child] > self.heap_array[right_child] :\n",
        "        if self.heap_array[left_child] > self.heap_array[poped_idx] :\n",
        "          return True\n",
        "        else :\n",
        "          return False\n",
        "      else :\n",
        "        if self.heap_array[right_child] > self.heap_array[poped_idx] :\n",
        "          return True\n",
        "        else :\n",
        "          return False\n"
      ],
      "execution_count": null,
      "outputs": []
    },
    {
      "cell_type": "code",
      "metadata": {
        "colab": {
          "base_uri": "https://localhost:8080/"
        },
        "id": "ZYFak0br2CWX",
        "outputId": "92bb123f-1e54-4e7d-fc17-ddf6625e9854"
      },
      "source": [
        "heap = Heap(1)\n",
        "heap.heap_array"
      ],
      "execution_count": null,
      "outputs": [
        {
          "output_type": "execute_result",
          "data": {
            "text/plain": [
              "[None, 1]"
            ]
          },
          "metadata": {},
          "execution_count": 85
        }
      ]
    },
    {
      "cell_type": "code",
      "metadata": {
        "colab": {
          "base_uri": "https://localhost:8080/"
        },
        "id": "69JGuzEq2FF_",
        "outputId": "5b45e56e-008d-43ad-e770-6022b65f9750"
      },
      "source": [
        "heap = Heap(15)\n",
        "heap.insert(10)\n",
        "heap.insert(8)\n",
        "heap.insert(5)\n",
        "heap.insert(4)\n",
        "heap.insert(20)"
      ],
      "execution_count": null,
      "outputs": [
        {
          "output_type": "execute_result",
          "data": {
            "text/plain": [
              "True"
            ]
          },
          "metadata": {},
          "execution_count": 99
        }
      ]
    },
    {
      "cell_type": "code",
      "metadata": {
        "colab": {
          "base_uri": "https://localhost:8080/"
        },
        "id": "DhIVtAbg5kFJ",
        "outputId": "078134ea-7c96-42ec-c4a5-f73b9fe3c6d7"
      },
      "source": [
        "heap.heap_array"
      ],
      "execution_count": null,
      "outputs": [
        {
          "output_type": "execute_result",
          "data": {
            "text/plain": [
              "[None, 20, 10, 15, 5, 4, 8]"
            ]
          },
          "metadata": {},
          "execution_count": 100
        }
      ]
    },
    {
      "cell_type": "code",
      "metadata": {
        "colab": {
          "base_uri": "https://localhost:8080/"
        },
        "id": "dlLmYRNN5s_V",
        "outputId": "2c67e625-b8a5-4301-9c9a-b79b98011f2b"
      },
      "source": [
        "for num in range(7) :\n",
        "  print(heap.pop())"
      ],
      "execution_count": null,
      "outputs": [
        {
          "output_type": "stream",
          "name": "stdout",
          "text": [
            "20\n",
            "15\n",
            "10\n",
            "8\n",
            "5\n",
            "4\n",
            "None\n"
          ]
        }
      ]
    },
    {
      "cell_type": "markdown",
      "metadata": {
        "id": "9ZLfKBENJGeC"
      },
      "source": [
        "### 6. 시간복잡도\n",
        "- O(logn)"
      ]
    },
    {
      "cell_type": "code",
      "metadata": {
        "id": "XHG-FjxFFAqq"
      },
      "source": [
        ""
      ],
      "execution_count": null,
      "outputs": []
    }
  ]
}