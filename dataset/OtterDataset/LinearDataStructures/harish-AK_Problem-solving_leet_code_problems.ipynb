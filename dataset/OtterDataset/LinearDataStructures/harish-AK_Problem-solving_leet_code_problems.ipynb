{
 "cells": [
  {
   "cell_type": "code",
   "execution_count": 1,
   "id": "e94f563e-38a0-4232-8b94-03eac8d2f0d9",
   "metadata": {},
   "outputs": [
    {
     "name": "stdout",
     "output_type": "stream",
     "text": [
      "0 1\n",
      "0 4\n"
     ]
    }
   ],
   "source": [
    "# 1\n",
    "#  day 1\n",
    "# Easy\n",
    "# Topics\n",
    "# Companies\n",
    "# Hint\n",
    "# Given an array of integers nums and an integer target, return indices of the two numbers such that they add up to target.\n",
    "\n",
    "# You may assume that each input would have exactly one solution, and you may not use the same element twice.\n",
    "\n",
    "# You can return the answer in any order.\n",
    "# Example 1:\n",
    "\n",
    "# Input: nums = [2,7,11,15], target = 9\n",
    "# Output: [0,1]\n",
    "# Explanation: Because nums[0] + nums[1] == 9, we return [0, 1].\n",
    "\n",
    "b=[2,7,11,15,7]\n",
    "tar=9\n",
    "for i in range(len(b)-1):\n",
    "    for j in range(i+1,len(b)):\n",
    "        if b[i] + b[j] == tar:\n",
    "            print(i,j)\n",
    "        else:\n",
    "            pass\n",
    "\n"
   ]
  },
  {
   "cell_type": "code",
   "execution_count": 32,
   "id": "8de8555c-06db-48b0-b4ba-7294c654086e",
   "metadata": {},
   "outputs": [
    {
     "name": "stdout",
     "output_type": "stream",
     "text": [
      "False\n"
     ]
    }
   ],
   "source": [
    "# 2\n",
    "# day 2\n",
    "# Given an integer x, return true if x is a \n",
    "# palindrome, and false otherwise.\n",
    "\n",
    "# Example 1:\n",
    "\n",
    "# Input: x = 121\n",
    "# Output: true\n",
    "# Explanation: 121 reads as 121 from left to right and from right to left.\n",
    "\n",
    "x=10\n",
    "b=str(x)\n",
    "c=b[::-1] # : - start, : - step, : - end\n",
    "if b==b[::-1]:\n",
    "    print(True)\n",
    "else:\n",
    "    print(False)"
   ]
  },
  {
   "cell_type": "code",
   "execution_count": 23,
   "id": "96e035f5-f2ba-4adb-9374-4607d9d91f3c",
   "metadata": {},
   "outputs": [
    {
     "name": "stdout",
     "output_type": "stream",
     "text": [
      "[5, -1, 100, -10, 1000, -100, 1000]\n",
      "1994\n"
     ]
    }
   ],
   "source": [
    "# 3\n",
    "# day 2 2nd problem\n",
    "# Roman numerals are represented by seven different symbols: I, V, X, L, C, D and M.\n",
    "\n",
    "# Symbol       Value\n",
    "# I             1\n",
    "# V             5\n",
    "# X             10\n",
    "# L             50\n",
    "# C             100\n",
    "# D             500\n",
    "# M             1000\n",
    "# Example 2:\n",
    "\n",
    "# Input: s = \"LVIII\"\n",
    "# Output: 58\n",
    "# Explanation: L = 50, V= 5, III = 3.\n",
    "s = \"MCMXCIV\"\n",
    "l = []\n",
    "dic = {'I':1, 'V':5, 'X':10, 'L':50, 'C':100, 'D':500, 'M':1000}\n",
    "\n",
    "prev_val = 0\n",
    "\n",
    "for n in reversed(s): # reversed s = VICXMCM\n",
    "    val = dic[n] # in iteration 1 dic['V'] = 5, val = 5\n",
    "    \n",
    "    if val < prev_val: # 5 < 0 in iteration 1\n",
    "        l.append(-val) # -5\n",
    "    else:\n",
    "        l.append(val)\n",
    "    \n",
    "    prev_val = val # in iteration 1 prev_val = 5\n",
    "print(l)\n",
    "print(sum(l))\n"
   ]
  },
  {
   "cell_type": "code",
   "execution_count": 33,
   "id": "73b2b222-50c1-4f29-9424-1d06c231e9f4",
   "metadata": {},
   "outputs": [
    {
     "name": "stdout",
     "output_type": "stream",
     "text": [
      "2\n"
     ]
    }
   ],
   "source": [
    "#4\n",
    "# day 3\n",
    "# remove duplicates from sorted array\n",
    "# Given an integer array nums sorted in non-decreasing order, remove the duplicates in-place such that each unique element appears only once. \n",
    "# The relative order of the elements should be kept the same. Then return the number of unique elements in nums.\n",
    "\n",
    "# Consider the number of unique elements of nums to be k, to get accepted, you need to do the following things:\n",
    "\n",
    "# Change the array nums such that the first k elements of nums contain the unique elements in the order they were present in nums initially. \n",
    "# The remaining elements of nums are not important as well as the size of nums.\n",
    "# Return k.\n",
    "\n",
    "# Example 1:\n",
    "\n",
    "# Input: nums = [1,1,2]\n",
    "# Output: 2, nums = [1,2,_]\n",
    "# Explanation: Your function should return k = 2, with the first two elements of nums being 1 and 2 respectively.\n",
    "# It does not matter what you leave beyond the returned k (hence they are underscores).\n",
    "a=[1,1,2]\n",
    "left_poi = 1\n",
    "for right_poi in range(1,len(a)):\n",
    "    if a[right_poi] != a[right_poi - 1]:\n",
    "        a[left_poi] = a[right_poi] # if the previous value  is not equal to current one relplace the value of 'a' with the current one  \n",
    "        left_poi += 1\n",
    "print(left_poi)\n",
    "# this is an sorted array so that  we only need to check the previous number is same or not\n",
    "# this is 2 pointer algorithm"
   ]
  },
  {
   "cell_type": "code",
   "execution_count": 45,
   "id": "aa188081-fbaf-4b8b-b21b-02683f343875",
   "metadata": {},
   "outputs": [
    {
     "name": "stdout",
     "output_type": "stream",
     "text": [
      "['flight', 'flow', 'flower']\n",
      "\n",
      "\n",
      "\n",
      "\n",
      "fl\n"
     ]
    }
   ],
   "source": [
    "#5\n",
    "# day 5\n",
    "# LONGEST COMMON PREFIX\n",
    "# Example 1:\n",
    "\n",
    "# Input: strs = [\"flower\",\"flow\",\"flight\"]\n",
    "# Output: \"fl\"\n",
    "# Example 2:\n",
    "\n",
    "# Input: strs = [\"dog\",\"racecar\",\"car\"]\n",
    "# Output: \"\"\n",
    "# Explanation: There is no common prefix among the input strings.\n",
    "strs = [\"flower\",\"flow\",\"flight\"]\n",
    "v=sorted(strs) # ['flight','flow','flower']\n",
    "print(v)\n",
    "first=v[0] # flight\n",
    "last=v[-1] # flower\n",
    "ans=\"\"\n",
    "for i in range(min(len(first),len(last))): # min(len(first),len(last)) = 6 so for i in range(6)\n",
    "    if first[i] != last[i]: # checking 1st char of 1st and 1st char of last words \n",
    "        print(\"\")\n",
    "    else:\n",
    "        ans+=first[i]\n",
    "print(ans)"
   ]
  },
  {
   "cell_type": "code",
   "execution_count": 45,
   "id": "d76f55ee-cbe1-4d38-bad9-3cb6faaa8dc7",
   "metadata": {},
   "outputs": [
    {
     "name": "stdout",
     "output_type": "stream",
     "text": [
      "III\n"
     ]
    }
   ],
   "source": [
    "# 6\n",
    "# day 6\n",
    "# For example, 2 is written as II in Roman numeral, just two one's added together. 12 is written as XII, which is simply X + II. \n",
    "# The number 27 is written as XXVII, which is XX + V + II.\n",
    "# Example 1:\n",
    "\n",
    "# Input: num = 3\n",
    "# Output: \"III\"\n",
    "# Explanation: 3 is represented as 3 ones.\n",
    "# Example 2:\n",
    "\n",
    "# Input: num = 58\n",
    "# Output: \"LVIII\"\n",
    "# Explanation: L = 50, V = 5, III = 3.\n",
    "# Example 3:\n",
    "\n",
    "# Input: num = 1994\n",
    "# Output: \"MCMXCIV\"\n",
    "# Explanation: M = 1000, CM = 900, XC = 90 and IV = 4.\n",
    "\n",
    "# dic = {'I':1, 'V':5, 'X':10, 'L':50, 'C':100, 'D':500, 'M':1000}\n",
    "\n",
    "ones = [\"\", \"I\", \"II\", \"III\", \"IV\", \"V\", \"VI\", \"VII\", \"VIII\", \"IX\"]\n",
    "tens = [\"\", \"X\", \"XX\", \"XXX\", \"XL\", \"L\", \"LX\", \"LXX\", \"LXXX\", \"XC\"]\n",
    "hrns = [\"\", \"C\", \"CC\", \"CCC\", \"CD\", \"D\", \"DC\", \"DCC\", \"DCCC\", \"CM\"]\n",
    "ths = [\"\", \"M\", \"MM\", \"MMM\"]\n",
    "num=3\n",
    "print(ths[num // 1000] + hrns[(num % 1000) // 100] + tens[(num % 100) // 10] + ones[num % 10])"
   ]
  },
  {
   "cell_type": "code",
   "execution_count": 15,
   "id": "2175ec97-78c8-4bd4-81f6-a5345a48ef74",
   "metadata": {},
   "outputs": [
    {
     "name": "stdout",
     "output_type": "stream",
     "text": [
      "[2, 2] 2\n"
     ]
    }
   ],
   "source": [
    "# 7\n",
    "# day 7\n",
    "# Remove element\n",
    "# Given an integer array nums and an integer val, remove all occurrences of val in nums in-place. \n",
    "# The order of the elements may be changed. Then return the number of elements in nums which are not equal to val.\n",
    "# Example 1:\n",
    "\n",
    "# Input: nums = [3,2,2,3], val = 3\n",
    "# Output: 2, nums = [2,2,_,_]\n",
    "# Explanation: Your function should return k = 2, with the first two elements of nums being 2.\n",
    "# It does not matter what you leave beyond the returned k (hence they are underscores).\n",
    "# Example 2:\n",
    "\n",
    "# Input: nums = [0,1,2,2,3,0,4,2], val = 2\n",
    "# Output: 5, nums = [0,1,4,0,3,_,_,_]\n",
    "# Explanation: Your function should return k = 5, with the first five elements of nums containing 0, 0, 1, 3, and 4.\n",
    "# Note that the five elements can be returned in any order.\n",
    "# It does not matter what you leave beyond the returned k (hence they are underscores).\n",
    "\n",
    "n = [3,2,2,3]\n",
    "val = 3\n",
    "index = 0\n",
    "\n",
    "for i in range(len(n)): # from 0 to 4\n",
    "    if n[i] != val: # iteration 1 n[0] = 3 it will skip, iteration 2 n[1] = 2 \n",
    "        n[index] = n[i] #  n[index] wihich is 0 so n[0] = n[i](which is n[1] which is 2) it becomes n[index][0] = n[i][1] = 2, which will result n[0] = 2  \n",
    "        index += 1 # idex becomes 2\n",
    "\n",
    "n = n[:index]\n",
    "print(n,len(n))\n",
    "        "
   ]
  },
  {
   "cell_type": "code",
   "execution_count": 16,
   "id": "2cf90bba-a438-441d-9787-de8f380e52bf",
   "metadata": {},
   "outputs": [
    {
     "name": "stdout",
     "output_type": "stream",
     "text": [
      "-1\n"
     ]
    }
   ],
   "source": [
    "# 8\n",
    "# day 8\n",
    "# Find the index of the first occurrence in a string\n",
    "# Given two strings needle and haystack, return the index of the first occurrence of needle in haystack, or -1 if needle is not part of haystack.\n",
    "\n",
    "# Example 1:\n",
    "\n",
    "# Input: haystack = \"sadbutsad\", needle = \"sad\"\n",
    "# Output: 0\n",
    "# Explanation: \"sad\" occurs at index 0 and 6.\n",
    "# The first occurrence is at index 0, so we return 0\n",
    "\n",
    "hay = \"leetcode\"\n",
    "need = \"leeto\"\n",
    "res = []\n",
    "for index, ele in enumerate(hay):\n",
    "    if hay[index:index+len(need)] == need:\n",
    "        res.append(index)\n",
    "if len(res) == 0:\n",
    "    print(-1)\n",
    "else:\n",
    "    print(res)"
   ]
  },
  {
   "cell_type": "code",
   "execution_count": 6,
   "id": "18a1d2dd-d885-4ec2-864d-73a622b3c5b6",
   "metadata": {},
   "outputs": [
    {
     "name": "stdout",
     "output_type": "stream",
     "text": [
      "['fly', 'me', 'to', 'the', 'moon'] 4\n"
     ]
    }
   ],
   "source": [
    "# 9\n",
    "# day 9\n",
    "# Length of last word\n",
    "# Given a string s consisting of words and spaces, return the length of the last word in the string.# A word is a maximal  substring\n",
    "# consisting of non-space characters only.\n",
    "# Example 1:\n",
    "\n",
    "# Input: s = \"Hello World\"\n",
    "# Output: 5\n",
    "# Explanation: The last word is \"World\" with length 5.\n",
    "s = \"   fly me   to   the moon  \"\n",
    "b = s.split()\n",
    "print(b,len(b[-1]))"
   ]
  },
  {
   "cell_type": "code",
   "execution_count": 8,
   "id": "71e3fd9b-965d-495e-8f2a-ff4bb8f2fac2",
   "metadata": {},
   "outputs": [
    {
     "name": "stdout",
     "output_type": "stream",
     "text": [
      "5\n",
      "6\n",
      "7\n",
      "8\n",
      "9\n",
      "5\n"
     ]
    }
   ],
   "source": [
    "# 10\n",
    "# day 10\n",
    "# Search insert position\n",
    "# Given a sorted array of distinct integers and a target value, return the index if the target is found. \n",
    "# If not, return the index where it would be if it were inserted in order.\n",
    "\n",
    "# Example 1:\n",
    "\n",
    "# Input: nums = [1,3,5,6], target = 5\n",
    "# Output: 2\n",
    "# Example 2:\n",
    "\n",
    "# Input: nums = [1,3,5,6], target = 2\n",
    "# Output: 1\n",
    "a = [1,2,3,4,5]\n",
    "tar = 6\n",
    "for index,val in enumerate(a) :\n",
    "    if val == tar:\n",
    "        print(index)\n",
    "    else:\n",
    "        a.append(tar)\n",
    "b = sorted(a)\n",
    "print(a.index(tar))\n",
    "        "
   ]
  },
  {
   "cell_type": "code",
   "execution_count": 45,
   "id": "33c60b57-0754-4100-af83-ae43619489df",
   "metadata": {},
   "outputs": [
    {
     "name": "stdout",
     "output_type": "stream",
     "text": [
      "[1, 0, 0]\n"
     ]
    }
   ],
   "source": [
    "# 11\n",
    "# day 11\n",
    "# You are given a large integer represented as an integer array digits, where each digits[i] is the ith digit of the integer. \n",
    "# The digits are ordered from most significant to least significant in left-to-right order. The large integer does not contain any leading 0's\n",
    "\n",
    "# Example 1:\n",
    "# Input: digits = [1,2,3]\n",
    "# Output: [1,2,4]\n",
    "# Explanation: The array represents the integer 123.\n",
    "# Incrementing by one gives 123 + 1 = 124.\n",
    "# Thus, the result should be [1,2,4]\n",
    "\n",
    "digits = [9,9]\n",
    "for i in range(len(digits) - 1, -1, -1): # i will be len of list but in reverse order\n",
    "        if digits[i] < 9:\n",
    "            digits[i] += 1\n",
    "            print(digits)\n",
    "        digits[i] = 0\n",
    "\n",
    "digits = [0] + digits\n",
    "digits[0] = 1\n",
    "print(digits)"
   ]
  },
  {
   "cell_type": "code",
   "execution_count": 29,
   "id": "7819a15a-fadb-4f1b-ba71-e3707317c673",
   "metadata": {},
   "outputs": [
    {
     "name": "stdout",
     "output_type": "stream",
     "text": [
      "False\n"
     ]
    }
   ],
   "source": [
    "# 12\n",
    "# day 12\n",
    "# Valid paranthesis\n",
    "# Given a string s containing just the characters '(', ')', '{', '}', '[' and ']', determine if the input string is valid.\n",
    "\n",
    "# An input string is valid if:\n",
    "\n",
    "# Open brackets must be closed by the same type of brackets.\n",
    "# Open brackets must be closed in the correct order.\n",
    "# Every close bracket has a corresponding open bracket of the same type.\n",
    " \n",
    "# Example 1:\n",
    "# Input: s = \"()\"\n",
    "# Output: true\n",
    "l = []\n",
    "s = \"{}\"\n",
    "if len(s) >= 0:\n",
    "    \n",
    "    for i in s:\n",
    "        if i == '(':\n",
    "            l.append(i)\n",
    "        elif i == '{':\n",
    "            l.append(i)\n",
    "        elif i == '[':\n",
    "            l.append(i)\n",
    "        elif not l or l.pop() != i: # pop means it will pop last element\n",
    "            print(False)"
   ]
  },
  {
   "cell_type": "code",
   "execution_count": 19,
   "id": "4358c99c-bf2a-44da-b0b7-478e94f7f234",
   "metadata": {},
   "outputs": [
    {
     "name": "stdout",
     "output_type": "stream",
     "text": [
      "False\n"
     ]
    }
   ],
   "source": [
    "# 13\n",
    "# Valid palindrome (String)\n",
    "# A phrase is a palindrome if, after converting all uppercase letters into lowercase letters and \n",
    "# removing all non-alphanumeric characters, it reads the same forward and backward. \n",
    "# Alphanumeric characters include letters and numbers.Given a string s, \n",
    "# return true if it is a palindrome, or false otherwise.\n",
    "\n",
    "# Example 1:\n",
    "# Input: s = \"A man, a plan, a canal: Panama\"\n",
    "# Output: true\n",
    "# Explanation: \"amanaplanacanalpanama\" is a palindrome.\n",
    "\n",
    "# Example 2:\n",
    "# Input: s = \"race a car\"\n",
    "# Output: false\n",
    "# Explanation: \"raceacar\" is not a palindrome.\n",
    "import re\n",
    "s = '0P'\n",
    "s = s.lower()\n",
    "s = re.sub(r'[^a-z0-9]', '',s) # [^a-z] chars that are not from a-z, ''(replace with an empty string), s-given string\n",
    "\n",
    "if s == s[::-1]:\n",
    "    print(True)\n",
    "else:\n",
    "    print(False)"
   ]
  },
  {
   "cell_type": "code",
   "execution_count": 21,
   "id": "fea0c2bd-e463-4863-9f57-98bbbf83336b",
   "metadata": {},
   "outputs": [
    {
     "name": "stdout",
     "output_type": "stream",
     "text": [
      "4\n"
     ]
    }
   ],
   "source": [
    "# 14\n",
    "\n",
    "# Single number\n",
    "# Given a non-empty array of integers nums, every element appears twice except for one. Find that single one.\n",
    "# You must implement a solution with a linear runtime complexity and use only constant extra space.\n",
    "\n",
    "# Example 1:\n",
    "# Input: nums = [2,2,1]\n",
    "# Output: 1\n",
    "\n",
    "# Example 2:\n",
    "# Input: nums = [4,1,2,1,2]\n",
    "# Output: 4\n",
    "from collections import Counter\n",
    "nums = [4,1,2,1,2]\n",
    "a = Counter(nums)\n",
    "for ind,val in a.items():\n",
    "    if val == 1:\n",
    "        print(ind)\n",
    "    else:\n",
    "        continue"
   ]
  },
  {
   "cell_type": "code",
   "execution_count": 18,
   "id": "ea237b8f-5c06-4168-98f5-2b98082f76ec",
   "metadata": {},
   "outputs": [
    {
     "data": {
      "text/plain": [
       "2"
      ]
     },
     "execution_count": 18,
     "metadata": {},
     "output_type": "execute_result"
    }
   ],
   "source": [
    "# 15\n",
    "# Given a non-negative integer x, return the square root of x rounded down to the nearest integer. \n",
    "# The returned integer should be non-negative as well\n",
    "# You must not use any built-in exponent function or operator.\n",
    "# For example, do not use pow(x, 0.5) in c++ or x ** 0.5 in python.\n",
    " \n",
    "# Example 1:\n",
    "# Input: x = 4\n",
    "# Output: 2\n",
    "# Explanation: The square root of 4 is 2, so we return 2.\n",
    "def mySqrt(x):\n",
    "        if x == 0:\n",
    "            return 0\n",
    "        first, last = 1, x\n",
    "        while first <= last:\n",
    "            mid = first + (last - first) // 2\n",
    "            if mid == x // mid:\n",
    "                return mid\n",
    "            elif mid > x // mid:\n",
    "                last = mid - 1\n",
    "            else:\n",
    "                first = mid + 1\n",
    "        return last\n",
    "mySqrt(8)"
   ]
  },
  {
   "cell_type": "code",
   "execution_count": 24,
   "id": "059bae26",
   "metadata": {},
   "outputs": [
    {
     "data": {
      "text/plain": [
       "True"
      ]
     },
     "execution_count": 24,
     "metadata": {},
     "output_type": "execute_result"
    }
   ],
   "source": [
    "# 16\n",
    "# Power of 2\n",
    "# Given an integer n, return true if it is a power of two. Otherwise, return false.\n",
    "# An integer n is a power of two, if there exists an integer x such that n == 2x.\n",
    "\n",
    "# Example 1:\n",
    "# Input: n = 1\n",
    "# Output: true\n",
    "# Explanation: 20 = 1\n",
    "\n",
    "\n",
    "def isPowerOfTwo(n):\n",
    "        return n and not (n&n-1)\n",
    "isPowerOfTwo(2)\n",
    "# Suppose n = 8. The binary representation of n is 1000, and the binary representation of n - 1 is 0111. \n",
    "# When we perform a bitwise AND operation between n and n - 1, we get 0000, which means they have no common set bits. Therefore, n is a power of 2."
   ]
  },
  {
   "cell_type": "code",
   "execution_count": 23,
   "id": "560e0245",
   "metadata": {},
   "outputs": [
    {
     "data": {
      "text/plain": [
       "[1, 3, 12, 0, 0]"
      ]
     },
     "execution_count": 23,
     "metadata": {},
     "output_type": "execute_result"
    }
   ],
   "source": [
    "# 17\n",
    "# move zeros\n",
    "# Given an integer array nums, move all 0's to the end of it while maintaining the relative order of the non-zero elements.\n",
    "# Note that you must do this in-place without making a copy of the array.\n",
    "\n",
    "# Example 1:\n",
    "# Input: nums = [0,1,0,3,12]\n",
    "# Output: [1,3,12,0,0]\n",
    "\n",
    "nums = [0,1,0,3,12]\n",
    "j = 0    \n",
    "# Iterate through the array with pointer i\n",
    "for i in range(len(nums)):\n",
    "    # If the current element is not zero\n",
    "    if nums[i] != 0:\n",
    "        # Swap the current element with the element at position j\n",
    "        nums[i], nums[j] = nums[j], nums[i]\n",
    "        # Increment pointer j to prepare for the next non-zero element placement\n",
    "        j += 1\n",
    "nums"
   ]
  },
  {
   "cell_type": "code",
   "execution_count": null,
   "id": "435f94a1",
   "metadata": {},
   "outputs": [],
   "source": [
    "#18\n",
    "# sqrt of x\n",
    "# Given a non-negative integer x, return the square root of x rounded down to the nearest integer. The returned integer should be non-negative as well.\n",
    "# You must not use any built-in exponent function or operator.\n",
    "# For example, do not use pow(x, 0.5) in c++ or x ** 0.5 in python.\n",
    " \n",
    "# Example 1:\n",
    "# Input: x = 4\n",
    "# Output: 2\n",
    "# Explanation: The square root of 4 is 2, so we return 2.\n",
    "if x == 0:\n",
    "    print(0)\n",
    "first, last = 1, x\n",
    "while first <= last:\n",
    "    mid = first + (last - first) // 2\n",
    "    if mid == x // mid:\n",
    "        print(mid)\n",
    "    elif mid > x // mid:\n",
    "        last = mid - 1\n",
    "    else:\n",
    "        first = mid + 1\n",
    "print(last)"
   ]
  },
  {
   "cell_type": "code",
   "execution_count": 5,
   "id": "0743ff2f",
   "metadata": {},
   "outputs": [
    {
     "name": "stdout",
     "output_type": "stream",
     "text": [
      "[2]\n"
     ]
    }
   ],
   "source": [
    "# 19\n",
    "# Given two integer arrays nums1 and nums2, return an array of their intersection. Each element in the result must be unique \n",
    "# and you may return the result in any order.\n",
    "\n",
    "# Example 1:\n",
    "# Input: nums1 = [1,2,2,1], nums2 = [2,2]\n",
    "# Output: [2]\n",
    "\n",
    "# Example 2:\n",
    "# Input: nums1 = [4,9,5], nums2 = [9,4,9,8,4]\n",
    "# Output: [9,4]\n",
    "# Explanation: [4,9] is also accepted.\n",
    "a = [1,2,2,1]\n",
    "b = [2,2]\n",
    "print(list(set(a).intersection(set(b))))"
   ]
  },
  {
   "cell_type": "code",
   "execution_count": 13,
   "id": "c1a86a06",
   "metadata": {},
   "outputs": [
    {
     "name": "stdout",
     "output_type": "stream",
     "text": [
      "1\n"
     ]
    }
   ],
   "source": [
    "# 20\n",
    "# Add digits\n",
    "# Given an integer num, repeatedly add all its digits until the result has only one digit, and return it.\n",
    "\n",
    "# Example 1:\n",
    "# Input: num = 38\n",
    "# Output: 2\n",
    "# Explanation: The process is\n",
    "# 38 --> 3 + 8 --> 11\n",
    "# 11 --> 1 + 1 --> 2 \n",
    "# Since 2 has only one digit, return it.\n",
    "a = 10\n",
    "b = str(a)\n",
    "while a>=10:\n",
    "    b = str(a)\n",
    "    a = sum(int(i) for i in b)\n",
    "print(a)\n",
    "\n",
    "    "
   ]
  },
  {
   "cell_type": "code",
   "execution_count": 27,
   "id": "96cb67ef",
   "metadata": {},
   "outputs": [
    {
     "name": "stdout",
     "output_type": "stream",
     "text": [
      "True\n"
     ]
    }
   ],
   "source": [
    "# 21 \n",
    "# Contains duplicate\n",
    "# Given an integer array nums, return true if any value appears at least twice in the array, and return false if every element is distinct.\n",
    "\n",
    "# Example 1:\n",
    "# Input: nums = [1,2,3,1]\n",
    "# Output: true\n",
    "\n",
    "# Example 2:\n",
    "# Input: nums = [1,2,3,4]\n",
    "# Output: false\n",
    "nums = [1,2,3,1]\n",
    "if len(nums) > len(set(nums)):\n",
    "    print(True)\n",
    "else:\n",
    "    print(False)"
   ]
  },
  {
   "cell_type": "code",
   "execution_count": 39,
   "id": "9ff7c41a",
   "metadata": {},
   "outputs": [
    {
     "name": "stdout",
     "output_type": "stream",
     "text": [
      "True\n"
     ]
    }
   ],
   "source": [
    "# 22\n",
    "# Valid Anagram\n",
    "# Given two strings s and t, return true if t is an anagram of s, and false otherwise.\n",
    "# An Anagram is a word or phrase formed by rearranging the letters of a different word or phrase, typically using all the original letters exactly once.\n",
    "\n",
    "# Example 1:\n",
    "# Input: s = \"anagram\", t = \"nagaram\"\n",
    "# Output: true\n",
    "    \n",
    "# Example 2:\n",
    "# Input: s = \"rat\", t = \"car\"\n",
    "s = \"rac\"\n",
    "t = \"car\"\n",
    "if sorted(s) == sorted(t):\n",
    "    print(True)\n",
    "else:\n",
    "    print(False)"
   ]
  },
  {
   "cell_type": "code",
   "execution_count": 13,
   "id": "4ac21537",
   "metadata": {},
   "outputs": [
    {
     "name": "stdout",
     "output_type": "stream",
     "text": [
      "Word: eat\n",
      "Sorted Word: aet\n",
      "Anagrams: {'aet': ['eat']}\n",
      "\n",
      "Word: tea\n",
      "Sorted Word: aet\n",
      "Anagrams: {'aet': ['eat', 'tea']}\n",
      "\n",
      "Word: tan\n",
      "Sorted Word: ant\n",
      "Anagrams: {'aet': ['eat', 'tea'], 'ant': ['tan']}\n",
      "\n",
      "Word: ate\n",
      "Sorted Word: aet\n",
      "Anagrams: {'aet': ['eat', 'tea', 'ate'], 'ant': ['tan']}\n",
      "\n",
      "Word: nat\n",
      "Sorted Word: ant\n",
      "Anagrams: {'aet': ['eat', 'tea', 'ate'], 'ant': ['tan', 'nat']}\n",
      "\n",
      "Word: bat\n",
      "Sorted Word: abt\n",
      "Anagrams: {'aet': ['eat', 'tea', 'ate'], 'ant': ['tan', 'nat'], 'abt': ['bat']}\n",
      "\n",
      "Final Output: [['eat', 'tea', 'ate'], ['tan', 'nat'], ['bat']]\n"
     ]
    }
   ],
   "source": [
    "# 23\n",
    "# Group Anagrams\n",
    "# Given an array of strings strs, group the anagrams together. You can return the answer in any order.\n",
    "# An Anagram is a word or phrase formed by rearranging the letters of a different word or phrase, typically using all the original letters exactly once.\n",
    "\n",
    "# Example 1:\n",
    "# Input: strs = [\"eat\",\"tea\",\"tan\",\"ate\",\"nat\",\"bat\"]\n",
    "# Output: [[\"bat\"],[\"nat\",\"tan\"],[\"ate\",\"eat\",\"tea\"]]\n",
    "\n",
    "# Example 2:\n",
    "# Input: strs = [\"\"]\n",
    "# Output: [[\"\"]]\n",
    "from collections import defaultdict\n",
    "\n",
    "# Input list of strings\n",
    "strs = [\"eat\", \"tea\", \"tan\", \"ate\", \"nat\", \"bat\"]\n",
    "\n",
    "# Create a defaultdict to store anagrams\n",
    "anagrams = defaultdict(list)\n",
    "\n",
    "# Iterate over each word in the input list\n",
    "for word in strs:\n",
    "    # Sort the characters in the word and join them back into a string\n",
    "    sorted_word = ''.join(sorted(word))\n",
    "    # Append the original word to the list corresponding to its sorted version\n",
    "    anagrams[sorted_word].append(word)\n",
    "\n",
    "    # Print the values of variables in each iteration\n",
    "    print(\"Word:\", word)\n",
    "    print(\"Sorted Word:\", sorted_word) # first occurance will be added as key a new occurance will be added as key else value \n",
    "    print(\"Anagrams:\", dict(anagrams))\n",
    "    print()\n",
    "\n",
    "# Output the grouped anagrams\n",
    "output = list(anagrams.values())\n",
    "print(\"Final Output:\", output)"
   ]
  },
  {
   "cell_type": "code",
   "execution_count": 37,
   "id": "694d2eac",
   "metadata": {},
   "outputs": [
    {
     "name": "stdout",
     "output_type": "stream",
     "text": [
      "[(1, 3), (2, 2)]\n",
      "[1, 2]\n"
     ]
    }
   ],
   "source": [
    "# 24 \n",
    "# Top K frequent elements\n",
    "# Given an integer array nums and an integer k, return the k most frequent elements. You may return the answer in any order.\n",
    "\n",
    "# Example 1:\n",
    "# Input: nums = [1,1,1,2,2,3], k = 2\n",
    "# Output: [1,2]  Cause 1 and 2 are the 2 most frequent elements appears in the array\n",
    "\n",
    "# Example 2:\n",
    "# Input: nums = [1], k = 1\n",
    "# Output: [1]\n",
    "from collections import Counter\n",
    "n = [1,1,1,2,2,3,]\n",
    "k = 2\n",
    "r = Counter(n)\n",
    "l = []\n",
    "res = r.most_common(k)\n",
    "print(res)\n",
    "for i,j in res:\n",
    "    l.append(i)\n",
    "print(l)"
   ]
  },
  {
   "cell_type": "code",
   "execution_count": 14,
   "id": "bcbf0022",
   "metadata": {},
   "outputs": [
    {
     "name": "stdout",
     "output_type": "stream",
     "text": [
      "[24, 12, 8, 6]\n"
     ]
    }
   ],
   "source": [
    "# 25 product of array except self\n",
    "# Given an integer array nums, return an array answer such that answer[i] is equal to the product of all the elements of nums except nums[i].\n",
    "# The product of any prefix or suffix of nums is guaranteed to fit in a 32-bit integer.\n",
    "# You must write an algorithm that runs in O(n) time and without using the division operation.\n",
    "\n",
    "# Example 1:\n",
    "# Input: nums = [1,2,3,4]\n",
    "# Output: [24,12,8,6]\n",
    "\n",
    "# Explanation:\n",
    "# For the element at index 0 (value 1), the product of all other elements is 2 * 3 * 4 = 24.\n",
    "# For the element at index 1 (value 2), the product of all other elements is 1 * 3 * 4 = 12.\n",
    "# For the element at index 2 (value 3), the product of all other elements is 1 * 2 * 4 = 8.\n",
    "# For the element at index 3 (value 4), the product of all other elements is 1 * 2 * 3 = 6.\n",
    "\n",
    "a = [1, 2, 3, 4]\n",
    "result = []\n",
    "for i in range(len(a)):\n",
    "    removed_value = a.pop(i)\n",
    "    multiply_result = 1\n",
    "    for num in a:\n",
    "        multiply_result *= num\n",
    "    result.append(multiply_result)\n",
    "    a.insert(i, removed_value)\n",
    "\n",
    "print(result)\n"
   ]
  },
  {
   "cell_type": "code",
   "execution_count": 34,
   "id": "7afcd145",
   "metadata": {},
   "outputs": [
    {
     "name": "stdout",
     "output_type": "stream",
     "text": [
      "4\n"
     ]
    }
   ],
   "source": [
    "# 26\n",
    "# Longest commmon sequence\n",
    "# Given an unsorted array of integers nums, return the length of the longest consecutive elements sequence.\n",
    "# You must write an algorithm that runs in O(n) time.\n",
    "\n",
    "# Example 1:\n",
    "# Input: nums = [100,4,200,1,3,2]\n",
    "# Output: 4\n",
    "# Explanation: The longest consecutive elements sequence is [1, 2, 3, 4]. Therefore its length is 4.\n",
    "\n",
    "# Example 2:\n",
    "# Input: nums = [0,3,7,2,5,8,4,6,0,1]\n",
    "# Output: 9\n",
    "\n",
    "a = [100, 4, 200, 1, 3, 2]\n",
    "a = set(a) # this will sort\n",
    "out = 0\n",
    "for i in a: # 1,2,3,4,100,200\n",
    "    if i-1 not in a:\n",
    "        st = i\n",
    "        while st in a:\n",
    "            st += 1\n",
    "        out = max(out,st-i)\n",
    "print(out)"
   ]
  },
  {
   "cell_type": "code",
   "execution_count": 8,
   "id": "d499cd93",
   "metadata": {},
   "outputs": [
    {
     "name": "stdout",
     "output_type": "stream",
     "text": [
      "[1, 2]\n"
     ]
    }
   ],
   "source": [
    "# 27\n",
    "# 2 sum II\n",
    "# Given a 1-indexed array of integers numbers that is already sorted in non-decreasing order, find two numbers such that they add up to a specific target number. Let these two numbers be numbers[index1] and numbers[index2] where 1 <= index1 < index2 <= numbers.length.\n",
    "# Return the indices of the two numbers, index1 and index2, added by one as an integer array [index1, index2] of length 2.\n",
    "# The tests are generated such that there is exactly one solution. You may not use the same element twice.\n",
    "# Your solution must use only constant extra space.\n",
    "\n",
    "# Example 1:\n",
    "# Input: numbers = [2,7,11,15], target = 9\n",
    "# Output: [1,2]\n",
    "# Explanation: The sum of 2 and 7 is 9. Therefore, index1 = 1, index2 = 2. We return [1, 2].\n",
    "\n",
    "# Example 2:\n",
    "# Input: numbers = [2,3,4], target = 6\n",
    "# Output: [1,3]\n",
    "# Explanation: The sum of 2 and 4 is 6. Therefore index1 = 1, index2 = 3. We return [1, 3].\n",
    "\n",
    "a = [2, 7, 11, 15]\n",
    "tar = 9\n",
    "l = 0\n",
    "r = len(a) - 1\n",
    "\n",
    "while l <= r:\n",
    "    total_sum = a[l] + a[r]\n",
    "    if total_sum == tar:\n",
    "        print([l+1, r+1])  # Adding 1 to indices to convert from 0-indexed to 1-indexed\n",
    "        break\n",
    "    elif total_sum < tar:\n",
    "        l = l + 1\n",
    "    else:\n",
    "        r = r - 1\n",
    "\n",
    "if l > r:  # If no pair is found, print an empty list\n",
    "    print([])\n"
   ]
  },
  {
   "cell_type": "code",
   "execution_count": 4,
   "id": "72db9850",
   "metadata": {},
   "outputs": [
    {
     "name": "stdout",
     "output_type": "stream",
     "text": [
      "[(-1, 0, 1), (-1, -1, 2)]\n"
     ]
    }
   ],
   "source": [
    "# 28\n",
    "# 3 Sum\n",
    "# Given an integer array nums, return all the triplets [nums[i], nums[j], nums[k]] such that i != j, i != k, and j != k, and nums[i] + nums[j] + nums[k] == 0.\n",
    "# Notice that the solution set must not contain duplicate triplets.\n",
    "\n",
    "# Example 1:\n",
    "# Input: nums = [-1,0,1,2,-1,-4]\n",
    "# Output: [[-1,-1,2],[-1,0,1]]\n",
    "# Explanation: \n",
    "# nums[0] + nums[1] + nums[2] = (-1) + 0 + 1 = 0.\n",
    "# nums[1] + nums[2] + nums[4] = 0 + 1 + (-1) = 0.\n",
    "# nums[0] + nums[3] + nums[4] = (-1) + 2 + (-1) = 0.\n",
    "# The distinct triplets are [-1,0,1] and [-1,-1,2].\n",
    "# Notice that the order of the output and the order of the triplets does not matter.\n",
    "\n",
    "# Example 2:\n",
    "# Input: nums = [0,1,1]\n",
    "# Output: []\n",
    "# Explanation: The only possible triplet does not sum up to 0\n",
    "a = [-1, 0, 1, 2, -1, -4]\n",
    "tar = 0\n",
    "a.sort()\n",
    "s = set()\n",
    "res = []\n",
    "\n",
    "for i in range(len(a) - 2):\n",
    "    left = i + 1\n",
    "    right = len(a) - 1\n",
    "\n",
    "    while left < right:\n",
    "        su = a[i] + a[left] + a[right]\n",
    "\n",
    "        if su == tar:\n",
    "            s.add((a[i], a[left], a[right]))\n",
    "            left += 1\n",
    "            right -= 1\n",
    "        elif su < tar:\n",
    "            left += 1\n",
    "        else:\n",
    "            right -= 1\n",
    "\n",
    "res = list(s)\n",
    "print(res)"
   ]
  },
  {
   "cell_type": "code",
   "execution_count": null,
   "id": "30e3423f",
   "metadata": {},
   "outputs": [],
   "source": [
    "# 29\n",
    "# tapping rain water\n",
    "# Given n non-negative integers representing an elevation map where the width of each bar is 1, \n",
    "# compute how much water it can trap after raining.\n",
    "\n",
    "# Example 1:\n",
    "# Input: height = [0,1,0,2,1,0,1,3,2,1,2,1]\n",
    "# Output: 6\n",
    "# Explanation: The above elevation map (black section) is represented by array\n",
    "height = [0,1,0,2,1,0,1,3,2,1,2,1]\n",
    "left,right = 0, len(height)-1\n",
    "leftmax,rightmax = height[left], height[right]\n",
    "res = 0\n",
    "while left<right:\n",
    "    if leftmax < rightmax:\n",
    "        left += 1\n",
    "        leftmax = max(leftmax,height[left])\n",
    "        res += leftmax - height[left]\n",
    "    else:\n",
    "        right -= 1\n",
    "        rightmax = max(rightmax,height[right])\n",
    "        res  += rightmax - height[right]\n",
    "print(res)\n",
    "    "
   ]
  },
  {
   "cell_type": "code",
   "execution_count": 2,
   "id": "faf02a8e",
   "metadata": {},
   "outputs": [
    {
     "name": "stdout",
     "output_type": "stream",
     "text": [
      "Original Linked List:\n",
      "1 2 3 4 5 \n",
      "Reversed Linked List:\n",
      "5 4 3 2 1 \n"
     ]
    }
   ],
   "source": [
    "# 30\n",
    "# Reverse linked list\n",
    "# input is [1,2,3,4,5]\n",
    "# output is [5,4,3,2,1]\n",
    "class Node:\n",
    "    def __init__(self, data):\n",
    "        self.data = data\n",
    "        self.next = None\n",
    "\n",
    "class LinkedList:\n",
    "    \n",
    "    def __init__(self):\n",
    "        self.head = None\n",
    "\n",
    "    def insert(self, data):\n",
    "        new_node = Node(data)\n",
    "        if self.head is None:\n",
    "            self.head = new_node\n",
    "            return\n",
    "        last = self.head\n",
    "        while last.next:\n",
    "            last = last.next\n",
    "        last.next = new_node\n",
    "\n",
    "    def reverse(self):\n",
    "        prev, curr = None, self.head\n",
    "        while curr:\n",
    "            nxt = curr.next\n",
    "            curr.next = prev\n",
    "            prev = curr\n",
    "            curr = nxt\n",
    "        self.head = prev\n",
    "\n",
    "    def printList(self):\n",
    "        current = self.head\n",
    "        while current:\n",
    "            print(current.data, end=\" \")\n",
    "            current = current.next\n",
    "        print()\n",
    "\n",
    "# Example usage:\n",
    "ll = LinkedList()\n",
    "ll.insert(1)\n",
    "ll.insert(2)\n",
    "ll.insert(3)\n",
    "ll.insert(4)\n",
    "ll.insert(5)\n",
    "\n",
    "print(\"Original Linked List:\")\n",
    "ll.printList()\n",
    "\n",
    "ll.reverse()\n",
    "\n",
    "print(\"Reversed Linked List:\")\n",
    "ll.printList()\n"
   ]
  },
  {
   "cell_type": "code",
   "execution_count": 1,
   "id": "61b18ff3",
   "metadata": {},
   "outputs": [],
   "source": [
    "# 31\n",
    "# Min stack\n",
    "# Design a stack that supports push, pop, top, and retrieving the minimum element in constant time.\n",
    "# Implement the MinStack class:\n",
    "# MinStack() initializes the stack object.\n",
    "# void push(int val) pushes the element val onto the stack.\n",
    "# void pop() removes the element on the top of the stack.\n",
    "# int top() gets the top element of the stack.\n",
    "# int getMin() retrieves the minimum element in the stack.\n",
    "# You must implement a solution with O(1) time complexity for each function.\n",
    "\n",
    "# Example 1:\n",
    "# Input\n",
    "# [\"MinStack\",\"push\",\"push\",\"push\",\"getMin\",\"pop\",\"top\",\"getMin\"]\n",
    "# [[],[-2],[0],[-3],[],[],[],[]]\n",
    "\n",
    "# Output\n",
    "# [null,null,null,null,-3,null,0,-2]\n",
    "\n",
    "# Explanation\n",
    "# MinStack minStack = new MinStack();\n",
    "# minStack.push(-2);\n",
    "# minStack.push(0);\n",
    "# minStack.push(-3);\n",
    "# minStack.getMin(); // return -3\n",
    "# minStack.pop();\n",
    "# minStack.top();    // return 0\n",
    "# minStack.getMin(); // return -2\n",
    "class MinStack:\n",
    "    def __init__(self):\n",
    "        self.stack = []\n",
    "\n",
    "    def push(self, val):\n",
    "        if not self.stack:\n",
    "            self.stack.append((val, val))\n",
    "        else:\n",
    "            mn = min(self.stack[-1][1], val)\n",
    "            self.stack.append((val, mn))\n",
    "\n",
    "    def pop(self):\n",
    "        if self.stack:\n",
    "            self.stack.pop()\n",
    "\n",
    "    def top(self):\n",
    "        if self.stack:\n",
    "            return self.stack[-1][0]\n",
    "        return 0\n",
    "\n",
    "    def getMin(self):\n",
    "        if self.stack:\n",
    "            return self.stack[-1][1]\n",
    "        return 0"
   ]
  },
  {
   "cell_type": "code",
   "execution_count": 2,
   "id": "6383098f",
   "metadata": {},
   "outputs": [
    {
     "name": "stdout",
     "output_type": "stream",
     "text": [
      "2\n"
     ]
    }
   ],
   "source": [
    "# 32\n",
    "# Climbing stairs\n",
    "# You are climbing a staircase. It takes n steps to reach the top.\n",
    "# Each time you can either climb 1 or 2 steps. In how many distinct ways can you climb to the top?\n",
    "\n",
    "# Example 1:\n",
    "# Input: n = 2\n",
    "# Output: 2\n",
    "# Explanation: There are two ways to climb to the top.\n",
    "# 1. 1 step + 1 step\n",
    "# 2. 2 steps\n",
    "\n",
    "# Example 2:\n",
    "# Input: n = 3\n",
    "# Output: 3\n",
    "# Explanation: There are three ways to climb to the top.\n",
    "# 1. 1 step + 1 step + 1 step\n",
    "# 2. 1 step + 2 steps\n",
    "# 3. 2 steps + 1 step\n",
    "n = 2\n",
    "if n == 0 or n == 1:\n",
    "    print(1)\n",
    "prev,curr = 1,1\n",
    "for i in range(2,n+1):\n",
    "    t = curr\n",
    "    curr = prev + curr\n",
    "    prev = t\n",
    "print(curr)"
   ]
  },
  {
   "cell_type": "code",
   "execution_count": 22,
   "id": "05354bb3",
   "metadata": {},
   "outputs": [
    {
     "name": "stdout",
     "output_type": "stream",
     "text": [
      "True\n"
     ]
    }
   ],
   "source": [
    "# 33\n",
    "# Happy number\n",
    "# Write an algorithm to determine if a number n is happy.\n",
    "# A happy number is a number defined by the following process:\n",
    "# Starting with any positive integer, replace the number by the sum of the squares of its digits.\n",
    "# Repeat the process until the number equals 1 (where it will stay), or it loops endlessly in a cycle which does not include 1.\n",
    "# Those numbers for which this process ends in 1 are happy.\n",
    "# Return true if n is a happy number, and false if not.\n",
    "\n",
    "# Example 1:\n",
    "# Input: n = 19\n",
    "# Output: true\n",
    "# Explanation:\n",
    "# 12 + 92 = 82\n",
    "# 82 + 22 = 68\n",
    "# 62 + 82 = 100\n",
    "# 12 + 02 + 02 = 1\n",
    "n = 19\n",
    "hset = set()\n",
    "while n != 1:\n",
    "    if n in hset: print(False)\n",
    "    hset.add(n)\n",
    "    n = sum([int(i) ** 2 for i in str(n)])\n",
    "    \n",
    "else:\n",
    "    print(True)"
   ]
  },
  {
   "cell_type": "code",
   "execution_count": 15,
   "id": "994974ae",
   "metadata": {},
   "outputs": [
    {
     "name": "stdout",
     "output_type": "stream",
     "text": [
      "1\n"
     ]
    }
   ],
   "source": [
    "#34\n",
    "# Third maximum number\n",
    "# Given an integer array nums, return the third distinct maximum number in this array. If the third maximum does not exist, return the maximum number.\n",
    "\n",
    "# Example 1:\n",
    "# Input: nums = [3,2,1]\n",
    "# Output: 1\n",
    "# Explanation:\n",
    "# The first distinct maximum is 3.\n",
    "# The second distinct maximum is 2.\n",
    "# The third distinct maximum is 1.\n",
    "\n",
    "# Example 2:\n",
    "# Input: nums = [1,2]\n",
    "# Output: 2\n",
    "# Explanation:\n",
    "# The first distinct maximum is 2.\n",
    "# The second distinct maximum is 1.\n",
    "# The third distinct maximum does not exist, so the maximum (2) is returned instead.\n",
    "a = [1,1,1]\n",
    "if len(a) == 0:\n",
    "    print(0)\n",
    "if len(a) == 1:\n",
    "    print(a)\n",
    "if len(a) == 2:\n",
    "    print(max(a))\n",
    "if len(a) == 3:\n",
    "    print(max(a))\n",
    "tmax = []\n",
    "b = set(sorted(a))\n",
    "res = list(b)\n",
    "if len(a) > 3:\n",
    "    print(res[-3])"
   ]
  },
  {
   "cell_type": "code",
   "execution_count": 16,
   "id": "f2de7cfc",
   "metadata": {},
   "outputs": [
    {
     "data": {
      "text/plain": [
       "'hello'"
      ]
     },
     "execution_count": 16,
     "metadata": {},
     "output_type": "execute_result"
    }
   ],
   "source": [
    "#35\n",
    "# To lower\n",
    "# Given a string s, return the string after replacing every uppercase letter with the same lowercase letter.\n",
    "\n",
    "# Example 1:\n",
    "# Input: s = \"Hello\"\n",
    "# Output: \"hello\"\n",
    "s = 'Hello'\n",
    "s.lower()"
   ]
  },
  {
   "cell_type": "code",
   "execution_count": 4,
   "id": "e99f5741",
   "metadata": {},
   "outputs": [
    {
     "name": "stdout",
     "output_type": "stream",
     "text": [
      "bababa\n"
     ]
    },
    {
     "data": {
      "text/plain": [
       "True"
      ]
     },
     "execution_count": 4,
     "metadata": {},
     "output_type": "execute_result"
    }
   ],
   "source": [
    "# 36\n",
    "# Repeated Sub string pattern\n",
    "# Given a string s, check if it can be constructed by taking a substring of it and appending multiple copies of the substring together.\n",
    "\n",
    "# Example 1:\n",
    "# Input: s = \"abab\"\n",
    "# Output: true\n",
    "# Explanation: It is the substring \"ab\" twice.\n",
    "\n",
    "# Example 2:\n",
    "# Input: s = \"aba\"\n",
    "# Output: false\n",
    "\n",
    "# Example 3:\n",
    "# Input: s = \"abcabcabcabc\"\n",
    "# Output: true\n",
    "# Explanation: It is the substring \"abc\" four times or the substring \"abcabc\" twice.\n",
    "\n",
    "def repeatstr(s):\n",
    "    ds = (s+s)[1:-1]\n",
    "    print(ds)\n",
    "    return s in ds\n",
    "s = 'abab'\n",
    "repeatstr(s)"
   ]
  },
  {
   "cell_type": "code",
   "execution_count": 4,
   "id": "580dd7c5",
   "metadata": {},
   "outputs": [
    {
     "data": {
      "text/plain": [
       "2"
      ]
     },
     "execution_count": 4,
     "metadata": {},
     "output_type": "execute_result"
    }
   ],
   "source": [
    "# 37\n",
    "# There are n packs where the ith pack contains apple[i] apples. There are m boxes as well, and the ith box has a capacity of capacity[i] apples.\n",
    "# Return the minimum number of boxes you need to select to redistribute these n packs of apples into boxes.\n",
    "# Note that, apples from the same pack can be distributed into different boxes.\n",
    "\n",
    "# Example 1:\n",
    "# Input: apple = [1,3,2], capacity = [4,3,1,5,2]\n",
    "# Output: 2\n",
    "# Explanation: We will use boxes with capacities 4 and 5.\n",
    "# It is possible to distribute the apples as the total capacity is greater than or equal to the total number of apples.\n",
    "\n",
    "# Example 2:\n",
    "# Input: apple = [5,5,5], capacity = [2,4,2,7]\n",
    "# Output: 4\n",
    "# Explanation: We will need to use all the boxes.\n",
    "def minimumBoxes(apple, capacity):\n",
    "    capacity.sort()   # [1,2,3,4,5]\n",
    "    sum_apples = sum(apple)  \n",
    "    ans = 0  \n",
    "\n",
    "    for i in range(len(capacity) - 1, -1, -1):  # 4,-1(stop),-1(step)\n",
    "        ans += 1  \n",
    "        sum_apples -= capacity[i]  # 6 - 5 so sum_apples = 1 \n",
    "        if sum_apples <= 0:  \n",
    "            break\n",
    "    return ans \n",
    "a = [1,3,2]\n",
    "c = [4,3,1,5,2]\n",
    "minimumBoxes(a,c)"
   ]
  },
  {
   "cell_type": "code",
   "execution_count": 3,
   "id": "400741a6",
   "metadata": {},
   "outputs": [
    {
     "data": {
      "text/plain": [
       "['o', 'l', 'l', 'e', 'h']"
      ]
     },
     "execution_count": 3,
     "metadata": {},
     "output_type": "execute_result"
    }
   ],
   "source": [
    "# 38\n",
    "# Reverse string\n",
    "# Write a function that reverses a string. The input string is given as an array of characters s.\n",
    "# You must do this by modifying the input array in-place with O(1) extra memory.\n",
    "\n",
    "# Example 1:\n",
    "# Input: s = [\"h\",\"e\",\"l\",\"l\",\"o\"]\n",
    "# Output: [\"o\",\"l\",\"l\",\"e\",\"h\"]\n",
    "s = [\"h\",\"e\",\"l\",\"l\",\"o\"]\n",
    "s.reverse()\n",
    "s"
   ]
  },
  {
   "cell_type": "code",
   "execution_count": 6,
   "id": "c502155f",
   "metadata": {},
   "outputs": [
    {
     "name": "stdout",
     "output_type": "stream",
     "text": [
      "1\n",
      "2\n"
     ]
    }
   ],
   "source": [
    "#39\n",
    "# Distribute money to maximum children\n",
    "# You are given an integer money denoting the amount of money (in dollars) that you have and another integer children denoting the number of children that you must distribute the money to.\n",
    "# You have to distribute the money according to the following rules:\n",
    "# All money must be distributed.\n",
    "# Everyone must receive at least 1 dollar.\n",
    "# Nobody receives 4 dollars.\n",
    "# Return the maximum number of children who may receive exactly 8 dollars if you distribute the money according to the aforementioned rules. If there is no way to distribute the money, return -1.\n",
    "\n",
    "# Example 1:\n",
    "# Input: money = 20, children = 3\n",
    "# Output: 1\n",
    "# Explanation: \n",
    "# The maximum number of children with 8 dollars will be 1. One of the ways to distribute the money is:\n",
    "# - 8 dollars to the first child.\n",
    "# - 9 dollars to the second child. \n",
    "# - 3 dollars to the third child.\n",
    "# It can be proven that no distribution exists such that number of children getting 8 dollars is greater than 1.\n",
    "\n",
    "# Example 2:\n",
    "# Input: money = 16, children = 2\n",
    "# Output: 2\n",
    "# Explanation: Each child can be given 8 dollars\n",
    "money = 20\n",
    "children = 3\n",
    "if children > money:\n",
    "    print(-1)\n",
    "if money>8*children:\n",
    "    print(children-1)\n",
    "money -= children\n",
    "if children-money//7==1 and money%7==3:\n",
    "    print(money//7-1)\n",
    "print(money//7)"
   ]
  },
  {
   "cell_type": "code",
   "execution_count": 23,
   "id": "e9ee2b03",
   "metadata": {},
   "outputs": [
    {
     "name": "stdout",
     "output_type": "stream",
     "text": [
      "3\n"
     ]
    }
   ],
   "source": [
    "# 40\n",
    "# Find maximum divisibility score\n",
    "# You are given two 0-indexed integer arrays nums and divisors.\n",
    "# The divisibility score of divisors[i] is the number of indices j such that nums[j] is divisible by divisors[i].\n",
    "# Return the integer divisors[i] with the maximum divisibility score. If there is more than one integer with the maximum score, return the minimum of them.\n",
    "\n",
    " \n",
    "# Example 1:\n",
    "# Input: nums = [4,7,9,3,9], divisors = [5,2,3]\n",
    "# Output: 3\n",
    "# Explanation: The divisibility score for every element in divisors is:\n",
    "# The divisibility score of divisors[0] is 0 since no number in nums is divisible by 5.\n",
    "# The divisibility score of divisors[1] is 1 since nums[0] is divisible by 2.\n",
    "# The divisibility score of divisors[2] is 3 since nums[2], nums[3], and nums[4] are divisible by 3.\n",
    "# Since divisors[2] has the maximum divisibility score, we return it.\n",
    "\n",
    "# Example 2:\n",
    "# Input: nums = [20,14,21,10], divisors = [5,7,5]\n",
    "# Output: 5\n",
    "# Explanation: The divisibility score for every element in divisors is:\n",
    "# The divisibility score of divisors[0] is 2 since nums[0] and nums[3] are divisible by 5.\n",
    "# The divisibility score of divisors[1] is 2 since nums[1] and nums[2] are divisible by 7.\n",
    "# The divisibility score of divisors[2] is 2 since nums[0] and nums[3] are divisible by 5.\n",
    "# Since divisors[0], divisors[1], and divisors[2] all have the maximum divisibility score, we return the minimum of them (i.e., divisors[2]).\n",
    "\n",
    "# Example 3:\n",
    "# Input: nums = [12], divisors = [10,16]\n",
    "# Output: 10\n",
    "# Explanation: The divisibility score for every element in divisors is:\n",
    "# The divisibility score of divisors[0] is 0 since no number in nums is divisible by 10.\n",
    "# The divisibility score of divisors[1] is 0 since no number in nums is divisible by 16.\n",
    "# Since divisors[0] and divisors[1] both have the maximum divisibility score, we return the minimum of them (i.e., divisors[0]).\n",
    "n = [4, 7, 9, 3, 9]\n",
    "div = [5, 2, 3]\n",
    "max_score = 0\n",
    "max_divisor = float('inf')\n",
    "\n",
    "for d in div:\n",
    "    count = 0\n",
    "    for num in n:\n",
    "        if num % d == 0:\n",
    "            count += 1\n",
    "    dic[d] = count\n",
    "    max_score = max(max_score, count)\n",
    "\n",
    "for divisor, score in dic.items():\n",
    "    if score == max_score:\n",
    "        max_divisor = min(max_divisor, divisor)\n",
    "\n",
    "print(max_divisor)"
   ]
  },
  {
   "cell_type": "code",
   "execution_count": 18,
   "id": "5ab2a3fd",
   "metadata": {},
   "outputs": [
    {
     "name": "stdout",
     "output_type": "stream",
     "text": [
      "[-2, -1, 0, 2, 3]\n"
     ]
    }
   ],
   "source": [
    "#41\n",
    "# Find the distinct difference array\n",
    "\n",
    "# Example 1:\n",
    "# Input: nums = [1,2,3,4,5]\n",
    "# Output: [-3,-1,1,3,5]\n",
    "# Explanation: For index i = 0, there is 1 element in the prefix and 4 distinct elements in the suffix. Thus, diff[0] = 1 - 4 = -3.\n",
    "# For index i = 1, there are 2 distinct elements in the prefix and 3 distinct elements in the suffix. Thus, diff[1] = 2 - 3 = -1.\n",
    "# For index i = 2, there are 3 distinct elements in the prefix and 2 distinct elements in the suffix. Thus, diff[2] = 3 - 2 = 1.\n",
    "# For index i = 3, there are 4 distinct elements in the prefix and 1 distinct element in the suffix. Thus, diff[3] = 4 - 1 = 3.\n",
    "# For index i = 4, there are 5 distinct elements in the prefix and no elements in the suffix. Thus, diff[4] = 5 - 0 = 5.\n",
    "\n",
    "# Example 2:\n",
    "# Input: nums = [3,2,3,4,2]\n",
    "# Output: [-2,-1,0,2,3]\n",
    "# Explanation: For index i = 0, there is 1 element in the prefix and 3 distinct elements in the suffix. Thus, diff[0] = 1 - 3 = -2.\n",
    "# For index i = 1, there are 2 distinct elements in the prefix and 3 distinct elements in the suffix. Thus, diff[1] = 2 - 3 = -1.\n",
    "# For index i = 2, there are 2 distinct elements in the prefix and 2 distinct elements in the suffix. Thus, diff[2] = 2 - 2 = 0.\n",
    "# For index i = 3, there are 3 distinct elements in the prefix and 1 distinct element in the suffix. Thus, diff[3] = 3 - 1 = 2.\n",
    "# For index i = 4, there are 3 distinct elements in the prefix and no elements in the suffix. Thus, diff[4] = 3 - 0 = 3.\n",
    "n = [3,2,3,4,2]\n",
    "res = []\n",
    "\n",
    "# Iterate through each element in the list\n",
    "for i in range(len(n)):\n",
    "    prefix_set = set(n[:i+1])  # prefix \n",
    "    suffix_set = set(n[i+1:])  # suffix\n",
    "    distinct_difference = len(prefix_set) - len(suffix_set) \n",
    "    res.append(distinct_difference)\n",
    "print(res)\n",
    "\n"
   ]
  },
  {
   "cell_type": "code",
   "execution_count": 43,
   "id": "ca38d8f7",
   "metadata": {},
   "outputs": [
    {
     "name": "stdout",
     "output_type": "stream",
     "text": [
      "321\n",
      "-321\n",
      "21\n",
      "0\n"
     ]
    }
   ],
   "source": [
    "# 42\n",
    "# Reverse a integer\n",
    "# Given a signed 32-bit integer x, return x with its digits reversed. If reversing x causes the value to go outside the signed 32-bit integer range [-231, 231 - 1], then return 0.\n",
    "# Assume the environment does not allow you to store 64-bit integers (signed or unsigned).\n",
    "\n",
    "# Example 1:\n",
    "# Input: x = 123\n",
    "# Output: 321\n",
    "\n",
    "# Example 2:\n",
    "# Input: x = -123\n",
    "# Output: -321\n",
    "\n",
    "# Example 3:\n",
    "# Input: x = 120\n",
    "# Output: 21\n",
    "def reverse(x: int) -> int:\n",
    "    if x >= 0:\n",
    "        rev = int(str(x)[::-1])\n",
    "    else:\n",
    "        rev = -int(str(-x)[::-1])\n",
    "\n",
    "    if rev < -2**31 or rev > 2**31 - 1:\n",
    "        return 0\n",
    "    else:\n",
    "        return rev\n",
    "\n",
    "# Test cases\n",
    "print(reverse(123)) \n",
    "print(reverse(-123))\n",
    "print(reverse(120)) \n",
    "print(reverse(1534236469))"
   ]
  },
  {
   "cell_type": "code",
   "execution_count": 40,
   "id": "d26719eb",
   "metadata": {},
   "outputs": [
    {
     "name": "stdout",
     "output_type": "stream",
     "text": [
      "-2\n"
     ]
    }
   ],
   "source": [
    "# 43\n",
    "# Divide 2 integers\n",
    "# Given two integers dividend and divisor, divide two integers without using multiplication, division, and mod operator.\n",
    "# The integer division should truncate toward zero, which means losing its fractional part. For example, 8.345 would be truncated to 8, and -2.7335 would be truncated to -2.\n",
    "# Return the quotient after dividing dividend by divisor.\n",
    "# Note: Assume we are dealing with an environment that could only store integers within the 32-bit signed integer range: [−231, 231 − 1]. For this problem, if the quotient is strictly greater than 231 - 1, then return 231 - 1, and if the quotient is strictly less than -231, then return -231.\n",
    "\n",
    "# Example 1:\n",
    "# Input: dividend = 10, divisor = 3\n",
    "# Output: 3\n",
    "# Explanation: 10/3 = 3.33333.. which is truncated to 3.\n",
    "\n",
    "# Example 2:\n",
    "# Input: dividend = 7, divisor = -3\n",
    "# Output: -2\n",
    "# Explanation: 7/-3 = -2.33333.. which is truncated to -2.\n",
    "dividend = 7\n",
    "divisor = -3\n",
    "\n",
    "if ((dividend >= 0 and divisor < 0) or (dividend < 0 and divisor >= 0)):\n",
    "    sign = -1\n",
    "else:\n",
    "    sign = 1\n",
    "\n",
    "if divisor < 0: # for negative\n",
    "    res = len(range(-divisor, dividend+1, -divisor)) # range(3, 8, 3), len = 3\n",
    "\n",
    "else:\n",
    "    res = len(range(0, dividend-divisor+1, divisor)) # range(10, -3), len = 2\n",
    "\n",
    "if sign == -1:\n",
    "    res = -res\n",
    "\n",
    "minus_lim = -2147483648\n",
    "plus_lim  = 2147483647\n",
    "res = min(max(res, minus_lim), plus_lim) # -2 is bigger than -2147483647\n",
    "print(res)  # Output should be -2"
   ]
  },
  {
   "cell_type": "code",
   "execution_count": 3,
   "id": "0332d562",
   "metadata": {},
   "outputs": [
    {
     "name": "stdout",
     "output_type": "stream",
     "text": [
      "3\n"
     ]
    }
   ],
   "source": [
    "# 44\n",
    "# longest substring without repeating characters.\n",
    "# Given a string s, find the length of the longest substring without repeating characters.\n",
    "\n",
    "# Example 1:\n",
    "# Input: s = \"abcabcbb\"\n",
    "# Output: 3\n",
    "# Explanation: The answer is \"abc\", with the length of 3.\n",
    "\n",
    "# Example 2:\n",
    "# Input: s = \"bbbbb\"\n",
    "# Output: 1\n",
    "# Explanation: The answer is \"b\", with the length of 1.\n",
    "\n",
    "# Example 3:\n",
    "# Input: s = \"pwwkew\"\n",
    "# Output: 3\n",
    "# Explanation: The answer is \"wke\", with the length of 3.\n",
    "# Notice that the answer must be a substring, \"pwke\" is a subsequence and not a substring.\n",
    "s = 'abcabcabc'\n",
    "charset = set()\n",
    "lef_p = 0\n",
    "res = 0\n",
    "for righ_p in range(len(s)): # len(s) = 9\n",
    "    while s[righ_p] in charset: # s[0] in set()\n",
    "        charset.remove(s[lef_p])\n",
    "        lef_p += 1\n",
    "    charset.add(s[righ_p])\n",
    "    res = max(res,righ_p-lef_p+1)\n",
    "print(res)"
   ]
  },
  {
   "cell_type": "code",
   "execution_count": 12,
   "id": "65102df3",
   "metadata": {},
   "outputs": [
    {
     "data": {
      "text/plain": [
       "2147483647"
      ]
     },
     "execution_count": 12,
     "metadata": {},
     "output_type": "execute_result"
    }
   ],
   "source": [
    "# 45\n",
    "# String to integer\n",
    "# Implement the myAtoi(string s) function, which converts a string to a 32-bit signed integer (similar to C/C++'s atoi function).\n",
    "# The algorithm for myAtoi(string s) is as follows:\n",
    "# Read in and ignore any leading whitespace.\n",
    "# Check if the next character (if not already at the end of the string) is '-' or '+'. Read this character in if it is either. This determines if the final result is negative or positive respectively. Assume the result is positive if neither is present.\n",
    "# Read in next the characters until the next non-digit character or the end of the input is reached. The rest of the string is ignored.\n",
    "# Convert these digits into an integer (i.e. \"123\" -> 123, \"0032\" -> 32). If no digits were read, then the integer is 0. Change the sign as necessary (from step 2).\n",
    "# If the integer is out of the 32-bit signed integer range [-231, 231 - 1], then clamp the integer so that it remains in the range. Specifically, integers less than -231 should be clamped to -231, and integers greater than 231 - 1 should be clamped to 231 - 1.\n",
    "# Return the integer as the final result.\n",
    "# Note:\n",
    "\n",
    "# Only the space character ' ' is considered a whitespace character.\n",
    "# Do not ignore any characters other than the leading whitespace or the rest of the string after the digits.\n",
    " \n",
    "\n",
    "# Example 1:\n",
    "# Input: s = \"42\"\n",
    "# Output: 42\n",
    "# Explanation: The underlined characters are what is read in, the caret is the current reader position.\n",
    "# Step 1: \"42\" (no characters read because there is no leading whitespace)\n",
    "#          ^\n",
    "# Step 2: \"42\" (no characters read because there is neither a '-' nor '+')\n",
    "#          ^\n",
    "# Step 3: \"42\" (\"42\" is read in)\n",
    "#        ^\n",
    "# The parsed integer is 42.\n",
    "# Since 42 is in the range [-231, 231 - 1], the final result is 42.\n",
    "# class Solution(object)\n",
    "def myAtoi(s):\n",
    "    s = s.strip()\n",
    "    if not s:\n",
    "        return 0\n",
    "    sign = -1 if s[0] == '-' else 1\n",
    "    if s[0] in ['+', '-']:\n",
    "        s = s[1:]\n",
    "    res = 0\n",
    "    for c in s:\n",
    "        if c.isdigit():\n",
    "            res = res * 10 + int(c)\n",
    "        else:\n",
    "            break\n",
    "    res *= sign\n",
    "    return max(-2**31, min(2**31 - 1, res))\n",
    "myAtoi(\"00999999999999999\")"
   ]
  },
  {
   "cell_type": "code",
   "execution_count": 5,
   "id": "71d5447d",
   "metadata": {},
   "outputs": [
    {
     "name": "stdout",
     "output_type": "stream",
     "text": [
      "0.25\n"
     ]
    }
   ],
   "source": [
    "# 46\n",
    "# POW(x,n)\n",
    "# Implement pow(x, n), which calculates x raised to the power n (i.e., xn).\n",
    "\n",
    "# Example 1:\n",
    "# Input: x = 2.00000, n = 10\n",
    "# Output: 1024.00000\n",
    "\n",
    "# Example 2:\n",
    "# Input: x = 2.10000, n = 3\n",
    "# Output: 9.26100\n",
    "\n",
    "# Example 3:\n",
    "# Input: x = 2.00000, n = -2\n",
    "# Output: 0.25000\n",
    "# Explanation: 2-2 = 1/22 = 1/4 = 0.25\n",
    "x = 2.00000\n",
    "n = -2\n",
    "print(x**n)"
   ]
  },
  {
   "cell_type": "code",
   "execution_count": 15,
   "id": "cd3e3149",
   "metadata": {},
   "outputs": [
    {
     "data": {
      "text/plain": [
       "'apple'"
      ]
     },
     "execution_count": 15,
     "metadata": {},
     "output_type": "execute_result"
    }
   ],
   "source": [
    "# 47\n",
    "# Longest word in dictionary\n",
    "# Given an array of strings words representing an English Dictionary, return the longest word in words that can be built one character at a time by other words in words.\n",
    "# If there is more than one possible answer, return the longest word with the smallest lexicographical order. If there is no answer, return the empty string.\n",
    "# Note that the word should be built from left to right with each additional character being added to the end of a previous word. \n",
    "\n",
    "# Example 1:\n",
    "# Input: words = [\"w\",\"wo\",\"wor\",\"worl\",\"world\"]\n",
    "# Output: \"world\"\n",
    "# Explanation: The word \"world\" can be built one character at a time by \"w\", \"wo\", \"wor\", and \"worl\".\n",
    "\n",
    "words = [\"a\",\"banana\",\"app\",\"appl\",\"ap\",\"apply\",\"apple\"]\n",
    "words.sort()\n",
    "word_set, ans = set(['']),''\n",
    "for i in words:\n",
    "    if i[:-1] in word_set:\n",
    "        if len(i) > len(ans):\n",
    "            ans = i\n",
    "        word_set.add(i)\n",
    "ans\n"
   ]
  },
  {
   "cell_type": "code",
   "execution_count": 12,
   "id": "6acf27a8",
   "metadata": {},
   "outputs": [
    {
     "name": "stdout",
     "output_type": "stream",
     "text": [
      "6\n"
     ]
    }
   ],
   "source": [
    "# 48\n",
    "# Multiply srings\n",
    "# Given two non-negative integers num1 and num2 represented as strings, return the product of num1 and num2, also represented as a string.\n",
    "# Note: You must not use any built-in BigInteger library or convert the inputs to integer directly.\n",
    "\n",
    "# Example 1:\n",
    "# Input: num1 = \"2\", num2 = \"3\"\n",
    "# Output: \"6\"\n",
    "num1 = \"2\"\n",
    "num2 = \"3\"\n",
    "s1 = 0\n",
    "for i in num1:\n",
    "    s1 = s1*10 + (ord(i)-48) # 50 - 48 = 2\n",
    "s2 = 0\n",
    "for j in num2:\n",
    "    s2 = s2*10 + (ord(j) - 48) # 51 - 48 = 3\n",
    "print(s1*s2)"
   ]
  },
  {
   "cell_type": "code",
   "execution_count": 17,
   "id": "5b047bc4",
   "metadata": {},
   "outputs": [
    {
     "name": "stdout",
     "output_type": "stream",
     "text": [
      "[0, 0, 1, 1, 2, 2]\n",
      "[0, 0, 1, 1, 2, 2]\n"
     ]
    }
   ],
   "source": [
    "# 49\n",
    "# Sort colors\n",
    "# Given an array nums with n objects colored red, white, or blue, sort them in-place so that objects of the same color are adjacent, with the colors in the order red, white, and blue.\n",
    "# We will use the integers 0, 1, and 2 to represent the color red, white, and blue, respectively.\n",
    "# You must solve this problem without using the library's sort function.\n",
    "\n",
    "# Example 1:\n",
    "# Input: nums = [2,0,2,1,1,0]\n",
    "# Output: [0,0,1,1,2,2]\n",
    "nums = [2,0,2,1,1,0]\n",
    "ze = nums.count(0)\n",
    "on = nums.count(1)\n",
    "tw = nums.count(2)\n",
    "zee = [0 for i in range(ze)]\n",
    "one = [1 for j in range(on)]\n",
    "two = [2 for k in range(tw)]\n",
    "print(zee+one+two)\n",
    "\n",
    "red,white,blue = 0,0,len(nums)-1\n",
    "while(white<=blue):\n",
    "    if nums[white] == 0: \n",
    "        nums[white],nums[red] = nums[red],nums[white]\n",
    "        white += 1\n",
    "        red += 1\n",
    "    elif nums[white] == 1: \n",
    "        white += 1\n",
    "    else: \n",
    "        nums[white],nums[blue] = nums[blue],nums[white]\n",
    "        blue-=1\n",
    "print(nums)"
   ]
  },
  {
   "cell_type": "code",
   "execution_count": 18,
   "id": "4fb3fb83",
   "metadata": {},
   "outputs": [
    {
     "name": "stdout",
     "output_type": "stream",
     "text": [
      "[]\n"
     ]
    }
   ],
   "source": [
    "# 50\n",
    "# find all duplicates in the array\n",
    "# Given an integer array nums of length n where all the integers of nums are in the range [1, n] and each integer appears once or twice, return an array of all the integers that appears twice.\n",
    "# You must write an algorithm that runs in O(n) time and uses only constant extra space.\n",
    "# Example 1:\n",
    "# Input: nums = [4,3,2,7,8,2,3,1]\n",
    "# Output: [2,3]\n",
    "nums = [4, 3, 2, 7, 8, 2, 3, 1]\n",
    "from collections import Counter\n",
    "\n",
    "# Count the occurrences of each element in nums\n",
    "counter = Counter(sorted(nums))\n",
    "\n",
    "# Clear the nums list\n",
    "nums.clear()\n",
    "\n",
    "# Iterate over the items in the Counter\n",
    "for num, count in counter.items():\n",
    "    if count >= 2:\n",
    "        nums.append(num)\n",
    "\n",
    "print(nums)        "
   ]
  },
  {
   "cell_type": "code",
   "execution_count": 10,
   "id": "2670bd7a",
   "metadata": {},
   "outputs": [
    {
     "name": "stdout",
     "output_type": "stream",
     "text": [
      "[[1, 0, 1], [0, 0, 0], [1, 0, 1]]\n"
     ]
    }
   ],
   "source": [
    "# 51\n",
    "# Set matrix 0\n",
    "# Given an m x n integer matrix matrix, if an element is 0, set its entire row and column to 0's.\n",
    "# Input: matrix = [[1,1,1],[1,0,1],[1,1,1]]\n",
    "# Output: [[1,0,1],[0,0,0],[1,0,1]]\n",
    "# Input: matrix = [[0,1,2,0],[3,4,5,2],[1,3,1,5]]\n",
    "# Output: [[0,0,0,0],[0,4,5,0],[0,3,1,0]]\n",
    "m = [[1,1,1],[1,0,1],[1,1,1]]\n",
    "row = set()\n",
    "col = set()\n",
    "for i in range(len(m)):\n",
    "    for j in range(len(m[i])):\n",
    "        if m[i][j] == 0:\n",
    "            row.add(i)\n",
    "            col.add(j)\n",
    "            \n",
    "for r in row:\n",
    "    m[r] = [0] * len(m[r])\n",
    "for c in col:\n",
    "    for x in range(len(m)):\n",
    "        m[x][c] = 0\n",
    "print(m)"
   ]
  },
  {
   "cell_type": "code",
   "execution_count": 27,
   "id": "e4233e41",
   "metadata": {},
   "outputs": [
    {
     "name": "stdout",
     "output_type": "stream",
     "text": [
      "1 2\n"
     ]
    }
   ],
   "source": [
    "# 52\n",
    "# You are playing the Bulls and Cows game with your friend.\n",
    "# You write down a secret number and ask your friend to guess what the number is. When your friend makes a guess, you provide a hint with the following info:\n",
    "# The number of \"bulls\", which are digits in the guess that are in the correct position.\n",
    "# The number of \"cows\", which are digits in the guess that are in your secret number but are located in the wrong position. Specifically, the non-bull digits in the guess that could be rearranged such that they become bulls.\n",
    "# Given the secret number secret and your friend's guess guess, return the hint for your friend's guess.\n",
    "# The hint should be formatted as \"xAyB\", where x is the number of bulls and y is the number of cows. Note that both secret and guess may contain duplicate digits.\n",
    "\n",
    "# Example 1:\n",
    "# Input: secret = \"1807\", guess = \"7810\"\n",
    "# Output: \"1A3B\"\n",
    "# Explanation: Bulls are connected with a '|' and cows are underlined:\n",
    "# \"1807\"\n",
    "#   |\n",
    "# \"7810\"\n",
    "\n",
    "# Example 2:\n",
    "# Input: secret = \"1123\", guess = \"0111\"\n",
    "# Output: \"1A1B\"\n",
    "# Explanation: Bulls are connected with a '|' and cows are underlined:\n",
    "# \"1123\"        \"1123\"\n",
    "#   |      or     |\n",
    "# \"0111\"        \"0111\"\n",
    "# Note that only one of the two unmatched 1s is counted as a cow since the non-bull digits can only be rearranged to allow one 1 to be a bull.\n",
    "from collections import Counter\n",
    "secret = \"1807\"\n",
    "guess = \"7815\"\n",
    "# Count occurrences of each digit in secret and guess\n",
    "s, g = Counter(secret), Counter(guess)\n",
    "\n",
    "# Count the number of digits that are in the correct position\n",
    "a = sum(i == j for i, j in zip(secret, guess))\n",
    "\n",
    "# Count the number of digits that are in the wrong position\n",
    "b = sum((s & g).values()) - a # sum of values that are same in both secret and guess and substract with crt guess\n",
    "\n",
    "# Return the result in the specified format\n",
    "print(a, b)"
   ]
  },
  {
   "cell_type": "code",
   "execution_count": 4,
   "id": "50dbec3b",
   "metadata": {},
   "outputs": [
    {
     "name": "stdout",
     "output_type": "stream",
     "text": [
      "True\n",
      "False\n",
      "True\n",
      "2\n",
      "False\n",
      "True\n",
      "1\n"
     ]
    }
   ],
   "source": [
    "# 53\n",
    "# Implement the RandomizedSet class:\n",
    "\n",
    "# RandomizedSet() Initializes the RandomizedSet object.\n",
    "# bool insert(int val) Inserts an item val into the set if not present. Returns true if the item was not present, false otherwise.\n",
    "# bool remove(int val) Removes an item val from the set if present. Returns true if the item was present, false otherwise.\n",
    "# int getRandom() Returns a random element from the current set of elements (it's guaranteed that at least one element exists when this method is called). Each element must have the same probability of being returned.\n",
    "# You must implement the functions of the class such that each function works in average O(1) time complexity.\n",
    "\n",
    " \n",
    "\n",
    "# Example 1:\n",
    "\n",
    "# Input\n",
    "# [\"RandomizedSet\", \"insert\", \"remove\", \"insert\", \"getRandom\", \"remove\", \"insert\", \"getRandom\"]\n",
    "# [[], [1], [2], [2], [], [1], [2], []]\n",
    "# Output\n",
    "# [null, true, false, true, 2, true, false, 2]\n",
    "\n",
    "# Explanation\n",
    "# RandomizedSet randomizedSet = new RandomizedSet();\n",
    "# randomizedSet.insert(1); // Inserts 1 to the set. Returns true as 1 was inserted successfully.\n",
    "# randomizedSet.remove(2); // Returns false as 2 does not exist in the set.\n",
    "# randomizedSet.insert(2); // Inserts 2 to the set, returns true. Set now contains [1,2].\n",
    "# randomizedSet.getRandom(); // getRandom() should return either 1 or 2 randomly.\n",
    "# randomizedSet.remove(1); // Removes 1 from the set, returns true. Set now contains [2].\n",
    "# randomizedSet.insert(2); // 2 was already in the set, so return false.\n",
    "# randomizedSet.getRandom(); // Since 2 is the only number in the set, getRandom() will always return 2.\n",
    "\n",
    "import random\n",
    "class randomised:\n",
    "    \n",
    "    def __init__(self):\n",
    "        self.hash = {} # set\n",
    "        self.le = []\n",
    "        \n",
    "    def insert(self,val):\n",
    "        if val in self.hash:\n",
    "            return False\n",
    "        self.le.append(val)\n",
    "        return True\n",
    "    \n",
    "    def remove(self,val): # find the index of the element to be removed then swap it with the last element then swap it\n",
    "        if val not in self.hash:\n",
    "            return False\n",
    "        last = self.le[-1]\n",
    "        ele_to_rm = self.hash[val]\n",
    "        self.le[ele_to_rm] = last\n",
    "        self.hash[last] = ele_to_rm\n",
    "        del self.hash[val]\n",
    "        self.le.pop()\n",
    "        return True\n",
    "    \n",
    "# # Given lists and dictionary\n",
    "# a = [1, 2, 3]\n",
    "# hash_map = {1: 0, 2: 1, 3: 2}\n",
    "\n",
    "# # Given value to remove\n",
    "# val = 2\n",
    "\n",
    "# # Get the last element in the list\n",
    "# last_element = a[-1]\n",
    "\n",
    "# # Get the index of the element to remove from the hash_map\n",
    "# idx_to_remove = hash_map[val]\n",
    "# print(idx_to_remove)\n",
    "# # Update the element at idx_to_remove with the last_element\n",
    "# a[idx_to_remove] = last_element\n",
    "\n",
    "# # Update the hash_map for the last_element to point to idx_to_remove\n",
    "# hash_map[last_element] = idx_to_remove\n",
    "\n",
    "# # Remove the entry for the value to be removed from the hash_map\n",
    "# del hash_map[val]\n",
    "\n",
    "# # Remove the last element from the list\n",
    "# a.pop()\n",
    "\n",
    "# # Print the updated list and hash_map\n",
    "# print(\"Updated List:\", a)\n",
    "# print(\"Updated Hash Map:\", hash_map)\n",
    "\n",
    "    \n",
    "    def getRandom(self):\n",
    "        return random.choice(self.le)\n",
    "\n",
    "randomizedSet = randomised()\n",
    "print(randomizedSet.insert(1)) # Inserts 1 to the set. Returns true as 1 was inserted successfully.\n",
    "print(randomizedSet.remove(2)) # Returns false as 2 does not exist in the set.\n",
    "print(randomizedSet.insert(2)) # Inserts 2 to the set, returns true. Set now contains [1,2].\n",
    "print(randomizedSet.getRandom()) # getRandom() should return either 1 or 2 randomly.\n",
    "print(randomizedSet.remove(1)) # Removes 1 from the set, returns true. Set now contains [2].\n",
    "print(randomizedSet.insert(2)) # 2 was already in the set, so return false.\n",
    "print(randomizedSet.getRandom()) # Since 2 is the only number in the set, getRandom() will always return 2."
   ]
  },
  {
   "cell_type": "code",
   "execution_count": 4,
   "id": "164ee69d",
   "metadata": {},
   "outputs": [
    {
     "name": "stdout",
     "output_type": "stream",
     "text": [
      "3\n"
     ]
    }
   ],
   "source": [
    "# 54\n",
    "# Expressive words\n",
    "# Sometimes people repeat letters to represent extra feeling. For example:\n",
    "\n",
    "# \"hello\" -> \"heeellooo\"\n",
    "# \"hi\" -> \"hiiii\"\n",
    "# In these strings like \"heeellooo\", we have groups of adjacent letters that are all the same: \"h\", \"eee\", \"ll\", \"ooo\".\n",
    "\n",
    "# You are given a string s and an array of query strings words. A query word is stretchy if it can be made to be equal to s \n",
    "# by any number of applications of the following extension operation: choose a group consisting of characters c, \n",
    "#     and add some number of characters c to the group so that the size of the group is three or more.\n",
    "\n",
    "# For example, starting with \"hello\", we could do an extension on the group \"o\" to get \"hellooo\", but we cannot get \"helloo\" \n",
    "# since the group \"oo\" has a size less than three. Also, we could do another extension like \"ll\" -> \"lllll\" to get \"helllllooo\". \n",
    "# If s = \"helllllooo\", then the query word \"hello\" would be stretchy because of these two extension operations: \n",
    "# query = \"hello\" -> \"hellooo\" -> \"helllllooo\" = s.\n",
    "\n",
    "# Example 1:\n",
    "# Input: s = \"heeellooo\", words = [\"hello\", \"hi\", \"helo\"]\n",
    "# Output: 1\n",
    "# Explanation: \n",
    "# We can extend \"e\" and \"o\" in the word \"hello\" to get \"heeellooo\".\n",
    "# We can't extend \"helo\" to get \"heeellooo\" because the group \"ll\" is not size 3 or more.\n",
    "\n",
    "def expressiveWords(s, words):\n",
    "    def is_stretchy(word):\n",
    "        i, j = 0, 0\n",
    "        while i < len(s) and j < len(word): # len(s) = 10\n",
    "            if s[i] != word[j]:\n",
    "                return False\n",
    "            len_s, len_word = 1, 1\n",
    "            while i + 1 < len(s) and s[i] == s[i + 1]:\n",
    "                len_s += 1\n",
    "                i += 1\n",
    "            while j + 1 < len(word) and word[j] == word[j + 1]:\n",
    "                len_word += 1\n",
    "                j += 1\n",
    "            if len_s < 3 and len_s != len_word or len_s >= 3 and len_s < len_word:\n",
    "                return False\n",
    "            i += 1\n",
    "            j += 1\n",
    "        return i == len(s) and j == len(word)\n",
    "\n",
    "    count = 0\n",
    "    for word in words:\n",
    "        if is_stretchy(word):\n",
    "            count += 1\n",
    "    return count\n",
    "\n",
    "# Example usage\n",
    "# s = \"zzzzzyyyyy\"\n",
    "# words = [\"zzyy\",\"zy\",\"zyy\"]\n",
    "# print(expressiveWords(s, words))  # Output: 1\n",
    "# String s = \"zzzzzyyyyy\"\n",
    "# Query words: [\"zzyy\",\"zy\",\"zyy\"]\n",
    "\n",
    "# For the first query word \"zzyy\":\n",
    "\n",
    "# Iteration 1:\n",
    "\n",
    "# s[i] = \"z\" and word[j] = \"z\" (Match)\n",
    "# Start of stretchy group in s.\n",
    "# Start of stretchy group in word.\n",
    "# Increment i and j.\n",
    "\n",
    "# Iteration 2:\n",
    "\n",
    "# s[i] = \"z\" and word[j] = \"z\" (Match)\n",
    "# Stretchy group continues in both s and word.\n",
    "# Increment i and j.\n",
    "\n",
    "# Iteration 3:\n",
    "# s[i] = \"z\" and word[j] = \"y\" (No Match)\n",
    "# Stretchy group in s ends.\n",
    "# Stretchy group in word ends.\n",
    "# Exit loop.\n",
    "\n",
    "# For the second query word \"zy\":\n",
    "\n",
    "# Iteration 1:\n",
    "\n",
    "# s[i] = \"z\" and word[j] = \"z\" (Match)\n",
    "# Start of stretchy group in s.\n",
    "# Start of stretchy group in word.\n",
    "# Increment i and j.\n",
    "\n",
    "# Iteration 2:\n",
    "\n",
    "# s[i] = \"z\" and word[j] = \"y\" (No Match)\n",
    "# Stretchy group in s ends.\n",
    "# Stretchy group in word ends.\n",
    "# Exit loop.\n",
    "\n",
    "# For the third query word \"zyy\":\n",
    "\n",
    "# Iteration 1:\n",
    "\n",
    "# s[i] = \"z\" and word[j] = \"z\" (Match)\n",
    "# Start of stretchy group in s.\n",
    "# Start of stretchy group in word.\n",
    "# Increment i and j.\n",
    "\n",
    "# Iteration 2:\n",
    "\n",
    "# s[i] = \"z\" and word[j] = \"y\" (No Match)\n",
    "# Stretchy group in s ends.\n",
    "# Stretchy group in word ends.\n",
    "# Exit loop.\n"
   ]
  },
  {
   "cell_type": "code",
   "execution_count": 17,
   "id": "544e2dee",
   "metadata": {},
   "outputs": [
    {
     "name": "stdout",
     "output_type": "stream",
     "text": [
      "Closest sum: 2\n",
      "Result: [-1, 2, 1]\n"
     ]
    }
   ],
   "source": [
    "# 55. \n",
    "# 3 Sum Closest\n",
    "# Given an integer array nums of length n and an integer target, find three integers in nums such that the sum is closest to target.\n",
    "# Return the sum of the three integers.\n",
    "# Example 1:\n",
    "# Input: nums = [-1,2,1,-4], target = 1\n",
    "# Output: 2\n",
    "# Explanation: The sum that is closest to the target is 2. (-1 + 2 + 1 = 2).\n",
    "\n",
    "nums = [-1, 2, 1, -4]\n",
    "target = 1\n",
    "\n",
    "closest_sum = float('inf')  # Initialize closest_sum to positive infinity\n",
    "result = []\n",
    "\n",
    "for i in range(len(nums)):\n",
    "    for j in range(i + 1, len(nums)):\n",
    "        for k in range(j + 1, len(nums)):\n",
    "            current_sum = nums[i] + nums[j] + nums[k]\n",
    "            if abs(current_sum - target) < abs(closest_sum - target):\n",
    "                closest_sum = current_sum\n",
    "                result = [nums[i], nums[j], nums[k]]\n",
    "\n",
    "print(\"Closest sum:\", closest_sum)\n",
    "print(\"Result:\", result)"
   ]
  },
  {
   "cell_type": "code",
   "execution_count": 18,
   "id": "b73b09a6",
   "metadata": {},
   "outputs": [
    {
     "name": "stdout",
     "output_type": "stream",
     "text": [
      "Closest sum: 2\n",
      "Result: [-1, 1, 2]\n"
     ]
    }
   ],
   "source": [
    "# 3 sum closest 2 pointer\n",
    "# 56\n",
    "nums = [-1, 2, 1, -4]\n",
    "target = 1\n",
    "\n",
    "nums.sort()\n",
    "\n",
    "closest_sum = float('inf')  # Initialize closest_sum to positive infinity\n",
    "result = []\n",
    "\n",
    "for i in range(len(nums) - 2):\n",
    "    left = i + 1\n",
    "    right = len(nums) - 1\n",
    "    while left < right:\n",
    "        current_sum = nums[i] + nums[left] + nums[right]\n",
    "        if abs(current_sum - target) < abs(closest_sum - target):\n",
    "            closest_sum = current_sum\n",
    "            result = [nums[i], nums[left], nums[right]]\n",
    "        if current_sum < target:\n",
    "            left += 1\n",
    "        else:\n",
    "            right -= 1\n",
    "\n",
    "print(\"Closest sum:\", closest_sum)\n",
    "print(\"Result:\", result)\n"
   ]
  },
  {
   "cell_type": "code",
   "execution_count": 4,
   "id": "d71012da",
   "metadata": {},
   "outputs": [
    {
     "name": "stdout",
     "output_type": "stream",
     "text": [
      "[3, 4]\n"
     ]
    }
   ],
   "source": [
    "# 57\n",
    "# Given an array of integers nums sorted in non-decreasing order, find the starting and ending position of a given target value.\n",
    "# If target is not found in the array, return [-1, -1].\n",
    "# You must write an algorithm with O(log n) runtime complexity.\n",
    "\n",
    "# Example 1:\n",
    "# Input: nums = [5,7,7,8,8,10], target = 8\n",
    "# Output: [3,4]\n",
    "\n",
    "# Example 2:\n",
    "# Input: nums = [5,7,7,8,8,10], target = 6\n",
    "# Output: [-1,-1]\n",
    "def searchR(nums, tar):\n",
    "    nums = [5, 7, 7, 8, 8, 10]\n",
    "    tar = 8\n",
    "    \n",
    "    def search(x):\n",
    "        low, high = 0, len(nums)\n",
    "        while low < high:\n",
    "            mid = (low + high) // 2\n",
    "            if nums[mid] < x:\n",
    "                low = mid + 1\n",
    "            else:\n",
    "                high = mid\n",
    "        return low\n",
    "    \n",
    "    low = search(tar)\n",
    "    high = search(tar + 1) - 1\n",
    "    \n",
    "    if low <= high:\n",
    "        return [low, high]\n",
    "    return [-1, -1]\n",
    "\n",
    "# Example usage\n",
    "print(searchR([], 8))\n",
    "\n",
    "#  n = len(nums) \n",
    "#         start, end = -1, -1\n",
    "        \n",
    "#         if n == 0:\n",
    "#             return [-1, -1]\n",
    "        \n",
    "#         for i in range(n):\n",
    "#             if nums[i] == target:\n",
    "#                 start = i\n",
    "#                 break\n",
    "                \n",
    "#         if start == -1:  \n",
    "#             return [-1, -1]\n",
    "        \n",
    "#         for j in range(n - 1, -1, -1):\n",
    "#             if nums[j] == target:\n",
    "#                 end = j\n",
    "#                 break\n",
    "                \n",
    "#         return [start, end]"
   ]
  },
  {
   "cell_type": "code",
   "execution_count": 5,
   "id": "f41d19f9",
   "metadata": {},
   "outputs": [
    {
     "name": "stdout",
     "output_type": "stream",
     "text": [
      "49\n"
     ]
    },
    {
     "data": {
      "image/png": "[encoded data removed]",
      "text/plain": [
       "<Figure size 640x480 with 1 Axes>"
      ]
     },
     "metadata": {},
     "output_type": "display_data"
    }
   ],
   "source": [
    "# 58\n",
    "from skimage import io\n",
    "img = io.imread(\"D:\\question_11.jpg\")\n",
    "io.imshow(img)# Container with most water\n",
    "# You are given an integer array height of length n. There are n vertical lines drawn such that the \n",
    "# two endpoints of the ith line are (i, 0) and (i, height[i]).\n",
    "# Find two lines that together with the x-axis form a container, such that the container contains the most water.\n",
    "# Return the maximum amount of water a container can store.\n",
    "\n",
    "# Input: height = [1,8,6,2,5,4,8,3,7]\n",
    "# Output: 49\n",
    "# Explanation: The above vertical lines are represented by array [1,8,6,2,5,4,8,3,7]. \n",
    "# In this case, the max area of water (blue section) the container can contain is 49.\n",
    "height = [1,8,6,2,5,4,8,3,7]\n",
    "l = 0\n",
    "r = len(height) - 1 # 8\n",
    "res = 0\n",
    "while l<r:\n",
    "    area = (r-l)*min(height[l],height[r])\n",
    "    res = max(area,res)\n",
    "    if height[l] > height[r]:\n",
    "        r -= 1\n",
    "    else:\n",
    "        l += 1\n",
    "print(res)"
   ]
  },
  {
   "cell_type": "code",
   "execution_count": 3,
   "id": "a2649bd1",
   "metadata": {},
   "outputs": [
    {
     "name": "stdout",
     "output_type": "stream",
     "text": [
      "22\n"
     ]
    }
   ],
   "source": [
    "# 59\n",
    "# You are given an array of strings tokens that represents an arithmetic expression in a Reverse Polish Notation.\n",
    "# Evaluate the expression. Return an integer that represents the value of the expression.\n",
    "\n",
    "# Example 1:\n",
    "\n",
    "# Input: tokens = [\"2\",\"1\",\"+\",\"3\",\"*\"]\n",
    "# Output: 9\n",
    "# Explanation: ((2 + 1) * 3) = 9\n",
    "\n",
    "def evalRPN(tokens):\n",
    "    stack = []\n",
    "\n",
    "    for i in tokens:\n",
    "        if i == \"+\":\n",
    "            stack.append(stack.pop() + stack.pop())\n",
    "        elif i == \"*\":\n",
    "            stack.append(stack.pop() * stack.pop())\n",
    "        elif i == \"-\":\n",
    "            a, b = stack.pop(), stack.pop()\n",
    "            stack.append(b - a)\n",
    "        elif i == \"/\":\n",
    "            a, b = stack.pop(), stack.pop()\n",
    "            stack.append(int(b / a))  # Ensure integer division\n",
    "        else:\n",
    "            stack.append(int(i))\n",
    "    return stack[0]\n",
    "\n",
    "tokens = [\"10\", \"6\", \"9\", \"3\", \"+\", \"-11\", \"*\", \"/\", \"*\", \"17\", \"+\", \"5\", \"+\"]\n",
    "print(evalRPN(tokens)) \n"
   ]
  },
  {
   "cell_type": "code",
   "execution_count": 16,
   "id": "b2ddaed9",
   "metadata": {},
   "outputs": [
    {
     "name": "stdout",
     "output_type": "stream",
     "text": [
      "['((()))', '(()())', '(())()', '()(())', '()()()']\n"
     ]
    }
   ],
   "source": [
    "# 60\n",
    "# Generate paranthesis\n",
    "# Given n pairs of parentheses, write a function to generate all combinations of well-formed parentheses.\n",
    "\n",
    "# Example 1:\n",
    "\n",
    "# Input: n = 3\n",
    "# Output: [\"((()))\",\"(()())\",\"(())()\",\"()(())\",\"()()()\"]\n",
    "def generate_parenthesis(n):\n",
    "    stack = []\n",
    "    res = []\n",
    "\n",
    "    def backtrack(openN, closedN):\n",
    "        if openN == closedN == n:\n",
    "            res.append(\"\".join(stack))\n",
    "            return\n",
    "        if openN < n:\n",
    "            stack.append(\"(\")\n",
    "            backtrack(openN + 1, closedN)\n",
    "            stack.pop()\n",
    "        if closedN < openN:\n",
    "            stack.append(\")\")\n",
    "            backtrack(openN, closedN + 1)\n",
    "            stack.pop()\n",
    "\n",
    "    backtrack(0, 0)\n",
    "    return res\n",
    "\n",
    "# Example usage\n",
    "n = 3\n",
    "print(generate_parenthesis(n))  # Output: [\"((()))\",\"(()())\",\"(())()\",\"()(())\",\"()()()\"]\n"
   ]
  },
  {
   "cell_type": "code",
   "execution_count": 1,
   "id": "7e6c3172",
   "metadata": {},
   "outputs": [
    {
     "name": "stdout",
     "output_type": "stream",
     "text": [
      "[1, 1, 4, 2, 1, 1, 0, 0]\n",
      "[1, 1, 1, 0]\n"
     ]
    }
   ],
   "source": [
    "# 61\n",
    "# Daily temperatures\n",
    "# Given an array of integers temperatures represents the daily temperatures, return an array answer such that answer[i] is the number of days you have to wait after the ith day to get a warmer temperature. If there is no future day for which this is possible, keep answer[i] == 0 instead.\n",
    "\n",
    "# Example 1:\n",
    "\n",
    "# Input: temperatures = [73,74,75,71,69,72,76,73]\n",
    "# Output: [1,1,4,2,1,1,0,0]\n",
    "# Example 2:\n",
    "\n",
    "# Input: temperatures = [30,40,50,60]\n",
    "# Output: [1,1,1,0]\n",
    "\n",
    "def daily_temperatures(temperatures):\n",
    "    n = len(temperatures)\n",
    "    answer = [0] * n\n",
    "    \n",
    "    for i in range(n):\n",
    "        for j in range(i + 1, n):\n",
    "            if temperatures[j] > temperatures[i]:\n",
    "                answer[i] = j - i\n",
    "                break\n",
    "                \n",
    "    return answer\n",
    "\n",
    "# Example usage:\n",
    "temperatures1 = [73, 74, 75, 71, 69, 72, 76, 73]\n",
    "print(daily_temperatures(temperatures1))  # Output: [1, 1, 4, 2, 1, 1, 0, 0]\n",
    "\n",
    "temperatures2 = [30, 40, 50, 60]\n",
    "print(daily_temperatures(temperatures2))  # Output: [1, 1, 1, 0]"
   ]
  },
  {
   "cell_type": "code",
   "execution_count": 6,
   "id": "32953c83",
   "metadata": {},
   "outputs": [
    {
     "name": "stdout",
     "output_type": "stream",
     "text": [
      "[[8, 2], [6, 3]]\n",
      "2\n"
     ]
    }
   ],
   "source": [
    "# 62\n",
    "# car fleet\n",
    "# There are n cars going to the same destination along a one-lane road. The destination is target miles away.\n",
    "# You are given two integer array position and speed, both of length n, where position[i] is the position of the ith car and speed[i] is the speed of the ith car (in miles per hour).\n",
    "# A car can never pass another car ahead of it, but it can catch up to it and drive bumper to bumper at the same speed. The faster car will slow down to match the slower car's speed. The distance between these two cars is ignored (i.e., they are assumed to have the same position).\n",
    "# A car fleet is some non-empty set of cars driving at the same position and same speed. Note that a single car is also a car fleet.\n",
    "# If a car catches up to a car fleet right at the destination point, it will still be considered as one car fleet.\n",
    "# Return the number of car fleets that will arrive at the destination.\n",
    " \n",
    "# Example 1:\n",
    "\n",
    "# Input: target = 12, position = [10,8,0,5,3], speed = [2,4,1,1,3]\n",
    "# Output: 3\n",
    "# Explanation:\n",
    "# The cars starting at 10 (speed 2) and 8 (speed 4) become a fleet, meeting each other at 12.\n",
    "# The car starting at 0 does not catch up to any other car, so it is a fleet by itself.\n",
    "# The cars starting at 5 (speed 1) and 3 (speed 3) become a fleet, meeting each other at 6. The fleet moves at speed 1 until it reaches target.\n",
    "# Note that no other cars meet these fleets before the destination, so the answer is 3.\n",
    "position = [6,8]\n",
    "speed = [3,2]\n",
    "target = 10\n",
    "pair = [[p, s] for p, s in zip(position, speed)]\n",
    "print(pair[::-1])\n",
    "stack = []\n",
    "for p, s in sorted(pair)[::-1]: # Reverse Sorted Order\n",
    "    stack.append((target - p) / s)\n",
    "    if len(stack) >= 2 and stack[-1] <= stack[-2]:\n",
    "        stack.pop()\n",
    "print(len(stack))"
   ]
  },
  {
   "cell_type": "code",
   "execution_count": 3,
   "id": "394e7db7",
   "metadata": {},
   "outputs": [
    {
     "name": "stdout",
     "output_type": "stream",
     "text": [
      "[(0, 2)]\n",
      "[(0, 2), (1, 4)]\n"
     ]
    },
    {
     "data": {
      "text/plain": [
       "4"
      ]
     },
     "execution_count": 3,
     "metadata": {},
     "output_type": "execute_result"
    }
   ],
   "source": [
    "# 63\n",
    "# Given an array of integers heights representing the histogram's bar height where the width of each bar is 1, return the area of the largest rectangle in the histogram.\n",
    "# Example 1:\n",
    "\n",
    "# Input: heights = [2,1,5,6,2,3]\n",
    "# Output: 10\n",
    "# Explanation: The above is a histogram where width of each bar is 1.\n",
    "# The largest rectangle is shown in the red area, which has an area = 10 units.\n",
    "\n",
    "heights = [2,4]\n",
    "maxArea = 0\n",
    "stack = [] # pair: (index, height)\n",
    "for i, h in enumerate (heights):\n",
    "    start = i\n",
    "    while stack and stack [-1] [1] > h:\n",
    "        index, height = stack.pop()\n",
    "        maxArea = max(maxArea, height * (i - index)) # height*(i-index) is width\n",
    "        start = index\n",
    "    stack.append((start, h))\n",
    "    print(stack)\n",
    "for i, h in stack:\n",
    "    maxArea = max(maxArea, h* (len (heights) - i)) # overall width of histogram\n",
    "maxArea"
   ]
  },
  {
   "cell_type": "code",
   "execution_count": 6,
   "id": "484311f0",
   "metadata": {},
   "outputs": [
    {
     "data": {
      "text/plain": [
       "5"
      ]
     },
     "execution_count": 6,
     "metadata": {},
     "output_type": "execute_result"
    }
   ],
   "source": [
    "# 64\n",
    "# easy problem\n",
    "# best time to buy and sell stocks\n",
    "# You are given an array prices where prices[i] is the price of a given stock on the ith day.\n",
    "# You want to maximize your profit by choosing a single day to buy one stock and choosing a different day in the future to sell that stock.\n",
    "# Return the maximum profit you can achieve from this transaction. If you cannot achieve any profit, return 0.\n",
    "# Example 1:\n",
    "\n",
    "# Input: prices = [7,1,5,3,6,4]\n",
    "# Output: 5\n",
    "# Explanation: Buy on day 2 (price = 1) and sell on day 5 (price = 6), profit = 6-1 = 5.\n",
    "# Note that buying on day 2 and selling on day 1 is not allowed because you must buy before you sell.\n",
    "prices = [7,1,5,3,6,4]\n",
    "l, r = 0, 1\n",
    "maxP = 0\n",
    "while r < len(prices):  # len of prices is 6\n",
    "    if prices[l] < prices[r]: # 7 < 1 no so else part\n",
    "        profit = prices[r] - prices[l]\n",
    "        maxP = max(maxP, profit)\n",
    "    else:\n",
    "        l = r # l = 1\n",
    "    r += 1 # r = 2\n",
    "maxP"
   ]
  },
  {
   "cell_type": "code",
   "execution_count": 19,
   "id": "54f872d1",
   "metadata": {},
   "outputs": [
    {
     "name": "stdout",
     "output_type": "stream",
     "text": [
      "[[0, 0, 0, 0, 0, 0], [0, 0, 0, 0, 0, 0], [0, 0, 0, 0, 0, 0], [0, 0, 0, 0, 0, 0]]\n",
      "3\n"
     ]
    }
   ],
   "source": [
    "# 65\n",
    "# Longest common subsequence\n",
    "# Given two strings text1 and text2, return the length of their longest common subsequence. If there is no common subsequence, return 0.\n",
    "# A subsequence of a string is a new string generated from the original string with some characters (can be none) deleted without changing the relative order of the remaining characters.\n",
    "# For example, \"ace\" is a subsequence of \"abcde\".\n",
    "# A common subsequence of two strings is a subsequence that is common to both strings.\n",
    "\n",
    "# Example 1:\n",
    "\n",
    "# Input: text1 = \"abcde\", text2 = \"ace\" \n",
    "# Output: 3  \n",
    "# Explanation: The longest common subsequence is \"ace\" and its length is 3.\n",
    "\n",
    "text1 = \"abcde\"\n",
    "text2 = \"ace\"\n",
    "\n",
    "dp = [[0] * (len(text1) + 1) for _ in range(len(text2) + 1)]\n",
    "print(dp)\n",
    "# Populate the dynamic programming table\n",
    "for i in range(len(text2) - 1, -1, -1):\n",
    "    for j in range(len(text1) - 1, -1, -1):\n",
    "        if text1[j] == text2[i]:\n",
    "            dp[i][j] = 1 + dp[i + 1][j + 1]\n",
    "        else:\n",
    "            dp[i][j] = max(dp[i][j + 1], dp[i + 1][j])\n",
    "\n",
    "# The length of the longest common subsequence is at the top-left corner of the dp table\n",
    "print(dp[0][0])"
   ]
  },
  {
   "cell_type": "code",
   "execution_count": 8,
   "id": "ae84e170",
   "metadata": {},
   "outputs": [
    {
     "data": {
      "text/plain": [
       "4"
      ]
     },
     "execution_count": 8,
     "metadata": {},
     "output_type": "execute_result"
    }
   ],
   "source": [
    "# 66\n",
    "# Longest increasing subsequence\n",
    "# Given an integer array nums, return the length of the longest strictly increasing subsequence\n",
    "\n",
    "# Example 1:\n",
    "\n",
    "# Input: nums = [10,9,2,5,3,7,101,18]\n",
    "# Output: 4\n",
    "# Explanation: The longest increasing subsequence is [2,3,7,101], therefore the length is 4.\n",
    "nums = [10,9,2,5,3,7,101,18]\n",
    "lis = [1]*len(nums) \n",
    "for i in range(len(nums)-1,-1,-1): \n",
    "    for j in range(i+1,len(nums)):\n",
    "        if nums[i] < nums[j]:\n",
    "            lis[i] = max(lis[i],1+lis[j])\n",
    "max(lis)"
   ]
  },
  {
   "cell_type": "code",
   "execution_count": 18,
   "id": "118735c2",
   "metadata": {},
   "outputs": [
    {
     "name": "stdout",
     "output_type": "stream",
     "text": [
      "[[3, 3, 4, 5], [3, 2, 3, 4], [2, 2, 2, 3], [3, 2, 1, 2], [3, 2, 1, 1], [3, 2, 1, 0]] 3\n"
     ]
    }
   ],
   "source": [
    "# 65 \n",
    "# edit distance\n",
    "# Given two strings word1 and word2, return the minimum number of operations required to convert word1 to word2.\n",
    "# You have the following three operations permitted on a word:\n",
    "# Insert a character\n",
    "# Delete a character\n",
    "# Replace a character\n",
    " \n",
    "# Example 1:\n",
    "\n",
    "# Input: word1 = \"horse\", word2 = \"ros\"\n",
    "# Output: 3\n",
    "# Explanation: \n",
    "# horse -> rorse (replace 'h' with 'r')\n",
    "# rorse -> rose (remove 'r')\n",
    "# rose -> ros (remove 'e')\n",
    "\n",
    "word1 = \"horse\"\n",
    "word2 = \"ros\"\n",
    "cache = [[float(\"inf\")] * (len(word2) + 1) for i in range(len(word1) + 1)]\n",
    "for j in range(len(word2) + 1):\n",
    "    cache[len (word1)][j] = len(word2) - j\n",
    "for i in range(len(word1) + 1):\n",
    "    cache[i][len (word2)] = len(word1) - i\n",
    "for i in range(len(word1) - 1, -1, -1):\n",
    "    for j in range(len(word2) - 1, -1, -1):\n",
    "        if word1[i] == word2[j]:\n",
    "            cache[i][j] = cache[i + 1][j + 1]\n",
    "        else:\n",
    "            cache[i][j] = 1 + min(cache[i + 1][j], cache[i][j + 1], cache[i+1][j+1])\n",
    "\n",
    "print(cache,cache[0][0])"
   ]
  },
  {
   "cell_type": "code",
   "execution_count": 33,
   "id": "e5b12400",
   "metadata": {},
   "outputs": [
    {
     "data": {
      "text/plain": [
       "4"
      ]
     },
     "execution_count": 33,
     "metadata": {},
     "output_type": "execute_result"
    }
   ],
   "source": [
    "# 66\n",
    "# Longest repeating character replacement\n",
    "# You are given a string s and an integer k. You can choose any character of the string and change it to any other uppercase English character. You can perform this operation at most k times.\n",
    "# Return the length of the longest substring containing the same letter you can get after performing the above operations.\n",
    "\n",
    "# Example 1:\n",
    "\n",
    "# Input: s = \"ABAB\", k = 2\n",
    "# Output: 4\n",
    "# Explanation: Replace the two 'A's with two 'B's or vice versa.\n",
    "\n",
    "s = \"ABAB\"\n",
    "k = 2\n",
    "count = {}\n",
    "res = 0\n",
    "l = 0\n",
    "for r in range(len(s)):\n",
    "    count[s[r]] = 1 + count.get(s[r],0) # counting the character \n",
    "    if (r - l + 1) - max(count.values()) > k: # length of current window - maxmimum occured char in the current window \n",
    "        count[s[l]] -= 1\n",
    "        l += 1\n",
    "    res = max(res, r - l + 1)\n",
    "res"
   ]
  },
  {
   "cell_type": "code",
   "execution_count": 30,
   "id": "db07961d",
   "metadata": {},
   "outputs": [
    {
     "name": "stdout",
     "output_type": "stream",
     "text": [
      "[5, 6, 7, 1, 2, 3, 4]\n"
     ]
    }
   ],
   "source": [
    "# 67\n",
    "# rotate array\n",
    "# Given an integer array nums, rotate the array to the right by k steps, where k is non-negative.\n",
    "# Example 1:\n",
    "\n",
    "# Input: nums = [1,2,3,4,5,6,7], k = 3\n",
    "# Output: [5,6,7,1,2,3,4]\n",
    "# Explanation:\n",
    "# rotate 1 steps to the right: [7,1,2,3,4,5,6]\n",
    "# rotate 2 steps to the right: [6,7,1,2,3,4,5]\n",
    "# rotate 3 steps to the right: [5,6,7,1,2,3,4]\n",
    "def rotate(nums, k):\n",
    "    n = len(nums)\n",
    "    k = k % n  # Normalize k to ensure it's within the bounds of the array length\n",
    "    \n",
    "    count = 0  # Initialize the counter\n",
    "    \n",
    "    while count < k:\n",
    "        last_element = nums[-1]  # Get the last element\n",
    "        \n",
    "        # Shift all elements to the right by one position\n",
    "        for i in range(n-1, 0, -1):\n",
    "            nums[i] = nums[i-1]\n",
    "        \n",
    "        # Move the last element to the first position\n",
    "        nums[0] = last_element\n",
    "        \n",
    "        count += 1  # Increase the count by one\n",
    "\n",
    "# Example usage\n",
    "nums = [1, 2, 3, 4, 5, 6, 7]\n",
    "k = 3\n",
    "rotate(nums, k)\n",
    "print(nums)  # Output: [5, 6, 7, 1, 2, 3, 4]\n",
    "\n",
    "# nums[:] = nums[-k:]+nums[:-k]\n",
    "# nums"
   ]
  },
  {
   "cell_type": "code",
   "execution_count": 1,
   "id": "85e33a75",
   "metadata": {},
   "outputs": [
    {
     "name": "stdout",
     "output_type": "stream",
     "text": [
      "['cba', 'bca', 'bac', 'cab', 'acb', 'abc']\n"
     ]
    }
   ],
   "source": [
    "# 68\n",
    "# Permutations in string\n",
    "# Given two strings s1 and s2, return true if s2 contains a permutation of s1, or false otherwise.\n",
    "# In other words, return true if one of s1's permutations is the substring of s2.\n",
    "\n",
    "# Example 1:\n",
    "\n",
    "# Input: s1 = \"ab\", s2 = \"eidbaooo\"\n",
    "# Output: true\n",
    "# Explanation: s2 contains one permutation of s1 (\"ba\").\n",
    "\n",
    "# from itertools import permutations\n",
    "# s1 = \"ab\"\n",
    "# s2 = \"eidbaooo\"\n",
    "# res = []\n",
    "# a = permutations(s1)\n",
    "# for i in a:\n",
    "#     res.append(\"\".join(map(str,i)))\n",
    "# for i in res:\n",
    "#     if i in s2:\n",
    "#         print(True)\n",
    "#     else:\n",
    "#         print(False)\n",
    "def permute(s):\n",
    "    # Start with a list containing the first character\n",
    "    permutations = [s[0]]\n",
    "\n",
    "    # Iterate over the remaining characters\n",
    "    for char in s[1:]:\n",
    "        new_permutations = []\n",
    "        # Insert the current character into every possible position in each permutation so far\n",
    "        for perm in permutations:\n",
    "            for i in range(len(perm) + 1):\n",
    "                new_permutations.append(perm[:i] + char + perm[i:])\n",
    "        permutations = new_permutations\n",
    "\n",
    "    return permutations\n",
    "\n",
    "# Example usage\n",
    "string = \"abc\"\n",
    "permutations = permute(string)\n",
    "print(permutations)\n",
    "\n",
    "# def checkInclusion(self, s1, s2):\n",
    "#         window = len(s1)\n",
    "#         s1_c = Counter(s1)\n",
    "#         for i in range(len(s2) - window+1):\n",
    "#             s2_c = Counter(s2[i:i+window])\n",
    "\n",
    "#             if s2_c == s1_c:\n",
    "#                 return True\n",
    "#         return False"
   ]
  },
  {
   "cell_type": "code",
   "execution_count": 5,
   "id": "80d732aa",
   "metadata": {},
   "outputs": [
    {
     "name": "stdout",
     "output_type": "stream",
     "text": [
      "6\n"
     ]
    }
   ],
   "source": [
    "# 69\n",
    "# maximum sub array\n",
    "# Given an integer array nums, find the \n",
    "# subarray with the largest sum, and return its sum.\n",
    "\n",
    "# Example 1:\n",
    "\n",
    "# Input: nums = [-2,1,-3,4,-1,2,1,-5,4]\n",
    "# Output: 6\n",
    "# Explanation: The subarray [4,-1,2,1] has the largest sum 6\n",
    "\n",
    "nums = [-2,1,-3,4,-1,2,1,-5,4]\n",
    "currsum = 0\n",
    "globalsum = 0\n",
    "for i in range(1,len(nums)):\n",
    "    currsum = max(nums[i],nums[i] + currsum)\n",
    "    if currsum > globalsum:\n",
    "        globalsum = currsum\n",
    "print(globalsum)    "
   ]
  },
  {
   "cell_type": "code",
   "execution_count": 11,
   "id": "5eabb1b0",
   "metadata": {},
   "outputs": [
    {
     "name": "stdout",
     "output_type": "stream",
     "text": [
      "1 0\n",
      "2 0\n",
      "2 1\n"
     ]
    },
    {
     "data": {
      "text/plain": [
       "[[7, 4, 1], [8, 5, 2], [9, 6, 3]]"
      ]
     },
     "execution_count": 11,
     "metadata": {},
     "output_type": "execute_result"
    }
   ],
   "source": [
    "# 70\n",
    "# You are given an n x n 2D matrix representing an image, rotate the image by 90 degrees (clockwise).\n",
    "# You have to rotate the image in-place, which means you have to modify the input 2D matrix directly. \n",
    "# DO NOT allocate another 2D matrix and do the rotation.\n",
    "# Input: matrix = [[1,2,3],[4,5,6],[7,8,9]]\n",
    "# Output: [[7,4,1],[8,5,2],[9,6,3]]\n",
    "matrix = [[1,2,3],[4,5,6],[7,8,9]]\n",
    "matrix.reverse()\n",
    "for i in range(len(matrix)):\n",
    "    for j in range(i):\n",
    "        print(i,j)\n",
    "        matrix[i][j],matrix[j][i] = matrix[j][i],matrix[i][j]\n",
    "        \n",
    "matrix\n"
   ]
  },
  {
   "cell_type": "code",
   "execution_count": 12,
   "id": "d9d646d7",
   "metadata": {},
   "outputs": [
    {
     "name": "stdout",
     "output_type": "stream",
     "text": [
      "2\n"
     ]
    }
   ],
   "source": [
    "# 71\n",
    "# find duplicate number\n",
    "# Given an array of integers nums containing n + 1 integers where each integer is in the range [1, n] inclusive.\n",
    "# There is only one repeated number in nums, return this repeated number.\n",
    "# You must solve the problem without modifying the array nums and uses only constant extra space.\n",
    "\n",
    "# Example 1:\n",
    "\n",
    "# Input: nums = [1,3,4,2,2]\n",
    "# Output: 2\n",
    "nums = [1,3,4,2,2]\n",
    "seen = set()\n",
    "for i in  nums:\n",
    "    if i in seen:\n",
    "        print(i)\n",
    "    else:\n",
    "        seen.add(i)\n",
    "        "
   ]
  },
  {
   "cell_type": "code",
   "execution_count": 14,
   "id": "d9cb629a",
   "metadata": {},
   "outputs": [
    {
     "name": "stdout",
     "output_type": "stream",
     "text": [
      "3\n",
      "3\n"
     ]
    }
   ],
   "source": [
    "# 72 majority element\n",
    "# Given an array nums of size n, return the majority element.\n",
    "# The majority element is the element that appears more than ⌊n / 2⌋ times. \n",
    "# You may assume that the majority element always exists in the array.\n",
    "# Example 1:\n",
    "\n",
    "# Input: nums = [3,2,3]\n",
    "# Output: 3\n",
    "\n",
    "nums = [3,2,3]\n",
    "for i in nums:\n",
    "    if nums.count(i) > int(len(nums)/2):\n",
    "        print(i)"
   ]
  },
  {
   "cell_type": "code",
   "execution_count": 44,
   "id": "058b0132",
   "metadata": {},
   "outputs": [
    {
     "data": {
      "text/plain": [
       "'the cat was rat by the bat'"
      ]
     },
     "execution_count": 44,
     "metadata": {},
     "output_type": "execute_result"
    }
   ],
   "source": [
    "# 73 Repleace words\n",
    "# In English, we have a concept called root, which can be followed by some other word to form another longer \n",
    "# word - let's call this word derivative. For example, when the root \"help\" is followed by the word \"ful\", we can \n",
    "# form a derivative \"helpful\".\n",
    "# Given a dictionary consisting of many roots and a sentence consisting of words separated by spaces, replace \n",
    "# all the derivatives in the sentence with the root forming it. If a derivative can be replaced by more than one root, \n",
    "# replace it with the root that has the shortest length.\n",
    "# Return the sentence after the replacement.\n",
    "\n",
    "# Example 1:\n",
    "\n",
    "# Input: dictionary = [\"cat\",\"bat\",\"rat\"], sentence = \"the cattle was rattled by the battery\"\n",
    "# Output: \"the cat was rat by the bat\"\n",
    "\n",
    "dictionary = [\"catt\",\"cat\",\"bat\",\"rat\"]\n",
    "sentence = \"the cattle was rattled by the battery\"\n",
    "words = sentence.split()\n",
    "dictionary.sort()\n",
    "\n",
    "for i in range(len(words)):\n",
    "    for root in dictionary:\n",
    "        if  root in words[i]:\n",
    "            words[i] = root\n",
    "            break  \n",
    "result_sentence = \" \".join(words)\n",
    "\n",
    "result_sentence"
   ]
  },
  {
   "cell_type": "code",
   "execution_count": null,
   "id": "a32c18e1",
   "metadata": {},
   "outputs": [],
   "source": []
  },
  {
   "cell_type": "code",
   "execution_count": 32,
   "id": "789215c8",
   "metadata": {},
   "outputs": [
    {
     "name": "stdout",
     "output_type": "stream",
     "text": [
      "blue is sky the\n"
     ]
    }
   ],
   "source": [
    "# 75 Reverse words in a strin\n",
    "# Given an input string s, reverse the order of the words.\n",
    "# A word is defined as a sequence of non-space characters. The words in s will be separated by at least one space.\n",
    "# Return a string of the words in reverse order concatenated by a single space.\n",
    "# Note that s may contain leading or trailing spaces or multiple spaces between two words. The returned string should \n",
    "# only have a single space separating the words. Do not include any extra spaces.\n",
    "\n",
    "# Example 1:\n",
    "\n",
    "# Input: s = \"the sky is blue\"\n",
    "# Output: \"blue is sky the\"\n",
    "\n",
    "s = \"the sky is blue\"\n",
    "s = s.split()\n",
    "print(\" \".join(s[::-1]))"
   ]
  },
  {
   "cell_type": "code",
   "execution_count": 6,
   "id": "08d227b4",
   "metadata": {},
   "outputs": [
    {
     "data": {
      "text/plain": [
       "3"
      ]
     },
     "execution_count": 6,
     "metadata": {},
     "output_type": "execute_result"
    }
   ],
   "source": [
    "# 76 Height checker\n",
    "# A school is trying to take an annual photo of all the students. The students are asked to stand in a single \n",
    "# file line in non-decreasing order by height. Let this ordering be represented by the integer array expected \n",
    "# where expected[i] is the expected height of the ith student in line.\n",
    "# You are given an integer array heights representing the current order that the students are standing in. \n",
    "# Each heights[i] is the height of the ith student in line (0-indexed).\n",
    "# Return the number of indices where heights[i] != expected[i].\n",
    "\n",
    "# Example 1:\n",
    "\n",
    "# Input: heights = [1,1,4,2,1,3]\n",
    "# Output: 3\n",
    "# Explanation: \n",
    "# heights:  [1,1,4,2,1,3]\n",
    "# expected: [1,1,1,2,3,4]\n",
    "# Indices 2, 4, and 5 do not match.\n",
    "\n",
    "heights = [1,1,4,2,1,3]\n",
    "s = 0\n",
    "for h1, h2 in zip(heights, sorted(heights)):\n",
    "    if h1 != h2:\n",
    "        s += 1\n",
    "s"
   ]
  },
  {
   "cell_type": "code",
   "execution_count": 1,
   "id": "6bed40a7",
   "metadata": {},
   "outputs": [
    {
     "name": "stdout",
     "output_type": "stream",
     "text": [
      "1 -> 1 -> 2 -> 3 -> 4 -> 4 -> None\n"
     ]
    }
   ],
   "source": [
    "# 77 merge 2 sorted list\n",
    "# You are given the heads of two sorted linked lists list1 and list2.\n",
    "# Merge the two lists into one sorted list. The list should be made by splicing together the nodes of the first two lists.\n",
    "# Return the head of the merged linked list\n",
    "# Input: list1 = [1,2,4], list2 = [1,3,4]\n",
    "# Output: [1,1,2,3,4,4]\n",
    "\n",
    "class ListNode:\n",
    "    def __init__(self, val=0, next=None):\n",
    "        self.val = val\n",
    "        self.next = next\n",
    "\n",
    "def mergeTwoLists(list1, list2):\n",
    "    # Create a dummy node to serve as the start of the merged list\n",
    "    dummy = ListNode()\n",
    "    # Set current to the dummy node\n",
    "    current = dummy\n",
    "    \n",
    "    # Traverse both lists while neither is exhausted\n",
    "    while list1 is not None and list2 is not None:\n",
    "        if list1.val <= list2.val:\n",
    "            current.next = list1\n",
    "            list1 = list1.next\n",
    "        else:\n",
    "            current.next = list2\n",
    "            list2 = list2.next\n",
    "        current = current.next\n",
    "    \n",
    "    # If one of the lists is exhausted, append the other list to the merged list\n",
    "    if list1 is not None:\n",
    "        current.next = list1\n",
    "    elif list2 is not None:\n",
    "        current.next = list2\n",
    "    \n",
    "    # Return the merged list, starting from the node after the dummy node\n",
    "    return dummy.next\n",
    "\n",
    "# Helper function to print the linked list\n",
    "def printList(node):\n",
    "    while node:\n",
    "        print(node.val, end=\" -> \")\n",
    "        node = node.next\n",
    "    print(\"None\")\n",
    "\n",
    "# Example usage\n",
    "# Creating the first linked list: 1 -> 2 -> 4\n",
    "list1 = ListNode(1, ListNode(2, ListNode(4)))\n",
    "\n",
    "# Creating the second linked list: 1 -> 3 -> 4\n",
    "list2 = ListNode(1, ListNode(3, ListNode(4)))\n",
    "\n",
    "# Merging the lists\n",
    "mergedList = mergeTwoLists(list1, list2)\n",
    "\n",
    "# Printing the merged linked list\n",
    "printList(mergedList)\n"
   ]
  },
  {
   "cell_type": "code",
   "execution_count": 2,
   "id": "a63c423a",
   "metadata": {},
   "outputs": [
    {
     "name": "stdout",
     "output_type": "stream",
     "text": [
      "1 -> 2 -> 3 -> None\n"
     ]
    }
   ],
   "source": [
    "# 78 remove duplicates from sorted list\n",
    "class ListNode:\n",
    "    def __init__(self, val=0, next=None):\n",
    "        self.val = val\n",
    "        self.next = next\n",
    "    \n",
    "def duplicate(head):\n",
    "    curr = head\n",
    "    while curr is not None and curr.next is not None:\n",
    "        if curr.val == curr.next.val:\n",
    "            curr.next = curr.next.next\n",
    "        else:\n",
    "            curr = curr.next\n",
    "    return head\n",
    "        \n",
    "        \n",
    "def printList(node):\n",
    "    while node:\n",
    "        print(node.val, end=\" -> \")\n",
    "        node = node.next\n",
    "    print(\"None\")\n",
    "\n",
    "\n",
    "# Example usage\n",
    "l = ListNode(1, ListNode(1, ListNode(2, ListNode(3, ListNode(3)))))\n",
    "dup = duplicate(l)\n",
    "\n",
    "printList(dup)\n"
   ]
  },
  {
   "cell_type": "code",
   "execution_count": 1,
   "id": "d2a7aa75",
   "metadata": {},
   "outputs": [
    {
     "name": "stdout",
     "output_type": "stream",
     "text": [
      "leetcode\n"
     ]
    }
   ],
   "source": [
    "# 79 stack problems\n",
    "# Make the string great\n",
    "s = \"leEeetcode\"\n",
    "stack = [ ]\n",
    "i = 0\n",
    "while i < len(s):\n",
    "    if stack and stack[-1] != s[i] and stack[-1].lower() == s[i].lower():\n",
    "        \n",
    "        stack.pop()\n",
    "\n",
    "    else:\n",
    "        stack.append(s[i])\n",
    "    i += 1\n",
    "print(\"\".join(stack))"
   ]
  },
  {
   "cell_type": "code",
   "execution_count": 2,
   "id": "1d2ae9aa",
   "metadata": {},
   "outputs": [
    {
     "data": {
      "text/plain": [
       "3"
      ]
     },
     "execution_count": 2,
     "metadata": {},
     "output_type": "execute_result"
    }
   ],
   "source": [
    "# 80 maximum depth parenthesis\n",
    "# Given a valid parentheses string s, return the nesting depth of s. The nesting depth is the maximum number of nested parentheses.\n",
    "# Example 1:\n",
    "# Input: s = \"(1+(2*3)+((8)/4))+1\"\n",
    "# Output: 3\n",
    "s = \"(1+(2*3)+((8)/4))+1\"\n",
    "c = 0\n",
    "maxd = 0\n",
    "for i in s:\n",
    "    if i == '(':\n",
    "        c += 1\n",
    "        # maxd = max(c,maxd)\n",
    "    elif i == ')':\n",
    "        c -= 1\n",
    "    maxd = max(c,maxd)\n",
    "    # else:\n",
    "    #     continue\n",
    "maxd"
   ]
  },
  {
   "cell_type": "code",
   "execution_count": 8,
   "id": "9ef00a34",
   "metadata": {},
   "outputs": [
    {
     "name": "stdout",
     "output_type": "stream",
     "text": [
      "[1, 1, 1]\n",
      "3\n"
     ]
    }
   ],
   "source": [
    "# # 81\n",
    "# he school cafeteria offers circular and square sandwiches at lunch break, referred to by numbers 0 and 1 respectively. All students stand in a queue. Each student either prefers square or circular sandwiches.\n",
    "\n",
    "# The number of sandwiches in the cafeteria is equal to the number of students. The sandwiches are placed in a stack. At each step:\n",
    "\n",
    "# If the student at the front of the queue prefers the sandwich on the top of the stack, they will take it and leave the queue.\n",
    "# Otherwise, they will leave it and go to the queue's end.\n",
    "# This continues until none of the queue students want to take the top sandwich and are thus unable to eat.\n",
    "\n",
    "# You are given two integer arrays students and sandwiches where sandwiches[i] is the type of the i​​​​​​th sandwich in the stack (i = 0 is the top of the stack) and students[j] is the preference of the j​​​​​​th student in the initial queue (j = 0 is the front of the queue). Return the number of students that are unable to eat.\n",
    "\n",
    " \n",
    "\n",
    "# Example 1:\n",
    "\n",
    "# Input: students = [1,1,0,0], sandwiches = [0,1,0,1]\n",
    "# Output: 0 \n",
    "# Explanation:\n",
    "# - Front student leaves the top sandwich and returns to the end of the line making students = [1,0,0,1].\n",
    "# - Front student leaves the top sandwich and returns to the end of the line making students = [0,0,1,1].\n",
    "# - Front student takes the top sandwich and leaves the line making students = [0,1,1] and sandwiches = [1,0,1].\n",
    "# - Front student leaves the top sandwich and returns to the end of the line making students = [1,1,0].\n",
    "# - Front student takes the top sandwich and leaves the line making students = [1,0] and sandwiches = [0,1].\n",
    "# - Front student leaves the top sandwich and returns to the end of the line making students = [0,1].\n",
    "# - Front student takes the top sandwich and leaves the line making students = [1] and sandwiches = [1].\n",
    "# - Front student takes the top sandwich and leaves the line making students = [] and sandwiches = [].\n",
    "# Hence all students are able to eat.\n",
    "\n",
    "students = [1, 1, 1, 0, 0, 1]\n",
    "sandwiches = [1, 0, 0, 0, 1, 1]\n",
    "\n",
    "attempts = 0\n",
    "\n",
    "while students:\n",
    "    if students[0] == sandwiches[0]:\n",
    "        students.pop(0)\n",
    "        sandwiches.pop(0)\n",
    "        attempts = 0\n",
    "    else:\n",
    "        students.append(students.pop(0))\n",
    "        attempts += 1\n",
    "\n",
    "    if attempts == len(students):\n",
    "        break\n",
    "\n",
    "print(students)\n",
    "print(len(students))"
   ]
  },
  {
   "cell_type": "code",
   "execution_count": 12,
   "id": "ae6e4867",
   "metadata": {},
   "outputs": [
    {
     "data": {
      "text/plain": [
       "-1"
      ]
     },
     "execution_count": 12,
     "metadata": {},
     "output_type": "execute_result"
    }
   ],
   "source": [
    "# 82\n",
    "# range sum\n",
    "nums = [-2, 0, 3, -5, 2, -1] \n",
    "que = []\n",
    "left,right = [2,5]\n",
    "for i in range(len(nums)):\n",
    "    if i >= left and i <= right:\n",
    "        que.append(nums[i])\n",
    "sum(que)"
   ]
  },
  {
   "cell_type": "code",
   "execution_count": 15,
   "id": "cb2df666",
   "metadata": {},
   "outputs": [
    {
     "data": {
      "text/plain": [
       "6"
      ]
     },
     "execution_count": 15,
     "metadata": {},
     "output_type": "execute_result"
    }
   ],
   "source": [
    "# 83 Minimum increment to make array unique\n",
    "# You are given an integer array nums. In one move, you can pick an index i where 0 <= i < nums.length and increment nums[i] by 1.\n",
    "# Return the minimum number of moves to make every value in nums unique.\n",
    "# The test cases are generated so that the answer fits in a 32-bit integer.\n",
    "\n",
    "# Example 2:\n",
    "\n",
    "# Input: nums = [3,2,1,2,1,7]\n",
    "# Output: 6\n",
    "# Explanation: After 6 moves, the array could be [3, 4, 1, 2, 5, 7].\n",
    "# It can be shown with 5 or less moves that it is impossible for the array to have all unique values.\n",
    "\n",
    "nums = [3,2,1,2,1,7]\n",
    "nums.sort() # [1,1,2,2,3,7]\n",
    "moves = 0\n",
    "\n",
    "for i in range(1, len(nums)):\n",
    "    if nums[i] <= nums[i - 1]:\n",
    "        new_val = nums[i - 1] + 1\n",
    "        moves += new_val - nums[i]\n",
    "        nums[i] = new_val\n",
    "\n",
    "moves"
   ]
  },
  {
   "cell_type": "code",
   "execution_count": 5,
   "id": "87b7044d",
   "metadata": {},
   "outputs": [
    {
     "name": "stdout",
     "output_type": "stream",
     "text": [
      "2\n"
     ]
    }
   ],
   "source": [
    "# 84\n",
    "# Given an array nums containing n distinct numbers in the range [0, n], return the only number in the range \n",
    "# that is missing from the array.\n",
    "\n",
    "# Example 1:\n",
    "# Input: nums = [3,0,1]\n",
    "# Output: 2\n",
    "# Explanation: n = 3 since there are 3 numbers, so all numbers are in the range [0,3]. \n",
    "# 2 is the missing number in the range since it does not appear in nums.\n",
    "\n",
    "nums = [3,0,1]\n",
    "nums.sort()\n",
    "for i in range(len(nums) - 1):\n",
    "    if nums[i] + 1 != nums[i + 1]:\n",
    "        print(nums[i] + 1)\n",
    "        break\n",
    "else:\n",
    "    print(nums[-1] + 1)"
   ]
  },
  {
   "cell_type": "code",
   "execution_count": 12,
   "id": "fcf39627",
   "metadata": {},
   "outputs": [
    {
     "name": "stdout",
     "output_type": "stream",
     "text": [
      "1\n"
     ]
    }
   ],
   "source": [
    "# 85\n",
    "# minmum number in the rotated sorted array\n",
    "# Suppose an array of length n sorted in ascending order is rotated between 1 and n times. For example, the array nums = [0,1,2,4,5,6,7] might become:\n",
    "# [4,5,6,7,0,1,2] if it was rotated 4 times.\n",
    "# [0,1,2,4,5,6,7] if it was rotated 7 times.\n",
    "# Notice that rotating an array [a[0], a[1], a[2], ..., a[n-1]] 1 time results in the array [a[n-1], a[0], a[1], a[2], ..., a[n-2]].\n",
    "# Given the sorted rotated array nums of unique elements, return the minimum element of this array\n",
    "# You must write an algorithm that runs in O(log n) time.\n",
    "\n",
    "# Example 1:\n",
    "\n",
    "# Input: nums = [3,4,5,1,2]\n",
    "# Output: 1\n",
    "# Explanation: The original array was [1,2,3,4,5] rotated 3 times.\n",
    "\n",
    "nums = [3,4,5,1,2]\n",
    "l = 0\n",
    "r = len(nums)-1\n",
    "res = nums[0]\n",
    "while l <= r:\n",
    "    if nums[l] < nums[r]: # rotated sorted array means mostly nums[l] greater than nums[r] \n",
    "        res = min(res,nums[l])\n",
    "        break\n",
    "    m = (l+r)//2\n",
    "    res = min(nums[m],res)\n",
    "    if nums[m] >= nums[l]:\n",
    "        l = m+1\n",
    "    else:\n",
    "        r = m-1\n",
    "print(res)"
   ]
  },
  {
   "cell_type": "code",
   "execution_count": 13,
   "id": "0e9524bf",
   "metadata": {},
   "outputs": [
    {
     "name": "stdout",
     "output_type": "stream",
     "text": [
      "4\n"
     ]
    }
   ],
   "source": [
    "# 86\n",
    "# Koko loves to eat bananas. There are n piles of bananas, the ith pile has piles[i] bananas. The guards have gone and will come back in h hours.\n",
    "# Koko can decide her bananas-per-hour eating speed of k. Each hour, she chooses some pile of bananas and eats k bananas from that pile. If the pile has less than k bananas, she eats all of them instead and will not eat any more bananas during this hour.\n",
    "# Koko likes to eat slowly but still wants to finish eating all the bananas before the guards return.\n",
    "# Return the minimum integer k such that she can eat all the bananas within h hours.\n",
    "\n",
    "\n",
    "# Example 1:\n",
    "\n",
    "# Input: piles = [3,6,7,11], h = 8\n",
    "# Output: 4\n",
    "import math\n",
    "piles = [3,6,7,11]\n",
    "h = 8\n",
    "l = 0\n",
    "r = max(piles)\n",
    "res = r\n",
    "while l <= r:\n",
    "    k = (l+r)//2\n",
    "    hours = 0\n",
    "    for p in piles:\n",
    "        hours += math.ceil(p/k)# determine how many hours to eat all bananas \n",
    "    if hours <= h:\n",
    "        res = min(res,k)\n",
    "        r = k-1\n",
    "    else:\n",
    "        l = k+1\n",
    "print(res)"
   ]
  },
  {
   "cell_type": "code",
   "execution_count": 9,
   "id": "4b3eea36",
   "metadata": {},
   "outputs": [
    {
     "name": "stdout",
     "output_type": "stream",
     "text": [
      "2.5\n"
     ]
    }
   ],
   "source": [
    "# 87\n",
    "# Given two sorted arrays nums1 and nums2 of size m and n respectively, return the median of the two sorted arrays.\n",
    "# The overall run time complexity should be O(log (m+n)).\n",
    " \n",
    "# Example 1:\n",
    "# Input: nums1 = [1,3], nums2 = [2]\n",
    "# Output: 2.00000\n",
    "# Explanation: merged array = [1,2,3] and median is 2.\n",
    "nums1 = [1,2]\n",
    "nums2 = [3,4]\n",
    "merged = sorted(nums1 + nums2)\n",
    "    \n",
    "    # Calculate the length of the merged array\n",
    "n = len(merged)\n",
    "\n",
    "# Find the median\n",
    "if n % 2 == 1:\n",
    "    print(merged[n // 2])\n",
    "else:\n",
    "    print((merged[(n // 2) - 1] + merged[n // 2]) / 2)"
   ]
  },
  {
   "cell_type": "code",
   "execution_count": 8,
   "id": "652354f8",
   "metadata": {},
   "outputs": [
    {
     "name": "stdout",
     "output_type": "stream",
     "text": [
      "[2, 2]\n",
      "[2, 2]\n"
     ]
    }
   ],
   "source": [
    "# 88\n",
    "# intersection of 2 arrays II\n",
    "# Given two integer arrays nums1 and nums2, return an array of their intersection. Each element in the result must appear as many times as it shows in both arrays and you may return the result in any order.\n",
    "# Example 1:\n",
    "# Input: nums1 = [1,2,2,1], nums2 = [2,2]\n",
    "# Output: [2,2]\n",
    "n1 = [1, 2, 2, 1]\n",
    "n2 = [2, 2]\n",
    "l = []\n",
    "\n",
    "for i in n1[:]:  # iterate over a copy of n1\n",
    "    if i in n2:\n",
    "        l.append(i)\n",
    "        n1.remove(i)\n",
    "        n2.remove(i)\n",
    "\n",
    "print(l)  \n",
    "\n",
    "n1 = [1, 2, 2, 1]\n",
    "n2 = [2, 2]\n",
    "count1 = {}\n",
    "count2 = {}\n",
    "\n",
    "for i in n1:\n",
    "    count1[i] = count1.get(i, 0) + 1\n",
    "for i in n2:\n",
    "    count2[i] = count2.get(i, 0) + 1\n",
    "\n",
    "l = []\n",
    "for k in count1:\n",
    "    if k in count2:\n",
    "        l.extend([k] * min(count1[k], count2[k]))\n",
    "\n",
    "print(l)  "
   ]
  },
  {
   "cell_type": "code",
   "execution_count": 3,
   "id": "633ac4b7",
   "metadata": {},
   "outputs": [
    {
     "name": "stdout",
     "output_type": "stream",
     "text": [
      "Original linked list:\n",
      "1 -> 2 -> 3 -> 4 -> 5 -> None\n",
      "\n",
      "Linked list after removal:\n",
      "1 -> 2 -> 3 -> 5 -> None\n"
     ]
    }
   ],
   "source": [
    "# 89 remove nth from the end of the list\n",
    "# Given the head of a linked list, remove the nth node from the end of the list and return its head.\n",
    "\n",
    "\n",
    "# Example 1:\n",
    "# Input: head = [1,2,3,4,5], n = 2\n",
    "# Output: [1,2,3,5]\n",
    "\n",
    "# Example 2:\n",
    "# Input: head = [1], n = 1\n",
    "# Output: []\n",
    "\n",
    "# Example 3:\n",
    "# Input: head = [1,2], n = 1\n",
    "# Output: [1]\n",
    "\n",
    "# Definition for singly-linked list.\n",
    "class ListNode:\n",
    "    def __init__(self, val=0, next=None):\n",
    "        self.val = val\n",
    "        self.next = next\n",
    "\n",
    "class Solution:\n",
    "    def removeNthFromEnd(self, head, n):\n",
    "        # Step 1: Use two pointers approach\n",
    "        dummy = ListNode(0)\n",
    "        dummy.next = head\n",
    "        fast = dummy\n",
    "        slow = dummy\n",
    "        \n",
    "        # Move fast pointer n steps ahead\n",
    "        for _ in range(n + 1):\n",
    "            fast = fast.next\n",
    "        \n",
    "        # Move both pointers until fast reaches the end\n",
    "        while fast:\n",
    "            fast = fast.next\n",
    "            slow = slow.next\n",
    "        \n",
    "        # Remove the nth node from the end\n",
    "        slow.next = slow.next.next\n",
    "        \n",
    "        return dummy.next\n",
    "\n",
    "# Helper function to print the linked list\n",
    "def printLinkedList(head):\n",
    "    current = head\n",
    "    while current:\n",
    "        print(current.val, end=\" -> \")\n",
    "        current = current.next\n",
    "    print(\"None\")\n",
    "\n",
    "# Example usage:\n",
    "if __name__ == \"__main__\":\n",
    "    # Creating a linked list: 1 -> 2 -> 3 -> 4 -> 5\n",
    "    head = ListNode(1)\n",
    "    head.next = ListNode(2)\n",
    "    head.next.next = ListNode(3)\n",
    "    head.next.next.next = ListNode(4)\n",
    "    head.next.next.next.next = ListNode(5)\n",
    "    \n",
    "    print(\"Original linked list:\")\n",
    "    printLinkedList(head)\n",
    "    \n",
    "    # Removing the 2nd node from the end (n = 2)\n",
    "    solution = Solution()\n",
    "    modified_head = solution.removeNthFromEnd(head, 2)\n",
    "    \n",
    "    print(\"\\nLinked list after removal:\")\n",
    "    printLinkedList(modified_head)\n"
   ]
  },
  {
   "cell_type": "code",
   "execution_count": 18,
   "id": "e1dab3a0",
   "metadata": {},
   "outputs": [
    {
     "name": "stdout",
     "output_type": "stream",
     "text": [
      "True\n"
     ]
    }
   ],
   "source": [
    "# 90\n",
    "# Continuous sub array\n",
    "# Given an integer array nums and an integer k, return true if nums has a good subarray or false otherwise.\n",
    "\n",
    "# A good subarray is a subarray where:\n",
    "\n",
    "# its length is at least two, and\n",
    "# the sum of the elements of the subarray is a multiple of k.\n",
    "# Note that:\n",
    "\n",
    "# A subarray is a contiguous part of the array.\n",
    "# An integer x is a multiple of k if there exists an integer n such that x = n * k. 0 is always a multiple of k.\n",
    " \n",
    "\n",
    "# Example 1:\n",
    "\n",
    "# Input: nums = [23,2,4,6,7], k = 6\n",
    "# Output: true\n",
    "# Explanation: [2, 4] is a continuous subarray of size 2 whose elements sum up to 6.\n",
    "# Example 2:\n",
    "\n",
    "# Input: nums = [23,2,6,4,7], k = 6\n",
    "# Output: true\n",
    "# Explanation: [23, 2, 6, 4, 7] is an continuous subarray of size 5 whose elements sum up to 42.\n",
    "# 42 is a multiple of 6 because 42 = 7 * 6 and 7 is an integer.\n",
    "# Example 3:\n",
    "\n",
    "# Input: nums = [23,2,6,4,7], k = 13\n",
    "# Output: false\n",
    "\n",
    "nums = [23,2,4,6,7]\n",
    "k = 6\n",
    "remD = {0:-1}\n",
    "s = 0\n",
    "for i in range(len(nums)):\n",
    "    s += nums[i]\n",
    "    rem = s % k\n",
    "    if rem in remD: # checking key 0\n",
    "        if i - remD[rem] > 1:\n",
    "            print(True)\n",
    "        else:\n",
    "            remD[rem] = i     "
   ]
  },
  {
   "cell_type": "code",
   "execution_count": 15,
   "id": "83390569",
   "metadata": {},
   "outputs": [
    {
     "data": {
      "text/plain": [
       "3"
      ]
     },
     "execution_count": 15,
     "metadata": {},
     "output_type": "execute_result"
    }
   ],
   "source": [
    "# 91\n",
    "# longest continuous increasing subsequence\n",
    "# Given an unsorted array of integers nums, return the length of the longest continuous increasing subsequence (i.e. subarray). The subsequence must be strictly increasing.\n",
    "# A continuous increasing subsequence is defined by two indices l and r (l < r) such that it is [nums[l], nums[l + 1], ..., nums[r - 1], nums[r]] and for each l <= i < r, nums[i] < nums[i + 1].\n",
    "# Example 1:\n",
    "# Input: nums = [1,3,5,4,7]\n",
    "# Output: 3\n",
    "# Explanation: The longest continuous increasing subsequence is [1,3,5] with length 3.\n",
    "# Even though [1,3,5,7] is an increasing subsequence, it is not continuous as elements 5 and 7 are separated by element\n",
    "# 4.\n",
    "\n",
    "nums = [1,3,5,4,7]\n",
    "n = len(nums)\n",
    "ans = 1\n",
    "curr_len = 1\n",
    "for i in range(1,n):\n",
    "    if nums[i] > nums[i-1]:\n",
    "        curr_len += 1\n",
    "        ans = max(ans,curr_len)\n",
    "    else:\n",
    "        curr_len = 1\n",
    "ans"
   ]
  },
  {
   "cell_type": "code",
   "execution_count": 3,
   "id": "95d052e8",
   "metadata": {},
   "outputs": [
    {
     "name": "stdout",
     "output_type": "stream",
     "text": [
      "abc\n"
     ]
    }
   ],
   "source": [
    "# 92\n",
    "# odd string difference\n",
    "# You are given an array of equal-length strings words. Assume that the length of each string is n.\n",
    "\n",
    "# Each string words[i] can be converted into a difference integer array difference[i] of length n - 1 where difference[i][j] = words[i][j+1] - words[i][j] where 0 <= j <= n - 2. Note that the difference between two letters is the difference between their positions in the alphabet i.e. the position of 'a' is 0, 'b' is 1, and 'z' is 25.\n",
    "\n",
    "# For example, for the string \"acb\", the difference integer array is [2 - 0, 1 - 2] = [2, -1].\n",
    "# All the strings in words have the same difference integer array, except one. You should find that string.\n",
    "\n",
    "# Return the string in words that has different difference integer array.\n",
    "\n",
    "# Example 1:\n",
    "\n",
    "# Input: words = [\"adc\",\"wzy\",\"abc\"]\n",
    "# Output: \"abc\"\n",
    "# Explanation: \n",
    "# - The difference integer array of \"adc\" is [3 - 0, 2 - 3] = [3, -1].\n",
    "# - The difference integer array of \"wzy\" is [25 - 22, 24 - 25]= [3, -1].\n",
    "# - The difference integer array of \"abc\" is [1 - 0, 2 - 1] = [1, 1]. \n",
    "# The odd array out is [1, 1], so we return the corresponding string, \"abc\".\n",
    "import collections\n",
    "words = [\"adc\",\"wzy\",\"abc\"]\n",
    "n= len(words)\n",
    "m = len(words[0])\n",
    "diff = []\n",
    "for i in range(n):\n",
    "    cur = []\n",
    "    for j in range(m-1):\n",
    "        cur.append(ord(words[i][j+1]) - ord(words[i][j]))\n",
    "    diff.append(tuple(cur)) # [(3, -1), (3, -1), (1, 1)]\n",
    "cnt = collections.Counter(diff) # Counter({(3, -1): 2, (1, 1): 1})\n",
    "for i in range(n):\n",
    "    if cnt[diff[i]] == 1:\n",
    "        print(words[i])\n"
   ]
  },
  {
   "cell_type": "code",
   "execution_count": 8,
   "id": "b9c849e1",
   "metadata": {},
   "outputs": [
    {
     "data": {
      "text/plain": [
       "6"
      ]
     },
     "execution_count": 8,
     "metadata": {},
     "output_type": "execute_result"
    }
   ],
   "source": [
    "# min cost of climbing stairs\n",
    "# You are given an integer array cost where cost[i] is the cost of ith step on a staircase. Once you pay the cost, you can either climb one or two steps.\n",
    "# You can either start from the step with index 0, or the step with index 1.\n",
    "# Return the minimum cost to reach the top of the floor.\n",
    "\n",
    "# Example 1:\n",
    "\n",
    "# Input: cost = [10,15,20]\n",
    "# Output: 15\n",
    "# Explanation: You will start at index 1.\n",
    "# - Pay 15 and climb two steps to reach the top.\n",
    "# The total cost is 15.\n",
    "cost = [1,100,1,1,1,100,1,1,100,1] # out = 6\n",
    "dp = [0]*(len(cost)+1)\n",
    "dp[1] = 1\n",
    "for i in range(2,len(cost)+1):\n",
    "    dp[i] = min(dp[i-1]+cost[i-1],dp[i-2]+cost[i-2])\n",
    "dp[len(cost)]"
   ]
  },
  {
   "cell_type": "code",
   "execution_count": 15,
   "id": "cf9fcd82",
   "metadata": {},
   "outputs": [
    {
     "data": {
      "text/plain": [
       "3"
      ]
     },
     "execution_count": 15,
     "metadata": {},
     "output_type": "execute_result"
    }
   ],
   "source": [
    "# 93\n",
    "# coin change\n",
    "# You are given an integer array coins representing coins of different denominations and an integer amount representing a total amount of money.\n",
    "# Return the fewest number of coins that you need to make up that amount. If that amount of money cannot be made up by any combination of the coins, return -1.\n",
    "# You may assume that you have an infinite number of each kind of coin.\n",
    "\n",
    " \n",
    "\n",
    "# Example 1:\n",
    "\n",
    "# Input: coins = [1,2,5], amount = 11\n",
    "# Output: 3\n",
    "# Explanation: 11 = 5 + 5 + 1\n",
    "# Example 2:\n",
    "\n",
    "# Input: coins = [2], amount = 3\n",
    "# Output: -1\n",
    "\n",
    "coins = [1,2,5]\n",
    "amount = 11\n",
    "def coinChange( coins, amount):\n",
    "    \n",
    "    dp = [amount + 1] * (amount + 1)\n",
    "    dp[0] = 0\n",
    "    for a in range(1, amount + 1):\n",
    "        for c in coins:\n",
    "            if a-c >= 0:\n",
    "                dp[a] = min(dp[a], 1 + dp[a - c])\n",
    "    return dp[amount] if dp[amount] != amount + 1 else -1\n",
    "coinChange([1,2,5],11)"
   ]
  },
  {
   "cell_type": "code",
   "execution_count": 11,
   "id": "5a32f910",
   "metadata": {},
   "outputs": [
    {
     "data": {
      "text/plain": [
       "4"
      ]
     },
     "execution_count": 11,
     "metadata": {},
     "output_type": "execute_result"
    }
   ],
   "source": [
    "# 94\n",
    "# maximum distance\n",
    "# You are given m arrays, where each array is sorted in ascending order.\n",
    "# You can pick up two integers from two different arrays (each array picks one) and \n",
    "# calculate the distance. We define the distance between two integers a and b to be their absolute difference |a - b|.\n",
    "# Return the maximum distance.\n",
    "\n",
    "# Example 1:\n",
    "\n",
    "# Input: arrays = [[1,2,3],[4,5],[1,2,3]]\n",
    "# Output: 4\n",
    "# Explanation: One way to reach the maximum distance 4 is to pick 1 in the first or third array and pick 5 in the second array.\n",
    "arrays = [[1,4],[0,5]]\n",
    "mni = arrays[0][0]\n",
    "mxi = arrays[0][-1]\n",
    "diff = 0\n",
    "\n",
    "for i in range(1,len(arrays)):\n",
    "    arr = arrays[i]\n",
    "    diff = max(diff,abs(arr[-1] - mni), abs(mxi-arr[0]))\n",
    "    mni = min(mni,arr[0])\n",
    "    mxi = max(mxi,arr[-1])\n",
    "diff\n",
    "    \n"
   ]
  },
  {
   "cell_type": "code",
   "execution_count": 3,
   "id": "58d3b899",
   "metadata": {},
   "outputs": [
    {
     "data": {
      "text/plain": [
       "[3, 3, 5, 5, 6, 7]"
      ]
     },
     "execution_count": 3,
     "metadata": {},
     "output_type": "execute_result"
    }
   ],
   "source": [
    "# 95\n",
    "# sliding window maximum\n",
    "# You are given an array of integers nums, there is a sliding window of size k which is moving from the very left of the \n",
    "# array to the very right. You can only see the k numbers in the window. Each time the sliding window moves right by one position.\n",
    "# Return the max sliding window.\n",
    "\n",
    "# Example 1:\n",
    "\n",
    "# Input: nums = [1,3,-1,-3,5,3,6,7], k = 3\n",
    "# Output: [3,3,5,5,6,7]\n",
    "# Explanation: \n",
    "# Window position                Max\n",
    "# ---------------               -----\n",
    "# [1  3  -1] -3  5  3  6  7       3\n",
    "#  1 [3  -1  -3] 5  3  6  7       3\n",
    "#  1  3 [-1  -3  5] 3  6  7       5\n",
    "#  1  3  -1 [-3  5  3] 6  7       5\n",
    "#  1  3  -1  -3 [5  3  6] 7       6\n",
    "#  1  3  -1  -3  5 [3  6  7]      7\n",
    "\n",
    "nums = [1,3,-1,-3,5,3,6,7]\n",
    "k = 3\n",
    "# sub = []\n",
    "# for i in range(len(nums)-k+1): # range(6)\n",
    "#     sub.append(max(nums[i:i+k]))\n",
    "# sub\n",
    "from collections import deque\n",
    "q = deque() # track index\n",
    "out = []\n",
    "l = r = 0\n",
    "while r < len(nums):\n",
    "    while q and nums[q[-1]] < nums[r]:\n",
    "        q.pop()\n",
    "    q.append(r)\n",
    "    \n",
    "    if l > q[0]:\n",
    "        q.popleft()\n",
    "    \n",
    "    if r+1 >= k:\n",
    "        out.append(nums[q[0]])\n",
    "        l += 1\n",
    "    r += 1\n",
    "out"
   ]
  },
  {
   "cell_type": "code",
   "execution_count": 3,
   "id": "a4e16250",
   "metadata": {},
   "outputs": [],
   "source": [
    "# 96\n",
    "# n-ary tree postorder\n",
    "# Given the root of an n-ary tree, return the postorder traversal of its nodes' values.\n",
    "# Nary-Tree input serialization is represented in their level order traversal. Each group of children is \n",
    "# separated by the null value (See examples)\n",
    "\n",
    "# Example 1:\n",
    "# Input: root = [1,null,3,2,4,null,5,6]\n",
    "# Output: [5,6,3,2,4,1]\n",
    "\n",
    "def postorder(self, root):\n",
    "    if not root:\n",
    "        return []\n",
    "\n",
    "    ans = []\n",
    "    def dfs(root):\n",
    "        for x  in root.children:\n",
    "            dfs(x)\n",
    "        ans.append(root.val)\n",
    "    dfs(root)\n",
    "    return ans\n"
   ]
  },
  {
   "cell_type": "code",
   "execution_count": 28,
   "id": "4c30c9ea",
   "metadata": {},
   "outputs": [
    {
     "name": "stdout",
     "output_type": "stream",
     "text": [
      "12552031545\n",
      "33\n",
      "6\n"
     ]
    },
    {
     "data": {
      "text/plain": [
       "6"
      ]
     },
     "execution_count": 28,
     "metadata": {},
     "output_type": "execute_result"
    }
   ],
   "source": [
    "# 97\n",
    "# sum of digits of string after convert\n",
    "# You are given a string s consisting of lowercase English letters, and an integer k.\n",
    "# First, convert s into an integer by replacing each letter with its position in the alphabet (i.e., replace 'a' with \n",
    "# 1, 'b' with 2, ..., 'z' with 26). Then, transform the integer by replacing it with the sum of its digits. Repeat the \n",
    "# transform operation k times in total.\n",
    "# For example, if s = \"zbax\" and k = 2, then the resulting integer would be 8 by the following operations:\n",
    "# Convert: \"zbax\" ➝ \"(26)(2)(1)(24)\" ➝ \"262124\" ➝ 262124\n",
    "# Transform #1: 262124 ➝ 2 + 6 + 2 + 1 + 2 + 4 ➝ 17\n",
    "# Transform #2: 17 ➝ 1 + 7 ➝ 8\n",
    "# Return the resulting integer after performing the operations described above.\n",
    "\n",
    "# Example 1:\n",
    "\n",
    "# operations are as follows:\n",
    "# - Convert: \"leetcode\" ➝ \"(12)(5)(5)(20)(3)(15)(4)(5)\" ➝ \"12552031545\" ➝ 12552031545\n",
    "# - Transform #1: 12552031545 ➝ 1 + 2 + 5 + 5 + 2 + 0 + 3 + 1 + 5 + 4 + 5 ➝ 33\n",
    "# - Transform #2: 33 ➝ 3 + 3 ➝ 6\n",
    "# Thus the resulting integer is 6.\n",
    "s = \"leetcode\"\n",
    "k = 2\n",
    "res = \"\"\n",
    "for i in s:\n",
    "    res += str((ord(i)-ord('a')+1))\n",
    "print(res)\n",
    "while k > 0:\n",
    "    ans = 0\n",
    "    for i in res:\n",
    "        ans += int(i)\n",
    "    print(ans)\n",
    "    res = str(ans)\n",
    "    k -= 1\n",
    "ans"
   ]
  },
  {
   "cell_type": "code",
   "execution_count": 17,
   "id": "e307cf2d",
   "metadata": {},
   "outputs": [
    {
     "name": "stdout",
     "output_type": "stream",
     "text": [
      "1->2->3->4->5\n",
      "4->5\n"
     ]
    }
   ],
   "source": [
    "# 98\n",
    "# delete nodes from linked list that are in array \n",
    "# You are given an array of integers nums and the head of a linked list. Return the head of the modified linked \n",
    "# list after removing all nodes from the linked list that have a value that exists in nums.\n",
    "# Example 1:\n",
    "# Input: nums = [1,2,3], head = [1,2,3,4,5]\n",
    "# Output: [4,5]\n",
    "values = [1,2,3,4,5]\n",
    "\n",
    "class ListNode:\n",
    "    def __init__(self, val=0, next=None):\n",
    "        self.val = val\n",
    "        self.next = next\n",
    "\n",
    "def linkedlist(values):\n",
    "    if not values:\n",
    "        return None\n",
    "    head = ListNode(values[0])  # head node\n",
    "    curr = head\n",
    "\n",
    "    for i in values[1:]:\n",
    "        curr.next = ListNode(i)\n",
    "        curr = curr.next\n",
    "    return head\n",
    "\n",
    "def printlist(head):\n",
    "    curr = head\n",
    "    while curr:\n",
    "        print(curr.val, end=\"->\" if curr.next else \"\\n\") \n",
    "        curr = curr.next\n",
    "\n",
    "values = [1, 2, 3, 4, 5]\n",
    "\n",
    "linked_head = linkedlist(values)\n",
    "\n",
    "printlist(linked_head)\n",
    "\n",
    "nums = [1,2,3]\n",
    "\n",
    "class solution:\n",
    "    def modifiedList(self,nums,head):\n",
    "        dummy = ListNode(0)\n",
    "        dummy.next = head\n",
    "        curr = dummy\n",
    "        \n",
    "        while curr and curr.next:\n",
    "            if curr.next.val in nums:\n",
    "                curr.next = curr.next.next\n",
    "            else:\n",
    "                curr = curr.next\n",
    "        return dummy.next\n",
    "\n",
    "linked = linkedlist(values)\n",
    "sol = solution()\n",
    "printlist(sol.modifiedList(nums,linked))"
   ]
  },
  {
   "cell_type": "code",
   "execution_count": 10,
   "id": "442c4419",
   "metadata": {},
   "outputs": [
    {
     "data": {
      "text/plain": [
       "True"
      ]
     },
     "execution_count": 10,
     "metadata": {},
     "output_type": "execute_result"
    }
   ],
   "source": [
    "# 99\n",
    "# power of 3\n",
    "\n",
    "# Example 1:\n",
    "# Input: n = 27\n",
    "# Output: true\n",
    "# Explanation: 27\n",
    "\n",
    "n = 27\n",
    "def ispower(n):\n",
    "    if n == 1:\n",
    "        return True\n",
    "    elif n < 3:\n",
    "        return False\n",
    "    if not n%3:\n",
    "        return ispower(n/3)\n",
    "    return False\n",
    "ispower(n)"
   ]
  },
  {
   "cell_type": "code",
   "execution_count": 1,
   "id": "37c5d530",
   "metadata": {},
   "outputs": [
    {
     "data": {
      "text/plain": [
       "1"
      ]
     },
     "execution_count": 1,
     "metadata": {},
     "output_type": "execute_result"
    }
   ],
   "source": [
    "# 100\n",
    "# different between times (HH:MM)\n",
    "# Example 1:\n",
    "# Input: timePoints = [\"23:59\",\"00:00\"]\n",
    "# Output: 1\n",
    "# Example 2:\n",
    "# Input: timePoints = [\"00:00\",\"23:59\",\"00:00\"]\n",
    "# Output: 0\n",
    "\n",
    "timePoints = [\"23:59\",\"00:00\"]\n",
    "\n",
    "def timetomins(time):\n",
    "    hh,mm = map(int,time.split(':'))\n",
    "    return hh*60+mm\n",
    "\n",
    "minl = sorted(timetomins(t) for t in timePoints)\n",
    "minv = float('inf')\n",
    "\n",
    "for i in range(1,len(minl)):\n",
    "    minv = min(minv, minl[i] - minl[i-1])\n",
    "res = min(minv,(minl[0]+1440-minl[-1])) # 1440 - total minutes in a day\n",
    "res\n"
   ]
  },
  {
   "cell_type": "code",
   "execution_count": null,
   "id": "a043b1a2",
   "metadata": {},
   "outputs": [],
   "source": [
    "\n"
   ]
  }
 ],
 "metadata": {
  "kernelspec": {
   "display_name": "Python 3 (ipykernel)",
   "language": "python",
   "name": "python3"
  },
  "language_info": {
   "codemirror_mode": {
    "name": "ipython",
    "version": 3
   },
   "file_extension": ".py",
   "mimetype": "text/x-python",
   "name": "python",
   "nbconvert_exporter": "python",
   "pygments_lexer": "ipython3",
   "version": "3.11.5"
  }
 },
 "nbformat": 4,
 "nbformat_minor": 5
}
