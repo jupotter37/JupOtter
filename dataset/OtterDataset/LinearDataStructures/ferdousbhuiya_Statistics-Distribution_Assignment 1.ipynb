{
 "cells": [
  {
   "cell_type": "markdown",
   "id": "ba976b13",
   "metadata": {},
   "source": [
    "## Guidlines:\n",
    "- Candidates are strictly prohibited from seeking assistance from instructors, peers, or any external sources. All responses should be the independent work of the individual candidate.\n",
    "\n",
    "- Solutions must be submitted in either .py or .ipynb file formats. Please ensure your code is well-documented and clear.\n",
    "\n",
    "- Engaging in any form of malpractice or dishonesty will result in immediate disqualification from the examination. Integrity and authenticity in your submissions are paramount"
   ]
  },
  {
   "cell_type": "markdown",
   "id": "4d746b60",
   "metadata": {},
   "source": [
    "### Questions:-"
   ]
  },
  {
   "cell_type": "markdown",
   "id": "802fc548",
   "metadata": {
    "ExecuteTime": {
     "end_time": "2023-10-04T05:57:08.335439Z",
     "start_time": "2023-10-04T05:57:08.313663Z"
    }
   },
   "source": [
    "- Explain all the data structures that we have in python? \n",
    "- What is the difference between the Mutibility and Indexing and ordered?\n",
    "- Given a list of intervals (e.g., [[1,3], [5,7], [6,8], [10,12]]), determine if any two intervals overlap.Return a list of overlapping intervals.\n",
    "\n",
    "     **or**\n",
    "\n",
    "- You have a list of flights represented as tuples (source, destination).Find the most popular destination based on this list.\n",
    "\n",
    "- Given two lists, find the elements that are unique to each list. Return two lists: one with elements unique to the first list and another with elements unique to the second list.\n",
    "\n",
    "     **or**\n",
    "- Write a program to check if one set of numbers is a subset of another set.\n",
    "\n",
    "- Given a list of movies a user has watched and a larger list of movies available,recommend a movie from the available list that the user hasn't watched yet.\n",
    "- You have a list of movie durations in minutes. Write a Python program that finds the maximum number of movies you can watch in a day, without exceeding a given total time in minutes. For instance, with a total time of 240 minutes and movies of lengths [90, 85, 60, 120, 50, 40], the answer would be 4 (90+60+50+40).\n",
    "- Given a list of integers, find the first peak element. An element is considered  a peak if it is greater than its neighbors. For corner elements, consider only one neighbor.\n",
    "- Given a list of integers, find the element that appears more than n/2 times. Assume that the list always has a majority element.\n",
    "- Write a Python program to check if a given number n is a prime number.\n",
    "- Create a Basic calculator that can take n number of values and do the calculation for you.\n"
   ]
  },
  {
   "cell_type": "markdown",
   "id": "da03a806",
   "metadata": {},
   "source": [
    "#### Q: Explain all the data structures that we have in python?\n",
    "### Ans:\n",
    "\n",
    "1. Primitive Data Structures:\n",
    "    a. Integers (int)\n",
    "    b. Floating-point Numbers (float)\n",
    "    c. Booleans (bool)\n",
    "    d. Strings (str)\n",
    "    \n",
    "2. Non-Primitive Data Structures:\n",
    "    a. Lists\n",
    "    b. Tuples\n",
    "    c. Sets\n",
    "    d. Dictionaries (dict)\n",
    "    \n",
    "3. Advanced Data Structures:\n",
    "    a. Arrays (from array module)\n",
    "    b. Deque (from collections module)\n",
    "    c. Named Tuples (from collections module)\n",
    "    d. Defaultdict (from collections module)\n",
    "    e. OrderedDict (from collections module)\n",
    "    f. Counters (from collections module)\n",
    "    g. Heap Queue (from heapq module)\n",
    "\n",
    "4. User-Defined Data Structures:\n",
    "     a. Classes\n",
    "     b. Linked Lists\n",
    "     c. Stacks\n",
    "     d. Queues\n",
    "     e. Trees\n",
    "     f. Graphs\n",
    "\n",
    "5. Specialized Data Structures:\n",
    "    a. Bit Arrays\n",
    "    b. Tries\n",
    "    \n",
    "    \n",
    "     "
   ]
  },
  {
   "cell_type": "markdown",
   "id": "989e437e",
   "metadata": {},
   "source": [
    "#### Q: What is the difference between the Mutibility and Indexing and ordered?\n",
    "#### Ans:\n",
    "1. Mutability:\n",
    "    Mutability refers to whether or not the elements of a data structure can be changed after the structure is created.\n",
    "2. Indexing:\n",
    "    Indexing refers to accessing elements in a data structure using a numeric index or key.\n",
    "3. Ordering:\n",
    "    Ordering refers to whether the elements in a data structure are stored and accessed in a specific sequence.\n",
    "\n",
    "Summary:\n",
    "Mutability deals with whether you can change the elements in a data structure.\n",
    "\n",
    "Mutable: Can be modified after creation.\n",
    "Immutable: Cannot be modified after creation.\n",
    "Indexing deals with whether you can access elements by their position or key.\n",
    "\n",
    "Indexable: Can access elements directly using an index or key.\n",
    "Non-Indexable: Cannot access elements directly, usually requiring iteration.\n",
    "Ordering deals with whether the elements in the data structure maintain a consistent sequence.\n",
    "\n",
    "Ordered: Elements maintain a specific order.\n",
    "Unordered: Elements do not maintain a specific order."
   ]
  },
  {
   "cell_type": "markdown",
   "id": "7b809fd4",
   "metadata": {},
   "source": [
    "#### Q: Given a list of intervals (e.g., [[1,3], [5,7], [6,8], [10,12]]), determine if any two intervals overlap.Return a list of overlapping intervals.\n",
    "#### Ans:"
   ]
  },
  {
   "cell_type": "code",
   "execution_count": 8,
   "id": "ed43c8ab",
   "metadata": {},
   "outputs": [
    {
     "name": "stdout",
     "output_type": "stream",
     "text": [
      "Overlapping intervals: [[[5, 7], [6, 8]]]\n"
     ]
    }
   ],
   "source": [
    "def find_overlapping_intervals(intervals):\n",
    "    # Sort the intervals by the start of each interval\n",
    "    intervals.sort(key=lambda x: x[0])\n",
    "    \n",
    "    overlapping_intervals = []\n",
    "    \n",
    "    # Iterate through the sorted intervals and check for overlaps\n",
    "    for i in range(1, len(intervals)):\n",
    "        # Check if there is an overlap\n",
    "        if intervals[i][0] <= intervals[i-1][1]:\n",
    "            # Add the overlapping intervals to the list\n",
    "            overlapping_intervals.append([intervals[i-1], intervals[i]])\n",
    "    \n",
    "    return overlapping_intervals\n",
    "\n",
    "# Example usage:\n",
    "intervals = [[1, 3], [5, 7], [6, 8], [10, 12]]\n",
    "overlaps = find_overlapping_intervals(intervals)\n",
    "print(\"Overlapping intervals:\", overlaps)\n"
   ]
  },
  {
   "cell_type": "markdown",
   "id": "d971de33",
   "metadata": {},
   "source": [
    "#### Q: You have a list of flights represented as tuples (source, destination).Find the most popular destination based on this list.\n",
    "#### Ans:"
   ]
  },
  {
   "cell_type": "code",
   "execution_count": 9,
   "id": "abcf3657",
   "metadata": {},
   "outputs": [
    {
     "name": "stdout",
     "output_type": "stream",
     "text": [
      "Most popular destination: ('Los Angeles', 3)\n"
     ]
    }
   ],
   "source": [
    "from collections import Counter\n",
    "\n",
    "def most_popular_destination(flights):\n",
    "    # Extract the destination from each flight tuple\n",
    "    destinations = [flight[1] for flight in flights]\n",
    "    \n",
    "    # Count the occurrences of each destination\n",
    "    destination_count = Counter(destinations)\n",
    "    \n",
    "    # Find the destination with the maximum count\n",
    "    most_popular = destination_count.most_common(1)[0]\n",
    "    \n",
    "    return most_popular\n",
    "\n",
    "# Example usage:\n",
    "flights = [('New York', 'Los Angeles'), ('Chicago', 'Los Angeles'), ('Boston', 'New York'), \n",
    "           ('Los Angeles', 'Chicago'), ('Boston', 'Los Angeles'), ('Miami', 'New York')]\n",
    "\n",
    "popular_destination = most_popular_destination(flights)\n",
    "print(\"Most popular destination:\", popular_destination)\n"
   ]
  },
  {
   "cell_type": "markdown",
   "id": "e8bdffc3",
   "metadata": {},
   "source": [
    "#### Q: Given two lists, find the elements that are unique to each list. Return two lists: one with elements unique to the first list and another with elements unique to the second list.\n",
    "#### Ans:"
   ]
  },
  {
   "cell_type": "code",
   "execution_count": 10,
   "id": "f9eaa5d3",
   "metadata": {},
   "outputs": [
    {
     "name": "stdout",
     "output_type": "stream",
     "text": [
      "Unique to list1: [1, 2, 3]\n",
      "Unique to list2: [8, 6, 7]\n"
     ]
    }
   ],
   "source": [
    "def find_unique_elements(list1, list2):\n",
    "    # Convert lists to sets\n",
    "    set1 = set(list1)\n",
    "    set2 = set(list2)\n",
    "    \n",
    "    # Find elements unique to list1\n",
    "    unique_to_list1 = list(set1 - set2)\n",
    "    \n",
    "    # Find elements unique to list2\n",
    "    unique_to_list2 = list(set2 - set1)\n",
    "    \n",
    "    return unique_to_list1, unique_to_list2\n",
    "\n",
    "# Example usage:\n",
    "list1 = [1, 2, 3, 4, 5]\n",
    "list2 = [4, 5, 6, 7, 8]\n",
    "\n",
    "unique1, unique2 = find_unique_elements(list1, list2)\n",
    "print(\"Unique to list1:\", unique1)\n",
    "print(\"Unique to list2:\", unique2)"
   ]
  },
  {
   "cell_type": "markdown",
   "id": "fb4ae8ab",
   "metadata": {},
   "source": [
    "#### Q: Given a list of movies a user has watched and a larger list of movies available,recommend a movie from the available list that the user hasn't watched yet.\n",
    "#### Ans:"
   ]
  },
  {
   "cell_type": "code",
   "execution_count": 11,
   "id": "495205d6",
   "metadata": {},
   "outputs": [
    {
     "name": "stdout",
     "output_type": "stream",
     "text": [
      "Recommended movie: Pulp Fiction\n"
     ]
    }
   ],
   "source": [
    "def recommend_movie(watched_movies, available_movies):\n",
    "    watched_set = set(watched_movies)\n",
    "    available_set = set(available_movies)\n",
    "    \n",
    "    recommendations = list(available_set - watched_set)\n",
    "    \n",
    "    if recommendations:\n",
    "        return recommendations[0]  # You can return a random one if you prefer\n",
    "    else:\n",
    "        return \"No new movies to recommend.\"\n",
    "    \n",
    "# Example usage:\n",
    "watched_movies = [\"Inception\", \"The Matrix\", \"Interstellar\"]\n",
    "available_movies = [\"Inception\", \"The Matrix\", \"Interstellar\", \"The Godfather\", \"Pulp Fiction\"]\n",
    "\n",
    "recommendation = recommend_movie(watched_movies, available_movies)\n",
    "print(\"Recommended movie:\", recommendation)\n"
   ]
  },
  {
   "cell_type": "markdown",
   "id": "3061c398",
   "metadata": {},
   "source": [
    "#### Q: You have a list of movie durations in minutes. Write a Python program that finds the maximum number of movies you can watch in a day, without exceeding a given total time in minutes. For instance, with a total time of 240 minutes and movies of lengths [90, 85, 60, 120, 50, 40], the answer would be 4 (90+60+50+40).\n",
    "#### Ans: "
   ]
  },
  {
   "cell_type": "code",
   "execution_count": 12,
   "id": "19612a85",
   "metadata": {},
   "outputs": [
    {
     "name": "stdout",
     "output_type": "stream",
     "text": [
      "Maximum number of movies: 4\n"
     ]
    }
   ],
   "source": [
    "def max_movies(durations, total_time):\n",
    "    durations.sort()\n",
    "    current_time = 0\n",
    "    movie_count = 0\n",
    "    for duration in durations:\n",
    "        if current_time + duration <= total_time:\n",
    "            current_time += duration\n",
    "            movie_count += 1\n",
    "        else:\n",
    "            break\n",
    "    \n",
    "    return movie_count\n",
    "# Example usage:\n",
    "durations = [90, 85, 60, 120, 50, 40]\n",
    "total_time = 240\n",
    "\n",
    "max_movies_count = max_movies(durations, total_time)\n",
    "print(\"Maximum number of movies:\", max_movies_count)\n"
   ]
  },
  {
   "cell_type": "markdown",
   "id": "837b2769",
   "metadata": {},
   "source": [
    "#### Q: Given a list of integers, find the first peak element. An element is considered  a peak if it is greater than its neighbors. For corner elements, consider only one neighbor."
   ]
  },
  {
   "cell_type": "code",
   "execution_count": 13,
   "id": "4c7d611d",
   "metadata": {},
   "outputs": [
    {
     "name": "stdout",
     "output_type": "stream",
     "text": [
      "First peak element: 20\n"
     ]
    }
   ],
   "source": [
    "def find_first_peak(arr):\n",
    "    n = len(arr)\n",
    "    \n",
    "    if n == 0:\n",
    "        return None\n",
    "    \n",
    "    if n == 1:\n",
    "        return arr[0]\n",
    "    \n",
    "    # Check the first element\n",
    "    if arr[0] > arr[1]:\n",
    "        return arr[0]\n",
    "    \n",
    "    # Check elements from index 1 to n-2\n",
    "    for i in range(1, n-1):\n",
    "        if arr[i] > arr[i-1] and arr[i] > arr[i+1]:\n",
    "            return arr[i]\n",
    "    \n",
    "    # Check the last element\n",
    "    if arr[n-1] > arr[n-2]:\n",
    "        return arr[n-1]\n",
    "    \n",
    "    return None\n",
    "# Example usage:\n",
    "arr = [1, 3, 20, 4, 1, 0]\n",
    "first_peak = find_first_peak(arr)\n",
    "print(\"First peak element:\", first_peak)\n",
    "\n"
   ]
  },
  {
   "cell_type": "markdown",
   "id": "3a3e9570",
   "metadata": {},
   "source": [
    "#### Q: Given a list of integers, find the element that appears more than n/2 times. Assume that the list always has a majority element."
   ]
  },
  {
   "cell_type": "code",
   "execution_count": 14,
   "id": "38ed3ea3",
   "metadata": {},
   "outputs": [
    {
     "name": "stdout",
     "output_type": "stream",
     "text": [
      "Majority element: 4\n"
     ]
    }
   ],
   "source": [
    "def find_majority_element(nums):\n",
    "    candidate = None\n",
    "    count = 0\n",
    "    \n",
    "    # Phase 1: Find the candidate for majority element\n",
    "    for num in nums:\n",
    "        if count == 0:\n",
    "            candidate = num\n",
    "        count += (1 if num == candidate else -1)\n",
    "    \n",
    "    # Phase 2: Validation (typically used if we aren't guaranteed a majority element)\n",
    "    # But since we are guaranteed to have one, this is not necessary\n",
    "    # validate_count = nums.count(candidate)\n",
    "    # if validate_count > len(nums) // 2:\n",
    "    #     return candidate\n",
    "    \n",
    "    return candidate\n",
    "\n",
    "# Example usage:\n",
    "nums = [3, 3, 4, 2, 4, 4, 2, 4, 4]\n",
    "majority_element = find_majority_element(nums)\n",
    "print(\"Majority element:\", majority_element)"
   ]
  },
  {
   "cell_type": "markdown",
   "id": "94bf8acb",
   "metadata": {},
   "source": [
    "#### Q: Write a Python program to check if a given number n is a prime number."
   ]
  },
  {
   "cell_type": "code",
   "execution_count": 15,
   "id": "66a09b3d",
   "metadata": {},
   "outputs": [
    {
     "name": "stdout",
     "output_type": "stream",
     "text": [
      "29 is a prime number.\n"
     ]
    }
   ],
   "source": [
    "def is_prime(n):\n",
    "    \"\"\"Check if a number is a prime number.\"\"\"\n",
    "    # Handle cases for numbers less than 2\n",
    "    if n <= 1:\n",
    "        return False\n",
    "    # Handle the case for 2 and 3, which are prime numbers\n",
    "    if n <= 3:\n",
    "        return True\n",
    "    # Eliminate multiples of 2 and 3\n",
    "    if n % 2 == 0 or n % 3 == 0:\n",
    "        return False\n",
    "    # Check for factors from 5 to sqrt(n)\n",
    "    i = 5\n",
    "    while i * i <= n:\n",
    "        if n % i == 0 or n % (i + 2) == 0:\n",
    "            return False\n",
    "        i += 6\n",
    "    return True\n",
    "# Example usage:\n",
    "n = 29\n",
    "if is_prime(n):\n",
    "    print(f\"{n} is a prime number.\")\n",
    "else:\n",
    "    print(f\"{n} is not a prime number.\")\n"
   ]
  },
  {
   "cell_type": "markdown",
   "id": "14a0d801",
   "metadata": {},
   "source": [
    "#### Q: Create a Basic calculator that can take n number of values and do the calculation for you."
   ]
  },
  {
   "cell_type": "code",
   "execution_count": 7,
   "id": "40ca3bb9",
   "metadata": {},
   "outputs": [
    {
     "name": "stdout",
     "output_type": "stream",
     "text": [
      "Error: Unsupported operation. Choose 'add', 'subtract', 'multiply', or 'divide'.\n"
     ]
    }
   ],
   "source": [
    "def basic_calculator(numbers, operation):\n",
    "    \"\"\"Perform a basic calculation with multiple numbers based on the chosen operation.\"\"\"\n",
    "    if not numbers:\n",
    "        raise ValueError(\"The list of numbers is empty.\")\n",
    "\n",
    "    if operation == 'add':\n",
    "        result = sum(numbers)\n",
    "    elif operation == 'subtract':\n",
    "        result = numbers[0]\n",
    "        for num in numbers[1:]:\n",
    "            result -= num\n",
    "    elif operation == 'multiply':\n",
    "        result = 1\n",
    "        for num in numbers:\n",
    "            result *= num\n",
    "    elif operation == 'divide':\n",
    "        result = numbers[0]\n",
    "        for num in numbers[1:]:\n",
    "            if num == 0:\n",
    "                raise ZeroDivisionError(\"Division by zero is not allowed.\")\n",
    "            result /= num\n",
    "    else:\n",
    "        raise ValueError(\"Unsupported operation. Choose 'add', 'subtract', 'multiply', or 'divide'.\")\n",
    "\n",
    "    return result\n",
    "\n",
    "def main():\n",
    "    # Get the list of numbers from the user\n",
    "    numbers = list(map(float, input(\"Enter numbers separated by spaces: \").split()))\n",
    "    \n",
    "    # Get the desired operation from the user\n",
    "    operation = input(\"Enter the operation (add, subtract, multiply, divide): \").strip().lower()\n",
    "    \n",
    "    try:\n",
    "        result = basic_calculator(numbers, operation)\n",
    "        print(f\"The result of {operation} operation on {numbers} is: {result}\")\n",
    "    except Exception as e:\n",
    "        print(f\"Error: {e}\")\n",
    "\n",
    "# Example usage\n",
    "if __name__ == \"__main__\":\n",
    "    main()\n"
   ]
  }
 ],
 "metadata": {
  "kernelspec": {
   "display_name": "Python 3 (ipykernel)",
   "language": "python",
   "name": "python3"
  },
  "language_info": {
   "codemirror_mode": {
    "name": "ipython",
    "version": 3
   },
   "file_extension": ".py",
   "mimetype": "text/x-python",
   "name": "python",
   "nbconvert_exporter": "python",
   "pygments_lexer": "ipython3",
   "version": "3.12.3"
  }
 },
 "nbformat": 4,
 "nbformat_minor": 5
}
