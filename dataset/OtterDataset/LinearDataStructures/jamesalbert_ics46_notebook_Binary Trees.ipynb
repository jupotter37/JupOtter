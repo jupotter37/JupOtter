{
 "cells": [
  {
   "cell_type": "markdown",
   "metadata": {},
   "source": [
    "Trees are one of the two most important data structure studied in Computer\n",
    "Science and Mathematics (the other is Graphs; in fact, trees are just a special\n",
    "-but important- kind of a graph: one with no cycles, and each node having at\n",
    "most one node with an edge leading to it). Trees are useful for representing\n",
    "all kinds of interesting information and relationships (like the structure of a\n",
    "file system or the inheritance hierarchy of classes in C++  libraries), and\n",
    "have been studied extensively. There are entire books written about trees.\n",
    "\n",
    "In this lecture we will continue our study of self-referential classes by\n",
    "examining trees. Like linked lists, trees contain nodes: these nodes are\n",
    "objects instantiated from a class that contains instance variables that refer\n",
    "to other nodes from this same class. Whereas references in the linked list\n",
    "class indicate a \"follows\" relationship (and in the case of doubly-linked lists\n",
    "also a \"precedes\" relationship), references in tree classes indicate an\n",
    "inclusion relationship (where a parent node includes all its children nodes):\n",
    "these relationships are much more interesting in terms of the kinds of\n",
    "information and relationships that they can represent.\n",
    "\n",
    "Although we will first examine general tree structures, we will focus most of\n",
    "our attention in the upcoming lectures on defining and processing binary trees.\n",
    "Within this category we will soon see examples of ordered (search) trees and\n",
    "structure (expression) trees. In the next lecture we will use ordered search\n",
    "trees to store sets/maps of values that can be searched quickly: on average in\n",
    "O(Log2 N). In the lecture after that we will use another kind of ordered binary\n",
    "tree (a heap) to store values in a priority queue that can be enqueued and\n",
    "dequeued quickly: at worst in O(Log2 N). In the lecture after that, we will\n",
    "discuss self-balancing search trees. Finally, we continue for a few more\n",
    "lectures, discussing other variants of trees and their uses."
   ]
  },
  {
   "cell_type": "markdown",
   "metadata": {},
   "source": [
    "#### Terminology and Metrics"
   ]
  },
  {
   "cell_type": "markdown",
   "metadata": {},
   "source": [
    "All kinds of trees illustate one important relationship: inclusion between\n",
    "parts and a whole; another way to describe this relationship is that between\n",
    "a parent node that includes children nodes. Every child node has a unique parent\n",
    "(although root nodes have no parent); every parent node can have any number of\n",
    "children (including none). As in trees used in geneology, we will write each\n",
    "parent node directly above its child(ren) node(s). In fact, we will use other\n",
    "geneological terms, like ancestor and descendant, when describing nodes in a\n",
    "tree. We draw lines between parent/child nodes to illustrate their direct\n",
    "relationship.\n",
    "\n",
    "There is one unique node in every tree: this node has no parent and is called\n",
    "the \"root\" of the tree; because all other nodes in the tree are its descendants,\n",
    "we write the root node at the top of the tree.\n",
    "\n",
    "A mutually exclusive way to classify tree nodes is as \"internal\" or \"leaf\". An\n",
    "internal node has one or more children; a leaf node has no children. So, any\n",
    "node that is a parent is an internal node; a node that is only a child (not a\n",
    "parent to another child) is a leaf node.\n",
    "\n",
    "For linked lists we defined one metric: the size of the linked list (or its\n",
    "length: the number of LNs it contains).\n",
    "\n",
    "For trees we also define the size of a tree as the total number of nodes that it\n",
    "contains. In addition we define a second metric: height. The height of a tree\n",
    "is the length of the longest path (each line in the path counts as one step)\n",
    "from a root to one of its descendants. Alternatively, we can define the depth\n",
    "of a node as the length of the path from the root to that node, which is the\n",
    "same as the number of direct ancestors it has; given this definition of depth,\n",
    "we can define the height of a tree as the largest depth of any of its nodes; we\n",
    "can define the height of any node as the length of the longest path from that\n",
    "node to any of its descendants.\n",
    "\n",
    "Note that the root is at depth 0, because it has no ancestors; a tree\n",
    "consisting solely of a root also has a height of 0. The concepts of size and\n",
    "height for trees generalize the length of linear linked list. We will examine\n",
    "the numerical relationship between these two metrics at the end of this lecture."
   ]
  },
  {
   "cell_type": "markdown",
   "metadata": {},
   "source": [
    "#### Trees and Tree Functions for Metics"
   ]
  },
  {
   "cell_type": "markdown",
   "metadata": {},
   "source": [
    "We will start by looking at a simple templated class named TN, which we use to\n",
    "represent (binary) Tree Nodes:  each TN< T > object points to (the root of) its\n",
    "left and right subtrees, from that same class -or to nothing, represented by\n",
    "nullptr).\n",
    "\n",
    "This class declares three public instance variables, instead of private ones\n",
    "with accessor/setter methods (just as we did for LN: list nodes): note the\n",
    "setters would allow any value to be stored there, so setters aren't of much use\n",
    "(and would increase the syntactic complexity). It also declares one default and\n",
    "copy constructor and another useful constructor (also all public)."
   ]
  },
  {
   "cell_type": "code",
   "execution_count": null,
   "metadata": {
    "collapsed": false
   },
   "outputs": [],
   "source": [
    "template<class T>\n",
    "class TN {\n",
    "  public:\n",
    "    TN ()                        : left(nullptr), right(nullptr){}\n",
    "    TN (const TN<T>& tn)         : value(tn.value), left(tn.next), right(tn.right){}\n",
    "    TN (T v, TN<T>* l = nullptr,\n",
    "             TN<T>* r = nullptr) : value(v), left(l), right(r){}\n",
    "\n",
    "    T      value;\n",
    "    TN<T>* left;\n",
    "    TN<T>* right;\n",
    "};"
   ]
  },
  {
   "cell_type": "markdown",
   "metadata": {},
   "source": [
    "Binary Trees have a natural, recursive definition:\n",
    "\n",
    "    1) An empty tree (the smallest tree) is nullptr \n",
    "\n",
    "    2) Any non-empty tree is a pointer to an object (from class TN) whose left and\n",
    "       right instance variables point to some smaller tree (fewer TN objects\n",
    "       based on size or smaller height TN objects) either empty or not.\n",
    "\n",
    "Using this defintion as a guide, we can often write tree processing code\n",
    "recursively. This definition suggests an idiom for writing recursive functions,\n",
    "treating an empty tree as the base case. We start our discussion of tree\n",
    "processing with a function that recursively computes the size of a tree: the\n",
    "number of TNs it contains. This function is simlar to/generalizes the\n",
    "size/length function for linked lists. Most functions on trees naturally use\n",
    "recursion (although we will see a few in the next lecture that can be written\n",
    "iteratively more simply: but not size)."
   ]
  },
  {
   "cell_type": "code",
   "execution_count": null,
   "metadata": {
    "collapsed": false
   },
   "outputs": [],
   "source": [
    "template<class T>\n",
    "int size(TN<T>* t) {\n",
    "  if (t == nullptr)\n",
    "    return 0;\n",
    "  else\n",
    "    return 1 + size(t->left) + size(t->right);\n",
    "}"
   ]
  },
  {
   "cell_type": "markdown",
   "metadata": {},
   "source": [
    "This function computes the size of an empty tree as 0, and the size of a\n",
    "non-empty tree is 1 (for the root of the tree) plus the sizes of its left and\n",
    "right subtrees (which may be empty). Note that here (and in many other recursive\n",
    "functions operating on binary trees) we write two recursive calls: one to\n",
    "process (the root of) the left subtree and one to process (the root of) the\n",
    "right subtree.\n",
    "\n",
    "We can prove that this function is correct as follows.\n",
    "\n",
    "    1) The size of the smallest/empty tree is 0. This function immediately\n",
    "    recognizes an empty tree as this base case and returns 0 because it\n",
    "    has no nodes.\n",
    "\n",
    "    2) For any non-empty tree t, a recursive call on t->left and t->right is always\n",
    "    using an argument closer to the base case than t: each contains at least 1\n",
    "    fewer TNs than t does (and each can contain fewer than 1/2 the TNs t does);\n",
    "    and the height of a subtree is always smaller by at least 1.\n",
    "\n",
    "    3) Assuming size(t->left) and size(t->right) compute the size correctly of\n",
    "    these subtrees, adding 1 (for the TN t points to) to these sized correctly\n",
    "    computes the size of the entire tree.\n",
    "\n",
    "Note that without some kind of array or other data type, we CANNOT write this\n",
    "function iteratively. If we try to use one cursor (as opposed to an array or\n",
    "stack of cursors) once we point the cursor to one subtree (say the left one) we\n",
    "have lost our pointer to its parent and therefore its right subtree. This was\n",
    "not often a problem in linked lists, where once we processed a node we could\n",
    "set the cursor to the next node, not having to go back to its predecessor.\n",
    "\n",
    "It mayb be useful for you to hand simulate this recursive function on a small\n",
    "tree to understand its workings better. In a hand simulation, calls would\n",
    "go up and down the call frames, unlike linear (linked list) recursion, which\n",
    "tends to go all the way down once and then back to the top.\n",
    "\n",
    "Below is an iterative function that uses an explicit Stack to compute the size\n",
    "of a tree. It remembers the roots of both the left and right subtrees for each\n",
    "TN it visits on a Stack, where it can use each TN value when needed."
   ]
  },
  {
   "cell_type": "code",
   "execution_count": null,
   "metadata": {
    "collapsed": false
   },
   "outputs": [],
   "source": [
    "template<class T>\n",
    "int size (TN<T>* t) {\n",
    "  int answer = 0;\n",
    "  ArrayStack<TN<T>*> s;     //Stack contains pointers to TN<T> objects\n",
    "  s.push(t);\t     \t    //Put the root on the \n",
    "  while (!s.empty()) {\n",
    "    TN<T>* next = s.pop();  //Examine some subtree (possibly empty)\n",
    "    if (next != nullptr) {  //If not empty\n",
    "      ++answer;\t\t    //  Count it\n",
    "      s.push(next->left);   //  Put roots of its left/right subtrees ontoStack\n",
    "      s.push(next->right);\n",
    "    }\n",
    "  }\n",
    "\n",
    "  return answer;\n",
    "}"
   ]
  },
  {
   "cell_type": "markdown",
   "metadata": {},
   "source": [
    "This is not as elegant or clear as the recursive size function. It uses an\n",
    "explicit stack, whereas recursion uses an implicit one.\n",
    "\n",
    "We can also write a recursive function to compute the height of binary tree.\n",
    "First, we will do so by directly translating the meaning of height; then we\n",
    "will write a smaller and simpler to understand function using a different\n",
    "different meaning of height (allowing the height of empty trees to be computed,\n",
    "which leads to a dramatic simplification of the code).\n",
    "\n",
    "Note that height of a (sub)tree that is a leaf node is just 0: the length of the\n",
    "longest path from a leaf node to its deepest descendant is 0 (it is its own\n",
    "deepest descendent). Also note that the height of an internal node is 1 more\n",
    "than the biggest height of its subtrees. Using these facts we can write the\n",
    "following recursive function to compute the height of any non-empty tree."
   ]
  },
  {
   "cell_type": "code",
   "execution_count": null,
   "metadata": {
    "collapsed": false
   },
   "outputs": [],
   "source": [
    "template<class T>\n",
    "int height (TN<T>* t) {\n",
    "  if (t->left == nullptr && t->right == nullptr)//leaf check\n",
    "    return 0;\n",
    "  else if (t->left == nullptr)\t\t\t//1 subtree: branch to right\n",
    "    return 1 + height(t->right);\n",
    "  else if (t->right == nullptr)\t\t\t//1 subtree: branch to left\n",
    "    return 1 + height(t->left);\n",
    "  else\t\t\t\t\t\t//2 subtrees: branch left/right\n",
    "    return 1 + std::max(height(t->left),height(t->right));\n",
    "}"
   ]
  },
  {
   "cell_type": "markdown",
   "metadata": {},
   "source": [
    "This function deals with all the necessary cases in a binary tree: a leaf node,\n",
    "an internal node with only a left (or only a right) subtree, and an internal\n",
    "node with both left and right subtrees. But, this function does not work on\n",
    "empty trees, which have no directly defined height from the previous definition.\n",
    "\n",
    "Now, let us simplify this code by defining the height of an empty tree to be -1.\n",
    "In one case this seems very strange, but in another it seems obvious: an empty\n",
    "tree should have a height that is one less than a leaf node (whose height is 0).\n",
    "By expanding the domain of computing heights to empty trees using this\n",
    "definition (and what we know previously), we can simplify the height function\n",
    "(as well as defining it for all possible trees, even empty ones) into the\n",
    "elegant function written below."
   ]
  },
  {
   "cell_type": "code",
   "execution_count": null,
   "metadata": {
    "collapsed": false
   },
   "outputs": [],
   "source": [
    "template<class T>\n",
    "int height (TN<T>* t) {\n",
    "  if (t == nullptr)\n",
    "    return -1;\n",
    "  else\n",
    "    return 1 + std::max(height(t->left),height(t->right));\n",
    "}"
   ]
  },
  {
   "cell_type": "markdown",
   "metadata": {},
   "source": [
    "Again, if t is a leaf node (height 0), then its left and right subtrees are\n",
    "empty, so this function would perform the two recursive calls and return\n",
    "1 + std::max(-1,-1) which returns 0: the correct answer for a leaf node. So,\n",
    "using this generalization of height, our code is simpler and always works (no\n",
    "matter whether an empty or non-empty tree is passed as an argument); in the\n",
    "earlier method, passing an empty tree as a parameter would cause C++ to try to\n",
    "follow a nullptr when it tried to determine if the node was a leaf.\n",
    "\n",
    "Mathematicians generalize definitions such as this one all the time. You may or\n",
    "may not know that a^0 is defined as 1 (even when a is 0). There are many ways to\n",
    "justify this definition (some quite complicated); the simplest way is to note\n",
    "the simple algebraic law a^x * a^y = a^(x+y). By this law (a quite useful one to\n",
    "have) a^0 * a^x = a^(0+x) = a^x; which means that a^0 must be equal to 1 for\n",
    "this identity to hold. Note even 0^0 is 1.\n",
    "\n",
    "So, although it might make no intuitive sense to define an empty tree to have a\n",
    "height of -1 (height would seem to be required to be positive, or at least non-\n",
    "negative), by using this definition we can define the height of any tree\n",
    "(nullptr or not) and simplify the method that computes heights.\n",
    "\n",
    "Here is a function (and its helper function) that computes the depth of the\n",
    "node containing a value: this node must be unique, occurring only once in the\n",
    "tree. If the node is not in the binary tree, it returns -1. We sometimes will\n",
    "need to write a helper function (typicaly one with more parameters) to process a\n",
    "tree recursively."
   ]
  },
  {
   "cell_type": "code",
   "execution_count": null,
   "metadata": {
    "collapsed": false
   },
   "outputs": [],
   "source": [
    "template<class T>\n",
    "int depth (TN<T>* t, T value)\n",
    "{return depth(t,value,0);}\n",
    "\n",
    "template<class T>\n",
    "int depth (TN<T>* t, T value, int current_depth) {\n",
    "  if (t == nullptr)\n",
    "    return -1;\t\t\t//Not in tree\n",
    "  else if (t->value == value)\n",
    "    return current_depth;       //In tree, return accumulated\n",
    "  else\n",
    "    return std::max(depth(t->left,  value, current_depth+1),\n",
    "                    depth(t->right, value, current_depth+1));"
   ]
  },
  {
   "cell_type": "markdown",
   "metadata": {},
   "source": [
    "Note, we are not yet dealing with binary search trees, so the value might be\n",
    "in the left or right subtree. At most one recursive call will return a value\n",
    "not equal to -1 (and both may return -1). If both recursive calls return -1,\n",
    "then -1 is returned; if one returns a non-negative value, then that value is\n",
    "returned.\n",
    "\n",
    "We could improve the speed of this function by not computing depth(t->right...)\n",
    "when it finds value in the left subtree: we can change the final return\n",
    "statement into the block"
   ]
  },
  {
   "cell_type": "code",
   "execution_count": null,
   "metadata": {
    "collapsed": false
   },
   "outputs": [],
   "source": [
    "...\n",
    "  else {\n",
    "    int left_depth = depth(t->left, value, current_depth+1);\n",
    "    if (left_depth != -1)\n",
    "      return left_depth;\n",
    "    else\n",
    "      return depth(t->right, value, current_depth+1);\n",
    "}"
   ]
  },
  {
   "cell_type": "markdown",
   "metadata": {},
   "source": [
    "As a last function in this mold (a non-recursive function calling a recursive\n",
    "helper function), here is how to overload << for printing binary trees (rotated\n",
    "90 degrees counter-clockwise). That is, if we had the binary tree\n",
    "\n",
    "                        a\n",
    "                     /      \\\n",
    "                  b            c\n",
    "               /    \\        /   \\\n",
    "             d        e     f     g\n",
    "\n",
    "it would print as follows (notice that each value at depth d has 2*d dots\n",
    "preceding its value).\n",
    "\n",
    "....g\n",
    "..c\n",
    "....f\n",
    "a\n",
    "....e\n",
    "..b\n",
    "....d"
   ]
  },
  {
   "cell_type": "code",
   "execution_count": null,
   "metadata": {
    "collapsed": false
   },
   "outputs": [],
   "source": [
    "template<class T>\n",
    "void print_rotated(TN<T>* t,std::string  indent, std::ostream& outs) {\n",
    "  if (t == nullptr)\n",
    "    return;\n",
    "  else {\n",
    "    print_rotated(t->right, indent+\"..\", outs);\n",
    "    outs << indent << t->value << std::endl;\n",
    "    print_rotated(t->left, indent+\"..\", outs);\n",
    "  }\n",
    "}\n",
    "\n",
    "template<class T>\n",
    "std::ostream& operator << (std::ostream& outs, TN<T>* t) {\n",
    "  print_rotated(t,\"\",outs);\n",
    "  return outs;\n",
    "}"
   ]
  },
  {
   "cell_type": "markdown",
   "metadata": {},
   "source": [
    "We can prove that this function is correct as follows.\n",
    "\n",
    "    1) An empty tree has no values and prints nothing. This function immediately\n",
    "    recognizes this base case and returns.\n",
    "\n",
    "    2) For any non-empty tree t, a recursive call on t->right and t->left is always\n",
    "    using an argument closer to the base case than t: each contains at least 1\n",
    "    fewer TNs than t does (and often each contains about 1/2 the TNs t does).\n",
    "\n",
    "    3) Assuming print_rotated(t->right) and print_rotated(t->left) print these\n",
    "    subtrees correctly, by printing t->value indented by some number of .. based\n",
    "    on the depth of the node, with t->right printed first (rotated 90 degrees \n",
    "    counter-clockwise, with every node indented two more than t->value), and\n",
    "    t->left printed second (rotated 90 degrees counter-clockwise with every node\n",
    "    indented two more than t->value), the entire tree t is printed rotated 90\n",
    "    degrees counter-clockwise with every node printed correctly.\n",
    "\n",
    "Note that in trees rotated 90 degrees counter-clockwise, the right subtree\n",
    "is printed first (on top of) the TN followed by the left subtree, each with\n",
    "the correct .. indentation."
   ]
  },
  {
   "cell_type": "markdown",
   "metadata": {},
   "source": [
    "#### Relationships between size and height"
   ]
  },
  {
   "cell_type": "markdown",
   "metadata": {},
   "source": [
    "We can use the structure of binary trees to derive some mathematical\n",
    "relationships between their sizes and heights. First, we should reiterate that\n",
    "the \"inclusion\" relationships modeled by trees is much more interesting than\n",
    "the \"follows\" relationship that is modeled by linear linked lists. One way to\n",
    "illustrate the difference in \"interestingness\" is by examining all structurally\n",
    "different (different looking) linked lists containing 4 nodes, independent of\n",
    "the values they store: there is only one. Although all 4 node linear linked\n",
    "lists have the same structure, there are 14 differently-structured binary trees\n",
    "with 4 nodes (and 42 different trees with 5 nodes). See the picture accompanying\n",
    "this lecture."
   ]
  },
  {
   "cell_type": "markdown",
   "metadata": {},
   "source": [
    "#### Side note"
   ]
  },
  {
   "cell_type": "markdown",
   "metadata": {},
   "source": [
    "There is a formula using combinatorics to compute the number of different binary\n",
    "trees of size n:\n",
    "\n",
    "    (2n)!/( n!(n+1)! )\n",
    "\n",
    "which is closely approximated by\n",
    "\n",
    "    4^n/sqrt(pi*n^3)\n",
    "\n",
    "having about a 10% error for n=10 and less than a 1% error for n=100, and even less error for larger n. There are Cn different n node trees (Cn is the nth Catalan number). Here is a method that is more intuitive for computing this value"
   ]
  },
  {
   "cell_type": "code",
   "execution_count": null,
   "metadata": {
    "collapsed": false
   },
   "outputs": [],
   "source": [
    "int count_binary_trees (int n) {\n",
    "    if (n == 0 || n == 1)\n",
    "      return 1;\n",
    "    else {\n",
    "      int count = 0;\n",
    "      for (int left_n = 0; left_n < n; ++left_n)\n",
    "        count += count_binary_trees(left_n) * count_binary_trees(n-left_n-1) ;\n",
    "      return count;\n",
    "    }\n",
    "}"
   ]
  },
  {
   "cell_type": "markdown",
   "metadata": {},
   "source": [
    "This function uses both iteration and recursion together to compute its\n",
    "result (and it won't be the last function that we see with this combination).\n",
    "Here the base cases shows that all empty or 1 node trees look the same (there is\n",
    "exactly one structure for each). Otherwise, we sum the number of trees  whose\n",
    "left subtree is of size 0, 1, 2, ... , n-1 and whose right subtree is the\n",
    "remaining size (minus 1 for the parent of the two subtrees). If there are l\n",
    "different trees on the left and r different trees on the right, for that size\n",
    "there are a total of l*r different trees for that n.\n",
    "\n",
    "This computation is similar to computing the number of isomers of a chemical\n",
    "molecule (which is more a graph than a tree, because of double-bonds).\n",
    "\n",
    "We define a pathological tree as one with only one node at each depth (the 8 at\n",
    "the bottom of the picture). In all pathological trees, we have height = size-1.\n",
    "\n",
    "At the other end of the spectrum is a perfect tree, in which every depth is\n",
    "filled with as many nodes as possible (none of the trees mentioned above satisfy\n",
    "this criteria). The next picture shows perfect trees of height 0, 1, 2, and 3.\n",
    "\n",
    "If we tabulate this data we have.\n",
    "\n",
    "    height\tmaximum size\n",
    "      0\t        1\n",
    "      1\t        3\n",
    "      2\t        7\n",
    "      3\t       15\n",
    "\n",
    "If we study and extend this table, we can guess a simple but interesting\n",
    "relationship between the height of a perfect tree and its size:\n",
    "maximum size = 2^(height+1) - 1. First, verify that this formula is correct for\n",
    "the heights/sizes shown. Now, let's prove it by induction.\n",
    "\n",
    "    1. For a perfect tree of height 0, the formula is true (by evaluation).\n",
    "\n",
    "    2. Lets's assume that this formula is true for all perfect trees of height less\n",
    "       than or equal to h, and prove that it is true for a tree of height h+1.\n",
    "       To construct a perfect tree of height h+1 examine the last picture for this\n",
    "       lecture. The number of nodes in the entire perfect tree is\n",
    "\n",
    "       1 + 2^(h+1) - 1 + 2^(h+1) - 1 = 2^( (h+1) + 1 ) - 1\n",
    "\n",
    "       Which matches the formula and complete the proof.\n",
    "\n",
    "Rewriting this equality to express minimum height as a function of size, we\n",
    "have, minimum height = Log2(size+1) - 1.\n",
    "\n",
    "Now we will look at the relationship between the two tree metrics: size and\n",
    "height. We will use N for the size and H for the height.\n",
    "\n",
    "It is simple to see that the maximum height of a tree with N nodes is N-1 (each\n",
    "parent node in the tree has one child). So H <= N-1. From the proof above, the\n",
    "maximum size of a tree has N <= 2^(H+1)-1. So, H-1 <= N <= 2^(H+1)-1. Thus, we\n",
    "can say that N is Omega(H) and O(2^H): N must grow at least as fast as the\n",
    "height, but no faster than 2 raised to the height power. Note that since\n",
    "N <= 2(H+1) - 1 = 2 * 2^H -1, which is O(2^H) by removing the multiplicative\n",
    "and additive constants\n",
    "\n",
    "We can look at this relationship from the perspective from N as well, to compute\n",
    "bounds on H from N: \n",
    "\n",
    "    (1) H <= N-1\n",
    "    (2) H >= (Log2 N+1) - 1 >=  (Log2 N) - 1\n",
    "\n",
    "So H is O(N) and H is Omega(Log2 N): H must grow at least as fast as Log2 of\n",
    "the size, but can grow no faster than the size.\n",
    "\n",
    "So, here are two more examples where we have lower-bounds and upper-bounds\n",
    "relating N and H, so we can use big-Omega and big-O notation in a meaningful\n",
    "way. There is no big-Theta because these bounds are in different complexity\n",
    "classes.\n",
    "\n",
    "In the next lecture we will learn that the complexity class for searching a\n",
    "Binary Search Tree (BST) is related to its height: it is O(H). For perfect\n",
    "trees the complexity class is O(Log2 N), but in the worst case it is O(N). If we\n",
    "can keep our binary trees reasonably full/balanced, we will be able to search\n",
    "them in the same complexity class as doing binary search on sorted arrays.\n",
    "\n",
    "In fact, balanced BSTs allow us to simultaneously (on average) achieve O(Log2 N)\n",
    "behavior for adding, searching, and removing values -not achievable with arrays\n",
    "or linked lists: where some operations can have this complexity class, but\n",
    "others will be O(N). For example, we can search a sorted array in O(Log2 N), but\n",
    "adding or removing values requires, in the worst case, shifting N values in the\n",
    "array, so that operation is O(N)."
   ]
  }
 ],
 "metadata": {
  "kernelspec": {
   "display_name": "Python 2",
   "language": "python",
   "name": "python2"
  },
  "language_info": {
   "codemirror_mode": {
    "name": "ipython",
    "version": 2
   },
   "file_extension": ".py",
   "mimetype": "text/x-python",
   "name": "python",
   "nbconvert_exporter": "python",
   "pygments_lexer": "ipython2",
   "version": "2.7.10"
  }
 },
 "nbformat": 4,
 "nbformat_minor": 0
}
