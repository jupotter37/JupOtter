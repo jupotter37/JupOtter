{
 "cells": [
  {
   "cell_type": "code",
   "execution_count": 1,
   "id": "1dbda701",
   "metadata": {
    "execution": {
     "iopub.execute_input": "2024-08-02T14:50:43.122225Z",
     "iopub.status.busy": "2024-08-02T14:50:43.121759Z",
     "iopub.status.idle": "2024-08-02T14:50:43.463324Z",
     "shell.execute_reply": "2024-08-02T14:50:43.462835Z"
    },
    "papermill": {
     "duration": 0.35554,
     "end_time": "2024-08-02T14:50:43.464783",
     "exception": false,
     "start_time": "2024-08-02T14:50:43.109243",
     "status": "completed"
    },
    "tags": []
   },
   "outputs": [],
   "source": [
    "from typing import List, Optional, Generator\n",
    "import pandas as pd\n",
    "import numpy as np\n",
    "import sqlite3\n",
    "import re\n",
    "import io\n",
    "import math\n",
    "import collections\n",
    "import itertools\n",
    "import functools\n",
    "import random\n",
    "import string\n",
    "import tqdm\n",
    "import bisect\n",
    "import heapq\n",
    "\n",
    "conn = sqlite3.connect(\":memory:\")\n",
    "\n",
    "def regexp(expr, item):\n",
    "    reg = re.compile(expr)\n",
    "    return reg.search(item) is not None\n",
    "\n",
    "def read_lc_df(s: str, dtypes: dict[str, str]=dict()) -> pd.DataFrame:\n",
    "    temp = pd.read_csv(io.StringIO(s), sep=\"|\", skiprows=2)\n",
    "    temp = temp.iloc[1:-1, 1:-1]\n",
    "    temp.columns = temp.columns.map(str.strip)\n",
    "    temp = temp.map(lambda x: x if type(x) != str else None if x.strip() == 'null' else x.strip())\n",
    "    temp = temp.astype(dtypes)\n",
    "    return temp\n",
    "\n",
    "conn.create_function(\"REGEXP\", 2, regexp)"
   ]
  },
  {
   "cell_type": "markdown",
   "id": "a161421c",
   "metadata": {
    "papermill": {
     "duration": 0.00941,
     "end_time": "2024-08-02T14:50:43.484026",
     "exception": false,
     "start_time": "2024-08-02T14:50:43.474616",
     "status": "completed"
    },
    "tags": []
   },
   "source": [
    "#### Helper for Binary tree problems"
   ]
  },
  {
   "cell_type": "code",
   "execution_count": 2,
   "id": "07be0a7b",
   "metadata": {
    "execution": {
     "iopub.execute_input": "2024-08-02T14:50:43.504114Z",
     "iopub.status.busy": "2024-08-02T14:50:43.503516Z",
     "iopub.status.idle": "2024-08-02T14:50:43.510889Z",
     "shell.execute_reply": "2024-08-02T14:50:43.510421Z"
    },
    "lines_to_next_cell": 1,
    "papermill": {
     "duration": 0.018605,
     "end_time": "2024-08-02T14:50:43.511912",
     "exception": false,
     "start_time": "2024-08-02T14:50:43.493307",
     "status": "completed"
    },
    "tags": []
   },
   "outputs": [],
   "source": [
    "class BinaryTreeNode:\n",
    "    def __init__(self, val=0, left=None, right=None):\n",
    "        self.val = val\n",
    "        self.left = left\n",
    "        self.right = right\n",
    "\n",
    "    def to_list(self):\n",
    "        to_visit = [self]\n",
    "        visited = []\n",
    "        while len(to_visit) > 0:\n",
    "            curr = to_visit.pop(0)\n",
    "            if curr:\n",
    "                to_visit.append(curr.left)\n",
    "                to_visit.append(curr.right)\n",
    "                visited.append(curr.val)\n",
    "            else:\n",
    "                visited.append(curr)\n",
    "\n",
    "        while visited and not visited[-1]:\n",
    "            visited.pop()\n",
    "\n",
    "        return visited\n",
    "\n",
    "    def __str__(self):\n",
    "        return str(self.val)\n",
    "\n",
    "    @staticmethod\n",
    "    def from_array(nums: list[int|None]):\n",
    "        '''Create a Tree from a list of nums. Returns the root node.'''\n",
    "        if len(nums) == 0:\n",
    "            return None\n",
    "        elif len(nums) == 1:\n",
    "            return BinaryTreeNode(nums[0])\n",
    "        else:\n",
    "            forest = [BinaryTreeNode(nums[0])]\n",
    "            parent_idx = -1\n",
    "            for i in range(1, len(nums)):\n",
    "\n",
    "                curr = None\n",
    "                if nums[i] is not None:\n",
    "                    curr = BinaryTreeNode(nums[i])\n",
    "                    forest.append(curr)\n",
    "\n",
    "                if i % 2 == 1:\n",
    "                    parent_idx += 1\n",
    "                    forest[parent_idx].left = curr\n",
    "                else:\n",
    "                    forest[parent_idx].right = curr\n",
    "\n",
    "        return forest[0]"
   ]
  },
  {
   "cell_type": "markdown",
   "id": "6e9c13aa",
   "metadata": {
    "papermill": {
     "duration": 0.009288,
     "end_time": "2024-08-02T14:50:43.530527",
     "exception": false,
     "start_time": "2024-08-02T14:50:43.521239",
     "status": "completed"
    },
    "tags": []
   },
   "source": [
    "#### Helper for Singly Linked lists"
   ]
  },
  {
   "cell_type": "code",
   "execution_count": 3,
   "id": "6abb9392",
   "metadata": {
    "execution": {
     "iopub.execute_input": "2024-08-02T14:50:43.550387Z",
     "iopub.status.busy": "2024-08-02T14:50:43.549988Z",
     "iopub.status.idle": "2024-08-02T14:50:43.554444Z",
     "shell.execute_reply": "2024-08-02T14:50:43.554008Z"
    },
    "lines_to_next_cell": 1,
    "papermill": {
     "duration": 0.015689,
     "end_time": "2024-08-02T14:50:43.555545",
     "exception": false,
     "start_time": "2024-08-02T14:50:43.539856",
     "status": "completed"
    },
    "tags": []
   },
   "outputs": [],
   "source": [
    "class ListNode:\n",
    "    def __init__(self, val=0, next=None):\n",
    "        self.val = val\n",
    "        self.next = next\n",
    "\n",
    "    def __str__(self):\n",
    "        return str(self.val)\n",
    "\n",
    "    @staticmethod\n",
    "    def to_singly_linked_list(nums: list[int]):\n",
    "        root = prev = None\n",
    "        for n in nums:\n",
    "            curr = ListNode(n)\n",
    "            # Init once\n",
    "            if not root:\n",
    "                root = curr\n",
    "            if prev:\n",
    "                prev.next = curr\n",
    "            prev = curr\n",
    "\n",
    "        return root\n",
    "\n",
    "    def to_list(self) -> list[int]:\n",
    "        result = []\n",
    "        curr = self\n",
    "        while curr:\n",
    "            result.append(curr.val)\n",
    "            curr = curr.next\n",
    "        return result"
   ]
  },
  {
   "cell_type": "markdown",
   "id": "4f436676",
   "metadata": {
    "papermill": {
     "duration": 0.009348,
     "end_time": "2024-08-02T14:50:43.574247",
     "exception": false,
     "start_time": "2024-08-02T14:50:43.564899",
     "status": "completed"
    },
    "tags": []
   },
   "source": [
    "Codeforces Practice"
   ]
  },
  {
   "cell_type": "code",
   "execution_count": 4,
   "id": "8f687e9e",
   "metadata": {
    "execution": {
     "iopub.execute_input": "2024-08-02T14:50:43.594173Z",
     "iopub.status.busy": "2024-08-02T14:50:43.593809Z",
     "iopub.status.idle": "2024-08-02T14:50:43.606100Z",
     "shell.execute_reply": "2024-08-02T14:50:43.605644Z"
    },
    "lines_to_next_cell": 1,
    "papermill": {
     "duration": 0.023468,
     "end_time": "2024-08-02T14:50:43.607186",
     "exception": false,
     "start_time": "2024-08-02T14:50:43.583718",
     "status": "completed"
    },
    "tags": []
   },
   "outputs": [],
   "source": [
    "def pair_of_numbers(N: int, nums: list[int]) -> tuple[int, int, list[int]]:\n",
    "    \"\"\"\n",
    "    Starting at index, check how far right you can go. Repeat same step on the leftwards direction.\n",
    "    Combine the left and right to get the actual window that index i can cover (where nums[i] is the gcd and divides all)\n",
    "\n",
    "    Problem occurs where there are duplicates where we skip those numbers since it was already covered in the window. Backward\n",
    "    pass travels in the opp direction and we might end up missing the proper range.\n",
    "\n",
    "    For eg:   2, 3, 1, 1, 3\n",
    "    Forward:  0  0  3  0  0\n",
    "    Backward: 0  0  0  4  0\n",
    "\n",
    "    We could choose to ignore duplicates but that would miss nonoverlapping ranges\n",
    "    We could try merging intervals but it wouldn't be trivial and we would need to merge only cases where the values match (need to lookback the entire length making it N^2)\n",
    "\n",
    "    Simpler approach is to store the duplicates into an array and fill it in when we update i.\n",
    "    \"\"\"\n",
    "\n",
    "    # Forward pass\n",
    "    forward: dict[int, int] = {i: i for i in range(N)}\n",
    "    i = j = 0\n",
    "    match: list[int] = []\n",
    "    while j <= N:\n",
    "        if j < N and nums[j] % nums[i] == 0:\n",
    "            if nums[j] == nums[i]:\n",
    "                match.append(j)\n",
    "            forward[i], j = j, j + 1\n",
    "        else:\n",
    "            for k in match:\n",
    "                forward[k] = forward[i]\n",
    "            i, j, match = j, j + 1, []\n",
    "\n",
    "    # Backward pass\n",
    "    backward: dict[int, int] = {i: i for i in range(N)}\n",
    "    i = j = N - 1\n",
    "    match = []\n",
    "    while j >= -1:\n",
    "        if j >= 0 and nums[j] % nums[i] == 0:\n",
    "            if nums[j] == nums[i]:\n",
    "                match.append(j)\n",
    "            backward[i], j = j, j - 1\n",
    "        else:\n",
    "            for k in match:\n",
    "                backward[k] = backward[i]\n",
    "            i, j, match = j, j - 1, []\n",
    "\n",
    "    # Merge both passes and store to a map seperated by distance\n",
    "    valid_pairs: collections.defaultdict[int, set[int]] = collections.defaultdict(set)\n",
    "    max_: int = 0\n",
    "    for i in range(N):\n",
    "        diff = forward[i] - backward[i]\n",
    "        valid_pairs[diff].add(backward[i] + 1)\n",
    "        max_ = max(max_, diff)\n",
    "\n",
    "    return len(valid_pairs[max_]), max_, sorted(valid_pairs[max_])\n",
    "\n",
    "# Testing the solution\n",
    "assert pair_of_numbers(9, [2,4,3,6,9,8,10,2,4]) == (1, 3, [6])\n",
    "assert pair_of_numbers(5, [4,6,9,3,6]) == (1, 3, [2])\n",
    "assert pair_of_numbers(5, [1,3,5,7,9]) == (1, 4, [1])\n",
    "assert pair_of_numbers(5, [2,3,5,7,11]) == (5, 0, [1,2,3,4,5])\n",
    "assert pair_of_numbers(5, [1,2,3,2,1]) == (1, 4, [1])\n",
    "assert pair_of_numbers(5, [2,4,1,1,2]) == (1, 4, [1])\n",
    "\n",
    "# Good substrings - 271D\n",
    "class Trie:\n",
    "    def __init__(self, end: bool = False) -> None:\n",
    "        self.nodes: dict[str, 'Trie'] = dict()\n",
    "        self.end = end\n",
    "\n",
    "    def __getitem__(self, ch: str) -> 'Trie':\n",
    "        self.nodes[ch] = self.nodes.get(ch, Trie())\n",
    "        return self.nodes[ch]\n",
    "\n",
    "def good_substrings(S: str, good_chars_: str, K: int) -> int:\n",
    "    N, count = len(S), 0\n",
    "    good_chars: set[str] = {chr(ord('a') + i) for i in range(26) if good_chars_[i] == '1'}\n",
    "    root: Trie = Trie()\n",
    "    for i in range(N):\n",
    "        k_, curr = K, root\n",
    "        for j in range(i, N):\n",
    "            if S[j] not in good_chars:\n",
    "                k_ -= 1\n",
    "            if k_ >= 0:\n",
    "                curr = curr[S[j]]\n",
    "                count += not curr.end\n",
    "                curr.end = True\n",
    "            else:\n",
    "                break\n",
    "\n",
    "    return count\n",
    "\n",
    "# Testing the solution\n",
    "assert good_substrings(\"ababab\", \"01000000000000000000000000\", 1) == 5\n",
    "assert good_substrings(\"acbacbacaa\", \"00000000000000000000000000\", 2) == 8"
   ]
  },
  {
   "cell_type": "markdown",
   "id": "711735e2",
   "metadata": {
    "papermill": {
     "duration": 0.009245,
     "end_time": "2024-08-02T14:50:43.625753",
     "exception": false,
     "start_time": "2024-08-02T14:50:43.616508",
     "status": "completed"
    },
    "tags": []
   },
   "source": [
    "LC POTD"
   ]
  },
  {
   "cell_type": "code",
   "execution_count": 5,
   "id": "aec51cad",
   "metadata": {
    "execution": {
     "iopub.execute_input": "2024-08-02T14:50:43.645116Z",
     "iopub.status.busy": "2024-08-02T14:50:43.644945Z",
     "iopub.status.idle": "2024-08-02T14:50:43.650822Z",
     "shell.execute_reply": "2024-08-02T14:50:43.650273Z"
    },
    "lines_to_next_cell": 1,
    "papermill": {
     "duration": 0.016871,
     "end_time": "2024-08-02T14:50:43.651886",
     "exception": false,
     "start_time": "2024-08-02T14:50:43.635015",
     "status": "completed"
    },
    "tags": []
   },
   "outputs": [],
   "source": [
    "# https://leetcode.com/problems/create-binary-tree-from-descriptions/submissions/1321920493/?envType=daily-question&envId=2024-07-15\n",
    "def createBinaryTree(descriptions: list[list[int]]) -> BinaryTreeNode:\n",
    "    \"\"\"Node without parent is the root\"\"\"\n",
    "    # Create the binary tree\n",
    "    nodes_dict: dict[int, BinaryTreeNode] = dict()\n",
    "    parents: set[int] = set()\n",
    "    children: set[int] = set()\n",
    "    for parent, child, direction in descriptions:\n",
    "        p_node, c_node = nodes_dict.get(parent, BinaryTreeNode(parent)), nodes_dict.get(child, BinaryTreeNode(child))\n",
    "        nodes_dict[parent], nodes_dict[child] = p_node, c_node\n",
    "\n",
    "        if direction == 1:\n",
    "            p_node.left = c_node\n",
    "        else:\n",
    "            p_node.right = c_node\n",
    "\n",
    "        if parent not in children:\n",
    "            parents.add(parent)\n",
    "        if child in parents:\n",
    "            parents.remove(child)\n",
    "        children.add(child)\n",
    "\n",
    "    assert len(parents) == 1\n",
    "    return nodes_dict[parents.pop()]\n",
    "\n",
    "# Testing the solution\n",
    "assert createBinaryTree([[20,15,1],[20,17,0],[50,20,1],[50,80,0],[80,19,1]]).to_list() == [50,20,80,15,17,19]\n",
    "assert createBinaryTree([[1,2,1],[2,3,0],[3,4,1]]).to_list() == [1,2,None,None,3,4]"
   ]
  },
  {
   "cell_type": "markdown",
   "id": "c157b54c",
   "metadata": {
    "papermill": {
     "duration": 0.00924,
     "end_time": "2024-08-02T14:50:43.670615",
     "exception": false,
     "start_time": "2024-08-02T14:50:43.661375",
     "status": "completed"
    },
    "tags": []
   },
   "source": [
    "KMP Algorithm"
   ]
  },
  {
   "cell_type": "code",
   "execution_count": 6,
   "id": "3898dc59",
   "metadata": {
    "execution": {
     "iopub.execute_input": "2024-08-02T14:50:43.690328Z",
     "iopub.status.busy": "2024-08-02T14:50:43.689978Z",
     "iopub.status.idle": "2024-08-02T14:50:43.694112Z",
     "shell.execute_reply": "2024-08-02T14:50:43.693608Z"
    },
    "lines_to_next_cell": 1,
    "papermill": {
     "duration": 0.015192,
     "end_time": "2024-08-02T14:50:43.695113",
     "exception": false,
     "start_time": "2024-08-02T14:50:43.679921",
     "status": "completed"
    },
    "tags": []
   },
   "outputs": [],
   "source": [
    "def create_lps_array(pattern: str) -> list[int]:\n",
    "    N = len(pattern)\n",
    "    pi: list[int] = [0] * N\n",
    "    j = 0\n",
    "    for i in range(1, N):\n",
    "        while pattern[j] != pattern[i] and j > 0:\n",
    "            j = pi[j - 1]\n",
    "        if pattern[i] == pattern[j]:\n",
    "            j += 1\n",
    "        pi[i] = j\n",
    "\n",
    "    return pi\n",
    "\n",
    "# Testing the solution\n",
    "assert create_lps_array(\"abcdabc\") == [0, 0, 0, 0, 1, 2, 3]"
   ]
  },
  {
   "cell_type": "markdown",
   "id": "0ee5d9b0",
   "metadata": {
    "papermill": {
     "duration": 0.00933,
     "end_time": "2024-08-02T14:50:43.713805",
     "exception": false,
     "start_time": "2024-08-02T14:50:43.704475",
     "status": "completed"
    },
    "tags": []
   },
   "source": [
    "Codeforces Practice"
   ]
  },
  {
   "cell_type": "code",
   "execution_count": 7,
   "id": "b252c334",
   "metadata": {
    "execution": {
     "iopub.execute_input": "2024-08-02T14:50:43.733605Z",
     "iopub.status.busy": "2024-08-02T14:50:43.733086Z",
     "iopub.status.idle": "2024-08-02T14:50:43.739651Z",
     "shell.execute_reply": "2024-08-02T14:50:43.739224Z"
    },
    "lines_to_next_cell": 1,
    "papermill": {
     "duration": 0.017611,
     "end_time": "2024-08-02T14:50:43.740689",
     "exception": false,
     "start_time": "2024-08-02T14:50:43.723078",
     "status": "completed"
    },
    "tags": []
   },
   "outputs": [],
   "source": [
    "def longest_prefix_suffix_palindome(S: str) -> str:\n",
    "    def KMP(pattern: str) -> list[int]:\n",
    "        pattern_length = len(pattern)\n",
    "        pi: list[int] = [0] * pattern_length\n",
    "        j = 0\n",
    "        for i in range(1, pattern_length):\n",
    "            while pattern[i] != pattern[j] and j > 0:\n",
    "                j = pi[j - 1]\n",
    "            if pattern[i] == pattern[j]:\n",
    "                j += 1\n",
    "            pi[i] = j\n",
    "\n",
    "        return pi\n",
    "\n",
    "    N = len(S)\n",
    "    i, j = 0, N - 1\n",
    "\n",
    "    # Find greatest k such that S[0..k] + S[N - k - 1.. N - 1] is a palindrome\n",
    "    k = 0\n",
    "    for k in range(N // 2):\n",
    "        if S[k] != S[N - k - 1]:\n",
    "            break\n",
    "\n",
    "    # Find longest prefix-suffix of S[k..N-k-1]\n",
    "    middle = S[k: N - k]\n",
    "    lps = middle[:KMP(middle + '#' + middle[::-1])[-1]]\n",
    "\n",
    "    # Find longest prefix-suffix of reversed(S[k..N-k-1])\n",
    "    middle_reversed = middle[::-1]\n",
    "    lps_reversed = middle_reversed[:KMP(middle_reversed + '#' + middle_reversed[::-1])[-1]]\n",
    "\n",
    "    return S[:k] + (lps if len(lps) > len(lps_reversed) else lps_reversed[::-1]) + S[N - k:]\n",
    "\n",
    "# Testing the solution\n",
    "assert len(longest_prefix_suffix_palindome(\"abcdfdcecba\")) == len(\"abcdfdcba\")\n",
    "assert len(longest_prefix_suffix_palindome(\"abbaxyzyx\")) == len(\"xyzyx\")\n",
    "assert len(longest_prefix_suffix_palindome(\"acbba\")) == len(\"abba\")\n",
    "assert len(longest_prefix_suffix_palindome(\"a\")) == len(\"a\")\n",
    "assert len(longest_prefix_suffix_palindome(\"codeforces\")) == len(\"c\")"
   ]
  },
  {
   "cell_type": "markdown",
   "id": "e6f93b0e",
   "metadata": {
    "papermill": {
     "duration": 0.009498,
     "end_time": "2024-08-02T14:50:43.759695",
     "exception": false,
     "start_time": "2024-08-02T14:50:43.750197",
     "status": "completed"
    },
    "tags": []
   },
   "source": [
    "#### LC Practice - Strings - KMP"
   ]
  },
  {
   "cell_type": "code",
   "execution_count": 8,
   "id": "7cdab853",
   "metadata": {
    "execution": {
     "iopub.execute_input": "2024-08-02T14:50:43.779455Z",
     "iopub.status.busy": "2024-08-02T14:50:43.779017Z",
     "iopub.status.idle": "2024-08-02T14:50:43.784752Z",
     "shell.execute_reply": "2024-08-02T14:50:43.784299Z"
    },
    "lines_to_next_cell": 1,
    "papermill": {
     "duration": 0.016759,
     "end_time": "2024-08-02T14:50:43.785822",
     "exception": false,
     "start_time": "2024-08-02T14:50:43.769063",
     "status": "completed"
    },
    "tags": []
   },
   "outputs": [],
   "source": [
    "# LC: https://leetcode.com/problems/find-the-index-of-the-first-occurrence-in-a-string/\n",
    "def strStr(haystack: str, needle: str) -> int:\n",
    "    def create_lps(pattern: str, M: int) -> list[int]:\n",
    "        j = 0\n",
    "        lps = [0] * M\n",
    "        for i in range(1, M):\n",
    "            while pattern[i] != pattern[j] and j > 0:\n",
    "                j = lps[j - 1]\n",
    "            if pattern[i] == pattern[j]:\n",
    "                j += 1\n",
    "            lps[i] = j\n",
    "\n",
    "        return lps\n",
    "\n",
    "    N, M = len(haystack), len(needle)\n",
    "    lps = create_lps(needle, M)\n",
    "    j = 0\n",
    "    for i in range(N):\n",
    "        while haystack[i] != needle[j] and j > 0:\n",
    "            j = lps[j - 1]\n",
    "        if haystack[i] == needle[j]:\n",
    "            j += 1\n",
    "        if j >= M:\n",
    "            return i - j + 1\n",
    "\n",
    "    return -1\n",
    "\n",
    "# Testing the solution\n",
    "assert strStr(\"asabadzabababababaaababaabba\", \"abababab\") == 7"
   ]
  },
  {
   "cell_type": "code",
   "execution_count": 9,
   "id": "5232f86f",
   "metadata": {
    "execution": {
     "iopub.execute_input": "2024-08-02T14:50:43.805546Z",
     "iopub.status.busy": "2024-08-02T14:50:43.805151Z",
     "iopub.status.idle": "2024-08-02T14:50:43.810580Z",
     "shell.execute_reply": "2024-08-02T14:50:43.810045Z"
    },
    "lines_to_next_cell": 1,
    "papermill": {
     "duration": 0.016624,
     "end_time": "2024-08-02T14:50:43.811808",
     "exception": false,
     "start_time": "2024-08-02T14:50:43.795184",
     "status": "completed"
    },
    "tags": []
   },
   "outputs": [],
   "source": [
    "# https://leetcode.com/problems/repeated-substring-pattern/\n",
    "def repeatedSubstringPattern(S: str) -> bool:\n",
    "    def create_lps(pattern: str) -> list[int]:\n",
    "        pattern_length, j = len(pattern), 0\n",
    "        lps: list[int] = [0] * pattern_length\n",
    "        for i in range(1, pattern_length):\n",
    "            while pattern[i] != pattern[j] and j > 0:\n",
    "                j = lps[j - 1]\n",
    "            if pattern[i] == pattern[j]:\n",
    "                j += 1\n",
    "            lps[i] = j\n",
    "\n",
    "        return lps\n",
    "\n",
    "    # Create LPS, find the longest repeating pattern length\n",
    "    # Ensure that the pattern repeats itself\n",
    "    N = len(S)\n",
    "    lps = create_lps(S)\n",
    "    repeat_str_length = N - lps[-1]\n",
    "\n",
    "    for i in range(N):\n",
    "        if S[i % repeat_str_length] != S[i]:\n",
    "            return False\n",
    "    return (repeat_str_length < N) and (N % repeat_str_length == 0)\n",
    "\n",
    "# Testing the solution\n",
    "assert repeatedSubstringPattern(\"acbaaacbaa\") == repeatedSubstringPattern(\"aaabbaaabb\") == True\n",
    "assert repeatedSubstringPattern(\"abcabcabc\") == repeatedSubstringPattern(\"abaababaab\") == True\n",
    "assert repeatedSubstringPattern(\"abcabcabz\") == repeatedSubstringPattern(\"aba\") == False"
   ]
  },
  {
   "cell_type": "code",
   "execution_count": 10,
   "id": "301b862f",
   "metadata": {
    "execution": {
     "iopub.execute_input": "2024-08-02T14:50:43.832009Z",
     "iopub.status.busy": "2024-08-02T14:50:43.831554Z",
     "iopub.status.idle": "2024-08-02T14:50:43.839219Z",
     "shell.execute_reply": "2024-08-02T14:50:43.838703Z"
    },
    "lines_to_next_cell": 1,
    "papermill": {
     "duration": 0.018897,
     "end_time": "2024-08-02T14:50:43.840257",
     "exception": false,
     "start_time": "2024-08-02T14:50:43.821360",
     "status": "completed"
    },
    "tags": []
   },
   "outputs": [],
   "source": [
    "# TLE :(\n",
    "def watto_mechanism_trie(input_patterns: list[str], search_patterns: list[str]) -> list[bool]:\n",
    "    class TrieNode:\n",
    "        def __init__(self, end: bool = False):\n",
    "            self.nodes: collections.defaultdict[str, 'TrieNode'] = collections.defaultdict(TrieNode)\n",
    "            self.end: bool = end\n",
    "\n",
    "        def __getitem__(self, ch: str) -> 'TrieNode':\n",
    "            return self.nodes[ch]\n",
    "\n",
    "    def search(string: str) -> bool:\n",
    "        N = len(string)\n",
    "        stack: list[tuple[TrieNode, int, bool]] = [(ROOT, 0, True)]\n",
    "        while stack:\n",
    "            curr, idx, editable = stack.pop()\n",
    "            if idx == N:\n",
    "                if not editable and curr.end:\n",
    "                    return True\n",
    "            else:\n",
    "                for next_ch in ['a', 'b', 'c']:\n",
    "                    if next_ch in curr.nodes:\n",
    "                        if next_ch == string[idx]:\n",
    "                            stack.append((curr[next_ch], idx + 1, editable))\n",
    "                        elif next_ch != string[idx] and editable:\n",
    "                            stack.append((curr[next_ch], idx + 1, False))\n",
    "        return False\n",
    "\n",
    "    # Convert the input patterns into a trie data strucute\n",
    "    ROOT = TrieNode()\n",
    "    for inp in input_patterns:\n",
    "        curr = ROOT\n",
    "        for ch in inp:\n",
    "            curr = curr[ch]\n",
    "        curr.end = True\n",
    "\n",
    "    results: list[bool] = []\n",
    "    for search_pattern in search_patterns:\n",
    "        results.append(search(search_pattern))\n",
    "\n",
    "    return results\n",
    "\n",
    "# Testing the solution\n",
    "assert watto_mechanism_trie([\"aaaaa\", \"acacaca\"], [\"aabaa\", \"ccacacc\", \"caaac\"]) == [True, False, False]\n",
    "assert watto_mechanism_trie([\"acbacbacb\"], [\"cbacbacb\", \"acbacbac\", \"aacbacbacb\", \"acbacbacbb\", \"acbaabacb\"]) == [False, False, False, False, True]\n",
    "assert watto_mechanism_trie([\"ab\", \"cacab\", \"cbabc\", \"acc\", \"cacab\"], [\"abc\", \"aa\", \"acbca\", \"cb\"]) == [True, True, False, True]"
   ]
  },
  {
   "cell_type": "code",
   "execution_count": 11,
   "id": "f6731b9c",
   "metadata": {
    "execution": {
     "iopub.execute_input": "2024-08-02T14:50:43.860170Z",
     "iopub.status.busy": "2024-08-02T14:50:43.859824Z",
     "iopub.status.idle": "2024-08-02T14:50:43.866481Z",
     "shell.execute_reply": "2024-08-02T14:50:43.866063Z"
    },
    "lines_to_next_cell": 1,
    "papermill": {
     "duration": 0.01778,
     "end_time": "2024-08-02T14:50:43.867542",
     "exception": false,
     "start_time": "2024-08-02T14:50:43.849762",
     "status": "completed"
    },
    "tags": []
   },
   "outputs": [],
   "source": [
    "def watto_mechanism(input_patterns: list[str], search_patterns: list[str]) -> list[bool]:\n",
    "    \"\"\"\n",
    "    Idea from editorial:\n",
    "        1. Compute and store the polynomial rolling hashes for each of the input_patterns\n",
    "        2. For each search string, compute possibilities and check if they exist in the hash\n",
    "    \"\"\"\n",
    "\n",
    "    # Constants for polynomial rolling hash\n",
    "    P, M = 257, 2 ** 61 + 7\n",
    "\n",
    "    def poly_hash(string: str) -> int:\n",
    "        nonlocal P, M\n",
    "        N, hash_val, p_ = len(string), 0, 1\n",
    "        for i in range(N):\n",
    "            hash_val = (hash_val + (ord(string[i]) * p_)) % M\n",
    "            p_ = (p_ * P) % M\n",
    "        return hash_val\n",
    "\n",
    "    def search(string: str) -> bool:\n",
    "        nonlocal P, M\n",
    "        N, hash_val, p_ = len(string), poly_hash(string), 1\n",
    "        for i in range(N):\n",
    "            for ch in ('a', 'b', 'c'):\n",
    "                modified_hash = (hash_val + (ord(ch) - ord(string[i])) * p_) % M\n",
    "                if ch != string[i] and modified_hash in hashes:\n",
    "                    return True\n",
    "            p_ = (p_ * P) % M\n",
    "        return False\n",
    "\n",
    "    # Store all the input strs as poly hashes\n",
    "    hashes: set[int] = set()\n",
    "    for inp in input_patterns:\n",
    "        hashes.add(poly_hash(inp))\n",
    "\n",
    "    # Iterate through the search strings, compute all hashes for all combinations in O(1) time\n",
    "    results: list[bool] = []\n",
    "    for inp in search_patterns:\n",
    "        results.append(search(inp))\n",
    "\n",
    "    return results\n",
    "\n",
    "# Testing the solution\n",
    "assert watto_mechanism([\"aaaaa\", \"acacaca\"], [\"aabaa\", \"ccacacc\", \"caaac\"]) == [True, False, False]\n",
    "assert watto_mechanism([\"acbacbacb\"], [\"cbacbacb\", \"acbacbac\", \"aacbacbacb\", \"acbacbacbb\", \"acbaabacb\"]) == [False, False, False, False, True]\n",
    "assert watto_mechanism([\"ab\", \"cacab\", \"cbabc\", \"acc\", \"cacab\"], [\"abc\", \"aa\", \"acbca\", \"cb\"]) == [True, True, False, True]"
   ]
  },
  {
   "cell_type": "markdown",
   "id": "45e647a3",
   "metadata": {
    "papermill": {
     "duration": 0.00925,
     "end_time": "2024-08-02T14:50:43.886163",
     "exception": false,
     "start_time": "2024-08-02T14:50:43.876913",
     "status": "completed"
    },
    "tags": []
   },
   "source": [
    "Codeforces Practice"
   ]
  },
  {
   "cell_type": "code",
   "execution_count": 12,
   "id": "20dc1c55",
   "metadata": {
    "execution": {
     "iopub.execute_input": "2024-08-02T14:50:43.905776Z",
     "iopub.status.busy": "2024-08-02T14:50:43.905345Z",
     "iopub.status.idle": "2024-08-02T14:50:43.910580Z",
     "shell.execute_reply": "2024-08-02T14:50:43.910055Z"
    },
    "lines_to_next_cell": 1,
    "papermill": {
     "duration": 0.016205,
     "end_time": "2024-08-02T14:50:43.911689",
     "exception": false,
     "start_time": "2024-08-02T14:50:43.895484",
     "status": "completed"
    },
    "tags": []
   },
   "outputs": [],
   "source": [
    "def palindrome_degree(string: str) -> int:\n",
    "    \"\"\"\n",
    "    Iterate through string, check if current substr is a palindrome.\n",
    "    If it is, degree equals degree[substr // 2] + 1.\n",
    "    Assume degree[substr // 2] if not found as 0.\n",
    "    Return sum of all degrees.\n",
    "\n",
    "    Checking if substr is a palindrome, check if prefix_hash hash(S[i..j]) == rev_prefix_hash hash(S[j..i])\n",
    "\n",
    "    PREFIX_HASH = sum(ord(s[i]) * p ** i)\n",
    "        abc: a + bP + cP^2\n",
    "\n",
    "    REV_PREFIX_HASH is a little tricky but when running in a loop it is pretty simple\n",
    "        abc: (rev_prefix_hash * P) + ord(s[i])\n",
    "            a -> a\n",
    "            b -> aP + b\n",
    "            c -> aP^2 + bP + c\n",
    "    \"\"\"\n",
    "    # Paramaters for rolling hash\n",
    "    P, M = 257, 2**61 - 1\n",
    "\n",
    "    N = len(string)\n",
    "    degree: list[int] = [0 for i in range(N)]\n",
    "    prefix_hash = rev_prefix_hash = ord(string[0])\n",
    "    total_degree = degree[0] = 1\n",
    "    p = P\n",
    "    for i in range(1, N):\n",
    "        prefix_hash, p = (prefix_hash + ord(string[i]) * p) % M, (P * p) % M\n",
    "        rev_prefix_hash = (rev_prefix_hash * P + ord(string[i])) % M\n",
    "        if prefix_hash == rev_prefix_hash:\n",
    "            degree[i] = degree[(i - 1) // 2] + 1\n",
    "            total_degree += degree[i]\n",
    "\n",
    "    return total_degree\n",
    "\n",
    "# Testing the solution\n",
    "assert palindrome_degree(\"a2A\") == 1\n",
    "assert palindrome_degree(\"abacaba\") == 6"
   ]
  },
  {
   "cell_type": "code",
   "execution_count": 13,
   "id": "bd066408",
   "metadata": {
    "execution": {
     "iopub.execute_input": "2024-08-02T14:50:43.931572Z",
     "iopub.status.busy": "2024-08-02T14:50:43.931112Z",
     "iopub.status.idle": "2024-08-02T14:50:43.938185Z",
     "shell.execute_reply": "2024-08-02T14:50:43.937669Z"
    },
    "lines_to_next_cell": 1,
    "papermill": {
     "duration": 0.018012,
     "end_time": "2024-08-02T14:50:43.939205",
     "exception": false,
     "start_time": "2024-08-02T14:50:43.921193",
     "status": "completed"
    },
    "tags": []
   },
   "outputs": [],
   "source": [
    "def spy_syndrome2(secret: str, words: list[str]) -> str:\n",
    "    # Parameters for rolling Hash\n",
    "    P, M = 257, 10**9 + 7\n",
    "\n",
    "    def poly_hash(string: str) -> int:\n",
    "        nonlocal P, M\n",
    "        word_length, hash_value, p = len(string), 0, 1\n",
    "        for i in range(word_length):\n",
    "            hash_value, p = (hash_value + p * ord(string[i].lower())) % M, (p * P) % M\n",
    "\n",
    "        return hash_value\n",
    "\n",
    "    # Store the list of words as hashes\n",
    "    hashes: dict[int, str] = dict()\n",
    "    for word in words:\n",
    "        hashes[poly_hash(word)] = word\n",
    "\n",
    "    # Compute the rev prefix hash as we iterate through the secret, if\n",
    "    # match found reset and add to list of words found, note that we\n",
    "    # might need to backtrack which is handled by the stack code here!\n",
    "    result: list[str] = []\n",
    "    secret_length = len(secret)\n",
    "    stack: list[tuple[int, int]] = [(0, 0)]\n",
    "    while stack:\n",
    "        idx, hash_value = stack.pop()\n",
    "        if idx == secret_length:\n",
    "            if hash_value == 0:\n",
    "                break\n",
    "            else:\n",
    "                result.pop()\n",
    "        else:\n",
    "            hash_value = (hash_value * P + ord(secret[idx].lower())) % M\n",
    "            stack.append((idx + 1, hash_value))\n",
    "            if hash_value in hashes:\n",
    "                result.append(hashes[hash_value])\n",
    "                stack.append((idx + 1, 0))\n",
    "\n",
    "    return ' '.join(result)\n",
    "\n",
    "# Testing the solution\n",
    "assert spy_syndrome2(\"ariksihsidlihcdnaehsetahgnisol\", [\"Kira\", \"hates\", \"is\", \"he\", \"losing\", \"death\", \"childish\", \"L\", \"and\", \"Note\"]) == \"Kira is childish and he hates losing\"\n",
    "assert spy_syndrome2(\"iherehtolleh\", [\"HI\", \"Ho\", \"there\", \"HeLLo\", \"hello\"]).lower() == \"HI there HeLLo\".lower()\n",
    "assert spy_syndrome2(\"ababaaba\", [\"aba\", \"ababa\"]) == \"ababa aba\""
   ]
  },
  {
   "cell_type": "markdown",
   "id": "a4ef7399",
   "metadata": {
    "papermill": {
     "duration": 0.009396,
     "end_time": "2024-08-02T14:50:43.958177",
     "exception": false,
     "start_time": "2024-08-02T14:50:43.948781",
     "status": "completed"
    },
    "tags": []
   },
   "source": [
    "Codeforces Practice"
   ]
  },
  {
   "cell_type": "code",
   "execution_count": 14,
   "id": "bc104a4b",
   "metadata": {
    "execution": {
     "iopub.execute_input": "2024-08-02T14:50:43.978159Z",
     "iopub.status.busy": "2024-08-02T14:50:43.977640Z",
     "iopub.status.idle": "2024-08-02T14:50:43.985295Z",
     "shell.execute_reply": "2024-08-02T14:50:43.984836Z"
    },
    "lines_to_next_cell": 1,
    "papermill": {
     "duration": 0.018771,
     "end_time": "2024-08-02T14:50:43.986365",
     "exception": false,
     "start_time": "2024-08-02T14:50:43.967594",
     "status": "completed"
    },
    "tags": []
   },
   "outputs": [],
   "source": [
    "def xor_paths(M: int, N: int, matrix: list[list[int]], K: int) -> int:\n",
    "    \"\"\"\n",
    "    Meet in the middle to reduce the time complexity.\n",
    "    \"\"\"\n",
    "\n",
    "    valid_path_count, max_moves = 0, M + N - 2\n",
    "    counts: collections.defaultdict[tuple[int, int, int], int] = collections.defaultdict(int)\n",
    "\n",
    "    # Starting from (0, 0), make max_moves // 2: travelling right or down\n",
    "    stack: list[tuple[int, int, int, int]] = [(0, 0, 0, 0)]\n",
    "    while stack:\n",
    "        i, j, xor_sum, moves = stack.pop()\n",
    "        xor_sum ^= matrix[i][j]\n",
    "        if moves == max_moves // 2:\n",
    "            counts[i, j, xor_sum] += 1\n",
    "        else:\n",
    "            if i + 1 < M:\n",
    "                stack.append((i + 1, j, xor_sum, moves + 1))\n",
    "            if j + 1 < N:\n",
    "                stack.append((i, j + 1, xor_sum, moves + 1))\n",
    "\n",
    "    # Starting from (M - 1, N - 1), make max_moves - (max_moves // 2): travelling left or up\n",
    "    stack = [(M - 1, N - 1, K, 0)]\n",
    "    while stack:\n",
    "        i, j, xor_sum, moves = stack.pop()\n",
    "        if moves == max_moves - (max_moves // 2):\n",
    "            # In the end counts[i, j, xor_sum] that we reached from the\n",
    "            # front and the end would be such that xor_sum ^ K == 0\n",
    "            valid_path_count += counts[i, j, xor_sum]\n",
    "        else:\n",
    "            if i - 1 >= 0:\n",
    "                stack.append((i - 1, j, xor_sum ^ matrix[i][j], moves + 1))\n",
    "            if j - 1 >= 0:\n",
    "                stack.append((i, j - 1, xor_sum ^ matrix[i][j], moves + 1))\n",
    "\n",
    "    return valid_path_count\n",
    "\n",
    "# Testing the solution\n",
    "assert xor_paths(3, 3, [[2, 1, 5], [7, 10, 0], [12, 6, 4]], 11) == 3\n",
    "assert xor_paths(3, 4, [[1, 3, 3, 3], [0, 3, 3, 2], [3, 0, 1, 1]], 2) == 5\n",
    "assert xor_paths(3, 4, [[1, 3, 3, 3], [0, 3, 3, 2], [3, 0, 1, 1]], 1000000000000000000) == 0"
   ]
  },
  {
   "cell_type": "markdown",
   "id": "f3b79ef1",
   "metadata": {
    "papermill": {
     "duration": 0.009521,
     "end_time": "2024-08-02T14:50:44.005392",
     "exception": false,
     "start_time": "2024-08-02T14:50:43.995871",
     "status": "completed"
    },
    "tags": []
   },
   "source": [
    "CP Easy: Trees"
   ]
  },
  {
   "cell_type": "code",
   "execution_count": 15,
   "id": "79f51e67",
   "metadata": {
    "execution": {
     "iopub.execute_input": "2024-08-02T14:50:44.025330Z",
     "iopub.status.busy": "2024-08-02T14:50:44.024910Z",
     "iopub.status.idle": "2024-08-02T14:50:44.031092Z",
     "shell.execute_reply": "2024-08-02T14:50:44.030598Z"
    },
    "lines_to_next_cell": 1,
    "papermill": {
     "duration": 0.017335,
     "end_time": "2024-08-02T14:50:44.032103",
     "exception": false,
     "start_time": "2024-08-02T14:50:44.014768",
     "status": "completed"
    },
    "tags": []
   },
   "outputs": [],
   "source": [
    "def subordinates(n_employees: int, bosses: list[int]) -> list[int]:\n",
    "    \"\"\"\n",
    "    The recusive solution using cache is trivial, using the\n",
    "    iterative approach to prevent stackoverflow\n",
    "    \"\"\"\n",
    "\n",
    "    subordinate_counts: list[int] = [-1 for i in range(n_employees + 1)]\n",
    "    subordinates: collections.defaultdict[int, list[int]] = collections.defaultdict(list)\n",
    "    for i, boss in enumerate(bosses, start=2):\n",
    "        subordinates[boss].append(i)\n",
    "\n",
    "    # Starting with the director, count subordinates recursively using stack\n",
    "    stack: list[int] = [1]\n",
    "    while stack:\n",
    "        emp, subordinate_count = stack[-1], 0\n",
    "        for subordinate in subordinates[emp]:\n",
    "            if subordinate_counts[subordinate] == -1:\n",
    "                stack.append(subordinate)\n",
    "            else:\n",
    "                subordinate_count += 1 + subordinate_counts[subordinate]\n",
    "        if emp == stack[-1]:\n",
    "            subordinate_counts[emp] = subordinate_count\n",
    "            stack.pop()\n",
    "\n",
    "    return subordinate_counts[1:]\n",
    "\n",
    "# Testing the solution\n",
    "assert subordinates(5, [1, 1, 2, 3]) == [4, 1, 1, 0, 0]\n",
    "assert subordinates(10, [1,1,1,1,1,1,1,1,1]) == [9,0,0,0,0,0,0,0,0,0]\n",
    "assert subordinates(10, [1,2,3,4,5,6,7,8,9]) == [9,8,7,6,5,4,3,2,1,0]"
   ]
  },
  {
   "cell_type": "code",
   "execution_count": 16,
   "id": "74595f0d",
   "metadata": {
    "execution": {
     "iopub.execute_input": "2024-08-02T14:50:44.051867Z",
     "iopub.status.busy": "2024-08-02T14:50:44.051472Z",
     "iopub.status.idle": "2024-08-02T14:50:44.057771Z",
     "shell.execute_reply": "2024-08-02T14:50:44.057204Z"
    },
    "papermill": {
     "duration": 0.017347,
     "end_time": "2024-08-02T14:50:44.058844",
     "exception": false,
     "start_time": "2024-08-02T14:50:44.041497",
     "status": "completed"
    },
    "tags": []
   },
   "outputs": [],
   "source": [
    "def tree_matching(E: int, edges: list[tuple[int, int]]) -> int:\n",
    "    \"\"\"\n",
    "    Only having a superficial understanding, converted with trial and\n",
    "    errors the solution from recursive to iterative.\n",
    "    \"\"\"\n",
    "    adjl: collections.defaultdict[int, list] = collections.defaultdict(list)\n",
    "    for i, j in edges:\n",
    "        adjl[i].append(j)\n",
    "        adjl[j].append(i)\n",
    "\n",
    "    # greedily keep matching a leaf with the only vertex adjacent to it while possible\n",
    "    visited: set[int] = {1}\n",
    "    picked: set[int] = set()\n",
    "    stack: list[tuple[int, int]] = [(1, -1)]\n",
    "    matching: int = 0\n",
    "    while stack:\n",
    "        curr, prev = stack[-1]\n",
    "        for next_ in adjl[curr]:\n",
    "            if next_ not in visited:\n",
    "                visited.add(next_)\n",
    "                stack.append((next_, curr))\n",
    "        if stack[-1] == (curr, prev):\n",
    "            stack.pop()\n",
    "            # At the end of each recursive call, as per recursive code logic\n",
    "            # we skip the first 'edge' (1, -1)\n",
    "            if prev != -1 and prev not in picked and curr not in picked:\n",
    "                matching += 1\n",
    "                picked.add(curr)\n",
    "                picked.add(prev)\n",
    "\n",
    "    return matching\n",
    "\n",
    "# Testing the solution\n",
    "assert tree_matching(5, [(1,2), (1,3), (3,4), (3,5)]) == 2\n",
    "assert tree_matching(10, [(8,9), (10,9), (1,4), (7,1), (8,3), (10,5), (4,2), (3,7), (6,4)]) == 4"
   ]
  },
  {
   "cell_type": "markdown",
   "id": "b8a3aee7",
   "metadata": {
    "lines_to_next_cell": 2,
    "papermill": {
     "duration": 0.009523,
     "end_time": "2024-08-02T14:50:44.078312",
     "exception": false,
     "start_time": "2024-08-02T14:50:44.068789",
     "status": "completed"
    },
    "tags": []
   },
   "source": [
    "Diameter of a tree:\n",
    "Naive approach is to run DFS on all nodes which would lead to a time complexity of O(n * n).<br>\n",
    "Better approach would be to run DFS from any node and find the farthest point.\n",
    "From this point run DFS again and fnd the farthest point.\n",
    "Compute distance between these two nodes."
   ]
  },
  {
   "cell_type": "code",
   "execution_count": 17,
   "id": "f9da7b22",
   "metadata": {
    "execution": {
     "iopub.execute_input": "2024-08-02T14:50:44.098412Z",
     "iopub.status.busy": "2024-08-02T14:50:44.098040Z",
     "iopub.status.idle": "2024-08-02T14:50:44.105614Z",
     "shell.execute_reply": "2024-08-02T14:50:44.105069Z"
    },
    "lines_to_next_cell": 1,
    "papermill": {
     "duration": 0.01899,
     "end_time": "2024-08-02T14:50:44.106620",
     "exception": false,
     "start_time": "2024-08-02T14:50:44.087630",
     "status": "completed"
    },
    "tags": []
   },
   "outputs": [],
   "source": [
    "def circumference(N: int, edges: list[tuple[int, int]]) -> int:\n",
    "    def farthest(node: int) -> tuple[int, int]:\n",
    "        result: tuple[int, int] = (-1, -1)\n",
    "        queue: collections.deque[tuple[int, int, int]] = collections.deque([(node, -1, 0)])\n",
    "        while queue:\n",
    "            curr, prev, dist = queue.popleft()\n",
    "            if dist > result[1]:\n",
    "                result = curr, dist\n",
    "            for next_ in adjl[curr]:\n",
    "                if next_ != prev:\n",
    "                    queue.append((next_, curr, dist + 1))\n",
    "\n",
    "        return result\n",
    "\n",
    "    # Create an adj list from the provided edges\n",
    "    adjl: collections.defaultdict[int, list[int]] = collections.defaultdict(list)\n",
    "    for n1, n2 in edges:\n",
    "        adjl[n1].append(n2)\n",
    "        adjl[n2].append(n1)\n",
    "\n",
    "    # Take any random node and run DFS to find the farthest point\n",
    "    n1, _ = farthest(edges[0][0])\n",
    "    n2, D = farthest(n1)\n",
    "\n",
    "    # Wrong formula but this is the expected formula\n",
    "    return 3 * D\n",
    "\n",
    "# Testing the solution\n",
    "assert circumference(3, [(3,2), (2,1)]) == 6\n",
    "assert circumference(5, [(4,2), (1,4), (5,4), (3,4)]) == 6"
   ]
  },
  {
   "cell_type": "markdown",
   "id": "0891c413",
   "metadata": {
    "papermill": {
     "duration": 0.009358,
     "end_time": "2024-08-02T14:50:44.140453",
     "exception": false,
     "start_time": "2024-08-02T14:50:44.131095",
     "status": "completed"
    },
    "tags": []
   },
   "source": [
    "LC Biweekly - 20th July 2024"
   ]
  },
  {
   "cell_type": "code",
   "execution_count": 18,
   "id": "a81c610d",
   "metadata": {
    "execution": {
     "iopub.execute_input": "2024-08-02T14:50:44.160468Z",
     "iopub.status.busy": "2024-08-02T14:50:44.160200Z",
     "iopub.status.idle": "2024-08-02T14:50:44.164213Z",
     "shell.execute_reply": "2024-08-02T14:50:44.163691Z"
    },
    "lines_to_next_cell": 1,
    "papermill": {
     "duration": 0.015479,
     "end_time": "2024-08-02T14:50:44.165353",
     "exception": false,
     "start_time": "2024-08-02T14:50:44.149874",
     "status": "completed"
    },
    "tags": []
   },
   "outputs": [],
   "source": [
    "def losingPlayer(x: int, y: int) -> str:\n",
    "    alice_turn = True\n",
    "    x_req, y_req = 1, 4\n",
    "    while x >= x_req and y >= y_req:\n",
    "        x, y = x - x_req, y - y_req\n",
    "        alice_turn = not alice_turn\n",
    "\n",
    "    return \"Alice\" if not alice_turn else \"Bob\"\n",
    "\n",
    "# Testing the solution\n",
    "assert losingPlayer(2, 7) == \"Alice\"\n",
    "assert losingPlayer(4, 11) == \"Bob\""
   ]
  },
  {
   "cell_type": "code",
   "execution_count": 19,
   "id": "2d2dc400",
   "metadata": {
    "execution": {
     "iopub.execute_input": "2024-08-02T14:50:44.185693Z",
     "iopub.status.busy": "2024-08-02T14:50:44.185318Z",
     "iopub.status.idle": "2024-08-02T14:50:44.189022Z",
     "shell.execute_reply": "2024-08-02T14:50:44.188512Z"
    },
    "lines_to_next_cell": 1,
    "papermill": {
     "duration": 0.015268,
     "end_time": "2024-08-02T14:50:44.190174",
     "exception": false,
     "start_time": "2024-08-02T14:50:44.174906",
     "status": "completed"
    },
    "tags": []
   },
   "outputs": [],
   "source": [
    "def minimumLength(s: str) -> int:\n",
    "    freq: collections.Counter = collections.Counter(s)\n",
    "    return sum(map(lambda x: x if x <= 2 else 1 if x % 2 == 1 else 2, freq.values()))\n",
    "\n",
    "# Testing the solution\n",
    "assert minimumLength(\"abaacbcbb\") == 5\n",
    "assert minimumLength(\"aa\") == 2"
   ]
  },
  {
   "cell_type": "code",
   "execution_count": 20,
   "id": "bfa64614",
   "metadata": {
    "execution": {
     "iopub.execute_input": "2024-08-02T14:50:44.210227Z",
     "iopub.status.busy": "2024-08-02T14:50:44.210038Z",
     "iopub.status.idle": "2024-08-02T14:50:44.215555Z",
     "shell.execute_reply": "2024-08-02T14:50:44.215116Z"
    },
    "lines_to_next_cell": 1,
    "papermill": {
     "duration": 0.016816,
     "end_time": "2024-08-02T14:50:44.216602",
     "exception": false,
     "start_time": "2024-08-02T14:50:44.199786",
     "status": "completed"
    },
    "tags": []
   },
   "outputs": [],
   "source": [
    "# TLE :)\n",
    "def minChanges(nums: list[int], K: int) -> int:\n",
    "    N, min_changes = len(nums), math.inf\n",
    "    max_diff = max([*nums, K])\n",
    "    for x in range(max_diff + 1):\n",
    "        changes = 0.\n",
    "        for i in range(N // 2):\n",
    "            L, R = nums[i], nums[N - i - 1]\n",
    "            if abs(L - R) == x:\n",
    "                changes += 0\n",
    "            elif (L - K <= x <= max(L, abs(L - K))) or (R - K <= x <= max(R, abs(R - K))):\n",
    "                changes += 1\n",
    "            elif 0 <= x <= K:\n",
    "                changes += 2\n",
    "            else:\n",
    "                changes += math.inf\n",
    "\n",
    "        min_changes = min(min_changes, changes)\n",
    "\n",
    "    return int(min_changes)\n",
    "\n",
    "# Testing the solution\n",
    "assert minChanges([1,0,1,2,4,3], 4) == 2\n",
    "assert minChanges([0,1,2,3,3,6,5,4], 6) == 2\n",
    "assert minChanges([3,1,7,7,8,7,0,5,8,0,6,7,0,2,6,6], 8) == 6"
   ]
  },
  {
   "cell_type": "markdown",
   "id": "86a332d3",
   "metadata": {
    "papermill": {
     "duration": 0.009785,
     "end_time": "2024-08-02T14:50:44.236294",
     "exception": false,
     "start_time": "2024-08-02T14:50:44.226509",
     "status": "completed"
    },
    "tags": []
   },
   "source": [
    "LC Weekly Contest - 21st July 2024"
   ]
  },
  {
   "cell_type": "code",
   "execution_count": 21,
   "id": "8ed3be79",
   "metadata": {
    "execution": {
     "iopub.execute_input": "2024-08-02T14:50:44.256680Z",
     "iopub.status.busy": "2024-08-02T14:50:44.256192Z",
     "iopub.status.idle": "2024-08-02T14:50:44.260953Z",
     "shell.execute_reply": "2024-08-02T14:50:44.260398Z"
    },
    "lines_to_next_cell": 1,
    "papermill": {
     "duration": 0.016431,
     "end_time": "2024-08-02T14:50:44.262142",
     "exception": false,
     "start_time": "2024-08-02T14:50:44.245711",
     "status": "completed"
    },
    "tags": []
   },
   "outputs": [],
   "source": [
    "def minBitChanges(N: int, K: int) -> int:\n",
    "    changes = 0.\n",
    "    while N > 0 or K > 0:\n",
    "        N_bit, K_bit = N & 1, K & 1\n",
    "        N, K = N >> 1, K >> 1\n",
    "        if N_bit == 1 and K_bit == 0:\n",
    "            changes += 1\n",
    "        elif N_bit == K_bit:\n",
    "            changes += 0\n",
    "        else:\n",
    "            changes += math.inf\n",
    "\n",
    "    return int(changes) if not math.isinf(changes) else -1\n",
    "\n",
    "# Testing the solution\n",
    "assert minBitChanges(13, 4) == 2\n",
    "assert minBitChanges(21, 21) == 0\n",
    "assert minBitChanges(14, 13) == -1"
   ]
  },
  {
   "cell_type": "code",
   "execution_count": 22,
   "id": "e74d786a",
   "metadata": {
    "execution": {
     "iopub.execute_input": "2024-08-02T14:50:44.282125Z",
     "iopub.status.busy": "2024-08-02T14:50:44.281777Z",
     "iopub.status.idle": "2024-08-02T14:50:44.285184Z",
     "shell.execute_reply": "2024-08-02T14:50:44.284733Z"
    },
    "lines_to_next_cell": 1,
    "papermill": {
     "duration": 0.014611,
     "end_time": "2024-08-02T14:50:44.286258",
     "exception": false,
     "start_time": "2024-08-02T14:50:44.271647",
     "status": "completed"
    },
    "tags": []
   },
   "outputs": [],
   "source": [
    "def doesAliceWin(s: str) -> bool:\n",
    "    vc = 0\n",
    "    for ch in s:\n",
    "        if ch in ('a', 'e', 'i', 'o', 'u'):\n",
    "            vc += 1\n",
    "\n",
    "    return vc != 0\n",
    "\n",
    "# Testing the solution\n",
    "assert doesAliceWin(\"leetcoder\") == True\n",
    "assert doesAliceWin(\"bcd\") == False"
   ]
  },
  {
   "cell_type": "code",
   "execution_count": 23,
   "id": "4d022653",
   "metadata": {
    "execution": {
     "iopub.execute_input": "2024-08-02T14:50:44.306802Z",
     "iopub.status.busy": "2024-08-02T14:50:44.306338Z",
     "iopub.status.idle": "2024-08-02T14:50:44.310378Z",
     "shell.execute_reply": "2024-08-02T14:50:44.309945Z"
    },
    "lines_to_next_cell": 1,
    "papermill": {
     "duration": 0.015556,
     "end_time": "2024-08-02T14:50:44.311447",
     "exception": false,
     "start_time": "2024-08-02T14:50:44.295891",
     "status": "completed"
    },
    "tags": []
   },
   "outputs": [],
   "source": [
    "def maxOperations(S: str) -> int:\n",
    "    N = len(S)\n",
    "    ops = ones = 0\n",
    "    for i in range(N):\n",
    "        if S[i] == '1':\n",
    "            ones += 1\n",
    "        elif S[i - 1] == '1':\n",
    "            ops += ones\n",
    "\n",
    "    return ops\n",
    "\n",
    "# Testing the solution\n",
    "assert maxOperations(\"1001101\") == 4\n",
    "assert maxOperations(\"00111\") == 0\n",
    "assert maxOperations(\"1000\") == 1\n",
    "assert maxOperations(\"1110\") == 3"
   ]
  },
  {
   "cell_type": "code",
   "execution_count": 24,
   "id": "25db5338",
   "metadata": {
    "execution": {
     "iopub.execute_input": "2024-08-02T14:50:44.331834Z",
     "iopub.status.busy": "2024-08-02T14:50:44.331378Z",
     "iopub.status.idle": "2024-08-02T14:50:44.338862Z",
     "shell.execute_reply": "2024-08-02T14:50:44.338452Z"
    },
    "lines_to_next_cell": 1,
    "papermill": {
     "duration": 0.018809,
     "end_time": "2024-08-02T14:50:44.339940",
     "exception": false,
     "start_time": "2024-08-02T14:50:44.321131",
     "status": "completed"
    },
    "tags": []
   },
   "outputs": [],
   "source": [
    "# Solved at 9:40 :)\n",
    "def minimumOperations(nums: list[int], target: list[int]) -> int:\n",
    "    def equal_sign(n1: int, n2: int) -> bool:\n",
    "        return (n1 < 0 and n2 < 0) or (n1 > 0 and n2 > 0) or (n1 == n2 == 0)\n",
    "\n",
    "    def split(left: int, right: int) -> list[tuple[int, int]]:\n",
    "        result: list[tuple[int, int]] = []\n",
    "        prev = left\n",
    "        for i in range(left, right + 2):\n",
    "            if i == right + 1 or not equal_sign(deltas[i], deltas[prev]):\n",
    "                result.append((prev, i - 1))\n",
    "                prev = i\n",
    "\n",
    "        return result\n",
    "\n",
    "    def count(left: int, right: int) -> int:\n",
    "        min_ = abs(deltas[left])\n",
    "        for i in range(left, right+1):\n",
    "            deltas[i] = abs(deltas[i])\n",
    "            min_ = min(min_, deltas[i])\n",
    "\n",
    "        for i in range(left, right+1):\n",
    "            deltas[i] -= min_\n",
    "\n",
    "        slices: list[tuple[int, int]] = split(left, right)\n",
    "        ops_ = min_\n",
    "        if min_ > 0:\n",
    "            for i, j in slices:\n",
    "                ops_ += count(i, j)\n",
    "\n",
    "        return ops_\n",
    "\n",
    "    N, ops = len(nums), 0\n",
    "    deltas: list[int] = [nums[i] - target[i] for i in range(N)]\n",
    "    slices: list[tuple[int, int]] = split(0, N - 1)\n",
    "    for i, j in slices:\n",
    "        ops += count(i, j)\n",
    "\n",
    "    return ops\n",
    "\n",
    "# Testing the solution\n",
    "assert minimumOperations([3,5,1,2], [4,6,2,4]) == 2\n",
    "assert minimumOperations([1,3,2], [2,1,4]) == 5"
   ]
  },
  {
   "cell_type": "code",
   "execution_count": 25,
   "id": "19c7f6ff",
   "metadata": {
    "execution": {
     "iopub.execute_input": "2024-08-02T14:50:44.360214Z",
     "iopub.status.busy": "2024-08-02T14:50:44.359744Z",
     "iopub.status.idle": "2024-08-02T14:50:44.366152Z",
     "shell.execute_reply": "2024-08-02T14:50:44.365731Z"
    },
    "lines_to_next_cell": 1,
    "papermill": {
     "duration": 0.017655,
     "end_time": "2024-08-02T14:50:44.367204",
     "exception": false,
     "start_time": "2024-08-02T14:50:44.349549",
     "status": "completed"
    },
    "tags": []
   },
   "outputs": [],
   "source": [
    "def dynamic_dyameter(N: int, edges: list[tuple[int, int]]) -> list[int]:\n",
    "    def BFS(start: int) -> tuple[int, set[int]]:\n",
    "        distances: collections.defaultdict[int, set[int]] = collections.defaultdict(set)\n",
    "        queue: collections.deque[tuple[int, int, int]] = collections.deque([(start, 0, 0)])\n",
    "        max_dist = 0\n",
    "        while queue:\n",
    "            curr, prev, dist = queue.popleft()\n",
    "            distances[dist].add(curr)\n",
    "            max_dist = max(dist, max_dist)\n",
    "            for next_ in adjl[curr]:\n",
    "                if next_ != prev:\n",
    "                    queue.append((next_, curr, dist + 1))\n",
    "\n",
    "        return max_dist, distances[max_dist]\n",
    "\n",
    "    # Convert edges to adjancency list\n",
    "    adjl: collections.defaultdict[int, list[int]] = collections.defaultdict(list)\n",
    "    for n1, n2 in edges:\n",
    "        adjl[n1].append(n2)\n",
    "        adjl[n2].append(n1)\n",
    "\n",
    "    # Find the farthest from a random node\n",
    "    nodes = BFS(1)[1]\n",
    "    leaves: set[int] = {*nodes}\n",
    "    D, farthest_nodes = BFS(next(iter(leaves)))\n",
    "    leaves.update(farthest_nodes)\n",
    "\n",
    "    return [D + 1 if i in leaves else D for i in range(1, N + 1)]\n",
    "\n",
    "# Testing the solution\n",
    "assert dynamic_dyameter(3, [(3,2), (2,1)]) == [3,2,3]\n",
    "assert dynamic_dyameter(5, [(4,2), (1,4), (5,4), (3,4)]) == [3,3,3,2,3]"
   ]
  },
  {
   "cell_type": "code",
   "execution_count": 26,
   "id": "f5eb47cb",
   "metadata": {
    "execution": {
     "iopub.execute_input": "2024-08-02T14:50:44.387160Z",
     "iopub.status.busy": "2024-08-02T14:50:44.386755Z",
     "iopub.status.idle": "2024-08-02T14:50:44.394071Z",
     "shell.execute_reply": "2024-08-02T14:50:44.393529Z"
    },
    "lines_to_next_cell": 1,
    "papermill": {
     "duration": 0.018359,
     "end_time": "2024-08-02T14:50:44.395094",
     "exception": false,
     "start_time": "2024-08-02T14:50:44.376735",
     "status": "completed"
    },
    "tags": []
   },
   "outputs": [],
   "source": [
    "def military_problem(n_officers: int, superiors: list[int], queries: list[tuple[int, int]]) -> list[int]:\n",
    "    adjl: collections.defaultdict[int, list[int]] = collections.defaultdict(list)\n",
    "    for officer, superior in enumerate(superiors, start=2):\n",
    "        adjl[superior].append(officer)\n",
    "\n",
    "    # DFS starting from the supreme commander - 1\n",
    "    # Create variables for storing the DFS order and the start/end index for each\n",
    "    order: list[int] = []\n",
    "    ranges: collections.defaultdict[int, tuple[int, int]] = collections.defaultdict(lambda: (0, 0))\n",
    "    stack: list[tuple[int, int]] = [(1, 0)]\n",
    "    while stack:\n",
    "        curr, idx = stack[-1]\n",
    "        if idx == 0:\n",
    "            order.append(curr)\n",
    "            ranges[curr] = len(order) - 1, len(order) - 1\n",
    "        if idx < len(adjl[curr]):\n",
    "            stack[-1] = curr, idx + 1\n",
    "            stack.append((adjl[curr][idx], 0))\n",
    "        else:\n",
    "            stack.pop()\n",
    "            ranges[curr] = ranges[curr][0], len(order) - 1\n",
    "\n",
    "    # Answer the queries\n",
    "    result: list[int] = []\n",
    "    for officer, kth in queries:\n",
    "        start, end = ranges[officer]\n",
    "        if end - start + 1 >= kth:\n",
    "            result.append(order[start + kth - 1])\n",
    "        else:\n",
    "            result.append(-1)\n",
    "\n",
    "    return result\n",
    "\n",
    "# Testing the solution\n",
    "assert military_problem(9, [1,2,2,3,5,3,6,7], [(1,5), (7,3), (1,8), (1,9)]) == [6,-1,9,4]\n",
    "assert military_problem(9, [1,1,1,3,5,3,5,7], [(3,1), (1,5), (3,4), (7,3), (1,8), (1,9)]) == [3,6,8,-1,9,4]"
   ]
  },
  {
   "cell_type": "markdown",
   "id": "03b63bfc",
   "metadata": {
    "papermill": {
     "duration": 0.009464,
     "end_time": "2024-08-02T14:50:44.414342",
     "exception": false,
     "start_time": "2024-08-02T14:50:44.404878",
     "status": "completed"
    },
    "tags": []
   },
   "source": [
    "Binary Lifting - LCA"
   ]
  },
  {
   "cell_type": "code",
   "execution_count": 27,
   "id": "232e564a",
   "metadata": {
    "execution": {
     "iopub.execute_input": "2024-08-02T14:50:44.434256Z",
     "iopub.status.busy": "2024-08-02T14:50:44.433865Z",
     "iopub.status.idle": "2024-08-02T14:50:44.440289Z",
     "shell.execute_reply": "2024-08-02T14:50:44.439869Z"
    },
    "lines_to_next_cell": 1,
    "papermill": {
     "duration": 0.01765,
     "end_time": "2024-08-02T14:50:44.441369",
     "exception": false,
     "start_time": "2024-08-02T14:50:44.423719",
     "status": "completed"
    },
    "tags": []
   },
   "outputs": [],
   "source": [
    "# https://leetcode.com/problems/kth-ancestor-of-a-tree-node://leetcode.com/problems/kth-ancestor-of-a-tree-node/\n",
    "class TreeAncestor:\n",
    "    def __init__(self, N: int, parent: list[int]):\n",
    "        # Store the ancestors into a sparse table\n",
    "        self.ancestors: dict[int, collections.defaultdict[int, int]] = {}\n",
    "\n",
    "        # Store for level 1 (2 ** 0 => 1)\n",
    "        pending: list[int] = []\n",
    "        level = 0\n",
    "        for node in range(N):\n",
    "            self.ancestors[node] = collections.defaultdict(lambda: -1)\n",
    "            self.ancestors[node][level] = parent[node]\n",
    "            if self.ancestors[node][level] != -1:\n",
    "                pending.append(node)\n",
    "\n",
    "        # Compute next level of ancestors until we hit -1 for all nodes\n",
    "        level += 1\n",
    "        while pending:\n",
    "            still_pending: list[int] = []\n",
    "            for node in pending:\n",
    "                self.ancestors[node][level] = self.ancestors[self.ancestors[node][level - 1]][level - 1]\n",
    "                if self.ancestors[node][level] != -1:\n",
    "                    still_pending.append(node)\n",
    "            pending, level = still_pending, level + 1\n",
    "\n",
    "    def getKthAncestor(self, node: int, K: int) -> int:\n",
    "        while K > 0 and node != -1:\n",
    "            jump = int(math.log2(K))\n",
    "            node = self.ancestors[node][jump]\n",
    "            K -= 1 << jump # k - (2 ** jump)\n",
    "\n",
    "        return node\n",
    "\n",
    "# Testing the solution\n",
    "tree_ancestor = TreeAncestor(7, [-1, 0, 0, 1, 1, 2, 2])\n",
    "assert tree_ancestor.getKthAncestor(5, 2) == 0\n",
    "assert tree_ancestor.getKthAncestor(6, 3) == -1\n",
    "assert tree_ancestor.getKthAncestor(6, 0) == 6\n",
    "assert tree_ancestor.getKthAncestor(6, 9) == -1"
   ]
  },
  {
   "cell_type": "markdown",
   "id": "64cb4a96",
   "metadata": {
    "papermill": {
     "duration": 0.009455,
     "end_time": "2024-08-02T14:50:44.460398",
     "exception": false,
     "start_time": "2024-08-02T14:50:44.450943",
     "status": "completed"
    },
    "tags": []
   },
   "source": [
    "CP Practice - LCA"
   ]
  },
  {
   "cell_type": "code",
   "execution_count": 28,
   "id": "a6f4756f",
   "metadata": {
    "execution": {
     "iopub.execute_input": "2024-08-02T14:50:44.480347Z",
     "iopub.status.busy": "2024-08-02T14:50:44.479991Z",
     "iopub.status.idle": "2024-08-02T14:50:44.493880Z",
     "shell.execute_reply": "2024-08-02T14:50:44.493434Z"
    },
    "lines_to_next_cell": 1,
    "papermill": {
     "duration": 0.025094,
     "end_time": "2024-08-02T14:50:44.494920",
     "exception": false,
     "start_time": "2024-08-02T14:50:44.469826",
     "status": "completed"
    },
    "tags": []
   },
   "outputs": [],
   "source": [
    "def sloth_naptime(N: int, edges: list[tuple[int, int]], Q: int, queries: list[tuple[int, int, int]]) -> list[int]:\n",
    "    def get_distances_from_lca(N1: int, N2: int) -> tuple[int, int]:\n",
    "        n1, n2 = N1, N2\n",
    "\n",
    "        # Make sure that we start at the same heights\n",
    "        if heights[n1] > heights[n2]:\n",
    "            n1 = get_kth_ancestor(n1, heights[n1] - heights[n2])\n",
    "        if heights[n1] < heights[n2]:\n",
    "            n2 = get_kth_ancestor(n2, heights[n2] - heights[n1])\n",
    "\n",
    "        # If n1 had been the ancestor of n2\n",
    "        if n1 == n2:\n",
    "            lca = n1\n",
    "        else:\n",
    "            # Run a `logrithmic` search, starting at max power reducing it\n",
    "            # If match do nothing, otherwise update n1, n2 to where it didn't match\n",
    "            for power in range(MAX_POWER - 1, -1, -1):\n",
    "                if ancestors[n1][power] != ancestors[n2][power]:\n",
    "                    n1, n2 = ancestors[n1][power], ancestors[n2][power]\n",
    "            lca = ancestors[n1][0]\n",
    "\n",
    "        return  heights[N1] - heights[lca], heights[N2] - heights[lca]\n",
    "\n",
    "    def get_kth_ancestor(n: int, k: int) -> int:\n",
    "        while k > 0 and n != -1:\n",
    "            jump = int(math.log2(k))\n",
    "            n, k = ancestors[n][jump], k - (1 << jump)\n",
    "\n",
    "        return n\n",
    "\n",
    "    # Max width of ancestors\n",
    "    MAX_POWER = math.ceil(math.log2(N)) + 1\n",
    "    ancestors: list[list[int]] = [[-1] * MAX_POWER for i in range(N + 1)]\n",
    "    heights: dict[int, int] = {}\n",
    "\n",
    "    # Convert edges into adjacency list\n",
    "    adjl: collections.defaultdict[int, list[int]] = collections.defaultdict(list)\n",
    "    for n1, n2 in edges:\n",
    "        adjl[n1].append(n2)\n",
    "        adjl[n2].append(n1)\n",
    "\n",
    "    # Do a DFS traversal, compute the ancestors and the depth\n",
    "    stack: list[tuple[int, int, int]] = [(1, 0, 0)]\n",
    "    while stack:\n",
    "        curr, prev, height = stack.pop()\n",
    "        ancestors[curr][0] = prev\n",
    "        heights[curr] = height\n",
    "        for next_ in adjl[curr]:\n",
    "            if next_ != prev:\n",
    "                stack.append((next_, curr, height + 1))\n",
    "\n",
    "    # Compute the ancestors for powers up to MAX_N\n",
    "    for power in range(1, MAX_POWER):\n",
    "        for node in range(1, N + 1):\n",
    "            ancestors[node][power] = ancestors[ancestors[node][power - 1]][power - 1]\n",
    "\n",
    "    # Compute the results\n",
    "    results: list[int] = []\n",
    "    for n1, n2, E in queries:\n",
    "        L, R = get_distances_from_lca(n1, n2)\n",
    "        if E <= L:\n",
    "            results.append(get_kth_ancestor(n1, E))\n",
    "        elif E < L + R:\n",
    "            results.append(get_kth_ancestor(n2, L + R - E))\n",
    "        else:\n",
    "            results.append(n2)\n",
    "\n",
    "    return results\n",
    "\n",
    "# Testing the solution\n",
    "assert sloth_naptime(5, [(4,2), (1,4), (5,4), (3,4)], 6, [(3,5,2), (3,5,4), (1,5,5), (4,5,4), (1,5,4), (3,5,0)]) == [5, 5, 5, 5, 5, 3]\n",
    "assert sloth_naptime(3, [(3,2), (2,1)], 3, [(2,2,2), (1,1,2), (3,3,3)]) == [2,1,3]\n",
    "assert sloth_naptime(21, [(6, 9), (8, 1), (11, 10), (18, 17), (5, 17), (14, 7), (11, 14), (4, 18), (17, 13), (1, 14), (16, 21), (19, 6), (19, 14), (5, 9), (14, 16), (3, 20), (19, 15), (7, 2), (17, 3), (12, 7)], 21, [(15, 12, 16), (14, 10, 8), (17, 2, 16), (6, 14, 5), (4, 9, 5), (16, 16, 18), (18, 18, 12), (10, 8, 10), (7, 4, 3), (3, 10, 11), (11, 12, 4), (4, 20, 3), (13, 16, 17), (6, 2, 1), (17, 6, 13), (1, 9, 14), (9, 11, 9), (12, 6, 1), (14, 14, 19), (12, 12, 6), (16, 13, 4)]) == [12, 10, 2, 14, 9, 16, 18, 8, 6, 10, 12, 3, 16, 19, 6, 9, 11, 7, 14, 12, 9]"
   ]
  },
  {
   "cell_type": "code",
   "execution_count": 29,
   "id": "92407e00",
   "metadata": {
    "execution": {
     "iopub.execute_input": "2024-08-02T14:50:44.514872Z",
     "iopub.status.busy": "2024-08-02T14:50:44.514669Z",
     "iopub.status.idle": "2024-08-02T14:50:44.527727Z",
     "shell.execute_reply": "2024-08-02T14:50:44.527305Z"
    },
    "lines_to_next_cell": 1,
    "papermill": {
     "duration": 0.024303,
     "end_time": "2024-08-02T14:50:44.528778",
     "exception": false,
     "start_time": "2024-08-02T14:50:44.504475",
     "status": "completed"
    },
    "tags": []
   },
   "outputs": [],
   "source": [
    "# Correct but memory limit exceeded\n",
    "def cycle_free_flow(N: int, E: int, edges: list[tuple[int, int, int]], Q: int, queries: list[tuple[int, int]]) -> list[int]:\n",
    "    def get_min_flow(N1: int, N2: int) -> int:\n",
    "        n1, n2 = N1, N2\n",
    "        flow: float = math.inf\n",
    "        if heights[n1] > heights[n2]:\n",
    "            n1, flow = get_kth_ancestor(n1, heights[n1] - heights[n2])\n",
    "        if heights[n2] > heights[n1]:\n",
    "            n2, flow = get_kth_ancestor(n2, heights[n2] - heights[n1])\n",
    "\n",
    "        if n1 == n2:\n",
    "            return int(flow)\n",
    "\n",
    "        # Run a 'binary search'\n",
    "        for power in range(MAX_POWER - 1, -1, -1):\n",
    "            (n1_ancestor, n1_flow), (n2_ancestor, n2_flow) = ancestors[n1][power], ancestors[n2][power]\n",
    "            if n1_ancestor != n2_ancestor:\n",
    "                n1, n2, flow = n1_ancestor, n2_ancestor, min(n1_flow, n2_flow)\n",
    "\n",
    "        return int(min(flow, ancestors[n1][0][1], ancestors[n2][0][1]))\n",
    "\n",
    "    def get_kth_ancestor(curr: int, K: int) -> tuple[int, float]:\n",
    "        flow: float = math.inf\n",
    "        while curr != -1 and K > 0:\n",
    "            jump = int(math.log2(K))\n",
    "            curr, next_flow = ancestors[curr][jump]\n",
    "            flow = min(flow, next_flow)\n",
    "            K = K - (1 << jump)\n",
    "\n",
    "        return curr, flow\n",
    "\n",
    "    # Maximum power for computing the ancestors\n",
    "    MAX_POWER = int(math.log2(N)) + 1\n",
    "    ancestors: list[list[tuple[int, int]]] = [[(-1, 0)] * MAX_POWER for i in range(N + 1)]\n",
    "    heights: dict[int, int] = dict()\n",
    "\n",
    "    # Convert edges into Adjl list\n",
    "    adjl: collections.defaultdict[int, list[tuple[int, int]]] = collections.defaultdict(list)\n",
    "    for n1, n2, w in edges:\n",
    "        adjl[n1].append((n2, w))\n",
    "        adjl[n2].append((n1, w))\n",
    "\n",
    "    # Run DFS and compute the level 1 ancestors\n",
    "    stack: list[tuple[int, int]] = [(1, 0)]\n",
    "    ancestors[1][0] = (0, 0)\n",
    "    while stack:\n",
    "        curr, height = stack.pop()\n",
    "        for next_node, next_weight in adjl[curr]:\n",
    "            if next_node not in heights:\n",
    "                heights[next_node] = height + 1\n",
    "                ancestors[next_node][0] = (curr, next_weight)\n",
    "                stack.append((next_node, height + 1))\n",
    "\n",
    "    # Compute the ancestors\n",
    "    for power in range(1, MAX_POWER):\n",
    "        for node in range(1, N + 1):\n",
    "            prev_ancestor, prev_flow = ancestors[node][power - 1]\n",
    "            next_ancestor, next_flow = ancestors[prev_ancestor][power - 1]\n",
    "            ancestors[node][power] = next_ancestor, min(prev_flow, next_flow)\n",
    "\n",
    "    # Process each query\n",
    "    results: list[int] = []\n",
    "    for n1, n2 in queries:\n",
    "        results.append(get_min_flow(n1, n2))\n",
    "\n",
    "    return results\n",
    "\n",
    "# Testing the solution\n",
    "assert cycle_free_flow(10, 9, [(7,10,1680), (10,5,18380), (5,8,8111), (8,9,22597), (3,10,27859), (4,3,9944), (6,10,26721), (1,10,4444), (2,5,2282)], 10, [(10,7), (4,2), (5,4), (9,6), (5,3), (4,10), (4,5), (2,1), (6,9), (9,4)]) == [1680, 2282, 9944, 8111, 18380, 9944, 9944, 2282, 8111, 8111]\n",
    "assert cycle_free_flow(3, 3, [(3,2,4814), (2,1,1832)], 3, [(2,1), (1,2), (3,1)]) == [1832, 1832, 1832]\n",
    "assert cycle_free_flow(5, 4, [(4,2,10348), (1,4,2690), (5,4,9807), (3,4,8008)], 5, [(5,4), (1,5)]) == [9807, 2690]\n",
    "assert cycle_free_flow(5, 4, [(1,3,2653), (4,1,322), (5,1,8657), (2,4,4896)], 5, [(4,2), (2,5), (1,3), (4,5)]) == [4896, 322, 2653, 322]"
   ]
  },
  {
   "cell_type": "code",
   "execution_count": 30,
   "id": "b6f81d8c",
   "metadata": {
    "execution": {
     "iopub.execute_input": "2024-08-02T14:50:44.549339Z",
     "iopub.status.busy": "2024-08-02T14:50:44.548855Z",
     "iopub.status.idle": "2024-08-02T14:50:44.553011Z",
     "shell.execute_reply": "2024-08-02T14:50:44.552464Z"
    },
    "lines_to_next_cell": 1,
    "papermill": {
     "duration": 0.015722,
     "end_time": "2024-08-02T14:50:44.554158",
     "exception": false,
     "start_time": "2024-08-02T14:50:44.538436",
     "status": "completed"
    },
    "tags": []
   },
   "outputs": [],
   "source": [
    "def sortPeople(names: list[str], heights: list[int]) -> list[str]:\n",
    "    return list(map(lambda x: x[1], sorted(zip(heights, names), reverse=True)))\n",
    "\n",
    "# Testing the solution\n",
    "assert sortPeople([\"Mary\",\"John\",\"Emma\"], [180,165,170]) == [\"Mary\",\"Emma\",\"John\"]\n",
    "assert sortPeople([\"Alice\",\"Bob\",\"Bob\"], [155,185,150]) == [\"Bob\",\"Alice\",\"Bob\"]"
   ]
  },
  {
   "cell_type": "code",
   "execution_count": 31,
   "id": "76ca025a",
   "metadata": {
    "execution": {
     "iopub.execute_input": "2024-08-02T14:50:44.574373Z",
     "iopub.status.busy": "2024-08-02T14:50:44.573959Z",
     "iopub.status.idle": "2024-08-02T14:50:44.578347Z",
     "shell.execute_reply": "2024-08-02T14:50:44.577827Z"
    },
    "lines_to_next_cell": 1,
    "papermill": {
     "duration": 0.01558,
     "end_time": "2024-08-02T14:50:44.579346",
     "exception": false,
     "start_time": "2024-08-02T14:50:44.563766",
     "status": "completed"
    },
    "tags": []
   },
   "outputs": [],
   "source": [
    "def frequencySort(nums: list[int]) -> list[int]:\n",
    "    freq: collections.Counter = collections.Counter(nums)\n",
    "    result: list[int] = []\n",
    "    for k, v in sorted(freq.most_common(), key=lambda x: (x[1], -x[0])):\n",
    "        for i in range(v):\n",
    "            result.append(k)\n",
    "\n",
    "    return result\n",
    "\n",
    "# Testing the solution\n",
    "assert frequencySort([1,1,2,2,2,3]) == [3,1,1,2,2,2]\n",
    "assert frequencySort([2,3,1,3,2]) == [1,3,3,2,2]"
   ]
  },
  {
   "cell_type": "markdown",
   "id": "93584f24",
   "metadata": {
    "papermill": {
     "duration": 0.009409,
     "end_time": "2024-08-02T14:50:44.598208",
     "exception": false,
     "start_time": "2024-08-02T14:50:44.588799",
     "status": "completed"
    },
    "tags": []
   },
   "source": [
    "Codeforces Practice - LCA"
   ]
  },
  {
   "cell_type": "code",
   "execution_count": 32,
   "id": "2316de6e",
   "metadata": {
    "execution": {
     "iopub.execute_input": "2024-08-02T14:50:44.617991Z",
     "iopub.status.busy": "2024-08-02T14:50:44.617689Z",
     "iopub.status.idle": "2024-08-02T14:50:44.627157Z",
     "shell.execute_reply": "2024-08-02T14:50:44.626635Z"
    },
    "lines_to_next_cell": 1,
    "papermill": {
     "duration": 0.020707,
     "end_time": "2024-08-02T14:50:44.628258",
     "exception": false,
     "start_time": "2024-08-02T14:50:44.607551",
     "status": "completed"
    },
    "tags": []
   },
   "outputs": [],
   "source": [
    "def tree_queries_better(N: int, Q: int, edges: list[tuple[int, int]], queries: list[tuple[int, list[int]]]) -> list[bool]:\n",
    "    \"\"\"\n",
    "    Thought process:\n",
    "    For each query figure out the deepest node\n",
    "    Iterate through each node in current query - `node`:\n",
    "        - Init curr as deepest\n",
    "        - Get kth ancestor such that curr and node are at same level\n",
    "        - Either curr == node or node in adjl[ancestor[curr][0]]\n",
    "    \"\"\"\n",
    "\n",
    "    # Init variables\n",
    "    MAX_POWER = int(math.log2(N)) + 1\n",
    "    ancestors: list[list[int]] = [[0 for j in range(MAX_POWER)] for i in range(N + 1)]\n",
    "\n",
    "    @functools.cache\n",
    "    def get_kth_ancestor(N: int, K: int) -> int:\n",
    "        while N != 0 and K > 0:\n",
    "            jump = int(math.log2(K))\n",
    "            N, K = ancestors[N][jump], K - (1 << jump)\n",
    "\n",
    "        return N\n",
    "\n",
    "    # Create adjacency list\n",
    "    adjl: collections.defaultdict[int, set[int]] = collections.defaultdict(set)\n",
    "    for n1, n2 in edges:\n",
    "        adjl[n1].add(n2)\n",
    "        adjl[n2].add(n1)\n",
    "\n",
    "    # Do a DFS to find level 1 ancestor and the height\n",
    "    heights: dict[int, int] = dict()\n",
    "    stack: list[tuple[int, int, int]] = [(1, 0, 0)]\n",
    "    while stack:\n",
    "        curr, prev, height = stack.pop()\n",
    "        heights[curr] = height\n",
    "        ancestors[curr][0] = prev\n",
    "        for next_node in adjl[curr]:\n",
    "            if next_node not in heights:\n",
    "                stack.append((next_node, curr, height + 1))\n",
    "\n",
    "    # Compute the ancestors\n",
    "    for power in range(1, MAX_POWER):\n",
    "        for node in range(1, N + 1):\n",
    "            ancestors[node][power] = ancestors[ancestors[node][power - 1]][power - 1]\n",
    "\n",
    "    # Process the queries\n",
    "    results: list[bool] = []\n",
    "    for _, query in queries:\n",
    "        # Check the deepest node\n",
    "        deepest_node: int = 1\n",
    "        for n in query:\n",
    "            if heights[n] > heights[deepest_node]:\n",
    "                deepest_node = n\n",
    "\n",
    "        # Process again through each node\n",
    "        for n in query:\n",
    "            curr = get_kth_ancestor(deepest_node, heights[deepest_node] - heights[n])\n",
    "            if curr != n and n not in adjl[ancestors[curr][0]]:\n",
    "                results.append(False)\n",
    "                break\n",
    "        else:\n",
    "            results.append(True)\n",
    "\n",
    "    return results\n",
    "\n",
    "# Testing the solution\n",
    "assert tree_queries_better(10, 6, [(1,2), (1,3), (1,4), (2,5), (2,6), (3,7), (7,8), (7,9), (9,10)], [(4, [3,8,9,10]), (3, [2,4,6]), (3, [2,1,5]), (3, [4,8,2]), (2, [6,10]), (3, [5,4,7])]) == [True, True, True, True, False, False]"
   ]
  },
  {
   "cell_type": "code",
   "execution_count": 33,
   "id": "f45fab4d",
   "metadata": {
    "execution": {
     "iopub.execute_input": "2024-08-02T14:50:44.648438Z",
     "iopub.status.busy": "2024-08-02T14:50:44.648085Z",
     "iopub.status.idle": "2024-08-02T14:50:44.656507Z",
     "shell.execute_reply": "2024-08-02T14:50:44.656098Z"
    },
    "lines_to_next_cell": 1,
    "papermill": {
     "duration": 0.019724,
     "end_time": "2024-08-02T14:50:44.657589",
     "exception": false,
     "start_time": "2024-08-02T14:50:44.637865",
     "status": "completed"
    },
    "tags": []
   },
   "outputs": [],
   "source": [
    "def tree_queries(N: int, Q: int, edges: list[tuple[int, int]], queries: list[tuple[int, list[int]]]) -> list[bool]:\n",
    "    # Initialize variables\n",
    "    TIME: int = 0\n",
    "    TIN: list[int] = [-1 for i in range(N + 1)]\n",
    "    TOUT: list[int] = [-1 for i in range(N + 1)]\n",
    "    AH: dict[int, tuple[int, int]] = dict()\n",
    "\n",
    "    # Edges to Adj list\n",
    "    adjl: collections.defaultdict[int, list[int]] = collections.defaultdict(list)\n",
    "    for n1, n2 in edges:\n",
    "        adjl[n1].append(n2)\n",
    "        adjl[n2].append(n1)\n",
    "\n",
    "    # DFS traversal to keep track of in, out times; the ancestor and height\n",
    "    stack: list[tuple[int, int, int, int]] = [(1, 1, 0, 0)]\n",
    "    while stack:\n",
    "        curr, prev, idx, height = stack[-1]\n",
    "        AH[curr] = prev, height\n",
    "\n",
    "        # If adding for the first time\n",
    "        if idx == 0:\n",
    "            TIN[curr] = TIME\n",
    "            TIME += 1\n",
    "\n",
    "        # If all its children have been visited\n",
    "        if idx == len(adjl[curr]):\n",
    "            stack.pop()\n",
    "            TOUT[curr] = TIME\n",
    "            TIME += 1\n",
    "\n",
    "        # Children pending visit\n",
    "        else:\n",
    "            stack[-1] = (curr, prev, idx + 1, height)\n",
    "            if prev != adjl[curr][idx]:\n",
    "                stack.append((adjl[curr][idx], curr, 0, height + 1))\n",
    "\n",
    "    # Solve for each query\n",
    "    results: list[bool] = []\n",
    "    for q, query in queries:\n",
    "\n",
    "        # Find the deepest node\n",
    "        deepest_node: int = 1\n",
    "        for n in query:\n",
    "            if AH[n][1] > AH[deepest_node][1]:\n",
    "                deepest_node = n\n",
    "\n",
    "        # Check if each node is ancestor of deepest_node\n",
    "        result = all(map(lambda x: TIN[AH[x][0]] <= TIN[deepest_node] and  TOUT[deepest_node] <= TOUT[AH[x][0]], query))\n",
    "        results.append(result)\n",
    "\n",
    "    return results\n",
    "\n",
    "# Testing the solution\n",
    "assert tree_queries(10, 6, [(1,2), (1,3), (1,4), (2,5), (2,6), (3,7), (7,8), (7,9), (9,10)], [(4, [3,8,9,10]), (3, [2,4,6]), (3, [2,1,5]), (3, [4,8,2]), (2, [6,10]), (3, [5,4,7])]) == [True, True, True, True, False, False]"
   ]
  },
  {
   "cell_type": "code",
   "execution_count": 34,
   "id": "d205c5ee",
   "metadata": {
    "execution": {
     "iopub.execute_input": "2024-08-02T14:50:44.677965Z",
     "iopub.status.busy": "2024-08-02T14:50:44.677474Z",
     "iopub.status.idle": "2024-08-02T14:50:44.689731Z",
     "shell.execute_reply": "2024-08-02T14:50:44.689295Z"
    },
    "lines_to_next_cell": 1,
    "papermill": {
     "duration": 0.023519,
     "end_time": "2024-08-02T14:50:44.690773",
     "exception": false,
     "start_time": "2024-08-02T14:50:44.667254",
     "status": "completed"
    },
    "tags": []
   },
   "outputs": [],
   "source": [
    "def one_tree_queries(N: int, edges: list[tuple[int, int]], Q: int, queries: list[tuple[int, int, int, int, int]]) -> list[bool]:\n",
    "    \"\"\"\n",
    "    Per question, we can travel any node/edge any number of times.\n",
    "    Assume path exists from s-e, we can introduce arbitrary 2Z (Z: 1 .. inf).\n",
    "    Since it is 2Z, parity (odd / even) would remain same. So it suffices to check if\n",
    "    we have a length of matching parity as k that is less than or equal to k\n",
    "\n",
    "    Given query: h1, h2, s, e, k\n",
    "    Paths possible:\n",
    "        1. Direct path: s - e\n",
    "        2. Indirect path via helpers: s - h1 - h2 - e\n",
    "        3. Indirect path via helpers: s - h2 - h1 - e\n",
    "    \"\"\"\n",
    "\n",
    "    def get_kth_ancestor(curr: int, K: int) -> int:\n",
    "        while curr != -1 and K > 0:\n",
    "            jump = int(math.log2(K))\n",
    "            curr, K = ancestors[curr][jump], K - (1 << jump)\n",
    "        return curr\n",
    "\n",
    "    def compute_distance(N1: int, N2: int) -> int:\n",
    "        # Compute LCA; dist from (N1 - LCA) + (N2 - LCA)\n",
    "        n1, n2 = N1, N2\n",
    "        if heights[n1] > heights[n2]:\n",
    "            n1 = get_kth_ancestor(n1, heights[n1] - heights[n2])\n",
    "        if heights[n2] > heights[n1]:\n",
    "            n2 = get_kth_ancestor(n2, heights[n2] - heights[n1])\n",
    "\n",
    "        if n1 == n2:\n",
    "            lca = n1\n",
    "        else:\n",
    "            # `log` search to find LCA\n",
    "            for power in range(MAX_POWER - 1, -1, -1):\n",
    "                if ancestors[n1][power] != ancestors[n2][power]:\n",
    "                    n1, n2 = ancestors[n1][power], ancestors[n2][power]\n",
    "            lca = ancestors[n1][0]\n",
    "\n",
    "        return abs(heights[lca] - heights[N1]) + abs(heights[lca] - heights[N2])\n",
    "\n",
    "    # Initialize variables\n",
    "    MAX_POWER = int(math.log2(N)) + 1\n",
    "    ancestors: list[list[int]] = [[-1] * MAX_POWER for i in range(N + 1)]\n",
    "    heights: dict[int, int] = {}\n",
    "    adjl: collections.defaultdict[int, list[int]] = collections.defaultdict(list)\n",
    "\n",
    "    # Convert edges into adjl\n",
    "    for n1, n2 in edges:\n",
    "        adjl[n1].append(n2)\n",
    "        adjl[n2].append(n1)\n",
    "\n",
    "    # DFS to compute the ancestors\n",
    "    stack: list[tuple[int, int, int]] = [(1, 0, 0)]\n",
    "    while stack:\n",
    "        curr, prev, height = stack.pop()\n",
    "        ancestors[curr][0] = prev\n",
    "        heights[curr] = height\n",
    "        for next_node in adjl[curr]:\n",
    "            if next_node not in heights:\n",
    "                stack.append((next_node, curr, height + 1))\n",
    "\n",
    "    # Compute ancestors\n",
    "    for power in range(1, MAX_POWER):\n",
    "        for node in range(1, N + 1):\n",
    "            if ancestors[node][power - 1] != -1:\n",
    "                ancestors[node][power] = ancestors[ancestors[node][power - 1]][power - 1]\n",
    "\n",
    "    results: list[bool] = []\n",
    "    for h1, h2, s, e, k in queries:\n",
    "        # Precompute distances\n",
    "        SE, SH1, SH2, H1E, H2E = compute_distance(s, e), compute_distance(s, h1), compute_distance(s, h2), compute_distance(h1, e), compute_distance(h2, e)\n",
    "        SH1H2E = SH1 + 1 + H2E\n",
    "        SH2H1E = SH2 + 1 + H1E\n",
    "        # Direct path\n",
    "        if SE % 2 == k % 2 and SE <= k:\n",
    "            results.append(True)\n",
    "        # Indirect path, via helper1\n",
    "        elif SH1H2E % 2 == k % 2 and SH1H2E <= k:\n",
    "            results.append(True)\n",
    "        # Indirect path, via helper2\n",
    "        elif SH2H1E % 2 == k % 2 and SH2H1E <= k:\n",
    "            results.append(True)\n",
    "        else:\n",
    "            results.append(False)\n",
    "\n",
    "    return results\n",
    "\n",
    "# Testing the solution\n",
    "assert one_tree_queries(5, [(1,2), (2,3), (3,4), (4,5)], 5, [(1,3,1,1,1), (1,3,1,2,2), (1,4,1,3,2), (1,4,1,3,3), (4,2,3,3,9), (5,2,3,3,9)]) == [False, True, True, False, True, False]\n",
    "assert one_tree_queries(3, [(1,2), (2,3)], 2, [(1,3,1,1,1), (1,3,1,1,2), (1,3,1,1,3), (1,3,1,1,4),(3,1,1,1,1)]) == [False, True, True, True, False]"
   ]
  },
  {
   "cell_type": "code",
   "execution_count": 35,
   "id": "42f01a27",
   "metadata": {
    "execution": {
     "iopub.execute_input": "2024-08-02T14:50:44.711189Z",
     "iopub.status.busy": "2024-08-02T14:50:44.710674Z",
     "iopub.status.idle": "2024-08-02T14:50:44.720680Z",
     "shell.execute_reply": "2024-08-02T14:50:44.720259Z"
    },
    "lines_to_next_cell": 1,
    "papermill": {
     "duration": 0.02134,
     "end_time": "2024-08-02T14:50:44.721811",
     "exception": false,
     "start_time": "2024-08-02T14:50:44.700471",
     "status": "completed"
    },
    "tags": []
   },
   "outputs": [],
   "source": [
    "def blood_cousins(N: int, parents: list[int], Q: int, queries: list[tuple[int, int]]) -> list[int]:\n",
    "    \"\"\"\n",
    "    Note that for this problem, there can be multiple components\n",
    "\n",
    "    For each query (v, p)\n",
    "    1. Find the pth ancestor of v: u (Using LCA)\n",
    "    2. Compute the number of nodes of subtree with `u` as root at depth[v] (Using TIN, TOUT times and binary search)\n",
    "\n",
    "    On second part, store the tin, tout times and store the tin times into a vector depth wise.\n",
    "    Count of nodes of subtree 'u' and depth 'd' is UB_index(depth[v] - tout[u]) - LB_index(depth[v], tin[u])\n",
    "    \"\"\"\n",
    "\n",
    "    def get_kth_ancestor(curr: int, K: int) -> int:\n",
    "        while curr != 0 and K > 0:\n",
    "            jump = int(math.log2(K))\n",
    "            curr, K = ancestors[curr][jump], K - (1 << jump)\n",
    "        return curr\n",
    "\n",
    "    # Initialize variables\n",
    "    MAX_POWER = int(math.log2(N)) + 1\n",
    "    TIME: int = 0\n",
    "    ancestors: list[list[int]] = [[0] * MAX_POWER for i in range(N + 1)]\n",
    "    TIN: list[int] = [-1 for i in range(N + 1)]\n",
    "    TOUT: list[int] = [-1 for i in range(N + 1)]\n",
    "    heights: dict[int, int] = {}\n",
    "    depth_map: collections.defaultdict[int, list] = collections.defaultdict(list)\n",
    "    adjl: collections.defaultdict[int, list] = collections.defaultdict(list)\n",
    "\n",
    "    # Parents to Adj List\n",
    "    for i, p in enumerate(parents, start=1):\n",
    "        adjl[p].append(i)\n",
    "\n",
    "    # DFS search to compute ancestors, tin, tout times and the heights\n",
    "    stack: list[tuple[int, int, int, int]] = [(i, 0, 0, 0) for i in adjl[0][::-1]]\n",
    "    while stack:\n",
    "        curr, prev, height, idx = stack[-1]\n",
    "        if idx == 0:\n",
    "            TIN[curr] = TIME\n",
    "            depth_map[height].append(TIME)\n",
    "            heights[curr] = height\n",
    "            ancestors[curr][0] = prev\n",
    "            TIME += 1\n",
    "        if idx == len(adjl[curr]):\n",
    "            stack.pop()\n",
    "            TOUT[curr] = TIME\n",
    "            TIME += 1\n",
    "        else:\n",
    "            stack[-1] = curr, prev, height, idx + 1\n",
    "            stack.append((adjl[curr][idx], curr, height + 1, 0))\n",
    "\n",
    "    # Compute ancestors\n",
    "    for power in range(1, MAX_POWER):\n",
    "        for node in range(1, N + 1):\n",
    "            if ancestors[node][power - 1] != -1:\n",
    "                ancestors[node][power] = ancestors[ancestors[node][power - 1]][power - 1]\n",
    "\n",
    "    # Process the queries\n",
    "    results: list[int] = []\n",
    "    for V, P in queries:\n",
    "        U = get_kth_ancestor(V, P)\n",
    "        if U == 0:\n",
    "            results.append(0)\n",
    "        else:\n",
    "            UB = bisect.bisect_right(depth_map[heights[V]], TOUT[U])\n",
    "            LB = bisect.bisect_left(depth_map[heights[V]], TIN[U])\n",
    "            results.append(UB - LB - 1)\n",
    "\n",
    "    return results\n",
    "\n",
    "# Testing the solution\n",
    "assert blood_cousins(6, [0,1,1,0,4,4], 7, [(1,1), (1,2), (2,1), (2,2), (4,1), (5,1), (6,1)]) == [0, 0, 1, 0, 0, 1, 1]"
   ]
  },
  {
   "cell_type": "code",
   "execution_count": 36,
   "id": "8a1c7b23",
   "metadata": {
    "execution": {
     "iopub.execute_input": "2024-08-02T14:50:44.741920Z",
     "iopub.status.busy": "2024-08-02T14:50:44.741589Z",
     "iopub.status.idle": "2024-08-02T14:50:44.745593Z",
     "shell.execute_reply": "2024-08-02T14:50:44.745049Z"
    },
    "lines_to_next_cell": 1,
    "papermill": {
     "duration": 0.015322,
     "end_time": "2024-08-02T14:50:44.746703",
     "exception": false,
     "start_time": "2024-08-02T14:50:44.731381",
     "status": "completed"
    },
    "tags": []
   },
   "outputs": [],
   "source": [
    "def two_buttons(N: int, M: int, steps: int = 0) -> int:\n",
    "    if M == N:\n",
    "        return steps\n",
    "    elif M < N:\n",
    "        return steps + N - M\n",
    "    else:\n",
    "        return two_buttons(N, M // 2, steps + 1) if M % 2 == 0 else two_buttons(N, (M + 1) // 2, steps + 2)\n",
    "\n",
    "# Testing the solution\n",
    "assert two_buttons(7, 12) == 2\n",
    "assert two_buttons(9, 1) == 8\n",
    "assert two_buttons(1, 9) == 7"
   ]
  },
  {
   "cell_type": "code",
   "execution_count": 37,
   "id": "6c55d24b",
   "metadata": {
    "execution": {
     "iopub.execute_input": "2024-08-02T14:50:44.766747Z",
     "iopub.status.busy": "2024-08-02T14:50:44.766360Z",
     "iopub.status.idle": "2024-08-02T14:50:44.770785Z",
     "shell.execute_reply": "2024-08-02T14:50:44.770274Z"
    },
    "lines_to_next_cell": 1,
    "papermill": {
     "duration": 0.015614,
     "end_time": "2024-08-02T14:50:44.771812",
     "exception": false,
     "start_time": "2024-08-02T14:50:44.756198",
     "status": "completed"
    },
    "tags": []
   },
   "outputs": [],
   "source": [
    "def party(N: int, supervisor: list[int]) -> int:\n",
    "    # Convert edges into adjl\n",
    "    adjl: collections.defaultdict[int, list[int]] = collections.defaultdict(list)\n",
    "    for emp, boss in enumerate(supervisor, start=1):\n",
    "        adjl[boss].append(emp)\n",
    "\n",
    "    # Compute the max height\n",
    "    max_height = 0\n",
    "    stack: list[tuple[int, int]] = [(i, 1) for i in adjl[-1]]\n",
    "    while stack:\n",
    "        curr, height = stack.pop()\n",
    "        max_height = max(max_height, height)\n",
    "        for next_node in adjl[curr]:\n",
    "            stack.append((next_node, height + 1))\n",
    "\n",
    "    return max_height\n",
    "\n",
    "# Testing the solution\n",
    "assert party(5, [-1, 1, 2, 1, -1]) == 3"
   ]
  },
  {
   "cell_type": "code",
   "execution_count": 38,
   "id": "fc1e8098",
   "metadata": {
    "execution": {
     "iopub.execute_input": "2024-08-02T14:50:44.791733Z",
     "iopub.status.busy": "2024-08-02T14:50:44.791407Z",
     "iopub.status.idle": "2024-08-02T14:50:44.796983Z",
     "shell.execute_reply": "2024-08-02T14:50:44.796539Z"
    },
    "lines_to_next_cell": 1,
    "papermill": {
     "duration": 0.016741,
     "end_time": "2024-08-02T14:50:44.798057",
     "exception": false,
     "start_time": "2024-08-02T14:50:44.781316",
     "status": "completed"
    },
    "tags": []
   },
   "outputs": [],
   "source": [
    "def kefa_and_park(N: int, K: int, cats: list[int], edges: list[tuple[int, int]]) -> int:\n",
    "    # Convert edges into adjacency list\n",
    "    adjl: collections.defaultdict[int, list[int]] = collections.defaultdict(list)\n",
    "    for n1, n2 in edges:\n",
    "        adjl[n1].append(n2)\n",
    "        adjl[n2].append(n1)\n",
    "\n",
    "    # Do a DFS traversal until we reach the leaf node\n",
    "    # If along a path we have more than K consequtive cats, break\n",
    "    count = 0\n",
    "    stack: list[tuple[int, int, int]] = [(1, 0, 0)]\n",
    "    while stack:\n",
    "        curr, prev, cat_count = stack.pop()\n",
    "        is_leaf, safe_path = True, cats[curr - 1] + cat_count <= K\n",
    "        if safe_path:\n",
    "            for next_node in adjl[curr]:\n",
    "                if next_node != prev:\n",
    "                    is_leaf = False\n",
    "                    stack.append((next_node, curr, cat_count + 1 if cats[curr - 1] else 0))\n",
    "\n",
    "        count += int(is_leaf and safe_path)\n",
    "\n",
    "    return count\n",
    "\n",
    "# Testing the solution\n",
    "assert kefa_and_park(7, 1, [1,0,1,1,0,0,0], [(1,2), (1,3), (2,4), (2,5), (3,6), (3,7)]) == 2\n",
    "assert kefa_and_park(4, 1, [1,1,0,0], [(1,2), (1,3), (1,4)]) == 2"
   ]
  },
  {
   "cell_type": "code",
   "execution_count": 39,
   "id": "6854ca7d",
   "metadata": {
    "execution": {
     "iopub.execute_input": "2024-08-02T14:50:44.818133Z",
     "iopub.status.busy": "2024-08-02T14:50:44.817682Z",
     "iopub.status.idle": "2024-08-02T14:50:44.824287Z",
     "shell.execute_reply": "2024-08-02T14:50:44.823744Z"
    },
    "lines_to_next_cell": 1,
    "papermill": {
     "duration": 0.017919,
     "end_time": "2024-08-02T14:50:44.825430",
     "exception": false,
     "start_time": "2024-08-02T14:50:44.807511",
     "status": "completed"
    },
    "tags": []
   },
   "outputs": [],
   "source": [
    "def cyclic_components(N: int, E: int, edges: list[tuple[int, int]]) -> int:\n",
    "    \"\"\"\n",
    "    The take away: Component is a cycle iff all the vertices has degree of 2\n",
    "    \"\"\"\n",
    "\n",
    "    # Convert edges into adjl\n",
    "    adjl: collections.defaultdict[int, list[int]] = collections.defaultdict(list)\n",
    "    for n1, n2 in edges:\n",
    "        adjl[n1].append(n2)\n",
    "        adjl[n2].append(n1)\n",
    "\n",
    "    # Do a DFS traversal and color components, ensure all vertices have degree 2\n",
    "    color = cycles = 0\n",
    "    visited: set[int] = set()\n",
    "    for node in range(1, N + 1):\n",
    "        if node not in visited:\n",
    "            is_cyclic = True\n",
    "            stack: list[int] = [node]\n",
    "            while stack:\n",
    "                curr = stack.pop()\n",
    "                visited.add(curr)\n",
    "                is_cyclic = is_cyclic and len(adjl[curr]) == 2\n",
    "                for next_node in adjl[curr]:\n",
    "                    if next_node not in visited:\n",
    "                        stack.append(next_node)\n",
    "\n",
    "                        # Adding this one simple line improves runtime greatly\n",
    "                        # Until we visit that node itself, we would continue adding\n",
    "                        # that node into our stack that would greatly impact our overall runtime\n",
    "                        visited.add(next_node)\n",
    "\n",
    "            cycles += int(is_cyclic)\n",
    "\n",
    "    return cycles\n",
    "\n",
    "# Testing the solution\n",
    "assert cyclic_components(5, 4, [(1,2), (3,4), (5,4), (3,5)]) == 1\n",
    "assert cyclic_components(4, 4, [(1,2), (2,3), (1,3), (1,4)]) == 0\n",
    "assert cyclic_components(17, 15, [(1,8), (1,12), (5,11), (11,9), (9,15), (15,5), (4,13), (3,13), (4,3), (10,16), (7,10), (16,7), (14,3), (14,4), (17,6)]) == 2"
   ]
  },
  {
   "cell_type": "code",
   "execution_count": 40,
   "id": "74825cad",
   "metadata": {
    "execution": {
     "iopub.execute_input": "2024-08-02T14:50:44.845564Z",
     "iopub.status.busy": "2024-08-02T14:50:44.845182Z",
     "iopub.status.idle": "2024-08-02T14:50:44.851761Z",
     "shell.execute_reply": "2024-08-02T14:50:44.851234Z"
    },
    "lines_to_next_cell": 1,
    "papermill": {
     "duration": 0.017787,
     "end_time": "2024-08-02T14:50:44.852786",
     "exception": false,
     "start_time": "2024-08-02T14:50:44.834999",
     "status": "completed"
    },
    "tags": []
   },
   "outputs": [],
   "source": [
    "def graph_without_long_directed_paths(N: int, E: int, edges: list[tuple[int, int]]) -> str:\n",
    "    \"\"\"\n",
    "    The end graph must have nodes that all have either inward pointing or outward pointing.\n",
    "\n",
    "    We can color the nodes as inward pointing or outward pointing, ensure that when we\n",
    "    revist a node in a cycle the color is still valid.\n",
    "\n",
    "    Once colors are determined, go through the edges once again and compute the direction of the edge.\n",
    "    \"\"\"\n",
    "\n",
    "    # Convert edges into Adjl\n",
    "    adjl: collections.defaultdict[int, list[int]] = collections.defaultdict(list)\n",
    "    for n1, n2 in edges:\n",
    "        adjl[n1].append(n2)\n",
    "        adjl[n2].append(n1)\n",
    "\n",
    "    # DFS traversal to color nodes\n",
    "    colors: dict[int, int] = dict()\n",
    "    stack: list[tuple[int, bool]] = [(1, True)]\n",
    "    while stack:\n",
    "        curr, flag = stack.pop()\n",
    "        colors[curr] = flag\n",
    "        for next_node in adjl[curr]:\n",
    "            if next_node not in colors:\n",
    "                stack.append((next_node, not flag))\n",
    "                colors[next_node] = not flag\n",
    "            elif colors[next_node] == flag:\n",
    "                return ''\n",
    "\n",
    "    # Determine the direction of the edges\n",
    "    directions: list[str] = []\n",
    "    for n1, n2 in edges:\n",
    "        directions.append('0' if colors[n1] else '1')\n",
    "\n",
    "    return ''.join(directions)\n",
    "\n",
    "# Testing the solution\n",
    "assert graph_without_long_directed_paths(6, 5, [(1,5), (2,1), (1,4), (3,1), (6,1)]) in ('10100', '01011')\n",
    "assert graph_without_long_directed_paths(5, 5, [(1,2), (2,3), (3,4), (4,5), (5,1)]) == ''\n",
    "assert graph_without_long_directed_paths(4, 4, [(1,2), (2,3), (3,4), (4,1)]) in ('1010', '0101')"
   ]
  },
  {
   "cell_type": "markdown",
   "id": "b7f34172",
   "metadata": {
    "papermill": {
     "duration": 0.009447,
     "end_time": "2024-08-02T14:50:44.871828",
     "exception": false,
     "start_time": "2024-08-02T14:50:44.862381",
     "status": "completed"
    },
    "tags": []
   },
   "source": [
    "Matrix Exponentation"
   ]
  },
  {
   "cell_type": "code",
   "execution_count": 41,
   "id": "192edb88",
   "metadata": {
    "execution": {
     "iopub.execute_input": "2024-08-02T14:50:44.891643Z",
     "iopub.status.busy": "2024-08-02T14:50:44.891197Z",
     "iopub.status.idle": "2024-08-02T14:50:44.894532Z",
     "shell.execute_reply": "2024-08-02T14:50:44.894120Z"
    },
    "lines_to_next_cell": 1,
    "papermill": {
     "duration": 0.014372,
     "end_time": "2024-08-02T14:50:44.895560",
     "exception": false,
     "start_time": "2024-08-02T14:50:44.881188",
     "status": "completed"
    },
    "tags": []
   },
   "outputs": [],
   "source": [
    "def plant(N: int) -> int:\n",
    "    MOD = 10**9 + 7\n",
    "    factor = pow(2, N - 1, MOD)\n",
    "    return factor * (3 + 2 * (factor - 1))\n",
    "\n",
    "# Testing the solution\n",
    "assert plant(8) == 32896\n",
    "assert plant(2) == 10"
   ]
  },
  {
   "cell_type": "code",
   "execution_count": 42,
   "id": "8d7cdcf8",
   "metadata": {
    "execution": {
     "iopub.execute_input": "2024-08-02T14:50:44.915435Z",
     "iopub.status.busy": "2024-08-02T14:50:44.915238Z",
     "iopub.status.idle": "2024-08-02T14:50:44.919179Z",
     "shell.execute_reply": "2024-08-02T14:50:44.918723Z"
    },
    "lines_to_next_cell": 1,
    "papermill": {
     "duration": 0.015078,
     "end_time": "2024-08-02T14:50:44.920189",
     "exception": false,
     "start_time": "2024-08-02T14:50:44.905111",
     "status": "completed"
    },
    "tags": []
   },
   "outputs": [],
   "source": [
    "def magic_gems_dp(N: int, M: int) -> int:\n",
    "    MOD = 10**9 + 7\n",
    "    dp: collections.defaultdict[int, int] = collections.defaultdict(lambda: 0)\n",
    "    dp[0] = 1\n",
    "    for i in range(1, N + 1):\n",
    "        dp[i] = (dp[i - 1] + dp[i - M]) % MOD\n",
    "\n",
    "    return dp[N]\n",
    "\n",
    "# Testing the solution\n",
    "assert magic_gems_dp(4, 2) == 5\n",
    "assert magic_gems_dp(3, 2) == 3"
   ]
  },
  {
   "cell_type": "code",
   "execution_count": 43,
   "id": "f092c54a",
   "metadata": {
    "execution": {
     "iopub.execute_input": "2024-08-02T14:50:44.940097Z",
     "iopub.status.busy": "2024-08-02T14:50:44.939653Z",
     "iopub.status.idle": "2024-08-02T14:50:45.064500Z",
     "shell.execute_reply": "2024-08-02T14:50:45.064032Z"
    },
    "lines_to_next_cell": 1,
    "papermill": {
     "duration": 0.136127,
     "end_time": "2024-08-02T14:50:45.065848",
     "exception": false,
     "start_time": "2024-08-02T14:50:44.929721",
     "status": "completed"
    },
    "tags": []
   },
   "outputs": [],
   "source": [
    "def magic_gems_equation_solving(N: int, M: int) -> int:\n",
    "    def count_arrangements(x: int, y: int) -> int:\n",
    "        return math.factorial(x + y) // (math.factorial(x) * math.factorial(y))\n",
    "\n",
    "    MOD = 10**9 + 7\n",
    "    count = 0\n",
    "    for i in range(N // M + 1):\n",
    "        j = N - i * M\n",
    "        count = (count + count_arrangements(i, j)) % MOD\n",
    "\n",
    "    return count\n",
    "\n",
    "# Testing the solution\n",
    "for i in range(1, 100):\n",
    "    for j in range(2, 100):\n",
    "        assert magic_gems_dp(i, j) == magic_gems_equation_solving(i, j)"
   ]
  },
  {
   "cell_type": "code",
   "execution_count": 44,
   "id": "90dd8528",
   "metadata": {
    "execution": {
     "iopub.execute_input": "2024-08-02T14:50:45.086217Z",
     "iopub.status.busy": "2024-08-02T14:50:45.086035Z",
     "iopub.status.idle": "2024-08-02T14:50:45.307459Z",
     "shell.execute_reply": "2024-08-02T14:50:45.306967Z"
    },
    "lines_to_next_cell": 1,
    "papermill": {
     "duration": 0.233012,
     "end_time": "2024-08-02T14:50:45.308818",
     "exception": false,
     "start_time": "2024-08-02T14:50:45.075806",
     "status": "completed"
    },
    "tags": []
   },
   "outputs": [],
   "source": [
    "def magic_gems(N: int, M: int) -> int:\n",
    "    \"\"\"\n",
    "    Based on dp recurance relation: dp[n] = dp[n - 1] + dp[n - M].\n",
    "    This would take linear time complexity but can be optimized using matrix exponentation.\n",
    "\n",
    "    Transformation matrix T repr initial state, N >= M (since N < M the initial state is simply [1 .... ])\n",
    "    It can help us get from f(n) to f(n + 1)\n",
    "    T . f(n) => f(n + 1)\n",
    "\n",
    "    Starting at T = f(1), we can get to f(n) by doing T ** (N - M + 1)\n",
    "    T ** (N - M + 1) instead of N since we already started at point N >= M\n",
    "\n",
    "    Assume F(5, 3):\n",
    "        f(1) = T would repr F(3, 3)\n",
    "        f(2) = T . T = F(4, 3)\n",
    "        f(3) = T . T . T = F(5, 3)\n",
    "\n",
    "    Which is T ** (N - M + 1)\n",
    "    \"\"\"\n",
    "\n",
    "    def multiply_matrix(A: list[list[int]], B: list[list[int]], mod: int) -> list[list[int]]:\n",
    "        # (m x n) . (n x p) => (m x p)\n",
    "        assert len(A[0]) == len(B)\n",
    "        M, N, P = len(A), len(A[0]), len(B[0])\n",
    "        result: list[list[int]] = [[0 for j in range(P)] for i in range(M)]\n",
    "        for i in range(M):\n",
    "            for j in range(P):\n",
    "                for k in range(N):\n",
    "                    result[i][j] = (result[i][j] + A[i][k] * B[k][j]) % mod\n",
    "        return result\n",
    "\n",
    "    def power_of_matrix(base: list[list[int]], exp: int, mod):\n",
    "        size = len(base)\n",
    "        # Identity matrix\n",
    "        result: list[list[int]] = [[1 if i == j else 0 for j in range(size)] for i in range(size)]\n",
    "        # Power of matrix by squaring\n",
    "        while exp > 0:\n",
    "            if exp % 2 == 1:\n",
    "                result = multiply_matrix(result, base, mod)\n",
    "            base = multiply_matrix(base, base, mod)\n",
    "            exp //= 2\n",
    "        return result\n",
    "\n",
    "    MOD = 10**9 + 7\n",
    "\n",
    "    if N < M:\n",
    "        return 1\n",
    "\n",
    "    else:\n",
    "\n",
    "        # Setup transformation matrix\n",
    "        T = [[0 for j in range(M)] for i in range(M)]\n",
    "        T[0][0] = T[0][M - 1] = 1\n",
    "        for i in range(1, M):\n",
    "            T[i][i - 1] = 1\n",
    "\n",
    "        # Raise T to the power (N - M + 1)\n",
    "        result_matrix = power_of_matrix(T, N - M + 1, MOD)\n",
    "\n",
    "        # Return sum of T[0]\n",
    "        return sum(result_matrix[0][i] % MOD for i in range(M)) % MOD\n",
    "\n",
    "# Testing the solution\n",
    "for i in range(1, 25):\n",
    "    for j in range(2, 25):\n",
    "        assert magic_gems_dp(i, j) == magic_gems(i, j)"
   ]
  },
  {
   "cell_type": "markdown",
   "id": "0374c980",
   "metadata": {
    "papermill": {
     "duration": 0.009397,
     "end_time": "2024-08-02T14:50:45.328220",
     "exception": false,
     "start_time": "2024-08-02T14:50:45.318823",
     "status": "completed"
    },
    "tags": []
   },
   "source": [
    "LC Weekly - 28th July 2024"
   ]
  },
  {
   "cell_type": "code",
   "execution_count": 45,
   "id": "2d518d53",
   "metadata": {
    "execution": {
     "iopub.execute_input": "2024-08-02T14:50:45.348497Z",
     "iopub.status.busy": "2024-08-02T14:50:45.348207Z",
     "iopub.status.idle": "2024-08-02T14:50:45.351978Z",
     "shell.execute_reply": "2024-08-02T14:50:45.351532Z"
    },
    "lines_to_next_cell": 1,
    "papermill": {
     "duration": 0.015168,
     "end_time": "2024-08-02T14:50:45.353090",
     "exception": false,
     "start_time": "2024-08-02T14:50:45.337922",
     "status": "completed"
    },
    "tags": []
   },
   "outputs": [],
   "source": [
    "def canAliceWin(nums: list[int]) -> bool:\n",
    "    sds = dds = 0\n",
    "    for n in nums:\n",
    "        if n >= 10:\n",
    "            dds += n\n",
    "        else:\n",
    "            sds += n\n",
    "\n",
    "    return sds != dds\n",
    "\n",
    "# Testing the solution\n",
    "assert canAliceWin([1,2,3,4,10]) == False\n",
    "assert canAliceWin([1,2,3,4,5,14]) == True\n",
    "assert canAliceWin([5,5,5,25]) == True"
   ]
  },
  {
   "cell_type": "code",
   "execution_count": 46,
   "id": "7cbc3d41",
   "metadata": {
    "execution": {
     "iopub.execute_input": "2024-08-02T14:50:45.372974Z",
     "iopub.status.busy": "2024-08-02T14:50:45.372689Z",
     "iopub.status.idle": "2024-08-02T14:50:45.377366Z",
     "shell.execute_reply": "2024-08-02T14:50:45.376910Z"
    },
    "lines_to_next_cell": 1,
    "papermill": {
     "duration": 0.015882,
     "end_time": "2024-08-02T14:50:45.378413",
     "exception": false,
     "start_time": "2024-08-02T14:50:45.362531",
     "status": "completed"
    },
    "tags": []
   },
   "outputs": [],
   "source": [
    "def nonSpecialCount(L: int, R: int) -> int:\n",
    "    \"\"\"\n",
    "    A number is special iff it is a square of a prime number\n",
    "\n",
    "    1. Generate all primes till sqrt(R).\n",
    "    2. Iterate through list of primes if p * p is within L and R, we have one special number counted.\n",
    "    \"\"\"\n",
    "\n",
    "    def SOE(N: int) -> list[int]:\n",
    "        \"Generate list of primes using Seive of erastosthenes\"\n",
    "        primes: list[int] = [True for i in range(N + 1)]\n",
    "        primes[0] = primes[1] = False\n",
    "        for i in range(2, N + 1):\n",
    "            if primes[i]:\n",
    "                primes[2*i::i] = [False] * len(primes[2*i::i])\n",
    "        return [i for i in range(2, N + 1) if primes[i]]\n",
    "\n",
    "    primes = SOE(int(math.sqrt(R)))\n",
    "    special_count = 0\n",
    "    for p in primes:\n",
    "        if L <= p * p <= R:\n",
    "            special_count += 1\n",
    "\n",
    "    return R - L + 1 - special_count\n",
    "\n",
    "# Testing the solution\n",
    "assert nonSpecialCount(5, 7) == 3\n",
    "assert nonSpecialCount(4, 16) == 11"
   ]
  },
  {
   "cell_type": "markdown",
   "id": "682e8569",
   "metadata": {
    "papermill": {
     "duration": 0.009441,
     "end_time": "2024-08-02T14:50:45.397392",
     "exception": false,
     "start_time": "2024-08-02T14:50:45.387951",
     "status": "completed"
    },
    "tags": []
   },
   "source": [
    "CP Practice: Once again - 582B"
   ]
  },
  {
   "cell_type": "code",
   "execution_count": 47,
   "id": "bdd3663f",
   "metadata": {
    "execution": {
     "iopub.execute_input": "2024-08-02T14:50:45.417317Z",
     "iopub.status.busy": "2024-08-02T14:50:45.417089Z",
     "iopub.status.idle": "2024-08-02T14:50:45.421624Z",
     "shell.execute_reply": "2024-08-02T14:50:45.421166Z"
    },
    "lines_to_next_cell": 1,
    "papermill": {
     "duration": 0.015631,
     "end_time": "2024-08-02T14:50:45.422639",
     "exception": false,
     "start_time": "2024-08-02T14:50:45.407008",
     "status": "completed"
    },
    "tags": []
   },
   "outputs": [],
   "source": [
    "def LNDS(N: int, T: int, nums: list[int]) -> int:\n",
    "\n",
    "    # Store the maximum non decreasing subseq\n",
    "    subseq: list[int] = []\n",
    "\n",
    "    # Iterate N times or T times whichever is smaller\n",
    "    # Ensure the loop runs only once if t is large enough to\n",
    "    # make further processing redundant\n",
    "    while N and T:\n",
    "        initial: int = len(subseq)\n",
    "        for n in nums:\n",
    "            idx = bisect.bisect_right(subseq, n)\n",
    "            if idx == len(subseq):\n",
    "                subseq.append(n)\n",
    "            else:\n",
    "                subseq[idx] = n\n",
    "\n",
    "        # diff represents how much the LIS can potentially grow in one iteration.\n",
    "        diff = len(subseq) - initial\n",
    "\n",
    "        N, T = N - 1, T - 1\n",
    "\n",
    "    # length of the longest non-decreasing subsequence found after the first complet\n",
    "    # pass through the array, plus the additional length contributed by the repetitions\n",
    "    return len(subseq) + diff * T\n",
    "\n",
    "# Testing the solution\n",
    "assert LNDS(4, 3, [3,1,4,2]) == 5\n",
    "assert LNDS(3, 2, [1,2,3]) == 4\n",
    "assert LNDS(3, 2, [1,3,2]) == 3"
   ]
  },
  {
   "cell_type": "markdown",
   "id": "ad731b0f",
   "metadata": {
    "papermill": {
     "duration": 0.00945,
     "end_time": "2024-08-02T14:50:45.441507",
     "exception": false,
     "start_time": "2024-08-02T14:50:45.432057",
     "status": "completed"
    },
    "tags": []
   },
   "source": [
    "LC POTD: https://leetcode.com/problems/minimum-deletions-to-make-string-balanced"
   ]
  },
  {
   "cell_type": "code",
   "execution_count": 48,
   "id": "83d1e043",
   "metadata": {
    "execution": {
     "iopub.execute_input": "2024-08-02T14:50:45.461794Z",
     "iopub.status.busy": "2024-08-02T14:50:45.461570Z",
     "iopub.status.idle": "2024-08-02T14:50:45.467304Z",
     "shell.execute_reply": "2024-08-02T14:50:45.466787Z"
    },
    "lines_to_next_cell": 1,
    "papermill": {
     "duration": 0.017236,
     "end_time": "2024-08-02T14:50:45.468356",
     "exception": false,
     "start_time": "2024-08-02T14:50:45.451120",
     "status": "completed"
    },
    "tags": []
   },
   "outputs": [],
   "source": [
    "def minimumDeletions(s: str) -> int:\n",
    "    N = len(s)\n",
    "\n",
    "    # Count a's to the right of idx\n",
    "    count = 0\n",
    "    a_counts: list[int] = [0 for i in range(N)]\n",
    "    for i in range(N - 1, -1, -1):\n",
    "        a_counts[i] = count\n",
    "        if s[i] == 'a':\n",
    "            count += 1\n",
    "\n",
    "    # Count b's to the left of idx\n",
    "    count = 0\n",
    "    b_counts: list[int] = [0 for i in range(N)]\n",
    "    for i in range(N):\n",
    "        b_counts[i] = count\n",
    "        if s[i] == 'b':\n",
    "            count += 1\n",
    "\n",
    "    left, right = 0, N - 1\n",
    "    min_deletions, deletions = N, 0\n",
    "    while left <= right:\n",
    "        while left < right and s[left] == 'a':\n",
    "            left += 1\n",
    "        while left < right and s[right] == 'b':\n",
    "            right -= 1\n",
    "\n",
    "        min_deletions = min(min_deletions, deletions + a_counts[left] - deletions // 2, deletions + b_counts[right] - deletions // 2)\n",
    "        left, right, deletions = left + 1, right - 1, deletions + 2\n",
    "\n",
    "    return min_deletions\n",
    "\n",
    "# Testing the solution\n",
    "assert minimumDeletions(\"ababaaaabbbbbaaababbbbbbaaabbaababbabbbbaabbbbaabbabbabaabbbababaa\") == 25\n",
    "assert minimumDeletions(\"aababbab\") == 2\n",
    "assert minimumDeletions(\"bbaaaaabb\") == 2\n",
    "assert minimumDeletions(\"aabbb\") ==  minimumDeletions(\"aaaaa\") == minimumDeletions(\"bbb\") == 0\n",
    "assert minimumDeletions(\"a\") == 0"
   ]
  },
  {
   "cell_type": "markdown",
   "id": "af2f27cd",
   "metadata": {
    "papermill": {
     "duration": 0.009336,
     "end_time": "2024-08-02T14:50:45.487104",
     "exception": false,
     "start_time": "2024-08-02T14:50:45.477768",
     "status": "completed"
    },
    "tags": []
   },
   "source": [
    "Codeforces: Edu Round 168, Jul 30"
   ]
  },
  {
   "cell_type": "code",
   "execution_count": 49,
   "id": "c25048ca",
   "metadata": {
    "execution": {
     "iopub.execute_input": "2024-08-02T14:50:45.506827Z",
     "iopub.status.busy": "2024-08-02T14:50:45.506545Z",
     "iopub.status.idle": "2024-08-02T14:50:45.510388Z",
     "shell.execute_reply": "2024-08-02T14:50:45.509940Z"
    },
    "lines_to_next_cell": 1,
    "papermill": {
     "duration": 0.014866,
     "end_time": "2024-08-02T14:50:45.511407",
     "exception": false,
     "start_time": "2024-08-02T14:50:45.496541",
     "status": "completed"
    },
    "tags": []
   },
   "outputs": [],
   "source": [
    "def strong_password(s: str) -> str:\n",
    "    password: list[str] = []\n",
    "    replaced = False\n",
    "    for ch in s:\n",
    "        if password and password[-1] == ch and not replaced:\n",
    "            password.append('a' if ch != 'a' else 'b')\n",
    "            replaced = True\n",
    "        password.append(ch)\n",
    "\n",
    "    if not replaced:\n",
    "        password.append('a' if password[-1] != 'a' else 'b')\n",
    "\n",
    "    return ''.join(password)\n",
    "\n",
    "# Testing the solution\n",
    "assert strong_password(\"a\") == \"ab\"\n",
    "assert strong_password(\"aa\") == \"aba\"\n",
    "assert strong_password(\"passw\") == \"pasasw\"\n",
    "assert strong_password(\"aba\") == \"abab\""
   ]
  },
  {
   "cell_type": "code",
   "execution_count": 50,
   "id": "95566824",
   "metadata": {
    "execution": {
     "iopub.execute_input": "2024-08-02T14:50:45.531328Z",
     "iopub.status.busy": "2024-08-02T14:50:45.530979Z",
     "iopub.status.idle": "2024-08-02T14:50:45.535267Z",
     "shell.execute_reply": "2024-08-02T14:50:45.534758Z"
    },
    "lines_to_next_cell": 1,
    "papermill": {
     "duration": 0.015348,
     "end_time": "2024-08-02T14:50:45.536280",
     "exception": false,
     "start_time": "2024-08-02T14:50:45.520932",
     "status": "completed"
    },
    "tags": []
   },
   "outputs": [],
   "source": [
    "def make_three_regions(N: int, grid: list[str]) -> int:\n",
    "    counts = 0\n",
    "    for i in range(1, N - 1):\n",
    "        # Count for pattern in 1st row\n",
    "        if grid[0][i - 1: i + 2] == \"...\" and grid[1][i - 1: i + 2] == \"x.x\":\n",
    "            counts += 1\n",
    "        # Count for pattern in 2nd row\n",
    "        if grid[1][i - 1: i + 2] == \"...\" and grid[0][i - 1: i + 2] == \"x.x\":\n",
    "            counts += 1\n",
    "\n",
    "    return counts\n",
    "\n",
    "# Testing the solution\n",
    "assert make_three_regions(8, [\".......x\", \".x.xx...\"]) == 1\n",
    "assert make_three_regions(2, [\"..\", \"..\"]) == 0\n",
    "assert make_three_regions(3, [\"xxx\", \"xxx\"]) == 0\n",
    "assert make_three_regions(9, [\"..x.x.x.x\", \"x.......x\"]) == 2"
   ]
  },
  {
   "cell_type": "code",
   "execution_count": 51,
   "id": "0d5eb0db",
   "metadata": {
    "execution": {
     "iopub.execute_input": "2024-08-02T14:50:45.556106Z",
     "iopub.status.busy": "2024-08-02T14:50:45.555761Z",
     "iopub.status.idle": "2024-08-02T14:50:45.559639Z",
     "shell.execute_reply": "2024-08-02T14:50:45.559202Z"
    },
    "lines_to_next_cell": 1,
    "papermill": {
     "duration": 0.01495,
     "end_time": "2024-08-02T14:50:45.560674",
     "exception": false,
     "start_time": "2024-08-02T14:50:45.545724",
     "status": "completed"
    },
    "tags": []
   },
   "outputs": [],
   "source": [
    "def even_positions(n: int, brackets: str) -> int:\n",
    "    \"Greedy Approach\"\n",
    "    cost = 0\n",
    "    stack: list[int] = []\n",
    "    for i in range(n):\n",
    "        if brackets[i] == '(':\n",
    "            stack.append(i)\n",
    "        elif brackets[i] == ')' or stack:\n",
    "            cost += i - stack.pop()\n",
    "        else:\n",
    "            stack.append(i)\n",
    "\n",
    "    return cost\n",
    "\n",
    "# Testing the solution\n",
    "assert even_positions(6, \"_(_)_)\") == 5\n",
    "assert even_positions(2, \"_)\") == 1\n",
    "assert even_positions(8, \"_)_)_)_)\") == 4\n",
    "assert even_positions(8, \"_(_)_(_)\") == 8"
   ]
  },
  {
   "cell_type": "markdown",
   "id": "0de2c3b2",
   "metadata": {
    "papermill": {
     "duration": 0.009598,
     "end_time": "2024-08-02T14:50:45.579915",
     "exception": false,
     "start_time": "2024-08-02T14:50:45.570317",
     "status": "completed"
    },
    "tags": []
   },
   "source": [
    "#### Upsolving codeforces contest from yesterday"
   ]
  },
  {
   "cell_type": "code",
   "execution_count": 52,
   "id": "9276ea18",
   "metadata": {
    "execution": {
     "iopub.execute_input": "2024-08-02T14:50:45.599938Z",
     "iopub.status.busy": "2024-08-02T14:50:45.599468Z",
     "iopub.status.idle": "2024-08-02T14:50:45.605774Z",
     "shell.execute_reply": "2024-08-02T14:50:45.605307Z"
    },
    "lines_to_next_cell": 1,
    "papermill": {
     "duration": 0.017616,
     "end_time": "2024-08-02T14:50:45.606823",
     "exception": false,
     "start_time": "2024-08-02T14:50:45.589207",
     "status": "completed"
    },
    "tags": []
   },
   "outputs": [],
   "source": [
    "def maximize_root_better(N: int, values: list[int], parents: list[int]) -> int:\n",
    "    \"\"\"\n",
    "    Let us do a binary search.\n",
    "\n",
    "    Check if we can add delta of Min - 0, Maximum - max(values).\n",
    "\n",
    "    We can add delta to a node if all subtrees can provide the value of delta. If for any\n",
    "    node the value is lesser than delta, it could still be possible as long as its\n",
    "    children have value equal to delta + delta_diff.\n",
    "    Accumulate delta_diff until leaf node.\n",
    "\n",
    "    Time: O (N log N) - TLE in python\n",
    "    \"\"\"\n",
    "    def is_valid(target: int) -> bool:\n",
    "        if target <= values[0]:\n",
    "            return True\n",
    "        elif not adjl[0]:\n",
    "            return False\n",
    "        else:\n",
    "            stack: list[tuple[int, int]] = [(i, target - values[0]) for i in adjl[0]]\n",
    "            while stack:\n",
    "                curr, curr_target = stack.pop()\n",
    "                if not adjl[curr] and curr_target > values[curr]:\n",
    "                    return False\n",
    "                else:\n",
    "                    diff = max(curr_target - values[curr], 0)\n",
    "                    for next_node in adjl[curr]:\n",
    "                        stack.append((next_node, target + diff))\n",
    "            return True\n",
    "\n",
    "    # Create the tree\n",
    "    adjl: collections.defaultdict[int, list[int]] = collections.defaultdict(list)\n",
    "    for node, parent in enumerate(parents, start=1):\n",
    "        adjl[parent - 1].append(node)\n",
    "\n",
    "    # Do a binary search\n",
    "    low, high = values[0], values[0] + max(values)\n",
    "    while low <= high:\n",
    "        mid = (low + high) // 2\n",
    "        if is_valid(mid):\n",
    "            low = mid + 1\n",
    "        else:\n",
    "            high = mid - 1\n",
    "\n",
    "    return high\n",
    "\n",
    "# Testing the solution\n",
    "assert maximize_root_better(5, [2,5,3,9,6], [3,1,5,2]) == 6\n",
    "assert maximize_root_better(4, [0,1,0,2], [1,1,3]) == 1\n",
    "assert maximize_root_better(2, [3], [0]) == 3"
   ]
  },
  {
   "cell_type": "code",
   "execution_count": 53,
   "id": "ea6f332e",
   "metadata": {
    "execution": {
     "iopub.execute_input": "2024-08-02T14:50:45.626673Z",
     "iopub.status.busy": "2024-08-02T14:50:45.626399Z",
     "iopub.status.idle": "2024-08-02T14:50:45.631939Z",
     "shell.execute_reply": "2024-08-02T14:50:45.631518Z"
    },
    "lines_to_next_cell": 1,
    "papermill": {
     "duration": 0.016704,
     "end_time": "2024-08-02T14:50:45.632984",
     "exception": false,
     "start_time": "2024-08-02T14:50:45.616280",
     "status": "completed"
    },
    "tags": []
   },
   "outputs": [],
   "source": [
    "def maximize_root(N: int, values: list[int], parents: list[int]) -> int:\n",
    "    # Convert parents to adj list\n",
    "    adjl: collections.defaultdict[int, list[int]] = collections.defaultdict(list)\n",
    "    for node, parent in enumerate(parents, start=1):\n",
    "        adjl[parent - 1].append(node)\n",
    "\n",
    "    # Do a BFS traversal to get the leaf nodes first, granted that the leaf\n",
    "    # nodes might be visited later in time when we start poping,\n",
    "    # neverthless if a node had a child, the child would be popped first\n",
    "    queue: collections.deque[int] = collections.deque([0])\n",
    "    order: list[int] = []\n",
    "    while queue:\n",
    "        curr = queue.popleft()\n",
    "        order.append(curr)\n",
    "        for next_node in adjl[curr]:\n",
    "            queue.append(next_node)\n",
    "\n",
    "    # Traverse in reverse BFS order and calculate the maximum value it can have as a root\n",
    "    dp: dict[int, int] = dict()\n",
    "    while order:\n",
    "        curr = order.pop()\n",
    "        if not adjl[curr]:\n",
    "            dp[curr] = values[curr]\n",
    "        else:\n",
    "            min_ = min(dp[next_node] for next_node in adjl[curr])\n",
    "            dp[curr] = min(min_, (min_ + values[curr]) // 2)\n",
    "\n",
    "    # Find the maximum value that root node can have\n",
    "    return values[0] + (min(dp[next_node] for next_node in adjl[0]) if adjl[0] else 0)\n",
    "\n",
    "# Testing the solution\n",
    "assert maximize_root(4, [0,1,0,2], [1,1,3]) == 1\n",
    "assert maximize_root(5, [2,5,3,9,6], [3,1,5,2]) == 6\n",
    "assert maximize_root(2, [3], [0]) == 3"
   ]
  },
  {
   "cell_type": "code",
   "execution_count": 54,
   "id": "8a025e10",
   "metadata": {
    "execution": {
     "iopub.execute_input": "2024-08-02T14:50:45.652820Z",
     "iopub.status.busy": "2024-08-02T14:50:45.652608Z",
     "iopub.status.idle": "2024-08-02T14:50:45.657151Z",
     "shell.execute_reply": "2024-08-02T14:50:45.656701Z"
    },
    "lines_to_next_cell": 1,
    "papermill": {
     "duration": 0.01572,
     "end_time": "2024-08-02T14:50:45.658219",
     "exception": false,
     "start_time": "2024-08-02T14:50:45.642499",
     "status": "completed"
    },
    "tags": []
   },
   "outputs": [],
   "source": [
    "def decoding_genome_memo_brute(N: int, M: int, k: int, forbidden: set[str]) -> int:\n",
    "    @functools.cache\n",
    "    def backtrack(curr_ord: int, remaining: int) -> int:\n",
    "        if remaining == 0:\n",
    "            return 1\n",
    "        else:\n",
    "            counts = 0\n",
    "            for i in range(M):\n",
    "                if curr_ord == -1 or chr(ord('a') + curr_ord) + chr(ord('a') + i) not in forbidden:\n",
    "                    counts += backtrack(i, remaining - 1)\n",
    "            return counts\n",
    "\n",
    "    return backtrack(-1, N)\n",
    "\n",
    "# Testing the solution\n",
    "assert decoding_genome_memo_brute(3, 3, 2,  {\"ab\", \"ba\"}) == 17\n",
    "assert decoding_genome_memo_brute(3, 3, 0, set()) == 27\n",
    "assert decoding_genome_memo_brute(2, 1, 1, {\"aa\"}) == 0"
   ]
  },
  {
   "cell_type": "code",
   "execution_count": 55,
   "id": "71dfb132",
   "metadata": {
    "execution": {
     "iopub.execute_input": "2024-08-02T14:50:45.678186Z",
     "iopub.status.busy": "2024-08-02T14:50:45.677999Z",
     "iopub.status.idle": "2024-08-02T14:50:45.682647Z",
     "shell.execute_reply": "2024-08-02T14:50:45.682212Z"
    },
    "lines_to_next_cell": 1,
    "papermill": {
     "duration": 0.015964,
     "end_time": "2024-08-02T14:50:45.683661",
     "exception": false,
     "start_time": "2024-08-02T14:50:45.667697",
     "status": "completed"
    },
    "tags": []
   },
   "outputs": [],
   "source": [
    "def decoding_genome_brute(N: int, M: int, k: int, forbidden: set[str]) -> int:\n",
    "    \"Time: O(N * M * M), Space: O(M)\"\n",
    "    dp: list[int] = [1 for i in range(-1, M)]\n",
    "    for remaining in range(1, N + 1):\n",
    "        next_dp: list[int] = [0 for i in range(-1, M)]\n",
    "        for curr_ord in range(M - 1, -2, -1):\n",
    "            for next_ord in range(M):\n",
    "                if curr_ord == -1 or chr(ord('a') + curr_ord) + chr(ord('a') + next_ord) not in forbidden:\n",
    "                    next_dp[curr_ord + 1] += dp[next_ord + 1]\n",
    "        dp = next_dp\n",
    "\n",
    "    return dp[0]\n",
    "\n",
    "# Testing the solution\n",
    "assert decoding_genome_brute(3, 3, 2,  {\"ab\", \"ba\"}) == 17\n",
    "assert decoding_genome_brute(3, 3, 0, set()) == 27\n",
    "assert decoding_genome_brute(2, 1, 1, {\"aa\"}) == 0"
   ]
  },
  {
   "cell_type": "code",
   "execution_count": 56,
   "id": "3eed8cc7",
   "metadata": {
    "execution": {
     "iopub.execute_input": "2024-08-02T14:50:45.703774Z",
     "iopub.status.busy": "2024-08-02T14:50:45.703570Z",
     "iopub.status.idle": "2024-08-02T14:50:45.712014Z",
     "shell.execute_reply": "2024-08-02T14:50:45.711593Z"
    },
    "lines_to_next_cell": 1,
    "papermill": {
     "duration": 0.0198,
     "end_time": "2024-08-02T14:50:45.713052",
     "exception": false,
     "start_time": "2024-08-02T14:50:45.693252",
     "status": "completed"
    },
    "tags": []
   },
   "outputs": [],
   "source": [
    "def decoding_genome(N: int, M: int, k: int, forbidden: set[str]) -> int:\n",
    "    def ch2int(ch: str) -> int:\n",
    "        ord_ = ord(ch)\n",
    "        if ord('a') <= ord_ <= ord('z'):\n",
    "            return ord_ - ord('a')\n",
    "        else:\n",
    "            return ord_ - ord('A') + 26\n",
    "\n",
    "    def matrix_multiply(A: list[list[int]], B: list[list[int]], mod: int) -> list[list[int]]:\n",
    "        # (M x N) . (P x Q) => (M x Q)\n",
    "        M, N, P, Q = len(A), len(A[0]), len(B), len(B[0])\n",
    "        assert N == P, f\"Matrices of invalid dimensions provided, got: {(M, N), (P, Q)}\"\n",
    "        result: list[list[int]] = [[0 for j in range(Q)] for i in range(M)]\n",
    "\n",
    "        for i in range(M):\n",
    "            for j in range(Q):\n",
    "                for k in range(N):\n",
    "                    result[i][j] = (result[i][j] + A[i][k] * B[k][j]) % mod\n",
    "\n",
    "        return result\n",
    "\n",
    "    def matrix_power(base: list[list[int]], power: int, mod: int) -> list[list[int]]:\n",
    "        N = len(matrix)\n",
    "        result: list[list[int]] = [[1 if i == j else 0 for j in range(N)] for i in range(N)]\n",
    "\n",
    "        while power:\n",
    "            if power & 1:\n",
    "                result = matrix_multiply(result, base, mod)\n",
    "            base = matrix_multiply(base, base, mod)\n",
    "            power >>= 1\n",
    "\n",
    "        return result\n",
    "\n",
    "    # We need answer modulo 1e9 + 7\n",
    "    MOD = 10**9 + 7\n",
    "\n",
    "    # Get the transition matrix\n",
    "    matrix: list[list[int]] = [[1 for j in range(M)] for i in range(M)]\n",
    "    for pair in forbidden:\n",
    "        ord1, ord2 = ch2int(pair[0]), ch2int(pair[1])\n",
    "        matrix[ord1][ord2] = 0\n",
    "\n",
    "    # Raise tran matrix to power N - 1\n",
    "    result_matrix = matrix_power(matrix, N - 1, MOD)\n",
    "\n",
    "    # Result is sum of all cells\n",
    "    return sum(sum(row) % MOD for row in result_matrix) % MOD\n",
    "\n",
    "# Testing the solution\n",
    "assert decoding_genome(3, 3, 2,  {\"ab\", \"ba\"}) == 17\n",
    "assert decoding_genome(3, 3, 0, set()) == 27\n",
    "assert decoding_genome(2, 1, 1, {\"aa\"}) == 0"
   ]
  },
  {
   "cell_type": "code",
   "execution_count": 57,
   "id": "e494e8ed",
   "metadata": {
    "execution": {
     "iopub.execute_input": "2024-08-02T14:50:45.733353Z",
     "iopub.status.busy": "2024-08-02T14:50:45.732879Z",
     "iopub.status.idle": "2024-08-02T14:50:45.737038Z",
     "shell.execute_reply": "2024-08-02T14:50:45.736595Z"
    },
    "lines_to_next_cell": 1,
    "papermill": {
     "duration": 0.015374,
     "end_time": "2024-08-02T14:50:45.738050",
     "exception": false,
     "start_time": "2024-08-02T14:50:45.722676",
     "status": "completed"
    },
    "tags": []
   },
   "outputs": [],
   "source": [
    "def random_mood(N: int, P: float) -> float:\n",
    "    switch, no_switch = P, 1 - P\n",
    "    happy, sad = 1., 0.\n",
    "    while N:\n",
    "        if N & 1:\n",
    "            happy, sad = (happy * no_switch + sad * switch), (happy * switch + sad * no_switch)\n",
    "        switch, no_switch = switch * no_switch + no_switch * switch, switch * switch + no_switch * no_switch\n",
    "        N >>= 1\n",
    "\n",
    "    return happy\n",
    "\n",
    "# Testing the solution\n",
    "assert math.isclose(random_mood(11, 0.06), 0.6225404294, abs_tol=1e-6)\n",
    "assert math.isclose(random_mood(2, 0.1), 0.82, abs_tol=1e-6)\n",
    "assert math.isclose(random_mood(1, 0.7), 0.3, abs_tol=1e-6)"
   ]
  },
  {
   "cell_type": "code",
   "execution_count": 58,
   "id": "fd21680c",
   "metadata": {
    "execution": {
     "iopub.execute_input": "2024-08-02T14:50:45.764212Z",
     "iopub.status.busy": "2024-08-02T14:50:45.763997Z",
     "iopub.status.idle": "2024-08-02T14:50:45.770009Z",
     "shell.execute_reply": "2024-08-02T14:50:45.769366Z"
    },
    "lines_to_next_cell": 1,
    "papermill": {
     "duration": 0.020766,
     "end_time": "2024-08-02T14:50:45.771036",
     "exception": false,
     "start_time": "2024-08-02T14:50:45.750270",
     "status": "completed"
    },
    "tags": []
   },
   "outputs": [],
   "source": [
    "def string_mood_brute(N: int) -> int:\n",
    "    MOD = 10 ** 9 + 7\n",
    "    sad, happy = 0, 1\n",
    "    for length in range(N):\n",
    "        sad_, happy_ = 0, 0\n",
    "        for ord_ in range(26):\n",
    "            ch = chr(ord('A') + ord_)\n",
    "            if ch == 'H':\n",
    "                sad_ = (sad_ + happy) % MOD\n",
    "                happy_ = (happy_ + happy) % MOD\n",
    "            elif ch in ('S', 'D'):\n",
    "                sad_ = (sad_ + sad) % MOD\n",
    "                happy_ = (happy_ + sad) % MOD\n",
    "            elif ch in ('A', 'E', 'I', 'O', 'U'):\n",
    "                sad_ = (sad_ + happy) % MOD\n",
    "                happy_ = (happy_ + sad) % MOD\n",
    "            else:\n",
    "                sad_ = (sad_ + sad) % MOD\n",
    "                happy_ = (happy_ + happy) % MOD\n",
    "        sad, happy = sad_, happy_\n",
    "\n",
    "    return happy\n",
    "\n",
    "# Testing the solution\n",
    "assert string_mood_brute(1) == 19\n",
    "assert string_mood_brute(2) == 403\n",
    "assert string_mood_brute(11) == 145418665"
   ]
  },
  {
   "cell_type": "code",
   "execution_count": 59,
   "id": "4eab6e22",
   "metadata": {
    "execution": {
     "iopub.execute_input": "2024-08-02T14:50:45.791213Z",
     "iopub.status.busy": "2024-08-02T14:50:45.790760Z",
     "iopub.status.idle": "2024-08-02T14:50:45.794466Z",
     "shell.execute_reply": "2024-08-02T14:50:45.794054Z"
    },
    "lines_to_next_cell": 1,
    "papermill": {
     "duration": 0.014912,
     "end_time": "2024-08-02T14:50:45.795505",
     "exception": false,
     "start_time": "2024-08-02T14:50:45.780593",
     "status": "completed"
    },
    "tags": []
   },
   "outputs": [],
   "source": [
    "def string_mood_better(N: int) -> int:\n",
    "    MOD = 10 ** 9 + 7\n",
    "\n",
    "    sad, happy = 0, 1\n",
    "    for length in range(N):\n",
    "        sad_ = (6 * happy) + (20 * sad)\n",
    "        happy_ = (7 * sad) + (19 * happy)\n",
    "        sad, happy = sad_, happy_\n",
    "\n",
    "    return happy % MOD\n",
    "\n",
    "# Testing the solution\n",
    "assert string_mood_better(1) == 19\n",
    "assert string_mood_better(2) == 403\n",
    "assert string_mood_better(11) == 145418665"
   ]
  },
  {
   "cell_type": "code",
   "execution_count": 60,
   "id": "68f2affb",
   "metadata": {
    "execution": {
     "iopub.execute_input": "2024-08-02T14:50:45.815768Z",
     "iopub.status.busy": "2024-08-02T14:50:45.815430Z",
     "iopub.status.idle": "2024-08-02T14:50:45.821992Z",
     "shell.execute_reply": "2024-08-02T14:50:45.821524Z"
    },
    "lines_to_next_cell": 1,
    "papermill": {
     "duration": 0.017789,
     "end_time": "2024-08-02T14:50:45.823044",
     "exception": false,
     "start_time": "2024-08-02T14:50:45.805255",
     "status": "completed"
    },
    "tags": []
   },
   "outputs": [],
   "source": [
    "def string_mood(N: int) -> int:\n",
    "    def matrix_multiply(A: list[list[int]], B: list[list[int]], mod: int) -> list[list[int]]:\n",
    "        M, N, P, Q = len(A), len(A[0]), len(B), len(B[0])\n",
    "        assert N == P, \"Matrix dimensions are incorrect\"\n",
    "        result: list[list[int]] = [[0 for j in range(Q)] for i in range(M)]\n",
    "        for i in range(M):\n",
    "            for j in range(Q):\n",
    "                for k in range(N):\n",
    "                    result[i][j] = (result[i][j] + A[i][k] * B[k][j]) % mod\n",
    "\n",
    "        return result\n",
    "\n",
    "    def matrix_power(base: list[list[int]], exp: int, mod: int) -> list[list[int]]:\n",
    "        N = len(base)\n",
    "        result: list[list[int]] = [[1 if i == j else 0 for j in range(N)] for i in range(N)]\n",
    "        while exp:\n",
    "            if exp & 1:\n",
    "                result = matrix_multiply(result, base, mod)\n",
    "            base = matrix_multiply(base, base, mod)\n",
    "            exp >>= 1\n",
    "\n",
    "        return result\n",
    "\n",
    "    # Sad, Happy\n",
    "    base: list[list[int]] = [[20, 6], [7, 19]]\n",
    "    result: list[list[int]] = matrix_power(base, N, 10 ** 9 + 7)\n",
    "\n",
    "    return result[1][1]\n",
    "\n",
    "# Testing the solution\n",
    "assert string_mood(1) == 19\n",
    "assert string_mood(2) == 403\n",
    "assert string_mood(11) == 145418665"
   ]
  },
  {
   "cell_type": "code",
   "execution_count": 61,
   "id": "9ea9acb3",
   "metadata": {
    "execution": {
     "iopub.execute_input": "2024-08-02T14:50:45.843058Z",
     "iopub.status.busy": "2024-08-02T14:50:45.842895Z",
     "iopub.status.idle": "2024-08-02T14:50:45.850707Z",
     "shell.execute_reply": "2024-08-02T14:50:45.850264Z"
    },
    "papermill": {
     "duration": 0.019096,
     "end_time": "2024-08-02T14:50:45.851748",
     "exception": false,
     "start_time": "2024-08-02T14:50:45.832652",
     "status": "completed"
    },
    "tags": []
   },
   "outputs": [],
   "source": [
    "def fibo(N: int) -> int:\n",
    "    def matrix_multiply(A: list[list[int]], B: list[list[int]], mod: int) -> list[list[int]]:\n",
    "        M, N, P, Q = len(A), len(A[0]), len(B), len(B[0])\n",
    "        assert N == P, \"matrix dimensions are incorrect\"\n",
    "        result: list[list[int]] = [[0 for j in range(Q)] for i in range(M)]\n",
    "        for i in range(M):\n",
    "            for j in range(Q):\n",
    "                for k in range(N):\n",
    "                    result[i][j] = (result[i][j] + A[i][k] * B[k][j]) % mod\n",
    "\n",
    "        return result\n",
    "\n",
    "    def matrix_exp(base: list[list[int]], exp: int, mod: int) -> list[list[int]]:\n",
    "        N = len(base)\n",
    "        result: list[list[int]] = [[1 if i == j else 0 for j in range(N)] for i in range(N)]\n",
    "        while exp:\n",
    "            if exp & 1:\n",
    "                result = matrix_multiply(result, base, mod)\n",
    "            base = matrix_multiply(base, base, mod)\n",
    "            exp >>= 1\n",
    "\n",
    "        return result\n",
    "\n",
    "    base: list[list[int]] = [[0, 1], [1, 1]]\n",
    "    result: list[list[int]] = matrix_exp(base, N, 998244353)\n",
    "    return result[1][0]\n",
    "\n",
    "# Testing the solution\n",
    "assert fibo(0) == 0\n",
    "assert fibo(1234) == 4936310\n",
    "assert fibo(345639696828452375) == 213237811\n",
    "assert fibo(419384601238473729475639183948326177846782649592628790267300203877) == 389871463"
   ]
  }
 ],
 "metadata": {
  "kernelspec": {
   "display_name": "Python 3 (ipykernel)",
   "language": "python",
   "name": "python3"
  },
  "language_info": {
   "codemirror_mode": {
    "name": "ipython",
    "version": 3
   },
   "file_extension": ".py",
   "mimetype": "text/x-python",
   "name": "python",
   "nbconvert_exporter": "python",
   "pygments_lexer": "ipython3",
   "version": "3.11.9"
  },
  "papermill": {
   "default_parameters": {},
   "duration": 3.902275,
   "end_time": "2024-08-02T14:50:46.077880",
   "environment_variables": {},
   "exception": null,
   "input_path": "practice/006.ipynb",
   "output_path": "practice/006.ipynb",
   "parameters": {},
   "start_time": "2024-08-02T14:50:42.175605",
   "version": "2.6.0"
  }
 },
 "nbformat": 4,
 "nbformat_minor": 5
}