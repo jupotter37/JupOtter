{
 "cells": [
  {
   "cell_type": "markdown",
   "metadata": {},
   "source": [
    "# Python DS Tutorial\n",
    "\n",
    "Example from https://dbader.org/blog/ and https://runestone.academy/runestone/books/published/pythonds/index.html"
   ]
  },
  {
   "cell_type": "markdown",
   "metadata": {},
   "source": [
    "## 1. DICT"
   ]
  },
  {
   "cell_type": "code",
   "execution_count": 12,
   "metadata": {},
   "outputs": [
    {
     "name": "stdout",
     "output_type": "stream",
     "text": [
      "{'bob': 7387, 'alice': 3719, 'jack': 7052}\n",
      "{0: 0, 1: 1, 2: 4, 3: 9, 4: 16, 5: 25, 6: 36, 7: 49, 8: 64, 9: 81}\n",
      "{0: 0, 1: 1, 2: 4, 3: 9, 4: 16, 5: 25, 6: 36, 7: 49, 8: 64, 9: 81, -2: 4}\n"
     ]
    }
   ],
   "source": [
    "phonebook = {\n",
    "    'bob': 7387,\n",
    "    'alice': 3719,\n",
    "    'jack': 7052,\n",
    "}\n",
    "\n",
    "print(phonebook)\n",
    "\n",
    "squares = {x: x * x for x in range(10)}\n",
    "\n",
    "print(squares)\n",
    "\n",
    "squares[-2]= 4\n",
    "\n",
    "print(squares)"
   ]
  },
  {
   "cell_type": "markdown",
   "metadata": {},
   "source": [
    "## 2. ORDERED DICT\n",
    "\n",
    "\n",
    "order of keys are important\n"
   ]
  },
  {
   "cell_type": "code",
   "execution_count": 10,
   "metadata": {},
   "outputs": [
    {
     "name": "stdout",
     "output_type": "stream",
     "text": [
      "OrderedDict([('one', 1), ('two', 2), ('three', 3)])\n"
     ]
    }
   ],
   "source": [
    "import collections\n",
    "d = collections.OrderedDict(one=1, two=2, three=3)\n",
    "print(d)\n",
    "d['five']=5"
   ]
  },
  {
   "cell_type": "code",
   "execution_count": 7,
   "metadata": {},
   "outputs": [
    {
     "data": {
      "text/plain": [
       "OrderedDict([('one', 1), ('two', 2), ('three', 3), ('five', 5)])"
      ]
     },
     "execution_count": 7,
     "metadata": {},
     "output_type": "execute_result"
    }
   ],
   "source": [
    "d"
   ]
  },
  {
   "cell_type": "code",
   "execution_count": 9,
   "metadata": {},
   "outputs": [
    {
     "name": "stdout",
     "output_type": "stream",
     "text": [
      "OrderedDict([('one', 1), ('two', 2), ('three', 3), ('five', 5), ('zero', 0)])\n"
     ]
    }
   ],
   "source": [
    "d['zero']=0\n",
    "print(d)"
   ]
  },
  {
   "cell_type": "markdown",
   "metadata": {},
   "source": [
    "# Default DICT\n",
    "\n",
    "returns a default value if key is not found.\n",
    "\n"
   ]
  },
  {
   "cell_type": "code",
   "execution_count": 20,
   "metadata": {},
   "outputs": [
    {
     "name": "stdout",
     "output_type": "stream",
     "text": [
      "defaultdict(<class 'int'>, {'one': 1, 'two': 2, 'three': 3})\n",
      "0\n"
     ]
    }
   ],
   "source": [
    "from collections import defaultdict\n",
    "dd = defaultdict(int,one=1, two=2, three=3)\n",
    "print(dd)\n",
    "print(dd['four'])"
   ]
  },
  {
   "cell_type": "markdown",
   "metadata": {},
   "source": [
    "# SET \n",
    "\n",
    "only stores unique items"
   ]
  },
  {
   "cell_type": "code",
   "execution_count": 21,
   "metadata": {},
   "outputs": [
    {
     "data": {
      "text/plain": [
       "True"
      ]
     },
     "execution_count": 21,
     "metadata": {},
     "output_type": "execute_result"
    }
   ],
   "source": [
    "vowels = {'a', 'e', 'i', 'o', 'u'}\n",
    "'e' in vowels"
   ]
  },
  {
   "cell_type": "code",
   "execution_count": 22,
   "metadata": {},
   "outputs": [
    {
     "name": "stdout",
     "output_type": "stream",
     "text": [
      "{'a', 'i', 'l', 'c', 'e'}\n"
     ]
    }
   ],
   "source": [
    "letters = set('alice')\n",
    "print(letters)"
   ]
  },
  {
   "cell_type": "code",
   "execution_count": 24,
   "metadata": {},
   "outputs": [
    {
     "name": "stdout",
     "output_type": "stream",
     "text": [
      "{'e', 'a', 'i'}\n"
     ]
    }
   ],
   "source": [
    "print(letters.intersection(vowels))"
   ]
  },
  {
   "cell_type": "markdown",
   "metadata": {},
   "source": [
    "# Counter \n",
    "\n",
    "keeps number of items addded."
   ]
  },
  {
   "cell_type": "code",
   "execution_count": 30,
   "metadata": {},
   "outputs": [
    {
     "name": "stdout",
     "output_type": "stream",
     "text": [
      "Counter({'o': 5, 's': 1, 'n': 1, ' ': 1, 'l': 1, 't': 1})\n"
     ]
    }
   ],
   "source": [
    "from collections import Counter\n",
    "inventory = Counter()\n",
    "inventory.update('sooon loot')\n",
    "print(inventory)\n",
    "\n"
   ]
  },
  {
   "cell_type": "markdown",
   "metadata": {},
   "source": [
    "# STACK using LIST"
   ]
  },
  {
   "cell_type": "markdown",
   "metadata": {},
   "source": [
    "## list \n",
    "\n",
    "list is backed dynamic array:\n",
    ": fast random access \n",
    "but requires \n",
    ": occasional resizing when elements are added or removed."
   ]
  },
  {
   "cell_type": "code",
   "execution_count": 31,
   "metadata": {},
   "outputs": [
    {
     "name": "stdout",
     "output_type": "stream",
     "text": [
      "['eat', 'sleep', 'code']\n",
      "code\n"
     ]
    }
   ],
   "source": [
    "# How to use a Python list as a stack (LIFO):\n",
    "\n",
    "s = []\n",
    "\n",
    "s.append('eat')\n",
    "s.append('sleep')\n",
    "s.append('code')\n",
    "\n",
    "print(s)\n",
    "['eat', 'sleep', 'code']\n",
    "\n",
    "print(s.pop())\n",
    "\n",
    "# list stack performs O(1) append and pop() "
   ]
  },
  {
   "cell_type": "markdown",
   "metadata": {},
   "source": [
    "# STACK with DEQUE "
   ]
  },
  {
   "cell_type": "code",
   "execution_count": 35,
   "metadata": {},
   "outputs": [
    {
     "name": "stdout",
     "output_type": "stream",
     "text": [
      "deque(['eat', 'sleep', 'code'])\n",
      "code\n"
     ]
    }
   ],
   "source": [
    "# How to use collections.deque as a stack (LIFO):\n",
    "# The deque class implements a double-ended queue \n",
    "# that supports adding and removing elements from either end in O(1) time\n",
    "\n",
    "from collections import deque\n",
    "q = deque()\n",
    "\n",
    "q.append('eat')\n",
    "q.append('sleep')\n",
    "q.append('code')\n",
    "\n",
    "print(q)\n",
    "print(q.pop())"
   ]
  },
  {
   "cell_type": "markdown",
   "metadata": {},
   "source": [
    "# QUEUE"
   ]
  },
  {
   "cell_type": "code",
   "execution_count": 36,
   "metadata": {},
   "outputs": [
    {
     "name": "stdout",
     "output_type": "stream",
     "text": [
      "deque(['eat', 'sleep', 'code'])\n",
      "eat\n"
     ]
    }
   ],
   "source": [
    "# How to use collections.deque as a FIFO queue:\n",
    "\n",
    "from collections import deque\n",
    "q = deque()\n",
    "\n",
    "q.append('eat')\n",
    "q.append('sleep')\n",
    "q.append('code')\n",
    "\n",
    "print(q)\n",
    "deque(['eat', 'sleep', 'code'])\n",
    "\n",
    "print(q.popleft())"
   ]
  },
  {
   "cell_type": "code",
   "execution_count": 39,
   "metadata": {},
   "outputs": [
    {
     "name": "stdout",
     "output_type": "stream",
     "text": [
      "eat\n",
      "sleep\n"
     ]
    }
   ],
   "source": [
    "# How to use queue.Queue as a FIFO queue:\n",
    "\n",
    "from queue import Queue\n",
    "q = Queue()\n",
    "\n",
    "q.put('eat')\n",
    "q.put('sleep')\n",
    "q.put('code')\n",
    "\n",
    "print(q.get())\n",
    "print(q.get())"
   ]
  },
  {
   "cell_type": "markdown",
   "metadata": {},
   "source": [
    "# PRIORITY QUEUE"
   ]
  },
  {
   "cell_type": "code",
   "execution_count": 40,
   "metadata": {},
   "outputs": [],
   "source": [
    "import heapq\n",
    "# uses a  functional interface\n",
    "\n",
    "q = []\n",
    "\n",
    "heapq.heappush(q, (2, 'code'))\n",
    "heapq.heappush(q, (1, 'eat'))\n",
    "heapq.heappush(q, (3, 'sleep'))"
   ]
  },
  {
   "cell_type": "code",
   "execution_count": 42,
   "metadata": {},
   "outputs": [
    {
     "name": "stdout",
     "output_type": "stream",
     "text": [
      "[(1, 'eat'), (2, 'code'), (3, 'sleep')]\n"
     ]
    }
   ],
   "source": [
    "print(q)\n",
    "\n"
   ]
  },
  {
   "cell_type": "code",
   "execution_count": 43,
   "metadata": {},
   "outputs": [
    {
     "name": "stdout",
     "output_type": "stream",
     "text": [
      "(1, 'eat')\n",
      "(2, 'code')\n",
      "(3, 'sleep')\n"
     ]
    }
   ],
   "source": [
    "from queue import PriorityQueue\n",
    "# uses a  object oriented interface\n",
    "q = PriorityQueue()\n",
    "\n",
    "q.put((2, 'code'))\n",
    "q.put((1, 'eat'))\n",
    "q.put((3, 'sleep'))\n",
    "\n",
    "while not q.empty():\n",
    "    next_item = q.get()\n",
    "    print(next_item)"
   ]
  },
  {
   "cell_type": "markdown",
   "metadata": {},
   "source": [
    "#  A Linked list implementation for custom DS"
   ]
  },
  {
   "cell_type": "code",
   "execution_count": 44,
   "metadata": {},
   "outputs": [],
   "source": [
    "class ListNode:\n",
    "    \"\"\"\n",
    "    A node in a singly-linked list.\n",
    "    \"\"\"\n",
    "    def __init__(self, data=None, next=None):\n",
    "        self.data = data\n",
    "        self.next = next\n",
    "\n",
    "    def __repr__(self):\n",
    "        return repr(self.data)\n",
    "\n",
    "\n",
    "class SinglyLinkedList:\n",
    "    def __init__(self):\n",
    "        \"\"\"\n",
    "        Create a new singly-linked list.\n",
    "        Takes O(1) time.\n",
    "        \"\"\"\n",
    "        self.head = None\n",
    "\n",
    "    def __repr__(self):\n",
    "        \"\"\"\n",
    "        Return a string representation of the list.\n",
    "        Takes O(n) time.\n",
    "        \"\"\"\n",
    "        nodes = []\n",
    "        curr = self.head\n",
    "        while curr:\n",
    "            nodes.append(repr(curr))\n",
    "            curr = curr.next\n",
    "        return '[' + ', '.join(nodes) + ']'\n",
    "\n",
    "    def prepend(self, data):\n",
    "        \"\"\"\n",
    "        Insert a new element at the beginning of the list.\n",
    "        Takes O(1) time.\n",
    "        \"\"\"\n",
    "        self.head = ListNode(data=data, next=self.head)\n",
    "\n",
    "    def append(self, data):\n",
    "        \"\"\"\n",
    "        Insert a new element at the end of the list.\n",
    "        Takes O(n) time.\n",
    "        \"\"\"\n",
    "        if not self.head:\n",
    "            self.head = ListNode(data=data)\n",
    "            return\n",
    "        curr = self.head\n",
    "        while curr.next:\n",
    "            curr = curr.next\n",
    "        curr.next = ListNode(data=data)\n",
    "\n",
    "    def find(self, key):\n",
    "        \"\"\"\n",
    "        Search for the first element with `data` matching\n",
    "        `key`. Return the element or `None` if not found.\n",
    "        Takes O(n) time.\n",
    "        \"\"\"\n",
    "        curr = self.head\n",
    "        while curr and curr.data != key:\n",
    "            curr = curr.next\n",
    "        return curr  # Will be None if not found\n",
    "\n",
    "    def remove(self, key):\n",
    "        \"\"\"\n",
    "        Remove the first occurrence of `key` in the list.\n",
    "        Takes O(n) time.\n",
    "        \"\"\"\n",
    "        # Find the element and keep a\n",
    "        # reference to the element preceding it\n",
    "        curr = self.head\n",
    "        prev = None\n",
    "        while curr and curr.data != key:\n",
    "            prev = curr\n",
    "            curr = curr.next\n",
    "        # Unlink it from the list\n",
    "        if prev is None:\n",
    "            self.head = curr.next\n",
    "        elif curr:\n",
    "            prev.next = curr.next\n",
    "            curr.next = None\n",
    "\n",
    "    def reverse(self):\n",
    "        \"\"\"\n",
    "        Reverse the list in-place.\n",
    "        Takes O(n) time.\n",
    "        \"\"\"\n",
    "        curr = self.head\n",
    "        prev_node = None\n",
    "        next_node = None\n",
    "        while curr:\n",
    "            next_node = curr.next\n",
    "            curr.next = prev_node\n",
    "            prev_node = curr\n",
    "            curr = next_node\n",
    "        self.head = prev_node"
   ]
  },
  {
   "cell_type": "code",
   "execution_count": 46,
   "metadata": {},
   "outputs": [
    {
     "name": "stdout",
     "output_type": "stream",
     "text": [
      "[42, 'a', 23, 'the', 'end']\n"
     ]
    }
   ],
   "source": [
    "lst = SinglyLinkedList()\n",
    "\n",
    "\n",
    "lst.prepend(23)\n",
    "lst.prepend('a')\n",
    "lst.prepend(42)\n",
    "lst.append('the')\n",
    "lst.append('end')\n",
    "print(lst)"
   ]
  },
  {
   "cell_type": "code",
   "execution_count": null,
   "metadata": {},
   "outputs": [],
   "source": []
  }
 ],
 "metadata": {
  "kernelspec": {
   "display_name": "Python 3",
   "language": "python",
   "name": "python3"
  },
  "language_info": {
   "codemirror_mode": {
    "name": "ipython",
    "version": 3
   },
   "file_extension": ".py",
   "mimetype": "text/x-python",
   "name": "python",
   "nbconvert_exporter": "python",
   "pygments_lexer": "ipython3",
   "version": "3.8.2"
  }
 },
 "nbformat": 4,
 "nbformat_minor": 4
}
