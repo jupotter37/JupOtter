{
 "cells": [
  {
   "cell_type": "markdown",
   "metadata": {},
   "source": [
    "### Created: 28/09/2023\n",
    "\n",
    "- python version 3.11.5"
   ]
  },
  {
   "cell_type": "markdown",
   "metadata": {},
   "source": [
    "**Blog Link:** https://www.geeksforgeeks.org/introduction-to-stack-data-structure-and-algorithm-tutorials/?ref=outind"
   ]
  },
  {
   "cell_type": "markdown",
   "metadata": {},
   "source": [
    "### What is Stack?\n",
    "\n",
    "A stack is a linear data structure in which the insertion of a new element and removal of an existing element takes place at the same end represented as the top of the stack.\n",
    "\n",
    "To implement the stack, it is required to maintain the pointer to the top of the stack, which is the last element to be inserted because we can access the elements only on the top of the stack.\n",
    "\n",
    "**LIFO( Last In First Out ) or FILO( First In Last Out ):**\n",
    "\n",
    "This strategy states that the element that is inserted last will come out first. You can take a pile of plates kept on top of each other as a real-life example. The plate which we put last is on the top and since we remove the plate that is at the top, we can say that the plate that was put last comes out first.\n",
    "\n",
    "**Basic Operations on Stack**\n",
    "\n",
    "In order to make manipulations in a stack, there are certain operations provided to us.\n",
    "\n",
    "- push() to insert an element into the stack\n",
    "- pop() to remove an element from the stack\n",
    "- top() Returns the top element of the stack.\n",
    "- isEmpty() returns true if stack is empty else false.\n",
    "- size() returns the size of stack.\n",
    "\n",
    "\n",
    "![Alt text](image.png)\n",
    "\n",
    "\n",
    "![Alt text](image-1.png)\n",
    "\n",
    "\n",
    "**Applications of the stack:**\n",
    "\n",
    "- Infix to Postfix /Prefix conversion\n",
    "- Redo-undo features at many places like editors, photoshop.\n",
    "- Forward and backward features in web browsers\n",
    "- Used in many algorithms like Tower of Hanoi, tree traversals, stock span problems, and histogram problems.\n",
    "- Backtracking is one of the algorithm designing techniques. Some examples of backtracking are the Knight-Tour problem, N-Queen problem, find your way - through a maze, and game-like chess or checkers in all these problems we dive into someway if that way is not efficient we come back to the previous state - and go into some another path. To get back from a current state we need to store the previous state for that purpose we need a stack.\n",
    "- In Graph Algorithms like Topological Sorting and Strongly Connected Components\n",
    "- In Memory management, any modern computer uses a stack as the primary management for a running purpose. Each program that is running in a computer system has its own memory allocations\n",
    "- String reversal is also another application of stack. Here one by one each character gets inserted into the stack. So the first character of the string is - on the bottom of the stack and the last element of a string is on the top of the stack. After Performing the pop operations on the stack we get a string in reverse order.\n",
    "- Stack also helps in implementing function call in computers. The last called function is always completed first.\n",
    "- Stacks are also used to implement the undo/redo operation in text editor.\n",
    "\n",
    "\n",
    "**Implementation of Stack:**\n",
    "\n",
    "- Using array\n",
    "- Using linked list"
   ]
  },
  {
   "cell_type": "markdown",
   "metadata": {},
   "source": [
    "#### Stack is an user defined data structure\n",
    "#### In python we can implement stack in different ways\n",
    "\n",
    "1. Using python built-in data structures List\n",
    "2. Using python built in modules and libraries"
   ]
  },
  {
   "cell_type": "markdown",
   "metadata": {},
   "source": [
    "### Using Python list"
   ]
  },
  {
   "cell_type": "code",
   "execution_count": 1,
   "metadata": {},
   "outputs": [
    {
     "name": "stdout",
     "output_type": "stream",
     "text": [
      "[10, 100, 200, 300]\n",
      "300\n",
      "Top value of the stack:  200\n",
      "False\n",
      "The size of the stack now:  3\n"
     ]
    }
   ],
   "source": [
    "stack = []\n",
    "\n",
    "# push operation\n",
    "stack.append(10)\n",
    "stack.append(100)\n",
    "stack.append(200)\n",
    "stack.append(300)\n",
    "print(stack)\n",
    "\n",
    "# pop operation\n",
    "p_item = stack.pop()\n",
    "print(p_item)\n",
    "\n",
    "# top operation\n",
    "print(\"Top value of the stack: \", stack[-1])\n",
    "\n",
    "# IsEmpty operation\n",
    "is_empty = True if len(stack) == 0 else False\n",
    "print(is_empty)\n",
    "\n",
    "# sise operation\n",
    "print(\"The size of the stack now: \", len(stack))"
   ]
  },
  {
   "cell_type": "markdown",
   "metadata": {},
   "source": [
    "### Fixed length stack"
   ]
  },
  {
   "cell_type": "code",
   "execution_count": 1,
   "metadata": {},
   "outputs": [
    {
     "name": "stdout",
     "output_type": "stream",
     "text": [
      "Now the stack look like this:  ['10']\n",
      "Now the stack look like this:  ['10', '20']\n",
      "The stack size is:  2\n",
      "False\n",
      "Now the stack look like this:  ['10', '20', '30']\n",
      "Stacked is full\n"
     ]
    },
    {
     "ename": "ValueError",
     "evalue": "invalid literal for int() with base 10: ''",
     "output_type": "error",
     "traceback": [
      "\u001b[1;31m---------------------------------------------------------------------------\u001b[0m",
      "\u001b[1;31mValueError\u001b[0m                                Traceback (most recent call last)",
      "\u001b[1;32me:\\PYTHON\\DSA-In-Python\\Stack\\stack implementation.ipynb Cell 8\u001b[0m line \u001b[0;36m2\n\u001b[0;32m     <a href='vscode-notebook-cell:/e%3A/PYTHON/DSA-In-Python/Stack/stack%20implementation.ipynb#W6sZmlsZQ%3D%3D?line=21'>22</a>\u001b[0m stackt_length \u001b[39m=\u001b[39m \u001b[39mint\u001b[39m(\u001b[39minput\u001b[39m(\u001b[39m\"\u001b[39m\u001b[39mEnter the length of the stack: \u001b[39m\u001b[39m\"\u001b[39m))\n\u001b[0;32m     <a href='vscode-notebook-cell:/e%3A/PYTHON/DSA-In-Python/Stack/stack%20implementation.ipynb#W6sZmlsZQ%3D%3D?line=23'>24</a>\u001b[0m \u001b[39mwhile\u001b[39;00m \u001b[39mTrue\u001b[39;00m:\n\u001b[1;32m---> <a href='vscode-notebook-cell:/e%3A/PYTHON/DSA-In-Python/Stack/stack%20implementation.ipynb#W6sZmlsZQ%3D%3D?line=24'>25</a>\u001b[0m     user_input \u001b[39m=\u001b[39m \u001b[39mint\u001b[39;49m(\u001b[39minput\u001b[39;49m(\u001b[39m\"\"\"\u001b[39;49m\n\u001b[0;32m     <a href='vscode-notebook-cell:/e%3A/PYTHON/DSA-In-Python/Stack/stack%20implementation.ipynb#W6sZmlsZQ%3D%3D?line=25'>26</a>\u001b[0m \u001b[39m                           Press 1 to append item to stack\u001b[39;49m\u001b[39m\\n\u001b[39;49;00m\n\u001b[0;32m     <a href='vscode-notebook-cell:/e%3A/PYTHON/DSA-In-Python/Stack/stack%20implementation.ipynb#W6sZmlsZQ%3D%3D?line=26'>27</a>\u001b[0m \u001b[39m                           Press 2 to pop item from stack\u001b[39;49m\u001b[39m\\n\u001b[39;49;00m\n\u001b[0;32m     <a href='vscode-notebook-cell:/e%3A/PYTHON/DSA-In-Python/Stack/stack%20implementation.ipynb#W6sZmlsZQ%3D%3D?line=27'>28</a>\u001b[0m \u001b[39m                           Press 3 to show the stack size\u001b[39;49m\u001b[39m\\n\u001b[39;49;00m\n\u001b[0;32m     <a href='vscode-notebook-cell:/e%3A/PYTHON/DSA-In-Python/Stack/stack%20implementation.ipynb#W6sZmlsZQ%3D%3D?line=28'>29</a>\u001b[0m \u001b[39m                           Press 4 to see the stack is empty or not\u001b[39;49m\u001b[39m\\n\u001b[39;49;00m\n\u001b[0;32m     <a href='vscode-notebook-cell:/e%3A/PYTHON/DSA-In-Python/Stack/stack%20implementation.ipynb#W6sZmlsZQ%3D%3D?line=29'>30</a>\u001b[0m \u001b[39m                           Press 5 to exit the code\u001b[39;49m\u001b[39m\\n\u001b[39;49;00m\u001b[39m\"\"\"\u001b[39;49m))\n\u001b[0;32m     <a href='vscode-notebook-cell:/e%3A/PYTHON/DSA-In-Python/Stack/stack%20implementation.ipynb#W6sZmlsZQ%3D%3D?line=31'>32</a>\u001b[0m     \u001b[39mif\u001b[39;00m user_input \u001b[39m==\u001b[39m \u001b[39m1\u001b[39m:\n\u001b[0;32m     <a href='vscode-notebook-cell:/e%3A/PYTHON/DSA-In-Python/Stack/stack%20implementation.ipynb#W6sZmlsZQ%3D%3D?line=32'>33</a>\u001b[0m         item \u001b[39m=\u001b[39m \u001b[39minput\u001b[39m(\u001b[39m\"\u001b[39m\u001b[39mEnter your item: \u001b[39m\u001b[39m\"\u001b[39m)\n",
      "\u001b[1;31mValueError\u001b[0m: invalid literal for int() with base 10: ''"
     ]
    },
    {
     "ename": "",
     "evalue": "",
     "output_type": "error",
     "traceback": [
      "\u001b[1;31mThe Kernel crashed while executing code in the the current cell or a previous cell. Please review the code in the cell(s) to identify a possible cause of the failure. Click <a href='https://aka.ms/vscodeJupyterKernelCrash'>here</a> for more info. View Jupyter <a href='command:jupyter.viewOutput'>log</a> for further details."
     ]
    }
   ],
   "source": [
    "fixed_lenght_stack = []\n",
    "\n",
    "def push(item):\n",
    "    if len(fixed_lenght_stack) == stackt_length:\n",
    "        print(\"Stacked is full\")\n",
    "    else:\n",
    "        fixed_lenght_stack.append(item)\n",
    "        print(\"Now the stack look like this: \",fixed_lenght_stack)\n",
    "\n",
    "def pop():\n",
    "    poped_item = fixed_lenght_stack.pop()\n",
    "    print(\"Poped item is: \", poped_item)\n",
    "    print(\"Now the stack look like this: \",fixed_lenght_stack)\n",
    "\n",
    "def stacked_size():\n",
    "    print(\"The stack size is: \", len(fixed_lenght_stack))\n",
    "\n",
    "def isEmpty():\n",
    "    print(\"True\") if len(fixed_lenght_stack) == 0 else print(\"False\")\n",
    "\n",
    "\n",
    "stackt_length = int(input(\"Enter the length of the stack: \"))\n",
    "\n",
    "while True:\n",
    "    user_input = int(input(\"\"\"\n",
    "                           Press 1 to append item to stack\\n\n",
    "                           Press 2 to pop item from stack\\n\n",
    "                           Press 3 to show the stack size\\n\n",
    "                           Press 4 to see the stack is empty or not\\n\n",
    "                           Press 5 to exit the code\\n\"\"\"))\n",
    "    \n",
    "    if user_input == 1:\n",
    "        item = input(\"Enter your item: \")\n",
    "        push(item=item)\n",
    "    if user_input == 2:\n",
    "        pop()\n",
    "    if user_input == 3:\n",
    "        stacked_size()\n",
    "    if user_input == 4:\n",
    "        isEmpty()\n",
    "    if user_input == 5:\n",
    "        exit()"
   ]
  },
  {
   "cell_type": "markdown",
   "metadata": {},
   "source": [
    "### Using python collections module"
   ]
  },
  {
   "cell_type": "markdown",
   "metadata": {},
   "source": [
    "``deque contains lots of functions. By using this you can do lots of operation on the stack``"
   ]
  },
  {
   "cell_type": "code",
   "execution_count": 2,
   "metadata": {},
   "outputs": [],
   "source": [
    "from collections import deque"
   ]
  },
  {
   "cell_type": "code",
   "execution_count": 16,
   "metadata": {},
   "outputs": [],
   "source": [
    "stack = deque()"
   ]
  },
  {
   "cell_type": "code",
   "execution_count": 17,
   "metadata": {},
   "outputs": [
    {
     "name": "stdout",
     "output_type": "stream",
     "text": [
      "deque([100, 200, 300])\n"
     ]
    }
   ],
   "source": [
    "# Push operations\n",
    "stack.append(100)\n",
    "stack.append(200)\n",
    "stack.append(300)\n",
    "\n",
    "print(stack)"
   ]
  },
  {
   "cell_type": "code",
   "execution_count": 18,
   "metadata": {},
   "outputs": [
    {
     "name": "stdout",
     "output_type": "stream",
     "text": [
      "300\n",
      "deque([100, 200])\n"
     ]
    }
   ],
   "source": [
    "# Pop operations\n",
    "\n",
    "p_itme = stack.pop()\n",
    "print(p_item)\n",
    "print(stack)"
   ]
  },
  {
   "cell_type": "code",
   "execution_count": 19,
   "metadata": {},
   "outputs": [
    {
     "data": {
      "text/plain": [
       "200"
      ]
     },
     "execution_count": 19,
     "metadata": {},
     "output_type": "execute_result"
    }
   ],
   "source": [
    "# Find top value\n",
    "stack[-1]"
   ]
  },
  {
   "cell_type": "code",
   "execution_count": 20,
   "metadata": {},
   "outputs": [
    {
     "name": "stdout",
     "output_type": "stream",
     "text": [
      "2\n"
     ]
    }
   ],
   "source": [
    "# Find the size\n",
    "print(len(stack))"
   ]
  },
  {
   "cell_type": "code",
   "execution_count": 21,
   "metadata": {},
   "outputs": [
    {
     "data": {
      "text/plain": [
       "False"
      ]
     },
     "execution_count": 21,
     "metadata": {},
     "output_type": "execute_result"
    }
   ],
   "source": [
    "# check stack empty or not\n",
    "not stack"
   ]
  },
  {
   "cell_type": "code",
   "execution_count": 22,
   "metadata": {},
   "outputs": [],
   "source": [
    "from queue import LifoQueue"
   ]
  },
  {
   "cell_type": "code",
   "execution_count": 23,
   "metadata": {},
   "outputs": [],
   "source": [
    "stack = LifoQueue(maxsize=5)"
   ]
  },
  {
   "cell_type": "code",
   "execution_count": 24,
   "metadata": {},
   "outputs": [],
   "source": [
    "# Push operation\n",
    "stack.put(item=100)\n",
    "stack.put(item=200)\n",
    "stack.put(item=300)\n",
    "stack.put(item=400)\n",
    "stack.put(item=500)"
   ]
  },
  {
   "cell_type": "code",
   "execution_count": 25,
   "metadata": {},
   "outputs": [
    {
     "data": {
      "text/plain": [
       "500"
      ]
     },
     "execution_count": 25,
     "metadata": {},
     "output_type": "execute_result"
    }
   ],
   "source": [
    "# Pop operation \n",
    "stack.get()"
   ]
  },
  {
   "cell_type": "code",
   "execution_count": 26,
   "metadata": {},
   "outputs": [
    {
     "data": {
      "text/plain": [
       "400"
      ]
     },
     "execution_count": 26,
     "metadata": {},
     "output_type": "execute_result"
    }
   ],
   "source": [
    "stack.get()"
   ]
  },
  {
   "cell_type": "code",
   "execution_count": 27,
   "metadata": {},
   "outputs": [
    {
     "data": {
      "text/plain": [
       "False"
      ]
     },
     "execution_count": 27,
     "metadata": {},
     "output_type": "execute_result"
    }
   ],
   "source": [
    "# check empty or not\n",
    "\n",
    "stack.empty()"
   ]
  },
  {
   "cell_type": "code",
   "execution_count": 28,
   "metadata": {},
   "outputs": [
    {
     "data": {
      "text/plain": [
       "False"
      ]
     },
     "execution_count": 28,
     "metadata": {},
     "output_type": "execute_result"
    }
   ],
   "source": [
    "# Check full or not\n",
    "stack.full()"
   ]
  },
  {
   "cell_type": "code",
   "execution_count": 29,
   "metadata": {},
   "outputs": [
    {
     "data": {
      "text/plain": [
       "3"
      ]
     },
     "execution_count": 29,
     "metadata": {},
     "output_type": "execute_result"
    }
   ],
   "source": [
    "# check size\n",
    "stack.qsize()"
   ]
  },
  {
   "cell_type": "markdown",
   "metadata": {},
   "source": [
    "### Using python numpy arrays"
   ]
  },
  {
   "cell_type": "code",
   "execution_count": 1,
   "metadata": {},
   "outputs": [],
   "source": [
    "import numpy as np"
   ]
  },
  {
   "cell_type": "code",
   "execution_count": 6,
   "metadata": {},
   "outputs": [
    {
     "name": "stdout",
     "output_type": "stream",
     "text": [
      "Stack size: 5\n",
      "Top element: 5\n",
      "Stack elements:\n",
      "5\n",
      "4\n",
      "3\n",
      "2\n",
      "1\n",
      "\n",
      "After popping two elements:\n",
      "Stack size: 3\n",
      "Top element: 3\n",
      "Stack elements:\n",
      "3\n",
      "2\n",
      "1\n"
     ]
    }
   ],
   "source": [
    "class Stack:\n",
    "    def __init__(self, capacity):\n",
    "        self.capacity = capacity\n",
    "        self.stack = np.empty(self.capacity, dtype=object)  # Using dtype=object to allow any data type\n",
    "        self.top = -1\n",
    "\n",
    "    def is_empty(self):\n",
    "        return self.top == -1\n",
    "\n",
    "    def is_full(self):\n",
    "        return self.top == self.capacity - 1\n",
    "\n",
    "    def push(self, item):\n",
    "        if self.is_full():\n",
    "            print(\"Stack is full. Cannot push element.\")\n",
    "        else:\n",
    "            self.top += 1\n",
    "            self.stack[self.top] = item\n",
    "\n",
    "    def pop(self):\n",
    "        if self.is_empty():\n",
    "            print(\"Stack is empty. Cannot pop element.\")\n",
    "            return None\n",
    "        else:\n",
    "            item = self.stack[self.top]\n",
    "            self.top -= 1\n",
    "            return item\n",
    "\n",
    "    def peek(self):\n",
    "        if self.is_empty():\n",
    "            print(\"Stack is empty. Cannot peek element.\")\n",
    "            return None\n",
    "        else:\n",
    "            return self.stack[self.top]\n",
    "\n",
    "    def size(self):\n",
    "        return self.top + 1\n",
    "\n",
    "    def display(self):\n",
    "        if self.is_empty():\n",
    "            print(\"Stack is empty.\")\n",
    "        else:\n",
    "            print(\"Stack elements:\")\n",
    "            for i in range(self.top, -1, -1):\n",
    "                print(self.stack[i])\n",
    "\n",
    "# Example usage\n",
    "stack = Stack(capacity=5)\n",
    "stack.push(1)\n",
    "stack.push(2)\n",
    "stack.push(3)\n",
    "stack.push(4)\n",
    "stack.push(5)\n",
    "\n",
    "print(\"Stack size:\", stack.size())\n",
    "print(\"Top element:\", stack.peek())\n",
    "stack.display()\n",
    "\n",
    "stack.pop()\n",
    "stack.pop()\n",
    "\n",
    "print(\"\\nAfter popping two elements:\")\n",
    "print(\"Stack size:\", stack.size())\n",
    "print(\"Top element:\", stack.peek())\n",
    "stack.display()\n"
   ]
  },
  {
   "cell_type": "code",
   "execution_count": null,
   "metadata": {},
   "outputs": [],
   "source": []
  }
 ],
 "metadata": {
  "kernelspec": {
   "display_name": "Python 3",
   "language": "python",
   "name": "python3"
  },
  "language_info": {
   "codemirror_mode": {
    "name": "ipython",
    "version": 3
   },
   "file_extension": ".py",
   "mimetype": "text/x-python",
   "name": "python",
   "nbconvert_exporter": "python",
   "pygments_lexer": "ipython3",
   "version": "3.11.5"
  },
  "orig_nbformat": 4
 },
 "nbformat": 4,
 "nbformat_minor": 2
}
