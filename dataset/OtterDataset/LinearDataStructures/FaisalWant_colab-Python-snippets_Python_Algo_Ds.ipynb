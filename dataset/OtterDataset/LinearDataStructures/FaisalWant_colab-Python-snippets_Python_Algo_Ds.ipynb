{
  "cells": [
    {
      "cell_type": "markdown",
      "metadata": {
        "id": "view-in-github",
        "colab_type": "text"
      },
      "source": [
        "<a href=\"https://colab.research.google.com/github/FaisalWant/colab-Python-snippets/blob/main/Python_Algo_Ds.ipynb\" target=\"_parent\"><img src=\"https://colab.research.google.com/assets/colab-badge.svg\" alt=\"Open In Colab\"/></a>"
      ]
    },
    {
      "cell_type": "markdown",
      "metadata": {
        "id": "KqAi2o52UaLl"
      },
      "source": [
        "Exponents"
      ]
    },
    {
      "cell_type": "code",
      "execution_count": null,
      "metadata": {
        "id": "il06aq1mRFFg"
      },
      "outputs": [],
      "source": [
        "def exponentIter(x,y):\n",
        "  res=1\n",
        "  a=x\n",
        "  b=y\n",
        "  while(b!=0):\n",
        "    if b%2==0:\n",
        "      a=a*a\n",
        "      b=b/2\n",
        "    else:\n",
        "       res=res*a\n",
        "       b=b-1\n",
        "  return res"
      ]
    },
    {
      "cell_type": "code",
      "execution_count": null,
      "metadata": {
        "colab": {
          "base_uri": "https://localhost:8080/"
        },
        "id": "kl4vW6FyVLhN",
        "outputId": "08051bc4-492e-4605-f7d6-b3781cfed9da"
      },
      "outputs": [
        {
          "data": {
            "text/plain": [
              "16"
            ]
          },
          "execution_count": 4,
          "metadata": {},
          "output_type": "execute_result"
        }
      ],
      "source": [
        "exponentIter(2,4)"
      ]
    },
    {
      "cell_type": "code",
      "execution_count": null,
      "metadata": {
        "id": "mP5QkGrDWHUV"
      },
      "outputs": [],
      "source": [
        "def raised(base, exp):\n",
        "  result=1\n",
        "  for i in range(exp):\n",
        "    result*=base\n",
        "  return result\n",
        "\n"
      ]
    },
    {
      "cell_type": "code",
      "execution_count": null,
      "metadata": {
        "colab": {
          "base_uri": "https://localhost:8080/"
        },
        "id": "lv3g4asFWyE_",
        "outputId": "36a968dd-3656-4f98-8364-980837f39434"
      },
      "outputs": [
        {
          "data": {
            "text/plain": [
              "32"
            ]
          },
          "execution_count": 7,
          "metadata": {},
          "output_type": "execute_result"
        }
      ],
      "source": [
        "raised(2,5)"
      ]
    },
    {
      "cell_type": "code",
      "execution_count": null,
      "metadata": {
        "id": "e25NADLRXTUE"
      },
      "outputs": [],
      "source": [
        "def raisedRec(base,exp):\n",
        "  if exp==0:\n",
        "    return 1\n",
        "  else:\n",
        "    return base*raisedRec(base, exp-1)"
      ]
    },
    {
      "cell_type": "code",
      "execution_count": null,
      "metadata": {
        "colab": {
          "base_uri": "https://localhost:8080/"
        },
        "id": "ZNUWWhi_Xisf",
        "outputId": "d6401186-1513-43f0-cbfd-4a59d09a58a4"
      },
      "outputs": [
        {
          "data": {
            "text/plain": [
              "64"
            ]
          },
          "execution_count": 9,
          "metadata": {},
          "output_type": "execute_result"
        }
      ],
      "source": [
        "raisedRec(2,6)"
      ]
    },
    {
      "cell_type": "code",
      "execution_count": null,
      "metadata": {
        "id": "7JBtfuuBYDHv"
      },
      "outputs": [],
      "source": [
        "def raisedRecDivide(base, exp):\n",
        "  if exp==0:\n",
        "    return 1\n",
        "  else:\n",
        "    half=raisedRecDivide(base, exp/2)\n",
        "    if exp%2==0:\n",
        "      return half*half      # Even case\n",
        "    else:\n",
        "      return base*half*half   # Odd case"
      ]
    },
    {
      "cell_type": "code",
      "execution_count": null,
      "metadata": {
        "id": "5FzY_XaSYvAc"
      },
      "outputs": [],
      "source": [
        "raisedRecDivide(5,3)"
      ]
    },
    {
      "cell_type": "code",
      "execution_count": null,
      "metadata": {
        "id": "SahE-NQnQuT-"
      },
      "outputs": [],
      "source": [
        "##Exponentiation By Squaring\n",
        "\n",
        "def exponent(x,n):\n",
        "  if n==0:\n",
        "    return 1\n",
        "  if n==1:\n",
        "    return x\n",
        "  if n%2:     # if odd\n",
        "    return x*exponent(x*x, (n-1)/2)  # odd -1 --> even/2 --> Even intger(0,2,4,6)\n",
        "  return exponent(x*x, n/2)  # even"
      ]
    },
    {
      "cell_type": "code",
      "execution_count": null,
      "metadata": {
        "id": "ey_-Xz4xRMnP"
      },
      "outputs": [],
      "source": [
        "from time import time\n",
        "\n",
        "def compareTrials(trials):\n",
        "  \n",
        "  base=999\n",
        "  timeN=timeR=0\n",
        "\n",
        "  for t in range(trials):   #  0->8192\n",
        "    now=time()\n",
        "    check1=exponent(base, t)\n",
        "    timeR += (time()-now)    # time for recursive code\n",
        "    \n",
        "    now=time()      # reset time\n",
        "    check2= 1\n",
        "    for i in range(t):\n",
        "      check2=check2*base\n",
        "    \n",
        "    timeN += (time()-now)     # time for iterative code\n",
        "    \n",
        "    if check1 != check2:\n",
        "      raise Exception(\"Invalid Result\")\n",
        "\n",
        "\n",
        "  return (timeR, timeN)\n",
        "\n",
        "def trialTable():\n",
        "  trial=2\n",
        "  while trial<=8192:\n",
        "    result=compareTrials(trial)\n",
        "    print(trial, '\\t', result[0], '\\t', result[1])\n",
        "    trial *=2\n"
      ]
    },
    {
      "cell_type": "code",
      "execution_count": null,
      "metadata": {
        "colab": {
          "base_uri": "https://localhost:8080/"
        },
        "id": "7Bc8SSERjN-e",
        "outputId": "c8ff878d-a010-4e52-c83c-7b9d7a68cbbb"
      },
      "outputs": [
        {
          "name": "stdout",
          "output_type": "stream",
          "text": [
            "2 \t 2.1457672119140625e-06 \t 1.6689300537109375e-06\n",
            "4 \t 6.67572021484375e-06 \t 4.5299530029296875e-06\n",
            "8 \t 1.6927719116210938e-05 \t 9.298324584960938e-06\n",
            "16 \t 3.3855438232421875e-05 \t 2.6702880859375e-05\n",
            "32 \t 9.179115295410156e-05 \t 9.131431579589844e-05\n",
            "64 \t 0.000225067138671875 \t 0.00030612945556640625\n",
            "128 \t 0.0003609657287597656 \t 0.0007817745208740234\n",
            "256 \t 0.0012607574462890625 \t 0.005468845367431641\n",
            "512 \t 0.003925323486328125 \t 0.021847248077392578\n",
            "1024 \t 0.019690752029418945 \t 0.12045407295227051\n",
            "2048 \t 0.12154102325439453 \t 0.7414975166320801\n",
            "4096 \t 0.7257888317108154 \t 4.862767457962036\n",
            "8192 \t 4.537971496582031 \t 35.08096694946289\n"
          ]
        }
      ],
      "source": [
        "trialTable()"
      ]
    },
    {
      "cell_type": "code",
      "execution_count": null,
      "metadata": {
        "id": "6Nmv0J0uZ2TX"
      },
      "outputs": [],
      "source": [
        "#pow(x,y,2)  2 pow 13 mod 2\n",
        "\n",
        "def exponent_mod(x,n,m):\n",
        "  if n==0:\n",
        "    return 1\n",
        "  if n==1:\n",
        "    return x%m \n",
        "  if n%2:\n",
        "    return x*exponent_mod(x*x % m,( (n-1)/2 , m )%m )\n",
        "  return exponent_mod(x*x, n/2, m)%m\n",
        "  \n"
      ]
    },
    {
      "cell_type": "code",
      "execution_count": null,
      "metadata": {
        "colab": {
          "base_uri": "https://localhost:8080/"
        },
        "id": "Zksp0XZDoCLG",
        "outputId": "9c775346-e186-4be1-eccd-38c32438809e"
      },
      "outputs": [
        {
          "data": {
            "text/plain": [
              "0"
            ]
          },
          "execution_count": 25,
          "metadata": {},
          "output_type": "execute_result"
        }
      ],
      "source": [
        "exponent_mod(2,4,2)"
      ]
    },
    {
      "cell_type": "markdown",
      "metadata": {
        "id": "01rZeNu9nj-r"
      },
      "source": [
        "Matrix Exponentiation\n",
        "\n"
      ]
    },
    {
      "cell_type": "code",
      "execution_count": null,
      "metadata": {
        "id": "R1-VVlCVoApK"
      },
      "outputs": [],
      "source": [
        "# creating a random \n",
        "\n",
        "import numpy as np\n",
        "import random\n",
        "\n",
        "# n is the dimension of the matrix\n",
        "\n",
        "def randomMatrix(n):\n",
        "  r=[]\n",
        "  for i in range(n):\n",
        "    r.append([random.random() for i in range(n)])\n",
        "    print(r)\n",
        "\n",
        "  # [[0.58, 0.03, 0.17], [0.56, 0.33, 0.91], [0.97, 0.50, 0.66]]\n",
        "\n",
        "  base= np.array(r).reshape((n,n))\n",
        "\n",
        "  return base\n",
        "\n"
      ]
    },
    {
      "cell_type": "code",
      "execution_count": null,
      "metadata": {
        "colab": {
          "base_uri": "https://localhost:8080/"
        },
        "id": "Aa-lRA2rn3dF",
        "outputId": "de0a422c-2c29-43c5-fe3c-9907631d5c7b"
      },
      "outputs": [
        {
          "name": "stdout",
          "output_type": "stream",
          "text": [
            "[[0.04139332839962451, 0.4434135601587542, 0.7713732008674119]]\n",
            "[[0.04139332839962451, 0.4434135601587542, 0.7713732008674119], [0.4882853142891268, 0.3544622987763443, 0.8103023079914982]]\n",
            "[[0.04139332839962451, 0.4434135601587542, 0.7713732008674119], [0.4882853142891268, 0.3544622987763443, 0.8103023079914982], [0.9164556841638427, 0.6076466437665459, 0.904503020842196]]\n",
            "[[0.92515509 0.64425009 1.08893813]\n",
            " [0.93589665 0.83453333 1.39679271]\n",
            " [1.16357702 1.17137493 2.01743255]]\n"
          ]
        }
      ],
      "source": [
        "m=randomMatrix(3)\n",
        "print(m.dot(m))"
      ]
    },
    {
      "cell_type": "markdown",
      "metadata": {
        "id": "GMjJtILosz_x"
      },
      "source": [
        "Recursive Matrix Multiplication"
      ]
    },
    {
      "cell_type": "code",
      "execution_count": null,
      "metadata": {
        "id": "s8SqKOjks2Xv"
      },
      "outputs": [],
      "source": [
        "import numpy\n",
        "\n",
        "def exponent_mat(x,n):\n",
        "  if n==0:\n",
        "    return numpy.identity(len(x))\n",
        "  if n==1:\n",
        "    return x\n",
        "  if n%2: \n",
        "    return x.dot(exponent_mat(x.dot(x), (n-1)/2))\n",
        "  \n",
        "  return exponent_mat(x.dot(x), n/2)"
      ]
    },
    {
      "cell_type": "markdown",
      "metadata": {
        "id": "h7s1hN__578d"
      },
      "source": [
        "PEG Solitaire Game Solution\n"
      ]
    },
    {
      "cell_type": "code",
      "execution_count": null,
      "metadata": {
        "id": "Raz3VXDT5_zB"
      },
      "outputs": [],
      "source": [
        "#note each is a delta (c,r)\n",
        "\n",
        "directions=[[+4,0],[-4,0],[+2,+2],[+2, -2],[-2,+2],[-2,-2]]\n",
        "\n",
        "# move is a tripe [hole, deltac, deltar]\n",
        "\n",
        "def moves(board):\n",
        "  \"\"\" Returns possible moves given board state\"\"\"\n",
        "  m=[]\n",
        "  for hole in board:\n",
        "    if board[hole]:\n",
        "      for deltac,deltar in directions:\n",
        "        mid=(hole[0]+deltac/2, hole[1]+deltar/2)\n",
        "        end=(hole[0]+deltac, hole[1]+deltar)\n",
        "        if mid in board and board[mid] and end in board and not board[end]:\n",
        "          m.append([hole, deltac, deltar])\n",
        "\n",
        "  return m\n",
        "\n",
        "def makeMove(board, move):\n",
        "  \"\"\" Execute move on a board\"\"\"\n",
        "  hole, deltac, deltar= move\n",
        "  mid=(hole[0]+deltac/2, hole[1]+deltar/2)\n",
        "  end=(hole[0]+deltac, hole[1]+deltar)\n",
        "  board[hole]=False\n",
        "  board[mid]=False\n",
        "  board[end]= True\n",
        "  \n",
        "def undoMove(board, move):\n",
        "\n",
        "  hole, deltac, deltar= move\n",
        "  mid=(hole[0]+deltac/2, hole[1]+deltar/2)\n",
        "  end=(hole[0]+deltac, hole[1]+deltar)\n",
        "  board[hole]=False\n",
        "  board[mid]=True\n",
        "  board[end]= True\n",
        "\n",
        "\n",
        "def solveSpecific(board):\n",
        "  \"\"\" solve the board and return path of moves\"\"\"\n",
        "  path=[]\n",
        "  solve(board, path)\n",
        "  for move in path:\n",
        "    print(move)\n",
        "\n",
        "  \n",
        "# n=> no of pegs\n",
        "\n",
        "def initial(n, skip):\n",
        "  \"\"\" construct triangle solitaire game n*(n+1)/2 holes\n",
        "  each filled with a peg except for a specific omitted value\n",
        "  \n",
        "  \"\"\"\n",
        "  board={}\n",
        "  for c in range(0, 2*n, 2):  #cols [(00), (20),(40),(80)] incrementing in steps of two\n",
        "    d=0\n",
        "    for r in range(int((2*n-c)/2)):\n",
        "      board[(c+d,r)]=True\n",
        "      d+=1\n",
        "  if skip in board:\n",
        "    board[skip]=False\n",
        "\n",
        "  return board\n",
        "\n",
        "def solve(board, path):\n",
        "  \"\"\" solve board and updates path to reflect sequence of moves \"\"\"\n",
        "\n",
        "  if len(path)==len(board)-2:\n",
        "    return True\n",
        "  for move in moves(board):\n",
        "    path.append(move)\n",
        "    makeMove(board, move)\n",
        "\n",
        "    if solve(board, path):\n",
        "      return True\n",
        "    undoMove(board, move)\n",
        "    del path[-1]\n",
        "  return False \n",
        "\n",
        "\n"
      ]
    },
    {
      "cell_type": "code",
      "execution_count": null,
      "metadata": {
        "colab": {
          "base_uri": "https://localhost:8080/"
        },
        "id": "GP7q3FBv_AKd",
        "outputId": "da79204f-ade3-453c-ed74-c0b3d1ec0aa2"
      },
      "outputs": [
        {
          "data": {
            "text/plain": [
              "15"
            ]
          },
          "execution_count": 13,
          "metadata": {},
          "output_type": "execute_result"
        }
      ],
      "source": [
        "len(initial(5, (4,2)))"
      ]
    },
    {
      "cell_type": "markdown",
      "metadata": {
        "id": "rUR3k61A2Vsl"
      },
      "source": [
        "Magic Square Problem \n"
      ]
    },
    {
      "cell_type": "code",
      "execution_count": null,
      "metadata": {
        "id": "79lX1-vc_RjF"
      },
      "outputs": [],
      "source": [
        "board=[]\n",
        "used=[]\n",
        "magicSum=[0]\n",
        "\n",
        "def initialize(n):\n",
        "  \"\"\" prepare board\"\"\"\n",
        "  del board[0:len(board)]                                                              \n",
        "  del used[0:len(used)]                                                                                                                                                                                                                                                                                                                                                                                                                                                                                                                                                                                                                                                                                                                                                                                                                                                                                                                                                                                                                                                                                                                                                                                                                                                                                                                                                                                                                                                                                                                                                                                                                                                                                                                                                                                                                                                                                                                                                                                                                                                                                                                                                                                                                                                                                                                                                                                                                                                                                                                                                                                                                                                                                                                                                                                                                                                                                                                                                                                                               \n",
        "\n",
        "  for r in range(n):\n",
        "    board.append([0 for c in range(n)])                                                                      \n",
        "  for d in range(n*n+1):\n",
        "    used.append(False)                                                                                                                                                                                                                                                                                                                                                                                                                                                                                                                                                                                                                                                                                                                        \n",
        "\n",
        "  magicSum[0]= n*(n*n+1)/2   # a particular sum                                                                                    \n",
        "\n",
        "def output():                                                                                                                                                                         \n",
        "  \"\"\" Output board\"\"\"\n",
        "  for row in board:\n",
        "    for val in row:\n",
        "      print(\"{:2d}\".format(val))\n",
        "   \n",
        "  \n",
        "\n",
        "def isValid(n):\n",
        "  \"\"\" Determine if board is valid\"\"\"\n",
        "  sumD1= sumD2=0\n",
        "  for i in range(n):\n",
        "    sumR=sumC=0\n",
        "    sumD1 += board[i][i]\n",
        "    sumD2 += board[i][n-i-1]\n",
        "\n",
        "    for j in range(n):\n",
        "      sumR += board[i][j]\n",
        "      sumC += board[j][i]\n",
        "    \n",
        "    if sumR!= magicSum[0] or sumC != magicSum[0]:  # becoz row is calculated early\n",
        "      return False\n",
        "\n",
        "  return sumD1==magicSum[0] and sumD2==magicSum[0] # diagonal require whole matrix traversal\n",
        "\n",
        "def solve(n, step=0):\n",
        "  \"\"\" complete given step in magic square board\"\"\"\n",
        "  if step == n **2:\n",
        "    return isValid(n)  # check after one full configuration is created \n",
        "\n",
        "  for val in range(1, n**2+1):\n",
        "    if not used[val]:\n",
        "      used[val]= True\n",
        "\n",
        "      board[int(step/n)][step%n]=val\n",
        "\n",
        "      if solve(n, step+1):\n",
        "        return True\n",
        "      board[int(step/n)][step%n]=0\n",
        "      used[val] = False\n",
        "\n",
        "  return False\n",
        "\n",
        "\n",
        "\n",
        "# implementing the heruistic, we can validate the partial results-----------------------------------------------\n",
        "\n",
        "# def validUpTo(n, step):\n",
        "#   \"\"\" Determine if valid so far\"\"\"\n",
        "\n",
        "#   for r in range(n):    # checking rows \n",
        "\n",
        "#     if step==(r+1)*n-1:\n",
        "\n",
        "#       return sum(board[r]) == magicSum[0]   # if row sum equal to magic\n",
        "  \n",
        "#   for c in range(n):     # checking cols\n",
        "\n",
        "#     if step == n*(n-1)+c:\n",
        "\n",
        "#       total=0\n",
        "#       for r in range(n):\n",
        "#         total += board[r][c]\n",
        "#       return total== magicSum[0] # if col sum equl to magic\n",
        "\n",
        "\n",
        "#   return True\n",
        "#---------------------------------------------\n",
        "\n",
        "def validUpTo(n,step):\n",
        "    \"\"\"Determine if valid so far. Rewritten to take advantage of fact that\n",
        "    you don't need to check each row/col up to step, but only the row or\n",
        "    column at step. Improves performance by about 50%\"\"\"\n",
        "\n",
        "    if step % n == n-1:  # for every step multiple of 3 it will execute this statement for rows\n",
        "        r = (step + 1 - n)/n\n",
        "        if sum(board[r]) != magicSum[0]:\n",
        "            return False\n",
        "\n",
        "    if step >= n*n-n:\n",
        "        c = step % n\n",
        "        total = 0\n",
        "        for r in range(n):\n",
        "            total += board[r][c]\n",
        "        if total != magicSum[0]:\n",
        "            return False\n",
        "\n",
        "    return True\n",
        "\n",
        "\n",
        "\n",
        "def solveit(n, step=0):\n",
        "  \"\"\" complete given step in magic square board\"\"\"\n",
        "  if step ==n**2:\n",
        "    return isValid(n)\n",
        "  \n",
        "  for val in range(1, n**2+1):\n",
        "    if not used[val]:\n",
        "      used[val]=True\n",
        "      \n",
        "      board[int (step/n)][step%n]=val\n",
        "\n",
        "      if validUpTo(n, step) and solveit(n, step=1):\n",
        "\n",
        "        return True\n",
        "      board[int(step/n)][step%n]=0\n",
        "      used[val]= False\n",
        "  return False\n",
        "\n",
        "\n",
        "\n"
      ]
    },
    {
      "cell_type": "code",
      "execution_count": null,
      "metadata": {
        "id": "gV-NxWMT4ECj"
      },
      "outputs": [],
      "source": [
        "initialize(3)"
      ]
    },
    {
      "cell_type": "code",
      "execution_count": null,
      "metadata": {
        "colab": {
          "base_uri": "https://localhost:8080/"
        },
        "id": "ezMOYE9OCRt3",
        "outputId": "25676717-ef99-42b6-c4ac-61171fd15499"
      },
      "outputs": [
        {
          "name": "stdout",
          "output_type": "stream",
          "text": [
            " 0\n",
            " 0\n",
            " 0\n",
            " 0\n",
            " 0\n",
            " 0\n",
            " 0\n",
            " 0\n",
            " 0\n"
          ]
        }
      ],
      "source": [
        "output()\n"
      ]
    },
    {
      "cell_type": "code",
      "execution_count": null,
      "metadata": {
        "colab": {
          "base_uri": "https://localhost:8080/"
        },
        "id": "AKKbT251Ce8_",
        "outputId": "45e4cbca-5e48-43eb-8ee0-fca42ca253d5"
      },
      "outputs": [
        {
          "data": {
            "text/plain": [
              "[[0, 0, 0], [0, 0, 0], [0, 0, 0]]"
            ]
          },
          "execution_count": 46,
          "metadata": {},
          "output_type": "execute_result"
        }
      ],
      "source": [
        "board"
      ]
    },
    {
      "cell_type": "code",
      "execution_count": null,
      "metadata": {
        "colab": {
          "base_uri": "https://localhost:8080/"
        },
        "id": "nCoroypzEgpc",
        "outputId": "1812b856-d350-4448-9601-2d55007ee18b"
      },
      "outputs": [
        {
          "data": {
            "text/plain": [
              "[False, False, False, False, False, False, False, False, False, False]"
            ]
          },
          "execution_count": 47,
          "metadata": {},
          "output_type": "execute_result"
        }
      ],
      "source": [
        "used"
      ]
    },
    {
      "cell_type": "code",
      "execution_count": null,
      "metadata": {
        "colab": {
          "base_uri": "https://localhost:8080/"
        },
        "id": "baQERSphEjB5",
        "outputId": "af4327b3-7bdf-471b-a42b-d04a7eac741e"
      },
      "outputs": [
        {
          "data": {
            "text/plain": [
              "True"
            ]
          },
          "execution_count": 48,
          "metadata": {},
          "output_type": "execute_result"
        }
      ],
      "source": [
        "solve(3)"
      ]
    },
    {
      "cell_type": "code",
      "execution_count": null,
      "metadata": {
        "colab": {
          "base_uri": "https://localhost:8080/"
        },
        "id": "OWq_GnM3Gl2r",
        "outputId": "e557a0bd-547f-4a52-c3ef-10fc7cd1a86c"
      },
      "outputs": [
        {
          "name": "stdout",
          "output_type": "stream",
          "text": [
            " 2\n",
            " 7\n",
            " 6\n",
            "\n",
            " 9\n",
            " 5\n",
            " 1\n",
            "\n",
            " 4\n",
            " 3\n",
            " 8\n",
            "\n"
          ]
        }
      ],
      "source": [
        "output()"
      ]
    },
    {
      "cell_type": "markdown",
      "metadata": {
        "id": "soR9tfE5QKKG"
      },
      "source": [
        "K-D Trees"
      ]
    },
    {
      "cell_type": "code",
      "source": [
        "maxValue=  2147483467\n",
        "minValue= -2147483648\n",
        "\n",
        "HORIZONTAL=0              # horizontal partitioning\n",
        "VERTICAL=1                # vertical partitioning\n",
        "\n",
        "X_ = 0\n",
        "Y_ = 1\n",
        "\n",
        "class Region:\n",
        "\n",
        "  \"\"\" Representdes region in cartesion space\"\"\"\n",
        "  def __init__(self, xmin, ymin, xmax, ymax):\n",
        "    \"\"\" creates region from (xmin, ymin) to (xmax, ymax)\"\"\"\n",
        "    self.x_min= xmin\n",
        "    self.y_min=ymin\n",
        "    self.x_max=xmax\n",
        "    self.y_max=ymax\n",
        "\n",
        "  def copy(self):\n",
        "    \"\"\" return copy of region\"\"\"\n",
        "    return Region(self.x_min, self.y_min, self.x_max, self.y_max)\n",
        "\n",
        "# default maximum region\n",
        "maxRegion= Region(minValue, minValue, maxValue, maxValue)\n",
        "\n",
        "class KDNode:\n",
        "\n",
        "  def __init__(self, pt, orient, region= maxRegion):\n",
        "    \"\"\" This creates empty kd node\"\"\"\n",
        "    self.point= pt\n",
        "    self.orient=orient\n",
        "    self.above=None\n",
        "    self.below= None\n",
        "    self.region=region\n",
        "  \n",
        "  def createChild(self, pt, below):\n",
        "    \"\"\"create a child node either above or below given node with pt\"\"\"\n",
        "    r= self.region.copy()\n",
        "    if self.orient==VERTICAL:\n",
        "      if below:\n",
        "        r.x_max=self.point[X_]\n",
        "      else:\n",
        "        r.x_min=self.point[X_]\n",
        "\n",
        "    else:\n",
        "      if below:\n",
        "        r.y_max=self.point[Y_]\n",
        "      else:\n",
        "        r.y_min=self.point[Y_]\n",
        "    return KDNode(pt, 1-self.orient,r)\n",
        "\n",
        "  \n",
        "  def distance(self, pt):\n",
        "    \"\"\" compute distance from self to pt\"\"\"\n",
        "    if pt:\n",
        "      return ((self.point[X_]-pt[X_])**2 + (self.point[Y_]-pt[Y_])**2)**0.5\n",
        "  \n",
        "  def isBelow(self, pt):\n",
        "    \"\"\" Is point below current node\"\"\"\n",
        "    if self.orient==VERTICAL:\n",
        "      return pt[X_]< self.point[X_]\n",
        "    return pt[Y_]< self.point[Y_] \n",
        "\n",
        "  \n",
        "  \n",
        "  def isAbove(self,p):\n",
        "    \"\"\" Determine if point is below partitioning line\"\"\"\n",
        "    if self.orient==VERTICAL:\n",
        "      return p[X_] >= self.point[X_]\n",
        "    return p[Y_] >= self.point[Y_]\n",
        "\n",
        "\n",
        "  def add(self, pt):\n",
        "    \"\"\"Add point to the KDnode treee rooted at this node\"\"\"\n",
        "    if self.point== pt:\n",
        "      return \n",
        "    \n",
        "    if self.isBelow(pt):\n",
        "      if self.below: \n",
        "        self.below.add(pt)\n",
        "      else:\n",
        "        self.below=self.createChild(pt, True)\n",
        "    else:\n",
        "      if self.above:\n",
        "        self.above.add(pt)\n",
        "      else:\n",
        "        self.above=self.createChild(pt, False)\n",
        "\n",
        "  def nearest(self, mind, p):\n",
        "     \"\"\" return closest node from given subtree to point\"\"\"\n",
        "     d= self.distance(p)\n",
        "     result=None\n",
        "\n",
        "     if(d<mind):\n",
        "       result=self\n",
        "       mind=d\n",
        "\n",
        "     if self.orient== VERTICAL:\n",
        "        dp= abs(self.point[X_] -p[X_])\n",
        "     else:\n",
        "        dp= abs(self.point[Y_]- p[Y_])\n",
        "\n",
        "     if dp< mind:\n",
        "       if self.above:\n",
        "         pt=self.above.nearest(mind, p)\n",
        "         if pt:\n",
        "           md= pt.distance(p)\n",
        "           if md<mind:\n",
        "             result=pt \n",
        "             mind= md\n",
        "       if self.below:\n",
        "          pt=self.below.nearest(mind,p)\n",
        "          if pt:\n",
        "            md= pt.distance(p)\n",
        "            if md<mind:\n",
        "              result=pt\n",
        "            mind= md\n",
        "\n",
        "       else:\n",
        "        pt=None\n",
        "        if self.isAbove(p) and self.above:\n",
        "          pt=self.above.nearest(mind,p)\n",
        "        elif self.isBelow(p) and self.below:\n",
        "          pt= self.below.nearest(mind, p)\n",
        "        \n",
        "        if pt:\n",
        "          return pt\n",
        "\n",
        "       return result\n",
        "\n",
        "\n",
        "class KDTree:\n",
        "\n",
        "  \n",
        "  def __init__(self):\n",
        "    \"\"\" creat an empty kdTree\"\"\"\n",
        "    self.root=None\n",
        "\n",
        "  \n",
        "  \n",
        "  def add(self,pt):\n",
        "    \"\"\" Add point to the KD-Tree\"\"\"\n",
        "    if self.root:\n",
        "      self.root.add(pt)\n",
        "    else:\n",
        "      self.root=KDNode(pt, VERTICAL)\n",
        "\n",
        "  \n",
        "  def find(self, p):\n",
        "    \"\"\" Find point in KD treee with 5 units\"\"\"\n",
        "    \n",
        "    n=self.root\n",
        "    while n:\n",
        "      if n.distance(p)<5:\n",
        "        return n \n",
        "      \n",
        "      if n.isBelow(p):\n",
        "        n=n.below\n",
        "\n",
        "      else:\n",
        "        n=n.above\n",
        "\n",
        "    return n\n",
        "\n",
        "  \n",
        "  def nearest(self, p):\n",
        "    \"\"\" Return closest node in KD tree to given point\"\"\"\n",
        "    if self.root is None: return None\n",
        "\n",
        "    # find node which would have been parent of point\n",
        "\n",
        "    n= self.root\n",
        "    while n.point!=p:\n",
        "      if n.isBelow(p):\n",
        "        if n.below:\n",
        "          n=n.below \n",
        "        else:\n",
        "          break \n",
        "      else:\n",
        "        if n.above:\n",
        "          n= n.above \n",
        "        else: \n",
        "          break\n",
        "\n",
        "    mind= n.distance(p)\n",
        "    better= self.root.nearest(mind, p)\n",
        "    if better: \n",
        "      return better\n",
        "\n",
        "    return n "
      ],
      "metadata": {
        "id": "JpZoGi5IjfZ8"
      },
      "execution_count": null,
      "outputs": []
    },
    {
      "cell_type": "code",
      "source": [
        "kd=KDTree()"
      ],
      "metadata": {
        "id": "1-6pk41Ukfij"
      },
      "execution_count": null,
      "outputs": []
    },
    {
      "cell_type": "code",
      "source": [
        "kd.add([10,10])"
      ],
      "metadata": {
        "id": "0ayGt0RF6HES"
      },
      "execution_count": null,
      "outputs": []
    },
    {
      "cell_type": "code",
      "source": [
        "kd.add([20,20])"
      ],
      "metadata": {
        "id": "NeAR6jw96K3o"
      },
      "execution_count": null,
      "outputs": []
    },
    {
      "cell_type": "code",
      "source": [
        "kd.root.orient"
      ],
      "metadata": {
        "colab": {
          "base_uri": "https://localhost:8080/"
        },
        "id": "yn3Mf2vp6NFj",
        "outputId": "df3fdb8f-751f-4e45-a14b-16315445a315"
      },
      "execution_count": null,
      "outputs": [
        {
          "output_type": "execute_result",
          "data": {
            "text/plain": [
              "1"
            ]
          },
          "metadata": {},
          "execution_count": 67
        }
      ]
    },
    {
      "cell_type": "code",
      "source": [
        "kd.root.region.x_min"
      ],
      "metadata": {
        "colab": {
          "base_uri": "https://localhost:8080/"
        },
        "id": "TJKwXASb6fB_",
        "outputId": "b9962cef-9d6b-49cc-b221-bfd960daec2d"
      },
      "execution_count": null,
      "outputs": [
        {
          "output_type": "execute_result",
          "data": {
            "text/plain": [
              "-2147483648"
            ]
          },
          "metadata": {},
          "execution_count": 68
        }
      ]
    },
    {
      "cell_type": "code",
      "source": [
        "kd.root.region.x_max"
      ],
      "metadata": {
        "colab": {
          "base_uri": "https://localhost:8080/"
        },
        "id": "TF8TFqEh68IT",
        "outputId": "75eb390f-8646-48d9-8c47-70573fd39955"
      },
      "execution_count": null,
      "outputs": [
        {
          "output_type": "execute_result",
          "data": {
            "text/plain": [
              "2147483467"
            ]
          },
          "metadata": {},
          "execution_count": 69
        }
      ]
    },
    {
      "cell_type": "code",
      "source": [
        "kd.root.point"
      ],
      "metadata": {
        "colab": {
          "base_uri": "https://localhost:8080/"
        },
        "id": "WCpWAChy8R6E",
        "outputId": "03a31a85-f73e-4518-f9a7-b436bee7f323"
      },
      "execution_count": null,
      "outputs": [
        {
          "output_type": "execute_result",
          "data": {
            "text/plain": [
              "[10, 10]"
            ]
          },
          "metadata": {},
          "execution_count": 70
        }
      ]
    },
    {
      "cell_type": "code",
      "source": [
        "!pip install tk"
      ],
      "metadata": {
        "colab": {
          "base_uri": "https://localhost:8080/"
        },
        "id": "4fW4xwVf80PL",
        "outputId": "3fc1f887-4f58-47cd-8713-5b62da8fee7d"
      },
      "execution_count": null,
      "outputs": [
        {
          "output_type": "stream",
          "name": "stdout",
          "text": [
            "Collecting tk\n",
            "  Downloading tk-0.1.0-py3-none-any.whl (3.9 kB)\n",
            "Installing collected packages: tk\n",
            "Successfully installed tk-0.1.0\n"
          ]
        }
      ]
    },
    {
      "cell_type": "code",
      "source": [
        "#x  ---> increases\n",
        "#y   |   increases\n",
        "#    +"
      ],
      "metadata": {
        "id": "CnpIfEn0AeLq"
      },
      "execution_count": null,
      "outputs": []
    },
    {
      "cell_type": "code",
      "source": [],
      "metadata": {
        "id": "lKgn-4dMBMAu"
      },
      "execution_count": null,
      "outputs": []
    },
    {
      "cell_type": "markdown",
      "source": [
        "Graph Algo "
      ],
      "metadata": {
        "id": "WQrscpwnHpcs"
      }
    },
    {
      "cell_type": "markdown",
      "source": [
        "Adjacency matrix"
      ],
      "metadata": {
        "id": "SudoJKVUwtIa"
      }
    },
    {
      "cell_type": "code",
      "source": [
        "import abc\n",
        "import numpy as np\n",
        "\n",
        "# defining an abstract base class, implementation needs to be provided in the \n",
        "# inheriter class\n",
        "# service as an interface\n",
        "\n",
        "class Graph(abc.ABC):\n",
        "  \n",
        "  def __init__(self, numVertices, directed=False):\n",
        "    self.numVertices= numVertices\n",
        "    self.directed= directed\n",
        "  \n",
        "  @abc.abstractmethod\n",
        "  def add_edge(self, v1, v2, weight):\n",
        "    pass\n",
        " \n",
        "  @abc.abstractmethod\n",
        "  def get_adjacent_vertices(self, v):\n",
        "    pass\n",
        "  \n",
        "  @abc.abstractmethod\n",
        "  def get_indegree(self, v):  # returns no. of edges incident on a vertex\n",
        "    pass\n",
        "\n",
        "  @abc.abstractmethod\n",
        "  def display(self):\n",
        "    pass\n",
        "  \n",
        "  @abc.abstractmethod\n",
        "\n",
        "  def get_edge_weight(self,v1,v2):\n",
        "    pass\n",
        "\n",
        "\n",
        "# implementing the abstract class\n",
        "\n",
        "class AdjacencyMatrixGraph(Graph):\n",
        "  \n",
        "  def __init__(self, numVertices, directed=False):\n",
        "    super(AdjacencyMatrixGraph,self).__init__(numVertices, directed)\n",
        "    self.matrix= np.zeros((numVertices, numVertices))\n",
        "\n",
        "  def add_edge(self, v1, v2, weight=1):\n",
        "    if v1 >= self.numVertices or v2 >= self.numVertices or v1<0 or v2< 0:\n",
        "      raise ValueError(\"Vertices %d and %d are out of bound\" %(v1, v2))\n",
        "    \n",
        "\n",
        "    if weight<1:\n",
        "      raise ValueError(\"An Edge cannot have weight <1\")\n",
        "    \n",
        "    self.matrix[v1][v2]=weight\n",
        "\n",
        "    if self.directed==False:\n",
        "      self.matrix[v2][v1]= weight # undirect grap are symmetric\n",
        "\n",
        "  def get_adjacent_vertices(self, v):\n",
        "    if v<0 or v>=self.numVertices:\n",
        "      raise ValueError(\"cannot access vertex %d\" %v)\n",
        "\n",
        "\n",
        "    adjacent_vertices= []\n",
        "    for i in range(self.numVertices):\n",
        "      if self.matrix[v][i]>0:\n",
        "        adjacent_vertices.append(i)\n",
        "    print(adjacent_vertices)\n",
        "    return adjacent_vertices\n",
        "  \n",
        "\n",
        "  def get_indegree(self, v):\n",
        "      if v<0 or v>=self.numVertices:\n",
        "        raise ValueError(\"Cannot access vertex %d\" %v)\n",
        "\n",
        "      indegree=0\n",
        "      for i in range(self.numVertices):\n",
        "        if self.matrix[i][v]>0:\n",
        "          indegree+=1\n",
        "\n",
        "      return indegree\n",
        "\n",
        "  def get_edge_weight(self, v1, v2):\n",
        "    return self.matrix[v1][v2]\n",
        "\n",
        "\n",
        "  def display(self):\n",
        "    for i in range(self.numVertices):\n",
        "      for v in self.get_adjacent_vertices(i):   # becoz it contains list of ints and not nodes\n",
        "        print(i,\"--->\",v)\n",
        "\n",
        "\n",
        "      \n",
        "\n",
        "\n",
        "\n"
      ],
      "metadata": {
        "id": "OjViAj57Hq18"
      },
      "execution_count": null,
      "outputs": []
    },
    {
      "cell_type": "code",
      "source": [
        "import numpy as np\n",
        "matrix= np.zeros((5,5))"
      ],
      "metadata": {
        "id": "nVrzFyrwTzCl"
      },
      "execution_count": null,
      "outputs": []
    },
    {
      "cell_type": "code",
      "source": [
        "matrix[0][1]=1\n",
        "matrix[0][2]=1\n",
        "matrix[2][3]=1\n"
      ],
      "metadata": {
        "id": "xb5vOPEeT8I1"
      },
      "execution_count": null,
      "outputs": []
    },
    {
      "cell_type": "code",
      "source": [
        "matrix"
      ],
      "metadata": {
        "colab": {
          "base_uri": "https://localhost:8080/"
        },
        "id": "0clka_BWivBN",
        "outputId": "d1a64027-163b-41c9-c40f-35961bb86ef1"
      },
      "execution_count": null,
      "outputs": [
        {
          "output_type": "execute_result",
          "data": {
            "text/plain": [
              "array([[0., 1., 1., 0., 0.],\n",
              "       [0., 0., 0., 0., 0.],\n",
              "       [0., 0., 0., 1., 0.],\n",
              "       [0., 0., 0., 0., 0.],\n",
              "       [0., 0., 0., 0., 0.]])"
            ]
          },
          "metadata": {},
          "execution_count": 20
        }
      ]
    },
    {
      "cell_type": "code",
      "source": [
        "adjacent_list=[]\n",
        "v=3\n",
        "for i in range(4):\n",
        "  if matrix[v][i]==1:\n",
        "    adjacent_list.append(1)\n",
        "adjacent_list"
      ],
      "metadata": {
        "colab": {
          "base_uri": "https://localhost:8080/"
        },
        "id": "9CgLuuiqkq_E",
        "outputId": "7fc3eacc-af9b-497f-bb60-c9671ca866f6"
      },
      "execution_count": null,
      "outputs": [
        {
          "output_type": "execute_result",
          "data": {
            "text/plain": [
              "[]"
            ]
          },
          "metadata": {},
          "execution_count": 25
        }
      ]
    },
    {
      "cell_type": "code",
      "source": [
        "g= AdjacencyMatrixGraph(4)"
      ],
      "metadata": {
        "id": "mXSz7Q7xT9Y8"
      },
      "execution_count": null,
      "outputs": []
    },
    {
      "cell_type": "code",
      "source": [
        "g.add_edge(0,1)"
      ],
      "metadata": {
        "id": "1uW0v9kmgg6z"
      },
      "execution_count": null,
      "outputs": []
    },
    {
      "cell_type": "code",
      "source": [
        "g.add_edge(0,2)"
      ],
      "metadata": {
        "id": "Cd58kdcLgjuj"
      },
      "execution_count": null,
      "outputs": []
    },
    {
      "cell_type": "code",
      "source": [
        "g.add_edge(2,3)"
      ],
      "metadata": {
        "id": "2LtQNykNhTZ6"
      },
      "execution_count": null,
      "outputs": []
    },
    {
      "cell_type": "code",
      "source": [
        "g.display()"
      ],
      "metadata": {
        "colab": {
          "base_uri": "https://localhost:8080/"
        },
        "id": "mlx41AmahWDm",
        "outputId": "0262b6dd-7647-4769-b9a3-c6512aff9abf"
      },
      "execution_count": null,
      "outputs": [
        {
          "output_type": "stream",
          "name": "stdout",
          "text": [
            "[1, 2]\n",
            "0 ---> 1\n",
            "0 ---> 2\n",
            "[0]\n",
            "1 ---> 0\n",
            "[0, 3]\n",
            "2 ---> 0\n",
            "2 ---> 3\n",
            "[2]\n",
            "3 ---> 2\n"
          ]
        }
      ]
    },
    {
      "cell_type": "markdown",
      "source": [
        "Adjacency Set\n",
        "\n",
        "\n",
        "\n"
      ],
      "metadata": {
        "id": "EpJQMDM2w1dg"
      }
    },
    {
      "cell_type": "markdown",
      "source": [
        "Abstract graph will remain the same"
      ],
      "metadata": {
        "id": "yBGBiNT7yF2l"
      }
    },
    {
      "cell_type": "code",
      "source": [
        "# each node contains an id and a set \n",
        "import abc\n",
        "import numpy as np\n",
        "\n",
        "# defining an abstract base class, implementation needs to be provided in the \n",
        "# inheriter class\n",
        "# service as an interface\n",
        "\n",
        "class Graph(abc.ABC):\n",
        "  \n",
        "  def __init__(self, numVertices, directed=False):\n",
        "    self.numVertices= numVertices\n",
        "    self.directed= directed\n",
        "  \n",
        "  @abc.abstractmethod\n",
        "  def add_edge(self, v1, v2, weight):D\n",
        "    pass\n",
        " \n",
        "  @abc.abstractmethod\n",
        "  def get_adjacent_vertices(self, v):\n",
        "    pass\n",
        "  \n",
        "  @abc.abstractmethod\n",
        "  def get_indegree(self, v):  # returns no. of edges incident on a vertex\n",
        "    pass\n",
        "\n",
        "  @abc.abstractmethod\n",
        "  def display(self):\n",
        "    pass\n",
        "\n",
        "class Node:\n",
        "  def __init__(self,vertexId):\n",
        "    self.vertexId= vertexId\n",
        "    self.adjacency_set=set()\n",
        "\n",
        "  def add_edge(self, v):  # where v is the other end of the edge\n",
        "    if self.vertexId==v:\n",
        "      raise ValueError(\"The Vertex %d cannot be adjancent to itself \" % v)\n",
        "    self.adjacency_set.add(v)\n",
        "\n",
        "  def get_adjacent_vertices(self):\n",
        "    return sorted(self.adjacency_set)\n",
        "\n",
        "\n",
        "class AdjacencySetGraph(Graph):\n",
        "\n",
        "  def __init__(self, numVertices, directed=False):\n",
        "    super(AdjacencySetGraph, self).__init__(numVertices, directed)\n",
        "    \n",
        "    self.vertex_list=[]\n",
        "    \n",
        "    for i in range(numVertices):\n",
        "      self.vertex_list.append(Node(i))\n",
        "\n",
        "  def add_edge(self, v1, v2, weight=1):\n",
        "    if v1 >=self.numVertices or v2 >= self.numVertices or v1<0 or v2<0:\n",
        "      raise ValueError(\"Vertices %d and %d are out of bounds\" %( v1, v2))\n",
        "\n",
        "    if weight !=1 :\n",
        "      raise ValueError(\"An adjacent set cannot  represent negative weight\")\n",
        "    \n",
        "    self.vertex_list[v1].add_edge(v2)\n",
        "    if self.directed==False:\n",
        "      self.vertex_list[v2].add_edge(v1)\n",
        "\n",
        "  def get_adjacent_vertices(self, v):\n",
        "    if v<0 or v>= self.numVertices:\n",
        "      raise ValueError(\"Cannot access vertex %d\" %v)\n",
        "\n",
        "    return self.vertex_list[v].get_adjacent_vertices()\n",
        "\n",
        "\n",
        "  def get_indegree(self, v):\n",
        "    if v<0 or v>=self.numVertices:\n",
        "      raise ValueError(\"Cannot access vertex %d\" % v)\n",
        "\n",
        "    indegree=0\n",
        "  \n",
        "    for i in range(self.numVertices):\n",
        "      if v in self.get_adjacent_vertices(i):\n",
        "        indegree= indegree+1\n",
        "\n",
        "    return indegree\n",
        "\n",
        "\n",
        "  def get_edge_weight(self, v1, v2):\n",
        "    return 1\n",
        "\n",
        "\n",
        "  def display(self):\n",
        "    for i in range(self.numVertices):\n",
        "      for v in self.get_adjacent_vertices(i):\n",
        "        print(i,\"---->\", v)\n"
      ],
      "metadata": {
        "id": "YmkO7hRhhcjB"
      },
      "execution_count": null,
      "outputs": []
    },
    {
      "cell_type": "code",
      "source": [
        "g= AdjacencySetGraph(4, directed=False)\n",
        "g.add_edge(0,1)\n",
        "g.add_edge(0,2)\n",
        "g.add_edge(2,3)\n",
        "\n",
        "for i in range(4):\n",
        "  print(\"Adjance to: \", i , g.get_adjacent_vertices(i))\n",
        "\n",
        "for i in range(4):\n",
        "  print(\"indegree\", i, g.get_indegree(i))\n",
        "\n",
        "\n",
        "for i in range(4):\n",
        "  for j in g.get_adjacent_vertices(i):\n",
        "    print(\"Edge Weight\", i, \"\", j, \"weight\", g.get_edge_weight(i,j))\n",
        "\n",
        "g.display()"
      ],
      "metadata": {
        "colab": {
          "base_uri": "https://localhost:8080/"
        },
        "id": "6zfZkPb0PJ9g",
        "outputId": "e7880996-692f-4651-cad6-364e3567a56d"
      },
      "execution_count": null,
      "outputs": [
        {
          "output_type": "stream",
          "name": "stdout",
          "text": [
            "Adjance to:  0 [1, 2]\n",
            "Adjance to:  1 [0]\n",
            "Adjance to:  2 [0, 3]\n",
            "Adjance to:  3 [2]\n",
            "indegree 0 2\n",
            "indegree 1 1\n",
            "indegree 2 2\n",
            "indegree 3 1\n",
            "Edge Weight 0  1 weight 1\n",
            "Edge Weight 0  2 weight 1\n",
            "Edge Weight 1  0 weight 1\n",
            "Edge Weight 2  0 weight 1\n",
            "Edge Weight 2  3 weight 1\n",
            "Edge Weight 3  2 weight 1\n",
            "0 ----> 1\n",
            "0 ----> 2\n",
            "1 ----> 0\n",
            "2 ----> 0\n",
            "2 ----> 3\n",
            "3 ----> 2\n"
          ]
        }
      ]
    },
    {
      "cell_type": "markdown",
      "source": [
        "Breadth First Search "
      ],
      "metadata": {
        "id": "vEkPv_Gan81a"
      }
    },
    {
      "cell_type": "code",
      "source": [
        "import queue\n",
        "def breadth_first(graph, start=0):\n",
        "  queu=queue.Queue()\n",
        "  queu.put(start)\n",
        "\n",
        "  visited= np.zeros(graph.numVertices)\n",
        "\n",
        "  while not queu.empty():\n",
        "    vertex=queu.get()\n",
        "    if visited[vertex]==1:\n",
        "      continue\n",
        "    print(\"Visit\", vertex)\n",
        "    visited[vertex]=1\n",
        "\n",
        "    for v in graph.get_adjacent_vertices(vertex):\n",
        "      if visited[v] !=1:\n",
        "        queu.put(v)"
      ],
      "metadata": {
        "id": "lUL6CdFcmcm2"
      },
      "execution_count": null,
      "outputs": []
    },
    {
      "cell_type": "code",
      "source": [
        "g= AdjacencyMatrixGraph(9)\n",
        "g.add_edge(0,1)\n",
        "g.add_edge(1,2)\n",
        "g.add_edge(2,7)\n",
        "g.add_edge(2,4)\n",
        "g.add_edge(2,3)\n",
        "g.add_edge(1,5)\n",
        "g.add_edge(5,6)\n",
        "g.add_edge(6,3)\n",
        "g.add_edge(3,4)\n",
        "g.add_edge(6,8)"
      ],
      "metadata": {
        "id": "FabqyXS7wThS"
      },
      "execution_count": null,
      "outputs": []
    },
    {
      "cell_type": "code",
      "source": [
        "breadth_first(g, 2)"
      ],
      "metadata": {
        "colab": {
          "base_uri": "https://localhost:8080/"
        },
        "id": "bK_EPqIozwy8",
        "outputId": "a1ee869f-0c53-4daf-f220-c4e8c4d23497"
      },
      "execution_count": null,
      "outputs": [
        {
          "output_type": "stream",
          "name": "stdout",
          "text": [
            "Visit 2\n",
            "[1, 3, 4, 7]\n",
            "Visit 1\n",
            "[0, 2, 5]\n",
            "Visit 3\n",
            "[2, 4, 6]\n",
            "Visit 4\n",
            "[2, 3]\n",
            "Visit 7\n",
            "[2]\n",
            "Visit 0\n",
            "[1]\n",
            "Visit 5\n",
            "[1, 6]\n",
            "Visit 6\n",
            "[3, 5, 8]\n",
            "Visit 8\n",
            "[6]\n"
          ]
        }
      ]
    },
    {
      "cell_type": "code",
      "source": [
        "def depth_first(graph, visited,current=0):\n",
        "  if visited[current]==1:\n",
        "    return \n",
        "  visited[current]=1\n",
        "  print(\"Visited:\", current)\n",
        "  for vertex in graph.get_adjacent_vertices(current):\n",
        "    depth_first(graph, visited, vertex)"
      ],
      "metadata": {
        "id": "tFUIBvVizzKY"
      },
      "execution_count": null,
      "outputs": []
    },
    {
      "cell_type": "markdown",
      "source": [
        "Topological Sort\n"
      ],
      "metadata": {
        "id": "JcySlbIGlbdH"
      }
    },
    {
      "cell_type": "code",
      "source": [
        "\n",
        "def topological_sort(graph):\n",
        "  queue=Queue()  # those vertices having indegree=0\n",
        "  indgreeMap={}\n",
        "\n",
        "  for i in range(graph.numVertices):\n",
        "    indegreeMap[i]= graph.get_indegree(i)\n",
        "\n",
        "    if indegreeMap[i]==0:\n",
        "      queue.put(i)  # starting with the one having indegree=0\n",
        "\n",
        "  sortedList=[]\n",
        "\n",
        "  while not queue.empty():\n",
        "    vertex=queue.get()\n",
        "    sortedList.append(vertex)\n",
        "    \n",
        "    for v in graph.get_adjacent_vertices(vertex):\n",
        "      indegreeMap[v]=indegreeMap[v]-1\n",
        "\n",
        "      if indegreeMap[v]==0:\n",
        "        queue.put(v)\n",
        "\n",
        "  if len(sortedList) != graph.numVertices:\n",
        "    raise ValueError(\"This Graph has a cycle\")"
      ],
      "metadata": {
        "id": "w-pWnca7lgyQ"
      },
      "execution_count": null,
      "outputs": []
    },
    {
      "cell_type": "code",
      "source": [
        "# each node contains an id and a set \n",
        "import abc\n",
        "import numpy as np\n",
        "\n",
        "\n",
        "class Graph(abc.ABC):\n",
        "  def __init__(self, numVertices, directed=False):\n",
        "    self.numVertices= numVertices\n",
        "    self.directed= directed\n",
        "  \n",
        "    @abc.abstractMethod\n",
        "    def add_edge(self, v1, v2, weight):\n",
        "      pass\n",
        "    \n",
        "    @abc.abstractmethod\n",
        "    def get_adjacent_vertices(self,v):\n",
        "      pass\n",
        "\n",
        "    @abc.abstractmethod\n",
        "    def display(self):\n",
        "      pass\n",
        "    \n",
        "    @abc.abstractmethod\n",
        "    def get_indegree(self,v):\n",
        "      pass\n",
        "\n",
        "\n",
        "class AdjancencyMatrixGraph(Graph):\n",
        "  def __init__(self,numVertices, directed=False):\n",
        "    super(AdjancencyMatrixGraph, self).__init__(numVertices,directed)\n",
        "    self.matrix=np.zeros(numVertices,numVertices)\n",
        "\n",
        "  def add_edge(self, v1,v2, weight=1):\n",
        "    if v1<0 or v2<0 or v1>self.numVertices or v2>self.numVertices:\n",
        "      raise ValueError(\"Check the value range\")\n",
        "\n",
        "\n",
        "    if weight<1:\n",
        "      raise ValueError(\"Weight cannot be less than 1\")\n",
        "\n",
        "    self.matrix[v1][v2]=weight\n",
        "    if directed==True:\n",
        "      self.matrix[v2][v1]=weight\n",
        "\n",
        "  def get_adjacent_vertices(self, v):\n",
        "\n",
        "\n",
        "\n",
        "\n",
        "    \n",
        "\n",
        "  \n",
        "\n"
      ],
      "metadata": {
        "id": "d3n8YnTRV91U"
      },
      "execution_count": null,
      "outputs": []
    },
    {
      "cell_type": "code",
      "source": [
        "import abc\n",
        "import numpy\n",
        "\n",
        "\n",
        "class Graph(abc.ABC):\n",
        "  def __init__(self, numVertices, directed=False):\n",
        "    self.numVertices = numVertices\n",
        "    self.directed= directed\n",
        "  \n",
        "  @abc.abstractmethod\n",
        "  def add_edge(self, v1, v2, weight):\n",
        "    pass\n",
        "    \n",
        "  @abc.abstractmethod\n",
        "  def get_indegree(self, v):\n",
        "    pass\n",
        "\n",
        "  @abc.abstractmethod\n",
        "  def get_adjacent_vertices(self, v):\n",
        "    pass\n",
        "\n",
        "  \n",
        "class AdjacentMatrix(Graph):\n",
        "  def __init__(self, numVertices, directed=False):\n",
        "    # super call goes inside constructor\n",
        "    super(AdjacentMatrix, self).__init__(numVertices, directed)\n",
        "    self.matrix= numpy.zeros(numVertices, numVertices)\n",
        "\n",
        "  def add_edge(self, v1, v2, weight=1):\n",
        "    if v1<0 or v2<0 or v1>self.numVertices or v2> self.numVertices:\n",
        "      raise ValueError(\"Check the vertices value\")\n",
        "    \n",
        "    if weight <0:\n",
        "      raise ValueError(\"Weight cannot be negative\")\n",
        "\n",
        "    self.matrix[v1][v2]=weight\n",
        "\n",
        "    if self.directed==True:\n",
        "      self.matrix[v2][v1]=weight\n",
        "\n",
        "  def get_adjacent_vertices(self, v):\n",
        "    adjacent_list=[]\n",
        "\n",
        "    if v<0 or v>self.numVertices:\n",
        "      raise ValueError(\"check the input vertex value\")\n",
        "    \n",
        "    for i in range(self.numVertices):\n",
        "      if self.matrix[v][i]>0:   #v is the vertex in consid +ive means edge is there\n",
        "        adjacent_list.append(i)\n",
        "\n",
        "    return adjacent_list\n",
        "\n",
        "  def display():\n",
        "    for i in range(self.numVertices):\n",
        "      for j in self.get_adjacent_vertices(i):     #iterating over the list of returned vertices\n",
        "          print(i,\"----->\", j)\n",
        "\n",
        "  \n",
        "  def get_indegree(self, v):\n",
        "    if v<0  or v>self.numVertices:\n",
        "      raise ValueError(\"Check the input Vertex value\")\n",
        "    indgree=0\n",
        "    deg={}\n",
        "    for i in range(self.numVertices):\n",
        "       for j in self.get_adjacent_vertices(i):\n",
        "         indgree+=1\n",
        "       deg[i]=indgree\n",
        "        \n",
        "\n",
        "\n",
        "\n",
        "\n",
        "\n",
        "\n",
        "    \n",
        "\n",
        "\n",
        "\n",
        "\n",
        "\n",
        "\n",
        "\n",
        "\n",
        "      \n",
        "  \n",
        "    \n",
        "\n"
      ],
      "metadata": {
        "id": "lrAKK_4cKfoG"
      },
      "execution_count": null,
      "outputs": []
    },
    {
      "cell_type": "code",
      "source": [
        "import abc\n",
        "import numpy as np\n",
        "\n",
        "class Graph(abc.ABC):\n",
        "  def __init__(self, numVertices, directed=False):\n",
        "    self.numVertices= numVertices\n",
        "    self.directed=directed\n",
        "\n",
        "  @abc.asbstractmethod\n",
        "  def add_edge(self, v1,v2,weight):\n",
        "    pass\n",
        "  \n",
        "  @abc.abstractmethod\n",
        "  def get_adjacent_vertices(self, v):\n",
        "    pass\n",
        "  \n",
        "  @abc.abstractmethod\n",
        "  def display():\n",
        "    pass\n",
        "  \n",
        "  @abc.abstractmethod\n",
        "  def get_indegree(self,v):\n",
        "    pass\n",
        "  \n",
        "\n",
        "# Implementation \n",
        "\n",
        "\n",
        "class AdjacentMatrix(Graph):\n",
        "\n",
        "  def __init__(self, numVertices, directed=False):\n",
        "    super(AdjacentMatrix, self).__init__(numVertices,directed)\n",
        "    self.matrix= np.zeros(numVertices,numVertices)\n",
        "\n",
        "  def add_edge(self, v1, v2, weight=1):\n",
        "    if v1<0 or v2<0 or v1>self.numVertices or v2>self.numVertices:\n",
        "      raise ValueError(\"Check the vertex Values\")\n",
        "\n",
        "    if weight<0:\n",
        "      raise ValueError(\"Negative Values not allowed\")\n",
        "\n",
        "    self.matrix[v1][v2]=weight\n",
        "\n",
        "    #check for the directed graph\n",
        "\n",
        "    if self.directed==True:\n",
        "      self.matrix[v2][v1]= weight\n",
        "\n",
        "  def get_adjacent_vertices(self, v):\n",
        "    if v<0 or v> self.numVertices:\n",
        "      raise ValueError(\"check the value of the vertices\")\n",
        "\n",
        "    # adjacent---> for which we have weight >\n",
        "    # need a list for keeping the record of the vertices\n",
        "\n",
        "    adjacent_list=[]\n",
        "\n",
        "    for i in range(self.numVertices):   \n",
        "      # iterating over the index\n",
        "      if self.matrix[v][i]>1:\n",
        "        adjacent_list.append(i)\n",
        "\n",
        "    return adjacent_list\n",
        "\n",
        "  def get_indegree(self, v):\n",
        "    if v<0 or v>self.numVertices:\n",
        "      raise ValueError(\"check the value\")\n",
        "    \n",
        "    indegree=0\n",
        "    for i in range(self.numVertices):\n",
        "      if self.matrix[v][i]>0:\n",
        "        indegree+=1\n",
        "\n",
        "    return indegree\n",
        "\n",
        "\n",
        "\n",
        "\n",
        "\n",
        "\n",
        "    \n",
        "\n",
        "\n",
        "\n",
        "\n",
        "\n",
        "   \n"
      ],
      "metadata": {
        "id": "SIeefVv2Kiq_"
      },
      "execution_count": null,
      "outputs": []
    },
    {
      "cell_type": "code",
      "source": [
        "class Node:\n",
        "  def __init__(self,vertexId):\n",
        "    self.vertexId= vertexId\n",
        "    self.adjacency_set=set()\n",
        "\n",
        "  def add_edge(self, v):  # where v is the other end of the edge\n",
        "    if self.vertexId==v:\n",
        "      raise ValueError(\"The Vertex %d cannot be adjancent to itself \" % v)\n",
        "    self.adjacency_set.add(v)\n",
        "\n",
        "  def get_adjacent_vertices(self):\n",
        "    return sorted(self.adjacency_set)"
      ],
      "metadata": {
        "id": "jai7c2EmYgF6"
      },
      "execution_count": null,
      "outputs": []
    },
    {
      "cell_type": "code",
      "source": [
        "import abc\n",
        "import numpy as np \n",
        "\n",
        "\n",
        "class Graph(abc.ABC):\n",
        "  def __init__(self,numVertices, directed):\n",
        "    self.numVertices= numVertices\n",
        "    self.directed= directed\n",
        "\n",
        "  @abc.abstractmethod\n",
        "  def add_edge(self,v1, v2, weight):\n",
        "    pass\n",
        "  \n",
        "  @abc.abstractmethod\n",
        "  def get_adjacent_vertices(self, v):\n",
        "    pass\n",
        "  \n",
        "  @abc.abstractmethod\n",
        "  def get_indegree(self, v):\n",
        "    pass\n",
        "\n",
        "  @abc.abstractmethod\n",
        "  def display():\n",
        "    pass\n",
        "  \n",
        "# node has a vertexId, and an associated set\n",
        "class Node():\n",
        "  def __init__(self,vertexId):\n",
        "    self.vertexId= vertexId\n",
        "    self.adjacent_set=set()\n",
        "\n",
        "  def add_edge(self, v):\n",
        "    #check first if the vertex is different\n",
        "    if self.vertexId==v:\n",
        "      raise ValueError(\"Duplicate value entered for node\")\n",
        "    self.adjacent_set.add(v)\n",
        "\n",
        "  def get_adjacent_nodes(self, v):\n",
        "    return sorted(self.adjacent_set)\n",
        "\n",
        "class AdjacencySet(Graph):\n",
        "  def __init__(self,numVertices, directed=False):\n",
        "    super(AdjacencySet,self).__init__(self,numVertices,directed)\n",
        "\n",
        "    self.vertex_list=[]\n",
        "\n",
        "    for i in range(self.numVertices):\n",
        "      self.vertex_list.append(Node(i))\n",
        "\n",
        "  \n",
        "  def add_edge(self, v1, v2, weight=1):\n",
        "    if v1<0 or v2<0 or v1>self.numVertices or v2>self.numVertices:\n",
        "      raise ValueError(\"Vertex Values have an issue\")\n",
        "\n",
        "    if weight<0:\n",
        "      raise ValueError(\"No Negative Weights allowed\")\n",
        "\n",
        "    self.vertex_list[v1].add_edge(v2)\n",
        "    if self.directed==False:\n",
        "      self.vertex_list[v2].add_edge(v1)\n",
        "\n",
        "\n",
        "  def get_adjacent_vertices(self, v):\n",
        "    if v<0 or v>self.numVertices: \n",
        "      raise ValueError(\"Error in the vertex value\")\n",
        "    \n",
        "    return self.vertex_list[v].get_adjacent_nodes()\n",
        "\n",
        "\n",
        "    \n",
        "\n",
        "\n",
        "\n",
        "    \n"
      ],
      "metadata": {
        "id": "9egeOExrb8Jm"
      },
      "execution_count": null,
      "outputs": []
    },
    {
      "cell_type": "code",
      "source": [
        "import abc\n",
        "import numpy as np\n",
        "\n",
        "class Graph(abc.ABC):\n",
        "  def __init__(self, numVertices, directed= False):\n",
        "    self.numVertices=numVertices\n",
        "    self.directed=directed\n",
        "  \n",
        "  @abc.abstractmethod\n",
        "  def add_edge(self, v1, v2,weight):\n",
        "    pass\n",
        "  \n",
        "  @abc.abstractmethod\n",
        "  def get_adjacent_vertices(self,v):\n",
        "    pass\n",
        "  \n",
        "  @abc.abstractmethod\n",
        "  def get_indegree(self, v):\n",
        "    pass\n",
        "  \n",
        "  @abc.abstractmethod\n",
        "  def display():  \n",
        "    pass\n",
        "\n",
        "\n",
        "class AdjacentMatrix(Graph):\n",
        "  def __init__(self,numVertices, directed=False):\n",
        "    super(AdjacentMatrix,self).__init__(numVertices, directed)# call to the super class\n",
        "    self.matrix= np.zero(numVertices, numVertices)  # initializing the graph\n",
        "\n",
        "  \n",
        "  def add_edge(self, v1, v2, weight=1):\n",
        "    if v1<0 or v2<0 or v1> self.numVertices or v2>self.numVertices:\n",
        "      raise ValueError(\"Check the value of the Vertices\")\n",
        "    \n",
        "    if weight<0: \n",
        "      raise ValueError(\"Negative weights not allowed\")\n",
        "    \n",
        "    matrix[v1][v2]= weight\n",
        "\n",
        "    if self.directed ==True:\n",
        "      matrix[v2][v1]= weight\n",
        "\n",
        "  def get_adjacent_vertices(self, v):\n",
        "    if v<0 or v> self.numVertices:\n",
        "      raise ValueError(\"check the values\")\n",
        "\n",
        "    adjacent_list=[]\n",
        "\n",
        "    for i in range(self.numVertices):\n",
        "      if matrix[v][i]>0:\n",
        "        adjacent_list.append(i)\n",
        "\n",
        "    return adjacent_list\n",
        "\n",
        "  def get_indegree(self, v):\n",
        "    if v <0 or v>self.numVertices:\n",
        "      indegree=0\n",
        "      for i in range(self.numVertice):\n",
        "        if matrix[i][v]>0:\n",
        "          indegree+=1\n",
        "\n",
        "      return indegree\n",
        "\n",
        "\n",
        "\n",
        "\n",
        "\n",
        "\n"
      ],
      "metadata": {
        "id": "INt8yYdVrS3R"
      },
      "execution_count": null,
      "outputs": []
    },
    {
      "cell_type": "code",
      "source": [
        "import abc\n",
        "import numpy as np\n",
        "\n",
        "class Graph(abc.ABC):\n",
        "  def __init__(self, numVertices, directed= False):\n",
        "    self.numVertices=numVertices\n",
        "    self.directed=directed\n",
        "  \n",
        "  @abc.abstractmethod\n",
        "  def add_edge(self, v1, v2,weight):\n",
        "    pass\n",
        "  \n",
        "  @abc.abstractmethod\n",
        "  def get_adjacent_vertices(self,v):\n",
        "    pass\n",
        "  \n",
        "  @abc.abstractmethod\n",
        "  def get_indegree(self, v):\n",
        "    pass\n",
        "  \n",
        "  @abc.abstractmethod\n",
        "  def display():  \n",
        "    pass\n",
        "\n",
        "class Node():\n",
        "  # node has two properties\n",
        "  # 1. vertex name\n",
        "  # 2. each node has an accompanying set\n",
        "  def __init__(self, vertexId):\n",
        "    self.vertexId= vertexId\n",
        "    self.vertex_list= set()\n",
        "  \n",
        "  # node has two functions\n",
        "  #1. add edge with other node\n",
        "  #2. return adjacent node list\n",
        "\n",
        "  def add_edge(self, v):\n",
        "    if v==self.vertexId:\n",
        "      raise ValueError(\"Duplicate Value\")\n",
        "    self.vertex_list.add(v)\n",
        "\n",
        "  def get_adjacent_vertex(self,v):\n",
        "    return sorted(self.vertex_list)\n"
      ],
      "metadata": {
        "id": "3qdukoT4u5ii"
      },
      "execution_count": null,
      "outputs": []
    },
    {
      "cell_type": "code",
      "source": [
        "################################################## NEW CODE"
      ],
      "metadata": {
        "id": "_kMDuRiq40yl"
      },
      "execution_count": null,
      "outputs": []
    },
    {
      "cell_type": "code",
      "source": [
        "import abc\n",
        "import numpy as np\n",
        "\n",
        "class Graph(abc.ABC):\n",
        "  def __init__(self, numVertices, directed=False):\n",
        "    self.numVertices= numVertices\n",
        "    self.directed=directed\n",
        "  \n",
        "  def add_edge(self, v1, v2, weight):\n",
        "    pass\n",
        "  \n",
        "\n",
        "  def get_adjacent_vertices(self, v):\n",
        "    pass\n",
        "  \n",
        "  def get_indegree(self, v):\n",
        "    pass\n",
        "  \n",
        "  def display():\n",
        "    pass\n",
        "\n",
        "\n",
        "class AdjacentMatrix(Graph):\n",
        "  def __init__(self, numVertices, directed=False):\n",
        "    super(AdjacentMatrix, self).__init__(numVertices, directed)\n",
        "    # initializing the matrix\n",
        "    self.matrix =np.zeros((numVertices, numVertices)) \n",
        "\n",
        "  def add_edge(self, v1, v2, weight=1):\n",
        "    if v1<0 or v2<0 or v1>self.numVertices or v2> self.numVertices:\n",
        "      raise ValueError(\"Check the value of vertices\")\n",
        "\n",
        "    if weight <0:\n",
        "      raise ValueError (\"Negative Weights are not allowed\")\n",
        "    \n",
        "    self.matrix[v1][v2]= weight\n",
        "\n",
        "    if self.directed==True:\n",
        "      self.matrix[v2][v1]=weight\n",
        "\n",
        "  \n",
        "  def get_adjacent_vertices(self, v):\n",
        "      if v <0 or v>self.numVertices:\n",
        "        raise ValueError(\"Check the input Vertex\")\n",
        "      \n",
        "      adjacent_ver_list=[]\n",
        "      for i in range(self.numVertices):\n",
        "        if self.matrix[v][i]> 0:\n",
        "          adjacent_ver_list.append(i)\n",
        "       \n",
        "      return adjacent_ver_list\n",
        "\n",
        "  \n",
        "  def get_indegree(self,v):\n",
        "    if v<0 or v>self.numVertices:\n",
        "      raise ValueError(\"Check input vertex\")\n",
        "    indegree=0\n",
        "    for i in range(self.numVertices):\n",
        "      if self.matrix[i][v]>0:\n",
        "        indegree+=1\n",
        "\n",
        "    return indegree\n",
        "\n",
        "  def display(self):\n",
        "\n",
        "    for i in range(self.numVertices):\n",
        "      for j in self.get_adjacent_vertices(i):\n",
        "        print(i,\"--->\",j)\n",
        "\n",
        "\n",
        "\n",
        "\n",
        "\n",
        "\n",
        "\n",
        "\n",
        "\n"
      ],
      "metadata": {
        "id": "zOU-uxZA1pnB"
      },
      "execution_count": null,
      "outputs": []
    },
    {
      "cell_type": "code",
      "source": [
        "obj= AdjacentMatrix(4)"
      ],
      "metadata": {
        "id": "rW8Nn2Qs8KaW"
      },
      "execution_count": null,
      "outputs": []
    },
    {
      "cell_type": "code",
      "source": [
        "obj.add_edge(0,1)"
      ],
      "metadata": {
        "id": "T6w-xkXq8S_X"
      },
      "execution_count": null,
      "outputs": []
    },
    {
      "cell_type": "code",
      "source": [
        "obj.add_edge(0,2)"
      ],
      "metadata": {
        "id": "Fmw75Nkd8hqv"
      },
      "execution_count": null,
      "outputs": []
    },
    {
      "cell_type": "code",
      "source": [
        "obj.add_edge(2,3)"
      ],
      "metadata": {
        "id": "qfUiy1Rp8kfR"
      },
      "execution_count": null,
      "outputs": []
    },
    {
      "cell_type": "code",
      "source": [
        "for i in range(4):\n",
        "  print(\"Adjacent to \", i, obj.get_adjacent_vertices(i))"
      ],
      "metadata": {
        "colab": {
          "base_uri": "https://localhost:8080/"
        },
        "id": "DxGZXzVY8n6s",
        "outputId": "3b0b6ddd-e0b3-41a2-bdab-4877bbd3f2d5"
      },
      "execution_count": null,
      "outputs": [
        {
          "output_type": "stream",
          "name": "stdout",
          "text": [
            "Adjacent to  0 [1, 2]\n",
            "Adjacent to  1 []\n",
            "Adjacent to  2 [3]\n",
            "Adjacent to  3 []\n"
          ]
        }
      ]
    },
    {
      "cell_type": "code",
      "source": [
        "obj.display()"
      ],
      "metadata": {
        "colab": {
          "base_uri": "https://localhost:8080/"
        },
        "id": "78YeCirO8yMy",
        "outputId": "cd62b57e-b9a2-4ac5-e6d5-c1ef998dc56c"
      },
      "execution_count": null,
      "outputs": [
        {
          "output_type": "stream",
          "name": "stdout",
          "text": [
            "0 ---> 1\n",
            "0 ---> 2\n",
            "2 ---> 3\n"
          ]
        }
      ]
    },
    {
      "cell_type": "code",
      "source": [
        "from typing_extensions import ParamSpecKwargs\n",
        "import abc\n",
        "import numpy as np\n",
        "\n",
        "class Graph(abc.ABC):\n",
        "  def __init__(self, numVertices,directed=False):\n",
        "    self.numVertices=numVertices\n",
        "    self.directed=directed\n",
        "\n",
        "  @abc.abstractmethod\n",
        "  def add_edge(self, v1, v2, weight):\n",
        "    pass\n",
        "  \n",
        "  @abc.abstractmethod\n",
        "  def get_adjacent_edge(self, v):\n",
        "    pass\n",
        "  \n",
        "  @abc.abstractmethod\n",
        "  def get_indegree(self, v):\n",
        "    pass\n",
        "\n",
        "  @abc.abstractmethod\n",
        "  def display(self):\n",
        "    pass\n",
        "\n",
        "\n",
        "class Node:\n",
        "  def __init__(self, vertexId):  # each node has vertex id and set \n",
        "    self.vertexId= vertexId\n",
        "    self.adjacency_set=set()\n",
        "    \n",
        "  def add_edge(self, v):\n",
        "    if self.vertexId==v:\n",
        "      raise ValueError(\"The vertex %d cannot be adjacent to itself\" %v)\n",
        "    \n",
        "    self.adjacency_set.add(v)\n",
        "\n",
        "  def get_adjacent_vertices(self):\n",
        "    return sorted(self.adjacency_set)\n",
        "\n",
        "\n",
        "class AdjacencySet(Graph):\n",
        "  def __init__(self, numVertices, directed=False):\n",
        "    super(AdjacencySet, self).__init(numVertices, directed)\n",
        "    self.vertexList=[]     # empty container\n",
        "\n",
        "    for i in self.numVertices:         #initializing list of nodes\n",
        "      self.vertexList.append(Node(i))\n",
        "\n",
        "  def add_edge(self, v1, v2, weighted=1):\n",
        "    if v1<0 or v2<0 or v1>self.numVertices or v2>self.numVertices:\n",
        "      raise ValueError(\"Check the Edge Values\")\n",
        "\n",
        "    if self.weight<0: \n",
        "      raise ValueError(\"negative weights not allowed\")\n",
        "\n",
        "    self.vertexList[v1].add_edge(v2)\n",
        "    if self.directed==True:\n",
        "      self.vertexList[v2].add_edge(v1)\n",
        "\n",
        "  \n",
        "  def get_adjacent_vertices(self, v):\n",
        "    if v<0 or v>self.numVertices:\n",
        "      raise ValueError(\"Error with the input vertices\")\n",
        "    \n",
        "    self.vertexList[v].get_adjacent_vertices()\n",
        "\n",
        "  \n",
        "  def get_indegree(self, v):\n",
        "    if v<0 or v>self.numVertices:\n",
        "      raise ValueError(\"Error with the vertices\")\n",
        "\n",
        "    indegree=0\n",
        "\n",
        "    for i in range(self.numVertices):\n",
        "      if v in self.get_adjacent_vertices(i):\n",
        "        indegree+=1\n",
        "    \n",
        "    return indegree\n",
        "    \n",
        "\n"
      ],
      "metadata": {
        "id": "q6Y4pbPG84ma"
      },
      "execution_count": null,
      "outputs": []
    },
    {
      "cell_type": "code",
      "source": [
        "import queue\n",
        "def breadth_first(graph, start=0):\n",
        "  queu=queue.Queue()\n",
        "  queu.put(start)\n",
        "\n",
        "  visited= np.zeros(graph.numVertices)\n",
        "\n",
        "  while not queu.empty():\n",
        "    vertex=queu.get()\n",
        "    if visited[vertex]==1:\n",
        "      continue\n",
        "    print(\"Visit\", vertex)\n",
        "    visited[vertex]=1\n",
        "\n",
        "    for v in graph.get_adjacent_vertices(vertex):\n",
        "      if visited[v] !=1:\n",
        "        queu.put(v)"
      ],
      "metadata": {
        "id": "eu4MqIj_J8nr"
      },
      "execution_count": null,
      "outputs": []
    },
    {
      "cell_type": "code",
      "source": [
        "import queue \n",
        "def breadth_first(obj, start=0):\n",
        "  queu=queue.Queue()\n",
        "  queu.put(start)   # initializing the graph for set point\n",
        "\n",
        "\n",
        "  visited=np.zeroes(obj.numVertices)\n",
        "\n",
        "  while not queu.empty():\n",
        "    vertex=queu.get()     # getting a value\n",
        "\n",
        "    if visited[vertex]==1: # if we have visited to this node\n",
        "      continue             # continue the loop for next value\n",
        "\n",
        "    visited[vertex]=1      # otherwise mark the visted one\n",
        "\n",
        "    for v in obj.get_adjacent_vertices(vertex):   # getting all the adjacent vertices related to this vertex\n",
        "      if visited[v]!=1:       #if not have been visited \n",
        "        queu.put(v)           # add them to the queue\n"
      ],
      "metadata": {
        "id": "eTUDSMD5K0Rj"
      },
      "execution_count": null,
      "outputs": []
    },
    {
      "cell_type": "code",
      "source": [
        "def dept_first(graph, visited, current=0):\n",
        "  if visited[current]==1:\n",
        "    return \n",
        "  visited[current]=1\n",
        "  \n",
        "  for vertex in graph.get_adjacent_vertices(current):\n",
        "    depth_first(graph, visited, vertex)"
      ],
      "metadata": {
        "id": "KvPkjHJoOTRt"
      },
      "execution_count": null,
      "outputs": []
    },
    {
      "cell_type": "code",
      "source": [
        "def topological_sort(graph):\n",
        "  que=queue.Queue()\n",
        "  indegreeMap={}\n",
        "\n",
        "  for i in range(graph.numVertices):\n",
        "    indegreeMap[i]=graph.get_indegree(i)\n",
        "\n",
        "    if indegreeMap[i]==0: \n",
        "      que.put(i)\n",
        "\n",
        "  sortedList=[]\n",
        "  while not queue.empty():\n",
        "    vertex=que.get()\n",
        "    sortedList.append(vertex):\n",
        "\n",
        "    for v in graph.get_adjacent_vertices(vertex):\n",
        "      indegreeMap[v]=indegreeMap[v]-1  # decreasing indegree of all the neighbours\n",
        "\n",
        "      if indegreeMap[v]==0:  # the next start point\n",
        "        queue.put(v)\n",
        "  \n",
        "  if len(sortedList) !=graph.numVertices:\n",
        "    raise ValueError(\"This Graph has a cycle\")\n",
        "    \n",
        "\n"
      ],
      "metadata": {
        "id": "pRGBYBR4QT-W"
      },
      "execution_count": null,
      "outputs": []
    },
    {
      "cell_type": "code",
      "source": [
        "import abc\n",
        "import numpy as np\n",
        "\n",
        "class Graph(abc.ABC):\n",
        "  def __init__(self, numVertices, directed=False):\n",
        "    self.numVertices= numVertices\n",
        "    self.directed=directed\n",
        "\n",
        "  @abc.abstractmethod\n",
        "  def add_edge(self,v1, v2, weight):\n",
        "    pass\n",
        "  \n",
        "  @abc.abstractmethod\n",
        "  def get_adjacent_vertices(self, v):\n",
        "    pass\n",
        "  \n",
        "  @abc.abstractmethod\n",
        "  def get_indegree(self, v):\n",
        "    pass\n",
        "  \n",
        "  @abc.abstractmethod\n",
        "  def display():\n",
        "    pass\n",
        "\n",
        "\n",
        "class AdjacentMatrix(Graph):\n",
        "  def __init__(self, numVertices, directed=False):\n",
        "    super(AdjacentMatrix, self).__init__(numVertices, directed)\n",
        "    self. matrix= np.zeros((numVertices,numVertices))\n",
        "  \n",
        "  def add_edge(self, v1, v2, weight=1):\n",
        "    if v1<0 or v2<0 or v1> self.numVertices or v2> self.numVertices:\n",
        "      raise ValueError(\"Check the Value of the vertices\")\n",
        "    \n",
        "\n",
        "    if weight<0:\n",
        "      raise ValueError(\"Negative Weights not allowed\")\n",
        "    \n",
        "    self.matrix[v1][v2]=weight\n",
        "\n",
        "    if self.directed==True:\n",
        "      self.matrix[v2][v1]=weight\n",
        "\n",
        "    return \n",
        "  \n",
        "  def get_adjacent_vertices(self, v):\n",
        "    if v< 0 or v>self.numVertices:\n",
        "      raise ValueError(\"Check the input vertex\")\n",
        "    \n",
        "\n",
        "    adjacent_list=[]\n",
        "    for i in range(self.numVertices):\n",
        "      if self.matrix[v][i]>0:\n",
        "        adjacent_list.append(i)\n",
        "    \n",
        "    return adjacent_list\n",
        "\n",
        "  def get_indegree(self, v):\n",
        "    if v<0 or v >  self.numVertices:\n",
        "      raise ValueError(\"Check the input Vertex\")\n",
        "    indegree=0\n",
        "    for i in range(self.numVertices):\n",
        "      if self.matrix[i][v]>0:\n",
        "        indegree+=1\n",
        "    return indegree \n",
        "\n",
        "#============================================\n",
        "# node has vertex and associated set\n",
        "class Node:\n",
        "  def __init__(self, vertexid):\n",
        "    self.vertexid=vertexid\n",
        "    self.vertex_list=set()\n",
        "\n",
        "  def add_edge(self, v):\n",
        "    if self.vertexid==v:\n",
        "      raise ValueError(\"Vertex cannot be adjacent to itself\")\n",
        "    self.vertex_list.add(v)\n",
        "\n",
        "  def get_adjacent_vertices(self):\n",
        "    return sorted(self.vertex_list)\n",
        "\n",
        "\n",
        "class AdjacencySet(Graph):\n",
        "  def __init__(self, numVertices, directed=False):\n",
        "    super(AdjacencySet,self).__init__(numVertices, directed)\n",
        "    self.vertex_set_list=[] # need to initialize this list with nodes\n",
        "\n",
        "    for i in range(self.numVertices):\n",
        "      self.vertex_set_list.append(Node(i))\n",
        "  \n",
        "  def add_edge(self, v1, v2, weight=1):\n",
        "    if v1<0 or v2<0 or v1>self.numVertices or v2>self.numVertices:\n",
        "      raise ValueError(\"Check the Value of input vertices\")\n",
        "    \n",
        "\n",
        "    if weight<0:\n",
        "      raise ValueError(\"Negative Values not allowed\")\n",
        "    \n",
        "    self.vertex_set_list[v1].add_edge(v2)\n",
        "\n",
        "    if self.directed==True:\n",
        "      self.vertex_set_list[v2].add_edge(v1)\n",
        "\n",
        "  \n",
        "  def get_adjacent_vertices(self, v):\n",
        "    if v<0 or v>self.numVertices:\n",
        "      raise ValueError(\"Error in vertex\")\n",
        "    \n",
        "    return self.vertex_list[v].get_adjacent_vertices()\n",
        "\n",
        "  \n",
        "  def get_indegree(self, v):\n",
        "    if v<0 or v>self.numVertices:\n",
        "      raise ValueError(\"Check vertex\")\n",
        "    \n",
        "    indegree=0\n",
        "    for i in range(self.numVertices):\n",
        "      if v in self.get_adjacent_vertices(i):\n",
        "        indegree+=1\n",
        "\n",
        "    return indegree\n",
        "\n",
        "\n",
        "  \n",
        "#BFS:\n",
        "import numpy as np\n",
        "import queue\n",
        "def breadthFirst(graph, start=0):\n",
        "  que= queue.Queue()\n",
        "\n",
        "  que.put(start)\n",
        "\n",
        "  visited= np.zeros(graph.numVertices)\n",
        "\n",
        "  while not que.empty() :\n",
        "    vertex=que.get()\n",
        "    if visited[vertex]==1:\n",
        "      continue\n",
        "    \n",
        "    visited[vertex]=1\n",
        "    for i in graph.get_adjacent_vertices(vertex):\n",
        "      if visited[vertex]!=1:\n",
        "        que.put(i)\n",
        "\n",
        "# DFS\n",
        "visited= np.zeros(graph.numVertices)\n",
        "\n",
        "def depth_first(graph, visited, current=0):\n",
        "\n",
        "  if visited[current]==1:\n",
        "    return \n",
        "\n",
        "  visited[current]=1\n",
        "  \n",
        "  for vertex in graph.get_adjacent_vertices(current):\n",
        "    depth_first(graph, visited, vertex)\n",
        "\n",
        "\n",
        "# Topological Sort\n",
        "\n",
        "# start topological sort by visiting a node with indegree =0\n",
        "\n",
        "def topological_sort(graph):\n",
        "  que= queue.Queue()\n",
        "  indegreeMap={}\n",
        "\n",
        "\n",
        "  for i in range(graph.numVertices):\n",
        "    indegreeMap[i]=graph.get_indegree(i)\n",
        "\n",
        "    if indegreeMap[i]==0:\n",
        "      queue.put(i)\n",
        "  \n",
        "  sorted_list=[]\n",
        "  while not queue.empty():\n",
        "    vertex=queue.get()\n",
        "    sorted_list.append(vertex)\n",
        "\n",
        "    for v in graph.adjacent_vertices(vertex):\n",
        "      indegreeMap[v]=indegreeMap[v]-1\n",
        "\n",
        "\n",
        "      if indegreeMap[v]==0:\n",
        "        queue.put(v)\n",
        "  \n",
        "\n",
        "  if len(sorted_list) != graph.numVertices:\n",
        "    raise ValueError(\"This graph has a cycle\")\n",
        "\n",
        "  \n",
        "  print(sorted_list)\n",
        "\n",
        "    \n",
        "\n",
        "\n",
        "\n",
        "\n",
        "\n",
        "\n",
        "\n",
        "  \n",
        "\n",
        "  \n",
        "\n",
        "\n",
        "\n",
        "\n",
        "    \n",
        "\n",
        "    \n"
      ],
      "metadata": {
        "id": "oBO09s2hXC7G"
      },
      "execution_count": null,
      "outputs": []
    },
    {
      "cell_type": "code",
      "source": [
        "from queue import Queue\n",
        "\n",
        "from graph import *\n",
        "\n",
        "def build_distance_table(graph, source):\n",
        "  distance_table={}    # vertexno--->(distance from source, preceding node)\n",
        "\n",
        "  for i in range(graph.numVertices):\n",
        "    distance_table[i]=(None, None)      # for all nodes except source\n",
        "\n",
        "  \n",
        "  distance_table[source]=(0,source)      # for source node\n",
        "\n",
        "  queue=Queue()\n",
        "  queue.put(source)\n",
        "\n",
        "  while not queue.empty():\n",
        "    current_vertex=queue.get()\n",
        "    current_distance= distance_table[current_vertex][0]\n",
        "\n",
        "    for neighbor in graph.get_adjacent_vertices(current_vertex):\n",
        "      if distance_table[neighbor][0] is None: \n",
        "        distance_table[neighbor]=(1+current_distance, current_vertex)\n",
        "\n",
        "        if len(graph.get_adjacent_vertices(neighbor))>0:\n",
        "          queue.put(neighbor)\n",
        "\n",
        "  return distance_table\n",
        "\n",
        "\n",
        "def shortest_path(graph, source, destination):\n",
        "  distance_table= build_distance_table(graph, source)\n",
        "\n",
        "  path= [destination]\n",
        "\n",
        "  previous_vertex=distance_table[destination][1]\n",
        "\n",
        "  while previous_vertex is not None and previous_vertex is not source:\n",
        "    path=[previous_vertex] +path\n",
        "\n",
        "    previous_vertex=distance_table[previous_vertex][1]\n",
        "\n",
        "\n",
        "  if previous_vertex is None:\n",
        "    print(\"There is no path from %d to %d\" %(source, destination))\n",
        "\n",
        "  else:\n",
        "    path=[source]+path\n",
        "    print(\"Shortest path is \", path)\n",
        "\n",
        "  \n",
        "\n",
        "\n"
      ],
      "metadata": {
        "id": "PKTQMRgHVWz_"
      },
      "execution_count": null,
      "outputs": []
    },
    {
      "cell_type": "code",
      "source": [
        "distance_table={}\n",
        "distance_table[0]=(None, None)\n",
        "distance_table[1]=(1, 2)"
      ],
      "metadata": {
        "id": "76aSYVRSiv9r"
      },
      "execution_count": null,
      "outputs": []
    },
    {
      "cell_type": "code",
      "source": [
        "distance_table"
      ],
      "metadata": {
        "colab": {
          "base_uri": "https://localhost:8080/"
        },
        "id": "UAAfbrfFi1Mw",
        "outputId": "9d016318-61fc-479d-ccf1-f2cf0a643892"
      },
      "execution_count": null,
      "outputs": [
        {
          "output_type": "execute_result",
          "data": {
            "text/plain": [
              "{0: (None, None), 1: (1, 2)}"
            ]
          },
          "metadata": {},
          "execution_count": 7
        }
      ]
    },
    {
      "cell_type": "code",
      "source": [
        "distance_table[1][1]"
      ],
      "metadata": {
        "colab": {
          "base_uri": "https://localhost:8080/"
        },
        "id": "t0YHmUKsi5tG",
        "outputId": "e0856376-f990-40e9-d088-28f8f17bc14d"
      },
      "execution_count": null,
      "outputs": [
        {
          "output_type": "execute_result",
          "data": {
            "text/plain": [
              "2"
            ]
          },
          "metadata": {},
          "execution_count": 10
        }
      ]
    },
    {
      "cell_type": "code",
      "source": [
        "def build_distance_table(graph, source):\n",
        "\n",
        "  distance_table={}  # [node, distance, prevNode]\n",
        "\n",
        "  # initialize the distance table\n",
        "  for i in range(graph.numVertices):\n",
        "    distance_table[i]=(None, None)\n",
        "  \n",
        "\n",
        "  distance_table[source]=(0, source)\n",
        "\n",
        "  queu=Queue()\n",
        "  queu.put(source)\n",
        "\n",
        "  while not queu.empty():\n",
        "    current_vertex=queu.get()   # getting the source vertex\n",
        "\n",
        "    current_distance= distance_table[current_vertex][0]\n",
        "\n",
        "    for neighbor in graph.get_adjacent_vertices(current_vertex):    # all the neighbors of the current vertex will get 1+current distance\n",
        "      if distance_table[neighbor][0] is None:\n",
        "        distance_table[neighbor]= (1+current_distance, current_vertex)\n",
        "\n",
        "        if len(graph.get_adjacent_vertices(neighbor))> 0:\n",
        "          queu.put(neighbor)\n",
        "\n",
        "  return distance_table"
      ],
      "metadata": {
        "id": "TfKSfJay_3WP"
      },
      "execution_count": null,
      "outputs": []
    },
    {
      "cell_type": "code",
      "source": [
        "import queue\n",
        "\n",
        "def build_distance_table(graph, source):\n",
        "  distance_table={}\n",
        "\n",
        "  que=queue.Queue()\n",
        "  que.add(source)\n",
        "\n",
        "  for i in range(graph.numVertices):\n",
        "    distance_table[i]=(None, None)\n",
        "\n",
        "  distance_table[source]=(0, None)\n",
        "\n",
        "\n",
        "  while not que.empty():\n",
        "    vertex= que.get()\n",
        "    current_distance=distance_table[vertex][0]\n",
        "\n",
        "    for i in graph.get_adjacent_vertices(vertex):\n",
        "      if distance_table[i]==None:\n",
        "        distance_table[i]= (1+current_distance, vertex)\n",
        "\n",
        "        if len(graph.get_adjacent_vertice(i))>0: # add to those neighbors to th queue which have children\n",
        "          que.put(i)\n",
        "\n",
        "\n",
        "  return distance_table\n"
      ],
      "metadata": {
        "id": "T1uFZgJ7Scis"
      },
      "execution_count": null,
      "outputs": []
    },
    {
      "cell_type": "code",
      "source": [
        "def shortest_path(graph, source, destination):\n",
        "  distance_table= build_distance_table(graph, source)\n",
        "\n",
        "  path=[destination]  # start from the destination\n",
        "  previous_vertex= distance_table[destination][1]    # will give previous vertex\n",
        "\n",
        "  # backtracking from destination\n",
        "\n",
        "  while previous_vertex is not None and previous_vertex is not source:\n",
        "    path= [previous_vertex]+path\n",
        "    previous_vertex= distance_table[previous_vertex][1]  # previous_vertex updated"
      ],
      "metadata": {
        "id": "JKs3owOvVutN"
      },
      "execution_count": null,
      "outputs": []
    },
    {
      "cell_type": "code",
      "source": [
        "\n",
        "import queue\n",
        "\n",
        "def build_distance_table(graph, source):\n",
        "  #structure of table\n",
        "  distance_table= {}\n",
        "  for i in range(graph.numVertices):\n",
        "    distance_table[i]=(None, None)\n",
        "\n",
        "  distance_table[source]=(0,source )\n",
        "  que=queue.Queue()\n",
        "  que.add(start)\n",
        "  while not que.empty():\n",
        "    vertex=que.get()   # get the start vertex\n",
        "    current_distance= distance_table[vertex][0]\n",
        "    for neighbor in graph.get_adjacent_vertices(vertex):\n",
        "      if distance_table[neighbor][0] is None:\n",
        "        distance_table[neighbor]=(1+current_distance,vertex)\n",
        "        if len(graph.get_adjacent_vertices(neighbor)>0):\n",
        "          que.put(neighbor)\n",
        "  \n",
        "\n",
        "  return distance_table\n",
        "\n",
        "\n",
        "def shortest_path(graph, source, destination ):\n",
        "\n",
        "  destination_table= build_distance_table(graph, source)\n",
        "  #path will start from the previous vertex\n",
        "  path=[destination]\n",
        "\n",
        "  previous_vertex= destination_table[destination][1]\n",
        "\n",
        "  while previous_vertex != source:\n",
        "    path=[previous_vertex]+path\n",
        "    previous_vertex=destination_table[previous_table][1]\n",
        "\n",
        "\n",
        "\n",
        "\n",
        "\n",
        "\n",
        "  "
      ],
      "metadata": {
        "id": "Z0q6do-jLXu_"
      },
      "execution_count": null,
      "outputs": []
    },
    {
      "cell_type": "code",
      "source": [
        "#Dijkstras Algo ---->For weighted Graphs"
      ],
      "metadata": {
        "id": "-XudTSA2zDur"
      },
      "execution_count": null,
      "outputs": []
    },
    {
      "cell_type": "code",
      "source": [
        "#priority Queue\n",
        "from heapq import heapify, heappush, heappop\n",
        "\n",
        "class priority_dict(dict):  # overriding the python dictionary \n",
        "    \"\"\"Dictionary that can be used as a priority queue.\n",
        "\n",
        "    Keys of the dictionary are items to be put into the queue, and values\n",
        "    are their respective priorities. All dictionary methods work as expected.\n",
        "    The advantage over a standard heapq-based priority queue is\n",
        "    that priorities of items can be efficiently updated (amortized O(1))\n",
        "    using code as 'thedict[item] = new_priority.'\n",
        "\n",
        "    The 'smallest' method can be used to return the object with lowest\n",
        "    priority, and 'pop_smallest' also removes it.\n",
        "\n",
        "    The 'sorted_iter' method provides a destructive sorted iterator.\n",
        "    \"\"\"\n",
        "    \n",
        "    def __init__(self, *args, **kwargs):\n",
        "        super(priority_dict, self).__init__(*args, **kwargs)\n",
        "        self._rebuild_heap()\n",
        "\n",
        "    def _rebuild_heap(self):\n",
        "        self._heap = [(v, k) for k, v in self.items()]\n",
        "        heapify(self._heap)\n",
        "\n",
        "    def smallest(self):\n",
        "        \"\"\"Return the item with the lowest priority.\n",
        "\n",
        "        Raises IndexError if the object is empty.\n",
        "        \"\"\"\n",
        "        \n",
        "        heap = self._heap\n",
        "        v, k = heap[0]\n",
        "        while k not in self or self[k] != v:\n",
        "            heappop(heap)\n",
        "            v, k = heap[0]\n",
        "        return k\n",
        "\n",
        "    def pop_smallest(self):\n",
        "        \"\"\"Return the item with the lowest priority and remove it.\n",
        "\n",
        "        Raises IndexError if the object is empty.\n",
        "        \"\"\"\n",
        "        \n",
        "        heap = self._heap\n",
        "        v, k = heappop(heap)\n",
        "        while k not in self or self[k] != v:\n",
        "            v, k = heappop(heap)\n",
        "        del self[k]\n",
        "        return k\n",
        "\n",
        "    def __setitem__(self, key, val):\n",
        "        # We are not going to remove the previous value from the heap,\n",
        "        # since this would have a cost O(n).\n",
        "        \n",
        "        super(priority_dict, self).__setitem__(key, val)\n",
        "        \n",
        "        if len(self._heap) < 2 * len(self):\n",
        "            heappush(self._heap, (val, key))\n",
        "        else:\n",
        "            # When the heap grows larger than 2 * len(self), we rebuild it\n",
        "            # from scratch to avoid wasting too much memory.\n",
        "            self._rebuild_heap()\n",
        "\n",
        "    def setdefault(self, key, val):\n",
        "        if key not in self:\n",
        "            self[key] = val\n",
        "            return val\n",
        "        return self[key]\n",
        "\n",
        "    def update(self, *args, **kwargs):\n",
        "        # Reimplementing dict.update is tricky -- see e.g.\n",
        "        # http://mail.python.org/pipermail/python-ideas/2007-May/000744.html\n",
        "        # We just rebuild the heap from scratch after passing to super.\n",
        "        \n",
        "        super(priority_dict, self).update(*args, **kwargs)\n",
        "        self._rebuild_heap()\n",
        "\n",
        "    def sorted_iter(self):\n",
        "        \"\"\"Sorted iterator of the priority dictionary items.\n",
        "\n",
        "        Beware: this will destroy elements as they are returned.\n",
        "        \"\"\"\n",
        "        \n",
        "        while self:\n",
        "            yield self.pop_smallest()"
      ],
      "metadata": {
        "id": "jc97-EwazHVe"
      },
      "execution_count": null,
      "outputs": []
    },
    {
      "cell_type": "code",
      "source": [
        " #get_edge_weight hase to be defined in graph implementation\n",
        "\n",
        "# ist priority_dict is package 2nd priority_dict is class \n",
        "def build_distance_table(graph, source):\n",
        "  distance_table={}\n",
        "\n",
        "  for i in range(graph.numVertices):\n",
        "    distance_table[i]= (None, None)\n",
        "  \n",
        "  distance_table[source]=(0, source)\n",
        "\n",
        "  priority_queue=priority_dict.priorit_dict()   # priority_queue[vertex number]= distance for Prims  priority_queue[vertex number]=edge weight\n",
        "\n",
        "  priority_queue[source]=0\n",
        "\n",
        "  # visited_vertices=set() ---> for prims\n",
        "  # spanning_tree=set() ---->form prims        # spanning tree setofedges (\"1->2\", \"2->4\")\n",
        "\n",
        "  while len(priority_queue.keys())>0:\n",
        "\n",
        "    current_vertex= priority_queue.pop_smallest()# give the heighest priority value\n",
        "\n",
        "    # if current_vertex in visited_vertices:\n",
        "    #  continue\n",
        "    #if current_vertex != source:\n",
        "    # last_vertex= distance_table[current_vertex][1]\n",
        "\n",
        "    current_distance= distance_table[current_vertex][0]   # one vertex of edge\n",
        "\n",
        "    for neighbor in graph.get_adjacent_vertices(current_vertex):\n",
        "\n",
        "      distance= current_distance+ graph.get_edge_weight(current_vertex, neighbor)  # can be different when processed multiple times\n",
        "\n",
        "      neighbor_distance= distance_table[neighbor][0]   # other vertex of the edge\n",
        "\n",
        "\n",
        "      if neighbor_distance is None or neighbor_distance > distance:\n",
        "        distance_table[neighbor]= (distance, current_vertex)\n",
        "        priority_queue[neighbor]= distance              # -----> important step\n",
        "\n",
        "\n",
        "  return distance_table \n",
        "\n",
        "def shortest_path(graph, source, destination):\n",
        "  distance_table= build_distance_table(graph, source)\n",
        "\n",
        "  path= [destination]\n",
        "\n",
        "  while previous_vertex is not None and previous_vertex is not source:\n",
        "    path=[previous_vertex] +path\n",
        "\n",
        "    previous_vertex= distance_table[previous_vertex][1]\n",
        "\n",
        "    if previous_vertex is None:\n",
        "      print(\"There is not path from %d to %d\" %(source, destination))\n",
        "    \n",
        "    else:\n",
        "      path= [source]+ path\n",
        "\n",
        "      print(\"Shortest path is:\", path)\n"
      ],
      "metadata": {
        "id": "4Mo1dz4lEXXi"
      },
      "execution_count": null,
      "outputs": []
    },
    {
      "cell_type": "markdown",
      "source": [
        "Prims Algo"
      ],
      "metadata": {
        "id": "6jVmz2nRs0aC"
      }
    },
    {
      "cell_type": "code",
      "source": [
        "import priority_dic\n",
        "from graph import * \n",
        "\n",
        "def spanning_tree(graph, source):\n",
        "  distance_table={}\n",
        "\n",
        "  for i in range(graph.numVertices):\n",
        "    distance_table[i]=(None, None) \n",
        "\n",
        "  distance_table[source]=(0,source)\n",
        "  priority_queue=priority_dic.priority_dict()\n",
        "  priority_queue[source]=0\n",
        "# ________________________________________\n",
        "  visited_vertices=set()\n",
        "  spanning_tree= set()\n",
        "# ________________________________________\n",
        "\n",
        "  while len(priority_queue.keys())>0:\n",
        "    current_vertex=priority_queue.pop_smallest()\n",
        "\n",
        "############################################################################\n",
        "    if current_vertex in visited_vertices:\n",
        "      continue\n",
        "\n",
        "    visited_vertices.add(current_vertex)\n",
        "\n",
        "    if current_vertex!=source:\n",
        "      last_vertex= distance_table[current_vertex][1]# will take care of the source \n",
        "\n",
        "      edge= str(last_vertex)+\"-->\"+str(current_vertex) \n",
        "      if edge not in spanning_tree:\n",
        "        spanning_tree.add(edge) \n",
        "\n",
        "##############################################################################\n",
        "\n",
        "    for neighbor in graph.get_adjacent_vertices(current_vertex):\n",
        "\n",
        "      distance= g.get_edge_weight(current_vertex, neighbor)  # distance changes  \n",
        "      neighbor_distance=distance_table[neighbor][0]\n",
        "\n",
        "      if neighbor_distance is None or neighbor_distance>distance:\n",
        "        distance_table[neighbor]=(distance, current_vertex)\n",
        "        priority_queue[neighbor]=distance \n",
        "\n",
        "\n",
        "   for edge in spanning_tree:\n",
        "     print(edge)     \n",
        "\n",
        "\n",
        "\n",
        "    \n"
      ],
      "metadata": {
        "id": "7ohBEkk1szme"
      },
      "execution_count": null,
      "outputs": []
    },
    {
      "cell_type": "markdown",
      "source": [
        "Kruskals Algo"
      ],
      "metadata": {
        "id": "2YARKRMfwJkz"
      }
    },
    {
      "cell_type": "code",
      "source": [
        "import priority_dict\n",
        "\n",
        "from graph import *\n",
        "\n",
        "def spanning_tree(graph):\n",
        "  priority_queue=priority_dict.priority_dict()\n",
        "\n",
        "  for v in range(graph.numVertices):\n",
        "    for neighbor in graph.get_adjacent_vertices(v):\n",
        "      priority_queue[(v, neighbor)]= graph.get_edge_weight(v, neighbor)   \n",
        "  \n",
        "  visited_vertices= set() \n",
        "  spanning_tree={}\n",
        "\n",
        "  for v in range(graph.numVertices):\n",
        "    spanning_tree[v]= set()\n",
        "\n",
        "  num_edges=0\n",
        "\n",
        "  while len(priority_queue.keys())>0 and num_edges<graph.numVertices-1:\n",
        "    v1, v2=priority_queue.pop_smallest()\n",
        "    if v1 in spanning_tree[v2]:  # add vertice in order such that No(v1) < No (v2) \n",
        "      continue\n",
        "    \n",
        "\n",
        "    vertex_pair= sorted([v1, v2])\n",
        "    spanning_tree[vertex_pair[0]].add(vertex_pair[1])  # Consistent Spanning Tree Structure ( Logic To Detect cycle is simple )\n",
        "\n",
        "    if has_cycle(spanning_tree):   # on adding a pair check if any cycle was created \n",
        "      spanning_tree[vertex_pair[0]].remove(vertex_pair[1])   # if yes then remove it \n",
        "      continue\n",
        "    num_edges=num_edges+1\n",
        "\n",
        "    visited_vertices.add(v1)   # update the visited vertex \n",
        "    visited_vertices.add(v2)\n",
        "\n",
        "  print(\"Visited vertices:\", visited_vertices)\n",
        "  if len(visited_vertices)!=graph.numVertices:\n",
        "    print(\"minimum spanning tree not found\")\n",
        "  else:\n",
        "    print(\"Minimum spanning tree:\") \n",
        "\n",
        "    for key in spanning_tree:\n",
        "      for value in spanning_tree[key]:\n",
        "        print(key,\"---->\", value)\n",
        "\n",
        "\n",
        "def has_cycle(spanning_tree):   # input is a dict of sets \n",
        "\n",
        "  for source in spanning_tree:   # will return keys \n",
        "    q=[]                      #  for each vetex we are flushing the value of queue\n",
        "    q.append(source)\n",
        "    visited_vertices=set()\n",
        "    while len(q)>0:\n",
        "      vertex= q.pop(0)    # queue                                                                                                                                             \n",
        "\n",
        "      if vertex in visited_vertices:  # if visiting the same vertex again, it has cycle \n",
        "        return True \n",
        "\n",
        "      visited_vertices.add(vertex)\n",
        "      q.extend(spanning_tree[vertex])   # add all the adjacent vertices  to the queue \n",
        "  return False \n",
        "\n",
        "\n"
      ],
      "metadata": {
        "id": "KCnpvlGTwIEe"
      },
      "execution_count": null,
      "outputs": []
    },
    {
      "cell_type": "code",
      "source": [
        "#Shortest Path for unweighted graphs\n",
        "\n",
        "import queue\n",
        "def create_distance_table(graph, source):\n",
        "  distance_table={}\n",
        "\n",
        "  for i in range(graph.numVertice):\n",
        "    distance_table[i]=(None, None)\n",
        "  \n",
        "\n",
        "  que= queue.Queue()\n",
        "\n",
        "  distance_table[source]=(0, source)\n",
        "\n",
        "  while not queue.empty():\n",
        "    current_vertex=queue.get()   # FIFO\n",
        "    current_distance=distance_table[current_vertex][0]\n",
        "\n",
        "    for neighbor in (graph.get_adjacent_vertices(current_vertex)):\n",
        "      distance_table[neighbor]=(1+current_distance, current_vertex)\n",
        "\n",
        "      if len(graph.get_adjacent_vertices[neighbor])>0:\n",
        "        que.put(neighbor)\n",
        "\n",
        "\n",
        "  return distance_table\n",
        "\n",
        "\n",
        "def shortest_path(graph, source, destination):\n",
        "  distance_table= create_distance_table(graph, source)\n",
        "  path=[destination]\n",
        "  previous_vertex= distance_table[destination][1]\n",
        "\n",
        "  while previous_vertex is not source and previous_vertex is not None:\n",
        "    path=path+[previous_vertex]\n",
        "    previous_vertex=distance_table[previous_vertex][1]\n",
        "\n",
        "\n",
        "\n",
        "\n",
        "\n"
      ],
      "metadata": {
        "id": "YWjTlliOGlgn"
      },
      "execution_count": null,
      "outputs": []
    },
    {
      "cell_type": "code",
      "source": [
        "def create_data_table(graph, source):\n",
        "  data_table={}\n",
        "\n",
        "  for i in range(graph.numVertices):\n",
        "    data_table[i]=(None, None)\n",
        "  \n",
        "\n",
        "  data_table[source]=(0,source)\n",
        "\n",
        "  priorityQ= queue.PriorityQueue.priority_dict()\n",
        "\n",
        "  priorityQ.add(source)\n",
        "\n",
        "  while not priorityQ.empty():\n",
        "    current_vertex= priorityQ.get_smallest()\n",
        "    current_distance= data_table[current_vertex][0]\n",
        "\n",
        "    for neighbor in graph.get_adjacent_vertices(current_vertex):\n",
        "      distance= graph.get_edge_weight(current_vertex, neighbor)\n",
        "      neighbor_distance= data_table[neighbor][0]\n",
        "\n",
        "      if distance < neighbor_distance:\n",
        "        data_table[neighbor]=(neighbor_distance, current_vertex)\n",
        "        priorityQ[neighbor]=distance\n",
        "      "
      ],
      "metadata": {
        "id": "9i0O5t0QcgXG"
      },
      "execution_count": null,
      "outputs": []
    },
    {
      "cell_type": "code",
      "source": [
        "\n",
        "def build_table(graph, source):\n",
        "  data_table={}\n",
        "  for i in range(graph.numVertice):\n",
        "    data_table[i]=(None, None)\n",
        "  \n",
        "  data_table[source]=(0, source)\n",
        "\n",
        "  priorityQ= priorityQ.priority_dict()\n",
        "\n",
        "  priorityQ.add(source)\n",
        "\n",
        "  while not priorityQ.empty():\n",
        "    current_vertex= priorityQ.getSmallest()\n",
        "    current_distance= data_table[current_vertex][0]\n",
        "\n",
        "    for neighbor in graph.get_adjacent_vertice(current_vertex):  # repeated relaxation\n",
        "      distance= graph.get_edge_weight(neighbor, current_vertex)\n",
        "      neighbor_distance= data_table[neighbor][0]\n",
        "\n",
        "      if neighbor_distance> distance:\n",
        "        data_table[neighbor]=(distance, current_vertex)\n",
        "        priorityQ[neighbor]=distance\n",
        "\n",
        "\n",
        "  return data_table\n"
      ],
      "metadata": {
        "id": "8mf55QSbELsr"
      },
      "execution_count": null,
      "outputs": []
    },
    {
      "cell_type": "code",
      "source": [
        "import numpy as np\n",
        "import abc\n",
        "\n",
        "class Graph(abc.ABC):\n",
        "  def __init__(self, numVertices, directed=False):\n",
        "    self.numVertices= numVertices\n",
        "    self.directed=directed\n",
        "  \n",
        "  def add_edge(self, v1, v2, weight):\n",
        "    pass\n",
        "  \n",
        "\n",
        "  def get_adjacent_vertices(self, v):\n",
        "    pass\n",
        "  \n",
        "  def get_indegree(self, v):\n",
        "    pass\n",
        "  \n",
        "  def get_edge_weight(self, v1, v2):\n",
        "    pass\n",
        "\n",
        "  def display():\n",
        "    pass\n",
        "\n",
        "\n",
        "class AdjacentMatrix(Graph):\n",
        "  def __init__(self, numVertices, directed=False):\n",
        "    super(AdjacentMatrix, self).__init__(numVertice, directed)\n",
        "    self.matrix= np.zeros((numVertice, numVertices))\n",
        "\n",
        "  \n",
        "  def add_edge(self, v1,v2, weight=1):\n",
        "    if v1<0 or v2<0 or v1>self.numVertices or v2> self.numVertices:\n",
        "      raise ValueError(\"Check the input vertices\")\n",
        "    \n",
        "    if weight<0:\n",
        "      raise ValueError(\"Negative Weights are not Allowed\")\n",
        "\n",
        "      self.matrix[v1][v2]=weight\n",
        "\n",
        "    if directed=True:\n",
        "      self.matrix[v2][v1]= weight\n",
        "\n",
        "  def get_adjacent_vertices(self, v):\n",
        "\n",
        "    if v<0 or v> self.numVertices:\n",
        "      raise ValueError(\"Check the input vertex\")\n",
        "    \n",
        "    adjacent_list=[]\n",
        "\n",
        "    for i in range(self.numVertices):\n",
        "\n",
        "      if self.matrix[v][i]> 0:\n",
        "        adjacent_list.append(i)\n",
        "    \n",
        "    return adjacent_list\n",
        "\n",
        "  \n",
        "\n",
        "  def get_indegree(self, v):\n",
        "    if v<0 or v> self.numVertices:\n",
        "      raise ValueError(\"Check the input Vertex\")\n",
        "    \n",
        "    indegree=0\n",
        "\n",
        "    for i in range(self.numVertices):\n",
        "      if self.matrix[i][v]>0:\n",
        "        indegree+=1\n",
        "\n",
        "    return indegree\n",
        "  \n",
        "\n",
        "  def get_edge_weight(self, v1, v2):\n",
        "    return self.matrix[v1][v2]\n",
        "  \n",
        "\n",
        "\n",
        "    \n",
        "    \n",
        "\n",
        "\n",
        "    "
      ],
      "metadata": {
        "id": "tA57sNcMJLi0"
      },
      "execution_count": null,
      "outputs": []
    },
    {
      "cell_type": "code",
      "source": [],
      "metadata": {
        "id": "kIK6emH_MPNV"
      },
      "execution_count": null,
      "outputs": []
    },
    {
      "cell_type": "markdown",
      "source": [
        "Stack in python\n"
      ],
      "metadata": {
        "id": "6hd7ABXL5d7U"
      }
    },
    {
      "cell_type": "code",
      "source": [
        "\n",
        "\n",
        "class EmptyStackError(Exception):\n",
        "  pass\n",
        "\n",
        "\n",
        "class Stack:\n",
        "\n",
        "  def __init__(self):\n",
        "      self._list=[]  # hold items in the stack\n",
        "      self._top=-1   #Denotes the top of the stack\n",
        "\n",
        "\n",
        "  def isEmpty(self):\n",
        "\n",
        "      return self._top ==-1\n",
        "    \n",
        "  def push(self, item):\n",
        "      self._list.append(item)\n",
        "      self._top+=1\n",
        "\n",
        "  def pop(self):\n",
        "      if self.isEmpty():\n",
        "        raise EmptyStackError(\"Stack is empty: Trying to pop from an empty stack\")\n",
        "      \n",
        "      self._top-=1\n",
        "      return self._list.pop()\n",
        "    \n",
        "  def peek(self):\n",
        "      if self.isEmpty():\n",
        "        raise EmptyStackError(\"Stack is Empty: Trying to peek into an empty stack\")\n",
        "      return self._list[self._top]\n",
        "\n",
        "  def size(self):\n",
        "      return self._top+1\n",
        "\n",
        "if __name__=='__main__':\n",
        "  s=Stack()\n",
        "  s.push(\"world\")\n",
        "  s.push(\"hello\")\n",
        "  print(\"Size of the stack is {}. Element at the top is: {}\".format(s.size(), s.peek()))\n",
        "\n"
      ],
      "metadata": {
        "colab": {
          "base_uri": "https://localhost:8080/"
        },
        "id": "4gTwDvOs5fYW",
        "outputId": "ca898dc8-5d7d-4886-adfc-3ec1944b61bc"
      },
      "execution_count": null,
      "outputs": [
        {
          "output_type": "stream",
          "name": "stdout",
          "text": [
            "Size of the stack is 2. Element at the top is: hello\n"
          ]
        }
      ]
    },
    {
      "cell_type": "code",
      "source": [
        "class EmptyQueueError(Exception):\n",
        "  \"\"\" \n",
        "  Custom Error for empty queue.\n",
        "  \"\"\"\n",
        "  pass\n",
        "\n",
        "\n",
        "class Queue:\n",
        "\n",
        "  def __init__(self):\n",
        "    \n",
        "    self._data=[]\n",
        "  \n",
        "  def isEmpty(self):\n",
        "    return self.size()==0\n",
        "\n",
        "  def enqueue(self, item):\n",
        "    self._data.append(item)\n",
        "  \n",
        "  def dequeue(self):\n",
        "    if self.isEmpty():\n",
        "      raise EmptyQueueError(\"Trying to dequeue from an Empty Queue\")\n",
        "    return self._data.pop(0)\n",
        "\n",
        "  def size(self):\n",
        "    return len(self._data)\n",
        "\n",
        "if __name__==\"__main__\":\n",
        "  q= Queue()\n",
        "\n",
        "  q.enqueue(\"Hello\")\n",
        "  q.enqueue(\"World\")\n",
        "\n",
        "  print(\"Size of the Queue is: {}\".format(q.size()))\n",
        "\n",
        "  while not q.isEmpty():\n",
        "    print(q.dequeue())\n",
        "\n",
        "  "
      ],
      "metadata": {
        "id": "yAp3nEFgAfUR"
      },
      "execution_count": null,
      "outputs": []
    },
    {
      "cell_type": "markdown",
      "source": [
        "DEQUEUE\n"
      ],
      "metadata": {
        "id": "3ZIafxXVfR0E"
      }
    },
    {
      "cell_type": "code",
      "source": [
        "class EmptyDequeueError(Exception):\n",
        "  pass\n",
        "\n",
        "\n",
        "class Deque:\n",
        "  def __init__(self):\n",
        "\n",
        "    self._data=[]\n",
        "  def addFront(self, item):\n",
        "    self._data.insert(0, item)\n",
        "  \n",
        "\n",
        "  def addRead(self, item):\n",
        "\n",
        "    self._data.append(item)\n",
        "  \n",
        "  def removeFront(self):\n",
        "    if self.isEmpty():\n",
        "      raise EmptyDequeueError(\"removeFron: Removing from an empty Deque\")\n",
        "\n",
        "    return self._data.pop(0)\n",
        "    \n",
        "\n",
        "    \n",
        "  def removeRear(self):\n",
        "    if self.isEmpty():\n",
        "      raise EmptyDequeueError(\"removeFron: Removing from an empty Deque\")\n",
        "\n",
        "    return self._data.pop()\n",
        "\n",
        "  def size(self):\n",
        "    return len(self._data)\n",
        "\n",
        "  \n",
        "  def isEmpty(self):\n",
        "    return self.size()==0\n",
        "  \n",
        "\n",
        "if __name__ ==\"__main__\":\n",
        "  q= Deque()\n",
        "\n",
        "  q.addFront(\"hello\")\n"
      ],
      "metadata": {
        "id": "x2ABqao3_F2i"
      },
      "execution_count": null,
      "outputs": []
    },
    {
      "cell_type": "markdown",
      "source": [
        "HASH TABLE  ---Associative Arrays\n"
      ],
      "metadata": {
        "id": "_2PVWItdmyzi"
      }
    },
    {
      "cell_type": "code",
      "source": [
        "class HashTable:\n",
        "  \n",
        "  def __init__(self):\n",
        "    self._size=4\n",
        "    self._table=[None] * self._size\n",
        "  \n",
        "\n",
        "  def hash_function(self, key): # maps integer to a slot\n",
        "    return key % self._size\n",
        "\n",
        "  def put(self, key, value):\n",
        "    if self.utilization >=0.75:\n",
        "      self._resize()\n",
        "    \n",
        "    slot= self.hash_function(key)\n",
        "\n",
        "    if self._table[slot] is not None and self._table[slot][0]!=key:\n",
        "      slot= self._findslot(slot, key)\n",
        "    \n",
        "    self._table[slot]=(key, value)\n",
        "  \n",
        "\n",
        "  def get(self, key):\n",
        "    slot= self.hash_function(key)\n",
        "\n",
        "    if self._table[slot] is not None and self._table[slot][0]!=key:\n",
        "      slot=self._findslot(slot, key)\n",
        "    \n",
        "    return self._table[slot][1] if self._table[slot] is not None else None \n",
        "\n",
        "\n",
        "  def _findslot(self, slot, key):\n",
        "    next_slot= self.hash_function(slot+1)\n",
        "\n",
        "    while self._table[next_slot] is not None and self._table[next_slot][0] != key:\n",
        "      next_slot= self.hash_function(next_slot +1)\n",
        "    \n",
        "    return next_slot\n",
        "  \n",
        "  def _resize(self):\n",
        "    self._size= self._size*2\n",
        "    old_table= self._table\n",
        "    self._table=[None]* self._size\n",
        "\n",
        "    for item in old_table:\n",
        "      if item is not None:\n",
        "        self.put(item[0], item[1])\n",
        "\n",
        "  def __iter__(self):\n",
        "    return iter([(item[0], item[1]) for item in self._table if item is not None])\n",
        "  \n",
        "\n",
        "  @property\n",
        "  def utilization(self):\n",
        "    return float(len(self))/float(self._size)  \n",
        "\n",
        "  def __setitem__(self, key, value):\n",
        "    self.put(key, value)\n",
        "  \n",
        "  def __getitem__(self, key):\n",
        "    return self.get(key)\n",
        "  \n",
        "  def __len__(self):\n",
        "    return len([k for k in self._table if k is not None])\n",
        "\n",
        "\n",
        "if __name__ ==\"__main__\":\n",
        "  h_t= HashTable()\n",
        "\n",
        "  h_t[18]=\"18\"\n",
        "  h_t[18]=\"19\"  \n",
        "  h_t[21]=\"21\"\n",
        "\n",
        "  for k, v in h_t:\n",
        "    print(k,v)\n",
        "\n",
        "\n",
        "\n",
        "    \n",
        "\n"
      ],
      "metadata": {
        "id": "6MS7vxXyfu2Q",
        "colab": {
          "base_uri": "https://localhost:8080/"
        },
        "outputId": "d90101fa-b707-4274-f95b-9cd48dbc42ec"
      },
      "execution_count": null,
      "outputs": [
        {
          "output_type": "stream",
          "name": "stdout",
          "text": [
            "21 21\n",
            "18 19\n"
          ]
        }
      ]
    },
    {
      "cell_type": "markdown",
      "source": [
        "Binary Trees\n"
      ],
      "metadata": {
        "id": "hSgAPtoOurfV"
      }
    },
    {
      "cell_type": "code",
      "source": [
        "class Node:\n",
        "\n",
        "  def __init__(self, data):\n",
        "    self._data= data\n",
        "    self._right=None\n",
        "    self._left=None\n",
        "  \n",
        "  def insert_left(self, data):\n",
        "    node= Node(data)\n",
        "    if self.get_left_child() is None: \n",
        "      self.set_left_child(node)\n",
        "    \n",
        "    else:\n",
        "      node._left=self.get_left_child() # the left referece of the new node shld be that of previous node\n",
        "      self.set_left_child(node)\n",
        "    \n",
        "\n",
        "  def insert_right(self, data):\n",
        "    node=Node(data)\n",
        "\n",
        "    if self.get_right_child() is None:\n",
        "      self.set_right_child(node)\n",
        "    \n",
        "    else:\n",
        "      node._right= self.get_right_child()\n",
        "      self.set_right_child(node)\n",
        "  \n",
        "  def get_left_child(self):\n",
        "    return self._left\n",
        "  \n",
        "\n",
        "  def get_right_child(self):\n",
        "    return self._right \n",
        "  \n",
        "  def set_left_child(self, new_node):\n",
        "    self._left= new_node\n",
        "  \n",
        "  def set_right_child(self, new_node):\n",
        "    self._right= new_node\n",
        "\n",
        "  def get_data(self):\n",
        "    return self._data \n",
        "  \n",
        "#================================================\n",
        "class BinaryTree:\n",
        "  \n",
        "  def __init__(self, data):\n",
        "    self._root= Node(data)\n",
        "  \n",
        "  def get_root(self):\n",
        "    return self._root\n",
        "\n",
        "  def _in_order(self, node):\n",
        "    if node is None: \n",
        "      return \n",
        "\n",
        "    self._in_order(node.get_left_child())\n",
        "    print(node.get_data())\n",
        "\n",
        "    self._in_order(node.get_right_child())\n",
        "\n",
        "  def in_order(self):\n",
        "    self._in_order(self.get_root())\n",
        "\n",
        "\n",
        "if __name__ == '__main__':\n",
        "\n",
        "  t= BinaryTree(5)\n",
        "\n",
        "  t.get_root().insert_left(3)\n",
        "  t.get_root().insert_right(7)\n",
        "\n",
        "  left_child= t.get_root().get_left_child()\n",
        "  left_child.insert_right(4)\n",
        "  left_child.insert_left(2)\n",
        "  \n",
        "\n",
        "  right_child= t.get_root().get_right_child()\n",
        "  right_child.insert_left(6)\n",
        "\n",
        "  t.in_order()\n",
        "\n",
        "  "
      ],
      "metadata": {
        "colab": {
          "base_uri": "https://localhost:8080/"
        },
        "id": "iPc0pfiAt7iv",
        "outputId": "a4525a0e-815e-48e8-ebcc-6393a4bbb48a"
      },
      "execution_count": null,
      "outputs": [
        {
          "output_type": "stream",
          "name": "stdout",
          "text": [
            "2\n",
            "3\n",
            "4\n",
            "5\n",
            "6\n",
            "7\n"
          ]
        }
      ]
    },
    {
      "cell_type": "markdown",
      "source": [
        "Heap Queues (priority Queue)"
      ],
      "metadata": {
        "id": "zpuGXZp_z7bx"
      }
    },
    {
      "cell_type": "code",
      "source": [
        "import heapq"
      ],
      "metadata": {
        "id": "Ub9C2lBjxYb8"
      },
      "execution_count": null,
      "outputs": []
    },
    {
      "cell_type": "code",
      "source": [
        "l=[20, 30, 40, 60, 10, 50]"
      ],
      "metadata": {
        "id": "1jRsfmiX0OMV"
      },
      "execution_count": null,
      "outputs": []
    },
    {
      "cell_type": "code",
      "source": [
        "heapq.heapify(l)"
      ],
      "metadata": {
        "id": "_IzRB3Xn0T_p"
      },
      "execution_count": null,
      "outputs": []
    },
    {
      "cell_type": "code",
      "source": [
        "l"
      ],
      "metadata": {
        "colab": {
          "base_uri": "https://localhost:8080/"
        },
        "id": "URmpEVDa0aq1",
        "outputId": "eeecc5f0-a489-4417-cd97-2027fa46a604"
      },
      "execution_count": null,
      "outputs": [
        {
          "output_type": "execute_result",
          "data": {
            "text/plain": [
              "[10, 20, 40, 60, 30, 50]"
            ]
          },
          "metadata": {},
          "execution_count": 9
        }
      ]
    },
    {
      "cell_type": "code",
      "source": [
        "heapq.heappop(l)"
      ],
      "metadata": {
        "colab": {
          "base_uri": "https://localhost:8080/"
        },
        "id": "xuc6IvDv0dAf",
        "outputId": "ae1edd78-91da-4000-8654-9bd4cfecaa10"
      },
      "execution_count": null,
      "outputs": [
        {
          "output_type": "execute_result",
          "data": {
            "text/plain": [
              "10"
            ]
          },
          "metadata": {},
          "execution_count": 10
        }
      ]
    },
    {
      "cell_type": "code",
      "source": [
        "l"
      ],
      "metadata": {
        "colab": {
          "base_uri": "https://localhost:8080/"
        },
        "id": "oO0okMjA0jEI",
        "outputId": "63b0894b-fc8e-4aa5-85fe-9c83770e191d"
      },
      "execution_count": null,
      "outputs": [
        {
          "output_type": "execute_result",
          "data": {
            "text/plain": [
              "[20, 30, 40, 60, 50]"
            ]
          },
          "metadata": {},
          "execution_count": 11
        }
      ]
    },
    {
      "cell_type": "code",
      "source": [],
      "metadata": {
        "id": "S-k77zLM0mfr"
      },
      "execution_count": null,
      "outputs": []
    },
    {
      "cell_type": "markdown",
      "source": [
        "MIN HEAP"
      ],
      "metadata": {
        "id": "0Veu82Vr1Ne3"
      }
    },
    {
      "cell_type": "code",
      "source": [
        "class EmptyHeapError(Exception):\n",
        "  pass\n",
        "\n",
        "\n",
        "class MinHeap:\n",
        "  def __init__(self):\n",
        "    self._list=[0]\n",
        "    self._size=0\n",
        "  \n",
        "  def insert(self, key):\n",
        "    self._list.append(key)\n",
        "    self._size+=1\n",
        "    self._perc_up(self._size)\n",
        "\n",
        "  def find_minimum(self):\n",
        "    if self.isEmpty():\n",
        "      raise EmptyHeapError(\"No Element found in the heap\")\n",
        "    \n",
        "    return self._list[1]\n",
        "  \n",
        "  def delete_minimum(self):\n",
        "    if self.isEmpty():\n",
        "      raise EmptyHeapError(\"No Element found in the heap\")\n",
        "    \n",
        "    minimum= self._list[1]\n",
        "    self._list[1]= self._list.pop()\n",
        "    self._size -=1\n",
        "    self._perc_down(1)\n",
        "\n",
        "    return minimum\n",
        "  \n",
        "\n",
        "  def size(self):\n",
        "    return self._size\n",
        "\n",
        "  def __len__(self):\n",
        "    return self.size()\n",
        "\n",
        "  def isEmpty(self):\n",
        "    return self.size()==0\n",
        "\n",
        "  \n",
        "  def _perc_up(self, pos):\n",
        "    while pos//2 >0:\n",
        "      if self._list[pos] < self._list[pos//2]:\n",
        "        (self._list[pos], self._list[pos//2])=(self._list[pos//2], self._list[pos])\n",
        "\n",
        "      pos= pos//2\n",
        "\n",
        "  def _perc_down(self, pos):\n",
        "    while pos * 2 <= self._size:\n",
        "      min_child=self._min_child(pos)\n",
        "      if self._list[pos]> self._list[min_child]:\n",
        "        (self._list[pos], self._list[min_child])= (self._list[min_child], self._list[pos])\n",
        "\n",
        "      pos= min_child\n",
        "  \n",
        "  def _min_child(self, pos):\n",
        "    if pos * 2 +1 > self._size:\n",
        "      return pos *2 \n",
        "\n",
        "\n",
        "    else:\n",
        "      if self._list[pos*2] <self._list[pos * 2 + 1 ]:\n",
        "        return pos *2 \n",
        "      else:\n",
        "        return pos* 2 +1\n",
        "  def __repr__(self):\n",
        "    return str(self._list)\n",
        "\n",
        "if __name__ == \"__main__\":\n",
        "  \n",
        "  min_heap= MinHeap()\n",
        "\n",
        "  for i in [20, 30, 40, 60, 10, 50]:\n",
        "    min_heap.insert(i)\n",
        "  \n",
        "  print(min_heap)\n",
        "\n",
        "  print(\"Minimum Item in the min heap is: {}\".format(min_heap.find_minimum()))\n",
        "\n",
        "\n",
        "\n",
        "    "
      ],
      "metadata": {
        "colab": {
          "base_uri": "https://localhost:8080/"
        },
        "id": "Ux-u-yBq1PWf",
        "outputId": "1a1497b1-6138-4eb5-9510-ad72b7998a4a"
      },
      "execution_count": null,
      "outputs": [
        {
          "output_type": "stream",
          "name": "stdout",
          "text": [
            "[0, 10, 20, 40, 60, 30, 50]\n",
            "Minimum Item in the min heap is: 10\n"
          ]
        }
      ]
    },
    {
      "cell_type": "markdown",
      "source": [
        "Red Black Tree\n"
      ],
      "metadata": {
        "id": "W80BZXCI-B2F"
      }
    },
    {
      "cell_type": "code",
      "source": [
        "#r1 - Each node must be red or black\n",
        "#r2 - root of the tree must always be black\n",
        "#r3 - red node must always have a black parent and black child nodes\n",
        "#r4 - unsuccessful search path\n",
        "  \n",
        "# Every path from root to a none node must go through exact number of black nodes"
      ],
      "metadata": {
        "id": "ScaKsdAW2Fy6"
      },
      "execution_count": null,
      "outputs": []
    },
    {
      "cell_type": "code",
      "source": [
        "# node is always painted as red during insertion\n",
        "# if tree is empty -create black node\n",
        "# if parent of the inserted node is:\n",
        "    # Black = perform nothing\n",
        "    # Red and sibling is:\n",
        "    #> Black or absent - rotate and recolor\n",
        "    #> Red -recolor and check again\n",
        "    "
      ],
      "metadata": {
        "id": "C5Vi1ucrA7lq"
      },
      "execution_count": null,
      "outputs": []
    },
    {
      "cell_type": "markdown",
      "source": [
        "Trie "
      ],
      "metadata": {
        "id": "Wy1iCYh0CrsA"
      }
    },
    {
      "cell_type": "code",
      "source": [
        "# efficient retrieval datastructure\n",
        "# o(m) retrieval time, m= length of Key \n",
        "# Multiple branches at each level\n",
        "# Drawback is the storage requirement\n",
        "# height is equal to length of the longest key"
      ],
      "metadata": {
        "id": "0QjdaJ0cCtlR"
      },
      "execution_count": null,
      "outputs": []
    },
    {
      "cell_type": "code",
      "source": [
        "class TrieNode: \n",
        "  def __init__(self):\n",
        "    self.children=[None] *26   # No of alphabets\n",
        "    self.end_of_key= False    # Denotes if the node is end of a key\n",
        "\n",
        "\n",
        "class Trie:\n",
        "  def __init__(self):\n",
        "    self.root= TrieNode()\n",
        "  \n",
        "  @staticmethod \n",
        "  def _char_to_index(char):\n",
        "    return ord(char) - ord('a')  # ord returns unicode from a given character\n",
        "\n",
        "  def insert(self, key):\n",
        "    key= key.lower()\n",
        "    current_node= self.root\n",
        "    for level in range(len(key)):\n",
        "      index= self._char_to_index((key[level]))\n",
        "\n",
        "      if current_node.children[index] is None:\n",
        "        current_node.children[index]= TrieNode()\n",
        "\n",
        "      current_node= current_node.children[index] #progressing the pointer \n",
        "\n",
        "    current_node.end_of_key= True\n",
        "\n",
        "\n",
        "  def search(self, key):\n",
        "    key= key.lower()\n",
        "    current_node= self.root\n",
        "\n",
        "    for level in range(len(key)):\n",
        "      index= self._char_to_index(key[level])\n",
        "\n",
        "      if current_node.children[index] is None:\n",
        "        return False\n",
        "\n",
        "      current_node= current_node.children[index]\n",
        "    return current_node is not None and current_node.end_of_key  # current_node is not None ???\n",
        "\n",
        "if __name__ == \"__main__\":\n",
        "\n",
        "  keys=[\"python\", \"perl\", \"pascal\", \"java\", \"pyflakes\"]\n",
        "\n",
        "  trie= Trie()\n",
        "  for key in keys:\n",
        "    trie.insert(key)\n",
        "\n",
        "  f_dict= {True:\"Found\", False:\"Not Found\"}\n",
        "\n",
        "  search_keys= [\"python\", \"pythons\", \"go\"]\n",
        "\n",
        "  for key in search_keys:\n",
        "    print(\"Key {} is {} in trie\".format(key, f_dict[trie.search(key)]))\n",
        "\n"
      ],
      "metadata": {
        "id": "pSjtgZRWC_xz"
      },
      "execution_count": null,
      "outputs": []
    },
    {
      "cell_type": "markdown",
      "source": [
        "Heap Data Structure "
      ],
      "metadata": {
        "id": "hrrnr3KrJDef"
      }
    },
    {
      "cell_type": "code",
      "source": [
        "#Heap using Array DS\n",
        "# root -a[i], children a[2*i+1] and a[2*i+2]\n",
        "# Heapsort has no bad case (most consistent in its operation)\n",
        "# from \"last parent\" to root [last parent-> n/2 -1]\n",
        "\n",
        "def buildHeap(A):\n",
        "  n= len(A)\n",
        "  for i in range(n//2-1, -1,-1):  #in reverse order with -1 as a step \n",
        "    heapify(A, i, n) \n",
        "\n",
        "\n",
        "def heapify(A, idx, maxIdx): #idx-2, maxIdx-6(how far we are concerned)\n",
        "  left= 2*idx+1\n",
        "  right= 2*idx+2\n",
        "\n",
        "  if left<maxIdx and A[left]>A[idx]:\n",
        "    largest=left \n",
        "  \n",
        "  else:\n",
        "    largest=idx \n",
        "  if right<maxIdx and A[right]>A[largest]:\n",
        "    largest=right \n",
        "  \n",
        "  if largest != idx:  # right/left is largest\n",
        "    A[idx], A[largest]= A[largest], A[idx]  # swapping only values\n",
        "    heapify(A, largest, maxIdx)             # after swap largest will be holding smaller value (propgt. changes down the heap)\n",
        "\n",
        "def heapsort(A):\n",
        "  buildHeap(A)\n",
        "  for i in range(len(A)-1, 0, -1): #uptil eg 15->1 (0 not included) becz zero hold root $ len(A) hold that after swap\n",
        "    A[0],A[i]=A[i],A[0]   #a[i]--> last element(len-1)\n",
        "    heapify(A, 0, i)"
      ],
      "metadata": {
        "id": "4q7-4Zw3JGZc"
      },
      "execution_count": null,
      "outputs": []
    },
    {
      "cell_type": "code",
      "source": [
        "# for i in range(2, -1,-1):\n",
        "#   print(i)\n",
        "\n",
        "\n",
        "# x= [y for y in range(15)]\n",
        "# x\n",
        "# buildHeap(x)\n",
        "# x\n",
        "\n",
        "a=[1,2,3]\n",
        "#print(len(a))\n",
        "# for i in range(len(a)-1, 0, -1):\n",
        "#   print(i,a[i])\n",
        "print(a[:3])\n",
        "\n",
        "# range(10, 0,-1) # will start from 10->1\n",
        "# range(10) # will start from 0->10"
      ],
      "metadata": {
        "colab": {
          "base_uri": "https://localhost:8080/"
        },
        "id": "s71Sy-6bN2im",
        "outputId": "6b573630-87f4-428f-9157-0ea44c0bce19"
      },
      "execution_count": null,
      "outputs": [
        {
          "output_type": "stream",
          "name": "stdout",
          "text": [
            "[1, 2, 3]\n"
          ]
        }
      ]
    },
    {
      "cell_type": "markdown",
      "source": [
        "Finding Kth Smallest Number in collection"
      ],
      "metadata": {
        "id": "hKCt1gOygkiW"
      }
    },
    {
      "cell_type": "code",
      "source": [
        "def kthSmalles(collection, k):\n",
        "  A=collection[:k]  # first k elements\n",
        "  buildHeap(A)\n",
        "\n",
        "  for i in range(k, len(collection)): # generates from k-> len(collection)\n",
        "    if collection[i]<A[0]:\n",
        "      A[0]=collection[i]\n",
        "      heapify(A, 0, k) \n",
        "  return A[0]\n"
      ],
      "metadata": {
        "id": "663GIDZyN671"
      },
      "execution_count": null,
      "outputs": []
    },
    {
      "cell_type": "markdown",
      "source": [
        "Priority Queue"
      ],
      "metadata": {
        "id": "uGbN_RQW4iu6"
      }
    },
    {
      "cell_type": "code",
      "source": [
        "PRIORITY =0 \n",
        "ID=1\n",
        "\n",
        "class BHeap:\n",
        "  def __init__(self, size):\n",
        "    self.size= size\n",
        "    self.n= 0\n",
        "    self.elements=[[0,None] for i in range(size+1)]\n",
        "    self.positions=[ 0 for i in range(size+1)]\n",
        "\n",
        "  \n",
        "  def isEmpty(self):\n",
        "    return self.n==0\n",
        "  \n",
        "  def smallest(self):# will alws be root, at index 0\n",
        "    id= self.elements[1][ID] # not taking index 0 into consid \n",
        "\n",
        "    last= self.elements[self.n]\n",
        "    self.n-=1\n",
        "\n",
        "    self.elements[1]=last \n",
        "    pIdx=1 \n",
        "    child=pIdx*2 \n",
        "\n",
        "    while child <= self.n:  # is equivalent to heapify, root will have value samller than both children\n",
        "\n",
        "      sm= self.elements[child]\n",
        "\n",
        "      if child<self.n:\n",
        "        if sm[PRIORITY]> self.elements[child+1][PRIORITY]: # priority of left child > priorty of right child\n",
        "          child+=1 \n",
        "          \n",
        "          sm= self.elements[child]   # next child is smallest\n",
        "      \n",
        "      if last[PRIORITY]<=sm[PRIORITY]:  # comparing second child priority \n",
        "        break\n",
        "\n",
        "      self.elements[pIdx]=sm     # replace parent with smallest of two child \n",
        "      self.positions[sm[ID]]=pIdx\n",
        "\n",
        "      pIdx= child   # propagating the change downwards \n",
        "      child= 2*pIdx\n",
        "#------------------\n",
        "    self.elements[pIdx]=last\n",
        "    self.positions[last[ID]]=pIdx\n",
        "    return id \n",
        "\n",
        "  def insert(self, id, priority):\n",
        "    self.n+=1\n",
        "    i=self.n\n",
        "    \n",
        "    while i>1:\n",
        "      pIdx= int(i/2)  # getting parent of last element \n",
        "      p=self.elements[pIdx]  # getting [priority, id] for parent \n",
        "\n",
        "      if priority>p[PRIORITY]: # if priority of incomin element is greater than parent \n",
        "        break\n",
        "      \n",
        "      self.elements[i]=p  # swap the last one with parent ( incom priority is smaller)\n",
        "      self.positions[p[ID]]=i\n",
        "      i=pIdx\n",
        "    \n",
        "    self.elements[i]= [priority, id] # place the position at the last element \n",
        "    self.positions[id]=i   # at position id insert last element\n",
        "\n",
        "  def decreaseKey(self,id, newPriority):     #log(k)\n",
        "\n",
        "    size=self.n\n",
        "\n",
        "    self.n=self.positions[id]-1   # \n",
        "    \n",
        "    self.insert(id, newPriority)\n",
        "    \n",
        "    self.n=size"
      ],
      "metadata": {
        "id": "YfFdAUKH4lRd"
      },
      "execution_count": null,
      "outputs": []
    },
    {
      "cell_type": "code",
      "source": [
        "positions=[2,4,5,6,7]\n",
        "print(positions[3]-1)"
      ],
      "metadata": {
        "colab": {
          "base_uri": "https://localhost:8080/"
        },
        "id": "sLE5an39C6NL",
        "outputId": "d08a0558-2f16-4e75-e9a2-86f5b0c80a3b"
      },
      "execution_count": null,
      "outputs": [
        {
          "output_type": "stream",
          "name": "stdout",
          "text": [
            "5\n"
          ]
        }
      ]
    },
    {
      "cell_type": "markdown",
      "source": [
        "All Pairs Shortest Path (Floyd and Warshall)\n",
        "\n"
      ],
      "metadata": {
        "id": "yw09ZRsAZX6g"
      }
    },
    {
      "cell_type": "code",
      "source": [
        "# key are vertices, each edge has weight and that's encoded as well\n",
        "graph ={\n",
        "        0:{1:2, 4:4},\n",
        "        1:{2:3},\n",
        "        2:{3:5,4:1},\n",
        "        3:{0:8},\n",
        "        4:{3,3}\n",
        "        }\n",
        "import sys\n",
        "\n",
        "def allPairsShortestPath(g):\n",
        "  \"\"\" returns distance structure as computed\"\"\"\n",
        "  dist={}\n",
        "  for u in g:\n",
        "    dist[u]={}\n",
        "    for v in g:\n",
        "      dist[u][v]=100\n",
        "\n",
        "    dist[u][u]=0\n",
        "    for v in g[u]:\n",
        "      dist[u][v]= g[u][v]\n",
        "  \n",
        "  return dist\n",
        "\n",
        "allPairsShortestPath(graph)\n"
      ],
      "metadata": {
        "id": "AiEbS_IK5JSd"
      },
      "execution_count": null,
      "outputs": []
    },
    {
      "cell_type": "code",
      "source": [
        "# Working Flyod and Warshal\n",
        "\n",
        "# w-> nxn matrix of edge weights\n",
        "# D -> distance matrix (i,j) -> shortest path cost from vertex i to j\n",
        "\n",
        "w=[\n",
        "    [0,8,10000,1],\n",
        "    [10000,0,1,10000],\n",
        "    [4,10000,0,10000],\n",
        "    [10000,2,9,0]\n",
        "   ]\n",
        "n=4\n",
        "d=w\n",
        "# d=([None]*4)*4\n",
        "# print(d)\n",
        "# for i in range(n):\n",
        "#   for j in range(n):\n",
        "    # d[i][j]=w[i][j]\n",
        "    # mid[i][j]=None \n",
        "  \n",
        "for k in range(n):\n",
        "  for i in range(n):\n",
        "    for j in range(n):\n",
        "      if d[i][k]+d[k][j]<d[i][j]:\n",
        "        d[i][j]=d[i][k]+d[k][j]\n",
        "      # mid[i][j]=k\n",
        "\n",
        "print(d)"
      ],
      "metadata": {
        "id": "9X-p9nM6hBhN"
      },
      "execution_count": null,
      "outputs": []
    },
    {
      "cell_type": "markdown",
      "source": [
        "Minimum Edit Distance "
      ],
      "metadata": {
        "id": "ZxYoN9TA7WNp"
      }
    },
    {
      "cell_type": "code",
      "source": [
        "def minEditDistance(s1, s2):\n",
        "  m=[]\n",
        "  len1= len(s1)\n",
        "  len2= len(s2)\n",
        "  maxlen= max(len1, len2)\n",
        "\n",
        "  m=[None]*(len2+1)   # gives a list containign (len2+1) no of None\n",
        "  for i in range (len2+1):\n",
        "    m[i]=[0]*(len1+1)   # each none is replaced my a list of len-> len1+1\n",
        "\n",
        "  # set up initial costs on horizontal \n",
        "  for j in range(1, len1+1):\n",
        "    m[0][j]=j\n",
        "  \n",
        "  # cost for vertical \n",
        "  for i in range(1, len2+1):\n",
        "    m[i][0]=i \n",
        "  \n",
        "  # compute best \n",
        "  for i in range(1, len2+1):\n",
        "    for j in range(1, len1+1):\n",
        "      cost=1 \n",
        "      if s1[j-1]==s2[i-1]:\n",
        "        cost =0\n",
        "      \n",
        "      replaceCost= m[i-1][j-1]+cost\n",
        "      removeCost=m[i-1][j]+1\n",
        "      addCost=m[i][j-1]+1\n",
        "      m[i][j]= min(replaceCost, removeCost, addCost) \n",
        "\n",
        "  print(m) \n",
        "  return m[len2][len1]\n",
        "\n",
        "minEditDistance('Grades', 'Create')\n",
        "\n",
        "#How to get the distance??"
      ],
      "metadata": {
        "colab": {
          "base_uri": "https://localhost:8080/"
        },
        "id": "BLrWu9dAy5x4",
        "outputId": "147dc85e-7892-4477-87da-702b26474f1d"
      },
      "execution_count": null,
      "outputs": [
        {
          "output_type": "stream",
          "name": "stdout",
          "text": [
            "[[0, 1, 2, 3, 4, 5, 6], [1, 1, 2, 3, 4, 5, 6], [2, 2, 1, 2, 3, 4, 5], [3, 3, 2, 2, 3, 3, 4], [4, 4, 3, 2, 3, 4, 4], [5, 5, 4, 3, 3, 4, 5], [6, 6, 5, 4, 4, 3, 4]]\n"
          ]
        },
        {
          "output_type": "execute_result",
          "data": {
            "text/plain": [
              "4"
            ]
          },
          "metadata": {},
          "execution_count": 4
        }
      ]
    },
    {
      "cell_type": "markdown",
      "source": [
        "Matrix Chain Multiplication"
      ],
      "metadata": {
        "id": "tbJV3EDQAhFc"
      }
    },
    {
      "cell_type": "code",
      "source": [
        "#n- no of matrix -- will determin the table size \n",
        "p=[5,4,6,2,7,3]\n",
        "\n",
        "#def multiplication(n,p):\n",
        "n=5\n",
        "table=[None]*(n+1)   # gives a list containign (len2+1) no of None\n",
        "for i in range (n+1):\n",
        "  table[i]=[10000]*(n+1)   #initialize the table with infinite number\n",
        "print(table)\n",
        "for i in range(n+1):\n",
        " table[i][i]=0\n",
        "\n",
        "\n",
        "s=[[0]*6]*6\n",
        "for l in range(2, n+1):  # from 2->n (l- diagonal)\n",
        "  for i in range(1,n-l+2): # from 1->n-l+1\n",
        "    j=i+l-1\n",
        "    for k in range(1, j):\n",
        "      t=table[i][k]+table[k+1][j]+p[i-1]*p[k]*p[j]\n",
        "      # print(l,\"crp-i\",i,\"crp-j\",j,\"crp-k\",k)\n",
        "      # print(t)\n",
        "      if t<table[i][j]:\n",
        "          table[i][j]=t\n",
        "          s[i][j]=k\n",
        "          print(s)\n",
        "          \n",
        "\n",
        "print(table) # cost matrix\n",
        "print(s) # stores the values of k, to use for extracting order in which matrix are multiplied\n",
        "\n"
      ],
      "metadata": {
        "colab": {
          "base_uri": "https://localhost:8080/"
        },
        "id": "UxOGZR4UD0Ge",
        "outputId": "ec79f557-b070-45ed-ee6c-75814da3b778"
      },
      "execution_count": null,
      "outputs": [
        {
          "output_type": "stream",
          "name": "stdout",
          "text": [
            "[[10000, 10000, 10000, 10000, 10000, 10000], [10000, 10000, 10000, 10000, 10000, 10000], [10000, 10000, 10000, 10000, 10000, 10000], [10000, 10000, 10000, 10000, 10000, 10000], [10000, 10000, 10000, 10000, 10000, 10000], [10000, 10000, 10000, 10000, 10000, 10000]]\n",
            "[[0, 0, 1, 0, 0, 0], [0, 0, 1, 0, 0, 0], [0, 0, 1, 0, 0, 0], [0, 0, 1, 0, 0, 0], [0, 0, 1, 0, 0, 0], [0, 0, 1, 0, 0, 0]]\n",
            "[[0, 0, 1, 1, 0, 0], [0, 0, 1, 1, 0, 0], [0, 0, 1, 1, 0, 0], [0, 0, 1, 1, 0, 0], [0, 0, 1, 1, 0, 0], [0, 0, 1, 1, 0, 0]]\n",
            "[[0, 0, 1, 2, 0, 0], [0, 0, 1, 2, 0, 0], [0, 0, 1, 2, 0, 0], [0, 0, 1, 2, 0, 0], [0, 0, 1, 2, 0, 0], [0, 0, 1, 2, 0, 0]]\n",
            "[[0, 0, 1, 2, 1, 0], [0, 0, 1, 2, 1, 0], [0, 0, 1, 2, 1, 0], [0, 0, 1, 2, 1, 0], [0, 0, 1, 2, 1, 0], [0, 0, 1, 2, 1, 0]]\n",
            "[[0, 0, 1, 2, 2, 0], [0, 0, 1, 2, 2, 0], [0, 0, 1, 2, 2, 0], [0, 0, 1, 2, 2, 0], [0, 0, 1, 2, 2, 0], [0, 0, 1, 2, 2, 0]]\n",
            "[[0, 0, 1, 2, 3, 0], [0, 0, 1, 2, 3, 0], [0, 0, 1, 2, 3, 0], [0, 0, 1, 2, 3, 0], [0, 0, 1, 2, 3, 0], [0, 0, 1, 2, 3, 0]]\n",
            "[[0, 0, 1, 2, 3, 1], [0, 0, 1, 2, 3, 1], [0, 0, 1, 2, 3, 1], [0, 0, 1, 2, 3, 1], [0, 0, 1, 2, 3, 1], [0, 0, 1, 2, 3, 1]]\n",
            "[[0, 0, 1, 2, 3, 2], [0, 0, 1, 2, 3, 2], [0, 0, 1, 2, 3, 2], [0, 0, 1, 2, 3, 2], [0, 0, 1, 2, 3, 2], [0, 0, 1, 2, 3, 2]]\n",
            "[[0, 0, 1, 2, 3, 3], [0, 0, 1, 2, 3, 3], [0, 0, 1, 2, 3, 3], [0, 0, 1, 2, 3, 3], [0, 0, 1, 2, 3, 3], [0, 0, 1, 2, 3, 3]]\n",
            "[[0, 0, 1, 2, 3, 4], [0, 0, 1, 2, 3, 4], [0, 0, 1, 2, 3, 4], [0, 0, 1, 2, 3, 4], [0, 0, 1, 2, 3, 4], [0, 0, 1, 2, 3, 4]]\n",
            "[[0, 0, 1, 1, 3, 4], [0, 0, 1, 1, 3, 4], [0, 0, 1, 1, 3, 4], [0, 0, 1, 1, 3, 4], [0, 0, 1, 1, 3, 4], [0, 0, 1, 1, 3, 4]]\n",
            "[[0, 0, 1, 2, 3, 4], [0, 0, 1, 2, 3, 4], [0, 0, 1, 2, 3, 4], [0, 0, 1, 2, 3, 4], [0, 0, 1, 2, 3, 4], [0, 0, 1, 2, 3, 4]]\n",
            "[[0, 0, 1, 2, 1, 4], [0, 0, 1, 2, 1, 4], [0, 0, 1, 2, 1, 4], [0, 0, 1, 2, 1, 4], [0, 0, 1, 2, 1, 4], [0, 0, 1, 2, 1, 4]]\n",
            "[[0, 0, 1, 2, 2, 4], [0, 0, 1, 2, 2, 4], [0, 0, 1, 2, 2, 4], [0, 0, 1, 2, 2, 4], [0, 0, 1, 2, 2, 4], [0, 0, 1, 2, 2, 4]]\n",
            "[[0, 0, 1, 2, 3, 4], [0, 0, 1, 2, 3, 4], [0, 0, 1, 2, 3, 4], [0, 0, 1, 2, 3, 4], [0, 0, 1, 2, 3, 4], [0, 0, 1, 2, 3, 4]]\n",
            "[[0, 0, 1, 2, 3, 1], [0, 0, 1, 2, 3, 1], [0, 0, 1, 2, 3, 1], [0, 0, 1, 2, 3, 1], [0, 0, 1, 2, 3, 1], [0, 0, 1, 2, 3, 1]]\n",
            "[[0, 0, 1, 2, 3, 2], [0, 0, 1, 2, 3, 2], [0, 0, 1, 2, 3, 2], [0, 0, 1, 2, 3, 2], [0, 0, 1, 2, 3, 2], [0, 0, 1, 2, 3, 2]]\n",
            "[[0, 0, 1, 2, 3, 3], [0, 0, 1, 2, 3, 3], [0, 0, 1, 2, 3, 3], [0, 0, 1, 2, 3, 3], [0, 0, 1, 2, 3, 3], [0, 0, 1, 2, 3, 3]]\n",
            "[[0, 0, 1, 2, 3, 4], [0, 0, 1, 2, 3, 4], [0, 0, 1, 2, 3, 4], [0, 0, 1, 2, 3, 4], [0, 0, 1, 2, 3, 4], [0, 0, 1, 2, 3, 4]]\n",
            "[[0, 0, 1, 2, 1, 4], [0, 0, 1, 2, 1, 4], [0, 0, 1, 2, 1, 4], [0, 0, 1, 2, 1, 4], [0, 0, 1, 2, 1, 4], [0, 0, 1, 2, 1, 4]]\n",
            "[[0, 0, 1, 2, 2, 4], [0, 0, 1, 2, 2, 4], [0, 0, 1, 2, 2, 4], [0, 0, 1, 2, 2, 4], [0, 0, 1, 2, 2, 4], [0, 0, 1, 2, 2, 4]]\n",
            "[[0, 0, 1, 2, 3, 4], [0, 0, 1, 2, 3, 4], [0, 0, 1, 2, 3, 4], [0, 0, 1, 2, 3, 4], [0, 0, 1, 2, 3, 4], [0, 0, 1, 2, 3, 4]]\n",
            "[[0, 0, 1, 2, 3, 1], [0, 0, 1, 2, 3, 1], [0, 0, 1, 2, 3, 1], [0, 0, 1, 2, 3, 1], [0, 0, 1, 2, 3, 1], [0, 0, 1, 2, 3, 1]]\n",
            "[[0, 0, 1, 2, 3, 2], [0, 0, 1, 2, 3, 2], [0, 0, 1, 2, 3, 2], [0, 0, 1, 2, 3, 2], [0, 0, 1, 2, 3, 2], [0, 0, 1, 2, 3, 2]]\n",
            "[[0, 0, 1, 2, 3, 3], [0, 0, 1, 2, 3, 3], [0, 0, 1, 2, 3, 3], [0, 0, 1, 2, 3, 3], [0, 0, 1, 2, 3, 3], [0, 0, 1, 2, 3, 3]]\n",
            "[[0, 0, 1, 2, 3, 4], [0, 0, 1, 2, 3, 4], [0, 0, 1, 2, 3, 4], [0, 0, 1, 2, 3, 4], [0, 0, 1, 2, 3, 4], [0, 0, 1, 2, 3, 4]]\n",
            "[[0, 0, 1, 2, 3, 1], [0, 0, 1, 2, 3, 1], [0, 0, 1, 2, 3, 1], [0, 0, 1, 2, 3, 1], [0, 0, 1, 2, 3, 1], [0, 0, 1, 2, 3, 1]]\n",
            "[[0, 0, 1, 2, 3, 2], [0, 0, 1, 2, 3, 2], [0, 0, 1, 2, 3, 2], [0, 0, 1, 2, 3, 2], [0, 0, 1, 2, 3, 2], [0, 0, 1, 2, 3, 2]]\n",
            "[[0, 0, 1, 2, 3, 3], [0, 0, 1, 2, 3, 3], [0, 0, 1, 2, 3, 3], [0, 0, 1, 2, 3, 3], [0, 0, 1, 2, 3, 3], [0, 0, 1, 2, 3, 3]]\n",
            "[[0, 0, 1, 2, 3, 4], [0, 0, 1, 2, 3, 4], [0, 0, 1, 2, 3, 4], [0, 0, 1, 2, 3, 4], [0, 0, 1, 2, 3, 4], [0, 0, 1, 2, 3, 4]]\n",
            "[[0, 10000, 10000, 10000, 10000, 10000], [10000, 0, 120, 88, 158, 160], [10000, 10000, 0, 48, 104, 114], [10000, 10000, 10000, 0, 84, 78], [10000, 10000, 10000, 10000, 0, 42], [10000, 10000, 10000, 10000, 10000, 0]]\n",
            "[[0, 0, 1, 2, 3, 4], [0, 0, 1, 2, 3, 4], [0, 0, 1, 2, 3, 4], [0, 0, 1, 2, 3, 4], [0, 0, 1, 2, 3, 4], [0, 0, 1, 2, 3, 4]]\n"
          ]
        }
      ]
    },
    {
      "cell_type": "code",
      "source": [
        "n=5\n",
        "p=[5,4,6,2,7,3]\n",
        "\n",
        "rows, cols = (6, 6)\n",
        "table = [[0]*cols]*rows\n",
        "\n",
        "for l in range(2, n+1):  # from 2->n\n",
        "  for i in range(1,n-l+2): # from 1->n-l+1\n",
        "    j=i+l-1\n",
        "    for k in range(1, j):\n",
        "     #print(l,\"crp-i\",i,\"crp-j\",j,\"crp-k\",k)\n",
        "     #print(p[i-1],p[k],p[j])\n",
        "     print(table[i][k]+table[k+1][j])"
      ],
      "metadata": {
        "id": "6H1BiOA0GLfS"
      },
      "execution_count": null,
      "outputs": []
    },
    {
      "cell_type": "markdown",
      "source": [
        "Initialize a 2D Array"
      ],
      "metadata": {
        "id": "xXXI_kaTg_DP"
      }
    },
    {
      "cell_type": "code",
      "source": [
        "mid=[None]*n\n",
        "for i in range(n):\n",
        "  mid[i]=[0]*n\n",
        "print(mid)\n",
        "\n",
        "#or \n",
        "\n",
        "import numpy as np\n",
        "mat= np.zeros((n,n))"
      ],
      "metadata": {
        "id": "lTUKmvjGjVEP"
      },
      "execution_count": null,
      "outputs": []
    },
    {
      "cell_type": "markdown",
      "source": [
        "LCM (Longes common subsequence)"
      ],
      "metadata": {
        "id": "RQVaz2Y38p52"
      }
    },
    {
      "cell_type": "code",
      "source": [],
      "metadata": {
        "id": "ntIoHZUxld5H"
      },
      "execution_count": null,
      "outputs": []
    },
    {
      "cell_type": "markdown",
      "source": [
        "LinkedList"
      ],
      "metadata": {
        "id": "H_dH93Vilens"
      }
    },
    {
      "cell_type": "code",
      "source": [
        "# single LList \n",
        "\n",
        "class Node:\n",
        "\n",
        "  def __init__(self, data):\n",
        "    self.data=data\n",
        "    self.next=None \n",
        "  \n",
        "  def getData(self):\n",
        "    return self.data \n",
        "  \n",
        "  def getNext(self):\n",
        "    return self.next \n",
        "  \n",
        "  def setData(self,val):\n",
        "    self.data= val \n",
        "  \n",
        "  def setNext(self, val):\n",
        "    self.next= val\n",
        "\n",
        "#------------------\n",
        "class SList:\n",
        "\n",
        "  def __init__(self):\n",
        "    self.head=None \n",
        "  \n",
        "  def isEmpty(self):\n",
        "    return self.head is None \n",
        "\n",
        "  def add(self, item):  # adding element to the beginning \n",
        "    new_node= Node(item) \n",
        "    new_node.setNext(self.head)  # to what head is pointing \n",
        "    self.head= new_node # pointing head to the new_node \n",
        "  \n",
        "  def size(self):\n",
        "    count=0\n",
        "    current=self.head \n",
        "    while current is not None: \n",
        "      count+=1\n",
        "      current=current.getNext() \n",
        "    return count   # gives size \n",
        "  \n",
        "  def search(self, item):\n",
        "    current= self.head \n",
        "    found= False \n",
        "    while current is not None and not found:\n",
        "      if current.getData() is item:\n",
        "        found=True \n",
        "      \n",
        "      else:\n",
        "        current= current.getNext()\n",
        "    return found \n",
        "\n",
        "\n",
        "  def remove(self, item):\n",
        "   \n",
        "    current=self.head \n",
        "    previous=None \n",
        "\n",
        "    found =False \n",
        "\n",
        "    while current is not None and not found:\n",
        "      if current.getData() is item: #first \n",
        "        found=True \n",
        "      \n",
        "      else:\n",
        "       \n",
        "        previous= current   # maintaining the previous reference\n",
        "        current= current.getNext() \n",
        "    \n",
        "    if found:\n",
        "\n",
        "      if previous is None:  # front position \n",
        "        self.head=current.getNext() \n",
        "      \n",
        "      else:\n",
        "        # will cover middle & end case \n",
        "        previous.setNext(current.getNext()) # point the preceding pointer to successor \n",
        "    \n",
        "    else:\n",
        "      raise ValueError(\"Value not found\") \n",
        "\n",
        "\n",
        "\n",
        "  def insert(self, position, item):\n",
        "\n",
        "    if position >self.size()-1:   \n",
        "      raise ValueError(\"index out of bound\")\n",
        "    \n",
        "    current=self.head \n",
        "    previous=None \n",
        "\n",
        "    pos= 0 \n",
        "\n",
        "    if position is 0:\n",
        "      self.add(item) \n",
        "    \n",
        "    else:\n",
        "      new_node =Node(item) \n",
        "      while pos<position:\n",
        "        pos +=1 \n",
        "        previous= current \n",
        "        current= current.getNext() \n",
        "      \n",
        "      previous.setNext(new_node) # setting previous pointer to new_node \n",
        "      new_node.setNext(current)  # setting new_node pointer towards current\n",
        "\n",
        "  def index(self, item):\n",
        "    \"\"\"returns the index where item is found\"\"\"\n",
        "    current= self.head \n",
        "    pos=0 \n",
        "    found =False \n",
        "    while current is not None and not found:\n",
        "      if current.getData() is item:\n",
        "        found= True \n",
        "      \n",
        "      else:\n",
        "        current= current.getNext() \n",
        "        pos+=1\n",
        "    \n",
        "    if found:\n",
        "      pass \n",
        "    \n",
        "    else:\n",
        "      pos= None \n",
        "    \n",
        "    return pos \n",
        "\n",
        "  def pop(self, position=None):\n",
        "    \"\"\" \n",
        "    If no argument is provided, return and remove the item at head.\n",
        "    If position is provided, return and remove the iem at that position.\n",
        "    If index is out of bound, raise IndexError\n",
        "    \"\"\"\n",
        "    if position > self.size():     \n",
        "      raise ValueError(\"Index out of bound\") \n",
        "    \n",
        "    current=self.head\n",
        "    if position is None:\n",
        "      ret= current.getData()\n",
        "      self.head=current.getNext() \n",
        "    else:\n",
        "      pos=0 \n",
        "      previous= None \n",
        "      while pos < position:\n",
        "        previous = current  \n",
        "        current= current.getNext() \n",
        "        pos+=1\n",
        "      ret= current.getData()\n",
        "      previous.setNext(current.getNext())\n",
        "\n",
        "    print(ret) \n",
        "    return ret \n",
        "\n",
        "  def append(self, item):\n",
        "     \"\"\" Append item to the end of the list\"\"\"\n",
        "     current= self.head \n",
        "     previous= None \n",
        "     pos=0 \n",
        "\n",
        "     length= self.size()\n",
        "     \n",
        "     while pos<length:\n",
        "       previous= current \n",
        "       current=current.getNext()\n",
        "       pos+=1\n",
        "     new_node= None(item)\n",
        "     if previous is None:  # when only head is present\n",
        "       new_node.setNext(current)\n",
        "       self.head= new_node \n",
        "     else:\n",
        "       previous.setNext(new_node) \n",
        "\n",
        "  def printList(self):\n",
        "    \"\"\" print the list\"\"\" \n",
        "    current= self.head \n",
        "    while current is not None:\n",
        "      print (current.getData())\n",
        "      current=current.getNext()\n",
        "\n",
        "\n",
        "\n",
        "\n",
        "  \n",
        "\n",
        "\n"
      ],
      "metadata": {
        "id": "lvClZSddlqtp"
      },
      "execution_count": null,
      "outputs": []
    },
    {
      "cell_type": "markdown",
      "source": [
        "Reverse LList"
      ],
      "metadata": {
        "id": "EChKN3TQFq1o"
      }
    },
    {
      "cell_type": "code",
      "source": [],
      "metadata": {
        "id": "tI0Lm2BnFtvh"
      },
      "execution_count": null,
      "outputs": []
    },
    {
      "cell_type": "markdown",
      "source": [
        "DLList"
      ],
      "metadata": {
        "id": "cPAqFaOxFvyx"
      }
    },
    {
      "cell_type": "code",
      "source": [
        "#DLList \n",
        "class Node:\n",
        "  \n",
        "  def __init__(self, data):\n",
        "    self.data=data\n",
        "    self.prev=None \n",
        "    self.next= None \n",
        "  \n",
        "\n",
        "class DList:\n",
        "\n",
        "  def __init__(self):\n",
        "    self.head=None \n",
        "\n",
        "  def isEmpty(self):\n",
        "    return self.head is None \n",
        "\n",
        "  def add(self, item):  # adding element to the beginning \n",
        "    new_node= Node(item) \n",
        "    new_node.setNext(self.head)  # to what head is pointing \n",
        "    self.head= new_node # pointing head to the new_node \n",
        "\n",
        "    \n",
        "  \n",
        "\n",
        "  \n",
        "\n",
        "\n"
      ],
      "metadata": {
        "id": "ba0lQ_pnZSIb"
      },
      "execution_count": null,
      "outputs": []
    },
    {
      "cell_type": "code",
      "source": [
        "#Creating the Node class\n",
        "class Node:\n",
        "      def __init__(self, value = None):\n",
        "            self.value = value\n",
        "            self.next = None\n",
        "            self.prev = None\n",
        "\n",
        "#Create a doubly linked list class to initialize head and tail references\n",
        "class DoublyLinkedList:\n",
        "\n",
        "      def __init__(self):\n",
        "             self.head = None\n",
        "             self.tail = None\n",
        "\n",
        "       #Function to create Doubly Linked List\n",
        "      def createDLL(self, value):\n",
        "              new_node = Node(value)\n",
        "              new_node.next = None\n",
        "              new_node.prev = None\n",
        "              self.head = new_node\n",
        "              self.tail = new_node\n",
        "              print(\"The doubly linked list has been created.\")\n",
        "\n",
        "      def __iter__(self):\n",
        "            node = self.head\n",
        "            while node:\n",
        "                yield node\n",
        "                node = node.next\n",
        "\n",
        "      def atBeg(self, value):\n",
        "        new_node = Node(value)\n",
        "        self.head.prev = new_node\n",
        "        new_node.next = self.head\n",
        "        self.head = new_node\n",
        "\n",
        "\n",
        "      def inMid(self,prev_node, value):\n",
        "        if prev_node is None:\n",
        "            print(\"Mentioned node doesn't exist\")\n",
        "            return\n",
        "\n",
        "        new_node = Node(value)\n",
        "        next_node = prev_node.next \n",
        "\n",
        "        prev_node.next = new_node\n",
        "        new_node.prev = prev_node\n",
        "\n",
        "        new_node.next = next_node\n",
        "        next_node.prev = new_node\n",
        "\n",
        "      \n",
        "      def atEnd(self, value):\n",
        "        new_node = Node(value)\n",
        "\n",
        "        if self.head is None:\n",
        "            self.head = new_node\n",
        "            self.tail = new_node\n",
        "            return\n",
        "\n",
        "        last_node = self.head\n",
        "        while(last_node.next is not None):# traverse to reach last node \n",
        "            last_node = last_node.next\n",
        "        last_node.next = new_node\n",
        "        new_node.prev = last_node\n",
        "        self.tail = new_node    # update tail to point to new last node\n",
        "\n",
        "\n",
        "\n",
        "      def printForwardList(self):\n",
        "        if self.head == None:\n",
        "            print(\"The linked list does not exist.\")\n",
        "        else:\n",
        "            temp_node = self.head   #save head, iterate list\n",
        "            while temp_node:\n",
        "                print(temp_node.value)\n",
        "                temp_node = temp_node.next\n",
        "\n",
        "\n",
        "\n",
        "      def printReverseList(self):\n",
        "        if self.head == None:\n",
        "            print(\"The linked list does not exist.\")\n",
        "        else:\n",
        "            temp_node = self.tail\n",
        "            while temp_node:\n",
        "                print(temp_node.value)\n",
        "                temp_node = temp_node.prev\n",
        "\n",
        "\n",
        "\n",
        "      def searchList(self, value): \n",
        "             position = 0\n",
        "             found = 0\n",
        "             if self.head is None:\n",
        "                    print (\"The linked list does not exist\")\n",
        "             else:\n",
        "                    temp_node = self.head  \n",
        "                    while temp_node is not None:\n",
        "                            position = position + 1\n",
        "                            if temp_node.value == value:\n",
        "                                   print (\"The required value was found at position: \" + str(position))\n",
        "                                   found = 1\n",
        "                            temp_node = temp_node.next    \n",
        "             if found == 0:\n",
        "                    print (\"The required value does not exist in the list\")\n",
        "\n",
        "\n",
        "\n",
        "        #Function to delete node from the beginning\n",
        "      def delBeg(self):\n",
        "        if(self.head == None):\n",
        "            return\n",
        "        elif (self.head.next == self.tail.next): #only  2 nodes present\n",
        "            self.head = self.tail = None\n",
        "            return\n",
        "        elif (self.head is not None):\n",
        "            next_node = self.head.next\n",
        "            next_node.prev = None\n",
        "            self.head = next_node\n",
        "            return\n",
        "\n",
        "       #Function to delete a node from between the linked list\n",
        "      def delMid(self, del_value):\n",
        "        if(self.head == None):\n",
        "                  return\n",
        "        temp_node = self.head\n",
        "        found = False\n",
        "        while (temp_node) :\n",
        "              if(temp_node.value == del_value):\n",
        "                    found = True\n",
        "                    break\n",
        "              temp_node = temp_node.next\n",
        "              \n",
        "        if (found == True):\n",
        "              prev_node = temp_node.prev\n",
        "              next_node = temp_node.next\n",
        "              prev_node.next = next_node\n",
        "              next_node.prev = prev_node\n",
        "              return\n",
        "        else:\n",
        "              print(\"Element not found.\") \n",
        "\n",
        "\n",
        "\n",
        "        #Function to delete node from the end\n",
        "      def delEnd(self):\n",
        "              if(self.head == None):\n",
        "                  return\n",
        "              elif (self.head.next == self.tail.next):\n",
        "                  self.head = self.tail = None\n",
        "                  return\n",
        "              else:\n",
        "                  temp_node = self.head\n",
        "                  while (temp_node.next is not self.tail):\n",
        "                      temp_node = temp_node.next\n",
        "                  self.tail = temp_node\n",
        "                  temp_node.next = None\n",
        "                  return\n",
        "\n",
        "         #Deletion of an entire Doubly Linked List\n",
        "\n",
        "\n",
        "\n",
        "      def delDLL(self):\n",
        "        if self.head is None:\n",
        "            print(\"The doubly linked list does not exist.\")\n",
        "        else:\n",
        "            temp_node = self.head\n",
        "            while (temp_node):\n",
        "                temp_node.prev = None\n",
        "                temp_node = temp_node.next\n",
        "            self.head = None\n",
        "            self.tail = None\n",
        "        print(\"The doubly linked list has been deleted.\")      \n",
        "           \n",
        "\n",
        "\n",
        "\n",
        "\n",
        "\n",
        "#Initialize the linked list with a new node\n",
        "doublyLL = DoublyLinkedList()\n",
        "doublyLL.createDLL(5)\n",
        "print([node.value for node in doublyLL])\n",
        "\n"
      ],
      "metadata": {
        "colab": {
          "base_uri": "https://localhost:8080/"
        },
        "id": "fffZKk-x2Tp-",
        "outputId": "ac5d3aa9-838d-4ccc-b122-e41fd80276dd"
      },
      "execution_count": null,
      "outputs": [
        {
          "output_type": "stream",
          "name": "stdout",
          "text": [
            "The doubly linked list has been created.\n",
            "[5]\n"
          ]
        }
      ]
    },
    {
      "cell_type": "code",
      "source": [],
      "metadata": {
        "id": "GExBSVcC3zH6"
      },
      "execution_count": null,
      "outputs": []
    },
    {
      "cell_type": "markdown",
      "source": [
        "Fenwick/ Binary Indexed Tree "
      ],
      "metadata": {
        "id": "Cz1BxLWJo8it"
      }
    },
    {
      "cell_type": "code",
      "source": [],
      "metadata": {
        "id": "kUNTlsLgo_38"
      },
      "execution_count": null,
      "outputs": []
    }
  ],
  "metadata": {
    "colab": {
      "provenance": [],
      "include_colab_link": true
    },
    "kernelspec": {
      "display_name": "Python 3",
      "name": "python3"
    }
  },
  "nbformat": 4,
  "nbformat_minor": 0
}