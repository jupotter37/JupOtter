{
  "nbformat": 4,
  "nbformat_minor": 0,
  "metadata": {
    "colab": {
      "provenance": [],
      "include_colab_link": true
    },
    "kernelspec": {
      "name": "python3",
      "display_name": "Python 3"
    },
    "language_info": {
      "name": "python"
    }
  },
  "cells": [
    {
      "cell_type": "markdown",
      "metadata": {
        "id": "view-in-github",
        "colab_type": "text"
      },
      "source": [
        "<a href=\"https://colab.research.google.com/github/hy30n80/Data-Structure-/blob/main/10_Queues.ipynb\" target=\"_parent\"><img src=\"https://colab.research.google.com/assets/colab-badge.svg\" alt=\"Open In Colab\"/></a>"
      ]
    },
    {
      "cell_type": "markdown",
      "source": [
        "# EC2202 Queues"
      ],
      "metadata": {
        "id": "gqZUxjuw8OE4"
      }
    },
    {
      "cell_type": "code",
      "source": [
        "%%HTML\n",
        "<iframe width=\"560\" height=\"315\" src=\"https://www.youtube.com/embed/rKunXuzVEVk\" title=\"YouTube video player\" frameborder=\"0\" allowfullscreen></iframe>"
      ],
      "metadata": {
        "colab": {
          "base_uri": "https://localhost:8080/",
          "height": 336
        },
        "id": "ZnMyqwG6rUZB",
        "outputId": "6640d655-b6e6-496d-ef8c-17acdae55e1c"
      },
      "execution_count": null,
      "outputs": [
        {
          "output_type": "display_data",
          "data": {
            "text/plain": [
              "<IPython.core.display.HTML object>"
            ],
            "text/html": [
              "<iframe width=\"560\" height=\"315\" src=\"https://www.youtube.com/embed/rKunXuzVEVk\" title=\"YouTube video player\" frameborder=\"0\" allowfullscreen></iframe>\n"
            ]
          },
          "metadata": {}
        }
      ]
    },
    {
      "cell_type": "markdown",
      "source": [
        "**Disclaimer.**\n",
        "This code examples are based on\n",
        "\n",
        "1. [KAIST CS206 (Professor Otfried Cheong)](https://otfried.org/courses/cs206/)\n",
        "2. [LeetCode](https://leetcode.com/)\n",
        "3. [GeeksForGeeks](https://practice.geeksforgeeks.org/)\n",
        "4. Coding Interviews"
      ],
      "metadata": {
        "id": "1bWHozli8SQ_"
      }
    },
    {
      "cell_type": "markdown",
      "source": [
        "## Implementing a Queue"
      ],
      "metadata": {
        "id": "lDEbL7Wj8Vv6"
      }
    },
    {
      "cell_type": "markdown",
      "source": [
        "### Using the Python List"
      ],
      "metadata": {
        "id": "zXA28F-RBrXc"
      }
    },
    {
      "cell_type": "markdown",
      "source": [
        "#### Basic Idea"
      ],
      "metadata": {
        "id": "-9IaMt5BN8SA"
      }
    },
    {
      "cell_type": "markdown",
      "source": [
        "The Python list makes our life simple."
      ],
      "metadata": {
        "id": "WPJf4G3BBuB1"
      }
    },
    {
      "cell_type": "code",
      "source": [
        "class Queue():\n",
        "  def __init__(self):\n",
        "    self._data = []\n",
        "    self._size = 0\n",
        "\n",
        "  def is_empty(self):\n",
        "    return len(self._data) == 0\n",
        "\n",
        "  def front(self):\n",
        "    if self.is_empty():\n",
        "      raise EmptyQueueError\n",
        "    return self._data[0]\n",
        "\n",
        "  def dequeue(self):  # takes O(N) :<\n",
        "    if self.is_empty():\n",
        "      raise EmptyQueueError\n",
        "    self._size -= 1\n",
        "    return self._data.pop(0)  # takes O(N)\n",
        "\n",
        "  def enqueue(self, x):\n",
        "    self._data.append(x)\n",
        "    self._size += 1\n",
        "\n",
        "  def size(self):\n",
        "    return self._size"
      ],
      "metadata": {
        "id": "O7STA7MpBuj9"
      },
      "execution_count": 1,
      "outputs": []
    },
    {
      "cell_type": "code",
      "source": [
        "queue = Queue()\n",
        "print('after we initialized a queue:', queue.is_empty())\n",
        "queue.enqueue(1)\n",
        "print('after pushing 1 into the queue:', queue.is_empty())\n",
        "queue.enqueue(2)\n",
        "queue.enqueue(3)\n",
        "print('the front of the queue:', queue.front())\n",
        "print('dequeue from the queue:', queue.dequeue())\n",
        "print('dequeue from the queue:', queue.dequeue())\n",
        "print('dequeue from the queue:', queue.dequeue())\n",
        "print('after dequeue three times from the queue:', queue.is_empty())"
      ],
      "metadata": {
        "colab": {
          "base_uri": "https://localhost:8080/"
        },
        "id": "cJF38rxAbOej",
        "outputId": "0f55187c-93ff-477e-9a2e-d91d06ed9883"
      },
      "execution_count": 2,
      "outputs": [
        {
          "output_type": "stream",
          "name": "stdout",
          "text": [
            "after we initialized a queue: True\n",
            "after pushing 1 into the queue: False\n",
            "the front of the queue: 1\n",
            "dequeue from the queue: 1\n",
            "dequeue from the queue: 2\n",
            "dequeue from the queue: 3\n",
            "after dequeue three times from the queue: True\n"
          ]
        }
      ]
    },
    {
      "cell_type": "markdown",
      "source": [
        "#### More Efficient Implementation"
      ],
      "metadata": {
        "id": "_5J_mk5JKQzg"
      }
    },
    {
      "cell_type": "markdown",
      "source": [
        "We are going to implement a Queue with two Python lists that takes O(1) on average for all operations?"
      ],
      "metadata": {
        "id": "lUE8BdfYKUQ3"
      }
    },
    {
      "cell_type": "code",
      "source": [
        "class Queue():\n",
        "  def __init__(self):\n",
        "    self._in = [] # for in (get item)\n",
        "    self._out = [] # for out (pass item)\n",
        "\n",
        "  def is_empty(self):\n",
        "    return len(self._in) == 0 and len(self._out) == 0\n",
        "\n",
        "  # out list 를 정렬 (바로 나갈 수 있게)\n",
        "  def _sort_out(self):\n",
        "    if self.is_empty():\n",
        "      raise EmptyQueueError\n",
        "\n",
        "    # 아, self._out == 0 이 될때만 이렇게 한다는 거구나!!!\n",
        "    if len(self._out) == 0:\n",
        "      self._out = self._in # in list 를 copy\n",
        "      self._in = [] # in list 초기화\n",
        "      self._out.reverse()\n",
        "\n",
        "  def front(self):\n",
        "    self._sort_out() # out list 로 변환\n",
        "    return self._out[-1]\n",
        "\n",
        "  def dequeue(self):\n",
        "    self._sort_out()\n",
        "    return self._out.pop()  # takes O(1) on average, worst-case: O(N)\n",
        "\n",
        "    # worst-case : enqueue all the time, and dequeue O(N)\n",
        "    # Best-case : enqueue - dequeue 계속 번갈아가면서 지속하는 상황 O(1)\n",
        "\n",
        "  def enqueue(self, x):\n",
        "    self._in.append(x)"
      ],
      "metadata": {
        "id": "eHa09C-tKZiH"
      },
      "execution_count": 8,
      "outputs": []
    },
    {
      "cell_type": "code",
      "source": [
        "queue = Queue()\n",
        "print('after we initialized a queue:', queue.is_empty())\n",
        "queue.enqueue(1)\n",
        "print('after pushing 1 into the queue:', queue.is_empty())\n",
        "queue.enqueue(2)\n",
        "queue.enqueue(3)\n",
        "print('the front of the queue:', queue.front())\n",
        "print('dequeue from the queue:', queue.dequeue())\n",
        "print('dequeue from the queue:', queue.dequeue())\n",
        "print('dequeue from the queue:', queue.dequeue())\n",
        "print('after dequeue three times from the queue:', queue.is_empty())"
      ],
      "metadata": {
        "colab": {
          "base_uri": "https://localhost:8080/"
        },
        "id": "xnXUbruYR84P",
        "outputId": "5ec603fc-a5f4-440c-9f6c-d50ef98ee266"
      },
      "execution_count": 9,
      "outputs": [
        {
          "output_type": "stream",
          "name": "stdout",
          "text": [
            "after we initialized a queue: True\n",
            "after pushing 1 into the queue: False\n",
            "the front of the queue: 1\n",
            "dequeue from the queue: 1\n",
            "dequeue from the queue: 2\n",
            "dequeue from the queue: 3\n",
            "after dequeue three times from the queue: True\n"
          ]
        }
      ]
    },
    {
      "cell_type": "code",
      "source": [
        "queue = Queue()\n",
        "queue.enqueue(4)\n",
        "queue.enqueue(5)\n",
        "queue.enqueue(6)\n",
        "print(queue.dequeue())\n",
        "\n",
        "queue.enqueue(7)\n",
        "print(queue.dequeue())\n",
        "print(queue.dequeue())"
      ],
      "metadata": {
        "colab": {
          "base_uri": "https://localhost:8080/"
        },
        "id": "jZL_uHTFV5X1",
        "outputId": "56d929cc-bfcd-4502-84c2-acdcec0978be"
      },
      "execution_count": 7,
      "outputs": [
        {
          "output_type": "stream",
          "name": "stdout",
          "text": [
            "4\n",
            "5\n",
            "6\n"
          ]
        }
      ]
    },
    {
      "cell_type": "markdown",
      "source": [
        "### Using Arrays"
      ],
      "metadata": {
        "id": "Oy1sk9pc9KDC"
      }
    },
    {
      "cell_type": "markdown",
      "source": [
        "However, you might not be able to use Python all the times. You sometimes need to write code in other languages such as C, C++ or Java. In such cases, we implement a Queue with arrays. Furthermore, we implement a Queue as a **circular Queue**."
      ],
      "metadata": {
        "id": "7bGGC068Fvjz"
      }
    },
    {
      "cell_type": "markdown",
      "source": [
        "#### 'ppp' Exercise"
      ],
      "metadata": {
        "id": "Gln4ogtfOEr6"
      }
    },
    {
      "cell_type": "markdown",
      "source": [
        "Can you implement a circular Queue using arrays?"
      ],
      "metadata": {
        "id": "sXPUDxhDOGUu"
      }
    },
    {
      "cell_type": "code",
      "execution_count": 14,
      "metadata": {
        "id": "pa6OKiIWyu-H"
      },
      "outputs": [],
      "source": [
        "class Queue():\n",
        "  # 1) Initialized: 5 => 4 items\n",
        "  #        [ None, None, None, None, None ]\n",
        "  # front     ^\n",
        "  # rear      ^\n",
        "\n",
        "  # 2) Add one item\n",
        "  #        [ Item, None, None, None, None ]\n",
        "  # front     ^\n",
        "  # rear            ^\n",
        "\n",
        "  # 3) Add some items\n",
        "  #        [ None, Item, Item, None, None ]\n",
        "  # front           ^\n",
        "  # rear                        ^\n",
        "\n",
        "  # 4) Add more items\n",
        "  #        [ Item, None, None, Item, Item ]\n",
        "  # front                       ^\n",
        "  # rear            ^\n",
        "\n",
        "  # 5) Add even more items\n",
        "  #        [ Item, Item, Item, Item, Item ]\n",
        "  # front                       ^\n",
        "  # rear                        ^\n",
        "\n",
        "  # What does front == rear mean? Full buffer or empty buffer?\n",
        "  # Typical solution: Forbid filling buffer completely\n",
        "  #                   always keep one slot free.\n",
        "\n",
        "  def __init__(self, capacity):\n",
        "    self._data = [None] * capacity\n",
        "    self._front = 0\n",
        "    self._rear = 0\n",
        "\n",
        "  def is_empty(self):\n",
        "    return self._front == self._rear\n",
        "\n",
        "  # we always keep one slot empty to distinguish full from empty\n",
        "  def is_full(self):\n",
        "    return self._front == ((self._rear + 1) % len(self._data))\n",
        "\n",
        "  def front(self):\n",
        "    if self.is_empty():\n",
        "      raise EmptyQueueError\n",
        "    return self._data[self._front]\n",
        "\n",
        "  def dequeue(self):\n",
        "    if self.is_empty():\n",
        "      raise EmptyQueueError\n",
        "    temp = self._data[self._front]\n",
        "    self._front = (self._front + 1) % len(self._data)\n",
        "    return temp\n",
        "\n",
        "  def enqueue(self, item):\n",
        "    if self.is_full():\n",
        "      raise FullQueueError\n",
        "    self._data[self._rear] = item\n",
        "    self._rear = (self._rear + 1) % len(self._data)\n"
      ]
    },
    {
      "cell_type": "code",
      "source": [
        "queue = Queue(5)\n",
        "print('after we initialized a queue:', queue.is_empty())\n",
        "queue.enqueue(1)\n",
        "print('after pushing 1 into the queue:', queue.is_empty())\n",
        "queue.enqueue(2)\n",
        "queue.enqueue(3)\n",
        "queue.enqueue(4)\n",
        "queue.enqueue(5)\n",
        "print('the front of the queue:', queue.front())\n",
        "print('dequeue from the queue:', queue.dequeue())\n",
        "print('dequeue from the queue:', queue.dequeue())\n",
        "print('dequeue from the queue:', queue.dequeue())\n",
        "print('after dequeue three times from the queue:', queue.is_empty())\n",
        "\n",
        "# extra test cases for array-based queue\n",
        "# queue.enqueue(1)\n",
        "# queue.enqueue(2)\n",
        "# queue.enqueue(3)\n",
        "# queue.enqueue(4)\n",
        "# queue.enqueue(5)  # full-queue error occurs\n",
        "# queue.enqueue(6)\n",
        "# queue.enqueue(7)\n",
        "queue.enqueue(1)\n",
        "print(\"queue._front & queue._rear\", queue._front, queue._rear)\n",
        "queue.enqueue(2)\n",
        "print(\"queue._front & queue._rear\", queue._front, queue._rear)\n",
        "queue.enqueue(3)\n",
        "print(\"queue._front & queue._rear\", queue._front, queue._rear)\n",
        "queue.enqueue(4)\n",
        "print(\"queue._front & queue._rear\", queue._front, queue._rear)\n",
        "queue.dequeue()\n",
        "print(\"queue._front & queue._rear\", queue._front, queue._rear)\n",
        "queue.dequeue()\n",
        "print(\"queue._front & queue._rear\", queue._front, queue._rear)\n",
        "queue.enqueue(1)\n",
        "print(\"queue._front & queue._rear\", queue._front, queue._rear)\n",
        "queue.enqueue(2)\n",
        "print(\"queue._front & queue._rear\", queue._front, queue._rear)\n",
        "queue.dequeue()\n",
        "print(\"queue._front & queue._rear\", queue._front, queue._rear)\n",
        "queue.dequeue()\n",
        "print(\"queue._front & queue._rear\", queue._front, queue._rear)\n",
        "queue.dequeue()\n",
        "print(\"queue._front & queue._rear\", queue._front, queue._rear)\n",
        "queue.enqueue(3)\n",
        "print(\"queue._front & queue._rear\", queue._front, queue._rear)\n",
        "queue.enqueue(4)\n",
        "print(\"queue._front & queue._rear\", queue._front, queue._rear)"
      ],
      "metadata": {
        "colab": {
          "base_uri": "https://localhost:8080/",
          "height": 379
        },
        "id": "BfWrB28XbO-6",
        "outputId": "e8241977-220c-4852-a80c-fab94610b39d"
      },
      "execution_count": 16,
      "outputs": [
        {
          "output_type": "stream",
          "name": "stdout",
          "text": [
            "after we initialized a queue: True\n",
            "after pushing 1 into the queue: False\n"
          ]
        },
        {
          "output_type": "error",
          "ename": "NameError",
          "evalue": "name 'FullQueueError' is not defined",
          "traceback": [
            "\u001b[0;31m---------------------------------------------------------------------------\u001b[0m",
            "\u001b[0;31mNameError\u001b[0m                                 Traceback (most recent call last)",
            "\u001b[0;32m<ipython-input-16-b84ea380bb4b>\u001b[0m in \u001b[0;36m<cell line: 8>\u001b[0;34m()\u001b[0m\n\u001b[1;32m      6\u001b[0m \u001b[0mqueue\u001b[0m\u001b[0;34m.\u001b[0m\u001b[0menqueue\u001b[0m\u001b[0;34m(\u001b[0m\u001b[0;36m3\u001b[0m\u001b[0;34m)\u001b[0m\u001b[0;34m\u001b[0m\u001b[0;34m\u001b[0m\u001b[0m\n\u001b[1;32m      7\u001b[0m \u001b[0mqueue\u001b[0m\u001b[0;34m.\u001b[0m\u001b[0menqueue\u001b[0m\u001b[0;34m(\u001b[0m\u001b[0;36m4\u001b[0m\u001b[0;34m)\u001b[0m\u001b[0;34m\u001b[0m\u001b[0;34m\u001b[0m\u001b[0m\n\u001b[0;32m----> 8\u001b[0;31m \u001b[0mqueue\u001b[0m\u001b[0;34m.\u001b[0m\u001b[0menqueue\u001b[0m\u001b[0;34m(\u001b[0m\u001b[0;36m5\u001b[0m\u001b[0;34m)\u001b[0m\u001b[0;34m\u001b[0m\u001b[0;34m\u001b[0m\u001b[0m\n\u001b[0m\u001b[1;32m      9\u001b[0m \u001b[0mprint\u001b[0m\u001b[0;34m(\u001b[0m\u001b[0;34m'the front of the queue:'\u001b[0m\u001b[0;34m,\u001b[0m \u001b[0mqueue\u001b[0m\u001b[0;34m.\u001b[0m\u001b[0mfront\u001b[0m\u001b[0;34m(\u001b[0m\u001b[0;34m)\u001b[0m\u001b[0;34m)\u001b[0m\u001b[0;34m\u001b[0m\u001b[0;34m\u001b[0m\u001b[0m\n\u001b[1;32m     10\u001b[0m \u001b[0mprint\u001b[0m\u001b[0;34m(\u001b[0m\u001b[0;34m'dequeue from the queue:'\u001b[0m\u001b[0;34m,\u001b[0m \u001b[0mqueue\u001b[0m\u001b[0;34m.\u001b[0m\u001b[0mdequeue\u001b[0m\u001b[0;34m(\u001b[0m\u001b[0;34m)\u001b[0m\u001b[0;34m)\u001b[0m\u001b[0;34m\u001b[0m\u001b[0;34m\u001b[0m\u001b[0m\n",
            "\u001b[0;32m<ipython-input-14-584a561fe2d2>\u001b[0m in \u001b[0;36menqueue\u001b[0;34m(self, item)\u001b[0m\n\u001b[1;32m     53\u001b[0m   \u001b[0;32mdef\u001b[0m \u001b[0menqueue\u001b[0m\u001b[0;34m(\u001b[0m\u001b[0mself\u001b[0m\u001b[0;34m,\u001b[0m \u001b[0mitem\u001b[0m\u001b[0;34m)\u001b[0m\u001b[0;34m:\u001b[0m\u001b[0;34m\u001b[0m\u001b[0;34m\u001b[0m\u001b[0m\n\u001b[1;32m     54\u001b[0m     \u001b[0;32mif\u001b[0m \u001b[0mself\u001b[0m\u001b[0;34m.\u001b[0m\u001b[0mis_full\u001b[0m\u001b[0;34m(\u001b[0m\u001b[0;34m)\u001b[0m\u001b[0;34m:\u001b[0m\u001b[0;34m\u001b[0m\u001b[0;34m\u001b[0m\u001b[0m\n\u001b[0;32m---> 55\u001b[0;31m       \u001b[0;32mreturn\u001b[0m \u001b[0mFullQueueError\u001b[0m\u001b[0;34m\u001b[0m\u001b[0;34m\u001b[0m\u001b[0m\n\u001b[0m\u001b[1;32m     56\u001b[0m     \u001b[0mself\u001b[0m\u001b[0;34m.\u001b[0m\u001b[0m_data\u001b[0m\u001b[0;34m[\u001b[0m\u001b[0mself\u001b[0m\u001b[0;34m.\u001b[0m\u001b[0m_rear\u001b[0m\u001b[0;34m]\u001b[0m \u001b[0;34m=\u001b[0m \u001b[0mitem\u001b[0m\u001b[0;34m\u001b[0m\u001b[0;34m\u001b[0m\u001b[0m\n\u001b[1;32m     57\u001b[0m     \u001b[0mself\u001b[0m\u001b[0;34m.\u001b[0m\u001b[0m_rear\u001b[0m \u001b[0;34m=\u001b[0m \u001b[0;34m(\u001b[0m\u001b[0mself\u001b[0m\u001b[0;34m.\u001b[0m\u001b[0m_rear\u001b[0m \u001b[0;34m+\u001b[0m \u001b[0;36m1\u001b[0m\u001b[0;34m)\u001b[0m \u001b[0;34m%\u001b[0m \u001b[0mlen\u001b[0m\u001b[0;34m(\u001b[0m\u001b[0mself\u001b[0m\u001b[0;34m.\u001b[0m\u001b[0m_data\u001b[0m\u001b[0;34m)\u001b[0m\u001b[0;34m\u001b[0m\u001b[0;34m\u001b[0m\u001b[0m\n",
            "\u001b[0;31mNameError\u001b[0m: name 'FullQueueError' is not defined"
          ]
        }
      ]
    },
    {
      "cell_type": "markdown",
      "source": [
        "### Using Linked Nodes"
      ],
      "metadata": {
        "id": "ZDFPjt4qchuy"
      }
    },
    {
      "cell_type": "markdown",
      "source": [
        "As we made our list efficient by linking nodes (linked lists), we could do the similar thing for array Queues to make them efficient."
      ],
      "metadata": {
        "id": "KsxpPLmZcj2c"
      }
    },
    {
      "cell_type": "markdown",
      "source": [
        "#### 'ppp' Exercise\n",
        "\n",
        "Implement Stack using the `_Node` class"
      ],
      "metadata": {
        "id": "BnxbpgzckAUQ"
      }
    },
    {
      "cell_type": "code",
      "source": [
        "class _Node():\n",
        "  def __init__(self, item, next=None):\n",
        "    self.item = item\n",
        "    self.next = next\n",
        "\n",
        "class Queue:\n",
        "  def __init__(self):\n",
        "    self._front = None\n",
        "    self._rear = None\n",
        "    self.size = 0\n",
        "\n",
        "  def is_empty(self):\n",
        "    return self._front == None\n",
        "\n",
        "  def front(self):\n",
        "    if self.is_empty():\n",
        "      raise EmptyQueueError\n",
        "    return self._front.item\n",
        "\n",
        "  def dequeue(self):\n",
        "    temp = self.front()\n",
        "    self._front = self._front.next\n",
        "    self.size -=1\n",
        "    return temp\n",
        "\n",
        "  def enqueue(self, item):\n",
        "    a = _Node(item, None)\n",
        "    if self.is_empty(): # 이거를 빠뜨렸었네\n",
        "      self._front = a\n",
        "      self._rear = a\n",
        "    else:\n",
        "      self._rear.next = a\n",
        "      self._rear = a\n",
        "    self.size += 1\n",
        "\n"
      ],
      "metadata": {
        "id": "OjpOLi02hC5S"
      },
      "execution_count": 33,
      "outputs": []
    },
    {
      "cell_type": "code",
      "source": [
        "queue = Queue()\n",
        "print('after we initialized a queue:', queue.is_empty())\n",
        "queue.enqueue(1)\n",
        "print('after pushing 1 into the queue:', queue.is_empty())\n",
        "queue.enqueue(2)\n",
        "queue.enqueue(3)\n",
        "print('the front of the queue:', queue.front())\n",
        "print('dequeue from the queue:', queue.dequeue())\n",
        "print('dequeue from the queue:', queue.dequeue())\n",
        "print('dequeue from the queue:', queue.dequeue())\n",
        "print('after dequeue three times from the queue:', queue.is_empty())"
      ],
      "metadata": {
        "colab": {
          "base_uri": "https://localhost:8080/"
        },
        "id": "O9sLFOr1hT-4",
        "outputId": "7b4715b7-f686-4e67-cca0-016a9448d299"
      },
      "execution_count": 34,
      "outputs": [
        {
          "output_type": "stream",
          "name": "stdout",
          "text": [
            "after we initialized a queue: True\n",
            "after pushing 1 into the queue: False\n",
            "the front of the queue: 1\n",
            "dequeue from the queue: 1\n",
            "dequeue from the queue: 2\n",
            "dequeue from the queue: 3\n",
            "after dequeue three times from the queue: True\n"
          ]
        }
      ]
    },
    {
      "cell_type": "markdown",
      "source": [
        "## Applications of Queues"
      ],
      "metadata": {
        "id": "8fo4PyKB9-GD"
      }
    },
    {
      "cell_type": "markdown",
      "source": [
        "#### [Facebook] Open the Locks"
      ],
      "metadata": {
        "id": "Up_KxyZGh6Kh"
      }
    },
    {
      "cell_type": "markdown",
      "source": [
        "You have a lock in front of you with 4 circular wheels. Each wheel has 10 slots: '0', '1', '2', '3', '4', '5', '6', '7', '8', '9'. The wheels can rotate freely and wrap around: for example we can turn '9' to be '0', or '0' to be '9'. Each move consists of turning one wheel one slot.\n",
        "\n",
        "The lock initially starts at '0000', a string representing the state of the 4 wheels.\n",
        "\n",
        "You are given a list of `deadends` dead ends, meaning if the lock displays any of these codes, the wheels of the lock will stop turning and you will be unable to open it.\n",
        "\n",
        "Given a `target` representing the value of the wheels that will unlock the lock, return the minimum total number of turns required to open the lock, or -1 if it is impossible."
      ],
      "metadata": {
        "id": "AoB3TI8XZet6"
      }
    },
    {
      "cell_type": "markdown",
      "source": [
        "##### 'ppp' Exercise"
      ],
      "metadata": {
        "id": "RUa4ywIgiAiV"
      }
    },
    {
      "cell_type": "code",
      "source": [
        "import doctest\n",
        "def open_lock(deadends, target):\n",
        "  '''\n",
        "  >>> open_lock([\"0201\",\"0101\",\"0102\",\"1212\",\"2002\"], \"0202\")\n",
        "  6\n",
        "  >>> open_lock([\"8888\"], \"0009\")\n",
        "  1\n",
        "  >>> open_lock([\"8887\",\"8889\",\"8878\",\"8898\",\"8788\",\"8988\",\"7888\",\"9888\"], \"8888\")\n",
        "  -1\n",
        "  '''\n",
        "  #    '0000'\n",
        "  # -> '1000'\n",
        "  # -> '9000'\n",
        "  # -> '0100'\n",
        "  # -> '0900'\n",
        "  queue = Queue()\n",
        "  queue.enqueue((\"0000\", 0))\n",
        "  visited = [\"0000\"] # set(\"0000\")\n",
        "\n",
        "  while queue.size > 0:\n",
        "    string, step = queue.dequeue()\n",
        "\n",
        "    if string in deadends:\n",
        "      continue # 다음 string 으로 pass\n",
        "\n",
        "    if string == target:\n",
        "      return step\n",
        "\n",
        "    for i in range(4):\n",
        "      num = int(string[i])\n",
        "      for dx in (-1, 1):\n",
        "        num_new = (num + dx) % 10\n",
        "        string_new = string[:i] + str(num_new) + string[i+1:]\n",
        "        if string_new not in visited:\n",
        "          queue.enqueue((string_new, step+1))\n",
        "          visited.append(string_new)\n",
        "\n",
        "  return -1\n",
        "\n",
        ""
      ],
      "metadata": {
        "id": "iw8kSl3OZfW7"
      },
      "execution_count": 37,
      "outputs": []
    },
    {
      "cell_type": "code",
      "source": [
        "open_lock([\"0201\",\"0101\",\"0102\",\"1212\",\"2002\"], \"0202\")\n",
        "open_lock([\"8888\"], \"0009\")\n",
        "open_lock([\"8887\",\"8889\",\"8878\",\"8898\",\"8788\",\"8988\",\"7888\",\"9888\"], \"8888\")"
      ],
      "metadata": {
        "colab": {
          "base_uri": "https://localhost:8080/"
        },
        "id": "xo-yhy-epyyL",
        "outputId": "605569aa-c744-422f-ba84-f8b71911e957"
      },
      "execution_count": 40,
      "outputs": [
        {
          "output_type": "execute_result",
          "data": {
            "text/plain": [
              "-1"
            ]
          },
          "metadata": {},
          "execution_count": 40
        }
      ]
    },
    {
      "cell_type": "code",
      "source": [
        "doctest.run_docstring_examples(open_lock, globals(), False, __name__)"
      ],
      "metadata": {
        "id": "vMPOBKElkiwi",
        "colab": {
          "base_uri": "https://localhost:8080/"
        },
        "outputId": "8bc701dd-a926-4bc9-98ff-51a73e2888dc"
      },
      "execution_count": 27,
      "outputs": [
        {
          "output_type": "stream",
          "name": "stdout",
          "text": [
            "**********************************************************************\n",
            "File \"__main__\", line 4, in __main__\n",
            "Failed example:\n",
            "    open_lock([\"0201\",\"0101\",\"0102\",\"1212\",\"2002\"], \"0202\")\n",
            "Exception raised:\n",
            "    Traceback (most recent call last):\n",
            "      File \"/usr/lib/python3.10/doctest.py\", line 1350, in __run\n",
            "        exec(compile(example.source, filename, \"single\",\n",
            "      File \"<doctest __main__[0]>\", line 1, in <module>\n",
            "        open_lock([\"0201\",\"0101\",\"0102\",\"1212\",\"2002\"], \"0202\")\n",
            "      File \"<ipython-input-26-55d759ec572f>\", line 20, in open_lock\n",
            "        while queue.size() > 0:\n",
            "    AttributeError: 'Queue' object has no attribute 'size'\n",
            "**********************************************************************\n",
            "File \"__main__\", line 6, in __main__\n",
            "Failed example:\n",
            "    open_lock([\"8888\"], \"0009\")\n",
            "Exception raised:\n",
            "    Traceback (most recent call last):\n",
            "      File \"/usr/lib/python3.10/doctest.py\", line 1350, in __run\n",
            "        exec(compile(example.source, filename, \"single\",\n",
            "      File \"<doctest __main__[1]>\", line 1, in <module>\n",
            "        open_lock([\"8888\"], \"0009\")\n",
            "      File \"<ipython-input-26-55d759ec572f>\", line 20, in open_lock\n",
            "        while queue.size() > 0:\n",
            "    AttributeError: 'Queue' object has no attribute 'size'\n",
            "**********************************************************************\n",
            "File \"__main__\", line 8, in __main__\n",
            "Failed example:\n",
            "    open_lock([\"8887\",\"8889\",\"8878\",\"8898\",\"8788\",\"8988\",\"7888\",\"9888\"], \"8888\")\n",
            "Exception raised:\n",
            "    Traceback (most recent call last):\n",
            "      File \"/usr/lib/python3.10/doctest.py\", line 1350, in __run\n",
            "        exec(compile(example.source, filename, \"single\",\n",
            "      File \"<doctest __main__[2]>\", line 1, in <module>\n",
            "        open_lock([\"8887\",\"8889\",\"8878\",\"8898\",\"8788\",\"8988\",\"7888\",\"9888\"], \"8888\")\n",
            "      File \"<ipython-input-26-55d759ec572f>\", line 20, in open_lock\n",
            "        while queue.size() > 0:\n",
            "    AttributeError: 'Queue' object has no attribute 'size'\n"
          ]
        }
      ]
    },
    {
      "cell_type": "code",
      "source": [
        "from collections import deque\n",
        "\n",
        "queue = deque()  # deque([1, 2, 3, 4, 5])\n",
        "queue.append(7)  # enqueue\n",
        "queue.append(8)  # enqueue\n",
        "queue.popleft()  # dequeue"
      ],
      "metadata": {
        "id": "Cs5ol2V-QpiQ",
        "colab": {
          "base_uri": "https://localhost:8080/"
        },
        "outputId": "5c724536-bf0a-4524-c543-1ee00f0ceb9e"
      },
      "execution_count": 25,
      "outputs": [
        {
          "output_type": "execute_result",
          "data": {
            "text/plain": [
              "7"
            ]
          },
          "metadata": {},
          "execution_count": 25
        }
      ]
    },
    {
      "cell_type": "code",
      "source": [],
      "metadata": {
        "id": "Wr1dpAyfpith"
      },
      "execution_count": null,
      "outputs": []
    }
  ]
}