{
 "cells": [
  {
   "cell_type": "markdown",
   "id": "37cfd1bb",
   "metadata": {},
   "source": [
    "# Welcome to Data Structures and Algorithms Master Class! (Solution Set)\n",
    "\n",
    "This notebook is designed to be a comprehensive set of solutions to the NeetCode 150 problems. <br>\n",
    "Additionally, I also do some easy->advanced problems in some of the sections which the students normally struggle with. <br> This should help you master the foundations before moving to harder problems in the section.\n",
    "\n",
    "<br>\n",
    "Corresponding Explanations for Each Topic:\n",
    "<br>\n",
    "\n",
    "[Data Structures and Algorithms Master Class](https://tahirm.notion.site/Interview-Master-Class-DS-A-8842995bc7a34976b836e861cc73e731?pvs=74)\n"
   ]
  },
  {
   "cell_type": "markdown",
   "id": "c42c239b-72cb-41ee-8924-109fc0c28294",
   "metadata": {},
   "source": [
    "# Table of Contents\n",
    "\n",
    "1. [Arrays](#Arrays)\n",
    "   1. [Two Pointers](#two-pointers)\n",
    "   2. [Sliding Window](#sliding-window)\n",
    "   3. \n",
    "3. [Linked Lists](#linked-lists)\n",
    "4. [Recursion](#recursion)\n",
    "    1. [Backtracking](#backtracking)\n",
    "5. [Sorting](#sorting)\n",
    "    1. [Merge Sort](#merge-sort)\n",
    "    2. [Quick Sort](#quick-sort)\n",
    "    3. [Bucket Sort](#bucket-sort)\n",
    "6. [Binary Search](#binary-search)\n",
    "7. [Trees](#trees)\n",
    "8. [Backtracking](#backtracking)\n",
    "9. [Heap / Priority Queue](#heap--priority-queue)\n",
    "10. [Hashing](#hashing)\n",
    "11. [Graphs](#graphs)\n",
    "12. [Dynamic Programming](#dynamic-programming)\n",
    "13. [Bit Manipulation](#bit-manipulation)\n"
   ]
  },
  {
   "cell_type": "markdown",
   "id": "797bd8ab-69d3-4166-a4cc-c434f60f36b9",
   "metadata": {},
   "source": [
    "# Arrays"
   ]
  },
  {
   "cell_type": "code",
   "execution_count": null,
   "id": "5bc737b2",
   "metadata": {},
   "outputs": [],
   "source": [
    "# Core concepts - Addition, Deletion\n",
    "\n",
    "# deleting from the end\n",
    "array = [1,2,3]\n",
    "array[-1] = 0\n",
    "# or using methods\n",
    "array.pop()"
   ]
  },
  {
   "cell_type": "code",
   "execution_count": null,
   "id": "3e4e4ccc",
   "metadata": {},
   "outputs": [],
   "source": [
    "# Delete from middle of the array\n",
    "\n",
    "def deleteFromIthIndex(array,index):\n",
    "    # Given an array and the ith index, delete that index. \n",
    "    if index == 0:\n",
    "        start = 0\n",
    "    else:\n",
    "        start = index\n",
    "    for i in range(start, len(array)):\n",
    "        array[start-1] = array[start]\n",
    "    return array\n",
    "      \n",
    "print(deleteFromIthIndex([1,2,3,4,5,6], 2)  )"
   ]
  },
  {
   "cell_type": "code",
   "execution_count": null,
   "id": "9f093f65",
   "metadata": {},
   "outputs": [],
   "source": [
    "def RemoveMiddleElement(array, i):\n",
    "    for index in range(i+1, len(array)):\n",
    "        # This will replace the ith value with i+1 \n",
    "        array[i-1] =array[i]\n",
    "        # No need to 'remove' arr[i], since we already shifted\n",
    "    return array\n",
    "    \n",
    "print(RemoveMiddleElement([1,2,3,4,5,6], 2))"
   ]
  },
  {
   "cell_type": "code",
   "execution_count": null,
   "id": "302d9c5f",
   "metadata": {},
   "outputs": [],
   "source": [
    "# Insert at the middle element -> Shift things down first! \n",
    "# This means that we have to go in REVERSE! \n",
    "\n",
    "def InsertMiddleElm(array, index, value):\n",
    "    # We first need to SHIFT every value down by 1 to make space for the new guy\n",
    "    # This is for dynamic Arrays\n",
    "    # Static arrays.. Cant really shift things down.. Might aswell just replace the current value w/ new one\n",
    "    # Make space for the new value\n",
    "    array.append(0)\n",
    "    for i in range(len(array)-1, index, -1):\n",
    "        array[i] = array[i-1]\n",
    "        \n",
    "    array[i-1] = value\n",
    "    return array\n",
    "\n",
    "# Insert 2 at the 1st index\n",
    "print(InsertMiddleElm([1,3,4,5,6,7], 1, 2))"
   ]
  },
  {
   "cell_type": "code",
   "execution_count": null,
   "id": "626820b0-561c-4f5b-9e31-f6670f57aa8b",
   "metadata": {},
   "outputs": [],
   "source": [
    "class DynamicArray:\n",
    "    \n",
    "    def __init__(self, capacity: int):\n",
    "        self.array = [0] * capacity \n",
    "        self.length = 0\n",
    "        self.capacity = capacity\n",
    "    \n",
    "    def show_array(self):\n",
    "        return self.array\n",
    "\n",
    "    def get(self, i: int) -> int:\n",
    "        return self.array[i]\n",
    "\n",
    "    def set_value(self, i: int, n: int) -> None:\n",
    "        self.array[i] = n\n",
    "\n",
    "    def pushback(self, n: int) -> None:\n",
    "        if self.length < self.capacity:\n",
    "            self.array[self.length] = n\n",
    "            self.length += 1\n",
    "        else:\n",
    "            self.resize()\n",
    "            self.array[self.length] = n\n",
    "            self.length += 1\n",
    "        return None\n",
    "\n",
    "    def popback(self) -> int:\n",
    "        # REmove the last element in the array\n",
    "        self.length -= 1\n",
    "        temp = self.array[self.length]\n",
    "        self.array[self.length] = 0\n",
    "        return temp \n",
    "\n",
    "    def resize(self) -> None:\n",
    "        self.capacity = 2 * len(self.array)\n",
    "        new = [0] * self.capacity\n",
    "        for i in range(0, len(self.array)):\n",
    "            new[i] = self.array[i]\n",
    "        self.array = new\n",
    "        return None\n",
    "\n",
    "    def getSize(self) -> int:\n",
    "        return self.length\n",
    "        \n",
    "    def getCapacity(self) -> int:\n",
    "        return self.capacity "
   ]
  },
  {
   "cell_type": "code",
   "execution_count": null,
   "id": "f1162486",
   "metadata": {},
   "outputs": [],
   "source": [
    "# Test it out\n",
    "arrayList = DynamicArray(10)\n",
    "arrayList.pushback(1)\n",
    "arrayList.pushback(2)\n",
    "arrayList.pushback(3)\n",
    "arrayList.set_value(2,10)\n",
    "print(arrayList.get(0))\n",
    "print(arrayList.getSize())\n",
    "print(arrayList.getCapacity())\n",
    "print(arrayList.show_array())"
   ]
  },
  {
   "cell_type": "markdown",
   "id": "2b26de7a-1922-4ab8-9a18-8cf5f5a2c54b",
   "metadata": {},
   "source": [
    "## Two Pointers"
   ]
  },
  {
   "cell_type": "code",
   "execution_count": null,
   "id": "5e47dbf6-9929-4e1a-b7c5-c9d2eb49c4d9",
   "metadata": {},
   "outputs": [],
   "source": []
  },
  {
   "cell_type": "code",
   "execution_count": null,
   "id": "f8dc0af8-bcde-4552-a7a8-89baa6f99a69",
   "metadata": {},
   "outputs": [],
   "source": []
  },
  {
   "cell_type": "markdown",
   "id": "bf684ee7-896b-4e24-b965-7334063c4b99",
   "metadata": {},
   "source": [
    "## Sliding Window"
   ]
  },
  {
   "cell_type": "code",
   "execution_count": null,
   "id": "e9dbb3a4-6ee0-4814-98c1-88e34a6a4a92",
   "metadata": {},
   "outputs": [],
   "source": []
  },
  {
   "cell_type": "markdown",
   "id": "3f648c89",
   "metadata": {},
   "source": [
    "# Stacks and Queues "
   ]
  },
  {
   "cell_type": "code",
   "execution_count": null,
   "id": "1b7594b3",
   "metadata": {},
   "outputs": [],
   "source": [
    "# Question 1: Valid parenthesis\n",
    "\n",
    "def isValid(s: str) -> bool:\n",
    "    close_to_open = {'}': '{', ']':'[', ')':'('}\n",
    "    stack = []\n",
    "\n",
    "    for elm in s:\n",
    "        if elm not in close_to_open:\n",
    "            stack.append(elm)\n",
    "        else:\n",
    "            if len(stack) > 0 and stack[-1] == close_to_open[elm]:\n",
    "                stack.pop()\n",
    "            else:\n",
    "                return False\n",
    "    if len(stack) == 0:\n",
    "        return True\n",
    "    return False\n",
    "\n",
    "print(isValid(\")(())\"))\n",
    "print(isValid(\"()()\"))\n",
    "print(isValid(\"([{}])\"))"
   ]
  },
  {
   "cell_type": "code",
   "execution_count": null,
   "id": "493e0eb1",
   "metadata": {},
   "outputs": [],
   "source": [
    "# Question 2:  Minimum Stack in O(1) time\n",
    "\n",
    "class MinStack:\n",
    "\n",
    "    def __init__(self):\n",
    "        self.stack1 = []\n",
    "        self.stack2 = []\n",
    "        \n",
    "    def push(self, val: int) -> None:\n",
    "        self.stack1.append(val)\n",
    "        # Get the minimal value \n",
    "        if self.stack2:\n",
    "            min_val = min(val, self.stack2[-1])\n",
    "        else:\n",
    "            min_val = val\n",
    "        self.stack2.append(min_val)\n",
    "        return None\n",
    "        \n",
    "    def pop(self) -> None:\n",
    "        if self.stack1 and self.stack2:\n",
    "            self.stack2.pop()\n",
    "            self.stack1.pop()\n",
    "\n",
    "    def top(self) -> int:\n",
    "        if self.stack1:\n",
    "            return self.stack1[-1]\n",
    "        return None\n",
    "\n",
    "    def getMin(self) -> int:\n",
    "        if self.stack2:\n",
    "            return self.stack2[-1]\n",
    "        return None"
   ]
  },
  {
   "cell_type": "code",
   "execution_count": null,
   "id": "124e9329",
   "metadata": {},
   "outputs": [],
   "source": [
    "# Queues - Implement Stack using Queues\n",
    "\n",
    "from collections import deque\n",
    "\n",
    "class MyStack:\n",
    "\n",
    "    def __init__(self):\n",
    "        self.q1 = deque()\n",
    "        self.q2 = deque()\n",
    "        \n",
    "    def push(self, x: int) -> None:\n",
    "        while len(self.q1) != 0:\n",
    "            self.q2.append(self.q1.popleft())\n",
    "\n",
    "        self.q1.append(x)\n",
    "        while len(self.q2) != 0:\n",
    "            self.q1.append(self.q2.popleft()) \n",
    "\n",
    "    def pop(self) -> int:\n",
    "        if len(self.q1) > 0:\n",
    "            return self.q1.popleft()\n",
    "\n",
    "    def top(self) -> int:\n",
    "        return self.q1[0]\n",
    "\n",
    "    def empty(self) -> bool:\n",
    "        return len(self.q1) == 0\n"
   ]
  },
  {
   "cell_type": "code",
   "execution_count": null,
   "id": "46de17c2",
   "metadata": {},
   "outputs": [],
   "source": [
    "# NUmber of students unable to eat lunch\n",
    "\n",
    "from collections import deque\n",
    "def countStudents(self, students: List[int], sandwiches: List[int]) -> int:\n",
    "\n",
    "    students = deque(students)\n",
    "    sandwiches = deque(sandwiches)\n",
    "\n",
    "    i = 0\n",
    "    n = len(students)\n",
    "    while i < n and len(sandwiches) > 0:\n",
    "        if students[0] == sandwiches[0]:\n",
    "            students.popleft()\n",
    "            sandwiches.popleft()\n",
    "            i = 0\n",
    "        else:\n",
    "            # essentially just shift the element to the back of the queue\n",
    "            # the parameter in rotate is saying each value will take 1 step to the left (-1)\n",
    "            students.rotate(-1)\n",
    "            i += 1\n",
    "    return len(students)\n"
   ]
  },
  {
   "cell_type": "code",
   "execution_count": null,
   "id": "785c1fa8",
   "metadata": {},
   "outputs": [],
   "source": []
  },
  {
   "cell_type": "markdown",
   "id": "6cedfd2d-8d53-470a-9bb2-65646212ae17",
   "metadata": {},
   "source": [
    "# Linked Lists"
   ]
  },
  {
   "cell_type": "code",
   "execution_count": null,
   "id": "5049e143-4f5b-40c5-a957-1958c2fc6840",
   "metadata": {},
   "outputs": [],
   "source": [
    "# Shallow vs Deep Copy\n",
    "# Shallow copy:\n",
    "1. Changes to original, or copied item will affect the other variable. \n",
    "2. It doesn't create new memory for the copied item but just refers it to the same variable..? \n",
    "xs = [1,2,3,4,5]\n",
    "ys = xs"
   ]
  },
  {
   "cell_type": "code",
   "execution_count": null,
   "id": "016786e5",
   "metadata": {},
   "outputs": [],
   "source": [
    "ys.append(19)"
   ]
  },
  {
   "cell_type": "code",
   "execution_count": null,
   "id": "a818ef6f",
   "metadata": {},
   "outputs": [],
   "source": [
    "xs.append(9)"
   ]
  },
  {
   "cell_type": "code",
   "execution_count": null,
   "id": "b69efb7f",
   "metadata": {},
   "outputs": [],
   "source": [
    "ys"
   ]
  },
  {
   "cell_type": "code",
   "execution_count": null,
   "id": "a07af569",
   "metadata": {},
   "outputs": [],
   "source": [
    "xs"
   ]
  },
  {
   "cell_type": "markdown",
   "id": "da026ba7",
   "metadata": {},
   "source": [
    "# Recursuion & Backtracking Full Course"
   ]
  },
  {
   "cell_type": "code",
   "execution_count": 8,
   "id": "f9d1c9e6",
   "metadata": {},
   "outputs": [
    {
     "name": "stdout",
     "output_type": "stream",
     "text": [
      "5\n",
      "4\n",
      "3\n",
      "2\n",
      "1\n"
     ]
    }
   ],
   "source": [
    "# Simple Recursion Practice Questions -> Print n to 0. \n",
    "# Draw the recursion tree, and see how the internal stack and output would be before coding it up.\n",
    "\n",
    "def print_n_to_zero(n):\n",
    "    \n",
    "    if n == 0:\n",
    "        return 0\n",
    "    print(n)\n",
    "    print_n_to_zero(n-1)\n",
    "    \n",
    "print_n_to_zero(5)"
   ]
  },
  {
   "cell_type": "code",
   "execution_count": 10,
   "id": "4911d0e9",
   "metadata": {},
   "outputs": [],
   "source": [
    "# Now, we modify this to 0 to N. \n",
    "# This shows a KEY concept: \n",
    "# Once the function call returns back to it's caller... with a RETURN value.. \n",
    "# The program / function continues excecuting the lines bellow that call, just like normal! \n",
    "# It's just like if you were writing a script, and u made an API call to something, and then kept resuming \n",
    "# the work (script) kept going once the api call returned. "
   ]
  },
  {
   "cell_type": "code",
   "execution_count": 11,
   "id": "e6502314",
   "metadata": {},
   "outputs": [],
   "source": [
    "def print_zero_to_n(n):\n",
    "    if n == 0:\n",
    "        print(0)\n",
    "        return None\n",
    "    print_zero_to_n(n-1)\n",
    "    print(n)"
   ]
  },
  {
   "cell_type": "code",
   "execution_count": 12,
   "id": "080228ec",
   "metadata": {},
   "outputs": [
    {
     "name": "stdout",
     "output_type": "stream",
     "text": [
      "0\n",
      "1\n",
      "2\n",
      "3\n",
      "4\n",
      "5\n",
      "6\n",
      "7\n",
      "8\n",
      "9\n",
      "10\n"
     ]
    }
   ],
   "source": [
    "print_zero_to_n(10)"
   ]
  },
  {
   "cell_type": "code",
   "execution_count": 14,
   "id": "0dd15a7a",
   "metadata": {},
   "outputs": [
    {
     "name": "stdout",
     "output_type": "stream",
     "text": [
      "Tahir\n",
      "Tahir\n",
      "Tahir\n",
      "Tahir\n",
      "Tahir\n"
     ]
    }
   ],
   "source": [
    "def print_name(n):\n",
    "    # O(N)\n",
    "    if n == 0:\n",
    "        return\n",
    "    print(\"Tahir\")\n",
    "    print_name(n-1)\n",
    "print_name(5)"
   ]
  },
  {
   "cell_type": "code",
   "execution_count": 21,
   "id": "fee731a2",
   "metadata": {},
   "outputs": [
    {
     "name": "stdout",
     "output_type": "stream",
     "text": [
      "Tahir\n",
      "Tahir\n",
      "Tahir\n",
      "Tahir\n",
      "Tahir\n"
     ]
    }
   ],
   "source": [
    "def print_name(i, n):\n",
    "    if i > n:\n",
    "        return 0\n",
    "    print(\"Tahir\")\n",
    "    print_name(i+1, n)\n",
    "print_name(1,5)"
   ]
  },
  {
   "cell_type": "code",
   "execution_count": 17,
   "id": "149366f0",
   "metadata": {},
   "outputs": [
    {
     "name": "stdout",
     "output_type": "stream",
     "text": [
      "1\n",
      "2\n",
      "3\n",
      "4\n",
      "5\n"
     ]
    }
   ],
   "source": [
    "def print_one_to_N(n):\n",
    "    \n",
    "    if n == 0:\n",
    "        return 0\n",
    "    print_one_to_N(n-1)\n",
    "    print(n)\n",
    "\n",
    "print_one_to_N(5)\n",
    "    "
   ]
  },
  {
   "cell_type": "code",
   "execution_count": 27,
   "id": "5367c2af",
   "metadata": {},
   "outputs": [
    {
     "name": "stdout",
     "output_type": "stream",
     "text": [
      "1\n",
      "2\n",
      "3\n",
      "4\n",
      "5\n"
     ]
    }
   ],
   "source": [
    "def print_one_to_N(i, n):\n",
    "    \n",
    "    if i > n:\n",
    "        return 0\n",
    "    print(i)\n",
    "    print_one_to_N(i+1,n)\n",
    "print_one_to_N(1,5)\n",
    "    "
   ]
  },
  {
   "cell_type": "code",
   "execution_count": 28,
   "id": "f5878f01",
   "metadata": {},
   "outputs": [],
   "source": [
    "# print N to 1 \n",
    "def print_N_to_1(n):\n",
    "    if n == 0:\n",
    "        return \n",
    "    print(n)\n",
    "    print_N_to_1(n-1)\n",
    "    "
   ]
  },
  {
   "cell_type": "code",
   "execution_count": 29,
   "id": "4d401f04",
   "metadata": {},
   "outputs": [
    {
     "name": "stdout",
     "output_type": "stream",
     "text": [
      "5\n",
      "4\n",
      "3\n",
      "2\n",
      "1\n"
     ]
    }
   ],
   "source": [
    "print_N_to_1(5)"
   ]
  },
  {
   "cell_type": "code",
   "execution_count": null,
   "id": "d433ee13",
   "metadata": {},
   "outputs": [],
   "source": [
    "def print_sum_to_N(i,n, summed_val):\n",
    "    # Two ways to do this: Method 1 (Use Extra parameter in the function!) \n",
    "    if i > n:\n",
    "        return summed_val\n",
    "    summed_val += i\n",
    "    print_sum_to_N(i+1, n, summed_val)\n",
    "    "
   ]
  }
 ],
 "metadata": {
  "kernelspec": {
   "display_name": "Warnify ML",
   "language": "python",
   "name": "warnify_ml"
  },
  "language_info": {
   "codemirror_mode": {
    "name": "ipython",
    "version": 3
   },
   "file_extension": ".py",
   "mimetype": "text/x-python",
   "name": "python",
   "nbconvert_exporter": "python",
   "pygments_lexer": "ipython3",
   "version": "3.9.18"
  }
 },
 "nbformat": 4,
 "nbformat_minor": 5
}
