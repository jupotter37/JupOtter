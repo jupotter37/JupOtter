{
  "nbformat": 4,
  "nbformat_minor": 0,
  "metadata": {
    "colab": {
      "provenance": [],
      "authorship_tag": "ABX9TyO55iAslWp8wtYxIXkSJOB4"
    },
    "kernelspec": {
      "name": "python3",
      "display_name": "Python 3"
    },
    "language_info": {
      "name": "python"
    }
  },
  "cells": [
    {
      "cell_type": "markdown",
      "source": [
        "# DSAN 5500 Homework 2: Data Structures, Algorithms, and Complexity\n",
        "\n",
        "Since we've now covered the Hash Table, and since you now have experience with the basics of how a Linked List is implemented, the goal of this homework is to **bring these two pieces of your knowledge together** by showing how:\n",
        "\n",
        "1. \"Naïve\" Hash Tables, until they are **paired** with some minimally-efficient method for handling **collisions**, are not very useful on their own (Part 1)\n",
        "2. However, since we now know about Linked Lists, we can **use a Linked List structure within our Hash Table implementation** to achieve an actually-useful (non-naïve) Hash Table achieving $O(1 + \\epsilon n)$ runtime (Part 2)\n",
        "3. Once you've seen how these two can be put together, we'll look at a **simple modification** we can make to the Linked List structure to create a **Binary Search Tree** structure, which can store and retrieve elements in $O(\\log_2(n))$ time, faster than the $O(n)$ runtime of the Linked List (Part 3)\n",
        "4. Then, once we've seen this Binary Search Tree Structure, we can return to our Hash Tables from Part 2 and **replace the Linked List structure being used to handle collisions** with a **Binary Search Tree structure instead**, to transform the Hash Table's runtime from $O(1 + \\epsilon n)$ to $O(1 + \\epsilon \\log_2(n))$ (Part 4)\n",
        "5. Finally, we will make one simple modification to our LogarithmicHashTable, using the first **two** letters of each key as the hash code (instead of just the first letter), which will bring us yet closer to full-on $O(1)$ time. This improvement illustrates how, by increasing the **memory** allocated for the fixed-length array in our hash table, we can get **arbitrarily close** to $O(1)$! (Part 5)"
      ],
      "metadata": {
        "id": "1tHHwxMqCp9V"
      }
    },
    {
      "cell_type": "markdown",
      "source": [
        "## Part 1: Naïve Hash Tables (Without Collision Handling)\n",
        "\n",
        "Of all the parts on this assignment, this is the only one where you'll be making a structure that you would **not** want to use in real life! It's incredibly important for learning, however, since\n",
        "\n",
        "* (a) we'll see why a hash table **on its own**---that is, without any reasonably-efficient way to handle **collisions**---is not really a data structure at all (since it **loses information** that was previously added to it). However,\n",
        "* (b) we'll be able to use the code for our non-useful Naïve Hash Table as the basis for a **useful Hash Table**, which you'll write in Part 2.\n",
        "\n",
        "First things first, however, we'll need a **hash function** which can take the **keys** we want to store in our hash table and deterministically derive a **slot** in our fixed-length array where a given key should be stored. To achieve this, run the following cell, which creates an `AlphaHasher` class that we'll use to hash `str` values. Specifically, this class will compute the hash value for a `str` as the **index in the alphabet** of the **first letter of the string**:\n",
        "\n",
        "* `\"Aardvark\"` will be mapped to `0` since `\"A\"` is the letter at index `0` of the English alphabet,\n",
        "* `\"Banana\"` will be mapped to `1` since `\"B\"` is the letter at index `1` in the English alphabet, and so on, up to...\n",
        "* `\"Zebra\"`, which will be mapped to `25` since `\"Z\"` is the letter at index `25` in the English alphabet.\n",
        "\n",
        "Note that, in Part 5, we'll switch from using `AlphaHasher` to using a new `DoubleAlphaHasher` class to hash based on the first **two** letters of the string, rather than just the first letter. While we'll stick to the pattern of having both `AlphaHasher` and `DoubleAlphaHasher` classes for now, since there are only two different versions, you can imagine how it could be helpful to **change the design pattern** we're using, to allow users to **specify** how many letters to use for hashing: rather than creating separate classes `AlphaHasher`, `DoubleAlphaHasher`, `TripleAlphaHasher`, etc., we could just create a single `NAlphaHasher` class which would allow users to specify how many letters of the string they want the hashing to use!"
      ],
      "metadata": {
        "id": "_aDQcFjJDULM"
      }
    },
    {
      "cell_type": "code",
      "source": [
        "# @title define-alpha-hasher\n",
        "from abc import ABC, abstractmethod\n",
        "import string\n",
        "\n",
        "class CustomHasher(ABC):\n",
        "  @abstractmethod\n",
        "  def __init__(self):\n",
        "    pass\n",
        "\n",
        "  @abstractmethod\n",
        "  def get_alphabet_size(self):\n",
        "    pass\n",
        "\n",
        "  @abstractmethod\n",
        "  def hash(self, str_to_hash: str) -> int:\n",
        "    pass\n",
        "\n",
        "  @abstractmethod\n",
        "  def compute_position_in_alphabet(self, uppercase_key: str) -> int:\n",
        "    pass\n",
        "\n",
        "  @abstractmethod\n",
        "  def compute_key_for_index(self, index: int) -> str:\n",
        "    pass\n",
        "\n",
        "class AlphaHasher(CustomHasher):\n",
        "  def __init__(self):\n",
        "    self.alphabet_size = 26\n",
        "\n",
        "  def get_alphabet_size(self):\n",
        "    return self.alphabet_size\n",
        "\n",
        "  def hash(self, str_to_hash: str) -> int:\n",
        "    if len(str_to_hash) == 0:\n",
        "      first_letter = 'A'\n",
        "    else:\n",
        "      first_letter = str_to_hash.upper()[0]\n",
        "    # And return its index in the alphabet:\n",
        "    # 'A' has index 0, 'B' has index 1, etc.\n",
        "    return self.compute_position_in_alphabet(first_letter)\n",
        "\n",
        "  def compute_position_in_alphabet(self, uppercase_key: str) -> int:\n",
        "    return string.ascii_uppercase.index(uppercase_key)\n",
        "\n",
        "  def compute_key_for_index(self, index: int) -> str:\n",
        "    return string.ascii_uppercase[index]"
      ],
      "metadata": {
        "id": "ErETIN8aBmBp",
        "cellView": "form"
      },
      "execution_count": null,
      "outputs": []
    },
    {
      "cell_type": "markdown",
      "source": [
        "### Question 1.1: The `NaiveHashTable` Class\n",
        "\n",
        "In the following cell, build on the provided starter code to create a working `NaiveHashTable` class. Each of the bullet points here represents an element of this class that your code should implement.\n",
        "\n",
        "* `__init__(self) -> None`. This **constructor** function should take only the required `self` argument, but will also perform the following initialization steps, which are already written for you:\n",
        "  * Create an **instance variable** called `fixed_length_array`, whose value should be initialized to an **empty NumPy array** object with size `26` (for the 26 \"slots\" in the English alphabet). Specifically, we create this empty array using NumPy's <a href='https://numpy.org/doc/stable/reference/generated/numpy.empty.html' target='_blank'>`np.empty()` function</a>.\n",
        "  * Create an **instance variable** called `num_added`, initialized to the `int` value `0` (this will be incremented each time the `add()` function runs)\n",
        "  * Create an **instance variable** called `num_collisions`, initialized to the `int` value `0` (this will be incremented each time the `add()` function encounters a collision)\n",
        "* `add(key: str, value: object) -> bool`\n",
        "\n",
        "  This function should:\n",
        "\n",
        "  1. Create a variable called `data` and assign the tuple `(key, value)` as its value,\n",
        "  2. **Use the `hash()` function from `AlphaHasher`** to **hash** the value of the `key` argument, storing this hashed value (which will be of type `int`) into a variable called `key_hash`. However, here you will need to be careful and include a **check** to determine whether or not the variable `key` is in fact a **string**. If `key` is an **instance of** the `str` type, then your code can safely call `hash(key)` without issue. If it is not, however, your function should **not** try to call `hash(key)`, and should instead just return the `bool` value `False`. Thus, users of your `NaiveHashTable` class will know that if the `add()` function returned `False` it means the `key` they provided was **not hashable** given our `AlphaHasher` setup.\n",
        "\n",
        "    Note how we *can* (and should!) include a `str` **type hint** for the `key` argument in the specification of `add()` above, but since Python does not **enforce** type hints, we still ask you to perform this check within the `add()` function. The rationale for this is: if you are developing **for yourself** or in a **small team**, you can either (a) trust yourself and your teammates to look at and never violate the type hints, **or** (b) set up your personal/team development environment so that it **runs a type-checker like MyPy** on each `.py`/`.ipynb` file before running it. For larger collaborative projects, however (for example, the many popular open-source projects with hundreds of contributors on GitHub), it will almost **never** be the case that they run MyPy before running Python code, sadly!\n",
        "  3. If the function did not return `False` during the previous step, and we were able to successfully compute a hash value for `key`, then store the `(key, value)` tuple (the value assigned to the variable `data` in Step 1) in the specific \"slot\" within `base_array` with index `key_hash`. For example: if the value of `key_hash` is `0`, store the tuple as the **first** element of `self.fixed_length_array`; if the value of `key_hash` is `1`, store the tuple as the **second** element of `fixed_length_array`; and so on. However, here you will need to be careful to **check whether there was a collision or not!** If the previous value in the slot **was not `None`**, then there has been a **collision**, so that you should **increment the `self.num_collisions` instance variable** before you replace the previous value in the slot with the new value!\n",
        "  4. Once the slot within `self.fixed_length_array` has been updated, make sure to also **increment the `self.num_added` instance variable**. By tracking the number of collisions at the end of Step 3, and tracking the number of items added in this step, the `compute_collision_rate()` function described below should only require 1 or 2 lines of code!\n",
        "* `get_item_at_index(self, index: int) -> object`\n",
        "  * This function should just return whatever happens to be stored in slot `index` of the `fixed_length_array` instance variable. So, `get_item_at_index(0)` should return `self.fixed_length_array[0]`, `get_item_at_index(1)` should return `self.fixed_length_array[1]`, and so on. You should implement this **before** using `to_string()`, however, since `to_string()` uses this function to **display the entries within each slot of `self.fixed_length_array`**.\n",
        "* `__len__(self) -> int`\n",
        "  * This function should just return the number of **slots** within `self.fixed_length_array` that contain non-`None` values. In other words, it should return the number of **\"filled\" slots** in the hash table. Note that this is **not the same as `num_added`**!! This is important to notice here since, it's precisely why our `NaiveHashTable` is not a usable data structure (yet): when the `add()` function encounters a **collision**, the previously-stored value is **thrown out** and replaced by a new value. This means that, for example, the user may have added 20 items to the `NaiveHashTable`, but `__len__()` may only return `16`, indicating that there were **4 collisions** among the 20 calls to `add()`!\n",
        "* `compute_collision_rate(self) -> float`\n",
        "  * This function should use the `num_added` and `num_collisions` instance variables to compute the **collision rate** for the `NaiveHashTable` object. If **no items have been added yet** (i.e., if the `NaiveHashTable` object is empty), this function should just return the `float` value `0.0`. However, as long as the object has one or more entries, this function should return the **ratio** of the **number of collisions** to the **number of successful calls to `add()`** (there are two instance variables you defined in the constructor which will help you here 😜)\n",
        "* `__str__(self) -> str` and `__repr__() -> str`\n",
        "  * The starter code defines an **instance method** for you, within the `NaiveHashTable` class, called `to_string()`. Your `NaiveHashTable` should implement both the `__str__()` and `__repr__()` functions, but all that these two functions need to do is simply **return the result of calling `self.to_string()`**.\n",
        "\n",
        "  The `to_string()` function here allows us to straightforwardly visualize the contents of our `NaiveHashTable`: it will always produce exactly 26 lines, where each line corresponds to a \"slot\" in our `fixed_length_array`, showing the alphabetical letter that hashes to the slot and then the value stored in that slot. For example, if we've added the three datapoints `('Aardvark', 10)`, `('Popsicle', 20)`, and `('Coconut', 30)` in a `NaiveHashTable` object `naive_ht`, then `naive_ht.to_string()` will produce the following output:\n",
        "\n",
        "  ```\n",
        "  A: ('Aardvark', 10)\n",
        "  B: None\n",
        "  C: ('Coconut', 30)\n",
        "  D: None\n",
        "  E: None\n",
        "  F: None\n",
        "  G: None\n",
        "  H: None\n",
        "  I: None\n",
        "  J: None\n",
        "  K: None\n",
        "  L: None\n",
        "  M: None\n",
        "  N: None\n",
        "  O: None\n",
        "  P: ('Popsicle', 20)\n",
        "  Q: None\n",
        "  R: None\n",
        "  S: None\n",
        "  T: None\n",
        "  U: None\n",
        "  V: None\n",
        "  W: None\n",
        "  X: None\n",
        "  Y: None\n",
        "  Z: None\n",
        "  ```\n",
        "\n",
        "  In the remaining parts of the assignment, having this `to_string()` function will serve another important purpose, but for now it simply allows us to \"unify\" the `__repr__()` and `__str__()` implementations into a single function."
      ],
      "metadata": {
        "id": "6iUXyb6VV53c"
      }
    },
    {
      "cell_type": "code",
      "source": [
        "# @title Q1.1-response\n",
        "import collections\n",
        "import sys\n",
        "import numpy as np\n",
        "\n",
        "class NaiveHashTable:\n",
        "  def __init__(self):\n",
        "    self.hasher = AlphaHasher()\n",
        "    self.fixed_array_size = self.hasher.get_alphabet_size()\n",
        "    self.fixed_length_array = np.empty(self.fixed_array_size, dtype='object')\n",
        "    self.num_added = 0\n",
        "    self.num_collisions = 0\n",
        "\n",
        "  def add(self, key: str, value: object) -> bool:\n",
        "    pass # Your code here\n",
        "\n",
        "  def get_num_added(self):\n",
        "    return self.num_added\n",
        "\n",
        "  def increment_num_added(self):\n",
        "    self.num_added = self.num_added + 1\n",
        "\n",
        "  def get_num_collisions(self):\n",
        "    return self.num_collisions\n",
        "\n",
        "  def increment_num_collisions(self):\n",
        "    self.num_collisions = self.num_collisions + 1\n",
        "\n",
        "  def __len__(self):\n",
        "    return sys.maxsize # Your code here (replace sys.maxsize with the actual length)\n",
        "\n",
        "  def to_string(self):\n",
        "    entry_list = [f'{self.hasher.compute_key_for_index(i)}: {self.get_item_at_index(i)}' for i in range(len(self.fixed_length_array))]\n",
        "    return \"\\n\".join(entry_list)\n",
        "\n",
        "  def __str__(self):\n",
        "    pass # Your code here\n",
        "\n",
        "  def __repr__(self):\n",
        "    return self.__str__()"
      ],
      "metadata": {
        "id": "TLgtgUa7VyKn"
      },
      "execution_count": null,
      "outputs": []
    },
    {
      "cell_type": "markdown",
      "source": [
        "Since \"hiding\" the public tests in the last assignment probably did more harm than good, this time the public tests are **fully revealed** and **commented**, so that you can see exactly **why** we're testing certain aspects of your code, and especially **how** we're testing them! I hope this can help with transparency: if you're failing one of the public tests, but you can't figure out why based on the message, you can **expand** the public test cells to see exactly which line(s) your response is failing on."
      ],
      "metadata": {
        "id": "LqoqrjO8K5DJ"
      }
    },
    {
      "cell_type": "code",
      "source": [
        "# @title Q1.1-public-tests\n",
        "import inspect\n",
        "def test_len():\n",
        "  test_naive_ht = NaiveHashTable()\n",
        "  test_len = len(test_naive_ht)\n",
        "  return test_len < sys.maxsize, test_len\n",
        "len_test_result, len_test_value = test_len()\n",
        "\n",
        "def test_collisions():\n",
        "  test_naive_ht = NaiveHashTable()\n",
        "  test_naive_ht.add('Penguin', 30)\n",
        "  len_pre = len(test_naive_ht)\n",
        "  test_naive_ht.add('Platypus', 40)\n",
        "  len_post = len(test_naive_ht)\n",
        "  return len_pre == len_post\n",
        "collision_test_result = test_collisions()\n",
        "\n",
        "q1_1_public_tests = {\n",
        "    # Test 1: is a NaiveHashTable defined at all?\n",
        "    'NaiveHashTable defined': 'Passed!' if 'NaiveHashTable' in vars() else 'No NaiveHashTable class in Python memory',\n",
        "    # Test 2: __str__() and __repr__() should both just call to_string()\n",
        "    '__str__() and __repr__() call to_string()': 'Passed!' if 'to_string' in inspect.getsource(NaiveHashTable.__str__) else '__str__() and __repr__() functions should both call to_string()',\n",
        "    # Test 3: __len__() returns valid int value\n",
        "    '__len__() returns valid int value': 'Passed!' if len_test_result else f'Invalid return value for __len__(): {len_test_value}',\n",
        "    # Test 4: Length shouldn't increase on collisions (since the existing value in slot gets \"kicked out\")\n",
        "    'Collisions do not increase len': 'Passed!' if collision_test_result else 'Length of NaiveHashTable should not change before and after collision',\n",
        "}\n",
        "q1_1_public_tests"
      ],
      "metadata": {
        "id": "WmSUECRDLWbC",
        "colab": {
          "base_uri": "https://localhost:8080/"
        },
        "outputId": "5313a269-2efc-4bcf-9c27-59e1c9920c55"
      },
      "execution_count": null,
      "outputs": [
        {
          "output_type": "execute_result",
          "data": {
            "text/plain": [
              "{'NaiveHashTable defined': 'Passed!',\n",
              " '__str__() and __repr__() call to_string()': '__str__() and __repr__() functions should both call to_string()',\n",
              " '__len__() returns valid int value': 'Invalid return value for __len__(): 9223372036854775807',\n",
              " 'Collisions do not increase len': 'Passed!'}"
            ]
          },
          "metadata": {},
          "execution_count": 3
        }
      ]
    },
    {
      "cell_type": "markdown",
      "source": [
        "### Part 1.2: Testing Basic Functionality of `NaiveHashTable`\n",
        "\n",
        "This part will walk you through some basic tests you can run, to make sure that your implementation is **tracking the collision rate** correctly (by tracking the `num_added` and `num_collisions` instance variables correctly).\n",
        "\n",
        "Although there are public and hidden tests for this part, you should be able to tell in advance what the correct answers are, based on the instructions! (e.g., you know in advance that, before any (key, value) pairs are added to the hash table, the collision rate should be `0.0`)"
      ],
      "metadata": {
        "id": "sqwygS8EnidE"
      }
    },
    {
      "cell_type": "markdown",
      "source": [
        "#### Question 1.2.1\n",
        "\n",
        "* (a) Create a new `NaiveHashTable` object called `naive_ht_demo`, and then\n",
        "* (b) Call the `get_num_added()` function on `naive_ht_demo` and store its return value in a variable called `added0`,\n",
        "* (c) Call the `get_num_collisions()` function on `naive_ht_demo` and store its return value in a variable called `collisions0`,\n",
        "* (d) Call the `compute_collision_rate()` function on `naive_ht_demo` and store its return value in a variable called `rate0`."
      ],
      "metadata": {
        "id": "1GI5e7G52JVK"
      }
    },
    {
      "cell_type": "code",
      "source": [
        "# @title Q1.2.1-response\n",
        "naive_ht_demo = None # Your code here\n",
        "added0 = None # Your code here\n",
        "collisions0 = None # Your code here\n",
        "rate0 = None # Your code here"
      ],
      "metadata": {
        "id": "mTlXggpe1EJb"
      },
      "execution_count": null,
      "outputs": []
    },
    {
      "cell_type": "code",
      "source": [
        "# @title Q1.2.1-public-tests\n",
        "q1_2_1_public_tests = {\n",
        "    # Test 1: Check if naive_ht_demo variable is defined (in Python memory)\n",
        "    'naive_ht_demo defined': '✅ Passed!' if 'naive_ht_demo' in vars() else \"❌ No variable named 'naive_ht_demo' exists in Python memory\",\n",
        "    # Test 2: Check if added0 defined\n",
        "    'added0 defined': '✅ Passed!' if 'added0' in vars() else \"❌ No variable named 'added0' exists in Python memory\",\n",
        "    # Test 3: Check if collisions0 defined\n",
        "    'collisions0 defined': '✅ Passed!' if 'collisions0' in vars() else \"❌ No variable named 'collisions0' exists in Python memory\",\n",
        "    # Test 4: Check if rate0 defined\n",
        "    'rate0 defined': '✅ Passed!' if 'rate0' in vars() else \"❌ No variabled named 'rate0' exists in Python memory\"\n",
        "}\n",
        "q1_2_1_public_tests"
      ],
      "metadata": {
        "id": "InrsZd-g3zN1",
        "colab": {
          "base_uri": "https://localhost:8080/"
        },
        "outputId": "9de683c4-5792-4015-9d61-9804cac38f9a"
      },
      "execution_count": null,
      "outputs": [
        {
          "output_type": "execute_result",
          "data": {
            "text/plain": [
              "{'naive_ht_demo defined': '✅ Passed!',\n",
              " 'added0 defined': '✅ Passed!',\n",
              " 'collisions0 defined': '✅ Passed!',\n",
              " 'rate0 defined': '✅ Passed!'}"
            ]
          },
          "metadata": {},
          "execution_count": 5
        }
      ]
    },
    {
      "cell_type": "markdown",
      "source": [
        "#### Question 1.2.2\n",
        "\n",
        "* (a) Add a new datapoint, mapping the `str` key `'Kitten'` to the `int` value `10`, to `naive_ht_demo`,\n",
        "* (b) Call the `get_num_added()` function on `naive_ht_demo` again, storing the new value into a variable called `added1`,\n",
        "* (c) Call the `get_num_collisions()` function on `naive_ht_demo` again, storing the new value into a variable called `collisions1`, and\n",
        "* (d) call the `compute_collision_rate()` function on `naive_ht_demo` again, storing the new value into a variable called `rate1`"
      ],
      "metadata": {
        "id": "uoQyZGxS2mOs"
      }
    },
    {
      "cell_type": "code",
      "source": [
        "# @title Q1.2.2-response\n",
        "added1 = None # Your code here\n",
        "collisions1 = None # Your code here\n",
        "rate1 = None # Your code here"
      ],
      "metadata": {
        "id": "GJPF_vY32lnB"
      },
      "execution_count": null,
      "outputs": []
    },
    {
      "cell_type": "code",
      "source": [
        "# @title Q1.2.2-public-tests\n",
        "q1_2_2_public_tests = {\n",
        "    # Test 1: Check if added1 defined\n",
        "    'added1 defined': '✅ Passed!' if 'added1' in vars() else \"❌ No variable named 'added1' exists in Python memory\",\n",
        "    # Test 2: collisions1 defined\n",
        "    'collisions1 defined': '✅ Passed!' if 'collisions1' in vars() else \"❌ No variable named 'collisions1' exists in Python memory\",\n",
        "    # Test 3: rate1 defined\n",
        "    'rate1 defined': '✅ Passed!' if 'rate1' in vars() else \"❌ No variable named 'rate1' exists in Python memory\",\n",
        "}\n",
        "q1_2_2_public_tests"
      ],
      "metadata": {
        "id": "h8w35Eau32cC",
        "colab": {
          "base_uri": "https://localhost:8080/"
        },
        "outputId": "a364ef78-0058-4d60-f43c-a6b686269c8b"
      },
      "execution_count": null,
      "outputs": [
        {
          "output_type": "execute_result",
          "data": {
            "text/plain": [
              "{'added1 defined': '✅ Passed!',\n",
              " 'collisions1 defined': '✅ Passed!',\n",
              " 'rate1 defined': '✅ Passed!'}"
            ]
          },
          "metadata": {},
          "execution_count": 7
        }
      ]
    },
    {
      "cell_type": "markdown",
      "source": [
        "#### Question 1.2.3\n",
        "\n",
        "* (a) Add another new datapoint, this time mapping the `str` key `'Koala'` to the `int` value `8`, to `naive_ht_demo`.\n",
        "* (b) Call the `get_num_added()` function on `naive_ht_demo` once more, and store its return value into a variable named `added2`.\n",
        "* (c) Call the `get_num_collisions()` function on `naive_ht_demo` once more, and store its return value into a variable called `collisions2`, and\n",
        "* (d) Call the `compute_collision_rate()` function on `naive_ht_demo` once more, and store its return value into a variable called `rate2`."
      ],
      "metadata": {
        "id": "Pfhb8vp83Rrb"
      }
    },
    {
      "cell_type": "code",
      "source": [
        "# @title Q1.2.3-response\n",
        "added2 = None # Your code here\n",
        "collisions2 = None # Your code here\n",
        "rate2 = None # Your code here"
      ],
      "metadata": {
        "id": "lyjLoXXl35iE"
      },
      "execution_count": null,
      "outputs": []
    },
    {
      "cell_type": "code",
      "source": [
        "# @title Q1.2.3-public-tests\n",
        "q1_2_3_public_tests = {\n",
        "    # Test 1: Check if added2 defined\n",
        "    'added2 defined': '✅ Passed!' if 'added2' in vars() else \"❌ No variable named 'added2' exists in Python memory\",\n",
        "    # Test 2: Check if collisions2 defined\n",
        "    'collisions2 defined': ':✅ Passed!' if 'collisions2' in vars() else \"❌ No variable named 'collisions2' exists in Python memory\",\n",
        "    # Test 3: Check if rate2 defined\n",
        "    'rate2 defined': '✅ Passed!' if 'rate2' in vars() else \"❌ No variable named 'rate2' exists in Python memory\",\n",
        "}\n",
        "q1_2_3_public_tests"
      ],
      "metadata": {
        "id": "SGjLnJjF3851",
        "colab": {
          "base_uri": "https://localhost:8080/"
        },
        "outputId": "cdfdd554-5451-4921-dd3c-25c3a3e435bc"
      },
      "execution_count": null,
      "outputs": [
        {
          "output_type": "execute_result",
          "data": {
            "text/plain": [
              "{'added2 defined': '✅ Passed!',\n",
              " 'collisions2 defined': ':✅ Passed!',\n",
              " 'rate2 defined': '✅ Passed!'}"
            ]
          },
          "metadata": {},
          "execution_count": 9
        }
      ]
    },
    {
      "cell_type": "markdown",
      "source": [
        "### Part 1.3: Using `NaiveHashTable` with Real Data\n",
        "\n",
        "The questions in this part will help illustrate (a) how to use the class we just made to store real-world data, but also (b) why it fails as a workable data structure in its current form!"
      ],
      "metadata": {
        "id": "W9Xy8xg0096F"
      }
    },
    {
      "cell_type": "markdown",
      "source": [
        "#### Question 1.3.1\n",
        "\n",
        "Create a new `NaiveHashTable` object, assigning it as the value for a variable named `naive_ht_real`."
      ],
      "metadata": {
        "id": "IxNMKnHR1ZUu"
      }
    },
    {
      "cell_type": "code",
      "source": [
        "# @title Q1.3.1-response\n",
        "naive_ht_real = None # Your code here"
      ],
      "metadata": {
        "id": "FVrq8sp90-1w"
      },
      "execution_count": null,
      "outputs": []
    },
    {
      "cell_type": "code",
      "source": [
        "# @title Q1.3.1-public-tests\n",
        "q1_3_1_public_tests = {\n",
        "    # Test 1: Check if naive_ht_real defined\n",
        "    'naive_ht_real defined': '✅ Passed!' if 'naive_ht_real' in vars() else \"❌ No variable named 'naive_ht_real' exists in Python memory\"\n",
        "}\n",
        "q1_3_1_public_tests"
      ],
      "metadata": {
        "id": "wgjFb4iX4vGq",
        "colab": {
          "base_uri": "https://localhost:8080/"
        },
        "outputId": "3bc0cff4-7d4b-479a-86d5-e6d0bab4a335"
      },
      "execution_count": null,
      "outputs": [
        {
          "output_type": "execute_result",
          "data": {
            "text/plain": [
              "{'naive_ht_real defined': '✅ Passed!'}"
            ]
          },
          "metadata": {},
          "execution_count": 11
        }
      ]
    },
    {
      "cell_type": "markdown",
      "source": [
        "#### Question 1.3.2\n",
        "\n",
        "Continuing with our **cashier example** from class, run the following code, which\n",
        "\n",
        "* (a) loads data from a `.csv` file containing names and prices for 50 randomly-sampled items from Walmart's inventory and\n",
        "* (b) stores this data within a Pandas `DataFrame` object named `walmart_df`:"
      ],
      "metadata": {
        "id": "pp2NDv4c2I2Z"
      }
    },
    {
      "cell_type": "code",
      "source": [
        "# @title Q1.3.2-response\n",
        "import pandas as pd\n",
        "walmart_df = pd.read_csv(\"https://jpj.georgetown.domains/dsan5500-scratch/walmart.csv\")\n",
        "walmart_df.head()"
      ],
      "metadata": {
        "colab": {
          "base_uri": "https://localhost:8080/",
          "height": 206
        },
        "id": "m77xguDFzrXP",
        "outputId": "a2124f63-5e1c-4760-a6da-1f83da7f618b"
      },
      "execution_count": null,
      "outputs": [
        {
          "output_type": "execute_result",
          "data": {
            "text/plain": [
              "   item_id                                          item_name   price\n",
              "0        0  Easter Bunny Wood Door Sign - Home Decor - 1 P...   14.29\n",
              "1        1     Kinder Bueno Milk Chocolate and Hazelnut Cream    3.58\n",
              "2        2  Brown Ivory and Orange Standing Duck Spring Ta...   18.99\n",
              "3        3  Caffoz 58\" Home Entertainment Center Wood Medi...  109.78\n",
              "4        4            Novogratz Voler Coffee Table, Light Oak  106.46"
            ],
            "text/html": [
              "\n",
              "  <div id=\"df-e76c0ef2-2417-48bb-a64b-e2e2ce851090\" class=\"colab-df-container\">\n",
              "    <div>\n",
              "<style scoped>\n",
              "    .dataframe tbody tr th:only-of-type {\n",
              "        vertical-align: middle;\n",
              "    }\n",
              "\n",
              "    .dataframe tbody tr th {\n",
              "        vertical-align: top;\n",
              "    }\n",
              "\n",
              "    .dataframe thead th {\n",
              "        text-align: right;\n",
              "    }\n",
              "</style>\n",
              "<table border=\"1\" class=\"dataframe\">\n",
              "  <thead>\n",
              "    <tr style=\"text-align: right;\">\n",
              "      <th></th>\n",
              "      <th>item_id</th>\n",
              "      <th>item_name</th>\n",
              "      <th>price</th>\n",
              "    </tr>\n",
              "  </thead>\n",
              "  <tbody>\n",
              "    <tr>\n",
              "      <th>0</th>\n",
              "      <td>0</td>\n",
              "      <td>Easter Bunny Wood Door Sign - Home Decor - 1 P...</td>\n",
              "      <td>14.29</td>\n",
              "    </tr>\n",
              "    <tr>\n",
              "      <th>1</th>\n",
              "      <td>1</td>\n",
              "      <td>Kinder Bueno Milk Chocolate and Hazelnut Cream</td>\n",
              "      <td>3.58</td>\n",
              "    </tr>\n",
              "    <tr>\n",
              "      <th>2</th>\n",
              "      <td>2</td>\n",
              "      <td>Brown Ivory and Orange Standing Duck Spring Ta...</td>\n",
              "      <td>18.99</td>\n",
              "    </tr>\n",
              "    <tr>\n",
              "      <th>3</th>\n",
              "      <td>3</td>\n",
              "      <td>Caffoz 58\" Home Entertainment Center Wood Medi...</td>\n",
              "      <td>109.78</td>\n",
              "    </tr>\n",
              "    <tr>\n",
              "      <th>4</th>\n",
              "      <td>4</td>\n",
              "      <td>Novogratz Voler Coffee Table, Light Oak</td>\n",
              "      <td>106.46</td>\n",
              "    </tr>\n",
              "  </tbody>\n",
              "</table>\n",
              "</div>\n",
              "    <div class=\"colab-df-buttons\">\n",
              "\n",
              "  <div class=\"colab-df-container\">\n",
              "    <button class=\"colab-df-convert\" onclick=\"convertToInteractive('df-e76c0ef2-2417-48bb-a64b-e2e2ce851090')\"\n",
              "            title=\"Convert this dataframe to an interactive table.\"\n",
              "            style=\"display:none;\">\n",
              "\n",
              "  <svg xmlns=\"http://www.w3.org/2000/svg\" height=\"24px\" viewBox=\"0 -960 960 960\">\n",
              "    <path d=\"M120-120v-720h720v720H120Zm60-500h600v-160H180v160Zm220 220h160v-160H400v160Zm0 220h160v-160H400v160ZM180-400h160v-160H180v160Zm440 0h160v-160H620v160ZM180-180h160v-160H180v160Zm440 0h160v-160H620v160Z\"/>\n",
              "  </svg>\n",
              "    </button>\n",
              "\n",
              "  <style>\n",
              "    .colab-df-container {\n",
              "      display:flex;\n",
              "      gap: 12px;\n",
              "    }\n",
              "\n",
              "    .colab-df-convert {\n",
              "      background-color: #E8F0FE;\n",
              "      border: none;\n",
              "      border-radius: 50%;\n",
              "      cursor: pointer;\n",
              "      display: none;\n",
              "      fill: #1967D2;\n",
              "      height: 32px;\n",
              "      padding: 0 0 0 0;\n",
              "      width: 32px;\n",
              "    }\n",
              "\n",
              "    .colab-df-convert:hover {\n",
              "      background-color: #E2EBFA;\n",
              "      box-shadow: 0px 1px 2px rgba(60, 64, 67, 0.3), 0px 1px 3px 1px rgba(60, 64, 67, 0.15);\n",
              "      fill: #174EA6;\n",
              "    }\n",
              "\n",
              "    .colab-df-buttons div {\n",
              "      margin-bottom: 4px;\n",
              "    }\n",
              "\n",
              "    [theme=dark] .colab-df-convert {\n",
              "      background-color: #3B4455;\n",
              "      fill: #D2E3FC;\n",
              "    }\n",
              "\n",
              "    [theme=dark] .colab-df-convert:hover {\n",
              "      background-color: #434B5C;\n",
              "      box-shadow: 0px 1px 3px 1px rgba(0, 0, 0, 0.15);\n",
              "      filter: drop-shadow(0px 1px 2px rgba(0, 0, 0, 0.3));\n",
              "      fill: #FFFFFF;\n",
              "    }\n",
              "  </style>\n",
              "\n",
              "    <script>\n",
              "      const buttonEl =\n",
              "        document.querySelector('#df-e76c0ef2-2417-48bb-a64b-e2e2ce851090 button.colab-df-convert');\n",
              "      buttonEl.style.display =\n",
              "        google.colab.kernel.accessAllowed ? 'block' : 'none';\n",
              "\n",
              "      async function convertToInteractive(key) {\n",
              "        const element = document.querySelector('#df-e76c0ef2-2417-48bb-a64b-e2e2ce851090');\n",
              "        const dataTable =\n",
              "          await google.colab.kernel.invokeFunction('convertToInteractive',\n",
              "                                                    [key], {});\n",
              "        if (!dataTable) return;\n",
              "\n",
              "        const docLinkHtml = 'Like what you see? Visit the ' +\n",
              "          '<a target=\"_blank\" href=https://colab.research.google.com/notebooks/data_table.ipynb>data table notebook</a>'\n",
              "          + ' to learn more about interactive tables.';\n",
              "        element.innerHTML = '';\n",
              "        dataTable['output_type'] = 'display_data';\n",
              "        await google.colab.output.renderOutput(dataTable, element);\n",
              "        const docLink = document.createElement('div');\n",
              "        docLink.innerHTML = docLinkHtml;\n",
              "        element.appendChild(docLink);\n",
              "      }\n",
              "    </script>\n",
              "  </div>\n",
              "\n",
              "\n",
              "<div id=\"df-dd8efb5e-e95b-44e9-956c-345e97854233\">\n",
              "  <button class=\"colab-df-quickchart\" onclick=\"quickchart('df-dd8efb5e-e95b-44e9-956c-345e97854233')\"\n",
              "            title=\"Suggest charts\"\n",
              "            style=\"display:none;\">\n",
              "\n",
              "<svg xmlns=\"http://www.w3.org/2000/svg\" height=\"24px\"viewBox=\"0 0 24 24\"\n",
              "     width=\"24px\">\n",
              "    <g>\n",
              "        <path d=\"M19 3H5c-1.1 0-2 .9-2 2v14c0 1.1.9 2 2 2h14c1.1 0 2-.9 2-2V5c0-1.1-.9-2-2-2zM9 17H7v-7h2v7zm4 0h-2V7h2v10zm4 0h-2v-4h2v4z\"/>\n",
              "    </g>\n",
              "</svg>\n",
              "  </button>\n",
              "\n",
              "<style>\n",
              "  .colab-df-quickchart {\n",
              "      --bg-color: #E8F0FE;\n",
              "      --fill-color: #1967D2;\n",
              "      --hover-bg-color: #E2EBFA;\n",
              "      --hover-fill-color: #174EA6;\n",
              "      --disabled-fill-color: #AAA;\n",
              "      --disabled-bg-color: #DDD;\n",
              "  }\n",
              "\n",
              "  [theme=dark] .colab-df-quickchart {\n",
              "      --bg-color: #3B4455;\n",
              "      --fill-color: #D2E3FC;\n",
              "      --hover-bg-color: #434B5C;\n",
              "      --hover-fill-color: #FFFFFF;\n",
              "      --disabled-bg-color: #3B4455;\n",
              "      --disabled-fill-color: #666;\n",
              "  }\n",
              "\n",
              "  .colab-df-quickchart {\n",
              "    background-color: var(--bg-color);\n",
              "    border: none;\n",
              "    border-radius: 50%;\n",
              "    cursor: pointer;\n",
              "    display: none;\n",
              "    fill: var(--fill-color);\n",
              "    height: 32px;\n",
              "    padding: 0;\n",
              "    width: 32px;\n",
              "  }\n",
              "\n",
              "  .colab-df-quickchart:hover {\n",
              "    background-color: var(--hover-bg-color);\n",
              "    box-shadow: 0 1px 2px rgba(60, 64, 67, 0.3), 0 1px 3px 1px rgba(60, 64, 67, 0.15);\n",
              "    fill: var(--button-hover-fill-color);\n",
              "  }\n",
              "\n",
              "  .colab-df-quickchart-complete:disabled,\n",
              "  .colab-df-quickchart-complete:disabled:hover {\n",
              "    background-color: var(--disabled-bg-color);\n",
              "    fill: var(--disabled-fill-color);\n",
              "    box-shadow: none;\n",
              "  }\n",
              "\n",
              "  .colab-df-spinner {\n",
              "    border: 2px solid var(--fill-color);\n",
              "    border-color: transparent;\n",
              "    border-bottom-color: var(--fill-color);\n",
              "    animation:\n",
              "      spin 1s steps(1) infinite;\n",
              "  }\n",
              "\n",
              "  @keyframes spin {\n",
              "    0% {\n",
              "      border-color: transparent;\n",
              "      border-bottom-color: var(--fill-color);\n",
              "      border-left-color: var(--fill-color);\n",
              "    }\n",
              "    20% {\n",
              "      border-color: transparent;\n",
              "      border-left-color: var(--fill-color);\n",
              "      border-top-color: var(--fill-color);\n",
              "    }\n",
              "    30% {\n",
              "      border-color: transparent;\n",
              "      border-left-color: var(--fill-color);\n",
              "      border-top-color: var(--fill-color);\n",
              "      border-right-color: var(--fill-color);\n",
              "    }\n",
              "    40% {\n",
              "      border-color: transparent;\n",
              "      border-right-color: var(--fill-color);\n",
              "      border-top-color: var(--fill-color);\n",
              "    }\n",
              "    60% {\n",
              "      border-color: transparent;\n",
              "      border-right-color: var(--fill-color);\n",
              "    }\n",
              "    80% {\n",
              "      border-color: transparent;\n",
              "      border-right-color: var(--fill-color);\n",
              "      border-bottom-color: var(--fill-color);\n",
              "    }\n",
              "    90% {\n",
              "      border-color: transparent;\n",
              "      border-bottom-color: var(--fill-color);\n",
              "    }\n",
              "  }\n",
              "</style>\n",
              "\n",
              "  <script>\n",
              "    async function quickchart(key) {\n",
              "      const quickchartButtonEl =\n",
              "        document.querySelector('#' + key + ' button');\n",
              "      quickchartButtonEl.disabled = true;  // To prevent multiple clicks.\n",
              "      quickchartButtonEl.classList.add('colab-df-spinner');\n",
              "      try {\n",
              "        const charts = await google.colab.kernel.invokeFunction(\n",
              "            'suggestCharts', [key], {});\n",
              "      } catch (error) {\n",
              "        console.error('Error during call to suggestCharts:', error);\n",
              "      }\n",
              "      quickchartButtonEl.classList.remove('colab-df-spinner');\n",
              "      quickchartButtonEl.classList.add('colab-df-quickchart-complete');\n",
              "    }\n",
              "    (() => {\n",
              "      let quickchartButtonEl =\n",
              "        document.querySelector('#df-dd8efb5e-e95b-44e9-956c-345e97854233 button');\n",
              "      quickchartButtonEl.style.display =\n",
              "        google.colab.kernel.accessAllowed ? 'block' : 'none';\n",
              "    })();\n",
              "  </script>\n",
              "</div>\n",
              "    </div>\n",
              "  </div>\n"
            ],
            "application/vnd.google.colaboratory.intrinsic+json": {
              "type": "dataframe",
              "variable_name": "walmart_df",
              "summary": "{\n  \"name\": \"walmart_df\",\n  \"rows\": 50,\n  \"fields\": [\n    {\n      \"column\": \"item_id\",\n      \"properties\": {\n        \"dtype\": \"number\",\n        \"std\": 14,\n        \"min\": 0,\n        \"max\": 49,\n        \"samples\": [\n          13,\n          39,\n          30\n        ],\n        \"num_unique_values\": 50,\n        \"semantic_type\": \"\",\n        \"description\": \"\"\n      }\n    },\n    {\n      \"column\": \"item_name\",\n      \"properties\": {\n        \"dtype\": \"string\",\n        \"samples\": [\n          \"Prepac Space-Saving Entryway Organizer with Shoe Storage, Drifted Gray\",\n          \"Ovente 8.5'' Hardwired Lighted Wall Mount Makeup Mirror, 1X & 7X Magnifier w/ Dimmer Switch, Spinning Double Sided Round White LED, Extend & Fold, Retractable Arm, Antique Brass MPWD3185AB1X7X\",\n          \"Ameriwood Home Pursuit Mobile File Cabinet, Cherry\"\n        ],\n        \"num_unique_values\": 50,\n        \"semantic_type\": \"\",\n        \"description\": \"\"\n      }\n    },\n    {\n      \"column\": \"price\",\n      \"properties\": {\n        \"dtype\": \"number\",\n        \"std\": 151.58364513848252,\n        \"min\": 1.48,\n        \"max\": 1028.19,\n        \"samples\": [\n          178.99,\n          89.94,\n          145.23\n        ],\n        \"num_unique_values\": 50,\n        \"semantic_type\": \"\",\n        \"description\": \"\"\n      }\n    }\n  ]\n}"
            }
          },
          "metadata": {},
          "execution_count": 12
        }
      ]
    },
    {
      "cell_type": "code",
      "source": [
        "q1_3_2_public_tests = {\n",
        "    # Test 1: Check if walmart_df defined\n",
        "    'walmart_df defined': '✅ Passed!' if 'walmart_df' in vars() else \"❌ No variable named 'walmart_df' exists in Python memory\",\n",
        "    # Test 2: Check if walmart_df has correct length\n",
        "    'walmart_df correct length': '✅ Passed!' if len(walmart_df) == 50 else f\"❌ walmart_df DataFrame length ({len(walmart_df)}) is incorrect\",\n",
        "}"
      ],
      "metadata": {
        "id": "0e38L3Thd3zT"
      },
      "execution_count": null,
      "outputs": []
    },
    {
      "cell_type": "markdown",
      "source": [
        "#### Question 1.3.3\n",
        "\n",
        "Using the `iterrows()` function (which is available for all Pandas `DataFrame` objects), write a `for` loop which iterates over each row of `walmart_df`, carrying out the following steps within each loop iteration\n",
        "\n",
        "1. Store the current row's `item_name` value as a Python variable called `cur_name`\n",
        "2. Store the current row's `price` value as a Python variable called `cur_price`\n",
        "3. Add a new entry to the `naive_ht_real` object (using the `add()` function that you wrote above), mapping the key `cur_name` to the value `cur_price`."
      ],
      "metadata": {
        "id": "OVhaqtRm2lh9"
      }
    },
    {
      "cell_type": "code",
      "source": [
        "# @title Q1.3.3-response\n",
        "# Your code here"
      ],
      "metadata": {
        "id": "VXWkrQxKH3_B"
      },
      "execution_count": null,
      "outputs": []
    },
    {
      "cell_type": "code",
      "source": [
        "# @title Q1.3.3-public-tests\n",
        "nht_added_result = None\n",
        "if 'naive_ht_real' in vars() and naive_ht_real is not None:\n",
        "  nht_added_result = naive_ht_real.get_num_added()\n",
        "q1_3_3_public_tests = {\n",
        "    # Test 1: Check that get_num_added() returns the correct value for naive_ht_real\n",
        "    'correct return value for get_num_added()': '✅ Passed!' if nht_added_result == 50 else f'❌ naive_ht_real.get_num_added() should return 50. Current return value: {nht_added_result}',\n",
        "}\n",
        "q1_3_3_public_tests"
      ],
      "metadata": {
        "id": "K1eT1Ar2455c",
        "colab": {
          "base_uri": "https://localhost:8080/"
        },
        "outputId": "057d5267-c239-4f74-aae0-48736dd5404f"
      },
      "execution_count": null,
      "outputs": [
        {
          "output_type": "execute_result",
          "data": {
            "text/plain": [
              "{'correct return value for get_num_added()': '❌ naive_ht_real.get_num_added() should return 50. Current return value: None'}"
            ]
          },
          "metadata": {},
          "execution_count": 15
        }
      ]
    },
    {
      "cell_type": "markdown",
      "source": [
        "#### Question 1.3.4\n",
        "\n",
        "If the above steps were implemented correctly, you should now be able to run the following cell to see the result of the `__repr__()` function of your `naive_ht_real` object. You should see *some*, though not *all* of the data tuples that you added to `naive_ht_real` over the course of the for loop in the previous question:"
      ],
      "metadata": {
        "id": "_WDeKVtyH6ZE"
      }
    },
    {
      "cell_type": "code",
      "source": [
        "# @title Q1.3.4-response\n",
        "if 'naive_ht_real' in vars():\n",
        "  naive_ht_real"
      ],
      "metadata": {
        "id": "2ozrlVObIDzT"
      },
      "execution_count": null,
      "outputs": []
    },
    {
      "cell_type": "code",
      "source": [
        "# @title Q1.3.4-public-tests\n",
        "q1_3_4_output = _\n",
        "q1_3_4_public_tests = {\n",
        "    # Test 1: Ensure output of previous cell can be accessed\n",
        "    'q1_3_4-response output accessible': '✅ Passed!' if str(_) != \"\" else \"❌ Previously-run cell did not produce any output\"\n",
        "}"
      ],
      "metadata": {
        "id": "8vvkcbLX5J2e"
      },
      "execution_count": null,
      "outputs": []
    },
    {
      "cell_type": "markdown",
      "source": [
        "#### Question 1.3.5\n",
        "\n",
        "As the final step for this part:\n",
        "\n",
        "* (a) Calculate the number of records in the **original** dataset by calling `len()` with `walmart_df` as its argument, storing its return value into a Python variable named `len_original`. Then\n",
        "* (b) Calculate the number of records which were **retained** in `naive_ht_real` by calling `len()` again with `naive_ht_real` as its argument, storing its return value into a Python variable named `len_naive_ht`.\n",
        "\n",
        "The value in `len_naive_ht` should exactly match the number of tuples displayed in the output of the previous question, but should **not** match the value of `len_original` (since collisions should have resulted in previously-stored items being \"kicked out\" of the hash table)."
      ],
      "metadata": {
        "id": "mh9xgy88IaQG"
      }
    },
    {
      "cell_type": "code",
      "source": [
        "# @title Q1.3.5-response\n",
        "len_original = None # Your code here\n",
        "len_naive_ht = None # Your code here"
      ],
      "metadata": {
        "id": "w_T2kbT0I1ag"
      },
      "execution_count": null,
      "outputs": []
    },
    {
      "cell_type": "code",
      "source": [
        "# @title Q1.3.5-public-tests\n",
        "q1_3_5_public_tests = {\n",
        "    # Test 1: Check if len_original defined\n",
        "    'len_original defined': '✅ Passed!' if 'len_original' in vars() else \"❌ No variable named 'len_original' exists in Python memory\",\n",
        "    # Test 2: Check if len_naive_ht defined\n",
        "    'len_naive_ht defined': '✅ Passed!' if 'len_naive_ht' in vars() else \"❌ No variable named 'len_naive_ht' exists in Python memory\",\n",
        "}"
      ],
      "metadata": {
        "id": "qr0iUPuZI3JQ"
      },
      "execution_count": null,
      "outputs": []
    },
    {
      "cell_type": "markdown",
      "source": [
        "## Part 2: Hash Tables with Linear Collision Handling\n",
        "\n",
        "In the previous part you saw how the Naïve Hash Table is not very useful on its own, since it **throws away** information that was previously added to it whenever a collision occurs!\n",
        "\n",
        "In this part, you'll **solve** this problem and **transform** your Naïve Hash Table into a usable **(Linear) Hash Table**.\n",
        "\n",
        "Whereas in Part 1 you handled collisions by simply throwing away the old data and replacing it with the new data, in this part you will instead **change** the type of value stored in a slot when a collision occurs.\n",
        "\n",
        "First things first, however, you're going to need a completed **Linked List** implementation! Run the next cell, which defines a fully-implemented polymorphic linked list (so, a slightly fancier version of the `LinkedList` class you implemented for HW1!). You can look through the code here, to understand how it works, but you can also just run it and move on to the next part of this question!"
      ],
      "metadata": {
        "id": "ykCNcIUwDYY6"
      }
    },
    {
      "cell_type": "code",
      "source": [
        "# @title define-linked-list\n",
        "from abc import ABC, abstractmethod\n",
        "\n",
        "class LinkedList:\n",
        "  def __init__(self):\n",
        "    self.root = EmptyNode()\n",
        "\n",
        "  def append(self, item):\n",
        "    self.root = self.root.append(item)\n",
        "\n",
        "  def find_item_steps(self, item):\n",
        "    return self.root.find_item_steps(item)\n",
        "\n",
        "  def to_string(self, recurse: bool):\n",
        "    return f'LinkedList[{self.root.to_string(recurse)}]'\n",
        "\n",
        "  def __repr__(self):\n",
        "    return self.to_string(recurse=True)\n",
        "\n",
        "  def __str__(self):\n",
        "    return self.to_string(recurse=False)\n",
        "\n",
        "class PolymorphicNode(ABC):\n",
        "  @abstractmethod\n",
        "  def __init__(self):\n",
        "    pass\n",
        "\n",
        "  @abstractmethod\n",
        "  def append(self, item):\n",
        "    pass\n",
        "\n",
        "  @abstractmethod\n",
        "  def find_item_steps(self, item):\n",
        "    pass\n",
        "\n",
        "  @abstractmethod\n",
        "  def to_string(self, recurse: bool):\n",
        "    pass\n",
        "\n",
        "  def __repr__(self):\n",
        "    return self.to_string(recurse=True)\n",
        "\n",
        "  def __str__(self):\n",
        "    return self.to_string(recurse=False)\n",
        "\n",
        "class EmptyNode(PolymorphicNode):\n",
        "  def __init__(self):\n",
        "    super().__init__()\n",
        "\n",
        "  def append(self, item):\n",
        "    \"\"\"\n",
        "    This is the only weird part of EmptyNode: because we want to utilize\n",
        "    *polymorphism*, when append() is called on an EmptyNode it\n",
        "    is \"transformed into\" a FilledNode! That is why, in the\n",
        "    LinkedList's append() function, we have self.root = self.root.append(),\n",
        "    and why the FilledNode's append() function works the same way\n",
        "    \"\"\"\n",
        "    #print(\"EmptyLinkedListNode.append()\")\n",
        "    new_form = ContentNode(item)\n",
        "    return new_form\n",
        "\n",
        "  def find_item_steps(self, item):\n",
        "    return np.inf\n",
        "\n",
        "  def __len__(self):\n",
        "    return 0\n",
        "\n",
        "  def to_string(self, recurse: bool):\n",
        "    return ''\n",
        "\n",
        "class ContentNode(PolymorphicNode):\n",
        "  def __init__(self, content_arg):\n",
        "    super().__init__()\n",
        "    self.content = content_arg\n",
        "    self.next = EmptyNode()\n",
        "\n",
        "  def append(self, item):\n",
        "    self.next = self.next.append(item)\n",
        "    # Return just *self*, since we *haven't* transformed the type of\n",
        "    # FilledLinkedListNode by appending another element to it\n",
        "    return self\n",
        "\n",
        "  def find_item_steps(self, item):\n",
        "    if self.content == item or self.content[0] == item:\n",
        "      return 1\n",
        "    return 1 + self.next.find_item_steps(item)\n",
        "\n",
        "  def get_content(self):\n",
        "    return self.content\n",
        "\n",
        "  def __len__(self):\n",
        "    return 1 + len(self.next)\n",
        "\n",
        "  def to_string(self, recurse: bool):\n",
        "    content_str = f'ContentNode[{str(self.get_content())}] '\n",
        "    if not recurse:\n",
        "      return content_str\n",
        "    next_str = str(self.next)\n",
        "    return f'{content_str}{self.next.to_string(recurse)}'\n"
      ],
      "metadata": {
        "id": "IRvVe7eH5wm2"
      },
      "execution_count": null,
      "outputs": []
    },
    {
      "cell_type": "markdown",
      "source": [
        "To further help you in working with this version of `LinkedList` (though, again, you can move immediately to the question if you feel comfortable with how the `LinkedList` works!), you can run the following cell which defines a `visualize_ll()` function that takes in an object of type `LinkedList` and produces a visualization of its contents, in the same form that I've used to draw linked lists on the board during class!"
      ],
      "metadata": {
        "id": "4_8_DlXZoJ2h"
      }
    },
    {
      "cell_type": "code",
      "source": [
        "# @title define-linkedlist-visualizer\n",
        "from IPython.display import display\n",
        "import graphviz as gv # for visualizing a tree using Digraph\n",
        "from graphviz import Digraph, nohtml\n",
        "\n",
        "def visualize_ll(ll):\n",
        "  dot = Digraph(\n",
        "      graph_attr={'rankdir': 'LR'},\n",
        "        node_attr={'shape': 'record', 'height': '.1'}\n",
        "    )\n",
        "  prev_node_name = None\n",
        "  node_pointer = ll.root\n",
        "  while type(node_pointer) != EmptyNode:\n",
        "    # New node\n",
        "    cur_name = node_pointer.content\n",
        "    dot.node(name=cur_name, label=nohtml('{<f0> '+cur_name+'|<f1>}'))\n",
        "    # And edge from prev to cur, if not None\n",
        "    if prev_node_name is not None:\n",
        "      edge_from = f'{prev_node_name}:f1'\n",
        "      dot.edge(edge_from, cur_name)\n",
        "    # Now we can update prev_node_name\n",
        "    prev_node_name = cur_name\n",
        "    node_pointer = node_pointer.next\n",
        "  display(dot)\n",
        "\n",
        "# Create (empty) list\n",
        "print(\"Empty LL:\")\n",
        "pll = LinkedList()\n",
        "print(pll.__str__())\n",
        "print(pll.__repr__())\n",
        "print(type(pll))\n",
        "print(type(pll.root))\n",
        "# Add an element\n",
        "print(\"\\nAdding 'a':\")\n",
        "pll.append('a')\n",
        "print(pll.__str__())\n",
        "print(pll.__repr__())\n",
        "print(type(pll))\n",
        "print(type(pll.root))\n",
        "# And a second\n",
        "print(\"\\nAdding 'z':\")\n",
        "pll.append('z')\n",
        "print(pll.__str__())\n",
        "print(pll.__repr__())\n",
        "print(type(pll))\n",
        "print(type(pll.root))\n",
        "print(\"\\n---\\n\")\n",
        "\n",
        "visualize_ll(pll)"
      ],
      "metadata": {
        "colab": {
          "base_uri": "https://localhost:8080/",
          "height": 432
        },
        "id": "2fzIIjcWoJkp",
        "outputId": "8f8829c2-0c4a-40cd-a6a1-d931599e934b",
        "cellView": "form"
      },
      "execution_count": null,
      "outputs": [
        {
          "output_type": "stream",
          "name": "stdout",
          "text": [
            "Empty LL:\n",
            "LinkedList[]\n",
            "LinkedList[]\n",
            "<class '__main__.LinkedList'>\n",
            "<class '__main__.EmptyNode'>\n",
            "\n",
            "Adding 'a':\n",
            "LinkedList[ContentNode[a] ]\n",
            "LinkedList[ContentNode[a] ]\n",
            "<class '__main__.LinkedList'>\n",
            "<class '__main__.ContentNode'>\n",
            "\n",
            "Adding 'z':\n",
            "LinkedList[ContentNode[a] ]\n",
            "LinkedList[ContentNode[a] ContentNode[z] ]\n",
            "<class '__main__.LinkedList'>\n",
            "<class '__main__.ContentNode'>\n",
            "\n",
            "---\n",
            "\n"
          ]
        },
        {
          "output_type": "display_data",
          "data": {
            "image/svg+xml": "<?xml version=\"1.0\" encoding=\"UTF-8\" standalone=\"no\"?>\n<!DOCTYPE svg PUBLIC \"-//W3C//DTD SVG 1.1//EN\"\n \"http://www.w3.org/Graphics/SVG/1.1/DTD/svg11.dtd\">\n<!-- Generated by graphviz version 2.43.0 (0)\n -->\n<!-- Title: %3 Pages: 1 -->\n<svg width=\"152pt\" height=\"32pt\"\n viewBox=\"0.00 0.00 152.00 32.00\" xmlns=\"http://www.w3.org/2000/svg\" xmlns:xlink=\"http://www.w3.org/1999/xlink\">\n<g id=\"graph0\" class=\"graph\" transform=\"scale(1 1) rotate(0) translate(4 28)\">\n<title>%3</title>\n<polygon fill=\"white\" stroke=\"transparent\" points=\"-4,4 -4,-28 148,-28 148,4 -4,4\"/>\n<!-- a -->\n<g id=\"node1\" class=\"node\">\n<title>a</title>\n<polygon fill=\"none\" stroke=\"black\" points=\"0,-0.5 0,-23.5 54,-23.5 54,-0.5 0,-0.5\"/>\n<text text-anchor=\"middle\" x=\"14\" y=\"-8.3\" font-family=\"Times,serif\" font-size=\"14.00\">a</text>\n<polyline fill=\"none\" stroke=\"black\" points=\"28,-0.5 28,-23.5 \"/>\n<text text-anchor=\"middle\" x=\"41\" y=\"-8.3\" font-family=\"Times,serif\" font-size=\"14.00\"> </text>\n</g>\n<!-- z -->\n<g id=\"node2\" class=\"node\">\n<title>z</title>\n<polygon fill=\"none\" stroke=\"black\" points=\"90,-0.5 90,-23.5 144,-23.5 144,-0.5 90,-0.5\"/>\n<text text-anchor=\"middle\" x=\"104\" y=\"-8.3\" font-family=\"Times,serif\" font-size=\"14.00\">z</text>\n<polyline fill=\"none\" stroke=\"black\" points=\"118,-0.5 118,-23.5 \"/>\n<text text-anchor=\"middle\" x=\"131\" y=\"-8.3\" font-family=\"Times,serif\" font-size=\"14.00\"> </text>\n</g>\n<!-- a&#45;&gt;z -->\n<g id=\"edge1\" class=\"edge\">\n<title>a:f1&#45;&gt;z</title>\n<path fill=\"none\" stroke=\"black\" d=\"M54,-12C62.25,-12 71.12,-12 79.49,-12\"/>\n<polygon fill=\"black\" stroke=\"black\" points=\"79.75,-15.5 89.75,-12 79.75,-8.5 79.75,-15.5\"/>\n</g>\n</g>\n</svg>\n",
            "text/plain": [
              "<graphviz.graphs.Digraph at 0x7ea4db59cdc0>"
            ]
          },
          "metadata": {}
        }
      ]
    },
    {
      "cell_type": "markdown",
      "source": [
        "### Question 2.1: The `LinearHashTable` Class\n",
        "\n",
        "In the following cell, implement a class called `LinearHashTable`, which should work similarly to the `NaiveHashTable` from the previous part **except in the case where a collision occurs during execution of the `add()` function!**\n"
      ],
      "metadata": {
        "id": "4uPTV2ugI9VY"
      }
    },
    {
      "cell_type": "markdown",
      "source": [
        "To see how this **polymorphic** `LinkedList` class works, you can run the following cell, which illustrates its polymorphic nature:\n",
        "\n",
        "* When a new, empty `LinkedList` object is first created, its `root` pointer points to an object of type `EmptyNode`.\n",
        "* But then, once a first element is **added** to the `LinkedList`, the value that `root` points to is **transformed** from an `EmptyNode` object to a `ContentNode` object.\n",
        "* Since this transformation happens automatically (specifically: since the `add()` function within the `EmptyNode` class returns a `ContentNode` object), we no longer need **if statements** checking whether or not `root` points to `None`!\n",
        "\n",
        "For now this structure might seem like overkill---creating this polymorphic structure just to get rid of a few if statements---but it will become more and more important to think in this way as we create data structures with \"fancier\" types of **nodes**: the `BinarySearchTree` in the next part, for example, has **two** pointers (`left` and `right` rather than just `next`), and the `QuadTree` that we'll look at later will have **four** pointers (`nw`, `ne`, `sw`, `se`). So, if you can get comfortable with this polymorphic structure now, you'll eliminate the need for **two** if statements within every function of the `BinarySearchTree` class, **four** if statements within every function of the `QuadTree` class, and so on!"
      ],
      "metadata": {
        "id": "AwMWv7cl6r_X"
      }
    },
    {
      "cell_type": "markdown",
      "source": [
        "Now that the `LinkedList` class is defined, we can use it as a \"black box\" within our `LinearHashTable` class! In the following cell, implement this `LinearHashTable` class, by writing the following functions:\n",
        "\n",
        "* `__init__(self)`: Just like in Part 1, the constructor for `LinearHashTable` should just initialize an instance variable called `fixed_length_array`, as a NumPy array with length 26. It should also initialize, as in the `NaiveHashTable` class, instance variables called `num_added` and `num_collisions`, both of which should be assigned the `int` value `0`.\n",
        "* `add(self, key: str, value: object) -> bool`: Now that we're moving from a **Naïve** Hash Table to a **Linear** Hash Table, your `add()` function will become a bit more involved: it will need to check whether `key` is indeed a variable of type `str`, returning the `bool` value `False` if it is not, and then it will hash the `key` object as before. However, after computing this hash value for `key`, you will need to handle three possible cases:\n",
        "  * **[Case 1] `key` hashes to empty slot**: If the entry at index `key_hash` of `self.fixed_length_array` is just the value `None`, you just need to update this entry to now be a `tuple` object `(key, value)`.\n",
        "  * **[Case 2] `key` hashes to a slot containing a single `tuple` object**: If the entry at index `key_hash` of `self.fixed_length_array` is a `tuple` object (meaning, something was hashed into this slot before, triggering [Case 1], and thus we now have a first **collision** at this slot), then you will need to (a) store the existing `tuple` object into a Python variable (so it is not lost in this conversion), (b) construct a new `LinkedList` object for storing the two datapoints that have now been hashed to the same slot (and any further values that may hash to this same slot, handled in [Case 3]), (c) add the `tuple` object that was originally in this slot as the **first** item in the `LinkedList` you just created, and (d) add a new tuple `(key, value)` containing the data currently being added (the arguments to the `add()` function) as the **second** item in this newly-constructed `LinkedList`.\n",
        "  * **[Case 3] `key` hashes to a slot containing a `LinkedList` object**: If the entry at index `key_hash` of `self.fixed_length_array` is a `LinkedList` object (meaning, two or more keys have already previously hashed into this same slot), you just need to create a tuple object `(key, value)` containing the data currently being added (the arguments to the `add()` function), and append this tuple object as the **next item** within the existing `LinkedList` object.\n",
        "* `find_item_steps(self, key: str)`: The code for this function has already been provided for you, but I wanted to include it here because it will be important to understand, since it's what we will use to measure the **efficiency** of our hash table, in this and future parts of the assignment. This function uses the `AlphaHasher` class to compute the hash value `key_hash` for the `key` argument, then returns different values given three different possible cases:\n",
        "  * **[Case 1] The content at index `key_hash` is just the value `None`**: This means that an entry with key `key` does not exist in the hash table (since, if it did, that entry would have hashed to the slot `key_hash`, and thus this slot would not contain `None`), so to indicate that we only had to do this one computational step (checking the value in slot `key_hash`) to discover that the entry does not exist, we return the `int` value `1`\n",
        "  * **[Case 2] The content at index `key_hash` is a `tuple` object**: This means that only one entry has ever hashed into this slot, so we've either (a) found the item with key `key`, if the first element of the tuple is equal to `key`, or (b) discovered that the item does not exist in the hash table, if the first element of the tuple is not equal to `key`. Therefore, in either case we've only performed **one** computational step, so we return the `int` value `1`.\n",
        "  * **[Case 2] The content at index `key_hash` is a `LinkedList` object**: In this case we \"forward\" the function to the `LinkedList` class, by just returning the value produced as a result of calling the `find_item_steps()` function on the `LinkedList` object at index `key_hash`. This function is implemented within the `LinkedList` class provided for you above, and computes how many \"hops\" were required before finding the node corresponding to the desired `key` value.\n",
        "* `entry_to_string(self, index: int, recurse: bool) -> object`: You need to complete this function, but it just asks you to return whatever value is stored within the instance variable `self.fixed_length_array` at slot `index`. In other words, you **do not need to do any hashing for this function**: whereas the other functions have an argument like `key` (indicating a value that should be hashed for insertion/retrieval into the hash table), this function just needs to directly go to the slot `index` and return its value. So, we have the following (hopefully) straightforward cases, where [Case 3] is the only one requiring an additional consideration:\n",
        "  * **[Case 1] The entry at slot `index` is `None`**: In this case, the function should return the value `None`\n",
        "  * **[Case 2] The entry at slot `index` is a `tuple` object**: In this case, the function should just return this `tuple` object.\n",
        "  * **[Case 3] The entry at slot `index` is a `LinkedList`**: This is the case you need to be careful about, because it's where the `recurse` argument comes in. The `LinkedList` class provided for you above has a `to_string()` function defined, which takes in a single argument called `recurse`, and prints **all** contents of the list if the provided `recurse` value is `True`, or just the **first** item in the list if the provided `recurse` value is `False`. Your code here, therefore, just needs to return the value which is produced by calling the `to_string()` function on the `LinkedList` object stored in the slot `index`, with the `recurse` value as its only argument. This ensures that, for example, if `entry_to_string()` was called with a `recurse` value of `True` and the entry in slot `index` is a `LinkedList` object, the full contents of this `LinkedList` object will be produced.\n",
        "* `__len__(self) -> int`: Notice the two underscores before and after the name of this function: this indicates that it is a **special** function used by Python to implement some operator, in this case the `len()` operator.  So, your job in implementing this function is to return an `int` value representing the total number of elements stored in the hash table. Note that, **unlike the case for the `NaiveHashTable`**, here you cannot simply count the number of empty vs. non-empty slots! Instead, any time you encounter a slot in the `self.fixed_length_array` instance variable that contains a `LinkedList` object, you will need to use the `len()` operator (which we know will \"work\", since `__len__()` is defined within the provided `LinkedList` class above) to find its length. Given this, hopefully it makes sense that the final length of the **entire `LinearHashTable`** will be the sum of:\n",
        "  * `0` for all slots containing just the \"blank\" value `None`\n",
        "  * `1` for all slots containing a single `tuple` object, and\n",
        "  * `len(self.fixed_length_array[i])` for all slots `i` containing a `LinkedList` object.\n",
        "* `__str__()` and `__repr__()`: As before, you do need to implement these functions, but they should just work as follows:\n",
        "  * `__str__()` should return the value of `self.to_string()`, called with the `recurse` argument set to be the `bool` value `False`\n",
        "  * `__repr__()` should return the value of `self.to_string()`, called with the `recurse` argument set to be the `bool` value `True`\n",
        "\n",
        "By implementing `__str__()` and `__repr__()` this way, we can see our first real example of using these two functions for two different purposes:\n",
        "* We use `__str__()` to generate a **simplified** string representation of the `LinearHashTable` object, where we only see the first element of any slots containing `LinkedList` objects, but then\n",
        "* We use `__repr__()` to generate an **expanded** (i.e., more detailed) string representation of the `LinearHashTable` object, where we see **all** of the elements stored within any slots containing `LinkedList` objects."
      ],
      "metadata": {
        "id": "suxETa_H5xAF"
      }
    },
    {
      "cell_type": "code",
      "source": [
        "# @title Q2.1-response\n",
        "from abc import ABC\n",
        "import numpy as np\n",
        "\n",
        "class LinearHashTable:\n",
        "  def __init__(self):\n",
        "    self.hasher = AlphaHasher()\n",
        "    self.fixed_array_size = self.hasher.get_alphabet_size()\n",
        "    self.fixed_length_array = np.empty(self.fixed_array_size, dtype='object')\n",
        "    self.num_added = 0\n",
        "    self.num_collisions = 0\n",
        "\n",
        "  def add(self, key: str, value: object) -> bool:\n",
        "    pass # Your code here\n",
        "\n",
        "  def find_item_steps(self, key: str) -> int:\n",
        "    key_hash = self.hasher.hash(key)\n",
        "    if self.fixed_length_array[key_hash] is None:\n",
        "      return 1\n",
        "    if isinstance(self.fixed_length_array[key_hash], LinkedList):\n",
        "      return self.fixed_length_array[key_hash].find_item_steps(key)\n",
        "    return 1\n",
        "\n",
        "  def entry_to_string(self, index: int, recurse: bool) -> object:\n",
        "    pass # Your code here\n",
        "\n",
        "  def get_num_added(self):\n",
        "    return self.num_added\n",
        "\n",
        "  def increment_num_added(self):\n",
        "    self.num_added = self.num_added + 1\n",
        "\n",
        "  def get_num_collisions(self):\n",
        "    return self.num_collisions\n",
        "\n",
        "  def increment_num_collisions(self):\n",
        "    self.num_collisions = self.num_collisions + 1\n",
        "\n",
        "  def __len__(self):\n",
        "    pass # Your code here\n",
        "\n",
        "  def to_string(self, recurse):\n",
        "    entry_list = [f'{self.hasher.compute_key_for_index(i)}: {self.entry_to_string(i, recurse)}' for i in range(len(self.fixed_length_array))]\n",
        "    return \"\\n\".join(entry_list)\n",
        "\n",
        "  def __repr__(self):\n",
        "    return \"__repr__() not implemented\" # Your code here\n",
        "\n",
        "  def __str__(self):\n",
        "    return \"__str__() not implemented\" # Your code here\n"
      ],
      "metadata": {
        "id": "E3wOOH4lgfMT"
      },
      "execution_count": null,
      "outputs": []
    },
    {
      "cell_type": "code",
      "source": [
        "# @title Q2.1-public-tests\n",
        "q2_1_public_tests = {\n",
        "    # Test 1: Check if LinearHashTable definition is in Python's memory\n",
        "    'LinearHashTable defined': '✅ Passed!' if 'LinearHashTable' in vars() else \"❌ 'LinearHashTable' class definition not in Python memory\",\n",
        "}\n",
        "q2_1_public_tests"
      ],
      "metadata": {
        "id": "OptA67lmSVC2",
        "colab": {
          "base_uri": "https://localhost:8080/"
        },
        "outputId": "95aacc9b-7006-433e-9ea0-1a996e1826b5"
      },
      "execution_count": null,
      "outputs": [
        {
          "output_type": "execute_result",
          "data": {
            "text/plain": [
              "{'LinearHashTable defined': '✅ Passed!'}"
            ]
          },
          "metadata": {},
          "execution_count": 23
        }
      ]
    },
    {
      "cell_type": "markdown",
      "source": [
        "### Part 2.2: Using `LinearHashTable` to Store Real Data"
      ],
      "metadata": {
        "id": "12meeyFf7eIE"
      }
    },
    {
      "cell_type": "markdown",
      "source": [
        "The following code loads a new dataset (different from the dataset used in Part 1), containing randomly-generated data from Mockaroo on $N = 1000$ products and their prices, into a Pandas `DataFrame` object called `product_df`. You can take a look at the contents, for concrete examples of the data we're going to represent as objects of type `InventoryItem` and add to our `LinearHashTable`."
      ],
      "metadata": {
        "id": "wzK3Cr0W7jmo"
      }
    },
    {
      "cell_type": "code",
      "source": [
        "import pandas as pd\n",
        "product_df = pd.read_csv(\"https://jpj.georgetown.domains/dsan5500-scratch/mockaroo.csv\")\n",
        "product_df.head()"
      ],
      "metadata": {
        "id": "YZxp2Axk7ikM",
        "colab": {
          "base_uri": "https://localhost:8080/",
          "height": 206
        },
        "outputId": "3a26673b-e8e8-4d30-9f0b-7d5159d4adba"
      },
      "execution_count": null,
      "outputs": [
        {
          "output_type": "execute_result",
          "data": {
            "text/plain": [
              "   id                      product_name  price\n",
              "0   1   Nescafe - Frothy French Vanilla  26.94\n",
              "1   2                 Star Anise, Whole  62.83\n",
              "2   3  Wine - White, Riesling, Henry Of  90.10\n",
              "3   4                       Crab - Meat  67.26\n",
              "4   5     Syrup - Monin - Passion Fruit   6.75"
            ],
            "text/html": [
              "\n",
              "  <div id=\"df-16c0a6db-ad1c-4e49-8645-e611b6113a32\" class=\"colab-df-container\">\n",
              "    <div>\n",
              "<style scoped>\n",
              "    .dataframe tbody tr th:only-of-type {\n",
              "        vertical-align: middle;\n",
              "    }\n",
              "\n",
              "    .dataframe tbody tr th {\n",
              "        vertical-align: top;\n",
              "    }\n",
              "\n",
              "    .dataframe thead th {\n",
              "        text-align: right;\n",
              "    }\n",
              "</style>\n",
              "<table border=\"1\" class=\"dataframe\">\n",
              "  <thead>\n",
              "    <tr style=\"text-align: right;\">\n",
              "      <th></th>\n",
              "      <th>id</th>\n",
              "      <th>product_name</th>\n",
              "      <th>price</th>\n",
              "    </tr>\n",
              "  </thead>\n",
              "  <tbody>\n",
              "    <tr>\n",
              "      <th>0</th>\n",
              "      <td>1</td>\n",
              "      <td>Nescafe - Frothy French Vanilla</td>\n",
              "      <td>26.94</td>\n",
              "    </tr>\n",
              "    <tr>\n",
              "      <th>1</th>\n",
              "      <td>2</td>\n",
              "      <td>Star Anise, Whole</td>\n",
              "      <td>62.83</td>\n",
              "    </tr>\n",
              "    <tr>\n",
              "      <th>2</th>\n",
              "      <td>3</td>\n",
              "      <td>Wine - White, Riesling, Henry Of</td>\n",
              "      <td>90.10</td>\n",
              "    </tr>\n",
              "    <tr>\n",
              "      <th>3</th>\n",
              "      <td>4</td>\n",
              "      <td>Crab - Meat</td>\n",
              "      <td>67.26</td>\n",
              "    </tr>\n",
              "    <tr>\n",
              "      <th>4</th>\n",
              "      <td>5</td>\n",
              "      <td>Syrup - Monin - Passion Fruit</td>\n",
              "      <td>6.75</td>\n",
              "    </tr>\n",
              "  </tbody>\n",
              "</table>\n",
              "</div>\n",
              "    <div class=\"colab-df-buttons\">\n",
              "\n",
              "  <div class=\"colab-df-container\">\n",
              "    <button class=\"colab-df-convert\" onclick=\"convertToInteractive('df-16c0a6db-ad1c-4e49-8645-e611b6113a32')\"\n",
              "            title=\"Convert this dataframe to an interactive table.\"\n",
              "            style=\"display:none;\">\n",
              "\n",
              "  <svg xmlns=\"http://www.w3.org/2000/svg\" height=\"24px\" viewBox=\"0 -960 960 960\">\n",
              "    <path d=\"M120-120v-720h720v720H120Zm60-500h600v-160H180v160Zm220 220h160v-160H400v160Zm0 220h160v-160H400v160ZM180-400h160v-160H180v160Zm440 0h160v-160H620v160ZM180-180h160v-160H180v160Zm440 0h160v-160H620v160Z\"/>\n",
              "  </svg>\n",
              "    </button>\n",
              "\n",
              "  <style>\n",
              "    .colab-df-container {\n",
              "      display:flex;\n",
              "      gap: 12px;\n",
              "    }\n",
              "\n",
              "    .colab-df-convert {\n",
              "      background-color: #E8F0FE;\n",
              "      border: none;\n",
              "      border-radius: 50%;\n",
              "      cursor: pointer;\n",
              "      display: none;\n",
              "      fill: #1967D2;\n",
              "      height: 32px;\n",
              "      padding: 0 0 0 0;\n",
              "      width: 32px;\n",
              "    }\n",
              "\n",
              "    .colab-df-convert:hover {\n",
              "      background-color: #E2EBFA;\n",
              "      box-shadow: 0px 1px 2px rgba(60, 64, 67, 0.3), 0px 1px 3px 1px rgba(60, 64, 67, 0.15);\n",
              "      fill: #174EA6;\n",
              "    }\n",
              "\n",
              "    .colab-df-buttons div {\n",
              "      margin-bottom: 4px;\n",
              "    }\n",
              "\n",
              "    [theme=dark] .colab-df-convert {\n",
              "      background-color: #3B4455;\n",
              "      fill: #D2E3FC;\n",
              "    }\n",
              "\n",
              "    [theme=dark] .colab-df-convert:hover {\n",
              "      background-color: #434B5C;\n",
              "      box-shadow: 0px 1px 3px 1px rgba(0, 0, 0, 0.15);\n",
              "      filter: drop-shadow(0px 1px 2px rgba(0, 0, 0, 0.3));\n",
              "      fill: #FFFFFF;\n",
              "    }\n",
              "  </style>\n",
              "\n",
              "    <script>\n",
              "      const buttonEl =\n",
              "        document.querySelector('#df-16c0a6db-ad1c-4e49-8645-e611b6113a32 button.colab-df-convert');\n",
              "      buttonEl.style.display =\n",
              "        google.colab.kernel.accessAllowed ? 'block' : 'none';\n",
              "\n",
              "      async function convertToInteractive(key) {\n",
              "        const element = document.querySelector('#df-16c0a6db-ad1c-4e49-8645-e611b6113a32');\n",
              "        const dataTable =\n",
              "          await google.colab.kernel.invokeFunction('convertToInteractive',\n",
              "                                                    [key], {});\n",
              "        if (!dataTable) return;\n",
              "\n",
              "        const docLinkHtml = 'Like what you see? Visit the ' +\n",
              "          '<a target=\"_blank\" href=https://colab.research.google.com/notebooks/data_table.ipynb>data table notebook</a>'\n",
              "          + ' to learn more about interactive tables.';\n",
              "        element.innerHTML = '';\n",
              "        dataTable['output_type'] = 'display_data';\n",
              "        await google.colab.output.renderOutput(dataTable, element);\n",
              "        const docLink = document.createElement('div');\n",
              "        docLink.innerHTML = docLinkHtml;\n",
              "        element.appendChild(docLink);\n",
              "      }\n",
              "    </script>\n",
              "  </div>\n",
              "\n",
              "\n",
              "<div id=\"df-d6d8ab43-0547-4257-a9a1-ab5acc8b651f\">\n",
              "  <button class=\"colab-df-quickchart\" onclick=\"quickchart('df-d6d8ab43-0547-4257-a9a1-ab5acc8b651f')\"\n",
              "            title=\"Suggest charts\"\n",
              "            style=\"display:none;\">\n",
              "\n",
              "<svg xmlns=\"http://www.w3.org/2000/svg\" height=\"24px\"viewBox=\"0 0 24 24\"\n",
              "     width=\"24px\">\n",
              "    <g>\n",
              "        <path d=\"M19 3H5c-1.1 0-2 .9-2 2v14c0 1.1.9 2 2 2h14c1.1 0 2-.9 2-2V5c0-1.1-.9-2-2-2zM9 17H7v-7h2v7zm4 0h-2V7h2v10zm4 0h-2v-4h2v4z\"/>\n",
              "    </g>\n",
              "</svg>\n",
              "  </button>\n",
              "\n",
              "<style>\n",
              "  .colab-df-quickchart {\n",
              "      --bg-color: #E8F0FE;\n",
              "      --fill-color: #1967D2;\n",
              "      --hover-bg-color: #E2EBFA;\n",
              "      --hover-fill-color: #174EA6;\n",
              "      --disabled-fill-color: #AAA;\n",
              "      --disabled-bg-color: #DDD;\n",
              "  }\n",
              "\n",
              "  [theme=dark] .colab-df-quickchart {\n",
              "      --bg-color: #3B4455;\n",
              "      --fill-color: #D2E3FC;\n",
              "      --hover-bg-color: #434B5C;\n",
              "      --hover-fill-color: #FFFFFF;\n",
              "      --disabled-bg-color: #3B4455;\n",
              "      --disabled-fill-color: #666;\n",
              "  }\n",
              "\n",
              "  .colab-df-quickchart {\n",
              "    background-color: var(--bg-color);\n",
              "    border: none;\n",
              "    border-radius: 50%;\n",
              "    cursor: pointer;\n",
              "    display: none;\n",
              "    fill: var(--fill-color);\n",
              "    height: 32px;\n",
              "    padding: 0;\n",
              "    width: 32px;\n",
              "  }\n",
              "\n",
              "  .colab-df-quickchart:hover {\n",
              "    background-color: var(--hover-bg-color);\n",
              "    box-shadow: 0 1px 2px rgba(60, 64, 67, 0.3), 0 1px 3px 1px rgba(60, 64, 67, 0.15);\n",
              "    fill: var(--button-hover-fill-color);\n",
              "  }\n",
              "\n",
              "  .colab-df-quickchart-complete:disabled,\n",
              "  .colab-df-quickchart-complete:disabled:hover {\n",
              "    background-color: var(--disabled-bg-color);\n",
              "    fill: var(--disabled-fill-color);\n",
              "    box-shadow: none;\n",
              "  }\n",
              "\n",
              "  .colab-df-spinner {\n",
              "    border: 2px solid var(--fill-color);\n",
              "    border-color: transparent;\n",
              "    border-bottom-color: var(--fill-color);\n",
              "    animation:\n",
              "      spin 1s steps(1) infinite;\n",
              "  }\n",
              "\n",
              "  @keyframes spin {\n",
              "    0% {\n",
              "      border-color: transparent;\n",
              "      border-bottom-color: var(--fill-color);\n",
              "      border-left-color: var(--fill-color);\n",
              "    }\n",
              "    20% {\n",
              "      border-color: transparent;\n",
              "      border-left-color: var(--fill-color);\n",
              "      border-top-color: var(--fill-color);\n",
              "    }\n",
              "    30% {\n",
              "      border-color: transparent;\n",
              "      border-left-color: var(--fill-color);\n",
              "      border-top-color: var(--fill-color);\n",
              "      border-right-color: var(--fill-color);\n",
              "    }\n",
              "    40% {\n",
              "      border-color: transparent;\n",
              "      border-right-color: var(--fill-color);\n",
              "      border-top-color: var(--fill-color);\n",
              "    }\n",
              "    60% {\n",
              "      border-color: transparent;\n",
              "      border-right-color: var(--fill-color);\n",
              "    }\n",
              "    80% {\n",
              "      border-color: transparent;\n",
              "      border-right-color: var(--fill-color);\n",
              "      border-bottom-color: var(--fill-color);\n",
              "    }\n",
              "    90% {\n",
              "      border-color: transparent;\n",
              "      border-bottom-color: var(--fill-color);\n",
              "    }\n",
              "  }\n",
              "</style>\n",
              "\n",
              "  <script>\n",
              "    async function quickchart(key) {\n",
              "      const quickchartButtonEl =\n",
              "        document.querySelector('#' + key + ' button');\n",
              "      quickchartButtonEl.disabled = true;  // To prevent multiple clicks.\n",
              "      quickchartButtonEl.classList.add('colab-df-spinner');\n",
              "      try {\n",
              "        const charts = await google.colab.kernel.invokeFunction(\n",
              "            'suggestCharts', [key], {});\n",
              "      } catch (error) {\n",
              "        console.error('Error during call to suggestCharts:', error);\n",
              "      }\n",
              "      quickchartButtonEl.classList.remove('colab-df-spinner');\n",
              "      quickchartButtonEl.classList.add('colab-df-quickchart-complete');\n",
              "    }\n",
              "    (() => {\n",
              "      let quickchartButtonEl =\n",
              "        document.querySelector('#df-d6d8ab43-0547-4257-a9a1-ab5acc8b651f button');\n",
              "      quickchartButtonEl.style.display =\n",
              "        google.colab.kernel.accessAllowed ? 'block' : 'none';\n",
              "    })();\n",
              "  </script>\n",
              "</div>\n",
              "    </div>\n",
              "  </div>\n"
            ],
            "application/vnd.google.colaboratory.intrinsic+json": {
              "type": "dataframe",
              "variable_name": "product_df",
              "summary": "{\n  \"name\": \"product_df\",\n  \"rows\": 1000,\n  \"fields\": [\n    {\n      \"column\": \"id\",\n      \"properties\": {\n        \"dtype\": \"number\",\n        \"std\": 288,\n        \"min\": 1,\n        \"max\": 1000,\n        \"samples\": [\n          522,\n          738,\n          741\n        ],\n        \"num_unique_values\": 1000,\n        \"semantic_type\": \"\",\n        \"description\": \"\"\n      }\n    },\n    {\n      \"column\": \"product_name\",\n      \"properties\": {\n        \"dtype\": \"string\",\n        \"samples\": [\n          \"Tomato - Green\",\n          \"Cake Sheet Combo Party Pack\",\n          \"Soup - Campbells Broccoli\"\n        ],\n        \"num_unique_values\": 831,\n        \"semantic_type\": \"\",\n        \"description\": \"\"\n      }\n    },\n    {\n      \"column\": \"price\",\n      \"properties\": {\n        \"dtype\": \"number\",\n        \"std\": 28.53971997669648,\n        \"min\": 1.2,\n        \"max\": 99.9,\n        \"samples\": [\n          49.44,\n          40.5,\n          39.65\n        ],\n        \"num_unique_values\": 952,\n        \"semantic_type\": \"\",\n        \"description\": \"\"\n      }\n    }\n  ]\n}"
            }
          },
          "metadata": {},
          "execution_count": 24
        }
      ]
    },
    {
      "cell_type": "markdown",
      "source": [
        "#### Question 2.2.1\n",
        "\n",
        "In the following cell, use the `iterrows()` function available for the `product_df` DataFrame to loop over each row of `product_df`, converting each row into an object of type `InventoryItem` and storing this constructed `InventoryItem` object into the `LinearHashTable` object named `linear_ht` created for you at the beginning of the cell:"
      ],
      "metadata": {
        "id": "QuF4CMTf78tA"
      }
    },
    {
      "cell_type": "code",
      "source": [
        "# @title Q2.2.1-response\n",
        "linear_ht = LinearHashTable()\n",
        "\n",
        "# Your code here\n",
        "\n",
        "# Do not modify the following line or add any code below it, please!\n",
        "print(linear_ht)"
      ],
      "metadata": {
        "id": "3l8lKN5e7-Lr",
        "colab": {
          "base_uri": "https://localhost:8080/"
        },
        "outputId": "d32e249e-6ee8-49a2-8379-37df51e8b06f"
      },
      "execution_count": null,
      "outputs": [
        {
          "output_type": "stream",
          "name": "stdout",
          "text": [
            "__str__() not implemented\n"
          ]
        }
      ]
    },
    {
      "cell_type": "code",
      "source": [
        "# @title Q2.2.1-public-tests\n",
        "q2_2_1_public_tests = {\n",
        "    'linear_ht defined': '✅ Passed!' if 'linear_ht' in vars() else \"❌ No variabled named 'linear_ht' exists in Python memory\",\n",
        "}\n",
        "q2_2_1_public_tests"
      ],
      "metadata": {
        "colab": {
          "base_uri": "https://localhost:8080/"
        },
        "id": "rYszASNm8ebG",
        "outputId": "aeb7c4fc-5059-419b-ae15-24b437083e12"
      },
      "execution_count": null,
      "outputs": [
        {
          "output_type": "execute_result",
          "data": {
            "text/plain": [
              "{'linear_ht defined': '✅ Passed!'}"
            ]
          },
          "metadata": {},
          "execution_count": 26
        }
      ]
    },
    {
      "cell_type": "markdown",
      "source": [
        "#### Question 2.2.2\n",
        "\n",
        "Now, in the following cell, take the `retrieval_steps` defined for you in the first line, and use the `iterrows()` function again to loop over each element in `product_df`, but this time use your `find_item_steps()` function to compute the number of steps that are required to find each of the items in `product_df`. So, each iteration of your loop should add a new `int` value to the `retrieval_steps` list. The last line of code in the cell (already provided for you) should just take the elements you've now added to `retrieval_steps` and find the **mean number of operations** required to find the price for an inventory item. You should get a value between `37` and `38`!"
      ],
      "metadata": {
        "id": "yK5KGyY78wk5"
      }
    },
    {
      "cell_type": "code",
      "source": [
        "# @title Q2.2.2-response\n",
        "retrieval_steps_linear = []\n",
        "\n",
        "# Your code here\n",
        "\n",
        "# Don't modify the following line or add any code below it, please!\n",
        "mean_retrieval_steps_linear = -1\n",
        "if len(retrieval_steps_linear) > 0:\n",
        "  mean_retrieval_steps_linear = sum(retrieval_steps_linear) / len(retrieval_steps_linear)\n",
        "print(mean_retrieval_steps_linear)"
      ],
      "metadata": {
        "colab": {
          "base_uri": "https://localhost:8080/"
        },
        "id": "Q89ESERM8xvn",
        "outputId": "d82c52b3-23c6-4b9a-91a7-3ab15e771e38"
      },
      "execution_count": null,
      "outputs": [
        {
          "output_type": "stream",
          "name": "stdout",
          "text": [
            "-1\n"
          ]
        }
      ]
    },
    {
      "cell_type": "code",
      "source": [
        "# @title Q2.2.2-public-tests\n",
        "q2_2_2_public_tests = {\n",
        "    # Test 1: mean_retrieval_steps_linear is defined\n",
        "    'mean_retrieval_steps_linear defined': '✅ Passed!' if 'mean_retrieval_steps_linear' in vars() else \"No variable named 'mean_retrieval_steps_linear' exists in Python memory\",\n",
        "    # Test 2: mean_retrieval_steps_linear is computed, so that it does not have the default value -1\n",
        "    'mean_retrieval_steps_linear non-negative': '✅ Passed!' if mean_retrieval_steps_linear > -1 else \"mean_retrieval_steps_linear should be non-negative\",\n",
        "}\n",
        "q2_2_2_public_tests"
      ],
      "metadata": {
        "colab": {
          "base_uri": "https://localhost:8080/"
        },
        "id": "8U0wOUJP9w_G",
        "outputId": "6c358a60-114a-461b-88a2-5c4eda9282a8"
      },
      "execution_count": null,
      "outputs": [
        {
          "output_type": "execute_result",
          "data": {
            "text/plain": [
              "{'mean_retrieval_steps_linear defined': '✅ Passed!',\n",
              " 'mean_retrieval_steps_linear non-negative': 'mean_retrieval_steps_linear should be non-negative'}"
            ]
          },
          "metadata": {},
          "execution_count": 28
        }
      ]
    },
    {
      "cell_type": "markdown",
      "source": [
        "## Part 3: Binary Search Trees\n",
        "\n",
        "Now that you have an actually-usable Linear Hash Table, it's time to put on your **algorithmic design patterns** hat!\n",
        "\n",
        "We saw in class how, while a **linear** approach to search requires $O(n)$ time, we can often set up our structure in such a way as to allow a **divide-and-conquer** approach to search achieving $O(n\\log_2(n))$ time. For this part, you will put this into practice by taking the `LinkedList` from HW1 and **transforming** it into a `BinarySearchTree`. Then, once you've implemented and tested this `BinarySearchTree` class, in the next part you'll use it to **improve the runtime** of your Hash Table from the previous part!\n",
        "\n",
        "However, as we talked about in class, when we move from `LinkedList` as our dynamically-sized data structure for handling collisions to `BinarySearchTree`, we'll need a way to ensure that the **keys** being added to our hash table have a defined **order** (so that we know whether to add an entry to the **left** or **right** subtrees of a given node!). So, to ensure that the items being added to our `BinarySearchTree` are **orderable**, run the following cell, which defines an `InventoryItem` class containing all of the ordering functions we discussed in class: `__eq__()`, `__neq__()`, `__lt__()`, `__le__()`, `__gt__()`, and `__ge__()`."
      ],
      "metadata": {
        "id": "myN7SkoiC4_D"
      }
    },
    {
      "cell_type": "code",
      "source": [
        "# @title define-inventory-item\n",
        "class InventoryItem:\n",
        "  def __init__(self, item_name_arg, price_arg):\n",
        "    self.item_name = item_name_arg\n",
        "    self.price = price_arg\n",
        "\n",
        "  def __lt__(self, other): # -> [NotImplemented | bool]:\n",
        "    if isinstance(other, InventoryItem):\n",
        "      return self.item_name < other.item_name\n",
        "    if isinstance(other, str):\n",
        "      return self.item_name < other\n",
        "    return NotImplemented\n",
        "\n",
        "  def __le__(self, other): # -> [NotImplemented | bool]\n",
        "    if isinstance(other, InventoryItem):\n",
        "      return self.item_name <= other.item_name\n",
        "    if isinstance(other, str):\n",
        "      return self.item_name <= other\n",
        "    return NotImplemented\n",
        "\n",
        "  def __gt__(self, other): # -> [NotImplemented | bool]\n",
        "    if isinstance(other, InventoryItem):\n",
        "      return self.item_name > other.item_name\n",
        "    if isinstance(other, str):\n",
        "      return self.item_name > other\n",
        "    return NotImplemented\n",
        "\n",
        "  def __ge__(self, other): # -> [NotImplemented | bool]\n",
        "    if isinstance(other, InventoryItem):\n",
        "      return self.item_name >= other.item_name\n",
        "    if isinstance(other, str):\n",
        "      return self.item_name >= other\n",
        "    return NotImplemented\n",
        "\n",
        "  def __eq__(self, other): # -> [NotImplemented | bool]\n",
        "    if isinstance(other, InventoryItem):\n",
        "      return self.item_name == other.item_name\n",
        "    if isinstance(other, str):\n",
        "      return self.item_name == other\n",
        "    return NotImplemented\n",
        "\n",
        "  def __ne__(self, other): # -> [NotImplemented | bool]\n",
        "    if isinstance(other, InventoryItem):\n",
        "      return self.item_name != other.item_name\n",
        "    if isinstance(other, str):\n",
        "      return self.item_name != other\n",
        "    return NotImplemented\n",
        "\n",
        "  def __repr__(self) -> str:\n",
        "    return self.__str__()\n",
        "\n",
        "  def __str__(self) -> str:\n",
        "    return f'InventoryItem[item_name={self.item_name},price={self.price}]'"
      ],
      "metadata": {
        "id": "hrkLf5nRBmSV",
        "cellView": "form"
      },
      "execution_count": null,
      "outputs": []
    },
    {
      "cell_type": "markdown",
      "source": [
        "### Part 3.1: Implementing `BinarySearchTree`\n",
        "\n",
        "In the following cell, fill in the remaining parts of the provided starter code, by implementing the following functions within the `BinarySearchTree` class:\n",
        "\n",
        "* `__init__(self)`:\n",
        "  * Since the `BinarySearchTree` class serves mainly as a **wrapper** around the `BSTNode` class, the only thing this constructor function needs to do is initialize an instance variable called `root` and assign it the value `None` (representing that, upon construction, the binary search tree is **empty**)\n",
        "* `add(self, item: InventoryItem) -> bool`\n",
        "  * This function should take in `item`, which (as indicated by the type hint) should be an object of type `InventoryItem`, so that we can be sure that the items added to our tree have a defined **ordering**. However, since Python does not enforce type hints, your code should **explicitly check** whether or not `item` is an instance of the `InventoryItem` type, and return the `bool` value `False` if it is not. Once you've ensured that `item` is indeed an object of type `InventoryItem`, this function should proceed by just setting the `root` instance variable to point to a new `BSTNode` object (this will involve calling the `BSTNode` constructor, described below) containing the passed-in `InventoryItem` object `item`.\n",
        "  * Also note that the function in `LinkedList` was called **`append()`**, while this function is instead called **`add()`**. This is because, we're no longer \"appending\" when we add items to a binary search tree, since there's no single \"end\" that we can add a new item \"after\".\n",
        "* `find_item_steps(self, item: InventoryItem)`\n",
        "  * This function should require significantly fewer lines of code than the `add()` function! As was the case with the `LinearHashTable` above, the job of this function is just to return the number of computational steps required to find the `InventoryItem` object `item` within the binary search tree.\n",
        "* `__repr__()` and `__str__()`: You need to define these functions, but as you've done thus far, they should just work as follows:\n",
        "  * `__str__()` should return the result of calling the provided `to_string()` function with the `recurse` argument set to be the `bool` value `True`, while\n",
        "  * `__repr__()` should return the result of calling the provided `to_string()` function with the `recurse` argument set to be the `bool` value `False`.\n",
        "\n",
        "Now, implement the following functions within the `BSTNode` class, which we've started for you in the following cell immediately after the definition of `BinarySearchTree`:\n",
        "\n",
        "* `__init__(self, item: InventoryItem)`: Note that, since Python does not **enforce** type hints, the `add()` function within the `BSTNode` class described below will manually check this value. Here, however (within the `BinarySearchTree` class), you don't need to perform this manual check of the type of `item`.\n",
        " Once you've ensured that `item` is indeed an object of type `InventoryItem`, this function should add `item` to the tree in the appropriate spot:\n",
        "  * If `item` comes **before**\n",
        "* `add(self, item: InventoryItem) -> bool`\n",
        "* `find_item_steps(self, item: InventoryItem) -> int`: This function has the same explanation as was given for the `find_item_steps()` function in `BinarySearchTree` class above, but in this case you'll need to actually check the **content** (the `self.content`) of the `BSTNode`, to see whether or not we've indeed **found** the item within this `BSTNode`. Otherwise, we'll need to return the sum of:\n",
        "  * `1`, representing the check we did of the `BSTNode`'s content, and then\n",
        "  * `0` if `item` **precedes** this `BSTNode`'s content but this `BSTNode` has no left child,\n",
        "  * The result of `left.find_item_steps()` if `item` **precedes** this `BSTNode`'s content and this `BSTNode` **does** have a left child,\n",
        "  * `0` if `item` **comes after** this `BSTNode`'s content but this `BSTNode` has no right child, or\n",
        "  * The result of `right.find_item_steps()` if `item` **comes after** this `BSTNode`'s content and this `BSTNode` **does** have a left child.\n",
        "* `__repr__(self) -> str` and `__str__(self) -> str`: You need to define these functions, but as you've done thus far, they should just work as follows:\n",
        "  * `__str__()` should return the result of calling the provided `to_string()` function with the `recurse` argument set to be the `bool` value `True`, while\n",
        "  * `__repr__()` should return the result of calling the provided `to_string()` function with the `recurse` argument set to be the `bool` value `False`.\n",
        "\n",
        "Keep in mind that we defined a **complete ordering** for objects of type `InventoryItem` above (in the definition of the `InventoryItem` class), so that for both `add()` and `find_item_steps()` you don't need to ever look \"inside\" the `InventoryItem` object! You can just use Python operators like `<`, `==`, and `>` to check whether you've found `item`, and if not, whether the search should continue within the **left** or **right subtrees** of the `BSTNode`."
      ],
      "metadata": {
        "id": "xWdMcivnBtWf"
      }
    },
    {
      "cell_type": "code",
      "execution_count": null,
      "metadata": {
        "id": "shhxCawRCj-u"
      },
      "outputs": [],
      "source": [
        "# @title Q3.1-response\n",
        "class BinarySearchTree:\n",
        "  def __init__(self):\n",
        "    self.root = None\n",
        "\n",
        "  def add(self, item: InventoryItem) -> bool:\n",
        "    pass # Your code here\n",
        "\n",
        "  def find_key_steps(self, key: str) -> int:\n",
        "    pass # Your code here\n",
        "\n",
        "  def to_string(self, recurse: bool) -> str:\n",
        "    if self.root is None:\n",
        "      return 'BinarySearchTree[]'\n",
        "    return f'BinarySearchTree[{self.root.to_string(recurse)}]'\n",
        "\n",
        "  def __repr__(self) -> str:\n",
        "    pass # Your code here\n",
        "\n",
        "  def __str__(self) -> str:\n",
        "    pass # Your code here\n",
        "\n",
        "class BSTNode:\n",
        "  def __init__(self, item: InventoryItem):\n",
        "    pass # Your code here\n",
        "\n",
        "  def add(self, new_item: InventoryItem) -> bool:\n",
        "    pass # Your code here\n",
        "\n",
        "  def find_item_steps(self, item) -> int:\n",
        "    pass # Your code here\n",
        "\n",
        "  def has_left_child(self) -> bool:\n",
        "    return self.left is not None\n",
        "\n",
        "  def get_left_child(self): # -> BSTNode\n",
        "    return self.left\n",
        "\n",
        "  def has_right_child(self) -> bool:\n",
        "    return self.right is not None\n",
        "\n",
        "  def get_right_child(self): # -> BSTNode\n",
        "    return self.right\n",
        "\n",
        "  def to_string(self, recurse: bool) -> str:\n",
        "    if recurse:\n",
        "      left_str = \"\" if self.left is None else self.left.__repr__() + \",\"\n",
        "      right_str = \"\" if self.right is None else \",\" + self.right.__repr__()\n",
        "      return f'{left_str}{str(self.content)}{right_str}'\n",
        "    else:\n",
        "      return str(self.content)\n",
        "\n",
        "  def __repr__(self) -> str:\n",
        "    pass # Your code here\n",
        "\n",
        "  def __str__(self) -> str:\n",
        "    pass # Your code here"
      ]
    },
    {
      "cell_type": "code",
      "source": [
        "# @title Q3.1-public-tests\n",
        "q3_1_public_tests = {\n",
        "}\n",
        "q3_1_public_tests"
      ],
      "metadata": {
        "id": "QTEVr8d5SRv2",
        "colab": {
          "base_uri": "https://localhost:8080/"
        },
        "outputId": "68fe2af3-f69e-45d4-b914-32699da6cb1d"
      },
      "execution_count": null,
      "outputs": [
        {
          "output_type": "execute_result",
          "data": {
            "text/plain": [
              "{}"
            ]
          },
          "metadata": {},
          "execution_count": 31
        }
      ]
    },
    {
      "cell_type": "markdown",
      "source": [
        "## Part 3.2: Iterating over BSTs\n",
        "\n",
        "You may be eager to check out the contents of your BST from Part 3 right away! But, it also may suddenly dawn on you: when we were working with LinkedLists, we could print all the contents by just \"looping through\" the list, from one element to the next, printing as we go along. But... for a BinarySearchTree, since our structure can now **branch** as we traverse it... How do we \"loop through\" a BST?\n",
        "\n",
        "The answer is not entirely straightforward, but it boils down to the following: there are **two different ways** to loop over our BST, and since they are \"opposites\" of each other (in an intuitive but also a formal-mathematical sense!), your job as a data scientist is to **think carefully** about which one is **more efficient** for a given goal! The two methods are:\n",
        "\n",
        "1. **Depth-First Search (DFS)**: With this approach, we iterate through the BST by **always taking the left child as the \"next\" child** until we hit a **leaf node** (which means, we cannot follow this left-child pointer any longer, since a leaf node does not have a left child or a right child!), and only at that point do we **back up** and take the **right children** we skipped.\n",
        "2. **Breadth-First Search (BFS)**: This is the **\"opposite\"** of DFS in the sense that we traverse the tree level-by-level, **never moving to the next level of the tree** until we're **sure that we have visited every node on the current level**.\n",
        "\n",
        "Those are just rough descriptions of the process to start building your intution, however. Since both concepts invoke the notion of **\"moving\"** through a tree, **animations** can illustrate the two far better than any static, textual description can, in my view. So, take a look at the following animations and try to match what's happening in each of them with the two textual descriptions above, before moving on:\n",
        "\n",
        "**Depth-First Search** (from <a href='https://jjacobs.me/dsan5500/w05/slides.html#/two-ways-to-traverse-animated-version' target='_blank'>Week 5 slides</a>)\n",
        "\n",
        "![](https://jjacobs.me/dsan5500/w05/images/Depth-First-Search.gif)\n",
        "\n",
        "**Breadth-First Search** (from <a href='https://jjacobs.me/dsan5500/w05/slides.html#/two-ways-to-traverse-animated-version' target='_blank'>Week 5 slides</a>)\n",
        "\n",
        "![](https://jjacobs.me/dsan5500/w05/images/Breadth-First-Search.gif)\n",
        "\n",
        "Now that you have an intuition for the difference between DFS and BFS, you may be thinking that they might require very different code to implement---but this is where the **mathematical-formal linkage** between the two (mentioned above, parenthetically) become ultra helpful! It turns out---and if you take a full-on algorithmic theory course you learn how to formally prove---that\n",
        "\n",
        "1. **Depth-First Search** can be accomplished by **processing nodes in an order determined by adding each to a *stack***, while\n",
        "2. **Breadth-First Search** can be accomplished by **processing nodes in an order determined by adding each to a *queue***!\n",
        "\n",
        "This means, quite literally, that the difference between performing DFS and BFS solely boils down to taking identical code but \"pulling out\" the word **stack** and replacing it with the word **queue** within your code (or vice-versa to switch back).\n",
        "\n",
        "So, if you have your Software Engineer Hats on, you'll recognize that this is the perfect case for implementing an **abstraction layer!**\n",
        "\n",
        "Specifically, we will make a class called `NodeProcessor`, which simply allows nodes to be \"put into\" it and \"taken out of\" it, but which can **switch** between a **stack** and a **queue** as its underlying data structure, based on whether the user wants to perform a DFS or BFS on their tree."
      ],
      "metadata": {
        "id": "-Ykq4kHaQ5YL"
      }
    },
    {
      "cell_type": "markdown",
      "source": [
        "First, run the following cell, which defines a `visualize_bst()` function you can use for exploration or for debugging, which takes in a `BinarySearchTree` object and produces a visualization of the tree in the same format I've been using to draw binary search trees on the board in class:"
      ],
      "metadata": {
        "id": "GfbN5ZFAFf2c"
      }
    },
    {
      "cell_type": "code",
      "source": [
        "# @title define-bst-visualizer\n",
        "def visualize_bst(tree):\n",
        "    dot = Digraph(\n",
        "        node_attr={'shape': 'record', 'height': '.1'}\n",
        "    )\n",
        "    node_info_list = []\n",
        "    if tree.root is not None:\n",
        "      node_info_list.append({'node':tree.root, 'parent_name': None, 'dir': None})\n",
        "    while len(node_info_list) > 0:\n",
        "      cur_node_info = node_info_list.pop()\n",
        "      cur_node = cur_node_info['node']\n",
        "      cur_name = cur_node.content.item_name\n",
        "      cur_parent_name = cur_node_info['parent_name']\n",
        "      cur_dir = cur_node_info['dir']\n",
        "      dot.node(name=cur_name, label=nohtml(f'<f0>|<f1> {cur_name}|<f2>'))\n",
        "      if cur_parent_name is not None:\n",
        "        # Nudge x coord based on parent\n",
        "        which_port = 'f0'\n",
        "        if cur_dir == 'R':\n",
        "          which_port = 'f2'\n",
        "        edge_from = f'{cur_parent_name}:{which_port}'\n",
        "        edge_to = f'{cur_name}:f1'\n",
        "        dot.edge(edge_from, edge_to, label=cur_dir)\n",
        "      if cur_node.right is not None:\n",
        "        node_info_list.append({'node': cur_node.right, 'parent_name': cur_name, 'dir': 'R'})\n",
        "      if cur_node.left is not None:\n",
        "        node_info_list.append({'node': cur_node.left, 'parent_name': cur_name, 'dir': 'L'})\n",
        "    display(dot)"
      ],
      "metadata": {
        "cellView": "form",
        "id": "ImAVp_y6Fz2G"
      },
      "execution_count": null,
      "outputs": []
    },
    {
      "cell_type": "code",
      "source": [
        "# @title define-thing-container\n",
        "class ThingContainer:\n",
        "  def __init__(self):\n",
        "    self.internal_list = []\n",
        "\n",
        "  @abstractmethod\n",
        "  def put_new_thing_in(self, item):\n",
        "    pass\n",
        "\n",
        "  def is_empty(self) -> bool:\n",
        "    return self.__len__() == 0\n",
        "\n",
        "  def __len__(self):\n",
        "    return len(self.internal_list)\n",
        "\n",
        "  @abstractmethod\n",
        "  def take_existing_thing_out(self):\n",
        "    pass\n",
        "\n",
        "class Stack(ThingContainer):\n",
        "  def __init__(self):\n",
        "    super().__init__()\n",
        "\n",
        "  def __push(self, item):\n",
        "    self.internal_list.append(item)\n",
        "\n",
        "  def __pop(self):\n",
        "    return self.internal_list.pop()\n",
        "\n",
        "  def put_new_thing_in(self, item):\n",
        "    return self.__push(item)\n",
        "\n",
        "  def take_existing_thing_out(self):\n",
        "    return self.__pop()\n",
        "\n",
        "class Queue(ThingContainer):\n",
        "  def __init__(self):\n",
        "    super().__init__()\n",
        "\n",
        "  def put_new_thing_in(self, item):\n",
        "    return self.__enqueue(item)\n",
        "\n",
        "  def __enqueue(self, item):\n",
        "    self.internal_list.insert(0, item)\n",
        "\n",
        "  def __dequeue(self):\n",
        "    return self.internal_list.pop()\n",
        "\n",
        "  def take_existing_thing_out(self):\n",
        "    return self.__dequeue()"
      ],
      "metadata": {
        "id": "SrJHRZc0DEC6",
        "cellView": "form"
      },
      "execution_count": null,
      "outputs": []
    },
    {
      "cell_type": "code",
      "source": [
        "# @title Q3.2.1-response\n",
        "from abc import ABC\n",
        "from enum import Enum\n",
        "\n",
        "class IterAlgorithm(Enum):\n",
        "  DEPTH_FIRST = 1\n",
        "  BREADTH_FIRST = 2\n",
        "\n",
        "class NodeProcessor():\n",
        "  def __init__(self, iter_method_arg: IterAlgorithm):\n",
        "    self.iter_method = iter_method_arg\n",
        "    self.initialize_empty_node_container()\n",
        "\n",
        "  def initialize_empty_node_container(self):\n",
        "    if self.iter_method == IterAlgorithm.DEPTH_FIRST:\n",
        "      self.node_container = Stack()\n",
        "    else:\n",
        "      self.node_container = Queue()\n",
        "\n",
        "  def iterate_over(self, tree):\n",
        "    pass # Your code here"
      ],
      "metadata": {
        "id": "8tygaDB7Q5CC"
      },
      "execution_count": null,
      "outputs": []
    },
    {
      "cell_type": "code",
      "source": [
        "# @title Q3.2.1-public-tests\n",
        "q3_2_1_public_tests = {\n",
        "\n",
        "}\n",
        "q3_2_1_public_tests"
      ],
      "metadata": {
        "id": "uhXAD0zcSMsf",
        "colab": {
          "base_uri": "https://localhost:8080/"
        },
        "outputId": "d2f57486-65d3-4c7d-c9ec-e052253d3011"
      },
      "execution_count": null,
      "outputs": [
        {
          "output_type": "execute_result",
          "data": {
            "text/plain": [
              "{}"
            ]
          },
          "metadata": {},
          "execution_count": 35
        }
      ]
    },
    {
      "cell_type": "markdown",
      "source": [
        "### Question 3.2.2\n",
        "\n",
        "If your implementation of `iterate_over(tree)` is correct, you should now be able to run the following cell to see how your implementation can produce **both** a breadth-first and depth-first iteration over the tree you constructed in the previous part, with the same code!"
      ],
      "metadata": {
        "id": "w9BL9PUKDVHD"
      }
    },
    {
      "cell_type": "code",
      "source": [
        "# Q3.2.2-response\n",
        "bst = BinarySearchTree()\n",
        "item1 = InventoryItem('Mango', 50)\n",
        "bst.add(item1)\n",
        "item2 = InventoryItem('Pickle', 60)\n",
        "bst.add(item2)\n",
        "item3 = InventoryItem('Artichoke', 55)\n",
        "bst.add(item3)\n",
        "item4 = InventoryItem('Zebra', 3)\n",
        "bst.add(item4)\n",
        "item5 = InventoryItem('Banana', 123)\n",
        "bst.add(item5)\n",
        "item6 = InventoryItem('Aardvark', 11)\n",
        "bst.add(item6)\n",
        "visualize_bst(bst)\n",
        "print(\"\\n---\\n\")\n",
        "\n",
        "print(\"DFS:\")\n",
        "dfs_processor = NodeProcessor(IterAlgorithm.DEPTH_FIRST)\n",
        "print(type(dfs_processor.node_container))\n",
        "dfs_processor.iterate_over(bst)\n",
        "\n",
        "print(\"\\nBFS:\")\n",
        "bfs_processor = NodeProcessor(IterAlgorithm.BREADTH_FIRST)\n",
        "print(type(bfs_processor.node_container))\n",
        "bfs_processor.iterate_over(bst)"
      ],
      "metadata": {
        "id": "fjj6WwLODTa5",
        "colab": {
          "base_uri": "https://localhost:8080/",
          "height": 181
        },
        "outputId": "548648a4-5f5a-4bf6-87a5-45195e1942ba"
      },
      "execution_count": null,
      "outputs": [
        {
          "output_type": "display_data",
          "data": {
            "image/svg+xml": "<?xml version=\"1.0\" encoding=\"UTF-8\" standalone=\"no\"?>\n<!DOCTYPE svg PUBLIC \"-//W3C//DTD SVG 1.1//EN\"\n \"http://www.w3.org/Graphics/SVG/1.1/DTD/svg11.dtd\">\n<!-- Generated by graphviz version 2.43.0 (0)\n -->\n<!-- Title: %3 Pages: 1 -->\n<svg width=\"8pt\" height=\"8pt\"\n viewBox=\"0.00 0.00 8.00 8.00\" xmlns=\"http://www.w3.org/2000/svg\" xmlns:xlink=\"http://www.w3.org/1999/xlink\">\n<g id=\"graph0\" class=\"graph\" transform=\"scale(1 1) rotate(0) translate(4 4)\">\n<title>%3</title>\n<polygon fill=\"white\" stroke=\"transparent\" points=\"-4,4 -4,-4 4,-4 4,4 -4,4\"/>\n</g>\n</svg>\n",
            "text/plain": [
              "<graphviz.graphs.Digraph at 0x7ea4db60cbb0>"
            ]
          },
          "metadata": {}
        },
        {
          "output_type": "stream",
          "name": "stdout",
          "text": [
            "\n",
            "---\n",
            "\n",
            "DFS:\n",
            "<class '__main__.Stack'>\n",
            "\n",
            "BFS:\n",
            "<class '__main__.Queue'>\n"
          ]
        }
      ]
    },
    {
      "cell_type": "code",
      "source": [
        "# @title Q3.2.2-public-tests\n",
        "q3_2_2_public_tests = {}\n",
        "q3_2_2_public_tests"
      ],
      "metadata": {
        "id": "HIsAociP-Tgl",
        "colab": {
          "base_uri": "https://localhost:8080/"
        },
        "outputId": "f2d39b9a-edfd-49b0-d865-d1cd03445c34"
      },
      "execution_count": null,
      "outputs": [
        {
          "output_type": "execute_result",
          "data": {
            "text/plain": [
              "{}"
            ]
          },
          "metadata": {},
          "execution_count": 37
        }
      ]
    },
    {
      "cell_type": "markdown",
      "source": [
        "## Part 4: Hash Tables with Logarithmic Collision Handling\n",
        "\n",
        "Now that you have a `BinarySearchTree` within which elements can be found in $O(\\log_2(n))$ time rather than the $O(n)$ time that was possible with `LinkedList`, in this part you will **use** this `BinarySearchTree` class as the structure that your **Hash Table** will construct whenever a collision occurs. In this way, then, by **leveraging** the improvements of the `BinarySearchTree` over the `LinkedList`, you will also \"automatically\" achieve an improvement in the runtime (for search) of `LogarithmicHashTable` over `LinearHashTable`!"
      ],
      "metadata": {
        "id": "6jfoiSCPDffb"
      }
    },
    {
      "cell_type": "code",
      "source": [
        "# @title Q4.1-response\n",
        "class LogarithmicHashTable:\n",
        "  def __init__(self):\n",
        "    self.hasher = AlphaHasher()\n",
        "    self.fixed_array_size = self.hasher.get_alphabet_size()\n",
        "    self.fixed_length_array = np.empty(self.fixed_array_size, dtype=object)\n",
        "    self.num_added = 0\n",
        "    self.num_collisions = 0\n",
        "\n",
        "  def add(self, key: str, value: object) -> bool:\n",
        "    pass # Your code here\n",
        "\n",
        "  def find_item_steps(self, key) -> int:\n",
        "    pass # Your code here\n",
        "\n",
        "  def entry_to_string(self, index: int, recurse: bool) -> object:\n",
        "    pass # Your code here\n",
        "\n",
        "  def get_num_added(self):\n",
        "    return self.num_added\n",
        "\n",
        "  def increment_num_added(self):\n",
        "    self.num_added = self.num_added + 1\n",
        "\n",
        "  def get_num_collisions(self):\n",
        "    return self.num_collisions\n",
        "\n",
        "  def increment_num_collisions(self):\n",
        "    self.num_collisions = self.num_collisions + 1\n",
        "\n",
        "  def __len__(self):\n",
        "    pass # Your code here\n",
        "\n",
        "  def to_string(self, recurse):\n",
        "    entry_list = [f'{AlphaHasher.compute_letter_for_index(i)}: {self.entry_to_string(i, recurse)}' for i in range(len(self.fixed_length_array))]\n",
        "    return \"\\n\".join(entry_list)\n",
        "\n",
        "  def __str__(self):\n",
        "    return \"__str__() not implemented\" # Your code here\n",
        "\n",
        "  def __repr__(self):\n",
        "    return \"__repr__() not implemented\" # Your code here"
      ],
      "metadata": {
        "id": "2nA4OlqAC_x-"
      },
      "execution_count": null,
      "outputs": []
    },
    {
      "cell_type": "code",
      "source": [
        "# @title Q4.1-public-tests\n",
        "q4_1_public_tests = {\n",
        "\n",
        "}\n",
        "q4_1_public_tests"
      ],
      "metadata": {
        "id": "0zzp26bkSGKt",
        "colab": {
          "base_uri": "https://localhost:8080/"
        },
        "outputId": "7849cbc0-b834-4795-d085-e5b28ebf0acf"
      },
      "execution_count": null,
      "outputs": [
        {
          "output_type": "execute_result",
          "data": {
            "text/plain": [
              "{}"
            ]
          },
          "metadata": {},
          "execution_count": 39
        }
      ]
    },
    {
      "cell_type": "markdown",
      "source": [
        "### Part 4.2: Using `LogarithmicHashTable`"
      ],
      "metadata": {
        "id": "YGANaDvh-eYV"
      }
    },
    {
      "cell_type": "markdown",
      "source": [
        "Now, as you've done before, run the following cell to load the (fake) product data into a Pandas `DataFrame` object called `product_df_log`, and use the `iterrows()` function to loop over each element in `product_df_log` and add it into the `LogarithmicHashTable` object called `log_ht` we've created for you in the first line of the `Q4.2-response` cell below."
      ],
      "metadata": {
        "id": "8PB_OG08Gdck"
      }
    },
    {
      "cell_type": "code",
      "source": [
        "# @title Q4.2.1-response\n",
        "logarithmic_ht = LogarithmicHashTable()\n",
        "\n",
        "# Your code here\n",
        "\n",
        "# Do not modify or add code below the following lines, please!\n",
        "logarithmic_ht"
      ],
      "metadata": {
        "colab": {
          "base_uri": "https://localhost:8080/"
        },
        "id": "VF5ltznfGcWY",
        "outputId": "1bc63542-d297-4d2c-d0bb-8968c9f70ee6"
      },
      "execution_count": null,
      "outputs": [
        {
          "output_type": "execute_result",
          "data": {
            "text/plain": [
              "__repr__() not implemented"
            ]
          },
          "metadata": {},
          "execution_count": 40
        }
      ]
    },
    {
      "cell_type": "code",
      "source": [
        "# @title Q4.2.1-public-tests\n",
        "q4_2_1_public_tests = {}\n",
        "q4_2_1_public_tests"
      ],
      "metadata": {
        "colab": {
          "base_uri": "https://localhost:8080/"
        },
        "id": "u5AQUraqMWsQ",
        "outputId": "f676770d-355e-4179-ec5d-5f7cc71519f6"
      },
      "execution_count": null,
      "outputs": [
        {
          "output_type": "execute_result",
          "data": {
            "text/plain": [
              "{}"
            ]
          },
          "metadata": {},
          "execution_count": 41
        }
      ]
    },
    {
      "cell_type": "markdown",
      "source": [
        "#### Question 4.2.2: Testing the Efficiency of `LogarithmicHashTable`"
      ],
      "metadata": {
        "id": "MHB74Rpq-jCd"
      }
    },
    {
      "cell_type": "markdown",
      "source": [
        "And, just as you did in earlier parts, now loop over each row of `product_df` and use the `find_item_steps()` function you wrote as part of the `LogarithmicHashTable` class above to compute the number of operations required to find each item in `logarithmic_ht`, storing the result of each loop iteration in `"
      ],
      "metadata": {
        "id": "TNYNeBnUHc96"
      }
    },
    {
      "cell_type": "code",
      "source": [
        "# @title Q4.2.2-response\n",
        "retrieval_steps_log = []\n",
        "\n",
        "# Your code here\n",
        "\n",
        "# Don't modify the following line or add any code below it, please!\n",
        "mean_retrieval_steps_log = -1\n",
        "if len(retrieval_steps_log) > 0:\n",
        "  mean_retrieval_steps_log = sum(retrieval_steps_log) / len(retrieval_steps_log)\n",
        "print(mean_retrieval_steps_log)"
      ],
      "metadata": {
        "colab": {
          "base_uri": "https://localhost:8080/"
        },
        "id": "PzKD0EuwHcUx",
        "outputId": "238096c6-6e11-4da5-8b64-ea901f67a8e1"
      },
      "execution_count": null,
      "outputs": [
        {
          "output_type": "stream",
          "name": "stdout",
          "text": [
            "-1\n"
          ]
        }
      ]
    },
    {
      "cell_type": "code",
      "source": [
        "# @title Q4.2.2-public-tests\n",
        "q4_2_2_public_tests = {}"
      ],
      "metadata": {
        "id": "pd5N3Zy6L1W-"
      },
      "execution_count": null,
      "outputs": []
    },
    {
      "cell_type": "markdown",
      "source": [
        "## Part 5: A Push Towards $O(1)$\n",
        "\n",
        "For this final part, as mentioned in class, we will get **even closer to $O(1)$ time retrieval** by just allocating more memory slots for the fixed-length array used by our hash table, hashing the added keys based on the first **two letters** of the key rather than just the first letter as we've done thus far.\n",
        "\n",
        "To accomplish this, we'll need a new version of the `AlphaHasher` class that we used previously, that will hash keys based on the first two letters rather than just the first letter. Run the following cell, which defines a new `AlphaHasher2` class implementing this hash function:"
      ],
      "metadata": {
        "id": "H9UqwiXURPUd"
      }
    },
    {
      "cell_type": "code",
      "source": [
        "# @title define-alpha-hasher-2\n",
        "class AlphaHasher2(CustomHasher):\n",
        "  def __init__(self):\n",
        "    self.alphabet_size = 26 * 26\n",
        "\n",
        "  def get_alphabet_size(self):\n",
        "    return self.alphabet_size\n",
        "\n",
        "  def hash(self, str_to_hash: str) -> int:\n",
        "    if len(str_to_hash) == 0:\n",
        "      first_two_letters = 'AA'\n",
        "    elif len(str_to_hash) == 1:\n",
        "      first_letter = str_to_hash.upper()[0]\n",
        "      second_letter = 'A'\n",
        "    else:\n",
        "      first_letter = str_to_hash.upper()[0]\n",
        "      second_letter = str_to_hash.upper()[1]\n",
        "    #print(f'First two letters for {str_to_hash}: {first_letter}{second_letter}')\n",
        "    # And return its index:\n",
        "    # 'AA' has index 0, 'AB' has index 1, etc.\n",
        "    first_letter_pos = AlphaHasher2.compute_position_in_alphabet(first_letter)\n",
        "    second_letter_pos = AlphaHasher2.compute_position_in_alphabet(second_letter)\n",
        "    # The position in the two-letter alphabet is just 26*first + second\n",
        "    final_pos = 26 * first_letter_pos + second_letter_pos\n",
        "    return final_pos\n",
        "\n",
        "  def compute_position_in_alphabet(self, uppercase_key: str) -> int:\n",
        "    if uppercase_key in string.ascii_uppercase:\n",
        "      return string.ascii_uppercase.index(uppercase_key)\n",
        "    return 0\n",
        "\n",
        "  def compute_key_for_index(self, index: int) -> str:\n",
        "    first_letter_part = int(index / 26)\n",
        "    second_letter_part = index % 26\n",
        "    # In case you need to debug!\n",
        "    #print(f'alpha2_index: {index}, first_letter_part: {first_letter_part}, second_letter_part: {second_letter_part}')\n",
        "    return string.ascii_uppercase[first_letter_part] + string.ascii_uppercase[second_letter_part]"
      ],
      "metadata": {
        "id": "wgIOgkJIEsFM"
      },
      "execution_count": null,
      "outputs": []
    },
    {
      "cell_type": "markdown",
      "source": [
        "### Question 5.1\n",
        "\n",
        "Now that we have our `AlphaHasher2` class, for this question, you should be able to re-use almost all of your `LogarithmicHashTable` code to make a new class `LogarithmicHashTable2`, where now the only differences should be:\n",
        "\n",
        "* (a) It is initialized with an `AlphaHasher2` object as its `hasher` instance variable (already done for you in the `__init__()` function), and\n",
        "* (b) It has a new `to_string()` function that, to avoid printing out 676 lines at once, only prints the **filled** slots within the `fixed_length_array` instance variable (also already done for you below)"
      ],
      "metadata": {
        "id": "JdYFCrd5Ev29"
      }
    },
    {
      "cell_type": "code",
      "source": [
        "# @title Q5.1-response\n",
        "class LogarithmicHashTable2:\n",
        "  def __init__(self):\n",
        "    self.hasher = AlphaHasher2()\n",
        "    self.fixed_array_size = self.hasher.get_alphabet_size()\n",
        "    self.fixed_length_array = np.empty(self.fixed_array_size, dtype='object')\n",
        "    self.num_added = 0\n",
        "    self.num_collisions = 0\n",
        "\n",
        "  def add(self, key: str, value: object) -> bool:\n",
        "    pass # Your code here\n",
        "\n",
        "  def find_item_steps(self, key) -> int:\n",
        "    pass # Your code here\n",
        "\n",
        "  def get_item_at_index(self, index: int) -> object:\n",
        "    pass # Your code here\n",
        "\n",
        "  def get_num_added(self):\n",
        "    return self.num_added\n",
        "\n",
        "  def increment_num_added(self):\n",
        "    self.num_added = self.num_added + 1\n",
        "\n",
        "  def get_num_collisions(self):\n",
        "    return self.num_collisions\n",
        "\n",
        "  def increment_num_collisions(self):\n",
        "    self.num_collisions = self.num_collisions + 1\n",
        "\n",
        "  def __len__(self):\n",
        "    pass # Your code here\n",
        "\n",
        "  def to_string(self, recurse):\n",
        "    # Here we only print the *non-empty* slots\n",
        "    non_empty_slots = []\n",
        "    for i in range(len(self.fixed_length_array)):\n",
        "      item_at_i = self.get_item_at_index(i)\n",
        "      if item_at_i is not None:\n",
        "        entry_letters = AlphaHasher2.compute_letters_for_index(i)\n",
        "        entry_content = self.get_item_at_index(i, recurse)\n",
        "        entry_str = f'{entry_letters}: {entry_content}'\n",
        "        non_empty_slots.append(entry_str)\n",
        "    return \"\\n\".join(non_empty_slots)\n",
        "\n",
        "  def __repr__(self):\n",
        "    return \"__repr__() not implemented\" # Your code here\n",
        "\n",
        "  def __str__(self):\n",
        "    return \"__str__() not implemented\" # Your code here"
      ],
      "metadata": {
        "id": "2NIDUccOhKyT"
      },
      "execution_count": null,
      "outputs": []
    },
    {
      "cell_type": "code",
      "source": [
        "# @title Q5.1-public-tests\n",
        "q5_1_public_tests = {\n",
        "}"
      ],
      "metadata": {
        "id": "PDYcjLQlSAq1"
      },
      "execution_count": null,
      "outputs": []
    },
    {
      "cell_type": "markdown",
      "source": [
        "### Part 5.2: Measuring the `AlphaHasher2` Efficiency Gain\n",
        "\n",
        "Now that you have a hash table utilizing `AlphaHasher2` rather than `AlphaHasher`, repeat the steps from the end of the previous part in the next cell: adding each of the items from `product_df` one-by-one to the hash table, then computing the mean number of operations required to retrieve the price for a given item. Store this mean number of operations into a Python variable called `two_letter_efficiency`: you should find that the mean number of operations is now about **half** of the mean number of operations we achieved with `AlphaHasher` at the end of the previous part!\n",
        "\n",
        "The takeaway of this part is therefore that we were able to **double** the efficiency of our hash table, simply by allocating more memory slots for our fixed-length array, without changing anything at all in terms of the actual **algorithm** used to store and retrieve data! So, you can now imagine how we can get arbitrarily close to $O(1)$: the hash table is exactly the data structure which illustrates the **efficiency-memory tradeoff** mentioned in the first week of class, in the sense that, we can make it more and more efficient---without any algorithmic changes---simply by allocating more and more memory to the base hash table algorithm."
      ],
      "metadata": {
        "id": "UIrz7BneFMk6"
      }
    },
    {
      "cell_type": "code",
      "source": [
        "import pandas as pd\n",
        "product_df = pd.read_csv(\"https://jpj.georgetown.domains/dsan5500-scratch/mockaroo.csv\")\n",
        "product_df.head()"
      ],
      "metadata": {
        "colab": {
          "base_uri": "https://localhost:8080/",
          "height": 206
        },
        "id": "4MTSfuepLJMW",
        "outputId": "5e641638-b48d-4920-ac4f-28838e2eafdf"
      },
      "execution_count": null,
      "outputs": [
        {
          "output_type": "execute_result",
          "data": {
            "text/plain": [
              "   id                      product_name  price\n",
              "0   1   Nescafe - Frothy French Vanilla  26.94\n",
              "1   2                 Star Anise, Whole  62.83\n",
              "2   3  Wine - White, Riesling, Henry Of  90.10\n",
              "3   4                       Crab - Meat  67.26\n",
              "4   5     Syrup - Monin - Passion Fruit   6.75"
            ],
            "text/html": [
              "\n",
              "  <div id=\"df-de315245-c915-4adf-bc26-fd4f0d0402fd\" class=\"colab-df-container\">\n",
              "    <div>\n",
              "<style scoped>\n",
              "    .dataframe tbody tr th:only-of-type {\n",
              "        vertical-align: middle;\n",
              "    }\n",
              "\n",
              "    .dataframe tbody tr th {\n",
              "        vertical-align: top;\n",
              "    }\n",
              "\n",
              "    .dataframe thead th {\n",
              "        text-align: right;\n",
              "    }\n",
              "</style>\n",
              "<table border=\"1\" class=\"dataframe\">\n",
              "  <thead>\n",
              "    <tr style=\"text-align: right;\">\n",
              "      <th></th>\n",
              "      <th>id</th>\n",
              "      <th>product_name</th>\n",
              "      <th>price</th>\n",
              "    </tr>\n",
              "  </thead>\n",
              "  <tbody>\n",
              "    <tr>\n",
              "      <th>0</th>\n",
              "      <td>1</td>\n",
              "      <td>Nescafe - Frothy French Vanilla</td>\n",
              "      <td>26.94</td>\n",
              "    </tr>\n",
              "    <tr>\n",
              "      <th>1</th>\n",
              "      <td>2</td>\n",
              "      <td>Star Anise, Whole</td>\n",
              "      <td>62.83</td>\n",
              "    </tr>\n",
              "    <tr>\n",
              "      <th>2</th>\n",
              "      <td>3</td>\n",
              "      <td>Wine - White, Riesling, Henry Of</td>\n",
              "      <td>90.10</td>\n",
              "    </tr>\n",
              "    <tr>\n",
              "      <th>3</th>\n",
              "      <td>4</td>\n",
              "      <td>Crab - Meat</td>\n",
              "      <td>67.26</td>\n",
              "    </tr>\n",
              "    <tr>\n",
              "      <th>4</th>\n",
              "      <td>5</td>\n",
              "      <td>Syrup - Monin - Passion Fruit</td>\n",
              "      <td>6.75</td>\n",
              "    </tr>\n",
              "  </tbody>\n",
              "</table>\n",
              "</div>\n",
              "    <div class=\"colab-df-buttons\">\n",
              "\n",
              "  <div class=\"colab-df-container\">\n",
              "    <button class=\"colab-df-convert\" onclick=\"convertToInteractive('df-de315245-c915-4adf-bc26-fd4f0d0402fd')\"\n",
              "            title=\"Convert this dataframe to an interactive table.\"\n",
              "            style=\"display:none;\">\n",
              "\n",
              "  <svg xmlns=\"http://www.w3.org/2000/svg\" height=\"24px\" viewBox=\"0 -960 960 960\">\n",
              "    <path d=\"M120-120v-720h720v720H120Zm60-500h600v-160H180v160Zm220 220h160v-160H400v160Zm0 220h160v-160H400v160ZM180-400h160v-160H180v160Zm440 0h160v-160H620v160ZM180-180h160v-160H180v160Zm440 0h160v-160H620v160Z\"/>\n",
              "  </svg>\n",
              "    </button>\n",
              "\n",
              "  <style>\n",
              "    .colab-df-container {\n",
              "      display:flex;\n",
              "      gap: 12px;\n",
              "    }\n",
              "\n",
              "    .colab-df-convert {\n",
              "      background-color: #E8F0FE;\n",
              "      border: none;\n",
              "      border-radius: 50%;\n",
              "      cursor: pointer;\n",
              "      display: none;\n",
              "      fill: #1967D2;\n",
              "      height: 32px;\n",
              "      padding: 0 0 0 0;\n",
              "      width: 32px;\n",
              "    }\n",
              "\n",
              "    .colab-df-convert:hover {\n",
              "      background-color: #E2EBFA;\n",
              "      box-shadow: 0px 1px 2px rgba(60, 64, 67, 0.3), 0px 1px 3px 1px rgba(60, 64, 67, 0.15);\n",
              "      fill: #174EA6;\n",
              "    }\n",
              "\n",
              "    .colab-df-buttons div {\n",
              "      margin-bottom: 4px;\n",
              "    }\n",
              "\n",
              "    [theme=dark] .colab-df-convert {\n",
              "      background-color: #3B4455;\n",
              "      fill: #D2E3FC;\n",
              "    }\n",
              "\n",
              "    [theme=dark] .colab-df-convert:hover {\n",
              "      background-color: #434B5C;\n",
              "      box-shadow: 0px 1px 3px 1px rgba(0, 0, 0, 0.15);\n",
              "      filter: drop-shadow(0px 1px 2px rgba(0, 0, 0, 0.3));\n",
              "      fill: #FFFFFF;\n",
              "    }\n",
              "  </style>\n",
              "\n",
              "    <script>\n",
              "      const buttonEl =\n",
              "        document.querySelector('#df-de315245-c915-4adf-bc26-fd4f0d0402fd button.colab-df-convert');\n",
              "      buttonEl.style.display =\n",
              "        google.colab.kernel.accessAllowed ? 'block' : 'none';\n",
              "\n",
              "      async function convertToInteractive(key) {\n",
              "        const element = document.querySelector('#df-de315245-c915-4adf-bc26-fd4f0d0402fd');\n",
              "        const dataTable =\n",
              "          await google.colab.kernel.invokeFunction('convertToInteractive',\n",
              "                                                    [key], {});\n",
              "        if (!dataTable) return;\n",
              "\n",
              "        const docLinkHtml = 'Like what you see? Visit the ' +\n",
              "          '<a target=\"_blank\" href=https://colab.research.google.com/notebooks/data_table.ipynb>data table notebook</a>'\n",
              "          + ' to learn more about interactive tables.';\n",
              "        element.innerHTML = '';\n",
              "        dataTable['output_type'] = 'display_data';\n",
              "        await google.colab.output.renderOutput(dataTable, element);\n",
              "        const docLink = document.createElement('div');\n",
              "        docLink.innerHTML = docLinkHtml;\n",
              "        element.appendChild(docLink);\n",
              "      }\n",
              "    </script>\n",
              "  </div>\n",
              "\n",
              "\n",
              "<div id=\"df-6244ff0c-341e-4ff6-8553-f354032e1655\">\n",
              "  <button class=\"colab-df-quickchart\" onclick=\"quickchart('df-6244ff0c-341e-4ff6-8553-f354032e1655')\"\n",
              "            title=\"Suggest charts\"\n",
              "            style=\"display:none;\">\n",
              "\n",
              "<svg xmlns=\"http://www.w3.org/2000/svg\" height=\"24px\"viewBox=\"0 0 24 24\"\n",
              "     width=\"24px\">\n",
              "    <g>\n",
              "        <path d=\"M19 3H5c-1.1 0-2 .9-2 2v14c0 1.1.9 2 2 2h14c1.1 0 2-.9 2-2V5c0-1.1-.9-2-2-2zM9 17H7v-7h2v7zm4 0h-2V7h2v10zm4 0h-2v-4h2v4z\"/>\n",
              "    </g>\n",
              "</svg>\n",
              "  </button>\n",
              "\n",
              "<style>\n",
              "  .colab-df-quickchart {\n",
              "      --bg-color: #E8F0FE;\n",
              "      --fill-color: #1967D2;\n",
              "      --hover-bg-color: #E2EBFA;\n",
              "      --hover-fill-color: #174EA6;\n",
              "      --disabled-fill-color: #AAA;\n",
              "      --disabled-bg-color: #DDD;\n",
              "  }\n",
              "\n",
              "  [theme=dark] .colab-df-quickchart {\n",
              "      --bg-color: #3B4455;\n",
              "      --fill-color: #D2E3FC;\n",
              "      --hover-bg-color: #434B5C;\n",
              "      --hover-fill-color: #FFFFFF;\n",
              "      --disabled-bg-color: #3B4455;\n",
              "      --disabled-fill-color: #666;\n",
              "  }\n",
              "\n",
              "  .colab-df-quickchart {\n",
              "    background-color: var(--bg-color);\n",
              "    border: none;\n",
              "    border-radius: 50%;\n",
              "    cursor: pointer;\n",
              "    display: none;\n",
              "    fill: var(--fill-color);\n",
              "    height: 32px;\n",
              "    padding: 0;\n",
              "    width: 32px;\n",
              "  }\n",
              "\n",
              "  .colab-df-quickchart:hover {\n",
              "    background-color: var(--hover-bg-color);\n",
              "    box-shadow: 0 1px 2px rgba(60, 64, 67, 0.3), 0 1px 3px 1px rgba(60, 64, 67, 0.15);\n",
              "    fill: var(--button-hover-fill-color);\n",
              "  }\n",
              "\n",
              "  .colab-df-quickchart-complete:disabled,\n",
              "  .colab-df-quickchart-complete:disabled:hover {\n",
              "    background-color: var(--disabled-bg-color);\n",
              "    fill: var(--disabled-fill-color);\n",
              "    box-shadow: none;\n",
              "  }\n",
              "\n",
              "  .colab-df-spinner {\n",
              "    border: 2px solid var(--fill-color);\n",
              "    border-color: transparent;\n",
              "    border-bottom-color: var(--fill-color);\n",
              "    animation:\n",
              "      spin 1s steps(1) infinite;\n",
              "  }\n",
              "\n",
              "  @keyframes spin {\n",
              "    0% {\n",
              "      border-color: transparent;\n",
              "      border-bottom-color: var(--fill-color);\n",
              "      border-left-color: var(--fill-color);\n",
              "    }\n",
              "    20% {\n",
              "      border-color: transparent;\n",
              "      border-left-color: var(--fill-color);\n",
              "      border-top-color: var(--fill-color);\n",
              "    }\n",
              "    30% {\n",
              "      border-color: transparent;\n",
              "      border-left-color: var(--fill-color);\n",
              "      border-top-color: var(--fill-color);\n",
              "      border-right-color: var(--fill-color);\n",
              "    }\n",
              "    40% {\n",
              "      border-color: transparent;\n",
              "      border-right-color: var(--fill-color);\n",
              "      border-top-color: var(--fill-color);\n",
              "    }\n",
              "    60% {\n",
              "      border-color: transparent;\n",
              "      border-right-color: var(--fill-color);\n",
              "    }\n",
              "    80% {\n",
              "      border-color: transparent;\n",
              "      border-right-color: var(--fill-color);\n",
              "      border-bottom-color: var(--fill-color);\n",
              "    }\n",
              "    90% {\n",
              "      border-color: transparent;\n",
              "      border-bottom-color: var(--fill-color);\n",
              "    }\n",
              "  }\n",
              "</style>\n",
              "\n",
              "  <script>\n",
              "    async function quickchart(key) {\n",
              "      const quickchartButtonEl =\n",
              "        document.querySelector('#' + key + ' button');\n",
              "      quickchartButtonEl.disabled = true;  // To prevent multiple clicks.\n",
              "      quickchartButtonEl.classList.add('colab-df-spinner');\n",
              "      try {\n",
              "        const charts = await google.colab.kernel.invokeFunction(\n",
              "            'suggestCharts', [key], {});\n",
              "      } catch (error) {\n",
              "        console.error('Error during call to suggestCharts:', error);\n",
              "      }\n",
              "      quickchartButtonEl.classList.remove('colab-df-spinner');\n",
              "      quickchartButtonEl.classList.add('colab-df-quickchart-complete');\n",
              "    }\n",
              "    (() => {\n",
              "      let quickchartButtonEl =\n",
              "        document.querySelector('#df-6244ff0c-341e-4ff6-8553-f354032e1655 button');\n",
              "      quickchartButtonEl.style.display =\n",
              "        google.colab.kernel.accessAllowed ? 'block' : 'none';\n",
              "    })();\n",
              "  </script>\n",
              "</div>\n",
              "    </div>\n",
              "  </div>\n"
            ],
            "application/vnd.google.colaboratory.intrinsic+json": {
              "type": "dataframe",
              "variable_name": "product_df",
              "summary": "{\n  \"name\": \"product_df\",\n  \"rows\": 1000,\n  \"fields\": [\n    {\n      \"column\": \"id\",\n      \"properties\": {\n        \"dtype\": \"number\",\n        \"std\": 288,\n        \"min\": 1,\n        \"max\": 1000,\n        \"samples\": [\n          522,\n          738,\n          741\n        ],\n        \"num_unique_values\": 1000,\n        \"semantic_type\": \"\",\n        \"description\": \"\"\n      }\n    },\n    {\n      \"column\": \"product_name\",\n      \"properties\": {\n        \"dtype\": \"string\",\n        \"samples\": [\n          \"Tomato - Green\",\n          \"Cake Sheet Combo Party Pack\",\n          \"Soup - Campbells Broccoli\"\n        ],\n        \"num_unique_values\": 831,\n        \"semantic_type\": \"\",\n        \"description\": \"\"\n      }\n    },\n    {\n      \"column\": \"price\",\n      \"properties\": {\n        \"dtype\": \"number\",\n        \"std\": 28.53971997669648,\n        \"min\": 1.2,\n        \"max\": 99.9,\n        \"samples\": [\n          49.44,\n          40.5,\n          39.65\n        ],\n        \"num_unique_values\": 952,\n        \"semantic_type\": \"\",\n        \"description\": \"\"\n      }\n    }\n  ]\n}"
            }
          },
          "metadata": {},
          "execution_count": 47
        }
      ]
    },
    {
      "cell_type": "code",
      "source": [
        "# @title Q5.2.1-response\n",
        "logarithmic_ht2 = LogarithmicHashTable2()\n",
        "\n",
        "# Your code here\n",
        "\n",
        "# Do not modify the following line or add code after it, please!\n",
        "print(logarithmic_ht2)"
      ],
      "metadata": {
        "id": "DlkGqiXwHDNi",
        "colab": {
          "base_uri": "https://localhost:8080/"
        },
        "outputId": "1f7abf00-9763-4f2b-8acb-563ed4d4dcb5"
      },
      "execution_count": null,
      "outputs": [
        {
          "output_type": "stream",
          "name": "stdout",
          "text": [
            "__str__() not implemented\n"
          ]
        }
      ]
    },
    {
      "cell_type": "code",
      "source": [
        "# @title Q5.2.1-public-tests\n",
        "q5_2_1_public_tests = {\n",
        "\n",
        "}"
      ],
      "metadata": {
        "id": "KP-VP9p6HFba"
      },
      "execution_count": null,
      "outputs": []
    },
    {
      "cell_type": "markdown",
      "source": [
        "#### Question 5.2.2: Efficiency\n",
        "\n",
        "Now, as you've done before, complete the following code by using the `iterrows()` function to loop over each row in `product_df`, storing the number of steps required find the item in this row in `log_retrieval2`"
      ],
      "metadata": {
        "id": "2pMP_SNvLd7o"
      }
    },
    {
      "cell_type": "code",
      "source": [
        "# @title Q5.2.2-response\n",
        "retrieval_steps_log2 = []\n",
        "\n",
        "# Your code here\n",
        "\n",
        "# Don't modify the following lines or add any code below it, please!\n",
        "mean_retrieval_steps_log2 = -1\n",
        "if len(retrieval_steps_log2) > 0:\n",
        "  mean_retrieval_steps_log2 = sum(retrieval_steps_log2) / len(retrieval_steps_log2)\n",
        "print(mean_retrieval_steps_log2)"
      ],
      "metadata": {
        "colab": {
          "base_uri": "https://localhost:8080/"
        },
        "id": "N__osr-_Ldag",
        "outputId": "50868021-9074-45a4-d0cb-f3c614fc32cc"
      },
      "execution_count": null,
      "outputs": [
        {
          "output_type": "stream",
          "name": "stdout",
          "text": [
            "-1\n"
          ]
        }
      ]
    },
    {
      "cell_type": "code",
      "source": [
        "# @title Q5.2.2-public-tests\n",
        "q5_2_2_public_tests = {}"
      ],
      "metadata": {
        "id": "sPqBV0qZMG2j"
      },
      "execution_count": null,
      "outputs": []
    },
    {
      "cell_type": "markdown",
      "source": [
        "You did it! Thank you for your hard work making it to the end. Now make sure you save that hard work, then go back into Google Classroom and use the big blue \"Hand In\" button to submit to the autograder and obtain your hidden-test report.\n",
        "\n",
        "**NOTE** that, once you click \"Hand In\", Google Classroom modifies the permissions for your .ipynb file such that it is \"owned\" by the group of instructors. So, once you receive your results, you'll have to go back to the same part of the interface and **click \"Unsubmit\" to transfer the ownership of the .ipynb back to yourself**, so that you can continue working on the Colab notebook file!"
      ],
      "metadata": {
        "id": "qEVbLvxFRR7u"
      }
    }
  ]
}