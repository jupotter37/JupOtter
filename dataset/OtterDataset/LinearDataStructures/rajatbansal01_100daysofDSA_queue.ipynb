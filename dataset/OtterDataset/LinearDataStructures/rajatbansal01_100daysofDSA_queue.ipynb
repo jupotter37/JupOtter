{
 "cells": [
  {
   "cell_type": "markdown",
   "id": "24df9c84",
   "metadata": {},
   "source": [
    "# Queue\n",
    "**Based on the First in First Out Approach**"
   ]
  },
  {
   "cell_type": "markdown",
   "id": "c15557d9",
   "metadata": {},
   "source": [
    "\n",
    "## Main functionalities of Queue:\n",
    "\n",
    "1. enqueue()\n",
    "\n",
    "2. dequeue()\n",
    "\n",
    "3. size()\n",
    "\n",
    "4. isEmpty()\n",
    "\n",
    "5. getFront()\n",
    "\n",
    "**All the above operations should of O(1)**"
   ]
  },
  {
   "cell_type": "markdown",
   "id": "f104db5f",
   "metadata": {},
   "source": [
    "## Queue using Array"
   ]
  },
  {
   "cell_type": "code",
   "execution_count": 24,
   "id": "202115e9",
   "metadata": {},
   "outputs": [],
   "source": [
    "class queue:\n",
    "    def __init__(self):\n",
    "        self.data = []\n",
    "        self.front = 0\n",
    "        self.count = 0\n",
    "        \n",
    "        \n",
    "    def enqueue(self,item):\n",
    "        self.data.append(item)\n",
    "        self.count += 1\n",
    "    \n",
    "    def dequeue(self):\n",
    "        if self.count > 0:\n",
    "            ele = self.data[self.front]\n",
    "            self.front += 1\n",
    "        self.count -= 1\n",
    "        return ele\n",
    "    \n",
    "    def size(self):\n",
    "        return self.count\n",
    "\n",
    "    \n",
    "    def isEmpty(self):\n",
    "        return self.count == 0\n",
    "    \n",
    "    def getFront(self):\n",
    "        if not self.isEmpty():\n",
    "            return self.data[self.front]\n",
    "        else:\n",
    "            return(\"Empty Queue\")\n"
   ]
  },
  {
   "cell_type": "code",
   "execution_count": 31,
   "id": "c9139f98",
   "metadata": {},
   "outputs": [],
   "source": [
    "q = queue()"
   ]
  },
  {
   "cell_type": "code",
   "execution_count": 32,
   "id": "158bfc2f",
   "metadata": {},
   "outputs": [],
   "source": [
    "q.enqueue(2)\n",
    "q.enqueue(3)\n",
    "q.enqueue(4)\n",
    "q.enqueue(5)"
   ]
  },
  {
   "cell_type": "code",
   "execution_count": 33,
   "id": "bea0063a",
   "metadata": {},
   "outputs": [
    {
     "data": {
      "text/plain": [
       "4"
      ]
     },
     "execution_count": 33,
     "metadata": {},
     "output_type": "execute_result"
    }
   ],
   "source": [
    "q.size()"
   ]
  },
  {
   "cell_type": "code",
   "execution_count": 34,
   "id": "f4a6894c",
   "metadata": {},
   "outputs": [
    {
     "data": {
      "text/plain": [
       "2"
      ]
     },
     "execution_count": 34,
     "metadata": {},
     "output_type": "execute_result"
    }
   ],
   "source": [
    "q.getFront()"
   ]
  },
  {
   "cell_type": "code",
   "execution_count": 29,
   "id": "4d353e40",
   "metadata": {},
   "outputs": [
    {
     "name": "stdout",
     "output_type": "stream",
     "text": [
      "2\n",
      "3\n",
      "4\n",
      "5\n"
     ]
    }
   ],
   "source": [
    "while not q.isEmpty():\n",
    "    print(q.dequeue())\n"
   ]
  },
  {
   "cell_type": "markdown",
   "id": "8c90954c",
   "metadata": {},
   "source": [
    "## Queue using Linked List"
   ]
  },
  {
   "cell_type": "code",
   "execution_count": 57,
   "id": "f6edc7e0",
   "metadata": {},
   "outputs": [],
   "source": [
    "class Node:\n",
    "    def __init__(self,data):\n",
    "        self.data = data\n",
    "        self.next = None\n",
    "    \n",
    "class qLL:\n",
    "    def __init__(self):\n",
    "        self.head = None\n",
    "        self.tail = None\n",
    "        self.count = 0\n",
    "    \n",
    "    def enqueue(self, item):\n",
    "        newNode = Node(item)\n",
    "        if self.head is None:\n",
    "            self.head = newNode\n",
    "            self.tail = newNode\n",
    "        else:\n",
    "            self.tail.next = newNode\n",
    "            self.tail = newNode\n",
    "        self.count += 1\n",
    "            \n",
    "    \n",
    "    def dequeue(self):\n",
    "        if self.size() > 0:\n",
    "            ele = self.head.data\n",
    "            self.head = self.head.next\n",
    "            self.count -= 1\n",
    "            return ele\n",
    "        else:\n",
    "            return(\"Empty Queue\")\n",
    "    \n",
    "    def size(self):\n",
    "        return self.count\n",
    "    \n",
    "    def isEmpty(self):\n",
    "        return self.count == 0"
   ]
  },
  {
   "cell_type": "code",
   "execution_count": 58,
   "id": "5e82e198",
   "metadata": {},
   "outputs": [],
   "source": [
    "q = qLL()"
   ]
  },
  {
   "cell_type": "code",
   "execution_count": 59,
   "id": "cd07ae4d",
   "metadata": {},
   "outputs": [],
   "source": [
    "for i in range(5):\n",
    "    q.enqueue(i)"
   ]
  },
  {
   "cell_type": "code",
   "execution_count": 60,
   "id": "f3be252c",
   "metadata": {},
   "outputs": [
    {
     "name": "stdout",
     "output_type": "stream",
     "text": [
      "0\n",
      "1\n",
      "2\n",
      "3\n",
      "4\n"
     ]
    }
   ],
   "source": [
    "while not q.isEmpty():\n",
    "    print(q.dequeue())"
   ]
  },
  {
   "cell_type": "code",
   "execution_count": 61,
   "id": "3e4bb9af",
   "metadata": {},
   "outputs": [
    {
     "data": {
      "text/plain": [
       "True"
      ]
     },
     "execution_count": 61,
     "metadata": {},
     "output_type": "execute_result"
    }
   ],
   "source": [
    "q.isEmpty()"
   ]
  },
  {
   "cell_type": "markdown",
   "id": "40dcc61d",
   "metadata": {},
   "source": [
    "## Inbuilt Stack and Queues in Python"
   ]
  },
  {
   "cell_type": "code",
   "execution_count": 63,
   "id": "227ecfad",
   "metadata": {},
   "outputs": [
    {
     "name": "stdout",
     "output_type": "stream",
     "text": [
      "4\n",
      "3\n"
     ]
    }
   ],
   "source": [
    "# for stack array (list) will work fine\n",
    "\n",
    "s = []\n",
    "for i in range(5):\n",
    "    s.append(i)\n",
    "\n",
    "print(s.pop())\n",
    "print(s.pop())"
   ]
  },
  {
   "cell_type": "code",
   "execution_count": 1,
   "id": "ea8393bf",
   "metadata": {},
   "outputs": [
    {
     "name": "stdout",
     "output_type": "stream",
     "text": [
      "0\n",
      "1\n",
      "2\n",
      "3\n",
      "4\n"
     ]
    }
   ],
   "source": [
    "## for queue we should not use the list bcoz dequeue operation will make it O(n) complexity\n",
    "\n",
    "import queue\n",
    "\n",
    "q = queue.Queue()\n",
    "for i in range(5):\n",
    "    q.put(i)\n",
    "while not q.empty():\n",
    "    print(q.get())"
   ]
  },
  {
   "cell_type": "code",
   "execution_count": 2,
   "id": "cf78b2f7",
   "metadata": {},
   "outputs": [
    {
     "name": "stdout",
     "output_type": "stream",
     "text": [
      "4\n",
      "3\n",
      "2\n",
      "1\n",
      "0\n"
     ]
    }
   ],
   "source": [
    "# inbuilt stack from this library\n",
    "\n",
    "s = queue.LifoQueue()\n",
    "for i in range(5):\n",
    "    s.put(i)\n",
    "while not s.empty():\n",
    "    print(s.get())"
   ]
  },
  {
   "cell_type": "markdown",
   "id": "30ebe795",
   "metadata": {},
   "source": [
    "## Implement queue using two stacks\n",
    "\n",
    "1. enqueue()\n",
    "\n",
    "2. dequeue()\n",
    "\n",
    "3. front()\n",
    "\n",
    "4. size()\n",
    "\n",
    "5. isEmpty()\n",
    "\n",
    "from enqueue and dequeue one operation can be of O(1) and one can be of O(n) but both should not be of O(n)"
   ]
  },
  {
   "cell_type": "code",
   "execution_count": 9,
   "id": "e6c3b8d4",
   "metadata": {},
   "outputs": [],
   "source": [
    "# Approach 1 : enqueue is of O(1) and dequeue is of O(n)\n",
    "class q1:\n",
    "    def __init__(self):\n",
    "        self.s1 = []\n",
    "        self.s2 = []\n",
    "        \n",
    "    def enqueue(self,item):\n",
    "        self.s1.append(item)\n",
    "    \n",
    "    def dequeue(self):\n",
    "        while self.size() > 1:\n",
    "            self.s2.append(self.s1.pop())\n",
    "        ele = self.s1.pop()\n",
    "        while len(self.s2) > 0:\n",
    "            self.s1.append(self.s2.pop())\n",
    "        return ele\n",
    "    \n",
    "    def size(self):\n",
    "        return len(self.s1)\n",
    "    \n",
    "    def isEmpty(self):\n",
    "        return len(self.s1) == 0\n",
    "    "
   ]
  },
  {
   "cell_type": "code",
   "execution_count": 10,
   "id": "845a17e2",
   "metadata": {},
   "outputs": [],
   "source": [
    "q = q1()"
   ]
  },
  {
   "cell_type": "code",
   "execution_count": 11,
   "id": "1194ac93",
   "metadata": {},
   "outputs": [
    {
     "name": "stdout",
     "output_type": "stream",
     "text": [
      "0\n",
      "1\n",
      "2\n",
      "3\n",
      "4\n"
     ]
    }
   ],
   "source": [
    "for i in range(5):\n",
    "    q.enqueue(i)\n",
    "while not q.isEmpty():\n",
    "    print(q.dequeue())"
   ]
  },
  {
   "cell_type": "code",
   "execution_count": 1,
   "id": "0bb0f3da",
   "metadata": {},
   "outputs": [],
   "source": [
    "# Approach 2: enqueue is of O(n) and dequeue is of O(1)\n",
    "\n",
    "class q2:\n",
    "    def __init__(self):\n",
    "        self.s1 = []\n",
    "        self.s2 = []\n",
    "        \n",
    "    def enqueue(self,item):\n",
    "        while self.size() > 0:\n",
    "            self.s2.append(self.s1.pop())\n",
    "        self.s1.append(item)\n",
    "        while len(self.s2) > 0:\n",
    "            self.s1.append(self.s2.pop())\n",
    "            \n",
    "    \n",
    "    def dequeue(self):\n",
    "        return self.s1.pop()\n",
    "    \n",
    "    def size(self):\n",
    "        return len(self.s1)\n",
    "    \n",
    "    def isEmpty(self):\n",
    "        return len(self.s1) == 0\n",
    "    "
   ]
  },
  {
   "cell_type": "code",
   "execution_count": 2,
   "id": "59468379",
   "metadata": {},
   "outputs": [
    {
     "name": "stdout",
     "output_type": "stream",
     "text": [
      "1\n",
      "2\n",
      "3\n",
      "4\n",
      "5\n"
     ]
    }
   ],
   "source": [
    "q = q2()\n",
    "for i in range(1,6):\n",
    "    q.enqueue(i)\n",
    "while not q.isEmpty():\n",
    "    print(q.dequeue())"
   ]
  },
  {
   "cell_type": "markdown",
   "id": "5708e7cd",
   "metadata": {},
   "source": [
    "## Reverse first K elements in from the Queue"
   ]
  },
  {
   "cell_type": "code",
   "execution_count": 24,
   "id": "14a7c9cd",
   "metadata": {},
   "outputs": [],
   "source": [
    "def revQ(q,k):\n",
    "    s = []\n",
    "    for i in range(k):\n",
    "        s.append(q.dequeue())\n",
    "        print(s)\n",
    "    while len(s) > 0:\n",
    "        q.enqueue(s.pop())\n",
    "    for i in range(q.size()-k):\n",
    "        x = q.dequeue()\n",
    "        q.enqueue(x)"
   ]
  },
  {
   "cell_type": "code",
   "execution_count": 25,
   "id": "9d8c0e63",
   "metadata": {},
   "outputs": [
    {
     "name": "stdout",
     "output_type": "stream",
     "text": [
      "[1]\n",
      "[1, 2]\n",
      "[1, 2, 3]\n",
      "3\n",
      "2\n",
      "1\n",
      "4\n",
      "5\n"
     ]
    }
   ],
   "source": [
    "q = q2()\n",
    "for i in range(1,6):\n",
    "    q.enqueue(i)\n",
    "revQ(q,3)\n",
    "while not q.isEmpty():\n",
    "    print(q.dequeue())"
   ]
  },
  {
   "cell_type": "code",
   "execution_count": null,
   "id": "b0ec7b52",
   "metadata": {},
   "outputs": [],
   "source": []
  }
 ],
 "metadata": {
  "kernelspec": {
   "display_name": "Python 3 (ipykernel)",
   "language": "python",
   "name": "python3"
  },
  "language_info": {
   "codemirror_mode": {
    "name": "ipython",
    "version": 3
   },
   "file_extension": ".py",
   "mimetype": "text/x-python",
   "name": "python",
   "nbconvert_exporter": "python",
   "pygments_lexer": "ipython3",
   "version": "3.8.3"
  }
 },
 "nbformat": 4,
 "nbformat_minor": 5
}
