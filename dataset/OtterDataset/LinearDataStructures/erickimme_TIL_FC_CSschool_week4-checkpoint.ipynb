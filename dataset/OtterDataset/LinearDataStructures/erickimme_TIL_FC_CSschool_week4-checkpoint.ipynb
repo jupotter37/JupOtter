{
 "cells": [
  {
   "cell_type": "markdown",
   "metadata": {
    "collapsed": true
   },
   "source": [
    "# [자료구조](https://github.com/ythwork/CSS_3rd/tree/master/data_structure)\n"
   ]
  },
  {
   "cell_type": "code",
   "execution_count": null,
   "metadata": {
    "collapsed": true
   },
   "outputs": [],
   "source": [
    "Performance of fbstring\n",
    "nicholas ormrod\n",
    "\n",
    "fb \n",
    "\n",
    "memory map : apgcc\n",
    "    \n",
    "    \n",
    "\n",
    "# soucre \n",
    "\n",
    "\n",
    "# python \n",
    "source code  -> \n",
    "input data ->\n",
    "\n",
    "\n"
   ]
  },
  {
   "cell_type": "markdown",
   "metadata": {},
   "source": [
    "# 파이썬이 작동하는 모습 보기\n",
    "### test.py 만들기"
   ]
  },
  {
   "cell_type": "code",
   "execution_count": 3,
   "metadata": {
    "collapsed": true
   },
   "outputs": [],
   "source": [
    "import token #토큰확인하기"
   ]
  },
  {
   "cell_type": "code",
   "execution_count": 4,
   "metadata": {
    "collapsed": false
   },
   "outputs": [
    {
     "data": {
      "text/plain": [
       "{0: 'ENDMARKER',\n",
       " 1: 'NAME',\n",
       " 2: 'NUMBER',\n",
       " 3: 'STRING',\n",
       " 4: 'NEWLINE',\n",
       " 5: 'INDENT',\n",
       " 6: 'DEDENT',\n",
       " 7: 'LPAR',\n",
       " 8: 'RPAR',\n",
       " 9: 'LSQB',\n",
       " 10: 'RSQB',\n",
       " 11: 'COLON',\n",
       " 12: 'COMMA',\n",
       " 13: 'SEMI',\n",
       " 14: 'PLUS',\n",
       " 15: 'MINUS',\n",
       " 16: 'STAR',\n",
       " 17: 'SLASH',\n",
       " 18: 'VBAR',\n",
       " 19: 'AMPER',\n",
       " 20: 'LESS',\n",
       " 21: 'GREATER',\n",
       " 22: 'EQUAL',\n",
       " 23: 'DOT',\n",
       " 24: 'PERCENT',\n",
       " 25: 'BACKQUOTE',\n",
       " 26: 'LBRACE',\n",
       " 27: 'RBRACE',\n",
       " 28: 'EQEQUAL',\n",
       " 29: 'NOTEQUAL',\n",
       " 30: 'LESSEQUAL',\n",
       " 31: 'GREATEREQUAL',\n",
       " 32: 'TILDE',\n",
       " 33: 'CIRCUMFLEX',\n",
       " 34: 'LEFTSHIFT',\n",
       " 35: 'RIGHTSHIFT',\n",
       " 36: 'DOUBLESTAR',\n",
       " 37: 'PLUSEQUAL',\n",
       " 38: 'MINEQUAL',\n",
       " 39: 'STAREQUAL',\n",
       " 40: 'SLASHEQUAL',\n",
       " 41: 'PERCENTEQUAL',\n",
       " 42: 'AMPEREQUAL',\n",
       " 43: 'VBAREQUAL',\n",
       " 44: 'CIRCUMFLEXEQUAL',\n",
       " 45: 'LEFTSHIFTEQUAL',\n",
       " 46: 'RIGHTSHIFTEQUAL',\n",
       " 47: 'DOUBLESTAREQUAL',\n",
       " 48: 'DOUBLESLASH',\n",
       " 49: 'DOUBLESLASHEQUAL',\n",
       " 50: 'AT',\n",
       " 51: 'OP',\n",
       " 52: 'ERRORTOKEN',\n",
       " 53: 'COMMENT',\n",
       " 54: 'NL',\n",
       " 256: 'NT_OFFSET'}"
      ]
     },
     "execution_count": 4,
     "metadata": {},
     "output_type": "execute_result"
    }
   ],
   "source": [
    "token.tok_name \n",
    "#토큰 타입의 종류"
   ]
  },
  {
   "cell_type": "code",
   "execution_count": 5,
   "metadata": {
    "collapsed": true
   },
   "outputs": [],
   "source": [
    "s = open('test.py').read()"
   ]
  },
  {
   "cell_type": "code",
   "execution_count": 7,
   "metadata": {
    "collapsed": false
   },
   "outputs": [
    {
     "data": {
      "text/plain": [
       "'def func(a,b):\\n\\treturn a + b\\n\\na = 10\\nb = 20\\n\\nc = func(a,b)\\nprint(c)\\n'"
      ]
     },
     "execution_count": 7,
     "metadata": {},
     "output_type": "execute_result"
    }
   ],
   "source": [
    "s\n",
    "#우리가 작성한건 문자일 뿐이다. "
   ]
  },
  {
   "cell_type": "code",
   "execution_count": 8,
   "metadata": {
    "collapsed": true
   },
   "outputs": [],
   "source": [
    "from tokenize import tokenize\n",
    "from io import BytesIO"
   ]
  },
  {
   "cell_type": "code",
   "execution_count": 13,
   "metadata": {
    "collapsed": false
   },
   "outputs": [
    {
     "name": "stdout",
     "output_type": "stream",
     "text": [
      "1,0-1,3:\tNAME\t'def'\n",
      "1,4-1,8:\tNAME\t'func'\n",
      "1,8-1,9:\tOP\t'('\n",
      "1,9-1,10:\tNAME\t'a'\n",
      "1,10-1,11:\tOP\t','\n",
      "1,11-1,12:\tNAME\t'b'\n",
      "1,12-1,13:\tOP\t')'\n",
      "1,13-1,14:\tOP\t':'\n",
      "1,14-1,15:\tNEWLINE\t'\\n'\n",
      "2,0-2,1:\tINDENT\t'\\t'\n",
      "2,1-2,7:\tNAME\t'return'\n",
      "2,8-2,9:\tNAME\t'a'\n",
      "2,10-2,11:\tOP\t'+'\n",
      "2,12-2,13:\tNAME\t'b'\n",
      "2,13-2,14:\tNEWLINE\t'\\n'\n",
      "3,0-3,1:\tNL\t'\\n'\n",
      "4,0-4,0:\tDEDENT\t''\n",
      "4,0-4,1:\tNAME\t'a'\n",
      "4,2-4,3:\tOP\t'='\n",
      "4,4-4,6:\tNUMBER\t'10'\n",
      "4,6-4,7:\tNEWLINE\t'\\n'\n",
      "5,0-5,1:\tNAME\t'b'\n",
      "5,2-5,3:\tOP\t'='\n",
      "5,4-5,6:\tNUMBER\t'20'\n",
      "5,6-5,7:\tNEWLINE\t'\\n'\n",
      "6,0-6,1:\tNL\t'\\n'\n",
      "7,0-7,1:\tNAME\t'c'\n",
      "7,2-7,3:\tOP\t'='\n",
      "7,4-7,8:\tNAME\t'func'\n",
      "7,8-7,9:\tOP\t'('\n",
      "7,9-7,10:\tNAME\t'a'\n",
      "7,10-7,11:\tOP\t','\n",
      "7,11-7,12:\tNAME\t'b'\n",
      "7,12-7,13:\tOP\t')'\n",
      "7,13-7,14:\tNEWLINE\t'\\n'\n",
      "8,0-8,5:\tNAME\t'print'\n",
      "8,5-8,6:\tOP\t'('\n",
      "8,6-8,7:\tNAME\t'c'\n",
      "8,7-8,8:\tOP\t')'\n",
      "8,8-8,9:\tNEWLINE\t'\\n'\n",
      "9,0-9,0:\tENDMARKER\t''\n"
     ]
    }
   ],
   "source": [
    "#토큰으로 쪼개서 보기\n",
    "# g: generator\n",
    "g = tokenize(BytesIO(s.encode('utf-8')).readline)"
   ]
  },
  {
   "cell_type": "code",
   "execution_count": 14,
   "metadata": {
    "collapsed": false
   },
   "outputs": [
    {
     "ename": "TypeError",
     "evalue": "'NoneType' object is not iterable",
     "output_type": "error",
     "traceback": [
      "\u001b[0;31m---------------------------------------------------------------------------\u001b[0m",
      "\u001b[0;31mTypeError\u001b[0m                                 Traceback (most recent call last)",
      "\u001b[0;32m<ipython-input-14-28f3b2989fe9>\u001b[0m in \u001b[0;36m<module>\u001b[0;34m()\u001b[0m\n\u001b[0;32m----> 1\u001b[0;31m \u001b[0;32mfor\u001b[0m \u001b[0mtoken\u001b[0m \u001b[0;32min\u001b[0m \u001b[0mg\u001b[0m\u001b[0;34m:\u001b[0m\u001b[0;34m\u001b[0m\u001b[0m\n\u001b[0m\u001b[1;32m      2\u001b[0m     \u001b[0;32mprint\u001b[0m\u001b[0;34m(\u001b[0m\u001b[0mtoken\u001b[0m\u001b[0;34m)\u001b[0m\u001b[0;34m\u001b[0m\u001b[0m\n",
      "\u001b[0;31mTypeError\u001b[0m: 'NoneType' object is not iterable"
     ]
    }
   ],
   "source": [
    "for token in g:\n",
    "    print(token)"
   ]
  },
  {
   "cell_type": "code",
   "execution_count": null,
   "metadata": {
    "collapsed": true
   },
   "outputs": [],
   "source": []
  },
  {
   "cell_type": "code",
   "execution_count": 15,
   "metadata": {
    "collapsed": true
   },
   "outputs": [],
   "source": [
    "#parser 을 통해 AST만들기"
   ]
  },
  {
   "cell_type": "code",
   "execution_count": 16,
   "metadata": {
    "collapsed": true
   },
   "outputs": [],
   "source": [
    "import ast"
   ]
  },
  {
   "cell_type": "code",
   "execution_count": 17,
   "metadata": {
    "collapsed": true
   },
   "outputs": [],
   "source": [
    "# Abstract Synatac Tree"
   ]
  },
  {
   "cell_type": "code",
   "execution_count": 18,
   "metadata": {
    "collapsed": true
   },
   "outputs": [],
   "source": [
    "node = ast.parse(s)"
   ]
  },
  {
   "cell_type": "code",
   "execution_count": 19,
   "metadata": {
    "collapsed": false
   },
   "outputs": [
    {
     "data": {
      "text/plain": [
       "<_ast.Module at 0x110a74ed0>"
      ]
     },
     "execution_count": 19,
     "metadata": {},
     "output_type": "execute_result"
    }
   ],
   "source": [
    "node"
   ]
  },
  {
   "cell_type": "code",
   "execution_count": 20,
   "metadata": {
    "collapsed": true
   },
   "outputs": [],
   "source": [
    "g = ast.walk(node)"
   ]
  },
  {
   "cell_type": "code",
   "execution_count": 21,
   "metadata": {
    "collapsed": false
   },
   "outputs": [
    {
     "name": "stdout",
     "output_type": "stream",
     "text": [
      "<_ast.Module object at 0x110a74ed0>\n",
      "<_ast.FunctionDef object at 0x110a748d0>\n",
      "<_ast.Assign object at 0x110a74a50>\n",
      "<_ast.Assign object at 0x110a74f90>\n",
      "<_ast.Assign object at 0x110a74790>\n",
      "<_ast.Print object at 0x11092ddd0>\n",
      "<_ast.arguments object at 0x110a74890>\n",
      "<_ast.Return object at 0x110a74950>\n",
      "<_ast.Name object at 0x110a74a90>\n",
      "<_ast.Num object at 0x110a74f50>\n",
      "<_ast.Name object at 0x110a74fd0>\n",
      "<_ast.Num object at 0x110a746d0>\n",
      "<_ast.Name object at 0x11092df90>\n",
      "<_ast.Call object at 0x11092df50>\n",
      "<_ast.Name object at 0x11092db90>\n",
      "<_ast.Name object at 0x110a74710>\n",
      "<_ast.Name object at 0x110a74f10>\n",
      "<_ast.BinOp object at 0x110a74990>\n",
      "<_ast.Store object at 0x10f141b50>\n",
      "<_ast.Store object at 0x10f141b50>\n",
      "<_ast.Store object at 0x10f141b50>\n",
      "<_ast.Name object at 0x11092ded0>\n",
      "<_ast.Name object at 0x11092d490>\n",
      "<_ast.Name object at 0x11092dc10>\n",
      "<_ast.Load object at 0x10f141ad0>\n",
      "<_ast.Param object at 0x10f141d50>\n",
      "<_ast.Param object at 0x10f141d50>\n",
      "<_ast.Name object at 0x110a749d0>\n",
      "<_ast.Add object at 0x10f14a150>\n",
      "<_ast.Name object at 0x110a74a10>\n",
      "<_ast.Load object at 0x10f141ad0>\n",
      "<_ast.Load object at 0x10f141ad0>\n",
      "<_ast.Load object at 0x10f141ad0>\n",
      "<_ast.Load object at 0x10f141ad0>\n",
      "<_ast.Load object at 0x10f141ad0>\n"
     ]
    }
   ],
   "source": [
    "for node in g:\n",
    "    print(node)\n",
    "    \n",
    "# test"
   ]
  },
  {
   "cell_type": "code",
   "execution_count": 23,
   "metadata": {
    "collapsed": true
   },
   "outputs": [],
   "source": [
    "#AST는 문법을 트리로 만든 것\n",
    "# : 모듈을 코드를 트리형태로 만들고 바이트 코드로 바꾼거 "
   ]
  },
  {
   "cell_type": "code",
   "execution_count": 24,
   "metadata": {
    "collapsed": true
   },
   "outputs": [],
   "source": [
    "import symtable"
   ]
  },
  {
   "cell_type": "code",
   "execution_count": 25,
   "metadata": {
    "collapsed": true
   },
   "outputs": [],
   "source": [
    "sym = symtable.symtable(s, 'test.py', 'exec')\n",
    "# s는 아까 작성했던 문자열 코드\n"
   ]
  },
  {
   "cell_type": "code",
   "execution_count": 26,
   "metadata": {
    "collapsed": false
   },
   "outputs": [
    {
     "data": {
      "text/plain": [
       "<SymbolTable for top in test.py>"
      ]
     },
     "execution_count": 26,
     "metadata": {},
     "output_type": "execute_result"
    }
   ],
   "source": [
    "sym"
   ]
  },
  {
   "cell_type": "code",
   "execution_count": 27,
   "metadata": {
    "collapsed": true
   },
   "outputs": [],
   "source": [
    "# global 영역의 symbol"
   ]
  },
  {
   "cell_type": "code",
   "execution_count": 28,
   "metadata": {
    "collapsed": false
   },
   "outputs": [
    {
     "data": {
      "text/plain": [
       "<bound method SymbolTable.get_name of <SymbolTable for top in test.py>>"
      ]
     },
     "execution_count": 28,
     "metadata": {},
     "output_type": "execute_result"
    }
   ],
   "source": [
    "sym.get_name"
   ]
  },
  {
   "cell_type": "code",
   "execution_count": 47,
   "metadata": {
    "collapsed": false
   },
   "outputs": [
    {
     "data": {
      "text/plain": [
       "'top'"
      ]
     },
     "execution_count": 47,
     "metadata": {},
     "output_type": "execute_result"
    }
   ],
   "source": [
    "sym.get_name()\n",
    "# 현재 심볼 테이블이 global symboltable이구나를 알 수 있음"
   ]
  },
  {
   "cell_type": "code",
   "execution_count": 33,
   "metadata": {
    "collapsed": false
   },
   "outputs": [
    {
     "data": {
      "text/plain": [
       "[<symbol 'a'>, <symbol 'c'>, <symbol 'b'>, <symbol 'func'>]"
      ]
     },
     "execution_count": 33,
     "metadata": {},
     "output_type": "execute_result"
    }
   ],
   "source": [
    "sym.get_symbols()"
   ]
  },
  {
   "cell_type": "code",
   "execution_count": 36,
   "metadata": {
    "collapsed": true
   },
   "outputs": [],
   "source": [
    "func_sym = sym.get_children()[0]"
   ]
  },
  {
   "cell_type": "code",
   "execution_count": 37,
   "metadata": {
    "collapsed": false
   },
   "outputs": [
    {
     "data": {
      "text/plain": [
       "'func'"
      ]
     },
     "execution_count": 37,
     "metadata": {},
     "output_type": "execute_result"
    }
   ],
   "source": [
    "func_sym.get_name()"
   ]
  },
  {
   "cell_type": "code",
   "execution_count": 38,
   "metadata": {
    "collapsed": false
   },
   "outputs": [
    {
     "data": {
      "text/plain": [
       "[<symbol 'a'>, <symbol 'b'>]"
      ]
     },
     "execution_count": 38,
     "metadata": {},
     "output_type": "execute_result"
    }
   ],
   "source": [
    "func_sym.get_symbols()"
   ]
  },
  {
   "cell_type": "code",
   "execution_count": 39,
   "metadata": {
    "collapsed": true
   },
   "outputs": [],
   "source": [
    "sym = symtable.symtable(s, 'test.py', 'exec')"
   ]
  },
  {
   "cell_type": "code",
   "execution_count": 46,
   "metadata": {
    "collapsed": false
   },
   "outputs": [
    {
     "data": {
      "text/plain": [
       "'top'"
      ]
     },
     "execution_count": 46,
     "metadata": {},
     "output_type": "execute_result"
    }
   ],
   "source": [
    "sym.get_name()"
   ]
  },
  {
   "cell_type": "code",
   "execution_count": 42,
   "metadata": {
    "collapsed": false
   },
   "outputs": [
    {
     "data": {
      "text/plain": [
       "[<symbol 'a'>, <symbol 'c'>, <symbol 'b'>, <symbol 'func'>]"
      ]
     },
     "execution_count": 42,
     "metadata": {},
     "output_type": "execute_result"
    }
   ],
   "source": [
    "sym.get_symbols()"
   ]
  },
  {
   "cell_type": "code",
   "execution_count": 44,
   "metadata": {
    "collapsed": true
   },
   "outputs": [],
   "source": [
    "func_sym = sym.get_children()[0]"
   ]
  },
  {
   "cell_type": "code",
   "execution_count": 45,
   "metadata": {
    "collapsed": false
   },
   "outputs": [
    {
     "data": {
      "text/plain": [
       "[<symbol 'a'>, <symbol 'b'>]"
      ]
     },
     "execution_count": 45,
     "metadata": {},
     "output_type": "execute_result"
    }
   ],
   "source": [
    "func_sym.get_symbols()"
   ]
  },
  {
   "cell_type": "code",
   "execution_count": 48,
   "metadata": {
    "collapsed": true
   },
   "outputs": [],
   "source": [
    "# AST가 bytecode로 변환하면서 symboltable이 생김"
   ]
  },
  {
   "cell_type": "code",
   "execution_count": 53,
   "metadata": {
    "collapsed": true
   },
   "outputs": [],
   "source": [
    "#bytecode 만들기\n",
    "import dis"
   ]
  },
  {
   "cell_type": "code",
   "execution_count": 54,
   "metadata": {
    "collapsed": false
   },
   "outputs": [
    {
     "name": "stdout",
     "output_type": "stream",
     "text": [
      "          0 LOAD_CONST      26213 (26213)\n",
      "          3 SLICE+2        \n",
      "          4 BUILD_TUPLE     28277\n",
      "          7 DUP_TOPX        24872\n",
      "         10 <44>           \n",
      "         11 DELETE_GLOBAL   14889 (14889)\n",
      "         14 UNARY_POSITIVE \n",
      "         15 NOP            \n",
      "         16 POP_JUMP_IF_FALSE 29797\n",
      "         19 <117>           28274\n",
      "         22 SLICE+2        \n",
      "         23 STORE_GLOBAL    11040 (11040)\n",
      "         26 SLICE+2        \n",
      "         27 DELETE_GLOBAL    2570 (2570)\n",
      "         30 STORE_GLOBAL    15648 (15648)\n",
      "         33 SLICE+2        \n",
      "         34 <49>           \n",
      "         35 <48>           \n",
      "         36 UNARY_POSITIVE \n",
      "         37 DELETE_GLOBAL   15648 (15648)\n",
      "         40 SLICE+2        \n",
      "         41 DELETE_SLICE+0 \n",
      "         42 <48>           \n",
      "         43 UNARY_POSITIVE \n",
      "         44 UNARY_POSITIVE \n",
      "         45 DUP_TOPX        15648\n",
      "         48 SLICE+2        \n",
      "         49 BUILD_TUPLE     28277\n",
      "         52 DUP_TOPX        24872\n",
      "         55 <44>           \n",
      "         56 DELETE_GLOBAL    2601 (2601)\n",
      "         59 JUMP_IF_TRUE_OR_POP 26994\n",
      "         62 JUMP_FORWARD    10356 (to 10421)\n",
      "         65 DUP_TOPX         2601\n"
     ]
    }
   ],
   "source": [
    "dis.dis(s)"
   ]
  },
  {
   "cell_type": "code",
   "execution_count": 60,
   "metadata": {
    "collapsed": false
   },
   "outputs": [
    {
     "ename": "AttributeError",
     "evalue": "'module' object has no attribute 'get_instructions'",
     "output_type": "error",
     "traceback": [
      "\u001b[0;31m---------------------------------------------------------------------------\u001b[0m",
      "\u001b[0;31mAttributeError\u001b[0m                            Traceback (most recent call last)",
      "\u001b[0;32m<ipython-input-60-86def76fe85a>\u001b[0m in \u001b[0;36m<module>\u001b[0;34m()\u001b[0m\n\u001b[0;32m----> 1\u001b[0;31m \u001b[0mg\u001b[0m \u001b[0;34m=\u001b[0m \u001b[0mdis\u001b[0m\u001b[0;34m.\u001b[0m\u001b[0mget_instructions\u001b[0m\u001b[0;34m(\u001b[0m\u001b[0ms\u001b[0m\u001b[0;34m)\u001b[0m\u001b[0;34m\u001b[0m\u001b[0m\n\u001b[0m",
      "\u001b[0;31mAttributeError\u001b[0m: 'module' object has no attribute 'get_instructions'"
     ]
    }
   ],
   "source": [
    "g = dis.get_instructions(s)"
   ]
  },
  {
   "cell_type": "code",
   "execution_count": 61,
   "metadata": {
    "collapsed": false
   },
   "outputs": [
    {
     "ename": "SyntaxError",
     "evalue": "invalid syntax (<ipython-input-61-93aa6a5a9a86>, line 3)",
     "output_type": "error",
     "traceback": [
      "\u001b[0;36m  File \u001b[0;32m\"<ipython-input-61-93aa6a5a9a86>\"\u001b[0;36m, line \u001b[0;32m3\u001b[0m\n\u001b[0;31m    print(inst.argval)\u001b[0m\n\u001b[0m        ^\u001b[0m\n\u001b[0;31mSyntaxError\u001b[0m\u001b[0;31m:\u001b[0m invalid syntax\n"
     ]
    }
   ],
   "source": [
    "for inst in g:\n",
    "    print(inst.opname.ljust(20, end = ' ')\n",
    "    print(inst.argval)"
   ]
  },
  {
   "cell_type": "code",
   "execution_count": 65,
   "metadata": {
    "collapsed": false
   },
   "outputs": [],
   "source": [
    "# pvm\n",
    "# 코드 오브젝트\n",
    "code = compile(s, 'test.py', 'exec')"
   ]
  },
  {
   "cell_type": "code",
   "execution_count": 66,
   "metadata": {
    "collapsed": false
   },
   "outputs": [
    {
     "data": {
      "text/plain": [
       "<code object <module> at 0x110a358b0, file \"test.py\", line 1>"
      ]
     },
     "execution_count": 66,
     "metadata": {},
     "output_type": "execute_result"
    }
   ],
   "source": [
    "code"
   ]
  },
  {
   "cell_type": "code",
   "execution_count": 69,
   "metadata": {
    "collapsed": false
   },
   "outputs": [
    {
     "data": {
      "text/plain": [
       "'d\\x00\\x00\\x84\\x00\\x00Z\\x00\\x00d\\x01\\x00Z\\x01\\x00d\\x02\\x00Z\\x02\\x00e\\x00\\x00e\\x01\\x00e\\x02\\x00\\x83\\x02\\x00Z\\x03\\x00e\\x03\\x00GHd\\x03\\x00S'"
      ]
     },
     "execution_count": 69,
     "metadata": {},
     "output_type": "execute_result"
    }
   ],
   "source": [
    "code.co_code\n",
    "# \\x: 16진수, 00 00 84 02 \n",
    "# 8이면 8번째에서부터 시작한다. "
   ]
  },
  {
   "cell_type": "code",
   "execution_count": 70,
   "metadata": {
    "collapsed": false
   },
   "outputs": [
    {
     "data": {
      "text/plain": [
       "45"
      ]
     },
     "execution_count": 70,
     "metadata": {},
     "output_type": "execute_result"
    }
   ],
   "source": [
    "len(code.co_code)"
   ]
  },
  {
   "cell_type": "code",
   "execution_count": 72,
   "metadata": {
    "collapsed": false
   },
   "outputs": [],
   "source": [
    "code = compile(s, 'test.py', 'exec')"
   ]
  },
  {
   "cell_type": "code",
   "execution_count": 73,
   "metadata": {
    "collapsed": false
   },
   "outputs": [
    {
     "data": {
      "text/plain": [
       "<code object <module> at 0x110a53330, file \"test.py\", line 1>"
      ]
     },
     "execution_count": 73,
     "metadata": {},
     "output_type": "execute_result"
    }
   ],
   "source": [
    "code"
   ]
  },
  {
   "cell_type": "code",
   "execution_count": 74,
   "metadata": {
    "collapsed": false
   },
   "outputs": [
    {
     "data": {
      "text/plain": [
       "'d\\x00\\x00\\x84\\x00\\x00Z\\x00\\x00d\\x01\\x00Z\\x01\\x00d\\x02\\x00Z\\x02\\x00e\\x00\\x00e\\x01\\x00e\\x02\\x00\\x83\\x02\\x00Z\\x03\\x00e\\x03\\x00GHd\\x03\\x00S'"
      ]
     },
     "execution_count": 74,
     "metadata": {},
     "output_type": "execute_result"
    }
   ],
   "source": [
    "code.co_code"
   ]
  },
  {
   "cell_type": "code",
   "execution_count": 75,
   "metadata": {
    "collapsed": true
   },
   "outputs": [],
   "source": [
    "#4    8  LOAD_CONST  2(10)\n",
    "# 4: test.py의 4번째줄\n",
    "# \n",
    "# 2번 index에 10이 있는 것이다."
   ]
  },
  {
   "cell_type": "code",
   "execution_count": 76,
   "metadata": {
    "collapsed": false
   },
   "outputs": [
    {
     "data": {
      "text/plain": [
       "(<code object func at 0x110a279b0, file \"test.py\", line 1>, 10, 20, None)"
      ]
     },
     "execution_count": 76,
     "metadata": {},
     "output_type": "execute_result"
    }
   ],
   "source": [
    "code.co_consts"
   ]
  },
  {
   "cell_type": "code",
   "execution_count": null,
   "metadata": {
    "collapsed": true
   },
   "outputs": [],
   "source": []
  },
  {
   "cell_type": "code",
   "execution_count": null,
   "metadata": {
    "collapsed": true
   },
   "outputs": [],
   "source": []
  },
  {
   "cell_type": "code",
   "execution_count": 78,
   "metadata": {
    "collapsed": true
   },
   "outputs": [],
   "source": [
    "# BYTECODE를 어떻게 기계어로 바꾸나\n",
    "# PyEval\n",
    "\n",
    "# for문을 돌면서 bytecode로 바꾼 내용을 실행하기"
   ]
  },
  {
   "cell_type": "code",
   "execution_count": null,
   "metadata": {
    "collapsed": true
   },
   "outputs": [],
   "source": [
    "\n"
   ]
  },
  {
   "cell_type": "code",
   "execution_count": null,
   "metadata": {
    "collapsed": true
   },
   "outputs": [],
   "source": []
  },
  {
   "cell_type": "code",
   "execution_count": 79,
   "metadata": {
    "collapsed": true
   },
   "outputs": [],
   "source": [
    "# 자료 구조 (data structure)"
   ]
  },
  {
   "cell_type": "code",
   "execution_count": 82,
   "metadata": {
    "collapsed": true
   },
   "outputs": [],
   "source": [
    "# 1. 자료구조 \n",
    "# : 자료를 어떻게 저장하는게 좋나\n",
    "# : 저장, 탐색, 삭제\n",
    "\n",
    "# 2. 알고리즘\n",
    "# : 문제를 해결하는 방법론"
   ]
  },
  {
   "cell_type": "code",
   "execution_count": 84,
   "metadata": {
    "collapsed": false
   },
   "outputs": [],
   "source": [
    "# 1. 자료구조의 알고리즘\n",
    "# : 데이터를 저장하고 탐색하는 방법에 대한 고민들\n",
    "\n",
    "# 2.자료구조를 이용한 알고리즘\n",
    "# : 자료구조를 이용해 어떤 문제를 해결하는 것"
   ]
  },
  {
   "cell_type": "code",
   "execution_count": null,
   "metadata": {
    "collapsed": true
   },
   "outputs": [],
   "source": [
    "# # 자료구조의 구성\n",
    "# 1. insert (어떻게 저장하고)\n",
    "# 2. search (어떻게 찾고)\n",
    "# 3. delete (어떻게 지울까?)"
   ]
  },
  {
   "cell_type": "code",
   "execution_count": null,
   "metadata": {
    "collapsed": true
   },
   "outputs": [],
   "source": []
  },
  {
   "cell_type": "code",
   "execution_count": 90,
   "metadata": {
    "collapsed": false
   },
   "outputs": [],
   "source": [
    "# # Array와 Linked List\n",
    "# 1. 배열의 원리\n",
    "# 가변 배열 : 배열의 길이가 변하는 배열\n",
    "# 하지만 배열은 원래 길이를 바꿀 수 없다.\n",
    "\n",
    "# cache hit, locality가 보장되니 page falut가 안남\n",
    "\n",
    "# 2. Linked List의 원리\n",
    "# arary를 수정하는게 아니라 데이터를 추가해서 늘린다. \n",
    "# 탐색, 할당, 복사, 삭제 등의 리소스 낭비가 전혀 없다. \n",
    "\n",
    "# 단점 : heap (1) -> heap (2) -> heap(3) -> heap(4)\n",
    "#     locality가 보장이 안되니 page falut가 날 확률이 높다.\n",
    "    \n",
    "# 그래서 데이터를 추가하거나 삭제 등 수정할게 많으면 링크드리스트를 쓴다. \n",
    "# 수정할게 많이 없으면 array를 쓰는게 좋다.\n",
    "\n",
    "\n",
    "# array는 리스팅 인덱싱을 통해서 데이터를 탐색이 한 번에 가능하다.\n"
   ]
  },
  {
   "cell_type": "code",
   "execution_count": 98,
   "metadata": {
    "collapsed": false
   },
   "outputs": [],
   "source": [
    "# 더 알아보기\n",
    "# Linear serach vs binary serach 성능 비교\n",
    "# linear serach -> for\n",
    "# 선형타겟을 통해서 찾게되면 100번을 비교해야한다. \n",
    "\n",
    "# linear_search(data, target) -> idx를 반환 (찾으려는 타겟이 몇 번 인덱스인지 )\n",
    "def linear_search(data, target):\n",
    "    for e in data:\n",
    "        if e == target:\n",
    "            return data.index(e)\n",
    "    return None"
   ]
  },
  {
   "cell_type": "code",
   "execution_count": 105,
   "metadata": {
    "collapsed": false
   },
   "outputs": [
    {
     "name": "stdout",
     "output_type": "stream",
     "text": [
      "idx: 3\n",
      "8\n"
     ]
    }
   ],
   "source": [
    "li = [4, 2, 7, 8, 9, 10]\n",
    "idx = linear_search(li, 8) #8의 인덱스를 출출력해\n",
    "if idx:\n",
    "    print(\"idx: %s\" %idx)\n",
    "    print(li[idx])\n",
    "else:\n",
    "    print(\"no such data\")"
   ]
  },
  {
   "cell_type": "code",
   "execution_count": 102,
   "metadata": {
    "collapsed": false
   },
   "outputs": [
    {
     "name": "stdout",
     "output_type": "stream",
     "text": [
      "no such data\n"
     ]
    }
   ],
   "source": [
    "li = [4, 2, 7, 8, 9, 10]\n",
    "idx = linear_search(li, 20) #20의 인덱스를 출력해\n",
    "if idx:\n",
    "    print(li[idx])\n",
    "else:\n",
    "    print(\"no such data\")"
   ]
  },
  {
   "cell_type": "code",
   "execution_count": null,
   "metadata": {
    "collapsed": true
   },
   "outputs": [],
   "source": []
  },
  {
   "cell_type": "code",
   "execution_count": 106,
   "metadata": {
    "collapsed": true
   },
   "outputs": [],
   "source": [
    "# 이진탐색 (binary search)\n",
    "# 이진 탐색을 쓰기위한 조건 : \n",
    "# 1. 반드시 정렬된 상태이여야한다. "
   ]
  },
  {
   "cell_type": "code",
   "execution_count": 121,
   "metadata": {
    "collapsed": false
   },
   "outputs": [
    {
     "name": "stdout",
     "output_type": "stream",
     "text": [
      "[1, 4, 6, 7]\n",
      "None\n",
      "[1, 4, 6, 7]\n",
      "1\n",
      "7\n",
      "6\n"
     ]
    }
   ],
   "source": [
    "li = [1,4,6,7]\n",
    "print(li)\n",
    "print(li.sort())\n",
    "print(sorted(li))\n",
    "s_li = li[0]\n",
    "print(li[0])\n",
    "e_li = li[len(li)-1]\n",
    "print(li[len(li)-1])\n",
    "m_li = li[len(li)/2]\n",
    "print(m_li)"
   ]
  },
  {
   "cell_type": "code",
   "execution_count": 139,
   "metadata": {
    "collapsed": false
   },
   "outputs": [],
   "source": [
    "# Code\n",
    "# start, end\n",
    "# mid = start  + end / 2\n",
    "# target comparing with mid\n",
    "# target < m : end을 mid로 , target > m : start 를 미드로\n",
    "# binary_search(data, target) -> idx\n",
    "# 못 찾으면 none\n",
    "\n",
    "'''\n",
    "# my code\n",
    "def binary_search(data, target):    \n",
    "    data = data.sort()\n",
    "    start = data[0]\n",
    "    end = data[len(data)-1]\n",
    "    mid = data[len(data)/2]\n",
    "    while target == mid: \n",
    "        start = data[0]\n",
    "        end = data[len(data)-1]\n",
    "        mid = data[len(data)/2]\n",
    "        if target < mid:\n",
    "            end = mid\n",
    "        elif target > mid:\n",
    "            start = mid\n",
    "        else:\n",
    "            return mid \n",
    "'''\n",
    "\n",
    "# 선생님\n",
    "def binary_search(data, target):\n",
    "    start = 0\n",
    "    end = len(data) - 1\n",
    "    while start <= end:\n",
    "        mid = (start + end) // 2\n",
    "        print(\"mid: %s\" %mid)\n",
    "        if target == data[mid]:\n",
    "            return mid\n",
    "        elif target < data[mid]:\n",
    "            end = mid -1\n",
    "        else: #target > data[mid]\n",
    "            start = mid + 1\n",
    "    return None"
   ]
  },
  {
   "cell_type": "code",
   "execution_count": 142,
   "metadata": {
    "collapsed": false
   },
   "outputs": [
    {
     "data": {
      "text/plain": [
       "'\\n# my code -> \\xec\\x88\\x98\\xec\\xa0\\x95 \\xed\\x95\\x84\\xec\\x9a\\x94\\ndef binary_search(data, target):    \\n    data = data.sort()\\n    start = data[0]\\n    end = data[len(data)-1]\\n    mid = data[len(data)//2]\\n    while target == mid:\\n        start = data[0]\\n        end = data[len(data)-1]\\n        mid = data[len(data)/2]\\n        if target < mid:\\n            end = mid\\n        elif target > mid:\\n            start = mid\\n        else:\\n            return mid \\n'"
      ]
     },
     "execution_count": 142,
     "metadata": {},
     "output_type": "execute_result"
    }
   ],
   "source": [
    "'''\n",
    "# my code -> 수정 필요\n",
    "def binary_search(data, target):    \n",
    "    data = data.sort()\n",
    "    start = data[0]\n",
    "    end = data[len(data)-1]\n",
    "    mid = data[len(data)//2]\n",
    "    while target == mid:\n",
    "        start = data[0]\n",
    "        end = data[len(data)-1]\n",
    "        mid = data[len(data)/2]\n",
    "        if target < mid:\n",
    "            end = mid\n",
    "        elif target > mid:\n",
    "            start = mid\n",
    "        else:\n",
    "            return mid \n",
    "'''"
   ]
  },
  {
   "cell_type": "code",
   "execution_count": 143,
   "metadata": {
    "collapsed": false
   },
   "outputs": [
    {
     "data": {
      "text/plain": [
       "[0, 1, 4, 9, 16, 25, 36, 49, 64, 81]"
      ]
     },
     "execution_count": 143,
     "metadata": {},
     "output_type": "execute_result"
    }
   ],
   "source": [
    "li = [i**2 for i in range(10)]\n",
    "li"
   ]
  },
  {
   "cell_type": "code",
   "execution_count": 144,
   "metadata": {
    "collapsed": false
   },
   "outputs": [
    {
     "name": "stdout",
     "output_type": "stream",
     "text": [
      "mid: 4\n",
      "mid: 1\n",
      "mid: 2\n",
      "mid: 3\n",
      "9\n"
     ]
    }
   ],
   "source": [
    "\n",
    "target = 9\n",
    "idx = binary_search(li, target)\n",
    "if idx:\n",
    "    print(li[idx])\n",
    "else:\n",
    "    print(\"there is no such data\")"
   ]
  },
  {
   "cell_type": "code",
   "execution_count": 146,
   "metadata": {
    "collapsed": true
   },
   "outputs": [],
   "source": [
    "# 성능비교\n",
    "# 최악의 경우\n",
    "# 아무리 최악의 상황에서도 이 성능은 보장한다.\n",
    "\n",
    "# 통상 기준으로 quicksort를 average로 정함"
   ]
  },
  {
   "cell_type": "code",
   "execution_count": 147,
   "metadata": {
    "collapsed": false
   },
   "outputs": [
    {
     "ename": "SyntaxError",
     "evalue": "invalid syntax (<ipython-input-147-64ca9d6c3c63>, line 2)",
     "output_type": "error",
     "traceback": [
      "\u001b[0;36m  File \u001b[0;32m\"<ipython-input-147-64ca9d6c3c63>\"\u001b[0;36m, line \u001b[0;32m2\u001b[0m\n\u001b[0;31m    데이터 갯수가 n개 일 때 (n = 10)\u001b[0m\n\u001b[0m    ^\u001b[0m\n\u001b[0;31mSyntaxError\u001b[0m\u001b[0;31m:\u001b[0m invalid syntax\n"
     ]
    }
   ],
   "source": [
    "# 최악의 경우\n",
    "데이터 갯수가 n개 일 때 (n = 10)\n",
    "Linear Search를 할 떄 마지막에 타겟이 있을 때\n",
    "거쳐야하는 if문의 수는 n번\n",
    "\n",
    "Binary Search 일 때는 \n",
    "n = 10에서 거쳐야하는 if문의 수는 3번 (3번만 비교하면 된다.)\n",
    "\n",
    "Linear Search의 수식어 : T(n) = n\n",
    "Binary Search의 수식어 : n -> n/2 -> ((n/2)/2)  = n * (1/2)**k\n",
    "    k번 if문을 구하는 횟수\n",
    "    T(n) = log_2n"
   ]
  },
  {
   "cell_type": "code",
   "execution_count": 152,
   "metadata": {
    "collapsed": false
   },
   "outputs": [
    {
     "data": {
      "text/plain": [
       "'\\n# \\xeb\\xb9\\x85\\xec\\x98\\xa4\\xeb\\x8a\\x94 \\xea\\xb7\\xb8\\xeb\\x9e\\x98\\xed\\x94\\x84\\xeb\\xa5\\xbc \\xeb\\xb3\\xb4\\xec\\x97\\xac\\xec\\xa3\\xbc\\xeb\\x8a\\x94 \\xec\\xb5\\x9c\\xeb\\x8c\\x80 \\xec\\xb0\\xa8\\xec\\x88\\x98 \\xed\\x98\\xb9\\xec\\x9d\\x80 factor\\xeb\\xa5\\xbc \\xed\\x91\\x9c\\xed\\x98\\x84\\xed\\x95\\x98\\xeb\\x8a\\x94\\n\\n1. O(1) : \\xec\\x83\\x81\\xec\\x88\\x98\\xec\\x8b\\x9c\\xea\\xb0\\x84 \\n    : y = constant\\n    : \\xeb\\xb0\\xb0\\xec\\x97\\xb4\\xec\\x9d\\x98 index\\n    : li = [1,2,3,4,5]\\n    : li[1] = 2  -> \\xec\\x9d\\xb8\\xeb\\x8d\\xb1\\xec\\x8b\\xb1\\xec\\x9d\\x80 \\xec\\x83\\x81\\xec\\x88\\x98\\xec\\x8b\\x9c\\xea\\xb0\\x84\\xec\\x9d\\x84 \\xeb\\xb3\\xb4\\xec\\x9e\\xa5\\xed\\x95\\x9c\\xeb\\x8b\\xa4. \\n\\n2. O(n) \\n    : \\xec\\x84\\xa0\\xed\\x98\\x95 (ex:linear search)\\n    : y = x\\n        \\n3. O(logN)\\n    : log graph (ex : binary search) \\n    : good good\\n    : tree\\xec\\x97\\x90\\xec\\x84\\x9c insert/search/delete\\xea\\xb0\\x80 \\xec\\x9d\\xb4\\xea\\xb1\\xb8 \\xeb\\xb3\\xb4\\xec\\x9e\\xa5\\xed\\x95\\x9c\\xeb\\x8b\\xa4. \\n    : tree\\xeb\\x8a\\x94 \\xec\\xa0\\x80\\xec\\x9e\\xa5/\\xed\\x83\\x90\\xec\\x83\\x89/\\xec\\x82\\xad\\xec\\xa0\\x9c\\xeb\\xa5\\xbc logN\\xec\\x9d\\x84 \\xeb\\xb3\\xb4\\xec\\x9e\\xa5\\xed\\x95\\x9c\\xeb\\x8b\\xa4. \\n\\n4. O(n*logN)\\n    : (ex : quicksort)\\n    : \\n        \\n5. O(n^2)\\n    : graph \\xeb\\x8a\\x94 2\\xec\\xb0\\xa8 \\xed\\x95\\xa8\\xec\\x88\\x98 (ex: bubble sort)\\n    : \\xec\\xb5\\x9c\\xec\\x95\\x85 (\\xeb\\x8d\\xb0\\xec\\x9d\\xb4\\xed\\x84\\xb0\\xec\\x88\\xab\\xec\\x9e\\x90\\xea\\xb0\\x80 \\xeb\\xa7\\x8e\\xec\\x95\\x84\\xec\\xa7\\x88\\xec\\x88\\x98\\xeb\\xa1\\x9d \\xec\\x97\\xb0\\xec\\x82\\xb0\\xeb\\x9f\\x89\\xec\\x9d\\xb4 \\xeb\\xac\\xb4\\xec\\xa7\\x80 \\xeb\\xa7\\x8e\\xec\\x95\\x84\\xec\\xa7\\x84\\xeb\\x8b\\xa4.)\\n'"
      ]
     },
     "execution_count": 152,
     "metadata": {},
     "output_type": "execute_result"
    }
   ],
   "source": [
    "'''\n",
    "# 빅오는 그래프를 보여주는 최대 차수 혹은 factor를 표현하는\n",
    "\n",
    "1. O(1) : 상수시간 \n",
    "    : y = constant\n",
    "    : 배열의 index\n",
    "    : li = [1,2,3,4,5]\n",
    "    : li[1] = 2  -> 인덱싱은 상수시간을 보장한다. \n",
    "\n",
    "2. O(n) \n",
    "    : 선형 (ex:linear search)\n",
    "    : y = x\n",
    "        \n",
    "3. O(logN)\n",
    "    : log graph (ex : binary search) \n",
    "    : good good\n",
    "    : tree에서 insert/search/delete가 이걸 보장한다. \n",
    "    : tree는 저장/탐색/삭제를 logN을 보장한다. \n",
    "\n",
    "4. O(n*logN)\n",
    "    : (ex : quicksort)\n",
    "    : \n",
    "        \n",
    "5. O(n^2)\n",
    "    : graph 는 2차 함수 (ex: bubble sort)\n",
    "    : 최악 (데이터숫자가 많아질수록 연산량이 무지 많아진다.)\n",
    "'''      \n",
    "\n",
    "# 만약에 알고리즘을 O(n^2) -> O(nlogN)으로만 바꿔도 기립박수!!\n",
    "\n",
    "# # 문서읽기\n",
    "# 이 알고리즘은 최대 성능시간 BigO의 log를 보장한다\n",
    "# -> 빅오가 n이겠구나 -> 데이터가 많을수록 더 연산효율이 높아지는 구나 -> 좋구나"
   ]
  },
  {
   "cell_type": "code",
   "execution_count": null,
   "metadata": {
    "collapsed": true
   },
   "outputs": [],
   "source": []
  },
  {
   "cell_type": "code",
   "execution_count": null,
   "metadata": {
    "collapsed": true
   },
   "outputs": [],
   "source": []
  },
  {
   "cell_type": "markdown",
   "metadata": {},
   "source": [
    "# 재귀함수"
   ]
  },
  {
   "cell_type": "code",
   "execution_count": 153,
   "metadata": {
    "collapsed": true
   },
   "outputs": [],
   "source": [
    "def factorial(n):\n",
    "    #탈출 조건\n",
    "    if n <= 1:\n",
    "        return 1\n",
    "    \n",
    "    return n * factorial(n-1)"
   ]
  },
  {
   "cell_type": "code",
   "execution_count": 155,
   "metadata": {
    "collapsed": false
   },
   "outputs": [
    {
     "name": "stdout",
     "output_type": "stream",
     "text": [
      "The factorial of 3 is 6\n"
     ]
    }
   ],
   "source": [
    "n = 3\n",
    "res = factorial(n)\n",
    "print(\"The factorial of {} is {}\".format(n, res))"
   ]
  },
  {
   "cell_type": "code",
   "execution_count": 166,
   "metadata": {
    "collapsed": true
   },
   "outputs": [],
   "source": [
    "# fibonacci\n",
    "#1. n == 1 or n == 2 --> 1\n",
    "#2. v(n) == v(n-2) + v(n-1)\n",
    "\n",
    "def fibonacci(n):\n",
    "    # 탈출 조건\n",
    "    if n == 0 or n == 1:\n",
    "        return 1\n",
    "    return fibonacci(n-2) + fibonacci(n-1)"
   ]
  },
  {
   "cell_type": "code",
   "execution_count": 167,
   "metadata": {
    "collapsed": false
   },
   "outputs": [
    {
     "name": "stdout",
     "output_type": "stream",
     "text": [
      "i:0    |    fibonacci(0): 1\n",
      "i:1    |    fibonacci(1): 1\n",
      "i:2    |    fibonacci(2): 2\n",
      "i:3    |    fibonacci(3): 3\n",
      "i:4    |    fibonacci(4): 5\n",
      "i:5    |    fibonacci(5): 8\n",
      "i:6    |    fibonacci(6): 13\n",
      "i:7    |    fibonacci(7): 21\n",
      "i:8    |    fibonacci(8): 34\n",
      "i:9    |    fibonacci(9): 55\n"
     ]
    }
   ],
   "source": [
    "for i in range(10):\n",
    "    print(\"i:{}    |    fibonacci({}): {}\".format(i, i, fibonacci(i)))"
   ]
  },
  {
   "cell_type": "code",
   "execution_count": 168,
   "metadata": {
    "collapsed": true
   },
   "outputs": [],
   "source": [
    "# 가능하면 재귀쓰지 말자. 재귀는 주로 tree 돌아다닐 떄 하고 주로 while을 쓴다. "
   ]
  },
  {
   "cell_type": "code",
   "execution_count": 169,
   "metadata": {
    "collapsed": true
   },
   "outputs": [],
   "source": [
    "# recursive의 꽃 : Hanoi tower"
   ]
  },
  {
   "cell_type": "code",
   "execution_count": 11,
   "metadata": {
    "collapsed": false
   },
   "outputs": [],
   "source": [
    "# hanoi tower\n",
    "# n -> 쟁반 개수\n",
    "# 'A', 'B', 'C'\n",
    "# def hanoi(_from, _to, _by, n) \n",
    "def hanoi(_from, _by, _to, n):\n",
    "    #탈출 조건\n",
    "    if n == 1:\n",
    "        print(\"{} -> {}로 {}번째 쟁반 이동\".format(_from, _to, n))\n",
    "        return\n",
    "\n",
    "    hanoi(_from, _to, _by, n-1)\n",
    "    print(\"{} -> {}로 {}번째 쟁반 이동\".format(_from, _to, n))\n",
    "    hanoi(_by, _from, _to, n-1)"
   ]
  },
  {
   "cell_type": "code",
   "execution_count": null,
   "metadata": {
    "collapsed": false
   },
   "outputs": [
    {
     "name": "stdout",
     "output_type": "stream",
     "text": [
      "원반의 개수를 입력하세요!(종료 : 0):2\n",
      "A -> B로 1번째 쟁반 이동\n",
      "A -> C로 2번째 쟁반 이동\n",
      "B -> C로 1번째 쟁반 이동\n",
      "원반의 개수를 입력하세요!(종료 : 0):3\n",
      "A -> C로 1번째 쟁반 이동\n",
      "A -> B로 2번째 쟁반 이동\n",
      "C -> B로 1번째 쟁반 이동\n",
      "A -> C로 3번째 쟁반 이동\n",
      "B -> A로 1번째 쟁반 이동\n",
      "B -> C로 2번째 쟁반 이동\n",
      "A -> C로 1번째 쟁반 이동\n",
      "원반의 개수를 입력하세요!(종료 : 0):4\n",
      "A -> B로 1번째 쟁반 이동\n",
      "A -> C로 2번째 쟁반 이동\n",
      "B -> C로 1번째 쟁반 이동\n",
      "A -> B로 3번째 쟁반 이동\n",
      "C -> A로 1번째 쟁반 이동\n",
      "C -> B로 2번째 쟁반 이동\n",
      "A -> B로 1번째 쟁반 이동\n",
      "A -> C로 4번째 쟁반 이동\n",
      "B -> C로 1번째 쟁반 이동\n",
      "B -> A로 2번째 쟁반 이동\n",
      "C -> A로 1번째 쟁반 이동\n",
      "B -> C로 3번째 쟁반 이동\n",
      "A -> B로 1번째 쟁반 이동\n",
      "A -> C로 2번째 쟁반 이동\n",
      "B -> C로 1번째 쟁반 이동\n"
     ]
    }
   ],
   "source": [
    "while 1:\n",
    "    numOfTray = int(input(\"원반의 개수를 입력하세요!(종료 : 0):\"))\n",
    "    if numOfTray == 0:\n",
    "        break\n",
    "    hanoi('A', 'B', 'C', numOfTray)"
   ]
  },
  {
   "cell_type": "code",
   "execution_count": null,
   "metadata": {
    "collapsed": true
   },
   "outputs": [],
   "source": []
  },
  {
   "cell_type": "markdown",
   "metadata": {},
   "source": [
    "# Week 4 Day2"
   ]
  },
  {
   "cell_type": "code",
   "execution_count": 31,
   "metadata": {
    "collapsed": false
   },
   "outputs": [],
   "source": [
    "def binary_search(data, target):\n",
    "    # 첫번째 인덱스\n",
    "    start = 0\n",
    "    # 마지막 인덱스\n",
    "    end = len(data)-1\n",
    "    \n",
    "    while start <= end: #start가 end보다 커지면 나감\n",
    "        print(data)\n",
    "        print(\"start: %d\" % start )\n",
    "        print(\"end: %d\" % end )\n",
    "        print(\"start + end: %d\\n\" % (start + end))\n",
    "        mid = (start + end) // 2\n",
    "        print(\"mid: %d\" % mid)\n",
    "        if target == data[mid]:\n",
    "            return mid\n",
    "        elif target < data[mid]:\n",
    "            end = mid -1\n",
    "        else:\n",
    "            start = mid + 1\n",
    "            \n",
    "    return None"
   ]
  },
  {
   "cell_type": "code",
   "execution_count": 35,
   "metadata": {
    "collapsed": false
   },
   "outputs": [],
   "source": []
  },
  {
   "cell_type": "code",
   "execution_count": 36,
   "metadata": {
    "collapsed": false
   },
   "outputs": [
    {
     "data": {
      "text/plain": [
       "[0, 1, 4, 9, 16]"
      ]
     },
     "execution_count": 36,
     "metadata": {},
     "output_type": "execute_result"
    }
   ],
   "source": [
    "li = [i**2 for i in range(5)]\n",
    "\n",
    "li"
   ]
  },
  {
   "cell_type": "code",
   "execution_count": 37,
   "metadata": {
    "collapsed": false
   },
   "outputs": [
    {
     "ename": "TypeError",
     "evalue": "binary_search() takes exactly 4 arguments (2 given)",
     "output_type": "error",
     "traceback": [
      "\u001b[0;31m---------------------------------------------------------------------------\u001b[0m",
      "\u001b[0;31mTypeError\u001b[0m                                 Traceback (most recent call last)",
      "\u001b[0;32m<ipython-input-37-b033993cee54>\u001b[0m in \u001b[0;36m<module>\u001b[0;34m()\u001b[0m\n\u001b[1;32m      1\u001b[0m \u001b[0mtarget\u001b[0m \u001b[0;34m=\u001b[0m \u001b[0;36m9\u001b[0m\u001b[0;34m\u001b[0m\u001b[0m\n\u001b[0;32m----> 2\u001b[0;31m \u001b[0midx\u001b[0m \u001b[0;34m=\u001b[0m \u001b[0mbinary_search\u001b[0m\u001b[0;34m(\u001b[0m\u001b[0mli\u001b[0m\u001b[0;34m,\u001b[0m \u001b[0mtarget\u001b[0m\u001b[0;34m)\u001b[0m\u001b[0;34m\u001b[0m\u001b[0m\n\u001b[0m\u001b[1;32m      3\u001b[0m \u001b[0;32mif\u001b[0m \u001b[0midx\u001b[0m\u001b[0;34m:\u001b[0m\u001b[0;34m\u001b[0m\u001b[0m\n\u001b[1;32m      4\u001b[0m     \u001b[0;32mprint\u001b[0m\u001b[0;34m(\u001b[0m\u001b[0mli\u001b[0m\u001b[0;34m[\u001b[0m\u001b[0midx\u001b[0m\u001b[0;34m]\u001b[0m\u001b[0;34m)\u001b[0m\u001b[0;34m\u001b[0m\u001b[0m\n\u001b[1;32m      5\u001b[0m \u001b[0;32melse\u001b[0m\u001b[0;34m:\u001b[0m\u001b[0;34m\u001b[0m\u001b[0m\n",
      "\u001b[0;31mTypeError\u001b[0m: binary_search() takes exactly 4 arguments (2 given)"
     ]
    }
   ],
   "source": [
    "target = 9\n",
    "idx = binary_search(li, target)\n",
    "if idx:\n",
    "    print(li[idx])\n",
    "else:\n",
    "    print(\"there is no such data\")"
   ]
  },
  {
   "cell_type": "code",
   "execution_count": 52,
   "metadata": {
    "collapsed": false
   },
   "outputs": [
    {
     "name": "stdout",
     "output_type": "stream",
     "text": [
      "[1, 4, 9, 16, 25]\n",
      "start: 0\n",
      "end: 4\n",
      "start: 0\n",
      "end: 1\n",
      "start: 1\n",
      "end: 1\n",
      "start: 2\n",
      "end: 1\n",
      "7이 존재하지 않습니다\n"
     ]
    }
   ],
   "source": [
    "# recursion을 이용한 binary search\n",
    "def binary_search(data, target, start, end):\n",
    "    # 1. 탈출조건\n",
    "    print(\"start: %d\" %start)\n",
    "    print(\"end: %d\" %end)\n",
    "    if start > end:\n",
    "        return None\n",
    "    \n",
    "    mid = (start + end) // 2\n",
    "    \n",
    "    if target == data[mid]:\n",
    "        return mid\n",
    "    elif target < data[mid]:\n",
    "        end = mid -1\n",
    "    else:\n",
    "        start = mid + 1\n",
    "\n",
    "    return binary_search(data, target, start, end)\n",
    "\n",
    "\n",
    "if __name__ == \"__main__\":\n",
    "    data = [i**2 for i in range(1, 6)]\n",
    "    print(data)\n",
    "        \n",
    "    target = 7\n",
    "    start = 0\n",
    "    end = len(data) -1\n",
    "    \n",
    "    idx = binary_search(data, target, start, end)\n",
    "\n",
    "    if idx == None:\n",
    "        print(\"{}이 존재하지 않습니다\".format(target))\n",
    "    else:\n",
    "        print(\"찾는 데이터의 인덱스는 {}이고 데이터는 {} 입니다\".format(idx, data[idx]))"
   ]
  },
  {
   "cell_type": "code",
   "execution_count": 53,
   "metadata": {
    "collapsed": true
   },
   "outputs": [],
   "source": [
    "li = [i**2 for i in range(5)]"
   ]
  },
  {
   "cell_type": "code",
   "execution_count": null,
   "metadata": {
    "collapsed": true
   },
   "outputs": [],
   "source": []
  },
  {
   "cell_type": "code",
   "execution_count": 75,
   "metadata": {
    "collapsed": false
   },
   "outputs": [],
   "source": [
    "# n \n",
    "# sum = 1 + 2 + 3 + ... + n\n",
    "# n = 1 -> \n",
    "# sum_to_n(n) -> integer(sum)\n",
    "def sum_to_n(n):\n",
    "    # 탈출조건\n",
    "    if n == 1:\n",
    "        return 1\n",
    "\n",
    "    return sum_to_n(n-1) + n"
   ]
  },
  {
   "cell_type": "code",
   "execution_count": 76,
   "metadata": {
    "collapsed": false
   },
   "outputs": [
    {
     "name": "stdout",
     "output_type": "stream",
     "text": [
      "55\n"
     ]
    }
   ],
   "source": [
    "print(sum_to_n(10))"
   ]
  },
  {
   "cell_type": "code",
   "execution_count": 64,
   "metadata": {
    "collapsed": false
   },
   "outputs": [
    {
     "name": "stdout",
     "output_type": "stream",
     "text": [
      "500000500000\n"
     ]
    }
   ],
   "source": [
    "#인터뷰 문제 : 1에서 1,000,000까지의 합을 for문을 쓰지말고 구해라\n",
    "res = 0\n",
    "for i in range(1, 1000001):\n",
    "    res += i\n",
    "print(res)"
   ]
  },
  {
   "cell_type": "code",
   "execution_count": null,
   "metadata": {
    "collapsed": true
   },
   "outputs": [],
   "source": [
    "# 자료구조\n",
    "# recursion\n",
    "# 개발자에게 필요한 수학을 할 수 있는가?\n",
    "# 등차수열 -> 버블 소트의 빅오"
   ]
  },
  {
   "cell_type": "code",
   "execution_count": 78,
   "metadata": {
    "collapsed": false
   },
   "outputs": [
    {
     "name": "stdout",
     "output_type": "stream",
     "text": [
      "50000005000000\n"
     ]
    }
   ],
   "source": [
    "def sum_to_num(n):\n",
    "    return (n*(1+n))//2\n",
    "\n",
    "print(sum_to_num(10000000))"
   ]
  },
  {
   "cell_type": "markdown",
   "metadata": {},
   "source": [
    "# Linkded List"
   ]
  },
  {
   "cell_type": "code",
   "execution_count": null,
   "metadata": {
    "collapsed": true
   },
   "outputs": [],
   "source": [
    "# ADT (Abstarct Data Type)\n",
    "# 자료구조 - 저장, 탐색, 삭제\n",
    "\n",
    "# 자료구조 사용법\n",
    "# : 자료구조 목록 및 인터페이스만 알면 자료구조를 쓸 수 있다. \n",
    "\n",
    "# 자료구조 목록\n",
    "# L.add(data) -> none\n",
    "# L.trumverse(node 'next') -> data\n",
    "# 추상화 != 구현"
   ]
  },
  {
   "cell_type": "code",
   "execution_count": 86,
   "metadata": {
    "collapsed": true
   },
   "outputs": [],
   "source": [
    "# Linkedlist ADT 함수 설계 : search, delete\n",
    "# 1. 저장\n",
    "    #append(data) -> None : 데이터 저장의 역할을 함\n",
    "    \n",
    "# 2. empty() -> bool(비었으면 True, 비어있지않으면 False)\n",
    "\n",
    "# 3. 순회\n",
    "    #traverse(mode = 'next') -> data\n",
    "    # : O(n)\n",
    "    \n",
    "    #** array의 인덱싱 : array[1] 의 O(1) : 한번에 들어가기 떄문에\n",
    "    \n",
    "# 4. remove() -> data\n",
    "\n",
    "# 5. size() -> num.data"
   ]
  },
  {
   "cell_type": "code",
   "execution_count": 136,
   "metadata": {
    "collapsed": true
   },
   "outputs": [],
   "source": [
    "#노드 구현\n",
    "class Node:\n",
    "    def __init__(self, data):\n",
    "        self.data = data\n",
    "        self.next = None\n",
    "        \n",
    "    def __del__(self):\n",
    "        print(\"data of {} is deleted\".format(self.data))"
   ]
  },
  {
   "cell_type": "code",
   "execution_count": 2,
   "metadata": {
    "collapsed": false
   },
   "outputs": [],
   "source": [
    "# single linkedlist\n",
    "class LinkedList:\n",
    "    def __init__(self):\n",
    "        self.head = None\n",
    "        self.tail = None\n",
    "        \n",
    "        self.before = None\n",
    "        self.current = None\n",
    "        \n",
    "        # 데이터의 수\n",
    "        self.num_data = 0\n",
    "    \n",
    "    def empty(self):\n",
    "        if self.num_data == 0:\n",
    "            return True\n",
    "        else:\n",
    "            return False\n",
    "    \n",
    "    # linkedlist 의 데이터 수를 알려줌\n",
    "    def size(self):\n",
    "        return self.num_data\n",
    "    \n",
    "    def append(self, data):\n",
    "        new_node = Node(data) # 노드에 데이터를 넣기\n",
    "        \n",
    "        #비어있으면 data가 \n",
    "        if self.empty():\n",
    "            self.head = new_node\n",
    "            self.tail = new_node\n",
    "            self.num_data += 1\n",
    "        # 일반적인 경우    \n",
    "        else:\n",
    "            self.tail.next = new_node #tail에 new node를 붙여주기\n",
    "            self.tail = new_node # new node를 tail로\n",
    "            self.num_data += 1\n",
    "    \n",
    "    def traverse(self, mode = 'next'):\n",
    "        # 순회를 하면 무조건 처음부터 끝까지 다 돈다.\n",
    "        #유저는 퍼스트를 한번 돌린다는 가정을 했다.\n",
    "        if self.empty(): #traverse를 하려고 봤더니 비어있으면 none반환\n",
    "            return None\n",
    "        \n",
    "        if mode == 'first': #\n",
    "            self.before = self.head\n",
    "            self.current = self.head\n",
    "        else:\n",
    "            if self.current.next == None:\n",
    "                return None\n",
    "            \n",
    "            self.before = self.current\n",
    "            self.current = self.current.next\n",
    "            \n",
    "        return self.current.data\n",
    "    \n",
    "    def remove(self):\n",
    "        ret_data = self.current.data#1\n",
    "        \n",
    "        \n",
    "        #1. 데이터가 하나일 때     \n",
    "        if self.size() == 1:#2\n",
    "            self.head = None\n",
    "            self.tail = None\n",
    "            self.before = None\n",
    "            self.current = None\n",
    "        #2. current == head\n",
    "        elif self.current is self.head:#3\n",
    "            self.head = self.head.next\n",
    "            self.before = self.before.next\n",
    "            self.current = self.current.next\n",
    "        else:\n",
    "            #current == tail\n",
    "            if self.current is self.tail:#4\n",
    "                self.tail = self.before\n",
    "            #일반적인 경우 \n",
    "            self.before.next = self.current.next#5\n",
    "            self.current = self.before\n",
    "            \n",
    "        self.num_data -= 1\n",
    "        return ret_data#6\n",
    "    \n",
    "    "
   ]
  },
  {
   "cell_type": "code",
   "execution_count": 140,
   "metadata": {
    "collapsed": false
   },
   "outputs": [
    {
     "name": "stdout",
     "output_type": "stream",
     "text": [
      "2\n",
      "3\n",
      "1\n",
      "5\n",
      "2\n",
      "10\n",
      "7\n",
      "2\n"
     ]
    }
   ],
   "source": [
    "slist = LinkedList()\n",
    "slist.append(2)\n",
    "slist.append(3)\n",
    "slist.append(1)\n",
    "slist.append(5)\n",
    "slist.append(2)\n",
    "slist.append(10)\n",
    "slist.append(7)\n",
    "slist.append(2)\n",
    "\n",
    "# print(slist.head.data)\n",
    "# print(slist.tail.data)\n",
    "\n",
    "data = slist.traverse('first') # 유저가 traverse를 호출할 때는 반드시 first로 한다는 가정\n",
    "while data: #data가 있따면\n",
    "    print(data)\n",
    "    data = slist.traverse()"
   ]
  },
  {
   "cell_type": "code",
   "execution_count": null,
   "metadata": {
    "collapsed": false
   },
   "outputs": [],
   "source": [
    "class New_LL(LinkedList):\n",
    "    \n",
    "    def search(self, target):\n",
    "        data = self.traverse('first')\n",
    "        while data:\n",
    "            if target == data:\n",
    "                return data\n",
    "            else: \n",
    "                return \"no such data\"\n",
    "            \n",
    "            data = self.traverse()\n",
    "        return None\n",
    "    \n",
    "    #메서드 오버라이딩\n",
    "    # 리스트 내의 모든 target\n",
    "    def remove(self, target):\n",
    "        data = self.traverse('first')\n",
    "        while data:\n",
    "            if data == target:\n",
    "                super().remove()\n",
    "                break #하면 하나만 지워짐\n",
    "#             data = traverse()"
   ]
  },
  {
   "cell_type": "code",
   "execution_count": null,
   "metadata": {
    "collapsed": false
   },
   "outputs": [],
   "source": [
    "new_list = New_LL()\n",
    "new_list.append(3)\n",
    "new_list.append(4)\n",
    "new_list.append(7)\n",
    "new_list.append(8)\n",
    "\n",
    "new_list.remove(4)\n",
    "\n",
    "# print(new_list.search(6))\n",
    "# print(new_list.search(3))"
   ]
  },
  {
   "cell_type": "code",
   "execution_count": null,
   "metadata": {
    "collapsed": false
   },
   "outputs": [],
   "source": []
  },
  {
   "cell_type": "code",
   "execution_count": null,
   "metadata": {
    "collapsed": true
   },
   "outputs": [],
   "source": [
    "# dummy linkedlist\n",
    "\n",
    "https://github.com/ythwork/ComputerScienceSchool/blob/master/lecture/datastructure/linked_list/dummy_linked_list_python.pdf\n",
    "    "
   ]
  },
  {
   "cell_type": "code",
   "execution_count": null,
   "metadata": {
    "collapsed": true
   },
   "outputs": [],
   "source": []
  },
  {
   "cell_type": "code",
   "execution_count": null,
   "metadata": {
    "collapsed": true
   },
   "outputs": [],
   "source": []
  },
  {
   "cell_type": "markdown",
   "metadata": {},
   "source": [
    "# 2017/08/17"
   ]
  },
  {
   "cell_type": "markdown",
   "metadata": {},
   "source": [
    "   * linked list\n",
    "       * linked list extended\n",
    "   * stack\n",
    "   * queue\n",
    "   * calculator with stack"
   ]
  },
  {
   "cell_type": "code",
   "execution_count": 1,
   "metadata": {
    "collapsed": false
   },
   "outputs": [
    {
     "ename": "ImportError",
     "evalue": "No module named linked_list",
     "output_type": "error",
     "traceback": [
      "\u001b[0;31m---------------------------------------------------------------------------\u001b[0m",
      "\u001b[0;31mImportError\u001b[0m                               Traceback (most recent call last)",
      "\u001b[0;32m<ipython-input-1-b5f5f351f6d5>\u001b[0m in \u001b[0;36m<module>\u001b[0;34m()\u001b[0m\n\u001b[0;32m----> 1\u001b[0;31m \u001b[0;32mfrom\u001b[0m \u001b[0mlinked_list\u001b[0m \u001b[0;32mimport\u001b[0m \u001b[0;34m*\u001b[0m\u001b[0;34m\u001b[0m\u001b[0m\n\u001b[0m",
      "\u001b[0;31mImportError\u001b[0m: No module named linked_list"
     ]
    }
   ],
   "source": [
    "from linked_list import *"
   ]
  },
  {
   "cell_type": "code",
   "execution_count": null,
   "metadata": {
    "collapsed": true
   },
   "outputs": [],
   "source": []
  },
  {
   "cell_type": "code",
   "execution_count": null,
   "metadata": {
    "collapsed": true
   },
   "outputs": [],
   "source": []
  },
  {
   "cell_type": "markdown",
   "metadata": {},
   "source": [
    "# Stack"
   ]
  },
  {
   "cell_type": "code",
   "execution_count": null,
   "metadata": {
    "collapsed": true
   },
   "outputs": [],
   "source": [
    "# stack : 접시 쌓기  (LIFO)\n",
    "#     특징 : 맨 마지막에 들어간 게 먼저 나온다. (Last In first out)\n",
    "        "
   ]
  },
  {
   "cell_type": "markdown",
   "metadata": {},
   "source": [
    "# Queue"
   ]
  },
  {
   "cell_type": "code",
   "execution_count": 3,
   "metadata": {
    "collapsed": false
   },
   "outputs": [
    {
     "ename": "SyntaxError",
     "evalue": "invalid syntax (<ipython-input-3-eba32340522b>, line 1)",
     "output_type": "error",
     "traceback": [
      "\u001b[0;36m  File \u001b[0;32m\"<ipython-input-3-eba32340522b>\"\u001b[0;36m, line \u001b[0;32m1\u001b[0m\n\u001b[0;31m    queue (FIFO : 선입 선출)\u001b[0m\n\u001b[0m                ^\u001b[0m\n\u001b[0;31mSyntaxError\u001b[0m\u001b[0;31m:\u001b[0m invalid syntax\n"
     ]
    }
   ],
   "source": [
    "# queue (FIFO : 선입 선출)\n",
    "#     특징 : 맨 끝에다가 데이터를 추가하고 -> 먼저 들어온 사람 먼저하기\n",
    "#         넣는거 : inqueue\n",
    "#         꺼내는 것 : dequeue"
   ]
  },
  {
   "cell_type": "code",
   "execution_count": null,
   "metadata": {
    "collapsed": true
   },
   "outputs": [],
   "source": [
    "# stck .apt\n",
    "    1) push(data) -> None\n",
    "    2) pop() -> data # data를 삭제하면서 반환도 함\n",
    "    3) pick() -> data # data삭제를 하지 않고 맨 위 데이터 반환 (살펴보기))\n",
    "    4) entry()_ -> bool "
   ]
  },
  {
   "cell_type": "code",
   "execution_count": 7,
   "metadata": {
    "collapsed": true
   },
   "outputs": [],
   "source": [
    "class Stack(list):\n",
    "    push = list.append#1   \n",
    "    \n",
    "    def empty(self):#2\n",
    "        if not self:\n",
    "            return True\n",
    "        else:\n",
    "            return False\n",
    "\n",
    "    def peek(self):#3\n",
    "        return self[-1]"
   ]
  },
  {
   "cell_type": "code",
   "execution_count": 8,
   "metadata": {
    "collapsed": false
   },
   "outputs": [
    {
     "name": "stdout",
     "output_type": "stream",
     "text": [
      "5\n",
      "4\n",
      "3\n",
      "2\n",
      "1\n"
     ]
    }
   ],
   "source": [
    "if __name__ == \"__main__\":\n",
    "    s = Stack()\n",
    "    s.push(1)\n",
    "    s.push(2)\n",
    "    s.push(3)\n",
    "    s.push(4)\n",
    "    s.push(5)\n",
    "    \n",
    "    while not s.empty():\n",
    "        data = s.pop()\n",
    "        print(data)"
   ]
  },
  {
   "cell_type": "code",
   "execution_count": 4,
   "metadata": {
    "collapsed": true
   },
   "outputs": [],
   "source": [
    "class Queue(list):\n",
    "    enqueue = list.append\n",
    "    \n",
    "    def dequeue(self):#2\n",
    "        return self.pop(0)\n",
    "\n",
    "    def empty(self):#3\n",
    "        if not self:\n",
    "            return True\n",
    "        else:\n",
    "            return False\n",
    "\n",
    "    def peek(self):#4\n",
    "        return self[0]\n",
    "    \n",
    "    # empty\n",
    "    def empty(self):\n",
    "        if not self:\n",
    "            return True\n",
    "        else:\n",
    "            return False"
   ]
  },
  {
   "cell_type": "code",
   "execution_count": 6,
   "metadata": {
    "collapsed": false
   },
   "outputs": [
    {
     "name": "stdout",
     "output_type": "stream",
     "text": [
      "1\n",
      "2\n",
      "3\n",
      "4\n",
      "5\n"
     ]
    }
   ],
   "source": [
    "if __name__ == \"__main__\":\n",
    "    q = Queue()\n",
    "    q.enqueue(1)\n",
    "    q.enqueue(2)\n",
    "    q.enqueue(3)\n",
    "    q.enqueue(4)\n",
    "    q.enqueue(5)\n",
    "\n",
    "    while not q.empty():\n",
    "        print(q.dequeue())"
   ]
  },
  {
   "cell_type": "code",
   "execution_count": null,
   "metadata": {
    "collapsed": true
   },
   "outputs": [],
   "source": []
  }
 ],
 "metadata": {
  "kernelspec": {
   "display_name": "Python 2",
   "language": "python",
   "name": "python2"
  },
  "language_info": {
   "codemirror_mode": {
    "name": "ipython",
    "version": 2
   },
   "file_extension": ".py",
   "mimetype": "text/x-python",
   "name": "python",
   "nbconvert_exporter": "python",
   "pygments_lexer": "ipython2",
   "version": "2.7.13"
  }
 },
 "nbformat": 4,
 "nbformat_minor": 2
}
