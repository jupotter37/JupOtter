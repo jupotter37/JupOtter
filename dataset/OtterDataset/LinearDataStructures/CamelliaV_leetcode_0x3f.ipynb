{
 "cells": [
  {
   "cell_type": "code",
   "execution_count": 1,
   "metadata": {},
   "outputs": [],
   "source": [
    "from typing import List, Optional\n",
    "from collections import deque, defaultdict\n",
    "from bisect import bisect_left, bisect_right\n",
    "\n",
    "\n",
    "class ListNode:\n",
    "  def __init__(self, val=0, next=None):\n",
    "    self.val = val\n",
    "    self.next = next"
   ]
  },
  {
   "cell_type": "markdown",
   "metadata": {},
   "source": [
    "# [滑动窗口与双指针（定长/不定长/至多/至少/恰好/单序列/双序列/三指针）](https://leetcode.cn/circle/discuss/0viNMK/)"
   ]
  },
  {
   "cell_type": "markdown",
   "metadata": {},
   "source": [
    "## 一、定长滑动窗口"
   ]
  },
  {
   "cell_type": "markdown",
   "metadata": {},
   "source": [
    "定长滑窗套路：入-更新-出。\n",
    "\n",
    "- 入：下标为 $i$ 的元素进入窗口，更新相关统计量。如果 $i<k−1$ 则重复第一步。\n",
    "- 更新：更新答案。一般是更新最大值/最小值。\n",
    "- 出：下标为 $i−k+1$ 的元素离开窗口，更新相关统计量。\n",
    "\n",
    "以上三步适用于所有定长滑窗题目。"
   ]
  },
  {
   "cell_type": "markdown",
   "metadata": {},
   "source": [
    "### §1.1 基础"
   ]
  },
  {
   "cell_type": "markdown",
   "metadata": {},
   "source": [
    "1456. 定长子串中元音的最大数目"
   ]
  },
  {
   "cell_type": "code",
   "execution_count": 121,
   "metadata": {},
   "outputs": [],
   "source": [
    "\n",
    "# * √\n",
    "# * T(n) S(1)\n",
    "class Solution:\n",
    "  def maxVowels(self, s: str, k: int) -> int:\n",
    "    vowels = {'a', 'e', 'i', 'o', 'u'}\n",
    "    cnt = 0; res = 0\n",
    "    for i, c in enumerate(s):\n",
    "      # * 入窗\n",
    "      cnt += c in vowels\n",
    "      # * 不到k跳过\n",
    "      if i < k - 1: continue\n",
    "      # * 刚好为k(下标>= k - 1)时开始滑窗的逻辑\n",
    "      # * 入后更新，然后出\n",
    "      \n",
    "      # * 更新\n",
    "      res = max(res, cnt)\n",
    "      # * 出\n",
    "      cnt -= s[i - k + 1] in vowels\n",
    "    return res"
   ]
  },
  {
   "cell_type": "markdown",
   "metadata": {},
   "source": [
    "643. 子数组最大平均数 I"
   ]
  },
  {
   "cell_type": "code",
   "execution_count": 122,
   "metadata": {},
   "outputs": [],
   "source": [
    "\n",
    "# * T(n) S(1)\n",
    "class Solution:\n",
    "  def findMaxAverage(self, nums: List[int], k: int) -> float:\n",
    "    sum_ = 0; res = -inf\n",
    "    for i, v in enumerate(nums):\n",
    "      sum_ += v\n",
    "      \n",
    "      if i < k - 1: continue\n",
    "      res = max(res, sum_ / k)\n",
    "      \n",
    "      sum_ -= nums[i - k + 1]\n",
    "    return res    "
   ]
  },
  {
   "cell_type": "markdown",
   "metadata": {},
   "source": [
    "1343. 大小为 K 且平均值大于等于阈值的子数组数目"
   ]
  },
  {
   "cell_type": "code",
   "execution_count": 123,
   "metadata": {},
   "outputs": [],
   "source": [
    "\n",
    "# * T(n) S(1)\n",
    "class Solution:\n",
    "  def numOfSubarrays(self, arr: List[int], k: int, threshold: int) -> int:\n",
    "    sum_ = 0; res = 0\n",
    "    for i, v in enumerate(arr):\n",
    "      sum_ += v\n",
    "      \n",
    "      if i < k - 1: continue\n",
    "      if sum_ / k >= threshold: res += 1\n",
    "      \n",
    "      sum_ -= arr[i - k + 1]\n",
    "    return res     "
   ]
  },
  {
   "cell_type": "markdown",
   "metadata": {},
   "source": [
    "2090. 半径为 k 的子数组平均值"
   ]
  },
  {
   "cell_type": "code",
   "execution_count": 124,
   "metadata": {},
   "outputs": [],
   "source": [
    "\n",
    "# * T(n) S(1)\n",
    "class Solution:\n",
    "  def getAverages(self, nums: List[int], k: int) -> List[int]:\n",
    "    n = len(nums)\n",
    "    res = [-1] * n\n",
    "    sum_ = 0\n",
    "    k = 2 * k + 1\n",
    "    for i, v in enumerate(nums):\n",
    "      sum_ += v\n",
    "      \n",
    "      if i < k - 1: continue\n",
    "      res[i - (k - 1) // 2] = max(res[i], sum_ // k)\n",
    "      \n",
    "      sum_ -= nums[i - k + 1]\n",
    "    \n",
    "    return res"
   ]
  },
  {
   "cell_type": "markdown",
   "metadata": {},
   "source": [
    "2379. 得到 K 个黑块的最少涂色次数"
   ]
  },
  {
   "cell_type": "code",
   "execution_count": 125,
   "metadata": {},
   "outputs": [],
   "source": [
    "\n",
    "# * T(n) S(1)\n",
    "class Solution:\n",
    "  def minimumRecolors(self, blocks: str, k: int) -> int:\n",
    "    n = len(blocks)\n",
    "    cnt = 0; res = n\n",
    "    for i, v in enumerate(blocks):\n",
    "      cnt += v == 'W'\n",
    "      if i < k - 1: continue\n",
    "      res = min(res, cnt)\n",
    "      cnt -= blocks[i - k + 1] == 'W'\n",
    "    return res     "
   ]
  },
  {
   "cell_type": "markdown",
   "metadata": {},
   "source": [
    "1052. 爱生气的书店老板"
   ]
  },
  {
   "cell_type": "code",
   "execution_count": 126,
   "metadata": {},
   "outputs": [],
   "source": [
    "\n",
    "# * T(n) S(n)\n",
    "class Solution:\n",
    "  def maxSatisfied(self, customers: List[int], grumpy: List[int], minutes: int) -> int:\n",
    "    # * 一位前缀和 + 定长minutes滑窗\n",
    "    n = len(customers)\n",
    "    # * 也可以n，python可以逆序访问\n",
    "    # * 意味着pre[0] = pre[-1] + ...\n",
    "    # * pre[-1]总会是还未访问过的\n",
    "    # * 要么是遥远的最右端，要么是还未修改的自己\n",
    "    pre = [0] * (n + 1)\n",
    "    for i, (u, v) in enumerate(zip(customers, grumpy)):\n",
    "      # * 0时有效，取反乘入\n",
    "      pre[i + 1] = pre[i] + u * (not v)\n",
    "    sum_ = 0; res = 0\n",
    "    for i, v in enumerate(customers):\n",
    "      sum_ += v\n",
    "      if i < minutes - 1: continue\n",
    "      # * 1开始，两个下标都加1\n",
    "      # * i - k + 1是左元素下标\n",
    "      # * 前缀和退一步，下标偏移再加回来一步\n",
    "      l = pre[i - minutes + 1]\n",
    "      # * 当前已在退格出，补加1偏移\n",
    "      r = pre[-1] - pre[i + 1]\n",
    "      res = max(res, sum_ + l + r)\n",
    "      sum_ -= customers[i - minutes + 1]\n",
    "    return res"
   ]
  },
  {
   "cell_type": "markdown",
   "metadata": {},
   "source": [
    "1461. 检查一个字符串是否包含所有长度为 K 的二进制子串"
   ]
  },
  {
   "cell_type": "code",
   "execution_count": 127,
   "metadata": {},
   "outputs": [],
   "source": [
    "\n",
    "# * T(n) [不计字符串构造] S(2^k) [m中元素个数，辅助队列大小不超过k，不占主导]\n",
    "class Solution:\n",
    "  def hasAllCodes(self, s: str, k: int) -> bool:\n",
    "    # * 记录已经找到的种类，只要数量够就行\n",
    "    m = {}\n",
    "    sub = deque([])\n",
    "    for i, v in enumerate(s):\n",
    "      sub.append(v)\n",
    "      if i < k - 1: continue\n",
    "      m[''.join(sub)] = 1\n",
    "      sub.popleft()\n",
    "    \n",
    "    return len(m) == 2 ** k"
   ]
  },
  {
   "cell_type": "markdown",
   "metadata": {},
   "source": [
    "2841. 几乎唯一子数组的最大和"
   ]
  },
  {
   "cell_type": "code",
   "execution_count": 128,
   "metadata": {},
   "outputs": [
    {
     "data": {
      "text/plain": [
       "1"
      ]
     },
     "execution_count": 128,
     "metadata": {},
     "output_type": "execute_result"
    }
   ],
   "source": [
    "m = {'a': 1}; len(m)\n",
    "m['a'] = 0; len(m)"
   ]
  },
  {
   "cell_type": "code",
   "execution_count": 129,
   "metadata": {},
   "outputs": [],
   "source": [
    "\n",
    "# * T(n) S(min(m, k))\n",
    "class Solution:\n",
    "  def maxSum(self, nums: List[int], m: int, k: int) -> int:\n",
    "    d = defaultdict(int); sum_ = 0; res = 0\n",
    "    for i, v in enumerate(nums):\n",
    "      d[v] += 1\n",
    "      sum_ += v\n",
    "      if i < k - 1: continue\n",
    "      # * m个不同\n",
    "      if len(d) >= m:\n",
    "        res = max(res, sum_)\n",
    "      # * 删除一次（集合不能用于多次删，所以用字典）\n",
    "      d[nums[i - k + 1]] -= 1\n",
    "      # * 删完移除键\n",
    "      if d[nums[i - k + 1]] == 0: del d[nums[i - k + 1]]\n",
    "      sum_ -= nums[i - k + 1]\n",
    "    return res"
   ]
  },
  {
   "cell_type": "markdown",
   "metadata": {},
   "source": [
    "2461. 长度为 K 子数组中的最大和"
   ]
  },
  {
   "cell_type": "code",
   "execution_count": 130,
   "metadata": {},
   "outputs": [],
   "source": [
    "\n",
    "# * T(n) S(k)\n",
    "class Solution:\n",
    "  def maximumSubarraySum(self, nums: List[int], k: int) -> int:\n",
    "    d = defaultdict(int); sum_ = 0; res = 0\n",
    "    for i, v in enumerate(nums):\n",
    "      sum_ += v\n",
    "      d[v] += 1\n",
    "      if i < k - 1: continue\n",
    "      if len(d) == k: res = max(res, sum_)\n",
    "      d[nums[i - k + 1]] -= 1\n",
    "      if d[nums[i - k + 1]] == 0: del d[nums[i - k + 1]]\n",
    "      sum_ -= nums[i - k + 1]\n",
    "    return res"
   ]
  },
  {
   "cell_type": "markdown",
   "metadata": {},
   "source": [
    "1423. 可获得的最大点数"
   ]
  },
  {
   "cell_type": "code",
   "execution_count": 131,
   "metadata": {},
   "outputs": [],
   "source": [
    "\n",
    "# * T(k) S(1)\n",
    "class Solution:\n",
    "  def maxScore(self, cardPoints: List[int], k: int) -> int:\n",
    "    # * 要么左要么右，很容易想到二者有效部分拼接\n",
    "    # * 拼完后前半表示选右个数，后半选左个数\n",
    "    # * 全部为有效选择，可以直接滑窗\n",
    "    seq = cardPoints[-k:] + cardPoints[:k]\n",
    "    sum_ = 0; res = 0\n",
    "    for i, v in enumerate(seq):\n",
    "      sum_ += v\n",
    "      if i < k - 1: continue\n",
    "      res = max(res, sum_)\n",
    "      sum_ -= seq[i - k + 1]      \n",
    "    return res"
   ]
  },
  {
   "cell_type": "markdown",
   "metadata": {},
   "source": [
    "1652. 拆炸弹"
   ]
  },
  {
   "cell_type": "code",
   "execution_count": 132,
   "metadata": {},
   "outputs": [
    {
     "data": {
      "text/plain": [
       "(2, 1, 0)"
      ]
     },
     "execution_count": 132,
     "metadata": {},
     "output_type": "execute_result"
    }
   ],
   "source": [
    "(-2) % 4, ((-3) + 4) % 4, 1 % 1"
   ]
  },
  {
   "cell_type": "code",
   "execution_count": 133,
   "metadata": {},
   "outputs": [
    {
     "data": {
      "text/plain": [
       "[12, 5, 6, 13]"
      ]
     },
     "execution_count": 133,
     "metadata": {},
     "output_type": "execute_result"
    }
   ],
   "source": [
    "\n",
    "# * T(n) S(1) 不计构造答案\n",
    "from typing import List\n",
    "class Solution:\n",
    "  def decrypt(self, code: List[int], k: int) -> List[int]:\n",
    "    n = len(code)\n",
    "    if k == 0: return [0] * n\n",
    "    sum_ = 0; res = []; \n",
    "    # * l, r 确定滑窗左右起始边界\n",
    "    if k < 0:\n",
    "      l = (-1 + k + 1) % n\n",
    "      r = (-1) % n\n",
    "    if k > 0:\n",
    "      l = 1 % n\n",
    "      r = (l + k - 1) % n\n",
    "    # * 统计初始窗口和，由于循环数组，可能l在r右侧，手动统计\n",
    "    i = l\n",
    "    # * 不能取等，由于取模，可能陷入死循环\n",
    "    # * n = 4， i % n = 3， r = 3,\n",
    "    # * 进行后 i % n = 0\n",
    "    while i % n < r:\n",
    "      sum_ += code[i % n]\n",
    "      i += 1\n",
    "    # * 补上r处值\n",
    "    sum_ += code[r]\n",
    "    # * 第一个窗口和\n",
    "    res.append(sum_)\n",
    "    # * 构造完全部答案前循环\n",
    "    while len(res) != n:\n",
    "      # * 入\n",
    "      r = (r + 1) % n\n",
    "      sum_ += code[r]\n",
    "      # * 出\n",
    "      sum_ -= code[l]\n",
    "      l = (l + 1) % n\n",
    "      # * 构造答案\n",
    "      res.append(sum_)\n",
    "    return res\n",
    "Solution().decrypt([2,4,9,3], -2)"
   ]
  },
  {
   "cell_type": "markdown",
   "metadata": {},
   "source": [
    "1297. 子串的最大出现次数"
   ]
  },
  {
   "cell_type": "code",
   "execution_count": 134,
   "metadata": {},
   "outputs": [
    {
     "data": {
      "text/plain": [
       "2"
      ]
     },
     "execution_count": 134,
     "metadata": {},
     "output_type": "execute_result"
    }
   ],
   "source": [
    "\n",
    "# * T(n^2) S(?)\n",
    "class Solution:\n",
    "  def maxFreq(self, s: str, maxLetters: int, minSize: int, maxSize: int) -> int:\n",
    "    m1 = defaultdict(int)\n",
    "    sub1 = deque([])\n",
    "    d = defaultdict(int)\n",
    "    # * 双重滑窗\n",
    "    for i, v in enumerate(s):\n",
    "      sub1.append(v)\n",
    "      m1[v] += 1\n",
    "      if i < minSize - 1: continue\n",
    "      if len(m1) <= maxLetters: d[''.join(sub1)] += 1\n",
    "      m2 = m1.copy()\n",
    "      sub2 = sub1.copy()\n",
    "      for j in range(i + 1, min(i + maxSize - minSize + 1, len(s))):\n",
    "        sub2.append(s[j])\n",
    "        m2[s[j]] += 1\n",
    "        if len(m2) > maxLetters: break\n",
    "        d[''.join(sub2)] += 1\n",
    "      v = sub1.popleft()\n",
    "      m1[v] -= 1\n",
    "      if m1[v] == 0: del m1[v]\n",
    "    return max((d.values()), default=0)\n",
    "# Solution().maxFreq(\"abcabababacabcabc\", 3, 3, 10)\n",
    "Solution().maxFreq(\"aababcaab\", 2, 3, 4)"
   ]
  },
  {
   "cell_type": "markdown",
   "metadata": {},
   "source": [
    "# 二分算法（二分答案/最小化最大值/最大化最小值/第K小）"
   ]
  },
  {
   "cell_type": "markdown",
   "metadata": {},
   "source": [
    "## 二分查找"
   ]
  },
  {
   "cell_type": "markdown",
   "metadata": {},
   "source": [
    "开区间写法，结果r为第一个>=的下标"
   ]
  },
  {
   "cell_type": "markdown",
   "metadata": {},
   "source": [
    "34. 在排序数组中查找元素的第一个和最后一个位置"
   ]
  },
  {
   "cell_type": "code",
   "execution_count": 135,
   "metadata": {},
   "outputs": [],
   "source": [
    "\n",
    "# * 标准库写法\n",
    "# * T(logn) S(1)\n",
    "class Solution:\n",
    "  def searchRange(self, nums: List[int], target: int) -> List[int]:\n",
    "    l = bisect_left(nums, target)\n",
    "    r = bisect_right(nums, target)\n",
    "    if l == r: return [-1, -1] # * 相等说明不在数组，插入左边界与右边界等同\n",
    "    return [l, r - 1]"
   ]
  },
  {
   "cell_type": "code",
   "execution_count": 136,
   "metadata": {},
   "outputs": [],
   "source": [
    "\n",
    "# * 标准库思想\n",
    "# * T(logn) S(1)\n",
    "class Solution:\n",
    "  def searchRange(self, nums: List[int], target: int) -> List[int]:\n",
    "    # * [[>= target], [>= target + 1] - 1]\n",
    "    def bsearch(nums, target):\n",
    "      l, r = -1, len(nums)\n",
    "      while l + 1 < r:\n",
    "        m = (l + r) >> 1\n",
    "        if nums[m] < target: l = m\n",
    "        else: r = m\n",
    "      return r\n",
    "    l = bsearch(nums, target)\n",
    "    r = bsearch(nums, target + 1)\n",
    "    if l == r: return [-1, -1]\n",
    "    return [l, r - 1]"
   ]
  },
  {
   "cell_type": "markdown",
   "metadata": {},
   "source": [
    "35. 搜索插入位置"
   ]
  },
  {
   "cell_type": "code",
   "execution_count": 137,
   "metadata": {},
   "outputs": [],
   "source": [
    "\n",
    "# * T(logn) S(1)\n",
    "class Solution:\n",
    "  def searchInsert(self, nums: List[int], target: int) -> int:\n",
    "    # * bisect_left\n",
    "    l, r = -1, len(nums) \n",
    "    while l + 1 < r:\n",
    "      m = (l + r) >> 1\n",
    "      if nums[m] < target: l = m\n",
    "      else: r = m\n",
    "    return r"
   ]
  },
  {
   "cell_type": "markdown",
   "metadata": {},
   "source": [
    "704. 二分查找"
   ]
  },
  {
   "cell_type": "code",
   "execution_count": 138,
   "metadata": {},
   "outputs": [],
   "source": [
    "\n",
    "# * T(logn) S(1)\n",
    "class Solution:\n",
    "  def search(self, nums: List[int], target: int) -> int:\n",
    "    # * 找的是>=，可能不等于target，返回值范围[0, n]\n",
    "    # * 不存在-> [r] != target / r == n\n",
    "    n = len(nums)\n",
    "    l, r = -1, n\n",
    "    while l + 1 < r:\n",
    "      m = (l + r) >> 1\n",
    "      if nums[m] < target: l = m\n",
    "      else: r = m\n",
    "    return r if r != n and nums[r] == target else -1"
   ]
  },
  {
   "cell_type": "markdown",
   "metadata": {},
   "source": [
    "744. 寻找比目标字母大的最小字母"
   ]
  },
  {
   "cell_type": "code",
   "execution_count": 139,
   "metadata": {},
   "outputs": [],
   "source": [
    "\n",
    "# * T(logn) S(1)\n",
    "class Solution:\n",
    "  def nextGreatestLetter(self, letters: List[str], target: str) -> str:\n",
    "    n = len(letters)\n",
    "    l, r = -1, n\n",
    "    # * [> target] = [>= target + 1]\n",
    "    while l + 1 < r:\n",
    "      m = (l + r) >> 1\n",
    "      if ord(letters[m]) < ord(target) + 1: l = m\n",
    "      else: r = m\n",
    "    return letters[r] if r != n else letters[0]"
   ]
  },
  {
   "cell_type": "markdown",
   "metadata": {},
   "source": [
    "2529. 正整数和负整数的最大计数"
   ]
  },
  {
   "cell_type": "code",
   "execution_count": 140,
   "metadata": {},
   "outputs": [],
   "source": [
    "\n",
    "# * T(logn) S(1)\n",
    "class Solution:\n",
    "  def maximumCount(self, nums: List[int]) -> int:\n",
    "    # * 由于不包括0 neg + pos可能 < n\n",
    "    # * neg: [<0] = [>=0] - 1\n",
    "    # * pos: [>=1]\n",
    "    def bsearch(nums, target):\n",
    "      l, r = -1, len(nums)\n",
    "      while l + 1 < r:\n",
    "        m = (l + r) >> 1\n",
    "        if nums[m] < target: l = m\n",
    "        else: r = m\n",
    "      return r\n",
    "    # * 下标\n",
    "    neg = bsearch(nums, 0) - 1\n",
    "    pos = bsearch(nums, 1)\n",
    "    # * 负下标左起，+1得长度，正下标右边算，开区间n - 闭区间下标pos得长度\n",
    "    return max(neg + 1, len(nums) - pos)"
   ]
  },
  {
   "cell_type": "markdown",
   "metadata": {},
   "source": [
    "1385. 两个数组间的距离值"
   ]
  },
  {
   "cell_type": "code",
   "execution_count": 141,
   "metadata": {},
   "outputs": [],
   "source": [
    "\n",
    "# * T(mlogm + nlogm) 排序arr2 + arr1逐元素二分 S(1)\n",
    "class Solution:\n",
    "  def findTheDistanceValue(self, arr1: List[int], arr2: List[int], d: int) -> int:\n",
    "    # * 对arr[i]，每次在arr2中寻找其d领域外的元素，即\n",
    "    # * 领域内需要同时满足边界两边约束，不便于二分\n",
    "    # * [< [i] - d] = [>= [i] - d] - 1\n",
    "    # * [> [i] + d] = [>= [i] + d + 1]\n",
    "    # * 二者元素数量和 == len(arr2)，结果集+1\n",
    "    res = 0\n",
    "    arr2.sort()\n",
    "    n, m = len(arr1), len(arr2)\n",
    "    def bsearch(nums, target):\n",
    "      l, r = -1, len(nums)\n",
    "      while l + 1 < r:\n",
    "        m = (l + r) >> 1\n",
    "        if nums[m] < target: l = m\n",
    "        else: r = m\n",
    "      return r\n",
    "    for v in arr1:\n",
    "      l = bsearch(arr2, v - d) - 1\n",
    "      r = bsearch(arr2, v + d + 1)\n",
    "      if l + 1 + m - r == m: res += 1\n",
    "    return res"
   ]
  },
  {
   "cell_type": "code",
   "execution_count": 142,
   "metadata": {},
   "outputs": [
    {
     "data": {
      "text/plain": [
       "0"
      ]
     },
     "execution_count": 142,
     "metadata": {},
     "output_type": "execute_result"
    }
   ],
   "source": [
    "\n",
    "# TODO: 降序/非升序的插入位置查找\n",
    "bisect_left([1, 2, 3], 4)\n",
    "arr = [*reversed([1, 2, 3])]\n",
    "[3, 2, 1]\n",
    "bisect_left(arr, 4)\n",
    "bisect_left(arr, 0)"
   ]
  },
  {
   "cell_type": "markdown",
   "metadata": {},
   "source": [
    "2300. 咒语和药水的成功对数"
   ]
  },
  {
   "cell_type": "code",
   "execution_count": 143,
   "metadata": {},
   "outputs": [],
   "source": [
    "class Solution:\n",
    "  def successfulPairs(self, spells: List[int], potions: List[int], success: int) -> List[int]:\n",
    "    # * 要使spells[i] * potions[j] >= success\n",
    "    # * 只需在potions排序后二分找 potions[j] >= upper(success / spells[i])\n",
    "    potions.sort()\n",
    "    n, m = len(spells), len(potions)\n",
    "    def bsearch(nums, target):\n",
    "      l, r = -1, len(nums)\n",
    "      while l + 1 < r:\n",
    "        m = (l + r) >> 1\n",
    "        if nums[m] < target: l = m\n",
    "        else: r = m\n",
    "      return r\n",
    "    for i, v in enumerate(spells):\n",
    "      # * 向上取整\n",
    "      spells[i] = m - bsearch(potions, (success // v) + (success % v > 0))\n",
    "    return spells   "
   ]
  },
  {
   "cell_type": "markdown",
   "metadata": {},
   "source": [
    "# 单调栈（矩形面积/贡献法/最小字典序）"
   ]
  },
  {
   "cell_type": "markdown",
   "metadata": {},
   "source": [
    "## 单调栈"
   ]
  },
  {
   "cell_type": "markdown",
   "metadata": {},
   "source": [
    "739. 每日温度"
   ]
  },
  {
   "cell_type": "code",
   "execution_count": 144,
   "metadata": {},
   "outputs": [],
   "source": [
    "class Solution:\n",
    "  def dailyTemperatures(self, temperatures: List[int]) -> List[int]:\n",
    "    st = []; res = [0] * len(temperatures)\n",
    "    for j, v in enumerate(temperatures):\n",
    "      while st and temperatures[st[-1]] < v:\n",
    "        i = st.pop()\n",
    "        res[i] = j - i\n",
    "      st.append(j)\n",
    "    return res   "
   ]
  },
  {
   "cell_type": "markdown",
   "metadata": {},
   "source": [
    "1475. 商品折扣后的最终价格"
   ]
  },
  {
   "cell_type": "code",
   "execution_count": 145,
   "metadata": {},
   "outputs": [],
   "source": [
    "class Solution:\n",
    "  def finalPrices(self, prices: List[int]) -> List[int]:\n",
    "    st = []\n",
    "    for j, v in enumerate(prices):\n",
    "      while st and prices[st[-1]] >= v:\n",
    "        i = st.pop()\n",
    "        prices[i] -= prices[j]\n",
    "      st.append(j)\n",
    "    return prices"
   ]
  },
  {
   "cell_type": "markdown",
   "metadata": {},
   "source": [
    "496. 下一个更大元素 I"
   ]
  },
  {
   "cell_type": "code",
   "execution_count": 146,
   "metadata": {},
   "outputs": [],
   "source": [
    "class Solution:\n",
    "  def nextGreaterElement(self, nums1: List[int], nums2: List[int]) -> List[int]:\n",
    "    m = {v: -1 for v in nums1}; st = []\n",
    "    for j, v in enumerate(nums2):\n",
    "      while st and nums2[st[-1]] < v:\n",
    "        i = st.pop(); \n",
    "        if nums2[i] in m: m[nums2[i]] = v\n",
    "      st.append(j)\n",
    "    return [m[v] for v in nums1]"
   ]
  },
  {
   "cell_type": "markdown",
   "metadata": {},
   "source": [
    "503. 下一个更大元素 II"
   ]
  },
  {
   "cell_type": "code",
   "execution_count": 147,
   "metadata": {},
   "outputs": [],
   "source": [
    "class Solution:\n",
    "  def nextGreaterElements(self, nums: List[int]) -> List[int]:\n",
    "    n = len(nums); st = []; res = [-1] * n\n",
    "    for j in range(2 * n):\n",
    "      while st and nums[st[-1]] < nums[j % n]:\n",
    "        i = st.pop(); res[i] = nums[j % n]\n",
    "      st.append(j % n)\n",
    "    return res"
   ]
  },
  {
   "cell_type": "markdown",
   "metadata": {},
   "source": [
    "1019. 链表中的下一个更大节点"
   ]
  },
  {
   "cell_type": "code",
   "execution_count": 148,
   "metadata": {},
   "outputs": [],
   "source": [
    "# Definition for singly-linked list.\n",
    "# class ListNode:\n",
    "#     def __init__(self, val=0, next=None):\n",
    "#         self.val = val\n",
    "#         self.next = next\n",
    "class Solution:\n",
    "  def nextLargerNodes(self, head: Optional[ListNode]) -> List[int]:\n",
    "    cur = head; n = 0\n",
    "    while cur: cur = cur.next; n += 1\n",
    "    res = [0] * n; st = []; cur = head; j = 0\n",
    "    for j in range(n):\n",
    "      while st and st[-1][1] < cur.val:\n",
    "        res[st.pop()[0]] = cur.val\n",
    "      st.append((j, cur.val))\n",
    "      cur = cur.next\n",
    "    return res"
   ]
  },
  {
   "cell_type": "markdown",
   "metadata": {},
   "source": [
    "962. 最大宽度坡"
   ]
  },
  {
   "cell_type": "code",
   "execution_count": 149,
   "metadata": {},
   "outputs": [],
   "source": [
    "\n",
    "# !  ERROR\n",
    "class Solution:\n",
    "  def maxWidthRamp(self, nums: List[int]) -> int:\n",
    "    res = [0] * len(nums); st = []\n",
    "    for j, v in enumerate(nums):\n",
    "      while st and nums[st[-1]] <= v:\n",
    "        res[st.pop()] = j\n",
    "      st.append(j)\n",
    "    ma = -1; mi = inf; mii = 0\n",
    "    for j, v in enumerate(res):\n",
    "      ma = max(ma, v)\n",
    "      if v < mi and v != 0:\n",
    "        mi = v\n",
    "        mii = j\n",
    "    return ma - mii\n",
    "    # [2, 5, 0, 5, 5, 0]\n",
    "    # [5, 5, 4, 4, 9, 0, 8, 8, 0, 0]"
   ]
  },
  {
   "cell_type": "code",
   "execution_count": 150,
   "metadata": {},
   "outputs": [],
   "source": [
    "\n",
    "# ! TE\n",
    "class Solution:\n",
    "  def maxWidthRamp(self, nums: List[int]) -> int:\n",
    "    res = 0\n",
    "    for i, v in enumerate(nums):\n",
    "      for j in range(len(nums) - 1, i, -1):\n",
    "        if nums[j] >= v:\n",
    "          res = max(res, j - i)\n",
    "    return res"
   ]
  },
  {
   "cell_type": "code",
   "execution_count": 151,
   "metadata": {},
   "outputs": [],
   "source": [
    "\n",
    "# * √\n",
    "# * T(n) S(n)\n",
    "class Solution:\n",
    "  def maxWidthRamp(self, nums: List[int]) -> int:\n",
    "    # * 对于之前的题目都是求最近的下一个更大\n",
    "    # * 现在改为求最远的下一个最大\n",
    "    # * 仅添加仍未求出且可能为答案的左下标\n",
    "    # * 然后枚举右下标计算答案\n",
    "    res = 0; st = []\n",
    "    for i, v in enumerate(nums):\n",
    "      if not st or nums[st[-1]] > v: # * 靠右只有更小的数才可能为答案\n",
    "        st.append(i)\n",
    "    for j in range(len(nums) - 1, -1, -1):\n",
    "      if j < res: break\n",
    "      while st and nums[st[-1]] <= nums[j]:\n",
    "        res = max(res, j - st.pop())\n",
    "    return res"
   ]
  },
  {
   "cell_type": "markdown",
   "metadata": {},
   "source": [
    "853. 车队"
   ]
  },
  {
   "cell_type": "code",
   "execution_count": 152,
   "metadata": {},
   "outputs": [],
   "source": [
    "\n",
    "# ! WA\n",
    "# * 循环找到下一个最大，找到并入同一集合，修改出栈位置到达时间\n",
    "class Solution:\n",
    "  def carFleet(self, target: int, position: List[int], speed: List[int]) -> int:\n",
    "    arrives = [((target - p) // s) + ((target - p) % s > 0) for p, s in zip(position, speed)]\n",
    "    n = len(position)\n",
    "    father = [i for i in range(n)]\n",
    "    def find(u):\n",
    "      if u != father[u]:\n",
    "        father[u] = find(father[u])\n",
    "      return father[u]\n",
    "    def join(u, v):\n",
    "      u = find(u)\n",
    "      v = find(v)\n",
    "      if u != v: father[v] = u\n",
    "    st = []\n",
    "    for j in range(2 * n):\n",
    "      while st and arrives[st[-1]] >= arrives[j % n] and speed[st[-1]] <= speed[j % n] and position[st[-1]] >= position[j % n]:\n",
    "        i = st.pop()\n",
    "        join(i, j % n)\n",
    "        arrives[i] = arrives[j % n]\n",
    "      st.append(j % n)\n",
    "    res = 0\n",
    "    for i, v in enumerate(father):\n",
    "      if v == i: res += 1\n",
    "    return res"
   ]
  },
  {
   "cell_type": "code",
   "execution_count": 153,
   "metadata": {},
   "outputs": [],
   "source": [
    "\n",
    "# * T(nlogn) 排序主导 S(n)\n",
    "class Solution:\n",
    "  def carFleet(self, target: int, position: List[int], speed: List[int]) -> int:\n",
    "    arrives = [((target - p) / s) for p, s in sorted(zip(position, speed))]\n",
    "    st = []\n",
    "    for v in arrives:\n",
    "      while st and st[-1] <= v:\n",
    "        st.pop()\n",
    "      st.append(v)\n",
    "    return len(st)"
   ]
  },
  {
   "cell_type": "markdown",
   "metadata": {},
   "source": []
  },
  {
   "cell_type": "code",
   "execution_count": null,
   "metadata": {},
   "outputs": [],
   "source": []
  },
  {
   "cell_type": "markdown",
   "metadata": {},
   "source": [
    "# 图论算法"
   ]
  },
  {
   "cell_type": "markdown",
   "metadata": {},
   "source": [
    "## DFS"
   ]
  },
  {
   "cell_type": "markdown",
   "metadata": {},
   "source": [
    "547. 省份数量"
   ]
  },
  {
   "cell_type": "code",
   "execution_count": 154,
   "metadata": {},
   "outputs": [],
   "source": [
    "\n",
    "# * 并查集作法 T(n^2) S(n)\n",
    "class Solution:\n",
    "  def findCircleNum(self, isConnected: List[List[int]]) -> int:\n",
    "    n = len(isConnected)\n",
    "    father = [i for i in range(n)]\n",
    "    def find(u):\n",
    "      if u != father[u]:\n",
    "        father[u] = find(father[u])\n",
    "      return father[u]\n",
    "    def is_same(u, v):\n",
    "      return find(u) == find(v)\n",
    "    def join(u, v):\n",
    "      u = find(u)\n",
    "      v = find(v)\n",
    "      if u == v:\n",
    "        return\n",
    "      father[v] = u\n",
    "    for i in range(n):\n",
    "      for j in range(n):\n",
    "        if isConnected[i][j]:\n",
    "          join(i, j)\n",
    "    return len(set(find(i) for i in range(n)))"
   ]
  },
  {
   "cell_type": "code",
   "execution_count": 155,
   "metadata": {},
   "outputs": [],
   "source": [
    "\n",
    "# * T(n^2) S(n)\n",
    "class Solution:\n",
    "  def findCircleNum(self, isConnected: List[List[int]]) -> int:\n",
    "    n = len(isConnected)\n",
    "    visited = [False] * n\n",
    "    def dfs(i):\n",
    "      for j in range(n):\n",
    "        if isConnected[i][j] and not visited[j]:\n",
    "          visited[j] = True\n",
    "          dfs(j)\n",
    "    res = 0\n",
    "    for i in range(n):\n",
    "      if visited[i]: continue\n",
    "      dfs(i)\n",
    "      res += 1\n",
    "    return res"
   ]
  },
  {
   "cell_type": "markdown",
   "metadata": {},
   "source": [
    "1971. 寻找图中是否存在路径"
   ]
  },
  {
   "cell_type": "code",
   "execution_count": 156,
   "metadata": {},
   "outputs": [],
   "source": [
    "\n",
    "# * 并查集，甚至不用建图\n",
    "# * T(E) S(V)\n",
    "class Solution:\n",
    "  def validPath(self, n: int, edges: List[List[int]], source: int, destination: int) -> bool:\n",
    "    father = [i for i in range(n)]\n",
    "    def find(u):\n",
    "      if u != father[u]:\n",
    "        father[u] = find(father[u])\n",
    "      return father[u]\n",
    "    def join(u, v):\n",
    "      u = find(u)\n",
    "      v = find(v)\n",
    "      if u == v:\n",
    "        return\n",
    "      father[v] = u\n",
    "    def is_same(u, v):\n",
    "      return find(u) == find(v)\n",
    "    for u, v in edges:\n",
    "      join(u, v)\n",
    "    return is_same(source, destination)"
   ]
  },
  {
   "cell_type": "code",
   "execution_count": 157,
   "metadata": {},
   "outputs": [],
   "source": [
    "\n",
    "# * T(E) S(V)\n",
    "class Solution:\n",
    "  def validPath(self, n: int, edges: List[List[int]], source: int, destination: int) -> bool:\n",
    "    graph = defaultdict(list)\n",
    "    visited = [False] * n\n",
    "    for u, v in edges:\n",
    "      graph[u].append(v)\n",
    "      graph[v].append(u)\n",
    "    def dfs(u):\n",
    "      for v in graph[u]:\n",
    "        if visited[v]: continue\n",
    "        visited[v] = True\n",
    "        dfs(v)\n",
    "    dfs(source)\n",
    "    return visited[destination] or (source == destination)"
   ]
  },
  {
   "cell_type": "markdown",
   "metadata": {},
   "source": [
    "797. 所有可能的路径"
   ]
  },
  {
   "cell_type": "code",
   "execution_count": 158,
   "metadata": {},
   "outputs": [],
   "source": [
    "\n",
    "# * T(E) S(1)\n",
    "import copy\n",
    "class Solution:\n",
    "  def allPathsSourceTarget(self, graph: List[List[int]]) -> List[List[int]]:\n",
    "    n = len(graph)\n",
    "    res = []\n",
    "    path = [0]\n",
    "    def dfs(u):\n",
    "      if u == n - 1:\n",
    "        res.append(copy.deepcopy(path))\n",
    "        return\n",
    "      for v in graph[u]:\n",
    "        path.append(v)\n",
    "        dfs(v)\n",
    "        path.pop()\n",
    "    dfs(0)\n",
    "    return res    "
   ]
  },
  {
   "cell_type": "markdown",
   "metadata": {},
   "source": [
    "841. 钥匙和房间"
   ]
  },
  {
   "cell_type": "code",
   "execution_count": 159,
   "metadata": {},
   "outputs": [],
   "source": [
    "\n",
    "# * 仍需要dfs搜索，并查集无意义\n",
    "class Solution:\n",
    "  def canVisitAllRooms(self, rooms: List[List[int]]) -> bool:\n",
    "    n = len(rooms)\n",
    "    visited = [False] * n\n",
    "    def dfs(u):\n",
    "      for v in rooms[u]:\n",
    "        if visited[v]: continue\n",
    "        visited[v] = True\n",
    "        dfs(v)\n",
    "    visited[0] = True\n",
    "    dfs(0)\n",
    "    return all(visited)    "
   ]
  },
  {
   "cell_type": "markdown",
   "metadata": {},
   "source": [
    "2316. 统计无向图中无法互相到达点对数"
   ]
  },
  {
   "cell_type": "code",
   "execution_count": 160,
   "metadata": {},
   "outputs": [],
   "source": [
    "\n",
    "# * 并查集查出各集合cardinality，然后组合乘积求和\n",
    "# ! T(n^2) 暴力计算和超时 S(n)\n",
    "class Solution:\n",
    "  def countPairs(self, n: int, edges: List[List[int]]) -> int:\n",
    "    father = [i for i in range(n)]\n",
    "    def find(u):\n",
    "      if u != father[u]:\n",
    "        father[u] = find(father[u])\n",
    "      return father[u]\n",
    "    def join(u, v):\n",
    "      u = find(u)\n",
    "      v = find(v)\n",
    "      if u == v:\n",
    "        return\n",
    "      father[v] = u\n",
    "    for u, v in edges:\n",
    "      join(u, v)\n",
    "    m = defaultdict(int)\n",
    "    for i in range(n):\n",
    "      m[find(i)] += 1\n",
    "    m = [*m.values()]\n",
    "    res = 0\n",
    "    for i in range(len(m)):\n",
    "      for j in range(i + 1, len(m)):\n",
    "        res += m[i] * m[j]\n",
    "    return res"
   ]
  },
  {
   "cell_type": "code",
   "execution_count": 161,
   "metadata": {},
   "outputs": [],
   "source": [
    "\n",
    "# * 并查集查出各集合cardinality，然后组合乘积求和\n",
    "# * T(n) S(n)\n",
    "class Solution:\n",
    "  def countPairs(self, n: int, edges: List[List[int]]) -> int:\n",
    "    father = [i for i in range(n)]\n",
    "    def find(u):\n",
    "      if u != father[u]:\n",
    "        father[u] = find(father[u])\n",
    "      return father[u]\n",
    "    def join(u, v):\n",
    "      u = find(u)\n",
    "      v = find(v)\n",
    "      if u == v:\n",
    "        return\n",
    "      father[v] = u\n",
    "    for u, v in edges:\n",
    "      join(u, v)\n",
    "    m = defaultdict(int)\n",
    "    s = 0\n",
    "    for i in range(n):\n",
    "      m[find(i)] += 1\n",
    "      s += 1\n",
    "    m = [*m.values()]\n",
    "    res = 0\n",
    "    for v in m:\n",
    "      s -= v\n",
    "      res += v * s\n",
    "    return res"
   ]
  },
  {
   "cell_type": "markdown",
   "metadata": {},
   "source": [
    "3108. 带权图里旅途的最小代价"
   ]
  },
  {
   "cell_type": "code",
   "execution_count": 162,
   "metadata": {},
   "outputs": [],
   "source": [
    "\n",
    "# * 并查集，如果能到达，要最小代价，必然经过最小边，只需要合并所有边的权值即可\n",
    "# * 每一个连通分量对应一个集合 对应一个最小权值\n",
    "# * 遍历一次边：先得到所有连通分量集合点\n",
    "# * 再次遍历：计算权值\n",
    "# * 处理查询\n",
    "# * T(E + Q) S(V)\n",
    "from collections import defaultdict\n",
    "class Solution:\n",
    "  def minimumCost(self, n: int, edges: List[List[int]], query: List[List[int]]) -> List[int]:\n",
    "    father = [i for i in range(n)]\n",
    "    res = []\n",
    "    m = defaultdict(lambda: 0x3f3f3f3f)\n",
    "    def find(u):\n",
    "      if u != father[u]:\n",
    "        father[u] = find(father[u])\n",
    "      return father[u]\n",
    "    def join(u, v):\n",
    "      u = find(u)\n",
    "      v = find(v)\n",
    "      if u == v:\n",
    "        return\n",
    "      father[v] = u\n",
    "    for u, v, _ in edges:\n",
    "      join(u, v)\n",
    "    for u, v, w in edges:\n",
    "      m[find(u)] &= w\n",
    "    for u, v in query:\n",
    "      uu = find(u)\n",
    "      vv = find(v)\n",
    "      res.append(m[uu] if uu == vv else -1)\n",
    "    return res"
   ]
  },
  {
   "cell_type": "markdown",
   "metadata": {},
   "source": [
    "## BFS"
   ]
  },
  {
   "cell_type": "markdown",
   "metadata": {},
   "source": [
    "3243. 新增道路查询后的最短距离 I"
   ]
  },
  {
   "cell_type": "code",
   "execution_count": 163,
   "metadata": {},
   "outputs": [],
   "source": [
    "\n",
    "# * T(Q(N + Q)) N - 1 + Q = E \n",
    "# * S(N + Q)\n",
    "from math import inf\n",
    "from collections import deque\n",
    "class Solution:\n",
    "  def shortestDistanceAfterQueries(self, n: int, queries: List[List[int]]) -> List[int]:\n",
    "    graph = defaultdict(list)\n",
    "    for i in range(n - 1):\n",
    "      graph[i].append(i + 1)\n",
    "    res = []\n",
    "    visited = [-1] * n\n",
    "    def bfs(i):\n",
    "      q = deque([(0, 0)])\n",
    "      while q:\n",
    "        x, d = q.popleft()\n",
    "        for y in graph[x]:\n",
    "          if y == n - 1: return d + 1\n",
    "          if visited[y] != i:\n",
    "            q.append((y, d + 1))\n",
    "            visited[y] = i\n",
    "        \n",
    "    for i, (u, v) in enumerate(queries):\n",
    "      graph[u].append(v)\n",
    "      res.append(bfs(i))\n",
    "    return res"
   ]
  },
  {
   "cell_type": "markdown",
   "metadata": {},
   "source": [
    "1311. 获取你好友已观看的视频"
   ]
  },
  {
   "cell_type": "code",
   "execution_count": 164,
   "metadata": {},
   "outputs": [
    {
     "data": {
      "text/plain": [
       "dict_keys(['D', 'A', 'C', 'B'])"
      ]
     },
     "execution_count": 164,
     "metadata": {},
     "output_type": "execute_result"
    }
   ],
   "source": [
    "a = [*{'D': 3, 'A': 1, 'C': 2, 'B': 2}.items()]\n",
    "a.sort(key=lambda x: (x[1], x[0]))\n",
    "a\n",
    "{'D': 3, 'A': 1, 'C': 2, 'B': 2}.keys()"
   ]
  },
  {
   "cell_type": "code",
   "execution_count": 165,
   "metadata": {},
   "outputs": [],
   "source": [
    "class Solution:\n",
    "  def watchedVideosByFriends(self, watchedVideos: List[List[str]], friends: List[List[int]], id: int, level: int) -> List[str]:\n",
    "    n = len(watchedVideos)\n",
    "    visited = [False] * n\n",
    "    m = defaultdict(int)\n",
    "    def bfs():\n",
    "      q = deque([(id, 0)])\n",
    "      visited[id] = True\n",
    "      while q: \n",
    "        x, d = q.popleft()\n",
    "        for y in friends[x]:\n",
    "          if not visited[y]:\n",
    "            visited[y] = True\n",
    "            if d + 1 == level:\n",
    "              for video in watchedVideos[y]:\n",
    "                m[video] += 1\n",
    "            else:\n",
    "              q.append((y, d + 1))\n",
    "    bfs()\n",
    "    res = [*m.items()]\n",
    "    res.sort(key=lambda x: (x[1], x[0]))\n",
    "    res = [*map(lambda x: x[0], res)]\n",
    "    return res    "
   ]
  },
  {
   "cell_type": "markdown",
   "metadata": {},
   "source": [
    "1129. 颜色交替的最短路径"
   ]
  },
  {
   "cell_type": "code",
   "execution_count": 166,
   "metadata": {},
   "outputs": [],
   "source": [
    "\n",
    "# ! 超时\n",
    "class Solution:\n",
    "  def shortestAlternatingPaths(self, n: int, redEdges: List[List[int]], blueEdges: List[List[int]]) -> List[int]:\n",
    "    red_visited = [False] * n\n",
    "    blue_visited = [False] * n\n",
    "    graph = defaultdict(list)\n",
    "    dist = [inf] * n\n",
    "    for u, v in redEdges:\n",
    "      graph[u].append((v, 'r'))\n",
    "    for u, v in blueEdges:\n",
    "      graph[u].append((v, 'b'))\n",
    "    def bfs():\n",
    "      red_visited[0] = True\n",
    "      blue_visited[0] = True\n",
    "      dist[0] = 0\n",
    "      q = deque([(a, b, 1) for a, b in graph[0]])\n",
    "      for a, b in graph[0]:\n",
    "        if b == 'r':\n",
    "          red_visited[a] = True\n",
    "        else:\n",
    "          blue_visited[a] = True\n",
    "      while q:\n",
    "        x, tx, d = q.popleft()\n",
    "        dist[x] = min(dist[x], d)\n",
    "        for y, ty in graph[x]:\n",
    "          if tx != ty and (not red_visited[y] or not blue_visited[y]):\n",
    "            if ty == 'r':\n",
    "              red_visited[y] = True\n",
    "            else:\n",
    "              blue_visited[y] = True\n",
    "            q.append((y, ty, d + 1))\n",
    "    bfs()\n",
    "    return [v if v != inf else -1 for v in dist]"
   ]
  },
  {
   "cell_type": "code",
   "execution_count": 167,
   "metadata": {},
   "outputs": [],
   "source": [
    "class Solution:\n",
    "  def shortestAlternatingPaths(self, n: int, redEdges: List[List[int]], blueEdges: List[List[int]]) -> List[int]:\n",
    "    graph = defaultdict(list)\n",
    "    for u, v in redEdges:\n",
    "      graph[u].append((v, 'r'))\n",
    "    for u, v in blueEdges:\n",
    "      graph[u].append((v, 'b'))\n",
    "    dist = [-1] * n\n",
    "    level = 0\n",
    "    q = [(0, 'r'), (0, 'b')]\n",
    "    visited = {(0, 'r'), (0, 'b')}\n",
    "    while q:\n",
    "      nq = []\n",
    "      for x, tx in q:\n",
    "        if dist[x] == -1:\n",
    "          dist[x] = level\n",
    "        for y, ty in graph[x]:\n",
    "          if tx != ty and (y, ty) not in visited:\n",
    "            visited.add((y, ty))\n",
    "            nq.append((y, ty))\n",
    "      q = nq\n",
    "      level += 1\n",
    "    return dist"
   ]
  },
  {
   "cell_type": "markdown",
   "metadata": {},
   "source": [
    "## 拓扑排序"
   ]
  },
  {
   "cell_type": "code",
   "execution_count": 168,
   "metadata": {},
   "outputs": [],
   "source": [
    "class Solution:\n",
    "  def findOrder(self, numCourses: int, prerequisites: List[List[int]]) -> List[int]:\n",
    "    n = numCourses\n",
    "    graph = defaultdict(list)\n",
    "    ins = [0] * n\n",
    "    for u, v in prerequisites:\n",
    "      graph[v].append(u)\n",
    "      ins[u] += 1\n",
    "    res = [i for i in range(n) if ins[i] == 0]\n",
    "    for u in res:\n",
    "      for v in graph[u]:\n",
    "        ins[v] -= 1\n",
    "        if ins[v] == 0:\n",
    "          res.append(v)    \n",
    "    return [] if len(res) != n else res"
   ]
  },
  {
   "cell_type": "markdown",
   "metadata": {},
   "source": [
    "1462. 课程表 IV"
   ]
  },
  {
   "cell_type": "code",
   "execution_count": 169,
   "metadata": {},
   "outputs": [],
   "source": [
    "class Solution:\n",
    "  def checkIfPrerequisite(self, numCourses: int, prerequisites: List[List[int]], queries: List[List[int]]) -> List[bool]:\n",
    "    n = numCourses\n",
    "    f = [[False] * n for _ in range(n)]\n",
    "    for u, v in prerequisites:\n",
    "      f[u][v] = True\n",
    "    for k in range(n):\n",
    "      for i in range(n):\n",
    "        for j in range(n):\n",
    "          if f[i][k] and f[k][j]:\n",
    "            f[i][j] = True\n",
    "    return [f[u][v] for u, v in queries]"
   ]
  },
  {
   "cell_type": "markdown",
   "metadata": {},
   "source": [
    "2115. 从给定原材料中找到所有可以做出的菜"
   ]
  },
  {
   "cell_type": "code",
   "execution_count": 170,
   "metadata": {},
   "outputs": [],
   "source": [
    "class Solution:\n",
    "  def findAllRecipes(self, recipes: List[str], ingredients: List[List[str]], supplies: List[str]) -> List[str]:\n",
    "    n = len(recipes)\n",
    "    f = defaultdict(list)\n",
    "    ins = [0] * n\n",
    "    for i in range(len(ingredients)):\n",
    "      ingredients[i] = [v for v in ingredients[i] if v not in supplies]\n",
    "      for v in ingredients[i]:\n",
    "        f[v].append(i)\n",
    "        ins[i] += 1\n",
    "    res = [recipes[i] for i in range(n) if ins[i] == 0]\n",
    "    for u in res:\n",
    "      for v in f[u]:\n",
    "        ins[v] -= 1\n",
    "        if ins[v] == 0:\n",
    "          res.append(recipes[v])\n",
    "    return res  "
   ]
  },
  {
   "cell_type": "markdown",
   "metadata": {},
   "source": [
    "## 最短路"
   ]
  },
  {
   "cell_type": "markdown",
   "metadata": {},
   "source": [
    "743. 网络延迟时间"
   ]
  },
  {
   "cell_type": "code",
   "execution_count": 171,
   "metadata": {},
   "outputs": [],
   "source": [
    "class Solution:\n",
    "  def networkDelayTime(self, times: List[List[int]], n: int, k: int) -> int:\n",
    "    graph = defaultdict(list)\n",
    "    for u, v, w in times:\n",
    "      graph[u].append((v, w))\n",
    "    \n",
    "    dist = [inf] * (n + 1)\n",
    "    dist[k] = 0\n",
    "    visited = [False] * (n + 1)\n",
    "    \n",
    "    for _ in range(n):\n",
    "      u = -1\n",
    "      for i in range(1, n + 1):\n",
    "        if not visited[i] and (u == -1 or dist[i] < dist[u]):\n",
    "          u = i\n",
    "      if dist[u] == inf:\n",
    "        break\n",
    "        \n",
    "      visited[u] = True\n",
    "      \n",
    "      for v, w in graph[u]: \n",
    "        if dist[u] + w < dist[v]:\n",
    "          dist[v] = dist[u] + w\n",
    "    dist[0] = -inf\n",
    "    d = max(dist)\n",
    "    return  d if d != inf else -1"
   ]
  },
  {
   "cell_type": "code",
   "execution_count": 172,
   "metadata": {},
   "outputs": [],
   "source": [
    "class Solution:\n",
    "  def networkDelayTime(self, times: List[List[int]], n: int, k: int) -> int:\n",
    "    graph = defaultdict(list)\n",
    "    for u, v, w in times:\n",
    "      graph[u].append((v, w))\n",
    "    \n",
    "    dist = [inf] * (n + 1)\n",
    "    dist[k] = 0\n",
    "    queue = deque([k])\n",
    "    in_queue = [False] * (n + 1)\n",
    "    in_queue[k] = True\n",
    "    \n",
    "    while queue:\n",
    "      u = queue.popleft()\n",
    "      in_queue[u] = False\n",
    "      for v, w in graph[u]:\n",
    "        if dist[u] + w < dist[v]:\n",
    "          dist[v] = dist[u] + w\n",
    "          if not in_queue[v]:\n",
    "            queue.append(v)\n",
    "            in_queue[v] = True\n",
    "    \n",
    "    dist[0] = -inf\n",
    "    d = max(dist)\n",
    "    return  d if d != inf else -1"
   ]
  },
  {
   "cell_type": "markdown",
   "metadata": {},
   "source": [
    "## 最小生成树"
   ]
  },
  {
   "cell_type": "markdown",
   "metadata": {},
   "source": [
    "1584. 连接所有点的最小费用"
   ]
  },
  {
   "cell_type": "code",
   "execution_count": 173,
   "metadata": {},
   "outputs": [],
   "source": [
    "class Solution:\n",
    "  def minCostConnectPoints(self, points: List[List[int]]) -> int:\n",
    "    n = len(points)\n",
    "    edges = []\n",
    "    for i in range(n):\n",
    "      for j in range(i + 1, n):\n",
    "        edges.append((i, j, abs(points[i][0] - points[j][0]) + abs(points[i][1] - points[j][1])))\n",
    "    father = list(range(n))\n",
    "    def find(u):\n",
    "      if u != father[u]:\n",
    "        father[u] = find(father[u])\n",
    "      return father[u]\n",
    "    def join(u, v):\n",
    "      u = find(u)\n",
    "      v = find(v)\n",
    "      if u == v: return False\n",
    "      father[v] = u\n",
    "      return True\n",
    "    edges.sort(key=lambda x: x[2])\n",
    "    # mst = []\n",
    "    res = 0\n",
    "    for u, v, w in edges:\n",
    "      if join(u, v):\n",
    "        # mst.append((u, v, w))\n",
    "        res += w\n",
    "    return res"
   ]
  },
  {
   "cell_type": "code",
   "execution_count": 174,
   "metadata": {},
   "outputs": [],
   "source": [
    "def kruskal(points):\n",
    "  n = len(points)\n",
    "  edges = []\n",
    "  for i in range(n):\n",
    "    for j in range(i + 1, n):\n",
    "      edges.append((i, j, abs(points[i][0] - points[j][0]) + abs(points[i][1] - points[j][1])))\n",
    "  father = list(range(n))\n",
    "  def find(u):\n",
    "    if u != father[u]:\n",
    "      father[u] = find(father[u])\n",
    "    return father[u]\n",
    "  def join(u, v):\n",
    "    u = find(u)\n",
    "    v = find(v)\n",
    "    if u == v: return False\n",
    "    father[v] = u\n",
    "    return True\n",
    "  edges.sort(key=lambda x: x[2])\n",
    "  mst = []\n",
    "  res = 0\n",
    "  for u, v, w in edges:\n",
    "    if join(u, v):\n",
    "      mst.append((u, v, w))\n",
    "  return mst"
   ]
  },
  {
   "cell_type": "markdown",
   "metadata": {},
   "source": [
    "# 常用数据结构（前缀和/差分/栈/队列/堆/字典树/并查集/树状数组/线段树）"
   ]
  },
  {
   "cell_type": "markdown",
   "metadata": {},
   "source": [
    "## 零、常用枚举技巧"
   ]
  },
  {
   "cell_type": "markdown",
   "metadata": {},
   "source": [
    "### §0.1 枚举右，维护左\n",
    "对于**双变量问题**，例如两数之和$a_{i}+a_{j}=t$，可以枚举右边的$a_{j}$，转换成单变量问题，也就是在$a_{j}$左边查找是否有$a_{i}=t-a_{j}$，这可以用哈希表维护。\n",
    "\n",
    "我把这个技巧叫做**枚举右，维护左**。"
   ]
  },
  {
   "cell_type": "markdown",
   "metadata": {},
   "source": [
    "1. 两数之和"
   ]
  },
  {
   "cell_type": "code",
   "execution_count": 175,
   "metadata": {},
   "outputs": [],
   "source": [
    "\n",
    "# * T(n) S(n) \n",
    "# * √\n",
    "class Solution:\n",
    "  def twoSum(self, nums: List[int], target: int) -> List[int]:\n",
    "    idx = {}\n",
    "    n = len(nums)\n",
    "    for j in range(n):\n",
    "      if target - nums[j] in idx:\n",
    "        return [idx[target - nums[j]], j]\n",
    "      idx[nums[j]] = j"
   ]
  },
  {
   "cell_type": "markdown",
   "metadata": {},
   "source": [
    "1512. 好数对的数目"
   ]
  },
  {
   "cell_type": "code",
   "execution_count": 176,
   "metadata": {},
   "outputs": [],
   "source": [
    "\n",
    "# * T(n) S(n)\n",
    "class Solution:\n",
    "  def numIdenticalPairs(self, nums: List[int]) -> int:\n",
    "    res = 0; n = len(nums)\n",
    "    idx = defaultdict(list)\n",
    "    for j in range(n):\n",
    "      if nums[j] in idx:\n",
    "        res += len(idx[nums[j]])\n",
    "      idx[nums[j]].append(j)\n",
    "    return res"
   ]
  },
  {
   "cell_type": "markdown",
   "metadata": {},
   "source": [
    "219. 存在重复元素 II"
   ]
  },
  {
   "cell_type": "code",
   "execution_count": 177,
   "metadata": {},
   "outputs": [],
   "source": [
    "class Solution:\n",
    "  def containsNearbyDuplicate(self, nums: List[int], k: int) -> bool:\n",
    "    idx = {}\n",
    "    n = len(nums)\n",
    "    for j in range(n):\n",
    "      if nums[j] in idx and j - idx[nums[j]] <= k: return True\n",
    "      idx[nums[j]] = j\n",
    "    return False"
   ]
  },
  {
   "cell_type": "markdown",
   "metadata": {},
   "source": [
    "121. 买卖股票的最佳时机"
   ]
  },
  {
   "cell_type": "code",
   "execution_count": 178,
   "metadata": {},
   "outputs": [],
   "source": [
    "class Solution:\n",
    "  def maxProfit(self, prices: List[int]) -> int:\n",
    "    res = 0; min_price = inf\n",
    "    for v in prices:\n",
    "      res = max(res, v - min_price)\n",
    "      min_price = min(min_price, v)\n",
    "    return res"
   ]
  },
  {
   "cell_type": "markdown",
   "metadata": {},
   "source": [
    "2815. 数组中的最大数对和"
   ]
  },
  {
   "cell_type": "code",
   "execution_count": 179,
   "metadata": {},
   "outputs": [
    {
     "data": {
      "text/plain": [
       "(['1', '2', '3'], '3')"
      ]
     },
     "execution_count": 179,
     "metadata": {},
     "output_type": "execute_result"
    }
   ],
   "source": [
    "a = []\n",
    "a.extend('123')\n",
    "a, max(a)"
   ]
  },
  {
   "cell_type": "code",
   "execution_count": 180,
   "metadata": {},
   "outputs": [],
   "source": [
    "class Solution:\n",
    "  def maxSum(self, nums: List[int]) -> int:\n",
    "    def get_max_digit(v):\n",
    "      t = []\n",
    "      t.extend(str(v))\n",
    "      return max(t)\n",
    "    max_digits = [get_max_digit(v) for v in nums]\n",
    "    vx = defaultdict(int)\n",
    "    res = -1\n",
    "    for j, v in enumerate(nums):\n",
    "      if max_digits[j] in vx:\n",
    "        res = max(res, v + vx[max_digits[j]])\n",
    "      vx[max_digits[j]] = max(vx[max_digits[j]], v)\n",
    "    return res  "
   ]
  },
  {
   "cell_type": "markdown",
   "metadata": {},
   "source": [
    "2342. 数位和相等数对的最大和"
   ]
  },
  {
   "cell_type": "code",
   "execution_count": 181,
   "metadata": {},
   "outputs": [],
   "source": [
    "class Solution:\n",
    "  def maximumSum(self, nums: List[int]) -> int:\n",
    "    def get_digit_sum(v):\n",
    "      t = []\n",
    "      t.extend(str(v))\n",
    "      return sum(int(x) for x in t)\n",
    "    sum_digits = [get_digit_sum(v) for v in nums]\n",
    "    vx = defaultdict(int); res = -1\n",
    "    for j, v in enumerate(nums):\n",
    "      if sum_digits[j] in vx:\n",
    "        res = max(res, v + vx[sum_digits[j]])\n",
    "      vx[sum_digits[j]] = max(vx[sum_digits[j]], v)\n",
    "    return res"
   ]
  },
  {
   "cell_type": "markdown",
   "metadata": {},
   "source": [
    "1679. K 和数对的最大数目"
   ]
  },
  {
   "cell_type": "code",
   "execution_count": 182,
   "metadata": {},
   "outputs": [],
   "source": [
    "class Solution:\n",
    "  def maxOperations(self, nums: List[int], k: int) -> int:\n",
    "    idx = defaultdict(list); res = 0\n",
    "    for j, v in enumerate(nums):\n",
    "      if k - v in idx and len(idx[k - v]) != 0: idx[k - v].pop(); res += 1; continue\n",
    "      idx[v].append(j)\n",
    "    return res"
   ]
  },
  {
   "cell_type": "markdown",
   "metadata": {},
   "source": [
    "2260. 必须拿起的最小连续卡牌数"
   ]
  },
  {
   "cell_type": "code",
   "execution_count": 183,
   "metadata": {},
   "outputs": [],
   "source": [
    "class Solution:\n",
    "  def minimumCardPickup(self, cards: List[int]) -> int:\n",
    "    res = inf\n",
    "    idx = {}\n",
    "    for j, v in enumerate(cards):\n",
    "      if v in idx: res = min(res, j - idx[v] + 1)\n",
    "      idx[v] = j\n",
    "    return res if res != inf else -1    "
   ]
  },
  {
   "cell_type": "markdown",
   "metadata": {},
   "source": [
    "1010. 总持续时间可被 60 整除的歌曲"
   ]
  },
  {
   "cell_type": "code",
   "execution_count": 184,
   "metadata": {},
   "outputs": [],
   "source": [
    "class Solution:\n",
    "  def numPairsDivisibleBy60(self, time: List[int]) -> int:\n",
    "    res = 0; idx = defaultdict(int); cnt = 0\n",
    "    for v in time:\n",
    "      v = v % 60\n",
    "      cnt += 1 if v == 0 else 0\n",
    "      if 60 - v in idx: res += idx[60 - v]\n",
    "      idx[v] += 1\n",
    "    return res + ((cnt - 1) * cnt // 2)  "
   ]
  },
  {
   "cell_type": "markdown",
   "metadata": {},
   "source": [
    "3185. 构成整天的下标对数目 II"
   ]
  },
  {
   "cell_type": "code",
   "execution_count": 185,
   "metadata": {},
   "outputs": [],
   "source": [
    "class Solution:\n",
    "  def countCompleteDayPairs(self, hours: List[int]) -> int:\n",
    "    res = 0; idx = defaultdict(int); cnt = 0\n",
    "    for v in hours:\n",
    "      v = v % 24\n",
    "      cnt += 1 if v == 0 else 0\n",
    "      if 24 - v in idx: res += idx[24 - v]\n",
    "      idx[v] += 1\n",
    "    return res + ((cnt - 1) * cnt // 2)  "
   ]
  },
  {
   "cell_type": "markdown",
   "metadata": {},
   "source": [
    "2748. 美丽下标对的数目"
   ]
  },
  {
   "cell_type": "code",
   "execution_count": 186,
   "metadata": {},
   "outputs": [],
   "source": [
    "class Solution:\n",
    "  def countBeautifulPairs(self, nums: List[int]) -> int:\n",
    "    def gcd(a, b): return a if b == 0 else gcd(b, a % b) \n",
    "    res = 0; idx = defaultdict(int)\n",
    "    coprimes = [[0] * 10 for _ in range(10)]\n",
    "    for i in range(10):\n",
    "      for j in range(10):\n",
    "        if gcd(i, j) == 1: coprimes[i][j] = 1\n",
    "    print(coprimes)\n",
    "    for v in nums:\n",
    "      s = str(v)\n",
    "      fd, ld = int(s[0]), int(s[-1])\n",
    "      res += sum(idx[fd] for fd in range(10) if coprimes[fd][ld] == 1)\n",
    "      idx[fd] += 1\n",
    "    return res    "
   ]
  },
  {
   "cell_type": "markdown",
   "metadata": {},
   "source": [
    "2874. 有序三元组中的最大值 II"
   ]
  },
  {
   "cell_type": "code",
   "execution_count": 187,
   "metadata": {},
   "outputs": [
    {
     "name": "stdout",
     "output_type": "stream",
     "text": [
      "2 12\n",
      "3 6\n",
      "4 1\n",
      "5 2\n",
      "6 7\n"
     ]
    }
   ],
   "source": [
    "nums = [12, 6, 1, 2, 7]\n",
    "for k, v in enumerate(nums, 2):\n",
    "  print(k, v)"
   ]
  },
  {
   "cell_type": "code",
   "execution_count": 188,
   "metadata": {},
   "outputs": [],
   "source": [
    "\n",
    "# ! WA\n",
    "class Solution:\n",
    "  def maximumTripletValue(self, nums: List[int]) -> int:\n",
    "    res = 0\n",
    "    ma = nums[0]\n",
    "    mi = nums[1]\n",
    "    for k in range(2, len(nums)):\n",
    "      res = max(res, nums[k] * (ma - mi))\n",
    "      ma = max(ma, nums[k - 1])\n",
    "      mi = min(mi, nums[k])\n",
    "    return res   "
   ]
  },
  {
   "cell_type": "code",
   "execution_count": 189,
   "metadata": {},
   "outputs": [],
   "source": [
    "\n",
    "# ! TE\n",
    "class Solution:\n",
    "  def maximumTripletValue(self, nums: List[int]) -> int:\n",
    "    # * 定k枚举j O(1) 找 i\n",
    "    n = len(nums); res = 0\n",
    "    for k in range(2, n):\n",
    "      ma = nums[0]\n",
    "      for j in range(1, k):\n",
    "        res = max(res, (ma - nums[j]) * nums[k])\n",
    "        ma = max(ma, nums[j])\n",
    "    return res"
   ]
  },
  {
   "cell_type": "code",
   "execution_count": 190,
   "metadata": {},
   "outputs": [],
   "source": [
    "class Solution:\n",
    "  def maximumTripletValue(self, nums: List[int]) -> int:\n",
    "    n = len(nums); res = 0\n",
    "    mas = [0] * n\n",
    "    # * 先算出到i为止的最大值\n",
    "    for i, v in enumerate(nums):\n",
    "      # * py -1\n",
    "      mas[i] = max(mas[i - 1], v)\n",
    "    # * 接着使用上式，算出到j为止的最大差\n",
    "    diff = [-inf] * n\n",
    "    for j in range(1, n):\n",
    "      diff[j] = max(diff[j - 1], mas[j - 1] - nums[j])\n",
    "    # * 接着使用上式，算出到k-1为止的最大差 * 乘nums[k]\n",
    "    for k in range(2, n):\n",
    "      res = max(res, diff[k - 1] * nums[k])\n",
    "    return res"
   ]
  },
  {
   "cell_type": "markdown",
   "metadata": {},
   "source": [
    "454. 四数相加 II"
   ]
  },
  {
   "cell_type": "code",
   "execution_count": 191,
   "metadata": {},
   "outputs": [],
   "source": [
    "\n",
    "# ! TE\n",
    "class Solution:\n",
    "  def fourSumCount(self, nums1: List[int], nums2: List[int], nums3: List[int], nums4: List[int]) -> int:\n",
    "    idx = defaultdict(int); res = 0\n",
    "    for v in nums1:\n",
    "      idx[v] += 1\n",
    "    for a in nums3:\n",
    "      for b in nums4:\n",
    "        for c in nums2:\n",
    "          res += idx[-(a + b + c)]\n",
    "    return res"
   ]
  },
  {
   "cell_type": "code",
   "execution_count": 192,
   "metadata": {},
   "outputs": [],
   "source": [
    "\n",
    "\n",
    "class Solution:\n",
    "  def fourSumCount(self, nums1: List[int], nums2: List[int], nums3: List[int], nums4: List[int]) -> int:\n",
    "    idx = defaultdict(int); res = 0\n",
    "    # * a + b + c + d = 0 => A + B = 0\n",
    "    for a in nums1:\n",
    "      for b in nums2:\n",
    "        idx[a + b] += 1\n",
    "    for c in nums3:\n",
    "      for d in nums4:\n",
    "        res += idx[-(c + d)]\n",
    "    return res"
   ]
  },
  {
   "cell_type": "markdown",
   "metadata": {},
   "source": [
    "1014. 最佳观光组合"
   ]
  },
  {
   "cell_type": "code",
   "execution_count": 193,
   "metadata": {},
   "outputs": [],
   "source": [
    "class Solution:\n",
    "  def maxScoreSightseeingPair(self, values: List[int]) -> int:\n",
    "    ma = values[0] - 1; res = 0\n",
    "    for j, v in enumerate(values):\n",
    "      if j == 0: continue\n",
    "      res = max(res, v + ma)\n",
    "      if v >= ma: ma = v; \n",
    "      ma -= 1\n",
    "    return res"
   ]
  },
  {
   "cell_type": "markdown",
   "metadata": {},
   "source": [
    "1814. 统计一个数组中好对子的数目"
   ]
  },
  {
   "cell_type": "code",
   "execution_count": 194,
   "metadata": {},
   "outputs": [],
   "source": [
    "class Solution:\n",
    "  def countNicePairs(self, nums: List[int]) -> int:\n",
    "    # * n[i] + r[j] = n[j] + r[i] => r[j] - n[j] = r[i] - n[i]\n",
    "    nums = [int(str(v)[::-1]) - v for v in nums]\n",
    "    mod = int(1e9 + 7); res = 0; idx = defaultdict(int)\n",
    "    for v in nums:\n",
    "      if v in idx: res += idx[v]\n",
    "      idx[v] += 1\n",
    "    return (res % mod)"
   ]
  },
  {
   "cell_type": "markdown",
   "metadata": {},
   "source": [
    "2905. 找出满足差值条件的下标 II"
   ]
  },
  {
   "cell_type": "code",
   "execution_count": 195,
   "metadata": {},
   "outputs": [],
   "source": [
    "class Solution:\n",
    "  def findIndices(self, nums: List[int], indexDifference: int, valueDifference: int) -> List[int]:\n",
    "    ma = -inf; mi = inf; mai = -1; mii = -1;\n",
    "    i = 0; j = indexDifference; n = len(nums)\n",
    "    while j < n:\n",
    "      if nums[i] > ma:\n",
    "        ma = nums[i]\n",
    "        mai = i\n",
    "      if nums[i] < mi:\n",
    "        mi = nums[i]\n",
    "        mii = i\n",
    "      if abs(ma - nums[j]) >= valueDifference: return [mai, j]\n",
    "      if abs(mi - nums[j]) >= valueDifference: return [mii, j]\n",
    "      i += 1\n",
    "      j += 1\n",
    "    return [-1, -1]"
   ]
  },
  {
   "cell_type": "markdown",
   "metadata": {},
   "source": [
    "1031. 两个非重叠子数组的最大和"
   ]
  },
  {
   "cell_type": "code",
   "execution_count": 196,
   "metadata": {},
   "outputs": [],
   "source": [
    "\n",
    "# ! WA\n",
    "class Solution:\n",
    "  def maxSumTwoNoOverlap(self, nums: List[int], firstLen: int, secondLen: int) -> int:\n",
    "    if firstLen > secondLen: firstLen, secondLen = secondLen, firstLen  \n",
    "    fs, fe, s = -1, -1, 0                  \n",
    "    first = 0\n",
    "    for i, v in enumerate(nums):\n",
    "      s += v\n",
    "      if i < firstLen - 1: continue\n",
    "      if s >= first: first = s; fs = i - firstLen + 1; fe = i\n",
    "      s -= nums[i - firstLen + 1]\n",
    "    s = 0; second = 0\n",
    "    for i, v in enumerate(nums):\n",
    "      s += v\n",
    "      if i < secondLen - 1: continue\n",
    "      if s >= second and (i < fs or i - secondLen + 1 > fe): second = s\n",
    "      s -= nums[i - secondLen + 1]\n",
    "    return first + second"
   ]
  },
  {
   "cell_type": "code",
   "execution_count": 197,
   "metadata": {},
   "outputs": [],
   "source": [
    "\n",
    "# * 暴力\n",
    "class Solution:\n",
    "  def maxSumTwoNoOverlap(self, nums: List[int], firstLen: int, secondLen: int) -> int:\n",
    "    n = len(nums); pre = [0] * (n + 1)\n",
    "    for i in range(n): pre[i + 1] = pre[i] + nums[i]\n",
    "    res = 0\n",
    "    for i in range(n - firstLen + 1):\n",
    "      fs, fe = i, i + firstLen - 1\n",
    "      for j in range(n - secondLen + 1):\n",
    "        ss, se = j, j + secondLen - 1\n",
    "        if se < fs or ss > fe:\n",
    "          res = max(res, pre[fe + 1] - pre[fs] + pre[se + 1] - pre[ss])\n",
    "    return res"
   ]
  },
  {
   "cell_type": "markdown",
   "metadata": {},
   "source": []
  },
  {
   "cell_type": "code",
   "execution_count": null,
   "metadata": {},
   "outputs": [],
   "source": []
  },
  {
   "cell_type": "markdown",
   "metadata": {},
   "source": []
  },
  {
   "cell_type": "code",
   "execution_count": null,
   "metadata": {},
   "outputs": [],
   "source": []
  },
  {
   "cell_type": "markdown",
   "metadata": {},
   "source": []
  },
  {
   "cell_type": "code",
   "execution_count": null,
   "metadata": {},
   "outputs": [],
   "source": []
  },
  {
   "cell_type": "markdown",
   "metadata": {},
   "source": [
    "# 回溯"
   ]
  },
  {
   "cell_type": "markdown",
   "metadata": {},
   "source": []
  },
  {
   "cell_type": "markdown",
   "metadata": {},
   "source": [
    "46. 全排列"
   ]
  },
  {
   "cell_type": "code",
   "execution_count": 198,
   "metadata": {},
   "outputs": [],
   "source": [
    "\n",
    "# * T(n*n!) S(n)\n",
    "class Solution:\n",
    "  def permute(self, nums: List[int]) -> List[List[int]]:\n",
    "    path = []\n",
    "    n = len(nums)\n",
    "    res = []\n",
    "    # * 叶子个数 * 根到叶子的路径长\n",
    "    def dfs(i, s):\n",
    "      if i == n:\n",
    "        res.append(path.copy())\n",
    "        return\n",
    "      for x in s:\n",
    "        path.append(x)\n",
    "        dfs(i + 1, s - {x})\n",
    "        path.pop()\n",
    "    dfs(0, set(nums))\n",
    "    return res  "
   ]
  },
  {
   "cell_type": "code",
   "execution_count": 199,
   "metadata": {},
   "outputs": [],
   "source": [
    "\n",
    "# * T(n*n!) S(n)\n",
    "class Solution:\n",
    "  def permute(self, nums: List[int]) -> List[List[int]]:\n",
    "    path = []\n",
    "    n = len(nums)\n",
    "    res = []\n",
    "    visited = [False] * n\n",
    "    # * 叶子个数 * 根到叶子的路径长\n",
    "    def dfs(i):\n",
    "      if i == n:\n",
    "        res.append(path.copy())\n",
    "        return\n",
    "      for j in range(n):\n",
    "        if not visited[j]:\n",
    "          path.append(nums[j])\n",
    "          visited[j] = True\n",
    "          dfs(i + 1)\n",
    "          visited[j] = False\n",
    "          path.pop()\n",
    "    dfs(0)\n",
    "    return res  "
   ]
  },
  {
   "cell_type": "markdown",
   "metadata": {},
   "source": [
    "51. N 皇后"
   ]
  },
  {
   "cell_type": "code",
   "execution_count": 200,
   "metadata": {},
   "outputs": [],
   "source": [
    "class Solution:\n",
    "  def solveNQueens(self, n: int) -> List[List[str]]:\n",
    "    res = []\n",
    "    col = []\n",
    "    def valid(r, c):\n",
    "      for R in range(r):\n",
    "        C = col[R]\n",
    "        if r + c == R + C or r - c == R - C:\n",
    "          return False\n",
    "      return True\n",
    "        \n",
    "    def dfs(r, s):\n",
    "      if r == n:\n",
    "        res.append(['.' * c + 'Q' + '.' * (n - c - 1) for c in col])\n",
    "        return\n",
    "      for c in s:\n",
    "        if valid(r, c):\n",
    "          col.append(c)\n",
    "          dfs(r + 1, s - {c})\n",
    "          col.pop()\n",
    "    \n",
    "    dfs(0, set(range(n)))\n",
    "    return res    "
   ]
  },
  {
   "cell_type": "code",
   "execution_count": 201,
   "metadata": {},
   "outputs": [],
   "source": [
    "\n",
    "# * T(n^2*n!) S(n)\n",
    "class Solution:\n",
    "  def solveNQueens(self, n: int) -> List[List[str]]:\n",
    "    res = []\n",
    "    col = []\n",
    "    visited = [False] * n\n",
    "    diag1 = [False] * (2 * n - 1)\n",
    "    diag2 = [False] * (2 * n - 1)\n",
    "\n",
    "    def dfs(r):\n",
    "      if r == n:\n",
    "        res.append(['.' * c + 'Q' + '.' * (n - c - 1) for c in col])\n",
    "        return\n",
    "      for c in range(n):\n",
    "        if not visited[c] and not diag1[r + c] and not diag2[r - c]:\n",
    "          col.append(c)\n",
    "          visited[c] = diag1[r + c] = diag2[r - c] = True\n",
    "          dfs(r + 1)\n",
    "          visited[c] = diag1[r + c] = diag2[r - c] = False\n",
    "          col.pop()\n",
    "    \n",
    "    dfs(0)\n",
    "    return res    "
   ]
  },
  {
   "cell_type": "markdown",
   "metadata": {},
   "source": [
    "52. N 皇后 II"
   ]
  },
  {
   "cell_type": "code",
   "execution_count": 202,
   "metadata": {},
   "outputs": [],
   "source": [
    "class Solution:\n",
    "  def totalNQueens(self, n: int) -> List[List[str]]:\n",
    "    res = 0\n",
    "    col = []\n",
    "    def valid(r, c):\n",
    "      for R in range(r):\n",
    "        C = col[R]\n",
    "        if r + c == R + C or r - c == R - C:\n",
    "          return False\n",
    "      return True\n",
    "        \n",
    "    def dfs(r, s):\n",
    "      nonlocal res\n",
    "      if r == n:\n",
    "        res += 1\n",
    "        return\n",
    "      for c in s:\n",
    "        if valid(r, c):\n",
    "          col.append(c)\n",
    "          dfs(r + 1, s - {c})\n",
    "          col.pop()\n",
    "    \n",
    "    dfs(0, set(range(n)))\n",
    "    return res    "
   ]
  },
  {
   "cell_type": "markdown",
   "metadata": {},
   "source": [
    "357. 统计各位数字都不同的数字个数"
   ]
  },
  {
   "cell_type": "code",
   "execution_count": 203,
   "metadata": {},
   "outputs": [],
   "source": [
    "class Solution:\n",
    "  def countNumbersWithUniqueDigits(self, n: int) -> int:\n",
    "    res = 1 # * 补上一位0的计数\n",
    "    visited = [False] * 10\n",
    "    if n == 0: return 1\n",
    "    if n == 1: return 10\n",
    "    def dfs(i):\n",
    "      nonlocal res\n",
    "      if i == n:\n",
    "        res += 1\n",
    "        return\n",
    "      for j in range(10):\n",
    "        if i == 0 and j == 0: continue\n",
    "        if not visited[j]:\n",
    "          visited[j] = True\n",
    "          dfs(i + 1)\n",
    "          visited[j] = False\n",
    "    for i in range(1, n + 1):\n",
    "      dfs(0, i)\n",
    "    return res"
   ]
  },
  {
   "cell_type": "markdown",
   "metadata": {},
   "source": [
    "2850. 将石头分散到网格图的最少移动次数"
   ]
  },
  {
   "cell_type": "code",
   "execution_count": 204,
   "metadata": {},
   "outputs": [],
   "source": [
    "from itertools import permutations\n",
    "class Solution:\n",
    "  def minimumMoves(self, grid: List[List[int]]) -> int:\n",
    "    res = inf\n",
    "    fr = []\n",
    "    to = []\n",
    "    for i, row in enumerate(grid):\n",
    "      for j, v in enumerate(row):\n",
    "        if v > 1:\n",
    "          fr.extend([(i, j) for _ in range(v - 1)]) \n",
    "        elif v == 0:\n",
    "          to.append((i, j))\n",
    "    for p in permutations(fr):\n",
    "      total = 0\n",
    "      for (xf, yf), (xt, yt) in zip(p, to):\n",
    "        total += abs(xf - xt) + abs(yf - yt)\n",
    "      res = min(res, total)\n",
    "    return res    "
   ]
  },
  {
   "cell_type": "markdown",
   "metadata": {},
   "source": [
    "# 字符串（KMP/Z函数/Manacher/字符串哈希/AC自动机/后缀数组/子序列自动机）"
   ]
  },
  {
   "cell_type": "markdown",
   "metadata": {},
   "source": [
    "## 一、KMP"
   ]
  },
  {
   "cell_type": "markdown",
   "metadata": {},
   "source": [
    "定义 𝑠 的真前缀为不等于 𝑠 的前缀，𝑠 的真后缀为不等于 𝑠 的后缀。\n",
    "定义 𝑠 的 border 为既是 𝑠 的真前缀又是 𝑠 的真后缀的字符串。例如在 \n",
    "𝑠 = aabcaa 中，a和aa都是 𝑠 的 border。\n",
    "对于模式串 𝑝 的每个前缀 𝑝[:𝑖]，计算这个前缀的最长border长度，记在 \n",
    "𝜋数组中。利用𝜋数组，可以快速计算模式串𝑝出现在文本串𝑡的哪些位置上。"
   ]
  },
  {
   "cell_type": "markdown",
   "metadata": {},
   "source": [
    "28. 找出字符串中第一个匹配项的下标"
   ]
  },
  {
   "cell_type": "code",
   "execution_count": 205,
   "metadata": {},
   "outputs": [],
   "source": [
    "class Solution:\n",
    "  def strStr(self, haystack: str, needle: str) -> int:\n",
    "    n = len(haystack)\n",
    "    m = len(needle)\n",
    "    table = [0] * m\n",
    "    # * 左起\n",
    "    i = 0\n",
    "    # * 枚举右\n",
    "    for j in range(1, m):\n",
    "      # * 如果左右匹配（>0确保下标访问）\n",
    "      while i and needle[i] != needle[j]:\n",
    "        i = table[i - 1] # * 回退\n",
    "      # * 相匹配，左串移动（右串自动循环里自动移）\n",
    "      if needle[i] == needle[j]: i += 1\n",
    "      # * 记录当前右回退左\n",
    "      table[j] = i\n",
    "    j = 0\n",
    "    for i in range(n):\n",
    "      # * 只回退子串\n",
    "      while j and haystack[i] != needle[j]:\n",
    "        j = table[j - 1]\n",
    "      if haystack[i] == needle[j]: j += 1\n",
    "      # * 长度匹配够\n",
    "      if j == m:\n",
    "        return i - m + 1\n",
    "    return -1"
   ]
  },
  {
   "cell_type": "markdown",
   "metadata": {},
   "source": [
    "796. 旋转字符串"
   ]
  },
  {
   "cell_type": "code",
   "execution_count": 206,
   "metadata": {},
   "outputs": [],
   "source": [
    "class Solution:\n",
    "  def rotateString(self, s: str, goal: str) -> bool:\n",
    "    n = len(s)\n",
    "    m = len(goal)\n",
    "    if n != m: return False\n",
    "    i = 0\n",
    "    table = [0] * m\n",
    "    for j in range(1, m):\n",
    "      while i and goal[i] != goal[j]:\n",
    "        i = table[i - 1]\n",
    "      if goal[i] == goal[j]: i += 1\n",
    "      table[j] = i\n",
    "    j = 0\n",
    "    l = 0; res = 0\n",
    "    se, ge = 0, 0\n",
    "    for i in range(n):\n",
    "      while j and s[i] != goal[j]:\n",
    "        l = 0\n",
    "        j = table[j - 1]\n",
    "      if s[i] == goal[j]: j += 1; l += 1\n",
    "      # * 最大匹配长度，及最后两串最大匹配的末尾下标\n",
    "      if l > res:\n",
    "        res = l\n",
    "        se = i\n",
    "        ge = j - 1 # * j已经提前+1，落在右开区间\n",
    "    # * 错开匹配的部分，前后是否相等\n",
    "    return (s[:se - l + 1] + s[se + 1:]) == (goal[:ge - l + 1] + goal[ge + 1:])"
   ]
  },
  {
   "cell_type": "markdown",
   "metadata": {},
   "source": [
    "1392. 最长快乐前缀"
   ]
  },
  {
   "cell_type": "code",
   "execution_count": 207,
   "metadata": {},
   "outputs": [],
   "source": [
    "class Solution:\n",
    "  def longestPrefix(self, s: str) -> str:\n",
    "    m = len(s)\n",
    "    table = [0] * m\n",
    "    i = 0\n",
    "    ma = 0\n",
    "    for j in range(1, m):\n",
    "      while i and s[i] != s[j]:\n",
    "        i = table[i - 1]\n",
    "      if s[i] == s[j]: i += 1\n",
    "      table[j] = i\n",
    "    # * 整串长度版本的前后缀最大匹配长，获取该长度前缀\n",
    "    return s[:table[-1]]"
   ]
  },
  {
   "cell_type": "markdown",
   "metadata": {},
   "source": [
    "3036. 匹配模式数组的子数组数目 II"
   ]
  },
  {
   "cell_type": "code",
   "execution_count": null,
   "metadata": {},
   "outputs": [],
   "source": [
    "\n",
    "# ! WA\n",
    "class Solution:\n",
    "  def countMatchingSubarrays(self, nums: List[int], pattern: List[int]) -> int:\n",
    "    n = len(nums)\n",
    "    m = len(pattern)\n",
    "    res = 0\n",
    "    i = 0\n",
    "\n",
    "    def match(p, n1, n2):\n",
    "      if p == 1 and n2 > n1:\n",
    "        return True\n",
    "      if p == 0 and n2 == n1:\n",
    "        return True\n",
    "      if p == -1 and n2 < n1:\n",
    "        return True\n",
    "      return False\n",
    "    table = [0] * m\n",
    "    for j in range(1, m):\n",
    "      while i and pattern[i] != pattern[j]:\n",
    "        i = table[i - 1]\n",
    "      if pattern[i] == pattern[j]:\n",
    "        i += 1\n",
    "      table[j] = i\n",
    "    j = 0\n",
    "    for i in range(n - m):\n",
    "      while j and not match(pattern[j], nums[i + j], nums[i + j + 1]):\n",
    "        j = table[j - 1]\n",
    "      while j < m and match(pattern[j], nums[i + j], nums[i + j + 1]):\n",
    "        j += 1\n",
    "      if j == m:\n",
    "        print(i)\n",
    "        res += 1\n",
    "        j = table[j - 1]\n",
    "    return res"
   ]
  },
  {
   "cell_type": "code",
   "execution_count": null,
   "metadata": {},
   "outputs": [],
   "source": []
  },
  {
   "cell_type": "markdown",
   "metadata": {},
   "source": [
    "# 其他"
   ]
  },
  {
   "cell_type": "markdown",
   "metadata": {},
   "source": [
    "215. 数组中的第K个最大元素\n"
   ]
  },
  {
   "cell_type": "code",
   "execution_count": 209,
   "metadata": {},
   "outputs": [],
   "source": [
    "def topK(nums, l, r, k):\n",
    "  if r - l + 1 <= 1:\n",
    "    return nums[l]\n",
    "  v = median([nums[l], nums[r], nums[(l + r) >> 1]])\n",
    "  i = l - 1; j = r + 1\n",
    "  while i < j:\n",
    "    i += 1\n",
    "    while nums[i] < v: i += 1\n",
    "    j -= 1\n",
    "    while nums[j] > v: j -= 1\n",
    "    if i < j: nums[i], nums[j] = nums[j], nums[i]\n",
    "  if k > j - l + 1:\n",
    "    return topK(nums, j + 1, r, k - (j - l + 1))\n",
    "  else:\n",
    "    return topK(nums, l, j, k)\n",
    "class Solution:\n",
    "  def findKthLargest(self, nums: List[int], k: int) -> int:\n",
    "    return topK(nums, 0, len(nums) - 1, len(nums) - k + 1)   "
   ]
  },
  {
   "cell_type": "markdown",
   "metadata": {},
   "source": [
    "面试题 17.14. 最小K个数"
   ]
  },
  {
   "cell_type": "code",
   "execution_count": 210,
   "metadata": {},
   "outputs": [],
   "source": [
    "def heapify(nums, n, i):\n",
    "  smallest = i\n",
    "  l = 2 * i + 1\n",
    "  r = 2 * i + 2\n",
    "  if l < n and nums[l] < nums[smallest]:\n",
    "    smallest = l\n",
    "  if r < n and nums[r] < nums[smallest]:\n",
    "    smallest = r\n",
    "  if smallest != i:\n",
    "    nums[smallest], nums[i] = nums[i], nums[smallest]\n",
    "    heapify(nums, n, smallest)\n",
    "    \n",
    "class Solution:\n",
    "  def smallestK(self, arr: List[int], k: int) -> List[int]:\n",
    "    n = len(arr)\n",
    "    for i in range(n // 2 - 1, -1, -1):\n",
    "      heapify(arr, n, i)\n",
    "    res = []\n",
    "    for i in range(k):\n",
    "      res.append(arr[0])\n",
    "      arr[0], arr[n - i - 1] = arr[n - i - 1], arr[0]\n",
    "      heapify(arr, n - i - 1, 0)\n",
    "    return res"
   ]
  },
  {
   "cell_type": "code",
   "execution_count": 211,
   "metadata": {},
   "outputs": [],
   "source": [
    "import heapq\n",
    "class Solution:\n",
    "  def smallestK(self, arr: List[int], k: int) -> List[int]:\n",
    "    heapq.heapify(arr)\n",
    "    return [heapq.heappop(arr) for _ in range(k)]"
   ]
  },
  {
   "cell_type": "code",
   "execution_count": 212,
   "metadata": {},
   "outputs": [],
   "source": [
    "from statistics import median\n",
    "def topK(nums, l, r, k):\n",
    "  if r - l + 1 <= 1:\n",
    "    return nums[l]\n",
    "  v = median([nums[l], nums[r], nums[(l + r) >> 1]])\n",
    "  i = l - 1\n",
    "  j = r + 1\n",
    "  while i < j:\n",
    "    i += 1\n",
    "    while nums[i] < v:\n",
    "      i += 1\n",
    "    j -= 1\n",
    "    while nums[j] > v:\n",
    "      j -= 1\n",
    "    if i < j:\n",
    "      nums[i], nums[j] = nums[j], nums[i]\n",
    "  if k > j - l + 1:\n",
    "    return topK(nums, j + 1, r, k - (j - l + 1))\n",
    "  else:\n",
    "    return topK(nums, l, j, k)\n",
    "\n",
    "class Solution:\n",
    "  def smallestK(self, arr: List[int], k: int) -> List[int]:\n",
    "    if k <= 0 or k > len(arr): return []\n",
    "    topK(arr, 0, len(arr) - 1, k)\n",
    "    return arr[:k]"
   ]
  },
  {
   "cell_type": "markdown",
   "metadata": {},
   "source": [
    "912. 排序数组"
   ]
  },
  {
   "cell_type": "code",
   "execution_count": 213,
   "metadata": {},
   "outputs": [],
   "source": [
    "def heapify(nums, n, i):\n",
    "  smallest = i\n",
    "  l = 2 * i + 1\n",
    "  r = 2 * i + 2\n",
    "  if l < n and nums[l] < nums[smallest]:\n",
    "    smallest = l\n",
    "  if r < n and nums[r] < nums[smallest]:\n",
    "    smallest = r\n",
    "  if smallest != i:\n",
    "    nums[smallest], nums[i] = nums[i], nums[smallest]\n",
    "    heapify(nums, n, smallest)\n",
    "    \n",
    "class Solution:\n",
    "  def sortArray(self, nums: List[int]) -> List[int]:\n",
    "    n = len(nums)\n",
    "    for i in range(n // 2 - 1, -1, -1):\n",
    "      heapify(nums, n, i)\n",
    "    for i in range(n):\n",
    "      nums[0], nums[n - i - 1] = nums[n - i - 1], nums[0]\n",
    "      heapify(nums, n - i - 1, 0)\n",
    "    nums.reverse()\n",
    "    return nums"
   ]
  },
  {
   "cell_type": "code",
   "execution_count": 214,
   "metadata": {},
   "outputs": [],
   "source": [
    "from statistics import median\n",
    "def quicksort(nums, l, r):\n",
    "  if r - l + 1 <= 1:\n",
    "    return\n",
    "  v = median([nums[l], nums[r], nums[(l + r) >> 1]])\n",
    "  i = l - 1; j = r + 1\n",
    "  while i < j:\n",
    "    i += 1\n",
    "    while nums[i] < v: i += 1\n",
    "    j -= 1\n",
    "    while nums[j] > v: j -= 1\n",
    "    if i < j: nums[i], nums[j] = nums[j], nums[i]\n",
    "  quicksort(nums, l, j)\n",
    "  quicksort(nums, j + 1, r)\n",
    "  \n",
    "class Solution:\n",
    "  def sortArray(self, nums: List[int]) -> List[int]:\n",
    "    quicksort(nums, 0, len(nums) - 1)\n",
    "    return nums    "
   ]
  },
  {
   "cell_type": "code",
   "execution_count": 215,
   "metadata": {},
   "outputs": [],
   "source": [
    "def mergesort(nums):\n",
    "  if len(nums) <= 1:\n",
    "    return nums\n",
    "\n",
    "  m = len(nums) >> 1\n",
    "  l = mergesort(nums[:m])\n",
    "  r = mergesort(nums[m:])\n",
    "  \n",
    "  return merge(l, r)\n",
    "def merge(l, r):\n",
    "  merged = []\n",
    "  l_i, r_i = 0, 0\n",
    "  while l_i < len(l) and r_i < len(r):\n",
    "    if l[l_i] <= r[r_i]:\n",
    "      merged.append(l[l_i])\n",
    "      l_i += 1\n",
    "    else:\n",
    "      merged.append(r[r_i])\n",
    "      r_i += 1\n",
    "  merged.extend(l[l_i:])\n",
    "  merged.extend(r[r_i:])\n",
    "  return merged\n",
    "class Solution:\n",
    "  def sortArray(self, nums: List[int]) -> List[int]:\n",
    "    return mergesort(nums)"
   ]
  },
  {
   "cell_type": "markdown",
   "metadata": {},
   "source": [
    "LCR 170. 交易逆序对的总数"
   ]
  },
  {
   "cell_type": "code",
   "execution_count": 216,
   "metadata": {},
   "outputs": [],
   "source": [
    "def mergesort(nums):\n",
    "  if len(nums) <= 1:\n",
    "    return nums, 0\n",
    "\n",
    "  m = len(nums) >> 1\n",
    "  l, lp = mergesort(nums[:m])\n",
    "  r, rp = mergesort(nums[m:])\n",
    "\n",
    "  merged, p = merge(l, r)\n",
    "  return merged, p + lp + rp\n",
    "\n",
    "\n",
    "def merge(l, r):\n",
    "  merged = []\n",
    "  l_i, r_i = 0, 0\n",
    "  p = 0\n",
    "  while l_i < len(l) and r_i < len(r):\n",
    "    if l[l_i] <= r[r_i]:\n",
    "      merged.append(l[l_i])\n",
    "      l_i += 1\n",
    "    else:\n",
    "      merged.append(r[r_i])\n",
    "      r_i += 1\n",
    "      p += len(l) - l_i\n",
    "  merged.extend(l[l_i:])\n",
    "  merged.extend(r[r_i:])\n",
    "  return merged, p\n",
    "\n",
    "class Solution:\n",
    "  def reversePairs(self, record: List[int]) -> int:\n",
    "    return mergesort(record)[1]"
   ]
  },
  {
   "cell_type": "markdown",
   "metadata": {},
   "source": [
    "189. 轮转数组"
   ]
  },
  {
   "cell_type": "code",
   "execution_count": 217,
   "metadata": {},
   "outputs": [],
   "source": [
    "class Solution:\n",
    "  def rotate(self, nums: List[int], k: int) -> None:\n",
    "    k = k % len(nums)\n",
    "    nums[-k:] = reversed(nums[-k:])\n",
    "    nums[:-k] = reversed(nums[:-k])\n",
    "    nums.reverse()"
   ]
  },
  {
   "cell_type": "code",
   "execution_count": 218,
   "metadata": {},
   "outputs": [
    {
     "data": {
      "text/plain": [
       "[1, 2, 3, 4, 7, 6, 5]"
      ]
     },
     "execution_count": 218,
     "metadata": {},
     "output_type": "execute_result"
    }
   ],
   "source": [
    "arr = [1, 2, 3, 4, 5, 6, 7]\n",
    "arr[-3:] = reversed(arr[-3:])\n",
    "arr[-3:].reverse()\n",
    "arr"
   ]
  },
  {
   "cell_type": "markdown",
   "metadata": {},
   "source": [
    "1901. 寻找峰值 II"
   ]
  },
  {
   "cell_type": "code",
   "execution_count": 219,
   "metadata": {},
   "outputs": [
    {
     "data": {
      "text/plain": [
       "-1"
      ]
     },
     "execution_count": 219,
     "metadata": {},
     "output_type": "execute_result"
    }
   ],
   "source": [
    "from typing import List\n",
    "class Solution:\n",
    "  def findPeakGrid(self, mat: List[List[int]]) -> List[int]:\n",
    "    n = len(mat)\n",
    "    m = len(mat[0])\n",
    "    # res = []\n",
    "    def isPeak(i, j):\n",
    "      for dx, dy in [(0, -1),  (-1, 0), (0, 1), (1, 0)]:\n",
    "        if i + dx < n and i + dx >= 0 and j + dy < m and j + dy >= 0:\n",
    "          if mat[i][j] <= mat[i + dx][j + dy]:\n",
    "            return False\n",
    "      return True\n",
    "    for i in range(n):\n",
    "      l, r = -1, m - 1\n",
    "      while l + 1 < r:\n",
    "        mid = (l + r) >> 1\n",
    "        if isPeak(i, mid):\n",
    "          return [i, mid]\n",
    "        if mat[i][mid] < mat[i][mid + 1]:\n",
    "          l = mid\n",
    "        else:\n",
    "          r = mid\n",
    "          # res.append()\n",
    "    # return res\n",
    "    return -1\n",
    "Solution().findPeakGrid([[70,50,40,30,20],[100,1,2,3,4]])"
   ]
  },
  {
   "cell_type": "code",
   "execution_count": 220,
   "metadata": {},
   "outputs": [],
   "source": [
    "class Solution:\n",
    "  def findPeakGrid(self, mat: List[List[int]]) -> List[int]:\n",
    "    n = len(mat)\n",
    "    m = len(mat[0])\n",
    "\n",
    "    l, r = -1, n - 1\n",
    "    while l + 1 < r:\n",
    "      mid = (l + r) >> 1\n",
    "      max_col_val = max(mat[mid])\n",
    "      if max_col_val < mat[mid + 1][mat[mid].index(max_col_val)]:\n",
    "        l = mid\n",
    "      else:\n",
    "        r = mid\n",
    "    return [r, mat[r].index(max(mat[r]))]        "
   ]
  },
  {
   "cell_type": "markdown",
   "metadata": {},
   "source": []
  },
  {
   "cell_type": "code",
   "execution_count": null,
   "metadata": {},
   "outputs": [],
   "source": []
  }
 ],
 "metadata": {
  "kernelspec": {
   "display_name": "Python 3",
   "language": "python",
   "name": "python3"
  },
  "language_info": {
   "codemirror_mode": {
    "name": "ipython",
    "version": 3
   },
   "file_extension": ".py",
   "mimetype": "text/x-python",
   "name": "python",
   "nbconvert_exporter": "python",
   "pygments_lexer": "ipython3",
   "version": "3.11.5"
  }
 },
 "nbformat": 4,
 "nbformat_minor": 2
}
