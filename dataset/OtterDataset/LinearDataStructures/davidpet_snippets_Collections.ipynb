{
 "cells": [
  {
   "cell_type": "markdown",
   "id": "eafdaef4",
   "metadata": {},
   "source": [
    "# What's With This File???\n",
    "\n",
    "Because itypescript hardcodes the ts compiler options to build for **ES5 javascript** instead of ES6, you need to be able to **import the polyfill** that TS requires for using those data structures in older JS. But alas, you **cannot import nodejs** modules in itypescript kernel notebooks (for reasons I don't know). So it's impossible to use Map and Set in a jupyter notebook targetted for typescript. Thus, I am using a python notebook and the writefile magic as a workaround. The main victim here is syntax highlighting.\n",
    "\n",
    "## Pro Tip\n",
    "\n",
    "You can go look at the files in **ts-files** to see them with proper **syntax highlighting**.\n"
   ]
  },
  {
   "cell_type": "markdown",
   "id": "75abc74a",
   "metadata": {},
   "source": [
    "# Built-In Collections\n"
   ]
  },
  {
   "cell_type": "code",
   "execution_count": 71,
   "id": "da736bb1",
   "metadata": {},
   "outputs": [
    {
     "name": "stdout",
     "output_type": "stream",
     "text": [
      "Overwriting ts-files/built-in-collections.ts\n"
     ]
    }
   ],
   "source": [
    "%%writefile ts-files/built-in-collections.ts\n",
    "\n",
    "// Array\n",
    "const numbers: number[] = [1, 2, 3, 4];\n",
    "const fruits: string[] = [\"apple\", \"banana\", \"orange\"];\n",
    "\n",
    "// Tuple\n",
    "const person: [string, number] = [\"John\", 30];\n",
    "\n",
    "// Set\n",
    "const uniqueNumbers: Set<number> = new Set([1, 2, 3, 4]);\n",
    "\n",
    "// Map\n",
    "// Notice no {} like Python\n",
    "// because that means Object\n",
    "const studentGrades: Map<string, number> = new Map([\n",
    "[\"Alice\", 90],\n",
    "[\"Bob\", 85],\n",
    "[\"Charlie\", 92],\n",
    "]);\n",
    "\n",
    "// Object\n",
    "const personDetails: { name: string, age: number } = { name: \"John\", age: 30 };\n",
    "\n",
    "// ReadonlyArray\n",
    "const readOnlyNumbers: ReadonlyArray<number> = [1, 2, 3, 4];\n",
    "\n",
    "console.log(numbers);\n",
    "console.log(fruits);\n",
    "console.log(person);\n",
    "console.log(uniqueNumbers);\n",
    "console.log(studentGrades);\n",
    "console.log(personDetails);\n",
    "console.log(readOnlyNumbers);"
   ]
  },
  {
   "cell_type": "code",
   "execution_count": 72,
   "id": "6070f27b",
   "metadata": {},
   "outputs": [
    {
     "name": "stdout",
     "output_type": "stream",
     "text": [
      "/bin/bash: /home/davidpet/miniconda3/envs/ai/lib/libtinfo.so.6: no version information available (required by /bin/bash)\n",
      "[ \u001b[33m1\u001b[39m, \u001b[33m2\u001b[39m, \u001b[33m3\u001b[39m, \u001b[33m4\u001b[39m ]\n",
      "[ \u001b[32m'apple'\u001b[39m, \u001b[32m'banana'\u001b[39m, \u001b[32m'orange'\u001b[39m ]\n",
      "[ \u001b[32m'John'\u001b[39m, \u001b[33m30\u001b[39m ]\n",
      "Set(4) { \u001b[33m1\u001b[39m, \u001b[33m2\u001b[39m, \u001b[33m3\u001b[39m, \u001b[33m4\u001b[39m }\n",
      "Map(3) { \u001b[32m'Alice'\u001b[39m => \u001b[33m90\u001b[39m, \u001b[32m'Bob'\u001b[39m => \u001b[33m85\u001b[39m, \u001b[32m'Charlie'\u001b[39m => \u001b[33m92\u001b[39m }\n",
      "{ name: \u001b[32m'John'\u001b[39m, age: \u001b[33m30\u001b[39m }\n",
      "[ \u001b[33m1\u001b[39m, \u001b[33m2\u001b[39m, \u001b[33m3\u001b[39m, \u001b[33m4\u001b[39m ]\n"
     ]
    }
   ],
   "source": [
    "!ts-node ts-files/built-in-collections.ts"
   ]
  },
  {
   "cell_type": "markdown",
   "id": "ce67f79a",
   "metadata": {},
   "source": [
    "# Arrays\n"
   ]
  },
  {
   "cell_type": "code",
   "execution_count": 11,
   "id": "0259ddab",
   "metadata": {},
   "outputs": [
    {
     "name": "stdout",
     "output_type": "stream",
     "text": [
      "Overwriting ts-files/arrays.ts\n"
     ]
    }
   ],
   "source": [
    "%%writefile ts-files/arrays.ts\n",
    "\n",
    "// Array declaration and initialization\n",
    "const numbers: number[] = [1, 2, 3, 4, 5];\n",
    "const fruits: Array<string> = ['apple', 'banana', 'orange'];\n",
    "\n",
    "// Accessing array elements\n",
    "console.log(numbers[0]); // Output: 1\n",
    "console.log(fruits[1]); // Output: banana\n",
    "\n",
    "// Modifying array elements\n",
    "numbers[2] = 10;\n",
    "fruits[0] = 'pear';\n",
    "\n",
    "// Array length\n",
    "console.log(numbers.length); // Output: 5\n",
    "console.log(fruits.length); // Output: 3\n",
    "\n",
    "// Array methods\n",
    "numbers.push(6); // Add an element to the end\n",
    "console.log(\"pop: \" + fruits.pop()); // Remove the last element\n",
    "const slicedNumbers = numbers.slice(1, 4); // Slice elements from index 1 to 3\n",
    "console.log(\"sliced: \" + slicedNumbers);\n",
    "slicedNumbers[0] = 100;\n",
    "console.log(numbers); // the 100 doesn't show up - the slice is a COPY!\n",
    "\n",
    "// Iterating over arrays\n",
    "for (let i = 0; i < numbers.length; i++) {\n",
    "  console.log(numbers[i]);\n",
    "}\n",
    "\n",
    "for (const fruit of fruits) {\n",
    "  console.log(fruit);\n",
    "}\n",
    "\n",
    "console.log(\"nums\");\n",
    "numbers.forEach((num) => {\n",
    "  console.log(num);\n",
    "});\n",
    "console.log(\"indices\");\n",
    "numbers.forEach((num, i) => { // it knows the difference based on your lambda\n",
    "  console.log(i);\n",
    "});\n",
    "\n",
    "// Array spread operator\n",
    "const combinedArray = [...numbers, ...fruits];\n",
    "\n",
    "// Array destructuring\n",
    "const [firstNumber, secondNumber, ...restNumbers] = numbers;\n",
    "const [firstFruit, ...restFruits] = fruits;\n",
    "\n",
    "// Array filtering and mapping\n",
    "// Notice you don't need to convert back to array unlike Python\n",
    "const evenNumbers = numbers.filter((num) => num % 2 === 0);\n",
    "const doubledNumbers = numbers.map((num) => num * 2);\n",
    "console.log(evenNumbers)\n",
    "\n",
    "// Multidimensional arrays\n",
    "const matrix: number[][] = [[1, 2, 3], [4, 5, 6], [7, 8, 9]];\n",
    "const value = matrix[1][2]; // Accessing element at row 1, column 2"
   ]
  },
  {
   "cell_type": "code",
   "execution_count": 12,
   "id": "60b6916d",
   "metadata": {},
   "outputs": [
    {
     "name": "stdout",
     "output_type": "stream",
     "text": [
      "\u001b[33m1\u001b[39m\r\n",
      "banana\r\n",
      "\u001b[33m5\u001b[39m\r\n",
      "\u001b[33m3\u001b[39m\r\n",
      "pop: orange\r\n",
      "sliced: 2,10,4\r\n",
      "[ \u001b[33m1\u001b[39m, \u001b[33m2\u001b[39m, \u001b[33m10\u001b[39m, \u001b[33m4\u001b[39m, \u001b[33m5\u001b[39m, \u001b[33m6\u001b[39m ]\r\n",
      "\u001b[33m1\u001b[39m\r\n",
      "\u001b[33m2\u001b[39m\r\n",
      "\u001b[33m10\u001b[39m\r\n",
      "\u001b[33m4\u001b[39m\r\n",
      "\u001b[33m5\u001b[39m\r\n",
      "\u001b[33m6\u001b[39m\r\n",
      "pear\r\n",
      "banana\r\n",
      "nums\r\n",
      "\u001b[33m1\u001b[39m\r\n",
      "\u001b[33m2\u001b[39m\r\n",
      "\u001b[33m10\u001b[39m\r\n",
      "\u001b[33m4\u001b[39m\r\n",
      "\u001b[33m5\u001b[39m\r\n",
      "\u001b[33m6\u001b[39m\r\n",
      "indices\r\n",
      "\u001b[33m0\u001b[39m\r\n",
      "\u001b[33m1\u001b[39m\r\n",
      "\u001b[33m2\u001b[39m\r\n",
      "\u001b[33m3\u001b[39m\r\n",
      "\u001b[33m4\u001b[39m\r\n",
      "\u001b[33m5\u001b[39m\r\n",
      "[ \u001b[33m2\u001b[39m, \u001b[33m10\u001b[39m, \u001b[33m4\u001b[39m, \u001b[33m6\u001b[39m ]\r\n"
     ]
    }
   ],
   "source": [
    "!ts-node ts-files/arrays.ts"
   ]
  },
  {
   "cell_type": "markdown",
   "id": "41a7d607",
   "metadata": {},
   "source": [
    "# Tuples\n"
   ]
  },
  {
   "cell_type": "code",
   "execution_count": 58,
   "id": "d323e336",
   "metadata": {},
   "outputs": [
    {
     "name": "stdout",
     "output_type": "stream",
     "text": [
      "Overwriting ts-files/tuples.ts\n"
     ]
    }
   ],
   "source": [
    "%%writefile ts-files/tuples.ts\n",
    "\n",
    "// A key difference from Python is they look like arrays\n",
    "// but have types inside instead of outside.\n",
    "// You cannot ommit the [] or use () intead like in\n",
    "// Python.\n",
    "\n",
    "// Tuple declaration and initialization\n",
    "let tuple1: [string, number] = ['apple', 5];\n",
    "let tuple2: [string, boolean, number] = ['banana', true, 10];\n",
    "\n",
    "// Accessing tuple elements\n",
    "console.log(tuple1[0]); // Output: apple\n",
    "console.log(tuple2[1]); // Output: true\n",
    "\n",
    "// Modifying tuple elements\n",
    "tuple1[1] = 8;\n",
    "tuple2[0] = 'orange';\n",
    "\n",
    "// Tuple length\n",
    "console.log(tuple1.length); // Output: 2\n",
    "console.log(tuple2.length); // Output: 3\n",
    "\n",
    "// Destructuring tuples\n",
    "const [fruit, hasStock, quantity] = tuple2;\n",
    "console.log(fruit); // Output: orange\n",
    "console.log(hasStock); // Output: true\n",
    "console.log(quantity); // Output: 10\n",
    "    \n",
    "// Don't-care values (_, __, etc.)\n",
    "const [fruit2, _, quantity2] = tuple2;\n",
    "console.log(fruit2);\n",
    "console.log(quantity2);\n",
    "\n",
    "// Tuples are a TS feature\n",
    "// They are actually arrays underneath\n",
    "// const t = new Tuple(); // not a real class"
   ]
  },
  {
   "cell_type": "code",
   "execution_count": 59,
   "id": "1e0f251b",
   "metadata": {},
   "outputs": [
    {
     "name": "stdout",
     "output_type": "stream",
     "text": [
      "apple\n",
      "\u001b[33mtrue\u001b[39m\n",
      "\u001b[33m2\u001b[39m\n",
      "\u001b[33m3\u001b[39m\n",
      "orange\n",
      "\u001b[33mtrue\u001b[39m\n",
      "\u001b[33m10\u001b[39m\n",
      "orange\n",
      "\u001b[33m10\u001b[39m\n"
     ]
    }
   ],
   "source": [
    "!ts-node ts-files/tuples.ts"
   ]
  },
  {
   "cell_type": "markdown",
   "id": "3cafdbef",
   "metadata": {},
   "source": [
    "# Maps\n"
   ]
  },
  {
   "cell_type": "code",
   "execution_count": 77,
   "id": "1b8b2a95",
   "metadata": {},
   "outputs": [
    {
     "name": "stdout",
     "output_type": "stream",
     "text": [
      "Overwriting ts-files/maps.ts\n"
     ]
    }
   ],
   "source": [
    "%%writefile ts-files/maps.ts\n",
    "\n",
    "// Notice that unlike Python and C++, but like Java,\n",
    "// you cannot use [] for maps.  You have to use \n",
    "// get, set, has, etc.\n",
    "\n",
    "// Map declaration and initialization\n",
    "const myMap = new Map<number, string>();\n",
    "\n",
    "// Adding elements to the Map\n",
    "myMap.set(1, 'apple');\n",
    "myMap.set(2, 'banana');\n",
    "myMap.set(3, 'orange');\n",
    "\n",
    "// Accessing elements in the Map\n",
    "console.log(myMap.get(2)); // Output: banana\n",
    "\n",
    "// Checking if a key exists in the Map\n",
    "console.log(myMap.has(3)); // Output: true\n",
    "\n",
    "// Default value\n",
    "console.log(myMap.get(4) || 'fakefruit')\n",
    "\n",
    "// Removing an element from the Map\n",
    "myMap.delete(1);\n",
    "\n",
    "// Iterating over the Map\n",
    "for (const [key, value] of myMap) {\n",
    "  console.log(`Key: ${key}, Value: ${value}`);\n",
    "}\n",
    "\n",
    "// Map size\n",
    "console.log(myMap.size); // Output: 2\n",
    "\n",
    "// Clearing the Map\n",
    "myMap.clear();"
   ]
  },
  {
   "cell_type": "code",
   "execution_count": 78,
   "id": "d4e8634b",
   "metadata": {},
   "outputs": [
    {
     "name": "stdout",
     "output_type": "stream",
     "text": [
      "/bin/bash: /home/davidpet/miniconda3/envs/ai/lib/libtinfo.so.6: no version information available (required by /bin/bash)\n",
      "banana\n",
      "\u001b[33mtrue\u001b[39m\n",
      "fakefruit\n",
      "Key: 2, Value: banana\n",
      "Key: 3, Value: orange\n",
      "\u001b[33m2\u001b[39m\n"
     ]
    }
   ],
   "source": [
    "!ts-node ts-files/maps.ts"
   ]
  },
  {
   "cell_type": "markdown",
   "id": "64d3367f",
   "metadata": {},
   "source": [
    "# Sets\n"
   ]
  },
  {
   "cell_type": "code",
   "execution_count": 79,
   "id": "bc5fdceb",
   "metadata": {},
   "outputs": [
    {
     "name": "stdout",
     "output_type": "stream",
     "text": [
      "Overwriting ts-files/sets.ts\n"
     ]
    }
   ],
   "source": [
    "%%writefile ts-files/sets.ts\n",
    "\n",
    "// Notice that unlike in Python, you cannot\n",
    "// use {} for set literals.\n",
    "\n",
    "const mySet = new Set<number>();\n",
    "\n",
    "mySet.add(1);\n",
    "mySet.add(2);\n",
    "mySet.add(3);\n",
    "mySet.add(3); // noop\n",
    "\n",
    "console.log(mySet.size); // Output: 3\n",
    "console.log(mySet.has(2)); // Output: true\n",
    "\n",
    "mySet.delete(2);\n",
    "console.log(mySet.size); // Output: 2\n",
    "\n",
    "mySet.forEach((value) => {\n",
    "  console.log(value);\n",
    "});"
   ]
  },
  {
   "cell_type": "code",
   "execution_count": 80,
   "id": "348d1232",
   "metadata": {},
   "outputs": [
    {
     "name": "stdout",
     "output_type": "stream",
     "text": [
      "/bin/bash: /home/davidpet/miniconda3/envs/ai/lib/libtinfo.so.6: no version information available (required by /bin/bash)\n",
      "\u001b[33m3\u001b[39m\n",
      "\u001b[33mtrue\u001b[39m\n",
      "\u001b[33m2\u001b[39m\n",
      "\u001b[33m1\u001b[39m\n",
      "\u001b[33m3\u001b[39m\n"
     ]
    }
   ],
   "source": [
    "!ts-node ts-files/sets.ts"
   ]
  },
  {
   "cell_type": "markdown",
   "id": "58308ae6",
   "metadata": {},
   "source": [
    "# Structures\n"
   ]
  },
  {
   "cell_type": "code",
   "execution_count": 81,
   "id": "c8efd533",
   "metadata": {},
   "outputs": [
    {
     "name": "stdout",
     "output_type": "stream",
     "text": [
      "Overwriting ts-files/structures.ts\n"
     ]
    }
   ],
   "source": [
    "%%writefile ts-files/structures.ts\n",
    "\n",
    "// Sort of like C syntax but with an = sign and ;\n",
    "type Person = {\n",
    "  name: string;\n",
    "  age: number;\n",
    "};\n",
    "\n",
    "const person: Person = {\n",
    "  name: \"John Doe\",\n",
    "  age: 25\n",
    "};\n",
    "\n",
    "console.log(person.name); // Output: John Doe\n",
    "console.log(person.age); // Output: 25\n",
    "    \n",
    "// Alternative syntax\n",
    "// equivalent in this case\n",
    "// no = or ;\n",
    "interface Person2 {\n",
    "    name: string;\n",
    "    age: number;\n",
    "}\n",
    "\n",
    "const person2: Person = {\n",
    "    name: \"John Doe\",\n",
    "    age: 25\n",
    "};"
   ]
  },
  {
   "cell_type": "code",
   "execution_count": 82,
   "id": "4c072406",
   "metadata": {},
   "outputs": [
    {
     "name": "stdout",
     "output_type": "stream",
     "text": [
      "/bin/bash: /home/davidpet/miniconda3/envs/ai/lib/libtinfo.so.6: no version information available (required by /bin/bash)\n",
      "John Doe\n",
      "\u001b[33m25\u001b[39m\n"
     ]
    }
   ],
   "source": [
    "!ts-node ts-files/structures.ts"
   ]
  },
  {
   "cell_type": "markdown",
   "id": "2748e20c",
   "metadata": {},
   "source": [
    "# Classes\n"
   ]
  },
  {
   "cell_type": "code",
   "execution_count": 83,
   "id": "f9927d10",
   "metadata": {},
   "outputs": [
    {
     "name": "stdout",
     "output_type": "stream",
     "text": [
      "Overwriting ts-files/classes.ts\n"
     ]
    }
   ],
   "source": [
    "%%writefile ts-files/classes.ts\n",
    "\n",
    "class Person {\n",
    "  name: string;\n",
    "  age: number;\n",
    "\n",
    "  constructor(name: string, age: number) {\n",
    "    this.name = name;\n",
    "    this.age = age;\n",
    "  }\n",
    "\n",
    "  sayHello() {\n",
    "    console.log(`Hello, my name is ${this.name} and I'm ${this.age} years old.`);\n",
    "  }\n",
    "}\n",
    "\n",
    "const person = new Person(\"John Doe\", 25);\n",
    "person.sayHello(); // Output: Hello, my name is John Doe and I'm 25 years old.\n",
    "                \n",
    "console.log(person.name)"
   ]
  },
  {
   "cell_type": "code",
   "execution_count": 84,
   "id": "8a75e927",
   "metadata": {},
   "outputs": [
    {
     "name": "stdout",
     "output_type": "stream",
     "text": [
      "/bin/bash: /home/davidpet/miniconda3/envs/ai/lib/libtinfo.so.6: no version information available (required by /bin/bash)\n",
      "Hello, my name is John Doe and I'm 25 years old.\n",
      "John Doe\n"
     ]
    }
   ],
   "source": [
    "!ts-node ts-files/classes.ts"
   ]
  },
  {
   "cell_type": "markdown",
   "id": "acf282d7",
   "metadata": {},
   "source": [
    "# Immutability\n"
   ]
  },
  {
   "cell_type": "markdown",
   "id": "6492b075",
   "metadata": {},
   "source": [
    "There is nothing built into TypeScript to enforce it at runtime - you need to make your own or use a **3rd party library**.\n",
    "\n",
    "However, you can use **ReadonlyArray**, **ReadonlyMap**, etc. to have the compiler enforce how you're using it. You can still get into trouble at runtime though because they turn into the regular collections in JS.\n"
   ]
  },
  {
   "cell_type": "markdown",
   "id": "57755a4c",
   "metadata": {},
   "source": [
    "# String as Collection\n"
   ]
  },
  {
   "cell_type": "code",
   "execution_count": 85,
   "id": "3c41ce85",
   "metadata": {},
   "outputs": [
    {
     "name": "stdout",
     "output_type": "stream",
     "text": [
      "Overwriting ts-files/string-as-collection.ts\n"
     ]
    }
   ],
   "source": [
    "%%writefile ts-files/string-as-collection.ts\n",
    "\n",
    "// Note that a string is a collection of strings\n",
    "// rather than having a special char type.\n",
    "\n",
    "const str: string = 'Hello, world!';\n",
    "\n",
    "// Length\n",
    "console.log(str.length); // Output: 13\n",
    "\n",
    "// Accessing characters\n",
    "console.log(str[0]); // Output: 'H'\n",
    "console.log(str.charAt(1)); // Output: 'e'\n",
    "\n",
    "// Substring\n",
    "console.log(str.substring(7, 12)); // Output: 'world'\n",
    "console.log(str.slice(7, 12)); // Output: 'world'\n",
    "\n",
    "// Splitting into an array\n",
    "const arr: string[] = str.split(', ');\n",
    "console.log(arr); // Output: ['Hello', 'world!']\n",
    "\n",
    "// Iterating over characters\n",
    "for (const char of str) {\n",
    "  // char is a string, not a special char type\n",
    "  console.log(char); // Output: 'H', 'e', 'l', 'l', 'o', ',', ' ', 'w', 'o', 'r', 'l', 'd', '!'\n",
    "}\n",
    "\n",
    "str.split('').forEach((char: string) => {\n",
    "  console.log(char); // Output: 'H', 'e', 'l', 'l', 'o', ',', ' ', 'w', 'o', 'r', 'l', 'd', '!'\n",
    "});"
   ]
  },
  {
   "cell_type": "code",
   "execution_count": 86,
   "id": "beb5a049",
   "metadata": {},
   "outputs": [
    {
     "name": "stdout",
     "output_type": "stream",
     "text": [
      "/bin/bash: /home/davidpet/miniconda3/envs/ai/lib/libtinfo.so.6: no version information available (required by /bin/bash)\n",
      "\u001b[33m13\u001b[39m\n",
      "H\n",
      "e\n",
      "world\n",
      "world\n",
      "[ \u001b[32m'Hello'\u001b[39m, \u001b[32m'world!'\u001b[39m ]\n",
      "H\n",
      "e\n",
      "l\n",
      "l\n",
      "o\n",
      ",\n",
      " \n",
      "w\n",
      "o\n",
      "r\n",
      "l\n",
      "d\n",
      "!\n",
      "H\n",
      "e\n",
      "l\n",
      "l\n",
      "o\n",
      ",\n",
      " \n",
      "w\n",
      "o\n",
      "r\n",
      "l\n",
      "d\n",
      "!\n"
     ]
    }
   ],
   "source": [
    "!ts-node ts-files/string-as-collection.ts"
   ]
  },
  {
   "cell_type": "markdown",
   "id": "a29dac91",
   "metadata": {},
   "source": [
    "# Destructuring Objects"
   ]
  },
  {
   "cell_type": "code",
   "execution_count": 3,
   "id": "0e4be692",
   "metadata": {},
   "outputs": [
    {
     "name": "stdout",
     "output_type": "stream",
     "text": [
      "Overwriting ts-files/destructuring.ts\n"
     ]
    }
   ],
   "source": [
    "%%writefile ts-files/destructuring.ts\n",
    "\n",
    "const o = {a: 1, b: 2, c: 3}; // notice we ignore c in the destructuring\n",
    "const {a, b} = o; // keeping key names as variable names\n",
    "const {a: x, b: y} = o; // renaming the variables\n",
    "\n",
    "console.log(o);\n",
    "console.log(a);\n",
    "console.log(b);\n",
    "console.log(x);\n",
    "console.log(y);\n",
    "console.log();\n",
    "\n",
    "function f({a, b}: {a: number, b: number}) {\n",
    "    console.log(a);\n",
    "    console.log(b);\n",
    "}\n",
    "\n",
    "function g({a: theA, b: theB}: {a: number, b:number}){ //renaming the variables on destructure\n",
    "    console.log(theA);\n",
    "    console.log(theB);\n",
    "}\n",
    "\n",
    "f({a: 5, b: 10});\n",
    "g({a: 5, b: 10});"
   ]
  },
  {
   "cell_type": "code",
   "execution_count": 4,
   "id": "32e399c4",
   "metadata": {},
   "outputs": [
    {
     "name": "stdout",
     "output_type": "stream",
     "text": [
      "{ a: \u001b[33m1\u001b[39m, b: \u001b[33m2\u001b[39m, c: \u001b[33m3\u001b[39m }\r\n",
      "\u001b[33m1\u001b[39m\r\n",
      "\u001b[33m2\u001b[39m\r\n",
      "\u001b[33m1\u001b[39m\r\n",
      "\u001b[33m2\u001b[39m\r\n",
      "\r\n",
      "\u001b[33m5\u001b[39m\r\n",
      "\u001b[33m10\u001b[39m\r\n",
      "\u001b[33m5\u001b[39m\r\n",
      "\u001b[33m10\u001b[39m\r\n"
     ]
    }
   ],
   "source": [
    "!ts-node ts-files/destructuring.ts"
   ]
  },
  {
   "cell_type": "markdown",
   "id": "cac6d73e",
   "metadata": {},
   "source": [
    "# Array.from()\n",
    "\n",
    "`Array.from()` will convert anything that's either an iterable or kind of like an array into a true array.  It can also be used to copy a real array to a different array (shallow copy).\n",
    "\n",
    "For something that's kind of like an array to be usable by `Array.from()`, it must have an index operator and a length property.  Collections in the DOM are like this."
   ]
  },
  {
   "cell_type": "markdown",
   "id": "7afdacb2",
   "metadata": {},
   "source": [
    "# Type Inference on Mixed Arrays\n",
    "\n",
    "When you mix arrays and use type inference, TypeScript will try to find the __polymorphic base__ if there are no primitives involved - otherwise it will use a __type union__, or a combination of the two.\n",
    "\n",
    "eg. `[1, 'hi', true]` would have type `(number|string|boolean)[]`\n",
    "\n",
    "eg. `[new MyBase(), new MyDerivedFromBase()]` would have type `MyBase[]`\n",
    "\n",
    "eg. `[new MyBase(), new MyDerivedFromBase(), new Object()]` would have type `Object[]`"
   ]
  },
  {
   "cell_type": "markdown",
   "id": "ab05a812",
   "metadata": {},
   "source": [
    "# Reification\n",
    "\n",
    "Adding an item to an index position in an array that doesn't exist automatically adds `undefined` entries in between to make it work.\n",
    "\n",
    "You can also do this `const a = [1, 2, , , , 5];` to achieve a similar effect.\n",
    "\n",
    "NOTE: JS stores arrays like this __sparsely__."
   ]
  },
  {
   "cell_type": "markdown",
   "id": "0436443c",
   "metadata": {},
   "source": [
    "# Stack, Queue, Deque\n",
    "\n",
    "You can use an __array__ as a stack, queue, or deque, but it's worth noting that it will only behave efficiently for a stack.\n",
    "\n",
    "For pushing and popping, JS arrays are designed to be about O(1), but for shifting and unshifting (similar to Java's `ArrayList`, they are as inefficient as you'd expect for those operations.  To get a better queue or deque, you need to implement your own or `npm install` a 3rd party package such as `deque`."
   ]
  },
  {
   "cell_type": "code",
   "execution_count": 19,
   "id": "ab2c8320",
   "metadata": {},
   "outputs": [
    {
     "name": "stdout",
     "output_type": "stream",
     "text": [
      "Overwriting ts-files/deque.ts\n"
     ]
    }
   ],
   "source": [
    "%%writefile ts-files/deque.ts\n",
    "\n",
    "const stack: number[] = [];\n",
    "stack.push(1);\n",
    "stack.push(2);\n",
    "stack.push(3);\n",
    "stack.push(4, 5, 6);\n",
    "console.log(stack);\n",
    "console.log(stack.pop());\n",
    "\n",
    "const queue: number[] = [];\n",
    "queue.unshift(1);\n",
    "queue.unshift(2);\n",
    "queue.unshift(3);\n",
    "queue.unshift(4, 5, 6); // opposite of what you might expect\n",
    "console.log(queue);\n",
    "console.log(queue.shift());\n",
    "\n",
    "const queue2: number[] = [];\n",
    "queue2.push(1, 2, 3, 4, 5, 6); // more intuitive than the unshift version\n",
    "console.log(queue2);\n",
    "console.log(queue2.shift());\n",
    "\n",
    "const stack2: number[] = [];\n",
    "console.log(stack2.pop());"
   ]
  },
  {
   "cell_type": "code",
   "execution_count": 20,
   "id": "d5f1b446",
   "metadata": {},
   "outputs": [
    {
     "name": "stdout",
     "output_type": "stream",
     "text": [
      "[ \u001b[33m1\u001b[39m, \u001b[33m2\u001b[39m, \u001b[33m3\u001b[39m, \u001b[33m4\u001b[39m, \u001b[33m5\u001b[39m, \u001b[33m6\u001b[39m ]\r\n",
      "\u001b[33m6\u001b[39m\r\n",
      "[ \u001b[33m4\u001b[39m, \u001b[33m5\u001b[39m, \u001b[33m6\u001b[39m, \u001b[33m3\u001b[39m, \u001b[33m2\u001b[39m, \u001b[33m1\u001b[39m ]\r\n",
      "\u001b[33m4\u001b[39m\r\n",
      "[ \u001b[33m1\u001b[39m, \u001b[33m2\u001b[39m, \u001b[33m3\u001b[39m, \u001b[33m4\u001b[39m, \u001b[33m5\u001b[39m, \u001b[33m6\u001b[39m ]\r\n",
      "\u001b[33m1\u001b[39m\r\n",
      "\u001b[90mundefined\u001b[39m\r\n"
     ]
    }
   ],
   "source": [
    "!ts-node ts-files/deque.ts"
   ]
  },
  {
   "cell_type": "markdown",
   "id": "59b5928c",
   "metadata": {},
   "source": [
    "# Negative Indices\n",
    "\n",
    "Not allowed in `[]`, but allowed in methods that take indices (eg. `splice`, `slice`, etc.).\n",
    "\n",
    "Count back from end of array just like Python."
   ]
  },
  {
   "cell_type": "markdown",
   "id": "3cccae55",
   "metadata": {},
   "source": [
    "# WeakMap and WeakSet\n",
    "\n",
    "These act like `Map` and `Set` but they hold __weak references to their keys__ (do not prevent garbage collection).  When a key is garbage collected, it is automatically removed from these structures.\n",
    "\n",
    "As a result of the dynamic nature of membership, you are not allowed to enumerate or get the size of these structures."
   ]
  },
  {
   "cell_type": "markdown",
   "id": "8f4bf356",
   "metadata": {},
   "source": [
    "# WeakRef\n",
    "\n",
    "`WeakRef` is a fairly new class that lets you hold a weak reference (doesn't prevent garbage collection) to an object.\n",
    "\n",
    "```TypeScript\n",
    "const w = new WeakRef(o);\n",
    "console.log(w.deref()); // undefined if already garbage collected\n",
    "```"
   ]
  },
  {
   "cell_type": "markdown",
   "id": "eb6e2272",
   "metadata": {},
   "source": [
    "# Data Structures Missing from JS/TS: (either make your own or use 3rd party library)\n",
    "\n",
    "  - efficient queue and deque\n",
    "    - 3rd party libraries: double-ended-queue, typescript-collections, collections (js)\n",
    "  - prioroity queue/heap\n",
    "    - 3rd party libraries: heap, typescript-collections, collections (js)\n",
    "  - sorted map and set\n",
    "    - 3rd party libraries: typescript-collections, collections (js)\n",
    "  - linked list\n",
    "    - 3rd party libraries: typescript-collections, collections (js)\n",
    "  - trie\n",
    "    - no major language seems to have this - just get used to making your own (it's simple)"
   ]
  },
  {
   "cell_type": "markdown",
   "id": "1e6d023a",
   "metadata": {},
   "source": [
    "# Sorting\n",
    "\n",
    "Arrays can be sorted immutably via `toSorted()` or mutably via `sort()`.  Either one can do a default sort, which converts items to strings and sorts lexographically, or by a comparator function (<0, 0, >0).\n",
    "\n",
    "Note that default sorting is __lexographic__ unless you provide a fn."
   ]
  },
  {
   "cell_type": "code",
   "execution_count": 15,
   "id": "5a5e90d1",
   "metadata": {},
   "outputs": [
    {
     "name": "stdout",
     "output_type": "stream",
     "text": [
      "Overwriting ts-files/sorting.ts\n"
     ]
    }
   ],
   "source": [
    "%%writefile ts-files/sorting.ts\n",
    "\n",
    "const a = [1, 2, 3, 11];\n",
    "console.log((a as any).toSorted()); // TS doesn't see toSorted() here for some reason\n",
    "a.sort();\n",
    "console.log(a);\n",
    "\n",
    "a.sort((a, b) => a - b);\n",
    "console.log(a);\n",
    "\n",
    "const b = a.map(n => String(n));\n",
    "console.log(b);\n",
    "// b.sort((a, b) => a - b);\n",
    "b.sort((a, b) => a < b ? -1 : b < a ? 1 : 0); // comparison supported but not subtraction for string\n",
    "console.log(b);"
   ]
  },
  {
   "cell_type": "code",
   "execution_count": 16,
   "id": "61492da9",
   "metadata": {},
   "outputs": [
    {
     "name": "stdout",
     "output_type": "stream",
     "text": [
      "[ \u001b[33m1\u001b[39m, \u001b[33m11\u001b[39m, \u001b[33m2\u001b[39m, \u001b[33m3\u001b[39m ]\r\n",
      "[ \u001b[33m1\u001b[39m, \u001b[33m11\u001b[39m, \u001b[33m2\u001b[39m, \u001b[33m3\u001b[39m ]\r\n",
      "[ \u001b[33m1\u001b[39m, \u001b[33m2\u001b[39m, \u001b[33m3\u001b[39m, \u001b[33m11\u001b[39m ]\r\n",
      "[ \u001b[32m'1'\u001b[39m, \u001b[32m'2'\u001b[39m, \u001b[32m'3'\u001b[39m, \u001b[32m'11'\u001b[39m ]\r\n",
      "[ \u001b[32m'1'\u001b[39m, \u001b[32m'11'\u001b[39m, \u001b[32m'2'\u001b[39m, \u001b[32m'3'\u001b[39m ]\r\n"
     ]
    }
   ],
   "source": [
    "!ts-node ts-files/sorting.ts"
   ]
  },
  {
   "cell_type": "markdown",
   "id": "283ed25c",
   "metadata": {},
   "source": [
    "# Spread Operators\n",
    "\n",
    "The `...` operator works on any iterable and can be used to include an iterable's elements in-place anywhere in an array.\n",
    "\n",
    "Remember that when using spread to copy an object, it is a __shallow copy__."
   ]
  },
  {
   "cell_type": "markdown",
   "id": "ce70d67b",
   "metadata": {},
   "source": [
    "# Array Splicing"
   ]
  },
  {
   "cell_type": "code",
   "execution_count": 36,
   "id": "3b076d5a",
   "metadata": {},
   "outputs": [
    {
     "name": "stdout",
     "output_type": "stream",
     "text": [
      "Overwriting ts-files/splicing.ts\n"
     ]
    }
   ],
   "source": [
    "%%writefile ts-files/splicing.ts\n",
    "\n",
    "// Split array\n",
    "let a = [1, 2, 3, 4, 5];\n",
    "let b = a.splice(2);\n",
    "console.log('splitting');\n",
    "console.log(a);\n",
    "console.log(b);\n",
    "\n",
    "// Removing from middle\n",
    "a = [1, 2, 3, 4, 5];\n",
    "b = a.splice(2, 2);\n",
    "console.log('removing from middle')\n",
    "console.log(a);\n",
    "console.log(b);\n",
    "\n",
    "// Replacing\n",
    "a = [1, 2, 3, 4, 5];\n",
    "b = a.splice(2, 2, 100, 200, 300);\n",
    "console.log('replacing in middle');\n",
    "console.log(a);\n",
    "console.log(b);\n",
    "\n",
    "// Inserting\n",
    "a = [1, 2, 3, 4, 5];\n",
    "b = a.splice(2, 0, 100, 200, 300);\n",
    "console.log('inserting');\n",
    "console.log(a);\n",
    "console.log(b);\n",
    "\n",
    "// Negative index\n",
    "a = [1, 2, 3, 4, 5];\n",
    "b = a.splice(-2);\n",
    "console.log('negative index');\n",
    "console.log(a);\n",
    "console.log(b);\n",
    "\n",
    "// Immutability\n",
    "a = [1, 2, 3, 4, 5];\n",
    "b = (a as any).toSpliced(2, 2); // 'any' only required due to TS for some reason\n",
    "console.log('immutability');\n",
    "console.log(a);\n",
    "console.log(b);"
   ]
  },
  {
   "cell_type": "code",
   "execution_count": 37,
   "id": "612d60f5",
   "metadata": {},
   "outputs": [
    {
     "name": "stdout",
     "output_type": "stream",
     "text": [
      "splitting\r\n",
      "[ \u001b[33m1\u001b[39m, \u001b[33m2\u001b[39m ]\r\n",
      "[ \u001b[33m3\u001b[39m, \u001b[33m4\u001b[39m, \u001b[33m5\u001b[39m ]\r\n",
      "removing from middle\r\n",
      "[ \u001b[33m1\u001b[39m, \u001b[33m2\u001b[39m, \u001b[33m5\u001b[39m ]\r\n",
      "[ \u001b[33m3\u001b[39m, \u001b[33m4\u001b[39m ]\r\n",
      "replacing in middle\r\n",
      "[ \u001b[33m1\u001b[39m, \u001b[33m2\u001b[39m, \u001b[33m100\u001b[39m, \u001b[33m200\u001b[39m, \u001b[33m300\u001b[39m, \u001b[33m5\u001b[39m ]\r\n",
      "[ \u001b[33m3\u001b[39m, \u001b[33m4\u001b[39m ]\r\n",
      "inserting\r\n",
      "[\r\n",
      "    \u001b[33m1\u001b[39m, \u001b[33m2\u001b[39m, \u001b[33m100\u001b[39m, \u001b[33m200\u001b[39m,\r\n",
      "  \u001b[33m300\u001b[39m, \u001b[33m3\u001b[39m,   \u001b[33m4\u001b[39m,   \u001b[33m5\u001b[39m\r\n",
      "]\r\n",
      "[]\r\n",
      "negative index\r\n",
      "[ \u001b[33m1\u001b[39m, \u001b[33m2\u001b[39m, \u001b[33m3\u001b[39m ]\r\n",
      "[ \u001b[33m4\u001b[39m, \u001b[33m5\u001b[39m ]\r\n",
      "immutability\r\n",
      "[ \u001b[33m1\u001b[39m, \u001b[33m2\u001b[39m, \u001b[33m3\u001b[39m, \u001b[33m4\u001b[39m, \u001b[33m5\u001b[39m ]\r\n",
      "[ \u001b[33m1\u001b[39m, \u001b[33m2\u001b[39m, \u001b[33m5\u001b[39m ]\r\n"
     ]
    }
   ],
   "source": [
    "!ts-node ts-files/splicing.ts"
   ]
  },
  {
   "cell_type": "markdown",
   "id": "6f496c35",
   "metadata": {},
   "source": [
    "# Filling Array"
   ]
  },
  {
   "cell_type": "code",
   "execution_count": 54,
   "id": "42af6b5d",
   "metadata": {},
   "outputs": [
    {
     "name": "stdout",
     "output_type": "stream",
     "text": [
      "Overwriting ts-files/filling.ts\n"
     ]
    }
   ],
   "source": [
    "%%writefile ts-files/filling.ts\n",
    "\n",
    "console.log('fill whole array');\n",
    "let a = [1, 2, 3, 4, 5];\n",
    "a.fill(100);\n",
    "console.log(a);\n",
    "\n",
    "console.log('fill end of array');\n",
    "a = [1, 2, 3, 4, 5];\n",
    "a.fill(100, 2);\n",
    "console.log(a);\n",
    "\n",
    "console.log('fill region of array');\n",
    "a = [1, 2, 3, 4, 5];\n",
    "a.fill(100, 2, 3); // exclusive upper bound\n",
    "console.log(a);\n",
    "\n",
    "console.log('fill beyond end of array - rejected');\n",
    "a = [1, 2, 3, 4, 5];\n",
    "a.fill(100, 2, 10);\n",
    "console.log(a);\n",
    "\n",
    "console.log('return value of fill');\n",
    "a = [1, 2, 3, 4, 5];\n",
    "a = a.fill(100, 2);\n",
    "console.log(a);\n",
    "\n",
    "console.log('new filled array');\n",
    "const b: number[] = new Array(5).fill(100);\n",
    "console.log(b);"
   ]
  },
  {
   "cell_type": "code",
   "execution_count": 55,
   "id": "7c844e7f",
   "metadata": {},
   "outputs": [
    {
     "name": "stdout",
     "output_type": "stream",
     "text": [
      "fill whole array\r\n",
      "[ \u001b[33m100\u001b[39m, \u001b[33m100\u001b[39m, \u001b[33m100\u001b[39m, \u001b[33m100\u001b[39m, \u001b[33m100\u001b[39m ]\r\n",
      "fill end of array\r\n",
      "[ \u001b[33m1\u001b[39m, \u001b[33m2\u001b[39m, \u001b[33m100\u001b[39m, \u001b[33m100\u001b[39m, \u001b[33m100\u001b[39m ]\r\n",
      "fill region of array\r\n",
      "[ \u001b[33m1\u001b[39m, \u001b[33m2\u001b[39m, \u001b[33m100\u001b[39m, \u001b[33m4\u001b[39m, \u001b[33m5\u001b[39m ]\r\n",
      "fill beyond end of array - rejected\r\n",
      "[ \u001b[33m1\u001b[39m, \u001b[33m2\u001b[39m, \u001b[33m100\u001b[39m, \u001b[33m100\u001b[39m, \u001b[33m100\u001b[39m ]\r\n",
      "return value of fill\r\n",
      "[ \u001b[33m1\u001b[39m, \u001b[33m2\u001b[39m, \u001b[33m100\u001b[39m, \u001b[33m100\u001b[39m, \u001b[33m100\u001b[39m ]\r\n",
      "new filled array\r\n",
      "[ \u001b[33m100\u001b[39m, \u001b[33m100\u001b[39m, \u001b[33m100\u001b[39m, \u001b[33m100\u001b[39m, \u001b[33m100\u001b[39m ]\r\n"
     ]
    }
   ],
   "source": [
    "!ts-node ts-files/filling.ts"
   ]
  },
  {
   "cell_type": "markdown",
   "id": "313993ad",
   "metadata": {},
   "source": [
    "# Grouping and Counting"
   ]
  },
  {
   "cell_type": "code",
   "execution_count": 66,
   "id": "115e414e",
   "metadata": {},
   "outputs": [
    {
     "name": "stdout",
     "output_type": "stream",
     "text": [
      "Overwriting ts-files/grouping.ts\n"
     ]
    }
   ],
   "source": [
    "%%writefile ts-files/grouping.ts\n",
    "\n",
    "const a = [1, 2, 3, 4, 5, 6];\n",
    "// const m = Map.groupBy(a, n => n % 2 == 0); // doesn't work in nodets\n",
    "\n",
    "const countDictionary = a.reduce((acc, value) => {\n",
    "  acc[value] = (acc[value] || 0) + 1;\n",
    "  return acc;\n",
    "}, {} as any);\n",
    "\n",
    "console.log(countDictionary);"
   ]
  },
  {
   "cell_type": "code",
   "execution_count": 67,
   "id": "da519afe",
   "metadata": {},
   "outputs": [
    {
     "name": "stdout",
     "output_type": "stream",
     "text": [
      "{ \u001b[32m'1'\u001b[39m: \u001b[33m1\u001b[39m, \u001b[32m'2'\u001b[39m: \u001b[33m1\u001b[39m, \u001b[32m'3'\u001b[39m: \u001b[33m1\u001b[39m, \u001b[32m'4'\u001b[39m: \u001b[33m1\u001b[39m, \u001b[32m'5'\u001b[39m: \u001b[33m1\u001b[39m, \u001b[32m'6'\u001b[39m: \u001b[33m1\u001b[39m }\r\n"
     ]
    }
   ],
   "source": [
    "!ts-node ts-files/grouping.ts"
   ]
  },
  {
   "cell_type": "markdown",
   "id": "9d900ea3",
   "metadata": {},
   "source": [
    "# Min/Max of Array\n",
    "\n",
    "Use spread operator with `Math.min()` and `Math.max()`."
   ]
  },
  {
   "cell_type": "markdown",
   "id": "39a3138b",
   "metadata": {},
   "source": [
    "# Thread Safety\n",
    "\n",
    "Since JavaScript doesn't do multithreading within the same address space, you don't have the same issues as other languages.  So the collections are not thread safe and don't really need to be.  Although you can accidentally get subtle bugs due to things like `setTimeout()`."
   ]
  },
  {
   "cell_type": "markdown",
   "id": "844387cb",
   "metadata": {},
   "source": [
    "# Swap"
   ]
  },
  {
   "cell_type": "code",
   "execution_count": 68,
   "id": "09a32d62",
   "metadata": {},
   "outputs": [
    {
     "name": "stdout",
     "output_type": "stream",
     "text": [
      "Writing ts-files/swap.ts\n"
     ]
    }
   ],
   "source": [
    "%%writefile ts-files/swap.ts\n",
    "\n",
    "let x = 10;\n",
    "let y = 20;\n",
    "\n",
    "[x,y] = [y,x];\n",
    "console.log(x, y);"
   ]
  },
  {
   "cell_type": "code",
   "execution_count": 69,
   "id": "e452a3ae",
   "metadata": {},
   "outputs": [
    {
     "name": "stdout",
     "output_type": "stream",
     "text": [
      "\u001b[33m20\u001b[39m \u001b[33m10\u001b[39m\r\n"
     ]
    }
   ],
   "source": [
    "!ts-node ts-files/swap.ts"
   ]
  },
  {
   "cell_type": "markdown",
   "id": "6f7d6c0a",
   "metadata": {},
   "source": [
    "# Deep Copying/Cloning\n",
    "\n",
    "`structuredClone` performs a deep copy.  If for some reason it's not available (eg. in some versions of __Jest__), you can define your own as follows:\n",
    "\n",
    "```JavaScript\n",
    "function structuredClone(o) {\n",
    "    return JSON.parse(JSON.stringify(o));\n",
    "}\n",
    "```"
   ]
  },
  {
   "cell_type": "code",
   "execution_count": 5,
   "id": "7c87fd82",
   "metadata": {},
   "outputs": [
    {
     "name": "stdout",
     "output_type": "stream",
     "text": [
      "Overwriting ts-files/structuredclone.ts\n"
     ]
    }
   ],
   "source": [
    "%%writefile ts-files/structuredclone.ts\n",
    "\n",
    "const o = {a: [1, 2, 3], b: new Set(), c: new Map(), d: {e: 100}};\n",
    "const c = structuredClone(o);\n",
    "\n",
    "console.log('original', o);\n",
    "console.log();\n",
    "\n",
    "console.log('clone', c);\n",
    "console.log();\n",
    "\n",
    "c.a[1] = 100;\n",
    "c.a.push(4);\n",
    "c.b.add('hi');\n",
    "c.c.set('hi', 100);\n",
    "c.d.e = 1000;\n",
    "\n",
    "console.log('modified clone', c);\n",
    "console.log();\n",
    "\n",
    "console.log('original after clone modified', o);"
   ]
  },
  {
   "cell_type": "code",
   "execution_count": 6,
   "id": "504b08d5",
   "metadata": {},
   "outputs": [
    {
     "data": {
      "text/plain": [
       "['original { a: [ 1, 2, 3 ], b: Set(0) {}, c: Map(0) {}, d: { e: 100 } }',\n",
       " '',\n",
       " 'clone { a: [ 1, 2, 3 ], b: Set(0) {}, c: Map(0) {}, d: { e: 100 } }',\n",
       " '',\n",
       " 'modified clone {',\n",
       " '  a: [ 1, 100, 3, 4 ],',\n",
       " \"  b: Set(1) { 'hi' },\",\n",
       " \"  c: Map(1) { 'hi' => 100 },\",\n",
       " '  d: { e: 1000 }',\n",
       " '}',\n",
       " '',\n",
       " 'original after clone modified { a: [ 1, 2, 3 ], b: Set(0) {}, c: Map(0) {}, d: { e: 100 } }']"
      ]
     },
     "execution_count": 6,
     "metadata": {},
     "output_type": "execute_result"
    }
   ],
   "source": [
    "!!ts-node ts-files/structuredclone.ts"
   ]
  },
  {
   "cell_type": "markdown",
   "id": "09d9d1ee",
   "metadata": {},
   "source": [
    "## Customizing Printing"
   ]
  },
  {
   "cell_type": "code",
   "execution_count": 74,
   "id": "07aa5548",
   "metadata": {},
   "outputs": [
    {
     "name": "stdout",
     "output_type": "stream",
     "text": [
      "Overwriting ts-files/printing.ts\n"
     ]
    }
   ],
   "source": [
    "%%writefile ts-files/printing.ts\n",
    "\n",
    "const o = {\n",
    "  x: 100,\n",
    "  toString() {return this.x;}\n",
    "};\n",
    "console.log(o); // doesn't use\n",
    "\n",
    "const a = [o, o, o]; // doesn't use\n",
    "console.log(a); // doesn't use\n",
    "\n",
    "console.log(o.toString()); // uses\n",
    "console.log(a.toString()); // uses"
   ]
  },
  {
   "cell_type": "code",
   "execution_count": 75,
   "id": "160ad75f",
   "metadata": {},
   "outputs": [
    {
     "name": "stdout",
     "output_type": "stream",
     "text": [
      "{ x: \u001b[33m100\u001b[39m, toString: \u001b[36m[Function: toString]\u001b[39m }\r\n",
      "[\r\n",
      "  { x: \u001b[33m100\u001b[39m, toString: \u001b[36m[Function: toString]\u001b[39m },\r\n",
      "  { x: \u001b[33m100\u001b[39m, toString: \u001b[36m[Function: toString]\u001b[39m },\r\n",
      "  { x: \u001b[33m100\u001b[39m, toString: \u001b[36m[Function: toString]\u001b[39m }\r\n",
      "]\r\n",
      "\u001b[33m100\u001b[39m\r\n",
      "100,100,100\r\n"
     ]
    }
   ],
   "source": [
    "!ts-node ts-files/printing.ts"
   ]
  },
  {
   "cell_type": "markdown",
   "id": "1f13b3ab",
   "metadata": {},
   "source": [
    "# Ranges"
   ]
  },
  {
   "cell_type": "code",
   "execution_count": 84,
   "id": "ee9addde",
   "metadata": {},
   "outputs": [
    {
     "name": "stdout",
     "output_type": "stream",
     "text": [
      "Overwriting ts-files/ranges.ts\n"
     ]
    }
   ],
   "source": [
    "%%writefile ts-files/ranges.ts\n",
    "\n",
    "const a = [1, 2, , , 5];\n",
    "console.log(Array.from(a.keys()));\n",
    "console.log(Object.keys(a));\n",
    "\n",
    "const firstTen = Array.from(new Array(10).keys());\n",
    "console.log(firstTen);"
   ]
  },
  {
   "cell_type": "code",
   "execution_count": 85,
   "id": "16489735",
   "metadata": {},
   "outputs": [
    {
     "name": "stdout",
     "output_type": "stream",
     "text": [
      "[ \u001b[33m0\u001b[39m, \u001b[33m1\u001b[39m, \u001b[33m2\u001b[39m, \u001b[33m3\u001b[39m, \u001b[33m4\u001b[39m ]\r\n",
      "[ \u001b[32m'0'\u001b[39m, \u001b[32m'1'\u001b[39m, \u001b[32m'4'\u001b[39m ]\r\n",
      "[\r\n",
      "  \u001b[33m0\u001b[39m, \u001b[33m1\u001b[39m, \u001b[33m2\u001b[39m, \u001b[33m3\u001b[39m, \u001b[33m4\u001b[39m,\r\n",
      "  \u001b[33m5\u001b[39m, \u001b[33m6\u001b[39m, \u001b[33m7\u001b[39m, \u001b[33m8\u001b[39m, \u001b[33m9\u001b[39m\r\n",
      "]\r\n"
     ]
    }
   ],
   "source": [
    "!ts-node ts-files/ranges.ts"
   ]
  },
  {
   "cell_type": "markdown",
   "id": "8c4861a3",
   "metadata": {},
   "source": [
    "# Flattening Array"
   ]
  },
  {
   "cell_type": "code",
   "execution_count": 94,
   "id": "16d59bca",
   "metadata": {},
   "outputs": [
    {
     "name": "stdout",
     "output_type": "stream",
     "text": [
      "Overwriting ts-files/flatten.ts\n"
     ]
    }
   ],
   "source": [
    "%%writefile ts-files/flatten.ts\n",
    "\n",
    "const a = [[1, 2], [3, 4]];\n",
    "console.log(a);\n",
    "\n",
    "console.log(a.flat()); // returns a flattened copy\n",
    "console.log(a);\n",
    "\n",
    "console.log([[[1]], 2].flat()); // only 1 level\n",
    "\n",
    "// repeating an array 5 times\n",
    "console.log((new Array(5)).fill([1, 2, 3, 4, 5]).flat());"
   ]
  },
  {
   "cell_type": "code",
   "execution_count": 95,
   "id": "9d0b08b9",
   "metadata": {},
   "outputs": [
    {
     "name": "stdout",
     "output_type": "stream",
     "text": [
      "[ [ \u001b[33m1\u001b[39m, \u001b[33m2\u001b[39m ], [ \u001b[33m3\u001b[39m, \u001b[33m4\u001b[39m ] ]\r\n",
      "[ \u001b[33m1\u001b[39m, \u001b[33m2\u001b[39m, \u001b[33m3\u001b[39m, \u001b[33m4\u001b[39m ]\r\n",
      "[ [ \u001b[33m1\u001b[39m, \u001b[33m2\u001b[39m ], [ \u001b[33m3\u001b[39m, \u001b[33m4\u001b[39m ] ]\r\n",
      "[ [ \u001b[33m1\u001b[39m ], \u001b[33m2\u001b[39m ]\r\n",
      "[\r\n",
      "  \u001b[33m1\u001b[39m, \u001b[33m2\u001b[39m, \u001b[33m3\u001b[39m, \u001b[33m4\u001b[39m, \u001b[33m5\u001b[39m, \u001b[33m1\u001b[39m, \u001b[33m2\u001b[39m, \u001b[33m3\u001b[39m,\r\n",
      "  \u001b[33m4\u001b[39m, \u001b[33m5\u001b[39m, \u001b[33m1\u001b[39m, \u001b[33m2\u001b[39m, \u001b[33m3\u001b[39m, \u001b[33m4\u001b[39m, \u001b[33m5\u001b[39m, \u001b[33m1\u001b[39m,\r\n",
      "  \u001b[33m2\u001b[39m, \u001b[33m3\u001b[39m, \u001b[33m4\u001b[39m, \u001b[33m5\u001b[39m, \u001b[33m1\u001b[39m, \u001b[33m2\u001b[39m, \u001b[33m3\u001b[39m, \u001b[33m4\u001b[39m,\r\n",
      "  \u001b[33m5\u001b[39m\r\n",
      "]\r\n"
     ]
    }
   ],
   "source": [
    "!ts-node ts-files/flatten.ts"
   ]
  },
  {
   "cell_type": "markdown",
   "id": "9c196b5e",
   "metadata": {},
   "source": [
    "# new Array(count)"
   ]
  },
  {
   "cell_type": "code",
   "execution_count": 5,
   "id": "95c4b58e",
   "metadata": {},
   "outputs": [
    {
     "name": "stdout",
     "output_type": "stream",
     "text": [
      "Overwriting ts-files/new-array.ts\n"
     ]
    }
   ],
   "source": [
    "%%writefile ts-files/new-array.ts\n",
    "\n",
    "const a = new Array<number>(10);\n",
    "console.log(a); // 10 sparse undefined values\n",
    "console.log(a[0]); // undefined"
   ]
  },
  {
   "cell_type": "code",
   "execution_count": 6,
   "id": "75a7f799",
   "metadata": {},
   "outputs": [
    {
     "name": "stdout",
     "output_type": "stream",
     "text": [
      "[ \u001b[90m<10 empty items>\u001b[39m ]\r\n",
      "\u001b[90mundefined\u001b[39m\r\n"
     ]
    }
   ],
   "source": [
    "!ts-node ts-files/new-array.ts"
   ]
  },
  {
   "cell_type": "markdown",
   "id": "8c78f161",
   "metadata": {},
   "source": [
    "# arr.slice() and floating point\n",
    "\n",
    "Floating point numbers passed in as integer bounds are __automatically floored__."
   ]
  },
  {
   "cell_type": "code",
   "execution_count": 1,
   "id": "c951f7e6",
   "metadata": {},
   "outputs": [
    {
     "name": "stdout",
     "output_type": "stream",
     "text": [
      "Writing ts-files/slice-float.ts\n"
     ]
    }
   ],
   "source": [
    "%%writefile ts-files/slice-float.ts\n",
    "\n",
    "const a = [1, 2, 3];\n",
    "console.log(a.slice(0, a.length / 2));\n",
    "console.log(a.slice(a.length / 2, a.length));"
   ]
  },
  {
   "cell_type": "code",
   "execution_count": 2,
   "id": "fd3f3d0e",
   "metadata": {},
   "outputs": [
    {
     "name": "stdout",
     "output_type": "stream",
     "text": [
      "[ \u001b[33m1\u001b[39m ]\r\n",
      "[ \u001b[33m2\u001b[39m, \u001b[33m3\u001b[39m ]\r\n"
     ]
    }
   ],
   "source": [
    "!ts-node ts-files/slice-float.ts"
   ]
  },
  {
   "cell_type": "markdown",
   "id": "54604599",
   "metadata": {},
   "source": [
    "# groupBy\n",
    "\n",
    "This is very new (I think I need to upgrade my local node since it doesn't see it - but my chrome devtools sees it.\n",
    "\n",
    "You can group an iterable by groups of arrays based on a function that says what grouping key to use.\n",
    "\n",
    "It is available for both objects and maps."
   ]
  },
  {
   "cell_type": "code",
   "execution_count": 9,
   "id": "3603e7ec",
   "metadata": {},
   "outputs": [
    {
     "name": "stdout",
     "output_type": "stream",
     "text": [
      "Overwriting ts-files/group-by.ts\n"
     ]
    }
   ],
   "source": [
    "%%writefile ts-files/group-by.ts\n",
    "\n",
    "const nums = [1, 2, 3, 4, 5, 6, 7, 8, 9, 10];\n",
    "const grouped = Object.groupBy(nums, n => n % 2 ? 'odd' : 'even');\n",
    "const groupedDict = Map.groupBy(nums, n => n % 2 ? 'odd' : 'even');\n",
    "\n",
    "console.log(grouped); // {odd: [1, 3, 5, 7, 9], even: [2, 4, 6, 8, 10]}\n",
    "console.log()\n",
    "console.log(groupedDict); // {'odd' => [1, 3, 5, 7, 9], 'even' => [2, 4, 6, 8, 10]}"
   ]
  },
  {
   "cell_type": "code",
   "execution_count": 10,
   "id": "61937d5d",
   "metadata": {},
   "outputs": [
    {
     "name": "stdout",
     "output_type": "stream",
     "text": [
      "/Users/davidpetrofsky/.nvm/versions/node/v20.2.0/lib/node_modules/ts-node/src/index.ts:859\r\n",
      "    return new TSError(diagnosticText, diagnosticCodes, diagnostics);\r\n",
      "           ^\r\n",
      "TSError: ⨯ Unable to compile TypeScript:\r\n",
      "\u001b[96mts-files/group-by.ts\u001b[0m:\u001b[93m3\u001b[0m:\u001b[93m24\u001b[0m - \u001b[91merror\u001b[0m\u001b[90m TS2339: \u001b[0mProperty 'groupBy' does not exist on type 'ObjectConstructor'.\r\n",
      "\r\n",
      "\u001b[7m3\u001b[0m const grouped = Object.groupBy(nums, n => n % 2 ? 'odd' : 'even');\r\n",
      "\u001b[7m \u001b[0m \u001b[91m                       ~~~~~~~\u001b[0m\r\n",
      "\u001b[96mts-files/group-by.ts\u001b[0m:\u001b[93m3\u001b[0m:\u001b[93m38\u001b[0m - \u001b[91merror\u001b[0m\u001b[90m TS7006: \u001b[0mParameter 'n' implicitly has an 'any' type.\r\n",
      "\r\n",
      "\u001b[7m3\u001b[0m const grouped = Object.groupBy(nums, n => n % 2 ? 'odd' : 'even');\r\n",
      "\u001b[7m \u001b[0m \u001b[91m                                     ~\u001b[0m\r\n",
      "\u001b[96mts-files/group-by.ts\u001b[0m:\u001b[93m4\u001b[0m:\u001b[93m25\u001b[0m - \u001b[91merror\u001b[0m\u001b[90m TS2339: \u001b[0mProperty 'groupBy' does not exist on type 'MapConstructor'.\r\n",
      "\r\n",
      "\u001b[7m4\u001b[0m const groupedDict = Map.groupBy(nums, n => n % 2 ? 'odd' : 'even');\r\n",
      "\u001b[7m \u001b[0m \u001b[91m                        ~~~~~~~\u001b[0m\r\n",
      "\u001b[96mts-files/group-by.ts\u001b[0m:\u001b[93m4\u001b[0m:\u001b[93m39\u001b[0m - \u001b[91merror\u001b[0m\u001b[90m TS7006: \u001b[0mParameter 'n' implicitly has an 'any' type.\r\n",
      "\r\n",
      "\u001b[7m4\u001b[0m const groupedDict = Map.groupBy(nums, n => n % 2 ? 'odd' : 'even');\r\n",
      "\u001b[7m \u001b[0m \u001b[91m                                      ~\u001b[0m\r\n",
      "\r\n",
      "    at createTSError (/Users/davidpetrofsky/.nvm/versions/node/v20.2.0/lib/node_modules/\u001b[4mts-node\u001b[24m/src/index.ts:859:12)\r\n",
      "    at reportTSError (/Users/davidpetrofsky/.nvm/versions/node/v20.2.0/lib/node_modules/\u001b[4mts-node\u001b[24m/src/index.ts:863:19)\r\n",
      "    at getOutput (/Users/davidpetrofsky/.nvm/versions/node/v20.2.0/lib/node_modules/\u001b[4mts-node\u001b[24m/src/index.ts:1077:36)\r\n",
      "    at Object.compile (/Users/davidpetrofsky/.nvm/versions/node/v20.2.0/lib/node_modules/\u001b[4mts-node\u001b[24m/src/index.ts:1433:41)\r\n",
      "    at Module.m._compile (/Users/davidpetrofsky/.nvm/versions/node/v20.2.0/lib/node_modules/\u001b[4mts-node\u001b[24m/src/index.ts:1617:30)\r\n",
      "\u001b[90m    at Module._extensions..js (node:internal/modules/cjs/loader:1309:10)\u001b[39m\r\n",
      "    at Object.require.extensions.<computed> [as .ts] (/Users/davidpetrofsky/.nvm/versions/node/v20.2.0/lib/node_modules/\u001b[4mts-node\u001b[24m/src/index.ts:1621:12)\r\n",
      "\u001b[90m    at Module.load (node:internal/modules/cjs/loader:1113:32)\u001b[39m\r\n",
      "\u001b[90m    at Function.Module._load (node:internal/modules/cjs/loader:960:12)\u001b[39m\r\n",
      "\u001b[90m    at Function.executeUserEntryPoint [as runMain] (node:internal/modules/run_main:83:12)\u001b[39m {\r\n",
      "  diagnosticCodes: [ \u001b[33m2339\u001b[39m, \u001b[33m7006\u001b[39m, \u001b[33m2339\u001b[39m, \u001b[33m7006\u001b[39m ]\r\n",
      "}\r\n"
     ]
    }
   ],
   "source": [
    "!ts-node ts-files/group-by.ts"
   ]
  },
  {
   "cell_type": "markdown",
   "id": "22484cbf",
   "metadata": {},
   "source": [
    "# Object as Map\n",
    "\n",
    "NOTE: for this one, I went with pure JS instead of TS so I don't have to mess with type annotations for indexers.\n",
    "\n",
    "Summary:\n",
    "- maps have their own key-value stores accessed via their methods - they do not override object behavior\n",
    "- objects already behave like maps but using `[]` and `.` to access members (which maps do not override)\n",
    "- to get keys, values, and entries, it's almost the same between maps and objects, except:\n",
    "  - maps use direct methods (`m.keys()`)\n",
    "    - this will not even compile on a non-map object\n",
    "  - objects use static methods (`Object.keys(o)`)\n",
    "    - this will do the wrong thing on a map\n",
    "- entries are just arrays of 2 values \\[key, value\\]\n",
    "  - map is directly iterable as entries while object is not\n",
    "  - iterating over a map with `[key, value]` is just using __destructuring__\n",
    "- `in` membership testing only works for `Object`\n",
    "  - as opposed to `has` on `Map`\n",
    "- TypeScript needs index signatures to let you use an object as a map"
   ]
  },
  {
   "cell_type": "code",
   "execution_count": 71,
   "id": "ebc2d441",
   "metadata": {},
   "outputs": [
    {
     "name": "stdout",
     "output_type": "stream",
     "text": [
      "Overwriting ts-files/object-as-map.js\n"
     ]
    }
   ],
   "source": [
    "%%writefile ts-files/object-as-map.js\n",
    "\n",
    "const m = new Map();\n",
    "\n",
    "// [] is an Object operator, not a Map one\n",
    "console.log('***[] vs. .set()/.get()***')\n",
    "m['x'] = 100;\n",
    "console.log(m);         // x is a key on the object instance\n",
    "console.log(m.keys());  // still no map keys\n",
    "m.set('y', 100);\n",
    "console.log(m);\n",
    "console.log(m['y']);    // [] and .set()/.get() are totally separate ideas\n",
    "console.log()\n",
    "\n",
    "// pretending object is map and using [] like python\n",
    "console.log('***[] on object to treat like map***')\n",
    "const o = {};\n",
    "o['x'] = 100; // in TS you would need an index signature to get away with this\n",
    "o['y'] = 200;\n",
    "console.log(o);\n",
    "console.log(o.x);\n",
    "console.log(o.y);\n",
    "console.log()\n",
    "\n",
    "// the way you get the keys is different between the two\n",
    "console.log('***Object.keys() vs. m.keys()***')\n",
    "console.log(Object.keys(o));  // object treated as map (only the stuff you added, not built-in stuff)\n",
    "// console.log(o.keys()); // doesn't exist\n",
    "console.log(Object.keys(m));  // useless for real map\n",
    "console.log(m.keys()); // the real map way (not for objects)\n",
    "console.log();\n",
    "\n",
    "// Object.keys() respects inheritance but does not get Object stuff that's on everything\n",
    "console.log('***Object.keys() generality***');\n",
    "class MyClass {\n",
    "    x = 5;\n",
    "}\n",
    "class MyClass2 extends MyClass {\n",
    "    y = 10;\n",
    "}\n",
    "const n = new MyClass2();\n",
    "console.log(Object.keys(n));\n",
    "console.log();\n",
    "\n",
    "// Entries and values follow the same pattern as keys in terms of splitting between maps and objects\n",
    "console.log('***Entries and Values***');\n",
    "console.log(Object.entries(o));\n",
    "console.log(m.entries());\n",
    "console.log(Object.values(o));\n",
    "console.log(m.values());\n",
    "console.log();\n",
    "\n",
    "console.log('***Enumeration***');\n",
    "/*for (const something of o) {\n",
    "    console.log(something);\n",
    "}*/ // ILLEGAL\n",
    "for (const something of Object.entries(o)) {\n",
    "    console.log(something); // now it's OK (key-value pairs)\n",
    "}\n",
    "for (const something of m) {\n",
    "    console.log(something); // pair arrays\n",
    "}\n",
    "for (const [key, value] of m) {\n",
    "    console.log(key, value); // same thing but we're destrcturing it\n",
    "}\n",
    "console.log();\n",
    "\n",
    "console.log('***in testing***');\n",
    "console.log('x' in m); // true because on the object\n",
    "console.log('y' in m); // false because on the map\n",
    "console.log();\n",
    "\n",
    "// TypeScript\n",
    "// const mymap: {[key: string]: string} = {};\n",
    "// can add key-value pairs now without compiler complaining (if of right type)"
   ]
  },
  {
   "cell_type": "code",
   "execution_count": 72,
   "id": "e20d43d5",
   "metadata": {},
   "outputs": [
    {
     "name": "stdout",
     "output_type": "stream",
     "text": [
      "***[] vs. .set()/.get()***\r\n",
      "Map(0) { x: \u001b[33m100\u001b[39m }\r\n",
      "[Map Iterator] {  }\r\n",
      "Map(1) { \u001b[32m'y'\u001b[39m => \u001b[33m100\u001b[39m, x: \u001b[33m100\u001b[39m }\r\n",
      "\u001b[90mundefined\u001b[39m\r\n",
      "\r\n",
      "***[] on object to treat like map***\r\n",
      "{ x: \u001b[33m100\u001b[39m, y: \u001b[33m200\u001b[39m }\r\n",
      "\u001b[33m100\u001b[39m\r\n",
      "\u001b[33m200\u001b[39m\r\n",
      "\r\n",
      "***Object.keys() vs. m.keys()***\r\n",
      "[ \u001b[32m'x'\u001b[39m, \u001b[32m'y'\u001b[39m ]\r\n",
      "[ \u001b[32m'x'\u001b[39m ]\r\n",
      "[Map Iterator] { \u001b[32m'y'\u001b[39m }\r\n",
      "\r\n",
      "***Object.keys() generality***\r\n",
      "[ \u001b[32m'x'\u001b[39m, \u001b[32m'y'\u001b[39m ]\r\n",
      "\r\n",
      "***Entries and Values***\r\n",
      "[ [ \u001b[32m'x'\u001b[39m, \u001b[33m100\u001b[39m ], [ \u001b[32m'y'\u001b[39m, \u001b[33m200\u001b[39m ] ]\r\n",
      "[Map Entries] { [ \u001b[32m'y'\u001b[39m, \u001b[33m100\u001b[39m ] }\r\n",
      "[ \u001b[33m100\u001b[39m, \u001b[33m200\u001b[39m ]\r\n",
      "[Map Iterator] { \u001b[33m100\u001b[39m }\r\n",
      "\r\n",
      "***Enumeration***\r\n",
      "[ \u001b[32m'x'\u001b[39m, \u001b[33m100\u001b[39m ]\r\n",
      "[ \u001b[32m'y'\u001b[39m, \u001b[33m200\u001b[39m ]\r\n",
      "[ \u001b[32m'y'\u001b[39m, \u001b[33m100\u001b[39m ]\r\n",
      "y \u001b[33m100\u001b[39m\r\n",
      "\r\n",
      "***in testing***\r\n",
      "\u001b[33mtrue\u001b[39m\r\n",
      "\u001b[33mfalse\u001b[39m\r\n",
      "\r\n"
     ]
    }
   ],
   "source": [
    "!node ts-files/object-as-map.js"
   ]
  },
  {
   "cell_type": "code",
   "execution_count": null,
   "id": "079ef136",
   "metadata": {},
   "outputs": [],
   "source": []
  }
 ],
 "metadata": {
  "kernelspec": {
   "display_name": "Python 3 (ipykernel)",
   "language": "python",
   "name": "python3"
  },
  "language_info": {
   "codemirror_mode": {
    "name": "ipython",
    "version": 3
   },
   "file_extension": ".py",
   "mimetype": "text/x-python",
   "name": "python",
   "nbconvert_exporter": "python",
   "pygments_lexer": "ipython3",
   "version": "3.10.8"
  }
 },
 "nbformat": 4,
 "nbformat_minor": 5
}
