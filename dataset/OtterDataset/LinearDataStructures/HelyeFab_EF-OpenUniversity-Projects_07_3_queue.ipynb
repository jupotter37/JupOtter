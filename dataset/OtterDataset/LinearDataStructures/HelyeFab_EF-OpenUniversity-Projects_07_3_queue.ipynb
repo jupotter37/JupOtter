{
 "cells": [
  {
   "cell_type": "markdown",
   "id": "0",
   "metadata": {},
   "source": [
    "## 7.3 Queues"
   ]
  },
  {
   "cell_type": "markdown",
   "id": "1",
   "metadata": {},
   "source": [
    "A stack is a sequence where items are added and removed from the same end.\n",
    "A queue is a sequence where items are added to one end and removed from the other."
   ]
  },
  {
   "cell_type": "markdown",
   "id": "2",
   "metadata": {},
   "source": [
    "### 7.3.1 Queues"
   ]
  },
  {
   "cell_type": "markdown",
   "id": "3",
   "metadata": {},
   "source": [
    "People queue when boarding planes; cars queue at drive-ins.\n",
    "People and cars join the queue at the end and leave it at the front.\n",
    "Like stacks, queues are sequences of items ordered by arrival order, but\n",
    "contrary to stacks, the item arriving first is also the first to be processed:\n",
    "the 'oldest' item is at the bottom of the stack but at the front of the queue.\n",
    "A **queue** is a **first in, first out (FIFO)** sequence.\n",
    "The operations are very similar to a stack's push, pop, and peek.\n",
    "\n",
    "Operation | Effect | Algorithm in English\n",
    ":-|:-|:-\n",
    "new  | create an empty queue *q* | let *q* be an empty queue\n",
    "length | the number of items in *q*  | │*q*│\n",
    "enqueue | add an item to the back of *q*  | add *item* to *q*\n",
    "dequeue | remove the front item, if *q* isn't empty |  dequeue *q*\n",
    "front | access the front item of, if *q* isn't empty | front of *q*\n",
    "\n",
    "Alternatively, the dequeue operation could remove and return the front item,\n",
    "but this wouldn't make the front operation redundant. Why?\n",
    "\n",
    "___\n",
    "\n",
    "With stacks, we can inspect the top item without 'disturbing' the stack,\n",
    "by popping it and pushing it immediately back.\n",
    "We can't inspect the front item of a queue with a dequeue followed by an\n",
    "enqueue operation: the front item would end up at the back of the queue."
   ]
  },
  {
   "cell_type": "markdown",
   "id": "4",
   "metadata": {},
   "source": [
    "#### Exercise 7.3.1"
   ]
  },
  {
   "cell_type": "markdown",
   "id": "5",
   "metadata": {},
   "source": [
    "How would you represent a to-do list of tasks:\n",
    "with a general sequence, a stack, or a queue?\n",
    "\n",
    "[Hint](../31_Hints/Hints_07_3_01.ipynb)\n",
    "[Answer](../32_Answers/Answers_07_3_01.ipynb)"
   ]
  },
  {
   "cell_type": "markdown",
   "id": "6",
   "metadata": {},
   "source": [
    "#### Exercise 7.3.2 (optional)"
   ]
  },
  {
   "cell_type": "markdown",
   "id": "7",
   "metadata": {},
   "source": [
    "Define the queue operations in the same way as the\n",
    "[stack operations](../07_Ordered/07_1_stack.ipynb#7.1-Stacks), using sequence notation.\n",
    "The operations are similar, so you may wish to define only one or two of them."
   ]
  },
  {
   "cell_type": "markdown",
   "id": "8",
   "metadata": {},
   "source": [
    "### 7.3.2 Queues with Python lists"
   ]
  },
  {
   "cell_type": "markdown",
   "id": "9",
   "metadata": {},
   "source": [
    "Python's versatile lists can not only simulate stacks but also queues."
   ]
  },
  {
   "cell_type": "code",
   "execution_count": 1,
   "id": "10",
   "metadata": {},
   "outputs": [
    {
     "name": "stdout",
     "output_type": "stream",
     "text": [
      "Next person served: Alice\n",
      "Next person served: Bob\n",
      "Next person served: Clara\n",
      "People still waiting? False\n"
     ]
    }
   ],
   "source": [
    "queue = []\n",
    "queue.append('Alice')   # Alice arrives first\n",
    "queue.append('Bob')\n",
    "print('Next person served:', queue.pop(0))\n",
    "queue.append('Clara')\n",
    "print('Next person served:', queue.pop(0))\n",
    "print('Next person served:', queue.pop(0))\n",
    "print('People still waiting?', len(queue) > 0)"
   ]
  },
  {
   "cell_type": "markdown",
   "id": "11",
   "metadata": {},
   "source": [
    "This approach puts the front of the queue at index&nbsp;0 and therefore uses\n",
    "`append` as the enqueue operation and  `pop(0)` as the dequeue operation.\n",
    "The downside is that the latter takes time linear in the length of the list,\n",
    "because each remaining item is shifted one position down.\n",
    "\n",
    "We could instead have the front of the queue at the last index.\n",
    "That would make dequeuing with `pop(-1)` take constant time,\n",
    "but enqueuing with `insert(0, item)` would take linear time.\n",
    "\n",
    "To sum up, using Python lists and their methods makes one queue operation\n",
    "take linear time, which is fine if the queue never gets too long."
   ]
  },
  {
   "cell_type": "markdown",
   "id": "12",
   "metadata": {},
   "source": [
    "### 7.3.3 Queues with linked lists"
   ]
  },
  {
   "cell_type": "markdown",
   "id": "13",
   "metadata": {},
   "source": [
    "The queue ADT can also be implemented with a linked list.\n",
    "If the front item is in the head node, then the dequeue operation removes the\n",
    "head node and the enqueue operation adds a node at the back of the linked list.\n",
    "We can traverse the linked list in linear time to find the last node and make it\n",
    "point to the new enqueued node, but by keeping a pointer to the last node we can\n",
    "enqueue a new node in constant time.\n",
    "\n",
    "Likewise, we can compute the length of a queue in linear time,\n",
    "by traversing the linked list and counting nodes, but by keeping an integer\n",
    "with the current size we can return the length in constant time.\n",
    "\n",
    "In both cases, we use a space-time tradeoff: storing additional data, and keeping\n",
    "it up to date as the queue operations are executed, leads to a better run-time.\n",
    "Here's the code."
   ]
  },
  {
   "cell_type": "code",
   "execution_count": 2,
   "id": "14",
   "metadata": {},
   "outputs": [],
   "source": [
    "# this code is also in m269_queue.py\n",
    "\n",
    "class Queue:\n",
    "    \"\"\"A last-in, first-out sequence of objects, implemented with a linked list.\"\"\"\n",
    "\n",
    "    class Node:\n",
    "        \"\"\"A node in a linked list.\"\"\"\n",
    "\n",
    "        def __init__(self, item: object):\n",
    "            \"\"\"Initialise the node with the given item.\"\"\"\n",
    "            self.item = item\n",
    "            self.next = None\n",
    "\n",
    "    def __init__(self):\n",
    "        \"\"\"Initialise the queue to be empty.\"\"\"\n",
    "        self.head = None\n",
    "        self.last = None\n",
    "        self.length = 0\n",
    "\n",
    "    def size(self) -> int:\n",
    "        \"\"\"Return the number of items in the queue.\"\"\"\n",
    "        return self.length\n",
    "\n",
    "    def front(self) -> object:\n",
    "        \"\"\"Return the item at the front of the queue.\n",
    "\n",
    "        Preconditions: self.size() > 0\n",
    "        \"\"\"\n",
    "        return self.head.item\n",
    "\n",
    "    def enqueue(self, item) -> None:\n",
    "        \"\"\"Add item to the back of the queue.\"\"\"\n",
    "        node = Queue.Node(item)\n",
    "        if self.length == 0:\n",
    "            self.head = node\n",
    "            self.last = node\n",
    "        else:\n",
    "            self.last.next = node\n",
    "            self.last = node\n",
    "        self.length = self.length + 1\n",
    "\n",
    "    def dequeue(self):\n",
    "        \"\"\"Remove and return the item at the front of the queue.\n",
    "\n",
    "        Preconditions: self.size() > 0\n",
    "        \"\"\"\n",
    "        item = self.front()\n",
    "        self.head = self.head.next\n",
    "        if self.head == None:\n",
    "            self.last = None\n",
    "        self.length = self.length - 1\n",
    "        return item"
   ]
  },
  {
   "cell_type": "markdown",
   "id": "15",
   "metadata": {},
   "source": [
    "Here's the same example, using the class:"
   ]
  },
  {
   "cell_type": "code",
   "execution_count": 3,
   "id": "16",
   "metadata": {},
   "outputs": [
    {
     "name": "stdout",
     "output_type": "stream",
     "text": [
      "Next person served: Alice\n",
      "Next person served: Bob\n",
      "Next person served: Clara\n",
      "People still waiting? False\n"
     ]
    }
   ],
   "source": [
    "queue = Queue()\n",
    "queue.enqueue('Alice')   # Alice arrives first\n",
    "queue.enqueue('Bob')\n",
    "print('Next person served:', queue.dequeue())\n",
    "queue.enqueue('Clara')\n",
    "print('Next person served:', queue.dequeue())\n",
    "print('Next person served:', queue.dequeue())\n",
    "print('People still waiting?', queue.size() > 0)"
   ]
  },
  {
   "cell_type": "markdown",
   "id": "17",
   "metadata": {},
   "source": [
    "<div class=\"alert alert-info\">\n",
    "<strong>Info:</strong> In Java, queue operations are defined by interface <code>Deque</code>,\n",
    "which implements double-ended queues, an extension of queues.\n",
    "The interface is usually implemented by class <code>ArrayDeque</code> or <code>LinkedList</code>.\n",
    "Both the interface and the classes are in package <code>java.util</code>.\n",
    "</div>"
   ]
  },
  {
   "cell_type": "markdown",
   "id": "18",
   "metadata": {},
   "source": [
    "#### Exercise 7.3.3"
   ]
  },
  {
   "cell_type": "markdown",
   "id": "19",
   "metadata": {},
   "source": [
    "If the queue were stored in the opposite order, with the last item in the head and\n",
    "the first item in the last node of the linked list, could we still implement\n",
    "the queue's operations in constant time?"
   ]
  },
  {
   "cell_type": "markdown",
   "id": "20",
   "metadata": {},
   "source": [
    "_Write your answer here._"
   ]
  },
  {
   "cell_type": "markdown",
   "id": "21",
   "metadata": {},
   "source": [
    "[Hint](../31_Hints/Hints_07_3_03.ipynb)\n",
    "[Answer](../32_Answers/Answers_07_3_03.ipynb)"
   ]
  },
  {
   "cell_type": "markdown",
   "id": "22",
   "metadata": {},
   "source": [
    "### 7.3.4 Using queues"
   ]
  },
  {
   "cell_type": "markdown",
   "id": "23",
   "metadata": {},
   "source": [
    "Consider *n* children in a circle, numbered clockwise from 1 to *n*.\n",
    "Alice is in the centre. She points at the first child and starts reciting:\n",
    "\n",
    "> Eeny, meeny, miny, moe,\\\n",
    "> Catch a tiger by the toe.\\\n",
    "> If he hollers, let him go,\\\n",
    "> Eeny, meeny, miny, moe.\n",
    "\n",
    "For each syllable, Alice points at a child, going clockwise.\n",
    "For example, with *n* = 3, she would point successively at\n",
    "children 1 (ee) 2 (ny) 3 (mee) 1 (ny) 2 (mi) 3 (ny) 1 (moe) for the first line.\n",
    "The child pointed to on the last syllable, the second 'moe', leaves the circle.\n",
    "The reciting and counting starts again on the next child.\n",
    "After going *n* − 1 times through the rhyme, one child is left in the circle.\n",
    "We want to know which child is that."
   ]
  },
  {
   "cell_type": "markdown",
   "id": "24",
   "metadata": {},
   "source": [
    "<div class=\"alert alert-info\">\n",
    "<strong>Info:</strong> This is a version of the\n",
    "<a href=\"https://en.wikipedia.org/wiki/Josephus_problem\">Josephus problem</a>.\n",
    "</div>"
   ]
  },
  {
   "cell_type": "markdown",
   "id": "25",
   "metadata": {},
   "source": [
    "#### Exercise 7.3.4"
   ]
  },
  {
   "cell_type": "markdown",
   "id": "26",
   "metadata": {},
   "source": [
    "For this problem, we can represent a circle of children as a queue. How?"
   ]
  },
  {
   "cell_type": "markdown",
   "id": "27",
   "metadata": {},
   "source": [
    "_Write your answer here._"
   ]
  },
  {
   "cell_type": "markdown",
   "id": "28",
   "metadata": {},
   "source": [
    "[Hint](../31_Hints/Hints_07_3_04.ipynb)\n",
    "[Answer](../32_Answers/Answers_07_3_04.ipynb)"
   ]
  },
  {
   "cell_type": "markdown",
   "id": "29",
   "metadata": {},
   "source": [
    "#### Exercise 7.3.5"
   ]
  },
  {
   "cell_type": "markdown",
   "id": "30",
   "metadata": {},
   "source": [
    "Given the number of children *n*, we want to know the number of\n",
    "the last remaining child. Outline an algorithm to compute that number."
   ]
  },
  {
   "cell_type": "markdown",
   "id": "31",
   "metadata": {},
   "source": [
    "_Write your answer here._"
   ]
  },
  {
   "cell_type": "markdown",
   "id": "32",
   "metadata": {},
   "source": [
    "[Hint](../31_Hints/Hints_07_3_05.ipynb)\n",
    "[Answer](../32_Answers/Answers_07_3_05.ipynb)"
   ]
  },
  {
   "cell_type": "markdown",
   "id": "33",
   "metadata": {},
   "source": [
    "#### Exercise 7.3.6"
   ]
  },
  {
   "cell_type": "markdown",
   "id": "34",
   "metadata": {},
   "source": [
    "Implement the algorithm you outlined by completing the following function, using the `Queue` class."
   ]
  },
  {
   "cell_type": "code",
   "execution_count": 4,
   "id": "35",
   "metadata": {},
   "outputs": [],
   "source": [
    "%run -i ../m269_queue\n",
    "\n",
    "from algoesup import test\n",
    "\n",
    "def counting_rhyme(n: int) -> int:\n",
    "    \"\"\"Return which child from 1 to n remains last in the circle.\n",
    "\n",
    "    Preconditions: n > 0\n",
    "    \"\"\"\n",
    "    pass\n",
    "\n",
    "counting_rhyme_tests = [\n",
    "    # case,         n,  last child\n",
    "    ['1 child',     1,          1],\n",
    "    ['2 children',  2,          1],\n",
    "    ['3 children',  3,          2]\n",
    "]\n",
    "\n",
    "test(counting_rhyme, counting_rhyme_tests)"
   ]
  },
  {
   "cell_type": "markdown",
   "id": "36",
   "metadata": {},
   "source": [
    "[Hint](../31_Hints/Hints_07_3_06.ipynb)\n",
    "[Answer](../32_Answers/Answers_07_3_06.ipynb)"
   ]
  },
  {
   "cell_type": "markdown",
   "id": "37",
   "metadata": {},
   "source": [
    "#### Exercise 7.3.7"
   ]
  },
  {
   "cell_type": "markdown",
   "id": "38",
   "metadata": {},
   "source": [
    "What is the complexity of the algorithm as implemented in the solution to the previous exercise?"
   ]
  },
  {
   "cell_type": "markdown",
   "id": "39",
   "metadata": {},
   "source": [
    "_Write your answer here._"
   ]
  },
  {
   "cell_type": "markdown",
   "id": "40",
   "metadata": {},
   "source": [
    "[Hint](../31_Hints/Hints_07_3_07.ipynb)\n",
    "[Answer](../32_Answers/Answers_07_3_07.ipynb)"
   ]
  },
  {
   "cell_type": "markdown",
   "id": "41",
   "metadata": {},
   "source": [
    "⟵ [Previous section](07_2_stack_usage.ipynb) | [Up](07-introduction.ipynb) | [Next section](07_4_priority_queue.ipynb) ⟶"
   ]
  }
 ],
 "metadata": {
  "kernelspec": {
   "display_name": "Python 3",
   "language": "python",
   "name": "python3"
  },
  "language_info": {
   "codemirror_mode": {
    "name": "ipython",
    "version": 3
   },
   "file_extension": ".py",
   "mimetype": "text/x-python",
   "name": "python",
   "nbconvert_exporter": "python",
   "pygments_lexer": "ipython3",
   "version": "3.11.9"
  }
 },
 "nbformat": 4,
 "nbformat_minor": 5
}
