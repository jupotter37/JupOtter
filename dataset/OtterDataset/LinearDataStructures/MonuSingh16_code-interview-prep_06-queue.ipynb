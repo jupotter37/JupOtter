{
 "cells": [
  {
   "cell_type": "markdown",
   "metadata": {},
   "source": [
    "#### Queues\n",
    "\n",
    "Queues are similar to stacks, except they follow what is called a FIFO approach (First in First Out). A real world example would be a line at the bank\n",
    "\n",
    "The most common implementation of a queue is using a Linked List. The two operations that queues support are `enqueue` and `dequeue`\n",
    "\n",
    "#### Enqueue\n",
    "The enqueue operation adds elements to the tail of the queue until the size of the queue is reached. Since adding to the end of the queue requires no shifting of the elements, this operation runs in $O(1)$.\n"
   ]
  },
  {
   "cell_type": "code",
   "execution_count": null,
   "metadata": {},
   "outputs": [],
   "source": [
    "def enqueue(self, val):\n",
    "    newNode = ListNode(val)\n",
    "\n",
    "    # Queue is non-empty\n",
    "    if self.right:\n",
    "        self.right.next = newNode\n",
    "        self.right = self.right.next\n",
    "\n",
    "    # Queue is empty\n",
    "    else:\n",
    "        self.left = self.right = newNode\n"
   ]
  },
  {
   "cell_type": "markdown",
   "metadata": {},
   "source": [
    "#### Dequeue\n",
    "\n",
    "The dequeue operation removes elements from the front of the queue and returns that element. The following pseudocode and the visual demonstrate this.\n"
   ]
  },
  {
   "cell_type": "code",
   "execution_count": null,
   "metadata": {},
   "outputs": [],
   "source": [
    "def dequeue(self):\n",
    "    # Queue is empty\n",
    "    if not self.left:\n",
    "        return None\n",
    "    \n",
    "    # Remove left node and return value\n",
    "    val = self.left.val\n",
    "    self.left = self.left.next\n",
    "    if not self.left:\n",
    "        self.right = None\n",
    "    return val"
   ]
  },
  {
   "cell_type": "markdown",
   "metadata": {},
   "source": [
    "Queues could also be implemented by using dynamic arrays, however, it gets a little bit trickier if you want to maintain efficiency of enqueue and dequeue operations. With the array implementation, dequeue would take $O(n)$ time due to shifting of the elements.\n",
    "\n"
   ]
  },
  {
   "cell_type": "markdown",
   "metadata": {},
   "source": [
    "#### [LC 225 - Implement Stack using Queues](https://leetcode.com/problems/implement-stack-using-queues/description/)\n",
    "\n",
    "Implement a last-in-first-out (LIFO) stack using only two queues. The implemented stack should support all the functions of a normal stack (push, top, pop, and empty).\n",
    "\n",
    "Implement the MyStack class:\n",
    "\n",
    "- void push(int x) Pushes element x to the top of the stack.\n",
    "- int pop() Removes the element on the top of the stack and returns it.\n",
    "- int top() Returns the element on the top of the stack.\n",
    "- boolean empty() Returns true if the stack is empty, false otherwise.\n"
   ]
  },
  {
   "cell_type": "code",
   "execution_count": 1,
   "metadata": {},
   "outputs": [],
   "source": [
    "class MyStack:\n",
    "    def __init__(self) -> None:\n",
    "        self.q = dequeue()\n",
    "    \n",
    "    def push(self, x:int) -> None:\n",
    "        self.q.append(x)\n",
    "\n",
    "    def pop(self) -> int:\n",
    "        for i in range(len(self.q) - 1):\n",
    "            self.push(self.q.popleft)\n",
    "        \n",
    "        return self.q.popleft()\n",
    "    \n",
    "    def top(self) -> int:\n",
    "        return self.q[-1]\n",
    "    \n",
    "    def empty(self) -> bool:\n",
    "        return len(self.q) == 0\n",
    "    \n"
   ]
  },
  {
   "cell_type": "code",
   "execution_count": null,
   "metadata": {},
   "outputs": [],
   "source": []
  }
 ],
 "metadata": {
  "kernelspec": {
   "display_name": "Python 3",
   "language": "python",
   "name": "python3"
  },
  "language_info": {
   "codemirror_mode": {
    "name": "ipython",
    "version": 3
   },
   "file_extension": ".py",
   "mimetype": "text/x-python",
   "name": "python",
   "nbconvert_exporter": "python",
   "pygments_lexer": "ipython3",
   "version": "3.11.6"
  }
 },
 "nbformat": 4,
 "nbformat_minor": 2
}
