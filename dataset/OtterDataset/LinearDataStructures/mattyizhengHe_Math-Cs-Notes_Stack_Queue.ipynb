{
 "cells": [
  {
   "cell_type": "markdown",
   "metadata": {},
   "source": [
    "### Abstract Data Type\n",
    "An ADT is a model for a data type. It defines a data type by its\n",
    "behavior from the user’s perspective only. It describes the possible\n",
    "values and the set of possible operations on the data type.\n",
    "\n",
    "It ignores the details of the implementation.\n",
    "\n",
    "An ADT is more abstract than a data structure. A data structure is a\n",
    "concrete representation of data which includes the implementation\n",
    "details.\n",
    "\n",
    "### List ADT\n",
    "- get(i): Return the element at index i.\n",
    "- set(i, e): Set the element at index i to e.\n",
    "- add(i, e): Add element e at index i.\n",
    "- remove(i): Remove and return the element at index i.\n",
    "- remove(e): Remove the first occurrence of e.\n",
    "- clear(): Remove all elements from the list.\n",
    "- isEmpty(): Return true if the list is empty.\n",
    "- size(): Return the number of elements in the list.\n",
    "- ... (other methods)"
   ]
  },
  {
   "cell_type": "markdown",
   "metadata": {},
   "source": [
    "### STACK ADT\n",
    "- push(e): Add element e to the top of the stack.\n",
    "- pop(): Remove and return the element from the top of the stack.\n",
    "- isEmpty(): Return true if the stack is empty.\n",
    "- peek(): Return the element from the top of the stack without removing it.\n",
    "\n",
    "A stack is a list. However, it typically does not have operations to access the list element i directly. Instead one accesses only the element at one end of the list.\n",
    "\n",
    "### How to implement a Stack using a List\n",
    "|            | push(e) | pop() |\n",
    "|----------|----------|----------|\n",
    "| array list   | addLast(e)   | removeLast()   |\n",
    "| singly linked list   | addFirst(e)   | removeFirst()   |\n",
    "| doubly linked list   | either row above | either row above   |\n",
    "\n",
    "### Overflow and underflow\n",
    "- Overflow: Trying to push an element onto a full stack.\n",
    "- Underflow: Trying to pop an element from an empty stack.\n"
   ]
  },
  {
   "cell_type": "markdown",
   "metadata": {},
   "source": [
    "### Queue ADT\n",
    "- enqueue(e): Add element e to the end of the queue.\n",
    "- dequeue(): Remove and return the element from the front of the queue.\n",
    "#### How to implement a queue\n",
    "|            | enqueue(e) | dequeue() |\n",
    "|----------|----------|----------|\n",
    "| singly linked list   | addLast(e)   | removeFirst()   |\n",
    "| doubly linked list   | addLast(e) or addFirst(e)   | removeFirst() or removeLast()   |\n",
    "|  array list  | addLast(e) | removeFirst(slow)   |\n",
    "\n",
    "#### Implementation\n",
    "Implement a queue with an array list (expanding array) is inefficient. A better idea is using **circular array**.\n",
    "\n",
    "**Indexing**\n",
    "<p align=\"center\">\n",
    "    <img src=\"Img/Figure_circular_array_1.png\" width=\"85%\">\n",
    "</p>\n",
    "\n",
    "#### Implementation of enqueue and dequeue"
   ]
  },
  {
   "cell_type": "code",
   "execution_count": null,
   "metadata": {},
   "outputs": [],
   "source": [
    "public enqueue(element){\n",
    "    if (size == queue.length){\n",
    "        // increase length of array\n",
    "        Object[] newQueue = new Object[queue.length * 2];\n",
    "        for (int i = 0; i < size; i++){\n",
    "            newQueue[i] = queue[(head + i) % queue.length];\n",
    "        }\n",
    "        head = 0;\n",
    "        queue = newQueue;\n",
    "    }\n",
    "    queue[(head + size) % queue.length] = element;\n",
    "    size++;\n",
    "}\n",
    "\n",
    "public Object dequeue(){\n",
    "    if (size <= 0){\n",
    "        throw new NoSuchElementException();\n",
    "    }\n",
    "    Object element = queue[head];\n",
    "    head = (head + 1) % queue.length;\n",
    "    size--;\n",
    "    return element;\n",
    "}"
   ]
  },
  {
   "cell_type": "markdown",
   "metadata": {},
   "source": [
    "#### What if size is 0?\n",
    "<p align=\"center\">\n",
    "    <img src=\"Img/Figure_circular_array_2.png\" width=\"85%\">\n",
    "</p>"
   ]
  }
 ],
 "metadata": {
  "kernelspec": {
   "display_name": "Java",
   "language": "java",
   "name": "java"
  },
  "language_info": {
   "name": "java"
  }
 },
 "nbformat": 4,
 "nbformat_minor": 2
}
