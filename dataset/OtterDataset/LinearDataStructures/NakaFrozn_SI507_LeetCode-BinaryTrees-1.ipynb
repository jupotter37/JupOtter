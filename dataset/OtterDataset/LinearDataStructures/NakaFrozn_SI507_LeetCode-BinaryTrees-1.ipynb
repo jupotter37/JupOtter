{
 "cells": [
  {
   "cell_type": "markdown",
   "id": "3d483e62-5562-4be1-adc8-48a66f82050a",
   "metadata": {},
   "source": [
    "# LeetCode Problems"
   ]
  },
  {
   "cell_type": "markdown",
   "id": "343232a5-1947-402b-914a-9de2ce4a108c",
   "metadata": {},
   "source": [
    "## Binary Trees"
   ]
  },
  {
   "cell_type": "markdown",
   "id": "2f5da4fb-6976-4812-a189-a791ac413568",
   "metadata": {},
   "source": [
    "When starting out programming, we first build intuition and understand the linear data structures. Linear data structures consists of arrays, linked-lists, stacks, queues, hashmaps/hash tables etc where there is a clear logical start and logical end. We then dive deep into non-linear data structures like trees, graphs, heaps where a clear end to the structure is not available.  \n",
    "\n",
    "Binary Trees are non-linear data structures. They don’t store data in a linear way. They organize the data hierarchically.\n",
    "\n",
    "In this notebook, we will predominantly look at different leetcode patterns for solving Tree based questions. i.e: DFS and BFS "
   ]
  },
  {
   "cell_type": "markdown",
   "id": "48e813d1-4d83-4f5a-91c2-a62693b3e388",
   "metadata": {},
   "source": [
    "## Terminology in Tree data structures"
   ]
  },
  {
   "cell_type": "markdown",
   "id": "6fc18034-26ce-4074-9466-d392f72043c8",
   "metadata": {},
   "source": [
    "**Root** is the topmost node of the tree\n",
    "\n",
    "**Edge** is the link between two nodes\n",
    "\n",
    "**Child** is a node that has a parent node\n",
    "\n",
    "**Parent** is a node that has an edge to a child node\n",
    "\n",
    "**Leaf** is a node that does not have a child node in the tree\n",
    "\n",
    "**Height** is the length of the longest path to a leaf\n",
    "\n",
    "**Depth** is the length of the path to its root. It is specific to every node in the tree. i.e: Node A can have a depth of 3 while another Node B can have a depth of 5. "
   ]
  },
  {
   "cell_type": "markdown",
   "id": "49eb9956-52c5-4e06-9949-9fff88e44a0b",
   "metadata": {},
   "source": [
    "### Let's build a Binary Tree first"
   ]
  },
  {
   "cell_type": "markdown",
   "id": "c885159e-be73-489a-b9a1-dc56aadc8027",
   "metadata": {},
   "source": [
    "#### 1. Develop a Tree node"
   ]
  },
  {
   "cell_type": "markdown",
   "id": "66b14951-cf43-405a-a5bb-eaa18119f3bb",
   "metadata": {},
   "source": [
    "Every node is defined through the BinaryTree class instance as shown below. "
   ]
  },
  {
   "cell_type": "code",
   "execution_count": 7,
   "id": "17fcf5ee-0c81-4e33-9cb9-6990e97264e4",
   "metadata": {
    "tags": []
   },
   "outputs": [],
   "source": [
    "class BinaryTree:\n",
    "    def __init__(self, value):\n",
    "        self.value = value\n",
    "        self.left_child = None\n",
    "        self.right_child = None\n",
    "    def insert_left(self, value):\n",
    "        if self.left_child == None:\n",
    "            self.left_child = BinaryTree(value)\n",
    "        else:\n",
    "            new_node = BinaryTree(value)\n",
    "            new_node.left_child = self.left_child\n",
    "            self.left_child = new_node\n",
    "    def insert_right(self, value):\n",
    "        if self.right_child == None:\n",
    "            self.right_child = BinaryTree(value)\n",
    "        else:\n",
    "            new_node = BinaryTree(value)\n",
    "            new_node.right_child = self.right_child\n",
    "            self.right_child = new_node\n",
    "    \n",
    "    def pre_order(self):\n",
    "        print(self.value)\n",
    "\n",
    "        if self.left_child:\n",
    "            self.left_child.pre_order()\n",
    "\n",
    "        if self.right_child:\n",
    "            self.right_child.pre_order()\n",
    "    \n",
    "    \n",
    "        "
   ]
  },
  {
   "cell_type": "markdown",
   "id": "a1029c41-210b-4543-b715-e6d3488cbf8e",
   "metadata": {
    "tags": []
   },
   "source": [
    "Testing out the above code by defining/building a single node tree. "
   ]
  },
  {
   "cell_type": "code",
   "execution_count": 2,
   "id": "6e76ebb2-449c-4f04-a644-3e246ab01e72",
   "metadata": {
    "tags": []
   },
   "outputs": [
    {
     "name": "stdout",
     "output_type": "stream",
     "text": [
      "a\n",
      "None\n",
      "None\n"
     ]
    }
   ],
   "source": [
    "tree = BinaryTree('a')\n",
    "print(tree.value) # a\n",
    "print(tree.left_child) # None\n",
    "print(tree.right_child) # None"
   ]
  },
  {
   "cell_type": "markdown",
   "id": "7fb4d344-b312-43ae-a653-c33c60470b65",
   "metadata": {
    "tags": []
   },
   "source": [
    "#### 2. Inserting tree nodes"
   ]
  },
  {
   "cell_type": "markdown",
   "id": "9daecd00-b50f-413a-91b9-89131b66f540",
   "metadata": {},
   "source": [
    "- If the current **node** doesn’t have a **left child**, we just create a new **node** and set it to the current node’s **left_child**.\n",
    "\n",
    "- If it does have the **left child**, we create a new **node** and put it in the current **left child**’s place. Allocate this **left child** node to the new node’s **left child**."
   ]
  },
  {
   "cell_type": "code",
   "execution_count": 3,
   "id": "10b5e6d7-3863-4e20-9562-a3584799d46c",
   "metadata": {
    "tags": []
   },
   "outputs": [],
   "source": [
    "def insert_left(self, value):\n",
    "    if self.left_child == None:\n",
    "        self.left_child = BinaryTree(value)\n",
    "    else:\n",
    "        new_node = BinaryTree(value)\n",
    "        new_node.left_child = self.left_child\n",
    "        self.left_child = new_node"
   ]
  },
  {
   "cell_type": "markdown",
   "id": "faf79386-73a4-488b-b56e-9d4d4b640db0",
   "metadata": {
    "tags": []
   },
   "source": [
    "#### Repeat the process for inserting a right node. "
   ]
  },
  {
   "cell_type": "code",
   "execution_count": 4,
   "id": "12899881-aac1-466e-ac6b-d4ff5fc5782d",
   "metadata": {
    "tags": []
   },
   "outputs": [],
   "source": [
    "def insert_right(self, value):\n",
    "    if self.right_child == None:\n",
    "        self.right_child = BinaryTree(value)\n",
    "    else:\n",
    "        new_node = BinaryTree(value)\n",
    "        new_node.right_child = self.right_child\n",
    "        self.right_child = new_node"
   ]
  },
  {
   "cell_type": "markdown",
   "id": "310f1c4d-3d74-4842-8473-2201c5ff5529",
   "metadata": {},
   "source": [
    "#### Test your Binary Tree"
   ]
  },
  {
   "cell_type": "markdown",
   "id": "94df0878-af77-4e83-bd34-c95e53ec273f",
   "metadata": {},
   "source": [
    "**Do not run the below cell before you put the 'insert_left' and 'insert_right' methods within the BinaryTree class in the same code cell**"
   ]
  },
  {
   "cell_type": "code",
   "execution_count": 9,
   "id": "17dac173-425c-4d48-9d62-9f547d47c89e",
   "metadata": {
    "tags": []
   },
   "outputs": [
    {
     "name": "stdout",
     "output_type": "stream",
     "text": [
      "a\n",
      "b\n",
      "c\n",
      "d\n",
      "e\n",
      "f\n"
     ]
    }
   ],
   "source": [
    "a_node = BinaryTree('a')\n",
    "a_node.insert_left('b')\n",
    "a_node.insert_right('c')\n",
    "\n",
    "b_node = a_node.left_child\n",
    "b_node.insert_right('d')\n",
    "\n",
    "c_node = a_node.right_child\n",
    "c_node.insert_left('e')\n",
    "c_node.insert_right('f')\n",
    "\n",
    "d_node = b_node.right_child\n",
    "e_node = c_node.left_child\n",
    "f_node = c_node.right_child\n",
    "\n",
    "#print the values of every node bellow\n",
    "\n",
    "print(a_node.value)\n",
    "print(b_node.value) # b\n",
    "print(c_node.value) # c\n",
    "print(d_node.value) # d\n",
    "print(e_node.value) # e\n",
    "print(f_node.value) # f"
   ]
  },
  {
   "cell_type": "markdown",
   "id": "cbfa4c68-b70d-4d0e-be05-e9c627417f5e",
   "metadata": {},
   "source": [
    "### Tree Traversals"
   ]
  },
  {
   "cell_type": "markdown",
   "id": "bce57b4a-ed4c-4a01-9cde-5fd5303253da",
   "metadata": {},
   "source": [
    "- **Depth First Search**\n",
    "\n",
    "    - Pre-order Traversal\n",
    "    - In-Order Traversal\n",
    "    - Post-Order Traversal\n",
    "    "
   ]
  },
  {
   "cell_type": "markdown",
   "id": "a6f6b45f-e5e1-43eb-8298-eb49fa7eab23",
   "metadata": {
    "tags": []
   },
   "source": [
    "\n",
    "- **Breadth first Search**"
   ]
  },
  {
   "cell_type": "markdown",
   "id": "5969e177-756f-42a0-9a9c-e8903f70591b",
   "metadata": {},
   "source": [
    "## Depth First Search"
   ]
  },
  {
   "cell_type": "markdown",
   "id": "5d746597-5416-4ed3-bbee-d8e7868222b0",
   "metadata": {},
   "source": [
    "### Pre-Order Traversal"
   ]
  },
  {
   "cell_type": "code",
   "execution_count": 11,
   "id": "40807f29-1154-4d86-9ea7-4ac4b331e9f1",
   "metadata": {
    "tags": []
   },
   "outputs": [],
   "source": [
    "def pre_order(self):\n",
    "    print(self.value)\n",
    "\n",
    "    if self.left_child:\n",
    "        self.left_child.pre_order()\n",
    "\n",
    "    if self.right_child:\n",
    "        self.right_child.pre_order()\n",
    "        \n",
    "        \n",
    "# The result for this algorithm will be 1–2–3–4–5–6–7 if you build a 3 level tree with the numbers 1 to 7 in a pre-order manner.\n",
    "# You first print the current_node value and then traverse its left node and then the right node in pre-order traversal."
   ]
  },
  {
   "cell_type": "markdown",
   "id": "1747fa83-568c-4fbe-8f4e-00834eab4069",
   "metadata": {},
   "source": [
    "## In-Order Traversal"
   ]
  },
  {
   "cell_type": "code",
   "execution_count": 92,
   "id": "3f27465e-08bd-413c-ab40-6731cbf4588c",
   "metadata": {
    "tags": []
   },
   "outputs": [],
   "source": [
    "def in_order(self):\n",
    "    if self.left_child:\n",
    "        self.left_child.in_order()\n",
    "\n",
    "    print(self.value)\n",
    "\n",
    "    if self.right_child:\n",
    "        self.right_child.in_order()\n",
    "        \n",
    "# The result for this algorithm will be 3–2–4–1–6–5–7.\n",
    "# You first print the left_node value and then traverse to the current_node and then the right node in pre-order traversal."
   ]
  },
  {
   "cell_type": "markdown",
   "id": "076a81fb-990c-44ba-826b-28610427ff40",
   "metadata": {},
   "source": [
    "## Post Order Traversal"
   ]
  },
  {
   "cell_type": "code",
   "execution_count": 93,
   "id": "c9e32e96-c321-4433-a55a-14b0abfc970d",
   "metadata": {
    "tags": []
   },
   "outputs": [],
   "source": [
    "def post_order(self):\n",
    "    if self.left_child:\n",
    "        self.left_child.post_order()\n",
    "\n",
    "    if self.right_child:\n",
    "        self.right_child.post_order()\n",
    "\n",
    "    print(self.value)\n",
    "    \n",
    "\n",
    "#The result of the post order algorithm for the tree example drawn on board is 3–4–2–6–7–5–1.\n",
    "# You first print the left_node value and then traverse to the right_node and then the current node in post-order traversal."
   ]
  },
  {
   "cell_type": "markdown",
   "id": "eb8decf1-6041-4f27-8f45-b0ee2c60737c",
   "metadata": {},
   "source": [
    "## Breadth First Search"
   ]
  },
  {
   "cell_type": "markdown",
   "id": "08c70e72-82e1-4fc8-9207-08c0d30f2304",
   "metadata": {
    "tags": []
   },
   "source": [
    "**In BFS/DFS, you traverse a tree through the levels horizontally/vertically as shown below.**"
   ]
  },
  {
   "cell_type": "markdown",
   "id": "4a112ad0-c57c-48e4-a38e-086d619355f7",
   "metadata": {
    "tags": []
   },
   "source": [
    "\n",
    "![BFS DFS Tree Traversal](https://cdn.hashnode.com/res/hashnode/image/upload/v1635669018706/r9oWsk0vX.png?auto=compress,format&format=webp)"
   ]
  },
  {
   "cell_type": "markdown",
   "id": "fc06daa7-0ee9-4c7d-a2ba-d8d8625003c6",
   "metadata": {},
   "source": [
    "![Visualization of BFS using queue](https://static-assets.codecademy.com/Courses/CS102-Data-Structures-And-Algorithms/Breadth-First-Search-And-Depth-First-Search/Breadth-First-Tree-Traversal.gif)"
   ]
  },
  {
   "cell_type": "markdown",
   "id": "5600e6eb-9cb7-436d-a2e6-863add7c8f27",
   "metadata": {},
   "source": [
    "General Code template for solving BFS using queue"
   ]
  },
  {
   "cell_type": "code",
   "execution_count": 67,
   "id": "2ac3212d-cdec-4505-b571-84d445e377e7",
   "metadata": {
    "tags": []
   },
   "outputs": [],
   "source": [
    "def bfs(self):\n",
    "    # Define a queue and add the root to the queue\n",
    "    queue = Queue()\n",
    "    queue.put(self)\n",
    "    \n",
    "    # As soon as a node is added to the queue, iterate through the queue/deque till its empty \n",
    "    while not queue.empty():\n",
    "        # pop out the first node from the queue and add/print it to the result list.\n",
    "        current_node = queue.get()\n",
    "        print(current_node.value)\n",
    "        # Check if the popped node has any left and right child nodes. If yes, add them to the queue.\n",
    "        # Repeat the process till the queue is empty(the whole tree is iterated) \n",
    "        if current_node.left_child:\n",
    "            queue.put(current_node.left_child)\n",
    "\n",
    "        if current_node.right_child:\n",
    "            queue.put(current_node.right_child)\n",
    "            \n",
    "#  The result of the BFS algorithm for the tree example drawn on board is 1–2–5–3–4–6–7"
   ]
  },
  {
   "cell_type": "markdown",
   "id": "a1097e0f-c720-440d-bb83-7a8f3001aead",
   "metadata": {},
   "source": [
    "## LeetCode Questions on BFS:"
   ]
  },
  {
   "cell_type": "markdown",
   "id": "e16c2e26-a268-4b79-8096-6e4280cb7f3d",
   "metadata": {},
   "source": [
    "**Check the leetcode questions for visualizatsions of what the question means if you do not understand it initially.**"
   ]
  },
  {
   "cell_type": "markdown",
   "id": "e68ea6f2-16a9-4914-8926-a9d8708fc3c1",
   "metadata": {},
   "source": [
    "Question 1: \n",
    "\n",
    "Given a binary tree, populate an array to represent its level-by-level traversal. You should populate the values of all nodes of each level from left to right in separate sub-arrays."
   ]
  },
  {
   "cell_type": "code",
   "execution_count": 3,
   "id": "93fc37b4-d4a1-49dd-8b5a-7fdf45f494d5",
   "metadata": {
    "tags": []
   },
   "outputs": [],
   "source": [
    "class TreeNode:\n",
    "    def __init__(self, val):\n",
    "        self.val = val\n",
    "        self.left, self.right = None, None\n",
    "\n",
    "class Solution:\n",
    "    def traverse(self, root):\n",
    "        pass\n",
    "    \n",
    "            "
   ]
  },
  {
   "cell_type": "code",
   "execution_count": 4,
   "id": "b52d3ee8-7afd-4803-9887-c58f660a5325",
   "metadata": {
    "tags": []
   },
   "outputs": [],
   "source": [
    "from collections import deque\n",
    "# This code cell is to build any tree to test out your code solutions. Write down the tree on a piece of paper for visualization\n",
    "sol = Solution()\n",
    "root = TreeNode(12)\n",
    "root.left = TreeNode(7)\n",
    "root.right = TreeNode(1)\n",
    "root.left.left = TreeNode(9)\n",
    "root.right.left = TreeNode(10)\n",
    "root.right.right = TreeNode(5)\n",
    "#print(\"Level order traversal: \" + str(sol.traverse(root)))"
   ]
  },
  {
   "cell_type": "markdown",
   "id": "1ae5e824-1b93-4c95-98c4-070819a5f34f",
   "metadata": {},
   "source": [
    "*********************************"
   ]
  },
  {
   "cell_type": "markdown",
   "id": "38169087-fb35-4665-a4fb-406fb485bb33",
   "metadata": {},
   "source": [
    "Question 2\n",
    "\n",
    "Given a binary tree, populate an array to represent its level-by-level traversal in reverse order, i.e., the lowest level comes first. You should populate the values of all nodes in each level from left to right in separate sub-arrays."
   ]
  },
  {
   "cell_type": "code",
   "execution_count": 102,
   "id": "87bf7285-32e0-4a95-941b-03c1eac17e3a",
   "metadata": {
    "tags": []
   },
   "outputs": [],
   "source": [
    "# How would you modify the the code from the previous answer to solve this question? Think carefully about it!!\n",
    "\n",
    "def reversetraverse(self, root):\n",
    "    [ass"
   ]
  },
  {
   "cell_type": "markdown",
   "id": "64dd35bc-a05d-4a7f-83e2-6993137ba1c2",
   "metadata": {
    "tags": []
   },
   "source": [
    "*********************************"
   ]
  },
  {
   "cell_type": "markdown",
   "id": "b46ec908-94ef-4453-b1d4-d73404a6875c",
   "metadata": {},
   "source": [
    "Question 3\n",
    "\n",
    "Given a binary tree, populate an array to represent its zigzag level order traversal. You should populate the values of all nodes of the first level from left to right, then right to left for the next level and keep alternating in the same manner for the following levels."
   ]
  },
  {
   "cell_type": "code",
   "execution_count": 12,
   "id": "1cbb86f9-5301-40d1-9701-59e3b9def4a9",
   "metadata": {
    "tags": []
   },
   "outputs": [],
   "source": [
    "def zigzagtraverse(self, root):\n",
    "    pass"
   ]
  },
  {
   "cell_type": "markdown",
   "id": "30d994c3-7893-4af7-9f79-f9b526f3f119",
   "metadata": {},
   "source": [
    "*********************************"
   ]
  },
  {
   "cell_type": "markdown",
   "id": "31b8e814-6c2e-4224-9591-8925e1955085",
   "metadata": {},
   "source": [
    "Question 4\n",
    "\n",
    "Given a binary tree, populate an array to represent the averages of all of its levels."
   ]
  },
  {
   "cell_type": "code",
   "execution_count": 6,
   "id": "daa3e08f-fadb-4a29-add4-6c804e987630",
   "metadata": {},
   "outputs": [],
   "source": [
    "def averagelevels(root):\n",
    "    pass"
   ]
  },
  {
   "cell_type": "markdown",
   "id": "7ed8a255-647b-49f8-9a18-78c934395f1e",
   "metadata": {},
   "source": [
    "*********************************"
   ]
  },
  {
   "cell_type": "markdown",
   "id": "ba943ee3-1676-42a3-a78b-3ed3ee30ace9",
   "metadata": {},
   "source": [
    "Question 5\n",
    "\n",
    "Find the minimum depth of a binary tree. The minimum depth is the number of nodes along the **shortest path from the root node to the nearest leaf node**.\n",
    "\n"
   ]
  },
  {
   "cell_type": "code",
   "execution_count": 7,
   "id": "d6038698-e50f-421a-9837-0c9de9141023",
   "metadata": {},
   "outputs": [],
   "source": [
    "def minimumdepth(root):\n",
    "    pass"
   ]
  },
  {
   "cell_type": "markdown",
   "id": "4e27a8b3-a916-4342-be3b-286c76baa3d8",
   "metadata": {},
   "source": [
    "*********************************"
   ]
  },
  {
   "cell_type": "markdown",
   "id": "438d3fea-22b6-4dd2-a338-31784cf61c08",
   "metadata": {},
   "source": [
    "Question 6\n",
    "\n",
    "Given a binary tree and a node, find the level order successor of the given node in the tree. The level order successor is the **node that appears right after the given node** in the level order traversal."
   ]
  },
  {
   "cell_type": "code",
   "execution_count": 8,
   "id": "119f7894-a87e-4cbe-a8a9-6cfc0531dfe3",
   "metadata": {},
   "outputs": [],
   "source": [
    "def nodesucessor(root, key):\n",
    "    pass"
   ]
  },
  {
   "cell_type": "markdown",
   "id": "f7e41ca4-8fe7-4cf0-a276-801816dd1948",
   "metadata": {},
   "source": [
    "*********************************"
   ]
  },
  {
   "cell_type": "markdown",
   "id": "5cdeb07a-65f5-4630-b30d-848a4215bd3f",
   "metadata": {},
   "source": [
    "Question 7\n",
    "\n",
    "Given a binary tree, connect each node with its level order successor. The last node of each level should point to a **null node**."
   ]
  },
  {
   "cell_type": "code",
   "execution_count": 9,
   "id": "5bf27a8c-bb4e-455a-9cc6-d266a029e854",
   "metadata": {},
   "outputs": [],
   "source": [
    "# Convert the given binary tree to a list of connected linked lists through their levels.\n",
    "def levelsuccessor(root):\n",
    "    pass"
   ]
  },
  {
   "cell_type": "markdown",
   "id": "e9ae68e3-4a3f-43e0-b98b-b62b43b20ed4",
   "metadata": {},
   "source": [
    "*********************************"
   ]
  },
  {
   "cell_type": "markdown",
   "id": "d2c5f537-77fc-4886-b1a4-35b3a2e2675c",
   "metadata": {},
   "source": [
    "Question 8\n",
    "\n",
    "Given a binary tree, connect each node with its level order successor. The last node of each level should point to the first node of the next level."
   ]
  },
  {
   "cell_type": "code",
   "execution_count": 11,
   "id": "a3a5bda7-4c7f-43d2-b8dc-f146cae0730e",
   "metadata": {
    "tags": []
   },
   "outputs": [],
   "source": [
    "def levelsuccessor(root):\n",
    "    pass\n"
   ]
  },
  {
   "cell_type": "markdown",
   "id": "8a0b2220-4921-4643-a242-931a1a6cf049",
   "metadata": {},
   "source": [
    "*********************************"
   ]
  },
  {
   "cell_type": "markdown",
   "id": "1d6eeeb3-4b95-484c-92d2-68ee5efe49a5",
   "metadata": {},
   "source": [
    "Question 9\n",
    "\n",
    "Given a binary tree, return an array containing nodes in its right view. The right view of a binary tree is the set of nodes **visible when the tree is seen from the right side**."
   ]
  },
  {
   "cell_type": "code",
   "execution_count": 13,
   "id": "ecea9f8e-201f-4093-b6a0-4139ffc7b51d",
   "metadata": {},
   "outputs": [],
   "source": [
    "def rightview(root):\n",
    "    pass"
   ]
  },
  {
   "cell_type": "markdown",
   "id": "39f23f16-1af8-4636-8f54-ba171d382a74",
   "metadata": {},
   "source": [
    "*********************************"
   ]
  },
  {
   "cell_type": "markdown",
   "id": "434cafd3-a18a-42d0-9b47-0c26f544c7b9",
   "metadata": {
    "tags": []
   },
   "source": [
    "## LeetCode questions on DFS:"
   ]
  },
  {
   "cell_type": "markdown",
   "id": "360ace5c-2d2a-4e09-a2fa-da0e78c96915",
   "metadata": {},
   "source": [
    "Question 1\n",
    "\n",
    "Given a binary tree and a number ‘S’, find if the tree has a path from root-to-leaf such that the sum of all the node values of that path equals ‘S’."
   ]
  },
  {
   "cell_type": "code",
   "execution_count": 14,
   "id": "b01946e6-fa2f-4f89-ae03-2ad76f0171c9",
   "metadata": {
    "tags": []
   },
   "outputs": [],
   "source": [
    "def hasPath(root, sum):\n",
    "    pass"
   ]
  },
  {
   "cell_type": "code",
   "execution_count": 43,
   "id": "c27697ff-7ff1-4b9b-9cb8-f6644594b774",
   "metadata": {
    "tags": []
   },
   "outputs": [],
   "source": [
    "root = TreeNode(12)\n",
    "root.left = TreeNode(7)\n",
    "root.right = TreeNode(1)\n",
    "root.left.left = TreeNode(9)\n",
    "root.right.left = TreeNode(10)\n",
    "root.right.right = TreeNode(5)\n",
    "#print(\"Tree has path: \" + str(hasPath(root, 23)))\n",
    "#print(\"Tree has path: \" + str(hasPath(root, 16)))"
   ]
  },
  {
   "cell_type": "markdown",
   "id": "5e00ceaa-0d59-4a8b-a8fd-fa31b22203ce",
   "metadata": {},
   "source": [
    "Question 2\n",
    "\n",
    "Given a binary tree and a number **‘S’**, find all paths from root-to-leaf such that the sum of all the node values of each path equals **‘S’**."
   ]
  },
  {
   "cell_type": "code",
   "execution_count": 15,
   "id": "692b5afb-0374-461d-8edc-ee5f7638283a",
   "metadata": {
    "tags": []
   },
   "outputs": [],
   "source": [
    "def findPaths(root, required_sum):\n",
    "    pass        \n",
    "    "
   ]
  },
  {
   "cell_type": "markdown",
   "id": "08ef5db7-3c4d-46a1-829c-faf0cc101587",
   "metadata": {},
   "source": [
    "Question 3\n",
    "\n",
    "Given a binary tree where each node can only have a **digit (0-9)** value, each root-to-leaf path will represent a number. Find the total sum of all the numbers represented by all paths."
   ]
  },
  {
   "cell_type": "code",
   "execution_count": 16,
   "id": "a914b794-80bb-42dd-8b6b-6ca1dbcd8462",
   "metadata": {},
   "outputs": [],
   "source": [
    "def findSumOfPathNumbers(root):\n",
    "    pass"
   ]
  },
  {
   "cell_type": "markdown",
   "id": "ef556714-9652-4ba3-a95d-010d789e70e0",
   "metadata": {},
   "source": [
    "Question 4\n",
    "\n",
    "Given a binary tree and a number sequence, find if the sequence is present as a root-to-leaf path in the given tree."
   ]
  },
  {
   "cell_type": "code",
   "execution_count": 18,
   "id": "1bbd20eb-ea73-4edb-aec4-15a40c8997d3",
   "metadata": {},
   "outputs": [],
   "source": [
    "def findPath(self, root, sequence):\n",
    "    pass"
   ]
  },
  {
   "cell_type": "code",
   "execution_count": null,
   "id": "d93a951c-9576-47ff-9173-a85f2a66ef05",
   "metadata": {},
   "outputs": [],
   "source": []
  }
 ],
 "metadata": {
  "kernelspec": {
   "display_name": "Python 3 (ipykernel)",
   "language": "python",
   "name": "python3"
  },
  "language_info": {
   "codemirror_mode": {
    "name": "ipython",
    "version": 3
   },
   "file_extension": ".py",
   "mimetype": "text/x-python",
   "name": "python",
   "nbconvert_exporter": "python",
   "pygments_lexer": "ipython3",
   "version": "3.11.4"
  }
 },
 "nbformat": 4,
 "nbformat_minor": 5
}
