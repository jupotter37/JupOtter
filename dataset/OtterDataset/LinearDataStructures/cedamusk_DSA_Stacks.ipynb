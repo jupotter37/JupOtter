{
  "nbformat": 4,
  "nbformat_minor": 0,
  "metadata": {
    "colab": {
      "private_outputs": true,
      "provenance": [],
      "authorship_tag": "ABX9TyPz6EFe5dkqUUEzA9qG756R",
      "include_colab_link": true
    },
    "kernelspec": {
      "name": "python3",
      "display_name": "Python 3"
    },
    "language_info": {
      "name": "python"
    }
  },
  "cells": [
    {
      "cell_type": "markdown",
      "metadata": {
        "id": "view-in-github",
        "colab_type": "text"
      },
      "source": [
        "<a href=\"https://colab.research.google.com/github/cedamusk/DSA/blob/main/Stacks.ipynb\" target=\"_parent\"><img src=\"https://colab.research.google.com/assets/colab-badge.svg\" alt=\"Open In Colab\"/></a>"
      ]
    },
    {
      "cell_type": "markdown",
      "source": [
        "# Stacks\n",
        "\n",
        "*   A stack is a data strucuture that stores items in a Last-In/Firts-Out manner (LIFO)\n",
        "\n",
        "\n"
      ],
      "metadata": {
        "id": "vDiYh9iWjy_q"
      }
    },
    {
      "cell_type": "markdown",
      "source": [
        "## Stack operations\n",
        "\n",
        "*   stack(): creates a new stack that is empty. Needs no parameters and returns an empty stack\n",
        "*   push(): Adds a new item to the top of the stack\n",
        "\n",
        "*   pop(): Removes the top from the stack\n",
        "*   peek(): Returns the top item from the stack but does not remove it\n",
        "\n",
        "*   is_empty(): tests to see whether the stack is empty. It needs no parameters and returns a boolean value\n",
        "*   size(): Returns the number of items on the stack. It requires no parameters and returns an integer\n",
        "\n",
        "\n",
        "\n",
        "\n",
        "\n"
      ],
      "metadata": {
        "id": "YZ8i6RRRkqV6"
      }
    },
    {
      "cell_type": "markdown",
      "source": [
        "## Applications of Stack operations\n",
        "\n",
        "*   Function call management. Stacks are used to manage function calls, with the last called function being the first return. This is managed by pushing function call frames onto the stack and popping them off as functions return\n",
        "\n",
        "*   Backtracking algorithms. Algorithms that require backtracking such as maze solvers.\n",
        "*   Expression evaluation and syntax parsing. In compilers and calculators, stacks are used to parse and evaluate expressions, especially those with nested structures such as parantheses.\n",
        "\n",
        "\n",
        "*   Undo mechanism. In applications such as text editors, each operation can be pushed onto a stack, allowing users to undo operations by popping them off the stack\n",
        "\n"
      ],
      "metadata": {
        "id": "YU0XFnHPmPJU"
      }
    },
    {
      "cell_type": "markdown",
      "source": [
        "# Example illustration of stack implementation"
      ],
      "metadata": {
        "id": "4hzhKALroKuz"
      }
    },
    {
      "cell_type": "code",
      "execution_count": null,
      "metadata": {
        "id": "avphEXZvjpj5"
      },
      "outputs": [],
      "source": [
        "class Stack:\n",
        "  def __init__(self):\n",
        "    self.items=[]\n",
        "\n",
        "  def push(self, item):\n",
        "    self.items.append(item)\n",
        "\n",
        "  def pop(self):\n",
        "    if not self.is_empty():\n",
        "      return self.items.pop()\n",
        "    return None\n",
        "\n",
        "  def peek(self):\n",
        "    if not self.is_empty():\n",
        "      return self.items[-1]\n",
        "    return None\n",
        "\n",
        "  def is_empty(self):\n",
        "    return len(self.items)\n",
        "\n",
        "  def size(self):\n",
        "    return len(self.items)\n",
        "\n",
        "\n",
        "seismic_stack=Stack()\n",
        "\n",
        "seismic_stack.push(\"Event 1: Magnitude 4.2 - Location A\")\n",
        "seismic_stack.push(\"Event 2: Magnitude 5.1 - Location B\")\n",
        "seismic_stack.push('Event 3: Magnitude 6.3 - Location C')\n",
        "\n",
        "print(f\"Most recent event:{seismic_stack.peek()}\")\n",
        "\n",
        "analyzed_event=seismic_stack.pop()\n",
        "print(f\"Analyzed event:{analyzed_event}\")\n",
        "\n",
        "print(f\"Number of remaining events:{seismic_stack.size()}\")\n",
        "\n",
        "print(f\"Are there any events left?{not seismic_stack.is_empty()}\")\n",
        ""
      ]
    },
    {
      "cell_type": "markdown",
      "source": [
        "## Advantages of using Stacks\n",
        "\n",
        "*   Simple data structures with a well-defined set of operations, making them easy to understand and use\n",
        "*   Efficient for adding and removing elemesnts, as these are operations with a O(1) comlexity\n",
        "\n",
        "*   Can be used to implements undo/redo functions in applications\n",
        "\n",
        "\n",
        "\n",
        "\n"
      ],
      "metadata": {
        "id": "UY2gBb39rOAe"
      }
    },
    {
      "cell_type": "markdown",
      "source": [
        "## Disadvantages of using Stacks\n",
        "\n",
        "*   Restriction is Stack size is a drawback, if they are full, one cannot add anymore elements to the stack\n",
        "*   Stacks do not provide fasct access to elements other than the top element\n",
        "\n",
        "*   Do not support efficient searching, as you have to pop elements one by one until you find the element you are looking for\n",
        "\n",
        "\n",
        "\n",
        "\n"
      ],
      "metadata": {
        "id": "sjpjCHkVtVl5"
      }
    },
    {
      "cell_type": "markdown",
      "source": [
        "## Implementing a Python stack\n",
        "### Using a Python list"
      ],
      "metadata": {
        "id": "LzIrOtYGt9I_"
      }
    },
    {
      "cell_type": "code",
      "source": [
        "class StackingUsingList:\n",
        "  def __init__(self):\n",
        "    self.stack=[]\n",
        "\n",
        "  def push(self, item):\n",
        "    self.stack.append(item)\n",
        "\n",
        "  def pop(self):\n",
        "    if not self.is_empty():\n",
        "      return self.stack.pop()\n",
        "    return None\n",
        "\n",
        "  def peek(self):\n",
        "    if not self.is_empty():\n",
        "      return self.stack[-1]\n",
        "    return None\n",
        "\n",
        "  def is_empty(self):\n",
        "    return len(self.stack)==0\n",
        "\n",
        "  def sie(self):\n",
        "    return len(self.stack)"
      ],
      "metadata": {
        "id": "6cVFY7MkuIGa"
      },
      "execution_count": null,
      "outputs": []
    },
    {
      "cell_type": "markdown",
      "source": [
        "### Pro's\n",
        "\n",
        "\n",
        "*   Easy way to implement a Stack\n",
        "*   It has fast operations with both append() and pop() having a O(1) time complexity on average\n",
        "\n",
        "### Cons\n",
        "\n",
        "*   Lists have additional memory overhead as they store references to objects\n",
        "*   Lists need to resize, that is an amortized time complexity since the operation may require the copting of elements to a new list\n",
        "\n",
        "### When to use\n",
        "\n",
        "\n",
        "*   In simple use cases, when one needs a quick, straightforward stack implementation with minimal overhead\n",
        "*   In non-thread safe environments, where there is no need for thread safety and no worry about memory overhead\n",
        "\n",
        "\n",
        "\n",
        "\n",
        "\n"
      ],
      "metadata": {
        "id": "NFchNwM88t-B"
      }
    },
    {
      "cell_type": "markdown",
      "source": [
        "## Using collections.deque"
      ],
      "metadata": {
        "id": "vavH6WK4-EXU"
      }
    },
    {
      "cell_type": "code",
      "source": [
        "from collections import deque\n",
        "\n",
        "class StackUsingDeque:\n",
        "  def __init__(self):\n",
        "    self.stack=deque()\n",
        "\n",
        "  def push(self, item):\n",
        "    self.stack.append(item)\n",
        "\n",
        "  def pop(self):\n",
        "    if not self.is_empty():\n",
        "      return self.stack.pop()\n",
        "    return None\n",
        "\n",
        "  def peek(self):\n",
        "    if not self.is_empty():\n",
        "      return self.stack[-1]\n",
        "    return None\n",
        "\n",
        "  def is_empty(self):\n",
        "    return len(self.stack)==0\n",
        "\n",
        "  def size(self):\n",
        "    return len(self.stack)"
      ],
      "metadata": {
        "id": "i3VwxODD-NeU"
      },
      "execution_count": null,
      "outputs": []
    },
    {
      "cell_type": "markdown",
      "source": [
        "### Pro's\n",
        "\n",
        "\n",
        "*   **collections.deque** is a double endend queue optimized for append and pop operations from both ends, providing O(1) time complexity for both\n",
        "*   A fast and efficient way of stack implementation for both append() and pop() operations. There's np need to resize, unlike with a list\n",
        "\n",
        "### Cons\n",
        "\n",
        "\n",
        "*   It is les intuitive, making it slightly complex to understand than lists\n",
        "*   There are not thread safe, especially without additional synchronization mechanism\n",
        "\n",
        "### When to use\n",
        "\n",
        "\n",
        "*   Used in perfomance critical applications\n",
        "*   When one needs consistent fast perfomance without the risk of occasional slowdowns due to resizing\n",
        "\n",
        "*   Used for memory efficiency, when extra-memory is needed in the usage of the list\n",
        "\n",
        "\n",
        "\n",
        "\n",
        "\n",
        "\n",
        "\n",
        "\n"
      ],
      "metadata": {
        "id": "S7OjNYTPBOkl"
      }
    },
    {
      "cell_type": "markdown",
      "source": [
        "## Using queue.LifeoQueue"
      ],
      "metadata": {
        "id": "4-Ptjgl4C7KJ"
      }
    },
    {
      "cell_type": "code",
      "source": [
        "from collections import deque\n",
        "\n",
        "class StackUsingDeque:\n",
        "  def __init__(self):\n",
        "    self.stack=deque()\n",
        "\n",
        "  def push(self, item):\n",
        "    self.stack.append(item)\n",
        "\n",
        "  def pop(self):\n",
        "    if not self.is_empty():\n",
        "      return self.stack.pop()\n",
        "\n",
        "    return None\n",
        "\n",
        "  def peek(self):\n",
        "    if not self.is_empty():\n",
        "      return self.stack[-1]\n",
        "\n",
        "    return None\n",
        "\n",
        "  def is_empty(self):\n",
        "    return len(self.stack)==0\n",
        "\n",
        "  def size(self):\n",
        "    return len(self.stack)"
      ],
      "metadata": {
        "id": "ReT1nj1ADOT4"
      },
      "execution_count": null,
      "outputs": []
    },
    {
      "cell_type": "markdown",
      "source": [
        "### Pro's\n",
        "\n",
        "*   queue.LifoQueue from the queue module is a thread-safe stack implementation\n",
        "*   Suitable for multi-threaded environments. has built-in synchronization, providing built-in locking mechanism for use in con-current programming\n",
        "\n",
        "### Cons\n",
        "\n",
        "*   Limited in its operation, does not need a peek() method or direct indexing\n",
        "*   Slightly slower, the thread safety introduces some overhead, making operations slightly slower than lists or dequeus\n",
        "\n",
        "### When to use\n",
        "\n",
        "\n",
        "*   Used in muti-threaded operations, when a stack that is safe to use in multi-threaded contexts without additional locking\n",
        "*   Used in concurrency management, when one wants a buitl-in solution for thread synchrnization\n",
        "\n",
        "\n",
        "\n",
        "\n",
        "\n"
      ],
      "metadata": {
        "id": "4CbGGf69EEFv"
      }
    },
    {
      "cell_type": "markdown",
      "source": [
        "## Custom implementation using a linked list"
      ],
      "metadata": {
        "id": "eXDjGqTXFuXa"
      }
    },
    {
      "cell_type": "code",
      "source": [
        "class Node:\n",
        "  def __init__(self, value):\n",
        "    self.value=value\n",
        "    self.next=None\n",
        "\n",
        "class StackUsingLinkedList:\n",
        "  def __init__(self):\n",
        "    self.head=None\n",
        "    self.count=0\n",
        "\n",
        "  def push(self, item):\n",
        "    new_node=Node(item)\n",
        "    new_node.next=self.head\n",
        "    self.head=new_node\n",
        "    self.count+=1\n",
        "\n",
        "  def pop(self):\n",
        "    if not self.is_empty():\n",
        "      removed_node=self.head\n",
        "      self.head=self.head.next\n",
        "      self.count-=1\n",
        "      return removed_node.value\n",
        "    return None\n",
        "\n",
        "  def peek(self):\n",
        "    if not self.is_empty():\n",
        "      return self.head.value\n",
        "    return None\n",
        "\n",
        "  def is_empty(self):\n",
        "    return self.head is None\n",
        "\n",
        "  def size(self):\n",
        "    return self.count"
      ],
      "metadata": {
        "id": "dNMpiU3WFz7k"
      },
      "execution_count": null,
      "outputs": []
    },
    {
      "cell_type": "markdown",
      "source": [
        "### Pro's\n",
        "\n",
        "*   Useful when you want to avoid the overhead associated with resizing dynamic arrays or wnat to manage memory explicitly\n",
        "*   They do not require re-sizing, unlike in arrays and lists.\n",
        "\n",
        "*   There are memory efficient when managing many elements or when stack size changes frequently\n",
        "\n",
        "### Cons\n",
        "*   Memory overhead per elements, each node requires additional memory for the pointer/reference, increasing memory usage compared to arrays or lists\n",
        "*   Linked lists have higher memory usage and have slightly slower access times due to pointer dereferencing\n",
        "\n",
        "### When to use\n",
        "\n",
        "\n",
        "*   On dynamic arrays, when the stack is highly dynamic or unknown in advance\n",
        "*   When you want to avoid resizing costs, to avoid overhead of array resizing lists, custom implementation using a linked list is useful\n",
        "\n",
        "\n",
        "\n",
        "\n",
        "\n"
      ],
      "metadata": {
        "id": "6ZrGNROpIQTE"
      }
    }
  ]
}