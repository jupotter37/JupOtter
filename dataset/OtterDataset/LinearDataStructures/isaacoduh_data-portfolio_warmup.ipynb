{
 "cells": [
  {
   "cell_type": "markdown",
   "metadata": {},
   "source": [
    "# Use Case Questions for Python Basics"
   ]
  },
  {
   "cell_type": "code",
   "execution_count": 2,
   "metadata": {},
   "outputs": [
    {
     "name": "stdout",
     "output_type": "stream",
     "text": [
      "10\n",
      "<class 'decimal.Decimal'>\n"
     ]
    }
   ],
   "source": [
    "# converting an integer into decimals\n",
    "import decimal\n",
    "integer = 10\n",
    "print(decimal.Decimal(integer))\n",
    "print(type(decimal.Decimal(integer)))"
   ]
  },
  {
   "cell_type": "code",
   "execution_count": 3,
   "metadata": {},
   "outputs": [
    {
     "name": "stdout",
     "output_type": "stream",
     "text": [
      "12345\n",
      "<class 'decimal.Decimal'>\n"
     ]
    }
   ],
   "source": [
    "# converting a string of integers into decimals\n",
    "import decimal\n",
    "string = '12345'\n",
    "print(decimal.Decimal(string))\n",
    "print(type(decimal.Decimal(string)))"
   ]
  },
  {
   "cell_type": "code",
   "execution_count": 4,
   "metadata": {},
   "outputs": [
    {
     "name": "stdout",
     "output_type": "stream",
     "text": [
      "gnimmargorP nohtyP\n"
     ]
    }
   ],
   "source": [
    "# reversing a string using an extended slicing technique\n",
    "string = \"Python Programming\"\n",
    "print(string[::-1])"
   ]
  },
  {
   "cell_type": "code",
   "execution_count": 5,
   "metadata": {},
   "outputs": [
    {
     "name": "stdout",
     "output_type": "stream",
     "text": [
      "3\n"
     ]
    }
   ],
   "source": [
    "# counting vowels in a given word\n",
    "vowel = ['a', 'e', 'i', 'o', 'u']\n",
    "word = \"programming\"\n",
    "count = 0\n",
    "for character in word:\n",
    "    if character in vowel:\n",
    "        count += 1\n",
    "print(count)"
   ]
  },
  {
   "cell_type": "code",
   "execution_count": 6,
   "metadata": {},
   "outputs": [
    {
     "name": "stdout",
     "output_type": "stream",
     "text": [
      "8\n"
     ]
    }
   ],
   "source": [
    "# counting consonants in a given word\n",
    "vowel = ['a', 'e', 'i', 'o', 'u']\n",
    "word = \"programming\"\n",
    "count = 0\n",
    "for character in word:\n",
    "    if character not in vowel:\n",
    "        count += 1\n",
    "print(count)"
   ]
  },
  {
   "cell_type": "code",
   "execution_count": 7,
   "metadata": {},
   "outputs": [
    {
     "name": "stdout",
     "output_type": "stream",
     "text": [
      "2\n"
     ]
    }
   ],
   "source": [
    "# counting the number of occurences of a character in a string\n",
    "word = \"programming\"\n",
    "character = 'g'\n",
    "count = 0\n",
    "for i in word:\n",
    "    if i == character:\n",
    "        count += 1\n",
    "print(count)"
   ]
  },
  {
   "cell_type": "code",
   "execution_count": 8,
   "metadata": {},
   "outputs": [
    {
     "name": "stdout",
     "output_type": "stream",
     "text": [
      "0, 1, 1, 2, 3, 5, 8\n"
     ]
    }
   ],
   "source": [
    "# Writing a fibonacci series\n",
    "fib = [0, 1]\n",
    "n = 5\n",
    "for i in range(n):\n",
    "    fib.append(fib[-1] + fib[-2])\n",
    "\n",
    "# converting the list of integers to string\n",
    "print(', '.join(str(e) for e in fib))"
   ]
  },
  {
   "cell_type": "code",
   "execution_count": 9,
   "metadata": {},
   "outputs": [
    {
     "name": "stdout",
     "output_type": "stream",
     "text": [
      "78\n"
     ]
    }
   ],
   "source": [
    "# finding the maximum number in a list\n",
    "numberlist = [12, 3, 55, 23, 6, 78, 33, 4]\n",
    "max = numberlist[0]\n",
    "for num in numberlist:\n",
    "    if max < num:\n",
    "        max = num\n",
    "print(max)"
   ]
  },
  {
   "cell_type": "code",
   "execution_count": 10,
   "metadata": {},
   "outputs": [
    {
     "name": "stdout",
     "output_type": "stream",
     "text": [
      "3\n"
     ]
    }
   ],
   "source": [
    "# finding the minimum number in a list\n",
    "numberlist = [12, 3, 55, 23, 6, 78, 33, 4]\n",
    "min = numberlist[0]\n",
    "for num in numberlist:\n",
    "    if min > num:\n",
    "        min = num\n",
    "print(min)"
   ]
  },
  {
   "cell_type": "code",
   "execution_count": 11,
   "metadata": {},
   "outputs": [
    {
     "name": "stdout",
     "output_type": "stream",
     "text": [
      "6\n"
     ]
    }
   ],
   "source": [
    "# finding the middle element in a list\n",
    "numberlist = [12, 3, 55, 23, 6, 78, 33, 4]\n",
    "midElement = int((len(numberlist)/2))\n",
    "print(numberlist[midElement])"
   ]
  },
  {
   "cell_type": "code",
   "execution_count": 12,
   "metadata": {},
   "outputs": [
    {
     "name": "stdout",
     "output_type": "stream",
     "text": [
      "PYTHON\n"
     ]
    }
   ],
   "source": [
    "# converting a list into a string\n",
    "list = [\"P\", \"Y\", \"T\", \"H\", \"O\", \"N\"]\n",
    "string = \"\".join(list)\n",
    "print(string)"
   ]
  },
  {
   "cell_type": "code",
   "execution_count": 13,
   "metadata": {},
   "outputs": [
    {
     "name": "stdout",
     "output_type": "stream",
     "text": [
      "[4, 9, 13]\n"
     ]
    }
   ],
   "source": [
    "# adding two list elements together\n",
    "list1 = [1,2,4]\n",
    "list2 = [3,7,9]\n",
    "result = []\n",
    "for i in range(0, len(list1)):\n",
    "    result.append(list1[i] + list2[i])\n",
    "print(result)"
   ]
  },
  {
   "cell_type": "code",
   "execution_count": 14,
   "metadata": {},
   "outputs": [
    {
     "name": "stdout",
     "output_type": "stream",
     "text": [
      "True\n"
     ]
    }
   ],
   "source": [
    "# comparing two strings for anagrams\n",
    "str1 = \"listen\"\n",
    "str2 = \"silent\"\n",
    "\n",
    "str1 = str1.replace(\" \", \"\").upper()\n",
    "str2 = str2.replace(\" \", \"\").upper()\n",
    "\n",
    "if sorted(str1) == sorted(str2):\n",
    "    print(\"True\")\n",
    "else:\n",
    "    print(\"False\")"
   ]
  },
  {
   "cell_type": "code",
   "execution_count": 15,
   "metadata": {},
   "outputs": [
    {
     "name": "stdout",
     "output_type": "stream",
     "text": [
      "True\n"
     ]
    }
   ],
   "source": [
    "# checking for palindrome using extended slicing technique\n",
    "str1 = \"kayak\".lower()\n",
    "\n",
    "if str1 == str1[::-1]:\n",
    "    print(\"True\")\n",
    "else:\n",
    "    print(\"False\")"
   ]
  },
  {
   "cell_type": "code",
   "execution_count": 16,
   "metadata": {},
   "outputs": [
    {
     "name": "stdout",
     "output_type": "stream",
     "text": [
      "5\n"
     ]
    }
   ],
   "source": [
    "# counting the white spaces in a string\n",
    "string = \"P r ogram mi n g\"\n",
    "print(string.count(\" \"))"
   ]
  },
  {
   "cell_type": "code",
   "execution_count": 18,
   "metadata": {},
   "outputs": [
    {
     "name": "stdout",
     "output_type": "stream",
     "text": [
      "1\n",
      "8\n",
      "2\n"
     ]
    }
   ],
   "source": [
    "# counting digits, letters, and spaces in a string\n",
    "\n",
    "# import regular experessions\n",
    "import re\n",
    "name = \"Python is 1\"\n",
    "digitCount = re.sub(\"[^0-9]\", \"\", name)\n",
    "letterCount = re.sub(\"[^a-zA-Z]\", \"\", name)\n",
    "spaceCount = re.findall(\"[ \\s]\", name)\n",
    "\n",
    "print(len(digitCount))\n",
    "print(len(letterCount))\n",
    "print(len(spaceCount))"
   ]
  },
  {
   "cell_type": "code",
   "execution_count": 19,
   "metadata": {},
   "outputs": [
    {
     "name": "stdout",
     "output_type": "stream",
     "text": [
      "3\n"
     ]
    }
   ],
   "source": [
    "# finding special characters in a string\n",
    "def count_sp_char(string):\n",
    "    sp_char = \"1@#$%^&*()<>?/\\[]{};:~`\"\n",
    "    count = 0\n",
    "    for i in string:\n",
    "        if i in sp_char:\n",
    "            count += 1\n",
    "    return count\n",
    "\n",
    "text = \"Hello! How are you? #specialchars! 123\"\n",
    "result = count_sp_char(text)\n",
    "print(result)"
   ]
  },
  {
   "cell_type": "code",
   "execution_count": 20,
   "metadata": {},
   "outputs": [
    {
     "name": "stdout",
     "output_type": "stream",
     "text": [
      "CODE\n"
     ]
    }
   ],
   "source": [
    "# removing all white spaces in a string\n",
    "import re\n",
    "string = \"C O D E\"\n",
    "spaces = re.compile(r'\\s+')\n",
    "result = re.sub(spaces, \"\", string)\n",
    "print(result)"
   ]
  },
  {
   "cell_type": "code",
   "execution_count": 21,
   "metadata": {},
   "outputs": [
    {
     "name": "stdout",
     "output_type": "stream",
     "text": [
      "     *\n",
      "    ***\n",
      "   *****\n",
      "  *******\n",
      " *********\n"
     ]
    }
   ],
   "source": [
    "# Building a pyramid in python\n",
    "def pyramid(n):\n",
    "    for i in range(n):\n",
    "        for j in range(i, n):\n",
    "            print(\" \", end=\"\")\n",
    "        for j in range(i+1):\n",
    "            print(\"*\", end=\"\")\n",
    "        for j in range(i):\n",
    "            print(\"*\", end=\"\")\n",
    "        print(\"\")\n",
    "\n",
    "pyramid(5)"
   ]
  },
  {
   "cell_type": "code",
   "execution_count": 22,
   "metadata": {},
   "outputs": [
    {
     "name": "stdout",
     "output_type": "stream",
     "text": [
      "['is', 'Easy', 'Python']\n"
     ]
    }
   ],
   "source": [
    "# randomizing the items in a list in python\n",
    "from random import shuffle\n",
    "lst = ['Python', 'is', 'Easy']\n",
    "shuffle(lst)\n",
    "print(lst)"
   ]
  },
  {
   "cell_type": "code",
   "execution_count": 1,
   "metadata": {},
   "outputs": [
    {
     "name": "stdout",
     "output_type": "stream",
     "text": [
      "Average is:  37.875\n",
      "Average is:  27.5\n"
     ]
    }
   ],
   "source": [
    "# implementing variable length arguments in python\n",
    "def average(*t):\n",
    "    avg = sum(t)/len(t)\n",
    "    return avg\n",
    "\n",
    "result1 = average(32, 4, 65, 22, 87, 34, 2, 57)\n",
    "result2 = average(5, 10, 15, 20, 25, 30, 35, 40, 45, 50)\n",
    "\n",
    "print(\"Average is: \", result1)\n",
    "print(\"Average is: \", result2)"
   ]
  },
  {
   "cell_type": "code",
   "execution_count": 2,
   "metadata": {},
   "outputs": [
    {
     "name": "stdout",
     "output_type": "stream",
     "text": [
      "Average is: 40.83\n",
      "Average 2 is : 16.80\n"
     ]
    }
   ],
   "source": [
    "def average_with_kwargs(**kwargs):\n",
    "    values = list(kwargs.values())\n",
    "    avg = sum(values) / len(values)\n",
    "    return avg\n",
    "\n",
    "\n",
    "result1 = average_with_kwargs(num1=32, num2=5, num3=65, num4=22, num5=87, num6=34)\n",
    "result2 = average_with_kwargs(value1=5, value2=10, value3=15, value4=20, value5=34)\n",
    "print(f\"Average is: {result1:.2f}\")\n",
    "print(f\"Average 2 is : {result2:.2f}\")"
   ]
  },
  {
   "cell_type": "code",
   "execution_count": 3,
   "metadata": {},
   "outputs": [
    {
     "name": "stdout",
     "output_type": "stream",
     "text": [
      "[2, 4, 6, 8, 10, 12, 14, 16, 18]\n"
     ]
    }
   ],
   "source": [
    "# List Comprehension:\n",
    "# is a way to create lists in python. it provides a more compact syntax for generating lists compared to using traditional loops\n",
    "list = [2*e for e in range(1, 10)]\n",
    "print(list)"
   ]
  },
  {
   "cell_type": "markdown",
   "metadata": {},
   "source": [
    "## Decorators\n",
    "Decorators are used to modify the behaviour of functions or methods without changing their code. A decorator function takes another function as their argument."
   ]
  },
  {
   "cell_type": "code",
   "execution_count": 5,
   "metadata": {},
   "outputs": [
    {
     "name": "stdout",
     "output_type": "stream",
     "text": [
      "900\n"
     ]
    }
   ],
   "source": [
    "# class Decorator\n",
    "class Calculator:\n",
    "    def __init__(self,func):\n",
    "        self.function = func\n",
    "    def __call__(self, *args, **kwds):\n",
    "        result = self.function(*args, **kwds)\n",
    "        return result**2\n",
    "\n",
    "@Calculator\n",
    "def add(a, b):\n",
    "    return a + b\n",
    "\n",
    "print(add(10,20))"
   ]
  },
  {
   "cell_type": "code",
   "execution_count": 7,
   "metadata": {},
   "outputs": [
    {
     "name": "stdout",
     "output_type": "stream",
     "text": [
      "PASS\n",
      "Distinction\n",
      "PASS\n",
      "Distinction\n",
      "PASS\n",
      "PASS\n",
      "PASS\n",
      "Distinction\n",
      "PASS\n",
      "Results:  ['PASS', 'PASS', 'PASS', 'PASS', 'PASS', 'PASS']\n"
     ]
    }
   ],
   "source": [
    "def decor_result(result_function):\n",
    "    def distinction(marks):\n",
    "        results = [] # list to store results for each element\n",
    "        for m in marks:\n",
    "            if m > 75:\n",
    "                print(\"Distinction\")\n",
    "            results.append(result_function([m]))\n",
    "        return results;\n",
    "    return distinction\n",
    "\n",
    "@decor_result\n",
    "def result(marks):\n",
    "    for m in marks:\n",
    "        if m >= 33:\n",
    "            pass\n",
    "        else:\n",
    "            print(\"FAIL\")\n",
    "            return \"FAIL\" # return FAIL if any element fails\n",
    "    else:\n",
    "        print(\"PASS\")\n",
    "        return \"PASS\" # return PASS if all elements pass\n",
    "\n",
    "# get the results for each element\n",
    "results = result([45, 78, 80, 33, 67, 90])\n",
    "print(\"Results: \", results)"
   ]
  },
  {
   "cell_type": "code",
   "execution_count": null,
   "metadata": {},
   "outputs": [],
   "source": [
    "# What are iterators in Python?\n",
    "# An iterator is any python object that can be looped over or iterated. it can be a sequence (e.g., list, tuple, string), a collection (e.g., set, dictionary), or any object that supports iteration.\n",
    "# An iterator used to access the objects of the iterables one by one from 1st element to last element. \n",
    "# An iterator is an object that represents a stream of data. IT provides two essential methods: iter() and next()\n",
    "\n",
    "l1 = [23, 65, 22, 76, 34, 98, 43]\n",
    "it = iter(11)\n",
    "while True:\n",
    "    try:\n",
    "        print(next(it))\n",
    "    except StopIteration:\n",
    "        break"
   ]
  },
  {
   "cell_type": "code",
   "execution_count": 8,
   "metadata": {},
   "outputs": [],
   "source": [
    "# What are generators in Python? Create a generator for first n natural even numbers.\n",
    "# Generators in python are a type of iterable, like list or tuples, but they allow you iterate over their elements lazily, one at a time, on-the-fly. This means generators\n",
    "# generate values as you need them, rather than storing all values in memory at once. This can be highly memory-efficient, especially when dealing with large datasets or when generating an \n",
    "# infinite sequence."
   ]
  },
  {
   "cell_type": "code",
   "execution_count": 9,
   "metadata": {},
   "outputs": [
    {
     "name": "stdout",
     "output_type": "stream",
     "text": [
      "[2, 4, 6, 8, 10, 12, 14, 16, 18, 20]\n"
     ]
    }
   ],
   "source": [
    "def evenNum(n):\n",
    "    i = 1\n",
    "    while n:\n",
    "        yield 2 * i\n",
    "        i += 1\n",
    "        n -= 1\n",
    "it = evenNum(10)\n",
    "even_list = []\n",
    "while True:\n",
    "    try:\n",
    "        even_list.append(next(it))\n",
    "    except StopIteration:\n",
    "        break\n",
    "\n",
    "print(even_list)"
   ]
  },
  {
   "cell_type": "code",
   "execution_count": 10,
   "metadata": {},
   "outputs": [],
   "source": [
    "# Is function overloading allowed in python?\n",
    "# In python, function overloading  as seen in languages like C++ or Java is not directly supported. \n",
    "# However python provides several ways to achieve similar behavior through default arguments, variable-length arguments, and more advanced techniques using functools.singledispatch"
   ]
  },
  {
   "cell_type": "code",
   "execution_count": 12,
   "metadata": {},
   "outputs": [
    {
     "name": "stdout",
     "output_type": "stream",
     "text": [
      "Hello, Rabbi!\n",
      "Hi, Bobby!!\n"
     ]
    }
   ],
   "source": [
    "def greet(name, greeting=\"Hello\"):\n",
    "    return f\"{greeting}, {name}!\"\n",
    "print(greet(\"Rabbi\"))\n",
    "print(greet(\"Bobby!\", \"Hi\"))"
   ]
  },
  {
   "cell_type": "code",
   "execution_count": 13,
   "metadata": {},
   "outputs": [
    {
     "name": "stdout",
     "output_type": "stream",
     "text": [
      "4\n",
      "15\n"
     ]
    }
   ],
   "source": [
    "# using variable length arguments\n",
    "# you can use *args and **kwargs to accept a variable number of arguments.\n",
    "def add(*t):\n",
    "    return sum(t)\n",
    "print(add(1,3))\n",
    "print(add(1,3,5,6))"
   ]
  },
  {
   "cell_type": "code",
   "execution_count": 14,
   "metadata": {},
   "outputs": [],
   "source": [
    "# using functools.singledispatch\n",
    "# the functools.singledispatch decorator allows you to create a single-dispatch generic function, which can have different implementations based on the typeof the first argumentn.\n"
   ]
  },
  {
   "cell_type": "code",
   "execution_count": 15,
   "metadata": {},
   "outputs": [
    {
     "name": "stdout",
     "output_type": "stream",
     "text": [
      "Processing an integer: 10\n",
      "Processing a string: hello stink\n"
     ]
    }
   ],
   "source": [
    "from functools import singledispatch\n",
    "@singledispatch\n",
    "def process(value):\n",
    "    raise NotImplementedError(\"Unsopported type!\")\n",
    "\n",
    "@process.register(int)\n",
    "def _(value):\n",
    "    return f\"Processing an integer: {value}\"\n",
    "\n",
    "@process.register(str)\n",
    "def _(value):\n",
    "    return f\"Processing a string: {value}\"\n",
    "\n",
    "\n",
    "print(process(10))\n",
    "print(process(\"hello stink\"))"
   ]
  },
  {
   "cell_type": "code",
   "execution_count": 16,
   "metadata": {},
   "outputs": [
    {
     "name": "stdout",
     "output_type": "stream",
     "text": [
      "6\n",
      "120\n"
     ]
    }
   ],
   "source": [
    "# Using class methods\n",
    "# you can also achieve overloading behavior using class methods.\n",
    "class Math:\n",
    "    @staticmethod\n",
    "    def multiply(a,b):\n",
    "        return a * b\n",
    "    @staticmethod\n",
    "    def multiply(a, b, c):\n",
    "        return a * b * c\n",
    "\n",
    "class Math:\n",
    "    @staticmethod\n",
    "    def multiply(*t):\n",
    "        result = 1\n",
    "        for num in t:\n",
    "            result *= num\n",
    "        return result\n",
    "    \n",
    "print(Math.multiply(2, 3))\n",
    "print(Math.multiply(2, 3,4,5))"
   ]
  },
  {
   "cell_type": "code",
   "execution_count": null,
   "metadata": {},
   "outputs": [],
   "source": []
  },
  {
   "cell_type": "code",
   "execution_count": null,
   "metadata": {},
   "outputs": [],
   "source": []
  },
  {
   "cell_type": "code",
   "execution_count": null,
   "metadata": {},
   "outputs": [],
   "source": []
  },
  {
   "cell_type": "code",
   "execution_count": null,
   "metadata": {},
   "outputs": [],
   "source": []
  },
  {
   "cell_type": "code",
   "execution_count": null,
   "metadata": {},
   "outputs": [],
   "source": []
  },
  {
   "cell_type": "code",
   "execution_count": null,
   "metadata": {},
   "outputs": [],
   "source": []
  },
  {
   "cell_type": "code",
   "execution_count": null,
   "metadata": {},
   "outputs": [],
   "source": []
  },
  {
   "cell_type": "code",
   "execution_count": null,
   "metadata": {},
   "outputs": [],
   "source": []
  },
  {
   "cell_type": "code",
   "execution_count": null,
   "metadata": {},
   "outputs": [],
   "source": []
  },
  {
   "cell_type": "code",
   "execution_count": null,
   "metadata": {},
   "outputs": [],
   "source": []
  },
  {
   "cell_type": "code",
   "execution_count": null,
   "metadata": {},
   "outputs": [],
   "source": []
  },
  {
   "cell_type": "code",
   "execution_count": null,
   "metadata": {},
   "outputs": [],
   "source": []
  },
  {
   "cell_type": "markdown",
   "metadata": {},
   "source": [
    "Question: Given a list of numbers, write a Python function to find the second highest number.\n",
    "\n",
    "Answer: We can first convert the list into a set to remove duplicates. Then, we'll convert it back to a list and sort it. We can retrieve the second last element to get the second highest number."
   ]
  },
  {
   "cell_type": "code",
   "execution_count": 14,
   "metadata": {},
   "outputs": [
    {
     "name": "stdout",
     "output_type": "stream",
     "text": [
      "5\n"
     ]
    }
   ],
   "source": [
    "def second_highest(numslist):\n",
    "    # convert to set to remove duplicates\n",
    "    newlist = list(set(numslist))\n",
    "    newlist.sort()\n",
    "    return newlist[-2]\n",
    "\n",
    "numbers = [1, 3, 2, 4, 4, 5, 6, 6]\n",
    "print(second_highest(numbers))"
   ]
  },
  {
   "cell_type": "markdown",
   "metadata": {},
   "source": [
    "Reverse a String\n",
    "\n",
    "Question: Reverse a given string.\n",
    "Answer: Let's break it down:\n",
    "\n",
    "- The general slice syntax is [start:stop:step]\n",
    "- When you leave start and stop empty (:), it means \"include everything\"\n",
    "- The -1 step means \"go backwards one position at a time\""
   ]
  },
  {
   "cell_type": "code",
   "execution_count": 20,
   "metadata": {},
   "outputs": [
    {
     "name": "stdout",
     "output_type": "stream",
     "text": [
      "olleh\n"
     ]
    }
   ],
   "source": [
    "def reverse_string(strs):\n",
    "    rStr = strs[::-1]\n",
    "    return rStr\n",
    "\n",
    "print(reverse_string('hello'))"
   ]
  },
  {
   "cell_type": "markdown",
   "metadata": {},
   "source": [
    "Check Palindrome\n"
   ]
  },
  {
   "cell_type": "code",
   "execution_count": 1,
   "metadata": {},
   "outputs": [
    {
     "name": "stdout",
     "output_type": "stream",
     "text": [
      "True\n"
     ]
    }
   ],
   "source": [
    "def is_palindrome(s):\n",
    "    return s == s[::-1]\n",
    "\n",
    "print(is_palindrome('racecar'))"
   ]
  },
  {
   "cell_type": "markdown",
   "metadata": {},
   "source": [
    "Find Factorial\n",
    "- Question: Calculate the factorial of a number"
   ]
  },
  {
   "cell_type": "code",
   "execution_count": null,
   "metadata": {},
   "outputs": [
    {
     "name": "stdout",
     "output_type": "stream",
     "text": [
      "120\n"
     ]
    }
   ],
   "source": [
    "def factorial(n):\n",
    "    if n <= 1:\n",
    "        return 1\n",
    "    return n * factorial(n - 1)\n",
    "\n",
    "print(factorial(5))"
   ]
  },
  {
   "cell_type": "markdown",
   "metadata": {},
   "source": [
    "Fibonacci Series\n",
    "- Generate the nth Fibonacci ()"
   ]
  },
  {
   "cell_type": "code",
   "execution_count": 8,
   "metadata": {},
   "outputs": [
    {
     "data": {
      "text/plain": [
       "3"
      ]
     },
     "execution_count": 8,
     "metadata": {},
     "output_type": "execute_result"
    }
   ],
   "source": [
    "def fibonacci(n):\n",
    "    if n <= 1:\n",
    "        return n\n",
    "    return fibonacci(n - 1) + fibonacci(n-2)\n",
    "\n",
    "fibonacci(4)"
   ]
  },
  {
   "cell_type": "markdown",
   "metadata": {},
   "source": [
    "Linked List Cycle Detection\n",
    "- detect if there is a cycle in the linked list"
   ]
  },
  {
   "cell_type": "code",
   "execution_count": 11,
   "metadata": {},
   "outputs": [
    {
     "name": "stdout",
     "output_type": "stream",
     "text": [
      "False\n"
     ]
    }
   ],
   "source": [
    "class ListNode:\n",
    "    def __init__(self, value=0, next=None):\n",
    "        self.value = value\n",
    "        self.next = next\n",
    "    \n",
    "def has_cycle(node):\n",
    "    slow, fast = node, node\n",
    "    while fast and fast.next:\n",
    "        slow = slow.next\n",
    "        fast = fast.next.next\n",
    "        if slow == fast:\n",
    "            return True\n",
    "        return False\n",
    "    \n",
    "def create_linked_list(values):\n",
    "    head = None\n",
    "    tail = None\n",
    "    for value in values:\n",
    "        new_node = ListNode(value)\n",
    "        if head is None:\n",
    "            head = tail = new_node\n",
    "        else:\n",
    "            tail.next = new_node\n",
    "            tail = new_node\n",
    "    return head\n",
    "\n",
    "base_list = [1,2,4,3]\n",
    "linked_list = create_linked_list(base_list)\n",
    "\n",
    "# check for a cycle\n",
    "print(has_cycle(linked_list))"
   ]
  },
  {
   "cell_type": "markdown",
   "metadata": {},
   "source": [
    "Merge Two Sorted Linked Lists"
   ]
  },
  {
   "cell_type": "code",
   "execution_count": 14,
   "metadata": {},
   "outputs": [
    {
     "name": "stdout",
     "output_type": "stream",
     "text": [
      "1 ->2 ->3 ->4 ->5 ->6\n"
     ]
    }
   ],
   "source": [
    "def print_linked_lis(head):\n",
    "    current = head\n",
    "    result = []\n",
    "    while current:\n",
    "        result.append(current.value)\n",
    "        current = current.next\n",
    "    print(\" ->\".join(map(str, result)))\n",
    "\n",
    "\n",
    "def merge_sorted_list(l1, l2):\n",
    "    dummy = ListNode(0)\n",
    "    current = dummy\n",
    "    while l1 and l2:\n",
    "        if l1.value < l2.value:\n",
    "            current.next, l1 = l1, l1.next\n",
    "        else:\n",
    "            current.next, l2 = l2, l2.next\n",
    "        current = current.next\n",
    "    current.next = l1 or l2\n",
    "    return dummy.next\n",
    "\n",
    "base_list = [1,2,3]\n",
    "base_list_2 = [4,5,6]\n",
    "linked_list = create_linked_list(base_list)\n",
    "linked_list_2 = create_linked_list(base_list_2)\n",
    "\n",
    "merged_list = merge_sorted_list(linked_list, linked_list_2)\n",
    "print_linked_lis(merged_list)"
   ]
  },
  {
   "cell_type": "markdown",
   "metadata": {},
   "source": [
    "Find the middle of a linked list"
   ]
  },
  {
   "cell_type": "code",
   "execution_count": null,
   "metadata": {},
   "outputs": [
    {
     "name": "stdout",
     "output_type": "stream",
     "text": [
      "<__main__.ListNode object at 0x10bbadb70>\n"
     ]
    }
   ],
   "source": [
    "def find_middle(node):\n",
    "    slow, fast = node, node\n",
    "    while fast and fast.next:\n",
    "        slow = slow.next\n",
    "        fast = fast.next.next\n",
    "    return slow"
   ]
  },
  {
   "cell_type": "markdown",
   "metadata": {},
   "source": [
    "Find max subarray using kadane's algorithm\n"
   ]
  },
  {
   "cell_type": "code",
   "execution_count": 19,
   "metadata": {},
   "outputs": [
    {
     "name": "stdout",
     "output_type": "stream",
     "text": [
      "41\n"
     ]
    }
   ],
   "source": [
    "def max_subarray(nums):\n",
    "    max_current = max_global = nums[0]\n",
    "    for i in range(1, len(nums)):\n",
    "        max_current = max(nums[i], max_current + nums[i])\n",
    "        max_global = max(max_global, max_current)\n",
    "    return max_global\n",
    "\n",
    "print(max_subarray([1,2,11,1,5,6,2,1,3,9]))"
   ]
  },
  {
   "cell_type": "markdown",
   "metadata": {},
   "source": [
    "Check if a Binary Tree is Balanced"
   ]
  },
  {
   "cell_type": "code",
   "execution_count": 25,
   "metadata": {},
   "outputs": [
    {
     "name": "stdout",
     "output_type": "stream",
     "text": [
      "Balanced Tree:\n",
      "Is Balanced? True\n",
      "In-Order-Traversal: 4 2 5 1 3 \n",
      "\n",
      "Unbalanced Tree:\n",
      "Is balanced? False\n",
      "In-Order Traversal:3 2 1 \n",
      "\n"
     ]
    }
   ],
   "source": [
    "class TreeNode:\n",
    "    def __init__(self, value=0, left=None, right=None):\n",
    "        self.value = value\n",
    "        self.left =  left\n",
    "        self.right = right\n",
    "    \n",
    "def is_balanced(root):\n",
    "    def check_balance(node):\n",
    "        if not node:\n",
    "            return 0, True\n",
    "        left_height, left_balanced = check_balance(node.left)\n",
    "        right_height, right_balanced = check_balance(node.right)\n",
    "        return max(left_height, right_height) + 1, left_balanced and right_balanced and abs(left_height - right_height) <= 1\n",
    "    return check_balance(root)[1]\n",
    "\n",
    "\n",
    "def build_tree(values):\n",
    "    if not values:\n",
    "        return None\n",
    "    nodes = [TreeNode(value) if value is not None else None for value in values]\n",
    "    for i in range(len(nodes)):\n",
    "        if nodes[i]:\n",
    "            left_index = 2 * i + 1\n",
    "            right_index = 2 * i + 2\n",
    "            if left_index < len(nodes):\n",
    "                nodes[i].left = nodes[left_index]\n",
    "            if right_index < len(nodes):\n",
    "                nodes[i].right = nodes[right_index]\n",
    "    return nodes[0]\n",
    "\n",
    "def print_in_order(root):\n",
    "    if root:\n",
    "        print_in_order(root.left)\n",
    "        print(root.value, end=\" \")\n",
    "        print_in_order(root.right)\n",
    "\n",
    "\n",
    "balanced_tree = build_tree([1,2,3,4,5, None, None])\n",
    "print(\"Balanced Tree:\")\n",
    "print(\"Is Balanced?\", is_balanced(balanced_tree))\n",
    "print(\"In-Order-Traversal:\", end=\" \")\n",
    "print_in_order(balanced_tree)\n",
    "print(\"\\n\")\n",
    "\n",
    "#unbalanded tree\n",
    "unbalanced_tree = build_tree([1,2, None, 3, None, None, None])\n",
    "print(\"Unbalanced Tree:\")\n",
    "print(\"Is balanced?\", is_balanced(unbalanced_tree))\n",
    "print(\"In-Order Traversal:\", end = \"\")\n",
    "print_in_order(unbalanced_tree)\n",
    "print(\"\\n\")"
   ]
  },
  {
   "cell_type": "markdown",
   "metadata": {},
   "source": [
    "Breadth-First Search in Graph\n",
    "- graph is represented as an adjacency list where each node is a key, and its neighbors are in a set\n",
    "    - example: 'A': {'B', 'C'} means node A is connected to nodes B and C.\n",
    "- how BFS works:\n",
    "    - start with the queue initialized with the start node\n",
    "    - pop nodes from the queue, mark them as visited, add their unvisited neighbors to the queue\n",
    "    - repeat until queue is empty"
   ]
  },
  {
   "cell_type": "code",
   "execution_count": 28,
   "metadata": {},
   "outputs": [
    {
     "name": "stdout",
     "output_type": "stream",
     "text": [
      "Graph:  {'A': {'C', 'B'}, 'B': {'E', 'A', 'D'}, 'C': {'F', 'A'}, 'D': {'B'}, 'E': {'F', 'B'}, 'F': {'C', 'E'}}\n",
      "BFS starting from node 'A': {'E', 'F', 'D', 'B', 'C', 'A'}\n"
     ]
    }
   ],
   "source": [
    "from collections import deque\n",
    "\n",
    "def bfs(graph, start):\n",
    "    visited = set()\n",
    "    queue = deque([start])\n",
    "    while queue:\n",
    "        vertex = queue.popleft()\n",
    "        if vertex not in visited:\n",
    "            visited.add(vertex)\n",
    "            queue.extend(graph[vertex] - visited)\n",
    "    return visited\n",
    "\n",
    "# graph example (adjacency list)\n",
    "graph = {\n",
    "    'A': {'B', 'C'},\n",
    "    'B': {'A', 'D', 'E'},\n",
    "    'C' : {'A', 'F'},\n",
    "    'D': {'B'},\n",
    "    'E' : {'B', 'F'},\n",
    "    'F' : {'C', 'E'}\n",
    "}\n",
    "\n",
    "print(\"Graph: \", graph)\n",
    "start_node = \"A\"\n",
    "print(f\"BFS starting from node '{start_node}':\", bfs(graph, start_node))\n"
   ]
  },
  {
   "cell_type": "markdown",
   "metadata": {},
   "source": [
    "Depth-First Search (DFS) in Graph\n",
    "- Graph Representation:\n",
    "    - The graph is represented as an adjacency list where each node points to a set of its neighbors\n",
    "    - Example 'A': {'B', 'C'} means node A is connected to nodes B and C\n",
    "- How DFS Works\n",
    "    - Recursive Algorithm:\n",
    "        - visit the starting node  and mark it as visited\n",
    "        - recursively visit all unvisited neighbors\n",
    "    - key difference from BFS:\n",
    "        - dfs dives deep into one branch of the graph before backtracking to explore others\n",
    "        "
   ]
  },
  {
   "cell_type": "code",
   "execution_count": 32,
   "metadata": {},
   "outputs": [
    {
     "name": "stdout",
     "output_type": "stream",
     "text": [
      "Graph:  {'A': {'C', 'B'}, 'B': {'E', 'A', 'D'}, 'C': {'F', 'A'}, 'D': {'B'}, 'E': {'F', 'B'}, 'F': {'C', 'E'}}\n",
      "DFS starting from node 'A': ['A', 'C', 'F', 'E', 'B', 'D']\n"
     ]
    }
   ],
   "source": [
    "def dfs(graph, start, visited=None):\n",
    "    if visited is None:\n",
    "        visited = []\n",
    "    if start not in visited:\n",
    "        visited.append(start)\n",
    "        for vertex in graph[start]:\n",
    "            dfs(graph, vertex, visited)\n",
    "    return visited\n",
    "\n",
    "graph = {\n",
    "    'A': {'B', 'C'},\n",
    "    'B': {'A', 'D', 'E'},\n",
    "    'C': {'A', 'F'},\n",
    "    'D': {'B'},\n",
    "    'E': {'B', 'F'},\n",
    "    'F': {'C', 'E'}\n",
    "}\n",
    "\n",
    "print(\"Graph: \", graph)\n",
    "start_node = \"A\"\n",
    "print(f\"DFS starting from node '{start_node}':\", dfs(graph, 'A'))"
   ]
  },
  {
   "cell_type": "markdown",
   "metadata": {},
   "source": [
    "Implement a Stack"
   ]
  },
  {
   "cell_type": "code",
   "execution_count": 1,
   "metadata": {},
   "outputs": [],
   "source": [
    "class StackNode:\n",
    "    def __init__(self, value=0, next=None):\n",
    "        self.value = value\n",
    "        self.next = next\n",
    "    \n",
    "class Stack:\n",
    "    def __init__(self):\n",
    "        self.top = None\n",
    "    \n",
    "    def push(self, value):\n",
    "        self.top = StackNode(value, self.top)\n",
    "    \n",
    "    def pop(self, value):\n",
    "        # check if not top element\n",
    "        if not self.top:\n",
    "            return None\n",
    "        value = self.top.value\n",
    "        self.top = self.top.next\n",
    "        return value\n",
    "    def peek(self):\n",
    "        return None if not self.top else self.top.value\n",
    "    \n",
    "    def is_empty(self):\n",
    "        return self.top is None"
   ]
  },
  {
   "cell_type": "markdown",
   "metadata": {},
   "source": [
    "Implement a Queue"
   ]
  },
  {
   "cell_type": "code",
   "execution_count": 2,
   "metadata": {},
   "outputs": [],
   "source": [
    "class Queue:\n",
    "    def __init__(self):\n",
    "        self.stack1 = []\n",
    "        self.stack2 = []\n",
    "    \n",
    "    def enqueue(self, value):\n",
    "        self.stack1.append(value)\n",
    "    \n",
    "    def dequeue(self):\n",
    "        if not self.stack2:\n",
    "            while self.stack1:\n",
    "                self.stack2.append(self.stack1.pop())\n",
    "        return self.stack2.pop() if self.stack2 else None"
   ]
  },
  {
   "cell_type": "markdown",
   "metadata": {},
   "source": [
    "Implement a Priority Queue\n",
    "- implement a priority queue using a heap."
   ]
  },
  {
   "cell_type": "code",
   "execution_count": 3,
   "metadata": {},
   "outputs": [],
   "source": [
    "import heapq\n",
    "\n",
    "class PriorityQueue:\n",
    "    def __init__(self):\n",
    "        self.queue = []\n",
    "    \n",
    "    def enqueue(self, value, priority=0):\n",
    "        heapq.heappush(self.queue, (priority, value))\n",
    "    \n",
    "    def dequeue(self):\n",
    "        return heapq.heappop(self.queue)[1] if self.queue else None"
   ]
  },
  {
   "cell_type": "markdown",
   "metadata": {},
   "source": [
    "Implement a hashmap"
   ]
  },
  {
   "cell_type": "code",
   "execution_count": 4,
   "metadata": {},
   "outputs": [],
   "source": [
    "class Hashmap:\n",
    "    def __init__(self):\n",
    "        self.size = 100\n",
    "        self.map = [None] * self.size\n",
    "    \n",
    "    def _hash(self, key):\n",
    "        return hash(key) % self.size\n",
    "    \n",
    "    def put(self, key, value):\n",
    "        key_hash = self._hash(key)\n",
    "        self.map[key_hash] = value\n",
    "    \n",
    "    def get(self, key):\n",
    "        key_hash = self._hash(key)\n",
    "        return self.map[key_hash]\n",
    "\n",
    "    def remove(self, key):\n",
    "        key_hash = self._hash(key)\n",
    "        self.map[key_hash] = None"
   ]
  },
  {
   "cell_type": "markdown",
   "metadata": {},
   "source": [
    "Binary Search\n",
    "- Implement a binary search for a sorted list"
   ]
  },
  {
   "cell_type": "code",
   "execution_count": 5,
   "metadata": {},
   "outputs": [],
   "source": [
    "def binary_search(arr, x):\n",
    "    l,r = 0, len(arr -  1)\n",
    "    while l <= r:\n",
    "        mid = (l + r) // 2\n",
    "        if arr[mid] == x:\n",
    "            return mid\n",
    "        elif arr[mid] < x:\n",
    "            l = mid + 1\n",
    "        else:\n",
    "            r = mid - 1\n",
    "    return -1"
   ]
  },
  {
   "cell_type": "markdown",
   "metadata": {},
   "source": [
    "Implement Trie (Prefix Tree)\n",
    "- implement a trie for word search, insert and prefix search\n",
    "\n",
    "Problem Statement\n",
    "The trie is a tree like data structure for efficient information retrieval. It supports the following operations:\n",
    "- insert - add a word to the trie\n",
    "- search - check if a complete word exists in the Trie\n",
    "- starts with - check if any word in the trie starts with a given prefix\n",
    "\n",
    "example words:\n",
    "- insert the words: cat, car, cart\n",
    "- search for the words: cart, cart, dog\n",
    "- check prefixes: ca, car, do\n",
    "\n",
    "Execution flow:\n",
    "1 insert the word 'cat'\n",
    "    - start at the root node\n",
    "    - for each character in cat:\n",
    "        - c: Not in the root's children. add a new trieNode for c.\n",
    "        - a: Not in the c's children. Add a new trieNode for a.\n",
    "        - t: Not in a's children. Add a new TrieNode for t\n",
    "    - mark the node for t as is_end_of_word = True\n",
    "        - post execution [root]\n",
    "                                [c]\n",
    "                                    [a]\n",
    "                                        [t] (end of word)\n",
    "2 insert the word 'car'\n",
    "    - start at the root node\n",
    "    - for each character in car:\n",
    "        - c: already exist in root's children. Move to the c node\n",
    "        - a: already exists in the c's children.Move to the a node\n",
    "        - r: not in a's children. add a new Trie node for r\n",
    "    - mark node for r as is_end_of_word = True\n",
    "        - post execution [root]\n",
    "                                [c]\n",
    "                                    [a]\n",
    "                                        [[t] (end of word), [r](end of word)]\n",
    "\n",
    "3 insert the word 'cart'\n",
    "    - start at the root node\n",
    "    - for each character in car:\n",
    "        - c: already exisits in root's children. Move to c node\n",
    "        - a: already exists in c's children. Move to a node a\n",
    "        - r: already exists in a's children. Move to node r\n",
    "        - t: not in r's children. add a new trie node for t\n",
    "    - mark not for t as is_end_of_word = True\n",
    "        - post execution [root]\n",
    "                                [c]\n",
    "                                    [a]\n",
    "                                        [[t]\n",
    "                                        [[r]\n",
    "                                            [t](end of word)]]\n",
    "\n",
    "4 search for word 'cat'\n",
    "    - start at the root node\n",
    "    - for each character in cat:\n",
    "        - c: is found in root's children. Move to the c node\n",
    "        - a: is found in c's children. Move to the a node\n",
    "        - t: is found in a's children. Move to the t node\n",
    "    - the node t is marked as is_end_of_word = True, so cart is in the trie\n",
    "    - result: true\n",
    "\n",
    "5 search for the word 'cart':\n",
    "    - start at the root node\n",
    "    - for each character in cart:\n",
    "        - c: is found in root's children. Move to the c node\n",
    "        - a: is found in c's children. Move to the a node\n",
    "        - r: is found in a's children. move to the r node.\n",
    "        - t: is found in r's children. Move to the t node.\n",
    "    - the node for t is marked as is_end_of_word = True, so cart is in the trie\n",
    "    - result: True\n",
    "\n",
    "6 search for the word 'dog':\n",
    "    - start at the root node\n",
    "    - for each character in dog:\n",
    "        - d: Not found in the root's children. Stop\n",
    "    - result: False\n",
    "\n",
    "7 check for the prefix ca:\n",
    "    - start at the root node\n",
    "    - for each character in ca:\n",
    "        - c: Found in root's children. Move to the c node\n",
    "        - a: found in c's children. move to the a node\n",
    "    - all characters in 'ca' exists in the trie\n",
    "    - result: True\n",
    "\n",
    "8 check prefix car:\n",
    "    - start at the root node\n",
    "    - for each character in car:\n",
    "        - c: found in root's children. Move to the c node\n",
    "        - a: found in c's children. Move to the a node.\n",
    "        - r: found in a's children. Move to the r node.\n",
    "    - all characters in car exists in the trie\n",
    "    - result: True\n",
    "\n",
    "9 check the prefix do:\n",
    "    - start at the root node\n",
    "    - for each character in do:\n",
    "        d: Not found in the root's children. Stop\n",
    "    - result: False"
   ]
  },
  {
   "cell_type": "code",
   "execution_count": null,
   "metadata": {},
   "outputs": [],
   "source": [
    "class TrieNode:\n",
    "    def __init__(self):\n",
    "        self.children = {}\n",
    "        self.is_end_of_word = False\n",
    "\n",
    "class Trie:\n",
    "    def __init__(self):\n",
    "        self.root = TrieNode()\n",
    "    \n",
    "    def insert(self, word):\n",
    "        node = self.root\n",
    "        for char in word:\n",
    "            if char not in node.children:\n",
    "                node.children[char] = TrieNode()\n",
    "            node = node.children[char]\n",
    "        node.is_end_of_word = True\n",
    "    \n",
    "    def search(self, word):\n",
    "        node = self.root\n",
    "        for char in word:\n",
    "            if char not in  node.children:\n",
    "                return False\n",
    "            node = node.children[char]\n",
    "        return node.is_end_of_word\n",
    "\n",
    "    def starts_with(self, prefix):\n",
    "        node = self.root\n",
    "        for char in prefix:\n",
    "            if char not in node.children:\n",
    "                return False\n",
    "            node = node.children[char]\n",
    "        return True"
   ]
  },
  {
   "cell_type": "markdown",
   "metadata": {},
   "source": [
    "Find first and last position of elements in sorted array\n",
    "- given a sorted array of integers, and a target value, find the starting and ending positon of the target value using binary search"
   ]
  },
  {
   "cell_type": "code",
   "execution_count": 6,
   "metadata": {},
   "outputs": [],
   "source": [
    "def search_range(nums, target):\n",
    "    def find_left_boundary(nums, target):\n",
    "        left,right = 0, len(nums) - 1\n",
    "        while left <= right:\n",
    "            mid = (left + right) // 2\n",
    "            if nums[mid] < target:\n",
    "                left = mid + 1\n",
    "            else:\n",
    "                right = mid - 1\n",
    "        return left\n",
    "    left, right = find_left_boundary(nums, target), find_left_boundary(nums, target + 1) - 1\n",
    "    if left <= right:\n",
    "        return [left, right]\n",
    "    return [-1, -1]"
   ]
  },
  {
   "attachments": {
    "image.png": {
     "image/png": "[encoded data removed]"
    }
   },
   "cell_type": "markdown",
   "metadata": {},
   "source": [
    "Topological Sort\n",
    "Implement a topological sort for a directed graph\n",
    "\n",
    "\n",
    "\n",
    "![image.png](attachment:image.png)"
   ]
  },
  {
   "cell_type": "markdown",
   "metadata": {},
   "source": [
    "Topological Sort Notes\n",
    "Topological sort is used in ordering tasks in a directed acyclic graph (DAG) such that for every directed edge u -> v, u appears before v in the order. it is commonly applied in task\n",
    "scheduling, dependency resolution and build systems.\n",
    "\n",
    "how it works:\n",
    "1. Graph construction:\n",
    "    - the graph is represented as an adjacency list.\n",
    "    - an 'in_degree' dictionary keeps track of the number of incoming edges for each vertex.\n",
    "2. Find starting nodes:\n",
    "    - nodes with an 'in_degree' of 0 are added to a queue, as they have no dependencies\n",
    "3. Process Nodes:\n",
    "    - while the queue is not empty:\n",
    "        - remove a node from the queue and add it to the result (order)\n",
    "        - reduce the in_degree of it's neigbors. if any neighbor's in_degree becomes 0, add it to the queue\n",
    "4. Check for cycles:\n",
    "    - if the result length is less than the number of vertices, the graph has cycles and topological sorting is not possible\n",
    "\n",
    "Example Use Case: Course Prequisites\n",
    "\n",
    "Imagine you are a student planning your course schedule. Some courses require others to be completed first. We want to find a valid order to take the courses.\n",
    "\n",
    "Input\n",
    "    Courses(vertices): [\"Math\", \"Physics\", \"Chemistry\", \"Biology\"]\n",
    "    Prerequisites (edges): [(\"Math\", \"Physics\"), (\"Physics\", \"Chemistry\"), (\"Math\", \"Biology\")]\n",
    "\n",
    "Step-By-Step Workflow:\n",
    "    - graph construction:\n",
    "        - create an adjacency list\n",
    "            Math -> [Physics, Biology]\n",
    "            Physics -> [Chemistry]\n",
    "            Chemistry -> []\n",
    "            Biology - []\n",
    "        - Initialize in_degree:\n",
    "            Math: 0, Physics: 1, Chemistry: 1, Biology: 1\n",
    "    - find starting nodes\n",
    "        - nodes with in_degrees = 0: [\"Math\"]\n",
    "    - process nodes:\n",
    "        - remove math from the queue:\n",
    "            - add to order: [\"Math\"]\n",
    "            - update in_degree: Physics = 0, Biology = 0\n",
    "            - add physics, biology to the queue\n",
    "        - remove physics\n",
    "            - add to the order: [\"Math\", \"Physics\"]\n",
    "            - update in_degree: Chemisty = 0\n",
    "            - add chemistry to the queue\n",
    "        - remove biology:\n",
    "            - add to order: [\"Math\", \"Physics\", \"Biology\"]\n",
    "        - remove chemistry:\n",
    "            - add to order: [\"Math\", \"Physics\", \"Biology\", \"Chemistry\"]\n",
    "    - check for cycles\n",
    "        - all nodes are processed, no cycles\n",
    "\n",
    "Output\n",
    "    - Order of courses: [\"Math\", \"Physics\", \"Biology\", \"Chemistry\"]\n"
   ]
  },
  {
   "cell_type": "code",
   "execution_count": 8,
   "metadata": {},
   "outputs": [
    {
     "name": "stdout",
     "output_type": "stream",
     "text": [
      "Course order: ['Math', 'Physics', 'Biology', 'Chemistry']\n"
     ]
    }
   ],
   "source": [
    "from collections import defaultdict, deque\n",
    "\n",
    "def topological_sort(vertices, edges):\n",
    "    graph = defaultdict(list)\n",
    "    in_degree = {v: 0 for v in vertices}\n",
    "\n",
    "    for u, v in edges:\n",
    "        graph[u].append(v)\n",
    "        in_degree[v] += 1\n",
    "    \n",
    "    queue = deque([v for v, d in in_degree.items() if d == 0])\n",
    "    order = []\n",
    "\n",
    "    while queue:\n",
    "        vertex = queue.popleft()\n",
    "        order.append(vertex)\n",
    "        for neighbor in graph[vertex]:\n",
    "            in_degree[neighbor] -= 1\n",
    "            if in_degree[neighbor] == 0:\n",
    "                queue.append(neighbor)\n",
    "    \n",
    "    return order if len(order) == len(vertices) else []\n",
    "\n",
    "\n",
    "# Input data\n",
    "courses = [\"Math\", \"Physics\", \"Chemistry\", \"Biology\"]\n",
    "prerequisites = [(\"Math\", \"Physics\"), (\"Physics\", \"Chemistry\"), (\"Math\", \"Biology\")]\n",
    "\n",
    "# Call topological sort\n",
    "course_order = topological_sort(courses, prerequisites)\n",
    "if course_order:\n",
    "    print(\"Course order:\", course_order)\n",
    "else:\n",
    "    print(\"It's not possible to complete all courses.\")"
   ]
  },
  {
   "cell_type": "markdown",
   "metadata": {},
   "source": [
    "Check if a String Contains all binary codes of size k\n",
    "- given a binary string s and an integer k, check if all binary codes of length k is a substring of s"
   ]
  },
  {
   "cell_type": "markdown",
   "metadata": {},
   "source": [
    "Explanation and Notes:\n",
    "- Binary codes of length k:\n",
    "    - for a binary string, there are 2^k possible codes of length k.\n",
    "    - e.g: for k = 2, the codes are 00 01 10 11\n",
    "- sliding window technique:\n",
    "    - the problem uses a sliding window of size k to extract every substring of length k from s.\n",
    "- hashing with a set:\n",
    "    - use a set to track which binary codes have been seen so far.\n",
    "    - stop early if all 2^k codes have been found (optimization)\n",
    "- early exit:\n",
    "    - if needed = 0, meaning all possible codes have been seen, return True\n",
    "- time complexity:\n",
    "    - generating all substrings: O(n), when n = len(s)\n",
    "    - set operations (add/check): O(1) average\n",
    "    - total: O(n)\n",
    "- space complexity:\n",
    "    - the seen set stores at most 2^k binary codes, which is O(2^k)"
   ]
  },
  {
   "cell_type": "markdown",
   "metadata": {},
   "source": [
    "Driver Code and Real World Analogy\n",
    "example input\n",
    "    - s = \"00110110\"\n",
    "    - k = 2\n",
    "returns true because all possible binary codes of length k (i.e. 00, 01, 10, 11) are substrings of s\n",
    "\n",
    "real world analogy:\n",
    "- imagine trying to verify whether a DNA sequence contains all possible subsequences of a certain length. The method involves checking each unique subsequence and stoping early if \n",
    "all have been found.\n",
    "\n",
    "Dry Run:\n",
    "- initialization:\n",
    "    - needed = 4 (2^k)\n",
    "    - seen = {}\n",
    "- sliding window\n",
    "    - i = 0, substring = 00. add to seen needed = 3\n",
    "    - i = 1, substring = 01. add to seen. needed = 2\n",
    "    - i = 2, substring = 11. add to seen. needed = 1\n",
    "    - i = 3, substring = 10. add to seen. needed = 0\n",
    "- early exit:\n",
    "    - as needed = 0, return True\n",
    "\n",
    "\n",
    "Applications:\n",
    "    - dna sequence analysis\n",
    "    - validation of all possible passwords of a certain length in a string\n",
    "\n",
    "Variations:\n",
    "    - check for substrings of varying lengths.\n",
    "    - find missing binary codes instead of checking completeness"
   ]
  },
  {
   "cell_type": "code",
   "execution_count": 10,
   "metadata": {},
   "outputs": [
    {
     "name": "stdout",
     "output_type": "stream",
     "text": [
      "Binary String: 00110110\n",
      "Checking for all binary codes of length 2...\n",
      "All binary codes of length 2 are present in the string.\n"
     ]
    }
   ],
   "source": [
    "def has_all_codes(s, k):\n",
    "    needed = 1 << k\n",
    "    seen = set()\n",
    "    for i in range(len(s) - k + 1):\n",
    "        substring = s[i:i+k]\n",
    "        if substring not in seen:\n",
    "            seen.add(substring)\n",
    "            needed -= 1\n",
    "            if needed == 0:\n",
    "                return True\n",
    "    return False\n",
    "\n",
    "s = \"00110110\"\n",
    "k = 2\n",
    "\n",
    "print(f\"Binary String: {s}\")\n",
    "print(f\"Checking for all binary codes of length {k}...\")\n",
    "result = has_all_codes(s,k)\n",
    "if result:\n",
    "    print(f\"All binary codes of length {k} are present in the string.\")\n",
    "else:\n",
    "    print(f\"Not all binary codes of length {k} are present in the string\")"
   ]
  },
  {
   "cell_type": "markdown",
   "metadata": {},
   "source": [
    "Quick Sort:\n",
    "implement quick sort algorithm"
   ]
  },
  {
   "cell_type": "code",
   "execution_count": null,
   "metadata": {},
   "outputs": [],
   "source": [
    "def quicksort(arr):\n",
    "    if len(arr) <= 1:\n",
    "        return arr\n",
    "    pivot = arr[len(arr) // 2]\n",
    "    left = [x for x in arr if x < pivot]\n",
    "    middle = [x for x in arr if x == pivot]\n",
    "    right = [x for x in arr if x  > pivot]\n",
    "    return quicksort(left) + middle + quicksort(right)"
   ]
  },
  {
   "cell_type": "markdown",
   "metadata": {},
   "source": [
    "Implement Merge Sort"
   ]
  },
  {
   "cell_type": "code",
   "execution_count": 11,
   "metadata": {},
   "outputs": [],
   "source": [
    "def mergeSort(arr):\n",
    "    if len(arr) <= 1:\n",
    "        return arr\n",
    "    mid = len(arr) // 2\n",
    "    left = arr[:mid]\n",
    "    right = arr[mid:]\n",
    "    return merge(mergeSort(left), mergeSort(right))\n",
    "\n",
    "def merge(left, right):\n",
    "    result = []\n",
    "    i = j = 0\n",
    "    while i < len(left) and j < len(right):\n",
    "        if left[i] < right[j]:\n",
    "            result.append(left[i])\n",
    "            i += 1\n",
    "        else:\n",
    "            result.append(right[j])\n",
    "            j += 1\n",
    "    result.extend(left[i:])\n",
    "    result.extend(right[j:])\n",
    "    return result"
   ]
  },
  {
   "cell_type": "markdown",
   "metadata": {},
   "source": [
    "Maximum Depth of a binary tree\n",
    "- find the maximum depth of a binary tree\n"
   ]
  },
  {
   "cell_type": "code",
   "execution_count": 12,
   "metadata": {},
   "outputs": [],
   "source": [
    "def max_depth(root):\n",
    "    if not root:\n",
    "        return 0\n",
    "    left_depth = max_depth(root.left)\n",
    "    right_depth = max_depth(root.right)\n",
    "    return max(left_depth, right_depth) + 1"
   ]
  },
  {
   "cell_type": "markdown",
   "metadata": {},
   "source": [
    "Count the Number of Islands\n",
    "- given a 2d grid consisting of '1s' (land) and '0s' (water), count the number of islands. An island is sounded by water and only formed by connecting adjacent lands horizontally\n",
    "or vertically."
   ]
  },
  {
   "cell_type": "markdown",
   "metadata": {},
   "source": [
    "Explanation\n",
    "- problem statement - counting the number of islands in a 2D grid\n",
    "    - an island is formed by 1s (land) connected either vertically or horizontally\n",
    "    - 0 represents water\n",
    "    - once a cell in an island is visited, it is marked # to avoid revisiting.\n",
    "\n",
    "- input example: 9 -value matrix\n",
    "    - [\n",
    "        - ['1', '1', '0'], \n",
    "        - ['0', '1', '0'], \n",
    "        - ['1', '0', '1']\n",
    "    - ]\n",
    "\n",
    "- a walkthrough would mean\n",
    "    - initial check of num_of_islands:\n",
    "        - verify that the grid is not empty (if not grid). it is not, so proceed\n",
    "        - initialize count = 0 to keep track of the number of islands\n",
    "    - outer loop over rows:\n",
    "        - start iterating through each cell in the grid using nested loops\n",
    "            - outer loop: for i in range(len(grid)) -> iterates over rows (3 rows: 0, 1, 2).\n",
    "            - inner loop: for j in range(len(grid[0])) -> iterates over columns (3 columns): 0,1,2\n",
    "    - first encounter:\n",
    "        - i = 0, j = 0: the value is '1', indicating the start of an island.\n",
    "        - call dfs(grid, i = 0, j = 0)\n",
    "        - increment count to 1 because we found an island.\n",
    "    - dfs execution for  (i = 0, j = 0)\n",
    "        - boundary and value check:\n",
    "            - ensure the indices are within the bounds and the value is '1'. for (i = 0, j = 0), it passes the check\n",
    "            - mark cell as visited\n",
    "                - mark grid[0][0] as #\n",
    "            - recursive calls:\n",
    "                - call dfs(grid, i=-1, j = 0) -> out of bounds, returns immediately\n",
    "                - call dfs(grid, i=1, j = 0) -> water (0), returns immediately\n",
    "                - call dfs(grid, i=0, j=-1) -> out of bounds, returns immediately\n",
    "                - call dfs(grid, i = 0, j=1) -> valid land ('1'), continue dfs\n",
    "    - dfs execution for (i = 0, j = 1):\n",
    "        - boundary and value check:\n",
    "            - ensure the indices are within the bounds and the value is '1'. For (i = 0, j = 1), it passes the check\n",
    "        - mark cell as visited\n",
    "            - mark grid [0][1] as #\n",
    "        - recursive calls:\n",
    "            - call dfs(grid, i=-1, j=1) -> out of bounds, returns immediately\n",
    "            - call dfs(grid, i=1, j=1) -> valid land ('1'), continue DFS\n",
    "            - call dfs(grid, i = 0, j = 0) -> already visited '#', returns immediately\n",
    "            - call dfs(grid, i = 0, j = 2) -> water ('0'), returns immediately\n",
    "    - dfs execution for (i = 1, j = 1)\n",
    "        - boundary and value check:\n",
    "            - ensure the indices are within bounds and the value is '1'. For (i = 1, j = 1), it passes the check\n",
    "        - mark cell as visited:\n",
    "            - mark grid [1][1] as #\n",
    "        - recursive calls:\n",
    "            - call dfs(grid, i=0, j=1) -> already visited ('#'), returns immediately\n",
    "            - call dfs(grid, i=2, j=1) -> water('0') returns immediately\n",
    "            - call dfs(grid, i=1, j=0) -> water('0') returns immediately\n",
    "            - call dfs(grid, i=1, j=2) -> water('0') returns immediately\n",
    "    - backtracking ends\n",
    "        - all reachable cells of the firt island are now marked. return to the main loop\n",
    "- continue scanning:\n",
    "    i = 0, j = 2 -> water ('0'), skip\n",
    "    i = 1, j = 0 -> water ('0'), skip\n",
    "    i = 1, j = 1 -> already visited ('#')\n",
    "    i = 1, j = 2 -> Water ('0'), skip\n",
    "    i = 1, j = 2 -> Water('0'), skip\n",
    "    i = 2, j = 0 -> Land ('1'), new island:\n",
    "        - call dfs(grid, i=2, j=0), increment count to 2\n",
    "\n",
    "        - dfs execution for (i=2, j=0):\n",
    "            - similar process mark this cell and terminate since no adjacent land exists\n",
    "\n",
    "        continue scanning:\n",
    "            - i = 2, j = 1 -> water ('0'), skip\n",
    "            - i = 2, j = 2 -> land ('1'), new island\n",
    "                - call dfs(grid, i=2, j=2, increment count to 3)\n",
    "\n",
    "- final count:\n",
    "    - all cells scanned and count = 3 islands found.\n",
    "\n",
    "\n",
    "\n"
   ]
  },
  {
   "cell_type": "code",
   "execution_count": 14,
   "metadata": {},
   "outputs": [
    {
     "name": "stdout",
     "output_type": "stream",
     "text": [
      "Original Grid\n",
      "['1', '1', '0']\n",
      "['0', '1', '0']\n",
      "['1', '0', '1']\n",
      "\n",
      "Number of Islands:  3\n"
     ]
    }
   ],
   "source": [
    "def num_of_islands(grid):\n",
    "    if not grid:\n",
    "        return 0\n",
    "    count = 0\n",
    "    for i in range(len(grid)):\n",
    "        for j in range(len(grid[0])):\n",
    "            if grid[i][j] == '1':\n",
    "                dfs(grid, i,j)\n",
    "                count += 1\n",
    "    return count\n",
    "\n",
    "def dfs(grid, i, j):\n",
    "    if (i < 0 or i >= len(grid) or j < 0 or j >= len(grid[0]) or grid[i][j] != '1'):\n",
    "        return\n",
    "    grid[i][j] = '#'\n",
    "    dfs(grid, i - 1, j)\n",
    "    dfs(grid, i+1, j)\n",
    "    dfs(grid, i, j-1)\n",
    "    dfs(grid, i, j+1)\n",
    "\n",
    "grid = [\n",
    "    ['1', '1', '0'],\n",
    "    ['0', '1', '0'],\n",
    "    ['1', '0', '1']\n",
    "]\n",
    "print('Original Grid')\n",
    "for row in grid:\n",
    "    print(row)\n",
    "\n",
    "result = num_of_islands(grid)\n",
    "print('\\nNumber of Islands: ', result)"
   ]
  },
  {
   "cell_type": "markdown",
   "metadata": {},
   "source": [
    "2D Array in Python\n",
    "Problem 1: Given a 2D array, write python program:\n",
    "- print the dimensions of the array\n",
    "- print the elements in a row major order\n",
    "- find the sum of the elements in the array\n"
   ]
  },
  {
   "cell_type": "code",
   "execution_count": 17,
   "metadata": {},
   "outputs": [
    {
     "name": "stdout",
     "output_type": "stream",
     "text": [
      "Dimensions: 3 X 3\n",
      "1 2 3 \n",
      "4 5 6 \n",
      "7 8 9 \n",
      "Sum of all elements:  45\n"
     ]
    }
   ],
   "source": [
    "def print_array_dimensions(arr):\n",
    "    rows = len(arr)\n",
    "    cols = len(arr[0])\n",
    "    print(f\"Dimensions: {rows} X {cols}\")\n",
    "\n",
    "def print_row_major_order(arr):\n",
    "    for row in arr:\n",
    "        for element in row:\n",
    "            print(element, end=\" \")\n",
    "        print()\n",
    "\n",
    "def calculate_sum(arr):\n",
    "    total_sum = 0\n",
    "    for row in arr:\n",
    "        for element in row:\n",
    "            total_sum += element\n",
    "    return total_sum\n",
    "\n",
    "t_arr = [[1, 2, 3], [4, 5, 6], [7, 8, 9]]\n",
    "\n",
    "print_array_dimensions(t_arr)\n",
    "print_row_major_order(t_arr)\n",
    "print(\"Sum of all elements: \", calculate_sum(t_arr))"
   ]
  },
  {
   "cell_type": "markdown",
   "metadata": {},
   "source": [
    "Given a 2D square matrix, rotate it by 90 degrees clockwise"
   ]
  },
  {
   "cell_type": "markdown",
   "metadata": {},
   "source": [
    " Approach:\n",
    " 1. Transpose the matrix:\n",
    "    - convert rows into columns. This swaps matrix[i][j] with matrix [j][i]\n",
    " 2. Reverse each row:\n",
    "    - reverse the order of elements in each row of the transposed matrix\n",
    "This process ensures that the matrix is rotated in-place"
   ]
  },
  {
   "cell_type": "code",
   "execution_count": 22,
   "metadata": {},
   "outputs": [
    {
     "name": "stdout",
     "output_type": "stream",
     "text": [
      "Original matrix\n",
      "[1, 2, 3]\n",
      "[4, 5, 6]\n",
      "[7, 8, 9]\n",
      "\n",
      "Rotated Matrix (90 degress clockwise):\n",
      "[7, 4, 1]\n",
      "[8, 5, 2]\n",
      "[9, 6, 3]\n"
     ]
    }
   ],
   "source": [
    "def rotate_matrix(matrix):\n",
    "    n = len(matrix)\n",
    "    for i in range(n):\n",
    "        for j in range(i + 1, n):\n",
    "            matrix[i][j], matrix[j][i] = matrix[j][i], matrix[i][j]\n",
    "    for i in range(n):\n",
    "        matrix[i].reverse()\n",
    "\n",
    "\n",
    "rt_matrix = [[1, 2, 3], [4, 5, 6], [7, 8, 9]]\n",
    "print(\"Original matrix\")\n",
    "for row in rt_matrix:\n",
    "    print(row)\n",
    "\n",
    "rotate_matrix(rt_matrix)\n",
    "\n",
    "print(\"\\nRotated Matrix (90 degress clockwise):\")\n",
    "for row in rt_matrix:\n",
    "    print(row)"
   ]
  },
  {
   "cell_type": "markdown",
   "metadata": {},
   "source": [
    "Trapping Rain Water"
   ]
  },
  {
   "cell_type": "code",
   "execution_count": 1,
   "metadata": {},
   "outputs": [],
   "source": [
    "def trap(height):\n",
    "    if not height:\n",
    "        return 0\n",
    "    n = len(height)\n",
    "    left_max = [0] * n\n",
    "    right_max = [0] * n\n",
    "    left_max[0] = height[0]\n",
    "    for i in range(1, n):\n",
    "        left_max[i] = max(height[i], left_max[i - 1])\n",
    "    right_max[n - 1] = height[n - 1]\n",
    "    for i in range(n-2, -1, -1):\n",
    "        right_max[i] = max(height[i], right_max[i+1])\n",
    "    \n",
    "    ans = 0\n",
    "    for i in range(n):\n",
    "        ans += min(left_max[i], right_max[i]) - height[i]\n",
    "    return ans"
   ]
  },
  {
   "cell_type": "markdown",
   "metadata": {},
   "source": [
    "Coin Change\n",
    "\n",
    "Question:\n",
    "You are given coins of different denominations and a total amount of money amount. Write a function to compute the fewest number of coins that you need to make up that amount. If the amount of money cannot be made up by any combination of the coins,  return -1"
   ]
  },
  {
   "cell_type": "code",
   "execution_count": null,
   "metadata": {},
   "outputs": [],
   "source": [
    "def coin_change(coins, amount):\n",
    "    dp = [float('inf')] * (amount + 1)\n",
    "    dp[0] = 0\n",
    "\n",
    "    for coin in coins:\n",
    "        for x in range(coin, amount + 1):\n",
    "            dp[x] = min(dp[x], dp[x - coin] + 1)\n",
    "    return dp[amount] if dp[amount] != float('inf') else - 1"
   ]
  },
  {
   "cell_type": "markdown",
   "metadata": {},
   "source": [
    "Decode Ways\n",
    "Question: A message containing letters from A-Z is being encoded to numbers using the following mapping: 'A' -> '1', 'B' -> '2', ..., 'Z' -> '26'. Given a non-empty string containing only digits, determine the total number of ways to decode it."
   ]
  },
  {
   "cell_type": "code",
   "execution_count": null,
   "metadata": {},
   "outputs": [],
   "source": [
    "def num_decodings(s):\n",
    "    if not s:\n",
    "        return 0\n",
    "    n = len(s)\n",
    "    dp = [0] * (n + 1)\n",
    "    dp[0] = 1\n",
    "    dp[1] = 0 if s[0] == '0' else 1\n",
    "    for i in range(2, n+1):\n",
    "        first = int(s[i - 1: i])\n",
    "        second = int(s[i-2:i])\n",
    "        if 1 <= first <= 9:\n",
    "            dp[i] += dp[i - 1]\n",
    "        if 10 <= second <= 26:\n",
    "            dp[i] += dp[i - 2]\n",
    "    \n",
    "    return dp[n]\n"
   ]
  },
  {
   "cell_type": "markdown",
   "metadata": {},
   "source": [
    "Dynamic Programming\n",
    "\n",
    "DP is a powerful algorithm technique that solves complex problems by breaking them down into simpler subproblems. It is particularly useful for optimization problems and can significantly reduce time complexity by storing and reusing intermediate results."
   ]
  },
  {
   "cell_type": "markdown",
   "metadata": {},
   "source": [
    "DP Approach\n",
    "\n",
    "1. Subproblem definition\n",
    "    - the problem is about number of ways to decode a string of digits\n",
    "    - we break it down into smaller subproblems: how many ways can we decode a prefix of the string?\n",
    "2. DP Array\n",
    "    - dp[i] represents the number of ways to decode the substring up to the index [i]\n",
    "    - base cases:\n",
    "        - dp[0] = 1 (empty string has only one way to decode)\n",
    "        - dp[1] is 1 if the first digit is non-zero otherwise 0\n",
    "3. Recurrence Relation:\n",
    "    - for each index, we consider two possibilities: \n",
    "        - a single digit decoding (1 - 9)\n",
    "        - b. two digit decoding (10 - 26)\n",
    "    - if a single digit is valid, we add dp[i-1] to dp[i]\n",
    "    - if a two-digit number is valid, we add dp[i-2] to dp[i]\n",
    "\n",
    "Key Insights:\n",
    "- the solution handles edge cases like:\n",
    "    - strings with leading zeros\n",
    "    - invalid two-digit combinations\n",
    "    - empty strings\n",
    "- time complexity: O(n), where n is the length of the string\n",
    "- space complexity: O(n), where n is the length of the string\n",
    "\n",
    "\n",
    "When to use Dynamic Programming\n",
    "- problem can be divided into overlapping subproblems\n",
    "- optimal solution can be constructed from optimal solutions of subproblems\n",
    "- Memoization (storing and reusing the results) can reduce time complexity"
   ]
  },
  {
   "cell_type": "markdown",
   "metadata": {},
   "source": [
    "Some More Examples of DP Problems and Quick Approaches\n",
    "1. Fibonacci Sequence:\n",
    "    - Problem: Generate fibonacci numbers where each number is the sum of the two preceding ones\n",
    "    - DP Approach:\n",
    "        - store previously computed fibonnaci numbers\n",
    "        - build sequence iteratively\n",
    "        - reduce time complexity from O(2^n) (recursive) to O(n)\n",
    "    - Key insight: avoid redundant recursive calculations by storing intermediate results.\n",
    "2. Longest Common Subsequnce (LCS):\n",
    "    - Problem: find the longest subsequence common to two sequences\n",
    "    - DP Approach:\n",
    "        - create a 2D table to store LCS lengths\n",
    "        - if characters match, diagonal value + 1\n",
    "        - if not, take the max of left or top cell\n",
    "    - time complexity: O(m*n), when m and n are string lengths\n",
    "    - applications:\n",
    "        - diff utilities\n",
    "        - biological sequence alignments\n",
    "        - plagiarism checker\n",
    "3. 0/1 Knapsack Problem\n",
    "    - Problem: select items with maxiumum value while keeping the total weight within a capacity\n",
    "    - Constraints:\n",
    "        - each item can be selected once (0 or 1)\n",
    "        - maximize total value\n",
    "    - DP Approach:\n",
    "        - 2D table tracks maxiumum value for each weight\n",
    "        - For each item, decide to include or exclude\n",
    "    - Real world applications:\n",
    "        - resource allocation\n",
    "        - investment portfolio optimization\n",
    "        - cargo loading\n",
    "4. Coin change problem\n",
    "    - Problem: find minimum number of coins to make a specific amount\n",
    "    - DP Approach:\n",
    "        - initialize array with maxiumum possible value\n",
    "        - iteratively compute the minimum coins for each amount\n",
    "    - Key features:\n",
    "        - handles different coin denominations\n",
    "        - returns  -1 if amount can not be made\n",
    "    - Applications:\n",
    "        - currency exchange\n",
    "        - automated cash register systems\n",
    "\n",
    "General dynamic programming principles\n",
    "1. Identify subproblems:\n",
    "    - break complex problem into simpler sub-problems\n",
    "    - ensure sub-problems are independent\n",
    "2. Memoization techniques:\n",
    "    - store results of expensive function calls\n",
    "    - reuse instead of recomputing\n",
    "\n",
    "When to use Dynamic Programming\n",
    "- optimization problems\n",
    "- problems with overlapping sub-problems\n",
    "- problems showing optimal substructure\n",
    "\n",
    "Time and Space Complexity Considerations\n",
    "- Most DP solution trade space for time\n",
    "- Typical time complexity: O(n^2) or O(n*n)\n",
    "- Space can often be optimized to O(n) or O(1)"
   ]
  },
  {
   "cell_type": "code",
   "execution_count": 9,
   "metadata": {},
   "outputs": [
    {
     "name": "stdout",
     "output_type": "stream",
     "text": [
      "[0, 0, 0, 0, 0, 0, 0, 0, 0, 0]\n",
      "2\n",
      "1 ==== (1, 0) -> 1\n",
      "3\n",
      "2 ==== (1, 1) -> 2\n",
      "4\n",
      "3 ==== (2, 1) -> 3\n",
      "5\n",
      "5 ==== (3, 2) -> 5\n",
      "6\n",
      "8 ==== (5, 3) -> 8\n",
      "7\n",
      "13 ==== (8, 5) -> 13\n",
      "8\n",
      "21 ==== (13, 8) -> 21\n",
      "9\n",
      "34 ==== (21, 13) -> 34\n",
      "34\n"
     ]
    }
   ],
   "source": [
    "# Testing out Fibonnaci Sequence\n",
    "def fibonacci_dp(n):\n",
    "    if n < 1:\n",
    "        return n\n",
    "\n",
    "    dp = [0] * (n + 1)\n",
    "    print(dp)\n",
    "    dp[1] = 1\n",
    "    for i in range(2, n + 1):\n",
    "        print(i)\n",
    "        dp[i] = dp[i - 1] + dp[i - 2]\n",
    "        print(f\"{dp[i]} ==== {dp[i - 1], dp[i-2]} -> {dp[i - 1] + dp[i - 2]}\")\n",
    "\n",
    "    return dp[n]\n",
    "print(fibonacci_dp(9))"
   ]
  },
  {
   "cell_type": "markdown",
   "metadata": {},
   "source": [
    "TODO:\n",
    "- longest subsequence\n",
    "- knapsack\n",
    "- coin_change"
   ]
  },
  {
   "cell_type": "code",
   "execution_count": null,
   "metadata": {},
   "outputs": [],
   "source": []
  },
  {
   "cell_type": "code",
   "execution_count": null,
   "metadata": {},
   "outputs": [],
   "source": []
  },
  {
   "cell_type": "code",
   "execution_count": null,
   "metadata": {},
   "outputs": [],
   "source": []
  },
  {
   "cell_type": "code",
   "execution_count": null,
   "metadata": {},
   "outputs": [],
   "source": []
  },
  {
   "cell_type": "code",
   "execution_count": null,
   "metadata": {},
   "outputs": [],
   "source": []
  },
  {
   "cell_type": "code",
   "execution_count": null,
   "metadata": {},
   "outputs": [],
   "source": []
  },
  {
   "cell_type": "code",
   "execution_count": null,
   "metadata": {},
   "outputs": [],
   "source": []
  },
  {
   "cell_type": "code",
   "execution_count": null,
   "metadata": {},
   "outputs": [],
   "source": []
  }
 ],
 "metadata": {
  "kernelspec": {
   "display_name": "Python 3",
   "language": "python",
   "name": "python3"
  },
  "language_info": {
   "codemirror_mode": {
    "name": "ipython",
    "version": 3
   },
   "file_extension": ".py",
   "mimetype": "text/x-python",
   "name": "python",
   "nbconvert_exporter": "python",
   "pygments_lexer": "ipython3",
   "version": "3.10.6"
  }
 },
 "nbformat": 4,
 "nbformat_minor": 2
}
