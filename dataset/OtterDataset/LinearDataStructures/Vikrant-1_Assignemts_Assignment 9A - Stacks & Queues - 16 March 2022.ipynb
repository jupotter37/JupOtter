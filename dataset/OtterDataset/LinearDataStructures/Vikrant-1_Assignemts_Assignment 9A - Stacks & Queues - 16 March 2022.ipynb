{
 "cells": [
  {
   "cell_type": "markdown",
   "metadata": {},
   "source": [
    "### ℹ️ Before proceeding to the assignment, make sure to follow these instructions for importing other modules in this file.\n",
    "### 👇 Please run the below cell"
   ]
  },
  {
   "cell_type": "code",
   "execution_count": null,
   "metadata": {},
   "outputs": [],
   "source": [
    "%%capture\n",
    "# %run \"your file path which need to be imported\"\n",
    "\n",
    "# Example\n",
    "%run \"../Assignment7A/Assignment 7A.ipynb\"\n",
    "\n",
    "# Now all the functions in `Assignment 7A.ipynb` are accessed here."
   ]
  },
  {
   "cell_type": "markdown",
   "metadata": {},
   "source": [
    "# Stacks & Queues"
   ]
  },
  {
   "cell_type": "markdown",
   "metadata": {},
   "source": [
    "## Stack\n",
    "Stack is a linear data structure which follows a particular order in which the operations are performed. The order may be LIFO (Last In First Out) or FILO(First In Last Out).\n",
    "\n",
    "1. `Push` - Insert into stack\n",
    "2. `Pop`  - Remove from stack\n",
    "3. `Peek` - Get element present on top of the stack\n",
    "\n",
    "Throw `StackDataAccessException` exception incase of any anomaly"
   ]
  },
  {
   "cell_type": "markdown",
   "metadata": {},
   "source": [
    "### ⛔️ Please don't use Python Specific code like slicing, using `in` for searching etc.\n",
    "### ✅ Please write in C style code"
   ]
  },
  {
   "cell_type": "markdown",
   "metadata": {},
   "source": [
    "### ❓ [#1] Stack Operations\n",
    ">💡 Tip: Stack has practically infinite size"
   ]
  },
  {
   "cell_type": "code",
   "execution_count": null,
   "metadata": {
    "vscode": {
     "languageId": "javascript"
    }
   },
   "outputs": [],
   "source": [
    "class Stack{\n",
    "    constructor(){\n",
    "        this.data = [];\n",
    "        this.index = -1;\n",
    "    }\n",
    "\n",
    "    push(data){\n",
    "        this.index ++;\n",
    "        this.data[this.index] = data;\n",
    "    }\n",
    "\n",
    "    pop(){\n",
    "        if(this.index >= 0 ){\n",
    "            this.data.pop();\n",
    "            this.index--;\n",
    "        }else{\n",
    "            console.log('Stack is Empty');\n",
    "        }\n",
    "    }\n",
    "\n",
    "    peek(){\n",
    "        if(this.index >= 0){\n",
    "            return this.data[this.index];\n",
    "        }else{\n",
    "            console.log('Stack is Empty');\n",
    "        }\n",
    "    }\n",
    "}"
   ]
  },
  {
   "cell_type": "code",
   "execution_count": null,
   "metadata": {
    "vscode": {
     "languageId": "javascript"
    }
   },
   "outputs": [],
   "source": [
    "let stack = Stack()\n",
    "stack.push(5)\n",
    "stack.push(10)\n",
    "\n",
    "console.assert(10 == stack.peek()) \n",
    "\n",
    "stack.push(7)\n",
    "stack.push(1)\n",
    "\n",
    "console.assert(1 == stack.peek()) \n",
    "\n",
    "stack.pop()\n",
    "stack.pop()\n",
    "\n",
    "console.assert(10 == stack.peek())\n",
    "\n",
    "stack.pop()\n",
    "stack.pop()\n",
    "\n",
    "// try:\n",
    "//     stack.pop()\n",
    "\n",
    "// except Exception as e:\n",
    "//     assert e.__class__ == StackDataAccessException().__class__\n",
    "\n",
    "stack.push(1)\n",
    "stack.push(7)\n",
    "console.assert([1,7] == stack.data)\n"
   ]
  },
  {
   "cell_type": "markdown",
   "metadata": {},
   "source": [
    "### ❓ [#2] Implement two stacks in an array\n",
    "\n",
    "Take an array of length `N` and implement stack functionality in array to serve two stacks in one go.\n",
    "\n",
    "### 👇 Points to be remembered\n",
    "1. Array size is fixed\n",
    "2. Throw `StackDataOverflowException` on data overflow"
   ]
  },
  {
   "cell_type": "code",
   "execution_count": null,
   "metadata": {
    "vscode": {
     "languageId": "javascript"
    }
   },
   "outputs": [],
   "source": [
    "class StacksInArray{\n",
    "    constructor(n){\n",
    "\n",
    "        this.arrayData = Array(n).fill(undefined) ; \n",
    "        this.arraySize = n;\n",
    "        this.stackOneIndex = -1; // index of first stack\n",
    "        this.stackTwoIndex = n; // index of second stack\n",
    "    }\n",
    "\n",
    "    // TODO: Insert an element to a stack 1\n",
    "    pushIntoStack1(data){\n",
    "\n",
    "        if(this.stackTwoIndex > this.stackOneIndex + 1 ){\n",
    "            this.stackOneIndex += 1;\n",
    "            this.arrayData[this.stackOneIndex] = data;\n",
    "        }else{\n",
    "            console.log('Stack1 is full');\n",
    "        }\n",
    "    }\n",
    "        \n",
    "\n",
    "    //  TODO: Remove element from stack 1\n",
    "    popFromStack1(){\n",
    "        if(this.stackOneIndex  < 0){\n",
    "            return -1\n",
    "        }else{\n",
    "            this.arrayData[this.stackOneIndex] = undefined;\n",
    "            this.stackOneIndex -= 1;\n",
    "        }\n",
    "    }\n",
    "\n",
    "    //  TODO: Get element present on the top of the stack 1\n",
    "    peekFromStack1(){\n",
    "        if(this.stackOneIndex < 0){\n",
    "            return -1\n",
    "        }else{\n",
    "           return this.arrayData[this.stackOneIndex]\n",
    "        }\n",
    "    }\n",
    "\n",
    "    //  TODO: Insert an element to a stack 2\n",
    "    pushIntoStack2(data){\n",
    "        if(this.stackTwoIndex > this.stackOneIndex+1){\n",
    "            this.stackTwoIndex -= 1\n",
    "            this.arrayData[this.stackTwoIndex] = data;\n",
    "        }else{\n",
    "            console.log('Stack2 is full')\n",
    "        }\n",
    "    }\n",
    "    \n",
    "\n",
    "    //  TODO: Remove element from stack 2\n",
    "    popFromStack2(){\n",
    "        if(this.stackTwoIndex  >= this.arraySize){\n",
    "            return -1\n",
    "        }else{\n",
    "            this.arrayData[this.stackTwoIndex] = undefined;\n",
    "            this.stackTwoIndex += 1;\n",
    "        }\n",
    "    }\n",
    "\n",
    "\n",
    "    //  TODO: Get element present on the top of the stack\n",
    "    peekFromStack2(){\n",
    "        if(this.stackTwoIndex >= this.arraySize){\n",
    "            return -1\n",
    "        }else{\n",
    "           return this.arrayData[this.stackTwoIndex]\n",
    "        }\n",
    "    }\n",
    "}"
   ]
  },
  {
   "cell_type": "code",
   "execution_count": null,
   "metadata": {
    "vscode": {
     "languageId": "javascript"
    }
   },
   "outputs": [],
   "source": [
    "let stackArray = StacksInArray(4)\n",
    "\n",
    "stackArray.pushIntoStack1(2)\n",
    "stackArray.pushIntoStack2(4)\n",
    "\n",
    "console.assert(stackArray.peekFromStack1() == 2)\n",
    "console.assert(stackArray.peekFromStack2() == 4)\n",
    "\n",
    "stackArray.pushIntoStack1(4)\n",
    "stackArray.pushIntoStack2(5)\n",
    "\n",
    "stackArray.popFromStack2()"
   ]
  },
  {
   "cell_type": "markdown",
   "metadata": {},
   "source": [
    "### ❓ [#3] Implement Stack using Linked List\n",
    "\n",
    "Replace array as `data` with `Linkedlist` and re-implement all the operations of the Stack\n",
    "\n",
    "- Make sure to use the `BaseLinkedList` class for basic operations. \n",
    "> 💡 Tip: Import and Use necessary functions from previous assignments if needed\n"
   ]
  },
  {
   "cell_type": "code",
   "execution_count": 9,
   "metadata": {
    "vscode": {
     "languageId": "javascript"
    }
   },
   "outputs": [],
   "source": [
    "//    Node and Base Linked class is used as same in 8A assingnment\n",
    "\n",
    "//  \"Node\" class\n",
    "class Node{\n",
    "    // '''Initializes Node object'''\n",
    "    constructor(data=null){\n",
    "      this.data = data;  // Assign data\n",
    "      this.next = null;  // Initialize next as null\n",
    "    }\n",
    "  }  \n",
    "\n",
    "// LinkedList Class\n",
    "class BaseLinkedList{\n",
    "    constructor(){\n",
    "    //  Function to initialize head\n",
    "    this.head = null\n",
    "    }\n",
    "    \n",
    "}\n",
    "\n",
    "\n",
    "// using Stack with linked list\n",
    "\n",
    "class StackUsingLinkedList  extends BaseLinkedList{\n",
    "    constructor(){\n",
    "       \n",
    "\n",
    "    }\n",
    "\n",
    "    push(data){\n",
    "        let node = new Node(data);\n",
    "        if(this.head == null){\n",
    "            this.head = node;\n",
    "            return \n",
    "        }\n",
    "\n",
    "        let temp = this.head;\n",
    "\n",
    "        while (temp){\n",
    "            if(temp.next == null){\n",
    "                temp.next = node;\n",
    "                return\n",
    "            }\n",
    "            temp = temp.next;\n",
    "        }\n",
    "    }\n",
    "\n",
    "    pop(){\n",
    "        if(!this.head){\n",
    "            return 'Stack is Empty'\n",
    "        }\n",
    "\n",
    "        if(!this.head.next){\n",
    "            this.head = null;\n",
    "        }\n",
    "\n",
    "        let temp = this.head;\n",
    "        while(temp){\n",
    "            if(temp.next.next === null){\n",
    "                temp.next = null;\n",
    "                break;\n",
    "            }\n",
    "            temp = temp.next;\n",
    "        }\n",
    "    }\n",
    "\n",
    "    peek(){\n",
    "        if(!this.head){\n",
    "            return 'The Stack is Empty'\n",
    "        }\n",
    "\n",
    "        let temp = this.head; \n",
    "         while(temp.next){\n",
    "             temp = temp.next;\n",
    "         }\n",
    "         return temp.data\n",
    "     }\n",
    "\n",
    "        \n",
    "\n",
    "    parse(){\n",
    "        let temp = this.head;\n",
    "        let result = [];\n",
    " \n",
    "         while(temp){\n",
    "             result.push(temp.data);\n",
    "             temp = temp.next;\n",
    "         }\n",
    "         return result\n",
    "     }\n",
    "    \n",
    "}\n",
    "\n",
    "    \n",
    "\n"
   ]
  },
  {
   "cell_type": "code",
   "execution_count": null,
   "metadata": {
    "vscode": {
     "languageId": "javascript"
    }
   },
   "outputs": [],
   "source": [
    "let linkedListStack = StackUsingLinkedList()\n",
    "linkedListStack.push(5)\n",
    "linkedListStack.push(10)\n",
    "\n",
    "console.assert(10 == stack.peek())\n",
    "\n",
    "linkedListStack.push(7)\n",
    "linkedListStack.push(1)\n",
    "\n",
    "console.assert(1 == stack.peek())\n",
    "\n",
    "linkedListStack.pop()\n",
    "linkedListStack.pop()\n",
    "\n",
    "console.assert(10 == stack.peek())\n",
    "\n",
    "linkedListStack.pop()\n",
    "linkedListStack.pop()\n",
    "\n",
    "\n",
    "linkedListStack.push(1)\n",
    "linkedListStack.push(7)\n",
    "console.assert([1,7] == linkedListStack.parse())"
   ]
  },
  {
   "cell_type": "markdown",
   "metadata": {},
   "source": [
    "## Queue\n",
    "\n",
    "A Queue is a linear structure which follows a particular order in which the operations are performed. The order is First In First Out (FIFO)\n",
    "\n",
    "Queue has 4  Operations\n",
    "1. `Enqueue`  - Insert into stack\n",
    "2. `Dequeue`  - Remove from stack\n",
    "3. `Front`    - Get front element\n",
    "4. `Rear`     - Get Rear element \n",
    "\n",
    "Throw `QueueDataAccessException` incase of any anomaly\n"
   ]
  },
  {
   "cell_type": "markdown",
   "metadata": {},
   "source": [
    "### ❓ [#4] Queue Operations"
   ]
  },
  {
   "cell_type": "code",
   "execution_count": null,
   "metadata": {
    "vscode": {
     "languageId": "javascript"
    }
   },
   "outputs": [],
   "source": [
    "class Queue{\n",
    "    // # Initialization\n",
    "    constructor(){\n",
    "        this.data = [];\n",
    "    }\n",
    "\n",
    "    // # TODO: Insert an element to a queue\n",
    "    enqueue(data){\n",
    "        this.data.push(data);\n",
    "    }\n",
    "\n",
    "    // # TODO: Remove element from queue\n",
    "    dequeue(){\n",
    "        this.data.shift()\n",
    "    }\n",
    "\n",
    "    // # TODO: Return front element\n",
    "    front(){\n",
    "        if(this.data.length <= 0){\n",
    "            return 'Queue is empty';\n",
    "        }\n",
    "       return this.data[0]\n",
    "    }\n",
    "\n",
    "    // # TODO: Return rear element\n",
    "    rear(){\n",
    "        if(this.data.length <= 0 ){\n",
    "            return 'Queue is empty';\n",
    "        }\n",
    "        return this.data[this.data.length-1]\n",
    "\n",
    "    }\n",
    "}"
   ]
  },
  {
   "cell_type": "code",
   "execution_count": 12,
   "metadata": {
    "vscode": {
     "languageId": "javascript"
    }
   },
   "outputs": [
    {
     "ename": "AssertionError",
     "evalue": "",
     "output_type": "error",
     "traceback": [
      "\u001b[0;31m---------------------------------------------------------------------------\u001b[0m",
      "\u001b[0;31mAssertionError\u001b[0m                            Traceback (most recent call last)",
      "\u001b[1;32m/Users/naidu/Downloads/Assignment 9A - Stacks & Queues.ipynb Cell 18'\u001b[0m in \u001b[0;36m<cell line: 5>\u001b[0;34m()\u001b[0m\n\u001b[1;32m      <a href='vscode-notebook-cell:/Users/naidu/Downloads/Assignment%209A%20-%20Stacks%20%26%20Queues.ipynb#ch0000018?line=1'>2</a>\u001b[0m queue\u001b[39m.\u001b[39menqueue(\u001b[39m5\u001b[39m)\n\u001b[1;32m      <a href='vscode-notebook-cell:/Users/naidu/Downloads/Assignment%209A%20-%20Stacks%20%26%20Queues.ipynb#ch0000018?line=2'>3</a>\u001b[0m queue\u001b[39m.\u001b[39menqueue(\u001b[39m10\u001b[39m)\n\u001b[0;32m----> <a href='vscode-notebook-cell:/Users/naidu/Downloads/Assignment%209A%20-%20Stacks%20%26%20Queues.ipynb#ch0000018?line=4'>5</a>\u001b[0m \u001b[39massert\u001b[39;00m \u001b[39m5\u001b[39m \u001b[39m==\u001b[39m queue\u001b[39m.\u001b[39mfront()\n\u001b[1;32m      <a href='vscode-notebook-cell:/Users/naidu/Downloads/Assignment%209A%20-%20Stacks%20%26%20Queues.ipynb#ch0000018?line=6'>7</a>\u001b[0m queue\u001b[39m.\u001b[39menqueue(\u001b[39m7\u001b[39m)\n\u001b[1;32m      <a href='vscode-notebook-cell:/Users/naidu/Downloads/Assignment%209A%20-%20Stacks%20%26%20Queues.ipynb#ch0000018?line=7'>8</a>\u001b[0m queue\u001b[39m.\u001b[39menqueue(\u001b[39m1\u001b[39m)\n",
      "\u001b[0;31mAssertionError\u001b[0m: "
     ]
    }
   ],
   "source": [
    "let queue = Queue()\n",
    "queue.enqueue(5)\n",
    "queue.enqueue(10)\n",
    "\n",
    "console.assert(5 == queue.front())\n",
    "\n",
    "queue.enqueue(7)\n",
    "queue.enqueue(1)\n",
    "\n",
    "console.assert(1 == queue.rear())\n",
    "\n",
    "queue.dequeue()\n",
    "queue.dequeue()\n",
    "\n",
    "console.assert(7 == queue.front())\n",
    "\n",
    "queue.dequeue()\n",
    "queue.dequeue()\n",
    "\n",
    "\n",
    "queue.enqueue(1)\n",
    "queue.enqueue(7)\n",
    "\n",
    "console.assert([7,1] == queue.data)\n"
   ]
  },
  {
   "cell_type": "markdown",
   "metadata": {},
   "source": [
    "### ❓ [#5] Valid Parentheses\n",
    "\n",
    "Given a string containing characters '(', ')', '{', '}', '[', ']' and alpha-numeric, determine if the input string is valid.\n",
    "\n",
    "An input string is valid if:\n",
    "- Open brackets must be closed by the same type of brackets.\n",
    "- Open brackets must be closed in the correct order.\n",
    "\n",
    "ℹ️ Note that an empty string is also considered valid.\n",
    "\n",
    "***\n",
    "\n",
    "##### Input Format\n",
    "A string containing '(', ')', '{', '}', '[', ']' and alpha-numeric characters\n",
    "\n",
    "#### Output Format\n",
    "\n",
    "Return Boolean `True` if the `inputString` is Valid.\n",
    "\n",
    "else `False`\n",
    "***\n",
    "Example 1\n",
    "\n",
    "    Input: \"() [] {}\"\n",
    "    Output: True\n",
    "\n",
    "Example 2\n",
    "\n",
    "    Input:\"(]\"\n",
    "    Output: False"
   ]
  },
  {
   "cell_type": "code",
   "execution_count": 12,
   "metadata": {
    "vscode": {
     "languageId": "javascript"
    }
   },
   "outputs": [],
   "source": [
    "const validParathesis = (inputString) => {\n",
    "    if(len(inputString) == 0){\n",
    "        return True\n",
    "    }\n",
    "\n",
    "    let d = {')':'(' , '}':'{' , ']' :'['};\n",
    "    let stack = [];\n",
    "\n",
    "    for(let i = 0; i < inputString.length ;i++){\n",
    "        if(['{','[','('].includes(inputString[i])){\n",
    "            stack.push(inputString[i]);\n",
    "        }else if([')','}',']'].includes(inputString[i])){\n",
    "            if(stack.length > 0 && stack[stack.length-1] == d[inputString[i]]){\n",
    "                stack.pop();\n",
    "            }\n",
    "        }else{\n",
    "            return false\n",
    "        }\n",
    "    return true\n",
    "\n",
    "    }\n",
    "}       "
   ]
  },
  {
   "cell_type": "code",
   "execution_count": 15,
   "metadata": {
    "vscode": {
     "languageId": "javascript"
    }
   },
   "outputs": [],
   "source": [
    "console.assert(validParathesis(\"() [] {}\") == True)\n",
    "console.assert(validParathesis(\"(]\") == False)\n",
    "console.assert(validParathesis(\"(()[]((){[]}))\") == True)"
   ]
  }
 ],
 "metadata": {
  "kernelspec": {
   "display_name": "Python 3.10.8 64-bit",
   "language": "python",
   "name": "python3"
  },
  "language_info": {
   "codemirror_mode": {
    "name": "ipython",
    "version": 3
   },
   "file_extension": ".py",
   "mimetype": "text/x-python",
   "name": "python",
   "nbconvert_exporter": "python",
   "pygments_lexer": "ipython3",
   "version": "3.10.8"
  },
  "orig_nbformat": 4,
  "vscode": {
   "interpreter": {
    "hash": "26de051ba29f2982a8de78e945f0abaf191376122a1563185a90213a26c5da77"
   }
  }
 },
 "nbformat": 4,
 "nbformat_minor": 2
}
