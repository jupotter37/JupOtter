{
 "cells": [
  {
   "cell_type": "markdown",
   "id": "83a923a6-8b46-4c17-8f6c-54b111de7073",
   "metadata": {},
   "source": [
    "## One-Sample T-Test in Python Example\n"
   ]
  },
  {
   "cell_type": "markdown",
   "id": "6bdce326-9011-4b96-8891-90ce8b01f2aa",
   "metadata": {},
   "source": [
    "For instance, consider a hypothetical scenario where we have test scores from a sample of students and we want to compare the mean of these scores with a hypothesized population mean. Let’s assume the population mean is 70.\n",
    "In this context, our null hypothesis is that the mean score of our sample is equal to 70 (the population mean). The alternative hypothesis is that the sample mean is not equal to the population mean."
   ]
  },
  {
   "cell_type": "code",
   "execution_count": 1,
   "id": "0bb75b83-8acf-4f5d-83c1-78cc66a072c8",
   "metadata": {},
   "outputs": [],
   "source": [
    "import numpy as np\n",
    "from scipy import stats"
   ]
  },
  {
   "cell_type": "code",
   "execution_count": 2,
   "id": "15ec6006-4a31-40fe-92b9-78097da7452c",
   "metadata": {},
   "outputs": [],
   "source": [
    "student_scores = np.array([72, 89, 65, 73, 79, 84, 63, 76, 85, 75])\n",
    "mu = 70\n"
   ]
  },
  {
   "cell_type": "code",
   "execution_count": 3,
   "id": "ad59df44-40c6-4229-a65d-c49bebab1d97",
   "metadata": {},
   "outputs": [
    {
     "name": "stdout",
     "output_type": "stream",
     "text": [
      "T statistic: 2.2894683580127317\n",
      "P-value: 0.047816221110566944\n"
     ]
    }
   ],
   "source": [
    "t_stat, p_value = stats.ttest_1samp(student_scores, mu)\n",
    "print(\"T statistic:\", t_stat)\n",
    "print(\"P-value:\", p_value)"
   ]
  },
  {
   "cell_type": "code",
   "execution_count": 4,
   "id": "f032b8ae-9786-460d-b8b0-497bc32948da",
   "metadata": {},
   "outputs": [],
   "source": [
    "alpha = 0.05\n"
   ]
  },
  {
   "cell_type": "code",
   "execution_count": 5,
   "id": "f8f2c3c6-a972-425d-8341-b11bd0fd8b75",
   "metadata": {},
   "outputs": [
    {
     "name": "stdout",
     "output_type": "stream",
     "text": [
      "Reject the null hypothesis; there is a significant difference between the sample mean and the hypothesized population mean.\n"
     ]
    }
   ],
   "source": [
    "if p_value < alpha:\n",
    "    print(\"Reject the null hypothesis; there is a significant difference between the sample mean and the hypothesized population mean.\")\n",
    "else:\n",
    "    print(\"Fail to reject the null hypothesis; there is no significant difference between the sample mean and the hypothesized population mean.\")\n"
   ]
  },
  {
   "cell_type": "markdown",
   "id": "6dc43921-3c8f-4193-a44d-8612d0e8789d",
   "metadata": {},
   "source": [
    "## Two-Sample T-Test in Python Example\n"
   ]
  },
  {
   "cell_type": "code",
   "execution_count": 6,
   "id": "70c9dfa2-f589-412f-8cd8-acce88616e92",
   "metadata": {},
   "outputs": [],
   "source": [
    "import seaborn as sns\n",
    "import numpy as np\n",
    "from scipy import stats\n"
   ]
  },
  {
   "cell_type": "code",
   "execution_count": 7,
   "id": "19428a34-2bba-4800-93b7-899da8ef0977",
   "metadata": {},
   "outputs": [],
   "source": [
    "iris = sns.load_dataset('iris')"
   ]
  },
  {
   "cell_type": "code",
   "execution_count": 8,
   "id": "94011ea8-e964-4abb-a2fe-02aa7305cf67",
   "metadata": {},
   "outputs": [],
   "source": [
    "setosa = iris[iris['species'] == 'setosa']\n",
    "versicolor = iris[iris['species'] == 'versicolor']"
   ]
  },
  {
   "cell_type": "code",
   "execution_count": 9,
   "id": "187e4a49-723a-4588-b80a-c2ed02c3a26a",
   "metadata": {},
   "outputs": [],
   "source": [
    "setosa_petal_lengths = setosa['petal_length']\n",
    "versicolor_petal_lengths = versicolor['petal_length']"
   ]
  },
  {
   "cell_type": "code",
   "execution_count": 10,
   "id": "74fc8fdb-cdca-44df-b0af-01936d69b13b",
   "metadata": {},
   "outputs": [],
   "source": [
    "t_stat, p_value = stats.ttest_ind(setosa_petal_lengths, versicolor_petal_lengths)\n"
   ]
  },
  {
   "cell_type": "code",
   "execution_count": 12,
   "id": "e949f5d4-1b18-431a-bca6-8b3562d1098f",
   "metadata": {},
   "outputs": [
    {
     "name": "stdout",
     "output_type": "stream",
     "text": [
      "Reject the null hypothesis; there is a significant difference between the petal lengths of Iris setosa and Iris versicolor.\n"
     ]
    }
   ],
   "source": [
    "alpha = 0.05\n",
    "if p_value < alpha:\n",
    "    print(\"Reject the null hypothesis; there is a significant difference between the petal lengths of Iris setosa and Iris versicolor.\")\n",
    "else:\n",
    "    print(\"Fail to reject the null hypothesis; there is no significant difference between the petal lengths of Iris setosa and Iris versicolor.\")"
   ]
  },
  {
   "cell_type": "code",
   "execution_count": 17,
   "id": "d4a0bab5-9b19-4e94-a603-2e88e0cda997",
   "metadata": {},
   "outputs": [],
   "source": [
    "setosa = iris[iris['species'] == 'setosa']\n",
    "versicolor = iris[iris['species'] == 'versicolor']"
   ]
  },
  {
   "cell_type": "code",
   "execution_count": 18,
   "id": "be9aef2e-9c08-49e0-a3a0-3c8671ec9c4c",
   "metadata": {},
   "outputs": [],
   "source": [
    "setosa_petal_width = setosa['petal_length']\n",
    "versicolor_petal_width = versicolor['petal_length']"
   ]
  },
  {
   "cell_type": "code",
   "execution_count": 19,
   "id": "6e6528dc-d7fa-4117-8738-16a8502b8903",
   "metadata": {},
   "outputs": [],
   "source": [
    "t_stat, p_value = stats.ttest_ind(setosa_petal_width, versicolor_petal_width)\n"
   ]
  },
  {
   "cell_type": "code",
   "execution_count": 20,
   "id": "4ec53ad2-0bb9-4df6-8393-1cb1c0423ffa",
   "metadata": {},
   "outputs": [
    {
     "name": "stdout",
     "output_type": "stream",
     "text": [
      "Reject the null hypothesis; there is a significant difference between the petal lengths of Iris setosa and Iris versicolor.\n"
     ]
    }
   ],
   "source": [
    "alpha = 0.05\n",
    "if p_value < alpha:\n",
    "    print(\"Reject the null hypothesis; there is a significant difference between the petal lengths of Iris setosa and Iris versicolor.\")\n",
    "else:\n",
    "    print(\"Fail to reject the null hypothesis; there is no significant difference between the petal lengths of Iris setosa and Iris versicolor.\")"
   ]
  },
  {
   "cell_type": "code",
   "execution_count": 28,
   "id": "e998d7e4-6c27-4231-b8fd-ac1566673ba2",
   "metadata": {},
   "outputs": [],
   "source": [
    "setosa = iris[iris['species'] == 'setosa']\n",
    "Virginica = iris[iris['species'] == 'Virginica']"
   ]
  },
  {
   "cell_type": "code",
   "execution_count": 29,
   "id": "2c9aca38-bb6b-4304-ba1f-8d379f2a4486",
   "metadata": {},
   "outputs": [],
   "source": [
    "setosa_petal_width = setosa['petal_length']\n",
    "versicolor_petal_width = Virginica['petal_length']"
   ]
  },
  {
   "cell_type": "code",
   "execution_count": 48,
   "id": "fcb06dd7-5323-4c6d-bdc6-205954e10dc8",
   "metadata": {},
   "outputs": [
    {
     "name": "stdout",
     "output_type": "stream",
     "text": [
      "[10, 20, 30]\n",
      "30\n",
      "[10, 20]\n",
      "[10]\n",
      "10\n",
      "None\n",
      "[]\n"
     ]
    }
   ],
   "source": [
    "# write a simple and short program to implement stack add function pop,push,delete using python\n",
    "\n",
    "def stack():\n",
    "    stack.push(10)\n",
    "    \n",
    "    def __init__(self):\n",
    "        self.stack = []\n",
    "\n",
    "    def push(self, item):\n",
    "        self.stack.append(item)\n",
    "\n",
    "    def pop(self):\n",
    "        return self.stack.pop() if self.stack else None\n",
    "\n",
    "    def delete(self):\n",
    "        if self.stack:\n",
    "            self.stack.pop()\n",
    "\n",
    "    def is_empty(self):\n",
    "        return not self.stack\n",
    "\n",
    "stack = Stack()\n",
    "stack.push(10)\n",
    "stack.push(20)\n",
    "stack.push(30)\n",
    "print(stack.stack)  \n",
    "print(stack.pop()) \n",
    "print(stack.stack)  \n",
    "stack.delete()\n",
    "print(stack.stack)  \n",
    "print(stack.pop())  \n",
    "print(stack.pop())  \n",
    "print(stack.stack)  "
   ]
  },
  {
   "cell_type": "code",
   "execution_count": 76,
   "id": "6cb64bd4-8c33-4a4b-b2c9-f3baef3d2665",
   "metadata": {},
   "outputs": [
    {
     "name": "stdout",
     "output_type": "stream",
     "text": [
      "11 -> 12 -> 13 -> None\n"
     ]
    }
   ],
   "source": [
    "# Linked list \n",
    "\n",
    "class Node:\n",
    "    def __init__(self, data):\n",
    "        self.data = data\n",
    "        self.next = None  \n",
    "        \n",
    "class LinkedList:\n",
    "    def __init__(self):\n",
    "        self.head = None  \n",
    "        \n",
    "    def append(self, data):\n",
    "        new_node = Node(data)\n",
    "        if not self.head:\n",
    "            self.head = new_node\n",
    "            return\n",
    "        last_node = self.head\n",
    "        while last_node.next:\n",
    "            last_node = last_node.next\n",
    "        last_node.next = new_node\n",
    "        \n",
    "    def Display(self):\n",
    "        current_node = self.head\n",
    "        while current_node:\n",
    "            print(current_node.data, end=\" -> \")\n",
    "            current_node = current_node.next\n",
    "        print(\"None\")\n",
    "\n",
    "llist = LinkedList()\n",
    "llist.append(11)\n",
    "llist.append(12)\n",
    "llist.append(13)\n",
    "llist.Display()\n"
   ]
  },
  {
   "cell_type": "code",
   "execution_count": 77,
   "id": "eb949ac4-3290-40a5-ad31-a6dae9723d14",
   "metadata": {},
   "outputs": [
    {
     "name": "stdout",
     "output_type": "stream",
     "text": [
      "Initial queue\n",
      "['a', 'b', 'c']\n",
      "\n",
      "Elements dequeued from queue\n",
      "a\n",
      "b\n",
      "c\n",
      "\n",
      "Queue after removing elements\n",
      "[]\n"
     ]
    }
   ],
   "source": [
    "# create a simple program for queue in python\n",
    "\n",
    "queue = []\n",
    "queue.append('a')\n",
    "queue.append('b')\n",
    "queue.append('c')\n",
    "print(\"Initial queue\")\n",
    "print(queue)\n",
    "print(\"\\nElements dequeued from queue\")\n",
    "print(queue.pop(0))\n",
    "print(queue.pop(0))\n",
    "print(queue.pop(0))\n",
    "print(\"\\nQueue after removing elements\")\n",
    "print(queue)\n"
   ]
  },
  {
   "cell_type": "code",
   "execution_count": null,
   "id": "88f98f34-7ffa-44cd-83ae-9b6f7d2468f1",
   "metadata": {},
   "outputs": [],
   "source": []
  }
 ],
 "metadata": {
  "kernelspec": {
   "display_name": "Python 3 (ipykernel)",
   "language": "python",
   "name": "python3"
  },
  "language_info": {
   "codemirror_mode": {
    "name": "ipython",
    "version": 3
   },
   "file_extension": ".py",
   "mimetype": "text/x-python",
   "name": "python",
   "nbconvert_exporter": "python",
   "pygments_lexer": "ipython3",
   "version": "3.11.9"
  }
 },
 "nbformat": 4,
 "nbformat_minor": 5
}
