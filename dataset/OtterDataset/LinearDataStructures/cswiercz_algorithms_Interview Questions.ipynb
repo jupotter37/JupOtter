{
 "cells": [
  {
   "cell_type": "markdown",
   "metadata": {},
   "source": [
    "# 1.1 Is Unique\n",
    "\n",
    "Implement an algorihtm to determine if a string has all unique characters. What if we cannot use additional data structures?\n",
    "\n",
    "## Answer - Hash Table / Dictionary\n",
    "\n",
    "* uniqueness checking = use a hash table\n",
    "* hash a character. if it's already in the hash table then we've seen it before and return false. otherwise return true\n",
    "* runtime:\n",
    "  * hash a character: O(1)\n",
    "  * n characters -> O(n)\n",
    "  * do this once on a string"
   ]
  },
  {
   "cell_type": "code",
   "execution_count": 1,
   "metadata": {
    "collapsed": false
   },
   "outputs": [],
   "source": [
    "from collections import defaultdict\n",
    "\n",
    "def is_unique(string):\n",
    "    d = defaultdict(int)\n",
    "    for character in string:\n",
    "        index = hash(character)\n",
    "        if d[index]:\n",
    "            return False\n",
    "        \n",
    "        d[index] = 1\n",
    "    return True\n",
    "\n",
    "# tests\n",
    "assert(is_unique('a'))\n",
    "assert(is_unique(''))\n",
    "assert(is_unique('abc'))\n",
    "assert(not is_unique('aa'))\n",
    "assert(not is_unique('hotelmotelholidayinn'))"
   ]
  },
  {
   "cell_type": "markdown",
   "metadata": {},
   "source": [
    "## Can we do better?\n",
    "\n",
    "*Time*: No. At the very least each character needs to be visited.\n",
    "\n",
    "*Memory*: Maybe.\n",
    "\n",
    "## Book Answer\n",
    "\n",
    "* Uses a fixed length array O(n)\n",
    "* Also uses a bit vector of length \n",
    "* No additional data strctures:\n",
    "  * O(n^2) --- compare everything with everything after it\n",
    "  * O(n log(n)) + O(n) --- sort and then compare neighbors\n",
    "  \n",
    "### Side Note: Python's Sorting Algorithm\n",
    "\n",
    "Python uses [timsort](https://en.wikipedia.org/wiki/Timsort)\n",
    "* Time:\n",
    "  * $O(n)$ best\n",
    "  * $O(n \\log(n))$ average\n",
    "  * $O(n \\log(n))$ worst\n",
    "* Memory: $O(n)$"
   ]
  },
  {
   "cell_type": "code",
   "execution_count": null,
   "metadata": {
    "collapsed": false
   },
   "outputs": [],
   "source": []
  },
  {
   "cell_type": "markdown",
   "metadata": {},
   "source": [
    "## 1.2 Check Permutation\n",
    "\n",
    "Given two strings, write a method to decide if one is a permutation of the other.\n",
    "\n",
    "## Solution\n",
    "\n",
    "Can also be solved by a hash table: keys = h(characters), values = #occurrences in `s1`. After processing `s1` you next process the characters `c` in `s2`.\n",
    "* if `c` is not in the hash table: return False\n",
    "* if `c` is in the hash table:\n",
    "    if d[`c`] == 0: return false\n",
    "    else: d[`c`] -= 1\n",
    "\n",
    "**Complexity**\n",
    "* Time: $2n = O(n)$\n",
    "  * n hash stores ($O(1)$ each) in `s1`, n hashes in `s2`\n",
    "* Memory: $n = O(n)$\n",
    "  * best case: $1 = O(1)$ (both strings contain only one letter)\n",
    "  * worst case: $n = O(n)$. ($n$ different letters)"
   ]
  },
  {
   "cell_type": "code",
   "execution_count": 2,
   "metadata": {
    "collapsed": false
   },
   "outputs": [],
   "source": [
    "from collections import defaultdict\n",
    "\n",
    "def is_permutation(s1, s2):\n",
    "    # first check if s1 and s2 are same length\n",
    "    if len(s1) != len(s2):\n",
    "        return False\n",
    "    \n",
    "    d = defaultdict(int)\n",
    "    \n",
    "    # store s1\n",
    "    for c in s1:\n",
    "        d[c] += 1\n",
    "        \n",
    "    # compare with s2\n",
    "    for c in s2:\n",
    "        if not d[c]:\n",
    "            return False\n",
    "        else:\n",
    "            d[c] -= 1\n",
    "    return True\n",
    "\n",
    "# tests\n",
    "assert(is_permutation('', ''))\n",
    "assert(is_permutation('a', 'a'))\n",
    "assert(is_permutation('ab', 'ba'))\n",
    "assert(is_permutation('abc', 'cab'))\n",
    "assert(not is_permutation('abc', 'caa'))\n",
    "assert(not is_permutation('abc', ''))\n",
    "assert(not is_permutation('', 'abc'))\n"
   ]
  },
  {
   "cell_type": "markdown",
   "metadata": {},
   "source": [
    "### Can we reduce constant factor from subtraction?\n",
    "\n",
    "We can use a null stack and pop.\n",
    "\n",
    "* Memory: $O(n)$\n",
    "  * worst case: $n = O(n)$ (even if there is only one letter you need $n$ list elements to track the occurrences\n",
    "  * best case: $n$\n",
    "  \n",
    "However, the memory operations to create a stack node may take longer than integer arithmetic. (1 cycle for addition)"
   ]
  },
  {
   "cell_type": "code",
   "execution_count": 3,
   "metadata": {
    "collapsed": true
   },
   "outputs": [],
   "source": [
    "from collections import defaultdict\n",
    "\n",
    "def is_permutation(s1, s2):\n",
    "    # first check if s1 and s2 are same length\n",
    "    if len(s1) != len(s2):\n",
    "        return False\n",
    "    \n",
    "    d = defaultdict(list)\n",
    "    \n",
    "    # store s1\n",
    "    for c in s1:\n",
    "        d[c].append(None)\n",
    "        \n",
    "    # compare with s2\n",
    "    for c in s2:\n",
    "        if not d[c]:\n",
    "            return False\n",
    "        else:\n",
    "            d[c].pop()\n",
    "    return True\n",
    "\n",
    "# tests\n",
    "assert(is_permutation('', ''))\n",
    "assert(is_permutation('a', 'a'))\n",
    "assert(is_permutation('ab', 'ba'))\n",
    "assert(is_permutation('abc', 'cab'))\n",
    "assert(not is_permutation('abc', 'caa'))\n",
    "assert(not is_permutation('abc', ''))\n",
    "assert(not is_permutation('', 'abc'))\n",
    "\n"
   ]
  },
  {
   "cell_type": "markdown",
   "metadata": {},
   "source": [
    "# 1.9 String Rotation\n",
    "\n",
    "Assume you have a method `isSubstring` which checks is one word is a substring of antoher. Given two strings, `s1`, and `s2`, write code to check if `s2` is a rotation of `s1` using only one call to `isSubstring` (e.g. `waterbottle` is a rotation of `erbottlewat`.)\n",
    "\n",
    "## Attempt\n",
    "\n",
    "We might first assume that we can take, say, the first four letters of `waterbottle` and check if it's a substring of `s2`. However, this wouldn't work since `wate` is not a substring of `s2`.\n",
    "\n",
    "Consider the first character of `s1` and find all the positions in `s2` where the character occurs. Store indices in queue.\n",
    "* $O(n)$ operation\n",
    "\n",
    "Now take the second character of `s1`. dequeue an index `i` and check if `i+1 % n` of `s2` is equal to the character. If so, enqueue `i+1 % n`. Otherwise, discard.\n",
    "* $O(n)$ operation\n",
    "\n",
    "Problem: we need to keep track of old and new parts. Use two queues?\n",
    "\n",
    "Repeat: need to do this $n$ times so this is an $O(n^2)$ solution."
   ]
  },
  {
   "cell_type": "code",
   "execution_count": 4,
   "metadata": {
    "collapsed": false
   },
   "outputs": [],
   "source": [
    "def is_rotation(s1, s2):\n",
    "    n = len(s1)\n",
    "    if n != len(s2):\n",
    "        return False\n",
    "    \n",
    "    # get the indices in s2 matching s1[0]\n",
    "    current = [i for i in range(n) if s1[0] == s2[i]]\n",
    "    for k in range(1,n):\n",
    "        # get the indices in s2 matching s1[i]\n",
    "        next = [(i+1) % n for i in current if s1[k] == s2[(i+1) % n]]\n",
    "        current = next\n",
    "        \n",
    "        if current == []:\n",
    "            return False\n",
    "        \n",
    "    return True\n",
    "    \n",
    "    \n",
    "# tests\n",
    "assert(is_rotation('abc', 'abc'))\n",
    "assert(is_rotation('abc', 'cab'))\n",
    "assert(is_rotation('waterbottle', 'erbottlewat'))\n",
    "assert(is_rotation('aaabbbccc', 'aabbbccca'))\n",
    "\n",
    "assert(not is_rotation('abc', 'acb'))\n",
    "\n",
    "def shift_check(s1):\n",
    "    n = len(s1)\n",
    "    for k in range(n):\n",
    "        s2 = s1[:n] + s1[n:]\n",
    "        assert(is_rotation(s1,s2))\n",
    "        \n",
    "shift_check('banana')\n",
    "shift_check('abracadabra')\n",
    "shift_check('puppymonkeybaby')\n",
    "shift_check('aaaaaaaaaaaaah')"
   ]
  },
  {
   "cell_type": "markdown",
   "metadata": {},
   "source": [
    "The worst case is when the string consists of `n` equal characters.\n",
    "\n",
    "## Anything Faster?\n",
    "\n",
    "Hint: try concatenating `s2` with itself.\n",
    "\n",
    "## Solution\n",
    "\n",
    "if `s1` splits into two parts `x` and `y` such that `xy = s1` and `yx = s2` then we're done. However, `yx` is always a substring of `xyxy = s1s1`. So the solution is to do\n",
    "\n",
    "`is_substring(s1s1, s2)`"
   ]
  },
  {
   "cell_type": "markdown",
   "metadata": {},
   "source": [
    "# Random Problem - p. 67\n",
    "\n",
    "Given an array of distinct integer values, count the number of pairs of integers that have difference `k`. For example, given `{1, 7, 5, 9, 2, 12, 3}` and `k = 2` there are four pairs with difference 2: `(1,3), (3,5), (5,7), (7,9)`.\n",
    "\n",
    "# My Solution\n",
    "\n",
    "Easier to determine differences after sorting: check current and next. \n",
    "* sorting: $O(n \\log n)$\n",
    "* checking: single forward scan $O(n)$\n",
    "* ==> $O(n \\log n)$\n",
    "\n",
    "Is there an approach faster than $O(n \\log n)$?\n",
    "\n",
    "`a - b = k iff h(a-b) = h(k) iff h(a) == h(k+b)`\n",
    "\n",
    "One approach is to take the array, `arr`, and the shfited array `arr + k`. hash the elements of `arr` and the hash the elements of `arr + k`. If there is collision then we found a pair.\n",
    "\n",
    "Does it matter that `a > b`\n",
    "\n",
    "`a - b < 0 ==> b - a > 0 ==> b - a == k iff b == k + a iff h(b) = h(k+a)`\n",
    "\n",
    "but we end up computing h(b) anyway from `arr` and `h(k+a)` from `arr + k`. So we shouldn't have to check for which is greater or not.\n",
    "\n",
    "**Complexity**\n",
    "\n",
    "* Total 2n hashes computed: Time = $O(n)$\n",
    "* Only n hashes stored: Mem = $O(n)$"
   ]
  },
  {
   "cell_type": "code",
   "execution_count": 5,
   "metadata": {
    "collapsed": false
   },
   "outputs": [
    {
     "name": "stdout",
     "output_type": "stream",
     "text": [
      "4\n"
     ]
    }
   ],
   "source": [
    "from collections import defaultdict\n",
    "\n",
    "def f(arr, k):\n",
    "    d = defaultdict(int)\n",
    "    num_pairs = 0\n",
    "    \n",
    "    for a in arr:\n",
    "        d[hash(a)] = 1\n",
    "        \n",
    "    for b in arr:\n",
    "        if d[hash(b+k)]:\n",
    "            num_pairs += 1\n",
    "            \n",
    "    return num_pairs\n",
    "\n",
    "arr = [1, 7, 5, 9, 2, 12, 3]\n",
    "print f(arr, 2)"
   ]
  },
  {
   "cell_type": "markdown",
   "metadata": {},
   "source": [
    "# Random Problem - p. 70\n",
    "\n",
    "Given a smaller string `s` and a bigger string `b` design an algorithm to find all permutations of the shorter string within the longer one. Print the location of each permutation.\n",
    "\n",
    "## My Solution\n",
    "\n",
    "The wrong way: create a list of all permutations of `s` and perform a linear search on `b` for each one. $O(|b|\\;|s|!)$\n",
    "\n",
    "Create a hash table with `character of s` |-> `number of occurrences`. Then, starting at the first character of `b` scan up to `|s|` spaces and decrement the corresponding number of occurences:\n",
    "* if there is a key error, break and move to one past the key error (any subsequent words won't work until afterwards)\n",
    "* if by the time we reach |s| increment by one and repeat\n",
    "* otherwise, if we reach |s| and the number of occurrences is now zero we add the index to the list\n",
    "\n",
    "example\n",
    "\n",
    "`s = cat`\n",
    "`b = tacocat`\n",
    "\n",
    "output\n",
    "\n",
    "`0,4`\n",
    "\n",
    "**Analysis**\n",
    "\n",
    "* Creation of `s` hash table: $O(s)$\n",
    "* Scanning each `|s|` block of text in `b`: $O(s)$\n",
    "* Number of substrings we need to check: $O(b-s)$\n",
    "* Total: $O(s(b-s)) = O(sb)$\n",
    "* Skipping trick (constant factor)"
   ]
  },
  {
   "cell_type": "code",
   "execution_count": 6,
   "metadata": {
    "collapsed": false
   },
   "outputs": [],
   "source": [
    "from collections import defaultdict\n",
    "\n",
    "def all_permutations(s, b):\n",
    "    d = defaultdict(int)\n",
    "    \n",
    "    # build the s-character dictionary\n",
    "    for char in s:\n",
    "        d[char] += 1\n",
    "        \n",
    "    # start scanning\n",
    "    indices = []\n",
    "    n = len(b) - len(s) + 1\n",
    "    s = len(s)\n",
    "    for i in range(n):\n",
    "        # we want a copy since Python assigns dictionaries by reference\n",
    "        d_pass = d.copy()\n",
    "        \n",
    "        is_substring = True\n",
    "        for j in range(s):\n",
    "            char = b[i+j]\n",
    "            if d_pass[char] > 0:\n",
    "                d_pass[char] -= 1\n",
    "            else:\n",
    "                is_substring = False\n",
    "                break\n",
    "                \n",
    "        if is_substring:\n",
    "            indices.append(i)\n",
    "            \n",
    "    return indices\n",
    "            \n",
    "# tests\n",
    "\n",
    "assert(all_permutations('a', 'a') == [0])\n",
    "assert(all_permutations('a', 'aa') == [0,1])\n",
    "assert(all_permutations('a', 'aaa') == [0,1,2])\n",
    "assert(all_permutations('a', 'aba') == [0,2])\n",
    "assert(all_permutations('ab', 'abcba') == [0,3])\n",
    "assert(all_permutations('bc', 'abcba') == [1,2])\n",
    "\n",
    "assert(all_permutations('cat', 'tacocat') == [0,4])\n",
    "\n"
   ]
  },
  {
   "cell_type": "markdown",
   "metadata": {},
   "source": [
    "## Alternate Approach\n",
    "\n",
    "I'm thinking we might be able to get this down to $O(b-s) + O(s)$ by using a \"scanner approach\".\n",
    "\n",
    "`s = bat`\n",
    "\n",
    "`b = otbafabstab`\n",
    "\n",
    "`otbafabstab` should output `[1, 8]`\n",
    "\n",
    "* intialize on first s: count the number of matching letters\n",
    "\n",
    "no. this will still be O(s(b-s)) time. "
   ]
  },
  {
   "cell_type": "code",
   "execution_count": null,
   "metadata": {
    "collapsed": false
   },
   "outputs": [],
   "source": []
  },
  {
   "cell_type": "markdown",
   "metadata": {},
   "source": [
    "# EPI - Problem 6.8\n",
    "\n",
    "Design an algorithm that takes a sequence of n three-dimensional coordinates to be traversed and return sthe minimum battery capacity needed to complete the journey. The robot begins with the battery fully charged.\n",
    "\n",
    "## My Solution\n",
    "\n",
    "`pi = (xi,yi,zi)`\n",
    "\n",
    "Note that the x,y coordinates don't matter since recharging is a function of potential energy, not slope. Therefore, the problem can be rephrased as\n",
    "\n",
    "> \"Given `[z1, ..., zn]` heights the robot spends / accumulates energy by travelling from `zi` to `zj` which is proportional to `zi - zj`. (If `zj > zi` then the robot spends energy and vice versa.) Find a sequence of `zi`'s that minimized the amount of energy spent.\n",
    "\n",
    "By visiting `z_i1`, `z_i2`, ..., `z_in` the robot's net energy is `(z_i1 - z_i2) + (z_i2 - z_i3) + ... + (z_i(n-1) - z_in) = (z_i1 - z_in)`. Therefore, **for a given sequence, `z`,** the difference of the first and last elements of the sequence is the amount of energy spent.\n",
    "\n",
    "...\n",
    "\n",
    "This problem statement is a confusing version of the max-difference problem:\n",
    "\n",
    "> Given stock prices `s[i]` find the indices `i < j` such that `s[j] - s[i]` is maximized. Return the maximized value.(Buy low and sell high.)\n",
    "\n",
    "**Brute force:** Compute all pairwise differences."
   ]
  },
  {
   "cell_type": "code",
   "execution_count": 7,
   "metadata": {
    "collapsed": false
   },
   "outputs": [],
   "source": [
    "def max_difference(s):\n",
    "    value = 0\n",
    "    n = len(s)\n",
    "    for i in range(n):\n",
    "        for j in range(i,n):\n",
    "            diff = s[j] - s[i]\n",
    "            if diff > value:\n",
    "                value = diff\n",
    "                \n",
    "    return value\n",
    "                \n",
    "s = [3, 6, 2, 4, 10, 8, 1]\n",
    "assert(max_difference(s) == 8)"
   ]
  },
  {
   "cell_type": "markdown",
   "metadata": {},
   "source": [
    "**Better approach:** Observe that on a given day `j` the max profit can be obtained by having bought on the minimum of the previous days `i`. Time $O(n)$. Space $O(1)$."
   ]
  },
  {
   "cell_type": "code",
   "execution_count": 8,
   "metadata": {
    "collapsed": false
   },
   "outputs": [],
   "source": [
    "def max_difference(s):\n",
    "    # need at least two elements to compare\n",
    "    n = len(s)\n",
    "    assert(n > 1)\n",
    "    \n",
    "    max_diff = 0\n",
    "    current_diff = 0\n",
    "    min_price = s[0]\n",
    "    for i in range(1,n):\n",
    "        current_diff = s[i] - min_price\n",
    "        if (s[i] - min_price) > max_diff:\n",
    "            max_diff = current_diff\n",
    "        elif s[i] < min_price:\n",
    "            min_price = s[i]\n",
    "            \n",
    "    return max_diff\n",
    "            \n",
    "s = [3, 6, 2, 4, 10, 8, 1]\n",
    "assert(max_difference(s) == 8)"
   ]
  },
  {
   "cell_type": "markdown",
   "metadata": {},
   "source": [
    "# Generalization of Max Profit Problem\n",
    "\n",
    "Original problem:\n",
    "\n",
    "> Given a time series of prices, `s`, find the maximum difference `s[j] - s[i]` where `i < j`. (Buy at `i` sell at `j`.)\n",
    "\n",
    "Next step generalization:\n",
    "\n",
    "> Given a time series of stock prices, `s`, assume you can buy and sell twice but you must sell first before you can buy again. What is the maximum profit that can be made?\n",
    "\n",
    "## My Solution\n",
    "\n",
    "The max difference code above can be used to construct an $O(n^2)$ solution. Let `max_difference_bounded(s, i, j)` be the max difference occuring starting at `s[i]` and ending (inclusive) at `s[j]`. The strategy, then, is for each `i` to partition the array into two arrays `s[0..i]` and `s[(i+1)..n]` and compute the sum of the max differences on each partition.\n",
    "\n",
    "Example:\n",
    "\n",
    "`[2, 3, 10, 6, 4, 8, 1] -> (10-2 = 8) + (8-4 = 4) = 12`\n",
    "\n",
    "Example:\n",
    "\n",
    "`[7, 9, 5, 6, 3, 2] -> (9-7 = 2) + (6-5 = 1) = 3`"
   ]
  },
  {
   "cell_type": "code",
   "execution_count": 9,
   "metadata": {
    "collapsed": false
   },
   "outputs": [],
   "source": [
    "def max_difference_bounded(s, i, j):\n",
    "    return max_difference(s[i:j])\n",
    "\n",
    "def max_difference_two_buys(s):\n",
    "    n = len(s)\n",
    "    assert(n > 2)\n",
    "    \n",
    "    max_diff = 0;\n",
    "    for i in range(1,n-1):\n",
    "        diff = max_difference_bounded(s, 0, i+1) + max_difference_bounded(s, i, n)\n",
    "        if diff > max_diff:\n",
    "            max_diff = diff\n",
    "            \n",
    "    return max_diff\n",
    "\n",
    "l = [2, 3, 10, 6, 4, 8, 1]\n",
    "assert(max_difference_two_buys(l) == 12)\n",
    "\n",
    "l = [7, 9, 5, 6, 3, 2]\n",
    "assert(max_difference_two_buys(l) == 3)"
   ]
  },
  {
   "cell_type": "markdown",
   "metadata": {},
   "source": [
    "**Greedy Approach**\n",
    "\n",
    "Here's a possible solution in $3n = O(n)$ time: rewrite the `max_difference` algorithm to return the indices `i,j` where `s[j] - s[i]` are maximized. The max difference therefore occurs in the intervals `[0,j]` and `[i,n]`. If the former case, add to it the max difference in `[j+1,n]` and in the latter add to it the max difference in `[0,i-1]`. Take the max of these two."
   ]
  },
  {
   "cell_type": "code",
   "execution_count": 10,
   "metadata": {
    "collapsed": false
   },
   "outputs": [],
   "source": [
    "def max_difference(s):\n",
    "    # need at least two elements to compare\n",
    "    n = len(s)\n",
    "    if n < 2:\n",
    "        return 0, 0, 0\n",
    "    \n",
    "    max_diff = 0\n",
    "    min_price = s[0]\n",
    "    buy_index = 0\n",
    "    sell_index = n+1\n",
    "    for i in range(1,n):\n",
    "        diff = s[i] - min_price\n",
    "        if (diff > max_diff):\n",
    "            max_diff = diff\n",
    "            if i > buy_index:\n",
    "                sell_index = i            \n",
    "        elif (s[i] < min_price):\n",
    "            min_price = s[i]\n",
    "            if i < sell_index:\n",
    "                buy_index = i\n",
    "            \n",
    "    return max_diff, buy_index, sell_index\n",
    "\n",
    "# test new max_difference\n",
    "l = [2, 3, 10, 6, 4, 8, 1]\n",
    "diff, i, j = max_difference(l)\n",
    "assert(diff == 8)\n",
    "assert(i == 0)\n",
    "assert(j == 2)\n",
    "\n",
    "l = [7, 9, 5, 6, 3, 2]\n",
    "diff, i, j = max_difference(l)\n",
    "assert(diff == 2)\n",
    "assert(i == 0)\n",
    "assert(j == 1)\n",
    "\n",
    "l = [8, 6, 2, 3, 10, 6, 4, 1, 3]\n",
    "diff, i, j = max_difference(l)\n",
    "assert(diff == 8)\n",
    "assert(i == 2)\n",
    "assert(j == 4)\n",
    "\n",
    "def max_difference_two_buys(s):\n",
    "    n = len(s)\n",
    "    max_diff, i, j = max_difference(s)\n",
    "    \n",
    "    if i > 0:\n",
    "        other_diff_1, _, _ = max_difference(s[:i])\n",
    "    else:\n",
    "        other_diff_1 = 0\n",
    "        \n",
    "    if j < n:\n",
    "        other_diff_2, _, _ = max_difference(s[(j+1):])\n",
    "    else:\n",
    "        other_diff_2 = 0\n",
    "    \n",
    "    max_diff += max(other_diff_1, other_diff_2)\n",
    "    return max_diff\n",
    "\n",
    "l = [2, 3, 10, 6, 4, 8, 1]\n",
    "assert(max_difference_two_buys(l) == 12)\n",
    "\n",
    "l = [7, 9, 5, 6, 3, 2]\n",
    "assert(max_difference_two_buys(l) == 3)\n",
    "\n",
    "l = [8, 2, 3, 10, 6, 4, 1, 3]\n",
    "assert(max_difference_two_buys(l) == 10)"
   ]
  },
  {
   "cell_type": "markdown",
   "metadata": {},
   "source": [
    "# Cracking  - Problem 16.2 p. 181\n",
    "\n",
    "Design a method to find the frequency of occurrences of any given word in a book. What is we were running this algorithm multiple times?\n",
    "\n",
    "## My Solution\n",
    "\n",
    "Implementation of `find_word(word, text)` is `O(kn)` where `k = len(word)` and `n = len(text)`:\n",
    "* search for first letter of `word`\n",
    "* when found, check if next letter is second letter of `word`\n",
    "* at worst, `n` checks of `k` letters\n",
    "* modify to return index of occurrence `idx` in text and rerun on `text[idx:]`\n",
    "* compute `cumsum` of result array\n"
   ]
  },
  {
   "cell_type": "code",
   "execution_count": 11,
   "metadata": {
    "collapsed": false
   },
   "outputs": [
    {
     "name": "stdout",
     "output_type": "stream",
     "text": [
      "4\n",
      "14\n"
     ]
    }
   ],
   "source": [
    "def find_word(word, text):\n",
    "    k = len(word)\n",
    "    n = len(text)\n",
    "\n",
    "    text_index = 0\n",
    "    while (text_index < n):\n",
    "        word_index = 0\n",
    "        while (word_index < k):\n",
    "            # check if the current location of the text matches\n",
    "            # the current location of the word\n",
    "            if text[text_index] != word[word_index]:\n",
    "                text_index += 1\n",
    "                break\n",
    "                \n",
    "            # move forward in both text and word\n",
    "            text_index += 1\n",
    "            word_index += 1\n",
    "                \n",
    "        # if the inner loop ran to completion then we found \n",
    "        # he location of the word\n",
    "        if word_index == k:\n",
    "            return text_index - k\n",
    "        \n",
    "    return n+1\n",
    "\n",
    "def find_words(word, text):\n",
    "    n = len(text)\n",
    "    locations = []\n",
    "    index = 0\n",
    "    while (index < n):\n",
    "        # search for the next occurrence of the word\n",
    "        # at the current point\n",
    "        index += find_word(word, text[index:])\n",
    "        locations.append(index)\n",
    "        \n",
    "        # step past this occurrence to begin searching \n",
    "        # for the next one\n",
    "        index += 1\n",
    "        \n",
    "    # we'll always get a \"not found\" at the end\n",
    "    return locations[:-1]\n",
    "\n",
    "word = 'cat'\n",
    "text = 'the cat in the hat cat'\n",
    "\n",
    "index = find_word(word, text)\n",
    "print index\n",
    "index = find_word(word, text[(index)+1:])\n",
    "print index"
   ]
  },
  {
   "cell_type": "code",
   "execution_count": 12,
   "metadata": {
    "collapsed": false
   },
   "outputs": [
    {
     "name": "stdout",
     "output_type": "stream",
     "text": [
      "[4, 19]\n",
      "22\n"
     ]
    }
   ],
   "source": [
    "print find_words(word, text)\n",
    "print len(text)\n"
   ]
  },
  {
   "cell_type": "markdown",
   "metadata": {},
   "source": [
    "### Time Taken: 19 mins\n",
    "\n",
    "Final comments: use a hash table to store previous searches. (Maybe up to a certain size.)\n",
    "\n",
    "## Book Solution / Comments\n",
    "\n",
    "One approach is to hash the entire book with words as keys and frequencies as values. This is easily done if we assume that each word is separated by a space."
   ]
  },
  {
   "cell_type": "code",
   "execution_count": 13,
   "metadata": {
    "collapsed": false
   },
   "outputs": [
    {
     "name": "stdout",
     "output_type": "stream",
     "text": [
      "2\n"
     ]
    }
   ],
   "source": [
    "from collections import defaultdict\n",
    "\n",
    "def convert_to_table(text):\n",
    "    words = map(lambda s: s.lower(), text.split(' '))\n",
    "    d = defaultdict(int)\n",
    "    for string in words:\n",
    "        d[string] += 1\n",
    "\n",
    "    return d\n",
    "\n",
    "def frequency(word, table):\n",
    "    word = word.lower()\n",
    "    return table[word]\n",
    "\n",
    "\n",
    "word = 'cat'\n",
    "text = 'the cat in the hat cat'\n",
    "table = convert_to_table(text)\n",
    "\n",
    "print frequency(word, table)"
   ]
  },
  {
   "cell_type": "markdown",
   "metadata": {},
   "source": [
    "# Cracking  - Problem 16.3 p. 181\n",
    "\n",
    "Design an algorithm to figure out if someone has won a game of tic-tac-toe.\n",
    "\n",
    "## My Solution\n",
    "\n",
    "How do we represent a tic-tac-toe-grid?\n",
    "* matrix:\n",
    "  * `x` = `1`\n",
    "  * `o` = `-1`\n",
    "  * not filled = 0\n",
    "  \n",
    "x + x + x == 3\n",
    "o + o + o == -3\n",
    "\n",
    "If a row, column, or diag sum is equal to three then `x` wins. If equal to -3 then `o` wins.\n",
    "Search all rows, columns, and the two diags. If `n x n` tic-tac-toe board then `n` rows, `n` cols, and `2` diags."
   ]
  },
  {
   "cell_type": "code",
   "execution_count": 14,
   "metadata": {
    "collapsed": false
   },
   "outputs": [],
   "source": [
    "def sum_winner(value, n):\n",
    "    if value == n:\n",
    "        return 1\n",
    "    if value == -n:\n",
    "        return -1\n",
    "    return 0\n",
    "\n",
    "def winner(grid):\n",
    "    n = len(grid)\n",
    "    winner = 0\n",
    "    \n",
    "    # check rows\n",
    "    for row_index in range(n):\n",
    "        value = sum(grid[row_index])\n",
    "        if value == n:\n",
    "            return 1\n",
    "        if value == -n:\n",
    "            return -1\n",
    "        \n",
    "    # check cols\n",
    "    for col_index in range(n):\n",
    "        value = sum(grid[k][col_index] for k in range(n))\n",
    "        if value == n:\n",
    "            return 1\n",
    "        if value == -n:\n",
    "            return -1\n",
    "        \n",
    "    # check diags\n",
    "    diag = sum(grid[k][k] for k in range(n))\n",
    "    antidiag = sum(grid[k][n-k-1] for k in range(n))\n",
    "    if (diag == n) or (antidiag == n):\n",
    "        return 1\n",
    "    if (diag == -n) or (antidiag == -n):\n",
    "        return -1\n",
    "        \n",
    "    return 0\n",
    "\n",
    "grid = [\n",
    "    [1,0,0],\n",
    "    [1,0,0],\n",
    "    [1,0,0]\n",
    "]\n",
    "assert(winner(grid) == 1)\n",
    "\n",
    "grid = [\n",
    "    [1,1,1],\n",
    "    [0,0,0],\n",
    "    [0,0,0]\n",
    "]\n",
    "assert(winner(grid) == 1)\n",
    "\n",
    "grid = [\n",
    "    [1,1,1],\n",
    "    [0,-1,0],\n",
    "    [0,0,-1]\n",
    "]\n",
    "assert(winner(grid) == 1)\n",
    "\n",
    "grid = [\n",
    "    [-1,1,1],\n",
    "    [0,-1,0],\n",
    "    [0,0,-1]\n",
    "]\n",
    "assert(winner(grid) == -1)\n",
    "\n",
    "\n",
    "grid = [\n",
    "    [-1,1,1,1],\n",
    "    [0,-1,0,1],\n",
    "    [0,1,-1,0],\n",
    "    [0,0,1,-1],\n",
    "]\n",
    "assert(winner(grid) == -1)"
   ]
  },
  {
   "cell_type": "markdown",
   "metadata": {},
   "source": [
    "## Time: 11 mins\n",
    "\n",
    "Some observations:\n",
    "* no checking if there are multiple winners\n",
    "\n",
    "Shouldn't be too bad to solve."
   ]
  },
  {
   "cell_type": "code",
   "execution_count": null,
   "metadata": {
    "collapsed": true
   },
   "outputs": [],
   "source": []
  },
  {
   "cell_type": "markdown",
   "metadata": {},
   "source": [
    "# Cracking - 17.10 p.187\n",
    "\n",
    "A majority element is an element that makes up more than half of the items in an array. Given a positive integers array find the majority element. If there is not majorithm element then return `-1`. Do this in `O(n)` time and `O(1)` space.\n",
    "\n",
    "### My Solution\n",
    "\n",
    "Can do this in `O(n)` time `O(n)` space with a hash table: key = element, value = frequency.\n",
    "\n",
    "* Idea #1: Given up to position `k` keep a hash table of the most frequent element visited thus far. (Bad idea in the event that all elements are unique, overwriting, etc.\n",
    "\n",
    "\n",
    "examples:\n",
    "\n",
    "`[1,0,0,0,0,1,1,1,1,1,1,1] - len(10)`\n",
    "\n",
    "* the moment a count `> n/2` we can stop\n",
    "* actually, the binary case is a good starting point: either `0` or `1` will be majority\n",
    "* trinary case: if `2` is majority then `#0's` and `#1's < n/2`\n",
    "\n",
    "other approach: subdivide\n",
    "\n",
    "problem:\n",
    "\n",
    "```\n",
    "[1,1 | 1,0,0]\n",
    "\n",
    " 1:2    0:2\n",
    "\n",
    "* majority left:  O(n/2)\n",
    "* majority right: O(n/2)\n",
    "* occurrence of left in right, right in left: O(?) --> is there an invariant?\n",
    "\n",
    "\n",
    "If x is the majority then it is always the majority of some subarray\n",
    "```"
   ]
  },
  {
   "cell_type": "code",
   "execution_count": 15,
   "metadata": {
    "collapsed": false
   },
   "outputs": [
    {
     "name": "stdout",
     "output_type": "stream",
     "text": [
      "5\n"
     ]
    }
   ],
   "source": [
    "from collections import defaultdict\n",
    "\n",
    "def majority(array):\n",
    "    # store frequencies O(n) time O(n) space\n",
    "    d = defaultdict(int)\n",
    "    for a in array:\n",
    "        d[a] += 1\n",
    "        \n",
    "    # O(n) scan of array to retrieve highest frequency\n",
    "    maxvalue = 0\n",
    "    number = None\n",
    "    for a in array:\n",
    "        value = d[a]\n",
    "        if value >= maxvalue:\n",
    "            maxvalue = value\n",
    "            number = a\n",
    "            \n",
    "    return number\n",
    "\n",
    "array = [1,2,5,9,5,9,5,5,5]\n",
    "print majority(array)"
   ]
  },
  {
   "cell_type": "markdown",
   "metadata": {},
   "source": [
    "```\n",
    "[1 2 5 9 5 9 5 5 5]\n",
    "\n",
    "[1 2 5 9] [5 9 5 5 5]\n",
    "\n",
    "[1 2] [5 9] | [5 9] [5 5 5]\n",
    "\n",
    "[1] [2] . [5] [9] | [5] [9] . [5] [5 5]\n",
    "   2:1      9:1        9:1        5:3\n",
    "       2:1                  5:3\n",
    "                \n",
    "[1]  [2] -> 1:1  2:2\n",
    "[5]  [9] -> 5:1  9:1  \\\n",
    "[5]  [5] -> 5:2       / 5:3 9:1\n",
    "\n",
    "So is there a special case in a tie?\n",
    "```"
   ]
  },
  {
   "cell_type": "code",
   "execution_count": 16,
   "metadata": {
    "collapsed": false
   },
   "outputs": [
    {
     "name": "stdout",
     "output_type": "stream",
     "text": [
      "5\n"
     ]
    }
   ],
   "source": [
    "def majority_fast(array):\n",
    "    subarray_length = 0\n",
    "    current_majority = array[0]\n",
    "    current_majority_count = 1\n",
    "    for a in array[1:]:\n",
    "        subarray_length += 1\n",
    "        if a == current_majority:\n",
    "            current_majority_count += 1\n",
    "        \n",
    "        if current_majority_count <= subarray_length/2:\n",
    "            current_majority = a\n",
    "            subarray_length = 0\n",
    "            \n",
    "    return current_majority\n",
    "\n",
    "array = [1,2,5,9,5,9,5,5,5]\n",
    "print majority(array)"
   ]
  },
  {
   "cell_type": "code",
   "execution_count": 17,
   "metadata": {
    "collapsed": false
   },
   "outputs": [
    {
     "name": "stdout",
     "output_type": "stream",
     "text": [
      "[3 2 2 1 3 2 1 1 1 1]\n"
     ]
    }
   ],
   "source": [
    "import numpy\n",
    "array = numpy.random.randint(0,4,10)\n",
    "print array\n"
   ]
  },
  {
   "cell_type": "code",
   "execution_count": 18,
   "metadata": {
    "collapsed": false
   },
   "outputs": [
    {
     "name": "stdout",
     "output_type": "stream",
     "text": [
      "[3 2 2 1 3 2 1 1 1 2]\n"
     ]
    }
   ],
   "source": [
    "array[-1] = 2\n",
    "print array"
   ]
  },
  {
   "cell_type": "code",
   "execution_count": 19,
   "metadata": {
    "collapsed": false
   },
   "outputs": [
    {
     "name": "stdout",
     "output_type": "stream",
     "text": [
      "2\n",
      "1\n"
     ]
    }
   ],
   "source": [
    "print majority(array)\n",
    "print majority_fast(array)"
   ]
  },
  {
   "cell_type": "markdown",
   "metadata": {},
   "source": [
    "# Cracking - 4.2 - Minimal Tree\n",
    "\n",
    "Given a sorted array with unique integer elements write an algoriitm to create a binary search tree with *minimal height*.\n",
    "\n",
    "### My Solution\n",
    "\n",
    "Naive implementation: --standard binary tree creation.--\n",
    "\n",
    "But this is not necessarily balanced. Actually, will reduce to linked list case!!!!\n",
    "\n",
    "Solution: midpoint and recurse"
   ]
  },
  {
   "cell_type": "code",
   "execution_count": 20,
   "metadata": {
    "collapsed": true
   },
   "outputs": [],
   "source": [
    "class Node(object):\n",
    "    def __init__(self, value):\n",
    "        self.value = value\n",
    "        self.left = None\n",
    "        self.right = None\n",
    "        \n",
    "    def add(self, value):\n",
    "        if value < self.value:\n",
    "            if self.left:\n",
    "                self.left.add(value)\n",
    "            else:\n",
    "                self.left = Node(value)\n",
    "        else:\n",
    "            if self.right:\n",
    "                self.right.add(value)\n",
    "            else:\n",
    "                self.right = Node(value)\n",
    "            \n",
    "    def dfs(self):\n",
    "        result = [self.value]\n",
    "        if self.left:\n",
    "            result.extend(self.left.dfs())\n",
    "        if self.right:\n",
    "            result.extend(self.right.dfs())\n",
    "        return result\n",
    "                \n",
    "def sorted_tree(array, tree=None, left=0, right=len(array)):\n",
    "    mid = (left + right)/2\n",
    "    \n",
    "    # root case\n",
    "    if tree is None:\n",
    "        tree = Node(array[mid])\n",
    "        \n",
    "    tree.value = array[mid]\n",
    "    if left < right:\n",
    "        tree.left = sorted_tree(array, tree, left, mid-1)\n",
    "        tree.right = sorted_tree(array, tree, mid+1, right)\n",
    "        \n",
    "    return tree"
   ]
  },
  {
   "cell_type": "code",
   "execution_count": 21,
   "metadata": {
    "collapsed": false
   },
   "outputs": [
    {
     "name": "stdout",
     "output_type": "stream",
     "text": [
      "[8, 3, 9, -5, 0, -6, 1, -1, 7, 6]\n"
     ]
    }
   ],
   "source": [
    "import random\n",
    "array = [random.randint(-10, 10) for _ in range(10)]\n",
    "print array\n",
    "         "
   ]
  },
  {
   "cell_type": "code",
   "execution_count": 22,
   "metadata": {
    "collapsed": false
   },
   "outputs": [
    {
     "name": "stdout",
     "output_type": "stream",
     "text": [
      "[-6, -5, -3, -1, 0, 3, 6, 7, 8, 9]\n"
     ]
    }
   ],
   "source": [
    "array[6] = -3\n",
    "array.sort()\n",
    "print array"
   ]
  },
  {
   "cell_type": "code",
   "execution_count": null,
   "metadata": {
    "collapsed": false
   },
   "outputs": [],
   "source": []
  },
  {
   "cell_type": "markdown",
   "metadata": {},
   "source": [
    "# Cracking 17.17"
   ]
  },
  {
   "cell_type": "code",
   "execution_count": 24,
   "metadata": {
    "collapsed": false
   },
   "outputs": [],
   "source": [
    "class Trie(object):\n",
    "    def __init__(self, string=None):\n",
    "        self.root = Node()\n",
    "        self.root.insert(string, 0)\n",
    "        \n",
    "    def __getitem__(self, key):\n",
    "        return self.root.children[key]\n",
    "        \n",
    "    def insert(self, string, location):\n",
    "        self.root.insert(string, location)\n",
    "        \n",
    "    def search(self, string):\n",
    "        return self.root.search(string)\n",
    "        \n",
    "    def dfs(self):\n",
    "        self.root.dfs()\n",
    "        \n",
    "class Node(object):\n",
    "    # each node is indexed by a character and its values are the indices\n",
    "    # at which the string occurrs in a given string b\n",
    "    def __init__(self):\n",
    "        self.children = {}\n",
    "        self.indices = []\n",
    "        \n",
    "    def __repr__(self):\n",
    "        return str(self.children)\n",
    "    \n",
    "    def __getitem__(self, key):\n",
    "        return self.children[key]\n",
    "        \n",
    "    def insert(self, string, index):\n",
    "        self.indices.append(index)\n",
    "        \n",
    "        if string:\n",
    "            key = string[0]\n",
    "            \n",
    "            if key in self.children:\n",
    "                child = self.children[key]\n",
    "            else:\n",
    "                child = Node()\n",
    "                self.children[key] = child\n",
    "                \n",
    "            # handle remainder\n",
    "            suffix = string[1:]\n",
    "            child.insert(suffix, index+1)\n",
    "        else:\n",
    "            self.children['\\x00'] = None # terminating character\n",
    "            \n",
    "    def search(self, string):\n",
    "        if not string:\n",
    "            return self.indices\n",
    "        \n",
    "        first = string[0]\n",
    "        if first in self.children:\n",
    "            suffix = string[1:]\n",
    "            return self.children[first].search(suffix)\n",
    "        \n",
    "        return []\n",
    "        \n",
    "    def is_terminal(self):\n",
    "        return '\\x00' in self.children\n",
    "    \n",
    "    \n",
    "    def dfs(self):\n",
    "        keys = self.children.keys()\n",
    "        for key in keys:\n",
    "            print key\n",
    "            node = self.children[key]\n",
    "            if node:\n",
    "                node.dfs()\n",
    "                \n",
    "def create_trie_from_string_list(T):\n",
    "    trie = Trie()\n",
    "    for s in T:\n",
    "        trie.instert(s,0)\n",
    "    return trie\n",
    "            \n",
    "def search_all(b, T):\n",
    "    lookup = create_trie_from_string_list(T)\n",
    "    n = len(b)\n",
    "    \n",
    "    for i in range(n):\n",
    "        strings = find_strings_at_location(self.root, big, i)\n",
    "        print strings, i    "
   ]
  },
  {
   "cell_type": "code",
   "execution_count": 25,
   "metadata": {
    "collapsed": false
   },
   "outputs": [],
   "source": [
    "T = ['is', 'ppi', 'hi', 'sis', 'i', 'ssippi']\n",
    "b = 'mississippi'\n",
    "\n",
    "trie = Trie()\n",
    "#for s in T:\n",
    "#    trie.insert(s,0)\n",
    "    \n",
    "#trie.root.children\n",
    "trie.insert(b, 0)"
   ]
  },
  {
   "cell_type": "code",
   "execution_count": 26,
   "metadata": {
    "collapsed": false
   },
   "outputs": [
    {
     "name": "stdout",
     "output_type": "stream",
     "text": [
      "\u0000\n",
      "m\n",
      "i\n",
      "s\n",
      "s\n",
      "i\n",
      "s\n",
      "s\n",
      "i\n",
      "p\n",
      "p\n",
      "i\n",
      "\u0000\n"
     ]
    }
   ],
   "source": [
    "trie.dfs()"
   ]
  },
  {
   "cell_type": "code",
   "execution_count": 27,
   "metadata": {
    "collapsed": false
   },
   "outputs": [
    {
     "data": {
      "text/plain": [
       "[]"
      ]
     },
     "execution_count": 27,
     "metadata": {},
     "output_type": "execute_result"
    }
   ],
   "source": [
    "trie.search('s')"
   ]
  },
  {
   "cell_type": "code",
   "execution_count": null,
   "metadata": {
    "collapsed": false
   },
   "outputs": [],
   "source": []
  },
  {
   "cell_type": "markdown",
   "metadata": {},
   "source": [
    "# Anagram Checker\n",
    "\n",
    "An anagram of `cinema` is `iceman`."
   ]
  },
  {
   "cell_type": "code",
   "execution_count": 28,
   "metadata": {
    "collapsed": true
   },
   "outputs": [],
   "source": [
    "from collections import defaultdict\n",
    "\n",
    "def is_anagram(s1, s2):\n",
    "    d = defaultdict(int)\n",
    "    \n",
    "    # make sure s1 and s2 are the same length\n",
    "    if len(s1) != len(s2):\n",
    "        return False\n",
    "    \n",
    "    # build letter count\n",
    "    for c in s1:\n",
    "        d[c] += 1\n",
    "        \n",
    "    # decrement letter count using s2. note that\n",
    "    # because the lengths are the same a count will\n",
    "    # be negative iff a letter doesn't exist or\n",
    "    # occurrs more often in s2 than in s1\n",
    "    for c in s2:\n",
    "        if d[c] == 0:\n",
    "            return False\n",
    "        else:\n",
    "            d[c] -= 1\n",
    "            \n",
    "    return True\n",
    "        "
   ]
  },
  {
   "cell_type": "code",
   "execution_count": 29,
   "metadata": {
    "collapsed": false
   },
   "outputs": [
    {
     "data": {
      "text/plain": [
       "True"
      ]
     },
     "execution_count": 29,
     "metadata": {},
     "output_type": "execute_result"
    }
   ],
   "source": [
    "is_anagram('cinema', 'iceman')"
   ]
  },
  {
   "cell_type": "markdown",
   "metadata": {},
   "source": [
    "# EPI - Linked List Problems\n",
    "\n",
    "**8.1** Merge two sorted lists."
   ]
  },
  {
   "cell_type": "code",
   "execution_count": 30,
   "metadata": {
    "collapsed": false
   },
   "outputs": [
    {
     "name": "stdout",
     "output_type": "stream",
     "text": [
      "0,2,3,8,9\n",
      "1,5,6\n"
     ]
    }
   ],
   "source": [
    "class Node(object):\n",
    "    def __init__(self, value=None):\n",
    "        self.value = value\n",
    "        self.next = None\n",
    "        \n",
    "    def __repr__(self):\n",
    "        s = str(self.value)\n",
    "        if self.next:\n",
    "            s += ',' + str(self.next)\n",
    "        return s\n",
    "        \n",
    "    def insert(self, value):\n",
    "        if self.next:\n",
    "            self.next.insert(value)\n",
    "        else:\n",
    "            self.next = Node(value)\n",
    "            \n",
    "    def insert_node(self, node):\n",
    "        if self.next:\n",
    "            self.next.insert_node(node)\n",
    "        else:\n",
    "            self.next = node\n",
    "            \n",
    "            \n",
    "L = Node(0)\n",
    "L.insert(2)\n",
    "L.insert(3)\n",
    "L.insert(8)\n",
    "L.insert(9)\n",
    "\n",
    "R = Node(1)\n",
    "R.insert(5)\n",
    "R.insert(6)\n",
    "\n",
    "print L\n",
    "print R"
   ]
  },
  {
   "cell_type": "code",
   "execution_count": 31,
   "metadata": {
    "collapsed": false
   },
   "outputs": [
    {
     "name": "stdout",
     "output_type": "stream",
     "text": [
      "None\n",
      "0,2,3,8,9\n",
      "1,5,6\n",
      "2,3,8,9\n",
      "3,8,9\n",
      "5,6\n",
      "0,1,2,3,5,6,8,9\n"
     ]
    }
   ],
   "source": [
    "def merge(L, R):       \n",
    "    # T is the merged list, node is the end of T\n",
    "    node = Node() # dummy head\n",
    "    T = node\n",
    "    while (L and R):\n",
    "        print node\n",
    "        # both L and R exist: compare\n",
    "        if L.value < R.value:\n",
    "            # current node points to L's head\n",
    "            node.next = L\n",
    "            \n",
    "            # move 'node' to next \n",
    "            node = node.next\n",
    "            \n",
    "            # move the head of L\n",
    "            L = L.next\n",
    "        else:\n",
    "            # current node points to R's head\n",
    "            node.next = R\n",
    "            \n",
    "            # move 'node' to next \n",
    "            node = node.next\n",
    "            \n",
    "            # move the head of R\n",
    "            R = R.next\n",
    "            \n",
    "    # if elements of L remain, add. otherwise, elements of R remain\n",
    "    if L:\n",
    "        node.next = L\n",
    "    elif R:\n",
    "        node.next = R\n",
    "        \n",
    "    # return the linked list without the dummy\n",
    "    return T.next\n",
    "          \n",
    "T = merge(L,R)\n",
    "\n",
    "print T"
   ]
  },
  {
   "cell_type": "code",
   "execution_count": 32,
   "metadata": {
    "collapsed": false
   },
   "outputs": [
    {
     "name": "stdout",
     "output_type": "stream",
     "text": [
      "0,2,3,8,9\n",
      "9,8,3,2,0\n",
      "\n",
      "1,5,6\n",
      "6,5,1\n"
     ]
    }
   ],
   "source": [
    "def reverse(L):\n",
    "    # initialize the head of the reversed list to the head of L\n",
    "    head = L\n",
    "    rev = None\n",
    "    \n",
    "    while (head):\n",
    "        new_head = head.next\n",
    "        head.next = rev\n",
    "        rev = head\n",
    "        head = new_head\n",
    "        \n",
    "    return rev\n",
    "\n",
    "L = Node(0)\n",
    "L.insert(2)\n",
    "L.insert(3)\n",
    "L.insert(8)\n",
    "L.insert(9)\n",
    "\n",
    "R = Node(1)\n",
    "R.insert(5)\n",
    "R.insert(6)\n",
    "\n",
    "print L\n",
    "print reverse(L)\n",
    "\n",
    "print\n",
    "print R\n",
    "print reverse(R)"
   ]
  },
  {
   "cell_type": "markdown",
   "metadata": {},
   "source": [
    "**Problem 8.3** Write a function which takes a singly linked list L and two integers S and f as arguments and reverses the order of the nodes from the s-th node to the f-th ndoe, inclusive.\n",
    "\n",
    "Numbering begins at 1. Perform the reversal in a single pass. Do not allocate additional nodes.\n",
    "\n"
   ]
  },
  {
   "cell_type": "code",
   "execution_count": 33,
   "metadata": {
    "collapsed": false
   },
   "outputs": [
    {
     "name": "stdout",
     "output_type": "stream",
     "text": [
      "0,2,3,8,9,14,20,43,100\n",
      "0,2,14,9,8,3,20,43,100\n"
     ]
    }
   ],
   "source": [
    "def reverse_sublist(L, s, f):\n",
    "    # scan to find the start\n",
    "    start = L\n",
    "    index = 1\n",
    "    while (index < s):\n",
    "        start = start.next\n",
    "        index += 1\n",
    "        \n",
    "    # `start` now points to the node jsut before where\n",
    "    # we want to begin reversing\n",
    "    sub_head = start.next\n",
    "    rev_sub_head = None\n",
    "    rev_sub_tail = sub_head\n",
    "    \n",
    "    # build the reverse, but only up to index f\n",
    "    while (index < f):\n",
    "        new_sub_head = sub_head.next\n",
    "        sub_head.next = rev_sub_head\n",
    "        rev_sub_head = sub_head\n",
    "        sub_head = new_sub_head\n",
    "        index += 1\n",
    "        \n",
    "    # make start point to the reversed sublist\n",
    "    start.next = rev_sub_head\n",
    "    \n",
    "    # make the end of the reversed sublist point to the\n",
    "    # rest of the list\n",
    "    rev_sub_tail.next = sub_head\n",
    "\n",
    "    return L\n",
    "\n",
    "\n",
    "L = Node(0)\n",
    "L.insert(2)\n",
    "L.insert(3)\n",
    "L.insert(8)\n",
    "L.insert(9)\n",
    "L.insert(14)\n",
    "L.insert(20)\n",
    "L.insert(43)\n",
    "L.insert(100)\n",
    "\n",
    "\n",
    "print L\n",
    "print reverse_sublist(L,2,6)"
   ]
  },
  {
   "cell_type": "code",
   "execution_count": 34,
   "metadata": {
    "collapsed": true
   },
   "outputs": [],
   "source": [
    "L = Node(0)\n",
    "L.insert(2)\n",
    "L.insert(3)\n",
    "L.insert(8)\n",
    "L.insert(9)\n",
    "L.insert(14)\n",
    "L.insert(20)\n",
    "L.insert(43)\n",
    "L.insert(100)\n",
    "L.insert_node(L.next.next.next)\n",
    "\n",
    "r = Node(0)\n",
    "r.insert(2)\n",
    "r.insert(3)\n",
    "r.insert(8)\n",
    "r.insert(9)\n",
    "r.insert(14)\n",
    "r.insert(20)\n",
    "r.insert(43)\n",
    "r.insert(100)"
   ]
  },
  {
   "cell_type": "code",
   "execution_count": 35,
   "metadata": {
    "collapsed": false
   },
   "outputs": [
    {
     "name": "stdout",
     "output_type": "stream",
     "text": [
      "True\n",
      "False\n"
     ]
    }
   ],
   "source": [
    "def has_cycle_dict(L):\n",
    "    node = L\n",
    "    d = {}\n",
    "    while node:\n",
    "        if node in d:\n",
    "            return True\n",
    "        d[node] = True\n",
    "        node = node.next\n",
    "    return False\n",
    "\n",
    "print has_cycle_dict(L)\n",
    "print has_cycle_dict(r)"
   ]
  },
  {
   "cell_type": "code",
   "execution_count": 36,
   "metadata": {
    "collapsed": false
   },
   "outputs": [
    {
     "name": "stdout",
     "output_type": "stream",
     "text": [
      "True\n",
      "False\n"
     ]
    }
   ],
   "source": [
    "def has_cycle_slow(L):\n",
    "    start = L\n",
    "    node = L\n",
    "    prev = L\n",
    "\n",
    "    while (node):\n",
    "        # scan all previous nodes\n",
    "        prev = start\n",
    "        while (prev != node):\n",
    "            if prev == node.next:\n",
    "                return True\n",
    "            prev = prev.next\n",
    "            \n",
    "        node = node.next\n",
    "        \n",
    "    return False\n",
    "            \n",
    "print has_cycle_slow(L)\n",
    "print has_cycle_slow(r)"
   ]
  },
  {
   "cell_type": "code",
   "execution_count": 37,
   "metadata": {
    "collapsed": false
   },
   "outputs": [
    {
     "name": "stdout",
     "output_type": "stream",
     "text": [
      "True\n",
      "False\n"
     ]
    }
   ],
   "source": [
    "def has_cycle(L):\n",
    "    \n",
    "    slow_iter = L\n",
    "    fast_iter = L.next\n",
    "    \n",
    "    while 1:\n",
    "        if slow_iter == fast_iter:\n",
    "            return True\n",
    "        \n",
    "        if slow_iter is None:\n",
    "            return False\n",
    "        \n",
    "        if fast_iter is None or fast_iter.next is None:\n",
    "            return False\n",
    "        \n",
    "        slow_iter = slow_iter.next\n",
    "        fast_iter = fast_iter.next.next\n",
    "        \n",
    "    return False\n",
    "\n",
    "print has_cycle(L)\n",
    "print has_cycle(r)"
   ]
  },
  {
   "cell_type": "markdown",
   "metadata": {},
   "source": [
    "# Binary Trees"
   ]
  },
  {
   "cell_type": "code",
   "execution_count": 38,
   "metadata": {
    "collapsed": false
   },
   "outputs": [],
   "source": [
    "class Node(object):\n",
    "    def __init__(self, value=None):\n",
    "        self.value = value\n",
    "        self.left = None\n",
    "        self.right = None\n",
    "        \n",
    "    def insert(self, value):\n",
    "        if value < self.value:\n",
    "            if self.left:\n",
    "                self.left.insert(value)\n",
    "            else:\n",
    "                self.left = Node(value)\n",
    "        else:\n",
    "            if self.right:\n",
    "                self.right.insert(value)\n",
    "            else:\n",
    "                self.right = Node(value)\n",
    "                \n",
    "\n",
    "t = Node(10)\n",
    "t.insert(0)\n",
    "t.insert(20)\n",
    "t.insert(5)\n",
    "t.insert(-1)\n",
    "t.insert(25)\n",
    "t.insert(15)"
   ]
  },
  {
   "cell_type": "code",
   "execution_count": 39,
   "metadata": {
    "collapsed": false
   },
   "outputs": [
    {
     "data": {
      "text/plain": [
       "(False, 0)"
      ]
     },
     "execution_count": 39,
     "metadata": {},
     "output_type": "execute_result"
    }
   ],
   "source": [
    "def check_balanced(node):\n",
    "    if node is None:\n",
    "        return (True, -1)\n",
    "\n",
    "    left_result = check_balanced(node.left)\n",
    "    if not left_result[0]:\n",
    "        # left subtree is not balanced\n",
    "        return (False, 0)\n",
    "    \n",
    "    right_result = check_balanced(node.right)\n",
    "    if not right_result[0]:\n",
    "        return (False, 0)\n",
    "    \n",
    "    is_balanced = abs(left_result[1] - right_result[1]) <= 1\n",
    "    height = max(left_result[1], right_result[1]) + 1\n",
    "    return (is_balanced, height)\n",
    "\n",
    "def is_balanced(tree):\n",
    "    return check_balanced(tree)[0]\n",
    "\n",
    "\n",
    "t = Node(10)\n",
    "t.insert(0)\n",
    "t.insert(20)\n",
    "t.insert(5)\n",
    "t.insert(-1)\n",
    "t.insert(25)\n",
    "t.insert(15)\n",
    "t.insert(30)\n",
    "t.insert(40)\n",
    "t.insert(50)\n",
    "\n",
    "check_balanced(t)"
   ]
  },
  {
   "cell_type": "markdown",
   "metadata": {},
   "source": [
    "## ECS 10.3\n",
    "\n",
    "Write a function that checks whether a binary tree is symmetric."
   ]
  },
  {
   "cell_type": "code",
   "execution_count": 40,
   "metadata": {
    "collapsed": true
   },
   "outputs": [],
   "source": [
    "def is_symmetric(subtreeleft, subtreeright):\n",
    "    if (subtreeleft == None) and (subtreeright == None):\n",
    "        return True\n",
    "    \n",
    "    if (subtreeleft and subtreeright):\n",
    "        equal_data = (subtreeleft.value == subtreeright.value)\n",
    "        equal_subtrees = is_symmetric"
   ]
  },
  {
   "cell_type": "markdown",
   "metadata": {},
   "source": [
    "# EPI 10.4\n",
    "\n",
    "Find the lowest common ancestor of two nodes in a tree."
   ]
  },
  {
   "cell_type": "code",
   "execution_count": 41,
   "metadata": {
    "collapsed": false
   },
   "outputs": [
    {
     "name": "stdout",
     "output_type": "stream",
     "text": [
      "3\n",
      "10\n"
     ]
    }
   ],
   "source": [
    "class Node(object):\n",
    "    def __init__(self, value=None):\n",
    "        self.value = value\n",
    "        self.parent = None\n",
    "        self.left = None\n",
    "        self.right = None\n",
    "        \n",
    "    def insert(self, value):\n",
    "        if value < self.value:\n",
    "            if self.left:\n",
    "                self.left.insert(value)\n",
    "            else:\n",
    "                node = Node(value)\n",
    "                self.left = node\n",
    "                node.parent = self\n",
    "        else:\n",
    "            if self.right:\n",
    "                self.right.insert(value)\n",
    "            else:\n",
    "                node = Node(value)\n",
    "                self.right = node\n",
    "                node.parent = self\n",
    "                \n",
    "                \n",
    "    def search(self, value):\n",
    "        if value < self.value:\n",
    "            return self.left.search(value)\n",
    "        \n",
    "        if value > self.value:\n",
    "            return self.right.search(value)\n",
    "        \n",
    "        if value == self.value:\n",
    "            return self\n",
    "        \n",
    "        return None\n",
    "                \n",
    "\n",
    "t = Node(10)\n",
    "t.insert(0)\n",
    "t.insert(20)\n",
    "t.insert(5)\n",
    "t.insert(-1)\n",
    "t.insert(25)\n",
    "t.insert(15)\n",
    "t.insert(3)\n",
    "t.insert(7)\n",
    "\n",
    "#    10\n",
    "#   0  20\n",
    "# -1 5\n",
    "#   3 7\n",
    "\n",
    "def height(tree, node, h=0):\n",
    "    if hasattr(node,'parent'):\n",
    "        return height_parent(tree, node)\n",
    "    \n",
    "    if node.value == tree.value:\n",
    "        return h    \n",
    "    \n",
    "    if tree.left:\n",
    "        if node.value < tree.value:\n",
    "            return height(tree.left, node, h+1)\n",
    "    if tree.right:\n",
    "        if node.value >= tree.value:\n",
    "            return height(tree.right, node, h+1)\n",
    "    \n",
    "    return -1\n",
    "\n",
    "def height_parent(tree, node):\n",
    "    pred = node.parent\n",
    "    h = 0\n",
    "    while (pred):\n",
    "        pred = pred.parent\n",
    "        h += 1\n",
    "    return h\n",
    "\n",
    "n = t.search(3)\n",
    "print height_parent(t,n)\n",
    "    \n",
    "def lca(tree, n1, n2):\n",
    "    h1 = height(tree, n1)\n",
    "    h2 = height(tree, n2)\n",
    "    \n",
    "    while (h1 > h2):\n",
    "        n1 = n1.parent\n",
    "        h1 -= 1\n",
    "        \n",
    "    while (h2 > h1):\n",
    "        n2 = n2.parent\n",
    "        h2 -= 1\n",
    "        \n",
    "    h = h1\n",
    "    while (n1.value != n2.value):\n",
    "        n1 = n1.parent\n",
    "        n2 = n2.parent\n",
    "        h -= 1\n",
    "        \n",
    "        if h < 0:\n",
    "            return None\n",
    "        \n",
    "    return n1.value\n",
    "\n",
    "n1 = t.search(3)\n",
    "n2 = t.search(20)\n",
    "\n",
    "print lca(t, n1, n2)\n",
    "\n",
    "# O(h) + O(h) (searches)\n",
    "# O(h) traverse to top\n",
    "# O(1) memory"
   ]
  },
  {
   "cell_type": "code",
   "execution_count": null,
   "metadata": {
    "collapsed": false
   },
   "outputs": [],
   "source": []
  },
  {
   "cell_type": "code",
   "execution_count": null,
   "metadata": {
    "collapsed": true
   },
   "outputs": [],
   "source": []
  }
 ],
 "metadata": {
  "kernelspec": {
   "display_name": "Python 2",
   "language": "python",
   "name": "python2"
  },
  "language_info": {
   "codemirror_mode": {
    "name": "ipython",
    "version": 2
   },
   "file_extension": ".py",
   "mimetype": "text/x-python",
   "name": "python",
   "nbconvert_exporter": "python",
   "pygments_lexer": "ipython2",
   "version": "2.7.11"
  }
 },
 "nbformat": 4,
 "nbformat_minor": 0
}
