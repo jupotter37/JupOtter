{
  "nbformat": 4,
  "nbformat_minor": 0,
  "metadata": {
    "colab": {
      "name": "Leetcode_Data Structures I",
      "provenance": [],
      "collapsed_sections": [],
      "authorship_tag": "ABX9TyO354VGWunIFLNQX9helYQU",
      "include_colab_link": true
    },
    "kernelspec": {
      "name": "python3",
      "display_name": "Python 3"
    },
    "language_info": {
      "name": "python"
    }
  },
  "cells": [
    {
      "cell_type": "markdown",
      "metadata": {
        "id": "view-in-github",
        "colab_type": "text"
      },
      "source": [
        "<a href=\"https://colab.research.google.com/github/Drey-Tee/Data_Structures_And_Algorithms/blob/main/Leetcode_Data_Structures_I.ipynb\" target=\"_parent\"><img src=\"https://colab.research.google.com/assets/colab-badge.svg\" alt=\"Open In Colab\"/></a>"
      ]
    },
    {
      "cell_type": "markdown",
      "source": [
        "**Leetcode 271**: Given an integer array nums, return true if any value appears at least twice in the array, and return false if every element is distinct.\n",
        "\n",
        "URL : **https://leetcode.com/problems/contains-duplicate/**"
      ],
      "metadata": {
        "id": "DUF-Hy7-_-qh"
      }
    },
    {
      "cell_type": "code",
      "execution_count": null,
      "metadata": {
        "id": "OjN8sRr3-oK2"
      },
      "outputs": [],
      "source": [
        "from collections import Counter\n",
        "class Solution:\n",
        "    def containsDuplicate(self, nums) -> bool:\n",
        "        frequency = Counter(nums)\n",
        "        for i in frequency:\n",
        "            if frequency[i] > 1:\n",
        "                return True\n",
        "        else:\n",
        "            return False"
      ]
    },
    {
      "cell_type": "markdown",
      "source": [
        "**Time Complexity** : O(n) as we'd have to traverse over all the elements in the array where n is the size of the given array.\n",
        "\n",
        "**Space Complexity** : O(n) as well."
      ],
      "metadata": {
        "id": "iVXhaQRl_Fxs"
      }
    },
    {
      "cell_type": "code",
      "source": [
        ""
      ],
      "metadata": {
        "id": "GBRqwwO3Ab6t"
      },
      "execution_count": null,
      "outputs": []
    },
    {
      "cell_type": "markdown",
      "source": [
        "**Leetcode 53**: Given an integer array nums, find the contiguous subarray (containing at least one number) which has the largest sum and return its sum.\n",
        "A subarray is a contiguous part of an array.\n",
        "\n",
        "URL: **https://leetcode.com/problems/maximum-subarray/**\n",
        "\n"
      ],
      "metadata": {
        "id": "SytTUtnbNcua"
      }
    },
    {
      "cell_type": "code",
      "source": [
        "class Solution:\n",
        "    def maxSubArray(self, nums: List[int]) -> int:\n",
        "        max_so_far =nums[0]\n",
        "        current_max = nums[0]\n",
        "        for i in range(1,len(nums)):\n",
        "            current_max = max(nums[i], current_max + nums[i])\n",
        "            max_so_far = max(max_so_far,current_max)     \n",
        "        return max_so_far"
      ],
      "metadata": {
        "id": "idf3zoC7Ab9p"
      },
      "execution_count": null,
      "outputs": []
    },
    {
      "cell_type": "markdown",
      "source": [
        "**Time Complexity**: O(n) as there's traversal of elements to find the maximum contiguous subarray.\n",
        "\n",
        "**Space Complexity**: O(1) as it'd always run in the same amount of time regardless of the size of the array."
      ],
      "metadata": {
        "id": "6AIuYhKqOjSC"
      }
    },
    {
      "cell_type": "code",
      "source": [
        ""
      ],
      "metadata": {
        "id": "mvzcpx1zm994"
      },
      "execution_count": null,
      "outputs": []
    },
    {
      "cell_type": "markdown",
      "source": [
        "**Leetcode 1**:Given an array of integers nums and an integer target, return indices of the two numbers such that they add up to target.\n",
        "You may assume that each input would have exactly one solution, and you may not use the same element twice.\n",
        "You can return the answer in any order.\n",
        "\n",
        "URL:**https://leetcode.com/problems/two-sum/**"
      ],
      "metadata": {
        "id": "M5z9MxafnBxw"
      }
    },
    {
      "cell_type": "code",
      "source": [
        "class Solution:\n",
        "    def twoSum(self, nums: List[int], target: int) -> List[int]:\n",
        "        seen_num = set()\n",
        "        add = seen_num.add\n",
        "        for i in nums: \n",
        "            needed_num = target - i\n",
        "            if needed_num in seen_num:\n",
        "                m = nums.index(needed_num)\n",
        "                n = nums.index(i, m+1)\n",
        "                return m,n\n",
        "            add(i)  "
      ],
      "metadata": {
        "id": "knKTk1LQAcAx"
      },
      "execution_count": null,
      "outputs": []
    },
    {
      "cell_type": "markdown",
      "source": [
        "**Time Complexity**: O(n)-linear time as it processes the input (n) in “n” number of operations. This means that as the input grows, the algorithm takes proportionally longer to complete.\n",
        "\n",
        "**Space Complexity**: O(n). same reason as above.\n"
      ],
      "metadata": {
        "id": "MQRbg724ntUN"
      }
    },
    {
      "cell_type": "code",
      "source": [
        ""
      ],
      "metadata": {
        "id": "YYwgqJx9AcGw"
      },
      "execution_count": null,
      "outputs": []
    },
    {
      "cell_type": "markdown",
      "source": [
        "**Leetcode 88**: You are given two integer arrays nums1 and nums2, sorted in non-decreasing order, and two integers m and n, representing the number of elements in nums1 and nums2 respectively.\n",
        "Merge nums1 and nums2 into a single array sorted in non-decreasing order.\n",
        "The final sorted array should not be returned by the function, but instead be stored inside the array nums1. To accommodate this, nums1 has a length of m + n, where the first m elements denote the elements that should be merged, and the last n elements are set to 0 and should be ignored. nums2 has a length of n.\n",
        "\n",
        "URL: **https://leetcode.com/problems/merge-sorted-array/**"
      ],
      "metadata": {
        "id": "4tBFXEgArL8R"
      }
    },
    {
      "cell_type": "code",
      "source": [
        "nums1 = [1,2,3,0,0,0]\n",
        "m = 3 \n",
        "nums2 = [2,5,6]\n",
        "n = 3\n",
        "new = []\n",
        "for i in nums1:\n",
        "  if i !=0:\n",
        "    new.append(i)\n",
        "nums1 = new\n",
        "nums1.extend(nums2) \n",
        "nums1=sorted(nums1)   \n",
        "print(nums1)\n",
        "\n",
        "# naive way I tried but wasn't accepted by leetcode\n",
        "    "
      ],
      "metadata": {
        "id": "1C0kAgJQAcJw",
        "colab": {
          "base_uri": "https://localhost:8080/"
        },
        "outputId": "e81cc76d-9993-4f17-e216-c283ccfb42a8"
      },
      "execution_count": null,
      "outputs": [
        {
          "output_type": "stream",
          "name": "stdout",
          "text": [
            "[1, 2, 2, 3, 5, 6]\n"
          ]
        }
      ]
    },
    {
      "cell_type": "code",
      "source": [
        "class Solution:\n",
        "    def merge(self, nums1: List[int], m: int, nums2: List[int], n: int) -> None:\n",
        "        \"\"\"\n",
        "        Do not return anything, modify nums1 in-place instead.\n",
        "        1. find last index in nums1\n",
        "        2. merge in reverse order\n",
        "        3. fill in nums1 with leftover nums2 elements\n",
        "        \n",
        "        \"\"\"\n",
        "        last_val = m + n -1\n",
        "        while m > 0 and n > 0:\n",
        "            if nums1[m - 1] > nums2[n - 1]:\n",
        "                nums1[last_val] = nums1[m - 1]\n",
        "                m -= 1\n",
        "            else:\n",
        "                nums1[last_val] = nums2[n - 1]\n",
        "                n -= 1\n",
        "            last_val -= 1\n",
        "        while n > 0:\n",
        "            nums1[last_val] = nums2[n - 1]\n",
        "            n,last_val = n - 1 , last_val - 1\n",
        "        "
      ],
      "metadata": {
        "id": "b5PFVF1iAcP4"
      },
      "execution_count": null,
      "outputs": []
    },
    {
      "cell_type": "markdown",
      "source": [
        "**Space Complexity**:\n",
        "\n",
        "**Time Complexity**:"
      ],
      "metadata": {
        "id": "phD79Cnwvfu8"
      }
    },
    {
      "cell_type": "code",
      "source": [
        ""
      ],
      "metadata": {
        "id": "_ZB2vABnudGd"
      },
      "execution_count": null,
      "outputs": []
    },
    {
      "cell_type": "markdown",
      "source": [
        "**Leetcode 350**: Intersection of Two Arrays II\n",
        "\n",
        "**Description**: Given two integer arrays nums1 and nums2, return an array of their intersection. Each element in the result must appear as many times as it shows in both arrays and you may return the result in any order.\n",
        "\n",
        "**URL**: **https://leetcode.com/problems/intersection-of-two-arrays-ii/**"
      ],
      "metadata": {
        "id": "6FdVx4B6uakm"
      }
    },
    {
      "cell_type": "code",
      "source": [
        "from collections import Counter\n",
        "def intersect(self, nums1: List[int], nums2: List[int]) -> List[int]:\n",
        "        A = Counter(nums1)\n",
        "        B = Counter(nums2)\n",
        "        A &= B\n",
        "        intersection = list(A.elements())\n",
        "        return intersection     "
      ],
      "metadata": {
        "id": "9isfgjCGAcTB"
      },
      "execution_count": null,
      "outputs": []
    },
    {
      "cell_type": "markdown",
      "source": [
        "**Space Complexity**:\n",
        "\n",
        "**Time Complexity**:"
      ],
      "metadata": {
        "id": "R7uweEuIvr5l"
      }
    },
    {
      "cell_type": "code",
      "source": [
        ""
      ],
      "metadata": {
        "id": "ytyK6mIqAcWH"
      },
      "execution_count": null,
      "outputs": []
    },
    {
      "cell_type": "markdown",
      "source": [
        "**Leetcode 121**: Best Time to Buy and Sell Stock\n",
        "\n",
        "**Description**: You are given an array prices where prices[i] is the price of a given stock on the ith day.\n",
        "You want to maximize your profit by choosing a single day to buy one stock and choosing a different day in the future to sell that stock.\n",
        "Return the maximum profit you can achieve from this transaction. If you cannot achieve any profit, return 0.\n",
        "\n",
        "**URL**:**https://leetcode.com/problems/best-time-to-buy-and-sell-stock/**"
      ],
      "metadata": {
        "id": "oH9oPtRK6eQZ"
      }
    },
    {
      "cell_type": "code",
      "source": [
        "class Solution:\n",
        "    def maxProfit(self, prices: List[int]) -> int:\n",
        "        max_profit_price = 0\n",
        "        min_buy_price = float('inf')\n",
        "        for price in prices:\n",
        "            min_buy_price=min(min_buy_price, price)\n",
        "            max_profit_price=max(max_profit_price, price - min_buy_price)\n",
        "        return max_profit_price\n",
        "        "
      ],
      "metadata": {
        "id": "U8TXZqdFAcZI"
      },
      "execution_count": null,
      "outputs": []
    },
    {
      "cell_type": "markdown",
      "source": [
        "**Space Complexity**: O(n) because only a single pass is needed for this problem.\n",
        "\n",
        "**Time Complexity**: O(n) due to the above, it shows that not a lot of executions would be needed to complete the program."
      ],
      "metadata": {
        "id": "eECR40GU7FuK"
      }
    },
    {
      "cell_type": "code",
      "source": [
        ""
      ],
      "metadata": {
        "id": "2EfB0zrQAccQ"
      },
      "execution_count": null,
      "outputs": []
    },
    {
      "cell_type": "markdown",
      "source": [
        "**Leetcode 566**:Reshape the Matrix\n",
        "\n",
        "**Description**:In MATLAB, there is a handy function called reshape which can reshape an m x n matrix into a new one with a different size r x c keeping its original data.\n",
        "You are given an m x n matrix mat and two integers r and c representing the number of rows and the number of columns of the wanted reshaped matrix.\n",
        "The reshaped matrix should be filled with all the elements of the original matrix in the same row-traversing order as they were.\n",
        "If the reshape operation with given parameters is possible and legal, output the new reshaped matrix; Otherwise, output the original matrix.\n",
        "\n",
        "**URL**:**https://leetcode.com/problems/reshape-the-matrix/**"
      ],
      "metadata": {
        "id": "6xjw1C3uFW4W"
      }
    },
    {
      "cell_type": "code",
      "source": [
        "class Solution:\n",
        "    def matrixReshape(self, nums: List[List[int]], r: int, c: int) -> List[List[int]]:\n",
        "        if nums == [] or r * c != len(nums) * len(nums[0]):\n",
        "            return nums\n",
        "\n",
        "        ans = [[0 for j in range(c)] for i in range(r)]\n",
        "        k = 0\n",
        "        for row in nums:\n",
        "            for num in row:\n",
        "                ans[k // c][k % c] = num\n",
        "                k += 1\n",
        "        return ans"
      ],
      "metadata": {
        "id": "NvMY_VU1Acff"
      },
      "execution_count": null,
      "outputs": []
    },
    {
      "cell_type": "markdown",
      "source": [
        "**Space Complexity**: O(rc) \n",
        "\n",
        "**Time Complexity**: O(rc)"
      ],
      "metadata": {
        "id": "QLYk9rY7Gp7U"
      }
    },
    {
      "cell_type": "code",
      "source": [
        ""
      ],
      "metadata": {
        "id": "wt2kCV00Acio"
      },
      "execution_count": null,
      "outputs": []
    },
    {
      "cell_type": "markdown",
      "source": [
        "**Leetcode 118**: Pascal's Triangle\n",
        "\n",
        "**Description**: Given an integer numRows, return the first numRows of Pascal's triangle.\n",
        "In Pascal's triangle, each number is the sum of the two numbers directly above it as shown:\n",
        "\n",
        "**URL**:**https://leetcode.com/problems/pascals-triangle/**"
      ],
      "metadata": {
        "id": "wjtpNV6wH0e3"
      }
    },
    {
      "cell_type": "code",
      "source": [
        "class Solution:\n",
        "    def generate(self, numRows: int) -> List[List[int]]:\n",
        "        results = []\n",
        "        for i in range(numRows):\n",
        "            results.append([1] * (i + 1))\n",
        "\n",
        "        for i in range(2, numRows):\n",
        "            for j in range(1, len(results[i]) - 1):\n",
        "                results[i][j] = results[i - 1][j - 1] + results[i - 1][j]\n",
        "\n",
        "        return results"
      ],
      "metadata": {
        "id": "oC2WR0P1AclW"
      },
      "execution_count": null,
      "outputs": []
    },
    {
      "cell_type": "markdown",
      "source": [
        "**Space Complexity**: O(n^2) \n",
        "\n",
        "**Time Complexity**: O(n^2)"
      ],
      "metadata": {
        "id": "t46M-TibKchM"
      }
    },
    {
      "cell_type": "code",
      "source": [
        ""
      ],
      "metadata": {
        "id": "9Pw6wxtZHqOg"
      },
      "execution_count": null,
      "outputs": []
    },
    {
      "cell_type": "markdown",
      "source": [
        "**Leetcode 36**: Valid Sudoku\n",
        "\n",
        "**Description**: Determine if a 9 x 9 Sudoku board is valid. Only the filled cells need to be validated according to the following rules:\n",
        "1. Each row must contain the digits 1-9 without repetition.\n",
        "2. Each column must contain the digits 1-9 without repetition.\n",
        "3. Each of the nine 3 x 3 sub-boxes of the grid must contain the digits 1-9 without repetition.\n",
        "\n",
        "**URL**:**https://leetcode.com/problems/valid-sudoku/ **\n"
      ],
      "metadata": {
        "id": "35j5IiEeOxg3"
      }
    },
    {
      "cell_type": "code",
      "source": [
        "class Solution:\n",
        "  def isValidSudoku(self, board: List[List[str]]) -> bool:\n",
        "    seen = set()\n",
        "\n",
        "    for i in range(9):\n",
        "      for j in range(9):\n",
        "        c = board[i][j]\n",
        "        if c == '.':\n",
        "          continue\n",
        "        if c + '@row ' + str(i) in seen or \\\n",
        "           c + '@col ' + str(j) in seen or \\\n",
        "           c + '@box ' + str(i // 3) + str(j // 3) in seen:\n",
        "          return False\n",
        "        seen.add(c + '@row ' + str(i))\n",
        "        seen.add(c + '@col ' + str(j))\n",
        "        seen.add(c + '@box ' + str(i // 3) + str(j // 3))\n",
        "\n",
        "    return True"
      ],
      "metadata": {
        "id": "1VGwQl9WHqbE"
      },
      "execution_count": null,
      "outputs": []
    },
    {
      "cell_type": "markdown",
      "source": [
        "**Space Complexity**: O(1) \n",
        "\n",
        "**Time Complexity**: O(1)"
      ],
      "metadata": {
        "id": "-tOAGrsdRwtr"
      }
    },
    {
      "cell_type": "code",
      "source": [
        ""
      ],
      "metadata": {
        "id": "aGtqGXjOHqnI"
      },
      "execution_count": null,
      "outputs": []
    },
    {
      "cell_type": "markdown",
      "source": [
        "**Leetcode 74**: Search a 2D Matrix\n",
        "\n",
        "**Description**: Write an efficient algorithm that searches for a value target in an m x n integer matrix matrix. This matrix has the following properties:\n",
        "Integers in each row are sorted from left to right.\n",
        "The first integer of each row is greater than the last integer of the previous row.\n",
        "\n",
        "**URL**:**https://leetcode.com/problems/search-a-2d-matrix/**\n"
      ],
      "metadata": {
        "id": "S0OJaVK8S75G"
      }
    },
    {
      "cell_type": "code",
      "source": [
        "class Solution:\n",
        "    def searchMatrix(self, matrix: List[List[int]], target: int) -> bool:\n",
        "        if not matrix:\n",
        "            return False\n",
        "\n",
        "        m = len(matrix)\n",
        "        n = len(matrix[0])\n",
        "        l = 0\n",
        "        r = m * n\n",
        "\n",
        "        while l < r:\n",
        "            mid = (l + r) // 2\n",
        "            i = mid // n\n",
        "            j = mid % n\n",
        "            if matrix[i][j] == target:\n",
        "                return True\n",
        "            if matrix[i][j] < target:\n",
        "                l = mid + 1\n",
        "            else:\n",
        "                r = mid\n",
        "\n",
        "        return False"
      ],
      "metadata": {
        "id": "IzdA_z5zHqyZ"
      },
      "execution_count": null,
      "outputs": []
    },
    {
      "cell_type": "markdown",
      "source": [
        "**Space Complexity**: O(1) \n",
        "\n",
        "**Time Complexity**: O(mnlogmn) "
      ],
      "metadata": {
        "id": "pOIGJgEoS-qr"
      }
    },
    {
      "cell_type": "code",
      "source": [
        ""
      ],
      "metadata": {
        "id": "9gZQKnIkHq-s"
      },
      "execution_count": null,
      "outputs": []
    },
    {
      "cell_type": "markdown",
      "source": [
        "**Leetcode 387**: First Unique Character in a String\n",
        "\n",
        "**Description**: Given a string s, find the first non-repeating character in it and return its index. If it does not exist, return -1.\n",
        "\n",
        "\n",
        "**URL**:**https://leetcode.com/problems/first-unique-character-in-a-string/**\n"
      ],
      "metadata": {
        "id": "ETb_i17wVhSE"
      }
    },
    {
      "cell_type": "code",
      "source": [
        "class Solution:\n",
        "    def firstUniqChar(self, s: str) -> int:\n",
        "        count = Counter(s)\n",
        "\n",
        "        for i, j in enumerate(s):\n",
        "            if count[j] == 1:\n",
        "                return i\n",
        "\n",
        "        return -1"
      ],
      "metadata": {
        "id": "p5v998byHrLh"
      },
      "execution_count": null,
      "outputs": []
    },
    {
      "cell_type": "markdown",
      "source": [
        "**Space Complexity**: O(1) \n",
        "\n",
        "**Time Complexity**: O(n)"
      ],
      "metadata": {
        "id": "GTwFnz78Vitb"
      }
    },
    {
      "cell_type": "code",
      "source": [
        ""
      ],
      "metadata": {
        "id": "XLIUU7wBdSdF"
      },
      "execution_count": null,
      "outputs": []
    },
    {
      "cell_type": "markdown",
      "source": [
        "**Leetcode 383**: Ransom Note\n",
        "\n",
        "**Description**: Given two strings ransomNote and magazine, return true if ransomNote can be constructed by using the letters from magazine and false otherwise.\n",
        "Each letter in magazine can only be used once in ransomNote.\n",
        "\n",
        "**URL**:**https://leetcode.com/problems/ransom-note/**"
      ],
      "metadata": {
        "id": "FVTPqD8RcXI3"
      }
    },
    {
      "cell_type": "code",
      "source": [
        "class Solution:\n",
        "    def canConstruct(self, ransomNote: str, magazine: str) -> bool:\n",
        "        count1 = Counter(ransomNote)\n",
        "        count2 = Counter(magazine)\n",
        "        return all(count1[c] <= count2[c] for c in string.ascii_lowercase)"
      ],
      "metadata": {
        "id": "9mK3S2qFHrZQ"
      },
      "execution_count": null,
      "outputs": []
    },
    {
      "cell_type": "markdown",
      "source": [
        "**Space Complexity**: O(1) \n",
        "\n",
        "**Time Complexity**: O(1)"
      ],
      "metadata": {
        "id": "I4ugav9pdao6"
      }
    },
    {
      "cell_type": "code",
      "source": [
        ""
      ],
      "metadata": {
        "id": "I0w6kT_VcVbz"
      },
      "execution_count": null,
      "outputs": []
    },
    {
      "cell_type": "markdown",
      "source": [
        "**Leetcode 242**: Valid Anagram\n",
        "\n",
        "**Description**: Given two strings s and t, return true if t is an anagram of s, and false otherwise.\n",
        "An Anagram is a word or phrase formed by rearranging the letters of a different word or phrase, typically using all the original letters exactly once.\n",
        "\n",
        "**URL**:**https://leetcode.com/problems/valid-anagram/**"
      ],
      "metadata": {
        "id": "6S49gXWyeFr_"
      }
    },
    {
      "cell_type": "code",
      "source": [
        "class Solution:\n",
        "    def isAnagram(self, s: str, t: str) -> bool:\n",
        "        if sorted(s) == sorted(t):\n",
        "            return True\n",
        "        else:\n",
        "            return False"
      ],
      "metadata": {
        "id": "D3k_v2w7cVUr"
      },
      "execution_count": null,
      "outputs": []
    },
    {
      "cell_type": "markdown",
      "source": [
        "**Space Complexity**: O(n)\n",
        "\n",
        "**Time Complexity**: O(n)"
      ],
      "metadata": {
        "id": "FgI1P-eXeokj"
      }
    },
    {
      "cell_type": "code",
      "source": [
        ""
      ],
      "metadata": {
        "id": "9QEEFi91cVRp"
      },
      "execution_count": null,
      "outputs": []
    },
    {
      "cell_type": "markdown",
      "source": [
        "**Leetcode 141**: Linked List Cycle\n",
        "\n",
        "**Description**: Given head, the head of a linked list, determine if the linked list has a cycle in it.\n",
        "There is a cycle in a linked list if there is some node in the list that can be reached again by continuously following the next pointer. Internally, pos is used to denote the index of the node that tail's next pointer is connected to. Note that pos is not passed as a parameter.\n",
        "Return true if there is a cycle in the linked list. Otherwise, return false.\n",
        " \n",
        "**URL**:**https://leetcode.com/problems/linked-list-cycle/**"
      ],
      "metadata": {
        "id": "UZq846OMfS9E"
      }
    },
    {
      "cell_type": "code",
      "source": [
        "class Solution:\n",
        "    def hasCycle(self, head: Optional[ListNode]) -> bool:\n",
        "        slow = head\n",
        "        fast = head\n",
        "\n",
        "        while fast and fast.next:\n",
        "            slow = slow.next\n",
        "            fast = fast.next.next\n",
        "            if slow == fast:\n",
        "                return True\n",
        "\n",
        "        return False"
      ],
      "metadata": {
        "id": "ZYVF_7rwcVOb"
      },
      "execution_count": null,
      "outputs": []
    },
    {
      "cell_type": "markdown",
      "source": [
        "**Space Complexity**: O(1)\n",
        "\n",
        "**Time Complexity**: O(n)"
      ],
      "metadata": {
        "id": "_bwdZSU6feaW"
      }
    },
    {
      "cell_type": "code",
      "source": [
        ""
      ],
      "metadata": {
        "id": "qdF68wL7ijjR"
      },
      "execution_count": null,
      "outputs": []
    },
    {
      "cell_type": "markdown",
      "source": [
        "**Leetcode 21**: Merge Two Sorted Lists\n",
        "\n",
        "**Description**: You are given the heads of two sorted linked lists list1 and list2.\n",
        "Merge the two lists in a one sorted list. The list should be made by splicing together the nodes of the first two lists.\n",
        "Return the head of the merged linked list.\n",
        "\n",
        "**URL**:**https://leetcode.com/problems/merge-two-sorted-lists/**"
      ],
      "metadata": {
        "id": "ioRGqApVik2C"
      }
    },
    {
      "cell_type": "code",
      "source": [
        "class Solution:\n",
        "    def mergeTwoLists(self, list1: Optional[ListNode], list2: Optional[ListNode]) -> Optional[ListNode]:\n",
        "        if not list1 or not list2:\n",
        "            return list1 if list1 else list2\n",
        "        if list1.val > list2.val:\n",
        "            list1, list2 = list2, list1\n",
        "        list1.next = self.mergeTwoLists(list1.next, list2)\n",
        "        return list1\n",
        "        "
      ],
      "metadata": {
        "id": "_oqjTY-DcVLD"
      },
      "execution_count": null,
      "outputs": []
    },
    {
      "cell_type": "markdown",
      "source": [
        "**Space Complexity**: O(|list1| + |list2|)\n",
        "\n",
        "**Time Complexity**: O(|list1| + |list2|)\n"
      ],
      "metadata": {
        "id": "4z-QUJngjSFC"
      }
    },
    {
      "cell_type": "code",
      "source": [
        ""
      ],
      "metadata": {
        "id": "crLrgIoalkpU"
      },
      "execution_count": null,
      "outputs": []
    },
    {
      "cell_type": "markdown",
      "source": [
        "**Leetcode 203**: Remove Linked List Elements\n",
        "\n",
        "**Description**: Given the head of a linked list and an integer val, remove all the nodes of the linked list that has Node.val == val, and return the new head.\n",
        "\n",
        "**URL**:**https://leetcode.com/problems/remove-linked-list-elements/**"
      ],
      "metadata": {
        "id": "cKujDAPulnel"
      }
    },
    {
      "cell_type": "code",
      "source": [
        "class Solution:\n",
        "    def removeElements(self, head: Optional[ListNode], val: int) -> Optional[ListNode]:\n",
        "        temp = ListNode(0, head)\n",
        "        prev = temp\n",
        "\n",
        "        while head:\n",
        "            if head.val != val:\n",
        "                prev.next = head\n",
        "                prev = prev.next\n",
        "            head = head.next\n",
        "        prev.next = None\n",
        "\n",
        "        return temp.next"
      ],
      "metadata": {
        "id": "tReI855zcVH6"
      },
      "execution_count": null,
      "outputs": []
    },
    {
      "cell_type": "markdown",
      "source": [
        "**Space Complexity**: O(1)\n",
        "\n",
        "**Time Complexity**: O(n)"
      ],
      "metadata": {
        "id": "CfgnnwhvloeM"
      }
    },
    {
      "cell_type": "code",
      "source": [
        ""
      ],
      "metadata": {
        "id": "UK5QvHlccVEL"
      },
      "execution_count": null,
      "outputs": []
    },
    {
      "cell_type": "markdown",
      "source": [
        "**Leetcode 206**: Reverse Linked List\n",
        "\n",
        "**Description**: Given the head of a singly linked list, reverse the list, and return the reversed list.\n",
        "\n",
        "**URL**:**https://leetcode.com/problems/reverse-linked-list/**"
      ],
      "metadata": {
        "id": "x5OPMDQdnFAo"
      }
    },
    {
      "cell_type": "code",
      "source": [
        "class Solution:\n",
        "  def reverseList(self, head: Optional[ListNode]) -> Optional[ListNode]:\n",
        "    if not head or not head.next:\n",
        "      return head\n",
        "\n",
        "    newHead = self.reverseList(head.next)\n",
        "    head.next.next = head\n",
        "    head.next = None\n",
        "    return newHead"
      ],
      "metadata": {
        "id": "cqleLnAVcU3c"
      },
      "execution_count": null,
      "outputs": []
    },
    {
      "cell_type": "markdown",
      "source": [
        "**Space Complexity**: O(n)\n",
        "\n",
        "**Time Complexity**: O(n)"
      ],
      "metadata": {
        "id": "A78Ikb3bniXE"
      }
    },
    {
      "cell_type": "code",
      "source": [
        ""
      ],
      "metadata": {
        "id": "5g6jrsxgHrr5"
      },
      "execution_count": null,
      "outputs": []
    },
    {
      "cell_type": "markdown",
      "source": [
        "**Leetcode 83**: Remove Duplicates from Sorted Linked List\n",
        "\n",
        "**Description**: Given the head of a sorted linked list, delete all duplicates such that each element appears only once. Return the linked list sorted as well.\n",
        "\n",
        "**URL**:**https://leetcode.com/problems/remove-duplicates-from-sorted-list/**"
      ],
      "metadata": {
        "id": "qD0wWfxRnr2C"
      }
    },
    {
      "cell_type": "code",
      "source": [
        "# Definition for singly-linked list.\n",
        "# class ListNode:\n",
        "#     def __init__(self, val=0, next=None):\n",
        "#         self.val = val\n",
        "#         self.next = next\n",
        "class Solution:\n",
        "    def deleteDuplicates(self, head: Optional[ListNode]) -> Optional[ListNode]:\n",
        "        curr = head\n",
        "\n",
        "        while curr:\n",
        "            while curr.next and curr.val == curr.next.val:\n",
        "                curr.next = curr.next.next\n",
        "            curr = curr.next\n",
        "\n",
        "        return head\n",
        "        "
      ],
      "metadata": {
        "id": "gdNy-bVtno_Y"
      },
      "execution_count": null,
      "outputs": []
    },
    {
      "cell_type": "markdown",
      "source": [
        "**Space Complexity**: O(1)\n",
        "\n",
        "**Time Complexity**: O(n)"
      ],
      "metadata": {
        "id": "-_XF5JLfo5yH"
      }
    },
    {
      "cell_type": "code",
      "source": [
        ""
      ],
      "metadata": {
        "id": "i9NmlJuDnpDX"
      },
      "execution_count": null,
      "outputs": []
    },
    {
      "cell_type": "markdown",
      "source": [
        "**Leetcode 20**: Valid Parentheses\n",
        "\n",
        "**Description**: Given a string s containing just the characters '(', ')', '{', '}', '[' and ']', determine if the input string is valid.\n",
        "An input string is valid if:\n",
        "1. Open brackets must be closed by the same type of brackets.\n",
        "2. Open brackets must be closed in the correct order.\n",
        "\n",
        "**URL**:**https://leetcode.com/problems/valid-parentheses/**"
      ],
      "metadata": {
        "id": "iDegijGl-Qoe"
      }
    },
    {
      "cell_type": "code",
      "source": [
        "class Solution:\n",
        "    def isValid(self, s: str) -> bool:\n",
        "        stack = []\n",
        "\n",
        "        for c in s:\n",
        "            if c == '(':\n",
        "                stack.append(')')\n",
        "            elif c == '{':\n",
        "                stack.append('}')\n",
        "            elif c == '[':\n",
        "                stack.append(']')\n",
        "            elif not stack or stack.pop() != c:\n",
        "                return False\n",
        "\n",
        "        return not stack"
      ],
      "metadata": {
        "id": "KiLiS0CTAiSy"
      },
      "execution_count": null,
      "outputs": []
    },
    {
      "cell_type": "markdown",
      "source": [
        "**Space Complexity**: O(n)\n",
        "\n",
        "**Time Complexity**: O(n)"
      ],
      "metadata": {
        "id": "xO0HMWkw-2s_"
      }
    },
    {
      "cell_type": "code",
      "source": [
        ""
      ],
      "metadata": {
        "id": "FiMGTXlfnpLH"
      },
      "execution_count": null,
      "outputs": []
    },
    {
      "cell_type": "markdown",
      "source": [
        "**Leetcode 232**: Implement Queue using Stackss\n",
        "\n",
        "**Description**: Implement a first in first out (FIFO) queue using only two stacks. The implemented queue should support all the functions of a normal queue (push, peek, pop, and empty).\n",
        "\n",
        "Implement the MyQueue class:\n",
        "\n",
        "1. void push(int x) Pushes element x to the back of the queue.\n",
        "2. int pop() Removes the element from the front of the queue and returns it.\n",
        "3. int peek() Returns the element at the front of the queue.\n",
        "4. boolean empty() Returns true if the queue is empty, false otherwise.\n",
        "\n",
        "Notes:\n",
        "1. You must use only standard operations of a stack, which means only push to top, peek/pop from top, size, and is empty operations are valid.\n",
        "2. Depending on your language, the stack may not be supported natively. You may simulate a stack using a list or deque (double-ended queue) as long as you use only a stack's standard operations.\n",
        "\n",
        "**URL**:**https://leetcode.com/problems/implement-queue-using-stacks/**"
      ],
      "metadata": {
        "id": "BCrJteOjC0SB"
      }
    },
    {
      "cell_type": "code",
      "source": [
        "class MyQueue:\n",
        "\n",
        "    def __init__(self):\n",
        "        self.input = []\n",
        "        self.output = []   \n",
        "\n",
        "    def push(self, x: int) -> None:\n",
        "            self.input.append(x)\n",
        "        \n",
        "    def pop(self) -> int:\n",
        "        self.peek()\n",
        "        return self.output.pop()        \n",
        "\n",
        "    def peek(self) -> int:\n",
        "        if not self.output:\n",
        "            while self.input:\n",
        "                self.output.append(self.input.pop())\n",
        "        return self.output[-1]\n",
        "        \n",
        "\n",
        "    def empty(self) -> bool:\n",
        "            return not self.input and not self.output\n",
        "\n",
        "        \n",
        "# Your MyQueue object will be instantiated and called as such:\n",
        "# obj = MyQueue()\n",
        "# obj.push(x)\n",
        "# param_2 = obj.pop()\n",
        "# param_3 = obj.peek()\n",
        "# param_4 = obj.empty()"
      ],
      "metadata": {
        "id": "qcNkZsFFnpOz"
      },
      "execution_count": null,
      "outputs": []
    },
    {
      "cell_type": "markdown",
      "source": [
        "**Time Complexity**: Constructor: O(1)O(1), push(x): O(1)O(1), pop(): O(n)O(n), peek(): O(n)O(n), empty(): O(1)O(1)\n",
        "\n",
        "**Space Complexity**: O(n)O(n)"
      ],
      "metadata": {
        "id": "bICJsn98D6bp"
      }
    },
    {
      "cell_type": "code",
      "source": [
        ""
      ],
      "metadata": {
        "id": "5rcheob8npSc"
      },
      "execution_count": null,
      "outputs": []
    },
    {
      "cell_type": "markdown",
      "source": [
        "**Leetcode 144**: Binary Tree Preorder Traversal\n",
        "\n",
        "**Description**: Given the root of a binary tree, return the preorder traversal of its nodes' values.\n",
        "\n",
        "**URL**:**https://leetcode.com/problems/binary-tree-preorder-traversal/**"
      ],
      "metadata": {
        "id": "_ozUmVGXo6Yu"
      }
    },
    {
      "cell_type": "code",
      "source": [
        "# Definition for a binary tree node.\n",
        "# class TreeNode:\n",
        "#     def __init__(self, val=0, left=None, right=None):\n",
        "#         self.val = val\n",
        "#         self.left = left\n",
        "#         self.right = right\n",
        "class Solution:\n",
        "    def preorderTraversal(self, root: Optional[TreeNode]) -> List[int]:\n",
        "        res = []\n",
        "\n",
        "        def preorder(root: Optional[TreeNode]) -> None:\n",
        "            if not root:\n",
        "                return\n",
        "\n",
        "            res.append(root.val)\n",
        "            preorder(root.left)\n",
        "            preorder(root.right)\n",
        "\n",
        "        preorder(root)\n",
        "        return res\n",
        "        "
      ],
      "metadata": {
        "id": "mclC_WNXnpWE"
      },
      "execution_count": null,
      "outputs": []
    },
    {
      "cell_type": "markdown",
      "source": [
        "**Space Complexity**: O(h)\n",
        "\n",
        "**Time Complexity**: O(n)"
      ],
      "metadata": {
        "id": "TlFZE1Oyo7ax"
      }
    },
    {
      "cell_type": "code",
      "source": [
        ""
      ],
      "metadata": {
        "id": "Q270HpzInpZl"
      },
      "execution_count": null,
      "outputs": []
    },
    {
      "cell_type": "markdown",
      "source": [
        "**Leetcode 145**: Binary Tree Postorder Traversal\n",
        "\n",
        "**Description**: Given the root of a binary tree, return the postorder traversal of its nodes' values.\n",
        "\n",
        "**URL**:**https://leetcode.com/problems/binary-tree-postorder-traversal/**"
      ],
      "metadata": {
        "id": "Ts4plS8Jo9RG"
      }
    },
    {
      "cell_type": "code",
      "source": [
        "# Definition for a binary tree node.\n",
        "# class TreeNode:\n",
        "#     def __init__(self, val=0, left=None, right=None):\n",
        "#         self.val = val\n",
        "#         self.left = left\n",
        "#         self.right = right\n",
        "class Solution:\n",
        "    def postorderTraversal(self, root: Optional[TreeNode]) -> List[int]:\n",
        "        res = []\n",
        "\n",
        "        def postorder(root: Optional[TreeNode]) -> None:\n",
        "            if not root:\n",
        "                return\n",
        "\n",
        "            postorder(root.left)\n",
        "            postorder(root.right)\n",
        "            res.append(root.val)\n",
        "\n",
        "        postorder(root)\n",
        "        return res"
      ],
      "metadata": {
        "id": "pVId5eaunpdY"
      },
      "execution_count": null,
      "outputs": []
    },
    {
      "cell_type": "markdown",
      "source": [
        "**Space Complexity**: O(h)\n",
        "\n",
        "**Time Complexity**: O(n)"
      ],
      "metadata": {
        "id": "HmkN9QfMo-Br"
      }
    },
    {
      "cell_type": "code",
      "source": [
        ""
      ],
      "metadata": {
        "id": "JTNka9YZnphI"
      },
      "execution_count": null,
      "outputs": []
    },
    {
      "cell_type": "markdown",
      "source": [
        "**Leetcode 94**: Binary Tree Inorder Traversal\n",
        "\n",
        "**Description**: Given the root of a binary tree, return the inorder traversal of its nodes' values.\n",
        "\n",
        "**URL**:**https://leetcode.com/problems/binary-tree-inorder-traversal/**"
      ],
      "metadata": {
        "id": "XkD-ABXrpAca"
      }
    },
    {
      "cell_type": "code",
      "source": [
        "# Definition for a binary tree node.\n",
        "# class TreeNode:\n",
        "#     def __init__(self, val=0, left=None, right=None):\n",
        "#         self.val = val\n",
        "#         self.left = left\n",
        "#         self.right = right\n",
        "class Solution:\n",
        "    def inorderTraversal(self, root: Optional[TreeNode]) -> List[int]:\n",
        "        res = []\n",
        "        stack = []\n",
        "\n",
        "        while root or stack:\n",
        "            while root:\n",
        "                stack.append(root)\n",
        "                root = root.left\n",
        "            root = stack.pop()\n",
        "            res.append(root.val)\n",
        "            root = root.right\n",
        "\n",
        "        return res"
      ],
      "metadata": {
        "id": "jf7YZjhzqSAr"
      },
      "execution_count": null,
      "outputs": []
    },
    {
      "cell_type": "markdown",
      "source": [
        "**Space Complexity**: O(h)\n",
        "\n",
        "**Time Complexity**: O(n)"
      ],
      "metadata": {
        "id": "6QU5N2uFpBJe"
      }
    },
    {
      "cell_type": "code",
      "source": [
        ""
      ],
      "metadata": {
        "id": "1N1qZiednpob"
      },
      "execution_count": null,
      "outputs": []
    },
    {
      "cell_type": "markdown",
      "source": [
        "**Leetcode 104**: Maximum Depth of Binary Tree\n",
        "\n",
        "**Description**: Given the root of a binary tree, return its maximum depth.\n",
        "A binary tree's maximum depth is the number of nodes along the longest path from the root node down to the farthest leaf node.\n",
        "\n",
        "**URL**:**https://leetcode.com/problems/maximum-depth-of-binary-tree/**"
      ],
      "metadata": {
        "id": "350zFR23sCVq"
      }
    },
    {
      "cell_type": "code",
      "source": [
        "# Definition for a binary tree node.\n",
        "# class TreeNode:\n",
        "#     def __init__(self, val=0, left=None, right=None):\n",
        "#         self.val = val\n",
        "#         self.left = left\n",
        "#         self.right = right\n",
        "class Solution:\n",
        "    def maxDepth(self, root: Optional[TreeNode]) -> int:\n",
        "        if not root:\n",
        "                return 0\n",
        "        return 1 + max(self.maxDepth(root.left), self.maxDepth(root.right))"
      ],
      "metadata": {
        "id": "uwcVBc1JnpsV"
      },
      "execution_count": null,
      "outputs": []
    },
    {
      "cell_type": "markdown",
      "source": [
        "**Space Complexity**: O(1)\n",
        "\n",
        "**Time Complexity**: O(n)"
      ],
      "metadata": {
        "id": "c7mWpFGnsDu8"
      }
    },
    {
      "cell_type": "code",
      "source": [
        ""
      ],
      "metadata": {
        "id": "LVChhm_GnpwQ"
      },
      "execution_count": null,
      "outputs": []
    },
    {
      "cell_type": "markdown",
      "source": [
        "**Leetcode 102**: Binary Tree Level Order Traversal\n",
        "\n",
        "**Description**: Given the root of a binary tree, return the level order traversal of its nodes' values. (i.e., from left to right, level by level).\n",
        "\n",
        "**URL**: **https://leetcode.com/problems/binary-tree-level-order-traversal/**"
      ],
      "metadata": {
        "id": "TwCUu5aZvB_a"
      }
    },
    {
      "cell_type": "code",
      "source": [
        "# class TreeNode:\n",
        "#     def __init__(self, val=0, left=None, right=None):\n",
        "#         self.val = val\n",
        "#         self.left = left\n",
        "#         self.right = right\n",
        "class Solution:\n",
        "    def levelOrder(self, root: Optional[TreeNode]) -> List[List[int]]:\n",
        "        if not root:\n",
        "            return []\n",
        "\n",
        "        ans = []\n",
        "        q = deque([root])\n",
        "\n",
        "        while q:\n",
        "            currLevel = []\n",
        "            for _ in range(len(q)):\n",
        "                node = q.popleft()\n",
        "                currLevel.append(node.val)\n",
        "                if node.left:\n",
        "                    q.append(node.left)\n",
        "                if node.right:\n",
        "                    q.append(node.right)\n",
        "            ans.append(currLevel)\n",
        "\n",
        "        return ans"
      ],
      "metadata": {
        "id": "3L2n2MZ7npzw"
      },
      "execution_count": null,
      "outputs": []
    },
    {
      "cell_type": "markdown",
      "source": [
        "**Space Complexity**: O(n)\n",
        "\n",
        "**Time Complexity**: O(n)"
      ],
      "metadata": {
        "id": "StY6ykFTvClz"
      }
    },
    {
      "cell_type": "code",
      "source": [
        ""
      ],
      "metadata": {
        "id": "kFxhhiHwnp3h"
      },
      "execution_count": null,
      "outputs": []
    },
    {
      "cell_type": "markdown",
      "source": [
        "**Leetcode 101**: Symmetric Tree\n",
        "\n",
        "**Description**: Given the root of a binary tree, check whether it is a mirror of itself (i.e., symmetric around its center).\n",
        "\n",
        "**URL**: **https://leetcode.com/problems/symmetric-tree/**"
      ],
      "metadata": {
        "id": "IPUM-euoweLy"
      }
    },
    {
      "cell_type": "code",
      "source": [
        "# Definition for a binary tree node.\n",
        "# class TreeNode:\n",
        "#     def __init__(self, val=0, left=None, right=None):\n",
        "#         self.val = val\n",
        "#         self.left = left\n",
        "#         self.right = right\n",
        "class Solution:\n",
        "    def isSymmetric(self, root: Optional[TreeNode]) -> bool:\n",
        "        def isSymmetric(p: Optional[TreeNode], q: Optional[TreeNode]) -> bool:\n",
        "            if not p or not q:\n",
        "                return p == q\n",
        "\n",
        "            return p.val == q.val and \\\n",
        "                isSymmetric(p.left, q.right) and \\\n",
        "                isSymmetric(p.right, q.left)\n",
        "\n",
        "        return isSymmetric(root, root)\n",
        "        "
      ],
      "metadata": {
        "id": "M69E5J95nqCd"
      },
      "execution_count": null,
      "outputs": []
    },
    {
      "cell_type": "markdown",
      "source": [
        "**Space Complexity**: O(h)\n",
        "\n",
        "**Time Complexity**: O(n)"
      ],
      "metadata": {
        "id": "z2DFwHJEwfTE"
      }
    },
    {
      "cell_type": "code",
      "source": [
        ""
      ],
      "metadata": {
        "id": "Q5u5OVG5vunN"
      },
      "execution_count": null,
      "outputs": []
    },
    {
      "cell_type": "markdown",
      "source": [
        "**Leetcode 112**: Path Sum\n",
        "\n",
        "**Description**: Given the root of a binary tree and an integer targetSum, return true if the tree has a root-to-leaf path such that adding up all the values along the path equals targetSum.\n",
        "A leaf is a node with no children.\n",
        "\n",
        "**URL**: **https://leetcode.com/problems/path-sum/**"
      ],
      "metadata": {
        "id": "Y9g9fDCeoPVA"
      }
    },
    {
      "cell_type": "code",
      "source": [
        "# Definition for a binary tree node.\n",
        "# class TreeNode:\n",
        "#     def __init__(self, val=0, left=None, right=None):\n",
        "#         self.val = val\n",
        "#         self.left = left\n",
        "#         self.right = right\n",
        "class Solution:\n",
        "    def hasPathSum(self, root: TreeNode, sum: int) -> bool:\n",
        "        if not root:\n",
        "            return False\n",
        "        if root.val == sum and not root.left and not root.right:\n",
        "            return True\n",
        "        return self.hasPathSum(root.left, sum - root.val) or \\\n",
        "    self.hasPathSum(root.right, sum - root.val)"
      ],
      "metadata": {
        "id": "EZV-LplGvupx"
      },
      "execution_count": null,
      "outputs": []
    },
    {
      "cell_type": "markdown",
      "source": [
        "**Space Complexity**: O(h)\n",
        "\n",
        "**Time Complexity**: O(n)"
      ],
      "metadata": {
        "id": "ZJ5DtvjIoQVL"
      }
    },
    {
      "cell_type": "code",
      "source": [
        ""
      ],
      "metadata": {
        "id": "WQEIprcpvusu"
      },
      "execution_count": null,
      "outputs": []
    },
    {
      "cell_type": "markdown",
      "source": [
        "**Leetcode 226**: Invert Binary Tree\n",
        "\n",
        "**Description**: Given the root of a binary tree, invert the tree, and return its root.\n",
        "\n",
        "**URL**: **https://leetcode.com/problems/invert-binary-tree/**"
      ],
      "metadata": {
        "id": "H9SMXFr5oRxP"
      }
    },
    {
      "cell_type": "code",
      "source": [
        "# Definition for a binary tree node.\n",
        "# class TreeNode:\n",
        "#     def __init__(self, val=0, left=None, right=None):\n",
        "#         self.val = val\n",
        "#         self.left = left\n",
        "#         self.right = right\n",
        "class Solution:\n",
        "    def invertTree(self, root: Optional[TreeNode]) -> Optional[TreeNode]:\n",
        "        if not root:\n",
        "            return None\n",
        "\n",
        "        left = root.left\n",
        "        right = root.right\n",
        "        root.left = self.invertTree(right)\n",
        "        root.right = self.invertTree(left)\n",
        "        return root"
      ],
      "metadata": {
        "id": "WNNh_OJbvuvl"
      },
      "execution_count": null,
      "outputs": []
    },
    {
      "cell_type": "markdown",
      "source": [
        "**Space Complexity**: O(h)\n",
        "\n",
        "**Time Complexity**: O(n)"
      ],
      "metadata": {
        "id": "o-0Gfm3OoSzN"
      }
    },
    {
      "cell_type": "code",
      "source": [
        ""
      ],
      "metadata": {
        "id": "Iv4aohFbvuyV"
      },
      "execution_count": null,
      "outputs": []
    },
    {
      "cell_type": "markdown",
      "source": [
        "**Leetcode 700**: Search in a Binary Search Tree\n",
        "\n",
        "**Description**: You are given the root of a binary search tree (BST) and an integer val.\n",
        "Find the node in the BST that the node's value equals val and return the subtree rooted with that node. If such a node does not exist, return null.\n",
        "\n",
        "\n",
        "**URL**: **https://leetcode.com/problems/search-in-a-binary-search-tree/**"
      ],
      "metadata": {
        "id": "guZJdNYYy96z"
      }
    },
    {
      "cell_type": "code",
      "source": [
        "# Definition for a binary tree node.\n",
        "# class TreeNode:\n",
        "#     def __init__(self, val=0, left=None, right=None):\n",
        "#         self.val = val\n",
        "#         self.left = left\n",
        "#         self.right = right\n",
        "class Solution:\n",
        "    def searchBST(self, root: Optional[TreeNode], val: int) -> Optional[TreeNode]:\n",
        "        if not root:\n",
        "            return None\n",
        "        if root.val == val:\n",
        "            return root\n",
        "        if root.val > val:\n",
        "            return self.searchBST(root.left, val)\n",
        "        return self.searchBST(root.right, val)\n",
        "        "
      ],
      "metadata": {
        "id": "eI5kukNjvu37"
      },
      "execution_count": null,
      "outputs": []
    },
    {
      "cell_type": "markdown",
      "source": [
        "**Space Complexity**: O(h)\n",
        "\n",
        "**Time Complexity**: O(n)"
      ],
      "metadata": {
        "id": "ejq7rKc-zZFo"
      }
    },
    {
      "cell_type": "code",
      "source": [
        ""
      ],
      "metadata": {
        "id": "MuwVzgNivu6y"
      },
      "execution_count": null,
      "outputs": []
    },
    {
      "cell_type": "markdown",
      "source": [
        "**Leetcode 700**: Insert into a Binary Search Tree\n",
        "\n",
        "**Description**: You are given the root node of a binary search tree (BST) and a value to insert into the tree. Return the root node of the BST after the insertion. It is guaranteed that the new value does not exist in the original BST.\n",
        "\n",
        "Notice that there may exist multiple valid ways for the insertion, as long as the tree remains a BST after insertion. You can return any of them.\n",
        "\n",
        "**URL**: **https://leetcode.com/problems/insert-into-a-binary-search-tree/**"
      ],
      "metadata": {
        "id": "GoRmFu7KzqTQ"
      }
    },
    {
      "cell_type": "code",
      "source": [
        "# Definition for a binary tree node.\n",
        "# class TreeNode:\n",
        "#     def __init__(self, val=0, left=None, right=None):\n",
        "#         self.val = val\n",
        "#         self.left = left\n",
        "#         self.right = right\n",
        "class Solution:\n",
        "    def insertIntoBST(self, root: Optional[TreeNode], val: int) -> Optional[TreeNode]:\n",
        "        if not root:\n",
        "            return TreeNode(val)\n",
        "        if root.val > val:\n",
        "            root.left = self.insertIntoBST(root.left, val)\n",
        "        else:\n",
        "            root.right = self.insertIntoBST(root.right, val)\n",
        "        return root"
      ],
      "metadata": {
        "id": "YuUNKZB1vu9y"
      },
      "execution_count": null,
      "outputs": []
    },
    {
      "cell_type": "markdown",
      "source": [
        "**Time Complexity**: O(\\log n) \\to O(n)O(logn)→O(n)\n",
        "\n",
        "**Space Complexity**: O(\\log n) \\to O(n)O(logn)→O(n)"
      ],
      "metadata": {
        "id": "lkm-1y9DzrQU"
      }
    },
    {
      "cell_type": "code",
      "source": [
        ""
      ],
      "metadata": {
        "id": "ztGjY-PBvvA2"
      },
      "execution_count": null,
      "outputs": []
    },
    {
      "cell_type": "code",
      "source": [
        ""
      ],
      "metadata": {
        "id": "Chp-NoRHvvD6"
      },
      "execution_count": null,
      "outputs": []
    },
    {
      "cell_type": "code",
      "source": [
        ""
      ],
      "metadata": {
        "id": "xlnGHl0PvvHL"
      },
      "execution_count": null,
      "outputs": []
    },
    {
      "cell_type": "code",
      "source": [
        ""
      ],
      "metadata": {
        "id": "_ArQQHuovvKB"
      },
      "execution_count": null,
      "outputs": []
    }
  ]
}