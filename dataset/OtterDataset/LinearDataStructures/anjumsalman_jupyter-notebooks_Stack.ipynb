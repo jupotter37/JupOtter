{
 "cells": [
  {
   "cell_type": "markdown",
   "metadata": {},
   "source": [
    "## Stack\n",
    "Stack is a `LIFO`, Last In First Out data structure. It is a list with restriction that insertion and deletion occurs only at one end.  \n",
    "Stack can be implemented using arrays or using linked list.\n",
    "\n",
    "### Array based implementation"
   ]
  },
  {
   "cell_type": "code",
   "execution_count": null,
   "metadata": {},
   "outputs": [],
   "source": [
    "class SimpleArrayStack<T> {\n",
    "    private final int MAX_SIZE;\n",
    "    private final Object[] elements;\n",
    "\n",
    "    private int top = -1;\n",
    "\n",
    "    public SimpleArrayStack(int size) {\n",
    "        MAX_SIZE = size;\n",
    "        elements = new Object[MAX_SIZE];\n",
    "    }\n",
    "\n",
    "    public boolean isEmpty() {\n",
    "        return top == -1;\n",
    "    }\n",
    "\n",
    "    public void push(T x) {\n",
    "        if (top < MAX_SIZE - 1) {\n",
    "            elements[++top] = x;\n",
    "        } else {\n",
    "            throw new IllegalArgumentException(\"Stack is full\");\n",
    "        }\n",
    "    }\n",
    "\n",
    "    public T pop() {\n",
    "        if (isEmpty()) {\n",
    "            throw new IllegalArgumentException(\"Queue is empty\");\n",
    "        }\n",
    "\n",
    "        top--;\n",
    "        return (T) elements[top + 1];\n",
    "    }\n",
    "}"
   ]
  },
  {
   "cell_type": "markdown",
   "metadata": {},
   "source": [
    "We can modify the above code to extend the array when the array completely fills up. In such case the time complexities are:\n",
    "1. push : Best case $O(1)$, Worst case (when we have to extend) $O(n)$, Average case $O(1)$\n",
    "2. pop : $O(1)$"
   ]
  },
  {
   "cell_type": "code",
   "execution_count": null,
   "metadata": {},
   "outputs": [],
   "source": [
    "class ResizableArrayStack<T> {\n",
    "    private int arraySize = 5;\n",
    "    private Object[] elements = new Object[arraySize];\n",
    "\n",
    "    private int top = -1;\n",
    "\n",
    "    public boolean isEmpty() {\n",
    "        return top == -1;\n",
    "    }\n",
    "\n",
    "    public void push(T x) {\n",
    "        if (top == arraySize - 1) {\n",
    "            resize(2 * arraySize);\n",
    "        }\n",
    "\n",
    "        elements[++top] = x;\n",
    "    }\n",
    "\n",
    "    public T pop() {\n",
    "        if (isEmpty()) {\n",
    "            throw new IllegalArgumentException(\"Stack is empty\");\n",
    "        } else if (arraySize > 3 * top) {\n",
    "            resize(arraySize / 2);\n",
    "        }\n",
    "\n",
    "        top--;\n",
    "        return (T) elements[top + 1];\n",
    "    }\n",
    "\n",
    "    private void resize(int newSize) {\n",
    "        Object[] newElements = new Object[newSize];\n",
    "\n",
    "        for (int i = 0; i < elements.length; i++) {\n",
    "            newElements[i] = elements[i];\n",
    "        }\n",
    "\n",
    "        elements = newElements;\n",
    "        arraySize = newSize;\n",
    "    }\n",
    "}"
   ]
  },
  {
   "cell_type": "markdown",
   "metadata": {},
   "source": [
    "### A Note on Time Complexity of Insertion of Elements in a Resizable Array\n",
    "Whenever the array is full we double the size of array, copy the elements from old array to the new one. So what is the time complexity? To calculate the time complexity of addition of element into a resizable array, we do *[amortized time complexity](https://brilliant.org/wiki/amortized-analysis/)* which is basically weighted average time complexity.\n",
    "  \n",
    "Suppose we have to insert $n$ elements into an array and we start with array having size $1$.  \n",
    "So as soon as we add $1$ element, we create a new array with double the size and copy that $1$ element to the new array. When we add one more element, we double array and copy over $2$ elements. Adding the third element takes constant time. So for $n$ elements, the times are: \n",
    "\n",
    "$$1 \\rightarrow 1$$\n",
    "$$2 \\rightarrow 2 = 2^0 + 1$$\n",
    "$$3 \\rightarrow 3 = 2^1 + 1$$\n",
    "$$4 \\rightarrow 1$$\n",
    "$$5 \\rightarrow 5 = 2^2 + 1$$\n",
    "$$6 \\rightarrow 1$$\n",
    "$$\\ldots$$\n",
    "\n",
    "<img src=\"images/amortized_analysis.png\" />"
   ]
  },
  {
   "cell_type": "markdown",
   "metadata": {},
   "source": [
    "### Linked List Based Implementation"
   ]
  },
  {
   "cell_type": "code",
   "execution_count": null,
   "metadata": {},
   "outputs": [],
   "source": [
    "class LinkedListStack<T> {\n",
    "    private class Node {\n",
    "        public T data;\n",
    "        public Node next;\n",
    "\n",
    "        public Node(T data) {\n",
    "            this.data = data;\n",
    "        }\n",
    "    }\n",
    "\n",
    "    private Node top;\n",
    "\n",
    "    public boolean isEmpty() {\n",
    "        return top == null;\n",
    "    }\n",
    "\n",
    "    public void push(T x) {\n",
    "        Node temp = new Node(x);\n",
    "        temp.next = top;\n",
    "        top = temp;\n",
    "    }\n",
    "\n",
    "    public T pop() {\n",
    "        if (isEmpty()) {\n",
    "            throw new IllegalArgumentException(\"Stack is empty\");\n",
    "        }\n",
    "\n",
    "        T value = top.data;\n",
    "        top = top.next;\n",
    "        return value;\n",
    "    }\n",
    "}"
   ]
  },
  {
   "cell_type": "markdown",
   "metadata": {},
   "source": [
    "Linked List based stack implementation has the same push and pop time complexity as array based implementation (as long as array based implementation has fixed length)."
   ]
  },
  {
   "cell_type": "markdown",
   "metadata": {},
   "source": [
    "### Java Implementation\n",
    "We can use either of `Stack`, `ArrayDeque` or `ArrayList`.\n",
    "\n",
    "**Stack:** a `Vector` based implementation\n",
    "- Instantiate : `Stack<Integer> stack = new Stack<>();`\n",
    "- Size: `stack.size();`\n",
    "- Push: `stack.push(5)`\n",
    "- Pop: `int item = stack.pop()`\n",
    "- Iterate: `for(Integer element: stack)`\n",
    "\n",
    "**ArrayDeque:** prefer this.\n",
    "- Instantiate : `ArrayDeque<Integer> stack = new ArrayDeque<>();`\n",
    "- Size: `stack.size();`\n",
    "- Push: `stack.push(5)`, `stack.addFirst(5)`\n",
    "- Pop: `int item = stack.pop()` or `int item = stack.removeFirst()`\n",
    "- Iterate: `for(Integer element: stack)`\n",
    "\n",
    "**ArrayList:**\n",
    "- Instantiate : `ArrayList<Integer> stack = new ArrayList<>();`\n",
    "- Size: `stack.size();`\n",
    "- Push: `stack.add(5)`\n",
    "- Pop: `int item = stack.remove(stack.size() - 1)`\n",
    "- Iterate: `for(Integer element: stack)`"
   ]
  },
  {
   "cell_type": "markdown",
   "metadata": {},
   "source": [
    "## Infix Postfix and Prefix\n",
    "A normal arithmetic expression comprises of opertor in between operands. Expression is evaluated from left to right and we have to take into consideration the precedence of various operators. Paranthesis is used to specify what is evaluated first. The expression `A + B * C + D` can be rewritten as `((A + (B * C)) + D)` to show that the multiplication happens first, followed by the leftmost addition.  \n",
    "\n",
    "**Prefix:** notation requires that all operators precede the two operands that they work on  \n",
    "**Postfix:** notation requires that its operators come after the corresponding operands  \n",
    "\n",
    "Examples:\n",
    "```\n",
    "| Infix             | Prefix        | Postfix       |\n",
    "|-------------------|---------------|---------------|\n",
    "| A + B * C + D     | + + A * B C D | A B C * + D + |\n",
    "| (A + B) * (C + D) | * + A B + C D | A B + C D + * |\n",
    "| A * B + C * D     | + * A B * C D | A B * C D * + |\n",
    "```\n",
    "\n",
    "Prefix and postfix notations have the benefit of not requiring paranthesis to determine the order of operations.\n",
    "\n",
    "**Converting infix to postfix and prefix:** if the infix operation is completely paranthesized, we traverse the expression and a) in case of postfix replace ')' with the operator b) in case of prefix replace '(' with the operator.\n",
    "\n",
    "![Postfix](https://runestone.academy/runestone/books/published/pythonds/_images/moveright.png)\n",
    "![Prefix](https://runestone.academy/runestone/books/published/pythonds/_images/moveleft.png)  \n",
    "\n",
    "Infix to postfix:\n",
    "```java\n",
    "public static String convert(String input) {\n",
    "    StringBuffer output = new StringBuffer();\n",
    "\n",
    "    // Only operators are added to this stack\n",
    "    Stack<String> operatorStack = new Stack<>();\n",
    "\n",
    "    // Considering input has space separated symbols\n",
    "    String[] tokens = input.split(\" \");\n",
    "\n",
    "    for(String token: tokens) {\n",
    "        // if not operator, just append to output\n",
    "        if(!(token.equals(\"+\") || token.equals(\"-\") ||\n",
    "            token.equals(\"*\") || token.equals(\"/\") ||\n",
    "            token.equals(\"(\") || token.equals(\")\"))) {\n",
    "            output.append(token);\n",
    "        // add opening paranthesis to the stack\n",
    "        } else if(token.equals(\"(\")) {\n",
    "            operatorStack.push(\"(\");\n",
    "        // on encountering closing paranthesis, remove\n",
    "        // everything from stack (and append) till you\n",
    "        // get to corresponding opening paranthesis\n",
    "        } else if(token.equals(\")\")) {\n",
    "            String popped = null;\n",
    "            while(!operatorStack.isEmpty() && \n",
    "                  (popped = operatorStack.pop()) != \"(\") {\n",
    "                output.append(popped);\n",
    "            }\n",
    "        // For other operators before inserting into stack\n",
    "        // remove all operators which have equal or greater\n",
    "        // precedence\n",
    "        } else if(token.equals(\"+\") || token.equals(\"-\")) {\n",
    "            while(!operatorStack.isEmpty()) {\n",
    "                String top = operatorStack.peek();\n",
    "                if(top.equals(\"+\") || top.equals(\"-\") ||\n",
    "                   top.equals(\"*\") || top.equals(\"/\")) {\n",
    "                    output.append(operatorStack.pop());\n",
    "                } else {\n",
    "                    break;\n",
    "                }\n",
    "            }\n",
    "            operatorStack.push(token);\n",
    "        } else if(token.equals(\"*\") || token.equals(\"/\")) {\n",
    "            while(!operatorStack.isEmpty()) {\n",
    "                String top = operatorStack.peek();\n",
    "                if(top.equals(\"*\") || top.equals(\"/\")) {\n",
    "                    output.append(operatorStack.pop());\n",
    "                } else {\n",
    "                    break;\n",
    "                }\n",
    "            }\n",
    "            operatorStack.push(token);\n",
    "        }\n",
    "    }\n",
    "\n",
    "    // Empty out stack\n",
    "    while(!operatorStack.isEmpty()) {\n",
    "        output.append(operatorStack.pop());\n",
    "    }\n",
    "\n",
    "    return new String(output);\n",
    "}\n",
    "```\n",
    "\n",
    "Evaluating postfix expression\n",
    "```java\n",
    "public static int evaluate(String input) {\n",
    "    // Only numbers are added to this stack\n",
    "    Stack<Integer> numStack = new Stack<>();\n",
    "\n",
    "    // Considering input has space separated symbols\n",
    "    String[] tokens = input.trim().split(\" \");\n",
    "\n",
    "    for(String token: tokens) {\n",
    "        // push numbers to stack\n",
    "        if(!(token.equals(\"+\") || token.equals(\"-\") ||\n",
    "             token.equals(\"*\") || token.equals(\"/\"))) {\n",
    "            numStack.push(Integer.parseInt(token));\n",
    "        } else {\n",
    "            int rightOperand = numStack.pop();\n",
    "            int leftOperand = numStack.pop();\n",
    "            int result = 0;\n",
    "\n",
    "            // evaluate binary expression as per operator\n",
    "            // then push result to stack again\n",
    "            if(token.equals(\"+\")) {\n",
    "                result = leftOperand + rightOperand;\n",
    "            } else if(token.equals(\"-\")) {\n",
    "                result = leftOperand - rightOperand;\n",
    "            } else if(token.equals(\"*\")) {\n",
    "                result = leftOperand * rightOperand;\n",
    "            } else if(token.equals(\"/\")) {\n",
    "                result = leftOperand / rightOperand;\n",
    "            }\n",
    "\n",
    "            numStack.push(result);\n",
    "        }\n",
    "    }\n",
    "\n",
    "    return numStack.pop();\n",
    "}\n",
    "```"
   ]
  },
  {
   "cell_type": "markdown",
   "metadata": {},
   "source": [
    "**Q 1:** Implement a function `getMin()` which returns the minimum element in the stack.  \n",
    "**Answer:** So get minimum element of stack, we need to make use of two stacks. One main stack and the other stack which holds current minimum at the top."
   ]
  },
  {
   "cell_type": "code",
   "execution_count": 6,
   "metadata": {},
   "outputs": [
    {
     "name": "stdout",
     "output_type": "stream",
     "text": [
      "3\n",
      "0\n"
     ]
    }
   ],
   "source": [
    "stack = []\n",
    "# This stack contains all the minimum\n",
    "# elements\n",
    "min_stack = []\n",
    "def push(x):\n",
    "    stack.append(x)\n",
    "    # Both stacks are empty, so append\n",
    "    if len(stack) == 0:\n",
    "        min_stack.append(x)\n",
    "    else:\n",
    "        # Check if the newly added element is less\n",
    "        # than the current minimum element\n",
    "        if x <= min_stack[-1]:\n",
    "            min_stack.append(x)\n",
    "            \n",
    "def pop():\n",
    "    popped = stack.pop()\n",
    "    if popped == min_stack[-1]:\n",
    "        min_stack.pop()\n",
    "        \n",
    "def get_min():\n",
    "    return min_stack[-1]\n",
    "        \n",
    "push(7)\n",
    "push(8)\n",
    "push(3)\n",
    "print(get_min())\n",
    "push(1)\n",
    "push(0)\n",
    "push(0)\n",
    "pop()\n",
    "print(get_min())"
   ]
  },
  {
   "cell_type": "markdown",
   "metadata": {},
   "source": [
    "How can we maintain minimum without using extra space? If all the numbers to be inserted into the stack are positive then we can follow the below steps. Consider the array is `6, 3, 7, 8, 2`. We insert 6 first into the stack. The variable `min_stack = 6`. Next when we push 3, `min_stack = 3`, however the value inserted into the stack will be `3 - min_stack` which is `3 - 6 = -3`. We will insert 7 and 8 as it is. When we insert 2, we make `min_stack = 2`, however we insert `2 - 3 = -1` into the stack. And so on. The stack now is `6, -3, 7, 8, -1`.  \n",
    "Now when we pop elements and it is negative, then to get to the original number we need to follow the following equation: `x - prev_min_stack = top_of_stack`. But how to get the previous min from current min? `prev_min_stack = min_stack - top_of_stack`. `prev_min_stack = 2 - (-1) = 3`. So the popped elements is `x - 3 = -1 = 2`. Make `min_stack = prev_min_stack`."
   ]
  },
  {
   "cell_type": "markdown",
   "metadata": {},
   "source": [
    "**Q 2:** Sort a stack  \n",
    "**Answer:**"
   ]
  },
  {
   "cell_type": "code",
   "execution_count": 2,
   "metadata": {},
   "outputs": [
    {
     "name": "stdout",
     "output_type": "stream",
     "text": [
      "[1, 1, 2, 3, 5]\n"
     ]
    }
   ],
   "source": [
    "stack = []\n",
    "\n",
    "def sort():\n",
    "    # Create aux stack\n",
    "    aux = []\n",
    "        \n",
    "    while(len(stack) != 0):\n",
    "        popped = stack.pop()\n",
    "        # If aux is empty just push\n",
    "        if len(aux) == 0:\n",
    "            aux.append(popped)\n",
    "            \n",
    "        # If the element to be added to aux is greater\n",
    "        # than or equal to element at top, push\n",
    "        elif popped <= aux[-1]:\n",
    "            aux.append(popped)\n",
    "        # Pop out out elements greater before pushing\n",
    "        else:\n",
    "            while(len(aux) != 0 and aux[-1] < popped):\n",
    "                stack.append(aux.pop())\n",
    "            aux.append(popped)\n",
    "            \n",
    "    while(len(aux) != 0):\n",
    "        stack.append(aux.pop())\n",
    "            \n",
    "stack = [2,3,1,5,1]\n",
    "sort()\n",
    "print(stack)"
   ]
  },
  {
   "cell_type": "markdown",
   "metadata": {},
   "source": [
    "**Q 3:** Given a string, remove all the consequtive duplicate elements. For example, if the string is `abbck`, then return `ack`. However consider `kabbal`. It will convert to `kaal` and then finally to `kl`. Finally if we pass `aaa` as input, we should get `a` .  \n",
    "**Answer:**"
   ]
  },
  {
   "cell_type": "code",
   "execution_count": 4,
   "metadata": {},
   "outputs": [
    {
     "name": "stdout",
     "output_type": "stream",
     "text": [
      "kabal\n",
      "kl\n",
      "a\n",
      "ack\n"
     ]
    }
   ],
   "source": [
    "def remove_duplicate(input):\n",
    "    stack = []\n",
    "    for i in input:\n",
    "        if len(stack) == 0:\n",
    "            stack.append(i)\n",
    "        else:\n",
    "            # If the element to be inserted is already\n",
    "            # present at the top, pop that element\n",
    "            if stack[-1] == i:\n",
    "                stack.pop()\n",
    "            # Else push element to the stack\n",
    "            else:\n",
    "                stack.append(i)\n",
    "    return ''.join(stack)\n",
    "\n",
    "print(remove_duplicate('kabbbal'))\n",
    "print(remove_duplicate('kabbal'))\n",
    "print(remove_duplicate('aaa'))\n",
    "print(remove_duplicate('abbck'))"
   ]
  },
  {
   "cell_type": "markdown",
   "metadata": {},
   "source": [
    "**Q 4:** Determine whether the given set of paranthesis is valid or not. Paranthesis can be either of the following: `[, {, (, ), }, ]`  \n",
    "**Answer:**"
   ]
  },
  {
   "cell_type": "code",
   "execution_count": 21,
   "metadata": {},
   "outputs": [
    {
     "name": "stdout",
     "output_type": "stream",
     "text": [
      "False\n",
      "True\n"
     ]
    }
   ],
   "source": [
    "def valid_paranthesis(input):\n",
    "    opening = ['{', '[', '(']\n",
    "    closing = ['}', ']', ')']\n",
    "    stack = []\n",
    "    for i in input:\n",
    "        if i in closing and len(stack) == 0:\n",
    "            return False\n",
    "        \n",
    "        if i in opening:\n",
    "            stack.append(i)\n",
    "        else:\n",
    "            popped = stack.pop()\n",
    "            if (i == '}' and popped == '{') or (i == ']' and popped == '[') or (i == ')' and popped == '('):\n",
    "                continue\n",
    "            else:\n",
    "                return False\n",
    "            \n",
    "    if len(stack) == 0:\n",
    "        return True\n",
    "    else:\n",
    "        return False\n",
    "\n",
    "par = '{[)(]}'                \n",
    "print(valid_paranthesis(par))\n",
    "\n",
    "par = '{[()]}'                \n",
    "print(valid_paranthesis(par))"
   ]
  },
  {
   "cell_type": "markdown",
   "metadata": {},
   "source": [
    "**Q 5:** Given an array, for each element find the closest number (to the right) greater than that number. For example, if the array is `[10, 7, 4, 2, 9, 10, 11, 3, 2]`, the answer would be `[11, 9, 9, 9, 10, 11, -1, -1, -1]` .   \n",
    "**Answer:** "
   ]
  },
  {
   "cell_type": "code",
   "execution_count": 8,
   "metadata": {},
   "outputs": [
    {
     "name": "stdout",
     "output_type": "stream",
     "text": [
      "[11, 9, 9, 9, 10, 11, -1, -1, -1]\n"
     ]
    }
   ],
   "source": [
    "def next_larger(A):\n",
    "    i = len(A) - 1\n",
    "    stack = []\n",
    "    answer = [-1] * len(A)\n",
    "    while(i >= 0):\n",
    "        val = A[i]\n",
    "        \n",
    "        while(len(stack) != 0 and val >= stack[-1]):\n",
    "            stack.pop()\n",
    "            \n",
    "        if len(stack) != 0:\n",
    "            answer[i] = stack[-1]\n",
    "        \n",
    "        stack.append(val)\n",
    "        i -= 1\n",
    "    return answer\n",
    "\n",
    "A = [10, 7, 4, 2, 9, 10, 11, 3, 2]\n",
    "print(next_larger(A))"
   ]
  },
  {
   "cell_type": "markdown",
   "metadata": {},
   "source": [
    "Similarly, previous larger would be"
   ]
  },
  {
   "cell_type": "code",
   "execution_count": 11,
   "metadata": {},
   "outputs": [
    {
     "name": "stdout",
     "output_type": "stream",
     "text": [
      "[-1, 10, 7, 4, 10, -1, -1, 11, 3]\n"
     ]
    }
   ],
   "source": [
    "def prev_larger(A):\n",
    "    i = 0\n",
    "    stack = []\n",
    "    answer = [-1] * len(A)\n",
    "    while(i < len(A)):\n",
    "        val = A[i]\n",
    "        \n",
    "        while(len(stack) != 0 and val >= stack[-1]):\n",
    "            stack.pop()\n",
    "            \n",
    "        if len(stack) != 0:\n",
    "            answer[i] = stack[-1]\n",
    "        \n",
    "        stack.append(val)\n",
    "        i += 1\n",
    "    return answer\n",
    "\n",
    "A = [10, 7, 4, 2, 9, 10, 11, 3, 2]\n",
    "print(prev_larger(A))"
   ]
  },
  {
   "cell_type": "markdown",
   "metadata": {},
   "source": [
    "In similar fashion,"
   ]
  },
  {
   "cell_type": "code",
   "execution_count": 12,
   "metadata": {},
   "outputs": [
    {
     "name": "stdout",
     "output_type": "stream",
     "text": [
      "[7, 4, 2, -1, 3, 3, 3, 2, -1]\n"
     ]
    }
   ],
   "source": [
    "def next_smaller(A):\n",
    "    i = len(A) - 1\n",
    "    stack = []\n",
    "    answer = [-1] * len(A)\n",
    "    while(i >= 0):\n",
    "        val = A[i]\n",
    "        \n",
    "        while(len(stack) != 0 and val <= stack[-1]):\n",
    "            stack.pop()\n",
    "            \n",
    "        if len(stack) != 0:\n",
    "            answer[i] = stack[-1]\n",
    "        \n",
    "        stack.append(val)\n",
    "        i -= 1\n",
    "    return answer\n",
    "\n",
    "A = [10, 7, 4, 2, 9, 10, 11, 3, 2]\n",
    "print(next_smaller(A))"
   ]
  },
  {
   "cell_type": "markdown",
   "metadata": {},
   "source": [
    "And,"
   ]
  },
  {
   "cell_type": "code",
   "execution_count": 13,
   "metadata": {},
   "outputs": [
    {
     "name": "stdout",
     "output_type": "stream",
     "text": [
      "[-1, -1, -1, -1, 2, 9, 10, 2, -1]\n"
     ]
    }
   ],
   "source": [
    "def prev_smaller(A):\n",
    "    i = 0\n",
    "    stack = []\n",
    "    answer = [-1] * len(A)\n",
    "    while(i < len(A)):\n",
    "        val = A[i]\n",
    "        \n",
    "        while(len(stack) != 0 and val <= stack[-1]):\n",
    "            stack.pop()\n",
    "            \n",
    "        if len(stack) != 0:\n",
    "            answer[i] = stack[-1]\n",
    "        \n",
    "        stack.append(val)\n",
    "        i += 1\n",
    "    return answer\n",
    "\n",
    "A = [10, 7, 4, 2, 9, 10, 11, 3, 2]\n",
    "print(prev_smaller(A))"
   ]
  },
  {
   "cell_type": "markdown",
   "metadata": {},
   "source": [
    "**Q 6:** Implement UNDO and REDO operations using stacks.  \n",
    "**Answer:** Maintain two stack say UNDO stack and REDO stack. We use UNDO stack to keep history of all the operations that we have done. Whenever a user does UNDO operation, we simply pop the top of the element from UNDO stack and push it to the REDO stack. Then, if the user wants to do REDO operation we pop the top of the element of REDO stack and push it to UNDO. If the user performs a new operation, then we make the stack REDO empty."
   ]
  },
  {
   "cell_type": "markdown",
   "metadata": {},
   "source": [
    "**Q 7:** Insert an element at the bottom of the stack.  \n",
    "**Answer:** We can solve this by maintaining an auxiliary stack."
   ]
  },
  {
   "cell_type": "code",
   "execution_count": 1,
   "metadata": {},
   "outputs": [
    {
     "name": "stdout",
     "output_type": "stream",
     "text": [
      "[1, 4, 3, 2]\n"
     ]
    }
   ],
   "source": [
    "def insert_at_bottom(stack, x):\n",
    "    if len(stack) == 0:\n",
    "        stack.append(x)\n",
    "        return\n",
    "    \n",
    "    aux = []\n",
    "    while(len(stack) != 0):\n",
    "        aux.append(stack.pop())\n",
    "    \n",
    "    stack.append(x)\n",
    "    while(len(aux) != 0):\n",
    "        stack.append(aux.pop())\n",
    "        \n",
    "stack = [4,3,2]\n",
    "insert_at_bottom(stack, 1)\n",
    "print(stack)"
   ]
  },
  {
   "cell_type": "markdown",
   "metadata": {},
   "source": [
    "Or we can use recursion."
   ]
  },
  {
   "cell_type": "code",
   "execution_count": 2,
   "metadata": {},
   "outputs": [
    {
     "name": "stdout",
     "output_type": "stream",
     "text": [
      "[1, 4, 3, 2]\n"
     ]
    }
   ],
   "source": [
    "def insert_at_bottom(stack, x):\n",
    "    if len(stack) == 0:\n",
    "        stack.append(x)\n",
    "        return\n",
    "    \n",
    "    popped = stack.pop()\n",
    "    insert_at_bottom(stack, x)\n",
    "    stack.append(popped)\n",
    "    \n",
    "stack = [4,3,2]\n",
    "insert_at_bottom(stack, 1)\n",
    "print(stack)"
   ]
  },
  {
   "cell_type": "markdown",
   "metadata": {},
   "source": [
    "**Q 8:** Reverse a stack.  \n",
    "**Answer:** For every stack element, insert it at the bottom. Time complexity is $O(n^2)$. Space complexity is $O(n)$"
   ]
  },
  {
   "cell_type": "code",
   "execution_count": 3,
   "metadata": {},
   "outputs": [
    {
     "name": "stdout",
     "output_type": "stream",
     "text": [
      "[4, 3, 2, 1]\n"
     ]
    }
   ],
   "source": [
    "def reverse_stack(stack):\n",
    "    # Copy all elements to an aux stack\n",
    "    aux = []\n",
    "    while(len(stack) != 0):\n",
    "        aux.append(stack.pop())\n",
    "        \n",
    "    while(len(aux) != 0):\n",
    "        insert_at_bottom(stack, aux.pop())\n",
    "        \n",
    "stack = [1,2,3,4]\n",
    "reverse_stack(stack)\n",
    "print(stack)"
   ]
  },
  {
   "cell_type": "markdown",
   "metadata": {},
   "source": [
    "**Q 9:** Given an array, return the number of subarrays where the leftmost element is lesser than the rest of the elements. For example, if the array is `[1,4,2,5,3]`, then all possible subarrays are: `[1]`, `[4]`, `[2]`, `[5]`, `[3]`, `[1,4]`, `[2,5]`, `[1,4,2]`, `[2,5,3]`, `[4,2,5]`, `[1,4,2,5]`, `[1,4,2,5,3]`. So the count is 12.  \n",
    "**Answer:** This problem can be solved iterating over each element and finding out how many elments are greater than it towards the right. This solution is $O(n^2)$."
   ]
  },
  {
   "cell_type": "code",
   "execution_count": 1,
   "metadata": {
    "tags": []
   },
   "outputs": [
    {
     "name": "stdout",
     "output_type": "stream",
     "text": [
      "12\n"
     ]
    }
   ],
   "source": [
    "def leftmost_smaller(A):\n",
    "    count = 0\n",
    "    for i in range(len(A)):\n",
    "        c = 1\n",
    "        for j in range(i+1, len(A)):\n",
    "            if A[j] > A[i]:\n",
    "                c += 1\n",
    "        \n",
    "        count += c        \n",
    "    return count\n",
    "\n",
    "print(leftmost_smaller([1,4,2,5,3]))"
   ]
  },
  {
   "cell_type": "markdown",
   "metadata": {
    "tags": []
   },
   "source": [
    "Another way to approach is to think recursively:"
   ]
  },
  {
   "cell_type": "code",
   "execution_count": 4,
   "metadata": {
    "tags": []
   },
   "outputs": [
    {
     "name": "stdout",
     "output_type": "stream",
     "text": [
      "12\n"
     ]
    }
   ],
   "source": [
    "# visited contains (start, end) indices\n",
    "# of the visited subarray\n",
    "def leftmost_smaller(A, start, end, visited):\n",
    "    # this subarray has been already accounted for\n",
    "    # return count as zero\n",
    "    if (start, end) in visited:\n",
    "        return 0\n",
    "    \n",
    "    visited.add((start, end))\n",
    "    if start > end:\n",
    "        return 0\n",
    "    \n",
    "    if start == end:\n",
    "        return 1\n",
    "    \n",
    "    count = 0\n",
    "    if(A[start] < A[end]):\n",
    "        count += 1\n",
    "        \n",
    "    return count + leftmost_smaller(A, start + 1, end, visited) + leftmost_smaller(A, start, end - 1, visited)\n",
    "\n",
    "print(leftmost_smaller([1,4,2,5,3], 0, 4, set()))"
   ]
  },
  {
   "cell_type": "markdown",
   "metadata": {},
   "source": [
    "**Q 10** Given a $N \\times 2$ array, where if `A[i][0] == 1` then add `A[i][1]` to stack and return -1. If `A[i][0] == 2` then remove the most frequent item from the stack. If the most frequent item in the stack has more than one candidate, then return the one which is closest to the top.  \n",
    "**Answer** To solve this we can maintain multiple stacks, each for a particular frequency"
   ]
  },
  {
   "cell_type": "code",
   "execution_count": 4,
   "metadata": {},
   "outputs": [
    {
     "name": "stdout",
     "output_type": "stream",
     "text": [
      "[-1, -1, -1, -1, -1, -1, 5, 7, 5, 4]\n"
     ]
    }
   ],
   "source": [
    "def max_freq_stack(A):\n",
    "    freq_map = {}\n",
    "    stacks = []\n",
    "    \n",
    "    # We create our own definition of push and pop\n",
    "    def push(val):\n",
    "        # Get current frequency\n",
    "        current_freq = freq_map.get(val, 0)\n",
    "        updated_freq = current_freq + 1\n",
    "        freq_map[val] = updated_freq\n",
    "        if len(stacks) < updated_freq:\n",
    "            stacks.append([])\n",
    "            stacks[updated_freq - 1].append(val)\n",
    "        else:\n",
    "            stacks[updated_freq - 1].append(val)\n",
    "        return -1\n",
    "            \n",
    "    def pop():\n",
    "        i = len(stacks) - 1\n",
    "        while i >= 0:\n",
    "            if len(stacks[i]) != 0:\n",
    "                popped = stacks[i].pop()\n",
    "                freq_map[popped] -= 1\n",
    "                return popped\n",
    "            else:\n",
    "                i -= 1\n",
    "    \n",
    "    output = []\n",
    "    for a in A:\n",
    "        if a[0] == 1:\n",
    "            output.append(push(a[1]))\n",
    "        elif a[0] == 2:\n",
    "            output.append(pop())\n",
    "            \n",
    "    return output\n",
    "\n",
    "A = [[1, 5], [1, 7], [1, 5], [1, 7], [1, 4], [1, 5], [2, 0], [2, 0], [2, 0], [2, 0]]\n",
    "print(max_freq_stack(A))"
   ]
  },
  {
   "cell_type": "markdown",
   "metadata": {},
   "source": [
    "**Q 11** Given a string A representing an absolute path for a file (Unix-style). Return the string A after simplifying the absolute path. For example: `/a/./b/../../c/` is converted to `/c`  \n",
    "**Answer** . We can remove the last character if it is a `/`."
   ]
  },
  {
   "cell_type": "code",
   "execution_count": 11,
   "metadata": {},
   "outputs": [
    {
     "name": "stdout",
     "output_type": "stream",
     "text": [
      "/c\n",
      "/home\n"
     ]
    }
   ],
   "source": [
    "def simplify_directory(path):\n",
    "    if path[-1] == '/':\n",
    "        path = path[:-1]\n",
    "\n",
    "    # Split path based on '/'\n",
    "    path = path.split('/')\n",
    "    stack = []\n",
    "    i = 0\n",
    "    while i < len(path):\n",
    "        if path[i] == '.' or path[i] == '':\n",
    "            # do nothing\n",
    "            pass\n",
    "        elif path[i] == '..':\n",
    "            if len(stack) != 0:\n",
    "                stack.pop()\n",
    "        else:\n",
    "            stack.append(path[i])\n",
    "        i += 1\n",
    "\n",
    "    answer = ''\n",
    "    while len(stack) != 0:\n",
    "        answer = '/' + stack.pop() + answer\n",
    "\n",
    "    return answer\n",
    "\n",
    "\n",
    "path = '/a/./b/../../c/'\n",
    "print(simplify_directory(path))\n",
    "\n",
    "path = '/home/'\n",
    "print(simplify_directory(path))"
   ]
  },
  {
   "cell_type": "code",
   "execution_count": null,
   "metadata": {},
   "outputs": [],
   "source": []
  }
 ],
 "metadata": {
  "kernelspec": {
   "display_name": "Python 3 (ipykernel)",
   "language": "python",
   "name": "python3"
  },
  "language_info": {
   "codemirror_mode": {
    "name": "ipython",
    "version": 3
   },
   "file_extension": ".py",
   "mimetype": "text/x-python",
   "name": "python",
   "nbconvert_exporter": "python",
   "pygments_lexer": "ipython3",
   "version": "3.11.2"
  }
 },
 "nbformat": 4,
 "nbformat_minor": 4
}
