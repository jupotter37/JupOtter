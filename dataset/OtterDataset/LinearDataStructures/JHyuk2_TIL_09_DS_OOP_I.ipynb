{
 "cells": [
  {
   "cell_type": "markdown",
   "metadata": {},
   "source": [
    "# 자료구조 구현 (OOP) - 선형\n",
    "\n",
    "> 자료구조(Data Structure): 동일한 타입의 데이터를 저장한 ~~구성체~~(통) (`list`, `dict`, `set` 등)\n",
    "\n",
    "> **왜 필요한가?** 데이터의 탐색, 삽입, 삭제 등의 연산을 효율적으로 수행하기 위해\n",
    "\n",
    "### 구현내용\n",
    "- Linked List\n",
    "- Stack\n",
    "- Queue\n",
    "- Graph"
   ]
  },
  {
   "cell_type": "markdown",
   "metadata": {},
   "source": [
    "## I. Abstract Data Type(ADT)\n",
    "\n",
    "\n",
    "### (1) Data Abstraction(~~데이터 추상화~~)\n",
    "Data Type을 정의(요약/단순화/세부사항숨기기)하는 과정\n",
    "\n",
    "- `class Dog()`, `class Person()`\n",
    "- 특정 값(value)들의 집합 (attribute/property)\n",
    "- 해당 값들에 적용 가능한 연산/조작 (method)\n",
    "\n",
    "### (2) Abstract Data Type\n",
    "\n",
    "#### 1. ADT(~~추상 데이터 타입 또는 추상자료형~~)\n",
    "- 데이터와 데이터의 조작(연산)에 대한 추상화(요약/단순화/세부사항숨기기)\n",
    "\n",
    "#### 2. ADT의 특징\n",
    "- 데이터가 구체적으로 어떻게 표현되어 있는지를 사용자(클라이언트 또는 다른프로그램)가 알 수 없도록 숨긴다.\n",
    "\n",
    "#### 3. 왜???\n",
    "> **편하니까**, \n",
    "\n",
    "> 심지어 python을 통해 우리는 이미 써 왔기 때문에 -> `list`, `dict`, `datetime` 등등 (우린 지금까지 `sorted()`, `.sort()`, `max()`, `sum()` 등을 사용해오며, 내부 구현을 걱정한 적이 없었다.)\n",
    "\n",
    "``` \n",
    "(조금 더) 형식적인(formal) 이유\n",
    "1. 데이터구조를 프로그래밍 언어의 특수성을 초월하여 다양한 환경에 적용 가능하게 만들기 위해\n",
    "2. 알고리즘을 ADT와 API의 구현으로 환원시키기 위해\n",
    "```\n",
    "\n",
    "#### 4. ADT를 만드는 과정\n",
    "1. 해당 데이터구조(저장방식)의 기능을 먼저 생각하기\n",
    "2. 인터페이스를 구성하기\n",
    "3. 구현하기\n",
    "\n",
    "\n",
    "## II. 컬렉션(Collection) ADT\n",
    "자료들의 묶음 (A group of things)\n",
    "\n",
    "### (1). 백(Bag)\n",
    "> 걍 때려 넣어\n",
    "\n",
    "- 자료의 묶음\n",
    "- 순서가 없음\n",
    "\n",
    "- 특징\n",
    "    - 장점: 편함\n",
    "    \n",
    "- 구현요소\n",
    "```python\n",
    "bag = Bag()\n",
    "bag.add(item)\n",
    "bag.is_empty()\n",
    "bag.size()\n",
    "```\n",
    "\n",
    "### (2). 리스트(List)  \n",
    "목록 (python의 `list`가 아닌 일반적인 '목록'으로서의 의미)\n",
    "\n",
    "> 때려 넣되, **순서**만 지키자\n",
    "\n",
    "- 자료의 묶음\n",
    "- **순서가 있음**\n",
    "\n",
    "- 특징\n",
    "    - 장점: 순서가 있음\n",
    "    \n",
    "```python\n",
    "\n",
    "```\n",
    "\n",
    "### (3). 배열(Array)\n",
    "\n",
    "> 순서를 지키면서 넣고, **개별 접근**도 가능하게 하자\n",
    "\n",
    "- 순서가 있음\n",
    "- 순서가 있음\n",
    "- **개별 요소를 index로 접근 가능**\n",
    "\n",
    "- 특징\n",
    "    - 장점: \n",
    "    - 단점: 데이터 추가(insert)/삭제(delete)가 어려움\n"
   ]
  },
  {
   "cell_type": "markdown",
   "metadata": {},
   "source": [
    "### (4) Python에서의 `list` (참고)\n",
    "ADT encapsulation(데이터 은닉화)의 좋은 예 \n",
    "\n",
    "- 배열(array)을 기반으로 구현됨\n",
    "- 다양한 추상화된 method를 지원\n",
    "    - 실제 구현이 배열인지 리스트인지 모르고 잘 썼음\n",
    "    - python이 내부적으로 우리를 대신해서 다양한 인터페이스를 만들어 놓음(복잡하게 구현되어 있지만, 잘 숨겨 놓음)\n",
    "\n",
    "> `len(arr)`의 시간복잡도는?"
   ]
  },
  {
   "cell_type": "markdown",
   "metadata": {},
   "source": [
    "## II. Linked List\n",
    "Collection ADT List를 구현하는 한가지 방식\n",
    "\n",
    "### (1) 정의\n",
    "\n",
    "> 빡센버전: ~~연결리스트는 재귀적인 데이터 구조로 공백이거나 제네릭 항목과 다른 연결리스트에 대한 참조를 가진 노드의 참조이다. (???)~~\n",
    "\n",
    "> 단순버전: **연결된** 데이터 노드들의 묶음\n",
    "\n",
    "- Linked List의 활용: 개별 요소에 접근할 필요가 없고, 삽입 삭제가 빈번히 일어나는 데이터를 위한 자료구조 -> `Stack` & `Queue`\n",
    "- **삽입(`O(1)`) & 삭제(`O(1)`)에 최적화**\n",
    "- 탐색(`O(n)`) 및 조회(`O(n)`)에는 불리"
   ]
  },
  {
   "cell_type": "markdown",
   "metadata": {},
   "source": [
    "### (2) 데이터 노드\n",
    "\n",
    "- 데이터를 저장할 `Node`\n",
    "\n",
    "```py\n",
    "class Node:\n",
    "    def __init__(self, value):\n",
    "        self.value = value\n",
    "        self.next = None\n",
    "```"
   ]
  },
  {
   "cell_type": "markdown",
   "metadata": {},
   "source": [
    "### (3) Linked List\n",
    "- 구현요소\n",
    "```py\n",
    "l = LinkedList()\n",
    "l.append(item)\n",
    "l.show() # 현재 1에 담긴 모든 요소의 value를 출력하는 메서드\n",
    "\n",
    "l.insert(item, position)\n",
    "l.search(item)\n",
    "\n",
    "l.delete(item)\n",
    "l.size()\n",
    "```"
   ]
  },
  {
   "cell_type": "markdown",
   "metadata": {},
   "source": [
    "## 왜 헤드를 사용할까?\n",
    "순차적으로 인덱스를 0부터 이니셜라이즈 할 수 있고, 출발점을 붙이기 좋고,  \n",
    "0번째에 무언가가 삽인됐을 때 만들어주기가 쉽다.\n",
    "\n",
    "\n",
    "# 1) Node를 "
   ]
  },
  {
   "cell_type": "code",
   "execution_count": 212,
   "metadata": {
    "scrolled": true
   },
   "outputs": [],
   "source": [
    "class Node:\n",
    "    def __init__(self, value):\n",
    "        self.value = value\n",
    "        self.next = None\n",
    "\n",
    "class Linked_list:\n",
    "    def __init__(self):\n",
    "        self.head = None\n",
    "        \n",
    "        \n",
    "    def append(self, item):\n",
    "        current = self.head\n",
    "        \n",
    "        if self.head:\n",
    "            while current.next:\n",
    "                current = current.next\n",
    "            current.next = item\n",
    "        else:\n",
    "            self.head = item\n",
    "    \n",
    "    # LL에 담긴 모든 요소의 value 출력\n",
    "    def show(self):\n",
    "        current = self.head\n",
    "        if self.head:\n",
    "            while current.next: \n",
    "                print(current.value)\n",
    "                current = current.next        \n",
    "            else:\n",
    "                print(current.value)\n",
    "        else:\n",
    "            print(None)\n",
    "    '''\n",
    "    def insert(self, item, position):\n",
    "        pos = 1\n",
    "        current = self.head    \n",
    "    \n",
    "        while position > pos:\n",
    "            if current.next:\n",
    "                pos +=1\n",
    "                current = current.next\n",
    "            # current.next가 존재하지 않는데, position 값이 더 큰 경우\n",
    "            else:\n",
    "                raise IndexError(f'최대 길이 {pos}를 벗어났습니다.')\n",
    "        # position == pos 인 경우        \n",
    "        else:\n",
    "            item.next = current.next\n",
    "            current.next = item\n",
    "'''        \n",
    "#     def insert_recur(self, node, position):\n",
    "#         current = self.head\n",
    "    \n",
    "    def delete(item):\n",
    "        current = self.head\n",
    "        \n",
    "        # 지우려는 item이 헤드인 경우\n",
    "        if item == self.head:\n",
    "            \n",
    "            # next가 있는 경우\n",
    "            if current.next:\n",
    "                head = current.next\n",
    "                \n",
    "            # head 이기를 포기한다.\n",
    "            else:\n",
    "                self.head = None\n",
    "            \n",
    "        # head가 아닌 나머지 값을 지울 경우\n",
    "        else:\n",
    "            while current != item:\n",
    "                 if current.next:\n",
    "                \n",
    "                    \n",
    "            \n",
    "        \n",
    "    def size(self):\n",
    "        cnt = 0\n",
    "        current = self.head\n",
    "        while current.next:\n",
    "            cnt +=1\n",
    "            current = current.next\n",
    "        else:\n",
    "            cnt +=1\n",
    "            return cnt"
   ]
  },
  {
   "cell_type": "code",
   "execution_count": null,
   "metadata": {},
   "outputs": [],
   "source": [
    "class Node:\n",
    "    def __init__(self, value):\n",
    "        self.value = value\n",
    "        self.next = None\n",
    "\n",
    "class Linked_list:\n",
    "    length = 0\n",
    "    \n",
    "    def __init__(self):\n",
    "        self.head = None\n",
    "        \n",
    "        \n",
    "    def append(self, item):\n",
    "        length += 1\n",
    "        current = self.head\n",
    "        if self.head:\n",
    "            while current.next:\n",
    "                current = current.next\n",
    "            current.next = item\n",
    "        else:\n",
    "            self.head = item\n",
    "        \n",
    "    # LL에 담긴 모든 요소의 value 출력\n",
    "    def show(self):\n",
    "        current = self.head\n",
    "        while current:\n",
    "            print(current)\n",
    "            current = current.next\n",
    "            \n",
    "    # 일단 초기값은 제한다.\n",
    "    def insert(self, item, position):\n",
    "        current = self.head\n",
    "        for i in range(position-1):\n",
    "            current = current.next\n",
    "        item.next = current.next\n",
    "        current.next = item\n",
    "        \n",
    "    def delete(self, data):\n",
    "        if self.head.value == data:\n",
    "            self.head = self.head.next\n",
    "        else:\n",
    "            temp = self.head\n",
    "            while temp.next.value != data:\n",
    "                temp = temp.next\n",
    "            temp.next = temp.next.next"
   ]
  },
  {
   "cell_type": "code",
   "execution_count": 213,
   "metadata": {},
   "outputs": [
    {
     "name": "stdout",
     "output_type": "stream",
     "text": [
      "3\n",
      "2\n",
      "5\n"
     ]
    }
   ],
   "source": [
    "n1 = Node(5)\n",
    "n2 = Node(2)\n",
    "n3 = Node(3)\n",
    "LL = Linked_list()\n",
    "\n",
    "LL.head = n1\n",
    "LL.append(n2)\n",
    "LL.append(n3)\n",
    "LL.show()\n"
   ]
  },
  {
   "cell_type": "code",
   "execution_count": 214,
   "metadata": {},
   "outputs": [
    {
     "name": "stdout",
     "output_type": "stream",
     "text": [
      "3\n",
      "2\n",
      "4\n",
      "5\n"
     ]
    }
   ],
   "source": [
    "n4 = Node(4)\n",
    "LL.insert(n4, 2)\n",
    "LL.show()"
   ]
  },
  {
   "cell_type": "code",
   "execution_count": 215,
   "metadata": {},
   "outputs": [
    {
     "name": "stdout",
     "output_type": "stream",
     "text": [
      "3\n",
      "2\n",
      "4\n",
      "5\n",
      "6\n"
     ]
    }
   ],
   "source": [
    "n5 = Node(6)\n",
    "LL.insert(n5, 4)\n",
    "LL.show()"
   ]
  },
  {
   "cell_type": "code",
   "execution_count": 216,
   "metadata": {},
   "outputs": [
    {
     "data": {
      "text/plain": [
       "5"
      ]
     },
     "execution_count": 216,
     "metadata": {},
     "output_type": "execute_result"
    }
   ],
   "source": [
    "LL.size()"
   ]
  },
  {
   "cell_type": "markdown",
   "metadata": {},
   "source": [
    "### (3) Linked List\n",
    "- 구현요소\n",
    "```py\n",
    "l = LinkedList()\n",
    "\n",
    "l.append(item)\n",
    "l.print() # => 현재 l에 담긴 모든 요소의 value을 출력하는 메서드\n",
    "\n",
    "l.insert(item, position)\n",
    "\n",
    "l.delete(item)\n",
    "l.size()\n",
    "```"
   ]
  },
  {
   "cell_type": "code",
   "execution_count": null,
   "metadata": {},
   "outputs": [],
   "source": []
  },
  {
   "cell_type": "markdown",
   "metadata": {},
   "source": [
    "## III. Stack\n",
    "\n",
    "- 구현요소\n",
    "```py\n",
    "s = Stack()\n",
    "s.push(item)\n",
    "s.pop()\n",
    "s.top()\n",
    "s.is_empty()\n",
    "s.size()\n",
    "```"
   ]
  },
  {
   "cell_type": "markdown",
   "metadata": {},
   "source": [
    "## (stack을 뒤집어서) head 특징을 이용한  linked list를 구현"
   ]
  },
  {
   "cell_type": "code",
   "execution_count": 230,
   "metadata": {},
   "outputs": [],
   "source": [
    "class LinkedList:\n",
    "    def __init__(self,head = None):\n",
    "        self.head = head\n",
    "    \n",
    "    # insert_front()\n",
    "    def insert_front(self, item):\n",
    "        item.next = self.head\n",
    "        self.head = item\n",
    "        \n",
    "    # delete_front()\n",
    "    def delete_front(self):\n",
    "        deleted = self.head\n",
    "        if self.head:\n",
    "            self.head = self.head.next\n",
    "            return deleted.value\n",
    "        # 원래 비어있으면 return값을 주지 않음으로써 None을 지정할 수 있다."
   ]
  },
  {
   "cell_type": "code",
   "execution_count": 231,
   "metadata": {},
   "outputs": [
    {
     "name": "stdout",
     "output_type": "stream",
     "text": [
      "3\n",
      "2\n",
      "1\n",
      "3\n",
      "2\n",
      "1\n"
     ]
    }
   ],
   "source": [
    "n1 = Node(1)\n",
    "n2 = Node(2)\n",
    "n3 = Node(3)\n",
    "l= LinkedList()\n",
    "\n",
    "l.insert_front(n1)\n",
    "l.insert_front(n2)\n",
    "l.insert_front(n3)\n",
    "\n",
    "print(l.head.value)\n",
    "print(l.head.next.value)\n",
    "print(l.head.next.next.value)\n",
    "\n",
    "print(l.delete_front())\n",
    "print(l.delete_front())\n",
    "print(l.delete_front())"
   ]
  },
  {
   "cell_type": "code",
   "execution_count": 234,
   "metadata": {},
   "outputs": [],
   "source": [
    "class Stack(LinkedList):\n",
    "    def push(self, item):\n",
    "        super().insert_front(item)\n",
    "            \n",
    "    def pop(self):\n",
    "        return super().delete_front()"
   ]
  },
  {
   "cell_type": "code",
   "execution_count": 235,
   "metadata": {},
   "outputs": [
    {
     "name": "stdout",
     "output_type": "stream",
     "text": [
      "3\n",
      "2\n",
      "1\n",
      "3\n",
      "2\n",
      "1\n"
     ]
    }
   ],
   "source": [
    "n1 = Node(1)\n",
    "n2 = Node(2)\n",
    "n3 = Node(3)\n",
    "s= Stack()\n",
    "\n",
    "s.push(n1)\n",
    "s.push(n2)\n",
    "s.push(n3)\n",
    "\n",
    "print(s.head.value)\n",
    "print(s.head.next.value)\n",
    "print(s.head.next.next.value)\n",
    "\n",
    "print(s.pop())\n",
    "print(s.pop())\n",
    "print(s.pop())"
   ]
  },
  {
   "cell_type": "markdown",
   "metadata": {},
   "source": [
    "## IV. Queue\n",
    "\n",
    "- 구현요소\n",
    "```python\n",
    "q = Queue()\n",
    "q.enqueue(item)\n",
    "q.dequeue()\n",
    "q.is_empty()\n",
    "q.size()\n",
    "s.size()\n",
    "```"
   ]
  },
  {
   "cell_type": "code",
   "execution_count": null,
   "metadata": {},
   "outputs": [],
   "source": []
  },
  {
   "cell_type": "markdown",
   "metadata": {},
   "source": [
    "## V. Graph\n",
    "\n",
    "\n",
    "- 구현요소\n",
    "\n",
    "```py\n",
    "\n",
    "class Node:\n",
    "    def __init__(self, value):\n",
    "        self.value = value\n",
    "        \n",
    "class Edge:\n",
    "    def __init__(self, src, dest):\n",
    "        self.src = src\n",
    "        self.dest = dest\n",
    "        \n",
    "class Digraph:\n",
    "    ...\n",
    "    \n",
    "class Graph(Digraph):        \n",
    "    ...\n",
    "```"
   ]
  },
  {
   "cell_type": "markdown",
   "metadata": {},
   "source": [
    "## Networkx 사용해보기"
   ]
  },
  {
   "cell_type": "code",
   "execution_count": 17,
   "metadata": {},
   "outputs": [
    {
     "data": {
      "image/png": "[encoded data removed]",
      "text/plain": [
       "<Figure size 432x288 with 1 Axes>"
      ]
     },
     "metadata": {},
     "output_type": "display_data"
    }
   ],
   "source": [
    "import networkx as nx\n",
    "\n",
    "G = nx.Graph()\n",
    "'''\n",
    "1 4\n",
    "1 3\n",
    "2 3\n",
    "2 5\n",
    "4 6\n",
    "'''\n",
    "G.add_edge(1, 4)\n",
    "G.add_edge(1, 3)\n",
    "G.add_edge(2, 3)\n",
    "G.add_edge(2, 5)\n",
    "G.add_edge(4, 6)\n",
    "nx.draw(G)"
   ]
  },
  {
   "cell_type": "code",
   "execution_count": 4,
   "metadata": {},
   "outputs": [
    {
     "data": {
      "text/plain": [
       "[1, 3, 4]"
      ]
     },
     "execution_count": 4,
     "metadata": {},
     "output_type": "execute_result"
    }
   ],
   "source": [
    "G = nx.Graph()\n",
    "G.add_edge(1,2)\n",
    "G.add_edge(1,3)\n",
    "G.add_edge(2,3)\n",
    "G.add_edge(3,4)\n",
    "# nx.draw(G)\n",
    "\n",
    "nx.has_path(G, 1, 4)\n",
    "nx.shortest_path(G, 1, 4)"
   ]
  },
  {
   "cell_type": "code",
   "execution_count": 5,
   "metadata": {},
   "outputs": [
    {
     "data": {
      "image/png": "[encoded data removed]",
      "text/plain": [
       "<Figure size 432x288 with 1 Axes>"
      ]
     },
     "metadata": {},
     "output_type": "display_data"
    }
   ],
   "source": [
    "G2 = nx.Graph()\n",
    "\n",
    "edges = [('a','b'),('b','c'),('c','d'),('d','e'),('e','a')]\n",
    "G2.add_edges_from(edges)\n",
    "\n",
    "nx.draw(G2)"
   ]
  },
  {
   "cell_type": "code",
   "execution_count": null,
   "metadata": {},
   "outputs": [],
   "source": []
  },
  {
   "cell_type": "code",
   "execution_count": null,
   "metadata": {},
   "outputs": [],
   "source": []
  }
 ],
 "metadata": {
  "kernelspec": {
   "display_name": "Python 3",
   "language": "python",
   "name": "python3"
  },
  "language_info": {
   "codemirror_mode": {
    "name": "ipython",
    "version": 3
   },
   "file_extension": ".py",
   "mimetype": "text/x-python",
   "name": "python",
   "nbconvert_exporter": "python",
   "pygments_lexer": "ipython3",
   "version": "3.7.3"
  }
 },
 "nbformat": 4,
 "nbformat_minor": 2
}
