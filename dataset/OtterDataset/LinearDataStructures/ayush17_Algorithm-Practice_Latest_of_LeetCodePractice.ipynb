{
  "nbformat": 4,
  "nbformat_minor": 0,
  "metadata": {
    "colab": {
      "provenance": [],
      "include_colab_link": true
    },
    "kernelspec": {
      "name": "python3",
      "display_name": "Python 3"
    },
    "language_info": {
      "name": "python"
    }
  },
  "cells": [
    {
      "cell_type": "markdown",
      "metadata": {
        "id": "view-in-github",
        "colab_type": "text"
      },
      "source": [
        "<a href=\"https://colab.research.google.com/github/ayush17/Algorithm-Practice/blob/master/Latest_of_LeetCodePractice.ipynb\" target=\"_parent\"><img src=\"https://colab.research.google.com/assets/colab-badge.svg\" alt=\"Open In Colab\"/></a>"
      ]
    },
    {
      "cell_type": "code",
      "execution_count": null,
      "metadata": {
        "colab": {
          "base_uri": "https://localhost:8080/"
        },
        "id": "CCrbZDP8-h8U",
        "outputId": "746d769f-817f-485c-c9c9-e67813832c84"
      },
      "outputs": [
        {
          "output_type": "stream",
          "name": "stdout",
          "text": [
            "1994\n"
          ]
        }
      ],
      "source": [
        "# Roman to integer Problem Leet code\n",
        "class Solution:\n",
        "    def romanToInt(self, s: str) -> int:\n",
        "        m = {\n",
        "            'I': 1,\n",
        "            'V': 5,\n",
        "            'X': 10,\n",
        "            'L': 50,\n",
        "            'C': 100,\n",
        "            'D': 500,\n",
        "            'M': 1000\n",
        "        }\n",
        "        reversedString = s[::-1]\n",
        "        value=0\n",
        "        index=0\n",
        "        while index<len(s):\n",
        "          char=reversedString[index]\n",
        "          # case of IV and IX\n",
        "          if(index+1<len(s) and  (char=='V' or char=='X') and reversedString[index+1]=='I'):\n",
        "              value+=m[char]-1\n",
        "              index=index+1\n",
        "          # case of XL and XC\n",
        "          elif(index+1<len(s) and  (char=='L' or char=='C') and reversedString[index+1]=='X'):\n",
        "              value+=m[char]-10\n",
        "              index=index+1\n",
        "          # case of CD and CM\n",
        "          elif(index+1<len(s) and  (char=='D' or char=='M') and reversedString[index+1]=='C'):\n",
        "              value+=m[char]-100\n",
        "              index=index+1\n",
        "          else:\n",
        "            value+=m[char]\n",
        "          index+=1\n",
        "solution = Solution()\n",
        "solution.romanToInt(\"MCMXCIV\")# your code goes here"
      ]
    },
    {
      "cell_type": "code",
      "source": [
        "# Longest common prefix\n",
        "from typing import List\n",
        "\n",
        "class Solution:\n",
        "    def longestCommonPrefix(self, strs: List[str]) -> str:\n",
        "      resultString=\"\"\n",
        "      for charsTuple in zip(*strs):\n",
        "        all_chars_equal=all(character==charsTuple[0] for character in charsTuple)\n",
        "        if(all_chars_equal):\n",
        "          resultString+=charsTuple[0]\n",
        "      return resultString\n",
        "\n",
        "solution = Solution()\n",
        "solution.longestCommonPrefix([\"dog\",\"racecar\",\"car\"])# your code goes here"
      ],
      "metadata": {
        "colab": {
          "base_uri": "https://localhost:8080/",
          "height": 53
        },
        "id": "ntM4aE1H-1QX",
        "outputId": "87db2004-29a3-43e7-c78f-e66d7f9c3608"
      },
      "execution_count": null,
      "outputs": [
        {
          "output_type": "stream",
          "name": "stdout",
          "text": [
            "\n"
          ]
        },
        {
          "output_type": "execute_result",
          "data": {
            "text/plain": [
              "''"
            ],
            "application/vnd.google.colaboratory.intrinsic+json": {
              "type": "string"
            }
          },
          "metadata": {},
          "execution_count": 31
        }
      ]
    },
    {
      "cell_type": "code",
      "source": [
        "class Solution:\n",
        "    def isValid(self, s: str) -> bool:\n",
        "      stack=[]\n",
        "      openBrackets=['{','[','(']\n",
        "      closeBrackets=['}',']',')']\n",
        "      for bracket in s:\n",
        "        if(bracket in openBrackets):\n",
        "          stack.append(bracket)\n",
        "        else:\n",
        "          if(len(stack)==0):\n",
        "              return False\n",
        "          b=stack.pop()\n",
        "          if(closeBrackets.index(bracket)!=openBrackets.index(b)):\n",
        "              return False\n",
        "      if(len(stack)==0):\n",
        "        return True\n",
        "      return False\n",
        "\n",
        "\n",
        "\n",
        "solution = Solution()\n",
        "solution.isValid(\"()\")# your code goes here"
      ],
      "metadata": {
        "id": "f1EQ3u5dZfxu",
        "colab": {
          "base_uri": "https://localhost:8080/"
        },
        "outputId": "d80cebcd-44a3-4563-dceb-a5482e608dc6"
      },
      "execution_count": null,
      "outputs": [
        {
          "output_type": "execute_result",
          "data": {
            "text/plain": [
              "True"
            ]
          },
          "metadata": {},
          "execution_count": 15
        }
      ]
    },
    {
      "cell_type": "code",
      "source": [
        "# Linked List question\n",
        "# Merge two sorted Array\n",
        "from typing import Optional\n",
        "class ListNode:\n",
        "    def __init__(self, val=0, next=None):\n",
        "        self.val = val\n",
        "        self.next = next\n",
        "\n",
        "class Solution:\n",
        "    def mergeTwoLists(self, list1: Optional[ListNode], list2: Optional[ListNode]) -> Optional[ListNode]:\n",
        "        current=ListNode()\n",
        "        start=current\n",
        "        while list1 and list2:\n",
        "            if(list1.val>list2.val):\n",
        "              current.next=list2\n",
        "              list2=list2.next\n",
        "            else:\n",
        "              current.next=list1\n",
        "              list1=list1.next\n",
        "            current=current.next\n",
        "        if(list1):\n",
        "          current.next=list1\n",
        "        elif(list2):\n",
        "          current.next=list2\n",
        "        return start\n",
        "\n",
        "# Example usage:\n",
        "# Creating two sorted linked lists\n",
        "list1 = ListNode(1, ListNode(3, ListNode(5)))\n",
        "list2 = ListNode(2, ListNode(4, ListNode(6)))\n",
        "\n",
        "solution = Solution()\n",
        "merged_list = solution.mergeTwoLists(list1, list2)\n",
        "\n",
        "# Accessing elements in the merged list\n",
        "current_node = merged_list\n",
        "while current_node:\n",
        "    print(current_node.val)\n",
        "    current_node = current_node.next"
      ],
      "metadata": {
        "colab": {
          "base_uri": "https://localhost:8080/"
        },
        "id": "6-9v_oeyi6-m",
        "outputId": "4d5e59fb-e9a8-48db-f714-0bab4da07d97"
      },
      "execution_count": null,
      "outputs": [
        {
          "output_type": "stream",
          "name": "stdout",
          "text": [
            "0\n",
            "1\n",
            "2\n",
            "3\n",
            "4\n",
            "5\n",
            "6\n"
          ]
        }
      ]
    },
    {
      "cell_type": "code",
      "source": [
        "# Remove dublicates from sorted array\n",
        "from typing import List\n",
        "class Solution:\n",
        "    def removeDuplicates(self, nums: List[int]) -> int:\n",
        "      index=0\n",
        "      current=nums[index]\n",
        "      while(index<len(nums)-1):\n",
        "        # print(nums,index)\n",
        "        if(index+1<len(nums) and current==nums[index+1]):\n",
        "          nums.pop(index+1)\n",
        "        elif(index+1<len(nums) and current!=nums[index+1]):\n",
        "          current=nums[index+1]\n",
        "          index+=1\n",
        "      return len(nums)\n",
        "\n",
        "solution = Solution()\n",
        "solution.removeDuplicates([1,1,2])# your code goes here\n"
      ],
      "metadata": {
        "colab": {
          "base_uri": "https://localhost:8080/"
        },
        "id": "iSBOmfxTZhjM",
        "outputId": "8ea09075-c5f9-4db0-b6f8-c926f9ffdefa"
      },
      "execution_count": null,
      "outputs": [
        {
          "output_type": "execute_result",
          "data": {
            "text/plain": [
              "2"
            ]
          },
          "metadata": {},
          "execution_count": 37
        }
      ]
    },
    {
      "cell_type": "code",
      "source": [
        "class Solution:\n",
        "    def removeElement(self, nums: List[int], val: int) -> int:\n",
        "      for n in nums:\n",
        "        if(n==val):\n",
        "          print(n)\n",
        "          nums.remove(n)\n",
        "          print(nums)\n",
        "      return len(nums)\n",
        "solution = Solution()\n",
        "solution.removeElement([0,1,2,2,3,0,4,2],2)# your code goes here"
      ],
      "metadata": {
        "id": "-GuY9i18pPhI",
        "colab": {
          "base_uri": "https://localhost:8080/"
        },
        "outputId": "2f7eeddc-a27d-4c31-dcd8-c24703a1971b"
      },
      "execution_count": null,
      "outputs": [
        {
          "output_type": "stream",
          "name": "stdout",
          "text": [
            "2\n",
            "[0, 1, 2, 3, 0, 4, 2]\n",
            "2\n",
            "[0, 1, 3, 0, 4, 2]\n"
          ]
        },
        {
          "output_type": "execute_result",
          "data": {
            "text/plain": [
              "6"
            ]
          },
          "metadata": {},
          "execution_count": 50
        }
      ]
    },
    {
      "cell_type": "code",
      "source": [
        "# Search insert poisition using recursion a binary search problem\n",
        "from typing import List\n",
        "\n",
        "class Solution:\n",
        "    def searchInsert(self, nums: List[int], target: int) -> int:\n",
        "        mid = len(nums) // 2\n",
        "\n",
        "        if len(nums) == 0:\n",
        "            return 0\n",
        "\n",
        "        if nums[mid] == target:\n",
        "            return mid\n",
        "        elif target < nums[mid]:\n",
        "            return self.searchInsert(nums[:mid], target)\n",
        "        elif target > nums[mid]:\n",
        "            return mid + 1 + self.searchInsert(nums[mid + 1:], target)\n",
        "\n",
        "# Example usage:\n",
        "solution = Solution()\n",
        "result = solution.searchInsert([1, 3, 5, 6, 7], 0)\n",
        "print(\"Index:\", result)\n",
        "\n"
      ],
      "metadata": {
        "id": "6KDgJ7-FQTnx",
        "colab": {
          "base_uri": "https://localhost:8080/"
        },
        "outputId": "7e519a82-348c-41d6-c3f3-ad5fa2ea1dc2"
      },
      "execution_count": null,
      "outputs": [
        {
          "output_type": "stream",
          "name": "stdout",
          "text": [
            "Index: 0\n"
          ]
        }
      ]
    },
    {
      "cell_type": "code",
      "source": [
        "# Search inerst position using loop\n",
        "from typing import List\n",
        "\n",
        "class Solution:\n",
        "  def searchInsert(self,nums:List[int],target:int) ->int:\n",
        "    left,right=0,len(nums)-1\n",
        "    while(left<=right):\n",
        "      mid=left+((right-left)//2);\n",
        "      if(nums[mid]==target):\n",
        "        return mid\n",
        "      elif(target>nums[mid]):\n",
        "        left=mid+1\n",
        "      elif(target<nums[mid]):\n",
        "        right=mid-1\n",
        "    return ((left+right)//2)+1\n",
        "\n",
        "\n",
        "solution = Solution()\n",
        "result = solution.searchInsert([1, 2, 4, 5,6,8], 7)\n",
        "print(\"Index:\", result)"
      ],
      "metadata": {
        "id": "C6ySuAT6BZIt",
        "colab": {
          "base_uri": "https://localhost:8080/"
        },
        "outputId": "c4b854d9-9e56-40ef-bd9b-bf52c82587d9"
      },
      "execution_count": null,
      "outputs": [
        {
          "output_type": "stream",
          "name": "stdout",
          "text": [
            "Index: 5\n"
          ]
        }
      ]
    },
    {
      "cell_type": "code",
      "source": [
        "class Solution:\n",
        "    def plusOne(self, digits: List[int]) -> List[int]:\n",
        "        power=0;\n",
        "        value=0;\n",
        "        # Get the number\n",
        "        for index,number in enumerate(digits[::-1]):\n",
        "           place=pow(10,index)\n",
        "           value+=number*place\n",
        "        # Adding one to the number\n",
        "        value=value+1\n",
        "        # Generating resultant array\n",
        "        result=[]\n",
        "        while(value):\n",
        "          result=[value%10]+result\n",
        "          # result.append(value%10)\n",
        "          value=value//10\n",
        "        return result\n",
        "\n",
        "solution = Solution()\n",
        "string1=solution.plusOne([1,2,4])"
      ],
      "metadata": {
        "id": "nzg2Wuirw_J2"
      },
      "execution_count": null,
      "outputs": []
    },
    {
      "cell_type": "code",
      "source": [
        "# Add binary\n",
        "class Solution:\n",
        "    def convert(self,value,radix):\n",
        "        decimal=0\n",
        "        for index,b in enumerate(list(value)[::-1]):\n",
        "          decimal+=int(b)*pow(radix,index)\n",
        "        return decimal\n",
        "\n",
        "    def addBinary(self, a: str, b: str) -> str:\n",
        "     aDecimal=self.convert(a,2)\n",
        "     bDecimal=self.convert(b,2)\n",
        "     result=bin(aDecimal+bDecimal)[2:]\n",
        "     print(result)\n",
        "     return result\n",
        "solution=Solution()\n",
        "result=solution.addBinary(\"1010\",\"1011\")"
      ],
      "metadata": {
        "colab": {
          "base_uri": "https://localhost:8080/"
        },
        "id": "D17eVWDzDE7K",
        "outputId": "9fc60cf8-77f9-4255-8a09-d1fefcd2d376"
      },
      "execution_count": null,
      "outputs": [
        {
          "output_type": "stream",
          "name": "stdout",
          "text": [
            "10101\n"
          ]
        }
      ]
    },
    {
      "cell_type": "code",
      "source": [
        "# Sqrt(x)\n",
        "\n",
        "class Solution:\n",
        "    def mySqrt(self, x: int) -> int:\n",
        "      result=1\n",
        "      for i in range((x//2)+1):\n",
        "        if(pow(i,2)<=x):\n",
        "            if(pow(i,2)==x):\n",
        "             result=i\n",
        "             break\n",
        "        elif(pow(i,2)>x):\n",
        "            print(i)\n",
        "            result=i-1\n",
        "            break\n",
        "      return result\n",
        "solution=Solution()\n",
        "result=solution.mySqrt(1)\n",
        "print(result)"
      ],
      "metadata": {
        "colab": {
          "base_uri": "https://localhost:8080/"
        },
        "id": "M31NMvqMJx6W",
        "outputId": "2180f976-5aab-48c4-cd95-0d6cdd122914"
      },
      "execution_count": null,
      "outputs": [
        {
          "output_type": "stream",
          "name": "stdout",
          "text": [
            "0\n"
          ]
        }
      ]
    },
    {
      "cell_type": "code",
      "source": [
        "# Delete dublicates from linked lists\n",
        "from typing import Optional\n",
        "# Mock implementation of ListNode\n",
        "class ListNode:\n",
        "    def __init__(self, val=0, next=None):\n",
        "        self.val = val\n",
        "        self.next = next\n",
        "\n",
        "\n",
        "\n",
        "class Solution:\n",
        "    def deleteDuplicates(self, head: Optional[ListNode]) -> Optional[ListNode]:\n",
        "        # Check if the list is empty or has only one element\n",
        "        if not head or not head.next:\n",
        "          return head\n",
        "        start=head;\n",
        "        current=head.next\n",
        "        while(head.next):\n",
        "          if(head.val==current.val):\n",
        "            head.next=current.next\n",
        "            current=head.next\n",
        "          else:\n",
        "            head=head.next\n",
        "            current=current.next\n",
        "        return start\n",
        "\n",
        "\n",
        "\n",
        "\n",
        "\n",
        "\n"
      ],
      "metadata": {
        "id": "EJudLIkTX4za"
      },
      "execution_count": null,
      "outputs": []
    },
    {
      "cell_type": "code",
      "source": [
        "\n",
        "# Your Solution class implementation goes here...\n",
        "\n",
        "# Creating a sample linked list: 1 -> 1 -> 2 -> 3 -> 3\n",
        "head = ListNode(1)\n",
        "head.next = ListNode(1)\n",
        "head.next.next = ListNode(2)\n",
        "head.next.next.next = ListNode(3)\n",
        "head.next.next.next.next = ListNode(3)\n",
        "\n",
        "# Create an instance of the Solution class\n",
        "solution = Solution()\n",
        "\n",
        "# Call the deleteDuplicates method\n",
        "new_head = solution.deleteDuplicates(head)\n",
        "\n",
        "# Print the result (modified linked list without duplicates)\n",
        "while new_head:\n",
        "    print(new_head.val, end=\" \")\n",
        "    new_head = new_head.next"
      ],
      "metadata": {
        "colab": {
          "base_uri": "https://localhost:8080/"
        },
        "id": "0-hYf84TGZFt",
        "outputId": "6ea92b6f-3ea6-443a-af10-c68c75f44717"
      },
      "execution_count": null,
      "outputs": [
        {
          "output_type": "stream",
          "name": "stdout",
          "text": [
            "1 2 3 "
          ]
        }
      ]
    },
    {
      "cell_type": "code",
      "source": [
        "# merge sorted arrays\n",
        "from typing import List\n",
        "class Solution:\n",
        "    def merge(self, nums1: List[int], m: int, nums2: List[int], n: int) -> None:\n",
        "      # if first array doesn't contain any elements\n",
        "      if(m==0):\n",
        "        nums1=nums2\n",
        "        return\n",
        "      # Remove all the trailing zeros\n",
        "      for i in range(len(nums1) - 1,m-1, -1):\n",
        "        if nums1[i] != 0:\n",
        "          break  # Stop the loop when a non-zero element is encountered\n",
        "        else:\n",
        "          nums1.pop()  # Remove the trailing zero\n",
        "      print(nums1)\n",
        "      ptr1=0\n",
        "      ptr2=0\n",
        "      while(ptr2<n):\n",
        "        print(ptr2)\n",
        "        if(nums2[ptr2]<nums1[ptr1]):\n",
        "          if(ptr1==0):\n",
        "            nums1.insert(0,nums2[ptr2])\n",
        "            ptr2+=1\n",
        "            ptr1+=1\n",
        "            continue\n",
        "          nums1.insert(ptr1,nums2[ptr2])\n",
        "          ptr2+=1\n",
        "\n",
        "        else:\n",
        "          ptr1+=1\n",
        "      print(nums1)\n",
        "solution=Solution()\n",
        "# result=solution.merge([1,2,3,0,0,0],3,[2,5,6],3)\n",
        "# result=solution.merge([3,4,5,0,0,0],3,[2,5,6],3)\n",
        "\n",
        "# result=solution.merge([3],1,[2],1)\n",
        "# result=solution.merge([1],1,[0],1)\n",
        "# result=solution.merge([2,0],1,[1],1)\n",
        "\n",
        "\n",
        "# wrong answer\n",
        "result=solution.merge([4,0,0,0,0,0],1,[1,2,3,5,6],5)\n",
        "# result=solution.merge([0],0,[1],1)\n",
        "# result=solution.merge([4,5,6,0,0,0],3,[1,2,3],3)\n",
        "# so one element of second array\n",
        "print(result)"
      ],
      "metadata": {
        "colab": {
          "base_uri": "https://localhost:8080/",
          "height": 506
        },
        "id": "BCUPygmfY3qI",
        "outputId": "58a33948-0f84-48cd-d5be-f013f172ab78"
      },
      "execution_count": null,
      "outputs": [
        {
          "output_type": "stream",
          "name": "stdout",
          "text": [
            "[4]\n",
            "0\n",
            "1\n",
            "2\n",
            "2\n",
            "3\n",
            "3\n",
            "3\n"
          ]
        },
        {
          "output_type": "error",
          "ename": "IndexError",
          "evalue": "list index out of range",
          "traceback": [
            "\u001b[0;31m---------------------------------------------------------------------------\u001b[0m",
            "\u001b[0;31mIndexError\u001b[0m                                Traceback (most recent call last)",
            "\u001b[0;32m<ipython-input-75-b53cf4bebd23>\u001b[0m in \u001b[0;36m<cell line: 42>\u001b[0;34m()\u001b[0m\n\u001b[1;32m     40\u001b[0m \u001b[0;34m\u001b[0m\u001b[0m\n\u001b[1;32m     41\u001b[0m \u001b[0;31m# wrong answer\u001b[0m\u001b[0;34m\u001b[0m\u001b[0;34m\u001b[0m\u001b[0m\n\u001b[0;32m---> 42\u001b[0;31m \u001b[0mresult\u001b[0m\u001b[0;34m=\u001b[0m\u001b[0msolution\u001b[0m\u001b[0;34m.\u001b[0m\u001b[0mmerge\u001b[0m\u001b[0;34m(\u001b[0m\u001b[0;34m[\u001b[0m\u001b[0;36m4\u001b[0m\u001b[0;34m,\u001b[0m\u001b[0;36m0\u001b[0m\u001b[0;34m,\u001b[0m\u001b[0;36m0\u001b[0m\u001b[0;34m,\u001b[0m\u001b[0;36m0\u001b[0m\u001b[0;34m,\u001b[0m\u001b[0;36m0\u001b[0m\u001b[0;34m,\u001b[0m\u001b[0;36m0\u001b[0m\u001b[0;34m]\u001b[0m\u001b[0;34m,\u001b[0m\u001b[0;36m1\u001b[0m\u001b[0;34m,\u001b[0m\u001b[0;34m[\u001b[0m\u001b[0;36m1\u001b[0m\u001b[0;34m,\u001b[0m\u001b[0;36m2\u001b[0m\u001b[0;34m,\u001b[0m\u001b[0;36m3\u001b[0m\u001b[0;34m,\u001b[0m\u001b[0;36m5\u001b[0m\u001b[0;34m,\u001b[0m\u001b[0;36m6\u001b[0m\u001b[0;34m]\u001b[0m\u001b[0;34m,\u001b[0m\u001b[0;36m5\u001b[0m\u001b[0;34m)\u001b[0m\u001b[0;34m\u001b[0m\u001b[0;34m\u001b[0m\u001b[0m\n\u001b[0m\u001b[1;32m     43\u001b[0m \u001b[0;31m# result=solution.merge([0],0,[1],1)\u001b[0m\u001b[0;34m\u001b[0m\u001b[0;34m\u001b[0m\u001b[0m\n\u001b[1;32m     44\u001b[0m \u001b[0;31m# result=solution.merge([4,5,6,0,0,0],3,[1,2,3],3)\u001b[0m\u001b[0;34m\u001b[0m\u001b[0;34m\u001b[0m\u001b[0m\n",
            "\u001b[0;32m<ipython-input-75-b53cf4bebd23>\u001b[0m in \u001b[0;36mmerge\u001b[0;34m(self, nums1, m, nums2, n)\u001b[0m\n\u001b[1;32m     18\u001b[0m       \u001b[0;32mwhile\u001b[0m\u001b[0;34m(\u001b[0m\u001b[0mptr2\u001b[0m\u001b[0;34m<\u001b[0m\u001b[0mn\u001b[0m\u001b[0;34m)\u001b[0m\u001b[0;34m:\u001b[0m\u001b[0;34m\u001b[0m\u001b[0;34m\u001b[0m\u001b[0m\n\u001b[1;32m     19\u001b[0m         \u001b[0mprint\u001b[0m\u001b[0;34m(\u001b[0m\u001b[0mptr2\u001b[0m\u001b[0;34m)\u001b[0m\u001b[0;34m\u001b[0m\u001b[0;34m\u001b[0m\u001b[0m\n\u001b[0;32m---> 20\u001b[0;31m         \u001b[0;32mif\u001b[0m\u001b[0;34m(\u001b[0m\u001b[0mnums2\u001b[0m\u001b[0;34m[\u001b[0m\u001b[0mptr2\u001b[0m\u001b[0;34m]\u001b[0m\u001b[0;34m<\u001b[0m\u001b[0mnums1\u001b[0m\u001b[0;34m[\u001b[0m\u001b[0mptr1\u001b[0m\u001b[0;34m]\u001b[0m\u001b[0;34m)\u001b[0m\u001b[0;34m:\u001b[0m\u001b[0;34m\u001b[0m\u001b[0;34m\u001b[0m\u001b[0m\n\u001b[0m\u001b[1;32m     21\u001b[0m           \u001b[0;32mif\u001b[0m\u001b[0;34m(\u001b[0m\u001b[0mptr1\u001b[0m\u001b[0;34m==\u001b[0m\u001b[0;36m0\u001b[0m\u001b[0;34m)\u001b[0m\u001b[0;34m:\u001b[0m\u001b[0;34m\u001b[0m\u001b[0;34m\u001b[0m\u001b[0m\n\u001b[1;32m     22\u001b[0m             \u001b[0mnums1\u001b[0m\u001b[0;34m.\u001b[0m\u001b[0minsert\u001b[0m\u001b[0;34m(\u001b[0m\u001b[0;36m0\u001b[0m\u001b[0;34m,\u001b[0m\u001b[0mnums2\u001b[0m\u001b[0;34m[\u001b[0m\u001b[0mptr2\u001b[0m\u001b[0;34m]\u001b[0m\u001b[0;34m)\u001b[0m\u001b[0;34m\u001b[0m\u001b[0;34m\u001b[0m\u001b[0m\n",
            "\u001b[0;31mIndexError\u001b[0m: list index out of range"
          ]
        }
      ]
    },
    {
      "cell_type": "code",
      "source": [
        "# merge sorted arrays\n",
        "from typing import List\n",
        "class Solution:\n",
        "    def merge(self, nums1: List[int], m: int, nums2: List[int], n: int) -> None:\n",
        "      last=m+n-1\n",
        "      while(m>0 and n>0):\n",
        "        if(nums1[m-1]>nums2[n-1]):\n",
        "          nums1[last]=nums1[m-1]\n",
        "          m-=1\n",
        "        else:\n",
        "          nums1[last]=nums2[n-1]\n",
        "          n-=1\n",
        "        last-=1\n",
        "\n",
        "      # solve for left overs in nums2\n",
        "      while(n):\n",
        "        nums1[last]=nums2[n-1]\n",
        "        n-=1\n",
        "        last-=1\n",
        "\n",
        "\n",
        "\n",
        "      print(nums1)\n",
        "solution=Solution()\n",
        "result=solution.merge([1,2,3,0,0,0],3,[2,5,6],3)\n",
        "result=solution.merge([3,4,5,0,0,0],3,[2,5,6],3)\n",
        "\n",
        "# result=solution.merge([3],1,[2],1)\n",
        "# result=solution.merge([1],1,[0],1)\n",
        "# result=solution.merge([2,0],1,[1],1)\n",
        "\n",
        "\n",
        "# wrong answer\n",
        "# result=solution.merge([4,0,0,0,0,0],1,[1,2,3,5,6],5)\n",
        "# result=solution.merge([0],0,[1],1)\n",
        "# result=solution.merge([4,5,6,0,0,0],3,[1,2,3],3)\n",
        "# so one element of second array\n",
        "print(result)"
      ],
      "metadata": {
        "id": "jtDdVfAkY-ic",
        "colab": {
          "base_uri": "https://localhost:8080/"
        },
        "outputId": "1e985248-5fe7-474b-a40e-a1e5760c1b53"
      },
      "execution_count": null,
      "outputs": [
        {
          "output_type": "stream",
          "name": "stdout",
          "text": [
            "[1, 2, 2, 3, 5, 6]\n",
            "[2, 3, 4, 5, 5, 6]\n",
            "None\n"
          ]
        }
      ]
    },
    {
      "cell_type": "code",
      "source": [
        "# Longest turbulent subarray Medium\n",
        "from typing import List\n",
        "class Solution:\n",
        "    def maxTurbulenceSize(self, arr: List[int]) -> int:\n",
        "      start=0\n",
        "      curr=0\n",
        "      end=1\n",
        "      count=2\n",
        "      max=0\n",
        "      if(len(arr)==2 and arr[0]!=arr[1]):\n",
        "          return 2\n",
        "      elif(len(arr)==2 and arr[0]==arr[1]):\n",
        "          return 1\n",
        "      elif(len(arr)==1):\n",
        "          return 1\n",
        "      str=\"Equal\"\n",
        "      for i in range(0,len(arr)-1):\n",
        "        if(arr[i]!=arr[i+1]):\n",
        "          str=\"NotEqual\"\n",
        "          break\n",
        "      if(str==\"Equal\"):\n",
        "        return 1\n",
        "      while(end<len(arr)):\n",
        "        # print(\"comapring curr->\",arr[curr],\"end\",arr[end])\n",
        "        if(count>max):\n",
        "          max=count\n",
        "        if(end<len(arr) and arr[curr]<arr[end]):\n",
        "            curr+=1\n",
        "            end+=1\n",
        "            if(end<len(arr)):\n",
        "             if(arr[curr]>arr[end]):\n",
        "              count+=1\n",
        "              continue\n",
        "             elif(arr[curr]<=arr[end]):\n",
        "              count=2\n",
        "        elif(end<len(arr) and arr[curr]>arr[end]):\n",
        "          curr+=1\n",
        "          end+=1\n",
        "          if(end<len(arr)):\n",
        "            if(arr[curr]<arr[end]):\n",
        "              count+=1\n",
        "              continue\n",
        "            elif(arr[curr]>=arr[end]):\n",
        "              count=2\n",
        "        elif(end<len(arr) and arr[curr]==arr[end]):\n",
        "          curr+=1\n",
        "          end+=1\n",
        "          count=1\n",
        "      return max\n",
        "\n",
        "\n",
        "solution=Solution()\n",
        "# solution.maxTurbulenceSize([9,4,2,10,7,8,8,1,9])\n",
        "# solution.maxTurbulenceSize([100])\n",
        "# solution.maxTurbulenceSize([9,9])\n",
        "# solution.maxTurbulenceSize([2,0,2,4,2,5,0,1,2,3])\n",
        "# solution.maxTurbulenceSize([2,0,2,3])\n",
        "# solution.maxTurbulenceSize([4,8,12,16])\n",
        "# solution.maxTurbulenceSize([0,1,1,0,1,0,1,1,0,0])\n",
        "# solution.maxTurbulenceSize([37,199,60,296,257,248,115,31,273,176])\n",
        "solution.maxTurbulenceSize([1,1,2])\n",
        "\n",
        "\n",
        "\n"
      ],
      "metadata": {
        "id": "6cIV3JMOY-yp",
        "colab": {
          "base_uri": "https://localhost:8080/"
        },
        "outputId": "b99c7ae5-a9dc-4fbd-9059-3f39a477bf17"
      },
      "execution_count": null,
      "outputs": [
        {
          "output_type": "execute_result",
          "data": {
            "text/plain": [
              "2"
            ]
          },
          "metadata": {},
          "execution_count": 22
        }
      ]
    },
    {
      "cell_type": "code",
      "source": [
        "# Longest turbulent subarray Medium\n",
        "from typing import List\n",
        "class Solution:\n",
        "    def maxTurbulenceSize(self, arr: List[int]) -> int:\n",
        "      l=0\n",
        "      r=1\n",
        "      prev=\"\"\n",
        "      res=1\n",
        "      while(r<len(arr)):\n",
        "        if arr[r-1]>arr[r] and prev!=\">\":\n",
        "          res=max(res,r-l+1)\n",
        "          r+=1\n",
        "          prev=\">\"\n",
        "        elif arr[r-1]<arr[r] and prev!=\"<\":\n",
        "          res=max(res,r-l+1)\n",
        "          r+=1\n",
        "          prev=\"<\"\n",
        "        else:\n",
        "          r=r+1 if arr[r]==arr[r-1] else r\n",
        "          l=r-1\n",
        "          prev=\"\"\n",
        "      return res\n",
        "\n",
        "\n",
        "solution=Solution()\n",
        "# solution.maxTurbulenceSize([9,4,2,10,7,8,8,1,9])\n",
        "# solution.maxTurbulenceSize([100])\n",
        "# solution.maxTurbulenceSize([9,9])\n",
        "# solution.maxTurbulenceSize([2,0,2,4,2,5,0,1,2,3])\n",
        "# solution.maxTurbulenceSize([2,0,2,3])\n",
        "# solution.maxTurbulenceSize([4,8,12,16])\n",
        "# solution.maxTurbulenceSize([0,1,1,0,1,0,1,1,0,0])\n",
        "# solution.maxTurbulenceSize([37,199,60,296,257,248,115,31,273,176])\n",
        "# solution.maxTurbulenceSize([1,1,2])\n",
        "\n",
        "\n",
        "\n"
      ],
      "metadata": {
        "id": "IxW8BHLkY_O3",
        "colab": {
          "base_uri": "https://localhost:8080/"
        },
        "outputId": "0e27b789-7953-4278-d46f-aed1634956fe"
      },
      "execution_count": null,
      "outputs": [
        {
          "output_type": "execute_result",
          "data": {
            "text/plain": [
              "5"
            ]
          },
          "metadata": {},
          "execution_count": 3
        }
      ]
    },
    {
      "cell_type": "code",
      "source": [
        "from typing import List\n",
        "class Solution:\n",
        "    def alternatingSubarray(self, nums: List[int]) -> int:\n",
        "      left=0\n",
        "      right=1\n",
        "      prev=-1\n",
        "      res=-1\n",
        "      while(right<len(nums)):\n",
        "        if(nums[right]-nums[right-1]==1 and prev==-1):\n",
        "          res=max(res,right-left+1)\n",
        "          right+=1\n",
        "          prev=1\n",
        "        elif(nums[right]-nums[right-1]==-1 and prev==1):\n",
        "          res=max(res,right-left+1)\n",
        "          right+=1\n",
        "          prev=-1\n",
        "        else:\n",
        "          right=right if nums[right]-nums[right-1]==1 else right+1\n",
        "          left=right-1\n",
        "          prev=-1\n",
        "\n",
        "      return res\n",
        "\n",
        "\n",
        "solution=Solution()\n",
        "# solution.alternatingSubarray([21,9,5])\n",
        "# solution.alternatingSubarray([20,9,15,15])\n",
        "# solution.alternatingSubarray([2,3])\n",
        "\n",
        "solution.alternatingSubarray([2,3,4,3,4])\n",
        "# solution.alternatingSubarray([4,5,6])\n"
      ],
      "metadata": {
        "id": "tyvafdBJZA5L",
        "colab": {
          "base_uri": "https://localhost:8080/",
          "height": 141
        },
        "outputId": "3dff27e9-4b34-4c32-bd04-b657ac8b98a2"
      },
      "execution_count": null,
      "outputs": [
        {
          "output_type": "error",
          "ename": "IndentationError",
          "evalue": "unindent does not match any outer indentation level (<tokenize>, line 24)",
          "traceback": [
            "\u001b[0;36m  File \u001b[0;32m\"<tokenize>\"\u001b[0;36m, line \u001b[0;32m24\u001b[0m\n\u001b[0;31m    return res\u001b[0m\n\u001b[0m    ^\u001b[0m\n\u001b[0;31mIndentationError\u001b[0m\u001b[0;31m:\u001b[0m unindent does not match any outer indentation level\n"
          ]
        }
      ]
    },
    {
      "cell_type": "code",
      "source": [
        "# Medium Maximum Subarray Usolved And below is the wrong solution\n",
        "class Solution:\n",
        "    def maxSubArray(self, nums: List[int]) -> int:\n",
        "        left,right=0,1\n",
        "        currentSum,prevSum=0,nums[0]\n",
        "        res=0\n",
        "        while(right<len(nums)):\n",
        "            # if previous sum\n",
        "            if(currentSum>=prevSum):\n",
        "                prevSum=currentSum\n",
        "                currentSum=prevSum+nums[right]\n",
        "                right+=1\n",
        "            else:\n",
        "                prevSum=currentSum\n",
        "                currentSum=currentSum-nums[left]\n",
        "                left+=1\n",
        "            res=max(currentSum,prevSum)\n",
        "        print(res,left,right)\n",
        "solution=Solution()\n",
        "solution.maxSubArray([-2,1,-3,4,-1,2,1,-5,4])"
      ],
      "metadata": {
        "colab": {
          "base_uri": "https://localhost:8080/"
        },
        "id": "BPJsnOXTn6uk",
        "outputId": "8e2c40bf-83af-4678-b495-fec81254cbdb"
      },
      "execution_count": null,
      "outputs": [
        {
          "output_type": "stream",
          "name": "stdout",
          "text": [
            "4 5 9\n"
          ]
        }
      ]
    },
    {
      "cell_type": "code",
      "source": [
        "# Remove dublicates from sorted array II\n",
        "from typing import List\n",
        "class Solution:\n",
        "    def removeDuplicates(self, nums: List[int]) -> int:\n",
        "      ptr1=0\n",
        "      ptr2=1\n",
        "      count=1\n",
        "      while(ptr2<len(nums)):\n",
        "        if nums[ptr1]==nums[ptr2]:\n",
        "           count+=1\n",
        "           if(count>2):\n",
        "            nums.remove(nums[ptr2])\n",
        "            continue\n",
        "           ptr2+=1\n",
        "        else:\n",
        "          ptr2+=1\n",
        "          ptr1=ptr2-1\n",
        "          count=1\n",
        "      return len(nums)\n",
        "\n",
        "\n",
        "solution=Solution()\n",
        "solution.removeDuplicates([0,0,1,1,1,1,2,3,3])\n",
        "solution.removeDuplicates([1,1,1,2,2,3,4,5,6,6,6,6])\n",
        "solution.removeDuplicates([0])"
      ],
      "metadata": {
        "id": "1wKDiOlp34bn",
        "colab": {
          "base_uri": "https://localhost:8080/"
        },
        "outputId": "84d32c4d-0f55-43a3-9bba-81efb359ed66"
      },
      "execution_count": null,
      "outputs": [
        {
          "output_type": "stream",
          "name": "stdout",
          "text": [
            "[0, 0, 1, 1, 2, 3, 3]\n",
            "[1, 1, 2, 2, 3, 4, 5, 6, 6]\n",
            "[0]\n"
          ]
        }
      ]
    },
    {
      "cell_type": "code",
      "source": [
        "import math\n",
        "class Solution:\n",
        "    def majorityElement(self, nums: List[int]) -> int:\n",
        "      hashTable={}\n",
        "      for index,element in enumerate(nums):\n",
        "        if element in hashTable:\n",
        "          hashTable[element]+=1\n",
        "        else:\n",
        "          hashTable[element]=1\n",
        "      for element in hashTable:\n",
        "        if hashTable[element]>=math.ceil(len(nums)/2):\n",
        "          return element\n",
        "\n",
        "solution=Solution()\n",
        "solution.majorityElement([6,5,5])"
      ],
      "metadata": {
        "colab": {
          "base_uri": "https://localhost:8080/"
        },
        "id": "5DshtIn9anMd",
        "outputId": "44eaddde-acbf-4699-8432-f0c6c1ff6db2"
      },
      "execution_count": null,
      "outputs": [
        {
          "output_type": "execute_result",
          "data": {
            "text/plain": [
              "6"
            ]
          },
          "metadata": {},
          "execution_count": 23
        }
      ]
    },
    {
      "cell_type": "code",
      "source": [
        "print(math.ciel(len([6,5,5])/2))"
      ],
      "metadata": {
        "colab": {
          "base_uri": "https://localhost:8080/",
          "height": 175
        },
        "id": "08tvPVB0atjw",
        "outputId": "0d2a8d32-035f-4827-dcdd-923742b9c19c"
      },
      "execution_count": null,
      "outputs": [
        {
          "output_type": "error",
          "ename": "AttributeError",
          "evalue": "module 'math' has no attribute 'ciel'",
          "traceback": [
            "\u001b[0;31m---------------------------------------------------------------------------\u001b[0m",
            "\u001b[0;31mAttributeError\u001b[0m                            Traceback (most recent call last)",
            "\u001b[0;32m<ipython-input-27-cb566e4e255d>\u001b[0m in \u001b[0;36m<cell line: 1>\u001b[0;34m()\u001b[0m\n\u001b[0;32m----> 1\u001b[0;31m \u001b[0mprint\u001b[0m\u001b[0;34m(\u001b[0m\u001b[0mmath\u001b[0m\u001b[0;34m.\u001b[0m\u001b[0mciel\u001b[0m\u001b[0;34m(\u001b[0m\u001b[0mlen\u001b[0m\u001b[0;34m(\u001b[0m\u001b[0;34m[\u001b[0m\u001b[0;36m6\u001b[0m\u001b[0;34m,\u001b[0m\u001b[0;36m5\u001b[0m\u001b[0;34m,\u001b[0m\u001b[0;36m5\u001b[0m\u001b[0;34m]\u001b[0m\u001b[0;34m)\u001b[0m\u001b[0;34m/\u001b[0m\u001b[0;36m2\u001b[0m\u001b[0;34m)\u001b[0m\u001b[0;34m)\u001b[0m\u001b[0;34m\u001b[0m\u001b[0;34m\u001b[0m\u001b[0m\n\u001b[0m",
            "\u001b[0;31mAttributeError\u001b[0m: module 'math' has no attribute 'ciel'"
          ]
        }
      ]
    },
    {
      "cell_type": "code",
      "source": [
        "# Medium rotate array\n",
        "class Solution:\n",
        "    def rotate(self, nums: List[int], k: int) -> None:\n",
        "        \"\"\"\n",
        "        Do not return anything, modify nums in-place instead.\n",
        "        \"\"\"\n",
        "\n",
        "        length=len(nums)\n",
        "        k=k%length\n",
        "        nums=nums[length-k:]+nums[:length-k]\n",
        "        print(nums)\n",
        "solution=Solution()\n",
        "solution.rotate([1,2,3,4,5,6,7],3)"
      ],
      "metadata": {
        "id": "cYtKmYJgpklc",
        "colab": {
          "base_uri": "https://localhost:8080/"
        },
        "outputId": "04cac71f-2edc-4189-b401-7805d352f75c"
      },
      "execution_count": null,
      "outputs": [
        {
          "output_type": "stream",
          "name": "stdout",
          "text": [
            "[5, 6, 7, 1, 2, 3, 4]\n"
          ]
        }
      ]
    },
    {
      "cell_type": "code",
      "source": [
        "# start from two index to last element\n",
        "\n",
        "# if it is placed before colon it is start position\n",
        "# [5, 6, 7, 1, 2, 3, 4][2:]\n",
        "# [7,1,2,3,4]\n",
        "\n",
        "#if it is placed after colon it is end position\n",
        "# [5, 6, 7, 1, 2, 3, 4][:2]\n",
        "# Ans [5,6]\n",
        "\n",
        "#if - is placed and it is before colon then array should take from back only two positions\n",
        "# [5, 6, 7, 1, 2, 3, 4][-2:]\n",
        "# Ans is [3,4]\n",
        "\n",
        "# if - is placed and it is after the colon then array should remove last two element\n",
        "# [5, 6, 7, 1, 2, 3, 4][:-2]\n",
        "# Ans [5,6,7,2,3,4]"
      ],
      "metadata": {
        "colab": {
          "base_uri": "https://localhost:8080/"
        },
        "id": "t5OazbT25hOe",
        "outputId": "6220e7c1-911e-4b92-dd0c-0f031b11c1f2"
      },
      "execution_count": null,
      "outputs": [
        {
          "output_type": "execute_result",
          "data": {
            "text/plain": [
              "[5, 6, 7, 1, 2]"
            ]
          },
          "metadata": {},
          "execution_count": 35
        }
      ]
    },
    {
      "cell_type": "code",
      "source": [
        "#medium Jump Game\n",
        "from typing import List\n",
        "# Approach 1 Dynamic Programming\n",
        "class Solution:\n",
        "    def canJump(self, nums: List[int]) -> bool:\n",
        "      canReach=True\n",
        "      # At staring the reach Index is last Index\n",
        "      reachIndex=len(nums)-1\n",
        "      for index in range(len(nums)-2,-1,-1):\n",
        "        # if the second last value permits to reach last\n",
        "        if(nums[index]>=reachIndex-index):\n",
        "          canReach=True\n",
        "          reachIndex=index\n",
        "        # if the second last value doesn't permits\n",
        "        else:\n",
        "          canReach=False\n",
        "      return canReach"
      ],
      "metadata": {
        "id": "Lxt4JUGaE-nl",
        "colab": {
          "base_uri": "https://localhost:8080/"
        },
        "outputId": "da4d9ea1-8887-4856-f6eb-2e2f69ff8da8"
      },
      "execution_count": null,
      "outputs": [
        {
          "output_type": "stream",
          "name": "stdout",
          "text": [
            "3 1\n",
            "2 1\n",
            "1 3\n",
            "0 2\n"
          ]
        }
      ]
    },
    {
      "cell_type": "code",
      "source": [
        "#Medium\n",
        "# Count unhappy friends\n",
        "from typing import List\n",
        "class Solution:\n",
        "    def unhappyFriends(self, n: int, preferences: List[List[int]], pairs: List[List[int]]) -> int:\n",
        "      # create hashmap for pairs\n",
        "      pairMap={}\n",
        "      for index in range(len(pairs)):\n",
        "        pairMap[pairs[index][0]]=pairs[index][1]\n",
        "        pairMap[pairs[index][1]]=pairs[index][0]\n",
        "      unhappy=0\n",
        "      for key in pairMap:\n",
        "        # preferences in preference list\n",
        "        preferences[key]\n",
        "        # loop over each element and check if there is priority or not\n",
        "        for priority in range(len(preferences[key])):\n",
        "          prefer=preferences[key][priority]\n",
        "          # check if a person has got last priority person\n",
        "          if prefer==pairMap[key] and priority == len(preferences[key])-1:\n",
        "            unhappy+=1\n",
        "          # else the prefer has not reached the last element so check the other elements before prefer if they are happy or not\n",
        "          else:\n",
        "\n",
        "\n",
        "\n",
        "\n",
        "\n",
        "\n",
        "solution=Solution()\n",
        "solution.unhappyFriends(4,[[1, 2, 3], [3, 2, 0], [3, 1, 0], [1, 2, 0]],[[0, 1], [2, 3]])"
      ],
      "metadata": {
        "id": "H4QExFsu0XF2",
        "colab": {
          "base_uri": "https://localhost:8080/"
        },
        "outputId": "cf0f5a99-67c4-42a1-db9a-7bd970195be1"
      },
      "execution_count": null,
      "outputs": [
        {
          "output_type": "stream",
          "name": "stdout",
          "text": [
            "0\n",
            "1\n",
            "2\n",
            "3\n"
          ]
        }
      ]
    },
    {
      "cell_type": "code",
      "source": [
        "from typing import List\n",
        "class Solution:\n",
        "    def jump(self, nums: List[int]) -> int:\n",
        "      count=0\n",
        "      l=r=0\n",
        "      farthest=0\n",
        "      while(r<len(nums)):\n",
        "        for index in range(l,r+1):\n",
        "            farthest=max(farthest,index+nums[index])\n",
        "        l=r+1\n",
        "        r=farthest\n",
        "        count+=1\n",
        "      return count\n",
        "      #   # two cases are unhandled\n",
        "      #   # if the there are multiple maximum elements choose the farthest index\n",
        "\n",
        "solution=Solution()\n",
        "solution.jump([2,3,1,1,4])\n",
        "# solution.jump([1,2,3])\n",
        "# solution.jump([2,1,1,1,1])\n",
        "# solution.jump([2,1,1,1])\n",
        "# solution.jump([10,9])\n"
      ],
      "metadata": {
        "id": "CG9aEV18eXum",
        "colab": {
          "base_uri": "https://localhost:8080/"
        },
        "outputId": "1d8ab2cc-10d6-4608-d4df-231718f4379e"
      },
      "execution_count": null,
      "outputs": [
        {
          "output_type": "execute_result",
          "data": {
            "text/plain": [
              "3"
            ]
          },
          "metadata": {},
          "execution_count": 26
        }
      ]
    },
    {
      "cell_type": "code",
      "source": [
        "# So if you will slice the array and iterate over it then it will again count from 0 the index of elements\n",
        "for index,element in enumerate([1,3,2][1:3]):\n",
        "  print(\"this is index\",index)\n",
        "  print(\"This is element\",element)"
      ],
      "metadata": {
        "id": "HQlyEPwzZF08",
        "colab": {
          "base_uri": "https://localhost:8080/"
        },
        "outputId": "90798bc2-a1ef-423b-9f19-f3b535a1e640"
      },
      "execution_count": null,
      "outputs": [
        {
          "output_type": "stream",
          "name": "stdout",
          "text": [
            "this is index 0\n",
            "This is element 3\n",
            "this is index 1\n",
            "This is element 2\n"
          ]
        }
      ]
    },
    {
      "cell_type": "code",
      "source": [
        "class RandomizedSet:\n",
        "\n",
        "    def __init__(self):\n",
        "      self.values=[]\n",
        "\n",
        "\n",
        "    def insert(self, val: int) -> bool:\n",
        "        if val not in self.values\n",
        "          self.values.append(val)\n",
        "          return True\n",
        "        return False\n",
        "\n",
        "    def remove(self, val: int) -> bool:\n",
        "      if val in self.values\n",
        "        self.values.remove(val)\n",
        "        return True\n",
        "      return False\n",
        "\n",
        "\n",
        "    def getRandom(self) -> int:\n",
        "      random.choice(self.values)\n",
        "\n",
        "\n",
        "\n",
        "# Your RandomizedSet object will be instantiated and called as such:\n",
        "obj = RandomizedSet()\n",
        "param_1 = obj.insert(val)\n",
        "param_2 = obj.remove(val)\n",
        "param_3 = obj.getRandom()"
      ],
      "metadata": {
        "id": "FeGOP6KpbcG4"
      },
      "execution_count": null,
      "outputs": []
    },
    {
      "cell_type": "code",
      "source": [
        "from typing import List\n",
        "from functools import reduce\n",
        "class Solution:\n",
        "    def productExceptSelf(self, nums: List[int]) -> List[int]:\n",
        "      # for every element divide left and right of the array except that element\n",
        "      result=[]\n",
        "      for index in range(len(nums)):\n",
        "        rightProduct=reduce(lambda x,y:x*y,nums[index+1:len(nums)],1)\n",
        "        leftProduct=reduce(lambda x,y:x*y,nums[0:index],1)\n",
        "        finalProduct=rightProduct*leftProduct\n",
        "        result.append(finalProduct)\n",
        "      return result\n",
        "\n",
        "\n",
        "solution=Solution()\n",
        "solution.productExceptSelf([-1,1,0,-3,3])"
      ],
      "metadata": {
        "colab": {
          "base_uri": "https://localhost:8080/"
        },
        "id": "XuNhaiLMlHWE",
        "outputId": "a1d26290-ed15-4af7-93c0-14eca746266f"
      },
      "execution_count": null,
      "outputs": [
        {
          "output_type": "execute_result",
          "data": {
            "text/plain": [
              "[0, 0, 9, 0, 0]"
            ]
          },
          "metadata": {},
          "execution_count": 7
        }
      ]
    },
    {
      "cell_type": "code",
      "source": [
        "class Solution:\n",
        "    def countMatchingSubarrays(self, nums: List[int], pattern: List[int]) -> int:\n",
        "        subArrayCount=0\n",
        "        ptr=0\n",
        "        for i,element in enumerate(nums[0:len(nums)-len(pattern)]):\n",
        "          ptr=0\n",
        "          flag=1\n",
        "          subArray=nums[i:i+len(pattern)+1]\n",
        "          for subIndex,subElm in enumerate(subArray):\n",
        "            if(subIndex<len(pattern)):\n",
        "              if pattern[ptr]==1 and (subArray[subIndex  + 1] > subArray[subIndex]):\n",
        "                ptr+=1\n",
        "              elif pattern[ptr]==0 and (subArray[subIndex + 1] == subArray[subIndex]):\n",
        "                ptr+=1\n",
        "              elif pattern[ptr]==-1 and (subArray[subIndex + 1] < subArray[subIndex]):\n",
        "                ptr+=1\n",
        "              else:\n",
        "                flag=0\n",
        "                break\n",
        "\n",
        "          if(flag):\n",
        "            subArrayCount+=1\n",
        "        return subArrayCount\n",
        "solution=Solution()\n",
        "solution.countMatchingSubarrays([1,2,3,4,5,6],[1,1])\n",
        "# solution.countMatchingSubarrays([1,4,4,1,3,5,5,3],[1,0,-1])\n"
      ],
      "metadata": {
        "colab": {
          "base_uri": "https://localhost:8080/"
        },
        "id": "Y0nBuVWgAQwF",
        "outputId": "1155de0a-c2f0-465c-c6d0-0650c5d15380"
      },
      "execution_count": null,
      "outputs": [
        {
          "output_type": "execute_result",
          "data": {
            "text/plain": [
              "4"
            ]
          },
          "metadata": {},
          "execution_count": 43
        }
      ]
    },
    {
      "cell_type": "code",
      "source": [
        "from typing import List\n",
        "class Solution:\n",
        "    def canCompleteCircuit(self, gas: List[int], cost: List[int]) -> int:\n",
        "      if(sum(gas)<sum(cost)):\n",
        "        return -1\n",
        "\n",
        "      gasT=0\n",
        "      start=0\n",
        "      for i in range(len(gas)):\n",
        "        gasT=gasT+(gas[i]-cost[i])\n",
        "        if(gasT<0):\n",
        "          gasT=0\n",
        "          start+=1\n",
        "      return start\n",
        "\n",
        "\n",
        "\n",
        "\n",
        "solution=Solution()\n",
        "# solution.canCompleteCircuit([5,1,2,3,4],[4,4,1,5,1])\n",
        "solution.canCompleteCircuit([1,2,3,4,5],[3,4,5,1,2])\n"
      ],
      "metadata": {
        "id": "fwwCMUaTNtxX",
        "colab": {
          "base_uri": "https://localhost:8080/"
        },
        "outputId": "5f1af93a-b955-4729-f142-8e3506f896b3"
      },
      "execution_count": null,
      "outputs": [
        {
          "output_type": "execute_result",
          "data": {
            "text/plain": [
              "3"
            ]
          },
          "metadata": {},
          "execution_count": 14
        }
      ]
    },
    {
      "cell_type": "code",
      "source": [
        "# Medium level order traversal\n",
        "# Definition for a binary tree node.\n",
        "from typing import List, Optional\n",
        "class TreeNode:\n",
        "    def __init__(self, val=0, left=None, right=None):\n",
        "        self.val = val\n",
        "        self.left = left\n",
        "        self.right = right\n",
        "class Solution:\n",
        "    def levelOrder(self, root: Optional[TreeNode]) -> List[List[int]]:\n",
        "      result=[]\n",
        "      ptr=root\n",
        "      result.append([root])\n",
        "      while\n",
        "      return []\n",
        "\n",
        "\n",
        "\n",
        "\n",
        "# Create the nodes\n",
        "node3 = TreeNode(3)\n",
        "node9 = TreeNode(9)\n",
        "node20 = TreeNode(20)\n",
        "node15 = TreeNode(15)\n",
        "node7 = TreeNode(7)\n",
        "\n",
        "# Connect the nodes to form the binary tree\n",
        "node3.left = node9\n",
        "node3.right = node20\n",
        "node20.left = node15\n",
        "node20.right = node7\n",
        "\n",
        "# Create an instance of the Solution class\n",
        "solution = Solution()\n",
        "\n",
        "# Test the levelOrder function\n",
        "result = solution.levelOrder(node3)\n",
        "print(result)  # Output: [[3], [9, 20], [15, 7]]"
      ],
      "metadata": {
        "colab": {
          "base_uri": "https://localhost:8080/"
        },
        "id": "ke0mRx9PMbp1",
        "outputId": "1ae29e2e-f373-4647-dd4e-86d883051a9d"
      },
      "execution_count": null,
      "outputs": [
        {
          "output_type": "stream",
          "name": "stdout",
          "text": [
            "3\n",
            "[]\n"
          ]
        }
      ]
    },
    {
      "cell_type": "code",
      "source": [
        "class Solution:\n",
        "    def countPrefixSuffixPairs(self, words: List[str]) -> int:\n",
        "      count=0\n",
        "      def isPrefixAndSuffix(wordI,wordJ):\n",
        "       return (wordJ.startswith(wordI) and wordJ.endswith(wordI))\n",
        "\n",
        "      for index,wordI in enumerate(words):\n",
        "        for i in range(index+1,len(words)):\n",
        "          if(isPrefixAndSuffix(wordI, words[i])):\n",
        "            count+=1\n",
        "      return count\n",
        "\n",
        "solution=Solution()\n",
        "solution.countPrefixSuffixPairs([\"abab\",\"ab\"])\n"
      ],
      "metadata": {
        "colab": {
          "base_uri": "https://localhost:8080/"
        },
        "id": "8rhXw7H6D7R3",
        "outputId": "dd005fed-0029-4b97-8195-f296d423f086"
      },
      "execution_count": null,
      "outputs": [
        {
          "output_type": "execute_result",
          "data": {
            "text/plain": [
              "0"
            ]
          },
          "metadata": {},
          "execution_count": 18
        }
      ]
    },
    {
      "cell_type": "code",
      "source": [
        "class Solution:\n",
        "    def longestCommonPrefix(self, arr1: List[int], arr2: List[int]) -> int:\n",
        "      max=0\n",
        "      def returnPrefix(str1, str2):\n",
        "       # Find the length of the shortest string\n",
        "        min_length = min(len(str1), len(str2))\n",
        "\n",
        "         # Iterate until the end of the shortest string or until characters differ\n",
        "        i = 0\n",
        "        while i < min_length and str1[i] == str2[i]:\n",
        "            i += 1\n",
        "        return str1[:i]\n",
        "      for n1 in arr1:\n",
        "        for n2 in arr2:\n",
        "          prefixLength=len(returnPrefix(str(n1),str(n2)))\n",
        "          if(max<prefixLength):\n",
        "            max=prefixLength\n",
        "      return max\n",
        "\n",
        "\n",
        "solution=Solution()\n",
        "solution.longestCommonPrefix([1,10,100],[1000])\n",
        "# solution.longestCommonPrefix([1,2,3],[4,4,4])\n",
        "\n",
        "\n",
        "class Solution:\n",
        "    def longestCommonPrefix(self, arr1: List[int], arr2: List[int]) -> int:\n",
        "        s = set()\n",
        "        for v in arr1:\n",
        "            while v:\n",
        "                s.add(v)\n",
        "                v //= 10\n",
        "\n",
        "        top = 0\n",
        "        for v in arr2:\n",
        "            while v:\n",
        "                if v in s:\n",
        "                    top = max(v, top)\n",
        "                    break\n",
        "                v //= 10\n",
        "        out = 0\n",
        "        while top:\n",
        "            out += 1\n",
        "            top //= 10\n",
        "        return out"
      ],
      "metadata": {
        "colab": {
          "base_uri": "https://localhost:8080/"
        },
        "id": "yub4RWg3IdaG",
        "outputId": "d32148d3-5ba0-4e36-9a2b-76cca0570a08"
      },
      "execution_count": null,
      "outputs": [
        {
          "output_type": "execute_result",
          "data": {
            "text/plain": [
              "3"
            ]
          },
          "metadata": {},
          "execution_count": 44
        }
      ]
    },
    {
      "cell_type": "code",
      "source": [
        "class Solution:\n",
        "    def longestCommonPrefix(self, arr1: List[int], arr2: List[int]) -> int:\n",
        "        # Sort both arrays\n",
        "        arr1.sort()\n",
        "        arr2.sort()\n",
        "\n",
        "        # Initialize the longest common prefix length to 0\n",
        "        max_prefix_length = 0\n",
        "\n",
        "        # Iterate over the arrays and find the longest common prefix\n",
        "        for n1, n2 in zip(arr1, arr2):\n",
        "            # Convert integers to strings for comparison\n",
        "            str_n1, str_n2 = str(n1), str(n2)\n",
        "\n",
        "            # Find the length of the longest common prefix between the two integers\n",
        "            prefix_length = 0\n",
        "            min_length = min(len(str_n1), len(str_n2))\n",
        "            while prefix_length < min_length and str_n1[prefix_length] == str_n2[prefix_length]:\n",
        "                prefix_length += 1\n",
        "\n",
        "            # Update the maximum common prefix length\n",
        "            max_prefix_length = max(max_prefix_length, prefix_length)\n",
        "\n",
        "        return max_prefix_length\n",
        "solution=Solution()\n",
        "solution.longestCommonPrefix([1,10,100],[1000])"
      ],
      "metadata": {
        "colab": {
          "base_uri": "https://localhost:8080/"
        },
        "id": "SwiaNSkuQcxx",
        "outputId": "ce05efdc-90b9-4a96-d9db-a5dd8be1e4e0"
      },
      "execution_count": null,
      "outputs": [
        {
          "output_type": "execute_result",
          "data": {
            "text/plain": [
              "1"
            ]
          },
          "metadata": {},
          "execution_count": 45
        }
      ]
    },
    {
      "cell_type": "code",
      "source": [
        "class Solution:\n",
        "    def mostFrequentPrime(self, mat: List[List[int]]) -> int:\n",
        "      for i, row in enumerate(mat):\n",
        "    # Traverse through each element in the row along with its index\n",
        "        # print(row)\n",
        "        for j, element in enumerate(row):\n",
        "          # east\n",
        "          e=j\n",
        "          # while(e<len(row)):\n",
        "          #   print(row[e])\n",
        "          #   e+=1\n",
        "\n",
        "          #west\n",
        "          w=j\n",
        "          # while(w>=0):\n",
        "          #   print(row[w])\n",
        "          #   w-=1\n",
        "\n",
        "          # north\n",
        "          s=j\n",
        "\n",
        "\n",
        "\n",
        "      # west\n",
        "      # north\n",
        "      # south\n",
        "      # 4 diagonals\n",
        "\n",
        "\n",
        "\n",
        "\n",
        "solution=Solution()\n",
        "solution.mostFrequentPrime([[1,2],[9,10],[11,12]])"
      ],
      "metadata": {
        "colab": {
          "base_uri": "https://localhost:8080/"
        },
        "id": "yvBnYTRXSUXR",
        "outputId": "9f53e545-5736-4970-dd5d-240453874fe8"
      },
      "execution_count": null,
      "outputs": [
        {
          "output_type": "stream",
          "name": "stdout",
          "text": [
            "1\n",
            "2\n",
            "1\n",
            "9\n",
            "10\n",
            "9\n",
            "11\n",
            "12\n",
            "11\n"
          ]
        }
      ]
    },
    {
      "cell_type": "markdown",
      "source": [],
      "metadata": {
        "id": "u1vX7HUmlHJb"
      }
    },
    {
      "cell_type": "code",
      "source": [
        "from collections import namedtuple\n",
        "\n",
        "Graph=namedtuple(\"Graph\",[\"nodes\",\"edges\"])\n",
        "\n",
        "nodes=[\"n1\",\"n2\",\"n3\",\"n4\",\"n5\",\"n6\",\"n7\",\"n8\"]\n",
        "edges=[\n",
        "    (\"n1\",\"n2\"),\n",
        "    (\"n2\",\"n3\"),\n",
        "    (\"n3\",\"n4\"),\n",
        "    (\"n4\",\"n5\"),\n",
        "    (\"n5\",\"n6\"),\n",
        "    (\"n6\",\"n2\"),\n",
        "    (\"n1\",\"n5\"),\n",
        "    (\"n4\",\"n8\"),\n",
        "    (\"n7\",\"n3\"),\n",
        "    (\"n6\",\"n7\"),\n",
        "    (\"n7\",\"n8\"),\n",
        "]\n",
        "\n",
        "G=Graph(nodes,edges)\n",
        "\n",
        "\n",
        "def adjacency_dict(graph):\n",
        "   \"\"\"Returns adjacency list of graph \"\"\"\n",
        "   adj={node:[] for node in graph.nodes}\n",
        "\n",
        "   for edge in graph.edges:\n",
        "    node1,node2=edge[0],edge[1]\n",
        "    adj[node1].append(node2)\n",
        "    adj[node2].append(node1)\n",
        "   return adj"
      ],
      "metadata": {
        "id": "GVjUkSwXMN6J"
      },
      "execution_count": 1,
      "outputs": []
    },
    {
      "cell_type": "code",
      "source": [
        "adjacencyList=adjacency_dict(G)\n",
        "print(adjacencyList)\n",
        "visited=set()\n",
        "result=[]\n",
        "for node in adjacencyList:\n",
        "  currentVisit=[]\n",
        "  if(node not in visited):\n",
        "    result.append([node])\n",
        "    visited.add(node)\n",
        "    for vertex in adjacencyList[node]:\n",
        "      if(vertex not in visited):\n",
        "        currentVisit.append(vertex)\n",
        "        visited.add(vertex)\n",
        "    result.append(currentVisit)\n",
        "\n",
        "print(result)\n",
        "\n",
        "\n",
        "\n"
      ],
      "metadata": {
        "colab": {
          "base_uri": "https://localhost:8080/"
        },
        "id": "jf8ulo6bOyOJ",
        "outputId": "ca7ed28e-aae7-43d6-a2f1-ae30ba514b09"
      },
      "execution_count": 2,
      "outputs": [
        {
          "output_type": "stream",
          "name": "stdout",
          "text": [
            "{'n1': ['n2', 'n5'], 'n2': ['n1', 'n3', 'n6'], 'n3': ['n2', 'n4', 'n7'], 'n4': ['n3', 'n5', 'n8'], 'n5': ['n4', 'n6', 'n1'], 'n6': ['n5', 'n2', 'n7'], 'n7': ['n3', 'n6', 'n8'], 'n8': ['n4', 'n7']}\n",
            "[['n1'], ['n2', 'n5'], ['n3'], ['n4', 'n7'], ['n6'], [], ['n8'], []]\n"
          ]
        }
      ]
    },
    {
      "cell_type": "code",
      "source": [
        "from collections import namedtuple, deque\n",
        "\n",
        "Graph = namedtuple(\"Graph\", [\"nodes\", \"edges\"])\n",
        "\n",
        "nodes = [\"A\", \"B\", \"C\", \"D\", \"E\"]\n",
        "edges = [\n",
        "    (\"A\", \"B\"),\n",
        "    (\"A\", \"C\"),\n",
        "    (\"B\", \"C\"),\n",
        "    (\"B\", \"D\"),\n",
        "    (\"C\", \"E\"),\n",
        "    (\"D\", \"E\")\n",
        "]\n",
        "\n",
        "G = Graph(nodes, edges)\n",
        "\n",
        "\n",
        "def adjacency_dict(graph):\n",
        "    \"\"\"Returns adjacency list of graph \"\"\"\n",
        "    adj = {node: [] for node in graph.nodes}\n",
        "\n",
        "    for edge in graph.edges:\n",
        "        node1, node2 = edge[0], edge[1]\n",
        "        adj[node1].append(node2)\n",
        "        adj[node2].append(node1)\n",
        "    return adj\n",
        "\n",
        "\n",
        "def bfs(graph, start):\n",
        "    visited = set()\n",
        "    queue = deque([(start, 0)])  # Also keep track of levels\n",
        "    visited.add(start)\n",
        "    result = []\n",
        "\n",
        "    while queue:\n",
        "        vertex, level = queue.popleft()\n",
        "\n",
        "        # Append the current node to the corresponding level list\n",
        "        if level == len(result):\n",
        "            result.append([vertex])\n",
        "        else:\n",
        "            result[level].append(vertex)\n",
        "\n",
        "        for neighbor in graph[vertex]:\n",
        "            if neighbor not in visited:\n",
        "                queue.append((neighbor, level + 1))\n",
        "                visited.add(neighbor)\n",
        "\n",
        "    return result\n",
        "\n",
        "\n",
        "# Convert named tuple representation to adjacency dictionary\n",
        "adjacency_list = adjacency_dict(G)\n",
        "\n",
        "# Starting node for BFS traversal\n",
        "start_node = 'A'\n",
        "print(\"Level-Order Traversal:\")\n",
        "print(bfs(adjacency_list, start_node))\n"
      ],
      "metadata": {
        "colab": {
          "base_uri": "https://localhost:8080/"
        },
        "id": "92KWgNdethDJ",
        "outputId": "5d7065dd-7dad-4d45-a564-13d7f5af22d6"
      },
      "execution_count": 19,
      "outputs": [
        {
          "output_type": "stream",
          "name": "stdout",
          "text": [
            "Level-Order Traversal:\n",
            "[['A'], ['B', 'C'], ['D', 'E']]\n"
          ]
        }
      ]
    },
    {
      "cell_type": "code",
      "source": [
        "def bfs(graph,start):\n",
        ""
      ],
      "metadata": {
        "id": "9Z5Pr23u0vwy"
      },
      "execution_count": null,
      "outputs": []
    }
  ]
}