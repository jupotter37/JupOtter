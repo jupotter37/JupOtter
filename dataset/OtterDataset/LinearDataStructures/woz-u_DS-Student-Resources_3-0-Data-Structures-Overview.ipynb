{
 "cells": [
  {
   "cell_type": "markdown",
   "id": "232cc8ca-ff43-441d-bce8-7f9c05683c17",
   "metadata": {},
   "source": [
    "# Python built in data container types / data structures\n",
    "\n",
    "In computer science, data structures are specialized formats for organizing and storing data in a computer program. They are designed to facilitate the efficient manipulation and access of data, based on the requirements of the program.\n",
    "\n",
    "There are many types of data structures, each with its own set of rules for how data is stored and accessed. Some common data structures include arrays, linked lists, stacks, queues, trees, and graphs.\n",
    "\n",
    "Data structures are an important part of programming because they can impact the performance of a program. The choice of data structure depends on the specific use case and the data being stored. For example, an array might be the best choice for storing a collection of data with a fixed size, while a linked list might be better for storing data with an unknown size or that needs to be frequently inserted or deleted.\n",
    "\n",
    "Having a good understanding of data structures is an essential skill for computer scientists, software engineers, and Data Scientists as it allows them to develop efficient and scalable algorithms for solving problems.\n",
    "\n",
    "Python provides several built-in data structures that can be used to organize and store data in a program. Here are some of the most common data structures in Python:\n",
    "\n",
    "__Lists:__ A list is a dynamic array that can store a collection of items, such as numbers, strings, or other objects. Lists are ordered and mutable, which means you can add, remove, or modify items.\n",
    "\n",
    "__Tuples:__ A tuple is similar to a list, but it is immutable, which means you cannot modify its contents after it has been created. Tuples are often used to store related values, such as coordinates or dates.\n",
    "\n",
    "__Sets:__ A set is an unordered collection of unique elements. Sets are useful for finding unique items, and for performing set operations such as union, intersection, and difference.\n",
    "\n",
    "__Dictionaries:__ A dictionary is a collection of key-value pairs. The keys are unique and are used to access the corresponding values. Dictionaries are often used for quick lookups and for storing data that is related by keys.\n",
    "\n",
    "Python also provides some built-in data structures that are not commonly used, such as __deque__, __named tuple__, and __heap queue__.\n",
    "\n",
    "In addition to the built-in data structures, Python also provides a module called __\"collections\"__ that includes additional data structures, such as __defaultdict__, __Counter__, and __OrderedDict__, that can be useful in certain situations.\n",
    "\n",
    "Notice that a __String is also a data structure__ since it contains characters.\n",
    "\n",
    "__Programmers can also create their own custom data structures in Python using classes__, which can be tailored to the specific requirements of a program."
   ]
  },
  {
   "cell_type": "markdown",
   "id": "e9a5528e-8e19-446d-9613-e66610559111",
   "metadata": {},
   "source": [
    "|String   |List   |Tuple    |Set    |Dictionary|\n",
    "|:------   |:----   |:-----    |:---    |:----------|\n",
    "|immutable|mutable|immutable|mutable|mutable|\n",
    "|ordered/indexed|ordered/indexed|ordered/indexed|unordered|unordered|\n",
    "|allows duplicate members|allows duplicate members|allows duplicate members|does not allow duplicate members|does not allow duplicate keys|"
   ]
  },
  {
   "cell_type": "markdown",
   "id": "5d466168-e055-4480-956e-6f075eb03460",
   "metadata": {},
   "source": [
    "# String Basics\n",
    "Strings are a sequence of characters which can be stored either as a constant or a different variable. Strings are considered as a datatype. Typically, programmers must enclose strings in quotation marks for the data to recognized as a string and not a number or variable name. Shown below are some of the most used string methods on a daily basis and are one of the most commonly asked interview questions. \n",
    "[reference](https://towardsdatascience.com/python-strings-from-scratch-afd5ad034de8) [Github Reference](https://github.com/Tanu-N-Prabhu/Python/blob/master/Strings/Strings.ipynb)"
   ]
  },
  {
   "cell_type": "code",
   "execution_count": 1,
   "id": "1dfae7d8-93e5-4d7b-aa63-272e27a02c27",
   "metadata": {},
   "outputs": [
    {
     "data": {
      "text/plain": [
       "str"
      ]
     },
     "execution_count": 1,
     "metadata": {},
     "output_type": "execute_result"
    }
   ],
   "source": [
    "## empty string\n",
    "empty_string = \"\"\n",
    "type(empty_string)"
   ]
  },
  {
   "cell_type": "code",
   "execution_count": 2,
   "id": "e30aed6f-27fe-4e8a-ba84-c91b12d06835",
   "metadata": {},
   "outputs": [
    {
     "name": "stdout",
     "output_type": "stream",
     "text": [
      "This is a python tutorial\n"
     ]
    }
   ],
   "source": [
    "# Declaring a string variable\n",
    "string = \"This is a python tutorial\"\n",
    "print(string)"
   ]
  },
  {
   "cell_type": "code",
   "execution_count": 3,
   "id": "1262619c-7cf5-4ada-993d-fd8c23d397d0",
   "metadata": {},
   "outputs": [
    {
     "name": "stdout",
     "output_type": "stream",
     "text": [
      "<class 'str'>\n"
     ]
    }
   ],
   "source": [
    "print(type(string))"
   ]
  },
  {
   "cell_type": "markdown",
   "id": "66e6ee80-699c-43d8-90a5-cc940e3b76bd",
   "metadata": {},
   "source": [
    "### Escape sequence in python using strings\n",
    "In Python strings, the backslash \" \" is a special character, also called the \"escape\" character. It is used in representing certain whitespace characters: \"\\t\" is a tab, \"\\n\" is a new line, and \"\\r\" is a carriage return. Finally, \" \" can be used to escape itself: \"\" is the literal backslash character."
   ]
  },
  {
   "cell_type": "code",
   "execution_count": 4,
   "id": "3154394b-dc47-4487-9198-b81704ee165c",
   "metadata": {},
   "outputs": [
    {
     "name": "stdout",
     "output_type": "stream",
     "text": [
      "This is a \"Jupyter\" python notebook\n"
     ]
    }
   ],
   "source": [
    "# This is an escape sequence.\n",
    "string = \"This is a \\\"Jupyter\\\" python notebook\"\n",
    "print(string)"
   ]
  },
  {
   "cell_type": "markdown",
   "id": "7d43408f-8548-4a2e-a57f-75a7cc1f2bd7",
   "metadata": {},
   "source": [
    "### Accessing the String by an Index\n",
    "Strings can be accessed by their index in order to get the value. To do this all you have to do is just place the number (index value) inside the pair of square brackets along with the name of the string."
   ]
  },
  {
   "cell_type": "code",
   "execution_count": 5,
   "id": "3128557b-b3d2-4027-89f3-94f48f0bc356",
   "metadata": {},
   "outputs": [
    {
     "name": "stdout",
     "output_type": "stream",
     "text": [
      "t\n"
     ]
    }
   ],
   "source": [
    "string = \"Python\"\n",
    "print(string[2])"
   ]
  },
  {
   "cell_type": "code",
   "execution_count": 6,
   "id": "44c1d0d1-f4b9-4d5a-a97c-f69bd14d06f2",
   "metadata": {},
   "outputs": [
    {
     "name": "stdout",
     "output_type": "stream",
     "text": [
      "n\n"
     ]
    }
   ],
   "source": [
    "print(string[5])"
   ]
  },
  {
   "cell_type": "markdown",
   "id": "ba2dd3df-ead5-42d4-b943-d6a9bb530ea0",
   "metadata": {},
   "source": [
    "### Slicing a string\n",
    "Slicing a string helps to get a set of characters from a string. This is really helpful when we want to access a particular set of characters in a string. Below are some slicing variants that are useful."
   ]
  },
  {
   "cell_type": "code",
   "execution_count": 7,
   "id": "46cb9976-fe12-441f-82a9-082a852cfab8",
   "metadata": {},
   "outputs": [
    {
     "data": {
      "text/plain": [
       "'programming'"
      ]
     },
     "execution_count": 7,
     "metadata": {},
     "output_type": "execute_result"
    }
   ],
   "source": [
    "string = \"programming\"\n",
    "string"
   ]
  },
  {
   "cell_type": "code",
   "execution_count": 8,
   "id": "33a6c395-6763-48f0-956f-03faf9b0a27d",
   "metadata": {},
   "outputs": [
    {
     "name": "stdout",
     "output_type": "stream",
     "text": [
      "p\n"
     ]
    }
   ],
   "source": [
    "# Getting one character of the string\n",
    "print(string[0:1])"
   ]
  },
  {
   "cell_type": "code",
   "execution_count": 9,
   "id": "8d78cafb-a816-4f69-816a-2382e39c8abb",
   "metadata": {},
   "outputs": [
    {
     "name": "stdout",
     "output_type": "stream",
     "text": [
      "pro\n"
     ]
    }
   ],
   "source": [
    "# Getting the first three characters from the string\n",
    "print(string[0:3])"
   ]
  },
  {
   "cell_type": "code",
   "execution_count": 10,
   "id": "97f64091-2322-4458-8143-cd1c5771775c",
   "metadata": {},
   "outputs": [
    {
     "name": "stdout",
     "output_type": "stream",
     "text": [
      "pro\n"
     ]
    }
   ],
   "source": [
    "# Getting the first three characters from the string (Alternate)\n",
    "print(string[:3])"
   ]
  },
  {
   "cell_type": "code",
   "execution_count": 11,
   "id": "c2720837-7523-4817-9fd8-7651d3ad92bc",
   "metadata": {},
   "outputs": [
    {
     "name": "stdout",
     "output_type": "stream",
     "text": [
      "ing\n"
     ]
    }
   ],
   "source": [
    "# Getting the last three characters from the string\n",
    "print(string[-3:])"
   ]
  },
  {
   "cell_type": "code",
   "execution_count": 12,
   "id": "6cc122f7-9a1b-4103-8dcd-dfd80694f60a",
   "metadata": {},
   "outputs": [
    {
     "name": "stdout",
     "output_type": "stream",
     "text": [
      "gramming\n"
     ]
    }
   ],
   "source": [
    "# Getting all characters but excluding three first characters from the string\n",
    "print(string[3:])"
   ]
  },
  {
   "cell_type": "code",
   "execution_count": 13,
   "id": "4a56de38-2c45-4153-8461-b96a0e4dca59",
   "metadata": {},
   "outputs": [
    {
     "name": "stdout",
     "output_type": "stream",
     "text": [
      "programm\n"
     ]
    }
   ],
   "source": [
    "# Getting all characters but excluding the last three characters from the string\n",
    "print(string[:-3])"
   ]
  },
  {
   "cell_type": "code",
   "execution_count": 14,
   "id": "df6965f3-a47f-4904-a0da-423afeb94373",
   "metadata": {},
   "outputs": [
    {
     "name": "stdout",
     "output_type": "stream",
     "text": [
      "gnimmargorp\n"
     ]
    }
   ],
   "source": [
    "# Reversing all the characters in a given string\n",
    "print(string[::-1])"
   ]
  },
  {
   "cell_type": "code",
   "execution_count": 15,
   "id": "e7915250-5e7d-47d4-9986-ff6f8271a120",
   "metadata": {},
   "outputs": [
    {
     "name": "stdout",
     "output_type": "stream",
     "text": [
      "programming\n"
     ]
    }
   ],
   "source": [
    "# Alternative to printing all characters in a string\n",
    "print(string[::])"
   ]
  },
  {
   "cell_type": "markdown",
   "id": "63ff2e08-5ac3-40c9-b08d-8ef4d6d46628",
   "metadata": {},
   "source": [
    "### Splitting a string\n",
    "\n",
    "Sometimes splitting a string is a handy option because it is one of the easiest ways to convert a string into a list. I know I have not spoken about the list but keep in mind that split converts a string into a list. You can find the material on Python Lists that is written which can provide enough idea to master python lists [Python Lists](https://towardsdatascience.com/python-lists-from-scratch-4b958eb956fc)"
   ]
  },
  {
   "cell_type": "code",
   "execution_count": 16,
   "id": "dfe72d64-64c7-4c38-965b-cc7a810efbb1",
   "metadata": {},
   "outputs": [
    {
     "data": {
      "text/plain": [
       "'Computer Programming'"
      ]
     },
     "execution_count": 16,
     "metadata": {},
     "output_type": "execute_result"
    }
   ],
   "source": [
    "String = \"Computer Programming\"\n",
    "String"
   ]
  },
  {
   "cell_type": "code",
   "execution_count": 17,
   "id": "392a2c73-7b7a-42c4-b9da-d46c00166ffd",
   "metadata": {},
   "outputs": [
    {
     "data": {
      "text/plain": [
       "str"
      ]
     },
     "execution_count": 17,
     "metadata": {},
     "output_type": "execute_result"
    }
   ],
   "source": [
    "type(String)"
   ]
  },
  {
   "cell_type": "code",
   "execution_count": 18,
   "id": "d3e4909b-a062-43d9-b406-3a96546ca2f2",
   "metadata": {},
   "outputs": [
    {
     "name": "stdout",
     "output_type": "stream",
     "text": [
      "['Computer', 'Programming']\n"
     ]
    }
   ],
   "source": [
    "# convert the String into a List\n",
    "list_a = String.split()\n",
    "print(list_a)"
   ]
  },
  {
   "cell_type": "code",
   "execution_count": 19,
   "id": "9e565a30-4952-4894-b999-3d6828527e11",
   "metadata": {},
   "outputs": [
    {
     "data": {
      "text/plain": [
       "list"
      ]
     },
     "execution_count": 19,
     "metadata": {},
     "output_type": "execute_result"
    }
   ],
   "source": [
    "type(list_a)"
   ]
  },
  {
   "cell_type": "markdown",
   "id": "76011d14-a43d-48a8-9bbd-cfe62f41e8ca",
   "metadata": {},
   "source": [
    "### Replacing a string\n",
    "The Replace function in python is one of the best function that can be applied to strings. For example, shown below is a string \"Money\" we need to replace the dollar and the comma sign and this can be done as shown below."
   ]
  },
  {
   "cell_type": "code",
   "execution_count": 20,
   "id": "c239db8d-ac03-4c4b-8c50-04b4a4af1b8e",
   "metadata": {},
   "outputs": [
    {
     "name": "stdout",
     "output_type": "stream",
     "text": [
      "$113,678\n",
      "===========================\n",
      "<class 'str'>\n"
     ]
    }
   ],
   "source": [
    "Money = '$113,678'\n",
    "print(Money)\n",
    "print(\"===========================\")\n",
    "print(type(Money))"
   ]
  },
  {
   "cell_type": "code",
   "execution_count": 21,
   "id": "6435ae2a-8164-4537-8d8c-bcbbba835bc0",
   "metadata": {},
   "outputs": [
    {
     "data": {
      "text/plain": [
       "'113,678'"
      ]
     },
     "execution_count": 21,
     "metadata": {},
     "output_type": "execute_result"
    }
   ],
   "source": [
    "# remove the dollar sign\n",
    "Money = Money.replace('$', '')\n",
    "Money"
   ]
  },
  {
   "cell_type": "code",
   "execution_count": 22,
   "id": "16110ea9-c941-4223-a75f-5a800917c985",
   "metadata": {},
   "outputs": [
    {
     "data": {
      "text/plain": [
       "'113678'"
      ]
     },
     "execution_count": 22,
     "metadata": {},
     "output_type": "execute_result"
    }
   ],
   "source": [
    "# remove the comma\n",
    "Money = Money.replace(',', '')\n",
    "Money"
   ]
  },
  {
   "cell_type": "code",
   "execution_count": 23,
   "id": "d00f483e-b9ec-434e-af18-df42055d03b6",
   "metadata": {},
   "outputs": [
    {
     "name": "stdout",
     "output_type": "stream",
     "text": [
      "113678\n",
      "===========================\n",
      "<class 'int'>\n"
     ]
    }
   ],
   "source": [
    "Money = int(Money)\n",
    "print(Money)\n",
    "print(\"===========================\")\n",
    "print(type(Money))"
   ]
  },
  {
   "cell_type": "markdown",
   "id": "79c1495a-69ff-4df3-8c63-299bd6623bd0",
   "metadata": {},
   "source": [
    "### Join\n",
    "The join function is python is used to join the string according to the specified pattern."
   ]
  },
  {
   "cell_type": "code",
   "execution_count": 24,
   "id": "5aee78db-2797-4391-8e8b-4ec345e8b60c",
   "metadata": {},
   "outputs": [
    {
     "data": {
      "text/plain": [
       "'Python Programming is fun'"
      ]
     },
     "execution_count": 24,
     "metadata": {},
     "output_type": "execute_result"
    }
   ],
   "source": [
    "String = \"Python Programming is fun\"\n",
    "String"
   ]
  },
  {
   "cell_type": "code",
   "execution_count": 25,
   "id": "563cb44a-9989-4e34-91d4-6fd33d4c5a0d",
   "metadata": {},
   "outputs": [
    {
     "data": {
      "text/plain": [
       "'P y t h o n   P r o g r a m m i n g   i s   f u n'"
      ]
     },
     "execution_count": 25,
     "metadata": {},
     "output_type": "execute_result"
    }
   ],
   "source": [
    "# apply a space between each letter\n",
    "String = \" \".join(String)\n",
    "String"
   ]
  },
  {
   "cell_type": "code",
   "execution_count": 26,
   "id": "fb5319bd-e747-4d06-80c4-7c46a633cd7b",
   "metadata": {},
   "outputs": [
    {
     "name": "stdout",
     "output_type": "stream",
     "text": [
      "['P', 'y', 't', 'h', 'o', 'n', 'P', 'r', 'o', 'g', 'r', 'a', 'm', 'm', 'i', 'n', 'g', 'i', 's', 'f', 'u', 'n']\n"
     ]
    }
   ],
   "source": [
    "# place into a character list\n",
    "list = String.split()\n",
    "print(list)"
   ]
  },
  {
   "cell_type": "markdown",
   "id": "ffcfda39-d4df-4dee-a04b-9df4bf2a0bb9",
   "metadata": {},
   "source": [
    "### Capitalize\n",
    "The capitalize function capitalizes the first character in the word or a string."
   ]
  },
  {
   "cell_type": "code",
   "execution_count": 27,
   "id": "999fd373-21d7-42bd-8734-86e3eef119d1",
   "metadata": {},
   "outputs": [
    {
     "data": {
      "text/plain": [
       "'programming'"
      ]
     },
     "execution_count": 27,
     "metadata": {},
     "output_type": "execute_result"
    }
   ],
   "source": [
    "string = \"programming\"\n",
    "string"
   ]
  },
  {
   "cell_type": "code",
   "execution_count": 28,
   "id": "6e77005e-2995-41a4-a183-cdaf1add848d",
   "metadata": {},
   "outputs": [
    {
     "data": {
      "text/plain": [
       "'Programming'"
      ]
     },
     "execution_count": 28,
     "metadata": {},
     "output_type": "execute_result"
    }
   ],
   "source": [
    "string = string.capitalize()\n",
    "string"
   ]
  },
  {
   "cell_type": "markdown",
   "id": "e16ed5ee-612b-4671-8213-00f984ed5468",
   "metadata": {},
   "source": [
    "### Center\n",
    "The center method returns a string which is padded with the specified character."
   ]
  },
  {
   "cell_type": "code",
   "execution_count": 29,
   "id": "1989829e-2bde-4d9a-9760-e7d860647d18",
   "metadata": {},
   "outputs": [
    {
     "data": {
      "text/plain": [
       "'python'"
      ]
     },
     "execution_count": 29,
     "metadata": {},
     "output_type": "execute_result"
    }
   ],
   "source": [
    "string = \"python\"\n",
    "string"
   ]
  },
  {
   "cell_type": "code",
   "execution_count": 30,
   "id": "e6410153-6968-440e-8654-c600e92f9234",
   "metadata": {},
   "outputs": [
    {
     "name": "stdout",
     "output_type": "stream",
     "text": [
      "****python****\n"
     ]
    }
   ],
   "source": [
    "print(string.center(14, '*'))"
   ]
  },
  {
   "cell_type": "markdown",
   "id": "3e0d562a-57ea-4a6c-9726-1020cd44438d",
   "metadata": {},
   "source": [
    "### Find\n",
    "The find method returns the index of the given substring position. If the value is not found it returns, -1."
   ]
  },
  {
   "cell_type": "code",
   "execution_count": 31,
   "id": "c304e6fd-c27e-45f0-ada3-465d4149b93f",
   "metadata": {},
   "outputs": [
    {
     "data": {
      "text/plain": [
       "'programming'"
      ]
     },
     "execution_count": 31,
     "metadata": {},
     "output_type": "execute_result"
    }
   ],
   "source": [
    "string = \"programming\"\n",
    "string"
   ]
  },
  {
   "cell_type": "code",
   "execution_count": 32,
   "id": "6f1c48c8-6549-400d-9f42-6803f22267fd",
   "metadata": {},
   "outputs": [
    {
     "name": "stdout",
     "output_type": "stream",
     "text": [
      "3\n"
     ]
    }
   ],
   "source": [
    "print(string.find('g'))"
   ]
  },
  {
   "cell_type": "code",
   "execution_count": 33,
   "id": "2a410330-26fd-4b26-bb2a-4f872f5c7e57",
   "metadata": {},
   "outputs": [
    {
     "name": "stdout",
     "output_type": "stream",
     "text": [
      "-1\n"
     ]
    }
   ],
   "source": [
    "print(string.find('t'))"
   ]
  },
  {
   "cell_type": "markdown",
   "id": "0ecdfe67-4f87-4496-ac40-6b47dbed5dda",
   "metadata": {},
   "source": [
    "### Strip\n",
    "The strip function strips or removes the white spaces both from the starting and the ending of a string."
   ]
  },
  {
   "cell_type": "code",
   "execution_count": 34,
   "id": "cf782f6b-14ed-4576-b5e0-fcd4f180e8b5",
   "metadata": {},
   "outputs": [
    {
     "data": {
      "text/plain": [
       "'     programming is easy    '"
      ]
     },
     "execution_count": 34,
     "metadata": {},
     "output_type": "execute_result"
    }
   ],
   "source": [
    "string = \"     programming is easy    \"\n",
    "string"
   ]
  },
  {
   "cell_type": "code",
   "execution_count": 35,
   "id": "43eda0b5-df7a-43d3-841a-966cf386898e",
   "metadata": {},
   "outputs": [
    {
     "name": "stdout",
     "output_type": "stream",
     "text": [
      "programming is easy\n"
     ]
    }
   ],
   "source": [
    "print(string.strip())"
   ]
  },
  {
   "cell_type": "markdown",
   "id": "63235b78-0823-4c5c-83a9-4b968f4ef871",
   "metadata": {},
   "source": [
    "# List Basics\n",
    "Lists are written within square brackets []\n",
    "[reference](https://towardsdatascience.com/python-basics-6-lists-and-list-manipulation-a56be62b1f95)"
   ]
  },
  {
   "cell_type": "code",
   "execution_count": 36,
   "id": "1ddbbafc-b94e-47f1-b0fa-baa9115f890a",
   "metadata": {},
   "outputs": [
    {
     "data": {
      "text/plain": [
       "list"
      ]
     },
     "execution_count": 36,
     "metadata": {},
     "output_type": "execute_result"
    }
   ],
   "source": [
    "## empty list\n",
    "empty_list = []\n",
    "type(empty_list)"
   ]
  },
  {
   "cell_type": "code",
   "execution_count": 37,
   "id": "da773361-d80f-4eae-b386-c88d9e9bc45b",
   "metadata": {},
   "outputs": [
    {
     "name": "stdout",
     "output_type": "stream",
     "text": [
      "[3, 7, 4, 2]\n"
     ]
    }
   ],
   "source": [
    "# Define a list\n",
    "z = [3, 7, 4, 2]\n",
    "print(z)"
   ]
  },
  {
   "cell_type": "markdown",
   "id": "e1a0cca1-df7e-42be-8c34-8f82f6c5a59d",
   "metadata": {},
   "source": [
    "Lists store an ordered collection of items which can be of different types. The list defined above has items that are all of the same type (int), but all the items of a list do not need to be of the same type as you can see below."
   ]
  },
  {
   "cell_type": "code",
   "execution_count": 38,
   "id": "bc3630ae-7fd4-4720-afe1-0c5880277a66",
   "metadata": {},
   "outputs": [],
   "source": [
    "# Define a list heterogenous elements\n",
    "heterogenousElements = [3, True, 'Michael', 2.0]"
   ]
  },
  {
   "cell_type": "markdown",
   "id": "1e5527e5-df19-4e21-b02b-97b33f3dec1c",
   "metadata": {},
   "source": [
    "The list contains an int, a bool, a string, and a float.\n",
    "\n",
    "### Access Values in a List\n",
    "Each item in a list has an assigned index value. It is important to note that python is a zero indexed based language. All this means is that the first item in the list is at index 0."
   ]
  },
  {
   "cell_type": "code",
   "execution_count": 39,
   "id": "5c598bcc-5f69-4708-9ecb-ab0e3bb72aa1",
   "metadata": {},
   "outputs": [
    {
     "name": "stdout",
     "output_type": "stream",
     "text": [
      "Michael\n"
     ]
    }
   ],
   "source": [
    "# Access the first item of a list at index 0\n",
    "print(heterogenousElements[2])"
   ]
  },
  {
   "cell_type": "markdown",
   "id": "d2957266-c51f-4474-ac66-2f77985116f9",
   "metadata": {},
   "source": [
    "Python also supports negative indexing. Negative indexing starts from the end. It can be more convienient at times to use negative indexing to get the last item in the list because you don’t have to know the length of the list to access the last item."
   ]
  },
  {
   "cell_type": "code",
   "execution_count": 40,
   "id": "128d0298-7297-494b-86d4-2f8b6973cf69",
   "metadata": {},
   "outputs": [
    {
     "name": "stdout",
     "output_type": "stream",
     "text": [
      "Michael\n"
     ]
    }
   ],
   "source": [
    "# print last item in the list\n",
    "print(heterogenousElements[-2])"
   ]
  },
  {
   "cell_type": "markdown",
   "id": "66856438-185f-4fce-930b-cc3574b702d1",
   "metadata": {},
   "source": [
    "### Slice of Lists\n",
    "Slices are good for getting a subset of values in your list. For the example code below, it will return a list with the items from index 0 up to and not including index 2."
   ]
  },
  {
   "cell_type": "code",
   "execution_count": 41,
   "id": "6f8a665d-a842-4d85-9d9a-f8c5c5e550a4",
   "metadata": {},
   "outputs": [
    {
     "name": "stdout",
     "output_type": "stream",
     "text": [
      "[3, 7]\n"
     ]
    }
   ],
   "source": [
    "# Define a list\n",
    "z = [3, 7, 4, 2]\n",
    "print(z[0:2])"
   ]
  },
  {
   "cell_type": "code",
   "execution_count": 42,
   "id": "536c0c71-2e93-4bae-9ee8-aa8515556315",
   "metadata": {},
   "outputs": [
    {
     "name": "stdout",
     "output_type": "stream",
     "text": [
      "[3, 7, 4]\n"
     ]
    }
   ],
   "source": [
    "# everything up to but not including index 3\n",
    "print(z[:3])"
   ]
  },
  {
   "cell_type": "code",
   "execution_count": 43,
   "id": "39895c1e-317d-49c5-a3ad-9c42bdcd1ce1",
   "metadata": {},
   "outputs": [
    {
     "name": "stdout",
     "output_type": "stream",
     "text": [
      "[7, 4, 2]\n"
     ]
    }
   ],
   "source": [
    "# index 1 to end of list\n",
    "print(z[1:])"
   ]
  },
  {
   "cell_type": "markdown",
   "id": "93dca20e-500c-464b-9629-166c2c9f8e0c",
   "metadata": {},
   "source": [
    "Lists in Python are mutable. All that means is that after defining a list, it is possible to update the individual items in a list."
   ]
  },
  {
   "cell_type": "code",
   "execution_count": 44,
   "id": "2fec823c-c398-4f17-8655-27aa13dda241",
   "metadata": {},
   "outputs": [
    {
     "name": "stdout",
     "output_type": "stream",
     "text": [
      "[3, 'fish', 4, 2]\n"
     ]
    }
   ],
   "source": [
    "# Update the item at index 1 with the string \"fish\"\n",
    "z[1] = \"fish\"\n",
    "print(z)"
   ]
  },
  {
   "cell_type": "markdown",
   "id": "f458fcbc-c3a9-4c94-b165-262ed43268e7",
   "metadata": {},
   "source": [
    "### List Methods\n",
    "Python lists have different methods that help you modify a list. This section of the tutorial just goes over various python list methods.\n",
    "\n",
    "### Index Method"
   ]
  },
  {
   "cell_type": "code",
   "execution_count": 45,
   "id": "355ed5d0-5616-42dc-a707-860a6563c0a8",
   "metadata": {},
   "outputs": [],
   "source": [
    "# Define a list\n",
    "z = [4, 1, 5, 4, 10, 4]"
   ]
  },
  {
   "cell_type": "markdown",
   "id": "fb3bfe77-5b2e-49e3-80cf-54ee7f78d597",
   "metadata": {},
   "source": [
    "The index method returns the first index at which a value occurs. In the code below, it will return 0."
   ]
  },
  {
   "cell_type": "code",
   "execution_count": 46,
   "id": "9b75a5ad-9da1-4dc1-a7b9-848b8733b59e",
   "metadata": {},
   "outputs": [
    {
     "name": "stdout",
     "output_type": "stream",
     "text": [
      "2\n"
     ]
    }
   ],
   "source": [
    "print(z.index(5))"
   ]
  },
  {
   "cell_type": "markdown",
   "id": "6d7d2656-27d1-4232-ba0e-197b640d0234",
   "metadata": {},
   "source": [
    "You can also specify where you start your search."
   ]
  },
  {
   "cell_type": "code",
   "execution_count": 47,
   "id": "e600bb83-4b8f-4ced-87ce-1bbae95fd156",
   "metadata": {},
   "outputs": [
    {
     "name": "stdout",
     "output_type": "stream",
     "text": [
      "3\n"
     ]
    }
   ],
   "source": [
    "print(z.index(4, 3))"
   ]
  },
  {
   "cell_type": "markdown",
   "id": "fc785c5d-a450-4d33-aa2b-39dd2c9524a6",
   "metadata": {},
   "source": [
    "### Count Method\n",
    "The count method works just like how it sounds. It counts the number of times a value occurs in a list"
   ]
  },
  {
   "cell_type": "code",
   "execution_count": 48,
   "id": "db200ade-2979-456e-81a6-bb0f271dfea5",
   "metadata": {},
   "outputs": [
    {
     "data": {
      "text/plain": [
       "3"
      ]
     },
     "execution_count": 48,
     "metadata": {},
     "output_type": "execute_result"
    }
   ],
   "source": [
    "random_list = [4, 1, 5, 4, 10, 4]\n",
    "random_list.count(4)"
   ]
  },
  {
   "cell_type": "markdown",
   "id": "847ad579-0470-4e55-85a2-84dc314f1778",
   "metadata": {},
   "source": [
    "### Sort Method\n",
    "The sort method sorts and alters the original list in place."
   ]
  },
  {
   "cell_type": "code",
   "execution_count": 49,
   "id": "48e4c52a-afcd-4fac-8ace-26417143e1a0",
   "metadata": {},
   "outputs": [
    {
     "name": "stdout",
     "output_type": "stream",
     "text": [
      "[2, 3, 4, 7]\n"
     ]
    }
   ],
   "source": [
    "z = [3, 7, 4, 2]\n",
    "z.sort()\n",
    "print(z)"
   ]
  },
  {
   "cell_type": "markdown",
   "id": "5188c009-9a1e-4f92-9b77-b2c4528ab65d",
   "metadata": {},
   "source": [
    "The code above sorts a list from low to high. The code below shows that you can also sort a list from high to low."
   ]
  },
  {
   "cell_type": "code",
   "execution_count": 50,
   "id": "e0de7560-a23d-4055-a7dd-cb2360937a68",
   "metadata": {},
   "outputs": [
    {
     "name": "stdout",
     "output_type": "stream",
     "text": [
      "[7, 4, 3, 2]\n"
     ]
    }
   ],
   "source": [
    "# Sorting and Altering original list\n",
    "# high to low\n",
    "z.sort(reverse = True)\n",
    "print(z)"
   ]
  },
  {
   "cell_type": "markdown",
   "id": "527e3cff-9eaa-49c3-b011-4b12010e73b4",
   "metadata": {},
   "source": [
    "As an aside, I should mention that you can also sort a list of strings from a-z and z-a "
   ]
  },
  {
   "cell_type": "code",
   "execution_count": 51,
   "id": "c381a753-08bb-4134-afa5-1c07c8fc5378",
   "metadata": {},
   "outputs": [],
   "source": [
    "x = [\"Joe\", \"Jake\", \"Janie\", \"Frank\", \"Lucy\"]"
   ]
  },
  {
   "cell_type": "code",
   "execution_count": 52,
   "id": "9e1d10cd-95a1-4ef7-824a-d8e8cf9d825f",
   "metadata": {},
   "outputs": [
    {
     "name": "stdout",
     "output_type": "stream",
     "text": [
      "['Frank', 'Jake', 'Janie', 'Joe', 'Lucy']\n"
     ]
    }
   ],
   "source": [
    "x.sort()\n",
    "print(x)"
   ]
  },
  {
   "cell_type": "code",
   "execution_count": 53,
   "id": "4880633f-0311-459c-98a6-67cf0802e55b",
   "metadata": {},
   "outputs": [
    {
     "name": "stdout",
     "output_type": "stream",
     "text": [
      "['Lucy', 'Joe', 'Janie', 'Jake', 'Frank']\n"
     ]
    }
   ],
   "source": [
    "x.sort(reverse = True)\n",
    "print(x)"
   ]
  },
  {
   "cell_type": "markdown",
   "id": "e52430f7-bb45-4802-8d3a-77fdebba29f0",
   "metadata": {},
   "source": [
    "### Append Method\n",
    "The append method adds an element to the end of a list. This happens inplace."
   ]
  },
  {
   "cell_type": "code",
   "execution_count": 54,
   "id": "3f0074a6-2f69-49f4-bfc2-bfdfee567506",
   "metadata": {},
   "outputs": [
    {
     "name": "stdout",
     "output_type": "stream",
     "text": [
      "[7, 4, 3, 2, 3]\n"
     ]
    }
   ],
   "source": [
    "z = [7, 4, 3, 2]\n",
    "z.append(3)\n",
    "print(z)"
   ]
  },
  {
   "cell_type": "markdown",
   "id": "9a3cfcbe-09f8-468c-9c45-661b5af2f07d",
   "metadata": {},
   "source": [
    "### Remove Method\n",
    "The remove method removes the first occurrence of a value in a list."
   ]
  },
  {
   "cell_type": "code",
   "execution_count": 55,
   "id": "3d963fdb-632e-4856-86f5-9d991c502b3a",
   "metadata": {},
   "outputs": [
    {
     "name": "stdout",
     "output_type": "stream",
     "text": [
      "[7, 4, 3, 3]\n"
     ]
    }
   ],
   "source": [
    "z = [7, 4, 3, 2, 3]\n",
    "z.remove(2)\n",
    "print(z)"
   ]
  },
  {
   "cell_type": "markdown",
   "id": "9950aeb2-0f5c-49d7-9d27-ad67e9f7fead",
   "metadata": {},
   "source": [
    "### Pop Method\n",
    "The pop method removes an item at the index you provide. This method will also return the item you removed from the list. If you don’t provide an index, it will by default remove the item at the last index."
   ]
  },
  {
   "cell_type": "code",
   "execution_count": 56,
   "id": "46017a12-502f-418d-ba4b-eb56d0434d0c",
   "metadata": {},
   "outputs": [
    {
     "name": "stdout",
     "output_type": "stream",
     "text": [
      "7\n",
      "[4, 3, 3]\n"
     ]
    }
   ],
   "source": [
    "z = [7, 4, 3, 3]\n",
    "print(z.pop(0))\n",
    "print(z)"
   ]
  },
  {
   "cell_type": "markdown",
   "id": "1f7b110a-afbd-4575-b294-02ff5090f947",
   "metadata": {},
   "source": [
    "### Extend Method\n",
    "The method extends a list by appending items. The benefit of this is you can add lists together."
   ]
  },
  {
   "cell_type": "code",
   "execution_count": 57,
   "id": "4673d3ed-ded0-4151-9a76-579ea7500cab",
   "metadata": {},
   "outputs": [
    {
     "name": "stdout",
     "output_type": "stream",
     "text": [
      "[7, 3, 3, 4, 5]\n"
     ]
    }
   ],
   "source": [
    "z = [7, 3, 3]\n",
    "z.extend([4,5])\n",
    "print(z)"
   ]
  },
  {
   "cell_type": "markdown",
   "id": "cb48cda4-fda2-4e64-ba5e-e2c5b3437d13",
   "metadata": {},
   "source": [
    "Alternatively, the same thing could be accomplished by using the + operator."
   ]
  },
  {
   "cell_type": "code",
   "execution_count": 58,
   "id": "d4ce263d-d7b6-49c6-bf0b-4ee695453d12",
   "metadata": {},
   "outputs": [
    {
     "name": "stdout",
     "output_type": "stream",
     "text": [
      "[1, 2, 3, 4]\n"
     ]
    }
   ],
   "source": [
    "print([1,2]+ [3,4])"
   ]
  },
  {
   "cell_type": "markdown",
   "id": "a36602cf-4eba-4dcc-93dc-a82b1020b95b",
   "metadata": {},
   "source": [
    "### Insert Method\n",
    "The insert method inserts an item before the index you provide"
   ]
  },
  {
   "cell_type": "code",
   "execution_count": 59,
   "id": "b195feff-89ff-47bc-b1d6-82c7b9e36462",
   "metadata": {},
   "outputs": [
    {
     "name": "stdout",
     "output_type": "stream",
     "text": [
      "[7, 3, 3, 4, 5, [1, 2]]\n"
     ]
    }
   ],
   "source": [
    "z = [7, 3, 3, 4, 5]\n",
    "z.insert(5, [1, 2])\n",
    "print(z)"
   ]
  },
  {
   "cell_type": "markdown",
   "id": "22af8025-cf2f-45a1-b5a4-196cfe51baad",
   "metadata": {},
   "source": [
    "# Python Tuples and Tuple Methods\n",
    "Tuples are an ordered sequences of items, just like lists. The main difference between tuples and lists is that tuples cannot be changed (immutable) unlike lists which can (mutable).Tuples\n",
    "[reference](https://medium.com/@GalarnykMichael/python-basics-9-tuples-tuple-manipulation-and-the-fibonacci-sequence-2d0da4e2d326)"
   ]
  },
  {
   "cell_type": "markdown",
   "id": "bad192d6-d468-4bf0-89a6-4008c1a2fd79",
   "metadata": {},
   "source": [
    "### Initialize a Tuple\n",
    "There are two ways to initialize an empty tuple. You can initialize an empty tuple by having () with no values in them."
   ]
  },
  {
   "cell_type": "code",
   "execution_count": 60,
   "id": "fe724a24-ba1c-4e1a-9534-f92ca397be43",
   "metadata": {},
   "outputs": [
    {
     "data": {
      "text/plain": [
       "tuple"
      ]
     },
     "execution_count": 60,
     "metadata": {},
     "output_type": "execute_result"
    }
   ],
   "source": [
    "## empty tuple Way 1\n",
    "empty_tuple = ()\n",
    "type(empty_tuple)"
   ]
  },
  {
   "cell_type": "code",
   "execution_count": 61,
   "id": "848febc3-b343-41fc-8100-26cc6db19aba",
   "metadata": {},
   "outputs": [
    {
     "data": {
      "text/plain": [
       "tuple"
      ]
     },
     "execution_count": 61,
     "metadata": {},
     "output_type": "execute_result"
    }
   ],
   "source": [
    "# Way 2\n",
    "emptyTuple = tuple()\n",
    "type(emptyTuple)"
   ]
  },
  {
   "cell_type": "markdown",
   "id": "d68d3c04-45cd-4e9d-ad9c-e747d97c1506",
   "metadata": {},
   "source": [
    "A tuple with values can be initialized by making a sequence of values separated by commas."
   ]
  },
  {
   "cell_type": "code",
   "execution_count": 62,
   "id": "e8cdb613-b687-49d3-8eb1-fa413b75307d",
   "metadata": {},
   "outputs": [],
   "source": [
    "# way 1\n",
    "z = (3, 7, 4, 2)\n",
    "# way 2 (tuples can also can be created without parenthesis)\n",
    "z = 3, 7, 4, 2"
   ]
  },
  {
   "cell_type": "markdown",
   "id": "919da2d7-0724-487e-ae3f-f055238d1f75",
   "metadata": {},
   "source": [
    "It is important to keep in mind that if you want to create a tuple containing only one value, you need a trailing comma after your item."
   ]
  },
  {
   "cell_type": "code",
   "execution_count": 63,
   "id": "74358ac7-f178-41fb-ad2e-c5ad38ba4118",
   "metadata": {},
   "outputs": [],
   "source": [
    "# tuple with one value\n",
    "tup1 = ('Michael',)\n",
    "# tuple with one value\n",
    "tup2 = 'Michael', \n",
    "# This is a string, NOT a tuple.\n",
    "notTuple = ('Michael')"
   ]
  },
  {
   "cell_type": "markdown",
   "id": "2f3ebd86-1af9-442f-835f-535ff8f0c9c7",
   "metadata": {},
   "source": [
    "### Accessing Values in Tuples\n",
    "Each value in a tuple has an assigned index value. It is important to note that python is a zero indexed based language. All this means is that the first value in the tuple is at index 0."
   ]
  },
  {
   "cell_type": "code",
   "execution_count": 64,
   "id": "46e21706-cdf2-40f6-bddd-ad2021131e8f",
   "metadata": {},
   "outputs": [
    {
     "name": "stdout",
     "output_type": "stream",
     "text": [
      "3\n"
     ]
    }
   ],
   "source": [
    "# Initialize a tuple\n",
    "z = (3, 7, 4, 2)\n",
    "# Access the first item of a tuple at index 0\n",
    "print(z[0])"
   ]
  },
  {
   "cell_type": "markdown",
   "id": "72ed768c-85ae-416c-9f09-ae7426ff0c68",
   "metadata": {},
   "source": [
    "Python also supports negative indexing. Negative indexing starts from the end of the tuple. It can sometimes be more convenient to use negative indexing to get the last item in a tuple because you don’t have to know the length of a tuple to access the last item."
   ]
  },
  {
   "cell_type": "code",
   "execution_count": 65,
   "id": "8a5d33c7-9d07-44fb-9f85-1a74aaecf3a9",
   "metadata": {},
   "outputs": [
    {
     "name": "stdout",
     "output_type": "stream",
     "text": [
      "2\n"
     ]
    }
   ],
   "source": [
    "# print last item in the tuple\n",
    "print(z[-1])"
   ]
  },
  {
   "cell_type": "markdown",
   "id": "bb6d939b-533a-43cf-a262-e6f1bff673e1",
   "metadata": {},
   "source": [
    "As a reminder, you could also access the same item using positive indexes (as seen below)."
   ]
  },
  {
   "cell_type": "code",
   "execution_count": 66,
   "id": "ed9421b6-116e-4f06-ae63-4700d58fd1b0",
   "metadata": {},
   "outputs": [
    {
     "name": "stdout",
     "output_type": "stream",
     "text": [
      "2\n"
     ]
    }
   ],
   "source": [
    "print(z[3])"
   ]
  },
  {
   "cell_type": "markdown",
   "id": "b370e84b-0e5b-4e44-9c3a-ad40f451c2c5",
   "metadata": {},
   "source": [
    "### Tuple slices\n",
    "Slice operations return a new tuple containing the requested items. Slices are good for getting a subset of values in your tuple. For the example code below, it will return a tuple with the items from index 0 up to and not including index 2."
   ]
  },
  {
   "cell_type": "code",
   "execution_count": 67,
   "id": "bf84778c-1acf-4745-b106-4b7bb9c40c3a",
   "metadata": {},
   "outputs": [
    {
     "name": "stdout",
     "output_type": "stream",
     "text": [
      "(3, 7)\n"
     ]
    }
   ],
   "source": [
    "# Initialize a tuple\n",
    "z = (3, 7, 4, 2)\n",
    "# first index is inclusive (before the :) and last (after the :) is not.\n",
    "print(z[0:2])"
   ]
  },
  {
   "cell_type": "code",
   "execution_count": 68,
   "id": "0e454bcc-94fa-4e74-a272-3073ff5f8049",
   "metadata": {},
   "outputs": [
    {
     "name": "stdout",
     "output_type": "stream",
     "text": [
      "(3, 7, 4)\n"
     ]
    }
   ],
   "source": [
    "# everything up to but not including index 3\n",
    "print(z[:3])"
   ]
  },
  {
   "cell_type": "markdown",
   "id": "5ba0cd05-d7e8-4562-8b5a-e51fb4213528",
   "metadata": {},
   "source": [
    "You can even make slices with negative indexes."
   ]
  },
  {
   "cell_type": "code",
   "execution_count": 69,
   "id": "aec09809-e852-47ec-b8e7-0641d231f8fb",
   "metadata": {},
   "outputs": [
    {
     "name": "stdout",
     "output_type": "stream",
     "text": [
      "(3, 7, 4)\n"
     ]
    }
   ],
   "source": [
    "print(z[-4:-1])"
   ]
  },
  {
   "cell_type": "markdown",
   "id": "76f8d915-95d1-43a6-a2a4-8aa40107d4bb",
   "metadata": {},
   "source": [
    "### Tuples are Immutable\n",
    "Tuples are immutable which means that after initializing a tuple, it is impossible to update individual items in a tuple. As you can see in the code below, you cannot update or change the values of tuple items (this is different from Python Lists which are mutable)."
   ]
  },
  {
   "cell_type": "code",
   "execution_count": 70,
   "id": "5bb28d73-928e-4f76-a37d-e1f968d44f90",
   "metadata": {},
   "outputs": [
    {
     "ename": "TypeError",
     "evalue": "'tuple' object does not support item assignment",
     "output_type": "error",
     "traceback": [
      "\u001b[0;31m---------------------------------------------------------------------------\u001b[0m",
      "\u001b[0;31mTypeError\u001b[0m                                 Traceback (most recent call last)",
      "Input \u001b[0;32mIn [70]\u001b[0m, in \u001b[0;36m<module>\u001b[0;34m\u001b[0m\n\u001b[1;32m      1\u001b[0m \u001b[38;5;66;03m# TypeError: 'tuple' object does not support item assignment\u001b[39;00m\n\u001b[1;32m      2\u001b[0m z \u001b[38;5;241m=\u001b[39m (\u001b[38;5;241m3\u001b[39m, \u001b[38;5;241m7\u001b[39m, \u001b[38;5;241m4\u001b[39m, \u001b[38;5;241m2\u001b[39m)\n\u001b[0;32m----> 3\u001b[0m z[\u001b[38;5;241m1\u001b[39m] \u001b[38;5;241m=\u001b[39m \u001b[38;5;124m\"\u001b[39m\u001b[38;5;124mfish\u001b[39m\u001b[38;5;124m\"\u001b[39m\n",
      "\u001b[0;31mTypeError\u001b[0m: 'tuple' object does not support item assignment"
     ]
    }
   ],
   "source": [
    "# TypeError: 'tuple' object does not support item assignment\n",
    "z = (3, 7, 4, 2)\n",
    "z[1] = \"fish\""
   ]
  },
  {
   "cell_type": "markdown",
   "id": "83555d5c-6203-4976-ac39-4257b19ef8c6",
   "metadata": {},
   "source": [
    "Even though tuples are immutable, it is possible to take portions of existing tuples to create new tuples as the following example demonstrates."
   ]
  },
  {
   "cell_type": "code",
   "execution_count": null,
   "id": "418c02df-5c66-403d-8c23-a9fa64d20f69",
   "metadata": {},
   "outputs": [],
   "source": [
    "# Initialize tuple\n",
    "tup1 = ('Python', 'SQL')\n",
    "# Initialize another Tuple\n",
    "tup2 = ('R',)\n",
    "# Create new tuple based on existing tuples\n",
    "new_tuple = tup1 + tup2;\n",
    "print(new_tuple)"
   ]
  },
  {
   "cell_type": "markdown",
   "id": "3524e9cb-ed8d-4001-b0e9-32755c4045dc",
   "metadata": {},
   "source": [
    "### Tuple Methods\n",
    "let’s first initialize a tuple."
   ]
  },
  {
   "cell_type": "code",
   "execution_count": null,
   "id": "da0800c3-3ea4-4105-a942-e463f93a8c99",
   "metadata": {},
   "outputs": [],
   "source": [
    "# Initialize a tuple\n",
    "animals = ('lama', 'sheep', 'lama', 'alpaca', 'alpaca', 'kitty', 'doggy')"
   ]
  },
  {
   "cell_type": "markdown",
   "id": "ec9cba9c-8496-42ff-96a5-4423c0f89e22",
   "metadata": {},
   "source": [
    "### index method\n",
    "The index method returns the first index at which a value occurs."
   ]
  },
  {
   "cell_type": "code",
   "execution_count": null,
   "id": "cbe232df-7de4-42e2-b3a8-21035bcb6b7a",
   "metadata": {},
   "outputs": [],
   "source": [
    "print(animals.index('lama'))"
   ]
  },
  {
   "cell_type": "markdown",
   "id": "a862ee8a-ecf4-4304-8a8f-da2644ededa6",
   "metadata": {},
   "source": [
    "### count method\n",
    "The count method returns the number of times a value occurs in a tuple."
   ]
  },
  {
   "cell_type": "code",
   "execution_count": null,
   "id": "b674b390-a82a-4e8c-8d62-34269b57aa20",
   "metadata": {},
   "outputs": [],
   "source": [
    "print(animals.count('lama'))"
   ]
  },
  {
   "cell_type": "markdown",
   "id": "9cc54994-61ea-493a-839d-3fb3d65848a0",
   "metadata": {},
   "source": [
    "### Iterate through a Tuple\n",
    "You can iterate through the items of a tuple by using a for loop."
   ]
  },
  {
   "cell_type": "code",
   "execution_count": null,
   "id": "1c4a0a4e-29dc-464e-84b0-f6e1cc3f6c70",
   "metadata": {},
   "outputs": [],
   "source": [
    "for item in animals:\n",
    "   print(item)"
   ]
  },
  {
   "cell_type": "markdown",
   "id": "acaa5b97-7789-40af-aa1e-f7f4a6c7fb9c",
   "metadata": {},
   "source": [
    "### Tuple Unpacking\n",
    "Tuples are useful for sequence unpacking."
   ]
  },
  {
   "cell_type": "code",
   "execution_count": null,
   "id": "660c7e84-dd43-45cd-ae67-50ee0888f37d",
   "metadata": {},
   "outputs": [],
   "source": [
    "x, y = (7, 10);\n",
    "print(\"Value of x is {}, the value of y is {}.\".format(x, y))"
   ]
  },
  {
   "cell_type": "markdown",
   "id": "dbd30996-f0ec-4f36-8a7b-382dd03c6129",
   "metadata": {},
   "source": [
    "### Enumerate\n",
    "The enumerate function returns a tuple containing a count for every iteration (from start which defaults to 0) and the values obtained from iterating over a sequence:"
   ]
  },
  {
   "cell_type": "code",
   "execution_count": null,
   "id": "a8d9f32c-0445-45d9-9712-8595cb2d99f1",
   "metadata": {},
   "outputs": [],
   "source": [
    "for index, friend in enumerate(animals):\n",
    "    print(index,friend)"
   ]
  },
  {
   "cell_type": "markdown",
   "id": "83fbc933-970d-468f-97b1-a657b7df940f",
   "metadata": {},
   "source": [
    "Lists and tuples are standard Python data types that store values in a sequence. A tuple is immutable whereas a list is mutable. Here are some other advantages of tuples over lists (partially from [Stack Overflow](https://stackoverflow.com/questions/1708510/python-list-vs-tuple-when-to-use-each))"
   ]
  },
  {
   "cell_type": "markdown",
   "id": "80cce335-7b6e-4a51-b622-080759fe5789",
   "metadata": {},
   "source": [
    "Tuples are faster than lists. If you’re defining a constant set of values and all you’re ever going to do with it is iterate through it, use a tuple instead of a list. The performance difference can be partially measured using the timeit library which allows you to time your Python code. The code below runs the code for each approach 1 million times and outputs the overall time it took in seconds."
   ]
  },
  {
   "cell_type": "code",
   "execution_count": null,
   "id": "a7bafd04-ae4d-4ce9-bb9c-d895d2f5b846",
   "metadata": {},
   "outputs": [],
   "source": [
    "import timeit \n",
    "print(timeit.timeit('x=(1,2,3,4,5,6,7,8,9,10,11,12)', number=1000000)) #tuple\n",
    "print(timeit.timeit('x=[1,2,3,4,5,6,7,8,9,10,11,12]', number=1000000)) #list"
   ]
  },
  {
   "cell_type": "markdown",
   "id": "695531ee-20b1-41d5-8f46-0e90e508be5a",
   "metadata": {},
   "source": [
    "Some tuples can be used as dictionary keys (specifically, tuples that contain immutable values like strings, numbers, and other tuples). Lists can never be used as dictionary keys, because lists are not immutable.\n",
    "\n",
    "Tuples can be used as values in sets whereas lists can not."
   ]
  },
  {
   "cell_type": "markdown",
   "id": "466a0e0d-76f4-4188-be0d-a27ae71c645b",
   "metadata": {},
   "source": [
    "# Set Basics"
   ]
  },
  {
   "cell_type": "code",
   "execution_count": null,
   "id": "999a0893-705c-47f3-a029-31d822023136",
   "metadata": {},
   "outputs": [],
   "source": [
    "## empty set\n",
    "empty_set = set()\n",
    "type(empty_set)"
   ]
  },
  {
   "cell_type": "markdown",
   "id": "c7526626-eb55-4818-941a-c1769962bb5a",
   "metadata": {},
   "source": [
    "### Creating a Set:\n",
    "[reference](https://levelup.gitconnected.com/python-sets-basics-and-usecases-af1fbe8906f4)\n",
    "In python, a comma-separated list of items enclosed within curly braces represents a set.\n",
    "\n",
    "[Set theory reference](https://towardsdatascience.com/python-sets-and-set-theory-2ace093d1607)"
   ]
  },
  {
   "cell_type": "code",
   "execution_count": null,
   "id": "1c6d5b74-b288-4cd0-932e-065264fb3395",
   "metadata": {},
   "outputs": [],
   "source": [
    "set_of_numbers = {1,2,3,4,5}\n",
    "mixed_set = {'a',1,2,'c','d'}"
   ]
  },
  {
   "cell_type": "markdown",
   "id": "15da2163-233c-4663-b8a8-453db36f14b3",
   "metadata": {},
   "source": [
    "Defining an empty set is a bit tricky as in python empty curly braces {}are used to define a dictionary. So to define a set we use set() function. This function can also be used to create a set from a list."
   ]
  },
  {
   "cell_type": "code",
   "execution_count": null,
   "id": "e54d3c1b-88bc-49cf-9346-87d23176462f",
   "metadata": {},
   "outputs": [],
   "source": [
    "empty_set = set()\n",
    "set_from_list = set([1,2,3,4])"
   ]
  },
  {
   "cell_type": "markdown",
   "id": "31b148ce-7f37-4d63-a431-73846242e4d4",
   "metadata": {},
   "source": [
    "### Adding Elements to a Set:\n",
    "\n",
    "add() and update() methods are used to add single or multiple elements to a set respectively. Update method takes strings as well as iterables like lists, tuples, sets as an input."
   ]
  },
  {
   "cell_type": "code",
   "execution_count": null,
   "id": "6e5ed612-e0af-46ac-b74c-feaf8a51101e",
   "metadata": {},
   "outputs": [],
   "source": [
    "demo_set = set()\n",
    "print(demo_set)\n",
    "\n"
   ]
  },
  {
   "cell_type": "code",
   "execution_count": null,
   "id": "ebcd6112-ef37-4018-a067-e49e0b6d7f06",
   "metadata": {},
   "outputs": [],
   "source": [
    "demo_set.add(2)\n",
    "print(demo_set)\n"
   ]
  },
  {
   "cell_type": "code",
   "execution_count": null,
   "id": "8f2cfc66-8d13-4689-8394-99d2f9b6c285",
   "metadata": {},
   "outputs": [],
   "source": [
    "demo_set.update([2,4,5])\n",
    "print(demo_set)\n"
   ]
  },
  {
   "cell_type": "code",
   "execution_count": null,
   "id": "ff1bbb5c-0812-401e-93c7-451a5ec4a4c4",
   "metadata": {},
   "outputs": [],
   "source": [
    "demo_set.update((1,3))\n",
    "print(demo_set)"
   ]
  },
  {
   "cell_type": "markdown",
   "id": "5904481b-5585-49d3-8208-755e29b0e094",
   "metadata": {},
   "source": [
    "### Removing Elements from a Set:\n",
    "\n",
    "discard() and remove() methods can be used to remove elements. The only difference between these two is remove method will raise an error if the element to be removed is not present in the set."
   ]
  },
  {
   "cell_type": "code",
   "execution_count": null,
   "id": "3400f2f1-0d2d-40e8-81f7-fbe1a1c5b844",
   "metadata": {},
   "outputs": [],
   "source": [
    "demo_set = {1,2,3,4,5}\n",
    "demo_set.remove(2)\n",
    "demo_set.discard(3)\n",
    "print(demo_set)"
   ]
  },
  {
   "cell_type": "markdown",
   "id": "8d246693-13ff-4171-a99f-f38813adba7a",
   "metadata": {},
   "source": [
    "Similarly, there is a method called pop() which will randomly remove an element from the set. And clear() method can be used to clear all the elements of a set making it an empty set."
   ]
  },
  {
   "cell_type": "markdown",
   "id": "c918672b-1b1c-43c8-ae9f-a1005de70dd0",
   "metadata": {},
   "source": [
    "### Accessing Elements from a Set:\n",
    "\n",
    "To check whether an element is present in a set we can use the following syntax which will return either true or false."
   ]
  },
  {
   "cell_type": "code",
   "execution_count": null,
   "id": "d9505027-969f-45d0-85b6-793c16524031",
   "metadata": {},
   "outputs": [],
   "source": [
    "demo_set = {1,2,3,4,5}\n",
    "print(2 in demo_set)\n",
    "print('a' in demo_set)"
   ]
  },
  {
   "cell_type": "markdown",
   "id": "8692ab5d-384d-4b92-b5c0-c7c5582f6c20",
   "metadata": {},
   "source": [
    "We can also iterate through the set using a for a loop."
   ]
  },
  {
   "cell_type": "code",
   "execution_count": null,
   "id": "19a389f0-9045-4993-a135-0ddf58a62304",
   "metadata": {},
   "outputs": [],
   "source": [
    "demo_set = {1,2,3}\n",
    "for element in demo_set:\n",
    "    print(element)"
   ]
  },
  {
   "cell_type": "markdown",
   "id": "49b2f252-c734-46c6-8965-8c83e88f6ae5",
   "metadata": {},
   "source": [
    "### Set Operations\n",
    "The main benefit of using sets in python is the mathematical set operations python provides like set union, intersection, difference, symmetric difference, etc.\n",
    "\n",
    "### Set Union:\n",
    "\n",
    "A set union will create a set with all the elements from both sets. The union can be performed using union() method or | operator."
   ]
  },
  {
   "cell_type": "code",
   "execution_count": null,
   "id": "dbb7bc1d-8b87-4ec9-aca2-2e457e50ea0c",
   "metadata": {},
   "outputs": [],
   "source": [
    "set_a = {1,2,3}\n",
    "set_b = {3,4,5}\n",
    "set_c = set_a.union(set_b) \n",
    "#OR\n",
    "set_c = set_a | set_b\n",
    "print(set_c)"
   ]
  },
  {
   "cell_type": "markdown",
   "id": "a4084306-2c4b-467c-805c-7238d1260aff",
   "metadata": {},
   "source": [
    "### Set Intersection:\n",
    "\n",
    "A set intersection will create a set with all the elements which are common in both sets. The intersection can be performed using intersection() method or & operator."
   ]
  },
  {
   "cell_type": "code",
   "execution_count": null,
   "id": "645e9b5e-5cde-4a35-b23a-c97302d6bb10",
   "metadata": {},
   "outputs": [],
   "source": [
    "set_a = {1,2,3}\n",
    "set_b = {3,4,5}\n",
    "set_c = set_a.intersection(set_b) \n",
    "#OR\n",
    "set_c = set_a & set_b\n",
    "print(set_c)"
   ]
  },
  {
   "cell_type": "markdown",
   "id": "0e005765-3870-4a85-847b-7b63e785e2a5",
   "metadata": {},
   "source": [
    "### Set Difference:\n",
    "\n",
    "A set difference will create a set with all the elements which are in set 1 and not in set 2. The difference can be performed using difference() method or - operator."
   ]
  },
  {
   "cell_type": "code",
   "execution_count": null,
   "id": "64e54cae-f6f0-4fe0-b851-369fd910e1f5",
   "metadata": {},
   "outputs": [],
   "source": [
    "set_a = {1,2,3}\n",
    "set_b = {3,4,5}\n",
    "set_c = set_a.difference(set_b) \n",
    "#OR\n",
    "set_c = set_a - set_b\n",
    "print(set_c)"
   ]
  },
  {
   "cell_type": "markdown",
   "id": "f25e4a19-8e3f-4ef3-9ec0-d4930e86b449",
   "metadata": {},
   "source": [
    "There is also a method called difference_update() which updates the set with the difference from both sets."
   ]
  },
  {
   "cell_type": "code",
   "execution_count": null,
   "id": "6a31d85f-b48b-4aae-9444-2ad839dc7577",
   "metadata": {},
   "outputs": [],
   "source": [
    "set_a = {1,2,3}\n",
    "set_b = {3,4,5}\n",
    "set_a.difference_update(set_b)\n",
    "print(set_a)"
   ]
  },
  {
   "cell_type": "markdown",
   "id": "6a07d3c4-f105-4439-8b9d-889ff4adcb15",
   "metadata": {},
   "source": [
    "### Set Symmetric Difference:\n",
    "\n",
    "A set symmetric difference will create a set with the elements which are in both sets excluding the elements common to both sets. The symmetric difference can be performed using symmetric_difference() method or ^ operator."
   ]
  },
  {
   "cell_type": "code",
   "execution_count": null,
   "id": "21cf7cd2-bd20-4352-b083-2426bf807616",
   "metadata": {},
   "outputs": [],
   "source": [
    "set_a = {1,2,3}\n",
    "set_b = {3,4,5}\n",
    "set_c = set_a.symmetric_difference(set_b) \n",
    "#OR\n",
    "set_c = set_a ^ set_b\n",
    "print(set_c)"
   ]
  },
  {
   "cell_type": "markdown",
   "id": "b372cae6-59fa-4f21-a77b-12b68248bb32",
   "metadata": {},
   "source": [
    "Similarly, there is also a method called symmetric_difference_update() which updates the set with the symmetric difference from both sets."
   ]
  },
  {
   "cell_type": "code",
   "execution_count": null,
   "id": "868f902b-f144-433e-838e-239a9470a5eb",
   "metadata": {},
   "outputs": [],
   "source": [
    "set_a = {1,2,3}\n",
    "set_b = {3,4,5}\n",
    "set_a.symmetric_difference_update(set_b) \n",
    "print(set_a)"
   ]
  },
  {
   "cell_type": "markdown",
   "id": "f51b8ba3-2e82-49c4-b76b-1c8b72aeb566",
   "metadata": {},
   "source": [
    "### Is Disjoint:\n",
    "\n",
    "isdisjoint() method returns True if there are no common elements in both sets, else returns False."
   ]
  },
  {
   "cell_type": "code",
   "execution_count": null,
   "id": "bdde454a-07bd-471e-a3d0-578b4e197fa2",
   "metadata": {},
   "outputs": [],
   "source": [
    "set_a = {1,2,3}\n",
    "set_b = {4,5}\n",
    "print(set_a.isdisjoint(set_b))"
   ]
  },
  {
   "cell_type": "markdown",
   "id": "d271bc1c-57d7-47ee-b0b0-535d5133e39e",
   "metadata": {},
   "source": [
    "### Is Subset:\n",
    "\n",
    "issubset() method returns True if set 2 contains all the elements from set 1, else returns False."
   ]
  },
  {
   "cell_type": "code",
   "execution_count": null,
   "id": "e68505b2-81be-4b4f-a5ff-c15083cbfda1",
   "metadata": {},
   "outputs": [],
   "source": [
    "set_a = {1,2,3}\n",
    "set_b = {1,2,3,4,5}\n",
    "print(set_a.issubset(set_b))"
   ]
  },
  {
   "cell_type": "markdown",
   "id": "f538c271-dfd5-49be-acf1-9c90cccf1be3",
   "metadata": {},
   "source": [
    "### Is Superset:\n",
    "\n",
    "issuperset() method returns True if set 1 contains all the elements from set 2, else returns False."
   ]
  },
  {
   "cell_type": "code",
   "execution_count": null,
   "id": "54436c18-7801-48a6-ae63-475914c7b21d",
   "metadata": {},
   "outputs": [],
   "source": [
    "set_a = {1,2,3,4,5}\n",
    "set_b = {1,2,3}\n",
    "print(set_a.issuperset(set_b))"
   ]
  },
  {
   "cell_type": "markdown",
   "id": "ccfbca94-dbe0-4817-9c6e-4383c4bafd3a",
   "metadata": {},
   "source": [
    "### Use-cases\n",
    "There are many real-world use-cases of sets in python, few are listed below.\n",
    "\n",
    "### Checking if element present in a list:\n",
    "\n",
    "To check whether an element is present in a list we can always use a for loop to iterate and check or also we can use in operator."
   ]
  },
  {
   "cell_type": "code",
   "execution_count": null,
   "id": "66c08248-93b9-4ec3-aed1-4762df03a1c1",
   "metadata": {},
   "outputs": [],
   "source": [
    "list_a = [1,2,3,4,5]\n",
    "for i in list_a: \n",
    "    if(i == 2) : \n",
    "        print(True)\n",
    "print(2 in set_a)"
   ]
  },
  {
   "cell_type": "markdown",
   "id": "a937ea86-a9b0-4001-85fb-fc2bd9b6de61",
   "metadata": {},
   "source": [
    "But a more efficient way of doing it is converting the list into a set and check the presence using in operator."
   ]
  },
  {
   "cell_type": "code",
   "execution_count": null,
   "id": "d6668b94-0c65-40cf-bdac-3ae8a2cc195a",
   "metadata": {},
   "outputs": [],
   "source": [
    "list_a = [1,2,3,4,5]\n",
    "set_a = set(list_a)\n",
    "print(2 in set_a)"
   ]
  },
  {
   "cell_type": "markdown",
   "id": "97aa509d-38e4-426a-9312-79767f60a6df",
   "metadata": {},
   "source": [
    "### Making a list of unique elements:\n",
    "\n",
    "To make a list where all list elements are unique, we just have to convert the list into a set and then convert it back to a list."
   ]
  },
  {
   "cell_type": "code",
   "execution_count": null,
   "id": "332720a5-c571-4978-b402-6857b14b4f27",
   "metadata": {},
   "outputs": [],
   "source": [
    "list_a = [1,5,2,3,3,4,5,1]\n",
    "print(list_a)\n"
   ]
  },
  {
   "cell_type": "code",
   "execution_count": null,
   "id": "962a1772-0902-4314-ae79-89ac20ad448e",
   "metadata": {},
   "outputs": [],
   "source": [
    "set_a = set(list_a)\n",
    "print(set_a)\n"
   ]
  },
  {
   "cell_type": "code",
   "execution_count": null,
   "id": "dcbc9145-5194-421e-8663-5b619db23d2e",
   "metadata": {},
   "outputs": [],
   "source": [
    "list_new_a = sorted(set_a)\n",
    "#or\n",
    "#list_new_a = list(set_a)\n",
    "print(list_new_a)"
   ]
  },
  {
   "cell_type": "markdown",
   "id": "744e2bf1-48b9-40cf-ac90-4400269ae188",
   "metadata": {},
   "source": [
    "## Merge sets if one or more elements are common:\n",
    "\n",
    "To merge sets that have common elements, we can either check if sets are not disjoint using isdisjoint() method or we can check the intersection using intersection() method then if both sets do intersect, we can use union() method to merge the sets.\n",
    "\n",
    "If we have a list of such sets then we have to use loops and recursion to merge all the sets."
   ]
  },
  {
   "cell_type": "code",
   "execution_count": null,
   "id": "d707b46c-b821-412c-a9a6-ed5fad3cbb53",
   "metadata": {},
   "outputs": [],
   "source": [
    "def merge_if_intersect(m_list):\n",
    "    for i,set1 in enumerate(m_list):\n",
    "        for j,set2 in enumerate(m_list[i+1:],i+1):\n",
    "           if not set1.isdisjoint(set2): #or set1.intersection(set2)\n",
    "              m_list[i]=set1.union(m_list.pop(j))\n",
    "              return merge_if_intersect(m_list)\n",
    "    return m_list\n",
    "list_a = [{1,2,3},{4,5},{5,6},{3,7},{8}]\n",
    "merged_list = merge_if_intersect(list_a)\n",
    "print(merged_list)"
   ]
  },
  {
   "cell_type": "markdown",
   "id": "342813c9-5513-4475-be81-98de0c5b85f8",
   "metadata": {},
   "source": [
    "# Python Dictionary and Dictionary Methods\n",
    "- How to Define a Dictionary\n",
    "- How to Access Values in a Dictionary\n",
    "- How to Add, Update, and Delete Keys from a Dictionary\n",
    "- Dictionary Methods\n",
    "- How to Iterate through a Dictionary\n",
    "\n",
    "[reference](https://medium.com/@GalarnykMichael/python-basics-10-dictionaries-and-dictionary-methods-4e9efa70f5b9)"
   ]
  },
  {
   "cell_type": "markdown",
   "id": "87680c0b-15d8-4afb-9e31-bdf94ae05172",
   "metadata": {},
   "source": [
    "Define a Dictionary\n",
    "Dictionaries are written within curly brackets {}."
   ]
  },
  {
   "cell_type": "code",
   "execution_count": null,
   "id": "6cc42e17-7c21-47de-a0fe-b148a85603ec",
   "metadata": {},
   "outputs": [],
   "source": [
    "## empty dict\n",
    "empty_dict = {}\n",
    "type(empty_dict)"
   ]
  },
  {
   "cell_type": "code",
   "execution_count": null,
   "id": "e02d23b6-64fa-4168-9534-b5d9433d165f",
   "metadata": {},
   "outputs": [],
   "source": [
    "# Define a dictionary code \n",
    "webstersDict = {'person': 'a human being',\n",
    "                'marathon': 'a running race that is about 26 miles',\n",
    "                'resist': 'to remain strong against the force',\n",
    "                'run': 'to move with haste; act quickly'}"
   ]
  },
  {
   "cell_type": "markdown",
   "id": "9595d3d7-650d-454f-918c-649a932d31dc",
   "metadata": {},
   "source": [
    "The dictionary webstersDict used strings as keys in the dictionary, but dictionary keys can be any immutable data type (numbers, strings, tuples etc). Dictionary values can be just about anything (int, lists, functions, strings, etc).\n",
    "\n",
    "For example, the dictionary below, genderDict has ints as keys and strings as values."
   ]
  },
  {
   "cell_type": "code",
   "execution_count": null,
   "id": "553cbfd1-21be-4792-b16c-5ba528dc01b0",
   "metadata": {},
   "outputs": [],
   "source": [
    "# Define a dictionary\n",
    "genderDict = {0: 'male',\n",
    "              1: 'female'}"
   ]
  },
  {
   "cell_type": "markdown",
   "id": "d77a0650-154e-4dad-b02d-b67d652aa6ca",
   "metadata": {},
   "source": [
    "An important point to emphasize is that if you try to make a key a mutable datatype (like a list), you will get an error."
   ]
  },
  {
   "cell_type": "code",
   "execution_count": null,
   "id": "523e0716-c064-466f-a30c-48489926c36d",
   "metadata": {},
   "outputs": [],
   "source": [
    "# Failure to define a dictionary\n",
    "webstersDict = {(1, 2.0): 'tuples can be keys',\n",
    "                1: 'ints can be keys',\n",
    "                'run': 'strings can be keys', \n",
    "                ['sock', 1, 2.0]: 'lists can NOT be keys'}"
   ]
  },
  {
   "cell_type": "markdown",
   "id": "fa080372-24f7-4ea0-91bd-ed98fc626b32",
   "metadata": {},
   "source": [
    "## Access Values in a Dictionary\n",
    "To access a dictionary value, you can use square brackets [].\n",
    "\n",
    "For example, the code below uses the key ‘marathon’ to access the value ‘a running race that is about 26 miles’."
   ]
  },
  {
   "cell_type": "code",
   "execution_count": null,
   "id": "8b276700-fcc2-4fbf-a528-5f6c9f793a57",
   "metadata": {},
   "outputs": [],
   "source": [
    "# Get value of the 'marathon' key\n",
    "webstersDict['marathon']"
   ]
  },
  {
   "cell_type": "markdown",
   "id": "595db26c-3c83-444b-b1d4-de71779b260e",
   "metadata": {},
   "source": [
    "Keep in mind that you will get a KeyError if you try to access a value for a key that does not exist."
   ]
  },
  {
   "cell_type": "code",
   "execution_count": null,
   "id": "0cefe0f3-b79c-4593-80f7-5e51ea314821",
   "metadata": {},
   "outputs": [],
   "source": [
    "# Try to get value for key that does not exist\n",
    "webstersDict['nonexistentKey']"
   ]
  },
  {
   "cell_type": "markdown",
   "id": "c816f0f6-c9e3-45f9-87a0-8b1c965bc305",
   "metadata": {},
   "source": [
    "In the Dictionary Methods section, you will see the utility of using the dictionary method get to avoid KeyErrors.\n",
    "\n",
    "## Add, Update, and Delete Keys from a Dictionary\n",
    "Add or Update Key\n",
    "You can add a new key-value pair."
   ]
  },
  {
   "cell_type": "code",
   "execution_count": null,
   "id": "db13232e-dd5c-4d68-92a0-fd5e51e21e3d",
   "metadata": {},
   "outputs": [],
   "source": [
    "# add one new key value pair to a dictionary\n",
    "webstersDict['shoe'] = 'an external covering for the human foot'"
   ]
  },
  {
   "cell_type": "code",
   "execution_count": null,
   "id": "3b985b77-6f52-42ab-a886-10b392239205",
   "metadata": {},
   "outputs": [],
   "source": [
    "webstersDict"
   ]
  },
  {
   "cell_type": "code",
   "execution_count": null,
   "id": "964c1708-d468-4ae3-8265-d1343b2869c3",
   "metadata": {},
   "outputs": [],
   "source": [
    "# you can also update a key-value pair"
   ]
  },
  {
   "cell_type": "code",
   "execution_count": null,
   "id": "e1245eb3-c55d-4bc3-a493-feaa65691ba9",
   "metadata": {},
   "outputs": [],
   "source": [
    "webstersDict['marathon'] = '26 mile race'"
   ]
  },
  {
   "cell_type": "code",
   "execution_count": null,
   "id": "8d134228-6c8f-4d09-8922-711bf2a9191a",
   "metadata": {},
   "outputs": [],
   "source": [
    "webstersDict"
   ]
  },
  {
   "cell_type": "markdown",
   "id": "9bb3c927-2100-4770-bec1-23154d6a16f4",
   "metadata": {},
   "source": [
    "In the Dictionary Methods section, you will see that you can also add or update multiple key value pairs at a time using the dictionary update method.\n",
    "\n",
    "## Delete Keys from Dictionary\n",
    "It is possible to remove a key and its corresponding value from a dictionary using del."
   ]
  },
  {
   "cell_type": "code",
   "execution_count": null,
   "id": "bcb31b9e-4fb5-41ac-a00e-13d467d391fd",
   "metadata": {},
   "outputs": [],
   "source": [
    "# Remove the key 'resist' from the dictionary\n",
    "del webstersDict['resist']"
   ]
  },
  {
   "cell_type": "code",
   "execution_count": null,
   "id": "b508868c-cced-4606-8566-952abbc8a4cb",
   "metadata": {},
   "outputs": [],
   "source": [
    "webstersDict"
   ]
  },
  {
   "cell_type": "markdown",
   "id": "ae9f193d-b3c9-48a5-bc2a-3346f702011d",
   "metadata": {},
   "source": [
    "In the Dictionary Methods section, you will see that you can also delete keys using the dictionary pop method.\n",
    "\n",
    "## Dictionary Methods\n",
    "Python dictionaries have different methods that help you modify a dictionary. This section of the tutorial just goes over various python dictionary methods.\n",
    "\n",
    "## update method\n",
    "The update method is very useful for updating multiple key values pairs at a time. It takes a dictionary as an argument."
   ]
  },
  {
   "cell_type": "code",
   "execution_count": null,
   "id": "927bcf0c-1c00-4e0d-b8e8-5cf85788ad01",
   "metadata": {},
   "outputs": [],
   "source": [
    "# Using update method to add two key value pairs at once\n",
    "webstersDict.update({'ran': 'past tense of run',\n",
    "                     'shoes': 'plural of shoe'})"
   ]
  },
  {
   "cell_type": "code",
   "execution_count": null,
   "id": "e14a5ec1-50ce-47ec-9c45-02c9fb1ea674",
   "metadata": {},
   "outputs": [],
   "source": [
    "webstersDict"
   ]
  },
  {
   "cell_type": "markdown",
   "id": "55a792e1-7d3d-4a4d-bc3f-52462cdf2720",
   "metadata": {},
   "source": [
    "## Get method\n",
    "The get method returns a value for a given key. If a key doesn’t exist, the dictionary will by default return None."
   ]
  },
  {
   "cell_type": "code",
   "execution_count": null,
   "id": "36988767-1579-43d1-9a95-6f32f2162e80",
   "metadata": {},
   "outputs": [],
   "source": [
    "# Define a dictionary\n",
    "storyCount = {'is': 100,\n",
    "              'the': 90,\n",
    "              'Michael': 12,\n",
    "              'runs': 5}"
   ]
  },
  {
   "cell_type": "code",
   "execution_count": null,
   "id": "cc0d48ea-6968-4e12-a8df-1956f3e2b934",
   "metadata": {},
   "outputs": [],
   "source": [
    "# Since the key 'Michael' exists, it will return the value 12\n",
    "storyCount.get('Michael')"
   ]
  },
  {
   "cell_type": "markdown",
   "id": "3da6fee4-e7ac-4b2d-919e-7a9e332f9675",
   "metadata": {},
   "source": [
    "The method is very useful to look up keys you don’t know are in the dictionary to avoid KeyErrors."
   ]
  },
  {
   "cell_type": "code",
   "execution_count": null,
   "id": "2120efb3-6531-4c9d-8cb3-8125c38923c1",
   "metadata": {},
   "outputs": [],
   "source": [
    "# Make default value for key that doesn't exist 0.\n",
    "storyCount.get('chicken', 0)"
   ]
  },
  {
   "cell_type": "markdown",
   "id": "690979ee-cc91-4703-a814-666de3862a47",
   "metadata": {},
   "source": [
    "## pop Method\n",
    "The pop method removes a key and returns the value."
   ]
  },
  {
   "cell_type": "code",
   "execution_count": null,
   "id": "02eef547-c36b-448e-8789-78b9cdaea081",
   "metadata": {},
   "outputs": [],
   "source": [
    "storyCount.pop('the')"
   ]
  },
  {
   "cell_type": "code",
   "execution_count": null,
   "id": "04e11153-72f3-4e9a-af05-0b217595bee8",
   "metadata": {},
   "outputs": [],
   "source": [
    "storyCount"
   ]
  },
  {
   "cell_type": "markdown",
   "id": "a414192d-cdbe-439d-85fe-f15ae86294fd",
   "metadata": {},
   "source": [
    "## keys Method\n",
    "The keys method returns the keys of the dictionary."
   ]
  },
  {
   "cell_type": "code",
   "execution_count": null,
   "id": "6524b6db-8f1a-44b5-b4e5-3107febb340e",
   "metadata": {},
   "outputs": [],
   "source": [
    "storyCount.keys()"
   ]
  },
  {
   "cell_type": "markdown",
   "id": "dae30d20-7efd-4b57-8a30-3837a3b9babb",
   "metadata": {},
   "source": [
    "## values Method\n",
    "The values method returns the values in the dictionary."
   ]
  },
  {
   "cell_type": "code",
   "execution_count": null,
   "id": "7567537c-f861-4459-8564-fb067205502e",
   "metadata": {},
   "outputs": [],
   "source": [
    "storyCount.values()"
   ]
  },
  {
   "cell_type": "markdown",
   "id": "8e3d4264-eedd-4c96-958d-bc3fb2e71558",
   "metadata": {},
   "source": [
    "## items Method\n",
    "The items method returns a list like object of tuples where each tuple is of the form (key, value)."
   ]
  },
  {
   "cell_type": "code",
   "execution_count": null,
   "id": "ddc1fe35-853a-4aac-8e16-1b568c5d0f0f",
   "metadata": {},
   "outputs": [],
   "source": [
    "webstersDict.items()"
   ]
  },
  {
   "cell_type": "markdown",
   "id": "6e030cbd-3bf0-4912-99c6-8860a4ee9310",
   "metadata": {},
   "source": [
    "## Iterate through a Dictionary\n",
    "You can iterate through the keys of a dictionary by using a for loop."
   ]
  },
  {
   "cell_type": "code",
   "execution_count": null,
   "id": "d7e720f6-c7ab-4869-84e0-adbd2fe4dcb2",
   "metadata": {},
   "outputs": [],
   "source": [
    "for key in storyCount:\n",
    "   print(key)"
   ]
  },
  {
   "cell_type": "code",
   "execution_count": null,
   "id": "ddf4c991-a5c9-4d9c-96cb-fe141cacb3af",
   "metadata": {},
   "outputs": [],
   "source": [
    "# You also iterate through the keys of a dictionary by using the keys method.\n",
    "for key in storyCount.keys():\n",
    "   print(key)"
   ]
  },
  {
   "cell_type": "markdown",
   "id": "900544cb-882b-451d-ad1f-211aff852c35",
   "metadata": {},
   "source": [
    "The for loop below uses the items method to access one (key, value) pair on each iteration of the loop."
   ]
  },
  {
   "cell_type": "code",
   "execution_count": null,
   "id": "f95bde72-9602-4eda-8726-a4e980fcfaeb",
   "metadata": {},
   "outputs": [],
   "source": [
    "for key, value in webstersDict.items():\n",
    "    print(key, value)"
   ]
  },
  {
   "cell_type": "markdown",
   "id": "743e022d-3b26-4400-8045-601fbb7401ee",
   "metadata": {},
   "source": [
    "```python\n",
    "[42, 3.14, 'hello']     # List\n",
    "[]                      # Empty list\n",
    "100, 200, 300           # Tuple\n",
    "(100, 200, 300)         # Tuple\n",
    "()                      # Empty tuple\n",
    "{'x':42, 'y':3.14}      # Dictionary\n",
    "{}                      # Empty dictionary\n",
    "{1, 2, 4, 8, 'string'}  # Set\n",
    "# There is no literal form to denote an empty set; use set() instead\n",
    "```"
   ]
  },
  {
   "cell_type": "markdown",
   "id": "66effc5c-7cc0-4094-bb40-8f8d947e02e1",
   "metadata": {},
   "source": [
    "## Keywords"
   ]
  },
  {
   "cell_type": "code",
   "execution_count": null,
   "id": "c101743e-7345-4e8f-a3a9-73bc19d8c682",
   "metadata": {},
   "outputs": [],
   "source": [
    "import keyword\n",
    "print(keyword.kwlist)"
   ]
  },
  {
   "cell_type": "code",
   "execution_count": null,
   "id": "3ff87435-1fde-4894-9826-1c779e450db3",
   "metadata": {},
   "outputs": [],
   "source": [
    "print(keyword.softkwlist)"
   ]
  },
  {
   "cell_type": "markdown",
   "id": "3c019183-df22-4391-a214-d2c3ac5f0af2",
   "metadata": {
    "tags": []
   },
   "source": [
    "## Literals\n",
    "\n",
    "```python\n",
    "42                     # Integer literal\n",
    "3.14                   # Floating-point literal\n",
    "1.0j                   # Imaginary literal\n",
    "'hello'                # String literal\n",
    "\"world\"                # Another string literal\n",
    "\"\"\"Good\n",
    "night\"\"\"               #\n",
    "\n",
    "```"
   ]
  },
  {
   "cell_type": "markdown",
   "id": "2de44b07-2289-4443-a0a1-072294c90ae2",
   "metadata": {},
   "source": [
    "## Help Function"
   ]
  },
  {
   "cell_type": "code",
   "execution_count": null,
   "id": "b83237d3-b808-439f-ba18-fae9283aa319",
   "metadata": {},
   "outputs": [],
   "source": [
    "#help('BASICMETHODS')\n",
    "#help('NUMBERMETHODS')\n",
    "#help('SPECIALMETHODS')\n",
    "#help('OPERATORS')\n",
    "#help('itertools')\n",
    "#help('OBJECTS')\n",
    "#help('FUNCTIONS')\n",
    "#help('TYPES')"
   ]
  },
  {
   "cell_type": "markdown",
   "id": "aa1c29ff-58a3-422a-a900-3b06756dfa4c",
   "metadata": {},
   "source": [
    "[Built-In Functions](https://docs.python.org/3/library/functions.html)"
   ]
  },
  {
   "cell_type": "code",
   "execution_count": null,
   "id": "8ec72832-1e8a-477a-818e-48d810683d05",
   "metadata": {},
   "outputs": [],
   "source": [
    "#import builtins\n",
    "#dir(builtins)"
   ]
  },
  {
   "cell_type": "code",
   "execution_count": null,
   "id": "a6149a9c-c394-42e5-8a1f-8274a79dc957",
   "metadata": {},
   "outputs": [],
   "source": [
    "print(dir(__builtin__))"
   ]
  },
  {
   "cell_type": "code",
   "execution_count": null,
   "id": "b7748d8f-54e9-4227-8f52-2d5524ce8c1b",
   "metadata": {},
   "outputs": [],
   "source": [
    "help(set)\n"
   ]
  },
  {
   "cell_type": "code",
   "execution_count": null,
   "id": "0187b523-fd33-478a-b9f3-66c6028a72bb",
   "metadata": {},
   "outputs": [],
   "source": []
  }
 ],
 "metadata": {
  "kernelspec": {
   "display_name": "Python 3 (ipykernel)",
   "language": "python",
   "name": "python3"
  },
  "language_info": {
   "codemirror_mode": {
    "name": "ipython",
    "version": 3
   },
   "file_extension": ".py",
   "mimetype": "text/x-python",
   "name": "python",
   "nbconvert_exporter": "python",
   "pygments_lexer": "ipython3",
   "version": "3.9.16"
  }
 },
 "nbformat": 4,
 "nbformat_minor": 5
}
