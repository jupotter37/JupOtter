{
 "cells": [
  {
   "cell_type": "markdown",
   "id": "f112fcd2",
   "metadata": {
    "toc": true
   },
   "source": [
    "<h1>Table of Contents<span class=\"tocSkip\"></span></h1>\n",
    "<div class=\"toc\"><ul class=\"toc-item\"><li><span><a href=\"#1D-Linked-List\" data-toc-modified-id=\"1D-Linked-List-1\"><span class=\"toc-item-num\">1&nbsp;&nbsp;</span>1D Linked List</a></span><ul class=\"toc-item\"><li><span><a href=\"#Array-to-LinkedList\" data-toc-modified-id=\"Array-to-LinkedList-1.1\"><span class=\"toc-item-num\">1.1&nbsp;&nbsp;</span>Array to LinkedList</a></span></li><li><span><a href=\"#Insert-Node-at-the-Beginning\" data-toc-modified-id=\"Insert-Node-at-the-Beginning-1.2\"><span class=\"toc-item-num\">1.2&nbsp;&nbsp;</span>Insert Node at the Beginning</a></span></li><li><span><a href=\"#Delete-the-Last-Element\" data-toc-modified-id=\"Delete-the-Last-Element-1.3\"><span class=\"toc-item-num\">1.3&nbsp;&nbsp;</span>Delete the Last Element</a></span></li><li><span><a href=\"#Find-the-Length-Of-the-Linked-List\" data-toc-modified-id=\"Find-the-Length-Of-the-Linked-List-1.4\"><span class=\"toc-item-num\">1.4&nbsp;&nbsp;</span>Find the Length Of the Linked List</a></span></li><li><span><a href=\"#Search-in-a-Linked-List\" data-toc-modified-id=\"Search-in-a-Linked-List-1.5\"><span class=\"toc-item-num\">1.5&nbsp;&nbsp;</span>Search in a Linked List</a></span></li><li><span><a href=\"#Middle-OF-the-Linked-List\" data-toc-modified-id=\"Middle-OF-the-Linked-List-1.6\"><span class=\"toc-item-num\">1.6&nbsp;&nbsp;</span>Middle OF the Linked List</a></span><ul class=\"toc-item\"><li><span><a href=\"#Count-Method\" data-toc-modified-id=\"Count-Method-1.6.1\"><span class=\"toc-item-num\">1.6.1&nbsp;&nbsp;</span>Count Method</a></span></li><li><span><a href=\"#Tortoise-Method\" data-toc-modified-id=\"Tortoise-Method-1.6.2\"><span class=\"toc-item-num\">1.6.2&nbsp;&nbsp;</span>Tortoise Method</a></span></li></ul></li><li><span><a href=\"#Reverse-Linked-List-(Iterative)\" data-toc-modified-id=\"Reverse-Linked-List-(Iterative)-1.7\"><span class=\"toc-item-num\">1.7&nbsp;&nbsp;</span>Reverse Linked List (Iterative)</a></span></li><li><span><a href=\"#Reverse-Linked-List-(Recursive)\" data-toc-modified-id=\"Reverse-Linked-List-(Recursive)-1.8\"><span class=\"toc-item-num\">1.8&nbsp;&nbsp;</span>Reverse Linked List (Recursive)</a></span></li><li><span><a href=\"#Detect-Cycle\" data-toc-modified-id=\"Detect-Cycle-1.9\"><span class=\"toc-item-num\">1.9&nbsp;&nbsp;</span>Detect Cycle</a></span><ul class=\"toc-item\"><li><span><a href=\"#By-Using-HashMap\" data-toc-modified-id=\"By-Using-HashMap-1.9.1\"><span class=\"toc-item-num\">1.9.1&nbsp;&nbsp;</span>By Using HashMap</a></span></li><li><span><a href=\"#Floyd's-cycle-finding-algorithm-(tortoise-and-hare-algorithm)\" data-toc-modified-id=\"Floyd's-cycle-finding-algorithm-(tortoise-and-hare-algorithm)-1.9.2\"><span class=\"toc-item-num\">1.9.2&nbsp;&nbsp;</span>Floyd's cycle-finding algorithm (tortoise and hare algorithm)</a></span></li></ul></li><li><span><a href=\"#Find-Starting-Point-in-LL\" data-toc-modified-id=\"Find-Starting-Point-in-LL-1.10\"><span class=\"toc-item-num\">1.10&nbsp;&nbsp;</span>Find Starting Point in LL</a></span><ul class=\"toc-item\"><li><span><a href=\"#By-using-Set\" data-toc-modified-id=\"By-using-Set-1.10.1\"><span class=\"toc-item-num\">1.10.1&nbsp;&nbsp;</span>By using Set</a></span></li><li><span><a href=\"#By-Using-HashMap\" data-toc-modified-id=\"By-Using-HashMap-1.10.2\"><span class=\"toc-item-num\">1.10.2&nbsp;&nbsp;</span>By Using HashMap</a></span></li><li><span><a href=\"#By-using-SLow-fast-Approach\" data-toc-modified-id=\"By-using-SLow-fast-Approach-1.10.3\"><span class=\"toc-item-num\">1.10.3&nbsp;&nbsp;</span>By using SLow fast Approach</a></span></li></ul></li><li><span><a href=\"#Length-Of-a-Loop\" data-toc-modified-id=\"Length-Of-a-Loop-1.11\"><span class=\"toc-item-num\">1.11&nbsp;&nbsp;</span>Length Of a Loop</a></span><ul class=\"toc-item\"><li><span><a href=\"#By-Using-Counter-Method-and-HashMap\" data-toc-modified-id=\"By-Using-Counter-Method-and-HashMap-1.11.1\"><span class=\"toc-item-num\">1.11.1&nbsp;&nbsp;</span>By Using Counter Method and HashMap</a></span></li><li><span><a href=\"#By-using-Starting-Point-of-loop-method\" data-toc-modified-id=\"By-using-Starting-Point-of-loop-method-1.11.2\"><span class=\"toc-item-num\">1.11.2&nbsp;&nbsp;</span>By using Starting Point of loop method</a></span></li></ul></li><li><span><a href=\"#Check-If-Linked-List-Is-Palindrome\" data-toc-modified-id=\"Check-If-Linked-List-Is-Palindrome-1.12\"><span class=\"toc-item-num\">1.12&nbsp;&nbsp;</span>Check If Linked List Is Palindrome</a></span><ul class=\"toc-item\"><li><span><a href=\"#By-using-Arrays\" data-toc-modified-id=\"By-using-Arrays-1.12.1\"><span class=\"toc-item-num\">1.12.1&nbsp;&nbsp;</span>By using Arrays</a></span></li><li><span><a href=\"#By-Using-Reverse-LL\" data-toc-modified-id=\"By-Using-Reverse-LL-1.12.2\"><span class=\"toc-item-num\">1.12.2&nbsp;&nbsp;</span>By Using Reverse LL</a></span></li><li><span><a href=\"#By-using-3-Steps\" data-toc-modified-id=\"By-using-3-Steps-1.12.3\"><span class=\"toc-item-num\">1.12.3&nbsp;&nbsp;</span>By using 3 Steps</a></span></li></ul></li><li><span><a href=\"#Segregate-Even-And-Odd-Nodes-In-a-Linked-List\" data-toc-modified-id=\"Segregate-Even-And-Odd-Nodes-In-a-Linked-List-1.13\"><span class=\"toc-item-num\">1.13&nbsp;&nbsp;</span>Segregate Even And Odd Nodes In a Linked List</a></span><ul class=\"toc-item\"><li><span><a href=\"#By-using-2-sepearate-Linked-List-for-Odd-and-Even\" data-toc-modified-id=\"By-using-2-sepearate-Linked-List-for-Odd-and-Even-1.13.1\"><span class=\"toc-item-num\">1.13.1&nbsp;&nbsp;</span>By using 2 sepearate Linked List for Odd and Even</a></span></li><li><span><a href=\"#By-using-Queue\" data-toc-modified-id=\"By-using-Queue-1.13.2\"><span class=\"toc-item-num\">1.13.2&nbsp;&nbsp;</span>By using Queue</a></span></li></ul></li><li><span><a href=\"#Odd-Even-Linked-List\" data-toc-modified-id=\"Odd-Even-Linked-List-1.14\"><span class=\"toc-item-num\">1.14&nbsp;&nbsp;</span>Odd Even Linked List</a></span></li><li><span><a href=\"#Delete-Kth-Node-From-End\" data-toc-modified-id=\"Delete-Kth-Node-From-End-1.15\"><span class=\"toc-item-num\">1.15&nbsp;&nbsp;</span>Delete Kth Node From End</a></span></li><li><span><a href=\"#Delete-Middle-Node\" data-toc-modified-id=\"Delete-Middle-Node-1.16\"><span class=\"toc-item-num\">1.16&nbsp;&nbsp;</span>Delete Middle Node</a></span></li><li><span><a href=\"#Sort-the-List\" data-toc-modified-id=\"Sort-the-List-1.17\"><span class=\"toc-item-num\">1.17&nbsp;&nbsp;</span>Sort the List</a></span><ul class=\"toc-item\"><li><span><a href=\"#By-using-arrays\" data-toc-modified-id=\"By-using-arrays-1.17.1\"><span class=\"toc-item-num\">1.17.1&nbsp;&nbsp;</span>By using arrays</a></span></li><li><span><a href=\"#By-using-Merge-Sort\" data-toc-modified-id=\"By-using-Merge-Sort-1.17.2\"><span class=\"toc-item-num\">1.17.2&nbsp;&nbsp;</span>By using Merge Sort</a></span></li></ul></li><li><span><a href=\"#Intersection-of-Two-Linked-Lists\" data-toc-modified-id=\"Intersection-of-Two-Linked-Lists-1.18\"><span class=\"toc-item-num\">1.18&nbsp;&nbsp;</span>Intersection of Two Linked Lists</a></span><ul class=\"toc-item\"><li><span><a href=\"#By-using-Set\" data-toc-modified-id=\"By-using-Set-1.18.1\"><span class=\"toc-item-num\">1.18.1&nbsp;&nbsp;</span>By using Set</a></span></li><li><span><a href=\"#By-using-Two-Pointers-Method\" data-toc-modified-id=\"By-using-Two-Pointers-Method-1.18.2\"><span class=\"toc-item-num\">1.18.2&nbsp;&nbsp;</span>By using Two Pointers Method</a></span></li><li><span><a href=\"#Using-Shuffling-Pointer-Technique\" data-toc-modified-id=\"Using-Shuffling-Pointer-Technique-1.18.3\"><span class=\"toc-item-num\">1.18.3&nbsp;&nbsp;</span>Using Shuffling Pointer Technique</a></span></li></ul></li><li><span><a href=\"#Add-one-to-a-number-represented-as-Linked-List\" data-toc-modified-id=\"Add-one-to-a-number-represented-as-Linked-List-1.19\"><span class=\"toc-item-num\">1.19&nbsp;&nbsp;</span>Add one to a number represented as Linked List</a></span></li><li><span><a href=\"#Sort-linked-list-of-0s-1s-2s\" data-toc-modified-id=\"Sort-linked-list-of-0s-1s-2s-1.20\"><span class=\"toc-item-num\">1.20&nbsp;&nbsp;</span>Sort linked list of 0s 1s 2s</a></span></li><li><span><a href=\"#Add-Two-Numbers\" data-toc-modified-id=\"Add-Two-Numbers-1.21\"><span class=\"toc-item-num\">1.21&nbsp;&nbsp;</span>Add Two Numbers</a></span></li></ul></li><li><span><a href=\"#2D-Linked-List\" data-toc-modified-id=\"2D-Linked-List-2\"><span class=\"toc-item-num\">2&nbsp;&nbsp;</span>2D Linked List</a></span><ul class=\"toc-item\"><li><span><a href=\"#Array-to-Doubly-Linked-List\" data-toc-modified-id=\"Array-to-Doubly-Linked-List-2.1\"><span class=\"toc-item-num\">2.1&nbsp;&nbsp;</span>Array to Doubly Linked List</a></span></li><li><span><a href=\"#Insert-at-the-end-of-DLL\" data-toc-modified-id=\"Insert-at-the-end-of-DLL-2.2\"><span class=\"toc-item-num\">2.2&nbsp;&nbsp;</span>Insert at the end of DLL</a></span></li><li><span><a href=\"#Delete-Last-Node-of-a-DLL\" data-toc-modified-id=\"Delete-Last-Node-of-a-DLL-2.3\"><span class=\"toc-item-num\">2.3&nbsp;&nbsp;</span>Delete Last Node of a DLL</a></span></li><li><span><a href=\"#Reverse-DLL\" data-toc-modified-id=\"Reverse-DLL-2.4\"><span class=\"toc-item-num\">2.4&nbsp;&nbsp;</span>Reverse DLL</a></span></li><li><span><a href=\"#Delete-all-occurrences-of-a-given-key-in-a-doubly-linked-list\" data-toc-modified-id=\"Delete-all-occurrences-of-a-given-key-in-a-doubly-linked-list-2.5\"><span class=\"toc-item-num\">2.5&nbsp;&nbsp;</span>Delete all occurrences of a given key in a doubly linked list</a></span><ul class=\"toc-item\"><li><span><a href=\"#By-Using-Arrays\" data-toc-modified-id=\"By-Using-Arrays-2.5.1\"><span class=\"toc-item-num\">2.5.1&nbsp;&nbsp;</span>By Using Arrays</a></span></li><li><span><a href=\"#By-using-LinkedList-In-place\" data-toc-modified-id=\"By-using-LinkedList-In-place-2.5.2\"><span class=\"toc-item-num\">2.5.2&nbsp;&nbsp;</span>By using LinkedList In place</a></span></li></ul></li><li><span><a href=\"#Remove-Duplicates-From-Sorted-DLL\" data-toc-modified-id=\"Remove-Duplicates-From-Sorted-DLL-2.6\"><span class=\"toc-item-num\">2.6&nbsp;&nbsp;</span>Remove Duplicates From Sorted DLL</a></span><ul class=\"toc-item\"><li><span><a href=\"#By-using-HashMap\" data-toc-modified-id=\"By-using-HashMap-2.6.1\"><span class=\"toc-item-num\">2.6.1&nbsp;&nbsp;</span>By using HashMap</a></span></li></ul></li><li><span><a href=\"#Find-Pairs-of-Sum\" data-toc-modified-id=\"Find-Pairs-of-Sum-2.7\"><span class=\"toc-item-num\">2.7&nbsp;&nbsp;</span>Find Pairs of Sum</a></span><ul class=\"toc-item\"><li><span><a href=\"#By-using-Naive-approach\" data-toc-modified-id=\"By-using-Naive-approach-2.7.1\"><span class=\"toc-item-num\">2.7.1&nbsp;&nbsp;</span>By using Naive approach</a></span></li><li><span><a href=\"#By-using-Set\" data-toc-modified-id=\"By-using-Set-2.7.2\"><span class=\"toc-item-num\">2.7.2&nbsp;&nbsp;</span>By using Set</a></span></li><li><span><a href=\"#By-using-Two-sets\" data-toc-modified-id=\"By-using-Two-sets-2.7.3\"><span class=\"toc-item-num\">2.7.3&nbsp;&nbsp;</span>By using Two sets</a></span></li></ul></li></ul></li></ul></div>"
   ]
  },
  {
   "cell_type": "markdown",
   "id": "316edf92",
   "metadata": {},
   "source": [
    "# 1D Linked List"
   ]
  },
  {
   "cell_type": "code",
   "execution_count": 1,
   "id": "fad616cb",
   "metadata": {
    "ExecuteTime": {
     "end_time": "2023-11-18T14:06:02.112291Z",
     "start_time": "2023-11-18T14:06:02.084678Z"
    }
   },
   "outputs": [],
   "source": [
    "class Node:\n",
    "    def __init__(self, val=0, next=None):\n",
    "        self.val = val\n",
    "        self.next = next"
   ]
  },
  {
   "cell_type": "markdown",
   "id": "ffcdb0d8",
   "metadata": {},
   "source": [
    "## Array to LinkedList"
   ]
  },
  {
   "cell_type": "code",
   "execution_count": 2,
   "id": "3147ed5e",
   "metadata": {
    "ExecuteTime": {
     "end_time": "2023-11-18T14:06:05.606739Z",
     "start_time": "2023-11-18T14:06:05.588189Z"
    }
   },
   "outputs": [],
   "source": [
    "def constructLL(arr: [int]) -> Node:\n",
    "    # Write your code here\n",
    "    head = Node(0)\n",
    "    curr = head\n",
    "    for i in arr:\n",
    "        curr.next = Node(i)\n",
    "        curr = curr.next\n",
    "    return head.next"
   ]
  },
  {
   "cell_type": "markdown",
   "id": "0d76f9ee",
   "metadata": {},
   "source": [
    "## Insert Node at the Beginning"
   ]
  },
  {
   "cell_type": "code",
   "execution_count": 3,
   "id": "551fa8c2",
   "metadata": {
    "ExecuteTime": {
     "end_time": "2023-11-18T14:11:42.604011Z",
     "start_time": "2023-11-18T14:11:42.577988Z"
    }
   },
   "outputs": [],
   "source": [
    "class Node:\n",
    "    def __init__(self, data):\n",
    "        self.data = data\n",
    "        self.next = None\n",
    "\n",
    "def insertAtFirst(root: Node, newValue: int) -> Node:\n",
    "    # Create a new node with the given value\n",
    "    head = Node(newValue)\n",
    "    # Set current node to the newly created head\n",
    "    curr = head\n",
    "    \n",
    "    # Iterate through the existing linked list\n",
    "    while root is not None:\n",
    "        # Create a new node with the data from the existing linked list\n",
    "        curr.next = Node(root.data)\n",
    "        # Move the current node to the next node in the new linked list\n",
    "        curr = curr.next\n",
    "        # Move to the next node in the existing linked list\n",
    "        root = root.next\n",
    "    \n",
    "    # Return the head of the new linked list\n",
    "    return head"
   ]
  },
  {
   "cell_type": "markdown",
   "id": "96e2faaf",
   "metadata": {},
   "source": [
    "## Delete the Last Element"
   ]
  },
  {
   "cell_type": "code",
   "execution_count": 4,
   "id": "46777d67",
   "metadata": {
    "ExecuteTime": {
     "end_time": "2023-11-18T14:15:04.278079Z",
     "start_time": "2023-11-18T14:15:04.253067Z"
    }
   },
   "outputs": [],
   "source": [
    "class Node:\n",
    "    def __init__(self, val=0, next=None):\n",
    "        self.val = val\n",
    "        self.next = next\n",
    "\n",
    "\n",
    "# Please do not change code above.\n",
    "\n",
    "def deleteLast(root: Node) -> Node:\n",
    "    # If the linked list is empty or has only one node\n",
    "    if root is None or root.next is None:\n",
    "        return None\n",
    "\n",
    "    # Start from the head of the linked list\n",
    "    curr = root\n",
    "\n",
    "    # Traverse the linked list until the second-to-last node\n",
    "    while curr.next.next is not None:\n",
    "        curr = curr.next\n",
    "\n",
    "    # Set the next pointer of the second-to-last node to None, effectively removing the last node\n",
    "    curr.next = None\n",
    "\n",
    "    # Return the modified linked list\n",
    "    return root"
   ]
  },
  {
   "cell_type": "markdown",
   "id": "e02dd4e9",
   "metadata": {},
   "source": [
    "## Find the Length Of the Linked List"
   ]
  },
  {
   "cell_type": "code",
   "execution_count": 5,
   "id": "2e401c68",
   "metadata": {
    "ExecuteTime": {
     "end_time": "2023-11-18T14:28:45.445125Z",
     "start_time": "2023-11-18T14:28:45.424132Z"
    }
   },
   "outputs": [],
   "source": [
    "def length(head):\n",
    "    # Initialize a pointer to the head of the linked list\n",
    "    curr = head\n",
    "    # Initialize a variable to count the number of nodes\n",
    "    count = 0\n",
    "    \n",
    "    # Traverse the linked list until the end (i.e., until the current node is None)\n",
    "    while curr is not None:\n",
    "        # Increment the count for each node\n",
    "        count += 1\n",
    "        # Move to the next node\n",
    "        curr = curr.next\n",
    "    \n",
    "    # Return the count, which represents the length of the linked list\n",
    "    return count"
   ]
  },
  {
   "cell_type": "markdown",
   "id": "70f47a3e",
   "metadata": {},
   "source": [
    "## Search in a Linked List"
   ]
  },
  {
   "cell_type": "code",
   "execution_count": 6,
   "id": "a097a5c0",
   "metadata": {
    "ExecuteTime": {
     "end_time": "2023-11-18T14:31:32.429341Z",
     "start_time": "2023-11-18T14:31:32.403653Z"
    }
   },
   "outputs": [],
   "source": [
    "def searchInLinkedList(head, k):\n",
    "    # Start at the head of the linked list\n",
    "    curr = head\n",
    "    \n",
    "    # Traverse the linked list until the end (i.e., until the current node is None)\n",
    "    while curr is not None:\n",
    "        # Check if the data of the current node matches the target value, k\n",
    "        if curr.data == k:\n",
    "            return 1  # Return 1 if the value is found\n",
    "        \n",
    "        # Move to the next node\n",
    "        curr = curr.next\n",
    "    \n",
    "    # Return 0 if the value is not found in the linked list\n",
    "    return 0"
   ]
  },
  {
   "cell_type": "markdown",
   "id": "4d9e699e",
   "metadata": {},
   "source": [
    "## Middle OF the Linked List"
   ]
  },
  {
   "cell_type": "markdown",
   "id": "5c22a199",
   "metadata": {},
   "source": [
    "### Count Method"
   ]
  },
  {
   "cell_type": "code",
   "execution_count": 7,
   "id": "bfd95b19",
   "metadata": {
    "ExecuteTime": {
     "end_time": "2023-11-19T16:37:23.606996Z",
     "start_time": "2023-11-19T16:37:23.564148Z"
    }
   },
   "outputs": [],
   "source": [
    "def findMiddle(head):\n",
    "    # Initialize count and current pointers\n",
    "    count = 0\n",
    "    curr = head\n",
    "    \n",
    "    # Count the total number of nodes in the linked list\n",
    "    while curr is not None:\n",
    "        curr = curr.next\n",
    "        count += 1\n",
    "    \n",
    "    # Calculate the middle index\n",
    "    k = count // 2\n",
    "    \n",
    "    # Reset the current pointer to the head\n",
    "    curr = head\n",
    "    \n",
    "    # Traverse to the middle node\n",
    "    while k > 0:\n",
    "        k -= 1\n",
    "        curr = curr.next\n",
    "    \n",
    "    # Return the middle node\n",
    "    return curr"
   ]
  },
  {
   "cell_type": "markdown",
   "id": "c40b33fb",
   "metadata": {},
   "source": [
    "### Tortoise Method"
   ]
  },
  {
   "cell_type": "code",
   "execution_count": 8,
   "id": "9711d494",
   "metadata": {
    "ExecuteTime": {
     "end_time": "2023-11-19T16:37:36.643397Z",
     "start_time": "2023-11-19T16:37:36.629496Z"
    }
   },
   "outputs": [],
   "source": [
    "def findMiddle(head):\n",
    "    # Initialize fast and slow pointers\n",
    "    fast = head.next\n",
    "    slow = head\n",
    "    \n",
    "    # Traverse the linked list\n",
    "    while fast is not None:\n",
    "        # Move the fast pointer two steps and the slow pointer one step\n",
    "        fast = fast.next.next if fast.next else None\n",
    "        slow = slow.next\n",
    "    \n",
    "    # At this point, the slow pointer is at the middle node\n",
    "    return slow"
   ]
  },
  {
   "cell_type": "markdown",
   "id": "b11a87d2",
   "metadata": {},
   "source": [
    "## Reverse Linked List (Iterative)"
   ]
  },
  {
   "cell_type": "code",
   "execution_count": 3,
   "id": "aad4d27a",
   "metadata": {
    "ExecuteTime": {
     "end_time": "2023-11-19T14:26:41.456400Z",
     "start_time": "2023-11-19T14:26:41.430160Z"
    }
   },
   "outputs": [],
   "source": [
    "def reverseLinkedList(head):\n",
    "    # Initialize pointers\n",
    "    curr = head\n",
    "    prev = None\n",
    "    \n",
    "    # Traverse the linked list\n",
    "    while curr is not None:\n",
    "        nxt = curr.next  # Save the next node\n",
    "        \n",
    "        # Reverse the next pointer of the current node\n",
    "        curr.next = prev\n",
    "        \n",
    "        # Move to the next nodes\n",
    "        prev = curr\n",
    "        curr = nxt\n",
    "    \n",
    "    # After the loop, 'prev' points to the new head of the reversed linked list\n",
    "    return prev\n"
   ]
  },
  {
   "cell_type": "markdown",
   "id": "c43a9e8e",
   "metadata": {},
   "source": [
    "## Reverse Linked List (Recursive)"
   ]
  },
  {
   "cell_type": "code",
   "execution_count": 4,
   "id": "367f617d",
   "metadata": {
    "ExecuteTime": {
     "end_time": "2023-11-19T14:27:00.200390Z",
     "start_time": "2023-11-19T14:27:00.181122Z"
    }
   },
   "outputs": [],
   "source": [
    "def reverseLinkedList(head):\n",
    "    # Define a helper function for recursion\n",
    "    def reverse(prev, head):\n",
    "        # Base case: if the current node is None, return the previous node\n",
    "        if head is None:\n",
    "            return prev\n",
    "        else:\n",
    "            nxt = head.next  # Save the next node\n",
    "            head.next = prev  # Reverse the next pointer of the current node\n",
    "            prev = head  # Move the previous pointer to the current node\n",
    "            head = nxt  # Move the current pointer to the next node\n",
    "            # Recursive call to reverse the remaining part of the linked list\n",
    "            return reverse(prev, head)\n",
    "    \n",
    "    # Start the recursion with initial values for prev and head\n",
    "    return reverse(None, head)"
   ]
  },
  {
   "cell_type": "markdown",
   "id": "1c41a059",
   "metadata": {},
   "source": [
    "## Detect Cycle"
   ]
  },
  {
   "cell_type": "markdown",
   "id": "776cbbc3",
   "metadata": {},
   "source": [
    "### By Using HashMap\n",
    "This code defines a method within a class (`Solution`) that checks whether a linked list has a cycle using a hash table. The method, `hasCycle`, returns `True` if a cycle is detected and `False` otherwise. It uses a dictionary (`mp`) to keep track of visited nodes.\n",
    "\n",
    "Here's the code with added comments for better understanding:\n",
    "\n",
    "\n",
    "Explanation of key points:\n",
    "\n",
    "- **Initialization:** The function starts with an empty dictionary (`mp`), a counter (`count`), and a pointer (`curr`) at the head of the linked list.\n",
    "\n",
    "- **Traverse the Linked List:** The function traverses the linked list, storing each node and its corresponding index in the dictionary.\n",
    "\n",
    "- **Cycle Detection:** If a node is encountered that is already in the dictionary, it means a cycle is detected, and the function returns `True`.\n",
    "\n",
    "- **Return:** If the traversal completes without detecting a cycle, the function returns `False`.\n",
    "\n",
    "Note: This solution uses extra space to store the nodes in a dictionary, and there are more memory-efficient approaches, such as using the slow and fast pointer technique.\n",
    "\n",
    "If you have any further questions or need additional clarification, feel free to ask!"
   ]
  },
  {
   "cell_type": "code",
   "execution_count": 14,
   "id": "7914c166",
   "metadata": {
    "ExecuteTime": {
     "end_time": "2023-11-19T16:53:40.719933Z",
     "start_time": "2023-11-19T16:53:40.703721Z"
    }
   },
   "outputs": [],
   "source": [
    "class Solution:\n",
    "    def hasCycle(self, head: Optional[ListNode]) -> bool:\n",
    "        \"\"\"\n",
    "        Checks whether a linked list has a cycle.\n",
    "\n",
    "        Parameters:\n",
    "        - head: The head of the linked list.\n",
    "\n",
    "        Returns:\n",
    "        - True if a cycle is detected, False otherwise.\n",
    "        \"\"\"\n",
    "\n",
    "        mp = {}  # A dictionary to store nodes and their corresponding indices\n",
    "        count = 0  # Counter to keep track of the index\n",
    "        curr = head  # Start at the head of the linked list\n",
    "\n",
    "        # Traverse the linked list\n",
    "        while curr:\n",
    "            # Check if the current node is already in the dictionary\n",
    "            if curr not in mp:\n",
    "                mp[curr] = count  # Store the current node and its index in the dictionary\n",
    "            else:\n",
    "                return True  # If the current node is already in the dictionary, a cycle is detected\n",
    "\n",
    "            count += 1  # Increment the index\n",
    "            curr = curr.next  # Move to the next node\n",
    "\n",
    "        return False  # Return False if no cycle is detected in the linked list"
   ]
  },
  {
   "cell_type": "markdown",
   "id": "35fb18d7",
   "metadata": {
    "ExecuteTime": {
     "end_time": "2023-11-19T16:56:51.471756Z",
     "start_time": "2023-11-19T16:56:51.426180Z"
    }
   },
   "source": [
    "### Floyd's cycle-finding algorithm (tortoise and hare algorithm)\n",
    "Code is an implementation of Floyd's cycle-finding algorithm (tortoise and hare algorithm) to detect a cycle in a linked list. The function `detectCycle` takes the head of a linked list as input and returns `1` if a cycle is detected and `0` otherwise.\n",
    "\n",
    "Here's the code with added comments for better understanding:\n"
   ]
  },
  {
   "cell_type": "code",
   "execution_count": 15,
   "id": "3be66490",
   "metadata": {
    "ExecuteTime": {
     "end_time": "2023-11-19T16:55:40.022520Z",
     "start_time": "2023-11-19T16:55:40.008968Z"
    }
   },
   "outputs": [],
   "source": [
    "def detectCycle(head):\n",
    "    \"\"\"\n",
    "    Detects a cycle in a linked list using Floyd's cycle-finding algorithm.\n",
    "\n",
    "    Parameters:\n",
    "    - head: The head of the linked list.\n",
    "\n",
    "    Returns:\n",
    "    - 1 if a cycle is detected, 0 otherwise.\n",
    "    \"\"\"\n",
    "\n",
    "    # Initialize fast and slow pointers to the head of the linked list\n",
    "    fast = head\n",
    "    slow = head\n",
    "    \n",
    "    # Iterate until either fast reaches the end or a cycle is detected\n",
    "    while fast is not None and fast.next is not None:\n",
    "        fast = fast.next.next  # Move fast by two steps\n",
    "        slow = slow.next  # Move slow by one step\n",
    "        \n",
    "        # Check for a cycle\n",
    "        if fast == slow:\n",
    "            return 1  # Return 1 if a cycle is detected\n",
    "    \n",
    "    # If the loop completes without finding a cycle, return 0\n",
    "    return 0  # Return 0 if no cycle is detected"
   ]
  },
  {
   "cell_type": "code",
   "execution_count": 17,
   "id": "f9b79391",
   "metadata": {
    "ExecuteTime": {
     "end_time": "2023-11-19T17:00:08.777523Z",
     "start_time": "2023-11-19T17:00:08.756667Z"
    }
   },
   "outputs": [],
   "source": [
    "def detectCycle(head):\n",
    "    \"\"\"\n",
    "    Detects a cycle in a linked list using Floyd's cycle-finding algorithm.\n",
    "\n",
    "    Parameters:\n",
    "    - head: The head of the linked list.\n",
    "\n",
    "    Returns:\n",
    "    - 1 if a cycle is detected, 0 otherwise.\n",
    "    \"\"\"\n",
    "\n",
    "    # Initialize fast and slow pointers\n",
    "    fast = head.next\n",
    "    slow = head\n",
    "    \n",
    "    # Iterate until either fast reaches the end or a cycle is detected\n",
    "    while fast is not None and fast != slow:\n",
    "        fast = fast.next.next if fast.next else None  # Move fast by two steps if possible\n",
    "        slow = slow.next  # Move slow by one step\n",
    "        \n",
    "        # Check for a cycle\n",
    "        if fast == slow:\n",
    "            return 1  # Return 1 if a cycle is detected\n",
    "    \n",
    "    # If the loop completes without finding a cycle, return 0\n",
    "    return 0  # Return 0 if no cycle is detected\n"
   ]
  },
  {
   "cell_type": "markdown",
   "id": "a1be3d21",
   "metadata": {},
   "source": [
    "## Find Starting Point in LL"
   ]
  },
  {
   "cell_type": "markdown",
   "id": "3e944c71",
   "metadata": {
    "ExecuteTime": {
     "end_time": "2023-11-19T17:20:49.251687Z",
     "start_time": "2023-11-19T17:20:49.229083Z"
    }
   },
   "source": [
    "### By using Set \n",
    "\n",
    "Certainly! The provided code is an attempt to detect a cycle in a linked list using a set (`setV`) to keep track of visited nodes. The `detectCycle` method is part of a class (`Solution`) and takes the head of a linked list as input. If a cycle is detected, it returns the node where the cycle begins; otherwise, it returns `None`.\n",
    "\n"
   ]
  },
  {
   "cell_type": "code",
   "execution_count": 21,
   "id": "4dbd09e2",
   "metadata": {
    "ExecuteTime": {
     "end_time": "2023-11-19T17:21:06.313046Z",
     "start_time": "2023-11-19T17:21:06.296773Z"
    }
   },
   "outputs": [],
   "source": [
    "class Solution:\n",
    "    def detectCycle(self, head: Optional[ListNode]) -> Optional[ListNode]:\n",
    "        \"\"\"\n",
    "        Detects the starting node of a cycle in a linked list using a set.\n",
    "\n",
    "        Parameters:\n",
    "        - head: The head of the linked list.\n",
    "\n",
    "        Returns:\n",
    "        - The starting node of the cycle if detected, None otherwise.\n",
    "        \"\"\"\n",
    "\n",
    "        setV = set()  # A set to store visited nodes\n",
    "        curr = head  # Start at the head of the linked list\n",
    "\n",
    "        # Traverse the linked list\n",
    "        while curr:\n",
    "            # Check if the current node is already in the set\n",
    "            if curr not in setV:\n",
    "                setV.add(curr)  # Add the current node to the set\n",
    "            else:\n",
    "                return curr  # If the current node is already in the set, a cycle is detected\n",
    "\n",
    "            curr = curr.next  # Move to the next node\n",
    "\n",
    "        return None  # Return None if no cycle is detected in the linked list"
   ]
  },
  {
   "cell_type": "markdown",
   "id": "4426d679",
   "metadata": {},
   "source": [
    "### By Using HashMap\n",
    "The provided code is a part of a solution to detect a cycle in a linked list using a hash table to store visited nodes. The `detectCycle` method is part of a class (`Solution`) and takes the head of a linked list as input. If a cycle is detected, it returns the node where the cycle begins; otherwise, it returns `None`.\n"
   ]
  },
  {
   "cell_type": "code",
   "execution_count": 18,
   "id": "ae0380b4",
   "metadata": {
    "ExecuteTime": {
     "end_time": "2023-11-19T17:01:01.752032Z",
     "start_time": "2023-11-19T17:01:01.726770Z"
    }
   },
   "outputs": [],
   "source": [
    "from typing import *\n",
    "class ListNode:\n",
    "    def __init__(self, x):\n",
    "        self.val = x\n",
    "        self.next = None\n",
    "class Solution:\n",
    "    def detectCycle(self, head: Optional[ListNode]) -> Optional[ListNode]:\n",
    "        \"\"\"\n",
    "        Detects the starting node of a cycle in a linked list.\n",
    "\n",
    "        Parameters:\n",
    "        - head: The head of the linked list.\n",
    "\n",
    "        Returns:\n",
    "        - The starting node of the cycle if detected, None otherwise.\n",
    "        \"\"\"\n",
    "\n",
    "        mp = {}  # A dictionary to store nodes and their corresponding indices\n",
    "        count = 0  # Counter to keep track of the index\n",
    "        curr = head  # Start at the head of the linked list\n",
    "        \n",
    "        # Traverse the linked list\n",
    "        while curr:\n",
    "            # Check if the current node is already in the dictionary\n",
    "            if curr not in mp:\n",
    "                mp[curr] = count  # Store the current node and its index in the dictionary\n",
    "            else:\n",
    "                return curr  # If the current node is already in the dictionary, a cycle is detected\n",
    "            \n",
    "            count += 1  # Increment the index\n",
    "            curr = curr.next  # Move to the next node\n",
    "        \n",
    "        return None  # Return None if no cycle is detected in the linked list"
   ]
  },
  {
   "cell_type": "markdown",
   "id": "df0d70c2",
   "metadata": {},
   "source": [
    "### By using SLow fast Approach\n",
    "\n",
    "Certainly! The provided code is an implementation of Floyd's cycle-finding algorithm (tortoise and hare algorithm) to detect a cycle in a linked list. The `detectCycle` method is part of a class (`Solution`) and takes the head of a linked list as input. If a cycle is detected, it returns the node where the cycle begins; otherwise, it returns `None`. This implementation uses two pointers, one moving at twice the speed of the other, to detect a cycle efficiently.\n",
    "\n",
    "* The algorithm is divided into two parts\n",
    "    1. Find the if the cycle exist or not\n",
    "    2. If yes then go to starting point by increasing start and entry pointer\n",
    "\n",
    "Here's the code with added comments for better understanding:\n"
   ]
  },
  {
   "cell_type": "code",
   "execution_count": 23,
   "id": "3540963c",
   "metadata": {
    "ExecuteTime": {
     "end_time": "2023-11-19T18:14:52.295748Z",
     "start_time": "2023-11-19T18:14:52.281490Z"
    }
   },
   "outputs": [],
   "source": [
    "class Solution:\n",
    "    def detectCycle(self, head: Optional[ListNode]) -> Optional[ListNode]:\n",
    "        \"\"\"\n",
    "        Detects the starting node of a cycle in a linked list using Floyd's cycle-finding algorithm.\n",
    "\n",
    "        Parameters:\n",
    "        - head: The head of the linked list.\n",
    "\n",
    "        Returns:\n",
    "        - The starting node of the cycle if detected, None otherwise.\n",
    "        \"\"\"\n",
    "\n",
    "        # Check if the linked list is empty or has only one node\n",
    "        if head is None or head.next is None:\n",
    "            return None\n",
    "\n",
    "        curr = head\n",
    "        fast = curr\n",
    "        slow = curr\n",
    "        entry = curr\n",
    "\n",
    "        # Iterate until either fast reaches the end or a cycle is detected\n",
    "        while fast.next and fast.next.next:\n",
    "            slow = slow.next\n",
    "            fast = fast.next.next\n",
    "\n",
    "            # Check for a cycle\n",
    "            if slow == fast:\n",
    "                # Move one pointer to the head and iterate until they meet at the entry point\n",
    "                while slow != entry:\n",
    "                    entry = entry.next\n",
    "                    slow = slow.next\n",
    "                return entry  # Return the starting node of the cycle\n",
    "\n",
    "        return None  # Return None if no cycle is detected in the linked list"
   ]
  },
  {
   "cell_type": "markdown",
   "id": "67a5e4ff",
   "metadata": {},
   "source": [
    "## Length Of a Loop"
   ]
  },
  {
   "cell_type": "markdown",
   "id": "7c472f66",
   "metadata": {},
   "source": [
    "### By Using Counter Method and HashMap\n",
    "\n",
    "he given code is attempting to find the length of a loop in a linked list. It uses a hash table (mp) to keep track of visited nodes and detect the start of a loop. Once a loop is detected, the code iterates again from the start of the loop to find its length."
   ]
  },
  {
   "cell_type": "code",
   "execution_count": 24,
   "id": "d866fb32",
   "metadata": {
    "ExecuteTime": {
     "end_time": "2023-11-19T18:39:41.412239Z",
     "start_time": "2023-11-19T18:39:41.248321Z"
    }
   },
   "outputs": [
    {
     "ename": "NameError",
     "evalue": "name 'Node' is not defined",
     "output_type": "error",
     "traceback": [
      "\u001b[1;31m---------------------------------------------------------------------------\u001b[0m",
      "\u001b[1;31mNameError\u001b[0m                                 Traceback (most recent call last)",
      "Cell \u001b[1;32mIn[24], line 1\u001b[0m\n\u001b[1;32m----> 1\u001b[0m \u001b[38;5;28;01mdef\u001b[39;00m \u001b[38;5;21mlengthOfLoop\u001b[39m(head: \u001b[43mNode\u001b[49m) \u001b[38;5;241m-\u001b[39m\u001b[38;5;241m>\u001b[39m \u001b[38;5;28mint\u001b[39m:\n\u001b[0;32m      2\u001b[0m \u001b[38;5;250m    \u001b[39m\u001b[38;5;124;03m\"\"\"\u001b[39;00m\n\u001b[0;32m      3\u001b[0m \u001b[38;5;124;03m    Finds the length of a loop in a linked list.\u001b[39;00m\n\u001b[0;32m      4\u001b[0m \n\u001b[1;32m   (...)\u001b[0m\n\u001b[0;32m      9\u001b[0m \u001b[38;5;124;03m    - The length of the loop if present, 0 otherwise.\u001b[39;00m\n\u001b[0;32m     10\u001b[0m \u001b[38;5;124;03m    \"\"\"\u001b[39;00m\n\u001b[0;32m     12\u001b[0m     count \u001b[38;5;241m=\u001b[39m \u001b[38;5;241m0\u001b[39m  \u001b[38;5;66;03m# Counter to keep track of the total number of nodes visited\u001b[39;00m\n",
      "\u001b[1;31mNameError\u001b[0m: name 'Node' is not defined"
     ]
    }
   ],
   "source": [
    "def lengthOfLoop(head: Node) -> int:\n",
    "    \"\"\"\n",
    "    Finds the length of a loop in a linked list.\n",
    "\n",
    "    Parameters:\n",
    "    - head: The head of the linked list.\n",
    "\n",
    "    Returns:\n",
    "    - The length of the loop if present, 0 otherwise.\n",
    "    \"\"\"\n",
    "\n",
    "    count = 0  # Counter to keep track of the total number of nodes visited\n",
    "    curr = head  # Start at the head of the linked list\n",
    "    mp = {}  # A dictionary to store visited nodes and their indices\n",
    "    ans = 0  # Variable to store the length of the loop\n",
    "\n",
    "    # Traverse the linked list\n",
    "    while curr:\n",
    "        # Check if the current node is already in the dictionary\n",
    "        if curr not in mp:\n",
    "            mp[curr] = count  # Store the current node and its index in the dictionary\n",
    "            count += 1  # Increment the counter\n",
    "            curr = curr.next  # Move to the next node\n",
    "        else:\n",
    "            start = curr  # Mark the start of the loop\n",
    "            while curr:\n",
    "                ans += 1  # Increment the length of the loop\n",
    "                curr = curr.next  # Move to the next node\n",
    "                if start == curr:\n",
    "                    return ans  # Return the length of the loop if back at the start\n",
    "\n",
    "    return ans  # Return 0 if no loop is detected in the linked list\n"
   ]
  },
  {
   "cell_type": "markdown",
   "id": "818a8086",
   "metadata": {},
   "source": [
    "### By using Starting Point of loop method"
   ]
  },
  {
   "cell_type": "code",
   "execution_count": 2,
   "id": "336a7093",
   "metadata": {
    "ExecuteTime": {
     "end_time": "2023-11-23T06:24:03.494423Z",
     "start_time": "2023-11-23T06:24:03.460673Z"
    }
   },
   "outputs": [
    {
     "ename": "NameError",
     "evalue": "name 'Node' is not defined",
     "output_type": "error",
     "traceback": [
      "\u001b[1;31m---------------------------------------------------------------------------\u001b[0m",
      "\u001b[1;31mNameError\u001b[0m                                 Traceback (most recent call last)",
      "Cell \u001b[1;32mIn[2], line 1\u001b[0m\n\u001b[1;32m----> 1\u001b[0m \u001b[38;5;28;01mdef\u001b[39;00m \u001b[38;5;21mlengthOfLoop\u001b[39m(head: \u001b[43mNode\u001b[49m) \u001b[38;5;241m-\u001b[39m\u001b[38;5;241m>\u001b[39m \u001b[38;5;28mint\u001b[39m:\n\u001b[0;32m      2\u001b[0m     \u001b[38;5;66;03m# initialize the pointers\u001b[39;00m\n\u001b[0;32m      3\u001b[0m     slow , fast \u001b[38;5;241m=\u001b[39m head, head\n\u001b[0;32m      4\u001b[0m     entry \u001b[38;5;241m=\u001b[39m head\n",
      "\u001b[1;31mNameError\u001b[0m: name 'Node' is not defined"
     ]
    }
   ],
   "source": [
    "def lengthOfLoop(head: Node) -> int:\n",
    "    # initialize the pointers\n",
    "    slow , fast = head, head\n",
    "    entry = head\n",
    "    count = 0\n",
    "    # get the condition for cycle exist or not\n",
    "    while fast.next and fast.next.next:\n",
    "        fast = fast.next.next\n",
    "        slow = slow.next\n",
    "        # if yes cycle exists\n",
    "        if fast == slow:\n",
    "            # check for starting point\n",
    "            while entry != slow:\n",
    "                entry = entry.next\n",
    "                slow = slow.next\n",
    "            # if at the starting point go till next to\n",
    "            # until it again comes to slow pointer\n",
    "            # count the number of steps\n",
    "            count += 1\n",
    "            entry = entry.next\n",
    "            while slow != entry:\n",
    "                entry = entry.next\n",
    "                count += 1\n",
    "            return count\n",
    "    return 0"
   ]
  },
  {
   "cell_type": "markdown",
   "id": "dcc42065",
   "metadata": {},
   "source": [
    "## Check If Linked List Is Palindrome\n",
    "\n"
   ]
  },
  {
   "cell_type": "markdown",
   "id": "2323bf8f",
   "metadata": {},
   "source": [
    "### By using Arrays\n",
    "The given code is attempting to determine whether a linked list is a palindrome. It does so by first traversing the linked list, storing its elements in an array, and then checking if the array is a palindrome. The palindrome check is performed by comparing elements from the beginning and end of the array."
   ]
  },
  {
   "cell_type": "code",
   "execution_count": 1,
   "id": "6b598959",
   "metadata": {
    "ExecuteTime": {
     "end_time": "2023-11-20T14:01:55.493353Z",
     "start_time": "2023-11-20T14:01:55.452740Z"
    }
   },
   "outputs": [],
   "source": [
    "def isPalindrome(head):\n",
    "    \"\"\"\n",
    "    Checks if a linked list is a palindrome.\n",
    "\n",
    "    Parameters:\n",
    "    - head: The head of the linked list.\n",
    "\n",
    "    Returns:\n",
    "    - True if the linked list is a palindrome, False otherwise.\n",
    "    \"\"\"\n",
    "\n",
    "    arr = []  # List to store elements of the linked list\n",
    "    curr = head  # Start at the head of the linked list\n",
    "\n",
    "    # Traverse the linked list and store elements in the array\n",
    "    while curr:\n",
    "        arr.append(curr.data)\n",
    "        curr = curr.next\n",
    "\n",
    "    start = 0  # Index for the start of the array\n",
    "    end = len(arr) - 1  # Index for the end of the array\n",
    "\n",
    "    # Check if the array is a palindrome\n",
    "    while start <= end:\n",
    "        if arr[start] != arr[end]:\n",
    "            return False  # If elements don't match, the linked list is not a palindrome\n",
    "        start += 1\n",
    "        end -= 1\n",
    "\n",
    "    return True  # If all elements match, the linked list is a palindrome"
   ]
  },
  {
   "cell_type": "markdown",
   "id": "246800e5",
   "metadata": {},
   "source": [
    "### By Using Reverse LL\n",
    "\n",
    "The provided code is attempting to check whether a linked list is a palindrome. It does so by creating a reversed version of the linked list and then comparing the elements of the original and reversed lists. The reversal is achieved by manipulating the next pointers of the nodes."
   ]
  },
  {
   "cell_type": "code",
   "execution_count": 2,
   "id": "c3798732",
   "metadata": {
    "ExecuteTime": {
     "end_time": "2023-11-20T14:13:13.101288Z",
     "start_time": "2023-11-20T14:13:13.084676Z"
    }
   },
   "outputs": [],
   "source": [
    "from copy import deepcopy\n",
    "\n",
    "def isPalindrome(head):\n",
    "    \"\"\"\n",
    "    Checks if a linked list is a palindrome.\n",
    "\n",
    "    Parameters:\n",
    "    - head: The head of the linked list.\n",
    "\n",
    "    Returns:\n",
    "    - True if the linked list is a palindrome, False otherwise.\n",
    "    \"\"\"\n",
    "\n",
    "    # Create a deep copy of the linked list to reverse it\n",
    "    rev_head = deepcopy(head)\n",
    "    \n",
    "    # Reverse the copied linked list\n",
    "    curr = rev_head\n",
    "    prev = None\n",
    "    while curr:\n",
    "        nxt = curr.next\n",
    "        curr.next = prev\n",
    "        prev = curr\n",
    "        curr = nxt\n",
    "    rev_head = prev\n",
    "    \n",
    "    # Compare elements of the original and reversed linked lists\n",
    "    curr_start = head\n",
    "    curr_end = rev_head\n",
    "    while curr_start and curr_end:\n",
    "        if curr_start.data != curr_end.data:\n",
    "            return False\n",
    "        curr_start = curr_start.next\n",
    "        curr_end = curr_end.next\n",
    "\n",
    "    return True"
   ]
  },
  {
   "cell_type": "markdown",
   "id": "5216b522",
   "metadata": {},
   "source": [
    "### By using 3 Steps\n",
    "\n",
    "The provided code is attempting to determine whether a linked list is a palindrome. It utilizes the slow and fast pointer technique to find the middle of the linked list, reverses the second half, and then compares the elements of the first and reversed second halves to check for palindromic properties.\n",
    "\n",
    "    - Use slow and fast pointers to find the middle of the linked list.\n",
    "    - Reverse the second half of the linked list.\n",
    "    - Compare the elements of the first and reversed second halves."
   ]
  },
  {
   "cell_type": "code",
   "execution_count": 4,
   "id": "d884cdf1",
   "metadata": {
    "ExecuteTime": {
     "end_time": "2023-11-20T14:46:52.834945Z",
     "start_time": "2023-11-20T14:46:52.822306Z"
    }
   },
   "outputs": [],
   "source": [
    "def isPalindrome(head):\n",
    "    \"\"\"\n",
    "    Checks if a linked list is a palindrome.\n",
    "\n",
    "    Quick Summary:\n",
    "    - Use slow and fast pointers to find the middle of the linked list.\n",
    "    - Reverse the second half of the linked list.\n",
    "    - Compare the elements of the first and reversed second halves.\n",
    "\n",
    "    Parameters:\n",
    "    - head: The head of the linked list.\n",
    "\n",
    "    Returns:\n",
    "    - True if the linked list is a palindrome, False otherwise.\n",
    "    \"\"\"\n",
    "\n",
    "    curr = head\n",
    "    slow = head\n",
    "    fast = head\n",
    "    dummy = head\n",
    "\n",
    "    # Use slow and fast pointers to find the middle of the linked list\n",
    "    while fast.next and fast.next.next:\n",
    "        slow = slow.next\n",
    "        fast = fast.next.next\n",
    "    \n",
    "    rev_pointer = slow.next\n",
    "    prev = None\n",
    "\n",
    "    # Reverse the second half of the linked list\n",
    "    while rev_pointer:\n",
    "        nxt = rev_pointer.next\n",
    "        rev_pointer.next = prev\n",
    "        prev = rev_pointer\n",
    "        rev_pointer = nxt\n",
    "    \n",
    "    slow.next = prev\n",
    "\n",
    "    # Compare the elements of the first and reversed second halves\n",
    "    slow = slow.next\n",
    "    while slow:\n",
    "        if slow.data != dummy.data:\n",
    "            return False\n",
    "        else:\n",
    "            slow = slow.next\n",
    "            dummy = dummy.next\n",
    "    \n",
    "    return True\n"
   ]
  },
  {
   "cell_type": "markdown",
   "id": "5ff2adeb",
   "metadata": {},
   "source": [
    "## Segregate Even And Odd Nodes In a Linked List\n",
    "\n",
    "\n",
    "\n"
   ]
  },
  {
   "cell_type": "markdown",
   "id": "e3d3e6d8",
   "metadata": {},
   "source": [
    "### By using 2 sepearate Linked List for Odd and Even\n",
    "\n",
    "The given code is segregating even and odd nodes from a linked list into two separate linked lists. It creates two new linked lists (`head_even` for even nodes and `head_odd` for odd nodes), iterates through the original linked list, and appends nodes to their respective new linked lists based on whether the data is even or odd. Finally, it connects the even and odd lists and returns the head of the modified linked list.\n"
   ]
  },
  {
   "cell_type": "code",
   "execution_count": 6,
   "id": "67a66afe",
   "metadata": {
    "ExecuteTime": {
     "end_time": "2023-11-20T15:17:28.082021Z",
     "start_time": "2023-11-20T15:17:28.058545Z"
    }
   },
   "outputs": [],
   "source": [
    "def segregateEvenOdd(head):\n",
    "    \"\"\"\n",
    "    Segregates even and odd nodes from a linked list into two separate linked lists.\n",
    "\n",
    "    Quick Summary:\n",
    "    - Create two new linked lists for even and odd nodes.\n",
    "    - Iterate through the original linked list and append nodes to the respective new linked lists.\n",
    "    - Connect the even and odd lists.\n",
    "\n",
    "    Parameters:\n",
    "    - head: The head of the original linked list.\n",
    "\n",
    "    Returns:\n",
    "    - The head of the modified linked list with even and odd nodes segregated.\n",
    "    \"\"\"\n",
    "\n",
    "    # Create two new linked lists for even and odd nodes\n",
    "    head_even = Node(2)\n",
    "    head_odd = Node(1)\n",
    "\n",
    "    curr = head\n",
    "    curr_even = head_even\n",
    "    curr_odd = head_odd\n",
    "\n",
    "    # Iterate through the original linked list\n",
    "    while curr:\n",
    "        # Append nodes to the respective new linked lists based on whether the data is even or odd\n",
    "        if curr.data % 2 == 1:\n",
    "            curr_odd.next = Node(curr.data)\n",
    "            curr_odd = curr_odd.next\n",
    "        else:\n",
    "            curr_even.next = Node(curr.data)\n",
    "            curr_even = curr_even.next\n",
    "\n",
    "        curr = curr.next\n",
    "\n",
    "    # Connect the even and odd lists\n",
    "    curr_even.next = head_odd.next\n",
    "\n",
    "    # Return the head of the modified linked list with even and odd nodes segregated\n",
    "    return head_even.next"
   ]
  },
  {
   "cell_type": "markdown",
   "id": "c67b4b05",
   "metadata": {},
   "source": [
    "### By using Queue\n",
    "\n",
    "    Quick Summary:\n",
    "    - Create two queues for even and odd nodes.\n",
    "    - Iterate through the original linked list, enqueueing nodes into the respective queues.\n",
    "    - Dequeue elements to create a new linked list with segregated even and odd nodes."
   ]
  },
  {
   "cell_type": "code",
   "execution_count": 20,
   "id": "b34a904d",
   "metadata": {
    "ExecuteTime": {
     "end_time": "2023-11-20T15:48:42.816061Z",
     "start_time": "2023-11-20T15:48:42.799725Z"
    }
   },
   "outputs": [],
   "source": [
    "from collections import deque\n",
    "\n",
    "def segregateEvenOdd(head):\n",
    "    \"\"\"\n",
    "    Segregates even and odd nodes from a linked list into two separate linked lists using queues.\n",
    "\n",
    "    Quick Summary:\n",
    "    - Create two queues for even and odd nodes.\n",
    "    - Iterate through the original linked list, enqueueing nodes into the respective queues.\n",
    "    - Dequeue elements to create a new linked list with segregated even and odd nodes.\n",
    "\n",
    "    Parameters:\n",
    "    - head: The head of the original linked list.\n",
    "\n",
    "    Returns:\n",
    "    - The head of the modified linked list with even and odd nodes segregated.\n",
    "    \"\"\"\n",
    "\n",
    "    # Create two queues for even and odd nodes\n",
    "    queue_odd = deque()\n",
    "    queue_even = deque()\n",
    "\n",
    "    curr = head\n",
    "\n",
    "    # Iterate through the original linked list, enqueueing nodes into the respective queues\n",
    "    while curr:\n",
    "        if curr.data % 2 == 1:\n",
    "            queue_odd.append(curr.data)\n",
    "        else:\n",
    "            queue_even.append(curr.data)\n",
    "        curr = curr.next\n",
    "\n",
    "    # Create a new linked list and dequeue elements to segregate even and odd nodes\n",
    "    new_head = Node(0)\n",
    "    curr = new_head\n",
    "\n",
    "    while queue_even:\n",
    "        curr.next = Node(queue_even.popleft())\n",
    "        curr = curr.next\n",
    "\n",
    "    while queue_odd:\n",
    "        curr.next = Node(queue_odd.popleft())\n",
    "        curr = curr.next\n",
    "\n",
    "    # Return the head of the modified linked list with even and odd nodes segregated\n",
    "    return new_head.next"
   ]
  },
  {
   "cell_type": "markdown",
   "id": "d25a2cab",
   "metadata": {},
   "source": [
    "## Odd Even Linked List\n",
    "\n",
    "\n",
    "\n",
    "The provided code is for a method oddEvenList in a class. It takes the head of a linked list as input and rearranges the nodes such that all odd-indexed nodes appear before even-indexed nodes. The order of the nodes within each index remains the same.\n",
    "\n",
    "        - Use two pointers, `odd` and `even`, to traverse and rearrange the linked list.\n",
    "        - Adjust the next pointers of nodes to achieve the desired order.\n",
    "        \n",
    "        "
   ]
  },
  {
   "cell_type": "code",
   "execution_count": 22,
   "id": "494a931b",
   "metadata": {
    "ExecuteTime": {
     "end_time": "2023-11-20T16:41:08.707271Z",
     "start_time": "2023-11-20T16:41:08.700275Z"
    }
   },
   "outputs": [],
   "source": [
    "from typing import *"
   ]
  },
  {
   "cell_type": "code",
   "execution_count": 24,
   "id": "2506f07c",
   "metadata": {
    "ExecuteTime": {
     "end_time": "2023-11-20T16:41:23.876497Z",
     "start_time": "2023-11-20T16:41:23.794830Z"
    }
   },
   "outputs": [
    {
     "ename": "NameError",
     "evalue": "name 'ListNode' is not defined",
     "output_type": "error",
     "traceback": [
      "\u001b[1;31m---------------------------------------------------------------------------\u001b[0m",
      "\u001b[1;31mNameError\u001b[0m                                 Traceback (most recent call last)",
      "Cell \u001b[1;32mIn[24], line 1\u001b[0m\n\u001b[1;32m----> 1\u001b[0m \u001b[38;5;28;01mclass\u001b[39;00m \u001b[38;5;21;01mSolution\u001b[39;00m:\n\u001b[0;32m      2\u001b[0m     \u001b[38;5;28;01mdef\u001b[39;00m \u001b[38;5;21moddEvenList\u001b[39m(\u001b[38;5;28mself\u001b[39m, head: Optional[ListNode]) \u001b[38;5;241m-\u001b[39m\u001b[38;5;241m>\u001b[39m Optional[ListNode]:\n\u001b[0;32m      3\u001b[0m \u001b[38;5;250m        \u001b[39m\u001b[38;5;124;03m\"\"\"\u001b[39;00m\n\u001b[0;32m      4\u001b[0m \u001b[38;5;124;03m        Rearranges a linked list such that all odd-indexed nodes appear before even-indexed nodes.\u001b[39;00m\n\u001b[0;32m      5\u001b[0m \n\u001b[1;32m   (...)\u001b[0m\n\u001b[0;32m     14\u001b[0m \u001b[38;5;124;03m        - The head of the modified linked list.\u001b[39;00m\n\u001b[0;32m     15\u001b[0m \u001b[38;5;124;03m        \"\"\"\u001b[39;00m\n",
      "Cell \u001b[1;32mIn[24], line 2\u001b[0m, in \u001b[0;36mSolution\u001b[1;34m()\u001b[0m\n\u001b[0;32m      1\u001b[0m \u001b[38;5;28;01mclass\u001b[39;00m \u001b[38;5;21;01mSolution\u001b[39;00m:\n\u001b[1;32m----> 2\u001b[0m     \u001b[38;5;28;01mdef\u001b[39;00m \u001b[38;5;21moddEvenList\u001b[39m(\u001b[38;5;28mself\u001b[39m, head: Optional[\u001b[43mListNode\u001b[49m]) \u001b[38;5;241m-\u001b[39m\u001b[38;5;241m>\u001b[39m Optional[ListNode]:\n\u001b[0;32m      3\u001b[0m \u001b[38;5;250m        \u001b[39m\u001b[38;5;124;03m\"\"\"\u001b[39;00m\n\u001b[0;32m      4\u001b[0m \u001b[38;5;124;03m        Rearranges a linked list such that all odd-indexed nodes appear before even-indexed nodes.\u001b[39;00m\n\u001b[0;32m      5\u001b[0m \n\u001b[1;32m   (...)\u001b[0m\n\u001b[0;32m     14\u001b[0m \u001b[38;5;124;03m        - The head of the modified linked list.\u001b[39;00m\n\u001b[0;32m     15\u001b[0m \u001b[38;5;124;03m        \"\"\"\u001b[39;00m\n\u001b[0;32m     17\u001b[0m         \u001b[38;5;66;03m# Check if the linked list is empty\u001b[39;00m\n",
      "\u001b[1;31mNameError\u001b[0m: name 'ListNode' is not defined"
     ]
    }
   ],
   "source": [
    "class Solution:\n",
    "    def oddEvenList(self, head: Optional[ListNode]) -> Optional[ListNode]:\n",
    "        \"\"\"\n",
    "        Rearranges a linked list such that all odd-indexed nodes appear before even-indexed nodes.\n",
    "\n",
    "        Quick Summary:\n",
    "        - Use two pointers, `odd` and `even`, to traverse and rearrange the linked list.\n",
    "        - Adjust the next pointers of nodes to achieve the desired order.\n",
    "\n",
    "        Parameters:\n",
    "        - head: The head of the linked list.\n",
    "\n",
    "        Returns:\n",
    "        - The head of the modified linked list.\n",
    "        \"\"\"\n",
    "\n",
    "        # Check if the linked list is empty\n",
    "        if not head:\n",
    "            return None\n",
    "\n",
    "        # Initialize pointers for odd and even nodes\n",
    "        odd = head\n",
    "        even = evenHead = head.next\n",
    "\n",
    "        # Traverse and rearrange the linked list\n",
    "        while even and even.next:\n",
    "            # Update the next pointer of odd node\n",
    "            odd.next = odd.next.next\n",
    "            odd = odd.next\n",
    "\n",
    "            # Update the next pointer of even node\n",
    "            even.next = even.next.next\n",
    "            even = even.next\n",
    "\n",
    "        # Connect the last odd node to the head of even nodes\n",
    "        odd.next = evenHead\n",
    "\n",
    "        # Return the head of the modified linked list\n",
    "        return head"
   ]
  },
  {
   "cell_type": "markdown",
   "id": "05212008",
   "metadata": {},
   "source": [
    "## Delete Kth Node From End\n",
    "\n",
    "\n",
    "The provided code is for a method removeNthFromEnd in a class. It removes the n-th node from the end of a singly-linked list in one pass. It uses two pointers, curr and nodeB, to traverse the linked list efficiently and removes the desired node."
   ]
  },
  {
   "cell_type": "code",
   "execution_count": 26,
   "id": "e663ca81",
   "metadata": {
    "ExecuteTime": {
     "end_time": "2023-11-20T18:06:24.582780Z",
     "start_time": "2023-11-20T18:06:24.518360Z"
    }
   },
   "outputs": [
    {
     "ename": "NameError",
     "evalue": "name 'ListNode' is not defined",
     "output_type": "error",
     "traceback": [
      "\u001b[1;31m---------------------------------------------------------------------------\u001b[0m",
      "\u001b[1;31mNameError\u001b[0m                                 Traceback (most recent call last)",
      "Cell \u001b[1;32mIn[26], line 7\u001b[0m\n\u001b[0;32m      1\u001b[0m \u001b[38;5;66;03m# Definition for singly-linked list.\u001b[39;00m\n\u001b[0;32m      2\u001b[0m \u001b[38;5;66;03m# class ListNode:\u001b[39;00m\n\u001b[0;32m      3\u001b[0m \u001b[38;5;66;03m#     def __init__(self, val=0, next=None):\u001b[39;00m\n\u001b[0;32m      4\u001b[0m \u001b[38;5;66;03m#         self.val = val\u001b[39;00m\n\u001b[0;32m      5\u001b[0m \u001b[38;5;66;03m#         self.next = next\u001b[39;00m\n\u001b[1;32m----> 7\u001b[0m \u001b[38;5;28;01mclass\u001b[39;00m \u001b[38;5;21;01mSolution\u001b[39;00m:\n\u001b[0;32m      8\u001b[0m     \u001b[38;5;28;01mdef\u001b[39;00m \u001b[38;5;21mremoveNthFromEnd\u001b[39m(\u001b[38;5;28mself\u001b[39m, head: Optional[ListNode], n: \u001b[38;5;28mint\u001b[39m) \u001b[38;5;241m-\u001b[39m\u001b[38;5;241m>\u001b[39m Optional[ListNode]:\n\u001b[0;32m      9\u001b[0m \u001b[38;5;250m        \u001b[39m\u001b[38;5;124;03m\"\"\"\u001b[39;00m\n\u001b[0;32m     10\u001b[0m \u001b[38;5;124;03m        Removes the n-th node from the end of a singly-linked list in one pass.\u001b[39;00m\n\u001b[0;32m     11\u001b[0m \n\u001b[1;32m   (...)\u001b[0m\n\u001b[0;32m     23\u001b[0m \u001b[38;5;124;03m        - The head of the modified linked list.\u001b[39;00m\n\u001b[0;32m     24\u001b[0m \u001b[38;5;124;03m        \"\"\"\u001b[39;00m\n",
      "Cell \u001b[1;32mIn[26], line 8\u001b[0m, in \u001b[0;36mSolution\u001b[1;34m()\u001b[0m\n\u001b[0;32m      7\u001b[0m \u001b[38;5;28;01mclass\u001b[39;00m \u001b[38;5;21;01mSolution\u001b[39;00m:\n\u001b[1;32m----> 8\u001b[0m     \u001b[38;5;28;01mdef\u001b[39;00m \u001b[38;5;21mremoveNthFromEnd\u001b[39m(\u001b[38;5;28mself\u001b[39m, head: Optional[\u001b[43mListNode\u001b[49m], n: \u001b[38;5;28mint\u001b[39m) \u001b[38;5;241m-\u001b[39m\u001b[38;5;241m>\u001b[39m Optional[ListNode]:\n\u001b[0;32m      9\u001b[0m \u001b[38;5;250m        \u001b[39m\u001b[38;5;124;03m\"\"\"\u001b[39;00m\n\u001b[0;32m     10\u001b[0m \u001b[38;5;124;03m        Removes the n-th node from the end of a singly-linked list in one pass.\u001b[39;00m\n\u001b[0;32m     11\u001b[0m \n\u001b[1;32m   (...)\u001b[0m\n\u001b[0;32m     23\u001b[0m \u001b[38;5;124;03m        - The head of the modified linked list.\u001b[39;00m\n\u001b[0;32m     24\u001b[0m \u001b[38;5;124;03m        \"\"\"\u001b[39;00m\n\u001b[0;32m     26\u001b[0m         \u001b[38;5;66;03m# Initialize pointers for traversal\u001b[39;00m\n",
      "\u001b[1;31mNameError\u001b[0m: name 'ListNode' is not defined"
     ]
    }
   ],
   "source": [
    "# Definition for singly-linked list.\n",
    "# class ListNode:\n",
    "#     def __init__(self, val=0, next=None):\n",
    "#         self.val = val\n",
    "#         self.next = next\n",
    "\n",
    "class Solution:\n",
    "    def removeNthFromEnd(self, head: Optional[ListNode], n: int) -> Optional[ListNode]:\n",
    "        \"\"\"\n",
    "        Removes the n-th node from the end of a singly-linked list in one pass.\n",
    "\n",
    "        Quick Summary:\n",
    "        - Use two pointers, `curr` and `nodeB`, to traverse the linked list.\n",
    "        - Move `curr` n steps ahead to create a gap between `curr` and `nodeB`.\n",
    "        - Move both pointers until `curr` reaches the end.\n",
    "        - Remove the n-th node by updating the next pointer of the node before it.\n",
    "\n",
    "        Parameters:\n",
    "        - head: The head of the linked list.\n",
    "        - n: The position from the end of the linked list.\n",
    "\n",
    "        Returns:\n",
    "        - The head of the modified linked list.\n",
    "        \"\"\"\n",
    "\n",
    "        # Initialize pointers for traversal\n",
    "        curr, nodeB = head, head\n",
    "\n",
    "        # Move curr n steps ahead to create a gap\n",
    "        for _ in range(n): \n",
    "            curr = curr.next\n",
    "\n",
    "        # Handle edge case where n is equal to the length of the linked list\n",
    "        if curr is None:\n",
    "            return head.next\n",
    "\n",
    "        # Move both pointers until curr reaches the end\n",
    "        while curr.next:\n",
    "            curr = curr.next\n",
    "            nodeB = nodeB.next\n",
    "\n",
    "        # Remove the n-th node by updating the next pointer of the node before it\n",
    "        nodeB.next = nodeB.next.next\n",
    "\n",
    "        # Return the head of the modified linked list\n",
    "        return head"
   ]
  },
  {
   "cell_type": "markdown",
   "id": "a7ed2cb6",
   "metadata": {},
   "source": [
    "## Delete Middle Node\n",
    "\n",
    "    Quick Summary:\n",
    "    - Use the two-pointer technique (fast and slow pointers) to find the middle node.\n",
    "    - Traverse the linked list and update pointers until the fast pointer reaches the end.\n",
    "    - Delete the middle node by updating the next pointer of the node before it."
   ]
  },
  {
   "cell_type": "code",
   "execution_count": 2,
   "id": "28d0ecd9",
   "metadata": {
    "ExecuteTime": {
     "end_time": "2023-11-21T13:36:12.776910Z",
     "start_time": "2023-11-21T13:36:12.766073Z"
    }
   },
   "outputs": [],
   "source": [
    "def deleteMiddle(head):\n",
    "    \"\"\"\n",
    "    Deletes the middle node of a singly-linked list.\n",
    "\n",
    "    Quick Summary:\n",
    "    - Use the two-pointer technique (fast and slow pointers) to find the middle node.\n",
    "    - Traverse the linked list and update pointers until the fast pointer reaches the end.\n",
    "    - Delete the middle node by updating the next pointer of the node before it.\n",
    "\n",
    "    Parameters:\n",
    "    - head: The head of the linked list.\n",
    "\n",
    "    Returns:\n",
    "    - The head of the modified linked list.\n",
    "    \"\"\"\n",
    "\n",
    "    # Check if the linked list is empty or has only one node\n",
    "    if head == None or head.next == None:\n",
    "        return None\n",
    "\n",
    "    # Initialize pointers for traversal\n",
    "    curr = head\n",
    "    fast, slow = head, head\n",
    "\n",
    "    # Use the two-pointer technique to find the middle node\n",
    "    while fast and fast.next:\n",
    "        prev = slow\n",
    "        slow = slow.next\n",
    "        fast = fast.next.next\n",
    "\n",
    "    # Delete the middle node by updating the next pointer of the node before it\n",
    "    prev.next = prev.next.next\n",
    "\n",
    "    # Return the head of the modified linked list\n",
    "    return head"
   ]
  },
  {
   "cell_type": "markdown",
   "id": "60803fde",
   "metadata": {},
   "source": [
    "## Sort the List"
   ]
  },
  {
   "cell_type": "markdown",
   "id": "2095f71a",
   "metadata": {},
   "source": [
    "### By using arrays\n",
    "\n",
    "        Quick Summary:\n",
    "        - Convert the linked list values to a list.\n",
    "        - Sort the list.\n",
    "        - Reconstruct the linked list with the sorted values."
   ]
  },
  {
   "cell_type": "code",
   "execution_count": 3,
   "id": "fb4ea90d",
   "metadata": {
    "ExecuteTime": {
     "end_time": "2023-11-21T13:43:21.767433Z",
     "start_time": "2023-11-21T13:43:21.128016Z"
    }
   },
   "outputs": [
    {
     "ename": "NameError",
     "evalue": "name 'Optional' is not defined",
     "output_type": "error",
     "traceback": [
      "\u001b[1;31m---------------------------------------------------------------------------\u001b[0m",
      "\u001b[1;31mNameError\u001b[0m                                 Traceback (most recent call last)",
      "Cell \u001b[1;32mIn[3], line 1\u001b[0m\n\u001b[1;32m----> 1\u001b[0m \u001b[38;5;28;01mclass\u001b[39;00m \u001b[38;5;21;01mSolution\u001b[39;00m:\n\u001b[0;32m      2\u001b[0m     \u001b[38;5;28;01mdef\u001b[39;00m \u001b[38;5;21msortList\u001b[39m(\u001b[38;5;28mself\u001b[39m, head: Optional[ListNode]) \u001b[38;5;241m-\u001b[39m\u001b[38;5;241m>\u001b[39m Optional[ListNode]:\n\u001b[0;32m      3\u001b[0m \u001b[38;5;250m        \u001b[39m\u001b[38;5;124;03m\"\"\"\u001b[39;00m\n\u001b[0;32m      4\u001b[0m \u001b[38;5;124;03m        Sorts a linked list in ascending order.\u001b[39;00m\n\u001b[0;32m      5\u001b[0m \n\u001b[1;32m   (...)\u001b[0m\n\u001b[0;32m     15\u001b[0m \u001b[38;5;124;03m        - The head of the sorted linked list.\u001b[39;00m\n\u001b[0;32m     16\u001b[0m \u001b[38;5;124;03m        \"\"\"\u001b[39;00m\n",
      "Cell \u001b[1;32mIn[3], line 2\u001b[0m, in \u001b[0;36mSolution\u001b[1;34m()\u001b[0m\n\u001b[0;32m      1\u001b[0m \u001b[38;5;28;01mclass\u001b[39;00m \u001b[38;5;21;01mSolution\u001b[39;00m:\n\u001b[1;32m----> 2\u001b[0m     \u001b[38;5;28;01mdef\u001b[39;00m \u001b[38;5;21msortList\u001b[39m(\u001b[38;5;28mself\u001b[39m, head: \u001b[43mOptional\u001b[49m[ListNode]) \u001b[38;5;241m-\u001b[39m\u001b[38;5;241m>\u001b[39m Optional[ListNode]:\n\u001b[0;32m      3\u001b[0m \u001b[38;5;250m        \u001b[39m\u001b[38;5;124;03m\"\"\"\u001b[39;00m\n\u001b[0;32m      4\u001b[0m \u001b[38;5;124;03m        Sorts a linked list in ascending order.\u001b[39;00m\n\u001b[0;32m      5\u001b[0m \n\u001b[1;32m   (...)\u001b[0m\n\u001b[0;32m     15\u001b[0m \u001b[38;5;124;03m        - The head of the sorted linked list.\u001b[39;00m\n\u001b[0;32m     16\u001b[0m \u001b[38;5;124;03m        \"\"\"\u001b[39;00m\n\u001b[0;32m     18\u001b[0m         \u001b[38;5;66;03m# Convert linked list values to a list\u001b[39;00m\n",
      "\u001b[1;31mNameError\u001b[0m: name 'Optional' is not defined"
     ]
    }
   ],
   "source": [
    "class Solution:\n",
    "    def sortList(self, head: Optional[ListNode]) -> Optional[ListNode]:\n",
    "        \"\"\"\n",
    "        Sorts a linked list in ascending order.\n",
    "\n",
    "        Quick Summary:\n",
    "        - Convert the linked list values to a list.\n",
    "        - Sort the list.\n",
    "        - Reconstruct the linked list with the sorted values.\n",
    "\n",
    "        Parameters:\n",
    "        - head: The head of the linked list.\n",
    "\n",
    "        Returns:\n",
    "        - The head of the sorted linked list.\n",
    "        \"\"\"\n",
    "\n",
    "        # Convert linked list values to a list\n",
    "        arr = []\n",
    "        curr = head\n",
    "        while curr:\n",
    "            arr.append(curr.val)\n",
    "            curr = curr.next\n",
    "\n",
    "        # Sort the list\n",
    "        arr.sort()\n",
    "\n",
    "        # Create a new linked list with the sorted values\n",
    "        new_head = ListNode(0)\n",
    "        curr = new_head\n",
    "        for num in arr:\n",
    "            curr.next = ListNode(num)\n",
    "            curr = curr.next\n",
    "\n",
    "        # Return the head of the sorted linked list\n",
    "        return new_head.next"
   ]
  },
  {
   "cell_type": "markdown",
   "id": "63aceaff",
   "metadata": {},
   "source": [
    "### By using Merge Sort\n",
    "\n",
    "The provided code is for a class `Solution` with a method `sortList` that implements the merge sort algorithm to sort a linked list. It also includes helper methods `merge` and `findMiddleNode` to perform the merging step and find the middle node of the linked list, respectively.\n",
    "\n",
    "\n",
    "Explanation of key points:\n",
    "\n",
    "- **Divide and Conquer:** The `sortList` method uses the merge sort algorithm, recursively dividing the linked list into halves until single-node or empty lists, and then merging the sorted halves back together.\n",
    "\n",
    "- **Merge Method:** The `merge` method merges two sorted linked lists into a single sorted linked list.\n",
    "\n",
    "- **Find Middle Node:** The `findMiddleNode` method finds the middle node of a linked list using the two-pointer technique.\n",
    "\n",
    "- **Time Complexity:** The overall time complexity of this approach is O(n log n), where n is the length of the linked list.\n",
    "\n",
    "- **Space Complexity:** The space complexity is O(log n) due to the recursion stack.\n",
    "\n",
    "If you have any further questions or need additional clarification, feel free to ask!"
   ]
  },
  {
   "cell_type": "code",
   "execution_count": 1,
   "id": "02138831",
   "metadata": {
    "ExecuteTime": {
     "end_time": "2024-01-26T12:49:39.143365Z",
     "start_time": "2024-01-26T12:49:38.768957Z"
    }
   },
   "outputs": [
    {
     "ename": "NameError",
     "evalue": "name 'Optional' is not defined",
     "output_type": "error",
     "traceback": [
      "\u001b[1;31m---------------------------------------------------------------------------\u001b[0m",
      "\u001b[1;31mNameError\u001b[0m                                 Traceback (most recent call last)",
      "Cell \u001b[1;32mIn[1], line 6\u001b[0m\n\u001b[0;32m      1\u001b[0m \u001b[38;5;66;03m# Definition for singly-linked list.\u001b[39;00m\n\u001b[0;32m      2\u001b[0m \u001b[38;5;66;03m# class ListNode:\u001b[39;00m\n\u001b[0;32m      3\u001b[0m \u001b[38;5;66;03m#     def __init__(self, val=0, next=None):\u001b[39;00m\n\u001b[0;32m      4\u001b[0m \u001b[38;5;66;03m#         self.val = val\u001b[39;00m\n\u001b[0;32m      5\u001b[0m \u001b[38;5;66;03m#         self.next = next\u001b[39;00m\n\u001b[1;32m----> 6\u001b[0m \u001b[38;5;28;01mclass\u001b[39;00m \u001b[38;5;21;01mSolution\u001b[39;00m:\n\u001b[0;32m      7\u001b[0m     \u001b[38;5;66;03m# find the middle of the linkedlist\u001b[39;00m\n\u001b[0;32m      8\u001b[0m     \u001b[38;5;28;01mdef\u001b[39;00m \u001b[38;5;21mfindMiddle\u001b[39m(head):\n\u001b[0;32m      9\u001b[0m         \u001b[38;5;66;03m# if single node is present\u001b[39;00m\n\u001b[0;32m     10\u001b[0m         \u001b[38;5;28;01mif\u001b[39;00m head \u001b[38;5;241m==\u001b[39m \u001b[38;5;28;01mNone\u001b[39;00m \u001b[38;5;129;01mor\u001b[39;00m head\u001b[38;5;241m.\u001b[39mnext \u001b[38;5;241m==\u001b[39m \u001b[38;5;28;01mNone\u001b[39;00m: \u001b[38;5;28;01mreturn\u001b[39;00m head\n",
      "Cell \u001b[1;32mIn[1], line 54\u001b[0m, in \u001b[0;36mSolution\u001b[1;34m()\u001b[0m\n\u001b[0;32m     52\u001b[0m         \u001b[38;5;66;03m# return the sorted / merged LL\u001b[39;00m\n\u001b[0;32m     53\u001b[0m         \u001b[38;5;28;01mreturn\u001b[39;00m dummyNode\u001b[38;5;241m.\u001b[39mnext\n\u001b[1;32m---> 54\u001b[0m \u001b[38;5;28;01mdef\u001b[39;00m \u001b[38;5;21msortList\u001b[39m(\u001b[38;5;28mself\u001b[39m, head: \u001b[43mOptional\u001b[49m[ListNode]) \u001b[38;5;241m-\u001b[39m\u001b[38;5;241m>\u001b[39m Optional[ListNode]:\n\u001b[0;32m     55\u001b[0m     \u001b[38;5;66;03m# check for single node in LL\u001b[39;00m\n\u001b[0;32m     56\u001b[0m     \u001b[38;5;28;01mif\u001b[39;00m head \u001b[38;5;241m==\u001b[39m \u001b[38;5;28;01mNone\u001b[39;00m \u001b[38;5;129;01mor\u001b[39;00m head\u001b[38;5;241m.\u001b[39mnext \u001b[38;5;241m==\u001b[39m \u001b[38;5;28;01mNone\u001b[39;00m: \u001b[38;5;28;01mreturn\u001b[39;00m head\n\u001b[0;32m     57\u001b[0m     \u001b[38;5;66;03m# get the middle of the LL to divide it\u001b[39;00m\n",
      "\u001b[1;31mNameError\u001b[0m: name 'Optional' is not defined"
     ]
    }
   ],
   "source": [
    "# Definition for singly-linked list.\n",
    "# class ListNode:\n",
    "#     def __init__(self, val=0, next=None):\n",
    "#         self.val = val\n",
    "#         self.next = next\n",
    "class Solution:\n",
    "    # find the middle of the linkedlist\n",
    "    def findMiddle(head):\n",
    "        # if single node is present\n",
    "        if head == None or head.next == None: return head\n",
    "        # initialization of the variables\n",
    "        slow = head\n",
    "        fast = head\n",
    "        # return the 1st middle element for the ease of the algorithm\n",
    "        while fast.next and fast.next.next:\n",
    "            # one step at a time\n",
    "            slow = slow.next\n",
    "            # two step at a time\n",
    "            fast = fast.next.next\n",
    "        # return slow pointer which points to middle number\n",
    "        return slow\n",
    "    # merge the leftHead and rightHead\n",
    "    def mergeSort(leftHead, rightHead):\n",
    "            # take the dummyNode to save the updated or we can say sorted LL\n",
    "            dummyNode = ListNode(-1)\n",
    "            # reference pointer\n",
    "            temp = dummyNode\n",
    "            # while loop will run if both has value \n",
    "            while (leftHead  and rightHead):\n",
    "                # check if left value is lesser\n",
    "                if leftHead.val < rightHead.val:\n",
    "                    # make next value as leftHead\n",
    "                    temp.next = leftHead\n",
    "                    # increment the pointer \n",
    "                    temp = temp.next\n",
    "                    leftHead = leftHead.next\n",
    "                else:\n",
    "                    # if right head is less than left\n",
    "                    temp.next = rightHead\n",
    "                    # increment the pointer\n",
    "                    temp = temp.next\n",
    "                    rightHead = rightHead.next\n",
    "            # as the value when divided at most 1 node \n",
    "            # difference will be there so check for that one node case\n",
    "            # if leftHead has value\n",
    "            if leftHead: \n",
    "                # make next as leftHead\n",
    "                temp.next = leftHead\n",
    "            else:\n",
    "                # make next as rightHead\n",
    "                temp.next = rightHead\n",
    "            # return the sorted / merged LL\n",
    "            return dummyNode.next\n",
    "    def sortList(self, head: Optional[ListNode]) -> Optional[ListNode]:\n",
    "        # check for single node in LL\n",
    "        if head == None or head.next == None: return head\n",
    "        # get the middle of the LL to divide it\n",
    "        middle = findMiddle(head)\n",
    "        # right will be entire LL after middle\n",
    "        rightHead = middle.next\n",
    "        # break the linkage of left and right by doing middle.next == None\n",
    "        middle.next = None\n",
    "        # leftHead will be head as the left part covers\n",
    "        leftHead = head\n",
    "        # call the sortList Function to get the minimum LL\n",
    "        leftHead  = self.sortList(leftHead)\n",
    "        rightHead = self.sortList(rightHead)\n",
    "        # call the mergeSort by using left and right to merge it and then return sorted LL\n",
    "        return mergeSort(leftHead, rightHead)"
   ]
  },
  {
   "cell_type": "markdown",
   "id": "3cb3d0d3",
   "metadata": {},
   "source": [
    "## Intersection of Two Linked Lists\n",
    "\n",
    "\n",
    "### By using Set\n",
    "\n",
    "        - Traverse the first linked list (headA) and store visited nodes in a set.\n",
    "        - Traverse the second linked list (headB) and check for intersection in the set.\n"
   ]
  },
  {
   "cell_type": "code",
   "execution_count": 6,
   "id": "b86bd6a7",
   "metadata": {
    "ExecuteTime": {
     "end_time": "2023-11-21T19:17:18.119270Z",
     "start_time": "2023-11-21T19:17:17.978134Z"
    }
   },
   "outputs": [
    {
     "ename": "NameError",
     "evalue": "name 'ListNode' is not defined",
     "output_type": "error",
     "traceback": [
      "\u001b[1;31m---------------------------------------------------------------------------\u001b[0m",
      "\u001b[1;31mNameError\u001b[0m                                 Traceback (most recent call last)",
      "Cell \u001b[1;32mIn[6], line 1\u001b[0m\n\u001b[1;32m----> 1\u001b[0m \u001b[38;5;28;01mclass\u001b[39;00m \u001b[38;5;21;01mSolution\u001b[39;00m:\n\u001b[0;32m      2\u001b[0m     \u001b[38;5;28;01mdef\u001b[39;00m \u001b[38;5;21mgetIntersectionNode\u001b[39m(\u001b[38;5;28mself\u001b[39m, headA: ListNode, headB: ListNode) \u001b[38;5;241m-\u001b[39m\u001b[38;5;241m>\u001b[39m Optional[ListNode]:\n\u001b[0;32m      3\u001b[0m \u001b[38;5;250m        \u001b[39m\u001b[38;5;124;03m\"\"\"\u001b[39;00m\n\u001b[0;32m      4\u001b[0m \u001b[38;5;124;03m        Finds the intersection node of two linked lists.\u001b[39;00m\n\u001b[0;32m      5\u001b[0m \n\u001b[1;32m   (...)\u001b[0m\n\u001b[0;32m     15\u001b[0m \u001b[38;5;124;03m        - The intersection node if found, otherwise None.\u001b[39;00m\n\u001b[0;32m     16\u001b[0m \u001b[38;5;124;03m        \"\"\"\u001b[39;00m\n",
      "Cell \u001b[1;32mIn[6], line 2\u001b[0m, in \u001b[0;36mSolution\u001b[1;34m()\u001b[0m\n\u001b[0;32m      1\u001b[0m \u001b[38;5;28;01mclass\u001b[39;00m \u001b[38;5;21;01mSolution\u001b[39;00m:\n\u001b[1;32m----> 2\u001b[0m     \u001b[38;5;28;01mdef\u001b[39;00m \u001b[38;5;21mgetIntersectionNode\u001b[39m(\u001b[38;5;28mself\u001b[39m, headA: \u001b[43mListNode\u001b[49m, headB: ListNode) \u001b[38;5;241m-\u001b[39m\u001b[38;5;241m>\u001b[39m Optional[ListNode]:\n\u001b[0;32m      3\u001b[0m \u001b[38;5;250m        \u001b[39m\u001b[38;5;124;03m\"\"\"\u001b[39;00m\n\u001b[0;32m      4\u001b[0m \u001b[38;5;124;03m        Finds the intersection node of two linked lists.\u001b[39;00m\n\u001b[0;32m      5\u001b[0m \n\u001b[1;32m   (...)\u001b[0m\n\u001b[0;32m     15\u001b[0m \u001b[38;5;124;03m        - The intersection node if found, otherwise None.\u001b[39;00m\n\u001b[0;32m     16\u001b[0m \u001b[38;5;124;03m        \"\"\"\u001b[39;00m\n\u001b[0;32m     18\u001b[0m         \u001b[38;5;66;03m# Initialize pointers for traversing linked lists\u001b[39;00m\n",
      "\u001b[1;31mNameError\u001b[0m: name 'ListNode' is not defined"
     ]
    }
   ],
   "source": [
    "class Solution:\n",
    "    def getIntersectionNode(self, headA: ListNode, headB: ListNode) -> Optional[ListNode]:\n",
    "        \"\"\"\n",
    "        Finds the intersection node of two linked lists.\n",
    "\n",
    "        Quick Summary:\n",
    "        - Traverse the first linked list (headA) and store visited nodes in a set.\n",
    "        - Traverse the second linked list (headB) and check for intersection in the set.\n",
    "\n",
    "        Parameters:\n",
    "        - headA: Head of the first linked list.\n",
    "        - headB: Head of the second linked list.\n",
    "\n",
    "        Returns:\n",
    "        - The intersection node if found, otherwise None.\n",
    "        \"\"\"\n",
    "\n",
    "        # Initialize pointers for traversing linked lists\n",
    "        currA = headA\n",
    "        currB = headB\n",
    "\n",
    "        # Set to store visited nodes in the first linked list\n",
    "        setV = set()\n",
    "\n",
    "        # Traverse the first linked list and store visited nodes in the set\n",
    "        while currA:\n",
    "            if currA not in setV:\n",
    "                setV.add(currA)\n",
    "                currA = currA.next\n",
    "\n",
    "        # Traverse the second linked list and check for intersection in the set\n",
    "        while currB:\n",
    "            if currB in setV:\n",
    "                return currB\n",
    "            currB = currB.next\n",
    "\n",
    "        # Return None if no intersection is found\n",
    "        return None\n"
   ]
  },
  {
   "cell_type": "markdown",
   "id": "4da1ffa8",
   "metadata": {},
   "source": [
    "### By using Two Pointers Method\n",
    "\n",
    "        Quick Summary:\n",
    "        - Find the lengths of both linked lists.\n",
    "        - See if they are equal or not\n",
    "            - if equal then continue by two pointer\n",
    "            - else take diff and iterate diff on bigger linked list and then continue with two pointer\n",
    "        - Adjust the pointers to ensure they start at the same relative position.\n",
    "        - Move both pointers until they meet at the intersection node.\n"
   ]
  },
  {
   "cell_type": "code",
   "execution_count": 1,
   "id": "a49986ed",
   "metadata": {
    "ExecuteTime": {
     "end_time": "2023-11-22T11:45:50.878445Z",
     "start_time": "2023-11-22T11:45:50.197556Z"
    }
   },
   "outputs": [
    {
     "ename": "NameError",
     "evalue": "name 'ListNode' is not defined",
     "output_type": "error",
     "traceback": [
      "\u001b[1;31m---------------------------------------------------------------------------\u001b[0m",
      "\u001b[1;31mNameError\u001b[0m                                 Traceback (most recent call last)",
      "Cell \u001b[1;32mIn[1], line 1\u001b[0m\n\u001b[1;32m----> 1\u001b[0m \u001b[38;5;28;01mclass\u001b[39;00m \u001b[38;5;21;01mSolution\u001b[39;00m:\n\u001b[0;32m      2\u001b[0m     \u001b[38;5;28;01mdef\u001b[39;00m \u001b[38;5;21mgetIntersectionNode\u001b[39m(\u001b[38;5;28mself\u001b[39m, headA: ListNode, headB: ListNode) \u001b[38;5;241m-\u001b[39m\u001b[38;5;241m>\u001b[39m Optional[ListNode]:\n\u001b[0;32m      3\u001b[0m \u001b[38;5;250m        \u001b[39m\u001b[38;5;124;03m\"\"\"\u001b[39;00m\n\u001b[0;32m      4\u001b[0m \u001b[38;5;124;03m        Finds the intersection node of two linked lists.\u001b[39;00m\n\u001b[0;32m      5\u001b[0m \n\u001b[1;32m   (...)\u001b[0m\n\u001b[0;32m     16\u001b[0m \u001b[38;5;124;03m        - The intersection node if found, otherwise None.\u001b[39;00m\n\u001b[0;32m     17\u001b[0m \u001b[38;5;124;03m        \"\"\"\u001b[39;00m\n",
      "Cell \u001b[1;32mIn[1], line 2\u001b[0m, in \u001b[0;36mSolution\u001b[1;34m()\u001b[0m\n\u001b[0;32m      1\u001b[0m \u001b[38;5;28;01mclass\u001b[39;00m \u001b[38;5;21;01mSolution\u001b[39;00m:\n\u001b[1;32m----> 2\u001b[0m     \u001b[38;5;28;01mdef\u001b[39;00m \u001b[38;5;21mgetIntersectionNode\u001b[39m(\u001b[38;5;28mself\u001b[39m, headA: \u001b[43mListNode\u001b[49m, headB: ListNode) \u001b[38;5;241m-\u001b[39m\u001b[38;5;241m>\u001b[39m Optional[ListNode]:\n\u001b[0;32m      3\u001b[0m \u001b[38;5;250m        \u001b[39m\u001b[38;5;124;03m\"\"\"\u001b[39;00m\n\u001b[0;32m      4\u001b[0m \u001b[38;5;124;03m        Finds the intersection node of two linked lists.\u001b[39;00m\n\u001b[0;32m      5\u001b[0m \n\u001b[1;32m   (...)\u001b[0m\n\u001b[0;32m     16\u001b[0m \u001b[38;5;124;03m        - The intersection node if found, otherwise None.\u001b[39;00m\n\u001b[0;32m     17\u001b[0m \u001b[38;5;124;03m        \"\"\"\u001b[39;00m\n\u001b[0;32m     19\u001b[0m         \u001b[38;5;66;03m# Find the lengths of both linked lists\u001b[39;00m\n",
      "\u001b[1;31mNameError\u001b[0m: name 'ListNode' is not defined"
     ]
    }
   ],
   "source": [
    "class Solution:\n",
    "    def getIntersectionNode(self, headA: ListNode, headB: ListNode) -> Optional[ListNode]:\n",
    "        \"\"\"\n",
    "        Finds the intersection node of two linked lists.\n",
    "\n",
    "        Quick Summary:\n",
    "        - Find the lengths of both linked lists.\n",
    "        - Adjust the pointers to ensure they start at the same relative position.\n",
    "        - Move both pointers until they meet at the intersection node.\n",
    "\n",
    "        Parameters:\n",
    "        - headA: Head of the first linked list.\n",
    "        - headB: Head of the second linked list.\n",
    "\n",
    "        Returns:\n",
    "        - The intersection node if found, otherwise None.\n",
    "        \"\"\"\n",
    "\n",
    "        # Find the lengths of both linked lists\n",
    "        m = self.length(headA)\n",
    "        n = self.length(headB)\n",
    "\n",
    "        # Adjust pointers to start at the same relative position\n",
    "        if m == n:\n",
    "            dummyA = headA\n",
    "            dummyB = headB\n",
    "        else:\n",
    "            diff = abs(n - m)\n",
    "            dummyB = headB\n",
    "            dummyA = headA\n",
    "            if n > m:\n",
    "                for _ in range(diff):\n",
    "                    dummyB = dummyB.next\n",
    "            else:\n",
    "                for _ in range(diff):\n",
    "                    dummyA = dummyA.next\n",
    "\n",
    "        # Move both pointers until they meet at the intersection node\n",
    "        while dummyA != dummyB:\n",
    "            dummyA = dummyA.next\n",
    "            dummyB = dummyB.next\n",
    "\n",
    "        # Return the intersection node if found, otherwise None\n",
    "        return dummyA\n",
    "\n",
    "    def length(self, head: ListNode) -> int:\n",
    "        \"\"\"\n",
    "        Finds the length of a linked list.\n",
    "\n",
    "        Parameters:\n",
    "        - head: Head of the linked list.\n",
    "\n",
    "        Returns:\n",
    "        - The length of the linked list.\n",
    "        \"\"\"\n",
    "        count = 0\n",
    "        curr = head\n",
    "        while curr:\n",
    "            count += 1\n",
    "            curr = curr.next\n",
    "        return count"
   ]
  },
  {
   "cell_type": "code",
   "execution_count": 3,
   "id": "fe498165",
   "metadata": {
    "ExecuteTime": {
     "end_time": "2023-11-22T11:50:27.385266Z",
     "start_time": "2023-11-22T11:50:27.246781Z"
    }
   },
   "outputs": [
    {
     "ename": "NameError",
     "evalue": "name 'ListNode' is not defined",
     "output_type": "error",
     "traceback": [
      "\u001b[1;31m---------------------------------------------------------------------------\u001b[0m",
      "\u001b[1;31mNameError\u001b[0m                                 Traceback (most recent call last)",
      "Cell \u001b[1;32mIn[3], line 2\u001b[0m\n\u001b[0;32m      1\u001b[0m \u001b[38;5;66;03m# similar to above solution but a slightly improved / reduce code\u001b[39;00m\n\u001b[1;32m----> 2\u001b[0m \u001b[38;5;28;01mclass\u001b[39;00m \u001b[38;5;21;01mSolution\u001b[39;00m:\n\u001b[0;32m      3\u001b[0m     \u001b[38;5;28;01mdef\u001b[39;00m \u001b[38;5;21mgetIntersectionNode\u001b[39m(\u001b[38;5;28mself\u001b[39m, headA: ListNode, headB: ListNode) \u001b[38;5;241m-\u001b[39m\u001b[38;5;241m>\u001b[39m Optional[ListNode]:\n\u001b[0;32m      4\u001b[0m \u001b[38;5;250m        \u001b[39m\u001b[38;5;124;03m\"\"\"\u001b[39;00m\n\u001b[0;32m      5\u001b[0m \u001b[38;5;124;03m        Finds the intersection node of two linked lists.\u001b[39;00m\n\u001b[0;32m      6\u001b[0m \n\u001b[1;32m   (...)\u001b[0m\n\u001b[0;32m     17\u001b[0m \u001b[38;5;124;03m        - The intersection node if found, otherwise None.\u001b[39;00m\n\u001b[0;32m     18\u001b[0m \u001b[38;5;124;03m        \"\"\"\u001b[39;00m\n",
      "Cell \u001b[1;32mIn[3], line 3\u001b[0m, in \u001b[0;36mSolution\u001b[1;34m()\u001b[0m\n\u001b[0;32m      2\u001b[0m \u001b[38;5;28;01mclass\u001b[39;00m \u001b[38;5;21;01mSolution\u001b[39;00m:\n\u001b[1;32m----> 3\u001b[0m     \u001b[38;5;28;01mdef\u001b[39;00m \u001b[38;5;21mgetIntersectionNode\u001b[39m(\u001b[38;5;28mself\u001b[39m, headA: \u001b[43mListNode\u001b[49m, headB: ListNode) \u001b[38;5;241m-\u001b[39m\u001b[38;5;241m>\u001b[39m Optional[ListNode]:\n\u001b[0;32m      4\u001b[0m \u001b[38;5;250m        \u001b[39m\u001b[38;5;124;03m\"\"\"\u001b[39;00m\n\u001b[0;32m      5\u001b[0m \u001b[38;5;124;03m        Finds the intersection node of two linked lists.\u001b[39;00m\n\u001b[0;32m      6\u001b[0m \n\u001b[1;32m   (...)\u001b[0m\n\u001b[0;32m     17\u001b[0m \u001b[38;5;124;03m        - The intersection node if found, otherwise None.\u001b[39;00m\n\u001b[0;32m     18\u001b[0m \u001b[38;5;124;03m        \"\"\"\u001b[39;00m\n\u001b[0;32m     20\u001b[0m         \u001b[38;5;66;03m# Find the lengths of both linked lists\u001b[39;00m\n",
      "\u001b[1;31mNameError\u001b[0m: name 'ListNode' is not defined"
     ]
    }
   ],
   "source": [
    "# similar to above solution but a slightly improved / reduce code\n",
    "class Solution:\n",
    "    def getIntersectionNode(self, headA: ListNode, headB: ListNode) -> Optional[ListNode]:\n",
    "        \"\"\"\n",
    "        Finds the intersection node of two linked lists.\n",
    "\n",
    "        Quick Summary:\n",
    "        - Find the lengths of both linked lists.\n",
    "        - Adjust the pointers to start at the same relative position.\n",
    "        - Move both pointers until they meet at the intersection node.\n",
    "\n",
    "        Parameters:\n",
    "        - headA: Head of the first linked list.\n",
    "        - headB: Head of the second linked list.\n",
    "\n",
    "        Returns:\n",
    "        - The intersection node if found, otherwise None.\n",
    "        \"\"\"\n",
    "\n",
    "        # Find the lengths of both linked lists\n",
    "        m = self.length(headA)\n",
    "        n = self.length(headB)\n",
    "\n",
    "        # Initialize pointers to the heads of the linked lists\n",
    "        dummyA = headA\n",
    "        dummyB = headB\n",
    "\n",
    "        # if the length are not similar make necessary changes \n",
    "        if m != n:\n",
    "            diff = abs(n - m)\n",
    "            if n > m:\n",
    "                for _ in range(diff):\n",
    "                    dummyB = dummyB.next\n",
    "            else:\n",
    "                for _ in range(diff):\n",
    "                    dummyA = dummyA.next\n",
    "\n",
    "        # Move both pointers until they meet at the intersection node\n",
    "        while dummyA != dummyB:\n",
    "            dummyA = dummyA.next\n",
    "            dummyB = dummyB.next\n",
    "\n",
    "        # Return the intersection node if found, otherwise None\n",
    "        return dummyA\n",
    "\n",
    "    def length(self, head: ListNode) -> int:\n",
    "        \"\"\"\n",
    "        Finds the length of a linked list.\n",
    "\n",
    "        Parameters:\n",
    "        - head: Head of the linked list.\n",
    "\n",
    "        Returns:\n",
    "        - The length of the linked list.\n",
    "        \"\"\"\n",
    "        count = 0\n",
    "        curr = head\n",
    "        while curr:\n",
    "            count += 1\n",
    "            curr = curr.next\n",
    "        return count\n"
   ]
  },
  {
   "cell_type": "markdown",
   "id": "f9c1cd99",
   "metadata": {},
   "source": [
    "### Using Shuffling Pointer Technique\n",
    "\n",
    "        Quick Summary:\n",
    "        - Use two pointers, dummyA and dummyB, to traverse the linked lists.\n",
    "        - Move each pointer one node at a time until they meet at the intersection node.\n",
    "        - If one pointer reaches the end, redirect it to the head of the other linked list.\n",
    "\n"
   ]
  },
  {
   "cell_type": "code",
   "execution_count": 6,
   "id": "db7e0d3f",
   "metadata": {
    "ExecuteTime": {
     "end_time": "2023-11-22T12:05:50.838618Z",
     "start_time": "2023-11-22T12:05:50.789243Z"
    }
   },
   "outputs": [
    {
     "ename": "NameError",
     "evalue": "name 'ListNode' is not defined",
     "output_type": "error",
     "traceback": [
      "\u001b[1;31m---------------------------------------------------------------------------\u001b[0m",
      "\u001b[1;31mNameError\u001b[0m                                 Traceback (most recent call last)",
      "Cell \u001b[1;32mIn[6], line 1\u001b[0m\n\u001b[1;32m----> 1\u001b[0m \u001b[38;5;28;01mclass\u001b[39;00m \u001b[38;5;21;01mSolution\u001b[39;00m:\n\u001b[0;32m      2\u001b[0m     \u001b[38;5;28;01mdef\u001b[39;00m \u001b[38;5;21mgetIntersectionNode\u001b[39m(\u001b[38;5;28mself\u001b[39m, headA: ListNode, headB: ListNode) \u001b[38;5;241m-\u001b[39m\u001b[38;5;241m>\u001b[39m Optional[ListNode]:\n\u001b[0;32m      3\u001b[0m \u001b[38;5;250m        \u001b[39m\u001b[38;5;124;03m\"\"\"\u001b[39;00m\n\u001b[0;32m      4\u001b[0m \u001b[38;5;124;03m        Finds the intersection node of two linked lists.\u001b[39;00m\n\u001b[0;32m      5\u001b[0m \n\u001b[1;32m   (...)\u001b[0m\n\u001b[0;32m     16\u001b[0m \u001b[38;5;124;03m        - The intersection node if found, otherwise None.\u001b[39;00m\n\u001b[0;32m     17\u001b[0m \u001b[38;5;124;03m        \"\"\"\u001b[39;00m\n",
      "Cell \u001b[1;32mIn[6], line 2\u001b[0m, in \u001b[0;36mSolution\u001b[1;34m()\u001b[0m\n\u001b[0;32m      1\u001b[0m \u001b[38;5;28;01mclass\u001b[39;00m \u001b[38;5;21;01mSolution\u001b[39;00m:\n\u001b[1;32m----> 2\u001b[0m     \u001b[38;5;28;01mdef\u001b[39;00m \u001b[38;5;21mgetIntersectionNode\u001b[39m(\u001b[38;5;28mself\u001b[39m, headA: \u001b[43mListNode\u001b[49m, headB: ListNode) \u001b[38;5;241m-\u001b[39m\u001b[38;5;241m>\u001b[39m Optional[ListNode]:\n\u001b[0;32m      3\u001b[0m \u001b[38;5;250m        \u001b[39m\u001b[38;5;124;03m\"\"\"\u001b[39;00m\n\u001b[0;32m      4\u001b[0m \u001b[38;5;124;03m        Finds the intersection node of two linked lists.\u001b[39;00m\n\u001b[0;32m      5\u001b[0m \n\u001b[1;32m   (...)\u001b[0m\n\u001b[0;32m     16\u001b[0m \u001b[38;5;124;03m        - The intersection node if found, otherwise None.\u001b[39;00m\n\u001b[0;32m     17\u001b[0m \u001b[38;5;124;03m        \"\"\"\u001b[39;00m\n\u001b[0;32m     19\u001b[0m         \u001b[38;5;66;03m# Initialize pointers to the heads of the linked lists\u001b[39;00m\n",
      "\u001b[1;31mNameError\u001b[0m: name 'ListNode' is not defined"
     ]
    }
   ],
   "source": [
    "class Solution:\n",
    "    def getIntersectionNode(self, headA: ListNode, headB: ListNode) -> Optional[ListNode]:\n",
    "        \"\"\"\n",
    "        Finds the intersection node of two linked lists.\n",
    "\n",
    "        Quick Summary:\n",
    "        - Use two pointers, dummyA and dummyB, to traverse the linked lists.\n",
    "        - Move each pointer one node at a time until they meet at the intersection node.\n",
    "        - If one pointer reaches the end, redirect it to the head of the other linked list.\n",
    "\n",
    "        Parameters:\n",
    "        - headA: Head of the first linked list.\n",
    "        - headB: Head of the second linked list.\n",
    "\n",
    "        Returns:\n",
    "        - The intersection node if found, otherwise None.\n",
    "        \"\"\"\n",
    "\n",
    "        # Initialize pointers to the heads of the linked lists\n",
    "        dummyA = headA\n",
    "        dummyB = headB\n",
    "\n",
    "        # Move pointers until they meet at the intersection node (or reach the end)\n",
    "        while dummyA != dummyB:\n",
    "            # Redirect dummyA to the head of the other linked list if it reaches the end\n",
    "            if dummyA == None:\n",
    "                dummyA = headB\n",
    "                # Break if dummyA and dummyB meet after redirecting\n",
    "                if dummyA == dummyB:\n",
    "                    break\n",
    "            # Redirect dummyB to the head of the other linked list if it reaches the end\n",
    "            elif dummyB == None:\n",
    "                dummyB = headA\n",
    "                # Break if dummyA and dummyB meet after redirecting\n",
    "                if dummyA == dummyB:\n",
    "                    break\n",
    "\n",
    "            # Move both pointers to the next node\n",
    "            dummyA = dummyA.next\n",
    "            dummyB = dummyB.next\n",
    "\n",
    "        # Return the intersection node if found, otherwise None\n",
    "        return dummyA"
   ]
  },
  {
   "cell_type": "markdown",
   "id": "5ebda850",
   "metadata": {},
   "source": [
    "## Add one to a number represented as Linked List\n",
    "\n",
    "    Quick Summary:\n",
    "    - Reverse the linked list to simplify addition from the least significant digit.\n",
    "    - Traverse the reversed linked list, adding one to each node and handling carry.\n",
    "    - Reverse the modified linked list again to get the final result."
   ]
  },
  {
   "cell_type": "code",
   "execution_count": 7,
   "id": "09af813e",
   "metadata": {
    "ExecuteTime": {
     "end_time": "2023-11-22T12:59:14.555313Z",
     "start_time": "2023-11-22T12:59:14.463754Z"
    }
   },
   "outputs": [
    {
     "ename": "NameError",
     "evalue": "name 'Node' is not defined",
     "output_type": "error",
     "traceback": [
      "\u001b[1;31m---------------------------------------------------------------------------\u001b[0m",
      "\u001b[1;31mNameError\u001b[0m                                 Traceback (most recent call last)",
      "Cell \u001b[1;32mIn[7], line 1\u001b[0m\n\u001b[1;32m----> 1\u001b[0m \u001b[38;5;28;01mdef\u001b[39;00m \u001b[38;5;21maddOne\u001b[39m(head: \u001b[43mNode\u001b[49m) \u001b[38;5;241m-\u001b[39m\u001b[38;5;241m>\u001b[39m Node:\n\u001b[0;32m      2\u001b[0m \u001b[38;5;250m    \u001b[39m\u001b[38;5;124;03m\"\"\"\u001b[39;00m\n\u001b[0;32m      3\u001b[0m \u001b[38;5;124;03m    Adds one to a number represented by a linked list.\u001b[39;00m\n\u001b[0;32m      4\u001b[0m \n\u001b[1;32m   (...)\u001b[0m\n\u001b[0;32m     14\u001b[0m \u001b[38;5;124;03m    - Head of the linked list after adding one.\u001b[39;00m\n\u001b[0;32m     15\u001b[0m \u001b[38;5;124;03m    \"\"\"\u001b[39;00m\n\u001b[0;32m     17\u001b[0m     \u001b[38;5;66;03m# Reverse the linked list\u001b[39;00m\n",
      "\u001b[1;31mNameError\u001b[0m: name 'Node' is not defined"
     ]
    }
   ],
   "source": [
    "def addOne(head: Node) -> Node:\n",
    "    \"\"\"\n",
    "    Adds one to a number represented by a linked list.\n",
    "\n",
    "    Quick Summary:\n",
    "    - Reverse the linked list to perform addition from the least significant digit.\n",
    "    - Traverse the reversed linked list, adding one and updating nodes accordingly.\n",
    "    - Reverse the linked list back to its original form.\n",
    "\n",
    "    Parameters:\n",
    "    - head: Head of the linked list representing the number.\n",
    "\n",
    "    Returns:\n",
    "    - Head of the linked list after adding one.\n",
    "    \"\"\"\n",
    "\n",
    "    # Reverse the linked list\n",
    "    def reverseLL(head):\n",
    "        prev = None\n",
    "        curr = head\n",
    "        while curr:\n",
    "            nxt = curr.next\n",
    "            curr.next = prev\n",
    "            prev = curr\n",
    "            curr = nxt\n",
    "        return prev\n",
    "\n",
    "    # Reverse the linked list to perform addition from the least significant digit\n",
    "    reversed_head = reverseLL(head)\n",
    "\n",
    "    # Perform addition and update nodes\n",
    "    carry = 1\n",
    "    prev = None\n",
    "    curr = reversed_head\n",
    "    while curr:\n",
    "        total = curr.data + carry\n",
    "        curr.data = total % 10\n",
    "        carry = total // 10\n",
    "        prev = curr\n",
    "        curr = curr.next\n",
    "\n",
    "    # If there is a remaining carry, add a new node\n",
    "    if carry > 0:\n",
    "        prev.next = Node(carry)\n",
    "        prev = prev.next\n",
    "\n",
    "    # Reverse the linked list back to its original form\n",
    "    return reverseLL(reversed_head)\n",
    "\n",
    "# Time Complexity: O(n), where n is the number of nodes in the linked list.\n",
    "# Space Complexity: O(1), as the reversal is done in-place without using additional space."
   ]
  },
  {
   "cell_type": "markdown",
   "id": "ae453bfd",
   "metadata": {},
   "source": [
    "## Sort linked list of 0s 1s 2s"
   ]
  },
  {
   "cell_type": "markdown",
   "id": "8dac9ebf",
   "metadata": {},
   "source": [
    "**By using Two Passes**\n",
    "\n",
    "\n",
    "Given a linked list 'head' containing values 0, 1, and 2,\n",
    " this function sorts the linked list by rearranging nodes\n",
    " such that all nodes with value 0 come first, followed by nodes with\n",
    " value 1, and then 2.\n",
    "\n",
    " Quick Summary:\n",
    " - Count the occurrences of values 0, 1, and 2 in the linked list."
   ]
  },
  {
   "cell_type": "code",
   "execution_count": 3,
   "id": "c5ba4d4c",
   "metadata": {
    "ExecuteTime": {
     "end_time": "2023-11-29T08:46:19.171073Z",
     "start_time": "2023-11-29T08:46:19.153818Z"
    }
   },
   "outputs": [],
   "source": [
    "# - Traverse the linked list again, updating node values based on the counts.\n",
    "\n",
    "# Time Complexity: O(N), where N is the number of nodes in the linked list.\n",
    "# Space Complexity: O(1), as the function uses a constant amount of extra space.\n",
    "\n",
    "def sortList(head):\n",
    "    # Initialize counters for values 0, 1, and 2\n",
    "    c_0 = 0\n",
    "    c_1 = 0\n",
    "    c_2 = 0\n",
    "\n",
    "    # Count occurrences of each value in the linked list\n",
    "    curr = head\n",
    "    while curr:\n",
    "        if curr.data == 0:\n",
    "            c_0 += 1\n",
    "        elif curr.data == 1:\n",
    "            c_1 += 1\n",
    "        else:\n",
    "            c_2 += 1\n",
    "        curr = curr.next\n",
    "\n",
    "    # Reset current pointer to the head of the linked list\n",
    "    curr = head\n",
    "\n",
    "    # Update node values based on the counts\n",
    "    while curr:\n",
    "        while c_0:\n",
    "            curr.data = 0\n",
    "            c_0 -= 1\n",
    "            curr = curr.next\n",
    "        while c_1:\n",
    "            curr.data = 1\n",
    "            c_1 -= 1\n",
    "            curr = curr.next\n",
    "        while c_2:\n",
    "            curr.data = 2\n",
    "            c_2 -= 1\n",
    "            curr = curr.next\n",
    "\n",
    "    # Return the sorted linked list\n",
    "    return head"
   ]
  },
  {
   "cell_type": "markdown",
   "id": "02ed08b3",
   "metadata": {},
   "source": [
    "**By using One Pass Method**\n",
    "\n",
    "\n",
    "Quick Summary:\n",
    " - Create three dummy nodes (L0, L1, L2) to represent lists of values 0, 1, and 2.\n",
    " - Use three pointers (zero, one, two) to iterate through these dummy lists.\n",
    " - Traverse the original linked list 'head', assigning nodes to the appropriate dummy list.\n",
    " - Finally, link the three dummy lists together and return the sorted linked list."
   ]
  },
  {
   "cell_type": "code",
   "execution_count": 4,
   "id": "27905e79",
   "metadata": {
    "ExecuteTime": {
     "end_time": "2023-11-29T08:47:05.434560Z",
     "start_time": "2023-11-29T08:47:05.417756Z"
    }
   },
   "outputs": [],
   "source": [
    "# Given a linked list 'head' containing values 0, 1, and 2,\n",
    "# this function rearranges the nodes such that all nodes with\n",
    "# value 0 come first, followed by nodes with value 1, and then 2.\n",
    "# Time Complexity: O(N), where N is the number of nodes in the linked list.\n",
    "# Space Complexity: O(1), as the function uses a constant amount of extra space.\n",
    "\n",
    "class Node:\n",
    "    def __init__(self, data):\n",
    "        self.data = data\n",
    "        self.next = None\n",
    "\n",
    "def sortList(head):\n",
    "    # Create three dummy nodes to represent lists of values 0, 1, and 2\n",
    "    L0 = Node(0)\n",
    "    L1 = Node(0)\n",
    "    L2 = Node(0)\n",
    "\n",
    "    # Use three pointers to iterate through the dummy lists\n",
    "    zero = L0\n",
    "    one = L1\n",
    "    two = L2\n",
    "\n",
    "    # Traverse the original linked list 'head'\n",
    "    curr = head\n",
    "    while curr:\n",
    "        # Assign nodes to the appropriate dummy list based on their value\n",
    "        if curr.data == 0:\n",
    "            zero.next = curr\n",
    "            zero = zero.next\n",
    "        elif curr.data == 1:\n",
    "            one.next = curr\n",
    "            one = one.next\n",
    "        else:\n",
    "            two.next = curr\n",
    "            two = two.next\n",
    "        curr = curr.next\n",
    "\n",
    "    # Link the three dummy lists together\n",
    "    zero.next = L1.next\n",
    "    one.next = L2.next\n",
    "    two.next = None\n",
    "\n",
    "    # Return the sorted linked list\n",
    "    return L0.next"
   ]
  },
  {
   "cell_type": "markdown",
   "id": "7e26283c",
   "metadata": {},
   "source": [
    "**BY using Sorting Algortihm**"
   ]
  },
  {
   "cell_type": "code",
   "execution_count": 8,
   "id": "0e79156b",
   "metadata": {
    "ExecuteTime": {
     "end_time": "2023-11-22T13:13:15.919785Z",
     "start_time": "2023-11-22T13:13:15.884106Z"
    }
   },
   "outputs": [],
   "source": [
    "def sortList(head):\n",
    "    \"\"\"\n",
    "    Sorts a linked list containing 0s, 1s, and 2s.\n",
    "\n",
    "    Quick Summary:\n",
    "    - Count the occurrences of each digit (0, 1, 2) in the linked list.\n",
    "    - Update the linked list based on the counts of each digit.\n",
    "\n",
    "    Parameters:\n",
    "    - head: Head of the linked list containing 0s, 1s, and 2s.\n",
    "\n",
    "    Returns:\n",
    "    - Head of the sorted linked list.\n",
    "    \"\"\"\n",
    "\n",
    "    # Count occurrences of each digit (0, 1, 2) in the linked list\n",
    "    c_0, c_1, c_2 = 0, 0, 0\n",
    "    curr = head\n",
    "    while curr:\n",
    "        if curr.data == 0:\n",
    "            c_0 += 1\n",
    "        elif curr.data == 1:\n",
    "            c_1 += 1\n",
    "        else:\n",
    "            c_2 += 1\n",
    "        curr = curr.next\n",
    "\n",
    "    # Update the linked list based on the counts of each digit\n",
    "    curr = head\n",
    "    while curr:\n",
    "        while c_0:\n",
    "            curr.data = 0\n",
    "            c_0 -= 1\n",
    "            curr = curr.next\n",
    "        while c_1:\n",
    "            curr.data = 1\n",
    "            c_1 -= 1\n",
    "            curr = curr.next\n",
    "        while c_2:\n",
    "            curr.data = 2\n",
    "            c_2 -= 1\n",
    "            curr = curr.next\n",
    "\n",
    "    return head\n",
    "\n",
    "# Time Complexity: O(n), where n is the number of nodes in the linked list.\n",
    "# Space Complexity: O(1), as the counts are maintained using a constant number of variables."
   ]
  },
  {
   "cell_type": "markdown",
   "id": "79d41ff7",
   "metadata": {},
   "source": [
    "## Add Two Numbers"
   ]
  },
  {
   "cell_type": "code",
   "execution_count": 9,
   "id": "6e0e137d",
   "metadata": {
    "ExecuteTime": {
     "end_time": "2023-11-22T15:40:39.930999Z",
     "start_time": "2023-11-22T15:40:39.722112Z"
    }
   },
   "outputs": [
    {
     "ename": "NameError",
     "evalue": "name 'ListNode' is not defined",
     "output_type": "error",
     "traceback": [
      "\u001b[1;31m---------------------------------------------------------------------------\u001b[0m",
      "\u001b[1;31mNameError\u001b[0m                                 Traceback (most recent call last)",
      "Cell \u001b[1;32mIn[9], line 1\u001b[0m\n\u001b[1;32m----> 1\u001b[0m \u001b[38;5;28;01mclass\u001b[39;00m \u001b[38;5;21;01mSolution\u001b[39;00m:\n\u001b[0;32m      2\u001b[0m     \u001b[38;5;28;01mdef\u001b[39;00m \u001b[38;5;21maddTwoNumbers\u001b[39m(\u001b[38;5;28mself\u001b[39m, l1: ListNode, l2: ListNode) \u001b[38;5;241m-\u001b[39m\u001b[38;5;241m>\u001b[39m ListNode:\n\u001b[0;32m      3\u001b[0m \u001b[38;5;250m        \u001b[39m\u001b[38;5;124;03m\"\"\"\u001b[39;00m\n\u001b[0;32m      4\u001b[0m \u001b[38;5;124;03m        Adds two numbers represented by linked lists.\u001b[39;00m\n\u001b[0;32m      5\u001b[0m \n\u001b[1;32m   (...)\u001b[0m\n\u001b[0;32m     15\u001b[0m \u001b[38;5;124;03m        - Head of the new linked list representing the sum of the two numbers.\u001b[39;00m\n\u001b[0;32m     16\u001b[0m \u001b[38;5;124;03m        \"\"\"\u001b[39;00m\n",
      "Cell \u001b[1;32mIn[9], line 2\u001b[0m, in \u001b[0;36mSolution\u001b[1;34m()\u001b[0m\n\u001b[0;32m      1\u001b[0m \u001b[38;5;28;01mclass\u001b[39;00m \u001b[38;5;21;01mSolution\u001b[39;00m:\n\u001b[1;32m----> 2\u001b[0m     \u001b[38;5;28;01mdef\u001b[39;00m \u001b[38;5;21maddTwoNumbers\u001b[39m(\u001b[38;5;28mself\u001b[39m, l1: \u001b[43mListNode\u001b[49m, l2: ListNode) \u001b[38;5;241m-\u001b[39m\u001b[38;5;241m>\u001b[39m ListNode:\n\u001b[0;32m      3\u001b[0m \u001b[38;5;250m        \u001b[39m\u001b[38;5;124;03m\"\"\"\u001b[39;00m\n\u001b[0;32m      4\u001b[0m \u001b[38;5;124;03m        Adds two numbers represented by linked lists.\u001b[39;00m\n\u001b[0;32m      5\u001b[0m \n\u001b[1;32m   (...)\u001b[0m\n\u001b[0;32m     15\u001b[0m \u001b[38;5;124;03m        - Head of the new linked list representing the sum of the two numbers.\u001b[39;00m\n\u001b[0;32m     16\u001b[0m \u001b[38;5;124;03m        \"\"\"\u001b[39;00m\n\u001b[0;32m     18\u001b[0m         \u001b[38;5;66;03m# Initialize pointers and carry\u001b[39;00m\n",
      "\u001b[1;31mNameError\u001b[0m: name 'ListNode' is not defined"
     ]
    }
   ],
   "source": [
    "class Solution:\n",
    "    def addTwoNumbers(self, l1: ListNode, l2: ListNode) -> ListNode:\n",
    "        \"\"\"\n",
    "        Adds two numbers represented by linked lists.\n",
    "\n",
    "        Quick Summary:\n",
    "        - Traverse both linked lists simultaneously, summing the corresponding nodes and handling carry.\n",
    "        - Create a new linked list to store the result.\n",
    "\n",
    "        Parameters:\n",
    "        - l1: Head of the first linked list representing a number.\n",
    "        - l2: Head of the second linked list representing a number.\n",
    "\n",
    "        Returns:\n",
    "        - Head of the new linked list representing the sum of the two numbers.\n",
    "        \"\"\"\n",
    "\n",
    "        # Initialize pointers and carry\n",
    "        curr1 = l1\n",
    "        curr2 = l2\n",
    "        carry = 0\n",
    "\n",
    "        # Initialize a dummy node for the new linked list\n",
    "        new_head = ListNode(0)\n",
    "        curr = new_head\n",
    "\n",
    "        # Traverse both linked lists\n",
    "        while curr1 and curr2:\n",
    "            total = curr1.val + curr2.val + carry\n",
    "            curr.next = ListNode(total % 10)\n",
    "            carry = total // 10\n",
    "            curr = curr.next\n",
    "            curr1 = curr1.next\n",
    "            curr2 = curr2.next\n",
    "\n",
    "        # Handle remaining nodes in the first linked list\n",
    "        while curr1:\n",
    "            total = curr1.val + carry\n",
    "            curr.next = ListNode(total % 10)\n",
    "            carry = total // 10\n",
    "            curr = curr.next\n",
    "            curr1 = curr1.next\n",
    "\n",
    "        # Handle remaining nodes in the second linked list\n",
    "        while curr2:\n",
    "            total = curr2.val + carry\n",
    "            curr.next = ListNode(total % 10)\n",
    "            carry = total // 10\n",
    "            curr = curr.next\n",
    "            curr2 = curr2.next\n",
    "\n",
    "        # Handle any remaining carry\n",
    "        if carry > 0:\n",
    "            curr.next = ListNode(carry)\n",
    "\n",
    "        # Return the head of the new linked list\n",
    "        return new_head.next\n",
    "\n",
    "# Time Complexity: O(max(n, m)), where n and m are the lengths of the input linked lists.\n",
    "# Space Complexity: O(max(n, m)), as the length of the new linked list could be max(n, m) + 1."
   ]
  },
  {
   "cell_type": "code",
   "execution_count": 10,
   "id": "cb25168e",
   "metadata": {
    "ExecuteTime": {
     "end_time": "2023-11-22T15:42:03.567456Z",
     "start_time": "2023-11-22T15:42:03.472321Z"
    }
   },
   "outputs": [
    {
     "ename": "NameError",
     "evalue": "name 'Optional' is not defined",
     "output_type": "error",
     "traceback": [
      "\u001b[1;31m---------------------------------------------------------------------------\u001b[0m",
      "\u001b[1;31mNameError\u001b[0m                                 Traceback (most recent call last)",
      "Cell \u001b[1;32mIn[10], line 3\u001b[0m\n\u001b[0;32m      1\u001b[0m \u001b[38;5;66;03m## Shrink Version of above solution\u001b[39;00m\n\u001b[1;32m----> 3\u001b[0m \u001b[38;5;28;01mclass\u001b[39;00m \u001b[38;5;21;01mSolution\u001b[39;00m:\n\u001b[0;32m      4\u001b[0m     \u001b[38;5;28;01mdef\u001b[39;00m \u001b[38;5;21maddTwoNumbers\u001b[39m(\u001b[38;5;28mself\u001b[39m, l1: Optional[ListNode], l2: Optional[ListNode]) \u001b[38;5;241m-\u001b[39m\u001b[38;5;241m>\u001b[39m Optional[ListNode]:\n\u001b[0;32m      5\u001b[0m \u001b[38;5;250m        \u001b[39m\u001b[38;5;124;03m\"\"\"\u001b[39;00m\n\u001b[0;32m      6\u001b[0m \u001b[38;5;124;03m        Adds two numbers represented by linked lists.\u001b[39;00m\n\u001b[0;32m      7\u001b[0m \n\u001b[1;32m   (...)\u001b[0m\n\u001b[0;32m     18\u001b[0m \u001b[38;5;124;03m        - Head of the new linked list representing the sum of the two numbers.\u001b[39;00m\n\u001b[0;32m     19\u001b[0m \u001b[38;5;124;03m        \"\"\"\u001b[39;00m\n",
      "Cell \u001b[1;32mIn[10], line 4\u001b[0m, in \u001b[0;36mSolution\u001b[1;34m()\u001b[0m\n\u001b[0;32m      3\u001b[0m \u001b[38;5;28;01mclass\u001b[39;00m \u001b[38;5;21;01mSolution\u001b[39;00m:\n\u001b[1;32m----> 4\u001b[0m     \u001b[38;5;28;01mdef\u001b[39;00m \u001b[38;5;21maddTwoNumbers\u001b[39m(\u001b[38;5;28mself\u001b[39m, l1: \u001b[43mOptional\u001b[49m[ListNode], l2: Optional[ListNode]) \u001b[38;5;241m-\u001b[39m\u001b[38;5;241m>\u001b[39m Optional[ListNode]:\n\u001b[0;32m      5\u001b[0m \u001b[38;5;250m        \u001b[39m\u001b[38;5;124;03m\"\"\"\u001b[39;00m\n\u001b[0;32m      6\u001b[0m \u001b[38;5;124;03m        Adds two numbers represented by linked lists.\u001b[39;00m\n\u001b[0;32m      7\u001b[0m \n\u001b[1;32m   (...)\u001b[0m\n\u001b[0;32m     18\u001b[0m \u001b[38;5;124;03m        - Head of the new linked list representing the sum of the two numbers.\u001b[39;00m\n\u001b[0;32m     19\u001b[0m \u001b[38;5;124;03m        \"\"\"\u001b[39;00m\n\u001b[0;32m     21\u001b[0m         \u001b[38;5;66;03m# Initialize a dummy node for the result\u001b[39;00m\n",
      "\u001b[1;31mNameError\u001b[0m: name 'Optional' is not defined"
     ]
    }
   ],
   "source": [
    "## Shrink Version of above solution\n",
    "\n",
    "class Solution:\n",
    "    def addTwoNumbers(self, l1: Optional[ListNode], l2: Optional[ListNode]) -> Optional[ListNode]:\n",
    "        \"\"\"\n",
    "        Adds two numbers represented by linked lists.\n",
    "\n",
    "        Quick Summary:\n",
    "        - Initialize a dummy node for the result.\n",
    "        - Traverse both linked lists simultaneously, summing the corresponding nodes and handling carry.\n",
    "        - Create a new linked list to store the result.\n",
    "\n",
    "        Parameters:\n",
    "        - l1: Head of the first linked list representing a number.\n",
    "        - l2: Head of the second linked list representing a number.\n",
    "\n",
    "        Returns:\n",
    "        - Head of the new linked list representing the sum of the two numbers.\n",
    "        \"\"\"\n",
    "\n",
    "        # Initialize a dummy node for the result\n",
    "        dummy = ListNode()\n",
    "        curr = dummy\n",
    "        carry = 0\n",
    "\n",
    "        # Traverse both linked lists\n",
    "        while l1 or l2 or carry:\n",
    "            # Get values of current nodes (if available)\n",
    "            v1 = l1.val if l1 else 0\n",
    "            v2 = l2.val if l2 else 0\n",
    "\n",
    "            # Calculate the sum and carry\n",
    "            val = v1 + v2 + carry\n",
    "            carry = val // 10  # Calculate the carry (1st digit)\n",
    "            val = val % 10  # Calculate the unit digit\n",
    "\n",
    "            # Append the value to the result linked list\n",
    "            curr.next = ListNode(val)\n",
    "\n",
    "            # Update pointers\n",
    "            curr = curr.next\n",
    "            l1 = l1.next if l1 else None\n",
    "            l2 = l2.next if l2 else None\n",
    "\n",
    "        # Return the head of the new linked list\n",
    "        return dummy.next\n",
    "\n",
    "# Time Complexity: O(max(n, m)), where n and m are the lengths of the input linked lists.\n",
    "# Space Complexity: O(max(n, m)), as the length of the new linked list could be max(n, m) + 1."
   ]
  },
  {
   "cell_type": "code",
   "execution_count": null,
   "id": "14362ac8",
   "metadata": {},
   "outputs": [],
   "source": []
  },
  {
   "cell_type": "code",
   "execution_count": null,
   "id": "dd389de8",
   "metadata": {},
   "outputs": [],
   "source": []
  },
  {
   "cell_type": "code",
   "execution_count": null,
   "id": "9f1bd7e8",
   "metadata": {},
   "outputs": [],
   "source": []
  },
  {
   "cell_type": "code",
   "execution_count": null,
   "id": "a595a904",
   "metadata": {},
   "outputs": [],
   "source": []
  },
  {
   "cell_type": "code",
   "execution_count": null,
   "id": "45a6e1ae",
   "metadata": {},
   "outputs": [],
   "source": []
  },
  {
   "cell_type": "code",
   "execution_count": null,
   "id": "acc241bb",
   "metadata": {},
   "outputs": [],
   "source": []
  },
  {
   "cell_type": "markdown",
   "id": "b1ec9d07",
   "metadata": {},
   "source": [
    "# 2D Linked List"
   ]
  },
  {
   "cell_type": "markdown",
   "id": "47385d30",
   "metadata": {},
   "source": [
    "## Array to Doubly Linked List"
   ]
  },
  {
   "cell_type": "code",
   "execution_count": 9,
   "id": "547fef81",
   "metadata": {
    "ExecuteTime": {
     "end_time": "2023-11-18T15:09:43.756359Z",
     "start_time": "2023-11-18T15:09:43.713142Z"
    }
   },
   "outputs": [],
   "source": [
    "class Node:\n",
    "    def __init__(self, data=None, prev=None, next=None):\n",
    "        self.data = data\n",
    "        self.prev = prev\n",
    "        self.next = next\n",
    "\n",
    "def constructDLL(arr: [int]) -> Node:\n",
    "    # Create a dummy head node to simplify handling of the first node\n",
    "    head = Node()\n",
    "    # Initialize current and previous pointers\n",
    "    curr = head\n",
    "    prev = None\n",
    "    \n",
    "    # Iterate through the array\n",
    "    for num in arr:\n",
    "        # Create a new node with the current number\n",
    "        curr.next = Node(num)\n",
    "        # Set the previous pointer of the current node\n",
    "        curr.next.prev = curr\n",
    "        # Move the current pointer to the newly created node\n",
    "        curr = curr.next\n",
    "    \n",
    "    # Return the next of the dummy head, which is the actual head of the doubly linked list\n",
    "    return head.next"
   ]
  },
  {
   "cell_type": "markdown",
   "id": "c1f62e79",
   "metadata": {},
   "source": [
    "## Insert at the end of DLL"
   ]
  },
  {
   "cell_type": "code",
   "execution_count": 10,
   "id": "b58ee3dd",
   "metadata": {
    "ExecuteTime": {
     "end_time": "2023-11-18T15:14:37.947009Z",
     "start_time": "2023-11-18T15:14:37.909058Z"
    }
   },
   "outputs": [],
   "source": [
    "class Node:\n",
    "    def __init__(self, data=None, prev=None, next=None):\n",
    "        self.data = data\n",
    "        self.prev = prev\n",
    "        self.next = next\n",
    "\n",
    "def insertAtTail(head: Node, k: int) -> Node:\n",
    "    # Check if the linked list is empty\n",
    "    if head is None:\n",
    "        return Node(k)  # If empty, create a new node as the head\n",
    "    \n",
    "    # Start at the head of the linked list\n",
    "    curr = head\n",
    "    \n",
    "    # Traverse the linked list until the end (i.e., until the current node's next is None)\n",
    "    while curr.next is not None:\n",
    "        curr = curr.next  # Move to the next node\n",
    "    \n",
    "    # Create a new node with the given value at the end of the linked list\n",
    "    curr.next = Node(k)\n",
    "    curr.next.prev = curr  # Set the previous pointer of the new node\n",
    "    return head  # Return the head of the linked list"
   ]
  },
  {
   "cell_type": "markdown",
   "id": "8511e106",
   "metadata": {},
   "source": [
    "## Delete Last Node of a DLL"
   ]
  },
  {
   "cell_type": "code",
   "execution_count": 11,
   "id": "40f7633a",
   "metadata": {
    "ExecuteTime": {
     "end_time": "2023-11-18T15:17:55.105686Z",
     "start_time": "2023-11-18T15:17:55.073355Z"
    }
   },
   "outputs": [],
   "source": [
    "class Node:\n",
    "    def __init__(self, data=None, prev=None, next=None):\n",
    "        self.data = data\n",
    "        self.prev = prev\n",
    "        self.next = next\n",
    "\n",
    "def deleteLastNode(head: Node) -> Node:\n",
    "    # Check if the linked list has only one node\n",
    "    if head.next is None:\n",
    "        return None  # If only one node, return None to indicate an empty list\n",
    "    \n",
    "    # Start at the head of the linked list\n",
    "    curr = head\n",
    "    \n",
    "    # Traverse the linked list until the second-to-last node\n",
    "    while curr.next.next is not None:\n",
    "        curr = curr.next  # Move to the next node\n",
    "    \n",
    "    # Set the previous pointer of the last node to None\n",
    "    curr.next.prev = None\n",
    "    \n",
    "    # Set the next pointer of the second-to-last node to None, effectively removing the last node\n",
    "    curr.next = None\n",
    "    \n",
    "    return head  # Return the head of the modified linked list"
   ]
  },
  {
   "cell_type": "markdown",
   "id": "393529c1",
   "metadata": {},
   "source": [
    "## Reverse DLL"
   ]
  },
  {
   "cell_type": "code",
   "execution_count": 12,
   "id": "6a835999",
   "metadata": {
    "ExecuteTime": {
     "end_time": "2023-11-18T15:35:15.950274Z",
     "start_time": "2023-11-18T15:35:15.920142Z"
    }
   },
   "outputs": [],
   "source": [
    "class Node:\n",
    "    def __init__(self, data=None, prev=None, next=None):\n",
    "        self.data = data\n",
    "        self.prev = prev\n",
    "        self.next = next\n",
    "\n",
    "def reverseDLL(head):\n",
    "    # Start at the head of the linked list\n",
    "    curr = head\n",
    "    prev = None\n",
    "    \n",
    "    # Traverse the linked list\n",
    "    while curr is not None:\n",
    "        temp = curr.next  # Save the next node\n",
    "        \n",
    "        # Reverse the pointers\n",
    "        curr.prev = curr.next\n",
    "        curr.next = prev\n",
    "        \n",
    "        # Move to the next node\n",
    "        prev = curr\n",
    "        curr = temp\n",
    "    \n",
    "    # Set the head to the new tail (prev)\n",
    "    head = prev\n",
    "    \n",
    "    return head"
   ]
  },
  {
   "cell_type": "markdown",
   "id": "ccacd2d8",
   "metadata": {},
   "source": [
    "## Delete all occurrences of a given key in a doubly linked list"
   ]
  },
  {
   "cell_type": "markdown",
   "id": "77590857",
   "metadata": {},
   "source": [
    "### By Using Arrays\n",
    "\n",
    "    Quick Summary:\n",
    "    - Traverse the linked list, excluding nodes with the value equal to k.\n",
    "    - Create a new linked list with the remaining nodes."
   ]
  },
  {
   "cell_type": "code",
   "execution_count": 1,
   "id": "7ef1abc1",
   "metadata": {
    "ExecuteTime": {
     "end_time": "2023-11-23T11:40:04.500065Z",
     "start_time": "2023-11-23T11:40:03.482448Z"
    }
   },
   "outputs": [
    {
     "ename": "NameError",
     "evalue": "name 'Node' is not defined",
     "output_type": "error",
     "traceback": [
      "\u001b[1;31m---------------------------------------------------------------------------\u001b[0m",
      "\u001b[1;31mNameError\u001b[0m                                 Traceback (most recent call last)",
      "Cell \u001b[1;32mIn[1], line 1\u001b[0m\n\u001b[1;32m----> 1\u001b[0m \u001b[38;5;28;01mdef\u001b[39;00m \u001b[38;5;21mdeleteAllOccurrences\u001b[39m(head: \u001b[43mNode\u001b[49m, k: \u001b[38;5;28mint\u001b[39m) \u001b[38;5;241m-\u001b[39m\u001b[38;5;241m>\u001b[39m Node:\n\u001b[0;32m      2\u001b[0m \u001b[38;5;250m    \u001b[39m\u001b[38;5;124;03m\"\"\"\u001b[39;00m\n\u001b[0;32m      3\u001b[0m \u001b[38;5;124;03m    Deletes all occurrences of a specific value (k) from a linked list.\u001b[39;00m\n\u001b[0;32m      4\u001b[0m \n\u001b[1;32m   (...)\u001b[0m\n\u001b[0;32m     14\u001b[0m \u001b[38;5;124;03m    - Head of the new linked list after deleting all occurrences of k.\u001b[39;00m\n\u001b[0;32m     15\u001b[0m \u001b[38;5;124;03m    \"\"\"\u001b[39;00m\n\u001b[0;32m     17\u001b[0m     \u001b[38;5;66;03m# Initialize variables\u001b[39;00m\n",
      "\u001b[1;31mNameError\u001b[0m: name 'Node' is not defined"
     ]
    }
   ],
   "source": [
    "def deleteAllOccurrences(head: Node, k: int) -> Node:\n",
    "    \"\"\"\n",
    "    Deletes all occurrences of a specific value (k) from a linked list.\n",
    "\n",
    "    Quick Summary:\n",
    "    - Traverse the linked list, excluding nodes with the value equal to k.\n",
    "    - Create a new linked list with the remaining nodes.\n",
    "\n",
    "    Parameters:\n",
    "    - head: Head of the linked list.\n",
    "    - k: Value to be deleted from the linked list.\n",
    "\n",
    "    Returns:\n",
    "    - Head of the new linked list after deleting all occurrences of k.\n",
    "    \"\"\"\n",
    "\n",
    "    # Initialize variables\n",
    "    curr = head\n",
    "    arr = []\n",
    "\n",
    "    # Traverse the linked list, excluding nodes with the value equal to k\n",
    "    while curr:\n",
    "        if curr.data != k:\n",
    "            arr.append(curr.data)\n",
    "        curr = curr.next\n",
    "\n",
    "    # Create a new linked list with the remaining nodes\n",
    "    new_head = Node(0)\n",
    "    dummy = new_head\n",
    "    prev = None\n",
    "\n",
    "    for num in arr:\n",
    "        dummy.next = Node(num)\n",
    "        dummy.prev = prev\n",
    "        prev = dummy\n",
    "        dummy = dummy.next\n",
    "\n",
    "    return new_head.next\n",
    "\n",
    "# Time Complexity: O(n), where n is the length of the linked list.\n",
    "# Space Complexity: O(n), as an array is used to store the remaining nodes."
   ]
  },
  {
   "cell_type": "markdown",
   "id": "3a6974c3",
   "metadata": {},
   "source": [
    "### By using LinkedList In place\n",
    "\n",
    "    Quick Summary:\n",
    "    - Initialize a dummy node to simplify handling of edge cases.\n",
    "    - Traverse the linked list, updating pointers to skip nodes with the value equal to k."
   ]
  },
  {
   "cell_type": "code",
   "execution_count": 3,
   "id": "124f533a",
   "metadata": {
    "ExecuteTime": {
     "end_time": "2023-11-23T11:53:08.995999Z",
     "start_time": "2023-11-23T11:53:08.924253Z"
    }
   },
   "outputs": [
    {
     "ename": "NameError",
     "evalue": "name 'Node' is not defined",
     "output_type": "error",
     "traceback": [
      "\u001b[1;31m---------------------------------------------------------------------------\u001b[0m",
      "\u001b[1;31mNameError\u001b[0m                                 Traceback (most recent call last)",
      "Cell \u001b[1;32mIn[3], line 1\u001b[0m\n\u001b[1;32m----> 1\u001b[0m \u001b[38;5;28;01mdef\u001b[39;00m \u001b[38;5;21mdeleteAllOccurrences\u001b[39m(head: \u001b[43mNode\u001b[49m, k: \u001b[38;5;28mint\u001b[39m) \u001b[38;5;241m-\u001b[39m\u001b[38;5;241m>\u001b[39m Node:\n\u001b[0;32m      2\u001b[0m \u001b[38;5;250m    \u001b[39m\u001b[38;5;124;03m\"\"\"\u001b[39;00m\n\u001b[0;32m      3\u001b[0m \u001b[38;5;124;03m    Deletes all occurrences of a specific value (k) from a doubly linked list.\u001b[39;00m\n\u001b[0;32m      4\u001b[0m \n\u001b[1;32m   (...)\u001b[0m\n\u001b[0;32m     14\u001b[0m \u001b[38;5;124;03m    - Head of the modified doubly linked list after deleting all occurrences of k.\u001b[39;00m\n\u001b[0;32m     15\u001b[0m \u001b[38;5;124;03m    \"\"\"\u001b[39;00m\n\u001b[0;32m     17\u001b[0m     \u001b[38;5;66;03m# Initialize variables\u001b[39;00m\n",
      "\u001b[1;31mNameError\u001b[0m: name 'Node' is not defined"
     ]
    }
   ],
   "source": [
    "def deleteAllOccurrences(head: Node, k: int) -> Node:\n",
    "    \"\"\"\n",
    "    Deletes all occurrences of a specific value (k) from a doubly linked list.\n",
    "\n",
    "    Quick Summary:\n",
    "    - Initialize a dummy node to simplify handling of edge cases.\n",
    "    - Traverse the linked list, updating pointers to skip nodes with the value equal to k.\n",
    "\n",
    "    Parameters:\n",
    "    - head: Head of the doubly linked list.\n",
    "    - k: Value to be deleted from the linked list.\n",
    "\n",
    "    Returns:\n",
    "    - Head of the modified doubly linked list after deleting all occurrences of k.\n",
    "    \"\"\"\n",
    "\n",
    "    # Initialize variables\n",
    "    dummy = Node(0)\n",
    "    dummy.next = head\n",
    "    prev = dummy\n",
    "    curr = head\n",
    "\n",
    "    # Traverse the linked list, updating pointers to skip nodes with the value equal to k\n",
    "    while curr:\n",
    "        if curr.data == k:\n",
    "            # Update the prev and next pointers to skip the current node\n",
    "            if curr.next:\n",
    "                curr.next.prev = prev\n",
    "            prev.next = curr.next\n",
    "        else:\n",
    "            prev = curr\n",
    "        curr = curr.next\n",
    "\n",
    "    return dummy.next\n",
    "\n",
    "# Time Complexity: O(n), where n is the length of the linked list.\n",
    "# Space Complexity: O(1), as the algorithm uses a constant amount of extra space."
   ]
  },
  {
   "cell_type": "markdown",
   "id": "f95920ce",
   "metadata": {},
   "source": [
    "## Remove Duplicates From Sorted DLL"
   ]
  },
  {
   "cell_type": "markdown",
   "id": "d9887023",
   "metadata": {},
   "source": [
    "### By using HashMap"
   ]
  },
  {
   "cell_type": "code",
   "execution_count": 4,
   "id": "fdf482d0",
   "metadata": {
    "ExecuteTime": {
     "end_time": "2023-11-23T12:11:55.481009Z",
     "start_time": "2023-11-23T12:11:55.376782Z"
    }
   },
   "outputs": [
    {
     "ename": "NameError",
     "evalue": "name 'Node' is not defined",
     "output_type": "error",
     "traceback": [
      "\u001b[1;31m---------------------------------------------------------------------------\u001b[0m",
      "\u001b[1;31mNameError\u001b[0m                                 Traceback (most recent call last)",
      "Cell \u001b[1;32mIn[4], line 1\u001b[0m\n\u001b[1;32m----> 1\u001b[0m \u001b[38;5;28;01mdef\u001b[39;00m \u001b[38;5;21mremoveDuplicates\u001b[39m(head: \u001b[43mNode\u001b[49m) \u001b[38;5;241m-\u001b[39m\u001b[38;5;241m>\u001b[39m Node:\n\u001b[0;32m      2\u001b[0m \u001b[38;5;250m    \u001b[39m\u001b[38;5;124;03m\"\"\"\u001b[39;00m\n\u001b[0;32m      3\u001b[0m \u001b[38;5;124;03m    Removes duplicate values from a doubly linked list while maintaining the order.\u001b[39;00m\n\u001b[0;32m      4\u001b[0m \n\u001b[1;32m   (...)\u001b[0m\n\u001b[0;32m     13\u001b[0m \u001b[38;5;124;03m    - Head of the modified doubly linked list with duplicate values removed while maintaining the order.\u001b[39;00m\n\u001b[0;32m     14\u001b[0m \u001b[38;5;124;03m    \"\"\"\u001b[39;00m\n\u001b[0;32m     16\u001b[0m     \u001b[38;5;66;03m# Use a dictionary to track unique values and their order during traversal\u001b[39;00m\n",
      "\u001b[1;31mNameError\u001b[0m: name 'Node' is not defined"
     ]
    }
   ],
   "source": [
    "def removeDuplicates(head: Node) -> Node:\n",
    "    \"\"\"\n",
    "    Removes duplicate values from a doubly linked list while maintaining the order.\n",
    "\n",
    "    Quick Summary:\n",
    "    - Use a dictionary to track unique values and their order during traversal.\n",
    "    - Create a new linked list with unique values in the order of appearance.\n",
    "\n",
    "    Parameters:\n",
    "    - head: Head of the doubly linked list.\n",
    "\n",
    "    Returns:\n",
    "    - Head of the modified doubly linked list with duplicate values removed while maintaining the order.\n",
    "    \"\"\"\n",
    "\n",
    "    # Use a dictionary to track unique values and their order during traversal\n",
    "    unique_values = {}\n",
    "    \n",
    "    # Create a new linked list with unique values in the order of appearance\n",
    "    new_head = Node(0)\n",
    "    dummy = new_head\n",
    "    prev = None\n",
    "\n",
    "    # Traverse the linked list, and add unique values to the new linked list\n",
    "    curr = head\n",
    "    while curr:\n",
    "        if curr.data not in unique_values:\n",
    "            unique_values[curr.data] = True\n",
    "            dummy.prev = prev\n",
    "            dummy.next = Node(curr.data)\n",
    "            prev = dummy\n",
    "            dummy = dummy.next\n",
    "        curr = curr.next\n",
    "\n",
    "    return new_head.next\n",
    "\n",
    "# Time Complexity: O(n), where n is the length of the linked list.\n",
    "# Space Complexity: O(k), where k is the number of unique values in the linked list."
   ]
  },
  {
   "cell_type": "markdown",
   "id": "24a5db5b",
   "metadata": {},
   "source": [
    "## Find Pairs of Sum"
   ]
  },
  {
   "cell_type": "markdown",
   "id": "245ecb66",
   "metadata": {},
   "source": [
    "### By using Naive approach"
   ]
  },
  {
   "cell_type": "code",
   "execution_count": 1,
   "id": "e1188fab",
   "metadata": {
    "ExecuteTime": {
     "end_time": "2023-11-23T18:22:00.143232Z",
     "start_time": "2023-11-23T18:21:59.237807Z"
    }
   },
   "outputs": [
    {
     "ename": "NameError",
     "evalue": "name 'Node' is not defined",
     "output_type": "error",
     "traceback": [
      "\u001b[1;31m---------------------------------------------------------------------------\u001b[0m",
      "\u001b[1;31mNameError\u001b[0m                                 Traceback (most recent call last)",
      "Cell \u001b[1;32mIn[1], line 1\u001b[0m\n\u001b[1;32m----> 1\u001b[0m \u001b[38;5;28;01mdef\u001b[39;00m \u001b[38;5;21mfindPairs\u001b[39m(head: \u001b[43mNode\u001b[49m, k: \u001b[38;5;28mint\u001b[39m) \u001b[38;5;241m-\u001b[39m\u001b[38;5;241m>\u001b[39m [[\u001b[38;5;28mint\u001b[39m]]:\n\u001b[0;32m      2\u001b[0m \u001b[38;5;250m    \u001b[39m\u001b[38;5;124;03m\"\"\"\u001b[39;00m\n\u001b[0;32m      3\u001b[0m \u001b[38;5;124;03m    Finds pairs of nodes in a doubly linked list whose sum equals a given value 'k'.\u001b[39;00m\n\u001b[0;32m      4\u001b[0m \n\u001b[1;32m   (...)\u001b[0m\n\u001b[0;32m     15\u001b[0m \u001b[38;5;124;03m    - List of pairs whose sum equals the given value 'k'.\u001b[39;00m\n\u001b[0;32m     16\u001b[0m \u001b[38;5;124;03m    \"\"\"\u001b[39;00m\n\u001b[0;32m     18\u001b[0m     \u001b[38;5;66;03m# Initialize an empty list to store pairs\u001b[39;00m\n",
      "\u001b[1;31mNameError\u001b[0m: name 'Node' is not defined"
     ]
    }
   ],
   "source": [
    "def findPairs(head: Node, k: int) -> [[int]]:\n",
    "    \"\"\"\n",
    "    Finds pairs of nodes in a doubly linked list whose sum equals a given value 'k'.\n",
    "\n",
    "    Quick Summary:\n",
    "    - Use nested loops to iterate through all pairs of nodes.\n",
    "    - Check if the sum of node values equals the given value 'k'.\n",
    "    - Append the pairs to the result list.\n",
    "\n",
    "    Parameters:\n",
    "    - head: Head of the doubly linked list.\n",
    "    - k: Target sum value.\n",
    "\n",
    "    Returns:\n",
    "    - List of pairs whose sum equals the given value 'k'.\n",
    "    \"\"\"\n",
    "\n",
    "    # Initialize an empty list to store pairs\n",
    "    ans = []\n",
    "\n",
    "    # Iterate through each node in the linked list\n",
    "    curr = head\n",
    "    while curr:\n",
    "        # Iterate through the remaining nodes to form pairs\n",
    "        dummy = curr.next\n",
    "        while dummy:\n",
    "            # Check if the sum of node values equals the given value 'k'\n",
    "            if curr.data + dummy.data == k:\n",
    "                ans.append([curr.data, dummy.data])\n",
    "            dummy = dummy.next\n",
    "        curr = curr.next\n",
    "\n",
    "    return ans\n",
    "\n",
    "# Time Complexity: O(n^2), where n is the length of the linked list.\n",
    "# Space Complexity: O(1), as the space used is constant, and the result list is not counted towards space complexity."
   ]
  },
  {
   "cell_type": "markdown",
   "id": "be6d40a1",
   "metadata": {},
   "source": [
    "### By using Set \n",
    "\n",
    "    Quick Summary:\n",
    "    - Use a set to store the values of nodes as we traverse the linked list.\n",
    "    - Iterate through the linked list again to find pairs with the target sum.\n",
    "    - Remove each node's value from the set after processing to avoid duplicate pairs."
   ]
  },
  {
   "cell_type": "code",
   "execution_count": 2,
   "id": "5d265ccb",
   "metadata": {
    "ExecuteTime": {
     "end_time": "2023-11-23T18:29:21.016338Z",
     "start_time": "2023-11-23T18:29:20.988930Z"
    }
   },
   "outputs": [
    {
     "ename": "NameError",
     "evalue": "name 'Node' is not defined",
     "output_type": "error",
     "traceback": [
      "\u001b[1;31m---------------------------------------------------------------------------\u001b[0m",
      "\u001b[1;31mNameError\u001b[0m                                 Traceback (most recent call last)",
      "Cell \u001b[1;32mIn[2], line 1\u001b[0m\n\u001b[1;32m----> 1\u001b[0m \u001b[38;5;28;01mdef\u001b[39;00m \u001b[38;5;21mfindPairs\u001b[39m(head: \u001b[43mNode\u001b[49m, k: \u001b[38;5;28mint\u001b[39m) \u001b[38;5;241m-\u001b[39m\u001b[38;5;241m>\u001b[39m [[\u001b[38;5;28mint\u001b[39m]]:\n\u001b[0;32m      2\u001b[0m \u001b[38;5;250m    \u001b[39m\u001b[38;5;124;03m\"\"\"\u001b[39;00m\n\u001b[0;32m      3\u001b[0m \u001b[38;5;124;03m    Finds pairs of nodes in a doubly linked list whose sum equals a given value 'k'.\u001b[39;00m\n\u001b[0;32m      4\u001b[0m \n\u001b[1;32m   (...)\u001b[0m\n\u001b[0;32m     15\u001b[0m \u001b[38;5;124;03m    - List of pairs whose sum equals the given value 'k'.\u001b[39;00m\n\u001b[0;32m     16\u001b[0m \u001b[38;5;124;03m    \"\"\"\u001b[39;00m\n\u001b[0;32m     18\u001b[0m     \u001b[38;5;66;03m# Initialize an empty set to store node values\u001b[39;00m\n",
      "\u001b[1;31mNameError\u001b[0m: name 'Node' is not defined"
     ]
    }
   ],
   "source": [
    "def findPairs(head: Node, k: int) -> [[int]]:\n",
    "    \"\"\"\n",
    "    Finds pairs of nodes in a doubly linked list whose sum equals a given value 'k'.\n",
    "\n",
    "    Quick Summary:\n",
    "    - Use a set to store the values of nodes as we traverse the linked list.\n",
    "    - Iterate through the linked list again to find pairs with the target sum.\n",
    "    - Remove each node's value from the set after processing to avoid duplicate pairs.\n",
    "\n",
    "    Parameters:\n",
    "    - head: Head of the doubly linked list.\n",
    "    - k: Target sum value.\n",
    "\n",
    "    Returns:\n",
    "    - List of pairs whose sum equals the given value 'k'.\n",
    "    \"\"\"\n",
    "\n",
    "    # Initialize an empty set to store node values\n",
    "    setV = set()\n",
    "\n",
    "    # Initialize an empty list to store pairs\n",
    "    ans = []\n",
    "\n",
    "    # First pass: Traverse the linked list and add values to the set\n",
    "    curr = head\n",
    "    while curr:\n",
    "        setV.add(curr.data)\n",
    "        curr = curr.next\n",
    "\n",
    "    # Second pass: Traverse the linked list again to find pairs with the target sum\n",
    "    curr = head\n",
    "    while curr:\n",
    "        # Calculate the difference between the target sum and the current node's value\n",
    "        diff = k - curr.data\n",
    "\n",
    "        # Check if the difference is not equal to the current node's value and is present in the set\n",
    "        if diff != curr.data and diff in setV:\n",
    "            ans.append([curr.data, diff])\n",
    "\n",
    "            # Remove the current node's value from the set to avoid duplicate pairs\n",
    "            setV.remove(curr.data)\n",
    "\n",
    "        curr = curr.next\n",
    "\n",
    "    return ans\n",
    "\n",
    "# Time Complexity: O(n), where n is the length of the linked list.\n",
    "# Space Complexity: O(n), as the set may store all unique values of the linked list."
   ]
  },
  {
   "cell_type": "markdown",
   "id": "cd934c9b",
   "metadata": {},
   "source": [
    "### By using Two sets"
   ]
  },
  {
   "cell_type": "code",
   "execution_count": 3,
   "id": "c988202f",
   "metadata": {
    "ExecuteTime": {
     "end_time": "2023-11-23T18:36:38.257284Z",
     "start_time": "2023-11-23T18:36:38.220351Z"
    }
   },
   "outputs": [
    {
     "ename": "NameError",
     "evalue": "name 'Node' is not defined",
     "output_type": "error",
     "traceback": [
      "\u001b[1;31m---------------------------------------------------------------------------\u001b[0m",
      "\u001b[1;31mNameError\u001b[0m                                 Traceback (most recent call last)",
      "Cell \u001b[1;32mIn[3], line 1\u001b[0m\n\u001b[1;32m----> 1\u001b[0m \u001b[38;5;28;01mdef\u001b[39;00m \u001b[38;5;21mfindPairs\u001b[39m(head: \u001b[43mNode\u001b[49m, k: \u001b[38;5;28mint\u001b[39m) \u001b[38;5;241m-\u001b[39m\u001b[38;5;241m>\u001b[39m [[\u001b[38;5;28mint\u001b[39m]]:\n\u001b[0;32m      2\u001b[0m \u001b[38;5;250m    \u001b[39m\u001b[38;5;124;03m\"\"\"\u001b[39;00m\n\u001b[0;32m      3\u001b[0m \u001b[38;5;124;03m    Finds unique pairs of nodes in a doubly linked list whose sum equals a given value 'k'.\u001b[39;00m\n\u001b[0;32m      4\u001b[0m \n\u001b[1;32m   (...)\u001b[0m\n\u001b[0;32m     15\u001b[0m \u001b[38;5;124;03m    - List of unique pairs whose sum equals the given value 'k'.\u001b[39;00m\n\u001b[0;32m     16\u001b[0m \u001b[38;5;124;03m    \"\"\"\u001b[39;00m\n\u001b[0;32m     18\u001b[0m     \u001b[38;5;66;03m# Initialize an empty set to store unique pairs\u001b[39;00m\n",
      "\u001b[1;31mNameError\u001b[0m: name 'Node' is not defined"
     ]
    }
   ],
   "source": [
    "def findPairs(head: Node, k: int) -> [[int]]:\n",
    "    \"\"\"\n",
    "    Finds unique pairs of nodes in a doubly linked list whose sum equals a given value 'k'.\n",
    "\n",
    "    Quick Summary:\n",
    "    - Use a set to store seen values as we traverse the linked list.\n",
    "    - Calculate the complement for each node's value to check for the presence of pairs.\n",
    "    - Add unique pairs to the 'pairs' set.\n",
    "\n",
    "    Parameters:\n",
    "    - head: Head of the doubly linked list.\n",
    "    - k: Target sum value.\n",
    "\n",
    "    Returns:\n",
    "    - List of unique pairs whose sum equals the given value 'k'.\n",
    "    \"\"\"\n",
    "\n",
    "    # Initialize an empty set to store unique pairs\n",
    "    pairs = set()\n",
    "\n",
    "    # Initialize a set to store seen values\n",
    "    seen = set()\n",
    "\n",
    "    # Traverse the linked list\n",
    "    curr = head\n",
    "    while curr:\n",
    "        # Calculate the complement for the current node's value\n",
    "        compli = k - curr.data\n",
    "\n",
    "        # Check if the complement is seen before\n",
    "        if compli in seen:\n",
    "            # Add the pair to the set (order doesn't matter)\n",
    "            pairs.add((min(curr.data, compli), max(curr.data, compli)))\n",
    "\n",
    "        # Add the current node's value to the seen set\n",
    "        seen.add(curr.data)\n",
    "\n",
    "        # Move to the next node\n",
    "        curr = curr.next\n",
    "\n",
    "    # Convert the set of pairs to a list and return\n",
    "    return list(pairs)\n",
    "\n",
    "# Time Complexity: O(n), where n is the length of the linked list.\n",
    "# Space Complexity: O(n), as the 'pairs' set may store unique pairs.\n"
   ]
  },
  {
   "cell_type": "code",
   "execution_count": null,
   "id": "2430f2cf",
   "metadata": {},
   "outputs": [],
   "source": []
  }
 ],
 "metadata": {
  "kernelspec": {
   "display_name": "Python 3 (ipykernel)",
   "language": "python",
   "name": "python3"
  },
  "language_info": {
   "codemirror_mode": {
    "name": "ipython",
    "version": 3
   },
   "file_extension": ".py",
   "mimetype": "text/x-python",
   "name": "python",
   "nbconvert_exporter": "python",
   "pygments_lexer": "ipython3",
   "version": "3.10.10"
  },
  "toc": {
   "base_numbering": 1,
   "nav_menu": {},
   "number_sections": true,
   "sideBar": true,
   "skip_h1_title": false,
   "title_cell": "Table of Contents",
   "title_sidebar": "Contents",
   "toc_cell": true,
   "toc_position": {},
   "toc_section_display": true,
   "toc_window_display": false
  }
 },
 "nbformat": 4,
 "nbformat_minor": 5
}
