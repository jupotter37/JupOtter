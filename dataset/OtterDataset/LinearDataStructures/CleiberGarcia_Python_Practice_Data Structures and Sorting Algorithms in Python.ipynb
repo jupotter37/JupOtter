{
 "cells": [
  {
   "cell_type": "markdown",
   "id": "b2d28ee1",
   "metadata": {},
   "source": [
    "#  Data Structures and Sorting Algorithms in Python"
   ]
  },
  {
   "cell_type": "markdown",
   "id": "1bbd7d14",
   "metadata": {},
   "source": [
    "* Author: Cleiber Garcia\n",
    "* Version: July, 2023\n",
    "* Purpose: develop skills and expertise in how to work with data structures and sorting algorithms in Python. \n",
    "\n",
    "The Python scripts written by me in this notebook are copies of the scripts written by Scott Barrett (scottbarret.com) as part of his course **Data Structures & Algorithms + LEETCODE Exercises**  which I have enrolled myself in. This course is offered by him on Udemy.\n",
    "\n",
    "I would like to make it clear that I implemented these scripts step-by-step, tested them and made some additions in order to enlarge my comprehension of the data structures under study. Also, Mr Barret's Python scripts were written in Visual Studio Code as separate Python programs, while I decided to write them in this one place so I can easely compare the different data structures approach.\n",
    "\n",
    "For more information please contact me at cleiber.garcia@gmail.com"
   ]
  },
  {
   "cell_type": "markdown",
   "id": "a63b78e7",
   "metadata": {},
   "source": [
    "# Summary <a id='Summary'></a>"
   ]
  },
  {
   "cell_type": "markdown",
   "id": "2286d1a6",
   "metadata": {},
   "source": [
    "### [1. Time_Complexity](#1.Time_Complexity)\n",
    "### [2. Classes_and_Pointers](#2.Classes_and_Pointers)\n",
    "### [3. Linked_List](#3.Linked_List)\n",
    "### [4. Stack](#4.Stack)\n",
    "### [5. Queue](#5.Queue)\n",
    "### [6. Heap](#6.Heap)\n",
    "### [7. Recursion](#7.Recursion)\n",
    "### [8. Trees](#8.Trees)\n",
    "### [9. Hash_Tables](#9.Hash_Tables)\n",
    "### [10. Sliding Window](#10.Sliding_Window)\n",
    "### [11. Sorting Algorithms](#11.Sorting_Algorithms)\n",
    "#### [11.1 Bubble Sort](#11.1Bubble_Sort)\n",
    "#### [11.2 Selection Sort](#11.2Selection_Sort)\n",
    "#### [11.3 Insertion_Sort](#11.3Insertion_Sort)\n",
    "#### [11.4 Merge Sort](#11.4Merge_Sort)\n",
    "#### [11.5 Quick Sort](#11.5Quick_Sort)"
   ]
  },
  {
   "cell_type": "markdown",
   "id": "d4f91f92",
   "metadata": {},
   "source": [
    "# 1. Time_Complexity <a id='1.Time_Complexity'></a>"
   ]
  },
  {
   "cell_type": "markdown",
   "id": "070df5e4",
   "metadata": {},
   "source": [
    "**[Go to Summary](#Summary)**"
   ]
  },
  {
   "cell_type": "markdown",
   "id": "d91e6886",
   "metadata": {},
   "source": [
    "## 1.1 Single Loop\n",
    "* O(n): Proportional or linear"
   ]
  },
  {
   "cell_type": "code",
   "execution_count": 269,
   "id": "ce676f33",
   "metadata": {},
   "outputs": [
    {
     "name": "stdout",
     "output_type": "stream",
     "text": [
      "Dominant operation: Single loop\n",
      "For n = 10000, it was spent 0.0009992122650146484 seconds\n"
     ]
    }
   ],
   "source": [
    "# For n = 10000\n",
    "import time\n",
    "\n",
    "def single_loop(n):\n",
    "    list = []\n",
    "    for i in range(n):\n",
    "        list.append(i)\n",
    "    return list\n",
    "\n",
    "dominant_operation = 'Single loop'\n",
    "n1 = 10000\n",
    "\n",
    "start_time = time.time()\n",
    "single_loop(n1)\n",
    "end_time = time.time()\n",
    "\n",
    "elapsed_time_1 = end_time - start_time\n",
    "print(f'Dominant operation: {dominant_operation}')\n",
    "print(f'For n = {n1}, it was spent {elapsed_time_1} seconds')"
   ]
  },
  {
   "cell_type": "code",
   "execution_count": 270,
   "id": "e01c12d1",
   "metadata": {},
   "outputs": [
    {
     "name": "stdout",
     "output_type": "stream",
     "text": [
      "Dominant operation: Single loop\n",
      "For n = 100000, it was spent 0.01700115203857422 seconds\n"
     ]
    }
   ],
   "source": [
    "# For n = 100000\n",
    "import time\n",
    "\n",
    "def single_loop(n):\n",
    "    list = []\n",
    "    for i in range(n):\n",
    "        list.append(i)\n",
    "    return list\n",
    "\n",
    "dominant_operation = 'Single loop'\n",
    "n2 = 100000\n",
    "\n",
    "start_time = time.time()\n",
    "single_loop(n2)\n",
    "end_time = time.time()\n",
    "\n",
    "elapsed_time_2 = end_time - start_time\n",
    "print(f'Dominant operation: {dominant_operation}')\n",
    "print(f'For n = {n2}, it was spent {elapsed_time_2} seconds')"
   ]
  },
  {
   "cell_type": "code",
   "execution_count": 271,
   "id": "8f7f5237",
   "metadata": {},
   "outputs": [
    {
     "name": "stdout",
     "output_type": "stream",
     "text": [
      "*** Single loop ***\n",
      "Execution time for n = 10000: 0.0009992122650146484\n",
      "Execution time for n = 100000: 0.01700115203857422\n",
      "Multiplicative factor: 17.014554998806968\n"
     ]
    }
   ],
   "source": [
    "print(f'*** {dominant_operation} ***')\n",
    "print(f'Execution time for n = {n1}: {elapsed_time_1}')\n",
    "print(f'Execution time for n = {n2}: {elapsed_time_2}')\n",
    "print(f'Multiplicative factor: {elapsed_time_2 / elapsed_time_1}')"
   ]
  },
  {
   "cell_type": "markdown",
   "id": "b215c296",
   "metadata": {},
   "source": [
    "## 1.2 Nested Loop\n",
    "* O(n^2): Quadratic"
   ]
  },
  {
   "cell_type": "code",
   "execution_count": 272,
   "id": "36182de7",
   "metadata": {},
   "outputs": [
    {
     "name": "stdout",
     "output_type": "stream",
     "text": [
      "Dominant operation: Nested loop\n",
      "For n = 100, it was spent 0.003999471664428711 seconds\n"
     ]
    }
   ],
   "source": [
    "# For n = 100\n",
    "import time\n",
    "\n",
    "def nested_loop(n):\n",
    "    list = []\n",
    "    for i in range(n):\n",
    "        for j in range(n):\n",
    "            list.append([i,j])\n",
    "    return list\n",
    "\n",
    "dominant_operation = 'Nested loop'\n",
    "n1 = 100\n",
    "\n",
    "start_time = time.time()\n",
    "nested_loop(n1)\n",
    "end_time = time.time()\n",
    "\n",
    "elapsed_time_1 = end_time - start_time\n",
    "print(f'Dominant operation: {dominant_operation}')\n",
    "print(f'For n = {n1}, it was spent {elapsed_time_1} seconds')"
   ]
  },
  {
   "cell_type": "code",
   "execution_count": 273,
   "id": "212b3d78",
   "metadata": {},
   "outputs": [
    {
     "name": "stdout",
     "output_type": "stream",
     "text": [
      "Dominant operation: Nested loop\n",
      "For n = 1000, it was spent 1.81599760055542 seconds\n"
     ]
    }
   ],
   "source": [
    "# For n = 1000\n",
    "import time\n",
    "\n",
    "def nested_loop(n):\n",
    "    list = []\n",
    "    for i in range(n):\n",
    "        for j in range(n):\n",
    "            list.append([i,j])\n",
    "    return list\n",
    "\n",
    "dominant_operation = 'Nested loop'\n",
    "n2 = 1000\n",
    "\n",
    "start_time = time.time()\n",
    "nested_loop(n2)\n",
    "end_time = time.time()\n",
    "\n",
    "elapsed_time_2 = end_time - start_time\n",
    "print(f'Dominant operation: {dominant_operation}')\n",
    "print(f'For n = {n2}, it was spent {elapsed_time_2} seconds')"
   ]
  },
  {
   "cell_type": "code",
   "execution_count": 274,
   "id": "bb6088e7",
   "metadata": {},
   "outputs": [
    {
     "name": "stdout",
     "output_type": "stream",
     "text": [
      "*** Nested loop ***\n",
      "Execution time for n = 100: 0.003999471664428711\n",
      "Execution time for n = 1000: 1.81599760055542\n",
      "Multiplicative factor: 454.0593740685544\n"
     ]
    }
   ],
   "source": [
    "print(f'*** {dominant_operation} ***')\n",
    "print(f'Execution time for n = {n1}: {elapsed_time_1}')\n",
    "print(f'Execution time for n = {n2}: {elapsed_time_2}')\n",
    "print(f'Multiplicative factor: {elapsed_time_2 / elapsed_time_1}')"
   ]
  },
  {
   "cell_type": "markdown",
   "id": "1854f9c8",
   "metadata": {},
   "source": [
    "**[Go to Summary](#Summary)**"
   ]
  },
  {
   "cell_type": "markdown",
   "id": "02d61ae2",
   "metadata": {},
   "source": [
    "# 2. Classes_and_Pointers <a id='2.Classes_and_Pointers'></a>"
   ]
  },
  {
   "cell_type": "markdown",
   "id": "bbfd3913",
   "metadata": {},
   "source": [
    "## 2.1 Classes"
   ]
  },
  {
   "cell_type": "code",
   "execution_count": 275,
   "id": "fa906f42",
   "metadata": {},
   "outputs": [
    {
     "name": "stdout",
     "output_type": "stream",
     "text": [
      "Cookie one is green\n",
      "Cookie two is blue\n",
      "\n",
      "Cookie one is now yellow\n",
      "Cookie two is still blue\n"
     ]
    }
   ],
   "source": [
    "class Cookie:\n",
    "    def __init__(self, color):\n",
    "        self.color = color\n",
    "\n",
    "    def get_color(self):\n",
    "        return self.color\n",
    "\n",
    "    def set_color(self, color):\n",
    "        self.color = color\n",
    "\n",
    "\n",
    "cookie_one = Cookie('green')\n",
    "cookie_two = Cookie('blue')\n",
    "\n",
    "print('Cookie one is', cookie_one.get_color())\n",
    "print('Cookie two is', cookie_two.get_color())\n",
    "\n",
    "cookie_one.set_color('yellow')\n",
    "\n",
    "print('\\nCookie one is now', cookie_one.get_color())\n",
    "print('Cookie two is still', cookie_two.get_color()) "
   ]
  },
  {
   "cell_type": "markdown",
   "id": "88ff8ec7",
   "metadata": {},
   "source": [
    "## 2.2 Pointers"
   ]
  },
  {
   "cell_type": "markdown",
   "id": "7ca4d886",
   "metadata": {},
   "source": [
    "### 2.2.1 Points to Lists"
   ]
  },
  {
   "cell_type": "code",
   "execution_count": 7,
   "id": "a7ef1bce",
   "metadata": {},
   "outputs": [
    {
     "name": "stdout",
     "output_type": "stream",
     "text": [
      "Before num2 value is updated:\n",
      "num1 = 11\n",
      "num2 = 11\n",
      "\n",
      "num1 points to: 1431944757808\n",
      "num2 points to: 1431944757808\n",
      "\n",
      "After num2 value is updated:\n",
      "num1 = 11\n",
      "num2 = 22\n",
      "\n",
      "num1 points to: 1431944757808\n",
      "num2 points to: 1431944758160\n",
      "\n",
      "--> num1 and num2 point to different memory addresses\n",
      "because integers are immutable\n",
      "\n",
      "After num1 and num2 values are updated:\n",
      "num1 = 33\n",
      "num2 = 44\n",
      "\n",
      "num1 points to: 1431944758512\n",
      "num2 points to: 1431944758864\n",
      "\n",
      "--> num1 and num2 point to different memory addresses\n",
      "because integers are immutable\n"
     ]
    }
   ],
   "source": [
    "num1 = 11\n",
    "\n",
    "num2 = num1\n",
    "\n",
    "print(\"Before num2 value is updated:\")\n",
    "print(\"num1 =\", num1)\n",
    "print(\"num2 =\", num2)\n",
    "\n",
    "print(\"\\nnum1 points to:\", id(num1))\n",
    "print(\"num2 points to:\", id(num2)) \n",
    "\n",
    "num2 = 22 \n",
    "\n",
    "print(\"\\nAfter num2 value is updated:\")\n",
    "print(\"num1 =\", num1)\n",
    "print(\"num2 =\", num2) \n",
    "\n",
    "print(\"\\nnum1 points to:\", id(num1))\n",
    "print(\"num2 points to:\", id(num2))\n",
    "\n",
    "print(\"\\n--> num1 and num2 point to different memory addresses\")\n",
    "print(\"because integers are immutable\")\n",
    "\n",
    "num1 = 33\n",
    "num2 = 44\n",
    "\n",
    "print(\"\\nAfter num1 and num2 values are updated:\")\n",
    "print(\"num1 =\", num1)\n",
    "print(\"num2 =\", num2) \n",
    "\n",
    "print(\"\\nnum1 points to:\", id(num1))\n",
    "print(\"num2 points to:\", id(num2))\n",
    "\n",
    "print(\"\\n--> num1 and num2 point to different memory addresses\")\n",
    "print(\"because integers are immutable\")"
   ]
  },
  {
   "cell_type": "markdown",
   "id": "9b093e21",
   "metadata": {},
   "source": [
    "### 2.2.2 Pointers to Dictionaries"
   ]
  },
  {
   "cell_type": "code",
   "execution_count": 3,
   "id": "625ef603",
   "metadata": {},
   "outputs": [
    {
     "name": "stdout",
     "output_type": "stream",
     "text": [
      "\n",
      "\n",
      "Before value is updated:\n",
      "dict1 = {'value': 11}\n",
      "dict2 = {'value': 11}\n",
      "\n",
      "dict1 points to: 1432026318016\n",
      "dict2 points to: 1432026318016\n",
      "\n",
      "After value is updated:\n",
      "dict1 = {'value': 22}\n",
      "dict2 = {'value': 22}\n",
      "\n",
      "dict1 points to: 1432026318016\n",
      "dict2 points to: 1432026318016\n",
      "\n",
      "--> dict1 and dict2 point to the same memory address\n",
      "because dictionaries are mutable\n"
     ]
    }
   ],
   "source": [
    "dict1 = {\n",
    "         'value': 11\n",
    "        }\n",
    "\n",
    "dict2 = dict1 \n",
    "\n",
    "print(\"\\n\\nBefore value is updated:\")\n",
    "print(\"dict1 =\", dict1)\n",
    "print(\"dict2 =\", dict2)\n",
    "\n",
    "print(\"\\ndict1 points to:\", id(dict1))\n",
    "print(\"dict2 points to:\", id(dict2)) \n",
    "\n",
    "dict2['value'] = 22\n",
    "\n",
    "print(\"\\nAfter value is updated:\")\n",
    "print(\"dict1 =\", dict1)\n",
    "print(\"dict2 =\", dict2) \n",
    "\n",
    "print(\"\\ndict1 points to:\", id(dict1))\n",
    "print(\"dict2 points to:\", id(dict2))\n",
    "\n",
    "print(\"\\n--> dict1 and dict2 point to the same memory address\")\n",
    "print(\"because dictionaries are mutable\")"
   ]
  },
  {
   "cell_type": "markdown",
   "id": "44db32db",
   "metadata": {},
   "source": [
    "### Asking ChatGPT:"
   ]
  },
  {
   "cell_type": "markdown",
   "id": "9347c19a",
   "metadata": {},
   "source": [
    "#### My Question:\n",
    "In Python, when updating a variable, for some data types it is   maintened  the same address memory, even though its value is updated. For others, a new address memory is created in the presence of updates. Which data types are mutable and which ones are not?"
   ]
  },
  {
   "cell_type": "markdown",
   "id": "dc2f109a",
   "metadata": {},
   "source": [
    "#### ChatGPT Answer:\n",
    "In Python, mutable data types are those that allow in-place modifications, meaning their internal state can be changed without changing their memory address. Immutable data types, on the other hand, do not allow modifications once they are created and require a new memory address when updated.\n",
    "\n",
    "Here is a summary of which data types are mutable and which ones are immutable:\n",
    "\n",
    "Mutable Data Types (Update in Place):\n",
    "1. Lists\n",
    "2. Sets\n",
    "3. Dictionaries\n",
    "4. Bytearrays\n",
    "5. User-defined classes (if defined with mutable attributes)\n",
    "\n",
    "Immutable Data Types (Create New Object on Update):\n",
    "1. Integers\n",
    "2. Floats\n",
    "3. Strings\n",
    "4. Tuples\n",
    "5. Frozensets\n",
    "\n",
    "Let's demonstrate the difference in behavior between mutable and immutable data types:\n",
    "\n",
    "Example of a mutable data type (list):"
   ]
  },
  {
   "cell_type": "code",
   "execution_count": 277,
   "id": "a7f8120a",
   "metadata": {},
   "outputs": [
    {
     "name": "stdout",
     "output_type": "stream",
     "text": [
      "my_list: [1, 2, 3]\n",
      "address memory for my_list before its update: 2366660945472\n",
      "my_list after update: [1, 2, 3, 4]\n",
      "address memory for my_list after its update: 2366660945472\n",
      "\n",
      "--> same address memory because for lists updates occurs in place\n"
     ]
    }
   ],
   "source": [
    "my_list = [1, 2, 3]\n",
    "print(f'my_list: {my_list}')\n",
    "print(f'address memory for my_list before its update: {id(my_list)}')  # Output: Memory address of the original list\n",
    "my_list.append(4)\n",
    "print(f'my_list after update: {my_list}')      # Output: [1, 2, 3, 4]\n",
    "print(f'address memory for my_list after its update: {id(my_list)}')\n",
    "print('')\n",
    "print('--> same address memory because for lists updates occurs in place')"
   ]
  },
  {
   "cell_type": "markdown",
   "id": "33bc98e3",
   "metadata": {},
   "source": [
    "Example of an immutable data type (string):"
   ]
  },
  {
   "cell_type": "code",
   "execution_count": 278,
   "id": "ec66576f",
   "metadata": {},
   "outputs": [
    {
     "name": "stdout",
     "output_type": "stream",
     "text": [
      "my_string before its update: Hello\n",
      "address memory of my_string before its update: 2366548914352\n",
      "my_string after its update: Hello World\n",
      "address memory of my_string after its update: 2366548908592\n",
      "\n",
      "different address memory because when updating a string is created a new object (with a new memory address)\n"
     ]
    }
   ],
   "source": [
    "my_string = \"Hello\"\n",
    "print(f'my_string before its update: {my_string}')\n",
    "print(f'address memory of my_string before its update: {id(my_string)}')  # Output: Memory address of the original string\n",
    "my_string += \" World\"\n",
    "print(f'my_string after its update: {my_string}')      # Output: \"Hello World\"\n",
    "print(f'address memory of my_string after its update: {id(my_string)}')  # Output: Memory address is different after the update\n",
    "print('')\n",
    "print('different address memory because when updating a string is created a new object (with a new memory address)')"
   ]
  },
  {
   "cell_type": "markdown",
   "id": "9b954d50",
   "metadata": {},
   "source": [
    "In the list example, the memory address of the list remains the same even after updating its contents with `my_list.append(4)`. This behavior confirms that lists are mutable.\n",
    "\n",
    "In the string example, the memory address of the string changes after updating it with `my_string += \" World\"`. This behavior confirms that strings are immutable.\n",
    "\n",
    "Understanding the mutability of data types is essential for efficiently managing memory and correctly handling objects in Python."
   ]
  },
  {
   "cell_type": "markdown",
   "id": "6d726dec",
   "metadata": {},
   "source": [
    "**[Go to Summary](#Summary)**"
   ]
  },
  {
   "cell_type": "markdown",
   "id": "be9e8a5d",
   "metadata": {},
   "source": [
    "# 3. Linked_List <a id='3.Linked_List'></a>"
   ]
  },
  {
   "cell_type": "markdown",
   "id": "579d3cc8",
   "metadata": {},
   "source": [
    "## 3.1 Creating a Linked List"
   ]
  },
  {
   "cell_type": "markdown",
   "id": "1bae10c4",
   "metadata": {},
   "source": [
    "### 3.1.1 Class Node\n",
    "1. constructor method: sets the value of the node and a pointer for the next node"
   ]
  },
  {
   "cell_type": "code",
   "execution_count": 13,
   "id": "b59a4198",
   "metadata": {},
   "outputs": [],
   "source": [
    "class Node:\n",
    "    def __init__(self, value):\n",
    "        self.value = value\n",
    "        self.next = None"
   ]
  },
  {
   "cell_type": "markdown",
   "id": "a272a78e",
   "metadata": {},
   "source": [
    "### 3.1.2 LinkedList Constructor\n",
    "Creates a linked list"
   ]
  },
  {
   "cell_type": "code",
   "execution_count": 14,
   "id": "f616303c",
   "metadata": {},
   "outputs": [],
   "source": [
    "class LinkedList:\n",
    "    def __init__(self, value):\n",
    "        new_node = Node(value)\n",
    "        self.head = new_node\n",
    "        self.tail = new_node\n",
    "        self.length = 1"
   ]
  },
  {
   "cell_type": "markdown",
   "id": "2b7e4264",
   "metadata": {},
   "source": [
    "### 3.1.3 Instantiating LinkedList"
   ]
  },
  {
   "cell_type": "code",
   "execution_count": 15,
   "id": "d9b2d721",
   "metadata": {},
   "outputs": [
    {
     "name": "stdout",
     "output_type": "stream",
     "text": [
      "Head: 4\n",
      "Tail: 4\n",
      "Length: 1\n"
     ]
    }
   ],
   "source": [
    "# Instantiate the LinkedList adding 4, as its first node\n",
    "my_linked_list = LinkedList(4)\n",
    "\n",
    "print('Head:', my_linked_list.head.value)\n",
    "print('Tail:', my_linked_list.tail.value)\n",
    "print('Length:', my_linked_list.length)"
   ]
  },
  {
   "cell_type": "markdown",
   "id": "8708abcd",
   "metadata": {},
   "source": [
    "## 3.1.2  Class LinkedList (version 1)\n",
    "1. constructor method: initializes a new list\n",
    "2. print method: print the nodes of the linked list\n",
    "3. make_empty method: empty the linked list\n",
    "4. append method: add a new node to the linked list"
   ]
  },
  {
   "cell_type": "code",
   "execution_count": 19,
   "id": "68f5a9bb",
   "metadata": {},
   "outputs": [
    {
     "name": "stdout",
     "output_type": "stream",
     "text": [
      "Head: 1\n",
      "Tail: [-2, -3]\n",
      "Length: 5 \n",
      "\n",
      "Linked List Content:\n",
      "1\n",
      "2\n",
      "Orange\n",
      "[5, 7]\n",
      "[-2, -3]\n"
     ]
    }
   ],
   "source": [
    "class LinkedList:\n",
    "    def __init__(self, value):\n",
    "        new_node = Node(value)\n",
    "        self.head = new_node\n",
    "        self.tail = new_node\n",
    "        self.length = 1\n",
    "\n",
    "    def print_list(self):\n",
    "        temp = self.head\n",
    "        while temp is not None:\n",
    "            print(temp.value)\n",
    "            temp = temp.next\n",
    "    \n",
    "    def make_empty(self):\n",
    "        self.head = None\n",
    "        self.tail = None\n",
    "        self.length = 0\n",
    "        \n",
    "    def append(self, value):\n",
    "        new_node = Node(value) # returns self.value = value and self.next = None\n",
    "        if self.head is None: # The linked list is empty\n",
    "            self.head = new_node\n",
    "            self.tail = new_node\n",
    "        else: # the linked list is not empty (it has nodes)\n",
    "            self.tail.next = new_node # set the next of the old tail to the next node\n",
    "            self.tail = new_node # set the next of the actual tail to the new node\n",
    "        self.length += 1\n",
    "\n",
    "my_linked_list = LinkedList(1)\n",
    "my_linked_list.make_empty()\n",
    "\n",
    "my_linked_list.append(1)\n",
    "my_linked_list.append(2)\n",
    "my_linked_list.append(\"Orange\")\n",
    "my_linked_list.append([5, 7])\n",
    "my_linked_list.append([-2,-3])\n",
    "\n",
    "print('Head:', my_linked_list.head.value)\n",
    "print('Tail:', my_linked_list.tail.value)\n",
    "print('Length:', my_linked_list.length, '\\n')\n",
    "\n",
    "print('Linked List Content:')\n",
    "my_linked_list.print_list()"
   ]
  },
  {
   "cell_type": "markdown",
   "id": "90dd35e6",
   "metadata": {},
   "source": [
    "## 3.1.3  Class LinkedList (final version)\n",
    "1. constructor: initializes a new list\n",
    "2. print_list: prints the nodes of the linked list\n",
    "3. make_empty: empties the linked list\n",
    "4. append: adds a new node to the linked list\n",
    "5. pop: removes the last node (tail) of the linked list and sets a new tail\n",
    "6. prepend: adds a new node at the beginning of the linked list and sets a new head\n",
    "7. pop_first: removes the first node (head) of the linked list and sets a new head\n",
    "8. get: returns a node's value based on its index\n",
    "9. set_value: updates the node's value based on its index\n",
    "10. insert: insert a new node based on its index\n",
    "11. remove: remove a node based on its index\n",
    "12. reverse: reverses the order (sequence) of the nodes in the linked list\n",
    "13. find_middle_node: finds the middle node of the linked list"
   ]
  },
  {
   "cell_type": "code",
   "execution_count": 283,
   "id": "c8157d82",
   "metadata": {},
   "outputs": [
    {
     "name": "stdout",
     "output_type": "stream",
     "text": [
      "1\n",
      "2\n",
      "3\n",
      "4\n",
      "5\n",
      "middle node: 3\n",
      "LL before reverse():\n",
      "1\n",
      "2\n",
      "3\n",
      "4\n",
      "5\n",
      "\n",
      "LL after reverse():\n",
      "5\n",
      "4\n",
      "3\n",
      "2\n",
      "1\n",
      "Are there any loop in this linked list? True\n"
     ]
    }
   ],
   "source": [
    "class LinkedList:\n",
    "    def __init__(self, value):\n",
    "        new_node = Node(value)\n",
    "        self.head = new_node\n",
    "        self.tail = new_node\n",
    "        self.length = 1\n",
    "    \n",
    "    def print_list(self):\n",
    "        temp = self.head\n",
    "        while temp is not None:\n",
    "            print(temp.value)\n",
    "            temp = temp.next\n",
    "   \n",
    "    def make_empty(self):\n",
    "        self.head = None\n",
    "        self.tail = None\n",
    "        self.length = 0\n",
    "        \n",
    "    def append(self, value):\n",
    "        new_node = Node(value)\n",
    "        if self.length == 0:\n",
    "            self.head = new_node\n",
    "            self.tail = new_node\n",
    "        else:\n",
    "            self.tail.next = new_node\n",
    "            self.tail = new_node\n",
    "        self.length += 1\n",
    "        return True\n",
    "\n",
    "    def pop(self):\n",
    "        if self.length == 0:\n",
    "            return None\n",
    "        temp = self.head\n",
    "        pre = self.head\n",
    "        while(temp.next):\n",
    "            pre = temp\n",
    "            temp = temp.next\n",
    "        self.tail = pre\n",
    "        self.tail.next = None\n",
    "        self.length -= 1\n",
    "        if self.length == 0:\n",
    "            self.head = None\n",
    "            self.tail = None\n",
    "        return temp\n",
    "\n",
    "    def prepend(self, value):\n",
    "        new_node = Node(value)\n",
    "        if self.length == 0:\n",
    "            self.head = new_node\n",
    "            self.tail = new_node\n",
    "        else:\n",
    "            new_node.next = self.head # next of new node is the node the head was point to\n",
    "            self.head = new_node # now head points to the new node\n",
    "        self.length += 1\n",
    "        return True\n",
    "\n",
    "    def pop_first(self):\n",
    "        if self.length == 0:\n",
    "            return None\n",
    "        temp = self.head\n",
    "        self.head = self.head.next\n",
    "        temp.next = None\n",
    "        self.length -= 1\n",
    "        if self.length == 0:\n",
    "            self.tail = None\n",
    "        return temp\n",
    "\n",
    "    def get(self, index):\n",
    "        if index < 0 or index >= self.length:\n",
    "            return None\n",
    "        temp = self.head\n",
    "        for _ in range(index):\n",
    "            temp = temp.next\n",
    "        return temp\n",
    "        \n",
    "    def set_value(self, index, value):\n",
    "        temp = self.get(index)\n",
    "        if temp:\n",
    "            temp.value = value\n",
    "            return True\n",
    "        return False\n",
    "    \n",
    "    def insert(self, index, value):\n",
    "        if index < 0 or index > self.length:\n",
    "            return False\n",
    "        if index == 0:\n",
    "            return self.prepend(value)\n",
    "        if index == self.length:\n",
    "            return self.append(value)\n",
    "        new_node = Node(value)\n",
    "        temp = self.get(index - 1)\n",
    "        new_node.next = temp.next\n",
    "        temp.next = new_node\n",
    "        self.length += 1   \n",
    "        return True  \n",
    "\n",
    "    def remove(self, index):\n",
    "        if index < 0 or index >= self.length:\n",
    "            return None\n",
    "        if index == 0:\n",
    "            return self.pop_first()\n",
    "        if index == self.length - 1:\n",
    "            return self.pop()\n",
    "        pre = self.get(index - 1)\n",
    "        temp = pre.next\n",
    "        pre.next = temp.next\n",
    "        temp.next = None\n",
    "        self.length -= 1\n",
    "        return temp\n",
    "\n",
    "    def reverse(self):\n",
    "        temp = self.head\n",
    "        self.head = self.tail\n",
    "        self.tail = temp\n",
    "        after = temp.next\n",
    "        before = None\n",
    "        for _ in range(self.length):\n",
    "            after = temp.next\n",
    "            temp.next = before\n",
    "            before = temp\n",
    "            temp = after\n",
    "  \n",
    "    def find_middle_node(self):\n",
    "        slow = self.head\n",
    "        fast = self.head\n",
    "        while (fast != None and fast.next != None):\n",
    "            slow = slow.next\n",
    "            fast = fast.next.next\n",
    "        return slow\n",
    "    \n",
    "    def has_loop(self):\n",
    "        slow = self.head\n",
    "        fast = self.head\n",
    "        while (fast != None and fast.next != None):\n",
    "            slow = slow.next\n",
    "            fast = fast.next.next\n",
    "            if slow == fast:\n",
    "                return True\n",
    "        return False\n",
    "\n",
    "my_linked_list = LinkedList(1)\n",
    "my_linked_list.append(2)\n",
    "my_linked_list.append(3)\n",
    "my_linked_list.append(4)\n",
    "my_linked_list.append(5)\n",
    "\n",
    "my_linked_list.print_list()\n",
    "\n",
    "print(f'middle node: {my_linked_list.find_middle_node().value}')\n",
    "\n",
    "print('LL before reverse():')\n",
    "my_linked_list.print_list()\n",
    "\n",
    "my_linked_list.reverse()\n",
    "\n",
    "print('\\nLL after reverse():')\n",
    "my_linked_list.print_list()\n",
    "\n",
    "# Creates a loop in the linked list (tail pointing to head9)\n",
    "my_linked_list.tail.next = my_linked_list.head\n",
    "print(f'Are there any loop in this linked list? {my_linked_list.has_loop()}') # Returns True\n",
    "\n"
   ]
  },
  {
   "cell_type": "markdown",
   "id": "0a3e84e6",
   "metadata": {},
   "source": [
    "# 4. Stack <a id='4.Stack'></a>\n",
    "1. If implemented using array, put an element on the stack or remove on element from the stack, will have better performance if done at the end of the list --> O(1)\n",
    "2. If implemented using a linked list, put an element on the stack or remove on element from the stack, will have better performance if done at the head of the linked list --> O(1)"
   ]
  },
  {
   "cell_type": "markdown",
   "id": "8e47532f",
   "metadata": {},
   "source": [
    "**[Go to Summary](#Summary)**"
   ]
  },
  {
   "cell_type": "markdown",
   "id": "752065ee",
   "metadata": {},
   "source": [
    "# 4.1 Stack\n",
    "Stack implementation using a Linked List"
   ]
  },
  {
   "cell_type": "markdown",
   "id": "1e9d98c4",
   "metadata": {},
   "source": [
    "### 4.1.1 Class Node"
   ]
  },
  {
   "cell_type": "code",
   "execution_count": 284,
   "id": "25788464",
   "metadata": {},
   "outputs": [],
   "source": [
    "class Node:\n",
    "    def __init__(self, value):\n",
    "        self.value = value\n",
    "        self.next = None"
   ]
  },
  {
   "cell_type": "markdown",
   "id": "8e4106fa",
   "metadata": {},
   "source": [
    "### 4.2.1 Class Stack"
   ]
  },
  {
   "cell_type": "code",
   "execution_count": 285,
   "id": "5499cb71",
   "metadata": {},
   "outputs": [
    {
     "name": "stdout",
     "output_type": "stream",
     "text": [
      "Stack:\n",
      "9\n",
      "8\n",
      "7\n",
      "6\n",
      "5\n",
      "4\n",
      "3\n",
      "2\n",
      "1\n",
      "0\n",
      "4\n",
      "Stack before pop():\n",
      "Top: 9\n",
      "Botton:  4\n",
      "Height: 11\n",
      "9\n",
      "8\n",
      "7\n",
      "6\n",
      "5\n",
      "4\n",
      "3\n",
      "2\n",
      "1\n",
      "0\n",
      "4\n",
      "\n",
      "\n",
      "Popped node:\n",
      "9\n",
      "\n",
      "Stack after pop():\n",
      "Stack before pop():\n",
      "Top: 8\n",
      "Botton:  4\n",
      "Height: 10\n",
      "8\n",
      "7\n",
      "6\n",
      "5\n",
      "4\n",
      "3\n",
      "2\n",
      "1\n",
      "0\n",
      "4\n"
     ]
    }
   ],
   "source": [
    "class Stack:\n",
    "    # Constructor\n",
    "    def __init__(self, value):\n",
    "        new_node = Node(value)\n",
    "        self.top = new_node\n",
    "        self.botton = new_node\n",
    "        self.height = 1\n",
    "   \n",
    "    # Print the elements of the stack\n",
    "    def print_stack(self):\n",
    "        temp = self.top\n",
    "        while temp is not None:\n",
    "            print(temp.value)\n",
    "            temp = temp.next\n",
    "\n",
    "    # Put an element on top of the stack\n",
    "    def push(self, value):\n",
    "        new_node = Node(value)\n",
    "        if self.height == 0:\n",
    "            self.top = new_node\n",
    "        else:\n",
    "            new_node.next = self.top\n",
    "            self.top = new_node\n",
    "        self.height += 1\n",
    "        \n",
    "    # Remove an element from the top of the stack    \n",
    "    def pop(self):\n",
    "        if self.height == 0:\n",
    "            return None\n",
    "        temp = self.top\n",
    "        self.top = self.top.next\n",
    "        temp.next = None\n",
    "        self.height -= 1\n",
    "        return temp\n",
    "\n",
    "\n",
    "# Instantiation of Stack\n",
    "my_stack = Stack(4)\n",
    "\n",
    "# Putting elements on the stack\n",
    "for i in range(10):\n",
    "    my_stack.push(i)\n",
    "    \n",
    "print('Stack:')\n",
    "my_stack.print_stack()\n",
    "\n",
    "print('Stack before pop():')\n",
    "print('Top:', my_stack.top.value)\n",
    "print('Botton: ', my_stack.botton.value)\n",
    "print('Height:', my_stack.height)\n",
    "my_stack.print_stack()\n",
    "\n",
    "print('')\n",
    "\n",
    "print('\\nPopped node:')\n",
    "print(my_stack.pop().value)\n",
    "\n",
    "print('\\nStack after pop():')\n",
    "print('Stack before pop():')\n",
    "print('Top:', my_stack.top.value)\n",
    "print('Botton: ', my_stack.botton.value)\n",
    "print('Height:', my_stack.height)\n",
    "my_stack.print_stack()"
   ]
  },
  {
   "cell_type": "markdown",
   "id": "3a31835e",
   "metadata": {},
   "source": [
    "# 5. Queue <a id='5.Queue'></a>\n",
    "Queue implementation using a Linked List"
   ]
  },
  {
   "cell_type": "markdown",
   "id": "60e59586",
   "metadata": {},
   "source": [
    "**[Go to Summary](#Summary)**"
   ]
  },
  {
   "cell_type": "markdown",
   "id": "5bdb5501",
   "metadata": {},
   "source": [
    "## 5.1 Class Node"
   ]
  },
  {
   "cell_type": "code",
   "execution_count": 286,
   "id": "26b68b7e",
   "metadata": {},
   "outputs": [],
   "source": [
    "class Node:\n",
    "    def __init__(self, value):\n",
    "        self.value = value\n",
    "        self.next = None"
   ]
  },
  {
   "cell_type": "markdown",
   "id": "e24c156b",
   "metadata": {},
   "source": [
    "## 5.2 Class Queue"
   ]
  },
  {
   "cell_type": "code",
   "execution_count": 287,
   "id": "aa0a8880",
   "metadata": {
    "scrolled": true
   },
   "outputs": [
    {
     "name": "stdout",
     "output_type": "stream",
     "text": [
      "Queue before enqueue(2):\n",
      "1\n",
      "\n",
      "Queue after enqueue(2):\n",
      "1\n",
      "2\n",
      "\n",
      "Queue before deenqueueing an element from the queue\n",
      "1\n",
      "2\n",
      "Queue after deenqueueing an element from the queue\n",
      "2\n"
     ]
    }
   ],
   "source": [
    "class Queue:\n",
    "    def __init__(self, value):\n",
    "        new_node = Node(value)\n",
    "        self.first = new_node\n",
    "        self.last = new_node\n",
    "        self.length = 1\n",
    "\n",
    "    def print_queue(self):\n",
    "        temp = self.first\n",
    "        while temp is not None:\n",
    "            print(temp.value)\n",
    "            temp = temp.next\n",
    "    \n",
    "    # Put an element in the queue\n",
    "    def enqueue(self, value):\n",
    "        new_node = Node(value)\n",
    "        if self.first is None:\n",
    "            self.first = new_node\n",
    "            self.last = new_node\n",
    "        else:\n",
    "            self.last.next = new_node\n",
    "            self.last = new_node\n",
    "        self.length += 1\n",
    "        \n",
    "    # Remove an element from the queue\n",
    "    def dequeue(self):\n",
    "        if self.length == 0:\n",
    "            return None\n",
    "        temp = self.first\n",
    "        if self.length == 1:\n",
    "            self.first = None\n",
    "            self.last = None\n",
    "        else:\n",
    "            self.first = self.first.next\n",
    "            temp.next = None\n",
    "        self.length -= 1\n",
    "        return temp\n",
    "        \n",
    "# Instantiate a queue\n",
    "my_queue = Queue(1)\n",
    "\n",
    "print('Queue before enqueue(2):')\n",
    "my_queue.print_queue()\n",
    "\n",
    "my_queue.enqueue(2)\n",
    "\n",
    "print('\\nQueue after enqueue(2):')\n",
    "my_queue.print_queue()\n",
    "\n",
    "print('')\n",
    "print('Queue before deenqueueing an element from the queue')\n",
    "my_queue.print_queue()\n",
    "\n",
    "my_queue.dequeue().value\n",
    "\n",
    "print('Queue after deenqueueing an element from the queue')\n",
    "my_queue.print_queue()"
   ]
  },
  {
   "cell_type": "markdown",
   "id": "ba0b7502",
   "metadata": {},
   "source": [
    "# 6. Heap <a id='6.Heap'></a>"
   ]
  },
  {
   "cell_type": "markdown",
   "id": "e3e5b77c",
   "metadata": {},
   "source": [
    "**[Go to Summary](#Summary)**"
   ]
  },
  {
   "cell_type": "markdown",
   "id": "51b48bdc",
   "metadata": {},
   "source": [
    "## 6.1 Questioning ChatGPT"
   ]
  },
  {
   "cell_type": "markdown",
   "id": "3caec04d",
   "metadata": {},
   "source": [
    "#### My question to ChatGPT"
   ]
  },
  {
   "cell_type": "markdown",
   "id": "cc59ab5b",
   "metadata": {},
   "source": [
    "Talking about data structures, what a heap is? Give me example in python, with the main operations one can perform with a heap"
   ]
  },
  {
   "cell_type": "markdown",
   "id": "47059420",
   "metadata": {},
   "source": [
    "#### ChatGPT's Answer"
   ]
  },
  {
   "cell_type": "markdown",
   "id": "68970c86",
   "metadata": {},
   "source": [
    "In computer science, a heap is a specialized tree-based data structure that satisfies the heap property. A heap can be visualized as a binary tree with the following properties:\n",
    "\n",
    "1. Shape Property: The tree is a complete binary tree, which means all levels are filled from left to right, except possibly the last level. The last level is filled from left to right as well.\n",
    "\n",
    "2. Heap Property: In a max heap, for every node `i`, the value of `i` is greater than or equal to the values of its children. In a min heap, for every node `i`, the value of `i` is less than or equal to the values of its children."
   ]
  },
  {
   "cell_type": "markdown",
   "id": "139b9adf",
   "metadata": {},
   "source": [
    "Here's an example of how to use a min heap:"
   ]
  },
  {
   "cell_type": "code",
   "execution_count": 288,
   "id": "4f0e7da5",
   "metadata": {},
   "outputs": [
    {
     "name": "stdout",
     "output_type": "stream",
     "text": [
      "Heap: [1, 3, 7, 5, 9]\n"
     ]
    }
   ],
   "source": [
    "import heapq\n",
    "\n",
    "# Create an empty list to represent the heap\n",
    "heap = []\n",
    "\n",
    "# Insert elements into the heap using heapq.heappush()\n",
    "heapq.heappush(heap, 5)\n",
    "heapq.heappush(heap, 3)\n",
    "heapq.heappush(heap, 7)\n",
    "heapq.heappush(heap, 1)\n",
    "heapq.heappush(heap, 9)\n",
    "\n",
    "print(\"Heap:\", heap)  # Output: [1, 3, 7, 5, 9]"
   ]
  },
  {
   "cell_type": "code",
   "execution_count": 289,
   "id": "9d5eeb03",
   "metadata": {},
   "outputs": [
    {
     "name": "stdout",
     "output_type": "stream",
     "text": [
      "Minimum element: 1\n"
     ]
    }
   ],
   "source": [
    "# Extract the minimum element using heapq.heappop()\n",
    "min_element = heapq.heappop(heap)\n",
    "print(\"Minimum element:\", min_element)  # Output: 1"
   ]
  },
  {
   "cell_type": "code",
   "execution_count": 290,
   "id": "2bda8286",
   "metadata": {},
   "outputs": [
    {
     "name": "stdout",
     "output_type": "stream",
     "text": [
      "Heap after pop: [3, 5, 7, 9]\n"
     ]
    }
   ],
   "source": [
    "print(\"Heap after pop:\", heap)  # Output: [3, 5, 7, 9]"
   ]
  },
  {
   "cell_type": "code",
   "execution_count": 291,
   "id": "4f83804a",
   "metadata": {},
   "outputs": [
    {
     "name": "stdout",
     "output_type": "stream",
     "text": [
      "Smallest element (without removal): 3\n"
     ]
    }
   ],
   "source": [
    "# Get the smallest element without removing it from the heap using heapq.nsmallest()\n",
    "smallest = heapq.nsmallest(1, heap)\n",
    "print(\"Smallest element (without removal):\", smallest[0])  # Output: 3"
   ]
  },
  {
   "cell_type": "code",
   "execution_count": 292,
   "id": "aead58b1",
   "metadata": {},
   "outputs": [
    {
     "name": "stdout",
     "output_type": "stream",
     "text": [
      "Heapified list: [2, 4, 8, 11, 15]\n"
     ]
    }
   ],
   "source": [
    "# Convert a regular list to a heap using heapq.heapify()\n",
    "numbers = [15, 2, 8, 11, 4]\n",
    "heapq.heapify(numbers)\n",
    "\n",
    "print(\"Heapified list:\", numbers)  # Output: [2, 4, 8, 11, 15]"
   ]
  },
  {
   "cell_type": "code",
   "execution_count": 293,
   "id": "eebd49dd",
   "metadata": {},
   "outputs": [
    {
     "name": "stdout",
     "output_type": "stream",
     "text": [
      "Heap after heapreplace: [1, 4, 8, 11, 15]\n"
     ]
    }
   ],
   "source": [
    "# Replace the smallest element with a new value using heapq.heapreplace()\n",
    "heapq.heapreplace(numbers, 1)\n",
    "\n",
    "print(\"Heap after heapreplace:\", numbers)  # Output: [1, 4, 8, 11, 15]"
   ]
  },
  {
   "cell_type": "markdown",
   "id": "542c7feb",
   "metadata": {},
   "source": [
    "Heaps are commonly used to implement priority queues, where elements with higher priority are extracted first. The root of the heap is always the element with the highest (max heap) or lowest (min heap) priority.\n",
    "\n",
    "In Python, you can use the `heapq` module from the standard library to work with heaps. This module provides functions to convert a list into a heap and perform various heap operations. \n",
    "In the example above, we created a min heap and performed common heap operations such as insertion, extraction of the minimum element, getting the smallest element without removal, heapifying a regular list, and replacing the smallest element. The `heapq` module simplifies working with heaps in Python, making it easier to manage priority-based data structures."
   ]
  },
  {
   "cell_type": "markdown",
   "id": "6439b0fd",
   "metadata": {},
   "source": [
    "## 6.2 Implementin a Heap\n",
    "1. Heap is a kind of BST\n",
    "2. Heap is a complete tree\n",
    "3. Heap is not suitable for search operations\n",
    "4. Heap is suitable for constructing a priority list\n",
    "* In a maximum heap, each node is >= than its descendents\n",
    "* In a minimum heap, each node is <= than its descendents"
   ]
  },
  {
   "cell_type": "markdown",
   "id": "0154f5b7",
   "metadata": {},
   "source": [
    "Heap structure:\n",
    "* Father/Mother: 99\n",
    "* Children: 72 and 61\n",
    "* 72's children are 58 and 55\n",
    "* 61's children are 27 and 18\n",
    "\n",
    "* This heap is stored in a list (starting at index 1): 99, 72, 61, 58, 55, 27, 18\n",
    "* To find the left_child = 2 * parent_index (that's the reason to start the index at 1)\n",
    "* To find the right_child = 2 * parent_index + 1 (that's the reason to start the index at 1)\n",
    "* To find parent's node: perform integer division by 2 to find its index"
   ]
  },
  {
   "cell_type": "markdown",
   "id": "d0fbe405",
   "metadata": {},
   "source": [
    "### 6.2.1 Class MaxHeap"
   ]
  },
  {
   "cell_type": "code",
   "execution_count": 294,
   "id": "4d4f0981",
   "metadata": {},
   "outputs": [
    {
     "name": "stdout",
     "output_type": "stream",
     "text": [
      "[95, 75, 80, 55, 60, 50, 65]\n",
      "[80, 75, 65, 55, 60, 50]\n",
      "[75, 60, 65, 55, 50]\n"
     ]
    }
   ],
   "source": [
    "class MaxHeap:\n",
    "    def __init__(self):\n",
    "        self.heap = []\n",
    "\n",
    "    def _left_child(self, index):\n",
    "        return 2 * index + 1 # index + 1 because we started the list at index 0\n",
    "\n",
    "    def _right_child(self, index):\n",
    "        return 2 * index + 2 # index + 2 because we started the list at index 0\n",
    "\n",
    "    def _parent(self, index):\n",
    "        return (index - 1) // 2 # (index - 1) because we started the list at index 0. // stands for integer division\n",
    "\n",
    "    def _swap(self, index1, index2):\n",
    "        self.heap[index1], self.heap[index2] = self.heap[index2], self.heap[index1]\n",
    "\n",
    "    def insert(self, value):\n",
    "        self.heap.append(value)\n",
    "        current = len(self.heap) - 1\n",
    "\n",
    "        while current > 0 and self.heap[current] > self.heap[self._parent(current)]:\n",
    "            self._swap(current, self._parent(current))\n",
    "            current = self._parent(current)\n",
    "\n",
    "    def _sink_down(self, index):\n",
    "        max_index = index\n",
    "        while True:\n",
    "            left_index = self._left_child(index)\n",
    "            right_index = self._right_child(index)\n",
    "\n",
    "            if (left_index < len(self.heap) and \n",
    "                    self.heap[left_index] > self.heap[max_index]):\n",
    "                max_index = left_index\n",
    "\n",
    "            if (right_index < len(self.heap) and \n",
    "                    self.heap[right_index] > self.heap[max_index]):\n",
    "                max_index = right_index\n",
    "\n",
    "            if max_index != index:\n",
    "                self._swap(index, max_index)\n",
    "                index = max_index\n",
    "            else:\n",
    "                return\n",
    "                       \n",
    "    def remove(self):\n",
    "        if len(self.heap) == 0:\n",
    "            return None\n",
    "\n",
    "        if len(self.heap) == 1:\n",
    "            return self.heap.pop()\n",
    "\n",
    "        max_value = self.heap[0]\n",
    "        self.heap[0] = self.heap.pop()\n",
    "        self._sink_down(0)\n",
    "\n",
    "        return max_value\n",
    "\n",
    "myheap = MaxHeap()\n",
    "myheap.insert(95)\n",
    "myheap.insert(75)\n",
    "myheap.insert(80)\n",
    "myheap.insert(55)\n",
    "myheap.insert(60)\n",
    "myheap.insert(50)\n",
    "myheap.insert(65)\n",
    "\n",
    "print(myheap.heap)\n",
    "\n",
    "\n",
    "myheap.remove()\n",
    "\n",
    "print(myheap.heap)\n",
    "\n",
    "\n",
    "myheap.remove()\n",
    "\n",
    "print(myheap.heap)"
   ]
  },
  {
   "cell_type": "code",
   "execution_count": 295,
   "id": "68773fc3",
   "metadata": {},
   "outputs": [
    {
     "name": "stdout",
     "output_type": "stream",
     "text": [
      "Current heap: []\n",
      "inserting the value 33\n",
      "Current heap: [33]\n",
      "Max value in heap: 33\n",
      "\n",
      "Current heap: [33]\n",
      "inserting the value 42\n",
      "Current heap: [42, 33]\n",
      "Max value in heap: 42\n",
      "\n",
      "Current heap: [42, 33]\n",
      "inserting the value 39\n",
      "Current heap: [42, 33, 39]\n",
      "Max value in heap: 42\n",
      "\n",
      "Current heap: [42, 33, 39]\n",
      "inserting the value 98\n",
      "Current heap: [98, 42, 39, 33]\n",
      "Max value in heap: 98\n",
      "\n",
      "Current heap: [98, 42, 39, 33]\n",
      "inserting the value 65\n",
      "Current heap: [98, 65, 39, 33, 42]\n",
      "Max value in heap: 98\n",
      "\n",
      "Current heap: [98, 65, 39, 33, 42]\n",
      "inserting the value 143\n",
      "Current heap: [143, 65, 98, 33, 42, 39]\n",
      "Max value in heap: 143\n",
      "---\n",
      "Max value in heap: 143\n",
      "Heap before removal of max: [143, 65, 98, 33, 42, 39]\n",
      "Heap after removal of max: [98, 65, 39, 33, 42]\n",
      "\n",
      "Max value in heap: 98\n",
      "Heap before removal of max: [98, 65, 39, 33, 42]\n",
      "Heap after removal of max: [65, 42, 39, 33]\n",
      "\n",
      "Max value in heap: 65\n",
      "Heap before removal of max: [65, 42, 39, 33]\n",
      "Heap after removal of max: [42, 33, 39]\n"
     ]
    }
   ],
   "source": [
    "class MaxHeap:\n",
    "    def __init__(self):\n",
    "        self.heap = []\n",
    "\n",
    "    def _left_child(self, index):\n",
    "        return 2 * index + 1\n",
    "\n",
    "    def _right_child(self, index):\n",
    "        return 2 * index + 2\n",
    "\n",
    "    def _parent(self, index):\n",
    "        return (index - 1) // 2\n",
    "\n",
    "    def _swap(self, index1, index2):\n",
    "        self.heap[index1], self.heap[index2] = self.heap[index2], self.heap[index1]\n",
    "\n",
    "    def print_max(self):\n",
    "        return self.heap[0]\n",
    "    \n",
    "    def insert(self, value):\n",
    "        self.heap.append(value)\n",
    "        current = len(self.heap) - 1\n",
    "\n",
    "        while current > 0 and self.heap[current] > self.heap[self._parent(current)]:\n",
    "            self._swap(current, self._parent(current))\n",
    "            current = self._parent(current)\n",
    "\n",
    "\n",
    "    def _sink_down(self, index):\n",
    "        max_index = index\n",
    "        while True:\n",
    "            left_index = self._left_child(index)\n",
    "            right_index = self._right_child(index)\n",
    "\n",
    "            if (left_index < len(self.heap) and \n",
    "                    self.heap[left_index] > self.heap[max_index]):\n",
    "                max_index = left_index\n",
    "\n",
    "            if (right_index < len(self.heap) and \n",
    "                    self.heap[right_index] > self.heap[max_index]):\n",
    "                max_index = right_index\n",
    "\n",
    "            if max_index != index:\n",
    "                self._swap(index, max_index)\n",
    "                index = max_index\n",
    "            else:\n",
    "                return\n",
    "                       \n",
    "    def remove(self):\n",
    "        if len(self.heap) == 0:\n",
    "            return None\n",
    "\n",
    "        if len(self.heap) == 1:\n",
    "            return self.heap.pop()\n",
    "\n",
    "        max_value = self.heap[0] # get the maximum value\n",
    "        self.heap[0] = self.heap.pop() # set node 0 with the last value in the list\n",
    "        self._sink_down(0)\n",
    "\n",
    "        return max_value\n",
    "\n",
    "myheap = MaxHeap()\n",
    "\n",
    "def create_node(value):\n",
    "    print(f'Current heap: {myheap.heap}')\n",
    "    print(f'inserting the value {value}')\n",
    "    myheap.insert(value)\n",
    "    print(f'Current heap: {myheap.heap}')\n",
    "    print(f'Max value in heap: {myheap.print_max()}')\n",
    "    \n",
    "def remove_max():\n",
    "    print(f'Max value in heap: {myheap.print_max()}')\n",
    "    print(f'Heap before removal of max: {myheap.heap}')\n",
    "    myheap.remove()\n",
    "    print(f'Heap after removal of max: {myheap.heap}')\n",
    "    \n",
    "create_node(value = 33)\n",
    "print('')\n",
    "create_node(value = 42)\n",
    "print('')\n",
    "create_node(value = 39)\n",
    "print('')\n",
    "create_node(value = 98)\n",
    "print('')\n",
    "create_node(value = 65)\n",
    "print('')\n",
    "create_node(value = 143)\n",
    "\n",
    "print('---')\n",
    "\n",
    "remove_max()\n",
    "print('')\n",
    "remove_max()\n",
    "print('')\n",
    "remove_max()\n",
    "\n"
   ]
  },
  {
   "cell_type": "markdown",
   "id": "b8a6e773",
   "metadata": {},
   "source": [
    "# 7. Recursion <a id='7.Recursion'></a>"
   ]
  },
  {
   "cell_type": "markdown",
   "id": "7040bc37",
   "metadata": {},
   "source": [
    "A function that calls itself until it does not have to"
   ]
  },
  {
   "cell_type": "markdown",
   "id": "93b130b9",
   "metadata": {},
   "source": [
    "**[Go to Summary](#Summary)**"
   ]
  },
  {
   "cell_type": "markdown",
   "id": "9c25c47b",
   "metadata": {},
   "source": [
    "## 7.1 Box_1[ Box_2 [ Box_3 [ 'ball' ] ] ]"
   ]
  },
  {
   "cell_type": "code",
   "execution_count": 296,
   "id": "fd5008f3",
   "metadata": {},
   "outputs": [
    {
     "name": "stdout",
     "output_type": "stream",
     "text": [
      "[[['ball']]]\n"
     ]
    }
   ],
   "source": [
    "# Suppose we have a 'ball' inside a gift_box 3, which is inside a gift_box 2, \n",
    "# which is inside a gift_box 1\n",
    "\n",
    "gift_box = [# gift_box 1\n",
    "                [# gift_box 2\n",
    "                    [ # gift_box 3\n",
    "                        'ball'\n",
    "                    ]\n",
    "                ]\n",
    "            ]\n",
    "\n",
    "print(gift_box)"
   ]
  },
  {
   "cell_type": "code",
   "execution_count": 297,
   "id": "4295e7eb",
   "metadata": {},
   "outputs": [
    {
     "name": "stdout",
     "output_type": "stream",
     "text": [
      "[['ball']]\n"
     ]
    }
   ],
   "source": [
    "# Open the gift_box 1\n",
    "gift_box = gift_box[0]\n",
    "print(gift_box)"
   ]
  },
  {
   "cell_type": "code",
   "execution_count": 298,
   "id": "2dc83a5a",
   "metadata": {},
   "outputs": [
    {
     "name": "stdout",
     "output_type": "stream",
     "text": [
      "['ball']\n"
     ]
    }
   ],
   "source": [
    "# Open the gift_box 2\n",
    "gift_box = gift_box[0]\n",
    "print(gift_box)"
   ]
  },
  {
   "cell_type": "code",
   "execution_count": 299,
   "id": "f54ad2df",
   "metadata": {},
   "outputs": [
    {
     "name": "stdout",
     "output_type": "stream",
     "text": [
      "ball\n"
     ]
    }
   ],
   "source": [
    "# Open the gift_box 3 and finally get the gift, in this case a 'ball'\n",
    "gift_box = gift_box[0]\n",
    "print(gift_box)"
   ]
  },
  {
   "cell_type": "markdown",
   "id": "29fdf255",
   "metadata": {},
   "source": [
    "## 7.2 funcOne (funcTwo ( funcThree ( 3 ), 2) , 1)"
   ]
  },
  {
   "cell_type": "code",
   "execution_count": 300,
   "id": "f4959a88",
   "metadata": {},
   "outputs": [
    {
     "name": "stdout",
     "output_type": "stream",
     "text": [
      "Three\n",
      "Two\n",
      "One\n"
     ]
    }
   ],
   "source": [
    "def funcThree():\n",
    "    print('Three')\n",
    "\n",
    "def funcTwo():\n",
    "    funcThree()\n",
    "    print('Two')\n",
    "\n",
    "def funcOne():\n",
    "    funcTwo()\n",
    "    print('One')\n",
    "\n",
    "\n",
    "funcOne() # funcOne calls funcTwo which calls funcThree"
   ]
  },
  {
   "cell_type": "markdown",
   "id": "6686a1a6",
   "metadata": {},
   "source": [
    "## 7.3 Factorial of N\n",
    "Factorial of n, wich is written n! is given by n! = n * (n-1) * (n-2) * ... * 1"
   ]
  },
  {
   "cell_type": "code",
   "execution_count": 301,
   "id": "3d7306a5",
   "metadata": {},
   "outputs": [
    {
     "name": "stdout",
     "output_type": "stream",
     "text": [
      "factorial(0): 1\n",
      "factorial(1): 1\n",
      "factorial(2): 2\n",
      "factorial(3): 6\n",
      "factorial(5): 120\n"
     ]
    }
   ],
   "source": [
    "# Calculates the factorial on n\n",
    "def factorial(n):\n",
    "    if n <= 1:\n",
    "        return 1\n",
    "    else:\n",
    "        return n * factorial(n-1)\n",
    "\n",
    "n=0\n",
    "print(f'factorial({n}): {factorial(n)}')\n",
    "\n",
    "n=1\n",
    "print(f'factorial({n}): {factorial(n)}')\n",
    "\n",
    "n=2\n",
    "print(f'factorial({n}): {factorial(n)}')\n",
    "\n",
    "n=3\n",
    "print(f'factorial({n}): {factorial(n)}')\n",
    "\n",
    "n=5\n",
    "print(f'factorial({n}): {factorial(n)}')"
   ]
  },
  {
   "cell_type": "markdown",
   "id": "27664677",
   "metadata": {},
   "source": [
    "# 8. Trees <a id='8.Trees'></a>\n",
    "* Full tree: each node points to either zero or two nodes. Otherwise we say the tree is not full\n",
    "* Perfect tree: all nodes, except the first node, have the same number of descendent nodes\n",
    "* A tree may not be perfect, but can still be full\n",
    "* Complete tree: it is a tree filled from left to right, without no gaps\n",
    "* In a tree each node has just one parent (ascendent node) and zero ascendent in the case of the root node\n",
    "* Each node may have zero or any number of nodes (except in the case of binary tree, in which each node can have at most two descendent nodes)\n",
    "* A leaf node is a node that has no child node"
   ]
  },
  {
   "cell_type": "markdown",
   "id": "9584a2bd",
   "metadata": {},
   "source": [
    "**[Go to Summary](#Summary)**"
   ]
  },
  {
   "cell_type": "markdown",
   "id": "61ac675d",
   "metadata": {},
   "source": [
    "## 8.1 Binary Search Tree"
   ]
  },
  {
   "cell_type": "markdown",
   "id": "2da682e4",
   "metadata": {},
   "source": [
    "         1\n",
    "        / \\\n",
    "       2   3\n",
    "      / \\   \\\n",
    "     4   5   6\n",
    "            / \\\n",
    "           7   9\n",
    "\n",
    "* Given one especific node (say node with value 1). All nodes in its right have values greater than or equal to its value (>= 1) and all the nodes in its left have values less than or equal to its value\n",
    "* Time complexity for BST (Binary Search Tree) in case of a perfect tree, we have the best scenario with time complexity equal O(log n), which can be achieved with divide-and-conquer estrategy. In case of a not perfect tree, the time complexity would be O(n)\n",
    "* For a BST we can consider time complexity for lookup(), insert() and remove() as O(log n)\n",
    "* For a LL (Linked List): insert() is O(1) and O(n) for lookup() and remove()\n",
    "* For a BST (Binary Search Tree): insert is O(na) and O(log n) for lookip() and remove()\n",
    "* So, for LL insert() performs better while for BST lookup() and remove() perform better"
   ]
  },
  {
   "cell_type": "markdown",
   "id": "7780547c",
   "metadata": {},
   "source": [
    "### 8.1.1 Class Node"
   ]
  },
  {
   "cell_type": "code",
   "execution_count": 302,
   "id": "deaa718e",
   "metadata": {},
   "outputs": [],
   "source": [
    "class Node:\n",
    "    def __init__(self, value):\n",
    "        self.value = value\n",
    "        self.left = None\n",
    "        self.right = None"
   ]
  },
  {
   "cell_type": "markdown",
   "id": "743ed3cd",
   "metadata": {},
   "source": [
    "### 8.1.2 Class BinarySearchTree"
   ]
  },
  {
   "cell_type": "markdown",
   "id": "0c5a6dfe",
   "metadata": {},
   "source": [
    "#### BinarySearchTree Constructor"
   ]
  },
  {
   "cell_type": "code",
   "execution_count": 303,
   "id": "b5bf65aa",
   "metadata": {},
   "outputs": [
    {
     "name": "stdout",
     "output_type": "stream",
     "text": [
      "None\n"
     ]
    }
   ],
   "source": [
    "class BinarySearchTree:\n",
    "    def __init__(self):\n",
    "        self.root = None # Creates an empty tree\n",
    "\n",
    "my_tree = BinarySearchTree()\n",
    "\n",
    "print(my_tree.root)"
   ]
  },
  {
   "cell_type": "markdown",
   "id": "882c77a7",
   "metadata": {},
   "source": [
    "#### BST 1:"
   ]
  },
  {
   "cell_type": "code",
   "execution_count": 304,
   "id": "6db15792",
   "metadata": {},
   "outputs": [
    {
     "name": "stdout",
     "output_type": "stream",
     "text": [
      "Root: 2\n",
      "Root->Left: 1\n",
      "Root->Right: 3\n"
     ]
    }
   ],
   "source": [
    "class BinarySearchTree:\n",
    "    def __init__(self):\n",
    "        self.root = None\n",
    "\n",
    "    def insert(self, value):\n",
    "        new_node = Node(value)\n",
    "        if self.root is None:\n",
    "            self.root = new_node\n",
    "            return True\n",
    "        temp = self.root\n",
    "        while (True):\n",
    "            if new_node.value == temp.value:\n",
    "                return False\n",
    "            if new_node.value < temp.value:\n",
    "                if temp.left is None:\n",
    "                    temp.left = new_node\n",
    "                    return True\n",
    "                temp = temp.left\n",
    "            else: \n",
    "                if temp.right is None:\n",
    "                    temp.right = new_node\n",
    "                    return True\n",
    "                temp = temp.right\n",
    "                \n",
    "    def contains(self, value):\n",
    "        temp = self.root\n",
    "        while (temp is not None):\n",
    "            if value < temp.value:\n",
    "                temp = temp.left\n",
    "            elif value > temp.value:\n",
    "                temp = temp.right\n",
    "            else:\n",
    "                return True\n",
    "        return False\n",
    "        \n",
    "    def print_bst(self):\n",
    "        if self.root == None:\n",
    "            return\n",
    "        node = self.root\n",
    "        print(f'root: {node.value}')\n",
    "        self.print_node(node.left, 'left')\n",
    "        self.print_node(node.right, 'right')\n",
    "        \n",
    "    def print_node(self, node, label):\n",
    "            if node is None:\n",
    "                return\n",
    "            print(f'{label}: {node.value}')\n",
    "            self.print_node(node.left, 'left')\n",
    "            self.print_node(node.right, 'right')\n",
    "my_tree = BinarySearchTree()\n",
    "my_tree.insert(2)\n",
    "my_tree.insert(1)\n",
    "my_tree.insert(3)\n",
    "\n",
    "\"\"\"\n",
    "    THE LINES ABOVE CREATE THIS TREE:\n",
    "                 2\n",
    "                / \\\n",
    "               1   3\n",
    "\"\"\"\n",
    "\n",
    "\n",
    "print('Root:', my_tree.root.value)            \n",
    "print('Root->Left:', my_tree.root.left.value)        \n",
    "print('Root->Right:', my_tree.root.right.value)  "
   ]
  },
  {
   "cell_type": "markdown",
   "id": "1a04ae7c",
   "metadata": {},
   "source": [
    "#### BST 2"
   ]
  },
  {
   "cell_type": "code",
   "execution_count": 305,
   "id": "77e0d6f8",
   "metadata": {},
   "outputs": [
    {
     "name": "stdout",
     "output_type": "stream",
     "text": [
      "BST Contains 27:\n",
      "True\n",
      "\n",
      "BST Contains 17:\n",
      "False\n",
      "\n",
      "Content of the BST:\n",
      "root: 47\n",
      "left: 21\n",
      "left: 18\n",
      "right: 27\n",
      "right: 76\n",
      "left: 52\n",
      "right: 82\n",
      "right: 120\n"
     ]
    }
   ],
   "source": [
    "class BinarySearchTree:\n",
    "    def __init__(self):\n",
    "        self.root = None\n",
    "\n",
    "    def insert(self, value):\n",
    "        new_node = Node(value)\n",
    "        if self.root is None:\n",
    "            self.root = new_node\n",
    "            return True\n",
    "        temp = self.root\n",
    "        while (True):\n",
    "            if new_node.value == temp.value:\n",
    "                return False\n",
    "            if new_node.value < temp.value:\n",
    "                if temp.left is None:\n",
    "                    temp.left = new_node\n",
    "                    return True\n",
    "                temp = temp.left\n",
    "            else: \n",
    "                if temp.right is None:\n",
    "                    temp.right = new_node\n",
    "                    return True\n",
    "                temp = temp.right\n",
    "                \n",
    "    def contains(self, value):\n",
    "        temp = self.root\n",
    "        while (temp is not None):\n",
    "            if value < temp.value:\n",
    "                temp = temp.left\n",
    "            elif value > temp.value:\n",
    "                temp = temp.right\n",
    "            else:\n",
    "                return True\n",
    "        return False\n",
    "    \n",
    "    def print_node(self, node, label):\n",
    "            if node is None:\n",
    "                return\n",
    "            print(f'{label}: {node.value}')\n",
    "            self.print_node(node.left, 'left')\n",
    "            self.print_node(node.right, 'right')\n",
    "        \n",
    "    def print_bst(self):\n",
    "        if self.root == None:\n",
    "            return\n",
    "        node = self.root\n",
    "        print(f'root: {node.value}')\n",
    "        self.print_node(node.left, 'left')\n",
    "        self.print_node(node.right, 'right')\n",
    "        \n",
    "          \n",
    "my_tree = BinarySearchTree()\n",
    "my_tree.insert(47)\n",
    "my_tree.insert(21)\n",
    "my_tree.insert(76)\n",
    "my_tree.insert(18)\n",
    "my_tree.insert(27)\n",
    "my_tree.insert(52)\n",
    "my_tree.insert(82)\n",
    "my_tree.insert(120)\n",
    "\n",
    "print('BST Contains 27:')\n",
    "print(my_tree.contains(27))\n",
    "\n",
    "print('\\nBST Contains 17:')\n",
    "print(my_tree.contains(17))  \n",
    "\n",
    "print('\\nContent of the BST:')\n",
    "my_tree.print_bst()"
   ]
  },
  {
   "cell_type": "markdown",
   "id": "bfebe27c",
   "metadata": {},
   "source": [
    "#### BST 3"
   ]
  },
  {
   "cell_type": "code",
   "execution_count": 306,
   "id": "f1a9ec0f",
   "metadata": {},
   "outputs": [
    {
     "name": "stdout",
     "output_type": "stream",
     "text": [
      "2\n",
      "3\n",
      "4\n",
      "5\n",
      "6\n",
      "7\n",
      "8\n"
     ]
    }
   ],
   "source": [
    "class Node:\n",
    "    def __init__(self, value):\n",
    "        self.value = value\n",
    "        self.left = None\n",
    "        self.right = None\n",
    "\n",
    "def print_content_bst(node):\n",
    "    if node is None:\n",
    "        return\n",
    "\n",
    "    # Traversing In-Order\n",
    "    print_content_bst(node.left)\n",
    "    print(node.value)\n",
    "    print_content_bst(node.right)\n",
    "\n",
    "# Creating a simple BST: 5 -> 3 -> 7 -> 2 -> 4 -> 6 -> 8\n",
    "root = Node(5)\n",
    "root.left = Node(3)\n",
    "root.right = Node(7)\n",
    "root.left.left = Node(2)\n",
    "root.left.right = Node(4)\n",
    "root.right.left = Node(6)\n",
    "root.right.right = Node(8)\n",
    "\n",
    "# Prints the content of the BST in ascending order\n",
    "print_content_bst(root)"
   ]
  },
  {
   "cell_type": "markdown",
   "id": "72acb69c",
   "metadata": {},
   "source": [
    "## 8.2 Recursive Binary Search Trees (rBST)"
   ]
  },
  {
   "cell_type": "markdown",
   "id": "0d902f0b",
   "metadata": {},
   "source": [
    "#### Class Node"
   ]
  },
  {
   "cell_type": "code",
   "execution_count": 307,
   "id": "c7f7e42c",
   "metadata": {},
   "outputs": [],
   "source": [
    "class Node:\n",
    "    def __init__(self, value):\n",
    "        self.value = value\n",
    "        self.left = None\n",
    "        self.right = None"
   ]
  },
  {
   "cell_type": "markdown",
   "id": "b476641e",
   "metadata": {},
   "source": [
    "#### Class BinarySearchTree (recursive)"
   ]
  },
  {
   "cell_type": "code",
   "execution_count": 308,
   "id": "c93f7944",
   "metadata": {},
   "outputs": [
    {
     "name": "stdout",
     "output_type": "stream",
     "text": [
      "\n",
      "Content of the BST:\n",
      "root: 47\n",
      "left: 21\n",
      "left: 18\n",
      "right: 27\n",
      "right: 76\n",
      "left: 48\n",
      "right: 82\n",
      "right: 120\n",
      "\n",
      "Print minimum value in the tree:\n",
      "18\n",
      "\n",
      "Print maximum value in the tree:\n",
      "120\n",
      "\n",
      "BST Contains 27:\n",
      "True\n",
      "BST Contains 17:\n",
      "False\n",
      "\n",
      "Insert node 8 using recursivity\n",
      "\n",
      "Insert node 12 using recursivity\n",
      "\n",
      "Insert node 138 using recursivity\n",
      "\n",
      "Insert node 129 using recursivity\n",
      "\n",
      "Content of the BST:\n",
      "root: 47\n",
      "left: 21\n",
      "left: 18\n",
      "left: 8\n",
      "right: 12\n",
      "right: 27\n",
      "right: 76\n",
      "left: 48\n",
      "right: 82\n",
      "right: 120\n",
      "right: 138\n",
      "left: 129\n",
      "\n",
      "Print minimum value in the tree:\n",
      "8\n",
      "\n",
      "Print maximum value in the tree:\n",
      "138\n",
      "\n",
      "Root: 47\n",
      "Minimum value (left): 8\n",
      "Maximum value (right): 138\n"
     ]
    }
   ],
   "source": [
    "class BinarySearchTree:\n",
    "    def __init__(self):\n",
    "        self.root = None\n",
    "\n",
    "        \n",
    "    def insert(self, value):\n",
    "        new_node = Node(value)\n",
    "        if self.root is None:\n",
    "            self.root = new_node\n",
    "            return True\n",
    "        temp = self.root\n",
    "        while (True):\n",
    "            if new_node.value == temp.value:\n",
    "                return False\n",
    "            if new_node.value < temp.value:\n",
    "                if temp.left is None:\n",
    "                    temp.left = new_node\n",
    "                    return True\n",
    "                temp = temp.left\n",
    "            else: \n",
    "                if temp.right is None:\n",
    "                    temp.right = new_node\n",
    "                    return True\n",
    "                temp = temp.right\n",
    "\n",
    "\n",
    "    def contains(self, value):\n",
    "        temp = self.root\n",
    "        while (temp is not None):\n",
    "            if value < temp.value:\n",
    "                temp = temp.left\n",
    "            elif value > temp.value:\n",
    "                temp = temp.right\n",
    "            else:\n",
    "                return True\n",
    "        return False\n",
    " \n",
    "\n",
    "    def __r_contains(self, current_node, value):\n",
    "        if current_node == None: \n",
    "            return False      \n",
    "        if value == current_node.value:\n",
    "            return True \n",
    "        if value < current_node.value:\n",
    "            return self.__r_contains(current_node.left, value) \n",
    "        if value > current_node.value:\n",
    "            return self.__r_contains(current_node.right, value)\n",
    "\n",
    "    def r_contains(self, value):\n",
    "        return self.__r_contains(self.root, value)\n",
    "\n",
    " \n",
    "          \n",
    "    def __r_insert(self, current_node, value):\n",
    "        if current_node == None: \n",
    "            return Node(value)   \n",
    "        if value < current_node.value:\n",
    "            current_node.left = self.__r_insert(current_node.left, value)\n",
    "        if value > current_node.value:\n",
    "            current_node.right = self.__r_insert(current_node.right, value) \n",
    "        return current_node    \n",
    "\n",
    "    def r_insert(self, value):\n",
    "        if self.root == None: \n",
    "            self.root = Node(value)\n",
    "        self.__r_insert(self.root, value)  \n",
    "\n",
    "\n",
    "    def min_value(self, current_node):\n",
    "        while (current_node.left is not None):\n",
    "            current_node = current_node.left\n",
    "        return current_node.value \n",
    "    \n",
    "    def max_value(self, current_node):\n",
    "        while (current_node.right is not None):\n",
    "            current_node = current_node.right\n",
    "        return current_node.value \n",
    "\n",
    "    def __delete_node(self, current_node, value):\n",
    "        if current_node == None: \n",
    "            return None\n",
    "        if value < current_node.value:\n",
    "            current_node.left = self.__delete_node(current_node.left, value)\n",
    "        elif value > current_node.value: \n",
    "            current_node.right = self.__delete_node(current_node.right, value)\n",
    "        else:\n",
    "            if current_node.left == None and current_node.right == None:\n",
    "                return None\n",
    "            elif current_node.left == None:\n",
    "                current_node = current_node.right\n",
    "            elif current_node.right == None:\n",
    "                current_node = current_node.left\n",
    "            else:\n",
    "                sub_tree_min = self.min_value(current_node.right)\n",
    "                current_node.value = sub_tree_min\n",
    "                current_node.right = self.__delete_node(current_node.right, sub_tree_min)\n",
    "        return current_node\n",
    "    \n",
    "    def delete_node(self, value):\n",
    "        self.root = self.__delete_node(self.root, value)\n",
    "\n",
    "    def print_node(self, node, label):\n",
    "            if node is None:\n",
    "                return\n",
    "            print(f'{label}: {node.value}')\n",
    "            self.print_node(node.left, 'left')\n",
    "            self.print_node(node.right, 'right')\n",
    "        \n",
    "    def print_bst(self):\n",
    "        if self.root == None:\n",
    "            return\n",
    "        node = self.root\n",
    "        print(f'root: {node.value}')\n",
    "        self.print_node(node.left, 'left')\n",
    "        self.print_node(node.right, 'right')\n",
    "        \n",
    "\n",
    "        \n",
    "my_tree = BinarySearchTree()\n",
    "my_tree.insert(47)\n",
    "my_tree.insert(21)\n",
    "my_tree.insert(76)\n",
    "my_tree.insert(18)\n",
    "my_tree.insert(27)\n",
    "my_tree.insert(48)\n",
    "my_tree.insert(82)\n",
    "my_tree.insert(120)\n",
    "\n",
    "print('\\nContent of the BST:')\n",
    "my_tree.print_bst()\n",
    "\n",
    "print('\\nPrint minimum value in the tree:')\n",
    "print( my_tree.min_value(my_tree.root) )\n",
    "\n",
    "print('\\nPrint maximum value in the tree:')\n",
    "print( my_tree.max_value(my_tree.root) )\n",
    "\n",
    "print('\\nBST Contains 27:')\n",
    "print(my_tree.r_contains(27))\n",
    "\n",
    "print('BST Contains 17:')\n",
    "print(my_tree.r_contains(17))\n",
    "\n",
    "nwnode = 8\n",
    "print(f'\\nInsert node {nwnode} using recursivity')\n",
    "my_tree.r_insert(nwnode)\n",
    "\n",
    "nwnode = 12\n",
    "print(f'\\nInsert node {nwnode} using recursivity')\n",
    "my_tree.r_insert(nwnode)\n",
    "\n",
    "nwnode = 138\n",
    "print(f'\\nInsert node {nwnode} using recursivity')\n",
    "my_tree.r_insert(nwnode)\n",
    "\n",
    "nwnode = 129\n",
    "print(f'\\nInsert node {nwnode} using recursivity')\n",
    "my_tree.r_insert(nwnode)\n",
    "\n",
    "print('\\nContent of the BST:')\n",
    "my_tree.print_bst()\n",
    "\n",
    "print('\\nPrint minimum value in the tree:')\n",
    "print( my_tree.min_value(my_tree.root) )\n",
    "\n",
    "print('\\nPrint maximum value in the tree:')\n",
    "print( my_tree.max_value(my_tree.root) )\n",
    "\n",
    "print(f'\\nRoot: {my_tree.root.value}')\n",
    "print(f'Minimum value (left): {my_tree.min_value(my_tree.root.left)}')\n",
    "print(f'Maximum value (right): {my_tree.max_value(my_tree.root.right)}')"
   ]
  },
  {
   "cell_type": "markdown",
   "id": "57256896",
   "metadata": {},
   "source": [
    "## 8.3 Tree Traversal"
   ]
  },
  {
   "cell_type": "markdown",
   "id": "6dbe2da0",
   "metadata": {},
   "source": [
    "### 8.3.1 BFS (Breadth First Search)\n",
    "Starting in the root node, visit the children of the root node (first level) from left to right, before going to the next level and visiting all its children nodes (from left to right), and so on.\n",
    "\n",
    "Given the BST below:\n",
    "\n",
    "               47\n",
    "             /    \\\n",
    "            21     76\n",
    "          /  \\    /  \\ \n",
    "        18   27  52  82\n",
    "        \n",
    "* Traverse the Tree using BFS to produce a list of nodes:\n",
    "[47, 21, 76, 18, 27, 52, 82]"
   ]
  },
  {
   "cell_type": "markdown",
   "id": "331d734c",
   "metadata": {},
   "source": [
    "### 8.3.2 Depth First Search (DFS)\n",
    "\n",
    "Given the BST below:\n",
    "\n",
    "               47\n",
    "             /    \\\n",
    "            21     76\n",
    "          /  \\    /  \\ \n",
    "        18   27  52  82\n",
    "\n",
    "* Traverse the Tree using DFS (PreOrder) to produce a list of nodes:\n",
    "[47, 21, 18, 27, 76, 52, 82]\n",
    "\n",
    "* Traverse the Tree using DFS (PostOrder) to produce a list of nodes:\n",
    "[18, 27, 21, 52, 82, 76, 47]\n",
    "\n",
    "* Traverse the Tree using DFS (InOrder) to produce a list of nodes:\n",
    "[18, 21, 27, 47, 52, 76, 82]"
   ]
  },
  {
   "cell_type": "markdown",
   "id": "878eb73e",
   "metadata": {},
   "source": [
    "### 8.3.1 Tree Traversal using BFS and Creation of a List of Nodes"
   ]
  },
  {
   "cell_type": "markdown",
   "id": "8ebb6cff",
   "metadata": {},
   "source": [
    "#### Class Node"
   ]
  },
  {
   "cell_type": "code",
   "execution_count": 309,
   "id": "39ce6a0b",
   "metadata": {},
   "outputs": [],
   "source": [
    "class Node:\n",
    "    def __init__(self, value):\n",
    "        self.value = value\n",
    "        self.left = None\n",
    "        self.right = None"
   ]
  },
  {
   "cell_type": "markdown",
   "id": "56e48ada",
   "metadata": {},
   "source": [
    "#### Class BinarySearchTree with BFS() implementation in List"
   ]
  },
  {
   "cell_type": "code",
   "execution_count": 310,
   "id": "d8a50db3",
   "metadata": {},
   "outputs": [
    {
     "name": "stdout",
     "output_type": "stream",
     "text": [
      "--- Crating a BST ---\n",
      "\n",
      "Content of the BST:\n",
      "root: 47\n",
      "left: 21\n",
      "left: 18\n",
      "left: 10\n",
      "left: 3\n",
      "right: 5\n",
      "right: 12\n",
      "right: 27\n",
      "left: 23\n",
      "right: 30\n",
      "right: 42\n",
      "right: 76\n",
      "left: 48\n",
      "right: 57\n",
      "right: 86\n",
      "left: 81\n",
      "right: 95\n",
      "right: 120\n",
      "\n",
      "Print minimum value in the tree:\n",
      "3\n",
      "\n",
      "Print maximum value in the tree:\n",
      "120\n",
      "\n",
      "BST Contains 27:\n",
      "True\n",
      "BST Contains 17:\n",
      "False\n",
      "\n",
      "Insert node 8 using recursivity\n",
      "\n",
      "Insert node 12 using recursivity\n",
      "\n",
      "Insert node 138 using recursivity\n",
      "\n",
      "Insert node 129 using recursivity\n",
      "\n",
      "Content of the BST:\n",
      "root: 47\n",
      "left: 21\n",
      "left: 18\n",
      "left: 10\n",
      "left: 3\n",
      "right: 5\n",
      "right: 8\n",
      "right: 12\n",
      "right: 27\n",
      "left: 23\n",
      "right: 30\n",
      "right: 42\n",
      "right: 76\n",
      "left: 48\n",
      "right: 57\n",
      "right: 86\n",
      "left: 81\n",
      "right: 95\n",
      "right: 120\n",
      "right: 138\n",
      "left: 129\n",
      "\n",
      "Traverse the Tree using BFS to produce a list of nodes:\n",
      "[47, 21, 76, 18, 27, 48, 86, 10, 23, 30, 57, 81, 95, 3, 12, 42, 120, 5, 138, 8, 129]\n",
      "\n",
      "Print minimum value in the tree:\n",
      "3\n",
      "\n",
      "Print maximum value in the tree:\n",
      "138\n",
      "\n",
      "Root: 47\n",
      "Minimum value (left): 3\n",
      "Maximum value (right): 138\n",
      "\n",
      " --- Creating a New BST ---\n",
      "\n",
      "Content of the BST:\n",
      "root: 47\n",
      "left: 21\n",
      "left: 18\n",
      "right: 27\n",
      "right: 76\n",
      "left: 52\n",
      "right: 82\n",
      "\n",
      "Traverse the Tree using BFS to produce a list of nodes:\n",
      "[47, 21, 76, 18, 27, 52, 82]\n"
     ]
    }
   ],
   "source": [
    "class BinarySearchTree:\n",
    "    def __init__(self):\n",
    "        self.root = None\n",
    "\n",
    "        \n",
    "    def insert(self, value):\n",
    "        new_node = Node(value)\n",
    "        if self.root is None:\n",
    "            self.root = new_node\n",
    "            return True\n",
    "        temp = self.root\n",
    "        while (True):\n",
    "            if new_node.value == temp.value:\n",
    "                return False\n",
    "            if new_node.value < temp.value:\n",
    "                if temp.left is None:\n",
    "                    temp.left = new_node\n",
    "                    return True\n",
    "                temp = temp.left\n",
    "            else: \n",
    "                if temp.right is None:\n",
    "                    temp.right = new_node\n",
    "                    return True\n",
    "                temp = temp.right\n",
    "\n",
    "\n",
    "    def contains(self, value):\n",
    "        temp = self.root\n",
    "        while (temp is not None):\n",
    "            if value < temp.value:\n",
    "                temp = temp.left\n",
    "            elif value > temp.value:\n",
    "                temp = temp.right\n",
    "            else:\n",
    "                return True\n",
    "        return False\n",
    " \n",
    "\n",
    "    def __r_contains(self, current_node, value):\n",
    "        if current_node == None: \n",
    "            return False      \n",
    "        if value == current_node.value:\n",
    "            return True \n",
    "        if value < current_node.value:\n",
    "            return self.__r_contains(current_node.left, value) \n",
    "        if value > current_node.value:\n",
    "            return self.__r_contains(current_node.right, value)\n",
    "\n",
    "    def r_contains(self, value):\n",
    "        return self.__r_contains(self.root, value)\n",
    "\n",
    "    \n",
    "    def __r_insert(self, current_node, value):\n",
    "        if current_node == None: \n",
    "            return Node(value)   \n",
    "        if value < current_node.value:\n",
    "            current_node.left = self.__r_insert(current_node.left, value)\n",
    "        if value > current_node.value:\n",
    "            current_node.right = self.__r_insert(current_node.right, value) \n",
    "        return current_node    \n",
    "\n",
    "    def r_insert(self, value):\n",
    "        if self.root == None: \n",
    "            self.root = Node(value)\n",
    "        self.__r_insert(self.root, value)  \n",
    "\n",
    "\n",
    "    def min_value(self, current_node):\n",
    "        while (current_node.left is not None):\n",
    "            current_node = current_node.left\n",
    "        return current_node.value \n",
    "    \n",
    "    def max_value(self, current_node):\n",
    "        while (current_node.right is not None):\n",
    "            current_node = current_node.right\n",
    "        return current_node.value \n",
    "\n",
    "    def __delete_node(self, current_node, value):\n",
    "        if current_node == None: \n",
    "            return None\n",
    "        if value < current_node.value:\n",
    "            current_node.left = self.__delete_node(current_node.left, value)\n",
    "        elif value > current_node.value: \n",
    "            current_node.right = self.__delete_node(current_node.right, value)\n",
    "        else:\n",
    "            if current_node.left == None and current_node.right == None:\n",
    "                return None\n",
    "            elif current_node.left == None:\n",
    "                current_node = current_node.right\n",
    "            elif current_node.right == None:\n",
    "                current_node = current_node.left\n",
    "            else:\n",
    "                sub_tree_min = self.min_value(current_node.right)\n",
    "                current_node.value = sub_tree_min\n",
    "                current_node.right = self.__delete_node(current_node.right, sub_tree_min)\n",
    "        return current_node\n",
    "    \n",
    "    def delete_node(self, value):\n",
    "        self.root = self.__delete_node(self.root, value)\n",
    "\n",
    "    def print_node(self, node, label):\n",
    "            if node is None:\n",
    "                return\n",
    "            print(f'{label}: {node.value}')\n",
    "            self.print_node(node.left, 'left')\n",
    "            self.print_node(node.right, 'right')\n",
    "        \n",
    "    def print_bst(self):\n",
    "        if self.root == None:\n",
    "            return\n",
    "        node = self.root\n",
    "        print(f'root: {node.value}')\n",
    "        self.print_node(node.left, 'left')\n",
    "        self.print_node(node.right, 'right')\n",
    "        \n",
    "    # YOU CAN ALSO WRITE BFS WITH A QUEUE INSTEAD OF LIST\n",
    "    # (TECHNICALLY THIS IS A BETTER SOLUTION)\n",
    "    #\n",
    "    # def BFS(self):\n",
    "    #     current_node = self.root\n",
    "    #     queue = Queue()\n",
    "    #     results = []\n",
    "    #     queue.put(current_node)\n",
    "    #     while not queue.empty():\n",
    "    #         current_node = queue.get()\n",
    "    #         results.append(current_node.value)\n",
    "    #         if current_node.left is not None:\n",
    "    #             queue.put(current_node.left)\n",
    "    #         if current_node.right is not None:\n",
    "    #             queue.put(current_node.right)\n",
    "    #     return results\n",
    "                \n",
    "    \n",
    "    def BFS(self):\n",
    "        current_node = self.root\n",
    "        queue = []\n",
    "        results = []\n",
    "        queue.append(current_node)\n",
    "\n",
    "        while len(queue) > 0:\n",
    "            current_node = queue.pop(0)\n",
    "            results.append(current_node.value)\n",
    "            if current_node.left is not None:\n",
    "                queue.append(current_node.left)\n",
    "            if current_node.right is not None:\n",
    "                queue.append(current_node.right)\n",
    "        return results\n",
    "       \n",
    "print('--- Crating a BST ---')\n",
    "my_tree = BinarySearchTree()\n",
    "my_tree.insert(47)\n",
    "my_tree.insert(21)\n",
    "my_tree.insert(76)\n",
    "my_tree.insert(18)\n",
    "my_tree.insert(10)\n",
    "my_tree.insert(12)\n",
    "my_tree.insert(27)\n",
    "my_tree.insert(23)\n",
    "my_tree.insert(30)\n",
    "my_tree.insert(48)\n",
    "my_tree.insert(42)\n",
    "my_tree.insert(57)\n",
    "my_tree.insert(86)\n",
    "my_tree.insert(81)\n",
    "my_tree.insert(95)\n",
    "\n",
    "my_tree.insert(120)\n",
    "\n",
    "# Intertions to make the BST full and perfect\n",
    "my_tree.insert(3)\n",
    "my_tree.insert(5)\n",
    "my_tree.insert(10)\n",
    "\n",
    "\n",
    "print('\\nContent of the BST:')\n",
    "my_tree.print_bst()\n",
    "\n",
    "print('\\nPrint minimum value in the tree:')\n",
    "print( my_tree.min_value(my_tree.root) )\n",
    "\n",
    "print('\\nPrint maximum value in the tree:')\n",
    "print( my_tree.max_value(my_tree.root) )\n",
    "\n",
    "print('\\nBST Contains 27:')\n",
    "print(my_tree.r_contains(27))\n",
    "\n",
    "print('BST Contains 17:')\n",
    "print(my_tree.r_contains(17))\n",
    "\n",
    "nwnode = 8\n",
    "print(f'\\nInsert node {nwnode} using recursivity')\n",
    "my_tree.r_insert(nwnode)\n",
    "\n",
    "nwnode = 12\n",
    "print(f'\\nInsert node {nwnode} using recursivity')\n",
    "my_tree.r_insert(nwnode)\n",
    "\n",
    "nwnode = 138\n",
    "print(f'\\nInsert node {nwnode} using recursivity')\n",
    "my_tree.r_insert(nwnode)\n",
    "\n",
    "nwnode = 129\n",
    "print(f'\\nInsert node {nwnode} using recursivity')\n",
    "my_tree.r_insert(nwnode)\n",
    "\n",
    "print('\\nContent of the BST:')\n",
    "my_tree.print_bst()\n",
    "\n",
    "print('\\nTraverse the Tree using BFS to produce a list of nodes:')\n",
    "print(my_tree.BFS())\n",
    "\n",
    "print('\\nPrint minimum value in the tree:')\n",
    "print( my_tree.min_value(my_tree.root) )\n",
    "\n",
    "print('\\nPrint maximum value in the tree:')\n",
    "print( my_tree.max_value(my_tree.root) )\n",
    "\n",
    "print(f'\\nRoot: {my_tree.root.value}')\n",
    "print(f'Minimum value (left): {my_tree.min_value(my_tree.root.left)}')\n",
    "print(f'Maximum value (right): {my_tree.max_value(my_tree.root.right)}')\n",
    "\n",
    "print('\\n --- Creating a New BST ---')\n",
    "my_tree = BinarySearchTree()\n",
    "my_tree.insert(47)\n",
    "my_tree.insert(21)\n",
    "my_tree.insert(76)\n",
    "my_tree.insert(18)\n",
    "my_tree.insert(27)\n",
    "my_tree.insert(52)\n",
    "my_tree.insert(82)\n",
    "\n",
    "print('\\nContent of the BST:')\n",
    "my_tree.print_bst()\n",
    "\n",
    "print('\\nTraverse the Tree using BFS to produce a list of nodes:')\n",
    "print(my_tree.BFS())"
   ]
  },
  {
   "cell_type": "markdown",
   "id": "8abb911a",
   "metadata": {},
   "source": [
    "### 8.3.2 Tree Traversal using DFS and Implemented as List of Nodes"
   ]
  },
  {
   "cell_type": "markdown",
   "id": "95cf08df",
   "metadata": {},
   "source": [
    "#### Class Node"
   ]
  },
  {
   "cell_type": "code",
   "execution_count": 311,
   "id": "f1f9c567",
   "metadata": {},
   "outputs": [],
   "source": [
    "class Node:\n",
    "    def __init__(self, value):\n",
    "        self.value = value\n",
    "        self.left = None\n",
    "        self.right = None"
   ]
  },
  {
   "cell_type": "markdown",
   "id": "74ecbb5a",
   "metadata": {},
   "source": [
    "#### Class BinarySearchTree with DFS() implementation in List"
   ]
  },
  {
   "cell_type": "code",
   "execution_count": 312,
   "id": "7845df73",
   "metadata": {
    "scrolled": true
   },
   "outputs": [
    {
     "name": "stdout",
     "output_type": "stream",
     "text": [
      "--- Crating a BST ---\n",
      "\n",
      "Content of the BST:\n",
      "root: 47\n",
      "left: 21\n",
      "left: 18\n",
      "left: 10\n",
      "left: 3\n",
      "right: 5\n",
      "right: 12\n",
      "right: 42\n",
      "right: 76\n",
      "left: 57\n",
      "right: 86\n",
      "left: 81\n",
      "right: 95\n",
      "right: 120\n",
      "\n",
      "Print minimum value in the tree:\n",
      "3\n",
      "\n",
      "Print maximum value in the tree:\n",
      "120\n",
      "\n",
      "BST Contains 27:\n",
      "False\n",
      "BST Contains 17:\n",
      "False\n",
      "\n",
      "Insert node 8 using recursivity\n",
      "\n",
      "Insert node 12 using recursivity\n",
      "\n",
      "Insert node 138 using recursivity\n",
      "\n",
      "Insert node 129 using recursivity\n",
      "\n",
      "Content of the BST:\n",
      "root: 47\n",
      "left: 21\n",
      "left: 18\n",
      "left: 10\n",
      "left: 3\n",
      "right: 5\n",
      "right: 8\n",
      "right: 12\n",
      "right: 42\n",
      "right: 76\n",
      "left: 57\n",
      "right: 86\n",
      "left: 81\n",
      "right: 95\n",
      "right: 120\n",
      "right: 138\n",
      "left: 129\n",
      "\n",
      "Traverse the Tree using BFS to produce a list of nodes:\n",
      "[47, 21, 76, 18, 42, 57, 86, 10, 81, 95, 3, 12, 120, 5, 138, 8, 129]\n",
      "\n",
      "Print minimum value in the tree:\n",
      "3\n",
      "\n",
      "Print maximum value in the tree:\n",
      "138\n",
      "\n",
      "Root: 47\n",
      "Minimum value (left): 3\n",
      "Maximum value (right): 138\n",
      "\n",
      " --- Creating a New BST ---\n",
      "\n",
      "Content of the BST:\n",
      "root: 47\n",
      "left: 21\n",
      "left: 18\n",
      "right: 27\n",
      "right: 76\n",
      "left: 52\n",
      "right: 82\n",
      "\n",
      "Traverse the Tree using BFS to produce a list of nodes:\n",
      "[47, 21, 76, 18, 27, 52, 82]\n",
      "\n",
      "Traverse the Tree using DFS (PreOrder) to produce a list of nodes:\n",
      "[47, 21, 18, 27, 76, 52, 82]\n",
      "\n",
      "Traverse the Tree using DFS (PostOrder) to produce a list of nodes:\n",
      "[18, 27, 21, 52, 82, 76, 47]\n",
      "\n",
      "Traverse the Tree using DFS (InOrder) to produce a list of nodes:\n",
      "[18, 21, 27, 47, 52, 76, 82]\n"
     ]
    }
   ],
   "source": [
    "class BinarySearchTree:\n",
    "    def __init__(self):\n",
    "        self.root = None\n",
    "\n",
    "        \n",
    "    def insert(self, value):\n",
    "        new_node = Node(value)\n",
    "        if self.root is None:\n",
    "            self.root = new_node\n",
    "            return True\n",
    "        temp = self.root\n",
    "        while (True):\n",
    "            if new_node.value == temp.value:\n",
    "                return False\n",
    "            if new_node.value < temp.value:\n",
    "                if temp.left is None:\n",
    "                    temp.left = new_node\n",
    "                    return True\n",
    "                temp = temp.left\n",
    "            else: \n",
    "                if temp.right is None:\n",
    "                    temp.right = new_node\n",
    "                    return True\n",
    "                temp = temp.right\n",
    "\n",
    "\n",
    "    def contains(self, value):\n",
    "        temp = self.root\n",
    "        while (temp is not None):\n",
    "            if value < temp.value:\n",
    "                temp = temp.left\n",
    "            elif value > temp.value:\n",
    "                temp = temp.right\n",
    "            else:\n",
    "                return True\n",
    "        return False\n",
    " \n",
    "\n",
    "    def __r_contains(self, current_node, value):\n",
    "        if current_node == None: \n",
    "            return False      \n",
    "        if value == current_node.value:\n",
    "            return True \n",
    "        if value < current_node.value:\n",
    "            return self.__r_contains(current_node.left, value) \n",
    "        if value > current_node.value:\n",
    "            return self.__r_contains(current_node.right, value)\n",
    "\n",
    "    def r_contains(self, value):\n",
    "        return self.__r_contains(self.root, value)\n",
    "\n",
    "    \n",
    "    def __r_insert(self, current_node, value):\n",
    "        if current_node == None: \n",
    "            return Node(value)   \n",
    "        if value < current_node.value:\n",
    "            current_node.left = self.__r_insert(current_node.left, value)\n",
    "        if value > current_node.value:\n",
    "            current_node.right = self.__r_insert(current_node.right, value) \n",
    "        return current_node    \n",
    "\n",
    "    def r_insert(self, value):\n",
    "        if self.root == None: \n",
    "            self.root = Node(value)\n",
    "        self.__r_insert(self.root, value)  \n",
    "\n",
    "\n",
    "    def min_value(self, current_node):\n",
    "        while (current_node.left is not None):\n",
    "            current_node = current_node.left\n",
    "        return current_node.value \n",
    "    \n",
    "    def max_value(self, current_node):\n",
    "        while (current_node.right is not None):\n",
    "            current_node = current_node.right\n",
    "        return current_node.value \n",
    "\n",
    "    def __delete_node(self, current_node, value):\n",
    "        if current_node == None: \n",
    "            return None\n",
    "        if value < current_node.value:\n",
    "            current_node.left = self.__delete_node(current_node.left, value)\n",
    "        elif value > current_node.value: \n",
    "            current_node.right = self.__delete_node(current_node.right, value)\n",
    "        else:\n",
    "            if current_node.left == None and current_node.right == None:\n",
    "                return None\n",
    "            elif current_node.left == None:\n",
    "                current_node = current_node.right\n",
    "            elif current_node.right == None:\n",
    "                current_node = current_node.left\n",
    "            else:\n",
    "                sub_tree_min = self.min_value(current_node.right)\n",
    "                current_node.value = sub_tree_min\n",
    "                current_node.right = self.__delete_node(current_node.right, sub_tree_min)\n",
    "        return current_node\n",
    "    \n",
    "    def delete_node(self, value):\n",
    "        self.root = self.__delete_node(self.root, value)\n",
    "\n",
    "    def print_node(self, node, label):\n",
    "            if node is None:\n",
    "                return\n",
    "            print(f'{label}: {node.value}')\n",
    "            self.print_node(node.left, 'left')\n",
    "            self.print_node(node.right, 'right')\n",
    "        \n",
    "    def print_bst(self):\n",
    "        if self.root == None:\n",
    "            return\n",
    "        node = self.root\n",
    "        print(f'root: {node.value}')\n",
    "        self.print_node(node.left, 'left')\n",
    "        self.print_node(node.right, 'right')\n",
    "        \n",
    "    # YOU CAN ALSO WRITE BFS WITH A QUEUE INSTEAD OF LIST\n",
    "    # (TECHNICALLY THIS IS A BETTER SOLUTION)\n",
    "    #\n",
    "    # def BFS(self):\n",
    "    #     current_node = self.root\n",
    "    #     queue = Queue()\n",
    "    #     results = []\n",
    "    #     queue.put(current_node)\n",
    "    #     while not queue.empty():\n",
    "    #         current_node = queue.get()\n",
    "    #         results.append(current_node.value)\n",
    "    #         if current_node.left is not None:\n",
    "    #             queue.put(current_node.left)\n",
    "    #         if current_node.right is not None:\n",
    "    #             queue.put(current_node.right)\n",
    "    #     return results\n",
    "                \n",
    "    \n",
    "    def BFS(self):\n",
    "        current_node = self.root\n",
    "        queue = []\n",
    "        results = []\n",
    "        queue.append(current_node)\n",
    "\n",
    "        while len(queue) > 0:\n",
    "            current_node = queue.pop(0)\n",
    "            results.append(current_node.value)\n",
    "            if current_node.left is not None:\n",
    "                queue.append(current_node.left)\n",
    "            if current_node.right is not None:\n",
    "                queue.append(current_node.right)\n",
    "        return results\n",
    "    \n",
    "    def dfs_pre_order(self):\n",
    "        results = []\n",
    "        def traverse(current_node):\n",
    "            results.append(current_node.value)\n",
    "            if current_node.left is not None:\n",
    "                traverse(current_node.left)\n",
    "            if current_node.right is not None:\n",
    "                traverse(current_node.right)\n",
    "        traverse(self.root)\n",
    "        return results\n",
    "    \n",
    "    def dfs_post_order(self):\n",
    "        results = []\n",
    "        def traverse(current_node):\n",
    "            if current_node.left is not None:\n",
    "                traverse(current_node.left)\n",
    "            if current_node.right is not None:\n",
    "                traverse(current_node.right)\n",
    "            results.append(current_node.value)\n",
    "        traverse(self.root)\n",
    "        return results\n",
    "    \n",
    "    def dfs_in_order(self):\n",
    "        results = []\n",
    "        def traverse(current_node):\n",
    "            if current_node.left is not None:\n",
    "                traverse(current_node.left)\n",
    "            results.append(current_node.value) \n",
    "            if current_node.right is not None:\n",
    "                traverse(current_node.right)          \n",
    "        traverse(self.root)\n",
    "        return results\n",
    "\n",
    "       \n",
    "print('--- Crating a BST ---')\n",
    "my_tree = BinarySearchTree()\n",
    "my_tree.insert(47)\n",
    "my_tree.insert(21)\n",
    "my_tree.insert(76)\n",
    "my_tree.insert(18)\n",
    "my_tree.insert(10)\n",
    "my_tree.insert(12)\n",
    "my_tree.insert(42)\n",
    "my_tree.insert(57)\n",
    "my_tree.insert(86)\n",
    "my_tree.insert(81)\n",
    "my_tree.insert(95)\n",
    "\n",
    "my_tree.insert(120)\n",
    "\n",
    "# Intertions to make the BST full and perfect\n",
    "my_tree.insert(3)\n",
    "my_tree.insert(5)\n",
    "my_tree.insert(10)\n",
    "\n",
    "\n",
    "print('\\nContent of the BST:')\n",
    "my_tree.print_bst()\n",
    "\n",
    "print('\\nPrint minimum value in the tree:')\n",
    "print( my_tree.min_value(my_tree.root) )\n",
    "\n",
    "print('\\nPrint maximum value in the tree:')\n",
    "print( my_tree.max_value(my_tree.root) )\n",
    "\n",
    "print('\\nBST Contains 27:')\n",
    "print(my_tree.r_contains(27))\n",
    "\n",
    "print('BST Contains 17:')\n",
    "print(my_tree.r_contains(17))\n",
    "\n",
    "nwnode = 8\n",
    "print(f'\\nInsert node {nwnode} using recursivity')\n",
    "my_tree.r_insert(nwnode)\n",
    "\n",
    "nwnode = 12\n",
    "print(f'\\nInsert node {nwnode} using recursivity')\n",
    "my_tree.r_insert(nwnode)\n",
    "\n",
    "nwnode = 138\n",
    "print(f'\\nInsert node {nwnode} using recursivity')\n",
    "my_tree.r_insert(nwnode)\n",
    "\n",
    "nwnode = 129\n",
    "print(f'\\nInsert node {nwnode} using recursivity')\n",
    "my_tree.r_insert(nwnode)\n",
    "\n",
    "print('\\nContent of the BST:')\n",
    "my_tree.print_bst()\n",
    "\n",
    "print('\\nTraverse the Tree using BFS to produce a list of nodes:')\n",
    "print(my_tree.BFS())\n",
    "\n",
    "print('\\nPrint minimum value in the tree:')\n",
    "print( my_tree.min_value(my_tree.root) )\n",
    "\n",
    "print('\\nPrint maximum value in the tree:')\n",
    "print( my_tree.max_value(my_tree.root) )\n",
    "\n",
    "print(f'\\nRoot: {my_tree.root.value}')\n",
    "print(f'Minimum value (left): {my_tree.min_value(my_tree.root.left)}')\n",
    "print(f'Maximum value (right): {my_tree.max_value(my_tree.root.right)}')\n",
    "\n",
    "print('\\n --- Creating a New BST ---')\n",
    "my_tree = BinarySearchTree()\n",
    "my_tree.insert(47)\n",
    "my_tree.insert(21)\n",
    "my_tree.insert(76)\n",
    "my_tree.insert(18)\n",
    "my_tree.insert(27)\n",
    "my_tree.insert(52)\n",
    "my_tree.insert(82)\n",
    "\n",
    "print('\\nContent of the BST:')\n",
    "my_tree.print_bst()\n",
    "\n",
    "print('\\nTraverse the Tree using BFS to produce a list of nodes:')\n",
    "print(my_tree.BFS())\n",
    "\n",
    "print('\\nTraverse the Tree using DFS (PreOrder) to produce a list of nodes:')\n",
    "print(my_tree.dfs_pre_order())\n",
    "\n",
    "print('\\nTraverse the Tree using DFS (PostOrder) to produce a list of nodes:')\n",
    "print(my_tree.dfs_post_order())    \n",
    "\n",
    "print('\\nTraverse the Tree using DFS (InOrder) to produce a list of nodes:')\n",
    "print(my_tree.dfs_in_order())"
   ]
  },
  {
   "cell_type": "markdown",
   "id": "70f7211b",
   "metadata": {},
   "source": [
    "**[Go to 8_Trees](#8.Trees)**"
   ]
  },
  {
   "cell_type": "markdown",
   "id": "9a452d46",
   "metadata": {},
   "source": [
    "# 9. Hash_Tables <a id='9.Hash_Tables'></a>"
   ]
  },
  {
   "cell_type": "markdown",
   "id": "a312f53e",
   "metadata": {},
   "source": [
    "**[Go to Summary](#Summary)**"
   ]
  },
  {
   "cell_type": "markdown",
   "id": "153c39ba",
   "metadata": {},
   "source": [
    "## 9.1 Background"
   ]
  },
  {
   "cell_type": "markdown",
   "id": "822e3127",
   "metadata": {},
   "source": [
    "1. Hash is one way: {key : value} --> Hash --> {key : value} + an index\n",
    "2. Hash is deterministic: same input will give same address\n",
    "\n",
    "* set_item('nuts', 1200) --> Hash --> ['nuts', 1200] + address = 2\n",
    "* set_item('pears', 800) --> Hash --> ['pears', 800] + address = 8\n",
    "* set_item('nuts', 1200) --> Hash --> ['nuts', 1200] + address = 2\n",
    "* set_item('coconuts', 550) --> Hash --> ['nuts', 1200] + address = 2\n",
    "* ...\n",
    "\n",
    "3. If there is a collision, that is, if the address calculated by the hash function is already in use:\n",
    "* **Separate Chainning**: a linked list of items will be created and stored at that address\n",
    "* **Linear Probing (Open addressing)**: the item will be stored in the next free address\n",
    "\n",
    "4. Store in the address calculated by the hash function **the head node of a linked list** and store the item in the nodes of this linked list\n",
    "\n",
    "5. Time complexity for Hash Tables, usually is O(1), especially in Python where collision is rare due to its large address space|"
   ]
  },
  {
   "cell_type": "markdown",
   "id": "0bcddc90",
   "metadata": {},
   "source": [
    "## 9.2 Class HashTable"
   ]
  },
  {
   "cell_type": "markdown",
   "id": "960f2d04",
   "metadata": {},
   "source": [
    "### 9.2.1 Class HashTable Constructor"
   ]
  },
  {
   "cell_type": "code",
   "execution_count": 315,
   "id": "0256157b",
   "metadata": {},
   "outputs": [
    {
     "name": "stdout",
     "output_type": "stream",
     "text": [
      "0 :  None\n",
      "1 :  None\n",
      "2 :  None\n",
      "3 :  None\n",
      "4 :  None\n",
      "5 :  None\n",
      "6 :  None\n"
     ]
    }
   ],
   "source": [
    "class HashTable:\n",
    "    def __init__(self, size = 7):\n",
    "        self.data_map = [None] * size\n",
    "      \n",
    "    def __hash(self, key):\n",
    "        my_hash = 0\n",
    "        for letter in key:\n",
    "            my_hash = (my_hash + ord(letter) * 23) % len(self.data_map)\n",
    "        return my_hash  \n",
    "\n",
    "    def print_table(self):\n",
    "        for i, val in enumerate(self.data_map): \n",
    "            print(i, \": \", val)\n",
    "\n",
    "        \n",
    "my_hash_table = HashTable()\n",
    "\n",
    "my_hash_table.print_table()\n"
   ]
  },
  {
   "cell_type": "markdown",
   "id": "f0be877c",
   "metadata": {},
   "source": [
    "### 9.2.2 Class HashTable with Set Method"
   ]
  },
  {
   "cell_type": "code",
   "execution_count": 317,
   "id": "31a89b28",
   "metadata": {},
   "outputs": [
    {
     "name": "stdout",
     "output_type": "stream",
     "text": [
      "0 :  None\n",
      "1 :  None\n",
      "2 :  None\n",
      "3 :  None\n",
      "4 :  [['bolts', 1400], ['washers', 50]]\n",
      "5 :  None\n",
      "6 :  [['lumber', 70]]\n"
     ]
    }
   ],
   "source": [
    "class HashTable:\n",
    "    def __init__(self, size = 7):\n",
    "        self.data_map = [None] * size\n",
    "\n",
    "    def print_table(self):\n",
    "        for i, val in enumerate(self.data_map): \n",
    "            print(i, \": \", val)\n",
    "      \n",
    "    def __hash(self, key):\n",
    "        my_hash = 0\n",
    "        for letter in key:\n",
    "            my_hash = (my_hash + ord(letter) * 23) % len(self.data_map)\n",
    "        return my_hash  \n",
    "    \n",
    "    def set_item(self, key, value):\n",
    "        index = self.__hash(key)\n",
    "        if self.data_map[index] == None:\n",
    "            self.data_map[index] = []\n",
    "        self.data_map[index].append([key, value])\n",
    "    \n",
    "\n",
    "my_hash_table = HashTable()\n",
    "\n",
    "my_hash_table.set_item('bolts', 1400)\n",
    "my_hash_table.set_item('washers', 50)\n",
    "my_hash_table.set_item('lumber', 70)\n",
    "\n",
    "my_hash_table.print_table()"
   ]
  },
  {
   "cell_type": "markdown",
   "id": "4d7d92b6",
   "metadata": {},
   "source": [
    "### 9.2.3 Class HashTable with Get Method"
   ]
  },
  {
   "cell_type": "code",
   "execution_count": 338,
   "id": "31948eaa",
   "metadata": {},
   "outputs": [
    {
     "name": "stdout",
     "output_type": "stream",
     "text": [
      "Bolts: 1400\n",
      "Washers: 50\n",
      "Lumber: None\n",
      "---\n",
      "\n",
      "Hash Table:\n",
      "0 :  None\n",
      "1 :  None\n",
      "2 :  None\n",
      "3 :  None\n",
      "4 :  [['bolts', 1400], ['washers', 50]]\n",
      "5 :  None\n",
      "6 :  [['lumber', 70]]\n",
      "\n",
      "Keys:\n",
      "['bolts', 'washers', 'lumber']\n"
     ]
    }
   ],
   "source": [
    "class HashTable:\n",
    "    def __init__(self, size = 7):\n",
    "        self.data_map = [None] * size\n",
    "      \n",
    "    def __hash(self, key):\n",
    "        my_hash = 0\n",
    "        for letter in key:\n",
    "            my_hash = (my_hash + ord(letter) * 23) % len(self.data_map)\n",
    "        return my_hash  \n",
    "\n",
    "    def print_table(self):\n",
    "        for i, val in enumerate(self.data_map): \n",
    "            print(i, \": \", val)\n",
    "    \n",
    "    def set_item(self, key, value):\n",
    "        index = self.__hash(key)\n",
    "        if self.data_map[index] == None:\n",
    "            self.data_map[index] = []\n",
    "        self.data_map[index].append([key, value])\n",
    "    \n",
    "    def get_item(self, key):\n",
    "        index = self.__hash(key)\n",
    "        if self.data_map[index] is not None:\n",
    "            for i in range(len(self.data_map[index])):\n",
    "                if self.data_map[index][i][0] == key:\n",
    "                    return self.data_map[index][i][1]\n",
    "        return None\n",
    "    \n",
    "    def keys(self):\n",
    "        all_keys = []\n",
    "        for i in range(len(self.data_map)):\n",
    "            if self.data_map[i] is not None:\n",
    "                for j in range(len(self.data_map[i])):\n",
    "                    all_keys.append(self.data_map[i][j][0])\n",
    "        return all_keys\n",
    "        \n",
    "        \n",
    "my_hash_table = HashTable()\n",
    "\n",
    "my_hash_table.set_item('bolts', 1400)\n",
    "my_hash_table.set_item('washers', 50)\n",
    "\n",
    "print('Bolts:', my_hash_table.get_item('bolts'))\n",
    "print('Washers:', my_hash_table.get_item('washers'))\n",
    "print('Lumber:', my_hash_table.get_item('lumber'))\n",
    "\n",
    "print('---')\n",
    "\n",
    "my_hash_table = HashTable()\n",
    "\n",
    "my_hash_table.set_item('bolts', 1400)\n",
    "my_hash_table.set_item('washers', 50)\n",
    "my_hash_table.set_item('lumber', 70)\n",
    "\n",
    "print('\\nHash Table:')\n",
    "my_hash_table.print_table()\n",
    "\n",
    "print('\\nKeys:')\n",
    "print(my_hash_table.keys())\n"
   ]
  },
  {
   "cell_type": "markdown",
   "id": "6d855e25",
   "metadata": {},
   "source": [
    "**[Go to 9_Hash_Tables](#9.Hash_Tables)**"
   ]
  },
  {
   "cell_type": "code",
   "execution_count": 323,
   "id": "356c96cb",
   "metadata": {},
   "outputs": [
    {
     "name": "stdout",
     "output_type": "stream",
     "text": [
      "[['bolts', 1400], ['washers', 50]]\n"
     ]
    }
   ],
   "source": [
    "items = [['bolts', 1400], ['washers', 50]]\n",
    "print(items)"
   ]
  },
  {
   "cell_type": "code",
   "execution_count": 324,
   "id": "c870307e",
   "metadata": {},
   "outputs": [
    {
     "name": "stdout",
     "output_type": "stream",
     "text": [
      "2\n"
     ]
    }
   ],
   "source": [
    "print(len(items))"
   ]
  },
  {
   "cell_type": "code",
   "execution_count": 329,
   "id": "edaebeb7",
   "metadata": {},
   "outputs": [
    {
     "name": "stdout",
     "output_type": "stream",
     "text": [
      "['washers', 50]\n"
     ]
    }
   ],
   "source": [
    "print(items[1])"
   ]
  },
  {
   "cell_type": "code",
   "execution_count": 332,
   "id": "14540196",
   "metadata": {},
   "outputs": [
    {
     "name": "stdout",
     "output_type": "stream",
     "text": [
      "key: bolts, value: 1400\n",
      "key: washers, value: 50\n"
     ]
    }
   ],
   "source": [
    "for i in range(len(items)):\n",
    "    key = items[i][0]\n",
    "    value = items[i][1]\n",
    "    print(f'key: {key}, value: {value}')"
   ]
  },
  {
   "cell_type": "code",
   "execution_count": null,
   "id": "02e8ac17",
   "metadata": {},
   "outputs": [],
   "source": [
    "# 10. Sliding Window print(f'\\nHash Table: {my_hash_table.print_table()}')"
   ]
  },
  {
   "cell_type": "markdown",
   "id": "24381ac9",
   "metadata": {},
   "source": [
    "# 10. Sliding  Window  <a id='10.Sliding_Window'></a>"
   ]
  },
  {
   "cell_type": "markdown",
   "id": "8c2229f6",
   "metadata": {},
   "source": [
    "**[Go to Summary](#Summary)**"
   ]
  },
  {
   "cell_type": "markdown",
   "id": "61bd36bd",
   "metadata": {},
   "source": [
    "A sliding window is a common technique used in array and string processing algorithms. It involves creating a \"window\" of a fixed size and then sliding that window over the input data to perform various operations efficiently. This technique is especially useful for solving problems that involve substring or subarray processing."
   ]
  },
  {
   "cell_type": "markdown",
   "id": "fd46090f",
   "metadata": {},
   "source": [
    "\n",
    "Here's an example of a sliding window Python code to find the maximum sum of a subarray of a fixed size k in an array:"
   ]
  },
  {
   "cell_type": "code",
   "execution_count": 376,
   "id": "9c8f1b7a",
   "metadata": {},
   "outputs": [],
   "source": [
    "def max_subarray_sum(arr, k):\n",
    "    n = len(arr)\n",
    "    \n",
    "    # Check for edge cases\n",
    "    if n == 0 or k <= 0 or k > n:\n",
    "        return 0\n",
    "\n",
    "    # Calculate the sum of the first window of size k\n",
    "    window_sum = sum(arr[:k])\n",
    "    max_sum = window_sum\n",
    "\n",
    "    # Slide the window over the array and find the maximum sum\n",
    "    for i in range(k, n):\n",
    "        # Subtract the element at the left end of the window\n",
    "        # and add the element at the right end of the window\n",
    "        window_sum = window_sum - arr[i - k] + arr[i]\n",
    "        maximum_sum = lambda a,b:a if a > b else b\n",
    "        max_sum = maximum_sum(max_sum, window_sum)\n",
    "\n",
    "    return max_sum"
   ]
  },
  {
   "cell_type": "code",
   "execution_count": 377,
   "id": "3bd2bfa3",
   "metadata": {},
   "outputs": [
    {
     "name": "stdout",
     "output_type": "stream",
     "text": [
      "Maximum sum of subarray of size 3 is: 9\n"
     ]
    }
   ],
   "source": [
    "# Example of usage:\n",
    "arr = [2, 1, 5, 1, 3, 2]\n",
    "k = 3\n",
    "print(\"Maximum sum of subarray of size\", k, \"is:\", max_subarray_sum(arr, k))"
   ]
  },
  {
   "cell_type": "markdown",
   "id": "d77bfbbb",
   "metadata": {},
   "source": [
    "**[Go to 10. Sliding Window](#10.Sliding_Window)**"
   ]
  },
  {
   "cell_type": "markdown",
   "id": "f02947c0",
   "metadata": {},
   "source": [
    "**[Go to Summary](#Summary)**"
   ]
  },
  {
   "cell_type": "markdown",
   "id": "8b1a3d34",
   "metadata": {},
   "source": [
    "# 11. Sorting Algorithms  <a id='11.Sorting_Algorithms'></a>"
   ]
  },
  {
   "cell_type": "markdown",
   "id": "b9934e33",
   "metadata": {},
   "source": [
    "#### [11.1 Bubble Sort](#11.1Bubble_Sort)\n",
    "#### [11.2 Selection Sort](#11.2Selection_Sort)\n",
    "#### [11.3 Insertion_Sort](#11.3Insertion_Sort)\n",
    "#### [11.4 Merge Sort](#11.4Merge_Sort)\n",
    "#### [11.5 Quick Sort](#11.5Quick_Sort)"
   ]
  },
  {
   "cell_type": "markdown",
   "id": "db1a7e1c",
   "metadata": {},
   "source": [
    "**[Go to Summary](#Summary)**"
   ]
  },
  {
   "cell_type": "markdown",
   "id": "5de414e4",
   "metadata": {},
   "source": [
    "## 11.1 Bubble Sort <a id='11.1Bubble_Sort'></a>"
   ]
  },
  {
   "cell_type": "markdown",
   "id": "0753f6fb",
   "metadata": {},
   "source": [
    "**[Go to 11. Sorting Algorithms](#11.Sorting_Algorithms)**"
   ]
  },
  {
   "cell_type": "markdown",
   "id": "bb374bc5",
   "metadata": {},
   "source": [
    "**[Go to Summary](#Summary)**"
   ]
  },
  {
   "cell_type": "markdown",
   "id": "129ebeec",
   "metadata": {},
   "source": [
    "* Time complexity is O(n^2) in the worst case\n",
    "* Space complexity is O(1) since it does not need additional memory space\n",
    "\n",
    "**ChatGPT:** \n",
    "The time complexity of the Bubble Sort algorithm is O(n^2), where 'n' is the number of elements in the array being sorted.\n",
    "\n",
    "Bubble Sort works by repeatedly stepping through the list, comparing adjacent elements, and swapping them if they are in the wrong order. The algorithm continues to do this until the entire list is sorted. On each pass, the largest (or smallest, depending on the sorting order) element \"bubbles\" to its correct position at the end (or the beginning) of the list.\n",
    "\n",
    "In the worst-case scenario, the array is in reverse order, and Bubble Sort needs to perform the maximum number of swaps and comparisons for each element in the array. In each pass, it compares and swaps each element with the adjacent element, resulting in a time complexity of O(n) for one pass. Since we need to do n passes (where n is the number of elements in the array), the overall time complexity becomes O(n) * O(n) = O(n^2).\n",
    "\n",
    "The Bubble Sort algorithm is considered inefficient for large datasets because its time complexity grows quadratically with the size of the input. There are more efficient sorting algorithms like Merge Sort, Quick Sort, and Heap Sort that have better time complexities for large datasets. However, Bubble Sort is often used in teaching or learning sorting algorithms due to its simplicity and ease of understanding."
   ]
  },
  {
   "cell_type": "code",
   "execution_count": 380,
   "id": "c96fe886",
   "metadata": {},
   "outputs": [
    {
     "name": "stdout",
     "output_type": "stream",
     "text": [
      "range(0, 5)\n"
     ]
    }
   ],
   "source": [
    "my_list = [8, 3, 5, 9, 1]\n",
    "print(range(len(my_list)))"
   ]
  },
  {
   "cell_type": "code",
   "execution_count": 393,
   "id": "74d93363",
   "metadata": {},
   "outputs": [
    {
     "name": "stdout",
     "output_type": "stream",
     "text": [
      "4\n",
      "3\n",
      "2\n",
      "1\n"
     ]
    }
   ],
   "source": [
    "for i in range(len(my_list) -1, 0, -1):\n",
    "    print(i)"
   ]
  },
  {
   "cell_type": "code",
   "execution_count": 412,
   "id": "8ab6dd1d",
   "metadata": {},
   "outputs": [
    {
     "name": "stdout",
     "output_type": "stream",
     "text": [
      "--- Bubble Sort ---\n",
      "list_to_be_sorted: [4, 2, 6, 5, 1, 3]\n",
      "length of the list: 6\n",
      "range of the list -1: range(0, 5)\n",
      "i: 5 , j: 0\n",
      "i: 5 , j: 1\n",
      "i: 5 , j: 2\n",
      "i: 5 , j: 3\n",
      "i: 5 , j: 4\n",
      "i: 4 , j: 0\n",
      "i: 4 , j: 1\n",
      "i: 4 , j: 2\n",
      "i: 4 , j: 3\n",
      "i: 3 , j: 0\n",
      "i: 3 , j: 1\n",
      "i: 3 , j: 2\n",
      "i: 2 , j: 0\n",
      "i: 2 , j: 1\n",
      "i: 1 , j: 0\n",
      "\n",
      "list_sorted: [1, 2, 3, 4, 5, 6]\n"
     ]
    }
   ],
   "source": [
    "def bubble_sort(my_list):\n",
    "    print(f'length of the list: {len(my_list)}')\n",
    "    print(f'range of the list -1: {range(len(my_list)-1)}')\n",
    "    for i in range(len(my_list) - 1, 0 ,-1):\n",
    "        for j in range(i):\n",
    "            print(f'i: {i} , j: {j}')\n",
    "            if my_list[j] > my_list[j+1]:\n",
    "                temp = my_list[j]\n",
    "                my_list[j] = my_list[j+1]\n",
    "                my_list[j+1] = temp\n",
    "    return my_list\n",
    "\n",
    "print('--- Bubble Sort ---')\n",
    "list_to_be_sorted = [4,2, 6, 5, 1, 3]\n",
    "print(f'list_to_be_sorted: {list_to_be_sorted}')\n",
    "\n",
    "list_sorted = bubble_sort(list_to_be_sorted)\n",
    "\n",
    "print(f'\\nlist_sorted: {list_sorted}')"
   ]
  },
  {
   "cell_type": "markdown",
   "id": "747f7bee",
   "metadata": {},
   "source": [
    "**[Go to 11. Sorting Algorithms](#11.Sorting_Algorithms)**"
   ]
  },
  {
   "cell_type": "markdown",
   "id": "fcc0bbcb",
   "metadata": {},
   "source": [
    "**[Go to Summary](#Summary)**"
   ]
  },
  {
   "cell_type": "markdown",
   "id": "ae39c6eb",
   "metadata": {},
   "source": [
    "## 11.2 Selection Sort <a id='11.2Selection_Sort'></a>"
   ]
  },
  {
   "cell_type": "markdown",
   "id": "48566c3c",
   "metadata": {},
   "source": [
    "**[Go to 11. Sorting Algorithms](#11.Sorting_Algorithms)**"
   ]
  },
  {
   "cell_type": "markdown",
   "id": "3355f9a4",
   "metadata": {},
   "source": [
    "**[Go to Summary](#Summary)**"
   ]
  },
  {
   "cell_type": "markdown",
   "id": "4b975773",
   "metadata": {},
   "source": [
    "\n",
    "* Time complexity is O(n^2) in the worst case\n",
    "* Space complexity is O(1) since it does not need additional memory space\n",
    "\n",
    "**ChatGPT:** \n",
    "The time complexity of the Selection Sort algorithm is also O(n^2), where 'n' is the number of elements in the array being sorted.\n",
    "\n",
    "Selection Sort works by dividing the input array into two parts: the sorted part on the left and the unsorted part on the right. Initially, the sorted part is empty, and the unsorted part contains all the elements. The algorithm repeatedly finds the minimum (or maximum, depending on the sorting order) element from the unsorted part and swaps it with the leftmost element of the unsorted part, effectively expanding the sorted part.\n",
    "\n",
    "In the worst-case scenario, for each element in the array, the algorithm needs to search the entire unsorted part to find the minimum (or maximum) element and then swap it with the leftmost element of the unsorted part. This results in a time complexity of O(n) for finding the minimum (or maximum) element, and since we need to do this for 'n' elements in the array, the overall time complexity becomes O(n) * O(n) = O(n^2).\n",
    "\n",
    "Similar to Bubble Sort, Selection Sort is not considered efficient for large datasets due to its quadratic time complexity. More advanced sorting algorithms like Merge Sort, Quick Sort, and Heap Sort have better average and best-case time complexities, making them more suitable for sorting large datasets efficiently."
   ]
  },
  {
   "cell_type": "code",
   "execution_count": 414,
   "id": "623c6055",
   "metadata": {},
   "outputs": [
    {
     "name": "stdout",
     "output_type": "stream",
     "text": [
      "--- Selection Sort ---\n",
      "list_to_be_sorted: [4, 2, 6, 5, 1, 3]\n",
      "\n",
      "list_sorted: [1, 2, 3, 4, 5, 6]\n"
     ]
    }
   ],
   "source": [
    "def selection_sort(my_list):\n",
    "    for i in range(len(my_list)-1):\n",
    "        min_index = i\n",
    "        for j in range(i+1, len(my_list)):\n",
    "            if my_list[j] < my_list[min_index]:\n",
    "                min_index = j\n",
    "        if i != min_index:\n",
    "            temp = my_list[i]\n",
    "            my_list[i] = my_list[min_index]\n",
    "            my_list[min_index] = temp\n",
    "    return my_list\n",
    "\n",
    "print('--- Selection Sort ---')\n",
    "list_to_be_sorted = [4,2, 6, 5, 1, 3]\n",
    "print(f'list_to_be_sorted: {list_to_be_sorted}')\n",
    "\n",
    "list_sorted = selection_sort(list_to_be_sorted)\n",
    "\n",
    "print(f'\\nlist_sorted: {list_sorted}')"
   ]
  },
  {
   "cell_type": "markdown",
   "id": "f4320266",
   "metadata": {},
   "source": [
    "**[Go to 11. Sorting Algorithms](#11.Sorting_Algorithms)**"
   ]
  },
  {
   "cell_type": "markdown",
   "id": "5e28521c",
   "metadata": {},
   "source": [
    "**[Go to Summary](#Summary)**"
   ]
  },
  {
   "cell_type": "markdown",
   "id": "b75d5e75",
   "metadata": {},
   "source": [
    "## 11.3 Insertion Sort <a id='11.3Insertion_Sort'></a>"
   ]
  },
  {
   "cell_type": "markdown",
   "id": "33ff8812",
   "metadata": {},
   "source": [
    "**[Go to 11. Sorting Algorithms](#11.Sorting_Algorithms)**"
   ]
  },
  {
   "cell_type": "markdown",
   "id": "ff5999e3",
   "metadata": {},
   "source": [
    "**[Go to Summary](#Summary)**"
   ]
  },
  {
   "cell_type": "markdown",
   "id": "0a69acd6",
   "metadata": {},
   "source": [
    "\n",
    "* O(n^2) in the worst case\n",
    "* O(n) when we start with sorted (or almost sorted) data.\n",
    "\n",
    "**ChatGPT:** The time complexity of the Insertion Sort algorithm is also O(n^2), where 'n' is the number of elements in the array being sorted.\n",
    "\n",
    "Insertion Sort works by dividing the input array into two parts: the sorted part on the left and the unsorted part on the right. Initially, the sorted part contains only the first element of the array, and the unsorted part contains the rest of the elements. The algorithm iterates through the unsorted part and inserts each element into its correct position in the sorted part.\n",
    "\n",
    "In the worst-case scenario, the array is in reverse order, and each element in the unsorted part needs to be compared and shifted to its correct position in the sorted part. This requires the maximum number of comparisons and shifts for each element. For each element, we need to traverse the sorted part of the array, which has a maximum length of 'n' elements, to find its correct position. Thus, the time complexity becomes O(n) for each element, and since we need to do this for 'n' elements in the array, the overall time complexity becomes O(n) * O(n) = O(n^2).\n",
    "\n",
    "Insertion Sort, like Bubble Sort and Selection Sort, has a quadratic time complexity, making it less efficient for large datasets. More advanced sorting algorithms like Merge Sort, Quick Sort, and Heap Sort offer better average and best-case time complexities, which make them more suitable for sorting large datasets efficiently. However, Insertion Sort is still used in practice for small datasets or as part of more complex sorting algorithms for optimization purposes. Its simplicity and adaptive nature (efficient for partially sorted arrays) are some of the advantages of Insertion Sort."
   ]
  },
  {
   "cell_type": "code",
   "execution_count": 411,
   "id": "0020dcc4",
   "metadata": {},
   "outputs": [
    {
     "name": "stdout",
     "output_type": "stream",
     "text": [
      "--- Insertion Sort ---\n",
      "list_to_be_sorted: [4, 2, 6, 5, 1, 3]\n",
      "\n",
      "list_sorted: [1, 2, 3, 4, 5, 6]\n"
     ]
    }
   ],
   "source": [
    "def insertion_sort(my_list):\n",
    "    for i in range(1, len(my_list)):\n",
    "        temp = my_list[i]\n",
    "        j = i-1\n",
    "        while temp < my_list[j] and j > -1:\n",
    "            my_list[j+1] = my_list[j] \n",
    "            my_list[j] = temp\n",
    "            j -= 1\n",
    "    return my_list\n",
    "\n",
    "print('--- Insertion Sort ---')\n",
    "list_to_be_sorted = [4,2, 6, 5, 1, 3]\n",
    "print(f'list_to_be_sorted: {list_to_be_sorted}')\n",
    "\n",
    "list_sorted = insertion_sort(list_to_be_sorted)\n",
    "\n",
    "print(f'\\nlist_sorted: {list_sorted}')"
   ]
  },
  {
   "cell_type": "markdown",
   "id": "7d82b2b8",
   "metadata": {},
   "source": [
    "**[Go to 11. Sorting Algorithms](#11.Sorting_Algorithms)**"
   ]
  },
  {
   "cell_type": "markdown",
   "id": "1e168aa3",
   "metadata": {},
   "source": [
    "**[Go to Summary](#Summary)**"
   ]
  },
  {
   "cell_type": "markdown",
   "id": "0d69c984",
   "metadata": {},
   "source": [
    "## 11.4 Merge Sort <a id='11.4Merge_Sort'></a>"
   ]
  },
  {
   "cell_type": "markdown",
   "id": "46f12dfa",
   "metadata": {},
   "source": [
    "**[Go to 11. Sorting Algorithms](#11.Sorting_Algorithms)**"
   ]
  },
  {
   "cell_type": "markdown",
   "id": "3799d165",
   "metadata": {},
   "source": [
    "**[Go to Summary](#Summary)**"
   ]
  },
  {
   "cell_type": "markdown",
   "id": "8b0ad5c5",
   "metadata": {},
   "source": [
    "### 11.4.1 Time and Space Complexity"
   ]
  },
  {
   "cell_type": "markdown",
   "id": "82ff0a01",
   "metadata": {},
   "source": [
    "* Space complexity is O(n)\n",
    "* Time complexity is O(n log n)"
   ]
  },
  {
   "cell_type": "markdown",
   "id": "852c02b6",
   "metadata": {},
   "source": [
    "### 11.4.1 ChatGPT version of Merge Sort (with explanations)"
   ]
  },
  {
   "cell_type": "markdown",
   "id": "afcb4952",
   "metadata": {},
   "source": [
    "Of course! As your teacher, I'll explain the Merge Sort algorithm in a simpler way, and I'll provide Python code examples to help you understand better.\n",
    "\n",
    "Merge Sort is a popular sorting algorithm that uses a divide-and-conquer approach to sort an array or list of elements. It works by dividing the input array into smaller halves, sorting each half, and then merging them back together into a sorted array.\n",
    "\n",
    "Here's how Merge Sort works step by step:\n",
    "\n",
    "Step 1: Divide\n",
    "- Divide the unsorted array into two halves (left and right) by finding the middle index.\n",
    "\n",
    "Step 2: Recursion\n",
    "- Recursively apply the Merge Sort algorithm to sort the left and right halves. This step continues until each subarray has only one element (a single element is considered already sorted).\n",
    "\n",
    "Step 3: Merge\n",
    "- Merge the sorted left and right subarrays to create a new sorted array. Compare the elements of both subarrays and add them in the correct order to the new array.\n",
    "\n",
    "Here's a Python implementation of the Merge Sort algorithm:"
   ]
  },
  {
   "cell_type": "code",
   "execution_count": 434,
   "id": "64b10c56",
   "metadata": {},
   "outputs": [
    {
     "name": "stdout",
     "output_type": "stream",
     "text": [
      "Unsorted array: [38, 27, 43, 25, 9, 82, 10]\n",
      "array to be sorted: [38, 27, 43, 25, 9, 82, 10]\n",
      "mid index: 3\n",
      "mid value: 25\n",
      "left_half: [38, 27, 43]\n",
      "right_half: [25, 9, 82, 10]\n",
      "array to be sorted: [38, 27, 43]\n",
      "mid index: 1\n",
      "mid value: 27\n",
      "left_half: [38]\n",
      "right_half: [27, 43]\n",
      "array to be sorted: [27, 43]\n",
      "mid index: 1\n",
      "mid value: 43\n",
      "left_half: [27]\n",
      "right_half: [43]\n",
      "left_sorted merged with righ_sorted:\n",
      "[27, 43]\n",
      "left_sorted merged with righ_sorted:\n",
      "[27, 38, 43]\n",
      "array to be sorted: [25, 9, 82, 10]\n",
      "mid index: 2\n",
      "mid value: 82\n",
      "left_half: [25, 9]\n",
      "right_half: [82, 10]\n",
      "array to be sorted: [25, 9]\n",
      "mid index: 1\n",
      "mid value: 9\n",
      "left_half: [25]\n",
      "right_half: [9]\n",
      "left_sorted merged with righ_sorted:\n",
      "[9, 25]\n",
      "array to be sorted: [82, 10]\n",
      "mid index: 1\n",
      "mid value: 10\n",
      "left_half: [82]\n",
      "right_half: [10]\n",
      "left_sorted merged with righ_sorted:\n",
      "[10, 82]\n",
      "left_sorted merged with righ_sorted:\n",
      "[9, 10, 25, 82]\n",
      "left_sorted merged with righ_sorted:\n",
      "[9, 10, 25, 27, 38, 43, 82]\n",
      "Sorted array: [9, 10, 25, 27, 38, 43, 82]\n"
     ]
    }
   ],
   "source": [
    "def merge_sort(arr):\n",
    "    # Base case: If the array has one or zero elements, it is already sorted\n",
    "    if len(arr) <= 1:\n",
    "        return arr\n",
    "\n",
    "    # Step 1: Divide the array into two halves\n",
    "    mid = len(arr) // 2\n",
    "    left_half = arr[:mid]\n",
    "    right_half = arr[mid:]\n",
    "    \n",
    "    print(f'array to be sorted: {arr}')\n",
    "    print(f'mid index: {mid}')\n",
    "    print(f'mid value: {arr[mid]}')\n",
    "    print(f'left_half: {left_half}')\n",
    "    print(f'right_half: {right_half}')\n",
    "\n",
    "    # Step 2: Recursively sort the left and right halves\n",
    "    left_sorted = merge_sort(left_half)\n",
    "    right_sorted = merge_sort(right_half)\n",
    "\n",
    "    # Step 3: Merge the sorted halves\n",
    "    print(f'left_sorted merged with righ_sorted:')\n",
    "    print(f'{merge(left_sorted, right_sorted)}')\n",
    "    return merge(left_sorted, right_sorted)\n",
    "\n",
    "def merge(left, right):\n",
    "    merged = []\n",
    "    left_index, right_index = 0, 0\n",
    "\n",
    "    # Compare elements from both subarrays and add them to the merged array in order\n",
    "    while left_index < len(left) and right_index < len(right):\n",
    "        if left[left_index] < right[right_index]:\n",
    "            merged.append(left[left_index])\n",
    "            left_index += 1\n",
    "        else:\n",
    "            merged.append(right[right_index])\n",
    "            right_index += 1\n",
    "\n",
    "    # Add any remaining elements from the left and right subarrays\n",
    "    merged += left[left_index:]\n",
    "    merged += right[right_index:]\n",
    "\n",
    "    return merged\n",
    "\n",
    "# Example of usage:\n",
    "arr = [38, 27, 43, 25, 9, 82, 10]\n",
    "print(\"Unsorted array:\", arr)\n",
    "sorted_arr = merge_sort(arr)\n",
    "print(\"Sorted array:\", sorted_arr)"
   ]
  },
  {
   "cell_type": "markdown",
   "id": "055d33f0",
   "metadata": {},
   "source": [
    "In this example, we start with an unsorted array `[38, 27, 43, 3, 9, 82, 10]`. After applying the Merge Sort algorithm, the array will be sorted in ascending order, and the output will be `[3, 9, 10, 27, 38, 43, 82]`.\n",
    "\n",
    "The Merge Sort algorithm is very efficient with a time complexity of O(n log n) in all cases. It's a great sorting algorithm to learn and use for large datasets, and it's a fundamental concept in computer science."
   ]
  },
  {
   "cell_type": "markdown",
   "id": "f72dd3f4",
   "metadata": {},
   "source": [
    "## 11.4.2 Merge Sort Algorithm"
   ]
  },
  {
   "cell_type": "markdown",
   "id": "27b31b78",
   "metadata": {},
   "source": [
    "**[Go to 11. Sorting Algorithms](#11.Sorting_Algorithms)**"
   ]
  },
  {
   "cell_type": "markdown",
   "id": "6400161c",
   "metadata": {},
   "source": [
    "**[Go to Summary](#Summary)**"
   ]
  },
  {
   "cell_type": "markdown",
   "id": "231ac05c",
   "metadata": {},
   "source": [
    "#### 11.4.2.1 Merge Function"
   ]
  },
  {
   "cell_type": "code",
   "execution_count": 440,
   "id": "c0ebc0f0",
   "metadata": {},
   "outputs": [
    {
     "name": "stdout",
     "output_type": "stream",
     "text": [
      "[1, 2, 3, 4, 5, 6, 7, 8, 12]\n"
     ]
    }
   ],
   "source": [
    "def merge(list1, list2):\n",
    "    combined = []\n",
    "    i = 0\n",
    "    j = 0\n",
    "    while i < len(list1) and j < len(list2):\n",
    "        if list1[i] < list2[j]:\n",
    "            combined.append(list1[i])\n",
    "            i += 1\n",
    "        else:\n",
    "            combined.append(list2[j])\n",
    "            j += 1\n",
    "    \n",
    "    while i < len(list1):\n",
    "        combined.append(list1[i])\n",
    "        i += 1\n",
    "\n",
    "    while j < len(list2):\n",
    "        combined.append(list2[j])\n",
    "        j += 1\n",
    "\n",
    "    return combined\n",
    "\n",
    "\n",
    "# MERGE REQUIRES TWO SORTED LISTS:\n",
    "print(merge([1,2,7], [3,4,5,6,8,12]))"
   ]
  },
  {
   "cell_type": "markdown",
   "id": "4a32fd38",
   "metadata": {},
   "source": [
    "#### 11.4.2.2 Merge Sort Algorithm"
   ]
  },
  {
   "cell_type": "code",
   "execution_count": 441,
   "id": "573c901f",
   "metadata": {},
   "outputs": [
    {
     "name": "stdout",
     "output_type": "stream",
     "text": [
      "Original List: [3, 1, 4, 2, 9, 14, 21, 5, 43, 12, 55]\n",
      "\n",
      "Sorted List: [1, 2, 3, 4, 5, 9, 12, 14, 21, 43, 55]\n"
     ]
    }
   ],
   "source": [
    "def merge(array1, array2):\n",
    "    combined = []\n",
    "    i = 0\n",
    "    j = 0\n",
    "    while i < len(array1) and j < len(array2):\n",
    "        if array1[i] < array2[j]:\n",
    "            combined.append(array1[i])\n",
    "            i += 1\n",
    "        else:\n",
    "            combined.append(array2[j])\n",
    "            j += 1\n",
    "              \n",
    "    while i < len(array1):\n",
    "        combined.append(array1[i])\n",
    "        i += 1\n",
    "\n",
    "    while j < len(array2):\n",
    "        combined.append(array2[j])\n",
    "        j += 1\n",
    "\n",
    "    return combined\n",
    "\n",
    "\n",
    "def merge_sort(my_list):\n",
    "    if len(my_list) == 1:\n",
    "        return my_list\n",
    "    mid_index = int(len(my_list)/2)\n",
    "    left = merge_sort(my_list[:mid_index])\n",
    "    right = merge_sort(my_list[mid_index:])\n",
    "    \n",
    "    return merge(left, right)\n",
    "\n",
    "\n",
    "original_list = [3,1,4,2,9,14,21,5,43,12,55]\n",
    "\n",
    "sorted_list = merge_sort(original_list)\n",
    "\n",
    "print('Original List:', original_list)\n",
    "\n",
    "print('\\nSorted List:', sorted_list)"
   ]
  },
  {
   "cell_type": "markdown",
   "id": "238d49cc",
   "metadata": {},
   "source": [
    "## 11.5 Quick Sort <a id='11.5Quick_Sort'></a>"
   ]
  },
  {
   "cell_type": "markdown",
   "id": "9f7193cc",
   "metadata": {},
   "source": [
    "**[Go to 11. Sorting Algorithms](#11.Sorting_Algorithms)**"
   ]
  },
  {
   "cell_type": "markdown",
   "id": "03ddc572",
   "metadata": {},
   "source": [
    "**[Go to Summary](#Summary)**"
   ]
  },
  {
   "cell_type": "markdown",
   "id": "dec4a56b",
   "metadata": {},
   "source": [
    "#### Time Complexity"
   ]
  },
  {
   "cell_type": "markdown",
   "id": "f3c1dcc3",
   "metadata": {},
   "source": [
    "* O(nlogn) in the best case and average case\n",
    "* O(n^2) in the worst case (which happens when the data is already sorted). In this situation, Inserted Sort would have a better performance"
   ]
  },
  {
   "cell_type": "markdown",
   "id": "f56a16e2",
   "metadata": {},
   "source": [
    "### ChatGPT Explanation of the Quick Sort Algorithm"
   ]
  },
  {
   "cell_type": "markdown",
   "id": "960bbe6a",
   "metadata": {},
   "source": [
    "Quick Sort is a highly efficient sorting algorithm that uses a divide-and-conquer approach to sort an array or list of elements. It works by selecting a \"pivot\" element from the array and partitioning the other elements into two subarrays: elements less than the pivot and elements greater than the pivot. The process is then recursively applied to the subarrays until the entire array is sorted.\n",
    "\n",
    "Here's a step-by-step explanation of how the Quick Sort algorithm works:\n",
    "\n",
    "Step 1: Choose a Pivot\n",
    "- Select a pivot element from the array. The choice of the pivot can affect the efficiency of the algorithm. Common pivot selection methods include selecting the first element, the last element, the middle element, or a random element from the array.\n",
    "\n",
    "Step 2: Partitioning\n",
    "- Reorder the array so that all elements with values less than the pivot come before the pivot, and all elements with values greater than the pivot come after the pivot. The pivot is now in its correct sorted position.\n",
    "\n",
    "Step 3: Recursion\n",
    "- Recursively apply the Quick Sort algorithm to the subarrays on the left and right sides of the pivot. These subarrays will be sorted independently using the same process.\n",
    "\n",
    "Step 4: Combine\n",
    "- The subarrays are now sorted. Combine them to get the final sorted array."
   ]
  },
  {
   "cell_type": "markdown",
   "id": "b73c6905",
   "metadata": {},
   "source": [
    "#### Quick Sort Algorithm (ChatGPT version)\n",
    "Here's a Python implementation of the Quick Sort algorithm by ChatGPT with the addition of some print statements I made to facilitate comprehension"
   ]
  },
  {
   "cell_type": "code",
   "execution_count": 425,
   "id": "836a709c",
   "metadata": {},
   "outputs": [
    {
     "name": "stdout",
     "output_type": "stream",
     "text": [
      "array to be sorted: [6, 3, 8, 5, 2, 7, 4, 1]\n",
      "\n",
      "array to be sorted: [6, 3, 8, 5, 2, 7, 4, 1]\n",
      "\n",
      "pivot index: 4\n",
      "\n",
      "pivod value: 2\n",
      "\n",
      "left: [1]\n",
      "\n",
      "middle: [2]\n",
      "\n",
      "right: [6, 3, 8, 5, 7, 4]\n",
      "left + middle + right: [1, 2, 6, 3, 8, 5, 7, 4]\n",
      "\n",
      "array to be sorted: [6, 3, 8, 5, 7, 4]\n",
      "\n",
      "pivot index: 3\n",
      "\n",
      "pivod value: 5\n",
      "\n",
      "left: [3, 4]\n",
      "\n",
      "middle: [5]\n",
      "\n",
      "right: [6, 8, 7]\n",
      "left + middle + right: [3, 4, 5, 6, 8, 7]\n",
      "\n",
      "array to be sorted: [3, 4]\n",
      "\n",
      "pivot index: 1\n",
      "\n",
      "pivod value: 4\n",
      "\n",
      "left: [3]\n",
      "\n",
      "middle: [4]\n",
      "\n",
      "right: []\n",
      "left + middle + right: [3, 4]\n",
      "\n",
      "array to be sorted: [6, 8, 7]\n",
      "\n",
      "pivot index: 1\n",
      "\n",
      "pivod value: 8\n",
      "\n",
      "left: [6, 7]\n",
      "\n",
      "middle: [8]\n",
      "\n",
      "right: []\n",
      "left + middle + right: [6, 7, 8]\n",
      "\n",
      "array to be sorted: [6, 7]\n",
      "\n",
      "pivot index: 1\n",
      "\n",
      "pivod value: 7\n",
      "\n",
      "left: [6]\n",
      "\n",
      "middle: [7]\n",
      "\n",
      "right: []\n",
      "left + middle + right: [6, 7]\n",
      "sorted array: [1, 2, 3, 4, 5, 6, 7, 8]\n"
     ]
    }
   ],
   "source": [
    "def quick_sort(arr):\n",
    "    if len(arr) <= 1:\n",
    "        return arr\n",
    "\n",
    "    print(f'\\narray to be sorted: {arr}')\n",
    "    pivot = arr[len(arr) // 2]\n",
    "    print(f'\\npivot index: {len(arr) // 2}')\n",
    "    print(f'\\npivod value: {pivot}')\n",
    "    left = [x for x in arr if x < pivot]\n",
    "    print(f'\\nleft: {left}')\n",
    "    middle = [x for x in arr if x == pivot]\n",
    "    print(f'\\nmiddle: {middle}')\n",
    "    right = [x for x in arr if x > pivot]\n",
    "    print(f'\\nright: {right}')\n",
    "    print(f'left + middle + right: {left + middle + right}')\n",
    "\n",
    "    return quick_sort(left) + middle + quick_sort(right)\n",
    "\n",
    "# Example of usage:\n",
    "arr = [6, 3, 8, 5, 2, 7, 4, 1]\n",
    "print(f'array to be sorted: {arr}')\n",
    "sorted_arr = quick_sort(arr)\n",
    "print(f'sorted array: {sorted_arr}')"
   ]
  },
  {
   "cell_type": "markdown",
   "id": "1e7778a3",
   "metadata": {},
   "source": [
    "In this example, we start with an unsorted array `[6, 3, 8, 5, 2, 7, 4, 1]`. After applying the Quick Sort algorithm, the array will be sorted in ascending order, and the output will be `[1, 2, 3, 4, 5, 6, 7, 8]`.\n",
    "\n",
    "Quick Sort is highly efficient on average and in practice, making it one of the most popular sorting algorithms used in various applications. It's essential to understand its recursive nature and the importance of choosing an appropriate pivot to achieve optimal performance."
   ]
  },
  {
   "cell_type": "markdown",
   "id": "3ca44b40",
   "metadata": {},
   "source": [
    "#### Quick Sort Algorith"
   ]
  },
  {
   "cell_type": "code",
   "execution_count": 419,
   "id": "cf3e2dc7",
   "metadata": {},
   "outputs": [
    {
     "name": "stdout",
     "output_type": "stream",
     "text": [
      "[1, 2, 3, 4, 5, 6, 7]\n"
     ]
    }
   ],
   "source": [
    "def swap(my_list, index1, index2):\n",
    "    temp = my_list[index1]\n",
    "    my_list[index1] = my_list[index2]\n",
    "    my_list[index2] = temp\n",
    "\n",
    "\n",
    "def pivot(my_list, pivot_index, end_index):\n",
    "    swap_index = pivot_index\n",
    "\n",
    "    for i in range(pivot_index+1, end_index+1):\n",
    "        if my_list[i] < my_list[pivot_index]:\n",
    "            swap_index += 1\n",
    "            swap(my_list, swap_index, i)\n",
    "    swap(my_list, pivot_index, swap_index)\n",
    "    return swap_index\n",
    "\n",
    "\n",
    "def quick_sort_helper(my_list, left, right):\n",
    "    if left < right:\n",
    "        pivot_index = pivot(my_list, left, right)\n",
    "        quick_sort_helper(my_list, left, pivot_index-1)  \n",
    "        quick_sort_helper(my_list, pivot_index+1, right)       \n",
    "    return my_list\n",
    "    \n",
    "\n",
    "def quick_sort(my_list):\n",
    "    quick_sort_helper(my_list, 0, len(my_list)-1)\n",
    "\n",
    "\n",
    "my_list = [4,6,1,7,3,2,5]\n",
    "\n",
    "quick_sort(my_list)\n",
    "\n",
    "print(my_list)"
   ]
  },
  {
   "cell_type": "markdown",
   "id": "893f51e6",
   "metadata": {},
   "source": [
    "**[Go to 11. Sorting Algorithms](#11.Sorting_Algorithms)**"
   ]
  },
  {
   "cell_type": "markdown",
   "id": "f37f9c27",
   "metadata": {},
   "source": [
    "**[Go to Summary](#Summary)**"
   ]
  },
  {
   "cell_type": "code",
   "execution_count": null,
   "id": "4bc3e928",
   "metadata": {},
   "outputs": [],
   "source": []
  }
 ],
 "metadata": {
  "kernelspec": {
   "display_name": "Python 3 (ipykernel)",
   "language": "python",
   "name": "python3"
  },
  "language_info": {
   "codemirror_mode": {
    "name": "ipython",
    "version": 3
   },
   "file_extension": ".py",
   "mimetype": "text/x-python",
   "name": "python",
   "nbconvert_exporter": "python",
   "pygments_lexer": "ipython3",
   "version": "3.10.9"
  }
 },
 "nbformat": 4,
 "nbformat_minor": 5
}
