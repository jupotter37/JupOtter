{
 "cells": [
  {
   "cell_type": "markdown",
   "id": "65bac3f8-aabe-428b-9483-ccbe353e3df8",
   "metadata": {},
   "source": [
    "## Question 1. Stack"
   ]
  },
  {
   "cell_type": "markdown",
   "id": "70e78068-7100-443b-a9fa-0b0fc44450f5",
   "metadata": {},
   "source": [
    "> a) Implement a stack class in Python with methods for push, pop, and is_empty"
   ]
  },
  {
   "cell_type": "code",
   "execution_count": 1,
   "id": "9e07ee8f-d3f1-4934-8659-b7bd22f9ad8f",
   "metadata": {},
   "outputs": [],
   "source": [
    "class Stack:                             #array based stack\n",
    "    #instance created with instant initialization\n",
    "    def __init__(self, size):\n",
    "        self.size = size                 #if size input 5,\n",
    "        self.stack = [None] * (size + 1) #to use 1-indexed array [X, 1, 2, 3, 4, 5] (size 6)\n",
    "        self.top = 0\n",
    "        \n",
    "    #implementing stack methods based on array    \n",
    "    def push(self, x):\n",
    "        if self.top == self.size:        #if size input == current top index (1-based)\n",
    "            raise OverflowError(\"Stack overflow\")\n",
    "        else:\n",
    "            self.top += 1                #starts from 1-index [X, 1, 2, ..., 5]\n",
    "            self.stack[self.top] = x\n",
    "\n",
    "    def is_empty(self):\n",
    "        return self.top == 0             #still the initial state\n",
    "\n",
    "    def pop(self):\n",
    "        if self.is_empty():              #raise error with underflow string\n",
    "            raise ValueError(\"Stack underflow\") \n",
    "        else:\n",
    "            popped_value = self.stack[self.top]\n",
    "            self.top -= 1\n",
    "            return popped_value          #return popped value"
   ]
  },
  {
   "cell_type": "code",
   "execution_count": 6,
   "id": "ef47cf9a-c000-497f-bdf7-ea660934e246",
   "metadata": {},
   "outputs": [
    {
     "name": "stdout",
     "output_type": "stream",
     "text": [
      "Is Empty? False\n",
      "Popped value> 50\n",
      "Popped value> 40\n"
     ]
    }
   ],
   "source": [
    "#Test Stack class\n",
    "stack = Stack(size=5)\n",
    "stack.push(10)\n",
    "stack.push(20)\n",
    "stack.push(30)\n",
    "stack.push(40)\n",
    "stack.push(50)\n",
    "#stack.push(60) -> overflow error\n",
    "\n",
    "print(\"Is Empty?\", stack.is_empty())\n",
    "print(\"Popped value>\", stack.pop())\n",
    "print(\"Popped value>\", stack.pop())"
   ]
  },
  {
   "cell_type": "code",
   "execution_count": 12,
   "id": "66050877-4665-41c4-ae0b-2ef6a05964fe",
   "metadata": {},
   "outputs": [],
   "source": [
    "#Implementing Stack with built-in methods\n",
    "class Stack2:\n",
    "    def __init__(self):\n",
    "        self.items = []               #no overflow problem\n",
    "\n",
    "    def is_empty(self):\n",
    "        return len(self.items) == 0   #using len() method\n",
    "        \n",
    "    def push(self, item):\n",
    "        self.items.append(item)       #built-in append() method\n",
    "\n",
    "    def pop(self):\n",
    "        if not self.is_empty():       \n",
    "            return self.items.pop()   #built-in pop() method\n",
    "        else:                         #if not dealt with, just returns None\n",
    "            raise ValueError(\"Stack underflow\") "
   ]
  },
  {
   "cell_type": "code",
   "execution_count": 11,
   "id": "050a315d-58d7-417e-8b37-4bb7abe7a3e9",
   "metadata": {},
   "outputs": [
    {
     "name": "stdout",
     "output_type": "stream",
     "text": [
      "Is Empty? True\n",
      "Is Empty? False\n",
      "Popped value> 50\n",
      "Popped value> 40\n",
      "Popped value> 30\n"
     ]
    }
   ],
   "source": [
    "#Test Stack class\n",
    "stack = Stack(size=5)\n",
    "\n",
    "#print(\"Popped value>\", stack.pop()) #underflow error\n",
    "print(\"Is Empty?\", stack.is_empty())\n",
    "stack.push(10)\n",
    "stack.push(20)\n",
    "stack.push(30)\n",
    "stack.push(40)\n",
    "stack.push(50) \n",
    "#no overflow error\n",
    "\n",
    "print(\"Is Empty?\", stack.is_empty())\n",
    "print(\"Popped value>\", stack.pop())\n",
    "print(\"Popped value>\", stack.pop())\n",
    "print(\"Popped value>\", stack.pop())"
   ]
  },
  {
   "cell_type": "markdown",
   "id": "236cf89a-ad6b-473e-b1b6-4e4440871361",
   "metadata": {},
   "source": [
    "> b) Checks if a given string has balanced parentheses"
   ]
  },
  {
   "cell_type": "code",
   "execution_count": 16,
   "id": "45b9f16f-0d6b-41a8-b52e-cced5c725ced",
   "metadata": {},
   "outputs": [],
   "source": [
    "def is_balanced_parentheses(expression):\n",
    "    stack = []\n",
    "    opening_brackets = ['(', '[', '{', '<'] #op list\n",
    "    closing_brackets = [')', ']', '}', '>'] #cl list\n",
    "\n",
    "    for char in expression:         #check each char in expression\n",
    "        if char in opening_brackets:\n",
    "            stack.append(char)      #push the opening bracket to Stack\n",
    "        elif char in closing_brackets:\n",
    "            if not stack:              #empty stack; if there is no opening brackets even\n",
    "                return False           #then existing closing bracket becomes meaningless\n",
    "            top = stack.pop()       #pop out the topmost opening bracket in Stack\n",
    "            if opening_brackets.index(top) != closing_brackets.index(char):\n",
    "                return False        #check if two char's index in op or cl list are the same\n",
    "    \n",
    "    #if passed the checking above, finally check if the stack is empty of brackets\n",
    "    return len(stack) == 0     #if not, then there are remaining pairless brackets"
   ]
  },
  {
   "cell_type": "code",
   "execution_count": 17,
   "id": "9c16e70c-bbfb-4e34-b4e5-0f5abfe336ae",
   "metadata": {},
   "outputs": [
    {
     "name": "stdout",
     "output_type": "stream",
     "text": [
      "The given string 'Hello, I'm (Jimin), and my ID's [20240077].' is balanced? True.\n"
     ]
    }
   ],
   "source": [
    "#Test function\n",
    "test_string = \"Hello, I'm (Jimin), and my ID's [20240077].\"\n",
    "result = is_balanced_parentheses(test_string)\n",
    "print(f\"The given string '{test_string}' is balanced? {result}.\")"
   ]
  },
  {
   "cell_type": "markdown",
   "id": "075b88d5-7df8-4731-a783-c317766204e3",
   "metadata": {},
   "source": [
    "> c) Modify stack class to include method get_top that returns the top without removing it"
   ]
  },
  {
   "cell_type": "code",
   "execution_count": 34,
   "id": "3b88308a-bf35-4af9-a1bd-e6a8723f946c",
   "metadata": {},
   "outputs": [],
   "source": [
    "class Stack:                             #array based stack\n",
    "    #instance created with instant initialization\n",
    "    def __init__(self, size):\n",
    "        self.size = size                 #if size input 5,\n",
    "        self.stack = [None] * (size + 1) #to use 1-indexed array [X, 1, 2, 3, 4, 5] (size 6)\n",
    "        self.top = 0\n",
    "        \n",
    "    #implementing stack methods based on array    \n",
    "    def push(self, x):\n",
    "        if self.top == self.size:        #if size input == current top index (1-based)\n",
    "            raise OverflowError(\"Stack overflow\")\n",
    "        else:\n",
    "            self.top += 1                #starts from 1-index [X, 1, 2, ..., 5]\n",
    "            self.stack[self.top] = x\n",
    "\n",
    "    def is_empty(self):\n",
    "        return self.top == 0             #still the initial state\n",
    "\n",
    "    def pop(self):\n",
    "        if self.is_empty():              #raise error with underflow string\n",
    "            raise ValueError(\"Stack underflow\") \n",
    "        else:\n",
    "            popped_value = self.stack[self.top]\n",
    "            self.top -= 1\n",
    "            return popped_value          #return popped value\n",
    "    \n",
    "    ####added top method###\n",
    "    def get_top(self):\n",
    "        if self.is_empty():              #raise error with underflow string\n",
    "            raise ValueError(\"Stack underflow\") \n",
    "        else:\n",
    "            return self.stack[self.top]  #return topmost value"
   ]
  },
  {
   "cell_type": "code",
   "execution_count": 23,
   "id": "d57c434d-f530-4631-b3ef-95068cdabb90",
   "metadata": {},
   "outputs": [
    {
     "name": "stdout",
     "output_type": "stream",
     "text": [
      "Is Empty? False\n",
      "Topmost value> 30\n",
      "Popped value> 30\n",
      "Topmost value> 20\n",
      "Popped value> 20\n",
      "Topmost value> 10\n"
     ]
    }
   ],
   "source": [
    "#Test Stack class\n",
    "stack = Stack(size=5)\n",
    "\n",
    "stack.push(10)\n",
    "stack.push(20)\n",
    "stack.push(30)\n",
    "\n",
    "print(\"Is Empty?\", stack.is_empty())\n",
    "print(\"Topmost value>\", stack.get_top())\n",
    "print(\"Popped value>\", stack.pop())\n",
    "print(\"Topmost value>\", stack.get_top())\n",
    "print(\"Popped value>\", stack.pop())\n",
    "print(\"Topmost value>\", stack.get_top())"
   ]
  },
  {
   "cell_type": "markdown",
   "id": "af6968b9-4c16-47f5-9a4b-c159bcc7bb0a",
   "metadata": {},
   "source": [
    "## Question 2. Queue"
   ]
  },
  {
   "cell_type": "markdown",
   "id": "de8d1a99-1d4d-49d4-91fb-7720641ac1cb",
   "metadata": {},
   "source": [
    "> a) Implement a queue class in Python with methods for enqueue, dequeue, and is_empty"
   ]
  },
  {
   "cell_type": "code",
   "execution_count": 25,
   "id": "1c679deb-4da0-4cb4-909a-e7e43f3e60e1",
   "metadata": {},
   "outputs": [],
   "source": [
    "class Queue:                              #array based queue\n",
    "    def __init__(self, size):\n",
    "        self.size = size\n",
    "        self.queue = [None] * (size + 1)  #using 1-index array\n",
    "        self.head = 1\n",
    "        self.tail = 1\n",
    "\n",
    "    def enqueue(self, x):\n",
    "        if self.tail + 1 == self.head:  #leave one last space in array (to differ with empty)\n",
    "            raise OverflowError(\"Queue overflow\")\n",
    "        self.queue[self.tail] = x       #tail points will-be enqueued index location\n",
    "        if self.tail == self.size:      #returns to first index in array\n",
    "            self.tail = 1\n",
    "        else:                           #increase to next index in array\n",
    "            self.tail += 1\n",
    "\n",
    "    def dequeue(self):\n",
    "        if self.is_empty():\n",
    "            raise ValueError(\"Queue is empty\")\n",
    "        x = self.queue[self.head]\n",
    "        if self.head == self.size:      #returns to first index in array\n",
    "            self.head = 1\n",
    "        else:                           #increase to next index in array\n",
    "            self.head += 1\n",
    "        return x                        #return dequeued value\n",
    "\n",
    "    def is_empty(self):\n",
    "        return self.head == self.tail   #still initial state"
   ]
  },
  {
   "cell_type": "code",
   "execution_count": 30,
   "id": "3277aa89-2b2a-4f33-9d11-97a59e3ad6fe",
   "metadata": {},
   "outputs": [
    {
     "name": "stdout",
     "output_type": "stream",
     "text": [
      "Dequeued: 10\n"
     ]
    }
   ],
   "source": [
    "#Test Queue class\n",
    "queue = Queue(size=5)\n",
    "#print(\"Dequeued:\", queue.dequeue()) -> underflow\n",
    "queue.enqueue(10)\n",
    "queue.enqueue(20)\n",
    "queue.enqueue(30)\n",
    "print(\"Dequeued:\", queue.dequeue())  #FIFO"
   ]
  },
  {
   "cell_type": "code",
   "execution_count": 29,
   "id": "84b5449b-428a-412f-a85c-c7b94a8b83e3",
   "metadata": {},
   "outputs": [],
   "source": [
    "#Implementing Queue with built-in methods\n",
    "class Queue2:\n",
    "    def __init__(self):\n",
    "        self.items = []               #no overflow problem\n",
    "\n",
    "    def enqueue(self, item):\n",
    "        self.items.insert(0, item)    #use .insert (always appends new value at index 0)\n",
    "        \n",
    "    def dequeue(self):\n",
    "        if not self.is_empty():\n",
    "            return self.items.pop()   #use .pop\n",
    "        else:                         #if not dealt with, just returns None\n",
    "            raise ValueError(\"Queue underflow\") \n",
    "            \n",
    "    def is_empty(self):\n",
    "        return len(self.items) == 0   #use len()"
   ]
  },
  {
   "cell_type": "code",
   "execution_count": 31,
   "id": "83ad1858-d3e6-4bf1-b794-07c69b5995f2",
   "metadata": {},
   "outputs": [
    {
     "name": "stdout",
     "output_type": "stream",
     "text": [
      "Dequeued: 10\n",
      "Is Empty? False\n"
     ]
    }
   ],
   "source": [
    "#Test Queue class\n",
    "queue = Queue(size=5)\n",
    "\n",
    "queue.enqueue(10)\n",
    "queue.enqueue(20)\n",
    "queue.enqueue(30)\n",
    "print(\"Dequeued:\", queue.dequeue())  #FIFO\n",
    "print(\"Is Empty?\", queue.is_empty())"
   ]
  },
  {
   "cell_type": "markdown",
   "id": "749e4f38-b480-4996-a5d2-33a36ecdd980",
   "metadata": {},
   "source": [
    "> b) Write a function that uses a queue to simulate a printer queue"
   ]
  },
  {
   "cell_type": "code",
   "execution_count": 35,
   "id": "f03c7e4b-bed2-4eef-b88c-12c9e5ed0c0a",
   "metadata": {},
   "outputs": [],
   "source": [
    "from queue import Queue #using library in python\n",
    "\n",
    "class PrinterQueue:\n",
    "    def __init__(self):\n",
    "        self.queue = Queue()                 #create a queue\n",
    "\n",
    "    def add_print_request(self, document):\n",
    "        self.queue.put(document)             #enqueue to queue\n",
    "\n",
    "    def process_print_requests(self):\n",
    "        while not self.queue.empty():        #check whether queue is empty\n",
    "            document = self.queue.get()      #dequeue from queue\n",
    "            print(f\"Printing: {document}\")\n",
    "             #Simulate printing process here...\n",
    "            print(f\"Printed: {document}\")"
   ]
  },
  {
   "cell_type": "code",
   "execution_count": 33,
   "id": "e39c0773-72ad-4b16-b51a-e67b25b1be33",
   "metadata": {},
   "outputs": [
    {
     "name": "stdout",
     "output_type": "stream",
     "text": [
      "Printing: Document 1\n",
      "Printed: Document 1\n",
      "Printing: Document 2\n",
      "Printed: Document 2\n"
     ]
    }
   ],
   "source": [
    "#Test printer queue\n",
    "printer = PrinterQueue()\n",
    "printer.add_print_request(\"Document 1\")\n",
    "printer.add_print_request(\"Document 2\")\n",
    "\n",
    "printer.process_print_requests()"
   ]
  },
  {
   "cell_type": "markdown",
   "id": "e1fb6825-11c1-4581-989b-4ce76d5b64bc",
   "metadata": {},
   "source": [
    "> c) Modify queue class to include a method get_front that returns front without removing it"
   ]
  },
  {
   "cell_type": "code",
   "execution_count": 36,
   "id": "37e82bce-139d-4c4f-91ba-e916b5b0dd8d",
   "metadata": {},
   "outputs": [],
   "source": [
    "class Queue:                              #array based queue\n",
    "    def __init__(self, size):\n",
    "        self.size = size\n",
    "        self.queue = [None] * (size + 1)  #using 1-index array\n",
    "        self.head = 1\n",
    "        self.tail = 1\n",
    "\n",
    "    def enqueue(self, x):\n",
    "        if self.tail + 1 == self.head:  #leave one last space in array (to differ with empty)\n",
    "            raise OverflowError(\"Queue overflow\")\n",
    "        self.queue[self.tail] = x       #tail points will-be enqueued index location\n",
    "        if self.tail == self.size:      #returns to first index in array\n",
    "            self.tail = 1\n",
    "        else:                           #increase to next index in array\n",
    "            self.tail += 1\n",
    "\n",
    "    def dequeue(self):\n",
    "        if self.is_empty():\n",
    "            raise ValueError(\"Queue is empty\")\n",
    "        x = self.queue[self.head]\n",
    "        if self.head == self.size:      #returns to first index in array\n",
    "            self.head = 1\n",
    "        else:                           #increase to next index in array\n",
    "            self.head += 1\n",
    "        return x                        #return dequeued value\n",
    "\n",
    "    def is_empty(self):\n",
    "        return self.head == self.tail   #still initial state\n",
    "\n",
    "    ####added top method###\n",
    "    def get_front(self):\n",
    "        if self.is_empty():\n",
    "            raise ValueError(\"Queue is empty\")\n",
    "        return self.queue[self.head]"
   ]
  },
  {
   "cell_type": "code",
   "execution_count": 37,
   "id": "3ca443b1-c448-4e3f-b86a-28113ac75fcf",
   "metadata": {},
   "outputs": [
    {
     "name": "stdout",
     "output_type": "stream",
     "text": [
      "Get Front: 10\n",
      "Dequeued: 10\n",
      "Is Empty? False\n",
      "Get Front: 20\n"
     ]
    }
   ],
   "source": [
    "#Test Queue class\n",
    "queue = Queue(size=5)\n",
    "\n",
    "queue.enqueue(10)\n",
    "queue.enqueue(20)\n",
    "queue.enqueue(30)\n",
    "print(\"Get Front:\", queue.get_front()) \n",
    "print(\"Dequeued:\", queue.dequeue())  #FIFO\n",
    "print(\"Is Empty?\", queue.is_empty())\n",
    "print(\"Get Front:\", queue.get_front()) "
   ]
  },
  {
   "cell_type": "markdown",
   "id": "2bb709b3-d45b-41ff-98f0-cfd7d525efc3",
   "metadata": {},
   "source": [
    "## Question 3. Linked List"
   ]
  },
  {
   "cell_type": "markdown",
   "id": "f931edaa-3dac-4a97-b6a3-0a67611315f9",
   "metadata": {},
   "source": [
    "> a) Implement a linked list. Include methods for insert, prepend, search, and delete"
   ]
  },
  {
   "cell_type": "code",
   "execution_count": 38,
   "id": "9046f9d8-1415-4aa4-87aa-124be06e56eb",
   "metadata": {},
   "outputs": [],
   "source": [
    "class Node:\n",
    "    def __init__(self, key):\n",
    "        self.key = key\n",
    "        self.next = None\n",
    "        self.prev = None  #doubly linked list"
   ]
  },
  {
   "cell_type": "code",
   "execution_count": 41,
   "id": "f4c40067-e0fe-4701-9ce0-08e3bc0f9487",
   "metadata": {},
   "outputs": [],
   "source": [
    "class LinkedList:\n",
    "    def __init__(self):\n",
    "        self.head = None            #initialize head pointer\n",
    "\n",
    "    def search(self, key):\n",
    "        x = self.head\n",
    "        while x is not None and x.key != key: \n",
    "            x = x.next              #check to the end of the list to search key\n",
    "        return x                    #return address of searched node\n",
    "\n",
    "    def prepend(self, key):\n",
    "        new_node = Node(key)\n",
    "        new_node.next = self.head   #insert new node at list beginning\n",
    "        new_node.prev = None        \n",
    "        if self.head is not None:   #link prev member of former head node\n",
    "            self.head.prev = new_node\n",
    "        self.head = new_node        #update head pointer\n",
    "\n",
    "    def insert(self, x, y):\n",
    "        x.next = y.next             #insert new node at list middle\n",
    "        x.prev = y                  #insert x after y; y -> x! -> z\n",
    "        if y.next is not None:      #link prev member of node z too\n",
    "            y.next.prev = x\n",
    "        y.next = x                  #link next member of node y finally\n",
    "\n",
    "    def delete(self, x):\n",
    "        if x.prev is not None:      #x.prev -> x -> x.next (cut off x)\n",
    "            x.prev.next = x.next\n",
    "        else:                       #if x is first node, update head node\n",
    "            self.head = x.next\n",
    "\n",
    "    def display(self):\n",
    "        current = self.head\n",
    "        while current:              #browse all nodes to the last node\n",
    "            print(current.key, end=\" -> \")\n",
    "            current = current.next\n",
    "        print(\"None\")"
   ]
  },
  {
   "cell_type": "code",
   "execution_count": 42,
   "id": "bedcada9-8f65-406e-b988-1c1cffed726f",
   "metadata": {},
   "outputs": [
    {
     "name": "stdout",
     "output_type": "stream",
     "text": [
      "30 -> 20 -> 10 -> None\n",
      "30 -> 10 -> None\n",
      "30 -> 25 -> 10 -> None\n"
     ]
    }
   ],
   "source": [
    "#Test linked list\n",
    "linked_list = LinkedList()\n",
    "linked_list.prepend(10)             #prepend new node to the list\n",
    "linked_list.prepend(20)\n",
    "linked_list.prepend(30)\n",
    "linked_list.display()               #30 > 20 > 10 > None\n",
    "\n",
    "del_node = linked_list.search(20)\n",
    "if del_node:                        #checks whether the node to delete is in the list\n",
    "    linked_list.delete(del_node)\n",
    "linked_list.display()               #30 > 10 > None\n",
    "\n",
    "pos_node = linked_list.search(30)\n",
    "new_node = Node(25)                    #create new node of key 25\n",
    "linked_list.insert(new_node, pos_node) #insert new node after pos node\n",
    "linked_list.display()               #30 > 25 > 10 > None"
   ]
  },
  {
   "cell_type": "markdown",
   "id": "d67912d9-130c-460c-ae58-83f291327338",
   "metadata": {},
   "source": [
    "> b) Create a playlist for a music player"
   ]
  },
  {
   "cell_type": "code",
   "execution_count": 2,
   "id": "c6335287-f438-4121-96cc-717418a0a5b9",
   "metadata": {},
   "outputs": [],
   "source": [
    "class SongNode:\n",
    "    def __init__(self, title, artist):\n",
    "        self.title = title         #two item members\n",
    "        self.artist = artist\n",
    "        self.next_song = None      #singly linked list"
   ]
  },
  {
   "cell_type": "code",
   "execution_count": 5,
   "id": "ecf25bea-f104-4a87-85b2-5f5bcef8bfa9",
   "metadata": {},
   "outputs": [],
   "source": [
    "class Playlist:\n",
    "    def __init__(self):\n",
    "        self.head = None\n",
    "\n",
    "    def add_song(self, title, artist):\n",
    "        new_song = SongNode(title, artist)\n",
    "        if not self.head:                     #if first node\n",
    "            self.head = new_song \n",
    "        else:\n",
    "            current = self.head               #insert as last node\n",
    "            while current.next_song:\n",
    "                current = current.next_song\n",
    "            current.next_song = new_song\n",
    "            \n",
    "    def display_playlist(self):\n",
    "        current = self.head\n",
    "        while current:                        #show all song list\n",
    "            print(f\"{current.title} by {current.artist}\")\n",
    "            current = current.next_song"
   ]
  },
  {
   "cell_type": "code",
   "execution_count": 6,
   "id": "b34810dd-494f-4d32-8865-c6304109434a",
   "metadata": {},
   "outputs": [
    {
     "name": "stdout",
     "output_type": "stream",
     "text": [
      "Playlist\n",
      "Song 1 by Artist 1\n",
      "Song 2 by Artist 2\n"
     ]
    }
   ],
   "source": [
    "#Create a playlist and add songs\n",
    "playlist = Playlist()\n",
    "playlist.add_song(\"Song 1\", \"Artist 1\")\n",
    "playlist.add_song(\"Song 2\", \"Artist 2\")\n",
    "\n",
    "#Display the playlist\n",
    "print(\"Playlist\")\n",
    "playlist.display_playlist()"
   ]
  }
 ],
 "metadata": {
  "kernelspec": {
   "display_name": "Python 3 (ipykernel)",
   "language": "python",
   "name": "python3"
  },
  "language_info": {
   "codemirror_mode": {
    "name": "ipython",
    "version": 3
   },
   "file_extension": ".py",
   "mimetype": "text/x-python",
   "name": "python",
   "nbconvert_exporter": "python",
   "pygments_lexer": "ipython3",
   "version": "3.12.3"
  }
 },
 "nbformat": 4,
 "nbformat_minor": 5
}
