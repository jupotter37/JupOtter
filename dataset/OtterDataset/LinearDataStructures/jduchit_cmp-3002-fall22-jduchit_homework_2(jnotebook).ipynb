{
 "cells": [
  {
   "cell_type": "markdown",
   "metadata": {},
   "source": [
    "#  <center> UNIVERSIDAD SAN FRANCISCO DE QUITO </center>\n",
    "#  <center> COLEGIO: CIENCIAS E INGENIERIAS </center>\n",
    "#  <center> ESTRUCTURA DE DATOS </center> \n",
    "### **Nombre:** Johana Duchi Tipán                          \n",
    "### **Código Banner:** 00321980\n",
    "### **Fecha de entrega:** 25 de octubre de 2022.         \n",
    "### **NRC:** 2075\n",
    "## <center>**DEBER 2** <center>"
   ]
  },
  {
   "cell_type": "code",
   "execution_count": 25,
   "metadata": {},
   "outputs": [],
   "source": [
    "import pandas as pd\n",
    "import matplotlib.pyplot as plt\n",
    "import time\n",
    "\"\"\"\n",
    "La funcion medidor_tiempo se encarga de medir el tiempo de ejecucion de un programa.\n",
    "\"\"\"\n",
    "def medidor_tiempo(funcion):\n",
    "    def funcion_medida(*args, **kwargs):\n",
    "        inicio = time.time()*10**6\n",
    "        c = funcion(*args, **kwargs)\n",
    "        fin = time.time()*10**6\n",
    "        #Se resta el segundo que puse en el sleep\n",
    "        print(\"\\nLa funcion: \",funcion.__name__,\" , se ejecuto en: {} micro segundos\".format((fin - inicio)-(10**6)))\n",
    "        return c\n",
    "    return funcion_medida"
   ]
  },
  {
   "cell_type": "markdown",
   "metadata": {},
   "source": [
    "**def medidor_tiempo ->** esta funcion fue implementada por el libro de Python y editada.\n",
    "<br>**Referencias:**\n",
    "<br> &ensp; El libro de Python.(2022). Medir tiempo de ejecución. https://ellibrodepython.com/tiempo-ejecucion-python\n",
    "<br> &ensp; GeeksforGeeks.(2019). time.process_time() function in Python. https://www.geeksforgeeks.org/time-process_time-function-in-python/\n",
    "<br> &ensp; DelftStack.(2021). Calculate Time Elapsed in Python. https://www.delftstack.com/howto/python/python-elapsed-time/\n",
    "<br> &ensp; Anonimo.(2021).Return with format() in python.https://stackoverflow.com/questions/69472685/return-with-format-in-python"
   ]
  },
  {
   "cell_type": "markdown",
   "metadata": {
    "tags": []
   },
   "source": [
    "### **1. Implemente la clase Stacks y todos sus métodos usando listas enlazadas simples - singly linked lists. Analizar el tiempo de ejecución y la complejidad de la memoria, y comparar con lo que estudiamos en clase**"
   ]
  },
  {
   "cell_type": "code",
   "execution_count": 2,
   "metadata": {},
   "outputs": [],
   "source": [
    "\"\"\"\n",
    "Clase que crea los nodos de la linked list\n",
    "\"\"\"\n",
    "class Node:\n",
    "    \"\"\"\n",
    "    Implementation of a node\n",
    "    \"\"\"\n",
    "    def __init__(self, val=None):\n",
    "        self.val = val\n",
    "        self.next_node = None\n",
    "    \n",
    "    def set_next_node(self, next_node):\n",
    "        self.next_node = next_node"
   ]
  },
  {
   "cell_type": "code",
   "execution_count": 3,
   "metadata": {},
   "outputs": [],
   "source": [
    "import ctypes\n",
    "class Stack(object):\n",
    "    \"\"\"\n",
    "    Funcion que inicializa la cabeza de la lista enlazada y la capacidad\n",
    "    del stack\n",
    "    \"\"\"\n",
    "    def __init__(self, n,head_node=None):\n",
    "        self.head_node = head_node\n",
    "        self.count_node =0\n",
    "        self.n= n\n",
    "        self.stack = self._create_stack(self.n)       \n",
    "    \n",
    "    def _create_stack(self, n):\n",
    "        \"\"\"\n",
    "        Creates a new stack of capacity n\n",
    "        \"\"\"\n",
    "        return (n * ctypes.py_object)()"
   ]
  },
  {
   "cell_type": "code",
   "execution_count": 4,
   "metadata": {},
   "outputs": [],
   "source": [
    "\"\"\"\n",
    "Clase que crea el stack usando el principio LIFO lo ultimo en entrar es\n",
    "lo primero en salir\n",
    "\"\"\"    \n",
    "class Stack(Stack):   \n",
    "    \"\"\"\n",
    "    Funcion que almacena un elemento en el stack y define la capacidad\n",
    "    del stack\n",
    "    \"\"\"\n",
    "    @medidor_tiempo\n",
    "    def push(self, new_node):\n",
    "        time.sleep(1)\n",
    "        if self.n == self.size():\n",
    "            raise ValueError(\"no more capacity\")\n",
    "        else:\n",
    "            if self.head_node is None:\n",
    "                self.head_node = Node(new_node)\n",
    "            else:\n",
    "                new_node = Node(new_node)\n",
    "                new_node.next_node = self.head_node\n",
    "                self.head_node = new_node\n",
    "        #Suma los elementos que se van a\n",
    "        self.count_node+=1\n",
    "        \n",
    "    \"\"\"\n",
    "    Funcion que elimina el primer elemento de la pila\n",
    "    \"\"\"\n",
    "    @medidor_tiempo\n",
    "    def pop(self):\n",
    "        time.sleep(1)\n",
    "        \"\"\"\n",
    "        Verificamos si el stack esta vacio, usando la funcion empty\n",
    "        \"\"\"\n",
    "        if self.empty():\n",
    "            return None\n",
    "        else:\n",
    "            prev = self.head_node\n",
    "            self.head_node = prev.next_node\n",
    "            #Borramos el puntero\n",
    "            prev.next_node =None\n",
    "        self.count_node-=1\n",
    "    \n",
    "    \"\"\"\n",
    "    Funcion que retorna la cabeza del stack\n",
    "    \"\"\"\n",
    "    @medidor_tiempo\n",
    "    def top(self):\n",
    "        time.sleep(1)\n",
    "        \"\"\"\n",
    "        Verificamos si el stack esta vacio, usando la funcion empty\n",
    "        \"\"\"\n",
    "        if self.empty():\n",
    "            return None\n",
    "        else:            \n",
    "            return self.head_node.val\n",
    "        \n",
    "    \n",
    "    \"\"\"\n",
    "    Funcion que verifica si el stack esta lleno\n",
    "    \"\"\" \n",
    "    @medidor_tiempo\n",
    "    def full(self):\n",
    "        time.sleep(1)  \n",
    "        return self.n == self.size()     \n",
    "        # if self.l == self.n:\n",
    "        #    return True\n",
    "        # return False\n",
    "        \n",
    "    \"\"\"\n",
    "    Funcion que verifica si esta lleno el stack\n",
    "    \"\"\"\n",
    "    @medidor_tiempo\n",
    "    def empty(self):\n",
    "        time.sleep(1)\n",
    "        return self.head_node==None\n",
    "        #if self.head_node == 0:\n",
    "        #    return True\n",
    "        #else:\n",
    "        #    return False\n",
    "    \n",
    "    \"\"\"\n",
    "    Funcion que retorna el tamanio del stack\n",
    "    \"\"\"\n",
    "    @medidor_tiempo\n",
    "    def size(self):\n",
    "        time.sleep(1)\n",
    "        return self.count_node\n",
    "    \n",
    "    \"\"\"\n",
    "    Funcion que recorre el stack\n",
    "    \"\"\"\n",
    "    @medidor_tiempo\n",
    "    def stack_traversed(self):\n",
    "        node = self.head_node\n",
    "        while node:\n",
    "            print(node.val,\"->\" , end = \" \")\n",
    "            node = node.next_node       "
   ]
  },
  {
   "cell_type": "code",
   "execution_count": 5,
   "metadata": {},
   "outputs": [],
   "source": [
    "S = Stack(3)"
   ]
  },
  {
   "cell_type": "code",
   "execution_count": 6,
   "metadata": {},
   "outputs": [
    {
     "name": "stdout",
     "output_type": "stream",
     "text": [
      "\n",
      "La funcion:  stack_traversed  , se ejecuto en: -1000000.0 micro segundos\n",
      "The stack is: None\n"
     ]
    }
   ],
   "source": [
    "print(\"The stack is:\",S.stack_traversed())"
   ]
  },
  {
   "cell_type": "code",
   "execution_count": 7,
   "metadata": {},
   "outputs": [
    {
     "name": "stdout",
     "output_type": "stream",
     "text": [
      "The new stack after method pop is:\n",
      "\n",
      "La funcion:  stack_traversed  , se ejecuto en: -1000000.0 micro segundos\n"
     ]
    }
   ],
   "source": [
    "print(\"The new stack after method pop is:\")\n",
    "S.stack_traversed()"
   ]
  },
  {
   "cell_type": "code",
   "execution_count": 8,
   "metadata": {},
   "outputs": [
    {
     "name": "stdout",
     "output_type": "stream",
     "text": [
      "\n",
      "La funcion:  size  , se ejecuto en: 10418.25 micro segundos\n",
      "\n",
      "La funcion:  full  , se ejecuto en: 1013539.75 micro segundos\n",
      "The stack is full:  False\n"
     ]
    }
   ],
   "source": [
    "print(\"The stack is full: \",S.full())"
   ]
  },
  {
   "cell_type": "code",
   "execution_count": 9,
   "metadata": {},
   "outputs": [
    {
     "name": "stdout",
     "output_type": "stream",
     "text": [
      "\n",
      "La funcion:  empty  , se ejecuto en: 10277.0 micro segundos\n",
      "The stack is empty:  True\n"
     ]
    }
   ],
   "source": [
    "print(\"The stack is empty: \", S.empty())"
   ]
  },
  {
   "cell_type": "code",
   "execution_count": 10,
   "metadata": {},
   "outputs": [
    {
     "name": "stdout",
     "output_type": "stream",
     "text": [
      "\n",
      "La funcion:  size  , se ejecuto en: 11165.25 micro segundos\n",
      "The size of stack is:  0\n"
     ]
    }
   ],
   "source": [
    "print(\"The size of stack is: \",S.size())"
   ]
  },
  {
   "cell_type": "code",
   "execution_count": 11,
   "metadata": {},
   "outputs": [
    {
     "name": "stdout",
     "output_type": "stream",
     "text": [
      "\n",
      "La funcion:  size  , se ejecuto en: 23889.0 micro segundos\n",
      "\n",
      "La funcion:  push  , se ejecuto en: 1030857.75 micro segundos\n",
      "\n",
      "La funcion:  size  , se ejecuto en: 944.5 micro segundos\n",
      "\n",
      "La funcion:  push  , se ejecuto en: 1003555.75 micro segundos\n",
      "\n",
      "La funcion:  size  , se ejecuto en: 9491.75 micro segundos\n",
      "\n",
      "La funcion:  push  , se ejecuto en: 1024069.0 micro segundos\n"
     ]
    }
   ],
   "source": [
    "S.push(1)\n",
    "S.push(2)\n",
    "S.push(4)"
   ]
  },
  {
   "cell_type": "code",
   "execution_count": 12,
   "metadata": {
    "tags": []
   },
   "outputs": [
    {
     "name": "stdout",
     "output_type": "stream",
     "text": [
      "The stack is:\n",
      "4 -> 2 -> 1 -> \n",
      "La funcion:  stack_traversed  , se ejecuto en: -999001.25 micro segundos\n"
     ]
    }
   ],
   "source": [
    "print(\"The stack is:\")\n",
    "S.stack_traversed()"
   ]
  },
  {
   "cell_type": "code",
   "execution_count": 13,
   "metadata": {},
   "outputs": [
    {
     "name": "stdout",
     "output_type": "stream",
     "text": [
      "\n",
      "La funcion:  empty  , se ejecuto en: 249.5 micro segundos\n",
      "\n",
      "La funcion:  top  , se ejecuto en: 1005153.5 micro segundos\n",
      "The stack top is : 4\n"
     ]
    }
   ],
   "source": [
    "print(\"The stack top is :\",S.top() )"
   ]
  },
  {
   "cell_type": "code",
   "execution_count": 14,
   "metadata": {},
   "outputs": [
    {
     "name": "stdout",
     "output_type": "stream",
     "text": [
      "\n",
      "La funcion:  empty  , se ejecuto en: 13456.5 micro segundos\n",
      "\n",
      "La funcion:  pop  , se ejecuto en: 1021187.75 micro segundos\n"
     ]
    }
   ],
   "source": [
    "S.pop()"
   ]
  },
  {
   "cell_type": "code",
   "execution_count": 15,
   "metadata": {},
   "outputs": [
    {
     "name": "stdout",
     "output_type": "stream",
     "text": [
      "The stack is:\n",
      "2 -> 1 -> \n",
      "La funcion:  stack_traversed  , se ejecuto en: -998001.0 micro segundos\n"
     ]
    }
   ],
   "source": [
    "print(\"The stack is:\")\n",
    "S.stack_traversed()"
   ]
  },
  {
   "cell_type": "code",
   "execution_count": 16,
   "metadata": {},
   "outputs": [
    {
     "name": "stdout",
     "output_type": "stream",
     "text": [
      "\n",
      "La funcion:  empty  , se ejecuto en: 3281.0 micro segundos\n",
      "\n",
      "La funcion:  top  , se ejecuto en: 1006692.25 micro segundos\n",
      "The stack top is : 2\n"
     ]
    }
   ],
   "source": [
    "print(\"The stack top is :\",S.top() )"
   ]
  },
  {
   "cell_type": "code",
   "execution_count": 17,
   "metadata": {},
   "outputs": [
    {
     "name": "stdout",
     "output_type": "stream",
     "text": [
      "\n",
      "La funcion:  size  , se ejecuto en: 1206.5 micro segundos\n",
      "\n",
      "La funcion:  full  , se ejecuto en: 1008311.0 micro segundos\n",
      "The stack is full:  False\n"
     ]
    }
   ],
   "source": [
    "print(\"The stack is full: \",S.full())"
   ]
  },
  {
   "cell_type": "code",
   "execution_count": 18,
   "metadata": {},
   "outputs": [
    {
     "name": "stdout",
     "output_type": "stream",
     "text": [
      "\n",
      "La funcion:  empty  , se ejecuto en: 1956.75 micro segundos\n",
      "The stack is empty:  False\n"
     ]
    }
   ],
   "source": [
    "print(\"The stack is empty: \", S.empty())"
   ]
  },
  {
   "cell_type": "code",
   "execution_count": 19,
   "metadata": {},
   "outputs": [
    {
     "name": "stdout",
     "output_type": "stream",
     "text": [
      "\n",
      "La funcion:  size  , se ejecuto en: 4887.0 micro segundos\n",
      "The size of stack is:  2\n"
     ]
    }
   ],
   "source": [
    "print(\"The size of stack is: \",S.size())"
   ]
  },
  {
   "cell_type": "markdown",
   "metadata": {},
   "source": [
    "**Análisis:**\n",
    "<br>&ensp; &ensp;La complejidad del tiempo, toma un tiempo constante c para ejecutar una operación, y luego se calculan las operaciones totales.\n",
    "<br>&ensp; &ensp;La complejidad del espacio = tamaño de entrada + espacio auxiliar\n",
    "<br> &ensp;**1.** La clase Node tiene los métodos:\n",
    "<br> &ensp; &ensp; &ensp; &ensp;**a.** init con una complejidad de tiempo $O(1)$: complejidad constante y una complejidad de espacio $O(1)$:complejidad constante.\n",
    "<br> &ensp; &ensp; &ensp; &ensp;**b.** set_next_node con una complejidad de tiempo $O(1)$: complejidad constante y una complejidad de espacio $O(1)$:complejidad constante.\n",
    "<br> &ensp; &ensp;Por lo tanto, la complejidad de tiempo de la clase Node es $O(1)$: complejidad constante y una complejidad de espacio $O(1)$:complejidad constante.\n",
    "<br> &ensp;**2.** La clase Stack(object) tiene los métodos:\n",
    "<br> &ensp; &ensp; &ensp; &ensp;**a.** init con una complejidad de tiempo $O(1)$: complejidad constante y una complejidad de espacio $O(1)$:complejidad constante.\n",
    "<br> &ensp; &ensp; &ensp; &ensp;**a.** _create_stack con una complejidad de tiempo $O(1)$: complejidad constante y una complejidad de espacio $O(1)$:complejidad constante.\n",
    "<br> &ensp; &ensp;Por lo tanto, la complejidad de tiempo de la clase Stack(object)es $O(1)$: complejidad constante y una complejidad de espacio $O(1)$:complejidad constante.\n",
    "<br> &ensp;**3.** La clase Stack(Stack) tiene los métodos:\n",
    "<br> &ensp; &ensp; &ensp; &ensp;**a.** push con una complejidad de tiempo $O(1)$: complejidad constante y una complejidad de espacio $O(n)$:complejidad cuadrática (2 if).\n",
    "<br> &ensp; &ensp; &ensp; &ensp;**b.** pop con una complejidad de tiempo $O(1)$: complejidad constante y una complejidad de espacio $O(n)$:complejidad lineal (1 if).\n",
    "<br> &ensp; &ensp; &ensp; &ensp;**c.** top con una complejidad de tiempo $O(1)$: complejidad constante y una complejidad de espacio $O(n)$:complejidad lineal (1 if).\n",
    "<br> &ensp; &ensp; &ensp; &ensp;**d.** full con una complejidad de tiempo $O(1)$: complejidad constante y una complejidad de espacio $O(1)$:complejidad constante.\n",
    "<br> &ensp; &ensp; &ensp; &ensp;**e.** empty con una complejidad de tiempo $O(1)$: complejidad constante y una complejidad de espacio $O(1)$:complejidad constante.\n",
    "<br> &ensp; &ensp; &ensp; &ensp;**f.** size con una complejidad de tiempo $O(1)$: complejidad constante y una complejidad de espacio $O(1)$:complejidad constante.\n",
    "<br> &ensp; &ensp; &ensp; &ensp;**g.** stack_traversed con una complejidad de tiempo $O(1)$: complejidad constante y una complejidad de espacio $O(n)$:complejidad lineal (1 while).\n",
    "<br> &ensp; &ensp;Por lo tanto, la complejidad de tiempo de la clase Stack(Stack) es $O(1)$: complejidad constante y una complejidad de espacio $O(n)$:complejidad lineal).\n",
    "<br> &ensp;**4.** La complejidad de tiempo del algoritmo es $O(1)$: complejidad lineal y una complejidad de espacio $O(n)$:complejidad lineal)."
   ]
  },
  {
   "cell_type": "markdown",
   "metadata": {},
   "source": [
    "**Comparación:**\n",
    "<br> La mayoría de las funciones implementadas tienen una gran similitud con las vistas en clase, es por este motivo que no se vió afectado la complejidad en tiempo y memoria. Sin embargo, si analizamos ambas estructuras de datos, las listas enlazadas son buenas para insertar y eliminar elementos en posiciones aleatorias a diferencia de un stack que existen más restricciones."
   ]
  },
  {
   "cell_type": "markdown",
   "metadata": {},
   "source": [
    "<br>El código se basó en lo visto en clase, con algunas modificaciones.\n",
    "<br>**Referencias:**\n",
    "<br>&ensp;Proaño,A.(2022).Stacks.https://github.com/aproano2/cmp-3002-fall22-aproano/blob/master/week5/stacks.ipynb\n",
    "<br>&ensp;Proaño,A.(2022).Linked list.https://github.com/aproano2/cmp-3002-fall22-aproano/blob/master/week5/linked_list.ipynb "
   ]
  },
  {
   "cell_type": "markdown",
   "metadata": {},
   "source": [
    "### **2. Escriba una parte del método de la clase de lista enlazada que invertirá la lista enlazada. Su implementación debe visitar cada nodo en la lista solo una vez y debe usar O(1) memoria adicional.**"
   ]
  },
  {
   "cell_type": "raw",
   "metadata": {},
   "source": [
    "Por ejemplo, si la lista es:\n",
    "\n",
    "A -> B -> C -> D -> nulo\n",
    "\n",
    "El método debe devolver:\n",
    "\n",
    "D -> C -> B -> A -> nulo"
   ]
  },
  {
   "cell_type": "code",
   "execution_count": 20,
   "metadata": {},
   "outputs": [],
   "source": [
    "class Linked_list:\n",
    "    \"\"\"\n",
    "    Funcion que inicializa la cabeza de la lista enlazada -linked list\n",
    "    \"\"\"\n",
    "    def __init__(self, head_node=None):\n",
    "        self.head_node = head_node"
   ]
  },
  {
   "cell_type": "code",
   "execution_count": 21,
   "metadata": {},
   "outputs": [],
   "source": [
    "class Linked_list(Linked_list):\n",
    "    \"\"\"\n",
    "    Funcion que recorre la lista enlazada - linked list\n",
    "    \"\"\"\n",
    "    @medidor_tiempo\n",
    "    def list_traversed(self):\n",
    "        time.sleep(1)\n",
    "        node = self.head_node\n",
    "        while node:\n",
    "            print(node.val,\"->\" , end = \" \")\n",
    "            node = node.next_node\n",
    "    \n",
    "    \"\"\"\n",
    "    Funcion que invierte la lista enlazada -linked list\n",
    "    \"\"\"\n",
    "    @medidor_tiempo\n",
    "    def list_reverse(self):\n",
    "        time.sleep(1)\n",
    "        prev = None\n",
    "        actual = self.head_node\n",
    "        while(actual is not None): \n",
    "            next_node= actual.next_node\n",
    "            actual.next_node = prev\n",
    "            prev = actual    \n",
    "            actual = next_node\n",
    "        self.head_node =prev"
   ]
  },
  {
   "cell_type": "code",
   "execution_count": 22,
   "metadata": {},
   "outputs": [],
   "source": [
    "m1 = Node(\"Jan\")\n",
    "m2 = Node(\"Feb\")\n",
    "m3 = Node(\"March\")\n",
    "m4 = Node(\"Dec\")"
   ]
  },
  {
   "cell_type": "code",
   "execution_count": 23,
   "metadata": {},
   "outputs": [],
   "source": [
    "m1.set_next_node(m2)\n",
    "m2.set_next_node(m3)\n",
    "m3.set_next_node(m4)"
   ]
  },
  {
   "cell_type": "code",
   "execution_count": 24,
   "metadata": {},
   "outputs": [
    {
     "name": "stdout",
     "output_type": "stream",
     "text": [
      "\n",
      "Linked list: \n",
      "Jan -> Feb -> March -> Dec -> \n",
      "La funcion:  list_traversed  , se ejecuto en: 1016.25 micro segundos\n"
     ]
    }
   ],
   "source": [
    "list1 = Linked_list(m1)\n",
    "print (\"\\nLinked list: \")\n",
    "list1.list_traversed()"
   ]
  },
  {
   "cell_type": "code",
   "execution_count": 25,
   "metadata": {},
   "outputs": [
    {
     "name": "stdout",
     "output_type": "stream",
     "text": [
      "\n",
      "Linked list reverse:\n",
      "\n",
      "La funcion:  list_reverse  , se ejecuto en: 7404.0 micro segundos\n",
      "Dec -> March -> Feb -> Jan -> \n",
      "La funcion:  list_traversed  , se ejecuto en: 11922.25 micro segundos\n"
     ]
    }
   ],
   "source": [
    "print (\"\\nLinked list reverse:\")\n",
    "list1.list_reverse()\n",
    "list1.list_traversed()"
   ]
  },
  {
   "cell_type": "markdown",
   "metadata": {},
   "source": [
    "<br>El código se basó en lo visto en clase, con algunas modificaciones.\n",
    "<br>**Referencias:**\n",
    "<br>&ensp;Proaño,A.(2022).Linked list.https://github.com/aproano2/cmp-3002-fall22-aproano/blob/master/week5/linked_list.ipynb "
   ]
  },
  {
   "cell_type": "markdown",
   "metadata": {},
   "source": [
    "### **3. Implemente la clase Queue usando pilas.**\n",
    "<br>&ensp; &ensp; &ensp; &ensp; **a. Analice el tiempo de ejecución y la complejidad de la memoria, y compare con lo que implementamos en clase**\n",
    "<br>&ensp; &ensp; &ensp; &ensp;**b. Implemente algunos casos de prueba que le permitan medir la diferencia en el tiempo de ejecución del método de eliminación de cola -dequeue. (Sugerencia: ¿cuál es el peor de los casos, para que la implementación de la pila sea mayor que la implementación que hicimos en clase?).**"
   ]
  },
  {
   "cell_type": "code",
   "execution_count": 139,
   "metadata": {},
   "outputs": [],
   "source": [
    "import time\n",
    "\"\"\"\n",
    "La funcion medidor_tiempo se encarga de medir el tiempo de ejecucion de un programa.\n",
    "\"\"\"\n",
    "def contador_tiempo(funcion):\n",
    "    def funcion_medida(*args, **kwargs):\n",
    "        inicio = time.time()*10**6\n",
    "        c = funcion(*args, **kwargs)\n",
    "        fin = time.time()*10**6\n",
    "        return ((fin - inicio)-(10**6)),c\n",
    "    return funcion_medida"
   ]
  },
  {
   "cell_type": "markdown",
   "metadata": {},
   "source": [
    "#### Algoritmo presentado en clase:"
   ]
  },
  {
   "cell_type": "code",
   "execution_count": 140,
   "metadata": {},
   "outputs": [],
   "source": [
    "# We can use the same implementation we used for Arrays\n",
    "import ctypes\n",
    "class Queue(object):\n",
    "    \"\"\"\n",
    "    Implementation of the queue data structure\n",
    "    \"\"\"\n",
    "\n",
    "    def __init__(self, n):\n",
    "        self.l = 0\n",
    "        self.n = n\n",
    "        self.queue = self._create_queue(self.n)        \n",
    "    \n",
    "    def _create_queue(self, n):\n",
    "        \"\"\"\n",
    "        Creates a new stack of capacity n\n",
    "        \"\"\"\n",
    "        return (n * ctypes.py_object)()\n",
    "\n",
    "class Queue(Queue):\n",
    "    def enqueue(self, item):\n",
    "        \"\"\"\n",
    "        Add new item to the queue\n",
    "        \"\"\"\n",
    "        if self.l == self.n:\n",
    "            raise ValueError(\"no more capacity\")\n",
    "        self.queue[self.l] = item\n",
    "        self.l += 1\n",
    "    @contador_tiempo\n",
    "    def dequeue(self):\n",
    "        \"\"\"\n",
    "        Remove an element from the queue\n",
    "        \"\"\"\n",
    "        c = self.queue[0]\n",
    "        for i in range(1,self.l):\n",
    "            self.queue[i-1] = self.queue[i]\n",
    "        self.queue[self.l - 1] = ctypes.py_object\n",
    "        self.l -= 1\n",
    "        return c"
   ]
  },
  {
   "cell_type": "code",
   "execution_count": 141,
   "metadata": {},
   "outputs": [],
   "source": [
    "prueba = Queue(500)\n",
    "for i in range(499):\n",
    "    prueba.enqueue(i)"
   ]
  },
  {
   "cell_type": "code",
   "execution_count": 142,
   "metadata": {},
   "outputs": [],
   "source": [
    "algoritmoClase = []\n",
    "for f in range(499):\n",
    "    n = prueba.dequeue()\n",
    "    algoritmoClase.append(n.__getitem__(0))"
   ]
  },
  {
   "cell_type": "markdown",
   "metadata": {},
   "source": [
    "#### Algoritmo del deber:"
   ]
  },
  {
   "cell_type": "code",
   "execution_count": 143,
   "metadata": {},
   "outputs": [],
   "source": [
    "import ctypes\n",
    "\n",
    "class Stack(object):\n",
    "    \"\"\"\n",
    "    Implementation of the stack data structure\n",
    "    \"\"\"\n",
    "\n",
    "    def __init__(self, n):\n",
    "        self.l = 0\n",
    "        self.n = n\n",
    "        self.stack = self._create_stack(self.n)        \n",
    "    \n",
    "    def _create_stack(self, n):\n",
    "        \"\"\"\n",
    "        Creates a new stack of capacity n\n",
    "        \"\"\"\n",
    "        return (n * ctypes.py_object)()\n",
    "\n",
    "class Stack(Stack):\n",
    "    def push(self, item):\n",
    "        \"\"\"\n",
    "        Add new item to the stack\n",
    "        \"\"\"\n",
    "        if self.l == self.n:\n",
    "            raise ValueError(\"no more capacity\")\n",
    "        self.stack[self.l] = item\n",
    "        self.l += 1\n",
    "   \n",
    "    def pop(self):\n",
    "        \"\"\"\n",
    "        Remove an element from the stack\n",
    "        \"\"\"\n",
    "        if not self.l:\n",
    "            raise('stack is empty')\n",
    "        c = self.stack[self.l-1]\n",
    "        self.stack[self.l] = ctypes.py_object\n",
    "        self.l -= 1\n",
    "        return c\n",
    "    \n",
    "    def empty(self):\n",
    "        \"\"\"\n",
    "        Is the stack empty?\n",
    "        \"\"\"\n",
    "        return self.l == 0    \n",
    "\n",
    "    def size(self):\n",
    "        \"\"\"\n",
    "        Return size of the stack\n",
    "        \"\"\"\n",
    "        return self.l   \n",
    "    \n",
    "    def top(self):\n",
    "        \"\"\"\n",
    "        Show the top element of the stack\n",
    "        \"\"\"\n",
    "        return self.stack[self.l-1]\n",
    "    \n",
    "    def traverse(self):\n",
    "       for i in range(self.l):\n",
    "           print(self.stack[i])\n",
    "           self.stack[i]\n",
    "           i+=1\n",
    "            \n",
    "class Queue(object):\n",
    "    def __init__(self,n):\n",
    "        self.n = n\n",
    "        self.s1 = Stack(n)\n",
    "        self.s2 = Stack(n)\n",
    "        \n",
    "    def enqueue(self, item):\n",
    "        self.s1.push(item)\n",
    "        #print(item,\"->\" , end = \" \")\n",
    "\n",
    "    @contador_tiempo\n",
    "    def dequeue(self):\n",
    "        time.sleep(1)\n",
    "        if self.s2.empty():\n",
    "            while not self.s1.empty():\n",
    "                temp= self.s1.pop()\n",
    "                self.s2.push(temp)\n",
    "        return self.s2.pop()\n",
    "    \n",
    "    \"\"\"\n",
    "    Show the first element of the queue\n",
    "    \"\"\"\n",
    "    def first(self):\n",
    "        if not self.s1 and not self.s2:\n",
    "            #raise('Queue is empty')  \n",
    "            return print (\"The first item in s1 is : \", None, \n",
    "                            \", The first item in s2 is: \", None)\n",
    "        elif not self.s2:\n",
    "            return print (\"The first item in s1 is : \", self.s1.top(), \n",
    "                            \", The first item in s2 is: \", self.s2.top())\n",
    "        \n",
    "    \"\"\"\n",
    "    Is the queue full?\n",
    "    \"\"\" \n",
    "    def full(self):\n",
    "        return print (\"Is full s1? : \", self.s1.size==self.n, \", Is full s2? : \",\n",
    "                    self.s2.size==self.n)\n",
    "    \n",
    "    \"\"\"\n",
    "    Comprueba si la cola - Queue esta vacia\n",
    "    \"\"\"\n",
    "    def empty_queue(self): \n",
    "        return print (\"Is empty s1? : \", self.s1.size()==0, \", Is empty s2? : \",\n",
    "                      self.s2.size()==0)\n",
    "        \n",
    "    \"\"\"\n",
    "    Retorna el size de la cola -queue\n",
    "    \"\"\"\n",
    "    def size_queue(self):\n",
    "        return print (\"Size s1 : \", self.s1.size(), \", Size s2 : \",self.s2.size())\n",
    "    \n",
    "    def traverse_queue(self):\n",
    "        print(\"s1: \")\n",
    "        print(self.s1.traverse())\n",
    "        print(\"s2: \")\n",
    "        print(self.s2.traverse())"
   ]
  },
  {
   "cell_type": "code",
   "execution_count": 144,
   "metadata": {},
   "outputs": [],
   "source": [
    "q = Queue(10)\n",
    "q.enqueue(1)\n",
    "q.enqueue(2)\n",
    "q.enqueue(3)"
   ]
  },
  {
   "cell_type": "code",
   "execution_count": 145,
   "metadata": {},
   "outputs": [
    {
     "name": "stdout",
     "output_type": "stream",
     "text": [
      "Is full s1? :  False , Is full s2? :  False\n"
     ]
    }
   ],
   "source": [
    "q.full()"
   ]
  },
  {
   "cell_type": "code",
   "execution_count": 146,
   "metadata": {},
   "outputs": [
    {
     "name": "stdout",
     "output_type": "stream",
     "text": [
      "Is empty s1? :  False , Is empty s2? :  True\n"
     ]
    }
   ],
   "source": [
    "q.empty_queue()"
   ]
  },
  {
   "cell_type": "code",
   "execution_count": 147,
   "metadata": {},
   "outputs": [
    {
     "name": "stdout",
     "output_type": "stream",
     "text": [
      "Size s1 :  3 , Size s2 :  0\n"
     ]
    }
   ],
   "source": [
    "q.size_queue()"
   ]
  },
  {
   "cell_type": "code",
   "execution_count": 148,
   "metadata": {},
   "outputs": [
    {
     "name": "stdout",
     "output_type": "stream",
     "text": [
      "s1: \n",
      "1\n",
      "2\n",
      "3\n",
      "None\n",
      "s2: \n",
      "None\n"
     ]
    }
   ],
   "source": [
    "q.traverse_queue()"
   ]
  },
  {
   "cell_type": "code",
   "execution_count": 149,
   "metadata": {},
   "outputs": [
    {
     "data": {
      "text/plain": [
       "(9249.25, 1)"
      ]
     },
     "execution_count": 149,
     "metadata": {},
     "output_type": "execute_result"
    }
   ],
   "source": [
    "q.dequeue()"
   ]
  },
  {
   "cell_type": "code",
   "execution_count": 150,
   "metadata": {},
   "outputs": [
    {
     "name": "stdout",
     "output_type": "stream",
     "text": [
      "s1: \n",
      "None\n",
      "s2: \n",
      "3\n",
      "2\n",
      "None\n"
     ]
    }
   ],
   "source": [
    "q.traverse_queue()"
   ]
  },
  {
   "cell_type": "code",
   "execution_count": 151,
   "metadata": {},
   "outputs": [],
   "source": [
    "prueba2 = Queue(500)\n",
    "for i in range(499):\n",
    "    prueba2.enqueue(i)"
   ]
  },
  {
   "cell_type": "code",
   "execution_count": 152,
   "metadata": {},
   "outputs": [],
   "source": [
    "algoritmoDeber = []\n",
    "for f in range(499):\n",
    "    n = prueba.dequeue()\n",
    "    algoritmoDeber.append(n.__getitem__(0))"
   ]
  },
  {
   "cell_type": "code",
   "execution_count": 153,
   "metadata": {},
   "outputs": [
    {
     "data": {
      "text/html": [
       "<div>\n",
       "<style scoped>\n",
       "    .dataframe tbody tr th:only-of-type {\n",
       "        vertical-align: middle;\n",
       "    }\n",
       "\n",
       "    .dataframe tbody tr th {\n",
       "        vertical-align: top;\n",
       "    }\n",
       "\n",
       "    .dataframe thead th {\n",
       "        text-align: right;\n",
       "    }\n",
       "</style>\n",
       "<table border=\"1\" class=\"dataframe\">\n",
       "  <thead>\n",
       "    <tr style=\"text-align: right;\">\n",
       "      <th></th>\n",
       "      <th>Runtime algoritmo de la clase</th>\n",
       "      <th>Runtime algoritmo del deber</th>\n",
       "    </tr>\n",
       "  </thead>\n",
       "  <tbody>\n",
       "    <tr>\n",
       "      <th>0</th>\n",
       "      <td>-998998.00</td>\n",
       "      <td>-1000000.0</td>\n",
       "    </tr>\n",
       "    <tr>\n",
       "      <th>1</th>\n",
       "      <td>-999001.75</td>\n",
       "      <td>-1000000.0</td>\n",
       "    </tr>\n",
       "    <tr>\n",
       "      <th>2</th>\n",
       "      <td>-1000000.00</td>\n",
       "      <td>-1000000.0</td>\n",
       "    </tr>\n",
       "    <tr>\n",
       "      <th>3</th>\n",
       "      <td>-999000.75</td>\n",
       "      <td>-1000000.0</td>\n",
       "    </tr>\n",
       "    <tr>\n",
       "      <th>4</th>\n",
       "      <td>-1000000.00</td>\n",
       "      <td>-1000000.0</td>\n",
       "    </tr>\n",
       "    <tr>\n",
       "      <th>...</th>\n",
       "      <td>...</td>\n",
       "      <td>...</td>\n",
       "    </tr>\n",
       "    <tr>\n",
       "      <th>494</th>\n",
       "      <td>-1000000.00</td>\n",
       "      <td>-1000000.0</td>\n",
       "    </tr>\n",
       "    <tr>\n",
       "      <th>495</th>\n",
       "      <td>-1000000.00</td>\n",
       "      <td>-1000000.0</td>\n",
       "    </tr>\n",
       "    <tr>\n",
       "      <th>496</th>\n",
       "      <td>-1000000.00</td>\n",
       "      <td>-1000000.0</td>\n",
       "    </tr>\n",
       "    <tr>\n",
       "      <th>497</th>\n",
       "      <td>-1000000.00</td>\n",
       "      <td>-1000000.0</td>\n",
       "    </tr>\n",
       "    <tr>\n",
       "      <th>498</th>\n",
       "      <td>-1000000.00</td>\n",
       "      <td>-1000000.0</td>\n",
       "    </tr>\n",
       "  </tbody>\n",
       "</table>\n",
       "<p>499 rows × 2 columns</p>\n",
       "</div>"
      ],
      "text/plain": [
       "     Runtime algoritmo de la clase   Runtime algoritmo del deber\n",
       "0                        -998998.00                   -1000000.0\n",
       "1                        -999001.75                   -1000000.0\n",
       "2                       -1000000.00                   -1000000.0\n",
       "3                        -999000.75                   -1000000.0\n",
       "4                       -1000000.00                   -1000000.0\n",
       "..                              ...                          ...\n",
       "494                     -1000000.00                   -1000000.0\n",
       "495                     -1000000.00                   -1000000.0\n",
       "496                     -1000000.00                   -1000000.0\n",
       "497                     -1000000.00                   -1000000.0\n",
       "498                     -1000000.00                   -1000000.0\n",
       "\n",
       "[499 rows x 2 columns]"
      ]
     },
     "execution_count": 153,
     "metadata": {},
     "output_type": "execute_result"
    }
   ],
   "source": [
    "df = pd.DataFrame(zip(algoritmoClase,algoritmoDeber))\n",
    "df.columns = [ 'Runtime algoritmo de la clase ','Runtime algoritmo del deber']\n",
    "df"
   ]
  },
  {
   "cell_type": "code",
   "execution_count": 154,
   "metadata": {},
   "outputs": [
    {
     "data": {
      "text/plain": [
       "<AxesSubplot:>"
      ]
     },
     "execution_count": 154,
     "metadata": {},
     "output_type": "execute_result"
    },
    {
     "data": {
      "image/png": "[encoded data removed]",
      "text/plain": [
       "<Figure size 432x288 with 1 Axes>"
      ]
     },
     "metadata": {
      "needs_background": "light"
     },
     "output_type": "display_data"
    }
   ],
   "source": [
    "df.plot()"
   ]
  },
  {
   "cell_type": "markdown",
   "metadata": {},
   "source": [
    "**Comparación:**\n",
    "<br> La mayoría del tiempo el algoritmo de la clase y del deber van de la par en tiempo de ejecución."
   ]
  },
  {
   "cell_type": "markdown",
   "metadata": {},
   "source": [
    "<br>La solución se basó en la explicación de las 2 resoluciones, propuestas en clase por Alejandro Proaño\n",
    "<br>**Referencias:**\n",
    "<br>&ensp;Proaño,A.(2022).Queue.https://github.com/aproano2/cmp-3002-fall22-aproano/blob/master/week6/Queues.pdf\n",
    "<br>&ensp;Proaño,A.(2022).Queue.https://github.com/aproano2/cmp-3002-fall22-aproano/blob/master/week6/queues.ipynb"
   ]
  },
  {
   "cell_type": "markdown",
   "metadata": {},
   "source": [
    "### **4. Complete la clase PriorityQueue, de modo que cuando llamemos a dequeue, se devolverá el elemento con mayor prioridad. Analice la complejidad del tiempo de ejecución y la memoria de los métodos de enqueue y dequeue.**"
   ]
  },
  {
   "cell_type": "raw",
   "metadata": {},
   "source": [
    "A = [4, 2, 7, 5, 9] #O(n^2)\n",
    "\n",
    "B = [1, 3, 4, 5] inserte 2 en B, de modo que B todavía esté ordenado No O (n ^ 2)."
   ]
  },
  {
   "cell_type": "code",
   "execution_count": 185,
   "metadata": {},
   "outputs": [],
   "source": [
    "class PriorityQueue(object):\n",
    "    \"\"\"\n",
    "    Implementation of the queue data structure\n",
    "    \"\"\"\n",
    "\n",
    "    def __init__(self, n):\n",
    "        self.l = 0\n",
    "        self.n = n\n",
    "        self.queue = self._create_queue(self.n)        \n",
    "    \n",
    "    def _create_queue(self, n):\n",
    "        \"\"\"\n",
    "        Creates a new stack of capacity n\n",
    "        \"\"\"\n",
    "        return (n * ctypes.py_object)()\n",
    "    \n",
    "    def enqueue(self, item):\n",
    "        \"\"\"\n",
    "        Add new item to the queue\n",
    "        \"\"\"\n",
    "        if self.l == self.n:\n",
    "            raise ValueError(\"no more capacity\")\n",
    "        self.queue[self.l] = item\n",
    "        self.l += 1\n",
    "    \n",
    "    def traverse(self):\n",
    "       for i in range(self.l):\n",
    "           print(self.queue[i])\n",
    "           self.queue[i]\n",
    "           i+=1\n",
    "   \n",
    "    def sort(self):\n",
    "        for i in range(1, self.l):\n",
    "            index = self.queue[i]\n",
    "            j = i-1\n",
    "            while j >=0 and index < self.queue[j] :\n",
    "                self.queue[j+1] = self.queue[j]\n",
    "                j -= 1\n",
    "                self.queue[j+1] = index"
   ]
  },
  {
   "cell_type": "code",
   "execution_count": 186,
   "metadata": {},
   "outputs": [],
   "source": [
    "class PriorityQueue(PriorityQueue):\n",
    "    def dequeue(self): \n",
    "        self.sort() \n",
    "        new = [] \n",
    "        for i in range(self.l):\n",
    "            new[i]=self.queue[i]\n",
    "            self.queue = new\n",
    "            self.l -=1 \n",
    "        return self.queue[self.l]"
   ]
  },
  {
   "cell_type": "code",
   "execution_count": 190,
   "metadata": {},
   "outputs": [],
   "source": [
    "q = PriorityQueue(10)\n",
    "q.enqueue((45,52))\n",
    "q.enqueue((54,89))\n",
    "q.enqueue((34,35))"
   ]
  },
  {
   "cell_type": "code",
   "execution_count": 191,
   "metadata": {},
   "outputs": [
    {
     "name": "stdout",
     "output_type": "stream",
     "text": [
      "[(34, 35), (45, 52), (54, 89)]\n"
     ]
    }
   ],
   "source": [
    "q.sort()\n",
    "print(q.queue[0:q.l])"
   ]
  },
  {
   "cell_type": "markdown",
   "metadata": {},
   "source": [
    "**Análisis:**\n",
    "<br>&ensp;La complejidad de enqueue es $O(1)$ y la complejidad de dequeue es $O(n)$ esto se debe a el for dentro de la función."
   ]
  },
  {
   "cell_type": "markdown",
   "metadata": {},
   "source": [
    "<br>**Referencias:**\n",
    "<br>Proaño,A.(2022).Analysis Part 2 solns.https://github.com/aproano2/cmp-3002-fall22-aproano/blob/master/week2-3/analysis-part2-solns.ipynb"
   ]
  },
  {
   "cell_type": "markdown",
   "metadata": {},
   "source": [
    "### **5. Una lista enlazada dada (simple o doblemente) representa un número entero. Por ejemplo, 345 está representado por la lista de enlace simple 3 -> 4 ->5. Escriba un programa en Python que haga lo siguiente:**\n",
    "<br>&ensp; &ensp; &ensp; &ensp; **1.Recibe tres enteros A, B y C como entradas. Suponga que los tres números tienen el mismo número de dígitos.**\n",
    "<br>&ensp; &ensp; &ensp; &ensp; **2. Transformar los números a sus correspondientes listas enlazadas**\n",
    "<br>&ensp; &ensp; &ensp; &ensp; **3. Implementar la suma de los tres números. El resultado A + B + C debe almacenarse en una lista enlazada.**\n",
    "<br>&ensp; &ensp; &ensp; &ensp;**4. Imprime el resultado recorriendo la lista.**\n",
    "<br>&ensp; &ensp; &ensp; &ensp;**5. Ejecute su programa para números de 1 a 100 dígitos y capture el tiempo de ejecución.Utilice estos números para estimar la complejidad del tiempo de ejecución.**\n",
    "<br>&ensp; &ensp; &ensp; &ensp;**Sugerencia: escribe una pequeña función que use randint() para generar un número de una cantidad dada de dígitos.**\n",
    "<br>&ensp; &ensp; &ensp; &ensp; **6. Estime analíticamente la complejidad del tiempo de ejecución y compárela con la obtenida en (5).**"
   ]
  },
  {
   "cell_type": "raw",
   "metadata": {},
   "source": [
    "3->4->5\n",
    "1->2->3\n",
    "5->6->7\n",
    "---------\n",
    "1->0->3->5"
   ]
  },
  {
   "cell_type": "code",
   "execution_count": 192,
   "metadata": {},
   "outputs": [
    {
     "data": {
      "text/plain": [
       "50"
      ]
     },
     "execution_count": 192,
     "metadata": {},
     "output_type": "execute_result"
    }
   ],
   "source": [
    "import random\n",
    "len(str(random.randint(10**49, 10**50)))"
   ]
  },
  {
   "cell_type": "code",
   "execution_count": 193,
   "metadata": {},
   "outputs": [],
   "source": [
    "class Node:\n",
    "    \"\"\"\n",
    "    Implementation of a node\n",
    "    \"\"\"\n",
    "    def __init__(self, val=None):\n",
    "        self.val = val\n",
    "        self.next_node = None\n",
    "    \n",
    "    def set_next_node(self, next_node):\n",
    "        self.next_node = next_node\n",
    "        \n",
    "class Singly_linked_list:\n",
    "    \"\"\"\n",
    "    Implementation of a singly linked list\n",
    "    \"\"\"\n",
    "    def __init__(self, head_node=None):\n",
    "        self.head_node = head_node\n",
    "        \n",
    "    def list_traversed(self):\n",
    "        node = self.head_node\n",
    "        while node:\n",
    "            print(node.val)\n",
    "            node = node.next_node\n",
    "\n",
    "\"Clase que contiene los metodos de la singly linked list\"\n",
    "class Singly_linked_list(Singly_linked_list):\n",
    "    \n",
    "    def insert_tail(self, new_node):\n",
    "        if self.head_node:\n",
    "            node = self.head_node\n",
    "            while node.next_node:\n",
    "                node =node.next_node\n",
    "            node.next_node = new_node\n",
    "        else:\n",
    "            self.head_node = new_node\n",
    "            \n",
    "    \"\"\"\n",
    "    Funcion que recorre la lista enlazada - linked list\n",
    "    \"\"\"\n",
    "    def list_traversed(self):\n",
    "        node = self.head_node\n",
    "        while node:\n",
    "            print(node.val,\"->\" , end = \" \")\n",
    "            node = node.next_node\n",
    "    \n",
    "    \"\"\"\n",
    "    Funcion que invierte la lista enlazada -linked list\n",
    "    \"\"\"\n",
    "    def list_reverse(self):\n",
    "        prev = None\n",
    "        node = self.head_node     \n",
    "        #Si la cabeza esta vacia o no hay un nodo con el que intercambiar\n",
    "        if not self.head_node or not self.head_node.next_node:\n",
    "            return self.head_node\n",
    "        else:\n",
    "            #Se atraviesa la lista\n",
    "            while node:  \n",
    "                # A-> B-> C-> D-> E->null\n",
    "                next_node= node.next_node\n",
    "                node.next_node = prev\n",
    "                # E nueva head node\n",
    "                prev = node \n",
    "                # E-> D->...\n",
    "                node = next_node\n",
    "                \n",
    "        self.head_node =prev"
   ]
  },
  {
   "cell_type": "code",
   "execution_count": 194,
   "metadata": {},
   "outputs": [],
   "source": [
    "\"\"\"\n",
    "Funcion que transforma numero a singly linked\n",
    "\"\"\"\n",
    "def num_to_list(num):\n",
    "    lista=Singly_linked_list()\n",
    "    for i in str(num):\n",
    "        lista.insert_tail(Node(int(i)))\n",
    "    return lista"
   ]
  },
  {
   "cell_type": "code",
   "execution_count": 197,
   "metadata": {},
   "outputs": [],
   "source": [
    "def sum_list(list1,list2,list3):\n",
    "    #Para suma se revierte la lista para poder hacer unidades,decenas,etc\n",
    "    list1.list_reverse()\n",
    "    list2.list_reverse()\n",
    "    list3.list_reverse()\n",
    "    \n",
    "    suma_lista = Singly_linked_list\n",
    "    num_llevando = 0\n",
    "    \n",
    "    temp_suma = list1.head_node.val+list2.head_node.val+list3.head_node.val+num_llevando\n",
    "    if (temp_suma>10):\n",
    "        suma_lista.head_node=(temp_suma-10)\n",
    "        num_llevando=1\n",
    "        \n",
    "        suma_lista.list_traversed()\n",
    "        return suma_lista"
   ]
  },
  {
   "cell_type": "code",
   "execution_count": 198,
   "metadata": {},
   "outputs": [
    {
     "name": "stdout",
     "output_type": "stream",
     "text": [
      "\n",
      " Linked list 1: \n",
      "3 -> 4 -> 5 -> \n",
      " Linked list 2: \n",
      "2 -> 8 -> 9 -> \n",
      " Linked list 3: \n",
      "7 -> 1 -> 6 -> \n",
      " Suma total: \n"
     ]
    }
   ],
   "source": [
    "print(\"\\n Linked list 1: \")   \n",
    "list1=num_to_list(345)\n",
    "list1.list_traversed()\n",
    "print(\"\\n Linked list 2: \") \n",
    "list2=num_to_list(289)\n",
    "list2.list_traversed()\n",
    "print(\"\\n Linked list 3: \") \n",
    "list3=num_to_list(716)\n",
    "list3.list_traversed()\n",
    "print(\"\\n Suma total: \") "
   ]
  },
  {
   "cell_type": "markdown",
   "metadata": {},
   "source": [
    "<br>**Referencias:**\n",
    "<br>&ensp;Camninante, D. (2020).What is the best way to make a singly linked list of integer digits in Python?.https://stackoverflow.com/questions/61689323/what-is-the-best-way-to-make-a-singly-linked-list-of-integer-digits-in-python"
   ]
  }
 ],
 "metadata": {
  "kernelspec": {
   "display_name": "Python 3 (ipykernel)",
   "language": "python",
   "name": "python3"
  },
  "language_info": {
   "codemirror_mode": {
    "name": "ipython",
    "version": 3
   },
   "file_extension": ".py",
   "mimetype": "text/x-python",
   "name": "python",
   "nbconvert_exporter": "python",
   "pygments_lexer": "ipython3",
   "version": "3.9.12"
  }
 },
 "nbformat": 4,
 "nbformat_minor": 4
}
