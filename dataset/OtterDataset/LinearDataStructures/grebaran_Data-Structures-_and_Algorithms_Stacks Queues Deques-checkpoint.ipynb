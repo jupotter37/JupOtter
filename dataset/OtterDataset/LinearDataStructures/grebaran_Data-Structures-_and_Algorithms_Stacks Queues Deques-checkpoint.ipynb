{
 "cells": [
  {
   "cell_type": "markdown",
   "metadata": {},
   "source": [
    "# Stacks - Queues - Deques"
   ]
  },
  {
   "cell_type": "markdown",
   "metadata": {},
   "source": [
    "## İçerik\n",
    "* [Stacks](#1)\n",
    "* [Stacks with Python](#2)\n",
    "* [Queues](#3)\n",
    "* [Queues with Python](#4)\n",
    "* [Deques](#5)\n",
    "* [Deques with Python](#6)\n",
    "* [Stacks Queues Deques İş Mülakatları Soru-Cevap](#7)\n",
    "* [Stacks Queues Deques Python Challenge/Problem](#8)\n",
    "* [Neler Öğrendik](#99)"
   ]
  },
  {
   "cell_type": "markdown",
   "metadata": {},
   "source": [
    "<a id=\"1\"></a>\n",
    "## Stacks (Yığın)\n",
    "* Yığın Nedir?: Yığın (stack), verilerin sadece bir uçtan, yani \"top\" kısmından eklenip çıkarıldığı bir veri yapısıdır.\n",
    "* LIFO Prensibi: Yığın, LIFO (Last In, First Out) prensibine göre çalışır. Yani, en son eklenen veri ilk çıkar.\n",
    "* Temel Terimler:\n",
    "    * Top: Yığının en üstündeki elemandır. Eklemeler ve çıkarmalar bu kısımdan yapılır.\n",
    "    * Base: Yığının alt kısmıdır. İlk eklenen eleman burada bulunur.\n",
    "\n",
    "* Ana İşlemler:\n",
    "    * Push: Yığına yeni bir eleman ekler.\n",
    "    * Pop: Yığından en üstteki elemanı çıkarır.\n",
    "    * Top: Yığının en üstündeki elemanı gösterir.\n",
    "\n",
    "\n",
    "*Örneğin, bir uçağın sadece ön kapısından yolcu alıp indirdiğini düşünün. Son gelen yolcu ilk inen olur; işte bu yığının çalışma mantığıdır.\n",
    "\n",
    "\n",
    "\n",
    "<img src=\"stack.jpg\"></img>\n"
   ]
  },
  {
   "cell_type": "markdown",
   "metadata": {},
   "source": [
    "<a id=\"2\"></a>\n",
    "## Stacks with Python "
   ]
  },
  {
   "cell_type": "code",
   "execution_count": 1,
   "metadata": {},
   "outputs": [],
   "source": [
    "class Stack:\n",
    "    \n",
    "    def __init__(self):\n",
    "        \"\"\"\n",
    "        initialize (constructor)\n",
    "        \"\"\"\n",
    "        self.items = []\n",
    "        \n",
    "    def isEmpty(self):\n",
    "        \"\"\"\n",
    "        bos olup olmadigini kontrol eder\n",
    "        \"\"\"\n",
    "        return self.items == []  # boolean operation\n",
    "    \n",
    "    def push(self,item):\n",
    "        \"\"\"\n",
    "        stack'e item ekler\n",
    "        \"\"\"\n",
    "        self.items.append(item)\n",
    "    \n",
    "    def pop(self):\n",
    "        \"\"\"\n",
    "        stack'ten item cikarma\n",
    "        \"\"\"\n",
    "        return self.items.pop()\n",
    "    \n",
    "    def top(self):\n",
    "        \"\"\"\n",
    "        stack icerisindeki son item'i gosterir (ekleme ve çıkarma sondan yapılır unutmayın)\n",
    "        \"\"\"\n",
    "        return self.items[len(self.items)-1]\n",
    "    def base(self):\n",
    "\n",
    "        \"\"\"\n",
    "        stack içerisindeki ilk item değerini döndürür (hani resimde allta kalan kısım varya işte o burası)\n",
    "        \"\"\"\n",
    "        return self.items[0]\n",
    "    \n",
    "    def size(self):\n",
    "        \"\"\"\n",
    "        size of stack\n",
    "        \"\"\"\n",
    "        return len(self.items)"
   ]
  },
  {
   "cell_type": "code",
   "execution_count": 4,
   "metadata": {},
   "outputs": [
    {
     "name": "stdout",
     "output_type": "stream",
     "text": [
      "True\n",
      "ankara\n",
      "istanbul\n",
      "izmir\n",
      "ankara\n",
      "3\n",
      "istanbul\n",
      "ankara\n",
      "False\n",
      "True\n"
     ]
    }
   ],
   "source": [
    "stack = Stack()\n",
    "print(stack.isEmpty())\n",
    "\n",
    "stack.push(\"ankara\")\n",
    "print(stack.top())\n",
    "\n",
    "stack.push(\"istanbul\")\n",
    "print(stack.top())\n",
    "\n",
    "stack.push(\"izmir\")\n",
    "print(stack.top())\n",
    "\n",
    "print(stack.base())\n",
    "\n",
    "print(stack.size())\n",
    "\n",
    "stack.pop()# izmir silindi\n",
    "print(stack.top())\n",
    "\n",
    "stack.pop() # istabul silindi\n",
    "print(stack.top())\n",
    "\n",
    "print(stack.isEmpty())\n",
    "\n",
    "stack.pop() # en son olarak da ankara silindi\n",
    "print(stack.isEmpty())\n",
    "\n"
   ]
  },
  {
   "cell_type": "markdown",
   "metadata": {},
   "source": [
    "<a id=\"3\"></a>\n",
    "## Queues (Sıra)\n",
    "* Queues (Kuyruk) Nedir?: Kuyruk (queue), verilerin \"rear\" (arka) kısmından eklenip \"front\" (ön) kısmından çıkarıldığı bir veri yapısıdır.\n",
    "* FIFO Prensibi: Kuyruk, FIFO (First In, First Out) prensibine göre çalışır. Yani, ilk eklenen veri ilk çıkar. Bunu bir yemekhane sırası gibi düşünebilirsiniz; ilk sıraya giren ilk yemek alır.\n",
    "\n",
    "\n",
    "* Temel İşlemler:\n",
    "    * Enqueue: Kuyruğa yeni bir eleman ekler.\n",
    "    * Dequeue: Kuyruktan en öndeki elemanı çıkarır.\n",
    "    \n",
    "* Örneğin, bir yemekhane kuyruğunda, sıraya ilk giren kişi ilk yemek alır; işte bu kuyruk yapısının mantığıdır.\n",
    "\n",
    "\n",
    "\n",
    "<img src=\"stack and queue.jpg\"></img>"
   ]
  },
  {
   "cell_type": "markdown",
   "metadata": {},
   "source": [
    "<a id=\"4\"></a>\n",
    "## Queues with Python "
   ]
  },
  {
   "cell_type": "code",
   "execution_count": 6,
   "metadata": {},
   "outputs": [],
   "source": [
    "class Queue:\n",
    "    \n",
    "    def __init__(self):\n",
    "        \"\"\"\n",
    "        initialize (constructor)\n",
    "        \"\"\"\n",
    "        self.items = []\n",
    "        \n",
    "    def isEmpty(self):\n",
    "        \"\"\"\n",
    "        bos olup olmadigini kontrol et\n",
    "        \"\"\"\n",
    "        return self.items == [] # bool operation\n",
    "    \n",
    "    def enqueue(self,item):\n",
    "        \"\"\"\n",
    "        queue item ekler\n",
    "\n",
    "        unutmayın burada her gelen değeri 0. indeks'e ekliyoruz. Peki neden?\n",
    "        Çünkü biz ilk giren ilk çıkar mantığını oluşturuyoruz. Yani çıkma işlemi nereden oluyor sondan!\n",
    "        Sondan çıkılıyorsa ilk giren elamanın mantıken en sonda olması lazım ve pesine gelen elamanların arkasına geçmesi lazım\n",
    "\n",
    "        Aynı yemekhane mantığı gibi bir kişi girdi ve diğerleri arkasına doğru diziliyor dimi. İşte burada ta tam olarak durum bu\n",
    "        \"\"\"\n",
    "        self.items.insert(0,item)\n",
    "\n",
    "        \n",
    "        \n",
    "    def dequeue(self):\n",
    "        \"\"\"\n",
    "        queue dan item cikartir\n",
    "        \"\"\"\n",
    "        return self.items.pop()\n",
    "    \n",
    "    def size(self):\n",
    "        \"\"\"\n",
    "        length of items(queue)\n",
    "        \"\"\"\n",
    "        return len(self.items)"
   ]
  },
  {
   "cell_type": "code",
   "execution_count": 7,
   "metadata": {},
   "outputs": [
    {
     "name": "stdout",
     "output_type": "stream",
     "text": [
      "True\n",
      "size:  2\n",
      "size:  1\n",
      "size:  0\n"
     ]
    },
    {
     "data": {
      "text/plain": [
       "True"
      ]
     },
     "execution_count": 7,
     "metadata": {},
     "output_type": "execute_result"
    }
   ],
   "source": [
    "queue = Queue()\n",
    "\n",
    "print(queue.isEmpty())\n",
    "\n",
    "queue.enqueue(\"ankara\")\n",
    "queue.enqueue(\"istanbul\")\n",
    "print(\"size: \",queue.size())\n",
    "\n",
    "queue.dequeue()\n",
    "print(\"size: \",queue.size())\n",
    "\n",
    "queue.dequeue()\n",
    "print(\"size: \",queue.size())\n",
    "queue.isEmpty()"
   ]
  },
  {
   "cell_type": "markdown",
   "metadata": {},
   "source": [
    "<a id=\"5\"></a>\n",
    "## Deque (Çift Uçlu Kuyruk)\n",
    "\n",
    "\n",
    "* Deque Nedir?: Deque, Double Ended Queue (Çift Uçlu Kuyruk) olarak bilinir. Hem \"front\" (ön) hem de \"rear\" (arka) kısmından veri ekleyip çıkarabileceğiniz bir veri yapısıdır.\n",
    "* İki Uçlu Yapı: Bu yapı sayesinde, verileri hem ön hem de arka uçtan işleyebilirsiniz.\n",
    "\n",
    "\n",
    "* Temel İşlemler:\n",
    "    * Enqueue Front: Veriyi kuyruk önüne ekler.\n",
    "    * Enqueue Rear: Veriyi kuyruk arkasına ekler.\n",
    "    * Dequeue Front: Kuyruğun önünden veri çıkarır.\n",
    "    * Dequeue Rear: Kuyruğun arkasından veri çıkarır.\n",
    "\n",
    "\n",
    "* Örneğin, bir otobüs durağında, hem ön kapıdan hem de arka kapıdan yolcu alabilir ve indirebilirsiniz; işte bu dequedeki çift uçlu yapının mantığıdır.\n",
    "\n",
    "\n",
    "<img src=\"sqd.jpg\"></img>"
   ]
  },
  {
   "cell_type": "markdown",
   "metadata": {},
   "source": [
    "<a id=\"6\"></a>\n",
    "## Deque with Python "
   ]
  },
  {
   "cell_type": "code",
   "execution_count": 8,
   "metadata": {},
   "outputs": [],
   "source": [
    "class Deque:\n",
    "    \n",
    "    def __init__(self):\n",
    "        \"\"\"\n",
    "        initialize (constructor)\n",
    "        \"\"\"\n",
    "        self.items = []\n",
    "        \n",
    "    def isEmpty(self):\n",
    "        \"\"\"\n",
    "        bos olup olmadigini kontrol et\n",
    "        \"\"\"\n",
    "        return self.items == [] # bool operation\n",
    "    \n",
    "    def addFront(self, item):\n",
    "        \"\"\"\n",
    "        front yani ön kısımdan değer ekliyoruz\n",
    "        \"\"\"\n",
    "        self.items.append(item)\n",
    "        \n",
    "        \n",
    "    def addRear(self, item):\n",
    "        \"\"\"\n",
    "        rear yani arka kısımdan değer ekliyoruz\n",
    "        \"\"\"\n",
    "        self.items.insert(0,item)\n",
    "        \n",
    "    def removeFront(self):\n",
    "        \"\"\"\n",
    "        front yani ön kısımdan veri çıkartıyoruz\n",
    "        \"\"\"\n",
    "        return self.items.pop()\n",
    "    \n",
    "    def removeRear(self):\n",
    "        \"\"\"\n",
    "        rear yani arka kısımdan veri çıkartıyoruz\n",
    "        \"\"\"\n",
    "        return self.items.pop(0)\n",
    "    \n",
    "    def size(self):\n",
    "        \"\"\"\n",
    "        length of deque\n",
    "        \"\"\"\n",
    "        return len(self.items)\n",
    "        "
   ]
  },
  {
   "cell_type": "code",
   "execution_count": 12,
   "metadata": {},
   "outputs": [
    {
     "name": "stdout",
     "output_type": "stream",
     "text": [
      "True\n",
      "size:  2\n",
      "liste  ['learning', 'deep']\n",
      "False\n",
      "True\n"
     ]
    }
   ],
   "source": [
    "deque = Deque()\n",
    "\n",
    "print(deque.isEmpty())\n",
    "deque.addFront(\"deep\")\n",
    "deque.addRear(\"learning\")\n",
    "print(\"size: \",deque.size())\n",
    "print(\"liste \", deque.items)# göründüğü gibi ön son oluyor arka ise en baş oluyor biraz kafa karıştırıcı evet ama deneme ile çözebilirsiniz.\n",
    "print(deque.isEmpty())\n",
    "deque.removeFront() # burada tahmin edin hangi değeri sildi? tabiki deep değerini\n",
    "deque.removeRear() # burada da tahmin ettiğiniz gibi learning değerini sildi\n",
    "print(deque.isEmpty())"
   ]
  },
  {
   "cell_type": "markdown",
   "metadata": {},
   "source": [
    "<a id=\"7\"></a>\n",
    "## Stacks Queues Deques İş Mülakatları Soru-Cevap \n",
    "* Linear Data Structure Örnekleri\n",
    "    * Array: Sabit boyutlu, indexlenebilir veri yapısı.\n",
    "    * Stacks: Last In, First Out (LIFO) prensibiyle çalışan veri yapısı.\n",
    "    * Queues: First In, First Out (FIFO) prensibiyle çalışan veri yapısı.\n",
    "    * Stacks (Yığın)\n",
    "\n",
    "* Stack Nedir?: Stack, son eklenen elemanın ilk çıkarıldığı bir veri yapısıdır. Bu yapı, LIFO (Last In, First Out) prensibine dayanır. Üç ana operasyonu vardır:\n",
    "    * Push: Yığına yeni bir eleman ekler.\n",
    "    * Pop: Yığından en üstteki elemanı çıkarır.\n",
    "    * Peek: Yığının en üstündeki elemanı gösterir, ancak çıkarmaz.\n",
    "\n",
    "* Stack'te Elemanlar Nasıl Depolanır?: Elemanlar, en son eklenenin ilk çıkarıldığı LIFO (Last In, First Out) prensibine göre depolanır.\n",
    "\n",
    "* Stack Performansı (Big-O):\n",
    "* <img src=\"stack_big_o.jpg\"></img>\n",
    "* Push, Pop ve Peek işlemleri her zaman O(1) zamanında tamamlanır, yani çok hızlıdır.\n",
    "\n",
    "* Avantajlar:\n",
    "    * Hızlı İşlemler: Stack işlemleri, O(1) zaman karmaşıklığı ile gerçekleştirilir.\n",
    "\n",
    "* Stack Başka Veri Yapılarıyla Kullanılabilir Mi?: Evet, stack'ler genellikle linked lists ve dynamic arrays ile kullanılır.\n",
    "\n",
    "* Stack Kullanım Alanları:\n",
    "\n",
    "1) (A) Fonksiyon çağrılarını yönetme\n",
    "2) (B) Stok aralığı problemi\n",
    "3) (C) Aritmetik ifadelerin değerlendirilmesi\n",
    "4) (D) String ayrıştırma\n",
    "5) (E) Tüm yukarıdakiler (Doğru seçenek: E)\n",
    "\n",
    "\n",
    "* Queues (Kuyruk)\n",
    "* Queue Nedir?: Queue, verilerin ilk giren ilk çıkar prensibine göre işlendiği bir veri yapısıdır. FIFO (First In, First Out) prensibine göre çalışır. \n",
    "\n",
    "* Temel işlemleri:\n",
    "    * Enqueue: Kuyruğa yeni bir eleman ekler.\n",
    "    * Dequeue: Kuyruktan en öndeki elemanı çıkarır.\n",
    "\n",
    "* Queue Performansı (Big-O):\n",
    "    * <img src=\"queue big o2.jpg\"></img>\n",
    "    * Enqueue ve Dequeue işlemleri her zaman O(1) zamanında tamamlanır.\n",
    "\n",
    "* Queue Kullanım Alanları:\n",
    "\n",
    "* Yazıcılar: İlk gelen yazdırılır.\n",
    "* Web Sunucuları: Gelen istekleri yönetmek için kullanılır.\n",
    "\n",
    "\n",
    "\n",
    "* Deque (Çift Uçlu Kuyruk)\n",
    "* Deque ve Diğer Veri Yapılarıyla İlişkisi:\n",
    "    * Deque, hem stack hem de queue işlevlerini bir arada sunar. Verileri hem ön hem de arka uçtan ekleyip çıkarabilirsiniz.\n",
    "    * Stack ve Queue özelliklerinin birleşimi olarak düşünülebilir.\n",
    "\n",
    "\n",
    "1) Stack ve Queue Veri Yapıları Ne Zaman Kullanılır?\n",
    "\n",
    "    * Cevap: Stack'ler genellikle geri dönüş (backtracking) ve fonksiyon çağrılarını yönetme gibi senaryolarda kullanılırken; Queue'lar, kaynak yönetimi ve işlem sıralaması gibi durumlarda kullanılır. Deque ise hem stack hem de queue işlevlerine ihtiyaç duyulduğunda kullanılır.\n",
    "\n",
    "\n",
    "2) Bir Stack Kullanarak Nasıl Bir Queue Uygularsınız?\n",
    "\n",
    "    * Cevap: Bir stack kullanarak queue uygulaması yapmak için iki stack kullanabilirsiniz. Birinci stack'e elemanları enqueue (eklemek) işlemiyle koyarsınız. Dequeue (çıkarmak) işlemi için, eğer ikinci stack boşsa, birinci stack'teki tüm elemanları ikinci stack'e tersine çevirerek geçirirsiniz. Böylece, ikinci stack'in en üstündeki elemanı çıkararak FIFO prensibini uygulamış olursunuz.\n",
    "\n",
    "\n",
    "3) Deque Kullanmanın Avantajları Nelerdir?\n",
    "\n",
    "    * Cevap: Deque, hem ön hem de arka uçlardan veri ekleyip çıkarabilme esnekliği sunar. Bu, veri yapısının çok yönlü olmasını sağlar ve hem stack hem de queue özelliklerini destekler. Bu özellik, özellikle uygulamalarda çift yönlü veri işlemlerine ihtiyaç duyulduğunda kullanışlıdır.\n"
   ]
  },
  {
   "cell_type": "markdown",
   "metadata": {},
   "source": [
    "<a id=\"8\"></a>\n",
    "## Stacks Queues Deques Python Challenge/Problem\n",
    "1. Stack Kullanarak String'in Tersini Bulmak\n",
    "2. Python da Listeyi Stack ve Queues Gibi Kullanmak\n",
    "3. İki Stack Kullanarak Queue yaratmak"
   ]
  },
  {
   "cell_type": "markdown",
   "metadata": {},
   "source": [
    "### 1) Stack Kullanarak String'in Tersini Bulmak\n",
    "* input: \"datai\"\n",
    "* output: \"iatad\"\n",
    "* input: \"machine learning\"\n",
    "* output: \"gninrael enihcam\"\n"
   ]
  },
  {
   "cell_type": "code",
   "execution_count": 15,
   "metadata": {},
   "outputs": [],
   "source": [
    "# define stack metod\n",
    "def createStack():\n",
    "    stack = []\n",
    "    return stack\n",
    "\n",
    "# stack size\n",
    "def size(stack):\n",
    "    return len(stack)\n",
    "\n",
    "# stack top method\n",
    "def top(stack):\n",
    "    return stack[-1]\n",
    "\n",
    "# isEmpty\n",
    "def isEmpty(stack):\n",
    "    return stack==[]\n",
    "\n",
    "# push method\n",
    "def push(stack,item):\n",
    "    stack.append(item)\n",
    "    \n",
    "# pop method\n",
    "def pop(stack):\n",
    "    return stack.pop()\n",
    "\n",
    "def reverse(string):\n",
    "    \n",
    "    n = len(string)\n",
    "    \n",
    "    stack = createStack()  # stack\n",
    "    \n",
    "    # string icerisindeki her bir harfi stack icerisine depola\n",
    "    for i in range(n):\n",
    "        push(stack,string[i])  # \"d\",\"a\",\"t\",\"a\",\"i\" stack = [\"d\",\"a\",\"t\",\"a\",\"i\"] \n",
    "     \n",
    "    new_string = \"\"\n",
    "    \n",
    "    # pop\n",
    "    for i in range(n):\n",
    "        new_string += pop(stack) # pop değeri sildiği elamanın çıktısını veriyor ya bu yüzden pop değeri kullanıyoruz\n",
    "    \n",
    "    return new_string"
   ]
  },
  {
   "cell_type": "code",
   "execution_count": 16,
   "metadata": {},
   "outputs": [
    {
     "name": "stdout",
     "output_type": "stream",
     "text": [
      "datai:  iatad\n",
      "machine learning:  gninrael enihcam\n"
     ]
    }
   ],
   "source": [
    "print(\"datai: \",reverse(\"datai\"))\n",
    "print(\"machine learning: \",reverse(\"machine learning\"))"
   ]
  },
  {
   "cell_type": "markdown",
   "metadata": {},
   "source": [
    "### 2) Python da Listeyi Stack ve Queues Gibi Kullanmak "
   ]
  },
  {
   "cell_type": "code",
   "execution_count": 19,
   "metadata": {},
   "outputs": [
    {
     "name": "stdout",
     "output_type": "stream",
     "text": [
      "['datai', 'ml', 'ai', 'deep', 'learning']\n",
      "learning\n",
      "['datai', 'ml', 'ai', 'deep']\n",
      "deep\n",
      "['datai', 'ml', 'ai']\n"
     ]
    }
   ],
   "source": [
    "# liste kullanarak stack yapmak\n",
    "stack = [\"datai\",\"ml\",\"ai\"] # liste\n",
    "stack.append(\"deep\")\n",
    "stack.append(\"learning\")  # append = push\n",
    "print(stack)\n",
    "print(stack.pop())\n",
    "print(stack)\n",
    "print(stack.pop())\n",
    "print(stack)\n",
    "\n",
    "# burada elamanı en sağa ekliyoruz ve en son giren elaman ilk çıkar mantığı ile en sondaki elamanı siliyoruz\n",
    "# aşşağıda da pop kullanarak en sondaki elamanı silicez eğer kafanız karışırsa merak etme devam edin birazdan açıklayacağız"
   ]
  },
  {
   "cell_type": "code",
   "execution_count": 18,
   "metadata": {},
   "outputs": [
    {
     "name": "stdout",
     "output_type": "stream",
     "text": [
      "deque(['datai', 'ml', 'ai'])\n",
      "deque(['deep', 'datai', 'ml', 'ai'])\n",
      "deque(['learning', 'deep', 'datai', 'ml', 'ai'])\n",
      "deque(['learning', 'deep', 'datai', 'ml'])\n",
      "deque(['learning', 'deep', 'datai'])\n"
     ]
    }
   ],
   "source": [
    "# liste ve deque kullanarak queue yapmak\n",
    "from collections import deque\n",
    "queue = deque([\"datai\",\"ml\",\"ai\"])\n",
    "print(queue)\n",
    "queue.insert(0,\"deep\")\n",
    "print(queue)\n",
    "queue.insert(0,\"learning\")\n",
    "print(queue)\n",
    "queue.pop()\n",
    "print(queue)\n",
    "queue.pop()\n",
    "print(queue)\n",
    "\n",
    "# elaman çıkacağı zaman ilk giren eleman çıkar bu yüzden en sağdaki elaman silinir ve bunun için pop kullanılır\n",
    "# insert ile de en sağa elaman eklenir ve bunlar da listeden en son çıkarlar"
   ]
  },
  {
   "cell_type": "markdown",
   "metadata": {},
   "source": [
    "### Kafası Karışanlar İçin\n",
    "\n",
    "Şimdi her iki tarafta da pop kullandık ve en sağdaki elamanı sildik peki ben listenin en başının ya da en sonun neresi olduğunu nasıl bilebilirim diye sorabilirsiniz. Hadi bunu açıklayalım. Aslında baş ya da son kendimiz belirliyoruz. Mesala stack kullanacaksak ve yeni gelen elamanları en sağa ekleyecek isek elaman çıkarımını da yine en sağdan yapacağız. Eğer elamanları en sola doğru ekleseydik bu seferde en soldan çıkarma yapacaktık ve çıkış kapısı artık sol taraf olacaktı.\n",
    "\n",
    "Queues yapısı için de aynı şey geçerli mesala burada da eğer elamanları en sola eklersek bu sefer sağdan çıkarma işlemi yaparız. En sağa eklersek de en soldan çıkarma işlemi yaparız\n",
    "\n",
    "Yani temel mantık aynı: Stack de ilk giren ilk çıkar yani eleman hangi bölgeden giriyor ise oradan çıkacaktır. Queues de ise elaman bir yerden girer evet ama tersinden çıkar yani stack için tam tersi. Ne kadar basit di mi?"
   ]
  },
  {
   "cell_type": "markdown",
   "metadata": {},
   "source": [
    "### 3) İki Stack Kullanarak Queue yaratmak"
   ]
  },
  {
   "cell_type": "code",
   "execution_count": 21,
   "metadata": {},
   "outputs": [],
   "source": [
    "class Queue2Stack(object):\n",
    "    \n",
    "    def __init__(self):\n",
    "        \"\"\"\n",
    "        initialize 2 stacks\n",
    "        \"\"\"\n",
    "        self.stack1 = []\n",
    "        self.stack2 = []\n",
    "        \n",
    "    def enqueue(self, item):\n",
    "        \"\"\"\n",
    "        stack'e item eklemek ama queue yaratmak icin\n",
    "        \"\"\"\n",
    "        self.stack1.append(item)\n",
    "        \n",
    "    def dequeue(self):\n",
    "        \"\"\"\n",
    "        yani stack1 üzerinde geziniyoruz ve stack2 içine atıyoruz\n",
    "        \"\"\"\n",
    "        if not self.stack2:\n",
    "            while len(self.stack1) > 0:\n",
    "                self.stack2.append(self.stack1.pop()) # sondan aldığımızı başa ekliyoruz yani sonuçta [3,2,1] oluyor\n",
    "        \n",
    "        return self.stack2.pop()"
   ]
  },
  {
   "cell_type": "code",
   "execution_count": 22,
   "metadata": {},
   "outputs": [
    {
     "name": "stdout",
     "output_type": "stream",
     "text": [
      "1\n",
      "2\n",
      "3\n"
     ]
    }
   ],
   "source": [
    "# queue object\n",
    "queue = Queue2Stack()\n",
    "queue.enqueue(\"1\") # ilk giren değer burası\n",
    "queue.enqueue(\"2\")\n",
    "queue.enqueue(\"3\")\n",
    "print(queue.dequeue())# ilk çıkan değer de yine 1 oluyor\n",
    "print(queue.dequeue())\n",
    "print(queue.dequeue())"
   ]
  }
 ],
 "metadata": {
  "kernelspec": {
   "display_name": "Python 3",
   "language": "python",
   "name": "python3"
  },
  "language_info": {
   "codemirror_mode": {
    "name": "ipython",
    "version": 3
   },
   "file_extension": ".py",
   "mimetype": "text/x-python",
   "name": "python",
   "nbconvert_exporter": "python",
   "pygments_lexer": "ipython3",
   "version": "3.12.0"
  }
 },
 "nbformat": 4,
 "nbformat_minor": 2
}
