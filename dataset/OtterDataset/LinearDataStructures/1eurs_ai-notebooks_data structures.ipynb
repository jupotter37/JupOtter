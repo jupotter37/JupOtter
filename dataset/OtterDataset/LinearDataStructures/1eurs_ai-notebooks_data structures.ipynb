{
 "cells": [
  {
   "cell_type": "code",
   "execution_count": 9,
   "id": "39181b16-8fac-4818-ac90-6cc2931949cf",
   "metadata": {},
   "outputs": [],
   "source": [
    "class MyArray:\n",
    "    def __init__(self, size):\n",
    "        self.array = [None] * size\n",
    "\n",
    "    def set_value(self, index, value):\n",
    "        self.array[index] = value\n",
    "\n",
    "    def get_value(self, index):\n",
    "        return self.array[index]"
   ]
  },
  {
   "cell_type": "code",
   "execution_count": 18,
   "id": "fb3a775d-96c2-4056-8309-6e27dd43ab4f",
   "metadata": {},
   "outputs": [
    {
     "name": "stdout",
     "output_type": "stream",
     "text": [
      "30\n"
     ]
    }
   ],
   "source": [
    "my_array = MyArray(5)\n",
    "my_array.set_value(0, 10)\n",
    "my_array.set_value(2, 30)\n",
    "print(my_array.get_value(2))"
   ]
  },
  {
   "cell_type": "code",
   "execution_count": 20,
   "id": "d43b48d3-c394-4319-a687-9fe2fbcb0f1f",
   "metadata": {},
   "outputs": [],
   "source": [
    "class Node:\n",
    "    def __init__(self, data):\n",
    "        self.data = data\n",
    "        self.next = None\n",
    "\n",
    "class LinkedList:\n",
    "    def __init__(self):\n",
    "        self.head = None\n",
    "\n",
    "    def add(self, data):\n",
    "        new_node = Node(data)\n",
    "        new_node.next = self.head\n",
    "        self.head = new_node\n",
    "\n",
    "    def display(self):\n",
    "        current = self.head\n",
    "        while current:\n",
    "            print(current.data, end=\" \")\n",
    "            current = current.next"
   ]
  },
  {
   "cell_type": "code",
   "execution_count": 22,
   "id": "40a3d8e7-eb21-4fd5-851b-5e00043e44ea",
   "metadata": {},
   "outputs": [
    {
     "name": "stdout",
     "output_type": "stream",
     "text": [
      "3 2 1 "
     ]
    }
   ],
   "source": [
    "ll = LinkedList()\n",
    "ll.add(1)\n",
    "ll.add(2)\n",
    "ll.add(3)\n",
    "ll.display()"
   ]
  },
  {
   "cell_type": "code",
   "execution_count": 23,
   "id": "7d01a78a-b906-4123-888d-dcd491dc9f4d",
   "metadata": {},
   "outputs": [],
   "source": [
    "class Stack:\n",
    "    def __init__(self):\n",
    "        self.stack = []\n",
    "\n",
    "    def push(self, item):\n",
    "        self.stack.append(item)\n",
    "\n",
    "    def pop(self):\n",
    "        return self.stack.pop()\n",
    "\n",
    "    def peek(self):\n",
    "        return self.stack[-1]\n",
    "\n",
    "    def is_empty(self):\n",
    "        return len(self.stack) == 0"
   ]
  },
  {
   "cell_type": "code",
   "execution_count": 24,
   "id": "0d73c2ee-5972-44d0-b778-627bdcfb275b",
   "metadata": {},
   "outputs": [
    {
     "name": "stdout",
     "output_type": "stream",
     "text": [
      "3\n"
     ]
    }
   ],
   "source": [
    "stack = Stack()\n",
    "stack.push(1)\n",
    "stack.push(2)\n",
    "stack.push(3)\n",
    "print(stack.pop())"
   ]
  },
  {
   "cell_type": "code",
   "execution_count": 25,
   "id": "50421a60-452e-4b74-baeb-999350861c24",
   "metadata": {},
   "outputs": [],
   "source": [
    "class Queue:\n",
    "    def __init__(self):\n",
    "        self.queue = []\n",
    "\n",
    "    def enqueue(self, item):\n",
    "        self.queue.append(item)\n",
    "\n",
    "    def dequeue(self):\n",
    "        return self.queue.pop(0)\n",
    "\n",
    "    def is_empty(self):\n",
    "        return len(self.queue) == 0"
   ]
  },
  {
   "cell_type": "code",
   "execution_count": 26,
   "id": "31ef49e7-44d2-4169-941b-e6bdef0aeec7",
   "metadata": {},
   "outputs": [
    {
     "name": "stdout",
     "output_type": "stream",
     "text": [
      "1\n"
     ]
    }
   ],
   "source": [
    "queue = Queue()\n",
    "queue.enqueue(1)\n",
    "queue.enqueue(2)\n",
    "queue.enqueue(3)\n",
    "print(queue.dequeue())"
   ]
  },
  {
   "cell_type": "code",
   "execution_count": 27,
   "id": "da43e2f9-dd3a-4329-b354-b9905462b66f",
   "metadata": {},
   "outputs": [],
   "source": [
    "class TreeNode:\n",
    "    def __init__(self, data):\n",
    "        self.data = data\n",
    "        self.left = None\n",
    "        self.right = None\n",
    "\n",
    "class BinaryTree:\n",
    "    def __init__(self, root):\n",
    "        self.root = TreeNode(root)\n",
    "\n",
    "    def display(self, node):\n",
    "        if node:\n",
    "            print(node.data, end=\" \")\n",
    "            self.display(node.left)\n",
    "            self.display(node.right)"
   ]
  },
  {
   "cell_type": "code",
   "execution_count": 28,
   "id": "9acc7d39-9e35-453a-a727-4fc43e234b44",
   "metadata": {},
   "outputs": [
    {
     "name": "stdout",
     "output_type": "stream",
     "text": [
      "1 2 3 "
     ]
    }
   ],
   "source": [
    "bt = BinaryTree(1)\n",
    "bt.root.left = TreeNode(2)\n",
    "bt.root.right = TreeNode(3)\n",
    "bt.display(bt.root)"
   ]
  },
  {
   "cell_type": "code",
   "execution_count": 29,
   "id": "87999648-9d83-46ce-b472-7d8a1767c90b",
   "metadata": {},
   "outputs": [],
   "source": [
    "class HashTable:\n",
    "    def __init__(self, size):\n",
    "        self.size = size\n",
    "        self.table = [None] * size\n",
    "\n",
    "    def get_hash(self, key):\n",
    "        return hash(key) % self.size\n",
    "\n",
    "    def set(self, key, value):\n",
    "        hash_index = self.get_hash(key)\n",
    "        self.table[hash_index] = value\n",
    "\n",
    "    def get(self, key):\n",
    "        hash_index = self.get_hash(key)\n",
    "        return self.table[hash_index]"
   ]
  },
  {
   "cell_type": "code",
   "execution_count": 30,
   "id": "4bb001cd-3c81-4184-8c10-2ab2212ec6f9",
   "metadata": {},
   "outputs": [
    {
     "name": "stdout",
     "output_type": "stream",
     "text": [
      "value1\n"
     ]
    }
   ],
   "source": [
    "ht = HashTable(10)\n",
    "ht.set('key1', 'value1')\n",
    "print(ht.get('key1'))"
   ]
  },
  {
   "cell_type": "code",
   "execution_count": 31,
   "id": "feab7f2f-2ca6-48a3-8ee5-4a6546e6a50e",
   "metadata": {},
   "outputs": [],
   "source": [
    "class Graph:\n",
    "    def __init__(self):\n",
    "        self.graph = {}\n",
    "\n",
    "    def add_edge(self, u, v):\n",
    "        if u in self.graph:\n",
    "            self.graph[u].append(v)\n",
    "        else:\n",
    "            self.graph[u] = [v]\n",
    "\n",
    "    def display(self):\n",
    "        for node in self.graph:\n",
    "            print(f\"{node} -> {self.graph[node]}\")"
   ]
  },
  {
   "cell_type": "code",
   "execution_count": 32,
   "id": "4aa37ecf-6bcb-4dd0-bf49-314e16b344b2",
   "metadata": {},
   "outputs": [
    {
     "name": "stdout",
     "output_type": "stream",
     "text": [
      "1 -> [2, 3]\n"
     ]
    }
   ],
   "source": [
    "graph = Graph()\n",
    "graph.add_edge(1, 2)\n",
    "graph.add_edge(1, 3)\n",
    "graph.display()"
   ]
  },
  {
   "cell_type": "code",
   "execution_count": 33,
   "id": "931879d8-ea1f-4470-926a-8abf56d80e89",
   "metadata": {},
   "outputs": [
    {
     "name": "stdout",
     "output_type": "stream",
     "text": [
      "1\n",
      "[1, 2, 3, 4, 5, 6]\n"
     ]
    }
   ],
   "source": [
    "my_list = [1, 2, 3, 4, 5]\n",
    "print(my_list[0])  # Accessing the first element\n",
    "my_list.append(6)  # Adding an element to the end\n",
    "print(my_list)\n"
   ]
  },
  {
   "cell_type": "code",
   "execution_count": 34,
   "id": "ff7bf1fb-3c95-45f8-a074-4ed36fd034ad",
   "metadata": {},
   "outputs": [
    {
     "name": "stdout",
     "output_type": "stream",
     "text": [
      "[1, 2, 3, 4]\n"
     ]
    }
   ],
   "source": [
    "# Python lists can be used as a substitute for a linked list\n",
    "linked_list_like = [1, 2, 3]\n",
    "linked_list_like.append(4)  # Appending like a linked list\n",
    "print(linked_list_like)\n"
   ]
  },
  {
   "cell_type": "code",
   "execution_count": 35,
   "id": "f48fa048-ff0b-4ff5-86bf-8a9016c58274",
   "metadata": {},
   "outputs": [
    {
     "name": "stdout",
     "output_type": "stream",
     "text": [
      "3\n"
     ]
    }
   ],
   "source": [
    "stack = []\n",
    "stack.append(1)\n",
    "stack.append(2)\n",
    "stack.append(3)\n",
    "print(stack.pop())  # Pops 3\n"
   ]
  },
  {
   "cell_type": "code",
   "execution_count": 36,
   "id": "898753cf-ad58-493c-8577-49cd5a59c2f9",
   "metadata": {},
   "outputs": [
    {
     "name": "stdout",
     "output_type": "stream",
     "text": [
      "1\n"
     ]
    }
   ],
   "source": [
    "from collections import deque\n",
    "\n",
    "queue = deque()\n",
    "queue.append(1)  # Enqueue\n",
    "queue.append(2)\n",
    "print(queue.popleft())  # Dequeue, prints 1\n"
   ]
  },
  {
   "cell_type": "code",
   "execution_count": 37,
   "id": "ea2045d7-bb79-4014-a5d7-5fd9823e90f6",
   "metadata": {},
   "outputs": [
    {
     "name": "stdout",
     "output_type": "stream",
     "text": [
      "{'root': {'left': 1, 'right': 2}}\n"
     ]
    }
   ],
   "source": [
    "# Using dictionaries\n",
    "tree = {'root': {'left': 1, 'right': 2}}\n",
    "print(tree)\n"
   ]
  },
  {
   "cell_type": "code",
   "execution_count": 38,
   "id": "1f32f423-9c54-4db6-b39e-204f6e78901d",
   "metadata": {},
   "outputs": [
    {
     "name": "stdout",
     "output_type": "stream",
     "text": [
      "value1\n",
      "{'key1': 'value1', 'key2': 'value2', 'key3': 'value3'}\n"
     ]
    }
   ],
   "source": [
    "hash_table = {'key1': 'value1', 'key2': 'value2'}\n",
    "print(hash_table['key1'])  # Accessing a value\n",
    "hash_table['key3'] = 'value3'  # Setting a new key-value pair\n",
    "print(hash_table)\n"
   ]
  },
  {
   "cell_type": "code",
   "execution_count": 39,
   "id": "fd7255d4-262e-48e9-8ecc-ff096845ba9d",
   "metadata": {},
   "outputs": [
    {
     "name": "stdout",
     "output_type": "stream",
     "text": [
      "{1: [2, 3], 2: [4, 5], 3: [6]}\n"
     ]
    }
   ],
   "source": [
    "graph = {1: [2, 3], 2: [4, 5], 3: [6]}\n",
    "print(graph)\n"
   ]
  },
  {
   "cell_type": "code",
   "execution_count": null,
   "id": "53137b37-8f0b-49b2-ab19-d24a952438ee",
   "metadata": {},
   "outputs": [],
   "source": []
  }
 ],
 "metadata": {
  "kernelspec": {
   "display_name": "Python 3 (ipykernel)",
   "language": "python",
   "name": "python3"
  },
  "language_info": {
   "codemirror_mode": {
    "name": "ipython",
    "version": 3
   },
   "file_extension": ".py",
   "mimetype": "text/x-python",
   "name": "python",
   "nbconvert_exporter": "python",
   "pygments_lexer": "ipython3",
   "version": "3.10.12"
  }
 },
 "nbformat": 4,
 "nbformat_minor": 5
}
