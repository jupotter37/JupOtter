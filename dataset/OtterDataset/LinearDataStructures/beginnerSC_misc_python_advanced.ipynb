{
 "cells": [
  {
   "cell_type": "markdown",
   "metadata": {},
   "source": [
    "# Python Advanced"
   ]
  },
  {
   "cell_type": "markdown",
   "metadata": {},
   "source": [
    "## Set Instance Attributes on the Fly\n",
    "\n",
    "* `__getattribute__` is called for all attribute access, regardless of whether the attribute exists or not.\n",
    "* `__getattr__` is called when an attribute is not found in `__getattribute__`\n",
    "* Example from [here](https://medium.com/@satishgoda/python-attribute-access-using-getattr-and-getattribute-6401f7425ce6): "
   ]
  },
  {
   "cell_type": "code",
   "execution_count": 8,
   "metadata": {},
   "outputs": [],
   "source": [
    "class Yeah(object):\n",
    "    def __init__(self, name):\n",
    "        self.name = name\n",
    "        \n",
    "    # Gets called when an attribute is accessed\n",
    "    def __getattribute__(self, item):\n",
    "        print('__getattribute__ '+ item)\n",
    "        # Calling the super class to avoid recursion\n",
    "        return super(Yeah, self).__getattribute__(item)\n",
    "        \n",
    "    # Gets called when the item is not found via __getattribute__\n",
    "    def __getattr__(self, item):\n",
    "        print('__getattr__ '+ item)\n",
    "        return super(Yeah, self).__setattr__(item, 'orphan')"
   ]
  },
  {
   "cell_type": "code",
   "execution_count": 3,
   "metadata": {},
   "outputs": [
    {
     "name": "stdout",
     "output_type": "stream",
     "text": [
      "__getattribute__ name\n"
     ]
    },
    {
     "data": {
      "text/plain": [
       "'yes'"
      ]
     },
     "execution_count": 3,
     "metadata": {},
     "output_type": "execute_result"
    }
   ],
   "source": [
    "y1 = Yeah('yes')\n",
    "y1.name"
   ]
  },
  {
   "cell_type": "code",
   "execution_count": 4,
   "metadata": {},
   "outputs": [
    {
     "name": "stdout",
     "output_type": "stream",
     "text": [
      "__getattribute__ foo\n",
      "__getattr__ foo\n"
     ]
    }
   ],
   "source": [
    "y1.foo"
   ]
  },
  {
   "cell_type": "code",
   "execution_count": 5,
   "metadata": {},
   "outputs": [
    {
     "name": "stdout",
     "output_type": "stream",
     "text": [
      "__getattribute__ foo\n"
     ]
    },
    {
     "data": {
      "text/plain": [
       "'orphan'"
      ]
     },
     "execution_count": 5,
     "metadata": {},
     "output_type": "execute_result"
    }
   ],
   "source": [
    "y1.foo"
   ]
  },
  {
   "cell_type": "code",
   "execution_count": 6,
   "metadata": {},
   "outputs": [
    {
     "name": "stdout",
     "output_type": "stream",
     "text": [
      "__getattribute__ goo\n",
      "__getattr__ goo\n"
     ]
    }
   ],
   "source": [
    "y1.goo"
   ]
  },
  {
   "cell_type": "code",
   "execution_count": 7,
   "metadata": {},
   "outputs": [
    {
     "name": "stdout",
     "output_type": "stream",
     "text": [
      "__getattribute__ __dict__\n"
     ]
    },
    {
     "data": {
      "text/plain": [
       "{'name': 'yes', 'foo': 'orphan', 'goo': 'orphan'}"
      ]
     },
     "execution_count": 7,
     "metadata": {},
     "output_type": "execute_result"
    }
   ],
   "source": [
    "y1.__dict__"
   ]
  },
  {
   "cell_type": "markdown",
   "metadata": {},
   "source": [
    "## Singleton"
   ]
  },
  {
   "cell_type": "code",
   "execution_count": 1,
   "metadata": {},
   "outputs": [
    {
     "data": {
      "text/plain": [
       "True"
      ]
     },
     "execution_count": 1,
     "metadata": {},
     "output_type": "execute_result"
    }
   ],
   "source": [
    "class Singleton:\n",
    "    _instance = None\n",
    "\n",
    "    def __new__(cls):\n",
    "        if not cls._instance:\n",
    "            cls._instance = super(Singleton, cls).__new__(cls)\n",
    "        return cls._instance\n",
    "\n",
    "o1 = Singleton()\n",
    "o2 = Singleton()\n",
    "\n",
    "o1 is o2"
   ]
  },
  {
   "cell_type": "markdown",
   "metadata": {},
   "source": [
    "* `super(Singleton, cls)` returns a temporary object of the superclass, which in this case is object as every class in Python inherits from object by default\n",
    "* `__new__(cls)` is a special method in Python classes that is responsible for instance creation. It takes the class (not the instance) as the first argument followed by any additional arguments if needs"
   ]
  },
  {
   "cell_type": "markdown",
   "metadata": {},
   "source": [
    "## [AsyncIO](https://www.youtube.com/watch?v=K56nNuBEd0c)\n",
    "\n",
    "* The `async` keyword makes a function (subroutine) a coroutine\n",
    "    * Subroutines block the process, coroutines don't\n",
    "* An `async` coroutine can have awaitable statements (starting with the `await` keyword) which specify where in the coroutine is safe to pause and yield control to other coroutines\n",
    "    * `await` can only be put in front of a statement that is awaitable\n",
    "    * `time.sleep(3)` is not awaitable. Its awaitable version is `asyncio.sleep(3)`\n",
    "* `brew_coffee()` is not a regular function call. It returns a coroutine object which can be gathered with other coroutines\n",
    "* Can either create a batch with `asyncio.gather` or a single task by `asyncio.create_task`\n",
    "* To run the coroutines:\n",
    "    * `await` the created task or batch, or\n",
    "    * `asyncio.run` it (doesn't work in Jupyter)\n",
    "* main function has an `await` statement now so it must become an `async` coroutine"
   ]
  },
  {
   "cell_type": "code",
   "execution_count": 1,
   "metadata": {},
   "outputs": [
    {
     "name": "stdout",
     "output_type": "stream",
     "text": [
      "Start brew_coffee()\n",
      "Start toast_bagel()\n",
      "End toast_bagel()\n",
      "End brew_coffee()\n",
      "Result of brew_coffee: Coffee ready\n",
      "Result of toast_bagel: Bagel ready\n",
      "Total execution time: 3.00 seconds\n"
     ]
    }
   ],
   "source": [
    "import asyncio\n",
    "import time\n",
    "\n",
    "async def brew_coffee():\n",
    "    print('Start brew_coffee()')\n",
    "    await asyncio.sleep(3)\n",
    "    print('End brew_coffee()')\n",
    "    return 'Coffee ready'\n",
    "\n",
    "async def toast_bagel():\n",
    "    print('Start toast_bagel()')\n",
    "    await asyncio.sleep(2)\n",
    "    print('End toast_bagel()')\n",
    "    return 'Bagel ready'\n",
    "\n",
    "async def main1():\n",
    "    start_time = time.time()\n",
    "\n",
    "    #########################################################\n",
    "    batch = asyncio.gather(brew_coffee(), toast_bagel())\n",
    "    result_coffee, result_bagel = await batch\n",
    "    #########################################################\n",
    "    \n",
    "    end_time = time.time()\n",
    "    elapsed_time = end_time - start_time\n",
    "\n",
    "    print(f'Result of brew_coffee: {result_coffee}')\n",
    "    print(f'Result of toast_bagel: {result_bagel}')\n",
    "    print(f'Total execution time: {elapsed_time:.2f} seconds')\n",
    "\n",
    "async def main2():\n",
    "    start_time = time.time()\n",
    "\n",
    "    #########################################################\n",
    "    coffee_task = asyncio.create_task(brew_coffee())\n",
    "    bagel_task = asyncio.create_task(toast_bagel())\n",
    "\n",
    "    result_coffee = await coffee_task\n",
    "    result_bagel = await bagel_task\n",
    "    #########################################################\n",
    "\n",
    "    end_time = time.time()\n",
    "    elapsed_time = end_time - start_time\n",
    "\n",
    "    print(f'Result of brew_coffee: {result_coffee}')\n",
    "    print(f'Result of toast_bagel: {result_bagel}')\n",
    "    print(f'Total execution time: {elapsed_time:.2f} seconds')\n",
    "\n",
    "\n",
    "# asyncio.run(main1())    # RuntimeError: asyncio.run() cannot be called from a running event loop\n",
    "\n",
    "main_task = asyncio.create_task(main2())\n",
    "res = await main_task\n"
   ]
  },
  {
   "cell_type": "code",
   "execution_count": 2,
   "metadata": {},
   "outputs": [],
   "source": [
    "# simple version\n",
    "\n",
    "import asyncio\n",
    "\n",
    "async def brew_coffee():\n",
    "    await asyncio.sleep(3)\n",
    "\n",
    "async def main():\n",
    "    coffee_task = asyncio.create_task(brew_coffee())\n",
    "    result_coffee = await coffee_task\n",
    "\n",
    "    # same way to call main(): await a asyncio created task\n",
    "    # or asyncio.run(main()) which doesn't work in Jupyter"
   ]
  },
  {
   "cell_type": "markdown",
   "metadata": {},
   "source": [
    "### AsyncIO and Multiprocessing\n",
    "\n",
    "* Asyncio enables concurrency, but not parallelism by default\n",
    "* You can achieve parallelism by integrating thread pools and process pools\n",
    "* **Asyncio shines for I/O-bound workloads, like network calls and file operations**\n",
    "* For CPU-bound tasks, multiprocessing may provide better utilization"
   ]
  },
  {
   "cell_type": "code",
   "execution_count": 3,
   "metadata": {},
   "outputs": [],
   "source": [
    "# Example by ChatGPT, working when run by python but not in Jupyter\n",
    "\n",
    "import asyncio\n",
    "from concurrent.futures import ProcessPoolExecutor\n",
    "\n",
    "def cpu_bound_task(n):\n",
    "    import time\n",
    "    time.sleep(2)\n",
    "    return f'Task {n} result'\n",
    "\n",
    "async def main():\n",
    "    loop = asyncio.get_running_loop()\n",
    "    with ProcessPoolExecutor() as executor:\n",
    "        tasks = [loop.run_in_executor(executor, cpu_bound_task, i) for i in range(5)]\n",
    "        res = await asyncio.gather(*tasks)\n",
    "        print(res)\n",
    "\n",
    "# if __name__ == '__main__':\n",
    "#     asyncio.run(main())"
   ]
  },
  {
   "cell_type": "markdown",
   "metadata": {},
   "source": [
    "### AsyncIO and Decorator\n",
    "\n",
    "* [Need two decorators?](https://stackoverflow.com/questions/42043226/using-a-coroutine-as-decorator)\n",
    "* [A decorator that can wrap both functions and coroutines](https://stackoverflow.com/questions/42043226/using-a-coroutine-as-decorator/77604618#77604618) -- using `inspect.iscoroutinefunction`"
   ]
  },
  {
   "cell_type": "markdown",
   "metadata": {},
   "source": [
    "### AsyncIO for Fixings Registration"
   ]
  },
  {
   "cell_type": "code",
   "execution_count": 2,
   "metadata": {},
   "outputs": [],
   "source": [
    "# __init__.py\n",
    "\n",
    "import asyncio\n",
    "\n",
    "data = None\n",
    "data_ready = asyncio.Event()\n",
    "\n",
    "async def get_data():\n",
    "    global data\n",
    "    # 模擬抓取資料的耗時操作\n",
    "    await asyncio.sleep(3)\n",
    "    data = {\"key\": \"value\"}\n",
    "    data_ready.set()\n",
    "\n",
    "def init():\n",
    "    asyncio.create_task(get_data())\n",
    "\n",
    "# 初始化\n",
    "init()"
   ]
  },
  {
   "cell_type": "code",
   "execution_count": 5,
   "metadata": {},
   "outputs": [],
   "source": [
    "# client code, bar is the pricing function\n",
    "\n",
    "import asyncio\n",
    "from concurrent.futures import ThreadPoolExecutor\n",
    "\n",
    "data = None\n",
    "data_ready = asyncio.Event()\n",
    "executor = ThreadPoolExecutor(max_workers=1)\n",
    "\n",
    "def prepare_data():\n",
    "    # 模擬一個耗時計算\n",
    "    import time\n",
    "    time.sleep(5)\n",
    "    return {\"key\": \"value\"}\n",
    "\n",
    "async def get_data():\n",
    "    global data\n",
    "    loop = asyncio.get_event_loop()\n",
    "    data = await loop.run_in_executor(executor, prepare_data)\n",
    "    data_ready.set()\n",
    "\n",
    "def bar():\n",
    "    loop = asyncio.get_event_loop()\n",
    "    if not data_ready.is_set():\n",
    "        loop.run_until_complete(data_ready.wait())\n",
    "    print(f\"Data is ready: {data}\")\n",
    "\n",
    "async def main():\n",
    "    await init()\n",
    "    print(\"Doing other tasks while waiting for data...\")\n",
    "    await asyncio.sleep(1)\n",
    "    print(\"Still doing other tasks...\")\n",
    "    bar()\n",
    "\n",
    "async def init():\n",
    "    asyncio.create_task(get_data())\n",
    "\n",
    "# 執行範例\n",
    "# asyncio.run(main())\n"
   ]
  },
  {
   "cell_type": "markdown",
   "metadata": {},
   "source": [
    "## Computing Grid Summary\n",
    "\n",
    "* 3 packages + workers env: \n",
    "* `qmagrid_server`\n",
    "    * `multiprocessing.managers.BaseManager.register` shared data structures in the network\n",
    "    * Shared `multiprocessing.Manager().Queue()` and `multiprocessing.Manager().dict()`: \n",
    "        * `waiting_q` (Queue)\n",
    "        * `working_q` (dict)\n",
    "        * `result_q` (dict)\n",
    "        * `status_q` (dict)\n",
    "        * `machine_q` (dict)\n",
    "    * `multiprocessing.Manager()` data structures have lock so is safe\n",
    "    * monitor by Plotly Dash displaying status queue contents\n",
    "* `qmagrid_client`\n",
    "    * Depends on the `Job` class in the worker package\n",
    "    * Implements context manager `QMAGridExecutor` to send cloudpicked jobs to `waiting_q` and wait to collect results from `result_q`\n",
    "```python\n",
    "with QMAGridExecutor() as executor:\n",
    "      executor.map(f, args_list)\n",
    "```\n",
    "* `qmagrid_worker`\n",
    "    * cmd commands to run `start_one_worker`, `start_pct_workers`, `start_n_workers` and `stop_all_workers`\n",
    "    * `start_n_workers` (`start_pct_workers`) simply `subprocess.Popen`s `start_one_worker` n times and start sending status report\n",
    "    * `start_one_worker` checks `waiting_q` constantly and if there is a job, do the following\n",
    "        * pop from `waiting_q` and push to `working_q`\n",
    "        * run the job\n",
    "        * pop from `working_q` and push the result to `result_q`\n",
    "    * It does so as long as the corresponding status report remains in the `status_q`\n",
    "    * Parses a config file to determine  (WIP)\n",
    "        * Server IP (which grid?)\n",
    "        * Percentage of all logical cores to contribute\n",
    "* The `workers` env\n",
    "    * Turn on workers in this env to make sure of consistent package versions\n",
    "    * A watcher process watching a commands.txt on shared drive. Once the file is modified, execute the commands in it"
   ]
  },
  {
   "cell_type": "markdown",
   "metadata": {},
   "source": [
    "## The QMA Python Package Summary\n",
    "\n",
    "* Conveniently call requests on trades: \n",
    "    * `Swaption().NPV()`\n",
    "        * Default instruments swaption is 1y10y\n",
    "        * Can call Delta, Gamma, Vega, etc.\n",
    "    * Live trade support\n",
    "        * `Trade(12345678).NPV()`\n",
    "    * Flexible requests\n",
    "        * `BermudanSwaption().CalibrationInfo()`\n",
    "    * Trade spec attributes\n",
    "        * `Trade(12345678).notional()` or currency, etc. \n",
    "        * From trade JSON, not from the core library, but users don't need to know\n",
    "* Singleton `MarketEnv` context manager class\n",
    "* Config file:\n",
    "    * Quants default `MarketEnv` to previous day EOD, while traders default to today LIVE\n",
    "    * Default books and products for trade population, extendible to other businesses\n",
    "    * Default env: prod, dev or pat\n",
    "* Job scheduler: \n",
    "    * Which computers run which functions at what times with what arguments specified in a `scheduled_jobs.csv`\n",
    "    * Examples:\n",
    "        * Copytree\n",
    "        * Check if a file exists at certain time and send email notifications\n",
    "* Debug sheet generation\n",
    "    * `Trade(12345678).excel_render()`\n",
    "* `auto_spreadsheet()`\n",
    "* AsyncIO for fixings registration"
   ]
  },
  {
   "cell_type": "markdown",
   "metadata": {},
   "source": [
    "## List Comprehension With Multiple For Loops\n",
    "\n",
    "The following are [equivalent](https://docs.python.org/3/tutorial/datastructures.html#list-comprehensions): "
   ]
  },
  {
   "cell_type": "code",
   "execution_count": 1,
   "metadata": {
    "tags": []
   },
   "outputs": [
    {
     "data": {
      "text/plain": [
       "[(1, 3), (1, 4), (2, 3), (2, 1), (2, 4), (3, 1), (3, 4)]"
      ]
     },
     "execution_count": 1,
     "metadata": {},
     "output_type": "execute_result"
    }
   ],
   "source": [
    "[(x, y) for x in [1,2,3] for y in [3,1,4] if x != y]"
   ]
  },
  {
   "cell_type": "code",
   "execution_count": 2,
   "metadata": {
    "tags": []
   },
   "outputs": [
    {
     "data": {
      "text/plain": [
       "[(1, 3), (1, 4), (2, 3), (2, 1), (2, 4), (3, 1), (3, 4)]"
      ]
     },
     "execution_count": 2,
     "metadata": {},
     "output_type": "execute_result"
    }
   ],
   "source": [
    "combs = []\n",
    "for x in [1,2,3]:\n",
    "    for y in [3,1,4]:\n",
    "        if x != y:\n",
    "            combs.append((x, y))\n",
    "combs"
   ]
  },
  {
   "cell_type": "markdown",
   "metadata": {},
   "source": [
    "## Virtual Environments\n",
    "\n",
    "* `python -m venv \".myenv\"` to create\n",
    "* `source .myenv/bin/activate` to activate on linux\n",
    "* `.myenv/Scripts/activate.bat` to activate on windows \n",
    "* `deactivate` to deactivate"
   ]
  },
  {
   "cell_type": "markdown",
   "metadata": {},
   "source": [
    "## [redbull.py](https://github.com/christophercylai/python/blob/main/redbull.py)\n",
    "\n",
    "```python\n",
    "r\"\"\"\n",
    "This script keeps the computer awake by pressing right ctrl key every SEC seconds\n",
    "Put this script in $USERPROFILE\\Downloads for easy access\n",
    "To setup using PowerShell:\n",
    "> cd $env:USERPROFILE\\Downloads\n",
    "> python -m venv .venv\n",
    "> .venv\\Scripts\\activate\n",
    "> pip install --trusted-host files.pythonhosted.org --trusted-host pypi.org pyautogui\n",
    "> python redbull.py\n",
    "\"\"\"\n",
    "import pyautogui\n",
    "from time import sleep\n",
    "\n",
    "SEC = 180\n",
    "pyautogui.FAILSAFE = False\n",
    "\n",
    "while True:\n",
    "    sleep(SEC)\n",
    "    pyautogui.press('ctrlright')\n",
    "```"
   ]
  },
  {
   "cell_type": "markdown",
   "metadata": {},
   "source": [
    "## Where Is My Python? "
   ]
  },
  {
   "cell_type": "code",
   "execution_count": 1,
   "metadata": {},
   "outputs": [
    {
     "data": {
      "text/plain": [
       "'/srv/conda/envs/notebook/bin'"
      ]
     },
     "execution_count": 1,
     "metadata": {},
     "output_type": "execute_result"
    }
   ],
   "source": [
    "import sys, os\n",
    "\n",
    "os.path.dirname(sys.executable)"
   ]
  },
  {
   "cell_type": "markdown",
   "metadata": {},
   "source": [
    "## pip\n",
    "\n",
    "* `pip uninstall` 只能在 shell 裡用，notebook 沒辦法用，因為會有 `continue? (y/n)`\n",
    "* Configure pip to install from other server\n",
    "    * `pip config -v list` 查 config 都去哪裡找（[so](https://stackoverflow.com/questions/28278207/python-cant-find-pip-ini-or-pip-conf-in-windows)）\n",
    "    ```\n",
    "        For variant 'global', will try loading 'C:\\ProgramData\\pip\\pip.ini'\n",
    "        For variant 'user', will try loading 'C:\\Users\\foobar\\pip\\pip.ini'\n",
    "        For variant 'user', will try loading 'C:\\Users\\foobar\\AppData\\Roaming\\pip\\pip.ini'\n",
    "        For variant 'site', will try loading 'C:\\Python38\\pip.ini'\n",
    "    ```\n",
    "    * 去這些 folder 建一個 `pip.ini` 裡面貼\n",
    "    ```\n",
    "        [global]\n",
    "        timeout = 60\n",
    "        index = https://repo.abc.com/repository/pypi-all/pypi\n",
    "        index-url = https://repo.abc.com/repository/pypi-all/simple\n",
    "        trusted-host = repo.abc.com\n",
    "    ```\n",
    "    * 也可以直接在 shell 執行下面四行，log 會自己顯示 config file 存到哪去了\n",
    "    ```\n",
    "        pip config set global.timeout 60\n",
    "        pip config set global.index https://repo.abc.com/repository/pypi-all/pypi\n",
    "        pip config set global.index-url https://repo.abc.com/repository/pypi-all/simple\n",
    "        pip config set global.trusted-host repo.abc.com\n",
    "    ```"
   ]
  },
  {
   "cell_type": "markdown",
   "metadata": {},
   "source": [
    "## Code Packaging\n",
    "\n",
    "* install locally\n",
    "    * `cd` to the top project directory where `setup.py` is \n",
    "    * `python setup.py install` or `pip install .` or `pip install -e .` [for developer install](https://stackoverflow.com/questions/19048732/python-setup-py-develop-vs-install)\n",
    "* [All license badges](https://gist.github.com/lukas-h/2a5d00690736b4c3a7ba)\n",
    "* Upload to PyPI: `cd` to the top project directory where `setup.py` is \n",
    "\n",
    "```sh\n",
    "git checkout 0.0.1\n",
    "python setup.py sdist\n",
    "twine check dist/*\n",
    "twine upload --repository-url https://test.pypi.org/legacy/ dist/*\n",
    "twine upload dist/*\n",
    "```\n",
    "\n",
    "* 每次 implement 一個新的 function，如果 test 裡需要 import，要記得先加進 `__init__.py` 裡\n",
    "* Remove a package from PyPI\n",
    "    * Login > your projects > pyminimax > Manage > Settings > Delete project\n",
    "* [Deploying a Cython Package to PyPI](https://levelup.gitconnected.com/how-to-deploy-a-cython-package-to-pypi-8217a6581f09)\n",
    "* [Building a conda package and uploading it to Anaconda Cloud (medium)](https://giswqs.medium.com/building-a-conda-package-and-uploading-it-to-anaconda-cloud-6a3abd1c5c52)\n",
    "* [How to put a swig/pybind11 C++ project on pypi (so)](https://stackoverflow.com/questions/42656388/how-to-put-a-swig-pybind11-c-project-on-pypi)"
   ]
  },
  {
   "cell_type": "markdown",
   "metadata": {},
   "source": [
    "## C and C++ Extensions\n",
    "\n",
    "* CPython is the [reference implementation](https://en.wikipedia.org/wiki/Reference_implementation) of the Python programming language\n",
    "* [Python Bindings: Calling C or C++ From Python (Real Python)](https://realpython.com/python-bindings-overview/)\n",
    "    * ctypes\n",
    "    * CFFI\n",
    "    * pybind11：改自 Boost.Python，較快但只支援 c++11 或更新的版本\n",
    "    * Cython\n",
    "    * Other Solutions\n",
    "        * SWIG\n",
    "    * [這裡](https://github.com/diegoferigo/cmake-build-extension)說最常用的是 SWIG 和 pybind11\n",
    "* [Building C and C++ Extensions with distutils (Python Doc)](https://docs.python.org/3/extending/building.html#building-c-and-c-extensions-with-distutils)\n",
    "    * `python setup.py build` 會編譯 `ext_modules` 裡指定的 c code，但指定在這裡的 c code 需要是處理 PyObject 的才能在 Python 裡不透過 `ctypes` 直接呼叫\n",
    "    * 如果 target machine 有 c/c++ compiler（linux 都有）可能可以直接 source distribute C extensions\n",
    "    * [Mac OS 自帶 clang](https://stackoverflow.com/questions/33007724/can-a-c-program-run-on-mac-os)\n",
    "    * Windows 不一定有 compiler 所以至少需要 Windows Wheel\n",
    "* [cibuildwheel](https://github.com/pypa/cibuildwheel)\n",
    "    * GitHub Actions building wheels in all common platforms\n",
    "    * by [Python Packaging Authority](https://www.pypa.io/en/latest/), also see [Python Packaging User Guide](https://packaging.python.org/)\n",
    "* [cmake-build-extension](https://github.com/diegoferigo/cmake-build-extension)\n",
    "    * Setuptools extension to build and package CMake projects\n",
    "    * CMake 自帶 SWIG 和 pybind11 support。這個包把 setuptools 和 CMake 接起來，可以直接在 setup.py configure CMake project"
   ]
  },
  {
   "cell_type": "markdown",
   "metadata": {},
   "source": [
    "### SWIG\n",
    "\n",
    "* 要先 `sudo apt install swig`\n",
    "* [Official Doc](http://www.swig.org) 和 David \"Mr. Swig\" Beazley 寫的 [PyCon 2008 slides](http://www.dabeaz.com/SwigMaster/SWIGMaster.pdf)\n",
    "* 可以把 c/c++ 接到多種語言，只要寫同一份 interface files (*.i)\n",
    "* 如果 Extension source files 裡有 interface file，distutils/setuptools 會自動跑 SWIG。看 [Python doc](https://docs.python.org/3.6/distutils/setupscript.html#extension-source-files) 和 [PyCon 2008 slides](http://www.dabeaz.com/SwigMaster/SWIGMaster.pdf) 第 22 頁\n",
    "    * 應該是這台機器上要先灌好 SWIG 才行\n",
    "    * 所以應該沒辦法直接 source distribute *.i\n",
    "    * 如果一台機器上有 c/c++ compiler，倒是可以 source distribute SWIG 產生的 wrapper\n",
    "    * [Python doc](https://docs.python.org/3.6/distutils/setupscript.html#extension-source-files) 示範了怎麼 package SWIG：在 setup 裡放 `py_modules=['foo'],` 和 `ext_modules=[Extension('_foo', ['foo.i'], swig_opts=['-modern', '-I../include'])],`\n",
    "* Python module [必需是 so 或 pyd file](https://docs.python.org/3/extending/building.html#building-c-and-c-extensions-with-distutils)，而且原碼的 c 函數 input/output type 要是 PyObject。SWIG 只負責看著正常的 c 函數寫 wrapper\n",
    "* [這裡](https://www.youtube.com/watch?v=g8--GrdlqGw)有講怎麼接 numpy array\n",
    "* [也有可以從 c++ 呼叫 Python 函數](https://stackoverflow.com/questions/12392703/what-is-the-cleanest-way-to-call-a-python-function-from-c-with-a-swig-wrapped)\n",
    "* 更多 c++ class 相關看[這裡](http://www.swig.org/Doc1.3/SWIGDocumentation.html#SWIGPlus)\n",
    "* Example\n",
    "    * `swig -c++ -python libswig.i` 產生 `libswig_wrap.cxx` 和 `libswig.py`\n",
    "        * `libswig.py` 是 module frond end\n",
    "        * `libswig_wrap.cxx` 是 wrapper code，裡面有 input/output type 都是 PyObject 的 c 函數\n",
    "        * 這兩個檔是 portable，和平台無關。所有有 c 編譯器的機器上都可以編譯這個 Python module，也不需要 SWIG\n",
    "        * 如果只是 c code 而沒有 c++ 可以省略 `-c++` flag：`swig -python libswig.i`，產生出來的 wrapper 會是 `libswig_wrap.c` 而不是 cxx\n",
    "        * 用 g++ 編譯 c++，用 gcc 編譯 c\n",
    "    * 把 `libswig_wrap.cpp` 和 `libswig.cxx` 一起編譯。`-I` 是 include，後面的 path 裡放了 Python 相關的 header files，例如 `Python.h`\n",
    "\n",
    "```cpp\n",
    "// libswig.cpp\n",
    "\n",
    "#include \"libswig.hpp\"\n",
    "\n",
    "std::vector<int> my_range(int n){   \n",
    "    \n",
    "    std::vector<int> vec = {};\n",
    "    for (int i=0 ; i<n ; i++)\n",
    "    {\n",
    "        vec.push_back(i);\n",
    "    }\n",
    "    return vec;    \n",
    "}\n",
    "double square(double x){\n",
    "    return x*x;\n",
    "}\n",
    "double cube(double x){\n",
    "    return x*x*x;\n",
    "}\n",
    "```\n",
    "\n",
    "```cpp\n",
    "// libswig.hpp\n",
    "\n",
    "#include<vector>\n",
    "\n",
    "std::vector<int> my_range(int n);\n",
    "double square(double x);\n",
    "double cube(double x);\n",
    "```\n",
    "\n",
    "```cpp\n",
    "// libswig.i\n",
    "\n",
    "%module libswig\n",
    "%{\n",
    "#include \"libswig.hpp\"\n",
    "%}\n",
    "#define __version__ \"0.0.1\";\n",
    "std::vector<int> my_range(int n);    // or simply  %include \"libswig.hpp\"\n",
    "double square(double x);\n",
    "double cube(double x);\n",
    "```"
   ]
  },
  {
   "cell_type": "code",
   "execution_count": 1,
   "metadata": {},
   "outputs": [],
   "source": [
    "!swig -c++ -python libswig.i"
   ]
  },
  {
   "cell_type": "code",
   "execution_count": 2,
   "metadata": {},
   "outputs": [],
   "source": [
    "!g++ -fPIC -c libswig.cpp libswig_wrap.cxx -I/srv/conda/envs/notebook/include/python3.7m"
   ]
  },
  {
   "cell_type": "code",
   "execution_count": 3,
   "metadata": {},
   "outputs": [],
   "source": [
    "!g++ -shared libswig.o libswig_wrap.o -o _libswig.so"
   ]
  },
  {
   "cell_type": "code",
   "execution_count": 4,
   "metadata": {},
   "outputs": [
    {
     "data": {
      "text/plain": [
       "('0.0.1',\n",
       " 25.0,\n",
       " 125.0,\n",
       " <Swig Object of type 'std::vector< int > *' at 0x7ff1047bcea0>)"
      ]
     },
     "execution_count": 4,
     "metadata": {},
     "output_type": "execute_result"
    }
   ],
   "source": [
    "import libswig\n",
    "\n",
    "libswig.__version__, libswig.square(5), libswig.cube(5), libswig.my_range(5)"
   ]
  },
  {
   "cell_type": "markdown",
   "metadata": {},
   "source": [
    "### Cython\n",
    "\n",
    "* Example from [here](https://github.com/shekhar270779/Learn_Pandas/blob/master/Cython%20in%20Jupyter-notebook.ipynb) and [this tutorial](https://www.youtube.com/watch?v=CC0IkiNByV4)\n",
    "* `pip install Cython`\n",
    "* `%%cpython` 開頭的 cell 會被 cython 編譯，`%%cpython -a` 可以看哪一行有回到 python\n",
    "* Python code 寫好之後 type 所有變數。type casting 用例如 `<double> i`\n",
    "* 函數可以宣告成 def，cdef 或 cpdef\n",
    "* [不好 debug](https://stackoverflow.com/questions/32888501/debug-cython-code-pyx-when-using-the-python-debugger-pdb-best-practice)\n",
    "* 實測不能 decorate cpdef 函數（為什麼？）\n",
    "* 實測非 level one function（例如函數裡的函數）不能 cpdef"
   ]
  },
  {
   "cell_type": "code",
   "execution_count": 1,
   "metadata": {},
   "outputs": [],
   "source": [
    "%load_ext cython"
   ]
  },
  {
   "cell_type": "code",
   "execution_count": 8,
   "metadata": {},
   "outputs": [],
   "source": [
    "# Python version\n",
    "def pyfac_loop(n):\n",
    "    r = 1.0\n",
    "    for i in range(1, n+1):\n",
    "        r *= i\n",
    "    return r"
   ]
  },
  {
   "cell_type": "code",
   "execution_count": 16,
   "metadata": {},
   "outputs": [
    {
     "data": {
      "text/html": [
       "<!DOCTYPE html>\n",
       "<!-- Generated by Cython 0.29.24 -->\n",
       "<html>\n",
       "<head>\n",
       "    <meta http-equiv=\"Content-Type\" content=\"text/html; charset=utf-8\" />\n",
       "    <title>Cython: _cython_magic_f1b0bfaa9dd99dd25796948e61b32169.pyx</title>\n",
       "    <style type=\"text/css\">\n",
       "    \n",
       "body.cython { font-family: courier; font-size: 12; }\n",
       "\n",
       ".cython.tag  {  }\n",
       ".cython.line { margin: 0em }\n",
       ".cython.code { font-size: 9; color: #444444; display: none; margin: 0px 0px 0px 8px; border-left: 8px none; }\n",
       "\n",
       ".cython.line .run { background-color: #B0FFB0; }\n",
       ".cython.line .mis { background-color: #FFB0B0; }\n",
       ".cython.code.run  { border-left: 8px solid #B0FFB0; }\n",
       ".cython.code.mis  { border-left: 8px solid #FFB0B0; }\n",
       "\n",
       ".cython.code .py_c_api  { color: red; }\n",
       ".cython.code .py_macro_api  { color: #FF7000; }\n",
       ".cython.code .pyx_c_api  { color: #FF3000; }\n",
       ".cython.code .pyx_macro_api  { color: #FF7000; }\n",
       ".cython.code .refnanny  { color: #FFA000; }\n",
       ".cython.code .trace  { color: #FFA000; }\n",
       ".cython.code .error_goto  { color: #FFA000; }\n",
       "\n",
       ".cython.code .coerce  { color: #008000; border: 1px dotted #008000 }\n",
       ".cython.code .py_attr { color: #FF0000; font-weight: bold; }\n",
       ".cython.code .c_attr  { color: #0000FF; }\n",
       ".cython.code .py_call { color: #FF0000; font-weight: bold; }\n",
       ".cython.code .c_call  { color: #0000FF; }\n",
       "\n",
       ".cython.score-0 {background-color: #FFFFff;}\n",
       ".cython.score-1 {background-color: #FFFFe7;}\n",
       ".cython.score-2 {background-color: #FFFFd4;}\n",
       ".cython.score-3 {background-color: #FFFFc4;}\n",
       ".cython.score-4 {background-color: #FFFFb6;}\n",
       ".cython.score-5 {background-color: #FFFFaa;}\n",
       ".cython.score-6 {background-color: #FFFF9f;}\n",
       ".cython.score-7 {background-color: #FFFF96;}\n",
       ".cython.score-8 {background-color: #FFFF8d;}\n",
       ".cython.score-9 {background-color: #FFFF86;}\n",
       ".cython.score-10 {background-color: #FFFF7f;}\n",
       ".cython.score-11 {background-color: #FFFF79;}\n",
       ".cython.score-12 {background-color: #FFFF73;}\n",
       ".cython.score-13 {background-color: #FFFF6e;}\n",
       ".cython.score-14 {background-color: #FFFF6a;}\n",
       ".cython.score-15 {background-color: #FFFF66;}\n",
       ".cython.score-16 {background-color: #FFFF62;}\n",
       ".cython.score-17 {background-color: #FFFF5e;}\n",
       ".cython.score-18 {background-color: #FFFF5b;}\n",
       ".cython.score-19 {background-color: #FFFF57;}\n",
       ".cython.score-20 {background-color: #FFFF55;}\n",
       ".cython.score-21 {background-color: #FFFF52;}\n",
       ".cython.score-22 {background-color: #FFFF4f;}\n",
       ".cython.score-23 {background-color: #FFFF4d;}\n",
       ".cython.score-24 {background-color: #FFFF4b;}\n",
       ".cython.score-25 {background-color: #FFFF48;}\n",
       ".cython.score-26 {background-color: #FFFF46;}\n",
       ".cython.score-27 {background-color: #FFFF44;}\n",
       ".cython.score-28 {background-color: #FFFF43;}\n",
       ".cython.score-29 {background-color: #FFFF41;}\n",
       ".cython.score-30 {background-color: #FFFF3f;}\n",
       ".cython.score-31 {background-color: #FFFF3e;}\n",
       ".cython.score-32 {background-color: #FFFF3c;}\n",
       ".cython.score-33 {background-color: #FFFF3b;}\n",
       ".cython.score-34 {background-color: #FFFF39;}\n",
       ".cython.score-35 {background-color: #FFFF38;}\n",
       ".cython.score-36 {background-color: #FFFF37;}\n",
       ".cython.score-37 {background-color: #FFFF36;}\n",
       ".cython.score-38 {background-color: #FFFF35;}\n",
       ".cython.score-39 {background-color: #FFFF34;}\n",
       ".cython.score-40 {background-color: #FFFF33;}\n",
       ".cython.score-41 {background-color: #FFFF32;}\n",
       ".cython.score-42 {background-color: #FFFF31;}\n",
       ".cython.score-43 {background-color: #FFFF30;}\n",
       ".cython.score-44 {background-color: #FFFF2f;}\n",
       ".cython.score-45 {background-color: #FFFF2e;}\n",
       ".cython.score-46 {background-color: #FFFF2d;}\n",
       ".cython.score-47 {background-color: #FFFF2c;}\n",
       ".cython.score-48 {background-color: #FFFF2b;}\n",
       ".cython.score-49 {background-color: #FFFF2b;}\n",
       ".cython.score-50 {background-color: #FFFF2a;}\n",
       ".cython.score-51 {background-color: #FFFF29;}\n",
       ".cython.score-52 {background-color: #FFFF29;}\n",
       ".cython.score-53 {background-color: #FFFF28;}\n",
       ".cython.score-54 {background-color: #FFFF27;}\n",
       ".cython.score-55 {background-color: #FFFF27;}\n",
       ".cython.score-56 {background-color: #FFFF26;}\n",
       ".cython.score-57 {background-color: #FFFF26;}\n",
       ".cython.score-58 {background-color: #FFFF25;}\n",
       ".cython.score-59 {background-color: #FFFF24;}\n",
       ".cython.score-60 {background-color: #FFFF24;}\n",
       ".cython.score-61 {background-color: #FFFF23;}\n",
       ".cython.score-62 {background-color: #FFFF23;}\n",
       ".cython.score-63 {background-color: #FFFF22;}\n",
       ".cython.score-64 {background-color: #FFFF22;}\n",
       ".cython.score-65 {background-color: #FFFF22;}\n",
       ".cython.score-66 {background-color: #FFFF21;}\n",
       ".cython.score-67 {background-color: #FFFF21;}\n",
       ".cython.score-68 {background-color: #FFFF20;}\n",
       ".cython.score-69 {background-color: #FFFF20;}\n",
       ".cython.score-70 {background-color: #FFFF1f;}\n",
       ".cython.score-71 {background-color: #FFFF1f;}\n",
       ".cython.score-72 {background-color: #FFFF1f;}\n",
       ".cython.score-73 {background-color: #FFFF1e;}\n",
       ".cython.score-74 {background-color: #FFFF1e;}\n",
       ".cython.score-75 {background-color: #FFFF1e;}\n",
       ".cython.score-76 {background-color: #FFFF1d;}\n",
       ".cython.score-77 {background-color: #FFFF1d;}\n",
       ".cython.score-78 {background-color: #FFFF1c;}\n",
       ".cython.score-79 {background-color: #FFFF1c;}\n",
       ".cython.score-80 {background-color: #FFFF1c;}\n",
       ".cython.score-81 {background-color: #FFFF1c;}\n",
       ".cython.score-82 {background-color: #FFFF1b;}\n",
       ".cython.score-83 {background-color: #FFFF1b;}\n",
       ".cython.score-84 {background-color: #FFFF1b;}\n",
       ".cython.score-85 {background-color: #FFFF1a;}\n",
       ".cython.score-86 {background-color: #FFFF1a;}\n",
       ".cython.score-87 {background-color: #FFFF1a;}\n",
       ".cython.score-88 {background-color: #FFFF1a;}\n",
       ".cython.score-89 {background-color: #FFFF19;}\n",
       ".cython.score-90 {background-color: #FFFF19;}\n",
       ".cython.score-91 {background-color: #FFFF19;}\n",
       ".cython.score-92 {background-color: #FFFF19;}\n",
       ".cython.score-93 {background-color: #FFFF18;}\n",
       ".cython.score-94 {background-color: #FFFF18;}\n",
       ".cython.score-95 {background-color: #FFFF18;}\n",
       ".cython.score-96 {background-color: #FFFF18;}\n",
       ".cython.score-97 {background-color: #FFFF17;}\n",
       ".cython.score-98 {background-color: #FFFF17;}\n",
       ".cython.score-99 {background-color: #FFFF17;}\n",
       ".cython.score-100 {background-color: #FFFF17;}\n",
       ".cython.score-101 {background-color: #FFFF16;}\n",
       ".cython.score-102 {background-color: #FFFF16;}\n",
       ".cython.score-103 {background-color: #FFFF16;}\n",
       ".cython.score-104 {background-color: #FFFF16;}\n",
       ".cython.score-105 {background-color: #FFFF16;}\n",
       ".cython.score-106 {background-color: #FFFF15;}\n",
       ".cython.score-107 {background-color: #FFFF15;}\n",
       ".cython.score-108 {background-color: #FFFF15;}\n",
       ".cython.score-109 {background-color: #FFFF15;}\n",
       ".cython.score-110 {background-color: #FFFF15;}\n",
       ".cython.score-111 {background-color: #FFFF15;}\n",
       ".cython.score-112 {background-color: #FFFF14;}\n",
       ".cython.score-113 {background-color: #FFFF14;}\n",
       ".cython.score-114 {background-color: #FFFF14;}\n",
       ".cython.score-115 {background-color: #FFFF14;}\n",
       ".cython.score-116 {background-color: #FFFF14;}\n",
       ".cython.score-117 {background-color: #FFFF14;}\n",
       ".cython.score-118 {background-color: #FFFF13;}\n",
       ".cython.score-119 {background-color: #FFFF13;}\n",
       ".cython.score-120 {background-color: #FFFF13;}\n",
       ".cython.score-121 {background-color: #FFFF13;}\n",
       ".cython.score-122 {background-color: #FFFF13;}\n",
       ".cython.score-123 {background-color: #FFFF13;}\n",
       ".cython.score-124 {background-color: #FFFF13;}\n",
       ".cython.score-125 {background-color: #FFFF12;}\n",
       ".cython.score-126 {background-color: #FFFF12;}\n",
       ".cython.score-127 {background-color: #FFFF12;}\n",
       ".cython.score-128 {background-color: #FFFF12;}\n",
       ".cython.score-129 {background-color: #FFFF12;}\n",
       ".cython.score-130 {background-color: #FFFF12;}\n",
       ".cython.score-131 {background-color: #FFFF12;}\n",
       ".cython.score-132 {background-color: #FFFF11;}\n",
       ".cython.score-133 {background-color: #FFFF11;}\n",
       ".cython.score-134 {background-color: #FFFF11;}\n",
       ".cython.score-135 {background-color: #FFFF11;}\n",
       ".cython.score-136 {background-color: #FFFF11;}\n",
       ".cython.score-137 {background-color: #FFFF11;}\n",
       ".cython.score-138 {background-color: #FFFF11;}\n",
       ".cython.score-139 {background-color: #FFFF11;}\n",
       ".cython.score-140 {background-color: #FFFF11;}\n",
       ".cython.score-141 {background-color: #FFFF10;}\n",
       ".cython.score-142 {background-color: #FFFF10;}\n",
       ".cython.score-143 {background-color: #FFFF10;}\n",
       ".cython.score-144 {background-color: #FFFF10;}\n",
       ".cython.score-145 {background-color: #FFFF10;}\n",
       ".cython.score-146 {background-color: #FFFF10;}\n",
       ".cython.score-147 {background-color: #FFFF10;}\n",
       ".cython.score-148 {background-color: #FFFF10;}\n",
       ".cython.score-149 {background-color: #FFFF10;}\n",
       ".cython.score-150 {background-color: #FFFF0f;}\n",
       ".cython.score-151 {background-color: #FFFF0f;}\n",
       ".cython.score-152 {background-color: #FFFF0f;}\n",
       ".cython.score-153 {background-color: #FFFF0f;}\n",
       ".cython.score-154 {background-color: #FFFF0f;}\n",
       ".cython.score-155 {background-color: #FFFF0f;}\n",
       ".cython.score-156 {background-color: #FFFF0f;}\n",
       ".cython.score-157 {background-color: #FFFF0f;}\n",
       ".cython.score-158 {background-color: #FFFF0f;}\n",
       ".cython.score-159 {background-color: #FFFF0f;}\n",
       ".cython.score-160 {background-color: #FFFF0f;}\n",
       ".cython.score-161 {background-color: #FFFF0e;}\n",
       ".cython.score-162 {background-color: #FFFF0e;}\n",
       ".cython.score-163 {background-color: #FFFF0e;}\n",
       ".cython.score-164 {background-color: #FFFF0e;}\n",
       ".cython.score-165 {background-color: #FFFF0e;}\n",
       ".cython.score-166 {background-color: #FFFF0e;}\n",
       ".cython.score-167 {background-color: #FFFF0e;}\n",
       ".cython.score-168 {background-color: #FFFF0e;}\n",
       ".cython.score-169 {background-color: #FFFF0e;}\n",
       ".cython.score-170 {background-color: #FFFF0e;}\n",
       ".cython.score-171 {background-color: #FFFF0e;}\n",
       ".cython.score-172 {background-color: #FFFF0e;}\n",
       ".cython.score-173 {background-color: #FFFF0d;}\n",
       ".cython.score-174 {background-color: #FFFF0d;}\n",
       ".cython.score-175 {background-color: #FFFF0d;}\n",
       ".cython.score-176 {background-color: #FFFF0d;}\n",
       ".cython.score-177 {background-color: #FFFF0d;}\n",
       ".cython.score-178 {background-color: #FFFF0d;}\n",
       ".cython.score-179 {background-color: #FFFF0d;}\n",
       ".cython.score-180 {background-color: #FFFF0d;}\n",
       ".cython.score-181 {background-color: #FFFF0d;}\n",
       ".cython.score-182 {background-color: #FFFF0d;}\n",
       ".cython.score-183 {background-color: #FFFF0d;}\n",
       ".cython.score-184 {background-color: #FFFF0d;}\n",
       ".cython.score-185 {background-color: #FFFF0d;}\n",
       ".cython.score-186 {background-color: #FFFF0d;}\n",
       ".cython.score-187 {background-color: #FFFF0c;}\n",
       ".cython.score-188 {background-color: #FFFF0c;}\n",
       ".cython.score-189 {background-color: #FFFF0c;}\n",
       ".cython.score-190 {background-color: #FFFF0c;}\n",
       ".cython.score-191 {background-color: #FFFF0c;}\n",
       ".cython.score-192 {background-color: #FFFF0c;}\n",
       ".cython.score-193 {background-color: #FFFF0c;}\n",
       ".cython.score-194 {background-color: #FFFF0c;}\n",
       ".cython.score-195 {background-color: #FFFF0c;}\n",
       ".cython.score-196 {background-color: #FFFF0c;}\n",
       ".cython.score-197 {background-color: #FFFF0c;}\n",
       ".cython.score-198 {background-color: #FFFF0c;}\n",
       ".cython.score-199 {background-color: #FFFF0c;}\n",
       ".cython.score-200 {background-color: #FFFF0c;}\n",
       ".cython.score-201 {background-color: #FFFF0c;}\n",
       ".cython.score-202 {background-color: #FFFF0c;}\n",
       ".cython.score-203 {background-color: #FFFF0b;}\n",
       ".cython.score-204 {background-color: #FFFF0b;}\n",
       ".cython.score-205 {background-color: #FFFF0b;}\n",
       ".cython.score-206 {background-color: #FFFF0b;}\n",
       ".cython.score-207 {background-color: #FFFF0b;}\n",
       ".cython.score-208 {background-color: #FFFF0b;}\n",
       ".cython.score-209 {background-color: #FFFF0b;}\n",
       ".cython.score-210 {background-color: #FFFF0b;}\n",
       ".cython.score-211 {background-color: #FFFF0b;}\n",
       ".cython.score-212 {background-color: #FFFF0b;}\n",
       ".cython.score-213 {background-color: #FFFF0b;}\n",
       ".cython.score-214 {background-color: #FFFF0b;}\n",
       ".cython.score-215 {background-color: #FFFF0b;}\n",
       ".cython.score-216 {background-color: #FFFF0b;}\n",
       ".cython.score-217 {background-color: #FFFF0b;}\n",
       ".cython.score-218 {background-color: #FFFF0b;}\n",
       ".cython.score-219 {background-color: #FFFF0b;}\n",
       ".cython.score-220 {background-color: #FFFF0b;}\n",
       ".cython.score-221 {background-color: #FFFF0b;}\n",
       ".cython.score-222 {background-color: #FFFF0a;}\n",
       ".cython.score-223 {background-color: #FFFF0a;}\n",
       ".cython.score-224 {background-color: #FFFF0a;}\n",
       ".cython.score-225 {background-color: #FFFF0a;}\n",
       ".cython.score-226 {background-color: #FFFF0a;}\n",
       ".cython.score-227 {background-color: #FFFF0a;}\n",
       ".cython.score-228 {background-color: #FFFF0a;}\n",
       ".cython.score-229 {background-color: #FFFF0a;}\n",
       ".cython.score-230 {background-color: #FFFF0a;}\n",
       ".cython.score-231 {background-color: #FFFF0a;}\n",
       ".cython.score-232 {background-color: #FFFF0a;}\n",
       ".cython.score-233 {background-color: #FFFF0a;}\n",
       ".cython.score-234 {background-color: #FFFF0a;}\n",
       ".cython.score-235 {background-color: #FFFF0a;}\n",
       ".cython.score-236 {background-color: #FFFF0a;}\n",
       ".cython.score-237 {background-color: #FFFF0a;}\n",
       ".cython.score-238 {background-color: #FFFF0a;}\n",
       ".cython.score-239 {background-color: #FFFF0a;}\n",
       ".cython.score-240 {background-color: #FFFF0a;}\n",
       ".cython.score-241 {background-color: #FFFF0a;}\n",
       ".cython.score-242 {background-color: #FFFF0a;}\n",
       ".cython.score-243 {background-color: #FFFF0a;}\n",
       ".cython.score-244 {background-color: #FFFF0a;}\n",
       ".cython.score-245 {background-color: #FFFF0a;}\n",
       ".cython.score-246 {background-color: #FFFF09;}\n",
       ".cython.score-247 {background-color: #FFFF09;}\n",
       ".cython.score-248 {background-color: #FFFF09;}\n",
       ".cython.score-249 {background-color: #FFFF09;}\n",
       ".cython.score-250 {background-color: #FFFF09;}\n",
       ".cython.score-251 {background-color: #FFFF09;}\n",
       ".cython.score-252 {background-color: #FFFF09;}\n",
       ".cython.score-253 {background-color: #FFFF09;}\n",
       ".cython.score-254 {background-color: #FFFF09;}\n",
       "pre { line-height: 125%; }\n",
       "td.linenos .normal { color: inherit; background-color: transparent; padding-left: 5px; padding-right: 5px; }\n",
       "span.linenos { color: inherit; background-color: transparent; padding-left: 5px; padding-right: 5px; }\n",
       "td.linenos .special { color: #000000; background-color: #ffffc0; padding-left: 5px; padding-right: 5px; }\n",
       "span.linenos.special { color: #000000; background-color: #ffffc0; padding-left: 5px; padding-right: 5px; }\n",
       ".cython .hll { background-color: #ffffcc }\n",
       ".cython { background: #f8f8f8; }\n",
       ".cython .c { color: #408080; font-style: italic } /* Comment */\n",
       ".cython .err { border: 1px solid #FF0000 } /* Error */\n",
       ".cython .k { color: #008000; font-weight: bold } /* Keyword */\n",
       ".cython .o { color: #666666 } /* Operator */\n",
       ".cython .ch { color: #408080; font-style: italic } /* Comment.Hashbang */\n",
       ".cython .cm { color: #408080; font-style: italic } /* Comment.Multiline */\n",
       ".cython .cp { color: #BC7A00 } /* Comment.Preproc */\n",
       ".cython .cpf { color: #408080; font-style: italic } /* Comment.PreprocFile */\n",
       ".cython .c1 { color: #408080; font-style: italic } /* Comment.Single */\n",
       ".cython .cs { color: #408080; font-style: italic } /* Comment.Special */\n",
       ".cython .gd { color: #A00000 } /* Generic.Deleted */\n",
       ".cython .ge { font-style: italic } /* Generic.Emph */\n",
       ".cython .gr { color: #FF0000 } /* Generic.Error */\n",
       ".cython .gh { color: #000080; font-weight: bold } /* Generic.Heading */\n",
       ".cython .gi { color: #00A000 } /* Generic.Inserted */\n",
       ".cython .go { color: #888888 } /* Generic.Output */\n",
       ".cython .gp { color: #000080; font-weight: bold } /* Generic.Prompt */\n",
       ".cython .gs { font-weight: bold } /* Generic.Strong */\n",
       ".cython .gu { color: #800080; font-weight: bold } /* Generic.Subheading */\n",
       ".cython .gt { color: #0044DD } /* Generic.Traceback */\n",
       ".cython .kc { color: #008000; font-weight: bold } /* Keyword.Constant */\n",
       ".cython .kd { color: #008000; font-weight: bold } /* Keyword.Declaration */\n",
       ".cython .kn { color: #008000; font-weight: bold } /* Keyword.Namespace */\n",
       ".cython .kp { color: #008000 } /* Keyword.Pseudo */\n",
       ".cython .kr { color: #008000; font-weight: bold } /* Keyword.Reserved */\n",
       ".cython .kt { color: #B00040 } /* Keyword.Type */\n",
       ".cython .m { color: #666666 } /* Literal.Number */\n",
       ".cython .s { color: #BA2121 } /* Literal.String */\n",
       ".cython .na { color: #7D9029 } /* Name.Attribute */\n",
       ".cython .nb { color: #008000 } /* Name.Builtin */\n",
       ".cython .nc { color: #0000FF; font-weight: bold } /* Name.Class */\n",
       ".cython .no { color: #880000 } /* Name.Constant */\n",
       ".cython .nd { color: #AA22FF } /* Name.Decorator */\n",
       ".cython .ni { color: #999999; font-weight: bold } /* Name.Entity */\n",
       ".cython .ne { color: #D2413A; font-weight: bold } /* Name.Exception */\n",
       ".cython .nf { color: #0000FF } /* Name.Function */\n",
       ".cython .nl { color: #A0A000 } /* Name.Label */\n",
       ".cython .nn { color: #0000FF; font-weight: bold } /* Name.Namespace */\n",
       ".cython .nt { color: #008000; font-weight: bold } /* Name.Tag */\n",
       ".cython .nv { color: #19177C } /* Name.Variable */\n",
       ".cython .ow { color: #AA22FF; font-weight: bold } /* Operator.Word */\n",
       ".cython .w { color: #bbbbbb } /* Text.Whitespace */\n",
       ".cython .mb { color: #666666 } /* Literal.Number.Bin */\n",
       ".cython .mf { color: #666666 } /* Literal.Number.Float */\n",
       ".cython .mh { color: #666666 } /* Literal.Number.Hex */\n",
       ".cython .mi { color: #666666 } /* Literal.Number.Integer */\n",
       ".cython .mo { color: #666666 } /* Literal.Number.Oct */\n",
       ".cython .sa { color: #BA2121 } /* Literal.String.Affix */\n",
       ".cython .sb { color: #BA2121 } /* Literal.String.Backtick */\n",
       ".cython .sc { color: #BA2121 } /* Literal.String.Char */\n",
       ".cython .dl { color: #BA2121 } /* Literal.String.Delimiter */\n",
       ".cython .sd { color: #BA2121; font-style: italic } /* Literal.String.Doc */\n",
       ".cython .s2 { color: #BA2121 } /* Literal.String.Double */\n",
       ".cython .se { color: #BB6622; font-weight: bold } /* Literal.String.Escape */\n",
       ".cython .sh { color: #BA2121 } /* Literal.String.Heredoc */\n",
       ".cython .si { color: #BB6688; font-weight: bold } /* Literal.String.Interpol */\n",
       ".cython .sx { color: #008000 } /* Literal.String.Other */\n",
       ".cython .sr { color: #BB6688 } /* Literal.String.Regex */\n",
       ".cython .s1 { color: #BA2121 } /* Literal.String.Single */\n",
       ".cython .ss { color: #19177C } /* Literal.String.Symbol */\n",
       ".cython .bp { color: #008000 } /* Name.Builtin.Pseudo */\n",
       ".cython .fm { color: #0000FF } /* Name.Function.Magic */\n",
       ".cython .vc { color: #19177C } /* Name.Variable.Class */\n",
       ".cython .vg { color: #19177C } /* Name.Variable.Global */\n",
       ".cython .vi { color: #19177C } /* Name.Variable.Instance */\n",
       ".cython .vm { color: #19177C } /* Name.Variable.Magic */\n",
       ".cython .il { color: #666666 } /* Literal.Number.Integer.Long */\n",
       "    </style>\n",
       "</head>\n",
       "<body class=\"cython\">\n",
       "<p><span style=\"border-bottom: solid 1px grey;\">Generated by Cython 0.29.24</span></p>\n",
       "<p>\n",
       "    <span style=\"background-color: #FFFF00\">Yellow lines</span> hint at Python interaction.<br />\n",
       "    Click on a line that starts with a \"<code>+</code>\" to see the C code that Cython generated for it.\n",
       "</p>\n",
       "<div class=\"cython\"><pre class=\"cython line score-18\" onclick=\"(function(s){s.display=s.display==='block'?'none':'block'})(this.nextElementSibling.style)\">+<span class=\"\">1</span>: <span class=\"k\">cpdef</span> <span class=\"kt\">double</span> <span class=\"nf\">cyfac_loop</span><span class=\"p\">(</span><span class=\"nb\">int</span> <span class=\"n\">n</span><span class=\"p\">):</span></pre>\n",
       "<pre class='cython code score-18 '>static PyObject *__pyx_pw_46_cython_magic_f1b0bfaa9dd99dd25796948e61b32169_1cyfac_loop(PyObject *__pyx_self, PyObject *__pyx_arg_n); /*proto*/\n",
       "static double __pyx_f_46_cython_magic_f1b0bfaa9dd99dd25796948e61b32169_cyfac_loop(int __pyx_v_n, CYTHON_UNUSED int __pyx_skip_dispatch) {\n",
       "  double __pyx_v_r;\n",
       "  int __pyx_v_i;\n",
       "  double __pyx_r;\n",
       "  <span class='refnanny'>__Pyx_RefNannyDeclarations</span>\n",
       "  <span class='refnanny'>__Pyx_RefNannySetupContext</span>(\"cyfac_loop\", 0);\n",
       "/* … */\n",
       "  /* function exit code */\n",
       "  __pyx_L0:;\n",
       "  <span class='refnanny'>__Pyx_RefNannyFinishContext</span>();\n",
       "  return __pyx_r;\n",
       "}\n",
       "\n",
       "/* Python wrapper */\n",
       "static PyObject *__pyx_pw_46_cython_magic_f1b0bfaa9dd99dd25796948e61b32169_1cyfac_loop(PyObject *__pyx_self, PyObject *__pyx_arg_n); /*proto*/\n",
       "static PyObject *__pyx_pw_46_cython_magic_f1b0bfaa9dd99dd25796948e61b32169_1cyfac_loop(PyObject *__pyx_self, PyObject *__pyx_arg_n) {\n",
       "  int __pyx_v_n;\n",
       "  PyObject *__pyx_r = 0;\n",
       "  <span class='refnanny'>__Pyx_RefNannyDeclarations</span>\n",
       "  <span class='refnanny'>__Pyx_RefNannySetupContext</span>(\"cyfac_loop (wrapper)\", 0);\n",
       "  assert(__pyx_arg_n); {\n",
       "    __pyx_v_n = <span class='pyx_c_api'>__Pyx_PyInt_As_int</span>(__pyx_arg_n); if (unlikely((__pyx_v_n == (int)-1) &amp;&amp; <span class='py_c_api'>PyErr_Occurred</span>())) <span class='error_goto'>__PYX_ERR(0, 1, __pyx_L3_error)</span>\n",
       "  }\n",
       "  goto __pyx_L4_argument_unpacking_done;\n",
       "  __pyx_L3_error:;\n",
       "  <span class='pyx_c_api'>__Pyx_AddTraceback</span>(\"_cython_magic_f1b0bfaa9dd99dd25796948e61b32169.cyfac_loop\", __pyx_clineno, __pyx_lineno, __pyx_filename);\n",
       "  <span class='refnanny'>__Pyx_RefNannyFinishContext</span>();\n",
       "  return NULL;\n",
       "  __pyx_L4_argument_unpacking_done:;\n",
       "  __pyx_r = __pyx_pf_46_cython_magic_f1b0bfaa9dd99dd25796948e61b32169_cyfac_loop(__pyx_self, ((int)__pyx_v_n));\n",
       "  int __pyx_lineno = 0;\n",
       "  const char *__pyx_filename = NULL;\n",
       "  int __pyx_clineno = 0;\n",
       "\n",
       "  /* function exit code */\n",
       "  <span class='refnanny'>__Pyx_RefNannyFinishContext</span>();\n",
       "  return __pyx_r;\n",
       "}\n",
       "\n",
       "static PyObject *__pyx_pf_46_cython_magic_f1b0bfaa9dd99dd25796948e61b32169_cyfac_loop(CYTHON_UNUSED PyObject *__pyx_self, int __pyx_v_n) {\n",
       "  PyObject *__pyx_r = NULL;\n",
       "  <span class='refnanny'>__Pyx_RefNannyDeclarations</span>\n",
       "  <span class='refnanny'>__Pyx_RefNannySetupContext</span>(\"cyfac_loop\", 0);\n",
       "  <span class='pyx_macro_api'>__Pyx_XDECREF</span>(__pyx_r);\n",
       "  __pyx_t_1 = <span class='py_c_api'>PyFloat_FromDouble</span>(__pyx_f_46_cython_magic_f1b0bfaa9dd99dd25796948e61b32169_cyfac_loop(__pyx_v_n, 0));<span class='error_goto'> if (unlikely(!__pyx_t_1)) __PYX_ERR(0, 1, __pyx_L1_error)</span>\n",
       "  <span class='refnanny'>__Pyx_GOTREF</span>(__pyx_t_1);\n",
       "  __pyx_r = __pyx_t_1;\n",
       "  __pyx_t_1 = 0;\n",
       "  goto __pyx_L0;\n",
       "\n",
       "  /* function exit code */\n",
       "  __pyx_L1_error:;\n",
       "  <span class='pyx_macro_api'>__Pyx_XDECREF</span>(__pyx_t_1);\n",
       "  <span class='pyx_c_api'>__Pyx_AddTraceback</span>(\"_cython_magic_f1b0bfaa9dd99dd25796948e61b32169.cyfac_loop\", __pyx_clineno, __pyx_lineno, __pyx_filename);\n",
       "  __pyx_r = NULL;\n",
       "  __pyx_L0:;\n",
       "  <span class='refnanny'>__Pyx_XGIVEREF</span>(__pyx_r);\n",
       "  <span class='refnanny'>__Pyx_RefNannyFinishContext</span>();\n",
       "  return __pyx_r;\n",
       "}\n",
       "</pre><pre class=\"cython line score-0\" onclick=\"(function(s){s.display=s.display==='block'?'none':'block'})(this.nextElementSibling.style)\">+<span class=\"\">2</span>:     <span class=\"k\">cdef</span> <span class=\"kt\">double</span> <span class=\"nf\">r</span> <span class=\"o\">=</span> <span class=\"mf\">1.0</span></pre>\n",
       "<pre class='cython code score-0 '>  __pyx_v_r = 1.0;\n",
       "</pre><pre class=\"cython line score-0\">&#xA0;<span class=\"\">3</span>:     <span class=\"k\">cdef</span> <span class=\"kt\">int</span> <span class=\"nf\">i</span></pre>\n",
       "<pre class=\"cython line score-0\" onclick=\"(function(s){s.display=s.display==='block'?'none':'block'})(this.nextElementSibling.style)\">+<span class=\"\">4</span>:     <span class=\"k\">for</span> <span class=\"n\">i</span> <span class=\"ow\">in</span> <span class=\"nb\">range</span><span class=\"p\">(</span><span class=\"mf\">1</span><span class=\"p\">,</span> <span class=\"n\">n</span><span class=\"o\">+</span><span class=\"mf\">1</span><span class=\"p\">):</span></pre>\n",
       "<pre class='cython code score-0 '>  __pyx_t_1 = (__pyx_v_n + 1);\n",
       "  __pyx_t_2 = __pyx_t_1;\n",
       "  for (__pyx_t_3 = 1; __pyx_t_3 &lt; __pyx_t_2; __pyx_t_3+=1) {\n",
       "    __pyx_v_i = __pyx_t_3;\n",
       "</pre><pre class=\"cython line score-0\" onclick=\"(function(s){s.display=s.display==='block'?'none':'block'})(this.nextElementSibling.style)\">+<span class=\"\">5</span>:         <span class=\"n\">r</span> <span class=\"o\">*=</span> <span class=\"p\">&lt;</span><span class=\"kt\">double</span><span class=\"p\">&gt;</span><span class=\"n\">i</span></pre>\n",
       "<pre class='cython code score-0 '>    __pyx_v_r = (__pyx_v_r * ((double)__pyx_v_i));\n",
       "  }\n",
       "</pre><pre class=\"cython line score-0\" onclick=\"(function(s){s.display=s.display==='block'?'none':'block'})(this.nextElementSibling.style)\">+<span class=\"\">6</span>:     <span class=\"k\">return</span> <span class=\"n\">r</span></pre>\n",
       "<pre class='cython code score-0 '>  __pyx_r = __pyx_v_r;\n",
       "  goto __pyx_L0;\n",
       "</pre></div></body></html>"
      ],
      "text/plain": [
       "<IPython.core.display.HTML object>"
      ]
     },
     "execution_count": 16,
     "metadata": {},
     "output_type": "execute_result"
    }
   ],
   "source": [
    "%%cython -a\n",
    "cpdef double cyfac_loop(int n):\n",
    "    cdef double r = 1.0\n",
    "    cdef int i\n",
    "    for i in range(1, n+1):\n",
    "        r *= <double>i\n",
    "    return r"
   ]
  },
  {
   "cell_type": "code",
   "execution_count": 6,
   "metadata": {},
   "outputs": [
    {
     "name": "stdout",
     "output_type": "stream",
     "text": [
      "1.37 µs ± 26.6 ns per loop (mean ± std. dev. of 7 runs, 1000000 loops each)\n",
      "74.3 ns ± 1.12 ns per loop (mean ± std. dev. of 7 runs, 10000000 loops each)\n"
     ]
    }
   ],
   "source": [
    "%timeit pyfac_loop(20)\n",
    "%timeit cyfac_loop(20)"
   ]
  },
  {
   "cell_type": "markdown",
   "metadata": {},
   "source": [
    "#### Units of Measure Less Than a Second \n",
    "\n",
    "| Multiple of a second | Unit          | Symbol |\n",
    "|----------------------|---------------|--------|\n",
    "| $10^{-9}$            | 1 nanosecond  | 1 ns   |\n",
    "| $10^{-6}$            | 1 microsecond | 1 µs   |\n",
    "| $10^{-3}$            | 1 millisecond | 1 ms   |"
   ]
  },
  {
   "cell_type": "markdown",
   "metadata": {},
   "source": [
    "#### Integral Types"
   ]
  },
  {
   "cell_type": "code",
   "execution_count": 24,
   "metadata": {},
   "outputs": [
    {
     "name": "stdout",
     "output_type": "stream",
     "text": [
      "0 1 -3 1 True 1.0 -2.0 100000.0 abc\n"
     ]
    }
   ],
   "source": [
    "%%cython\n",
    "\n",
    "# cdef is an directive , telling objects are c objects\n",
    "cdef:\n",
    "    int i = 0\n",
    "    unsigned long j = 1\n",
    "    signed short k = -3\n",
    "    bint flag = True\n",
    "    long long ll = 1LL\n",
    "    float a = 1.0\n",
    "    double b = -2.0\n",
    "    long double c= 1e5\n",
    "    str s = \"abc\"\n",
    "    \n",
    "    \n",
    "print(i, j, k, ll, flag, a, b, c, s)    "
   ]
  },
  {
   "cell_type": "markdown",
   "metadata": {},
   "source": [
    "#### cimport"
   ]
  },
  {
   "cell_type": "code",
   "execution_count": 15,
   "metadata": {},
   "outputs": [
    {
     "name": "stderr",
     "output_type": "stream",
     "text": [
      "In file included from /srv/conda/envs/notebook/lib/python3.7/site-packages/numpy/core/include/numpy/ndarraytypes.h:1969,\n",
      "                 from /srv/conda/envs/notebook/lib/python3.7/site-packages/numpy/core/include/numpy/ndarrayobject.h:12,\n",
      "                 from /srv/conda/envs/notebook/lib/python3.7/site-packages/numpy/core/include/numpy/arrayobject.h:4,\n",
      "                 from /home/jovyan/.cache/ipython/cython/_cython_magic_2014508b603b08191838a4a9c4c94518.c:648:\n",
      "/srv/conda/envs/notebook/lib/python3.7/site-packages/numpy/core/include/numpy/npy_1_7_deprecated_api.h:17:2: warning: #warning \"Using deprecated NumPy API, disable it with \" \"#define NPY_NO_DEPRECATED_API NPY_1_7_API_VERSION\" [-Wcpp]\n",
      "   17 | #warning \"Using deprecated NumPy API, disable it with \" \\\n",
      "      |  ^~~~~~~\n"
     ]
    }
   ],
   "source": [
    "%%cython \n",
    "\n",
    "import datetime            \n",
    "cimport cpython.datetime   # 用這個取代上面那行\n",
    "\n",
    "import array\n",
    "cimport cpython.array\n",
    "\n",
    "import numpy as np # gives access to python functions\n",
    "cimport numpy as np # gives you access to Numpy C API ---> 有 warning？不能用了？\n",
    "\n",
    "from libc.math cimport exp       # 用 c 函數會比 numpy 版本快很多\n",
    "from libc.stdlib cimport rand  \n",
    "\n",
    "cdef extern from \"limits.h\": \n",
    "    int RAND_MAX"
   ]
  },
  {
   "cell_type": "markdown",
   "metadata": {},
   "source": [
    "### ctypes\n",
    "\n",
    "* 在 Python 自帶的 standard library 裡，不需另外安裝\n",
    "* 用正常的 c code 就好，signature 不需要用 PyObject\n",
    "* 編譯成 shared object（*.so）再手動在 python 端指定 input/output type\n",
    "\n",
    "```c\n",
    "// lib.c\n",
    "\n",
    "double square(double x){\n",
    "    return x*x;\n",
    "}\n",
    "double cube(double x){\n",
    "    return x*x*x;\n",
    "}\n",
    "```"
   ]
  },
  {
   "cell_type": "code",
   "execution_count": 5,
   "metadata": {},
   "outputs": [],
   "source": [
    "!gcc -fPIC -shared -o lib.so lib.c"
   ]
  },
  {
   "cell_type": "code",
   "execution_count": 1,
   "metadata": {},
   "outputs": [
    {
     "data": {
      "text/plain": [
       "(25.0, 125.0)"
      ]
     },
     "execution_count": 1,
     "metadata": {},
     "output_type": "execute_result"
    }
   ],
   "source": [
    "import ctypes\n",
    "\n",
    "lib = ctypes.CDLL('./lib.so')\n",
    "\n",
    "lib.square.argtypes = [ctypes.c_double]\n",
    "lib.square.restype = ctypes.c_double\n",
    "\n",
    "lib.cube.argtypes = [ctypes.c_double]\n",
    "lib.cube.restype = ctypes.c_double\n",
    "\n",
    "lib.square(5), lib.cube(5)"
   ]
  },
  {
   "cell_type": "markdown",
   "metadata": {},
   "source": [
    "## Entry Points\n",
    "\n",
    "* 用 python 寫像 pytest 一樣的 cli command [還沒看](https://amir.rachum.com/blog/2017/07/28/python-entry-points/)"
   ]
  },
  {
   "cell_type": "markdown",
   "metadata": {},
   "source": [
    "## [Always Use](http://jaredgrubb.blogspot.com/2009/04/python-is-none-vs-none.html) `is None` instead of `==None`\n",
    "\n",
    "* `==` 比的是值，`is` 比位址（`None` 是 singleton）\n",
    "    * 所以 `is None` 比 `==None` 快一點點\n",
    "* `==` 可能被 overload（`__eq__`），使得 `==None` 出現不可預期的結果"
   ]
  },
  {
   "cell_type": "markdown",
   "metadata": {},
   "source": [
    "## Import in a `with` Statement\n",
    "\n",
    "出了 `with` 仍然有用"
   ]
  },
  {
   "cell_type": "code",
   "execution_count": 1,
   "metadata": {},
   "outputs": [
    {
     "name": "stdout",
     "output_type": "stream",
     "text": [
      "   0  1  2  3  4\n",
      "0  0  1  2  3  4\n",
      "1  5  6  7  8  9\n",
      "   0  1  2  3  4\n",
      "0  0  1  2  3  4\n",
      "1  5  6  7  8  9\n"
     ]
    }
   ],
   "source": [
    "import numpy as np\n",
    "\n",
    "class context:\n",
    "    def __enter__(self):\n",
    "        pass\n",
    "    \n",
    "    def __exit__(self, exc_type=None, exc_value=None, traceback=None):\n",
    "        pass\n",
    "    \n",
    "with context():\n",
    "    from pandas import DataFrame\n",
    "    print(DataFrame(np.arange(10).reshape(2, 5)))\n",
    "\n",
    "print(DataFrame(np.arange(10).reshape(2, 5)))    "
   ]
  },
  {
   "cell_type": "markdown",
   "metadata": {},
   "source": [
    "## [Bytes and Str](https://betterprogramming.pub/strings-unicode-and-bytes-in-python-3-everything-you-always-wanted-to-know-27dc02ff2686)\n",
    "\n",
    "* Unicode 是 ASCII 的 superset，把字元映到數字（或[碼位，code points](https://zh.wikipedia.org/zh-tw/%E7%A0%81%E4%BD%8D)）\n",
    "    * 例如 ASCII 表有 128 個碼位，從 16 進位的 00 到 7F\n",
    "    * Python 3 開始 `str` 是 Unicode string\n",
    "* 如果所有 code point 都統一用一樣大的空間來存，會很浪費空間。最原始的 ASCII 就只需要 7 個 bits 就存的下了\n",
    "* UTF-8 是把 code points 存起來的 standard\n",
    "    * by far the most popular，世界流量排名前 1000 的網頁中有 97% 是用 UTF-8\n",
    "    * Python 3 default for `str.encode()` and `bytes.decode()`\n",
    "* 所有的 string 都要 specify encoding 不然就沒辦法讀\n",
    "* Python 3 `bytes` is a binary serialization format represented by a sequence of 8-bits integers that is fit for storing data on the file system or sending it across the Internet"
   ]
  },
  {
   "cell_type": "markdown",
   "metadata": {},
   "source": [
    "## Multiprocessing vs. Threading\n",
    "\n",
    "* See [this SO post](https://stackoverflow.com/questions/3044580/multiprocessing-vs-threading-python). The threading module uses threads, the multiprocessing module uses processes. The difference is that threads run in the same memory space, while processes have separate memory. 一個 process 有自己的獨立的記憶體，甚至 IO，所以 multiprocessing 比較難 share objects。而寫 thread 的時候則要注意同時把資料寫進同一塊記憶體是否安全\n",
    "* 在 windows，multiprocessing 會很慢，因為每個 process 都重新 new 一個 python interpreter session，在 Unix-like systems 不用。看[這個 SO post](https://stackoverflow.com/questions/28744046/multiprocessing-python-not-running-in-parallel)"
   ]
  },
  {
   "cell_type": "markdown",
   "metadata": {},
   "source": [
    "## [Making Command Line Commands Using Python](https://dbader.org/blog/how-to-make-command-line-commands-with-python)\n",
    "\n",
    "* This app can git clone multiple repos with token: \n",
    "    ```\n",
    "    gc repo_name_1 repo_name_2\n",
    "    ```\n",
    "* Need pycrypto to run, which requires gcc: `apt-get install gcc`, `pip install pycrypto`\n",
    "* Step by step: \n",
    "    1. create a new file named `gc`\n",
    "    1. copy and paste below into `gc`\n",
    "    1. `chmod +x gc`\n",
    "    1. make sure the path of `gc` is in `$PATH`: `export PATH=$HOME/binder:$PATH'` if `gc` is in `$HOME/binder`\n",
    "* Implementation details    \n",
    "    * ```#!/usr/bin/env``` tells the shell this script should be run by python\n",
    "        * no matter where python is installed, ```#!/usr/bin/env``` will lead the shell to the right location\n",
    "    * Both the key and the initial vector of ```AES.new``` need to be 16 bytes\n",
    "    * Both encrypt and decrypt output binary which needs to be decoded to string\n",
    "    * When calling ```gc repo1 repo2```, ```sys.argv``` will be ```['gc', 'repo1', 'repo2']```"
   ]
  },
  {
   "cell_type": "code",
   "execution_count": null,
   "metadata": {},
   "outputs": [],
   "source": [
    "#!/usr/bin/env python\n",
    "from Crypto.Cipher import AES\n",
    "from getpass import getpass\n",
    "import subprocess, sys\n",
    "\n",
    "password = getpass()\n",
    "# o1 = AES.new(password.ljust(16), AES.MODE_CFB, '*'*16)\n",
    "# encrypted = o1.encrypt(LONG_AND_HARD_TO_REMEMBER_TOKEN)\n",
    "\n",
    "encrypted = b'!>k\\x98%6\\x9e,j\\x88\\xd8\\x13\\xa85Z#\\xdb\\xa5Q\\xb2\\xfc^\\x15\\xd6\\xe6mH=\\xb9\\xe4~\\x88\\xea\\x8f\\xe2M\\xc1\\xf6\\xec\\xcd'\n",
    "aes = AES.new(password.ljust(16), AES.MODE_CFB, '*'*16) # key and initial vector both need to be 16 byptes\n",
    "token = aes.decrypt(encrypted).decode()\n",
    "\n",
    "for repo in sys.argv[1:]:\n",
    "    subprocess.run(['git', 'clone', f'https://{token}@github.com/beginnerSC/{repo}'])"
   ]
  },
  {
   "cell_type": "markdown",
   "metadata": {},
   "source": [
    "## [Bare Asterisk (*)](https://stackoverflow.com/questions/14301967/bare-asterisk-in-function-arguments) and [Bare Forward Slash (/)](https://stackoverflow.com/questions/56514297/bare-forward-slash-in-python-function-definition) in Function Arguments\n",
    "\n",
    "* ```def foo(a, b, *, c, d):``` 強制呼叫函數時傳入 ```c``` 和 ```d``` 一定要寫 ```c=``` 和 ```d=```（named arguments）\n",
    "* ```def foo(a, b, /, c, d):``` 強制呼叫函數時傳入 ```a``` 和 ```b``` 一定不能寫 ```a=``` 和 ```b=```（positional arguments），只能照順序把參數傳進去\n",
    "    * python 3.8 以後才有，所以這個 Jupyter 環境目前沒有："
   ]
  },
  {
   "cell_type": "code",
   "execution_count": 9,
   "metadata": {},
   "outputs": [
    {
     "name": "stdout",
     "output_type": "stream",
     "text": [
      "3.7.8 | packaged by conda-forge | (default, Nov 27 2020, 19:24:58) \n",
      "[GCC 9.3.0]\n"
     ]
    }
   ],
   "source": [
    "import sys\n",
    "print(sys.version)"
   ]
  },
  {
   "cell_type": "markdown",
   "metadata": {},
   "source": [
    "## Immutability and Hashing\n",
    "\n",
    "* [SO discussion](https://stackoverflow.com/questions/2671376/hashable-immutable)\n",
    "    * immutable object 初始化之後就不能改變了，mutable 的可以\n",
    "    * mutable object 例如 list 預設不能 hash。可以自己寫 ```__hash__```，如果 list 的內容被改變了 hash 也要跟著變\n",
    "* primitive types 之中 mutable 的只有 ```dict```，```list``` 跟 ```set```。下面的表來自這個 [medium post](https://medium.com/@meghamohan/mutable-and-immutable-side-of-python-c2145cf72747)"
   ]
  },
  {
   "attachments": {
    "907113d4-c125-46ec-8326-790717f0208c.png": {
     "image/png": "[encoded data removed]"
    }
   },
   "cell_type": "markdown",
   "metadata": {},
   "source": [
    "![mutable.png](attachment:907113d4-c125-46ec-8326-790717f0208c.png)"
   ]
  },
  {
   "cell_type": "markdown",
   "metadata": {},
   "source": [
    "## ```if __name__ == \"__main__\":```\n",
    "\n",
    "* 當一個 script 被當作 entry point 執行時 ```__name__``` 會被設成 ```\"__main__\"```\n",
    "* 如果是被當作 module include，```__name__``` 會被設成該 script 的檔名"
   ]
  },
  {
   "cell_type": "markdown",
   "metadata": {},
   "source": [
    "## Context Manager (the ```with``` Statement)\n",
    "\n",
    "* [SO discussion](https://stackoverflow.com/questions/1984325/explaining-pythons-enter-and-exit)\n",
    "* The following are equivalent: "
   ]
  },
  {
   "cell_type": "code",
   "execution_count": null,
   "metadata": {},
   "outputs": [],
   "source": [
    "# try block\n",
    "\n",
    "SET_THINGS_UP\n",
    "try: \n",
    "    DO_SOMETHING\n",
    "finally:\n",
    "    TEAR_THINGS_DOWN\n",
    "\n",
    "# with statement\n",
    "\n",
    "class controlled_execution:\n",
    "    def __enter__(self):\n",
    "        SET_THINGS_UP\n",
    "        return THING\n",
    "    def __exit__(self, exc_type, exc_value, traceback):\n",
    "        TEAR_THINGS_DOWN\n",
    "        \n",
    "with controlled_execution as THING:\n",
    "    SOME_CODE"
   ]
  },
  {
   "cell_type": "markdown",
   "metadata": {},
   "source": [
    "* controlled_execution is a context manager class which implements ```__enter__()``` and ```__exit__()```. The return value of ```__enter__()```, if provided, is assigned to the variable followed by ```as```"
   ]
  },
  {
   "cell_type": "code",
   "execution_count": 10,
   "metadata": {},
   "outputs": [
    {
     "name": "stdout",
     "output_type": "stream",
     "text": [
      "0.5488135039273248\n",
      "0.9087389795050141\n"
     ]
    }
   ],
   "source": [
    "import numpy as np\n",
    "\n",
    "class fix_seed:\n",
    "    def __init__(self, seed=0):\n",
    "        self.seed = seed\n",
    "        \n",
    "    def __enter__(self):\n",
    "        np.random.seed(self.seed)\n",
    "    \n",
    "    def __exit__(self, exc_type=None, exc_value=None, traceback=None):\n",
    "        np.random.seed()\n",
    "        \n",
    "with fix_seed(seed=0):\n",
    "    print(np.random.uniform())\n",
    "print(np.random.uniform())"
   ]
  },
  {
   "cell_type": "markdown",
   "metadata": {},
   "source": [
    "## itertools.groupby\n",
    "\n",
    "* 在把 data 丟進 groupby 裡之前必需是已經 sorted by key\n",
    "* key 的用法和 sorted 一模一樣\n",
    "* 迴圈裡的每一個 g 都是 iterator"
   ]
  },
  {
   "cell_type": "code",
   "execution_count": 6,
   "metadata": {},
   "outputs": [
    {
     "name": "stdout",
     "output_type": "stream",
     "text": [
      "keys:  [' ', 'b', 'e', 'f', 'i', 'n', 'r', 's', 't', 'u', 'v', 'y']\n",
      "groups: \n",
      "[[' ', ' ', ' ', ' '],\n",
      " ['b', 'b'],\n",
      " ['e', 'e'],\n",
      " ['f'],\n",
      " ['i', 'i'],\n",
      " ['n'],\n",
      " ['r', 'r'],\n",
      " ['s', 's'],\n",
      " ['t', 't', 't', 't', 't', 't'],\n",
      " ['u', 'u', 'u'],\n",
      " ['v'],\n",
      " ['y', 'y']]\n"
     ]
    }
   ],
   "source": [
    "import itertools\n",
    "\n",
    "data = 'trust but verify by unittest'\n",
    "keyfunc = None\n",
    "\n",
    "groups = []\n",
    "uniquekeys = []\n",
    "data = sorted(data, key=keyfunc)\n",
    "for k, g in itertools.groupby(data, keyfunc):\n",
    "    groups.append(list(g))      # store group iterator as a list\n",
    "    uniquekeys.append(k)\n",
    "\n",
    "from pprint import pprint\n",
    "print('keys: ', uniquekeys)\n",
    "print('groups: ')\n",
    "pprint(groups)"
   ]
  },
  {
   "cell_type": "markdown",
   "metadata": {},
   "source": [
    "## collections"
   ]
  },
  {
   "cell_type": "markdown",
   "metadata": {},
   "source": [
    "### deque\n",
    "\n",
    "* 用 doubly linked list 寫成，左右兩端插入刪除都是 O(1)\n",
    "* 也有 [circular array implementation](https://youtu.be/IITnvmnfi_Y?t=236)\n",
    "    * 用兩個 index 指向兩端，因為是 circular array 所以沒有 index out of range 的問題\n",
    "    * 如果 push 到空間不夠就 resize，向系統要更多空間重抄一次（takes $O(n)$ operations）重抄的時候用 0 當 start index\n",
    "    "
   ]
  },
  {
   "cell_type": "markdown",
   "metadata": {},
   "source": [
    "### Counter\n",
    "\n",
    "* Dictionary of element frequencies of a list"
   ]
  },
  {
   "cell_type": "code",
   "execution_count": 4,
   "metadata": {},
   "outputs": [
    {
     "data": {
      "text/plain": [
       "Counter({'a': 3, 'b': 2, 'c': 4, 'd': 2, 'e': 1, 'f': 4, 'g': 1})"
      ]
     },
     "execution_count": 4,
     "metadata": {},
     "output_type": "execute_result"
    }
   ],
   "source": [
    "import collections\n",
    "\n",
    "collections.Counter('aaabbccccddeffffg')"
   ]
  },
  {
   "cell_type": "markdown",
   "metadata": {},
   "source": [
    "### OrderedDict\n",
    "\n",
    "* [python doc](https://docs.python.org/3/library/collections.html#collections.OrderedDict)\n",
    "* 記得輸入順序的 dict，比 dict 多了兩個 method：\n",
    "    * ```popitem(last=True)```\n",
    "    * ```move_to_end(key, last=True)```\n",
    "* ```last=True``` 代表要 pop 最後一個 item，move_to_end 也是，如果用 ```last=False``` 變成 pop 第一個 item 和 move 到 beginning\n",
    "* Implementation 是用 doubly linked list 來維持順序，再用 hash table 記下指標指向對應的 node\n",
    "* 可以用來寫 LRU Cache"
   ]
  },
  {
   "cell_type": "code",
   "execution_count": 2,
   "metadata": {},
   "outputs": [
    {
     "name": "stdout",
     "output_type": "stream",
     "text": [
      "OrderedDict([('e', 5), ('a', 1), ('b', 2)])\n",
      "OrderedDict([('e', 5), ('b', 2), ('a', 1)])\n"
     ]
    }
   ],
   "source": [
    "import collections\n",
    "\n",
    "d = collections.OrderedDict()\n",
    "d['e'] = 5\n",
    "d['a'] = 1\n",
    "d['b'] = 2\n",
    "print(d)\n",
    "\n",
    "d.move_to_end('a')\n",
    "print(d)"
   ]
  },
  {
   "cell_type": "markdown",
   "metadata": {},
   "source": [
    "### defaultdict\n",
    "\n",
    "* [SO explanation](https://stackoverflow.com/questions/5900578/how-does-collections-defaultdict-work), [python doc](https://docs.python.org/3/library/collections.html#collections.defaultdict)\n",
    "* access 沒加過的 key 也不會有 key error 而是回傳 default value\n",
    "* 要輸入一個 callable 當作 default_factory 例如 ```collections.defaultdict(int)```，default value 是這個 callable 的傳回值"
   ]
  },
  {
   "cell_type": "markdown",
   "metadata": {},
   "source": [
    "## Functional Programming\n",
    "\n",
    "* Pure function on immutable data\n",
    "    * 如果用 mutable 到 multithread 的時候就要擔心同步問題\n",
    "    * 不要用 list of dictionaries，用 tuple of collections.namedtuple，完全 immutable\n",
    "* Pure function：每次執行結果都一樣，no access to global states，也不能改變 input（即使是 mutable）\n",
    "* Higher Order Functions\n",
    "    * ```filter(function, iterable)```\n",
    "    * ```map(function, iterable, ...)```\n",
    "    * ```functools.partial(func, /, *args, **keywords)```\n",
    "    * ```functools.reduce(function, iterable[, initializer])```\n",
    "* helper functions\n",
    "    * ```zip(*iterables)```\n",
    "    * any, all\n",
    "    * enumerate\n",
    "    * sort\n",
    "    * [itertools](https://docs.python.org/3/library/itertools.html)：一些常用的 iterator\n",
    "* 其實用 list comprehension 就可以取代 filter 和 map 了"
   ]
  },
  {
   "cell_type": "markdown",
   "metadata": {},
   "source": [
    "## Exception\n",
    "\n",
    "* [Corey Schafer tutorial](https://www.youtube.com/watch?v=NIWwJbo-9_8)"
   ]
  },
  {
   "cell_type": "code",
   "execution_count": null,
   "metadata": {},
   "outputs": [],
   "source": [
    "try: \n",
    "    pass\n",
    "except ValueError as error:  # 如果抓到 ValueError 就跑這裡\n",
    "    pass\n",
    "except TypeError as error:   # 如果抓到 TypeError 就跑這裡\n",
    "    pass\n",
    "except Exception as error:   # 任何其它 Exception 跑這裡。越 general 的要放越下面\n",
    "    pass\n",
    "else:                        # 完全沒抓到 Exception 就跑這裡\n",
    "    pass\n",
    "finally:                     # 不管有沒有 Exception 都會跑到這裡\n",
    "    pass"
   ]
  },
  {
   "cell_type": "code",
   "execution_count": 7,
   "metadata": {},
   "outputs": [
    {
     "name": "stdout",
     "output_type": "stream",
     "text": [
      "[Errno 2] No such file or directory: 'circles_.py'\n",
      "Done!\n"
     ]
    }
   ],
   "source": [
    "try:\n",
    "    f = open('circles_.py')\n",
    "except FileNotFoundError as e:\n",
    "    print(e)\n",
    "else:\n",
    "    print(f.readline())\n",
    "    f.close()\n",
    "finally:\n",
    "    print('Done!')"
   ]
  },
  {
   "cell_type": "markdown",
   "metadata": {},
   "source": [
    "## unittest\n",
    "* [Socratica video](https://www.youtube.com/watch?v=1Lfv5tUGsn8) 8 分鐘極簡版\n",
    "* [Corey Schafer 40 min](https://www.youtube.com/watch?v=6tNS--WetLI)\n",
    "* unittest test case methods 名稱一定要以 test 開頭，但 module 名稱不限\n",
    "* 跑 unittest：可以指定 module 也可以不指定（```m``` 是當作 module 來跑）\n",
    "    * ```python -m unittest test_circles.py```\n",
    "    * ```python -m unittest test_circles```\n",
    "    * ```python -m unittest```\n",
    "* 不指定時 python 用 test discovery 抓所有名稱以 test 開頭的 test case method 來跑\n",
    "* 如果在 test_circles.py 裡加這個就可以直接 ```python test_circles.py```\n",
    "    ```\n",
    "    if __name__ == '__main__':\n",
    "        unittest.main()\n",
    "    ```\n",
    "* ```misc/pycircle``` 裡有 minimum python module with unittests，可以在 misc/ 下跑 ```python -m unittest```\n",
    "* 每次 library 在使用中出錯時，修好後應該去對應的地方加一個相關的 test 保證以後不再出現同樣的錯\n",
    "* ```setUp``` 和 ```tearDown```\n",
    "    * ```setUp``` 在每一次 test case method 開始前先執行\n",
    "    * ```tearDown``` 在每一次 test case method 結束後執行\n",
    "    * ```setUpClass``` 在所有 test case method 開始前先執行一次\n",
    "    * ```tearDownClass``` 在所有 test case method 結束前執行一次\n",
    "* 所有 test case method 不一定會照順序執行，所以他們之間一定要獨立\n",
    "* [unittest.mock.patch](https://youtu.be/6tNS--WetLI?t=1723) 沒看\n",
    "* 一個 test script 的 `if __name__=='__main__': ` 裡面是寫 `unittest.main()`。看 [unittest doc](https://docs.python.org/3/library/unittest.html#basic-example)"
   ]
  },
  {
   "cell_type": "code",
   "execution_count": 10,
   "metadata": {},
   "outputs": [],
   "source": [
    "# circles.py\n",
    "\n",
    "from math import pi\n",
    "\n",
    "def circle_area(r):\n",
    "    if type(r) not in [int, float]:\n",
    "        raise TypeError(\"The radius must be a non-negative real number.\")\n",
    "    \n",
    "    if r < 0:\n",
    "        raise ValueError(\"The radius cannot be negative\")\n",
    "    \n",
    "    return pi*(r**2)"
   ]
  },
  {
   "cell_type": "code",
   "execution_count": null,
   "metadata": {},
   "outputs": [],
   "source": [
    "# test_circles.py\n",
    "\n",
    "import unittest\n",
    "from circles import circle_area\n",
    "from math import pi\n",
    "\n",
    "class TestCircleArea(unittest.TestCase):\n",
    "    @classmethod\n",
    "    def setUpClass(cls):\n",
    "        pass\n",
    "    \n",
    "    @classmethod\n",
    "    def tearDownClass(cls):\n",
    "        pass\n",
    "    \n",
    "    def setUp(self):\n",
    "        pass\n",
    "    \n",
    "    def tearDown(self):\n",
    "        pass\n",
    "    \n",
    "    def test_area(self):\n",
    "        # Test areas when radius >= 0\n",
    "        self.assertAlmostEqual(circle_area(1), pi)\n",
    "        self.assertAlmostEqual(circle_area(0), 0)\n",
    "        self.assertAlmostEqual(circle_area(2.1), pi*(2.1**2))\n",
    "        \n",
    "    def test_values(self):\n",
    "        # Make sure value erros are raised when necessary\n",
    "        self.assertRaises(ValueError, circle_area, -2)      # 寫法一\n",
    "        with self.assertRaises(ValueError):                 # 寫法二，可以正常呼叫函數\n",
    "            circle_area(-2)\n",
    "        \n",
    "    def test_types(self):\n",
    "        # Make sure type errors are raised when necessary\n",
    "        self.assertRaises(TypeError, circle_area, 3+5j)\n",
    "        self.assertRaises(TypeError, circle_area, True)\n",
    "        self.assertRaises(TypeError, circle_area, \"radius\")\n",
    "        \n",
    "if __name__ == '__main__':\n",
    "    unittest.main()"
   ]
  },
  {
   "cell_type": "code",
   "execution_count": 14,
   "metadata": {},
   "outputs": [
    {
     "name": "stdout",
     "output_type": "stream",
     "text": [
      "...\n",
      "----------------------------------------------------------------------\n",
      "Ran 3 tests in 0.000s\n",
      "\n",
      "OK\n",
      "...\n",
      "----------------------------------------------------------------------\n",
      "Ran 3 tests in 0.000s\n",
      "\n",
      "OK\n"
     ]
    }
   ],
   "source": [
    "# this works because the scripts are here\n",
    "\n",
    "!python -m unittest test_circles\n",
    "!python -m unittest"
   ]
  },
  {
   "cell_type": "markdown",
   "metadata": {},
   "source": [
    "## PEP8 Naming Styles\n",
    "\n",
    "* [RealPython tutorial](https://realpython.com/python-pep8/)\n",
    "\n",
    "| Type | Style |\n",
    "|---|---|\n",
    "| MyClass | PascalCase |\n",
    "| MY_CONST | CAPITAL_SNAKE_CASE | \n",
    "| mypackage | likethis |\n",
    "| everything_else | snake_case |"
   ]
  },
  {
   "cell_type": "markdown",
   "metadata": {},
   "source": [
    "## OOP\n",
    "\n",
    "* [Corey Schafer Videos on OOP](https://www.youtube.com/playlist?list=PL-osiE80TeTsqhIuOqKhwlXsIBIdSeYtc)\n",
    "\n",
    "### Sample Program\n",
    "\n",
    "* From [Corey Schafer Video on Preparing for Python Interview](https://youtu.be/DEwgZNC-KyE?t=899)\n",
    "* 重覆默寫這段 code 直到覺得自然為止"
   ]
  },
  {
   "cell_type": "code",
   "execution_count": 5,
   "metadata": {},
   "outputs": [
    {
     "name": "stdout",
     "output_type": "stream",
     "text": [
      "My name is Corey.\n",
      "My name is Wade Wilson.\n",
      "And I'm Deadpool.\n"
     ]
    }
   ],
   "source": [
    "class Person:\n",
    "    def __init__(self, name):\n",
    "        self.name = name\n",
    "    \n",
    "    def reveal_identity(self):\n",
    "        print(f\"My name is {self.name}.\")\n",
    "        \n",
    "class SuperHero(Person):\n",
    "    def __init__(self, name, hero_name):\n",
    "        super().__init__(name)\n",
    "        self.hero_name = hero_name\n",
    "        \n",
    "    def reveal_identity(self):\n",
    "        super().reveal_identity()\n",
    "        print(f\"And I'm {self.hero_name}.\")\n",
    "        \n",
    "corey = Person('Corey')\n",
    "corey.reveal_identity()\n",
    "\n",
    "wade = SuperHero('Wade Wilson', 'Deadpool')\n",
    "wade.reveal_identity()"
   ]
  },
  {
   "cell_type": "markdown",
   "metadata": {},
   "source": [
    "### classmethod and staticmethod\n",
    "\n",
    "* staticmethods don't have access to anything. A good use is to [group util functions](https://stackoverflow.com/questions/2438473/what-is-the-advantage-of-using-static-methods-in-python)"
   ]
  },
  {
   "cell_type": "code",
   "execution_count": 5,
   "metadata": {},
   "outputs": [
    {
     "name": "stdout",
     "output_type": "stream",
     "text": [
      "1.05\n",
      "1.05\n",
      "1.05\n",
      "John.Doe@email.com\n",
      "70000\n",
      "True\n"
     ]
    }
   ],
   "source": [
    "class Employee:\n",
    "\n",
    "    num_of_emps = 0\n",
    "    raise_amt = 1.04\n",
    "\n",
    "    def __init__(self, first, last, pay):\n",
    "        self.first = first\n",
    "        self.last = last\n",
    "        self.email = first + '.' + last + '@email.com'\n",
    "        self.pay = pay\n",
    "\n",
    "        Employee.num_of_emps += 1\n",
    "\n",
    "    def fullname(self):\n",
    "        return '{} {}'.format(self.first, self.last)\n",
    "\n",
    "    def apply_raise(self):\n",
    "        self.pay = int(self.pay * self.raise_amt)\n",
    "\n",
    "    @classmethod\n",
    "    def set_raise_amt(cls, amount):\n",
    "        cls.raise_amt = amount\n",
    "\n",
    "    @classmethod\n",
    "    def from_string(cls, emp_str):\n",
    "        first, last, pay = emp_str.split('-')\n",
    "        return cls(first, last, pay)\n",
    "\n",
    "    @staticmethod\n",
    "    def is_workday(day):\n",
    "        if day.weekday() == 5 or day.weekday() == 6:\n",
    "            return False\n",
    "        return True\n",
    "\n",
    "\n",
    "emp_1 = Employee('Corey', 'Schafer', 50000)\n",
    "emp_2 = Employee('Test', 'Employee', 60000)\n",
    "\n",
    "Employee.set_raise_amt(1.05)\n",
    "\n",
    "print(Employee.raise_amt)\n",
    "print(emp_1.raise_amt)\n",
    "print(emp_2.raise_amt)\n",
    "\n",
    "emp_str_1 = 'John-Doe-70000'\n",
    "emp_str_2 = 'Steve-Smith-30000'\n",
    "emp_str_3 = 'Jane-Doe-90000'\n",
    "\n",
    "first, last, pay = emp_str_1.split('-')\n",
    "\n",
    "#new_emp_1 = Employee(first, last, pay)\n",
    "new_emp_1 = Employee.from_string(emp_str_1)\n",
    "\n",
    "print(new_emp_1.email)\n",
    "print(new_emp_1.pay)\n",
    "\n",
    "import datetime\n",
    "my_date = datetime.date(2016, 7, 11)\n",
    "\n",
    "print(Employee.is_workday(my_date))"
   ]
  },
  {
   "cell_type": "markdown",
   "metadata": {},
   "source": [
    "### Inheritance"
   ]
  },
  {
   "cell_type": "code",
   "execution_count": 6,
   "metadata": {},
   "outputs": [
    {
     "name": "stdout",
     "output_type": "stream",
     "text": [
      "Sue.Smith@email.com\n",
      "--> Corey Schafer\n"
     ]
    }
   ],
   "source": [
    "class Employee:\n",
    "\n",
    "    raise_amt = 1.04\n",
    "\n",
    "    def __init__(self, first, last, pay):\n",
    "        self.first = first\n",
    "        self.last = last\n",
    "        self.email = first + '.' + last + '@email.com'\n",
    "        self.pay = pay\n",
    "\n",
    "    def fullname(self):\n",
    "        return '{} {}'.format(self.first, self.last)\n",
    "\n",
    "    def apply_raise(self):\n",
    "        self.pay = int(self.pay * self.raise_amt)\n",
    "\n",
    "\n",
    "class Developer(Employee):\n",
    "    raise_amt = 1.10\n",
    "\n",
    "    def __init__(self, first, last, pay, prog_lang):\n",
    "        super().__init__(first, last, pay)\n",
    "        self.prog_lang = prog_lang\n",
    "\n",
    "\n",
    "class Manager(Employee):\n",
    "\n",
    "    def __init__(self, first, last, pay, employees=None):\n",
    "        super().__init__(first, last, pay)\n",
    "        if employees is None:\n",
    "            self.employees = []\n",
    "        else:\n",
    "            self.employees = employees\n",
    "\n",
    "    def add_emp(self, emp):\n",
    "        if emp not in self.employees:\n",
    "            self.employees.append(emp)\n",
    "\n",
    "    def remove_emp(self, emp):\n",
    "        if emp in self.employees:\n",
    "            self.employees.remove(emp)\n",
    "\n",
    "    def print_emps(self):\n",
    "        for emp in self.employees:\n",
    "            print('-->', emp.fullname())\n",
    "\n",
    "\n",
    "dev_1 = Developer('Corey', 'Schafer', 50000, 'Python')\n",
    "dev_2 = Developer('Test', 'Employee', 60000, 'Java')\n",
    "\n",
    "mgr_1 = Manager('Sue', 'Smith', 90000, [dev_1])\n",
    "\n",
    "print(mgr_1.email)\n",
    "\n",
    "mgr_1.add_emp(dev_2)\n",
    "mgr_1.remove_emp(dev_2)\n",
    "\n",
    "mgr_1.print_emps()"
   ]
  },
  {
   "cell_type": "markdown",
   "metadata": {},
   "source": [
    "### Special Methods"
   ]
  },
  {
   "cell_type": "code",
   "execution_count": 7,
   "metadata": {},
   "outputs": [
    {
     "name": "stdout",
     "output_type": "stream",
     "text": [
      "13\n"
     ]
    }
   ],
   "source": [
    "class Employee:\n",
    "\n",
    "    raise_amt = 1.04\n",
    "\n",
    "    def __init__(self, first, last, pay):\n",
    "        self.first = first\n",
    "        self.last = last\n",
    "        self.email = first + '.' + last + '@email.com'\n",
    "        self.pay = pay\n",
    "\n",
    "    def fullname(self):\n",
    "        return '{} {}'.format(self.first, self.last)\n",
    "\n",
    "    def apply_raise(self):\n",
    "        self.pay = int(self.pay * self.raise_amt)\n",
    "\n",
    "    def __repr__(self):\n",
    "        return \"Employee('{}', '{}', {})\".format(self.first, self.last, self.pay)\n",
    "\n",
    "    def __str__(self):\n",
    "        return '{} - {}'.format(self.fullname(), self.email)\n",
    "\n",
    "    def __add__(self, other):\n",
    "        return self.pay + other.pay\n",
    "\n",
    "    def __len__(self):\n",
    "        return len(self.fullname())\n",
    "\n",
    "\n",
    "emp_1 = Employee('Corey', 'Schafer', 50000)\n",
    "emp_2 = Employee('Test', 'Employee', 60000)\n",
    "\n",
    "# print(emp_1 + emp_2)\n",
    "\n",
    "print(len(emp_1))\n"
   ]
  },
  {
   "cell_type": "markdown",
   "metadata": {},
   "source": [
    "### Property Decorators - Getters, Setters, and Deleters"
   ]
  },
  {
   "cell_type": "code",
   "execution_count": 8,
   "metadata": {},
   "outputs": [
    {
     "name": "stdout",
     "output_type": "stream",
     "text": [
      "Corey\n",
      "Corey.Schafer@email.com\n",
      "Corey Schafer\n",
      "Delete Name!\n"
     ]
    }
   ],
   "source": [
    "class Employee:\n",
    "\n",
    "    def __init__(self, first, last):\n",
    "        self.first = first\n",
    "        self.last = last\n",
    "\n",
    "    @property\n",
    "    def email(self):\n",
    "        return '{}.{}@email.com'.format(self.first, self.last)\n",
    "\n",
    "    @property\n",
    "    def fullname(self):\n",
    "        return '{} {}'.format(self.first, self.last)\n",
    "    \n",
    "    @fullname.setter\n",
    "    def fullname(self, name):\n",
    "        first, last = name.split(' ')\n",
    "        self.first = first\n",
    "        self.last = last\n",
    "    \n",
    "    @fullname.deleter\n",
    "    def fullname(self):\n",
    "        print('Delete Name!')\n",
    "        self.first = None\n",
    "        self.last = None\n",
    "\n",
    "\n",
    "emp_1 = Employee('John', 'Smith')\n",
    "emp_1.fullname = \"Corey Schafer\"\n",
    "\n",
    "print(emp_1.first)\n",
    "print(emp_1.email)\n",
    "print(emp_1.fullname)\n",
    "\n",
    "del emp_1.fullname"
   ]
  },
  {
   "cell_type": "markdown",
   "metadata": {},
   "source": [
    "## Generator\n",
    "\n",
    "* [Difference between iterators and generators](https://stackoverflow.com/questions/2776829/difference-between-pythons-generators-and-iterators)\n",
    "    * iterator is any object of a class that has ```__next__``` and ```__iter__``` methods (```___iter___``` returns self)\n",
    "    * generator is a function that has ```yield```\n",
    "    * iterator 是比較廣的概念（any generator is an iterator but not vice versa）generator 寫起來比較快，但 iterator 有 class 可以客製很多不同的行為\n",
    "* ```x**2 for x in range(100) if x%2 == 1``` 是一個 generator expression"
   ]
  },
  {
   "cell_type": "code",
   "execution_count": 10,
   "metadata": {},
   "outputs": [
    {
     "name": "stdout",
     "output_type": "stream",
     "text": [
      "[2, 4, 8, 16, 32, 64, 128, 256, 512]\n",
      "2\n",
      "4\n",
      "8\n"
     ]
    }
   ],
   "source": [
    "def pow2():\n",
    "    n = 2\n",
    "    while n < 1000:\n",
    "        yield n\n",
    "        n *= 2\n",
    "\n",
    "print([i for i in pow2()])\n",
    "\n",
    "a = pow2()\n",
    "\n",
    "print(next(a))\n",
    "print(next(a))\n",
    "print(next(a))"
   ]
  },
  {
   "cell_type": "markdown",
   "metadata": {},
   "source": [
    "## [Coroutine](https://www.youtube.com/watch?v=7AoANOGIDuM)"
   ]
  },
  {
   "cell_type": "code",
   "execution_count": 6,
   "metadata": {},
   "outputs": [
    {
     "name": "stdout",
     "output_type": "stream",
     "text": [
      "Received: 100\n",
      "1\n"
     ]
    }
   ],
   "source": [
    "# 呼叫 next() 時會跑到 coro 裡的下一個 yield\n",
    "# 然後可以用 send 把值傳進正在跑的函數裡，同時 send 也會 return yield 的結果\n",
    "\n",
    "def coro():\n",
    "    step = 0\n",
    "    while True:\n",
    "        received = yield step\n",
    "        step += 1\n",
    "        print(f'Received: {received}')\n",
    "\n",
    "c = coro()\n",
    "next(c)               # important! get to the first yield\n",
    "print(c.send(100))"
   ]
  },
  {
   "cell_type": "markdown",
   "metadata": {},
   "source": [
    "## Decorator \n",
    "\n",
    "* 寫的很好的 [RealPython tutorial](https://realpython.com/primer-on-python-decorators/#stateful-decorators)，整篇看完了但沒時間作筆記\n",
    "* 被 decorate 過的函數呼叫 ```.__name__``` 或 ```.__doc__```（```help()```）的時候會叫到 wrapper 的，所以才需要用 ```@functools.wraps(func)``` 把 func 的 name 和 docstring 抄給 wrapper\n",
    "* ```@debug``` 印下函數的 input/output，可以用寫 recursive 的時候 debug\n",
    "* [classes as decorators](https://realpython.com/primer-on-python-decorators/#classes-as-decorators)，implement ```__init__``` 和 ```__call__```，可以存狀態，例如 lru_cache\n",
    "\n",
    "### General Pattern (No Argument)"
   ]
  },
  {
   "cell_type": "code",
   "execution_count": 7,
   "metadata": {},
   "outputs": [],
   "source": [
    "import functools\n",
    "\n",
    "def decorator(func):\n",
    "    @functools.wraps(func)\n",
    "    def wrapper_decorator(*args, **kwargs):\n",
    "        # Do something before\n",
    "        value = func(*args, **kwargs)\n",
    "        # Do something after\n",
    "        return value\n",
    "    return wrapper_decorator"
   ]
  },
  {
   "cell_type": "markdown",
   "metadata": {},
   "source": [
    "### Decorator fix_seed"
   ]
  },
  {
   "cell_type": "code",
   "execution_count": 367,
   "metadata": {},
   "outputs": [
    {
     "name": "stdout",
     "output_type": "stream",
     "text": [
      "0.5488135039273248\n",
      "0.6161167995056092\n"
     ]
    }
   ],
   "source": [
    "# fix_seed：固定 seed = 0 版本。離開函數 seed 會還原成 None\n",
    "\n",
    "import numpy as np\n",
    "import functools\n",
    "\n",
    "def fix_seed(fnc):\n",
    "    @functools.wraps(fnc)\n",
    "    def wrapper_fix_seed(*args, **kargs):\n",
    "        np.random.seed(0)\n",
    "        res = fnc(*args, **kargs)\n",
    "        np.random.seed()\n",
    "        return res\n",
    "    return wrapper_fix_seed\n",
    "\n",
    "@fix_seed\n",
    "def printRand():\n",
    "    print(np.random.uniform())\n",
    "    \n",
    "printRand()\n",
    "print(np.random.uniform())"
   ]
  },
  {
   "cell_type": "code",
   "execution_count": 377,
   "metadata": {},
   "outputs": [
    {
     "name": "stdout",
     "output_type": "stream",
     "text": [
      "0.5434049417909654\n",
      "0.3289099673526439\n"
     ]
    }
   ],
   "source": [
    "# 接受 argument 版本，但變成一定要指定 seed\n",
    "\n",
    "import numpy as np\n",
    "import functools\n",
    "\n",
    "def fix_seed(seed=0):\n",
    "    def decorator_fix_seed(fnc):\n",
    "        @functools.wraps(fnc)\n",
    "        def wrapper_fix_seed(*args, **kargs):\n",
    "            np.random.seed(seed)\n",
    "            res = fnc(*args, **kargs)\n",
    "            np.random.seed()\n",
    "            return res\n",
    "        return wrapper_fix_seed\n",
    "    return decorator_fix_seed\n",
    "\n",
    "@fix_seed(100)\n",
    "def printRand():\n",
    "    print(np.random.uniform())\n",
    "    \n",
    "printRand()\n",
    "print(np.random.uniform())"
   ]
  },
  {
   "cell_type": "code",
   "execution_count": 6,
   "metadata": {},
   "outputs": [
    {
     "name": "stdout",
     "output_type": "stream",
     "text": [
      "0.5488135039273248\n",
      "0.13056825103667768\n"
     ]
    }
   ],
   "source": [
    "# 可以指定也可以不指定。若不指定 seed 預設為 0。若要指定一定要寫 seed=\n",
    "\n",
    "# 有指定 seed 的時候相當於 printRand = fix_seed(seed=0)(printRand)，所以 _func 是 None\n",
    "# 不指定 seed 的時候則變成 printRand = fix_seed(printRand)          把 function 傳進去\n",
    "\n",
    "import numpy as np\n",
    "import functools\n",
    "\n",
    "def fix_seed(_func=None, *, seed=0):\n",
    "    def decorator_fix_seed(func):\n",
    "        @functools.wraps(func)\n",
    "        def wrapper_fix_seed(*args, **kwargs):\n",
    "            np.random.seed(seed)\n",
    "            res = func(*args, **kwargs)\n",
    "            np.random.seed()\n",
    "            return res\n",
    "        return wrapper_fix_seed\n",
    "\n",
    "    if _func:\n",
    "        return decorator_fix_seed(_func)\n",
    "    else:\n",
    "        return decorator_fix_seed\n",
    "\n",
    "    \n",
    "# @fix_seed(0)   # TypeError: 'int' object is not callable\n",
    "# @fix_seed(seed=0)\n",
    "@fix_seed\n",
    "def printRand():\n",
    "    print(np.random.uniform())\n",
    "    \n",
    "printRand()\n",
    "print(np.random.uniform())    "
   ]
  }
 ],
 "metadata": {
  "kernelspec": {
   "display_name": "Python 3 (ipykernel)",
   "language": "python",
   "name": "python3"
  },
  "language_info": {
   "codemirror_mode": {
    "name": "ipython",
    "version": 3
   },
   "file_extension": ".py",
   "mimetype": "text/x-python",
   "name": "python",
   "nbconvert_exporter": "python",
   "pygments_lexer": "ipython3",
   "version": "3.10.14"
  },
  "toc-autonumbering": false,
  "toc-showcode": false,
  "toc-showmarkdowntxt": false
 },
 "nbformat": 4,
 "nbformat_minor": 4
}
