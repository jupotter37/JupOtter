{
 "cells": [
  {
   "cell_type": "markdown",
   "metadata": {},
   "source": [
    "Solutions to the leetcode 75."
   ]
  },
  {
   "cell_type": "markdown",
   "metadata": {},
   "source": [
    "1. Merge Strings Alternately "
   ]
  },
  {
   "cell_type": "code",
   "execution_count": 2,
   "metadata": {},
   "outputs": [],
   "source": [
    "from itertools import zip_longest\n",
    "class Solution:\n",
    "    def mergeAlternately(self, word1: str, word2: str) -> str:\n",
    "        myList = []\n",
    "        for word1Char, word2Char in zip_longest(word1, word2):\n",
    "            if(word1Char != None):\n",
    "                myList.append(word1Char)\n",
    "            if(word2Char != None):\n",
    "                myList.append(word2Char)\n",
    "        return ''.join(myList)"
   ]
  },
  {
   "cell_type": "markdown",
   "metadata": {},
   "source": [
    "2. Greatest Common Divisor of Strings"
   ]
  },
  {
   "cell_type": "code",
   "execution_count": null,
   "metadata": {},
   "outputs": [],
   "source": [
    "from math import gcd\n",
    "class Solution:\n",
    "    def gcdOfStrings(self, str1: str, str2: str) -> str:\n",
    "        if str1+str2 != str2+str1:\n",
    "            return \"\"\n",
    "        max_length = gcd(len(str1), len(str2))\n",
    "        return str1[:max_length]"
   ]
  },
  {
   "cell_type": "markdown",
   "metadata": {},
   "source": [
    "2215. Find the Difference of Two Arrays"
   ]
  },
  {
   "cell_type": "code",
   "execution_count": 3,
   "metadata": {},
   "outputs": [],
   "source": [
    "from typing import List\n",
    "\n",
    "class Solution:\n",
    "    def findDifference(self, nums1: List[int], nums2: List[int]) -> List[List[int]]:\n",
    "        set_Answer1 = set(nums1)\n",
    "        set_Answer2 = set(nums2)\n",
    "\n",
    "        setAnswer1 = list(set_Answer1 - set_Answer2)\n",
    "        setAnswer2 = list(set_Answer2 - set_Answer1)\n",
    "        \n",
    "        answer = []\n",
    "        answer.append(setAnswer1)\n",
    "        answer.append(setAnswer2)\n",
    "        return answer"
   ]
  },
  {
   "cell_type": "markdown",
   "metadata": {},
   "source": [
    "1207. Unique Number of Occurrences"
   ]
  },
  {
   "cell_type": "code",
   "execution_count": null,
   "metadata": {},
   "outputs": [],
   "source": [
    "class Solution:\n",
    "    def uniqueOccurrences(self, arr: List[int]) -> bool:\n",
    "        myDict = {}\n",
    "        for i in arr:\n",
    "            if i in myDict:\n",
    "                myDict[i] += 1\n",
    "            else:\n",
    "                myDict[i] = 1\n",
    "        return len(myDict.values()) == len(set(myDict.values()))\n",
    "        "
   ]
  },
  {
   "cell_type": "markdown",
   "metadata": {},
   "source": [
    "933. Number of Recent Calls"
   ]
  },
  {
   "cell_type": "code",
   "execution_count": null,
   "metadata": {},
   "outputs": [],
   "source": [
    "from collections import deque\n",
    "\n",
    "class RecentCounter:\n",
    "\n",
    "    def __init__(self):\n",
    "        self.queue = deque()\n",
    "\n",
    "    def ping(self, t: int) -> int:\n",
    "        self.queue.append(t)\n",
    "\n",
    "        while self.queue and self.queue[0] < t - 3000:\n",
    "            self.queue.popleft()\n",
    "        \n",
    "        return len(self.queue)\n",
    "\n",
    "\n",
    "# Your RecentCounter object will be instantiated and called as such:\n",
    "# obj = RecentCounter()\n",
    "# param_1 = obj.ping(t)"
   ]
  },
  {
   "cell_type": "markdown",
   "metadata": {},
   "source": [
    "206. Reverse Linked List"
   ]
  },
  {
   "cell_type": "code",
   "execution_count": null,
   "metadata": {},
   "outputs": [],
   "source": [
    "from collections import Optional\n",
    "# Definition for singly-linked list.\n",
    "class ListNode:\n",
    "    def __init__(self, val=0, next=None):\n",
    "        self.val = val\n",
    "        self.next = next\n",
    "class Solution:\n",
    "    def reverseList(sedelf, head: Optional[ListNode]) -> Optional[ListNode]:\n",
    "        prev = None\n",
    "        current = head\n",
    "        while current:\n",
    "            next_node = current.next  # Store the next node\n",
    "            current.next = prev  # Reverse the link\n",
    "            prev = current  # Move prev to the current node\n",
    "            current = next_node  # Move to the next node\n",
    "        return prev  # prev will be the new head of the reversed list"
   ]
  },
  {
   "cell_type": "markdown",
   "metadata": {},
   "source": [
    "104. Maximum Depth of a Binary Tree"
   ]
  },
  {
   "cell_type": "code",
   "execution_count": null,
   "metadata": {},
   "outputs": [],
   "source": [
    "from collections import Optional\n",
    "# Definition for a binary tree node.\n",
    "class TreeNode:\n",
    "    def __init__(self, val=0, left=None, right=None):\n",
    "        self.val = val\n",
    "        self.left = left\n",
    "        self.right = right\n",
    "class Solution:\n",
    "    def maxDepth(self, root: Optional[TreeNode]) -> int:\n",
    "        if root is None:\n",
    "            return 0\n",
    "        else:\n",
    "            max_left = self.maxDepth(root.left)\n",
    "            max_right = self.maxDepth(root.right)\n",
    "\n",
    "            return max(max_left, max_right) + 1"
   ]
  },
  {
   "cell_type": "markdown",
   "metadata": {},
   "source": [
    "872. Leaf-Similar Trees"
   ]
  },
  {
   "cell_type": "code",
   "execution_count": null,
   "metadata": {},
   "outputs": [],
   "source": [
    "from collections import Optional\n",
    "# Definition for a binary tree node.\n",
    "class TreeNode:\n",
    "    def __init__(self, val=0, left=None, right=None):\n",
    "        self.val = val\n",
    "        self.left = left\n",
    "        self.right = right\n",
    "class solution:\n",
    "    def leafSimilar(self, root1: Optional[TreeNode], root2: Optional[TreeNode]) -> bool:\n",
    "        def dfs(node, leaves):\n",
    "            if node:\n",
    "                if not node.left and not node.right:  # It's a leaf node\n",
    "                    leaves.append(node.val)\n",
    "                dfs(node.left, leaves)\n",
    "                dfs(node.right, leaves)\n",
    "\n",
    "        leaves1, leaves2 = [], []\n",
    "        dfs(root1, leaves1)\n",
    "        dfs(root2, leaves2)\n",
    "        return leaves1 == leaves2"
   ]
  },
  {
   "cell_type": "markdown",
   "metadata": {},
   "source": [
    "700. Search in a Binary Search Tree"
   ]
  },
  {
   "cell_type": "code",
   "execution_count": null,
   "metadata": {},
   "outputs": [],
   "source": [
    "from collections import Optional\n",
    "\n",
    "# Definition for a binary tree node.\n",
    "class TreeNode:\n",
    "    def __init__(self, val=0, left=None, right=None):\n",
    "        self.val = val\n",
    "        self.left = left\n",
    "        self.right = right\n",
    "\n",
    "class Solution:\n",
    "    def searchBST(self, root: Optional[TreeNode], val: int) -> Optional[TreeNode]:\n",
    "        if root is None or (root.val == val):\n",
    "            return root\n",
    "        if (root.val < val):\n",
    "            return self.searchBST(root.right, val)\n",
    "        else:\n",
    "            return self.searchBST(root.left, val)"
   ]
  },
  {
   "cell_type": "markdown",
   "metadata": {},
   "source": [
    "1161. Maximum Level Sum of a Binary Tree"
   ]
  },
  {
   "cell_type": "code",
   "execution_count": null,
   "metadata": {},
   "outputs": [],
   "source": [
    "# Definition for a binary tree node.\n",
    "class TreeNode:\n",
    "    def __init__(self, val=0, left=None, right=None):\n",
    "        self.val = val\n",
    "        self.left = left\n",
    "        self.right = right\n",
    "class Solution:\n",
    "    def maxLevelSum(self, root: Optional[TreeNode]) -> int:\n",
    "        myQueue = collections.deque()\n",
    "        myQueue.append(root)\n",
    "        maxSum = float(-inf)\n",
    "        level = 1\n",
    "        result = 1\n",
    "        while myQueue:\n",
    "            size = len(myQueue)\n",
    "            levelSum = 0\n",
    "            while size > 0:\n",
    "                front = myQueue.popleft()\n",
    "                levelSum += front.val\n",
    "                if not (front.left is None):\n",
    "                    myQueue.append(front.left)\n",
    "                if not (front.right is None):\n",
    "                    myQueue.append(front.right)\n",
    "                size -= 1\n",
    "            if levelSum > maxSum:\n",
    "                maxSum = levelSum\n",
    "                result = level\n",
    "            level += 1\n",
    "        return result"
   ]
  },
  {
   "cell_type": "markdown",
   "metadata": {},
   "source": [
    "102. Binary Tree Level Order Traversal"
   ]
  },
  {
   "cell_type": "code",
   "execution_count": null,
   "metadata": {},
   "outputs": [],
   "source": [
    "# Definition for a binary tree node.\n",
    "# class TreeNode:\n",
    "#     def __init__(self, val=0, left=None, right=None):\n",
    "#         self.val = val\n",
    "#         self.left = left\n",
    "#         self.right = right\n",
    "class Solution:\n",
    "    def levelOrder(self, root: Optional[TreeNode]) -> List[List[int]]:\n",
    "        if root is None:\n",
    "            return []\n",
    "        myQueue = collections.deque()\n",
    "        myQueue.append(root)\n",
    "        result = []\n",
    "        while myQueue:\n",
    "            size = len(myQueue)\n",
    "            levelList = []\n",
    "            while size > 0:\n",
    "                front = myQueue.popleft()\n",
    "                levelList.append(front.val)\n",
    "                if front.left is not None:\n",
    "                    myQueue.append(front.left)\n",
    "                if front.right is not None:\n",
    "                    myQueue.append(front.right)\n",
    "                size -= 1\n",
    "            result.append(levelList)\n",
    "        return result"
   ]
  },
  {
   "cell_type": "markdown",
   "metadata": {},
   "source": [
    "746. Min Cost Climbing Stairs"
   ]
  },
  {
   "cell_type": "code",
   "execution_count": null,
   "metadata": {},
   "outputs": [],
   "source": [
    "class Solution:\n",
    "    def minCostClimbingStairs(self, cost: List[int]) -> int:\n",
    "        def minCostRec(cost: List[int], index: int, memo: List[int]) -> int:\n",
    "            if index >= len(cost):\n",
    "                return 0\n",
    "            if memo[index] == -1:\n",
    "                path1 = minCostRec(cost, index + 1, memo)\n",
    "                path2 = minCostRec(cost, index + 2, memo)\n",
    "                memo[index] = cost[index] + min(path1, path2)\n",
    "            return memo[index]\n",
    "        n = len(cost)\n",
    "        memo = [-1] * n\n",
    "        fn1 = minCostRec(cost, 0, memo)\n",
    "        memo = [-1] * n\n",
    "        fn2 = minCostRec(cost, 1, memo)\n",
    "\n",
    "        return min(fn1, fn2)"
   ]
  },
  {
   "cell_type": "markdown",
   "metadata": {},
   "source": [
    "151. Reverse Words in a String"
   ]
  },
  {
   "cell_type": "code",
   "execution_count": null,
   "metadata": {},
   "outputs": [],
   "source": [
    "class Solution:\n",
    "    def reverseWords(self, s: str) -> str:\n",
    "        myList = s.split()\n",
    "        result = \"\"\n",
    "        for i in range(len(myList)-1,-1,-1):\n",
    "            result += myList[i]\n",
    "            result += \" \"\n",
    "        result = result.strip()\n",
    "        return result"
   ]
  },
  {
   "cell_type": "markdown",
   "metadata": {},
   "source": [
    "238. Product of Array Except Self"
   ]
  },
  {
   "cell_type": "code",
   "execution_count": null,
   "metadata": {},
   "outputs": [],
   "source": [
    "class Solution:\n",
    "    def productExceptSelf(self, nums):\n",
    "        length = len(nums)\n",
    "        prefix, suffix, result = [1]*length, [1]*length, [1]*length\n",
    "        \n",
    "        # Calculate prefix products\n",
    "        for i in range(1, length):\n",
    "            prefix[i] = prefix[i-1] * nums[i-1]\n",
    "        \n",
    "        # Calculate suffix products\n",
    "        for i in range(length-2, -1, -1):\n",
    "            suffix[i] = suffix[i+1] * nums[i+1]\n",
    "        \n",
    "        # Calculate result\n",
    "        for i in range(length):\n",
    "            result[i] = prefix[i] * suffix[i]\n",
    "        \n",
    "        return result"
   ]
  },
  {
   "cell_type": "markdown",
   "metadata": {},
   "source": [
    "334. Increasing Triplet Subsequence"
   ]
  },
  {
   "cell_type": "code",
   "execution_count": null,
   "metadata": {},
   "outputs": [],
   "source": [
    "class Solution:\n",
    "    def increasingTriplet(self, nums: List[int]) -> bool:\n",
    "        first, second = float('inf'), float('inf')\n",
    "\n",
    "        for num in nums:\n",
    "            if num <= first:\n",
    "                first = num  # Update the smallest element found so far\n",
    "            elif num <= second:\n",
    "                second = num  # Update the second smallest element\n",
    "            else:\n",
    "                # If we find a number greater than both 'first' and 'second',\n",
    "                # then we have found our increasing triplet\n",
    "                return True\n",
    "\n",
    "        return False"
   ]
  },
  {
   "cell_type": "markdown",
   "metadata": {},
   "source": [
    "443. String Compression"
   ]
  },
  {
   "cell_type": "code",
   "execution_count": null,
   "metadata": {},
   "outputs": [],
   "source": [
    "class Solution:\n",
    "    def compress(self, chars: List[str]) -> int:\n",
    "        read, write = 0, 0\n",
    "        while read < len(chars):\n",
    "            chars[write] = chars[read]\n",
    "            count = 1\n",
    "            while read + 1 < len(chars) and chars[read] == chars[read + 1]:\n",
    "                read += 1\n",
    "                count += 1\n",
    "            \n",
    "            read += 1\n",
    "            write += 1\n",
    "\n",
    "            if count > 1:\n",
    "                for digit in str(count):\n",
    "                    chars[write] = digit\n",
    "                    write += 1\n",
    "\n",
    "        return write"
   ]
  },
  {
   "cell_type": "markdown",
   "metadata": {},
   "source": [
    "374. Guess Number Higher or Lower"
   ]
  },
  {
   "cell_type": "code",
   "execution_count": null,
   "metadata": {},
   "outputs": [],
   "source": [
    "# The guess API is already defined for you.\n",
    "# @param num, your guess\n",
    "# @return -1 if num is higher than the picked number\n",
    "#          1 if num is lower than the picked number\n",
    "#          otherwise return 0\n",
    "# def guess(num: int) -> int:\n",
    "\n",
    "class Solution:\n",
    "    def guessNumber(self, n: int) -> int:\n",
    "        low = 1\n",
    "        high = n\n",
    "        middle = (1+n)//2\n",
    "        while True:\n",
    "            result = guess(middle)\n",
    "            if result == 0:\n",
    "                return middle\n",
    "            elif result == 1:\n",
    "                low = middle + 1\n",
    "                middle = (low + high)//2\n",
    "                continue\n",
    "            else:\n",
    "                high = middle - 1\n",
    "                middle = (low + high)//2\n",
    "                continue"
   ]
  },
  {
   "cell_type": "markdown",
   "metadata": {},
   "source": [
    "338. Counting Bits"
   ]
  },
  {
   "cell_type": "code",
   "execution_count": null,
   "metadata": {},
   "outputs": [],
   "source": [
    "class Solution:\n",
    "    def countBits(self, n: int) -> List[int]:\n",
    "        ans = [0] * (n + 1)  # Initialize the list with zeros\n",
    "        for i in range(1, n + 1):\n",
    "            ans[i] = ans[i >> 1] + (i & 1)\n",
    "        return ans\n"
   ]
  },
  {
   "cell_type": "markdown",
   "metadata": {},
   "source": [
    "136. Single Number"
   ]
  },
  {
   "cell_type": "code",
   "execution_count": null,
   "metadata": {},
   "outputs": [],
   "source": [
    "class Solution:\n",
    "    def singleNumber(self, nums: List[int]) -> int:\n",
    "        xor = 0\n",
    "        for num in nums:\n",
    "            xor ^= num\n",
    "        \n",
    "        return xor"
   ]
  },
  {
   "cell_type": "markdown",
   "metadata": {},
   "source": [
    "1137. N-th Tribonacci Number"
   ]
  },
  {
   "cell_type": "code",
   "execution_count": null,
   "metadata": {},
   "outputs": [],
   "source": [
    "class Solution:\n",
    "    def tribonacci(self, n: int) -> int:\n",
    "        if n==0:\n",
    "            return 0\n",
    "        elif n==1 or n==2:\n",
    "            return 1\n",
    "        a,b,c = 0,1,1\n",
    "        for i in range(3,n+1):\n",
    "            trib = a+b+c\n",
    "            a,b,c=b,c,trib\n",
    "        return trib"
   ]
  },
  {
   "cell_type": "markdown",
   "metadata": {},
   "source": [
    "15. 3Sum"
   ]
  },
  {
   "cell_type": "code",
   "execution_count": null,
   "metadata": {},
   "outputs": [],
   "source": [
    "class Solution:\n",
    "    def threeSum(self, nums: List[int]) -> List[List[int]]:\n",
    "        result = []\n",
    "        nums.sort()\n",
    "        for i in range(len(nums)):\n",
    "            if(i > 0 and nums[i] == nums[i-1]):\n",
    "                continue\n",
    "            l = i + 1\n",
    "            r = len(nums) - 1\n",
    "            while l < r:\n",
    "                if(nums[i]+nums[l]+nums[r] == 0):\n",
    "                    triplet = [nums[i], nums[l], nums[r]]\n",
    "                    result.append(triplet)\n",
    "                    l += 1\n",
    "                    while ((l < r) and nums[l] == nums[l-1]):\n",
    "                        l += 1\n",
    "                    r -= 1\n",
    "                    while((l < r) and nums[r+1] == nums[r]):\n",
    "                        r -= 1\n",
    "                elif(nums[i]+nums[l]+nums[r] < 0):\n",
    "                    l += 1\n",
    "                    while ((l < r) and nums[l-1] == nums[l]):\n",
    "                        l += 1\n",
    "                else: \n",
    "                    r -= 1\n",
    "                    while((l < r) and nums[r+1] == nums[r]):\n",
    "                        r -= 1\n",
    "        return result"
   ]
  },
  {
   "cell_type": "markdown",
   "metadata": {},
   "source": [
    "198. House Robber"
   ]
  },
  {
   "cell_type": "code",
   "execution_count": null,
   "metadata": {},
   "outputs": [],
   "source": [
    "class Solution:\n",
    "    def rob(self, nums: List[int]) -> int:\n",
    "        n = len(nums)\n",
    "        clone = [-1] * n\n",
    "        def rec(nums, index, clone):\n",
    "            if (index >= len(nums)):\n",
    "                return 0\n",
    "            if (clone[index] == -1):\n",
    "                # skip\n",
    "                skip = rec(nums, index + 1, clone)\n",
    "                # rob\n",
    "                strike = rec(nums, index + 2, clone) + nums[index]\n",
    "                clone[index] = max(skip, strike)\n",
    "            return clone[index]\n",
    "        return rec(nums, 0, clone)"
   ]
  },
  {
   "cell_type": "markdown",
   "metadata": {},
   "source": [
    "11. Container With Most Water"
   ]
  },
  {
   "cell_type": "code",
   "execution_count": null,
   "metadata": {},
   "outputs": [],
   "source": [
    "class Solution:\n",
    "    def maxArea(self, height: List[int]) -> int:\n",
    "        l, r = 0, len(height) - 1\n",
    "        max_area = 0\n",
    "\n",
    "        while l < r:\n",
    "            # Calculate the current area\n",
    "            current_area = min(height[l], height[r]) * (r - l)\n",
    "            max_area = max(max_area, current_area)\n",
    "\n",
    "            # Move the pointer of the shorter line\n",
    "            if height[l] < height[r]:\n",
    "                l += 1\n",
    "            else:\n",
    "                r -= 1\n",
    "\n",
    "        return max_area"
   ]
  },
  {
   "cell_type": "markdown",
   "metadata": {},
   "source": [
    "2390. Removing Stars from a String"
   ]
  },
  {
   "cell_type": "code",
   "execution_count": null,
   "metadata": {},
   "outputs": [],
   "source": [
    "class Solution:\n",
    "    def removeStars(self, s: str) -> str:\n",
    "        stack = []  # Use a simple list as a stack\n",
    "        \n",
    "        for char in s:\n",
    "            if char == '*':  # If the character is a star\n",
    "                if stack:  # And the stack is not empty\n",
    "                    stack.pop()  # Remove the last non-star character\n",
    "            else:\n",
    "                stack.append(char)  # Otherwise, add the character to the stack\n",
    "                \n",
    "        # The remaining characters in the stack form the resulting string\n",
    "        return ''.join(stack)"
   ]
  },
  {
   "cell_type": "markdown",
   "metadata": {},
   "source": [
    "1456. Maximum Number of Vowels in a Substring of Given Length"
   ]
  },
  {
   "cell_type": "code",
   "execution_count": null,
   "metadata": {},
   "outputs": [],
   "source": [
    "# k = substring length "
   ]
  },
  {
   "cell_type": "markdown",
   "metadata": {},
   "source": [
    "735. Asteroid Collision "
   ]
  },
  {
   "cell_type": "code",
   "execution_count": null,
   "metadata": {},
   "outputs": [],
   "source": [
    "class Solution:\n",
    "    def asteroidCollision(self, asteroids: List[int]) -> List[int]:\n",
    "        myStack = []\n",
    "\n",
    "        for i in asteroids:\n",
    "            if not myStack:\n",
    "                myStack.append(i)\n",
    "            elif (i >= 0):\n",
    "                myStack.append(i)\n",
    "            elif (i < 0):\n",
    "                while (myStack and (myStack[-1] >= 0) and (abs(i) > myStack[-1])):\n",
    "                    myStack.pop()\n",
    "                if (myStack and abs(i) < myStack[-1]):\n",
    "                    continue\n",
    "                elif (myStack and abs(i) == myStack[-1]):\n",
    "                    myStack.pop()\n",
    "                    continue\n",
    "                myStack.append(i)\n",
    "        \n",
    "        return myStack"
   ]
  },
  {
   "cell_type": "markdown",
   "metadata": {},
   "source": [
    "2095. Delete the Middle Node of a Linked List"
   ]
  },
  {
   "cell_type": "code",
   "execution_count": null,
   "metadata": {},
   "outputs": [],
   "source": []
  },
  {
   "cell_type": "markdown",
   "metadata": {},
   "source": [
    "2300. Successful Pairs of Spells and Potions"
   ]
  },
  {
   "cell_type": "code",
   "execution_count": null,
   "metadata": {},
   "outputs": [],
   "source": [
    "class Solution:\n",
    "    def successfulPairs(self, spells, potions, success):\n",
    "        potions.sort()\n",
    "        pairs = []\n",
    "        \n",
    "        for spell in spells:\n",
    "            target = math.ceil(success / spell)\n",
    "            low, high = 0, len(potions)\n",
    "            \n",
    "            while low < high:\n",
    "                mid = (low + high) // 2\n",
    "                if potions[mid] < target:\n",
    "                    low = mid + 1\n",
    "                else:\n",
    "                    high = mid\n",
    "                    \n",
    "            pairs.append(len(potions) - low)\n",
    "        \n",
    "        return pairs"
   ]
  },
  {
   "cell_type": "markdown",
   "metadata": {},
   "source": [
    "162. Find Peak Element"
   ]
  },
  {
   "cell_type": "code",
   "execution_count": null,
   "metadata": {},
   "outputs": [],
   "source": [
    "class Solution:\n",
    "    def findPeakElement(self, nums: List[int]) -> int:\n",
    "        low, high = 0, len(nums) - 1\n",
    "        while low < high:\n",
    "            mid = (low+high)//2\n",
    "            if nums[mid] > nums[mid+1]:\n",
    "                high = mid\n",
    "            else:\n",
    "                low = mid + 1\n",
    "        return low"
   ]
  },
  {
   "cell_type": "markdown",
   "metadata": {},
   "source": [
    "208. Implement Trie (Prefix Trie)"
   ]
  },
  {
   "cell_type": "code",
   "execution_count": null,
   "metadata": {},
   "outputs": [],
   "source": [
    "class TrieNode:\n",
    "    def __init__(self):\n",
    "        self.children = {}\n",
    "        self.isEndOfWord = False\n",
    "\n",
    "class Trie:\n",
    "\n",
    "    def __init__(self):\n",
    "        self.root = TrieNode()\n",
    "\n",
    "    def insert(self, word: str) -> None:\n",
    "        node = self.root\n",
    "        for char in word:\n",
    "            if char not in node.children:\n",
    "                node.children[char] = TrieNode()\n",
    "            node = node.children[char]\n",
    "        node.isEndOfWord = True\n",
    "\n",
    "    def search(self, word: str) -> bool:\n",
    "        node = self._searchNode(word)\n",
    "        return node is not None and node.isEndOfWord\n",
    "\n",
    "    def startsWith(self, prefix: str) -> bool:\n",
    "        node = self._searchNode(prefix)\n",
    "        return node is not None\n",
    "\n",
    "    def _searchNode(self, word: str) -> TrieNode:\n",
    "        node = self.root\n",
    "        for char in word:\n",
    "            if char in node.children:\n",
    "                node = node.children[char]\n",
    "            else:\n",
    "                return None\n",
    "        return node\n",
    "\n",
    "# Your Trie object will be instantiated and called as such:\n",
    "# obj = Trie()\n",
    "# obj.insert(word)\n",
    "# param_2 = obj.search(word)\n",
    "# param_3 = obj.startsWith(prefix)"
   ]
  },
  {
   "cell_type": "markdown",
   "metadata": {},
   "source": [
    "# 394. Decode String"
   ]
  },
  {
   "cell_type": "code",
   "execution_count": null,
   "metadata": {},
   "outputs": [],
   "source": [
    "class Solution:\n",
    "    def decodeString(self, s: str) -> str:\n",
    "        stack = []\n",
    "        current_num = 0\n",
    "        current_string = \"\"\n",
    "        \n",
    "        for char in s:\n",
    "            if char.isdigit():\n",
    "                current_num = current_num * 10 + int(char)\n",
    "            elif char == '[':\n",
    "                stack.append(current_num)\n",
    "                stack.append(current_string)\n",
    "                current_num, current_string = 0, \"\"\n",
    "            elif char == ']':\n",
    "                prev_string = stack.pop()\n",
    "                repeat_num = stack.pop()\n",
    "                current_string = prev_string + current_string * repeat_num\n",
    "            else:\n",
    "                current_string += char\n",
    "                \n",
    "        return current_string"
   ]
  },
  {
   "cell_type": "markdown",
   "metadata": {},
   "source": [
    "# 36. Valid Sudoku"
   ]
  },
  {
   "cell_type": "code",
   "execution_count": 4,
   "metadata": {},
   "outputs": [],
   "source": [
    "from typing import List\n",
    "\n",
    "class Solution:\n",
    "    def isValidSudoku(self, board: List[List[str]]) -> bool:\n",
    "        N = 9\n",
    "\n",
    "        #hash sets\n",
    "        rows = [set() for _ in range(N)]\n",
    "        cols = [set() for _ in range(N)]\n",
    "        boxes = [set() for _ in range(N)]\n",
    "\n",
    "        for r in range(N):\n",
    "            for c in range(N):\n",
    "                val = board[r][c]\n",
    "                if val == \".\":\n",
    "                    continue\n",
    "\n",
    "                if val in rows[r]:\n",
    "                    return False\n",
    "                rows[r].add(val)\n",
    "\n",
    "                if val in cols[c]:\n",
    "                    return False\n",
    "                cols[c].add(val)\n",
    "\n",
    "                idx = (r//3 * 3 + c//3)\n",
    "                if val in boxes[idx]:\n",
    "                    return False\n",
    "                boxes[idx].add(val)\n",
    "        \n",
    "        return True"
   ]
  },
  {
   "cell_type": "markdown",
   "metadata": {},
   "source": [
    "92. Reverse Linked List II"
   ]
  },
  {
   "cell_type": "code",
   "execution_count": 8,
   "metadata": {},
   "outputs": [],
   "source": [
    "from typing import Optional\n",
    "\n",
    "# Definition for singly-linked list.\n",
    "class ListNode:\n",
    "     def __init__(self, val=0, next=None):\n",
    "         self.val = val\n",
    "         self.next = next\n",
    "class Solution:\n",
    "    def reverseBetween(\n",
    "        self, head: Optional[ListNode], m: int, n: int) -> Optional[ListNode]:\n",
    "        # Empty list\n",
    "        if not head:\n",
    "            return None\n",
    "\n",
    "        # Move the two pointers until they reach the proper starting point\n",
    "        # in the list.\n",
    "        cur, prev = head, None\n",
    "        while m > 1:\n",
    "            prev = cur\n",
    "            cur = cur.next\n",
    "            m, n = m - 1, n - 1\n",
    "\n",
    "        # The two pointers that will fix the final connections.\n",
    "        tail, con = cur, prev\n",
    "\n",
    "        # Iteratively reverse the nodes until n becomes 0.\n",
    "        while n:\n",
    "            third = cur.next\n",
    "            cur.next = prev\n",
    "            prev = cur\n",
    "            cur = third\n",
    "            n -= 1\n",
    "\n",
    "        # Adjust the final connections as explained in the algorithm\n",
    "        if con:\n",
    "            con.next = prev\n",
    "        else:\n",
    "            head = prev\n",
    "        tail.next = cur\n",
    "        return head"
   ]
  },
  {
   "cell_type": "markdown",
   "metadata": {},
   "source": [
    "82. Remove Duplicates from Sorted List II"
   ]
  },
  {
   "cell_type": "code",
   "execution_count": null,
   "metadata": {},
   "outputs": [],
   "source": [
    "class Solution:\n",
    "    def deleteDuplicates(self, head: Optional[ListNode]) -> Optional[ListNode]:\n",
    "        # sentinel\n",
    "        sentinel = ListNode(0, head)\n",
    "\n",
    "        # predecessor = the last node\n",
    "        # before the sublist of duplicates\n",
    "        pred = sentinel\n",
    "\n",
    "        while head:\n",
    "            # If it's the beginning of a duplicates sublist\n",
    "            # skip all duplicates\n",
    "            if head.next and head.val == head.next.val:\n",
    "                # move till the end of duplicates sublist\n",
    "                while head.next and head.val == head.next.val:\n",
    "                    head = head.next\n",
    "\n",
    "                # Skip all duplicates\n",
    "                pred.next = head.next\n",
    "\n",
    "            # Otherwise, move predecessor\n",
    "            else:\n",
    "                pred = pred.next\n",
    "\n",
    "            # move forward\n",
    "            head = head.next\n",
    "\n",
    "        return sentinel.next"
   ]
  }
 ],
 "metadata": {
  "kernelspec": {
   "display_name": "Python 3",
   "language": "python",
   "name": "python3"
  },
  "language_info": {
   "codemirror_mode": {
    "name": "ipython",
    "version": 3
   },
   "file_extension": ".py",
   "mimetype": "text/x-python",
   "name": "python",
   "nbconvert_exporter": "python",
   "pygments_lexer": "ipython3",
   "version": "3.13.0"
  }
 },
 "nbformat": 4,
 "nbformat_minor": 2
}
