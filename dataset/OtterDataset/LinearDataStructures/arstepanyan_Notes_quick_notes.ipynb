{
 "cells": [
  {
   "cell_type": "markdown",
   "metadata": {},
   "source": [
    "# Generate random numbers and spot outliers"
   ]
  },
  {
   "cell_type": "code",
   "execution_count": 8,
   "metadata": {},
   "outputs": [],
   "source": [
    "import numpy as np\n",
    "import pandas as pd\n",
    "import matplotlib.pyplot as plt\n",
    "%matplotlib inline"
   ]
  },
  {
   "cell_type": "markdown",
   "metadata": {},
   "source": [
    "## Generate random uniform and normal nambers"
   ]
  },
  {
   "cell_type": "code",
   "execution_count": 24,
   "metadata": {},
   "outputs": [
    {
     "data": {
      "image/png": "[encoded data removed]",
      "text/plain": [
       "<matplotlib.figure.Figure at 0x10ed74588>"
      ]
     },
     "metadata": {},
     "output_type": "display_data"
    }
   ],
   "source": [
    "## generate random uniform numbers\n",
    "rand_unif = np.random.uniform(low=0, high=1, size=1000)\n",
    "_ = plt.hist(rand_unif, bins=15, normed=True)"
   ]
  },
  {
   "cell_type": "code",
   "execution_count": 25,
   "metadata": {},
   "outputs": [
    {
     "data": {
      "image/png": "[encoded data removed]",
      "text/plain": [
       "<matplotlib.figure.Figure at 0x10f0872b0>"
      ]
     },
     "metadata": {},
     "output_type": "display_data"
    }
   ],
   "source": [
    "## generate random normals\n",
    "rand_normal = np.random.normal(loc=0, scale=1, size=1000)\n",
    "_ = plt.hist(rand_normal, bins=15, normed=True)"
   ]
  },
  {
   "cell_type": "markdown",
   "metadata": {},
   "source": [
    "## Spot and delete outliers"
   ]
  },
  {
   "cell_type": "code",
   "execution_count": 105,
   "metadata": {},
   "outputs": [
    {
     "name": "stdout",
     "output_type": "stream",
     "text": [
      "[ 0.72903235         nan  0.54328896  0.6702424          nan  0.77119614\n",
      "  0.8145356          nan  0.36348555  0.00967293]\n"
     ]
    },
    {
     "data": {
      "text/plain": [
       "array([ 0.72903235,  0.54328896,  0.6702424 ,  0.77119614,  0.8145356 ,\n",
       "        0.36348555,  0.00967293])"
      ]
     },
     "execution_count": 105,
     "metadata": {},
     "output_type": "execute_result"
    }
   ],
   "source": [
    "############## Spot outliers ####################\n",
    "## generate random uniform numbers\n",
    "random_uniform = np.random.uniform(0, 1, 10)\n",
    "\n",
    "## set some values to be big\n",
    "for i in [1, 4, 7]:\n",
    "    random_uniform[i] = 40\n",
    "    \n",
    "## the threshold for outliers\n",
    "outlier_threshold = np.median(random_uniform) + 2 * np.std(random_uniform)\n",
    "\n",
    "## find the outliers and set to nan\n",
    "for i, value in np.ndenumerate(random_uniform):\n",
    "    if value > outlier_threshold:\n",
    "        random_uniform[i] = None\n",
    "print(random_uniform)\n",
    "# delete nan values\n",
    "random_uniform = random_uniform[~np.isnan(random_uniform)]\n",
    "random_uniform"
   ]
  },
  {
   "cell_type": "code",
   "execution_count": 109,
   "metadata": {},
   "outputs": [
    {
     "name": "stdout",
     "output_type": "stream",
     "text": [
      "[  0.76020576  40.           0.90301888   0.99056471  40.           0.33934337\n",
      "   0.23730585  40.           0.94409378   0.31477719]\n",
      "[ 0.76020576  0.90301888  0.99056471  0.33934337  0.23730585  0.94409378\n",
      "  0.31477719]\n"
     ]
    }
   ],
   "source": [
    "## Faster way to delete the outliers\n",
    "## generate random uniform numbers\n",
    "random_uniform = np.random.uniform(0, 1, 10)\n",
    "\n",
    "## set some values to be big\n",
    "for i in [1, 4, 7]:\n",
    "    random_uniform[i] = 40\n",
    "print(random_uniform)\n",
    "\n",
    "def reject_outliers(data, m=2):\n",
    "    return data[abs(data - np.median(data)) < m * np.std(data)]\n",
    "\n",
    "print(reject_outliers(random_uniform))"
   ]
  },
  {
   "cell_type": "markdown",
   "metadata": {},
   "source": [
    "## Data Structures\n",
    "\n",
    "### Arrays\n",
    "\n",
    "**A contiguous block of memory**\n",
    "\n",
    "* Mutable\n",
    "* Retrieving and updating - O(1)\n",
    "* Inserting and deleting - O(n)\n",
    "\n",
    "### Strings\n",
    "\n",
    "**A special kind of array made out of characters**\n",
    "\n",
    "* Immutable\n",
    "* s = s[1:] or s += '123' creates a new array of characters that is then assigned back to s.\n",
    "\n",
    "### Linked Lists\n",
    "\n",
    "**A singly linked list is a data struture that contains a sequence of nodes such that each node contains an object and a reference to the next node in the list.**\n",
    "\n",
    "* Inserting and deleting - O(1)\n",
    "* Obtaining *k*th element - O(n)\n",
    "\n",
    "### Stacks\n",
    "\n",
    "**Stacks support last-in, first-out semantics**\n",
    "\n",
    "* push to the back - O(1)\n",
    "* pop from the back - O(1)\n",
    "\n",
    "### Queue\n",
    "\n",
    "**Queues support first-in, first-out semantics**\n",
    "\n",
    "* enqueue (push to the front) - O(1)\n",
    "* dequeue (pop from the back) - O(1)\n",
    "\n",
    "\n",
    "### Binary Trees\n",
    "\n",
    "**A binary tree is either empty, or a *root* node *r* together with a left binary tree and a right binary tree. The subtrees themselves are binary trees**\n",
    "\n",
    "* **Full binary tree**: Every node other than leaves has two children.\n",
    "* **Perfect binary tree**: Full binary tree in which all leaves are at the same depth, and in which every parent has two children.\n",
    "* **Complete binary tree**: Every level, except possibly the last, is completely filled, and all nodes are as far left as possible.\n",
    "\n",
    "* A perfect binary tree of height *h* contains exactly $2^{h+1}-1$ nodes, of which $2^h$ are leaves.\n",
    "* A complete binary tree on $n$ nodes has height $log{n}$\n",
    "* The minimum value of the height of the tree is $log{n}$ (complete binary tree) and the maximum value is $n$ (skewed).\n",
    "\n",
    "\n",
    "### Heaps\n",
    "\n",
    "**Specialized binary tree - it is complete and the keys must satisfy the *heap property***\n",
    "\n",
    "* heap_property\n",
    "    * **max-heap**: the key at each node is at least as **great** as the keys stored at its children.\n",
    "        * inserting - O(log n)\n",
    "        * lookup for the max element - O(1)\n",
    "        * deleting the max element - O(log n)\n",
    "        * searching for arbitrary keys - O(n)\n",
    "    * **min-heap**: the key at each node is at least as **less** as the keys stored at its children.\n",
    "        * insertion - O(log n)\n",
    "        * lookup for the min element - O(1)\n",
    "        * deleting the min element - O(log n)\n",
    "        * searching for arbitrary keys - O(n)\n",
    "        \n",
    "### Hash Tables\n",
    "\n",
    "A hash table is a data structure used to store keys, optionally, with corresponding values.\n",
    "\n",
    "* Insert, delete, lookup - O(1)"
   ]
  },
  {
   "cell_type": "markdown",
   "metadata": {},
   "source": [
    "## Searching\n",
    "\n",
    "### Binary search\n",
    "\n",
    "Time complexity - O(n log n)\n",
    "\n",
    "The idea is to eliminate half the keys from consideration by keeping the keys in sorted order. If the search key is not equal to the middle element of the array, one of the two sets of eys to the left and to the right of the middle element can be eliminated from further consideration."
   ]
  },
  {
   "cell_type": "code",
   "execution_count": 1,
   "metadata": {},
   "outputs": [],
   "source": [
    "def bsearch(t, A):\n",
    "    L, U = 0, len(A) - 1\n",
    "    while L <= U:\n",
    "        M = (L + U) // 2\n",
    "        if A[M] < t:\n",
    "            L = M + 1\n",
    "        elif A[M] == t:\n",
    "            return M\n",
    "        else:\n",
    "            U = M - 1\n",
    "    return -1"
   ]
  },
  {
   "cell_type": "markdown",
   "metadata": {},
   "source": [
    "## Sorting\n",
    "\n",
    "\n",
    "### Bubble Sort\n",
    "\n",
    "Bubble Sort is the simplest sorting algorithm that works by repeatedly swapping the adjacent elements if they are in wrong order.\n",
    "\n",
    "* Time complexity - O(n^2)\n",
    "* Extra Space - O(1)\n",
    "\n",
    "### Selection Sort\n",
    "\n",
    "The selection sort algorithm sorts an array by repeatedly finding the minimum element (considering ascending order) from unsorted part and putting it at the beginning. The algorithm maintains two subarrays in a given array.   \n",
    "\n",
    "In every iteration of selection sort, the minimum element (considering ascending order) from the unsorted subarray is picked and moved to the sorted subarray.\n",
    "\n",
    "* Time complexity - O(n^2)\n",
    "* Extra space - O(1)\n",
    "\n",
    "\n",
    "### Insertion Sort\n",
    "\n",
    "Insertion sort is a simple sorting algorithm that works the way we sort playing cards in our hands.  \n",
    "\n",
    "Pick element arr[i] and insert it into sorted sequence arr[0…i-1]\n",
    "\n",
    "* Time Complexity - O(n^2)\n",
    "* Extra Space - O(1)\n",
    "\n",
    "### Merge Sort\n",
    "\n",
    "Merge Sort is a Divide and Conquer algorithm. It divides input array in two halves, calls itself for the two halves and then merges the two sorted halves. \n",
    "\n",
    "* Time complexity - O(n log n)\n",
    "* Extra Space - O(n)\n",
    "\n",
    "## Quick Sort\n",
    "\n",
    "QuickSort is a Divide and Conquer algorithm. It picks an element as pivot and partitions the given array around the picked pivot. \n",
    "\n",
    "* Time complexity - O(n log n)\n",
    "* Extra Space - O(1)"
   ]
  }
 ],
 "metadata": {
  "kernelspec": {
   "display_name": "Python 3",
   "language": "python",
   "name": "python3"
  },
  "language_info": {
   "codemirror_mode": {
    "name": "ipython",
    "version": 3
   },
   "file_extension": ".py",
   "mimetype": "text/x-python",
   "name": "python",
   "nbconvert_exporter": "python",
   "pygments_lexer": "ipython3",
   "version": "3.7.3"
  }
 },
 "nbformat": 4,
 "nbformat_minor": 4
}
