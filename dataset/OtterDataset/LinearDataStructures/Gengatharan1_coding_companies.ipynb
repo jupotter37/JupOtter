{
 "cells": [
  {
   "cell_type": "markdown",
   "metadata": {},
   "source": [
    "### **1. Given the values of a,b and x in the equation ax + b = y. Find the value of y.**\n",
    "\n",
    "**Sample Testcase:**\n",
    "\n",
    "**INPUT**\n",
    "\n",
    "3 5 2\n",
    "\n",
    "**OUTPUT**\n",
    "\n",
    "11"
   ]
  },
  {
   "cell_type": "code",
   "execution_count": null,
   "metadata": {},
   "outputs": [
    {
     "name": "stdout",
     "output_type": "stream",
     "text": [
      "11\n"
     ]
    }
   ],
   "source": [
    "def calculate_y(a, b, x):\n",
    "    return a * x + b\n",
    "\n",
    "a, b, x = map(int, input().split())\n",
    "y = calculate_y(a, b, x)\n",
    "print(y)"
   ]
  },
  {
   "cell_type": "markdown",
   "metadata": {},
   "source": [
    "### **2. Given a number N and array of N integers, print the difference between the indices of smallest and largest number(if there are multiple occurances, consider the first occurance).**\n",
    "\n",
    "Input Size : |N| <= 1000000\n",
    "\n",
    "**Sample Testcase:**\n",
    "\n",
    "**INPUT**\n",
    "\n",
    "5\n",
    "\n",
    "3 5 4 4 7\n",
    "\n",
    "**OUTPUT**\n",
    "\n",
    "4"
   ]
  },
  {
   "cell_type": "code",
   "execution_count": 2,
   "metadata": {},
   "outputs": [
    {
     "name": "stdout",
     "output_type": "stream",
     "text": [
      "4\n"
     ]
    }
   ],
   "source": [
    "def index_difference_min_max(N, arr):\n",
    "    if N == 0:\n",
    "        print(-1)\n",
    "        return\n",
    "\n",
    "    min_value = float('inf')\n",
    "    max_value = float('-inf')\n",
    "    min_index = -1\n",
    "    max_index = -1\n",
    "\n",
    "    for i in range(N):\n",
    "        if arr[i] < min_value:\n",
    "            min_value = arr[i]\n",
    "            min_index = i\n",
    "        if arr[i] > max_value:\n",
    "            max_value = arr[i]\n",
    "            max_index = i\n",
    "\n",
    "    index_difference = abs(max_index - min_index)\n",
    "    print(index_difference)\n",
    "\n",
    "N = int(input())\n",
    "arr = list(map(int, input().split()))\n",
    "index_difference_min_max(N, arr)"
   ]
  },
  {
   "cell_type": "markdown",
   "metadata": {},
   "source": [
    "### **3. How many possible ways are to shuffle given number of playing cards?.**\n",
    "\n",
    "Input Size : |N| <= 1000000\n",
    "\n",
    "**Sample Testcase:**\n",
    "\n",
    "**INPUT**\n",
    "\n",
    "7\n",
    "\n",
    "**OUTPUT**\n",
    "\n",
    "5040"
   ]
  },
  {
   "cell_type": "code",
   "execution_count": 3,
   "metadata": {},
   "outputs": [
    {
     "name": "stdout",
     "output_type": "stream",
     "text": [
      "5040\n"
     ]
    }
   ],
   "source": [
    "import math\n",
    "\n",
    "N = int(input(\"Enter the number of cards: \"))\n",
    "\n",
    "# Calculate factorial\n",
    "if N <= 1000000:\n",
    "    result = math.factorial(N)\n",
    "    print(result)\n",
    "else:\n",
    "    print(\"Input size exceeds the limit.\")"
   ]
  },
  {
   "cell_type": "markdown",
   "metadata": {},
   "source": [
    "### **4. Given 2 arrays print 'yes' if they are mirror images of each other,otherwise 'no'.**\n",
    "\n",
    "Input Size : N <= 1000000\n",
    "\n",
    "**Sample Testcase:**\n",
    "\n",
    "**INPUT**\n",
    "\n",
    "4\n",
    "\n",
    "1 2 3 4\n",
    "\n",
    "4 3 2 1\n",
    "\n",
    "**OUTPUT**\n",
    "\n",
    "yes"
   ]
  },
  {
   "cell_type": "code",
   "execution_count": 5,
   "metadata": {},
   "outputs": [
    {
     "name": "stdout",
     "output_type": "stream",
     "text": [
      "yes\n"
     ]
    }
   ],
   "source": [
    "def are_mirror_images(arr1, arr2, N):\n",
    "    if arr1 == arr2[::-1]:\n",
    "        return \"yes\"\n",
    "    else:\n",
    "        return \"no\"\n",
    "\n",
    "N = int(input())\n",
    "arr1 = list(map(int, input().split()))\n",
    "arr2 = list(map(int, input().split()))\n",
    "print(are_mirror_images(arr1, arr2, N))"
   ]
  },
  {
   "cell_type": "markdown",
   "metadata": {},
   "source": [
    "### **5. Given base(B) and height(H) of a triangle find its area.**\n",
    "\n",
    "Input Size : N <= 1000000\n",
    "\n",
    "**Sample Testcase:**\n",
    "\n",
    "**INPUT**\n",
    "\n",
    "2 4\n",
    "\n",
    "**OUTPUT**\n",
    "\n",
    "4"
   ]
  },
  {
   "cell_type": "code",
   "execution_count": 4,
   "metadata": {},
   "outputs": [
    {
     "name": "stdout",
     "output_type": "stream",
     "text": [
      "4.0\n"
     ]
    }
   ],
   "source": [
    "def calculate_triangle_area(B, H):\n",
    "    return (1/2) * B * H\n",
    "\n",
    "B, H = map(int, input().split())\n",
    "area = calculate_triangle_area(B, H)\n",
    "print(area)"
   ]
  },
  {
   "cell_type": "markdown",
   "metadata": {},
   "source": [
    "### **6. Given a number N and an array of N strings,Print yes, if all strings have atleast one vowel in them otherwise print no.**\n",
    "\n",
    "Input Size : N <= 1000\n",
    "\n",
    "**Sample Testcase:**\n",
    "\n",
    "**INPUT**\n",
    "\n",
    "5\n",
    "\n",
    "code\n",
    "\n",
    "overload\n",
    "\n",
    "vishal\n",
    "\n",
    "sundar\n",
    "\n",
    "anish\n",
    "\n",
    "**OUTPUT**\n",
    "\n",
    "yes"
   ]
  },
  {
   "cell_type": "code",
   "execution_count": 6,
   "metadata": {},
   "outputs": [
    {
     "name": "stdout",
     "output_type": "stream",
     "text": [
      "yes\n"
     ]
    }
   ],
   "source": [
    "def contains_vowel(s):\n",
    "    vowels = \"aeiouAEIOU\"\n",
    "    for char in s:\n",
    "        if char in vowels:\n",
    "            return True\n",
    "    return False\n",
    "\n",
    "def check_all_strings_have_vowels(N, strings):\n",
    "    for string in strings:\n",
    "        if not contains_vowel(string):\n",
    "            return \"no\"\n",
    "    return \"yes\"\n",
    "\n",
    "N = int(input())\n",
    "strings = [input().strip() for _ in range(N)]\n",
    "print(check_all_strings_have_vowels(N, strings))"
   ]
  },
  {
   "cell_type": "markdown",
   "metadata": {},
   "source": [
    "### **7. Given a string and a number K, change every kth character to uppercase from beginning in string.**\n",
    "\n",
    "**Sample Testcase:**\n",
    "\n",
    "**INPUT**\n",
    "\n",
    "string 2\n",
    "\n",
    "**OUTPUT**\n",
    "\n",
    "sTrInG"
   ]
  },
  {
   "cell_type": "code",
   "execution_count": null,
   "metadata": {},
   "outputs": [
    {
     "name": "stdout",
     "output_type": "stream",
     "text": [
      "sTrInG\n"
     ]
    }
   ],
   "source": [
    "my_str, num = input().split()\n",
    "num = int(num)\n",
    "\n",
    "# Check if the given num is positive\n",
    "if num > 0:\n",
    "    my_str_list = list(my_str)\n",
    "    \n",
    "    # Modify every kth character to uppercase\n",
    "    for i in range(num - 1, len(my_str_list), num):\n",
    "        my_str_list[i] = my_str_list[i].upper()\n",
    "    my_str = ''.join(my_str_list)\n",
    "    print(my_str)\n",
    "else:\n",
    "    print(my_str)"
   ]
  },
  {
   "cell_type": "markdown",
   "metadata": {},
   "source": [
    "### **8. Given a string S ,print the vowels first and then consonants in the same order as they have occurred in the string.**\n",
    "\n",
    "Input Size : N <= 10000\n",
    "\n",
    "**Sample Testcase:**\n",
    "\n",
    "**INPUT**\n",
    "\n",
    "GuVI\n",
    "\n",
    "**OUTPUT**\n",
    "\n",
    "uIGV"
   ]
  },
  {
   "cell_type": "code",
   "execution_count": 8,
   "metadata": {},
   "outputs": [
    {
     "name": "stdout",
     "output_type": "stream",
     "text": [
      "uIGV\n"
     ]
    }
   ],
   "source": [
    "def separate_vowels_consonants(S):\n",
    "    vowels = \"aeiouAEIOU\"\n",
    "    vowel_part = \"\"\n",
    "    consonant_part = \"\"\n",
    "    \n",
    "    for char in S:\n",
    "        if char in vowels:\n",
    "            vowel_part += char\n",
    "        elif char.isalpha():\n",
    "            consonant_part += char\n",
    "    print(vowel_part + consonant_part)\n",
    "\n",
    "S = input().strip()\n",
    "separate_vowels_consonants(S)"
   ]
  },
  {
   "cell_type": "markdown",
   "metadata": {},
   "source": [
    "### **9. Given a number 'N' print the sum of each digit to the power of number of digits in given input.**\n",
    "\n",
    "**Example:**\n",
    "\n",
    "Input => 1234\n",
    "=> ( 1 ^ 4 ) + ( 2 ^ 4 ) + ( 3 ^ 4 ) + ( 4 ^ 4 )\n",
    "=> 1 + 16 + 81 + 256\n",
    "\n",
    "Output => 354\n",
    "N <=100000000000\n",
    "\n",
    "**Sample Testcase:**\n",
    "\n",
    "**INPUT**\n",
    "\n",
    "1234\n",
    "\n",
    "**OUTPUT**\n",
    "\n",
    "354"
   ]
  },
  {
   "cell_type": "code",
   "execution_count": null,
   "metadata": {},
   "outputs": [
    {
     "name": "stdout",
     "output_type": "stream",
     "text": [
      "354\n"
     ]
    }
   ],
   "source": [
    "def sum_of_powers(n):\n",
    "    str_n = str(n)\n",
    "    num_digits = len(str_n)\n",
    "    total_sum = 0\n",
    "    \n",
    "    for digit in str_n:\n",
    "        total_sum += int(digit) ** num_digits\n",
    "    return total_sum\n",
    "\n",
    "n = int(input())\n",
    "result = sum_of_powers(n)\n",
    "print(result)"
   ]
  },
  {
   "cell_type": "markdown",
   "metadata": {},
   "source": [
    "### **10. Given a number N followed by a list of N numbers. Write a program to reverse the list and print the list.**\n",
    "\n",
    "Input Size : 1 <= N <= 10000\n",
    "\n",
    "**Sample Testcases:**\n",
    "\n",
    "**INPUT**\n",
    "\n",
    "7\n",
    "\n",
    "1 2 3 4 5 6 7\n",
    "\n",
    "**OUTPUT**\n",
    "\n",
    "7->6->5->4->3->2->1"
   ]
  },
  {
   "cell_type": "code",
   "execution_count": null,
   "metadata": {},
   "outputs": [
    {
     "name": "stdout",
     "output_type": "stream",
     "text": [
      "7->6->5->4->3->2->1\n"
     ]
    }
   ],
   "source": [
    "def reverse_list_and_print(n, numbers):\n",
    "    reversed_list = numbers[::-1]\n",
    "    output = '->'.join(map(str, reversed_list))\n",
    "    print(output)\n",
    "\n",
    "N = int(input())\n",
    "numbers = list(map(int, input().split()))\n",
    "reverse_list_and_print(N, numbers)"
   ]
  },
  {
   "cell_type": "markdown",
   "metadata": {},
   "source": [
    "### **11. Given 2 numbers N,K and an array of N integers, find if the element K exists in the array.**\n",
    "\n",
    "Input Size : N <= 100000\n",
    "\n",
    "**Sample Testcase:**\n",
    "\n",
    "**INPUT**\n",
    "\n",
    "5 2\n",
    "\n",
    "1 2 3 4 5\n",
    "\n",
    "**OUTPUT**\n",
    "\n",
    "yes\n",
    "\n",
    "HINT: Read about Binary Search"
   ]
  },
  {
   "cell_type": "code",
   "execution_count": 11,
   "metadata": {},
   "outputs": [
    {
     "name": "stdout",
     "output_type": "stream",
     "text": [
      "yes\n"
     ]
    }
   ],
   "source": [
    "def binary_search(arr, target):\n",
    "    left, right = 0, len(arr) - 1\n",
    "    \n",
    "    while left <= right:\n",
    "        mid = left + (right - left) // 2\n",
    "        \n",
    "        if arr[mid] == target:\n",
    "            return True\n",
    "        elif arr[mid] < target:\n",
    "            left = mid + 1\n",
    "        else:\n",
    "            right = mid - 1\n",
    "            \n",
    "    return False\n",
    "\n",
    "N, K = map(int, input().split())\n",
    "arr = list(map(int, input().split()))\n",
    "arr.sort()\n",
    "\n",
    "# Perform binary search to find K\n",
    "if binary_search(arr, K):\n",
    "    print(\"yes\")\n",
    "else:\n",
    "    print(\"no\")"
   ]
  },
  {
   "cell_type": "markdown",
   "metadata": {},
   "source": [
    "### **12. Print the position of first 1 from left to right, in binary representation of product of 2 integers after the first one.**\n",
    "\n",
    "**Sample Testcase:**\n",
    "\n",
    "**INPUT**\n",
    "\n",
    "18 2\n",
    "\n",
    "**OUTPUT**\n",
    "\n",
    "4"
   ]
  },
  {
   "cell_type": "code",
   "execution_count": 13,
   "metadata": {},
   "outputs": [
    {
     "name": "stdout",
     "output_type": "stream",
     "text": [
      "4\n"
     ]
    }
   ],
   "source": [
    "def first_one_position(a, b):\n",
    "    product = a * b\n",
    "    if product == 0:\n",
    "        return 0\n",
    "    \n",
    "    # Convert to binary representation\n",
    "    binary_repr = bin(product)[2:]  # Remove the '0b' prefix\n",
    "    \n",
    "    # Find the position of the second '1'\n",
    "    first_one_found = False\n",
    "    for i, bit in enumerate(binary_repr):\n",
    "        if bit == '1':\n",
    "            if first_one_found:\n",
    "                return i + 1\n",
    "            first_one_found = True\n",
    "    return 0\n",
    "\n",
    "a, b = map(int, input().split())\n",
    "position = first_one_position(a, b)\n",
    "print(position)"
   ]
  },
  {
   "cell_type": "markdown",
   "metadata": {},
   "source": [
    "### **13. Given a sentence interchange the between the word 'and'.**\n",
    "\n",
    "Input Size : |S| <= 1000000\n",
    "\n",
    "**Sample Testcase:**\n",
    "\n",
    "**INPUT**\n",
    "\n",
    "jack and jill went up and down to get water\n",
    "\n",
    "**OUTPUT**\n",
    "\n",
    "jill and jack went down and up to get water"
   ]
  },
  {
   "cell_type": "code",
   "execution_count": 14,
   "metadata": {},
   "outputs": [
    {
     "name": "stdout",
     "output_type": "stream",
     "text": [
      "jill and jack went down and up to get water\n"
     ]
    }
   ],
   "source": [
    "def swap_words_around_and(sentence):\n",
    "    words = sentence.split()\n",
    "    i = 0\n",
    "    while i < len(words):\n",
    "        if words[i] == \"and\" and i > 0 and i < len(words) - 1:\n",
    "            words[i-1], words[i+1] = words[i+1], words[i-1]\n",
    "            i += 2\n",
    "        else:\n",
    "            i += 1\n",
    "    return ' '.join(words)\n",
    "\n",
    "sentence = input().strip()\n",
    "print(swap_words_around_and(sentence))"
   ]
  },
  {
   "cell_type": "markdown",
   "metadata": {},
   "source": [
    "### **14. Given a number N print a right angled traingle structure with the starting level as single 1 and every immediate proceeding level with 2 more additional ones than the previous level .Repeat the pattern for N levels.**\n",
    "\n",
    "Input Size : N <= 1000\n",
    "\n",
    "**Sample Testcase:**\n",
    "\n",
    "**INPUT**\n",
    "\n",
    "3\n",
    "\n",
    "**OUTPUT**\n",
    "\n",
    "1\n",
    "\n",
    "1 1 1\n",
    "\n",
    "1 1 1 1 1"
   ]
  },
  {
   "cell_type": "code",
   "execution_count": 15,
   "metadata": {},
   "outputs": [
    {
     "name": "stdout",
     "output_type": "stream",
     "text": [
      "1\n",
      "1 1 1\n",
      "1 1 1 1 1\n"
     ]
    }
   ],
   "source": [
    "N = int(input())\n",
    "k = '1'\n",
    "for i in range(N):\n",
    "    print(k)\n",
    "    k += ' 1 1'"
   ]
  },
  {
   "cell_type": "markdown",
   "metadata": {},
   "source": [
    "### **15. Given a string 'S', sort the characters based on the frequency(highest and lowest) and print the resultant string.(Note:If the frequency of different character is same then sort based on alphabetical order).**\n",
    "\n",
    "Input Size : 1 <= S <= 100000\n",
    "\n",
    "**Sample Testcases:**\n",
    "\n",
    "**INPUT**\n",
    "\n",
    "aabbba\n",
    "\n",
    "**OUTPUT**\n",
    "\n",
    "aaabbb"
   ]
  },
  {
   "cell_type": "code",
   "execution_count": null,
   "metadata": {},
   "outputs": [
    {
     "name": "stdout",
     "output_type": "stream",
     "text": [
      "aaabbb\n"
     ]
    }
   ],
   "source": [
    "from collections import Counter\n",
    "\n",
    "def sort_by_frequency(s):\n",
    "    freq = Counter(s)\n",
    "    \n",
    "    # Sort by frequency (descending), then alphabetically (ascending)\n",
    "    sorted_chars = sorted(freq.items(), key=lambda x: (-x[1], x[0]))\n",
    "    result = ''.join(char * count for char, count in sorted_chars)\n",
    "    return result\n",
    "\n",
    "s = input()\n",
    "print(sort_by_frequency(s))"
   ]
  },
  {
   "cell_type": "markdown",
   "metadata": {},
   "source": [
    "### **16. Roman Reigns want to identify the repeated letters in two given strings and capitalize it.Help him to achieve it.**\n",
    "\n",
    "**Sample Testcase:**\n",
    "\n",
    "**INPUT**\n",
    "\n",
    "computer program\n",
    "\n",
    "**OUTPUT**\n",
    "\n",
    "cOMPuteR PROgRaM"
   ]
  },
  {
   "cell_type": "code",
   "execution_count": null,
   "metadata": {},
   "outputs": [
    {
     "name": "stdout",
     "output_type": "stream",
     "text": [
      "cOMPuteR PROgRaM\n"
     ]
    }
   ],
   "source": [
    "from collections import Counter\n",
    "\n",
    "def capitalize_repeated_letters(words):\n",
    "    combined = ''.join(words)\n",
    "    freq = Counter(combined)\n",
    "    repeated_letters = {ch for ch, count in freq.items() if count > 1}\n",
    "    \n",
    "    # to capitalize repeated letters in a word\n",
    "    def process_word(word):\n",
    "        return ''.join(ch.upper() if ch in repeated_letters else ch for ch in word)\n",
    "    result = [process_word(word) for word in words]\n",
    "    return ' '.join(result)\n",
    "\n",
    "words = input().split()\n",
    "print(capitalize_repeated_letters(words))"
   ]
  },
  {
   "cell_type": "markdown",
   "metadata": {},
   "source": [
    "### **17. A tree is a connected acyclic graph. A bipartite graph is a graph, whose vertices can be partitionedinto 2 sets in such a way, that for each edge (u, v) that belongs to the graph, u and v belong todifferent sets. You can find more formal definitions of a tree and a bipartite graph in the notessection below. Consider a tree consisting of n nodes and add edges to it in such a way, that the graph is stillbipartite. Besides, after adding these edges the graph should be simple (should’nt contain loops ormultiple edges). What is the maximum number of edges they can add? A loop is an edge, which connects a node with itself. Graph doesn't contain multiple edges when foreach pair of nodes there is no more than one edge between them. A cycle and a loop aren't thesame.**\n",
    "\n",
    "Input Size : |N| <= 1000000\n",
    "\n",
    "**Sample Testcase:**\n",
    "\n",
    "**INPUT**\n",
    "\n",
    "5\n",
    "\n",
    "1 2\n",
    "\n",
    "2 3\n",
    "\n",
    "3 4\n",
    "\n",
    "4 5\n",
    "\n",
    "**OUTPUT**\n",
    "\n",
    "2"
   ]
  },
  {
   "cell_type": "code",
   "execution_count": null,
   "metadata": {},
   "outputs": [
    {
     "name": "stdout",
     "output_type": "stream",
     "text": [
      "2\n"
     ]
    }
   ],
   "source": [
    "from collections import defaultdict, deque\n",
    "\n",
    "def max_additional_edges(n, edges):\n",
    "    # Tree adjacency list\n",
    "    graph = defaultdict(list)\n",
    "    for u, v in edges:\n",
    "        graph[u].append(v)\n",
    "        graph[v].append(u)\n",
    "    \n",
    "    # Partition into sets A and B using BFS\n",
    "    color = [-1] * (n + 1)  # -1: unvisited, 0: set A, 1: set B\n",
    "    queue = deque([1])\n",
    "    color[1] = 0  # Start with node 1 in set A\n",
    "    set_sizes = [0, 0]  # Sizes of sets A and B\n",
    "    \n",
    "    while queue:\n",
    "        node = queue.popleft()\n",
    "        set_sizes[color[node]] += 1\n",
    "        for neighbor in graph[node]:\n",
    "            if color[neighbor] == -1:  # Unvisited\n",
    "                color[neighbor] = 1 - color[node]  # Assign to the opposite set\n",
    "                queue.append(neighbor)\n",
    "    \n",
    "    a_size, b_size = set_sizes\n",
    "    max_edges = a_size * b_size - (n - 1)\n",
    "    return max_edges\n",
    "\n",
    "n = int(input())\n",
    "edges = []\n",
    "for _ in range(n - 1):\n",
    "    u, v = map(int, input().split())\n",
    "    edges.append((u, v))\n",
    "print(max_additional_edges(n, edges))"
   ]
  },
  {
   "cell_type": "markdown",
   "metadata": {},
   "source": [
    "### **18. Given a string, print the run-length encoded output.**\n",
    "\n",
    "Input Size : N <= 100000\n",
    "\n",
    "**Sample Testcase:**\n",
    "\n",
    "**INPUT**\n",
    "\n",
    "aaab\n",
    "\n",
    "**OUTPUT**\n",
    "\n",
    "a3b1"
   ]
  },
  {
   "cell_type": "code",
   "execution_count": null,
   "metadata": {},
   "outputs": [
    {
     "name": "stdout",
     "output_type": "stream",
     "text": [
      "a3b1\n"
     ]
    }
   ],
   "source": [
    "def run_length_encoding(s):\n",
    "    result = \"\"\n",
    "    \n",
    "    # Start with the first character\n",
    "    current_char = s[0]\n",
    "    count = 1\n",
    "    \n",
    "    # Iterate over the string starting from the second character\n",
    "    for i in range(1, len(s)):\n",
    "        if s[i] == current_char:\n",
    "            count += 1\n",
    "        else:\n",
    "            result += current_char + str(count)\n",
    "            current_char = s[i]\n",
    "            count = 1\n",
    "    result += current_char + str(count)\n",
    "    return result\n",
    "\n",
    "input_str = input().strip()\n",
    "print(run_length_encoding(input_str))"
   ]
  },
  {
   "cell_type": "markdown",
   "metadata": {},
   "source": [
    "### **19. Given two strings S1 and S2,display 'yes' if given two strings are complementary otherwise display 'no'. If we join alphabets of both the strings we should get all 26 capital letters exactly once, then only we can call them as complementary.**\n",
    "\n",
    "**Sample Testcase:**\n",
    "\n",
    "**INPUT**\n",
    "\n",
    "ABDCFGIJKLMNOPQUVWXYZ\n",
    "\n",
    "EHRST\n",
    "\n",
    "**OUTPUT**\n",
    "\n",
    "yes"
   ]
  },
  {
   "cell_type": "code",
   "execution_count": 30,
   "metadata": {},
   "outputs": [
    {
     "name": "stdout",
     "output_type": "stream",
     "text": [
      "yes\n"
     ]
    }
   ],
   "source": [
    "A =['A','B','C','D','E','F','G','H','I','J','K','L','M','N','O','P','Q','R','S','T','U','V','W','X','Y','Z']\n",
    "\n",
    "A1=input()\n",
    "A2=input()\n",
    "\n",
    "cout=0\n",
    "if len(A1)+len(A2)==len(A):\n",
    "    for i in A1:\n",
    "        if i in A:\n",
    "            A.remove(i)\n",
    "    for i in A2:\n",
    "        if i in A:\n",
    "            A.remove(i)\n",
    "    if len(A)==0:\n",
    "        print('yes')\n",
    "    else:\n",
    "        print('no')\n",
    "else:\n",
    "    print('no')"
   ]
  },
  {
   "cell_type": "code",
   "execution_count": null,
   "metadata": {},
   "outputs": [
    {
     "name": "stdout",
     "output_type": "stream",
     "text": [
      "yes\n"
     ]
    }
   ],
   "source": [
    "# Another method:\n",
    "\n",
    "def are_complementary(s1, s2):\n",
    "    combined = set(s1 + s2)\n",
    "    \n",
    "    # Check if the combined set contains all 26 uppercase English letters\n",
    "    if len(combined) == 26 and all('A' <= ch <= 'Z' for ch in combined):\n",
    "        return \"yes\"\n",
    "    else:\n",
    "        return \"no\"\n",
    "\n",
    "s1 = input().strip()\n",
    "s2 = input().strip()\n",
    "print(are_complementary(s1, s2))"
   ]
  },
  {
   "cell_type": "markdown",
   "metadata": {},
   "source": [
    "### **20. Given a number N, find the smallest number which is greater than N with the same digits in N. If N is the greatest digit print 'impossible'.**\n",
    "\n",
    "Input Size : 1 <= N <= 1000000000000000000\n",
    "\n",
    "**Sample Testcases:**\n",
    "\n",
    "**INPUT**\n",
    "\n",
    "123\n",
    "\n",
    "**OUTPUT**\n",
    "\n",
    "132"
   ]
  },
  {
   "cell_type": "code",
   "execution_count": null,
   "metadata": {},
   "outputs": [
    {
     "name": "stdout",
     "output_type": "stream",
     "text": [
      "132\n"
     ]
    }
   ],
   "source": [
    "def next_greater_number(n):\n",
    "    digits = list(str(n))   # Convert the number to a list of digits\n",
    "    length = len(digits)\n",
    "    \n",
    "    # Find the pivot\n",
    "    i = length - 2\n",
    "    while i >= 0 and digits[i] >= digits[i + 1]:\n",
    "        i -= 1\n",
    "    \n",
    "    # If no pivot is found, it's the greatest permutation\n",
    "    if i == -1:\n",
    "        return \"impossible\"\n",
    "    \n",
    "    # Find the smallest larger digit to the right of the pivot\n",
    "    j = length - 1\n",
    "    while digits[j] <= digits[i]:\n",
    "        j -= 1\n",
    "    \n",
    "    # Swap the pivot with the smallest larger digit\n",
    "    digits[i], digits[j] = digits[j], digits[i]\n",
    "    \n",
    "    # Reverse the suffix\n",
    "    digits = digits[:i + 1] + digits[i + 1:][::-1]\n",
    "    \n",
    "    # Convert back to integer and return\n",
    "    return int(\"\".join(digits))\n",
    "\n",
    "n = int(input().strip())\n",
    "print(next_greater_number(n))"
   ]
  },
  {
   "cell_type": "markdown",
   "metadata": {},
   "source": [
    "### **21. Given a string 'S' print the substring of maximum length which is not a palindrome.If more than one solution is possible print the solution which you obtained by performing elimination at the end of the string.**\n",
    "\n",
    "Input Size : 1 <= length <= 1000\n",
    "\n",
    "**Sample Testcases:**\n",
    "\n",
    "**INPUT**\n",
    "\n",
    "ababababa\n",
    "\n",
    "**OUTPUT**\n",
    "\n",
    "abababab\n",
    "\n",
    "**INPUT**\n",
    "\n",
    "hello\n",
    "\n",
    "**OUTPUT**\n",
    "\n",
    "hello"
   ]
  },
  {
   "cell_type": "code",
   "execution_count": null,
   "metadata": {},
   "outputs": [
    {
     "name": "stdout",
     "output_type": "stream",
     "text": [
      "abababab\n"
     ]
    }
   ],
   "source": [
    "def is_palindrome(s):\n",
    "    return s == s[::-1]\n",
    "\n",
    "def longest_non_palindrome_substring(s):\n",
    "    if not is_palindrome(s):\n",
    "        return s\n",
    "\n",
    "    for i in range(len(s) - 1, 0, -1):\n",
    "        substring = s[:i]\n",
    "        if not is_palindrome(substring):\n",
    "            return substring\n",
    "    return \"\"\n",
    "\n",
    "s = input().strip()\n",
    "print(longest_non_palindrome_substring(s))"
   ]
  },
  {
   "cell_type": "markdown",
   "metadata": {},
   "source": [
    "### **22. Given a number n followed by n numbers. Find the numbers which are equal to their index value and print them in sorted order. If no such numbers are present print '-1' without quotes.**\n",
    "\n",
    "Input Size : 1 <= n <= 100000\n",
    "\n",
    "**Sample Testcases:**\n",
    "\n",
    "**INPUT**\n",
    "\n",
    "6\n",
    "\n",
    "6 7 3 3 4 5\n",
    "\n",
    "**OUTPUT**\n",
    "\n",
    "3 4 5"
   ]
  },
  {
   "cell_type": "code",
   "execution_count": 29,
   "metadata": {},
   "outputs": [
    {
     "name": "stdout",
     "output_type": "stream",
     "text": [
      "3 4 5\n"
     ]
    }
   ],
   "source": [
    "def find_numbers_matching_index(n, numbers):\n",
    "    # Collect numbers that match their 1-based index\n",
    "    result = [numbers[i] for i in range(n) if numbers[i] == i]\n",
    "    \n",
    "    # Sort the result and print as required\n",
    "    if result:\n",
    "        print(\" \".join(map(str, sorted(result))))\n",
    "    else:\n",
    "        print(\"-1\")\n",
    "\n",
    "n = int(input().strip())\n",
    "numbers = list(map(int, input().strip().split()))\n",
    "find_numbers_matching_index(n, numbers)"
   ]
  },
  {
   "cell_type": "markdown",
   "metadata": {},
   "source": [
    "### **23. Given 2 numbers A,B. Print the GCD of A! and B!.**\n",
    "\n",
    "**Sample Testcase:**\n",
    "\n",
    "**INPUT**\n",
    "\n",
    "4 2\n",
    "\n",
    "**OUTPUT**\n",
    "\n",
    "2"
   ]
  },
  {
   "cell_type": "code",
   "execution_count": null,
   "metadata": {},
   "outputs": [
    {
     "name": "stdout",
     "output_type": "stream",
     "text": [
      "2\n"
     ]
    }
   ],
   "source": [
    "import math\n",
    "\n",
    "def gcd_of_factorials(a, b):\n",
    "    min_value = min(a, b)\n",
    "    result = math.factorial(min_value)\n",
    "    print(result)\n",
    "\n",
    "a, b = map(int, input().split())\n",
    "gcd_of_factorials(a, b)"
   ]
  },
  {
   "cell_type": "markdown",
   "metadata": {},
   "source": [
    "### **24. Given 2 numbers N,K and N arrays each of size K, print the elements that have appeared in all arrays,if any element are not same print '-1'.**\n",
    "\n",
    "Input Size : 2 <= N, K <= 100000\n",
    "\n",
    "**Sample Testcases:**\n",
    "\n",
    "**INPUT**\n",
    "\n",
    "2 3\n",
    "\n",
    "1 0 2\n",
    "\n",
    "0 8 7\n",
    "\n",
    "**OUTPUT**\n",
    "\n",
    "0"
   ]
  },
  {
   "cell_type": "code",
   "execution_count": null,
   "metadata": {},
   "outputs": [
    {
     "name": "stdout",
     "output_type": "stream",
     "text": [
      "0\n"
     ]
    }
   ],
   "source": [
    "def find_common_elements(N, K, arrays):\n",
    "    common_elements = set(arrays[0])\n",
    "    \n",
    "    # Iterate through the remaining arrays and update the common_elements set\n",
    "    for i in range(1, N):\n",
    "        common_elements &= set(arrays[i])  # Intersection\n",
    "    if not common_elements:\n",
    "        print(-1)\n",
    "    else:\n",
    "        print(\" \".join(map(str, sorted(common_elements))))\n",
    "\n",
    "N, K = map(int, input().split())\n",
    "arrays = [list(map(int, input().split())) for _ in range(N)]\n",
    "find_common_elements(N, K, arrays)"
   ]
  },
  {
   "cell_type": "markdown",
   "metadata": {},
   "source": [
    "### **25. Given a number N followed by N numbers(negative or positive) print the maximum sum of any subarray of the array.**\n",
    "\n",
    "Input Size : 1 <= N <= 100000\n",
    "\n",
    "**Sample Testcases:**\n",
    "\n",
    "**INPUT**\n",
    "\n",
    "7\n",
    "\n",
    "1 2 3 4 5 6 7\n",
    "\n",
    "**OUTPUT**\n",
    "\n",
    "28"
   ]
  },
  {
   "cell_type": "code",
   "execution_count": null,
   "metadata": {},
   "outputs": [
    {
     "name": "stdout",
     "output_type": "stream",
     "text": [
      "28\n"
     ]
    }
   ],
   "source": [
    "def max_subarray_sum(N, arr):\n",
    "    current_sum = arr[0]\n",
    "    max_sum = arr[0]\n",
    "    \n",
    "    for i in range(1, N):\n",
    "        current_sum = max(arr[i], current_sum + arr[i])\n",
    "        max_sum = max(max_sum, current_sum)    \n",
    "    return max_sum\n",
    "\n",
    "N = int(input())\n",
    "arr = list(map(int, input().split()))\n",
    "result = max_subarray_sum(N, arr)\n",
    "print(result)"
   ]
  },
  {
   "cell_type": "markdown",
   "metadata": {},
   "source": [
    "### **26. Given a number N followed by an array of N numbers. Another number D is given. Rotate the array D times and print the array.**\n",
    "\n",
    "Input Size : N <= 100000, D<=100000\n",
    "\n",
    "**Sample Testcase:**\n",
    "\n",
    "**INPUT**\n",
    "\n",
    "4 1\n",
    "\n",
    "3 2 4 1\n",
    "\n",
    "**OUTPUT**\n",
    "\n",
    "2 4 1 3"
   ]
  },
  {
   "cell_type": "code",
   "execution_count": null,
   "metadata": {},
   "outputs": [
    {
     "name": "stdout",
     "output_type": "stream",
     "text": [
      "2 4 1 3\n"
     ]
    }
   ],
   "source": [
    "def rotate_array(N, D, arr):\n",
    "    D = D % N   # Calculate the effective number of rotations\n",
    "    rotated_arr = arr[D:] + arr[:D]     # Rotate the array by slicing\n",
    "    print(\" \".join(map(str, rotated_arr)))\n",
    "\n",
    "N, D = map(int, input().split())\n",
    "arr = list(map(int, input().split()))\n",
    "rotate_array(N, D, arr)"
   ]
  },
  {
   "cell_type": "markdown",
   "metadata": {},
   "source": [
    "### **27. Write a program to give the following output for the given string S of size N.(character containing even number of occurences should be elaborated else print the same format)**\n",
    "\n",
    "Eg 1: Input: a1b10\n",
    "Output: a1bbbbbbbbbb\n",
    "\n",
    "Eg: 2: Input: b3c6d15\n",
    "Output: b3ccccccd15\n",
    "\n",
    "Input Size : 1 <= N <= 100000\n",
    "\n",
    "**Sample Testcases:**\n",
    "\n",
    "**INPUT**\n",
    "\n",
    "a1b10\n",
    "\n",
    "**OUTPUT**\n",
    "\n",
    "a1bbbbbbbbbb"
   ]
  },
  {
   "cell_type": "code",
   "execution_count": null,
   "metadata": {},
   "outputs": [
    {
     "name": "stdout",
     "output_type": "stream",
     "text": [
      "a1bbbbbbbbbb\n"
     ]
    }
   ],
   "source": [
    "import re\n",
    "\n",
    "def process_string(S):\n",
    "    # Using regular expression to match the pattern (letter followed by number)\n",
    "    pattern = re.compile(r'([a-zA-Z])(\\d+)')\n",
    "    result = []\n",
    "\n",
    "    # Find all matches (character followed by number)\n",
    "    for match in pattern.finditer(S):\n",
    "        char = match.group(1)\n",
    "        count = int(match.group(2))\n",
    "\n",
    "        # If the count is even, repeat the character\n",
    "        if count % 2 == 0:\n",
    "            result.append(char * count)\n",
    "        else:\n",
    "            result.append(f\"{char}{count}\")\n",
    "    print(\"\".join(result))\n",
    "\n",
    "S = input().strip()\n",
    "process_string(S)"
   ]
  },
  {
   "cell_type": "markdown",
   "metadata": {},
   "source": [
    "### **28. Given a number N, print all prime numbers less than N(in ascending order).**\n",
    "\n",
    "Input Size : 1 <= N <= 100000\n",
    "\n",
    "**Sample Testcase:**\n",
    "\n",
    "**INPUT**\n",
    "\n",
    "10\n",
    "\n",
    "**OUTPUT**\n",
    "\n",
    "2 3 5 7"
   ]
  },
  {
   "cell_type": "code",
   "execution_count": null,
   "metadata": {},
   "outputs": [
    {
     "name": "stdout",
     "output_type": "stream",
     "text": [
      "2 3 5 7\n"
     ]
    }
   ],
   "source": [
    "def sieve_of_eratosthenes(N):\n",
    "    is_prime = [True] * N\n",
    "    is_prime[0] = is_prime[1] = False\n",
    "    \n",
    "    # Perform the sieve\n",
    "    for i in range(2, int(N**0.5) + 1):\n",
    "        if is_prime[i]:\n",
    "            for j in range(i * i, N, i):\n",
    "                is_prime[j] = False\n",
    "    primes = [i for i in range(2, N) if is_prime[i]]\n",
    "    print(\" \".join(map(str, primes)))\n",
    "\n",
    "N = int(input().strip())\n",
    "sieve_of_eratosthenes(N)"
   ]
  },
  {
   "cell_type": "markdown",
   "metadata": {},
   "source": [
    "### **29. Given a number N, print the smallest number with sum of digits N.**\n",
    "Input Size : 1 <= N <= 100000\n",
    "\n",
    "**Sample Testcase:**\n",
    "\n",
    "**INPUT**\n",
    "\n",
    "12\n",
    "\n",
    "**OUTPUT**\n",
    "\n",
    "39"
   ]
  },
  {
   "cell_type": "code",
   "execution_count": 5,
   "metadata": {},
   "outputs": [
    {
     "name": "stdout",
     "output_type": "stream",
     "text": [
      "39\n"
     ]
    }
   ],
   "source": [
    "def smallest_number_with_sum(N):\n",
    "    digits = []\n",
    "    while N >= 9:\n",
    "        digits.append(9)\n",
    "        N -= 9\n",
    "\n",
    "    if N > 0:\n",
    "        digits.append(N)\n",
    "    \n",
    "    digits.reverse()\n",
    "    print(\"\".join(map(str, digits)))\n",
    "\n",
    "N = int(input().strip())\n",
    "smallest_number_with_sum(N)"
   ]
  },
  {
   "cell_type": "markdown",
   "metadata": {},
   "source": [
    "### **30. Given N strings and a prefix string p. Find how many of the N strings have p as their prefix.**\n",
    "\n",
    "for eg: String[] input={'100','111','10100','10','1111'} prefix='10'\n",
    "output=2\n",
    "\n",
    "Input Size : N <= 100000, string length <=1000, prefix length <=100\n",
    "\n",
    "**Sample Testcase:**\n",
    "\n",
    "**INPUT**\n",
    "\n",
    "5\n",
    "\n",
    "100 111 10100 10 1111\n",
    "\n",
    "10\n",
    "\n",
    "**OUTPUT**\n",
    "\n",
    "3"
   ]
  },
  {
   "cell_type": "code",
   "execution_count": null,
   "metadata": {},
   "outputs": [
    {
     "name": "stdout",
     "output_type": "stream",
     "text": [
      "3\n"
     ]
    }
   ],
   "source": [
    "def count_strings_with_prefix(strings, prefix):\n",
    "    count = 0\n",
    "    prefix_length = len(prefix)\n",
    "    \n",
    "    for string in strings:\n",
    "        # Only check if string length >= prefix length\n",
    "        if len(string) >= prefix_length and string.startswith(prefix):\n",
    "            count += 1    \n",
    "    return count\n",
    "\n",
    "N = int(input())\n",
    "strings = input().split()\n",
    "prefix = input().strip()\n",
    "print(count_strings_with_prefix(strings, prefix))"
   ]
  },
  {
   "cell_type": "markdown",
   "metadata": {},
   "source": [
    "### **31. Given two numbers N,K(N>=K) and an array of N elements, write a program to find the Kth largest element.**\n",
    "\n",
    "Input Size : 1 <= K <= N <= 100000\n",
    "\n",
    "**Sample Testcases:**\n",
    "\n",
    "**INPUT**\n",
    "\n",
    "6 2\n",
    "\n",
    "1 2 3 4 5 6\n",
    "\n",
    "**OUTPUT**\n",
    "\n",
    "5"
   ]
  },
  {
   "cell_type": "code",
   "execution_count": null,
   "metadata": {},
   "outputs": [
    {
     "name": "stdout",
     "output_type": "stream",
     "text": [
      "5\n"
     ]
    }
   ],
   "source": [
    "def find_kth_largest(N, K, arr):\n",
    "    arr.sort(reverse=True)\n",
    "    return arr[K - 1]\n",
    "\n",
    "N, K = map(int, input().split())\n",
    "arr = list(map(int, input().split()))\n",
    "print(find_kth_largest(N, K, arr))"
   ]
  },
  {
   "cell_type": "markdown",
   "metadata": {},
   "source": [
    "### **32. Given an array N, sort it in ascending order till it reaches kth elements and after that sort it in descending order.**\n",
    "\n",
    "Input Size : N <= 100000\n",
    "\n",
    "**Sample Testcase:**\n",
    "\n",
    "**INPUT**\n",
    "\n",
    "5 2\n",
    "\n",
    "4 3 1 2 4\n",
    "\n",
    "**OUTPUT**\n",
    "\n",
    "3 4 4 2 1"
   ]
  },
  {
   "cell_type": "code",
   "execution_count": null,
   "metadata": {},
   "outputs": [
    {
     "name": "stdout",
     "output_type": "stream",
     "text": [
      "3 4 4 2 1\n"
     ]
    }
   ],
   "source": [
    "def custom_sort(N, K, arr):\n",
    "    arr[:K] = sorted(arr[:K])   # Sort first K elements in ascending order\n",
    "    arr[K:] = sorted(arr[K:], reverse=True) # Sort remaining elements in descending order\n",
    "    return arr\n",
    "\n",
    "N, K = map(int, input().split())\n",
    "arr = list(map(int, input().split()))\n",
    "print(*custom_sort(N, K, arr))"
   ]
  },
  {
   "cell_type": "markdown",
   "metadata": {},
   "source": [
    "### **33. Given a sentence S.check whether it is in camelcase.print 'yes' if it is in camelcase otherwise print 'no'.**\n",
    "\n",
    "Input size : |s| <= 100000\n",
    "\n",
    "**Sample Testcase:**\n",
    "\n",
    "**INPUT**\n",
    "\n",
    "CodekataChallenge\n",
    "\n",
    "**OUTPUT**\n",
    "\n",
    "yes"
   ]
  },
  {
   "cell_type": "code",
   "execution_count": null,
   "metadata": {},
   "outputs": [
    {
     "name": "stdout",
     "output_type": "stream",
     "text": [
      "yes\n"
     ]
    }
   ],
   "source": [
    "def is_camel_case(s):\n",
    "    if not s[0].islower():  # Check if the first letter is lowercase\n",
    "        return \"yes\"\n",
    "    \n",
    "    # Check if all subsequent words follow the camelCase rule\n",
    "    for char in s[1:]:\n",
    "        if char.isupper() and char.isalpha():\n",
    "            continue  # Uppercase letters are fine as part of CamelCase\n",
    "        elif char.islower():\n",
    "            continue  # Lowercase letters are fine for continuation of words\n",
    "        else:\n",
    "            return \"no\"  # If it's not an alphabet, it's invalid\n",
    "    return \"yes\"\n",
    "\n",
    "s = input().strip()\n",
    "print(is_camel_case(s))"
   ]
  },
  {
   "cell_type": "markdown",
   "metadata": {},
   "source": [
    "### **34. Given a number N followed by N numbers. Out of these N numbers some of them are repeated. Write a program to find the number which is repeated and print the repeated numbers in sorted order. If no numbers are repeated print \"unique\".**\n",
    "\n",
    "Input Size : 1 <= N <= 100000\n",
    "\n",
    "**Sample Testcase:**\n",
    "\n",
    "**INPUT**\n",
    "\n",
    "7\n",
    "\n",
    "1 2 3 2 3 4 3\n",
    "\n",
    "**OUTPUT**\n",
    "\n",
    "2 3"
   ]
  },
  {
   "cell_type": "code",
   "execution_count": null,
   "metadata": {},
   "outputs": [
    {
     "name": "stdout",
     "output_type": "stream",
     "text": [
      "2 3\n"
     ]
    }
   ],
   "source": [
    "from collections import Counter\n",
    "\n",
    "def find_repeated_numbers(N, arr):\n",
    "    count = Counter(arr)\n",
    "    \n",
    "    # Filter out numbers that appear more than once\n",
    "    repeated_numbers = [num for num, freq in count.items() if freq > 1]\n",
    "    if not repeated_numbers:\n",
    "        return \"unique\"\n",
    "    return ' '.join(map(str, sorted(repeated_numbers)))\n",
    "\n",
    "N = int(input())\n",
    "arr = list(map(int, input().split()))\n",
    "print(find_repeated_numbers(N, arr))"
   ]
  },
  {
   "cell_type": "markdown",
   "metadata": {},
   "source": [
    "### **35. Given a number N an array of N numbers.The task is to find all the star and super star elements in the array an print in a seperate line.Star are those elements which are strictly greater than all the elements on its right side. Super star are those elements which are strictly greater than all the elements on its left and right side.Assume first element (A[0]) is greater than all the elements on its left side, And last element (A[n-1]) is greater than all the elements on its right side.**\n",
    "\n",
    "Input Size : 1 <= N <= 100000\n",
    "\n",
    "**Sample Testcases:**\n",
    "\n",
    "**INPUT**\n",
    "\n",
    "6\n",
    "\n",
    "4 2 5 7 2 1\n",
    "\n",
    "**OUTPUT**\n",
    "\n",
    "7 2 1\n",
    "\n",
    "7"
   ]
  },
  {
   "cell_type": "code",
   "execution_count": null,
   "metadata": {},
   "outputs": [
    {
     "name": "stdout",
     "output_type": "stream",
     "text": [
      "7 2 1\n",
      "5\n"
     ]
    }
   ],
   "source": [
    "def find_star_and_super_star(arr, N):\n",
    "    star_elements = []  # Finding star elements\n",
    "    max_from_right = arr[-1]  # Start with the last element\n",
    "    star_elements.append(arr[-1])  # The last element is always a star element\n",
    "    \n",
    "    for i in range(N - 2, -1, -1):\n",
    "        if arr[i] > max_from_right:\n",
    "            star_elements.append(arr[i])\n",
    "            max_from_right = arr[i]\n",
    "    \n",
    "    # Reversing star_elements to maintain order from left to right\n",
    "    star_elements.reverse()\n",
    "    \n",
    "    # Finding super star elements\n",
    "    max_from_left = arr[0]\n",
    "    max_from_right = arr[-1]\n",
    "    \n",
    "    super_star_elements = []\n",
    "    for i in range(1, N - 1):\n",
    "        if arr[i] > max_from_left and arr[i] > max_from_right:\n",
    "            super_star_elements.append(arr[i])\n",
    "        max_from_left = max(max_from_left, arr[i])\n",
    "        max_from_right = max(max_from_right, arr[N - i - 1])\n",
    "    print(\" \".join(map(str, star_elements)))\n",
    "\n",
    "    if super_star_elements:\n",
    "        print(\" \".join(map(str, super_star_elements)))\n",
    "    else:\n",
    "        print(\"-1\")\n",
    "\n",
    "N = int(input())\n",
    "arr = list(map(int, input().split()))\n",
    "find_star_and_super_star(arr, N)"
   ]
  },
  {
   "cell_type": "markdown",
   "metadata": {},
   "source": [
    "### **36. Given a number N, print the first N Catalan numbers.**\n",
    "\n",
    "Input Size : N <= 100\n",
    "\n",
    "**Sample Testcase:**\n",
    "\n",
    "**INPUT**\n",
    "\n",
    "1\n",
    "\n",
    "**OUTPUT**\n",
    "\n",
    "1 1"
   ]
  },
  {
   "cell_type": "code",
   "execution_count": null,
   "metadata": {},
   "outputs": [
    {
     "name": "stdout",
     "output_type": "stream",
     "text": [
      "1 1\n"
     ]
    }
   ],
   "source": [
    "def catalan(n):\n",
    "    catalan_numbers = [0] * (n + 1)\n",
    "    catalan_numbers[0] = catalan_numbers[1] = 1\n",
    "    for i in range(2, n + 1):\n",
    "        for j in range(i):\n",
    "            catalan_numbers[i] += catalan_numbers[j] * catalan_numbers[i - j - 1]    \n",
    "    return catalan_numbers\n",
    "\n",
    "n = int(input())\n",
    "result = catalan(n)\n",
    "print(\" \".join(map(str, result)))"
   ]
  },
  {
   "cell_type": "code",
   "execution_count": null,
   "metadata": {},
   "outputs": [
    {
     "name": "stdout",
     "output_type": "stream",
     "text": [
      "1\n"
     ]
    }
   ],
   "source": [
    "def catalan_numbers(N):\n",
    "    catalan = [0] * N   # Initialize a list to store the Catalan numbers\n",
    "    catalan[0] = 1      # The first Catalan number is 1\n",
    "\n",
    "    # Calculate the Catalan numbers using the recursive formula\n",
    "    for n in range(1, N):\n",
    "        catalan[n] = 0\n",
    "        for i in range(n):\n",
    "            catalan[n] += catalan[i] * catalan[n - 1 - i]\n",
    "    print(\" \".join(map(str, catalan)))\n",
    "\n",
    "N = int(input())\n",
    "catalan_numbers(N)"
   ]
  },
  {
   "cell_type": "markdown",
   "metadata": {},
   "source": [
    "### **37. There is one meeting room in Flipkart. There are n meetings in the form of (S [ i ], F [ i ]) where S [ i ] is start time of meeting i and F [ i ] is finish time of meeting i Given a number N followed by 2 arrays S and F of sizes N and N, What is the maximum number of meetings that can be accommodated in the meeting room assuming the room can only accommodate one meeting at a time.**\n",
    "\n",
    "Input Size : 1 <= N <= 100000\n",
    "\n",
    "**Sample Testcases:**\n",
    "\n",
    "**INPUT**\n",
    "\n",
    "3\n",
    "\n",
    "10 12 30\n",
    "\n",
    "20 25 30\n",
    "\n",
    "**OUTPUT**\n",
    "\n",
    "2"
   ]
  },
  {
   "cell_type": "code",
   "execution_count": null,
   "metadata": {},
   "outputs": [
    {
     "name": "stdout",
     "output_type": "stream",
     "text": [
      "2\n"
     ]
    }
   ],
   "source": [
    "def max_meetings(N, S, F):\n",
    "    # Create a list of meetings with start and finish times\n",
    "    meetings = [(S[i], F[i]) for i in range(N)]\n",
    "    \n",
    "    # Sort meetings by finish time (second element of the tuple)\n",
    "    meetings.sort(key=lambda x: x[1])\n",
    "    \n",
    "    # Initialize the count of meetings and the end time of the last selected meeting\n",
    "    count = 1  # Select the first meeting\n",
    "    last_finish_time = meetings[0][1]\n",
    "    \n",
    "    # Iterate through the meetings and select the non-overlapping ones\n",
    "    for i in range(1, N):\n",
    "        if meetings[i][0] >= last_finish_time:\n",
    "            count += 1\n",
    "            last_finish_time = meetings[i][1]   \n",
    "    return count\n",
    "\n",
    "N = int(input())\n",
    "S = list(map(int, input().split()))\n",
    "F = list(map(int, input().split()))\n",
    "print(max_meetings(N, S, F))"
   ]
  },
  {
   "cell_type": "markdown",
   "metadata": {},
   "source": [
    "### **38. Given a number N followed by N numbers. All the numbers in the given input appear twice except for one number(ie one number appears only once in the given input). Find the number which appears only once.**\n",
    "\n",
    "Input Size : 1 <= N <= 100000\n",
    "\n",
    "**Sample Testcases:**\n",
    "\n",
    "**INPUT**\n",
    "\n",
    "5\n",
    "\n",
    "1 2 1 3 2\n",
    "\n",
    "**OUTPUT**\n",
    "\n",
    "3"
   ]
  },
  {
   "cell_type": "code",
   "execution_count": null,
   "metadata": {},
   "outputs": [
    {
     "name": "stdout",
     "output_type": "stream",
     "text": [
      "3\n"
     ]
    }
   ],
   "source": [
    "def find_single_number(N, arr):\n",
    "    result = 0\n",
    "    for num in arr:\n",
    "        result ^= num\n",
    "    return result\n",
    "\n",
    "N = int(input())\n",
    "arr = list(map(int, input().split()))\n",
    "print(find_single_number(N, arr))"
   ]
  },
  {
   "cell_type": "markdown",
   "metadata": {},
   "source": [
    "### **39. Each character of the alphabet is matched to a number. For example A is mapped to 1 , b to 2 so on z to 26. The reverse mapping is also true. 1 is mapped to a , 2 to b 3 to c and so on z to 26. So a number 12258 can be translated to abbeh , aveh , abyh , lbeh , and lyh , so there are 5 ways to translate 12258. Given a number N , write a program to print the number of ways to do this.**\n",
    "\n",
    "Input Size : 1 <= N <= 100000\n",
    "\n",
    "**Sample Testcases:**\n",
    "\n",
    "**INPUT**\n",
    "\n",
    "12258\n",
    "\n",
    "**OUTPUT**\n",
    "\n",
    "5"
   ]
  },
  {
   "cell_type": "code",
   "execution_count": null,
   "metadata": {},
   "outputs": [
    {
     "name": "stdout",
     "output_type": "stream",
     "text": [
      "5\n"
     ]
    }
   ],
   "source": [
    "def count_decodings(N):\n",
    "    S = str(N)      # Convert N to a string\n",
    "    length = len(S)\n",
    "    \n",
    "    # Initialize dp array where dp[i] represents the number of ways to decode S[:i]\n",
    "    dp = [0] * (length + 1)\n",
    "    dp[0] = 1  # There is one way to decode an empty string\n",
    "    dp[1] = 1 if S[0] != '0' else 0  # If the first character is '0', no valid decoding\n",
    "\n",
    "    for i in range(2, length + 1):\n",
    "        # Check if the single digit decoding is valid\n",
    "        if S[i-1] != '0':\n",
    "            dp[i] += dp[i-1]\n",
    "        \n",
    "        # Check if the two digit decoding is valid\n",
    "        two_digit = int(S[i-2:i])  # Consider the last two characters\n",
    "        if 10 <= two_digit <= 26:\n",
    "            dp[i] += dp[i-2]\n",
    "    return dp[length]\n",
    "\n",
    "N = int(input())\n",
    "print(count_decodings(N))"
   ]
  },
  {
   "cell_type": "markdown",
   "metadata": {},
   "source": [
    "### **40. Given 2 numbers N and M followed by a matrix of size N * M.if there is any entry which is 0 change the entire column and row to zero respectively and then print the matrix.**\n",
    "\n",
    "Input Size : 1 <= N <= 1000\n",
    "\n",
    "**Sample Testcases:**\n",
    "\n",
    "**INPUT**\n",
    "\n",
    "2 3\n",
    "\n",
    "1 0 1\n",
    "\n",
    "1 1 1\n",
    "\n",
    "**OUTPUT**\n",
    "\n",
    "0 0 0\n",
    "\n",
    "1 0 1"
   ]
  },
  {
   "cell_type": "code",
   "execution_count": null,
   "metadata": {},
   "outputs": [
    {
     "name": "stdout",
     "output_type": "stream",
     "text": [
      "0 0 0\n",
      "1 0 1\n"
     ]
    }
   ],
   "source": [
    "def set_zero_matrix(N, M, matrix):\n",
    "    # Identify which rows and columns need to be zeroed\n",
    "    zero_rows = set()\n",
    "    zero_cols = set()\n",
    "\n",
    "    # Find all the zeros in the matrix\n",
    "    for i in range(N):\n",
    "        for j in range(M):\n",
    "            if matrix[i][j] == 0:\n",
    "                zero_rows.add(i)  # Mark the row for zeroing\n",
    "                zero_cols.add(j)  # Mark the column for zeroing\n",
    "    \n",
    "    # Modify the matrix based on the identified rows and columns\n",
    "    for i in range(N):\n",
    "        for j in range(M):\n",
    "            if i in zero_rows or j in zero_cols:\n",
    "                matrix[i][j] = 0\n",
    "    for row in matrix:\n",
    "        print(' '.join(map(str, row)))\n",
    "\n",
    "N, M = map(int, input().split())\n",
    "matrix = [list(map(int, input().split())) for _ in range(N)]\n",
    "set_zero_matrix(N, M, matrix)"
   ]
  },
  {
   "cell_type": "markdown",
   "metadata": {},
   "source": [
    "### **41. Given a number N and a 2D matrix(N*N filled with 1's or 0's), find the number of island 1's(An island 1 is a 1 surrounded by 0's on all sides).**\n",
    "\n",
    "Input Size : 2 <= N <= 100000\n",
    "\n",
    "**Sample Testcases:**\n",
    "\n",
    "**INPUT**\n",
    "\n",
    "2\n",
    "\n",
    "1 0\n",
    "\n",
    "0 0\n",
    "\n",
    "**OUTPUT**\n",
    "\n",
    "1"
   ]
  },
  {
   "cell_type": "code",
   "execution_count": null,
   "metadata": {},
   "outputs": [
    {
     "name": "stdout",
     "output_type": "stream",
     "text": [
      "1\n"
     ]
    }
   ],
   "source": [
    "def dfs(matrix, visited, x, y, N):\n",
    "    # Directions for moving in the 4-connected grid (up, down, left, right)\n",
    "    directions = [(-1, 0), (1, 0), (0, -1), (0, 1)]\n",
    "    stack = [(x, y)]\n",
    "    visited[x][y] = True\n",
    "    \n",
    "    while stack:\n",
    "        cx, cy = stack.pop()\n",
    "        for dx, dy in directions:\n",
    "            nx, ny = cx + dx, cy + dy\n",
    "            # Check if the new position is valid and the cell is a 1 and not visited\n",
    "            if 0 <= nx < N and 0 <= ny < N and matrix[nx][ny] == 1 and not visited[nx][ny]:\n",
    "                visited[nx][ny] = True\n",
    "                stack.append((nx, ny))\n",
    "\n",
    "def count_islands(matrix, N):\n",
    "    visited = [[False for _ in range(N)] for _ in range(N)]\n",
    "    island_count = 0\n",
    "    \n",
    "    # Traverse through every cell in the matrix\n",
    "    for i in range(N):\n",
    "        for j in range(N):\n",
    "            if matrix[i][j] == 1 and not visited[i][j]:\n",
    "                # Start DFS if we find an unvisited 1 (new island)\n",
    "                dfs(matrix, visited, i, j, N)\n",
    "                island_count += 1\n",
    "    return island_count\n",
    "\n",
    "N = int(input())\n",
    "matrix = [list(map(int, input().split())) for _ in range(N)]\n",
    "print(count_islands(matrix, N))"
   ]
  },
  {
   "cell_type": "markdown",
   "metadata": {},
   "source": [
    "### **42. Given a number N and an array of N elements, print the number of lucky numbers in the array.**\n",
    "\n",
    "Lucky number: N*I is also present in the array then the number is lucky where N is the number of elements in the array and I is the position of the element.(1 based indexing)\n",
    "\n",
    "Input Size : 1 <= N, I <= 100000\n",
    "\n",
    "**Sample Testcases:**\n",
    "\n",
    "**INPUT**\n",
    "\n",
    "5\n",
    "\n",
    "1 2 3 4 5\n",
    "\n",
    "**OUTPUT**\n",
    "\n",
    "1"
   ]
  },
  {
   "cell_type": "code",
   "execution_count": null,
   "metadata": {},
   "outputs": [
    {
     "name": "stdout",
     "output_type": "stream",
     "text": [
      "1\n"
     ]
    }
   ],
   "source": [
    "def count_lucky_numbers(arr, N):\n",
    "    arr_set = set(arr)  # Convert the array to a set for faster lookups\n",
    "\n",
    "    lucky_count = 0\n",
    "    for i in range(1, N + 1):   # Iterate through the array with 1-based indexing\n",
    "        if N * i in arr_set:\n",
    "            lucky_count += 1    \n",
    "    return lucky_count\n",
    "\n",
    "N = int(input())\n",
    "arr = list(map(int, input().split()))\n",
    "print(count_lucky_numbers(arr, N))"
   ]
  },
  {
   "cell_type": "markdown",
   "metadata": {},
   "source": [
    "### **43. Given 2 numbers N and K, print the number of ways of taking k elements from the first n elements.**\n",
    "\n",
    "Input Size : 1 <= N <= K <= 100000\n",
    "\n",
    "**Sample Testcases:**\n",
    "\n",
    "**INPUT**\n",
    "\n",
    "2 2\n",
    "\n",
    "**OUTPUT**\n",
    "\n",
    "2"
   ]
  },
  {
   "cell_type": "code",
   "execution_count": 6,
   "metadata": {},
   "outputs": [
    {
     "name": "stdout",
     "output_type": "stream",
     "text": [
      "2\n"
     ]
    }
   ],
   "source": [
    "def number_of_permutations(N, K):\n",
    "    if K > N:\n",
    "        return 0\n",
    "    \n",
    "    result = 1\n",
    "    for i in range(K):\n",
    "        result *= (N - i)\n",
    "    return result\n",
    "\n",
    "N, K = map(int, input().split())\n",
    "print(number_of_permutations(N, K))"
   ]
  },
  {
   "cell_type": "markdown",
   "metadata": {},
   "source": [
    "### **44. Given a binary tree with strings as keys with N nodes and M edges, Print the number of grandchildren for the specified name.**\n",
    "\n",
    "Input Size : 1 <= N, M <= 100000\n",
    "\n",
    "**Sample Testcases:**\n",
    "\n",
    "**INPUT**\n",
    "\n",
    "3 2 Vishal\n",
    "\n",
    "Sundar Vishal\n",
    "\n",
    "Vishal Adithya\n",
    "\n",
    "**OUTPUT**\n",
    "\n",
    "0"
   ]
  },
  {
   "cell_type": "code",
   "execution_count": null,
   "metadata": {},
   "outputs": [
    {
     "name": "stdout",
     "output_type": "stream",
     "text": [
      "0\n"
     ]
    }
   ],
   "source": [
    "from collections import defaultdict, deque\n",
    "\n",
    "def find_grandchildren(N, M, name, edges):\n",
    "    tree = defaultdict(list)\n",
    "    for parent, child in edges:\n",
    "        tree[parent].append(child)\n",
    "    children = tree[name]\n",
    "    grandchildren_count = 0\n",
    "    for child in children:\n",
    "        grandchildren_count += len(tree[child])\n",
    "    print(grandchildren_count)\n",
    "\n",
    "N, M, name = input().split()\n",
    "N, M = int(N), int(M)\n",
    "edges = []\n",
    "\n",
    "for _ in range(M):\n",
    "    parent, child = input().split()\n",
    "    edges.append((parent, child))\n",
    "find_grandchildren(N, M, name, edges)"
   ]
  },
  {
   "cell_type": "markdown",
   "metadata": {},
   "source": [
    "### **45. Given a number N followed by an unsorted array of N numbers and a number K, find if there exists a pair of elements in the array whose difference is K. Return count of such pairs.**\n",
    "\n",
    "Example k=4 and a[]={7,6,23,19,10,11,9,3,15}\n",
    "\n",
    "Output should be : 6\n",
    "\n",
    "Pairs can be:\n",
    "7,11\n",
    "7,3\n",
    "6,10\n",
    "19,23\n",
    "15,19\n",
    "15,11\n",
    "\n",
    "Input Size : N <= 100000\n",
    "\n",
    "**Sample Testcase:**\n",
    "\n",
    "**INPUT**\n",
    "\n",
    "6 4\n",
    "\n",
    "8 12 16 4 0 20\n",
    "\n",
    "**OUTPUT**\n",
    "\n",
    "5"
   ]
  },
  {
   "cell_type": "code",
   "execution_count": null,
   "metadata": {},
   "outputs": [
    {
     "name": "stdout",
     "output_type": "stream",
     "text": [
      "5\n"
     ]
    }
   ],
   "source": [
    "def count_pairs_with_difference(arr, N, K):\n",
    "    seen = set()\n",
    "    pair_count = 0\n",
    "    for num in arr:\n",
    "        if num + K in seen:\n",
    "            pair_count += 1\n",
    "        if num - K in seen:\n",
    "            pair_count += 1\n",
    "        seen.add(num)    \n",
    "    return pair_count\n",
    "\n",
    "N, K = map(int, input().split())\n",
    "arr = list(map(int, input().split()))\n",
    "print(count_pairs_with_difference(arr, N, K))"
   ]
  },
  {
   "cell_type": "markdown",
   "metadata": {},
   "source": [
    "### **46. Given a number N and an array of N elements, a selection algorithm is implemented on this array where numbers at even position would be chosen, the algorithm is again and again implemented on the newly chosen array until only 1 element is remaining. Print the original position(index) of this element in the initial array.**\n",
    "\n",
    "Input Size : 1 <= N <= 100000\n",
    "\n",
    "**Sample Testcases:**\n",
    "\n",
    "**INPUT**\n",
    "\n",
    "6\n",
    "\n",
    "1 2 3 4 5 6\n",
    "\n",
    "**OUTPUT**\n",
    "\n",
    "3"
   ]
  },
  {
   "cell_type": "code",
   "execution_count": null,
   "metadata": {},
   "outputs": [
    {
     "name": "stdout",
     "output_type": "stream",
     "text": [
      "3\n"
     ]
    }
   ],
   "source": [
    "def find_final_index(N):\n",
    "    indices = list(range(N))\n",
    "    while len(indices) > 1:\n",
    "        indices = indices[1::2]\n",
    "    return indices[0]\n",
    "\n",
    "N = int(input())\n",
    "arr = list(map(int, input().split()))\n",
    "print(find_final_index(N))"
   ]
  },
  {
   "cell_type": "markdown",
   "metadata": {},
   "source": [
    "### **47. Given a string S of length N, find whether the given string is a palindrome using stack or linked list and print 'yes' otherwise print 'no'.**\n",
    "\n",
    "Input Size : 1 <= N <= 100000\n",
    "\n",
    "**Sample Testcases:**\n",
    "\n",
    "**INPUT**\n",
    "\n",
    "GuviGeek\n",
    "\n",
    "**OUTPUT**\n",
    "\n",
    "no"
   ]
  },
  {
   "cell_type": "code",
   "execution_count": null,
   "metadata": {},
   "outputs": [
    {
     "name": "stdout",
     "output_type": "stream",
     "text": [
      "no\n"
     ]
    }
   ],
   "source": [
    "def is_palindrome(s):\n",
    "    stack = []\n",
    "    length = len(s)\n",
    "    mid = length // 2\n",
    "    \n",
    "    # Push the first half of characters onto the stack\n",
    "    for i in range(mid):\n",
    "        stack.append(s[i])\n",
    "    \n",
    "    # Compare with the second half of characters\n",
    "    start = mid if length % 2 == 0 else mid + 1\n",
    "    for i in range(start, length):\n",
    "        if stack.pop() != s[i]:\n",
    "            return \"no\"\n",
    "    return \"yes\"\n",
    "\n",
    "s = input()\n",
    "output = is_palindrome(s)\n",
    "print(output)"
   ]
  },
  {
   "cell_type": "markdown",
   "metadata": {},
   "source": [
    "### **48. You have been given stock prices for next N days. Find out: max profit in buying and selling 1 share Condition: Share must be sold any day after buying date. Given a number N followed by N integers print the maximum profit.**\n",
    "\n",
    "For example: Share price in thousands 5 1 4 6 7 8 4 3 7 9\n",
    "\n",
    "Max benefit 9 – 1 = 8 thousand\n",
    "\n",
    "Input Size : N <= 100000\n",
    "\n",
    "**Sample Testcase:**\n",
    "\n",
    "**INPUT**\n",
    "\n",
    "10\n",
    "\n",
    "5 1 4 6 7 8 4 3 7 9\n",
    "\n",
    "**OUTPUT**\n",
    "\n",
    "8"
   ]
  },
  {
   "cell_type": "code",
   "execution_count": null,
   "metadata": {},
   "outputs": [
    {
     "name": "stdout",
     "output_type": "stream",
     "text": [
      "8\n"
     ]
    }
   ],
   "source": [
    "def max_profit(N, prices):\n",
    "    min_price = float('inf')\n",
    "    max_profit = 0\n",
    "    \n",
    "    # Traverse through all prices\n",
    "    for price in prices:\n",
    "        min_price = min(min_price, price)\n",
    "        profit = price - min_price       \n",
    "        max_profit = max(max_profit, profit)\n",
    "    return max_profit\n",
    "\n",
    "N = int(input())\n",
    "prices = list(map(int, input().split()))\n",
    "print(max_profit(N, prices))"
   ]
  },
  {
   "cell_type": "markdown",
   "metadata": {},
   "source": [
    "### **49. You are given a number N and followed by an array of N numbers and followed by two elements U and V, find the minimum distance between the elements in the array. The array may have duplicates.**\n",
    "\n",
    "For example, if the array is (1, 5, 3, 7, 2, 8, 3, 4, 5, 9, 9, 3, 1, 3, 2, 9)\n",
    "\n",
    "Min Distance (U=4, V= 7): 4\n",
    "\n",
    "Input Size : N <= 100000\n",
    "\n",
    "**Sample Testcase:**\n",
    "\n",
    "**INPUT**\n",
    "\n",
    "16\n",
    "\n",
    "1 5 3 7 2 8 3 4 5 9 9 3 1 3 2 9\n",
    "\n",
    "4 7\n",
    "\n",
    "**OUTPUT**\n",
    "\n",
    "4"
   ]
  },
  {
   "cell_type": "code",
   "execution_count": null,
   "metadata": {},
   "outputs": [
    {
     "name": "stdout",
     "output_type": "stream",
     "text": [
      "4\n"
     ]
    }
   ],
   "source": [
    "def min_distance(N, arr, U, V):\n",
    "    # Initialize variables for storing the last seen indices\n",
    "    last_u = -1\n",
    "    last_v = -1\n",
    "    min_dist = float('inf')  # Initially set to a very large number\n",
    "    \n",
    "    for i in range(N):\n",
    "        if arr[i] == U:\n",
    "            last_u = i  # Update last seen index of U\n",
    "            # Check if we have seen V already\n",
    "            if last_v != -1:\n",
    "                min_dist = min(min_dist, abs(last_u - last_v))\n",
    "        \n",
    "        if arr[i] == V:\n",
    "            last_v = i  # Update last seen index of V\n",
    "            # Check if we have seen U already\n",
    "            if last_u != -1:\n",
    "                min_dist = min(min_dist, abs(last_u - last_v))    \n",
    "    return min_dist if min_dist != float('inf') else -1\n",
    "\n",
    "N = int(input())\n",
    "arr = list(map(int, input().split()))\n",
    "U, V = map(int, input().split())\n",
    "print(min_distance(N, arr, U, V))"
   ]
  },
  {
   "cell_type": "markdown",
   "metadata": {},
   "source": [
    "### **50. Swagger and Rock are playing a word game. They need to check the two strings use the same base alphabets. Two strings are said to have same base alphabets if they use the same characters to form the word. eg: rescue and curse have same base alphabets - c,e,r,s,u.If it so print 'true' else print 'false'.**\n",
    "\n",
    "Input Size : |S| <= 1000000\n",
    "\n",
    "**Sample Testcase:**\n",
    "\n",
    "**INPUT**\n",
    "\n",
    "rescue curse\n",
    "\n",
    "**OUTPUT**\n",
    "\n",
    "true"
   ]
  },
  {
   "cell_type": "code",
   "execution_count": 29,
   "metadata": {},
   "outputs": [
    {
     "name": "stdout",
     "output_type": "stream",
     "text": [
      "true\n"
     ]
    }
   ],
   "source": [
    "def have_same_base_alphabets(str1, str2):\n",
    "    # Convert both strings to sets of characters\n",
    "    set1 = set(str1)\n",
    "    set2 = set(str2)\n",
    "    \n",
    "    # Check if both sets are equal\n",
    "    if set1 == set2:\n",
    "        return \"true\"\n",
    "    else:\n",
    "        return \"false\"\n",
    "\n",
    "str1, str2 = input().split()\n",
    "print(have_same_base_alphabets(str1, str2))"
   ]
  },
  {
   "cell_type": "markdown",
   "metadata": {},
   "source": [
    "### **51. Given a string S consisting of 2 words reverse the order of two words.**\n",
    "\n",
    "Input Size : |S| <= 10000000\n",
    "\n",
    "**Sample Testcase:**\n",
    "\n",
    "**INPUT**\n",
    "\n",
    "hello world\n",
    "\n",
    "**OUTPUT**\n",
    "\n",
    "world hello"
   ]
  },
  {
   "cell_type": "code",
   "execution_count": 1,
   "metadata": {},
   "outputs": [
    {
     "name": "stdout",
     "output_type": "stream",
     "text": [
      "world hello\n"
     ]
    }
   ],
   "source": [
    "def reverse_words(S):\n",
    "    words = S.split()\n",
    "    if len(words) != 2:\n",
    "        return \"Input should consist of exactly two words\"\n",
    "    reversed_words = \" \".join(reversed(words))\n",
    "    return reversed_words\n",
    "\n",
    "S = input().strip()\n",
    "print(reverse_words(S))"
   ]
  },
  {
   "cell_type": "markdown",
   "metadata": {},
   "source": [
    "### **52. Divide two given integers A and B without using multiplication, division and mod operator. If it is overflow, return MAX_INT.**\n",
    "\n",
    "**Sample Testcases:**\n",
    "\n",
    "**INPUT**\n",
    "\n",
    "10 5\n",
    "\n",
    "**OUTPUT**\n",
    "\n",
    "2"
   ]
  },
  {
   "cell_type": "code",
   "execution_count": null,
   "metadata": {},
   "outputs": [
    {
     "name": "stdout",
     "output_type": "stream",
     "text": [
      "2\n"
     ]
    }
   ],
   "source": [
    "def divide(A, B):\n",
    "    MAX_INT = 2**31 - 1\n",
    "    MIN_INT = -2**31\n",
    "    \n",
    "    # Handle edge case for overflow\n",
    "    if A == MIN_INT and B == -1:\n",
    "        return MAX_INT\n",
    "    \n",
    "    # Handle division by zero\n",
    "    if B == 0:\n",
    "        return MAX_INT\n",
    "    \n",
    "    # Get the absolute values of A and B for ease of computation\n",
    "    absA, absB = abs(A), abs(B)\n",
    "    result = 0\n",
    "    for i in range(31, -1, -1):     # Iterate from the highest bit to the lowest\n",
    "        if (absA >> i) >= absB:     # Check if the current shifted B can be subtracted from A\n",
    "            result += (1 << i)\n",
    "            absA -= (absB << i)\n",
    "    \n",
    "    # Determine the sign of the result\n",
    "    if (A < 0) != (B < 0):\n",
    "        result = -result    \n",
    "    return result\n",
    "\n",
    "A, B = map(int, input().split())\n",
    "print(divide(A, B))"
   ]
  },
  {
   "cell_type": "markdown",
   "metadata": {},
   "source": [
    "### **53. Given a number N, How many ways are there to represent it as sum of 2 primes.**\n",
    "\n",
    "Input Size : 1 <= N <= 1000\n",
    "\n",
    "**Sample Testcase:**\n",
    "\n",
    "**INPUT**\n",
    "\n",
    "10\n",
    "\n",
    "**OUTPUT**\n",
    "\n",
    "2\n",
    "\n",
    "Explanation:(7+3),(5+5)"
   ]
  },
  {
   "cell_type": "code",
   "execution_count": null,
   "metadata": {},
   "outputs": [
    {
     "name": "stdout",
     "output_type": "stream",
     "text": [
      "2\n"
     ]
    }
   ],
   "source": [
    "def sieve_of_eratosthenes(limit):\n",
    "    prime = [True] * (limit + 1)\n",
    "    prime[0], prime[1] = False, False\n",
    "    p = 2\n",
    "    while p * p <= limit:\n",
    "        if prime[p]:\n",
    "            for i in range(p * p, limit + 1, p):\n",
    "                prime[i] = False\n",
    "        p += 1\n",
    "    return [p for p in range(limit + 1) if prime[p]]\n",
    "\n",
    "def count_prime_pairs(N):\n",
    "    primes = sieve_of_eratosthenes(N)\n",
    "    prime_set = set(primes)\n",
    "    count = 0\n",
    "    for p in primes:\n",
    "        if p <= N // 2:\n",
    "            if (N - p) in prime_set:\n",
    "                count += 1\n",
    "    return count\n",
    "\n",
    "N = int(input())\n",
    "print(count_prime_pairs(N))"
   ]
  },
  {
   "cell_type": "markdown",
   "metadata": {},
   "source": [
    "### **54. Given a number N, find the sum of prime numbers that end with 3 from 2 to N.**\n",
    "\n",
    "Input Size : N <= 100000\n",
    "\n",
    "**Sample Testcase:**\n",
    "\n",
    "**INPUT**\n",
    "\n",
    "5\n",
    "\n",
    "**OUTPUT**\n",
    "\n",
    "3"
   ]
  },
  {
   "cell_type": "code",
   "execution_count": null,
   "metadata": {},
   "outputs": [
    {
     "name": "stdout",
     "output_type": "stream",
     "text": [
      "3\n"
     ]
    }
   ],
   "source": [
    "def sieve_of_eratosthenes(limit):\n",
    "    prime = [True] * (limit + 1)\n",
    "    prime[0], prime[1] = False, False  # 0 and 1 are not primes\n",
    "    p = 2\n",
    "    while p * p <= limit:\n",
    "        if prime[p]:\n",
    "            for i in range(p * p, limit + 1, p):\n",
    "                prime[i] = False\n",
    "        p += 1\n",
    "    return [p for p in range(limit + 1) if prime[p]]\n",
    "\n",
    "def sum_primes_ending_with_3(N):\n",
    "    primes = sieve_of_eratosthenes(N)   # Generate all primes less than or equal to N\n",
    "    sum_primes = sum(p for p in primes if p % 10 == 3)    # Filter primes that end with the digit '3'\n",
    "    return sum_primes\n",
    "\n",
    "N = int(input())\n",
    "print(sum_primes_ending_with_3(N))"
   ]
  },
  {
   "cell_type": "markdown",
   "metadata": {},
   "source": [
    "### **55. This problem is also called minimum absolute sum pair. You are given a number N followed by an array of N numbers, containing both +ve and -ve numbers. You need to print the two elements such that their sum is closest to zero.**\n",
    "\n",
    "Input Size : N <= 100000\n",
    "\n",
    "**Sample Testcase:**\n",
    "\n",
    "**INPUT**\n",
    "\n",
    "5\n",
    "\n",
    "15 5 -20 30 -45\n",
    "\n",
    "**OUTPUT**\n",
    "\n",
    "15 -20"
   ]
  },
  {
   "cell_type": "code",
   "execution_count": null,
   "metadata": {},
   "outputs": [
    {
     "name": "stdout",
     "output_type": "stream",
     "text": [
      "-20 15\n"
     ]
    }
   ],
   "source": [
    "def closest_pair_to_zero(arr):\n",
    "    arr.sort()\n",
    "    left, right = 0, len(arr) - 1\n",
    "    closest_sum = float('inf')\n",
    "    result_pair = None\n",
    "    \n",
    "    while left < right:\n",
    "        current_sum = arr[left] + arr[right]\n",
    "        if abs(current_sum) < abs(closest_sum):\n",
    "            closest_sum = current_sum\n",
    "            result_pair = (arr[left], arr[right])\n",
    "        if current_sum < 0:\n",
    "            left += 1\n",
    "        else:\n",
    "            right -= 1    \n",
    "    return result_pair\n",
    "\n",
    "N = int(input())\n",
    "arr = list(map(int, input().split()))\n",
    "pair = closest_pair_to_zero(arr)\n",
    "print(pair[0], pair[1])"
   ]
  },
  {
   "cell_type": "markdown",
   "metadata": {},
   "source": [
    "### **56. Given a number N and N strings of length atmost M, print the longest common prefix.**\n",
    "\n",
    "Input Size : 1<=N, M<=100000\n",
    "\n",
    "**Example:**\n",
    "\n",
    "**INPUT**\n",
    "\n",
    "2\n",
    "\n",
    "Vishal\n",
    "\n",
    "Vidharba\n",
    "\n",
    "**OUTPUT**\n",
    "\n",
    "Vi"
   ]
  },
  {
   "cell_type": "code",
   "execution_count": null,
   "metadata": {},
   "outputs": [
    {
     "name": "stdout",
     "output_type": "stream",
     "text": [
      "Vi\n"
     ]
    }
   ],
   "source": [
    "def longest_common_prefix(strings):\n",
    "    prefix = strings[0]\n",
    "    \n",
    "    # Compare prefix with each string in the array\n",
    "    for string in strings[1:]:\n",
    "        temp_prefix = []\n",
    "        for i in range(min(len(prefix), len(string))):\n",
    "            if prefix[i] == string[i]:\n",
    "                temp_prefix.append(prefix[i])\n",
    "            else:\n",
    "                break\n",
    "        prefix = ''.join(temp_prefix)\n",
    "        if not prefix:\n",
    "            return \"\"    \n",
    "    return prefix\n",
    "\n",
    "N = int(input())\n",
    "strings = [input().strip() for _ in range(N)]\n",
    "print(longest_common_prefix(strings))"
   ]
  },
  {
   "cell_type": "markdown",
   "metadata": {},
   "source": [
    "### **57. Given a number N, obtain the smallest number after deleting K digits from N.**\n",
    "\n",
    "Input Size : 1<=N<=100000\n",
    "\n",
    "**Example:**\n",
    "\n",
    "**INPUT**\n",
    "\n",
    "213 1\n",
    "\n",
    "**OUTPUT**\n",
    "\n",
    "13"
   ]
  },
  {
   "cell_type": "code",
   "execution_count": null,
   "metadata": {},
   "outputs": [
    {
     "name": "stdout",
     "output_type": "stream",
     "text": [
      "13\n"
     ]
    }
   ],
   "source": [
    "def removeKdigits(N, K):\n",
    "    N = str(N)\n",
    "    stack = []\n",
    "    for digit in N:\n",
    "        while K > 0 and stack and stack[-1] > digit:\n",
    "            stack.pop()\n",
    "            K -= 1\n",
    "        stack.append(digit)\n",
    "    \n",
    "    # If we still need to remove digits, remove from the end\n",
    "    while K > 0:\n",
    "        stack.pop()\n",
    "        K -= 1\n",
    "    result = ''.join(stack).lstrip('0')\n",
    "    return result if result else '0'\n",
    "\n",
    "N, K = map(int, input().split())\n",
    "print(removeKdigits(N, K))"
   ]
  },
  {
   "cell_type": "markdown",
   "metadata": {},
   "source": [
    "### **58. N players with weights are given as input. Divide them into 2 teams such that the difference between the total weights of the 2 teams are minimum. While dividing , ensure that difference in number of players between the teams is minimum. Output the difference in number of players in 2 teams.**\n",
    "\n",
    "Input Size : 1<= N <= 100000\n",
    "\n",
    "**Sample Testcases:**\n",
    "\n",
    "**INPUT**\n",
    "\n",
    "7\n",
    "\n",
    "1 2 3 4 5 6 7\n",
    "\n",
    "**OUTPUT**\n",
    "\n",
    "3"
   ]
  },
  {
   "cell_type": "code",
   "execution_count": null,
   "metadata": {},
   "outputs": [
    {
     "name": "stdout",
     "output_type": "stream",
     "text": [
      "3\n"
     ]
    }
   ],
   "source": [
    "def min_player_difference(N, weights):\n",
    "    weights.sort()\n",
    "    \n",
    "    # Number of players in team 1 and team 2\n",
    "    team1_size = N // 2 - 1\n",
    "    team2_size = N - team1_size\n",
    "    return abs(team1_size - team2_size)\n",
    "\n",
    "N = int(input())\n",
    "weights = list(map(int, input().split()))\n",
    "print(min_player_difference(N, weights))"
   ]
  },
  {
   "cell_type": "code",
   "execution_count": 4,
   "metadata": {},
   "outputs": [
    {
     "name": "stdout",
     "output_type": "stream",
     "text": [
      "3\n"
     ]
    }
   ],
   "source": [
    "def divide_players(N, weights):\n",
    "    weights.sort()\n",
    "    team1 = weights[:N//2]\n",
    "    team2 = weights[N+1//2:]\n",
    "    return abs(len(team1) - len(team2))\n",
    "\n",
    "N = int(input())\n",
    "weights = list(map(int, input().split()))\n",
    "print(divide_players(N, weights))"
   ]
  },
  {
   "cell_type": "markdown",
   "metadata": {},
   "source": [
    "### **59. Given a Binary Tree with N nodes and N-1 edges, print the mirror image of the tree with 1 as the root.**\n",
    "\n",
    "Input Size : 1 <= N <= 100000\n",
    "\n",
    "**Sample Testcases:**\n",
    "\n",
    "**INPUT**\n",
    "\n",
    "1\n",
    "\n",
    "**OUTPUT**\n",
    "\n",
    "1"
   ]
  },
  {
   "cell_type": "code",
   "execution_count": null,
   "metadata": {},
   "outputs": [
    {
     "name": "stdout",
     "output_type": "stream",
     "text": [
      "1\n"
     ]
    }
   ],
   "source": [
    "from collections import defaultdict, deque\n",
    "\n",
    "def mirror_tree(node, tree):\n",
    "    if node is None:\n",
    "        return\n",
    "\n",
    "    left, right = tree[node]\n",
    "    tree[node] = (right, left)\n",
    "    if left != -1:\n",
    "        mirror_tree(left, tree)\n",
    "    if right != -1:\n",
    "        mirror_tree(right, tree)\n",
    "\n",
    "def level_order_traversal(root, tree):\n",
    "    # BFS to traverse the tree\n",
    "    queue = deque([root])\n",
    "    result = []\n",
    "    \n",
    "    while queue:\n",
    "        node = queue.popleft()\n",
    "        if node != -1:\n",
    "            result.append(node)\n",
    "            left, right = tree[node]\n",
    "            if left != -1:\n",
    "                queue.append(left)\n",
    "            if right != -1:\n",
    "                queue.append(right)\n",
    "    \n",
    "    print(\" \".join(map(str, result)))\n",
    "\n",
    "def main():\n",
    "    N = int(input())\n",
    "    if N == 1:\n",
    "        print(1)\n",
    "        return\n",
    "\n",
    "    tree = defaultdict(lambda: (-1, -1))\n",
    "    for _ in range(N - 1):\n",
    "        parent, child, direction = map(int, input().split())\n",
    "        left, right = tree[parent]\n",
    "        if direction == 0:\n",
    "            tree[parent] = (child, right)  # Left child\n",
    "        else:\n",
    "            tree[parent] = (left, child)  # Right child\n",
    "    root = 1\n",
    "    mirror_tree(root, tree)\n",
    "    level_order_traversal(root, tree)\n",
    "\n",
    "if __name__ == \"__main__\":\n",
    "    main()"
   ]
  },
  {
   "cell_type": "markdown",
   "metadata": {},
   "source": [
    "### **60. Given a number N followed by an array of N integers, replace every element with the greatest element on the right side(to that element) in the array. Replace last element with 0 as there no element on the right side of it.**\n",
    "\n",
    "eg. if the array is {6, 7, 4, 3, 5, 2}, output {7, 5, 5, 5, 2, 0}.\n",
    "\n",
    "Input Size : N <= 100000\n",
    "\n",
    "**Sample Testcase:**\n",
    "\n",
    "**INPUT**\n",
    "\n",
    "6\n",
    "\n",
    "6 7 4 3 5 2\n",
    "\n",
    "**OUTPUT**\n",
    "\n",
    "7 5 5 5 2 0"
   ]
  },
  {
   "cell_type": "code",
   "execution_count": null,
   "metadata": {},
   "outputs": [
    {
     "name": "stdout",
     "output_type": "stream",
     "text": [
      "7 5 5 5 2 0\n"
     ]
    }
   ],
   "source": [
    "def replace_with_greatest_on_right(arr):\n",
    "    n = len(arr)\n",
    "    max_right = 0  # Start with 0 for the last element\n",
    "\n",
    "    # Traverse the array from the right to the left\n",
    "    for i in range(n - 1, -1, -1):\n",
    "        current_value = arr[i]\n",
    "        arr[i] = max_right\n",
    "        max_right = max(max_right, current_value)    \n",
    "    return arr\n",
    "\n",
    "N = int(input())\n",
    "arr = list(map(int, input().split()))\n",
    "result = replace_with_greatest_on_right(arr)\n",
    "print(*result)"
   ]
  },
  {
   "cell_type": "markdown",
   "metadata": {},
   "source": [
    "### **61. Given a string S of length N, rearrange the letters in the string to form a new string X which is lexicographically greater than current string(If many answers are possible, output lexicographically smallest one). If no string exists print '-1'.**\n",
    "\n",
    "Input Size : 1 <= N <= 100000\n",
    "\n",
    "**Sample Testcase:**\n",
    "\n",
    "**INPUT**\n",
    "\n",
    "hello\n",
    "\n",
    "**OUTPUT**\n",
    "\n",
    "helol"
   ]
  },
  {
   "cell_type": "code",
   "execution_count": 1,
   "metadata": {},
   "outputs": [
    {
     "name": "stdout",
     "output_type": "stream",
     "text": [
      "helol\n"
     ]
    }
   ],
   "source": [
    "def next_lexicographical_permutation(S):\n",
    "    S = list(S)\n",
    "    N = len(S)\n",
    "    \n",
    "    i = N - 2\n",
    "    while i >= 0 and S[i] >= S[i + 1]:\n",
    "        i -= 1\n",
    "\n",
    "    if i == -1:\n",
    "        return \"-1\"\n",
    "    \n",
    "    j = N - 1\n",
    "    while S[j] <= S[i]:\n",
    "        j -= 1\n",
    "    \n",
    "    S[i], S[j] = S[j], S[i]\n",
    "    S = S[:i + 1] + S[i + 1:][::-1]\n",
    "    return ''.join(S)\n",
    "\n",
    "S = input().strip()\n",
    "result = next_lexicographical_permutation(S)\n",
    "print(result)"
   ]
  },
  {
   "cell_type": "markdown",
   "metadata": {},
   "source": [
    "### **62. There are n stairs, a person standing at the bottom wants to reach the top. The person can climb either 1 stair or 2 stairs at a time. Given a number N Count the number of ways, the person can reach the top.**\n",
    "\n",
    "Input Size : N <= 100\n",
    "\n",
    "**Sample Testcase:**\n",
    "\n",
    "**INPUT**\n",
    "\n",
    "3\n",
    "\n",
    "**OUTPUT**\n",
    "\n",
    "3"
   ]
  },
  {
   "cell_type": "code",
   "execution_count": 2,
   "metadata": {},
   "outputs": [
    {
     "name": "stdout",
     "output_type": "stream",
     "text": [
      "3\n"
     ]
    }
   ],
   "source": [
    "def count_ways_to_reach_top(N):\n",
    "    if N == 0 or N == 1:\n",
    "        return 1\n",
    "    \n",
    "    dp = [0] * (N + 1)\n",
    "    dp[0] = 1\n",
    "    dp[1] = 1\n",
    "    for i in range(2, N + 1):\n",
    "        dp[i] = dp[i - 1] + dp[i - 2]\n",
    "    return dp[N]\n",
    "\n",
    "N = int(input())\n",
    "print(count_ways_to_reach_top(N))"
   ]
  },
  {
   "cell_type": "markdown",
   "metadata": {},
   "source": [
    "### **63. Given 2 numbers N and K followed by N numbers such that sum of two pairs in the N numbers results K value, if it exist print 'yes' otherwise 'no'.**\n",
    "\n",
    "Input Size : N<=100000\n",
    "\n",
    "**Example:**\n",
    "\n",
    "**INPUT**\n",
    "\n",
    "4 4\n",
    "\n",
    "1 2 2 4\n",
    "\n",
    "**OUTPUT**\n",
    "\n",
    "yes"
   ]
  },
  {
   "cell_type": "code",
   "execution_count": 3,
   "metadata": {},
   "outputs": [
    {
     "name": "stdout",
     "output_type": "stream",
     "text": [
      "yes\n"
     ]
    }
   ],
   "source": [
    "def has_pair_with_sum(N, K, numbers):\n",
    "    seen = set()\n",
    "    for num in numbers:\n",
    "        complement = K - num\n",
    "        if complement in seen:\n",
    "            return \"yes\"\n",
    "        seen.add(num)\n",
    "    return \"no\"\n",
    "\n",
    "N, K = map(int, input().split())\n",
    "numbers = list(map(int, input().split()))\n",
    "print(has_pair_with_sum(N, K, numbers))"
   ]
  },
  {
   "cell_type": "markdown",
   "metadata": {},
   "source": [
    "### **64. At a certain laboratory results of secret research are thoroughly encrypted. A result of a single experiment is stored as an information of its completion: ‘positive result’, ‘negative result’, ‘experiment failed’ or ‘experiment not completed’ The encrypted result constitutes a string of digits S , which may take one of the following forms:**\n",
    "\n",
    "positive result S = 1 or S = 4 or S = 78\n",
    "negative result S = S 35\n",
    "experiment failed S = 9 S 4\n",
    "experiment not completed S = 190 S\n",
    "\n",
    "(A sample result S35 means that if we add digits 35 from the right hand side to a digit sequencethen we shall get the digit sequence corresponding to a failed experiment) You are to write a program which decrypts given sequences of digits.\n",
    "\n",
    "**Input:**\n",
    "\n",
    "A integer n stating the number of encrypted results and then consecutive n lines, each containing a sequence of digits given as ASCII strings.\n",
    "\n",
    "**Output:**\n",
    "\n",
    "For each analysed sequence of digits the following lines should be sent to output (in separate lines):\n",
    "+ for a positive result\n",
    "- for a negative result\n",
    "* for a failed experiment\n",
    "? for a not completed experiment\n",
    "In case the analysed string does not determine the experiment result, a first match from the above list should be outputted.\n",
    "\n",
    "**Sample Testcase:**\n",
    "\n",
    "**INPUT**\n",
    "\n",
    "4\n",
    "\n",
    "78 7835 19078 944\n",
    "\n",
    "**OUTPUT**\n",
    "\n",
    "+\n",
    "\n",
    "-\n",
    "\n",
    "?\n",
    "\n",
    "*"
   ]
  },
  {
   "cell_type": "code",
   "execution_count": 4,
   "metadata": {},
   "outputs": [
    {
     "name": "stdout",
     "output_type": "stream",
     "text": [
      "+\n",
      "-\n",
      "?\n",
      "*\n"
     ]
    }
   ],
   "source": [
    "def decrypt_results(sequences):\n",
    "    results = []\n",
    "    for s in sequences:\n",
    "        if s == \"1\" or s == \"4\" or s == \"78\":\n",
    "            results.append(\"+\")\n",
    "        elif s.endswith(\"35\"):\n",
    "            results.append(\"-\")\n",
    "        elif s.startswith(\"9\") and s.endswith(\"4\"):\n",
    "            results.append(\"*\")\n",
    "        elif s.startswith(\"190\"):\n",
    "            results.append(\"?\")\n",
    "        else:\n",
    "            results.append(\"*\")\n",
    "    return results\n",
    "\n",
    "n = int(input())\n",
    "sequences = input().strip().split()\n",
    "results = decrypt_results(sequences)\n",
    "print(\"\\n\".join(results))"
   ]
  },
  {
   "cell_type": "markdown",
   "metadata": {},
   "source": [
    "### **65. Given a number N and an array of N elements, find the number of triplets ai < aj < ak (i < j < k) in the array.Don't change the given sequence and if it is not possible to form triplet print '-1'.**\n",
    "\n",
    "Input Size : 3<=N<=1000\n",
    "\n",
    "**Example:**\n",
    "\n",
    "**INPUT:**\n",
    "\n",
    "4\n",
    "\n",
    "1 2 3 4\n",
    "\n",
    "**OUTPUT:**\n",
    "\n",
    "4"
   ]
  },
  {
   "cell_type": "code",
   "execution_count": 5,
   "metadata": {},
   "outputs": [
    {
     "name": "stdout",
     "output_type": "stream",
     "text": [
      "4\n"
     ]
    }
   ],
   "source": [
    "def count_triplets(n, arr):\n",
    "    if n < 3:\n",
    "        return -1\n",
    "\n",
    "    count = 0\n",
    "    for j in range(1, n - 1):\n",
    "        left_count = 0\n",
    "        right_count = 0\n",
    "        \n",
    "        for i in range(j):\n",
    "            if arr[i] < arr[j]:\n",
    "                left_count += 1\n",
    "\n",
    "        for k in range(j + 1, n):\n",
    "            if arr[k] > arr[j]:\n",
    "                right_count += 1\n",
    "        count += left_count * right_count\n",
    "    return count if count > 0 else -1\n",
    "\n",
    "n = int(input())\n",
    "arr = list(map(int, input().split()))\n",
    "print(count_triplets(n, arr))"
   ]
  },
  {
   "cell_type": "markdown",
   "metadata": {},
   "source": [
    "### **66. Given a number N- (number of nodes) followed by N numbers. Construct a BST with the inputs in the same order. Now 2 numbers U and V are given. Find the LCA( Lowest Common Anscestor) of U and V.**\n",
    "\n",
    "Input Size : 1 <= N <= 10000\n",
    "\n",
    "**Sample Testcases:**\n",
    "\n",
    "**INPUT**\n",
    "\n",
    "5\n",
    "\n",
    "1 2 3 4 5\n",
    "\n",
    "4 5\n",
    "\n",
    "**OUTPUT**\n",
    "\n",
    "4"
   ]
  },
  {
   "cell_type": "code",
   "execution_count": 6,
   "metadata": {},
   "outputs": [
    {
     "name": "stdout",
     "output_type": "stream",
     "text": [
      "4\n"
     ]
    }
   ],
   "source": [
    "class TreeNode:\n",
    "    def __init__(self, value):\n",
    "        self.value = value\n",
    "        self.left = None\n",
    "        self.right = None\n",
    "\n",
    "# Insert a node into the BST\n",
    "def insert_bst(root, value):\n",
    "    if not root:\n",
    "        return TreeNode(value)\n",
    "    if value < root.value:\n",
    "        root.left = insert_bst(root.left, value)\n",
    "    else:\n",
    "        root.right = insert_bst(root.right, value)\n",
    "    return root\n",
    "\n",
    "# Find the LCA iteratively\n",
    "def find_lca(root, u, v):\n",
    "    while root:\n",
    "        if u < root.value and v < root.value:\n",
    "            root = root.left\n",
    "        elif u > root.value and v > root.value:\n",
    "            root = root.right\n",
    "        else:\n",
    "            return root.value\n",
    "    return -1\n",
    "\n",
    "n = int(input())\n",
    "nodes = list(map(int, input().split()))\n",
    "u, v = map(int, input().split())\n",
    "\n",
    "root = None\n",
    "for value in nodes:\n",
    "    root = insert_bst(root, value)\n",
    "print(find_lca(root, u, v))"
   ]
  },
  {
   "cell_type": "markdown",
   "metadata": {},
   "source": [
    "### **67. Once detective saikat was solving a murder case. While going to the crime scene he took the stairs and saw that a number is written on every stair. He found it suspicious and decides to remember all the numbers that he has seen till now. While remembering the numbers he found that he can find some pattern in those numbers. So he decides that for each number on the stairs he will note down the sum of all the numbers previously seen on the stairs which are smaller than the present number. Calculate the sum of all the numbers written on his notes diary.**\n",
    "\n",
    "Input Size : 1<=N<=1000\n",
    "\n",
    "**Example:**\n",
    "\n",
    "**INPUT**\n",
    "\n",
    "3\n",
    "\n",
    "1 2 3\n",
    "\n",
    "**OUTPUT**\n",
    "\n",
    "4(0+1+1+2)"
   ]
  },
  {
   "cell_type": "code",
   "execution_count": 7,
   "metadata": {},
   "outputs": [
    {
     "name": "stdout",
     "output_type": "stream",
     "text": [
      "4\n"
     ]
    }
   ],
   "source": [
    "def calculate_sum_of_diary_notes(n, numbers):\n",
    "    diary_sum = 0\n",
    "    seen_numbers = []\n",
    "    for num in numbers:        \n",
    "        smaller_sum = sum(x for x in seen_numbers if x < num)\n",
    "        diary_sum += smaller_sum\n",
    "        seen_numbers.append(num)\n",
    "    return diary_sum\n",
    "\n",
    "n = int(input())\n",
    "numbers = list(map(int, input().split()))\n",
    "print(calculate_sum_of_diary_notes(n, numbers))"
   ]
  },
  {
   "cell_type": "markdown",
   "metadata": {},
   "source": [
    "### **68. Given a string, find the length of the longest substring without repeating characters.**\n",
    "\n",
    "Input Size : |S|<=1000\n",
    "\n",
    "**Example:**\n",
    "\n",
    "**INPUT**\n",
    "\n",
    "abcabcccdd\n",
    "\n",
    "**OUTPUT**\n",
    "\n",
    "3"
   ]
  },
  {
   "cell_type": "code",
   "execution_count": 8,
   "metadata": {},
   "outputs": [
    {
     "name": "stdout",
     "output_type": "stream",
     "text": [
      "3\n"
     ]
    }
   ],
   "source": [
    "def longest_unique_substring(s):\n",
    "    char_set = set()\n",
    "    left = 0\n",
    "    max_length = 0\n",
    "\n",
    "    for right in range(len(s)):\n",
    "        while s[right] in char_set:\n",
    "            char_set.remove(s[left])\n",
    "            left += 1\n",
    "        char_set.add(s[right])\n",
    "        max_length = max(max_length, right - left + 1)\n",
    "    return max_length\n",
    "\n",
    "s = input()\n",
    "print(longest_unique_substring(s))"
   ]
  },
  {
   "cell_type": "markdown",
   "metadata": {},
   "source": [
    "### **69. Given 2 numbers N and Q followed by N numbers. Now Q inputs of 2 Numbers U and V are given. U indicates the starting index and V indicates the ending index. So for each U,V find the XOR of all values of the array from the index U to V (1 based indexing).**\n",
    "\n",
    "HINT : USE SEGMENT TREE\n",
    "\n",
    "Input Size : N<=100000\n",
    "\n",
    "**Example:**\n",
    "\n",
    "**INPUT**\n",
    "\n",
    "5 3\n",
    "\n",
    "1 2 1 4 1\n",
    "\n",
    "1 3\n",
    "\n",
    "2 4\n",
    "\n",
    "3 4\n",
    "\n",
    "**OUTPUT**\n",
    "\n",
    "2\n",
    "\n",
    "7\n",
    "\n",
    "5"
   ]
  },
  {
   "cell_type": "code",
   "execution_count": 9,
   "metadata": {},
   "outputs": [
    {
     "name": "stdout",
     "output_type": "stream",
     "text": [
      "2\n",
      "7\n",
      "5\n"
     ]
    }
   ],
   "source": [
    "class SegmentTree:\n",
    "    def __init__(self, arr):\n",
    "        n = len(arr)\n",
    "        self.n = n\n",
    "        self.tree = [0] * (4 * n)\n",
    "        self._build(arr, 0, 0, n - 1)\n",
    "    \n",
    "    def _build(self, arr, node, start, end):\n",
    "        if start == end:\n",
    "            self.tree[node] = arr[start]\n",
    "        else:\n",
    "            mid = (start + end) // 2\n",
    "            left_child = 2 * node + 1\n",
    "            right_child = 2 * node + 2\n",
    "            self._build(arr, left_child, start, mid)\n",
    "            self._build(arr, right_child, mid + 1, end)\n",
    "            self.tree[node] = self.tree[left_child] ^ self.tree[right_child]\n",
    "\n",
    "    def _query(self, node, start, end, l, r):\n",
    "        if r < start or l > end:\n",
    "            return 0\n",
    "        if l <= start and end <= r:\n",
    "            return self.tree[node]\n",
    "        mid = (start + end) // 2\n",
    "        left_child = 2 * node + 1\n",
    "        right_child = 2 * node + 2\n",
    "        left_xor = self._query(left_child, start, mid, l, r)\n",
    "        right_xor = self._query(right_child, mid + 1, end, l, r)\n",
    "        return left_xor ^ right_xor\n",
    "\n",
    "    def query(self, l, r):\n",
    "        return self._query(0, 0, self.n - 1, l - 1, r - 1)\n",
    "\n",
    "N, Q = map(int, input().split())\n",
    "arr = list(map(int, input().split()))\n",
    "segment_tree = SegmentTree(arr)\n",
    "for _ in range(Q):\n",
    "    U, V = map(int, input().split())\n",
    "    print(segment_tree.query(U, V))"
   ]
  },
  {
   "cell_type": "markdown",
   "metadata": {},
   "source": [
    "### **70. Given a binary matrix of size N * M consisting only 0s and 1s, find the maximum size square submatrix with all 1s.**\n",
    "\n",
    "Input Size : N<=1000, M<=1000\n",
    "\n",
    "Example: Consider the below matrix.\n",
    "\n",
    "**INPUT**\n",
    "\n",
    "6 5\n",
    "\n",
    "0 1 1 0 1\n",
    "\n",
    "1 1 0 1 0\n",
    "\n",
    "0 1 1 1 0\n",
    "\n",
    "1 1 1 1 0\n",
    "\n",
    "1 1 1 1 1\n",
    "\n",
    "0 0 0 0 0\n",
    "\n",
    "**OUTPUT**\n",
    "\n",
    "1 1 1\n",
    "\n",
    "1 1 1\n",
    "\n",
    "1 1 1\n",
    "\n",
    "NOTE\n",
    "\n",
    "The maximum square sub-matrix with all ’1′ bits is from (2,1) to (4,3)"
   ]
  },
  {
   "cell_type": "code",
   "execution_count": 10,
   "metadata": {},
   "outputs": [
    {
     "name": "stdout",
     "output_type": "stream",
     "text": [
      "1 1 1\n",
      "1 1 1\n",
      "1 1 1\n"
     ]
    }
   ],
   "source": [
    "def largest_square_submatrix(matrix):\n",
    "    n = len(matrix)\n",
    "    m = len(matrix[0])\n",
    "    \n",
    "    dp = [[0] * m for _ in range(n)]\n",
    "    max_size = 0\n",
    "    max_row, max_col = 0, 0\n",
    "    \n",
    "    for i in range(n):\n",
    "        for j in range(m):\n",
    "            if matrix[i][j] == 1:\n",
    "                if i == 0 or j == 0:\n",
    "                    dp[i][j] = 1\n",
    "                else:\n",
    "                    dp[i][j] = min(dp[i-1][j], dp[i][j-1], dp[i-1][j-1]) + 1\n",
    "                if dp[i][j] > max_size:\n",
    "                    max_size = dp[i][j]\n",
    "                    max_row, max_col = i, j\n",
    "\n",
    "    if max_size == 1:\n",
    "        print(1)\n",
    "    elif max_size > 1:\n",
    "        for i in range(max_row - max_size + 1, max_row + 1):\n",
    "            print(\" \".join(map(str, matrix[i][max_col - max_size + 1:max_col + 1])))\n",
    "    else:\n",
    "        print(0)\n",
    "        \n",
    "n, m = map(int, input().split())\n",
    "matrix = [list(map(int, input().split())) for _ in range(n)]\n",
    "largest_square_submatrix(matrix)"
   ]
  },
  {
   "cell_type": "markdown",
   "metadata": {},
   "source": [
    "### **71. A kindergarten teacher has to arrange 2n children in n pairs for daily walks. Design an algorithm for this task so that for 2n − 1 days no pair would be the same and print the total number of distinct pairs.The given input indicates 2n.**\n",
    "\n",
    "Input Size : |2n|<=10000\n",
    "\n",
    "**Example:**\n",
    "\n",
    "**INPUT**\n",
    "\n",
    "4\n",
    "\n",
    "**OUTPUT**\n",
    "\n",
    "6"
   ]
  },
  {
   "cell_type": "code",
   "execution_count": 14,
   "metadata": {},
   "outputs": [
    {
     "name": "stdout",
     "output_type": "stream",
     "text": [
      "6\n"
     ]
    }
   ],
   "source": [
    "def total_distinct_pairs(people_count):\n",
    "    total_pairs = (people_count * (people_count - 1)) // 2\n",
    "    print(total_pairs)\n",
    "\n",
    "total_distinct_pairs(int(input()))"
   ]
  },
  {
   "cell_type": "markdown",
   "metadata": {},
   "source": [
    "### **72. There are a number of cities. Not all cities are connected.**\n",
    "\n",
    "The cities are connected in the hirarchial fashion like the one below:\n",
    "\n",
    "                                A\n",
    "\n",
    "                           /            \\\n",
    "\n",
    "                         B              C\n",
    "\n",
    "                        /    \\                \\\n",
    "\n",
    "                       D     E               F\n",
    "\n",
    "                      /                        /   \\\n",
    "\n",
    "                    G                      I        J\n",
    "\n",
    "                     \\\n",
    "\n",
    "                       H\n",
    "\n",
    "This means A has a connection with all other cities. City C has a connection with F, I and J. City G has a connection with H and so on.\n",
    "\n",
    "The task is to calculate the minimum number of distance it takes to reach from one city to another. If the city has a connection with another city then the distance between them is 1.\n",
    "\n",
    "For example, The distance between H and E cities is 4.It takes 4 connections to reach.\n",
    "\n",
    "Giving a binary tree and its inorder and postorder traversal, calculate the minimum distance between given nodes.\n",
    "\n",
    "**Input Description:**\n",
    "\n",
    "Input description: First-line represents Binary tree inorder traversal Second-line \n",
    "represents Binary tree postorder traversal The next line represents two cities to which minimum distance to be calculated.\n",
    "\n",
    "**Output Description:**\n",
    "\n",
    "Minimum Distance between given 2 cities\n",
    "\n",
    "**Sample Input:**\n",
    "\n",
    "ACDFHIJK\n",
    "\n",
    "ADCIHKJF\n",
    "\n",
    "A K\n",
    "\n",
    "**Sample Output:**\n",
    "\n",
    "4"
   ]
  },
  {
   "cell_type": "code",
   "execution_count": 16,
   "metadata": {},
   "outputs": [
    {
     "name": "stdout",
     "output_type": "stream",
     "text": [
      "4\n"
     ]
    }
   ],
   "source": [
    "class TreeNode:\n",
    "    def __init__(self, val):\n",
    "        self.val = val\n",
    "        self.left = None\n",
    "        self.right = None\n",
    "\n",
    "def build_tree(inorder, postorder):\n",
    "    if not inorder or not postorder:\n",
    "        return None\n",
    "\n",
    "    # The last element in postorder is the root\n",
    "    root_val = postorder.pop()\n",
    "    root = TreeNode(root_val)\n",
    "\n",
    "    # Split inorder list into left and right subtrees\n",
    "    index = inorder.index(root_val)\n",
    "    root.right = build_tree(inorder[index + 1:], postorder)\n",
    "    root.left = build_tree(inorder[:index], postorder)\n",
    "    return root\n",
    "\n",
    "\n",
    "def find_lca(root, node1, node2):\n",
    "    if not root:\n",
    "        return None\n",
    "    if root.val == node1 or root.val == node2:\n",
    "        return root\n",
    "\n",
    "    left = find_lca(root.left, node1, node2)\n",
    "    right = find_lca(root.right, node1, node2)\n",
    "    if left and right:\n",
    "        return root\n",
    "    return left if left else right\n",
    "\n",
    "def find_distance(root, target, distance=0):\n",
    "    if not root:\n",
    "        return -1\n",
    "    if root.val == target:\n",
    "        return distance\n",
    "    left = find_distance(root.left, target, distance + 1)\n",
    "    if left != -1:\n",
    "        return left\n",
    "    return find_distance(root.right, target, distance + 1)\n",
    "\n",
    "\n",
    "def minimum_distance(inorder, postorder, city1, city2):\n",
    "    root = build_tree(list(inorder), list(postorder))   # Build the binary tree\n",
    "    lca = find_lca(root, city1, city2)  # Find the LCA of the two cities\n",
    "\n",
    "    # Find distances from LCA to the two cities\n",
    "    distance1 = find_distance(lca, city1)\n",
    "    distance2 = find_distance(lca, city2)\n",
    "    return distance1 + distance2\n",
    "\n",
    "inorder_input = \"ACDFHIJK\"\n",
    "postorder_input = \"ADCIHKJF\"\n",
    "city1, city2 = \"A\", \"K\"\n",
    "print(minimum_distance(inorder_input, postorder_input, city1, city2))"
   ]
  },
  {
   "cell_type": "markdown",
   "metadata": {},
   "source": [
    "### **73. Given a string of length N, find the longest palindromic substring.**\n",
    "\n",
    "Input Size : 1 <= N <= 1000\n",
    "\n",
    "**Sample Testcase:**\n",
    "\n",
    "**INPUT**\n",
    "\n",
    "DIEHEIDI\n",
    "\n",
    "**OUTPUT**\n",
    "\n",
    "DIEHEID"
   ]
  },
  {
   "cell_type": "code",
   "execution_count": 18,
   "metadata": {},
   "outputs": [
    {
     "name": "stdout",
     "output_type": "stream",
     "text": [
      "DIEHEID\n"
     ]
    }
   ],
   "source": [
    "def longest_palindromic_substring(s):\n",
    "    def expand_around_center(left, right):\n",
    "        while left >= 0 and right < len(s) and s[left] == s[right]:\n",
    "            left -= 1\n",
    "            right += 1\n",
    "        return s[left+1:right]\n",
    "    \n",
    "    longest = \"\"\n",
    "    for i in range(len(s)):\n",
    "        odd_palindrome = expand_around_center(i, i)\n",
    "        if len(odd_palindrome) > len(longest):\n",
    "            longest = odd_palindrome\n",
    "        \n",
    "        even_palindrome = expand_around_center(i, i+1)\n",
    "        if len(even_palindrome) > len(longest):\n",
    "            longest = even_palindrome    \n",
    "    return longest\n",
    "\n",
    "s = input().strip()\n",
    "print(longest_palindromic_substring(s))"
   ]
  },
  {
   "cell_type": "markdown",
   "metadata": {},
   "source": [
    "### **74. Bob has a strange counter. At the first second, t = 1, it displays the number 3. At each subsequent second, the number displayed by the counter decrements by 1. The counter counts down in cycles. In the second after the counter counts down to 1, the number becomes 2x the initial number for that countdown cycle and then continues counting down from the new initial number in a new cycle. The diagram shows the counter values for each time t in the first three cycles.Find the value corresponding to the given time t.**\n",
    "\n",
    "Input Size : t<=100000\n",
    "\n",
    "**Example:**\n",
    "\n",
    "**INPUT**\n",
    "\n",
    "4\n",
    "\n",
    "**OUTPUT**\n",
    "\n",
    "6"
   ]
  },
  {
   "cell_type": "code",
   "execution_count": 19,
   "metadata": {},
   "outputs": [
    {
     "name": "stdout",
     "output_type": "stream",
     "text": [
      "6\n"
     ]
    }
   ],
   "source": [
    "def strange_counter(t):\n",
    "    cycle_start = 1\n",
    "    cycle_length = 3\n",
    "    while t >= cycle_start + cycle_length:\n",
    "        cycle_start += cycle_length\n",
    "        cycle_length *= 2\n",
    "    initial_value = cycle_length\n",
    "    time_elapsed = t - cycle_start\n",
    "    return initial_value - time_elapsed\n",
    "\n",
    "t = int(input())\n",
    "print(strange_counter(t))"
   ]
  },
  {
   "cell_type": "markdown",
   "metadata": {},
   "source": [
    "### **75. Given three numbers N,A,B. Find if it is possible to partition N into 2 equal groups containing A and B only.print 'yes' if it can be partitioned otherwise print 'no'.**\n",
    "\n",
    "Input Size : 1<=N,A,B<=10000\n",
    "\n",
    "**Example:**\n",
    "\n",
    "**INPUT**\n",
    "\n",
    "20 2 3\n",
    "\n",
    "**OUTPUT**\n",
    "\n",
    "yes\n",
    "\n",
    "Explanation: (2,2,3,3),(2,2,3,3) ie 10+10=20=N"
   ]
  },
  {
   "cell_type": "code",
   "execution_count": null,
   "metadata": {},
   "outputs": [
    {
     "name": "stdout",
     "output_type": "stream",
     "text": [
      "yes\n"
     ]
    }
   ],
   "source": [
    "def can_partition(N, A, B):\n",
    "    if N % 2 != 0:\n",
    "        return \"no\"\n",
    "\n",
    "    target = N // 2\n",
    "    for x in range(0, target + 1, A):\n",
    "        if (target - x) % B == 0:\n",
    "            return \"yes\"    \n",
    "    return \"no\"\n",
    "\n",
    "N, A, B = map(int, input().split())\n",
    "print(can_partition(N, A, B))"
   ]
  },
  {
   "cell_type": "code",
   "execution_count": 21,
   "metadata": {},
   "outputs": [
    {
     "name": "stdout",
     "output_type": "stream",
     "text": [
      "yes\n"
     ]
    }
   ],
   "source": [
    "import math\n",
    "\n",
    "def can_partition(N, A, B):\n",
    "    gcd_ab = math.gcd(A, B)\n",
    "    if N % gcd_ab == 0:\n",
    "        return \"yes\"\n",
    "    else:\n",
    "        return \"no\"\n",
    "\n",
    "N, A, B = map(int, input().split())\n",
    "print(can_partition(N, A, B))"
   ]
  },
  {
   "cell_type": "markdown",
   "metadata": {},
   "source": [
    "### **76. Maxwell wants to buy an apartment in a new house at Line Avenue of Metropolis. The house has n apartments that are numbered from 1 to n and are arranged in a row. Two apartments are adjacent if their indices differ by 1. Some of the apartments can already be inhabited, others are available for sale. Maxwell often visits his neighbors, so apartment is good for him if it is available for sale and there is at least one already inhabited apartment adjacent to it. Maxwell knows that there are exactly k already inhabited apartments, but he doesn't know their indices yet. Find out what could be the minimum possible and the maximum possible number of apartments that are good for Maxwell.**\n",
    "\n",
    "Input Size : N<=K<=1000000000\n",
    "\n",
    "**Example:**\n",
    "\n",
    "**INPUT**\n",
    "\n",
    "6 3\n",
    "\n",
    "**OUTPUT**\n",
    "\n",
    "1 3"
   ]
  },
  {
   "cell_type": "code",
   "execution_count": 22,
   "metadata": {},
   "outputs": [
    {
     "name": "stdout",
     "output_type": "stream",
     "text": [
      "1 3\n"
     ]
    }
   ],
   "source": [
    "def find_good_apartments(n, k):\n",
    "    if k == n:\n",
    "        return 0, 0\n",
    "    min_good = 1\n",
    "    max_good = min(k, n - k)\n",
    "    return min_good, max_good\n",
    "\n",
    "n, k = list(map(int, input().split()))\n",
    "result = find_good_apartments(n, k)\n",
    "print(result[0], result[1])"
   ]
  },
  {
   "cell_type": "markdown",
   "metadata": {},
   "source": [
    "### **77. You are given a string s consisting of lowercase Latin letters. Character c is called k-dominant iff each substring of s with length at least k contains this character c. You have to find minimum k such that there exists at least one k-dominant character.**\n",
    "\n",
    "Input Size : |S|<=10000\n",
    "\n",
    "**INPUT**\n",
    "\n",
    "abacaba\n",
    "\n",
    "**OUTPUT**\n",
    "\n",
    "2"
   ]
  },
  {
   "cell_type": "code",
   "execution_count": 23,
   "metadata": {},
   "outputs": [
    {
     "name": "stdout",
     "output_type": "stream",
     "text": [
      "2\n"
     ]
    }
   ],
   "source": [
    "def find_minimum_k(s):\n",
    "    n = len(s)\n",
    "    positions = {}\n",
    "    for i, char in enumerate(s):\n",
    "        if char not in positions:\n",
    "            positions[char] = []\n",
    "        positions[char].append(i)\n",
    "    \n",
    "    min_k = n\n",
    "    for char, indices in positions.items():\n",
    "        max_gap = indices[0] + 1\n",
    "        for i in range(1, len(indices)):\n",
    "            max_gap = max(max_gap, indices[i] - indices[i - 1])\n",
    "        max_gap = max(max_gap, n - indices[-1])\n",
    "        min_k = min(min_k, max_gap)    \n",
    "    return min_k\n",
    "\n",
    "s = input().strip()\n",
    "print(find_minimum_k(s))"
   ]
  },
  {
   "cell_type": "markdown",
   "metadata": {},
   "source": [
    "### **78. Given 2 numbers N,M corresponding to the number of 0 and 1 respectively, print anarrangement of cards which satisfies the following conditions:**\n",
    "\n",
    "1)There wouldn't be a pair of any side-adjacent cards with zeroes in a row.\n",
    "\n",
    "2)There wouldn't be a group of three consecutive cards containing numbers one.\n",
    "\n",
    "If multiple solutions are possible print the first solution.\n",
    "\n",
    "Print '-1' if it is impossible.\n",
    "\n",
    "Input Size : 1<=N<=100000\n",
    "\n",
    "**Example:**\n",
    "\n",
    "**INPUT**\n",
    "\n",
    "1 2\n",
    "\n",
    "**OUTPUT**\n",
    "\n",
    "101"
   ]
  },
  {
   "cell_type": "code",
   "execution_count": 25,
   "metadata": {},
   "outputs": [
    {
     "name": "stdout",
     "output_type": "stream",
     "text": [
      "101\n"
     ]
    }
   ],
   "source": [
    "def arrange_cards(N, M):\n",
    "    if N > M + 1 or M > 2 * (N + 1):\n",
    "        return \"-1\"\n",
    "    \n",
    "    result = []\n",
    "    while N > 0 or M > 0:\n",
    "        if M > 0:\n",
    "            result.append('1')\n",
    "            M -= 1\n",
    "        \n",
    "        if N > 0:\n",
    "            result.append('0')\n",
    "            N -= 1\n",
    "        \n",
    "        if M > 0 and len(result) >= 2 and result[-2:] != ['1', '1']:\n",
    "            result.append('1')\n",
    "            M -= 1    \n",
    "    return ''.join(result)\n",
    "\n",
    "N, M = map(int, input().split())\n",
    "print(arrange_cards(N, M))"
   ]
  },
  {
   "cell_type": "markdown",
   "metadata": {},
   "source": [
    "### **79. Given 2 numbers N,K followed by an array of N integers perform the following operation:**\n",
    "\n",
    "1) Split the array into exactly k non-empty subsegments.\n",
    "\n",
    "2) Compute the minimum integer on each subsegment.\n",
    "\n",
    "3) Take the maximum integer over the k obtained minimums.\n",
    "\n",
    "What is the maximum possible integer you can get if u split optimally?\n",
    "\n",
    "Input Size : 1<=K<=N<=100000\n",
    "\n",
    "**Example:**\n",
    "\n",
    "**INPUT**\n",
    "\n",
    "5 2\n",
    "\n",
    "1 2 3 4 5\n",
    "\n",
    "**OUTPUT**\n",
    "\n",
    "5"
   ]
  },
  {
   "cell_type": "code",
   "execution_count": 26,
   "metadata": {},
   "outputs": [
    {
     "name": "stdout",
     "output_type": "stream",
     "text": [
      "5\n"
     ]
    }
   ],
   "source": [
    "def can_split_with_min_value(arr, N, K, min_val):\n",
    "    count = 0\n",
    "    current_min = float('inf')\n",
    "    for num in arr:\n",
    "        if num >= min_val:\n",
    "            current_min = min(current_min, num)\n",
    "        else:\n",
    "            if current_min >= min_val:\n",
    "                count += 1\n",
    "            current_min = float('inf')\n",
    "    if current_min >= min_val:\n",
    "        count += 1\n",
    "    return count >= K\n",
    "\n",
    "def max_min_possible(arr, N, K):\n",
    "    left, right = 1, max(arr)\n",
    "    best = -1\n",
    "    while left <= right:\n",
    "        mid = (left + right) // 2\n",
    "        if can_split_with_min_value(arr, N, K, mid):\n",
    "            best = mid\n",
    "            left = mid + 1\n",
    "        else:\n",
    "            right = mid - 1    \n",
    "    return best\n",
    "\n",
    "N, K = map(int, input().split())\n",
    "arr = list(map(int, input().split()))\n",
    "print(max_min_possible(arr, N, K))"
   ]
  },
  {
   "cell_type": "markdown",
   "metadata": {},
   "source": [
    "### **80. Given a linked list(where each node has a character)  remove the duplicate character and maintain the same order.**\n",
    "\n",
    "Input: H->e->l->l->o->w->o->r->l->d->h->i\n",
    "\n",
    "Output:  H->e->l->o->w->r->d->h->i\n",
    "\n",
    "**Explanation:**\n",
    "\n",
    "The letters l,o are duplicated so it is mentioned only once in the output.\n",
    "\n",
    "Note: The characters are case sensitive\n",
    "\n",
    "//Node structure in C/C++\n",
    "\n",
    "struct Node\n",
    "{\n",
    "    int data;\n",
    "    struct Node *next;\n",
    "};\n",
    "\n",
    "//Node class structure\n",
    "\n",
    "class LinkedList {\n",
    "    static Node head;\n",
    "    static class Node {\n",
    "        int data;\n",
    "        Node next;\n",
    "        Node(int d) {\n",
    "            data = d;\n",
    "            next = null;\n",
    "        }\n",
    "    }\n",
    "\n",
    "**Input Description:**\n",
    "\n",
    "Characters of a String in linked list format\n",
    "\n",
    "**Output Description:**\n",
    "\n",
    "Characters of a String in linked list format after removing the repeated character\n",
    "\n",
    "**Sample Input:**\n",
    "\n",
    "H->e->l->l->o->w->o->r->l->d->h->i\n",
    "\n",
    "**Sample Output:**\n",
    "\n",
    " H->e->l->o->w->r->d->h->i"
   ]
  },
  {
   "cell_type": "code",
   "execution_count": 30,
   "metadata": {},
   "outputs": [
    {
     "name": "stdout",
     "output_type": "stream",
     "text": [
      "H->e->l->o->W->r->d->h->i\n"
     ]
    }
   ],
   "source": [
    "class Node:\n",
    "    def __init__(self, data):\n",
    "        self.data = data\n",
    "        self.next = None\n",
    "\n",
    "class LinkedList:\n",
    "    def __init__(self):\n",
    "        self.head = None\n",
    "\n",
    "    def append(self, data):\n",
    "        if not self.head:\n",
    "            self.head = Node(data)\n",
    "        else:\n",
    "            current = self.head\n",
    "            while current.next:\n",
    "                current = current.next\n",
    "            current.next = Node(data)\n",
    "\n",
    "    def remove_duplicates(self):\n",
    "        visited = set()\n",
    "        current = self.head\n",
    "        prev = None\n",
    "        while current:\n",
    "            if current.data in visited:\n",
    "                prev.next = current.next\n",
    "            else:\n",
    "                visited.add(current.data)\n",
    "                prev = current\n",
    "            current = current.next\n",
    "\n",
    "    def display(self):\n",
    "        current = self.head\n",
    "        result = []\n",
    "        while current:\n",
    "            result.append(current.data)\n",
    "            current = current.next\n",
    "        print(\"->\".join(result))\n",
    "\n",
    "ll = LinkedList()\n",
    "for char in \"HelloWorldhi\":\n",
    "    ll.append(char)\n",
    "ll.remove_duplicates()\n",
    "ll.display()"
   ]
  },
  {
   "cell_type": "markdown",
   "metadata": {},
   "source": [
    "### **81. There are n students in an institution. For each student you know the number of times he/she has participated in the ACM ICPC world programming championship. According to the ACM ICPCrules, each person can participate in the world championship at most 5 times. The head of the institution is recently gathering teams to participate in the world championship. Each team must consist of exactly three people, at that, any person cannot be a member of two ormore teams. What maximum number of teams can the head make if he wants each team to participate in the world championship with the same members at least k times?**\n",
    "\n",
    "Input Size : N<=10000\n",
    "\n",
    "**Example:**\n",
    "\n",
    "**INPUT**\n",
    "\n",
    "5 2\n",
    "\n",
    "0 4 5 1 0\n",
    "\n",
    "**OUTPUT**\n",
    "\n",
    "1"
   ]
  },
  {
   "cell_type": "code",
   "execution_count": 31,
   "metadata": {},
   "outputs": [
    {
     "name": "stdout",
     "output_type": "stream",
     "text": [
      "1\n"
     ]
    }
   ],
   "source": [
    "def max_teams(n, k, participation):\n",
    "    max_allowed_participation = 5 - k\n",
    "    eligible_students = [p for p in participation if p <= max_allowed_participation]\n",
    "    return len(eligible_students) // 3\n",
    "\n",
    "n, k = map(int, input().split())\n",
    "participation = list(map(int, input().split()))\n",
    "print(max_teams(n, k, participation))"
   ]
  },
  {
   "cell_type": "markdown",
   "metadata": {},
   "source": [
    "### **82. Given 2 integers N,M(where N is the number of vertices and M is the number of edges) followed by 'M' lines containing 2 vertices U,V and weight W. Find the shortest path from 1-N.If there is no path print '-1'.**\n",
    "\n",
    "Input Size : 1<=N, M<=100000\n",
    "\n",
    "**Example:**\n",
    "\n",
    "**INPUT**\n",
    "\n",
    "5 6\n",
    "\n",
    "1 2 2\n",
    "\n",
    "2 5 5\n",
    "\n",
    "2 3 4\n",
    "\n",
    "1 4 1\n",
    "\n",
    "4 3 3\n",
    "\n",
    "3 5 1\n",
    "\n",
    "**OUTPUT**\n",
    "\n",
    "5"
   ]
  },
  {
   "cell_type": "code",
   "execution_count": null,
   "metadata": {},
   "outputs": [],
   "source": [
    "import heapq\n",
    "from collections import defaultdict\n",
    "import sys\n",
    "\n",
    "def shortest_path(n, m, edges):\n",
    "    graph = defaultdict(list)\n",
    "    for u, v, w in edges:\n",
    "        graph[u].append((v, w))\n",
    "        graph[v].append((u, w))\n",
    "        \n",
    "    dist = [float('inf')] * (n + 1)\n",
    "    dist[1] = 0\n",
    "\n",
    "    pq = [(0, 1)]\n",
    "    while pq:\n",
    "        current_dist, current_vertex = heapq.heappop(pq)\n",
    "        if current_dist > dist[current_vertex]:\n",
    "            continue\n",
    "        for neighbor, weight in graph[current_vertex]:\n",
    "            new_dist = current_dist + weight\n",
    "            if new_dist < dist[neighbor]:\n",
    "                dist[neighbor] = new_dist\n",
    "                heapq.heappush(pq, (new_dist, neighbor))\n",
    "    return dist[n] if dist[n] != float('inf') else -1\n",
    "\n",
    "input_data = sys.stdin.read().strip().split(\"\\n\")\n",
    "n, m = map(int, input_data[0].split())\n",
    "edges = [tuple(map(int, line.split())) for line in input_data[1:]]\n",
    "print(shortest_path(n, m, edges))"
   ]
  },
  {
   "cell_type": "markdown",
   "metadata": {},
   "source": [
    "### **83. Do problem 3 with cost of insertion, deletion as the position of the inserted alphabet in A-Z and substitution as the difference in their positions in A-Z.**\n",
    "\n",
    "Input Size : 1<=N<=1000\n",
    "\n",
    "**Example:**\n",
    "\n",
    "**INPUT**\n",
    "\n",
    "arc bug\n",
    "\n",
    "**OUTPUT**\n",
    "\n",
    "8"
   ]
  },
  {
   "cell_type": "code",
   "execution_count": null,
   "metadata": {},
   "outputs": [
    {
     "name": "stdout",
     "output_type": "stream",
     "text": [
      "8\n"
     ]
    }
   ],
   "source": [
    "def alphabet_position(char):\n",
    "    # Returns the position of the character in A-Z (case insensitive)\n",
    "    return ord(char.upper()) - ord('A') + 1\n",
    "\n",
    "def min_edit_distance(str1, str2):\n",
    "    n = len(str1)\n",
    "    m = len(str2)\n",
    "    \n",
    "    # Create a DP table\n",
    "    dp = [[0] * (m + 1) for _ in range(n + 1)]\n",
    "    \n",
    "    # Base cases for transforming to/from an empty string\n",
    "    for i in range(1, n + 1):\n",
    "        dp[i][0] = dp[i - 1][0] + alphabet_position(str1[i - 1])\n",
    "    for j in range(1, m + 1):\n",
    "        dp[0][j] = dp[0][j - 1] + alphabet_position(str2[j - 1])\n",
    "    \n",
    "    # Fill the DP table\n",
    "    for i in range(1, n + 1):\n",
    "        for j in range(1, m + 1):\n",
    "            cost_insertion = alphabet_position(str2[j - 1])\n",
    "            cost_deletion = alphabet_position(str1[i - 1])\n",
    "            cost_substitution = abs(alphabet_position(str1[i - 1]) - alphabet_position(str2[j - 1]))\n",
    "            \n",
    "            dp[i][j] = min(\n",
    "                dp[i - 1][j] + cost_deletion,               # Deletion\n",
    "                dp[i][j - 1] + cost_insertion,             # Insertion\n",
    "                dp[i - 1][j - 1] + cost_substitution       # Substitution\n",
    "            )\n",
    "    return dp[n][m]\n",
    "\n",
    "input_str = input().strip()\n",
    "str1, str2 = input_str.split()\n",
    "print(min_edit_distance(str1, str2))"
   ]
  },
  {
   "cell_type": "markdown",
   "metadata": {},
   "source": [
    "### **84. Dhoni plays his favorite game 'Peace Lightning'. Now he is flying a bomber on a very specific map. Formally, map is a checkered field of size 1 × n, the cells of which are numbered from 1 to n, in each cell there can be one or several tanks. Dhoni doesn't know the number of tanks and their positions, because he flies very high, but he can drop a bomb in any cell. All tanks in this cell will be damaged. If a tank takes damage for the first time, it instantly moves to one of the neighboring cells (a tank in the cell n can only move to the cell n - 1, a tank in the cell 1 can only move to the cell 2). If a tank takes damage for the second time, it's counted as destroyed and never moves again. The tanks move only when they are damaged for the first time, they do not move by themselves. Help Dhoni to destroy all tanks using as few bombs as possible.**\n",
    "\n",
    "Input Size : N<=1000000\n",
    "\n",
    "**Example:**\n",
    "\n",
    "**INPUT**\n",
    "\n",
    "2\n",
    "\n",
    "**OUTPUT**\n",
    "\n",
    "3\n",
    "\n",
    "2 1 2"
   ]
  },
  {
   "cell_type": "code",
   "execution_count": 2,
   "metadata": {},
   "outputs": [
    {
     "name": "stdout",
     "output_type": "stream",
     "text": [
      "3\n",
      "2 1 2\n"
     ]
    }
   ],
   "source": [
    "def destroy_tanks(n):\n",
    "    bombs = []\n",
    "    for i in range(2, n + 1, 2):\n",
    "        bombs.append(i)\n",
    "    \n",
    "    for i in range(1, n + 1, 2):\n",
    "        bombs.append(i)\n",
    "    \n",
    "    for i in range(2, n + 1, 2):\n",
    "        bombs.append(i)\n",
    "    print(len(bombs))\n",
    "    print(*bombs)\n",
    "\n",
    "n = int(input())\n",
    "destroy_tanks(n)"
   ]
  },
  {
   "cell_type": "markdown",
   "metadata": {},
   "source": [
    "### **85. Given 2 strings X and Y convert X to Y as cheaply as possible. Let the cost of insertion, deletion and updation be 1. Print the minimum cost.**\n",
    "\n",
    "Input Size : 1<= N<=1000\n",
    "\n",
    "**Example:**\n",
    "\n",
    "**INPUT**\n",
    "\n",
    "codekata code\n",
    "\n",
    "**OUTPUT**\n",
    "\n",
    "4"
   ]
  },
  {
   "cell_type": "code",
   "execution_count": null,
   "metadata": {},
   "outputs": [],
   "source": [
    "import sys\n",
    "\n",
    "def min_cost_to_convert(X, Y):\n",
    "    m, n = len(X), len(Y)\n",
    "    dp = [[0] * (n + 1) for _ in range(m + 1)]\n",
    "    \n",
    "    for i in range(m + 1):\n",
    "        dp[i][0] = i\n",
    "    for j in range(n + 1):\n",
    "        dp[0][j] = j\n",
    "    \n",
    "    for i in range(1, m + 1):\n",
    "        for j in range(1, n + 1):\n",
    "            if X[i - 1] == Y[j - 1]:\n",
    "                dp[i][j] = dp[i - 1][j - 1]\n",
    "            else:\n",
    "                dp[i][j] = 1 + min(dp[i - 1][j],\n",
    "                                   dp[i][j - 1],\n",
    "                                   dp[i - 1][j - 1])\n",
    "    return dp[m][n]\n",
    "\n",
    "inputs = sys.stdin.read().strip().split()\n",
    "X, Y = inputs[0], inputs[1]\n",
    "print(min_cost_to_convert(X, Y))"
   ]
  },
  {
   "cell_type": "markdown",
   "metadata": {},
   "source": [
    "### **86. Given 2 numbers N and Q followed by N numbers. Now Q inputs of 2 numbers U and V are given. U indicates the starting index and V indicates the ending index. So for each U,V find the minimum of all values of the array from the index U to V (1 based indexing).**\n",
    "\n",
    "HINT : USE SEGMENT TREE\n",
    "\n",
    "Input Size : N<=100000\n",
    "\n",
    "**Example:**\n",
    "\n",
    "**INPUT**\n",
    "\n",
    "5 3\n",
    "\n",
    "1 1 1 1 1\n",
    "\n",
    "1 3\n",
    "\n",
    "2 4\n",
    "\n",
    "3 4\n",
    "\n",
    "**OUTPUT**\n",
    "\n",
    "1\n",
    "\n",
    "1\n",
    "\n",
    "1"
   ]
  },
  {
   "cell_type": "code",
   "execution_count": 3,
   "metadata": {},
   "outputs": [
    {
     "name": "stdout",
     "output_type": "stream",
     "text": [
      "1\n",
      "1\n",
      "1\n"
     ]
    }
   ],
   "source": [
    "class SegmentTree:\n",
    "    def __init__(self, arr):\n",
    "        self.n = len(arr)\n",
    "        self.tree = [0] * (4 * self.n)\n",
    "        self.build(arr, 0, 0, self.n - 1)\n",
    "\n",
    "    def build(self, arr, node, start, end):\n",
    "        if start == end:\n",
    "            self.tree[node] = arr[start]\n",
    "        else:\n",
    "            mid = (start + end) // 2\n",
    "            left_child = 2 * node + 1\n",
    "            right_child = 2 * node + 2\n",
    "            self.build(arr, left_child, start, mid)\n",
    "            self.build(arr, right_child, mid + 1, end)\n",
    "            self.tree[node] = min(self.tree[left_child], self.tree[right_child])\n",
    "\n",
    "    def query(self, node, start, end, L, R):\n",
    "        if R < start or end < L:\n",
    "            return float('inf')\n",
    "        if L <= start and end <= R:\n",
    "            return self.tree[node]\n",
    "        mid = (start + end) // 2\n",
    "        left_child = 2 * node + 1\n",
    "        right_child = 2 * node + 2\n",
    "        left_result = self.query(left_child, start, mid, L, R)\n",
    "        right_result = self.query(right_child, mid + 1, end, L, R)\n",
    "        return min(left_result, right_result)\n",
    "\n",
    "def main():\n",
    "    N, Q = map(int, input().split())\n",
    "    arr = list(map(int, input().split()))\n",
    "    seg_tree = SegmentTree(arr)\n",
    "    for _ in range(Q):\n",
    "        U, V = map(int, input().split())\n",
    "        result = seg_tree.query(0, 0, N - 1, U - 1, V - 1)\n",
    "        print(result)\n",
    "\n",
    "if __name__ == \"__main__\":\n",
    "    main()"
   ]
  },
  {
   "cell_type": "markdown",
   "metadata": {},
   "source": [
    "### **87. A tree is a connected acyclic graph. A bipartite graph is a graph, whose vertices can be partitioned into 2 sets in such a way, that for each edge (U, V) that belongs to the graph, U and V belong todifferent sets. You can find more formal definitions of a tree and a bipartite graph in the notessection below. Consider a tree consisting of n nodes and add edges to it in such a way, that the graph is stillbipartite. Besides, after adding these edges the graph should be simple (should’nt contain loops ormultiple edges). What is the maximum number of edges they can add? A loop is an edge, which connects a node with itself. Graph doesn't contain multiple edges when foreach pair of nodes there is no more than one edge between them. A cycle and a loop aren't the same.**\n",
    "\n",
    "Input Size : N<=100000, U,V<=N\n",
    "\n",
    "**Example:**\n",
    "\n",
    "**Input**\n",
    "\n",
    "3\n",
    "\n",
    "1 2\n",
    "\n",
    "2 3\n",
    "\n",
    "**Output**\n",
    "\n",
    "0"
   ]
  },
  {
   "cell_type": "code",
   "execution_count": 2,
   "metadata": {},
   "outputs": [
    {
     "name": "stdout",
     "output_type": "stream",
     "text": [
      "0\n"
     ]
    }
   ],
   "source": [
    "from collections import deque\n",
    "\n",
    "def max_edges_in_bipartite_tree(n, edges):\n",
    "    tree = [[] for _ in range(n+1)]\n",
    "    for u, v in edges:\n",
    "        tree[u].append(v)\n",
    "        tree[v].append(u)\n",
    "\n",
    "    set1 = set()\n",
    "    set2 = set()\n",
    "    color = [-1] * (n + 1)\n",
    "    queue = deque([1])\n",
    "    color[1] = 0\n",
    "    set1.add(1)\n",
    "    while queue:\n",
    "        node = queue.popleft()\n",
    "        current_color = color[node]\n",
    "        next_color = 1 - current_color\n",
    "        for neighbor in tree[node]:\n",
    "            if color[neighbor] == -1:\n",
    "                color[neighbor] = next_color\n",
    "                queue.append(neighbor)\n",
    "                if next_color == 0:\n",
    "                    set1.add(neighbor)\n",
    "                else:\n",
    "                    set2.add(neighbor)\n",
    "    \n",
    "    a = len(set1)\n",
    "    b = len(set2)\n",
    "    max_possible_edges = a * b\n",
    "    max_additional_edges = max_possible_edges - (n - 1)\n",
    "    return max_additional_edges\n",
    "\n",
    "n = int(input())\n",
    "edges = []\n",
    "for _ in range(n - 1):\n",
    "    u, v = map(int, input().split())\n",
    "    edges.append((u, v))\n",
    "print(max_edges_in_bipartite_tree(n, edges))"
   ]
  },
  {
   "cell_type": "markdown",
   "metadata": {},
   "source": [
    "### **88. Your city has n junctions. There are m one-way roads between the junctions. As a mayor of the city, you have to ensure the security of all the junctions. To ensure the security, you have to build some police checkposts. Checkposts can only be built in a junction. A checkpost at junction i can protect junction j if either i = j or the police patrol car can go to j from i and then come back to i. Building checkposts costs some money. As some areas of the city are more expensive than others, building checkpost at some junctions might cost more money than other junctions. You have to determine the minimum possible money needed to ensure the security of all the junctions. Also you have to find the number of ways to ensure the security in minimum price and in addition in minimum number of checkposts. Two ways are different if any of the junctions contains a checkpost in one of them and do not contain in the other. Print two integers separated by spaces. The first one is the minimum possible money needed to ensure the security of all the junctions. And the second one is the number of ways you can ensure the security modulo.**\n",
    "\n",
    "Input Size : n<=100000 and m<=3*100000\n",
    "\n",
    "**Example:**\n",
    "\n",
    "**INPUT**\n",
    "\n",
    "3\n",
    "\n",
    "1 2 3\n",
    "\n",
    "3\n",
    "\n",
    "1 2\n",
    "\n",
    "2 3\n",
    "\n",
    "3 2\n",
    "\n",
    "**OUTPUT**\n",
    "\n",
    "3 1"
   ]
  },
  {
   "cell_type": "code",
   "execution_count": 1,
   "metadata": {},
   "outputs": [
    {
     "name": "stdout",
     "output_type": "stream",
     "text": [
      "3 1\n"
     ]
    }
   ],
   "source": [
    "import sys\n",
    "from collections import defaultdict, deque\n",
    "\n",
    "MOD = 10**9 + 7\n",
    "\n",
    "def kosaraju_scc(n, graph):\n",
    "    order = []\n",
    "    visited = [False] * n\n",
    "\n",
    "    def dfs1(v):\n",
    "        visited[v] = True\n",
    "        for u in graph[v]:\n",
    "            if not visited[u]:\n",
    "                dfs1(u)\n",
    "        order.append(v)\n",
    "\n",
    "    for i in range(n):\n",
    "        if not visited[i]:\n",
    "            dfs1(i)\n",
    "    reverse_graph = defaultdict(list)\n",
    "    for u in range(n):\n",
    "        for v in graph[u]:\n",
    "            reverse_graph[v].append(u)\n",
    "\n",
    "    sccs = []\n",
    "    visited = [False] * n\n",
    "\n",
    "    def dfs2(v, component):\n",
    "        visited[v] = True\n",
    "        component.append(v)\n",
    "        for u in reverse_graph[v]:\n",
    "            if not visited[u]:\n",
    "                dfs2(u, component)\n",
    "\n",
    "    for v in reversed(order):\n",
    "        if not visited[v]:\n",
    "            component = []\n",
    "            dfs2(v, component)\n",
    "            sccs.append(component)\n",
    "    return sccs\n",
    "\n",
    "def min_cost_security(n, costs, m, edges):\n",
    "    graph = defaultdict(list)\n",
    "    for u, v in edges:\n",
    "        graph[u-1].append(v-1)\n",
    "    sccs = kosaraju_scc(n, graph)\n",
    "    total_cost = 0\n",
    "    total_ways = 1\n",
    "    for scc in sccs:\n",
    "        min_cost = float('inf')\n",
    "        count = 0\n",
    "        for node in scc:\n",
    "            if costs[node] < min_cost:\n",
    "                min_cost = costs[node]\n",
    "                count = 1\n",
    "            elif costs[node] == min_cost:\n",
    "                count += 1\n",
    "        total_cost += min_cost\n",
    "        total_ways = (total_ways * count) % MOD\n",
    "    return total_cost, total_ways\n",
    "\n",
    "n = int(input())\n",
    "costs = list(map(int, input().split()))\n",
    "m = int(input())\n",
    "edges = [tuple(map(int, input().split())) for _ in range(m)]\n",
    "total_cost, total_ways = min_cost_security(n, costs, m, edges)\n",
    "print(total_cost, total_ways)"
   ]
  },
  {
   "cell_type": "markdown",
   "metadata": {},
   "source": [
    "### **89. There are n people and k keys on a straight line. Every person wants to get to the office which is located on the line as well. To do that, he needs to reach some point with a key, take the key and then go to the office. Once a key is taken by somebody, it couldn't be taken by anybody else. You are to determine the minimum time needed for all n people to get to the office with keys. Assume that people move a unit distance per 1 second. If two people reach a key at the same time, only one of them can take the key. A person can pass through a point with a key without taking it. The first line contains three integers n, k and p (1 ≤ n ≤ 1 000, n ≤ k ≤ 2 000, 1 ≤ p ≤ 1000000000) — the number of people, the number of keys and the office location. The second line contains n distinct integers a1, a2, ..., an (1 ≤ ai ≤ 1000000000) — positions in which people are located initially. The positions are given in arbitrary order. The third line contains k distinct integers b1, b2, ..., bk (1 ≤ bj ≤ 1000000000) — positions of the keys. The positions are given in arbitrary order. Note that there can't be more than one person or more than one key in the same point. A person and a key can be located in the same point.**\n",
    "\n",
    "**Example:**\n",
    "\n",
    "**INPUT**\n",
    "\n",
    "2 4 50\n",
    "\n",
    "20 100\n",
    "\n",
    "60 10 40 80\n",
    "\n",
    "**OUTPUT**\n",
    "\n",
    "50"
   ]
  },
  {
   "cell_type": "code",
   "execution_count": 1,
   "metadata": {},
   "outputs": [
    {
     "name": "stdout",
     "output_type": "stream",
     "text": [
      "50\n"
     ]
    }
   ],
   "source": [
    "def can_all_people_reach_in_time(time, n, k, p, people_positions, keys_positions):\n",
    "    j = 0\n",
    "    for person in people_positions:\n",
    "        while j < k and abs(person - keys_positions[j]) + abs(keys_positions[j] - p) > time:\n",
    "            j += 1\n",
    "        if j == k:\n",
    "            return False\n",
    "        j += 1\n",
    "    return True\n",
    "\n",
    "def find_minimum_time(n, k, p, people_positions, keys_positions):\n",
    "    people_positions.sort()\n",
    "    keys_positions.sort()\n",
    "    \n",
    "    low, high = 0, 2 * 10**9\n",
    "    result = high\n",
    "    while low <= high:\n",
    "        mid = (low + high) // 2\n",
    "        if can_all_people_reach_in_time(mid, n, k, p, people_positions, keys_positions):\n",
    "            result = mid\n",
    "            high = mid - 1\n",
    "        else:\n",
    "            low = mid + 1    \n",
    "    return result\n",
    "\n",
    "n, k, p = list(map(int, input().split()))\n",
    "people_positions = list(map(int, input().split()))\n",
    "keys_positions = list(map(int, input().split()))\n",
    "print(find_minimum_time(n, k, p, people_positions, keys_positions))"
   ]
  },
  {
   "cell_type": "markdown",
   "metadata": {},
   "source": [
    "### **90. Recently Kohli bought a very interesting book. He knows that it will take t seconds to read the book. Kohli wants to finish reading as fast as he can.But he has some work to do in each of n next days. The number of seconds that Kohli has to spend working during i-th day is ai. If some free time remains, he can spend it on reading. Help Kohli to determine the minimum number of day when He finishes reading. It is guaranteed that the answer doesn't exceed n. Remember that there are 86400 seconds in a day.**\n",
    "\n",
    "Input Size : N<=100T<=1000000\n",
    "\n",
    "example\n",
    "\n",
    "**INPUT**\n",
    "\n",
    "2 2\n",
    "\n",
    "86400 86398\n",
    "\n",
    "**OUTPUT**\n",
    "\n",
    "2"
   ]
  },
  {
   "cell_type": "code",
   "execution_count": 2,
   "metadata": {},
   "outputs": [
    {
     "name": "stdout",
     "output_type": "stream",
     "text": [
      "2\n"
     ]
    }
   ],
   "source": [
    "def minimum_day_to_finish(n, t, work_times):\n",
    "    seconds_in_day = 86400\n",
    "    total_read_time = 0\n",
    "    \n",
    "    for day in range(n):\n",
    "        free_time = seconds_in_day - work_times[day]\n",
    "        total_read_time += free_time\n",
    "        if total_read_time >= t:\n",
    "            return day + 1\n",
    "    return -1\n",
    "\n",
    "n, t = map(int, input().split())\n",
    "work_times = list(map(int, input().split()))\n",
    "print(minimum_day_to_finish(n, t, work_times))"
   ]
  },
  {
   "cell_type": "markdown",
   "metadata": {},
   "source": [
    "### **91. The Romans have attacked again. This time they are much more than the Persians but Shapur is ready to defeat them. He says: 'A lion is never afraid of a hundred sheep'.**\n",
    "\n",
    "Nevertheless Shapur has to find weaknesses in the Roman army to defeat them. So he gives the army a weakness number.\n",
    "\n",
    "In Shapur's opinion the weakness of an army is equal to the number of triplets i, j, k such that i < j < k and ai > aj > ak where ax is the power of man standing at position x. The Roman army has one special trait — powers of all the people in it are distinct.\n",
    "\n",
    "Help Shapur find out how weak the Romans are.\n",
    "\n",
    "The first line of input contains a single number n, the number of men in Roman army. Next line contains n different positive integers powers of men in the Roman army.\n",
    "\n",
    "Input Size : N<=100000\n",
    "\n",
    "**Example:**\n",
    "\n",
    "**INPUT**\n",
    "\n",
    "3\n",
    "\n",
    "3 2 1\n",
    "\n",
    "**OUTPUT**\n",
    "\n",
    "1"
   ]
  },
  {
   "cell_type": "code",
   "execution_count": 3,
   "metadata": {},
   "outputs": [
    {
     "name": "stdout",
     "output_type": "stream",
     "text": [
      "1\n"
     ]
    }
   ],
   "source": [
    "class FenwickTree:\n",
    "    def __init__(self, size):\n",
    "        self.size = size\n",
    "        self.tree = [0] * (size + 1)\n",
    "    \n",
    "    def update(self, index, value):\n",
    "        while index <= self.size:\n",
    "            self.tree[index] += value\n",
    "            index += index & -index\n",
    "    \n",
    "    def query(self, index):\n",
    "        result = 0\n",
    "        while index > 0:\n",
    "            result += self.tree[index]\n",
    "            index -= index & -index\n",
    "        return result\n",
    "\n",
    "def roman_weakness(n, powers):\n",
    "    max_power = max(powers)\n",
    "    bit_left = FenwickTree(max_power)\n",
    "    left = [0] * n\n",
    "    \n",
    "    for j in range(n):\n",
    "        left[j] = bit_left.query(max_power) - bit_left.query(powers[j])\n",
    "        bit_left.update(powers[j], 1)\n",
    "    \n",
    "    bit_right = FenwickTree(max_power)\n",
    "    right = [0] * n\n",
    "    \n",
    "    for j in range(n - 1, -1, -1):\n",
    "        right[j] = bit_right.query(powers[j] - 1)\n",
    "        bit_right.update(powers[j], 1)\n",
    "    result = sum(left[j] * right[j] for j in range(n))\n",
    "    return result\n",
    "\n",
    "n = int(input())\n",
    "powers = list(map(int, input().split()))\n",
    "print(roman_weakness(n, powers))"
   ]
  },
  {
   "cell_type": "markdown",
   "metadata": {},
   "source": [
    "### **92. Given 2 strings S,T of length N,M print the longest common subarray.**\n",
    "\n",
    "Input Size : 1 <= N, M <= 1000\n",
    "\n",
    "**Sample Testcase:**\n",
    "\n",
    "**INPUT**\n",
    "\n",
    "TEACHER\n",
    "\n",
    "CHEATER\n",
    "\n",
    "**OUTPUT**\n",
    "\n",
    "CHE"
   ]
  },
  {
   "cell_type": "code",
   "execution_count": null,
   "metadata": {},
   "outputs": [
    {
     "name": "stdout",
     "output_type": "stream",
     "text": [
      "CHE\n"
     ]
    }
   ],
   "source": [
    "def longest_common_subarray(S, T):\n",
    "    N = len(S)\n",
    "    M = len(T)\n",
    "    \n",
    "    dp = [[0] * (M + 1) for _ in range(N + 1)]\n",
    "    \n",
    "    max_length = 0\n",
    "    end_pos = 0\n",
    "\n",
    "    for i in range(1, N + 1):\n",
    "        for j in range(1, M + 1):\n",
    "            if S[i - 1] == T[j - 1]:\n",
    "                dp[i][j] = dp[i - 1][j - 1] + 1\n",
    "                if dp[i][j] > max_length:\n",
    "                    max_length = dp[i][j]\n",
    "                    end_pos = i\n",
    "            else:\n",
    "                dp[i][j] = 0\n",
    "    return S[end_pos - max_length:end_pos]\n",
    "\n",
    "S = input().strip()\n",
    "T = input().strip()\n",
    "print(longest_common_subarray(S, T))"
   ]
  },
  {
   "cell_type": "markdown",
   "metadata": {},
   "source": [
    "### **93. A bus moves along the coordinate line Ox from the point x = 0 to the point x = a. After starting from the point x = 0, it reaches the point x = a, immediately turns back and then moves to the point x = 0. After returning to the point x = 0 it immediately goes back to the point x = a and so on. Thus, the bus moves from x = 0 to x = a and back. Moving from the point x = 0 to x = a or from the point x = a to x = 0 is called a bus journey. In total, the bus must make k journeys. The petrol tank of the bus can hold b liters of gasoline. To pass a single unit of distance the bus needs to spend exactly one liter of gasoline. The bus starts its first journey with a full petrol tank. There is a gas station in point x = f. This point is between points x = 0 and x = a. There are no other gas stations on the bus route. While passing by a gas station in either direction the bus can stop and completely refuel its tank. Thus, after stopping to refuel the tank will contain b liters of gasoline. What is the minimum number of times the bus needs to refuel at the point x = f to make k journeys? The first journey starts in the point x = 0. The first line contains four integers a, b, f, k (0 < f < a ≤ 1000000, 1 ≤ b ≤ 1000000000, 1 ≤ k ≤ 10000) — the endpoint of the first bus journey, the capacity of the fuel tank of the bus, the point where the gas station is located, and the required number of journeys.**\n",
    "\n",
    "**Example:**\n",
    "\n",
    "**INPUT**\n",
    "\n",
    "6 9 2 4\n",
    "\n",
    "**OUTPUT**\n",
    "\n",
    "4"
   ]
  },
  {
   "cell_type": "code",
   "execution_count": 21,
   "metadata": {},
   "outputs": [
    {
     "name": "stdout",
     "output_type": "stream",
     "text": [
      "7\n"
     ]
    }
   ],
   "source": [
    "def min_refuels(a, b, f, k):\n",
    "    refuels = 0\n",
    "    fuel = b\n",
    "    for journey in range(k):\n",
    "        if fuel < a:\n",
    "            refuels += 1\n",
    "            fuel = b\n",
    "        fuel -= a\n",
    "        if fuel < a:\n",
    "            refuels += 1\n",
    "            fuel = b\n",
    "        fuel -= a\n",
    "    return refuels\n",
    "    \n",
    "a, b, f, k = map(int, input().split())\n",
    "print(min_refuels(a, b, f, k))"
   ]
  },
  {
   "cell_type": "markdown",
   "metadata": {},
   "source": [
    "### **94. Given 2 numbers N,Q and an array of N integers, followed by Q queries each consisting of L,R. Find the GCD of numbers in [L,R]. If there is only one number in the given range, then print the number itself.**\n",
    "\n",
    "Input Size : 1<=N<=1000\n",
    "\n",
    "**Example:**\n",
    "\n",
    "**INPUT**\n",
    "\n",
    "5 2\n",
    "\n",
    "1 2 3 4 5\n",
    "\n",
    "1 2\n",
    "\n",
    "4 5\n",
    "\n",
    "**OUTPUT**\n",
    "\n",
    "1\n",
    "\n",
    "1"
   ]
  },
  {
   "cell_type": "code",
   "execution_count": 23,
   "metadata": {},
   "outputs": [
    {
     "name": "stdout",
     "output_type": "stream",
     "text": [
      "1\n",
      "1\n"
     ]
    }
   ],
   "source": [
    "import math\n",
    "\n",
    "def compute_gcd(prefix, L, R):\n",
    "    if L == R:\n",
    "        return prefix[L]\n",
    "    return math.gcd(prefix[R], prefix[L-1])\n",
    "\n",
    "def main():\n",
    "    N, Q = map(int, input().split())\n",
    "    arr = list(map(int, input().split()))\n",
    "    \n",
    "    # Create a prefix GCD array\n",
    "    prefix = [0] * (N + 1)\n",
    "    \n",
    "    # Fill the prefix array\n",
    "    for i in range(1, N + 1):\n",
    "        prefix[i] = math.gcd(prefix[i - 1], arr[i - 1])\n",
    "    \n",
    "    # Process each query\n",
    "    for _ in range(Q):\n",
    "        L, R = map(int, input().split())\n",
    "        result = compute_gcd(prefix, L, R)\n",
    "        print(result)\n",
    "\n",
    "if __name__ == \"__main__\":\n",
    "    main()"
   ]
  },
  {
   "cell_type": "markdown",
   "metadata": {},
   "source": [
    "### **95. You are given an array a of size n, and q queries to it. There are queries of two types:**\n",
    "\n",
    "1) li ri — perform a cyclic shift of the segment [li, ri] to the right. That is, for every x such that li ≤ x < ri new value of ax + 1 becomes equal to old value of ax, and new value of ali becomes equal to old value of ari.\n",
    "\n",
    "2) li ri — reverse the segment [li, ri].There are m important indices in the array b1, b2, ..., bm. For each i such that 1 ≤ i ≤ m you have to output the number that will have index bi in the array after all queries are performed.\n",
    "Input Size : N,Q<=100000, m<=100\n",
    "\n",
    "**Example:**\n",
    "\n",
    "**INPUT**\n",
    "\n",
    "6 3 5\n",
    "\n",
    "1 2 3 4 5 6\n",
    "\n",
    "2 1 3\n",
    "\n",
    "2 3 6\n",
    "\n",
    "1 1 6\n",
    "\n",
    "2 2 1 5 3\n",
    "\n",
    "**OUTPUT**\n",
    "\n",
    "3 3 1 5 2"
   ]
  },
  {
   "cell_type": "code",
   "execution_count": 24,
   "metadata": {},
   "outputs": [
    {
     "name": "stdout",
     "output_type": "stream",
     "text": [
      "3 3 1 5 2\n"
     ]
    }
   ],
   "source": [
    "def process_queries(n, q, m, arr, queries, important_indices):\n",
    "    important_indices = [i - 1 for i in important_indices]  # Convert to 0-based indexing\n",
    "    \n",
    "    # Track the current positions of important indices\n",
    "    current_indices = important_indices[:]\n",
    "    \n",
    "    # Process each query\n",
    "    for query in queries:\n",
    "        # Decompose the query\n",
    "        t, li, ri = query\n",
    "        \n",
    "        # Convert to 0-based indexing\n",
    "        li -= 1\n",
    "        ri -= 1\n",
    "        \n",
    "        if t == 1:  # Cyclic shift\n",
    "            # Perform the right cyclic shift in the range [li, ri]\n",
    "            for i in range(len(current_indices)):\n",
    "                if li <= current_indices[i] <= ri:\n",
    "                    if current_indices[i] == ri:\n",
    "                        current_indices[i] = li\n",
    "                    else:\n",
    "                        current_indices[i] += 1\n",
    "        elif t == 2:  # Reverse\n",
    "            # Perform the reverse in the range [li, ri]\n",
    "            for i in range(len(current_indices)):\n",
    "                if li <= current_indices[i] <= ri:\n",
    "                    current_indices[i] = li + ri - current_indices[i]\n",
    "    \n",
    "    # Retrieve the values at the important indices\n",
    "    result = [arr[idx] for idx in current_indices]\n",
    "    return result\n",
    "\n",
    "n, q, m = map(int, input().split())\n",
    "arr = list(map(int, input().split()))\n",
    "queries = []\n",
    "\n",
    "for _ in range(q):\n",
    "    t, li, ri = map(int, input().split())\n",
    "    queries.append((t, li, ri))\n",
    "\n",
    "important_indices = list(map(int, input().split()))\n",
    "result = process_queries(n, q, m, arr, queries, important_indices)\n",
    "print(' '.join(map(str, result)))"
   ]
  },
  {
   "cell_type": "markdown",
   "metadata": {},
   "source": [
    "### **96. Anna and Brian order n items at a restaurant, but Anna declines to eat any of the kth item due to an allergy. When the check comes, they decide to split the cost of all the items they shared; however, Brian may have forgotten that they didn't split the kth item and accidentally charged Anna for it. You are given n,k the cost of each of the n items, and the total amount of money that Brian charged Anna for her portion of the bill. If the bill is fairly split, print 'Bon Appetit'; otherwise, print the amount of money that Brian must refund to Anna.**\n",
    "\n",
    "**Input Format**\n",
    "\n",
    "The first line contains two space-separated integers denoting the respective values of n (the number of items ordered) and k (the 0-based index of the item that Anna did not eat). The second line contains n space-separated integers where each integer i denotes the cost c[i], of item i. The third line contains an integer ,b(charged), denoting the amount of money that Brian charged Anna for her share of the bill.\n",
    "\n",
    "**Output Format**\n",
    "\n",
    "If Brian did not overcharge Anna, print Bon Appetit on a new line; otherwise, print the difference (i.e.b(charged) - b(actual), ) that Brian must refund to Anna (it is guaranteed that this will always be an integer).\n",
    "\n",
    "Input Size : N<=1000000\n",
    "\n",
    "**Example:**\n",
    "\n",
    "**INPUT**\n",
    "\n",
    "4 1\n",
    "\n",
    "3 10 2 9\n",
    "\n",
    "12\n",
    "\n",
    "**OUTPUT**\n",
    "\n",
    "5"
   ]
  },
  {
   "cell_type": "code",
   "execution_count": 25,
   "metadata": {},
   "outputs": [
    {
     "name": "stdout",
     "output_type": "stream",
     "text": [
      "5\n"
     ]
    }
   ],
   "source": [
    "def bon_appetit():\n",
    "    n, k = map(int, input().split())\n",
    "    c = list(map(int, input().split()))\n",
    "    b_charged = int(input())\n",
    "    \n",
    "    total_cost = sum(c) - c[k]\n",
    "    anna_share = total_cost // 2\n",
    "    if b_charged == anna_share:\n",
    "        print(\"Bon Appetit\")\n",
    "    else:\n",
    "        print(b_charged - anna_share)\n",
    "\n",
    "bon_appetit()"
   ]
  },
  {
   "cell_type": "markdown",
   "metadata": {},
   "source": [
    "### **97. Check whether the given 4 points form a square or not.**\n",
    "\n",
    "**Example:**\n",
    "\n",
    "**INPUT**\n",
    "\n",
    "10 10\n",
    "\n",
    "10 20\n",
    "\n",
    "20 20\n",
    "\n",
    "20 10\n",
    "\n",
    "**OUTPUT**\n",
    "\n",
    "yes"
   ]
  },
  {
   "cell_type": "code",
   "execution_count": 26,
   "metadata": {},
   "outputs": [
    {
     "name": "stdout",
     "output_type": "stream",
     "text": [
      "yes\n"
     ]
    }
   ],
   "source": [
    "import math\n",
    "def distance(p1, p2):\n",
    "    return math.sqrt((p1[0] - p2[0]) ** 2 + (p1[1] - p2[1]) ** 2)\n",
    "\n",
    "def is_square(points):\n",
    "    if len(points) != 4:\n",
    "        return False\n",
    "\n",
    "    d = []\n",
    "    for i in range(4):\n",
    "        for j in range(i + 1, 4):\n",
    "            d.append(distance(points[i], points[j]))\n",
    "    d.sort()\n",
    "    return d[0] == d[1] == d[2] == d[3] and d[4] == d[5] and d[0] != 0\n",
    "\n",
    "points = []\n",
    "for _ in range(4):\n",
    "    x, y = map(int, input().split())\n",
    "    points.append((x, y))\n",
    "if is_square(points):\n",
    "    print(\"yes\")\n",
    "else:\n",
    "    print(\"no\")"
   ]
  },
  {
   "cell_type": "markdown",
   "metadata": {},
   "source": [
    "### **98. Given a list of N coins, their values (V1, V2, … , VN), and the total sum S. Find the minimum number of coins the sum of which is S (we can use as many coins of one type as we want), if it is not possible to select coins in such a way that they sum up to S then print '-1'.**\n",
    "\n",
    "Example: Given coins with values 1, 3, and 5. And the sum S is 11.\n",
    "\n",
    "Output: 3, 2 coins of 3 and 1 coin of 5\n",
    "\n",
    "Input Size : N<=10000\n",
    "\n",
    "**Example:**\n",
    "\n",
    "**INPUT**\n",
    "\n",
    "3 11\n",
    "\n",
    "1 3 5\n",
    "\n",
    "**OUTPUT**\n",
    "\n",
    "3"
   ]
  },
  {
   "cell_type": "code",
   "execution_count": 27,
   "metadata": {},
   "outputs": [
    {
     "name": "stdout",
     "output_type": "stream",
     "text": [
      "3\n"
     ]
    }
   ],
   "source": [
    "def min_coins(coins, N, S):\n",
    "    dp = [float('inf')] * (S + 1)\n",
    "    dp[0] = 0\n",
    "    for i in range(1, S + 1):\n",
    "        for coin in coins:\n",
    "            if coin <= i:\n",
    "                dp[i] = min(dp[i], dp[i - coin] + 1)\n",
    "    return dp[S] if dp[S] != float('inf') else -1\n",
    "\n",
    "N, S = map(int, input().split())\n",
    "coins = list(map(int, input().split()))\n",
    "print(min_coins(coins, N, S))"
   ]
  },
  {
   "cell_type": "markdown",
   "metadata": {},
   "source": [
    "### **99. Chan’s girlfriend's birthday is near, so he wants to surprise her by making a special cake for her. Chan knows that his girlfriend likes cherries on the cake, so he puts cherries on the top of the cake, but he was not satisfied. Therefore, he decided to replace some of the cherries to make a beautiful pattern. However, Chan has a lot of other work to do so he decided to ask for your help. The cherries are of two colors red and green. Now Chan wants the cherries to be placed in such a way that each cherry of one color must be adjacent to only cherries of the other color, two cherries are adjacent if they share a side. Now Chan has asked for your help in making that pattern on the cake.You can replace any cherry of given color with the other color. But there is a cost for each replacement: if you replace a red cherry with a green one, the cost is 5 units and if you replace a green cherry with a red one, the cost is 3 units. Help your friend Chan by making the cake special with minimum cost.If there is no need of any changes print '0'(ie. minimum cost is zero).**\n",
    "\n",
    "Input Size : N<=1000, M<=1000\n",
    "\n",
    "**Example:**\n",
    "\n",
    "**INPUT**\n",
    "\n",
    "2 3\n",
    "\n",
    "RRG\n",
    "\n",
    "GGR\n",
    "\n",
    "**OUTPUT**\n",
    "\n",
    "8"
   ]
  },
  {
   "cell_type": "code",
   "execution_count": 28,
   "metadata": {},
   "outputs": [
    {
     "name": "stdout",
     "output_type": "stream",
     "text": [
      "8\n"
     ]
    }
   ],
   "source": [
    "def min_cost_to_pattern(n, m, grid):\n",
    "    cost_pattern1 = 0\n",
    "    cost_pattern2 = 0\n",
    "    for i in range(n):\n",
    "        for j in range(m):\n",
    "            current_color = grid[i][j]\n",
    "            if (i + j) % 2 == 0:\n",
    "                expected1 = 'R'\n",
    "                expected2 = 'G'\n",
    "            else:\n",
    "                expected1 = 'G'\n",
    "                expected2 = 'R'\n",
    "            if current_color != expected1:\n",
    "                if current_color == 'R' and expected1 == 'G':\n",
    "                    cost_pattern1 += 5\n",
    "                else:\n",
    "                    cost_pattern1 += 3\n",
    "            if current_color != expected2:\n",
    "                if current_color == 'R' and expected2 == 'G':\n",
    "                    cost_pattern2 += 5\n",
    "                else:\n",
    "                    cost_pattern2 += 3\n",
    "    return min(cost_pattern1, cost_pattern2)\n",
    "\n",
    "n, m = map(int, input().split())\n",
    "grid = [input().strip() for _ in range(n)]\n",
    "print(min_cost_to_pattern(n, m, grid))"
   ]
  },
  {
   "cell_type": "code",
   "execution_count": null,
   "metadata": {},
   "outputs": [],
   "source": []
  }
 ],
 "metadata": {
  "kernelspec": {
   "display_name": "py8",
   "language": "python",
   "name": "python3"
  },
  "language_info": {
   "codemirror_mode": {
    "name": "ipython",
    "version": 3
   },
   "file_extension": ".py",
   "mimetype": "text/x-python",
   "name": "python",
   "nbconvert_exporter": "python",
   "pygments_lexer": "ipython3",
   "version": "3.8.20"
  }
 },
 "nbformat": 4,
 "nbformat_minor": 2
}
