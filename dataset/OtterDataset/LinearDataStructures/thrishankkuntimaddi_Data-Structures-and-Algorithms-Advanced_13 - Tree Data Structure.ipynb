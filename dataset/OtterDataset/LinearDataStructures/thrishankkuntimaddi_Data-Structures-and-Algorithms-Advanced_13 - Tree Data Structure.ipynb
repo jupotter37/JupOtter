{
  "nbformat": 4,
  "nbformat_minor": 0,
  "metadata": {
    "colab": {
      "provenance": [],
      "authorship_tag": "ABX9TyPuOCLn89OBXJ9G96kHy4Ii",
      "include_colab_link": true
    },
    "kernelspec": {
      "name": "python3",
      "display_name": "Python 3"
    },
    "language_info": {
      "name": "python"
    }
  },
  "cells": [
    {
      "cell_type": "markdown",
      "metadata": {
        "id": "view-in-github",
        "colab_type": "text"
      },
      "source": [
        "<a href=\"https://colab.research.google.com/github/Thrishankkuntimaddi/Data-Structures-and-Algorithms-Advanced/blob/main/13%20-Tree%20Data%20Structure.ipynb\" target=\"_parent\"><img src=\"https://colab.research.google.com/assets/colab-badge.svg\" alt=\"Open In Colab\"/></a>"
      ]
    },
    {
      "cell_type": "markdown",
      "source": [
        "# Level Order Traversal Line by Line\n",
        "\n",
        "I/P :\n",
        "\n",
        "             10\n",
        "           /    \\\n",
        "         20      30\n",
        "       /   \\    /  \\\n",
        "      40   50  60   70\n",
        "                   /  \\\n",
        "                 80    90\n",
        "\n",
        "O/P :  \n",
        "\n",
        "      10\n",
        "      20 30\n",
        "      40 50 60 70\n",
        "      80 90"
      ],
      "metadata": {
        "id": "4t9u3M3cx5kO"
      }
    },
    {
      "cell_type": "code",
      "execution_count": 2,
      "metadata": {
        "id": "gw9JgVG9xb78",
        "colab": {
          "base_uri": "https://localhost:8080/"
        },
        "outputId": "1074cf00-0420-4203-a911-9a5880a1306f"
      },
      "outputs": [
        {
          "output_type": "stream",
          "name": "stdout",
          "text": [
            "10 \n",
            "20 30 \n",
            "40 50 60 70 \n",
            "80 90 "
          ]
        }
      ],
      "source": [
        "# Method 1\n",
        "\n",
        "from collections import deque\n",
        "\n",
        "class Node:\n",
        "    def __init__(self, key):\n",
        "        self.key = key\n",
        "        self.left = None\n",
        "        self.right = None\n",
        "\n",
        "def printLevel(root):\n",
        "    if root is None:\n",
        "        return\n",
        "\n",
        "    q = deque()\n",
        "    q.append(root)\n",
        "    q.append(None)\n",
        "\n",
        "    while len(q) > 1:\n",
        "        curr = q.popleft()\n",
        "        if curr is None:\n",
        "            print()\n",
        "            q.append(None)\n",
        "            continue\n",
        "\n",
        "        print(curr.key, end=\" \")\n",
        "\n",
        "        if curr.left is not None:\n",
        "            q.append(curr.left)\n",
        "\n",
        "        if curr.right is not None:\n",
        "            q.append(curr.right)\n",
        "\n",
        "# Example usage:\n",
        "\n",
        "root = Node(10)\n",
        "root.left = Node(20)\n",
        "root.right = Node(30)\n",
        "root.left.left = Node(40)\n",
        "root.left.right = Node(50)\n",
        "root.right.left = Node(60)\n",
        "root.right.right = Node(70)\n",
        "root.right.right.left = Node(80)\n",
        "root.right.right.right = Node(90)\n",
        "\n",
        "printLevel(root)\n",
        "\n",
        "# Time Complexity : O(n)\n",
        "# Space Complexity : ϴ(width of Tree)"
      ]
    },
    {
      "cell_type": "code",
      "source": [
        "# Method 2\n",
        "\n",
        "def printLevel2(root):\n",
        "  if root is None:\n",
        "    return\n",
        "\n",
        "  q = deque()\n",
        "  q.append(root)\n",
        "\n",
        "  while len(q) > 0:\n",
        "    count = len(q)\n",
        "\n",
        "    for i in range(count):\n",
        "      curr = q.popleft()\n",
        "      print(curr.key, end = \" \")\n",
        "\n",
        "      if curr.left is not None:\n",
        "        q.append(curr.left)\n",
        "\n",
        "      if curr.right is not None:\n",
        "        q.append(curr.right)\n",
        "\n",
        "    print()\n",
        "\n",
        "printLevel2(root)\n",
        "\n",
        "# Time Complexity : O(n)\n",
        "# Space Complexity : O(n)"
      ],
      "metadata": {
        "colab": {
          "base_uri": "https://localhost:8080/"
        },
        "id": "Gu_aloJCzNIF",
        "outputId": "f8656670-aa9f-4c49-e88d-fe6223f35f0d"
      },
      "execution_count": 4,
      "outputs": [
        {
          "output_type": "stream",
          "name": "stdout",
          "text": [
            "10 \n",
            "20 30 \n",
            "40 50 60 70 \n",
            "80 90 \n"
          ]
        }
      ]
    },
    {
      "cell_type": "markdown",
      "source": [
        "# Check for Balanced Binary Tree\n",
        "\n",
        "I/P :\n",
        "\n",
        "             10\n",
        "           /    \\\n",
        "         20      30\n",
        "       /   \\    /  \\\n",
        "      40   50  60   70\n",
        "                   /  \\\n",
        "                 80    90\n",
        "\n",
        "O/P : Yes\n",
        "\n",
        "-------------------\n",
        "\n",
        "I/P :\n",
        "\n",
        "             10\n",
        "           /    \\\n",
        "         20      30\n",
        "       /   \\    /  \\\n",
        "      40   50  60   70\n",
        "                   /\n",
        "                 80\n",
        "\n",
        "O/P : No\n"
      ],
      "metadata": {
        "id": "rx0MG4VR0TeD"
      }
    },
    {
      "cell_type": "code",
      "source": [
        "# Naive Solution\n",
        "\n",
        "def height(node):\n",
        "    if node is None:\n",
        "        return 0\n",
        "    return 1 + max(height(node.left), height(node.right))\n",
        "\n",
        "def isBalance(root):\n",
        "  if root == None:\n",
        "    return True\n",
        "\n",
        "  lh = height(root.left)\n",
        "  rh = height(root.right)\n",
        "\n",
        "  return abs(lh - rh) <= 1 and isBalance(root.left) and isBalance(root.right)\n",
        "\n",
        "isBalance(root)\n",
        "\n",
        "# Time Complexity : O(n^2)"
      ],
      "metadata": {
        "colab": {
          "base_uri": "https://localhost:8080/"
        },
        "id": "tRjKdoSc0IN0",
        "outputId": "92a65d12-6995-4f23-c59c-591e4ab261b7"
      },
      "execution_count": 5,
      "outputs": [
        {
          "output_type": "execute_result",
          "data": {
            "text/plain": [
              "True"
            ]
          },
          "metadata": {},
          "execution_count": 5
        }
      ]
    },
    {
      "cell_type": "code",
      "source": [
        "# Efficient Solution\n",
        "'''\n",
        "isBalanced() : Returns -1 if the tree is balanced else return height\n",
        "\n",
        "isBalancedMain() : Returns Tree if tree is balanced else False\n",
        "'''\n",
        "\n",
        "def isBalanced(root):\n",
        "  if root == None:\n",
        "    return 0\n",
        "\n",
        "  lh = isBalanced(root.left)\n",
        "\n",
        "  if lh == -1:\n",
        "    return -1\n",
        "\n",
        "  rh = isBalanced(root.right)\n",
        "\n",
        "  if rh == -1:\n",
        "    return -1\n",
        "\n",
        "  if abs(lh - rh) > 1:\n",
        "    return -1\n",
        "\n",
        "  return max(lh, rh) + 1\n",
        "\n",
        "def isBalancedMain(root):\n",
        "  if isBalanced(root) == -1:\n",
        "    return False\n",
        "  return True\n",
        "\n",
        "isBalancedMain(root)\n",
        "\n",
        "# Time Complexity : O(n)"
      ],
      "metadata": {
        "colab": {
          "base_uri": "https://localhost:8080/"
        },
        "id": "gwbc8CRr1LZl",
        "outputId": "c4c259f0-97e6-4776-b3fd-2055cdbd34a5"
      },
      "execution_count": 7,
      "outputs": [
        {
          "output_type": "execute_result",
          "data": {
            "text/plain": [
              "True"
            ]
          },
          "metadata": {},
          "execution_count": 7
        }
      ]
    },
    {
      "cell_type": "markdown",
      "source": [
        "# Vertical Traversal\n",
        "\n",
        "I/P :\n",
        "\n",
        "             10\n",
        "            /  \\\n",
        "          20    30\n",
        "               /  \\\n",
        "             40    50\n",
        "\n",
        "\n",
        "O/P :  \n",
        "\n",
        "      20\n",
        "      10 40\n",
        "      30\n",
        "      50\n",
        "\n"
      ],
      "metadata": {
        "id": "kUEv9OI92ICJ"
      }
    },
    {
      "cell_type": "code",
      "source": [
        "# Implementation\n",
        "\n",
        "from collections import deque\n",
        "\n",
        "class Node:\n",
        "    def __init__(self, key):\n",
        "        self.key = key\n",
        "        self.left = None\n",
        "        self.right = None\n",
        "\n",
        "def verticalTraversal(root):\n",
        "    if root is None:\n",
        "        return\n",
        "\n",
        "    mp = {}\n",
        "    q = deque()\n",
        "    q.append((root, 0))\n",
        "\n",
        "    while q:\n",
        "        curr, hd = q.popleft()\n",
        "\n",
        "        if hd not in mp:\n",
        "            mp[hd] = []\n",
        "\n",
        "        mp[hd].append(curr.key)\n",
        "\n",
        "        if curr.left:\n",
        "            q.append((curr.left, hd - 1))\n",
        "\n",
        "        if curr.right:\n",
        "            q.append((curr.right, hd + 1))\n",
        "\n",
        "    for key in sorted(mp):\n",
        "        for value in mp[key]:\n",
        "            print(value, end=\" \")\n",
        "        print()\n",
        "\n",
        "root = Node(10)\n",
        "root.left = Node(20)\n",
        "root.right = Node(30)\n",
        "root.right.left = Node(40)\n",
        "root.right.right = Node(50)\n",
        "\n",
        "verticalTraversal(root)\n",
        "\n",
        "# Time Complexity : O(nlogn)\n",
        "# Space Complexity : O(n)"
      ],
      "metadata": {
        "colab": {
          "base_uri": "https://localhost:8080/"
        },
        "id": "4iqTmc_J13AA",
        "outputId": "c27082ba-13df-443a-ef23-35e363cd2d9e"
      },
      "execution_count": 10,
      "outputs": [
        {
          "output_type": "stream",
          "name": "stdout",
          "text": [
            "20 \n",
            "10 40 \n",
            "30 \n",
            "50 \n"
          ]
        }
      ]
    },
    {
      "cell_type": "markdown",
      "source": [
        "# Bottom View of a Binary Tree\n",
        "\n",
        "I/P :\n",
        "\n",
        "               10\n",
        "             /    \\\n",
        "          20        50\n",
        "         /  \\      /  \\\n",
        "        30  40    60   70\n",
        "\n",
        "\n",
        "O/P : 30 20 60 50 70\n",
        "\n",
        "NOTE : 60 is selected because 40 60 can be selected but preference given to 60\n"
      ],
      "metadata": {
        "id": "8KMxIldY4ORK"
      }
    },
    {
      "cell_type": "code",
      "source": [
        "# Implementation\n",
        "\n",
        "from collections import deque\n",
        "\n",
        "class Node:\n",
        "    def __init__(self, key):\n",
        "        self.key = key\n",
        "        self.left = None\n",
        "        self.right = None\n",
        "\n",
        "def bottomView(root):\n",
        "    if root is None:\n",
        "        return\n",
        "\n",
        "    mp = {}\n",
        "    q = deque()\n",
        "    q.append((root, 0))\n",
        "\n",
        "    while len(q) > 0:\n",
        "        curr, hd = q.popleft()\n",
        "        mp[hd] = curr.key\n",
        "\n",
        "        if curr.left:\n",
        "            q.append((curr.left, hd - 1))\n",
        "\n",
        "        if curr.right:\n",
        "            q.append((curr.right, hd + 1))\n",
        "\n",
        "    for key in sorted(mp):\n",
        "        print(mp[key], end=\" \")\n",
        "\n",
        "root = Node(10)\n",
        "root.left = Node(20)\n",
        "root.right = Node(50)\n",
        "root.left.left = Node(30)\n",
        "root.left.right = Node(40)\n",
        "root.right.left = Node(60)\n",
        "root.right.right = Node(70)\n",
        "\n",
        "bottomView(root)\n",
        "\n",
        "# Time Complexity : O(n)\n",
        "# Space Complexity : O(n)"
      ],
      "metadata": {
        "colab": {
          "base_uri": "https://localhost:8080/"
        },
        "id": "O0EmAyTV3RXL",
        "outputId": "f426de87-8715-4178-82a1-3de52c42d078"
      },
      "execution_count": 11,
      "outputs": [
        {
          "output_type": "stream",
          "name": "stdout",
          "text": [
            "30 20 60 50 70 "
          ]
        }
      ]
    },
    {
      "cell_type": "markdown",
      "source": [
        "# Maximum width of Binary Tree\n",
        "\n",
        "I/P :\n",
        "\n",
        "             10\n",
        "            /  \\\n",
        "          20    30\n",
        "         /     /  \\\n",
        "        40    50   60\n",
        "       /\n",
        "      80\n",
        "\n",
        "O/P : 3\n",
        "\n",
        "\n",
        "### Idea for the Solution\n",
        "\n",
        "we use line by line level order Traversal concept"
      ],
      "metadata": {
        "id": "46laGVYB68tA"
      }
    },
    {
      "cell_type": "code",
      "source": [
        "# Implementation\n",
        "\n",
        "from collections import deque\n",
        "\n",
        "class Node:\n",
        "    def __init__(self, key):\n",
        "        self.key = key\n",
        "        self.left = None\n",
        "        self.right = None\n",
        "\n",
        "def maxWidth(root):\n",
        "    if root is None:\n",
        "        return 0\n",
        "\n",
        "    q = deque()\n",
        "    q.append(root)\n",
        "    res = 0\n",
        "\n",
        "    while q:\n",
        "        count = len(q)\n",
        "\n",
        "        for i in range(count):\n",
        "            node = q.popleft()\n",
        "\n",
        "            if node.left:\n",
        "                q.append(node.left)\n",
        "\n",
        "            if node.right:\n",
        "                q.append(node.right)\n",
        "\n",
        "        res = max(res, count)\n",
        "\n",
        "    return res\n",
        "\n",
        "root = Node(10)\n",
        "root.left = Node(20)\n",
        "root.right = Node(30)\n",
        "root.left.left = Node(40)\n",
        "root.right.left = Node(50)\n",
        "root.right.right = Node(60)\n",
        "root.left.left.left = Node(80)\n",
        "\n",
        "print(maxWidth(root))"
      ],
      "metadata": {
        "colab": {
          "base_uri": "https://localhost:8080/"
        },
        "id": "0qk4FKd266G9",
        "outputId": "8c653c2c-51dd-476a-e747-376e89e00984"
      },
      "execution_count": 12,
      "outputs": [
        {
          "output_type": "stream",
          "name": "stdout",
          "text": [
            "3\n"
          ]
        }
      ]
    },
    {
      "cell_type": "markdown",
      "source": [
        "# Convert a Binary Tree to Doubly Linked List\n",
        "\n",
        "I/P :\n",
        "\n",
        "             10\n",
        "            /  \\\n",
        "           5    20\n",
        "               /  \\\n",
        "              30   35\n",
        "\n",
        "O/P : 5 <-> 10 <-> 30 <-> 20 <-> 35\n",
        "\n",
        "\n",
        "\n",
        "### Idea for the Solution\n",
        "\n",
        "#### Inorder Traversal : left root right\n",
        "\n",
        "-> Do inorder traversal of the tree and connect the nodes\n",
        "\n",
        "-> How do we know the previous node?\n",
        "\n",
        "-> We use an extra shared variable 'prev' for this purpose\n",
        "\n"
      ],
      "metadata": {
        "id": "oLuP3q-t8VZa"
      }
    },
    {
      "cell_type": "code",
      "source": [
        "# Implementation\n",
        "\n",
        "class Node:\n",
        "    def __init__(self, key):\n",
        "        self.key = key\n",
        "        self.left = None\n",
        "        self.right = None\n",
        "\n",
        "prev = None\n",
        "\n",
        "def convert(root):\n",
        "    global prev\n",
        "    if root is None:\n",
        "        return root\n",
        "\n",
        "    head = convert(root.left)\n",
        "\n",
        "    if prev is None:\n",
        "        head = root\n",
        "    else:\n",
        "        prev.right = root\n",
        "        root.left = prev\n",
        "\n",
        "    prev = root\n",
        "    convert(root.right)\n",
        "\n",
        "    return head\n",
        "\n",
        "def printDoublyLinkedList(head):\n",
        "    while head:\n",
        "        print(head.key, end = \" <-> \" if head.right else \"\")\n",
        "        head = head.right\n",
        "    print()\n",
        "\n",
        "root = Node(10)\n",
        "root.left = Node(5)\n",
        "root.right = Node(20)\n",
        "root.right.left = Node(30)\n",
        "root.right.right = Node(35)\n",
        "\n",
        "head = convert(root)\n",
        "printDoublyLinkedList(head)\n",
        "\n",
        "# Time Complexity : θ(n)"
      ],
      "metadata": {
        "colab": {
          "base_uri": "https://localhost:8080/"
        },
        "id": "xfxxvYas8JrN",
        "outputId": "4ec06fe7-894d-4e5a-d479-4252f18ff150"
      },
      "execution_count": 13,
      "outputs": [
        {
          "output_type": "stream",
          "name": "stdout",
          "text": [
            "5 <-> 10 <-> 30 <-> 20 <-> 35\n"
          ]
        }
      ]
    },
    {
      "cell_type": "markdown",
      "source": [
        "# Construct Binary Tree from Inorder and Preorder\n",
        "\n",
        "I/P :\n",
        "\n",
        "in = [20, 10, 30]\n",
        "\n",
        "pre = [10, 20, 30]\n",
        "\n",
        "O/P :  \n",
        "\n",
        "       10\n",
        "      /  \\\n",
        "     20  30"
      ],
      "metadata": {
        "id": "IP-KiTrS-Wlj"
      }
    },
    {
      "cell_type": "code",
      "source": [
        "# Idea for the Simple Implementation\n",
        "\n",
        "from collections import deque\n",
        "\n",
        "class Node:\n",
        "    def __init__(self, key):\n",
        "        self.key = key\n",
        "        self.left = None\n",
        "        self.right = None\n",
        "\n",
        "pre_ind = 0\n",
        "\n",
        "def buildTree(pre, io, isi, iei):\n",
        "    global pre_ind\n",
        "    if isi > iei:\n",
        "        return None\n",
        "\n",
        "    root = Node(pre[pre_ind])\n",
        "    pre_ind += 1\n",
        "\n",
        "    if isi == iei:\n",
        "        return root\n",
        "\n",
        "    for i in range(isi, iei + 1):\n",
        "        if io[i] == root.key:\n",
        "            break\n",
        "\n",
        "    root.left = buildTree(pre, io, isi, i - 1)\n",
        "    root.right = buildTree(pre, io, i + 1, iei)\n",
        "\n",
        "    return root\n",
        "\n",
        "def printLevelOrder(root):\n",
        "    if root is None:\n",
        "        return\n",
        "\n",
        "    queue = deque([root])\n",
        "    while queue:\n",
        "        level_size = len(queue)\n",
        "\n",
        "        for _ in range(level_size):\n",
        "            node = queue.popleft()\n",
        "            print(node.key, end=\" \")\n",
        "\n",
        "            if node.left:\n",
        "                queue.append(node.left)\n",
        "            if node.right:\n",
        "                queue.append(node.right)\n",
        "\n",
        "        print()\n",
        "\n",
        "pre = [10, 20, 30]\n",
        "io = [20, 10, 30]\n",
        "\n",
        "\n",
        "root = buildTree(pre, io, 0, len(io) - 1)\n",
        "printLevelOrder(root)\n",
        "\n",
        "# Time Complexity : O(n)\n",
        "# Space Complexity : O(n)"
      ],
      "metadata": {
        "colab": {
          "base_uri": "https://localhost:8080/"
        },
        "id": "hEydWJYg-FrC",
        "outputId": "aed9dcd1-04e0-484f-e68f-1b9b62bdc5db"
      },
      "execution_count": 17,
      "outputs": [
        {
          "output_type": "stream",
          "name": "stdout",
          "text": [
            "10 \n",
            "20 30 \n"
          ]
        }
      ]
    },
    {
      "cell_type": "code",
      "source": [
        "# Efficient Solution\n",
        "\n",
        "from collections import deque\n",
        "\n",
        "class Node:\n",
        "    def __init__(self, key):\n",
        "        self.key = key\n",
        "        self.left = None\n",
        "        self.right = None\n",
        "\n",
        "def buildTree(pre, io):\n",
        "    if not pre or not io:\n",
        "        return None\n",
        "\n",
        "    mp = {value: index for index, value in enumerate(io)}\n",
        "    stack = []\n",
        "    pre_index = 0\n",
        "    root = Node(pre[pre_index])\n",
        "    pre_index += 1\n",
        "    stack.append(root)\n",
        "\n",
        "    for value in pre[1:]:\n",
        "        node = None\n",
        "\n",
        "        while stack and stack[-1].key in io[:mp[value]]:\n",
        "            node = stack.pop()\n",
        "\n",
        "        new_node = Node(value)\n",
        "\n",
        "        if node:\n",
        "            node.right = new_node\n",
        "        else:\n",
        "            stack[-1].left = new_node\n",
        "\n",
        "        stack.append(new_node)\n",
        "\n",
        "    return root\n",
        "\n",
        "def printLevelOrder(root):\n",
        "    if root is None:\n",
        "        return\n",
        "\n",
        "    queue = deque([root])\n",
        "    while queue:\n",
        "        level_size = len(queue)\n",
        "\n",
        "        for _ in range(level_size):\n",
        "            node = queue.popleft()\n",
        "            print(node.key, end=\" \")\n",
        "\n",
        "            if node.left:\n",
        "                queue.append(node.left)\n",
        "            if node.right:\n",
        "                queue.append(node.right)\n",
        "\n",
        "        print()\n",
        "\n",
        "pre = [10, 20, 30]\n",
        "io = [20, 10, 30]\n",
        "\n",
        "root = buildTree(pre, io)\n",
        "\n",
        "printLevelOrder(root)"
      ],
      "metadata": {
        "colab": {
          "base_uri": "https://localhost:8080/"
        },
        "id": "zcTGv9Ke_skI",
        "outputId": "d8223861-d7d3-4193-d8a4-528fe7cf4298"
      },
      "execution_count": 19,
      "outputs": [
        {
          "output_type": "stream",
          "name": "stdout",
          "text": [
            "10 \n",
            "20 30 \n"
          ]
        }
      ]
    },
    {
      "cell_type": "markdown",
      "source": [
        "# Tree Traversal in Spiral form\n",
        "\n",
        "Even = left to right  \n",
        "\n",
        "Odd = right to left\n",
        "\n",
        "I/P :\n",
        "\n",
        "             10\n",
        "            /  \\\n",
        "           5    20\n",
        "               /  \\\n",
        "              30   35\n",
        "\n",
        "O/P : 10 20 5 30 35\n",
        "\n",
        "--------------------\n",
        "\n",
        "## Method 1\n",
        "\n",
        "-> We use line by line Traversal Idea to Reverse the alternate levels, we use a stack\n",
        "\n",
        "-> Alternate level nodes are first pushed into a stack and then printed\n",
        "\n",
        "\n"
      ],
      "metadata": {
        "id": "uUHH1-0PCFzu"
      }
    },
    {
      "cell_type": "code",
      "source": [
        "# Method 1\n",
        "\n",
        "from collections import deque\n",
        "\n",
        "class Node:\n",
        "    def __init__(self, key):\n",
        "        self.data = key\n",
        "        self.left = None\n",
        "        self.right = None\n",
        "\n",
        "def printSpiral(root):\n",
        "    if root is None:\n",
        "        return\n",
        "\n",
        "    q = deque()\n",
        "    s = []\n",
        "    rev = False\n",
        "    q.append(root)\n",
        "\n",
        "    while q:\n",
        "        count = len(q)\n",
        "        for i in range(count):\n",
        "            temp = q.popleft()\n",
        "\n",
        "            if rev:\n",
        "                s.append(temp.data)\n",
        "            else:\n",
        "                print(temp.data, end=\" \")\n",
        "\n",
        "            if temp.left:\n",
        "                q.append(temp.left)\n",
        "\n",
        "            if temp.right:\n",
        "                q.append(temp.right)\n",
        "\n",
        "        if rev:\n",
        "            while s:\n",
        "                print(s.pop(), end=\" \")\n",
        "\n",
        "        rev = not rev\n",
        "\n",
        "# Example usage\n",
        "if __name__ == \"__main__\":\n",
        "    root = Node(10)\n",
        "    root.left = Node(20)\n",
        "    root.right = Node(30)\n",
        "    root.left.left = Node(40)\n",
        "    root.left.right = Node(50)\n",
        "    root.right.left = Node(60)\n",
        "    root.right.right = Node(70)\n",
        "\n",
        "    print(\"Spiral order traversal of binary tree:\")\n",
        "    printSpiral(root)\n",
        "\n",
        "# Time Complexity : O(n)"
      ],
      "metadata": {
        "colab": {
          "base_uri": "https://localhost:8080/"
        },
        "id": "BZDRHvbpBUl6",
        "outputId": "d2c6ed57-5ddc-498b-f657-e2a5b32c3ce3"
      },
      "execution_count": 20,
      "outputs": [
        {
          "output_type": "stream",
          "name": "stdout",
          "text": [
            "Spiral order traversal of binary tree:\n",
            "10 30 20 40 50 60 70 "
          ]
        }
      ]
    },
    {
      "cell_type": "markdown",
      "source": [
        "# Method 2\n",
        "\n",
        "1. Push root to the stack s1\n",
        "\n",
        "2. while any of the two stacks is not empty\n",
        "\n",
        "  - while s1 is not empty (L to R)\n",
        "\n",
        "      a. Take out a node, print it\n",
        "\n",
        "      b. push children of the taken out node into s2\n",
        "\n",
        "  - while s2 is not empty (R to L)\n",
        "\n",
        "      a. Take out a node, print it\n",
        "\n",
        "      b. Push children of the taken out node into s1 in reverse order\n",
        "\n",
        "-> We use stacks in order. use to base rule of stack i.e., LIFO"
      ],
      "metadata": {
        "id": "u639nrG4DwQA"
      }
    },
    {
      "cell_type": "code",
      "source": [
        "# Method 2\n",
        "\n",
        "class Node:\n",
        "    def __init__(self, key):\n",
        "        self.data = key\n",
        "        self.left = None\n",
        "        self.right = None\n",
        "\n",
        "def printSpiral(root):\n",
        "    if root is None:\n",
        "        return\n",
        "\n",
        "    s1 = []\n",
        "    s2 = []\n",
        "\n",
        "    s1.append(root)\n",
        "\n",
        "    while s1 or s2:\n",
        "        while s1:\n",
        "            node = s1.pop()\n",
        "            print(node.data, end=\" \")\n",
        "\n",
        "            if node.left:\n",
        "                s2.append(node.left)\n",
        "            if node.right:\n",
        "                s2.append(node.right)\n",
        "\n",
        "        while s2:\n",
        "            node = s2.pop()\n",
        "            print(node.data, end=\" \")\n",
        "\n",
        "            if node.right:\n",
        "                s1.append(node.right)\n",
        "            if node.left:\n",
        "                s1.append(node.left)\n",
        "\n",
        "# Example usage\n",
        "if __name__ == \"__main__\":\n",
        "    root = Node(10)\n",
        "    root.left = Node(20)\n",
        "    root.right = Node(30)\n",
        "    root.left.left = Node(40)\n",
        "    root.left.right = Node(50)\n",
        "    root.right.left = Node(60)\n",
        "    root.right.right = Node(70)\n",
        "\n",
        "    print(\"Spiral order traversal of binary tree:\")\n",
        "    printSpiral(root)\n",
        "\n",
        "# Time Complexity : O(n)\n",
        "# Space Complexity : O(1)"
      ],
      "metadata": {
        "colab": {
          "base_uri": "https://localhost:8080/"
        },
        "id": "sqDtr2saDqgd",
        "outputId": "a0b4b0fa-a37d-4cef-e582-b8a16daeab1c"
      },
      "execution_count": 22,
      "outputs": [
        {
          "output_type": "stream",
          "name": "stdout",
          "text": [
            "Spiral order traversal of binary tree:\n",
            "10 30 20 40 50 60 70 "
          ]
        }
      ]
    },
    {
      "cell_type": "markdown",
      "source": [
        "# Diameter of a Binary Tree\n",
        "\n",
        "\n",
        "I/P :\n",
        "\n",
        "             10\n",
        "           /    \\\n",
        "         20      30\n",
        "       /   \\    /  \\\n",
        "      40   50  60   70\n",
        "                   /  \\\n",
        "                 80    90\n",
        "\n",
        "O/P : 6\n",
        "\n",
        "### We need to compute the below valuefor every node and return the maximum\n",
        "\n",
        "-> 1 + lh + rh\n",
        "\n",
        "lh = left height\n",
        "\n",
        "rh = right height"
      ],
      "metadata": {
        "id": "v07rndoLE0b1"
      }
    },
    {
      "cell_type": "code",
      "source": [
        "# Naive Solution\n",
        "\n",
        "def diameter(root):\n",
        "  if root is None:\n",
        "    return 0\n",
        "\n",
        "  d1 = 1 + height(root.left) + height(root.right)\n",
        "\n",
        "  d2 = diameter(root.left)\n",
        "  d3 = diameter(root.right)\n",
        "\n",
        "  return max(d1, d2, d3)\n",
        "\n",
        "root = Node(10)\n",
        "root.left = Node(20)\n",
        "root.right = Node(30)\n",
        "root.left.left = Node(40)\n",
        "root.left.right = Node(50)\n",
        "root.right.left = Node(60)\n",
        "root.right.right = Node(70)\n",
        "\n",
        "diameter(root)\n",
        "\n",
        "# Time Complexity : O(n^2)"
      ],
      "metadata": {
        "colab": {
          "base_uri": "https://localhost:8080/"
        },
        "id": "LEuz-Y60Et4c",
        "outputId": "91f951b5-3664-4794-889f-f379bdbb9d65"
      },
      "execution_count": 25,
      "outputs": [
        {
          "output_type": "execute_result",
          "data": {
            "text/plain": [
              "5"
            ]
          },
          "metadata": {},
          "execution_count": 25
        }
      ]
    },
    {
      "cell_type": "code",
      "source": [
        "class Node:\n",
        "    def __init__(self, key):\n",
        "        self.data = key\n",
        "        self.left = None\n",
        "        self.right = None\n",
        "\n",
        "def compute_heights(root, height_map):\n",
        "    if root is None:\n",
        "        return 0\n",
        "\n",
        "    left_height = compute_heights(root.left, height_map)\n",
        "    right_height = compute_heights(root.right, height_map)\n",
        "\n",
        "    current_height = 1 + max(left_height, right_height)\n",
        "    height_map[root] = current_height\n",
        "\n",
        "    return current_height\n",
        "\n",
        "def diameter(root, height_map):\n",
        "    if root is None:\n",
        "        return 0\n",
        "\n",
        "    left_diameter = diameter(root.left, height_map)\n",
        "    right_diameter = diameter(root.right, height_map)\n",
        "\n",
        "    left_height = height_map.get(root.left, 0)\n",
        "    right_height = height_map.get(root.right, 0)\n",
        "\n",
        "    current_diameter = left_height + right_height\n",
        "\n",
        "    return max(left_diameter, right_diameter, current_diameter)\n",
        "\n",
        "def binary_tree_diameter(root):\n",
        "    height_map = {}\n",
        "    compute_heights(root, height_map)\n",
        "    return diameter(root, height_map)\n",
        "\n",
        "# Example usage\n",
        "if __name__ == \"__main__\":\n",
        "    root = Node(1)\n",
        "    root.left = Node(2)\n",
        "    root.right = Node(3)\n",
        "    root.left.left = Node(4)\n",
        "    root.left.right = Node(5)\n",
        "\n",
        "    print(\"Diameter of the binary tree:\", binary_tree_diameter(root))\n"
      ],
      "metadata": {
        "colab": {
          "base_uri": "https://localhost:8080/"
        },
        "id": "zEZiYGGEFrVx",
        "outputId": "bda1e643-a397-48c1-8d34-f5d39b963161"
      },
      "execution_count": 28,
      "outputs": [
        {
          "output_type": "stream",
          "name": "stdout",
          "text": [
            "Diameter of the binary tree: 3\n"
          ]
        }
      ]
    },
    {
      "cell_type": "code",
      "source": [
        "# Efficient Solution\n",
        "\n",
        "# The function mainly returns height, but during the Execution, it sets the 'res' which is diameter\n",
        "\n",
        "res = -9999999\n",
        "\n",
        "def diameter(root):\n",
        "  if root is None:\n",
        "    return 0\n",
        "\n",
        "  lh = diameter(root.left)\n",
        "  rh = diameter(root.right)\n",
        "\n",
        "  global res\n",
        "\n",
        "  res = max(res, 1+lh+rh)\n",
        "\n",
        "  return 1 + max(lh, rh)\n",
        "\n",
        "diameter(root)\n",
        "\n",
        "# Time Complexity : θ(n)"
      ],
      "metadata": {
        "colab": {
          "base_uri": "https://localhost:8080/"
        },
        "id": "8RKjVa1pLkUm",
        "outputId": "8816eebc-ddb7-424a-8e1e-4807a8bb2705"
      },
      "execution_count": 33,
      "outputs": [
        {
          "output_type": "execute_result",
          "data": {
            "text/plain": [
              "3"
            ]
          },
          "metadata": {},
          "execution_count": 33
        }
      ]
    },
    {
      "cell_type": "markdown",
      "source": [
        "# Lowest Common Ancestor (LCA)\n",
        "\n",
        "I/P :\n",
        "\n",
        "              10\n",
        "             /  \\\n",
        "           20    30\n",
        "                /  \\\n",
        "              40   50\n",
        "             /     /  \\\n",
        "            60   70    80\n",
        "\n",
        "O/P :\n",
        "\n",
        "LCA(20, 30) = 10\n",
        "\n",
        "LCA(80, 30) = 30\n",
        "\n",
        "LCA(70, 80) = 50"
      ],
      "metadata": {
        "id": "V3nrZVyDMz2-"
      }
    },
    {
      "cell_type": "code",
      "source": [
        "# Naive Solution\n",
        "\n",
        "def findpath(root, path, x):\n",
        "  if root is None:\n",
        "    return False\n",
        "\n",
        "  path.append(root.data)\n",
        "\n",
        "  if root.data == x:\n",
        "    return True\n",
        "\n",
        "  if (root.left != None and findpath(root.left, path, x) or (root.right != None and findpath(root.right, path, x))):\n",
        "    return True\n",
        "\n",
        "  path.pop()\n",
        "\n",
        "  return False\n",
        "\n",
        "def findLCA(root, n1, n2):\n",
        "  p1 = []\n",
        "  p2 = []\n",
        "\n",
        "  if not findpath(root, p1, n1) or not findpath(root, p2, n2):\n",
        "    return None\n",
        "\n",
        "  i = 0\n",
        "\n",
        "  while i < len(p1) and i < len(p2):\n",
        "    if p1[i] != p2[i]:\n",
        "      break\n",
        "    i += 1\n",
        "\n",
        "  return p1[i-1]\n",
        "\n",
        "root = Node(10)\n",
        "root.left = Node(20)\n",
        "root.right = Node(30)\n",
        "root.left.left = Node(40)\n",
        "root.left.right = Node(50)\n",
        "root.right.left = Node(60)\n",
        "root.right.right = Node(70)\n",
        "\n",
        "n1 = 60\n",
        "n2 = 70\n",
        "findLCA(root, n1, n2)\n",
        "\n",
        "# Time Complexity : O(n)"
      ],
      "metadata": {
        "colab": {
          "base_uri": "https://localhost:8080/"
        },
        "id": "qlPi2WToMSNd",
        "outputId": "02bfcad9-a6ca-4e4f-8839-455b2ceb2f96"
      },
      "execution_count": 35,
      "outputs": [
        {
          "output_type": "execute_result",
          "data": {
            "text/plain": [
              "30"
            ]
          },
          "metadata": {},
          "execution_count": 35
        }
      ]
    },
    {
      "cell_type": "markdown",
      "source": [
        "# Efficient Solution\n",
        "\n",
        "1. Requires one traversal and θ(n) extra space for the recursive traversal\n",
        "\n",
        "2. Assumes that both n1 and n2 exist in the true, Does not give correct result when only one (n1 & n2) exists.\n",
        "\n",
        "## Idea for Efficient Solution\n",
        "\n",
        "we do normal recursive traversal, we have the following cases for every node.\n",
        "\n",
        "1. If it is same as n1 or n2\n",
        "\n",
        "2. If one of its subtrees contains n1 and other contains n2\n",
        "\n",
        "3. If one of its subtree contains both n1 and n2\n",
        "\n",
        "4. If None of its subtrees contain any of n1 and n2"
      ],
      "metadata": {
        "id": "UJSSJHupPUt3"
      }
    },
    {
      "cell_type": "code",
      "source": [
        "# Implementation\n",
        "\n",
        "def LCA(root, n1, n2):\n",
        "  if root is None:\n",
        "    return None\n",
        "\n",
        "  if root.data == n1 or root.data == n2:\n",
        "    return root\n",
        "\n",
        "  LCA1 = LCA(root.left, n1, n2)\n",
        "  LCA2 = LCA(root.right, n1, n2)\n",
        "\n",
        "  if LCA1 and LCA2:\n",
        "    return root\n",
        "\n",
        "  return LCA1 if LCA1 else LCA2\n",
        "\n",
        "print(LCA(root, n1, n2).data)\n",
        "\n",
        "# Time Complexity : O(n)"
      ],
      "metadata": {
        "colab": {
          "base_uri": "https://localhost:8080/"
        },
        "id": "DA7gX8MBORNU",
        "outputId": "a5a1dbbd-ad4a-4cc5-a4ce-30fabcaaac5e"
      },
      "execution_count": 39,
      "outputs": [
        {
          "output_type": "stream",
          "name": "stdout",
          "text": [
            "30\n"
          ]
        }
      ]
    },
    {
      "cell_type": "markdown",
      "source": [
        "# Burn a Binary Tree from a leaf\n",
        "\n",
        "I/P :\n",
        "\n",
        "          10\n",
        "         /  \\\n",
        "        20  30\n",
        "       /  \\   \\\n",
        "      40  50  60\n",
        "\n",
        "leaf = 50\n",
        "\n",
        "O/P : 4\n",
        "\n",
        "\n",
        "The farthest node must be reachable through one of the ancestors"
      ],
      "metadata": {
        "id": "V9U-Ma_oRFA8"
      }
    },
    {
      "cell_type": "code",
      "source": [
        "# Implementation\n",
        "\n",
        "class Node:\n",
        "    def __init__(self, key):\n",
        "        self.data = key\n",
        "        self.left = None\n",
        "        self.right = None\n",
        "\n",
        "res = 0\n",
        "\n",
        "def burnTime(root, leaf, dist):\n",
        "    global res\n",
        "\n",
        "    if root is None:\n",
        "        return 0\n",
        "\n",
        "    if root.data == leaf:\n",
        "        dist[0] = 0\n",
        "        return 1\n",
        "\n",
        "    ldist, rdist = [-1], [-1]\n",
        "\n",
        "    lh = burnTime(root.left, leaf, ldist)\n",
        "    rh = burnTime(root.right, leaf, rdist)\n",
        "\n",
        "    if ldist[0] != -1:\n",
        "        dist[0] = ldist[0] + 1\n",
        "        res = max(res, rh + dist[0])\n",
        "\n",
        "    elif rdist[0] != -1:\n",
        "        dist[0] = rdist[0] + 1\n",
        "        res = max(res, lh + dist[0])\n",
        "\n",
        "    return max(lh, rh) + 1\n",
        "\n",
        "# Example usage\n",
        "if __name__ == \"__main__\":\n",
        "    root = Node(10)\n",
        "    root.left = Node(20)\n",
        "    root.right = Node(30)\n",
        "    root.left.left = Node(40)\n",
        "    root.left.right = Node(50)\n",
        "    root.right.left = Node(60)\n",
        "    root.right.right = Node(70)\n",
        "\n",
        "    leaf_node = 50\n",
        "    dist = [-1]\n",
        "    burnTime(root, leaf_node, dist)\n",
        "\n",
        "    print(\"Maximum time to burn the tree:\", res)\n",
        "\n",
        "# Time Complexity : θ(n)\n",
        "\n",
        "# This Function\n",
        "\n",
        "#  1. Returns height\n",
        "\n",
        "#  2. Sets dist[0] as distance from given leaf if the leaf is a descendant\n",
        "\n",
        "#  3. Sets res as the burn Time"
      ],
      "metadata": {
        "colab": {
          "base_uri": "https://localhost:8080/"
        },
        "id": "Hts-0uUVQoKQ",
        "outputId": "d4aa5abf-fe6c-4699-b380-e5482128481c"
      },
      "execution_count": 44,
      "outputs": [
        {
          "output_type": "stream",
          "name": "stdout",
          "text": [
            "Maximum time to burn the tree: 4\n"
          ]
        }
      ]
    },
    {
      "cell_type": "markdown",
      "source": [
        "# Count Nodes in a Complete Binary Tree\n",
        "\n",
        "I/P :\n",
        "\n",
        "          10\n",
        "         /  \\\n",
        "        20  30\n",
        "       /  \\    \n",
        "      40  50  \n",
        "\n",
        "O/P : 5"
      ],
      "metadata": {
        "id": "Tij5IbtvTtGJ"
      }
    },
    {
      "cell_type": "code",
      "source": [
        "# Naive Solution\n",
        "\n",
        "def countNodes(root):\n",
        "  if root == None:\n",
        "    return 0\n",
        "\n",
        "  return 1 + countNodes(root.left) + countNodes(root.right)\n",
        "\n",
        "if __name__ == \"__main__\":\n",
        "    root = Node(10)\n",
        "    root.left = Node(20)\n",
        "    root.right = Node(30)\n",
        "    root.left.left = Node(40)\n",
        "    root.left.right = Node(50)\n",
        "    root.right.left = Node(60)\n",
        "    root.right.right = Node(70)\n",
        "\n",
        "    print(countNodes(root))\n",
        "\n",
        "# Time Complexity : θ(n)"
      ],
      "metadata": {
        "colab": {
          "base_uri": "https://localhost:8080/"
        },
        "id": "wWNISD0OTQGK",
        "outputId": "e85cb30a-ce99-4394-9e22-0a57c97f094a"
      },
      "execution_count": 48,
      "outputs": [
        {
          "output_type": "stream",
          "name": "stdout",
          "text": [
            "7\n"
          ]
        }
      ]
    },
    {
      "cell_type": "code",
      "source": [
        "# Efficient Solution\n",
        "\n",
        "def count(root):\n",
        "  lh, rh = 0, 0\n",
        "  curr = root\n",
        "\n",
        "  while curr:\n",
        "    lh += 1\n",
        "    curr = curr.left\n",
        "\n",
        "  curr = root\n",
        "\n",
        "  while curr:\n",
        "    rh += 1\n",
        "    curr = curr.right\n",
        "\n",
        "  if lh == rh:\n",
        "    return (1 << lh) - 1\n",
        "\n",
        "  return 1 + count(root.left) + count(root.right)\n",
        "\n",
        "if __name__ == \"__main__\":\n",
        "    root = Node(10)\n",
        "    root.left = Node(20)\n",
        "    root.right = Node(30)\n",
        "    root.left.left = Node(40)\n",
        "    root.left.right = Node(50)\n",
        "    root.right.left = Node(60)\n",
        "    root.right.right = Node(70)\n",
        "\n",
        "    print(count(root))\n",
        "\n",
        "# Time Complexity : O(logn * logn)"
      ],
      "metadata": {
        "colab": {
          "base_uri": "https://localhost:8080/"
        },
        "id": "uYWQuxijUJwT",
        "outputId": "5fb47a4d-aee5-4a49-8822-e5f35bb6509c"
      },
      "execution_count": 49,
      "outputs": [
        {
          "output_type": "stream",
          "name": "stdout",
          "text": [
            "7\n"
          ]
        }
      ]
    },
    {
      "cell_type": "markdown",
      "source": [
        "# Serialize and Deserialize a Binary Tree\n",
        "\n",
        "I/P :\n",
        "\n",
        "          10\n",
        "         /  \\\n",
        "        20  30       <----->     String or Array\n",
        "       /  \\   \\\n",
        "      40  50  60\n",
        "\n",
        "### Serialization & Deserialization\n",
        "\n",
        "Approach :\n",
        "\n",
        "1. First store Inorder Traversal\n",
        "\n",
        "2. Store a Separator\n",
        "\n",
        "3. Finally store preorder or postorder Traversal\n",
        "\n",
        "Serialize\n",
        "\n",
        "        10\n",
        "       /\n",
        "      20\n",
        "\n",
        "arr[] = [20, 10, -1, 10, 20]\n",
        "\n",
        "NOTE : -1 is the separator"
      ],
      "metadata": {
        "id": "g53GPqXsVBOT"
      }
    },
    {
      "cell_type": "code",
      "source": [
        "class Node:\n",
        "    def __init__(self, key):\n",
        "        self.data = key\n",
        "        self.left = None\n",
        "        self.right = None\n",
        "\n",
        "def serialize(root):\n",
        "    arr = []\n",
        "\n",
        "    def inorder(node):\n",
        "        if node is None:\n",
        "            return\n",
        "        inorder(node.left)\n",
        "        arr.append(node.data)\n",
        "        inorder(node.right)\n",
        "\n",
        "    def preorder(node):\n",
        "        if node is None:\n",
        "            return\n",
        "        arr.append(node.data)\n",
        "        preorder(node.left)\n",
        "        preorder(node.right)\n",
        "\n",
        "    inorder(root)\n",
        "    arr.append(-1)  # Separator\n",
        "    preorder(root)\n",
        "\n",
        "    return arr\n",
        "\n",
        "def deserialize(data):\n",
        "    def helper(inorder_list, preorder_list, inorder_index_map):\n",
        "        if not preorder_list:\n",
        "            return None\n",
        "\n",
        "        root_value = preorder_list.pop(0)\n",
        "        root = Node(root_value)\n",
        "\n",
        "        # Get the index of the root value in inorder_list using the index map\n",
        "        index = inorder_index_map[root_value]\n",
        "\n",
        "        # Recursively build the left and right subtrees\n",
        "        root.left = helper(inorder_list[:index], preorder_list, inorder_index_map)\n",
        "        root.right = helper(inorder_list[index + 1:], preorder_list, inorder_index_map)\n",
        "\n",
        "        return root\n",
        "\n",
        "    sep_index = data.index(-1)\n",
        "    inorder_data = data[:sep_index]\n",
        "    preorder_data = data[sep_index + 1:]\n",
        "\n",
        "    # Create a map for the inorder indices\n",
        "    inorder_index_map = {value: idx for idx, value in enumerate(inorder_data)}\n",
        "\n",
        "    return helper(inorder_data, preorder_data, inorder_index_map)\n",
        "\n",
        "# Driver code\n",
        "root = Node(10)\n",
        "root.left = Node(20)\n",
        "root.right = Node(30)\n",
        "root.left.left = Node(40)\n",
        "root.left.right = Node(50)\n",
        "root.right.right = Node(60)\n",
        "\n",
        "serialized_data = serialize(root)\n",
        "print(\"Serialized Data:\", serialized_data)\n",
        "\n",
        "deserialized_tree = deserialize(serialized_data)\n",
        "serialized_data_after_deserialization = serialize(deserialized_tree)\n",
        "print(\"Serialized Data After Deserialization:\", serialized_data_after_deserialization)\n"
      ],
      "metadata": {
        "colab": {
          "base_uri": "https://localhost:8080/"
        },
        "id": "L17n4b6XU0tJ",
        "outputId": "22f6867d-3f7b-42ac-e1b1-71bcdce2c87e"
      },
      "execution_count": 68,
      "outputs": [
        {
          "output_type": "stream",
          "name": "stdout",
          "text": [
            "Serialized Data: [40, 20, 50, 10, 30, 60, -1, 10, 20, 40, 50, 30, 60]\n",
            "Serialized Data After Deserialization: [60, 30, 50, 40, 20, 10, -1, 10, 20, 40, 50, 30, 60]\n"
          ]
        }
      ]
    },
    {
      "cell_type": "markdown",
      "source": [
        "# Pre Order Traversal Approach\n",
        "\n",
        "       10\n",
        "      /  \\       => 10 20 -1 -1 30 -1 -1\n",
        "     20  30\n",
        "\n",
        "We use -1 for NULL\n",
        "\n",
        "Assumption : -1 is not present in the tree as data"
      ],
      "metadata": {
        "id": "FBef0jGOXaMd"
      }
    },
    {
      "cell_type": "code",
      "source": [
        "# Implementation\n",
        "\n",
        "EMPTY = -1\n",
        "\n",
        "def serialize(root, arr):\n",
        "  if root is None:\n",
        "    arr.append(EMPTY)\n",
        "    return\n",
        "\n",
        "  arr.append(root.data)\n",
        "  serialize(root.left, arr)\n",
        "  serialize(root.right, arr)\n",
        "\n",
        "# Time Complexity : θ(n)\n",
        "\n",
        "index = 0\n",
        "\n",
        "def deserialize(arr):\n",
        "  global index\n",
        "\n",
        "  if index == len(arr):\n",
        "    return None\n",
        "\n",
        "  val = arr[index]\n",
        "  index += 1\n",
        "\n",
        "  if val == EMPTY:\n",
        "    return None\n",
        "\n",
        "  root = Node(val)\n",
        "  root.left = deserialize(arr)\n",
        "  root.right = deserialize(arr)\n",
        "\n",
        "  return root\n",
        "\n",
        "# Time Complexity : θ(n)\n",
        "\n",
        "if __name__ == \"__main__\":\n",
        "    root = Node(10)\n",
        "    root.left = Node(20)\n",
        "    root.right = Node(30)\n",
        "    root.left.left = Node(40)\n",
        "    root.left.right = Node(50)\n",
        "\n",
        "    serialized_data = []\n",
        "    serialize(root, serialized_data)\n",
        "    print(\"Serialized Data:\", serialized_data)\n",
        "\n",
        "    index = 0\n",
        "    deserialized_tree = deserialize(serialized_data)\n",
        "\n",
        "    def inorder_traversal(node):\n",
        "        if node is None:\n",
        "            return\n",
        "        inorder_traversal(node.left)\n",
        "        print(node.data, end=\" \")\n",
        "        inorder_traversal(node.right)\n",
        "\n",
        "    print(\"Inorder Traversal of Deserialized Tree:\", end=\" \")\n",
        "    inorder_traversal(deserialized_tree)"
      ],
      "metadata": {
        "colab": {
          "base_uri": "https://localhost:8080/"
        },
        "id": "r2MJfzpjWp9j",
        "outputId": "ebcd49c4-58ba-43ff-f82d-383d7cd71970"
      },
      "execution_count": 55,
      "outputs": [
        {
          "output_type": "stream",
          "name": "stdout",
          "text": [
            "Serialized Data: [10, 20, 40, -1, -1, 50, -1, -1, 30, -1, -1]\n",
            "Inorder Traversal of Deserialized Tree: 40 20 50 10 30 "
          ]
        }
      ]
    },
    {
      "cell_type": "markdown",
      "source": [
        "# Iterative Inorder Traversal\n",
        "\n",
        "I/P :\n",
        "\n",
        "          10\n",
        "         /  \\\n",
        "        20  30\n",
        "       /  \\    \n",
        "      40  50  \n",
        "\n",
        "O/P : 40 20 10 30"
      ],
      "metadata": {
        "id": "X-5lj8PdZSCB"
      }
    },
    {
      "cell_type": "code",
      "source": [
        "# Implementation\n",
        "\n",
        "class Node:\n",
        "    def __init__(self, key):\n",
        "        self.key = key\n",
        "        self.left = None\n",
        "        self.right = None\n",
        "\n",
        "def ItrInorder(root):\n",
        "    if root is None:\n",
        "        return\n",
        "\n",
        "    st = []\n",
        "    curr = root\n",
        "\n",
        "    while curr is not None:\n",
        "        st.append(curr)\n",
        "        curr = curr.left\n",
        "\n",
        "    while len(st) > 0:\n",
        "        curr = st.pop()\n",
        "        print(curr.key, end = \" \")\n",
        "\n",
        "        curr = curr.right\n",
        "\n",
        "        while curr is not None:\n",
        "            st.append(curr)\n",
        "            curr = curr.left\n",
        "\n",
        "# Example usage\n",
        "if __name__ == \"__main__\":\n",
        "    root = Node(10)\n",
        "    root.left = Node(20)\n",
        "    root.right = Node(30)\n",
        "    root.left.left = Node(40)\n",
        "    root.left.right = Node(50)\n",
        "\n",
        "    print(\"Iterative Inorder Traversal:\")\n",
        "    ItrInorder(root)\n",
        "\n",
        "# Time Complexity : θ(n)"
      ],
      "metadata": {
        "colab": {
          "base_uri": "https://localhost:8080/"
        },
        "id": "nUde9Ec7YS6g",
        "outputId": "6aef4434-662f-4edc-a529-ecc85fd95420"
      },
      "execution_count": 57,
      "outputs": [
        {
          "output_type": "stream",
          "name": "stdout",
          "text": [
            "Iterative Inorder Traversal:\n",
            "40 20 50 10 30 "
          ]
        }
      ]
    },
    {
      "cell_type": "markdown",
      "source": [
        "# Iterative PreOrder Traversal\n",
        "\n",
        "I/P :\n",
        "\n",
        "            10\n",
        "           /  \\\n",
        "        20     30\n",
        "       /  \\    /  \n",
        "      40  50  60\n",
        "\n",
        "O/P : 10 20 40 50 30 60"
      ],
      "metadata": {
        "id": "xaGJhGJjaWTi"
      }
    },
    {
      "cell_type": "code",
      "source": [
        "# Implementation\n",
        "\n",
        "def itepreorder(root):\n",
        "  if root is None:\n",
        "    return\n",
        "\n",
        "  st = [root]\n",
        "  while len(st)>0:\n",
        "    curr = st.pop()\n",
        "    print(curr.key, end = \" \")\n",
        "\n",
        "    if curr.right is not None:\n",
        "      st.append(curr.right)\n",
        "\n",
        "    if curr.left is not None:\n",
        "      st.append(curr.left)\n",
        "\n",
        "if __name__ == \"__main__\":\n",
        "    root = Node(10)\n",
        "    root.left = Node(20)\n",
        "    root.right = Node(30)\n",
        "    root.left.left = Node(40)\n",
        "    root.left.right = Node(50)\n",
        "\n",
        "    print(\"Iterative Inorder Traversal:\")\n",
        "    itepreorder(root)\n",
        "\n",
        "# Time Complexity : θ(n)\n",
        "# Space Complexity : O(n)"
      ],
      "metadata": {
        "colab": {
          "base_uri": "https://localhost:8080/"
        },
        "id": "ArcD8tEaaIe8",
        "outputId": "8ae425af-6e36-4eb1-a8e1-1984f39de650"
      },
      "execution_count": 61,
      "outputs": [
        {
          "output_type": "stream",
          "name": "stdout",
          "text": [
            "Iterative Inorder Traversal:\n",
            "10 20 40 50 30 "
          ]
        }
      ]
    },
    {
      "cell_type": "markdown",
      "source": [
        "# Iterative PreOrder Traversal (Optimized)\n",
        "\n",
        "I/P :\n",
        "\n",
        "            10\n",
        "           /  \\\n",
        "        20     30\n",
        "       /  \\    /  \n",
        "      40  50  60\n",
        "\n",
        "O/P : 10 20 40 50 30 60\n",
        "\n",
        "\n",
        "We push only right children to the stack"
      ],
      "metadata": {
        "id": "mkV3swftbIcu"
      }
    },
    {
      "cell_type": "code",
      "source": [
        "# Implementation\n",
        "\n",
        "def preorder(root):\n",
        "  if root is None:\n",
        "    return\n",
        "\n",
        "  st = []\n",
        "  curr = root\n",
        "\n",
        "  while st or curr != None:\n",
        "    while curr != None:\n",
        "      print(curr.key, end=\" \")\n",
        "\n",
        "      if curr.right != None:\n",
        "        st.append(curr.right)\n",
        "\n",
        "      curr = curr.left\n",
        "\n",
        "    if st:\n",
        "      curr = st.pop()\n",
        "\n",
        "if __name__ == \"__main__\":\n",
        "    root = Node(10)\n",
        "    root.left = Node(20)\n",
        "    root.right = Node(30)\n",
        "    root.left.left = Node(40)\n",
        "    root.left.right = Node(50)\n",
        "\n",
        "    print(\"Iterative Inorder Traversal:\")\n",
        "    preorder(root)"
      ],
      "metadata": {
        "colab": {
          "base_uri": "https://localhost:8080/"
        },
        "id": "QO-7tlZCa90T",
        "outputId": "bbe8ad88-9446-4398-e1a5-d04b50c9469e"
      },
      "execution_count": 63,
      "outputs": [
        {
          "output_type": "stream",
          "name": "stdout",
          "text": [
            "Iterative Inorder Traversal:\n",
            "10 20 40 50 30 "
          ]
        }
      ]
    },
    {
      "cell_type": "code",
      "source": [],
      "metadata": {
        "id": "0P-KaEZxbrHQ"
      },
      "execution_count": null,
      "outputs": []
    }
  ]
}
