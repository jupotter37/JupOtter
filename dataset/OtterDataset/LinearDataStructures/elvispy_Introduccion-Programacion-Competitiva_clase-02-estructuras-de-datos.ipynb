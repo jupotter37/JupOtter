{
 "cells": [
  {
   "cell_type": "markdown",
   "id": "d74fab8d",
   "metadata": {
    "slideshow": {
     "slide_type": "slide"
    }
   },
   "source": [
    "# Estructuras de datos útiles en programación competitiva"
   ]
  },
  {
   "cell_type": "code",
   "execution_count": 9,
   "id": "1dfc5a11",
   "metadata": {
    "slideshow": {
     "slide_type": "skip"
    }
   },
   "outputs": [],
   "source": [
    "import random"
   ]
  },
  {
   "cell_type": "markdown",
   "id": "e21e881e",
   "metadata": {},
   "source": [
    "## Arrays\n",
    "\n",
    "Ya vimos arrays en la clase anterior en python, que es un tipo de datos que llamamos **nativos**.\n",
    "Hay dos operaciones que aparecen con mucha frecuencia en un array\n"
   ]
  },
  {
   "cell_type": "markdown",
   "id": "6c5c9725",
   "metadata": {
    "slideshow": {
     "slide_type": "slide"
    }
   },
   "source": [
    "\n",
    "### Ordenamiento (Sorting)\n",
    "* $O(n^2)$ basados en comparaciones: Burbuja, Selección, Inserción: Generalmente son lentos, aunque ordenamiento por inserción tiene una complejidad aceptable cuando la lista está casi ordenada\n",
    "![SegmentLocal](images/insertionsort.gif \"segment\")\n"
   ]
  },
  {
   "cell_type": "markdown",
   "id": "3fdea593",
   "metadata": {
    "slideshow": {
     "slide_type": "slide"
    }
   },
   "source": [
    "* $O(n log(n))$ Son los algoritmos de ordenamiento por defecto: Merge/Heap... etc. Hay una prueba matemática que dice que (en promedio), no hay ningun algoritmo de ordenamiento mejor que estos.\n",
    "![SegmentLocal](images/mergesort.gif \"segment\")\n",
    "\n",
    "Nota: En python, un algoritmo híbrido de inserción/Mezcla fue implementado, que tiene esta complejidad en promedio, y en los mejores casos aún mejor."
   ]
  },
  {
   "cell_type": "code",
   "execution_count": 10,
   "id": "71db1b2b",
   "metadata": {},
   "outputs": [
    {
     "name": "stdout",
     "output_type": "stream",
     "text": [
      "['perro', 'elefante', 'gato', 'lista', 'ballena', 'arándano', 'jirafa', 'casa', 'manzana']\n"
     ]
    }
   ],
   "source": [
    "def my_len(palabra):\n",
    "    return sum([s == \"a\" for s in palabra])\n",
    "# Lista de palabras a ordenar por longitud\n",
    "palabras = ['elefante', 'gato', 'ballena', 'arándano', 'jirafa', 'lista', 'manzana', 'casa', 'perro']\n",
    "\n",
    "# Ordenar palabras por longitud, de menor a mayor\n",
    "ordenadas = sorted(palabras, key=my_len)\n",
    "\n",
    "print(ordenadas)"
   ]
  },
  {
   "cell_type": "markdown",
   "id": "57a11213",
   "metadata": {
    "slideshow": {
     "slide_type": "slide"
    }
   },
   "source": [
    "### Búsqueda (Searching)\n",
    "\n",
    "* Búsqueda lineal $O(n)$: Revisamos todos los elementos de una lista hasta encontrar (Lo que hace `index()` en python)\n",
    "* Búsqueda binaria $O(log_2(n))$: Es un algoritmo tipo recursivo, con una complejidad MUCHO menor que la búsqueda lineal. Sin embargo, requiere que esté <ins>ordenada</ins>\n",
    "* Hashing $O(1)$: Es una técnica de rápido acceso a valores conocidos sin necesidad de ordenar la estructura\n",
    "\n",
    "Ejemplo: Una lista de 100 elementos puede necesitar 100 operaciones en búsqueda lineal, 7 operaciones en búsqueda binaria, y 1 operación con hashing."
   ]
  },
  {
   "cell_type": "markdown",
   "id": "30405f6b",
   "metadata": {
    "slideshow": {
     "slide_type": "slide"
    }
   },
   "source": [
    "## Tipos de estructuras\n",
    " \n",
    "La gran ventaja de python es su increíble flexibilidad en su estructura de dato más común: La lista. La lista es una bendición y una perdición, pues la lista puede impersonar diferentes estructuras de manera rápida, trasladando la responsabilidad de la eficiencia de un algoritmo en el talento para idear un algoritmo eficiente por parte del programador\n",
    "\n",
    "Un programador de C++ tiene que saber varios tipos de datos: Stacks, Queues, Linked List, Deques. Para el programador de python, todo es lo mismo: Una lista. Vamos a revisarlos por completitud, en donde las diferencias están en el enfoque de cómo utilizamos una lista."
   ]
  },
  {
   "cell_type": "markdown",
   "id": "f66946ab",
   "metadata": {},
   "source": [
    "### Stack: Último en entrar, primero en salir\n",
    "\n",
    "Te imaginás usar una lista (array) y que al intentar accesar cualquier elemento de la lista te salga un error?. Eso es básicamente un stack. Stack (o pilas) son estructuras de datos\n",
    "<img style=\"display: block; margin: auto;\" src=\"images/stack.png\"/>\n"
   ]
  },
  {
   "cell_type": "code",
   "execution_count": 11,
   "id": "5dfc807d",
   "metadata": {
    "slideshow": {
     "slide_type": "slide"
    }
   },
   "outputs": [
    {
     "name": "stdout",
     "output_type": "stream",
     "text": [
      "[0, 2, 7, 4, 0, 0, 2, 9]\n",
      "[0, 2, 7, 4, 0, 0, 2, 3]\n"
     ]
    }
   ],
   "source": [
    "# Stack aleatorio\n",
    "mi_stack = random.choices(range(10), k = 8)\n",
    "print(mi_stack)\n",
    "mi_stack.pop() # Quitamos el último\n",
    "mi_stack.append(3) # Agregamos al último lugar\n",
    "print(mi_stack)"
   ]
  },
  {
   "cell_type": "markdown",
   "id": "edc196db",
   "metadata": {
    "slideshow": {
     "slide_type": "slide"
    }
   },
   "source": [
    "### Queue (Fila): Ultimo en entrar, último en salir\n",
    "La única diferencia con el stack es que el último en entrar es el último en salir, como una fila.\n",
    "<img style=\"display: block; margin: auto;\" src=\"images/queue.png\"/>\n",
    "\n"
   ]
  },
  {
   "cell_type": "code",
   "execution_count": 12,
   "id": "9a71ab2b",
   "metadata": {},
   "outputs": [
    {
     "name": "stdout",
     "output_type": "stream",
     "text": [
      "[10, 0, 2, 7, 4, 0, 0, 2]\n"
     ]
    }
   ],
   "source": [
    "mi_stack.insert(0, 10) # insertar el 10 en la posición 0 (primera posición)\n",
    "\n",
    "mi_stack.pop() # Eliminar el último\n",
    "print(mi_stack)"
   ]
  },
  {
   "cell_type": "markdown",
   "id": "dd8703fb",
   "metadata": {
    "slideshow": {
     "slide_type": "slide"
    }
   },
   "source": [
    "### Pero por qué usaríamos esto? No es mejor usar listas nada más?\n",
    "\n",
    "Bueno, en cierto sentido, si. Pero hay una gran ventaja en tener estas estructuras en mente: Primero, nos permite ser ordenados. Y cuando hay orden hay patrones que se pueden explotar. Tal vez no se note mucho en python, pero estas estructuras tienen ventajas que los arrays no tienen. Por ejemplo, en cuanto insertar un algoritmo en el medio de una lista puede ser $O(n)$, insertar en un stack/queue siempre es $O(1)$. Tener algoritmos y operaciones $O(1)$ en mente siempre es una ventaja, porque son más escalables/anidables."
   ]
  },
  {
   "cell_type": "markdown",
   "id": "c9118043",
   "metadata": {
    "slideshow": {
     "slide_type": "slide"
    }
   },
   "source": [
    "## Ejercicios!"
   ]
  },
  {
   "cell_type": "markdown",
   "id": "b243e55e",
   "metadata": {},
   "source": [
    "1. [Jolly Jumpers](https://open.kattis.com/problems/jollyjumpers)\n",
    "2. [Magic Sequence](https://open.kattis.com/problems/magicsequence)\n",
    "3. [Height Ordering](https://open.kattis.com/problems/height)\n",
    "4. [Classy](https://open.kattis.com/problems/classy)\n",
    "5. [Add 'Em up](https://open.kattis.com/problems/addemup)\n",
    "6. [Even up](https://open.kattis.com/problems/evenup)\n",
    "7. [Bungee Builder](https://open.kattis.com/problems/bungeebuilder)\n",
    "8. [Erase](https://open.kattis.com/problems/erase)\n",
    "9. [Mastermind](https://open.kattis.com/problems/mastermind)\n",
    "10. [2048](https://open.kattis.com/problems/2048)\n",
    "\n"
   ]
  }
 ],
 "metadata": {
  "celltoolbar": "Slideshow",
  "kernelspec": {
   "display_name": "Python [conda env:progcompetitiva]",
   "language": "python",
   "name": "conda-env-progcompetitiva-py"
  },
  "language_info": {
   "codemirror_mode": {
    "name": "ipython",
    "version": 3
   },
   "file_extension": ".py",
   "mimetype": "text/x-python",
   "name": "python",
   "nbconvert_exporter": "python",
   "pygments_lexer": "ipython3",
   "version": "3.12.5"
  }
 },
 "nbformat": 4,
 "nbformat_minor": 5
}
