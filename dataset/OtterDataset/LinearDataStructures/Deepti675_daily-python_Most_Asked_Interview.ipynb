{
  "nbformat": 4,
  "nbformat_minor": 0,
  "metadata": {
    "colab": {
      "provenance": []
    },
    "kernelspec": {
      "name": "python3",
      "display_name": "Python 3"
    },
    "language_info": {
      "name": "python"
    }
  },
  "cells": [
    {
      "cell_type": "markdown",
      "source": [
        "**Longest Substring Without Repeating Characters**"
      ],
      "metadata": {
        "id": "bLHJxKG6rxLo"
      }
    },
    {
      "cell_type": "code",
      "execution_count": 1,
      "metadata": {
        "colab": {
          "base_uri": "https://localhost:8080/"
        },
        "id": "nlgsq2JIq0r5",
        "outputId": "c9d42cbf-fe02-4d79-8b25-5b7afc7bf28e"
      },
      "outputs": [
        {
          "output_type": "stream",
          "name": "stdout",
          "text": [
            "3\n"
          ]
        }
      ],
      "source": [
        "def length_of_longest_substring(s):\n",
        "    char_map = {}\n",
        "    left = 0\n",
        "    max_length = 0\n",
        "    for right in range(len(s)):\n",
        "        if s[right] in char_map:\n",
        "            left = max(left, char_map[s[right]] + 1)\n",
        "        char_map[s[right]] = right\n",
        "        max_length = max(max_length, right - left + 1)\n",
        "    return max_length\n",
        "\n",
        "# Example usage\n",
        "print(length_of_longest_substring(\"abcabcbb\"))  # Output: 3\n"
      ]
    },
    {
      "cell_type": "markdown",
      "source": [
        "**Palindrome Substring:**"
      ],
      "metadata": {
        "id": "mGpK3o_bsUef"
      }
    },
    {
      "cell_type": "code",
      "source": [
        "def can_permute_palindrome(s):\n",
        "    odd_chars = set()\n",
        "\n",
        "    for char in s:\n",
        "        if char in odd_chars:\n",
        "            odd_chars.remove(char)\n",
        "        else:\n",
        "            odd_chars.add(char)\n",
        "\n",
        "    return len(odd_chars) <= 1\n",
        "\n",
        "# Example usage\n",
        "print(can_permute_palindrome(\"aab\"))  # Output: True\n",
        "print(can_permute_palindrome(\"carerac\"))  # Output: True\n",
        "print(can_permute_palindrome(\"code\"))  # Output: False\n",
        "print(can_permute_palindrome(\"bc\"))  # Output: False\n"
      ],
      "metadata": {
        "colab": {
          "base_uri": "https://localhost:8080/"
        },
        "id": "DybEc-2IsFaw",
        "outputId": "e4ec220b-34d9-4939-ab74-6b1cbc99954b"
      },
      "execution_count": 6,
      "outputs": [
        {
          "output_type": "stream",
          "name": "stdout",
          "text": [
            "True\n",
            "True\n",
            "False\n",
            "False\n"
          ]
        }
      ]
    },
    {
      "cell_type": "markdown",
      "source": [
        "**Reverse a Linked List:**"
      ],
      "metadata": {
        "id": "HjyLB2y_6Zng"
      }
    },
    {
      "cell_type": "code",
      "source": [
        "class ListNode:\n",
        "    def __init__(self, val=0, next=None):\n",
        "        self.val = val\n",
        "        self.next = next\n",
        "\n",
        "def reverse_list(head):\n",
        "    prev = None\n",
        "    current = head\n",
        "    while current:\n",
        "        next_node = current.next\n",
        "        current.next = prev\n",
        "        prev = current\n",
        "        current = next_node\n",
        "    return prev\n",
        "\n",
        "# Example usage\n",
        "head = ListNode(1, ListNode(2, ListNode(3, ListNode(4, ListNode(5)))))\n",
        "new_head = reverse_list(head)\n",
        "# Output: 5 -> 4 -> 3 -> 2 -> 1\n",
        "print(new_head)"
      ],
      "metadata": {
        "colab": {
          "base_uri": "https://localhost:8080/"
        },
        "id": "E9ig_HQG6Pr2",
        "outputId": "6e957500-5d63-4a98-af99-20999fba4fab"
      },
      "execution_count": 8,
      "outputs": [
        {
          "output_type": "stream",
          "name": "stdout",
          "text": [
            "<__main__.ListNode object at 0x78bee9a8ff40>\n"
          ]
        }
      ]
    },
    {
      "cell_type": "markdown",
      "source": [
        "**Detect Cycle in a Linked List:**"
      ],
      "metadata": {
        "id": "Kvf7CxrbBdti"
      }
    },
    {
      "cell_type": "code",
      "source": [
        "def has_cycle(head):\n",
        "    slow = head\n",
        "    fast = head\n",
        "    while fast and fast.next:\n",
        "        slow = slow.next\n",
        "        fast = fast.next.next\n",
        "        if slow == fast:\n",
        "            return True\n",
        "    return False\n",
        "\n",
        "# Example usage\n",
        "cycle_head = ListNode(3, ListNode(2, ListNode(0, ListNode(-4))))\n",
        "cycle_head.next.next.next.next = cycle_head.next  # Create cycle\n",
        "print(has_cycle(cycle_head))  # Output: True\n"
      ],
      "metadata": {
        "colab": {
          "base_uri": "https://localhost:8080/"
        },
        "id": "4yejO2CLBOn9",
        "outputId": "80c4cdd3-1edc-4e6a-fe1d-0437781d871a"
      },
      "execution_count": 9,
      "outputs": [
        {
          "output_type": "stream",
          "name": "stdout",
          "text": [
            "True\n"
          ]
        }
      ]
    },
    {
      "cell_type": "markdown",
      "source": [
        "**Merge Two Sorted Lists:**"
      ],
      "metadata": {
        "id": "kcNFqZ6rBgvE"
      }
    },
    {
      "cell_type": "code",
      "source": [
        "def merge_two_lists(l1, l2):\n",
        "    dummy = ListNode()\n",
        "    tail = dummy\n",
        "    while l1 and l2:\n",
        "        if l1.val < l2.val:\n",
        "            tail.next = l1\n",
        "            l1 = l1.next\n",
        "        else:\n",
        "            tail.next = l2\n",
        "            l2 = l2.next\n",
        "        tail = tail.next\n",
        "    tail.next = l1 if l1 else l2\n",
        "    return dummy.next\n",
        "\n",
        "# Example usage\n",
        "l1 = ListNode(1, ListNode(2, ListNode(4)))\n",
        "l2 = ListNode(1, ListNode(3, ListNode(4)))\n",
        "merged_head = merge_two_lists(l1, l2)\n",
        "# Output: 1 -> 1 -> 2 -> 3 -> 4 -> 4\n"
      ],
      "metadata": {
        "id": "qiKvL29jBj0B"
      },
      "execution_count": 11,
      "outputs": []
    },
    {
      "cell_type": "markdown",
      "source": [
        "**Remove N-th Node from End of List:**"
      ],
      "metadata": {
        "id": "90XwQAWOBrU2"
      }
    },
    {
      "cell_type": "code",
      "source": [
        "def remove_nth_from_end(head, n):\n",
        "    dummy = ListNode(0, head)\n",
        "    slow = fast = dummy\n",
        "    for _ in range(n + 1):\n",
        "        fast = fast.next\n",
        "    while fast:\n",
        "        slow = slow.next\n",
        "        fast = fast.next\n",
        "    slow.next = slow.next.next\n",
        "    return dummy.next\n",
        "\n",
        "# Example usage\n",
        "head = ListNode(1, ListNode(2, ListNode(3, ListNode(4, ListNode(5)))))\n",
        "new_head = remove_nth_from_end(head, 2)\n",
        "# Output: 1 -> 2 -> 3 -> 5\n"
      ],
      "metadata": {
        "id": "-6HVM2VXBosJ"
      },
      "execution_count": 10,
      "outputs": []
    },
    {
      "cell_type": "markdown",
      "source": [
        "**Valid Parentheses:**"
      ],
      "metadata": {
        "id": "UecoptN0CFZA"
      }
    },
    {
      "cell_type": "code",
      "source": [
        "def is_valid(s):\n",
        "    stack = []\n",
        "    mapping = {')': '(', '}': '{', ']': '['}\n",
        "    for char in s:\n",
        "        if char in mapping:\n",
        "            top_element = stack.pop() if stack else '#'\n",
        "            if mapping[char] != top_element:\n",
        "                return False\n",
        "        else:\n",
        "            stack.append(char)\n",
        "    return not stack\n",
        "\n",
        "# Example usage\n",
        "print(is_valid(\"()\"))  # Output: True\n",
        "print(is_valid(\"([)]\"))  # Output: False\n"
      ],
      "metadata": {
        "colab": {
          "base_uri": "https://localhost:8080/"
        },
        "id": "5ktMbAGaByeP",
        "outputId": "4ad23e86-2519-42c9-e1a5-6e6513c77e86"
      },
      "execution_count": 12,
      "outputs": [
        {
          "output_type": "stream",
          "name": "stdout",
          "text": [
            "True\n",
            "False\n"
          ]
        }
      ]
    },
    {
      "cell_type": "markdown",
      "source": [
        "**Implement a Queue using Stacks:**"
      ],
      "metadata": {
        "id": "Xw5NjRNkCNrV"
      }
    },
    {
      "cell_type": "code",
      "source": [
        "class MyQueue:\n",
        "\n",
        "    def __init__(self):\n",
        "        self.in_stack = []\n",
        "        self.out_stack = []\n",
        "\n",
        "    def push(self, x: int) -> None:\n",
        "        self.in_stack.append(x)\n",
        "\n",
        "    def pop(self) -> int:\n",
        "        self.move()\n",
        "        return self.out_stack.pop()\n",
        "\n",
        "    def peek(self) -> int:\n",
        "        self.move()\n",
        "        return self.out_stack[-1]\n",
        "\n",
        "    def empty(self) -> bool:\n",
        "        return not self.in_stack and not self.out_stack\n",
        "\n",
        "    def move(self):\n",
        "        if not self.out_stack:\n",
        "            while self.in_stack:\n",
        "                self.out_stack.append(self.in_stack.pop())\n",
        "\n",
        "# Example usage\n",
        "queue = MyQueue()\n",
        "queue.push(1)\n",
        "queue.push(2)\n",
        "print(queue.peek())  # Output: 1\n",
        "print(queue.pop())   # Output: 1\n",
        "print(queue.empty()) # Output: False\n"
      ],
      "metadata": {
        "id": "6ZGYBI20CIyr"
      },
      "execution_count": null,
      "outputs": []
    },
    {
      "cell_type": "markdown",
      "source": [
        "**Min Stack:**"
      ],
      "metadata": {
        "id": "W7zqbZk-CZOZ"
      }
    },
    {
      "cell_type": "code",
      "source": [
        "class MinStack:\n",
        "\n",
        "    def __init__(self):\n",
        "        self.stack = []\n",
        "        self.min_stack = []\n",
        "\n",
        "    def push(self, val: int) -> None:\n",
        "        self.stack.append(val)\n",
        "        if not self.min_stack or val <= self.min_stack[-1]:\n",
        "            self.min_stack.append(val)\n",
        "\n",
        "    def pop(self) -> None:\n",
        "        if self.stack.pop() == self.min_stack[-1]:\n",
        "            self.min_stack.pop()\n",
        "\n",
        "    def top(self) -> int:\n",
        "        return self.stack[-1]\n",
        "\n",
        "    def get_min(self) -> int:\n",
        "        return self.min_stack[-1]\n",
        "\n",
        "# Example usage\n",
        "min_stack = MinStack()\n",
        "min_stack.push(-2)\n",
        "min_stack.push(0)\n",
        "min_stack.push(-3)\n",
        "print(min_stack.get_min())  # Output: -3\n",
        "min_stack.pop()\n",
        "print(min_stack.top())      # Output: 0\n",
        "print(min_stack.get_min())  # Output: -2\n"
      ],
      "metadata": {
        "colab": {
          "base_uri": "https://localhost:8080/"
        },
        "id": "1J97q1N9CahK",
        "outputId": "24b0f04a-a9a9-414d-f440-9a3fe3bb04e2"
      },
      "execution_count": 13,
      "outputs": [
        {
          "output_type": "stream",
          "name": "stdout",
          "text": [
            "-3\n",
            "0\n",
            "-2\n"
          ]
        }
      ]
    },
    {
      "cell_type": "markdown",
      "source": [
        "**Binary Tree Inorder Traversal:**"
      ],
      "metadata": {
        "id": "eqilI9sBCecH"
      }
    },
    {
      "cell_type": "code",
      "source": [
        "def inorder_traversal(root):\n",
        "    res, stack = [], []\n",
        "    while root or stack:\n",
        "        while root:\n",
        "            stack.append(root)\n",
        "            root = root.left\n",
        "        root = stack.pop()\n",
        "        res.append(root.val)\n",
        "        root = root.right\n",
        "    return res\n",
        "\n",
        "# Example usage\n",
        "root = TreeNode(1, right=TreeNode(2, TreeNode(3)))\n",
        "print(inorder_traversal(root))  # Output: [1, 3, 2]\n"
      ],
      "metadata": {
        "id": "-E3mHPx7Cjvl"
      },
      "execution_count": null,
      "outputs": []
    },
    {
      "cell_type": "markdown",
      "source": [
        "**Validate Binary Search Tree:**"
      ],
      "metadata": {
        "id": "STdsmuKlCpIy"
      }
    },
    {
      "cell_type": "code",
      "source": [
        "def is_valid_bst(root):\n",
        "    def validate(node, low=float('-inf'), high=float('inf')):\n",
        "        if not node:\n",
        "            return True\n",
        "        if node.val <= low or node.val >= high:\n",
        "            return False\n",
        "        return (validate(node.right, node.val, high) and\n",
        "                validate(node.left, low, node.val))\n",
        "    return validate(root)\n",
        "\n",
        "# Example usage\n",
        "root = TreeNode(2, TreeNode(1), TreeNode(3))\n",
        "print(is_valid_bst(root))  # Output: True\n"
      ],
      "metadata": {
        "id": "4b7fOD8GCs5T"
      },
      "execution_count": null,
      "outputs": []
    },
    {
      "cell_type": "markdown",
      "source": [
        "**Lowest Common Ancestor of a Binary Search Tree:**"
      ],
      "metadata": {
        "id": "J8PuvjykCwPT"
      }
    },
    {
      "cell_type": "code",
      "source": [
        "def lowest_common_ancestor(root, p, q):\n",
        "    while root:\n",
        "        if p.val < root.val and q.val < root.val:\n",
        "            root = root.left\n",
        "        elif p.val > root.val and q.val > root.val:\n",
        "            root = root.right\n",
        "        else:\n",
        "            return root\n",
        "\n",
        "# Example usage\n",
        "root = TreeNode(6, TreeNode(2, TreeNode(0), TreeNode(4, TreeNode(3), TreeNode(5))),\n",
        "                TreeNode(8, TreeNode(7), TreeNode(9)))\n",
        "p = TreeNode(2)\n",
        "q = TreeNode(8)\n",
        "print(lowest_common_ancestor(root, p, q).val)  # Output: 6\n"
      ],
      "metadata": {
        "id": "n6W-iwttCzeC"
      },
      "execution_count": null,
      "outputs": []
    },
    {
      "cell_type": "markdown",
      "source": [
        "**Course Schedule (Topological Sorting):**"
      ],
      "metadata": {
        "id": "IcYYr3wzC1ZK"
      }
    },
    {
      "cell_type": "code",
      "source": [
        "def can_finish(num_courses, prerequisites):\n",
        "    from collections import defaultdict, deque\n",
        "    graph = defaultdict(list)\n",
        "    in_degree = {i: 0 for i in range(num_courses)}\n",
        "\n",
        "    for dest, src in prerequisites:\n",
        "        graph[src].append(dest)\n",
        "        in_degree[dest] += 1\n",
        "\n",
        "    zero_degree_queue = deque([k for k in in_degree if in_degree[k] == 0])\n",
        "    topo_order = []\n",
        "\n",
        "    while zero_degree_queue:\n",
        "        vertex = zero_degree_queue.popleft()\n",
        "        topo_order.append(vertex)\n",
        "        for neighbor in graph[vertex]:\n",
        "            in_degree[neighbor] -= 1\n",
        "            if in_degree[neighbor] == 0:\n",
        "                zero_degree_queue.append(neighbor)\n",
        "\n",
        "    return len(topo_order) == num_courses\n",
        "\n",
        "# Example usage\n",
        "print(can_finish(2, [[1, 0]]))  # Output: True\n"
      ],
      "metadata": {
        "id": "YjB30L20C4ZC"
      },
      "execution_count": null,
      "outputs": []
    },
    {
      "cell_type": "markdown",
      "source": [
        "**Climbing Stairs:**"
      ],
      "metadata": {
        "id": "jlpWvGBrC8y9"
      }
    },
    {
      "cell_type": "code",
      "source": [
        "def climb_stairs(n):\n",
        "    if n <= 2:\n",
        "        return n\n",
        "    a, b = 1, 2\n",
        "    for _ in range(3, n + 1):\n",
        "        a, b = b, a + b\n",
        "    return b\n",
        "\n",
        "# Example usage\n",
        "print(climb_stairs(3))  # Output: 3\n"
      ],
      "metadata": {
        "id": "fe7TKIxsDAI8"
      },
      "execution_count": null,
      "outputs": []
    },
    {
      "cell_type": "markdown",
      "source": [
        "**Longest Increasing Subsequence:**"
      ],
      "metadata": {
        "id": "ZoJLlGs6DB6t"
      }
    },
    {
      "cell_type": "code",
      "source": [
        "def length_of_lis(nums):\n",
        "    if not nums:\n",
        "        return 0\n",
        "    dp = [1] * len(nums)\n",
        "    for i in range(len(nums)):\n",
        "        for j in range(i):\n",
        "            if nums[i] > nums[j]:\n",
        "                dp[i] = max(dp[i], dp[j] + 1)\n",
        "    return max(dp)\n",
        "\n",
        "# Example usage\n",
        "print(length_of_lis([10, 9, 2, 5, 3, 7, 101, 18]))  # Output: 4\n"
      ],
      "metadata": {
        "id": "Pc86KkLGDEOl"
      },
      "execution_count": null,
      "outputs": []
    },
    {
      "cell_type": "markdown",
      "source": [
        "**0/1 Knapsack Problem:**"
      ],
      "metadata": {
        "id": "N_58qvjLDGGU"
      }
    },
    {
      "cell_type": "code",
      "source": [
        "def knapsack(weights, values, capacity):\n",
        "    n = len(weights)\n",
        "    dp = [[0] * (capacity + 1) for _ in range(n + 1)]\n",
        "    for i in range(1, n + 1):\n",
        "        for w in range(1, capacity + 1):\n",
        "            if weights[i - 1] <= w:\n",
        "                dp[i][w] = max(dp[i - 1][w], dp[i - 1][w - weights[i - 1]] + values[i - 1])\n",
        "            else:\n",
        "                dp[i][w] = dp[i - 1][w]\n",
        "    return dp[n][capacity]\n",
        "\n",
        "# Example usage\n",
        "weights = [1, 3, 4, 5]\n",
        "values = [1, 4, 5, 7]\n",
        "capacity = 7\n",
        "print(knapsack(weights, values, capacity))  # Output: 9\n"
      ],
      "metadata": {
        "id": "utp0a0j-DJOx"
      },
      "execution_count": null,
      "outputs": []
    },
    {
      "cell_type": "markdown",
      "source": [
        "**merge sort:**"
      ],
      "metadata": {
        "id": "RkOjTaNQDL63"
      }
    },
    {
      "cell_type": "code",
      "source": [
        "def merge_sort(arr):\n",
        "    # Base case: if the array has one or zero elements, it is already sorted\n",
        "    if len(arr) <= 1:\n",
        "        return arr\n",
        "\n",
        "    # Step 1: Split the array into two halves\n",
        "    mid = len(arr) // 2\n",
        "    left_half = arr[:mid]\n",
        "    right_half = arr[mid:]\n",
        "\n",
        "    # Step 2: Recursively sort each half\n",
        "    left_sorted = merge_sort(left_half)\n",
        "    right_sorted = merge_sort(right_half)\n",
        "\n",
        "    # Step 3: Merge the two sorted halves\n",
        "    return merge(left_sorted, right_sorted)\n",
        "\n",
        "def merge(left, right):\n",
        "    sorted_array = []\n",
        "    i = 0  # Pointer for left array\n",
        "    j = 0  # Pointer for right array\n",
        "\n",
        "    # Compare each element and merge the two arrays\n",
        "    while i < len(left) and j < len(right):\n",
        "        if left[i] < right[j]:\n",
        "            sorted_array.append(left[i])\n",
        "            i += 1\n",
        "        else:\n",
        "            sorted_array.append(right[j])\n",
        "            j += 1\n",
        "\n",
        "    # Append remaining elements from left (if any)\n",
        "    while i < len(left):\n",
        "        sorted_array.append(left[i])\n",
        "        i += 1\n",
        "\n",
        "    # Append remaining elements from right (if any)\n",
        "    while j < len(right):\n",
        "        sorted_array.append(right[j])\n",
        "        j += 1\n",
        "\n",
        "    return sorted_array\n",
        "\n",
        "# Example usage:\n",
        "if __name__ == \"__main__\":\n",
        "    example_array = [38, 27, 43, 3, 9, 82, 10]\n",
        "    print(\"Original array:\", example_array)\n",
        "    sorted_array = merge_sort(example_array)\n",
        "    print(\"Sorted array:\", sorted_array)\n"
      ],
      "metadata": {
        "colab": {
          "base_uri": "https://localhost:8080/"
        },
        "id": "wMRwI5HwEdBR",
        "outputId": "baada8a1-9a6f-454a-d53d-7377d61eab6f"
      },
      "execution_count": 14,
      "outputs": [
        {
          "output_type": "stream",
          "name": "stdout",
          "text": [
            "Original array: [38, 27, 43, 3, 9, 82, 10]\n",
            "Sorted array: [3, 9, 10, 27, 38, 43, 82]\n"
          ]
        }
      ]
    },
    {
      "cell_type": "markdown",
      "source": [
        "**Quick Sort**"
      ],
      "metadata": {
        "id": "4yVwxvP8Ee45"
      }
    },
    {
      "cell_type": "code",
      "source": [
        "def quick_sort(arr):\n",
        "    # Base case: if the array has one or zero elements, it is already sorted\n",
        "    if len(arr) <= 1:\n",
        "        return arr\n",
        "\n",
        "    # Step 1: Choose a pivot (here we choose the last element)\n",
        "    pivot = arr[-1]\n",
        "\n",
        "    # Step 2: Partition the array\n",
        "    less_than_pivot = [x for x in arr[:-1] if x <= pivot]\n",
        "    greater_than_pivot = [x for x in arr[:-1] if x > pivot]\n",
        "\n",
        "    # Step 3: Recursively apply Quick Sort to the partitions\n",
        "    sorted_less_than_pivot = quick_sort(less_than_pivot)\n",
        "    sorted_greater_than_pivot = quick_sort(greater_than_pivot)\n",
        "\n",
        "    # Step 4: Combine the sorted partitions with the pivot\n",
        "    return sorted_less_than_pivot + [pivot] + sorted_greater_than_pivot\n",
        "\n",
        "# Example usage:\n",
        "if __name__ == \"__main__\":\n",
        "    example_array = [38, 27, 43, 3, 9, 82, 10]\n",
        "    print(\"Original array:\", example_array)\n",
        "    sorted_array = quick_sort(example_array)\n",
        "    print(\"Sorted array:\", sorted_array)\n"
      ],
      "metadata": {
        "colab": {
          "base_uri": "https://localhost:8080/"
        },
        "id": "8cZ9b1ugEioq",
        "outputId": "713e23a0-678e-4ae7-8f7d-a98ebe36e492"
      },
      "execution_count": 15,
      "outputs": [
        {
          "output_type": "stream",
          "name": "stdout",
          "text": [
            "Original array: [38, 27, 43, 3, 9, 82, 10]\n",
            "Sorted array: [3, 9, 10, 27, 38, 43, 82]\n"
          ]
        }
      ]
    }
  ]
}