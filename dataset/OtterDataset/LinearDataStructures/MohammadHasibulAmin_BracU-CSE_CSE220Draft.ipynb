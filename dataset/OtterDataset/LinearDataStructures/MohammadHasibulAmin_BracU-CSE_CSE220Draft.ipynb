{
 "cells": [
  {
   "cell_type": "markdown",
   "metadata": {},
   "source": [
    "Array"
   ]
  },
  {
   "cell_type": "markdown",
   "metadata": {},
   "source": [
    "Practice Sheet (ZMD)"
   ]
  },
  {
   "cell_type": "code",
   "execution_count": 27,
   "metadata": {},
   "outputs": [
    {
     "name": "stdout",
     "output_type": "stream",
     "text": [
      "5\n"
     ]
    }
   ],
   "source": [
    "#Question 1\n",
    "import numpy as np\n",
    "\n",
    "n = 5\n",
    "m = 3\n",
    "\n",
    "array_a = np.array([1, 2, 3, 4, 5])\n",
    "array_b = np.array([1, 2, 3])\n",
    "\n",
    "joint = np.zeros(n+m, dtype = int)\n",
    "\n",
    "for i in range(n):\n",
    "    joint[i] = array_a[i]\n",
    "\n",
    "for j in range(m):\n",
    "    joint[n + j] = array_b[j]\n",
    "\n",
    "joint = set(joint)\n",
    "\n",
    "print(len(joint))"
   ]
  },
  {
   "cell_type": "code",
   "execution_count": 28,
   "metadata": {},
   "outputs": [
    {
     "name": "stdout",
     "output_type": "stream",
     "text": [
      "[ 1  3  3 -1 -7 -5 -7 -1]\n"
     ]
    }
   ],
   "source": [
    "#Question 2\n",
    "import numpy as np\n",
    "\n",
    "n = 8\n",
    "arr = np.array([1, -1, 3, 2, -7, -5, 11, 6])\n",
    "\n",
    "shape = arr.shape\n",
    "length = shape[0]\n",
    "\n",
    "pos_index = 0\n",
    "neg_index = n-1\n",
    "\n",
    "for i in range(len(arr)):\n",
    "    if arr[i] < 0:\n",
    "        arr[neg_index] = arr[i]\n",
    "        neg_index -= 1\n",
    "\n",
    "for j in range(len(arr)):\n",
    "    if arr[j] > 0:\n",
    "        arr[pos_index] = arr[j]\n",
    "        pos_index += 1\n",
    "\n",
    "print(arr)"
   ]
  },
  {
   "cell_type": "code",
   "execution_count": 29,
   "metadata": {},
   "outputs": [
    {
     "data": {
      "text/plain": [
       "(0, 0)"
      ]
     },
     "execution_count": 29,
     "metadata": {},
     "output_type": "execute_result"
    }
   ],
   "source": [
    "#Question 3\n",
    "\n",
    "def subarray(n, s, a):\n",
    "    list1 = []\n",
    "\n",
    "    start = 0\n",
    "    end = 0\n",
    "\n",
    "    sum = 0\n",
    "\n",
    "    for i in range(len(a)):\n",
    "        while sum <= s:\n",
    "            sum += a[i]\n",
    "            list1.append(a[i])\n",
    "            if sum != s:\n",
    "                continue\n",
    "\n",
    "    start = a.index(list1[0])\n",
    "    end = a.index(list1[len(list1)-1])\n",
    "\n",
    "    return start, end\n",
    "\n",
    "subarray(5, 12, [1,2,3,7,5])"
   ]
  },
  {
   "cell_type": "code",
   "execution_count": 30,
   "metadata": {},
   "outputs": [
    {
     "data": {
      "text/plain": [
       "5"
      ]
     },
     "execution_count": 30,
     "metadata": {},
     "output_type": "execute_result"
    }
   ],
   "source": [
    "#Question 4\n",
    "import numpy as np\n",
    "\n",
    "def frequency(n, a, x):\n",
    "    arr = np.array(a)\n",
    "    \n",
    "    shape = arr.shape\n",
    "    length = shape[0]\n",
    "\n",
    "    count = 0\n",
    "\n",
    "    for i in range(length):\n",
    "        if arr[i] == x:\n",
    "            count += 1\n",
    "        \n",
    "    return count\n",
    "\n",
    "frequency(5, [1, 1, 1, 1, 1], 1)"
   ]
  },
  {
   "cell_type": "code",
   "execution_count": 31,
   "metadata": {},
   "outputs": [
    {
     "name": "stdout",
     "output_type": "stream",
     "text": [
      "7\n",
      "15\n"
     ]
    }
   ],
   "source": [
    "#Question 5\n",
    "import numpy as np\n",
    "\n",
    "def abc(n, a, k):\n",
    "    arr = np.array(a)\n",
    "    shape = arr.shape\n",
    "    length = shape[0]\n",
    "\n",
    "    arr = sorted(arr)\n",
    "\n",
    "    for i in range(length):\n",
    "        if i == k:\n",
    "            print(arr[k-1])\n",
    "\n",
    "abc(6, [7, 10, 4, 3, 20, 15], 3)\n",
    "abc(5, [7, 10, 4, 20, 15], 4)"
   ]
  },
  {
   "cell_type": "code",
   "execution_count": 32,
   "metadata": {},
   "outputs": [
    {
     "name": "stdout",
     "output_type": "stream",
     "text": [
      "[3, 4, 7, 10, 15, 20]\n"
     ]
    }
   ],
   "source": [
    "#Bubble Sort\n",
    "\n",
    "arr = [7, 10, 4, 3, 20, 15]\n",
    "\n",
    "for i in range(len(arr)):\n",
    "    for j in range(i+1,len(arr)):\n",
    "        if arr[j] < arr[i]:\n",
    "            temp = arr[i]\n",
    "            arr[i] = arr[j]\n",
    "            arr[j] = temp\n",
    "\n",
    "print(arr)"
   ]
  },
  {
   "cell_type": "code",
   "execution_count": 33,
   "metadata": {},
   "outputs": [
    {
     "data": {
      "text/plain": [
       "[0, 0, 1, 2, 2]"
      ]
     },
     "execution_count": 33,
     "metadata": {},
     "output_type": "execute_result"
    }
   ],
   "source": [
    "#Question 6\n",
    "import numpy as np\n",
    "\n",
    "def ascendingsort(n, arr):\n",
    "    for i in range(len(arr)):\n",
    "        for j in range(i+1,len(arr)):\n",
    "            if arr[j] < arr[i]:\n",
    "                temp = arr[i]\n",
    "                arr[i] = arr[j]\n",
    "                arr[j] = temp\n",
    "\n",
    "    return arr\n",
    "\n",
    "ascendingsort(5, [0, 2, 1, 2, 0])"
   ]
  },
  {
   "cell_type": "code",
   "execution_count": 34,
   "metadata": {},
   "outputs": [
    {
     "name": "stdout",
     "output_type": "stream",
     "text": [
      "10\n",
      "10\n",
      "72\n"
     ]
    }
   ],
   "source": [
    "#Question 7\n",
    "import numpy as np\n",
    "\n",
    "def watertrapper(n, arr):\n",
    "    arr = np.array(arr)\n",
    "\n",
    "    shape = arr.shape\n",
    "    length = shape[0]\n",
    "\n",
    "    max = 0\n",
    "    for i in range(length):\n",
    "        if arr[i] > max:\n",
    "            max = arr[i]\n",
    "\n",
    "    max_2 = 0\n",
    "    for j in range(length):\n",
    "        if arr[j] > max_2:\n",
    "            if arr[j] == max:\n",
    "                pass\n",
    "            else:\n",
    "                max_2 = arr[j]\n",
    "\n",
    "    trap_count = 0\n",
    "    for k in range(length):\n",
    "        while arr[k] < max_2:\n",
    "            arr[k] += 1\n",
    "            trap_count += 1\n",
    "\n",
    "    print(trap_count)\n",
    "\n",
    "watertrapper(4, [7,4,0,9])\n",
    "watertrapper(6, [3, 0, 0, 2, 0, 4])\n",
    "watertrapper(14, [3,0,2,5,2,8,0,9,7,10,0,5,1,3])"
   ]
  },
  {
   "cell_type": "code",
   "execution_count": 35,
   "metadata": {},
   "outputs": [
    {
     "data": {
      "text/plain": [
       "array([2, 1, 4, 3, 5])"
      ]
     },
     "execution_count": 35,
     "metadata": {},
     "output_type": "execute_result"
    }
   ],
   "source": [
    "#Question 8\n",
    "import numpy as np\n",
    "\n",
    "def wavesorting(n, arr):\n",
    "    arr = np.array(arr)\n",
    "\n",
    "    shape = arr.shape\n",
    "    length = shape[0]\n",
    "\n",
    "    for i in range(length-1):\n",
    "        if i%2 == 0:\n",
    "            temp = arr[i]\n",
    "            arr[i] = arr[i+1]\n",
    "            arr[i+1] = temp\n",
    "\n",
    "    return arr\n",
    "\n",
    "wavesorting(5, [1,2,3,4,5])"
   ]
  },
  {
   "cell_type": "code",
   "execution_count": 36,
   "metadata": {},
   "outputs": [
    {
     "data": {
      "text/plain": [
       "-1"
      ]
     },
     "execution_count": 36,
     "metadata": {},
     "output_type": "execute_result"
    }
   ],
   "source": [
    "#Question 9\n",
    "import numpy as np\n",
    "\n",
    "def majority(n, arr):\n",
    "    arr = np.array(arr)\n",
    "\n",
    "    shape = arr.shape\n",
    "    length = shape[0]\n",
    "\n",
    "    max_count = 0\n",
    "\n",
    "    for i in range(length):\n",
    "        temp = arr[i]\n",
    "        count = 0\n",
    "        for j in range(length):\n",
    "            if arr[j] == temp:\n",
    "                count += 1\n",
    "                if max_count < count:\n",
    "                    max_count = count\n",
    "\n",
    "    if max_count > n/2: return max_count\n",
    "    \n",
    "    else: return -1\n",
    "\n",
    "majority(5, [3,1,3,3,2])\n",
    "majority(3, [1,2,3])"
   ]
  },
  {
   "cell_type": "code",
   "execution_count": null,
   "metadata": {},
   "outputs": [],
   "source": [
    "#Question 10\n",
    "import numpy as np\n",
    "\n",
    "def jumper(n, arr):\n",
    "    arr = np.array(arr)\n",
    "\n",
    "    shape = arr.shape\n",
    "    length = shape[0]\n",
    "\n",
    "    jump_count = 0\n",
    "\n",
    "    for i in range(length):\n",
    "        temp = arr[i]\n",
    "        jump = arr[i+temp]\n",
    "        arr[temp+jump]\n",
    "        jump_count += 1\n",
    "\n",
    "    return jump_count\n",
    "\n",
    "jumper(11, [1, 3, 5, 8, 9, 2, 6, 7, 6, 8, 9])"
   ]
  },
  {
   "cell_type": "markdown",
   "metadata": {},
   "source": [
    "Quiz 1 Prep (04.10.2024)"
   ]
  },
  {
   "cell_type": "code",
   "execution_count": 148,
   "metadata": {},
   "outputs": [
    {
     "name": "stdout",
     "output_type": "stream",
     "text": [
      "at index: 3 found the desired value 1090\n"
     ]
    }
   ],
   "source": [
    "#Linear Search Practice\n",
    "import numpy as np\n",
    "student_ids = [1002, 1503, 1801, 1090, 1250, 1423]\n",
    "target_id = 1090\n",
    "\n",
    "arr = np.array(student_ids)\n",
    "length = arr.shape[0]\n",
    "\n",
    "for i in range(length):\n",
    "    if arr[i] == target_id:\n",
    "        print(\"at index:\",i,\"found the desired value\",arr[i])"
   ]
  },
  {
   "cell_type": "code",
   "execution_count": 149,
   "metadata": {},
   "outputs": [
    {
     "data": {
      "text/plain": [
       "True"
      ]
     },
     "execution_count": 149,
     "metadata": {},
     "output_type": "execute_result"
    }
   ],
   "source": [
    "#binary search practice\n",
    "import numpy as np\n",
    "\n",
    "def binarysearch(price, target):\n",
    "    arr = np.array(price)\n",
    "    length = arr.shape[0]\n",
    "\n",
    "    low = 0\n",
    "    high = length-1\n",
    "\n",
    "    while low <= high:\n",
    "        mid = (high+low)//2\n",
    "\n",
    "        if arr[mid] == target:\n",
    "            return True\n",
    "        elif arr[mid] < target:\n",
    "            low = mid + 1\n",
    "        else:\n",
    "            high = mid - 1\n",
    "    \n",
    "    return -1\n",
    "\n",
    "prices = [10, 20, 35, 50, 60, 75, 80, 95, 100]\n",
    "target_price = 75\n",
    "binarysearch(prices, target_price)"
   ]
  },
  {
   "cell_type": "markdown",
   "metadata": {},
   "source": [
    "https://docs.google.com/document/d/1HOCXMA5BOnwNkGY0JJuOsOnMwQHmOAIqEvg4_9zuBec/edit?tab=t.0"
   ]
  },
  {
   "cell_type": "code",
   "execution_count": 150,
   "metadata": {},
   "outputs": [
    {
     "data": {
      "text/plain": [
       "array([40, 50, 60,  0,  0,  0])"
      ]
     },
     "execution_count": 150,
     "metadata": {},
     "output_type": "execute_result"
    }
   ],
   "source": [
    "#Task 1 (shift left)\n",
    "import numpy as np\n",
    "\n",
    "def shiftleft(source, k):\n",
    "    arr = np.array(source)\n",
    "    length = arr.shape[0]\n",
    "\n",
    "    for i in range(length):\n",
    "        if k+i < length:\n",
    "            arr[i] = arr[k+i]\n",
    "\n",
    "        elif k + i >= length:\n",
    "            arr[i] = 0\n",
    "\n",
    "    return arr\n",
    "\n",
    "shiftleft([10,20,30,40,50,60], 3)"
   ]
  },
  {
   "cell_type": "code",
   "execution_count": 151,
   "metadata": {},
   "outputs": [
    {
     "name": "stdout",
     "output_type": "stream",
     "text": [
      "[40 50 60  0  0  0]\n"
     ]
    }
   ],
   "source": [
    "#Task 1\n",
    "import numpy as np\n",
    "\n",
    "def shiftleft(source, k):\n",
    "    arr = np.array(source)\n",
    "    length = arr.shape[0]\n",
    "    \n",
    "    for i in range(k):\n",
    "        for j in range(0,length-1):\n",
    "            arr[j] = arr[j+1]\n",
    "        arr[length-1] = 0\n",
    "\n",
    "    #return arr\n",
    "    print(arr)\n",
    "\n",
    "shiftleft([10,20,30,40,50,60], 3)"
   ]
  },
  {
   "cell_type": "code",
   "execution_count": 152,
   "metadata": {},
   "outputs": [
    {
     "data": {
      "text/plain": [
       "array([40, 50, 60, 70, 10, 20, 30])"
      ]
     },
     "execution_count": 152,
     "metadata": {},
     "output_type": "execute_result"
    }
   ],
   "source": [
    "#Task 2 (rotate left)\n",
    "import numpy as np\n",
    "\n",
    "def rotateleft(source, k):\n",
    "    arr = np.array(source)\n",
    "    length = arr.shape[0]\n",
    "\n",
    "    temp = np.zeros(k, dtype = int)\n",
    "\n",
    "    for i in range(k):\n",
    "        temp[i] = arr[i]\n",
    "\n",
    "    for i in range(length):\n",
    "        if k+i < length:\n",
    "            arr[i] = arr[k+i]\n",
    "\n",
    "    j = 0\n",
    "    for i in range(k+1,length):\n",
    "        arr[i] = temp[j]\n",
    "        j += 1\n",
    "\n",
    "    return arr\n",
    "        \n",
    "rotateleft([10,20,30,40,50,60,70], 3)"
   ]
  },
  {
   "cell_type": "code",
   "execution_count": 153,
   "metadata": {},
   "outputs": [
    {
     "data": {
      "text/plain": [
       "array([40, 50, 60, 70, 10, 20, 30])"
      ]
     },
     "execution_count": 153,
     "metadata": {},
     "output_type": "execute_result"
    }
   ],
   "source": [
    "#Task 2\n",
    "import numpy as np\n",
    "\n",
    "def rotateleft(source, k):\n",
    "    arr = np.array(source)\n",
    "    length = arr.shape[0]\n",
    "    \n",
    "    k = k % length\n",
    "\n",
    "    temp = np.zeros(k, dtype=int)\n",
    "    for i in range(k):\n",
    "        temp[i] = arr[i]\n",
    "    \n",
    "    for i in range(k, length):\n",
    "        arr[i - k] = arr[i]\n",
    "    \n",
    "    for i in range(k):\n",
    "        arr[length - k + i] = temp[i]\n",
    "\n",
    "    return arr\n",
    "\n",
    "# Test the function\n",
    "rotateleft([10, 20, 30, 40, 50, 60, 70], 3)"
   ]
  },
  {
   "cell_type": "code",
   "execution_count": 154,
   "metadata": {},
   "outputs": [
    {
     "name": "stdout",
     "output_type": "stream",
     "text": [
      "[ 0  0  0 10 20 30]\n",
      "[ 0  0  0 10 20 30 40]\n"
     ]
    }
   ],
   "source": [
    "#Task 3 (shift right)\n",
    "import numpy as np\n",
    "\n",
    "def shiftright(source, k):\n",
    "    arr = np.array(source)\n",
    "    length = arr.shape[0]\n",
    "\n",
    "    for i in range(k,-1,-1):\n",
    "        if k+i < length:\n",
    "            arr[k+i] = arr[i]\n",
    "\n",
    "    for j in range(k):\n",
    "        arr[j] = 0\n",
    "\n",
    "    #return arr\n",
    "    print(arr)\n",
    "\n",
    "shiftright([10, 20, 30, 40, 50, 60], 3)\n",
    "shiftright([10, 20, 30, 40, 50, 60, 70], 3)"
   ]
  },
  {
   "cell_type": "code",
   "execution_count": 155,
   "metadata": {},
   "outputs": [
    {
     "name": "stdout",
     "output_type": "stream",
     "text": [
      "[ 0  0  0 10 20 30]\n",
      "[ 0  0  0 10 20 30 40]\n"
     ]
    }
   ],
   "source": [
    "#Task 3\n",
    "import numpy as np\n",
    "\n",
    "def shiftright(source, k):\n",
    "    arr = np.array(source)\n",
    "    length = arr.shape[0]\n",
    "    for i in range(k):\n",
    "        for j in range(length-1,-1,-1):\n",
    "            arr[j] = arr[j-1]\n",
    "        arr[0] = 0\n",
    "    \n",
    "    #return arr\n",
    "    print(arr)\n",
    "\n",
    "shiftright([10, 20, 30, 40, 50, 60], 3)\n",
    "shiftright([10, 20, 30, 40, 50, 60, 70], 3)"
   ]
  },
  {
   "cell_type": "code",
   "execution_count": 156,
   "metadata": {},
   "outputs": [
    {
     "data": {
      "text/plain": [
       "array([50, 60, 70, 10, 20, 30, 40])"
      ]
     },
     "execution_count": 156,
     "metadata": {},
     "output_type": "execute_result"
    }
   ],
   "source": [
    "#Task 4 (rotate right)\n",
    "import numpy as np\n",
    "\n",
    "def rotateright(source, k):\n",
    "    arr = np.array(source)\n",
    "    length = arr.shape[0]\n",
    "    \n",
    "    k = k % length\n",
    "\n",
    "    temp = np.zeros(k, dtype=int)\n",
    "    for i in range(k):\n",
    "        temp[i] = arr[length - k + i]\n",
    "    \n",
    "    for i in range(length - k - 1, -1, -1):\n",
    "        arr[i + k] = arr[i]\n",
    "    \n",
    "    for i in range(k):\n",
    "        arr[i] = temp[i]\n",
    "\n",
    "    return arr\n",
    "\n",
    "# Test the function\n",
    "rotateright([10, 20, 30, 40, 50, 60, 70], 3)"
   ]
  },
  {
   "cell_type": "markdown",
   "metadata": {},
   "source": [
    "Random Array Practice"
   ]
  },
  {
   "cell_type": "code",
   "execution_count": 157,
   "metadata": {},
   "outputs": [
    {
     "name": "stdout",
     "output_type": "stream",
     "text": [
      "[1 2 3 2 4 5 1 6 9 1 2 3 0 0 0 0]\n",
      "[ 1  3 12  0  0]\n"
     ]
    }
   ],
   "source": [
    "#move zeros to end without sorting (brute)\n",
    "\n",
    "import numpy as np\n",
    "\n",
    "def movezerostoend(source):\n",
    "    arr = np.array(source)\n",
    "    length = arr.shape[0]\n",
    "\n",
    "    temp = np.zeros(arr.size, dtype = int)\n",
    "\n",
    "    j = 0\n",
    "    k = length - 1\n",
    "    for i in range(length):\n",
    "        if arr[i] != 0:\n",
    "            temp[j] = arr[i]\n",
    "            j += 1\n",
    "        elif arr[i] == 0:\n",
    "            temp[k] = arr[i]\n",
    "            k -= 1\n",
    "    \n",
    "    print(temp)\n",
    "\n",
    "movezerostoend([1,0,2,3,2,0,0,4,5,1,6,9,0,1,2,3])\n",
    "movezerostoend([0,1,0,3,12])"
   ]
  },
  {
   "cell_type": "code",
   "execution_count": 158,
   "metadata": {},
   "outputs": [
    {
     "name": "stdout",
     "output_type": "stream",
     "text": [
      "[1 2 3 2 4 5 1 6 9 1 2 3 0 0 0 0]\n",
      "[ 1  3 12  0  0]\n"
     ]
    }
   ],
   "source": [
    "#move zeros to end without sorting (optimal)\n",
    "import numpy as np\n",
    "\n",
    "def movezerostoend(source):\n",
    "    arr = np.array(source)\n",
    "    length = arr.shape[0]\n",
    "\n",
    "    j = -1\n",
    "    for i in range(length):\n",
    "        if arr[i] == 0:\n",
    "            j = i\n",
    "            break\n",
    "\n",
    "    if j == -1: return arr\n",
    "\n",
    "    for i in range(j+1, length):\n",
    "        if arr[i] != 0:\n",
    "            arr[i], arr[j] = arr[j], arr[i]\n",
    "            j += 1\n",
    "\n",
    "    print(arr)\n",
    "\n",
    "movezerostoend([1,0,2,3,2,0,0,4,5,1,6,9,0,1,2,3])\n",
    "movezerostoend([0,1,0,3,12])"
   ]
  },
  {
   "cell_type": "markdown",
   "metadata": {},
   "source": [
    "Linked List"
   ]
  },
  {
   "cell_type": "markdown",
   "metadata": {},
   "source": [
    "Singly Linked List"
   ]
  },
  {
   "cell_type": "markdown",
   "metadata": {},
   "source": [
    "set of codes to create nodes, linked list, and printing a linked list"
   ]
  },
  {
   "cell_type": "code",
   "execution_count": 159,
   "metadata": {},
   "outputs": [],
   "source": [
    "#Run this cell\n",
    "import numpy as np\n",
    "\n",
    "class Node:\n",
    "  def __init__(self,elem,next = None):\n",
    "    self.elem,self.next = elem,next\n",
    "\n",
    "def createList(arr):\n",
    "  head = Node(arr[0])\n",
    "  tail = head\n",
    "  for i in range(1,len(arr)):\n",
    "    newNode = Node(arr[i])\n",
    "    tail.next = newNode\n",
    "    tail = newNode\n",
    "  return head\n",
    "\n",
    "def printLinkedList(head):\n",
    "  temp = head\n",
    "  while temp != None:\n",
    "    if temp.next != None:\n",
    "      print(temp.elem, end = '-->')\n",
    "    else:\n",
    "      print(temp.elem)\n",
    "    temp = temp.next\n",
    "  print()"
   ]
  },
  {
   "cell_type": "code",
   "execution_count": 160,
   "metadata": {},
   "outputs": [
    {
     "name": "stdout",
     "output_type": "stream",
     "text": [
      "10 20 30\n"
     ]
    }
   ],
   "source": [
    "#Understanding and printing singly linked list (manual)\n",
    "class Node:\n",
    "    def __init__(self, elem, next = None):\n",
    "        self.elem = elem\n",
    "        self.next = next\n",
    "\n",
    "a = Node(10)\n",
    "b = Node(20)\n",
    "c = Node(30)\n",
    "\n",
    "a.next = b\n",
    "b.next = c\n",
    "c.next = None #not necessary\n",
    "\n",
    "def printLL(head): #notice that we are calling the address from head, not the element\n",
    "    temp = head #good practice as head is the only info we have about LL\n",
    "    print(temp.elem, end = \" \") #address of the node we called & .ELEM to access the value\n",
    "    temp = temp.next\n",
    "    print(temp.elem, end = \" \")\n",
    "    temp = temp.next\n",
    "    print(temp.elem)\n",
    "\n",
    "printLL(a)"
   ]
  },
  {
   "cell_type": "code",
   "execution_count": 38,
   "metadata": {},
   "outputs": [
    {
     "name": "stdout",
     "output_type": "stream",
     "text": [
      "10 20 30 40 50 "
     ]
    }
   ],
   "source": [
    "#printing singly linked list (using loops)\n",
    "class Node:\n",
    "    def __init__(self, elem, next = None):\n",
    "        self.elem = elem\n",
    "        self.next = next\n",
    "\n",
    "a = Node(10)\n",
    "b = Node(20)\n",
    "c = Node(30)\n",
    "d = Node(40)\n",
    "e = Node(50)\n",
    "\n",
    "a.next = b\n",
    "b.next = c\n",
    "c.next = d\n",
    "d.next = e\n",
    "\n",
    "def printLL(head):\n",
    "    temp = head\n",
    "\n",
    "    while temp != None:\n",
    "        print(temp.elem, end = \" \")\n",
    "        temp = temp.next\n",
    "\n",
    "printLL(a)"
   ]
  },
  {
   "cell_type": "code",
   "execution_count": 162,
   "metadata": {},
   "outputs": [
    {
     "name": "stdout",
     "output_type": "stream",
     "text": [
      "10 20 100 40 50 60 70 "
     ]
    }
   ],
   "source": [
    "#AHU Basics\n",
    "import numpy as np\n",
    "\n",
    "arr = np.array([10, 20, 30, 40, 50, 60, 70])\n",
    "\n",
    "class Node:\n",
    "    def __init__(self, elem, next = None):\n",
    "        self.elem = elem\n",
    "        self.next = next\n",
    "\n",
    "def createLL(array):\n",
    "    head = Node(arr[0])\n",
    "    tail = head\n",
    "\n",
    "    for i in range(1, len(arr)):\n",
    "        new_node = Node(arr[i])\n",
    "        tail.next = new_node\n",
    "        tail = new_node\n",
    "    return head\n",
    "\n",
    "def printLL(head):\n",
    "    temp = head\n",
    "    \n",
    "    while temp != None:\n",
    "        print(temp.elem, end = \" \")\n",
    "        temp = temp.next\n",
    "\n",
    "x = createLL(arr)\n",
    "#printLL(x)\n",
    "\n",
    "def insert(head, position, new_val):\n",
    "    temp = head\n",
    "    count = 0\n",
    "    while temp != None:\n",
    "        if count == position:\n",
    "            new_node = Node(new_val)\n",
    "            new_node.next = temp.next\n",
    "            temp.next = new_node\n",
    "            return head\n",
    "        count += 1\n",
    "        temp = temp.next\n",
    "\n",
    "y = insert(x, 2, 100)\n",
    "#printLL(x)\n",
    "\n",
    "def remove(head, position):\n",
    "    temp = head\n",
    "    count = 0\n",
    "    while temp != None:\n",
    "        if count == position - 1:\n",
    "            x = temp.next #not mandatory\n",
    "            temp.next = temp.next.next\n",
    "            x.next = None #not mandatory\n",
    "        count += 1\n",
    "        temp = temp.next\n",
    "\n",
    "z = remove(x, 2)\n",
    "printLL(x)\n"
   ]
  },
  {
   "cell_type": "markdown",
   "metadata": {},
   "source": [
    "Reverse a Singly Linked List"
   ]
  },
  {
   "cell_type": "code",
   "execution_count": 163,
   "metadata": {},
   "outputs": [
    {
     "name": "stdout",
     "output_type": "stream",
     "text": [
      "2-->2-->3-->0\n",
      "\n"
     ]
    }
   ],
   "source": [
    "def reverse_LL(head1):\n",
    "  new_head = Node(head1.elem)\n",
    "  temp = head1.next\n",
    "\n",
    "  while temp != None:\n",
    "    n = Node(temp.elem, new_head)\n",
    "    new_head = n\n",
    "    temp = temp.next\n",
    "\n",
    "  return new_head\n",
    "\n",
    "head1 = createList(np.array([0,3,2,2]))\n",
    "x = reverse_LL(head1)\n",
    "printLinkedList(x)"
   ]
  },
  {
   "cell_type": "markdown",
   "metadata": {},
   "source": [
    "Random Singly Linked List Practice"
   ]
  },
  {
   "cell_type": "markdown",
   "metadata": {},
   "source": [
    "Practice (AHU)\n",
    "\n",
    "1. count\n",
    "\n",
    "2. min/max\n",
    "\n",
    "3. avg\n",
    "\n",
    "4. search\n",
    "\n",
    "5. value given, add after its position\n",
    "\n",
    "6. value given, remove the node with that value"
   ]
  },
  {
   "cell_type": "code",
   "execution_count": 164,
   "metadata": {},
   "outputs": [
    {
     "name": "stdout",
     "output_type": "stream",
     "text": [
      "10 20 30 40 50 60 70 \n",
      "length: 7 sum: 280 average: 40.0 min: 10, max: 70\n",
      "10 20 100 30 40 50 60 70 \n",
      "10 20 100 40 50 60 70 "
     ]
    }
   ],
   "source": [
    "import numpy as np\n",
    "\n",
    "arr = np.array([10, 20, 30, 40, 50, 60, 70])\n",
    "\n",
    "class Node:\n",
    "    def __init__(self, elem, next = None):\n",
    "        self.elem = elem\n",
    "        self.next = next\n",
    "\n",
    "def createLL(array):\n",
    "    head = Node(arr[0])\n",
    "    tail = head\n",
    "    for i in range(1, len(arr)):\n",
    "        new_node = Node(arr[i])\n",
    "        tail.next = new_node\n",
    "        tail = new_node\n",
    "    return head\n",
    "\n",
    "def basics(head):\n",
    "    temp = head\n",
    "    count = 0\n",
    "    sum = 0\n",
    "    avg = int()\n",
    "    while temp != None:\n",
    "        count += 1\n",
    "        sum += temp.elem\n",
    "        temp = temp.next\n",
    "    \n",
    "    avg = sum/count\n",
    "\n",
    "    new_temp = head\n",
    "\n",
    "    min = float('inf')\n",
    "    max = float('-inf')\n",
    "    while new_temp != None:\n",
    "        if new_temp.elem < min:\n",
    "            min = new_temp.elem\n",
    "        \n",
    "        if new_temp.elem > max:\n",
    "            max = new_temp.elem\n",
    "\n",
    "        new_temp = new_temp.next\n",
    "\n",
    "    return f\"length: {count} sum: {sum} average: {avg} min: {min}, max: {max}\"\n",
    "\n",
    "def insertfor(head, value, new_data):\n",
    "    temp = head\n",
    "    while temp != None:\n",
    "        if temp.elem == value:\n",
    "            new_data = Node(new_data)\n",
    "            new_data.next = temp.next\n",
    "            temp.next = new_data\n",
    "            break\n",
    "        temp = temp.next\n",
    "\n",
    "def removeit(head, value):\n",
    "    temp = head\n",
    "    while temp != None:\n",
    "        if temp.next.elem == value:\n",
    "            n = temp.next.next\n",
    "            temp.next = n\n",
    "            break #loop will collapse if I don't use break\n",
    "        temp = temp.next\n",
    "\n",
    "\n",
    "def printLL(head):\n",
    "    temp = head\n",
    "    while temp != None:\n",
    "        print(temp.elem, end = \" \")\n",
    "        temp = temp.next\n",
    "\n",
    "x = createLL(arr)\n",
    "printLL(x)\n",
    "print()\n",
    "print(basics(x))\n",
    "insertfor(x, 20, 100)\n",
    "printLL(x)\n",
    "removeit(x, 30)\n",
    "print()\n",
    "printLL(x)"
   ]
  },
  {
   "cell_type": "markdown",
   "metadata": {},
   "source": [
    "Doubly Linked List"
   ]
  },
  {
   "cell_type": "markdown",
   "metadata": {},
   "source": [
    "set of codes to create doubly nodes, doubly linked list, and printing a  doubly linked list"
   ]
  },
  {
   "cell_type": "code",
   "execution_count": 165,
   "metadata": {},
   "outputs": [],
   "source": [
    "#Run this cell\n",
    "import numpy as np\n",
    "\n",
    "class Node:\n",
    "    def __init__(self, elem, next = None, prev = None):\n",
    "        self.elem = elem\n",
    "        self.next = next\n",
    "        self.prev = prev\n",
    "\n",
    "def create_DLL(arr):\n",
    "    dh = Node(None)\n",
    "    dh.next = dh\n",
    "    dh.prev = dh\n",
    "    for i in range(len(arr)):\n",
    "        new_node = Node(arr[i])\n",
    "        dh.prev.next = new_node\n",
    "        new_node.prev = dh.prev\n",
    "        new_node.next = dh\n",
    "        dh.prev = new_node\n",
    "    return dh\n",
    "\n",
    "def print_DLL(dh):\n",
    "    temp = dh.next\n",
    "    while temp.elem != None:\n",
    "        print(temp.elem, end = \" -> \")\n",
    "        temp = temp.next\n",
    "    return"
   ]
  },
  {
   "cell_type": "markdown",
   "metadata": {},
   "source": [
    "Reversing a Doubly Linked List"
   ]
  },
  {
   "cell_type": "code",
   "execution_count": 166,
   "metadata": {},
   "outputs": [
    {
     "name": "stdout",
     "output_type": "stream",
     "text": [
      "50 -> 40 -> 30 -> 20 -> 10 -> "
     ]
    }
   ],
   "source": [
    "#Approach 1\n",
    "def reverse_DLL(dh):\n",
    "    dh1 = Node(None)\n",
    "    dh1.next = dh1\n",
    "    dh1.prev = dh1\n",
    "\n",
    "    temp = dh.next\n",
    "    while temp.elem != None:\n",
    "        new_node = Node(temp.elem)\n",
    "        new_node.next = dh1.next\n",
    "        new_node.prev = dh1\n",
    "        dh1.next.prev = new_node\n",
    "        dh1.next = new_node\n",
    "        temp = temp.next\n",
    "    return dh1\n",
    "\n",
    "p = create_DLL(np.array([10,20,30,40,50]))\n",
    "p2 = reverse_DLL(p)\n",
    "print_DLL(p2)"
   ]
  },
  {
   "cell_type": "code",
   "execution_count": 167,
   "metadata": {},
   "outputs": [
    {
     "name": "stdout",
     "output_type": "stream",
     "text": [
      "50 -> 40 -> 30 -> 20 -> 10 -> "
     ]
    }
   ],
   "source": [
    "#Approach 2 (in-place swapping)\n",
    "def length(dh):\n",
    "    count = 1\n",
    "    temp = dh.next\n",
    "    while temp.elem != None:\n",
    "        count += 1\n",
    "        temp = temp.next\n",
    "    return count\n",
    "\n",
    "def reverse_DLL(dh):\n",
    "    size = length(dh)\n",
    "    a= dh.next\n",
    "    b = dh.prev\n",
    "    for i in range(size//2):\n",
    "        a.elem, b.elem = b.elem, a.elem\n",
    "        a = a.next\n",
    "        b = b.prev\n",
    "    return dh\n",
    "\n",
    "p = create_DLL(np.array([10,20,30,40,50]))\n",
    "p2 = reverse_DLL(p)\n",
    "print_DLL(p2)"
   ]
  },
  {
   "cell_type": "markdown",
   "metadata": {},
   "source": [
    "Random Doubly Linked List Practice"
   ]
  },
  {
   "cell_type": "markdown",
   "metadata": {},
   "source": [
    "Stack"
   ]
  },
  {
   "cell_type": "markdown",
   "metadata": {},
   "source": [
    "set of codes to create Stack, push, pop, peek and check if an stack is empty, and print a stack"
   ]
  },
  {
   "cell_type": "code",
   "execution_count": 174,
   "metadata": {},
   "outputs": [],
   "source": [
    "#Run this cell\n",
    "class Node:\n",
    "  def __init__(self,elem=None,next=None):\n",
    "    self.elem = elem\n",
    "    self.next = next\n",
    "\n",
    "class Stack:\n",
    "  def __init__(self):\n",
    "    self.__top = None\n",
    "\n",
    "  def push(self,elem):\n",
    "    nn = Node(elem,self.__top)\n",
    "    self.__top = nn\n",
    "\n",
    "  def pop(self):\n",
    "    if self.__top == None:\n",
    "      #print('Stack Underflow')\n",
    "      return None\n",
    "    e = self.__top\n",
    "    self.__top = self.__top.next\n",
    "    return e.elem\n",
    "\n",
    "  def peek(self):\n",
    "    if self.__top == None:\n",
    "      #print('Stack Underflow')\n",
    "      return None\n",
    "    return self.__top.elem\n",
    "\n",
    "  def isEmpty(self):\n",
    "    return self.__top == None\n",
    "\n",
    "def print_stack(st):\n",
    "  if st.isEmpty():\n",
    "    return\n",
    "  p = st.pop()\n",
    "  print('|',p,end=' ')\n",
    "  if p<10:\n",
    "    print(' |')\n",
    "  else:\n",
    "    print('|')\n",
    "  #print('------')\n",
    "  print_stack(st)\n",
    "  st.push(p)"
   ]
  },
  {
   "cell_type": "code",
   "execution_count": 26,
   "metadata": {},
   "outputs": [],
   "source": [
    "#Stack Implementation\n",
    "class Node:\n",
    "  def __init__(self,elem=None,next=None):\n",
    "    self.elem = elem\n",
    "    self.next = next\n",
    "    \n",
    "class Stack:\n",
    "    def __init__(self):\n",
    "        self.top = None\n",
    "    \n",
    "    def push(self, value):\n",
    "        n = Node(value, None)\n",
    "        n.next = self.top\n",
    "        self.top = n\n",
    "    \n",
    "    def pop(self):\n",
    "        if self.top == None:\n",
    "            return None\n",
    "        else:\n",
    "            temp = self.top\n",
    "            self.top = top.next\n",
    "            temp.next = None\n",
    "            return temp.element\n",
    "        \n",
    "    def peek(self):\n",
    "        if self.top == None:\n",
    "            return None\n",
    "        else:\n",
    "            return self.top.element\n",
    "        \n",
    "    def isEmpty(self):\n",
    "        if self.top == None:\n",
    "            return True\n",
    "        else:\n",
    "            return False"
   ]
  },
  {
   "cell_type": "markdown",
   "metadata": {},
   "source": [
    "Random Stack Practice"
   ]
  },
  {
   "cell_type": "code",
   "execution_count": null,
   "metadata": {},
   "outputs": [],
   "source": [
    "#Counting and Reversing a Stack\n",
    "def length(stack):\n",
    "    r_stack = Stack()\n",
    "    count = 0\n",
    "\n",
    "    while stack.isEmpty() == False:\n",
    "        x = stack.pop()\n",
    "        r_stack.push(x)\n",
    "        count += 1\n",
    "    \n",
    "    print(f\"Length of stack: {count}\")\n",
    "    return r_stack\n",
    "\n",
    "#driver code\n",
    "st = Stack()\n",
    "st.push(1)\n",
    "st.push(2)\n",
    "st.push(3)\n",
    "st.push(4)\n",
    "st.push(5)\n",
    "st.push(6)\n",
    "st.push(7)\n",
    "st.push(8)\n",
    "\n",
    "print(\"Original Stack:\")\n",
    "print_stack(st)\n",
    "print()\n",
    "size_reverse = length(st)\n",
    "print()\n",
    "print(\"Reversed Stack:\")\n",
    "print_stack(size_reverse)"
   ]
  },
  {
   "cell_type": "markdown",
   "metadata": {},
   "source": [
    "Mid Prep (24.11.2024)"
   ]
  },
  {
   "cell_type": "markdown",
   "metadata": {},
   "source": [
    "Spring'24"
   ]
  },
  {
   "cell_type": "code",
   "execution_count": null,
   "metadata": {},
   "outputs": [],
   "source": [
    "#Question 1(i)\n",
    "import numpy as np\n",
    "def indexfinder(arr):\n",
    "\n",
    "        row_count = arr.shape[0]\n",
    "        col_count = arr.shape[1]\n",
    "        dim_count = arr.shape[2]\n",
    "\n",
    "        count = 0\n",
    "        \n",
    "        for row in range(row_count):\n",
    "                for col in range(col_count):\n",
    "                        for dim in range(dim_count):\n",
    "                                if row == 2 and col == 1 and dim == 0:\n",
    "                                        return count\n",
    "                                else:\n",
    "                                        count += 1\n",
    "\n",
    "arr = np.array([[[ 86, 100,  67,  23],\n",
    "        [ 28,  29,  96,  19],\n",
    "        [ 24,  24,  55,   4],\n",
    "        [ 59,  36,  27,  63],\n",
    "        [ 85,  77,  44,  47]],\n",
    "\n",
    "       [[ 89,  15,  44,  18],\n",
    "        [ 22,  27,  28,  24],\n",
    "        [ 85,  52, 100,  43],\n",
    "        [ 68,  83,  64,  33],\n",
    "        [ 64, 100,  25,  77]],\n",
    "\n",
    "       [[ 13,  33,   4,  27],\n",
    "        [ 14,  15,  36,  35],\n",
    "        [ 84,  29,  19,   2],\n",
    "        [ 27, 100,  31,  80],\n",
    "        [ 54,  12,   8,  97]],\n",
    "\n",
    "       [[ 48,  48,   9,  45],\n",
    "        [ 52,  86,  52,  89],\n",
    "        [ 14,   4,  80,  39],\n",
    "        [ 44,  19,  86,  60],\n",
    "        [ 42,  39,  70,  10]]])\n",
    "\n",
    "indexfinder(arr)"
   ]
  },
  {
   "cell_type": "code",
   "execution_count": null,
   "metadata": {},
   "outputs": [],
   "source": [
    "#Question 1(ii)\n",
    "import numpy as np\n",
    "def sum_diff(matrix):\n",
    "    arr = matrix\n",
    "\n",
    "    row_count = arr.shape[0]\n",
    "    col_count = arr.shape[1]\n",
    "\n",
    "    sum1 = 0\n",
    "    sum2 = 0\n",
    "    sum3 = 0\n",
    "    \n",
    "    for col in range(col_count):\n",
    "        for row in range(row_count):\n",
    "            if col == 0:\n",
    "                sum1 += arr[row][col]\n",
    "            if col == 1:\n",
    "                sum2 += arr[row][col]\n",
    "            if col == 2:\n",
    "                sum3 += arr[row][col]\n",
    "\n",
    "    idx1 = sum2 - sum1\n",
    "    idx2 = sum3 - sum2\n",
    "\n",
    "    result = np.array((idx1, idx2))\n",
    "\n",
    "    return result\n",
    "\n",
    "matrix=np.array([[1,3,1],\n",
    "                 [6,4,2],\n",
    "                 [5,1,7],\n",
    "                 [9,3,3],\n",
    "                 [8,5,4]\n",
    "                 ])\n",
    "sum_diff(matrix)"
   ]
  },
  {
   "cell_type": "code",
   "execution_count": null,
   "metadata": {},
   "outputs": [],
   "source": [
    "#Question 2\n",
    "def IsSumPossible(head, n):\n",
    "    temp = head\n",
    "\n",
    "    while temp.next != None:\n",
    "        first_p = temp\n",
    "        second_p = temp.next\n",
    "\n",
    "        while second_p != None:\n",
    "            if first_p.elem + second_p.elem == n:\n",
    "                return True\n",
    "            second_p = second_p.next\n",
    "\n",
    "        temp = temp.next\n",
    "\n",
    "    return False\n",
    "\n",
    "head = createList(np.array([1,2,3,4,5]))\n",
    "x = IsSumPossible(head, 7)\n",
    "print(x)\n",
    "\n",
    "head = createList(np.array([1,2,4,5,6]))\n",
    "y = IsSumPossible(head, 4)\n",
    "print(y)\n",
    "\n",
    "head = createList(np.array([5]))\n",
    "z = IsSumPossible(head, 5)\n",
    "print(z)"
   ]
  },
  {
   "cell_type": "markdown",
   "metadata": {},
   "source": [
    "Summer'24"
   ]
  },
  {
   "cell_type": "code",
   "execution_count": null,
   "metadata": {},
   "outputs": [],
   "source": [
    "#Quesion 1(i)\n",
    "def indexfinder(arr):\n",
    "    row_count = arr.shape[0]\n",
    "    col_count = arr.shape[1]\n",
    "    dim1_count = arr.shape[2]\n",
    "    dim2_count = arr.shape[3]\n",
    "    count = 0\n",
    "\n",
    "    for row in range(row_count):\n",
    "        for col in range(col_count):\n",
    "            for dim1 in range(dim1_count):\n",
    "                for dim2 in range(dim2_count):\n",
    "                    if row == 2 and col == 1 and dim1 == 0 and dim2 == 4:\n",
    "                        return count\n",
    "                    else:\n",
    "                        count += 1\n",
    "\n",
    "\n",
    "arr = np.zeros((4,3,2,6), dtype = int)\n",
    "indexfinder(arr)"
   ]
  },
  {
   "cell_type": "code",
   "execution_count": null,
   "metadata": {},
   "outputs": [],
   "source": [
    "#Question 1(ii)\n",
    "def rotate(arr):\n",
    "    row_count = arr.shape[0]\n",
    "    col_count = arr.shape[1]\n",
    "    i = row_count - 1\n",
    "    j = 0\n",
    "    for row in range(row_count):\n",
    "        for col in range(col_count):\n",
    "            if col == col_count -1:\n",
    "                arr[i][j], arr[row][col] = arr[row][col], arr[i][j]\n",
    "            j += 1\n",
    "        j =  0\n",
    "\n",
    "    return arr\n",
    "\n",
    "arr = np.array(\n",
    "    ([1,2,3],\n",
    "    [5,6,7],\n",
    "    [9,10,11])\n",
    "    )\n",
    "\n",
    "rotate(arr)"
   ]
  },
  {
   "cell_type": "code",
   "execution_count": null,
   "metadata": {},
   "outputs": [],
   "source": [
    "#Question 1(ii)\n",
    "import numpy as np\n",
    "\n",
    "def rotate(mat):\n",
    "    row=mat.shape[0]\n",
    "    column=mat.shape[1]\n",
    "\n",
    "    for i in range(row-1):\n",
    "         temp=mat[0][0]\n",
    "         r=0\n",
    "         c=0\n",
    "         while c<column-1:\n",
    "              mat[r][c]=mat[r][c+1]\n",
    "              c+=1\n",
    "         while r<row-1:\n",
    "              mat[r][c]=mat[r+1][c]\n",
    "              r+=1\n",
    "         while c>0:\n",
    "              mat[r][c]=mat[r][c-1]\n",
    "              c-=1\n",
    "         while r>0:\n",
    "              mat[r][c]=mat[r-1][c]\n",
    "              r-=1\n",
    "         \n",
    "         mat[1][0]=temp\n",
    "         \n",
    "    return mat\n",
    "\n",
    "mat=np.array([[1,2,3,4],[5,6,7,8],[9,10,11,12],[13,14,15,16]]) \n",
    "print(rotate(mat))"
   ]
  },
  {
   "cell_type": "code",
   "execution_count": null,
   "metadata": {},
   "outputs": [],
   "source": [
    "#Question 2\n",
    "def remove_Duplicates(head):\n",
    "    temp = head\n",
    "\n",
    "    while temp != None:\n",
    "        first_p = temp\n",
    "        second_p = temp.next\n",
    "        while second_p != None:\n",
    "            if second_p.elem == temp.elem:\n",
    "                first_p.next = second_p.next\n",
    "            else:\n",
    "                first_p = second_p\n",
    "            second_p = second_p.next\n",
    "        temp = temp.next\n",
    "\n",
    "    return head\n",
    "\n",
    "head = createList(np.array([101,103,101,102,103,104,105,105]))\n",
    "x = remove_Duplicates(head)\n",
    "printLinkedList(x)"
   ]
  },
  {
   "cell_type": "code",
   "execution_count": null,
   "metadata": {},
   "outputs": [],
   "source": [
    "#Question 3(i)\n",
    "def Do_Adjacent_Swap(stack):\n",
    "    count = 0\n",
    "    st2 = Stack()\n",
    "\n",
    "    while stack.isEmpty() == False:\n",
    "        x = stack.pop()\n",
    "        st2.push(x)     #st2.push(stack.pop())\n",
    "        count += 1\n",
    "\n",
    "    for i in range(count//2):\n",
    "        x = st2.pop()\n",
    "        y = st2.pop()\n",
    "        st.push(y)\n",
    "        st.push(x)\n",
    "\n",
    "    if count % 2 != 0: #for odd case scenario\n",
    "        st.push(st2.pop())\n",
    "    \n",
    "    return st\n",
    "\n",
    "#driver code\n",
    "st = Stack()\n",
    "st.push(1)\n",
    "st.push(2)\n",
    "st.push(3)\n",
    "st.push(4)\n",
    "st.push(5)\n",
    "st.push(6)\n",
    "st.push(7)\n",
    "st.push(8)\n",
    "st.push(9)\n",
    "\n",
    "print(\"Original Stack:\")\n",
    "print_stack(st)\n",
    "print(\"Stack after operating\")\n",
    "op = Do_Adjacent_Swap(st)\n",
    "print_stack(op)"
   ]
  },
  {
   "cell_type": "markdown",
   "metadata": {},
   "source": [
    "Fall'23"
   ]
  },
  {
   "cell_type": "code",
   "execution_count": null,
   "metadata": {},
   "outputs": [],
   "source": [
    "#Question 1(i)\n",
    "import numpy as np\n",
    "\n",
    "lst = ([[[5, 1, 5],\n",
    "        [5, 3, 4],\n",
    "        [7, 4, 6],\n",
    "        [1, 5, 4],\n",
    "        [8, 8, 5]],\n",
    "\n",
    "       [[8, 7, 5],\n",
    "        [4, 2, 8],\n",
    "        [1, 9, 1],\n",
    "        [2, 3, 9],\n",
    "        [7, 4, 1]],\n",
    "\n",
    "       [[9, 6, 3],\n",
    "        [7, 9, 0],\n",
    "        [4, 8, 2],\n",
    "        [4, 4, 1],\n",
    "        [6, 9, 5]],\n",
    "\n",
    "       [[8, 5, 9],\n",
    "        [8, 2, 5],\n",
    "        [3, 8, 1],\n",
    "        [8, 5, 9],\n",
    "        [8, 6, 9]],\n",
    "\n",
    "       [[2, 4, 2],\n",
    "        [9, 8, 7],\n",
    "        [2, 6, 8],\n",
    "        [1, 5, 0],\n",
    "        [4, 7, 8]]])\n",
    "\n",
    "arr = np.array(lst)\n",
    "\n",
    "count = 0\n",
    "\n",
    "for row in range(arr.shape[0]):\n",
    "    for col in range(arr.shape[1]):\n",
    "        for dim in range(arr.shape[2]):\n",
    "            if count == 65: #we've been told to find 65th\n",
    "                print(f\"multidimensional index is: ({row}, {col}, {dim})\")\n",
    "            count += 1"
   ]
  },
  {
   "cell_type": "code",
   "execution_count": null,
   "metadata": {},
   "outputs": [],
   "source": [
    "#Question 1(ii)\n",
    "import numpy as np\n",
    "\n",
    "def compress_matrix(matrix):\n",
    "    arr = matrix\n",
    "    result = np.zeros((2,2), dtype = int)\n",
    "    \n",
    "    i = 0\n",
    "    j = 0\n",
    "    for r in range(0,arr.shape[0],2):\n",
    "        for c in range(0,arr.shape[1],2):\n",
    "            result[i][j] = arr[r][c] + arr[r+1][c] + arr[r][c+1] + arr[r+1][c+1]\n",
    "            j += 1\n",
    "        i = 1\n",
    "        j = 0\n",
    "    return result \n",
    "\n",
    "\n",
    "matrix=np.array([[1,2,3,4],\n",
    "                 [5,6,7,8],\n",
    "                 [1,3,5,2],\n",
    "                 [-2,0,6,-3]\n",
    "                 ])\n",
    "compress_matrix(matrix)"
   ]
  },
  {
   "cell_type": "markdown",
   "metadata": {},
   "source": [
    "Question 2(i)\n",
    "\n",
    "Two disadvantages of Linked Lists compared to Arrays:\n",
    "1. Higher Memory Overhead:\n",
    "Linked Lists require extra memory for the pointers (or references) used to link nodes together. This additional storage can make them less memory-efficient compared to arrays, where no such overhead exists.\n",
    "\n",
    "2. Sequential Access:\n",
    "Linked Lists do not support random access, so accessing an element requires traversing the list from the beginning (or end, for a doubly linked list). This makes operations like accessing the n-th element slower (O(n)) compared to arrays, where access is O(1)."
   ]
  },
  {
   "cell_type": "code",
   "execution_count": null,
   "metadata": {},
   "outputs": [],
   "source": [
    "#Question 2 (ii)\n",
    "def pairwiseEqual(h1, h2):\n",
    "    temp_1 = h1\n",
    "\n",
    "    length = 0\n",
    "    while temp_1 != None:\n",
    "        length += 1\n",
    "        temp_1 = temp_1.next\n",
    "\n",
    "    position = 0\n",
    "\n",
    "    temp_1 = h1\n",
    "    temp_2 = h2\n",
    "\n",
    "    while temp_1 != None and temp_2 != None:\n",
    "        if position % 2 == 0:\n",
    "                    x, y = temp_1.elem, temp_1.next.elem\n",
    "                    p, q = temp_2.elem, temp_2.next.elem\n",
    "                    if x+y != p+q: return False\n",
    "        position += 1\n",
    "        temp_1 = temp_1.next\n",
    "        temp_2 = temp_2.next\n",
    "\n",
    "    return True\n",
    "\n",
    "h1 = createList(np.array([10,15,34,41]))\n",
    "h2 = createList(np.array([15,10,34,41]))\n",
    "x = pairwiseEqual(h1, h2)\n",
    "print(x)\n",
    "h1 = createList(np.array([10,15,34,42]))\n",
    "h2 = createList(np.array([15,10,34,41]))\n",
    "y = pairwiseEqual(h1, h2)\n",
    "print(y)"
   ]
  },
  {
   "cell_type": "code",
   "execution_count": null,
   "metadata": {},
   "outputs": [
    {
     "name": "stdout",
     "output_type": "stream",
     "text": [
      "Original Stack:\n",
      "| 50 |\n",
      "| 10 |\n",
      "| 30 |\n",
      "| 20 |\n",
      "| 20 |\n",
      "| 10 |\n",
      "| 10 |\n",
      "Conditionally Reversed Stack:\n",
      "| 10 |\n",
      "| 20 |\n",
      "| 30 |\n",
      "| 10 |\n",
      "| 50 |\n"
     ]
    }
   ],
   "source": [
    "#Question 3(ii)\n",
    "def conditional_reverse(stack):\n",
    "    r_stack = Stack() \n",
    "    while stack.isEmpty() == False:\n",
    "        x = stack.pop()\n",
    "        if r_stack.isEmpty == True or x != r_stack.peek():\n",
    "            r_stack.push(x)\n",
    "\n",
    "    return r_stack\n",
    "\n",
    "#driver code\n",
    "st = Stack()\n",
    "st.push(10)\n",
    "st.push(10)\n",
    "st.push(20)\n",
    "st.push(20)\n",
    "st.push(30)\n",
    "st.push(10)\n",
    "st.push(50)\n",
    "\n",
    "print(\"Original Stack:\")\n",
    "print_stack(st)\n",
    "print(\"Conditionally Reversed Stack:\")\n",
    "r_stack = conditional_reverse(st)\n",
    "print_stack(r_stack)"
   ]
  },
  {
   "cell_type": "markdown",
   "metadata": {},
   "source": [
    "Queue"
   ]
  },
  {
   "cell_type": "markdown",
   "metadata": {},
   "source": [
    "set of codes to create queue, enqueue, dequeue and print a queue"
   ]
  },
  {
   "cell_type": "code",
   "execution_count": 3,
   "metadata": {},
   "outputs": [],
   "source": [
    "class Node:\n",
    "    def __init__(self, elem=None, next=None):\n",
    "        self.elem = elem\n",
    "        self.next = next\n",
    "\n",
    "class Queue:\n",
    "    def __init__(self):\n",
    "        self.__front = None\n",
    "        self.__rear = None\n",
    "\n",
    "    def enqueue(self, elem):\n",
    "        nn = Node(elem)\n",
    "        if self.__rear is None:  # Queue is empty\n",
    "            self.__front = self.__rear = nn\n",
    "        else:\n",
    "            self.__rear.next = nn\n",
    "            self.__rear = nn\n",
    "\n",
    "    def dequeue(self):\n",
    "        if self.__front is None:  # Queue is empty\n",
    "            # print('Queue Underflow')\n",
    "            return None\n",
    "        e = self.__front\n",
    "        self.__front = self.__front.next\n",
    "        if self.__front is None:  # If queue becomes empty after dequeue\n",
    "            self.__rear = None\n",
    "        return e.elem\n",
    "\n",
    "    def peek(self):\n",
    "        if self.__front is None:  # Queue is empty\n",
    "            # print('Queue Underflow')\n",
    "            return None\n",
    "        return self.__front.elem\n",
    "\n",
    "    def isEmpty(self):\n",
    "        return self.__front is None\n",
    "\n",
    "def print_queue(q):\n",
    "    if q.isEmpty():\n",
    "        return\n",
    "    e = q.dequeue()\n",
    "    print('|', e, end=' ')\n",
    "    if e < 10:\n",
    "        print(' |')\n",
    "    else:\n",
    "        print('|')\n",
    "    print_queue(q)\n",
    "    q.enqueue(e)"
   ]
  },
  {
   "cell_type": "markdown",
   "metadata": {},
   "source": [
    "Post-Mid"
   ]
  },
  {
   "cell_type": "markdown",
   "metadata": {},
   "source": [
    "Hash Functions, Sets, & Maps"
   ]
  },
  {
   "cell_type": "markdown",
   "metadata": {},
   "source": [
    "Trees, Binary Trees, Binary Search Trees"
   ]
  },
  {
   "cell_type": "markdown",
   "metadata": {},
   "source": [
    "set of codes to create Binary Tree Nodes, preorder, inorder and postorder traversals, and constructing a tree from an array"
   ]
  },
  {
   "cell_type": "code",
   "execution_count": 1,
   "metadata": {},
   "outputs": [],
   "source": [
    "class BTNode:\n",
    "  def __init__(self, elem):\n",
    "    self.elem = elem\n",
    "    self.right = None\n",
    "    self.left = None\n",
    "\n",
    "def preorder(root):\n",
    "  if root == None:\n",
    "    return\n",
    "  \n",
    "  print(root.elem, end = ' ')\n",
    "  preorder(root.left)\n",
    "  preorder(root.right)\n",
    "\n",
    "def inorder(root):\n",
    "  if root == None:\n",
    "    return\n",
    "\n",
    "  inorder(root.left)\n",
    "  print(root.elem, end = ' ')\n",
    "  inorder(root.right)\n",
    "\n",
    "def postorder(root):\n",
    "  if root == None:\n",
    "    return\n",
    "\n",
    "  postorder(root.left)\n",
    "  postorder(root.right)\n",
    "  print(root.elem, end = ' ')\n",
    "\n",
    "#construting a 1-index based tree\n",
    "def tree_construction(arr, i = 1):\n",
    "  if i>=len(arr) or arr[i] == None:\n",
    "    return None\n",
    "  p = BTNode(arr[i])\n",
    "  p.left = tree_construction(arr, 2*i)\n",
    "  p.right = tree_construction(arr, 2*i+1)\n",
    "  return p"
   ]
  },
  {
   "cell_type": "markdown",
   "metadata": {},
   "source": [
    "Complete Binary Tree Checker"
   ]
  },
  {
   "cell_type": "code",
   "execution_count": null,
   "metadata": {},
   "outputs": [],
   "source": [
    "def countNodes(root):\n",
    "    if root is None:\n",
    "        return 0\n",
    "    return 1 + countNodes(root.left) + countNodes(root.right)\n",
    "\n",
    "def isCompleteTreeHelper(root, index, total_nodes):\n",
    "    # If the node is null, it's a valid placeholder in a complete binary tree\n",
    "    if root is None:\n",
    "        return True\n",
    "    \n",
    "    # If index is greater than or equal to the total number of nodes, it's not complete\n",
    "    if index >= total_nodes:\n",
    "        return False\n",
    "    \n",
    "    # Recursively check the left and right subtrees\n",
    "    return (isCompleteTreeHelper(root.left, 2 * index + 1, total_nodes) and\n",
    "            isCompleteTreeHelper(root.right, 2 * index + 2, total_nodes))\n",
    "\n",
    "def isCompleteTree(root):\n",
    "    if root is None:\n",
    "        return True\n",
    "    \n",
    "    # Count the total number of nodes in the tree\n",
    "    total_nodes = countNodes(root)\n",
    "    \n",
    "    # Check the tree's completeness\n",
    "    return isCompleteTreeHelper(root, 0, total_nodes)\n",
    "\n",
    "class TreeNode:\n",
    "    def __init__(self, val=0, left=None, right=None):\n",
    "        self.val = val\n",
    "        self.left = left\n",
    "        self.right = right\n",
    "\n",
    "def buildTree(values):\n",
    "    \"\"\"\n",
    "    Helper function to build a binary tree from a list of values using level order.\n",
    "    `None` represents an absent child.\n",
    "    \"\"\"\n",
    "    if not values:\n",
    "        return None\n",
    "    \n",
    "    nodes = [TreeNode(val) if val is not None else None for val in values]\n",
    "    for i, node in enumerate(nodes):\n",
    "        if node:\n",
    "            if 2 * i + 1 < len(nodes):\n",
    "                node.left = nodes[2 * i + 1]\n",
    "            if 2 * i + 2 < len(nodes):\n",
    "                node.right = nodes[2 * i + 2]\n",
    "    return nodes[0]\n",
    "\n",
    "tree_incomplete = buildTree([1, 2, 3, None, 5])\n",
    "print(\"Is tree_incomplete a complete binary tree?:\", isCompleteTree(tree_incomplete))  # Expected: False\n",
    "# Larger Complete Binary Tree Example\n",
    "# Tree structure:\n",
    "#                 1\n",
    "#              /     \\\n",
    "#            2         3\n",
    "#          /   \\     /   \\\n",
    "#         4     5   6     7\n",
    "#        / \\   /\n",
    "#       8   9 10\n",
    "\n",
    "print()\n",
    "\n",
    "tree_large_complete = buildTree([1, 2, 3, 4, 5, 6, 7, 8, 9, 10])\n",
    "print(\"Is tree_large_complete a complete binary tree?:\", isCompleteTree(tree_large_complete))  # Expected: True\n",
    "\n",
    "# Larger Incomplete Binary Tree Example\n",
    "# Tree structure:\n",
    "#                 1\n",
    "#              /     \\\n",
    "#            2         3\n",
    "#          /   \\     /   \\\n",
    "#         4     5   6     7\n",
    "#        /       \\\n",
    "#       8         9\n",
    "tree_large_incomplete = buildTree([1, 2, 3, 4, 5, 6, 7, 8, None, 9])\n",
    "print(\"Is tree_large_incomplete a complete binary tree?:\", isCompleteTree(tree_large_incomplete))  # Expected: False\n"
   ]
  },
  {
   "cell_type": "markdown",
   "metadata": {},
   "source": [
    "BST - the **REMOVE** function is very smartly written here"
   ]
  },
  {
   "cell_type": "code",
   "execution_count": 23,
   "metadata": {},
   "outputs": [
    {
     "name": "stdout",
     "output_type": "stream",
     "text": [
      "12 34 36 38 45 54 56 76 \n",
      "12 34 36 38 45 54 76 \n",
      "is the tree balanced: False\n"
     ]
    }
   ],
   "source": [
    "class BTNode:\n",
    "  def __init__(self, elem):\n",
    "    self.elem = elem\n",
    "    self.right = None\n",
    "    self.left = None\n",
    "\n",
    "def ArraytoBalancedBST(arr,min,max):\n",
    "      if min==max:\n",
    "          return BTNode(arr[max])\n",
    "      \n",
    "      mid=(min+max)//2\n",
    "\n",
    "      p=BTNode(arr[mid])\n",
    "\n",
    "      if mid>min:\n",
    "       p.left=ArraytoBalancedBST(arr,min,mid-1)\n",
    "\n",
    "      if mid<max:\n",
    "       \n",
    "       p.right=ArraytoBalancedBST(arr,mid+1,max)\n",
    "\n",
    "      return p\n",
    "\n",
    "def insert(root, val):\n",
    "  if root == None: return BTNode(val)\n",
    "\n",
    "  if val < root.elem:\n",
    "    root.left = insert(root.left, val)\n",
    "\n",
    "  else:\n",
    "    root.right = insert(root.right, val)\n",
    "\n",
    "  return root\n",
    "\n",
    "def findMin(root):\n",
    "   while root.left != None:\n",
    "      root = root.left\n",
    "   return root\n",
    "\n",
    "def remove(root, key):\n",
    "   if root == None: return None\n",
    "\n",
    "   if key < root.elem:\n",
    "      root.left = remove(root.left, key)\n",
    "   elif key > root.elem:\n",
    "      root.right = remove(root.right, key)\n",
    "   else:\n",
    "      if root.left == None and root.right == None:\n",
    "         return None\n",
    "      elif root.left == None:\n",
    "         return root.right\n",
    "      elif root.right == None:\n",
    "         return root.left\n",
    "      else:\n",
    "         succ = findMin(root.right)\n",
    "         root.elem = succ.elem\n",
    "         root.right = remove(root.right, succ.elem)\n",
    "   return root\n",
    "\n",
    "def get_height(root):\n",
    "      if root==None:\n",
    "         return 0\n",
    "      \n",
    "      left=get_height(root.left)\n",
    "      right=get_height(root.right)\n",
    "\n",
    "      if left>right:\n",
    "           return 1 + left\n",
    "      return 1 + right\n",
    "  \n",
    "def search(root, item):\n",
    "   if root.elem == item:\n",
    "      return root\n",
    "   \n",
    "   elif item < root.elem:\n",
    "      return search(root.left, item)\n",
    "   else:\n",
    "      return search(root.right, item)\n",
    "\n",
    "def is_balanced(root):     \n",
    "    if root==None:\n",
    "          return True\n",
    "\n",
    "    left=is_balanced(root.left)\n",
    "    right=is_balanced(root.right)\n",
    "    left_height = get_height(root.left)\n",
    "    right_height = get_height(root.right)\n",
    "    \n",
    "    checker = abs(left_height - right_height)\n",
    "    \n",
    "    return left and right and checker <= 1\n",
    "\n",
    "#Predecessor\n",
    "def inorder_predecessor(root, x):\n",
    "    while root != None: \n",
    "        if x.elem > root.elem:\n",
    "            pred = root\n",
    "            root = root.right\n",
    "        else:\n",
    "            root = root.left\n",
    "\n",
    "    return pred\n",
    "\n",
    "#Successor\n",
    "def inorder_successor(root, x):\n",
    "    while root != None:\n",
    "        if x.elem < root.elem:\n",
    "            succ = root\n",
    "            root = root.left\n",
    "        else:\n",
    "            root = root.right\n",
    "\n",
    "    return succ\n",
    "\n",
    "\n",
    "def createBST(arr):\n",
    "  head = BTNode(arr[0])\n",
    "\n",
    "  for i in range(1, len(arr)):\n",
    "    insert(head, arr[i])\n",
    "  return head\n",
    "\n",
    "root = createBST([45, 34, 56, 12, 54, 38, 76, 36])\n",
    "\n",
    "def inorder(root):\n",
    "  if root != None:\n",
    "    inorder(root.left)\n",
    "    print(root.elem, end = \" \")\n",
    "    inorder(root.right)\n",
    "\n",
    "inorder(root)\n",
    "print()\n",
    "remove(root, 56)\n",
    "inorder(root)\n",
    "print()\n",
    "\n",
    "root = BTNode(\"A\")\n",
    "root.left = BTNode(\"B\")\n",
    "root.right = BTNode(\"C\")\n",
    "root.left.left = BTNode(\"D\")\n",
    "root.left.right = BTNode(\"E\")\n",
    "root.left.right.left = BTNode(\"F\") \n",
    "\n",
    "print(f\"is the tree balanced: {is_balanced(root)}\")"
   ]
  },
  {
   "cell_type": "code",
   "execution_count": 16,
   "metadata": {},
   "outputs": [
    {
     "data": {
      "text/plain": [
       "True"
      ]
     },
     "execution_count": 16,
     "metadata": {},
     "output_type": "execute_result"
    }
   ],
   "source": [
    "def is_balanced(root):     \n",
    "    if root==None:\n",
    "          return True\n",
    "\n",
    "    left=is_balanced(root.left)\n",
    "    right=is_balanced(root.right)\n",
    "    left_height = get_height(root.left)\n",
    "    right_height = get_height(root.right)\n",
    "    \n",
    "    checker = abs(left_height - right_height)\n",
    "    \n",
    "    return left and right and checker <= 1\n",
    "\n",
    "root = BTNode(\"A\")\n",
    "root.left = BTNode(\"B\")\n",
    "root.right = BTNode(\"C\")\n",
    "root.left.left = BTNode(\"D\")\n",
    "root.left.right = BTNode(\"E\")\n",
    "root.left.right.left = BTNode(\"F\")       \n",
    "\n",
    "is_balanced(root)"
   ]
  },
  {
   "cell_type": "markdown",
   "metadata": {},
   "source": [
    "Random Tree Practice"
   ]
  },
  {
   "cell_type": "code",
   "execution_count": 11,
   "metadata": {},
   "outputs": [
    {
     "name": "stdout",
     "output_type": "stream",
     "text": [
      "True\n"
     ]
    }
   ],
   "source": [
    "#Book Problem 5.13 (check if Binary Tree has duplicates values)\n",
    "def search(root, val):\n",
    "    if root == None: return False\n",
    "\n",
    "    return (root.elem == val) or search(root.left, val) or search(root.right, val)\n",
    "\n",
    "def find_duplicate(root):\n",
    "    val = root.elem\n",
    "\n",
    "    if search(root, val):\n",
    "        return True\n",
    "    \n",
    "    return find_duplicate(root.left) or find_duplicate(root.right)\n",
    "\n",
    "root = BTNode(1)\n",
    "root.left = BTNode(20)\n",
    "root.right = BTNode(3)\n",
    "root.right.right = BTNode(4)\n",
    "\n",
    "duplicate = find_duplicate(root)\n",
    "print(duplicate)"
   ]
  },
  {
   "cell_type": "code",
   "execution_count": 13,
   "metadata": {},
   "outputs": [
    {
     "name": "stdout",
     "output_type": "stream",
     "text": [
      "4 5 8 "
     ]
    }
   ],
   "source": [
    "#Book Problem 5.14 (print nodes at K distance)\n",
    "def distance_measure(root, level = 0, k = 2):\n",
    "    if root == None: return\n",
    "\n",
    "    if level == k:\n",
    "        print(root.elem, end = \" \")\n",
    "\n",
    "    distance_measure(root.left, level + 1, k)\n",
    "    distance_measure(root.right, level + 1, k)\n",
    "\n",
    "root = BTNode(1)\n",
    "root.left = BTNode(2)\n",
    "root.right = BTNode(3)\n",
    "root.left.left = BTNode(4)\n",
    "root.left.right = BTNode(5)\n",
    "root.right.left = BTNode(8)\n",
    "\n",
    "printer = distance_measure(root, 0, 2)"
   ]
  },
  {
   "cell_type": "code",
   "execution_count": 34,
   "metadata": {},
   "outputs": [
    {
     "name": "stdout",
     "output_type": "stream",
     "text": [
      "4 2 1 "
     ]
    }
   ],
   "source": [
    "#Book problem 5.15 (print the ancestors)\n",
    "def ancestor_print(root, key):\n",
    "    if root == None: return False\n",
    "\n",
    "    if root.elem == key:\n",
    "        return True\n",
    "\n",
    "    if (ancestor_print(root.left, key) or ancestor_print(root.right, key)):\n",
    "        print(root.elem, end = \" \")\n",
    "        return True\n",
    "\n",
    "    return False\n",
    "\n",
    "root = BTNode(1)\n",
    "root.left = BTNode(2)\n",
    "root.right = BTNode(3)\n",
    "root.left.left = BTNode(4)\n",
    "root.left.right = BTNode(5)\n",
    "root.left.left.left = BTNode(7)\n",
    "\n",
    "printer = ancestor_print(root, 7)"
   ]
  },
  {
   "cell_type": "code",
   "execution_count": 8,
   "metadata": {},
   "outputs": [
    {
     "data": {
      "text/plain": [
       "2"
      ]
     },
     "execution_count": 8,
     "metadata": {},
     "output_type": "execute_result"
    }
   ],
   "source": [
    "#Book problem 5.18 (Find minimum depth)\n",
    "def min_depth(root):\n",
    "    if root == None: return 0\n",
    "\n",
    "    left = min_depth(root.left)\n",
    "    right = min_depth(root.right)\n",
    "\n",
    "    if left < right:\n",
    "        return 1 + left\n",
    "    return 1 + right\n",
    "\n",
    "root = BTNode(1)\n",
    "root.left = BTNode(2)\n",
    "root.right = BTNode(3)\n",
    "root.left.left = BTNode(4)\n",
    "root.left.right = BTNode(5)\n",
    "root.left.left.left = BTNode(7)\n",
    "\n",
    "min_depth(root)"
   ]
  },
  {
   "cell_type": "code",
   "execution_count": 48,
   "metadata": {},
   "outputs": [
    {
     "data": {
      "text/plain": [
       "28.0"
      ]
     },
     "execution_count": 48,
     "metadata": {},
     "output_type": "execute_result"
    }
   ],
   "source": [
    "#Book problem 5.21 (Binary Expression Tree)\n",
    "def binary_expression(root):\n",
    "    \n",
    "    if type(root.elem) == int:\n",
    "        return root.elem\n",
    "    \n",
    "    left = binary_expression(root.left)\n",
    "    right = binary_expression(root.right)\n",
    "\n",
    "    if root.elem == \"+\":\n",
    "        return left + right\n",
    "    elif root.elem == \"-\":\n",
    "        return left - right\n",
    "    elif root.elem == \"*\":\n",
    "        return left * right\n",
    "    elif root.elem == \"/\":\n",
    "        return left / right\n",
    "\n",
    "root = BTNode(\"+\")\n",
    "root.left = BTNode(\"*\")\n",
    "root.right = BTNode(\"/\")\n",
    "root.right.left = BTNode(21)\n",
    "root.right.right = BTNode(7)\n",
    "root.left.left = BTNode(\"-\")\n",
    "root.left.right = BTNode(5)\n",
    "root.left.left.left = BTNode(10)\n",
    "root.left.left.right = BTNode(5)\n",
    "\n",
    "binary_expression(root)"
   ]
  },
  {
   "cell_type": "markdown",
   "metadata": {},
   "source": [
    "Heaps"
   ]
  },
  {
   "cell_type": "code",
   "execution_count": null,
   "metadata": {},
   "outputs": [],
   "source": [
    "class MinHeap:\n",
    "    def __init__(self, capacity):\n",
    "        self.__capacity = capacity + 1\n",
    "        self.__heap = np.zeros(self.__capacity, dtype = 'int')\n",
    "        self.__size = 0\n",
    "    \n",
    "    def capacity(self):\n",
    "        return self.__capacity\n",
    "    \n",
    "    def size(self):\n",
    "        return self.__size\n",
    "\n",
    "    def left_child(self, i):\n",
    "        return 2 * i\n",
    "    \n",
    "    def right_child(self, i):\n",
    "        return 2 * i + 1\n",
    "\n",
    "    def insert(self, value):\n",
    "        if self.size() >= self.capacity():\n",
    "            return \"limit exceeded\"\n",
    "        \n",
    "        self.__size += 1\n",
    "        self.__heap[self.size()] = value\n",
    "        self.swim(self.size())\n",
    "\n",
    "    def swim(self, index):\n",
    "        if index > 1 and self.__heap[index] < self.__heap[index // 2]:\n",
    "            self.__heap[index], self.__heap[index // 2] = self.__heap[index // 2], self.__heap[index]\n",
    "            self.swim(index // 2)\n",
    "\n",
    "    def sink(self, index):\n",
    "        smallest = index\n",
    "        left = self.left_child(index)\n",
    "        right = self.right_child(index)\n",
    "\n",
    "        if left <= self.size() and self.__heap[smallest] > self.__heap[left]:\n",
    "            smallest = left\n",
    "        if right <= self.size() and self.__heap[smallest] > self.__heap[right]:\n",
    "            smallest = right\n",
    "\n",
    "        if smallest != index:\n",
    "            self.__heap[index], self.__heap[smallest] = self.__heap[smallest], self.__heap[index]\n",
    "            self.sink(smallest)\n",
    "\n",
    "    def extractMin(self):\n",
    "        # if self._size == 0:\n",
    "        #     return \"Heap is empty\"\n",
    "        \n",
    "        min_val = self.__heap[1]\n",
    "        self.__heap[1] = self.__heap[self.size()]\n",
    "        #self.__heap[self.size()] = 0\n",
    "        self.__size -= 1\n",
    "        self.sink(1)\n",
    "        return min_val\n",
    "\n",
    "    def isEmpty(self):\n",
    "        if self.size() == 0:\n",
    "            return True\n",
    "        else:\n",
    "            return False\n",
    "\n",
    "    def top(self):\n",
    "        if self.__heap[1] != None:\n",
    "            return self.__heap[1]\n",
    "        else:\n",
    "            return \"Empty Heap\"\n",
    "        \n",
    "    def sort(self):\n",
    "        min_result_array = np.zeros(self.size(), dtype = 'int')\n",
    "        j = self.__size - 1\n",
    "\n",
    "        while self.isEmpty() == False:\n",
    "            min_result_array[j] = int(self.extractMin())\n",
    "            j -= 1\n",
    "\n",
    "        return min_result_array\n",
    "\n",
    "    def print_heap(self):\n",
    "        for value in range(self.__size + 1):\n",
    "            print(self.__heap[value], end = \" \")"
   ]
  },
  {
   "cell_type": "code",
   "execution_count": null,
   "metadata": {},
   "outputs": [],
   "source": [
    "class MaxHeap:\n",
    "    def __init__(self, capacity):\n",
    "        self.__capacity = capacity + 1\n",
    "        self.__heap = np.zeros(self.__capacity, dtype = 'int')\n",
    "        self.__size = 0\n",
    "\n",
    "    def capacity(self):\n",
    "        return self.__capacity\n",
    "    \n",
    "    def size(self):\n",
    "        return self.__size\n",
    "    \n",
    "    def left_child(self, i):\n",
    "        return 2 * i\n",
    "    \n",
    "    def right_child(self, i):\n",
    "        return 2 * i + 1\n",
    "\n",
    "    def insert(self, value):\n",
    "        if self.size() >= self.capacity():\n",
    "            return \"limit exceeded\"\n",
    "        \n",
    "        self.__size += 1\n",
    "        self.__heap[self.size()] = value\n",
    "        self.swim(self.size())\n",
    "\n",
    "    def swim(self, index):\n",
    "        if index > 1 and self.__heap[index] > self.__heap[index // 2]:\n",
    "            self.__heap[index], self.__heap[index // 2] = self.__heap[index // 2], self.__heap[index]\n",
    "            self.swim(index // 2)\n",
    "\n",
    "    def sink(self, index):\n",
    "        largest = index\n",
    "        left = self.left_child(index)\n",
    "        right = self.right_child(index)\n",
    "\n",
    "        if left <= self.size() and self.__heap[largest] < self.__heap[left]:\n",
    "            largest = left\n",
    "        if right <= self.size() and self.__heap[largest] < self.__heap[right]:\n",
    "            largest = right\n",
    "\n",
    "        if largest != index:\n",
    "            self.__heap[index], self.__heap[largest] = self.__heap[largest], self.__heap[index]\n",
    "            self.sink(largest)\n",
    "\n",
    "    def extractMax(self):\n",
    "        # if self._size == 0:\n",
    "        #     return \"Heap is empty\"\n",
    "        \n",
    "        max_val = self.__heap[1]\n",
    "        self.__heap[1] = self.__heap[self.__size]\n",
    "        #self.__heap[self.size()] = 0\n",
    "        self.__size -= 1\n",
    "        self.sink(1)\n",
    "        return max_val\n",
    "\n",
    "    def isEmpty(self):\n",
    "        if self.size() == 0:\n",
    "            return True\n",
    "        else:\n",
    "            return False\n",
    "\n",
    "    def top(self):\n",
    "        if self.__heap[1] != None:\n",
    "            return self.__heap[1]\n",
    "        else:\n",
    "            return \"Empty Heap\"\n",
    "        \n",
    "    def sort(self):\n",
    "        max_result_array = np.zeros(self.size(), dtype = 'int')\n",
    "        j = self.__size - 1\n",
    "\n",
    "        while self.isEmpty() == False:\n",
    "            max_result_array[j] = int(self.extractMax())\n",
    "            j -= 1\n",
    "\n",
    "        return max_result_array\n",
    "\n",
    "    def print_heap(self):\n",
    "        for value in range(self.__size + 1):\n",
    "            print(self.__heap[value], end = \" \")"
   ]
  },
  {
   "cell_type": "markdown",
   "metadata": {},
   "source": [
    "Graphs"
   ]
  },
  {
   "cell_type": "code",
   "execution_count": null,
   "metadata": {},
   "outputs": [],
   "source": [
    "#Adjacency Matrix Representation\n",
    "class Adjacency_Matrix:\n",
    "    def __init__(self, vertex_num):\n",
    "        self.matrix = np.zeros((vertex_num, vertex_num), dtype = int)\n",
    "\n",
    "    def add_edge(self, from_v, to_v, weight = 1):\n",
    "        self.matrix[from_v][to_v] = weight\n",
    "        self.matrix[to_v][from_v] = weight #this is not required if I want a DIRECTED graph\n",
    "\n",
    "    def max_degree_matrix(self):\n",
    "        max_degree = 0\n",
    "        v_index = -1\n",
    "        for vertex in range(len(self.matrix)):\n",
    "            degree = 0\n",
    "            for neighbour in range(len(self.matrix)):\n",
    "                if self.matrix[vertex][neighbour] > 0:\n",
    "                    degree += 1\n",
    "            \n",
    "            if degree > max_degree:\n",
    "                max_degree = degree\n",
    "                v_index = vertex\n",
    "\n",
    "        return f\"vertex: {v_index} has max degree: {max_degree}\"\n",
    "\n",
    "    def printer(self):\n",
    "        return self.matrix\n",
    "\n",
    "graph_A = Adjacency_Matrix(7)\n",
    "graph_A.add_edge(0, 2)\n",
    "graph_A.add_edge(0, 3)\n",
    "graph_A.add_edge(0, 4)\n",
    "graph_A.add_edge(0, 5)\n",
    "graph_A.add_edge(0, 6)\n",
    "graph_A.add_edge(1, 3)\n",
    "graph_A.add_edge(1, 4)\n",
    "graph_A.add_edge(1, 5)\n",
    "graph_A.add_edge(1, 6)\n",
    "graph_A.add_edge(2, 4)\n",
    "graph_A.add_edge(2, 6)\n",
    "graph_A.add_edge(3, 4)\n",
    "graph_A.add_edge(3, 5)\n",
    "graph_A.add_edge(3, 6)\n",
    "graph_A.add_edge(4, 5)\n",
    "graph_A.add_edge(4, 6)\n",
    "graph_A.add_edge(5, 6)\n",
    "\n",
    "max_degree_op = graph_A.max_degree_matrix()\n",
    "print(max_degree_op)\n",
    "print()\n",
    "\n",
    "print(\"Adjacency Matrix Representation of the Graph I drew\")\n",
    "graph_A.printer()"
   ]
  },
  {
   "cell_type": "code",
   "execution_count": null,
   "metadata": {},
   "outputs": [],
   "source": [
    "#Adjacency List Representation\n",
    "class Node:\n",
    "    def __init__(self, ng, w = 1, next = None):\n",
    "        self.neighbour = ng\n",
    "        self.w = w\n",
    "        self.next = next\n",
    "    \n",
    "class Adjacency_List:\n",
    "    def __init__(self, vertex_num):\n",
    "        self.vertices = np.array([None] * vertex_num)\n",
    "\n",
    "    def list_add_edge(self, from_v, to_v, weight = 1):\n",
    "        new_node = Node(to_v, weight)\n",
    "        new_node.next = self.vertices[from_v]\n",
    "        self.vertices[from_v] = new_node\n",
    "        return\n",
    "    \n",
    "    def max_degree_LL(self):\n",
    "        max_degree = 0\n",
    "        vertex_index = -1\n",
    "\n",
    "        for i in range(len(self.vertices)):\n",
    "              temp = self.vertices[i]\n",
    "              degree = 0\n",
    "\n",
    "              while temp != None:\n",
    "                  degree += 1\n",
    "                  temp = temp.next\n",
    "\n",
    "              if degree > max_degree:\n",
    "                max_degree = degree\n",
    "                vertex_index = i\n",
    "\n",
    "        return f\"vertex: {vertex_index} has max degree: {max_degree}\"\n",
    "    \n",
    "    def print_LL(self, head):\n",
    "        temp = self.vertices[head]\n",
    "        print(head, end = \" == \")\n",
    "        while temp != None:\n",
    "                print(temp.neighbour, end = \"-->\")\n",
    "                temp = temp.next\n",
    "    \n",
    "    def LL_printer(self, vertex_num):\n",
    "         for i in range(vertex_num):\n",
    "              self.print_LL(i)\n",
    "              print()\n",
    "    \n",
    "graph_B = Adjacency_List(7)\n",
    "graph_B.list_add_edge(0, 2)\n",
    "graph_B.list_add_edge(0, 3)\n",
    "graph_B.list_add_edge(0, 4)\n",
    "graph_B.list_add_edge(0, 5)\n",
    "graph_B.list_add_edge(0, 6)\n",
    "graph_B.list_add_edge(1, 3)\n",
    "graph_B.list_add_edge(1, 4)\n",
    "graph_B.list_add_edge(1, 5)\n",
    "graph_B.list_add_edge(1, 6)\n",
    "graph_B.list_add_edge(2, 4)\n",
    "graph_B.list_add_edge(2, 6)\n",
    "graph_B.list_add_edge(3, 4)\n",
    "graph_B.list_add_edge(3, 5)\n",
    "graph_B.list_add_edge(3, 6)\n",
    "graph_B.list_add_edge(4, 5)\n",
    "graph_B.list_add_edge(4, 6)\n",
    "graph_B.list_add_edge(5, 6)\n",
    "\n",
    "#this is not required if I want a DIRECTED Graph\n",
    "graph_B.list_add_edge(2, 0)\n",
    "graph_B.list_add_edge(3, 0)\n",
    "graph_B.list_add_edge(4, 0)\n",
    "graph_B.list_add_edge(5, 0)\n",
    "graph_B.list_add_edge(6, 0)\n",
    "graph_B.list_add_edge(3, 1)\n",
    "graph_B.list_add_edge(4, 1)\n",
    "graph_B.list_add_edge(5, 1)\n",
    "graph_B.list_add_edge(6, 1)\n",
    "graph_B.list_add_edge(4, 2)\n",
    "graph_B.list_add_edge(6, 2)\n",
    "graph_B.list_add_edge(4, 3)\n",
    "graph_B.list_add_edge(5, 3)\n",
    "graph_B.list_add_edge(6, 3)\n",
    "graph_B.list_add_edge(5, 4)\n",
    "graph_B.list_add_edge(6, 4)\n",
    "graph_B.list_add_edge(6, 5)\n",
    "\n",
    "max_degree_op_LL = graph_B.max_degree_LL()\n",
    "print(max_degree_op_LL)\n",
    "print()\n",
    "\n",
    "print(\"Adjacency List Representation of the Graph I drew\")\n",
    "graph_B.LL_printer(7)"
   ]
  },
  {
   "cell_type": "markdown",
   "metadata": {},
   "source": [
    "Final Prep"
   ]
  },
  {
   "cell_type": "markdown",
   "metadata": {},
   "source": [
    "Spring'24 Set-A"
   ]
  },
  {
   "cell_type": "code",
   "execution_count": 24,
   "metadata": {},
   "outputs": [
    {
     "name": "stdout",
     "output_type": "stream",
     "text": [
      "Hash value: 7\n"
     ]
    }
   ],
   "source": [
    "#Q2\n",
    "class Node:\n",
    "    def __init__(self, elem, next=None):\n",
    "        self.elem = elem\n",
    "        self.next = next\n",
    "\n",
    "# Function to build a linked list from a list of elements\n",
    "def build_linked_list(elements):\n",
    "    if not elements:\n",
    "        return None\n",
    "    head = Node(elements[0])\n",
    "    current = head\n",
    "    for elem in elements[1:]:\n",
    "        current.next = Node(elem)\n",
    "        current = current.next\n",
    "    return head\n",
    "\n",
    "def hash(head, st):\n",
    "    sum = 0\n",
    "    temp = head\n",
    "\n",
    "    while temp != None:\n",
    "        data = temp.elem\n",
    "\n",
    "        index = -1\n",
    "        for i in range(len(st)):\n",
    "            if st[i] == data:\n",
    "                index = i\n",
    "        sum += index\n",
    "        temp = temp.next\n",
    "\n",
    "    return sum % 10\n",
    "\n",
    "\n",
    "# Sample driver code\n",
    "if __name__ == \"__main__\":\n",
    "    # Create a linked list for D → A → T → A\n",
    "    elements = ['D', 'A', 'T', 'A']\n",
    "    head = build_linked_list(elements)\n",
    "    \n",
    "    # Test string\n",
    "    st = \"SADA\"\n",
    "\n",
    "    # Calculate hash\n",
    "    hash_value = hash(head, st)\n",
    "\n",
    "    print(f\"Hash value: {hash_value}\")\n"
   ]
  },
  {
   "cell_type": "code",
   "execution_count": null,
   "metadata": {},
   "outputs": [
    {
     "data": {
      "text/plain": [
       "True"
      ]
     },
     "execution_count": 41,
     "metadata": {},
     "output_type": "execute_result"
    }
   ],
   "source": [
    "#Q3\n",
    "class BTNode:\n",
    "  def __init__(self, elem):\n",
    "    self.elem = elem\n",
    "    self.right = None\n",
    "    self.left = None\n",
    "\n",
    "def sumoftree(root):\n",
    "  if root != None:\n",
    "    return root.elem + sumoftree(root.left) + sumoftree(root.right)\n",
    "  return 0\n",
    "\n",
    "\n",
    "def sumTree(root):\n",
    "  if root == None: return True\n",
    "\n",
    "  if root.left == None and root.right == None: return True\n",
    "\n",
    "  if sumoftree(root.left) + sumoftree(root.right) == root.elem:\n",
    "    return sumTree(root.left) and sumTree(root.right)\n",
    "  return False\n",
    "\n",
    "root = BTNode(26)\n",
    "root.left = BTNode(10)\n",
    "root.right = BTNode(3)\n",
    "root.left.left = BTNode(4)\n",
    "root.left.right = BTNode(6)\n",
    "root.right.right = BTNode(3)\n",
    "\n",
    "sumTree(root)"
   ]
  },
  {
   "cell_type": "code",
   "execution_count": 1,
   "metadata": {},
   "outputs": [],
   "source": [
    "import heapq\n",
    "\n",
    "class MaxHeap:\n",
    "    def __init__(self):\n",
    "        self.heap = []  # MaxHeap represented as a negative MinHeap\n",
    "    \n",
    "    def MaxInsert(self, val):\n",
    "        heapq.heappush(self.heap, -val)  # Use negative values for max heap behavior\n",
    "    \n",
    "    def MaxDelete(self):\n",
    "        if len(self.heap) == 0:\n",
    "            raise IndexError(\"The MaxHeap is empty.\")\n",
    "        return -heapq.heappop(self.heap)  # Return positive value for max heap behavior\n",
    "\n",
    "class MinHeap:\n",
    "    def __init__(self):\n",
    "        self.heap = []\n",
    "    \n",
    "    def MinInsert(self, val):\n",
    "        heapq.heappush(self.heap, val)  # Standard MinHeap\n",
    "    \n",
    "    def MinDelete(self):\n",
    "        if len(self.heap) == 0:\n",
    "            raise IndexError(\"The MinHeap is empty.\")\n",
    "        return heapq.heappop(self.heap)  # Return smallest value\n",
    "    \n",
    "def heapSum(arr, k):\n",
    "    max = MaxHeap()\n",
    "    min = MinHeap()\n",
    "\n",
    "    for i in range(len(arr)):\n",
    "        max.insert(arr[i])\n",
    "        min.insert(arr[i])\n",
    "\n",
    "    for i in range(k):\n",
    "        largest = max.MaxDelete()\n",
    "        smallest = min.MinDelete()\n",
    "\n",
    "        sum = largest - smallest\n",
    "\n",
    "        max.MaxInsert(sum)\n",
    "        min.MinInsert(sum)\n",
    "\n",
    "\n",
    "arr = [3, 2, 1, 5, 4]\n",
    "k = 2\n",
    "heapSum(arr, k)\n",
    "\n"
   ]
  },
  {
   "cell_type": "markdown",
   "metadata": {},
   "source": [
    "Summer'24 Set-A"
   ]
  },
  {
   "cell_type": "code",
   "execution_count": 2,
   "metadata": {},
   "outputs": [
    {
     "name": "stdout",
     "output_type": "stream",
     "text": [
      "True\n",
      "False\n",
      "False\n",
      "True\n",
      "False\n",
      "\n",
      "True\n",
      "False\n",
      "False\n"
     ]
    }
   ],
   "source": [
    "#Q3\n",
    "class BTNode:\n",
    "    def __init__(self, val):\n",
    "        self.val = val\n",
    "        self.left = None\n",
    "        self.right = None\n",
    "\n",
    "def path_finder(root, key, i):\n",
    "    if root == None:\n",
    "        return False\n",
    "    \n",
    "    if i >= len(key) or root.val != key[i]:\n",
    "        return False\n",
    "\n",
    "    if root.left == None and root.right == None and i == len(key) - 1:\n",
    "        return True\n",
    "\n",
    "    return path_finder(root.left, key, i + 1) or path_finder(root.right, key, i + 1)\n",
    "\n",
    "def is_valid(root, key):\n",
    "    return path_finder(root, key, 0)\n",
    "\n",
    "def is_valid1(root, key):\n",
    "    i = 0\n",
    "    flag = True\n",
    "\n",
    "    while root != None:\n",
    "        i += 1\n",
    "        if i > len(key) - 1:\n",
    "            if root.left != None or root.right != None:\n",
    "                flag = False\n",
    "            break\n",
    "\n",
    "        else:\n",
    "            if root.left.val == key[i]:\n",
    "                root = root.left\n",
    "            elif root.right.val == key[i]:\n",
    "                root = root.right\n",
    "            else:\n",
    "                flag = False\n",
    "                break\n",
    "    return flag\n",
    "\n",
    "root = BTNode(\"C\")\n",
    "root.left = BTNode(\"S\")\n",
    "root.right = BTNode(\"R\")\n",
    "root.left.left = BTNode(\"T\")\n",
    "root.left.right = BTNode(\"E\")\n",
    "root.right.left = BTNode(\"M\")\n",
    "root.right.right = BTNode(\"P\")\n",
    "root.right.right.right = BTNode(\"D\")\n",
    "\n",
    "print(is_valid(root,\"CSE\"))\n",
    "print(is_valid(root,\"CRA\"))\n",
    "print(is_valid(root,\"CRP\"))\n",
    "print()\n",
    "print(is_valid1(root,\"CSE\"))\n",
    "print(is_valid1(root,\"CRA\"))\n",
    "print(is_valid1(root,\"CRP\"))"
   ]
  },
  {
   "cell_type": "markdown",
   "metadata": {},
   "source": [
    "Fall'24 Set-B"
   ]
  },
  {
   "cell_type": "code",
   "execution_count": null,
   "metadata": {},
   "outputs": [],
   "source": [
    "#Q5\n",
    "def fact_checker(root, compare):\n",
    "    temp = root\n",
    "\n",
    "    while temp != None:\n",
    "        if temp.elem == compare:\n",
    "            return True\n",
    "        temp = temp.next\n",
    "\n",
    "    return False\n",
    "\n",
    "def is_complete(network):\n",
    "    count = 0\n",
    "    for i in range(len(network)):\n",
    "        count += 1\n",
    "\n",
    "    checker = np.zeros(count, dtype = int)\n",
    "\n",
    "    for i in range(len(network)):\n",
    "        checker[i] = network[i]\n",
    "\n",
    "    for i in range(len(network)):\n",
    "        for j in range(len(checker)):\n",
    "            check = fact_checker(network[i], checker[j])\n",
    "            if check == False:\n",
    "                return False\n",
    "    return True"
   ]
  }
 ],
 "metadata": {
  "kernelspec": {
   "display_name": "Python 3",
   "language": "python",
   "name": "python3"
  },
  "language_info": {
   "codemirror_mode": {
    "name": "ipython",
    "version": 3
   },
   "file_extension": ".py",
   "mimetype": "text/x-python",
   "name": "python",
   "nbconvert_exporter": "python",
   "pygments_lexer": "ipython3",
   "version": "3.12.0"
  }
 },
 "nbformat": 4,
 "nbformat_minor": 2
}
