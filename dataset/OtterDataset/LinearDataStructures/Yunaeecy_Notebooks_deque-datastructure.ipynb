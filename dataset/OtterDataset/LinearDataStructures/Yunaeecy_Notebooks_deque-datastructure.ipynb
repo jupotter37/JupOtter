{
 "cells": [
  {
   "cell_type": "markdown",
   "id": "8d50fa88",
   "metadata": {
    "_cell_guid": "b1076dfc-b9ad-4769-8c92-a6c4dae69d19",
    "_uuid": "8f2839f25d086af736a60e9eeb907d3b93b6e0e5",
    "papermill": {
     "duration": 0.004348,
     "end_time": "2024-03-10T06:40:06.292553",
     "exception": false,
     "start_time": "2024-03-10T06:40:06.288205",
     "status": "completed"
    },
    "tags": []
   },
   "source": [
    "# Overview\n",
    "\n",
    "In this notebook, we introduce a data structure named Deque. It stands for Double-Ended Queue. A deque is a versatile data structure that allows insertion and deletion of elements from both ends with constant time complexity. In other words, you can add or remove elements from the front or the back of the deque efficiently.\n",
    "\n",
    "Deques can be implemented using various underlying data structures, such as arrays or linked lists. They are useful in situations where you need fast and efficient access to elements at both ends of the sequence.\n",
    "\n",
    "Common operations supported by a deque include:\n",
    "\n",
    "`Push Front`: Add an element to the front of the deque.\n",
    "\n",
    "`Push Back`: Add an element to the back of the deque.\n",
    "\n",
    "`Pop Front`: Remove and return the element from the front of the deque.\n",
    "\n",
    "`Pop Back`: Remove and return the element from the back of the deque.\n",
    "\n",
    "`Front`: Get the element at the front of the deque without removing it.\n",
    "\n",
    "`Back`: Get the element at the back of the deque without removing it.\n",
    "\n",
    "`Size`: Get the number of elements in the deque.\n",
    "\n",
    "Deques are more **powerful** than `stacks` and `queues` because they support operations at both ends, making them suitable for a broader range of applications. They can be used in various algorithms and data manipulation scenarios where efficient access to elements from both ends is required."
   ]
  },
  {
   "cell_type": "code",
   "execution_count": 1,
   "id": "07b2ef1d",
   "metadata": {
    "execution": {
     "iopub.execute_input": "2024-03-10T06:40:06.302740Z",
     "iopub.status.busy": "2024-03-10T06:40:06.302234Z",
     "iopub.status.idle": "2024-03-10T06:40:06.323119Z",
     "shell.execute_reply": "2024-03-10T06:40:06.322093Z"
    },
    "papermill": {
     "duration": 0.029362,
     "end_time": "2024-03-10T06:40:06.325888",
     "exception": false,
     "start_time": "2024-03-10T06:40:06.296526",
     "status": "completed"
    },
    "tags": []
   },
   "outputs": [],
   "source": [
    "class Deque:\n",
    "    \"\"\"\n",
    "    A custom Deque (Double Ended Queue) class using a Python list.\n",
    "    \"\"\"\n",
    "    def __init__(self):\n",
    "        \"\"\"\n",
    "        Initializes an empty deque using a Python list.\n",
    "        \"\"\"\n",
    "        self.items = []\n",
    "        \n",
    "    def isEmpty(self):\n",
    "        \"\"\"\n",
    "        Checks if the deque is empty.\n",
    "        \"\"\"\n",
    "        return len(self.items) == 0\n",
    "    \n",
    "    def appendleft(self,item):\n",
    "        \"\"\"\n",
    "        Insert an element at the rear of the deque.\n",
    "        \"\"\"\n",
    "        self.items.insert(0,item)\n",
    "        \n",
    "    def append(self,item):\n",
    "        \"\"\"\n",
    "        Inserts an element at the rear of the deque (adds to the ends of the list).\n",
    "        \"\"\"\n",
    "        self.items.append(item)\n",
    "        \n",
    "    def popleft(self):\n",
    "        \"\"\"\n",
    "        Removes and returns the element from the front of the deque.\n",
    "        \"\"\"\n",
    "        if self.isEmpty():\n",
    "            print(\"Deque Underflow\")\n",
    "            return None\n",
    "        return self.items.pop(0)\n",
    "    \n",
    "    def pop(self):\n",
    "        \"\"\"\n",
    "        Removes and returns the element from the rear of the deque.\n",
    "        \"\"\"\n",
    "        if self.isEmpty():\n",
    "            print(\"Deque Underflow\")\n",
    "            return None\n",
    "        return self.items.pop()\n",
    "    \n",
    "    def peekleft(self):\n",
    "        \"\"\"\n",
    "        Returns the element at the rear of the deque without removing it.\n",
    "        \"\"\"\n",
    "        if self.isEmpty():\n",
    "            print(\"Deque is empty\")\n",
    "            return None\n",
    "        return self.items[0]\n",
    "    \n",
    "    def peek(self):\n",
    "        \"\"\"\n",
    "        Returns the element at the rear of the deque without removing it.\n",
    "        \"\"\"\n",
    "        if self.isEmpty():\n",
    "            print(\"Deque is empty\")\n",
    "            return None\n",
    "        return self.items[-1]\n",
    "    \n",
    "    def __str__(self):\n",
    "        \"\"\"\n",
    "        Returns a string representation of the deque.\n",
    "        \"\"\"\n",
    "        return str(self.items)\n",
    "    \n",
    "my_deque = Deque()"
   ]
  },
  {
   "cell_type": "code",
   "execution_count": 2,
   "id": "cf862bf4",
   "metadata": {
    "execution": {
     "iopub.execute_input": "2024-03-10T06:40:06.335474Z",
     "iopub.status.busy": "2024-03-10T06:40:06.335058Z",
     "iopub.status.idle": "2024-03-10T06:40:06.340593Z",
     "shell.execute_reply": "2024-03-10T06:40:06.339377Z"
    },
    "papermill": {
     "duration": 0.014051,
     "end_time": "2024-03-10T06:40:06.343887",
     "exception": false,
     "start_time": "2024-03-10T06:40:06.329836",
     "status": "completed"
    },
    "tags": []
   },
   "outputs": [
    {
     "name": "stdout",
     "output_type": "stream",
     "text": [
      "True\n"
     ]
    }
   ],
   "source": [
    "# Check is the deque is empty\n",
    "print(my_deque.isEmpty())"
   ]
  },
  {
   "cell_type": "code",
   "execution_count": 3,
   "id": "13073df8",
   "metadata": {
    "execution": {
     "iopub.execute_input": "2024-03-10T06:40:06.353965Z",
     "iopub.status.busy": "2024-03-10T06:40:06.353586Z",
     "iopub.status.idle": "2024-03-10T06:40:06.359764Z",
     "shell.execute_reply": "2024-03-10T06:40:06.358533Z"
    },
    "papermill": {
     "duration": 0.014409,
     "end_time": "2024-03-10T06:40:06.362391",
     "exception": false,
     "start_time": "2024-03-10T06:40:06.347982",
     "status": "completed"
    },
    "tags": []
   },
   "outputs": [
    {
     "name": "stdout",
     "output_type": "stream",
     "text": [
      "[3, 1, 2]\n"
     ]
    }
   ],
   "source": [
    "# Add elements to the deque (appendleft for front, append for rear)\n",
    "my_deque.appendleft(1)\n",
    "my_deque.append(2)\n",
    "my_deque.appendleft(3)\n",
    "print(my_deque)"
   ]
  },
  {
   "cell_type": "code",
   "execution_count": 4,
   "id": "ce2b8f0d",
   "metadata": {
    "execution": {
     "iopub.execute_input": "2024-03-10T06:40:06.372155Z",
     "iopub.status.busy": "2024-03-10T06:40:06.371770Z",
     "iopub.status.idle": "2024-03-10T06:40:06.377431Z",
     "shell.execute_reply": "2024-03-10T06:40:06.376132Z"
    },
    "papermill": {
     "duration": 0.013724,
     "end_time": "2024-03-10T06:40:06.380138",
     "exception": false,
     "start_time": "2024-03-10T06:40:06.366414",
     "status": "completed"
    },
    "tags": []
   },
   "outputs": [
    {
     "name": "stdout",
     "output_type": "stream",
     "text": [
      "Removed from front: 3\n"
     ]
    }
   ],
   "source": [
    "# Remove elements from the deque(popleft for front, pop for rear)\n",
    "element = my_deque.popleft()\n",
    "print(\"Removed from front:\",element)"
   ]
  },
  {
   "cell_type": "code",
   "execution_count": 5,
   "id": "dfff9a26",
   "metadata": {
    "execution": {
     "iopub.execute_input": "2024-03-10T06:40:06.389850Z",
     "iopub.status.busy": "2024-03-10T06:40:06.389405Z",
     "iopub.status.idle": "2024-03-10T06:40:06.395198Z",
     "shell.execute_reply": "2024-03-10T06:40:06.394031Z"
    },
    "papermill": {
     "duration": 0.013203,
     "end_time": "2024-03-10T06:40:06.397374",
     "exception": false,
     "start_time": "2024-03-10T06:40:06.384171",
     "status": "completed"
    },
    "tags": []
   },
   "outputs": [
    {
     "name": "stdout",
     "output_type": "stream",
     "text": [
      "Removed from rear: 2\n"
     ]
    }
   ],
   "source": [
    "element = my_deque.pop()\n",
    "print(\"Removed from rear:\",element)"
   ]
  },
  {
   "cell_type": "code",
   "execution_count": 6,
   "id": "40b04b4d",
   "metadata": {
    "execution": {
     "iopub.execute_input": "2024-03-10T06:40:06.407238Z",
     "iopub.status.busy": "2024-03-10T06:40:06.406878Z",
     "iopub.status.idle": "2024-03-10T06:40:06.411700Z",
     "shell.execute_reply": "2024-03-10T06:40:06.410635Z"
    },
    "papermill": {
     "duration": 0.012839,
     "end_time": "2024-03-10T06:40:06.414332",
     "exception": false,
     "start_time": "2024-03-10T06:40:06.401493",
     "status": "completed"
    },
    "tags": []
   },
   "outputs": [
    {
     "name": "stdout",
     "output_type": "stream",
     "text": [
      "[1]\n"
     ]
    }
   ],
   "source": [
    "# Print the deque contents after removals\n",
    "print(my_deque)"
   ]
  },
  {
   "cell_type": "code",
   "execution_count": 7,
   "id": "da39e0ec",
   "metadata": {
    "execution": {
     "iopub.execute_input": "2024-03-10T06:40:06.424622Z",
     "iopub.status.busy": "2024-03-10T06:40:06.424139Z",
     "iopub.status.idle": "2024-03-10T06:40:06.429615Z",
     "shell.execute_reply": "2024-03-10T06:40:06.428706Z"
    },
    "papermill": {
     "duration": 0.013212,
     "end_time": "2024-03-10T06:40:06.431814",
     "exception": false,
     "start_time": "2024-03-10T06:40:06.418602",
     "status": "completed"
    },
    "tags": []
   },
   "outputs": [
    {
     "name": "stdout",
     "output_type": "stream",
     "text": [
      "False\n"
     ]
    }
   ],
   "source": [
    "# Check if the deque is empty again\n",
    "print(my_deque.isEmpty())"
   ]
  }
 ],
 "metadata": {
  "kaggle": {
   "accelerator": "none",
   "dataSources": [],
   "dockerImageVersionId": 30664,
   "isGpuEnabled": false,
   "isInternetEnabled": true,
   "language": "python",
   "sourceType": "notebook"
  },
  "kernelspec": {
   "display_name": "Python 3",
   "language": "python",
   "name": "python3"
  },
  "language_info": {
   "codemirror_mode": {
    "name": "ipython",
    "version": 3
   },
   "file_extension": ".py",
   "mimetype": "text/x-python",
   "name": "python",
   "nbconvert_exporter": "python",
   "pygments_lexer": "ipython3",
   "version": "3.10.13"
  },
  "papermill": {
   "default_parameters": {},
   "duration": 3.839217,
   "end_time": "2024-03-10T06:40:06.857643",
   "environment_variables": {},
   "exception": null,
   "input_path": "__notebook__.ipynb",
   "output_path": "__notebook__.ipynb",
   "parameters": {},
   "start_time": "2024-03-10T06:40:03.018426",
   "version": "2.5.0"
  }
 },
 "nbformat": 4,
 "nbformat_minor": 5
}
