{
 "cells": [
  {
   "cell_type": "markdown",
   "metadata": {},
   "source": [
    "# PR 3.2 Pjotr en Sennen\n",
    "\n",
    "Hierin staat de opdracht die we hebben gekregen na het hoorcollege van dinsdag 27 februari 2024.\n",
    "\n",
    "Hierbij gaan we het hebben over datastructuren in python.\n",
    "\n",
    "Python heeft een aantal ingebouwde datastructuren, zoals lists, tuples, sets en dictionaries. Maar voor sommige toepassingen zijn deze datastructuren niet geschikt. Daarom zijn er ook externe datastructuren, zoals arrays, linked lists, stacks, queues, trees, graphs en hash tables. Elk van deze datastructuren heeft zijn eigen voor- en nadelen. En wij gaan dus hier een aantal van deze datastructuren uitvoeren.\n",
    "\n",
    "Eerst gaan we 5 datastructuren uitproberen in Python. Hieronder zullen de datastructuren worden uitgelegd en worden uitgevoerd in Python."
   ]
  },
  {
   "cell_type": "code",
   "execution_count": 2,
   "metadata": {},
   "outputs": [],
   "source": [
    "import timeit"
   ]
  },
  {
   "cell_type": "markdown",
   "metadata": {},
   "source": [
    "## Dictionary\n",
    "\n",
    "In python is een dictionary een ongeordende collectie van items. Terwijl andere datastructuren items opslaan in een geordende manier, slaat een dictionary items op in een ongeordende manier. Een dictionary heeft een key en een value. Een key is een unieke waarde en een value kan een willekeurige waarde zijn. Een dictionary wordt gemaakt met behulp van accolades {}.\n",
    "\n",
    "Hier is een goed voorbeeld van een dictionary:\n",
    "\n",
    "Hierin maken we een nieuwe dictionary aan met de naam `Auto`. Hierin hebben we het merk, model naam en productiejaar van de auto opgeslagen. Je kan de waardes van de dictionary ophalen door de key te gebruiken. In dit geval hebben we de key `brand` gebruikt om de waarde van de key op te halen."
   ]
  },
  {
   "cell_type": "code",
   "execution_count": null,
   "metadata": {},
   "outputs": [],
   "source": [
    "Auto = {\n",
    "  \"brand\": \"Ford\",\n",
    "  \"model\": \"Mustang\",\n",
    "  \"year\": 1964\n",
    "}\n",
    "print(Auto)\n",
    "print(Auto[\"brand\"])"
   ]
  },
  {
   "cell_type": "markdown",
   "metadata": {},
   "source": [
    "Wat je hoeft niet altijd een string op te halen, je kan ook een integer of een float ophalen. Hier is een voorbeeld van een dictionary met een integer als key. Je kan hiervoor ook de functie get() gebruiken om de waarde van de key op te halen.\n",
    "\n",
    "Daarnaast kun je dictionary comprhension gebruiken om een dictionary te maken. Hier kan ik een list maken van cijfers waar i de key is en i krijgt dan de waarde van i tot de macht 3."
   ]
  },
  {
   "cell_type": "code",
   "execution_count": null,
   "metadata": {},
   "outputs": [],
   "source": [
    "Voorbeeld = {'Naam': 'Senne', 1.5: [1, 2, 3, 4]}\n",
    "print(Voorbeeld.get(1.5))\n",
    "\n",
    "comp = {i: i.__pow__(3) for i in [1,2,3,4,5]}\n",
    "print(comp)"
   ]
  },
  {
   "cell_type": "markdown",
   "metadata": {},
   "source": [
    "## Set\n",
    "Een set is een ongeordende collectie van unieke items. Een set kan worden gemaakt met behulp van accolades {} en de items worden gescheiden door komma's. Een set kan geen dubbele items bevatten. Een set kan ook worden gemaakt met behulp van de set() functie. In vergelijking met andere datastructuren, zoals lists en tuples, is een set sneller en efficiënter. Waar je ook verschillende datatypes in kan toevoegen. Hier is een voorbeeld van een set:"
   ]
  },
  {
   "cell_type": "code",
   "execution_count": 2,
   "metadata": {},
   "outputs": [
    {
     "name": "stdout",
     "output_type": "stream",
     "text": [
      "{1, 2, 3.14, 3, 4, 5, 'Help is needed'}\n"
     ]
    }
   ],
   "source": [
    "setvandingen= set([1,2,3,3.14,4,5,\"Help is needed\"])\n",
    "print(setvandingen)"
   ]
  },
  {
   "cell_type": "markdown",
   "metadata": {},
   "source": [
    "## Bytearray\n",
    "Een bytearray is een ingebouwde datastructuur in Python. Het is een array van bytes. Het is een mutable datastructuur (waardoor het anders werkt dan normale byte objecten), wat betekent dat je de waardes van de array kan veranderen. Een bytearray kan worden gemaakt met behulp van de functie bytearray()."
   ]
  },
  {
   "cell_type": "code",
   "execution_count": 6,
   "metadata": {},
   "outputs": [
    {
     "name": "stdout",
     "output_type": "stream",
     "text": [
      "bytearray(b'\\x00\\x00\\x00\\x00')\n",
      "bytearray(b'\\x00\\x01\\x02\\x03\\x04\\x05\\x06\\x07\\x08\\t\\n\\x0b\\x0c\\r\\x0e\\x0f\\x10\\x11\\x12\\x13')\n"
     ]
    }
   ],
   "source": [
    "lijstje1 = bytearray(5)\n",
    "lijstje2 = bytearray(range(20))\n",
    "\n",
    "lijstje1.append(1)  # Hier wordt een 1 aan het bytearray toegevoegd\n",
    "\n",
    "lijstje1.remove(1)  # Hier wordt de 1 weer uit het bytearray verwijderd\n",
    "\n",
    "# Hier wordt een bytearray gemaakt met 5 nullen\n",
    "print(lijstje1)\n",
    "\n",
    "# Hier wordt een bytearray gemaakt met 20 bytes, van 0 tot 19\n",
    "print(lijstje2)"
   ]
  },
  {
   "cell_type": "markdown",
   "metadata": {},
   "source": [
    "## Linked List\n",
    "Een linked list is een datastructuur die bestaat uit een reeks van nodes. Elke node bevat een waarde en een referentie naar de volgende node in de reeks. Een linked list kan een enkelvoudige linked list zijn, waarbij elke node een referentie heeft naar de volgende node in de reeks. Een linked list kan ook een dubbelvoudige linked list zijn, waarbij elke node een referentie heeft naar de vorige en de volgende node in de reeks. Een linked list kan ook een cirkelvormige linked list zijn, waarbij de laatste node een referentie heeft naar de eerste node in de reeks. Hier is een voorbeeld van een enkelvoudige linked list, aangezien de linked list niet een ingebouwde datastructuur is in Python, moeten we de linked list zelf maken:"
   ]
  },
  {
   "cell_type": "code",
   "execution_count": 4,
   "metadata": {},
   "outputs": [
    {
     "name": "stdout",
     "output_type": "stream",
     "text": [
      "1325 1 2 3 4 5 \n",
      "1 2 4 5 \n",
      "True\n",
      "False\n",
      "Dit is de linked list als object:\n",
      "<__main__.LinkedList object at 0x000001C0C3693E30>\n",
      "\n",
      "0.06945740000082878 seconden\n"
     ]
    }
   ],
   "source": [
    "# Elke node hoort in een linked list te zitten, die een waarde heeft en een pointer naar de volgende node\n",
    "class Node:\n",
    "    def __init__(self, data):\n",
    "        self.data = data\n",
    "        self.next = None\n",
    "\n",
    "# Hier is waar de magie gebeurt, de linked list class\n",
    "class LinkedList:\n",
    "    def __init__(self):\n",
    "        # De head is de eerste node in de linked list\n",
    "        self.head = None\n",
    "        \n",
    "    # Deze functie checkt of de linked list leeg is, dan wordt er een boolean teruggegeven genaamd none en dan is de head leeg.\n",
    "    def is_empty(self):\n",
    "        return self.head is None\n",
    "    \n",
    "    # Deze functie voegt een node toe aan het begin van de linked list\n",
    "    def insert_at_beginning(self, data):\n",
    "        new_node = Node(data)\n",
    "        new_node.next = self.head\n",
    "        self.head = new_node\n",
    "\n",
    "    # Deze functie voegt een node toe aan het einde van de linked list\n",
    "    def insert_at_end(self, data):\n",
    "        new_node = Node(data)\n",
    "        if self.is_empty():\n",
    "            self.head = new_node\n",
    "        else:\n",
    "            current = self.head\n",
    "            while current.next:\n",
    "                current = current.next\n",
    "            current.next = new_node\n",
    "\n",
    "    # Deze functie verwijdert een node uit de linked list\n",
    "    def delete(self, data):\n",
    "        # Als de linked list leeg is, dan wordt er niks gedaan\n",
    "        if self.is_empty():\n",
    "            return\n",
    "        # Als de head van de linked list de data bevat, dan wordt de head de volgende node\n",
    "        if self.head.data == data:\n",
    "            self.head = self.head.next\n",
    "            return\n",
    "        # De current node wordt de head\n",
    "        current = self.head\n",
    "        # Terwijl de volgende node bestaat, wordt er gekeken of de volgende node de data bevat. Zo ja, dan wordt de volgende node de node daarna\n",
    "        while current.next:\n",
    "            if current.next.data == data:\n",
    "                current.next = current.next.next\n",
    "                return\n",
    "            current = current.next\n",
    "    \n",
    "    # Deze functie zoekt naar een node in de linked list\n",
    "    def search(self, data):\n",
    "        current = self.head\n",
    "        while current:\n",
    "            if current.data == data:\n",
    "                return True\n",
    "            current = current.next\n",
    "        return False\n",
    "    \n",
    "    #  Deze functie print de linked list\n",
    "    def display(self):\n",
    "        current = self.head\n",
    "        while current:\n",
    "            print(current.data, end=\" \")\n",
    "            current = current.next\n",
    "        print()\n",
    "\n",
    "# Voorbeeld van gebruik\n",
    "linked_list = LinkedList()\n",
    "linked_list.insert_at_beginning(3)\n",
    "linked_list.insert_at_beginning(2)\n",
    "linked_list.insert_at_beginning(1)\n",
    "linked_list.insert_at_beginning(1325)\n",
    "linked_list.insert_at_end(4)\n",
    "linked_list.insert_at_end(5)\n",
    "linked_list.display()  # Output: 1 2 3 4 5\n",
    "\n",
    "linked_list.delete(3)\n",
    "linked_list.delete(1325)\n",
    "linked_list.display()  # Output: 1 2 4 5\n",
    "\n",
    "print(linked_list.search(4))  # Output: True\n",
    "print(linked_list.search(6))  # Output: False\n",
    "print(\"Dit is de linked list als object:\")\n",
    "print(linked_list)  # Output: Wat de linked list is als object.\n",
    "print()\n",
    "\n",
    "print(timeit.timeit('linked_list', globals=globals(), number=1000000), \"seconden\")"
   ]
  },
  {
   "cell_type": "markdown",
   "metadata": {},
   "source": [
    "### Kleine tips\n",
    "Er zijn library's die je kan gebruiken om een linked list te maken, zoals de library `collections`. Hierin kan je de `deque` gebruiken om een linked list te maken."
   ]
  },
  {
   "cell_type": "code",
   "execution_count": 23,
   "metadata": {},
   "outputs": [
    {
     "name": "stdout",
     "output_type": "stream",
     "text": [
      "deque([0, 1, 2, 3])\n"
     ]
    }
   ],
   "source": [
    "import collections\n",
    "# Een deque is een double-ended queue, wat betekent dat je van beide kanten dingen kan toevoegen en verwijderen\n",
    "de = collections.deque([1, 2, 3]) # output: deque([1, 2, 3])\n",
    "de.append(4) # output: deque([1, 2, 3, 4])\n",
    "de.appendleft(0) # output: deque([0, 1, 2, 3, 4])\n",
    "de.pop() # output: deque([0, 1, 2, 3])\n",
    "print(de)"
   ]
  },
  {
   "cell_type": "markdown",
   "metadata": {},
   "source": [
    "# Waar worden ze in gebruikt?\n",
    "Veel van de bovengenoemde datastructuren kunnen worden gebruikt in verschillende algoritmes. Dat gaan we nu documenteren in de volgende opdrachten. We moeten nu van de bovenstaande datastructeren, beschrijven in welke algoritmes ze worden gebruikt. We gaan dus het hebben over welke algoritmes Dictionaries, Sets, Bytearray, Linked list gebruiken."
   ]
  },
  {
   "cell_type": "markdown",
   "metadata": {},
   "source": [
    "## Dictionary -- Breadth-First Search\n",
    "Dictionaries worden vaak gebruikt in zoekalgoritmes vanwege hun efficiëntie bij het opzoeken van waarden. In plaats van lineair door een lijst of array te zoeken, kunnen we met behulp van een dictionary direct de waarde vinden die overeenkomt met een specifieke sleutel.\n",
    "\n",
    "In het geval van het Breadth-First Search (BFS) algoritme, wordt een dictionary gebruikt om bij te houden welke knopen al zijn bezocht tijdens het doorlopen van een grafiek. De sleutels van de dictionary zijn de knopen en de waarden zijn booleans die aangeven of een knoop al is bezocht of niet.\n",
    "\n",
    "Het gebruik van een dictionary in BFS heeft een aantal voordelen. Ten eerste stelt het ons in staat om snel te controleren of een knoop al is bezocht of niet. Dit is belangrijk omdat we anders mogelijk dezelfde knoop meerdere keren zouden bezoeken, wat inefficiënt zou zijn. Met een dictionary kunnen we in constante tijd controleren of een knoop al in de dictionary aanwezig is.\n",
    "\n",
    "De big O notation voor Breadth-First Search wordt omschreven als O(V + E), waar V weerstaat voor de hoekpunten en E staat voor randen. Net zoals in het engels voor Vertices en Edges. Wat uiteindelijk kan worden gezien als O(b^d). Waar b staat voor de branching factor en d staat voor de diepte van de boom.\n",
    " \n",
    "Hieronder is een implementatie van de Breadth-First Search algorithm die gebruikt maakt van Dictionaires in Python."
   ]
  },
  {
   "cell_type": "code",
   "execution_count": 5,
   "metadata": {},
   "outputs": [
    {
     "name": "stdout",
     "output_type": "stream",
     "text": [
      "BFS traversal starting from vertex A :\n",
      "A B C D E F \n",
      "Parent map: {'A': None, 'B': 'A', 'C': 'A', 'D': 'B', 'E': 'B', 'F': 'C'}\n",
      "0.043045900001743576 seconden\n"
     ]
    }
   ],
   "source": [
    "from collections import deque\n",
    "\n",
    "def bfs(graph, start):\n",
    "    # Initialiseer een wachtrij voor BFS-traversal\n",
    "    queue = deque([start])\n",
    "    \n",
    "    # Initialiseer een verzameling om bezochte knooppunten bij te houden\n",
    "    visited = set([start])\n",
    "    \n",
    "    # Initialiseer een woordenboek om de ouder van elk knooppunt op te slaan\n",
    "    parents = {start: None}\n",
    "    \n",
    "    # Voer BFS-traversal uit\n",
    "    while queue:\n",
    "        # Haal een knooppunt uit de wachtrij\n",
    "        current_vertex = queue.popleft()\n",
    "        \n",
    "        # Verwerk het huidige knooppunt\n",
    "        print(current_vertex, end=' ')\n",
    "        \n",
    "        # Bezoek elke buur van het huidige knooppunt\n",
    "        for neighbor in graph[current_vertex]:\n",
    "            if neighbor not in visited:\n",
    "                # Markeer de buur als bezocht\n",
    "                visited.add(neighbor)\n",
    "                \n",
    "                # Voeg de buur toe aan de wachtrij voor verdere verkenning\n",
    "                queue.append(neighbor)\n",
    "                \n",
    "                # Registreer de ouder van de buur\n",
    "                parents[neighbor] = current_vertex\n",
    "    \n",
    "    return parents\n",
    "\n",
    "# Voorbeeldgrafiek weergegeven als een adjacentiematrix\n",
    "graph = {\n",
    "    'A': ['B', 'C'],\n",
    "    'B': ['A', 'D', 'E'],\n",
    "    'C': ['A', 'F'],\n",
    "    'D': ['B'],\n",
    "    'E': ['B', 'F'],\n",
    "    'F': ['C', 'E']\n",
    "}\n",
    "\n",
    "# Startknooppunt voor BFS-traversal\n",
    "start_vertex = 'A'\n",
    "\n",
    "# Voer BFS-traversal uit\n",
    "print(\"BFS traversal starting from vertex\", start_vertex, \":\")\n",
    "parent_map = bfs(graph, start_vertex)\n",
    "print(\"\\nParent map:\", parent_map)\n",
    "\n",
    "# Print uit hoeveel tijd het kost om de bfs functie uit te voeren\n",
    "print(timeit.timeit('bfs', globals=globals(), number=1000000), \"seconden\")"
   ]
  },
  {
   "cell_type": "markdown",
   "metadata": {},
   "source": [
    "## Set -- Dijkstra\n",
    "Een set is een ongeorderde set aan data. ZE zijn efficient als het gaat om checken of een item in de set staat en je kan er snel wiskundige operaties mee doen.\n",
    "\n",
    "Dijkstra's algoritme wordt gebruikt om de snelste route te kunnen vinden tussen 2 punten op een bv. grafiek. \n",
    "Bij een voorbeeld van navigatie software, zou een set i.c.m Dijksta's algoritme gebruikt kunnen worden om de snelste route te kunnen berekenen tussen meerdere punten.\n",
    "\n",
    "De big O notation voor Dijkstra wordt omschreven als O(E log(V)). Hier is E het aantal randen en V het aantal hoeken. In het engels E = Edges en V = vertices.\n",
    "\n",
    "Hieronder is een implementatie van dijkstra die gebruikt maakt van Sets in het algoritme."
   ]
  },
  {
   "cell_type": "code",
   "execution_count": 7,
   "metadata": {},
   "outputs": [
    {
     "name": "stdout",
     "output_type": "stream",
     "text": [
      "Kortste afstand van A tussen elk hoekpunt is: {'A': 0, 'B': 1, 'C': 3, 'D': 4}\n",
      "0.05416020000120625 seconden\n"
     ]
    }
   ],
   "source": [
    "import heapq\n",
    "\n",
    "def dijkstra(graph, start):\n",
    "    # Initialiseer afstanden naar alle knooppunten als oneindig\n",
    "    distances = {vertex: float('inf') for vertex in graph}\n",
    "    distances[start] = 0\n",
    "    \n",
    "    # Initialiseer een verzameling om bezochte knooppunten bij te houden\n",
    "    visited = set()\n",
    "    \n",
    "    # Prioriteitswachtrij (min heap) om knooppunten met hun afstanden op te slaan\n",
    "    priority_queue = [(0, start)]\n",
    "    \n",
    "    while priority_queue:\n",
    "        # Haal het knooppunt met de kleinste afstand uit de prioriteitswachtrij\n",
    "        current_distance, current_vertex = heapq.heappop(priority_queue)\n",
    "        \n",
    "        # Sla over als het knooppunt al is bezocht\n",
    "        if current_vertex in visited:\n",
    "            continue\n",
    "        \n",
    "        # Voeg het knooppunt toe aan de bezochte verzameling\n",
    "        visited.add(current_vertex)\n",
    "        \n",
    "        # Werk afstanden naar naburige knooppunten bij\n",
    "        for neighbor, weight in graph[current_vertex].items():\n",
    "            distance = current_distance + weight\n",
    "            if distance < distances[neighbor]:\n",
    "                distances[neighbor] = distance\n",
    "                # Voeg het buurknooppunt toe aan de prioriteitswachtrij\n",
    "                heapq.heappush(priority_queue, (distance, neighbor))\n",
    "    \n",
    "    return distances\n",
    "\n",
    "# Voorbeeldgrafiek weergegeven als een adjacentiematrix\n",
    "graph = {\n",
    "    'A': {'B': 1, 'C': 4},\n",
    "    'B': {'A': 1, 'C': 2, 'D': 5},\n",
    "    'C': {'A': 4, 'B': 2, 'D': 1},\n",
    "    'D': {'B': 5, 'C': 1}\n",
    "}\n",
    "\n",
    "# Startknooppunt\n",
    "start_vertex = 'A'\n",
    "\n",
    "\n",
    "# Voer het Dijkstra-algoritme uit\n",
    "shortest_distances = dijkstra(graph, start_vertex)\n",
    "print(\"Kortste afstand van\", start_vertex, \"tussen elk hoekpunt is:\", shortest_distances)\n",
    "print(timeit.timeit('dijkstra', globals=globals(), number=1000000), \"seconden\")"
   ]
  },
  {
   "cell_type": "markdown",
   "metadata": {},
   "source": [
    "## Byte Array -- RSA\n",
    "Hoewel RSA niet direct iets met data science te maken heeft, is het wel van belang in data beschermen en privacy. Encryptie en decriptie met RSA werkt, maar is niet perse de manier hoe RSA is geimplementeerd , met bytearrays, omdat de keys hierdoor makkelijk integer blijven en in het tussenloop niet gelijk herkenbaar zijn. Daarnaast zijn bytearrays ook efficienter dan strings, omdat ze minder geheugen gebruiken.\n",
    "\n",
    "De big O notation voor RSA wordt omschreven als O(n4) voor de encryptie en O(n3) voor decryptie.\n",
    "\n",
    "Hieronder is een implementatie van RSA die gebruikt maakt van Byte Arrays in het algoritme."
   ]
  },
  {
   "cell_type": "code",
   "execution_count": 3,
   "metadata": {},
   "outputs": [
    {
     "name": "stdout",
     "output_type": "stream",
     "text": [
      "Original message: Hello, RSA!\n",
      "Encrypted bytes: [21, 271, 299, 299, 42, 62, 223, 5, 87, 107, 67]\n",
      "Decrypted message: Hello, RSA!\n",
      "0.016042499999969095 seconden\n",
      "0.01182130000000825 seconden\n",
      "0.012734200000011242 seconden\n"
     ]
    }
   ],
   "source": [
    "import random\n",
    "\n",
    "# Functie om een bericht te versleutelen met behulp van RSA-algoritme\n",
    "def encrypt(message, public_key):\n",
    "    n, e = public_key\n",
    "    encrypted_bytes = []\n",
    "    \n",
    "    # Converteer het bericht naar bytes\n",
    "    message_bytes = bytearray(message.encode())\n",
    "    \n",
    "    # Versleutel elk byte van het bericht\n",
    "    for byte in message_bytes:\n",
    "        encrypted_byte = pow(byte, e, n)\n",
    "        encrypted_bytes.append(encrypted_byte)\n",
    "    \n",
    "    return encrypted_bytes\n",
    "# Functie om een bericht te ontsleutelen met behulp van RSA-algoritme\n",
    "def decrypt(encrypted_bytes, private_key):\n",
    "    n, d = private_key\n",
    "    decrypted_bytes = []\n",
    "    \n",
    "    # Ontsleutel elk byte van het bericht\n",
    "    for encrypted_byte in encrypted_bytes:\n",
    "        decrypted_byte = pow(encrypted_byte, d, n)\n",
    "        decrypted_bytes.append(decrypted_byte)\n",
    "    \n",
    "    # Converteer de ontsleutelde bytes naar een string\n",
    "    decrypted_message = bytearray(decrypted_bytes).decode()\n",
    "    \n",
    "    return decrypted_message\n",
    "\n",
    "# Voor eenvoud gebruiken we een vast sleutelpaar, omdat het genereren van grote priemgetallen rekenkundig duur is.\n",
    "def generate_key_pair():\n",
    "    # Genereer twee verschillende priemgetallen\n",
    "    p = 17\n",
    "    q = 19\n",
    "    \n",
    "    # Deze functie berekent n en phi(n) die worden gebruikt om de publieke en private sleutels te berekenen. Dus bijvoorbeeld n = 323 en phi = 288\n",
    "    # zou het resultaat berekenen van 17 * 19 = 323 en (17 - 1) * (19 - 1) = 288\n",
    "    n = p * q\n",
    "    phi = (p - 1) * (q - 1)\n",
    "\n",
    "    # Functie die de grootste gemene deler van a en b berekent met behulp van het algoritme van Euclides. Dus bijvoorbeeld gcd(10, 15) = 5\n",
    "    def gcd(a, b):\n",
    "        while b != 0:\n",
    "            a, b = b, a % b\n",
    "        return a\n",
    "    \n",
    "    # Deze functie berekent de modulaire multiplicatieve inverse van a modulo m, dus bijvoorbeeld modinv(7, 26) = 15.\n",
    "    # Die berekening zou zijn 7 * 15 ≡ 1 (mod 26) Je doet de inverse van het eerste nummer en vermenigvuldigt het met 1\n",
    "    def modinv(a, m):\n",
    "        for x in range(1, m):\n",
    "            if (a * x) % m == 1:\n",
    "                return x\n",
    "        return None\n",
    "    \n",
    "    # Kies een geheel getal e zodanig dat 1 < e < phi(n) en gcd(e, phi(n)) = 1\n",
    "    e = random.randrange(2, phi)\n",
    "    while gcd(e, phi) != 1:\n",
    "        e = random.randrange(2, phi)\n",
    "    \n",
    "    # Bereken de unieke d zodanig dat e * d ≡ 1 (mod phi(n))\n",
    "    d = modinv(e, phi)\n",
    "    \n",
    "    # Geef het publieke en private sleutelpaar terug\n",
    "    return (n, e), (n, d)\n",
    "\n",
    "# Genereer sleutelpaar\n",
    "public_key, private_key = generate_key_pair()\n",
    "\n",
    "# Versleutel bericht\n",
    "message = \"Hello, RSA!\"\n",
    "encrypted_bytes = encrypt(message, public_key)\n",
    "\n",
    "# Ontsleutel bericht\n",
    "decrypted_message = decrypt(encrypted_bytes, private_key)\n",
    "\n",
    "print(\"Original message:\", message)\n",
    "print(\"Encrypted bytes:\", encrypted_bytes)\n",
    "print(\"Decrypted message:\", decrypted_message)\n",
    "\n",
    "print(timeit.timeit('encrypt', globals=globals(), number=1000000), \"seconden\")\n",
    "print(timeit.timeit('decrypt', globals=globals(), number=1000000), \"seconden\")\n",
    "print(timeit.timeit('generate_key_pair', globals=globals(), number=1000000), \"seconden\")"
   ]
  },
  {
   "cell_type": "markdown",
   "metadata": {},
   "source": [
    "## Linked list - Merge sort\n",
    "Linked lists zitten overal in het geheugen, in tegenstelling tot reguliere lists. Hierdoor gaat random access moeilijk. \n",
    "Merge sort gebruikt alleen vergelijken en omwisselen, geen random access. \n",
    "Daarom zijn deze twee een goede combinatie.\n",
    "\n",
    "De big O notation voor Merge wordt omschreven als: O(n * log n).\n",
    "\n",
    "Hieronder is een implementatie van Merge sort die gebruikt maakt van Linked lists in het algoritme."
   ]
  },
  {
   "cell_type": "code",
   "execution_count": 13,
   "metadata": {},
   "outputs": [
    {
     "name": "stdout",
     "output_type": "stream",
     "text": [
      "Sorted Linked List is:\n",
      "2 3 5 10 15 20  \n",
      "0.07023079999999027 seconden\n"
     ]
    }
   ],
   "source": [
    "# maak een Node aan met behulp van de klasse Node.\n",
    "class Node:\n",
    "\tdef __init__(self, data):\n",
    "\t\tself.data = data\n",
    "\t\tself.next = None\n",
    "\n",
    "class LinkedList:\n",
    "\tdef __init__(self):\n",
    "\t\tself.head = None\n",
    "\t\n",
    "    # voeg nieuwe waarde toe aan de gekoppelde lijst\n",
    "    # met behulp van de append methode\n",
    "\tdef append(self, new_value):\n",
    "\t\t\n",
    "        # Wijs nieuwe knoop toe\n",
    "\t\tnew_node = Node(new_value)\n",
    "\t\t\n",
    "        # als de kop None is, initialiseren we deze met de nieuwe knoop\n",
    "\t\tif self.head is None:\n",
    "\t\t\tself.head = new_node\n",
    "\t\t\treturn\n",
    "\t\tcurr_node = self.head\n",
    "\t\twhile curr_node.next is not None:\n",
    "\t\t\tcurr_node = curr_node.next\n",
    "\t\t\t\n",
    "        # Voeg de nieuwe knoop toe aan het einde\n",
    "        # van de gekoppelde lijst\n",
    "\t\tcurr_node.next = new_node\n",
    "\t\t\n",
    "\tdef sortedMerge(self, a, b):\n",
    "\t\tresult = None\n",
    "\t\t\n",
    "        # Basisgevallen\n",
    "\t\tif a == None:\n",
    "\t\t\treturn b\n",
    "\t\tif b == None:\n",
    "\t\t\treturn a\n",
    "\t\t\t\n",
    "        # kies a of b en ga door met de recursie\n",
    "\t\tif a.data <= b.data:\n",
    "\t\t\tresult = a\n",
    "\t\t\tresult.next = self.sortedMerge(a.next, b)\n",
    "\t\telse:\n",
    "\t\t\tresult = b\n",
    "\t\t\tresult.next = self.sortedMerge(a, b.next)\n",
    "\t\treturn result\n",
    "\t\n",
    "\tdef mergeSort(self, h):\n",
    "\t\t\n",
    "        # Basisgeval als de kop None is\n",
    "\t\tif h == None or h.next == None:\n",
    "\t\t\treturn h\n",
    "\n",
    "        # krijg het midden van de lijst \n",
    "\t\tmiddle = self.getMiddle(h)\n",
    "\t\tnexttomiddle = middle.next\n",
    "\n",
    "        # Pas mergeSort toe op de linkerlijst \n",
    "\t\tmiddle.next = None\n",
    "\n",
    "        # Pas mergeSort toe op de rechterlijst\n",
    "\t\tleft = self.mergeSort(h)\n",
    "\t\t\n",
    "        # Pas mergeSort toe op de rechterlijst\n",
    "\t\tright = self.mergeSort(nexttomiddle)\n",
    "\n",
    "        # Voeg de linker- en rechterlijsten samen \n",
    "\t\tsortedlist = self.sortedMerge(left, right)\n",
    "\t\treturn sortedlist\n",
    "\t\n",
    "    # Hulpfunctie om het midden te krijgen \n",
    "    # van de gekoppelde lijst \n",
    "\tdef getMiddle(self, head):\n",
    "\t\tif (head == None):\n",
    "\t\t\treturn head\n",
    "\n",
    "\t\tslow = head\n",
    "\t\tfast = head\n",
    "\n",
    "\t\twhile (fast.next != None and\n",
    "\t\t\tfast.next.next != None):\n",
    "\t\t\tslow = slow.next\n",
    "\t\t\tfast = fast.next.next\n",
    "\t\t\t\n",
    "\t\treturn slow\n",
    "\t\t\n",
    "# Hulpfunctie om de gekoppelde lijst af te drukken \n",
    "def printList(head):\n",
    "\tif head is None:\n",
    "\t\tprint(' ')\n",
    "\t\treturn\n",
    "\tcurr_node = head\n",
    "\twhile curr_node:\n",
    "\t\tprint(curr_node.data, end = \" \")\n",
    "\t\tcurr_node = curr_node.next\n",
    "\tprint(' ')\n",
    "\t\n",
    "li = LinkedList()\n",
    "\t\n",
    "\t# Laten we een ongesorteerde gekoppelde lijst maken\n",
    "    # om de gemaakte functies te testen. \n",
    "    # De lijst zal zijn: 2->3->20->5->10->15 \n",
    "li.append(15)\n",
    "li.append(10)\n",
    "li.append(5)\n",
    "li.append(20)\n",
    "li.append(3)\n",
    "li.append(2)\n",
    "\n",
    "# Pas merge Sort toe \n",
    "li.head = li.mergeSort(li.head)\n",
    "print (\"Sorted Linked List is:\")\n",
    "printList(li.head)\n",
    "\n",
    "print(timeit.timeit('li.head', globals=globals(), number=1000000), \"seconden\")"
   ]
  }
 ],
 "metadata": {
  "kernelspec": {
   "display_name": "pjotr-sennen-des-portfolio-AO_7LpoM-py3.12",
   "language": "python",
   "name": "python3"
  },
  "language_info": {
   "codemirror_mode": {
    "name": "ipython",
    "version": 3
   },
   "file_extension": ".py",
   "mimetype": "text/x-python",
   "name": "python",
   "nbconvert_exporter": "python",
   "pygments_lexer": "ipython3",
   "version": "3.12.2"
  }
 },
 "nbformat": 4,
 "nbformat_minor": 2
}
