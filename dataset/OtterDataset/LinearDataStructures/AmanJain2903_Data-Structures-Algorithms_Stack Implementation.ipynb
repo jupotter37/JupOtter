{
 "cells": [
  {
   "cell_type": "markdown",
   "metadata": {},
   "source": [
    "# STACK USING ARRAY"
   ]
  },
  {
   "cell_type": "code",
   "execution_count": 25,
   "metadata": {},
   "outputs": [],
   "source": [
    "class StackUsingArray:\n",
    "    def __init__(self):\n",
    "        self.stack = []\n",
    "        self.top = -1\n",
    "    def push(self, val):\n",
    "        self.stack.append(val)\n",
    "        self.top+=1\n",
    "    def pop(self):\n",
    "        el = self.stack[self.top]\n",
    "        self.stack = self.stack[:self.top]\n",
    "        self.top-=1\n",
    "        return el\n",
    "    "
   ]
  },
  {
   "cell_type": "code",
   "execution_count": 26,
   "metadata": {},
   "outputs": [
    {
     "name": "stdout",
     "output_type": "stream",
     "text": [
      "3\n",
      "2\n",
      "7\n",
      "[1, 4, 5, 6, 8]\n"
     ]
    }
   ],
   "source": [
    "stackUsingArray = StackUsingArray()\n",
    "stackUsingArray.push(1)\n",
    "stackUsingArray.push(2)\n",
    "stackUsingArray.push(3)\n",
    "print(stackUsingArray.pop())\n",
    "print(stackUsingArray.pop())\n",
    "stackUsingArray.push(4)\n",
    "stackUsingArray.push(5)\n",
    "stackUsingArray.push(6)\n",
    "stackUsingArray.push(7)\n",
    "print(stackUsingArray.pop())\n",
    "stackUsingArray.push(8)\n",
    "print(stackUsingArray.stack)"
   ]
  },
  {
   "cell_type": "markdown",
   "metadata": {},
   "source": [
    "# STACK USING LINKED LIST"
   ]
  },
  {
   "cell_type": "code",
   "execution_count": 27,
   "metadata": {},
   "outputs": [],
   "source": [
    "class Node:\n",
    "    def __init__(self, value=None):\n",
    "        self.val = value\n",
    "        self.next = None\n",
    "\n",
    "class LinkedList:\n",
    "    def __init__(self):\n",
    "        self.head = None\n",
    "    def insertAtEnd(self, value):\n",
    "        node = Node(value)\n",
    "        if self.head is None:\n",
    "            self.head=node\n",
    "        else:\n",
    "            itr = self.head\n",
    "            while itr.next:\n",
    "                itr=itr.next\n",
    "            itr.next=node\n",
    "    def insertAtHead(self, value):\n",
    "        node=Node(value)\n",
    "        if self.head is None:\n",
    "            self.head=node\n",
    "        else:\n",
    "            node.next = self.head\n",
    "            self.head = node\n",
    "    def deleteLast(self):\n",
    "        itr = self.head\n",
    "        if itr is None or itr.next is None:\n",
    "            self.head=None\n",
    "        else:\n",
    "            while itr.next.next:\n",
    "                itr=itr.next\n",
    "            itr.next=None\n",
    "    def deleteHead(self):\n",
    "        if self.head is None:\n",
    "            return\n",
    "        else:\n",
    "            self.head = self.head.next\n",
    "    def print(self):\n",
    "        itr = self.head\n",
    "        ll = ''\n",
    "        while itr:\n",
    "            ll+=str(itr.val)\n",
    "            ll+=\" -> \"\n",
    "            itr=itr.next\n",
    "        print(ll)\n",
    "   \n",
    "class StackUsingLL:\n",
    "    def __init__(self):\n",
    "        self.stack = LinkedList()\n",
    "    def push(self, val):\n",
    "        self.stack.insertAtHead(val)\n",
    "    def pop(self):\n",
    "        top = self.stack.head\n",
    "        self.stack.head = self.stack.head.next\n",
    "        return top.val\n",
    "    def printStack(self):\n",
    "        self.stack.print()"
   ]
  },
  {
   "cell_type": "code",
   "execution_count": 31,
   "metadata": {},
   "outputs": [
    {
     "name": "stdout",
     "output_type": "stream",
     "text": [
      "3\n",
      "2\n",
      "7\n",
      "8 -> 6 -> 5 -> 4 -> 1 -> \n"
     ]
    }
   ],
   "source": [
    "stackUsingLL = StackUsingLL()\n",
    "stackUsingLL.push(1)\n",
    "stackUsingLL.push(2)\n",
    "stackUsingLL.push(3)\n",
    "print(stackUsingLL.pop())\n",
    "print(stackUsingLL.pop())\n",
    "stackUsingLL.push(4)\n",
    "stackUsingLL.push(5)\n",
    "stackUsingLL.push(6)\n",
    "stackUsingLL.push(7)\n",
    "print(stackUsingLL.pop())\n",
    "stackUsingLL.push(8)\n",
    "stackUsingLL.printStack()"
   ]
  },
  {
   "cell_type": "markdown",
   "metadata": {},
   "source": [
    "# STACK USING QUEUE"
   ]
  },
  {
   "cell_type": "code",
   "execution_count": 46,
   "metadata": {},
   "outputs": [],
   "source": [
    "class Queue:\n",
    "    def __init__(self, capacity):\n",
    "        self.cap = capacity\n",
    "        self.queue = [-1]*self.cap\n",
    "        self.cnt = 0\n",
    "        self.front = self.rear = 0\n",
    "    def push(self, val):\n",
    "        self.queue[self.rear%self.cap] = val\n",
    "        self.rear+=1\n",
    "        self.cnt+=1\n",
    "    def pop(self):\n",
    "        if self.cnt==0:\n",
    "            return -1\n",
    "        el = self.queue[self.front%self.cap]\n",
    "        self.cnt-=1\n",
    "        self.front+=1\n",
    "        return el\n",
    "    def printQueue(self):\n",
    "        q = []\n",
    "        for i in range(self.front, self.rear):\n",
    "            q.append(self.queue[i%self.cap])\n",
    "        print(q)\n",
    "\n",
    "#Using Two Queues\n",
    "class StackUsingQueues:\n",
    "    def __init__(self, capacity):\n",
    "        self.MainQueue = Queue(capacity)\n",
    "        self.sideQueue = Queue(capacity)\n",
    "    def push(self, val):\n",
    "        while self.MainQueue.cnt>0:\n",
    "            self.sideQueue.push(self.MainQueue.pop())\n",
    "        self.MainQueue.push(val)\n",
    "        while self.sideQueue.cnt>0:\n",
    "            self.MainQueue.push(self.sideQueue.pop())\n",
    "    def pop(self):\n",
    "        return self.MainQueue.pop()\n",
    "    def printStack(self):\n",
    "        self.MainQueue.printQueue()\n",
    "\n",
    "#Using Single Queue\n",
    "class StackUsingQueue:\n",
    "    def __init__(self, capacity):\n",
    "        self.queue = Queue(capacity)\n",
    "    def push(self, val):\n",
    "        cnt = self.queue.cnt\n",
    "        self.queue.push(val)\n",
    "        for _ in range(cnt):\n",
    "            self.queue.push(self.queue.pop())\n",
    "    def pop(self):\n",
    "        return self.queue.pop()\n",
    "    def printStack(self):\n",
    "        self.queue.printQueue()"
   ]
  },
  {
   "cell_type": "code",
   "execution_count": 47,
   "metadata": {},
   "outputs": [
    {
     "name": "stdout",
     "output_type": "stream",
     "text": [
      "3\n",
      "2\n",
      "7\n",
      "8\n",
      "[9, 6, 5, 4, 1]\n"
     ]
    }
   ],
   "source": [
    "stackUsingQueue = StackUsingQueue(10)\n",
    "stackUsingQueue.push(1)\n",
    "stackUsingQueue.push(2)\n",
    "stackUsingQueue.push(3)\n",
    "print(stackUsingQueue.pop())\n",
    "print(stackUsingQueue.pop())\n",
    "stackUsingQueue.push(4)\n",
    "stackUsingQueue.push(5)\n",
    "stackUsingQueue.push(6)\n",
    "stackUsingQueue.push(7)\n",
    "print(stackUsingQueue.pop())\n",
    "stackUsingQueue.push(8)\n",
    "print(stackUsingQueue.pop())\n",
    "stackUsingQueue.push(9)\n",
    "stackUsingQueue.printStack()"
   ]
  }
 ],
 "metadata": {
  "kernelspec": {
   "display_name": "Python 3",
   "language": "python",
   "name": "python3"
  },
  "language_info": {
   "codemirror_mode": {
    "name": "ipython",
    "version": 3
   },
   "file_extension": ".py",
   "mimetype": "text/x-python",
   "name": "python",
   "nbconvert_exporter": "python",
   "pygments_lexer": "ipython3",
   "version": "3.9.6"
  }
 },
 "nbformat": 4,
 "nbformat_minor": 2
}
