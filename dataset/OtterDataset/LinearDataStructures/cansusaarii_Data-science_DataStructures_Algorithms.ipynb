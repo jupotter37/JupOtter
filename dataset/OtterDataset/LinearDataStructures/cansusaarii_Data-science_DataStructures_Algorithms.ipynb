{
 "cells": [
  {
   "cell_type": "markdown",
   "id": "f4f9d1c7-913e-43ba-89f7-e957d06bb3c8",
   "metadata": {},
   "source": [
    "The basic steps to learn DSA is as follows:\n",
    "\n",
    "Step 1 - Time and Space complexities\n",
    "\n",
    "Time and Space complexities are the measures of the amount of time required to execute the code (Time Complexity) and amount of space required to execute the code (Space Complexity).\n",
    "\n",
    "Step 2 - Data Structures\n",
    "\n",
    "Different types of data structures like Array, Stack, Queue, Linked List et.\n",
    "\n",
    "Step 3 - Algorithms\n",
    "\n",
    "Associated algorithms to process the data stored in these data structures. These algorithms include searching, sorting, and other algorithms."
   ]
  },
  {
   "cell_type": "markdown",
   "id": "61b23276-128b-4536-ae7a-38280fcecc2a",
   "metadata": {},
   "source": [
    "### Big O Notation ###\n",
    "\n",
    "Big O notation helps analyze how the runtime of an algorithm grows relative to the input size. Time complexity can range from O(1) (constant time) to O(n!), indicating how the algorithm performs as the dataset scales.\n",
    "\n",
    "**Time Complexity**\n",
    "\n",
    "No matter the size of the list, accessing the first element always takes the same amount of time.\n",
    "Efficiency: Very efficient, as it performs a fixed number of operations."
   ]
  },
  {
   "cell_type": "code",
   "execution_count": 91,
   "id": "6e6d860f-e406-4319-a6e5-5127e4db9802",
   "metadata": {},
   "outputs": [
    {
     "name": "stdout",
     "output_type": "stream",
     "text": [
      "10\n"
     ]
    }
   ],
   "source": [
    "# O(1) - Constant Time ,  Checking the first element in a list\n",
    "\n",
    "def get_first_element(arr):\n",
    "    return arr[0]  # Always takes constant time, no matter the size of arr\n",
    "\n",
    "my_list = [10, 20, 30, 40, 50]\n",
    "print(get_first_element(my_list))"
   ]
  },
  {
   "cell_type": "code",
   "execution_count": 94,
   "id": "14728653-7535-4cc7-a7ef-dd9700b385d7",
   "metadata": {},
   "outputs": [
    {
     "name": "stdout",
     "output_type": "stream",
     "text": [
      "350\n"
     ]
    }
   ],
   "source": [
    "# O(n) - Linear Time , Sum of elements in a list\n",
    "\n",
    "def total_price(prices):\n",
    "    total = 0\n",
    "    for price in prices:\n",
    "        total += price\n",
    "    return total\n",
    "\n",
    "prices = [100, 50, 30, 20, 150]\n",
    "print(total_price(prices))"
   ]
  },
  {
   "cell_type": "markdown",
   "id": "6f774c04-7d59-4693-812f-8d8cb0e032ff",
   "metadata": {},
   "source": [
    "The time taken grows directly in proportion to the number of elements in the list.\n",
    "\n",
    "Efficiency: Acceptable for small or moderate input sizes, but can become slow for large data sets.\n",
    "\n",
    "In Real-Life Scenario: If you're going through every item in a shopping cart to calculate the total cost, the more items you add, the longer it takes."
   ]
  },
  {
   "cell_type": "code",
   "execution_count": 97,
   "id": "a7b7851e-ab76-4dfa-8457-680b76aa714b",
   "metadata": {},
   "outputs": [
    {
     "name": "stdout",
     "output_type": "stream",
     "text": [
      "Comparing 1 and 2\n",
      "Comparing 1 and 3\n",
      "Comparing 2 and 3\n"
     ]
    }
   ],
   "source": [
    "# O(n²) - Quadratic Time , Comparing every pair in a list\n",
    "\n",
    "def compare_pairs(arr):\n",
    "    for i in range(len(arr)):\n",
    "        for j in range(i+1, len(arr)):\n",
    "            print(f\"Comparing {arr[i]} and {arr[j]}\")\n",
    "\n",
    "numbers = [1, 2, 3]\n",
    "compare_pairs(numbers)"
   ]
  },
  {
   "cell_type": "markdown",
   "id": "9512b09a-8145-4008-b823-c55ee34205ab",
   "metadata": {},
   "source": [
    "As the input size increases, the number of operations grows much faster. For n elements, it performs roughly n² comparisons.\n",
    "\n",
    "Efficiency: Not efficient for large data sets. Doubling the input size leads to four times more comparisons."
   ]
  },
  {
   "cell_type": "markdown",
   "id": "041ed7d7-6287-4744-9b80-0b0bc2e149e8",
   "metadata": {},
   "source": [
    "**Space Complexity**\n",
    "\n",
    "\n",
    "Space complexity measures how much memory an algorithm uses relative to the input size. In both linear_search and binary_search, the space complexity is O(1) because no extra memory is used that scales with input size."
   ]
  },
  {
   "cell_type": "code",
   "execution_count": 100,
   "id": "5de9d557-594a-42f5-a07f-1df9b51b0151",
   "metadata": {},
   "outputs": [
    {
     "name": "stdout",
     "output_type": "stream",
     "text": [
      "[1, 2, 3, 4]\n"
     ]
    }
   ],
   "source": [
    "# O(n) - Linear Space , Creating a new list\n",
    "\n",
    "def duplicate_list(arr):\n",
    "    new_list = []\n",
    "    for item in arr:\n",
    "        new_list.append(item)\n",
    "    return new_list\n",
    "\n",
    "original = [1, 2, 3, 4]\n",
    "copy = duplicate_list(original)\n",
    "print(copy)"
   ]
  },
  {
   "cell_type": "markdown",
   "id": "8a1baa70-defb-413c-b6ae-0bf0392211a7",
   "metadata": {},
   "source": [
    "### Built-in Data Types (Primitive Data Types) ###\n",
    "\n",
    "\n",
    "These are the basic data types provided by the language, used to represent single values. Integer (int),Float (float),Boolean Type (bool),Text Type (str).\n",
    "\n",
    "\n",
    "### Derived Data Types (Composite Data Types) ###\n",
    "\n",
    "List: An ordered, mutable collection of elements (can hold any data type).\n",
    "\n",
    "Tuple: An ordered, immutable collection of elements.\n",
    "\n",
    "Dictionary: A collection of key-value pairs, where each key maps to a value.\n",
    "\n",
    "Arrays (from external libraries like NumPy, similar to lists but more optimized for numerical operations)."
   ]
  },
  {
   "cell_type": "markdown",
   "id": "8e83c79c-5423-45b4-8ebf-d55a07138b2d",
   "metadata": {},
   "source": [
    "### Data Structure ###\n",
    "\n",
    "Data Structure is a systematic way to organize data in order to use it efficiently.\n",
    "\n",
    "**Linear Data Structures**\n",
    "\n",
    "A linear data structure is a structure in which elements are arranged sequentially or in a linear order. (Arrays, lists, stacks and queues)\n",
    "\n",
    "**Nonlinear Data Structures**\n",
    "\n",
    "A nonlinear data structure is a structure in which data elements are not arranged in a sequential manner. (Trees, garphs)"
   ]
  },
  {
   "cell_type": "markdown",
   "id": "1958711d-e5a0-487e-a541-f966be14def1",
   "metadata": {},
   "source": [
    "**Arrays** (Fixed-size vs dynamic, access time O(1), insertion/removal O(n))\n",
    "\n",
    "**Linked Lists** (Singly and doubly linked lists, time complexity for operations)\n",
    "\n",
    "**Stacks and Queues** (LIFO and FIFO principles, usage in problem-solving)\n",
    "\n",
    "**Hash Tables** (Efficient key-value storage with O(1) average lookup time)\n",
    "\n",
    "**Trees** (Binary trees, binary search trees, AVL trees, time complexities)\n",
    "\n",
    "**Graphs** (DFS, BFS, Dijkstra's algorithm, their use cases and complexity)"
   ]
  },
  {
   "cell_type": "markdown",
   "id": "51dc11b6-cc17-4353-9671-c7c937025c04",
   "metadata": {},
   "source": [
    "### Arrays ###"
   ]
  },
  {
   "cell_type": "code",
   "execution_count": 25,
   "id": "c916ceea-9285-4b6d-8b22-e3db17940ac2",
   "metadata": {},
   "outputs": [
    {
     "name": "stdout",
     "output_type": "stream",
     "text": [
      "3\n"
     ]
    }
   ],
   "source": [
    "arr = [1, 2, 3, 4, 5] # Fixed-size array in Python using a list\n",
    "print(arr[2])  # Accessing an element (O(1))"
   ]
  },
  {
   "cell_type": "code",
   "execution_count": 27,
   "id": "54d250be-c00a-4fcd-bd96-6d8271b94e78",
   "metadata": {},
   "outputs": [
    {
     "name": "stdout",
     "output_type": "stream",
     "text": [
      "[1, 2, 99, 3, 4, 5]\n"
     ]
    }
   ],
   "source": [
    "arr.insert(2, 99)  # Inserting an element (O(n)), insert 99 at index 2,\n",
    "print(arr) "
   ]
  },
  {
   "cell_type": "code",
   "execution_count": 29,
   "id": "b2275baf-810b-46b8-981f-fd8325d0f367",
   "metadata": {},
   "outputs": [
    {
     "name": "stdout",
     "output_type": "stream",
     "text": [
      "[1, 2, 3, 4, 5]\n"
     ]
    }
   ],
   "source": [
    "arr.pop(2)  # Removing an element (O(n)), remove element at index 2 \n",
    "print(arr)"
   ]
  },
  {
   "cell_type": "code",
   "execution_count": 31,
   "id": "245606f5-17db-4fb5-a0bf-ba6ed6d45099",
   "metadata": {},
   "outputs": [
    {
     "name": "stdout",
     "output_type": "stream",
     "text": [
      "[0, 1, 2, 3, 4, 5]\n"
     ]
    }
   ],
   "source": [
    "#Dynamic Arrays\n",
    "dynamic_array = []\n",
    "for i in range(6):\n",
    "    dynamic_array.append(i)  # Dynamic resizing happens automatically\n",
    "print(dynamic_array)"
   ]
  },
  {
   "cell_type": "markdown",
   "id": "3f051f0b-f033-4fa3-a71e-a6059f5473d6",
   "metadata": {},
   "source": [
    "### Linked Lists ###\n",
    "\n",
    "A linked list is a linear data structure which can store a collection of \"nodes\" connected together via links i.e. pointers."
   ]
  },
  {
   "cell_type": "code",
   "execution_count": 57,
   "id": "3ed20e58-ee65-475d-9bc5-d5d05a61c717",
   "metadata": {},
   "outputs": [],
   "source": [
    "# Node Class\n",
    "class Node:\n",
    "    def __init__(self, data):\n",
    "        self.data = data  # Stores the data\n",
    "        self.next = None  # Points to the next node in the list\n",
    "\n",
    "class LinkedList:\n",
    "    def __init__(self):\n",
    "        self.head = None  # The first node (head) of the list is initially empty\n",
    "    def insert_at_beginning(self, data): # Insertion\n",
    "        new_node = Node(data)  # Create a new node\n",
    "        new_node.next = self.head  # New node points to the current head\n",
    "        self.head = new_node  # Update head to point to the new node\n",
    "\n",
    "ll = LinkedList()\n",
    "ll.insert_at_beginning(10)\n",
    "ll.insert_at_beginning(20)  # Insert 20 at the beginning"
   ]
  },
  {
   "cell_type": "markdown",
   "id": "c38b76e0-b63b-4aed-ad11-ca142df864fb",
   "metadata": {},
   "source": [
    "### Stacks ###\n",
    "\n",
    "A stack is a linear data structure that follows the LIFO (Last In, First Out) principle. In this structure, elements are added and removed only from one end, known as the top of the stack. The most recently added element is the first one to be removed, which resembles a stack of plates or books."
   ]
  },
  {
   "cell_type": "code",
   "execution_count": 67,
   "id": "d2f2e27a-8934-40cc-8391-b8174c8b79c3",
   "metadata": {},
   "outputs": [],
   "source": [
    "# Basic Operations\n",
    "\n",
    "class Stack:\n",
    "    def __init__(self):\n",
    "        self.stack = []\n",
    "\n",
    "    # Push operation = Adding element\n",
    "    def push(self, data):\n",
    "        self.stack.append(data)\n",
    "        print(f\"{data} pushed to stack\")\n",
    "\n",
    "    # Pop operation = Removing element\n",
    "    def pop(self):\n",
    "        if not self.is_empty():\n",
    "            popped_element = self.stack.pop()  # Remove and return the top element\n",
    "            print(f\"{popped_element} popped from stack\")\n",
    "            return popped_element\n",
    "        else:\n",
    "            print(\"Stack is empty. Cannot pop element.\")\n",
    "            return None\n",
    "\n",
    "     # isEmpty operation\n",
    "    def is_empty(self):\n",
    "        return len(self.stack) == 0  # Returns True if stack is empty\n",
    "    def display(self):\n",
    "        print(\"Stack:\", self.stack)"
   ]
  },
  {
   "cell_type": "code",
   "execution_count": 69,
   "id": "4b724b71-0b03-4652-86b5-5a31e98cf470",
   "metadata": {},
   "outputs": [],
   "source": [
    "stack = Stack()"
   ]
  },
  {
   "cell_type": "code",
   "execution_count": 71,
   "id": "4b7688c3-00f3-48ea-8d84-43638f3319c1",
   "metadata": {},
   "outputs": [
    {
     "name": "stdout",
     "output_type": "stream",
     "text": [
      "10 pushed to stack\n",
      "20 pushed to stack\n",
      "30 pushed to stack\n",
      "Stack: [10, 20, 30]\n"
     ]
    }
   ],
   "source": [
    "stack.push(10)\n",
    "stack.push(20)\n",
    "stack.push(30)\n",
    "stack.display()"
   ]
  },
  {
   "cell_type": "code",
   "execution_count": 73,
   "id": "93dda4cf-3f79-4b44-8c51-487dc92473fc",
   "metadata": {},
   "outputs": [
    {
     "name": "stdout",
     "output_type": "stream",
     "text": [
      "30 popped from stack\n"
     ]
    },
    {
     "data": {
      "text/plain": [
       "30"
      ]
     },
     "execution_count": 73,
     "metadata": {},
     "output_type": "execute_result"
    }
   ],
   "source": [
    "stack.pop()"
   ]
  },
  {
   "cell_type": "markdown",
   "id": "31b41d3d-fb39-472e-b571-05538cd1dae1",
   "metadata": {},
   "source": [
    "### Queue ###\n",
    "\n",
    "A queue is a linear data structure that follows the FIFO (First In, First Out) principle. In this structure, the element that is added first is the first one to be removed."
   ]
  },
  {
   "cell_type": "code",
   "execution_count": 78,
   "id": "6194285c-92c7-4ad9-b296-0206ea986d8b",
   "metadata": {},
   "outputs": [],
   "source": [
    "# enqueue is done using append().\n",
    "#dequeue is done using pop(0) to remove the first element.\n",
    "\n",
    "class Queue:\n",
    "    def __init__(self):\n",
    "        self.queue = []\n",
    "\n",
    "    # Enqueue operation\n",
    "    def enqueue(self, data):\n",
    "        self.queue.append(data)  # Add to the rear of the queue\n",
    "        print(f\"{data} enqueued to queue\")\n",
    "\n",
    "    # Dequeue operation\n",
    "    def dequeue(self):\n",
    "        if not self.is_empty():\n",
    "            removed_element = self.queue.pop(0)  # Remove from the front of the queue\n",
    "            print(f\"{removed_element} dequeued from queue\")\n",
    "            return removed_element\n",
    "        else:\n",
    "            print(\"Queue is empty. Cannot dequeue element.\")\n",
    "            return None"
   ]
  },
  {
   "cell_type": "code",
   "execution_count": 80,
   "id": "31e81280-d06b-4905-bad1-22cad40d8e0b",
   "metadata": {},
   "outputs": [
    {
     "name": "stdout",
     "output_type": "stream",
     "text": [
      "10 enqueued to queue\n",
      "20 enqueued to queue\n"
     ]
    }
   ],
   "source": [
    "q = Queue()\n",
    "q.enqueue(10)  # Enqueue 10 to the queue\n",
    "q.enqueue(20)  # Enqueue 20 to the queue"
   ]
  },
  {
   "cell_type": "markdown",
   "id": "a4baa961-0132-4d9e-b2bf-c15a20a82bbc",
   "metadata": {},
   "source": [
    "### Characteristics of Data Structure ###\n",
    "\n",
    "Correctness − Data structure implementation should implement its interface correctly.\n",
    "\n",
    "Time Complexity − Running time or the execution time of operations of data structure must be as small as possible.\n",
    "\n",
    "Space Complexity − Memory usage of a data structure operation should be as little as possible."
   ]
  },
  {
   "cell_type": "markdown",
   "id": "db302dfb-f2f8-470c-84b3-4e18b5035838",
   "metadata": {},
   "source": [
    "### Algorithms ###\n",
    "\n",
    "Algorithm is a step-by-step procedure, which defines a set of instructions to be executed in a certain order to get the desired output. "
   ]
  },
  {
   "cell_type": "markdown",
   "id": "f898302d-241a-403b-9c3a-399e8eb76f9c",
   "metadata": {},
   "source": [
    "### Some Categories of Algorithms ###\n",
    "\n",
    "Search − Algorithm to search an item in a data structure.\n",
    "\n",
    "Sort − Algorithm to sort items in a certain order.\n",
    "\n",
    "Insert − Algorithm to insert item in a data structure.\n",
    "\n",
    "Update − Algorithm to update an existing item in a data structure.\n",
    "\n",
    "Delete − Algorithm to delete an existing item from a data structure."
   ]
  }
 ],
 "metadata": {
  "kernelspec": {
   "display_name": "Python 3 (ipykernel)",
   "language": "python",
   "name": "python3"
  },
  "language_info": {
   "codemirror_mode": {
    "name": "ipython",
    "version": 3
   },
   "file_extension": ".py",
   "mimetype": "text/x-python",
   "name": "python",
   "nbconvert_exporter": "python",
   "pygments_lexer": "ipython3",
   "version": "3.11.7"
  }
 },
 "nbformat": 4,
 "nbformat_minor": 5
}
