{
  "nbformat": 4,
  "nbformat_minor": 0,
  "metadata": {
    "colab": {
      "provenance": [],
      "collapsed_sections": []
    },
    "kernelspec": {
      "name": "python3",
      "display_name": "Python 3"
    },
    "language_info": {
      "name": "python"
    }
  },
  "cells": [
    {
      "cell_type": "markdown",
      "source": [
        "**LISTS**\n",
        "\n",
        "\n",
        "Lists are used to store items.\n",
        "A list is created using square brackets with commas separating items.\n",
        "words = [\"Hello\", \"world\", \"!\"]  \n",
        "\n",
        "The first list item's index is 0, rather than 1, as might be expected.\n",
        "\n",
        "Sometimes you need to create an empty list and populate it later during the program. For example, if you are creating a queue management program, the queue is going to be empty in the beginning and get populated with people data later.\n",
        "\n",
        "An empty list is created with an empty pair of square brackets.\n",
        "\n",
        "In some code samples you might see a comma after the last item in the list. It's not mandatory, but perfectly valid.\n",
        "\n"
      ],
      "metadata": {
        "id": "CsbZWWHGjNYR"
      }
    },
    {
      "cell_type": "code",
      "source": [
        "empty_list= []\n",
        "print (empty_list)\n",
        "\n",
        "oneelementlist= [2,]\n",
        "print(oneelementlist)"
      ],
      "metadata": {
        "colab": {
          "base_uri": "https://localhost:8080/"
        },
        "id": "FBN8QxGKjcJ-",
        "outputId": "888859cc-dcd1-43c1-d1c3-30a347e19088"
      },
      "execution_count": null,
      "outputs": [
        {
          "output_type": "stream",
          "name": "stdout",
          "text": [
            "[]\n",
            "[2]\n"
          ]
        }
      ]
    },
    {
      "cell_type": "markdown",
      "source": [
        "Typically, a list will contain items of a single item type, but it is also possible to include several different types.\n",
        "Lists can also be **nested within other lists**. \n"
      ],
      "metadata": {
        "id": "sx5MwTTfkR99"
      }
    },
    {
      "cell_type": "code",
      "source": [
        "number = 3\n",
        "things = [\"string\",0,[1,2,number],4.56]\n",
        "print(things[1])\n",
        "print(things[2])\n",
        "print(things[2][2])"
      ],
      "metadata": {
        "colab": {
          "base_uri": "https://localhost:8080/"
        },
        "id": "MwYU3063kU4c",
        "outputId": "c1542322-7dcb-4e28-d07f-ee9c4b00805f"
      },
      "execution_count": null,
      "outputs": [
        {
          "output_type": "stream",
          "name": "stdout",
          "text": [
            "0\n",
            "[1, 2, 3]\n",
            "3\n"
          ]
        }
      ]
    },
    {
      "cell_type": "markdown",
      "source": [
        "**Nested lists** can be used to represent 2D grids, such as matrices. A matrix-like structure can be used in cases where you need to store data in row-column format. For example, when creating a ticketing program, the seat numbers can be stored in a matrix, with their corresponding rows and numbers."
      ],
      "metadata": {
        "id": "uUFXdKh-lpK7"
      }
    },
    {
      "cell_type": "code",
      "source": [],
      "metadata": {
        "id": "hcVb0D1-nJHC"
      },
      "execution_count": null,
      "outputs": []
    },
    {
      "cell_type": "code",
      "source": [
        "matrix = [\n",
        "          [1,2,3],\n",
        "          [4,5,6],\n",
        "          [7,8,9]\n",
        "          ]\n",
        "print(matrix[1][2])\n",
        "print(matrix[2][0])\n",
        "print(matrix[0][0])"
      ],
      "metadata": {
        "colab": {
          "base_uri": "https://localhost:8080/"
        },
        "id": "3LPJYdOAk6su",
        "outputId": "c870c058-8fd8-4d42-aae6-816f035c2b1e"
      },
      "execution_count": null,
      "outputs": [
        {
          "output_type": "stream",
          "name": "stdout",
          "text": [
            "6\n",
            "7\n",
            "1\n"
          ]
        }
      ]
    },
    {
      "cell_type": "markdown",
      "source": [
        "Some types, such as strings, can be indexed like lists.\n",
        "Indexing strings behaves as though you are indexing a list containing each character in the string. Space (\" \") is also a symbol and has an index.\n",
        "Trying to access a non-existing index will produce an error."
      ],
      "metadata": {
        "id": "IY1A4mVfmT2W"
      }
    },
    {
      "cell_type": "markdown",
      "source": [
        "**List Operations**\n",
        "\n",
        "The item at a certain index in a list can be reassigned.\n",
        "You can replace the item with an item of a different type.\n",
        "\n",
        "Lists can be added and multiplied in the same way as strings.\n",
        "\n",
        "Lists and strings are similar in many ways - strings can be thought of as lists of characters that can't be changed.\n",
        "For example, the string \"Hello\" can be thought of as a list, where each character is an item in the list. The first item is \"H\", the second item is \"e\", and so on.\n"
      ],
      "metadata": {
        "id": "VWjXlldpnYQu"
      }
    },
    {
      "cell_type": "code",
      "source": [
        "nums = [1, 2, 3, 4, 5]\n",
        "nums[3] = nums[1]\n",
        "print(nums[3])\n",
        "print(nums)"
      ],
      "metadata": {
        "colab": {
          "base_uri": "https://localhost:8080/"
        },
        "id": "-6Of4ge7p17Y",
        "outputId": "937ad078-adfd-4bfb-d0e6-f8151f72b830"
      },
      "execution_count": null,
      "outputs": [
        {
          "output_type": "stream",
          "name": "stdout",
          "text": [
            "2\n",
            "[1, 2, 3, 2, 5]\n"
          ]
        }
      ]
    },
    {
      "cell_type": "code",
      "source": [
        "nums = [1,2,3]\n",
        "print(nums + [4,5,6])\n",
        "print(nums * 3)"
      ],
      "metadata": {
        "colab": {
          "base_uri": "https://localhost:8080/"
        },
        "id": "kJG7g2wbpjSz",
        "outputId": "01601f2f-6f8b-47b3-9eda-84ce36068211"
      },
      "execution_count": null,
      "outputs": [
        {
          "output_type": "stream",
          "name": "stdout",
          "text": [
            "[1, 2, 3, 4, 5, 6]\n",
            "[1, 2, 3, 1, 2, 3, 1, 2, 3]\n"
          ]
        }
      ]
    },
    {
      "cell_type": "markdown",
      "source": [
        "To check if an item is **in** a list, the **in** operator can be used.\n",
        "It returns True if the item occurs one or more times in the list, and False if it doesn't.\n",
        "\n",
        "The in operator is also used to determine whether or not a string is a substring of another string.\n",
        "\n",
        "To check if an item is **not** in a list, you can use the **not** operator.\n"
      ],
      "metadata": {
        "id": "hpxqI2MAqg6u"
      }
    },
    {
      "cell_type": "code",
      "source": [
        "words = [\"spam\",\"egg\",\"spam\",\"sausage\"]\n",
        "print(\"spam\" in words)\n",
        "print(\"egg\" in words)\n",
        "print(\"tomato\" in words)\n",
        "print(\"----- Ahora a la inversa------\")\n",
        "print(\"spam\" not in words)\n",
        "print(\"egg\" not in words)\n",
        "print(\"tomato\" not in words)\n",
        "print(\"----- Combinaciones del not------\")\n",
        "print(not \"spam\" in words)\n",
        "print(not \"egg\" in words)\n",
        "print(not \"tomato\" in words)"
      ],
      "metadata": {
        "colab": {
          "base_uri": "https://localhost:8080/"
        },
        "id": "itb8hq6pqhoM",
        "outputId": "58d30463-74fa-46fc-f410-8855b8e4d576"
      },
      "execution_count": null,
      "outputs": [
        {
          "output_type": "stream",
          "name": "stdout",
          "text": [
            "True\n",
            "True\n",
            "False\n",
            "----- Ahora a la inversa------\n",
            "False\n",
            "False\n",
            "True\n",
            "----- Combinaciones del not------\n",
            "False\n",
            "False\n",
            "True\n"
          ]
        }
      ]
    },
    {
      "cell_type": "markdown",
      "source": [
        "**List Functions**\n",
        "1.   list.append: Put a new item at the end of the list\n",
        "2.   list.insert(index,item):is similar to append, except that it allows you to insert a new item at any position in the list, as opposed to just at the end.Elements, that are after the inserted item, are shifted to the right.\n",
        "3.   list.index: Finds the first occurrence of a list item and returns its index. If the item isn't in the list, it raises a ValueError.\n",
        "4.   max(list): Returns the list item with the maximum value\n",
        "5.   min(list): Returns the list item with minimum value\n",
        "6.   list.count(item): Returns a count of how many times an item occurs in a list\n",
        "7.   list.remove(item): Removes an object from a list\n",
        "8.   list.reverse(): Reverses items in a list.\n",
        "\n"
      ],
      "metadata": {
        "id": "THKVbeqLvibX"
      }
    },
    {
      "cell_type": "markdown",
      "source": [
        "**List Comprehensions**"
      ],
      "metadata": {
        "id": "eod8ITInFSRC"
      }
    },
    {
      "cell_type": "code",
      "source": [
        "evens = [i**2 for i in range(10) if i**2 % 2 == 0]\n",
        "print (evens)"
      ],
      "metadata": {
        "colab": {
          "base_uri": "https://localhost:8080/"
        },
        "id": "FIKCneIvFVLp",
        "outputId": "4e3d33e2-a148-4708-854f-f1137fed0f41"
      },
      "execution_count": null,
      "outputs": [
        {
          "output_type": "stream",
          "name": "stdout",
          "text": [
            "[0, 4, 16, 36, 64]\n"
          ]
        }
      ]
    },
    {
      "cell_type": "code",
      "source": [
        "nums = (55, 44, 33, 22)\n",
        "print(max(min(nums[:2]), abs(-42)))\n",
        "print (min(nums[:2]), abs(-42))"
      ],
      "metadata": {
        "colab": {
          "base_uri": "https://localhost:8080/"
        },
        "id": "RCQqjvedHg5x",
        "outputId": "1dc4b030-5852-48ed-fc48-e476c520ae6b"
      },
      "execution_count": null,
      "outputs": [
        {
          "output_type": "stream",
          "name": "stdout",
          "text": [
            "44\n",
            "44 42\n"
          ]
        }
      ]
    },
    {
      "cell_type": "code",
      "source": [
        "text = input()\n",
        "list = text.split()\n",
        "words = len(list)\n",
        "letters = 0\n",
        "for i in text:\n",
        "  if i != \" \":\n",
        "    letters +=1\n",
        "average = letters/words\n",
        "print (average)"
      ],
      "metadata": {
        "colab": {
          "base_uri": "https://localhost:8080/"
        },
        "id": "Gv62fT9AIlf7",
        "outputId": "da7b0a69-7080-4b5b-e95f-9d1fbef29886"
      },
      "execution_count": null,
      "outputs": [
        {
          "output_type": "stream",
          "name": "stdout",
          "text": [
            "this is some text\n",
            "['this', 'is', 'some', 'text']\n",
            "4\n",
            "14\n",
            "3.5\n"
          ]
        }
      ]
    },
    {
      "cell_type": "markdown",
      "source": [
        "**DICTIONARIES**"
      ],
      "metadata": {
        "id": "agbuaHrN6pLv"
      }
    },
    {
      "cell_type": "code",
      "source": [
        "ages = {\n",
        "    \"Agustin\": 30,\n",
        "    \"Cristian\": 5.2,\n",
        "    20 : \"Franco\",\n",
        "    \"Extraterrestre\": complex (3,5),\n",
        "    \"Booleano\":True,\n",
        "    \"Lista\":[10,20,30]\n",
        "}\n",
        "print(\"En un diccionario...\")\n",
        "print(\"Puedo guardar un\",type(ages[\"Agustin\"]),\"como \",ages[\"Agustin\"])\n",
        "print(\"Puedo guardar un\",type(ages[\"Cristian\"]),\"como \",ages[\"Cristian\"])\n",
        "print(\"Puedo guardar un\",type(ages[20]),\"como \",ages[20])\n",
        "print(\"Puedo guardar un\",type(ages[\"Extraterrestre\"]),\"como \",ages[\"Extraterrestre\"])\n",
        "print(\"Puedo guardar un\",type(ages[\"Booleano\"]),\"como \",ages[\"Booleano\"],\"o\",not ages[\"Booleano\"])\n",
        "print(\"Puedo guardar un\",type(ages[\"Lista\"]),\"como \",ages[\"Lista\"])\n",
        "print(\"\")\n",
        "print(\"Tambien puedo...\")\n",
        "print(\"Buscar una key como Agustin y me devuelve\",\"Agustin\"in ages)\n",
        "print(\"Buscar una key como Roberto y me devuelve\",\"Roberto\"in ages)\n",
        "print(\"Buscar una key como Lista y me devuelve\",\"Lista\" in ages)\n",
        "print(\"Usar un get() para Agustin y me devuelve\",ages.get(\"Agustin\"))\n",
        "print(\"Usar un get('prueba') para algo que no exista y me devuelve por defecto\",ages.get(\"prueba\"),\"en vez de error\")\n",
        "print(\"Usar un get('prueba','no existe') para algo que no exista y puedo configurar un mensaje como\",ages.get(\"prueba\",\"'no existe'\"),\"o\",ages.get(\"prueba\",0),\"en vez de error\")\n"
      ],
      "metadata": {
        "colab": {
          "base_uri": "https://localhost:8080/"
        },
        "id": "uIPWbyldw2ZJ",
        "outputId": "bcb65f52-6c38-4327-8d07-b12773f234bf"
      },
      "execution_count": null,
      "outputs": [
        {
          "output_type": "stream",
          "name": "stdout",
          "text": [
            "En un diccionario...\n",
            "Puedo guardar un <class 'int'> como  30\n",
            "Puedo guardar un <class 'float'> como  5.2\n",
            "Puedo guardar un <class 'str'> como  Franco\n",
            "Puedo guardar un <class 'complex'> como  (3+5j)\n",
            "Puedo guardar un <class 'bool'> como  True o False\n",
            "Puedo guardar un <class 'list'> como  [10, 20, 30]\n",
            "\n",
            "Tambien puedo...\n",
            "Buscar una key como Agustin y me devuelve True\n",
            "Buscar una key como Roberto y me devuelve False\n",
            "Buscar una key como Lista y me devuelve True\n",
            "Usar un get() para Agustin y me devuelve 30\n",
            "Usar un get('prueba') para algo que no exista y me devuelve por defecto None en vez de error\n",
            "Usar un get('prueba','no existe') para algo que no exista y puedo configurar un mensaje como 'no existe' o 0 en vez de error\n"
          ]
        }
      ]
    },
    {
      "cell_type": "markdown",
      "source": [
        "**Exercise** You are making a phonebook. The contacts are stored in a dictionary, where the key is the name and the value is a list, representing the number and the email of the contact.\n",
        "You need to implement search: take the name of the contact as input and output the email.\n",
        "If the contact is not found, output \"Not found\".\n",
        "**Buscar la key en un diccionario que posee listas y traer el segundo elemento de la busqueda encontrada**"
      ],
      "metadata": {
        "id": "niMVCB4wHKIb"
      }
    },
    {
      "cell_type": "code",
      "source": [
        "contacts = {\n",
        "    \"David\": [\"123-321-88\", \"david@test.com\"],\n",
        "    \"James\": [\"241-879-093\", \"james@test.com\"],\n",
        "    \"Bob\": [\"987-004-322\", \"bob@test.com\"],\n",
        "    \"Amy\": [\"340-999-213\", \"a@test.com\"]\n",
        "}\n",
        "\n",
        "#your code goes here\n",
        "name = input()\n",
        "search = contacts.get (name,0)\n",
        "if search == 0:\n",
        "    print(\"Not found\") \n",
        "else:\n",
        "    print(search[1])"
      ],
      "metadata": {
        "colab": {
          "base_uri": "https://localhost:8080/"
        },
        "id": "rPHUP3h0AiLA",
        "outputId": "e83824eb-fb1c-4128-c347-864648b82452"
      },
      "execution_count": null,
      "outputs": [
        {
          "output_type": "stream",
          "name": "stdout",
          "text": [
            "Prueba\n",
            "Not found\n"
          ]
        }
      ]
    },
    {
      "cell_type": "markdown",
      "source": [
        "**TUPLES**\n",
        "An advantage of tuples over lists is that they can be used as keys for dictionaries (because they are immutable). Tuples are faster than lists, but they cannot be changed.\n"
      ],
      "metadata": {
        "id": "5TBxSzMER__o"
      }
    },
    {
      "cell_type": "markdown",
      "source": [
        "**Unpacking Tuples:** Tuple unpacking allows you to assign each item in a collection to a variable.\n",
        "\n"
      ],
      "metadata": {
        "id": "NbLkUIpeVjHz"
      }
    },
    {
      "cell_type": "code",
      "source": [
        "numbers = (1,2,3,4)\n",
        "a,b,c,d = numbers\n",
        "print(a)\n",
        "print(b)\n",
        "print(c)\n",
        "print(d)\n",
        "print(c,b)\n",
        "print(a,d)\n",
        "print(a+c)"
      ],
      "metadata": {
        "id": "EtfPUH2FSFJj",
        "colab": {
          "base_uri": "https://localhost:8080/"
        },
        "outputId": "a81b45c7-20d6-4fb0-96ee-8298fb13e894"
      },
      "execution_count": null,
      "outputs": [
        {
          "output_type": "stream",
          "name": "stdout",
          "text": [
            "1\n",
            "2\n",
            "3\n",
            "4\n",
            "3 2\n",
            "1 4\n",
            "4\n"
          ]
        }
      ]
    },
    {
      "cell_type": "code",
      "source": [
        "x, y = [1, 2]\n",
        "x, y = y, x\n",
        "print (y)\n"
      ],
      "metadata": {
        "colab": {
          "base_uri": "https://localhost:8080/"
        },
        "id": "_CR_6q2oX7zz",
        "outputId": "5fdb32c2-9866-4b77-ba1a-27cc0d9f793d"
      },
      "execution_count": null,
      "outputs": [
        {
          "output_type": "stream",
          "name": "stdout",
          "text": [
            "1\n"
          ]
        }
      ]
    },
    {
      "cell_type": "markdown",
      "source": [
        "A variable that is prefaced with an asterisk (*) takes all values from the collection that are left over from the other variables.\n"
      ],
      "metadata": {
        "id": "ujOWdMJ9ZZ_-"
      }
    },
    {
      "cell_type": "code",
      "source": [
        "a, b, c, d, *e, f, g = range(20)\n",
        "print(len(e))"
      ],
      "metadata": {
        "colab": {
          "base_uri": "https://localhost:8080/"
        },
        "id": "Ql5MaAJSYpNF",
        "outputId": "bda654fa-b004-424b-8122-43868eadd626"
      },
      "execution_count": null,
      "outputs": [
        {
          "output_type": "stream",
          "name": "stdout",
          "text": [
            "14\n"
          ]
        }
      ]
    },
    {
      "cell_type": "markdown",
      "source": [
        "**Sets**\n",
        "\n",
        "\n",
        "Sets are collections of unordered items that are unique.\n",
        "\n",
        "They are created using curly braces, and, due to the way they're stored, it's faster to check whether an item is part of a set using the in operator, rather than part of a list.\n"
      ],
      "metadata": {
        "id": "x8M6Q-OwZr6U"
      }
    },
    {
      "cell_type": "markdown",
      "source": [
        "**Exercise: Ticket Office**\n",
        "\n",
        "\n",
        "You are analyzing sales data from a ticket office.\n",
        "The ticket for an adult is 20, while the ticket for a child under 18 is 5.\n",
        "The data you are given is in a dictionary format, where the keys are the sold ticket numbers, and the values are the customer ages.\n",
        "For example, \"123-08\": 24 means that the ticket was bought a 24 year old.\n",
        "Your goal is to calculate how much more money the office would make if it would change the ticket discount age to the given input.\n",
        "So, your program needs to take an integer as input and output the percentage of revenue growth, if the discount was given to people under that age.\n",
        "\n",
        "For example, if the office made 15000 with the original discount age, and would make 18000 with 14 as the discount age, then the growth would be ((18000-15000)/15000)*100 = 20%\n",
        "\n",
        "So, for the input 14, your program should output 20. The output should be an integer (use int() to convert the result).\n",
        "To iterate over the values of a dictionary, you can use the .values() function:\n",
        "for value in data.values()"
      ],
      "metadata": {
        "id": "yMNSdpsWrb3q"
      }
    },
    {
      "cell_type": "code",
      "source": [
        "data = {\n",
        "    \"100-90\": 25, \"42-01\": 48, \"55-09\": 12, \"128-64\": 71, \"002-22\": 18, \"321-54\": 19, \"097-32\": 33, \"065-135\": 64, \"99-043\": 80, \"111-99\": 11, \"123-019\": 5, \"109-890\": 72, \"132-123\": 27, \"32-908\": 27, \"008-09\": 25, \"055-967\": 35, \"897-99\": 44, \"890-98\": 56, \"344-32\": 65, \"43-955\": 59, \"001-233\": 9, \"089-111\": 15, \"090-090\": 17, \"56-777\": 23, \"44-909\": 27, \"13-111\": 21, \"87-432\": 15, \"87-433\": 14, \"87-434\": 23, \"87-435\": 11, \"87-436\": 12, \"87-437\": 16, \"94-121\": 15, \"94-122\": 35, \"80-089\": 10, \"87-456\": 8, \"87-430\": 40\n",
        "}\n",
        "age = int(input(\"Input your new ticket discount age:\"))\n",
        "saleso = 0\n",
        "for value in data.values():\n",
        "  if value < 18:\n",
        "    saleso += 5\n",
        "  else:\n",
        "    saleso +=20\n",
        "\n",
        "salesn= 0\n",
        "for ages in data.values():\n",
        "  if ages < age:\n",
        "    salesn += 5\n",
        "  else:\n",
        "    salesn +=20\n",
        "\n",
        "growth = ((salesn-saleso)/saleso)*100\n",
        "print(\"Your new percentage of revenue growth is:\",int(growth))\n",
        "\n"
      ],
      "metadata": {
        "id": "TyO_0KlgZumi",
        "colab": {
          "base_uri": "https://localhost:8080/"
        },
        "outputId": "df021ffc-8cf4-40fb-dda7-95561c145ddc"
      },
      "execution_count": null,
      "outputs": [
        {
          "output_type": "stream",
          "name": "stdout",
          "text": [
            "Input your new ticket discount age:17\n",
            "Your new percentage of revenue growth is: 2\n"
          ]
        }
      ]
    },
    {
      "cell_type": "markdown",
      "source": [
        "**Stack**\n",
        "\n",
        "\n",
        "A stack is a simple data structure that adds and removes elements in a particular order.\n",
        "Every time an element is added, it goes on the \"top\" of the stack. Only an element at the top of the stack can be removed, just like a stack of plates. This behavior is called LIFO (Last In, First Out).contentImageTerminology\n",
        "Adding a new element onto the stack is called push.\n",
        "Removing an element from the stack is called pop.\n",
        "\n",
        "**Applications**\n",
        "\n",
        "Stacks can be used to create undo-redo functionalities, parsing expressions (infix to postfix/prefix conversion), and much more.\n",
        "A stack can be implemented using a list in Python.\n",
        "Well done!"
      ],
      "metadata": {
        "id": "FJbvZN-lzBS1"
      }
    },
    {
      "cell_type": "code",
      "source": [
        "def __init__(self):\n",
        "    self.items = []\n",
        "\n",
        "def is_empty(self):\n",
        "    return self.items == []\n",
        "\n",
        "def push(self,item):\n",
        "    self.items.insert(0,item)\n",
        "\n",
        "def pop(self):\n",
        "    return self.items.pop(0)\n",
        "\n",
        "def print_stack(self):\n",
        "    print(self.items)\n",
        "\n",
        "#positions = {1:\"Agustin\",2:\"Bárbara\"}\n",
        "#__init__(positions)\n",
        "#print_stack()\n"
      ],
      "metadata": {
        "id": "cEfCSPOszExa"
      },
      "execution_count": null,
      "outputs": []
    },
    {
      "cell_type": "markdown",
      "source": [
        "**Queue**\n",
        "\n",
        "\n",
        "A queue is similar to a stack, but defines a different way to add and remover elements.\n",
        "The elements are inserted from one end, called the rear, and deleted from the other end, called the front.\n",
        "This behavior is called FIFO (First in First Out).contentImageTerminology\n",
        "The process of adding new elements into the queue is called enqueue.\n",
        "The process of removal of an element from the queue is called dequeue.\n",
        "\n",
        "**Applications**\n",
        "\n",
        "Queues are used whenever we need to manage objects in order starting with the first one in.\n",
        "Scenarios include printing documents on a printer, call center systems answering people on hold, and so on.\n",
        "Python lists are the easiest wa"
      ],
      "metadata": {
        "id": "Jixjm9HmAD3c"
      }
    },
    {
      "cell_type": "code",
      "source": [
        "def __init__(self):\n",
        "    self.items = []\n",
        "\n",
        "def is_empty(self):\n",
        "    return self.items == []\n",
        "\n",
        "def enqueue(self,item):\n",
        "    self.items.insert(0,item)\n",
        "\n",
        "#in dequeue de difference in code\n",
        "def dequeue(self):\n",
        "    return self.items.pop()\n",
        "\n",
        "def print_stack(self):\n",
        "    print(self.items)"
      ],
      "metadata": {
        "id": "3-fU3kwKAd86"
      },
      "execution_count": null,
      "outputs": []
    },
    {
      "cell_type": "markdown",
      "source": [
        "**Linked List**\n",
        "\n",
        "A linked list is a sequence of nodes where each node stores its own data and a link to the next node.\n",
        "One node links to another forming what can be thought of as a linked chain:contentImageThe first node is called the head, and it's used as the starting point for any iteration through the list. The last node must have its link pointing to None to determine the end of the list.\n",
        "\n",
        "Unlike stacks and queues, you can insert and remove nodes in any position of the linked list (similar to a standard list).\n",
        "\n",
        "**Applications**\n",
        "\n",
        "\n",
        "Linked lists are useful when your data is linked. For example when you need undo/redo functionality, the nodes can represent the state with links to the previous and next states. Another example would be a playlist of music, where each clip is linked with the next one.\n",
        "Linked lists can also be used to create other data structures, such as stack, queues and graphs."
      ],
      "metadata": {
        "id": "XsnNDEMIGb8b"
      }
    },
    {
      "cell_type": "code",
      "source": [
        "#creating a node\n",
        "class Node:\n",
        "  def __init__(self, data, next):\n",
        "    self.data = data\n",
        "    self.next = next\n",
        "\n",
        "class linkedlist:\n",
        "  def __init__(self):\n",
        "    self.head = None\n",
        "    \n",
        "  def add_at_front(self,data):\n",
        "    self.head = None (data,self.head)\n",
        "\n",
        "  def add_at_end(self,data):\n",
        "    if not self.head:\n",
        "      self.head = None (data, None)\n",
        "        return\n",
        "      curr= self.head\n",
        "      while curr.next:\n",
        "        curr= curr.next\n",
        "      curr.next= None (data,None)\n",
        "  \n",
        "  def get_last_node(self):\n",
        "    n = self.head\n",
        "    while(n.next != None):\n",
        "      n = n.next\n",
        "    return n.data\n",
        "\n",
        "  def print_list(self):\n",
        "    n = self.head\n",
        "    while n != None:\n",
        "      print (n.data, end = \" =>\")\n",
        "      n= n.next\n",
        "    print ()"
      ],
      "metadata": {
        "id": "iskWFJVmHQrD"
      },
      "execution_count": null,
      "outputs": []
    },
    {
      "cell_type": "markdown",
      "source": [
        "**Graph**\n",
        "\n",
        "\n",
        "Graphs are used to represent many real-life applications like networks, transportation paths of a city, and social network connections.\n",
        "\n",
        "A graph is a set of connected nodes where each node is called a Vertex and the connection between two of them is called an Edge.\n",
        "\n",
        "Here is an example graph:contentImageThis can represent, for example, connections on a social network, where each Vertex represents a person and the Edges represent connections.\n"
      ],
      "metadata": {
        "id": "Czjuj1DVJAlA"
      }
    },
    {
      "cell_type": "code",
      "source": [
        "class Graph():\n",
        "  def __init__(self,size):\n",
        "    self.adj= [[0]*size for i in range(size)]\n",
        "    self.size = size\n",
        "\n",
        "  def add_edge (self, orig, dest):\n",
        "    if orig > self.size or dest > self.size or orig < 0 or dest < 0:\n",
        "      print (\"Invalid Edge\")\n",
        "    else:\n",
        "        self.adj[orig-1][dest-1]=1\n",
        "        self.adj[dest-1][orig-1]=1\n",
        "  \n",
        "  def remove_edge(self,orig,dest):\n",
        "    if orig > self.size or dest > self.size or orig < 0 or dest < 0:\n",
        "      print (\"Invalid edge\")\n",
        "    else:\n",
        "        self.adj[orig-1][dest-1]=0\n",
        "        self.adj[dest-1][orig-1]=0\n",
        "\n",
        "  def display(self):\n",
        "    for row in self.adj:\n",
        "      print()\n",
        "      for val in row:\n",
        "        print ('{:4}'.format(val),end=\"\")"
      ],
      "metadata": {
        "id": "DHaSyRbbKMRC"
      },
      "execution_count": null,
      "outputs": []
    },
    {
      "cell_type": "code",
      "source": [
        "import sys\n",
        "x=sys.float_info.max\n",
        "print(x)"
      ],
      "metadata": {
        "colab": {
          "base_uri": "https://localhost:8080/"
        },
        "id": "xz-UgScVydGB",
        "outputId": "574662f7-3e86-4236-f82f-17d6f9d0bb92"
      },
      "execution_count": null,
      "outputs": [
        {
          "output_type": "stream",
          "name": "stdout",
          "text": [
            "1.7976931348623157e+308\n"
          ]
        }
      ]
    },
    {
      "cell_type": "code",
      "source": [
        "print (0.01*(2**30))"
      ],
      "metadata": {
        "colab": {
          "base_uri": "https://localhost:8080/"
        },
        "id": "RlFucmotI_8o",
        "outputId": "5c3d6c3f-8ef9-407a-f0c6-6cade3076f44"
      },
      "execution_count": null,
      "outputs": [
        {
          "output_type": "stream",
          "name": "stdout",
          "text": [
            "10737418.24\n"
          ]
        }
      ]
    },
    {
      "cell_type": "markdown",
      "source": [
        "**Walrus operator** (Python 3.8 - new feature)\n",
        "\n",
        "Walrus operator **:=** allows you to assign values to variables within an expression, including variables that do not exist yet.\n",
        "\n",
        "Let's suppose we want to take an integer from the user, assign it to a variable num and output it:\n",
        "\n",
        "More info here: https://realpython.com/python-walrus-operator/"
      ],
      "metadata": {
        "id": "LROatHErPyDW"
      }
    },
    {
      "cell_type": "code",
      "source": [
        "print (\"No funciona en esta versión.\")\n",
        "#print(num:=int(input()))\n",
        "#print(name:=input())\n",
        "\n"
      ],
      "metadata": {
        "colab": {
          "base_uri": "https://localhost:8080/"
        },
        "id": "gqV8qej-P4d1",
        "outputId": "b2504616-bc16-4a09-e8b1-befff5e736f6"
      },
      "execution_count": null,
      "outputs": [
        {
          "output_type": "stream",
          "name": "stdout",
          "text": [
            "No funciona en esta versión.\n"
          ]
        }
      ]
    },
    {
      "cell_type": "code",
      "source": [
        "for i in range(5):\n",
        "  print(\"Hello\")"
      ],
      "metadata": {
        "colab": {
          "base_uri": "https://localhost:8080/"
        },
        "id": "aIUFEyNo4aeH",
        "outputId": "639e78a1-fdf8-4b7f-88a9-9da60344af66"
      },
      "execution_count": null,
      "outputs": [
        {
          "output_type": "stream",
          "name": "stdout",
          "text": [
            "Hello\n",
            "Hello\n",
            "Hello\n",
            "Hello\n",
            "Hello\n"
          ]
        }
      ]
    },
    {
      "cell_type": "code",
      "source": [
        "list = [1, 1, 2, 3, 5, 8, 13]\n",
        "print(list[list[4]])\n",
        "print(list[4])"
      ],
      "metadata": {
        "colab": {
          "base_uri": "https://localhost:8080/"
        },
        "id": "rJMCe_215b83",
        "outputId": "e335224c-50e5-403a-abe5-c3cbac0ad64a"
      },
      "execution_count": null,
      "outputs": [
        {
          "output_type": "stream",
          "name": "stdout",
          "text": [
            "8\n",
            "5\n"
          ]
        }
      ]
    },
    {
      "cell_type": "code",
      "source": [
        "for i in range(10):\n",
        "  if not i % 2 == 0:\n",
        "    print(i+1)"
      ],
      "metadata": {
        "colab": {
          "base_uri": "https://localhost:8080/"
        },
        "id": "EMrURP9F6IUh",
        "outputId": "49198388-ade1-4fdd-c313-84558db299b2"
      },
      "execution_count": null,
      "outputs": [
        {
          "output_type": "stream",
          "name": "stdout",
          "text": [
            "2\n",
            "4\n",
            "6\n",
            "8\n",
            "10\n"
          ]
        }
      ]
    },
    {
      "cell_type": "markdown",
      "source": [
        "**Exercise: FizzBuzz**\n",
        "\n",
        "\n",
        "FizzBuzz is a well known programming assignment, asked during interviews.\n",
        "\n",
        "The given code solves the FizzBuzz problem and uses the words \"Solo\" and \"Learn\" instead of \"Fizz\" and \"Buzz\".\n",
        "It takes an input n and outputs the numbers from 1 to n.\n",
        "For each multiple of 3, print \"Solo\" instead of the number.\n",
        "For each multiple of 5, prints \"Learn\" instead of the number.\n",
        "For numbers which are multiples of both 3 and 5, output \"SoloLearn\".\n",
        "\n",
        "You need to change the code to skip the even numbers, so that the logic only applies to odd numbers in the range.\n",
        "Remember, the continue statement can be used to skip a loop iteration."
      ],
      "metadata": {
        "id": "A52-swXf9F1Q"
      }
    },
    {
      "cell_type": "code",
      "source": [
        "n = int(input())\n",
        "\n",
        "for x in range(1, n):\n",
        "    if x % 3 == 0 and x % 5 == 0:\n",
        "        print(\"SoloLearn\")\n",
        "    elif x % 3 == 0:\n",
        "        print(\"Solo\")\n",
        "    elif x % 5 == 0:\n",
        "        print(\"Learn\")\n",
        "    else:\n",
        "        print(x)"
      ],
      "metadata": {
        "id": "26Ab1UPt9Ec1"
      },
      "execution_count": null,
      "outputs": []
    },
    {
      "cell_type": "code",
      "source": [
        "n = int(input())\n",
        "\n",
        "for x in range(1, n):\n",
        "    if x % 2 == 0:\n",
        "      continue\n",
        "    if x % 3 == 0 and x % 5 == 0:\n",
        "        print(\"SoloLearn\")\n",
        "    elif x % 3 == 0:\n",
        "        print(\"Solo\")\n",
        "    elif x % 5 == 0:\n",
        "        print(\"Learn\")\n",
        "    else:\n",
        "        print(x)\n"
      ],
      "metadata": {
        "colab": {
          "base_uri": "https://localhost:8080/"
        },
        "id": "dfPEITOO9Kvm",
        "outputId": "515da50c-0641-429e-83b0-33f093c31104"
      },
      "execution_count": null,
      "outputs": [
        {
          "output_type": "stream",
          "name": "stdout",
          "text": [
            "10\n",
            "1\n",
            "Solo\n",
            "Learn\n",
            "7\n",
            "Solo\n"
          ]
        }
      ]
    },
    {
      "cell_type": "markdown",
      "source": [
        "**EXCEPTION HANDLING**\n",
        "\n",
        "Muy útil para cuando el usuario tenga que ingresar información.\n",
        "\n",
        "**TRY / EXCEPT / FINALLY/ RAISE / ASSERT**"
      ],
      "metadata": {
        "id": "i0IuKpsuQcjg"
      }
    },
    {
      "cell_type": "code",
      "source": [
        "\"\"\"\n",
        "Try para insertar código con posibles errores\n",
        "Except para indicar qué ejecutar si encuentro error en el try. No se ejecuta si el Try no tiene error. \n",
        "En este caso ZeroDivisionError, si lo dejo vacío es para cualquier tipo de error.\n",
        "Finally para ejecutar el código pase lo que pase.\n",
        "\"\"\"\n",
        "try:\n",
        "  print(\"Hello\")\n",
        "  print(1/0)\n",
        "except ZeroDivisionError:\n",
        "  print(\"Divided by Zero\")\n",
        "finally:\n",
        "  print(\"This code will run no matter what\")\n"
      ],
      "metadata": {
        "colab": {
          "base_uri": "https://localhost:8080/"
        },
        "id": "WdsGIzplQgDS",
        "outputId": "2e5b4556-b4b1-4191-e7ba-40216a3a0a2d"
      },
      "execution_count": null,
      "outputs": [
        {
          "output_type": "stream",
          "name": "stdout",
          "text": [
            "Hello\n",
            "Divided by Zero\n",
            "This code will run no matter what\n"
          ]
        }
      ]
    },
    {
      "cell_type": "code",
      "source": [
        "try:\n",
        "  print(1)\n",
        "  print(20 / 0)\n",
        "  print(2)\n",
        "except ZeroDivisionError:\n",
        "  print(3)\n",
        "finally:\n",
        "  print(4)"
      ],
      "metadata": {
        "colab": {
          "base_uri": "https://localhost:8080/"
        },
        "id": "n6sPjvamurRO",
        "outputId": "38ad60e0-0e96-4676-c031-aa3903bd896a"
      },
      "execution_count": null,
      "outputs": [
        {
          "output_type": "stream",
          "name": "stdout",
          "text": [
            "1\n",
            "3\n",
            "4\n"
          ]
        }
      ]
    },
    {
      "cell_type": "markdown",
      "source": [
        "**Raise**\n",
        "\n",
        "Ejecutar un error por nuestra cuenta"
      ],
      "metadata": {
        "id": "nIl4wvJuV-qP"
      }
    },
    {
      "cell_type": "code",
      "source": [
        "name = \"123\"\n",
        "raise NameError(\"Invalid name!\")"
      ],
      "metadata": {
        "colab": {
          "base_uri": "https://localhost:8080/",
          "height": 184
        },
        "id": "aIcT1GozWFkh",
        "outputId": "fd9bc7b1-2b8a-471b-dcde-4c9a14d9ff8d"
      },
      "execution_count": null,
      "outputs": [
        {
          "output_type": "error",
          "ename": "NameError",
          "evalue": "ignored",
          "traceback": [
            "\u001b[0;31m---------------------------------------------------------------------------\u001b[0m",
            "\u001b[0;31mNameError\u001b[0m                                 Traceback (most recent call last)",
            "\u001b[0;32m<ipython-input-2-d5ceb78ca603>\u001b[0m in \u001b[0;36m<module>\u001b[0;34m()\u001b[0m\n\u001b[1;32m      1\u001b[0m \u001b[0mname\u001b[0m \u001b[0;34m=\u001b[0m \u001b[0;34m\"123\"\u001b[0m\u001b[0;34m\u001b[0m\u001b[0;34m\u001b[0m\u001b[0m\n\u001b[0;32m----> 2\u001b[0;31m \u001b[0;32mraise\u001b[0m \u001b[0mNameError\u001b[0m\u001b[0;34m(\u001b[0m\u001b[0;34m\"Invalid name!\"\u001b[0m\u001b[0;34m)\u001b[0m\u001b[0;34m\u001b[0m\u001b[0;34m\u001b[0m\u001b[0m\n\u001b[0m",
            "\u001b[0;31mNameError\u001b[0m: Invalid name!"
          ]
        }
      ]
    },
    {
      "cell_type": "code",
      "source": [
        "#Ejemplo de brindar error si inserta un número negativo:\n",
        "num= input (\"Insert your positive number:\")\n",
        "if float(num)<0:\n",
        "  raise ValueError(\"The number has to be positive\")"
      ],
      "metadata": {
        "colab": {
          "base_uri": "https://localhost:8080/"
        },
        "id": "S2ne6xmbWnSQ",
        "outputId": "435e80bf-e49b-4a1b-d175-f4c281b893e6"
      },
      "execution_count": null,
      "outputs": [
        {
          "name": "stdout",
          "output_type": "stream",
          "text": [
            "Insert your positive number:20\n"
          ]
        }
      ]
    },
    {
      "cell_type": "code",
      "source": [
        "#In except blocks, the raise statement can be used without arguments to re-raise whatever exception occurred.\n",
        "try:\n",
        "  num = 5/0\n",
        "except:\n",
        "  print(\"An error ocurred\")\n",
        "  raise"
      ],
      "metadata": {
        "colab": {
          "base_uri": "https://localhost:8080/",
          "height": 254
        },
        "id": "pXotRnSnYPY6",
        "outputId": "ed8ab6bf-51af-4c56-c199-0f337f886644"
      },
      "execution_count": null,
      "outputs": [
        {
          "output_type": "stream",
          "name": "stdout",
          "text": [
            "An error ocurred\n"
          ]
        },
        {
          "output_type": "error",
          "ename": "ZeroDivisionError",
          "evalue": "ignored",
          "traceback": [
            "\u001b[0;31m---------------------------------------------------------------------------\u001b[0m",
            "\u001b[0;31mZeroDivisionError\u001b[0m                         Traceback (most recent call last)",
            "\u001b[0;32m<ipython-input-10-a9a47edfd273>\u001b[0m in \u001b[0;36m<module>\u001b[0;34m()\u001b[0m\n\u001b[1;32m      1\u001b[0m \u001b[0;32mtry\u001b[0m\u001b[0;34m:\u001b[0m\u001b[0;34m\u001b[0m\u001b[0;34m\u001b[0m\u001b[0m\n\u001b[0;32m----> 2\u001b[0;31m   \u001b[0mnum\u001b[0m \u001b[0;34m=\u001b[0m \u001b[0;36m5\u001b[0m\u001b[0;34m/\u001b[0m\u001b[0;36m0\u001b[0m\u001b[0;34m\u001b[0m\u001b[0;34m\u001b[0m\u001b[0m\n\u001b[0m\u001b[1;32m      3\u001b[0m \u001b[0;32mexcept\u001b[0m\u001b[0;34m:\u001b[0m\u001b[0;34m\u001b[0m\u001b[0;34m\u001b[0m\u001b[0m\n\u001b[1;32m      4\u001b[0m   \u001b[0mprint\u001b[0m\u001b[0;34m(\u001b[0m\u001b[0;34m\"An error ocurred\"\u001b[0m\u001b[0;34m)\u001b[0m\u001b[0;34m\u001b[0m\u001b[0;34m\u001b[0m\u001b[0m\n\u001b[1;32m      5\u001b[0m   \u001b[0;32mraise\u001b[0m\u001b[0;34m\u001b[0m\u001b[0;34m\u001b[0m\u001b[0m\n",
            "\u001b[0;31mZeroDivisionError\u001b[0m: division by zero"
          ]
        }
      ]
    },
    {
      "cell_type": "markdown",
      "source": [
        "**Assertions**\n",
        "\n",
        "\n",
        "An assertion is a sanity-check that you can turn on or turn off when you have finished testing the program.\n",
        "An expression is tested, and if the result comes up false, an exception is raised.\n",
        "Assertions are carried out through use of the assert statement.\n",
        "\n",
        "Programmers often place assertions at the start of a function to check for valid input, and after a function call to check for valid output."
      ],
      "metadata": {
        "id": "9uEwL3fJZ3Cb"
      }
    },
    {
      "cell_type": "code",
      "source": [
        "print (1)\n",
        "assert 2 + 2 == 4\n",
        "print (2)\n",
        "assert 1 + 1 == 3\n",
        "print (3)"
      ],
      "metadata": {
        "colab": {
          "base_uri": "https://localhost:8080/",
          "height": 254
        },
        "id": "vJrWNkQAYbnd",
        "outputId": "b071a37b-b331-4b8c-cb2c-85d211059c20"
      },
      "execution_count": null,
      "outputs": [
        {
          "output_type": "stream",
          "name": "stdout",
          "text": [
            "1\n",
            "2\n"
          ]
        },
        {
          "output_type": "error",
          "ename": "AssertionError",
          "evalue": "ignored",
          "traceback": [
            "\u001b[0;31m---------------------------------------------------------------------------\u001b[0m",
            "\u001b[0;31mAssertionError\u001b[0m                            Traceback (most recent call last)",
            "\u001b[0;32m<ipython-input-11-c678df5c3c33>\u001b[0m in \u001b[0;36m<module>\u001b[0;34m()\u001b[0m\n\u001b[1;32m      2\u001b[0m \u001b[0;32massert\u001b[0m \u001b[0;36m2\u001b[0m \u001b[0;34m+\u001b[0m \u001b[0;36m2\u001b[0m \u001b[0;34m==\u001b[0m \u001b[0;36m4\u001b[0m\u001b[0;34m\u001b[0m\u001b[0;34m\u001b[0m\u001b[0m\n\u001b[1;32m      3\u001b[0m \u001b[0mprint\u001b[0m \u001b[0;34m(\u001b[0m\u001b[0;36m2\u001b[0m\u001b[0;34m)\u001b[0m\u001b[0;34m\u001b[0m\u001b[0;34m\u001b[0m\u001b[0m\n\u001b[0;32m----> 4\u001b[0;31m \u001b[0;32massert\u001b[0m \u001b[0;36m1\u001b[0m \u001b[0;34m+\u001b[0m \u001b[0;36m1\u001b[0m \u001b[0;34m==\u001b[0m \u001b[0;36m3\u001b[0m\u001b[0;34m\u001b[0m\u001b[0;34m\u001b[0m\u001b[0m\n\u001b[0m\u001b[1;32m      5\u001b[0m \u001b[0mprint\u001b[0m \u001b[0;34m(\u001b[0m\u001b[0;36m3\u001b[0m\u001b[0;34m)\u001b[0m\u001b[0;34m\u001b[0m\u001b[0;34m\u001b[0m\u001b[0m\n",
            "\u001b[0;31mAssertionError\u001b[0m: "
          ]
        }
      ]
    },
    {
      "cell_type": "code",
      "source": [
        "print(0)\n",
        "assert \"h\" != \"w\"\n",
        "print (1)\n",
        "assert True\n",
        "print(2)\n",
        "assert False\n",
        "print(3)"
      ],
      "metadata": {
        "colab": {
          "base_uri": "https://localhost:8080/",
          "height": 271
        },
        "id": "gNOrn5EqapPk",
        "outputId": "3f478959-777f-4076-f2e1-8b99ea5f5753"
      },
      "execution_count": null,
      "outputs": [
        {
          "output_type": "stream",
          "name": "stdout",
          "text": [
            "0\n",
            "1\n",
            "2\n"
          ]
        },
        {
          "output_type": "error",
          "ename": "AssertionError",
          "evalue": "ignored",
          "traceback": [
            "\u001b[0;31m---------------------------------------------------------------------------\u001b[0m",
            "\u001b[0;31mAssertionError\u001b[0m                            Traceback (most recent call last)",
            "\u001b[0;32m<ipython-input-13-576b2d370ead>\u001b[0m in \u001b[0;36m<module>\u001b[0;34m()\u001b[0m\n\u001b[1;32m      4\u001b[0m \u001b[0;32massert\u001b[0m \u001b[0;32mTrue\u001b[0m\u001b[0;34m\u001b[0m\u001b[0;34m\u001b[0m\u001b[0m\n\u001b[1;32m      5\u001b[0m \u001b[0mprint\u001b[0m\u001b[0;34m(\u001b[0m\u001b[0;36m2\u001b[0m\u001b[0;34m)\u001b[0m\u001b[0;34m\u001b[0m\u001b[0;34m\u001b[0m\u001b[0m\n\u001b[0;32m----> 6\u001b[0;31m \u001b[0;32massert\u001b[0m \u001b[0;32mFalse\u001b[0m\u001b[0;34m\u001b[0m\u001b[0;34m\u001b[0m\u001b[0m\n\u001b[0m\u001b[1;32m      7\u001b[0m \u001b[0mprint\u001b[0m\u001b[0;34m(\u001b[0m\u001b[0;36m3\u001b[0m\u001b[0;34m)\u001b[0m\u001b[0;34m\u001b[0m\u001b[0;34m\u001b[0m\u001b[0m\n",
            "\u001b[0;31mAssertionError\u001b[0m: "
          ]
        }
      ]
    },
    {
      "cell_type": "markdown",
      "source": [
        "**FILE HANDLING**\n",
        "\n",
        "To write to files you use the write method, which writes a string to the file.\n",
        "The \"w\" mode will create a file, if it does not already exist.\n",
        "\n"
      ],
      "metadata": {
        "id": "txM7jQfIkaGv"
      }
    },
    {
      "cell_type": "code",
      "source": [
        "file = open(\"newfile.txt\", \"w\")\n",
        "file.write(\"I want to insert a string in this new file\")\n",
        "file.close()\n",
        "\n",
        "file = open(\"newfile.txt\",\"r\")\n",
        "print(file.read())\n",
        "file.close()"
      ],
      "metadata": {
        "colab": {
          "base_uri": "https://localhost:8080/"
        },
        "id": "iEyoXPXHkfdb",
        "outputId": "20430359-5695-49b7-cc6e-d99f9252e673"
      },
      "execution_count": null,
      "outputs": [
        {
          "output_type": "stream",
          "name": "stdout",
          "text": [
            "I want to insert a string in this new file\n"
          ]
        }
      ]
    },
    {
      "cell_type": "markdown",
      "source": [
        "**When a file is opened in write mode, the file's existing content is deleted.**"
      ],
      "metadata": {
        "id": "hWgqwXYnlV3F"
      }
    },
    {
      "cell_type": "code",
      "source": [
        "file = open(\"newfile.txt\",\"r\")\n",
        "print(\"---Reading initial contents---\")\n",
        "print(\"\")\n",
        "print(file.read())\n",
        "print(\"\")\n",
        "print(\"---Finished---\")\n",
        "print(\"\")\n",
        "file.close()\n",
        "\n",
        "file= open(\"newfile.txt\",\"w\")\n",
        "file.write(\"Some new text\")\n",
        "file.close()\n",
        "\n",
        "file= open(\"newfile.txt\",\"r\")\n",
        "print(\"---Reading new contents---\")\n",
        "print(\"\")\n",
        "print(file.read())\n",
        "print(\"\")\n",
        "print(\"---Finished---\")\n",
        "file.close()"
      ],
      "metadata": {
        "colab": {
          "base_uri": "https://localhost:8080/"
        },
        "id": "PR9PFS6dlXXj",
        "outputId": "1d6f1fd3-0eb5-461a-9bbd-7bf8c9bf5529"
      },
      "execution_count": null,
      "outputs": [
        {
          "output_type": "stream",
          "name": "stdout",
          "text": [
            "---Reading initial contents---\n",
            "\n",
            "Hello world\n",
            "\n",
            "---Finished---\n",
            "\n",
            "---Reading new contents---\n",
            "\n",
            "Some new text\n",
            "\n",
            "---Finished---\n"
          ]
        }
      ]
    },
    {
      "cell_type": "markdown",
      "source": [
        "The write method returns the number of bytes written to a file, if successful.\n",
        "**To write something other than a string, it needs to be converted to a string first.**"
      ],
      "metadata": {
        "id": "t-GPIWZKod5P"
      }
    },
    {
      "cell_type": "code",
      "source": [
        "msg = \"Hello world\"\n",
        "file = open(\"newfile.txt\",\"w\")\n",
        "amount_written= file.write(msg)\n",
        "print(amount_written)\n",
        "file.close()"
      ],
      "metadata": {
        "colab": {
          "base_uri": "https://localhost:8080/"
        },
        "id": "7ayAiNYynh1-",
        "outputId": "f6c046c3-3f55-4e33-b52a-daead8309b7d"
      },
      "execution_count": null,
      "outputs": [
        {
          "output_type": "stream",
          "name": "stdout",
          "text": [
            "11\n"
          ]
        }
      ]
    },
    {
      "cell_type": "markdown",
      "source": [
        "If a file write operation is successful, which one of these statements will be true?\n",
        "1. file.write(msg) == msg\n",
        "2. file.write(msg) == True\n",
        "3. **file.write(msg) == len(msg)** ◀ ◀\n"
      ],
      "metadata": {
        "id": "CfI9Av82qMkv"
      }
    },
    {
      "cell_type": "markdown",
      "source": [
        "It is good practice to avoid wasting resources by making sure that files are always closed after they have been used. One way of doing this is to use try and finally.\n",
        "\n",
        "This ensures that the file is always closed, even if an error occurs.\n",
        "\n",
        "\n"
      ],
      "metadata": {
        "id": "FZyyihh7rtov"
      }
    },
    {
      "cell_type": "code",
      "source": [
        "try:\n",
        "   file = open(\"newfile.txt\")\n",
        "   print(file.read())\n",
        "finally:\n",
        "   file.close()"
      ],
      "metadata": {
        "colab": {
          "base_uri": "https://localhost:8080/"
        },
        "id": "D6ubrV3urqVP",
        "outputId": "1a72da71-977e-42d1-ed75-88f8efb98897"
      },
      "execution_count": null,
      "outputs": [
        {
          "output_type": "stream",
          "name": "stdout",
          "text": [
            "Some new text\n"
          ]
        }
      ]
    },
    {
      "cell_type": "markdown",
      "source": [
        "**WITH STATEMENT**\n",
        "\n",
        "An alternative way of doing this is using with statements. This creates a temporary variable (often called f), which is only accessible in the indented block of the with statement.\n",
        "\n",
        "The file is automatically closed at the end of the with statement, even if exceptions occur within it."
      ],
      "metadata": {
        "id": "tweEN1OxtY2S"
      }
    },
    {
      "cell_type": "code",
      "source": [
        "with open(\"newfile.txt\") as f:\n",
        "   print(f.read())"
      ],
      "metadata": {
        "colab": {
          "base_uri": "https://localhost:8080/"
        },
        "id": "LB2Kv-LQtvmv",
        "outputId": "a30e874c-2db3-45e4-8844-d273966f2edc"
      },
      "execution_count": null,
      "outputs": [
        {
          "output_type": "stream",
          "name": "stdout",
          "text": [
            "Some new text\n"
          ]
        }
      ]
    },
    {
      "cell_type": "markdown",
      "source": [
        "**Exercise: Book Titles**\n",
        "\n",
        "\n",
        "You have been asked to make a special book categorization program, which assigns each book a special code based on its title.\n",
        "The code is equal to the first letter of the book, followed by the number of characters in the title.\n",
        "For example, for the book \"Harry Potter\", the code would be: H12, as it contains 12 characters (including the space).\n",
        "\n",
        "You are provided a books.txt file, which includes the book titles, each one written on a separate line.\n",
        "Read the title one by one and output the code for each book on a separate line.\n",
        "\n",
        "For example, if the books.txt file contains:\n",
        "Some book\n",
        "Another book\n",
        "\n",
        "Your program should output:\n",
        "S9\n",
        "A12\n",
        "Recall the readlines() method, which returns a list containing the lines of the file.\n",
        "Also, remember that all lines, except the last one, contain a \\n at the end, which should not be included in the character count."
      ],
      "metadata": {
        "id": "BFX5LGE8v5nU"
      }
    },
    {
      "cell_type": "code",
      "source": [
        "#creamos el texto para poder trabajarlo.\n",
        "file = open(\"books.txt\",\"w\")\n",
        "print(file.write(\"Harry Potter\\n\"+\"Tttttttttttttttt\\n\"+\"Ppppppppppppppppp\\n\"+\"Gggggggggggggggg\\n\"))\n",
        "file.close()"
      ],
      "metadata": {
        "colab": {
          "base_uri": "https://localhost:8080/"
        },
        "id": "TRDrinA42BhP",
        "outputId": "56bd066d-ea04-4c3e-890d-23d4c4173f3d"
      },
      "execution_count": null,
      "outputs": [
        {
          "output_type": "stream",
          "name": "stdout",
          "text": [
            "65\n"
          ]
        }
      ]
    },
    {
      "cell_type": "code",
      "source": [
        "#ahora resolvemos el ejercicio, deberiamos ver la forma de cambiar el 4 por el ultimo elemento\n",
        "file = open(\"books.txt\", \"r\")\n",
        "\n",
        "#your code goes here\n",
        "file.readlines\n",
        "count = 0\n",
        "for line in file:\n",
        "    count += 1\n",
        "    if(count==4):\n",
        "        print(str(line[0])+str((len(line))))\n",
        "    else:\n",
        "        print(str(line[0])+str((len(line)-1)))\n",
        "file.close()"
      ],
      "metadata": {
        "colab": {
          "base_uri": "https://localhost:8080/"
        },
        "id": "C5lfkPhGwEuR",
        "outputId": "e84929b9-c722-4d6a-d797-1b04e687c5fe"
      },
      "execution_count": null,
      "outputs": [
        {
          "output_type": "stream",
          "name": "stdout",
          "text": [
            "H12\n",
            "T16\n",
            "P17\n",
            "G17\n"
          ]
        }
      ]
    },
    {
      "cell_type": "code",
      "source": [
        "print?"
      ],
      "metadata": {
        "id": "3BrCfK9i2Sfs"
      },
      "execution_count": null,
      "outputs": []
    },
    {
      "cell_type": "code",
      "source": [
        "import numpy as np\n",
        "\n",
        "data=np.array([1000, 2500, 1400, 1800, 900, 4200, 2200, 1900, 3500])\n",
        "\n",
        "newhouse= np.array(int(input()))\n",
        "print(data,type(data))\n",
        "print(newhouse,type(newhouse))\n",
        "\n",
        "newarray= np.append(data,newhouse)\n",
        "\n",
        "print(np.sort(newarray))"
      ],
      "metadata": {
        "colab": {
          "base_uri": "https://localhost:8080/"
        },
        "id": "yyheLXk90DLW",
        "outputId": "2af12987-9fac-447e-d9d3-4e9c0d297648"
      },
      "execution_count": null,
      "outputs": [
        {
          "output_type": "stream",
          "name": "stdout",
          "text": [
            "1100\n",
            "[1000 2500 1400 1800  900 4200 2200 1900 3500] <class 'numpy.ndarray'>\n",
            "1100 <class 'numpy.ndarray'>\n",
            "[ 900 1000 1100 1400 1800 1900 2200 2500 3500 4200]\n"
          ]
        }
      ]
    },
    {
      "cell_type": "code",
      "source": [
        "import numpy as np\n",
        "\n",
        "data = np.array([1, 1, 0, 0, 1, 0, 0, 0, 0, 0, 1, 1, 1, 1, 1, 1, 0, 1, 0, 1, 1, 1, 1, 0, 0, 0, 1, 1, 1, 0])\n",
        "\n",
        "row = int(input())\n",
        "seats= data.reshape(6,5)\n",
        "print(seats[row])"
      ],
      "metadata": {
        "colab": {
          "base_uri": "https://localhost:8080/"
        },
        "id": "E5Lx5OR53M-j",
        "outputId": "85500ddd-18af-400b-98f8-ff90a731837b"
      },
      "execution_count": null,
      "outputs": [
        {
          "output_type": "stream",
          "name": "stdout",
          "text": [
            "0\n",
            "[1 1 0 0 1]\n"
          ]
        }
      ]
    },
    {
      "cell_type": "code",
      "source": [
        "numbers= np.arange(101)\n",
        "print(type(numbers))\n",
        "print(numbers[(numbers%3==0) & (numbers%5==0)])\n",
        "\n",
        "condition = (numbers%3==0) & (numbers%5==0)\n",
        "print(numbers[condition])"
      ],
      "metadata": {
        "colab": {
          "base_uri": "https://localhost:8080/"
        },
        "id": "TSVTxWT96oQw",
        "outputId": "101649dc-e646-493b-f021-94af78341234"
      },
      "execution_count": null,
      "outputs": [
        {
          "output_type": "stream",
          "name": "stdout",
          "text": [
            "<class 'numpy.ndarray'>\n",
            "[ 0 15 30 45 60 75 90]\n",
            "[ 0 15 30 45 60 75 90]\n"
          ]
        }
      ]
    },
    {
      "cell_type": "code",
      "source": [],
      "metadata": {
        "id": "U8xDISzG-Uqq"
      },
      "execution_count": null,
      "outputs": []
    },
    {
      "cell_type": "code",
      "source": [
        "data = np.array([120, 98, 150, 65, 42, 100, 190, 220, 140, 110, 88, 89, 100, 120, 50, 180, 155, 42, 89, 77, 200, 190, 125, 98, 77, 40, 39, 59, 30, 67])\n",
        "print(data[(data>data.mean())].size)\n"
      ],
      "metadata": {
        "colab": {
          "base_uri": "https://localhost:8080/"
        },
        "id": "SIyOxgeo-UwS",
        "outputId": "3b078ab6-3919-4702-ad73-0a145caf5a97"
      },
      "execution_count": null,
      "outputs": [
        {
          "output_type": "stream",
          "name": "stdout",
          "text": [
            "12\n"
          ]
        }
      ]
    },
    {
      "cell_type": "markdown",
      "source": [
        "You are given an array that represents house prices.\n",
        "Calculate and output the percentage of houses that are within one standard deviation from the mean."
      ],
      "metadata": {
        "id": "W6ZLvHoPBqpI"
      }
    },
    {
      "cell_type": "code",
      "source": [
        "import numpy as np\n",
        "\n",
        "data = np.array([150000, 125000, 320000, 540000, 200000, 120000, 160000, 230000, 280000, 290000, 300000, 500000, 420000, 100000, 150000, 280000]) \n",
        "m = np.mean(data)\n",
        "d = np.std(data)\n",
        "y1 = m-d\n",
        "y2 = m+d\n",
        "a = data [(data> y1) & (data < y2)].size\n",
        "\n",
        "b = data.size\n",
        "r = a/b*100\n",
        "print(r)"
      ],
      "metadata": {
        "colab": {
          "base_uri": "https://localhost:8080/"
        },
        "id": "J2A8PUtfBrDx",
        "outputId": "c8f4411b-e478-4957-bbf8-072532d25233"
      },
      "execution_count": null,
      "outputs": [
        {
          "output_type": "stream",
          "name": "stdout",
          "text": [
            "62.5\n"
          ]
        }
      ]
    },
    {
      "cell_type": "markdown",
      "source": [
        "Basketball Players\n",
        "\n",
        "\n",
        "The given code includes a list of heights for various basketball players.\n",
        "You need to calculate and output how many players are in the range of one standard deviation from the mean.\n",
        "Output the result using the print statement."
      ],
      "metadata": {
        "id": "ZfwsXRRsC8ku"
      }
    },
    {
      "cell_type": "code",
      "source": [
        "players = [180, 172, 178, 185, 190, 195, 192, 200, 210, 190]\n",
        "\n",
        "import numpy as np\n",
        "players_array= np.array(players)\n",
        "m = np.mean(players_array)\n",
        "d = np.std(players_array)\n",
        "print(m)\n",
        "print(d)\n",
        "low = m-d\n",
        "high = m+d\n",
        "range = players_array [(players_array > low) & (players_array < high)].size\n",
        "print(range)"
      ],
      "metadata": {
        "colab": {
          "base_uri": "https://localhost:8080/"
        },
        "id": "DZkp4I4bC8Pf",
        "outputId": "e1ae599c-5047-40a5-ac10-ea575755914b"
      },
      "execution_count": null,
      "outputs": [
        {
          "output_type": "stream",
          "name": "stdout",
          "text": [
            "189.2\n",
            "10.562196741208716\n",
            "6\n"
          ]
        }
      ]
    },
    {
      "cell_type": "markdown",
      "source": [
        "Ranking Board\n",
        "\n",
        "\n",
        "You are given a DataFrame that includes the names and ranks of people.\n",
        "You need to take a rank as input and output the corresponding name column from the DataFrame as a Series.\n",
        "Note that the rank is an integer, so you need to convert the user input to an integer."
      ],
      "metadata": {
        "id": "TkH4bW9P6EZ7"
      }
    },
    {
      "cell_type": "code",
      "source": [
        "import pandas as pd\n",
        "\n",
        "data = {\n",
        "   'name': ['James', 'Billy', 'Bob', 'Amy', 'Tom', 'Harry'],\n",
        "   'rank': [4, 1, 3, 5, 2, 6]\n",
        "}\n",
        "\n",
        "df = pd.DataFrame(data, index=data['name'])\n",
        "user_rank = int(input())\n",
        "print(df['name'][df[\"rank\"]==user_rank])"
      ],
      "metadata": {
        "colab": {
          "base_uri": "https://localhost:8080/"
        },
        "id": "JHj8solo6A_W",
        "outputId": "15549998-7c1a-4041-debe-179fdc2932a3"
      },
      "execution_count": null,
      "outputs": [
        {
          "output_type": "stream",
          "name": "stdout",
          "text": [
            "1\n",
            "Billy    Billy\n",
            "Name: name, dtype: object\n"
          ]
        }
      ]
    },
    {
      "cell_type": "markdown",
      "source": [
        "Ejercicios\n",
        "\n",
        "Imprima los números de -10 a -1 utilizando un bucle for"
      ],
      "metadata": {
        "id": "JQqFhvlyJigE"
      }
    },
    {
      "cell_type": "code",
      "source": [
        "num = -10\n",
        "for i in range(10):\n",
        "  print(num)\n",
        "  num+=1\n"
      ],
      "metadata": {
        "colab": {
          "base_uri": "https://localhost:8080/"
        },
        "id": "x6N_ZtQZJVj0",
        "outputId": "1a4a76a5-a454-42d8-d24f-2b0f80626386"
      },
      "execution_count": null,
      "outputs": [
        {
          "output_type": "stream",
          "name": "stdout",
          "text": [
            "-10\n",
            "-9\n",
            "-8\n",
            "-7\n",
            "-6\n",
            "-5\n",
            "-4\n",
            "-3\n",
            "-2\n",
            "-1\n"
          ]
        }
      ]
    },
    {
      "cell_type": "code",
      "source": [
        "for i in range(-10,0):\n",
        "  print(i)"
      ],
      "metadata": {
        "colab": {
          "base_uri": "https://localhost:8080/"
        },
        "id": "uvTmFzc7KNI4",
        "outputId": "935c03d3-d9d6-4183-d691-fc0e0cda55bd"
      },
      "execution_count": null,
      "outputs": [
        {
          "output_type": "stream",
          "name": "stdout",
          "text": [
            "-10\n",
            "-9\n",
            "-8\n",
            "-7\n",
            "-6\n",
            "-5\n",
            "-4\n",
            "-3\n",
            "-2\n",
            "-1\n"
          ]
        }
      ]
    },
    {
      "cell_type": "markdown",
      "source": [
        "Dada la siguiente lista imprimir los números divisibles por 5 menores a 150.\n",
        "\n",
        "numeros = [12 , 75 , 150 , 180 , 145 , 525 , 50]"
      ],
      "metadata": {
        "id": "BxZn8WCXJ7EL"
      }
    },
    {
      "cell_type": "code",
      "source": [
        "num = [12,75,150,180,145,525,50]\n",
        "\n",
        "for i in num:\n",
        "  if i<150:\n",
        "    if i%5==0:\n",
        "      print(i)"
      ],
      "metadata": {
        "colab": {
          "base_uri": "https://localhost:8080/"
        },
        "id": "BAu3KkzGKZhp",
        "outputId": "646df3ca-a999-4a06-db14-f168f634a380"
      },
      "execution_count": null,
      "outputs": [
        {
          "output_type": "stream",
          "name": "stdout",
          "text": [
            "75\n",
            "145\n",
            "50\n"
          ]
        }
      ]
    },
    {
      "cell_type": "markdown",
      "source": [
        "La lista en el siguiente bloque de código contiene números enteros. Crear una lista para los números pares y otra para los números impares.\n",
        "\n",
        "numeros = [3 , 5 , 2 , 9 , 2 , 6 , 6 , 4 , 3 , 9 , 6 , 7 , 8 , 5 , 11]"
      ],
      "metadata": {
        "id": "96M83pIUK4MQ"
      }
    },
    {
      "cell_type": "code",
      "source": [
        "num = [3 , 5 , 2 , 9 , 2 , 6 , 6 , 4 , 3 , 9 , 6 , 7 , 8 , 5 , 11]\n",
        "\n",
        "even=[]\n",
        "odd=[]\n",
        "\n",
        "for i in num:\n",
        "  if i%2==0:\n",
        "    even.append(i)\n",
        "  else:\n",
        "    odd.append(i)\n",
        "\n",
        "print(f'Even numbers: {even}')\n",
        "print(f'Odd numbers: {odd}')"
      ],
      "metadata": {
        "colab": {
          "base_uri": "https://localhost:8080/"
        },
        "id": "aFiqGhjKLCPD",
        "outputId": "4e7ff144-967f-42e4-a2da-ea64c686f6d9"
      },
      "execution_count": null,
      "outputs": [
        {
          "output_type": "stream",
          "name": "stdout",
          "text": [
            "Even numbers: [2, 2, 6, 6, 4, 6, 8]\n",
            "Odd numbers: [3, 5, 9, 3, 9, 7, 5, 11]\n"
          ]
        }
      ]
    },
    {
      "cell_type": "markdown",
      "source": [
        "Calcular el cuadrado de los primeros 10 números enteros y guardarlos en una lista.\n"
      ],
      "metadata": {
        "id": "guhEYv1BL81T"
      }
    },
    {
      "cell_type": "code",
      "source": [
        "squares = []\n",
        "num= 0\n",
        "count= 0\n",
        "\n",
        "for i in range(1,11):\n",
        "  num= i**2\n",
        "  squares.append(num)\n",
        "\n",
        "print(f'Squares list: {squares}')"
      ],
      "metadata": {
        "colab": {
          "base_uri": "https://localhost:8080/"
        },
        "id": "xjuDtxPvL9sA",
        "outputId": "b0030ca4-672c-4454-867a-7ee9bdcf7891"
      },
      "execution_count": null,
      "outputs": [
        {
          "output_type": "stream",
          "name": "stdout",
          "text": [
            "Squares list: [1, 4, 9, 16, 25, 36, 49, 64, 81, 100]\n"
          ]
        }
      ]
    },
    {
      "cell_type": "markdown",
      "source": [
        "Escriba un programa que dada una lista de números y un valor de umbral vaya sumando los números de la lista hasta que la suma alcance el umbral. Utilice un bucle while y el metodo .pop(0) para seleccionar al primer elemento de la lista. Utilice break para terminar la ejecución del bucle cuando la suma alcance el umbral.\n",
        "Resultados esperados:\n",
        "\n",
        "umbral = 20\n",
        "valores = [3 , 5 , 4 , 4 , 5 , 5 , 3 , 5 , 2 , 7] # suma -> 21\n",
        "\n",
        "umbral = 34\n",
        "valores = [3 , 5 , 4 , 4 , 5 , 5 , 3 , 5 , 2 , 7] # suma -> 34\n",
        "\n",
        "umbral = 100\n",
        "valores = [3 , 5 , 4 , 4 , 5 , 5 , 3 , 5 , 2 , 7] # suma -> 43\n"
      ],
      "metadata": {
        "id": "VYVF-WZlOuPI"
      }
    },
    {
      "cell_type": "code",
      "source": [
        "numeros= [3 , 5 , 4 , 4 , 5 , 5 , 3 , 5 , 2 , 7]\n",
        "umbral = int(input(\"Hola, ingresá tu umbral para trabajar en la lista:\"))\n",
        "total = 0\n",
        "\n",
        "while len(numeros) >= 1:\n",
        "  if total>= umbral:\n",
        "    break\n",
        "  total += numeros.pop(0)\n",
        "  print(total)\n",
        "print(\"\\nEl resultado es:\",total)    \n"
      ],
      "metadata": {
        "colab": {
          "base_uri": "https://localhost:8080/"
        },
        "id": "iJn4ppufPbtc",
        "outputId": "28d6dfb6-8f14-4a98-9d7c-66606c5e4dad"
      },
      "execution_count": null,
      "outputs": [
        {
          "output_type": "stream",
          "name": "stdout",
          "text": [
            "Hola, ingresá tu umbral para trabajar en la lista:100\n",
            "3\n",
            "8\n",
            "12\n",
            "16\n",
            "21\n",
            "26\n",
            "29\n",
            "34\n",
            "36\n",
            "43\n",
            "\n",
            "El resultado es: 43\n"
          ]
        }
      ]
    },
    {
      "cell_type": "markdown",
      "source": [
        "Escriba un programa que dada una lista numérica compute la suma de los números pares. Utilice un bucle while y la sentencia continue para saltear los casos donde el número no sea par. Resultados esperados:\n",
        "\n",
        "valores = [1 , 2 , 3 , 4 , 5 , 6 , 7 , 8 , 9 , 10] # suma -> 30\n",
        "\n",
        "valores = [1 , 4 , 7 , 10] # suma -> 14"
      ],
      "metadata": {
        "id": "F-FCUaZiU2u_"
      }
    },
    {
      "cell_type": "code",
      "source": [
        "valores1= [1 , 2 , 3 , 4 , 5 , 6 , 7 , 8 , 9 , 10]\n",
        "valores2= [1 , 4 , 7 , 10]\n",
        "\n",
        "total = 0\n",
        "count= 0\n",
        "while valores1[count]%2 != 0:\n",
        "    total += valores1[count]\n",
        "    count +=1\n",
        "    print(total)\n",
        "    \n",
        "    \n",
        "\n",
        "print(valores1[count])"
      ],
      "metadata": {
        "colab": {
          "base_uri": "https://localhost:8080/"
        },
        "id": "CSiNN18kU1lS",
        "outputId": "fc595ecd-f433-4ed0-c9dc-727868428e3c"
      },
      "execution_count": null,
      "outputs": [
        {
          "output_type": "stream",
          "name": "stdout",
          "text": [
            "1\n"
          ]
        }
      ]
    },
    {
      "cell_type": "markdown",
      "source": [
        "Dada la siguiente lista de palabras\n",
        "\n",
        "palabras = [ \" C ó ncavo \" , \" Autopista \" , \" Diagonal \" , \" Equipaje \" , \" Ardilla \" , \" Consultorio \" , \" Roma \" , \" Loco \" , \" Marciano \" , \" Karateca \" , \" Aniversario \" , \" Topadora \" , \" Grabador \" , \" Salir \" , \" Ventoso \" , \" Anunciar \" ,\" R ó tula \" , \" Estanque \" , \" Quedarse \" , \" Nuevo \" , \" Sordo \" , \" Madurar \" , \" Vestir \" , \" Retoque \" , \" Desvelo \" , \" Hora \" , \" Cochera \" , \" Metal \" , \" Nudo \" , \" Maquillaje \" , \" Barco \" , \" Soda \" , \" Lagartija \" ]\n",
        "\n",
        "¿Cuántas palabras hay en total?\n",
        "¿Cuántas empiezan con ’A’ ?\n",
        "¿Cuántas terminan con ’o’ ?\n",
        "¿Cuántas empiezan con alguna vocal?\n",
        "¿Cuántas terminan con alguna consonante?\n",
        "Seleccionar la última palabra que empiece con una consonante."
      ],
      "metadata": {
        "id": "SP5SDGAdelAW"
      }
    },
    {
      "cell_type": "code",
      "source": [
        "palabras = [ \" C ó ncavo \" , \" Autopista \" , \" Diagonal \" , \" Equipaje \" , \" Ardilla \" , \" Consultorio \" , \" Roma \" ,\n",
        "            \" Loco \" , \" Marciano \" , \" Karateca \" , \" Aniversario \" , \" Topadora \" , \" Grabador \" , \" Salir \" , \n",
        "            \" Ventoso \" , \" Anunciar \" ,\" R ó tula \" , \" Estanque \" , \" Quedarse \" , \" Nuevo \" , \" Sordo \" , \n",
        "            \" Madurar \" , \" Vestir \" , \" Retoque \" , \" Desvelo \" , \" Hora \" , \" Cochera \" , \" Metal \" , \" Nudo \" , \n",
        "            \" Maquillaje \" , \" Barco \" , \" Soda \" , \" Lagartija \" ]\n",
        "\n",
        "print(\"Total de palabras:\",len(palabras))\n",
        "count_A = 0\n",
        "count_O = 0\n",
        "for i in palabras:\n",
        "  if palabra[0]==\"A\"\n",
        "  count_A +=1\n",
        "  elif palabra[-1]\n",
        "\n",
        "  print(i)\n"
      ],
      "metadata": {
        "colab": {
          "base_uri": "https://localhost:8080/"
        },
        "id": "nngUEJ3eenSO",
        "outputId": "25262268-669e-4a9b-e1c3-e768cc4b52d6"
      },
      "execution_count": null,
      "outputs": [
        {
          "output_type": "stream",
          "name": "stdout",
          "text": [
            "Total de palabras: 33\n",
            " C ó ncavo \n",
            " Autopista \n",
            " Diagonal \n",
            " Equipaje \n",
            " Ardilla \n",
            " Consultorio \n",
            " Roma \n",
            " Loco \n",
            " Marciano \n",
            " Karateca \n",
            " Aniversario \n",
            " Topadora \n",
            " Grabador \n",
            " Salir \n",
            " Ventoso \n",
            " Anunciar \n",
            " R ó tula \n",
            " Estanque \n",
            " Quedarse \n",
            " Nuevo \n",
            " Sordo \n",
            " Madurar \n",
            " Vestir \n",
            " Retoque \n",
            " Desvelo \n",
            " Hora \n",
            " Cochera \n",
            " Metal \n",
            " Nudo \n",
            " Maquillaje \n",
            " Barco \n",
            " Soda \n",
            " Lagartija \n"
          ]
        }
      ]
    },
    {
      "cell_type": "code",
      "source": [
        "txt = 'Hola me llamo texto y quiero ver cual es la palabra mas larga'\n",
        "\n",
        "list_word = txt.split(\" \")\n",
        "word= \"a\"\n",
        "for i in list_word:\n",
        "    if len(i) > len(word):\n",
        "        word= i\n",
        "print(word)"
      ],
      "metadata": {
        "colab": {
          "base_uri": "https://localhost:8080/"
        },
        "id": "_k_OL9eQQzU-",
        "outputId": "e35c47eb-1b79-412e-909e-2b1a5c77a65d"
      },
      "execution_count": null,
      "outputs": [
        {
          "output_type": "stream",
          "name": "stdout",
          "text": [
            "palabra\n"
          ]
        }
      ]
    },
    {
      "cell_type": "code",
      "source": [
        "nums = {\n",
        "    1: 'one',\n",
        "    2: 'two',\n",
        "    3: 'three',\n",
        "}\n",
        "print(1 in nums)\n",
        "print('three' in nums)\n",
        "print(4 not in nums)"
      ],
      "metadata": {
        "colab": {
          "base_uri": "https://localhost:8080/"
        },
        "id": "oixiW2-gV95x",
        "outputId": "d64b4973-0ab7-4a89-ffd1-8a2b23deb814"
      },
      "execution_count": null,
      "outputs": [
        {
          "output_type": "stream",
          "name": "stdout",
          "text": [
            "True\n",
            "False\n",
            "True\n"
          ]
        }
      ]
    },
    {
      "cell_type": "code",
      "source": [
        "allowed_file('image.jpeg')"
      ],
      "metadata": {
        "colab": {
          "base_uri": "https://localhost:8080/"
        },
        "id": "0peSRG-SuUGO",
        "outputId": "98c3d867-f135-456c-8920-712aa57fa337"
      },
      "execution_count": null,
      "outputs": [
        {
          "output_type": "execute_result",
          "data": {
            "text/plain": [
              "True"
            ]
          },
          "metadata": {},
          "execution_count": 15
        }
      ]
    },
    {
      "cell_type": "code",
      "source": [
        "def get_file_hash(file):\n",
        "    \"\"\"\n",
        "    Returns a new filename based on the file content using MD5 hashing.\n",
        "    It uses hashlib.md5() function from Python standard library to get\n",
        "    the hash.\n",
        "\n",
        "    Parameters\n",
        "    ----------\n",
        "    file : werkzeug.datastructures.FileStorage\n",
        "        File sent by user.\n",
        "\n",
        "    Returns\n",
        "    -------\n",
        "    str\n",
        "        New filename based in md5 file hash.\n",
        "    \"\"\"\n",
        "    # Current implementation will return the original file name.\n",
        "    # TODO\n",
        "    return os.path.basename(file.filename)"
      ],
      "metadata": {
        "id": "zj4Z8Gx5yIuE"
      },
      "execution_count": null,
      "outputs": []
    },
    {
      "cell_type": "code",
      "source": [
        "!pip install fastapi"
      ],
      "metadata": {
        "colab": {
          "base_uri": "https://localhost:8080/"
        },
        "id": "IgE3L4cGn0Xc",
        "outputId": "c4a3b175-7bb9-48e7-91b7-a12adebf9f49"
      },
      "execution_count": null,
      "outputs": [
        {
          "output_type": "stream",
          "name": "stdout",
          "text": [
            "Looking in indexes: https://pypi.org/simple, https://us-python.pkg.dev/colab-wheels/public/simple/\n",
            "Collecting fastapi\n",
            "  Downloading fastapi-0.79.0-py3-none-any.whl (54 kB)\n",
            "\u001b[K     |████████████████████████████████| 54 kB 2.5 MB/s \n",
            "\u001b[?25hCollecting starlette==0.19.1\n",
            "  Downloading starlette-0.19.1-py3-none-any.whl (63 kB)\n",
            "\u001b[K     |████████████████████████████████| 63 kB 1.9 MB/s \n",
            "\u001b[?25hRequirement already satisfied: pydantic!=1.7,!=1.7.1,!=1.7.2,!=1.7.3,!=1.8,!=1.8.1,<2.0.0,>=1.6.2 in /usr/local/lib/python3.7/dist-packages (from fastapi) (1.8.2)\n",
            "Collecting anyio<5,>=3.4.0\n",
            "  Downloading anyio-3.6.1-py3-none-any.whl (80 kB)\n",
            "\u001b[K     |████████████████████████████████| 80 kB 7.8 MB/s \n",
            "\u001b[?25hRequirement already satisfied: typing-extensions>=3.10.0 in /usr/local/lib/python3.7/dist-packages (from starlette==0.19.1->fastapi) (4.1.1)\n",
            "Collecting sniffio>=1.1\n",
            "  Downloading sniffio-1.2.0-py3-none-any.whl (10 kB)\n",
            "Requirement already satisfied: idna>=2.8 in /usr/local/lib/python3.7/dist-packages (from anyio<5,>=3.4.0->starlette==0.19.1->fastapi) (2.10)\n",
            "Installing collected packages: sniffio, anyio, starlette, fastapi\n",
            "Successfully installed anyio-3.6.1 fastapi-0.79.0 sniffio-1.2.0 starlette-0.19.1\n"
          ]
        }
      ]
    },
    {
      "cell_type": "code",
      "source": [
        "from pydantic import BaseModel\n",
        "from fastapi.encoders import jsonable_encoder\n",
        "import pandas as pd"
      ],
      "metadata": {
        "id": "UEEw-GEjnLE4",
        "colab": {
          "base_uri": "https://localhost:8080/",
          "height": 339
        },
        "outputId": "ecd4586d-b58b-4ce5-e056-aea6d58b1a9a"
      },
      "execution_count": null,
      "outputs": [
        {
          "output_type": "error",
          "ename": "ModuleNotFoundError",
          "evalue": "ignored",
          "traceback": [
            "\u001b[0;31m---------------------------------------------------------------------------\u001b[0m",
            "\u001b[0;31mModuleNotFoundError\u001b[0m                       Traceback (most recent call last)",
            "\u001b[0;32m<ipython-input-6-d7abdad232b1>\u001b[0m in \u001b[0;36m<module>\u001b[0;34m()\u001b[0m\n\u001b[1;32m      1\u001b[0m \u001b[0;32mfrom\u001b[0m \u001b[0mpydantic\u001b[0m \u001b[0;32mimport\u001b[0m \u001b[0mBaseModel\u001b[0m\u001b[0;34m\u001b[0m\u001b[0;34m\u001b[0m\u001b[0m\n\u001b[0;32m----> 2\u001b[0;31m \u001b[0;32mfrom\u001b[0m \u001b[0mfastapi\u001b[0m\u001b[0;34m.\u001b[0m\u001b[0mencoders\u001b[0m \u001b[0;32mimport\u001b[0m \u001b[0mjsonable_encoder\u001b[0m\u001b[0;34m\u001b[0m\u001b[0;34m\u001b[0m\u001b[0m\n\u001b[0m\u001b[1;32m      3\u001b[0m \u001b[0;32mimport\u001b[0m \u001b[0mpandas\u001b[0m \u001b[0;32mas\u001b[0m \u001b[0mpd\u001b[0m\u001b[0;34m\u001b[0m\u001b[0;34m\u001b[0m\u001b[0m\n",
            "\u001b[0;31mModuleNotFoundError\u001b[0m: No module named 'fastapi'",
            "",
            "\u001b[0;31m---------------------------------------------------------------------------\u001b[0;32m\nNOTE: If your import is failing due to a missing package, you can\nmanually install dependencies using either !pip or !apt.\n\nTo view examples of installing some common dependencies, click the\n\"Open Examples\" button below.\n\u001b[0;31m---------------------------------------------------------------------------\u001b[0m\n"
          ],
          "errorDetails": {
            "actions": [
              {
                "action": "open_url",
                "actionText": "Open Examples",
                "url": "/notebooks/snippets/importing_libraries.ipynb"
              }
            ]
          }
        }
      ]
    },
    {
      "cell_type": "code",
      "source": [
        "form_dict = jsonable_encoder(application)\n",
        "print(form_dict)\n",
        "for key,value in form_dict.items():\n",
        "    form_dict[key] = [value]\n",
        "    print(key)\n",
        "    print(value)\n",
        "print(form_dict)\n",
        "single_applicant = pd.DataFrame.from_dict(form_dict)"
      ],
      "metadata": {
        "colab": {
          "base_uri": "https://localhost:8080/",
          "height": 235
        },
        "id": "lyrSWO2_nmxF",
        "outputId": "b9dfea80-fc5e-49a7-a876-7df83d0e7338"
      },
      "execution_count": null,
      "outputs": [
        {
          "output_type": "error",
          "ename": "NameError",
          "evalue": "ignored",
          "traceback": [
            "\u001b[0;31m---------------------------------------------------------------------------\u001b[0m",
            "\u001b[0;31mNameError\u001b[0m                                 Traceback (most recent call last)",
            "\u001b[0;32m<ipython-input-7-508a2bf50905>\u001b[0m in \u001b[0;36m<module>\u001b[0;34m()\u001b[0m\n\u001b[0;32m----> 1\u001b[0;31m \u001b[0mform_dict\u001b[0m \u001b[0;34m=\u001b[0m \u001b[0mjsonable_encoder\u001b[0m\u001b[0;34m(\u001b[0m\u001b[0mapplication\u001b[0m\u001b[0;34m)\u001b[0m\u001b[0;34m\u001b[0m\u001b[0;34m\u001b[0m\u001b[0m\n\u001b[0m\u001b[1;32m      2\u001b[0m \u001b[0mprint\u001b[0m\u001b[0;34m(\u001b[0m\u001b[0mform_dict\u001b[0m\u001b[0;34m)\u001b[0m\u001b[0;34m\u001b[0m\u001b[0;34m\u001b[0m\u001b[0m\n\u001b[1;32m      3\u001b[0m \u001b[0;32mfor\u001b[0m \u001b[0mkey\u001b[0m\u001b[0;34m,\u001b[0m\u001b[0mvalue\u001b[0m \u001b[0;32min\u001b[0m \u001b[0mform_dict\u001b[0m\u001b[0;34m.\u001b[0m\u001b[0mitems\u001b[0m\u001b[0;34m(\u001b[0m\u001b[0;34m)\u001b[0m\u001b[0;34m:\u001b[0m\u001b[0;34m\u001b[0m\u001b[0;34m\u001b[0m\u001b[0m\n\u001b[1;32m      4\u001b[0m     \u001b[0mform_dict\u001b[0m\u001b[0;34m[\u001b[0m\u001b[0mkey\u001b[0m\u001b[0;34m]\u001b[0m \u001b[0;34m=\u001b[0m \u001b[0;34m[\u001b[0m\u001b[0mvalue\u001b[0m\u001b[0;34m]\u001b[0m\u001b[0;34m\u001b[0m\u001b[0;34m\u001b[0m\u001b[0m\n\u001b[1;32m      5\u001b[0m     \u001b[0mprint\u001b[0m\u001b[0;34m(\u001b[0m\u001b[0mkey\u001b[0m\u001b[0;34m)\u001b[0m\u001b[0;34m\u001b[0m\u001b[0;34m\u001b[0m\u001b[0m\n",
            "\u001b[0;31mNameError\u001b[0m: name 'jsonable_encoder' is not defined"
          ]
        }
      ]
    },
    {
      "cell_type": "code",
      "source": [
        "print(application)\n",
        "print(form_dict)\n",
        "print(single_applicant)"
      ],
      "metadata": {
        "colab": {
          "base_uri": "https://localhost:8080/",
          "height": 200
        },
        "id": "u1RN6kkgoAS2",
        "outputId": "9be15a6e-67a9-4622-cd49-dca552d84c98"
      },
      "execution_count": null,
      "outputs": [
        {
          "output_type": "error",
          "ename": "NameError",
          "evalue": "ignored",
          "traceback": [
            "\u001b[0;31m---------------------------------------------------------------------------\u001b[0m",
            "\u001b[0;31mNameError\u001b[0m                                 Traceback (most recent call last)",
            "\u001b[0;32m<ipython-input-13-5e4e70e40534>\u001b[0m in \u001b[0;36m<module>\u001b[0;34m()\u001b[0m\n\u001b[0;32m----> 1\u001b[0;31m \u001b[0mprint\u001b[0m\u001b[0;34m(\u001b[0m\u001b[0mapplication\u001b[0m\u001b[0;34m)\u001b[0m\u001b[0;34m\u001b[0m\u001b[0;34m\u001b[0m\u001b[0m\n\u001b[0m\u001b[1;32m      2\u001b[0m \u001b[0mprint\u001b[0m\u001b[0;34m(\u001b[0m\u001b[0mform_dict\u001b[0m\u001b[0;34m)\u001b[0m\u001b[0;34m\u001b[0m\u001b[0;34m\u001b[0m\u001b[0m\n\u001b[1;32m      3\u001b[0m \u001b[0mprint\u001b[0m\u001b[0;34m(\u001b[0m\u001b[0msingle_applicant\u001b[0m\u001b[0;34m)\u001b[0m\u001b[0;34m\u001b[0m\u001b[0;34m\u001b[0m\u001b[0m\n",
            "\u001b[0;31mNameError\u001b[0m: name 'application' is not defined"
          ]
        }
      ]
    },
    {
      "cell_type": "code",
      "source": [
        "def handle_form(application):\n",
        "    form_dict = jsonable_encoder(application)\n",
        "    single_applicant = pd.DataFrame.from_dict(form_dict.values())\n",
        "    single_applicant.to_csv('output.csv')\n",
        "    return print(single_applicant)"
      ],
      "metadata": {
        "id": "AO7-3dHypKz6"
      },
      "execution_count": null,
      "outputs": []
    },
    {
      "cell_type": "code",
      "source": [
        "form_dict = jsonable_encoder(application)\n",
        "form_dict.values()"
      ],
      "metadata": {
        "colab": {
          "base_uri": "https://localhost:8080/",
          "height": 183
        },
        "id": "Y6OjC7x1r0p-",
        "outputId": "07c15f22-4de1-44fa-de8a-06f351a95018"
      },
      "execution_count": null,
      "outputs": [
        {
          "output_type": "error",
          "ename": "NameError",
          "evalue": "ignored",
          "traceback": [
            "\u001b[0;31m---------------------------------------------------------------------------\u001b[0m",
            "\u001b[0;31mNameError\u001b[0m                                 Traceback (most recent call last)",
            "\u001b[0;32m<ipython-input-12-af2f92c648f1>\u001b[0m in \u001b[0;36m<module>\u001b[0;34m()\u001b[0m\n\u001b[0;32m----> 1\u001b[0;31m \u001b[0mform_dict\u001b[0m \u001b[0;34m=\u001b[0m \u001b[0mjsonable_encoder\u001b[0m\u001b[0;34m(\u001b[0m\u001b[0mapplication\u001b[0m\u001b[0;34m)\u001b[0m\u001b[0;34m\u001b[0m\u001b[0;34m\u001b[0m\u001b[0m\n\u001b[0m\u001b[1;32m      2\u001b[0m \u001b[0mform_dict\u001b[0m\u001b[0;34m.\u001b[0m\u001b[0mvalues\u001b[0m\u001b[0;34m(\u001b[0m\u001b[0;34m)\u001b[0m\u001b[0;34m\u001b[0m\u001b[0;34m\u001b[0m\u001b[0m\n",
            "\u001b[0;31mNameError\u001b[0m: name 'jsonable_encoder' is not defined"
          ]
        }
      ]
    },
    {
      "cell_type": "code",
      "source": [
        "with open('mycsvfile.csv', 'a+') as f:  # You will need 'wb' mode in Python 2.x\n",
        "    writer = csv.DictWriter(f, application_dict.keys(),delimiter='\\t')\n",
        "    writer.writerow(application_dict)"
      ],
      "metadata": {
        "id": "MMFlAeBD7a08"
      },
      "execution_count": null,
      "outputs": []
    },
    {
      "cell_type": "code",
      "source": [
        "with open(new_submissions_path, \"wt\") as f:\n",
        "        f.write(f\"{form_dict.values()}\\n\")\n",
        "        flash(\"Thanks for your feedback\")"
      ],
      "metadata": {
        "id": "jq9Uzeqitnbn"
      },
      "execution_count": null,
      "outputs": []
    },
    {
      "cell_type": "code",
      "source": [
        "application_dict={\n",
        "    \"age\": 19,\n",
        "    \"Medu\": 1,\n",
        "    \"studytime\": 2,\n",
        "    \"failures\": 1,\n",
        "    \"famrel\": 4,\n",
        "    \"freetime\": 2,\n",
        "    \"goout\": 4,\n",
        "    \"Walc\": 2,\n",
        "    \"health\": 3,\n",
        "    \"absences\": 0\n",
        "}"
      ],
      "metadata": {
        "id": "pHnCD1gFnpJb"
      },
      "execution_count": null,
      "outputs": []
    },
    {
      "cell_type": "code",
      "source": [
        "import uuid"
      ],
      "metadata": {
        "id": "yiyoLU3FL2An"
      },
      "execution_count": null,
      "outputs": []
    },
    {
      "cell_type": "code",
      "source": [
        "job_id = str(uuid.uuid4())\n",
        "job_id"
      ],
      "metadata": {
        "id": "DsApzJX8L40H"
      },
      "execution_count": null,
      "outputs": []
    },
    {
      "cell_type": "code",
      "source": [
        "new_dict = {\n",
        "    \"id\": str(uuid.uuid4())\n",
        "}\n",
        "new_dict"
      ],
      "metadata": {
        "colab": {
          "base_uri": "https://localhost:8080/"
        },
        "id": "a5KriBYMP-2v",
        "outputId": "f25496b2-88f2-438f-b337-d0942103825c"
      },
      "execution_count": null,
      "outputs": [
        {
          "output_type": "execute_result",
          "data": {
            "text/plain": [
              "{'id': 'bc97969e-2ecd-4497-80f1-5c1a627538c1'}"
            ]
          },
          "metadata": {},
          "execution_count": 11
        }
      ]
    },
    {
      "cell_type": "code",
      "source": [
        "application_dict[\"id\"] =  str(uuid.uuid4())"
      ],
      "metadata": {
        "id": "FKypHvEOMBJ4"
      },
      "execution_count": null,
      "outputs": []
    },
    {
      "cell_type": "code",
      "source": [
        "application_dict"
      ],
      "metadata": {
        "colab": {
          "base_uri": "https://localhost:8080/"
        },
        "id": "WMkW8-fiMOuJ",
        "outputId": "d38666a7-1a21-4c21-ecd3-a98dcc5b2fc2"
      },
      "execution_count": null,
      "outputs": [
        {
          "output_type": "execute_result",
          "data": {
            "text/plain": [
              "{'Medu': 1,\n",
              " 'Walc': 2,\n",
              " 'absences': 0,\n",
              " 'age': 19,\n",
              " 'failures': 1,\n",
              " 'famrel': 4,\n",
              " 'freetime': 2,\n",
              " 'goout': 4,\n",
              " 'health': 3,\n",
              " 'id': '81d4d603-0774-467e-af66-3af0f8957274',\n",
              " 'studytime': 2}"
            ]
          },
          "metadata": {},
          "execution_count": 7
        }
      ]
    },
    {
      "cell_type": "code",
      "source": [
        "import csv\n",
        "import os"
      ],
      "metadata": {
        "id": "MkvFdftcvIQX"
      },
      "execution_count": null,
      "outputs": []
    },
    {
      "cell_type": "code",
      "source": [
        "UPLOAD_SUBMISSIONS_FOLDER = \"uploads/new_submissions\"\n",
        "os.makedirs(os.path.basename(UPLOAD_SUBMISSIONS_FOLDER), exist_ok=True)"
      ],
      "metadata": {
        "id": "O4LRwLVJvOfv"
      },
      "execution_count": null,
      "outputs": []
    },
    {
      "cell_type": "code",
      "source": [
        "with open(\"new_submissions.txt\", 'a+') as csvfile:\n",
        "    writer = csv.writer(csvfile, delimiter='\\t', lineterminator='\\n', )\n",
        "    # Add the header row\n",
        "    writer.writerow(application_dict.values())"
      ],
      "metadata": {
        "id": "ONBz9XcvuD3e"
      },
      "execution_count": null,
      "outputs": []
    },
    {
      "cell_type": "code",
      "source": [
        "pred_result = tuple([0, 0.25])"
      ],
      "metadata": {
        "id": "DefOy6nlPtiM"
      },
      "execution_count": null,
      "outputs": []
    },
    {
      "cell_type": "code",
      "source": [
        "pred_dict = {\n",
        "            \"prediction\": pred_result[0],\n",
        "            \"score\": pred_result[1],\n",
        "        }"
      ],
      "metadata": {
        "id": "7_bSizf-K0NF"
      },
      "execution_count": null,
      "outputs": []
    },
    {
      "cell_type": "code",
      "source": [
        "pred_dict['prediction']"
      ],
      "metadata": {
        "colab": {
          "base_uri": "https://localhost:8080/"
        },
        "id": "YaTtODLULTiL",
        "outputId": "db5458c4-f6e5-407c-94d2-d77f7c25561d"
      },
      "execution_count": null,
      "outputs": [
        {
          "output_type": "execute_result",
          "data": {
            "text/plain": [
              "0"
            ]
          },
          "metadata": {},
          "execution_count": 20
        }
      ]
    },
    {
      "cell_type": "code",
      "source": [
        "if pred_dict['prediction'] == 0:\n",
        "  #inverse_score = 1 - pred_dict['score']\n",
        "  pred_dict.update(\n",
        "      {\n",
        "          \"prediction\": 'GOOD',\n",
        "          \"score\": 1 - pred_dict['score']\n",
        "      })\n",
        "else:\n",
        "    pred_dict.update(\n",
        "      {\n",
        "          \"prediction\": 'BAD',\n",
        "          \"score\": pred_dict['score']\n",
        "      })"
      ],
      "metadata": {
        "id": "sKbqwsnKOo1Z"
      },
      "execution_count": null,
      "outputs": []
    },
    {
      "cell_type": "code",
      "source": [
        "print(f\"Due to submitted information the result indicates that the applicant is {pred_dict['prediction']} with {round(pred_dict['score']*100,4)}% of certainty.\")\n"
      ],
      "metadata": {
        "colab": {
          "base_uri": "https://localhost:8080/"
        },
        "id": "jBZ3eGKBMT6C",
        "outputId": "fb51f813-f37d-4e0a-8d4c-e87268313734"
      },
      "execution_count": null,
      "outputs": [
        {
          "output_type": "stream",
          "name": "stdout",
          "text": [
            "Due to submitted information the result indicates that the applicant is GOOD with 75.0% of certainty.\n"
          ]
        }
      ]
    },
    {
      "cell_type": "code",
      "source": [
        "path = '/home/app/src/data/raw/PAKDD2010_Modeling_Data.txt'\n",
        "splitted = path.split(\"/\")[-1]\n",
        "splitted"
      ],
      "metadata": {
        "colab": {
          "base_uri": "https://localhost:8080/",
          "height": 35
        },
        "id": "D8hUhq9j678L",
        "outputId": "6758ea4c-6316-46f0-d515-7e0a33fa1247"
      },
      "execution_count": null,
      "outputs": [
        {
          "output_type": "execute_result",
          "data": {
            "text/plain": [
              "'PAKDD2010_Modeling_Data.txt'"
            ],
            "application/vnd.google.colaboratory.intrinsic+json": {
              "type": "string"
            }
          },
          "metadata": {},
          "execution_count": 4
        }
      ]
    },
    {
      "cell_type": "code",
      "source": [
        "import os"
      ],
      "metadata": {
        "id": "tsbgBwtATzrY"
      },
      "execution_count": null,
      "outputs": []
    },
    {
      "cell_type": "code",
      "source": [
        "model_name = \"lgbm\"\n",
        "path = os.path.join(f'experiments/',f'{model_name}')\n",
        "path"
      ],
      "metadata": {
        "colab": {
          "base_uri": "https://localhost:8080/",
          "height": 35
        },
        "id": "Pjx794e4Tx8d",
        "outputId": "94ff0774-55b0-434a-b05c-859cb6fc7f73"
      },
      "execution_count": null,
      "outputs": [
        {
          "output_type": "execute_result",
          "data": {
            "text/plain": [
              "'experiments/lgbm'"
            ],
            "application/vnd.google.colaboratory.intrinsic+json": {
              "type": "string"
            }
          },
          "metadata": {},
          "execution_count": 4
        }
      ]
    },
    {
      "cell_type": "code",
      "source": [
        "False and True"
      ],
      "metadata": {
        "colab": {
          "base_uri": "https://localhost:8080/"
        },
        "id": "g1HQnQCKpg0T",
        "outputId": "9b09625e-5ed6-45e8-fd10-e8811a3d2c49"
      },
      "execution_count": null,
      "outputs": [
        {
          "output_type": "execute_result",
          "data": {
            "text/plain": [
              "False"
            ]
          },
          "metadata": {},
          "execution_count": 4
        }
      ]
    },
    {
      "cell_type": "code",
      "source": [
        "True or False"
      ],
      "metadata": {
        "colab": {
          "base_uri": "https://localhost:8080/"
        },
        "id": "BpcCagKlpi8t",
        "outputId": "31b6e7e4-51f1-4afd-caba-12a85442c1ed"
      },
      "execution_count": null,
      "outputs": [
        {
          "output_type": "execute_result",
          "data": {
            "text/plain": [
              "True"
            ]
          },
          "metadata": {},
          "execution_count": 2
        }
      ]
    },
    {
      "cell_type": "code",
      "source": [
        "False or True"
      ],
      "metadata": {
        "colab": {
          "base_uri": "https://localhost:8080/"
        },
        "id": "D8nHXX4Apnrx",
        "outputId": "f3b5c4f9-411f-46ce-e82b-4ed4cddc56f0"
      },
      "execution_count": null,
      "outputs": [
        {
          "output_type": "execute_result",
          "data": {
            "text/plain": [
              "True"
            ]
          },
          "metadata": {},
          "execution_count": 5
        }
      ]
    },
    {
      "cell_type": "markdown",
      "source": [
        "Se quiere agilizar el pedido de turnos en un consultorio. Para ello se le debe mostrar al usuario primero los días disponibles. Según su elección, mostrarle luego los horarios hora por hora, para que elijan una hora en particular. Por último imprimir en pantalla el turno. Ejemplo: Lunes a las 10.\n"
      ],
      "metadata": {
        "id": "RNp3K3XEJmxT"
      }
    },
    {
      "cell_type": "markdown",
      "source": [
        "![image.png](data:image/png;base64,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)"
      ],
      "metadata": {
        "id": "VP5LGuJXJqDm"
      }
    },
    {
      "cell_type": "code",
      "source": [
        "open = {\"lunes\":range(9,12),\n",
        "                \"martes\":range(10,16),\n",
        "                \"miércoles\": range(8,11),\n",
        "                \"jueves\":range(11,16),\n",
        "                \"viernes\":range(8,12)}"
      ],
      "metadata": {
        "id": "dvTpeBYHJl8A"
      },
      "execution_count": null,
      "outputs": []
    },
    {
      "cell_type": "code",
      "source": [
        "print(f'Hola, bienvenido al nuevo sistema de turnos del consultorio Leperini:\\n')\n",
        "while True:\n",
        "  print(f'Los días disponibles para su atención son:\\n')\n",
        "  for day in open.keys():\n",
        "    print(day.capitalize())\n",
        "  day = input(f'\\nPor favor, ingrese un día para continuar con su reserva:',)\n",
        "  print(f'\\nUsted a ingresado el día: {day.capitalize()}.\\n')\n",
        "  day = day.lower()\n",
        "  if day in open:\n",
        "    print(f'Los horarios disponibles para agendar su turno son:\\n')\n",
        "    for hour in open[day]:\n",
        "      print(f'{hour} horas')\n",
        "  else:\n",
        "    print(f'El día ingresado es incorrecto. Por favor ingrese un día proveniente del listado.\\n')\n",
        "    continue\n",
        "  while True:\n",
        "    hour = int(input(f'\\nPor favor, ingrese la hora (solo el número) a la que desee su consulta el día {day.capitalize()}:\\n',))\n",
        "    if hour in open[day.lower()]:\n",
        "      print(f'\\nSu turno ha sido reservado para el día {day} a las {hour} horas.\\n\\nMuchas gracias por confiar en consultorio Leperini ')\n",
        "      break\n",
        "    else:\n",
        "      print(f'La hora ingresada es incorrecta. Asegurese de que se encuentre dentro del siguente listado:')\n",
        "      for hour in open[day]:\n",
        "        print(f'{hour} horas')\n",
        "      continue\n",
        "  break"
      ],
      "metadata": {
        "colab": {
          "base_uri": "https://localhost:8080/"
        },
        "id": "_3ebrG_oXjWu",
        "outputId": "21cf6bec-ed48-44f8-d134-20259383811f"
      },
      "execution_count": null,
      "outputs": [
        {
          "output_type": "stream",
          "name": "stdout",
          "text": [
            "Hola, bienvenido al nuevo sistema de turnos del consultorio Leperini:\n",
            "\n",
            "Los días disponibles para su atención son:\n",
            "\n",
            "Lunes\n",
            "Martes\n",
            "Miércoles\n",
            "Jueves\n",
            "Viernes\n",
            "\n",
            "Por favor, ingrese un día para continuar con su reserva:jueves\n",
            "\n",
            "Usted a ingresado el día: Jueves.\n",
            "\n",
            "Los horarios disponibles para agendar su turno son:\n",
            "\n",
            "11 horas\n",
            "12 horas\n",
            "13 horas\n",
            "14 horas\n",
            "15 horas\n",
            "\n",
            "Por favor, ingrese la hora (solo el número) a la que desee su consulta el día Jueves:\n",
            "16\n",
            "La hora ingresada es incorrecta. Asegurese de que se encuentre dentro del siguente listado:\n",
            "11 horas\n",
            "12 horas\n",
            "13 horas\n",
            "14 horas\n",
            "15 horas\n",
            "\n",
            "Por favor, ingrese la hora (solo el número) a la que desee su consulta el día Jueves:\n",
            "11\n",
            "\n",
            "Su turno ha sido reservado para el día jueves a las 11 horas.\n",
            "\n",
            "Muchas gracias por confiar en consultorio Leperini \n"
          ]
        }
      ]
    },
    {
      "cell_type": "code",
      "source": [
        "tup = (1,2,3,4,5)"
      ],
      "metadata": {
        "id": "X-C0BHxdZrtI"
      },
      "execution_count": null,
      "outputs": []
    },
    {
      "cell_type": "code",
      "source": [
        "tup"
      ],
      "metadata": {
        "colab": {
          "base_uri": "https://localhost:8080/"
        },
        "id": "E0sEuDanaDzs",
        "outputId": "fab10728-b3c3-49bb-f213-44c0f1fc3f2e"
      },
      "execution_count": null,
      "outputs": [
        {
          "output_type": "execute_result",
          "data": {
            "text/plain": [
              "(1, 2, 3, 4, 5)"
            ]
          },
          "metadata": {},
          "execution_count": 98
        }
      ]
    },
    {
      "cell_type": "code",
      "source": [
        "print(f'Hola, este es un programa que le ayudará a calcular el área de su rectángulo:')\n",
        "base = int(input(f'Ingrese la base de su rectángulo en cm:'))\n",
        "altura = int(input(f'Ingrese la altura de su rectángulo cm:'))\n",
        "print(f'El área de su rectángulo es: {base*altura} cm2')"
      ],
      "metadata": {
        "colab": {
          "base_uri": "https://localhost:8080/"
        },
        "id": "0CWsS4e2bPNL",
        "outputId": "3896139f-f621-49d6-fee1-dab19e3b6d10"
      },
      "execution_count": null,
      "outputs": [
        {
          "output_type": "stream",
          "name": "stdout",
          "text": [
            "Hola, este es un programa que le ayudará a calcular el área de su rectángulo:\n",
            "Ingrese la base de su rectángulo en cm:2\n",
            "Ingrese la altura de su rectángulo cm:3\n",
            "El área de su rectángulo es: 6 cm2\n"
          ]
        }
      ]
    },
    {
      "cell_type": "code",
      "source": [
        "import numpy as np\n",
        "\n",
        "a=np.array([1,2,3,5,9])\n",
        "\n",
        "b=np.array([22,3,4,0,9])\n",
        "\n",
        "c=a+b\n",
        "\n",
        "c=c*a\n",
        "\n",
        "print(c[2])"
      ],
      "metadata": {
        "id": "3X_VDV_ICgF3",
        "outputId": "abbd1aaa-addf-4220-bc02-fbafa68604ef",
        "colab": {
          "base_uri": "https://localhost:8080/"
        }
      },
      "execution_count": null,
      "outputs": [
        {
          "output_type": "stream",
          "name": "stdout",
          "text": [
            "21\n"
          ]
        }
      ]
    },
    {
      "cell_type": "code",
      "source": [
        "year = 2000\n",
        "leap = False\n",
        "if (year%4) == 0:\n",
        "    if (year%100) == 0:\n",
        "        if (year//400) == 0 :\n",
        "            leap = True\n",
        "print(leap)  "
      ],
      "metadata": {
        "colab": {
          "base_uri": "https://localhost:8080/"
        },
        "id": "JRZxuU-0XWFA",
        "outputId": "0b69cd2b-8583-44d0-a81c-33f270cd8366"
      },
      "execution_count": null,
      "outputs": [
        {
          "output_type": "stream",
          "name": "stdout",
          "text": [
            "False\n"
          ]
        }
      ]
    },
    {
      "cell_type": "code",
      "source": [
        "numbers = [1,2,3,4,5]\n",
        "print(*numbers,sep=\"\")\n"
      ],
      "metadata": {
        "colab": {
          "base_uri": "https://localhost:8080/"
        },
        "id": "EX4ZWEcRdFJj",
        "outputId": "20d4f389-3570-448b-e888-2b2acaa409af"
      },
      "execution_count": null,
      "outputs": [
        {
          "output_type": "stream",
          "name": "stdout",
          "text": [
            "12345\n"
          ]
        }
      ]
    },
    {
      "cell_type": "code",
      "source": [
        "class Team:\n",
        "  def __init__(self,roster,name):\n",
        "    self.roster = roster\n",
        "    self.name = name\n",
        "  \n",
        "  def welcome(self):\n",
        "    print(f\"Welcome {self.name} to the tournament.\")\n",
        "\n",
        "ncb = Team(15,\"ninocantor\")\n",
        "ncb.welcome()"
      ],
      "metadata": {
        "id": "VXHwkixqdFNa",
        "colab": {
          "base_uri": "https://localhost:8080/"
        },
        "outputId": "e915bf50-9862-4728-f866-06036a37c306"
      },
      "execution_count": null,
      "outputs": [
        {
          "output_type": "stream",
          "name": "stdout",
          "text": [
            "Welcome ninocantor to the tournament.\n"
          ]
        }
      ]
    },
    {
      "cell_type": "code",
      "source": [
        "class House:\n",
        "  def __init__(self,door,window,city):\n",
        "    self.door = door\n",
        "    self.window = window\n",
        "    self.city = city\n",
        "\n",
        "  def welcome(self):\n",
        "    print(f'Welcome to your new house in {self.city} city.')\n",
        "\n",
        "myhouse = House(\"brown\",\"glass\",\"Rosario\")\n",
        "myhouse.welcome()\n",
        "print(myhouse.door)\n",
        "print(myhouse.window)"
      ],
      "metadata": {
        "colab": {
          "base_uri": "https://localhost:8080/"
        },
        "id": "Q0t_3s2y7U11",
        "outputId": "cc7b60e5-2d00-437f-f302-86ac6c06b377"
      },
      "execution_count": null,
      "outputs": [
        {
          "output_type": "stream",
          "name": "stdout",
          "text": [
            "Welcome to your new house in Rosario city.\n",
            "brown\n",
            "glass\n"
          ]
        }
      ]
    },
    {
      "cell_type": "code",
      "source": [
        "class Dog :\n",
        "  def __init__(self,name,age,race):\n",
        "    self.name = name\n",
        "    self.age = age\n",
        "    self.race = race\n",
        "  \n",
        "  def sayHi(self):\n",
        "    print(f'Hi {self.name}, are you a {self.age} years old {self.race}?')\n",
        "\n",
        "ema = Dog(\"ema\",3,\"yorkshire\")\n",
        "print(ema.name)\n",
        "print(ema.age)\n",
        "print(ema.race)\n",
        "ema.sayHi()"
      ],
      "metadata": {
        "colab": {
          "base_uri": "https://localhost:8080/"
        },
        "id": "YnBnm_YL7es9",
        "outputId": "a6a457a6-e0ad-418a-f1b9-359814a47532"
      },
      "execution_count": null,
      "outputs": [
        {
          "output_type": "stream",
          "name": "stdout",
          "text": [
            "ema\n",
            "3\n",
            "yorkshire\n",
            "Hi ema, are you a 3 years old yorkshire?\n"
          ]
        }
      ]
    },
    {
      "cell_type": "code",
      "source": [
        "class Vector2D:\n",
        "  def __init__(self,x,y):\n",
        "    self.x = x\n",
        "    self.y = y\n",
        "\n",
        "  def __add__(self,other):\n",
        "    return Vector2D(self.x + other.x, self.y + other.y)\n",
        "\n",
        "first = Vector2D (5,7)\n",
        "second = Vector2D (3,9)\n",
        "result = first + second\n",
        "\n",
        "print(result.x)\n",
        "print(result.y)"
      ],
      "metadata": {
        "colab": {
          "base_uri": "https://localhost:8080/"
        },
        "id": "qdHnrjhxHX5z",
        "outputId": "fec8b1f6-b534-41e1-d8a5-2797c0ba0416"
      },
      "execution_count": null,
      "outputs": [
        {
          "output_type": "stream",
          "name": "stdout",
          "text": [
            "8\n",
            "16\n"
          ]
        }
      ]
    },
    {
      "cell_type": "code",
      "source": [
        "class Person:\n",
        "  def __init__(self, age):\n",
        "    self.age = int(age)\n",
        "\n",
        "  @property\n",
        "  def isAdult(self):\n",
        "    if self.age > 18:\n",
        "      return True\n",
        "    else:\n",
        "      return False"
      ],
      "metadata": {
        "id": "dcWjZP8nOF4I"
      },
      "execution_count": null,
      "outputs": []
    },
    {
      "cell_type": "code",
      "source": [
        "n = int(input())\n",
        "arr = map(int, input().split())\n"
      ],
      "metadata": {
        "colab": {
          "base_uri": "https://localhost:8080/"
        },
        "id": "vc3ylPkKkWNC",
        "outputId": "ca86999d-fb5e-4856-f113-96795788edba"
      },
      "execution_count": null,
      "outputs": [
        {
          "output_type": "stream",
          "name": "stdout",
          "text": [
            "2\n",
            "3\n",
            "3\n"
          ]
        }
      ]
    }
  ]
}