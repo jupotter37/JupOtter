{
 "cells": [
  {
   "cell_type": "markdown",
   "metadata": {},
   "source": [
    "# Practicumopdrachten Week 3.2 (Datastructuren)"
   ]
  },
  {
   "cell_type": "markdown",
   "metadata": {},
   "source": [
    "## Opdracht\n",
    "https://www.geeksforgeeks.org/python-data-structures/\n",
    "1. Bestudeer de link hierboven om bekend te raken met de datastructuren van Python\n",
    "2. Kies ten minste drie van de datastructuren van python uit\n",
    "3. Zoek online op per datastructuur die je gekozen hebt hoe deze wordt gebruikt in een bekend algoritme en onderzoek (zoek op) daarvan de complexiteit (big oh). Zorg ervoor dat je de big oh kunt onderbouwen.\n",
    "4. Schrijf een Python programma waarin je de datastructuren gebruikt om data in op te slaan en weer op te halen. Hiervoor mag je een bekend algoritme gebruiken, maar dat hoeft niet.\n",
    "5. Schrijf je bevindingen op in je portfolio. Onderbouw de big oh.\n",
    "\n",
    "Gebruik geen chatgpt. Je mag natuurlijk wel je docent vragen stellen ;)"
   ]
  },
  {
   "cell_type": "markdown",
   "metadata": {},
   "source": [
    "### Sorteer algoritmes en imports"
   ]
  },
  {
   "cell_type": "code",
   "execution_count": 1,
   "metadata": {},
   "outputs": [
    {
     "name": "stderr",
     "output_type": "stream",
     "text": [
      "C:\\Users\\Anthony Delgado\\AppData\\Local\\Temp\\ipykernel_3200\\885716671.py:4: DeprecationWarning: \n",
      "Pyarrow will become a required dependency of pandas in the next major release of pandas (pandas 3.0),\n",
      "(to allow more performant data types, such as the Arrow string type, and better interoperability with other libraries)\n",
      "but was not found to be installed on your system.\n",
      "If this would cause problems for you,\n",
      "please provide us feedback at https://github.com/pandas-dev/pandas/issues/54466\n",
      "        \n",
      "  import pandas as pd\n"
     ]
    }
   ],
   "source": [
    "import warnings\n",
    "import numpy as np\n",
    "import sqlite3\n",
    "import pandas as pd\n",
    "import math\n",
    "import random\n",
    "import pprint\n",
    "from collections import deque\n",
    "warnings.simplefilter('ignore')"
   ]
  },
  {
   "cell_type": "code",
   "execution_count": 2,
   "metadata": {},
   "outputs": [],
   "source": [
    "def shellSort(array):\n",
    "    n = len(array)\n",
    "    k = int(math.log2(n))\n",
    "    interval = 2**k -1\n",
    "    while interval > 0:\n",
    "        for i in range(interval, n):\n",
    "            temp = array[i]\n",
    "            j = i\n",
    "            while j >= interval and array[j - interval] > temp:\n",
    "                array[j] = array[j - interval]\n",
    "                j -= interval\n",
    "            array[j] = temp\n",
    "        k -= 1\n",
    "        interval = 2**k -1\n",
    "    return array"
   ]
  },
  {
   "cell_type": "markdown",
   "metadata": {},
   "source": [
    "### Big O notation\n",
    "\n",
    "![Big O Notation](../Assets/Week%203/Big_O_Notation.png)"
   ]
  },
  {
   "cell_type": "markdown",
   "metadata": {},
   "source": [
    "### Datastructuren\n",
    "\n",
    "1. Linked List"
   ]
  },
  {
   "cell_type": "markdown",
   "metadata": {},
   "source": [
    "#### Linked List\n",
    "\n",
    "Een linked list is een linear datastructuur dat een verzameling van zogenaamde \"nodes\" is, waarbij elke node wijst naar de locatie van de volgende node. Linked Lists worden onder andere gebruikt om stacks en queues te implementeren. \n",
    "\n",
    "Een bekend algoritme dat gebruik maakt van linked lists is het sorterings algoritme Quicksort. "
   ]
  },
  {
   "cell_type": "markdown",
   "metadata": {},
   "source": [
    "##### Gebruiksituaties\n",
    "1. Playlists in muziekspelers: Je kan een liedje van het begin of einde van de lijst afspelen, waarna de volgende start.\n",
    "2. Foto's in een computergallerij: de volgende en vorige foto's zijn te zien.\n",
    "3. \"Vorige pagina\" in een browser; je kan wisselen tussen de URLs met de \"volgende\" en \"vorige\" knoppen."
   ]
  },
  {
   "cell_type": "markdown",
   "metadata": {},
   "source": [
    "##### Big O\n",
    "Vergeleken met een array is een linked list niet een grote, vaste collectie in het geheugen van een computer. Wanneer je een element in een linked list wilt opzoeken moet je de hele lijst aflopen. Als je een element aan het einde van de lijst zou willen toevoegen is de snelheid daarvan proportioneel tot de grootte van de linked lijst, wat resulteert in en Big O notatie van O(n). Deze redenering volgende is het toevoegen van een element aan het begin van de lijst nog sneller; je hoeft immer niet de volledige lijst af te lopen. Omdat deze operatie niet afhankelijk is van de grootte van de lijst heeft *alleen* deze operatie een Big O notatie van O(1)."
   ]
  },
  {
   "cell_type": "markdown",
   "metadata": {},
   "source": [
    "##### Voor- en Nadelen\n",
    "\n",
    "Voordelen : \n",
    "1. Toevoegen en verwijderen van elementen is snel een envoudig\n",
    "2. Vanwege de kettingstructuur van een Linked List is er geen vooraf gestelde of initiele grootte nodig voor de lijst. \n",
    "\n",
    "Nadelen : \n",
    "1. Vergeleken met een Array is er meer geheugen nodig omdat elk element een pointer naar de volgende heeft. \n",
    "2. Zoekoperaties op een Linked List zijn traag omdat je geen toegang hebt tot random access. "
   ]
  },
  {
   "cell_type": "markdown",
   "metadata": {},
   "source": [
    "##### Bronnen\n",
    "1. McKenzie. (2021, December 7). Arrays, linked lists, and big o notation - McKenzie - medium. Medium. https://medium.com/@mckenziefiege/arrays-linked-lists-and-big-o-notation-486727b6259b \n",
    "2. GfG. (2023, December 6). Python Linked List. GeeksforGeeks. https://www.geeksforgeeks.org/python-linked-list/\n",
    "3. Wilkinson, P. (2022, September 30). An introduction to Python linked list and how to create one. Built In. https://builtin.com/data-science/python-linked-list\n",
    "4. Mastering Linked Lists: 11 Algorithms for Efficient Data Manipulation. (2023, June 13). Armin Norouzi. https://arminnorouzi.github.io/posts/2023/06/blog-post-3/\n",
    "5. Majeed, A. (2023, July 29). Data Structure and Algorithms — Linked List - Ahsan Majeed - Medium. Medium. https://medium.com/@ahsan.majeed086/data-structure-and-algorithms-linked-list-bdea21f38e70"
   ]
  },
  {
   "cell_type": "markdown",
   "metadata": {},
   "source": [
    "##### Programma\n",
    "\n",
    "Hieronder is een implementatie van een Singly Linked Lists (Lijst is maar vanaf 1 kant te navigeren)"
   ]
  },
  {
   "cell_type": "code",
   "execution_count": 12,
   "metadata": {},
   "outputs": [
    {
     "name": "stdout",
     "output_type": "stream",
     "text": [
      "Array : [791, 88, 433, 9, 191, 485, 41, 767, 275, 268, 675, 363, 352, 879, 954, 804, 962, 900, 855, 942, 966, 237, 677, 253, 910, 158, 336, 564, 735, 230, 45, 862, 104, 610, 188, 744, 117, 267, 209, 626, 590, 813, 219, 494, 119, 989, 701, 358, 616, 220, 593, 757, 315, 693, 4, 888, 938, 40, 679, 951, 608, 860, 214, 459, 759, 351, 930, 96, 194, 505, 77, 417, 818, 581, 906, 324, 543, 991, 546, 299, 264, 18, 724, 822, 660, 174, 116, 319, 574, 36, 13, 388, 974, 393, 731, 245]\n",
      "Waarde 445 is niet gevonden.\n",
      "\n",
      "245 -> 731 -> 393 -> 974 -> 388 -> 13 -> 36 -> 574 -> 319 -> 116 -> 174 -> 660 -> 822 -> 724 -> 18 -> 264 -> 299 -> 546 -> 991 -> 543 -> 324 -> 906 -> 581 -> 818 -> 417 -> 77 -> 505 -> 194 -> 96 -> 930 -> 351 -> 759 -> 459 -> 214 -> 860 -> 608 -> 951 -> 679 -> 40 -> 938 -> 888 -> 4 -> 693 -> 315 -> 757 -> 593 -> 220 -> 616 -> 358 -> 701 -> 989 -> 119 -> 494 -> 219 -> 813 -> 590 -> 626 -> 209 -> 267 -> 117 -> 744 -> 188 -> 610 -> 104 -> 862 -> 45 -> 230 -> 735 -> 564 -> 336 -> 158 -> 910 -> 253 -> 677 -> 237 -> 966 -> 942 -> 855 -> 900 -> 962 -> 804 -> 954 -> 879 -> 352 -> 363 -> 675 -> 268 -> 275 -> 767 -> 41 -> 485 -> 191 -> 9 -> 433 -> 88 -> 791 -> None\n"
     ]
    }
   ],
   "source": [
    "class Node:    \n",
    "    def __init__(self,value):        \n",
    "        self.value = value        \n",
    "        self.next = None\n",
    "                \n",
    "    def get_data(self) :\n",
    "        return self.value\n",
    "\n",
    "    def set_data(self, value): \n",
    "        self.value = value\n",
    "    \n",
    "    def get_next(self):\n",
    "        return self.next\n",
    "    def set_next(self, next):\n",
    "        self.next = next\n",
    "        \n",
    "        \n",
    "class LinkedList:\n",
    "    def __init__(self):\n",
    "        self.head = None\n",
    "        \n",
    "    def push(self, new_key):\n",
    "        new_node = Node(new_key)\n",
    "        new_node.next = self.head\n",
    "        self.head = new_node\n",
    "        \n",
    "    def search(self, key):\n",
    "        temp = self.head\n",
    "        tempArr = []\n",
    "        while (temp):\n",
    "            tempArr.append(temp.value)\n",
    "            temp = temp.next\n",
    "        if key in tempArr:\n",
    "            return True\n",
    "        else: \n",
    "            return False\n",
    "        \n",
    "    def print_list(self):\n",
    "        current = self.head\n",
    "        if self.head is not None:\n",
    "            while current is not None:\n",
    "                print(current.get_data(), end =\" -> \")\n",
    "                current = current.next\n",
    "            print(\"None\")\n",
    "            \n",
    "        \n",
    "randomIntArray = []\n",
    "linkedListArray = LinkedList()\n",
    "for i in range(100):\n",
    "    r=random.randint(1,1000)\n",
    "    if r not in randomIntArray:\n",
    "        randomIntArray.append(r)\n",
    "    \n",
    "print(f\"Array : {randomIntArray}\")\n",
    "        \n",
    "for i in randomIntArray:\n",
    "    linkedListArray.push(i)\n",
    "    \n",
    "searchValue = 445\n",
    "if linkedListArray.search(searchValue):\n",
    "    print(f\"Waarde {searchValue} gevonden.\")\n",
    "else :\n",
    "    print(f\"Waarde {searchValue} is niet gevonden.\")    \n",
    "    \n",
    "print()\n",
    "linkedListArray.print_list()"
   ]
  },
  {
   "cell_type": "markdown",
   "metadata": {},
   "source": [
    "#### Binary Tree\n",
    "\n",
    "![Binary Tree](../Assets/Week%203/Binary_tree_v2.svg.png)\n",
    "\n",
    "\n",
    "Het bovenste element van de boom is de \"root\". Elementen zonder child-nodes of die onderaan de boom staan zijn \"leafnodes\". Nodes dat boven een andere node staan zijn \"Parent nodes\", en nodes die ergens onder staan zijn \"Child nodes\" Een Binary Tree Node bestaat uit de volgende componenten : \n",
    "\n",
    "1. Data (Informatie dat daadwerkelijk in de Node wordt opgeslagen)\n",
    "2. Pointer naar linker Child node\n",
    "3. Pointer naar rechter Child node \n",
    "\n",
    "Bij het beschrijven van de inhoud van een Binary Tree zijn de termen Size(grootte) en Depth(diepte) belangrijk. Size slaat op het aantal Nodes in de Tree. Depth is hoeveel lagen er zijn in de hierarchie. Om het plaatje hierboven als een voorbeeld te nemen: Er zijn 15 elementen, dus het heeft een Size voor 15. Er zijn 3 lagen, dus het heeft een Depth van 3. \n",
    "\n",
    "Bij het opstellen van een Binary Tree is het belangrijk om te onthouden dat de parent een grotere waarde moet hebben dan de linker child node maar groter dan de rechter child node. Dus :   Child1 (waarde 2) < Parent (waarde 4) < Child2 (waarde 6)\n",
    "\n",
    "\n",
    "\n",
    "Bekende algoritmes dat gebruik maken van Binary Tree zijn Breadth First Search, Depth First Search en Tree Sort. \n",
    "\n",
    "Er zijn ook verschillen tussen gebalanceerde en ongebalanceerde binary trees. In de afbeelding hierboven is elk directe child node het dichtsbijbzijnde lagere of hogere waarde; dat is een voorbeeld van een *gebalanceerde* binary tree. Hieronder is een voorbeeld van een ongebalanceerde binary tree.\n",
    "\n",
    "![Unbalanced Binary Tree](../Assets/Week%203/Unbalanced_Binary_Tree.jpg)\n",
    "\n",
    "Zoals te zien zijn alle waardes rechts van de root wel een hogere waarde, maar directe child nodes zijn niet de dichtsbijzijnde waardes. Omdat dit ongebalanceerd is duren operaties op een dergelijke tree langer."
   ]
  },
  {
   "cell_type": "markdown",
   "metadata": {},
   "source": [
    "##### Gebruiksituaties\n",
    "\n",
    "Binary wordt gebruikt voor verschillende doeleinden, waaronder : Zoek algoritmes, sorteer algoritmes, database systemen, bestandsystemen, compressie algoritmes, beslissingsbomen en (specifiek) Game AI. \n",
    "\n",
    "Binary Trees worden ook gebruikt om Binary Search mogelijk te maken. Van Binary Search is de Big O notatie O(n). "
   ]
  },
  {
   "cell_type": "markdown",
   "metadata": {},
   "source": [
    "##### Big O\n",
    "\n",
    "Voor Binary Trees duren operaties gemiddeld O(log *n*). In het slechtste geval duurt het O(*n*). Binary Tree is dus een efficient data structuur. \n",
    "\n",
    "In het geval van een Binary Search Tree (hiervoor moet elke waarde links van de root kleiner zijn dan de root, en groter aan de rechterkant van de root) is de Big O notatie O(log *n*). Deze notatie wordt behaald door op elk level van de boom de ruimte(Nodes) dat doorzocht moet worden te halveren door de waarde van de huidige node te vergelijken met de root node. Stel dat de boom van een gebalanceerde Binary Search Tree er als volgt uitziet:\n",
    "\n",
    "            50\n",
    "           /  \\\n",
    "          30   60\n",
    "         / \\\n",
    "        20 40\n",
    "\n",
    "En de target waarde 40 is. Bij waarde 30 wordt alleen gekeken naar de rechter node, omdat grotere waardes aan de rechterkant moeten liggen. Bij elke stap wordt er dus naar steeds minder ruimte/paden gekeken."
   ]
  },
  {
   "cell_type": "markdown",
   "metadata": {},
   "source": [
    "##### Voor- en Nadelen\n",
    "\n",
    "Voordelen\n",
    "1. Efficient elementen opzoeken\n",
    "2. Geheugen-efficient\n",
    "3. Snelle toevoegingen en verwijdering van data\n",
    "4. Simpel te implementeren\n",
    "5. Handig voor sorteren\n",
    "\n",
    "Nadelen\n",
    "1. Traag in worst-case scenarios\n",
    "2. Structuur van Tree limiteert toepassingen\n",
    "3. Inefficiente zoekoperaties door ongebalanceerde Tree"
   ]
  },
  {
   "cell_type": "markdown",
   "metadata": {},
   "source": [
    "##### Bronnen\n",
    "1. GfG. (2024, February 22). Binary Tree Data structure. GeeksforGeeks. https://www.geeksforgeeks.org/binary-tree-data-structure/\n",
    "2. Do binary trees serve a specific purpose in storing hierarchical data? What is their canonical use? (n.d.). Software Engineering Stack Exchange. https://softwareengineering.stackexchange.com/questions/288231/do-binary-trees-serve-a-specific-purpose-in-storing-hierarchical-data-what-is-t\n",
    "3. GfG. (2023, April 5). Sorted array to balanced BST. GeeksforGeeks. https://www.geeksforgeeks.org/sorted-array-to-balanced-bst/"
   ]
  },
  {
   "cell_type": "markdown",
   "metadata": {},
   "source": [
    "##### Programma"
   ]
  },
  {
   "cell_type": "code",
   "execution_count": 4,
   "metadata": {},
   "outputs": [
    {
     "name": "stdout",
     "output_type": "stream",
     "text": [
      "Initial array : [9 9 0 8 9 5 5 9 4 6 0 3 4 6 2 9 8 4 7 5]\n",
      "\n",
      "Sorted array : [0 0 2 3 4 4 4 5 5 5 6 6 7 8 8 9 9 9 9 9]\n",
      "Sorted array : [0 0 2 3 4 4 4 5 5 5]\n",
      "Sorted array : [0 0 2 3 4]\n",
      "Sorted array : [3 4]\n",
      "Sorted array : [3]\n",
      "Sorted array : [4 5 5 5]\n",
      "Sorted array : [4 5]\n",
      "Sorted array : [4]\n",
      "Sorted array : [5]\n",
      "Sorted array : [6 7 8 8 9 9 9 9 9]\n",
      "Sorted array : [6 7 8 8]\n",
      "Sorted array : [6 7]\n",
      "Sorted array : [6]\n",
      "Sorted array : [8]\n",
      "Sorted array : [9 9 9 9]\n",
      "Sorted array : [9 9]\n",
      "Sorted array : [9]\n",
      "Sorted array : [9]\n",
      "\n",
      "waarde   6  gevonden.\n",
      "\n"
     ]
    }
   ],
   "source": [
    "class binaryNode:\n",
    "    def __init__(self,key):\n",
    "        self.left = None\n",
    "        self.right = None\n",
    "        self.val = key\n",
    "        \n",
    "        \n",
    "# deze functie maakt gebruik van recursiviteit om te sorteren. \n",
    "def binaryTreeSortConvert(array) : \n",
    "    \n",
    "    if not array.any(): \n",
    "        return None\n",
    "    \n",
    "    sortedArray = shellSort(array)\n",
    "    print (f\"Sorted array : {sortedArray}\")\n",
    "    \n",
    "    \n",
    "    #take length, divide by 2(rounded down)\n",
    "    midPoint = (len(sortedArray))//2\n",
    "    #rootNode moet het middelste getal in een array zijn. Zie uitleg in markdown hierboven.\n",
    "    rootNode = binaryNode(sortedArray[midPoint])\n",
    "    # de [:midpoint] zorgt ervoor dat alleen waardes voor deze waarde uit het array worden gepakt.\n",
    "    rootNode.left = binaryTreeSortConvert(sortedArray[:midPoint])\n",
    "    # de [midpoint+1:] zorgt ervoor dat alleen waardes na deze waarde uit het array worden gepakt.\n",
    "    rootNode.right = binaryTreeSortConvert(sortedArray[midPoint+1:])\n",
    "    \n",
    "    #geeft array terug als een binaryNode object met genestte objecten.\n",
    "    return rootNode\n",
    "\n",
    "def binarySearch(rootNode, keyValue):\n",
    "    \n",
    "    #als rootNode waarde gelijk is aan keyValue is het gewenste nummer gevonden\n",
    "    if rootNode is None or rootNode.val == keyValue:\n",
    "        return rootNode\n",
    "    \n",
    "    #node.val is kleiner dan keyValue, kijk in rechter Child node voor waarde groter dan Node.val\n",
    "    if rootNode.value < keyValue:\n",
    "        return binarySearch(rootNode.right, keyValue)\n",
    "    \n",
    "    #node.val is groter dan keyValue, kijk in linker Child node voor waarde kleiner dan Node.val\n",
    "    if rootNode.value > keyValue(rootNode.left, keyValue):\n",
    "        return binarySearch(rootNode.left, keyValue)\n",
    "    \n",
    "\n",
    "binaryArray = np.array([9, 9, 0, 8, 9, 5, 5, 9, 4, 6, 0, 3, 4, 6, 2, 9, 8, 4, 7, 5])\n",
    "print(f\"Initial array : {binaryArray}\")\n",
    "print()\n",
    "binaryNodeRoot = binaryTreeSortConvert(binaryArray)\n",
    "print()\n",
    "#zoek voor waarde 6\n",
    "print(f\"waarde   {binarySearch(binaryNodeRoot, 6).val}  gevonden.\") \n",
    "print()\n",
    "\n",
    "\n",
    "### DIT WERKT NOG NIET\n",
    "#zoek voor niet bestaande waarde 1\n",
    "# if binarySearch(binaryNodeRoot, 1) is None:\n",
    "#     print(\"Gewenste waarde niet gevonden.\")\n",
    "                \n",
    "            "
   ]
  },
  {
   "cell_type": "markdown",
   "metadata": {},
   "source": [
    "#### Graphs\n",
    "\n",
    "![Undirected Graph](../Assets/Week%203/undirectedgraph.png)\n",
    "\n",
    "\n",
    "Graphs zijn non-lineaire datastructuren opgebouwd uit Nodes(vertices/vertex) en Edges(lines/arcs), vaak gedefinieerd op de volgende manier: G={N,E}. De twee meest voorkomende soorten graphs zijn Directen en Undirected graphs. Het verschil tussen de twee is dat bij Directed Graphs de Edges een directie hebben dat een specifiek pad van Node A naar Node B aanduidt. In de afbeelding hierboven is een Undirected Graph afgebeeld. "
   ]
  },
  {
   "cell_type": "markdown",
   "metadata": {},
   "source": [
    "##### Gebruiksituaties\n",
    "\n",
    "Graphs worden veelal gebruikt om problemen in de echte wereld te modelleren, zoals sociale, transportatie en communicatie netwerken. \n",
    "\n",
    "Een bekend algoritme dat gebruikt maakt van Graphs is het Dijkstra Algoritme. Dit algoritme berekent het kortste pad tussen twee Nodes in een Graph te berekenen.\n",
    "Andere algoritmes zijn Breadth First Search (BFS) en Depth First Search (DFS). De eerste doorzoekt een graph door elke laag af te lopen, en de tweede doorzoekt een graph om telkens een route tot de uiterste tak te belopen."
   ]
  },
  {
   "cell_type": "markdown",
   "metadata": {},
   "source": [
    "##### Big O\n",
    "\n",
    "De Big O notatie voor de tijdscomplexiteit van een Graph is O(1). Dit is constant omdat er in een Adjecancy matrix alleen een kolom en een rij gevonden hoeven te worden. De Big O notatie voor de ruimte van een graph is echter O(V^2), waarbij V het aantal Edges is. Omdat een matrix uit rijen en kolommen bestaat heb je bij bijvoorbeeld 5 rijen * 5 kolommen = 25 elementen nodig. Naarmate dit in grootte toeneemt eist dit steeds meer geheugen op. \n",
    "\n",
    "In het geval dat er gebruik gemaakt wordt van een Adjacency List zijn de Big O notatie van de tijdscomplexiteit O(V) en voor de ruimte O(V + E), waarbij V voor Vertices(Nodes) staat en E voor Edges(relaties). \n",
    "\n",
    "\n",
    "Voor de Breadth First Search algoritme is de Big O notatie van de tijdscomplexiteit O(V+E), waarbij V staat voor Vertex en E voor Edge. Het algoritme bezoekt *elke* Vertex op het niveau voordat het naar het volgende level gaat. In het slechtste geval moet het algoritme dus *elke* Vertex en Edge in de Graph bezoeken. "
   ]
  },
  {
   "cell_type": "markdown",
   "metadata": {},
   "source": [
    "##### Voor- en Nadelen\n",
    "\n",
    "Voordelen : \n",
    "1. Effeciente verwerking van data\n",
    "2. Mogelijkheid om complexe data te modelleren\n",
    "3. Visuele representatie van data\n",
    "\n",
    "Nadelen : \n",
    "1. Gelimiteerd in representatie van data(alleen relaties van objecten kunnen weergeven worden)\n",
    "2. Geen standaardizatie\n",
    "3. Moeilijk schaalbaar"
   ]
  },
  {
   "cell_type": "markdown",
   "metadata": {},
   "source": [
    "##### Bronnen\n",
    "1. GfG. (2023, April 17). Applications, Advantages and Disadvantages of Graph. GeeksforGeeks. https://www.geeksforgeeks.org/applications-advantages-and-disadvantages-of-graph/\n",
    "2. Graph Representation - javatpoint. (n.d.). www.javatpoint.com. https://www.javatpoint.com/graph-representation\n",
    "3. Applications of the 20 most popular graph algorithms. (n.d.). https://memgraph.com/blog/graph-algorithms-applications\n",
    "4. Shortest Path with Dijkstra’s Algorithm. (n.d.). https://bradfieldcs.com/algos/graphs/dijkstras-algorithm/\n",
    "5. Bhatele, S. (2023, April 21). Graph Implementation in Python - Experience Stack. Medium. https://experiencestack.co/graph-implementation-in-python-916fc3b6a8a \n",
    "6. Dijkstra’s algorithm. (n.d.). https://www.programiz.com/dsa/dijkstra-algorithm\n",
    "8. Breadth-First search in Python - Javatpoint. (n.d.). www.javatpoint.com. https://www.javatpoint.com/breadth-first-search-in-python\n",
    "9. Ahmed, A. (2023, February 13). Pretty Print Dictionary in Python: pprint & json (with examples). FavTutor. https://favtutor.com/blogs/pretty-print-dictionary-python\n"
   ]
  },
  {
   "cell_type": "markdown",
   "metadata": {},
   "source": [
    "##### Programma"
   ]
  },
  {
   "cell_type": "markdown",
   "metadata": {},
   "source": [
    "Object Graph"
   ]
  },
  {
   "cell_type": "code",
   "execution_count": 5,
   "metadata": {},
   "outputs": [],
   "source": [
    "#representatie van een Node/Vertex\n",
    "class Node:\n",
    "    def __init__(self, Node_id):\n",
    "        self.id = Node_id\n",
    "        #representatie van de Edges/Lines van een Node\n",
    "        self.neighbors = []\n",
    "        self.neighbor_iter = iter(self.neighbors)\n",
    "\n",
    "    #Methode om een Edge toe te voegen als het niet al bestaat\n",
    "    def add_neighbor(self, neighbor):\n",
    "        if neighbor not in self.neighbors:\n",
    "            self.neighbors.append(neighbor)\n",
    "\n",
    "#deze methode zorgt ervoor dat je over een object van deze klasse kan loopen\n",
    "    def __iter__(self):\n",
    "        return self.neighbor_iter\n",
    "\n",
    "\n",
    "class Graph:\n",
    "    \n",
    "    def __init__(self) :\n",
    "        #nodes als dictonary opslaan zodat aantal nodes makkelijk opgehaald kan worden.\n",
    "        self.nodes = {}\n",
    "\n",
    "    #Voeg een Node object toe aan de lijst van nodes\n",
    "    #als het object nog niet in de lijst staat\n",
    "    def add_node(self, node):\n",
    "        if isinstance(node, Node) and node.id not in self.nodes:\n",
    "            self.nodes[node.id] = node\n",
    "            return True\n",
    "        else:\n",
    "            return False\n",
    "\n",
    "    #Voeg een relatie tussen 2 nodes toe\n",
    "    def add_edge(self, node1, node2):\n",
    "        if node1 in self.nodes and node2 in self.nodes:\n",
    "            self.nodes[node1].add_neighbor(node2)\n",
    "            self.nodes[node2].add_neighbor(node1)\n",
    "            return True\n",
    "        else:\n",
    "            return False\n",
    "\n",
    "\n",
    "    def get_nodes(self):\n",
    "        return self.nodes.keys()\n",
    "\n",
    "\n",
    "    def __iter__(self):\n",
    "        return iter(self.nodes.values())\n",
    "    "
   ]
  },
  {
   "cell_type": "code",
   "execution_count": 6,
   "metadata": {},
   "outputs": [],
   "source": [
    "def breadth_first_search(tree, start):\n",
    "    queue = deque([start])\n",
    "    visited = []\n",
    "\n",
    "    while queue:\n",
    "        #node is het item aan de linkerkant van queue, verwijder\n",
    "        node = queue.popleft()\n",
    "        #eerst bezochte item is node\n",
    "        visited.append(node)\n",
    "\n",
    "        #loop over elk element in tree\n",
    "        for child in tree[node]:\n",
    "            #als element nog niet in visited(afgelegde route)\n",
    "            if child not in visited and child not in queue:\n",
    "                queue.append(child)\n",
    "                \n",
    "    return visited"
   ]
  },
  {
   "cell_type": "code",
   "execution_count": 7,
   "metadata": {},
   "outputs": [
    {
     "name": "stdout",
     "output_type": "stream",
     "text": [
      "{0: <__main__.Node object at 0x000001C2D4B11B50>,\n",
      " 1: <__main__.Node object at 0x000001C2D4B77920>,\n",
      " 2: <__main__.Node object at 0x000001C2D4B75CA0>,\n",
      " 3: <__main__.Node object at 0x000001C2D4B77A70>}\n",
      "\n",
      "[1, 2]\n",
      "[0, 2, 3]\n",
      "[0, 1, 3]\n",
      "[1, 2]\n",
      "\n",
      "[3, 1, 2, 0]\n"
     ]
    }
   ],
   "source": [
    "# Create a graph with 4 vertices and 5 edges\n",
    "graph = Graph()\n",
    "for i in range(4):\n",
    "    graph.add_node(Node(i))\n",
    "graph.add_edge(0, 1)\n",
    "graph.add_edge(0, 2)\n",
    "graph.add_edge(1, 2)\n",
    "graph.add_edge(1, 3)\n",
    "graph.add_edge(2, 3)\n",
    "\n",
    "#Vorm van de graph zoals hierboven gedeclareerd\n",
    "    #    0\n",
    "    #   / \\\n",
    "    #  1---2\n",
    "    #   \\ /\n",
    "    #    3\n",
    "\n",
    "# for node in graph.nodes.values() :\n",
    "#     print(f\"{node.id} = {node.neighbors}\")\n",
    "\n",
    "pprint.pprint(graph.nodes)\n",
    "print()\n",
    "for i in graph.nodes:\n",
    "    pprint.pprint(graph.nodes[i].neighbors)\n",
    "print()\n",
    "print(breadth_first_search(graph.nodes,3))"
   ]
  }
 ],
 "metadata": {
  "kernelspec": {
   "display_name": ".venv",
   "language": "python",
   "name": "python3"
  },
  "language_info": {
   "codemirror_mode": {
    "name": "ipython",
    "version": 3
   },
   "file_extension": ".py",
   "mimetype": "text/x-python",
   "name": "python",
   "nbconvert_exporter": "python",
   "pygments_lexer": "ipython3",
   "version": "3.12.2"
  }
 },
 "nbformat": 4,
 "nbformat_minor": 2
}
