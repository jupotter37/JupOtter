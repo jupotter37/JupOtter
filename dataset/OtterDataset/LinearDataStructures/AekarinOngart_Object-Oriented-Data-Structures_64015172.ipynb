{
  "nbformat": 4,
  "nbformat_minor": 0,
  "metadata": {
    "colab": {
      "provenance": [],
      "collapsed_sections": [
        "NWSLcYoy1jua",
        "n_vBSekdITwR",
        "lV1dEBIdB58k",
        "mS-pOWl4CCFe",
        "kJVppTfPCPSV",
        "dIsFZXcKCUiu",
        "ghqplSTyCZk-",
        "IpVLDXrpHuf5",
        "31T8sUBiBYAN",
        "iSF0ckttpaC5",
        "oAgzqpuZBkkW",
        "94vtus__BvBG",
        "H8J6irMJecGl",
        "Sv0-6rdsJMRH",
        "jGUY91RcJbrw",
        "DYWRC9wBKA63",
        "teyH-1BbP7YZ",
        "Li7XsJH4AaRB",
        "OYodEgYLgII1",
        "YYEhTww4H4Ah",
        "S9QRrxtEINcB",
        "7c54ErjeE3PK",
        "QMi3aRbT_iw1",
        "vt_S89ZJDi5X",
        "AX2DSqlpGR-s",
        "D779xw8gGdBT",
        "pt65YBNhD4Ef",
        "Ds6gQ5NOG1Bc",
        "gfqd9-szrrzc",
        "uPBBjs9-CkI5",
        "Jp6kV0NZrl-c",
        "F1hLKC6mBo1x"
      ]
    },
    "kernelspec": {
      "name": "python3",
      "display_name": "Python 3"
    },
    "language_info": {
      "name": "python"
    },
    "accelerator": "TPU",
    "gpuClass": "standard"
  },
  "cells": [
    {
      "cell_type": "markdown",
      "source": [
        "# 🔰 **64015172 เอกรินทร์ องอาจ**\n"
      ],
      "metadata": {
        "id": "NWSLcYoy1jua"
      }
    },
    {
      "cell_type": "markdown",
      "source": [
        "## รวมใบงานทั้งหมดที่ส่งแล้ว : https://shorturl.at/fgkw6"
      ],
      "metadata": {
        "id": "yu0dZyb_C3f9"
      }
    },
    {
      "cell_type": "markdown",
      "source": [
        "---\n",
        "# ✅ Lab09 : Recursive"
      ],
      "metadata": {
        "id": "n_vBSekdITwR"
      }
    },
    {
      "cell_type": "markdown",
      "source": [
        "ใบงาน : https://classroom.google.com/u/1/c/NDk3MTYxNzU2NDgy/a/NTY4OTQ5MjY5Nzc4/details"
      ],
      "metadata": {
        "id": "OaWt9LWyByDV"
      }
    },
    {
      "cell_type": "markdown",
      "source": [
        "## ตอนที่ 1 : การออกแบบการทำงานและสร้างฟังก์ชันที่ทำงานแบบ Recursive"
      ],
      "metadata": {
        "id": "lV1dEBIdB58k"
      }
    },
    {
      "cell_type": "markdown",
      "source": [
        "### def isPalindrome(str): "
      ],
      "metadata": {
        "id": "mS-pOWl4CCFe"
      }
    },
    {
      "cell_type": "code",
      "source": [
        "def isPalindrome(str1):\n",
        "    if len(str1) <= 1:\n",
        "        return True\n",
        "    if str1[0] != str1[-1]:\n",
        "        return False\n",
        "    return isPalindrome(str1[1:-1])\n",
        "\n",
        "print(isPalindrome(\"abcdcba\"))\n",
        "print(isPalindrome(\"atoyota\"))\n",
        "print(isPalindrome(\"kmitl\"))\n",
        "print(isPalindrome(\"manassanan\"))\n",
        "print(isPalindrome(\"programming\"))\n",
        "print(isPalindrome(\"fundamental\"))"
      ],
      "metadata": {
        "colab": {
          "base_uri": "https://localhost:8080/"
        },
        "id": "PzlGOW5g_7l2",
        "outputId": "e18cb0b3-e821-4e74-c2ee-2f13342b5a67"
      },
      "execution_count": null,
      "outputs": [
        {
          "output_type": "stream",
          "name": "stdout",
          "text": [
            "True\n",
            "True\n",
            "False\n",
            "False\n",
            "False\n",
            "False\n"
          ]
        }
      ]
    },
    {
      "cell_type": "markdown",
      "source": [
        "### def isAscending(list_of_integer):"
      ],
      "metadata": {
        "id": "kJVppTfPCPSV"
      }
    },
    {
      "cell_type": "code",
      "source": [
        "def isAscending(list_of_integer, n):\n",
        "    if n == len(list_of_integer)-1:\n",
        "        return True\n",
        "    else:\n",
        "        if list_of_integer[n] <= list_of_integer[n+1]:\n",
        "            return isAscending(list_of_integer, n+1)\n",
        "        else:\n",
        "            return False\n",
        "\n",
        "print(isAscending([1, 2, 3, 4, 5, 6, 7], 0))\n",
        "print(isAscending([3, 4, 2, 5, 6, 1, 2], 0))\n",
        "print(isAscending([9, 8, 7, 6, 5, 4], 0))\n",
        "print(isAscending([0, 0, 1, 1, 2, 2, 3, 3, 4, 4, 5, 5], 0))\n",
        "print(isAscending([6, 7, 8, 9, 10, 11, 12], 0))\n",
        "print(isAscending([6, 3, 8, 7, 9, 2, 3, 1, 5], 0))"
      ],
      "metadata": {
        "colab": {
          "base_uri": "https://localhost:8080/"
        },
        "id": "sEkkAcVM__30",
        "outputId": "698f29e9-49ec-427b-c2ec-6d8aeb304377"
      },
      "execution_count": null,
      "outputs": [
        {
          "output_type": "stream",
          "name": "stdout",
          "text": [
            "True\n",
            "False\n",
            "False\n",
            "True\n",
            "True\n",
            "False\n"
          ]
        }
      ]
    },
    {
      "cell_type": "markdown",
      "source": [
        "### def group_of_no_1(island_list,point_no):"
      ],
      "metadata": {
        "id": "dIsFZXcKCUiu"
      }
    },
    {
      "cell_type": "code",
      "source": [
        "def group_of_no_1(island_list, point_no):\n",
        "    if point_no < 0 or point_no == len(island_list):\n",
        "        return 0\n",
        "    if island_list[point_no] == 1:\n",
        "        island_list[point_no] = 0\n",
        "        return 1 + group_of_no_1(island_list, point_no-1) + group_of_no_1(island_list, point_no+1)\n",
        "    else:\n",
        "        return 0\n",
        "\n",
        "print(group_of_no_1([1, 1, 1, 1, 0, 0, 0, 1, 1, 1, 0, 0], 1))\n",
        "print(group_of_no_1([1, 1, 1, 1, 0, 0, 0, 1, 1, 1, 0, 0], 5))\n",
        "print(group_of_no_1([1, 0, 1, 1, 1, 0, 0, 0, 1, 1, 1, 1, 1, 1], 4))\n",
        "print(group_of_no_1([1, 0, 1, 1, 1, 0, 0, 0, 1, 1, 1, 1, 1, 1], 10))\n",
        "print(group_of_no_1([1, 0, 1, 1, 1, 0, 0, 0, 1, 1, 1, 1, 1, 1], 1))\n",
        "print(group_of_no_1([0, 1, 0, 1, 0, 1, 0, 1, 0, 1], 7))"
      ],
      "metadata": {
        "colab": {
          "base_uri": "https://localhost:8080/"
        },
        "id": "ZogktNzjAEOG",
        "outputId": "ae726978-eb8a-4eaa-c0ba-cebfb2812799"
      },
      "execution_count": null,
      "outputs": [
        {
          "output_type": "stream",
          "name": "stdout",
          "text": [
            "4\n",
            "0\n",
            "3\n",
            "6\n",
            "0\n",
            "1\n"
          ]
        }
      ]
    },
    {
      "cell_type": "markdown",
      "source": [
        "### def valid_parentheses(str):"
      ],
      "metadata": {
        "id": "ghqplSTyCZk-"
      }
    },
    {
      "cell_type": "code",
      "source": [
        "def valid_parentheses(str):\n",
        "    if str == \"\":\n",
        "        return True\n",
        "    elif str.find(\"()\") != -1:\n",
        "        return valid_parentheses(str.replace(\"()\", \"\"))\n",
        "    else:\n",
        "        return False\n",
        "\n",
        "\n",
        "print(valid_parentheses(\"(()()(())())\"))\n",
        "print(valid_parentheses(\"((()()\"))\n",
        "print(valid_parentheses(\"())()()(\"))\n",
        "print(valid_parentheses(\"(((()))((())))\"))\n",
        "print(valid_parentheses(\"()()(((())))\"))\n",
        "print(valid_parentheses(\"()\"))"
      ],
      "metadata": {
        "colab": {
          "base_uri": "https://localhost:8080/"
        },
        "id": "rHEuCd2OAGdl",
        "outputId": "89a62a15-b355-44cf-9ae5-455512f4660f"
      },
      "execution_count": null,
      "outputs": [
        {
          "output_type": "stream",
          "name": "stdout",
          "text": [
            "True\n",
            "False\n",
            "False\n",
            "True\n",
            "True\n",
            "True\n"
          ]
        }
      ]
    },
    {
      "cell_type": "markdown",
      "source": [
        "---\n",
        "# ✅ Lab08 : Binary and Sequential Search"
      ],
      "metadata": {
        "id": "IpVLDXrpHuf5"
      }
    },
    {
      "cell_type": "markdown",
      "source": [
        "ใบงาน : https://classroom.google.com/u/0/c/NDk3MTYxNzU2NDgy/a/NTYwODU1MDM1OTA0/details"
      ],
      "metadata": {
        "id": "9qTenfD-IDz1"
      }
    },
    {
      "cell_type": "markdown",
      "source": [
        "## โปรแกรมตัวอย่าง"
      ],
      "metadata": {
        "id": "31T8sUBiBYAN"
      }
    },
    {
      "cell_type": "code",
      "source": [
        "import random\n",
        "comparecount = 0\n",
        "\n",
        "\n",
        "def binary_search(arr, low, high, x):\n",
        "\n",
        "    global comparecount\n",
        "    if high >= low:\n",
        "        mid = (high + low) // 2\n",
        "        if arr[mid] == x:\n",
        "            return mid\n",
        "        elif arr[mid] > x:\n",
        "            comparecount += 1\n",
        "            print(\"comparecount = \", comparecount,\n",
        "                  \"low = \", low, \"high =\", mid-1)\n",
        "            return binary_search(arr, low, mid - 1, x)\n",
        "        else:\n",
        "            comparecount += 1\n",
        "            print(\"comparecount = \", comparecount,\n",
        "                  \"low = \", mid+1, \"high =\", high)\n",
        "            return binary_search(arr, mid + 1, high, x)\n",
        "    else:\n",
        "        return -1\n",
        "\n",
        "\n",
        "def sequential_search(arr, x):\n",
        "\n",
        "    global comparecount\n",
        "    for i in arr:\n",
        "        comparecount += 1\n",
        "        if i == x:\n",
        "            return comparecount\n",
        "    return -1\n",
        "\n",
        "\n",
        "datcount = 100000\n",
        "# incase of sequential search\n",
        "arr = [random.randint(1, 10000000) for i in range(datcount)]\n",
        "# in case of binary search\n",
        "arr = sorted([random.randint(1, 10000000) for i in range(datcount)])\n",
        "# in case of succesfully search\n",
        "x = arr[random.randint(1, datcount)]\n",
        "# in case of unsuccessfully search\n",
        "x = -1\n",
        "\n",
        "# worstcase successfully search\n",
        "x = arr[-1]\n",
        "print(\"key =\", x)\n",
        "print(\"data len = \", len(arr))\n",
        "# in case of binary search\n",
        "result = binary_search(arr, 0, len(arr)-1, x)\n",
        "# incase of sequential search\n",
        "result = sequential_search(arr, x)\n",
        "print(\"compare count = \", comparecount)\n",
        "if result != -1:\n",
        "    print(\"Element is present at index\", str(result))\n",
        "else:\n",
        "    print(\"Element is not present in array\")\n"
      ],
      "metadata": {
        "colab": {
          "base_uri": "https://localhost:8080/"
        },
        "id": "NWnyT0keAbk9",
        "outputId": "edf8463f-ed66-4f4e-bd4c-8c9ba1a9151e"
      },
      "execution_count": null,
      "outputs": [
        {
          "output_type": "stream",
          "name": "stdout",
          "text": [
            "key = 9999658\n",
            "data len =  100000\n",
            "comparecount =  1 low =  50000 high = 99999\n",
            "comparecount =  2 low =  75000 high = 99999\n",
            "comparecount =  3 low =  87500 high = 99999\n",
            "comparecount =  4 low =  93750 high = 99999\n",
            "comparecount =  5 low =  96875 high = 99999\n",
            "comparecount =  6 low =  98438 high = 99999\n",
            "comparecount =  7 low =  99219 high = 99999\n",
            "comparecount =  8 low =  99610 high = 99999\n",
            "comparecount =  9 low =  99805 high = 99999\n",
            "comparecount =  10 low =  99903 high = 99999\n",
            "comparecount =  11 low =  99952 high = 99999\n",
            "comparecount =  12 low =  99976 high = 99999\n",
            "comparecount =  13 low =  99988 high = 99999\n",
            "comparecount =  14 low =  99994 high = 99999\n",
            "comparecount =  15 low =  99997 high = 99999\n",
            "comparecount =  16 low =  99999 high = 99999\n",
            "compare count =  100016\n",
            "Element is present at index 100016\n"
          ]
        }
      ]
    },
    {
      "cell_type": "markdown",
      "source": [
        "---\n",
        "# ✅ Lab07 : Sorting"
      ],
      "metadata": {
        "id": "iSF0ckttpaC5"
      }
    },
    {
      "cell_type": "markdown",
      "source": [
        "ใบงาน : https://classroom.google.com/u/0/c/NDk3MTYxNzU2NDgy/a/NTAyOTcxMjI2NTU4/details"
      ],
      "metadata": {
        "id": "HSHHteJNr4vv"
      }
    },
    {
      "cell_type": "markdown",
      "source": [
        "---\n",
        "# ✅ Lab06 : AVL Tree และ B-Tree\n"
      ],
      "metadata": {
        "id": "oAgzqpuZBkkW"
      }
    },
    {
      "cell_type": "markdown",
      "source": [
        "ใบงาน: https://drive.google.com/file/d/1nbOMzhWs0g17EWEvePdA_OOQV7707K_M/view"
      ],
      "metadata": {
        "id": "x3Ibv-nwr0Qm"
      }
    },
    {
      "cell_type": "markdown",
      "source": [
        "## Lab06 : Implementation _ Tree 2"
      ],
      "metadata": {
        "id": "94vtus__BvBG"
      }
    },
    {
      "cell_type": "code",
      "source": [
        "#ส่งแล้ว"
      ],
      "metadata": {
        "id": "Lq9rR_TLguKf"
      },
      "execution_count": null,
      "outputs": []
    },
    {
      "cell_type": "markdown",
      "source": [
        "---\n",
        "# ✅ Lab05 : Implementation _ Tree 1 "
      ],
      "metadata": {
        "id": "H8J6irMJecGl"
      }
    },
    {
      "cell_type": "markdown",
      "source": [
        "ใบงาน : https://drive.google.com/file/d/12Wq9c_W0mdfBudCY6vSz8IIrOW75l9FH/view"
      ],
      "metadata": {
        "id": "J4T3bc2urt6m"
      }
    },
    {
      "cell_type": "markdown",
      "source": [
        "##ตอนที่ 1 : สร้าง Tree"
      ],
      "metadata": {
        "id": "Sv0-6rdsJMRH"
      }
    },
    {
      "cell_type": "code",
      "source": [
        "#@title จากโค้ดตัวอย่าง ให้นักศึกษาดําเนินการดังนี้ 1. สร้าง tree จากโค้ดตัวอย่าง โดย insert ข้อมูลดังนี้ 15,3,16,9,23,11,7,5,34,19,2 2. เรียกใช้งาน PrintTree() เพื่อตรวจสอบข้อมูล\n",
        "class Node:\n",
        "    def __init__(self, data):\n",
        "        self.data = data\n",
        "        self.left = None\n",
        "        self.right = None\n",
        "    \n",
        "    def __str__(self):\n",
        "        return str(self.data)\n",
        "\n",
        "class BST:\n",
        "    def __init__(self):\n",
        "        self.root = None\n",
        "\n",
        "    def insert(self, data):\n",
        "        if self.root is None:\n",
        "            self.root = Node(data)\n",
        "        else:\n",
        "            root = self.root\n",
        "            while True:\n",
        "                if data < root.data:\n",
        "                    if root.left is None:\n",
        "                        root.left = Node(data)\n",
        "                        break\n",
        "                    root = root.left\n",
        "                else:\n",
        "                    if root.right is None:\n",
        "                        root.right = Node(data)\n",
        "                        break\n",
        "                    root = root.right\n",
        "        return self.root\n",
        "    \n",
        "    def printTree(self, node, level = 0):\n",
        "        if node != None:\n",
        "            self.printTree(node.right, level + 1)\n",
        "            print('     ' * level, node)\n",
        "            self.printTree(node.left, level + 1)\n",
        "\n",
        "T = BST()\n",
        "inp = [int(i) for i in input('Enter Input : ').split()]\n",
        "for i in inp:\n",
        "    root = T.insert(i)\n",
        "T.printTree(root)"
      ],
      "metadata": {
        "id": "NjSCBovFel2c",
        "colab": {
          "base_uri": "https://localhost:8080/"
        },
        "outputId": "732ae673-cce2-4ab5-e5c4-c6b277662dff",
        "cellView": "form"
      },
      "execution_count": null,
      "outputs": [
        {
          "output_type": "stream",
          "name": "stdout",
          "text": [
            "Enter Input : 15 3 16 9 23 11 7 5 34 19 2\n",
            "                34\n",
            "           23\n",
            "                19\n",
            "      16\n",
            " 15\n",
            "                11\n",
            "           9\n",
            "                7\n",
            "                     5\n",
            "      3\n",
            "           2\n"
          ]
        }
      ]
    },
    {
      "cell_type": "markdown",
      "source": [
        "##ตอนที่ 2 : in-order , pre-order , and post-order traverse"
      ],
      "metadata": {
        "id": "jGUY91RcJbrw"
      }
    },
    {
      "cell_type": "code",
      "source": [
        "#@title ให้นักศึกษาดําเนินการดังนี้ 1. เพิ่มเติม code ตัวอย่างในโปรแกรมของนักศึกษา ซึ่งฟังก์ชั่น inorderTraversal() จะทําการดึงข้อมูล จาก Tree แบบ in-order traversal แล้วส่งผลลัพธ์กลับในรูปแบบ list 2. เรียกใช้งานฟังก์ชั่นดังกล่าวแล้วแสดงผล list ที่ได้ 3. สร้างฟังก์ชั่น preorderTraversal() และ postorderTraversal() ที่มีการส่ง list ของผลลัพธ์ของการ ทํา pre-order traversal และ post-order traversal กลับมายังโปรแกรมหลักเช่นเดียวกับ inorderTraversal() 4. เรียกใช้งานฟังก์ชั่น preorderTraversal() และ postorderTraversal() แล้วแสดงผล list ที่ได้\n",
        "text_pre = \"Preorder : \"\n",
        "text_in = \"Inorder : \"\n",
        "text_post = \"Postorder : \"\n",
        "class Node:\n",
        "    def __init__(self, data):\n",
        "        self.data = data\n",
        "        self.left = None\n",
        "        self.right = None\n",
        "    \n",
        "    def __str__(self):\n",
        "        return str(self.data)\n",
        "class Queue:\n",
        "    def __init__(self):\n",
        "        self.items = []\n",
        "    \n",
        "    def is_empty(self):\n",
        "        return len(self.items) == 0\n",
        "    \n",
        "    def enqueue(self, data):\n",
        "        self.items.append(data)\n",
        "\n",
        "    def dequeue(self):\n",
        "        if not self.is_empty():\n",
        "            return self.items.pop(0)\n",
        "\n",
        "class BST:\n",
        "    def __init__(self):\n",
        "        self.root = None\n",
        "        self.left = None\n",
        "        self.right = None\n",
        "\n",
        "    def insert(self, data):\n",
        "        if self.root is None:\n",
        "            self.root = Node(data)\n",
        "        else:\n",
        "            T = self.root\n",
        "            while True:\n",
        "                if data < T.data:\n",
        "                    if T.left is None:\n",
        "                        T.left = Node(data)\n",
        "                        break\n",
        "                    T = T.left\n",
        "                else:\n",
        "                    if T.right is None:\n",
        "                        T.right = Node(data)\n",
        "                        break\n",
        "                    T = T.right\n",
        "        return self.root\n",
        "    \n",
        "    def printTree(self, node, level = 0):\n",
        "        global text_curr\n",
        "        if node != None:\n",
        "            self.printTree(node.right, level + 1)\n",
        "            print('     ' * level, node)\n",
        "            self.printTree(node.left, level + 1)\n",
        "def preorder(root):\n",
        "    global text_pre  \n",
        "    if root:  \n",
        "        text_pre += str(root.data) + \" \"\n",
        "        preorder(root.left)  \n",
        "        preorder(root.right)  \n",
        "def inorder(root):  \n",
        "    global text_in\n",
        "    if root:  \n",
        "        inorder(root.left)  \n",
        "        text_in += str(root.data) + \" \"\n",
        "        inorder(root.right)  \n",
        "def postorder(root):  \n",
        "    global text_post\n",
        "    if root:  \n",
        "        postorder(root.left)   \n",
        "        postorder(root.right)\n",
        "        text_post += str(root.data) + \" \"\n",
        "\n",
        "T = BST()\n",
        "inp = [int(i) for i in input('Enter Input : ').split()]\n",
        "for i in inp:\n",
        "    root = T.insert(i)\n",
        "preorder(T.root)\n",
        "print(text_pre)\n",
        "inorder(T.root)\n",
        "print(text_in)\n",
        "postorder(T.root)\n",
        "print(text_post)"
      ],
      "metadata": {
        "cellView": "form",
        "id": "16Gdgr9nGsXR",
        "colab": {
          "base_uri": "https://localhost:8080/"
        },
        "outputId": "f6905196-0779-45fb-fcf9-c203724ccb39"
      },
      "execution_count": null,
      "outputs": [
        {
          "output_type": "stream",
          "name": "stdout",
          "text": [
            "Enter Input : 15 3 16 9 23 11 7 5 34 19 2\n",
            "Preorder : 15 3 2 9 7 5 11 16 23 19 34 \n",
            "Inorder : 2 3 5 7 9 11 15 16 19 23 34 \n",
            "Postorder : 2 5 7 11 9 3 19 34 23 16 15 \n"
          ]
        }
      ]
    },
    {
      "cell_type": "markdown",
      "source": [
        "##ตอนที่ 3 : Breadth first (Level order)"
      ],
      "metadata": {
        "id": "DYWRC9wBKA63"
      }
    },
    {
      "cell_type": "code",
      "source": [
        "#@title ให้นักศึกษาดําเนินการดังนี้ 1. เพิ่มฟังก์ชั่น breadthFirst() ที่ทําการหาลําดับของข้อมูลใน Tree จาก Root ไปตามแต่ละ level จนถึง level ล่างสุด แล้วส่งผลลัพธ์กลับเป็น list 2. เรียกใช้งานฟังก์ชั่น breadthFirst() แล้วแสดงผล list ที่ได้\n",
        "text_pre = \"Preorder : \"\n",
        "text_in = \"Inorder : \"\n",
        "text_post = \"Postorder : \"\n",
        "text_pr = \"Breadth : \"\n",
        "\n",
        "class Node:\n",
        "    def __init__(self, data):\n",
        "        self.data = data\n",
        "        self.left = None\n",
        "        self.right = None\n",
        "    \n",
        "    def __str__(self):\n",
        "        return str(self.data)\n",
        "class Queue:\n",
        "    def __init__(self):\n",
        "        self.items = []\n",
        "    \n",
        "    def is_empty(self):\n",
        "        return len(self.items) == 0\n",
        "    \n",
        "    def enqueue(self, data):\n",
        "        self.items.append(data)\n",
        "\n",
        "    def dequeue(self):\n",
        "        if not self.is_empty():\n",
        "            return self.items.pop(0)\n",
        "\n",
        "class BST:\n",
        "    def __init__(self):\n",
        "        self.root = None\n",
        "        self.left = None\n",
        "        self.right = None\n",
        "\n",
        "    def insert(self, data):\n",
        "        if self.root is None:\n",
        "            self.root = Node(data)\n",
        "        else:\n",
        "            T = self.root\n",
        "            while True:\n",
        "                if data < T.data:\n",
        "                    if T.left is None:\n",
        "                        T.left = Node(data)\n",
        "                        break\n",
        "                    T = T.left\n",
        "                else:\n",
        "                    if T.right is None:\n",
        "                        T.right = Node(data)\n",
        "                        break\n",
        "                    T = T.right\n",
        "        return self.root\n",
        "    \n",
        "    def printTree(self, node, level = 0):\n",
        "        global text_curr\n",
        "        if node != None:\n",
        "            self.printTree(node.right, level + 1)\n",
        "            print('     ' * level, node)\n",
        "            self.printTree(node.left, level + 1)\n",
        "def preorder(root):\n",
        "    global text_pre  \n",
        "    if root:  \n",
        "        text_pre += str(root.data) + \" \"\n",
        "        preorder(root.left)  \n",
        "        preorder(root.right)  \n",
        "def inorder(root):  \n",
        "    global text_in\n",
        "    if root:  \n",
        "        inorder(root.left)  \n",
        "        text_in += str(root.data) + \" \"\n",
        "        inorder(root.right)  \n",
        "def postorder(root):  \n",
        "    global text_post\n",
        "    if root:  \n",
        "        postorder(root.left)   \n",
        "        postorder(root.right)\n",
        "        text_post += str(root.data) + \" \"\n",
        "def bread(root):\n",
        "    global text_pr\n",
        "    q = Queue()\n",
        "    q.enqueue(root)\n",
        "    while not q.is_empty():\n",
        "        dQ = q.dequeue()\n",
        "        text_pr += str(dQ.data) + ' '\n",
        "        if dQ.left is not None:\n",
        "            q.enqueue(dQ.left)\n",
        "        if dQ.right is not None:\n",
        "            q.enqueue(dQ.right)\n",
        "    return text_pr\n",
        "\n",
        "T = BST()\n",
        "inp = [int(i) for i in input('Enter Input : ').split()]\n",
        "for i in inp:\n",
        "    root = T.insert(i)\n",
        "preorder(T.root)\n",
        "print(text_pre)\n",
        "inorder(T.root)\n",
        "print(text_in)\n",
        "postorder(T.root)\n",
        "print(text_post)\n",
        "bread(T.root)\n",
        "print(text_pr)"
      ],
      "metadata": {
        "cellView": "form",
        "id": "A_ozU52fG64f",
        "colab": {
          "base_uri": "https://localhost:8080/"
        },
        "outputId": "02725e50-afb3-43a9-ee5c-1738c6264678"
      },
      "execution_count": null,
      "outputs": [
        {
          "output_type": "stream",
          "name": "stdout",
          "text": [
            "Enter Input : 15 3 16 9 23 11 7 5 34 19 2\n",
            "Preorder : 15 3 2 9 7 5 11 16 23 19 34 \n",
            "Inorder : 2 3 5 7 9 11 15 16 19 23 34 \n",
            "Postorder : 2 5 7 11 9 3 19 34 23 16 15 \n",
            "Breadth : 15 3 16 2 9 23 7 11 19 34 5 \n"
          ]
        }
      ]
    },
    {
      "cell_type": "markdown",
      "source": [
        "---\n",
        "# ✅ Activity : Implement linklist"
      ],
      "metadata": {
        "id": "teyH-1BbP7YZ"
      }
    },
    {
      "cell_type": "code",
      "source": [
        "#@title ให้นักศึกษาเขียนโปรแกรมสร้าง Link List แล้ว เก็บข้อมูล ABCDEF หลังจากนั้นให้ แทรกข้อมูล XYZ ระหว่าง C,D\n",
        "class Node:\n",
        "   def __init__(self, dataval=None):\n",
        "      self.dataval = dataval\n",
        "      self.nextval = None\n",
        "class SLinkedList:\n",
        "   def __init__(self):\n",
        "      self.headval = None\n",
        "\n",
        "# เพิ่มโหนด\n",
        "   def Inbetween(self,middle_node,newdata):\n",
        "      if middle_node is None:\n",
        "         print(\"ไม่มีโหนดที่เลือก\")\n",
        "         return\n",
        "\n",
        "      NewNode = Node(newdata)\n",
        "      NewNode.nextval = middle_node.nextval\n",
        "      middle_node.nextval = NewNode\n",
        "\n",
        "# แสดง linked list\n",
        "   def listprint(self):\n",
        "      printval = self.headval\n",
        "      while printval is not None:\n",
        "         print (printval.dataval)\n",
        "         printval = printval.nextval\n",
        "\n",
        "list = SLinkedList()\n",
        "list.headval = Node(\"A\")\n",
        "e2 = Node(\"B\")\n",
        "e3 = Node(\"C\")\n",
        "e4 = Node(\"D\")\n",
        "e5 = Node(\"E\")\n",
        "e6 = Node(\"F\")\n",
        "\n",
        "list.headval.nextval = e2\n",
        "e2.nextval = e3\n",
        "e3.nextval = e4\n",
        "e4.nextval = e5\n",
        "e5.nextval = e6\n",
        "\n",
        "list.Inbetween(e3,\"XYZ\")\n",
        "\n",
        "list.listprint()"
      ],
      "metadata": {
        "colab": {
          "base_uri": "https://localhost:8080/"
        },
        "id": "T_mpUeIhP8t4",
        "outputId": "8917f7f8-17b3-4cba-f0cc-db1e7ecf298e",
        "cellView": "form"
      },
      "execution_count": null,
      "outputs": [
        {
          "output_type": "stream",
          "name": "stdout",
          "text": [
            "A\n",
            "B\n",
            "C\n",
            "XYZ\n",
            "D\n",
            "E\n",
            "F\n"
          ]
        }
      ]
    },
    {
      "cell_type": "markdown",
      "source": [
        "---\n",
        "# ✅ Activity : Stack Implementation"
      ],
      "metadata": {
        "id": "Li7XsJH4AaRB"
      }
    },
    {
      "cell_type": "code",
      "source": [
        "#@title ให้นักศึกษาเขียนโปรแกรมสร้าง Stack แล้ว Push เก็บข้อมูล A B C D E F Pop ออกจน empty\n",
        "class Stack:\n",
        "  def __init__(self, list = None):\n",
        "    if list == None:\n",
        "      self.items = []\n",
        "    else:\n",
        "      self.items = list\n",
        "    self.size = len(self.items)\n",
        "\n",
        "  def __str__(self):\n",
        "    s = 'stack of '+ str(self.size())+' items : '\n",
        "    for ele in self.items:\n",
        "      s += str(ele)+' '\n",
        "    return s\n",
        "\n",
        "  def push(self, i):\n",
        "    self.items.append(i)\n",
        "    self.size += 1\n",
        "\n",
        "  def pop(self):\n",
        "    return self.items.pop()\n",
        "\n",
        "  def peek(self):\n",
        "    return self.items[ -1]\n",
        "\n",
        "  def isEmpty(self):\n",
        "    return self.items == []\n",
        "  \n",
        "  def size(self):\n",
        "    return len(self.items)\n",
        "\n",
        "s = Stack(['A', 'B', 'C', 'D', 'E', 'F'])\n",
        "\n",
        "while s.isEmpty() != True:\n",
        "  print(s.items)\n",
        "  print(s.pop())\n",
        "print(s.isEmpty())\n"
      ],
      "metadata": {
        "colab": {
          "base_uri": "https://localhost:8080/"
        },
        "id": "UiRYJ_bQAeO3",
        "outputId": "c2dd3fff-ec44-4646-98db-23f4f3964103",
        "cellView": "form"
      },
      "execution_count": null,
      "outputs": [
        {
          "output_type": "stream",
          "name": "stdout",
          "text": [
            "['A', 'B', 'C', 'D', 'E', 'F']\n",
            "F\n",
            "['A', 'B', 'C', 'D', 'E']\n",
            "E\n",
            "['A', 'B', 'C', 'D']\n",
            "D\n",
            "['A', 'B', 'C']\n",
            "C\n",
            "['A', 'B']\n",
            "B\n",
            "['A']\n",
            "A\n",
            "True\n"
          ]
        }
      ]
    },
    {
      "cell_type": "markdown",
      "source": [
        "---\n",
        "# ✅ Lab04 : Implement Data Structure (Stack,Queue,LinkList)"
      ],
      "metadata": {
        "id": "OYodEgYLgII1"
      }
    },
    {
      "cell_type": "markdown",
      "source": [
        "ใบงาน : https://drive.google.com/file/d/1-lTpmslyGZ3mT_6x-hIQVy0v9yDDl_O1/view"
      ],
      "metadata": {
        "id": "QXpMMENHrmCQ"
      }
    },
    {
      "cell_type": "markdown",
      "source": [
        "##ตอนที่ 1 : สร้าง Stack ที่ใช้งานได้2 ทิศทาง (double head stack)"
      ],
      "metadata": {
        "id": "YYEhTww4H4Ah"
      }
    },
    {
      "cell_type": "code",
      "source": [
        "#@title ให้นักศึกษาสร้าง double-head stack ดังรูปที่สามารถนําข้อมูลเข้า-ออก ได้ทั้ง 2 ทิศทาง แล้ว ทดสอบการทํางานโดย 1. นําข้อมูล A,B,C,D เข้าทางด้านซ้าย แล้วนําข้อมูลออกทางด้านซ้ายจนหมด (left push ,left pop) 2. นําข้อมูล A,B,C,D เข้าทางด้านขวา แล้วนําข้อมูลออกทางด้านขวาจนหมด (right push ,right pop) 3. นําข้อมูล A,B,C,D เข้าทางด้านซ้าย แล้วนําข้อมูลออกทางด้านขวาจนหมด (left push ,right pop) 4. นําข้อมูล A,B,C,D เข้าทางด้านขวา แล้วนําข้อมูลออกทางด้านซ้ายจนหมด (right push ,left pop) หมายเหตุ : ถ้านําข้อมูลเข้า - ออก ทางเดียวกันจะทํางานแบบ Stack แต่ถ้านําข้อมูลเข้า-ออก คนละทางจะ กลายเป็น Queue\n",
        "class Stack:\n",
        "  def __init__(self):\n",
        "    self.list_stack = []\n",
        "\n",
        "  def push_left(self, item = None):\n",
        "    if item is not None:\n",
        "      self.list_stack.insert(0,item)\n",
        "   \n",
        "  def push_right(self, item = None):\n",
        "    if item is not None:\n",
        "      self.list_stack.append(item)\n",
        "\n",
        "  def stack(self):\n",
        "    return self.list_stack\n",
        "\n",
        "  def pop_left(self):\n",
        "    return self.list_stack.pop(0) if self.list_stack != [] else \"No Stack\"\n",
        "\n",
        "  def pop_right(self):\n",
        "    return self.list_stack.pop() if self.list_stack != [] else \"No Stack\"\n",
        "\n",
        "  def size(self):\n",
        "    return len(self.list_stack)\n",
        "\n",
        "  def isEmpty(self):\n",
        "    return self.list_stack == []\n",
        "\n",
        "s1 = Stack()\n",
        "\n",
        "s1.push_left(\"A\")\n",
        "print(\"Push Left\",s1.stack())\n",
        "s1.push_left(\"B\")\n",
        "print(\"Push Left\",s1.stack())\n",
        "s1.push_left(\"C\")\n",
        "print(\"Push Left\",s1.stack())\n",
        "s1.push_left(\"D\")\n",
        "print(\"Push Left\",s1.stack())\n",
        "\n",
        "print()\n",
        "s1.push_right(\"E\")\n",
        "print(\"Push Righ:\",s1.stack())\n",
        "s1.push_right(\"F\")\n",
        "print(\"Push Righ:\",s1.stack())\n",
        "s1.push_right(\"G\")\n",
        "print(\"Push Righ:\",s1.stack())\n",
        "\n",
        "print()\n",
        "for i in range(0,4):\n",
        "  print(\"Pop Left:\",s1.pop_left())\n",
        "  print(\"stack : \",s1.stack())\n",
        "print()\n",
        "\n",
        "for i in range(0,3):\n",
        "  print(\"Pop Right:\",s1.pop_right())\n",
        "  print(\"stack : \",s1.stack())\n",
        "print()\n",
        "print(\"stack : \",s1.stack())"
      ],
      "metadata": {
        "colab": {
          "base_uri": "https://localhost:8080/"
        },
        "id": "DRq03Q0aVJ4x",
        "outputId": "09c9a4b0-9166-4e17-ef94-630ad3217930"
      },
      "execution_count": null,
      "outputs": [
        {
          "output_type": "stream",
          "name": "stdout",
          "text": [
            "Push Left ['A']\n",
            "Push Left ['B', 'A']\n",
            "Push Left ['C', 'B', 'A']\n",
            "Push Left ['D', 'C', 'B', 'A']\n",
            "\n",
            "Push Righ: ['D', 'C', 'B', 'A', 'E']\n",
            "Push Righ: ['D', 'C', 'B', 'A', 'E', 'F']\n",
            "Push Righ: ['D', 'C', 'B', 'A', 'E', 'F', 'G']\n",
            "\n",
            "Pop Left: D\n",
            "stack :  ['C', 'B', 'A', 'E', 'F', 'G']\n",
            "Pop Left: C\n",
            "stack :  ['B', 'A', 'E', 'F', 'G']\n",
            "Pop Left: B\n",
            "stack :  ['A', 'E', 'F', 'G']\n",
            "Pop Left: A\n",
            "stack :  ['E', 'F', 'G']\n",
            "\n",
            "Pop Right: G\n",
            "stack :  ['E', 'F']\n",
            "Pop Right: F\n",
            "stack :  ['E']\n",
            "Pop Right: E\n",
            "stack :  []\n",
            "\n",
            "stack :  []\n"
          ]
        }
      ]
    },
    {
      "cell_type": "markdown",
      "source": [
        "##ตอนที่ 2 : สร้าง 2D - Linked List"
      ],
      "metadata": {
        "id": "S9QRrxtEINcB"
      }
    },
    {
      "cell_type": "code",
      "source": [
        "#@title ให้นักศึกษาสร้าง 2D-Linked List ดังรูป โดยมีการทํางานพื้นฐานดังนี้ 1. สร้าง constructure ของ Class 2DLinkedList , Class priNode , Class secNode 2. สร้าง Method a. Append_primary(pri_data) สําหรับเพิ่ม primary node เก็บข้อมูล pri_data ต่อท้าย primary link list b. Delete_primary(pri_data) สําหรับลบ primary node ที่เก็บข้อมูล pri_data c. Append_secondary(pri_data , sec_data) สําหรับเพิ่ม secondary node เก็บข้อมูล sec_data ต่อท้าย primary link list ที่เก็บข้อมูล pri_data โดยถ้าไม่มีข้อมูล pri_data จะ ไม่มีการทํางาน d. Delete_secondary(pri_data, sec_data) สําหรับลบ secondary node ที่เก็บข้อมูล sec_data ของ primary link list ที่เก็บข้อมูล pri_data โดยถ้าไม่มีข้อมูล pri_data จะไม่ มีการทํางาน e. Print_List() สําหรับแสดงผลข้อมูลใน List ทั้งหมด โดยจากรูปตัวอย่างจะแสดงผลเป็น A : A1,A2 B : B1,B2 C : C1,C2 3. ทดลอง insert data ให้มี data structure ดังรูปตัวอย่าง แล้วเรียกใช้งาน Print_List() เพื่อ ตรวจสอบผลการ insert ข้อมูล\n",
        "class priNode:\n",
        "    def __init__(self, data, pri_next=None, sec_Node=None):\n",
        "        self.priNode_data = data\n",
        "        self.pri_next = pri_next\n",
        "        self.sec_next = sec_Node\n",
        "    def __str__(self):\n",
        "        return str(self.priNode_data)\n",
        "\n",
        "\n",
        "class secNode:\n",
        "    def __init__(self, data, sec_next=None):\n",
        "        self.secNode_data = data\n",
        "        self.sec_next = sec_next\n",
        "    def __str__(self):\n",
        "        return str(self.secNode_data)\n",
        "\n",
        "\n",
        "class LinkedList2D:\n",
        "    def __init__(self):\n",
        "        self.Head = None\n",
        "\n",
        "    def Append_primary(self, pri_data):\n",
        "        primary = priNode(pri_data)\n",
        "        if self.Head == None:\n",
        "            self.Head = primary\n",
        "        else:\n",
        "            n = self.Head\n",
        "            while n.pri_next != None:\n",
        "                n = n.pri_next\n",
        "            n.pri_next = primary\n",
        "\n",
        "    def Delete_primary(self, pri_data):\n",
        "        next = self.Head\n",
        "        if self.Head.priNode_data == pri_data:\n",
        "            next = next.pri_next\n",
        "            self.Head = next\n",
        "        while next.pri_next != None:\n",
        "            if next.pri_next.priNode_data == pri_data:\n",
        "                after = next.pri_next.pri_next\n",
        "                if after == None:\n",
        "                    next.pri_next = None\n",
        "                else:\n",
        "                    next.pri_next = after\n",
        "                break\n",
        "            next = next.pri_next\n",
        "\n",
        "    def Append_secondary(self, pri_data, sec_data):\n",
        "\n",
        "        next_pri = self.Head\n",
        "\n",
        "        while next_pri != None:\n",
        "            if next_pri.priNode_data == pri_data:\n",
        "                break\n",
        "            next_pri = next_pri.pri_next\n",
        "\n",
        "        Addnext_secDode = secNode(sec_data)\n",
        "\n",
        "        if next_pri.sec_next == None:\n",
        "            next_pri.sec_next = Addnext_secDode\n",
        "        else:\n",
        "            while next_pri.sec_next != None:\n",
        "                next_pri = next_pri.sec_next\n",
        "            next_pri.sec_next = Addnext_secDode\n",
        "\n",
        "    def Delete_secondary(self, pri_data, sec_data):\n",
        "        next_pri_node = self.Head\n",
        "        while next_pri_node != None:\n",
        "            if next_pri_node.priNode_data == pri_data:\n",
        "                break\n",
        "            next_pri_node = next_pri_node.pri_next\n",
        "\n",
        "        while next_pri_node != None:\n",
        "            before = next_pri_node.sec_next\n",
        "            if next_pri_node.sec_next.secNode_data == sec_data:\n",
        "                after = before.sec_next\n",
        "                if after is None:\n",
        "                    next_pri_node.sec_next = None\n",
        "                else:\n",
        "                    next_pri_node.sec_next = after\n",
        "                break\n",
        "            next_pri_node = next_pri_node.sec_next\n",
        "\n",
        "    def Print_List(self):\n",
        "        p = self.Head\n",
        "        while p != None:\n",
        "            print(p, end=\":\")\n",
        "            s = p.sec_next\n",
        "            while s != None:\n",
        "                print(s, end=\",\")\n",
        "                s = s.sec_next\n",
        "            print(\"NULL\")\n",
        "            p = p.pri_next\n",
        "        print(\"NULL\")\n",
        "\n",
        "\n",
        "l = LinkedList2D()\n",
        "\n",
        "l.Append_primary(\"A\")\n",
        "l.Append_primary(\"B\")\n",
        "l.Append_primary(\"C\")\n",
        "\n",
        "\n",
        "\n",
        "l.Append_secondary(\"A\", \"A1\")\n",
        "l.Append_secondary(\"B\", \"B1\")\n",
        "l.Append_secondary(\"C\", \"C1\")\n",
        "l.Append_secondary(\"A\", \"A2\")\n",
        "l.Append_secondary(\"B\", \"B2\")\n",
        "l.Append_secondary(\"C\", \"C2\")\n",
        "l.Append_secondary(\"C\", \"C3\")\n",
        "\n",
        "#l.Append_secondary(\"C\", \"C3\")\n",
        "l.Print_List()\n",
        "print()\n",
        "\n",
        "l.Delete_secondary(\"C\",\"C1\")\n",
        "l.Delete_secondary(\"C\",\"C3\")\n",
        "l.Delete_primary(\"B\")\n",
        "\n",
        "l.Print_List()"
      ],
      "metadata": {
        "colab": {
          "base_uri": "https://localhost:8080/"
        },
        "cellView": "form",
        "id": "8bLcdxN-VXnq",
        "outputId": "1718118c-8b77-4cdf-eb43-5640df3912ff"
      },
      "execution_count": null,
      "outputs": [
        {
          "output_type": "stream",
          "name": "stdout",
          "text": [
            "A:A1,A2,NULL\n",
            "B:B1,B2,NULL\n",
            "C:C1,C2,C3,NULL\n",
            "NULL\n",
            "\n",
            "A:A1,A2,NULL\n",
            "C:C2,NULL\n",
            "NULL\n"
          ]
        }
      ]
    },
    {
      "cell_type": "markdown",
      "source": [
        "---\n",
        "# ✅ Activity : Algorithm Analysis (Big-O)"
      ],
      "metadata": {
        "id": "7c54ErjeE3PK"
      }
    },
    {
      "cell_type": "code",
      "source": [
        "#@title Activity : ให้นักศึกษา หา source code ใน internet แล้วตอบคำถามว่า 1. โปรแกรมนั้น ทำงานอะไร 2. โปรแกรมนั้น มี Big-O เท่าไหร่\n",
        "words= [\"Apple\", \"Banana\", \"Car\", \"Dolphin\" ]\n",
        "for word in words:\n",
        "  print (\"The following lines will print each letters of \"+word)\n",
        "  for letter in word:\n",
        "    print (letter)\n",
        "  print(\"\")\n",
        "\n",
        "#1.ตอบ โปรแกรมแสดงค ําจําก list ทีละบรรทัด\n",
        "#2.ตอบ O(n^2)"
      ],
      "metadata": {
        "id": "PpKIo1G8gOQm",
        "colab": {
          "base_uri": "https://localhost:8080/"
        },
        "outputId": "eab8cc6e-a8ed-4ff5-a286-a9920a2dde51",
        "cellView": "form"
      },
      "execution_count": null,
      "outputs": [
        {
          "output_type": "stream",
          "name": "stdout",
          "text": [
            "The following lines will print each letters of Apple\n",
            "A\n",
            "p\n",
            "p\n",
            "l\n",
            "e\n",
            "\n",
            "The following lines will print each letters of Banana\n",
            "B\n",
            "a\n",
            "n\n",
            "a\n",
            "n\n",
            "a\n",
            "\n",
            "The following lines will print each letters of Car\n",
            "C\n",
            "a\n",
            "r\n",
            "\n",
            "The following lines will print each letters of Dolphin\n",
            "D\n",
            "o\n",
            "l\n",
            "p\n",
            "h\n",
            "i\n",
            "n\n",
            "\n"
          ]
        }
      ]
    },
    {
      "cell_type": "markdown",
      "source": [
        "---\n",
        "# ✅ Lab03 : Algorithm Analysis"
      ],
      "metadata": {
        "id": "QMi3aRbT_iw1"
      }
    },
    {
      "cell_type": "markdown",
      "source": [
        "ใบงาน : https://drive.google.com/file/d/1zVIf7-JuGDU3LcgYYp9dOs0h23oBhVzg/view"
      ],
      "metadata": {
        "id": "_gXekLY_rP-x"
      }
    },
    {
      "cell_type": "markdown",
      "source": [
        "## ตอนที่ 1 : Time Calculation"
      ],
      "metadata": {
        "id": "vt_S89ZJDi5X"
      }
    },
    {
      "cell_type": "markdown",
      "source": [
        "### ข้อ 1 ให้นักศึกษาค้นหา Source Code ใน internet ที่มีการทํางานเดียวกัน 2 โปรแกรม แล้วใช้ฟังก์ชั่นtime() เพื่อตรวจสอบกว่าการทํางานของทั้งสองโปรแกรม มีการใช้เวลาที่แตกต่างกันอย่างไรบ้าง\n"
      ],
      "metadata": {
        "id": "AX2DSqlpGR-s"
      }
    },
    {
      "cell_type": "code",
      "source": [
        "#@title โปรแกรมที่ 1 :\n",
        "import time\n",
        "st = time.time()\n",
        "\n",
        "Num = int(input(\"Enter number : \"))\n",
        "listNum = []\n",
        "string = \"\"\n",
        "i = 2\n",
        "while Num > 1: \n",
        "  if Num % i == 0:\n",
        "    Num = Num / i\n",
        "    listNum.append(str(i))\n",
        "  else:\n",
        "    i += 1\n",
        "print(listNum)\n",
        "\n",
        "en = time.time()\n",
        "elapsed_time = en - st\n",
        "print('Execution time:', elapsed_time, 'seconds')"
      ],
      "metadata": {
        "cellView": "form",
        "id": "ihQzkXe-To15"
      },
      "execution_count": null,
      "outputs": []
    },
    {
      "cell_type": "code",
      "source": [
        "#@title โปรแกรมที่ 2 :\n",
        "import time\n",
        "st = time.time()\n",
        "\n",
        "number = int(input(\"Enter number: \"))\n",
        "numberdiv = 1\n",
        "checknum = number\n",
        "checkdiv = number\n",
        "z = []\n",
        "while True:\n",
        "    for i in range(2,number):\n",
        "      if checkdiv % i == 0:\n",
        "        numberdiv *= i\n",
        "        checkdiv /= i\n",
        "        z.append(str(i))\n",
        "        break\n",
        "    if numberdiv == checknum:\n",
        "      break\n",
        "print(z)\n",
        "\n",
        "en = time.time()\n",
        "elapsed_time = en - st\n",
        "print('Execution time:', elapsed_time, 'seconds')"
      ],
      "metadata": {
        "colab": {
          "base_uri": "https://localhost:8080/"
        },
        "cellView": "form",
        "id": "rPzVzd7wT4_I",
        "outputId": "a6c51001-87a2-4f9f-cb1c-23efb308d225"
      },
      "execution_count": null,
      "outputs": [
        {
          "output_type": "stream",
          "name": "stdout",
          "text": [
            "Enter number: 1000000\n",
            "['2', '2', '2', '2', '2', '2', '5', '5', '5', '5', '5', '5']\n",
            "Execution time: 6.82787561416626 seconds\n"
          ]
        }
      ]
    },
    {
      "cell_type": "markdown",
      "source": [
        "###ข้อ 2 ให้นักศึกษาทดสอบการทํางานของ ฟังก์ชั่น NearestNeighbors ของ sklearn.neighbors เมื่อมีการเรียกใช้งานเพื่อหา nearest point ของข้อมูลจุดทดสอบจํานวน 1000 จุด ในจุดอ้างอิงทั้งหมด1,000,000 จุด ใน 2 วิธีการคือ การสร้างลูปเพื่อป้อนข้อมูลทดสอบทีละจุด จนครบ 1000 จุด กับการสร้าง list ของจุดทดสอบ แล้วป้อนค่าดังกล่าวให้ library ทํางาน แล้วตอบคําถามว่าความเร็วในการทํางานของโปรแกรมส่วนที่เป็นตัวหนา เขียนโปรแกรมแบบไหนทํางานได้เร็วกว่า และเร็วกว่ากันกี่เท่า"
      ],
      "metadata": {
        "id": "D779xw8gGdBT"
      }
    },
    {
      "cell_type": "code",
      "source": [
        "#@title โปรแกรมที่ 1 :\n",
        "import numpy as np\n",
        "from sklearn.neighbors import NearestNeighbors\n",
        "import random\n",
        "import time\n",
        "\n",
        "r = lambda: random.randint(0,10000)\n",
        "samples = [[r(),r(),r()] for i in range(1000000)]\n",
        "testdat = [[r(),r(),r()] for i in range(1000)]\n",
        "neigh = NearestNeighbors(n_neighbors=1)\n",
        "neigh.fit(samples)\n",
        "\n",
        "\n",
        "st = time.time()\n",
        "\n",
        "detect1 = neigh.kneighbors(testdat)\n",
        "\n",
        "\n",
        "en = time.time()\n",
        "elapsed_time = en - st\n",
        "print('Execution time:', elapsed_time, 'seconds')\n"
      ],
      "metadata": {
        "colab": {
          "base_uri": "https://localhost:8080/"
        },
        "cellView": "form",
        "id": "MUCYmtX4UgZB",
        "outputId": "7111c9cc-6105-4930-f07f-cdccca46c1b2"
      },
      "execution_count": null,
      "outputs": [
        {
          "output_type": "stream",
          "name": "stdout",
          "text": [
            "Execution time: 0.02079463005065918 seconds\n"
          ]
        }
      ]
    },
    {
      "cell_type": "code",
      "source": [
        "#@title โปรแกรมที่ 2 :\n",
        "import numpy as np\n",
        "from sklearn.neighbors import NearestNeighbors\n",
        "import random\n",
        "import time\n",
        "\n",
        "r = lambda: random.randint(0,10000)\n",
        "samples = [[r(),r(),r()] for i in range(1000000)]\n",
        "testdat = [[r(),r(),r()] for i in range(1000)]\n",
        "neigh = NearestNeighbors(n_neighbors=1)\n",
        "neigh.fit(samples)\n",
        "\n",
        "detect2=[]\n",
        "\n",
        "st = time.time()\n",
        "for i in testdat:\n",
        "  detect2 += neigh.kneighbors([i])\n",
        "\n",
        "en = time.time()\n",
        "elapsed_time = en - st\n",
        "print('Execution time:', elapsed_time, 'seconds')\n"
      ],
      "metadata": {
        "colab": {
          "base_uri": "https://localhost:8080/"
        },
        "cellView": "form",
        "id": "xxo9hTDRUqQ5",
        "outputId": "e2a9acfe-ef6c-442a-cdac-7ba8cd546453"
      },
      "execution_count": null,
      "outputs": [
        {
          "output_type": "stream",
          "name": "stdout",
          "text": [
            "Execution time: 0.4412262439727783 seconds\n"
          ]
        }
      ]
    },
    {
      "cell_type": "markdown",
      "source": [
        "##ตอนที่ 2 : จงหา Big-O ของโปรแกรมต่อไปนี้"
      ],
      "metadata": {
        "id": "pt65YBNhD4Ef"
      }
    },
    {
      "cell_type": "code",
      "source": [
        "#@title โปรแกรมที่ 1 :\n",
        "n = input(\"input number : \")\n",
        "n = int(n)\n",
        "for i in range(1,n,2):\n",
        "  print(i)\n",
        "\n",
        "#Big-O = O(n)"
      ],
      "metadata": {
        "id": "sGU_CSJX_v0d",
        "colab": {
          "base_uri": "https://localhost:8080/"
        },
        "outputId": "8566696c-4308-470c-d43d-f142f974c411",
        "cellView": "form"
      },
      "execution_count": null,
      "outputs": [
        {
          "output_type": "stream",
          "name": "stdout",
          "text": [
            "input number : 10\n",
            "1\n",
            "3\n",
            "5\n",
            "7\n",
            "9\n"
          ]
        }
      ]
    },
    {
      "cell_type": "code",
      "source": [
        "#@title โปรแกรมที่ 2 :\n",
        "n = input(\"input number : \")\n",
        "n = int(n)\n",
        "for x in range(1,n):\n",
        "  for y in range(n - x):\n",
        "    print (\" \",end=\"\")\n",
        "  for y in range(1,x + 1):\n",
        "    print(y,end=\"\")\n",
        "  for y in range(2,x + 1):\n",
        "    print(x - y + 1,end=\"\")\n",
        "  print()\n",
        "\n",
        "#Big-O = O(n^2)"
      ],
      "metadata": {
        "colab": {
          "base_uri": "https://localhost:8080/"
        },
        "id": "yPaVX8LPeaJN",
        "outputId": "dde16152-c5f5-4b2c-c771-41b6b60a6590",
        "cellView": "form"
      },
      "execution_count": null,
      "outputs": [
        {
          "output_type": "stream",
          "name": "stdout",
          "text": [
            "input number : 10\n",
            "         1\n",
            "        121\n",
            "       12321\n",
            "      1234321\n",
            "     123454321\n",
            "    12345654321\n",
            "   1234567654321\n",
            "  123456787654321\n",
            " 12345678987654321\n"
          ]
        }
      ]
    },
    {
      "cell_type": "code",
      "source": [
        "#@title โปรแกรมที่ 3 :\n",
        "n = input(\"input number : \")\n",
        "n = int(n)\n",
        "i=1\n",
        "while i<n:\n",
        "  print(i)\n",
        "  i=2*i\n",
        "\n",
        "#Big-O = O(log n)"
      ],
      "metadata": {
        "colab": {
          "base_uri": "https://localhost:8080/"
        },
        "id": "YiBkLJKcebwF",
        "outputId": "ba98500f-7133-40bc-b81c-8a798f3f560e",
        "cellView": "form"
      },
      "execution_count": null,
      "outputs": [
        {
          "output_type": "stream",
          "name": "stdout",
          "text": [
            "input number : 10\n",
            "1\n",
            "2\n",
            "4\n",
            "8\n"
          ]
        }
      ]
    },
    {
      "cell_type": "markdown",
      "source": [
        "## ตอนที่ 3 : เขียนโปรแกรมค้นหาข้อมูลให้มี Big-O ตามที่กําหนด"
      ],
      "metadata": {
        "id": "Ds6gQ5NOG1Bc"
      }
    },
    {
      "cell_type": "code",
      "source": [
        "#@title ข้อที่ 1 กําหนดให้ตัวแปร data เป็นค่า list ของค่าสุ่ม แล้วให้นักศึกษาเขียนโปรแกรมเรียงตัวเลขใน rnddat จากน้อยไปมากโดยไม่ใช้คําสั่ง sort() โดยให้การทํางานของโปรแกรมนี้มีค่า Big-O เป็น O(n^2)\n",
        "import random\n",
        "mddat = [random.randint(1,1000) for i in range(0,10000)]\n",
        "\n",
        "def Sort(data):\n",
        "  dataRange = len(data)\n",
        "  \n",
        "  while dataRange != 1:\n",
        "    Max = 0\n",
        "    setter = 0\n",
        "    for i in range(dataRange):\n",
        "      if data[i] >= Max:\n",
        "        Max = data[i]\n",
        "        setter = i\n",
        "    data[setter],data[dataRange - 1] = data[dataRange - 1],data[setter]\n",
        "    dataRange -=1 \n",
        "  return data\n",
        "\n",
        "def Sort2(data):\n",
        "  dataRange = len(data)\n",
        "  for a in range(dataRange):\n",
        "    for b in range(dataRange):\n",
        "      if data[a] < data[b]:\n",
        "        data[a],data[b] = data[b],data[a]\n",
        "  return data\n",
        "\n",
        "print(Sort(mddat))"
      ],
      "metadata": {
        "colab": {
          "base_uri": "https://localhost:8080/"
        },
        "id": "CGB1DtAmfYKf",
        "outputId": "eba15d37-b966-4bbb-e8d0-9e3c06a11038",
        "cellView": "form"
      },
      "execution_count": null,
      "outputs": [
        {
          "output_type": "stream",
          "name": "stdout",
          "text": [
            "[1, 1, 1, 1, 1, 1, 2, 2, 2, 2, 2, 2, 2, 2, 3, 3, 3, 3, 3, 3, 3, 3, 3, 3, 4, 4, 4, 4, 4, 4, 4, 4, 5, 5, 5, 5, 5, 5, 5, 5, 5, 5, 5, 5, 5, 6, 6, 6, 6, 6, 6, 6, 6, 6, 6, 6, 7, 7, 7, 7, 7, 8, 8, 8, 8, 8, 8, 8, 8, 8, 9, 9, 9, 9, 9, 9, 10, 10, 10, 10, 10, 10, 10, 10, 10, 10, 10, 10, 10, 10, 10, 10, 10, 10, 11, 11, 11, 11, 11, 11, 11, 12, 12, 12, 12, 12, 12, 12, 12, 13, 13, 13, 13, 13, 13, 13, 13, 13, 14, 14, 14, 14, 14, 14, 14, 14, 14, 14, 14, 14, 14, 15, 15, 15, 15, 15, 15, 15, 15, 16, 16, 16, 16, 16, 16, 16, 16, 16, 16, 16, 16, 17, 17, 17, 17, 17, 17, 17, 17, 17, 17, 17, 17, 18, 18, 18, 18, 18, 18, 19, 19, 19, 19, 19, 19, 20, 20, 20, 20, 20, 20, 20, 20, 20, 20, 20, 21, 21, 21, 21, 21, 21, 21, 21, 21, 22, 22, 22, 22, 22, 22, 22, 22, 22, 22, 22, 22, 22, 22, 22, 22, 22, 22, 23, 23, 23, 23, 23, 23, 23, 23, 23, 24, 24, 24, 24, 24, 24, 24, 24, 25, 25, 25, 25, 25, 25, 25, 25, 25, 25, 25, 25, 25, 25, 26, 26, 26, 26, 26, 26, 26, 27, 27, 27, 27, 27, 27, 27, 27, 27, 27, 28, 28, 28, 28, 28, 28, 28, 28, 28, 28, 28, 28, 28, 28, 29, 29, 29, 29, 29, 29, 29, 29, 29, 29, 30, 30, 30, 30, 30, 30, 30, 31, 31, 31, 31, 31, 31, 31, 32, 32, 32, 32, 32, 32, 32, 32, 33, 33, 33, 33, 33, 33, 34, 34, 34, 34, 34, 34, 34, 34, 35, 35, 35, 35, 35, 35, 35, 35, 35, 36, 36, 36, 36, 36, 37, 37, 37, 37, 37, 37, 37, 37, 38, 38, 38, 38, 38, 38, 38, 38, 38, 38, 38, 39, 39, 39, 39, 39, 39, 39, 39, 39, 39, 40, 40, 40, 40, 40, 40, 40, 40, 40, 40, 40, 40, 41, 41, 41, 41, 41, 41, 41, 41, 41, 41, 41, 41, 41, 41, 42, 42, 42, 42, 42, 42, 42, 42, 42, 42, 43, 43, 43, 43, 43, 44, 44, 44, 44, 44, 44, 44, 44, 45, 45, 45, 45, 45, 45, 45, 45, 45, 46, 46, 46, 46, 46, 46, 46, 47, 47, 47, 47, 47, 47, 47, 47, 47, 47, 48, 48, 48, 48, 48, 48, 48, 48, 48, 49, 49, 49, 49, 49, 49, 49, 49, 49, 49, 49, 49, 49, 50, 50, 50, 50, 50, 50, 50, 51, 51, 51, 51, 51, 51, 52, 52, 52, 52, 52, 52, 52, 52, 52, 52, 52, 52, 52, 53, 53, 53, 53, 53, 53, 53, 54, 54, 54, 54, 54, 54, 54, 54, 55, 55, 55, 55, 55, 55, 55, 55, 55, 55, 55, 55, 55, 55, 55, 55, 55, 55, 55, 55, 56, 56, 56, 56, 56, 56, 56, 56, 56, 56, 56, 56, 56, 56, 57, 57, 57, 57, 57, 57, 57, 57, 57, 58, 58, 58, 58, 58, 58, 58, 59, 59, 59, 59, 59, 59, 59, 59, 59, 59, 59, 60, 60, 60, 60, 60, 60, 60, 60, 60, 60, 60, 61, 61, 61, 61, 61, 61, 61, 61, 61, 61, 61, 61, 61, 61, 61, 61, 61, 62, 62, 62, 62, 62, 63, 63, 63, 63, 63, 63, 63, 63, 63, 63, 64, 65, 65, 65, 65, 65, 65, 65, 65, 65, 65, 65, 66, 66, 66, 66, 66, 66, 66, 66, 66, 66, 66, 66, 66, 66, 67, 67, 67, 67, 67, 67, 67, 67, 67, 67, 67, 67, 67, 67, 68, 68, 68, 68, 68, 68, 68, 68, 68, 68, 69, 69, 69, 69, 70, 70, 70, 70, 70, 70, 70, 70, 71, 71, 71, 71, 71, 71, 71, 71, 71, 71, 72, 72, 72, 72, 72, 72, 72, 72, 72, 72, 73, 73, 73, 73, 73, 73, 73, 73, 73, 73, 73, 74, 74, 74, 74, 74, 74, 74, 74, 74, 74, 75, 75, 75, 75, 75, 75, 75, 76, 76, 76, 76, 76, 76, 76, 76, 76, 76, 77, 77, 77, 77, 77, 77, 78, 78, 78, 78, 78, 78, 78, 78, 78, 78, 79, 79, 79, 79, 79, 79, 79, 79, 79, 80, 80, 80, 80, 80, 80, 80, 80, 80, 80, 80, 80, 81, 81, 81, 81, 81, 81, 81, 81, 81, 81, 82, 82, 82, 82, 82, 82, 82, 82, 82, 82, 83, 83, 83, 83, 83, 83, 83, 83, 83, 83, 83, 83, 83, 83, 84, 84, 84, 84, 84, 84, 85, 85, 85, 85, 85, 85, 85, 85, 85, 86, 86, 86, 86, 86, 86, 86, 87, 87, 87, 87, 87, 87, 87, 87, 87, 87, 87, 87, 88, 88, 88, 88, 88, 88, 88, 88, 88, 88, 88, 88, 88, 89, 89, 89, 89, 89, 89, 89, 90, 90, 90, 90, 90, 90, 90, 90, 91, 91, 91, 91, 91, 91, 91, 91, 91, 91, 92, 92, 92, 92, 92, 92, 92, 92, 92, 92, 92, 92, 92, 93, 93, 93, 93, 93, 93, 93, 93, 94, 94, 94, 94, 94, 94, 94, 94, 94, 95, 95, 95, 95, 95, 95, 95, 95, 95, 95, 95, 95, 96, 96, 96, 96, 96, 96, 96, 96, 96, 96, 96, 97, 97, 97, 97, 97, 97, 97, 97, 97, 97, 97, 97, 97, 98, 98, 98, 98, 98, 98, 98, 98, 98, 98, 98, 99, 99, 99, 99, 99, 99, 99, 99, 99, 99, 99, 99, 99, 100, 100, 100, 100, 100, 100, 100, 100, 100, 100, 100, 101, 101, 101, 101, 101, 101, 101, 101, 101, 101, 101, 101, 101, 101, 102, 102, 102, 102, 102, 103, 103, 103, 103, 103, 103, 103, 103, 104, 104, 104, 104, 104, 104, 104, 104, 104, 104, 104, 104, 104, 104, 105, 105, 105, 105, 105, 105, 105, 105, 105, 105, 105, 106, 106, 106, 106, 106, 106, 106, 107, 107, 107, 107, 107, 107, 107, 107, 107, 107, 107, 107, 108, 108, 108, 108, 108, 108, 108, 108, 108, 108, 108, 108, 108, 109, 109, 109, 109, 109, 109, 109, 109, 109, 110, 110, 110, 110, 110, 110, 110, 110, 110, 110, 110, 110, 111, 111, 111, 111, 111, 111, 111, 111, 111, 111, 111, 111, 112, 112, 112, 112, 112, 112, 112, 112, 112, 112, 113, 113, 113, 113, 113, 113, 113, 113, 113, 113, 113, 113, 114, 114, 114, 114, 114, 114, 115, 115, 115, 115, 115, 115, 116, 116, 116, 116, 116, 116, 116, 116, 117, 117, 117, 117, 117, 117, 117, 117, 117, 117, 117, 117, 117, 117, 118, 118, 118, 118, 118, 118, 118, 119, 119, 119, 119, 119, 119, 119, 119, 119, 119, 119, 119, 119, 119, 119, 120, 120, 120, 120, 120, 120, 120, 120, 120, 120, 120, 120, 120, 120, 120, 120, 120, 120, 121, 121, 121, 121, 121, 122, 122, 122, 122, 122, 122, 122, 122, 122, 122, 122, 123, 123, 123, 123, 123, 123, 123, 123, 123, 123, 123, 123, 124, 124, 124, 124, 124, 124, 124, 124, 124, 124, 124, 124, 125, 125, 125, 125, 125, 125, 125, 125, 125, 126, 126, 126, 126, 126, 126, 126, 126, 126, 126, 127, 127, 127, 127, 127, 127, 127, 127, 127, 127, 128, 128, 128, 128, 128, 128, 128, 128, 128, 128, 129, 129, 129, 129, 129, 129, 129, 129, 130, 130, 130, 130, 130, 130, 130, 130, 130, 131, 131, 131, 131, 131, 131, 131, 131, 132, 132, 132, 132, 132, 132, 132, 132, 132, 132, 132, 132, 132, 132, 133, 133, 133, 133, 133, 134, 134, 134, 134, 134, 135, 135, 135, 135, 135, 135, 135, 135, 135, 135, 135, 135, 136, 136, 136, 136, 136, 136, 136, 136, 136, 136, 136, 136, 136, 136, 137, 137, 137, 137, 137, 137, 137, 137, 137, 137, 138, 138, 138, 138, 138, 138, 138, 138, 138, 138, 138, 138, 138, 138, 139, 139, 139, 139, 139, 139, 139, 139, 139, 139, 139, 139, 140, 140, 140, 140, 140, 140, 140, 140, 140, 140, 140, 140, 140, 140, 141, 141, 141, 141, 141, 141, 141, 141, 141, 141, 141, 141, 142, 142, 142, 142, 142, 142, 142, 142, 142, 142, 142, 143, 143, 143, 143, 143, 143, 143, 143, 143, 143, 144, 144, 144, 144, 144, 144, 144, 145, 145, 145, 145, 145, 145, 145, 146, 146, 146, 146, 146, 146, 146, 146, 147, 147, 147, 147, 147, 147, 147, 147, 147, 147, 147, 147, 148, 148, 148, 148, 148, 148, 148, 148, 148, 148, 148, 148, 149, 149, 149, 149, 149, 149, 149, 149, 149, 149, 149, 150, 150, 150, 150, 150, 150, 150, 150, 150, 151, 151, 151, 151, 151, 151, 151, 151, 151, 151, 152, 152, 152, 152, 152, 152, 152, 152, 153, 153, 153, 153, 153, 153, 153, 153, 153, 154, 154, 154, 154, 154, 154, 154, 154, 155, 155, 155, 155, 155, 155, 155, 155, 155, 155, 155, 155, 155, 155, 156, 156, 156, 156, 156, 156, 156, 156, 156, 156, 156, 157, 157, 157, 157, 157, 157, 157, 157, 157, 158, 158, 158, 158, 158, 158, 158, 158, 158, 158, 159, 159, 159, 159, 159, 159, 159, 159, 159, 159, 160, 160, 160, 160, 160, 160, 160, 160, 160, 160, 160, 160, 161, 161, 161, 161, 161, 161, 161, 161, 162, 162, 162, 162, 162, 162, 162, 162, 162, 162, 162, 162, 162, 162, 163, 163, 163, 163, 163, 163, 163, 163, 163, 163, 163, 163, 163, 163, 164, 164, 164, 164, 164, 164, 164, 164, 164, 164, 164, 164, 165, 165, 165, 165, 165, 165, 166, 166, 166, 166, 166, 166, 166, 166, 166, 166, 166, 166, 167, 167, 167, 167, 167, 167, 167, 167, 167, 167, 167, 167, 167, 167, 167, 168, 168, 168, 168, 168, 168, 168, 168, 169, 169, 169, 169, 169, 169, 169, 169, 169, 169, 169, 169, 169, 169, 170, 170, 170, 170, 170, 170, 171, 171, 171, 171, 171, 171, 171, 171, 171, 171, 172, 172, 172, 172, 172, 172, 172, 172, 172, 173, 173, 173, 173, 173, 173, 173, 173, 173, 174, 174, 174, 174, 174, 174, 174, 174, 175, 175, 175, 175, 175, 176, 176, 176, 176, 176, 176, 176, 176, 177, 177, 177, 177, 177, 177, 177, 177, 177, 177, 177, 177, 178, 178, 178, 178, 178, 178, 178, 178, 178, 178, 178, 178, 178, 179, 179, 179, 179, 179, 179, 179, 179, 179, 179, 180, 180, 180, 180, 180, 180, 180, 180, 180, 180, 180, 180, 180, 180, 180, 181, 181, 181, 181, 181, 181, 181, 181, 181, 181, 181, 182, 182, 182, 182, 182, 182, 182, 182, 182, 182, 182, 183, 183, 183, 183, 183, 183, 183, 183, 183, 183, 183, 183, 183, 183, 183, 184, 184, 184, 184, 184, 184, 184, 184, 184, 185, 185, 185, 185, 185, 185, 185, 185, 185, 185, 186, 186, 186, 186, 186, 186, 186, 186, 186, 186, 186, 186, 187, 187, 187, 187, 187, 187, 187, 187, 187, 187, 187, 187, 188, 188, 188, 188, 188, 188, 188, 189, 189, 189, 189, 189, 189, 189, 189, 189, 190, 190, 190, 190, 190, 190, 190, 190, 191, 191, 191, 191, 191, 191, 191, 191, 191, 191, 191, 192, 192, 192, 192, 192, 192, 193, 193, 193, 193, 193, 194, 194, 194, 194, 194, 194, 194, 194, 194, 195, 195, 195, 195, 195, 195, 195, 196, 196, 196, 196, 196, 196, 197, 197, 197, 197, 197, 197, 198, 198, 198, 198, 198, 198, 198, 198, 198, 198, 198, 198, 198, 199, 199, 199, 199, 199, 199, 200, 200, 200, 200, 200, 200, 201, 201, 201, 201, 201, 201, 201, 201, 201, 202, 202, 202, 202, 202, 202, 202, 202, 202, 203, 203, 203, 203, 203, 203, 203, 203, 203, 203, 203, 203, 204, 204, 204, 204, 204, 204, 204, 204, 204, 204, 205, 205, 205, 205, 205, 205, 205, 205, 205, 206, 206, 206, 206, 206, 206, 207, 207, 207, 207, 207, 207, 207, 207, 207, 208, 208, 209, 209, 209, 209, 209, 209, 209, 209, 209, 209, 209, 209, 209, 209, 209, 209, 209, 209, 210, 210, 210, 210, 210, 210, 210, 210, 210, 210, 210, 210, 211, 211, 211, 211, 211, 211, 211, 212, 212, 212, 212, 212, 212, 212, 212, 212, 212, 213, 213, 213, 213, 213, 213, 213, 213, 214, 214, 214, 214, 214, 214, 214, 214, 214, 215, 215, 215, 215, 216, 216, 216, 216, 216, 216, 216, 216, 217, 217, 217, 217, 217, 217, 218, 218, 218, 218, 218, 218, 218, 218, 218, 218, 218, 218, 218, 218, 218, 218, 218, 219, 219, 219, 219, 219, 219, 219, 219, 219, 219, 219, 219, 219, 219, 219, 220, 220, 220, 220, 220, 220, 220, 220, 220, 220, 220, 220, 220, 220, 220, 221, 221, 221, 221, 221, 221, 221, 222, 222, 222, 222, 222, 222, 222, 222, 222, 222, 222, 222, 222, 222, 222, 222, 222, 222, 223, 223, 223, 223, 223, 223, 223, 223, 223, 223, 224, 224, 224, 224, 224, 224, 224, 224, 224, 224, 225, 225, 225, 225, 225, 225, 225, 226, 226, 226, 226, 226, 226, 226, 226, 226, 227, 227, 227, 228, 228, 228, 228, 228, 228, 228, 228, 228, 229, 229, 229, 229, 229, 229, 229, 229, 230, 230, 230, 230, 230, 230, 230, 230, 230, 230, 230, 231, 231, 231, 231, 231, 231, 231, 232, 232, 232, 232, 232, 232, 232, 232, 232, 232, 232, 232, 232, 233, 233, 233, 233, 233, 233, 233, 233, 233, 233, 233, 233, 233, 234, 234, 234, 234, 234, 234, 234, 235, 235, 235, 235, 235, 235, 235, 235, 235, 235, 235, 236, 236, 236, 236, 236, 236, 236, 236, 237, 237, 237, 237, 237, 237, 237, 237, 237, 238, 238, 238, 238, 238, 238, 238, 238, 238, 238, 238, 238, 238, 238, 238, 239, 239, 239, 239, 239, 239, 239, 239, 239, 239, 240, 240, 240, 240, 240, 240, 240, 240, 240, 240, 240, 240, 240, 241, 241, 241, 241, 241, 241, 241, 241, 241, 242, 242, 242, 242, 242, 242, 242, 243, 243, 243, 243, 243, 243, 243, 243, 243, 243, 243, 243, 243, 243, 244, 244, 244, 244, 244, 245, 245, 245, 245, 245, 245, 245, 246, 246, 246, 246, 246, 246, 246, 246, 246, 246, 247, 247, 247, 247, 247, 247, 247, 247, 247, 247, 247, 247, 248, 248, 248, 248, 248, 248, 248, 248, 248, 248, 248, 248, 248, 248, 248, 248, 249, 249, 249, 249, 249, 249, 249, 249, 249, 250, 250, 250, 250, 250, 250, 251, 251, 251, 251, 251, 251, 251, 251, 251, 251, 251, 251, 252, 252, 252, 252, 252, 252, 252, 252, 252, 252, 252, 252, 253, 253, 253, 253, 253, 253, 253, 253, 253, 253, 253, 253, 254, 254, 254, 254, 254, 254, 254, 254, 254, 254, 254, 254, 254, 254, 254, 255, 255, 255, 255, 255, 255, 255, 255, 255, 256, 256, 256, 256, 256, 256, 256, 256, 256, 256, 256, 256, 256, 256, 256, 257, 257, 257, 257, 257, 257, 257, 257, 257, 257, 258, 258, 258, 258, 258, 258, 258, 258, 258, 258, 258, 258, 258, 258, 258, 259, 259, 259, 259, 259, 259, 259, 259, 259, 260, 260, 260, 260, 260, 260, 260, 260, 260, 260, 261, 261, 261, 261, 261, 261, 261, 262, 262, 262, 262, 262, 262, 262, 262, 262, 262, 262, 262, 262, 262, 263, 263, 263, 263, 263, 263, 263, 263, 263, 264, 264, 264, 264, 264, 264, 264, 264, 264, 264, 264, 264, 264, 264, 264, 265, 265, 265, 265, 265, 265, 265, 266, 266, 266, 266, 266, 266, 266, 266, 267, 267, 267, 267, 267, 267, 267, 268, 268, 268, 268, 268, 268, 268, 268, 268, 268, 269, 269, 269, 269, 269, 269, 269, 269, 269, 269, 270, 270, 270, 270, 270, 270, 270, 270, 270, 271, 271, 271, 271, 271, 271, 271, 271, 271, 271, 271, 271, 271, 272, 272, 272, 272, 272, 272, 272, 272, 272, 272, 272, 272, 272, 272, 273, 273, 273, 273, 273, 274, 274, 274, 274, 274, 274, 274, 274, 274, 275, 275, 275, 275, 275, 275, 275, 275, 275, 275, 275, 276, 276, 276, 276, 276, 276, 276, 276, 276, 276, 276, 276, 276, 276, 277, 277, 277, 277, 277, 277, 277, 277, 277, 277, 277, 277, 277, 278, 278, 278, 278, 278, 278, 278, 278, 278, 278, 278, 278, 278, 278, 278, 279, 279, 279, 279, 279, 280, 280, 280, 280, 280, 280, 280, 280, 280, 281, 281, 281, 281, 281, 281, 281, 281, 281, 281, 281, 282, 282, 282, 282, 282, 282, 282, 282, 282, 282, 282, 282, 283, 283, 283, 283, 283, 283, 284, 284, 284, 284, 284, 284, 284, 284, 284, 284, 285, 285, 285, 285, 285, 285, 285, 285, 285, 285, 286, 286, 286, 286, 286, 286, 286, 286, 287, 287, 287, 287, 287, 287, 287, 287, 288, 288, 288, 288, 288, 288, 288, 288, 288, 288, 288, 288, 288, 288, 288, 288, 289, 289, 289, 289, 289, 289, 289, 289, 289, 289, 289, 289, 289, 290, 290, 290, 290, 290, 290, 290, 290, 290, 291, 291, 291, 291, 291, 291, 291, 291, 291, 292, 292, 292, 292, 292, 292, 292, 292, 292, 292, 292, 293, 293, 293, 293, 293, 293, 293, 293, 294, 294, 294, 294, 294, 294, 294, 294, 294, 294, 294, 295, 295, 295, 295, 295, 295, 295, 295, 295, 295, 295, 296, 296, 296, 296, 296, 296, 296, 296, 296, 296, 296, 297, 297, 297, 297, 297, 297, 297, 297, 297, 297, 297, 298, 298, 298, 298, 298, 298, 298, 298, 298, 298, 298, 298, 298, 298, 298, 299, 299, 299, 299, 299, 299, 299, 299, 299, 299, 299, 299, 299, 300, 300, 300, 300, 300, 300, 300, 300, 301, 301, 301, 301, 301, 301, 301, 301, 301, 301, 302, 302, 302, 302, 302, 302, 302, 302, 302, 302, 302, 302, 303, 303, 303, 303, 303, 303, 303, 304, 304, 304, 304, 304, 304, 304, 304, 304, 304, 304, 304, 305, 305, 305, 305, 305, 305, 305, 305, 305, 305, 306, 306, 306, 306, 306, 306, 307, 307, 307, 307, 307, 307, 308, 308, 308, 308, 308, 308, 308, 309, 309, 309, 309, 309, 310, 310, 310, 310, 310, 310, 310, 310, 310, 310, 311, 311, 311, 311, 311, 311, 311, 311, 311, 311, 311, 311, 311, 311, 311, 311, 312, 312, 312, 312, 312, 312, 312, 312, 312, 313, 313, 313, 313, 313, 313, 313, 313, 313, 313, 313, 313, 313, 313, 313, 313, 313, 314, 314, 314, 314, 314, 314, 314, 315, 315, 315, 315, 315, 315, 315, 315, 315, 315, 315, 315, 316, 316, 316, 316, 316, 317, 317, 317, 317, 317, 317, 317, 317, 317, 317, 317, 317, 318, 318, 318, 318, 318, 318, 318, 318, 318, 318, 318, 318, 319, 319, 319, 319, 319, 319, 319, 319, 319, 319, 319, 319, 319, 319, 320, 320, 320, 320, 320, 320, 321, 321, 321, 321, 321, 321, 321, 322, 322, 322, 322, 322, 322, 322, 322, 322, 322, 323, 323, 323, 323, 323, 323, 323, 323, 323, 323, 323, 323, 323, 323, 324, 324, 324, 324, 324, 325, 325, 325, 326, 326, 326, 326, 326, 326, 326, 326, 326, 327, 327, 327, 327, 327, 327, 327, 327, 327, 327, 327, 327, 328, 328, 328, 328, 328, 328, 328, 328, 328, 328, 328, 328, 328, 329, 329, 329, 329, 329, 329, 329, 329, 329, 329, 329, 329, 329, 329, 330, 330, 330, 330, 330, 330, 330, 330, 331, 331, 331, 331, 331, 331, 331, 331, 332, 332, 332, 332, 332, 332, 333, 333, 333, 333, 333, 333, 333, 334, 334, 334, 334, 334, 334, 334, 334, 334, 335, 335, 335, 335, 335, 335, 335, 335, 335, 335, 335, 335, 336, 336, 336, 336, 337, 337, 337, 338, 338, 338, 338, 338, 338, 338, 338, 338, 338, 339, 339, 339, 339, 339, 339, 339, 339, 340, 340, 340, 340, 340, 340, 340, 340, 340, 341, 341, 341, 341, 341, 341, 341, 341, 341, 341, 341, 341, 341, 341, 341, 341, 342, 342, 342, 342, 342, 342, 342, 342, 342, 342, 342, 343, 343, 343, 343, 344, 344, 344, 344, 344, 344, 344, 344, 344, 344, 344, 345, 345, 345, 345, 345, 345, 345, 345, 345, 346, 346, 346, 346, 346, 347, 347, 347, 347, 347, 347, 347, 347, 347, 347, 348, 348, 348, 348, 348, 348, 348, 348, 348, 349, 349, 349, 349, 349, 349, 349, 349, 350, 350, 350, 350, 350, 350, 350, 350, 351, 351, 351, 351, 351, 351, 351, 351, 351, 351, 351, 352, 352, 352, 352, 352, 352, 352, 353, 353, 353, 353, 353, 353, 353, 354, 354, 354, 354, 354, 354, 354, 354, 354, 354, 354, 355, 355, 355, 355, 355, 355, 355, 355, 356, 356, 356, 356, 356, 356, 356, 356, 357, 357, 357, 357, 357, 357, 357, 357, 357, 357, 357, 357, 357, 358, 358, 358, 358, 358, 358, 358, 358, 358, 358, 359, 359, 359, 359, 359, 359, 359, 359, 359, 359, 359, 360, 360, 360, 360, 360, 360, 360, 360, 360, 360, 361, 361, 361, 361, 361, 361, 361, 361, 361, 361, 361, 362, 362, 362, 362, 362, 362, 362, 363, 363, 363, 363, 363, 363, 363, 363, 363, 364, 364, 364, 364, 364, 364, 364, 364, 365, 365, 365, 365, 365, 365, 365, 365, 365, 365, 365, 365, 366, 366, 366, 366, 366, 366, 366, 366, 367, 367, 367, 367, 367, 367, 367, 367, 367, 368, 368, 368, 368, 368, 368, 368, 369, 369, 369, 369, 369, 369, 369, 369, 370, 370, 370, 370, 370, 370, 370, 370, 370, 371, 371, 371, 371, 371, 371, 371, 371, 371, 371, 371, 371, 371, 372, 372, 372, 372, 372, 372, 372, 373, 373, 373, 373, 373, 373, 373, 373, 373, 373, 374, 374, 374, 374, 374, 374, 374, 374, 374, 374, 374, 374, 374, 374, 374, 374, 374, 375, 375, 375, 375, 375, 375, 375, 375, 375, 375, 375, 375, 376, 376, 376, 376, 376, 376, 376, 376, 376, 376, 376, 377, 377, 377, 377, 377, 377, 377, 377, 377, 377, 377, 377, 377, 378, 378, 378, 378, 378, 378, 378, 379, 379, 379, 379, 379, 379, 379, 379, 379, 379, 380, 380, 380, 380, 380, 380, 381, 381, 381, 381, 381, 381, 381, 381, 381, 381, 381, 382, 382, 382, 382, 382, 382, 382, 382, 382, 382, 382, 383, 383, 383, 383, 383, 383, 383, 383, 383, 384, 384, 384, 384, 384, 384, 384, 384, 384, 384, 384, 384, 384, 384, 385, 385, 385, 385, 385, 385, 385, 386, 386, 386, 386, 386, 386, 386, 386, 386, 386, 386, 387, 387, 387, 387, 387, 387, 387, 387, 387, 387, 388, 388, 388, 388, 388, 388, 389, 389, 389, 389, 389, 389, 389, 389, 390, 390, 390, 390, 390, 390, 390, 390, 390, 390, 390, 391, 391, 391, 391, 391, 391, 392, 392, 392, 392, 392, 392, 392, 392, 392, 392, 392, 393, 393, 393, 393, 393, 393, 393, 394, 394, 394, 394, 394, 394, 394, 394, 394, 394, 394, 394, 395, 395, 395, 395, 395, 395, 395, 395, 395, 395, 395, 395, 396, 396, 396, 396, 396, 396, 396, 396, 396, 397, 397, 397, 397, 397, 397, 397, 397, 397, 397, 397, 397, 397, 397, 397, 398, 398, 398, 398, 398, 398, 398, 398, 398, 398, 398, 398, 398, 398, 399, 399, 399, 399, 399, 399, 399, 399, 399, 399, 399, 399, 399, 400, 400, 400, 400, 400, 400, 400, 400, 400, 400, 400, 400, 400, 400, 401, 401, 401, 401, 401, 401, 401, 401, 401, 401, 401, 401, 401, 402, 402, 402, 402, 402, 402, 402, 402, 402, 402, 402, 402, 402, 403, 403, 403, 403, 403, 403, 403, 403, 403, 404, 404, 404, 404, 404, 404, 404, 405, 405, 405, 405, 405, 405, 405, 405, 405, 406, 406, 406, 406, 406, 406, 406, 406, 406, 406, 406, 406, 406, 407, 407, 407, 407, 407, 407, 407, 408, 408, 408, 408, 408, 408, 408, 408, 408, 409, 409, 409, 409, 409, 409, 409, 409, 410, 410, 410, 410, 410, 410, 410, 410, 410, 411, 411, 411, 411, 411, 411, 412, 412, 412, 412, 412, 412, 412, 412, 412, 413, 413, 413, 413, 413, 414, 414, 414, 414, 414, 414, 414, 414, 414, 415, 415, 415, 415, 415, 415, 415, 416, 416, 416, 416, 416, 416, 416, 416, 416, 416, 416, 416, 416, 417, 417, 417, 417, 417, 417, 417, 417, 417, 417, 418, 418, 418, 418, 418, 418, 418, 418, 418, 418, 418, 418, 418, 419, 419, 419, 419, 419, 419, 419, 419, 419, 419, 419, 419, 420, 420, 420, 420, 420, 420, 420, 420, 420, 420, 420, 420, 420, 420, 420, 420, 420, 420, 421, 421, 421, 421, 421, 421, 422, 422, 422, 422, 422, 422, 422, 422, 422, 422, 422, 422, 422, 422, 423, 423, 423, 423, 423, 423, 423, 423, 423, 424, 424, 424, 424, 424, 424, 425, 425, 425, 425, 425, 425, 425, 425, 425, 426, 426, 426, 426, 426, 426, 426, 426, 426, 426, 426, 426, 426, 426, 426, 426, 427, 427, 427, 427, 427, 427, 427, 427, 427, 427, 427, 427, 427, 427, 428, 428, 428, 428, 428, 428, 428, 428, 428, 428, 429, 429, 429, 429, 429, 429, 429, 429, 429, 429, 429, 430, 430, 430, 431, 431, 431, 431, 431, 431, 431, 431, 431, 431, 431, 432, 432, 432, 432, 432, 432, 432, 432, 432, 432, 433, 433, 433, 433, 434, 434, 434, 434, 434, 434, 434, 434, 434, 434, 435, 435, 435, 435, 435, 435, 435, 436, 436, 436, 436, 436, 436, 436, 436, 436, 436, 436, 436, 436, 436, 437, 437, 437, 437, 437, 437, 437, 437, 437, 437, 437, 437, 437, 437, 438, 438, 438, 438, 438, 438, 439, 439, 439, 439, 439, 439, 439, 439, 439, 439, 439, 439, 439, 439, 440, 440, 440, 440, 440, 441, 441, 441, 441, 441, 441, 441, 441, 441, 441, 442, 442, 442, 442, 442, 442, 442, 443, 443, 443, 443, 443, 443, 443, 443, 443, 443, 443, 443, 443, 443, 444, 444, 444, 444, 444, 444, 444, 444, 444, 444, 445, 445, 445, 445, 445, 445, 445, 445, 445, 445, 446, 446, 446, 446, 446, 446, 446, 446, 446, 446, 447, 447, 447, 447, 447, 447, 447, 447, 447, 447, 447, 447, 447, 448, 448, 448, 448, 448, 448, 448, 448, 448, 448, 449, 449, 449, 449, 449, 449, 449, 449, 449, 450, 450, 450, 450, 450, 450, 450, 451, 451, 451, 452, 452, 452, 452, 452, 452, 452, 452, 452, 452, 453, 453, 453, 453, 453, 453, 453, 453, 453, 453, 453, 453, 453, 453, 454, 454, 454, 454, 454, 454, 454, 454, 454, 455, 455, 455, 455, 455, 455, 455, 455, 456, 456, 456, 456, 456, 456, 456, 456, 456, 456, 456, 456, 457, 457, 457, 457, 457, 457, 457, 457, 457, 458, 458, 458, 458, 458, 458, 458, 458, 458, 458, 458, 458, 458, 459, 459, 459, 459, 459, 459, 459, 459, 459, 459, 459, 459, 459, 459, 460, 460, 460, 460, 460, 460, 461, 461, 461, 461, 461, 461, 461, 461, 461, 461, 461, 461, 461, 462, 462, 462, 462, 462, 462, 462, 462, 462, 462, 463, 463, 463, 463, 463, 463, 463, 463, 463, 463, 463, 463, 463, 464, 464, 464, 464, 464, 464, 464, 464, 464, 464, 464, 465, 465, 465, 465, 465, 465, 466, 466, 466, 466, 466, 466, 466, 466, 466, 466, 466, 466, 467, 467, 467, 467, 467, 467, 467, 467, 467, 468, 468, 468, 468, 468, 468, 468, 468, 468, 469, 469, 469, 469, 469, 469, 469, 469, 469, 469, 469, 469, 469, 470, 470, 470, 470, 470, 470, 470, 470, 471, 471, 471, 471, 471, 471, 471, 471, 471, 471, 472, 472, 472, 472, 472, 472, 472, 472, 473, 473, 473, 473, 473, 473, 473, 473, 474, 474, 474, 474, 474, 474, 474, 474, 474, 475, 475, 475, 475, 475, 475, 475, 475, 475, 475, 476, 476, 476, 476, 476, 476, 477, 477, 477, 477, 477, 477, 477, 477, 477, 478, 478, 478, 478, 478, 478, 478, 478, 478, 479, 479, 479, 479, 479, 479, 479, 479, 479, 479, 479, 480, 480, 480, 480, 480, 481, 481, 481, 481, 481, 481, 481, 481, 481, 481, 481, 481, 481, 481, 482, 482, 482, 482, 482, 482, 482, 482, 482, 482, 483, 483, 483, 483, 483, 483, 483, 483, 484, 484, 484, 484, 484, 484, 484, 484, 484, 484, 484, 484, 484, 484, 484, 484, 485, 485, 485, 485, 485, 485, 485, 485, 485, 485, 485, 485, 485, 485, 486, 486, 486, 486, 486, 486, 486, 486, 486, 486, 486, 486, 486, 486, 486, 486, 487, 487, 487, 487, 487, 487, 487, 487, 487, 487, 487, 487, 487, 487, 488, 488, 488, 488, 488, 488, 488, 488, 488, 488, 488, 489, 489, 489, 489, 489, 489, 489, 489, 489, 489, 490, 490, 490, 490, 490, 490, 490, 490, 490, 490, 490, 491, 491, 491, 491, 491, 491, 491, 491, 491, 492, 492, 492, 492, 492, 492, 492, 492, 492, 492, 492, 492, 492, 492, 492, 493, 493, 493, 493, 493, 493, 493, 493, 493, 493, 493, 493, 494, 494, 494, 494, 494, 494, 494, 494, 494, 494, 494, 494, 494, 494, 495, 495, 495, 495, 495, 495, 495, 496, 496, 496, 496, 496, 496, 496, 496, 496, 496, 496, 496, 496, 496, 497, 497, 497, 497, 497, 497, 497, 497, 497, 497, 497, 497, 497, 497, 497, 498, 498, 498, 498, 498, 498, 498, 498, 499, 499, 499, 499, 499, 499, 499, 499, 499, 499, 499, 499, 500, 500, 500, 500, 500, 500, 500, 500, 500, 501, 501, 501, 502, 502, 502, 502, 502, 502, 503, 503, 503, 503, 503, 503, 503, 503, 503, 503, 503, 503, 504, 504, 504, 504, 504, 504, 504, 504, 504, 504, 505, 505, 505, 505, 505, 505, 505, 505, 505, 505, 506, 506, 506, 506, 506, 506, 507, 507, 507, 507, 507, 507, 507, 507, 507, 507, 508, 508, 508, 508, 508, 508, 508, 508, 508, 509, 509, 509, 509, 509, 509, 509, 509, 509, 509, 510, 510, 510, 510, 510, 510, 510, 510, 510, 510, 511, 511, 511, 511, 511, 511, 512, 512, 512, 512, 512, 512, 512, 512, 512, 512, 512, 512, 512, 513, 513, 513, 513, 513, 513, 513, 513, 514, 514, 514, 514, 514, 514, 514, 514, 514, 514, 514, 515, 515, 515, 515, 515, 515, 515, 515, 515, 515, 515, 515, 516, 516, 516, 516, 516, 516, 516, 516, 516, 516, 517, 517, 517, 517, 517, 517, 517, 518, 518, 518, 518, 518, 518, 518, 518, 519, 519, 519, 520, 520, 520, 520, 520, 520, 520, 520, 520, 520, 520, 520, 521, 521, 521, 521, 521, 521, 521, 521, 521, 521, 522, 522, 522, 522, 522, 522, 522, 522, 522, 522, 522, 522, 523, 523, 523, 523, 523, 523, 523, 523, 523, 523, 523, 523, 523, 523, 523, 524, 524, 524, 524, 524, 524, 525, 525, 525, 525, 525, 525, 525, 525, 525, 525, 526, 526, 526, 526, 526, 526, 526, 526, 526, 526, 526, 527, 527, 527, 527, 527, 527, 527, 527, 527, 528, 528, 528, 528, 528, 528, 528, 528, 528, 528, 528, 528, 528, 528, 529, 529, 529, 529, 529, 529, 529, 530, 530, 530, 530, 530, 530, 530, 530, 530, 531, 531, 531, 531, 531, 531, 531, 531, 531, 532, 532, 532, 532, 532, 532, 532, 532, 533, 533, 533, 533, 533, 533, 533, 533, 533, 533, 534, 534, 534, 534, 534, 534, 534, 534, 534, 535, 535, 535, 535, 535, 535, 535, 535, 535, 535, 535, 535, 535, 535, 535, 536, 536, 536, 536, 536, 536, 536, 536, 536, 536, 536, 537, 537, 537, 537, 537, 537, 537, 537, 537, 537, 538, 538, 538, 538, 538, 538, 538, 538, 538, 539, 539, 539, 539, 539, 539, 539, 539, 539, 539, 539, 539, 540, 540, 540, 540, 540, 540, 540, 540, 540, 540, 541, 541, 541, 541, 541, 541, 541, 541, 541, 541, 541, 541, 541, 541, 541, 541, 541, 541, 542, 542, 542, 542, 542, 542, 542, 542, 542, 543, 543, 543, 543, 543, 543, 543, 543, 543, 543, 543, 543, 543, 543, 544, 544, 544, 544, 544, 544, 544, 544, 544, 545, 545, 545, 545, 545, 545, 545, 545, 545, 545, 546, 546, 546, 546, 546, 546, 546, 546, 547, 547, 547, 547, 547, 547, 547, 547, 547, 547, 547, 547, 548, 548, 548, 548, 548, 548, 548, 548, 548, 548, 548, 548, 548, 548, 549, 549, 549, 549, 549, 549, 549, 549, 549, 549, 549, 549, 549, 550, 550, 550, 550, 550, 550, 550, 550, 550, 550, 551, 551, 551, 551, 551, 551, 551, 551, 551, 551, 551, 552, 552, 552, 552, 552, 552, 552, 552, 552, 552, 552, 552, 552, 552, 553, 553, 553, 553, 553, 553, 553, 553, 553, 553, 553, 553, 553, 553, 553, 554, 554, 554, 554, 554, 554, 554, 554, 554, 554, 554, 555, 555, 555, 555, 555, 555, 555, 555, 555, 555, 555, 555, 555, 555, 555, 555, 555, 556, 556, 556, 556, 556, 556, 556, 556, 556, 556, 556, 556, 556, 557, 557, 557, 557, 557, 557, 557, 557, 557, 557, 558, 558, 558, 558, 558, 558, 558, 559, 559, 559, 559, 559, 559, 559, 559, 559, 559, 560, 560, 560, 560, 560, 560, 560, 560, 560, 560, 560, 560, 560, 560, 561, 561, 561, 561, 561, 561, 561, 561, 562, 562, 562, 562, 562, 562, 562, 562, 562, 562, 562, 562, 562, 563, 563, 563, 563, 563, 563, 563, 563, 563, 563, 564, 564, 564, 564, 564, 564, 564, 564, 564, 565, 565, 565, 565, 565, 565, 565, 565, 565, 565, 565, 565, 565, 565, 565, 565, 566, 566, 566, 566, 566, 566, 566, 566, 566, 567, 567, 567, 567, 567, 567, 567, 567, 568, 568, 568, 568, 568, 568, 568, 568, 568, 568, 568, 568, 568, 569, 569, 569, 569, 569, 569, 569, 569, 569, 570, 570, 570, 570, 570, 570, 570, 570, 570, 571, 571, 571, 571, 571, 571, 571, 571, 571, 571, 571, 571, 571, 571, 571, 571, 571, 572, 572, 572, 572, 572, 572, 572, 572, 573, 573, 573, 573, 573, 573, 573, 573, 573, 573, 573, 574, 574, 574, 574, 574, 574, 574, 574, 575, 575, 575, 575, 575, 575, 575, 575, 575, 575, 575, 575, 576, 576, 576, 576, 576, 576, 576, 576, 576, 577, 577, 577, 577, 577, 577, 577, 577, 577, 577, 578, 578, 578, 578, 578, 578, 578, 578, 578, 578, 578, 578, 578, 579, 579, 579, 579, 579, 579, 579, 579, 579, 579, 580, 580, 580, 580, 580, 580, 580, 580, 580, 580, 580, 581, 581, 581, 581, 581, 581, 581, 581, 581, 582, 582, 582, 582, 582, 582, 582, 582, 583, 583, 583, 583, 583, 583, 583, 583, 583, 584, 584, 584, 584, 584, 584, 584, 584, 584, 584, 584, 584, 584, 584, 584, 585, 585, 585, 585, 585, 585, 585, 585, 585, 585, 585, 586, 586, 586, 586, 586, 587, 587, 587, 587, 587, 587, 587, 587, 587, 587, 587, 587, 587, 587, 587, 587, 588, 588, 588, 588, 588, 588, 588, 588, 588, 589, 589, 589, 589, 589, 589, 589, 589, 589, 589, 590, 590, 590, 590, 590, 590, 590, 590, 590, 590, 590, 591, 591, 591, 591, 591, 591, 591, 591, 591, 591, 592, 592, 592, 592, 592, 592, 592, 592, 593, 593, 593, 593, 593, 593, 593, 593, 593, 593, 593, 593, 594, 594, 594, 594, 594, 594, 594, 594, 594, 594, 594, 594, 594, 594, 594, 594, 594, 594, 594, 595, 595, 595, 595, 595, 595, 595, 595, 595, 595, 595, 595, 595, 595, 596, 596, 596, 596, 596, 596, 596, 596, 596, 596, 597, 597, 597, 597, 597, 597, 597, 597, 597, 598, 598, 598, 598, 598, 598, 598, 598, 598, 598, 598, 598, 598, 599, 599, 599, 599, 599, 599, 599, 599, 599, 600, 600, 600, 600, 600, 600, 600, 600, 600, 601, 601, 601, 601, 601, 601, 601, 601, 601, 601, 601, 601, 601, 602, 602, 602, 602, 602, 602, 602, 603, 603, 603, 603, 603, 603, 603, 603, 603, 604, 604, 604, 604, 604, 604, 604, 604, 604, 604, 604, 605, 605, 605, 605, 605, 605, 605, 605, 605, 605, 606, 606, 606, 606, 606, 606, 606, 606, 606, 606, 606, 606, 607, 607, 607, 607, 607, 607, 607, 607, 607, 608, 608, 608, 608, 608, 608, 608, 608, 609, 609, 609, 609, 609, 609, 609, 609, 609, 610, 610, 610, 610, 610, 610, 610, 610, 610, 611, 611, 611, 611, 611, 611, 612, 612, 612, 612, 612, 612, 612, 612, 612, 612, 612, 612, 613, 613, 613, 613, 613, 613, 613, 613, 613, 613, 613, 614, 614, 614, 614, 614, 614, 614, 614, 614, 615, 615, 615, 615, 615, 615, 615, 615, 615, 615, 615, 616, 616, 616, 616, 616, 616, 616, 616, 616, 616, 617, 617, 617, 617, 617, 617, 617, 617, 617, 617, 617, 617, 618, 618, 618, 618, 618, 618, 618, 618, 618, 618, 619, 619, 619, 619, 619, 619, 619, 619, 619, 619, 620, 620, 620, 620, 620, 620, 620, 620, 620, 620, 620, 620, 621, 621, 621, 621, 621, 621, 621, 621, 621, 621, 621, 621, 621, 622, 622, 622, 623, 623, 623, 623, 623, 623, 623, 624, 624, 624, 624, 624, 624, 624, 624, 624, 624, 624, 624, 625, 625, 625, 625, 625, 625, 626, 626, 626, 626, 626, 626, 626, 626, 627, 627, 627, 627, 628, 628, 628, 628, 628, 628, 628, 628, 628, 628, 629, 629, 629, 629, 629, 629, 629, 630, 630, 630, 630, 630, 630, 630, 630, 630, 630, 630, 631, 631, 631, 631, 631, 631, 631, 631, 631, 631, 631, 631, 631, 631, 631, 631, 631, 631, 631, 632, 632, 632, 632, 632, 633, 633, 633, 633, 633, 633, 633, 633, 633, 634, 634, 634, 634, 634, 634, 634, 634, 634, 634, 634, 634, 635, 635, 635, 635, 635, 635, 635, 635, 635, 635, 635, 635, 635, 635, 635, 636, 636, 636, 636, 636, 636, 636, 636, 636, 636, 636, 637, 637, 637, 637, 637, 637, 637, 637, 637, 637, 638, 638, 638, 638, 638, 638, 639, 639, 639, 639, 639, 640, 640, 640, 640, 640, 640, 640, 640, 641, 641, 641, 641, 641, 641, 641, 641, 641, 641, 641, 641, 642, 642, 642, 642, 642, 642, 642, 642, 642, 642, 642, 642, 642, 642, 642, 643, 643, 643, 643, 643, 643, 643, 643, 643, 643, 643, 643, 643, 643, 643, 644, 644, 644, 644, 644, 644, 644, 644, 644, 644, 644, 644, 644, 645, 645, 645, 645, 645, 645, 645, 645, 645, 645, 645, 646, 646, 646, 646, 646, 646, 646, 646, 646, 646, 646, 646, 646, 646, 647, 647, 647, 647, 647, 647, 647, 647, 647, 648, 648, 648, 648, 648, 648, 648, 649, 649, 649, 649, 649, 649, 649, 649, 649, 649, 649, 649, 649, 650, 650, 650, 650, 650, 650, 650, 650, 650, 650, 650, 650, 650, 650, 650, 650, 651, 651, 651, 651, 651, 651, 651, 652, 652, 652, 652, 652, 652, 652, 652, 652, 652, 652, 653, 653, 653, 653, 653, 653, 653, 653, 653, 653, 654, 654, 654, 654, 654, 654, 654, 654, 654, 654, 654, 654, 655, 655, 655, 655, 655, 655, 656, 656, 656, 656, 656, 656, 656, 656, 656, 657, 657, 657, 657, 657, 657, 658, 658, 658, 658, 658, 658, 658, 658, 658, 658, 658, 659, 659, 659, 659, 659, 659, 659, 659, 659, 659, 659, 659, 660, 660, 660, 660, 660, 660, 660, 660, 660, 660, 661, 661, 661, 661, 661, 661, 661, 661, 661, 661, 661, 661, 661, 662, 662, 662, 662, 662, 662, 662, 662, 663, 663, 663, 663, 663, 663, 663, 663, 663, 663, 663, 664, 664, 664, 664, 664, 665, 665, 665, 665, 665, 665, 665, 665, 665, 665, 665, 666, 666, 666, 666, 666, 666, 667, 667, 667, 667, 667, 667, 667, 667, 667, 668, 668, 668, 668, 668, 668, 668, 668, 668, 668, 668, 668, 668, 668, 668, 668, 669, 669, 669, 669, 669, 669, 669, 669, 669, 669, 669, 669, 670, 670, 670, 670, 670, 670, 670, 670, 670, 670, 670, 671, 671, 671, 671, 671, 671, 671, 671, 671, 671, 671, 671, 671, 671, 672, 672, 672, 672, 672, 672, 672, 672, 672, 672, 672, 672, 672, 672, 673, 673, 673, 673, 673, 673, 673, 673, 674, 674, 674, 674, 674, 674, 674, 674, 674, 674, 674, 675, 675, 675, 675, 675, 675, 675, 675, 675, 675, 676, 676, 676, 676, 676, 676, 676, 676, 676, 676, 676, 676, 677, 677, 677, 677, 677, 677, 677, 678, 678, 678, 678, 678, 678, 678, 678, 679, 679, 679, 679, 679, 679, 679, 679, 679, 679, 679, 680, 680, 680, 680, 680, 680, 680, 680, 681, 681, 681, 681, 681, 681, 682, 682, 682, 682, 682, 682, 682, 682, 682, 682, 682, 682, 683, 683, 683, 683, 683, 683, 683, 683, 684, 684, 684, 684, 685, 685, 685, 685, 686, 686, 686, 686, 686, 686, 686, 686, 686, 686, 686, 686, 687, 687, 687, 687, 687, 687, 687, 688, 688, 688, 688, 688, 688, 688, 688, 688, 688, 688, 688, 689, 689, 689, 689, 689, 689, 689, 689, 689, 690, 690, 690, 690, 690, 690, 690, 690, 690, 691, 691, 691, 691, 691, 691, 691, 691, 692, 692, 692, 692, 692, 692, 692, 692, 692, 692, 692, 692, 692, 692, 692, 693, 693, 693, 693, 693, 693, 693, 693, 693, 693, 693, 693, 693, 693, 694, 694, 694, 694, 694, 694, 694, 694, 694, 694, 694, 694, 695, 695, 695, 695, 695, 695, 695, 695, 696, 696, 696, 696, 696, 696, 696, 696, 696, 696, 697, 697, 697, 697, 697, 697, 697, 697, 697, 697, 698, 698, 698, 698, 698, 698, 698, 698, 698, 698, 699, 699, 699, 699, 699, 699, 699, 699, 699, 699, 699, 700, 700, 700, 700, 700, 700, 700, 701, 701, 701, 701, 701, 701, 701, 701, 702, 702, 702, 702, 702, 702, 702, 702, 702, 702, 702, 702, 702, 703, 703, 703, 703, 703, 703, 703, 703, 703, 703, 703, 703, 703, 704, 704, 704, 704, 704, 704, 704, 704, 704, 705, 705, 705, 705, 705, 705, 705, 705, 705, 706, 706, 706, 706, 706, 706, 706, 706, 706, 706, 706, 706, 707, 707, 707, 707, 707, 707, 707, 707, 707, 707, 707, 708, 708, 708, 708, 708, 708, 708, 708, 708, 708, 708, 708, 708, 708, 708, 708, 709, 709, 709, 709, 709, 709, 709, 709, 709, 709, 710, 710, 710, 710, 710, 710, 710, 710, 710, 710, 711, 711, 711, 711, 711, 711, 711, 711, 711, 711, 712, 712, 712, 712, 712, 712, 712, 712, 712, 712, 713, 713, 713, 713, 713, 713, 713, 713, 713, 713, 713, 713, 713, 714, 714, 714, 714, 714, 714, 714, 714, 715, 715, 715, 715, 715, 715, 715, 715, 715, 715, 715, 715, 716, 716, 716, 716, 716, 716, 716, 716, 716, 716, 716, 716, 716, 716, 717, 717, 717, 717, 717, 717, 717, 717, 717, 717, 717, 717, 717, 717, 718, 718, 718, 718, 719, 719, 719, 719, 719, 719, 719, 719, 719, 720, 720, 720, 720, 721, 721, 721, 721, 721, 721, 721, 721, 722, 722, 722, 722, 722, 722, 722, 722, 723, 723, 723, 723, 723, 723, 723, 723, 723, 723, 723, 723, 723, 723, 724, 724, 724, 724, 724, 724, 724, 724, 724, 725, 725, 725, 725, 725, 725, 725, 725, 725, 725, 725, 725, 726, 726, 726, 726, 726, 726, 726, 726, 727, 727, 727, 727, 727, 728, 728, 728, 728, 728, 728, 728, 728, 728, 728, 728, 728, 728, 729, 729, 729, 729, 729, 729, 729, 729, 729, 729, 730, 730, 730, 730, 730, 730, 730, 730, 730, 730, 730, 730, 730, 730, 731, 731, 731, 731, 731, 731, 731, 731, 731, 731, 732, 732, 732, 732, 732, 732, 732, 732, 732, 732, 732, 733, 733, 733, 733, 733, 733, 733, 733, 734, 734, 734, 734, 734, 734, 734, 734, 734, 735, 735, 735, 735, 735, 735, 735, 735, 735, 735, 736, 736, 736, 736, 736, 736, 736, 736, 736, 736, 736, 736, 737, 737, 737, 737, 737, 737, 737, 737, 737, 737, 738, 738, 738, 738, 738, 738, 738, 738, 739, 739, 739, 739, 739, 739, 739, 739, 739, 739, 739, 739, 739, 740, 740, 740, 740, 740, 740, 740, 740, 740, 741, 741, 741, 741, 741, 741, 741, 741, 741, 741, 741, 741, 741, 741, 741, 741, 741, 742, 742, 742, 742, 742, 742, 742, 742, 742, 742, 742, 742, 742, 743, 743, 743, 743, 743, 743, 743, 743, 744, 744, 744, 744, 744, 744, 744, 744, 744, 744, 744, 744, 745, 745, 745, 745, 745, 745, 745, 745, 745, 745, 745, 746, 746, 746, 746, 746, 746, 746, 746, 746, 746, 746, 746, 746, 746, 746, 746, 746, 746, 746, 746, 747, 747, 747, 747, 747, 747, 747, 747, 747, 747, 747, 748, 748, 748, 748, 748, 748, 748, 748, 749, 749, 749, 749, 749, 749, 749, 749, 749, 750, 750, 750, 750, 750, 750, 750, 750, 750, 750, 751, 751, 751, 751, 751, 751, 751, 751, 751, 752, 752, 752, 752, 752, 752, 752, 752, 753, 753, 753, 753, 753, 753, 753, 753, 753, 753, 754, 754, 754, 754, 754, 754, 755, 755, 755, 755, 755, 755, 755, 755, 755, 755, 756, 756, 756, 756, 756, 756, 756, 756, 756, 756, 756, 756, 757, 757, 757, 757, 757, 757, 757, 757, 758, 758, 758, 758, 758, 758, 758, 758, 758, 758, 758, 758, 758, 758, 758, 759, 759, 759, 759, 759, 759, 759, 759, 759, 759, 759, 759, 759, 759, 760, 760, 760, 760, 761, 761, 761, 761, 761, 761, 761, 762, 762, 762, 762, 762, 763, 763, 763, 763, 763, 763, 763, 763, 763, 763, 764, 764, 764, 764, 764, 764, 764, 764, 764, 764, 764, 764, 764, 765, 765, 765, 765, 765, 765, 765, 765, 766, 766, 766, 766, 766, 766, 767, 767, 767, 767, 767, 767, 767, 767, 767, 767, 767, 767, 767, 768, 768, 768, 768, 768, 768, 768, 768, 768, 768, 768, 769, 769, 769, 769, 769, 769, 769, 769, 769, 769, 769, 769, 769, 769, 769, 769, 769, 769, 770, 770, 770, 770, 770, 770, 770, 770, 771, 771, 771, 771, 771, 771, 771, 771, 771, 771, 771, 771, 771, 772, 772, 772, 772, 772, 772, 772, 773, 773, 773, 773, 773, 773, 773, 773, 773, 773, 774, 774, 774, 774, 774, 774, 774, 774, 775, 775, 775, 775, 775, 776, 776, 776, 776, 776, 776, 777, 777, 777, 777, 777, 777, 777, 777, 778, 778, 778, 778, 778, 778, 778, 778, 778, 779, 779, 779, 779, 779, 779, 779, 779, 779, 779, 779, 779, 780, 780, 780, 780, 780, 780, 780, 780, 780, 780, 780, 780, 780, 781, 781, 781, 781, 781, 781, 781, 782, 782, 782, 782, 782, 782, 783, 783, 783, 783, 783, 783, 783, 784, 784, 784, 784, 784, 784, 784, 784, 785, 785, 785, 785, 785, 785, 785, 785, 785, 785, 785, 786, 786, 786, 786, 786, 786, 786, 787, 787, 787, 787, 787, 787, 787, 788, 788, 788, 788, 788, 788, 788, 788, 788, 789, 789, 789, 789, 789, 789, 789, 789, 789, 789, 789, 789, 790, 790, 790, 790, 790, 790, 790, 790, 790, 790, 790, 790, 790, 790, 790, 790, 791, 791, 791, 791, 791, 791, 791, 791, 791, 791, 791, 792, 792, 792, 792, 792, 792, 792, 792, 792, 793, 793, 793, 793, 793, 793, 793, 794, 794, 794, 794, 795, 795, 795, 795, 795, 795, 795, 795, 795, 795, 795, 795, 795, 796, 796, 796, 796, 796, 796, 796, 797, 797, 797, 797, 797, 797, 797, 798, 798, 798, 798, 798, 798, 798, 799, 799, 799, 799, 799, 799, 799, 799, 799, 800, 800, 800, 800, 800, 800, 800, 800, 800, 800, 800, 800, 800, 800, 801, 801, 801, 801, 801, 801, 801, 802, 802, 802, 802, 802, 802, 802, 802, 802, 803, 803, 803, 803, 803, 803, 803, 803, 803, 803, 804, 804, 804, 804, 804, 804, 804, 804, 805, 805, 805, 805, 805, 805, 805, 805, 805, 805, 805, 805, 805, 805, 805, 805, 806, 806, 806, 806, 806, 806, 807, 807, 807, 807, 807, 807, 807, 807, 808, 808, 808, 808, 808, 808, 809, 809, 809, 809, 809, 809, 809, 809, 809, 809, 809, 810, 810, 810, 810, 810, 810, 810, 810, 810, 810, 811, 811, 811, 811, 811, 811, 812, 812, 812, 812, 812, 812, 812, 812, 812, 813, 813, 813, 813, 813, 813, 813, 813, 814, 814, 814, 814, 814, 814, 814, 814, 814, 814, 814, 814, 814, 814, 814, 815, 815, 815, 815, 815, 815, 816, 816, 816, 816, 816, 816, 816, 816, 817, 817, 817, 817, 817, 817, 818, 818, 818, 818, 818, 818, 818, 818, 818, 819, 819, 819, 819, 819, 819, 819, 819, 819, 819, 819, 820, 820, 820, 820, 820, 820, 820, 820, 820, 820, 821, 821, 821, 821, 821, 821, 821, 821, 821, 821, 821, 821, 822, 822, 822, 822, 822, 822, 822, 822, 823, 823, 823, 823, 823, 823, 823, 823, 823, 823, 823, 823, 823, 824, 824, 824, 824, 824, 824, 824, 824, 824, 824, 824, 825, 825, 825, 825, 825, 825, 825, 825, 825, 825, 826, 826, 826, 826, 826, 826, 826, 827, 827, 827, 827, 827, 827, 827, 827, 827, 827, 827, 827, 827, 827, 828, 828, 828, 828, 828, 828, 828, 828, 828, 828, 828, 828, 828, 829, 829, 829, 829, 829, 829, 829, 829, 829, 829, 829, 829, 829, 829, 829, 829, 829, 830, 830, 830, 830, 830, 830, 830, 831, 831, 831, 831, 831, 831, 831, 831, 831, 831, 831, 832, 832, 832, 832, 832, 832, 832, 832, 832, 832, 833, 833, 833, 833, 833, 833, 833, 833, 833, 833, 833, 833, 834, 834, 834, 834, 834, 834, 834, 834, 834, 835, 835, 835, 835, 835, 836, 836, 836, 836, 836, 836, 836, 836, 836, 836, 837, 837, 837, 837, 837, 837, 837, 837, 837, 837, 837, 837, 837, 837, 838, 838, 838, 838, 838, 838, 838, 838, 838, 838, 838, 838, 838, 839, 839, 839, 839, 839, 839, 839, 839, 839, 839, 839, 840, 840, 840, 840, 840, 840, 840, 840, 840, 840, 841, 841, 841, 841, 841, 841, 841, 841, 841, 841, 841, 841, 841, 841, 841, 841, 842, 842, 842, 842, 842, 842, 842, 842, 842, 842, 842, 842, 843, 843, 843, 843, 843, 843, 844, 844, 844, 844, 844, 844, 844, 844, 844, 844, 845, 845, 845, 845, 845, 845, 845, 845, 845, 845, 845, 846, 846, 846, 846, 846, 846, 846, 846, 846, 847, 847, 847, 847, 848, 848, 848, 848, 848, 848, 848, 848, 848, 848, 848, 848, 848, 849, 849, 849, 849, 849, 849, 849, 849, 849, 849, 849, 850, 850, 850, 850, 850, 850, 850, 850, 850, 850, 850, 850, 851, 851, 851, 851, 851, 851, 851, 851, 851, 851, 851, 851, 851, 851, 852, 852, 852, 852, 852, 852, 853, 853, 853, 853, 853, 853, 853, 853, 853, 853, 853, 854, 854, 854, 854, 854, 854, 854, 854, 855, 855, 855, 855, 855, 855, 855, 855, 855, 855, 855, 855, 855, 855, 855, 855, 855, 856, 856, 856, 856, 856, 856, 856, 856, 857, 857, 857, 857, 857, 857, 857, 857, 857, 857, 857, 857, 857, 857, 857, 857, 857, 857, 857, 858, 858, 858, 858, 858, 858, 858, 858, 858, 858, 858, 858, 858, 858, 858, 858, 859, 859, 859, 859, 859, 859, 859, 859, 859, 859, 859, 859, 859, 860, 860, 860, 860, 860, 860, 860, 860, 860, 861, 861, 861, 861, 861, 861, 861, 861, 861, 861, 862, 862, 862, 862, 862, 862, 862, 862, 862, 862, 862, 862, 862, 862, 862, 862, 863, 863, 863, 863, 863, 863, 863, 863, 863, 863, 863, 864, 864, 864, 864, 864, 864, 864, 864, 864, 864, 864, 864, 864, 865, 865, 865, 865, 865, 865, 865, 866, 866, 866, 866, 866, 866, 866, 866, 867, 867, 867, 867, 868, 868, 868, 868, 868, 868, 868, 868, 868, 868, 868, 868, 869, 869, 869, 869, 870, 870, 870, 870, 870, 870, 870, 870, 870, 870, 870, 871, 871, 871, 871, 871, 871, 871, 871, 871, 871, 872, 872, 872, 872, 872, 872, 872, 873, 873, 873, 873, 873, 873, 873, 873, 873, 873, 873, 873, 873, 873, 874, 874, 874, 874, 874, 874, 874, 874, 874, 875, 875, 875, 875, 875, 875, 875, 876, 876, 876, 876, 876, 876, 876, 876, 876, 877, 877, 877, 877, 877, 877, 877, 877, 877, 877, 877, 878, 878, 878, 878, 878, 878, 879, 879, 879, 879, 879, 879, 879, 879, 879, 880, 880, 880, 880, 880, 880, 881, 881, 881, 881, 881, 881, 881, 881, 881, 881, 882, 882, 882, 882, 883, 883, 883, 883, 883, 883, 883, 884, 884, 884, 884, 884, 884, 885, 885, 885, 885, 885, 886, 886, 886, 886, 886, 886, 886, 886, 886, 886, 886, 887, 887, 887, 887, 887, 887, 887, 887, 888, 888, 888, 888, 888, 888, 888, 888, 888, 888, 888, 888, 889, 889, 889, 889, 889, 889, 889, 889, 889, 889, 890, 890, 890, 890, 890, 890, 890, 890, 890, 890, 891, 891, 891, 891, 891, 891, 891, 891, 892, 892, 892, 892, 892, 892, 892, 892, 892, 892, 892, 893, 893, 893, 893, 894, 894, 894, 894, 894, 895, 895, 895, 895, 895, 895, 895, 895, 896, 896, 896, 896, 896, 896, 896, 897, 897, 897, 897, 897, 897, 897, 897, 897, 897, 897, 897, 898, 898, 898, 898, 898, 898, 898, 898, 898, 899, 899, 899, 899, 899, 899, 899, 899, 899, 900, 900, 900, 900, 900, 900, 900, 900, 900, 900, 900, 901, 901, 901, 901, 901, 901, 901, 901, 901, 902, 902, 902, 902, 902, 902, 902, 903, 903, 903, 903, 903, 903, 903, 903, 903, 903, 903, 904, 904, 904, 904, 905, 905, 905, 905, 905, 905, 905, 905, 905, 906, 906, 906, 906, 906, 906, 906, 906, 906, 906, 906, 907, 907, 907, 907, 907, 907, 907, 908, 908, 908, 908, 908, 908, 908, 908, 908, 908, 909, 909, 909, 909, 909, 909, 909, 909, 909, 909, 909, 909, 910, 910, 910, 910, 910, 910, 910, 910, 910, 910, 910, 910, 911, 911, 911, 911, 911, 911, 911, 911, 911, 911, 911, 912, 912, 912, 912, 912, 912, 912, 913, 913, 913, 913, 913, 913, 913, 914, 914, 914, 914, 914, 914, 914, 914, 914, 914, 914, 914, 914, 914, 914, 914, 914, 915, 915, 915, 915, 915, 915, 915, 915, 915, 915, 915, 915, 916, 916, 916, 916, 916, 916, 916, 916, 916, 916, 917, 917, 917, 917, 917, 917, 918, 918, 918, 918, 918, 918, 918, 918, 919, 919, 919, 919, 919, 919, 919, 919, 919, 919, 919, 920, 920, 920, 920, 920, 920, 920, 920, 920, 921, 921, 921, 921, 921, 921, 921, 921, 922, 922, 922, 922, 922, 922, 922, 922, 922, 923, 923, 923, 923, 923, 923, 923, 923, 923, 923, 923, 923, 923, 924, 924, 924, 924, 924, 924, 924, 924, 924, 924, 924, 924, 924, 924, 924, 925, 925, 925, 925, 925, 925, 925, 925, 925, 925, 925, 925, 925, 925, 925, 925, 926, 926, 926, 926, 926, 926, 927, 927, 927, 927, 927, 927, 927, 927, 927, 927, 927, 927, 928, 928, 928, 928, 928, 928, 928, 928, 928, 929, 929, 929, 929, 929, 929, 929, 929, 929, 929, 929, 930, 930, 930, 930, 930, 930, 930, 930, 930, 930, 931, 931, 931, 931, 931, 931, 931, 931, 931, 932, 932, 932, 932, 932, 932, 932, 932, 932, 933, 933, 933, 933, 934, 934, 934, 934, 934, 935, 935, 935, 935, 935, 935, 935, 935, 935, 935, 935, 935, 936, 936, 936, 936, 936, 936, 936, 936, 937, 937, 937, 937, 937, 937, 937, 937, 938, 938, 938, 938, 938, 938, 938, 938, 939, 939, 939, 939, 940, 940, 940, 940, 940, 941, 941, 941, 941, 941, 941, 941, 941, 942, 942, 942, 942, 942, 942, 942, 942, 942, 942, 942, 942, 942, 942, 942, 943, 943, 943, 943, 943, 943, 943, 943, 943, 943, 943, 943, 943, 944, 944, 944, 944, 944, 944, 944, 944, 944, 944, 945, 945, 945, 945, 945, 945, 945, 945, 945, 945, 946, 946, 946, 946, 946, 946, 946, 946, 946, 946, 946, 947, 947, 947, 947, 947, 947, 947, 947, 948, 948, 948, 948, 948, 948, 948, 948, 949, 949, 949, 949, 949, 949, 949, 949, 949, 950, 950, 950, 950, 950, 950, 950, 950, 950, 950, 950, 950, 951, 951, 951, 951, 951, 951, 951, 951, 951, 951, 951, 951, 951, 951, 951, 952, 952, 952, 952, 952, 952, 952, 952, 952, 952, 952, 952, 952, 952, 952, 953, 953, 953, 953, 953, 953, 953, 953, 953, 953, 953, 953, 953, 953, 953, 953, 953, 953, 953, 953, 954, 954, 954, 954, 954, 954, 954, 954, 954, 954, 954, 954, 954, 955, 955, 955, 955, 955, 955, 955, 955, 955, 956, 956, 956, 956, 956, 956, 956, 956, 956, 956, 957, 957, 957, 957, 957, 957, 957, 957, 957, 958, 958, 958, 958, 958, 958, 958, 958, 958, 958, 958, 958, 959, 959, 959, 959, 959, 959, 959, 959, 959, 959, 959, 959, 959, 959, 960, 960, 960, 960, 960, 960, 960, 961, 961, 961, 961, 961, 961, 961, 961, 961, 961, 961, 962, 962, 962, 962, 962, 962, 962, 962, 963, 963, 963, 963, 963, 963, 963, 963, 963, 963, 963, 963, 963, 964, 964, 964, 964, 964, 964, 964, 964, 964, 964, 965, 965, 965, 965, 965, 965, 965, 965, 965, 965, 965, 965, 965, 966, 966, 966, 966, 966, 966, 966, 966, 966, 966, 966, 967, 967, 967, 967, 967, 967, 967, 967, 968, 968, 968, 968, 968, 968, 968, 968, 968, 968, 968, 969, 969, 969, 969, 969, 969, 969, 969, 969, 969, 969, 969, 969, 969, 970, 970, 970, 970, 970, 970, 970, 970, 970, 970, 970, 971, 971, 971, 971, 971, 971, 971, 972, 972, 972, 972, 972, 972, 972, 972, 972, 972, 973, 973, 973, 973, 973, 973, 973, 973, 973, 973, 973, 973, 973, 973, 974, 974, 974, 974, 974, 974, 974, 974, 975, 975, 975, 975, 975, 975, 975, 975, 975, 975, 975, 975, 975, 975, 976, 976, 976, 976, 976, 976, 976, 976, 976, 976, 976, 976, 976, 977, 977, 977, 977, 977, 977, 977, 977, 977, 977, 977, 977, 977, 977, 977, 978, 978, 978, 978, 978, 978, 978, 978, 979, 979, 979, 979, 979, 980, 980, 980, 980, 980, 980, 980, 980, 980, 980, 980, 980, 981, 981, 981, 981, 981, 981, 981, 981, 981, 981, 981, 982, 982, 982, 982, 982, 982, 982, 982, 982, 983, 983, 983, 983, 983, 983, 983, 984, 984, 984, 984, 984, 984, 984, 984, 984, 984, 984, 984, 984, 984, 985, 985, 985, 985, 985, 985, 985, 985, 985, 985, 985, 985, 986, 986, 986, 986, 986, 986, 986, 986, 986, 987, 987, 987, 987, 987, 987, 987, 987, 987, 988, 988, 988, 988, 988, 988, 989, 989, 989, 989, 989, 989, 989, 989, 989, 990, 990, 990, 990, 990, 990, 990, 990, 990, 990, 991, 991, 991, 991, 991, 991, 991, 991, 991, 992, 992, 992, 992, 992, 992, 992, 992, 992, 992, 993, 993, 993, 993, 993, 993, 993, 994, 994, 994, 994, 994, 994, 994, 995, 995, 995, 995, 995, 995, 995, 995, 995, 995, 996, 996, 996, 996, 996, 996, 996, 996, 996, 996, 996, 997, 997, 997, 997, 997, 997, 997, 997, 997, 997, 997, 997, 997, 997, 997, 997, 997, 997, 997, 997, 997, 997, 997, 998, 998, 998, 998, 998, 998, 998, 998, 998, 998, 998, 998, 998, 998, 998, 999, 999, 999, 999, 999, 999, 999, 999, 999, 999, 1000, 1000, 1000, 1000, 1000, 1000, 1000]\n"
          ]
        }
      ]
    },
    {
      "cell_type": "code",
      "source": [
        "#@title ข้อที่ 2 กําหนดให้ตัวแปร data มีค่าเป็น list ของตัวเลข 1-1,000,000 แล้วให้นักศึกษาเขียนโปรแกรมรับ input เป็นตัวเลข 1 ตัวแล้วทําการค้นหาว่ามีตัวเลขดังกล่าวอยู่ที่ตําแหน่งใด โดยให้การทํางานของโปรแกรมนี้มีค่า Big-O เป็น O(log n)\n",
        "import random\n",
        "def binarysearch(array, l, r, x):\n",
        "  if r>= l:\n",
        "    mid = l+(r-l) // 2\n",
        "    if array[mid] == x:\n",
        "      return mid\n",
        "\n",
        "    elif array[mid] >x:\n",
        "      return binarysearch(array, l, mid-1, x)\n",
        "\n",
        "    else:\n",
        "      return binarysearch(array, mid+1, r, x)\n",
        "  else:\n",
        "    return -1\n",
        "\n",
        "num = int(input(\"Enter Number : \"))\n",
        "dat = list(range(1,10001))\n",
        "result = binarysearch(dat, 0, len(dat) -1, num)\n",
        "if result != 1:\n",
        "  print(result)\n",
        "else:\n",
        "  print('not')"
      ],
      "metadata": {
        "id": "t9zTGZVWgCWu",
        "colab": {
          "base_uri": "https://localhost:8080/"
        },
        "cellView": "form",
        "outputId": "b8e82b43-6174-42ba-f237-20912b9de2e4"
      },
      "execution_count": null,
      "outputs": [
        {
          "output_type": "stream",
          "name": "stdout",
          "text": [
            "Enter Number : 172\n",
            "171\n"
          ]
        }
      ]
    },
    {
      "cell_type": "markdown",
      "source": [
        "---\n",
        "# ✅ Lab02 : Data Structure and Applications"
      ],
      "metadata": {
        "id": "gfqd9-szrrzc"
      }
    },
    {
      "cell_type": "markdown",
      "source": [
        "ใบงาน : https://drive.google.com/file/d/14UWQfrMED-85jpnXKkEXRlXEyHDQ8rGV/view"
      ],
      "metadata": {
        "id": "d-C5bmBjrBKH"
      }
    },
    {
      "cell_type": "markdown",
      "source": [
        "##ตอนที่ 1 : ให้นักศึกษาทําโจทย์ต่อไปนี้"
      ],
      "metadata": {
        "id": "uPBBjs9-CkI5"
      }
    },
    {
      "cell_type": "code",
      "source": [
        "#@title ข้อ 1 List : ให้นักศึกษาสร้างฟังก์ชั่น remove_even() ซึ่งเป็นฟังก์ชันที่มี 1 parameter เป็น list ของตัวเลขจํานวนเต็ม แล้วฟังก์ชันจะ return ค่า list ที่มีเฉพาะตัวเลขจํานวนคี่เท่านั้น\n",
        "def remove_even(lst):\n",
        "  for ev in A:\n",
        "    if (ev % 2 == 0):\n",
        "        A.remove(ev)\n",
        "  return lst\n",
        "A = [1,2,3,4,5,6,7]\n",
        "B = remove_even(A)\n",
        "print(B) #[1,3,5,7]"
      ],
      "metadata": {
        "colab": {
          "base_uri": "https://localhost:8080/"
        },
        "id": "3oM_GD1irynF",
        "outputId": "21517f4b-3542-48e2-be7f-c4ac98697ab4",
        "cellView": "form"
      },
      "execution_count": null,
      "outputs": [
        {
          "output_type": "stream",
          "name": "stdout",
          "text": [
            "[1, 3, 5, 7]\n"
          ]
        }
      ]
    },
    {
      "cell_type": "code",
      "source": [
        "#@title ข้อ 2 Linked list : ให้นักศึกษาสร้าง Circular Linked list และมีข้อมูลต่อไปนี้\n",
        "class Node:\n",
        "  def __init__(self, dataval=None):\n",
        "    self.dataval = dataval\n",
        "    self.nextval = None\n",
        "\n",
        "class SLinkedList:\n",
        "  def __init__(self):\n",
        "    self.headval = None\n",
        "\n",
        "  def listprint(self):\n",
        "    printval = self.headval\n",
        "    while printval is not None:\n",
        "      print(printval.dataval)\n",
        "      if self.headval == printval.nextval:\n",
        "        break\n",
        "      printval = printval.nextval\n",
        "\n",
        "list = SLinkedList()\n",
        "list.headval = Node(\"abcd\")\n",
        "node2 = Node(\"efgh\")\n",
        "node3 = Node(\"ijkl\")\n",
        "node4 = Node(\"mnop\")\n",
        "node5 = Node(\"qrst\")\n",
        "node6 = Node(\"uvw\")\n",
        "node7 = Node(\"xyz\")\n",
        "\n",
        "list.headval.nextval = node2\n",
        "node2.nextval = node3\n",
        "node3.nextval = node4\n",
        "node4.nextval = node5\n",
        "node5.nextval = node6\n",
        "node6.nextval = node7\n",
        "node7.nextval = list.headval\n",
        "\n",
        "list.listprint()"
      ],
      "metadata": {
        "colab": {
          "base_uri": "https://localhost:8080/"
        },
        "id": "uP8-kvmVsbMN",
        "outputId": "d7949906-0ae6-4e33-ca52-7630d2532669",
        "cellView": "form"
      },
      "execution_count": null,
      "outputs": [
        {
          "output_type": "stream",
          "name": "stdout",
          "text": [
            "abcd\n",
            "efgh\n",
            "ijkl\n",
            "mnop\n",
            "qrst\n",
            "uvw\n",
            "xyz\n"
          ]
        }
      ]
    },
    {
      "cell_type": "code",
      "source": [
        "#@title ข้อ 3 Stack : ให้นักศึกษาใช้list มาสร้าง stack แล้วนํามาใช้เขียนโปรแกรมนําเข้าตัวอักษรของชื่อนักศึกษาลงใน stack แล้วแสดงผลจากหลังมาหน้า (Reverse)\n",
        "lst_stack = []\n",
        "\n",
        "name = input(\"Type your name ::\")\n",
        "for i in name:\n",
        "  lst_stack.append(i)\n",
        "print (\"Before ::\",name)\n",
        "print(\"After :: \",end=\"\")\n",
        "\n",
        "for j in range(len(lst_stack)):\n",
        "  print (lst_stack.pop(),end=\"\")"
      ],
      "metadata": {
        "colab": {
          "base_uri": "https://localhost:8080/"
        },
        "id": "fvOMm5gMsyBu",
        "outputId": "70f6cfa7-2b54-4583-91e6-4918da1f2e42",
        "cellView": "form"
      },
      "execution_count": null,
      "outputs": [
        {
          "output_type": "stream",
          "name": "stdout",
          "text": [
            "Type your name ::mon\n",
            "Before :: mon\n",
            "After :: nom"
          ]
        }
      ]
    },
    {
      "cell_type": "code",
      "source": [
        "#@title ข้อ 4 Tree : ให้นักศึกษาใช้สร้าง Tree เพื่อใช้ในการเรียงลําดับข้อมูล โดยทดสอบป้อนชุดตัวเลขแบบสุ่มแล้วดึงข้อมูลจาก Tree ให้มีการเรียงลําดับจากมากไปน้อย\n",
        "class Node:\n",
        "  def __init__(self, data):\n",
        "    self.left = None\n",
        "    self.right = None\n",
        "    self.data = data\n",
        "  \n",
        "  def insert(self, data):\n",
        "    if self.data:\n",
        "      if data < self.data:\n",
        "        if self.left is None:\n",
        "          self.left = Node(data)\n",
        "        else:\n",
        "          self.left.insert(data)\n",
        "      elif data > self.data:\n",
        "        if self.right is None:\n",
        "          self.right = Node(data)\n",
        "        else:\n",
        "          self.right.insert(data)\n",
        "\n",
        "  def tree(self):\n",
        "    if self.right:\n",
        "       self.right.tree()\n",
        "    print(self.data, end=\" \")\n",
        "    if self.left:\n",
        "       self.left.tree()\n",
        "\n",
        "num = input(\"Input number ::\")\n",
        "root = Node(num[0])\n",
        "for i in num:\n",
        "  root.insert(i)\n",
        "root.tree()"
      ],
      "metadata": {
        "colab": {
          "base_uri": "https://localhost:8080/"
        },
        "id": "fspnqTnks9wd",
        "outputId": "e34b711e-146b-4702-ad7b-d70eb04238eb",
        "cellView": "form"
      },
      "execution_count": null,
      "outputs": [
        {
          "output_type": "stream",
          "name": "stdout",
          "text": [
            "Input number ::3102547\n",
            "7 5 4 3 2 1 0 "
          ]
        }
      ]
    },
    {
      "cell_type": "markdown",
      "source": [
        "---\n",
        "# ✅ Lab01 : Google Colab and Python"
      ],
      "metadata": {
        "id": "Jp6kV0NZrl-c"
      }
    },
    {
      "cell_type": "markdown",
      "source": [
        "ใบงาน : https://drive.google.com/file/d/1AiYWfrr1C7IiO5xokOly_qQgsRisBsWF/view"
      ],
      "metadata": {
        "id": "Xr9GId9HqxfJ"
      }
    },
    {
      "cell_type": "markdown",
      "source": [
        "##ตอนที่ 1 : คําสั่งรับ input , output , loop และ condition"
      ],
      "metadata": {
        "id": "F1hLKC6mBo1x"
      }
    },
    {
      "cell_type": "code",
      "source": [
        "#@title ข้อ 1 จากโปรแกรมตัวอย่างมีการทํางานอย่างไร\n",
        "a = input(\"input first number \")\n",
        "b = input(\"input second number \")\n",
        "a,b = int(a),int(b)\n",
        "for i in range(a,b):\n",
        "  if i%2==1:\n",
        "    print(i)\n",
        "\n",
        "#แสดงผลเลขคี่ ตั้งแต่จำนวน a ถึง b"
      ],
      "metadata": {
        "colab": {
          "base_uri": "https://localhost:8080/"
        },
        "id": "s_MBnuFdTP4c",
        "outputId": "133c7bb7-1dc7-4235-dd8b-19b51e11b408",
        "cellView": "form"
      },
      "execution_count": null,
      "outputs": [
        {
          "output_type": "stream",
          "name": "stdout",
          "text": [
            "input first number 1\n",
            "input second number 10\n",
            "1\n",
            "3\n",
            "5\n",
            "7\n",
            "9\n"
          ]
        }
      ]
    },
    {
      "cell_type": "code",
      "source": [
        "#@title ข้อ 2 ให้นักศึกษาปรับแก้โปรแกรมตัวอย่างให้เป็นโปรแกรมรับตัวเลข 2 ตัวแล้วแสดงผลรวมของตัวเลขตัวแรกถึงตัวสุดท้าย\n",
        "a = input(\"input first number \")\n",
        "b = input(\"input second number \")\n",
        "a,b = int(a),int(b)\n",
        "n = 0\n",
        "for i in range(a,b+1):\n",
        "  n = n+i\n",
        "print(n)"
      ],
      "metadata": {
        "colab": {
          "base_uri": "https://localhost:8080/"
        },
        "id": "pN0qrwKJVnmb",
        "outputId": "d3e51e99-5a59-49b2-fe81-50e8e557aa46",
        "cellView": "form"
      },
      "execution_count": null,
      "outputs": [
        {
          "output_type": "stream",
          "name": "stdout",
          "text": [
            "input first number 1\n",
            "input second number 10\n",
            "55\n"
          ]
        }
      ]
    },
    {
      "cell_type": "code",
      "source": [
        "#@title ข้อ 3 ให้นักศึกษาเขียนโปรแกรมรับ input เป็นตัวเลขจํานวนเต็ม 1 ตัว แล้วแสดงผลการแยกตัวประกอบของตัวเลขนั้น\n",
        "a = int(input(\"Enter number : \"))\n",
        "factor = []\n",
        "while a>1:\n",
        "  for i in range(2,a+1):\n",
        "    if a%i==0:\n",
        "      factor.append(i)\n",
        "      a//=i\n",
        "      break  \n",
        "print(*factor,sep=\" x \")"
      ],
      "metadata": {
        "id": "NckzkcV_f0Ue",
        "colab": {
          "base_uri": "https://localhost:8080/"
        },
        "outputId": "1968862a-c1fa-469c-ef16-c8c1aac7456c",
        "cellView": "form"
      },
      "execution_count": null,
      "outputs": [
        {
          "output_type": "stream",
          "name": "stdout",
          "text": [
            "Enter number : 64500\n",
            "2 x 2 x 3 x 5 x 5 x 5 x 43\n"
          ]
        }
      ]
    },
    {
      "cell_type": "code",
      "source": [
        "#@title ข้อ 4 โปรแกรมรับ input เป็นตัวเลขจํานวนเต็ม 2 จํานวน แล้วจะแสดงผลค่า ห.ร.ม. ของตัวเลข 2 ตัวนั้น\n",
        "a = int(input(\"Enter first number :\"))\n",
        "b = int(input(\"Enter second number :\"))\n",
        "divisor = min(a, b)\n",
        "while divisor > 0:\n",
        "    if a%divisor == 0 and b%divisor == 0:\n",
        "        print('Greatest common divisor = ', divisor)\n",
        "        break\n",
        "    divisor -= 1"
      ],
      "metadata": {
        "colab": {
          "base_uri": "https://localhost:8080/"
        },
        "id": "a7URI5krboPR",
        "outputId": "9326cdbf-f8f3-423f-e0c4-6ff4821fbcf7",
        "cellView": "form"
      },
      "execution_count": null,
      "outputs": [
        {
          "output_type": "stream",
          "name": "stdout",
          "text": [
            "Enter first number :1000\n",
            "Enter second number :750\n",
            "Greatest common divisor =  250\n"
          ]
        }
      ]
    },
    {
      "cell_type": "code",
      "source": [
        "#@title ข้อ 5 โปรแกรมรับ input เป็นตัวเลขจํานวนเต็ม 1 ตัว แล้วแสดงผลรูปสี่เหลี่ยมจตุรัสกลวงขนาดเท่ากับตัวเลขที่ป้อนบนจอภาพ\n",
        "side = int(input(\"Enter number: \"))\n",
        "\n",
        "for i in range(side):\n",
        "    for n in range(side):\n",
        "        if(i == 0 or i == side-1 or n == 0 or n == side-1):\n",
        "            print('*', end = '')\n",
        "        else:\n",
        "            print(' ', end = '')\n",
        "    print()"
      ],
      "metadata": {
        "colab": {
          "base_uri": "https://localhost:8080/"
        },
        "id": "_Cd32hYTeLwv",
        "outputId": "1fa5dc07-79ab-414a-e016-299eaf4ff7fe",
        "cellView": "form"
      },
      "execution_count": null,
      "outputs": [
        {
          "output_type": "stream",
          "name": "stdout",
          "text": [
            "Enter number: 15\n",
            "***************\n",
            "*             *\n",
            "*             *\n",
            "*             *\n",
            "*             *\n",
            "*             *\n",
            "*             *\n",
            "*             *\n",
            "*             *\n",
            "*             *\n",
            "*             *\n",
            "*             *\n",
            "*             *\n",
            "*             *\n",
            "***************\n"
          ]
        }
      ]
    }
  ]
}