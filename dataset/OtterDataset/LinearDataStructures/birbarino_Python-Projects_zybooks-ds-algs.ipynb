{
 "cells": [
  {
   "cell_type": "markdown",
   "metadata": {},
   "source": [
    "# C949 - Data Structures and Algorithms\n"
   ]
  },
  {
   "cell_type": "markdown",
   "metadata": {},
   "source": [
    "## 1. Intro"
   ]
  },
  {
   "cell_type": "markdown",
   "metadata": {},
   "source": [
    "### 1.1 Data Structures"
   ]
  },
  {
   "cell_type": "markdown",
   "metadata": {},
   "source": [
    "Some different types of DS's\n",
    "- <u>Record</u>: Stores subitems (fields) with a name associated with each subitem (like a key val pairs, I imagine?)\n",
    "- <u>Array</u>: Ordered list of items. Each item is directly accessible based on positional index\n",
    "  - Adding to the end of an array requires no items to be shifted in terms of their positional indices, but adding an item anywhere else in the list, including the beginning, requires higher-indexed items to be shifted.\n",
    "- <u>Linked list</u>: Ordered list of items in nodes, node stores pointer to next node\n",
    "- <u>Binary tree</u>: Each node stores data and has up to 2 (bi-) children (left and right child)\n",
    "- <u>Hash table</u>: Unordered items located by mapping/hashing each item to a location in an array\n",
    "- <u>Heap</u>: \n",
    "  - <u>Max-heap</u>: Tree where a parent node has a key >= child node keys\n",
    "  - <u>Min-heap</u>: Tree where parent node has a key <= child node keys\n",
    "- <u>Graph</u>: Represents cnxns among items. Consists of vertices connected by edges. **Vertex** represents an item in a graph, **edge** represents the connection between two vertices."
   ]
  },
  {
   "cell_type": "markdown",
   "metadata": {},
   "source": [
    "### 1.3 Algorithms"
   ]
  },
  {
   "cell_type": "markdown",
   "metadata": {},
   "source": [
    "An algorithm is a sequence of steps to solve a **computational problem** or do a calculation.\n",
    "\n",
    "A **computational problem** defines the input, a question about the input, and the desired output."
   ]
  },
  {
   "cell_type": "markdown",
   "metadata": {},
   "source": [
    "Data structures define how data is organized and stored, as well as how operations (algorithms) are performed on them. Different data structures use different algorithms to do things like sort, search, insert, or delete elements. For example, sorting an array would be entirely different from sorting a linked list."
   ]
  },
  {
   "cell_type": "markdown",
   "metadata": {},
   "source": [
    "### 1.5 Abstract Data Types"
   ]
  },
  {
   "cell_type": "markdown",
   "metadata": {},
   "source": [
    "ADTs are data types described by predefined user operations (insert data at front). It is not indicated how each operation is performed. An ADT can be implemented using different data structures.\n",
    "\n",
    "A list is a common ADT for holding ordered data. It has operations like appending an item, removing an item, searching an item, and printing the list. Typically, list ADTs are implemented with Arrays or Linked List data structures.\n",
    "\n",
    "ADTs underlying data structure may still impact performance/program execution \n",
    "\n",
    "You don't really need to know the implementation of a list ADT in order to use the list. Apparently."
   ]
  },
  {
   "cell_type": "markdown",
   "metadata": {},
   "source": [
    "Common ADTs\n",
    "| ADT | Desc | Common Underlying DS |\n",
    "| --- | ---- | -------------------- |\n",
    "| List | Holds ordered data | Array, Linked list |\n",
    "| Dynamic Array | Holds ordered data and allows indexed access | Array |\n",
    "| Stack | Holds items that are inserted on/removed from the top of a stack (like plates at a buffet) | Linked list |\n",
    "| Queue | Remove from front, insert at back | Linked list |\n",
    "| Deque | (Pro. \"deck\") Insert and remove at front and back | Linked list |\n",
    "| Bag | Storing items where dupes are allowed and order does not matter | Array, Linked list |\n",
    "| Set | Collection of distinct items | Binary search tree, hash table |\n",
    "| Priority Queue | Each item in a queue has a priority, higher pri items are closer to the front of the queue than lower pri ones. | Heap |\n",
    "| Dictionary (map) | Assocs. keys with values | Hash table, binary search tree |\n"
   ]
  },
  {
   "cell_type": "markdown",
   "metadata": {},
   "source": [
    "### 1.6 Application of ADTs"
   ]
  },
  {
   "cell_type": "markdown",
   "metadata": {},
   "source": [
    "<u>Abstraction and Optimization</u>\n",
    "- something"
   ]
  },
  {
   "cell_type": "markdown",
   "metadata": {},
   "source": [
    "### 1.8 Huffman Compression"
   ]
  },
  {
   "cell_type": "markdown",
   "metadata": {},
   "source": [
    "### 1.9 Heuristics"
   ]
  },
  {
   "cell_type": "markdown",
   "metadata": {},
   "source": [
    "### 1.11 Python: Greedy Algorithms"
   ]
  },
  {
   "cell_type": "markdown",
   "metadata": {},
   "source": [
    "## Labs"
   ]
  },
  {
   "cell_type": "markdown",
   "metadata": {},
   "source": [
    "### 1.7 Intro to Data Structures"
   ]
  },
  {
   "cell_type": "markdown",
   "metadata": {},
   "source": []
  },
  {
   "cell_type": "code",
   "execution_count": null,
   "metadata": {},
   "outputs": [],
   "source": []
  }
 ],
 "metadata": {
  "kernelspec": {
   "display_name": "Python 3",
   "language": "python",
   "name": "python3"
  },
  "language_info": {
   "codemirror_mode": {
    "name": "ipython",
    "version": 3
   },
   "file_extension": ".py",
   "mimetype": "text/x-python",
   "name": "python",
   "nbconvert_exporter": "python",
   "pygments_lexer": "ipython3",
   "version": "3.13.0"
  }
 },
 "nbformat": 4,
 "nbformat_minor": 2
}
