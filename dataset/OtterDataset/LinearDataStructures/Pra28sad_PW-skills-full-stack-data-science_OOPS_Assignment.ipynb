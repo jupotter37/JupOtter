{
  "cells": [
    {
      "cell_type": "markdown",
      "metadata": {
        "id": "view-in-github",
        "colab_type": "text"
      },
      "source": [
        "<a href=\"https://colab.research.google.com/github/Pra28sad/PW-skills-full-stack-data-science/blob/main/OOPS_Assignment.ipynb\" target=\"_parent\"><img src=\"https://colab.research.google.com/assets/colab-badge.svg\" alt=\"Open In Colab\"/></a>"
      ]
    },
    {
      "cell_type": "markdown",
      "id": "88366a01",
      "metadata": {
        "id": "88366a01"
      },
      "source": [
        "# OOPS ASSIGNMENT"
      ]
    },
    {
      "cell_type": "markdown",
      "id": "01be9fa9",
      "metadata": {
        "id": "01be9fa9"
      },
      "source": [
        "## Constructor:"
      ]
    },
    {
      "cell_type": "markdown",
      "id": "45336ffc",
      "metadata": {
        "id": "45336ffc"
      },
      "source": [
        "### 1. What is a constructor in Python? Explain its purpose and usage."
      ]
    },
    {
      "cell_type": "raw",
      "id": "776ca94e",
      "metadata": {
        "id": "776ca94e"
      },
      "source": [
        "In Python, a constructor is a special method used for initializing the attributes or properties of an object when it is created. It is defined within a class and has the same name as the class itself. The primary purpose of a constructor is to set up the initial state of an object by assigning values to its attributes.\n",
        "\n",
        "In Python, the constructor is defined using the __init__ method.\n",
        "\n",
        "When you create an instance of the class, the __init__ method is automatically called.\n",
        "\n",
        "Constructors are crucial for ensuring that objects are properly initialized and ready for use when they are created. They help encapsulate the initialization logic within the class, making the code more organized and maintainable."
      ]
    },
    {
      "cell_type": "markdown",
      "id": "f6d932fa",
      "metadata": {
        "id": "f6d932fa"
      },
      "source": [
        "### 2. Differentiate between a parameterless constructor and a parameterized constructor in Python."
      ]
    },
    {
      "cell_type": "raw",
      "id": "773aa20c",
      "metadata": {
        "id": "773aa20c"
      },
      "source": [
        "\n",
        "In Python, constructors can be broadly categorized into two types: parameterless constructors and parameterized constructors.\n",
        "\n",
        "1)Parameterless Constructor:\n",
        "\n",
        "A parameterless constructor, also known as a default constructor, is a constructor that takes no parameters.\n",
        "\n",
        "It is defined using the __init__ method without any additional parameters, except for the mandatory self.\n",
        "\n",
        "Its purpose is to initialize the object with default values or set up the initial state without requiring any external input.\n",
        "\n",
        "2)Parameterized Constructor:\n",
        "\n",
        "A parameterized constructor is a constructor that takes one or more parameters, allowing you to pass values during the object's initialization.\n",
        "\n",
        "It is defined using the __init__ method with additional parameters, apart from the mandatory self.\n",
        "\n",
        "Its purpose is to initialize the object with values provided during the object creation, allowing for customization."
      ]
    },
    {
      "cell_type": "code",
      "execution_count": null,
      "id": "554eed03",
      "metadata": {
        "id": "554eed03"
      },
      "outputs": [],
      "source": [
        "#example for first one\n",
        "class ParameterlessConstructorExample:\n",
        "    def __init__(self):\n",
        "        self.default_value = \"Default\"\n",
        "\n",
        "obj = ParameterlessConstructorExample()\n",
        "\n",
        "#example for second one\n",
        "class ParameterizedConstructorExample:\n",
        "    def __init__(self, value1, value2):\n",
        "        self.attribute1 = value1\n",
        "        self.attribute2 = value2\n",
        "obj1 = ParameterizedConstructorExample(10,20)"
      ]
    },
    {
      "cell_type": "markdown",
      "id": "64f37f47",
      "metadata": {
        "id": "64f37f47"
      },
      "source": [
        "### 3. How do you define a constructor in a Python class? Provide an example."
      ]
    },
    {
      "cell_type": "code",
      "execution_count": null,
      "id": "5766d1e8",
      "metadata": {
        "id": "5766d1e8",
        "outputId": "8fb2da01-76e2-4e0a-bc83-4148e43c0043"
      },
      "outputs": [
        {
          "name": "stdout",
          "output_type": "stream",
          "text": [
            "Prasad\n",
            "20\n"
          ]
        }
      ],
      "source": [
        "class sample:\n",
        "    #here iam creating constructor with the name and age attributes\n",
        "    def __init__(self,name,age):\n",
        "        self.name=name\n",
        "        self.age = 20\n",
        "\n",
        "ob = sample(\"Prasad\",20) #creating objects\n",
        "\n",
        "print(ob.name)\n",
        "print(ob.age)"
      ]
    },
    {
      "cell_type": "markdown",
      "id": "6e4b6c1a",
      "metadata": {
        "id": "6e4b6c1a"
      },
      "source": [
        "### 4. Explain the `__init__` method in Python and its role in constructors."
      ]
    },
    {
      "cell_type": "raw",
      "id": "1efa8a19",
      "metadata": {
        "id": "1efa8a19"
      },
      "source": [
        "In Python, the __init__ method is a special method or dunder method that plays a crucial role in constructors. It is also known as the constructor method. The primary purpose of the __init__ method is to initialize the attributes or properties of an object when it is created.\n",
        "\n",
        "Here are some key points about the __init__ method:\n",
        "\n",
        "Initialization: The __init__ method is automatically called when an instance of a class is created. It initializes the object's attributes with the values provided during the object's instantiation.\n",
        "\n",
        "Self Parameter: The first parameter of the __init__ method is always self. It is a reference to the instance of the class and is required in all instance methods. When the object is created, self allows access to the instance's attributes and methods.\n",
        "\n",
        "User-Defined Parameters: Besides self, the __init__ method can take additional parameters. These parameters allow you to pass values during the object's creation, which can then be used to initialize the object's attributes.\n",
        "\n",
        "Attribute Assignment: Inside the __init__ method, you typically see attribute assignments using the self keyword. These assignments bind the values passed as parameters to the corresponding attributes of the instance\n"
      ]
    },
    {
      "cell_type": "markdown",
      "id": "319edfc3",
      "metadata": {
        "id": "319edfc3"
      },
      "source": [
        "### 5. In a class named `Person`, create a constructor that initializes the `name` and `age` attributes. Provide an example of creating an object of this class."
      ]
    },
    {
      "cell_type": "code",
      "execution_count": null,
      "id": "915404a0",
      "metadata": {
        "id": "915404a0",
        "outputId": "eb4883d9-9c9b-4913-e8c4-2bdb9d66cc69"
      },
      "outputs": [
        {
          "name": "stdout",
          "output_type": "stream",
          "text": [
            "prasad 20\n"
          ]
        }
      ],
      "source": [
        "class person:\n",
        "    def __init__(self,name ,age):\n",
        "        self.name = name\n",
        "        self.age = age\n",
        "\n",
        "ob = person(\"prasad\",20)\n",
        "print(ob.name,ob.age)"
      ]
    },
    {
      "cell_type": "markdown",
      "id": "b845d8c4",
      "metadata": {
        "id": "b845d8c4"
      },
      "source": [
        "### 6. How can you call a constructor explicitly in Python? Give an example."
      ]
    },
    {
      "cell_type": "code",
      "execution_count": null,
      "id": "3d1539f6",
      "metadata": {
        "id": "3d1539f6",
        "outputId": "cfad42f3-c4ac-4da5-b26f-6034ad99ccfd"
      },
      "outputs": [
        {
          "name": "stdout",
          "output_type": "stream",
          "text": [
            "after called constructor result is : prasad 20\n",
            "after called constructor result is : prasad reddy 20\n"
          ]
        }
      ],
      "source": [
        "class person:\n",
        "    def __init__(self,name):\n",
        "        self.name = name\n",
        "        self.age = 20\n",
        "        print(f\"after called constructor result is : {self.name} {self.age}\")\n",
        "\n",
        "#implicity calling by creating instance\n",
        "ob = person(\"prasad\")\n",
        "\n",
        "\n",
        "#explicity calling\n",
        "ob2 = person.__init__(ob,\"prasad reddy\")\n",
        ""
      ]
    },
    {
      "cell_type": "markdown",
      "id": "011d2ce0",
      "metadata": {
        "id": "011d2ce0"
      },
      "source": [
        "### 7. What is the significance of the `self` parameter in Python constructors? Explain with an example."
      ]
    },
    {
      "cell_type": "raw",
      "id": "6f72668d",
      "metadata": {
        "id": "6f72668d"
      },
      "source": [
        "by using The self parameter in constructers to refer the instance variables and methods within the class\n",
        "\n",
        "> Indented block\n",
        "\n"
      ]
    },
    {
      "cell_type": "markdown",
      "id": "4743d8ce",
      "metadata": {
        "id": "4743d8ce"
      },
      "source": [
        "### 8. Discuss the concept of default constructors in Python. When are they used?"
      ]
    },
    {
      "cell_type": "raw",
      "id": "f6a14e89",
      "metadata": {
        "id": "f6a14e89"
      },
      "source": [
        "In Python, a default constructor is a constructor that is automatically\n",
        "\n",
        "---\n",
        "\n",
        "provided by the language if you don't explicitly define one in your class. The default constructor takes no arguments other than self, which represents the instance of the class. If you don't define an __init__ method in your class, Python provides a default constructor for you.\n",
        "\n",
        "Default constructors are used when you want to create instances of a class without specifying any initial values. If you don't define a custom constructor (__init__ method), Python provides a default one that initializes the object without any additional parameters.\n",
        "\n",
        "It's important to note that if you define your own __init__ method in the class, it will override the default constructor. In such cases, you can explicitly handle the initialization of instance variables and other setup logic within your custom constructor."
      ]
    },
    {
      "cell_type": "markdown",
      "id": "05d749f2",
      "metadata": {
        "id": "05d749f2"
      },
      "source": [
        "### 9. Create a Python class called `Rectangle` with a constructor that initializes the `width` and `height` attributes. Provide a method to calculate the area of the rectangle."
      ]
    },
    {
      "cell_type": "code",
      "execution_count": null,
      "id": "cd0a9855",
      "metadata": {
        "id": "cd0a9855",
        "outputId": "1491c1d7-cb23-4c58-ce7a-58cf77391fc7"
      },
      "outputs": [
        {
          "name": "stdout",
          "output_type": "stream",
          "text": [
            "Area of a rectangle is : 140\n"
          ]
        }
      ],
      "source": [
        "class Rectangle:\n",
        "    def __init__(self,width,height):\n",
        "        self.width = width\n",
        "        self.height = height\n",
        "\n",
        "    def area(self):\n",
        "        result = self.width * self.height\n",
        "        print(f\"Area of a rectangle is : {result}\")\n",
        "\n",
        "prasad = Rectangle(width = 20,height = 7)\n",
        "prasad.area()"
      ]
    },
    {
      "cell_type": "markdown",
      "id": "3994a489",
      "metadata": {
        "id": "3994a489"
      },
      "source": [
        "### 10. How can you have multiple constructors in a Python class? Explain with an example."
      ]
    },
    {
      "cell_type": "raw",
      "id": "49cd444e",
      "metadata": {
        "id": "49cd444e"
      },
      "source": [
        "Python does not support explicit multiple constructors, yet there are some ways using which multiple constructors can be achieved. If multiple __init__ methods are written for the same class, then the latest one overwrites all the previous constructors and the reason for this can be, python stores all the function names in a class as key in a dictionary so, when a new function is defined with the same name, the key remains the same but the value gets overridden by the new function body.\n",
        "\n",
        "we can create multilple constructers in different manner:\n",
        "  1) by using *args in __init__ method\n",
        "  2) by using @classmethod decorator\n",
        "\n"
      ]
    },
    {
      "cell_type": "code",
      "execution_count": null,
      "id": "2e02a3c5",
      "metadata": {
        "id": "2e02a3c5",
        "outputId": "bf51d6b6-23f6-4300-ed03-fe6dee219ac0"
      },
      "outputs": [
        {
          "name": "stdout",
          "output_type": "stream",
          "text": [
            "The sum is: 15\n",
            "The square of 5 is: 25\n",
            "Hello, prasad!\n",
            "please check about this : tuple index out of range\n"
          ]
        }
      ],
      "source": [
        "class Sample:\n",
        "    def __init__(self, *args):\n",
        "        if len(args) == 1 and isinstance(args[0],(int,float)):\n",
        "            print(f\"The square of {args[0]} is: {args[0]**2}\")\n",
        "\n",
        "        elif len(args) > 1 and all(isinstance(arg,(int,float))for arg in args):\n",
        "            self.summ = 0\n",
        "            for i in args:\n",
        "                self.summ += i\n",
        "            print(f\"The sum is: {self.summ}\")\n",
        "\n",
        "        elif isinstance(args[0], str):\n",
        "            print(f\"Hello, {args[0]}!\")\n",
        "\n",
        "# Creating instances of the Sample class with different arguments\n",
        "try:\n",
        "    s1 = Sample(1, 2, 3, 4, 5)   # Calculates the sum\n",
        "    s2 = Sample(5)               # Calculates the square\n",
        "    s3 = Sample(\"prasad\")        # Greets with a string\n",
        "    s4 = Sample()                # Does not match any condition, does nothing\n",
        "except Exception as e:\n",
        "    print(f\"please check about this : {e}\")"
      ]
    },
    {
      "cell_type": "markdown",
      "id": "312bc9ae",
      "metadata": {
        "id": "312bc9ae"
      },
      "source": [
        "### 11. What is method overloading, and how is it related to constructors in Python?"
      ]
    },
    {
      "cell_type": "raw",
      "id": "61df46ad",
      "metadata": {
        "id": "61df46ad"
      },
      "source": [
        "Method overloading refers to the ability of a class to define multiple methods\n",
        "\n",
        "1.   List item\n",
        "2.   List item\n",
        "\n",
        "with the same name but different signatures (different parameters or different types of parameters). The idea is to provide flexibility and make the code more readable by allowing a method to perform different actions based on the number or types of its parameters.\n",
        "\n",
        "In Python, method overloading is achieved in a different way compared to some other languages like Java or C++. Python does not support true method overloading in the traditional sense, where you can define multiple methods with the same name but different parameter lists. Instead, method overloading in Python is based on default parameter values and variable-length argument lists.\n",
        "\n",
        "Now, let's relate this concept to constructors in Python. In a class, the constructor is a special method named __init__, and it is automatically called when an object is created. While Python doesn't support traditional method overloading, you can use default parameter values and variable-length argument lists to achieve similar functionality.\n",
        "\n",
        "Here's an example to illustrate method overloading in the context of constructors:\n",
        "\n"
      ]
    },
    {
      "cell_type": "code",
      "execution_count": null,
      "id": "19e6074d",
      "metadata": {
        "id": "19e6074d",
        "outputId": "bd8d42f1-cc81-4058-84c8-8ddcfc594317"
      },
      "outputs": [
        {
          "name": "stdout",
          "output_type": "stream",
          "text": [
            "Default constructor\n",
            "Constructor with one argument: 10\n",
            "Constructor with two arguments: 20, 30\n",
            "Invalid number of arguments\n"
          ]
        }
      ],
      "source": [
        "#example\n",
        "class MyClass:\n",
        "    def __init__(self, *args):\n",
        "        if len(args) == 0:\n",
        "            print(\"Default constructor\")\n",
        "\n",
        "        elif len(args) == 1:\n",
        "            print(f\"Constructor with one argument: {args[0]}\")\n",
        "\n",
        "        elif len(args) == 2:\n",
        "            print(f\"Constructor with two arguments: {args[0]}, {args[1]}\")\n",
        "\n",
        "        else:\n",
        "            print(\"Invalid number of arguments\")\n",
        "\n",
        "# Creating instances of MyClass with different numbers of arguments\n",
        "obj1 = MyClass()           # Default constructor\n",
        "obj2 = MyClass(10)         # Constructor with one argument\n",
        "obj3 = MyClass(20, 30)     # Constructor with two arguments\n",
        "obj4 = MyClass(40, 50, 60) # Invalid number of arguments\n"
      ]
    },
    {
      "cell_type": "markdown",
      "id": "54e6f4ed",
      "metadata": {
        "id": "54e6f4ed"
      },
      "source": [
        "### 12. Explain the use of the `super()` function in Python constructors. Provide an example."
      ]
    },
    {
      "cell_type": "raw",
      "id": "9965709d",
      "metadata": {
        "id": "9965709d"
      },
      "source": [
        "In Python, the super() function is used to call methods from a parent or superclass. It is commonly used in constructors to invoke the constructor of the parent class. This is useful when you are working with inheritance and want to initialize attributes or perform some actions from the parent class before customizing behavior in the child class.\n",
        "\n",
        "> Indented block\n",
        "\n"
      ]
    },
    {
      "cell_type": "code",
      "execution_count": null,
      "id": "2fa7d3fe",
      "metadata": {
        "id": "2fa7d3fe",
        "outputId": "aa42a630-8d0b-4c50-e4b6-0b05c67fce49"
      },
      "outputs": [
        {
          "name": "stdout",
          "output_type": "stream",
          "text": [
            "Parent name : Raju\n",
            "ChildClass constructor called with name: Raju, age: 20\n"
          ]
        }
      ],
      "source": [
        "#example\n",
        "\n",
        "class Parent:\n",
        "    def __init__(self,name):\n",
        "        self.name = \"Raju\"\n",
        "        print(f\"Parent name : {self.name}\")\n",
        "\n",
        "class Child(Parent):\n",
        "    def __init__(self,name,age):\n",
        "        super().__init__(name)\n",
        "        self.age = age\n",
        "        print(f\"ChildClass constructor called with name: {self.name}, age: {self.age}\")\n",
        "\n",
        "c_obj = Child(\"prasad\",20)"
      ]
    },
    {
      "cell_type": "markdown",
      "id": "6e4642ee",
      "metadata": {
        "id": "6e4642ee"
      },
      "source": [
        "### 13. Create a class called `Book` with a constructor that initializes the `title`, `author`, and `published_year` attributes. Provide a method to display book details."
      ]
    },
    {
      "cell_type": "code",
      "execution_count": null,
      "id": "49a26229",
      "metadata": {
        "id": "49a26229",
        "outputId": "99b5cacd-527b-4657-a9ee-a29d5df82aa1"
      },
      "outputs": [
        {
          "name": "stdout",
          "output_type": "stream",
          "text": [
            "Title: The Great Gatsby\n",
            "Author: F. Scott Fitzgerald\n",
            "Published Year: 1925\n"
          ]
        }
      ],
      "source": [
        "class Book:\n",
        "    def __init__(self, title, author, published_year):\n",
        "        self.title = title\n",
        "        self.author = author\n",
        "        self.published_year = published_year\n",
        "\n",
        "    def display_details(self):\n",
        "        print(f\"Title: {self.title}\")\n",
        "        print(f\"Author: {self.author}\")\n",
        "        print(f\"Published Year: {self.published_year}\")\n",
        "\n",
        "# Creating an instance of the Book class\n",
        "book1 = Book(title=\"The Great Gatsby\", author=\"F. Scott Fitzgerald\", published_year=1925)\n",
        "\n",
        "# Displaying book details using the display_details method\n",
        "book1.display_details()\n"
      ]
    },
    {
      "cell_type": "markdown",
      "id": "f18badd4",
      "metadata": {
        "id": "f18badd4"
      },
      "source": [
        "### 14. Discuss the differences between constructors and regular methods in Python classes."
      ]
    },
    {
      "cell_type": "raw",
      "id": "e7012c05",
      "metadata": {
        "id": "e7012c05"
      },
      "source": [
        "\n",
        "\n",
        "1.   List item\n",
        "2.   List item\n",
        "\n",
        "\n",
        "Constructors and regular methods in Python classes serve different purposes and have distinct characteristics. Let's discuss the key differences between constructors and regular methods:\n",
        "\n",
        "Purpose:\n",
        "\n",
        "Constructor (__init__): The primary purpose of a constructor is to initialize the attributes of an object when it is created. It is automatically called when an object is instantiated from a class.\n",
        "Regular Method: Regular methods perform specific actions or operations on the object. They can be called explicitly by the object or the class.\n",
        "Naming:\n",
        "\n",
        "Constructor (__init__): The constructor has a special name __init__. It is automatically called when an object is created.\n",
        "Regular Method: Regular methods have arbitrary names, and you need to call them explicitly.\n",
        "Invocation:\n",
        "\n",
        "Constructor (__init__): Constructors are automatically invoked when an object is created. They set up initial values for the object's attributes.\n",
        "Regular Method: Regular methods need to be explicitly called using an object or the class name.\n",
        "Return Value:\n",
        "\n",
        "Constructor (__init__): The __init__ method does not explicitly return a value. Its primary purpose is to initialize the object.\n",
        "Regular Method: Regular methods can have a return statement, and they may return values based on the logic defined within the method.\n",
        "Initialization:\n",
        "\n",
        "Constructor (__init__): Initializes the object's attributes, typically setting initial values based on the parameters passed during object creation.\n",
        "Regular Method: Performs specific actions or computations based on the current state of the object. It may also modify the object's attributes.\n",
        "Usage:\n",
        "\n",
        "Constructor (__init__): Used for initializing object attributes and setting up the initial state of the object. It runs automatically when an object is created.\n",
        "Regular Method: Used for performing specific actions or operations on the object. It needs to be explicitly called by the user."
      ]
    },
    {
      "cell_type": "markdown",
      "id": "7cac5c3f",
      "metadata": {
        "id": "7cac5c3f"
      },
      "source": [
        "### 15. Explain the role of the `self` parameter in instance variable initialization within a constructor."
      ]
    },
    {
      "cell_type": "raw",
      "id": "9a93ad53",
      "metadata": {
        "id": "9a93ad53"
      },
      "source": [
        "In Python, the self parameter in a constructor plays a crucial role in instance variable initialization. The self parameter represents the instance of the class, and it allows you to refer to the instance variables within the class. When you create an object from a class and call its constructor, the self parameter is automatically passed to the constructor, referring to the newly created instance.\n",
        "\n",
        "Let's break down the role of the self parameter in the context of instance variable initialization within a constructor:\n",
        "\n",
        "Reference to the Instance:\n",
        "\n",
        "When an object is created from a class, the self parameter in the constructor refers to the instance of the class that is being created.\n",
        "It is a convention in Python to use the name self for this parameter, although you could technically use any valid variable name.\n",
        "\n",
        "Instance Variables:\n",
        "\n",
        "Inside the constructor, you use self to create and initialize instance variables. Instance variables are attributes that are specific to each instance of the class.\n",
        "By using self.variable_name, you associate the variable with the instance of the class.\n",
        "\n",
        "Access to Instance Variables Across Methods:\n",
        "\n",
        "Since self refers to the instance of the class, it allows you to access and modify instance variables not only within the constructor but also across other methods of the class.\n",
        "This enables consistent access to and manipulation of instance variables throughout the class."
      ]
    },
    {
      "cell_type": "markdown",
      "id": "918bd6e6",
      "metadata": {
        "id": "918bd6e6"
      },
      "source": [
        "### 17. Create a Python class called `Student` with a constructor that takes a list of subjects as a parameter and initializes the `subjects` attribute."
      ]
    },
    {
      "cell_type": "code",
      "execution_count": null,
      "id": "ffbd8d93",
      "metadata": {
        "id": "ffbd8d93",
        "outputId": "ad70386c-9474-498f-8021-269282a1fda7"
      },
      "outputs": [
        {
          "name": "stdout",
          "output_type": "stream",
          "text": [
            "['maths', 'c language', 'Python']\n"
          ]
        }
      ],
      "source": [
        "class Student:\n",
        "    def __init__(self,*subjects):\n",
        "        self.subjects = list(subjects)\n",
        "\n",
        "\n",
        "student1 =Student(\"maths\",\"c language\",\"Python\")\n",
        "print(student1.subjects)"
      ]
    },
    {
      "cell_type": "markdown",
      "id": "38914c7d",
      "metadata": {
        "id": "38914c7d"
      },
      "source": [
        "### 18. What is the purpose of the `__del__` method in Python classes, and how does it relate to constructors?"
      ]
    },
    {
      "cell_type": "raw",
      "id": "04a245fb",
      "metadata": {
        "id": "04a245fb"
      },
      "source": [
        "The __del__ method in Python is a special method that is called when an object\n",
        "\n",
        "*   List item\n",
        "*   List item\n",
        "\n",
        "is about to be destroyed, or garbage collected. Its primary purpose is to perform cleanup actions before the object is removed from memory. This method is part of the Python data model and is called automatically when an object goes out of scope or is explicitly deleted using the del statement.\n",
        "\n",
        "Here are some key points about the __del__ method:\n",
        "\n",
        "Cleanup Actions:\n",
        "\n",
        "The __del__ method allows you to define cleanup actions or perform resource deallocation before the object is removed from memory.\n",
        "It is commonly used to release resources such as closing files, network connections, or releasing memory allocated by the object.\n",
        "\n",
        "Automatic Invocation:\n",
        "\n",
        "The __del__ method is called automatically by the Python interpreter when an object is being garbage collected.\n",
        "Garbage collection is the process of reclaiming memory occupied by objects that are no longer in use or referenced.\n",
        "\n",
        "Unpredictable Timing:\n",
        "\n",
        "The exact timing of when __del__ is called is not guaranteed. It depends on the garbage collector's decisions and may vary across different Python implementations.\n",
        "\n",
        "Not a Destructor:\n",
        "\n",
        "While the __del__ method is often informally referred to as a \"destructor,\" it is not a true destructor in the sense of some other programming languages. It is more accurately described as a finalizer.\n",
        "\n",
        "Now, let's discuss the relationship between the __del__ method and constructors (__init__ method):\n",
        "\n",
        "Constructor (__init__):\n",
        "\n",
        "The __init__ method is a constructor and is used to initialize the object's attributes when it is created.\n",
        "It is called automatically when an object is instantiated from a class.\n",
        "\n",
        "__del__ vs. __init__:\n",
        "\n",
        "__init__ is called during the object's creation phase, setting up its initial state.\n",
        "__del__ is called during the object's destruction phase, just before it is removed from memory.\n",
        "\n",
        "Here's a simple example to illustrate the use of __del__:"
      ]
    },
    {
      "cell_type": "code",
      "execution_count": null,
      "id": "6eaf4c08",
      "metadata": {
        "id": "6eaf4c08",
        "outputId": "756303ca-d2b5-4b65-96a3-e713d2cfe73a"
      },
      "outputs": [
        {
          "name": "stdout",
          "output_type": "stream",
          "text": [
            "Instance created.\n",
            "<__main__.MyClass object at 0x000001E3582DE050>\n",
            "Instance destroyed.\n",
            "name 'obj' is not defined\n"
          ]
        }
      ],
      "source": [
        "class MyClass:\n",
        "    def __init__(self, name):\n",
        "        self.name = name\n",
        "        print(f\"{self.name} created.\")\n",
        "\n",
        "    def __del__(self):\n",
        "        print(f\"{self.name} destroyed.\")\n",
        "\n",
        "# Creating an instance of MyClass\n",
        "obj = MyClass(name=\"Instance\")\n",
        "print(obj)\n",
        "# Explicitly deleting the object\n",
        "del obj\n",
        "\n",
        "try:\n",
        "    print(obj)\n",
        "\n",
        "except Exception as e:\n",
        "    print(e)"
      ]
    },
    {
      "cell_type": "markdown",
      "id": "4231fc76",
      "metadata": {
        "id": "4231fc76"
      },
      "source": [
        "### 19. Explain the use of constructor chaining in Python. Provide a practical example."
      ]
    },
    {
      "cell_type": "raw",
      "id": "c796b5d2",
      "metadata": {
        "id": "c796b5d2"
      },
      "source": [
        "Constructor chaining in Python refers to the process of calling one constructor\n",
        "\n",
        "1.   List item\n",
        "2.   List item\n",
        "\n",
        "from another within the same class or between parent and child classes. This allows you to reuse code and avoid duplicating initialization logic. Constructor chaining is achieved using the super() function, which allows you to call a method from a parent class.\n",
        "\n",
        "Here's a practical example to demonstrate constructor chaining in Python:"
      ]
    },
    {
      "cell_type": "code",
      "execution_count": null,
      "id": "128e6d5b",
      "metadata": {
        "id": "128e6d5b",
        "outputId": "dd4bb2cb-9217-42ab-a87d-9154c6eb761f"
      },
      "outputs": [
        {
          "name": "stdout",
          "output_type": "stream",
          "text": [
            "Name: Prasad, Age: 20\n",
            "Student ID: 4284\n"
          ]
        }
      ],
      "source": [
        "class Person:\n",
        "    def __init__(self, name, age):\n",
        "        self.name = name\n",
        "        self.age = age\n",
        "\n",
        "    def display_info(self):\n",
        "        print(f\"Name: {self.name}, Age: {self.age}\")\n",
        "\n",
        "class Student(Person):\n",
        "    def __init__(self, name, age, student_id):\n",
        "        super().__init__(name, age)  # Calling the constructor of the parent class\n",
        "        self.student_id = student_id\n",
        "\n",
        "    def display_info(self):\n",
        "        super().display_info()  # Calling the display_info method of the parent class\n",
        "        print(f\"Student ID: {self.student_id}\")\n",
        "\n",
        "# Example usage:\n",
        "student = Student(name=\"Prasad\", age=20, student_id=\"4284\")\n",
        "student.display_info()\n"
      ]
    },
    {
      "cell_type": "markdown",
      "id": "0b10c9f1",
      "metadata": {
        "id": "0b10c9f1"
      },
      "source": [
        "### 20. Create a Python class called `Car` with a default constructor that initializes the `make` and `model` attributes. Provide a method to display car information."
      ]
    },
    {
      "cell_type": "code",
      "execution_count": null,
      "id": "2fe5f9fe",
      "metadata": {
        "id": "2fe5f9fe",
        "outputId": "7d51c9fd-ad8b-4e47-d0fb-fef92c45e3e4"
      },
      "outputs": [
        {
          "name": "stdout",
          "output_type": "stream",
          "text": [
            "Make: Mercedes-Benz, Model: S-Class\n"
          ]
        }
      ],
      "source": [
        "class Car:\n",
        "    def __init__(self, make, model):\n",
        "        self.make = make\n",
        "        self.model = model\n",
        "\n",
        "    def display_info(self):\n",
        "        print(f\"Make: {self.make}, Model: {self.model}\")\n",
        "\n",
        "benz = Car(make=\"Mercedes-Benz\", model=\"S-Class\")\n",
        "benz.display_info()\n"
      ]
    },
    {
      "cell_type": "markdown",
      "id": "4472bd73",
      "metadata": {
        "id": "4472bd73"
      },
      "source": [
        "## Inheritance:"
      ]
    },
    {
      "cell_type": "markdown",
      "id": "58d1536b",
      "metadata": {
        "id": "58d1536b"
      },
      "source": [
        "### 1. What is inheritance in Python? Explain its significance in object-oriented programming."
      ]
    },
    {
      "cell_type": "raw",
      "id": "0d30ea69",
      "metadata": {
        "id": "0d30ea69"
      },
      "source": [
        "Inheritance in Python is a mechanism that allows a new class (called the child or derived class) to inherit attributes and methods from an existing class (called the parent or base class). This concept is fundamental to object-oriented programming (OOP) and provides a way to model relationships between classes, promote code reuse, and create a hierarchy of classes.\n",
        "\n",
        "Key points about inheritance in Python:\n",
        "\n",
        "Syntax of Inheritance:\n",
        "\n",
        "To create a new class that inherits from an existing class, you specify the parent class(es) in parentheses after the class name of the new class.\n",
        "\n",
        "Types of Inheritance:\n",
        "\n",
        "Python supports various types of inheritance, including single inheritance (one child class inheriting from one parent class), multiple inheritance (one child class inheriting from multiple parent classes), and multilevel inheritance (a chain of inheritance).\n",
        "\n",
        "Attributes and Methods Inherited:\n",
        "\n",
        "The child class inherits both the attributes (variables) and methods (functions) of the parent class. The child class can use and extend the functionality provided by the parent class.\n",
        "\n",
        "Method Overriding:\n",
        "\n",
        "Inheritance allows the child class to override methods of the parent class. This means that the child class can provide its own implementation of a method, while still inheriting the rest of the parent class's functionality.\n",
        "\n",
        "Code Reusability:\n",
        "\n",
        "Inheritance promotes code reuse by allowing the child class to leverage the code written in the parent class. This reduces redundancy and makes it easier to maintain and extend code.\n",
        "\n",
        "Polymorphism:\n",
        "\n",
        "Inheritance is closely related to polymorphism, which allows objects of different classes to be treated as objects of a common base class. This enables more flexible and generic coding."
      ]
    },
    {
      "cell_type": "markdown",
      "id": "3575eacc",
      "metadata": {
        "id": "3575eacc"
      },
      "source": [
        "### 2. Differentiate between single inheritance and multiple inheritance in Python. Provide examples for each."
      ]
    },
    {
      "cell_type": "raw",
      "id": "d08d0225",
      "metadata": {
        "id": "d08d0225"
      },
      "source": [
        "Single Inheritance:\n",
        "\n",
        "In single inheritance, a class inherits from only one parent class. It represents a simple parent-child relationship. The child class inherits the attributes and methods of the single parent class.\n",
        "\n",
        "Multiple Inheritance:\n",
        "\n",
        "In multiple inheritance, a class can inherit from more than one parent class. This allows the child class to inherit attributes and methods from multiple parent classes. While it provides flexibility, it also requires careful management of potential conflicts."
      ]
    },
    {
      "cell_type": "code",
      "execution_count": null,
      "id": "d9edd7ed",
      "metadata": {
        "id": "d9edd7ed",
        "outputId": "2eae6fdd-a863-4e94-911f-bf8723f28b94"
      },
      "outputs": [
        {
          "name": "stdout",
          "output_type": "stream",
          "text": [
            "Animal speaks\n",
            "Dog barks\n",
            "Can fly\n",
            "Can swim\n"
          ]
        }
      ],
      "source": [
        "#examples for both single and multiple inheritences\n",
        "\n",
        "#single level inheritence\n",
        "class Animal:\n",
        "    def speak(self):\n",
        "        print(\"Animal speaks\")\n",
        "\n",
        "class Dog(Animal):\n",
        "    def bark(self):\n",
        "        print(\"Dog barks\")\n",
        "\n",
        "# Example usage:\n",
        "dog = Dog()\n",
        "dog.speak()  # Inherited from Animal class\n",
        "dog.bark()   # Defined in Dog class\n",
        "\n",
        "#multilevel inheritence\n",
        "class Flyable:\n",
        "    def fly(self):\n",
        "        print(\"Can fly\")\n",
        "\n",
        "class Swimmable:\n",
        "    def swim(self):\n",
        "        print(\"Can swim\")\n",
        "\n",
        "class Amphibian(Flyable, Swimmable):\n",
        "    pass\n",
        "\n",
        "# Example usage:\n",
        "frog = Amphibian()\n",
        "frog.fly()   # Inherited from Flyable\n",
        "frog.swim()  # Inherited from Swimmable\n"
      ]
    },
    {
      "cell_type": "markdown",
      "id": "b7586fe3",
      "metadata": {
        "id": "b7586fe3"
      },
      "source": [
        "### 3. Create a Python class called `Vehicle` with attributes `color` and `speed`. Then, create a child class called `Car` that inherits from `Vehicle` and adds a `brand` attribute. Provide an example of creating a `Car` object."
      ]
    },
    {
      "cell_type": "code",
      "execution_count": null,
      "id": "b5bd289f",
      "metadata": {
        "id": "b5bd289f",
        "outputId": "40d60dbf-19de-4e5b-9818-31e5b5260eb1"
      },
      "outputs": [
        {
          "name": "stdout",
          "output_type": "stream",
          "text": [
            "Car Color: Blue\n",
            "Car Speed: 120\n",
            "Car Brand: Toyota\n"
          ]
        }
      ],
      "source": [
        "class Vehicle:\n",
        "    def __init__(self,color,speed):\n",
        "        self.color = color\n",
        "        self.speed = speed\n",
        "\n",
        "class Car(Vehicle):\n",
        "    def __init__(self,color,speed,brand):\n",
        "        super().__init__(color,speed)\n",
        "        self.brand = brand\n",
        "\n",
        "ob = Car(color = \"Blue\",speed =120,brand = \"Toyota\")\n",
        "print(\"Car Color:\", ob.color)\n",
        "print(\"Car Speed:\", ob.speed)\n",
        "print(\"Car Brand:\", ob.brand)"
      ]
    },
    {
      "cell_type": "markdown",
      "id": "37ee1042",
      "metadata": {
        "id": "37ee1042"
      },
      "source": [
        "### 4. Explain the concept of method overriding in inheritance. Provide a practical example."
      ]
    },
    {
      "cell_type": "raw",
      "id": "2a43497f",
      "metadata": {
        "id": "2a43497f"
      },
      "source": [
        "Method overriding in inheritance is a concept where a child class provides a specific implementation for a method that is already defined in its parent class. When a method is overridden in the child class, it replaces the implementation provided by the parent class. This allows the child class to customize or extend the behavior of the inherited method.\n",
        "\n",
        "Key points about method overriding:\n",
        "\n",
        "Method Signature:\n",
        "\n",
        "The method in the child class must have the same name, return type, and parameters as the method in the parent class to qualify as an override.\n",
        "\n",
        "Use of super():\n",
        "\n",
        "The super() function is often used in the overridden method to call the corresponding method in the parent class.\n",
        "\n",
        "Polymorphism:\n",
        "\n",
        "Method overriding is a form of polymorphism, where objects of different classes can be treated as objects of a common base class, and the appropriate method is called based on the actual class of the object.\n",
        "\n",
        "Method overriding allows each subclass to provide its own behavior for a method inherited from the parent class. This flexibility is a key feature of object-oriented programming, enabling code customization and adaptability."
      ]
    },
    {
      "cell_type": "code",
      "execution_count": null,
      "id": "e3dfb85f",
      "metadata": {
        "id": "e3dfb85f",
        "outputId": "b553e44b-d409-4144-c8c1-235fcd6ad196"
      },
      "outputs": [
        {
          "name": "stdout",
          "output_type": "stream",
          "text": [
            "Woof!\n",
            "Meow!\n"
          ]
        }
      ],
      "source": [
        "#example\n",
        "class Animal:\n",
        "    def make_sound(self):\n",
        "        print(\"Generic animal sound\")\n",
        "\n",
        "class Dog(Animal):\n",
        "    def make_sound(self):\n",
        "        print(\"Woof!\")\n",
        "\n",
        "class Cat(Animal):\n",
        "    def make_sound(self):\n",
        "        print(\"Meow!\")\n",
        "\n",
        "# Example usage:\n",
        "dog = Dog()\n",
        "cat = Cat()\n",
        "\n",
        "# Calling the overridden method\n",
        "dog.make_sound()  # Output: Woof!\n",
        "cat.make_sound()  # Output: Meow!\n"
      ]
    },
    {
      "cell_type": "markdown",
      "id": "3f279212",
      "metadata": {
        "id": "3f279212"
      },
      "source": [
        "### 5. How can you access the methods and attributes of a parent class from a child class in Python? Give an example."
      ]
    },
    {
      "cell_type": "code",
      "execution_count": null,
      "id": "89212544",
      "metadata": {
        "id": "89212544",
        "outputId": "302eeeb7-5544-44ff-dec6-e50e2e611815"
      },
      "outputs": [
        {
          "name": "stdout",
          "output_type": "stream",
          "text": [
            "Dog Name: Buddy\n",
            "Dog Breed: Labrador\n",
            "Generic animal sound\n",
            "Woof!\n"
          ]
        }
      ],
      "source": [
        "\"\"\"In Python, you can access the methods and attributes of a parent class from a child class using the super() function.\n",
        "The super() function returns a temporary object of the superclass,\n",
        "which allows you to call its methods and access its attributes.\"\"\"\n",
        "\n",
        "#example\n",
        "\n",
        "class Animal:\n",
        "    def __init__(self, name):\n",
        "        self.name = name\n",
        "\n",
        "    def make_sound(self):\n",
        "        print(\"Generic animal sound\")\n",
        "\n",
        "class Dog(Animal):\n",
        "    def __init__(self, name, breed):\n",
        "        super().__init__(name)  # Call the constructor of the parent class\n",
        "        self.breed = breed\n",
        "\n",
        "    def make_sound(self):\n",
        "        super().make_sound()  # Call the make_sound method of the parent class\n",
        "        print(\"Woof!\")\n",
        "\n",
        "# Example usage:\n",
        "dog = Dog(name=\"Buddy\", breed=\"Labrador\")\n",
        "\n",
        "# Accessing attributes of the Dog object\n",
        "print(\"Dog Name:\", dog.name)\n",
        "print(\"Dog Breed:\", dog.breed)\n",
        "\n",
        "# Calling the overridden method and the parent method\n",
        "dog.make_sound()\n"
      ]
    },
    {
      "cell_type": "markdown",
      "id": "ff4e06e7",
      "metadata": {
        "id": "ff4e06e7"
      },
      "source": [
        "### 6. Discuss the use of the `super()` function in Python inheritance. When and why is it used? Provide an example."
      ]
    },
    {
      "cell_type": "code",
      "execution_count": null,
      "id": "278db400",
      "metadata": {
        "id": "278db400",
        "outputId": "924f2a70-595e-474b-9742-43371a08cc87"
      },
      "outputs": [
        {
          "name": "stdout",
          "output_type": "stream",
          "text": [
            "Eagle Name: Freedom\n",
            "Eagle Wingspan: 2.5\n",
            "Bird will fly in the sky\n",
            "Eagle with wingspan 2.5 will soar high\n"
          ]
        }
      ],
      "source": [
        "class Bird:\n",
        "    def __init__(self, name):\n",
        "        self.name = name\n",
        "\n",
        "    def fly(self):\n",
        "        print(\"Bird will fly in the sky\")\n",
        "\n",
        "class Eagle(Bird):\n",
        "    def __init__(self, name, wingspan):\n",
        "        super().__init__(name)  # Call the constructor of the parent class\n",
        "        self.wingspan = wingspan\n",
        "\n",
        "    def fly(self):\n",
        "        super().fly()  # Call the fly method of the parent class\n",
        "        print(f\"Eagle with wingspan {self.wingspan} will soar high\")\n",
        "\n",
        "# Example usage:\n",
        "eagle = Eagle(name=\"Freedom\", wingspan=2.5)\n",
        "\n",
        "# Accessing attributes of the Eagle object\n",
        "print(\"Eagle Name:\", eagle.name)\n",
        "print(\"Eagle Wingspan:\", eagle.wingspan)\n",
        "\n",
        "# Calling the overridden method and the parent method using super()\n",
        "eagle.fly()\n"
      ]
    },
    {
      "cell_type": "markdown",
      "id": "fb7cdd6e",
      "metadata": {
        "id": "fb7cdd6e"
      },
      "source": [
        "### 7. Create a Python class called `Animal` with a method `speak()`. Then, create child classes `Dog` and `Cat`"
      ]
    },
    {
      "cell_type": "code",
      "execution_count": null,
      "id": "407b0f6c",
      "metadata": {
        "id": "407b0f6c",
        "outputId": "b6753d59-1fcf-4bc8-fdfe-def537fedc2f"
      },
      "outputs": [
        {
          "name": "stdout",
          "output_type": "stream",
          "text": [
            "cat sounds like bow bow...\n",
            "cat sounds like meow meow...\n"
          ]
        }
      ],
      "source": [
        "class Animal:\n",
        "    def speak(self):\n",
        "        print(\"Every animal sounds in a different way.\")\n",
        "\n",
        "class Dog(Animal):\n",
        "    def speak(self):\n",
        "        print(\"cat sounds like bow bow...\")\n",
        "\n",
        "class Cat(Animal):\n",
        "    def speak(self):\n",
        "        print(\"cat sounds like meow meow...\")\n",
        "\n",
        "\n",
        "dog = Dog()\n",
        "cat = Cat()\n",
        "\n",
        "dog.speak()  # Output: Dog sounds like bow wow...\n",
        "cat.speak()  # Output: Cat sounds like meow meow...\n"
      ]
    },
    {
      "cell_type": "markdown",
      "id": "b595f717",
      "metadata": {
        "id": "b595f717"
      },
      "source": [
        "### 8. Explain the role of the `isinstance()` function in Python and how it relates to inheritance."
      ]
    },
    {
      "cell_type": "raw",
      "id": "b4102d2f",
      "metadata": {
        "id": "b4102d2f"
      },
      "source": [
        "The isinstance() function in Python is used to check whether an object is an instance of a particular class or a tuple of classes. It returns True if the object is an instance of any of the specified classes, and False otherwise.\n",
        "\n",
        "The syntax of isinstance() is as follows:\n",
        "\n",
        "isinstance(object, classinfo)\n",
        "\n",
        "object: The object to be checked.\n",
        "classinfo: A class, a tuple of classes, or a combination of classes.\n",
        "\n",
        "The isinstance() function is particularly relevant in the context of inheritance because it allows you to check if an object belongs to a certain class or any of its subclasses. This is useful for determining the type of an object before performing certain operations or making decisions based on the object's class hierarchy.\n"
      ]
    },
    {
      "cell_type": "code",
      "execution_count": null,
      "id": "8c3835a3",
      "metadata": {
        "id": "8c3835a3",
        "outputId": "a89a88cf-0085-4f64-9c5c-c0d8d94028fe"
      },
      "outputs": [
        {
          "name": "stdout",
          "output_type": "stream",
          "text": [
            "True\n",
            "True\n",
            "True\n",
            "False\n",
            "True\n",
            "False\n"
          ]
        }
      ],
      "source": [
        "#example\n",
        "class Animal:\n",
        "    pass\n",
        "\n",
        "class Dog(Animal):\n",
        "    pass\n",
        "\n",
        "class Cat(Animal):\n",
        "    pass\n",
        "\n",
        "# Example usage:\n",
        "animal = Animal()\n",
        "dog = Dog()\n",
        "cat = Cat()\n",
        "\n",
        "print(isinstance(animal, Animal))  # Output: True\n",
        "print(isinstance(dog, Animal))     # Output: True (because Dog is a subclass of Animal)\n",
        "print(isinstance(cat, Animal))     # Output: True (because Cat is a subclass of Animal)\n",
        "\n",
        "print(isinstance(animal, Dog))      # Output: False\n",
        "print(isinstance(dog, Dog))         # Output: True\n",
        "print(isinstance(cat, Dog))         # Output: False\n"
      ]
    },
    {
      "cell_type": "markdown",
      "id": "a5cb83e5",
      "metadata": {
        "id": "a5cb83e5"
      },
      "source": [
        "### 9. What is the purpose of the `issubclass()` function in Python? Provide an example."
      ]
    },
    {
      "cell_type": "code",
      "execution_count": null,
      "id": "2e4072af",
      "metadata": {
        "id": "2e4072af",
        "outputId": "868a76c0-2c4f-4d1e-ec5e-189d5a31b1d2"
      },
      "outputs": [
        {
          "name": "stdout",
          "output_type": "stream",
          "text": [
            "True\n",
            "False\n"
          ]
        }
      ],
      "source": [
        "\n",
        "class Animal:\n",
        "    pass\n",
        "\n",
        "class Dog(Animal):\n",
        "    pass\n",
        "\n",
        "class Cat(Animal):\n",
        "    pass\n",
        "\n",
        "# Example usage:\n",
        "animal = Animal()\n",
        "dog = Dog()\n",
        "cat = Cat()\n",
        "\n",
        "print(issubclass(Dog,Animal))\n",
        "print(issubclass(Dog,Cat))"
      ]
    },
    {
      "cell_type": "markdown",
      "id": "9b28d637",
      "metadata": {
        "id": "9b28d637"
      },
      "source": [
        "### 10. Discuss the concept of constructor inheritance in Python. How are constructors inherited in child classes?"
      ]
    },
    {
      "cell_type": "raw",
      "id": "f3fb8c3c",
      "metadata": {
        "id": "f3fb8c3c"
      },
      "source": [
        "In Python, constructor inheritance refers to the process by which child classes inherit the constructor (the __init__ method) of their parent class. When a child class is created, it automatically inherits the constructor of its immediate parent class (and recursively, the constructors of all ancestor classes up the inheritance hierarchy).\n",
        "\n",
        "Here are some key points regarding constructor inheritance in Python:\n",
        "\n",
        "Automatic Inheritance:\n",
        "                        By default, if a child class does not have its own __init__ method, it inherits the __init__ method from its parent class.\n",
        "\n",
        "Calling Parent's Constructor:\n",
        "                             If the child class defines its own __init__ method, it can call the constructor of the parent class explicitly using the super() function. This is often done to ensure that the initialization logic in the parent class is executed before the child class adds its own initialization."
      ]
    },
    {
      "cell_type": "code",
      "execution_count": null,
      "id": "8c008af9",
      "metadata": {
        "id": "8c008af9",
        "outputId": "56ffda6c-312c-408b-d66c-3c1ca047d488"
      },
      "outputs": [
        {
          "name": "stdout",
          "output_type": "stream",
          "text": [
            "Animal constructor called. Species: Canine\n",
            "Dog constructor called. Breed: Labrador\n"
          ]
        }
      ],
      "source": [
        "#example\n",
        "\n",
        "class Animal:\n",
        "    def __init__(self, species):\n",
        "        self.species = species\n",
        "        print(f\"Animal constructor called. Species: {self.species}\")\n",
        "\n",
        "class Dog(Animal):\n",
        "    def __init__(self, species, breed):\n",
        "        super().__init__(species)  # Call the constructor of the parent class\n",
        "        self.breed = breed\n",
        "        print(f\"Dog constructor called. Breed: {self.breed}\")\n",
        "\n",
        "dog = Dog(species=\"Canine\", breed=\"Labrador\")\n"
      ]
    },
    {
      "cell_type": "markdown",
      "id": "849b92a9",
      "metadata": {
        "id": "849b92a9"
      },
      "source": [
        "### 11. Create a Python class called `Shape` with a method `area()` that calculates the area of a shape. Then, create child classes `Circle` and `Rectangle` that inherit from `Shape` and implement the `area()` method accordingly. Provide an example."
      ]
    },
    {
      "cell_type": "code",
      "execution_count": null,
      "id": "a39d6537",
      "metadata": {
        "id": "a39d6537",
        "outputId": "7e435bba-30b8-4f92-ba28-079ef7ff3444"
      },
      "outputs": [
        {
          "name": "stdout",
          "output_type": "stream",
          "text": [
            "Area of Circle: 78.53981633974483\n",
            "Area of Rectangle: 24\n"
          ]
        }
      ],
      "source": [
        "import math\n",
        "\n",
        "class Shape:\n",
        "    def area(self):\n",
        "        pass  # Placeholder method to be overridden by subclasses\n",
        "\n",
        "class Circle(Shape):\n",
        "    def __init__(self, radius):\n",
        "        self.radius = radius\n",
        "\n",
        "    def area(self):\n",
        "        return math.pi * self.radius**2\n",
        "\n",
        "class Rectangle(Shape):\n",
        "    def __init__(self, width, height):\n",
        "        self.width = width\n",
        "        self.height = height\n",
        "\n",
        "    def area(self):\n",
        "        return self.width * self.height\n",
        "\n",
        "# Example usage:\n",
        "circle = Circle(radius=5)\n",
        "rectangle = Rectangle(width=4, height=6)\n",
        "\n",
        "# Calling the area method of each shape\n",
        "print(\"Area of Circle:\", circle.area())\n",
        "print(\"Area of Rectangle:\", rectangle.area())\n"
      ]
    },
    {
      "cell_type": "markdown",
      "id": "5af4a653",
      "metadata": {
        "id": "5af4a653"
      },
      "source": [
        "### 12. Explain the use of abstract base classes (ABCs) in Python and how they relate to inheritance. Provide an example using the `abc` module."
      ]
    },
    {
      "cell_type": "raw",
      "id": "8b96c8ab",
      "metadata": {
        "id": "8b96c8ab"
      },
      "source": [
        "\n",
        "Abstract Base Classes (ABCs) in Python provide a way to define abstract classes and abstract methods.\n",
        "\n",
        "An abstract class is a class that cannot be instantiated and is meant to serve as a blueprint for other classes. Abstract methods are methods declared in an abstract class but do not provide an implementation. Subclasses are required to provide concrete implementations for these abstract methods.\n",
        "\n",
        "The abc module in Python is used to create abstract base classes and abstract methods. The ABC (Abstract Base Class) is the base class for defining abstract classes, and the abstractmethod decorator is used to declare abstract methods.\n",
        "\n"
      ]
    },
    {
      "cell_type": "code",
      "execution_count": 1,
      "id": "166d5e08",
      "metadata": {
        "colab": {
          "base_uri": "https://localhost:8080/"
        },
        "id": "166d5e08",
        "outputId": "3fa10996-54fd-40ed-b07d-0e0e996eaff0"
      },
      "outputs": [
        {
          "output_type": "stream",
          "name": "stdout",
          "text": [
            "Bike has two wheels.\n",
            "Car need to start to run it.\n"
          ]
        }
      ],
      "source": [
        "#example\n",
        "from abc import ABC, abstractmethod\n",
        "\n",
        "class Vehicle(ABC):\n",
        "    @abstractmethod\n",
        "    def start(self):\n",
        "        pass\n",
        "\n",
        "\n",
        "\n",
        "class Bike(Vehicle):\n",
        "    def wheels(self):\n",
        "        print(\"Bike has two wheels.\")\n",
        "\n",
        "    def start(self):\n",
        "        print(\"Bike need to start to run it.\")\n",
        "\n",
        "class Car(Vehicle):\n",
        "    def wheels(self):\n",
        "        print(\"car has four wheels.\")\n",
        "\n",
        "    def start(self):\n",
        "        print(\"Car need to start to run it.\")\n",
        "\n",
        "b = Bike()\n",
        "b.wheels()\n",
        "\n",
        "c= Car()\n",
        "c.start()\n",
        "\n",
        "\n",
        ""
      ]
    },
    {
      "cell_type": "markdown",
      "id": "563bfc44",
      "metadata": {
        "id": "563bfc44"
      },
      "source": [
        "### 13. How can you prevent a child class from modifying certain attributes or methods inherited from a parent class in Python?"
      ]
    },
    {
      "cell_type": "raw",
      "id": "ee649c83",
      "metadata": {
        "id": "ee649c83"
      },
      "source": [
        "[link text](https://)In Python, you can prevent a child class from modifying certain attributes or methods inherited from a parent class by using encapsulation and access modifiers. Encapsulation involves restricting access to certain components of a class, and access modifiers help in specifying the visibility of attributes and methods.\n",
        "\n",
        "Here are two common ways to achieve this:\n",
        "\n",
        "1)Use of Single Leading Underscore (_):\n",
        "\n",
        "By convention, a single leading underscore before the name of an attribute or method indicates that it is intended for internal use and should not be accessed or modified directly by subclasses.\n",
        "\n",
        "2)Use of Double Leading Underscore (__):\n",
        "\n",
        "A double leading underscore before the name of an attribute or method triggers name mangling, making it more challenging to access the attribute or method from a subclass. However, it does not completely prevent access, as it can still be accessed using the mangled name."
      ]
    },
    {
      "cell_type": "code",
      "execution_count": null,
      "id": "7312e59b",
      "metadata": {
        "id": "7312e59b",
        "outputId": "496e907c-0ebf-4590-8cb3-d8e9fcba5e0f"
      },
      "outputs": [
        {
          "name": "stdout",
          "output_type": "stream",
          "text": [
            "I am protected\n",
            "'Child' object has no attribute 'protected_attribute'\n"
          ]
        }
      ],
      "source": [
        "#for single leading under score(_):\n",
        "\n",
        "class Parent:\n",
        "    def __init__(self):\n",
        "        self._protected_attribute = \"I am protected\"\n",
        "\n",
        "class Child(Parent):\n",
        "    def print_protected_attribute(self):\n",
        "            print(self._protected_attribute)\n",
        "\n",
        "child = Child()\n",
        "child.print_protected_attribute()\n",
        "try :\n",
        "    child.protected_attribute\n",
        "\n",
        "except Exception as e:\n",
        "    print(e)\n"
      ]
    },
    {
      "cell_type": "code",
      "execution_count": null,
      "id": "9fa6de43",
      "metadata": {
        "id": "9fa6de43",
        "outputId": "dfa688fa-94b1-43db-ad19-3af9a071f1d3"
      },
      "outputs": [
        {
          "name": "stdout",
          "output_type": "stream",
          "text": [
            "I am private!\n"
          ]
        }
      ],
      "source": [
        "#usind double leading under score (__):\n",
        "\n",
        "class Parent:\n",
        "    def __init__(self):\n",
        "        self.__private_attribute = \"I am private!\"\n",
        "\n",
        "class Child(Parent):\n",
        "    def print_private_attribute(self):\n",
        "        print(self._Parent__private_attribute)\n",
        "\n",
        "child = Child()\n",
        "child.print_private_attribute()\n"
      ]
    },
    {
      "cell_type": "markdown",
      "id": "25ed7149",
      "metadata": {
        "id": "25ed7149"
      },
      "source": [
        "### 14. Create a Python class called `Employee` with attributes `name` and `salary`. Then, create a child class `Manager` that inherits from `Employee` and adds an attribute `department`. Provide an example."
      ]
    },
    {
      "cell_type": "code",
      "execution_count": null,
      "id": "6561893d",
      "metadata": {
        "id": "6561893d",
        "outputId": "dc2afe4d-b979-4c0d-aded-95674288d158"
      },
      "outputs": [
        {
          "name": "stdout",
          "output_type": "stream",
          "text": [
            "Name : Prasad\n",
            "salary :70000\n",
            "department : Data analytics\n"
          ]
        }
      ],
      "source": [
        "class Employee:\n",
        "    def __init__(self,name,salary):\n",
        "        self.name = name\n",
        "        self.salary = salary\n",
        "\n",
        "class Manager(Employee):\n",
        "    def __init__(self,name,salary,department):\n",
        "        super().__init__(name,salary)\n",
        "        self.department = department\n",
        "\n",
        "e1 = Manager(\"Prasad\",70000,\"Data analytics\")\n",
        "print(f\"Name : {e1.name}\")\n",
        "print(f\"salary :{e1.salary}\")\n",
        "print(f\"department : {e1.department}\")"
      ]
    },
    {
      "cell_type": "markdown",
      "id": "21818015",
      "metadata": {
        "id": "21818015"
      },
      "source": [
        "### 15. Discuss the concept of method overloading in Python inheritance. How does it differ from method overriding?"
      ]
    },
    {
      "cell_type": "raw",
      "id": "ae6ecd43",
      "metadata": {
        "id": "ae6ecd43"
      },
      "source": [
        "\n",
        "In Python, method overloading is a concept where a class can have multiple methods with the same name but with a different number or type of parameters. This allows a single class to provide different implementations for the same method name, based on the arguments passed to it. However, it's important to note that Python does not support traditional method overloading like some other programming languages (e.g., Java or C++).\n",
        "\n",
        "Instead, in Python, method overloading is achieved through default parameter values and variable-length argument lists. You define a single method with a common name, and its behavior is determined by the arguments it receives.\n",
        "\n",
        "On the other hand, method overriding is a concept where a subclass provides a specific implementation for a method that is already defined in its superclass. This allows a subclass to customize or extend the behavior of a method inherited from its parent class. Method overriding requires the method in the subclass to have the same name and parameters as the method in the superclass.\n"
      ]
    },
    {
      "cell_type": "code",
      "execution_count": null,
      "id": "a2139e7c",
      "metadata": {
        "id": "a2139e7c",
        "outputId": "f8d9e12c-cdf5-48d1-ada2-5b95d55d7291"
      },
      "outputs": [
        {
          "name": "stdout",
          "output_type": "stream",
          "text": [
            "Result 1: 1\n",
            "Result 2: 3\n",
            "Result 3: 6\n",
            "Animal speaks\n",
            "Dog barks\n"
          ]
        }
      ],
      "source": [
        "#example for method overloading\n",
        "\n",
        "class Calculator:\n",
        "    def add(self, a, b=0, c=0):\n",
        "        return a + b + c\n",
        "\n",
        "# Example usage:\n",
        "calc = Calculator()\n",
        "\n",
        "result1 = calc.add(1)         # Uses default values for b and c\n",
        "result2 = calc.add(1, 2)      # Uses default value for c\n",
        "result3 = calc.add(1, 2, 3)   # All arguments provided\n",
        "\n",
        "print(\"Result 1:\", result1)   # Output: 1\n",
        "print(\"Result 2:\", result2)   # Output: 3\n",
        "print(\"Result 3:\", result3)   # Output: 6\n",
        "\n",
        "\n",
        "\n",
        "#example for method over riding\n",
        "\n",
        "class Animal:\n",
        "    def speak(self):\n",
        "        print(\"Animal speaks\")\n",
        "\n",
        "class Dog(Animal):\n",
        "    def speak(self):\n",
        "        print(\"Dog barks\")\n",
        "\n",
        "# Example usage:\n",
        "animal = Animal()\n",
        "dog = Dog()\n",
        "\n",
        "animal.speak()  # Output: Animal speaks\n",
        "dog.speak()     # Output: Dog barks\n"
      ]
    },
    {
      "cell_type": "markdown",
      "id": "b8071a6c",
      "metadata": {
        "id": "b8071a6c"
      },
      "source": [
        "### 16. Explain the purpose of the `__init__()` method in Python inheritance and how it is utilized in child classe"
      ]
    },
    {
      "cell_type": "raw",
      "id": "12419bf2",
      "metadata": {
        "id": "12419bf2"
      },
      "source": [
        "In Python, the __init__() method is a special method used for initializing an object created from a class. It is called a constructor because it is automatically invoked when an object of the class is instantiated. The primary purpose of the __init__() method is to set up the initial state of the object by assigning values to its attributes.\n",
        "\n",
        "When it comes to inheritance in Python, the __init__() method plays a crucial role in both the parent (or base) class and the child (or derived) class. Let's discuss its purpose in the context of inheritance:\n",
        "\n",
        "1)Initialization in the Parent Class:\n",
        "\n",
        "In the parent class, the __init__() method is used to initialize the attributes specific to that class.\n",
        "It sets up the initial state of the object by assigning values to attributes that are common to all instances of the class.\n",
        "\n",
        "2)Inheritance in Child Class:\n",
        "\n",
        "When a child class inherits from a parent class, it often needs to initialize both its own attributes and the attributes inherited from the parent class.\n",
        "The super() function is commonly used in the child class to call the __init__() method of the parent class, allowing it to initialize its attributes.\n",
        "After calling the parent class's __init__(), the child class can then initialize its own attributes."
      ]
    },
    {
      "cell_type": "code",
      "execution_count": null,
      "id": "8fce4d7b",
      "metadata": {
        "id": "8fce4d7b",
        "outputId": "efc7f7da-6d00-4f27-a05d-69018c489d23"
      },
      "outputs": [
        {
          "name": "stdout",
          "output_type": "stream",
          "text": [
            "Parent\n",
            "Child\n"
          ]
        }
      ],
      "source": [
        "#example\n",
        "\n",
        "class Parent:\n",
        "    def __init__(self, parent_attribute):\n",
        "        self.parent_attribute = parent_attribute\n",
        "\n",
        "\n",
        "class Child(Parent):\n",
        "    def __init__(self, parent_attribute, child_attribute):\n",
        "        super().__init__(parent_attribute)  # Call parent class's __init__ method\n",
        "        self.child_attribute = child_attribute\n",
        "\n",
        "ob = Child(\"Parent\",\"Child\")\n",
        "print(ob.parent_attribute)\n",
        "print(ob.child_attribute)"
      ]
    },
    {
      "cell_type": "markdown",
      "id": "23f1ff9d",
      "metadata": {
        "id": "23f1ff9d"
      },
      "source": [
        "### 17. Create a Python class called `Bird` with a method `fly()`. Then, create child classes `Eagle` and `Sparrow` that inherit from `Bird` and implement the `fly()` method differently. Provide an example of using these classes."
      ]
    },
    {
      "cell_type": "code",
      "execution_count": null,
      "id": "a5ba20a2",
      "metadata": {
        "id": "a5ba20a2",
        "outputId": "f8aaa022-ba28-4dfd-9e0c-29c186fb7eb1"
      },
      "outputs": [
        {
          "name": "stdout",
          "output_type": "stream",
          "text": [
            "Eagles soar high in the sky\n",
            "Sparrows flutter and fly around\n"
          ]
        }
      ],
      "source": [
        "class Bird:\n",
        "    def fly(self):\n",
        "        return \"Birds can fly\"\n",
        "\n",
        "class Eagle(Bird):\n",
        "    def fly(self):\n",
        "        return \"Eagles soar high in the sky\"\n",
        "\n",
        "class Sparrow(Bird):\n",
        "    def fly(self):\n",
        "        return \"Sparrows flutter and fly around\"\n",
        "\n",
        "# Example usage:\n",
        "eagle_instance = Eagle()\n",
        "sparrow_instance = Sparrow()\n",
        "\n",
        "print(eagle_instance.fly())   # Output: Eagles soar high in the sky\n",
        "print(sparrow_instance.fly())  # Output: Sparrows flutter and fly around\n"
      ]
    },
    {
      "cell_type": "markdown",
      "id": "f9ce3bfd",
      "metadata": {
        "id": "f9ce3bfd"
      },
      "source": [
        "### 18. What is the \"diamond problem\" in multiple inheritance, and how does Python address it?"
      ]
    },
    {
      "cell_type": "raw",
      "id": "bb4582bd",
      "metadata": {
        "id": "bb4582bd"
      },
      "source": [
        "The \"diamond problem\" is a term used in the context of multiple inheritance in object-oriented programming. It refers to a potential ambiguity that can arise when a class inherits from two classes that have a common ancestor. The problem occurs when there are conflicting method or attribute names in the two parent classes, and the derived class doesn't override or provide a clear resolution for these conflicts.\n",
        "\n",
        "Here's a simple illustration of the diamond problem:\n",
        "\n",
        "      A\n",
        "     / \\\n",
        "    B   C\n",
        "     \\ /\n",
        "      D\n",
        "\n",
        "How Python Addresses the Diamond Problem:\n",
        "\n",
        "Python addresses the diamond problem using a mechanism called \"C3 linearization\" or \"C3 superclass linearization.\" This is a specific algorithm used by Python's method resolution order (MRO) to determine the order in which base classes are considered when resolving methods or attributes in a class hierarchy.\n",
        "\n",
        "In Python, the C3 linearization algorithm ensures that the method resolution order follows a consistent and predictable pattern, avoiding the ambiguities associated with the diamond problem. The order is determined based on the depth-first, left-to-right traversal of the class hierarchy.\n",
        "\n",
        "For example, given the diamond-shaped hierarchy mentioned earlier (A -> B, A -> C, B -> D, C -> D), Python's C3 linearization ensures that the MRO for class D would be [D, B, C, A]. This order helps in resolving method and attribute lookups in a predictable way.\n"
      ]
    },
    {
      "cell_type": "code",
      "execution_count": null,
      "id": "2462e23c",
      "metadata": {
        "id": "2462e23c",
        "outputId": "fa861026-a0af-4f99-8129-6585e4eaa3a1"
      },
      "outputs": [
        {
          "name": "stdout",
          "output_type": "stream",
          "text": [
            "B\n"
          ]
        }
      ],
      "source": [
        "#example\n",
        "\n",
        "class A:\n",
        "    def method(self):\n",
        "        return \"A\"\n",
        "\n",
        "class B(A):\n",
        "    def method(self):\n",
        "        return \"B\"\n",
        "\n",
        "class C(A):\n",
        "    def method(self):\n",
        "        return \"C\"\n",
        "\n",
        "class D(B, C):\n",
        "    pass\n",
        "\n",
        "instance_d = D()\n",
        "print(instance_d.method())\n"
      ]
    },
    {
      "cell_type": "markdown",
      "id": "b75487b6",
      "metadata": {
        "id": "b75487b6"
      },
      "source": [
        "### 19. Discuss the concept of \"is-a\" and \"has-a\" relationships in inheritance, and provide examples of each."
      ]
    },
    {
      "cell_type": "raw",
      "id": "1a7cbd80",
      "metadata": {
        "id": "1a7cbd80"
      },
      "source": [
        "\n",
        "\n",
        "```\n",
        "# This is formatted as code\n",
        "```\n",
        "\n",
        "\"Is-a\" Relationship:\n",
        "\n",
        "                    The \"is-a\" relationship is a type of relationship that represents inheritance. It is used when one class is a specialized version of another class. In other words, a subclass \"is-a\" subclass of its superclass, and it inherits its characteristics, behaviors, and attributes. This relationship is typically expressed through the use of inheritance.\n",
        "\n",
        "\"Has-a\" Relationship:\n",
        "\n",
        "                    The \"has-a\" relationship represents composition, where one class \"has-a\" relationship with another class by containing an instance of it as a member. This relationship is based on object composition rather than inheritance. It is often used when one class needs to use the functionality of another class without necessarily being a subtype of that class.\n"
      ]
    },
    {
      "cell_type": "code",
      "execution_count": null,
      "id": "126df056",
      "metadata": {
        "id": "126df056",
        "outputId": "adefab03-8add-4795-b77c-7d6847aa51b6"
      },
      "outputs": [
        {
          "name": "stdout",
          "output_type": "stream",
          "text": [
            "Woof!\n",
            "Meow!\n",
            "Engine started.\n"
          ]
        }
      ],
      "source": [
        "# \"is-a\" relationship through inheritance\n",
        "class Animal:\n",
        "    def speak(self):\n",
        "        pass\n",
        "\n",
        "class Dog(Animal):\n",
        "    def speak(self):\n",
        "        return \"Woof!\"\n",
        "\n",
        "class Cat(Animal):\n",
        "    def speak(self):\n",
        "        return \"Meow!\"\n",
        "\n",
        "# Instances\n",
        "dog_instance = Dog()\n",
        "cat_instance = Cat()\n",
        "\n",
        "print(dog_instance.speak())  # Output: \"Woof!\"\n",
        "print(cat_instance.speak())  # Output: \"Meow!\"\n",
        "\n",
        "\n",
        "# \"has-a\" relationship through composition\n",
        "class Engine:\n",
        "    def start(self):\n",
        "        return \"Engine started.\"\n",
        "\n",
        "class Car:\n",
        "    def __init__(self):\n",
        "        self.engine = Engine()\n",
        "\n",
        "    def start_engine(self):\n",
        "        return self.engine.start()\n",
        "\n",
        "car_instance = Car()\n",
        "\n",
        "print(car_instance.start_engine())  # Output: \"Engine started\"\n",
        "\n"
      ]
    },
    {
      "cell_type": "code",
      "execution_count": null,
      "id": "20b4791f",
      "metadata": {
        "id": "20b4791f",
        "outputId": "3b02a5ed-a4ab-4733-effb-58097175fc30"
      },
      "outputs": [
        {
          "name": "stdout",
          "output_type": "stream",
          "text": [
            "Engine started\n"
          ]
        }
      ],
      "source": [
        "class Engine:\n",
        "    def start(self):\n",
        "        return \"Engine started\"\n",
        "\n",
        "class Car:\n",
        "    def __init__(self):\n",
        "        self.engine = Engine()\n",
        "\n",
        "    def start_engine(self):\n",
        "        return self.engine.start()\n",
        "\n",
        "# Instance\n",
        "car_instance = Car()\n",
        "\n",
        "print(car_instance.start_engine())"
      ]
    },
    {
      "cell_type": "markdown",
      "id": "f6c801fa",
      "metadata": {
        "id": "f6c801fa"
      },
      "source": [
        "### 20. Create a Python class hierarchy for a university system. Start with a base class `Person` and create child classes `Student` and `Professor`, each with their own attributes and methods. Provide an example of using these classes in a university context."
      ]
    },
    {
      "cell_type": "code",
      "execution_count": null,
      "id": "cf2bde53",
      "metadata": {
        "id": "cf2bde53",
        "outputId": "00a0ba96-b92a-4b4a-ef5d-2665627f4676"
      },
      "outputs": [
        {
          "name": "stdout",
          "output_type": "stream",
          "text": [
            "Hello, I am Prasad, and I am 20 years old.\n",
            "Prasad is studying.\n",
            "Hello, I am Dr. Dinesh, and I am 45 years old.\n",
            "Dr. Dinesh is teaching a class.\n"
          ]
        }
      ],
      "source": [
        "class Person:\n",
        "    def __init__(self, name, age):\n",
        "        self.name = name\n",
        "        self.age = age\n",
        "\n",
        "    def introduce(self):\n",
        "        return f\"Hello, I am {self.name}, and I am {self.age} years old.\"\n",
        "\n",
        "\n",
        "class Student(Person):\n",
        "    def __init__(self, name, age, student_id):\n",
        "        super().__init__(name, age)\n",
        "        self.student_id = student_id\n",
        "\n",
        "    def study(self):\n",
        "        return f\"{self.name} is studying.\"\n",
        "\n",
        "\n",
        "class Professor(Person):\n",
        "    def __init__(self, name, age, employee_id):\n",
        "        super().__init__(name, age)\n",
        "        self.employee_id = employee_id\n",
        "\n",
        "    def teach(self):\n",
        "        return f\"{self.name} is teaching a class.\"\n",
        "\n",
        "\n",
        "# Example usage:\n",
        "student1 = Student(name=\"Prasad\", age=20, student_id=\"S12345\")\n",
        "professor1 = Professor(name=\"Dr. Dinesh\", age=45, employee_id=\"P98765\")\n",
        "\n",
        "print(student1.introduce())      # Output: \"Hello, I am Alice, and I am 20 years old.\"\n",
        "print(student1.study())           # Output: \"Alice is studying.\"\n",
        "\n",
        "print(professor1.introduce())    # Output: \"Hello, I am Dr. Smith, and I am 45 years old.\"\n",
        "print(professor1.teach())         # Output: \"Dr. Smith is teaching a class.\"\n"
      ]
    },
    {
      "cell_type": "markdown",
      "id": "3fe44267",
      "metadata": {
        "id": "3fe44267"
      },
      "source": [
        "## Encapsulation:"
      ]
    },
    {
      "cell_type": "markdown",
      "id": "0557f6b1",
      "metadata": {
        "id": "0557f6b1"
      },
      "source": [
        "\n",
        "### 1. Explain the concept of encapsulation in Python. What is its role in object-oriented programming"
      ]
    },
    {
      "cell_type": "raw",
      "id": "0b32d589",
      "metadata": {
        "id": "0b32d589"
      },
      "source": [
        "Encapsulation is one of the fundamental concepts in object-oriented programming (OOP) and refers to the bundling of data (attributes) and methods (functions) that operate on the data into a single unit known as a class. Encapsulation restricts access to some of the object's components, and it prevents the accidental modification of the object's internal state from outside the class.\n",
        "\n",
        "Key aspects of encapsulation include:\n",
        "\n",
        "Data Hiding: Encapsulation allows the hiding of the internal details of an object and only exposing what is necessary. This is achieved by marking attributes as private or protected, preventing direct access from outside the class.\n",
        "\n",
        "Access Control: Access to the internal state of an object is controlled by defining methods within the class. These methods, often called getters and setters, provide controlled access to the attributes, enabling validation or additional logic to be applied when accessing or modifying data.\n",
        "\n",
        "Information Hiding: Encapsulation allows the implementation details of a class to be hidden from the outside world, providing a clear and well-defined interface for interacting with the object. Users of the class need not be concerned with the internal workings of the object, promoting a higher level of abstraction."
      ]
    },
    {
      "cell_type": "code",
      "execution_count": null,
      "id": "f4d72bb8",
      "metadata": {
        "id": "f4d72bb8",
        "outputId": "6729c10c-1d84-4930-b720-b712514e1dfb"
      },
      "outputs": [
        {
          "name": "stdout",
          "output_type": "stream",
          "text": [
            "Make : Toyata\n",
            "The car has been driven 50 miles.\n",
            "Current Mileage : 10050\n"
          ]
        }
      ],
      "source": [
        "class Car :\n",
        "    def __init__(self,make,model):\n",
        "        self._make = make\n",
        "        self._model = model\n",
        "        self._mileage = 0\n",
        "\n",
        "    def get_make(self):\n",
        "        return self._make\n",
        "\n",
        "    def set_mileage(self,mileage):\n",
        "        if mileage >= 0:\n",
        "            self._mileage = mileage\n",
        "\n",
        "    def drive(self,miles):\n",
        "        self._mileage += miles\n",
        "        print(f'The car has been driven {miles} miles.')\n",
        "\n",
        "    def get_mileage(self):\n",
        "        return self._mileage\n",
        "\n",
        "my_car = Car(make = \"Toyata\", model = \"Camry\")\n",
        "\n",
        "print(f\"Make : {my_car.get_make()}\")\n",
        "\n",
        "my_car.set_mileage(10000)\n",
        "my_car.drive(50)\n",
        "\n",
        "print(f\"Current Mileage : {my_car.get_mileage()}\")"
      ]
    },
    {
      "cell_type": "markdown",
      "id": "c36bb862",
      "metadata": {
        "id": "c36bb862"
      },
      "source": [
        "### 2. Describe the key principles of encapsulation, including access control and data hiding."
      ]
    },
    {
      "cell_type": "raw",
      "id": "9a86d884",
      "metadata": {
        "id": "9a86d884"
      },
      "source": [
        "Encapsulation is a key concept in object-oriented programming (OOP), and it encompasses several principles that contribute to the organization and protection of data and functionality within a class. The key principles of encapsulation include:\n",
        "\n",
        "Access Control:\n",
        "\n",
        "Public: Methods and attributes that are marked as public are accessible from outside the class. They form the interface through which external code interacts with the object.\n",
        "Private: Methods and attributes marked as private are not directly accessible from outside the class. They are intended for internal use only, and their names often start with a double underscore (__). Python enforces name mangling to make it more difficult to access private attributes directly.\n",
        "Protected: Methods and attributes marked as protected are similar to private, but they can be accessed by subclasses. They are denoted by a single leading underscore (_).\n",
        "Access control helps define what parts of a class are visible and accessible to the external world, providing a clear boundary between the internal implementation and the external interface.\n",
        "\n",
        "Data Hiding:\n",
        "\n",
        "Private Attributes: Encapsulation involves hiding the internal state of an object by marking attributes as private. This prevents direct access from outside the class and reduces the risk of accidental data corruption or manipulation.\n",
        "Getters and Setters: Instead of allowing direct access to attributes, encapsulation encourages the use of getter and setter methods to read and modify the object's state. This allows for additional logic or validation to be applied before accessing or modifying the data.\n",
        "Data hiding ensures that the internal representation of an object is hidden from external code. It promotes a more stable and maintainable codebase, as changes to the internal representation can be made without affecting the external code that uses the class.\n",
        "\n",
        "Information Hiding:\n",
        "\n",
        "Abstraction: Encapsulation provides a way to abstract away the implementation details of a class, exposing only what is necessary for external code to use the class. This abstraction allows developers to focus on the functionality of the class without being concerned with the underlying complexities.\n",
        "Information hiding reduces complexity, making it easier for developers to understand and use a class without needing to understand the internal details. It also allows for the implementation to evolve over time without breaking external code that relies on the class's interface.\n",
        "\n",
        "By applying these principles of access control, data hiding, and information hiding, encapsulation helps create modular, maintainable, and robust code. It supports the separation of concerns and provides a clear and well-defined interface for interaction with objects in an object-oriented system.\n",
        "\n",
        "\n",
        "\n",
        "\n",
        "\n",
        "\n"
      ]
    },
    {
      "cell_type": "markdown",
      "id": "1470a25f",
      "metadata": {
        "id": "1470a25f"
      },
      "source": [
        "### 3. How can you achieve encapsulation in Python classes? Provide an example."
      ]
    },
    {
      "cell_type": "raw",
      "id": "73b89097",
      "metadata": {
        "id": "73b89097"
      },
      "source": [
        "In Python, encapsulation is achieved through the use of access control and data hiding mechanisms. Here are some ways to implement encapsulation in Python classes:\n",
        "\n",
        "Use of Single Leading Underscore (_):\n",
        "\n",
        "By convention, a single leading underscore (_) is used to indicate that an attribute or method is intended for internal use and should be considered protected. While it doesn't prevent access, it signals to other developers that it's not part of the public interface.\n",
        "Use of Double Leading Underscore (Name Mangling):\n",
        "\n",
        "A double leading underscore (__) invokes name mangling, which makes it more difficult to access the attribute from outside the class. The attribute is \"mangled\" by adding a prefix with the class name.\n",
        "Getters and Setters:\n",
        "\n",
        "Instead of providing direct access to attributes, encapsulation encourages the use of getter and setter methods. These methods can perform additional logic or validation before accessing or modifying the data."
      ]
    },
    {
      "cell_type": "code",
      "execution_count": null,
      "id": "faf27c32",
      "metadata": {
        "id": "faf27c32",
        "outputId": "4ed44537-cf39-4871-e21f-c02958175e5b"
      },
      "outputs": [
        {
          "name": "stdout",
          "output_type": "stream",
          "text": [
            "Model: iPhone 12\n",
            "Model: iPhone 12, Storage Capacity: 512 GB\n",
            "Storage capacity is :  512\n"
          ]
        }
      ],
      "source": [
        "#example\n",
        "\n",
        "class Iphone:\n",
        "    def __init__(self,model,storage_capacity):\n",
        "        self._model = model\n",
        "        self.__storage_capacity = storage_capacity\n",
        "        self._battery_percentage = 100\n",
        "\n",
        "    def get_model(self):\n",
        "        return self._model\n",
        "\n",
        "    def set_storage_capacity(self,capacity):\n",
        "        if capacity > 0:\n",
        "            self.__storage_capacity = capacity\n",
        "\n",
        "    def get_storage_capacity(self):\n",
        "        return self.__storage_capacity\n",
        "\n",
        "    def display_info(self):\n",
        "         print(f\"Model: {self._model}, Storage Capacity: {self.__storage_capacity} GB\")\n",
        "\n",
        "    def check_battery_status(self):\n",
        "        return f\"Battery Percentage: {self._battery_percentage}%\"\n",
        "\n",
        "my_iphone = Iphone(model=\"iPhone 12\", storage_capacity=256)\n",
        "\n",
        "print(f\"Model: {my_iphone.get_model()}\")\n",
        "\n",
        "my_iphone.set_storage_capacity(512)\n",
        "\n",
        "my_iphone.display_info()\n",
        "\n",
        "print(\"Storage capacity is : \",my_iphone.get_storage_capacity())"
      ]
    },
    {
      "cell_type": "markdown",
      "id": "bfe7ce6b",
      "metadata": {
        "id": "bfe7ce6b"
      },
      "source": [
        "### 4. Discuss the difference between public, private, and protected access modifiers in Python."
      ]
    },
    {
      "cell_type": "raw",
      "id": "736bb134",
      "metadata": {
        "id": "736bb134"
      },
      "source": [
        "In Python, access modifiers are used to control the visibility and accessibility of attributes and methods within a class. There are three access modifiers: public, private, and protected. The use of these access modifiers is based on naming conventions and not on strict enforcement by the Python interpreter.\n",
        "\n",
        "1)Public Access Modifier:\n",
        "\n",
        "Notation: No special notation is required for public attributes or methods. By default, all attributes and methods are public.\n",
        "\n",
        "Access: Public attributes and methods can be accessed from anywhere, both within and outside the class.\n",
        "\n",
        "2)Private Access Modifier:\n",
        "\n",
        "Notation: Attributes and methods marked as private are indicated by a double leading underscore (__).\n",
        "\n",
        "Access: Private attributes and methods are intended for internal use within the class. They are not directly accessible from outside the class. However, Python uses name mangling to make it more challenging but not impossible to access them.\n",
        "\n",
        "3)Protected Access Modifier:\n",
        "\n",
        "Notation: Attributes and methods marked as protected are indicated by a single leading underscore (_).\n",
        "\n",
        "Access: Protected attributes and methods are similar to private, but they can be accessed by subclasses. They are intended for use within the class and its subclasses.\n"
      ]
    },
    {
      "cell_type": "code",
      "execution_count": null,
      "id": "0364cc85",
      "metadata": {
        "id": "0364cc85",
        "outputId": "b3327528-85b4-4046-e9e6-dad4ad433cd9"
      },
      "outputs": [
        {
          "name": "stdout",
          "output_type": "stream",
          "text": [
            "This is  protected method. \n"
          ]
        }
      ],
      "source": [
        "#Public\n",
        "\n",
        "class myClass:\n",
        "    def __init__(self,name):\n",
        "        self.name = name\n",
        "\n",
        "    def public_method(self):\n",
        "        print(\"This is public method\")\n",
        "\n",
        "#Private\n",
        "\n",
        "class myClass:\n",
        "    def __init__(self,name):\n",
        "        self.name = name\n",
        "\n",
        "    def __private_method(self):\n",
        "        print(\"this is private method\")\n",
        "\n",
        "#protected\n",
        "\n",
        "class MyClass:\n",
        "    def __init__(self,name):\n",
        "        self.name = name\n",
        "\n",
        "    def _protected_method(self):\n",
        "        print(\"This is  protected method. \")\n",
        "\n",
        "class child_class(MyClass):\n",
        "    def get_protected_method(self):\n",
        "        return self._protected_method()\n",
        "\n",
        "\n",
        "protect = child_class(\"Protect\")\n",
        "protect.get_protected_method()"
      ]
    },
    {
      "cell_type": "markdown",
      "id": "71ab3b64",
      "metadata": {
        "id": "71ab3b64"
      },
      "source": [
        "### 5. Create a Python class called `Person` with a private attribute `__name`. Provide methods to get and set the name attribute."
      ]
    },
    {
      "cell_type": "code",
      "execution_count": null,
      "id": "8846dd9b",
      "metadata": {
        "id": "8846dd9b",
        "outputId": "e02e22c6-4d82-447d-99a4-883183309758"
      },
      "outputs": [
        {
          "name": "stdout",
          "output_type": "stream",
          "text": [
            "John\n",
            "Jane\n"
          ]
        }
      ],
      "source": [
        "class Person:\n",
        "    def __init__(self, name):\n",
        "        self.__name = name  # Private attribute\n",
        "\n",
        "    def get_name(self):\n",
        "        return self.__name\n",
        "\n",
        "    def set_name(self, new_name):\n",
        "        if new_name:\n",
        "            self.__name = new_name\n",
        "\n",
        "# Example usage\n",
        "person_instance = Person(name=\"John\")\n",
        "\n",
        "# Accessing the private attribute through the getter method\n",
        "print(person_instance.get_name())  # Output: John\n",
        "\n",
        "# Modifying the private attribute through the setter method\n",
        "person_instance.set_name(new_name=\"Jane\")\n",
        "\n",
        "# Accessing the modified private attribute\n",
        "print(person_instance.get_name())  # Output: Jane\n"
      ]
    },
    {
      "cell_type": "markdown",
      "id": "61460418",
      "metadata": {
        "id": "61460418"
      },
      "source": [
        "### 6. Explain the purpose of getter and setter methods in encapsulation. Provide examples"
      ]
    },
    {
      "cell_type": "raw",
      "id": "0fd86a19",
      "metadata": {
        "id": "0fd86a19"
      },
      "source": [
        "Getter and setter methods play a crucial role in encapsulation by providing controlled access to the attributes of a class. They allow for the implementation of information hiding, validation, and additional logic when retrieving or modifying the values of attributes. Here's a detailed explanation and examples of getter and setter methods:\n",
        "\n",
        "Getter Methods:\n",
        "\n",
        "Purpose:\n",
        "        Getter methods are used to retrieve the values of private or protected attributes. They provide controlled access to the internal state of an object.\n",
        "\n",
        "Naming Convention:\n",
        "                   Getter methods typically have names prefixed with \"get_\" followed by the attribute name.\n",
        "\n",
        "\n",
        "Setter Methods:\n",
        "\n",
        "Purpose:\n",
        "        Setter methods are used to modify the values of private or protected attributes. They provide a way to control and validate the changes to the internal state of an object.\n",
        "\n",
        "Naming Convention:\n",
        "                  Setter methods typically have names prefixed with \"set_\" followed by the attribute name.\n",
        ""
      ]
    },
    {
      "cell_type": "code",
      "execution_count": null,
      "id": "dcc1507c",
      "metadata": {
        "id": "dcc1507c",
        "outputId": "22869c2e-71ba-463e-ec97-0a117dca55e4"
      },
      "outputs": [
        {
          "name": "stdout",
          "output_type": "stream",
          "text": [
            "John\n",
            "Jane\n"
          ]
        }
      ],
      "source": [
        "#Getter methods example\n",
        "\n",
        "class Person:\n",
        "    def __init__(self, name):\n",
        "        self.__name = name  # Private attribute\n",
        "\n",
        "    def get_name(self):\n",
        "        return self.__name\n",
        "\n",
        "# Example usage\n",
        "person_instance = Person(name=\"John\")\n",
        "print(person_instance.get_name())  # Output: John\n",
        "\n",
        "#setter methods\n",
        "\n",
        "class Person:\n",
        "    def __init__(self, name):\n",
        "        self.__name = name  # Private attribute\n",
        "\n",
        "    def set_name(self, new_name):\n",
        "        if new_name:\n",
        "            self.__name = new_name\n",
        "\n",
        "    def get_name(self):\n",
        "        return self.__name\n",
        "\n",
        "# Example usage\n",
        "person_instance = Person(name=\"John\")\n",
        "person_instance.set_name(new_name=\"Jane\")\n",
        "print(person_instance.get_name())  # Output: Jane\n"
      ]
    },
    {
      "cell_type": "markdown",
      "id": "14c68aa7",
      "metadata": {
        "id": "14c68aa7"
      },
      "source": [
        "### 7. What is name mangling in Python, and how does it affect encapsulation?"
      ]
    },
    {
      "cell_type": "raw",
      "id": "0825408a",
      "metadata": {
        "id": "0825408a"
      },
      "source": [
        "Name mangling is a mechanism in Python that transforms the names of certain attributes in a class to make them less accessible from outside the class. This is done by adding a prefix to the attribute name, which includes the name of the class. The purpose of name mangling is to make it more challenging for external code to accidentally access or override attributes that are intended for internal use within the class.\n",
        "\n",
        "In Python, name mangling is applied to attributes whose names start with a double underscore (__). When a double underscore is used as a prefix, Python transforms the name by adding a prefix with the name of the class. The transformation is as follows: __attribute becomes _classname__attribute.\n"
      ]
    },
    {
      "cell_type": "code",
      "execution_count": null,
      "id": "c3c6529a",
      "metadata": {
        "id": "c3c6529a",
        "outputId": "00fe95f3-2349-4bcd-f494-4b7aa255a088"
      },
      "outputs": [
        {
          "name": "stdout",
          "output_type": "stream",
          "text": [
            "42\n"
          ]
        }
      ],
      "source": [
        "class MyClass:\n",
        "    def __init__(self):\n",
        "        self.__private_attribute = 42\n",
        "\n",
        "    def get_private_attribute(self):\n",
        "        return self.__private_attribute\n",
        "\n",
        "# Example usage\n",
        "obj = MyClass()\n",
        "print(obj.get_private_attribute())  # Output: 42\n",
        "\n",
        "# Accessing the private attribute directly (will raise an error)\n",
        "# print(obj.__private_attribute)  # Uncommenting this line will result in an AttributeError\n"
      ]
    },
    {
      "cell_type": "code",
      "execution_count": null,
      "id": "59f57e56",
      "metadata": {
        "id": "59f57e56",
        "outputId": "dd772da9-a059-4887-9783-b50441243773"
      },
      "outputs": [
        {
          "data": {
            "text/plain": [
              "42"
            ]
          },
          "execution_count": 51,
          "metadata": {},
          "output_type": "execute_result"
        }
      ],
      "source": [
        "obj._MyClass__private_attribute"
      ]
    },
    {
      "cell_type": "markdown",
      "id": "3b9063fb",
      "metadata": {
        "id": "3b9063fb"
      },
      "source": [
        "### 8. Create a Python class called `BankAccount` with private attributes for the account balance (`__balance`) and account number (`__account_number`). Provide methods for depositing and withdrawing money."
      ]
    },
    {
      "cell_type": "code",
      "execution_count": null,
      "id": "9611548c",
      "metadata": {
        "id": "9611548c",
        "outputId": "cc6a815b-d41d-4acf-d537-6264c003426f"
      },
      "outputs": [
        {
          "name": "stdout",
          "output_type": "stream",
          "text": [
            "Initial Balance: $1000.0\n",
            "The current balance in your account after depositing money is: 1500.0\n",
            "The current balance in your account after withdrawing 200 is: 1300.0\n",
            "Insufficient funds. Withdrawal failed.\n"
          ]
        }
      ],
      "source": [
        "class BankAccount:\n",
        "    def __init__(self, balance, account_number):\n",
        "        self.__balance = balance\n",
        "        self.__account_number = account_number\n",
        "\n",
        "    def deposit(self, money):\n",
        "        self.__balance += money\n",
        "        return f\"The current balance in your account after depositing money is: {self.__balance}\"\n",
        "\n",
        "    def withdraw(self, money):\n",
        "        if money <= self.__balance:\n",
        "            self.__balance -= money\n",
        "            return f\"The current balance in your account after withdrawing {money} is: {self.__balance}\"\n",
        "        else:\n",
        "            return \"Insufficient funds. Withdrawal failed.\"\n",
        "\n",
        "initial_balance = 10000\n",
        "account_number = \"58129\"\n",
        "\n",
        "my_account = BankAccount(balance=initial_balance, account_number=account_number)\n",
        "\n",
        "# Display initial balance\n",
        "print(f\"Initial Balance: ${my_account._BankAccount__balance}\")  # Direct access to __balance for demonstration\n",
        "\n",
        "# Deposit money\n",
        "print(my_account.deposit(500))  # Output: The current balance in your account after depositing money is: 1500.0\n",
        "\n",
        "# Withdraw money within the available balance\n",
        "print(my_account.withdraw(200))  # Output: The current balance in your account after withdrawing 200 is: 1300.0\n",
        "\n",
        "# Attempting to withdraw more than the available balance\n",
        "print(my_account.withdraw(1500))  # Output: Insufficient funds. Withdrawal failed.\n"
      ]
    },
    {
      "cell_type": "markdown",
      "id": "8d3f6aaf",
      "metadata": {
        "id": "8d3f6aaf"
      },
      "source": [
        "### 9. Discuss the advantages of encapsulation in terms of code maintainability and security."
      ]
    },
    {
      "cell_type": "raw",
      "id": "d725164a",
      "metadata": {
        "id": "d725164a"
      },
      "source": [
        "Encapsulation, one of the four fundamental principles of object-oriented programming (OOP), provides several advantages in terms of code maintainability and security.\n",
        "\n",
        "Here are the key advantages:\n",
        "\n",
        "Code Maintainability:\n",
        "\n",
        "Modularity:\n",
        "\n",
        "Encapsulation promotes modularity by encapsulating the implementation details within a class. This modularity makes it easier to understand, modify, and extend the codebase.\n",
        "\n",
        "Code Organization:\n",
        "\n",
        "By encapsulating related attributes and methods within a class, encapsulation helps organize code in a structured manner. This organization simplifies navigation and maintenance.\n",
        "\n",
        "Ease of Modification:\n",
        "\n",
        "Encapsulation allows developers to modify the internal implementation of a class without affecting the external code that uses the class. This flexibility makes it easier to adapt to changing requirements.\n",
        "\n",
        "Reduced Impact of Changes:\n",
        "\n",
        "Changes to the internal implementation of a class have a minimal impact on external code if encapsulation is properly used. This reduces the risk of introducing bugs or unintended consequences when modifying code.\n",
        "\n",
        "Versioning and Compatibility:\n",
        "\n",
        "Encapsulation supports versioning and backward compatibility. If changes are made to a class, existing external code can continue to work if the class's public interface (the methods and attributes accessible from outside) remains consistent.\n",
        "\n",
        "Security:\n",
        "\n",
        "Access Control:\n",
        "\n",
        "Encapsulation provides control over the access to attributes and methods. Private and protected attributes are not directly accessible from outside the class, reducing the risk of unintended interference and manipulation.\n",
        "\n",
        "Information Hiding:\n",
        "\n",
        "By hiding the internal details of a class, encapsulation prevents external code from relying on or manipulating the internal state. This information hiding enhances security by limiting access to what is necessary for the intended use of the class.\n",
        "\n",
        "Prevention of Data Corruption:\n",
        "\n",
        "Encapsulation helps prevent data corruption by allowing access to attributes only through controlled methods (getters and setters). This enables validation checks, ensuring that only valid data is assigned to attributes.\n",
        "\n",
        "Encapsulation as a Barrier:\n",
        "\n",
        "Encapsulation serves as a barrier that restricts direct access to certain parts of the code. This barrier discourages developers from tampering with internal details, reducing the risk of unintended consequences and maintaining the integrity of the code.\n",
        "\n",
        "Enhanced Debugging:\n",
        "\n",
        "Encapsulation makes it easier to identify the scope of potential issues. If a problem arises, developers can focus on the class where the issue occurs, without having to examine the entire codebase.\n",
        "\n",
        "In summary, encapsulation contributes significantly to code maintainability by promoting modularity, organization, and ease of modification. Additionally, it enhances security by controlling access, preventing data corruption, and serving as a barrier against unintended interference with internal details. These advantages make encapsulation a crucial concept for building maintainable and secure software systems.\n",
        "\n"
      ]
    },
    {
      "cell_type": "markdown",
      "id": "fcee4ba7",
      "metadata": {
        "id": "fcee4ba7"
      },
      "source": [
        "### 10. How can you access private attributes in Python? Provide an example demonstrating the use of name mangling"
      ]
    },
    {
      "cell_type": "raw",
      "id": "ddd70bd1",
      "metadata": {
        "id": "ddd70bd1"
      },
      "source": [
        "In Python, private attributes are those that have names starting with a double underscore (__). While these attributes are not intended for direct access from outside the class, it is still possible to access them using a process called \"name mangling.\" Name mangling involves transforming the name of a private attribute to include the name of the class as a prefix, making it more challenging to access from external code."
      ]
    },
    {
      "cell_type": "code",
      "execution_count": null,
      "id": "b979720e",
      "metadata": {
        "id": "b979720e",
        "outputId": "3b0fef36-fdff-4fbd-d97e-b5d9ad94ea68"
      },
      "outputs": [
        {
          "name": "stdout",
          "output_type": "stream",
          "text": [
            "Private\n",
            "using mangling : Private\n"
          ]
        }
      ],
      "source": [
        "class class_:\n",
        "    def __init__(self):\n",
        "        self.__name = \"Private\"\n",
        "\n",
        "    def get_name(self):\n",
        "        return self.__name\n",
        "\n",
        "ob = class_()\n",
        "print(ob.get_name())\n",
        "mangled_name = f\"_class___name\"\n",
        "print(f\"using mangling : {getattr(ob,mangled_name)}\")"
      ]
    },
    {
      "cell_type": "markdown",
      "id": "7ac45818",
      "metadata": {
        "id": "7ac45818"
      },
      "source": [
        "### 11. Create a Python class hierarchy for a school system, including classes for students, teachers, and courses, and implement encapsulation principles to protect sensitive information"
      ]
    },
    {
      "cell_type": "code",
      "execution_count": null,
      "id": "5667e0df",
      "metadata": {
        "scrolled": true,
        "id": "5667e0df",
        "outputId": "dd63fd7f-0982-4c58-ddfb-78999916779f"
      },
      "outputs": [
        {
          "name": "stdout",
          "output_type": "stream",
          "text": [
            "My self Prasad in section A of 10th at Pistol high school\n",
            "I am Mr. Mohit, teaching Communication at Pistol high school\n",
            "Enrolled in course: Computer Basics\n"
          ]
        }
      ],
      "source": [
        "class School:\n",
        "    def __init__(self, name):\n",
        "        self._name = name\n",
        "\n",
        "    def get_school_name(self):\n",
        "        return self._name\n",
        "\n",
        "\n",
        "class Student(School):\n",
        "    def __init__(self, student_name, class_, section):\n",
        "        super().__init__(name=\"Pistol high school\")\n",
        "        self.__st_name = student_name\n",
        "        self._class_ = class_\n",
        "        self._section = section\n",
        "\n",
        "    def display(self):\n",
        "        return f\"My self {self.__st_name} in section {self._section} of {self._class_} at {self.get_school_name()}\"\n",
        "\n",
        "\n",
        "class Teacher(School):\n",
        "    def __init__(self, teacher_name, subject):\n",
        "        super().__init__(name=\"Pistol high school\")\n",
        "        self.__teacher_name = teacher_name\n",
        "        self._subject = subject\n",
        "\n",
        "    def display(self):\n",
        "        return f\"I am {self.__teacher_name}, teaching {self._subject} at {self.get_school_name()}\"\n",
        "\n",
        "\n",
        "class Course:\n",
        "    def __init__(self, course_name):\n",
        "        self._course_name = course_name\n",
        "\n",
        "    def get_course_name(self):\n",
        "        return self._course_name\n",
        "\n",
        "\n",
        "st_obj = Student(student_name=\"Prasad\", class_=\"10th\", section=\"A\")\n",
        "t_obj = Teacher(teacher_name=\"Mr. Mohit\", subject=\"Communication\")\n",
        "c_obj = Course(course_name=\"Computer Basics\")\n",
        "\n",
        "print(st_obj.display())\n",
        "print(t_obj.display())\n",
        "print(f\"Enrolled in course: {c_obj.get_course_name()}\")\n"
      ]
    },
    {
      "cell_type": "markdown",
      "id": "10e57ceb",
      "metadata": {
        "id": "10e57ceb"
      },
      "source": [
        "### 12. Explain the concept of property decorators in Python and how they relate to encapsulation"
      ]
    },
    {
      "cell_type": "raw",
      "id": "59d3bc7a",
      "metadata": {
        "id": "59d3bc7a"
      },
      "source": [
        "In Python, a property is a special kind of attribute that allows you to control the access, modification, and deletion of an object's attributes. The property decorator is a built-in mechanism in Python that allows you to define properties in a class. Property decorators provide a convenient way to implement getter, setter, and deleter methods for attributes, enabling you to encapsulate the internal state of an object and control access to it.\n",
        "\n",
        "Here's how property decorators work and how they relate to encapsulation:\n",
        "\n",
        "Property decorators in Python help encapsulate the internal state of an object by providing controlled access to attributes through methods.\n",
        "They allow you to define getter, setter, and deleter methods for attributes, providing a clear and controlled interface for interacting with the internal state.\n",
        "Encapsulation principles are maintained by controlling how attributes are accessed and modified, enabling validation, encapsulation, and information hiding."
      ]
    },
    {
      "cell_type": "markdown",
      "id": "721e1ae3",
      "metadata": {
        "id": "721e1ae3"
      },
      "source": [
        "### 13. What is data hiding, and why is it important in encapsulation? Provide examples."
      ]
    },
    {
      "cell_type": "raw",
      "id": "8cac9115",
      "metadata": {
        "id": "8cac9115"
      },
      "source": [
        "Data hiding is a fundamental concept in object-oriented programming (OOP) that involves restricting access to certain details of an object and exposing only what is necessary for external interaction. It is a way of encapsulating the internal state of an object and preventing direct access to the implementation details. In Python, data hiding is often achieved through the use of access modifiers and property decorators.\n",
        "\n",
        "Importance of Data Hiding in Encapsulation:\n",
        "\n",
        "Encapsulation:\n",
        "\n",
        "Data hiding is a key aspect of encapsulation, one of the core principles of OOP. Encapsulation bundles data and methods that operate on the data into a single unit (class). It helps in organizing code, reducing complexity, and improving maintainability.\n",
        "Information Hiding:\n",
        "\n",
        "Data hiding allows developers to hide the implementation details of a class from external code. It focuses on exposing only what is necessary and relevant for the intended use of the class. This promotes a clear separation between the internal implementation and the external interface.\n",
        "Abstraction:\n",
        "\n",
        "Data hiding promotes abstraction, where users of a class are shielded from the complexity of the internal implementation. Users interact with the class through a well-defined interface (public methods and properties) without needing to know the underlying details.\n",
        "Security:\n",
        "\n",
        "By restricting direct access to certain attributes, data hiding enhances security by preventing unauthorized or unintended modifications to the internal state of an object. It reduces the risk of data corruption or unintentional interference.\n",
        "Flexibility and Maintainability:\n",
        "\n",
        "Data hiding allows developers to modify the internal implementation of a class without affecting external code that uses the class. This flexibility improves the maintainability of the codebase as changes can be made without breaking existing functionality.\n",
        "Examples of Data Hiding in Python:"
      ]
    },
    {
      "cell_type": "code",
      "execution_count": null,
      "id": "092dc8f9",
      "metadata": {
        "id": "092dc8f9",
        "outputId": "5e536d16-8315-47c2-a9eb-80f565358989"
      },
      "outputs": [
        {
          "name": "stdout",
          "output_type": "stream",
          "text": [
            "123456789\n",
            "1000.0\n",
            "1500.0\n"
          ]
        }
      ],
      "source": [
        "class BankAccount:\n",
        "    def __init__(self, account_number, balance):\n",
        "        self._account_number = account_number  # Protected attribute\n",
        "        self.__balance = balance  # Private attribute\n",
        "\n",
        "    # Getter method for balance (property decorator)\n",
        "    @property\n",
        "    def balance(self):\n",
        "        return self.__balance\n",
        "\n",
        "    # Setter method for balance (property decorator)\n",
        "    @balance.setter\n",
        "    def balance(self, new_balance):\n",
        "        if new_balance >= 0:\n",
        "            self.__balance = new_balance\n",
        "\n",
        "# Example usage\n",
        "account = BankAccount(account_number=\"123456789\", balance=1000.0)\n",
        "\n",
        "# Accessing protected attribute\n",
        "print(account._account_number)\n",
        "\n",
        "# Attempting to access private attribute directly (will raise an error)\n",
        "# print(account.__balance)  # Uncommenting this line will result in an AttributeError\n",
        "\n",
        "# Accessing private attribute using the getter method (property)\n",
        "print(account.balance)\n",
        "\n",
        "# Modifying private attribute using the setter method (property)\n",
        "account.balance = 1500.0\n",
        "print(account.balance)\n"
      ]
    },
    {
      "cell_type": "markdown",
      "id": "4f6fbd27",
      "metadata": {
        "id": "4f6fbd27"
      },
      "source": [
        "### 14. Create a Python class called `Employee` with private attributes for salary (`__salary`) and employee ID (`__employee_id`). Provide a method to calculate yearly bonuses."
      ]
    },
    {
      "cell_type": "code",
      "execution_count": null,
      "id": "2422d9d2",
      "metadata": {
        "scrolled": true,
        "id": "2422d9d2",
        "outputId": "33ad0bbb-8ef0-4c07-db7c-48d924b70029"
      },
      "outputs": [
        {
          "name": "stdout",
          "output_type": "stream",
          "text": [
            "Employee ID: 1234\n",
            "Salary: $50000\n",
            "Yearly Bonus: $5000.0\n"
          ]
        }
      ],
      "source": [
        "class Employee:\n",
        "    def __init__(self, salary, employee_id):\n",
        "        self.__salary = salary\n",
        "        self.__employee_id = employee_id\n",
        "\n",
        "    def get_employee_id(self):\n",
        "        return self.__employee_id\n",
        "\n",
        "    def get_salary(self):\n",
        "        return self.__salary\n",
        "\n",
        "    def calculate_bonus(self, bonus_percentage):\n",
        "        \"\"\"\n",
        "        Calculate yearly bonus based on the provided bonus percentage.\n",
        "\n",
        "        Parameters:\n",
        "        - bonus_percentage (float): The bonus percentage to be applied.\n",
        "\n",
        "        Returns:\n",
        "        - float: The calculated yearly bonus.\n",
        "        \"\"\"\n",
        "        if bonus_percentage < 0 or bonus_percentage > 100:\n",
        "            raise ValueError(\"Bonus percentage must be between 0 and 100.\")\n",
        "\n",
        "        bonus_amount = (bonus_percentage / 100) * self.__salary\n",
        "\n",
        "        return bonus_amount\n",
        "\n",
        "\n",
        "employee = Employee(salary=50000, employee_id=\"1234\")\n",
        "print(f\"Employee ID: {employee.get_employee_id()}\")\n",
        "print(f\"Salary: ${employee.get_salary()}\")\n",
        "\n",
        "# Calculating yearly bonus\n",
        "bonus_percentage = 10  # 10% bonus\n",
        "yearly_bonus = employee.calculate_bonus(bonus_percentage)  # Corrected method name\n",
        "print(f\"Yearly Bonus: ${yearly_bonus}\")\n"
      ]
    },
    {
      "cell_type": "markdown",
      "id": "a03398b7",
      "metadata": {
        "id": "a03398b7"
      },
      "source": [
        "### 15. Discuss the use of accessors and mutators in encapsulation. How do they help maintain control over attribute access?"
      ]
    },
    {
      "cell_type": "raw",
      "id": "3c7b2104",
      "metadata": {
        "id": "3c7b2104"
      },
      "source": [
        "Accessors and mutators, also known as getters and setters, are methods used in object-oriented programming to control access to the attributes of a class. They play a crucial role in encapsulation by providing a controlled interface for accessing and modifying the internal state of an object. Let's discuss the use of accessors and mutators and how they help maintain control over attribute access:\n",
        "\n",
        "Accessors (Getters):\n",
        "Purpose: Accessors are methods used to retrieve the values of private attributes. They provide read-only access to the internal state of an object.\n",
        "\n",
        "Naming Convention: Accessor methods typically have names prefixed with \"get\" followed by the attribute name.\n",
        "\n",
        "Mutators (Setters):\n",
        "Purpose: Mutators are methods used to modify the values of private attributes. They provide a way to update the internal state of an object while applying any necessary validation or logic.\n",
        "\n",
        "Naming Convention: Mutator methods typically have names prefixed with \"set\" followed by the attribute name."
      ]
    },
    {
      "cell_type": "code",
      "execution_count": null,
      "id": "9443985b",
      "metadata": {
        "id": "9443985b"
      },
      "outputs": [],
      "source": [
        "class BankAccount:\n",
        "    def __init__(self, account_number, balance):\n",
        "        self.__account_number = account_number\n",
        "        self.__balance = balance\n",
        "\n",
        "    def get_balance(self):\n",
        "        return self.__balance\n",
        "\n",
        "    def deposit(self, amount):\n",
        "        if amount > 0:\n",
        "            self.__balance += amount\n",
        "\n",
        "    def withdraw(self, amount):\n",
        "        if 0 < amount <= self.__balance:\n",
        "            self.__balance -= amount\n"
      ]
    },
    {
      "cell_type": "markdown",
      "id": "c3b8bc3a",
      "metadata": {
        "id": "c3b8bc3a"
      },
      "source": [
        "### 16. What are the potential drawbacks or disadvantages of using encapsulation in Python?"
      ]
    },
    {
      "cell_type": "raw",
      "id": "f64a1047",
      "metadata": {
        "id": "f64a1047"
      },
      "source": [
        "While encapsulation is a fundamental principle in object-oriented programming that offers numerous benefits, it is essential to be aware of potential drawbacks or disadvantages. Here are some considerations regarding the use of encapsulation in Python:\n",
        "\n",
        "Increased Complexity:\n",
        "\n",
        "Encapsulation can introduce additional complexity to the code, especially when using accessors and mutators for multiple attributes. This complexity might make the code harder to understand for developers who are not familiar with the class's design.\n",
        "\n",
        "Boilerplate Code:\n",
        "\n",
        "Implementing accessors and mutators can lead to a certain amount of boilerplate code, especially in classes with numerous attributes. This can make the code longer and less concise.\n",
        "Overhead of Method Calls:\n",
        "\n",
        "Accessing attributes through methods (getters and setters) introduces the overhead of method calls. While this overhead is usually negligible, in performance-critical scenarios, direct attribute access might be preferred.\n",
        "Tight Coupling:\n",
        "\n",
        "Excessive use of accessors and mutators can result in tight coupling between the class's interface and its implementation. If changes are made to the internal representation of the class, it may impact external code that relies on specific access patterns.\n",
        "Limited Flexibility:\n",
        "\n",
        "Encapsulation may limit the flexibility to access or modify internal attributes in certain scenarios where it is genuinely necessary. In some cases, direct attribute access might be appropriate, and encapsulation can be perceived as overly restrictive.\n",
        "\n",
        "Potential Verbosity:\n",
        "\n",
        "Encapsulation can lead to more verbose code, particularly when getter and setter methods are used extensively. This verbosity may affect the readability of the code, especially in simple classes with few attributes.\n",
        "\n",
        "Learning Curve:\n",
        "\n",
        "Developers who are new to object-oriented programming or the specific codebase might face a learning curve when dealing with encapsulated classes. Understanding the purpose and usage of accessors and mutators requires familiarity with the design choices made by the class author.\n",
        "\n",
        "Violation of Pythonic Idioms:\n",
        "\n",
        "Python follows a principle of \"we are all consenting adults here,\" emphasizing trust in developers. The use of name mangling and strict encapsulation can be seen as violating this principle, as it restricts access to attributes that could otherwise be accessed in other programming languages.\n",
        "\n",
        "Despite these potential drawbacks, it's important to note that encapsulation is generally considered a best practice in object-oriented programming, and the advantages often outweigh the disadvantages. The key is to strike a balance, considering the specific needs of the application, the complexity of the codebase, and the development team's preferences."
      ]
    },
    {
      "cell_type": "markdown",
      "id": "3f2d6763",
      "metadata": {
        "id": "3f2d6763"
      },
      "source": [
        "### 17. Create a Python class for a library system that encapsulates book information, including titles, authors, and availability status."
      ]
    },
    {
      "cell_type": "code",
      "execution_count": null,
      "id": "cf2fe1d3",
      "metadata": {
        "id": "cf2fe1d3",
        "outputId": "12b478d0-25df-4ba4-f5c2-3f70b9e28ffa"
      },
      "outputs": [
        {
          "name": "stdout",
          "output_type": "stream",
          "text": [
            "Book 1: The Catcher in the Rye by J.D. Salinger, Available: True\n",
            "Book 2: To Kill a Mockingbird by Harper Lee, Available: True\n",
            "Book 'The Catcher in the Rye' by J.D. Salinger has been borrowed.\n",
            "Book 'To Kill a Mockingbird' by Harper Lee has been borrowed.\n",
            "Book 'The Catcher in the Rye' by J.D. Salinger has been returned.\n",
            "Book 'To Kill a Mockingbird' by Harper Lee has been returned.\n"
          ]
        }
      ],
      "source": [
        "class Book:\n",
        "    def __init__(self, title, author, available=True):\n",
        "        self.__title = title  # Private attribute for the book title\n",
        "        self.__author = author  # Private attribute for the book author\n",
        "        self.__available = available  # Private attribute for the availability status\n",
        "\n",
        "    # Getter methods for book title, author, and availability\n",
        "    def get_title(self):\n",
        "        return self.__title\n",
        "\n",
        "    def get_author(self):\n",
        "        return self.__author\n",
        "\n",
        "    def is_available(self):\n",
        "        return self.__available\n",
        "\n",
        "    # Method to borrow the book\n",
        "    def borrow_book(self):\n",
        "        if self.__available:\n",
        "            print(f\"Book '{self.__title}' by {self.__author} has been borrowed.\")\n",
        "            self.__available = False\n",
        "        else:\n",
        "            print(f\"Sorry, the book '{self.__title}' is currently not available.\")\n",
        "\n",
        "    # Method to return the book\n",
        "    def return_book(self):\n",
        "        if not self.__available:\n",
        "            print(f\"Book '{self.__title}' by {self.__author} has been returned.\")\n",
        "            self.__available = True\n",
        "        else:\n",
        "            print(f\"The book '{self.__title}' is already available.\")\n",
        "\n",
        "# Example usage\n",
        "book1 = Book(title=\"The Catcher in the Rye\", author=\"J.D. Salinger\")\n",
        "book2 = Book(title=\"To Kill a Mockingbird\", author=\"Harper Lee\")\n",
        "\n",
        "# Accessing book information using getters\n",
        "print(f\"Book 1: {book1.get_title()} by {book1.get_author()}, Available: {book1.is_available()}\")\n",
        "print(f\"Book 2: {book2.get_title()} by {book2.get_author()}, Available: {book2.is_available()}\")\n",
        "\n",
        "# Borrowing and returning books\n",
        "book1.borrow_book()\n",
        "book2.borrow_book()\n",
        "\n",
        "book1.return_book()\n",
        "book2.return_book()\n"
      ]
    },
    {
      "cell_type": "markdown",
      "id": "6e77c7b6",
      "metadata": {
        "id": "6e77c7b6"
      },
      "source": [
        "### 18. Explain how encapsulation enhances code reusability and modularity in Python programs"
      ]
    },
    {
      "cell_type": "raw",
      "id": "b9058be8",
      "metadata": {
        "id": "b9058be8"
      },
      "source": [
        "Encapsulation is a key concept in object-oriented programming that involves bundling data and the methods that operate on that data into a single unit, typically a class. This concept enhances code reusability and modularity in Python programs in several ways:\n",
        "\n",
        "Information Hiding:\n",
        "\n",
        "Encapsulation allows developers to hide the implementation details of a class from external code. By exposing only a well-defined interface (public methods) and keeping the internal details hidden, encapsulation reduces complexity and shields users from unnecessary details. This information hiding promotes modularity, making it easier to understand, use, and maintain the code.\n",
        "Encapsulation as a Barrier:\n",
        "\n",
        "The encapsulated nature of classes serves as a barrier that protects the internal state of an object. External code is prevented from directly accessing or modifying the internal attributes of the class. This protection ensures that the class can maintain its integrity and functionality even if external code changes.\n",
        "Reuse of Code Components:\n",
        "\n",
        "Encapsulation enables the creation of reusable code components in the form of classes. Once a class is designed and implemented, it can be reused in different parts of the program or in different projects without the need to understand or modify its internal details. This reuse contributes to code modularity and avoids duplication of code.\n",
        "Defined Interfaces:\n",
        "\n",
        "Public methods of a class define a well-defined interface for interacting with the encapsulated data. This interface specifies how external code should interact with the class and what functionality is available. By adhering to this interface, developers can achieve code consistency, and changes to the internal implementation can be made without affecting external code.\n",
        "Modular Development:\n",
        "\n",
        "Encapsulation supports modular development by allowing developers to focus on designing and implementing individual classes as independent modules. Each class encapsulates a specific set of functionalities, and these classes can be developed and tested independently. This modular approach enhances maintainability, as changes or updates to one module (class) are less likely to impact other modules.\n",
        "Reduced Dependencies:\n",
        "\n",
        "Encapsulation helps reduce dependencies between different parts of the code. External code depends only on the public interface of a class, not on its internal implementation. This reduced dependency allows for more flexible and maintainable code, as changes to one part of the system are less likely to have cascading effects on other parts.\n",
        "Code Maintenance:\n",
        "\n",
        "Encapsulation contributes to code maintenance by providing a clear separation of concerns. Developers can focus on understanding and modifying one class at a time, without having to consider the entire program. This compartmentalization of functionality simplifies debugging, updates, and improvements.\n",
        "In summary, encapsulation in Python promotes code reusability and modularity by encapsulating data and behavior within classes, providing well-defined interfaces, and hiding implementation details. This approach enhances the flexibility, maintainability, and readability of code, making it easier to manage and extend over time."
      ]
    },
    {
      "cell_type": "markdown",
      "id": "e17947e1",
      "metadata": {
        "id": "e17947e1"
      },
      "source": [
        "### 19. Describe the concept of information hiding in encapsulation. Why is it essential in software development?"
      ]
    },
    {
      "cell_type": "raw",
      "id": "4f2e0dc2",
      "metadata": {
        "id": "4f2e0dc2"
      },
      "source": [
        "Information hiding is essential in software development because it promotes abstraction, reduces complexity, enhances maintainability, improves security, and provides flexibility in design changes. It is a key enabler of encapsulation, contributing to the creation of robust, understandable, and adaptable software systems."
      ]
    },
    {
      "cell_type": "markdown",
      "id": "4a80eac9",
      "metadata": {
        "id": "4a80eac9"
      },
      "source": [
        "### 20. Create a Python class called `Customer` with private attributes for customer details like name, address, and contact information. Implement encapsulation to ensure data integrity and security"
      ]
    },
    {
      "cell_type": "code",
      "execution_count": null,
      "id": "e8ca3deb",
      "metadata": {
        "id": "e8ca3deb",
        "outputId": "f1d11cb6-8d66-45c0-d3b3-81bde4d0943d"
      },
      "outputs": [
        {
          "name": "stdout",
          "output_type": "stream",
          "text": [
            "Customer Name: John Doe\n",
            "Customer Address: 123 Main St\n",
            "Customer Contact Info: john@example.com\n",
            "\n",
            "After Update:\n",
            "Customer Name: Jane Doe\n",
            "Customer Address: 456 Oak St\n",
            "Customer Contact Info: jane@example.com\n"
          ]
        }
      ],
      "source": [
        "class Customer:\n",
        "    def __init__(self,name,address,contact_information):\n",
        "        self.__name = name\n",
        "        self.__address = address\n",
        "        self.__contact_information = contact_information\n",
        "\n",
        "    def get_name(self):\n",
        "        return self.__name\n",
        "\n",
        "    def get_address(self):\n",
        "        return self.__address\n",
        "\n",
        "    def get_contact_info(self):\n",
        "        return self.__contact_information\n",
        "\n",
        "    # Setter methods for updating customer details (optional)\n",
        "    def set_name(self, new_name):\n",
        "        self.__name = new_name\n",
        "\n",
        "    def set_address(self, new_address):\n",
        "        self.__address = new_address\n",
        "\n",
        "    def set_contact_info(self, new_contact_info):\n",
        "        self.__contact_information = new_contact_info\n",
        "\n",
        "# Example usage\n",
        "customer = Customer(name=\"John Doe\", address=\"123 Main St\", contact_information=\"john@example.com\")\n",
        "\n",
        "# Accessing customer information using getters\n",
        "print(f\"Customer Name: {customer.get_name()}\")\n",
        "print(f\"Customer Address: {customer.get_address()}\")\n",
        "print(f\"Customer Contact Info: {customer.get_contact_info()}\")\n",
        "\n",
        "# Updating customer details (optional, depending on use case)\n",
        "customer.set_name(\"Jane Doe\")\n",
        "customer.set_address(\"456 Oak St\")\n",
        "customer.set_contact_info(\"jane@example.com\")\n",
        "\n",
        "# Accessing updated information\n",
        "print(\"\\nAfter Update:\")\n",
        "print(f\"Customer Name: {customer.get_name()}\")\n",
        "print(f\"Customer Address: {customer.get_address()}\")\n",
        "print(f\"Customer Contact Info: {customer.get_contact_info()}\")"
      ]
    },
    {
      "cell_type": "markdown",
      "id": "6dc609ef",
      "metadata": {
        "id": "6dc609ef"
      },
      "source": [
        "## Polymorphism:"
      ]
    },
    {
      "cell_type": "markdown",
      "id": "34c8021e",
      "metadata": {
        "id": "34c8021e"
      },
      "source": [
        "### 1. What is polymorphism in Python? Explain how it is related to object-oriented programming."
      ]
    },
    {
      "cell_type": "raw",
      "id": "1e48bb1f",
      "metadata": {
        "id": "1e48bb1f"
      },
      "source": [
        "Polymorphism is a concept in object-oriented programming (OOP) that allows objects of different classes to be treated as objects of a common base class. It provides a way to perform a single action in different ways based on the object's type or class. The word \"polymorphism\" is derived from Greek, where \"poly\" means many and \"morph\" means forms, indicating the ability of a single function or method to work with different types.\n",
        "\n",
        "In Python, polymorphism is closely related to the following two principles of OOP:\n",
        "\n",
        "Method Overloading:\n",
        "\n",
        "Method overloading allows a class to define multiple methods with the same name but with different parameter lists. This can be used to create polymorphic behavior, as a single method name can be applied to different types or numbers of arguments.\n",
        "\n",
        "Method Overriding:\n",
        "\n",
        "Method overriding occurs when a subclass provides a specific implementation for a method that is already defined in its superclass. The overridden method in the subclass is used instead of the method in the superclass when the object is of the subclass type. This allows for polymorphic behavior when a common interface is shared among different classes."
      ]
    },
    {
      "cell_type": "code",
      "execution_count": null,
      "id": "b198b60e",
      "metadata": {
        "id": "b198b60e",
        "outputId": "3d68de4e-8587-4b96-cba6-e784a89ea89a"
      },
      "outputs": [
        {
          "name": "stdout",
          "output_type": "stream",
          "text": [
            "Animal speaks\n",
            "Dog barks\n",
            "Cat meows\n"
          ]
        }
      ],
      "source": [
        "class Animal:\n",
        "    def speak(self):\n",
        "        return \"Animal speaks\"\n",
        "\n",
        "class Dog(Animal):\n",
        "    def speak(self):\n",
        "        return \"Dog barks\"\n",
        "\n",
        "class Cat(Animal):\n",
        "    def speak(self):\n",
        "        return \"Cat meows\"\n",
        "\n",
        "def animal_sound(animal):\n",
        "    # The function works with objects of different classes (Animal, Dog, Cat)\n",
        "    return animal.speak()\n",
        "\n",
        "# Creating instances of different classes\n",
        "animal = Animal()\n",
        "dog = Dog()\n",
        "cat = Cat()\n",
        "\n",
        "# Using the same function with different types of objects\n",
        "print(animal_sound(animal))  # Output: Animal speaks\n",
        "print(animal_sound(dog))     # Output: Dog barks\n",
        "print(animal_sound(cat))     # Output: Cat meows\n"
      ]
    },
    {
      "cell_type": "markdown",
      "id": "af03af0f",
      "metadata": {
        "id": "af03af0f"
      },
      "source": [
        "### 2. Describe the difference between compile-time polymorphism and runtime polymorphism in Python"
      ]
    },
    {
      "cell_type": "raw",
      "id": "4386d2f9",
      "metadata": {
        "id": "4386d2f9"
      },
      "source": [
        "In Python, polymorphism is mainly achieved through dynamic typing and late binding. The terms \"compile-time polymorphism\" and \"runtime polymorphism\" are more commonly associated with statically-typed languages, where the type of a variable is known at compile-time. Nevertheless, we can discuss the concepts in the context of Python's dynamic typing.\n",
        "\n",
        "1. Compile-Time Polymorphism:\n",
        "Definition: In statically-typed languages, compile-time polymorphism, also known as method overloading or static polymorphism, occurs when the method or function to be executed is determined at compile-time based on the method's signature or the number and types of arguments.\n",
        "Example: Method overloading is a common form of compile-time polymorphism. In languages like Java or C++, you can define multiple methods with the same name but different parameter types or counts. The appropriate method to call is determined at compile-time.\n",
        "Python Note: Python itself is dynamically typed, and true compile-time polymorphism, as seen in statically-typed languages, is not present. However, Python supports a form of method overloading through default argument values and variable-length argument lists.\n",
        "\n",
        "2. Runtime Polymorphism (Dynamic Polymorphism):\n",
        "Definition: In dynamically-typed languages like Python, runtime polymorphism, also known as method overriding or dynamic polymorphism, occurs when the method to be executed is determined at runtime based on the actual type of the object.\n",
        "\n",
        "Example: Method overriding is a common form of runtime polymorphism. In Python, a subclass can provide a specific implementation of a method that is already defined in its superclass. The decision on which method to call is made at runtime based on the type of the object."
      ]
    },
    {
      "cell_type": "markdown",
      "id": "00bd4276",
      "metadata": {
        "id": "00bd4276"
      },
      "source": [
        "### 3. Create a Python class hierarchy for shapes (e.g., circle, square, triangle) and demonstrate polymorphism through a common method, such as `calculate_area()`."
      ]
    },
    {
      "cell_type": "code",
      "execution_count": null,
      "id": "8c557196",
      "metadata": {
        "id": "8c557196",
        "outputId": "189c6c3a-31b9-4507-e0fb-7bdac304301d"
      },
      "outputs": [
        {
          "name": "stdout",
          "output_type": "stream",
          "text": [
            "The area of the shape is: 78.54\n",
            "The area of the shape is: 16.00\n",
            "The area of the shape is: 9.00\n"
          ]
        }
      ],
      "source": [
        "import math\n",
        "class shapes:\n",
        "    def __init__(self):\n",
        "        pass\n",
        "\n",
        "class Circle(shapes):\n",
        "    def __init__(self,radius):\n",
        "        self.radius = radius\n",
        "\n",
        "    def calculate_area(self):\n",
        "        return math.pi * self.radius ** 2\n",
        "\n",
        "class Square(shapes):\n",
        "    def __init__(self,side_length):\n",
        "        self.side_length = side_length\n",
        "\n",
        "    def calculate_area(self):\n",
        "        return self.side_length ** 2\n",
        "\n",
        "class Triangle(shapes):\n",
        "    def __init__(self,base,height):\n",
        "        self.base = base\n",
        "        self.height = height\n",
        "\n",
        "    def calculate_area(self):\n",
        "        return (self.base * self.height) / 2\n",
        "\n",
        "def print_area(shape):\n",
        "    result = shape.calculate_area()\n",
        "    print(f\"The area of the shape is: {result:.2f}\")\n",
        "\n",
        "circle = Circle(radius = 5)\n",
        "square = Square(side_length = 4)\n",
        "triangle = Triangle(base = 3, height = 6)\n",
        "\n",
        "print_area(circle)\n",
        "print_area(square)\n",
        "print_area(triangle)\n"
      ]
    },
    {
      "cell_type": "markdown",
      "id": "617018c0",
      "metadata": {
        "id": "617018c0"
      },
      "source": [
        "### 4. Explain the concept of method overriding in polymorphism. Provide an example."
      ]
    },
    {
      "cell_type": "raw",
      "id": "6c2bb365",
      "metadata": {
        "id": "6c2bb365"
      },
      "source": [
        "Method overriding is a concept in object-oriented programming where a subclass provides a specific implementation of a method that is already defined in its superclass. This allows a subclass to provide its own behavior for a method that is already defined in its parent class. The overridden method in the subclass is used instead of the method in the superclass when the object is of the subclass type.\n",
        "\n",
        "In Python, method overriding involves defining a method in a subclass with the same name as a method in its superclass. When an object of the subclass is created, calling the overridden method on that object will invoke the method defined in the subclass."
      ]
    },
    {
      "cell_type": "code",
      "execution_count": null,
      "id": "aab8981e",
      "metadata": {
        "id": "aab8981e",
        "outputId": "14742241-4416-4219-981b-afee9bb83d51"
      },
      "outputs": [
        {
          "name": "stdout",
          "output_type": "stream",
          "text": [
            "Generic animal sound\n",
            "Woof! Woof!\n",
            "Meow!\n"
          ]
        }
      ],
      "source": [
        "#example\n",
        "\n",
        "class Animal:\n",
        "    def make_sound(self):\n",
        "        return \"Generic animal sound\"\n",
        "\n",
        "class Dog(Animal):\n",
        "    def make_sound(self):\n",
        "        return \"Woof! Woof!\"\n",
        "\n",
        "class Cat(Animal):\n",
        "    def make_sound(self):\n",
        "        return \"Meow!\"\n",
        "\n",
        "# Creating instances of the subclasses\n",
        "generic_animal = Animal()\n",
        "dog = Dog()\n",
        "cat = Cat()\n",
        "\n",
        "# Using the overridden method with objects of different types\n",
        "print(generic_animal.make_sound())  # Output: Generic animal sound\n",
        "print(dog.make_sound())             # Output: Woof! Woof!\n",
        "print(cat.make_sound())             # Output: Meow!\n"
      ]
    },
    {
      "cell_type": "markdown",
      "id": "3adc3c9f",
      "metadata": {
        "id": "3adc3c9f"
      },
      "source": [
        "### 5. How is polymorphism different from method overloading in Python? Provide examples for both."
      ]
    },
    {
      "cell_type": "raw",
      "id": "af8cf224",
      "metadata": {
        "id": "af8cf224"
      },
      "source": [
        "Polymorphism and method overloading are related concepts in object-oriented programming but serve different purposes. Let's explore the differences between them with examples.\n",
        "\n",
        "Polymorphism:\n",
        "Definition:\n",
        "\n",
        "Polymorphism allows objects of different types to be treated as objects of a common base type. It enables a single interface to represent different types of objects.\n",
        "\n",
        "Method Overloading:\n",
        "Definition:\n",
        "\n",
        "Method overloading is a feature that allows a class to define multiple methods with the same name but with different parameters. The methods must have different parameter lists (number or types of parameters).\n",
        "\n",
        "Key Differences:\n",
        "Purpose:\n",
        "\n",
        "Polymorphism: Provides a common interface to work with different types of objects.\n",
        "Method Overloading: Allows a class to define multiple methods with the same name but different parameter lists.\n",
        "Type of Objects:\n",
        "\n",
        "Polymorphism: Involves different types of objects inheriting from a common base class.\n",
        "Method Overloading: Involves methods within the same class.\n",
        "Execution Time:\n",
        "\n",
        "Polymorphism: Decided at runtime (dynamic polymorphism).\n",
        "Method Overloading: Decided at compile-time (static polymorphism)."
      ]
    },
    {
      "cell_type": "code",
      "execution_count": null,
      "id": "119a6e19",
      "metadata": {
        "id": "119a6e19",
        "outputId": "384c81ce-82c0-41fa-efa6-5e1283b0af2e"
      },
      "outputs": [
        {
          "name": "stdout",
          "output_type": "stream",
          "text": [
            "5\n",
            "10\n",
            "Generic animal sound\n",
            "Woof! Woof!\n",
            "Meow!\n"
          ]
        }
      ],
      "source": [
        "#overloading\n",
        "class Calculator:\n",
        "    def add(self, a, b, c=None):\n",
        "        if c is not None:\n",
        "            return a + b + c\n",
        "        else:\n",
        "            return a + b\n",
        "\n",
        "# Creating an instance of the Calculator class\n",
        "calculator = Calculator()\n",
        "\n",
        "# Using method overloading with different parameter lists\n",
        "result1 = calculator.add(2, 3)        # Calls the first add method\n",
        "result2 = calculator.add(2, 3, 5)     # Calls the second add method\n",
        "\n",
        "print(result1)  # Output: 5\n",
        "print(result2)  # Output: 10\n",
        "\n",
        "\n",
        "#overriding\n",
        "class Animal:\n",
        "    def make_sound(self):\n",
        "        return \"Generic animal sound\"\n",
        "\n",
        "class Dog(Animal):\n",
        "    def make_sound(self):\n",
        "        return \"Woof! Woof!\"\n",
        "\n",
        "class Cat(Animal):\n",
        "    def make_sound(self):\n",
        "        return \"Meow!\"\n",
        "\n",
        "# Polymorphism: Using a common interface\n",
        "def animal_sound(animal):\n",
        "    return animal.make_sound()\n",
        "\n",
        "# Creating instances of different types\n",
        "generic_animal = Animal()\n",
        "dog = Dog()\n",
        "cat = Cat()\n",
        "\n",
        "# Using the common interface with different types of objects\n",
        "print(animal_sound(generic_animal))  # Output: Generic animal sound\n",
        "print(animal_sound(dog))             # Output: Woof! Woof!\n",
        "print(animal_sound(cat))             # Output: Meow!\n",
        "\n"
      ]
    },
    {
      "cell_type": "markdown",
      "id": "88320d32",
      "metadata": {
        "id": "88320d32"
      },
      "source": [
        "### 6. Create a Python class called `Animal` with a method `speak()`. Then, create child classes like `Dog`, `Cat`, and `Bird`, each with their own `speak()` method. Demonstrate polymorphism by calling the `speak()` method  on objects of different subclasses"
      ]
    },
    {
      "cell_type": "code",
      "execution_count": null,
      "id": "1c69b79a",
      "metadata": {
        "id": "1c69b79a",
        "outputId": "2716b283-732b-46a2-b501-86b5c8472632"
      },
      "outputs": [
        {
          "name": "stdout",
          "output_type": "stream",
          "text": [
            "Generic animal sound\n",
            "Woof! Woof!\n",
            "Meow!\n",
            "Chirp! Chirp!\n"
          ]
        }
      ],
      "source": [
        "class Animal:\n",
        "    def speak(self):\n",
        "        return \"Generic animal sound\"\n",
        "\n",
        "class Dog(Animal):\n",
        "    def speak(self):\n",
        "        return \"Woof! Woof!\"\n",
        "\n",
        "class Cat(Animal):\n",
        "    def speak(self):\n",
        "        return \"Meow!\"\n",
        "\n",
        "class Bird(Animal):\n",
        "    def speak(self):\n",
        "        return \"Chirp! Chirp!\"\n",
        "\n",
        "# Creating instances of different subclasses\n",
        "generic_animal = Animal()\n",
        "dog = Dog()\n",
        "cat = Cat()\n",
        "bird = Bird()\n",
        "\n",
        "# Using polymorphism to call the speak() method on different types of objects\n",
        "print(generic_animal.speak())  # Output: Generic animal sound\n",
        "print(dog.speak())             # Output: Woof! Woof!\n",
        "print(cat.speak())             # Output: Meow!\n",
        "print(bird.speak())            # Output: Chirp! Chirp!\n"
      ]
    },
    {
      "cell_type": "markdown",
      "id": "c0ad806d",
      "metadata": {
        "id": "c0ad806d"
      },
      "source": [
        "### 7. Discuss the use of abstract methods and classes in achieving polymorphism in Python. Provide an example using the `abc` module."
      ]
    },
    {
      "cell_type": "raw",
      "id": "307576d2",
      "metadata": {
        "id": "307576d2"
      },
      "source": [
        "n Python, abstract methods and classes provide a way to define a common interface for a group of related classes. Abstract methods are declared in an abstract class but do not provide an implementation. Subclasses are then required to provide concrete implementations for these abstract methods. This mechanism helps achieve polymorphism by enforcing a consistent interface across multiple classes.\n",
        "\n",
        "The abc module (Abstract Base Classes) in Python provides tools for working with abstract classes. Let's go through an example:\n"
      ]
    },
    {
      "cell_type": "code",
      "execution_count": null,
      "id": "f6850d93",
      "metadata": {
        "id": "f6850d93",
        "outputId": "116ef621-d17f-4f2f-df1e-2842aacc53c0"
      },
      "outputs": [
        {
          "name": "stdout",
          "output_type": "stream",
          "text": [
            "Woof! Woof!\n",
            "Meow!\n",
            "Chirp! Chirp!\n"
          ]
        }
      ],
      "source": [
        "from abc import ABC, abstractmethod\n",
        "\n",
        "# Abstract class with abstract method\n",
        "class Animal(ABC):\n",
        "    @abstractmethod\n",
        "    def speak(self):\n",
        "        pass\n",
        "\n",
        "# Concrete subclasses implementing the abstract method\n",
        "class Dog(Animal):\n",
        "    def speak(self):\n",
        "        return \"Woof! Woof!\"\n",
        "\n",
        "class Cat(Animal):\n",
        "    def speak(self):\n",
        "        return \"Meow!\"\n",
        "\n",
        "class Bird(Animal):\n",
        "    def speak(self):\n",
        "        return \"Chirp! Chirp!\"\n",
        "\n",
        "# Function demonstrating polymorphism with abstract class\n",
        "def animal_sound(animal):\n",
        "    return animal.speak()\n",
        "\n",
        "# Creating instances of different subclasses\n",
        "dog = Dog()\n",
        "cat = Cat()\n",
        "bird = Bird()\n",
        "\n",
        "# Using polymorphism to call the speak() method on different types of objects\n",
        "print(animal_sound(dog))   # Output: Woof! Woof!\n",
        "print(animal_sound(cat))   # Output: Meow!\n",
        "print(animal_sound(bird))  # Output: Chirp! Chirp!\n"
      ]
    },
    {
      "cell_type": "markdown",
      "id": "c026873f",
      "metadata": {
        "id": "c026873f"
      },
      "source": [
        "### 8. Create a Python class hierarchy for a vehicle system (e.g., car, bicycle, boat) and implement a polymorphic `start()` method that prints a message specific to each vehicle type."
      ]
    },
    {
      "cell_type": "code",
      "execution_count": null,
      "id": "7b158e7d",
      "metadata": {
        "id": "7b158e7d",
        "outputId": "ad5a63e4-3b9a-4796-9124-b233c2759ee1"
      },
      "outputs": [
        {
          "name": "stdout",
          "output_type": "stream",
          "text": [
            "Starting the Gasoline car: Toyota Camry\n",
            "Pedaling the Trek Mountain Bike bicycle with 21 gears\n",
            "Starting the Motor boat: Sea Ray Sundancer\n"
          ]
        }
      ],
      "source": [
        "class Vehicle:\n",
        "    def __init__(self, brand, model):\n",
        "        self.brand = brand\n",
        "        self.model = model\n",
        "\n",
        "    def start(self):\n",
        "        return f\"Starting the {self.brand} {self.model}\"\n",
        "\n",
        "class Car(Vehicle):\n",
        "    def __init__(self, brand, model, fuel_type):\n",
        "        super().__init__(brand, model)\n",
        "        self.fuel_type = fuel_type\n",
        "\n",
        "    def start(self):\n",
        "        return f\"Starting the {self.fuel_type} car: {self.brand} {self.model}\"\n",
        "\n",
        "class Bicycle(Vehicle):\n",
        "    def __init__(self, brand, model, num_gears):\n",
        "        super().__init__(brand, model)\n",
        "        self.num_gears = num_gears\n",
        "\n",
        "    def start(self):\n",
        "        return f\"Pedaling the {self.brand} {self.model} bicycle with {self.num_gears} gears\"\n",
        "\n",
        "class Boat(Vehicle):\n",
        "    def __init__(self, brand, model, propulsion):\n",
        "        super().__init__(brand, model)\n",
        "        self.propulsion = propulsion\n",
        "\n",
        "    def start(self):\n",
        "        return f\"Starting the {self.propulsion} boat: {self.brand} {self.model}\"\n",
        "\n",
        "# Function demonstrating polymorphism with the start() method\n",
        "def start_vehicle(vehicle):\n",
        "    return vehicle.start()\n",
        "\n",
        "# Creating instances of different subclasses\n",
        "car = Car(brand=\"Toyota\", model=\"Camry\", fuel_type=\"Gasoline\")\n",
        "bicycle = Bicycle(brand=\"Trek\", model=\"Mountain Bike\", num_gears=21)\n",
        "boat = Boat(brand=\"Sea Ray\", model=\"Sundancer\", propulsion=\"Motor\")\n",
        "\n",
        "# Using polymorphism to call the start() method on different types of vehicles\n",
        "print(start_vehicle(car))      # Output: Starting the Gasoline car: Toyota Camry\n",
        "print(start_vehicle(bicycle))  # Output: Pedaling the Trek Mountain Bike bicycle with 21 gears\n",
        "print(start_vehicle(boat))      # Output: Starting the Motor boat: Sea Ray Sundancer\n"
      ]
    },
    {
      "cell_type": "markdown",
      "id": "11d0d328",
      "metadata": {
        "id": "11d0d328"
      },
      "source": [
        "### 9. Explain the significance of the `isinstance()` and `issubclass()` functions in Python polymorphism."
      ]
    },
    {
      "cell_type": "raw",
      "id": "c758c2c6",
      "metadata": {
        "id": "c758c2c6"
      },
      "source": [
        "The isinstance() and issubclass() functions in Python are essential tools when working with polymorphism. They are used to check the type of objects and classes, respectively, and are particularly useful for ensuring that objects adhere to a certain interface or that a class inherits from a specific base class. Let's discuss the significance of each function:\n",
        "\n",
        "1. isinstance()\n",
        "\n",
        "Significance:\n",
        "\n",
        "The isinstance() function is used to check if an object is an instance of a particular class or a tuple of classes.\n",
        "It plays a crucial role in polymorphism by allowing you to verify whether an object can be used in a certain context or has a specific type.\n",
        "\n",
        "2. issubclass()\n",
        "\n",
        "Significance:\n",
        "\n",
        "The issubclass() function is used to check if a class is a subclass of another class or a tuple of classes.\n",
        "It is important in polymorphism to verify that a certain class inherits from a particular base class or implements a specific interface."
      ]
    },
    {
      "cell_type": "code",
      "execution_count": null,
      "id": "3942c50a",
      "metadata": {
        "id": "3942c50a",
        "outputId": "3bbb1634-d3da-477a-930b-d8313237b8bb"
      },
      "outputs": [
        {
          "name": "stdout",
          "output_type": "stream",
          "text": [
            "True\n",
            "True\n",
            "True\n",
            "False\n",
            "True\n",
            "True\n",
            "False\n"
          ]
        }
      ],
      "source": [
        "#isinstance\n",
        "class Animal:\n",
        "    pass\n",
        "\n",
        "class Dog(Animal):\n",
        "    pass\n",
        "\n",
        "class Cat(Animal):\n",
        "    pass\n",
        "\n",
        "# Creating instances\n",
        "animal_obj = Animal()\n",
        "dog_obj = Dog()\n",
        "cat_obj = Cat()\n",
        "\n",
        "# Checking if objects are instances of specific classes\n",
        "print(isinstance(animal_obj, Animal))  # Output: True\n",
        "print(isinstance(dog_obj, Animal))      # Output: True\n",
        "print(isinstance(cat_obj, Animal))      # Output: True\n",
        "print(isinstance(dog_obj, Cat))         # Output: False\n",
        "\n",
        "\n",
        "\n",
        "#issubclass\n",
        "class Shape:\n",
        "    pass\n",
        "\n",
        "class Circle(Shape):\n",
        "    pass\n",
        "\n",
        "class Square(Shape):\n",
        "    pass\n",
        "\n",
        "# Checking if classes are subclasses of specific classes\n",
        "print(issubclass(Circle, Shape))   # Output: True\n",
        "print(issubclass(Square, Shape))   # Output: True\n",
        "print(issubclass(Square, Circle))  # Output: False\n"
      ]
    },
    {
      "cell_type": "markdown",
      "id": "e09a2d2a",
      "metadata": {
        "id": "e09a2d2a"
      },
      "source": [
        "### 10. What is the role of the `@abstractmethod` decorator in achieving polymorphism in Python? Provide an example."
      ]
    },
    {
      "cell_type": "raw",
      "id": "3db85ff4",
      "metadata": {
        "id": "3db85ff4"
      },
      "source": [
        "The @abstractmethod decorator in Python is part of the abc module (Abstract Base Classes), and it is used to declare abstract methods within abstract classes. Abstract methods are methods that are declared in the base class but don't have an implementation. Subclasses are required to provide concrete implementations for these abstract methods. This mechanism helps enforce a consistent interface across related classes, contributing to polymorphism."
      ]
    },
    {
      "cell_type": "code",
      "execution_count": null,
      "id": "72cd6a8a",
      "metadata": {
        "id": "72cd6a8a",
        "outputId": "a38aa2b2-142a-4b0c-ab74-687a8c06973f"
      },
      "outputs": [
        {
          "name": "stdout",
          "output_type": "stream",
          "text": [
            "The area of the shape is: 78.50\n",
            "The area of the shape is: 16.00\n",
            "The area of the shape is: 9.00\n"
          ]
        }
      ],
      "source": [
        "from abc import ABC, abstractmethod\n",
        "\n",
        "# Abstract class with abstract method\n",
        "class Shape(ABC):\n",
        "    @abstractmethod\n",
        "    def calculate_area(self):\n",
        "        pass\n",
        "\n",
        "# Concrete subclasses implementing the abstract method\n",
        "class Circle(Shape):\n",
        "    def __init__(self, radius):\n",
        "        self.radius = radius\n",
        "\n",
        "    def calculate_area(self):\n",
        "        # Area of a circle: π * r^2\n",
        "        return 3.14 * self.radius ** 2\n",
        "\n",
        "class Square(Shape):\n",
        "    def __init__(self, side_length):\n",
        "        self.side_length = side_length\n",
        "\n",
        "    def calculate_area(self):\n",
        "        # Area of a square: side^2\n",
        "        return self.side_length ** 2\n",
        "\n",
        "class Triangle(Shape):\n",
        "    def __init__(self, base, height):\n",
        "        self.base = base\n",
        "        self.height = height\n",
        "\n",
        "    def calculate_area(self):\n",
        "        # Area of a triangle: (base * height) / 2\n",
        "        return (self.base * self.height) / 2\n",
        "\n",
        "# Function demonstrating polymorphism with abstract class\n",
        "def print_area(shape):\n",
        "    area = shape.calculate_area()\n",
        "    print(f\"The area of the shape is: {area:.2f}\")\n",
        "\n",
        "# Creating instances of different subclasses\n",
        "circle = Circle(radius=5)\n",
        "square = Square(side_length=4)\n",
        "triangle = Triangle(base=3, height=6)\n",
        "\n",
        "# Using polymorphism to call the calculate_area() method on different types of shapes\n",
        "print_area(circle)    # Output: The area of the shape is: 78.50\n",
        "print_area(square)    # Output: The area of the shape is: 16.00\n",
        "print_area(triangle)  # Output: The area of the shape is: 9.00\n"
      ]
    },
    {
      "cell_type": "markdown",
      "id": "ebd15607",
      "metadata": {
        "id": "ebd15607"
      },
      "source": [
        "### 11. Create a Python class called `Shape` with a polymorphic method `area()` that calculates the area of different shapes (e.g., circle, rectangle, triangle)"
      ]
    },
    {
      "cell_type": "code",
      "execution_count": null,
      "id": "3fc11b9a",
      "metadata": {
        "id": "3fc11b9a",
        "outputId": "d7604a84-825e-4949-be87-bc98837a577d"
      },
      "outputs": [
        {
          "name": "stdout",
          "output_type": "stream",
          "text": [
            "Area of the circle: 78.54\n",
            "Area of the rectangle: 24\n",
            "Area of the triangle: 12.0\n"
          ]
        }
      ],
      "source": [
        "import math\n",
        "\n",
        "class Shape:\n",
        "    def area(self):\n",
        "        pass\n",
        "\n",
        "class Circle(Shape):\n",
        "    def __init__(self, radius):\n",
        "        self.radius = radius\n",
        "\n",
        "    def area(self):\n",
        "        # Area of a circle: π * r^2\n",
        "        return math.pi * self.radius ** 2\n",
        "\n",
        "class Rectangle(Shape):\n",
        "    def __init__(self, length, width):\n",
        "        self.length = length\n",
        "        self.width = width\n",
        "\n",
        "    def area(self):\n",
        "        # Area of a rectangle: length * width\n",
        "        return self.length * self.width\n",
        "\n",
        "class Triangle(Shape):\n",
        "    def __init__(self, base, height):\n",
        "        self.base = base\n",
        "        self.height = height\n",
        "\n",
        "    def area(self):\n",
        "        # Area of a triangle: (base * height) / 2\n",
        "        return (self.base * self.height) / 2\n",
        "\n",
        "# Creating instances of different shapes\n",
        "circle = Circle(radius=5)\n",
        "rectangle = Rectangle(length=4, width=6)\n",
        "triangle = Triangle(base=3, height=8)\n",
        "\n",
        "# Using polymorphism to call the area() method on different types of shapes\n",
        "print(f\"Area of the circle: {circle.area():.2f}\")\n",
        "print(f\"Area of the rectangle: {rectangle.area()}\")\n",
        "print(f\"Area of the triangle: {triangle.area()}\")\n"
      ]
    },
    {
      "cell_type": "markdown",
      "id": "f8155c57",
      "metadata": {
        "id": "f8155c57"
      },
      "source": [
        "### 12. Discuss the benefits of polymorphism in terms of code reusability and flexibility in Python programs."
      ]
    },
    {
      "cell_type": "raw",
      "id": "c07c8bbf",
      "metadata": {
        "id": "c07c8bbf"
      },
      "source": [
        "Benefits of Polymorphism in Python:\n",
        "\n",
        "Code Reusability:\n",
        "\n",
        "Reuse of Interface: Polymorphism allows different classes to share a common interface (method names), making it easier to reuse code. Objects of different types can be used interchangeably, promoting modular and reusable code.\n",
        "\n",
        "Inheritance and Composition: Polymorphism works well with both inheritance and composition, enabling code reuse by allowing new classes to leverage the behavior of existing classes without modifying their code.\n",
        "\n",
        "Flexibility and Extensibility:\n",
        "\n",
        "Adaptability: Polymorphism allows the code to adapt to different types of objects without altering the existing codebase. New classes can be added or existing ones modified without affecting the overall structure of the program.\n",
        "\n",
        "Interface Flexibility: By defining a common interface (through abstract classes or shared method names), polymorphism allows for flexibility in accepting different types of objects. This makes the code more adaptable to changing requirements.\n",
        "\n",
        "Improved Maintainability:\n",
        "\n",
        "Easier Maintenance: Polymorphism reduces the complexity of code maintenance. When new functionality needs to be added, it can often be done by creating new classes or modifying existing ones without affecting the rest of the codebase.\n",
        "\n",
        "Enhanced Readability: Polymorphic code tends to be more readable and understandable. Developers can work with a consistent interface and focus on the specific details of each class, leading to cleaner and more maintainable code.\n",
        "\n",
        "Dynamic Binding and Late Binding:\n",
        "\n",
        "Dynamic Binding: Polymorphism allows for dynamic binding of methods at runtime. The specific method to be executed is determined based on the actual type of the object at runtime, enhancing flexibility.\n",
        "\n",
        "Late Binding: Late binding enables the resolution of method calls at runtime, allowing for the selection of the appropriate method based on the actual type of the object. This is in contrast to early binding, which occurs at compile-time.\n",
        "\n",
        "Enhanced Readability and Understanding:\n",
        "\n",
        "Common Interface: Polymorphism promotes a common interface for related classes, making it easier for developers to understand and reason about the code. A shared method name indicates a consistent behavior across different types of objects.\n",
        "\n",
        "Unified Access: Developers can interact with objects through a unified interface, making the code more readable. The same method name can be used across different classes, leading to a more intuitive and expressive code structure.\n",
        "\n",
        "In summary, polymorphism in Python enhances code reusability, flexibility, and maintainability. It allows for the creation of versatile and extensible code that can adapt to changing requirements without sacrificing readability or introducing complexity. The use of polymorphism contributes to the development of modular and scalable software systems."
      ]
    },
    {
      "cell_type": "markdown",
      "id": "bcee5537",
      "metadata": {
        "id": "bcee5537"
      },
      "source": [
        "### 13. Explain the use of the `super()` function in Python polymorphism. How does it help call methods of parent classes?"
      ]
    },
    {
      "cell_type": "raw",
      "id": "42aa496a",
      "metadata": {
        "id": "42aa496a"
      },
      "source": [
        "The super() function in Python is used to call methods and access attributes of a parent class from within a subclass. It is particularly useful in the context of polymorphism when a subclass overrides a method defined in its parent class, and you want to invoke the overridden method from the parent class. The super() function ensures that the correct method is called based on the method resolution order (MRO).\n",
        "\n",
        "Usage of super() in Python Polymorphism:"
      ]
    },
    {
      "cell_type": "code",
      "execution_count": null,
      "id": "aab0e5c5",
      "metadata": {
        "id": "aab0e5c5",
        "outputId": "498a7cbc-b82e-48b3-fec4-14764c9aefcf"
      },
      "outputs": [
        {
          "name": "stdout",
          "output_type": "stream",
          "text": [
            "Hello from Parent and Child\n"
          ]
        }
      ],
      "source": [
        "class Parent:\n",
        "    def speak(self):\n",
        "        return \"Hello from Parent\"\n",
        "\n",
        "class Child(Parent):\n",
        "    def speak(self):\n",
        "        # Calling the overridden method in the parent class\n",
        "        return super().speak() + \" and Child\"\n",
        "\n",
        "# Creating an instance of the Child class\n",
        "child_instance = Child()\n",
        "\n",
        "# Calling the overridden method in the Child class\n",
        "result = child_instance.speak()\n",
        "print(result)\n"
      ]
    },
    {
      "cell_type": "markdown",
      "id": "4668bf9f",
      "metadata": {
        "id": "4668bf9f"
      },
      "source": [
        "### 14. Create a Python class hierarchy for a banking system with various account types (e.g., savings, checking, credit card) and demonstrate polymorphism by implementing a common `withdraw()` method"
      ]
    },
    {
      "cell_type": "code",
      "execution_count": null,
      "id": "8a3eaaaa",
      "metadata": {
        "id": "8a3eaaaa",
        "outputId": "0be38273-22b8-4dd3-e6a5-0b50bae4a324"
      },
      "outputs": [
        {
          "name": "stdout",
          "output_type": "stream",
          "text": [
            "Withdrawal of $205 successful. Remaining balance: $795 (Penalty applied: $5)\n",
            "Withdrawal of $1800 successful. Remaining balance: $-300\n",
            "Withdrawal of $700 successful. Remaining balance: $-1200\n"
          ]
        }
      ],
      "source": [
        "class BankAccount:\n",
        "    def __init__(self, account_number, balance):\n",
        "        self.account_number = account_number\n",
        "        self.balance = balance\n",
        "\n",
        "    def withdraw(self, amount):\n",
        "        if amount <= 0:\n",
        "            return \"Invalid withdrawal amount\"\n",
        "        elif amount > self.balance:\n",
        "            return \"Insufficient funds\"\n",
        "        else:\n",
        "            self.balance -= amount\n",
        "            return f\"Withdrawal of ${amount} successful. Remaining balance: ${self.balance}\"\n",
        "\n",
        "class SavingsAccount(BankAccount):\n",
        "    def __init__(self, account_number, balance, interest_rate):\n",
        "        super().__init__(account_number, balance)\n",
        "        self.interest_rate = interest_rate\n",
        "\n",
        "    def withdraw(self, amount):\n",
        "        # Applying a penalty for withdrawals from savings account\n",
        "        penalty = 5\n",
        "        withdrawal_result = super().withdraw(amount + penalty)\n",
        "        return f\"{withdrawal_result} (Penalty applied: ${penalty})\"\n",
        "\n",
        "class CheckingAccount(BankAccount):\n",
        "    def __init__(self, account_number, balance, overdraft_limit):\n",
        "        super().__init__(account_number, balance)\n",
        "        self.overdraft_limit = overdraft_limit\n",
        "\n",
        "    def withdraw(self, amount):\n",
        "        # Allowing overdraft up to the overdraft limit\n",
        "        if amount <= 0:\n",
        "            return \"Invalid withdrawal amount\"\n",
        "        elif amount > (self.balance + self.overdraft_limit):\n",
        "            return \"Withdrawal amount exceeds available balance and overdraft limit\"\n",
        "        else:\n",
        "            self.balance -= amount\n",
        "            return f\"Withdrawal of ${amount} successful. Remaining balance: ${self.balance}\"\n",
        "\n",
        "class CreditCardAccount(BankAccount):\n",
        "    def __init__(self, account_number, credit_limit, balance):\n",
        "        super().__init__(account_number, balance)\n",
        "        self.credit_limit = credit_limit\n",
        "\n",
        "    def withdraw(self, amount):\n",
        "        # Allowing withdrawals up to the credit limit\n",
        "        if amount <= 0:\n",
        "            return \"Invalid withdrawal amount\"\n",
        "        elif amount > (self.credit_limit + self.balance):\n",
        "            return \"Withdrawal amount exceeds available credit limit\"\n",
        "        else:\n",
        "            self.balance -= amount\n",
        "            return f\"Withdrawal of ${amount} successful. Remaining balance: ${self.balance}\"\n",
        "\n",
        "# Example usage:\n",
        "\n",
        "# Create instances of different account types\n",
        "savings_account = SavingsAccount(account_number=\"SA123\", balance=1000, interest_rate=0.02)\n",
        "checking_account = CheckingAccount(account_number=\"CA456\", balance=1500, overdraft_limit=500)\n",
        "credit_card_account = CreditCardAccount(account_number=\"CC789\", credit_limit=2000, balance=-500)\n",
        "\n",
        "# Demonstrate polymorphism by calling the common withdraw() method on different account types\n",
        "print(savings_account.withdraw(200))  # Output: Withdrawal of $205 successful. Remaining balance: $795 (Penalty applied: $5)\n",
        "print(checking_account.withdraw(1800))  # Output: Withdrawal amount exceeds available balance and overdraft limit\n",
        "print(credit_card_account.withdraw(700))  # Output: Withdrawal of $700 successful. Remaining balance: $-1200\n"
      ]
    },
    {
      "cell_type": "markdown",
      "id": "dfca5814",
      "metadata": {
        "id": "dfca5814"
      },
      "source": [
        "### 15. Describe the concept of operator overloading in Python and how it relates to polymorphism. Provide examples using operators like `+` and `*`."
      ]
    },
    {
      "cell_type": "code",
      "execution_count": null,
      "id": "5a44988a",
      "metadata": {
        "id": "5a44988a",
        "outputId": "695ce32c-ed4a-4f22-ca7b-157bf373a6ea"
      },
      "outputs": [
        {
          "name": "stdout",
          "output_type": "stream",
          "text": [
            "4 6\n",
            "2 4\n"
          ]
        }
      ],
      "source": [
        "class Point:\n",
        "    def __init__(self, x, y):\n",
        "        self.x = x\n",
        "        self.y = y\n",
        "\n",
        "    # Overloading the + operator\n",
        "    def __add__(self, other):\n",
        "        return Point(self.x + other.x, self.y + other.y)\n",
        "\n",
        "    # Overloading the * operator\n",
        "    def __mul__(self, scalar):\n",
        "        return Point(self.x * scalar, self.y * scalar)\n",
        "\n",
        "# Example usage\n",
        "point1 = Point(1, 2)\n",
        "point2 = Point(3, 4)\n",
        "\n",
        "result_add = point1 + point2  # Adds the coordinates\n",
        "result_mul = point1 * 2       # Multiplies the coordinates by 2\n",
        "\n",
        "print(result_add.x, result_add.y)  # Output: 4 6\n",
        "print(result_mul.x, result_mul.y)  # Output: 2 4\n"
      ]
    },
    {
      "cell_type": "markdown",
      "id": "02a708e2",
      "metadata": {
        "id": "02a708e2"
      },
      "source": [
        "### 16. What is dynamic polymorphism, and how is it achieved in Python?"
      ]
    },
    {
      "cell_type": "raw",
      "id": "6f6ebddf",
      "metadata": {
        "id": "6f6ebddf"
      },
      "source": [
        "Dynamic polymorphism, also known as runtime polymorphism or late binding, is a concept in object-oriented programming where the actual method or operation that gets executed is determined at runtime based on the type of object. This allows different classes to be treated as instances of a common base class, and their specific methods are invoked dynamically based on the actual object type.\n",
        "\n",
        "In Python, dynamic polymorphism is achieved through method overriding and the use of inheritance. Here's a simple explanation:\n",
        "\n",
        "Method Overriding:\n",
        "Method overriding occurs when a subclass provides a specific implementation for a method that is already defined in its superclass. The overridden method in the subclass should have the same name and parameters as the method in the superclass.\n",
        "\n",
        "Here's an example in Python:"
      ]
    },
    {
      "cell_type": "code",
      "execution_count": null,
      "id": "50461ad2",
      "metadata": {
        "id": "50461ad2",
        "outputId": "73845806-69b4-475b-d91a-b1cc9ed67f51"
      },
      "outputs": [
        {
          "name": "stdout",
          "output_type": "stream",
          "text": [
            "this is from Cat class.\n",
            "this is from Dog class.\n"
          ]
        }
      ],
      "source": [
        "#example\n",
        "class Animal:\n",
        "    def display(self):\n",
        "        print(\"this is from animal class\")\n",
        "\n",
        "class Dog(Animal):\n",
        "    def display(self):\n",
        "        print(\"this is from Dog class.\")\n",
        "\n",
        "class Cat(Animal):\n",
        "    def display(self):\n",
        "        print(\"this is from Cat class.\")\n",
        "\n",
        "obj1 = Cat()\n",
        "obj2 = Dog()\n",
        "obj1.display()\n",
        "obj2.display()\n"
      ]
    },
    {
      "cell_type": "markdown",
      "id": "0e5d05e9",
      "metadata": {
        "id": "0e5d05e9"
      },
      "source": [
        "### 17. Create a Python class hierarchy for employees in a company (e.g., manager, developer, designer) and implement polymorphism through a common `calculate_salary()` method."
      ]
    },
    {
      "cell_type": "code",
      "execution_count": null,
      "id": "35af7862",
      "metadata": {
        "id": "35af7862",
        "outputId": "fe73e950-a28f-4d2b-ce45-9d70ffab0434"
      },
      "outputs": [
        {
          "name": "stdout",
          "output_type": "stream",
          "text": [
            "John Doe - Role: Manager, Salary: $85000\n",
            "Alice Smith - Role: Developer, Salary: $60000\n",
            "Bob Johnson - Role: Designer, Salary: $55000\n"
          ]
        }
      ],
      "source": [
        "class Employee:\n",
        "    def __init__(self, name, role):\n",
        "        self.name = name\n",
        "        self.role = role\n",
        "\n",
        "    def calculate_salary(self):\n",
        "        raise NotImplementedError(\"Subclasses must implement this method\")\n",
        "\n",
        "\n",
        "class Manager(Employee):\n",
        "    def __init__(self, name, salary, bonus):\n",
        "        super().__init__(name, role=\"Manager\")\n",
        "        self.salary = salary\n",
        "        self.bonus = bonus\n",
        "\n",
        "    def calculate_salary(self):\n",
        "        return self.salary + self.bonus\n",
        "\n",
        "\n",
        "class Developer(Employee):\n",
        "    def __init__(self, name, salary, language):\n",
        "        super().__init__(name, role=\"Developer\")\n",
        "        self.salary = salary\n",
        "        self.language = language\n",
        "\n",
        "    def calculate_salary(self):\n",
        "        return self.salary\n",
        "\n",
        "\n",
        "class Designer(Employee):\n",
        "    def __init__(self, name, salary, tool):\n",
        "        super().__init__(name, role=\"Designer\")\n",
        "        self.salary = salary\n",
        "        self.tool = tool\n",
        "\n",
        "    def calculate_salary(self):\n",
        "        return self.salary\n",
        "\n",
        "\n",
        "\n",
        "manager = Manager(name=\"John Doe\", salary=70000, bonus=15000)\n",
        "developer = Developer(name=\"Alice Smith\", salary=60000, language=\"Python\")\n",
        "designer = Designer(name=\"Bob Johnson\", salary=55000, tool=\"Adobe Creative Suite\")\n",
        "\n",
        "employees = [manager, developer, designer]\n",
        "\n",
        "for employee in employees:\n",
        "    print(f\"{employee.name} - Role: {employee.role}, Salary: ${employee.calculate_salary()}\")\n"
      ]
    },
    {
      "cell_type": "markdown",
      "id": "be42d382",
      "metadata": {
        "id": "be42d382"
      },
      "source": [
        "### 18. Discuss the concept of function pointers and how they can be used to achieve polymorphism in Python."
      ]
    },
    {
      "cell_type": "raw",
      "id": "a05a120e",
      "metadata": {
        "id": "a05a120e"
      },
      "source": [
        "In Python, the concept of function pointers is less explicit compared to languages like C or C++. However, Python provides a way to achieve polymorphism through functions, and the idea is somewhat analogous.\n",
        "\n",
        "Function Pointers in Python:\n",
        "In Python, functions are first-class citizens, meaning they can be assigned to variables, passed as arguments to other functions, and returned as values from functions. This flexibility allows you to achieve a form of polymorphism by using functions in a manner similar to function pointers in other languages.\n",
        "\n",
        "Achieving Polymorphism with Functions in Python:\n",
        "Let's consider a simple example where we have different operations that can be performed on numbers. We can define functions for each operation and then use them interchangeably to achieve polymorphism:\n"
      ]
    },
    {
      "cell_type": "code",
      "execution_count": null,
      "id": "23786771",
      "metadata": {
        "id": "23786771",
        "outputId": "b08af778-b0fa-4029-fa99-e5731d1c280d"
      },
      "outputs": [
        {
          "name": "stdout",
          "output_type": "stream",
          "text": [
            "8\n",
            "2\n",
            "15\n"
          ]
        }
      ],
      "source": [
        "def add(x, y):\n",
        "    return x + y\n",
        "\n",
        "def subtract(x, y):\n",
        "    return x - y\n",
        "\n",
        "def multiply(x, y):\n",
        "    return x * y\n",
        "\n",
        "# A function that performs an operation\n",
        "def operate(x, y, operation):\n",
        "    return operation(x, y)\n",
        "\n",
        "# Example usage\n",
        "result_add = operate(5, 3, add)          # Performs addition\n",
        "result_subtract = operate(5, 3, subtract)  # Performs subtraction\n",
        "result_multiply = operate(5, 3, multiply)  # Performs multiplication\n",
        "\n",
        "print(result_add)       # Output: 8\n",
        "print(result_subtract)  # Output: 2\n",
        "print(result_multiply)  # Output: 15\n"
      ]
    },
    {
      "cell_type": "markdown",
      "id": "491ec301",
      "metadata": {
        "id": "491ec301"
      },
      "source": [
        "### 19. Explain the role of interfaces and abstract classes in polymorphism, drawing comparisons between them."
      ]
    },
    {
      "cell_type": "raw",
      "id": "028f09ff",
      "metadata": {
        "id": "028f09ff"
      },
      "source": [
        "Interfaces and abstract classes are both mechanisms in object-oriented programming that facilitate polymorphism by providing a way to define common behavior for classes. While they share the goal of enabling polymorphism, they have some key differences in terms of implementation and usage.\n",
        "\n",
        "Abstract Classes:\n",
        "\n",
        "Definition:\n",
        "\n",
        "Abstract classes are classes that cannot be instantiated on their own and may contain abstract methods (methods without a defined implementation).\n",
        "They serve as a blueprint for other classes, providing common attributes and methods.\n",
        "Abstract classes may have concrete methods (methods with an implementation) as well.\n",
        "\n",
        "Inheritance:\n",
        "\n",
        "Subclasses of an abstract class must provide concrete implementations for all abstract methods defined in the abstract class.\n",
        "Abstract classes support both abstract methods and fully implemented methods.\n",
        "\n",
        "Usage:\n",
        "\n",
        "Abstract classes are useful when there is a need to provide a common base for a group of related classes, and you want to ensure that certain methods are implemented in all subclasses.\n",
        "\n",
        "Interfaces:\n",
        "\n",
        "Definition:\n",
        "\n",
        "Interfaces define a contract that classes must adhere to. They only declare method signatures without providing any implementation.\n",
        "A class that implements an interface must provide concrete implementations for all the methods declared in that interface.\n",
        "\n",
        "Inheritance:\n",
        "\n",
        "A class can implement multiple interfaces.\n",
        "Interfaces only contain method signatures, and the implementing class must provide the actual code for each method.\n",
        "\n",
        "Usage:\n",
        "\n",
        "Interfaces are useful when you want to ensure that several classes provide a specific set of methods without concerning yourself with the actual implementation details."
      ]
    },
    {
      "cell_type": "code",
      "execution_count": null,
      "id": "2033631c",
      "metadata": {
        "id": "2033631c"
      },
      "outputs": [],
      "source": [
        "#example on abstract classes\n",
        "\n",
        "from abc import ABC, abstractmethod\n",
        "\n",
        "class Shape(ABC):\n",
        "    @abstractmethod\n",
        "    def area(self):\n",
        "        pass\n",
        "\n",
        "class Circle(Shape):\n",
        "    def __init__(self, radius):\n",
        "        self.radius = radius\n",
        "\n",
        "    def area(self):\n",
        "        return 3.14 * self.radius * self.radius\n",
        "\n",
        "\n",
        "#example interface\n",
        "\n",
        "\n",
        "class Drawable(ABC):\n",
        "    @abstractmethod\n",
        "    def draw(self):\n",
        "        pass\n",
        "\n",
        "class Circle(Drawable):\n",
        "    def draw(self):\n",
        "        print(\"Drawing a circle\")"
      ]
    },
    {
      "cell_type": "markdown",
      "id": "1fe485eb",
      "metadata": {
        "id": "1fe485eb"
      },
      "source": [
        "### 20. Create a Python class for a zoo simulation, demonstrating polymorphism with different animal types (e.g., mammals, birds, reptiles) and their behavior (e.g., eating, sleeping, making sounds)."
      ]
    },
    {
      "cell_type": "code",
      "execution_count": null,
      "id": "fac95b68",
      "metadata": {
        "id": "fac95b68",
        "outputId": "0db203ae-efa8-4931-ea8b-6daa05f0de5c"
      },
      "outputs": [
        {
          "name": "stdout",
          "output_type": "stream",
          "text": [
            "\n",
            "Lion:\n",
            "Lion the mammal is eating both plants and meat.\n",
            "Lion the mammal is sleeping during the night.\n",
            "Lion the mammal produces a variety of sounds.\n",
            "\n",
            "Parrot:\n",
            "Parrot the bird is eating seeds and insects.\n",
            "Parrot the bird is sleeping on a branch.\n",
            "Parrot the bird chirps and sings.\n",
            "\n",
            "Snake:\n",
            "Snake the reptile is eating insects and small animals.\n",
            "Snake the reptile rests under a heat source during the night.\n",
            "Snake the reptile hisses and makes reptilian sounds.\n"
          ]
        }
      ],
      "source": [
        "from abc import ABC, abstractmethod\n",
        "\n",
        "class Animal(ABC):\n",
        "    def __init__(self, name):\n",
        "        self.name = name\n",
        "\n",
        "    @abstractmethod\n",
        "    def eat(self):\n",
        "        pass\n",
        "\n",
        "    @abstractmethod\n",
        "    def sleep(self):\n",
        "        pass\n",
        "\n",
        "    @abstractmethod\n",
        "    def make_sound(self):\n",
        "        pass\n",
        "\n",
        "class Mammal(Animal):\n",
        "    def eat(self):\n",
        "        print(f\"{self.name} the mammal is eating both plants and meat.\")\n",
        "\n",
        "    def sleep(self):\n",
        "        print(f\"{self.name} the mammal is sleeping during the night.\")\n",
        "\n",
        "    def make_sound(self):\n",
        "        print(f\"{self.name} the mammal produces a variety of sounds.\")\n",
        "\n",
        "class Bird(Animal):\n",
        "    def eat(self):\n",
        "        print(f\"{self.name} the bird is eating seeds and insects.\")\n",
        "\n",
        "    def sleep(self):\n",
        "        print(f\"{self.name} the bird is sleeping on a branch.\")\n",
        "\n",
        "    def make_sound(self):\n",
        "        print(f\"{self.name} the bird chirps and sings.\")\n",
        "\n",
        "class Reptile(Animal):\n",
        "    def eat(self):\n",
        "        print(f\"{self.name} the reptile is eating insects and small animals.\")\n",
        "\n",
        "    def sleep(self):\n",
        "        print(f\"{self.name} the reptile rests under a heat source during the night.\")\n",
        "\n",
        "    def make_sound(self):\n",
        "        print(f\"{self.name} the reptile hisses and makes reptilian sounds.\")\n",
        "\n",
        "# Zoo simulation\n",
        "zoo_animals = [\n",
        "    Mammal(\"Lion\"),\n",
        "    Bird(\"Parrot\"),\n",
        "    Reptile(\"Snake\")\n",
        "]\n",
        "\n",
        "for animal in zoo_animals:\n",
        "    print(f\"\\n{animal.name}:\")\n",
        "    animal.eat()\n",
        "    animal.sleep()\n",
        "    animal.make_sound()\n"
      ]
    },
    {
      "cell_type": "markdown",
      "id": "6e882bf3",
      "metadata": {
        "id": "6e882bf3"
      },
      "source": [
        "## Abstraction:"
      ]
    },
    {
      "cell_type": "markdown",
      "id": "8e544b30",
      "metadata": {
        "id": "8e544b30"
      },
      "source": [
        "### 1. What is abstraction in Python, and how does it relate to object-oriented programming?"
      ]
    },
    {
      "cell_type": "raw",
      "id": "62509660",
      "metadata": {
        "id": "62509660"
      },
      "source": [
        "Abstraction in Python involves creating abstract classes and interfaces to model real-world entities and hide implementation details.\n",
        "\n",
        "It contributes to the principles of encapsulation, polymorphism, and the overall organization of code in object-oriented programming.\n",
        "\n",
        "Abstraction helps developers build modular, maintainable, and scalable software systems by focusing on essential aspects and minimizing unnecessary complexity."
      ]
    },
    {
      "cell_type": "markdown",
      "id": "408f8535",
      "metadata": {
        "id": "408f8535"
      },
      "source": [
        "### 2. Describe the benefits of abstraction in terms of code organization and complexity reduction."
      ]
    },
    {
      "cell_type": "raw",
      "id": "adbb0470",
      "metadata": {
        "id": "adbb0470"
      },
      "source": [
        "Abstraction in code organization and complexity reduction provides a structured and modular approach to software development.\n",
        "\n",
        "It fosters maintainability, readability, and scalability, making codebases more adaptable to changes and facilitating collaboration among developers.\n",
        "\n",
        "Abstraction is a powerful tool for managing complexity and creating software systems that are both understandable and maintainable over time."
      ]
    },
    {
      "cell_type": "markdown",
      "id": "09929fc0",
      "metadata": {
        "id": "09929fc0"
      },
      "source": [
        "### 3. Create a Python class called `Shape` with an abstract method `calculate_area()`. Then, create child classes (e.g., `Circle`, `Rectangle`) that implement the `calculate_area()` method. Provide an example of using these classes."
      ]
    },
    {
      "cell_type": "code",
      "execution_count": null,
      "id": "792ea626",
      "metadata": {
        "id": "792ea626",
        "outputId": "c292bbb2-7fa7-4d57-b39b-34c06fe2cbc3"
      },
      "outputs": [
        {
          "name": "stdout",
          "output_type": "stream",
          "text": [
            "The area of Circle is : 63.61725123519331\n",
            "The area of rectangle is : 15 \n"
          ]
        }
      ],
      "source": [
        "from abc import ABC , abstractmethod\n",
        "import math\n",
        "\n",
        "class Shape(ABC):\n",
        "    @abstractmethod\n",
        "    def calculate_area(self):\n",
        "        pass\n",
        "\n",
        "class Circle(Shape):\n",
        "    def __init__(self, radius):\n",
        "        self.radius = radius\n",
        "\n",
        "    def calculate_area(self):\n",
        "        return f\"The area of Circle is : {math.pi * self.radius * self.radius}\"\n",
        "\n",
        "class Rectangle(Shape):\n",
        "    def __init__(self, width, height):\n",
        "        self.width = width\n",
        "        self.height = height\n",
        "\n",
        "    def calculate_area(self):\n",
        "        return f\"The area of rectangle is : {self.width * self.height} \"\n",
        "\n",
        "def calculate(shape):\n",
        "    return shape.calculate_area()\n",
        "\n",
        "circle = Circle(radius = 4.5)\n",
        "rectangle = Rectangle(width = 3, height = 5)\n",
        "\n",
        "print(calculate(circle))\n",
        "print(calculate(rectangle))\n"
      ]
    },
    {
      "cell_type": "markdown",
      "id": "04a44fa9",
      "metadata": {
        "id": "04a44fa9"
      },
      "source": [
        "### 4. Explain the concept of abstract classes in Python and how they are defined using the `abc` module. Provide an example"
      ]
    },
    {
      "cell_type": "raw",
      "id": "1778c17d",
      "metadata": {
        "id": "1778c17d"
      },
      "source": [
        "In Python, an abstract class is a class that cannot be instantiated on its own and is meant to be subclassed by other classes. Abstract classes serve as a blueprint for other classes and may contain abstract methods, which are methods that have no implementation in the abstract class but must be implemented by any concrete (non-abstract) subclasses.\n",
        "\n",
        "The abc module (Abstract Base Classes) in Python provides the tools to define abstract classes and abstract methods. To create an abstract class, you use the ABC (Abstract Base Class) as a base class for your class, and you use the @abstractmethod decorator to declare abstract methods.\n",
        "\n",
        "Attempting to create an instance of an abstract class or a subclass without implementing its abstract methods will result in a TypeError. Abstract classes provide a way to enforce a certain structure in derived classes while allowing for flexibility in the implementation."
      ]
    },
    {
      "cell_type": "code",
      "execution_count": null,
      "id": "aaf32cac",
      "metadata": {
        "id": "aaf32cac",
        "outputId": "0a0c2251-851f-4a86-bd0a-0540afc01be7"
      },
      "outputs": [
        {
          "name": "stdout",
          "output_type": "stream",
          "text": [
            "The area of Circle is: 78.5\n",
            "The area of rectangle is: 24\n"
          ]
        }
      ],
      "source": [
        "from abc import ABC, abstractmethod\n",
        "\n",
        "class Shape(ABC):\n",
        "    @abstractmethod\n",
        "    def calculate_area(self):\n",
        "        pass\n",
        "\n",
        "class Circle(Shape):\n",
        "    def __init__(self, radius):\n",
        "        self.radius = radius\n",
        "\n",
        "    def calculate_area(self):\n",
        "        return f\"The area of Circle is: {3.14 * self.radius * self.radius}\"\n",
        "\n",
        "class Rectangle(Shape):\n",
        "    def __init__(self, width, height):\n",
        "        self.width = width\n",
        "        self.height = height\n",
        "\n",
        "    def calculate_area(self):\n",
        "        return f\"The area of rectangle is: {self.width * self.height}\"\n",
        "\n",
        "# Creating instances of concrete classes\n",
        "circle = Circle(radius=5)\n",
        "rectangle = Rectangle(width=4, height=6)\n",
        "\n",
        "# Calling the calculate_area method on instances\n",
        "print(circle.calculate_area())  # Output: The area of Circle is: 78.5\n",
        "print(rectangle.calculate_area())  # Output: The area of rectangle is: 24\n"
      ]
    },
    {
      "cell_type": "markdown",
      "id": "465f04f8",
      "metadata": {
        "id": "465f04f8"
      },
      "source": [
        "### 5. How do abstract classes differ from regular classes in Python? Discuss their use cases."
      ]
    },
    {
      "cell_type": "raw",
      "id": "60d53bd5",
      "metadata": {
        "id": "60d53bd5"
      },
      "source": [
        "Abstract classes and regular classes in Python differ in several aspects, particularly in their instantiation, usage, and purpose.\n",
        "\n",
        "1. Instantiation:\n",
        "\n",
        "Abstract classes cannot be instantiated directly. They serve as blueprints or templates for other classes but cannot exist on their own. An attempt to create an instance of an abstract class will result in an error.\n",
        "Regular classes, on the other hand, can be instantiated directly, and objects of regular classes can be created and used without any restrictions.\n",
        "2. Abstract Methods:\n",
        "\n",
        "Abstract classes may contain abstract methods, which are methods declared without any implementation in the abstract class. Subclasses are required to provide concrete implementations for these abstract methods.\n",
        "Regular classes do not have the concept of abstract methods. All methods in regular classes have implementations by default.\n",
        "3. Inheritance:\n",
        "\n",
        "Abstract classes are designed to be subclassed. They provide a common interface or set of methods that must be implemented by their subclasses.\n",
        "Regular classes can be standalone or may inherit from other classes, but they don't enforce the implementation of specific methods in the same way abstract classes do.\n",
        "4. Use Cases:\n",
        "\n",
        "Abstract Classes:\n",
        "\n",
        "Abstract classes are useful when you want to define a common interface for a set of related classes. For example, in a geometric shapes hierarchy, you may have an abstract class Shape with abstract methods like calculate_area that must be implemented by concrete shapes like circles or rectangles.\n",
        "They are handy when you want to enforce a certain structure or behavior across multiple classes without providing a default implementation.\n",
        "Abstract classes are often used for creating plugins or extensions where the base class provides the interface, and concrete classes provide specific implementations.\n",
        "Regular Classes:\n",
        "\n",
        "Regular classes are suitable for creating standalone objects or building complex structures without the need for enforcing a specific interface in subclasses.\n",
        "They are commonly used when you don't need to create a common interface or when the classes don't share a set of methods that must be implemented uniformly.\n",
        "Regular classes are well-suited for situations where you want to provide default implementations for methods or if all methods can be optional.\n",
        "In summary, abstract classes are designed for scenarios where you want to create a common interface and enforce certain methods to be implemented by subclasses. Regular classes, on the other hand, are more flexible and do not impose specific constraints on their subclasses. The choice between abstract and regular classes depends on the design goals and requirements of your application.\n",
        "\n",
        "\n",
        "\n",
        "\n",
        "\n",
        "\n"
      ]
    },
    {
      "cell_type": "markdown",
      "id": "39bae335",
      "metadata": {
        "id": "39bae335"
      },
      "source": [
        "### 6. Create a Python class for a bank account and demonstrate abstraction by hiding the account balance and providing methods to deposit and withdraw funds"
      ]
    },
    {
      "cell_type": "code",
      "execution_count": null,
      "id": "76ccae6d",
      "metadata": {
        "id": "76ccae6d",
        "outputId": "4be0546b-6f95-4f05-9087-cb8da80cc15d"
      },
      "outputs": [
        {
          "name": "stdout",
          "output_type": "stream",
          "text": [
            "John Doe's Initial Balance: 1000/-\n",
            "Deposited 500.0 /-. New balance: 1500.0 /-\n",
            "Withdrew 200.0 /-. New balance: 1300.0 /-\n",
            "Invalid withdrawal amount or insufficient funds.\n",
            "John Doe's Final Balance: 1300.0/-\n"
          ]
        }
      ],
      "source": [
        "class BankAccount:\n",
        "    def __init__(self, account_holder, initial_balance=0.0):\n",
        "        self.account_holder = account_holder\n",
        "        self._balance = initial_balance  # The balance is hidden using a single leading underscore\n",
        "\n",
        "    def deposit(self, amount):\n",
        "        if amount > 0:\n",
        "            self._balance += amount\n",
        "            print(f\"Deposited {amount} /-. New balance: {self._balance} /-\")\n",
        "        else:\n",
        "            print(\"Invalid deposit amount. Please enter a positive value.\")\n",
        "\n",
        "    def withdraw(self, amount):\n",
        "        if amount > 0 and amount <= self._balance:\n",
        "            self._balance -= amount\n",
        "            print(f\"Withdrew {amount} /-. New balance: {self._balance} /-\")\n",
        "        else:\n",
        "            print(\"Invalid withdrawal amount or insufficient funds.\")\n",
        "\n",
        "    def get_balance(self):\n",
        "        return self._balance\n",
        "\n",
        "account = BankAccount(account_holder=\"Prasad\", initial_balance=1000)\n",
        "\n",
        "print(f\"{account_holder_name}'s Initial Balance: {account.get_balance()}/-\")\n",
        "\n",
        "account.deposit(500.0)\n",
        "account.withdraw(200.0)\n",
        "account.withdraw(1500.0)\n",
        "\n",
        "print(f\"{account_holder_name}'s Final Balance: {account.get_balance()}/-\")\n"
      ]
    },
    {
      "cell_type": "markdown",
      "id": "01fb44c5",
      "metadata": {
        "id": "01fb44c5"
      },
      "source": [
        "### 7. Discuss the concept of interface classes in Python and their role in achieving abstraction"
      ]
    },
    {
      "cell_type": "raw",
      "id": "e616b9a7",
      "metadata": {
        "id": "e616b9a7"
      },
      "source": [
        "While Python does not have a formal interface keyword, the concept is achieved using abstract base classes and abstract methods.\n",
        "\n",
        "Interface classes play a crucial role in achieving abstraction by defining a common set of methods that participating classes must adhere to, allowing for a more organized and maintainable codebase."
      ]
    },
    {
      "cell_type": "markdown",
      "id": "46437a4c",
      "metadata": {
        "id": "46437a4c"
      },
      "source": [
        "### 8. Create a Python class hierarchy for animals and implement abstraction by defining common methods (e.g., `eat()`, `sleep()`) in an abstract base class."
      ]
    },
    {
      "cell_type": "code",
      "execution_count": null,
      "id": "8594cf9c",
      "metadata": {
        "id": "8594cf9c",
        "outputId": "634d3cef-b3fa-48bd-8f5d-eb30a18e4360"
      },
      "outputs": [
        {
          "name": "stdout",
          "output_type": "stream",
          "text": [
            "Mammals make various sounds.\n",
            "Leo the Lion is eating.\n",
            "Leo the Lion is sleeping.\n",
            "\n",
            "-----------------------\n",
            "\n",
            "Birds chirp and sing.\n",
            "Robin the Robin Redbreast is eating.\n",
            "Robin the Robin Redbreast is roosting.\n"
          ]
        }
      ],
      "source": [
        "from abc import ABC, abstractmethod\n",
        "\n",
        "class Animal(ABC):\n",
        "    def __init__(self, name, species):\n",
        "        self.name = name\n",
        "        self.species = species\n",
        "\n",
        "    @abstractmethod\n",
        "    def make_sound(self):\n",
        "        pass\n",
        "\n",
        "    @abstractmethod\n",
        "    def eat(self):\n",
        "        pass\n",
        "\n",
        "    @abstractmethod\n",
        "    def sleep(self):\n",
        "        pass\n",
        "\n",
        "class Mammal(Animal):\n",
        "    def __init__(self, name, species):\n",
        "        super().__init__(name, species)\n",
        "\n",
        "    def make_sound(self):\n",
        "        return \"Mammals make various sounds.\"\n",
        "\n",
        "    def eat(self):\n",
        "        return f\"{self.name} the {self.species} is eating.\"\n",
        "\n",
        "    def sleep(self):\n",
        "        return f\"{self.name} the {self.species} is sleeping.\"\n",
        "\n",
        "class Bird(Animal):\n",
        "    def __init__(self, name, species):\n",
        "        super().__init__(name, species)\n",
        "\n",
        "    def make_sound(self):\n",
        "        return \"Birds chirp and sing.\"\n",
        "\n",
        "    def eat(self):\n",
        "        return f\"{self.name} the {self.species} is eating.\"\n",
        "\n",
        "    def sleep(self):\n",
        "        return f\"{self.name} the {self.species} is roosting.\"\n",
        "\n",
        "mammal = Mammal(name=\"Leo\", species=\"Lion\")\n",
        "bird = Bird(name=\"Robin\", species=\"Robin Redbreast\")\n",
        "\n",
        "print(mammal.make_sound())\n",
        "print(mammal.eat())\n",
        "print(mammal.sleep())\n",
        "\n",
        "print(\"\\n-----------------------\\n\")\n",
        "\n",
        "print(bird.make_sound())\n",
        "print(bird.eat())\n",
        "print(bird.sleep())\n"
      ]
    },
    {
      "cell_type": "markdown",
      "id": "979bd406",
      "metadata": {
        "id": "979bd406"
      },
      "source": [
        "### 9. Explain the significance of encapsulation in achieving abstraction. Provide examples."
      ]
    },
    {
      "cell_type": "raw",
      "id": "d560bbbc",
      "metadata": {
        "id": "d560bbbc"
      },
      "source": [
        "Encapsulation plays a crucial role in achieving abstraction by providing a mechanism to hide the internal details of an object, exposing only a well-defined interface.\n",
        "\n",
        "This not only enhances security but also promotes code organization, maintainability, and the creation of clean and understandable APIs."
      ]
    },
    {
      "cell_type": "code",
      "execution_count": null,
      "id": "26310c1f",
      "metadata": {
        "id": "26310c1f"
      },
      "outputs": [],
      "source": [
        "#example for data hiding\n",
        "\n",
        "class BankAccount:\n",
        "    def __init__(self, balance=0.0):\n",
        "        self._balance = balance  # Using a single leading underscore to indicate a protected attribute\n",
        "\n",
        "    def deposit(self, amount):\n",
        "        if amount > 0:\n",
        "            self._balance += amount\n",
        "            print(f\"Deposited ${amount}. New balance: ${self._balance}\")\n",
        "\n",
        "    def get_balance(self):\n",
        "        return self._balance\n",
        "\n",
        "#example for abtraction\n",
        "\n",
        "class Car:\n",
        "    def __init__(self, make, model):\n",
        "        self.make = make\n",
        "        self.model = model\n",
        "        self._engine_status = 'off'  # Encapsulated attribute\n",
        "\n",
        "    def start_engine(self):\n",
        "        self._engine_status = 'on'\n",
        "\n",
        "    def stop_engine(self):\n",
        "        self._engine_status = 'off'\n",
        "\n",
        "    def get_engine_status(self):\n",
        "        return self._engine_status\n",
        "\n",
        "#example for maintaince\n",
        "\n",
        "class Employee:\n",
        "    def __init__(self, name, salary):\n",
        "        self.name = name\n",
        "        self.salary = salary\n",
        "        self._bonus = 0  # Encapsulated attribute for bonus\n",
        "\n",
        "    def calculate_total_salary(self):\n",
        "        return self.salary + self._bonus\n",
        "\n",
        "    def set_bonus(self, bonus):\n",
        "        if bonus >= 0:\n",
        "            self._bonus = bonus\n",
        "        else:\n",
        "            print(\"Invalid bonus amount.\")\n"
      ]
    },
    {
      "cell_type": "markdown",
      "id": "812aea2d",
      "metadata": {
        "id": "812aea2d"
      },
      "source": [
        "### 10. What is the purpose of abstract methods, and how do they enforce abstraction in Python classes?"
      ]
    },
    {
      "cell_type": "raw",
      "id": "82a31284",
      "metadata": {
        "id": "82a31284"
      },
      "source": [
        "By using abstract methods, Python classes achieve a higher level of abstraction.\n",
        "\n",
        "The abstract base class defines a common structure or behavior that must be shared among multiple subclasses, and concrete implementations in those subclasses provide the necessary details.\n",
        "\n",
        "This separation of concerns facilitates code organization, maintainability, and flexibility.\n",
        "\n",
        "Key points about abstract methods and their purpose:\n",
        "\n",
        "1)common interface\n",
        "2)Enforcing Abstraction\n",
        "3)Preventing Instantiation of Abstract Classes\n",
        "4)Encouraging Polymorphism\n"
      ]
    },
    {
      "cell_type": "markdown",
      "id": "607ad8a9",
      "metadata": {
        "id": "607ad8a9"
      },
      "source": [
        "### 11. Create a Python class for a vehicle system and demonstrate abstraction by defining common methods (e.g., `start()`, `stop()`) in an abstract base class"
      ]
    },
    {
      "cell_type": "code",
      "execution_count": null,
      "id": "db86d9e1",
      "metadata": {
        "id": "db86d9e1",
        "outputId": "41450a6f-7faa-4ae4-8ed1-3f9c6663878c"
      },
      "outputs": [
        {
          "name": "stdout",
          "output_type": "stream",
          "text": [
            "Toyota Camry's engine is started.\n",
            "Toyota Camry's engine is stopped.\n",
            "Toyota Camry's engine is started.\n",
            "Honda CBR500R's engine is started.\n",
            "Honda CBR500R's engine is stopped.\n",
            "Honda CBR500R's engine is already off.\n"
          ]
        }
      ],
      "source": [
        "from abc import ABC, abstractmethod\n",
        "\n",
        "class Vehicle(ABC):\n",
        "    def __init__(self, brand, model):\n",
        "        self.brand = brand\n",
        "        self.model = model\n",
        "        self.engine_status = 'off'\n",
        "\n",
        "    @abstractmethod\n",
        "    def start(self):\n",
        "        pass\n",
        "\n",
        "    @abstractmethod\n",
        "    def stop(self):\n",
        "        pass\n",
        "\n",
        "class Car(Vehicle):\n",
        "    def __init__(self, brand, model, num_doors):\n",
        "        super().__init__(brand, model)\n",
        "        self.num_doors = num_doors\n",
        "\n",
        "    def start(self):\n",
        "        if self.engine_status == 'off':\n",
        "            self.engine_status = 'on'\n",
        "            print(f\"{self.brand} {self.model}'s engine is started.\")\n",
        "        else:\n",
        "            print(f\"{self.brand} {self.model}'s engine is already running.\")\n",
        "\n",
        "    def stop(self):\n",
        "        if self.engine_status == 'on':\n",
        "            self.engine_status = 'off'\n",
        "            print(f\"{self.brand} {self.model}'s engine is stopped.\")\n",
        "        else:\n",
        "            print(f\"{self.brand} {self.model}'s engine is already off.\")\n",
        "\n",
        "class Motorcycle(Vehicle):\n",
        "    def __init__(self, brand, model):\n",
        "        super().__init__(brand, model)\n",
        "\n",
        "    def start(self):\n",
        "        if self.engine_status == 'off':\n",
        "            self.engine_status = 'on'\n",
        "            print(f\"{self.brand} {self.model}'s engine is started.\")\n",
        "        else:\n",
        "            print(f\"{self.brand} {self.model}'s engine is already running.\")\n",
        "\n",
        "    def stop(self):\n",
        "        if self.engine_status == 'on':\n",
        "            self.engine_status = 'off'\n",
        "            print(f\"{self.brand} {self.model}'s engine is stopped.\")\n",
        "        else:\n",
        "            print(f\"{self.brand} {self.model}'s engine is already off.\")\n",
        "\n",
        "# Example usage\n",
        "car = Car(brand=\"Toyota\", model=\"Camry\", num_doors=4)\n",
        "motorcycle = Motorcycle(brand=\"Honda\", model=\"CBR500R\")\n",
        "\n",
        "car.start()\n",
        "car.stop()\n",
        "car.start()\n",
        "\n",
        "motorcycle.start()\n",
        "motorcycle.stop()\n",
        "motorcycle.stop()\n"
      ]
    },
    {
      "cell_type": "markdown",
      "id": "0995bc90",
      "metadata": {
        "id": "0995bc90"
      },
      "source": [
        "### 12. Describe the use of abstract properties in Python and how they can be employed in abstract classes."
      ]
    },
    {
      "cell_type": "raw",
      "id": "0b09fff2",
      "metadata": {
        "id": "0b09fff2"
      },
      "source": [
        "Abstract properties help enforce a consistent interface across subclasses, ensuring that certain properties are present and allowing subclasses to customize their behavior. They contribute to achieving abstraction by defining a contract for properties that subclasses must adhere to while leaving the specifics to the concrete implementations.Use in Instances:\n",
        "\n",
        "Instances of concrete subclasses can now access the abstract property as if it were a regular attribute.\n",
        "\n",
        "In Python, abstract properties are properties declared in an abstract base class (ABC) using the @property decorator without providing an implementation in the base class. Similar to abstract methods, abstract properties are meant to be implemented by concrete (non-abstract) subclasses. The abc module in Python is commonly used to create abstract base classes and abstract properties.\n",
        "\n",
        "Usage of abstract properties and their implementation in abstract classes:\n",
        "\n",
        "Defining Abstract Property:\n",
        "\n",
        "Abstract properties are created by using the @property decorator in the abstract base class.\n",
        "An abstract property lacks an implementation in the base class, and concrete subclasses must provide their own implementations.\n",
        "\n",
        "Implementing in Concrete Subclasses:\n",
        "\n",
        "Concrete subclasses of the abstract base class must provide their own implementations for the abstract properties.\n",
        "The implementation in each subclass defines how the property is calculated or accessed.\n",
        "\n",
        "Use in Instances:\n",
        "\n",
        "Instances of concrete subclasses can now access the abstract property as if it were a regular attribute.\n",
        "\n",
        "Abstract Property with Setter:\n",
        "\n",
        "Abstract properties can also have abstract setter methods. This allows subclasses to provide a custom implementation for setting the value of the property.\n",
        "\n",
        "Abstract properties help enforce a consistent interface across subclasses, ensuring that certain properties are present and allowing subclasses to customize their behavior. They contribute to achieving abstraction by defining a contract for properties that subclasses must adhere to while leaving the specifics to the concrete implementations."
      ]
    },
    {
      "cell_type": "markdown",
      "id": "2ce31207",
      "metadata": {
        "id": "2ce31207"
      },
      "source": [
        "### 13. Create a Python class hierarchy for employees in a company (e.g., manager, developer, designer) and implement abstraction by defining a common `get_salary()` method"
      ]
    },
    {
      "cell_type": "code",
      "execution_count": null,
      "id": "7c102072",
      "metadata": {
        "id": "7c102072",
        "outputId": "7c1bb983-633c-4d31-fe96-f64bcae18fef"
      },
      "outputs": [
        {
          "name": "stdout",
          "output_type": "stream",
          "text": [
            "John Doe's Total Salary: $88000.0\n",
            "Alice Smith's Salary: $60000\n",
            "Bob Johnson's Total Salary: $73000\n"
          ]
        }
      ],
      "source": [
        "from abc import ABC, abstractmethod\n",
        "\n",
        "class Employee(ABC):\n",
        "    def __init__(self, name, employee_id):\n",
        "        self.name = name\n",
        "        self.employee_id = employee_id\n",
        "\n",
        "    @abstractmethod\n",
        "    def get_salary(self):\n",
        "        pass\n",
        "\n",
        "class Manager(Employee):\n",
        "    def __init__(self, name, employee_id, salary, bonus_percentage):\n",
        "        super().__init__(name, employee_id)\n",
        "        self.salary = salary\n",
        "        self.bonus_percentage = bonus_percentage\n",
        "\n",
        "    def get_salary(self):\n",
        "        bonus_amount = (self.bonus_percentage / 100) * self.salary\n",
        "        total_salary = self.salary + bonus_amount\n",
        "        return total_salary\n",
        "\n",
        "class Developer(Employee):\n",
        "    def __init__(self, name, employee_id, salary, programming_language):\n",
        "        super().__init__(name, employee_id)\n",
        "        self.salary = salary\n",
        "        self.programming_language = programming_language\n",
        "\n",
        "    def get_salary(self):\n",
        "        return self.salary\n",
        "\n",
        "class Designer(Employee):\n",
        "    def __init__(self, name, employee_id, salary, years_of_experience):\n",
        "        super().__init__(name, employee_id)\n",
        "        self.salary = salary\n",
        "        self.years_of_experience = years_of_experience\n",
        "\n",
        "    def get_salary(self):\n",
        "        experience_bonus = min(self.years_of_experience, 5) * 1000\n",
        "        total_salary = self.salary + experience_bonus\n",
        "        return total_salary\n",
        "\n",
        "# Example usage\n",
        "manager = Manager(name=\"John Doe\", employee_id=\"M001\", salary=80000, bonus_percentage=10)\n",
        "developer = Developer(name=\"Alice Smith\", employee_id=\"D001\", salary=60000, programming_language=\"Python\")\n",
        "designer = Designer(name=\"Bob Johnson\", employee_id=\"DS001\", salary=70000, years_of_experience=3)\n",
        "\n",
        "print(f\"{manager.name}'s Total Salary: ${manager.get_salary()}\")\n",
        "print(f\"{developer.name}'s Salary: ${developer.get_salary()}\")\n",
        "print(f\"{designer.name}'s Total Salary: ${designer.get_salary()}\")\n"
      ]
    },
    {
      "cell_type": "markdown",
      "id": "74fbf99f",
      "metadata": {
        "id": "74fbf99f"
      },
      "source": [
        "### 14. Discuss the differences between abstract classes and concrete classes in Python, including their instantiation."
      ]
    },
    {
      "cell_type": "raw",
      "id": "4c13bdb0",
      "metadata": {
        "id": "4c13bdb0"
      },
      "source": [
        "\n",
        "Abstract Classes vs. Concrete Classes in Python:\n",
        "\n",
        "Abstract Classes:\n",
        "\n",
        "Definition: Abstract classes are classes that cannot be instantiated on their own. They typically serve as a blueprint for other classes and may contain abstract methods (methods without implementation).\n",
        "\n",
        "Declaration: Abstract classes are declared using the ABC (Abstract Base Class) module, and abstract methods are marked with the @abstractmethod decorator.\n",
        "\n",
        "Purpose: Abstract classes define a common interface that must be implemented by their concrete subclasses. They are used to enforce a structure or set of methods in derived classes.\n",
        "\n",
        "Instantiation: Abstract classes cannot be instantiated directly. Attempting to create an instance of an abstract class results in a TypeError.\n",
        "\n",
        "Concrete Classes:\n",
        "\n",
        "Definition: Concrete classes are classes that can be instantiated directly. They may or may not inherit from abstract classes but must provide concrete implementations for all abstract methods if they do.\n",
        "\n",
        "Declaration: Concrete classes are regular classes without the need for the ABC module. They may provide default implementations for methods or override methods from their base classes.\n",
        "\n",
        "Purpose: Concrete classes are used to create instances and objects. They can be instantiated directly, and they may also inherit from abstract classes to fulfill a contract defined by the abstract class.\n",
        "\n",
        "Instantiation: Concrete classes can be instantiated directly, and objects of these classes can be created without any restrictions."
      ]
    },
    {
      "cell_type": "markdown",
      "id": "fce4d7d8",
      "metadata": {
        "id": "fce4d7d8"
      },
      "source": [
        "### 15. Explain the concept of abstract data types (ADTs) and their role in achieving abstraction in Python."
      ]
    },
    {
      "cell_type": "raw",
      "id": "76b726ec",
      "metadata": {
        "id": "76b726ec"
      },
      "source": [
        "\n",
        "Role of ADTs in Achieving Abstraction in Python:\n",
        "\n",
        "High-Level View:\n",
        "\n",
        "ADTs provide a high-level view of data structures and their operations. For example, a stack ADT focuses on operations like push and pop, abstracting away the specific implementation details.\n",
        "Code Organization:\n",
        "\n",
        "ADTs help in organizing code by defining a clear interface for data structures. This separation of concerns makes the codebase more modular and easier to understand.\n",
        "Reuse and Flexibility:\n",
        "\n",
        "ADTs promote code reuse, as the same abstract data type can be used in different parts of a program or in different programs altogether.\n",
        "Changes to the underlying implementation of an ADT do not affect the code that relies on its interface, providing flexibility and adaptability.\n",
        "Data Abstraction:\n",
        "\n",
        "ADTs allow programmers to work with data in terms of abstract concepts rather than dealing with low-level details.\n",
        "For example, a programmer can use a queue ADT without needing to understand the internal workings of the queue, focusing only on enqueue and dequeue operations.\n",
        "Example:\n",
        "Consider the abstract data type \"Queue.\" The key operations defined by the Queue ADT are:\n",
        "\n",
        "enqueue(item): Adds an item to the end of the queue.\n",
        "dequeue(): Removes and returns the item from the front of the queue.\n",
        "The programmer using the Queue ADT doesn't need to know how the queue is implemented (e.g., as an array or a linked list). They only need to understand and use the specified operations.Abstract Data Types (ADTs) are a conceptual way of thinking about and organizing data structures based on their behavior and the operations that can be performed on them, rather than their specific implementation details. ADTs provide a high-level view of data and the operations that can be performed on that data, abstracting away the underlying implementation.\n",
        "\n",
        "Key concepts of Abstract Data Types:\n",
        "\n",
        "1)Abstraction\n",
        "2)Encapsulation\n",
        "3)Defined Operations\n",
        "4)Genericity\n",
        "\n",
        "Role of ADTs in Achieving Abstraction in Python:\n",
        "\n",
        "High-Level View:\n",
        "\n",
        "ADTs provide a high-level view of data structures and their operations. For example, a stack ADT focuses on operations like push and pop, abstracting away the specific implementation details.\n",
        "Code Organization:\n",
        "\n",
        "ADTs help in organizing code by defining a clear interface for data structures. This separation of concerns makes the codebase more modular and easier to understand.\n",
        "Reuse and Flexibility:\n",
        "\n",
        "ADTs promote code reuse, as the same abstract data type can be used in different parts of a program or in different programs altogether.\n",
        "Changes to the underlying implementation of an ADT do not affect the code that relies on its interface, providing flexibility and adaptability.\n",
        "Data Abstraction:\n",
        "\n",
        "ADTs allow programmers to work with data in terms of abstract concepts rather than dealing with low-level details.\n",
        "For example, a programmer can use a queue ADT without needing to understand the internal workings of the queue, focusing only on enqueue and dequeue operations.\n",
        "\n",
        "Example:\n",
        "\n",
        "Consider the abstract data type \"Queue.\" The key operations defined by the Queue ADT are:\n",
        "\n",
        "enqueue(item): Adds an item to the end of the queue.\n",
        "dequeue(): Removes and returns the item from the front of the queue.\n",
        "\n",
        "The programmer using the Queue ADT doesn't need to know how the queue is implemented (e.g., as an array or a linked list). They only need to understand and use the specified operations.\n"
      ]
    },
    {
      "cell_type": "markdown",
      "id": "74fecaf6",
      "metadata": {
        "id": "74fecaf6"
      },
      "source": [
        "### 16. Create a Python class for a computer system, demonstrating abstraction by defining common methods (e.g., `power_on()`, `shutdown()`) in an abstract base class."
      ]
    },
    {
      "cell_type": "code",
      "execution_count": null,
      "id": "fd18ddc6",
      "metadata": {
        "id": "fd18ddc6",
        "outputId": "92185d10-3b77-44b2-9de8-cc558a70c642"
      },
      "outputs": [
        {
          "name": "stdout",
          "output_type": "stream",
          "text": [
            "Dell Inspiron Desktop Computer is powered on.\n",
            "Dell Inspiron Desktop Computer is shut down.\n",
            "Dell Inspiron Desktop Computer is already powered off.\n",
            "HP Envy Laptop is powered on.\n",
            "HP Envy Laptop is shut down.\n",
            "HP Envy Laptop is powered on.\n"
          ]
        }
      ],
      "source": [
        "from abc import ABC, abstractmethod\n",
        "\n",
        "class ComputerSystem(ABC):\n",
        "    def __init__(self, brand, model):\n",
        "        self.brand = brand\n",
        "        self.model = model\n",
        "        self.power_status = 'off'\n",
        "\n",
        "    @abstractmethod\n",
        "    def power_on(self):\n",
        "        pass\n",
        "\n",
        "    @abstractmethod\n",
        "    def shutdown(self):\n",
        "        pass\n",
        "\n",
        "class DesktopComputer(ComputerSystem):\n",
        "    def __init__(self, brand, model, monitor_brand):\n",
        "        super().__init__(brand, model)\n",
        "        self.monitor_brand = monitor_brand\n",
        "\n",
        "    def power_on(self):\n",
        "        if self.power_status == 'off':\n",
        "            self.power_status = 'on'\n",
        "            print(f\"{self.brand} {self.model} Desktop Computer is powered on.\")\n",
        "        else:\n",
        "            print(f\"{self.brand} {self.model} Desktop Computer is already powered on.\")\n",
        "\n",
        "    def shutdown(self):\n",
        "        if self.power_status == 'on':\n",
        "            self.power_status = 'off'\n",
        "            print(f\"{self.brand} {self.model} Desktop Computer is shut down.\")\n",
        "        else:\n",
        "            print(f\"{self.brand} {self.model} Desktop Computer is already powered off.\")\n",
        "\n",
        "class Laptop(ComputerSystem):\n",
        "    def __init__(self, brand, model, battery_life):\n",
        "        super().__init__(brand, model)\n",
        "        self.battery_life = battery_life\n",
        "\n",
        "    def power_on(self):\n",
        "        if self.power_status == 'off':\n",
        "            self.power_status = 'on'\n",
        "            print(f\"{self.brand} {self.model} Laptop is powered on.\")\n",
        "        else:\n",
        "            print(f\"{self.brand} {self.model} Laptop is already powered on.\")\n",
        "\n",
        "    def shutdown(self):\n",
        "        if self.power_status == 'on':\n",
        "            self.power_status = 'off'\n",
        "            print(f\"{self.brand} {self.model} Laptop is shut down.\")\n",
        "        else:\n",
        "            print(f\"{self.brand} {self.model} Laptop is already powered off.\")\n",
        "\n",
        "# Example usage\n",
        "desktop = DesktopComputer(brand=\"Dell\", model=\"Inspiron\", monitor_brand=\"Dell Monitor\")\n",
        "laptop = Laptop(brand=\"HP\", model=\"Envy\", battery_life=\"8 hours\")\n",
        "\n",
        "desktop.power_on()\n",
        "desktop.shutdown()\n",
        "desktop.shutdown()\n",
        "\n",
        "laptop.power_on()\n",
        "laptop.shutdown()\n",
        "laptop.power_on()\n"
      ]
    },
    {
      "cell_type": "markdown",
      "id": "a1c64aaa",
      "metadata": {
        "id": "a1c64aaa"
      },
      "source": [
        "### 17. Discuss the benefits of using abstraction in large-scale software development projects."
      ]
    },
    {
      "cell_type": "raw",
      "id": "f0579077",
      "metadata": {
        "id": "f0579077"
      },
      "source": [
        "Abstraction plays a crucial role in large-scale software development projects, offering numerous benefits that contribute to the efficiency, maintainability, and scalability of the project. Here are some key advantages of using abstraction in large-scale software development:\n",
        "\n",
        "    --> abstraction is a fundamental concept in large-scale software development that promotes a modular, maintainable, and scalable codebase. By providing clear interfaces, reducing complexity, and supporting code reuse, abstraction contributes to the long-term success of complex software projects."
      ]
    },
    {
      "cell_type": "markdown",
      "id": "6c7b1d73",
      "metadata": {
        "id": "6c7b1d73"
      },
      "source": [
        "### 18. Explain how abstraction enhances code reusability and modularity in Python programs."
      ]
    },
    {
      "cell_type": "raw",
      "id": "c3f823e4",
      "metadata": {
        "id": "c3f823e4"
      },
      "source": [
        "Abstraction in Python enhances code reusability and modularity by allowing developers to create components with well-defined interfaces and hiding unnecessary implementation details. Here are ways in which abstraction achieves these benefits:\n",
        "\n",
        "Encapsulation:\n",
        "\n",
        "Abstraction supports encapsulation by hiding the internal details of a component and exposing only the relevant functionalities through a well-defined interface.\n",
        "This encapsulation allows developers to create reusable modules that can be used without needing to know the intricate details of their implementation.\n",
        "Defined Interfaces:\n",
        "\n",
        "Abstraction defines clear interfaces for components, specifying how they can be interacted with and what functionalities they provide.\n",
        "By adhering to these interfaces, developers can create components that are interchangeable and easily replaceable, promoting code reuse.\n",
        "Separation of Concerns:\n",
        "\n",
        "Abstraction promotes a separation of concerns by breaking down a complex system into smaller, manageable components.\n",
        "Each component focuses on a specific aspect of the functionality, making it easier to understand, maintain, and reuse.\n",
        "Modular Design:\n",
        "\n",
        "Abstraction facilitates a modular design approach where different functionalities are implemented in separate modules or classes.\n",
        "Modules can be developed, tested, and maintained independently, promoting a more organized and modular codebase.\n",
        "Inheritance and Polymorphism:\n",
        "\n",
        "In Python, abstraction often involves the use of inheritance and polymorphism.\n",
        "By creating abstract base classes or interfaces, developers can define a common structure that multiple classes can adhere to, enabling polymorphic behavior and reusability.\n",
        "\n",
        "Code Organization:\n",
        "\n",
        "Abstraction encourages a clear separation of responsibilities, making it easier to organize and manage code.\n",
        "Modules and classes with well-defined interfaces can be reused across different parts of the program or even in different projects.\n",
        "Code Readability:\n",
        "\n",
        "Abstraction improves code readability by allowing developers to work with high-level concepts and ignoring unnecessary implementation details.\n",
        "Reusable components, defined through abstraction, can be easily understood and integrated into different parts of the codebase.\n",
        "Flexibility and Adaptability:\n",
        "\n",
        "Abstracting away implementation details provides flexibility. Changes made to the internal workings of a module don't affect the external code that relies on its interface.\n",
        "This adaptability is crucial in large projects where modifications and enhancements are common.\n",
        "In summary, abstraction in Python enhances code reusability and modularity by providing a mechanism for encapsulation, defining clear interfaces, supporting a modular design, and enabling features like inheritance and polymorphism. By abstracting away implementation details, developers can create components that are easily reusable, adaptable, and contribute to building maintainable and scalable Python programs."
      ]
    },
    {
      "cell_type": "markdown",
      "id": "5231280e",
      "metadata": {
        "id": "5231280e"
      },
      "source": [
        "### 19. Create a Python class for a library system, implementing abstraction by defining common methods (e.g., `add_book()`, `borrow_book()`) in an abstract base class."
      ]
    },
    {
      "cell_type": "code",
      "execution_count": null,
      "id": "10b72661",
      "metadata": {
        "id": "10b72661",
        "outputId": "ff8aed1b-5dbd-4cf4-a448-da378e0bda5c"
      },
      "outputs": [
        {
          "name": "stdout",
          "output_type": "stream",
          "text": [
            "Book 'Introduction to Python' added to the library.\n",
            "Book 'Data Structures and Algorithms' added to the library.\n",
            "Book 'Introduction to Python' borrowed by User ID 101.\n",
            "Book 'Data Structures and Algorithms' borrowed by User ID 102.\n",
            "Book 'Introduction to Python' is not available for borrowing.\n"
          ]
        },
        {
          "data": {
            "text/plain": [
              "False"
            ]
          },
          "execution_count": 30,
          "metadata": {},
          "output_type": "execute_result"
        }
      ],
      "source": [
        "from abc import ABC, abstractmethod\n",
        "\n",
        "class LibrarySystem(ABC):\n",
        "    def __init__(self, name):\n",
        "        self.name = name\n",
        "        self.books = []\n",
        "\n",
        "    @abstractmethod\n",
        "    def add_book(self, book):\n",
        "        pass\n",
        "\n",
        "    @abstractmethod\n",
        "    def borrow_book(self, book_title, user_id):\n",
        "        pass\n",
        "\n",
        "class BasicLibrary(LibrarySystem):\n",
        "    def add_book(self, book):\n",
        "        self.books.append(book)\n",
        "        print(f\"Book '{book.title}' added to the library.\")\n",
        "\n",
        "    def borrow_book(self, book_title, user_id):\n",
        "        for book in self.books:\n",
        "            if book.title == book_title and not book.is_borrowed:\n",
        "                book.is_borrowed = True\n",
        "                book.borrower_id = user_id\n",
        "                print(f\"Book '{book.title}' borrowed by User ID {user_id}.\")\n",
        "                return True\n",
        "        print(f\"Book '{book_title}' is not available for borrowing.\")\n",
        "        return False\n",
        "\n",
        "class Book:\n",
        "    def __init__(self, title, author):\n",
        "        self.title = title\n",
        "        self.author = author\n",
        "        self.is_borrowed = False\n",
        "        self.borrower_id = None\n",
        "\n",
        "# Example usage\n",
        "basic_library = BasicLibrary(name=\"Community Library\")\n",
        "\n",
        "book1 = Book(title=\"Introduction to Python\", author=\"John Smith\")\n",
        "book2 = Book(title=\"Data Structures and Algorithms\", author=\"Jane Doe\")\n",
        "\n",
        "basic_library.add_book(book1)\n",
        "basic_library.add_book(book2)\n",
        "\n",
        "basic_library.borrow_book(book1.title, user_id=101)\n",
        "basic_library.borrow_book(book2.title, user_id=102)\n",
        "basic_library.borrow_book(book1.title, user_id=103)\n"
      ]
    },
    {
      "cell_type": "markdown",
      "id": "171ac0af",
      "metadata": {
        "id": "171ac0af"
      },
      "source": [
        "### 20. Describe the concept of method abstraction in Python and how it relates to polymorphism"
      ]
    },
    {
      "cell_type": "raw",
      "id": "af2bf6ef",
      "metadata": {
        "id": "af2bf6ef"
      },
      "source": [
        "Method abstraction in Python involves creating abstract methods in a base class or interface, leaving the implementation details to be defined by the subclasses. This concept is closely related to polymorphism, as it allows objects of different classes to be treated interchangeably based on their shared interface or abstract methods.\n",
        "\n",
        "Here's how method abstraction and polymorphism are related:\n",
        "\n",
        "1)Abstract Methods:\n",
        "\n",
        "2)Polymorphism\n",
        "\n",
        "3)Common Interface\n",
        "\n",
        "4)Polymorphic Usage\n",
        "\n",
        "5)Dynamic Binding\n",
        "\n",
        "Method abstraction and polymorphism, in combination, enable a flexible and extensible design in Python. Abstract methods define a common interface, and polymorphism allows different classes to provide their own implementations for these methods. This results in code that is more modular, easier to maintain, and capable of handling a variety of object types through a shared interface."
      ]
    },
    {
      "cell_type": "markdown",
      "id": "9018d395",
      "metadata": {
        "id": "9018d395"
      },
      "source": [
        "## Composition:"
      ]
    },
    {
      "cell_type": "markdown",
      "id": "985a5a46",
      "metadata": {
        "id": "985a5a46"
      },
      "source": [
        "### 1. Explain the concept of composition in Python and how it is used to build complex objects from simpler ones."
      ]
    },
    {
      "cell_type": "raw",
      "id": "374aaa6c",
      "metadata": {
        "id": "374aaa6c"
      },
      "source": [
        "Composition is a powerful design concept in Python that allows you to build complex objects by combining simpler ones.\n",
        "\n",
        "It promotes flexibility, code reuse, and encapsulation, making it a valuable approach in building maintainable and extensible software.\n",
        "\n",
        "\n",
        "Composition in Python is a design principle that involves combining simpler objects to create more complex ones. Instead of relying solely on inheritance, composition allows you to create relationships between objects by embedding one or more instances of one class within another. This enables the creation of complex objects that are built from simpler, reusable components.\n",
        "\n",
        "Here are key concepts and examples to explain the concept of composition in Python:\n",
        "\n",
        "Composition vs. Inheritance:\n",
        "\n",
        "Composition:\n",
        "\n",
        "Composition involves creating relationships between classes by including instances of one class as attributes within another class.\n",
        "This approach promotes flexibility, code reuse, and allows for dynamic relationships between objects.\n",
        "It is often referred to as \"has-a\" relationships, where an object has other objects as part of its structure.\n",
        "Inheritance:\n",
        "\n",
        "Inheritance involves creating a new class by inheriting attributes and behaviors from an existing class.\n",
        "This approach is characterized by an \"is-a\" relationship, where a subclass is a specialized version of a superclass.\n",
        "While inheritance is powerful, it can lead to inflexibility and a rigid class hierarchy.\n",
        "\n",
        "Benefits of Composition:\n",
        "\n",
        "Flexibility:\n",
        "            Composition allows for more flexible relationships between objects compared to strict class hierarchies.\n",
        "\n",
        "Code Reusability:\n",
        "                   Objects can be reused in various contexts, promoting code reuse and modularity.\n",
        "\n",
        "Dynamic Relationships:\n",
        "                        Objects can be combined at runtime, enabling dynamic and runtime polymorphism.\n",
        "\n",
        "Encapsulation:\n",
        "                Composition encourages encapsulation by keeping the internal details of an object hidden within its class.\n",
        "\n",
        "When to Use Composition:\n",
        "\n",
        "                        Use composition when creating flexible, modular, and reusable code.\n",
        "Prefer composition over inheritance when relationships between classes are dynamic or complex.\n",
        "Choose composition to avoid the limitations of a rigid class hierarchy.\n",
        "\n",
        "\n",
        "\n",
        "\n"
      ]
    },
    {
      "cell_type": "code",
      "execution_count": null,
      "id": "bf42060c",
      "metadata": {
        "id": "bf42060c",
        "outputId": "4cb69dc1-62f2-47db-c8db-901a3a8ab65a"
      },
      "outputs": [
        {
          "name": "stdout",
          "output_type": "stream",
          "text": [
            "Toyota Camry: Engine started\n",
            "Ford Fusion: Engine started\n",
            "Toyota Camry: Engine Stopped.\n",
            "Ford Fusion: Engine Stopped.\n"
          ]
        }
      ],
      "source": [
        "class Engine:\n",
        "    def __init__(self,fuel_type):\n",
        "        self.fuel_type = fuel_type\n",
        "\n",
        "    def start(self):\n",
        "        return \"Engine started\"\n",
        "\n",
        "    def stop(self):\n",
        "        return \"Engine Stopped.\"\n",
        "\n",
        "class Car:\n",
        "    def __init__(self,make,model,fuel_type):\n",
        "\n",
        "        self.engine = Engine(fuel_type)\n",
        "        self.make = make\n",
        "        self.model = model\n",
        "\n",
        "    def start(self):\n",
        "        return f\"{self.make} {self.model}: {self.engine.start()}\"\n",
        "\n",
        "    def stop(self):\n",
        "        return f\"{self.make} {self.model}: {self.engine.stop()}\"\n",
        "\n",
        "# Creating a car with a petrol engine\n",
        "car1 = Car(make=\"Toyota\", model=\"Camry\", fuel_type=\"Petrol\")\n",
        "\n",
        "# Creating a car with a diesel engine\n",
        "car2 = Car(make=\"Ford\", model=\"Fusion\", fuel_type=\"Diesel\")\n",
        "\n",
        "# Starting and stopping the cars\n",
        "print(car1.start())  # Output: Toyota Camry: Engine started\n",
        "print(car2.start())  # Output: Ford Fusion: Engine started\n",
        "\n",
        "print(car1.stop())   # Output: Toyota Camry: Engine stopped\n",
        "print(car2.stop())   # Output: Ford Fusion: Engine stopped\n",
        ""
      ]
    },
    {
      "cell_type": "markdown",
      "id": "5f4552ba",
      "metadata": {
        "id": "5f4552ba"
      },
      "source": [
        "### 2. Describe the difference between composition and inheritance in object-oriented programming."
      ]
    },
    {
      "cell_type": "raw",
      "id": "e95251d1",
      "metadata": {
        "id": "e95251d1"
      },
      "source": [
        "Composition and inheritance are two fundamental concepts in object-oriented programming (OOP) that enable code reuse and building relationships between classes. Here are the key differences between composition and inheritance:\n",
        "\n",
        "1. Composition:\n",
        "Definition:\n",
        "\n",
        "Composition involves creating relationships between classes by embedding instances of one class within another.\n",
        "It is often referred to as \"has-a\" relationships, where an object has other objects as part of its structure.\n",
        "\n",
        "Flexibility:\n",
        "\n",
        "Composition is more flexible than inheritance. Objects can be combined dynamically at runtime, allowing for dynamic relationships.\n",
        "Components can be easily swapped or replaced without affecting the entire structure.\n",
        "\n",
        "Code Reusability:\n",
        "\n",
        "Promotes code reusability by allowing objects to be reused in various contexts.\n",
        "Enables the creation of modular and reusable components.\n",
        "\n",
        "Complexity:\n",
        "\n",
        "Simplifies complex relationships by breaking them into smaller, manageable components.\n",
        "Encourages a more modular and encapsulated design.\n",
        "\n",
        "In summary, composition and inheritance offer different approaches to building relationships between classes. Composition is more flexible and modular, while inheritance establishes a hierarchy based on specialization. The choice between them depends on the specific requirements and design goals of the application.\n"
      ]
    },
    {
      "cell_type": "markdown",
      "id": "3660b1ef",
      "metadata": {
        "id": "3660b1ef"
      },
      "source": [
        "### 3. Create a Python class called `Author` with attributes for name and birthdate. Then, create a `Book` class that contains an instance of `Author` as a composition. Provide an example of creating a `Book` object."
      ]
    },
    {
      "cell_type": "code",
      "execution_count": null,
      "id": "fc0c02a5",
      "metadata": {
        "id": "fc0c02a5",
        "outputId": "2a178dc9-ff62-4b11-f3b2-d9f485e4589a"
      },
      "outputs": [
        {
          "name": "stdout",
          "output_type": "stream",
          "text": [
            "Title : Amazing\n",
            "Genre : Thriller\n",
            "Author : Vanga (Born : Jan - 1, 1980)\n"
          ]
        }
      ],
      "source": [
        "class Author:\n",
        "    def __init__(self,name,birthdate):\n",
        "        self.name = name\n",
        "        self.birthdate = birthdate\n",
        "\n",
        "    def __str__(self):\n",
        "        return f\"{self.name} (Born : {self.birthdate})\"\n",
        "\n",
        "class Book:\n",
        "    def __init__(self,title,genre,author_name,author_birthdate):\n",
        "        self.title = title\n",
        "        self.genre = genre\n",
        "        self.author = Author(name = author_name,birthdate=author_birthdate)\n",
        "\n",
        "    def __str__(self):\n",
        "        return f\"Title : {self.title}\\nGenre : {self.genre}\\nAuthor : {self.author}\"\n",
        "\n",
        "book1 = Book(title = \"Amazing\", genre = \"Thriller\",author_name = \"Vanga\",author_birthdate=\"Jan - 1, 1980\")\n",
        "\n",
        "print(book1)\n"
      ]
    },
    {
      "cell_type": "markdown",
      "id": "b902ba65",
      "metadata": {
        "id": "b902ba65"
      },
      "source": [
        "### 4. Discuss the benefits of using composition over inheritance in Python, especially in terms of code flexibility and reusability."
      ]
    },
    {
      "cell_type": "raw",
      "id": "a62f5c5b",
      "metadata": {
        "id": "a62f5c5b"
      },
      "source": [
        "Using composition over inheritance in Python offers several benefits, particularly in terms of code flexibility and reusability. Here are some key advantages:\n",
        "\n",
        "Flexibility:\n",
        "\n",
        "Dynamic Relationships: Composition allows for dynamic relationships between classes. Objects can be combined at runtime, providing more flexibility than the static relationships enforced by inheritance.\n",
        "Component Swapping: Components can be easily swapped or replaced without modifying the entire class hierarchy. This makes it easier to adapt to changing requirements.\n",
        "\n",
        "Code Reusability:\n",
        "\n",
        "Modular Design: Composition promotes a modular design where classes are independent and can be reused in various contexts. This enhances code reusability by allowing components to be used in different combinations.\n",
        "Mixins: Composition allows the use of mixins or helper classes, which can be combined with different classes to add specific functionalities. This modular approach contributes to better code reuse."
      ]
    },
    {
      "cell_type": "markdown",
      "id": "2e6857a6",
      "metadata": {
        "id": "2e6857a6"
      },
      "source": [
        "### 5. How can you implement composition in Python classes? Provide examples of using composition to create complex objects."
      ]
    },
    {
      "cell_type": "code",
      "execution_count": null,
      "id": "eadf68c2",
      "metadata": {
        "id": "eadf68c2",
        "outputId": "03e1a3f6-023a-41f1-df72-8aa98a017ad4"
      },
      "outputs": [
        {
          "name": "stdout",
          "output_type": "stream",
          "text": [
            "Car started - Engine started\n",
            "Car stopped - Engine stopped\n",
            "Title: Mystery of the Lost Keys\n",
            "Genre: Mystery\n",
            "Author: Jane Doe (Born: January 1, 1980)\n"
          ]
        }
      ],
      "source": [
        "#example 1\n",
        "\n",
        "class Engine:\n",
        "    def start(self):\n",
        "        return \"Engine started\"\n",
        "\n",
        "    def stop(self):\n",
        "        return \"Engine stopped\"\n",
        "\n",
        "class Car:\n",
        "    def __init__(self):\n",
        "        self.engine = Engine()\n",
        "\n",
        "    def start(self):\n",
        "        return f\"Car started - {self.engine.start()}\"\n",
        "\n",
        "    def stop(self):\n",
        "        return f\"Car stopped - {self.engine.stop()}\"\n",
        "\n",
        "my_car = Car()\n",
        "\n",
        "print(my_car.start())\n",
        "print(my_car.stop())\n",
        "\n",
        "#example 2\n",
        "class Author:\n",
        "    def __init__(self,name,birthdate):\n",
        "        self.name = name\n",
        "        self.birthdate = birthdate\n",
        "    def __str__(self):\n",
        "        return f\"{self.name} (Born: {self.birthdate})\"\n",
        "\n",
        "class Book:\n",
        "    def __init__(self, title, genre, author):\n",
        "        self.title = title\n",
        "        self.genre = genre\n",
        "        self.author = author\n",
        "\n",
        "    def __str__(self):\n",
        "        return f\"Title: {self.title}\\nGenre: {self.genre}\\nAuthor: {self.author}\"\n",
        "\n",
        "# Creating a Book object using composition\n",
        "author_jane_doe = Author(name=\"Jane Doe\", birthdate=\"January 1, 1980\")\n",
        "book1 = Book(title=\"Mystery of the Lost Keys\", genre=\"Mystery\", author=author_jane_doe)\n",
        "\n",
        "# Using the Book object\n",
        "print(book1)\n",
        ""
      ]
    },
    {
      "cell_type": "markdown",
      "id": "5c93efcb",
      "metadata": {
        "id": "5c93efcb"
      },
      "source": [
        "### 6. Create a Python class hierarchy for a music player system, using composition to represent playlists and songs"
      ]
    },
    {
      "cell_type": "code",
      "execution_count": null,
      "id": "5ce4379b",
      "metadata": {
        "id": "5ce4379b",
        "outputId": "843f26ba-33ca-4a09-b8c9-79ec5ed902f7"
      },
      "outputs": [
        {
          "name": "stdout",
          "output_type": "stream",
          "text": [
            "Playing playlist: Favorites\n",
            "1. Song1 - Artist1\n",
            "2. Song2 - Artist2\n",
            "\n",
            "--------------------\n",
            "\n",
            "Playing playlist: Chill Mix\n",
            "1. Song2 - Artist2\n",
            "2. Song3 - Artist3\n"
          ]
        }
      ],
      "source": [
        "class MusicPlayer:\n",
        "    def __init__(self):\n",
        "        self.playlists = []\n",
        "\n",
        "    def create_playlist(self, name):\n",
        "        playlist = Playlist(name)\n",
        "        self.playlists.append(playlist)\n",
        "        return playlist\n",
        "\n",
        "class Playlist:\n",
        "    def __init__(self, name):\n",
        "        self.name = name\n",
        "        self.songs = []\n",
        "\n",
        "    def add_song(self, song):\n",
        "        self.songs.append(song)\n",
        "\n",
        "    def play_all(self):\n",
        "        playlist_info = f\"Playing playlist: {self.name}\\n\"\n",
        "        songs_info = \"\\n\".join([f\"{i+1}. {song.title} - {song.artist}\" for i, song in enumerate(self.songs)])\n",
        "        return f\"{playlist_info}{songs_info}\"\n",
        "\n",
        "class Song:\n",
        "    def __init__(self, title, artist):\n",
        "        self.title = title\n",
        "        self.artist = artist\n",
        "\n",
        "    def play(self):\n",
        "        return f\"Playing: {self.title} - {self.artist}\"\n",
        "\n",
        "# Example usage:\n",
        "\n",
        "# Create a music player\n",
        "my_music_player = MusicPlayer()\n",
        "\n",
        "# Create playlists\n",
        "playlist1 = my_music_player.create_playlist(\"Favorites\")\n",
        "playlist2 = my_music_player.create_playlist(\"Chill Mix\")\n",
        "\n",
        "# Create songs\n",
        "song1 = Song(title=\"Song1\", artist=\"Artist1\")\n",
        "song2 = Song(title=\"Song2\", artist=\"Artist2\")\n",
        "song3 = Song(title=\"Song3\", artist=\"Artist3\")\n",
        "\n",
        "# Add songs to playlists\n",
        "playlist1.add_song(song1)\n",
        "playlist1.add_song(song2)\n",
        "\n",
        "playlist2.add_song(song2)\n",
        "playlist2.add_song(song3)\n",
        "\n",
        "# Playlists and songs information\n",
        "print(playlist1.play_all())\n",
        "print(\"\\n\" + \"-\"*20 + \"\\n\")\n",
        "print(playlist2.play_all())\n"
      ]
    },
    {
      "cell_type": "markdown",
      "id": "cfbf45ec",
      "metadata": {
        "id": "cfbf45ec"
      },
      "source": [
        "### 7. Explain the concept of \"has-a\" relationships in composition and how it helps design software systems."
      ]
    },
    {
      "cell_type": "raw",
      "id": "6baed50d",
      "metadata": {
        "id": "6baed50d"
      },
      "source": [
        "\n",
        "In object-oriented programming, the \"has-a\" relationship is a concept that describes a composition relationship between classes. It indicates that an object of one class has another object as a part of its structure. This relationship is often implemented using composition, where one class contains an instance of another class as an attribute. The \"has-a\" relationship helps design software systems in several ways:\n",
        "\n",
        "Modularity and Reusability:\n",
        "\n",
        "The \"has-a\" relationship promotes modularity by allowing you to design classes that represent specific components or features.\n",
        "Objects can be reused in various contexts, leading to more modular and reusable code.\n",
        "Code Organization:\n",
        "\n",
        "By modeling relationships using composition, the code organization becomes clearer. Each class is responsible for its own functionality, and the relationships between classes are explicitly defined.\n",
        "Flexibility and Adaptability:\n",
        "\n",
        "The \"has-a\" relationship provides flexibility in adapting to changing requirements. New components can be added or existing ones replaced without affecting the entire system.\n",
        "Clear Representation of Concepts:\n",
        "\n",
        "The relationship accurately represents the real-world connections between entities. For example, a car \"has-a\" engine, a library \"has-a\" collection of books, etc.\n",
        "This clear representation enhances the readability and understanding of the code.\n",
        "Encapsulation:\n",
        "\n",
        "The \"has-a\" relationship encourages encapsulation, as the internal details of an object are hidden within its class.\n",
        "This encapsulation makes it easier to manage and maintain the code, as the implementation details are localized.\n",
        "Avoiding Complex Inheritance Hierarchies:\n",
        "\n",
        "In cases where an \"is-a\" relationship is not clear or would lead to a complex inheritance hierarchy, the \"has-a\" relationship is a preferable alternative.\n",
        "It helps avoid the issues associated with deep and rigid class hierarchies, such as the fragile base class problem.\n",
        "Promoting Composition Over Inheritance:\n",
        "\n",
        "The \"has-a\" relationship aligns with the principle of composition over inheritance. It encourages the use of composition to build relationships between classes, offering more flexibility and avoiding some of the pitfalls associated with inheritance.\n",
        "Loose Coupling:\n",
        "\n",
        "Composition often leads to loose coupling between classes. Objects are composed of other objects without exposing their internal details.\n",
        "Loose coupling makes it easier to make changes to one class without affecting others.\n",
        "Ease of Testing:\n",
        "\n",
        "The modular nature of the \"has-a\" relationship facilitates testing. Each component can be tested independently, making it easier to identify and fix issues.\n",
        "In summary, the \"has-a\" relationship in composition is a valuable design concept that enhances modularity, code organization, and flexibility in software systems. It enables clear representation of relationships, promotes encapsulation, and contributes to the creation of maintainable and adaptable codebases."
      ]
    },
    {
      "cell_type": "markdown",
      "id": "ee77512b",
      "metadata": {
        "id": "ee77512b"
      },
      "source": [
        "### 8. Create a Python class for a computer system, using composition to represent components like CPU, RAM, and storage devices"
      ]
    },
    {
      "cell_type": "code",
      "execution_count": null,
      "id": "6d501f91",
      "metadata": {
        "id": "6d501f91",
        "outputId": "57b8153c-6100-4098-d5da-1d8ee3ee8cdf"
      },
      "outputs": [
        {
          "name": "stdout",
          "output_type": "stream",
          "text": [
            "Comuter System Information: \n",
            "CPU: This CPU brand is Ryzen with the speed of 3\n",
            "RAM: The storage capacity is : 16\n",
            "Storage: 512 GB SSD storage\n"
          ]
        }
      ],
      "source": [
        "class CPU:\n",
        "    def __init__(self,brand,speed):\n",
        "        self.brand = brand\n",
        "        self.speed = speed\n",
        "\n",
        "    def __str__(self):\n",
        "        return f\"This CPU brand is {self.brand} with the speed of {self.speed}\"\n",
        "\n",
        "class RAM:\n",
        "    def __init__(self,storage_capacity):\n",
        "        self.storage_capacity = storage_capacity\n",
        "\n",
        "    def __str__(self):\n",
        "        return f\"The storage capacity is : {self.storage_capacity}\"\n",
        "\n",
        "class Storage:\n",
        "    def __init__(self,capacity,storage_type):\n",
        "        self.capacity = capacity\n",
        "        self.storage_type = storage_type\n",
        "\n",
        "    def __str__(self):\n",
        "        return f\"{self.capacity} GB {self.storage_type} storage\"\n",
        "\n",
        "class ComputerSystem :\n",
        "    def __init__(self,cpu,ram,storage):\n",
        "        self.cpu = cpu\n",
        "        self.ram = ram\n",
        "        self.storage = storage\n",
        "\n",
        "    def display_info(self):\n",
        "        print(\"Comuter System Information: \")\n",
        "        print(f\"CPU: {self.cpu}\")\n",
        "        print(f\"RAM: {self.ram}\")\n",
        "        print(f\"Storage: {self.storage}\")\n",
        "\n",
        "my_cpu = CPU(\"Ryzen\",3)\n",
        "my_ram = RAM(16)\n",
        "my_storage = Storage(512,\"SSD\")\n",
        "\n",
        "computer = ComputerSystem(my_cpu,my_ram,my_storage)\n",
        "\n",
        "computer.display_info()"
      ]
    },
    {
      "cell_type": "markdown",
      "id": "7fef8c46",
      "metadata": {
        "id": "7fef8c46"
      },
      "source": [
        "### 9. Describe the concept of \"delegation\" in composition and how it simplifies the design of complex system."
      ]
    },
    {
      "cell_type": "raw",
      "id": "837fd2e7",
      "metadata": {
        "id": "837fd2e7"
      },
      "source": [
        "Delegation in composition is a design pattern where one class passes the responsibility for a particular task to another class. In the context of object-oriented programming, this often involves one class containing an instance of another class and forwarding certain operations or methods to the contained instance. Delegation is a fundamental concept in composition and is crucial for building flexible and modular systems.\n",
        "\n",
        "Here's a breakdown of how delegation works and why it simplifies the design of complex systems:\n",
        "\n",
        "Responsibility Separation:\n",
        "\n",
        "In a complex system, various functionalities or responsibilities are often better handled by different classes. Delegation allows you to separate these responsibilities into distinct classes.\n",
        "Each class is responsible for a specific aspect of functionality, leading to a more modular and maintainable design.\n",
        "\n",
        "Code Reusability:\n",
        "\n",
        "By delegating responsibilities to separate classes, you can reuse existing classes in different contexts. This promotes code reusability since a class designed for a specific purpose can be used in various scenarios by delegating tasks to it.\n",
        "\n",
        "Loose Coupling:\n",
        "\n",
        "Delegation helps in achieving loose coupling between classes. A class that delegates tasks doesn't need to know the internal details of the delegated class, only the interface it provides. This reduces the dependency between classes, making the system more flexible and easier to modify.\n",
        "\n",
        "Encapsulation:\n",
        "\n",
        "Each class can encapsulate its own implementation details, exposing only the necessary interfaces for other classes to interact with. This encapsulation ensures that changes to the internal implementation of a class don't affect the classes delegating tasks to it.\n",
        "\n",
        "Adaptability and Extensibility:\n",
        "\n",
        "Delegation allows you to adapt and extend the behavior of a system without modifying existing code. By adding or replacing delegated classes, you can introduce new features or modify existing ones without affecting the rest of the system.\n",
        "\n",
        "Simplified Maintenance:\n",
        "\n",
        "When a system is built using delegation, it becomes easier to maintain. Changes in one part of the system are less likely to have a cascading effect on other parts, reducing the risk of unintended consequences."
      ]
    },
    {
      "cell_type": "markdown",
      "id": "41e470d3",
      "metadata": {
        "id": "41e470d3"
      },
      "source": [
        "### 10. Create a Python class for a car, using composition to represent components like the engine, wheels, and transmission"
      ]
    },
    {
      "cell_type": "code",
      "execution_count": null,
      "id": "de2852fe",
      "metadata": {
        "id": "de2852fe",
        "outputId": "bed8e5b4-9d5d-4ae4-8a4f-69acfdd06aeb"
      },
      "outputs": [
        {
          "name": "stdout",
          "output_type": "stream",
          "text": [
            "Car Information:\n",
            "The Brand of Engine is Extraordinary works with Diesel fuel.\n",
            "AwesomeBrand Wheel - Size: 18. \n",
            "Transmission Type: Automatic.\n"
          ]
        }
      ],
      "source": [
        "class Engine :\n",
        "    def __init__(self,brand,fuel_type):\n",
        "        self.brand = brand\n",
        "        self.fuel_type = fuel_type\n",
        "\n",
        "    def __str__(self):\n",
        "        return f\"The Brand of Engine is {self.brand} works with {self.fuel_type} fuel.\"\n",
        "\n",
        "class Wheels:\n",
        "    def __init__(self,brand,size):\n",
        "        self.brand = brand\n",
        "        self.size = size\n",
        "\n",
        "    def __str__(self):\n",
        "        return f\"{self.brand} Wheel - Size: {self.size}. \"\n",
        "\n",
        "class Transmission:\n",
        "    def __init__(self,transmission_type):\n",
        "        self.transmission_type = transmission_type\n",
        "\n",
        "    def __str__(self):\n",
        "         return f\"Transmission Type: {self.transmission_type}.\"\n",
        "\n",
        "\n",
        "\n",
        "class Car:\n",
        "    def __init__(self,engine,wheels,transmission):\n",
        "        self.engine = engine\n",
        "        self.wheels = wheels\n",
        "        self.transmission = transmission\n",
        "\n",
        "    def display_info(self):\n",
        "        print(\"Car Information:\")\n",
        "        print(self.engine)\n",
        "        print(self.wheels)\n",
        "        print(self.transmission)\n",
        "\n",
        "my_engine = Engine(brand = \"Extraordinary\",fuel_type=\"Diesel\")\n",
        "\n",
        "my_wheel = Wheels(brand=\"AwesomeBrand\", size=18)\n",
        "\n",
        "# Create an instance of Transmission\n",
        "my_transmission = Transmission(transmission_type=\"Automatic\")\n",
        "\n",
        "# Create an instance of Car\n",
        "my_car = Car(engine=my_engine, wheels=my_wheel, transmission=my_transmission)\n",
        "\n",
        "# Display information about the car\n",
        "my_car.display_info()"
      ]
    },
    {
      "cell_type": "markdown",
      "id": "f8242baf",
      "metadata": {
        "id": "f8242baf"
      },
      "source": [
        "### 11. How can you encapsulate and hide the details of composed objects in Python classes to maintain abstraction?"
      ]
    },
    {
      "cell_type": "raw",
      "id": "5477fa3f",
      "metadata": {
        "id": "5477fa3f"
      },
      "source": [
        "In Python, encapsulation is a fundamental concept that involves restricting access to certain aspects of an object and preventing direct modification of its internal state. To encapsulate and hide the details of composed objects in Python classes, you can use the following techniques:\n",
        "\n",
        "Private Attributes and Methods:\n",
        "\n",
        "Prefix attributes and methods with a double underscore (__). This makes them private, and they can only be accessed from within the class.\n",
        "This helps in hiding the details of the composed objects and ensures that their internal state is not directly accessible from outside the class.\n",
        "\n",
        "Public Getter Methods:\n",
        "\n",
        "Provide public methods (getter methods) to access the internal state of composed objects.\n",
        "This allows controlled access to the details, maintaining abstraction while providing necessary information.\n",
        "\n",
        "Property Decorators:\n",
        "\n",
        "Use property decorators to create read-only properties for accessing private attributes.\n",
        "This allows you to expose certain details while preventing direct modification.\n",
        "\n",
        "By combining these techniques, you can encapsulate and hide the details of composed objects in Python classes, promoting abstraction and providing controlled access to the internal state of the objects."
      ]
    },
    {
      "cell_type": "markdown",
      "id": "0356dbc6",
      "metadata": {
        "id": "0356dbc6"
      },
      "source": [
        "### 12. Create a Python class for a university course, using composition to represent students, instructors, and course materials"
      ]
    },
    {
      "cell_type": "code",
      "execution_count": null,
      "id": "4933eec1",
      "metadata": {
        "id": "4933eec1",
        "outputId": "caab7b36-a74d-4677-f25e-90fb3a34e9f8"
      },
      "outputs": [
        {
          "name": "stdout",
          "output_type": "stream",
          "text": [
            "University Course Information - CS101: Introduction to Computer Science\n",
            "Instructor: Instructor ID: 101, Name: Dr. Smith\n",
            "Students:\n",
            "- Student ID: 1, Name: Prasad\n",
            "- Student ID: 2, Name: Dileep\n",
            "Course Material: Course Material - Title: Introduction to Python, Content: ...\n"
          ]
        }
      ],
      "source": [
        "class Student:\n",
        "    def __init__(self, student_id, name):\n",
        "        self.student_id = student_id\n",
        "        self.name = name\n",
        "\n",
        "    def __str__(self):\n",
        "        return f\"Student ID: {self.student_id}, Name: {self.name}\"\n",
        "\n",
        "\n",
        "class Instructor:\n",
        "    def __init__(self, instructor_id, name):\n",
        "        self.instructor_id = instructor_id\n",
        "        self.name = name\n",
        "\n",
        "    def __str__(self):\n",
        "        return f\"Instructor ID: {self.instructor_id}, Name: {self.name}\"\n",
        "\n",
        "\n",
        "class CourseMaterial:\n",
        "    def __init__(self, title, content):\n",
        "        self.title = title\n",
        "        self.content = content\n",
        "\n",
        "    def __str__(self):\n",
        "        return f\"Course Material - Title: {self.title}, Content: {self.content}\"\n",
        "\n",
        "\n",
        "class UniversityCourse:\n",
        "    def __init__(self, course_code, course_name, instructor, students, course_material):\n",
        "        self.course_code = course_code\n",
        "        self.course_name = course_name\n",
        "        self.instructor = instructor\n",
        "        self.students = students\n",
        "        self.course_material = course_material\n",
        "\n",
        "    def display_info(self):\n",
        "        print(f\"University Course Information - {self.course_code}: {self.course_name}\")\n",
        "        print(\"Instructor:\", self.instructor)\n",
        "        print(\"Students:\")\n",
        "        for student in self.students:\n",
        "            print(f\"- {student}\")\n",
        "        print(\"Course Material:\", self.course_material)\n",
        "\n",
        "student_info_1 = Student(student_id=1,name=\"Prasad\")\n",
        "student_info_2 = Student(student_id=2,name=\"Dileep\")\n",
        "\n",
        "instructor = Instructor(instructor_id=101, name=\"Dr. Smith\")\n",
        "\n",
        "course_material = CourseMaterial(title=\"Introduction to Python\", content=\"...\")\n",
        "university_course = UniversityCourse(\n",
        "        course_code=\"CS101\",\n",
        "        course_name=\"Introduction to Computer Science\",\n",
        "        instructor=instructor,\n",
        "        students=[student_info_1, student_info_2],\n",
        "        course_material=course_material\n",
        "    )\n",
        "\n",
        "# Displaying information about the university course\n",
        "university_course.display_info()"
      ]
    },
    {
      "cell_type": "markdown",
      "id": "76c3f680",
      "metadata": {
        "id": "76c3f680"
      },
      "source": [
        "### 13. Discuss the challenges and drawbacks of composition, such as increased complexity and potential for tight coupling between objects"
      ]
    },
    {
      "cell_type": "raw",
      "id": "c3817bd4",
      "metadata": {
        "id": "c3817bd4"
      },
      "source": [
        "While composition is a powerful and flexible design principle in object-oriented programming, it comes with its challenges and drawbacks. Some of the main concerns include increased complexity and the potential for tight coupling between objects. Let's discuss these challenges:\n",
        "\n",
        "Increased Complexity:\n",
        "\n",
        "As you compose more and more objects to create complex structures, the overall complexity of the system can increase significantly. This complexity may make the code harder to understand, maintain, and debug.\n",
        "Understanding the relationships between various components and their interactions becomes crucial, especially as the number of composed objects grows.\n",
        "\n",
        "Dependency Management:\n",
        "\n",
        "Composition introduces dependencies between objects. If one component changes its interface or behavior, it may affect other components that depend on it. Managing these dependencies can be challenging, especially in large codebases.\n",
        "Changes to one object may require modifications in multiple places, leading to potential maintenance issues.\n",
        "\n",
        "Tight Coupling:\n",
        "\n",
        "Composition can lead to tight coupling between objects if they are highly dependent on each other's internal details. Tight coupling makes it harder to modify one component without affecting others.\n",
        "When objects are tightly coupled, changes to one object may require modifications in dependent objects, reducing code flexibility and making it less adaptable to changes.\n",
        "\n",
        "Interface Changes:\n",
        "\n",
        "If the interface of a composed object changes, it may impact all the classes that depend on it. This can result in a ripple effect, requiring updates in multiple places.\n",
        "Managing interface changes becomes crucial to avoid breaking the functionality of the composed objects.\n",
        "\n",
        "Potential for Overuse:\n",
        "\n",
        "While composition is a valuable tool, there is a risk of overusing it. Over-composition can lead to an abundance of small, specialized classes that may not provide significant benefits in terms of code organization and readability.\n",
        "It's essential to strike a balance and use composition judiciously based on the actual needs of the application.\n",
        "\n",
        "Performance Concerns:\n",
        "\n",
        "In some cases, using composition excessively may introduce performance overhead due to the increased number of objects and their interactions. This can be a concern in performance-sensitive applications.\n",
        "\n",
        "Initialization and Configuration:\n",
        "\n",
        "Initializing and configuring a complex composition of objects may require careful management of constructors and initialization methods. Handling dependencies during object creation can be error-prone.\n",
        "\n",
        "Despite these challenges, composition remains a powerful tool, and many of these drawbacks can be mitigated through good design practices, such as using well-defined interfaces, focusing on proper encapsulation, and minimizing dependencies between objects. Additionally, alternative design patterns like Dependency Injection can be employed to address some of these concerns."
      ]
    },
    {
      "cell_type": "markdown",
      "id": "0448d799",
      "metadata": {
        "id": "0448d799"
      },
      "source": [
        "### 14. Create a Python class hierarchy for a restaurant system, using composition to represent menus, dishes, and ingredients"
      ]
    },
    {
      "cell_type": "code",
      "execution_count": null,
      "id": "4aabc700",
      "metadata": {
        "id": "4aabc700",
        "outputId": "d85c23cc-f3a2-401d-d373-ad71ec44ad76"
      },
      "outputs": [
        {
          "name": "stdout",
          "output_type": "stream",
          "text": [
            "Welcome to Food Haven!\n",
            "Lunch Menu\n",
            "Chicken Salad - Fresh salad with grilled chicken ($10.99)\n",
            "Chicken Sandwich - Grilled chicken sandwich with cheese ($8.99)\n",
            "Dinner Menu\n",
            "Chicken Salad - Fresh salad with grilled chicken ($10.99)\n"
          ]
        }
      ],
      "source": [
        "class Ingredient:\n",
        "    def __init__(self, name, quantity, unit):\n",
        "        self.name = name\n",
        "        self.quantity = quantity\n",
        "        self.unit = unit\n",
        "\n",
        "    def __str__(self):\n",
        "        return f\"{self.quantity} {self.unit} of {self.name}\"\n",
        "\n",
        "\n",
        "class Dish:\n",
        "    def __init__(self, name, description, price, ingredients):\n",
        "        self.name = name\n",
        "        self.description = description\n",
        "        self.price = price\n",
        "        self.ingredients = ingredients\n",
        "\n",
        "    def __str__(self):\n",
        "        return f\"{self.name} - {self.description} (${self.price:.2f})\"\n",
        "\n",
        "\n",
        "class Menu:\n",
        "    def __init__(self, name, dishes):\n",
        "        self.name = name\n",
        "        self.dishes = dishes\n",
        "\n",
        "    def __str__(self):\n",
        "        return f\"{self.name} Menu\\n\" + \"\\n\".join(str(dish) for dish in self.dishes)\n",
        "\n",
        "\n",
        "class Restaurant:\n",
        "    def __init__(self, name, menus):\n",
        "        self.name = name\n",
        "        self.menus = menus\n",
        "\n",
        "    def display_menu(self):\n",
        "        print(f\"Welcome to {self.name}!\")\n",
        "        for menu in self.menus:\n",
        "            print(menu)\n",
        "\n",
        "\n",
        "# Example Usage:\n",
        "if __name__ == \"__main__\":\n",
        "    # Ingredients\n",
        "    tomato = Ingredient(name=\"Tomato\", quantity=2, unit=\"pieces\")\n",
        "    lettuce = Ingredient(name=\"Lettuce\", quantity=1, unit=\"head\")\n",
        "    chicken = Ingredient(name=\"Chicken\", quantity=200, unit=\"grams\")\n",
        "    cheese = Ingredient(name=\"Cheese\", quantity=50, unit=\"grams\")\n",
        "\n",
        "    # Dishes\n",
        "    salad = Dish(name=\"Chicken Salad\", description=\"Fresh salad with grilled chicken\", price=10.99, ingredients=[tomato, lettuce, chicken])\n",
        "    sandwich = Dish(name=\"Chicken Sandwich\", description=\"Grilled chicken sandwich with cheese\", price=8.99, ingredients=[chicken, cheese])\n",
        "\n",
        "    # Menus\n",
        "    lunch_menu = Menu(name=\"Lunch\", dishes=[salad, sandwich])\n",
        "    dinner_menu = Menu(name=\"Dinner\", dishes=[salad])\n",
        "\n",
        "    # Restaurant\n",
        "    my_restaurant = Restaurant(name=\"Food Haven\", menus=[lunch_menu, dinner_menu])\n",
        "\n",
        "    # Display the restaurant menu\n",
        "    my_restaurant.display_menu()\n"
      ]
    },
    {
      "cell_type": "markdown",
      "id": "48c25e28",
      "metadata": {
        "id": "48c25e28"
      },
      "source": [
        "### 15. Explain how composition enhances code maintainability and modularity in Python programs."
      ]
    },
    {
      "cell_type": "raw",
      "id": "6586a92d",
      "metadata": {
        "id": "6586a92d"
      },
      "source": [
        "composition in Python enhances code maintainability and modularity by promoting a modular, reusable, and encapsulated design, reducing dependencies and improving the overall readability and understandability of the code."
      ]
    },
    {
      "cell_type": "markdown",
      "id": "cc17c945",
      "metadata": {
        "id": "cc17c945"
      },
      "source": [
        "### 16. Create a Python class for a computer game character, using composition to represent attributes like weapons, armor, and inventory."
      ]
    },
    {
      "cell_type": "code",
      "execution_count": null,
      "id": "c9ac7ac4",
      "metadata": {
        "id": "c9ac7ac4",
        "outputId": "982aa8f3-1278-4b72-e531-999ab449f88d"
      },
      "outputs": [
        {
          "name": "stdout",
          "output_type": "stream",
          "text": [
            "Character: Hero\n",
            "Health: 100\n",
            "Equipped Weapon: Weapon: Sword, Damage: 10\n",
            "Equipped Armor: Armor: Leather Armor, Defense: 5\n",
            "Inventory:\n",
            "- 3x Health Potion\n",
            "- 2x Mana Potion\n"
          ]
        }
      ],
      "source": [
        "class Weapon:\n",
        "    def __init__(self, name, damage):\n",
        "        self.name = name\n",
        "        self.damage = damage\n",
        "\n",
        "    def __str__(self):\n",
        "        return f\"Weapon: {self.name}, Damage: {self.damage}\"\n",
        "\n",
        "class Armor:\n",
        "    def __init__(self, name, defense):\n",
        "        self.name = name\n",
        "        self.defense = defense\n",
        "\n",
        "    def __str__(self):\n",
        "        return f\"Armor: {self.name}, Defense: {self.defense}\"\n",
        "\n",
        "class InventoryItem:\n",
        "    def __init__(self, name, quantity):\n",
        "        self.name = name\n",
        "        self.quantity = quantity\n",
        "\n",
        "    def __str__(self):\n",
        "        return f\"{self.quantity}x {self.name}\"\n",
        "\n",
        "class GameCharacter:\n",
        "    def __init__(self, name, health, weapon=None, armor=None, inventory=None):\n",
        "        self.name = name\n",
        "        self.health = health\n",
        "        self.weapon = weapon\n",
        "        self.armor = armor\n",
        "        self.inventory = inventory if inventory is not None else []\n",
        "\n",
        "    def equip_weapon(self, weapon):\n",
        "        self.weapon = weapon\n",
        "\n",
        "    def equip_armor(self, armor):\n",
        "        self.armor = armor\n",
        "\n",
        "    def add_to_inventory(self, item):\n",
        "        self.inventory.append(item)\n",
        "\n",
        "    def display_character_info(self):\n",
        "        print(f\"Character: {self.name}\")\n",
        "        print(f\"Health: {self.health}\")\n",
        "        if self.weapon:\n",
        "            print(\"Equipped Weapon:\", self.weapon)\n",
        "        if self.armor:\n",
        "            print(\"Equipped Armor:\", self.armor)\n",
        "        if self.inventory:\n",
        "            print(\"Inventory:\")\n",
        "            for item in self.inventory:\n",
        "                print(f\"- {item}\")\n",
        "\n",
        "# Example Usage:\n",
        "if __name__ == \"__main__\":\n",
        "    # Create Weapons\n",
        "    sword = Weapon(name=\"Sword\", damage=10)\n",
        "    bow = Weapon(name=\"Bow\", damage=8)\n",
        "\n",
        "    # Create Armor\n",
        "    leather_armor = Armor(name=\"Leather Armor\", defense=5)\n",
        "    steel_armor = Armor(name=\"Steel Armor\", defense=10)\n",
        "\n",
        "    # Create Inventory Items\n",
        "    health_potion = InventoryItem(name=\"Health Potion\", quantity=3)\n",
        "    mana_potion = InventoryItem(name=\"Mana Potion\", quantity=2)\n",
        "\n",
        "    # Create Game Character\n",
        "    player_character = GameCharacter(name=\"Hero\", health=100, weapon=sword, armor=leather_armor, inventory=[health_potion, mana_potion])\n",
        "\n",
        "    # Display Character Information\n",
        "    player_character.display_character_info()\n"
      ]
    },
    {
      "cell_type": "markdown",
      "id": "e6f2a6cb",
      "metadata": {
        "id": "e6f2a6cb"
      },
      "source": [
        "### 17. Describe the concept of \"aggregation\" in composition and how it differs from simple composition."
      ]
    },
    {
      "cell_type": "raw",
      "id": "ffddb623",
      "metadata": {
        "id": "ffddb623"
      },
      "source": [
        "In object-oriented programming, \"aggregation\" is a form of composition that represents a relationship where one class contains another class, but the contained object can exist independently of the container. Aggregation implies a weaker relationship compared to simple composition. Let's delve into the concept of aggregation and explore the differences from simple composition:\n",
        "\n",
        "Aggregation:\n",
        "Definition:\n",
        "\n",
        "Aggregation is a relationship where one class, often referred to as the \"container\" or \"aggregate,\" contains another class, known as the \"component\" or \"part.\"\n",
        "Unlike simple composition, the contained object can exist independently and might be shared among multiple containers.\n",
        "Characteristics:\n",
        "\n",
        "The contained object can be created independently of the container.\n",
        "The container might not be responsible for the creation or destruction of the contained object.\n",
        "The contained object can be associated with multiple containers simultaneously.\n",
        "The lifetime of the contained object is not necessarily tied to the lifetime of the container.\n",
        "\n",
        "Differences from Simple Composition:\n",
        "Independence of Contained Object:\n",
        "\n",
        "In aggregation, the contained object can exist independently of the container. It may be created and managed outside the container, and it might persist even if the container is destroyed.\n",
        "In simple composition, the contained object is typically created within the container and is more tightly coupled with its lifecycle.\n",
        "Responsibility for Creation and Destruction:\n",
        "\n",
        "In aggregation, the container might not be responsible for creating or destroying the contained object. The object can be created independently and associated with multiple containers.\n",
        "In simple composition, the container is usually responsible for the creation, initialization, and destruction of the contained object.\n",
        "Flexibility:\n",
        "\n",
        "Aggregation is more flexible, allowing the same object to be associated with multiple containers. This promotes a more modular and adaptable design.\n",
        "Simple composition is more rigid, with a stronger dependency between the container and the contained object.\n",
        "Multiplicity:\n",
        "\n",
        "Aggregation allows for a one-to-many relationship between the container and the contained object, meaning that one object can be part of multiple containers.\n",
        "Simple composition typically represents a one-to-one relationship, where each container has its own unique instance of the contained object.\n",
        "\n",
        "In summary, aggregation represents a more loosely coupled relationship between a container and a contained object compared to simple composition. It allows for greater flexibility, independence of the contained object, and the possibility of multiple containers sharing the same object.\n"
      ]
    },
    {
      "cell_type": "markdown",
      "id": "d12405ed",
      "metadata": {
        "id": "d12405ed"
      },
      "source": [
        "### 18. Create a Python class for a house, using composition to represent rooms, furniture, and appliance"
      ]
    },
    {
      "cell_type": "code",
      "execution_count": null,
      "id": "fa4670cc",
      "metadata": {
        "id": "fa4670cc",
        "outputId": "a86e4674-e77a-4954-cecd-e460fb11e4df"
      },
      "outputs": [
        {
          "name": "stdout",
          "output_type": "stream",
          "text": [
            "House: My Dream House\n",
            "Living Room (Area: 300 sq. ft)  Furniture:  - Sofa (Modern style)\n",
            "Kitchen (Area: 200 sq. ft)  Furniture:  - Dining Table (Classic style)  Appliances:  - Samsung Refrigerator  - KitchenAid Oven\n"
          ]
        }
      ],
      "source": [
        "class Furniture:\n",
        "    def __init__(self, name, style):\n",
        "        self.name = name\n",
        "        self.style = style\n",
        "\n",
        "    def __str__(self):\n",
        "        return f\"{self.name} ({self.style} style)\"\n",
        "\n",
        "class Appliance:\n",
        "    def __init__(self, name, brand):\n",
        "        self.name = name\n",
        "        self.brand = brand\n",
        "\n",
        "    def __str__(self):\n",
        "        return f\"{self.brand} {self.name}\"\n",
        "\n",
        "class Room:\n",
        "    def __init__(self, name, area, furniture=None, appliances=None):\n",
        "        self.name = name\n",
        "        self.area = area\n",
        "        self.furniture = furniture if furniture is not None else []\n",
        "        self.appliances = appliances if appliances is not None else []\n",
        "\n",
        "    def add_furniture(self, furniture):\n",
        "        self.furniture.append(furniture)\n",
        "\n",
        "    def add_appliance(self, appliance):\n",
        "        self.appliances.append(appliance)\n",
        "\n",
        "    def __str__(self):\n",
        "        return f\"{self.name} (Area: {self.area} sq. ft)\"\n",
        "\n",
        "class House:\n",
        "    def __init__(self, name, rooms=None):\n",
        "        self.name = name\n",
        "        self.rooms = rooms if rooms is not None else []\n",
        "\n",
        "    def add_room(self, room):\n",
        "        self.rooms.append(room)\n",
        "\n",
        "    def __str__(self):\n",
        "        house_info = [f\"House: {self.name}\"]\n",
        "        for room in self.rooms:\n",
        "            room_info = [str(room)]\n",
        "            if room.furniture:\n",
        "                room_info.append(\"Furniture:\")\n",
        "                for piece in room.furniture:\n",
        "                    room_info.append(f\"- {piece}\")\n",
        "            if room.appliances:\n",
        "                room_info.append(\"Appliances:\")\n",
        "                for appliance in room.appliances:\n",
        "                    room_info.append(f\"- {appliance}\")\n",
        "            house_info.append(\"  \".join(room_info))\n",
        "        return \"\\n\".join(house_info)\n",
        "\n",
        "# Example Usage:\n",
        "if __name__ == \"__main__\":\n",
        "    # Create Furniture\n",
        "    sofa = Furniture(name=\"Sofa\", style=\"Modern\")\n",
        "    dining_table = Furniture(name=\"Dining Table\", style=\"Classic\")\n",
        "\n",
        "    # Create Appliances\n",
        "    refrigerator = Appliance(name=\"Refrigerator\", brand=\"Samsung\")\n",
        "    oven = Appliance(name=\"Oven\", brand=\"KitchenAid\")\n",
        "\n",
        "    # Create Rooms\n",
        "    living_room = Room(name=\"Living Room\", area=300, furniture=[sofa])\n",
        "    kitchen = Room(name=\"Kitchen\", area=200, furniture=[dining_table], appliances=[refrigerator, oven])\n",
        "\n",
        "    # Create House\n",
        "    my_house = House(name=\"My Dream House\", rooms=[living_room, kitchen])\n",
        "\n",
        "    # Display House Information\n",
        "    print(my_house)\n"
      ]
    },
    {
      "cell_type": "markdown",
      "id": "10cfc32f",
      "metadata": {
        "id": "10cfc32f"
      },
      "source": [
        "### 19. How can you achieve flexibility in composed objects by allowing them to be replaced or modified dynamically at runtime?"
      ]
    },
    {
      "cell_type": "raw",
      "id": "774180dc",
      "metadata": {
        "id": "774180dc"
      },
      "source": [
        "Achieving\n",
        "\n",
        "flexibility in composed objects by allowing them to be replaced or modified dynamically at runtime involves leveraging polymorphism, interfaces, and design patterns. Here are some techniques to achieve this flexibility:\n",
        "\n",
        "Polymorphism and Interfaces:\n",
        "\n",
        "Define interfaces or base classes for the components that may be composed. This allows different implementations to be used interchangeably.\n",
        "Objects that adhere to the same interface can be replaced dynamically without affecting the overall system.\n",
        "Python is dynamically typed, so you don't explicitly define interfaces; instead, objects are polymorphic if they respond to the same set of methods.\n",
        "\n",
        "Dependency Injection:\n",
        "\n",
        "Use dependency injection to inject dependencies (composed objects) into the client class rather than creating them within the class.\n",
        "This allows you to replace or modify the composed objects at runtime by injecting different implementations.\n",
        "\n",
        "Strategy Pattern:\n",
        "\n",
        "Implement the strategy pattern, where algorithms or behaviors are encapsulated in separate classes, and the client class can switch between them dynamically.\n",
        "This pattern allows you to change the behavior of a class without altering its code.\n",
        "\n",
        "Factory Pattern:\n",
        "\n",
        "Use the factory pattern to create objects dynamically based on certain conditions.\n",
        "This allows you to replace or modify the created objects at runtime by using different factories.\n",
        "\n",
        "By adopting these strategies, you can achieve flexibility in composed objects, allowing them to be replaced or modified dynamically at runtime. This enhances the adaptability and maintainability of your code.\n",
        "\n",
        "\n"
      ]
    },
    {
      "cell_type": "markdown",
      "id": "aca3155d",
      "metadata": {
        "id": "aca3155d"
      },
      "source": [
        "### 20. Create a Python class for a social media application, using composition to represent users, posts, and comments."
      ]
    },
    {
      "cell_type": "code",
      "execution_count": null,
      "id": "872578e4",
      "metadata": {
        "id": "872578e4",
        "outputId": "7ddb4a4f-3577-4f76-cdd9-a620d63c03b9"
      },
      "outputs": [
        {
          "name": "stdout",
          "output_type": "stream",
          "text": [
            "User Info:\n",
            "User ID: 123, User Name: Prasad\n",
            "\n",
            "Post:\n",
            "Post Content: Caption no need.\n",
            "\n",
            "Comment:\n",
            "Comment: Nice bro\n"
          ]
        }
      ],
      "source": [
        "class User:\n",
        "    def __init__(self, user_id, user_name):\n",
        "        self.user_id = user_id\n",
        "        self.user_name = user_name\n",
        "\n",
        "    def __str__(self):\n",
        "        return f\"User ID: {self.user_id}, User Name: {self.user_name}\"\n",
        "\n",
        "class Post:\n",
        "    def __init__(self, content):\n",
        "        self.content = content\n",
        "\n",
        "    def __str__(self):\n",
        "        return f\"Post Content: {self.content}\"\n",
        "\n",
        "class Comment:\n",
        "    def __init__(self, text):\n",
        "        self.text = text\n",
        "\n",
        "    def __str__(self):\n",
        "        return f\"Comment: {self.text}\"\n",
        "\n",
        "class Application:\n",
        "    def __init__(self, user, post, comment):\n",
        "        self.user = user\n",
        "        self.post = post\n",
        "        self.comment = comment\n",
        "\n",
        "    def display_info(self):\n",
        "        print(\"User Info:\")\n",
        "        print(self.user)\n",
        "        print(\"\\nPost:\")\n",
        "        print(self.post)\n",
        "        print(\"\\nComment:\")\n",
        "        print(self.comment)\n",
        "\n",
        "prasad = User(user_id=123, user_name=\"Prasad\")\n",
        "mohit = User(user_id=234, user_name=\"Mohit\")\n",
        "\n",
        "post1 = Post(content=\"Caption no need.\")\n",
        "post2 = Post(content=\"Friends are needed in life.\")\n",
        "\n",
        "comment = Comment(text=\"Nice bro\")\n",
        "\n",
        "app = Application(user=prasad, post=post1, comment=comment)\n",
        "\n",
        "app.display_info()\n"
      ]
    },
    {
      "cell_type": "code",
      "execution_count": null,
      "id": "91dd7d07",
      "metadata": {
        "id": "91dd7d07"
      },
      "outputs": [],
      "source": []
    },
    {
      "cell_type": "code",
      "execution_count": null,
      "id": "0b956c68",
      "metadata": {
        "id": "0b956c68"
      },
      "outputs": [],
      "source": []
    },
    {
      "cell_type": "code",
      "execution_count": null,
      "id": "2d657f24",
      "metadata": {
        "id": "2d657f24"
      },
      "outputs": [],
      "source": []
    }
  ],
  "metadata": {
    "kernelspec": {
      "display_name": "Python 3 (ipykernel)",
      "language": "python",
      "name": "python3"
    },
    "language_info": {
      "codemirror_mode": {
        "name": "ipython",
        "version": 3
      },
      "file_extension": ".py",
      "mimetype": "text/x-python",
      "name": "python",
      "nbconvert_exporter": "python",
      "pygments_lexer": "ipython3",
      "version": "3.11.5"
    },
    "colab": {
      "provenance": [],
      "include_colab_link": true
    }
  },
  "nbformat": 4,
  "nbformat_minor": 5
}