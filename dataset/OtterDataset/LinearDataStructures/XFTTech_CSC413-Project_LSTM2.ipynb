{
  "nbformat": 4,
  "nbformat_minor": 0,
  "metadata": {
    "colab": {
      "provenance": []
    },
    "kernelspec": {
      "name": "python3",
      "display_name": "Python 3"
    },
    "language_info": {
      "name": "python"
    }
  },
  "cells": [
    {
      "cell_type": "code",
      "source": [
        "!pip install keras-preprocessing"
      ],
      "metadata": {
        "colab": {
          "base_uri": "https://localhost:8080/"
        },
        "id": "GX-2Zb5HgdFf",
        "outputId": "634b11db-bd2b-4644-ceaf-9c664433460f"
      },
      "execution_count": 1,
      "outputs": [
        {
          "output_type": "stream",
          "name": "stdout",
          "text": [
            "Looking in indexes: https://pypi.org/simple, https://us-python.pkg.dev/colab-wheels/public/simple/\n",
            "Collecting keras-preprocessing\n",
            "  Downloading Keras_Preprocessing-1.1.2-py2.py3-none-any.whl (42 kB)\n",
            "\u001b[2K     \u001b[90m━━━━━━━━━━━━━━━━━━━━━━━━━━━━━━━━━━━━━━━━\u001b[0m \u001b[32m42.6/42.6 kB\u001b[0m \u001b[31m2.4 MB/s\u001b[0m eta \u001b[36m0:00:00\u001b[0m\n",
            "\u001b[?25hRequirement already satisfied: six>=1.9.0 in /usr/local/lib/python3.9/dist-packages (from keras-preprocessing) (1.16.0)\n",
            "Requirement already satisfied: numpy>=1.9.1 in /usr/local/lib/python3.9/dist-packages (from keras-preprocessing) (1.22.4)\n",
            "Installing collected packages: keras-preprocessing\n",
            "Successfully installed keras-preprocessing-1.1.2\n"
          ]
        }
      ]
    },
    {
      "cell_type": "code",
      "execution_count": 66,
      "metadata": {
        "id": "yncTrZROgG3p"
      },
      "outputs": [],
      "source": [
        "import numpy as np # linear algebra\n",
        "import pandas as pd # data processing, CSV file I/O (e.g. pd.read_csv)\n",
        "from keras import backend as K\n",
        "from keras.layers import Dense, Embedding, LSTM, SpatialDropout1D, Input\n",
        "from keras.models import Sequential, Model\n",
        "from sklearn.feature_extraction.text import CountVectorizer\n",
        "from keras.preprocessing.text import Tokenizer\n",
        "from keras_preprocessing.sequence import pad_sequences\n",
        "from sklearn.model_selection import train_test_split\n",
        "from keras.utils.np_utils import to_categorical\n",
        "from keras.callbacks import EarlyStopping\n",
        "from sklearn import metrics"
      ]
    },
    {
      "cell_type": "code",
      "source": [
        "df = pd.read_csv('drive/MyDrive/CSC413_data/leetcode.csv')\n",
        "\n",
        "df.head()"
      ],
      "metadata": {
        "colab": {
          "base_uri": "https://localhost:8080/",
          "height": 384
        },
        "id": "h6QIpSCtgh-1",
        "outputId": "158e1708-56ce-41d5-cdf3-0d995772fbc4"
      },
      "execution_count": 121,
      "outputs": [
        {
          "output_type": "execute_result",
          "data": {
            "text/plain": [
              "                                         description  Array  \\\n",
              "0  Given an array of integers `nums` and an integ...      1   \n",
              "1  You are given two non-empty linked lists repre...      0   \n",
              "2  Given a string `s`, find the length of the lon...      0   \n",
              "3  Given two sorted arrays `nums1` and `nums2` of...      1   \n",
              "4  Given a string `s`, return the longest palindr...      0   \n",
              "\n",
              "   Dynamic Programming  String  Math  Tree  Depth-first Search  Greedy  \\\n",
              "0                    0       0     0     0                   0       0   \n",
              "1                    0       0     1     0                   0       0   \n",
              "2                    0       1     0     0                   0       0   \n",
              "3                    0       0     0     0                   0       0   \n",
              "4                    1       1     0     0                   0       0   \n",
              "\n",
              "   Hash Table  Binary Search  ...  Random  Dequeue  Binary Search Tree  \\\n",
              "0           1              0  ...       0        0                   0   \n",
              "1           0              0  ...       0        0                   0   \n",
              "2           1              0  ...       0        0                   0   \n",
              "3           0              1  ...       0        0                   0   \n",
              "4           0              0  ...       0        0                   0   \n",
              "\n",
              "   Suffix Array  Rolling Hash  Reservoir Sampling  Rejection Sampling  \\\n",
              "0             0             0                   0                   0   \n",
              "1             0             0                   0                   0   \n",
              "2             0             0                   0                   0   \n",
              "3             0             0                   0                   0   \n",
              "4             0             0                   0                   0   \n",
              "\n",
              "   Memoization  OOP  Meet in the Middle  \n",
              "0            0    0                   0  \n",
              "1            0    0                   0  \n",
              "2            0    0                   0  \n",
              "3            0    0                   0  \n",
              "4            0    0                   0  \n",
              "\n",
              "[5 rows x 44 columns]"
            ],
            "text/html": [
              "\n",
              "  <div id=\"df-97f3fc61-8949-433e-a62e-1259f5a5fbbd\">\n",
              "    <div class=\"colab-df-container\">\n",
              "      <div>\n",
              "<style scoped>\n",
              "    .dataframe tbody tr th:only-of-type {\n",
              "        vertical-align: middle;\n",
              "    }\n",
              "\n",
              "    .dataframe tbody tr th {\n",
              "        vertical-align: top;\n",
              "    }\n",
              "\n",
              "    .dataframe thead th {\n",
              "        text-align: right;\n",
              "    }\n",
              "</style>\n",
              "<table border=\"1\" class=\"dataframe\">\n",
              "  <thead>\n",
              "    <tr style=\"text-align: right;\">\n",
              "      <th></th>\n",
              "      <th>description</th>\n",
              "      <th>Array</th>\n",
              "      <th>Dynamic Programming</th>\n",
              "      <th>String</th>\n",
              "      <th>Math</th>\n",
              "      <th>Tree</th>\n",
              "      <th>Depth-first Search</th>\n",
              "      <th>Greedy</th>\n",
              "      <th>Hash Table</th>\n",
              "      <th>Binary Search</th>\n",
              "      <th>...</th>\n",
              "      <th>Random</th>\n",
              "      <th>Dequeue</th>\n",
              "      <th>Binary Search Tree</th>\n",
              "      <th>Suffix Array</th>\n",
              "      <th>Rolling Hash</th>\n",
              "      <th>Reservoir Sampling</th>\n",
              "      <th>Rejection Sampling</th>\n",
              "      <th>Memoization</th>\n",
              "      <th>OOP</th>\n",
              "      <th>Meet in the Middle</th>\n",
              "    </tr>\n",
              "  </thead>\n",
              "  <tbody>\n",
              "    <tr>\n",
              "      <th>0</th>\n",
              "      <td>Given an array of integers `nums` and an integ...</td>\n",
              "      <td>1</td>\n",
              "      <td>0</td>\n",
              "      <td>0</td>\n",
              "      <td>0</td>\n",
              "      <td>0</td>\n",
              "      <td>0</td>\n",
              "      <td>0</td>\n",
              "      <td>1</td>\n",
              "      <td>0</td>\n",
              "      <td>...</td>\n",
              "      <td>0</td>\n",
              "      <td>0</td>\n",
              "      <td>0</td>\n",
              "      <td>0</td>\n",
              "      <td>0</td>\n",
              "      <td>0</td>\n",
              "      <td>0</td>\n",
              "      <td>0</td>\n",
              "      <td>0</td>\n",
              "      <td>0</td>\n",
              "    </tr>\n",
              "    <tr>\n",
              "      <th>1</th>\n",
              "      <td>You are given two non-empty linked lists repre...</td>\n",
              "      <td>0</td>\n",
              "      <td>0</td>\n",
              "      <td>0</td>\n",
              "      <td>1</td>\n",
              "      <td>0</td>\n",
              "      <td>0</td>\n",
              "      <td>0</td>\n",
              "      <td>0</td>\n",
              "      <td>0</td>\n",
              "      <td>...</td>\n",
              "      <td>0</td>\n",
              "      <td>0</td>\n",
              "      <td>0</td>\n",
              "      <td>0</td>\n",
              "      <td>0</td>\n",
              "      <td>0</td>\n",
              "      <td>0</td>\n",
              "      <td>0</td>\n",
              "      <td>0</td>\n",
              "      <td>0</td>\n",
              "    </tr>\n",
              "    <tr>\n",
              "      <th>2</th>\n",
              "      <td>Given a string `s`, find the length of the lon...</td>\n",
              "      <td>0</td>\n",
              "      <td>0</td>\n",
              "      <td>1</td>\n",
              "      <td>0</td>\n",
              "      <td>0</td>\n",
              "      <td>0</td>\n",
              "      <td>0</td>\n",
              "      <td>1</td>\n",
              "      <td>0</td>\n",
              "      <td>...</td>\n",
              "      <td>0</td>\n",
              "      <td>0</td>\n",
              "      <td>0</td>\n",
              "      <td>0</td>\n",
              "      <td>0</td>\n",
              "      <td>0</td>\n",
              "      <td>0</td>\n",
              "      <td>0</td>\n",
              "      <td>0</td>\n",
              "      <td>0</td>\n",
              "    </tr>\n",
              "    <tr>\n",
              "      <th>3</th>\n",
              "      <td>Given two sorted arrays `nums1` and `nums2` of...</td>\n",
              "      <td>1</td>\n",
              "      <td>0</td>\n",
              "      <td>0</td>\n",
              "      <td>0</td>\n",
              "      <td>0</td>\n",
              "      <td>0</td>\n",
              "      <td>0</td>\n",
              "      <td>0</td>\n",
              "      <td>1</td>\n",
              "      <td>...</td>\n",
              "      <td>0</td>\n",
              "      <td>0</td>\n",
              "      <td>0</td>\n",
              "      <td>0</td>\n",
              "      <td>0</td>\n",
              "      <td>0</td>\n",
              "      <td>0</td>\n",
              "      <td>0</td>\n",
              "      <td>0</td>\n",
              "      <td>0</td>\n",
              "    </tr>\n",
              "    <tr>\n",
              "      <th>4</th>\n",
              "      <td>Given a string `s`, return the longest palindr...</td>\n",
              "      <td>0</td>\n",
              "      <td>1</td>\n",
              "      <td>1</td>\n",
              "      <td>0</td>\n",
              "      <td>0</td>\n",
              "      <td>0</td>\n",
              "      <td>0</td>\n",
              "      <td>0</td>\n",
              "      <td>0</td>\n",
              "      <td>...</td>\n",
              "      <td>0</td>\n",
              "      <td>0</td>\n",
              "      <td>0</td>\n",
              "      <td>0</td>\n",
              "      <td>0</td>\n",
              "      <td>0</td>\n",
              "      <td>0</td>\n",
              "      <td>0</td>\n",
              "      <td>0</td>\n",
              "      <td>0</td>\n",
              "    </tr>\n",
              "  </tbody>\n",
              "</table>\n",
              "<p>5 rows × 44 columns</p>\n",
              "</div>\n",
              "      <button class=\"colab-df-convert\" onclick=\"convertToInteractive('df-97f3fc61-8949-433e-a62e-1259f5a5fbbd')\"\n",
              "              title=\"Convert this dataframe to an interactive table.\"\n",
              "              style=\"display:none;\">\n",
              "        \n",
              "  <svg xmlns=\"http://www.w3.org/2000/svg\" height=\"24px\"viewBox=\"0 0 24 24\"\n",
              "       width=\"24px\">\n",
              "    <path d=\"M0 0h24v24H0V0z\" fill=\"none\"/>\n",
              "    <path d=\"M18.56 5.44l.94 2.06.94-2.06 2.06-.94-2.06-.94-.94-2.06-.94 2.06-2.06.94zm-11 1L8.5 8.5l.94-2.06 2.06-.94-2.06-.94L8.5 2.5l-.94 2.06-2.06.94zm10 10l.94 2.06.94-2.06 2.06-.94-2.06-.94-.94-2.06-.94 2.06-2.06.94z\"/><path d=\"M17.41 7.96l-1.37-1.37c-.4-.4-.92-.59-1.43-.59-.52 0-1.04.2-1.43.59L10.3 9.45l-7.72 7.72c-.78.78-.78 2.05 0 2.83L4 21.41c.39.39.9.59 1.41.59.51 0 1.02-.2 1.41-.59l7.78-7.78 2.81-2.81c.8-.78.8-2.07 0-2.86zM5.41 20L4 18.59l7.72-7.72 1.47 1.35L5.41 20z\"/>\n",
              "  </svg>\n",
              "      </button>\n",
              "      \n",
              "  <style>\n",
              "    .colab-df-container {\n",
              "      display:flex;\n",
              "      flex-wrap:wrap;\n",
              "      gap: 12px;\n",
              "    }\n",
              "\n",
              "    .colab-df-convert {\n",
              "      background-color: #E8F0FE;\n",
              "      border: none;\n",
              "      border-radius: 50%;\n",
              "      cursor: pointer;\n",
              "      display: none;\n",
              "      fill: #1967D2;\n",
              "      height: 32px;\n",
              "      padding: 0 0 0 0;\n",
              "      width: 32px;\n",
              "    }\n",
              "\n",
              "    .colab-df-convert:hover {\n",
              "      background-color: #E2EBFA;\n",
              "      box-shadow: 0px 1px 2px rgba(60, 64, 67, 0.3), 0px 1px 3px 1px rgba(60, 64, 67, 0.15);\n",
              "      fill: #174EA6;\n",
              "    }\n",
              "\n",
              "    [theme=dark] .colab-df-convert {\n",
              "      background-color: #3B4455;\n",
              "      fill: #D2E3FC;\n",
              "    }\n",
              "\n",
              "    [theme=dark] .colab-df-convert:hover {\n",
              "      background-color: #434B5C;\n",
              "      box-shadow: 0px 1px 3px 1px rgba(0, 0, 0, 0.15);\n",
              "      filter: drop-shadow(0px 1px 2px rgba(0, 0, 0, 0.3));\n",
              "      fill: #FFFFFF;\n",
              "    }\n",
              "  </style>\n",
              "\n",
              "      <script>\n",
              "        const buttonEl =\n",
              "          document.querySelector('#df-97f3fc61-8949-433e-a62e-1259f5a5fbbd button.colab-df-convert');\n",
              "        buttonEl.style.display =\n",
              "          google.colab.kernel.accessAllowed ? 'block' : 'none';\n",
              "\n",
              "        async function convertToInteractive(key) {\n",
              "          const element = document.querySelector('#df-97f3fc61-8949-433e-a62e-1259f5a5fbbd');\n",
              "          const dataTable =\n",
              "            await google.colab.kernel.invokeFunction('convertToInteractive',\n",
              "                                                     [key], {});\n",
              "          if (!dataTable) return;\n",
              "\n",
              "          const docLinkHtml = 'Like what you see? Visit the ' +\n",
              "            '<a target=\"_blank\" href=https://colab.research.google.com/notebooks/data_table.ipynb>data table notebook</a>'\n",
              "            + ' to learn more about interactive tables.';\n",
              "          element.innerHTML = '';\n",
              "          dataTable['output_type'] = 'display_data';\n",
              "          await google.colab.output.renderOutput(dataTable, element);\n",
              "          const docLink = document.createElement('div');\n",
              "          docLink.innerHTML = docLinkHtml;\n",
              "          element.appendChild(docLink);\n",
              "        }\n",
              "      </script>\n",
              "    </div>\n",
              "  </div>\n",
              "  "
            ]
          },
          "metadata": {},
          "execution_count": 121
        }
      ]
    },
    {
      "cell_type": "code",
      "source": [
        "inputs = df['description'].values\n",
        "inputs = [i.lower() for i in inputs]\n",
        "labels = df.iloc[:, 1:].values\n",
        "\n",
        "print(inputs[0])\n",
        "print(labels[0])"
      ],
      "metadata": {
        "colab": {
          "base_uri": "https://localhost:8080/"
        },
        "id": "CF7rcV4GhDQI",
        "outputId": "82a51638-57f9-482f-e57a-54758ffafce5"
      },
      "execution_count": 4,
      "outputs": [
        {
          "output_type": "stream",
          "name": "stdout",
          "text": [
            "given an array of integers `nums` and an integer `target`, return indices of the two numbers such that they add up to `target`.\n",
            "\n",
            "you may assume that each input would have exactly one solution, and you may not use the same element twice.\n",
            "\n",
            "you can return the answer in any order.\n",
            "\n",
            "\n",
            "example 1:\n",
            "input: nums = [2,7,11,15], target = 9\n",
            "output: [0,1]\n",
            "output: because nums[0] + nums[1] == 9, we return [0, 1].\n",
            "\n",
            "example 2:\n",
            "input: nums = [3,2,4], target = 6\n",
            "output: [1,2]\n",
            "\n",
            "example 3:\n",
            "input: nums = [3,3], target = 6\n",
            "output: [0,1]\n",
            "\n",
            "constraints:\n",
            "`2 <= nums.length <= 103`\n",
            "`-109 <= nums[i] <= 109`\n",
            "`-109 <= target <= 109`\n",
            "only one valid answer exists.\n",
            "[1 0 0 0 0 0 0 1 0 0 0 0 0 0 0 0 0 0 0 0 0 0 0 0 0 0 0 0 0 0 0 0 0 0 0 0 0\n",
            " 0 0 0 0 0 0]\n"
          ]
        }
      ]
    },
    {
      "cell_type": "code",
      "source": [
        "target_cols = df.iloc[:, 1:].columns.tolist()\n",
        "print(target_cols)"
      ],
      "metadata": {
        "colab": {
          "base_uri": "https://localhost:8080/"
        },
        "id": "g2wgZ6sB2d6T",
        "outputId": "c39b2206-f0d6-431f-cdf9-8d9e65de7c12"
      },
      "execution_count": 5,
      "outputs": [
        {
          "output_type": "stream",
          "name": "stdout",
          "text": [
            "['Array', 'Dynamic Programming', 'String', 'Math', 'Tree', 'Depth-first Search', 'Greedy', 'Hash Table', 'Binary Search', 'Breadth-first Search', 'Sort', 'Two Pointers', 'Backtracking', 'Stack', 'Design', 'Graph', 'Bit Manipulation', 'Heap', 'Linked List', 'Recursion', 'Union Find', 'Sliding Window', 'Trie', 'Divide and Conquer', 'Segment Tree', 'Ordered Map', 'Queue', 'Minimax', 'Geometry', 'Binary Indexed Tree', 'Brainteaser', 'Topological Sort', 'Line Sweep', 'Random', 'Dequeue', 'Binary Search Tree', 'Suffix Array', 'Rolling Hash', 'Reservoir Sampling', 'Rejection Sampling', 'Memoization', 'OOP', 'Meet in the Middle']\n"
          ]
        }
      ]
    },
    {
      "cell_type": "code",
      "source": [
        "# Tokenize the data\n",
        "tokenizer = Tokenizer()\n",
        "tokenizer.fit_on_texts(inputs)\n",
        "sequences = tokenizer.texts_to_sequences(inputs)"
      ],
      "metadata": {
        "id": "e389DeX5vrqT"
      },
      "execution_count": 6,
      "outputs": []
    },
    {
      "cell_type": "code",
      "source": [
        "print(sequences[1])\n",
        "print(inputs[1])"
      ],
      "metadata": {
        "colab": {
          "base_uri": "https://localhost:8080/"
        },
        "id": "Yl4uOzlhv91c",
        "outputId": "9839479e-0725-432b-954e-39638aa7a2be"
      },
      "execution_count": 7,
      "outputs": [
        {
          "output_type": "stream",
          "name": "stdout",
          "text": [
            "[22, 20, 25, 58, 133, 114, 234, 531, 266, 58, 133, 328, 89, 1, 159, 20, 1700, 14, 648, 80, 9, 46, 6, 205, 81, 160, 7, 301, 289, 203, 1, 58, 141, 9, 23, 1, 91, 57, 7, 234, 78, 22, 115, 307, 1, 58, 141, 225, 61, 230, 69, 373, 312, 580, 1, 34, 4, 452, 10, 2, 11, 1946, 3, 13, 5, 2085, 16, 26, 13, 12, 27, 4, 51, 21, 5118, 5119, 5120, 10, 3, 11, 1946, 4, 2085, 4, 12, 4, 10, 5, 11, 1946, 45, 45, 45, 45, 45, 45, 45, 2085, 45, 45, 45, 45, 12, 51, 45, 45, 45, 4, 4, 4, 2, 37, 1, 34, 6, 81, 14, 46, 234, 78, 8, 14, 1, 105, 2, 73, 4, 56, 124, 45, 41, 8, 184, 24, 1, 78, 173, 7, 34, 24, 213, 61, 66, 373, 620]\n",
            "you are given two non-empty linked lists representing two non-negative integers. the digits are stored in reverse order, and each of their nodes contains a single digit. add the two numbers and return the sum as a linked list.\n",
            "\n",
            "you may assume the two numbers do not contain any leading zero, except the number 0 itself.\n",
            "\n",
            "\n",
            "example 1:\n",
            "input: l1 = [2,4,3], l2 = [5,6,4]\n",
            "output: [7,0,8]\n",
            "explanation: 342 + 465 = 807.\n",
            "\n",
            "\n",
            "example 2:\n",
            "input: l1 = [0], l2 = [0]\n",
            "output: [0]\n",
            "\n",
            "example 3:\n",
            "input: l1 = [9,9,9,9,9,9,9], l2 = [9,9,9,9]\n",
            "output: [8,9,9,9,0,0,0,1]\n",
            "\n",
            "constraints:\n",
            "the number of nodes in each linked list is in the range `[1, 100]`.\n",
            "\n",
            "`0 <= node.val <= 9`\n",
            "it is guaranteed that the list represents a number that does not have leading zeros.\n"
          ]
        }
      ]
    },
    {
      "cell_type": "code",
      "source": [
        "max_len = max([len(s) for s in sequences])\n",
        "padded_sequences = pad_sequences(sequences, maxlen=max_len)"
      ],
      "metadata": {
        "id": "2fthj8FSxMlp"
      },
      "execution_count": 8,
      "outputs": []
    },
    {
      "cell_type": "code",
      "source": [
        "from tensorflow.python.ops.numpy_ops import np_config\n",
        "np_config.enable_numpy_behavior()\n",
        "\n",
        "def my_accuracy(y_true, y_pred):\n",
        "    # turn y_pred to 0 or 1 with threshold 0.5\n",
        "    y_true = y_true.numpy()\n",
        "    y_pred = y_pred.numpy()\n",
        "    y_pred = np.where(y_pred > 0.5, 1, 0)\n",
        "    return metrics.accuracy_score(y_true, y_pred)"
      ],
      "metadata": {
        "id": "yp_JG_GJOSdN"
      },
      "execution_count": 86,
      "outputs": []
    },
    {
      "cell_type": "code",
      "source": [
        "input_layer = Input(shape=(max_len,))\n",
        "embedding_layer = Embedding(input_dim=len(tokenizer.word_index) + 1, output_dim=128)(input_layer)\n",
        "lstm_layer = LSTM(128)(embedding_layer)\n",
        "output_layer = Dense(43, activation='sigmoid')(lstm_layer)\n",
        "model = Model(inputs=input_layer, outputs=output_layer)\n",
        "\n",
        "model.compile(loss='binary_crossentropy', optimizer='adam', metrics=[my_accuracy], run_eagerly=True)"
      ],
      "metadata": {
        "id": "dIBcwKPYxjTE"
      },
      "execution_count": 88,
      "outputs": []
    },
    {
      "cell_type": "code",
      "source": [
        "# split some for test \n",
        "X_train, X_test, y_train, y_test = train_test_split(padded_sequences, labels, test_size=0.1, random_state=42)"
      ],
      "metadata": {
        "id": "UxEEsU2HyGZy"
      },
      "execution_count": 72,
      "outputs": []
    },
    {
      "cell_type": "code",
      "source": [
        "history = model.fit(X_train, y_train, epochs=30, batch_size=32, validation_split=0.2)"
      ],
      "metadata": {
        "id": "WhdnbjUW--hg",
        "colab": {
          "base_uri": "https://localhost:8080/"
        },
        "outputId": "ccac94b7-f718-4299-f3d8-f12dcc561ca2"
      },
      "execution_count": 101,
      "outputs": [
        {
          "output_type": "stream",
          "name": "stdout",
          "text": [
            "Epoch 1/30\n",
            "36/36 [==============================] - 337s 9s/step - loss: 0.0825 - my_accuracy: 0.2250 - val_loss: 0.1359 - val_my_accuracy: 0.0837\n",
            "Epoch 2/30\n",
            "36/36 [==============================] - 337s 9s/step - loss: 0.0818 - my_accuracy: 0.2420 - val_loss: 0.1407 - val_my_accuracy: 0.0714\n",
            "Epoch 3/30\n",
            "36/36 [==============================] - 291s 8s/step - loss: 0.0814 - my_accuracy: 0.2285 - val_loss: 0.1408 - val_my_accuracy: 0.0610\n",
            "Epoch 4/30\n",
            "36/36 [==============================] - 291s 8s/step - loss: 0.0791 - my_accuracy: 0.2477 - val_loss: 0.1376 - val_my_accuracy: 0.1039\n",
            "Epoch 5/30\n",
            "36/36 [==============================] - 283s 8s/step - loss: 0.0771 - my_accuracy: 0.2660 - val_loss: 0.1388 - val_my_accuracy: 0.0802\n",
            "Epoch 6/30\n",
            "36/36 [==============================] - 262s 7s/step - loss: 0.0756 - my_accuracy: 0.2872 - val_loss: 0.1392 - val_my_accuracy: 0.0900\n",
            "Epoch 7/30\n",
            "36/36 [==============================] - 264s 7s/step - loss: 0.0743 - my_accuracy: 0.2972 - val_loss: 0.1403 - val_my_accuracy: 0.1046\n",
            "Epoch 8/30\n",
            "36/36 [==============================] - 276s 8s/step - loss: 0.0732 - my_accuracy: 0.3035 - val_loss: 0.1421 - val_my_accuracy: 0.0831\n",
            "Epoch 9/30\n",
            "36/36 [==============================] - 278s 8s/step - loss: 0.0719 - my_accuracy: 0.3200 - val_loss: 0.1435 - val_my_accuracy: 0.0872\n",
            "Epoch 10/30\n",
            "36/36 [==============================] - 264s 7s/step - loss: 0.0704 - my_accuracy: 0.3349 - val_loss: 0.1431 - val_my_accuracy: 0.1004\n",
            "Epoch 11/30\n",
            "36/36 [==============================] - 284s 8s/step - loss: 0.0693 - my_accuracy: 0.3533 - val_loss: 0.1453 - val_my_accuracy: 0.1039\n",
            "Epoch 12/30\n",
            "36/36 [==============================] - 292s 8s/step - loss: 0.0678 - my_accuracy: 0.3493 - val_loss: 0.1461 - val_my_accuracy: 0.0970\n",
            "Epoch 13/30\n",
            "36/36 [==============================] - 297s 8s/step - loss: 0.0668 - my_accuracy: 0.3663 - val_loss: 0.1490 - val_my_accuracy: 0.1011\n",
            "Epoch 14/30\n",
            "36/36 [==============================] - 274s 8s/step - loss: 0.0655 - my_accuracy: 0.3748 - val_loss: 0.1475 - val_my_accuracy: 0.0970\n",
            "Epoch 15/30\n",
            "36/36 [==============================] - 271s 7s/step - loss: 0.0644 - my_accuracy: 0.3939 - val_loss: 0.1482 - val_my_accuracy: 0.1143\n",
            "Epoch 16/30\n",
            "36/36 [==============================] - 275s 8s/step - loss: 0.0635 - my_accuracy: 0.3939 - val_loss: 0.1498 - val_my_accuracy: 0.1121\n",
            "Epoch 17/30\n",
            "36/36 [==============================] - 274s 8s/step - loss: 0.0624 - my_accuracy: 0.4062 - val_loss: 0.1499 - val_my_accuracy: 0.1121\n",
            "Epoch 18/30\n",
            "36/36 [==============================] - 280s 8s/step - loss: 0.0620 - my_accuracy: 0.4212 - val_loss: 0.1521 - val_my_accuracy: 0.1191\n",
            "Epoch 19/30\n",
            "36/36 [==============================] - 283s 8s/step - loss: 0.0607 - my_accuracy: 0.4057 - val_loss: 0.1543 - val_my_accuracy: 0.1184\n",
            "Epoch 20/30\n",
            "36/36 [==============================] - 278s 8s/step - loss: 0.0600 - my_accuracy: 0.4274 - val_loss: 0.1523 - val_my_accuracy: 0.1184\n",
            "Epoch 21/30\n",
            "36/36 [==============================] - 289s 8s/step - loss: 0.0592 - my_accuracy: 0.4359 - val_loss: 0.1528 - val_my_accuracy: 0.1232\n",
            "Epoch 22/30\n",
            "36/36 [==============================] - 325s 9s/step - loss: 0.0581 - my_accuracy: 0.4392 - val_loss: 0.1555 - val_my_accuracy: 0.1184\n",
            "Epoch 23/30\n",
            "36/36 [==============================] - 323s 9s/step - loss: 0.0584 - my_accuracy: 0.4323 - val_loss: 0.1570 - val_my_accuracy: 0.1191\n",
            "Epoch 24/30\n",
            "36/36 [==============================] - 323s 9s/step - loss: 0.0573 - my_accuracy: 0.4488 - val_loss: 0.1572 - val_my_accuracy: 0.1295\n",
            "Epoch 25/30\n",
            "36/36 [==============================] - 326s 9s/step - loss: 0.0556 - my_accuracy: 0.4585 - val_loss: 0.1575 - val_my_accuracy: 0.1301\n",
            "Epoch 26/30\n",
            "36/36 [==============================] - 315s 9s/step - loss: 0.0545 - my_accuracy: 0.4714 - val_loss: 0.1582 - val_my_accuracy: 0.1226\n",
            "Epoch 27/30\n",
            "36/36 [==============================] - 316s 9s/step - loss: 0.0531 - my_accuracy: 0.4781 - val_loss: 0.1613 - val_my_accuracy: 0.1191\n",
            "Epoch 28/30\n",
            "36/36 [==============================] - 316s 9s/step - loss: 0.0523 - my_accuracy: 0.4970 - val_loss: 0.1617 - val_my_accuracy: 0.1336\n",
            "Epoch 29/30\n",
            "36/36 [==============================] - 286s 8s/step - loss: 0.0517 - my_accuracy: 0.4958 - val_loss: 0.1620 - val_my_accuracy: 0.1128\n",
            "Epoch 30/30\n",
            "36/36 [==============================] - 275s 8s/step - loss: 0.0511 - my_accuracy: 0.4972 - val_loss: 0.1629 - val_my_accuracy: 0.1156\n"
          ]
        }
      ]
    },
    {
      "cell_type": "code",
      "source": [
        "history.history"
      ],
      "metadata": {
        "colab": {
          "base_uri": "https://localhost:8080/"
        },
        "id": "MUteKqBA-zWl",
        "outputId": "35e08634-182f-4e6f-c01a-42cbd2a739a3"
      },
      "execution_count": 102,
      "outputs": [
        {
          "output_type": "execute_result",
          "data": {
            "text/plain": [
              "{'loss': [0.08249825239181519,\n",
              "  0.08180364221334457,\n",
              "  0.08135230839252472,\n",
              "  0.07914748787879944,\n",
              "  0.07712643593549728,\n",
              "  0.07560274004936218,\n",
              "  0.07427468150854111,\n",
              "  0.07319221645593643,\n",
              "  0.07188176363706589,\n",
              "  0.07037080079317093,\n",
              "  0.06927025318145752,\n",
              "  0.06779814511537552,\n",
              "  0.06677069514989853,\n",
              "  0.06549151986837387,\n",
              "  0.06438739597797394,\n",
              "  0.06354323029518127,\n",
              "  0.06243516877293587,\n",
              "  0.062008753418922424,\n",
              "  0.06070650368928909,\n",
              "  0.05996417999267578,\n",
              "  0.05916435271501541,\n",
              "  0.05806722119450569,\n",
              "  0.058428313583135605,\n",
              "  0.05728379637002945,\n",
              "  0.05556416139006615,\n",
              "  0.05448213592171669,\n",
              "  0.05314476042985916,\n",
              "  0.05231519043445587,\n",
              "  0.051706116646528244,\n",
              "  0.05111909657716751],\n",
              " 'my_accuracy': [0.22500000894069672,\n",
              "  0.2420138716697693,\n",
              "  0.22847223281860352,\n",
              "  0.24774305522441864,\n",
              "  0.26597222685813904,\n",
              "  0.2871527671813965,\n",
              "  0.29722222685813904,\n",
              "  0.30347222089767456,\n",
              "  0.31996527314186096,\n",
              "  0.3348958194255829,\n",
              "  0.3532986044883728,\n",
              "  0.34930554032325745,\n",
              "  0.3663194477558136,\n",
              "  0.3748263716697693,\n",
              "  0.3939236104488373,\n",
              "  0.3939236104488373,\n",
              "  0.40625,\n",
              "  0.4211805760860443,\n",
              "  0.40572917461395264,\n",
              "  0.42743054032325745,\n",
              "  0.4359375238418579,\n",
              "  0.4392361044883728,\n",
              "  0.4322916567325592,\n",
              "  0.4487847089767456,\n",
              "  0.4585069417953491,\n",
              "  0.4713541567325592,\n",
              "  0.4781249761581421,\n",
              "  0.49704858660697937,\n",
              "  0.4958333373069763,\n",
              "  0.4972222149372101],\n",
              " 'val_loss': [0.13593028485774994,\n",
              "  0.14069363474845886,\n",
              "  0.1408298909664154,\n",
              "  0.13762855529785156,\n",
              "  0.1387595385313034,\n",
              "  0.13920637965202332,\n",
              "  0.14026446640491486,\n",
              "  0.14207234978675842,\n",
              "  0.1435372680425644,\n",
              "  0.1430930197238922,\n",
              "  0.14527836441993713,\n",
              "  0.1460898220539093,\n",
              "  0.14895085990428925,\n",
              "  0.1474573314189911,\n",
              "  0.1481739580631256,\n",
              "  0.14981505274772644,\n",
              "  0.14987853169441223,\n",
              "  0.15213876962661743,\n",
              "  0.15432943403720856,\n",
              "  0.1523127555847168,\n",
              "  0.15276186168193817,\n",
              "  0.15551944077014923,\n",
              "  0.15696749091148376,\n",
              "  0.15721610188484192,\n",
              "  0.1575188785791397,\n",
              "  0.15819670259952545,\n",
              "  0.16128094494342804,\n",
              "  0.16168296337127686,\n",
              "  0.16201916337013245,\n",
              "  0.1628766655921936],\n",
              " 'val_my_accuracy': [0.08371913433074951,\n",
              "  0.07137345522642136,\n",
              "  0.060956791043281555,\n",
              "  0.1039094626903534,\n",
              "  0.08024691045284271,\n",
              "  0.0900205746293068,\n",
              "  0.10455247014760971,\n",
              "  0.08307613432407379,\n",
              "  0.08719135820865631,\n",
              "  0.10043724626302719,\n",
              "  0.1039094626903534,\n",
              "  0.09696502238512039,\n",
              "  0.10108024626970291,\n",
              "  0.09696502238512039,\n",
              "  0.11432613432407379,\n",
              "  0.11213991045951843,\n",
              "  0.11213991045951843,\n",
              "  0.11908435821533203,\n",
              "  0.11844135820865631,\n",
              "  0.11844135820865631,\n",
              "  0.12319959700107574,\n",
              "  0.11844135820865631,\n",
              "  0.11908435821533203,\n",
              "  0.12950102984905243,\n",
              "  0.13014404475688934,\n",
              "  0.12255658209323883,\n",
              "  0.11908435821533203,\n",
              "  0.13361626863479614,\n",
              "  0.11278292536735535,\n",
              "  0.11561213433742523]}"
            ]
          },
          "metadata": {},
          "execution_count": 102
        }
      ]
    },
    {
      "cell_type": "code",
      "source": [
        "all_train_loss = []\n",
        "all_val_loss = []\n",
        "all_train_acc = []\n",
        "all_val_acc = []"
      ],
      "metadata": {
        "id": "bJsefLZF-Yj2"
      },
      "execution_count": 97,
      "outputs": []
    },
    {
      "cell_type": "code",
      "source": [
        "import matplotlib.pyplot as plt\n",
        "import seaborn as sns\n",
        "\n",
        "def plot_loss_and_acc(loss_vals, eval_accs, title):\n",
        "    sns.set(style='darkgrid')\n",
        "    sns.set(font_scale=1.5)\n",
        "    plt.rcParams[\"figure.figsize\"] = (8,6)\n",
        "    fig, ax1 = plt.subplots(1,1)\n",
        "    ax1.plot(loss_vals, 'b-o', label = 'training loss')\n",
        "    ax2 = ax1.twinx()\n",
        "    ax2.plot(eval_accs, 'y-o', label = 'validation accuracy')\n",
        "    ax2.set_title(title)\n",
        "    ax2.set_xlabel(\"Epoch\")\n",
        "    ax1.set_ylabel(\"Loss\", color='b')\n",
        "    ax2.set_ylabel(\"Accuracy\", color='y')\n",
        "    ax1.tick_params(axis='y', rotation=0, labelcolor='b' )\n",
        "    ax2.tick_params(axis='y', rotation=0, labelcolor='y' )\n",
        "    plt.show()"
      ],
      "metadata": {
        "id": "Pb8D3fofJU10"
      },
      "execution_count": 91,
      "outputs": []
    },
    {
      "cell_type": "code",
      "source": [
        "all_train_loss.extend(history.history['loss'])\n",
        "all_val_loss.extend(history.history['val_loss'])\n",
        "all_train_acc.extend(history.history['my_accuracy'])\n",
        "all_val_acc.extend(history.history['val_my_accuracy'])"
      ],
      "metadata": {
        "id": "wmDW494TITP-"
      },
      "execution_count": 103,
      "outputs": []
    },
    {
      "cell_type": "code",
      "source": [
        "plot_loss_and_acc(all_train_loss, all_val_acc, \"Training loss and validation accuracy\")"
      ],
      "metadata": {
        "colab": {
          "base_uri": "https://localhost:8080/",
          "height": 562
        },
        "id": "kvdfYAsDJWFE",
        "outputId": "94fbf4ba-69bf-4493-d44a-4774790b37f0"
      },
      "execution_count": 104,
      "outputs": [
        {
          "output_type": "display_data",
          "data": {
            "text/plain": [
              "<Figure size 800x600 with 2 Axes>"
            ],
            "image/png": "[encoded data removed]"
          },
          "metadata": {}
        }
      ]
    },
    {
      "cell_type": "code",
      "source": [
        "plot_loss_and_acc(all_val_loss, all_val_acc, \"Validation loss and validation accuracy\")"
      ],
      "metadata": {
        "colab": {
          "base_uri": "https://localhost:8080/",
          "height": 562
        },
        "id": "LbxLbLnmLN75",
        "outputId": "38015067-9109-4eee-e0c3-32b99cea04ea"
      },
      "execution_count": 105,
      "outputs": [
        {
          "output_type": "display_data",
          "data": {
            "text/plain": [
              "<Figure size 800x600 with 2 Axes>"
            ],
            "image/png": "[encoded data removed]"
          },
          "metadata": {}
        }
      ]
    },
    {
      "cell_type": "code",
      "source": [
        "def label_to_text(labels):\n",
        "    return [target_cols[i] for i in range(len(labels)) if labels[i]]"
      ],
      "metadata": {
        "id": "Ml0F1BgN2ZbC"
      },
      "execution_count": 13,
      "outputs": []
    },
    {
      "cell_type": "code",
      "source": [
        "from sklearn import metrics"
      ],
      "metadata": {
        "id": "0v_9laK34gSW"
      },
      "execution_count": 14,
      "outputs": []
    },
    {
      "cell_type": "code",
      "source": [
        "print(X_test.shape)\n",
        "print(X_train.shape)"
      ],
      "metadata": {
        "colab": {
          "base_uri": "https://localhost:8080/"
        },
        "id": "k-PpgLwb-Nz2",
        "outputId": "7872a850-6887-462c-bc20-41120cb58c8d"
      },
      "execution_count": 122,
      "outputs": [
        {
          "output_type": "stream",
          "name": "stdout",
          "text": [
            "(158, 896)\n",
            "(1413, 896)\n"
          ]
        }
      ]
    },
    {
      "cell_type": "code",
      "source": [
        "X_test1 = pad_sequences(tokenizer.texts_to_sequences([\"\"\"You are given the root of a binary tree.\n",
        "\n",
        "A ZigZag path for a binary tree is defined as follow:\n",
        "\n",
        "Choose any node in the binary tree and a direction (right or left).\n",
        "If the current direction is right, move to the right child of the current node; otherwise, move to the left child.\n",
        "Change the direction from right to left or from left to right.\n",
        "Repeat the second and third steps until you can't move in the tree.\n",
        "Zigzag length is defined as the number of nodes visited - 1. (A single node has a length of 0).\n",
        "\n",
        "Return the longest ZigZag path contained in that tree.\n",
        "\"\"\"]), maxlen=max_len)\n",
        "print(type(X_test1))\n",
        "y_pred1 = model.predict(X_test1)\n",
        "\n",
        "print(y_pred1)"
      ],
      "metadata": {
        "colab": {
          "base_uri": "https://localhost:8080/"
        },
        "id": "meoJ9htB_hm3",
        "outputId": "a7b0a6e7-d67d-4ff8-8c11-2d6a3761d810"
      },
      "execution_count": 113,
      "outputs": [
        {
          "output_type": "stream",
          "name": "stdout",
          "text": [
            "<class 'numpy.ndarray'>\n",
            "1/1 [==============================] - 11s 11s/step\n",
            "[[1.2841339e-03 3.7455786e-02 2.4230446e-04 1.8163151e-04 9.5865840e-01\n",
            "  5.1732039e-01 6.8231377e-05 5.2998573e-02 4.2026830e-03 2.2778457e-02\n",
            "  3.9286879e-04 1.1020341e-03 1.4090568e-02 1.8678822e-01 5.6375068e-01\n",
            "  5.1290557e-02 1.4916128e-02 2.6747810e-03 4.1555773e-02 5.4771483e-02\n",
            "  2.4468737e-02 3.0720429e-04 5.7121357e-03 1.8221630e-02 9.6052838e-03\n",
            "  5.1101472e-02 2.1531546e-02 4.1441438e-03 1.9776525e-03 2.4195460e-03\n",
            "  2.4713334e-03 1.1030188e-02 1.6158252e-03 6.9804874e-04 2.4251530e-03\n",
            "  5.7233669e-02 4.5171237e-05 4.5724033e-04 1.5221331e-03 6.2216562e-04\n",
            "  2.1899962e-03 1.4257195e-04 1.7781803e-04]]\n"
          ]
        }
      ]
    },
    {
      "cell_type": "code",
      "source": [
        "idxs = []\n",
        "for i, val in enumerate(y_pred1[0]):\n",
        "    if val >= 0.5:\n",
        "        idxs.append(i)\n",
        "top_preds = [0] * len(target_cols)\n",
        "for idx in idxs:\n",
        "    top_preds[idx] = 1\n",
        "print(label_to_text(top_preds))"
      ],
      "metadata": {
        "colab": {
          "base_uri": "https://localhost:8080/"
        },
        "id": "nWvoeOGgtOn9",
        "outputId": "7415a516-0486-4a20-cc13-d95cbc53784e"
      },
      "execution_count": 120,
      "outputs": [
        {
          "output_type": "stream",
          "name": "stdout",
          "text": [
            "['Tree', 'Depth-first Search', 'Stack', 'Design']\n"
          ]
        }
      ]
    },
    {
      "cell_type": "code",
      "source": [
        "print(X_test.shape)"
      ],
      "metadata": {
        "colab": {
          "base_uri": "https://localhost:8080/"
        },
        "id": "34yBuklLAXBP",
        "outputId": "7d944d31-7226-482b-e653-bcf03ecc24d8"
      },
      "execution_count": 107,
      "outputs": [
        {
          "output_type": "stream",
          "name": "stdout",
          "text": [
            "(158, 896)\n"
          ]
        }
      ]
    },
    {
      "cell_type": "code",
      "source": [
        "# test label count accuracy, select top number of labels from prediction based on original label count\n",
        "test_pred = model.predict(X_test)\n",
        "accuracies = []\n",
        "for i, res in enumerate(test_pred):\n",
        "    # if i == 5: break\n",
        "    top_n = np.argsort(res)[-y_test[i].sum():][::-1]\n",
        "    pred_labels = [0] * len(target_cols)\n",
        "    for j in top_n:\n",
        "        pred_labels[j] = 1\n",
        "    # print(f\"Original labels: {label_to_text(y_test[i])}\")\n",
        "    # print(f\"Predicted labels: {label_to_text(pred_labels)}\")\n",
        "    accuracies.append(metrics.accuracy_score(y_test[i], pred_labels))\n",
        "print(f'mean accuracy: {np.mean(accuracies)}')"
      ],
      "metadata": {
        "colab": {
          "base_uri": "https://localhost:8080/"
        },
        "id": "QILVs_-K42ZQ",
        "outputId": "143abf1b-205b-40d6-d4df-e0e6dc63b891"
      },
      "execution_count": 125,
      "outputs": [
        {
          "output_type": "stream",
          "name": "stdout",
          "text": [
            "5/5 [==============================] - 27s 4s/step\n",
            "mean accuracy: 0.9499558433912274\n"
          ]
        }
      ]
    },
    {
      "cell_type": "code",
      "source": [
        "# test label count accuracy, select top number of labels from prediction based on original label count\n",
        "test_pred = model.predict(X_test)\n",
        "preds = []\n",
        "for i, res in enumerate(test_pred):\n",
        "    # if i == 5: break\n",
        "    top_n = np.argsort(res)[-y_test[i].sum():][::-1]\n",
        "    pred_labels = [0] * len(target_cols)\n",
        "    for j in top_n:\n",
        "        pred_labels[j] = 1\n",
        "    # print(f\"Original labels: {label_to_text(y_test[i])}\")\n",
        "    # print(f\"Predicted labels: {label_to_text(pred_labels)}\")\n",
        "    preds.append(pred_labels)\n",
        "print(f'mean accuracy: {metrics.accuracy_score(y_test, preds)}')"
      ],
      "metadata": {
        "colab": {
          "base_uri": "https://localhost:8080/"
        },
        "id": "S4QLT6Kw3Yss",
        "outputId": "c65d6891-281b-4546-f595-63c2853093b7"
      },
      "execution_count": 124,
      "outputs": [
        {
          "output_type": "stream",
          "name": "stdout",
          "text": [
            "5/5 [==============================] - 19s 3s/step\n",
            "mean accuracy: 0.17721518987341772\n"
          ]
        }
      ]
    }
  ]
}