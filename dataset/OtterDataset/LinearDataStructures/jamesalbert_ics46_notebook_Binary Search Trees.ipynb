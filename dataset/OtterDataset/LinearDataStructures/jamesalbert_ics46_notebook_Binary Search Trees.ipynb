{
 "cells": [
  {
   "cell_type": "markdown",
   "metadata": {},
   "source": [
    "This lecture will cover a specific kind of binary tree: a Binary Search Tree\n",
    "(BST). We can use these trees, if they are well balanced, to insert, search, and\n",
    "remove values with complexity of O(Log N). Such a data structure would be an\n",
    "improvement for implementing sets, maps, and priority queues, where some of\n",
    "these operations are O(N) for array and linked list implementations. We will\n",
    "discuss the ordering property of binary search trees, along with iterative and\n",
    "recursive versions of the insert, search, and remove functions, and finally\n",
    "illustrate four kinds of tree traversal orders and how to create iterators for\n",
    "BSTs."
   ]
  },
  {
   "cell_type": "markdown",
   "metadata": {},
   "source": [
    "#### Order Property/Structure Property"
   ]
  },
  {
   "cell_type": "markdown",
   "metadata": {},
   "source": [
    "The order property of a binary search tree is that EVERY node (not just the\n",
    "root), must have a value that is greater than all the values in its left\n",
    "subtree and less than all the values in its right subtree. This property is\n",
    "trivially true for empty trees and leaves (because they have no subtrees that\n",
    "might contain nodes that have incorrect values).\n",
    "\n",
    "Note that this property applies between a parent and ALL its DESCENDANTS (ALL\n",
    "the nodes in its left and right subtree), NOT JUST ITS CHILDREN. The following\n",
    "property is similar, simpler, and WRONG: a node must be greater than its left\n",
    "child and less than its right child. Certainly a BST by the definition above\n",
    "implies that a node and its children satisfy this property, but the implication\n",
    "doesn't go the other way around. So remember the right definition, not the\n",
    "wrong one.\n",
    "\n",
    "Challenge: Draw a small tree that satisifies the second property stated in this\n",
    "paragraph, but is not a true BST by the first property. Hint: you don't need\n",
    "many nodes.\n",
    "\n",
    "Note that the values that are inserted in a BST do NOT determine the structure\n",
    "(shape) of the BST that contains them. The structure depends on the ORDER that\n",
    "these values are INSERTED into the BST (see the insertion function below).\n",
    "Depending on the order that the values are inserted, the height of the tree can\n",
    "be pathological or well-balanced: O(N) or O(Log N).\n",
    "\n",
    "In later lectures we will examine other kinds of trees, with different order and\n",
    "structure properties: e.g., heaps and AVL trees.\n",
    "\n",
    "Finally, we will generally assume that a BST stores unique values (as they\n",
    "would in sets and maps -organized by unique keys). If we wanted two store\n",
    "multiple copies of a value, there are two standard approaches:\n",
    "\n",
    "1) We could add an int field to each node keeping a count of how many times\n",
    "   its value occurred.\n",
    "\n",
    "2) We could change the order property slightly, such that for any node, all\n",
    "   values in the left subtree are less than OR EQUAL and all values in the\n",
    "   right subtree are still strictly greater (or, symmetrically, values in the\n",
    "   left subtree are stictly < and all values in the right subtree are >=)."
   ]
  },
  {
   "cell_type": "markdown",
   "metadata": {},
   "source": [
    "#### Seaching"
   ]
  },
  {
   "cell_type": "markdown",
   "metadata": {},
   "source": [
    "Given any tree satisfying the BST order property, there is a unique location in\n",
    "that BST for any specific value in the tree. We can write simple functions, both\n",
    "iterative and recursive, that attempt to find (and return a pointer to) the\n",
    "node that stores such a value.\n",
    "\n",
    "Because of this order property and the law of trichotomy (a==b, a < b, or a > b),\n",
    "when we compare the value we are searching for with any node in the tree -we\n",
    "start at the root- and know\n",
    "\n",
    "  (a) value == node's value: we have found the node containing the value\n",
    "  (b) value <  nodes' value: the value, if in the tree, is in the left subtree\n",
    "  (c) value >  node's value: the value, if in the tree, is in the right subtree\n",
    "\n",
    "Contrast this situation with the recursive tree functions that we have studied\n",
    "(e.g., size and height) which needed to examine BOTH subtrees to compute their\n",
    "answers. We found that in these cases, we must do two recursive calls inside\n",
    "such functions, always recurring both to the left and to the right. For\n",
    "searching in a BST, we must examine at most one subtree of a node (left OR\n",
    "right) based on a comparison at the root of a subtree, so we can write a search\n",
    "function iteratively. The following code mimics iterative code that searches a \n",
    "linear-linked list, but instead of updating the cursor as c=c->next we have\n",
    "either c=c->left or c=c->right, depending on how to_find compares to c->value."
   ]
  },
  {
   "cell_type": "code",
   "execution_count": null,
   "metadata": {
    "collapsed": true
   },
   "outputs": [],
   "source": [
    "template<class T>\n",
    "TN<T>* find (TN<T>* root, T to_find) {\n",
    "  for (TN<T>* c=root; c!=nullptr; c = (to_find < c->value ? c->left : c->right))\n",
    "    if (to_find == c->value)\n",
    "      return c;\n",
    "\n",
    "  return nullptr;\n",
    "}"
   ]
  },
  {
   "cell_type": "markdown",
   "metadata": {},
   "source": [
    "We can also write this function recursively. The recursive function is a bit\n",
    "longer than the iterative one, but it has the added advantate that its\n",
    "structure is almost identical to the recursive code for inserting a value in a\n",
    "BST (which we will examine soon):"
   ]
  },
  {
   "cell_type": "code",
   "execution_count": null,
   "metadata": {
    "collapsed": true
   },
   "outputs": [],
   "source": [
    "template<class T>\n",
    "TN<T>* find (TN<T>* t, T to_find) {\n",
    "  if (t == nullptr)\n",
    "    return nullptr;\n",
    "  else\n",
    "    if (to_find == t->value)\n",
    "      return t;\n",
    "    else if (to_find < t->value)\n",
    "      return find(t->left, to_find);\n",
    "    else /* if (to_find > t->value) */\n",
    "      return find(t->right,to_find);\n",
    "}"
   ]
  },
  {
   "cell_type": "markdown",
   "metadata": {},
   "source": [
    "The test in the comment does not need to be performed: it is guaranteed by the \n",
    "law of trichotomy.;\n",
    "\n",
    "We can simplify the final if/else in this code using a conditional expression,\n",
    "similar to what we wrote in the iterative function."
   ]
  },
  {
   "cell_type": "code",
   "execution_count": null,
   "metadata": {
    "collapsed": true
   },
   "outputs": [],
   "source": [
    "template<class T>\n",
    "TN<T>* find (TN<T>* t, T to_find) {\n",
    "  if (t == nullptr)\n",
    "    return nullptr;\n",
    "  else\n",
    "    if (to_find == t->value)\n",
    "      return t;\n",
    "    else\n",
    "      return find( (to_find < t->values ? t->left : t->right), to_find);\n",
    "}"
   ]
  },
  {
   "cell_type": "markdown",
   "metadata": {},
   "source": [
    "We can prove that this function is correct as follows.\n",
    "\n",
    "1) There are no nodes containing any values in an empty tree. This function\n",
    "   immediately recognizes this base case and returns nulltpr.\n",
    "\n",
    "2) For any non-empty tree t, a recursive call on t->left or t->right is always\n",
    "   using an argument closer to the base case than t: each contains at least 1\n",
    "   fewer TNs than t does (and often each contains about 1/2 the TNs t does).\n",
    "\n",
    "3) Assuming find(t->left,to_find) and find(t->right,to_find) correctly return\n",
    "   a pointer to the node storing to_find in a subtree, this function checks\n",
    "   whether to_find is at its root and returns a pointer to that node if it\n",
    "   does; if it doesn't, it returns the answer computed by calling find on\n",
    "   either the left or right subtree, as appropriate for the order property of\n",
    "   the BST, and these functions return the correct result.\n",
    "\n",
    "We can also combine the  nullptr/== case as follows, where both non-recursive\n",
    "results are returned in the if; here short-circuit evaluation is important."
   ]
  },
  {
   "cell_type": "code",
   "execution_count": null,
   "metadata": {
    "collapsed": true
   },
   "outputs": [],
   "source": [
    "template<class T>\n",
    "TN<T>* find (TN<T>* t, T to_find) {\n",
    "  if (t == nullptr || to_find == t->value)\n",
    "     return t;\n",
    "  else\n",
    "     return find( (to_find < t->value ? t->left : t->right), to_find);\n",
    "}"
   ]
  },
  {
   "cell_type": "markdown",
   "metadata": {},
   "source": [
    "These functions, in the worst case, will search through the number of nodes\n",
    "equal to the height of the tree + 1: every call is at a depth that is 1 lower,\n",
    "and the height is the maximum depth. In a pathological tree, this will be N\n",
    "nodes; in a well balanced tree (one with about the same number of left and\n",
    "right descendants, for every node) this is about Log2 N nodes. Thus, when asked\n",
    "what is the complexity class of searching in a BST we would first have to know\n",
    "whether the tree is pathological or balanced. Or, we could just say\n",
    "O(Height of the tree), which is a correct -if a bit non-commital- answer for\n",
    "both kinds of trees."
   ]
  },
  {
   "cell_type": "markdown",
   "metadata": {},
   "source": [
    "#### Insertion"
   ]
  },
  {
   "cell_type": "markdown",
   "metadata": {},
   "source": [
    "Insertion is simlar to searching: the place where we would \"insert\" the node is\n",
    "the place where we would \"find\" the node if searching for it (and we will likely\n",
    "search for it after we insert it). We will write this function in two recursive\n",
    "ways: (1) returning a result and (2) void, but with a reference parameter.\n",
    "Finally we will show an iterative function that solves the problem, but is\n",
    "messy and complicated.\n",
    "\n",
    "(1) By using the same technique we used to mutate linked lists in recursive\n",
    "functions (very similar to the recursive function that inserts a value at the\n",
    "rear of a linked list), we can solve this problem recursively with code that\n",
    "mirrors the recursive searching code. Here will will do nothing if the value is\n",
    "already stored in the BST."
   ]
  },
  {
   "cell_type": "code",
   "execution_count": null,
   "metadata": {
    "collapsed": true
   },
   "outputs": [],
   "source": [
    "template<class T>\n",
    "TN<T>* insert (TN<T>* t, T to_insert) {\n",
    "  if (t == nullptr)\n",
    "    return new TN<T>(to_insert); //nullptr implicit for left/right subtrees\n",
    "  else {\n",
    "    if (to_insert < t->value)\n",
    "      t->left = insert(t->left, to_insert);\n",
    "    else if (to_insert > t->value)\n",
    "      t->right = insert(t->right, to_insert);\n",
    "  /*else  //for == case\n",
    "      ;*/\n",
    "\n",
    "    return t;\n",
    "  }\n",
    "}"
   ]
  },
  {
   "cell_type": "markdown",
   "metadata": {},
   "source": [
    "Here insert returns a pointer to the root of a BST that is mutated to include\n",
    "the value to_insert.  So we call this function like"
   ]
  },
  {
   "cell_type": "code",
   "execution_count": null,
   "metadata": {
    "collapsed": true
   },
   "outputs": [],
   "source": [
    "root = insert(root, to_insert);"
   ]
  },
  {
   "cell_type": "markdown",
   "metadata": {},
   "source": [
    "For an empty BST, it directly returns a pointer to a new node; for a non-empty\n",
    "BST it will return the original root, but the root, or exactly one of the\n",
    "root's descendants will have its left or right pointer now point to a new leaf\n",
    "node storing to_insert.\n",
    "\n",
    "Note that if to_insert == t->value in the else, it is neither < or > t->value,\n",
    "so this function returns without making any changes to the BST.\n",
    "\n",
    "\n",
    "(2) By using a reference parameter for t, we can write even simpler code, but\n",
    "still looking like the recursive insert code."
   ]
  },
  {
   "cell_type": "code",
   "execution_count": null,
   "metadata": {
    "collapsed": true
   },
   "outputs": [],
   "source": [
    "template<class T>\n",
    "void insert (TN<T>*& t, T to_insert) {\n",
    "  if (t == nullptr)\n",
    "    t = new TN<T>(to_insert);    //nullptr implicit for left/right subtrees\n",
    "  else\n",
    "    if (to_insert < t->value)\n",
    "      insert(t->left, to_insert);\n",
    "    else if (to_insert > t->value)\n",
    "      insert(t->right, to_insert);\n",
    "  /*else  //for == case\n",
    "      ;*/\n",
    "}"
   ]
  },
  {
   "cell_type": "markdown",
   "metadata": {},
   "source": [
    "Again, note that if to_insert == t->value in the else, this function returns\n",
    "without making any changes to the BST.\n",
    "\n",
    "Note that we call this function like insert(root, to_insert);\n",
    "\n",
    "Finally, here is an iterative function to insert a value into a BST. It is more\n",
    "complicated than the recursive functions above - and not much like the\n",
    "iterative search function either. It works by searching downward (into either a\n",
    "left or right subtree) for a node such that to_insert belongs to its left (or\n",
    "right) and there currently is no node to it left (or right) and then puts a\n",
    "node with the value to_insert there. The nested if statements produce \n",
    "complicated logic."
   ]
  },
  {
   "cell_type": "code",
   "execution_count": null,
   "metadata": {
    "collapsed": true
   },
   "outputs": [],
   "source": [
    "template<class T>\n",
    "TN<T>* insert_i (TN<T>* root, T to_insert) {\n",
    "  if (root == nullptr)\n",
    "    return new TN<T>(to_insert);\n",
    "  else {\n",
    "    TN<T>* t = root;\n",
    "    for (;;)\n",
    "      if (to_insert == t->value)\n",
    "        return root;\n",
    "      else if (to_insert < t->value) {\n",
    "        if (t->left == nullptr) {\n",
    "          t->left = new TN<T>(to_insert);\n",
    "          return root;\n",
    "        }else\n",
    "          t = t->left;\n",
    "      }else /* to_insert > t->value */{\n",
    "        if (t->right == nullptr) {\n",
    "          t->right = new TN<T>(to_insert);\n",
    "          return root;\n",
    "        }else\n",
    "          t = t->right;\n",
    "      }\n",
    "  }\n",
    "}"
   ]
  },
  {
   "cell_type": "markdown",
   "metadata": {},
   "source": [
    "Note in this function, if the value belongs in the left/right subtree of a\n",
    "node, but that subtree already contains a node, we just advance t to point to\n",
    "node at the root of the the left/right subtree and continue downward.\n",
    "\n",
    "Note that we must call this function like root = insert(root, to_insert);"
   ]
  },
  {
   "cell_type": "markdown",
   "metadata": {},
   "source": [
    "#### Removal"
   ]
  },
  {
   "cell_type": "markdown",
   "metadata": {},
   "source": [
    "There are many different algorithms to remove a value from a BST. One property\n",
    "good algorithms should have is that they do not increase the height of the\n",
    "tree. After all, we are removing a node, so the height should stay the same,\n",
    "or get smaller. The algorithm I'll show will have this property. The exact\n",
    "code to execute depends on the number of children of the node being removed.\n",
    "\n",
    "( 1) Find the node containing the value to be removed\n",
    "\n",
    "(2a) If it is a LEAF, delete it: make the pointer from its parent (left or\n",
    "       right) nullptr, instead of pointing to the deleted node.\n",
    "\n",
    "(2b) If it is an INTERNAL node with ONE CHILD, delete it: make the pointer from\n",
    "       its parent (left or right) point to its child, instead of pointing to the\n",
    "        deleted node.\n",
    "\n",
    "(2c) If it is an internal node with TWO CHILDREN \n",
    "\n",
    "     (2c1) Find the node containing the closest value: either the largest value\n",
    "             smaller than it or the smallest value larger than it (it doesn't\n",
    "             matter which) \n",
    "     (2c2) Remove that node from the tree: it is guaranteed to have at most\n",
    "              one child, so it will be easy to remove using this algorithm via\n",
    "              steps 2a or 2b \n",
    "     (2c3) Replace the value of the original node (the one containing the value\n",
    "              to remove) with the value of this node just deleted\n",
    "\n",
    "The actual C++ code for this algorithm (below) is a bit subtle (notice the &\n",
    "parameter). UNLIKE the other code that appears in this lecture, I do not expect\n",
    "you to be able to replicate it. But I expect you to try to understand it. Here\n",
    "in the TWO CHILDREN case the node with the \"closest\" value will be the node that\n",
    "is the biggest value less than the value in the node being removed."
   ]
  },
  {
   "cell_type": "code",
   "execution_count": null,
   "metadata": {
    "collapsed": true
   },
   "outputs": [],
   "source": [
    "template<class T>\n",
    "T remove_closest(TN<T>*& t) {\n",
    "  if (t->right == nullptr) {\n",
    "    T to_return = t->value;\n",
    "    TN<T>* to_delete = t;\n",
    "    t = t->left;\n",
    "    delete to_delete;\n",
    "    return to_return;\n",
    "  }else\n",
    "    return remove_closest(t->right);\n",
    "}\n",
    "\n",
    "template<class T>\n",
    "void remove (TN<T>*& t, T to_remove) {\n",
    "  if (t == nullptr)\n",
    "    return;\n",
    "  else\n",
    "    if (to_remove == t->value) {\n",
    "      if (t->left == nullptr) {\n",
    "        TN<T>* to_delete = t;\n",
    "        t = t->right;\n",
    "        delete to_delete;\n",
    "      }else if (t->right == nullptr) {\n",
    "        TN<T>* to_delete = t;\n",
    "        t = t->left;\n",
    "        delete to_delete;\n",
    "      }else\n",
    "        t->value = remove_closest(t->left);\n",
    "    }else\n",
    "      remove( (to_remove < t->value ? t->left : t->right), to_remove);\n",
    "}"
   ]
  },
  {
   "cell_type": "markdown",
   "metadata": {},
   "source": [
    "#### Miscellaneous: Copying a Tree/Checking for \"equal\" Trees"
   ]
  },
  {
   "cell_type": "markdown",
   "metadata": {},
   "source": [
    "Here is an elegant recursive function that copies a binary tree (whether or not\n",
    "it is a BST); it is similar in form to copying a linear linked list. It is O(N)\n",
    "because each of the N nodes in the tree is processed once, in a constant amount\n",
    "of time: O(1) to call new and copy the information in the constructor."
   ]
  },
  {
   "cell_type": "code",
   "execution_count": null,
   "metadata": {
    "collapsed": true
   },
   "outputs": [],
   "source": [
    "template<class T>\n",
    "TN<T>* copy (TN<T>* t) {\n",
    "  if (t == nullptr)\n",
    "    return nullptr;\n",
    "  else\n",
    "    return new TN<T>(t->value, copy(t->left), copy(t->right));\n",
    "}"
   ]
  },
  {
   "cell_type": "markdown",
   "metadata": {},
   "source": [
    "Likewise, here is an elegant recursive function that determines whether two\n",
    "binary trees (whether or not they are BST) are equal. Here, equal means the\n",
    "same structure storing the same values. Notice how short-circuit evaluation\n",
    "means that if nodes have different values, their subtrees are not checked for\n",
    "equality, possibly speeding up the comparison."
   ]
  },
  {
   "cell_type": "code",
   "execution_count": null,
   "metadata": {
    "collapsed": true
   },
   "outputs": [],
   "source": [
    "template<class T>\n",
    "bool equal (TN<T>* t1, TN<T>* t2) {\n",
    "  if (t1 == nullptr || t2 == nullptr)\n",
    "    return t1 == nullptr && t2 == nullptr;\n",
    "  else\n",
    "    return t1->value == t2->value &&\n",
    "           equal(t1->left,t2->left) && equal(t1->right,t2->right);\n",
    "}"
   ]
  },
  {
   "cell_type": "markdown",
   "metadata": {},
   "source": [
    "#### Traversals"
   ]
  },
  {
   "cell_type": "markdown",
   "metadata": {},
   "source": [
    "We will discuss the four standard traversal orders: Preorder, Inorder,\n",
    "Postorder (which are all depth-first orders), and Breadth-First. As we continue\n",
    "to discuss tree-processing functions, we will see examples of all these orders.\n",
    "Although we are illustrating these traverals in a BST, we can discuss\n",
    "traversing any kind of tree, with any number of children, and any (or no)\n",
    "ordering among its nodes.\n",
    "\n",
    "Note that the first three traversals are all accomplished with variants of a\n",
    "simple recursive function. In Preorder traversals, the parent is processed\n",
    "before (pre) its children; in Inorder the parent is processed in-between its\n",
    "children; and in Postorder the parent is processed after (post) its children.\n",
    "Normally we will process the subtrees of a parent in left-to-right order, but\n",
    "any order is OK; see the print_rotated function in the previous lecture, which\n",
    "is an Inorder traversal that processes first the right subtree, then the parent,\n",
    "and finally the left subtree of every node in a binary tree.\n",
    "\n",
    "In breadth first search nodes are processed by increasing depth from the root:\n",
    "first the root (depth 0), then its children (depth 1), then its grandchildren\n",
    "(depth 2), etc.\n",
    "\n",
    "The exact meaning of \"processed\" changes depending on that we are doing with \n",
    "he tree. In the example below, \"processed\" means print out the value of the\n",
    "node.\n",
    "\n",
    "The general method for visiting and printing the first three kinds of traverals\n",
    "is shown below. Preorder printing prints a node before its children; inorder\n",
    "printing prints a node between its two children; postorder printing prints a\n",
    "node after its children. The only difference is where the cout appears."
   ]
  },
  {
   "cell_type": "code",
   "execution_count": null,
   "metadata": {
    "collapsed": true
   },
   "outputs": [],
   "source": [
    "template(class T>\n",
    "void print (TN<T>* t) {  //Preorder, Inorder, Postorder form\n",
    "  if (t == nullptr)\n",
    "    return;\n",
    "  else {\n",
    "    //Uncomment for preorder traversals:  std::cout << t->value << std::endl;\n",
    "    print(t->left);\n",
    "    //Uncomment for inorder traversals:   std::cout << t->value << std::endl;\n",
    "    print(t->right);\n",
    "    //Uncomment for postorder traversals: std::cout << t->value << std::endl;\n",
    "  }\n",
    "}"
   ]
  },
  {
   "cell_type": "markdown",
   "metadata": {},
   "source": [
    "Finally, the breath-first order prints all the nodes at a certain depth\n",
    "(starting at the root) before any of the nodes at the next depth. There is no\n",
    "nice recursive solution here, but there is a simple function that uses a queue:\n",
    "adding all the nodes at each level before adding any nodes at the next\n",
    "level."
   ]
  },
  {
   "cell_type": "code",
   "execution_count": null,
   "metadata": {
    "collapsed": true
   },
   "outputs": [],
   "source": [
    "template<class T>\n",
    "void print_breadthfirst (TN<T>* t) { //Breadth-First\n",
    "  ics::ArrayQueue<TN<T>*> q;\n",
    "  q.enqueue(t);                           //Initialize with the root\n",
    "\n",
    "  while (!q.empty()) {\n",
    "    TN<T>* next = q.dequeue();\n",
    "    std::cout << next->value << \" \";\n",
    "    if (next->left != nullptr)     //Only non-nullptr values added\n",
    "      q.enqueue(next->left);\n",
    "    if (next->right != nullptr)\n",
    "      q.enqueue(next->right);\n",
    "  }\n",
    "}"
   ]
  },
  {
   "cell_type": "markdown",
   "metadata": {},
   "source": [
    "Given a tree, you should be able to quickly and accurately show the order that\n",
    "its nodes are traversed for each traversal order.\n",
    "\n",
    "A preorder traversal is interesting because if we print the values from a tree\n",
    "in that order (say into a file) and read in that file as the order in which to\n",
    "add values to a tree, we will get the original tree. Actually, reading a printed\n",
    "breadth-first traversal does the same thing, although the order is different.\n",
    "Recall that a BST grows from the leaves, and both these orders guarantee that\n",
    "the parent in the original tree will be proccessed (printed) before either of\n",
    "its children. So, nodes are always added into the tree after their parents, but\n",
    "before their children,  guaranteeing that they appear in the tree \"lower\" than\n",
    "their parents but higher than their children.\n",
    "\n",
    "An inorder traversal is interesting because it prints the values \"in order\"\n",
    "based on the ordering property used to build the BST. Basically, printing an\n",
    "inorder traversal is like printing the \"sorted\" tree.\n",
    "\n",
    "Note that the complexity class of all these traversals is O(N): each node is\n",
    "visited exactly once during a traversal. Students have a hard time\n",
    "understanding this complexity class, because of multiple recursion, but it is\n",
    "really like printing N linked list nodes.\n",
    "\n",
    "Finally, we know that for a reasonably balanced tree, it takes O(N Log N)\n",
    "to build the tree: N inserts, each O(Log N). If we have all N values before\n",
    "starting to build the tree (this is called an offline algorithm -a term we will\n",
    "examine in more detail later, and when we study heaps), and want to build as\n",
    "good of a tree for searching as we can (lowest height), we would sort the array\n",
    "first, which is itself O(N Log N). Then put the middle value in the tree first\n",
    "(it will become the root, with about as many values on the left as the right),\n",
    "then recursive put all values before the middle in the left subtree and all\n",
    "values after the middle in a right subtree. Building this BST is O(N) (each\n",
    "node is visited just once) so the total complexity class is O(N Log N) + O(N) =\n",
    "O(N Log N + N) =  O(N Log N), because the sorting complexity is dominant.\n",
    "\n",
    "So if we know all the values going into a tree, we can build a well-balanced\n",
    "tree in O(N Log N) time; it would take the same amount of time to add these\n",
    "values into a BST (if by luck we happened to add them in the \"right\" order).\n",
    "\n",
    "Here is a simple recursive function to build a perfectly balanced tree from a\n",
    "sorted array of values."
   ]
  },
  {
   "cell_type": "code",
   "execution_count": null,
   "metadata": {
    "collapsed": true
   },
   "outputs": [],
   "source": [
    "template<class T>\n",
    "TN<T>* build_optimal_tree(int[] sorted, low, high) {\n",
    "  if (low > high)\n",
    "    return nullptr;\n",
    "  else {\n",
    "    int mid = (low + high)/2;\n",
    "    //Better to write ... = low/2 + high/2 +(low%2==1 && high%2==1 ? 1 : 0);\n",
    "    //Do you know why?\n",
    "    return new TN<T>(sorted[mid],\n",
    "                      build_optimal_tree(sorted, low, mid-1),\n",
    "                      build_optimal)tree(sorted, mid+1, high));\n",
    "  }\n",
    "}"
   ]
  },
  {
   "cell_type": "markdown",
   "metadata": {},
   "source": [
    "We call this function like: root = buildTree(s, 0, length-1);\n",
    "\n",
    "Or we can write a build_optimal_tree function with a simpler interface (it has\n",
    "fewer parameters), which calls the function above (assuming the array is\n",
    "filled) as:"
   ]
  },
  {
   "cell_type": "code",
   "execution_count": null,
   "metadata": {
    "collapsed": true
   },
   "outputs": [],
   "source": [
    "template<class T>\n",
    "TN<T> build_optimal_tree(int[] sorted,length)\n",
    "  {return build_optimlal_tree(sorted, 0, length-1);}"
   ]
  },
  {
   "cell_type": "markdown",
   "metadata": {},
   "source": [
    "We call this function like: root = build_optimal_tree(s,10);\n",
    "\n",
    "\"Online\" algorithms receive their inputs ONE AT A TIME and have to completely\n",
    "update their data structure before the next value is received and processed.\n",
    "Building a BST by adding one value at a time is an example of an online\n",
    "algorithm. When we build a BST online, it might be pathological (have height\n",
    "O(N) instead of O(Log N) and could take O(N^2) time to build.\n",
    "\n",
    "\"Offline\" algorithms receive ALL their inputs before they are required to \n",
    "process any of them. We then use all these values to update the data structure\n",
    "in any order we want.\n",
    "\n",
    "The code above is an offline algorithm to build a BALANCED (height is\n",
    "guaranteed to be O(Log N)) BST of N values. We would sort all the values that\n",
    "are going into the tree be BEFORE we start building it, and build it using\n",
    "the function above."
   ]
  },
  {
   "cell_type": "markdown",
   "metadata": {},
   "source": [
    "#### Iterators for BSTs"
   ]
  },
  {
   "cell_type": "markdown",
   "metadata": {},
   "source": [
    "An easy way to create an iterator for a BST is just to traverse the tree\n",
    "recursively (in one of the orders above), storing pointers to all its nodes\n",
    "in an array (the length of the array is the size of the tree). Then we can\n",
    "write the rest of this iterator to just iterate through the array of pointers\n",
    "that is created.\n",
    "\n",
    "Such an iterator takes O(N) time to construct (allocating the array, filling in\n",
    "each of its pointer value while traversing the tree) and uses O(N) extra space\n",
    "in the array. The ++ and * operators are just O(1). So, the cost of constructing\n",
    "such an iterator AND iterating through ALL its values is still O(N).\n",
    "\n",
    "Here is code to fill in the array with tree references. It builds an array from\n",
    "recursively traversing a tree: in some sense it is the opposite of the code\n",
    "above to build a tree from an array. In this code the tree is traversed using\n",
    "an inorder traversal, so the array values are sorted. The int value returned is\n",
    "the next position in the array to put the value."
   ]
  },
  {
   "cell_type": "code",
   "execution_count": null,
   "metadata": {
    "collapsed": true
   },
   "outputs": [],
   "source": [
    "template<class T>\n",
    "fill_inorder(TN<T>* t, TN<T>* a[], int next_index) {\n",
    "  if (t == nullptr)\n",
    "    return next_index;\n",
    "  else {\n",
    "    next_index = fill_inorder(t->left,  a, next_index);\n",
    "    a[next_index] = t->entry;\n",
    "    next_index = fill_inorder(t->right, a, next_index+1);\n",
    "    return next_index;\n",
    "  }\n",
    "}"
   ]
  },
  {
   "cell_type": "markdown",
   "metadata": {},
   "source": [
    "We can create an iterator in an alternative way, so that there isn't such a big\n",
    "cost for creating the iterator (either in time or space), but the cost for each\n",
    "++ or * operator is increased (mostly O(1) but sometimes O(Height of the tree)).\n",
    "The cost of constructing such an iterator and iterating through ALL its values\n",
    "is still O(N), as it was with the array, but it is typically faster to construct\n",
    "the iterator and throughout the iteration it uses less space.\n",
    "\n",
    "For one example, we can write an iterator that does a breadth-first traveral.\n",
    "The constructor would construct a queue and leave it empty if the tree is empty\n",
    "or enqueue the root if the tree isn't empty (so that is O(1)); the * operator\n",
    "checks if the queue is empty and peeks at the next values (also both O(1)); the\n",
    "++ dequeues the first value in the queue (assuming the queue isn't empty) and\n",
    "enqueues each non-empty child onto the queue (also O(1)). Note that the biggest\n",
    "this queue can get is O(N): the worst case is actually a completely full tree,\n",
    "in which case about N/2 values (all its leaves) can be in the queue at one time\n",
    "(right before the deepest depth is processed). See the print method above for an\n",
    "example of such a traversal (but for an iterator, the loop is outside the\n",
    "iterator code).\n",
    "\n",
    "In fact, we can also do an inorder traversal using a stack. The constructor\n",
    "would construct a stack and leave it empty if the tree is empty, or push the\n",
    "root if the tree isn't empty and continually pushes left descendants until there\n",
    "are none (so that is O(Height)); the * operator determines if the stack is\n",
    "empty and peeks at the next value (also both O(1)); the ++ operator pops a value\n",
    "from the stack (assuming the stack isn't empty) and pushes its right child and\n",
    "all its left descendants until there are none (so, that is O(Height)).\n",
    "\n",
    "For example suppose we are iterating over the following BST:\n",
    "\n",
    "                     50\n",
    "                 /          \\ \n",
    "           30                   70\n",
    "          /   \\               /    \\\n",
    "      20        40         60       80\n",
    "    /   \\       / \\       /   \\    /   \\\n",
    "  15     25   35   45    55   65  75   85\n",
    "\n",
    "So to start, we push 50, 30, 20, and 15 onto the stack, which we will represent\n",
    "by\n",
    "\n",
    "  Stack:  50 | 30 | 20 | 15\n",
    "\n",
    "using * returns 15; using ++ it has no right child so the stack is now\n",
    "           \n",
    "  Stack:  50 | 30 | 20\n",
    "\n",
    "using * returns 20; using ++ it has one right child (25) but it has no left\n",
    "descendants, so the stack is now\n",
    "           \n",
    "  Stack:  50 | 30 | 25\n",
    "\n",
    "using * returns 25; using ++ it has no right child so the stack is now\n",
    "           \n",
    "  Stack:  50 | 30\n",
    "\n",
    "using * 30; using ++ it has one right child (40) which has one left descendant\n",
    "35), so the stack is now\n",
    "\n",
    "  Stack:  50 | 40 | 35\n",
    "\n",
    "using * returns 35; using ++ it has no right child so the stack is now\n",
    "           \n",
    "  Stack:  50 | 40\n",
    "\n",
    "using * returns 40; using ++ it has one right child (45) but it has no left\n",
    "descendants, so the stack is now\n",
    "           \n",
    "  Stack:  50 | 45\n",
    "\n",
    "using * returns 45; using ++ it has no right child so the stack is now\n",
    "           \n",
    "  Stack:  50 \n",
    "\n",
    "using * returns 50; using ++ it has one right child (70) which has left\n",
    "descendant 60 and 55, so the stack is now\n",
    "\n",
    "  Stack:  70 | 60 | 55\n",
    "\n",
    "...and so on. Notice that the vaues are processed inorder.\n",
    "\n",
    "Note that the biggest this stack can get is O(Height), which for a well\n",
    "balanced tree is O(Log2 N) - a much smaller amount of space than any of the\n",
    "other ways we discussed to implement iterators for trees.\n",
    "\n",
    "Of course for a pathalogical democratic tree, whose height is O(N), this method\n",
    "of iteration requires O(N) space too: it starts by pushing all the values onto\n",
    "the stack.\n",
    "\n",
    "Eventually we will implement maps/sets with trees and write an iterator using a\n",
    "stack like this one."
   ]
  }
 ],
 "metadata": {
  "kernelspec": {
   "display_name": "Python 2",
   "language": "python",
   "name": "python2"
  },
  "language_info": {
   "codemirror_mode": {
    "name": "ipython",
    "version": 2
   },
   "file_extension": ".py",
   "mimetype": "text/x-python",
   "name": "python",
   "nbconvert_exporter": "python",
   "pygments_lexer": "ipython2",
   "version": "2.7.10"
  }
 },
 "nbformat": 4,
 "nbformat_minor": 0
}
