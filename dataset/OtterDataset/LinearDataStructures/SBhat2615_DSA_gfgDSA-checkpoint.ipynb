{
 "cells": [
  {
   "cell_type": "raw",
   "id": "d30d75f0",
   "metadata": {},
   "source": []
  },
  {
   "cell_type": "markdown",
   "id": "ad0a753b",
   "metadata": {},
   "source": []
  },
  {
   "cell_type": "markdown",
   "id": "43a32178",
   "metadata": {},
   "source": [
    "REFER ARTICLES"
   ]
  },
  {
   "cell_type": "code",
   "execution_count": null,
   "id": "86136f63",
   "metadata": {},
   "outputs": [],
   "source": []
  },
  {
   "cell_type": "markdown",
   "id": "ee2f0062",
   "metadata": {},
   "source": [
    "#### TRAILING ZEROES IN FACTORIAL"
   ]
  },
  {
   "cell_type": "code",
   "execution_count": 69,
   "id": "83a24d40",
   "metadata": {},
   "outputs": [],
   "source": [
    "class Solution:\n",
    "    def naive(self, n):\n",
    "        fact, res = 1, 0\n",
    "        for i in range(2, n+1):\n",
    "            fact *= i\n",
    "        while not fact%10:\n",
    "            res += 1\n",
    "            fact //= 10\n",
    "        return res\n",
    "        \n",
    "    def better(self, n):\n",
    "        fact, res = 1, 0\n",
    "        two, five = 0, 0\n",
    "        for i in range(2, n+1):\n",
    "            while i % 5 == 0:\n",
    "                res += 1\n",
    "                i //= 5\n",
    "        return res\n",
    "    \n",
    "    def best(self, n):\n",
    "        res = 0\n",
    "        i = 5\n",
    "        while i <= n:\n",
    "            res += n // i\n",
    "            i *= 5\n",
    "        return res"
   ]
  },
  {
   "cell_type": "code",
   "execution_count": 71,
   "id": "e3765fa5",
   "metadata": {},
   "outputs": [
    {
     "name": "stdout",
     "output_type": "stream",
     "text": [
      "1 ->  24\n",
      "2 ->  24\n",
      "3 ->  24\n"
     ]
    }
   ],
   "source": [
    "s = Solution()\n",
    "n = 100\n",
    "print('1 -> ', s.naive(n))\n",
    "print('2 -> ', s.better(n))\n",
    "print('3 -> ', s.best(n))"
   ]
  },
  {
   "cell_type": "markdown",
   "id": "cc8b43c0",
   "metadata": {},
   "source": [
    "#### GCD & HCF"
   ]
  },
  {
   "cell_type": "code",
   "execution_count": 151,
   "id": "45c49cd5",
   "metadata": {},
   "outputs": [],
   "source": [
    "class GCD:\n",
    "    def naive(self, m, n):\n",
    "        # O(min(m, n)) -> divisor (decrement)\n",
    "        pass\n",
    "    \n",
    "    def euclid(self, m, n):\n",
    "        while m != n:\n",
    "            if m > n:\n",
    "                m = m - n\n",
    "            else:\n",
    "                n = n - m\n",
    "        return m\n",
    "    \n",
    "    def optimized(self, m, n):\n",
    "        if n == 0:\n",
    "            return m\n",
    "        return self.optimized(n, m%n)"
   ]
  },
  {
   "cell_type": "code",
   "execution_count": 152,
   "id": "5a7d6be0",
   "metadata": {},
   "outputs": [
    {
     "name": "stdout",
     "output_type": "stream",
     "text": [
      "4\n",
      "4\n"
     ]
    }
   ],
   "source": [
    "s = GCD()\n",
    "m, n = 12, 8\n",
    "print(s.euclid(m,n))\n",
    "print(s.optimized(m,n))"
   ]
  },
  {
   "cell_type": "markdown",
   "id": "173edebb",
   "metadata": {},
   "source": [
    "##### LCM"
   ]
  },
  {
   "cell_type": "code",
   "execution_count": 24,
   "id": "748d09dc",
   "metadata": {},
   "outputs": [],
   "source": [
    "class LCM:\n",
    "    def naive(self, m, n):\n",
    "        # O(m*n-max(m,n))\n",
    "        pass\n",
    "        \n",
    "    def optimized(self, m, n):\n",
    "        # (m*n) // gcd(m,n)\n",
    "        # O(log(min(m,n)))\n",
    "        pass"
   ]
  },
  {
   "cell_type": "code",
   "execution_count": null,
   "id": "b33108c3",
   "metadata": {},
   "outputs": [],
   "source": [
    "s = LCM()\n",
    "m, n = 4, 6\n",
    "# 2,8 -> 8\n",
    "# 3,7 -> 21\n",
    "# print(s.naive(m,n))\n",
    "# print(s.optimized(m,n))"
   ]
  },
  {
   "cell_type": "markdown",
   "id": "22969afd",
   "metadata": {},
   "source": [
    "#### isPRIME"
   ]
  },
  {
   "cell_type": "code",
   "execution_count": 28,
   "id": "33defbf8",
   "metadata": {},
   "outputs": [],
   "source": [
    "class isPRIME:\n",
    "    def better(self,n):\n",
    "        # loop until sqrt(n)\n",
    "        pass\n",
    "    \n",
    "    def best(self, n):\n",
    "        if n == 1:\n",
    "            return True\n",
    "        if n == 2 or n == 3:\n",
    "            return False\n",
    "        if n%2 == 0 or n%3 == 0:\n",
    "            return False\n",
    "        i = 5\n",
    "        while i*i <= n:\n",
    "            if n%i == 0 or n%(i+2) == 0:\n",
    "                return False\n",
    "            i += 6\n",
    "        return True"
   ]
  },
  {
   "cell_type": "code",
   "execution_count": 32,
   "id": "0a93e606",
   "metadata": {},
   "outputs": [
    {
     "name": "stdout",
     "output_type": "stream",
     "text": [
      "True\n"
     ]
    }
   ],
   "source": [
    "s = isPRIME()\n",
    "n = 14\n",
    "n = 53\n",
    "#print(s.better(n))\n",
    "print(s.best(n))"
   ]
  },
  {
   "cell_type": "markdown",
   "id": "97409378",
   "metadata": {},
   "source": [
    "#### PRIME FACTORIZATION"
   ]
  },
  {
   "cell_type": "code",
   "execution_count": 75,
   "id": "f0f6150d",
   "metadata": {},
   "outputs": [],
   "source": [
    "class pFactor:\n",
    "    def isPrime(self, n):\n",
    "        for i in range(2, n):\n",
    "            if n%i == 0:\n",
    "                return False\n",
    "        return True\n",
    "        \n",
    "    def naive(self, n):\n",
    "        lst = list()\n",
    "        i = 2\n",
    "        while n != 1:\n",
    "            while (not n%i) and self.isPrime(i):\n",
    "                n = n // i\n",
    "                lst.append(i)\n",
    "            i += 1\n",
    "        return lst"
   ]
  },
  {
   "cell_type": "code",
   "execution_count": 76,
   "id": "867198ea",
   "metadata": {},
   "outputs": [
    {
     "name": "stdout",
     "output_type": "stream",
     "text": [
      "[2, 2, 17]\n"
     ]
    }
   ],
   "source": [
    "s = pFactor()\n",
    "n = 68\n",
    "print(s.naive(n))"
   ]
  },
  {
   "cell_type": "markdown",
   "id": "6523fabc",
   "metadata": {},
   "source": [
    "#### DIVISORS"
   ]
  },
  {
   "cell_type": "code",
   "execution_count": 121,
   "id": "be0df945",
   "metadata": {},
   "outputs": [],
   "source": [
    "class Divisors:\n",
    "    def naive(self, n):\n",
    "        lst = list()\n",
    "        for i in range(1, n+1):\n",
    "            if n%i == 0:\n",
    "                lst.append(i)\n",
    "        return lst\n",
    "    \n",
    "    def efficient(self, n):\n",
    "        lst = list()\n",
    "        i = 1\n",
    "        while i*i < n:\n",
    "            if n%i == 0:\n",
    "                lst.append(i)\n",
    "            i += 1\n",
    "        while i >= 1:\n",
    "            if n%i == 0:\n",
    "                lst.append(int(n//i))\n",
    "            i -= 1\n",
    "        return lst"
   ]
  },
  {
   "cell_type": "code",
   "execution_count": 122,
   "id": "44a672bd",
   "metadata": {},
   "outputs": [
    {
     "name": "stdout",
     "output_type": "stream",
     "text": [
      "[1, 5, 25]\n",
      "[1, 5, 25]\n"
     ]
    }
   ],
   "source": [
    "s = Divisors()\n",
    "n = 25\n",
    "print(s.naive(n))\n",
    "print(s.efficient(n))"
   ]
  },
  {
   "cell_type": "markdown",
   "id": "4765d61e",
   "metadata": {},
   "source": [
    "#### SIEVE OF ERATOSTHENES"
   ]
  },
  {
   "cell_type": "code",
   "execution_count": null,
   "id": "dd344ff4",
   "metadata": {},
   "outputs": [],
   "source": [
    "class Divisors:\n",
    "    def naive(self, n):\n",
    "        # O(n)\n",
    "    \n",
    "    def efficient(self, n):\n",
    "        lst = list()\n",
    "        i = 1\n",
    "        while i*i < n:\n",
    "            if n%i == 0:\n",
    "                lst.append(i)\n",
    "            i += 1\n",
    "        while i >= 1:\n",
    "            if n%i == 0:\n",
    "                lst.append(int(n//i))\n",
    "            i -= 1\n",
    "        return lst"
   ]
  },
  {
   "cell_type": "code",
   "execution_count": null,
   "id": "e93ff7ad",
   "metadata": {},
   "outputs": [],
   "source": []
  },
  {
   "cell_type": "markdown",
   "id": "8c3d250d",
   "metadata": {},
   "source": [
    "# LISTS (ARRAYS)"
   ]
  },
  {
   "cell_type": "code",
   "execution_count": 4,
   "id": "bf385f53",
   "metadata": {},
   "outputs": [
    {
     "name": "stdout",
     "output_type": "stream",
     "text": [
      "3\n"
     ]
    }
   ],
   "source": [
    "lst = [10, 20, 30, 40, 50, 60]\n",
    "print(lst.index(40, 3, 5))\n",
    "# print(lst.index(40, 3, 5))"
   ]
  },
  {
   "cell_type": "code",
   "execution_count": 9,
   "id": "72173f57",
   "metadata": {},
   "outputs": [
    {
     "data": {
      "text/plain": [
       "[20, 30, 40]"
      ]
     },
     "execution_count": 9,
     "metadata": {},
     "output_type": "execute_result"
    }
   ],
   "source": [
    "lst = [10, 20, 30, 40, 50, 60]\n",
    "del lst[4:]\n",
    "lst.remove(10)\n",
    "lst"
   ]
  },
  {
   "cell_type": "markdown",
   "id": "955c8f26",
   "metadata": {},
   "source": [
    "#### SETS VS LISTS"
   ]
  },
  {
   "cell_type": "markdown",
   "id": "81d6e3a3",
   "metadata": {},
   "source": [
    "https://lucasmagnum.medium.com/pythontip-list-vs-set-performance-experiments-dfbe4f72d47f"
   ]
  },
  {
   "cell_type": "markdown",
   "id": "cb2c7cdb",
   "metadata": {},
   "source": [
    "https://towardsdatascience.com/python-lists-vs-sets-39bd6b5745e1"
   ]
  },
  {
   "cell_type": "markdown",
   "id": "c7536690",
   "metadata": {},
   "source": [
    "#### SLICING"
   ]
  },
  {
   "cell_type": "code",
   "execution_count": 23,
   "id": "df5db078",
   "metadata": {},
   "outputs": [
    {
     "name": "stdout",
     "output_type": "stream",
     "text": [
      "[60]\n",
      "[60]\n"
     ]
    }
   ],
   "source": [
    "lst = [10, 20, 30, 40, 50, 60] \n",
    "print(lst[:4:-1])             # 0 - 4 in the backward direction\n",
    "print(lst[:-2:-1])"
   ]
  },
  {
   "cell_type": "code",
   "execution_count": 24,
   "id": "38405801",
   "metadata": {},
   "outputs": [
    {
     "name": "stdout",
     "output_type": "stream",
     "text": [
      "False\n",
      "False\n",
      "True\n"
     ]
    }
   ],
   "source": [
    "l1 = [10, 20, 30]\n",
    "l2 = l1[:]\n",
    "\n",
    "t1 = (10, 20, 30)\n",
    "t2 = t1[:]\n",
    "\n",
    "s1 = \"geeks\"\n",
    "s2 = s1[:]\n",
    "\n",
    "print(l1 in l2)\n",
    "print(t1 in t2)\n",
    "print(s1 in s2) # same string"
   ]
  },
  {
   "cell_type": "markdown",
   "id": "4b655c93",
   "metadata": {},
   "source": [
    "#### LIST COMPREHENSIONS"
   ]
  },
  {
   "cell_type": "code",
   "execution_count": 29,
   "id": "9deccdf1",
   "metadata": {},
   "outputs": [
    {
     "data": {
      "text/plain": [
       "[0, 2, 4, 6, 8, 10]"
      ]
     },
     "execution_count": 29,
     "metadata": {},
     "output_type": "execute_result"
    }
   ],
   "source": [
    "lst1 = [i for i in range(11) if i%2 == 0]\n",
    "lst1"
   ]
  },
  {
   "cell_type": "code",
   "execution_count": 31,
   "id": "592e9a94",
   "metadata": {},
   "outputs": [
    {
     "data": {
      "text/plain": [
       "['gfg', 'geeks']"
      ]
     },
     "execution_count": 31,
     "metadata": {},
     "output_type": "execute_result"
    }
   ],
   "source": [
    "lst = [\"gfg\", \"sdf\", \"tew\", \"geeks\"]\n",
    "lst2 = [x for x in lst if x.startswith('g')]\n",
    "lst2"
   ]
  },
  {
   "cell_type": "markdown",
   "id": "d45b78e5",
   "metadata": {},
   "source": [
    "#### SET COMPREHENSIONS"
   ]
  },
  {
   "cell_type": "code",
   "execution_count": 33,
   "id": "7a4d97cf",
   "metadata": {},
   "outputs": [
    {
     "data": {
      "text/plain": [
       "{10, 40, 54, 60}"
      ]
     },
     "execution_count": 33,
     "metadata": {},
     "output_type": "execute_result"
    }
   ],
   "source": [
    "lst = [10, 21, 33, 40, 54, 60] \n",
    "sett = {x for x in lst if x%2 == 0}\n",
    "sett"
   ]
  },
  {
   "cell_type": "markdown",
   "id": "2d7dffef",
   "metadata": {},
   "source": [
    "#### DICTIONARY COMPREHENSIONS"
   ]
  },
  {
   "cell_type": "code",
   "execution_count": 34,
   "id": "2d7c800a",
   "metadata": {},
   "outputs": [
    {
     "data": {
      "text/plain": [
       "{0: 'ID0', 1: 'ID1', 2: 'ID2', 3: 'ID3', 4: 'ID4', 5: 'ID5'}"
      ]
     },
     "execution_count": 34,
     "metadata": {},
     "output_type": "execute_result"
    }
   ],
   "source": [
    "d1 = {x: f'ID{x}' for x in range(6)}\n",
    "d1"
   ]
  },
  {
   "cell_type": "code",
   "execution_count": 35,
   "id": "b41f5080",
   "metadata": {
    "scrolled": true
   },
   "outputs": [
    {
     "data": {
      "text/plain": [
       "{'skd': 101, 'iee': 102, 'kfg': 103}"
      ]
     },
     "execution_count": 35,
     "metadata": {},
     "output_type": "execute_result"
    }
   ],
   "source": [
    "# Reverse dictionary\n",
    "d = {101:\"skd\", 102:\"iee\", 103:\"kfg\"}\n",
    "d2 = {v:k for k, v in d.items()}\n",
    "d2"
   ]
  },
  {
   "cell_type": "code",
   "execution_count": null,
   "id": "e084a81b",
   "metadata": {},
   "outputs": [],
   "source": []
  },
  {
   "cell_type": "markdown",
   "id": "f55f3529",
   "metadata": {},
   "source": [
    "#### EXTRA"
   ]
  },
  {
   "cell_type": "code",
   "execution_count": 7,
   "id": "60ce3ea3",
   "metadata": {},
   "outputs": [
    {
     "name": "stdout",
     "output_type": "stream",
     "text": [
      "[60, 50, 40, 30, 20, 10]\n",
      "[60, 50, 40, 30, 20, 10]\n"
     ]
    },
    {
     "data": {
      "text/plain": [
       "[10, 20, 30, 40, 50, 60]"
      ]
     },
     "execution_count": 7,
     "metadata": {},
     "output_type": "execute_result"
    }
   ],
   "source": [
    "# 1\n",
    "lst = [10, 20, 30, 40, 50, 60]\n",
    "l2 = list(reversed(lst))\n",
    "print(l2)\n",
    "# 2\n",
    "lst.reverse()\n",
    "print(lst)\n",
    "# 3\n",
    "lst[::-1]"
   ]
  },
  {
   "cell_type": "markdown",
   "id": "0d8a439f",
   "metadata": {},
   "source": [
    "#### REMOVE DUPLICATES FROM SORTED"
   ]
  },
  {
   "cell_type": "code",
   "execution_count": 11,
   "id": "3cf5b1da",
   "metadata": {},
   "outputs": [],
   "source": [
    "def removeD(lst, n):\n",
    "    res = 1\n",
    "    for i in range(1,n):\n",
    "        if lst[res-1] != lst[i]:\n",
    "            lst[res] = lst[i]\n",
    "            res += 1\n",
    "    return res"
   ]
  },
  {
   "cell_type": "code",
   "execution_count": 14,
   "id": "8e213010",
   "metadata": {},
   "outputs": [
    {
     "data": {
      "text/plain": [
       "[10, 20, 30, 40]"
      ]
     },
     "execution_count": 14,
     "metadata": {},
     "output_type": "execute_result"
    }
   ],
   "source": [
    "lst = [10, 20, 20, 30, 40, 40]\n",
    "res = removeD(lst, len(lst))\n",
    "lst[:res]"
   ]
  },
  {
   "cell_type": "markdown",
   "id": "5dee7f0e",
   "metadata": {},
   "source": [
    "#### LEFT ROTATE LIST BY 1"
   ]
  },
  {
   "cell_type": "code",
   "execution_count": 44,
   "id": "479cbc47",
   "metadata": {},
   "outputs": [],
   "source": [
    "class LeftRotate:\n",
    "    def ap1(self, lst, n):\n",
    "        lst = lst[1:] + lst[:1]\n",
    "        return lst\n",
    "    \n",
    "    def ap2(self, lst, n):\n",
    "        lst.append(lst.pop(0))\n",
    "    \n",
    "    def ap3(self, lst, n):\n",
    "        lst.append(lst[0])\n",
    "        del lst[0]\n",
    "        \n",
    "    def ap4(self, lst, n):\n",
    "        tmp = lst[0]\n",
    "        for i in range(n-1):\n",
    "            lst[i] = lst[i+1]\n",
    "        lst[n-1] = tmp\n",
    "        return lst"
   ]
  },
  {
   "cell_type": "code",
   "execution_count": 45,
   "id": "d132f3a7",
   "metadata": {
    "scrolled": false
   },
   "outputs": [
    {
     "name": "stdout",
     "output_type": "stream",
     "text": [
      "[20, 30, 40, 50, 60, 10]\n",
      "[20, 30, 40, 50, 60, 10]\n",
      "[20, 30, 40, 50, 60, 10]\n",
      "[20, 30, 40, 50, 60, 10]\n"
     ]
    }
   ],
   "source": [
    "s = LeftRotate()\n",
    "lst = [10, 20, 30, 40, 50, 60]\n",
    "l1 = s.ap1(lst, len(lst))\n",
    "print(l1)\n",
    "\n",
    "lst = [10, 20, 30, 40, 50, 60]\n",
    "s.ap2(lst, len(lst))\n",
    "print(lst)\n",
    "\n",
    "lst = [10, 20, 30, 40, 50, 60]\n",
    "s.ap3(lst, len(lst))\n",
    "print(lst)\n",
    "\n",
    "lst = [10, 20, 30, 40, 50, 60]\n",
    "s.ap4(lst, len(lst))\n",
    "print(lst)"
   ]
  },
  {
   "cell_type": "markdown",
   "id": "d08fb31e",
   "metadata": {},
   "source": [
    "#### ROTATE BY d PLACES"
   ]
  },
  {
   "cell_type": "code",
   "execution_count": 86,
   "id": "47592481",
   "metadata": {
    "scrolled": true
   },
   "outputs": [
    {
     "name": "stdout",
     "output_type": "stream",
     "text": [
      "[5, 6, 8, 3, 4]\n",
      "[5, 6, 8, 3, 4]\n"
     ]
    },
    {
     "data": {
      "text/plain": [
       "[6, 8, 3, 4, 5]"
      ]
     },
     "execution_count": 86,
     "metadata": {},
     "output_type": "execute_result"
    }
   ],
   "source": [
    "l = [3,4,5,6,8]\n",
    "d = 2\n",
    "\n",
    "#### 1\n",
    "print(l[d:]+l[:d])\n",
    "\n",
    "#### 2\n",
    "from collections import deque\n",
    "dq = deque(l)\n",
    "dq.rotate(-d)\n",
    "print(list(dq))\n",
    "\n",
    "#### 3\n",
    "# pop & append - (d loop) O(n^2)\n",
    "\n",
    "#### 4\n",
    "# TC : O(n) ; SC : O(1)\n",
    "list(reversed(list(reversed(l[:-d]))+list(reversed(l[-d:]))))"
   ]
  },
  {
   "cell_type": "markdown",
   "id": "710fad3a",
   "metadata": {},
   "source": [
    "#### MAXIMUM DIFFERENCE"
   ]
  },
  {
   "cell_type": "code",
   "execution_count": 92,
   "id": "9060c7c8",
   "metadata": {},
   "outputs": [
    {
     "data": {
      "text/plain": [
       "10"
      ]
     },
     "execution_count": 92,
     "metadata": {},
     "output_type": "execute_result"
    }
   ],
   "source": [
    "# O(N) => j > i\n",
    "def maxdiff(arr, n):\n",
    "    res=-sys.maxsize\n",
    "    minval = arr[0]\n",
    "    for i in range(1,n):\n",
    "        res = max(res, arr[i]-minval)\n",
    "        minval = min(minval, arr[i])\n",
    "    return res\n",
    "\n",
    "lst = [2,3,10,1,4,8,11]\n",
    "maxdiff(lst, len(lst))"
   ]
  },
  {
   "cell_type": "markdown",
   "id": "bb0af592",
   "metadata": {},
   "source": [
    "#### STOCK BUY & SELL 1"
   ]
  },
  {
   "cell_type": "code",
   "execution_count": null,
   "id": "7e8f1819",
   "metadata": {},
   "outputs": [],
   "source": []
  },
  {
   "cell_type": "markdown",
   "id": "51fa5c8a",
   "metadata": {},
   "source": [
    "#### STOCK BUY & SELL 2"
   ]
  },
  {
   "cell_type": "code",
   "execution_count": null,
   "id": "d5933b60",
   "metadata": {},
   "outputs": [],
   "source": []
  },
  {
   "cell_type": "markdown",
   "id": "28ec9d1c",
   "metadata": {},
   "source": [
    "#### TRAPPING RAIN WATER"
   ]
  },
  {
   "cell_type": "code",
   "execution_count": null,
   "id": "13ef8c36",
   "metadata": {},
   "outputs": [],
   "source": []
  },
  {
   "cell_type": "markdown",
   "id": "83bccef8",
   "metadata": {},
   "source": [
    "#### MAXIMUM SUBARRAY SUM"
   ]
  },
  {
   "cell_type": "code",
   "execution_count": 120,
   "id": "3d68d920",
   "metadata": {},
   "outputs": [
    {
     "data": {
      "text/plain": [
       "4"
      ]
     },
     "execution_count": 120,
     "metadata": {},
     "output_type": "execute_result"
    }
   ],
   "source": [
    "# maxEnding[i] = max(maxEnding[i-1]+arr[i], arr[i])  {either element at that index or max until prev index}\n",
    "def maxSubSum(arr,n):\n",
    "    maxEnding = arr[0]\n",
    "    res = arr[0]\n",
    "    for i in range(1,n):\n",
    "        maxEnding = max(maxEnding+arr[i], arr[i])\n",
    "        res = max(maxEnding, res)\n",
    "    return res\n",
    "\n",
    "arr = [-5,1,-2,3,-1,2,-2]\n",
    "maxSubSum(arr, len(arr))"
   ]
  },
  {
   "cell_type": "markdown",
   "id": "af00d512",
   "metadata": {},
   "source": [
    "#### LONGEST EVEN ODD SUBARRAY"
   ]
  },
  {
   "cell_type": "code",
   "execution_count": 125,
   "id": "d35d0321",
   "metadata": {},
   "outputs": [
    {
     "data": {
      "text/plain": [
       "3"
      ]
     },
     "execution_count": 125,
     "metadata": {},
     "output_type": "execute_result"
    }
   ],
   "source": [
    "def evenOddSub(arr,n):\n",
    "    res = 1\n",
    "    curr = 1\n",
    "    for i in range(1,n):\n",
    "        cur, prev = arr[i]%2, arr[i-1]%2\n",
    "        if (cur==0 and prev==1) or (cur==1 and prev==0):\n",
    "            curr += 1\n",
    "            res = max(res,curr)\n",
    "        else:\n",
    "            curr = 1\n",
    "    return res\n",
    "\n",
    "arr = [5,10,20,6,3,8]\n",
    "evenOddSub(arr,len(arr))"
   ]
  },
  {
   "cell_type": "markdown",
   "id": "15524df9",
   "metadata": {},
   "source": [
    "#### MAXIMUM CIRCULAR SUM SUBARRAY"
   ]
  },
  {
   "cell_type": "code",
   "execution_count": null,
   "id": "3c652fdb",
   "metadata": {},
   "outputs": [],
   "source": []
  },
  {
   "cell_type": "markdown",
   "id": "3c1c2693",
   "metadata": {},
   "source": [
    "#### MAJORITY ELEMENT"
   ]
  },
  {
   "cell_type": "code",
   "execution_count": null,
   "id": "bc86f029",
   "metadata": {},
   "outputs": [],
   "source": []
  },
  {
   "cell_type": "markdown",
   "id": "2743fe90",
   "metadata": {},
   "source": [
    "#### MINIMUM CONSECUTIVE FLIPS"
   ]
  },
  {
   "cell_type": "code",
   "execution_count": null,
   "id": "4032106d",
   "metadata": {},
   "outputs": [],
   "source": [
    "# Groups of 0 & 1, at max differ by one *****\n",
    "    # check 1st & last occuring group (if equal then more count)\n",
    "    # 2nd occuring group from left, will either have 1 group count less or equal\n",
    "    \n",
    "### 111001001001\n",
    "### 00110011"
   ]
  },
  {
   "cell_type": "markdown",
   "id": "0c99d21d",
   "metadata": {},
   "source": [
    "#### PREFIX SUM"
   ]
  },
  {
   "cell_type": "code",
   "execution_count": 116,
   "id": "6dcf4a7a",
   "metadata": {},
   "outputs": [
    {
     "data": {
      "text/plain": [
       "11"
      ]
     },
     "execution_count": 116,
     "metadata": {},
     "output_type": "execute_result"
    }
   ],
   "source": [
    "# O(n) - useful for t test cases (still remains O(n))\n",
    "def pSumFun(arr):\n",
    "    pSum = [arr[0]]\n",
    "    for i in range(1,len(arr)):\n",
    "        pSum.append(pSum[i-1]+arr[i])\n",
    "    return pSum\n",
    "\n",
    "def getSum(arr,l,r):\n",
    "    pSum = pSumFun(arr)    # O(n)\n",
    "    if l == 0:\n",
    "        return pSum[r]\n",
    "    else:\n",
    "        return pSum[r]-pSum[l-1]\n",
    "    \n",
    "arr = [3,4,2,5,6,1]\n",
    "getSum(arr,1,3)\n",
    "\n",
    "# weighted sum\n",
    "    # Using 2 arrays"
   ]
  },
  {
   "cell_type": "markdown",
   "id": "c5d0c593",
   "metadata": {},
   "source": [
    "#### SLIDING WINDOW"
   ]
  },
  {
   "cell_type": "code",
   "execution_count": 105,
   "id": "39e7cede",
   "metadata": {},
   "outputs": [
    {
     "data": {
      "text/plain": [
       "53"
      ]
     },
     "execution_count": 105,
     "metadata": {},
     "output_type": "execute_result"
    }
   ],
   "source": [
    "def kMaxSum(arr,k):\n",
    "    curr = 0\n",
    "    for i in range(k):\n",
    "        curr += arr[i]\n",
    "    res = curr\n",
    "    for i in range(k, len(arr)):\n",
    "        curr += arr[i]-arr[i-k]\n",
    "        res = max(res, curr)\n",
    "    return res\n",
    "\n",
    "arr = [1,8,30,-5,20,7]\n",
    "k = 4\n",
    "kMaxSum(arr, k)"
   ]
  },
  {
   "cell_type": "markdown",
   "id": "2a7f6d6b",
   "metadata": {},
   "source": [
    "#### SUBARRAY WITH GIVEN SUM"
   ]
  },
  {
   "cell_type": "code",
   "execution_count": 111,
   "id": "22d4f543",
   "metadata": {},
   "outputs": [
    {
     "data": {
      "text/plain": [
       "6"
      ]
     },
     "execution_count": 111,
     "metadata": {},
     "output_type": "execute_result"
    }
   ],
   "source": [
    "# O(n)\n",
    "def isSubSum(arr, summ):\n",
    "    curr = arr[0]\n",
    "    i, j = 0, 1\n",
    "    while i <= j and j < len(arr):\n",
    "        if summ == curr:\n",
    "            return True\n",
    "        elif summ > curr:\n",
    "            curr += arr[j]\n",
    "            j += 1\n",
    "        else:\n",
    "            curr -= arr[i]\n",
    "            i += 1\n",
    "\n",
    "arr, summ = [3,2,0,4,7], 6\n",
    "isSubSum(arr, summ)"
   ]
  },
  {
   "cell_type": "markdown",
   "id": "a3de9c7f",
   "metadata": {},
   "source": [
    "#### EQUILIBRIUM POINT"
   ]
  },
  {
   "cell_type": "code",
   "execution_count": 103,
   "id": "ced6204b",
   "metadata": {},
   "outputs": [
    {
     "data": {
      "text/plain": [
       "(True, 4)"
      ]
     },
     "execution_count": 103,
     "metadata": {},
     "output_type": "execute_result"
    }
   ],
   "source": [
    "# O(n)\n",
    "def epoint(arr):\n",
    "    rightsum = sum(arr)\n",
    "    leftsum = 0\n",
    "    for i in range(len(arr)):\n",
    "        rightsum -= arr[i]\n",
    "        if leftsum == rightsum:\n",
    "            return True, i\n",
    "        leftsum += arr[i]\n",
    "    return False\n",
    "\n",
    "arr = [2,5,4,-9,3,2]\n",
    "epoint(arr)"
   ]
  },
  {
   "cell_type": "markdown",
   "id": "85164d43",
   "metadata": {},
   "source": [
    "#### MAXIMUM APPEARING ELEMENT IN A RANGE"
   ]
  },
  {
   "cell_type": "code",
   "execution_count": 98,
   "id": "813507c7",
   "metadata": {
    "scrolled": true
   },
   "outputs": [
    {
     "name": "stdout",
     "output_type": "stream",
     "text": [
      "[0, 1, 2, 2, 3, 2, 1, 1, 0]\n"
     ]
    },
    {
     "data": {
      "text/plain": [
       "4"
      ]
     },
     "execution_count": 98,
     "metadata": {},
     "output_type": "execute_result"
    }
   ],
   "source": [
    "# O(N+MAX) => +1 marker in left to include from that point, -1 marker to nullify that addition from that point\n",
    "def maxAppear(left, right):\n",
    "    maxi = max(right)+2\n",
    "    freq = [0]*maxi\n",
    "    for i in range(len(left)):\n",
    "        freq[left[i]] += 1\n",
    "        freq[right[i]+1] -= 1\n",
    "    for i in range(1,len(freq)):\n",
    "        freq[i] = freq[i] + freq[i-1]\n",
    "    print(freq)\n",
    "    return freq.index(max(freq))\n",
    "\n",
    "left = [1,2,4]\n",
    "right = [4,5,7]\n",
    "maxAppear(left, right)  # 4 is repeating max number of times"
   ]
  },
  {
   "cell_type": "markdown",
   "id": "c06711ed",
   "metadata": {},
   "source": [
    "# RECURSION"
   ]
  },
  {
   "cell_type": "raw",
   "id": "adafb313",
   "metadata": {},
   "source": [
    "ASSUME (N-1)th SOLUTION IS AVAILABLE"
   ]
  },
  {
   "cell_type": "code",
   "execution_count": null,
   "id": "c4fc745f",
   "metadata": {},
   "outputs": [],
   "source": [
    "# Tail Recursion - Function doesn't do anything after last recursive call - More optimized\n",
    "# Tail Call Elimination"
   ]
  },
  {
   "cell_type": "markdown",
   "id": "a72cbe83",
   "metadata": {},
   "source": [
    "#### `ROPE CUTTING`"
   ]
  },
  {
   "cell_type": "code",
   "execution_count": 146,
   "id": "ed3d3da3",
   "metadata": {
    "scrolled": true
   },
   "outputs": [
    {
     "data": {
      "text/plain": [
       "5"
      ]
     },
     "execution_count": 146,
     "metadata": {},
     "output_type": "execute_result"
    }
   ],
   "source": [
    "# O(3^n)\n",
    "def ropeCutting(n, a, b, c):\n",
    "    if n <= -1:\n",
    "        return -1\n",
    "    if n == 0:\n",
    "        return 0\n",
    "    res = max(ropeCutting(n-a, a, b, c), ropeCutting(n-b, a, b, c), ropeCutting(n-c, a, b, c))\n",
    "    if res == -1:\n",
    "        return -1\n",
    "    return res+1\n",
    "\n",
    "n, a, b, c = 5, 2, 5, 1\n",
    "ropeCutting(n, a, b, c)\n",
    "\n",
    "# Better - dp"
   ]
  },
  {
   "cell_type": "markdown",
   "id": "6fd66737",
   "metadata": {},
   "source": [
    "#### `SUBSET`"
   ]
  },
  {
   "cell_type": "code",
   "execution_count": 6,
   "id": "023440ae",
   "metadata": {},
   "outputs": [
    {
     "name": "stdout",
     "output_type": "stream",
     "text": [
      " c b bc a ac ab abc "
     ]
    }
   ],
   "source": [
    "# O(2^n)\n",
    "def subsets(string, sub, ind):\n",
    "    if ind == len(string):\n",
    "        print(sub, end=' ')\n",
    "        return\n",
    "    subsets(string, sub, ind+1)\n",
    "    subsets(string, sub+string[ind], ind+1)\n",
    "\n",
    "string = 'abc'\n",
    "subsets(string, '', 0)"
   ]
  },
  {
   "cell_type": "markdown",
   "id": "f8f7f7ce",
   "metadata": {},
   "source": [
    "#### `TOWER OF HANOI`"
   ]
  },
  {
   "cell_type": "code",
   "execution_count": 23,
   "id": "7bbaccfe",
   "metadata": {},
   "outputs": [
    {
     "name": "stdout",
     "output_type": "stream",
     "text": [
      "Move 1 from  A  to  C\n",
      "Move  2  from  A  to  B\n",
      "Move 1 from  C  to  B\n",
      "Move  3  from  A  to  C\n",
      "Move 1 from  B  to  A\n",
      "Move  2  from  B  to  C\n",
      "Move 1 from  A  to  C\n"
     ]
    }
   ],
   "source": [
    "# N-1 disks from A to B , C as auxillary\n",
    "# Nth disk from A to C\n",
    "# N-1 disks from B to C , A as auxillary\n",
    "\n",
    "# O(2^n)  {Movements = 2^n-1 (G.P)}\n",
    "def toh(n, A, B, C):\n",
    "    if n == 1:\n",
    "        print('Move 1 from ', A, ' to ', C)\n",
    "    else:\n",
    "        toh(n-1, A, C, B) # rec A to B\n",
    "        print('Move ', n, ' from ', A, ' to ', C) # Nth from A to C\n",
    "        toh(n-1, B, A, C) # rec B to C\n",
    "\n",
    "n = 3\n",
    "# source = A, aux = B, destination = C\n",
    "toh(n, 'A', 'B', 'C')"
   ]
  },
  {
   "cell_type": "markdown",
   "id": "f34dea90",
   "metadata": {},
   "source": [
    "#### `JOSEPHUS`"
   ]
  },
  {
   "cell_type": "code",
   "execution_count": 146,
   "id": "d5c6fcc5",
   "metadata": {},
   "outputs": [
    {
     "name": "stdout",
     "output_type": "stream",
     "text": [
      "2\n",
      "3\n"
     ]
    }
   ],
   "source": [
    "# Understand mapping after each recursive call\n",
    "# O(n)\n",
    "\n",
    "def jos(n, k): # 0 -> n-1\n",
    "    if n == 1:\n",
    "        return 0\n",
    "    \n",
    "    return (jos(n-1, k)+k)%n\n",
    "\n",
    "def josStartsWithOne(n, k): # 1 -> n\n",
    "    return jos(n,k)+1\n",
    "\n",
    "print(jos(5,2))\n",
    "print(josStartsWithOne(5,2))"
   ]
  },
  {
   "cell_type": "markdown",
   "id": "104999f3",
   "metadata": {},
   "source": [
    "#### `SUBSET SUM`"
   ]
  },
  {
   "cell_type": "code",
   "execution_count": 37,
   "id": "545d7428",
   "metadata": {},
   "outputs": [
    {
     "data": {
      "text/plain": [
       "2"
      ]
     },
     "execution_count": 37,
     "metadata": {},
     "output_type": "execute_result"
    }
   ],
   "source": [
    "# Count of subsum\n",
    "def subsum(arr, n, summ):\n",
    "    if n == 0:\n",
    "        return 1 if summ == 0 else 0\n",
    "    return subsum(arr, n-1, summ)+subsum(arr, n-1, summ-arr[n-1])\n",
    "\n",
    "arr = [1,2,3]\n",
    "summ = 4\n",
    "subsum(arr, len(arr), summ)    "
   ]
  },
  {
   "cell_type": "markdown",
   "id": "b8f12410",
   "metadata": {},
   "source": [
    "#### `PERMUTATIONS`"
   ]
  },
  {
   "cell_type": "code",
   "execution_count": 6,
   "id": "da12c4a7",
   "metadata": {},
   "outputs": [
    {
     "name": "stdout",
     "output_type": "stream",
     "text": [
      "ABC ACB BAC BCA CAB CBA "
     ]
    }
   ],
   "source": [
    "def permute(s, answer):\n",
    "\tif (len(s) == 0):\n",
    "\t\tprint(answer, end = \" \")\n",
    "\t\treturn\n",
    "\t\n",
    "\tfor i in range(len(s)):\n",
    "\t\tch = s[i]\n",
    "\t\tleft_substr = s[0:i]\n",
    "\t\tright_substr = s[i + 1:]\n",
    "\t\trest = left_substr + right_substr\n",
    "\t\tpermute(rest, answer + ch)\n",
    "\n",
    "\n",
    "answer = \"\"\n",
    "\n",
    "s = \"ABC\"\n",
    "\n",
    "permute(s, answer)"
   ]
  },
  {
   "cell_type": "code",
   "execution_count": null,
   "id": "5c678541",
   "metadata": {},
   "outputs": [],
   "source": []
  },
  {
   "cell_type": "markdown",
   "id": "7324d3cd",
   "metadata": {},
   "source": [
    "# SEARCH"
   ]
  },
  {
   "cell_type": "markdown",
   "id": "ad0d8367",
   "metadata": {},
   "source": [
    "### `BINARY SEARCH`"
   ]
  },
  {
   "cell_type": "code",
   "execution_count": 45,
   "id": "ee902c28",
   "metadata": {},
   "outputs": [
    {
     "data": {
      "text/plain": [
       "6"
      ]
     },
     "execution_count": 45,
     "metadata": {},
     "output_type": "execute_result"
    }
   ],
   "source": [
    "def ibinary(lst, ele):\n",
    "    end = len(lst)-1\n",
    "    start = 0\n",
    "    while start<=end:\n",
    "        mid = (start+end)//2\n",
    "        if lst[mid] == ele:\n",
    "            return mid\n",
    "        elif lst[mid] < ele:\n",
    "            start=mid+1\n",
    "        else:\n",
    "            end=mid-1\n",
    "            \n",
    "ibinary([5,10,15,20,25,30,35],35)"
   ]
  },
  {
   "cell_type": "code",
   "execution_count": 46,
   "id": "a7ec441e",
   "metadata": {
    "scrolled": true
   },
   "outputs": [
    {
     "data": {
      "text/plain": [
       "6"
      ]
     },
     "execution_count": 46,
     "metadata": {},
     "output_type": "execute_result"
    }
   ],
   "source": [
    "def rbinary(lst, ele, start, end):\n",
    "    if start > end:\n",
    "        return -1\n",
    "    mid = (start+end)//2\n",
    "    if lst[mid] == ele:\n",
    "        return mid\n",
    "    elif lst[mid] > ele:\n",
    "        return rbinary(lst, ele, start, mid-1)\n",
    "    else:\n",
    "        return rbinary(lst, ele, mid+1, end)\n",
    "\n",
    "lst = [5,10,15,20,25,30,35]\n",
    "rbinary(lst, 35, 0, len(lst)-1)"
   ]
  },
  {
   "cell_type": "raw",
   "id": "e88b8898",
   "metadata": {},
   "source": [
    "# FIRST OCCURENCE (SORTED ARRAY)"
   ]
  },
  {
   "cell_type": "markdown",
   "id": "c1bf3cd7",
   "metadata": {},
   "source": [
    "###### LAST OCCURENCE (SORTED ARRAY)"
   ]
  },
  {
   "cell_type": "code",
   "execution_count": 48,
   "id": "54fe98f8",
   "metadata": {},
   "outputs": [
    {
     "data": {
      "text/plain": [
       "8"
      ]
     },
     "execution_count": 48,
     "metadata": {},
     "output_type": "execute_result"
    }
   ],
   "source": [
    "# Solution 1 - Naive\n",
    "# Solution 2\n",
    "def lastOccur(lst, ele):\n",
    "    start = 0\n",
    "    end = len(lst)-1\n",
    "    # cnt = 0\n",
    "    while start <= end:\n",
    "        mid = (start+end)//2\n",
    "        if lst[mid] == ele:\n",
    "            pos = mid\n",
    "            start = mid+1\n",
    "        elif lst[mid] > ele:\n",
    "            end = mid-1\n",
    "        else:\n",
    "            start = mid+1\n",
    "        # cnt += 1\n",
    "    # print(cnt)\n",
    "    return pos\n",
    "\n",
    "lst = [5,5,5,10,10,15,20,20,20,25]\n",
    "lastOccur(lst, 20)"
   ]
  },
  {
   "cell_type": "markdown",
   "id": "1bccc2e6",
   "metadata": {},
   "source": [
    "###### COUNT OF ELEMENT"
   ]
  },
  {
   "cell_type": "raw",
   "id": "ecd6f2bb",
   "metadata": {},
   "source": [
    "# NAIVE\n",
    "FIND 1 OCCURENCE & TRAVERSE BOTH SIDES (log(n) + k) {k <= n}\n",
    "\n",
    "# EFFICIENT\n",
    "WRITE FUNC FOR FIRST & LAST OCCURENCE (log(n) + log(n))\n",
    "\n",
    "# BINARY LIST\n",
    "FIND FIRST OCCURENCE, THEN N-I+1"
   ]
  },
  {
   "cell_type": "markdown",
   "id": "5e179f3c",
   "metadata": {},
   "source": [
    "###### SQUARE ROOT"
   ]
  },
  {
   "cell_type": "code",
   "execution_count": 120,
   "id": "970a5c8b",
   "metadata": {},
   "outputs": [],
   "source": [
    "# naive - start from 0 & compare"
   ]
  },
  {
   "cell_type": "code",
   "execution_count": 129,
   "id": "83773dc4",
   "metadata": {},
   "outputs": [],
   "source": [
    "# efficient\n",
    "def sroot(x):\n",
    "    l = 0\n",
    "    r = x\n",
    "    ans = 1\n",
    "    while l <= r:\n",
    "        mid = (l+r)//2\n",
    "        if x == mid**2: # and x < (mid+1)**2:\n",
    "            return mid\n",
    "        elif x < mid**2:\n",
    "            r = mid-1\n",
    "        else:\n",
    "            l = mid+1\n",
    "            ans = mid\n",
    "    return ans"
   ]
  },
  {
   "cell_type": "code",
   "execution_count": 130,
   "id": "207985d2",
   "metadata": {},
   "outputs": [
    {
     "data": {
      "text/plain": [
       "5"
      ]
     },
     "execution_count": 130,
     "metadata": {},
     "output_type": "execute_result"
    }
   ],
   "source": [
    "x = 34\n",
    "sroot(x)"
   ]
  },
  {
   "cell_type": "markdown",
   "id": "a8d8b7b4",
   "metadata": {},
   "source": [
    "##### SEARCH IN INFINITE SIZED ARRAY (sorted)"
   ]
  },
  {
   "cell_type": "code",
   "execution_count": 148,
   "id": "fdc6441d",
   "metadata": {},
   "outputs": [],
   "source": [
    "# NAIVE  -  O(position)\n",
    "    # check for search_element > a[i]\n",
    "\n",
    "# EFFICIENT  -  O(log(position))\n",
    "def search(arr, x):\n",
    "    if arr[0] == x:\n",
    "        return 0\n",
    "    i = 1\n",
    "    while arr[i] < x:\n",
    "        i = i * 2\n",
    "    if arr[i] == x:\n",
    "        return i\n",
    "    return bsearch(arr, i//2 + 1, i-1, x)\n",
    "\n",
    "arr = [2,3,4,5,6,7,8,......]"
   ]
  },
  {
   "cell_type": "markdown",
   "id": "2fe6c57d",
   "metadata": {},
   "source": [
    "##### SEARCH IN SORTED ROTATED ARRAY"
   ]
  },
  {
   "cell_type": "code",
   "execution_count": 150,
   "id": "195716f0",
   "metadata": {},
   "outputs": [],
   "source": [
    "# NAIVE  -  O(N)\n",
    "\n",
    "# EFFICIENT - O(log(N))\n",
    "    # Idea = One half is always sorted and check if element lies in the range of sorted array\n",
    "def search(arr,x):\n",
    "    low = 0\n",
    "    high = len(arr)-1\n",
    "    while low < high:\n",
    "        mid = (low+high)//2\n",
    "        if arr[mid] == x:\n",
    "            return mid\n",
    "        if arr[low] < arr[mid]:\n",
    "            if arr[low] <= x < arr[mid]:\n",
    "                high = mid-1\n",
    "            else:\n",
    "                low = mid+1\n",
    "        else:\n",
    "            if arr[mid] < x <= arr[high]:\n",
    "                low = mid+1\n",
    "            else:\n",
    "                high = mid-1\n",
    "    return -1\n",
    "    \n",
    "arr = [10,20,30,40,2,3,4]"
   ]
  },
  {
   "cell_type": "markdown",
   "id": "01be89f6",
   "metadata": {},
   "source": [
    "##### FIND PEAK ELEMENT (larger than neighbours)"
   ]
  },
  {
   "cell_type": "code",
   "execution_count": null,
   "id": "28dc1a84",
   "metadata": {},
   "outputs": [],
   "source": [
    "# NAIVE\n",
    "    # T.C : O(n)\n",
    "\n",
    "# EFFICIENT\n",
    "    # Not Sure"
   ]
  },
  {
   "cell_type": "markdown",
   "id": "bb916ac5",
   "metadata": {},
   "source": [
    "##### COUNT OCCURENCE IN SORTED ARRAY"
   ]
  },
  {
   "cell_type": "code",
   "execution_count": null,
   "id": "f32ea36f",
   "metadata": {},
   "outputs": [],
   "source": [
    "# NAIVE  -  O(n)\n",
    "# EFFICIENT  -  O(log(n))"
   ]
  },
  {
   "cell_type": "markdown",
   "id": "c0fa87f6",
   "metadata": {},
   "source": [
    "##### TWO POINTERS APPROACH"
   ]
  },
  {
   "cell_type": "code",
   "execution_count": null,
   "id": "f681183b",
   "metadata": {},
   "outputs": [],
   "source": [
    "# Find Pair which sums to x , using 2 pointer approach\n",
    "# NAIVE  -  O(n^2)\n",
    "# EFFICIENT  -  O(n)"
   ]
  },
  {
   "cell_type": "markdown",
   "id": "58afeef4",
   "metadata": {},
   "source": [
    "##### TRIPLET IN SORTED ARRAY"
   ]
  },
  {
   "cell_type": "code",
   "execution_count": null,
   "id": "ccd0f44b",
   "metadata": {},
   "outputs": [],
   "source": [
    "# NAIVE  -  O(n^3)\n",
    "# EFFICIENT  -  O(n^2) {Choose 1 element & then 2-pointer approach from that index}\n",
    "    # SORT (nlog(n))  -  For unsorted array"
   ]
  },
  {
   "cell_type": "markdown",
   "id": "f6d22533",
   "metadata": {},
   "source": [
    "##### MEDIAN OF TWO SORTED ARRAY"
   ]
  },
  {
   "cell_type": "code",
   "execution_count": null,
   "id": "99bc3822",
   "metadata": {},
   "outputs": [],
   "source": [
    "# NAIVE  -  O((n1+n1)log(n1+n2))\n",
    "# EFFICIENT  -  O(log(n1)) {binary search}"
   ]
  },
  {
   "cell_type": "markdown",
   "id": "1911bd99",
   "metadata": {},
   "source": [
    "##### REPEATING ELEMENT"
   ]
  },
  {
   "cell_type": "code",
   "execution_count": null,
   "id": "511753df",
   "metadata": {},
   "outputs": [],
   "source": [
    "# SOLUTION 1  -  T.C : O(n^2)\n",
    "# SOLUTION 2  -  T.C : O(n) & S.C : O(n)\n",
    "# SOLUTION 3  -  T.C : O(n)\n",
    "    # Using slow & fast pointer\n",
    "def repeat():\n",
    "    pass"
   ]
  },
  {
   "cell_type": "markdown",
   "id": "f36f424f",
   "metadata": {},
   "source": [
    "##### ALLOCATE MINIMUM PAGES"
   ]
  },
  {
   "cell_type": "code",
   "execution_count": null,
   "id": "09933708",
   "metadata": {},
   "outputs": [],
   "source": []
  },
  {
   "cell_type": "code",
   "execution_count": null,
   "id": "3342aa3a",
   "metadata": {},
   "outputs": [],
   "source": []
  },
  {
   "cell_type": "markdown",
   "id": "11683cfc",
   "metadata": {},
   "source": [
    "# SORTING"
   ]
  },
  {
   "cell_type": "code",
   "execution_count": 133,
   "id": "562397ea",
   "metadata": {},
   "outputs": [],
   "source": [
    "# list.sort() - inplace\n",
    "sorted?"
   ]
  },
  {
   "cell_type": "code",
   "execution_count": 137,
   "id": "e295b714",
   "metadata": {},
   "outputs": [
    {
     "data": {
      "text/plain": [
       "['sd', 'ksdf', 'sdfas', 'sfksssd']"
      ]
     },
     "execution_count": 137,
     "metadata": {},
     "output_type": "execute_result"
    }
   ],
   "source": [
    "# sort based on length of string\n",
    "def myFunc(s):\n",
    "    return len(s)\n",
    "\n",
    "lst = ['ksdf', 'sd', 'sfksssd', 'sdfas']\n",
    "lst.sort(key=myFunc)\n",
    "lst"
   ]
  },
  {
   "cell_type": "markdown",
   "id": "f27a5750",
   "metadata": {},
   "source": [
    "Sorting user defined using _ _ lt _ _ 1 \n",
    "\n",
    "https://ide.geeksforgeeks.org/fczhJmlABG \n",
    "\n",
    "Sorting user defined using _ _ lt _ _ 2 \n",
    "\n",
    "https://ide.geeksforgeeks.org/nwGtlIAr1F"
   ]
  },
  {
   "cell_type": "markdown",
   "id": "d0d21010",
   "metadata": {},
   "source": [
    "### **`SORTED`**"
   ]
  },
  {
   "cell_type": "code",
   "execution_count": 139,
   "id": "d85133ea",
   "metadata": {},
   "outputs": [
    {
     "data": {
      "text/plain": [
       "[(1, 8), (2, 3), (10, 15)]"
      ]
     },
     "execution_count": 139,
     "metadata": {},
     "output_type": "execute_result"
    }
   ],
   "source": [
    "dct = {10:'dflks', 5:'iwe', 15:'adjfs'}\n",
    "sorted(dct)\n",
    "\n",
    "tdct = [(10,15),(1,8),(2,3)]\n",
    "sorted(tdct)"
   ]
  },
  {
   "cell_type": "code",
   "execution_count": null,
   "id": "bceb9cbc",
   "metadata": {},
   "outputs": [],
   "source": []
  },
  {
   "cell_type": "markdown",
   "id": "6947b94d",
   "metadata": {},
   "source": [
    "### BUBBLE SORT"
   ]
  },
  {
   "cell_type": "code",
   "execution_count": null,
   "id": "d3296f2a",
   "metadata": {},
   "outputs": [],
   "source": []
  },
  {
   "cell_type": "markdown",
   "id": "3ea1a24e",
   "metadata": {},
   "source": [
    "### INSERTION SORT"
   ]
  },
  {
   "cell_type": "code",
   "execution_count": 141,
   "id": "8115b627",
   "metadata": {},
   "outputs": [
    {
     "name": "stdout",
     "output_type": "stream",
     "text": [
      "[2, 4, 5, 7, 8, 9]\n"
     ]
    }
   ],
   "source": [
    "arr = [7,8,5,4,9,2]\n",
    "for i in range(len(arr)-1):\n",
    "    j = i+1\n",
    "    while j > 0:\n",
    "        if arr[j-1] > arr[j]:\n",
    "            arr[j-1], arr[j] = arr[j], arr[j-1]\n",
    "            j -= 1\n",
    "        else:\n",
    "            break\n",
    "print(arr)"
   ]
  },
  {
   "cell_type": "markdown",
   "id": "77de8e8d",
   "metadata": {},
   "source": [
    "### MERGESORT"
   ]
  },
  {
   "cell_type": "code",
   "execution_count": null,
   "id": "baa8bf1d",
   "metadata": {},
   "outputs": [],
   "source": [
    "arr = [7,8,5,4,9,2]\n",
    "def merge2sort(arr, first, last:\n",
    "    if first <= last:\n",
    "        middle = (first+last)//2\n",
    "        merge2sort(arr, first, middle)\n",
    "        merge2sort(arr, middle+1, last)\n",
    "        merge(arr, first, middle, last)\n",
    "               \n",
    "def merge(arr, first, middle, last):\n",
    "    A = arr[first:middle]\n",
    "    B = arr[middle:last+1]\n",
    "    "
   ]
  },
  {
   "cell_type": "markdown",
   "id": "6ddc52db",
   "metadata": {},
   "source": [
    "### QUICKSORT"
   ]
  },
  {
   "cell_type": "code",
   "execution_count": null,
   "id": "6e76cda2",
   "metadata": {},
   "outputs": [],
   "source": []
  },
  {
   "cell_type": "code",
   "execution_count": null,
   "id": "965c12e9",
   "metadata": {},
   "outputs": [],
   "source": []
  },
  {
   "cell_type": "markdown",
   "id": "317d285a",
   "metadata": {},
   "source": [
    "# MATRIX"
   ]
  },
  {
   "cell_type": "markdown",
   "id": "27212e23",
   "metadata": {},
   "source": [
    "##### ANTI-CLOCKWISE ROTATION"
   ]
  },
  {
   "cell_type": "code",
   "execution_count": null,
   "id": "7c1173b5",
   "metadata": {},
   "outputs": [],
   "source": [
    "# NAIVE  {TC : O(N^2)  ;  SC : O(N^2)}\n",
    "    # COL N -> ROW 1 , COL N-1 -> ROW 2 , COL N-2 -> ROW 3 , COL N-3 -> ROW 4, ....\n",
    "    \n",
    "# EFFICIENT  {TC : O(N^2)}\n",
    "    # ARRAY  =>  TRANSPOSE  =>  REVERSE COLUMNS  (TRY AN EXAMPLE)"
   ]
  },
  {
   "cell_type": "markdown",
   "id": "fabf5153",
   "metadata": {},
   "source": [
    "##### SPIRAL TRAVERSAL"
   ]
  },
  {
   "cell_type": "code",
   "execution_count": null,
   "id": "f55a8863",
   "metadata": {},
   "outputs": [],
   "source": [
    "arr = [[1,2,3,4],[5,6,7,8],[9,10,11,12],[13,14,15,16]]\n",
    "\n",
    "# 1,2,3,4,8,12,16,15,14,13,9,5,6,7,11,10\n",
    "\n",
    "def spiralTraversal(arr):\n",
    "    toprow = 0\n",
    "    rightcol = len(arr[0])\n",
    "    bottomrow = len(arr)\n",
    "    leftcol = 0\n",
    "    \n",
    "    "
   ]
  },
  {
   "cell_type": "markdown",
   "id": "9a16b485",
   "metadata": {},
   "source": [
    "##### SEARCH IN A ROW & COLUMNWISE SORTED MATRIX"
   ]
  },
  {
   "cell_type": "code",
   "execution_count": null,
   "id": "2c2afbed",
   "metadata": {},
   "outputs": [],
   "source": []
  },
  {
   "cell_type": "markdown",
   "id": "bee6c79f",
   "metadata": {},
   "source": [
    "##### MEDIAN OF ROW WISE SORTED MATRIX"
   ]
  },
  {
   "cell_type": "code",
   "execution_count": null,
   "id": "3709219f",
   "metadata": {},
   "outputs": [],
   "source": []
  },
  {
   "cell_type": "code",
   "execution_count": null,
   "id": "1b46eadd",
   "metadata": {},
   "outputs": [],
   "source": []
  },
  {
   "cell_type": "markdown",
   "id": "371000bc",
   "metadata": {},
   "source": [
    "# HASHING"
   ]
  },
  {
   "cell_type": "code",
   "execution_count": null,
   "id": "78e6f62f",
   "metadata": {},
   "outputs": [],
   "source": [
    "class MyHash:\n",
    "    def __init__(self, b):\n",
    "        self.BUCKET = b\n",
    "        self.table = [[] for x in range(b)]\n",
    "        \n",
    "    def insert(self, x):\n",
    "        i = x % self.BUCKET\n",
    "        self.table[i].append(x)\n",
    "        \n",
    "    def remove(self, x):\n",
    "        i = x % self.BUCKET\n",
    "        if x in self.table[i]:\n",
    "            self.table[i].remove(x)\n",
    "        \n",
    "    def search(self, x):\n",
    "        i = x % self.BUCKET\n",
    "        return x in self.table[i]"
   ]
  },
  {
   "cell_type": "markdown",
   "id": "23e9afc7",
   "metadata": {},
   "source": [
    "`LINEAR PROBING` - OPEN ADDRESSING"
   ]
  },
  {
   "cell_type": "code",
   "execution_count": 64,
   "id": "d7eff789",
   "metadata": {},
   "outputs": [],
   "source": [
    "# insert() - linearly search for empty slot, if slot isn't empty.\n",
    "# search() - search until empty slot, if isn't present in slot.\n",
    "# delete() - mark deleted slot as DELETED, SO search for delete won't stop at deleted slot.\n",
    "# PRIMARY CLUSTER PROBLEM\n",
    "\n",
    "class MyHash:\n",
    "    pass"
   ]
  },
  {
   "cell_type": "markdown",
   "id": "67019b6d",
   "metadata": {},
   "source": [
    "`QUADRATIC PROBING`"
   ]
  },
  {
   "cell_type": "code",
   "execution_count": 65,
   "id": "bc300b42",
   "metadata": {},
   "outputs": [],
   "source": [
    "# SECONDARY CLUSTER PROBLEM"
   ]
  },
  {
   "cell_type": "markdown",
   "id": "609bb1dd",
   "metadata": {},
   "source": [
    "`DOUBLE HASHING`"
   ]
  },
  {
   "cell_type": "code",
   "execution_count": null,
   "id": "4bf287e2",
   "metadata": {},
   "outputs": [],
   "source": [
    "# Double hashing is an advanced Open addressing technique that effectively  **mitigates clustering**.\n",
    "# By employing two distinct hash functions, it optimizes the probing sequence by utilizing one function \n",
    "# for generating the index and the other for determining the increments."
   ]
  },
  {
   "cell_type": "code",
   "execution_count": 69,
   "id": "d85f1fd3",
   "metadata": {},
   "outputs": [
    {
     "data": {
      "text/plain": [
       "True"
      ]
     },
     "execution_count": 69,
     "metadata": {},
     "output_type": "execute_result"
    }
   ],
   "source": [
    "'a' < 'b'"
   ]
  },
  {
   "cell_type": "markdown",
   "id": "f2fcd3c8",
   "metadata": {},
   "source": [
    "#### SET"
   ]
  },
  {
   "cell_type": "code",
   "execution_count": null,
   "id": "3c69f31d",
   "metadata": {},
   "outputs": [],
   "source": [
    "# INTERNALLY USES HASHING (SEARCH, ..) -> FASTER OPERATION (UNION, INTERSECTION, DIFFERENCE, ..)\n",
    "# HASHING => NO ORDER"
   ]
  },
  {
   "cell_type": "code",
   "execution_count": 41,
   "id": "01acfb8a",
   "metadata": {},
   "outputs": [
    {
     "name": "stdout",
     "output_type": "stream",
     "text": [
      "<class 'dict'>\n",
      "<class 'set'>\n"
     ]
    }
   ],
   "source": [
    "print(type({}))\n",
    "print(type(set()))"
   ]
  },
  {
   "cell_type": "code",
   "execution_count": 48,
   "id": "bcef24c4",
   "metadata": {
    "collapsed": true
   },
   "outputs": [
    {
     "name": "stdout",
     "output_type": "stream",
     "text": [
      "{50, 3, 2, 5, 6, 7, 45, 30}\n",
      "{50, 3, 2, 6, 7, 30}\n",
      "set()\n"
     ]
    },
    {
     "ename": "NameError",
     "evalue": "name 's' is not defined",
     "output_type": "error",
     "traceback": [
      "\u001b[0;31m---------------------------------------------------------------------------\u001b[0m",
      "\u001b[0;31mNameError\u001b[0m                                 Traceback (most recent call last)",
      "Cell \u001b[0;32mIn[48], line 12\u001b[0m\n\u001b[1;32m     10\u001b[0m \u001b[38;5;28mprint\u001b[39m(s)\n\u001b[1;32m     11\u001b[0m \u001b[38;5;28;01mdel\u001b[39;00m s\n\u001b[0;32m---> 12\u001b[0m \u001b[38;5;28mprint\u001b[39m(\u001b[43ms\u001b[49m)\n",
      "\u001b[0;31mNameError\u001b[0m: name 's' is not defined"
     ]
    }
   ],
   "source": [
    "s = set()\n",
    "s.add(30)\n",
    "s.update([45,50])\n",
    "s.update( {3,5,6} , [3,5,2,7,6] )\n",
    "print(s)\n",
    "s.discard(45)  # No error if item not present\n",
    "s.remove(5)\n",
    "print(s)\n",
    "s.clear()\n",
    "print(s)\n",
    "del s   # remove whole set object\n",
    "print(s)"
   ]
  },
  {
   "cell_type": "code",
   "execution_count": 56,
   "id": "0c970903",
   "metadata": {},
   "outputs": [
    {
     "name": "stdout",
     "output_type": "stream",
     "text": [
      "{2, 3, 4, 6, 8, 9}\n",
      "{2, 3, 4, 6, 8, 9}\n",
      "{6}\n",
      "{6}\n",
      "{8, 2, 4}\n",
      "{8, 2, 4}\n",
      "{2, 3, 4, 8, 9}\n",
      "{2, 3, 4, 8, 9}\n"
     ]
    }
   ],
   "source": [
    "s1 = set([2,4,6,8])\n",
    "s2 = set([3,6,9])\n",
    "\n",
    "print(s1 | s2)\n",
    "print(s1.union(s2))\n",
    "\n",
    "print(s1 & s2)\n",
    "print(s1.intersection(s2))\n",
    "\n",
    "print(s1 - s2)\n",
    "print(s1.difference(s2))\n",
    "\n",
    "# symmetric difference, XOR\n",
    "# all except common elements\n",
    "print(s1 ^ s2)\n",
    "print(s1.symmetric_difference(s2))"
   ]
  },
  {
   "cell_type": "code",
   "execution_count": 58,
   "id": "90576dca",
   "metadata": {},
   "outputs": [
    {
     "name": "stdout",
     "output_type": "stream",
     "text": [
      "False\n",
      "False\n",
      "False\n",
      "False\n",
      "False\n",
      "False\n",
      "False\n"
     ]
    }
   ],
   "source": [
    "s1 = set([2,4,6,8])\n",
    "s2 = set([3,6,9])\n",
    "\n",
    "print(s1.isdisjoint(s2))\n",
    "\n",
    "print(s1 <= s2)\n",
    "print(s1.issubset(s2))\n",
    "\n",
    "# proper subset\n",
    "print(s1 < s2)\n",
    "\n",
    "print(s1 >= s2)\n",
    "print(s1.issuperset(s2))\n",
    "\n",
    "# proper superset\n",
    "print(s1 > s2)"
   ]
  },
  {
   "cell_type": "markdown",
   "id": "3168c555",
   "metadata": {},
   "source": [
    "#### DICTIONARY"
   ]
  },
  {
   "cell_type": "code",
   "execution_count": 62,
   "id": "b87487cc",
   "metadata": {},
   "outputs": [
    {
     "name": "stdout",
     "output_type": "stream",
     "text": [
      "mye\n",
      "(115, 'oed')\n"
     ]
    }
   ],
   "source": [
    "d = {100: 'xys', 105: 'mye', 110: 'wed', 115: 'oed'}\n",
    "print(d.pop(105))\n",
    "print(d.popitem())\n",
    "# del d\n",
    "# print(d)"
   ]
  },
  {
   "cell_type": "markdown",
   "id": "6d63e796",
   "metadata": {},
   "source": [
    "#### INTERSECTION OF TWO ARRAYS"
   ]
  },
  {
   "cell_type": "code",
   "execution_count": null,
   "id": "e3647d65",
   "metadata": {},
   "outputs": [],
   "source": []
  },
  {
   "cell_type": "markdown",
   "id": "32ecc4d3",
   "metadata": {},
   "source": [
    "#### UNION OF TWO UNSORTED ARRAY"
   ]
  },
  {
   "cell_type": "code",
   "execution_count": null,
   "id": "daee7e54",
   "metadata": {},
   "outputs": [],
   "source": []
  },
  {
   "cell_type": "markdown",
   "id": "4cc9c3c2",
   "metadata": {},
   "source": []
  },
  {
   "cell_type": "code",
   "execution_count": null,
   "id": "dd2c0b7c",
   "metadata": {},
   "outputs": [],
   "source": []
  },
  {
   "cell_type": "code",
   "execution_count": null,
   "id": "6054bde8",
   "metadata": {},
   "outputs": [],
   "source": []
  },
  {
   "cell_type": "code",
   "execution_count": null,
   "id": "27383248",
   "metadata": {},
   "outputs": [],
   "source": []
  },
  {
   "cell_type": "code",
   "execution_count": null,
   "id": "2632b184",
   "metadata": {},
   "outputs": [],
   "source": []
  },
  {
   "cell_type": "markdown",
   "id": "8ac9b3bb",
   "metadata": {},
   "source": [
    "# STRING"
   ]
  },
  {
   "cell_type": "code",
   "execution_count": 73,
   "id": "cfa9d389",
   "metadata": {},
   "outputs": [
    {
     "name": "stdout",
     "output_type": "stream",
     "text": [
      "97\n",
      "B\n",
      "hello\n",
      "world\n",
      "hello\\nworld\n"
     ]
    }
   ],
   "source": [
    "print(ord('a'))\n",
    "print(chr(66))\n",
    "print('hello\\nworld')\n",
    "print(r'hello\\nworld') # raw string"
   ]
  },
  {
   "cell_type": "code",
   "execution_count": 82,
   "id": "654fbef3",
   "metadata": {},
   "outputs": [
    {
     "name": "stdout",
     "output_type": "stream",
     "text": [
      "Welcome abc to the python course\n",
      "Welcome ABC to the python course\n",
      "Evaluation = 10\n"
     ]
    }
   ],
   "source": [
    "# FORMAT STRING\n",
    "name = 'abc'\n",
    "course = 'python course'\n",
    "# Using %\n",
    "# Using .format()\n",
    "print('Welcome {0} to the {1}'.format(name, course))\n",
    "# Using f_string\n",
    "print(f'Welcome {name.upper()} to the {course}')\n",
    "a,b,c = 2,3,4\n",
    "print(f'Evaluation = {a*b+c}')"
   ]
  },
  {
   "cell_type": "code",
   "execution_count": 88,
   "id": "ae33bd7f",
   "metadata": {
    "scrolled": true
   },
   "outputs": [
    {
     "name": "stdout",
     "output_type": "stream",
     "text": [
      "True\n",
      "3\n",
      "11\n",
      "3\n",
      "-1\n",
      "True\n",
      "True\n"
     ]
    }
   ],
   "source": [
    "# STRING STORED AS UNICODE, NOT ASCII\n",
    "'abcd' > 'abc'\n",
    "\n",
    "# OPERATIONS\n",
    "s1 = 'geeks'\n",
    "s2 = 'newgeeksforgeeks'\n",
    "print(s1 in s2)           # SUBSTRING\n",
    "print(s2.index(s1))\n",
    "print(s2.rindex(s1))\n",
    "print(s2.index(s1, 0, 9))\n",
    "print(s2.find('kdsjlf'))      # returns -1 atleast\n",
    "\n",
    "print(s2.startswith('newg'))\n",
    "print(s2.endswith('geeks'))\n",
    "# len(), split, join, rstrip, lstrip, strip('-') not just spaces,"
   ]
  },
  {
   "cell_type": "markdown",
   "id": "e75143df",
   "metadata": {},
   "source": [
    "###### STRING ROTATION"
   ]
  },
  {
   "cell_type": "code",
   "execution_count": 101,
   "id": "eb19a34a",
   "metadata": {},
   "outputs": [
    {
     "name": "stdout",
     "output_type": "stream",
     "text": [
      "no\n"
     ]
    }
   ],
   "source": [
    "s1, s2 = 'abcd', 'bdda'\n",
    "# NAIVE\n",
    "for i in range(1,len(s1)):\n",
    "    if s1 == (s2[i:]+s2[:i]):\n",
    "        print('yes')\n",
    "        \n",
    "# EFFICIENT\n",
    "temp = s1+s1\n",
    "if temp.find(s2) != -1:\n",
    "    print('yes')\n",
    "else:\n",
    "    print('no')"
   ]
  },
  {
   "cell_type": "markdown",
   "id": "e8b516e0",
   "metadata": {},
   "source": [
    "###### SUBSESQUENCE ** **"
   ]
  },
  {
   "cell_type": "code",
   "execution_count": 107,
   "id": "96ff00ad",
   "metadata": {},
   "outputs": [
    {
     "name": "stdout",
     "output_type": "stream",
     "text": [
      "no\n"
     ]
    },
    {
     "data": {
      "text/plain": [
       "False"
      ]
     },
     "execution_count": 107,
     "metadata": {},
     "output_type": "execute_result"
    }
   ],
   "source": [
    "s1, s2 = 'GEEKSFORGEEKS', 'GRGES'\n",
    "# BRUTE\n",
    "# 0(2^n * n)\n",
    "\n",
    "\n",
    "# EFFICIENT ()\n",
    "i,j = 0,0\n",
    "while i != len(s1) and j != len(s2):\n",
    "    if s1[i] == s2[j]:\n",
    "        j += 1\n",
    "    i += 1\n",
    "print('yes' if j == len(s2) else 'no')\n",
    "\n",
    "\n",
    "# RECURSION\n",
    "def isSubseq(s1,s2,m,n):\n",
    "    if n == 0:\n",
    "        return True\n",
    "    if m == 0:\n",
    "        return False\n",
    "    if s1[m-1] == s2[n-1]:\n",
    "        return isSubseq(s1,s2,m-1,n-1)\n",
    "    else:\n",
    "        return isSubseq(s1,s2,m-1,n)\n",
    "isSubseq(s1,s2,len(s1),len(s2))"
   ]
  },
  {
   "cell_type": "markdown",
   "id": "a482965b",
   "metadata": {},
   "source": [
    "###### ANAGRAM"
   ]
  },
  {
   "cell_type": "code",
   "execution_count": null,
   "id": "3ce156ec",
   "metadata": {},
   "outputs": [],
   "source": [
    "# NAIVE\n",
    "# sort - O(nlogn)\n",
    "\n",
    "# EFFICIENT\n",
    "# hashmaps (same map inc+dec) - O(n)"
   ]
  },
  {
   "cell_type": "markdown",
   "id": "96aaea59",
   "metadata": {},
   "source": [
    "###### REPEATING & NON-REPEATING CHARACTER"
   ]
  },
  {
   "cell_type": "raw",
   "id": "851648b7",
   "metadata": {},
   "source": [
    "# REPEATING (return index)(abccb -> 1)\n",
    "M1 - O(n^2)\n",
    "M2 - O(n)\n",
    "M3 - O(n) keep track of index\n",
    "M4 - O(n) right to left traversal\n",
    "\n",
    "# NON-REPEATING\n"
   ]
  },
  {
   "cell_type": "markdown",
   "id": "397a4bea",
   "metadata": {},
   "source": [
    "###### REVERSE WORDS IN STRING"
   ]
  },
  {
   "cell_type": "code",
   "execution_count": null,
   "id": "05ffdef3",
   "metadata": {},
   "outputs": [],
   "source": [
    "string = 'Welcome to coding world' # -> 'world coding to Welcome'\n",
    "# NAIVE\n",
    "# PUSH WORDS INTO STACK\n",
    "\n",
    "# EFFICIENT\n",
    "'''\n",
    "1. reverse each word \n",
    "2. reverse whole string\n",
    "'''"
   ]
  },
  {
   "cell_type": "code",
   "execution_count": null,
   "id": "b241d30e",
   "metadata": {},
   "outputs": [],
   "source": []
  },
  {
   "cell_type": "markdown",
   "id": "037fc4b5",
   "metadata": {},
   "source": [
    "# LINKED LIST"
   ]
  },
  {
   "cell_type": "code",
   "execution_count": null,
   "id": "9c36cf7e",
   "metadata": {},
   "outputs": [],
   "source": [
    "class Node:\n",
    "    def __init__(self,key):\n",
    "        self.val = key\n",
    "        self.next = None\n",
    "        \n",
    "# search"
   ]
  },
  {
   "cell_type": "code",
   "execution_count": null,
   "id": "64c6a357",
   "metadata": {},
   "outputs": [],
   "source": [
    "# insert at beg\n",
    "# insert at end\n",
    "# insert at given position\n",
    "\n",
    "# delete at given position\n",
    "# delete first node\n",
    "# delete last node"
   ]
  },
  {
   "cell_type": "code",
   "execution_count": null,
   "id": "a175a61a",
   "metadata": {},
   "outputs": [],
   "source": [
    "# delete node with pointer given to it\n",
    "def deletenode(ptr):\n",
    "    temp = ptr.next\n",
    "    ptr.data = temp.data\n",
    "    ptr.next = temp.next\n",
    "    \n",
    "# LAST NODE CANNOT BE DELETED"
   ]
  },
  {
   "cell_type": "code",
   "execution_count": null,
   "id": "e18a3e77",
   "metadata": {},
   "outputs": [],
   "source": [
    "# sorted insert linked list\n",
    "\n",
    "###### HANDLE CORNER CASES ######"
   ]
  },
  {
   "cell_type": "markdown",
   "id": "0835c47b",
   "metadata": {},
   "source": [
    "###### MIDDLE OF LINKED LIST"
   ]
  },
  {
   "cell_type": "code",
   "execution_count": null,
   "id": "6641ba4e",
   "metadata": {},
   "outputs": [],
   "source": [
    "# NAIVE\n",
    "\n",
    "# EFFICIENT (NOT MUCH EFFICIENT IG)\n",
    "\n",
    "# use 2 pointers at a time - skip 1 node & skip 2 node\n",
    "def middle(head):\n",
    "    if head == None:\n",
    "        return\n",
    "    slow = head\n",
    "    fast = head\n",
    "    while fast != None or fast.next != None:\n",
    "        slow = slow.next\n",
    "        fast = fast.next.next\n",
    "    print(slow.data)    # middle"
   ]
  },
  {
   "cell_type": "markdown",
   "id": "4f2e1d7c",
   "metadata": {},
   "source": [
    "###### Kth NODE FROM THE END OF LINKED LIST"
   ]
  },
  {
   "cell_type": "code",
   "execution_count": null,
   "id": "cc5f84bc",
   "metadata": {},
   "outputs": [],
   "source": [
    "# METHOD 1\n",
    "\n",
    "# METHOD 2\n",
    "\n",
    "# 2 pointers - move 1 pointer by K positions, then move both in same speed\n",
    "# didn't handle corner cases\n",
    "def knode(head, k):\n",
    "    node1 = head\n",
    "    node2 = head\n",
    "    while k != 0:\n",
    "        node1 = node1.next\n",
    "        k -= 1\n",
    "    while node1:\n",
    "        node1 = node1.next\n",
    "        node2 = node2.next\n",
    "    print(node2.next)  # kth node from end"
   ]
  },
  {
   "cell_type": "code",
   "execution_count": null,
   "id": "14f612ce",
   "metadata": {},
   "outputs": [],
   "source": [
    "# remove duplicates in sorted"
   ]
  },
  {
   "cell_type": "markdown",
   "id": "7735855f",
   "metadata": {},
   "source": [
    "###### REVERSE LINKED LIST"
   ]
  },
  {
   "cell_type": "code",
   "execution_count": null,
   "id": "68bd67e4",
   "metadata": {},
   "outputs": [],
   "source": [
    "# NAIVE\n",
    "# use stack\n",
    "\n",
    "# EFFICIENT\n",
    "def reverse(head):\n",
    "    curr = head\n",
    "    prev = None\n",
    "    while curr:\n",
    "        nxt = curr.next\n",
    "        curr.next = prev\n",
    "        prev = curr\n",
    "        node = nxt\n",
    "    return prev  # new head"
   ]
  },
  {
   "cell_type": "markdown",
   "id": "03fe0e39",
   "metadata": {},
   "source": [
    "###### RECURSIVE REVERSE LINKED LIST *******"
   ]
  },
  {
   "cell_type": "code",
   "execution_count": 186,
   "id": "dd9c0934",
   "metadata": {},
   "outputs": [],
   "source": [
    "# METHOD 1 - { recur => reverse }\n",
    "def reverse(head):\n",
    "    if head is None or head.next is None:\n",
    "        return head\n",
    "    resthead = reverse(head.next)\n",
    "    resttail = head.next\n",
    "    resttail.next = head\n",
    "    head.next = None\n",
    "    return resthead"
   ]
  },
  {
   "cell_type": "code",
   "execution_count": 187,
   "id": "1af77820",
   "metadata": {},
   "outputs": [],
   "source": [
    "# METHOD 2 - { reverse => recur }\n",
    "# TAIL RECURSION - works better in other languages\n",
    "def reverse(cur, prev=None):\n",
    "    # base case\n",
    "    if cur is None:\n",
    "        return prev\n",
    "    nxt = cur.next\n",
    "    cur.next = prev\n",
    "    return reverse(nxt, cur)"
   ]
  },
  {
   "cell_type": "markdown",
   "id": "cf278ae7",
   "metadata": {},
   "source": [
    "###### REVERSE IN k SIZE"
   ]
  },
  {
   "cell_type": "code",
   "execution_count": 188,
   "id": "6f2daf36",
   "metadata": {},
   "outputs": [],
   "source": [
    "# recursive\n",
    "def reversek(head,k):\n",
    "    cur = head\n",
    "    prev, nxt = None, None\n",
    "    count = 0\n",
    "    while cur and count < k:\n",
    "        temp = cur.next\n",
    "        cur.next = prev\n",
    "        prev = cur\n",
    "        cur = temp\n",
    "        count += 1\n",
    "    if cur != None:\n",
    "        remhead = reversek(cur, k)    # assume it reverses for rest of the nodes\n",
    "        head.next = remhead\n",
    "    return prev\n",
    "\n",
    "# iterative"
   ]
  },
  {
   "cell_type": "markdown",
   "id": "a58639eb",
   "metadata": {},
   "source": [
    "###### LOOP DETECTION"
   ]
  },
  {
   "cell_type": "code",
   "execution_count": null,
   "id": "a6d79b5f",
   "metadata": {},
   "outputs": [],
   "source": [
    "# METHOD1 - O(n^2)\n",
    "\n",
    "# METHOD2 - O(n) {add extra variable (visited) to the Node class}\n",
    "\n",
    "# METHOD3 - {create another linked list, add dummy to every other node}\n",
    "\n",
    "# METHOD4 - O(n) {add every node to set & check for repitition}"
   ]
  },
  {
   "cell_type": "code",
   "execution_count": null,
   "id": "99baeb5a",
   "metadata": {},
   "outputs": [],
   "source": [
    "# METHOD5 - O(n) {Floyd's cycle detection} *****\n",
    "    \n",
    "    # slow(1) & fast(2) pointer => will meet at a certain point\n",
    "    \n",
    "def hasCycle(self, head: Optional[ListNode]) -> bool:\n",
    "    if not head:\n",
    "        return False\n",
    "    slow = head\n",
    "    fast = head\n",
    "    while fast != None and fast.next != None:\n",
    "        slow = slow.next\n",
    "        fast = fast.next.next\n",
    "        if slow == fast:\n",
    "            return True\n",
    "    return False\n",
    "\n",
    "### TC : O(m+n)\n",
    "###### why does this work (2 pointers at a loop) ??"
   ]
  },
  {
   "cell_type": "markdown",
   "id": "3289c626",
   "metadata": {},
   "source": [
    "##### REMOVE LOOP"
   ]
  },
  {
   "cell_type": "code",
   "execution_count": null,
   "id": "40bacecc",
   "metadata": {},
   "outputs": [],
   "source": []
  },
  {
   "cell_type": "markdown",
   "id": "f719ef89",
   "metadata": {},
   "source": [
    "##### INTERSECTION POINT IN LL"
   ]
  },
  {
   "cell_type": "code",
   "execution_count": null,
   "id": "1dbf972f",
   "metadata": {},
   "outputs": [],
   "source": [
    "# NAIVE (Add to set)\n",
    "# Time : O(m+n)  # Space : O(m)\n",
    "\n",
    "# EFFICIENT\n",
    "# O(1) space\n",
    "def intersection(head1, head2):\n",
    "    d = # calculate difference between length of 2  (l2 - l1)\n",
    "    if l1 > l2:\n",
    "        cur1, cur2 = head1, head2\n",
    "    else:\n",
    "        cur1, cur2 = head2, head1\n",
    "    # move longer list by d position\n",
    "    while d:\n",
    "        if cur1 == None:\n",
    "            return\n",
    "        cur1 = cur1.next\n",
    "        d -= 1\n",
    "    while cur1 != None or cur2 != None:\n",
    "        if cur1 == cur2:\n",
    "            return\n",
    "        cur1 = cur1.next\n",
    "        cur2 = cur2.next"
   ]
  },
  {
   "cell_type": "markdown",
   "id": "c9a195b2",
   "metadata": {},
   "source": [
    "##### SEGREGATE EVEN & ODD NODE"
   ]
  },
  {
   "cell_type": "code",
   "execution_count": null,
   "id": "2a0dbc07",
   "metadata": {},
   "outputs": [],
   "source": [
    "# NAIVE (2 pass)\n",
    "def segregate(head):\n",
    "    # pass 1\n",
    "        # get tail\n",
    "    # pass 2\n",
    "        # append odd node to end of tail\n",
    "\n",
    "# EFFICIENT\n",
    "def segregate(head):\n",
    "    pass"
   ]
  },
  {
   "cell_type": "markdown",
   "id": "16f39b92",
   "metadata": {},
   "source": [
    "##### PAIRWISE SWAP NODE"
   ]
  },
  {
   "cell_type": "code",
   "execution_count": null,
   "id": "476c367e",
   "metadata": {},
   "outputs": [],
   "source": [
    "# METHOD 1 (NAIVE)\n",
    "    # SWAP DATA\n",
    "    \n",
    "# METHOD 2 (SWAP LINKS)\n",
    "def pswap(head):\n",
    "    if head is None or head.next is None:\n",
    "        return head\n",
    "    prev = head\n",
    "    cur = head.cur.cur\n",
    "    head = head.next\n",
    "    head.next = prev\n",
    "    while cur and cur.net != None:\n",
    "        pass"
   ]
  },
  {
   "cell_type": "markdown",
   "id": "1283ecf0",
   "metadata": {},
   "source": [
    "##### MERGE TWO SORTED LINKED LISTS"
   ]
  },
  {
   "cell_type": "code",
   "execution_count": null,
   "id": "67aca850",
   "metadata": {},
   "outputs": [],
   "source": [
    "def merge(head1, head2):\n",
    "    head = None\n",
    "    tail = None\n",
    "    if head1.data < head2.data:\n",
    "        head = tail = head1\n",
    "        head1 = head1.next\n",
    "    else:\n",
    "        head = tail = head1\n",
    "        head2 = head2.next\n",
    "    while head1.next != None or head2.next != None:\n",
    "        # move head1 and head2 simultaneously\n",
    "            \n",
    "    # add rest of head1 or head2 to tail"
   ]
  },
  {
   "cell_type": "markdown",
   "id": "f28b066a",
   "metadata": {},
   "source": [
    "##### PALINDROME LINKED LIST"
   ]
  },
  {
   "cell_type": "code",
   "execution_count": null,
   "id": "937faf4b",
   "metadata": {},
   "outputs": [],
   "source": [
    "# NAIVE \n",
    "    # put into stack & (pop & traverse again)  \n",
    "# EFFICIENT\n"
   ]
  },
  {
   "cell_type": "markdown",
   "id": "8fcf20c5",
   "metadata": {},
   "source": [
    "###### CIRCULAR LINKED LIST"
   ]
  },
  {
   "cell_type": "code",
   "execution_count": null,
   "id": "0a3283a3",
   "metadata": {},
   "outputs": [],
   "source": [
    "# traversal\n",
    "\n",
    "# insert tail & head\n",
    "    # naive - O(n)\n",
    "    # efficient - O(1) (place after head & swap)\n",
    "    \n",
    "# delete head\n",
    "    # naive - O(n)\n",
    "    # efficient - O(1) (copy next to head & delete next)"
   ]
  },
  {
   "cell_type": "markdown",
   "id": "5464dcf7",
   "metadata": {},
   "source": [
    "###### DOUBLY LINKED LIST  *********"
   ]
  },
  {
   "cell_type": "code",
   "execution_count": 184,
   "id": "f11c2fb5",
   "metadata": {},
   "outputs": [],
   "source": [
    "# CHANGE ONLY FOR THAT PARTICULAR NODE\n",
    "def reverseDLL(head):\n",
    "    if head is None and head.next is None:\n",
    "        return head\n",
    "    cur = head\n",
    "    prev = None\n",
    "    while cur:\n",
    "        temp = cur.next\n",
    "        cur.next = prev\n",
    "        cur.prev = temp\n",
    "        prev = cur\n",
    "        cur = temp\n",
    "    return prev"
   ]
  },
  {
   "cell_type": "code",
   "execution_count": null,
   "id": "2f9385e9",
   "metadata": {},
   "outputs": [],
   "source": []
  },
  {
   "cell_type": "code",
   "execution_count": null,
   "id": "fe03f2b3",
   "metadata": {},
   "outputs": [],
   "source": []
  },
  {
   "cell_type": "markdown",
   "id": "5d7bf1ff",
   "metadata": {},
   "source": [
    "# STACK"
   ]
  },
  {
   "cell_type": "code",
   "execution_count": 2,
   "id": "88cbbe35",
   "metadata": {},
   "outputs": [
    {
     "name": "stdout",
     "output_type": "stream",
     "text": [
      "[4]\n",
      "deque([5])\n",
      "4\n"
     ]
    }
   ],
   "source": [
    "# Using List\n",
    "stack1 = list()\n",
    "stack1.append(5)\n",
    "stack1.pop()\n",
    "stack1.append(4)\n",
    "print(stack1)\n",
    "\n",
    "\n",
    "# From collections.deque\n",
    "from collections import deque\n",
    "stack2 = deque()\n",
    "stack2.append(4)\n",
    "stack2.pop()\n",
    "stack2.append(5)\n",
    "print(stack2)\n",
    "\n",
    "\n",
    "import math\n",
    "# Using linkedlist (constant time -> if u chose beginning)\n",
    "class Node:\n",
    "    def __init__(self, data=None):\n",
    "        self.data = data\n",
    "        self.next = None\n",
    "        \n",
    "class MyStack:\n",
    "    def __init__(self):\n",
    "        self.head = None\n",
    "        self.size = 0\n",
    "        \n",
    "    def push(self, data):\n",
    "        temp = Node(data)\n",
    "        temp.next = self.head\n",
    "        self.head = temp\n",
    "        self.size += 1\n",
    "    \n",
    "    def pop(self):\n",
    "        if self.head == None:\n",
    "            return math.inf\n",
    "        val = self.head.data\n",
    "        self.head = self.head.next\n",
    "        self.size -= 1\n",
    "        return val\n",
    "    \n",
    "    def size(self):\n",
    "        return self.size\n",
    "    \n",
    "    def peak(self):\n",
    "        if self.head == None:\n",
    "            return math.inf\n",
    "        return self.head.data\n",
    "\n",
    "stack3 = MyStack()\n",
    "stack3.push(4)\n",
    "stack3.push(5)\n",
    "print(stack3.peak())\n",
    "# From queue.LIFOQueue"
   ]
  },
  {
   "cell_type": "markdown",
   "id": "53fa662e",
   "metadata": {},
   "source": [
    "BALANCED PARANTHESIS"
   ]
  },
  {
   "cell_type": "code",
   "execution_count": 38,
   "id": "380056fe",
   "metadata": {},
   "outputs": [
    {
     "data": {
      "text/plain": [
       "'NOT BALANCED'"
      ]
     },
     "execution_count": 38,
     "metadata": {},
     "output_type": "execute_result"
    }
   ],
   "source": [
    "dct = {'}':'{', ')':'(', ']':'['}\n",
    "def isBalanced(string):\n",
    "    stack = list()\n",
    "    for s in string:\n",
    "        \n",
    "        if s in dct.values():\n",
    "            stack.append(s)\n",
    "        elif not stack or dct[s] != stack[-1]:\n",
    "            return 'NOT BALANCED'\n",
    "        else:\n",
    "            stack.pop()\n",
    "    print(stack)\n",
    "    if stack:\n",
    "        return 'NOT BALANCED'\n",
    "    return 'BALANCED'\n",
    "\n",
    "string = '{}{(}))}'\n",
    "isBalanced(string)"
   ]
  },
  {
   "cell_type": "code",
   "execution_count": 40,
   "id": "dbfc4acf",
   "metadata": {},
   "outputs": [
    {
     "data": {
      "text/plain": [
       "'abc'"
      ]
     },
     "execution_count": 40,
     "metadata": {},
     "output_type": "execute_result"
    }
   ],
   "source": [
    "postfix = 'ab*c+'\n",
    "stack = list()\n",
    "\n",
    "for ele in postfix:\n",
    "    if not ele.isalpha():\n",
    "        "
   ]
  },
  {
   "cell_type": "markdown",
   "id": "53219ca8",
   "metadata": {},
   "source": [
    "# QUEUE"
   ]
  },
  {
   "cell_type": "markdown",
   "id": "6a1b7c25",
   "metadata": {},
   "source": [
    "###### DEQUE"
   ]
  },
  {
   "cell_type": "raw",
   "id": "f7aab66a",
   "metadata": {},
   "source": [
    "USES DOUBLY LINKED LIST  =>  EFFICIENT"
   ]
  },
  {
   "cell_type": "code",
   "execution_count": 147,
   "id": "7d6f63c7",
   "metadata": {},
   "outputs": [
    {
     "data": {
      "text/plain": [
       "deque([4])"
      ]
     },
     "execution_count": 147,
     "metadata": {},
     "output_type": "execute_result"
    }
   ],
   "source": [
    "from collections import deque\n",
    "d = deque()\n",
    "d.append(4)\n",
    "d.appendleft(2)\n",
    "d.popleft()"
   ]
  },
  {
   "cell_type": "code",
   "execution_count": 150,
   "id": "6bb2f3ea",
   "metadata": {
    "scrolled": true
   },
   "outputs": [
    {
     "name": "stdout",
     "output_type": "stream",
     "text": [
      "deque([4, 6, 2, 5, 7])\n",
      "deque([2, 5, 7, 4, 6])\n",
      "deque([6, 4, 7, 5, 2])\n"
     ]
    }
   ],
   "source": [
    "d = deque([4,6,2,5,7])\n",
    "print(d)\n",
    "d.rotate(-2)\n",
    "print(d)\n",
    "d.reverse()\n",
    "print(d)"
   ]
  },
  {
   "cell_type": "code",
   "execution_count": 151,
   "id": "90572c79",
   "metadata": {},
   "outputs": [],
   "source": [
    "# Linked list implementation of DEQUE (using dll) \n",
    "# Also have front & rear pointers \n",
    "# All operations are O(1)"
   ]
  },
  {
   "cell_type": "markdown",
   "id": "cd2b2860",
   "metadata": {},
   "source": [
    "https://ide.geeksforgeeks.org/TSo187tS1I"
   ]
  },
  {
   "cell_type": "code",
   "execution_count": 152,
   "id": "3330e653",
   "metadata": {},
   "outputs": [],
   "source": [
    "# List Implementation"
   ]
  },
  {
   "cell_type": "markdown",
   "id": "f84cb28e",
   "metadata": {},
   "source": [
    "https://ide.geeksforgeeks.org/UsR3K8NQiB"
   ]
  },
  {
   "cell_type": "code",
   "execution_count": null,
   "id": "aba77c00",
   "metadata": {},
   "outputs": [],
   "source": []
  },
  {
   "cell_type": "markdown",
   "id": "9a019586",
   "metadata": {},
   "source": [
    "###### QUEUE"
   ]
  },
  {
   "cell_type": "code",
   "execution_count": null,
   "id": "e1dfe5c9",
   "metadata": {
    "scrolled": true
   },
   "outputs": [],
   "source": [
    "####  Using list\n",
    "q = []\n",
    "q.append(4)\n",
    "q.pop(0) # O(n)\n",
    "len(q)\n",
    "q[0]\n",
    "q[-1]\n",
    "\n",
    "\n",
    "####  Using collections.deque - (efficient) - (USING DLL)\n",
    "q = deque()\n",
    "q.append(4)  # enqueue\n",
    "q.popleft()  # dequeue\n",
    "\n",
    "\n",
    "####  Own implementation ***\n",
    "\n",
    "# ARRAY\n",
    "# Simple  (normal array)\n",
    "# Efficient  (circular array)\n",
    "# https://ide.geeksforgeeks.org/23981f22-72f9-44d4-9a7c-055dd111b180\n",
    "\n",
    "# LINKED LIST  -  (USING SLL)\n",
    "# Front (remove from head) & Rear(add to the tail)\n",
    "# https://ide.geeksforgeeks.org/g8aKV2DsJq\n",
    "\n",
    "\n",
    "####  Using queue.Queue  (multithreaded appl.)"
   ]
  },
  {
   "cell_type": "code",
   "execution_count": null,
   "id": "053abadf",
   "metadata": {},
   "outputs": [],
   "source": []
  },
  {
   "cell_type": "markdown",
   "id": "1f5f2d66",
   "metadata": {},
   "source": [
    "# TREES"
   ]
  },
  {
   "cell_type": "markdown",
   "id": "4439fe9e",
   "metadata": {},
   "source": [
    "### BINARY TREE"
   ]
  },
  {
   "cell_type": "markdown",
   "id": "4329ecd9",
   "metadata": {},
   "source": [
    "TREE TRAVERSALS"
   ]
  },
  {
   "cell_type": "code",
   "execution_count": null,
   "id": "095def50",
   "metadata": {},
   "outputs": [],
   "source": [
    "# inorder (left => root => right)\n",
    "# TC : O(n)\n",
    "# OC : O(n)\n",
    "def inorder(root):\n",
    "    if head is None:\n",
    "        return\n",
    "    inorder(root.left)\n",
    "    print(root.data)\n",
    "    inorder(root.right)\n",
    "    \n",
    "# preorder (root => left => right)\n",
    "# TC : O(n)\n",
    "# OC : O(n) \n",
    "\n",
    "\n",
    "# postorder (left => right => root)\n",
    "# TC : O(n)\n",
    "# OC : O(n) \n"
   ]
  },
  {
   "cell_type": "markdown",
   "id": "03bc4070",
   "metadata": {},
   "source": [
    "HEIGHT OF BINARY TREE"
   ]
  },
  {
   "cell_type": "code",
   "execution_count": 166,
   "id": "8bd2df39",
   "metadata": {},
   "outputs": [],
   "source": [
    "# TC : \n",
    "# OC : \n",
    "def height(root):\n",
    "    if root is None:\n",
    "        return\n",
    "    else:\n",
    "        left = height(root.left)\n",
    "        right = height(root.right)\n",
    "    return max(left, right)+1"
   ]
  },
  {
   "cell_type": "markdown",
   "id": "43b1fd92",
   "metadata": {},
   "source": [
    "NODE AT DISTANCE K"
   ]
  },
  {
   "cell_type": "code",
   "execution_count": 167,
   "id": "48d952a2",
   "metadata": {},
   "outputs": [],
   "source": [
    "# TC : \n",
    "# OC : \n",
    "def kdistance(root, k):\n",
    "    if root is None:\n",
    "        return\n",
    "    if k == 0:\n",
    "        print(root.data)\n",
    "    else:\n",
    "        kdistance(root.left, k-1)\n",
    "        kdistance(root.right, k-1)"
   ]
  },
  {
   "cell_type": "markdown",
   "id": "d91f810d",
   "metadata": {},
   "source": [
    "LEVEL ORDER TRAVERSAL  (BFS)"
   ]
  },
  {
   "cell_type": "code",
   "execution_count": null,
   "id": "2ceb0903",
   "metadata": {},
   "outputs": [],
   "source": [
    "# recursive\n",
    "# TC : O(n*h)\n",
    "# SC : \n",
    "def naive(root):\n",
    "    h = height(root)\n",
    "    for i in range(h):\n",
    "        kdistance(root, i)  # for every ith level\n",
    "    \n",
    "# iterative\n",
    "# TC : O(n)\n",
    "# SC : O(n)\n",
    "from collections import deque\n",
    "def efficient(root):\n",
    "    if root is None:\n",
    "        return\n",
    "    q = deque()\n",
    "    q.append(root)\n",
    "    while len(q) is not None:\n",
    "        node = q.popleft()\n",
    "        print(node.data)\n",
    "        if node.left:\n",
    "            q.append(node.left)\n",
    "        if node.right:\n",
    "            q.append(node.right)"
   ]
  },
  {
   "cell_type": "markdown",
   "id": "4884298a",
   "metadata": {},
   "source": [
    "SIZE OF BINARY TREE"
   ]
  },
  {
   "cell_type": "code",
   "execution_count": null,
   "id": "e0efb99c",
   "metadata": {},
   "outputs": [],
   "source": [
    "# TC : O(n)\n",
    "# SC : O(h)\n",
    "def sizebst(root):\n",
    "    if root is None:\n",
    "        return 0\n",
    "    return 1 + sizebst(root.left) + sizebst(root.right)"
   ]
  },
  {
   "cell_type": "markdown",
   "id": "41db1946",
   "metadata": {},
   "source": [
    "MAXIMUM IN BINARY TREE"
   ]
  },
  {
   "cell_type": "code",
   "execution_count": null,
   "id": "95a79292",
   "metadata": {},
   "outputs": [],
   "source": [
    "# TC : O(n)\n",
    "# SC : O(n)\n",
    "def maximum(root):\n",
    "    if root is None:\n",
    "        return math.inf\n",
    "    else:\n",
    "        return max(maximum(root.left),maximum(root.right),root.data)"
   ]
  },
  {
   "cell_type": "markdown",
   "id": "b36ad0cd",
   "metadata": {},
   "source": [
    "###### BINARY SEARCH TREE"
   ]
  },
  {
   "cell_type": "code",
   "execution_count": null,
   "id": "24369745",
   "metadata": {},
   "outputs": [],
   "source": [
    "# INORDER OF BST IS ALWAYS SORTED"
   ]
  },
  {
   "cell_type": "code",
   "execution_count": null,
   "id": "35108f6d",
   "metadata": {},
   "outputs": [],
   "source": [
    "# h => height of tree\n",
    "# TC : O(h)\n",
    "# SC : O(h)\n",
    "def search(root,key):\n",
    "    if root is None:\n",
    "        return False\n",
    "    if root.data == key:\n",
    "        return True\n",
    "    if root.data > key:\n",
    "        return search(root.left,key)\n",
    "    else:\n",
    "        return search(root.right,key)\n",
    "    \n",
    "# iterative\n",
    "# replace add *while* & replace recursive call with *root = root.left(right)*\n",
    "# TC : O(n)\n",
    "# SC : O(1)"
   ]
  },
  {
   "cell_type": "code",
   "execution_count": null,
   "id": "0fd250d3",
   "metadata": {},
   "outputs": [],
   "source": [
    "# TC : O(h)\n",
    "# SC : O(h)\n",
    "def insert(root,key):  # recursive\n",
    "    if root is None:\n",
    "        return Node(Key)\n",
    "    elif root.key == key:\n",
    "        return root\n",
    "    elif root.key > key:\n",
    "        root.left = insert(root.left,key)\n",
    "    else:\n",
    "        root.right = insert(root.right,key)\n",
    "    return root"
   ]
  },
  {
   "cell_type": "raw",
   "id": "c06f5d83",
   "metadata": {},
   "source": [
    "1)     10           2)   10          3)  10\n",
    "       /                 /                 \\\n",
    "      5                 5                   20\n",
    "     /                   \\                 /  \\\n",
    "    2                     7               18   50"
   ]
  },
  {
   "cell_type": "code",
   "execution_count": 169,
   "id": "98f7ecab",
   "metadata": {},
   "outputs": [],
   "source": [
    "# TC : O(h)\n",
    "# SC : O(h)\n",
    "def delete(root,key):   # TRY VISUAL\n",
    "    if root is None:\n",
    "        return\n",
    "    if root.key > key:\n",
    "        root.left = delete(root.left,key)\n",
    "    elif root.key < key:\n",
    "        root.right = delete(root.right,key)\n",
    "    else:\n",
    "        if root.left is None:\n",
    "            return root.right   # remove 7 in 2\n",
    "        elif root.right is None:\n",
    "            return root.left    # remove 5 in 1\n",
    "        else:\n",
    "            succ = getSuccessor(root.right,key)   # return 18\n",
    "            root.key = succ                       # replace 10 with 18\n",
    "            root.right = delete(root.right,succ)  # remove 18"
   ]
  },
  {
   "cell_type": "code",
   "execution_count": null,
   "id": "8c69e0da",
   "metadata": {},
   "outputs": [],
   "source": [
    "def floor(root):\n",
    "    pass\n",
    "# Naive\n",
    "    # Traverse all nodes & keep track of closest small element - O(n)\n",
    "\n",
    "# TC : O(h)\n",
    "# SC : O(1)\n",
    "    # Go left or right (priority final element => In the left)"
   ]
  },
  {
   "cell_type": "code",
   "execution_count": null,
   "id": "61477e93",
   "metadata": {},
   "outputs": [],
   "source": [
    "def ceil(root):\n",
    "    pass\n",
    "\n",
    "# similar code"
   ]
  },
  {
   "cell_type": "markdown",
   "id": "f8f4c354",
   "metadata": {},
   "source": [
    "SELF BALANCING BST"
   ]
  },
  {
   "cell_type": "markdown",
   "id": "90789af7",
   "metadata": {},
   "source": [
    "1. AVL TREE"
   ]
  },
  {
   "cell_type": "code",
   "execution_count": null,
   "id": "bfb4c536",
   "metadata": {},
   "outputs": [],
   "source": []
  },
  {
   "cell_type": "markdown",
   "id": "5b2806c5",
   "metadata": {},
   "source": [
    "2. RED BLACK TREES"
   ]
  },
  {
   "cell_type": "code",
   "execution_count": null,
   "id": "4c8134e9",
   "metadata": {},
   "outputs": [],
   "source": []
  },
  {
   "cell_type": "code",
   "execution_count": null,
   "id": "791c0f45",
   "metadata": {},
   "outputs": [],
   "source": [
    "# APPLICATIONS OF SELF BALANCING BST (IMPORTANT)"
   ]
  },
  {
   "cell_type": "code",
   "execution_count": null,
   "id": "695aeea2",
   "metadata": {},
   "outputs": [],
   "source": []
  },
  {
   "cell_type": "markdown",
   "id": "b18d4169",
   "metadata": {},
   "source": [
    "# HEAP "
   ]
  },
  {
   "cell_type": "markdown",
   "id": "06c34ae5",
   "metadata": {},
   "source": [
    "###### BINARY HEAP"
   ]
  },
  {
   "cell_type": "raw",
   "id": "725acf31",
   "metadata": {},
   "source": [
    "COMPLETE BINARY TREE STORED AS AN ARRAY"
   ]
  },
  {
   "cell_type": "code",
   "execution_count": null,
   "id": "a38a1fad",
   "metadata": {},
   "outputs": [],
   "source": [
    "class MyMinHeap:\n",
    "    def __init__(self):\n",
    "        self.arr = []\n",
    "        \n",
    "    def parent(self, i):\n",
    "        return (i-1)//2\n",
    "    \n",
    "    def lchild(self,i):\n",
    "        return 2*i+1\n",
    "    \n",
    "    def rchild(self,i):\n",
    "        return 2*i+2\n",
    "    \n",
    "    # append at end & swap with the parent - O(log(n))\n",
    "    def insert(self,x):\n",
    "        arr = self.arr\n",
    "        arr.append(x)\n",
    "        i = len(arr)-1\n",
    "        while i > 0 and arr[self.parent(i)] > arr[i]:\n",
    "            p = self.parent(i)\n",
    "            arr[p], arr[i] = arr[i], arr[p]\n",
    "            i = p\n",
    "        \n",
    "    # after removing smallest element - O(log(n))  {iterative => space : O(1)}\n",
    "    def minHeapify(self,i):\n",
    "        arr = self.arr\n",
    "        lt = self.lchild(i)\n",
    "        rt = self.rchild(i)\n",
    "        smallest = i\n",
    "        n = len(arr)\n",
    "        if lt < n and arr[lt] < arr[smallest]:\n",
    "            smallest = lt\n",
    "        if rt < n and arr[rt] < arr[smallest]:\n",
    "            smallest = rt\n",
    "        if smallest != i:\n",
    "            arr[smallest], arr[i] = arr[i], arr[smallest]\n",
    "            self.minHeapify(smallest)\n",
    "    \n",
    "    # like heappop operation  (swap with root to remove in O(1))\n",
    "    def extractMin(self):\n",
    "        arr = self.arr\n",
    "        n = len(arr)\n",
    "        if n == 0:\n",
    "            return math.inf\n",
    "        res = arr[0]\n",
    "        arr[0] = arr[n-1]\n",
    "        arr.pop()          # O(1)\n",
    "        self.minHeapify(0)\n",
    "        return res\n",
    "    \n",
    "    def decreaseKey(self,i,x):\n",
    "        pass\n",
    "    \n",
    "    def delete(self,x):\n",
    "        pass"
   ]
  },
  {
   "cell_type": "code",
   "execution_count": null,
   "id": "28567081",
   "metadata": {},
   "outputs": [],
   "source": []
  },
  {
   "cell_type": "code",
   "execution_count": null,
   "id": "aded7de8",
   "metadata": {},
   "outputs": [],
   "source": []
  },
  {
   "cell_type": "markdown",
   "id": "e5d83476",
   "metadata": {},
   "source": [
    "# BIT MANIPULATION "
   ]
  },
  {
   "cell_type": "markdown",
   "id": "53aa8002",
   "metadata": {},
   "source": [
    "WHY 2's COMPLEMENT IS PREFERRED\n",
    "\n",
    "https://practice.geeksforgeeks.org/batch/ds-with-python/track/bit-magic-advanced-python/video/MTQ3Njg%3D"
   ]
  },
  {
   "cell_type": "code",
   "execution_count": 35,
   "id": "d7865d76",
   "metadata": {},
   "outputs": [
    {
     "name": "stdout",
     "output_type": "stream",
     "text": [
      "0b10010\n",
      "3\n",
      "8\n",
      "15\n",
      "0\n"
     ]
    }
   ],
   "source": [
    "print(bin(18))\n",
    "print(int('0b011', 2))    # binary to decimal\n",
    "print(int('0o10', 8))     # octal to decimal\n",
    "print(int('0xf', 16))    # hexadecimal to decimal"
   ]
  },
  {
   "cell_type": "code",
   "execution_count": 49,
   "id": "3a1bbefe",
   "metadata": {},
   "outputs": [
    {
     "name": "stdout",
     "output_type": "stream",
     "text": [
      "2\n",
      "7\n",
      "5\n",
      "-6\n",
      "6\n",
      "12\n",
      "3\n",
      "1\n"
     ]
    }
   ],
   "source": [
    "print(6&3)\n",
    "print(6|3)\n",
    "print(6^3)        # same bit, output 0\n",
    "print(~5)         # ~5 & -6 has same bit representation\n",
    "\n",
    "print(3 << 1)     # 3*(2^1)\n",
    "print(3 << 2)     # 3*(2^2)\n",
    "\n",
    "print(7 >> 1)     # 7 // 2\n",
    "print(7 >> 2)     # 7 // (2^2)"
   ]
  },
  {
   "cell_type": "markdown",
   "id": "92233a8e",
   "metadata": {},
   "source": [
    "##### Kth BIT IS SET OR NOT"
   ]
  },
  {
   "cell_type": "code",
   "execution_count": 55,
   "id": "f7c021f1",
   "metadata": {},
   "outputs": [
    {
     "name": "stdout",
     "output_type": "stream",
     "text": [
      "not set\n"
     ]
    }
   ],
   "source": [
    "x = 27    # 11011\n",
    "k = 3     # from the right\n",
    "if x >> k-1 & 1:        # or x & (1 << k-1)\n",
    "    print('set')\n",
    "else:\n",
    "    print('not set')"
   ]
  },
  {
   "cell_type": "markdown",
   "id": "7cf38d1a",
   "metadata": {},
   "source": [
    "##### COUNT SET BITS"
   ]
  },
  {
   "cell_type": "code",
   "execution_count": 57,
   "id": "dce90ed3",
   "metadata": {},
   "outputs": [],
   "source": [
    "# n & 1       # O(n)\n",
    "# n & (n-1)   # O(setbits)\n",
    "# using lookup table"
   ]
  },
  {
   "cell_type": "markdown",
   "id": "7b5639c5",
   "metadata": {},
   "source": [
    "##### FIND THE ONLY ODD APPEARANCE"
   ]
  },
  {
   "cell_type": "code",
   "execution_count": 58,
   "id": "936ae1ea",
   "metadata": {},
   "outputs": [
    {
     "name": "stdout",
     "output_type": "stream",
     "text": [
      "10\n"
     ]
    }
   ],
   "source": [
    "lst = [10,10,10,50,50,30,30]\n",
    "final = 0\n",
    "for ele in lst:\n",
    "    final = final^ele\n",
    "print(final)"
   ]
  },
  {
   "cell_type": "markdown",
   "id": "bf15c1bc",
   "metadata": {},
   "source": [
    "##### FIND THE TWO ODD OCCURING ELEMENT"
   ]
  },
  {
   "cell_type": "code",
   "execution_count": null,
   "id": "1dfc3a86",
   "metadata": {},
   "outputs": [],
   "source": [
    "lst = [3,4,3,4,5,4,4,6,7,7]\n",
    "# ans => 5,6\n"
   ]
  },
  {
   "cell_type": "markdown",
   "id": "7952980b",
   "metadata": {},
   "source": [
    "##### CHECK FOR POWER OF 2"
   ]
  },
  {
   "cell_type": "code",
   "execution_count": 64,
   "id": "bb33f1f4",
   "metadata": {},
   "outputs": [
    {
     "name": "stdout",
     "output_type": "stream",
     "text": [
      "power of 2\n"
     ]
    }
   ],
   "source": [
    "n = 4\n",
    "if (n & (n-1)) == 0:\n",
    "    print('power of 2')"
   ]
  },
  {
   "cell_type": "markdown",
   "id": "86fe0f30",
   "metadata": {},
   "source": [
    "##### POWER SET"
   ]
  },
  {
   "cell_type": "code",
   "execution_count": 67,
   "id": "c7f8ad5e",
   "metadata": {},
   "outputs": [
    {
     "name": "stdout",
     "output_type": "stream",
     "text": [
      "\n",
      "a\n",
      "b\n",
      "ab\n",
      "c\n",
      "ac\n",
      "bc\n",
      "abc\n"
     ]
    }
   ],
   "source": [
    "# O(n*(2^n))\n",
    "def powerset(s):\n",
    "    n = len(s)\n",
    "    psize = (1 << n)\n",
    "    for i in range(psize):\n",
    "        \n",
    "        # --- single subset --- # \n",
    "        for j in range(n):\n",
    "            if (i & (1 << j)) != 0:\n",
    "                print(s[j], end='')\n",
    "        # --- #\n",
    "        \n",
    "        print()\n",
    "powerset('abc')"
   ]
  },
  {
   "cell_type": "code",
   "execution_count": null,
   "id": "8cbc6d91",
   "metadata": {},
   "outputs": [],
   "source": []
  },
  {
   "cell_type": "markdown",
   "id": "6fa950e4",
   "metadata": {},
   "source": [
    "# BACKTRACKING"
   ]
  },
  {
   "cell_type": "code",
   "execution_count": null,
   "id": "3f6b5b60",
   "metadata": {},
   "outputs": [],
   "source": []
  },
  {
   "cell_type": "code",
   "execution_count": null,
   "id": "e3cc2c1e",
   "metadata": {},
   "outputs": [],
   "source": []
  },
  {
   "cell_type": "markdown",
   "id": "06b6f59e",
   "metadata": {},
   "source": [
    "# DYNAMIC PROGRAMMING"
   ]
  },
  {
   "cell_type": "code",
   "execution_count": 7,
   "id": "4a11533f",
   "metadata": {},
   "outputs": [],
   "source": [
    "# AVOIDING RECOMPUTATION"
   ]
  },
  {
   "cell_type": "markdown",
   "id": "3e3f57b3",
   "metadata": {},
   "source": [
    "MEMOIZATION (derived from recursive)"
   ]
  },
  {
   "cell_type": "code",
   "execution_count": 13,
   "id": "d5742615",
   "metadata": {},
   "outputs": [
    {
     "data": {
      "text/plain": [
       "3"
      ]
     },
     "execution_count": 13,
     "metadata": {},
     "output_type": "execute_result"
    }
   ],
   "source": [
    "# 1D - 1 PARAMETER CHANGING\n",
    "# O(2^n)  ->  O(n) {2n-1 function calls : (n+n-1)}\n",
    "\n",
    "memo = [None]*100    # Usually array of size N+1\n",
    "def fibo(n):\n",
    "    if memo[n] != None:\n",
    "        return memo[n]\n",
    "    if n == 0 or n == 1:\n",
    "        memo[n] = n\n",
    "    else:\n",
    "        memo[n] = fibo(n-1)+fibo(n-2)\n",
    "    return memo[n]\n",
    "\n",
    "fibo(4)"
   ]
  },
  {
   "cell_type": "markdown",
   "id": "2251ffd9",
   "metadata": {},
   "source": [
    "TABULATION (not as simple)"
   ]
  },
  {
   "cell_type": "code",
   "execution_count": 17,
   "id": "ee8e8236",
   "metadata": {},
   "outputs": [
    {
     "data": {
      "text/plain": [
       "3"
      ]
     },
     "execution_count": 17,
     "metadata": {},
     "output_type": "execute_result"
    }
   ],
   "source": [
    "# bottom-up\n",
    "\n",
    "def fibo(n):\n",
    "    dp = [None]*(n+1)\n",
    "    dp[0] = 0\n",
    "    dp[1] = 1\n",
    "    for i in range(2, n+1):\n",
    "        dp[i] = dp[i-1] + dp[i-2]\n",
    "    return dp[n]\n",
    "\n",
    "fibo(4)"
   ]
  },
  {
   "cell_type": "code",
   "execution_count": null,
   "id": "38513703",
   "metadata": {},
   "outputs": [],
   "source": []
  },
  {
   "cell_type": "markdown",
   "id": "293aaf93",
   "metadata": {},
   "source": [
    "# GRAPHS"
   ]
  },
  {
   "cell_type": "code",
   "execution_count": null,
   "id": "a2e09bb2",
   "metadata": {},
   "outputs": [],
   "source": []
  },
  {
   "cell_type": "code",
   "execution_count": null,
   "id": "e7fbffc6",
   "metadata": {},
   "outputs": [],
   "source": []
  },
  {
   "cell_type": "code",
   "execution_count": null,
   "id": "e9c15e32",
   "metadata": {},
   "outputs": [],
   "source": []
  }
 ],
 "metadata": {
  "kernelspec": {
   "display_name": "Python 3 (ipykernel)",
   "language": "python",
   "name": "python3"
  },
  "language_info": {
   "codemirror_mode": {
    "name": "ipython",
    "version": 3
   },
   "file_extension": ".py",
   "mimetype": "text/x-python",
   "name": "python",
   "nbconvert_exporter": "python",
   "pygments_lexer": "ipython3",
   "version": "3.9.16"
  },
  "varInspector": {
   "cols": {
    "lenName": 16,
    "lenType": 16,
    "lenVar": 40
   },
   "kernels_config": {
    "python": {
     "delete_cmd_postfix": "",
     "delete_cmd_prefix": "del ",
     "library": "var_list.py",
     "varRefreshCmd": "print(var_dic_list())"
    },
    "r": {
     "delete_cmd_postfix": ") ",
     "delete_cmd_prefix": "rm(",
     "library": "var_list.r",
     "varRefreshCmd": "cat(var_dic_list()) "
    }
   },
   "types_to_exclude": [
    "module",
    "function",
    "builtin_function_or_method",
    "instance",
    "_Feature"
   ],
   "window_display": false
  }
 },
 "nbformat": 4,
 "nbformat_minor": 5
}
