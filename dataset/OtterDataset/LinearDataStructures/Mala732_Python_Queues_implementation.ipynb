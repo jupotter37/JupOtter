{
  "nbformat": 4,
  "nbformat_minor": 0,
  "metadata": {
    "colab": {
      "provenance": [],
      "authorship_tag": "ABX9TyN6zvVe0rZcfJIhyG3EqQkb",
      "include_colab_link": true
    },
    "kernelspec": {
      "name": "python3",
      "display_name": "Python 3"
    },
    "language_info": {
      "name": "python"
    }
  },
  "cells": [
    {
      "cell_type": "markdown",
      "metadata": {
        "id": "view-in-github",
        "colab_type": "text"
      },
      "source": [
        "<a href=\"https://colab.research.google.com/github/Mala732/Python/blob/main/Queues_implementation.ipynb\" target=\"_parent\"><img src=\"https://colab.research.google.com/assets/colab-badge.svg\" alt=\"Open In Colab\"/></a>"
      ]
    },
    {
      "cell_type": "markdown",
      "source": [
        "#Queues\n",
        " A queue is an ordered list in which insertions are done at one end (rear) and deletions are done at the other end (front). The first element to be inserted is the first one to be deleted. Hence, it is called First in First out (FIFO) or Last in Last out (LILO) list.\n",
        "\n",
        " When  an element is added to a queue the concept is called enqueue and when an element is removed from the queue it is called dequeue"
      ],
      "metadata": {
        "id": "U0ccpBmq9sMA"
      }
    },
    {
      "cell_type": "markdown",
      "source": [
        "##APPLICATIONS\n",
        "\n",
        "\n",
        "1.   Scheduling jobs in operating systems\n",
        "2.   Asynchronous data transfer\n",
        "\n",
        "##IMPLEMENTATIONS\n",
        "\n",
        "\n",
        "1.   Simple circular array based implementation\n",
        "2.   Dynamic circular array based implementation\n",
        "3.   Linked list implementation\n",
        "\n",
        "\n",
        "\n"
      ],
      "metadata": {
        "id": "kmHsVZ9z-rf1"
      }
    },
    {
      "cell_type": "code",
      "execution_count": null,
      "metadata": {
        "id": "rAUEXVPy9dKN"
      },
      "outputs": [],
      "source": [
        "#que usinf circular array\n",
        "\n",
        "class Queue:\n",
        "    def __init__(self,limit = 5):\n",
        "        self.que = []\n",
        "        self.limit = limit\n",
        "        self.front = None\n",
        "        self.rear = None\n",
        "        self.size = 0\n",
        "\n",
        "    def isEmpty(self):\n",
        "        return self.size <= 0\n",
        "\n",
        "    def enQueue(self):\n",
        "        if self.size >= self.limit:\n",
        "            print('Queue Overflow!')\n",
        "            return\n",
        "        else:\n",
        "            self.que.append(item)\n",
        "        if self.front is None:\n",
        "            self.front = self.rear = 0\n",
        "        else:\n",
        "            self.rear = self.size - 1\n",
        "\n",
        "        self.size+= 1\n",
        "        print('Queue after enQueue',self.que)\n",
        "\n",
        "    def deQueue(self):\n",
        "        if self.size <= 0:\n",
        "            print('Queue Underflow!')\n",
        "            return 0\n",
        "        else:\n",
        "            self.que.pop(0)\n",
        "            self.size -= 1\n",
        "            if self.size == 0:\n",
        "                self.front = self.rear = 0\n",
        "            else:\n",
        "                self.rear = self.size - 1\n",
        "        print('Queue after deQueue',self.que)\n",
        "    def queueRear(self):\n",
        "        if self.rear is None:\n",
        "            print('Queue is empty')\n",
        "            raise IndexError\n",
        "        else:\n",
        "            print(self.que[self.rear])\n",
        "\n",
        "    def queueFront(self):\n",
        "        if self.front is None:\n",
        "            print('Queue is empty')\n",
        "            raise IndexError\n",
        "        else:\n",
        "            print(self.que[self.front])\n",
        "\n",
        "    def size(self):\n",
        "        return self.size\n",
        "\n"
      ]
    },
    {
      "cell_type": "code",
      "source": [
        "#que using dynamic circular array\n",
        "\n",
        "class Queue:\n",
        "    def __init__(self,limit = 5):\n",
        "        self.que = []\n",
        "        self.limit = limit\n",
        "        self.front = None\n",
        "        self.rear = None\n",
        "        self.size = 0\n",
        "\n",
        "    def isEmpty(self):\n",
        "        return self.size <= 0\n",
        "\n",
        "    def enQueue(self):\n",
        "        if self.size >= self.limit:\n",
        "            self.resize()\n",
        "        self.que.append(item)\n",
        "        if self.front is None:\n",
        "            self.front = self.rear = 0\n",
        "        else:\n",
        "            self.rear = self.size - 1\n",
        "\n",
        "        self.size+= 1\n",
        "        print('Queue after enQueue',self.que)\n",
        "\n",
        "    def deQueue(self):\n",
        "        if self.size <= 0:\n",
        "            print('Queue Underflow!')\n",
        "            return 0\n",
        "        else:\n",
        "            self.que.pop(0)\n",
        "            self.size -= 1\n",
        "            if self.size == 0:\n",
        "                self.front = self.rear = 0\n",
        "            else:\n",
        "                self.rear = self.size - 1\n",
        "        print('Queue after deQueue',self.que)\n",
        "    def queueRear(self):\n",
        "        if self.rear is None:\n",
        "            print('Queue is empty')\n",
        "            raise IndexError\n",
        "        else:\n",
        "            print(self.que[self.rear])\n",
        "\n",
        "    def queueFront(self):\n",
        "        if self.front is None:\n",
        "            print('Queue is empty')\n",
        "            raise IndexError\n",
        "        else:\n",
        "            print(self.que[self.front])\n",
        "\n",
        "    def size(self):\n",
        "        return self.size\n",
        "\n",
        "    def resize(self):\n",
        "        newQue = list(self.que)\n",
        "        self.limit = 2*self.limit\n",
        "        self.que = newQue\n"
      ],
      "metadata": {
        "id": "c-inVgpDMIaD"
      },
      "execution_count": null,
      "outputs": []
    },
    {
      "cell_type": "markdown",
      "source": [
        "queue using stack"
      ],
      "metadata": {
        "id": "Lg6y7OCLNdug"
      }
    },
    {
      "cell_type": "code",
      "source": [
        "class Queue(object):\n",
        "    def __init__ (self):\n",
        "        self.S1 = []\n",
        "        self.S2 = []\n",
        "    def enqueue(self,element):\n",
        "        self.S1.append(element)\n",
        "    def dequeue(self):\n",
        "        if not self.S2:\n",
        "            while self.S1:\n",
        "                self.S2.append(self.S1.pop())\n",
        "        return self.S2.pop()\n",
        "\n",
        "q = Queue()\n",
        "for i in range(5):\n",
        "    q.enqueue(i)\n",
        "for i in range(5):\n",
        "    print(q.dequeue())"
      ],
      "metadata": {
        "colab": {
          "base_uri": "https://localhost:8080/"
        },
        "id": "8V1Obp6dNDbl",
        "outputId": "783a4860-5fdb-4c62-9ae8-222adcaa1204"
      },
      "execution_count": null,
      "outputs": [
        {
          "output_type": "stream",
          "name": "stdout",
          "text": [
            "0\n",
            "1\n",
            "2\n",
            "3\n",
            "4\n"
          ]
        }
      ]
    },
    {
      "cell_type": "markdown",
      "source": [],
      "metadata": {
        "id": "uk9z5pzp9s5E"
      }
    }
  ]
}