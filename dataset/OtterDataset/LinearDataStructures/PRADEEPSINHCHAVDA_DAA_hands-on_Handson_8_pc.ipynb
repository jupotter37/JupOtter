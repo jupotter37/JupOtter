{
  "cells": [
    {
      "cell_type": "markdown",
      "source": [
        "# Hands-On 8"
      ],
      "metadata": {
        "id": "mzaFcf2mcvuU"
      }
    },
    {
      "cell_type": "markdown",
      "source": [
        "1. Leverage your implementation of quicksort to implement the ith order statistic. Demonstrate it's working via an example. Upload your code to github."
      ],
      "metadata": {
        "id": "CeyCCF_Ec0c0"
      }
    },
    {
      "cell_type": "code",
      "source": [
        "def partition(arr, low, high):\n",
        "    pivot = arr[high]\n",
        "    i = low - 1\n",
        "    for j in range(low, high):\n",
        "        if arr[j] <= pivot:\n",
        "            i += 1\n",
        "            arr[i], arr[j] = arr[j], arr[i]\n",
        "    arr[i + 1], arr[high] = arr[high], arr[i + 1]\n",
        "    return i + 1\n",
        "\n",
        "def quickselect(arr, low, high, i):\n",
        "    if low == high:\n",
        "        return arr[low]\n",
        "\n",
        "    pivot_index = partition(arr, low, high)\n",
        "    k = pivot_index - low + 1\n",
        "\n",
        "    if i == k:\n",
        "        return arr[pivot_index]\n",
        "    elif i < k:\n",
        "        return quickselect(arr, low, pivot_index - 1, i)\n",
        "    else:\n",
        "        return quickselect(arr, pivot_index + 1, high, i - k)\n",
        "\n",
        "def ith_order_statistic(arr, i):\n",
        "    if i < 0 or i >= len(arr):\n",
        "        return None\n",
        "    return quickselect(arr, 0, len(arr) - 1, i)\n",
        "\n",
        "# Example usage:\n",
        "arr = [10, 4, 6, 2, 8, 15, 12, 1, 5]\n",
        "i = 5\n",
        "print(f\"The {i}th order statistic is: {ith_order_statistic(arr, i)}\")\n",
        "\n"
      ],
      "metadata": {
        "id": "lvMOl0Zuc5aY",
        "outputId": "93a88d92-c5ec-4afe-d3ea-54521aff5e96",
        "colab": {
          "base_uri": "https://localhost:8080/"
        }
      },
      "execution_count": null,
      "outputs": [
        {
          "output_type": "stream",
          "name": "stdout",
          "text": [
            "The 5th order statistic is: 6\n"
          ]
        }
      ]
    },
    {
      "cell_type": "markdown",
      "source": [
        "2. Implement and upload your source code to github for: stack, queue, and singly linked list. Make sure to implement the same functionality (api/interface) as the ones from the book.  *Restriction*: Use fixed sized arrays (C style arrays) and assume only integers (C style int) for the data to store."
      ],
      "metadata": {
        "id": "V-2tcEryd4DV"
      }
    },
    {
      "cell_type": "markdown",
      "source": [
        "**Single Linked List**"
      ],
      "metadata": {
        "id": "Itrv9qH9d7zR"
      }
    },
    {
      "cell_type": "code",
      "source": [
        "class Node:\n",
        "    def __init__(self, data):\n",
        "        self.data = data\n",
        "        self.next = None\n",
        "\n",
        "class LinkedList:\n",
        "    def __init__(self, capacity):\n",
        "        self.capacity = capacity\n",
        "        self.head = None\n",
        "        self.size = 0\n",
        "\n",
        "    def insert(self, data):\n",
        "        if self.size == self.capacity:\n",
        "            print(\"Linked List is full\")\n",
        "            return\n",
        "        new_node = Node(data)\n",
        "        if not self.head:\n",
        "            self.head = new_node\n",
        "        else:\n",
        "            current = self.head\n",
        "            while current.next:\n",
        "                current = current.next\n",
        "            current.next = new_node\n",
        "        self.size += 1\n",
        "\n",
        "    def display(self):\n",
        "        current = self.head\n",
        "        while current:\n",
        "            print(current.data, end=\" -> \")\n",
        "            current = current.next\n",
        "        print(\"None\")\n",
        "\n",
        "# Example usage:\n",
        "linked_list = LinkedList(5)\n",
        "linked_list.insert(1)\n",
        "linked_list.insert(2)\n",
        "linked_list.insert(3)\n",
        "linked_list.display()\n"
      ],
      "metadata": {
        "id": "awt6u0bUfMDl",
        "outputId": "a7283cca-3059-47de-a327-c13abbfcc586",
        "colab": {
          "base_uri": "https://localhost:8080/"
        }
      },
      "execution_count": null,
      "outputs": [
        {
          "output_type": "stream",
          "name": "stdout",
          "text": [
            "1 -> 2 -> 3 -> None\n"
          ]
        }
      ]
    },
    {
      "cell_type": "markdown",
      "source": [
        "**Stack**"
      ],
      "metadata": {
        "id": "WgKMbqZrfQXa"
      }
    },
    {
      "cell_type": "code",
      "source": [
        "class Stack:\n",
        "    def __init__(self, capacity):\n",
        "        self.capacity = capacity\n",
        "        self.stack = [None] * capacity\n",
        "        self.top = -1\n",
        "\n",
        "    def push(self, item):\n",
        "        if self.top == self.capacity - 1:\n",
        "            print(\"Stack Overflow\")\n",
        "            return\n",
        "        self.top += 1\n",
        "        self.stack[self.top] = item\n",
        "\n",
        "    def pop(self):\n",
        "        if self.top == -1:\n",
        "            print(\"Stack Underflow\")\n",
        "            return None\n",
        "        item = self.stack[self.top]\n",
        "        self.top -= 1\n",
        "        return item\n",
        "\n",
        "    def peek(self):\n",
        "        if self.top == -1:\n",
        "            return None\n",
        "        return self.stack[self.top]\n",
        "\n",
        "# Example usage:\n",
        "stack = Stack(5)\n",
        "stack.push(1)\n",
        "stack.push(2)\n",
        "stack.push(3)\n",
        "print(\"Top of the stack:\", stack.peek())\n",
        "print(\"Popped item:\", stack.pop())\n",
        "print(\"Top of the stack after popping:\", stack.peek())\n"
      ],
      "metadata": {
        "id": "bgZaDYk3fTis",
        "outputId": "f2a09a42-b287-4525-ec35-9df8dbea83c5",
        "colab": {
          "base_uri": "https://localhost:8080/"
        }
      },
      "execution_count": null,
      "outputs": [
        {
          "output_type": "stream",
          "name": "stdout",
          "text": [
            "Top of the stack: 3\n",
            "Popped item: 3\n",
            "Top of the stack after popping: 2\n"
          ]
        }
      ]
    },
    {
      "cell_type": "markdown",
      "source": [
        "**Queue**"
      ],
      "metadata": {
        "id": "BMt2pQvQfWek"
      }
    },
    {
      "cell_type": "code",
      "source": [
        "class Queue:\n",
        "    def __init__(self, capacity):\n",
        "        self.capacity = capacity\n",
        "        self.queue = [None] * capacity\n",
        "        self.front = 0\n",
        "        self.rear = -1\n",
        "        self.size = 0\n",
        "\n",
        "    def enqueue(self, item):\n",
        "        if self.size == self.capacity:\n",
        "            print(\"Queue Overflow\")\n",
        "            return\n",
        "        self.rear = (self.rear + 1) % self.capacity\n",
        "        self.queue[self.rear] = item\n",
        "        self.size += 1\n",
        "\n",
        "    def dequeue(self):\n",
        "        if self.size == 0:\n",
        "            print(\"Queue Underflow\")\n",
        "            return None\n",
        "        item = self.queue[self.front]\n",
        "        self.front = (self.front + 1) % self.capacity\n",
        "        self.size -= 1\n",
        "        return item\n",
        "\n",
        "    def peek(self):\n",
        "        if self.size == 0:\n",
        "            return None\n",
        "        return self.queue[self.front]\n",
        "\n",
        "# Example usage:\n",
        "queue = Queue(5)\n",
        "queue.enqueue(1)\n",
        "queue.enqueue(2)\n",
        "queue.enqueue(3)\n",
        "print(\"Front of the queue:\", queue.peek())\n",
        "print(\"Dequeued item:\", queue.dequeue())\n",
        "print(\"Front of the queue after dequeuing:\", queue.peek())\n"
      ],
      "metadata": {
        "id": "fpJ4uHdyfepT",
        "outputId": "2fefd93f-67d0-4b33-936d-a9ae3dc3f252",
        "colab": {
          "base_uri": "https://localhost:8080/"
        }
      },
      "execution_count": null,
      "outputs": [
        {
          "output_type": "stream",
          "name": "stdout",
          "text": [
            "Front of the queue: 1\n",
            "Dequeued item: 1\n",
            "Front of the queue after dequeuing: 2\n"
          ]
        }
      ]
    }
  ],
  "metadata": {
    "colab": {
      "toc_visible": true,
      "provenance": []
    },
    "kernelspec": {
      "display_name": "Python 3",
      "name": "python3"
    }
  },
  "nbformat": 4,
  "nbformat_minor": 0
}