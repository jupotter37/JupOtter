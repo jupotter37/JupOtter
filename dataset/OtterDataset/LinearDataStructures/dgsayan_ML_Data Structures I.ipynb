{
 "cells": [
  {
   "cell_type": "markdown",
   "metadata": {},
   "source": [
    "### Data Structures"
   ]
  },
  {
   "cell_type": "markdown",
   "metadata": {},
   "source": [
    "Data Structures, also called collections, are objects that can store and process data.\n",
    "\n",
    "The following data structures are explored below:\n",
    "   - Arrays\n",
    "   - Stacks\n",
    "   - Queues\n",
    "   - Linked Lists\n",
    "   - Sets (hash sets)\n",
    "   - Dictionaries (hash maps)\n",
    "   - Tables"
   ]
  },
  {
   "cell_type": "markdown",
   "metadata": {},
   "source": [
    "**Arrays**\n",
    "\n",
    "An array is a collection of items stored at contiguous memory locations.\n",
    "\n",
    "In python Arrays can be natively implemented through Lists (heterogenous data types), Arrays as homogenous containers can be implemented through the numpy library."
   ]
  },
  {
   "cell_type": "code",
   "execution_count": 1,
   "metadata": {},
   "outputs": [
    {
     "data": {
      "text/plain": [
       "[0, 2, 4, 6, 8, 10, 12, 14, 16, 18]"
      ]
     },
     "execution_count": 1,
     "metadata": {},
     "output_type": "execute_result"
    }
   ],
   "source": [
    "# list even numbers till 20\n",
    "\n",
    "l = [i for i in range(20) if i%2==0]\n",
    "l"
   ]
  },
  {
   "cell_type": "markdown",
   "metadata": {},
   "source": [
    "Lists are mutable and called by assignment within functions."
   ]
  },
  {
   "cell_type": "code",
   "execution_count": 2,
   "metadata": {},
   "outputs": [
    {
     "name": "stdout",
     "output_type": "stream",
     "text": [
      "Case 1: ['b', 1, True]\n",
      "Case 2: ['a', 1, True]\n"
     ]
    }
   ],
   "source": [
    "# Lists are mutable and updated by assignment within functions\n",
    "\n",
    "lx = ['a', 1, True]\n",
    "\n",
    "# case 1: assignment\n",
    "\n",
    "def update(l):\n",
    "    l[0] = 'b'\n",
    "\n",
    "update(lx)\n",
    "\n",
    "print('Case 1:',lx)\n",
    "\n",
    "# case 2: reference\n",
    "\n",
    "lx = ['a', 1, True]\n",
    "\n",
    "def update2(l):\n",
    "    l = ['c', 'd', 'e']\n",
    "\n",
    "update2(lx)\n",
    "\n",
    "print('Case 2:', lx)\n"
   ]
  },
  {
   "cell_type": "code",
   "execution_count": 32,
   "metadata": {},
   "outputs": [
    {
     "name": "stdout",
     "output_type": "stream",
     "text": [
      "[0]\n",
      "[0, 2, 3]\n",
      "[0, 4, 2, 3]\n",
      "[0, 4, 3]\n",
      "4 [0, 3]\n",
      "1\n",
      "[3, 0]\n"
     ]
    }
   ],
   "source": [
    "# list methods\n",
    "\n",
    "l = []\n",
    "\n",
    "# append(x)\n",
    "l.append(0)  # adds item to the end of a list\n",
    "print(l)\n",
    "\n",
    "# extend(itr)\n",
    "l.extend((2,3)) # appends iterable to end of list\n",
    "print(l)\n",
    "\n",
    "# insert(i,x)\n",
    "l.insert(1, 4) # insert x at given position i\n",
    "print(l)\n",
    "\n",
    "# remove(x)\n",
    "l.remove(2) # removes first occurence of x, raises value error in x's absence\n",
    "print(l)\n",
    "\n",
    "# pop([i])\n",
    "i = l.pop(1)  # pops element at i and returns it. if no argument is specified returns the last element\n",
    "print(i, l)\n",
    "\n",
    "# index(x[,start[,end]])\n",
    "i = l.index(3)  # returns first index of list where value is x. optionally start and end can be specified\n",
    "print(i)\n",
    "\n",
    "# reverse()\n",
    "l.reverse()\n",
    "print(l)  #reverses elements of list in place\n"
   ]
  },
  {
   "cell_type": "code",
   "execution_count": 36,
   "metadata": {},
   "outputs": [
    {
     "data": {
      "text/plain": [
       "[1]"
      ]
     },
     "execution_count": 36,
     "metadata": {},
     "output_type": "execute_result"
    }
   ],
   "source": [
    "# del statement\n",
    "\n",
    "l = [1,2,3,4,5]\n",
    "del l[1:]\n",
    "l"
   ]
  },
  {
   "cell_type": "code",
   "execution_count": 60,
   "metadata": {},
   "outputs": [
    {
     "data": {
      "text/plain": [
       "4"
      ]
     },
     "execution_count": 60,
     "metadata": {},
     "output_type": "execute_result"
    }
   ],
   "source": [
    "# Write a function countInRange that accepts a vector of integers along with a min and max integer as parameters, \n",
    "# and returns the number of elements within that range inclusive\n",
    "\n",
    "def countInRange(l, lower, upper):\n",
    "    l = [i for i in l if i>=lower and i<=upper]\n",
    "    return len(l)\n",
    "\n",
    "v = [28, 1, 17, 4, 41, 9, 59, 8, 31, 30, 25]\n",
    "\n",
    "countInRange(v, 10, 30)"
   ]
  },
  {
   "cell_type": "code",
   "execution_count": 59,
   "metadata": {},
   "outputs": [
    {
     "data": {
      "text/plain": [
       "['a', 'c', 'a']"
      ]
     },
     "execution_count": 59,
     "metadata": {},
     "output_type": "execute_result"
    }
   ],
   "source": [
    "# Write a function removeAll that accepts a vector of strings along with an element value string as paramters,\n",
    "# and modifies the vector to remove all occurences of that string\n",
    "\n",
    "def removeAll(l, s):\n",
    "    for i in range(len(l)-1, -1, -1):              # the list is traversed from the end to not mess the indices\n",
    "        if l[i] == s:\n",
    "            l.pop(i)\n",
    "    return l\n",
    "\n",
    "v = ['a', 'b', 'c', 'b', 'b', 'a', 'b']\n",
    "\n",
    "removeAll(v, 'b')"
   ]
  },
  {
   "cell_type": "markdown",
   "metadata": {},
   "source": [
    "Lists may be used as stacks (Last In First Out) with append and pop methods.\n",
    "\n",
    "Lists may be used as queues (First In First Out) with insert at 0 index and pop. However, lists are not efficient for Queue operations, and dequeue object from the collection library is recommended in its place"
   ]
  },
  {
   "cell_type": "markdown",
   "metadata": {},
   "source": [
    "Tuple is another sequence data structure.\n",
    "\n",
    "Tuples are immutable and does not support item assignment"
   ]
  },
  {
   "cell_type": "code",
   "execution_count": 3,
   "metadata": {},
   "outputs": [
    {
     "data": {
      "text/plain": [
       "(5, 6, 7)"
      ]
     },
     "execution_count": 3,
     "metadata": {},
     "output_type": "execute_result"
    }
   ],
   "source": [
    "t = (5,6,7)\n",
    "t"
   ]
  },
  {
   "cell_type": "code",
   "execution_count": 10,
   "metadata": {},
   "outputs": [
    {
     "name": "stdout",
     "output_type": "stream",
     "text": [
      "[[1, 2, 3], [4, 5, 6], [7, 8, 9]]\n"
     ]
    },
    {
     "data": {
      "text/plain": [
       "2"
      ]
     },
     "execution_count": 10,
     "metadata": {},
     "output_type": "execute_result"
    }
   ],
   "source": [
    "# Grid\n",
    "\n",
    "# 2 dimensional arrays are referred to as grids\n",
    "\n",
    "grid = [[1,2,3],[4,5,6],[7,8,9]]   # construct\n",
    "print(grid)\n",
    "\n",
    "# Access elements\n",
    "\n",
    "grid[0][1]   # first row second column"
   ]
  },
  {
   "cell_type": "code",
   "execution_count": 9,
   "metadata": {},
   "outputs": [
    {
     "name": "stdout",
     "output_type": "stream",
     "text": [
      "3\n",
      "3\n"
     ]
    }
   ],
   "source": [
    "print(len(grid))  # number of rows\n",
    "\n",
    "print(len(grid[0]))  # number of columns "
   ]
  },
  {
   "cell_type": "markdown",
   "metadata": {},
   "source": [
    "**Linked List**\n",
    "\n",
    "A linear collection of data elements built out of many nodes, each of which stores one value and a link to the next node.\n",
    "\n",
    "The benefit over a regular array is that elements can be easily inserted and removed without updating the memory indices\n",
    "of all the other elements. Unlike a list memory used to store a linked list does not have to be contiguous.\n",
    "\n",
    "However we can't access items in constant time (O(1)) as we could with an array. looking up an item in linked list has a linear time complexity (O(n))\n",
    "\n",
    "\n"
   ]
  },
  {
   "cell_type": "code",
   "execution_count": 3,
   "metadata": {},
   "outputs": [],
   "source": [
    "# python implementation\n",
    "\n",
    "# class Node\n",
    "\n",
    "class Node:\n",
    "    def __init__(self, val):\n",
    "        self.val = val\n",
    "        self.next = None\n",
    "        \n",
    "    def get_data(self):\n",
    "        return self.val\n",
    "    \n",
    "    def set_data(self, val):\n",
    "        self.val = val\n",
    "        \n",
    "    def get_next(self):\n",
    "        return self.next\n",
    "    \n",
    "    def set_next(self, next):\n",
    "        self.next = next"
   ]
  },
  {
   "cell_type": "code",
   "execution_count": 4,
   "metadata": {},
   "outputs": [],
   "source": [
    "j = Node(5)"
   ]
  },
  {
   "cell_type": "code",
   "execution_count": 5,
   "metadata": {},
   "outputs": [],
   "source": [
    "j.set_data(6)"
   ]
  },
  {
   "cell_type": "code",
   "execution_count": 6,
   "metadata": {},
   "outputs": [
    {
     "data": {
      "text/plain": [
       "6"
      ]
     },
     "execution_count": 6,
     "metadata": {},
     "output_type": "execute_result"
    }
   ],
   "source": [
    "j.get_data()"
   ]
  },
  {
   "cell_type": "code",
   "execution_count": 7,
   "metadata": {},
   "outputs": [],
   "source": [
    "j.set_next(7)"
   ]
  },
  {
   "cell_type": "code",
   "execution_count": 8,
   "metadata": {},
   "outputs": [
    {
     "data": {
      "text/plain": [
       "7"
      ]
     },
     "execution_count": 8,
     "metadata": {},
     "output_type": "execute_result"
    }
   ],
   "source": [
    "j.get_next()"
   ]
  },
  {
   "cell_type": "code",
   "execution_count": 64,
   "metadata": {},
   "outputs": [],
   "source": [
    "# class LinkedList\n",
    "\n",
    "class LinkedList:\n",
    "    \n",
    "    def __init__(self):\n",
    "        self.head = None\n",
    "        self.count = 0\n",
    "        \n",
    "    def insertHead(self, val):\n",
    "        new_node = Node(val)\n",
    "        new_node.set_next(self.head)\n",
    "        self.head = new_node\n",
    "        self.count += 1\n",
    "    \n",
    "    def find(self, val):\n",
    "        item = self.head\n",
    "        while item != None:\n",
    "            if item.get_data() == val:\n",
    "                return item\n",
    "            item = item.get_next()\n",
    "        return None\n",
    "            \n",
    "    def remove(self, val):\n",
    "        curr = self.head()\n",
    "        prev = None\n",
    "        while curr != None:\n",
    "            if curr.get_data() == val:\n",
    "                if prev == None:\n",
    "                    self.head = curr.get_next()\n",
    "                else:\n",
    "                    prev.set_next(curr.get_next())\n",
    "                self.count -= 1\n",
    "            prev = curr\n",
    "            curr = curr.get_next()\n",
    "        \n",
    "    def get_count(self):\n",
    "        return self.count\n",
    "    \n",
    "    def is_empty(self):\n",
    "        return self.head == None\n",
    "                \n",
    "        \n",
    "# this can be extended to a double-linked list by also linking each node to its previous node      \n"
   ]
  },
  {
   "cell_type": "code",
   "execution_count": 65,
   "metadata": {},
   "outputs": [],
   "source": [
    "l = LinkedList()"
   ]
  },
  {
   "cell_type": "code",
   "execution_count": 66,
   "metadata": {},
   "outputs": [],
   "source": [
    "l.insertHead(7)\n",
    "l.insertHead(6)\n",
    "l.insertHead(5)"
   ]
  },
  {
   "cell_type": "code",
   "execution_count": 67,
   "metadata": {},
   "outputs": [
    {
     "data": {
      "text/plain": [
       "3"
      ]
     },
     "execution_count": 67,
     "metadata": {},
     "output_type": "execute_result"
    }
   ],
   "source": [
    "l.get_count()"
   ]
  },
  {
   "cell_type": "code",
   "execution_count": 68,
   "metadata": {},
   "outputs": [
    {
     "data": {
      "text/plain": [
       "<__main__.Node at 0x2110220eca0>"
      ]
     },
     "execution_count": 68,
     "metadata": {},
     "output_type": "execute_result"
    }
   ],
   "source": [
    "l.find(7)"
   ]
  },
  {
   "cell_type": "code",
   "execution_count": 69,
   "metadata": {},
   "outputs": [
    {
     "data": {
      "text/plain": [
       "False"
      ]
     },
     "execution_count": 69,
     "metadata": {},
     "output_type": "execute_result"
    }
   ],
   "source": [
    "l.is_empty()"
   ]
  },
  {
   "cell_type": "code",
   "execution_count": 70,
   "metadata": {},
   "outputs": [
    {
     "name": "stdout",
     "output_type": "stream",
     "text": [
      "5\n",
      "6\n",
      "7\n"
     ]
    }
   ],
   "source": [
    "i = l.head\n",
    "while i != None:\n",
    "    print(i.get_data())\n",
    "    i = i.get_next()"
   ]
  },
  {
   "cell_type": "markdown",
   "metadata": {},
   "source": [
    "**Stacks**\n",
    "\n",
    "LIFO : last in first out\n",
    "\n",
    "stacks are often implemnted through arrays\n",
    "stack operations: push, pop, peek\n",
    "\n",
    "Stacks in computer science: function calls are placed onto a stack (call = push, return = pop)\n",
    "undo operation uses stack"
   ]
  },
  {
   "cell_type": "code",
   "execution_count": 9,
   "metadata": {},
   "outputs": [
    {
     "name": "stdout",
     "output_type": "stream",
     "text": [
      "deque(['a', 'b', 'e', 'f', 'i', 'k'])\n"
     ]
    },
    {
     "data": {
      "text/plain": [
       "'k'"
      ]
     },
     "execution_count": 9,
     "metadata": {},
     "output_type": "execute_result"
    }
   ],
   "source": [
    "# python implementation\n",
    "# Deque (short for 'double ended queue') object from collections module can be used as stacks\n",
    "\n",
    "from collections import deque  # time complexity to push and pop is O(1)\n",
    "\n",
    "j = deque('abef')\n",
    "\n",
    "j.append('i') # push\n",
    "\n",
    "j.append('k')\n",
    "\n",
    "print(j)\n",
    "\n",
    "j.pop()"
   ]
  },
  {
   "cell_type": "code",
   "execution_count": 22,
   "metadata": {},
   "outputs": [],
   "source": [
    "# Exercise: write a checkBalance function that accepts a string source code and checks whether the braces/parentheses are closed\n",
    "# return the index at which an imbalance occurs or -1 if balanced. If any parentheses is not closed return string length\n",
    "\n",
    "from collections import deque\n",
    "\n",
    "def checkBalance(string):\n",
    "    paren = deque()\n",
    "    for i in range(len(string)):\n",
    "        c = string[i]\n",
    "        if c in ('[', '{', '('):\n",
    "            paren.append(c)\n",
    "        elif c in (']', '}', ')'):\n",
    "            if len(paren) == 0:\n",
    "                return i\n",
    "            else:\n",
    "                p = paren[-1]\n",
    "                if (c == ')' and p == '(') or (c == '}' and p == '{') or (c == ']' and p == '['):\n",
    "                    paren.pop()\n",
    "                else:\n",
    "                    return i\n",
    "    if len(paren) > 0:\n",
    "        return len(string)\n",
    "    else:\n",
    "        return -1"
   ]
  },
  {
   "cell_type": "code",
   "execution_count": 23,
   "metadata": {},
   "outputs": [
    {
     "name": "stdout",
     "output_type": "stream",
     "text": [
      "-1\n",
      "14\n",
      "20\n",
      "8\n"
     ]
    }
   ],
   "source": [
    "# tests\n",
    "\n",
    "string1 = \"if (a(4) > 9) { foo(a(2)); }\"  # returns -1\n",
    "string2 = \"for (i=0;i<3(a};i++){foo{);)}\" # returns 14\n",
    "string3 = \"while (true) foo(); }{ ()\"  # returns 20\n",
    "string4 = \"if (x) {\"  # returns 8\n",
    "\n",
    "print(checkBalance(string1))\n",
    "print(checkBalance(string2))\n",
    "print(checkBalance(string3))\n",
    "print(checkBalance(string4))\n"
   ]
  },
  {
   "cell_type": "markdown",
   "metadata": {},
   "source": [
    "**Queues**\n",
    "\n",
    "FIFO first in first out\n",
    "queues are often implemented through linked list\n",
    "\n",
    "queue operations: enqueue, dequeue, peek\n",
    "\n",
    "can be implemented as deque from collection package in python\n",
    "\n",
    "Queue in computer science: print jobs, network packets etc."
   ]
  },
  {
   "cell_type": "code",
   "execution_count": 3,
   "metadata": {},
   "outputs": [
    {
     "name": "stdout",
     "output_type": "stream",
     "text": [
      "deque([3, 2, 1])\n"
     ]
    },
    {
     "data": {
      "text/plain": [
       "1"
      ]
     },
     "execution_count": 3,
     "metadata": {},
     "output_type": "execute_result"
    }
   ],
   "source": [
    "from collections import deque\n",
    "\n",
    "j = deque()\n",
    "\n",
    "j.appendleft(1)    # queue\n",
    "j.appendleft(2)\n",
    "j.appendleft(3)\n",
    "print(j)\n",
    "j.pop()           # FIFO"
   ]
  },
  {
   "cell_type": "markdown",
   "metadata": {},
   "source": [
    " we often mix stacks and queues to achieve certain effects ex: reverse the order of elements of a queue"
   ]
  },
  {
   "cell_type": "code",
   "execution_count": 10,
   "metadata": {},
   "outputs": [],
   "source": [
    "# exercise: write a function 'stutter' where you pass in a queue and it returns a queue with 2 copies of every element\n",
    "\n",
    "from collections import deque\n",
    "\n",
    "def stutter(q):\n",
    "    for i in range(len(q)):\n",
    "        foo = q.pop()\n",
    "        q.appendleft(foo)\n",
    "        q.appendleft(foo)\n",
    "    return q\n",
    "    "
   ]
  },
  {
   "cell_type": "code",
   "execution_count": 11,
   "metadata": {},
   "outputs": [
    {
     "data": {
      "text/plain": [
       "deque(['a', 'a', 'b', 'b', 'c', 'c'])"
      ]
     },
     "execution_count": 11,
     "metadata": {},
     "output_type": "execute_result"
    }
   ],
   "source": [
    "# test\n",
    "j = deque('abc')\n",
    "j\n",
    "stutter(j)"
   ]
  },
  {
   "cell_type": "code",
   "execution_count": 23,
   "metadata": {},
   "outputs": [],
   "source": [
    "# exercise: write a function 'mirror' that accepts a queue of strings and appends the queue's contents to itself reversed\n",
    "\n",
    "def mirror(q):\n",
    "    q2 = deque()\n",
    "    while len(q) > 0:\n",
    "        foo = q.pop()\n",
    "        q2.append(foo)\n",
    "        q2.appendleft(foo)\n",
    "    return q2"
   ]
  },
  {
   "cell_type": "code",
   "execution_count": 24,
   "metadata": {},
   "outputs": [
    {
     "data": {
      "text/plain": [
       "deque(['a', 'b', 'c', 'c', 'b', 'a'])"
      ]
     },
     "execution_count": 24,
     "metadata": {},
     "output_type": "execute_result"
    }
   ],
   "source": [
    "# test\n",
    "j = deque('abc')\n",
    "mirror(j)"
   ]
  },
  {
   "cell_type": "markdown",
   "metadata": {},
   "source": [
    "**Sets**\n",
    "\n",
    "Sets are collections of elements with no duplicates; fast for searching\n",
    "items inside a set are sorted\n",
    "sets are implemented using a binary tree\n",
    "\n",
    "hash-sets are sightly faster that sets; elements inside a hash-set are unordered; implemented using hast tables\n",
    "\n",
    "Set operations: add, remove, search(contains)\n"
   ]
  },
  {
   "cell_type": "markdown",
   "metadata": {},
   "source": [
    "**Maps**\n",
    "\n",
    "Maps are a collection of key value pairs (k:v), where the value can be looked up very quickly for any given key \n",
    "eg. dictionary, phonebook\n",
    "\n",
    "implmented using a linked structure called binary search tree; keys are stored in a sorted order\n",
    "\n",
    "another variant is a HashMap implemented using a special array called a hash table; very fast; keys are unordered\n",
    "\n",
    "\n",
    "\n"
   ]
  }
 ],
 "metadata": {
  "kernelspec": {
   "display_name": "Python 3",
   "language": "python",
   "name": "python3"
  },
  "language_info": {
   "codemirror_mode": {
    "name": "ipython",
    "version": 3
   },
   "file_extension": ".py",
   "mimetype": "text/x-python",
   "name": "python",
   "nbconvert_exporter": "python",
   "pygments_lexer": "ipython3",
   "version": "3.8.5"
  }
 },
 "nbformat": 4,
 "nbformat_minor": 4
}
