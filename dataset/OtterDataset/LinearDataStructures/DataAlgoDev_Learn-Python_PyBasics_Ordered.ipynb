{
 "cells": [
  {
   "cell_type": "markdown",
   "metadata": {},
   "source": [
    "# Python Fundamentals : Implementation\n",
    "---\n",
    "    Author  : Ajay Narayanan\n",
    "\n",
    "    Credits : ChatGPT\n",
    "\n",
    "    Copyleft"
   ]
  },
  {
   "cell_type": "code",
   "execution_count": 46,
   "metadata": {},
   "outputs": [
    {
     "name": "stdout",
     "output_type": "stream",
     "text": [
      "namespace(name='cpython', cache_tag='cpython-312', version=sys.version_info(major=3, minor=12, micro=2, releaselevel='final', serial=0), hexversion=51118832)\n"
     ]
    }
   ],
   "source": [
    "# Python is a hybrid of compiled and interpreted language.\n",
    "# High level code is compiled into intermediate bytecode(Like C, this code is not directly run by cpu, but by PVM. This phase does not have strict type checks since it is dynamically typed, but includes argument count matching, syntax and semantics checkes)\n",
    "# PVM has different implementations, mainly cpython(generally python).\n",
    "# Bython is an implementation using web assembly(Wasm) which can run python in web browsers without needing server side interpreter. Like javascript running on browsers.\n",
    "\n",
    "import sys\n",
    "print(sys.implementation)"
   ]
  },
  {
   "cell_type": "markdown",
   "metadata": {},
   "source": [
    "## Dunder Variables and Dunder Methods"
   ]
  },
  {
   "cell_type": "code",
   "execution_count": 39,
   "metadata": {},
   "outputs": [
    {
     "name": "stdout",
     "output_type": "stream",
     "text": [
      "__main__\n",
      "Name of the imported module : math\n",
      "<class '__main__.Hitman'>\n",
      "(<class 'int'>, <class 'object'>)\n"
     ]
    },
    {
     "data": {
      "text/plain": [
       "<function __main__.MyClass.__str__(self)>"
      ]
     },
     "execution_count": 39,
     "metadata": {},
     "output_type": "execute_result"
    }
   ],
   "source": [
    "# VARIABLES\n",
    "# ---------\n",
    "#\n",
    "# __name__ : Represent the name of the module / script\n",
    "import math\n",
    "print(__name__)\n",
    "print(\"Name of the imported module :\",math.__name__)\n",
    "#\n",
    "# __main__ : To prevent the code from running when comtaining module is imported\n",
    "#\n",
    "# __doc__ : Stores the 'Documentation' of a function or class\n",
    "#\n",
    "# __file__ : Stors the 'Path' of the file\n",
    "#\n",
    "# __dict__ : A dictionary that holds the 'Attributes' (name and value) of an object.\n",
    "#\n",
    "# __class__ : Refers to the 'class' of an object\n",
    "class Hitman:\n",
    "    pass\n",
    "a = Hitman()\n",
    "print(a.__class__)\n",
    "\n",
    "# __mro__ : Method resolution order - Gives out the inhertiance hierarchy of an object \n",
    "print(int.__mro__)\n",
    "\n",
    "\n",
    "# METHODS\n",
    "# -------\n",
    "#\n",
    "# __init__() : Object Constructor\n",
    "#\n",
    "# __del__() : Destructor method\n",
    "# __str__()  and __repr__(): Return a human-readable string representation of an object.\n",
    "class MyClass:\n",
    "    def __str__(self):\n",
    "        return f\"MyClass object: {self.name}\"\n",
    "MyClass.__str__\n",
    "\n",
    "# __len__() : Returns the length of an object \n",
    "# __iter__(self), __next__(self)"
   ]
  },
  {
   "cell_type": "code",
   "execution_count": 1,
   "metadata": {},
   "outputs": [
    {
     "name": "stdout",
     "output_type": "stream",
     "text": [
      "['In', 'Out', '_', '__', '___', '__builtin__', '__builtins__', '__doc__', '__loader__', '__name__', '__package__', '__spec__', '__vsc_ipynb_file__', '_dh', '_i', '_i1', '_ih', '_ii', '_iii', '_oh', 'exit', 'get_ipython', 'open', 'quit']\n",
      "['__add__', '__class__', '__contains__', '__delattr__', '__dir__', '__doc__', '__eq__', '__format__', '__ge__', '__getattribute__', '__getitem__', '__getnewargs__', '__getstate__', '__gt__', '__hash__', '__init__', '__init_subclass__', '__iter__', '__le__', '__len__', '__lt__', '__mod__', '__mul__', '__ne__', '__new__', '__reduce__', '__reduce_ex__', '__repr__', '__rmod__', '__rmul__', '__setattr__', '__sizeof__', '__str__', '__subclasshook__', 'capitalize', 'casefold', 'center', 'count', 'encode', 'endswith', 'expandtabs', 'find', 'format', 'format_map', 'index', 'isalnum', 'isalpha', 'isascii', 'isdecimal', 'isdigit', 'isidentifier', 'islower', 'isnumeric', 'isprintable', 'isspace', 'istitle', 'isupper', 'join', 'ljust', 'lower', 'lstrip', 'maketrans', 'partition', 'removeprefix', 'removesuffix', 'replace', 'rfind', 'rindex', 'rjust', 'rpartition', 'rsplit', 'rstrip', 'split', 'splitlines', 'startswith', 'strip', 'swapcase', 'title', 'translate', 'upper', 'zfill']\n"
     ]
    }
   ],
   "source": [
    "print(dir()) # Return names of attributes of an object  \n",
    "print(dir(__name__))"
   ]
  },
  {
   "cell_type": "markdown",
   "metadata": {},
   "source": [
    "## Pass by Object Reference"
   ]
  },
  {
   "cell_type": "code",
   "execution_count": 2,
   "metadata": {},
   "outputs": [
    {
     "name": "stdout",
     "output_type": "stream",
     "text": [
      "1 1 2\n",
      "140703456905656 140703456905656 140703456905688\n",
      "1 3 1\n",
      "140703456905656 140703456905720 140703456905656\n",
      "[1, 2] [1, 2] [1, 2]\n",
      "2594553019456 2594553019456 2594553019456\n",
      "[1] [1] [1, 2]\n",
      "2594552963584 2594552961344 2594552963968\n"
     ]
    }
   ],
   "source": [
    "# Immutable objects (Numeric, String, Tuple)\n",
    "# -----------------\n",
    "# Immutable objects cannot be altered in a same memory address, any changes creates new object in memory.\n",
    "# Due to this, assignement operator, shallow copy and deepcopy does not effect the memory address of that object.\n",
    "# All those 3 operations creates a reference pointer to the original object in same memmory address.\n",
    "# This saves Memory\n",
    "\n",
    "a = b = c = 1\n",
    "c = 2\n",
    "print(a,b,c)\n",
    "print(id(a), id(b), id(c))      # Allocates 'different' memory\n",
    "\n",
    "a = 1\n",
    "b = 1\n",
    "c = 1\n",
    "b = 3\n",
    "print(a,b,c)\n",
    "print(id(a), id(b), id(c))      # Allocates 'different' memory\n",
    "\n",
    "# Mutable objects (List, Dictionary, Set)\n",
    "# ---------------\n",
    "# Since mutable can be modified, the the reference variables tied to them can alter the object in same memory address.\n",
    "# Due to this item assignment, shallow copy, deep copy creats different objects in memory.\n",
    "# However there is some internal difference in assignment and [::] and copy.copy().\n",
    "# '=' simply creates a reference pointer, so any changes made to any of the associated variable affects all of them.\n",
    "# [::] and copy.copy() creates a copy but doesnot maintain mutual binding, ie changes to the copy does not affect the original object, but changes in original object affects its copies.\n",
    "# [::] is a more convinient alternate to copy.copy for lists, and copy.copy() is the way to shallow copy on dictionaries, sets.\n",
    "\n",
    "a = b = c = [1]\n",
    "c.append(2)\n",
    "print(a,b,c)\n",
    "print(id(a), id(b), id(c))      # Allocates 'refrence' pointer\n",
    "\n",
    "a = [1]\n",
    "b = [1]\n",
    "c = [1]\n",
    "c.append(2)\n",
    "print(a,b,c)\n",
    "print(id(a), id(b), id(c))      # Allocates 'different' memory"
   ]
  },
  {
   "cell_type": "code",
   "execution_count": 86,
   "metadata": {},
   "outputs": [
    {
     "name": "stdout",
     "output_type": "stream",
     "text": [
      "Original objects : 2154702911616 2154713123328\n",
      "Shallow copy     : 2154702911616 2154713123328 2154713125120\n",
      "Deep copy        : 2154702911616 2154711016704\n"
     ]
    }
   ],
   "source": [
    "from copy import copy\n",
    "from copy import deepcopy\n",
    "\n",
    "a = (1,2)       # Immutable\n",
    "b = [1,2]       # Mutable\n",
    "\n",
    "print(\"Original objects :\",id(a), id(b))\n",
    "\n",
    "# Shallow copy\n",
    "# ------------\n",
    "# c = a\n",
    "# d = b\n",
    "c = copy(a)\n",
    "d = copy(b)\n",
    "x = b\n",
    "print(\"Shallow copy     :\", id(c), id(x), id(d))\n",
    "\n",
    "# Deep copy\n",
    "# --------\n",
    "e = deepcopy(a)\n",
    "f = deepcopy(b)\n",
    "\n",
    "print(\"Deep copy        :\", id(e), id(f))"
   ]
  },
  {
   "cell_type": "code",
   "execution_count": 99,
   "metadata": {},
   "outputs": [
    {
     "name": "stdout",
     "output_type": "stream",
     "text": [
      "Original : [1, 2, [1, 2], [1, [2]]]\n",
      "Copy     : [1, 'changed', [1, 2], [1, [2]]]\n"
     ]
    }
   ],
   "source": [
    "# shallow copy using slicing operator [::]\n",
    "a = [1, 2, [1, 2], [1,[2]]]\n",
    "b = a[::]\n",
    "b[1] = \"Changed\"\n",
    "print(\"Original :\", a)         # Creates shallow copy of a\n",
    "a[1] = \"changed\"               # Item assignment does not affect the original list since no reference pointer to a(Like one sided relationship)\n",
    "print(\"Copy     :\", a)"
   ]
  },
  {
   "cell_type": "markdown",
   "metadata": {},
   "source": [
    "# Input Output"
   ]
  },
  {
   "cell_type": "code",
   "execution_count": 3,
   "metadata": {},
   "outputs": [
    {
     "name": "stdout",
     "output_type": "stream",
     "text": [
      "Hello world\n",
      "Ajay-narayanan\n"
     ]
    }
   ],
   "source": [
    "import sys\n",
    "sys.stdout.write(\"Hello world\")\n",
    "\n",
    "print(\"\\nAjay\",\"narayanan\", sep=\"-\")"
   ]
  },
  {
   "cell_type": "code",
   "execution_count": 5,
   "metadata": {},
   "outputs": [
    {
     "name": "stdout",
     "output_type": "stream",
     "text": [
      "['21 21 54 '] <class 'list'>\n"
     ]
    }
   ],
   "source": [
    "# Input values as a list\n",
    "# Specify delimiter inside split()\n",
    "values = input(\"Enter multiple values separated by space: \").split()\n",
    "print(values, type(values))"
   ]
  },
  {
   "cell_type": "code",
   "execution_count": 7,
   "metadata": {},
   "outputs": [
    {
     "name": "stdout",
     "output_type": "stream",
     "text": [
      "21 54 <class 'int'> <class 'int'>\n"
     ]
    }
   ],
   "source": [
    "value1, value2 = map(int, input(\"Enter multiple integers separated by space: \").split())\n",
    "print(value1, value2, type(value1),type(value2))"
   ]
  },
  {
   "cell_type": "code",
   "execution_count": 10,
   "metadata": {},
   "outputs": [
    {
     "name": "stdout",
     "output_type": "stream",
     "text": [
      "Total number of students:  12\n",
      "Number of boys is :  54\n",
      "Number of girls is :  87\n"
     ]
    }
   ],
   "source": [
    "# Taking three inputs at a time\n",
    "x, y, z = input(\"Enter three values comma seperated: \").split(sep=',')\n",
    "print(\"Total number of students: \", x)\n",
    "print(\"Number of boys is : \", y)\n",
    "print(\"Number of girls is : \", z)"
   ]
  },
  {
   "cell_type": "markdown",
   "metadata": {},
   "source": [
    "# Operators"
   ]
  },
  {
   "cell_type": "code",
   "execution_count": 22,
   "metadata": {},
   "outputs": [
    {
     "name": "stdout",
     "output_type": "stream",
     "text": [
      "1\n",
      "7\n",
      "6\n",
      "-6\n",
      "10\n",
      "1\n"
     ]
    }
   ],
   "source": [
    "# Bitwise operations\n",
    "# ------------------\n",
    "a = 5\n",
    "b = 3\n",
    "print(a & b)  # Bitwise AND\n",
    "print(a | b)  # Bitwise OR\n",
    "print(a ^ b)  # Bitwise XOR\n",
    "print(~a)     # Bitwise NOT \n",
    "print(a<<1)   # Bitwise LEFT SHIFT\n",
    "print(a>>2)   # Bitwise RIGHT SHIFT"
   ]
  },
  {
   "cell_type": "code",
   "execution_count": 80,
   "metadata": {},
   "outputs": [
    {
     "name": "stdout",
     "output_type": "stream",
     "text": [
      "True True\n",
      "True True\n",
      "False -2\n",
      "2 6 6\n",
      "{1, 2, 4, 5}\n"
     ]
    },
    {
     "name": "stderr",
     "output_type": "stream",
     "text": [
      "C:\\Users\\ajayn\\AppData\\Local\\Temp\\ipykernel_13324\\1389121805.py:4: DeprecationWarning: Bitwise inversion '~' on bool is deprecated. This returns the bitwise inversion of the underlying int object and is usually not what you expect from negating a bool. Use the 'not' operator for boolean negation or ~int(x) if you really want the bitwise inversion of the underlying int.\n",
      "  print(not y > 0, ~(y > 0)) # Bit wise operators on Bool is depricated, use logical for Bool operations\n"
     ]
    }
   ],
   "source": [
    "x, y = 5, 10\n",
    "print(x > 0 and y > 0, (x > 0) & (y > 0))\n",
    "print(x > 0 or y < 0, (x > 0) | (y < 0))\n",
    "print(not y > 0, ~(y > 0)) # Bit wise operators on Bool is depricated, use logical for Bool operations\n",
    "\n",
    "print(1^3, 2^4, 3^5 )\n",
    "print({1, 2, 3} ^ {3, 4, 5}) #Symmetric difference"
   ]
  },
  {
   "cell_type": "code",
   "execution_count": null,
   "metadata": {},
   "outputs": [
    {
     "name": "stdout",
     "output_type": "stream",
     "text": [
      "True\n",
      "True\n",
      "True\n",
      "True\n",
      "True\n",
      "False\n"
     ]
    }
   ],
   "source": [
    "# Identity operator : 'is', 'is not'\n",
    "# -----------------------------------\n",
    "stringlist = ['a','comp','bc']\n",
    "mystring = 'comp'\n",
    "print(stringlist[1] == mystring)\n",
    "print(stringlist[1] is mystring)\n",
    "\n",
    "str1 = \"hello\"\n",
    "str2 = \"hello\"\n",
    "# print(id(str1), id(str2))\n",
    "\n",
    "print(str1 == str2)  # Output: True\n",
    "print(str1 is str2)  # Output: True\n",
    "\n",
    "str3 = \"\".join([\"hel\", \"lo\"])\n",
    "\n",
    "print(str1 == str3)  # Output: True\n",
    "print(str1 is str3)  # Output: False\n",
    "\n",
    "# Python uses same memory location for similiar strings, integers etc."
   ]
  },
  {
   "cell_type": "code",
   "execution_count": 95,
   "metadata": {},
   "outputs": [
    {
     "name": "stdout",
     "output_type": "stream",
     "text": [
      "True\n",
      "True\n",
      "True\n",
      "True\n",
      "True\n"
     ]
    }
   ],
   "source": [
    "# Membership operator 'in', 'not in'\n",
    "# -----------------------------------\n",
    "set1 = {'a','b'}\n",
    "list1 = ['a','b']\n",
    "dict1 = {'a' : 0,'b' : 1}\n",
    "tuple1 = ('a','b')\n",
    "str1 = 'ab'\n",
    "int1 = 123\n",
    "print('a' in set1)\n",
    "print('a' in list1)\n",
    "print('a' in dict1)\n",
    "print('a' in str1)\n",
    "print('a' in tuple1)\n",
    "# print(1 in int1)   This will throw error as int/numerics are not iterable"
   ]
  },
  {
   "cell_type": "code",
   "execution_count": 58,
   "metadata": {},
   "outputs": [
    {
     "name": "stdout",
     "output_type": "stream",
     "text": [
      "10 is the minimum\n",
      "20 is the maximum\n"
     ]
    }
   ],
   "source": [
    "# Ternary operation in python\n",
    "# ---------------------------\n",
    "a, b = 10, 20\n",
    "exp = {True: f\"{a} is the minimum\", False: f\"{b} is the minimum\"} [a<b]\n",
    "print(exp)\n",
    "\n",
    "a, b = 10, 20\n",
    "exp = f\"{a} is the maximum\" if a > b else f\"{b} is the maximum\"\n",
    "print(exp)"
   ]
  },
  {
   "cell_type": "markdown",
   "metadata": {},
   "source": [
    "# Data Types\n",
    "---"
   ]
  },
  {
   "cell_type": "markdown",
   "metadata": {},
   "source": [
    "## 1. Numeric"
   ]
  },
  {
   "cell_type": "code",
   "execution_count": 11,
   "metadata": {},
   "outputs": [
    {
     "name": "stdout",
     "output_type": "stream",
     "text": [
      "<class 'int'> 10\n",
      "<class 'str'> ajay 4\n",
      "<class 'bool'> True\n",
      "<class 'complex'> (10+6j)\n",
      "<class 'list'> ['blah', 'ajay', 10]\n",
      "<class 'tuple'> (1, 2.8, 'ajayn1@gmail.com')\n"
     ]
    }
   ],
   "source": [
    "ten = 10\n",
    "ajay = '''ajay'''\n",
    "bin = True\n",
    "complexx = 10+6j\n",
    "list1 = [\"\"\"blah\"\"\",ajay,ten]\n",
    "tuple1 = (1,2.8,'ajayn1@gmail.com')\n",
    "\n",
    "print(type(ten),ten)\n",
    "print(type(ajay),ajay,len(ajay))\n",
    "print(type(bin),bin)\n",
    "print(type(complexx),complexx)\n",
    "print(type(list1),list1)\n",
    "print(type(tuple1),tuple1)  "
   ]
  },
  {
   "cell_type": "code",
   "execution_count": 7,
   "metadata": {},
   "outputs": [
    {
     "name": "stdout",
     "output_type": "stream",
     "text": [
      "1.000000e+06\n",
      "4,268.99\n"
     ]
    }
   ],
   "source": [
    "a = 1000000\n",
    "b = 4268.98764\n",
    "print(f\"{a:e}\\n{b:,.2f}\")  # exponent and foating point, comma definition "
   ]
  },
  {
   "cell_type": "code",
   "execution_count": 15,
   "metadata": {},
   "outputs": [
    {
     "name": "stdout",
     "output_type": "stream",
     "text": [
      "False\n",
      "True\n"
     ]
    }
   ],
   "source": [
    "# Float memory limitation\n",
    "# -----------------------\n",
    "from decimal import Decimal\n",
    "\n",
    "print(1.1 + 1.3 == 2.4)\n",
    "print(Decimal('1.1')+Decimal('1.3') == Decimal('2.4')) "
   ]
  },
  {
   "cell_type": "code",
   "execution_count": 66,
   "metadata": {},
   "outputs": [
    {
     "name": "stdout",
     "output_type": "stream",
     "text": [
      "True\n",
      "True\n"
     ]
    }
   ],
   "source": [
    "# Python infinity\n",
    "# ---------------\n",
    "a = float(\"inf\")    # -float(\"-inf\")\n",
    "b = float(\"-inf\")   # -float(\"inf\")\n",
    "c = 2 ** 10\n",
    "d = -(2 ** 10)\n",
    "print(a > c)\n",
    "print(d > b)\n",
    "\n",
    "''' \n",
    "<-------------------|--------------------->\n",
    "float(\"-inf\")       0          float(\"inf\")\n",
    "\n",
    "'''"
   ]
  },
  {
   "cell_type": "markdown",
   "metadata": {},
   "source": [
    "## 2. String"
   ]
  },
  {
   "cell_type": "code",
   "execution_count": null,
   "metadata": {},
   "outputs": [
    {
     "name": "stdout",
     "output_type": "stream",
     "text": [
      "ajay : 26\n",
      "ajay : 26\n",
      "ajay : 26\n",
      "ajay : 26\n",
      "ajay : 26\n"
     ]
    }
   ],
   "source": [
    "# String formating\n",
    "# ----------------\n",
    "name = 'ajay'\n",
    "age = 26\n",
    "print(name + ' : ' + str(age)) # String concatenation\n",
    "print(name, ':', age) #puts space in b/w comma\n",
    "print(f'{name} : {age}') #formatted way\n",
    "print('%s : %s' % (name, age)) #string formatting, converts to string, eq to str()\n",
    "print('{} : {}'.format(name, age)) #format function"
   ]
  },
  {
   "cell_type": "code",
   "execution_count": null,
   "metadata": {},
   "outputs": [
    {
     "name": "stdout",
     "output_type": "stream",
     "text": [
      "My name is Ram and I am 22 years old. 22 is my favorite number.\n"
     ]
    }
   ],
   "source": [
    "name = \"Ram\"\n",
    "age = 22\n",
    "message = \"My name is {0} and I am {1} years old. {1} is my favorite number.\".format(name, age)\n",
    "print(message)"
   ]
  },
  {
   "cell_type": "code",
   "execution_count": null,
   "metadata": {},
   "outputs": [
    {
     "name": "stdout",
     "output_type": "stream",
     "text": [
      "Engineer\n",
      "reenignE\n",
      "Eng\n",
      "ign\n",
      "Ajay Narayanan is an Engineer with age 26\n",
      "['Hello', ' world! This is a sample string.']\n",
      "ppp\n"
     ]
    }
   ],
   "source": [
    "# String Slicing\n",
    "# --------------\n",
    "a = 'Ajay Narayanan'\n",
    "b = 26\n",
    "c = 'Engineer'\n",
    "\n",
    "print(c[::]) #print(c[0:8:1])\n",
    "print(c[-1:-9:-1]) #print(c[::-1])\n",
    "print(c[-8:-5:1])\n",
    "print(c[-5:-8:-1])\n",
    "print('%s is an %s with age %s' % (a,c,b))\n",
    "\n",
    "\n",
    "# f'{variable}\n",
    "# '{}'.format(ordered list)\n",
    "# '%s' % (ordered list) %s for string and %d for integer placeholder\n",
    "\n",
    "string = \"Hello, world! This is a sample string.\"\n",
    "print(string.split(\",\",maxsplit=-1))\n",
    "\n",
    "d = 'Python'\n",
    "print('p' * 3)"
   ]
  },
  {
   "cell_type": "code",
   "execution_count": null,
   "metadata": {},
   "outputs": [
    {
     "name": "stdout",
     "output_type": "stream",
     "text": [
      "2005173820912 2005173919792\n",
      "Ajay Narayanan\n"
     ]
    }
   ],
   "source": [
    "# strip function\n",
    "# --------------\n",
    "stri1 = \" Ajay Narayanan \"\n",
    "stri2 = stri1.strip() # Removes leading and trailing white spaces\n",
    "print(id(stri1), id(stri2))  # Creates different objects as string is immutable\n",
    "\n",
    "stri1 = \"__Ajay Narayanan++\"\n",
    "print(stri1.strip(\"+_\"))"
   ]
  },
  {
   "cell_type": "code",
   "execution_count": null,
   "metadata": {},
   "outputs": [],
   "source": [
    "str1 = 'my isname isisis jameis isis bond'\n",
    "sub = 'is'\n",
    "print(str1.count(sub, 4))\n",
    "str1.title()"
   ]
  },
  {
   "cell_type": "code",
   "execution_count": null,
   "metadata": {},
   "outputs": [
    {
     "name": "stdout",
     "output_type": "stream",
     "text": [
      "True\n",
      "111\n",
      "104\n"
     ]
    }
   ],
   "source": [
    "print('John'>'Jhon') # Compares with unicode values\n",
    "print(ord('o')) # Ordinal - Corrosponding Unicode value\n",
    "print(ord('h'))"
   ]
  },
  {
   "cell_type": "markdown",
   "metadata": {},
   "source": [
    "## 3. Tuple"
   ]
  },
  {
   "cell_type": "code",
   "execution_count": null,
   "metadata": {},
   "outputs": [
    {
     "name": "stdout",
     "output_type": "stream",
     "text": [
      "('banana', 'apple', 'pappaya', 1, 2, 3, 4.5)\n",
      "<class 'tuple'>\n",
      "<class 'complex'>\n",
      "john 30 New York\n"
     ]
    }
   ],
   "source": [
    "a1 = 'banana','apple','pappaya',1,2,3,4.5 #Tuple packing without ()\n",
    "b1 = ('tomamto','squash', 1, 2, 4.6, 1+2j) #Tuple packing with ()\n",
    "print(a1)\n",
    "print(type(b1))\n",
    "print(type(b1[5]))\n",
    "\n",
    "person = (\"john\" , 30 , \"New York\")\n",
    "name, age, city = person # Tuple unpacking\n",
    "\n",
    "print(name, age, city)"
   ]
  },
  {
   "cell_type": "code",
   "execution_count": null,
   "metadata": {},
   "outputs": [
    {
     "name": "stdout",
     "output_type": "stream",
     "text": [
      "('a', 'j', 'a', 'y') <class 'tuple'>\n",
      "(1, 'ajay', 2) <class 'tuple'>\n"
     ]
    }
   ],
   "source": [
    "# Type conversion of list to tuple\n",
    "a = 'ajay'\n",
    "list1 = [1,'ajay',2]\n",
    "x = tuple(a)\n",
    "print(x, type(x))\n",
    "y = tuple(list1)\n",
    "print(y, type(y))"
   ]
  },
  {
   "cell_type": "code",
   "execution_count": null,
   "metadata": {},
   "outputs": [
    {
     "name": "stdout",
     "output_type": "stream",
     "text": [
      "(100, 50, 100, 50)\n"
     ]
    }
   ],
   "source": [
    "atuple1 = (100,50)\n",
    "print(atuple1 * 2)"
   ]
  },
  {
   "cell_type": "code",
   "execution_count": null,
   "metadata": {},
   "outputs": [
    {
     "name": "stdout",
     "output_type": "stream",
     "text": [
      "20\n",
      "b\n",
      "{'s2', 's1'}\n",
      "<class 'tuple'> <class 'set'>\n"
     ]
    }
   ],
   "source": [
    "atuple = ('Orange', [10,20,30], (5,15,25), {1:'a',2:'b',3:'c'}, {'s1','s2'})\n",
    "print(atuple[1][1]) # To access an element\n",
    "print(atuple[3][2])\n",
    "print(atuple[4])\n",
    "print(type(atuple) ,type(atuple[4]))"
   ]
  },
  {
   "cell_type": "code",
   "execution_count": null,
   "metadata": {},
   "outputs": [
    {
     "name": "stdout",
     "output_type": "stream",
     "text": [
      "(1, 2, 3, 'apple', 'ball', 'cat')\n"
     ]
    }
   ],
   "source": [
    "tuple1 = (1,2,3)\n",
    "tuple2 = ('apple','ball', 'cat')\n",
    "tuple3 = tuple1 + tuple2 # Addition\n",
    "print(tuple3)\n",
    "\n",
    "# del(tuple3)\n",
    "# print(tuple3)"
   ]
  },
  {
   "cell_type": "code",
   "execution_count": null,
   "metadata": {},
   "outputs": [
    {
     "name": "stdout",
     "output_type": "stream",
     "text": [
      "point(x=1, y=2, z=3)\n",
      "1\n",
      "2\n",
      "Ajay\n",
      "Akhil\n"
     ]
    }
   ],
   "source": [
    "# Named tuple\n",
    "# -----------\n",
    "# Provides a way to create tuple like objects and access the instance attributes by name or index\n",
    "from collections import namedtuple\n",
    "Point = namedtuple('point',['x','y','z']) # Similar to defining a class named Point, here point just refers to the name of the tuple group\n",
    "p = Point(1,2,3) # Instance creation\n",
    "q = Point(x = 'Ajay', y = 'jubi', z = 'Akhil' )\n",
    "\n",
    "print(p)\n",
    "print(p[0])      # Accessing by index\n",
    "print(p.y)       # Accessing by attribute\n",
    "print(q.x)\n",
    "print(q[2])"
   ]
  },
  {
   "cell_type": "code",
   "execution_count": null,
   "metadata": {},
   "outputs": [
    {
     "name": "stdout",
     "output_type": "stream",
     "text": [
      "(8, 7)\n"
     ]
    }
   ],
   "source": [
    "def add(a, b):\n",
    "    return a+5, b+5  # returning as a tuple even if () not provded\n",
    "\n",
    "result = add(3, 2)\n",
    "print(result)"
   ]
  },
  {
   "cell_type": "markdown",
   "metadata": {},
   "source": [
    "## 4. List"
   ]
  },
  {
   "cell_type": "code",
   "execution_count": null,
   "metadata": {},
   "outputs": [
    {
     "name": "stdout",
     "output_type": "stream",
     "text": [
      "['cherry', 'achar', 'apple']\n",
      "['apple', 'achar', 'cherry']\n",
      "['apple', 'achar', 'cherry', 'banana', 3]\n",
      "5\n",
      "['apple', 'achar', 'cherry']\n",
      "3\n"
     ]
    }
   ],
   "source": [
    "fruits = [\"apple\", \"banana\", \"cherry\"]\n",
    "fruits[1] = 'achar'\n",
    "fruits\n",
    "print(fruits[::-1])\n",
    "print(fruits)\n",
    "\n",
    "fruits.append(\"banana\") # stacking\n",
    "fruits.append(3)\n",
    "print(fruits)\n",
    "print(len(fruits))\n",
    "fruits.remove(\"banana\") # Removes first matching instance\n",
    "fruits.remove(3)\n",
    "# del fruits[0]  # Delete specific object or whole list\n",
    "print(fruits)\n",
    "print(len(fruits))"
   ]
  },
  {
   "cell_type": "code",
   "execution_count": 16,
   "metadata": {},
   "outputs": [
    {
     "name": "stdout",
     "output_type": "stream",
     "text": [
      "[0, 0, 0, 0, 0]\n"
     ]
    }
   ],
   "source": [
    "# Repeated list\n",
    "list2 = [0] * 5\n",
    "print(list2)"
   ]
  },
  {
   "cell_type": "code",
   "execution_count": 17,
   "metadata": {},
   "outputs": [
    {
     "name": "stdout",
     "output_type": "stream",
     "text": [
      "qwerty\n",
      "qwerty\n"
     ]
    }
   ],
   "source": [
    "# Joining strings in a list\n",
    "l = ['q','w','e','r','t','y']\n",
    "s = ''.join(l)\n",
    "print(s)\n",
    "\n",
    "c = \"\"\n",
    "for w in l:\n",
    "    c += w\n",
    "print(c)"
   ]
  },
  {
   "cell_type": "code",
   "execution_count": null,
   "metadata": {},
   "outputs": [],
   "source": [
    "# Nested list\n",
    "matrix = [[1,2,3,[0.1,1.1]],[4,5,6],[7,8]]\n",
    "print(matrix)\n",
    "print(matrix[1][0])\n",
    "print(matrix[0][3][1])"
   ]
  },
  {
   "cell_type": "code",
   "execution_count": null,
   "metadata": {},
   "outputs": [
    {
     "name": "stdout",
     "output_type": "stream",
     "text": [
      "[]\n",
      "[0]\n",
      "[0, 1]\n",
      "[0, 1, 2]\n",
      "[0, 1, 2, 3]\n",
      "[3, 2, 1, 0]\n",
      "16\n",
      "0\n",
      "3\n",
      "None\n",
      "[3, 2, 1, 0, (1, 2)]\n",
      "[3, 2, 1, 0, (1, 2), {'ajay': 26}]\n",
      "<class 'tuple'>\n",
      "<class 'dict'>\n",
      "[3, 2, 1, 0, (1, 2)]\n",
      "[1, 2, 3, 1, 2, (1, 2)]\n",
      "5\n"
     ]
    }
   ],
   "source": [
    "list1 = []\n",
    "print(list1)\n",
    "for i in range(0,4):\n",
    "    list1.append(i)\n",
    "    print(list1)\n",
    "\n",
    "list1.sort(reverse=True)     #list sorting\n",
    "print(list1)\n",
    "print(sum(list1,10))         # sum function can be used in homogenous list\n",
    "print(min(list1))            # Min value of the list\n",
    "print(max(list1))            # Max value of the list\n",
    "print(list1.append((1,2)))   # Append retures None in its function\n",
    "print(list1)\n",
    "list1.append({'ajay':26})    # Appending a dictionary\n",
    "print(list1)\n",
    "print(f'{type(list1[4])}\\n{type(list1[5])}')\n",
    "list1.pop()                  # Removing last element, dictionary popped\n",
    "print(list1)\n",
    "\n",
    "my_list = [1, 2, 3]\n",
    "my_list.extend([1,2,(1,2)])  # Adds another list\n",
    "print(my_list)\n",
    "# my_list.clear()            # Clears all values inside list\n",
    "# print(my_list)\n",
    "print(my_list.index((1,2)))  # Returns first found index of the value"
   ]
  },
  {
   "cell_type": "code",
   "execution_count": 19,
   "metadata": {},
   "outputs": [
    {
     "name": "stdout",
     "output_type": "stream",
     "text": [
      "[1, 9, 25, 49, 81]\n",
      "[81, 49, 25, 9, 1]\n"
     ]
    }
   ],
   "source": [
    "# List comprehension\n",
    "# ------------------\n",
    "\"\"\"\n",
    "A list comprehension is a concise way to create lists in Python.\n",
    "A proper list comprehension should include an iteration part.\n",
    "\"\"\"\n",
    "\n",
    "odd_square = [x ** 2 for x in range(1,11) if (x % 2 == 1)] #List comprehension\n",
    "print(odd_square)\n",
    "odd_square.reverse()\n",
    "print(odd_square)"
   ]
  },
  {
   "cell_type": "code",
   "execution_count": null,
   "metadata": {},
   "outputs": [],
   "source": [
    "numbers = [1, 2, 3, 4, 5]\n",
    "for num in numbers: \n",
    "    if num % 2 == 0:\n",
    "        del numbers[numbers.index(num)] #del method deletes objects\n",
    "\n",
    "print(numbers)  # Output: [1, 3, 5]"
   ]
  },
  {
   "cell_type": "code",
   "execution_count": 20,
   "metadata": {},
   "outputs": [
    {
     "name": "stdout",
     "output_type": "stream",
     "text": [
      "[1, 2, 3, 4]\t1597483846208\n",
      "[1, 2, 3, 4]\t1597483846208\n",
      "Hello World\t1597483856368\n",
      "Hello\t\t1597477658592\n"
     ]
    }
   ],
   "source": [
    "# Pass by object reference : Python's own method of parsing \n",
    "# -------------------------\n",
    "#\n",
    "# 1.Mutable literal (List)\n",
    "# -----------------\n",
    "def modify_list(lst):\n",
    "    lst.append(4)  # This modifies the list passed in the same memory\n",
    "    print(f'{lst}\\t{id(lst)}')\n",
    "\n",
    "my_list = [1, 2, 3]\n",
    "modify_list(my_list)\n",
    "print(f'{my_list}\\t{id(my_list)}')\n",
    "\n",
    "# 2.Immutable literal (str)\n",
    "# -------------------\n",
    "def modify_string(s):\n",
    "    s += ' World'  # This creates a new string object\n",
    "    print(f'{s}\\t{id(s)}')\n",
    "\n",
    "my_string = 'Hello'\n",
    "modify_string(my_string)\n",
    "print(f'{my_string}\\t\\t{id(my_string)}')"
   ]
  },
  {
   "cell_type": "markdown",
   "metadata": {},
   "source": [
    "## 5. Sets"
   ]
  },
  {
   "cell_type": "code",
   "execution_count": null,
   "metadata": {},
   "outputs": [
    {
     "name": "stdout",
     "output_type": "stream",
     "text": [
      "{1, 2, 3, 4, 5, 10} <class 'set'>\n",
      "{33, 66, 22, 55, 11, 44}\n",
      "True\n",
      "{33, 66, 55, 44}\n"
     ]
    }
   ],
   "source": [
    "eg_list = [1,1,2,2,3,4,5,5,5,5,10]\n",
    "set1 = set(eg_list)             # set creation\n",
    "print(set1 , type(set1))\n",
    "set2 = {11,22,33,44,55}\n",
    "set2.add(66)                    # Addition\n",
    "print(set2)\n",
    "print(11 in set2)               # Membership testing\n",
    "set2.remove(11)                 # Raises a KeyError if the specified element is not found in the set\n",
    "set2.discard(22)                # Do not raise KeyError if the specified element is not found in the set / Ignores op.\n",
    "print(set2)"
   ]
  },
  {
   "cell_type": "code",
   "execution_count": null,
   "metadata": {},
   "outputs": [
    {
     "name": "stdout",
     "output_type": "stream",
     "text": [
      "False\n",
      "False\n",
      "False\n",
      "union_set\t\t : {1, 2, 3, 4, 5, 6, 7}\n",
      "intersection_set\t : {3}\n",
      "difference_set1\t\t : {1, 2}\n",
      "difference_set2\t\t : {4, 5, 6, 7}\n",
      "symmetric_difference_set : {1, 2, 4, 5, 6, 7}\n"
     ]
    }
   ],
   "source": [
    "# Set operations\n",
    "# --------------\n",
    "set1 = {1, 2, 3}\n",
    "set2 = {3, 4, 5, 6, 7}\n",
    "print(set1 == set2)                         # Equality check\n",
    "print(set1 <= set2)                         # Subset check\n",
    "print(set1 >= set2)                         # Superset check\n",
    "union_set = set1 | set2                     # Union\n",
    "intersection_set = set1 & set2              # Intersection\n",
    "difference_set1 = set1 - set2               # Diff1\n",
    "difference_set2 = set2 - set1               # Diff2\n",
    "symmetric_difference_set = set1 ^ set2      # Symmetric diff\n",
    "\n",
    "print(f\"union_set\\t\\t : {union_set}\\nintersection_set\\t : {intersection_set}\\ndifference_set1\\t\\t : {difference_set1}\\ndifference_set2\\t\\t : {difference_set2}\\nsymmetric_difference_set : {symmetric_difference_set}\")"
   ]
  },
  {
   "cell_type": "code",
   "execution_count": null,
   "metadata": {},
   "outputs": [
    {
     "name": "stdout",
     "output_type": "stream",
     "text": [
      "unhashable type: 'dict'\n"
     ]
    }
   ],
   "source": [
    "\"\"\"\n",
    "Sets CANNOT contain MUTABLE ELEMENTS as it uses hash table internally\n",
    "\"\"\"\n",
    "try:\n",
    "    aset = {1, 'computer',('abc','xyz'),True,{'abc':'xyz'}}\n",
    "    print(aset)\n",
    "except TypeError as e:\n",
    "    print(e)"
   ]
  },
  {
   "cell_type": "code",
   "execution_count": null,
   "metadata": {},
   "outputs": [
    {
     "name": "stdout",
     "output_type": "stream",
     "text": [
      "{('a', 'b'), 1, 'Comp'}\n"
     ]
    }
   ],
   "source": [
    "aset1 = {1,'Comp',('a','b'),True} # 1 and True are treated same by set\n",
    "print(aset1)"
   ]
  },
  {
   "cell_type": "markdown",
   "metadata": {},
   "source": [
    "## 6. Dictionary"
   ]
  },
  {
   "cell_type": "code",
   "execution_count": 26,
   "metadata": {},
   "outputs": [
    {
     "name": "stdout",
     "output_type": "stream",
     "text": [
      "{'name': 'Alice', 'age': 30, 'city': 'New York'} <class 'dict'> <class 'str'> 30 <class 'int'>\n",
      "Alice\n",
      "Alice\n",
      "{'name': 'Babu', 'example': {'age': 18, 'dob': {'dd': 12, 'mm': 12, 'yy': 2006}}}\n",
      "2006\n",
      "dict_items([('name', 'Alice'), ('age', 30), ('city', 'New York')]) <class 'dict_items'>\n",
      "dict_keys(['name', 'age', 'city']) <class 'dict_keys'>\n",
      "dict_values(['Alice', 30, 'New York']) <class 'dict_values'>\n",
      "30\n",
      "{'name': 'Alice', 'city': 'New York'}\n"
     ]
    }
   ],
   "source": [
    "my_dict = {\"name\":\"Alice\",\"age\":30,\"city\":\"New York\"}\n",
    "print(my_dict, type(my_dict), type(my_dict[\"name\"]), my_dict[\"age\"], type(my_dict[\"age\"]))\n",
    "print(my_dict[\"name\"])  #same accessing\n",
    "print(my_dict.get(\"name\")) #Same accessing\n",
    "\n",
    "nest_dict = {}\n",
    "nest_dict[\"name\"] = \"Babu\"\n",
    "nest_dict[\"example\"] = {\"age\":18,\"dob\":{\"dd\":12,\"mm\":12,\"yy\":2006}}\n",
    "print(nest_dict)\n",
    "print(nest_dict[\"example\"][\"dob\"][\"yy\"])    # Accessing nested value\n",
    "dict_list = my_dict.items()                 # Getting dict items as list\n",
    "dict_keys = my_dict.keys()                  # Getting dict keys\n",
    "dict_values = my_dict.values()              # Getting dict values\n",
    "print(dict_list, type(dict_list))\n",
    "print(dict_keys, type(dict_keys))\n",
    "print(dict_values, type(dict_values))\n",
    "print(my_dict.pop(\"age\"))                   # pop by key\n",
    "print(my_dict)"
   ]
  },
  {
   "cell_type": "code",
   "execution_count": 52,
   "metadata": {},
   "outputs": [
    {
     "data": {
      "text/plain": [
       "80"
      ]
     },
     "execution_count": 52,
     "metadata": {},
     "output_type": "execute_result"
    }
   ],
   "source": [
    "# Nested dictionary\n",
    "sampledict = {'class':{\n",
    "                      'student':{\n",
    "                                 'name':'Mike','marks':{\n",
    "                                                       'phyisics':70, 'history':80}}}}\n",
    "\n",
    "sampledict['class']['student']['marks']['history']"
   ]
  },
  {
   "cell_type": "code",
   "execution_count": 53,
   "metadata": {},
   "outputs": [
    {
     "data": {
      "text/plain": [
       "'Not found'"
      ]
     },
     "execution_count": 53,
     "metadata": {},
     "output_type": "execute_result"
    }
   ],
   "source": [
    "sampledict.get('class',{}).get('student',{}).get('marks',{}).get('history',{})\n",
    "sampledict.get('class',{}).get('student',{}).get('marks',{}).get('maths','Not found')"
   ]
  },
  {
   "cell_type": "code",
   "execution_count": 27,
   "metadata": {},
   "outputs": [
    {
     "name": "stdout",
     "output_type": "stream",
     "text": [
      "{0: 'b', 1: 'b', 2: 'c', 3: 'c', 4: 'c'} <class 'dict'>\n"
     ]
    }
   ],
   "source": [
    "# Dictionary comprehension\n",
    "# ------------------------s\n",
    "a = \"bbccc\"\n",
    "b = {i: w for i,w in enumerate(a)}\n",
    "print(b, type(b))"
   ]
  },
  {
   "cell_type": "code",
   "execution_count": null,
   "metadata": {},
   "outputs": [
    {
     "name": "stdout",
     "output_type": "stream",
     "text": [
      "Positive\n"
     ]
    }
   ],
   "source": [
    "# single line ops\n",
    "# Single line if elif else. 'Zero' is default value if no 'True' key is generated inside the dictionary\n",
    "\n",
    "# x = 0\n",
    "x = 1\n",
    "answer = {x > 0 : 'Positive', x < 0 : 'Negative'}.get(True, 'Zero') \n",
    "print(answer)"
   ]
  },
  {
   "cell_type": "code",
   "execution_count": null,
   "metadata": {},
   "outputs": [
    {
     "name": "stdout",
     "output_type": "stream",
     "text": [
      "['name:John', 'age:30', 'city:New York']\n",
      "name John\n",
      "age 30\n",
      "city New York\n",
      "{'name': 'John', 'age': '30', 'city': 'New York'}\n"
     ]
    }
   ],
   "source": [
    "string = \"name:John,age:30,city:New York\"\n",
    "pairs = string.split(',') # String to list\n",
    "# print(pairs)\n",
    "dict1 = {}\n",
    "for p in pairs:\n",
    "    key, value = p.split(':')\n",
    "    # print(key, value)\n",
    "    dict1[key] = value\n",
    "\n",
    "print(dict1)  # Creating a dictionary from a string"
   ]
  },
  {
   "cell_type": "code",
   "execution_count": null,
   "metadata": {},
   "outputs": [
    {
     "name": "stdout",
     "output_type": "stream",
     "text": [
      "unhashable type: 'list'\n"
     ]
    }
   ],
   "source": [
    "try:\n",
    "    my_dict = {[1, 2]: \"list\"} \n",
    "except TypeError as e:\n",
    "    # Dictionary key must be an immutable datatype, since dictionary mainitains hash table internally\n",
    "    print(e)"
   ]
  },
  {
   "cell_type": "code",
   "execution_count": 37,
   "metadata": {},
   "outputs": [
    {
     "name": "stdout",
     "output_type": "stream",
     "text": [
      "<zip object at 0x00000173F16EE000>\n",
      "name Alice\n",
      "age 25\n",
      "city New York\n",
      "{}\n"
     ]
    }
   ],
   "source": [
    "# zip() function ans zip object\n",
    "# -----------------------------\n",
    "keys = ['name', 'age', 'city']\n",
    "values = ['Alice', 25, 'New York']\n",
    "my_dict = zip(keys, values) # Creating zip object. It stores values as a tuple\n",
    "print(my_dict)\n",
    "\n",
    "for i, j in my_dict:\n",
    "    print(i,j)\n",
    "\n",
    "my_dict = dict(my_dict)\n",
    "print(my_dict) # Comes out empty as the zip object is exhausted after the iteration"
   ]
  },
  {
   "cell_type": "code",
   "execution_count": 34,
   "metadata": {},
   "outputs": [
    {
     "name": "stdout",
     "output_type": "stream",
     "text": [
      "{'name': 'Alice', 'age': 25, 'city': 'New York'}\n"
     ]
    }
   ],
   "source": [
    "my_dict = zip(keys, values) # Creating zip object again\n",
    "my_dict = dict(my_dict) # Converting zipped item to dictionary\n",
    "print(my_dict)"
   ]
  },
  {
   "cell_type": "code",
   "execution_count": 48,
   "metadata": {},
   "outputs": [
    {
     "name": "stdout",
     "output_type": "stream",
     "text": [
      "Alice scored 85\n",
      "Bob scored 90\n",
      "Charlie scored 78\n"
     ]
    }
   ],
   "source": [
    "names = ['Alice', 'Bob', 'Charlie']\n",
    "scores = [85, 90, 78]\n",
    "\n",
    "for name, score in zip(names, scores): # can be used like an enumerate object\n",
    "    print(f'{name} scored {score}')"
   ]
  },
  {
   "cell_type": "code",
   "execution_count": 44,
   "metadata": {},
   "outputs": [
    {
     "name": "stdout",
     "output_type": "stream",
     "text": [
      "{'name': 'Alice', 'age': 25, 'city': 'New York', 'country': 'USA'} <class 'dict'>\n",
      "{'name', 'age', 'city', 'country'} <class 'set'>\n"
     ]
    }
   ],
   "source": [
    "# Unpacking operator '*' and '**'\n",
    "# --------------------------------\n",
    "dict1 = {'name': 'Alice', 'age': 25}\n",
    "dict2 = {'city': 'New York', 'country': 'USA'}\n",
    "\n",
    "my_dict = {**dict1, **dict2}    # '**' unpacks key-value pair and merges them as single dictionary\n",
    "print(my_dict, type(my_dict))\n",
    "\n",
    "my_set = {*dict2, *dict1}       # '*' unpacks keys only and merges them as a set\n",
    "print(my_set, type(my_set))"
   ]
  },
  {
   "cell_type": "code",
   "execution_count": 51,
   "metadata": {},
   "outputs": [
    {
     "name": "stdout",
     "output_type": "stream",
     "text": [
      "(1, 2, 3)\n",
      "('a', 'b', 'c')\n"
     ]
    }
   ],
   "source": [
    "zipped_list = [(1, 'a'), (2, 'b'), (3, 'c')]\n",
    "\n",
    "list1, list2 = zip(*zipped_list)\n",
    "print(list1)  # Output: (1, 2, 3)\n",
    "print(list2)  # Output: ('a', 'b', 'c')"
   ]
  },
  {
   "cell_type": "code",
   "execution_count": 50,
   "metadata": {},
   "outputs": [
    {
     "name": "stdout",
     "output_type": "stream",
     "text": [
      "Counter({'c': 3, 'b': 2, 'a': 1}) Counter({'b': 3, 'a': 2, 'c': 1}) False\n"
     ]
    }
   ],
   "source": [
    "# counter object\n",
    "# --------------\n",
    "from collections import Counter\n",
    "\n",
    "word1 = \"abbccc\"\n",
    "word2 = \"cabbba\"\n",
    "\n",
    "w1 = Counter(word1) # Counts the repetition of an iteable and creates a dictionry\n",
    "w2 = Counter(word2)\n",
    "print(w1, w2, w1 == w2)"
   ]
  },
  {
   "cell_type": "markdown",
   "metadata": {},
   "source": [
    "# Loops"
   ]
  },
  {
   "cell_type": "code",
   "execution_count": null,
   "metadata": {},
   "outputs": [
    {
     "name": "stdout",
     "output_type": "stream",
     "text": [
      "0\n",
      "1\n",
      "2\n",
      "3\n",
      "4\n"
     ]
    }
   ],
   "source": [
    "for i in range(5):\n",
    "    print(i)\n",
    "    if(i==3):\n",
    "        continue  # Continue ignores remaining statements\n",
    "        print(i)"
   ]
  },
  {
   "cell_type": "code",
   "execution_count": null,
   "metadata": {},
   "outputs": [
    {
     "name": "stdout",
     "output_type": "stream",
     "text": [
      "*\n",
      "**\n",
      "***\n",
      "****\n",
      "*****\n",
      "*****\n",
      "****\n",
      "***\n",
      "**\n",
      "*\n"
     ]
    }
   ],
   "source": [
    "for i in range(1,6):\n",
    "    print('*' * i)\n",
    "    \n",
    "for i in range(5,0,-1):\n",
    "    print('*' * i)"
   ]
  },
  {
   "cell_type": "code",
   "execution_count": 132,
   "metadata": {},
   "outputs": [
    {
     "name": "stdout",
     "output_type": "stream",
     "text": [
      "You entered: 1\n",
      "You entered: 2\n",
      "You entered: 2\n",
      "Exiting the loop.\n"
     ]
    }
   ],
   "source": [
    "while True:  # Infinite loop\n",
    "    user_input = input(\"Enter a number (0 to exit): \")\n",
    "    \n",
    "    # Convert input to an integer\n",
    "    number = int(user_input)\n",
    "    \n",
    "    if number == 0:\n",
    "        print(\"Exiting the loop.\")\n",
    "        break  # Exit the loop if the user enters 0\n",
    "    else:\n",
    "        print(f\"You entered: {number}\")\n"
   ]
  },
  {
   "cell_type": "code",
   "execution_count": 57,
   "metadata": {},
   "outputs": [
    {
     "name": "stdout",
     "output_type": "stream",
     "text": [
      "<generator object fib at 0x000001F5AEB420A0>\n",
      "[0, 1, 1, 2]\n",
      "[0, 1, 1, 2]\n"
     ]
    }
   ],
   "source": [
    "# Generator\n",
    "# ---------\n",
    "# A generator object is like a cursor that produces values one at a time and can be iterated over, unlike a return statement, which provides a single value and terminates the function\n",
    "#\n",
    "def fib(n):\n",
    "    a, b = 0, 1\n",
    "    for _ in range(n):\n",
    "        yield a\n",
    "        a, b = b, a + b\n",
    "\n",
    "k = list(fib(4))\n",
    "print(fib(4))\n",
    "print(k)\n",
    "# or\n",
    "l = []\n",
    "for num in fib(4):\n",
    "    l.append(num)\n",
    "\n",
    "print(l)"
   ]
  },
  {
   "cell_type": "code",
   "execution_count": 42,
   "metadata": {},
   "outputs": [
    {
     "name": "stdout",
     "output_type": "stream",
     "text": [
      "0 2 4 6 8 10 12 \n",
      "1 3 5 7 9 11 \n",
      "0 3 6 9 12 "
     ]
    }
   ],
   "source": [
    "def multiple_generators():\n",
    "    # First generator: yields even numbers\n",
    "    def even_numbers(n):\n",
    "        for i in range(n + 1):\n",
    "            if i % 2 == 0:\n",
    "                yield i\n",
    "\n",
    "    # Second generator: yields odd numbers\n",
    "    def odd_numbers(n):\n",
    "        for i in range(n + 1):\n",
    "            if i % 2 != 0:\n",
    "                yield i\n",
    "\n",
    "    # Third generator: yields multiples of three\n",
    "    def multiples_of_three(n):\n",
    "        for i in range(n + 1):\n",
    "            if i % 3 == 0:\n",
    "                yield i\n",
    "\n",
    "    # Yield from all three generators\n",
    "    yield from even_numbers(12)       # Even numbers up to 10\n",
    "    print()\n",
    "    yield from odd_numbers(12)        # Odd numbers up to 10\n",
    "    print()\n",
    "    yield from multiples_of_three(12)  # Multiples of three up to 10\n",
    "\n",
    "# Using the multiple generators\n",
    "for number in multiple_generators():\n",
    "    print(number, end = \" \")\n"
   ]
  },
  {
   "cell_type": "code",
   "execution_count": 77,
   "metadata": {},
   "outputs": [
    {
     "name": "stdout",
     "output_type": "stream",
     "text": [
      "5 5 5 4 4 4 3 3 3 2 2 2 1 1 1 "
     ]
    },
    {
     "ename": "StopIteration",
     "evalue": "",
     "output_type": "error",
     "traceback": [
      "\u001b[1;31m---------------------------------------------------------------------------\u001b[0m",
      "\u001b[1;31mStopIteration\u001b[0m                             Traceback (most recent call last)",
      "Cell \u001b[1;32mIn[77], line 11\u001b[0m\n\u001b[0;32m      9\u001b[0m g \u001b[38;5;241m=\u001b[39m gen(\u001b[38;5;241m5\u001b[39m)\n\u001b[0;32m     10\u001b[0m \u001b[38;5;28;01mfor\u001b[39;00m i \u001b[38;5;129;01min\u001b[39;00m \u001b[38;5;28mrange\u001b[39m(\u001b[38;5;241m16\u001b[39m):\n\u001b[1;32m---> 11\u001b[0m     \u001b[38;5;28mprint\u001b[39m(\u001b[38;5;28;43mnext\u001b[39;49m\u001b[43m(\u001b[49m\u001b[43mg\u001b[49m\u001b[43m)\u001b[49m, end\u001b[38;5;241m=\u001b[39m \u001b[38;5;124m\"\u001b[39m\u001b[38;5;124m \u001b[39m\u001b[38;5;124m\"\u001b[39m) \u001b[38;5;66;03m# After 15th stop iteration is thrown\u001b[39;00m\n",
      "\u001b[1;31mStopIteration\u001b[0m: "
     ]
    }
   ],
   "source": [
    "def gen(n):\n",
    "    while n > 0:\n",
    "        k = n\n",
    "        yield k\n",
    "        n -= 1\n",
    "        yield k\n",
    "        yield k\n",
    "\n",
    "g = gen(5)\n",
    "for i in range(16):\n",
    "    print(next(g), end= \" \") # After 15th stop iteration is thrown"
   ]
  },
  {
   "cell_type": "code",
   "execution_count": 74,
   "metadata": {},
   "outputs": [
    {
     "name": "stdout",
     "output_type": "stream",
     "text": [
      "<class 'list_iterator'>\n",
      "1\n",
      "2\n",
      "3\n"
     ]
    }
   ],
   "source": [
    "# Iterators\n",
    "# ---------\n",
    "# Object that allows trversal through a collection\n",
    "\n",
    "# Create a list\n",
    "my_list = [1,2,3]\n",
    "\n",
    "# Get an iterator\n",
    "iterator = iter(my_list)        # Built in function\n",
    "\n",
    "print(type(iterator))\n",
    "# Iterate through the list using the iterator\n",
    "print(next(iterator))  # Output: 1\n",
    "print(next(iterator))  # Output: 2\n",
    "print(next(iterator))  # Output: 3\n",
    "# print(next(iterator))  # Output: 3     After exhastion StopIteration error will be thrown\n",
    "\n",
    "# This will raise StopIteration\n",
    "# print(next(iterator))  \n"
   ]
  },
  {
   "cell_type": "code",
   "execution_count": 22,
   "metadata": {},
   "outputs": [
    {
     "name": "stdout",
     "output_type": "stream",
     "text": [
      "1\n",
      "2\n",
      "3\n",
      "4\n",
      "5\n"
     ]
    }
   ],
   "source": [
    "# creting a custom iterator\n",
    "\n",
    "class MyIterator:\n",
    "    def __init__(self, limit):\n",
    "        self.limit = limit\n",
    "        self.current = 0\n",
    "\n",
    "    def __iter__(self):     # Facilitates iterarion on object\n",
    "        return self\n",
    "\n",
    "    def __next__(self):\n",
    "        if self.current < self.limit:\n",
    "            self.current += 1\n",
    "            return self.current\n",
    "        else:\n",
    "            raise StopIteration\n",
    "\n",
    "# Using the custom iterator\n",
    "for number in MyIterator(5):\n",
    "    print(number)"
   ]
  },
  {
   "cell_type": "code",
   "execution_count": 23,
   "metadata": {},
   "outputs": [
    {
     "name": "stdout",
     "output_type": "stream",
     "text": [
      "0\n",
      "2\n",
      "4\n",
      "6\n",
      "8\n",
      "10\n"
     ]
    }
   ],
   "source": [
    "class EvenCreator:\n",
    "    def __init__(self, start, end):\n",
    "        self.start = start\n",
    "        self.end = end\n",
    "\n",
    "    def __iter__(self):\n",
    "        return self\n",
    "\n",
    "    def __next__(self):\n",
    "        # Move to the next even number if start is odd\n",
    "        if self.start % 2 != 0:\n",
    "            self.start += 1\n",
    "        \n",
    "        # Check if the current even number is within the range\n",
    "        if self.start <= self.end:\n",
    "            current_even = self.start\n",
    "            self.start += 2  # Increment to the next even number\n",
    "            return current_even\n",
    "        else:\n",
    "            raise StopIteration\n",
    "\n",
    "# Using the EvenCreator\n",
    "ans = EvenCreator(0, 10)\n",
    "for num in ans:\n",
    "    print(num)"
   ]
  },
  {
   "cell_type": "markdown",
   "metadata": {},
   "source": [
    "# Functions and Scopes"
   ]
  },
  {
   "cell_type": "code",
   "execution_count": 72,
   "metadata": {},
   "outputs": [
    {
     "name": "stdout",
     "output_type": "stream",
     "text": [
      "4\n",
      "10 Hello\n"
     ]
    }
   ],
   "source": [
    "# Basic function\n",
    "def example1(a,b):\n",
    "    return (a+b)\n",
    "\n",
    "result = example1(1,3)      # Function call\n",
    "print(result)\n",
    "# ------------------------- #\n",
    "def example2(a, b=\"Hello\"): # Passing Default value for argument\n",
    "    return f\"{a} {b}\"\n",
    "\n",
    "print(example2(10))"
   ]
  },
  {
   "cell_type": "code",
   "execution_count": null,
   "metadata": {},
   "outputs": [
    {
     "name": "stdout",
     "output_type": "stream",
     "text": [
      "5\n",
      "15\n",
      "{'__name__': '__main__', '__doc__': 'Automatically created module for IPython interactive environment', '__package__': None, '__loader__': None, '__spec__': None, '__builtin__': <module 'builtins' (built-in)>, '__builtins__': <module 'builtins' (built-in)>, '_ih': ['', 'ten = 10\\najay = \\'\\'\\'ajay\\'\\'\\'\\nbin = True\\ncomplexx = 10+6j\\nlist1 = [\"\"\"blah\"\"\",ajay,ten]\\ntuple1 = (1,2.8,\\'ajayn1@gmail.com\\')\\n\\nprint(type(ten),ten)\\nprint(type(ajay),ajay,len(ajay))\\nprint(type(bin),bin)\\nprint(type(list1),list1)\\nprint(type(complexx),complexx)\\nprint(type(tuple1),tuple1)  ', 'a = 1000000\\nb = 4268.98764\\nprint(f\"{a:e}\\\\n{b:,.2f}\")', 'print(dir(__name__)) # Return names of attributes of an object', 'print(dir()) # Return names of attributes of an object', 'print(dir(__name__)) # Return names of attributes of an object', 'print(dir(__main__)) # Return names of attributes of an object', 'print(dir(__doc__)) # Return names of attributes of an object', 'print(dir()) # Return names of attributes of an object\\nprint(dir(__name__))', 'import sys\\nsys.stdout.write(\"Hello world\")\\n\\nprint(\"\\\\nAjay\",\"narayanan\", sep=\"-\")', \"name = 'ajay'\\nage = 18\\nprint(name + ' : ' + str(age))\\nprint(name, ':', age) #puts space in b/w comma\\nprint(f'{name} : {age}') #formatted way\\nprint('%s : %s' % (name, age)) #string formatting, converts to string, eq to str()\\nprint('{} : {}'.format(name, age))\", \"name = 'ajay'\\nage = 26\\nprint(name + ' : ' + str(age))\\nprint(name, ':', age) #puts space in b/w comma\\nprint(f'{name} : {age}') #formatted way\\nprint('%s : %s' % (name, age)) #string formatting, converts to string, eq to str()\\nprint('{} : {}'.format(name, age))\", 'name = \"Ram\"\\nage = 22\\nmessage = \"My name is {0} and I am {1} years old. {1} is my favorite number.\".format(name, age)\\nprint(message)', \"print(ord('a')) # ASCII interchangable function\\nprint(chr(97))\", 'values = input(\"Enter multiple values separated by space: \").split()', 'values = input(\"Enter multiple values separated by space: \").split()\\nprint(values, type(values))', 'value1, value2 = map(int, input(\"Enter multiple integers separated by space: \").split())', 'value1, value2 = map(int, input(\"Enter multiple integers separated by space: \").split())', 'value1, value2 = map(int, input(\"Enter multiple integers separated by space: \").split())\\nprint(value1, value2, type(value1, value2))', 'value1, value2 = map(int, input(\"Enter multiple integers separated by space: \").split())\\nprint(value1, value2, type(value1),type(value2))', 'a = \\'Ajay Narayanan\\'\\nb = 26\\nc = \\'Engineer\\'\\n\\nprint(c[::]) #print(c[0:8:1])\\nprint(c[-1:-9:-1]) #print(c[::-1])\\nprint(c[-8:-5:1])\\nprint(c[-5:-8:-1])\\nprint(\\'%s is an %s with age %s\\' % (a,c,b))\\n\\n\\n# f\\'{variable}\\n# \\'{}\\'.format(ordered list)\\n# \\'%s\\' % (ordered list) %s for string and %d for integer placeholder\\n\\nstring = \"Hello, world! This is a sample string.\"\\nprint(string.split(\",\",maxsplit=-1))\\n\\nd = \\'Python\\'\\nprint(\\'p\\' * 3)', 'a1 = \\'banana\\',\\'apple\\',\\'pappaya\\',1,2,3,4.5 #Tuple packing\\nb1 = (\\'tomamto\\',\\'squash\\',1,2,4.6, i+2j)\\nprint(a1)\\nprint(type(b1))\\ntype(b1[5])\\n\\nperson = (\"john\" , 30 , \"New York\")\\nname, age, city = person\\n\\nprint(name, age, city)', 'a1 = \\'banana\\',\\'apple\\',\\'pappaya\\',1,2,3,4.5 #Tuple packing\\nb1 = (\\'tomamto\\',\\'squash\\',1,2,4.6, i+2j)\\nprint(a1)\\nprint(type(b1))\\ntype(b1[5])\\n\\nperson = (\"john\" , 30 , \"New York\")\\nname, age, city = person\\n\\nprint(name, age, city)', 'a1 = \\'banana\\',\\'apple\\',\\'pappaya\\',1,2,3,4.5 #Tuple packing without ()\\nb1 = (\\'tomamto\\',\\'squash\\',1,2,4.6, i+2j) #Tuple packing without ()\\nprint(a1)\\nprint(type(b1))\\ntype(b1[5])\\n\\nperson = (\"john\" , 30 , \"New York\")\\nname, age, city = person # Tuple unpacking\\n\\nprint(name, age, city)', 'a1 = \\'banana\\',\\'apple\\',\\'pappaya\\',1,2,3,4.5 #Tuple packing without ()\\nb1 = (\\'tomamto\\',\\'squash\\',1,2,4.6, i+2j) #Tuple packing without ()\\nprint(a1)\\nprint(type(b1))\\ntype(b1[5])\\n\\nperson = (\"john\" , 30 , \"New York\")\\nname, age, city = person # Tuple unpacking\\n\\nprint(name, age, city)', 'a1 = \\'banana\\',\\'apple\\',\\'pappaya\\',1,2,3,4.5 #Tuple packing without ()\\nb1 = (\\'tomamto\\',\\'squash\\', 1, 2, 4.6, i+2j) #Tuple packing without ()\\nprint(a1)\\nprint(type(b1))\\ntype(b1[5])\\n\\nperson = (\"john\" , 30 , \"New York\")\\nname, age, city = person # Tuple unpacking\\n\\nprint(name, age, city)', 'a1 = \\'banana\\',\\'apple\\',\\'pappaya\\',1,2,3,4.5 #Tuple packing without ()\\nb1 = (\\'tomamto\\',\\'squash\\', 1, 2, 4.6, \\'i+2j\\') #Tuple packing without ()\\nprint(a1)\\nprint(type(b1))\\ntype(b1[5])\\n\\nperson = (\"john\" , 30 , \"New York\")\\nname, age, city = person # Tuple unpacking\\n\\nprint(name, age, city)', 'a1 = \\'banana\\',\\'apple\\',\\'pappaya\\',1,2,3,4.5 #Tuple packing without ()\\nb1 = (\\'tomamto\\',\\'squash\\', 1, 2, 4.6, 1+2j) #Tuple packing without ()\\nprint(a1)\\nprint(type(b1))\\ntype(b1[5])\\n\\nperson = (\"john\" , 30 , \"New York\")\\nname, age, city = person # Tuple unpacking\\n\\nprint(name, age, city)', 'a1 = \\'banana\\',\\'apple\\',\\'pappaya\\',1,2,3,4.5 #Tuple packing without ()\\nb1 = (\\'tomamto\\',\\'squash\\', 1, 2, 4.6, 1+2j) #Tuple packing without ()\\nprint(a1)\\nprint(type(b1))\\nprint(type(b1[5]))\\n\\nperson = (\"john\" , 30 , \"New York\")\\nname, age, city = person # Tuple unpacking\\n\\nprint(name, age, city)', \"a = 'ajay'\\nlist1 = [1,'ajay',2]\\nx = tuple(a)\\nprint(x)\\ntype(x)\", \"a = 'ajay'\\nlist1 = [1,'ajay',2]\\nx = tuple(a)\\nprint(x)\\ntype(x)\\ny = tuple(list1)\", \"a = 'ajay'\\nlist1 = [1,'ajay',2]\\nx = tuple(a)\\nprint(x, type(x))\\ny = tuple(list1)\", \"a = 'ajay'\\nlist1 = [1,'ajay',2]\\nx = tuple(a)\\nprint(x, type(x))\\ny = tuple(list1)\\nprint(x, type(x))\", \"a = 'ajay'\\nlist1 = [1,'ajay',2]\\nx = tuple(a)\\nprint(x, type(x))\\ny = tuple(list1)\\nprint(y, type(y))\", 'atuple1 = (100,)\\nprint(atuple1 * 2)', 'atuple1 = (100,50)\\nprint(atuple1 * 2)', \"atuple = ('Orange', [10,20,30], (5,15,25), {1:'a',2:'b',3:'c'}, {'s1','s2'})\\nprint(atuple[1][1]) # To access an element\\nprint(atuple[3][2])\\nprint(atuple[4])\\nprint(type(atuple))\", \"atuple = ('Orange', [10,20,30], (5,15,25), {1:'a',2:'b',3:'c'}, {'s1','s2'})\\nprint(atuple[1][1]) # To access an element\\nprint(atuple[3][2])\\nprint(atuple[4])\\nprint(type(atuple[4]))\", \"atuple = ('Orange', [10,20,30], (5,15,25), {1:'a',2:'b',3:'c'}, {'s1','s2'})\\nprint(atuple[1][1]) # To access an element\\nprint(atuple[3][2])\\nprint(atuple[4])\\nprint(type(atuple) ,type(atuple[4]))\", \"tuple1 = (1,2,3)\\ntuple2 = ('apple','ball', 'cat')\\ntuple3 = tuple1 + tuple2\\nprint(tuple3)\\n\\n# del(tuple3)\\n# print(tuple3)\", \"from collections import namedtuple\\nPoint = namedtuple('Point',['x','y','z'])\\np = Point(1,2,3)\\nprint(p.x)\", \"# Provides a way to create tuple like objects and access the instance attributes by name or index\\nfrom collections import namedtuple\\nPoint = namedtuple('Point',['x','y','z']) # Similar to defining a class named Point\\np = Point(1,2,3) # Instance creation\\nprint(p.x)\", \"# Provides a way to create tuple like objects and access the instance attributes by name or index\\nfrom collections import namedtuple\\nPoint = namedtuple('Point',['x','y','z']) # Similar to defining a class named Point\\np = Point(1,2,3) # Instance creation\\nprint(p.1) \", \"# Provides a way to create tuple like objects and access the instance attributes by name or index\\nfrom collections import namedtuple\\nPoint = namedtuple('Point',['x','y','z']) # Similar to defining a class named Point\\np = Point(1,2,3) # Instance creation\\nprint(p.'1') \", \"# Provides a way to create tuple like objects and access the instance attributes by name or index\\nfrom collections import namedtuple\\nPoint = namedtuple('Point',['x','y','z']) # Similar to defining a class named Point\\np = Point(1,2,3) # Instance creation\\nprint(p[0]) \", \"# Provides a way to create tuple like objects and access the instance attributes by name or index\\nfrom collections import namedtuple\\nPoint = namedtuple('Point',['x','y','z']) # Similar to defining a class named Point\\np = Point(1,2,3) # Instance creation\\nprint(p[0]) \\nprint(p.x)\", \"# Provides a way to create tuple like objects and access the instance attributes by name or index\\nfrom collections import namedtuple\\nPoint = namedtuple('Point',['x','y','z']) # Similar to defining a class named Point\\np = Point(1,2,3) # Instance creation\\nprint(p[0]) \\nprint(p.y)\", \"# Provides a way to create tuple like objects and access the instance attributes by name or index\\nfrom collections import namedtuple\\nPoint = namedtuple('Point',['x','y','z']) # Similar to defining a class named Point\\np = Point(1,2,3) # Instance creation\\nq = Point(x = 'Ajay', y = 'jubi', z = 'Akhil' )\\nprint(p[0])      # Accessing by index\\nprint(p.y)       # Accessing by value\", \"# Provides a way to create tuple like objects and access the instance attributes by name or index\\nfrom collections import namedtuple\\nPoint = namedtuple('Point',['x','y','z']) # Similar to defining a class named Point\\np = Point(1,2,3) # Instance creation\\nq = Point(x = 'Ajay', y = 'jubi', z = 'Akhil' )\\n\\nprint(p[0])      # Accessing by index\\nprint(p.y)       # Accessing by attribute\\nprint(q.x)\\nprint(q.[2])\", \"# Provides a way to create tuple like objects and access the instance attributes by name or index\\nfrom collections import namedtuple\\nPoint = namedtuple('Point',['x','y','z']) # Similar to defining a class named Point\\np = Point(1,2,3) # Instance creation\\nq = Point(x = 'Ajay', y = 'jubi', z = 'Akhil' )\\n\\nprint(p[0])      # Accessing by index\\nprint(p.y)       # Accessing by attribute\\nprint(q.x)\\nprint(q[2])\", \"Hexa = namedtuple(['x', 'y', 'z'])\", \"Hexa = namedtuple('eg',['x', 'y', 'z'])\", \"Hexa = namedtuple('eg',['x', 'y', 'z'])\\na = Hexa(1,2,3)\", \"Hexa = namedtuple('eg',['x', 'y', 'z'])\\na = Hexa(1,2,3)\\nprint(a)\", \"Hexa = namedtuple(,['x', 'y', 'z'])\\na = Hexa(1,2,3)\\nprint(a)\", \"# Provides a way to create tuple like objects and access the instance attributes by name or index\\nfrom collections import namedtuple\\nPoint = namedtuple('3DPoint',['x','y','z']) # Similar to defining a class named Point\\np = Point(1,2,3) # Instance creation\\nq = Point(x = 'Ajay', y = 'jubi', z = 'Akhil' )\\n\\nprint(p[0])      # Accessing by index\\nprint(p.y)       # Accessing by attribute\\nprint(q.x)\\nprint(q[2])\", \"# Provides a way to create tuple like objects and access the instance attributes by name or index\\nfrom collections import namedtuple\\nPoint = namedtuple('int',['x','y','z']) # Similar to defining a class named Point\\np = Point(1,2,3) # Instance creation\\nq = Point(x = 'Ajay', y = 'jubi', z = 'Akhil' )\\n\\nprint(p[0])      # Accessing by index\\nprint(p.y)       # Accessing by attribute\\nprint(q.x)\\nprint(q[2])\", \"Hexa = namedtuple(ewe,['x', 'y', 'z'])\\na = Hexa(1,2,3)\\nprint(a)\", \"Hexa = namedtuple('ewe',['x', 'y', 'z'])\\na = Hexa(1,2,3)\\nprint(a)\", \"# Provides a way to create tuple like objects and access the instance attributes by name or index\\nfrom collections import namedtuple\\nPoint = namedtuple('trt',['x','y','z']) # Similar to defining a class named Point\\np = Point(1,2,3) # Instance creation\\nq = Point(x = 'Ajay', y = 'jubi', z = 'Akhil' )\\n\\nprint(p[0])      # Accessing by index\\nprint(p.y)       # Accessing by attribute\\nprint(q.x)\\nprint(q[2])\", \"# Provides a way to create tuple like objects and access the instance attributes by name or index\\nfrom collections import namedtuple\\nPoint = namedtuple('wtf',['x','y','z']) # Similar to defining a class named Point\\np = Point(1,2,3) # Instance creation\\nq = Point(x = 'Ajay', y = 'jubi', z = 'Akhil' )\\n\\nprint(p[0])      # Accessing by index\\nprint(p.y)       # Accessing by attribute\\nprint(q.x)\\nprint(q[2])\", \"# Provides a way to create tuple like objects and access the instance attributes by name or index\\nfrom collections import namedtuple\\nPoint = namedtuple('point',['x','y','z']) # Similar to defining a class named Point, here point just refers to the name of the tuple group\\np = Point(1,2,3) # Instance creation\\nq = Point(x = 'Ajay', y = 'jubi', z = 'Akhil' )\\n\\nprint(p)\\nprint(p[0])      # Accessing by index\\nprint(p.y)       # Accessing by attribute\\nprint(q.x)\\nprint(q[2])\", 'stri1 = \" Ajay Narayanan \"\\nstri2 = stri1.strip() # Removes leading and trailing white spaces\\nprint(id(stri1), id(stri2))  # Creates different objects as string is immutable\\n\\nstri1 = \"__Ajay Narayanan++\"\\nprint(stri1.strip(\"+_\"))', 'def add(a, b):\\n    return a+5, b+5  # returning a tuple\\n\\nresult = add(3, 2)\\nprint(result)', 'fruits = [\"apple\", \"banana\", \"cherry\"]\\nfruits[1] = \\'achar\\'\\nfruits\\nprint(fruits[::-1])\\nfruits', 'fruits = [\"apple\", \"banana\", \"cherry\"]\\nfruits[1] = \\'achar\\'\\nfruits\\nprint(fruits[::-1])\\nprint(fruits)', '# fruits.append(\"banana\")\\n# fruits.append(3)\\nprint(fruits)\\nprint(len(fruits))\\n# fruits.remove(\"banana\")\\n# del fruits[3]\\nprint(fruits)\\nprint(len(fruits))', '# fruits.append(\"banana\")\\nfruits.append(3)\\nprint(fruits)\\nprint(len(fruits))\\n# fruits.remove(\"banana\")\\n# del fruits[3]\\nprint(fruits)\\nprint(len(fruits))', 'fruits.append(\"banana\")\\nfruits.append(3)\\nprint(fruits)\\nprint(len(fruits))\\n# fruits.remove(\"banana\")\\n# del fruits[3]\\nprint(fruits)\\nprint(len(fruits))', 'fruits.append(\"banana\")\\nfruits.append(3)\\nprint(fruits)\\nprint(len(fruits))\\n# fruits.remove(\"banana\")\\n# del fruits[3]\\nprint(fruits)\\nprint(len(fruits))', 'fruits.append(\"banana\")\\nfruits.append(3)\\nprint(fruits)\\nprint(len(fruits))\\nfruits.remove(\"banana\")\\n# del fruits[3]\\nprint(fruits)\\nprint(len(fruits))', 'fruits.append(\"banana\")\\nfruits.append(3)\\nprint(fruits)\\nprint(len(fruits))\\nfruits.remove(\"banana\")\\nfruits.remove(3)\\n# del fruits[3]\\nprint(fruits)\\nprint(len(fruits))', 'fruits.append(\"banana\")\\nfruits.append(3)\\nprint(fruits)\\nprint(len(fruits))\\nfruits.remove(\"banana\")\\nfruits.remove(3)\\n# del fruits[3]\\nprint(fruits)\\nprint(len(fruits))', 'fruits.append(\"banana\")\\nfruits.append(3)\\nprint(fruits)\\nprint(len(fruits))\\nfruits.remove(\"banana\")\\nfruits.remove(3)\\n# del fruits[3]\\nprint(fruits)\\nprint(len(fruits))', 'fruits = [\"apple\", \"banana\", \"cherry\"]\\nfruits[1] = \\'achar\\'\\nfruits\\nprint(fruits[::-1])\\nprint(fruits)', 'fruits.append(\"banana\")\\nfruits.append(3)\\nprint(fruits)\\nprint(len(fruits))\\nfruits.remove(\"banana\")\\nfruits.remove(3)\\n# del fruits[3]\\nprint(fruits)\\nprint(len(fruits))', 'fruits.append(\"banana\") # stacking\\nfruits.append(3)\\nprint(fruits)\\nprint(len(fruits))\\nfruits.remove(\"banana\") # Removes first matching instance\\nfruits.remove(3)\\ndel fruits[3]\\nprint(fruits)\\nprint(len(fruits))', 'fruits.append(\"banana\") # stacking\\nfruits.append(3)\\nprint(fruits)\\nprint(len(fruits))\\nfruits.remove(\"banana\") # Removes first matching instance\\nfruits.remove(3)\\ndel fruits[0]\\nprint(fruits)\\nprint(len(fruits))', 'fruits.append(\"banana\") # stacking\\nfruits.append(3)\\nprint(fruits)\\nprint(len(fruits))\\nfruits.remove(\"banana\") # Removes first matching instance\\nfruits.remove(3)\\ndel fruits[0]\\nprint(fruits)\\nprint(len(fruits))', 'fruits.append(\"banana\") # stacking\\nfruits.append(3)\\nprint(fruits)\\nprint(len(fruits))\\nfruits.remove(\"banana\") # Removes first matching instance\\nfruits.remove(3)\\n# del fruits[0]\\nprint(fruits)\\nprint(len(fruits))', 'fruits = [\"apple\", \"banana\", \"cherry\"]\\nfruits[1] = \\'achar\\'\\nfruits\\nprint(fruits[::-1])\\nprint(fruits)', 'fruits = [\"apple\", \"banana\", \"cherry\"]\\nfruits[1] = \\'achar\\'\\nfruits\\nprint(fruits[::-1])\\nprint(fruits)\\n\\nfruits.append(\"banana\") # stacking\\nfruits.append(3)\\nprint(fruits)\\nprint(len(fruits))\\nfruits.remove(\"banana\") # Removes first matching instance\\nfruits.remove(3)\\n# del fruits[0]\\nprint(fruits)\\nprint(len(fruits))', 'fruits = [\"apple\", \"banana\", \"cherry\"]\\nfruits[1] = \\'achar\\'\\nfruits\\nprint(fruits[::-1])\\nprint(fruits)\\n\\nfruits.append(\"banana\") # stacking\\nfruits.append(3)\\nprint(fruits)\\nprint(len(fruits))\\nfruits.remove(\"banana\") # Removes first matching instance\\nfruits.remove(3)\\ndel fruits  # Delete specific object or whole list\\nprint(fruits)\\nprint(len(fruits))', 'fruits = [\"apple\", \"banana\", \"cherry\"]\\nfruits[1] = \\'achar\\'\\nfruits\\nprint(fruits[::-1])\\nprint(fruits)\\n\\nfruits.append(\"banana\") # stacking\\nfruits.append(3)\\nprint(fruits)\\nprint(len(fruits))\\nfruits.remove(\"banana\") # Removes first matching instance\\nfruits.remove(3)\\n# del fruits[0]  # Delete specific object or whole list\\nprint(fruits)\\nprint(len(fruits))', '#Repeated list\\nlist2 = [0] * 5\\nprint(list2)', \"list1 = []\\nprint(list1)\\nfor i in range(0,4):\\n    list1.append(i)\\n    print(list1)\\n\\nlist1.sort(reverse=True) #list sorting\\nprint(list1)\\nprint(sum(list1,10)) #sum function can be used in homo list\\nprint(min(list1)) #Min value of the list\\nprint(max(list1)) #Max value of the list\\nprint(list1.append((1,2))) #append retures None in its function\\nprint(list1)\\nlist1.append({'ajay':26})\\nprint(list1)\\nprint(f'{type(list1[4])}\\\\n{type(list1[5])}')\\nlist1.pop()\\nprint(list1)\\n\\nmy_list = [1, 2, 3]\\nmy_list.extend([1,2,(1,2)])\\nprint(my_list)\\n# my_list.clear()\\n# print(my_list)\\nprint(my_list.index((1,2)))\", 'odd_square = [x ** 2 for x in range(1,11) if (x % 2 == 1)] #List comprehension\\nprint(odd_square)\\nodd_square.reverse()\\nprint(odd_square)', 'eg_list = [1,1,2,2,3,4,5,5,5,5,10]\\nset1 = set(eg_list) #set creation\\nprint(set1 , type(set1))\\nset2 = {11,22,33,44,55}\\nset2.add(66)\\nprint(set2)\\nprint(11 in set2)\\nset2.remove(11)\\nset2.discard(22)\\nprint(set2)', 'set1 = {1, 2, 3}\\nset2 = {3, 4, 5, 6, 7}\\nprint(set1 == set2) #Equality\\nprint(set1 <= set2) #Subset check\\nprint(set1 >= set2) #Superset check\\nunion_set = set1 | set2 \\nintersection_set = set1 & set2\\ndifference_set1 = set1 - set2\\ndifference_set2 = set2 - set1\\nsymmetric_difference_set = set1 ^ set2\\nprint(f\"union_set\\\\t\\\\t : {union_set}\\\\nintersection_set\\\\t : {intersection_set}\\\\ndifference_set1\\\\t\\\\t : {difference_set1}\\\\ndifference_set2\\\\t\\\\t : {difference_set2}\\\\nsymmetric_difference_set : {symmetric_difference_set}\")', '# Set operations\\nset1 = {1, 2, 3}\\nset2 = {3, 4, 5, 6, 7}\\nprint(set1 == set2)     # Equality\\nprint(set1 <= set2)     # Subset check\\nprint(set1 >= set2)     # Superset check\\nunion_set = set1 | set2                     # Union\\nintersection_set = set1 & set2              # Intersection\\ndifference_set1 = set1 - set2               # Diff1\\ndifference_set2 = set2 - set1               # Diff2\\nsymmetric_difference_set = set1 ^ set2      # Symmetric diff\\n\\nprint(f\"union_set\\\\t\\\\t : {union_set}\\\\nintersection_set\\\\t : {intersection_set}\\\\ndifference_set1\\\\t\\\\t : {difference_set1}\\\\ndifference_set2\\\\t\\\\t : {difference_set2}\\\\nsymmetric_difference_set : {symmetric_difference_set}\")', 'my_dict = {\"name\":\"Alice\",\"age\":30,\"city\":\"New York\"}\\nprint(my_dict, type(my_dict))\\nprint(my_dict[\"name\"],type(my_dict[\"name\"]),my_dict[\"age\"],type(my_dict[\"age\"]))  #same accessing\\nprint(my_dict.get(\"name\")) #Same accessing\\n\\nnest_dict = {}\\nnest_dict[\"name\"] = \"Ajay\"\\nnest_dict[\"example\"] = {\"age\":30,\"dob\":{\"dd\":9,\"mm\":12,\"yy\":1997}}\\nprint(nest_dict)\\nprint(nest_dict[\"example\"][\"dob\"][\"yy\"]) #accessing nested value\\n# dict_list = my_dict.items()\\n# dict_keys = my_dict.keys()\\n# print(dict_list, type(dict_list))\\n# print(dict_keys, type(dict_keys))\\nprint(my_dict.pop(\"age\"))\\nprint(my_dict)', 'my_dict = {\"name\":\"Alice\",\"age\":30,\"city\":\"New York\"}\\nprint(my_dict, type(my_dict))\\nprint(my_dict[\"name\"],type(my_dict[\"name\"]),my_dict[\"age\"],type(my_dict[\"age\"]))  #same accessing\\nprint(my_dict.get(\"name\")) #Same accessing\\n\\nnest_dict = {}\\nnest_dict[\"name\"] = \"Ajay\"\\nnest_dict[\"example\"] = {\"age\":30,\"dob\":{\"dd\":9,\"mm\":12,\"yy\":1997}}\\nprint(nest_dict)\\nprint(nest_dict[\"example\"][\"dob\"][\"yy\"]) #accessing nested value\\ndict_list = my_dict.items()\\ndict_keys = my_dict.keys()\\n# print(dict_list, type(dict_list))\\n# print(dict_keys, type(dict_keys))\\nprint(my_dict.pop(\"age\"))\\nprint(my_dict)', 'my_dict = {\"name\":\"Alice\",\"age\":30,\"city\":\"New York\"}\\nprint(my_dict, type(my_dict))\\nprint(my_dict[\"name\"],type(my_dict[\"name\"]),my_dict[\"age\"],type(my_dict[\"age\"]))  #same accessing\\nprint(my_dict.get(\"name\")) #Same accessing\\n\\nnest_dict = {}\\nnest_dict[\"name\"] = \"Ajay\"\\nnest_dict[\"example\"] = {\"age\":30,\"dob\":{\"dd\":9,\"mm\":12,\"yy\":1997}}\\nprint(nest_dict)\\nprint(nest_dict[\"example\"][\"dob\"][\"yy\"]) #accessing nested value\\n# dict_list = my_dict.items()\\ndict_keys = my_dict.keys()\\n# print(dict_list, type(dict_list))\\n# print(dict_keys, type(dict_keys))\\nprint(my_dict.pop(\"age\"))\\nprint(my_dict)', 'my_dict = {\"name\":\"Alice\",\"age\":30,\"city\":\"New York\"}\\nprint(my_dict, type(my_dict))\\nprint(my_dict[\"name\"],type(my_dict[\"name\"]),my_dict[\"age\"],type(my_dict[\"age\"]))  #same accessing\\nprint(my_dict.get(\"name\")) #Same accessing\\n\\nnest_dict = {}\\nnest_dict[\"name\"] = \"Ajay\"\\nnest_dict[\"example\"] = {\"age\":30,\"dob\":{\"dd\":9,\"mm\":12,\"yy\":1997}}\\nprint(nest_dict)\\nprint(nest_dict[\"example\"][\"dob\"][\"yy\"]) #accessing nested value\\ndict_list = my_dict.items()\\ndict_keys = my_dict.keys()\\nprint(dict_list, type(dict_list))\\nprint(dict_keys, type(dict_keys))\\nprint(my_dict.pop(\"age\"))\\nprint(my_dict)', 'my_dict = {\"name\":\"Alice\",\"age\":30,\"city\":\"New York\"}\\nprint(my_dict, type(my_dict))\\nprint(my_dict[\"name\"],type(my_dict[\"name\"]),my_dict[\"age\"],type(my_dict[\"age\"]))  #same accessing\\nprint(my_dict.get(\"name\")) #Same accessing\\n\\nnest_dict = {}\\nnest_dict[\"name\"] = \"Ajay\"\\nnest_dict[\"example\"] = {\"age\":30,\"dob\":{\"dd\":9,\"mm\":12,\"yy\":1997}}\\nprint(nest_dict)\\nprint(nest_dict[\"example\"][\"dob\"][\"yy\"])    # Accessing nested value\\ndict_list = my_dict.items()                 # Getting dict items\\ndict_keys = my_dict.keys()                  # Getting dict keys\\ndict_keys = my_dict.values()                # Getting dict values\\nprint(dict_list, type(dict_list))\\nprint(dict_keys, type(dict_keys))\\nprint(my_dict.pop(\"age\"))\\nprint(my_dict)', 'my_dict = {\"name\":\"Alice\",\"age\":30,\"city\":\"New York\"}\\nprint(my_dict, type(my_dict))\\nprint(my_dict[\"name\"],type(my_dict[\"name\"]),my_dict[\"age\"],type(my_dict[\"age\"]))  #same accessing\\nprint(my_dict.get(\"name\")) #Same accessing\\n\\nnest_dict = {}\\nnest_dict[\"name\"] = \"Ajay\"\\nnest_dict[\"example\"] = {\"age\":30,\"dob\":{\"dd\":9,\"mm\":12,\"yy\":1997}}\\nprint(nest_dict)\\nprint(nest_dict[\"example\"][\"dob\"][\"yy\"])    # Accessing nested value\\ndict_list = my_dict.items()                 # Getting dict items\\ndict_keys = my_dict.keys()                  # Getting dict keys\\ndict_keys = my_dict.values()                # Getting dict values\\nprint(dict_list, type(dict_list))\\nprint(dict_keys, type(dict_keys))\\nprint(dict_keys, type(dict_keys))\\nprint(my_dict.pop(\"age\"))\\nprint(my_dict)', \"x = 0\\nanswer = {x > 0 : 'Positive', x < 0 : 'Negative'}.get(True, 'Zero') # Single line if elif else. 'Zero' is default value if no 'True' key is generated inside the dictionary\\nprint(answer)\", \"x = 0\\nanswer = {x > 0 : 'Positive', x < 0 : 'Negative'}.get(True, 'Zero') # Single line if elif else. 'Zero' is default value if no 'True' key is generated inside the dictionary\\nprint(answer, type(answer))\", \"x = 0\\nanswer = {x > 0 : 'Positive', x < 0 : 'Negative'}.get(True, 'Zero') # Single line if elif else. 'Zero' is default value if no 'True' key is generated inside the dictionary\\nprint(answer)\", \"x = 0\\nx = 1\\nanswer = {x > 0 : 'Positive', x < 0 : 'Negative'}.get(True, 'Zero') # Single line if elif else. 'Zero' is default value if no 'True' key is generated inside the dictionary\\nprint(answer)\", \"# x = 0\\nx = 1\\nanswer = {x > 0 : 'Positive', x < 0 : 'Negative'}.get(True, 'Zero') # Single line if elif else. 'Zero' is default value if no 'True' key is generated inside the dictionary\\nprint(answer)\", \"# x = 0\\nx = 1\\nanswer = {x > 0 : 'Positive', x < 0 : 'Negative'}.get(False, 'Zero') # Single line if elif else. 'Zero' is default value if no 'True' key is generated inside the dictionary\\nprint(answer)\", \"# x = 0\\nx = 1\\nanswer = {x > 0 : 'Positive', x < 0 : 'Negative'}.get(True, 'Zero') # Single line if elif else. 'Zero' is default value if no 'True' key is generated inside the dictionary\\nprint(answer)\", '# Taking three inputs at a time\\nx, y, z = input(\"Enter three values: \").split(sep=\\',\\')\\nprint(\"Total number of students: \", x)\\nprint(\"Number of boys is : \", y)\\nprint(\"Number of girls is : \", z)', \"a = 5 #Global variable\\n \\ndef func():\\n    c = 10\\n    d = c + a\\n     \\n    # Calling globals()\\n    globals()['a'] = d\\n    # a = d\\n    print (a)\\n     \\n# Driver Code    \\nfunc()\\n\\nprint(globals())\", \"a = 5 # Global variable\\n \\ndef func():\\n    c = 10    # Local attribute\\n    d = c + a\\n    print(d)\\n    # Calling globals()\\n    globals()['a'] = d\\n    # a = d\\n    print (a)\\n     \\n# Driver Code    \\nfunc()\\n\\nprint(globals())\", \"a = 5 # Global variable\\n \\ndef func():\\n    c = 10    # Local attribute\\n    d = c + a\\n    print(d)\\n    # Calling globals()\\n    globals()['a'] = d\\n    # a = d\\n    print (a)\\n     \\n# Driver Code    \\nfunc()\\n\\nprint(globals())\", \"a = 5 # Global variable\\n \\ndef func():\\n    c = 10    # Local attribute\\n    d = c + a\\n    print(a)\\n    # Calling globals()\\n    globals()['a'] = d\\n    # a = d\\n    print (a)\\n     \\n# Driver Code    \\nfunc()\\n\\nprint(globals())\", \"a = 5 # Global variable\\n \\ndef func():\\n    c = 10    # Local attribute\\n    d = c + a\\n    print(a)  # Global variable accessible inside\\n    # Calling globals()\\n    globals()['a'] = d\\n    # a = d\\n    print (a)\\n\\nfunc()\\nprint(globals())\", \"a = 5 # Global variable\\n \\ndef func():\\n    c = 10    # Local attribute\\n    d = c + a\\n    print(a)  # Global variable accessible inside\\n    # Calling globals()\\n    # globals()['a'] = d\\n    # a = d\\n    print (a)\\n\\nfunc()\\nprint(globals())\", \"a = 5 # Global variable\\n \\ndef func():\\n    c = 10    # Local attribute\\n    d = c + a\\n    print(a)  # Global variable accessible inside\\n    # Calling globals()\\n    # globals()['a'] = d\\n    a = d\\n    print (a)\\n\\nfunc()\\nprint(globals())\", \"a = 5 # Global variable\\n \\ndef func():\\n    c = 10    # Local attribute\\n    d = c + a\\n    print(a)  # Global variable accessible inside\\n    # Calling globals()\\n    globals()['a'] = d\\n    # a = d   # This will throw unbound local error as global variable cannot be modfified inside a local namespace\\n    print (a)\\n\\nfunc()\\nprint(globals())\", 'Loops', 'for i in range(5):\\n    print(i)\\n    if(i==3):\\n        continue  # Continue ignores remaining statements\\n        print(i)', 'for i in range(5):\\n    print(i)\\n    if(i==3):\\n        continue  # Continue ignores remaining statements\\n        print(i)', 'for i in range(5):\\n    print(i)\\n    if(i==3):\\n        continue  # Continue ignores remaining statements\\n        print(i)', 'a, b = 10, 20\\n# Ternary operation in python\\nexp = {True: f\"{a} is the minimum\", False: f\"{b} is the minimum\"} [a<b]\\nprint(exp)', \"a = 5 # Global variable\\n \\ndef func():\\n    c = 10    # Local attribute\\n    d = c + a\\n    print(a)  # Global variable accessible inside\\n    # Calling globals()\\n    globals()['a'] = d\\n    # a = d   # This will throw unbound local error as global variable cannot be modfified inside a local namespace\\n    print (a)\\n\\nfunc()\\nprint(globals())\"], '_oh': {29: <class 'tuple'>, 64: ['apple', 'achar', 'cherry']}, '_dh': [WindowsPath('c:/Users/ajayn/OneDrive/Desktop/study/vscode')], 'In': ['', 'ten = 10\\najay = \\'\\'\\'ajay\\'\\'\\'\\nbin = True\\ncomplexx = 10+6j\\nlist1 = [\"\"\"blah\"\"\",ajay,ten]\\ntuple1 = (1,2.8,\\'ajayn1@gmail.com\\')\\n\\nprint(type(ten),ten)\\nprint(type(ajay),ajay,len(ajay))\\nprint(type(bin),bin)\\nprint(type(list1),list1)\\nprint(type(complexx),complexx)\\nprint(type(tuple1),tuple1)  ', 'a = 1000000\\nb = 4268.98764\\nprint(f\"{a:e}\\\\n{b:,.2f}\")', 'print(dir(__name__)) # Return names of attributes of an object', 'print(dir()) # Return names of attributes of an object', 'print(dir(__name__)) # Return names of attributes of an object', 'print(dir(__main__)) # Return names of attributes of an object', 'print(dir(__doc__)) # Return names of attributes of an object', 'print(dir()) # Return names of attributes of an object\\nprint(dir(__name__))', 'import sys\\nsys.stdout.write(\"Hello world\")\\n\\nprint(\"\\\\nAjay\",\"narayanan\", sep=\"-\")', \"name = 'ajay'\\nage = 18\\nprint(name + ' : ' + str(age))\\nprint(name, ':', age) #puts space in b/w comma\\nprint(f'{name} : {age}') #formatted way\\nprint('%s : %s' % (name, age)) #string formatting, converts to string, eq to str()\\nprint('{} : {}'.format(name, age))\", \"name = 'ajay'\\nage = 26\\nprint(name + ' : ' + str(age))\\nprint(name, ':', age) #puts space in b/w comma\\nprint(f'{name} : {age}') #formatted way\\nprint('%s : %s' % (name, age)) #string formatting, converts to string, eq to str()\\nprint('{} : {}'.format(name, age))\", 'name = \"Ram\"\\nage = 22\\nmessage = \"My name is {0} and I am {1} years old. {1} is my favorite number.\".format(name, age)\\nprint(message)', \"print(ord('a')) # ASCII interchangable function\\nprint(chr(97))\", 'values = input(\"Enter multiple values separated by space: \").split()', 'values = input(\"Enter multiple values separated by space: \").split()\\nprint(values, type(values))', 'value1, value2 = map(int, input(\"Enter multiple integers separated by space: \").split())', 'value1, value2 = map(int, input(\"Enter multiple integers separated by space: \").split())', 'value1, value2 = map(int, input(\"Enter multiple integers separated by space: \").split())\\nprint(value1, value2, type(value1, value2))', 'value1, value2 = map(int, input(\"Enter multiple integers separated by space: \").split())\\nprint(value1, value2, type(value1),type(value2))', 'a = \\'Ajay Narayanan\\'\\nb = 26\\nc = \\'Engineer\\'\\n\\nprint(c[::]) #print(c[0:8:1])\\nprint(c[-1:-9:-1]) #print(c[::-1])\\nprint(c[-8:-5:1])\\nprint(c[-5:-8:-1])\\nprint(\\'%s is an %s with age %s\\' % (a,c,b))\\n\\n\\n# f\\'{variable}\\n# \\'{}\\'.format(ordered list)\\n# \\'%s\\' % (ordered list) %s for string and %d for integer placeholder\\n\\nstring = \"Hello, world! This is a sample string.\"\\nprint(string.split(\",\",maxsplit=-1))\\n\\nd = \\'Python\\'\\nprint(\\'p\\' * 3)', 'a1 = \\'banana\\',\\'apple\\',\\'pappaya\\',1,2,3,4.5 #Tuple packing\\nb1 = (\\'tomamto\\',\\'squash\\',1,2,4.6, i+2j)\\nprint(a1)\\nprint(type(b1))\\ntype(b1[5])\\n\\nperson = (\"john\" , 30 , \"New York\")\\nname, age, city = person\\n\\nprint(name, age, city)', 'a1 = \\'banana\\',\\'apple\\',\\'pappaya\\',1,2,3,4.5 #Tuple packing\\nb1 = (\\'tomamto\\',\\'squash\\',1,2,4.6, i+2j)\\nprint(a1)\\nprint(type(b1))\\ntype(b1[5])\\n\\nperson = (\"john\" , 30 , \"New York\")\\nname, age, city = person\\n\\nprint(name, age, city)', 'a1 = \\'banana\\',\\'apple\\',\\'pappaya\\',1,2,3,4.5 #Tuple packing without ()\\nb1 = (\\'tomamto\\',\\'squash\\',1,2,4.6, i+2j) #Tuple packing without ()\\nprint(a1)\\nprint(type(b1))\\ntype(b1[5])\\n\\nperson = (\"john\" , 30 , \"New York\")\\nname, age, city = person # Tuple unpacking\\n\\nprint(name, age, city)', 'a1 = \\'banana\\',\\'apple\\',\\'pappaya\\',1,2,3,4.5 #Tuple packing without ()\\nb1 = (\\'tomamto\\',\\'squash\\',1,2,4.6, i+2j) #Tuple packing without ()\\nprint(a1)\\nprint(type(b1))\\ntype(b1[5])\\n\\nperson = (\"john\" , 30 , \"New York\")\\nname, age, city = person # Tuple unpacking\\n\\nprint(name, age, city)', 'a1 = \\'banana\\',\\'apple\\',\\'pappaya\\',1,2,3,4.5 #Tuple packing without ()\\nb1 = (\\'tomamto\\',\\'squash\\', 1, 2, 4.6, i+2j) #Tuple packing without ()\\nprint(a1)\\nprint(type(b1))\\ntype(b1[5])\\n\\nperson = (\"john\" , 30 , \"New York\")\\nname, age, city = person # Tuple unpacking\\n\\nprint(name, age, city)', 'a1 = \\'banana\\',\\'apple\\',\\'pappaya\\',1,2,3,4.5 #Tuple packing without ()\\nb1 = (\\'tomamto\\',\\'squash\\', 1, 2, 4.6, \\'i+2j\\') #Tuple packing without ()\\nprint(a1)\\nprint(type(b1))\\ntype(b1[5])\\n\\nperson = (\"john\" , 30 , \"New York\")\\nname, age, city = person # Tuple unpacking\\n\\nprint(name, age, city)', 'a1 = \\'banana\\',\\'apple\\',\\'pappaya\\',1,2,3,4.5 #Tuple packing without ()\\nb1 = (\\'tomamto\\',\\'squash\\', 1, 2, 4.6, 1+2j) #Tuple packing without ()\\nprint(a1)\\nprint(type(b1))\\ntype(b1[5])\\n\\nperson = (\"john\" , 30 , \"New York\")\\nname, age, city = person # Tuple unpacking\\n\\nprint(name, age, city)', 'a1 = \\'banana\\',\\'apple\\',\\'pappaya\\',1,2,3,4.5 #Tuple packing without ()\\nb1 = (\\'tomamto\\',\\'squash\\', 1, 2, 4.6, 1+2j) #Tuple packing without ()\\nprint(a1)\\nprint(type(b1))\\nprint(type(b1[5]))\\n\\nperson = (\"john\" , 30 , \"New York\")\\nname, age, city = person # Tuple unpacking\\n\\nprint(name, age, city)', \"a = 'ajay'\\nlist1 = [1,'ajay',2]\\nx = tuple(a)\\nprint(x)\\ntype(x)\", \"a = 'ajay'\\nlist1 = [1,'ajay',2]\\nx = tuple(a)\\nprint(x)\\ntype(x)\\ny = tuple(list1)\", \"a = 'ajay'\\nlist1 = [1,'ajay',2]\\nx = tuple(a)\\nprint(x, type(x))\\ny = tuple(list1)\", \"a = 'ajay'\\nlist1 = [1,'ajay',2]\\nx = tuple(a)\\nprint(x, type(x))\\ny = tuple(list1)\\nprint(x, type(x))\", \"a = 'ajay'\\nlist1 = [1,'ajay',2]\\nx = tuple(a)\\nprint(x, type(x))\\ny = tuple(list1)\\nprint(y, type(y))\", 'atuple1 = (100,)\\nprint(atuple1 * 2)', 'atuple1 = (100,50)\\nprint(atuple1 * 2)', \"atuple = ('Orange', [10,20,30], (5,15,25), {1:'a',2:'b',3:'c'}, {'s1','s2'})\\nprint(atuple[1][1]) # To access an element\\nprint(atuple[3][2])\\nprint(atuple[4])\\nprint(type(atuple))\", \"atuple = ('Orange', [10,20,30], (5,15,25), {1:'a',2:'b',3:'c'}, {'s1','s2'})\\nprint(atuple[1][1]) # To access an element\\nprint(atuple[3][2])\\nprint(atuple[4])\\nprint(type(atuple[4]))\", \"atuple = ('Orange', [10,20,30], (5,15,25), {1:'a',2:'b',3:'c'}, {'s1','s2'})\\nprint(atuple[1][1]) # To access an element\\nprint(atuple[3][2])\\nprint(atuple[4])\\nprint(type(atuple) ,type(atuple[4]))\", \"tuple1 = (1,2,3)\\ntuple2 = ('apple','ball', 'cat')\\ntuple3 = tuple1 + tuple2\\nprint(tuple3)\\n\\n# del(tuple3)\\n# print(tuple3)\", \"from collections import namedtuple\\nPoint = namedtuple('Point',['x','y','z'])\\np = Point(1,2,3)\\nprint(p.x)\", \"# Provides a way to create tuple like objects and access the instance attributes by name or index\\nfrom collections import namedtuple\\nPoint = namedtuple('Point',['x','y','z']) # Similar to defining a class named Point\\np = Point(1,2,3) # Instance creation\\nprint(p.x)\", \"# Provides a way to create tuple like objects and access the instance attributes by name or index\\nfrom collections import namedtuple\\nPoint = namedtuple('Point',['x','y','z']) # Similar to defining a class named Point\\np = Point(1,2,3) # Instance creation\\nprint(p.1) \", \"# Provides a way to create tuple like objects and access the instance attributes by name or index\\nfrom collections import namedtuple\\nPoint = namedtuple('Point',['x','y','z']) # Similar to defining a class named Point\\np = Point(1,2,3) # Instance creation\\nprint(p.'1') \", \"# Provides a way to create tuple like objects and access the instance attributes by name or index\\nfrom collections import namedtuple\\nPoint = namedtuple('Point',['x','y','z']) # Similar to defining a class named Point\\np = Point(1,2,3) # Instance creation\\nprint(p[0]) \", \"# Provides a way to create tuple like objects and access the instance attributes by name or index\\nfrom collections import namedtuple\\nPoint = namedtuple('Point',['x','y','z']) # Similar to defining a class named Point\\np = Point(1,2,3) # Instance creation\\nprint(p[0]) \\nprint(p.x)\", \"# Provides a way to create tuple like objects and access the instance attributes by name or index\\nfrom collections import namedtuple\\nPoint = namedtuple('Point',['x','y','z']) # Similar to defining a class named Point\\np = Point(1,2,3) # Instance creation\\nprint(p[0]) \\nprint(p.y)\", \"# Provides a way to create tuple like objects and access the instance attributes by name or index\\nfrom collections import namedtuple\\nPoint = namedtuple('Point',['x','y','z']) # Similar to defining a class named Point\\np = Point(1,2,3) # Instance creation\\nq = Point(x = 'Ajay', y = 'jubi', z = 'Akhil' )\\nprint(p[0])      # Accessing by index\\nprint(p.y)       # Accessing by value\", \"# Provides a way to create tuple like objects and access the instance attributes by name or index\\nfrom collections import namedtuple\\nPoint = namedtuple('Point',['x','y','z']) # Similar to defining a class named Point\\np = Point(1,2,3) # Instance creation\\nq = Point(x = 'Ajay', y = 'jubi', z = 'Akhil' )\\n\\nprint(p[0])      # Accessing by index\\nprint(p.y)       # Accessing by attribute\\nprint(q.x)\\nprint(q.[2])\", \"# Provides a way to create tuple like objects and access the instance attributes by name or index\\nfrom collections import namedtuple\\nPoint = namedtuple('Point',['x','y','z']) # Similar to defining a class named Point\\np = Point(1,2,3) # Instance creation\\nq = Point(x = 'Ajay', y = 'jubi', z = 'Akhil' )\\n\\nprint(p[0])      # Accessing by index\\nprint(p.y)       # Accessing by attribute\\nprint(q.x)\\nprint(q[2])\", \"Hexa = namedtuple(['x', 'y', 'z'])\", \"Hexa = namedtuple('eg',['x', 'y', 'z'])\", \"Hexa = namedtuple('eg',['x', 'y', 'z'])\\na = Hexa(1,2,3)\", \"Hexa = namedtuple('eg',['x', 'y', 'z'])\\na = Hexa(1,2,3)\\nprint(a)\", \"Hexa = namedtuple(,['x', 'y', 'z'])\\na = Hexa(1,2,3)\\nprint(a)\", \"# Provides a way to create tuple like objects and access the instance attributes by name or index\\nfrom collections import namedtuple\\nPoint = namedtuple('3DPoint',['x','y','z']) # Similar to defining a class named Point\\np = Point(1,2,3) # Instance creation\\nq = Point(x = 'Ajay', y = 'jubi', z = 'Akhil' )\\n\\nprint(p[0])      # Accessing by index\\nprint(p.y)       # Accessing by attribute\\nprint(q.x)\\nprint(q[2])\", \"# Provides a way to create tuple like objects and access the instance attributes by name or index\\nfrom collections import namedtuple\\nPoint = namedtuple('int',['x','y','z']) # Similar to defining a class named Point\\np = Point(1,2,3) # Instance creation\\nq = Point(x = 'Ajay', y = 'jubi', z = 'Akhil' )\\n\\nprint(p[0])      # Accessing by index\\nprint(p.y)       # Accessing by attribute\\nprint(q.x)\\nprint(q[2])\", \"Hexa = namedtuple(ewe,['x', 'y', 'z'])\\na = Hexa(1,2,3)\\nprint(a)\", \"Hexa = namedtuple('ewe',['x', 'y', 'z'])\\na = Hexa(1,2,3)\\nprint(a)\", \"# Provides a way to create tuple like objects and access the instance attributes by name or index\\nfrom collections import namedtuple\\nPoint = namedtuple('trt',['x','y','z']) # Similar to defining a class named Point\\np = Point(1,2,3) # Instance creation\\nq = Point(x = 'Ajay', y = 'jubi', z = 'Akhil' )\\n\\nprint(p[0])      # Accessing by index\\nprint(p.y)       # Accessing by attribute\\nprint(q.x)\\nprint(q[2])\", \"# Provides a way to create tuple like objects and access the instance attributes by name or index\\nfrom collections import namedtuple\\nPoint = namedtuple('wtf',['x','y','z']) # Similar to defining a class named Point\\np = Point(1,2,3) # Instance creation\\nq = Point(x = 'Ajay', y = 'jubi', z = 'Akhil' )\\n\\nprint(p[0])      # Accessing by index\\nprint(p.y)       # Accessing by attribute\\nprint(q.x)\\nprint(q[2])\", \"# Provides a way to create tuple like objects and access the instance attributes by name or index\\nfrom collections import namedtuple\\nPoint = namedtuple('point',['x','y','z']) # Similar to defining a class named Point, here point just refers to the name of the tuple group\\np = Point(1,2,3) # Instance creation\\nq = Point(x = 'Ajay', y = 'jubi', z = 'Akhil' )\\n\\nprint(p)\\nprint(p[0])      # Accessing by index\\nprint(p.y)       # Accessing by attribute\\nprint(q.x)\\nprint(q[2])\", 'stri1 = \" Ajay Narayanan \"\\nstri2 = stri1.strip() # Removes leading and trailing white spaces\\nprint(id(stri1), id(stri2))  # Creates different objects as string is immutable\\n\\nstri1 = \"__Ajay Narayanan++\"\\nprint(stri1.strip(\"+_\"))', 'def add(a, b):\\n    return a+5, b+5  # returning a tuple\\n\\nresult = add(3, 2)\\nprint(result)', 'fruits = [\"apple\", \"banana\", \"cherry\"]\\nfruits[1] = \\'achar\\'\\nfruits\\nprint(fruits[::-1])\\nfruits', 'fruits = [\"apple\", \"banana\", \"cherry\"]\\nfruits[1] = \\'achar\\'\\nfruits\\nprint(fruits[::-1])\\nprint(fruits)', '# fruits.append(\"banana\")\\n# fruits.append(3)\\nprint(fruits)\\nprint(len(fruits))\\n# fruits.remove(\"banana\")\\n# del fruits[3]\\nprint(fruits)\\nprint(len(fruits))', '# fruits.append(\"banana\")\\nfruits.append(3)\\nprint(fruits)\\nprint(len(fruits))\\n# fruits.remove(\"banana\")\\n# del fruits[3]\\nprint(fruits)\\nprint(len(fruits))', 'fruits.append(\"banana\")\\nfruits.append(3)\\nprint(fruits)\\nprint(len(fruits))\\n# fruits.remove(\"banana\")\\n# del fruits[3]\\nprint(fruits)\\nprint(len(fruits))', 'fruits.append(\"banana\")\\nfruits.append(3)\\nprint(fruits)\\nprint(len(fruits))\\n# fruits.remove(\"banana\")\\n# del fruits[3]\\nprint(fruits)\\nprint(len(fruits))', 'fruits.append(\"banana\")\\nfruits.append(3)\\nprint(fruits)\\nprint(len(fruits))\\nfruits.remove(\"banana\")\\n# del fruits[3]\\nprint(fruits)\\nprint(len(fruits))', 'fruits.append(\"banana\")\\nfruits.append(3)\\nprint(fruits)\\nprint(len(fruits))\\nfruits.remove(\"banana\")\\nfruits.remove(3)\\n# del fruits[3]\\nprint(fruits)\\nprint(len(fruits))', 'fruits.append(\"banana\")\\nfruits.append(3)\\nprint(fruits)\\nprint(len(fruits))\\nfruits.remove(\"banana\")\\nfruits.remove(3)\\n# del fruits[3]\\nprint(fruits)\\nprint(len(fruits))', 'fruits.append(\"banana\")\\nfruits.append(3)\\nprint(fruits)\\nprint(len(fruits))\\nfruits.remove(\"banana\")\\nfruits.remove(3)\\n# del fruits[3]\\nprint(fruits)\\nprint(len(fruits))', 'fruits = [\"apple\", \"banana\", \"cherry\"]\\nfruits[1] = \\'achar\\'\\nfruits\\nprint(fruits[::-1])\\nprint(fruits)', 'fruits.append(\"banana\")\\nfruits.append(3)\\nprint(fruits)\\nprint(len(fruits))\\nfruits.remove(\"banana\")\\nfruits.remove(3)\\n# del fruits[3]\\nprint(fruits)\\nprint(len(fruits))', 'fruits.append(\"banana\") # stacking\\nfruits.append(3)\\nprint(fruits)\\nprint(len(fruits))\\nfruits.remove(\"banana\") # Removes first matching instance\\nfruits.remove(3)\\ndel fruits[3]\\nprint(fruits)\\nprint(len(fruits))', 'fruits.append(\"banana\") # stacking\\nfruits.append(3)\\nprint(fruits)\\nprint(len(fruits))\\nfruits.remove(\"banana\") # Removes first matching instance\\nfruits.remove(3)\\ndel fruits[0]\\nprint(fruits)\\nprint(len(fruits))', 'fruits.append(\"banana\") # stacking\\nfruits.append(3)\\nprint(fruits)\\nprint(len(fruits))\\nfruits.remove(\"banana\") # Removes first matching instance\\nfruits.remove(3)\\ndel fruits[0]\\nprint(fruits)\\nprint(len(fruits))', 'fruits.append(\"banana\") # stacking\\nfruits.append(3)\\nprint(fruits)\\nprint(len(fruits))\\nfruits.remove(\"banana\") # Removes first matching instance\\nfruits.remove(3)\\n# del fruits[0]\\nprint(fruits)\\nprint(len(fruits))', 'fruits = [\"apple\", \"banana\", \"cherry\"]\\nfruits[1] = \\'achar\\'\\nfruits\\nprint(fruits[::-1])\\nprint(fruits)', 'fruits = [\"apple\", \"banana\", \"cherry\"]\\nfruits[1] = \\'achar\\'\\nfruits\\nprint(fruits[::-1])\\nprint(fruits)\\n\\nfruits.append(\"banana\") # stacking\\nfruits.append(3)\\nprint(fruits)\\nprint(len(fruits))\\nfruits.remove(\"banana\") # Removes first matching instance\\nfruits.remove(3)\\n# del fruits[0]\\nprint(fruits)\\nprint(len(fruits))', 'fruits = [\"apple\", \"banana\", \"cherry\"]\\nfruits[1] = \\'achar\\'\\nfruits\\nprint(fruits[::-1])\\nprint(fruits)\\n\\nfruits.append(\"banana\") # stacking\\nfruits.append(3)\\nprint(fruits)\\nprint(len(fruits))\\nfruits.remove(\"banana\") # Removes first matching instance\\nfruits.remove(3)\\ndel fruits  # Delete specific object or whole list\\nprint(fruits)\\nprint(len(fruits))', 'fruits = [\"apple\", \"banana\", \"cherry\"]\\nfruits[1] = \\'achar\\'\\nfruits\\nprint(fruits[::-1])\\nprint(fruits)\\n\\nfruits.append(\"banana\") # stacking\\nfruits.append(3)\\nprint(fruits)\\nprint(len(fruits))\\nfruits.remove(\"banana\") # Removes first matching instance\\nfruits.remove(3)\\n# del fruits[0]  # Delete specific object or whole list\\nprint(fruits)\\nprint(len(fruits))', '#Repeated list\\nlist2 = [0] * 5\\nprint(list2)', \"list1 = []\\nprint(list1)\\nfor i in range(0,4):\\n    list1.append(i)\\n    print(list1)\\n\\nlist1.sort(reverse=True) #list sorting\\nprint(list1)\\nprint(sum(list1,10)) #sum function can be used in homo list\\nprint(min(list1)) #Min value of the list\\nprint(max(list1)) #Max value of the list\\nprint(list1.append((1,2))) #append retures None in its function\\nprint(list1)\\nlist1.append({'ajay':26})\\nprint(list1)\\nprint(f'{type(list1[4])}\\\\n{type(list1[5])}')\\nlist1.pop()\\nprint(list1)\\n\\nmy_list = [1, 2, 3]\\nmy_list.extend([1,2,(1,2)])\\nprint(my_list)\\n# my_list.clear()\\n# print(my_list)\\nprint(my_list.index((1,2)))\", 'odd_square = [x ** 2 for x in range(1,11) if (x % 2 == 1)] #List comprehension\\nprint(odd_square)\\nodd_square.reverse()\\nprint(odd_square)', 'eg_list = [1,1,2,2,3,4,5,5,5,5,10]\\nset1 = set(eg_list) #set creation\\nprint(set1 , type(set1))\\nset2 = {11,22,33,44,55}\\nset2.add(66)\\nprint(set2)\\nprint(11 in set2)\\nset2.remove(11)\\nset2.discard(22)\\nprint(set2)', 'set1 = {1, 2, 3}\\nset2 = {3, 4, 5, 6, 7}\\nprint(set1 == set2) #Equality\\nprint(set1 <= set2) #Subset check\\nprint(set1 >= set2) #Superset check\\nunion_set = set1 | set2 \\nintersection_set = set1 & set2\\ndifference_set1 = set1 - set2\\ndifference_set2 = set2 - set1\\nsymmetric_difference_set = set1 ^ set2\\nprint(f\"union_set\\\\t\\\\t : {union_set}\\\\nintersection_set\\\\t : {intersection_set}\\\\ndifference_set1\\\\t\\\\t : {difference_set1}\\\\ndifference_set2\\\\t\\\\t : {difference_set2}\\\\nsymmetric_difference_set : {symmetric_difference_set}\")', '# Set operations\\nset1 = {1, 2, 3}\\nset2 = {3, 4, 5, 6, 7}\\nprint(set1 == set2)     # Equality\\nprint(set1 <= set2)     # Subset check\\nprint(set1 >= set2)     # Superset check\\nunion_set = set1 | set2                     # Union\\nintersection_set = set1 & set2              # Intersection\\ndifference_set1 = set1 - set2               # Diff1\\ndifference_set2 = set2 - set1               # Diff2\\nsymmetric_difference_set = set1 ^ set2      # Symmetric diff\\n\\nprint(f\"union_set\\\\t\\\\t : {union_set}\\\\nintersection_set\\\\t : {intersection_set}\\\\ndifference_set1\\\\t\\\\t : {difference_set1}\\\\ndifference_set2\\\\t\\\\t : {difference_set2}\\\\nsymmetric_difference_set : {symmetric_difference_set}\")', 'my_dict = {\"name\":\"Alice\",\"age\":30,\"city\":\"New York\"}\\nprint(my_dict, type(my_dict))\\nprint(my_dict[\"name\"],type(my_dict[\"name\"]),my_dict[\"age\"],type(my_dict[\"age\"]))  #same accessing\\nprint(my_dict.get(\"name\")) #Same accessing\\n\\nnest_dict = {}\\nnest_dict[\"name\"] = \"Ajay\"\\nnest_dict[\"example\"] = {\"age\":30,\"dob\":{\"dd\":9,\"mm\":12,\"yy\":1997}}\\nprint(nest_dict)\\nprint(nest_dict[\"example\"][\"dob\"][\"yy\"]) #accessing nested value\\n# dict_list = my_dict.items()\\n# dict_keys = my_dict.keys()\\n# print(dict_list, type(dict_list))\\n# print(dict_keys, type(dict_keys))\\nprint(my_dict.pop(\"age\"))\\nprint(my_dict)', 'my_dict = {\"name\":\"Alice\",\"age\":30,\"city\":\"New York\"}\\nprint(my_dict, type(my_dict))\\nprint(my_dict[\"name\"],type(my_dict[\"name\"]),my_dict[\"age\"],type(my_dict[\"age\"]))  #same accessing\\nprint(my_dict.get(\"name\")) #Same accessing\\n\\nnest_dict = {}\\nnest_dict[\"name\"] = \"Ajay\"\\nnest_dict[\"example\"] = {\"age\":30,\"dob\":{\"dd\":9,\"mm\":12,\"yy\":1997}}\\nprint(nest_dict)\\nprint(nest_dict[\"example\"][\"dob\"][\"yy\"]) #accessing nested value\\ndict_list = my_dict.items()\\ndict_keys = my_dict.keys()\\n# print(dict_list, type(dict_list))\\n# print(dict_keys, type(dict_keys))\\nprint(my_dict.pop(\"age\"))\\nprint(my_dict)', 'my_dict = {\"name\":\"Alice\",\"age\":30,\"city\":\"New York\"}\\nprint(my_dict, type(my_dict))\\nprint(my_dict[\"name\"],type(my_dict[\"name\"]),my_dict[\"age\"],type(my_dict[\"age\"]))  #same accessing\\nprint(my_dict.get(\"name\")) #Same accessing\\n\\nnest_dict = {}\\nnest_dict[\"name\"] = \"Ajay\"\\nnest_dict[\"example\"] = {\"age\":30,\"dob\":{\"dd\":9,\"mm\":12,\"yy\":1997}}\\nprint(nest_dict)\\nprint(nest_dict[\"example\"][\"dob\"][\"yy\"]) #accessing nested value\\n# dict_list = my_dict.items()\\ndict_keys = my_dict.keys()\\n# print(dict_list, type(dict_list))\\n# print(dict_keys, type(dict_keys))\\nprint(my_dict.pop(\"age\"))\\nprint(my_dict)', 'my_dict = {\"name\":\"Alice\",\"age\":30,\"city\":\"New York\"}\\nprint(my_dict, type(my_dict))\\nprint(my_dict[\"name\"],type(my_dict[\"name\"]),my_dict[\"age\"],type(my_dict[\"age\"]))  #same accessing\\nprint(my_dict.get(\"name\")) #Same accessing\\n\\nnest_dict = {}\\nnest_dict[\"name\"] = \"Ajay\"\\nnest_dict[\"example\"] = {\"age\":30,\"dob\":{\"dd\":9,\"mm\":12,\"yy\":1997}}\\nprint(nest_dict)\\nprint(nest_dict[\"example\"][\"dob\"][\"yy\"]) #accessing nested value\\ndict_list = my_dict.items()\\ndict_keys = my_dict.keys()\\nprint(dict_list, type(dict_list))\\nprint(dict_keys, type(dict_keys))\\nprint(my_dict.pop(\"age\"))\\nprint(my_dict)', 'my_dict = {\"name\":\"Alice\",\"age\":30,\"city\":\"New York\"}\\nprint(my_dict, type(my_dict))\\nprint(my_dict[\"name\"],type(my_dict[\"name\"]),my_dict[\"age\"],type(my_dict[\"age\"]))  #same accessing\\nprint(my_dict.get(\"name\")) #Same accessing\\n\\nnest_dict = {}\\nnest_dict[\"name\"] = \"Ajay\"\\nnest_dict[\"example\"] = {\"age\":30,\"dob\":{\"dd\":9,\"mm\":12,\"yy\":1997}}\\nprint(nest_dict)\\nprint(nest_dict[\"example\"][\"dob\"][\"yy\"])    # Accessing nested value\\ndict_list = my_dict.items()                 # Getting dict items\\ndict_keys = my_dict.keys()                  # Getting dict keys\\ndict_keys = my_dict.values()                # Getting dict values\\nprint(dict_list, type(dict_list))\\nprint(dict_keys, type(dict_keys))\\nprint(my_dict.pop(\"age\"))\\nprint(my_dict)', 'my_dict = {\"name\":\"Alice\",\"age\":30,\"city\":\"New York\"}\\nprint(my_dict, type(my_dict))\\nprint(my_dict[\"name\"],type(my_dict[\"name\"]),my_dict[\"age\"],type(my_dict[\"age\"]))  #same accessing\\nprint(my_dict.get(\"name\")) #Same accessing\\n\\nnest_dict = {}\\nnest_dict[\"name\"] = \"Ajay\"\\nnest_dict[\"example\"] = {\"age\":30,\"dob\":{\"dd\":9,\"mm\":12,\"yy\":1997}}\\nprint(nest_dict)\\nprint(nest_dict[\"example\"][\"dob\"][\"yy\"])    # Accessing nested value\\ndict_list = my_dict.items()                 # Getting dict items\\ndict_keys = my_dict.keys()                  # Getting dict keys\\ndict_keys = my_dict.values()                # Getting dict values\\nprint(dict_list, type(dict_list))\\nprint(dict_keys, type(dict_keys))\\nprint(dict_keys, type(dict_keys))\\nprint(my_dict.pop(\"age\"))\\nprint(my_dict)', \"x = 0\\nanswer = {x > 0 : 'Positive', x < 0 : 'Negative'}.get(True, 'Zero') # Single line if elif else. 'Zero' is default value if no 'True' key is generated inside the dictionary\\nprint(answer)\", \"x = 0\\nanswer = {x > 0 : 'Positive', x < 0 : 'Negative'}.get(True, 'Zero') # Single line if elif else. 'Zero' is default value if no 'True' key is generated inside the dictionary\\nprint(answer, type(answer))\", \"x = 0\\nanswer = {x > 0 : 'Positive', x < 0 : 'Negative'}.get(True, 'Zero') # Single line if elif else. 'Zero' is default value if no 'True' key is generated inside the dictionary\\nprint(answer)\", \"x = 0\\nx = 1\\nanswer = {x > 0 : 'Positive', x < 0 : 'Negative'}.get(True, 'Zero') # Single line if elif else. 'Zero' is default value if no 'True' key is generated inside the dictionary\\nprint(answer)\", \"# x = 0\\nx = 1\\nanswer = {x > 0 : 'Positive', x < 0 : 'Negative'}.get(True, 'Zero') # Single line if elif else. 'Zero' is default value if no 'True' key is generated inside the dictionary\\nprint(answer)\", \"# x = 0\\nx = 1\\nanswer = {x > 0 : 'Positive', x < 0 : 'Negative'}.get(False, 'Zero') # Single line if elif else. 'Zero' is default value if no 'True' key is generated inside the dictionary\\nprint(answer)\", \"# x = 0\\nx = 1\\nanswer = {x > 0 : 'Positive', x < 0 : 'Negative'}.get(True, 'Zero') # Single line if elif else. 'Zero' is default value if no 'True' key is generated inside the dictionary\\nprint(answer)\", '# Taking three inputs at a time\\nx, y, z = input(\"Enter three values: \").split(sep=\\',\\')\\nprint(\"Total number of students: \", x)\\nprint(\"Number of boys is : \", y)\\nprint(\"Number of girls is : \", z)', \"a = 5 #Global variable\\n \\ndef func():\\n    c = 10\\n    d = c + a\\n     \\n    # Calling globals()\\n    globals()['a'] = d\\n    # a = d\\n    print (a)\\n     \\n# Driver Code    \\nfunc()\\n\\nprint(globals())\", \"a = 5 # Global variable\\n \\ndef func():\\n    c = 10    # Local attribute\\n    d = c + a\\n    print(d)\\n    # Calling globals()\\n    globals()['a'] = d\\n    # a = d\\n    print (a)\\n     \\n# Driver Code    \\nfunc()\\n\\nprint(globals())\", \"a = 5 # Global variable\\n \\ndef func():\\n    c = 10    # Local attribute\\n    d = c + a\\n    print(d)\\n    # Calling globals()\\n    globals()['a'] = d\\n    # a = d\\n    print (a)\\n     \\n# Driver Code    \\nfunc()\\n\\nprint(globals())\", \"a = 5 # Global variable\\n \\ndef func():\\n    c = 10    # Local attribute\\n    d = c + a\\n    print(a)\\n    # Calling globals()\\n    globals()['a'] = d\\n    # a = d\\n    print (a)\\n     \\n# Driver Code    \\nfunc()\\n\\nprint(globals())\", \"a = 5 # Global variable\\n \\ndef func():\\n    c = 10    # Local attribute\\n    d = c + a\\n    print(a)  # Global variable accessible inside\\n    # Calling globals()\\n    globals()['a'] = d\\n    # a = d\\n    print (a)\\n\\nfunc()\\nprint(globals())\", \"a = 5 # Global variable\\n \\ndef func():\\n    c = 10    # Local attribute\\n    d = c + a\\n    print(a)  # Global variable accessible inside\\n    # Calling globals()\\n    # globals()['a'] = d\\n    # a = d\\n    print (a)\\n\\nfunc()\\nprint(globals())\", \"a = 5 # Global variable\\n \\ndef func():\\n    c = 10    # Local attribute\\n    d = c + a\\n    print(a)  # Global variable accessible inside\\n    # Calling globals()\\n    # globals()['a'] = d\\n    a = d\\n    print (a)\\n\\nfunc()\\nprint(globals())\", \"a = 5 # Global variable\\n \\ndef func():\\n    c = 10    # Local attribute\\n    d = c + a\\n    print(a)  # Global variable accessible inside\\n    # Calling globals()\\n    globals()['a'] = d\\n    # a = d   # This will throw unbound local error as global variable cannot be modfified inside a local namespace\\n    print (a)\\n\\nfunc()\\nprint(globals())\", 'Loops', 'for i in range(5):\\n    print(i)\\n    if(i==3):\\n        continue  # Continue ignores remaining statements\\n        print(i)', 'for i in range(5):\\n    print(i)\\n    if(i==3):\\n        continue  # Continue ignores remaining statements\\n        print(i)', 'for i in range(5):\\n    print(i)\\n    if(i==3):\\n        continue  # Continue ignores remaining statements\\n        print(i)', 'a, b = 10, 20\\n# Ternary operation in python\\nexp = {True: f\"{a} is the minimum\", False: f\"{b} is the minimum\"} [a<b]\\nprint(exp)', \"a = 5 # Global variable\\n \\ndef func():\\n    c = 10    # Local attribute\\n    d = c + a\\n    print(a)  # Global variable accessible inside\\n    # Calling globals()\\n    globals()['a'] = d\\n    # a = d   # This will throw unbound local error as global variable cannot be modfified inside a local namespace\\n    print (a)\\n\\nfunc()\\nprint(globals())\"], 'Out': {29: <class 'tuple'>, 64: ['apple', 'achar', 'cherry']}, 'get_ipython': <bound method InteractiveShell.get_ipython of <ipykernel.zmqshell.ZMQInteractiveShell object at 0x000001D2DCF34200>>, 'exit': <IPython.core.autocall.ZMQExitAutocall object at 0x000001D2DCF34AA0>, 'quit': <IPython.core.autocall.ZMQExitAutocall object at 0x000001D2DCF34AA0>, 'open': <function open at 0x000001D2DAC17C40>, '_': ['apple', 'achar', 'cherry'], '__': <class 'tuple'>, '___': '', '__vsc_ipynb_file__': 'c:\\\\Users\\\\ajayn\\\\OneDrive\\\\Desktop\\\\study\\\\vscode\\\\Basics_.ipynb', '_i': 'a, b = 10, 20\\n# Ternary operation in python\\nexp = {True: f\"{a} is the minimum\", False: f\"{b} is the minimum\"} [a<b]\\nprint(exp)', '_ii': 'for i in range(5):\\n    print(i)\\n    if(i==3):\\n        continue  # Continue ignores remaining statements\\n        print(i)', '_iii': 'for i in range(5):\\n    print(i)\\n    if(i==3):\\n        continue  # Continue ignores remaining statements\\n        print(i)', '_i1': 'ten = 10\\najay = \\'\\'\\'ajay\\'\\'\\'\\nbin = True\\ncomplexx = 10+6j\\nlist1 = [\"\"\"blah\"\"\",ajay,ten]\\ntuple1 = (1,2.8,\\'ajayn1@gmail.com\\')\\n\\nprint(type(ten),ten)\\nprint(type(ajay),ajay,len(ajay))\\nprint(type(bin),bin)\\nprint(type(list1),list1)\\nprint(type(complexx),complexx)\\nprint(type(tuple1),tuple1)  ', 'ten': 10, 'ajay': 'ajay', 'bin': True, 'complexx': (10+6j), 'list1': [3, 2, 1, 0, (1, 2)], 'tuple1': (1, 2, 3), '_i2': 'a = 1000000\\nb = 4268.98764\\nprint(f\"{a:e}\\\\n{b:,.2f}\")', 'a': 15, 'b': 20, '_i3': 'print(dir(__name__)) # Return names of attributes of an object', '_i4': 'print(dir()) # Return names of attributes of an object', '_i5': 'print(dir(__name__)) # Return names of attributes of an object', '_i6': 'print(dir(__main__)) # Return names of attributes of an object', '_i7': 'print(dir(__doc__)) # Return names of attributes of an object', '_i8': 'print(dir()) # Return names of attributes of an object\\nprint(dir(__name__))', '_i9': 'import sys\\nsys.stdout.write(\"Hello world\")\\n\\nprint(\"\\\\nAjay\",\"narayanan\", sep=\"-\")', 'sys': <module 'sys' (built-in)>, '_i10': \"name = 'ajay'\\nage = 18\\nprint(name + ' : ' + str(age))\\nprint(name, ':', age) #puts space in b/w comma\\nprint(f'{name} : {age}') #formatted way\\nprint('%s : %s' % (name, age)) #string formatting, converts to string, eq to str()\\nprint('{} : {}'.format(name, age))\", 'name': 'john', 'age': 30, '_i11': \"name = 'ajay'\\nage = 26\\nprint(name + ' : ' + str(age))\\nprint(name, ':', age) #puts space in b/w comma\\nprint(f'{name} : {age}') #formatted way\\nprint('%s : %s' % (name, age)) #string formatting, converts to string, eq to str()\\nprint('{} : {}'.format(name, age))\", '_i12': 'name = \"Ram\"\\nage = 22\\nmessage = \"My name is {0} and I am {1} years old. {1} is my favorite number.\".format(name, age)\\nprint(message)', 'message': 'My name is Ram and I am 22 years old. 22 is my favorite number.', '_i13': \"print(ord('a')) # ASCII interchangable function\\nprint(chr(97))\", '_i14': 'values = input(\"Enter multiple values separated by space: \").split()', 'values': ['a', 'b'], '_i15': 'values = input(\"Enter multiple values separated by space: \").split()\\nprint(values, type(values))', '_i16': 'value1, value2 = map(int, input(\"Enter multiple integers separated by space: \").split())', '_i17': 'value1, value2 = map(int, input(\"Enter multiple integers separated by space: \").split())', 'value1': 1, 'value2': 2, '_i18': 'value1, value2 = map(int, input(\"Enter multiple integers separated by space: \").split())\\nprint(value1, value2, type(value1, value2))', '_i19': 'value1, value2 = map(int, input(\"Enter multiple integers separated by space: \").split())\\nprint(value1, value2, type(value1),type(value2))', '_i20': 'a = \\'Ajay Narayanan\\'\\nb = 26\\nc = \\'Engineer\\'\\n\\nprint(c[::]) #print(c[0:8:1])\\nprint(c[-1:-9:-1]) #print(c[::-1])\\nprint(c[-8:-5:1])\\nprint(c[-5:-8:-1])\\nprint(\\'%s is an %s with age %s\\' % (a,c,b))\\n\\n\\n# f\\'{variable}\\n# \\'{}\\'.format(ordered list)\\n# \\'%s\\' % (ordered list) %s for string and %d for integer placeholder\\n\\nstring = \"Hello, world! This is a sample string.\"\\nprint(string.split(\",\",maxsplit=-1))\\n\\nd = \\'Python\\'\\nprint(\\'p\\' * 3)', 'c': 'Engineer', 'string': 'Hello, world! This is a sample string.', 'd': 'Python', '_i21': 'a1 = \\'banana\\',\\'apple\\',\\'pappaya\\',1,2,3,4.5 #Tuple packing\\nb1 = (\\'tomamto\\',\\'squash\\',1,2,4.6, i+2j)\\nprint(a1)\\nprint(type(b1))\\ntype(b1[5])\\n\\nperson = (\"john\" , 30 , \"New York\")\\nname, age, city = person\\n\\nprint(name, age, city)', 'a1': ('banana', 'apple', 'pappaya', 1, 2, 3, 4.5), '_i22': 'a1 = \\'banana\\',\\'apple\\',\\'pappaya\\',1,2,3,4.5 #Tuple packing\\nb1 = (\\'tomamto\\',\\'squash\\',1,2,4.6, i+2j)\\nprint(a1)\\nprint(type(b1))\\ntype(b1[5])\\n\\nperson = (\"john\" , 30 , \"New York\")\\nname, age, city = person\\n\\nprint(name, age, city)', '_i23': 'a1 = \\'banana\\',\\'apple\\',\\'pappaya\\',1,2,3,4.5 #Tuple packing without ()\\nb1 = (\\'tomamto\\',\\'squash\\',1,2,4.6, i+2j) #Tuple packing without ()\\nprint(a1)\\nprint(type(b1))\\ntype(b1[5])\\n\\nperson = (\"john\" , 30 , \"New York\")\\nname, age, city = person # Tuple unpacking\\n\\nprint(name, age, city)', '_i24': 'a1 = \\'banana\\',\\'apple\\',\\'pappaya\\',1,2,3,4.5 #Tuple packing without ()\\nb1 = (\\'tomamto\\',\\'squash\\',1,2,4.6, i+2j) #Tuple packing without ()\\nprint(a1)\\nprint(type(b1))\\ntype(b1[5])\\n\\nperson = (\"john\" , 30 , \"New York\")\\nname, age, city = person # Tuple unpacking\\n\\nprint(name, age, city)', '_i25': 'a1 = \\'banana\\',\\'apple\\',\\'pappaya\\',1,2,3,4.5 #Tuple packing without ()\\nb1 = (\\'tomamto\\',\\'squash\\', 1, 2, 4.6, i+2j) #Tuple packing without ()\\nprint(a1)\\nprint(type(b1))\\ntype(b1[5])\\n\\nperson = (\"john\" , 30 , \"New York\")\\nname, age, city = person # Tuple unpacking\\n\\nprint(name, age, city)', '_i26': 'a1 = \\'banana\\',\\'apple\\',\\'pappaya\\',1,2,3,4.5 #Tuple packing without ()\\nb1 = (\\'tomamto\\',\\'squash\\', 1, 2, 4.6, \\'i+2j\\') #Tuple packing without ()\\nprint(a1)\\nprint(type(b1))\\ntype(b1[5])\\n\\nperson = (\"john\" , 30 , \"New York\")\\nname, age, city = person # Tuple unpacking\\n\\nprint(name, age, city)', 'b1': ('tomamto', 'squash', 1, 2, 4.6, (1+2j)), 'person': ('john', 30, 'New York'), 'city': 'New York', '_i27': 'a1 = \\'banana\\',\\'apple\\',\\'pappaya\\',1,2,3,4.5 #Tuple packing without ()\\nb1 = (\\'tomamto\\',\\'squash\\', 1, 2, 4.6, 1+2j) #Tuple packing without ()\\nprint(a1)\\nprint(type(b1))\\ntype(b1[5])\\n\\nperson = (\"john\" , 30 , \"New York\")\\nname, age, city = person # Tuple unpacking\\n\\nprint(name, age, city)', '_i28': 'a1 = \\'banana\\',\\'apple\\',\\'pappaya\\',1,2,3,4.5 #Tuple packing without ()\\nb1 = (\\'tomamto\\',\\'squash\\', 1, 2, 4.6, 1+2j) #Tuple packing without ()\\nprint(a1)\\nprint(type(b1))\\nprint(type(b1[5]))\\n\\nperson = (\"john\" , 30 , \"New York\")\\nname, age, city = person # Tuple unpacking\\n\\nprint(name, age, city)', '_i29': \"a = 'ajay'\\nlist1 = [1,'ajay',2]\\nx = tuple(a)\\nprint(x)\\ntype(x)\", 'x': 1, '_29': <class 'tuple'>, '_i30': \"a = 'ajay'\\nlist1 = [1,'ajay',2]\\nx = tuple(a)\\nprint(x)\\ntype(x)\\ny = tuple(list1)\", 'y': (1, 'ajay', 2), '_i31': \"a = 'ajay'\\nlist1 = [1,'ajay',2]\\nx = tuple(a)\\nprint(x, type(x))\\ny = tuple(list1)\", '_i32': \"a = 'ajay'\\nlist1 = [1,'ajay',2]\\nx = tuple(a)\\nprint(x, type(x))\\ny = tuple(list1)\\nprint(x, type(x))\", '_i33': \"a = 'ajay'\\nlist1 = [1,'ajay',2]\\nx = tuple(a)\\nprint(x, type(x))\\ny = tuple(list1)\\nprint(y, type(y))\", '_i34': 'atuple1 = (100,)\\nprint(atuple1 * 2)', 'atuple1': (100, 50), '_i35': 'atuple1 = (100,50)\\nprint(atuple1 * 2)', '_i36': \"atuple = ('Orange', [10,20,30], (5,15,25), {1:'a',2:'b',3:'c'}, {'s1','s2'})\\nprint(atuple[1][1]) # To access an element\\nprint(atuple[3][2])\\nprint(atuple[4])\\nprint(type(atuple))\", 'atuple': ('Orange', [10, 20, 30], (5, 15, 25), {1: 'a', 2: 'b', 3: 'c'}, {'s2', 's1'}), '_i37': \"atuple = ('Orange', [10,20,30], (5,15,25), {1:'a',2:'b',3:'c'}, {'s1','s2'})\\nprint(atuple[1][1]) # To access an element\\nprint(atuple[3][2])\\nprint(atuple[4])\\nprint(type(atuple[4]))\", '_i38': \"atuple = ('Orange', [10,20,30], (5,15,25), {1:'a',2:'b',3:'c'}, {'s1','s2'})\\nprint(atuple[1][1]) # To access an element\\nprint(atuple[3][2])\\nprint(atuple[4])\\nprint(type(atuple) ,type(atuple[4]))\", '_i39': \"tuple1 = (1,2,3)\\ntuple2 = ('apple','ball', 'cat')\\ntuple3 = tuple1 + tuple2\\nprint(tuple3)\\n\\n# del(tuple3)\\n# print(tuple3)\", 'tuple2': ('apple', 'ball', 'cat'), 'tuple3': (1, 2, 3, 'apple', 'ball', 'cat'), '_i40': \"from collections import namedtuple\\nPoint = namedtuple('Point',['x','y','z'])\\np = Point(1,2,3)\\nprint(p.x)\", 'namedtuple': <function namedtuple at 0x000001D2D76A7EC0>, 'Point': <class '__main__.point'>, 'p': point(x=1, y=2, z=3), '_i41': \"# Provides a way to create tuple like objects and access the instance attributes by name or index\\nfrom collections import namedtuple\\nPoint = namedtuple('Point',['x','y','z']) # Similar to defining a class named Point\\np = Point(1,2,3) # Instance creation\\nprint(p.x)\", '_i42': \"# Provides a way to create tuple like objects and access the instance attributes by name or index\\nfrom collections import namedtuple\\nPoint = namedtuple('Point',['x','y','z']) # Similar to defining a class named Point\\np = Point(1,2,3) # Instance creation\\nprint(p.1) \", '_i43': \"# Provides a way to create tuple like objects and access the instance attributes by name or index\\nfrom collections import namedtuple\\nPoint = namedtuple('Point',['x','y','z']) # Similar to defining a class named Point\\np = Point(1,2,3) # Instance creation\\nprint(p.'1') \", '_i44': \"# Provides a way to create tuple like objects and access the instance attributes by name or index\\nfrom collections import namedtuple\\nPoint = namedtuple('Point',['x','y','z']) # Similar to defining a class named Point\\np = Point(1,2,3) # Instance creation\\nprint(p[0]) \", '_i45': \"# Provides a way to create tuple like objects and access the instance attributes by name or index\\nfrom collections import namedtuple\\nPoint = namedtuple('Point',['x','y','z']) # Similar to defining a class named Point\\np = Point(1,2,3) # Instance creation\\nprint(p[0]) \\nprint(p.x)\", '_i46': \"# Provides a way to create tuple like objects and access the instance attributes by name or index\\nfrom collections import namedtuple\\nPoint = namedtuple('Point',['x','y','z']) # Similar to defining a class named Point\\np = Point(1,2,3) # Instance creation\\nprint(p[0]) \\nprint(p.y)\", '_i47': \"# Provides a way to create tuple like objects and access the instance attributes by name or index\\nfrom collections import namedtuple\\nPoint = namedtuple('Point',['x','y','z']) # Similar to defining a class named Point\\np = Point(1,2,3) # Instance creation\\nq = Point(x = 'Ajay', y = 'jubi', z = 'Akhil' )\\nprint(p[0])      # Accessing by index\\nprint(p.y)       # Accessing by value\", 'q': point(x='Ajay', y='jubi', z='Akhil'), '_i48': \"# Provides a way to create tuple like objects and access the instance attributes by name or index\\nfrom collections import namedtuple\\nPoint = namedtuple('Point',['x','y','z']) # Similar to defining a class named Point\\np = Point(1,2,3) # Instance creation\\nq = Point(x = 'Ajay', y = 'jubi', z = 'Akhil' )\\n\\nprint(p[0])      # Accessing by index\\nprint(p.y)       # Accessing by attribute\\nprint(q.x)\\nprint(q.[2])\", '_i49': \"# Provides a way to create tuple like objects and access the instance attributes by name or index\\nfrom collections import namedtuple\\nPoint = namedtuple('Point',['x','y','z']) # Similar to defining a class named Point\\np = Point(1,2,3) # Instance creation\\nq = Point(x = 'Ajay', y = 'jubi', z = 'Akhil' )\\n\\nprint(p[0])      # Accessing by index\\nprint(p.y)       # Accessing by attribute\\nprint(q.x)\\nprint(q[2])\", '_i50': \"Hexa = namedtuple(['x', 'y', 'z'])\", '_i51': \"Hexa = namedtuple('eg',['x', 'y', 'z'])\", 'Hexa': <class '__main__.ewe'>, '_i52': \"Hexa = namedtuple('eg',['x', 'y', 'z'])\\na = Hexa(1,2,3)\", '_i53': \"Hexa = namedtuple('eg',['x', 'y', 'z'])\\na = Hexa(1,2,3)\\nprint(a)\", '_i54': \"Hexa = namedtuple(,['x', 'y', 'z'])\\na = Hexa(1,2,3)\\nprint(a)\", '_i55': \"# Provides a way to create tuple like objects and access the instance attributes by name or index\\nfrom collections import namedtuple\\nPoint = namedtuple('3DPoint',['x','y','z']) # Similar to defining a class named Point\\np = Point(1,2,3) # Instance creation\\nq = Point(x = 'Ajay', y = 'jubi', z = 'Akhil' )\\n\\nprint(p[0])      # Accessing by index\\nprint(p.y)       # Accessing by attribute\\nprint(q.x)\\nprint(q[2])\", '_i56': \"# Provides a way to create tuple like objects and access the instance attributes by name or index\\nfrom collections import namedtuple\\nPoint = namedtuple('int',['x','y','z']) # Similar to defining a class named Point\\np = Point(1,2,3) # Instance creation\\nq = Point(x = 'Ajay', y = 'jubi', z = 'Akhil' )\\n\\nprint(p[0])      # Accessing by index\\nprint(p.y)       # Accessing by attribute\\nprint(q.x)\\nprint(q[2])\", '_i57': \"Hexa = namedtuple(ewe,['x', 'y', 'z'])\\na = Hexa(1,2,3)\\nprint(a)\", '_i58': \"Hexa = namedtuple('ewe',['x', 'y', 'z'])\\na = Hexa(1,2,3)\\nprint(a)\", '_i59': \"# Provides a way to create tuple like objects and access the instance attributes by name or index\\nfrom collections import namedtuple\\nPoint = namedtuple('trt',['x','y','z']) # Similar to defining a class named Point\\np = Point(1,2,3) # Instance creation\\nq = Point(x = 'Ajay', y = 'jubi', z = 'Akhil' )\\n\\nprint(p[0])      # Accessing by index\\nprint(p.y)       # Accessing by attribute\\nprint(q.x)\\nprint(q[2])\", '_i60': \"# Provides a way to create tuple like objects and access the instance attributes by name or index\\nfrom collections import namedtuple\\nPoint = namedtuple('wtf',['x','y','z']) # Similar to defining a class named Point\\np = Point(1,2,3) # Instance creation\\nq = Point(x = 'Ajay', y = 'jubi', z = 'Akhil' )\\n\\nprint(p[0])      # Accessing by index\\nprint(p.y)       # Accessing by attribute\\nprint(q.x)\\nprint(q[2])\", '_i61': \"# Provides a way to create tuple like objects and access the instance attributes by name or index\\nfrom collections import namedtuple\\nPoint = namedtuple('point',['x','y','z']) # Similar to defining a class named Point, here point just refers to the name of the tuple group\\np = Point(1,2,3) # Instance creation\\nq = Point(x = 'Ajay', y = 'jubi', z = 'Akhil' )\\n\\nprint(p)\\nprint(p[0])      # Accessing by index\\nprint(p.y)       # Accessing by attribute\\nprint(q.x)\\nprint(q[2])\", '_i62': 'stri1 = \" Ajay Narayanan \"\\nstri2 = stri1.strip() # Removes leading and trailing white spaces\\nprint(id(stri1), id(stri2))  # Creates different objects as string is immutable\\n\\nstri1 = \"__Ajay Narayanan++\"\\nprint(stri1.strip(\"+_\"))', 'stri1': '__Ajay Narayanan++', 'stri2': 'Ajay Narayanan', '_i63': 'def add(a, b):\\n    return a+5, b+5  # returning a tuple\\n\\nresult = add(3, 2)\\nprint(result)', 'add': <function add at 0x000001D2DD753380>, 'result': (8, 7), '_i64': 'fruits = [\"apple\", \"banana\", \"cherry\"]\\nfruits[1] = \\'achar\\'\\nfruits\\nprint(fruits[::-1])\\nfruits', '_64': ['apple', 'achar', 'cherry'], '_i65': 'fruits = [\"apple\", \"banana\", \"cherry\"]\\nfruits[1] = \\'achar\\'\\nfruits\\nprint(fruits[::-1])\\nprint(fruits)', '_i66': '# fruits.append(\"banana\")\\n# fruits.append(3)\\nprint(fruits)\\nprint(len(fruits))\\n# fruits.remove(\"banana\")\\n# del fruits[3]\\nprint(fruits)\\nprint(len(fruits))', '_i67': '# fruits.append(\"banana\")\\nfruits.append(3)\\nprint(fruits)\\nprint(len(fruits))\\n# fruits.remove(\"banana\")\\n# del fruits[3]\\nprint(fruits)\\nprint(len(fruits))', '_i68': 'fruits.append(\"banana\")\\nfruits.append(3)\\nprint(fruits)\\nprint(len(fruits))\\n# fruits.remove(\"banana\")\\n# del fruits[3]\\nprint(fruits)\\nprint(len(fruits))', '_i69': 'fruits.append(\"banana\")\\nfruits.append(3)\\nprint(fruits)\\nprint(len(fruits))\\n# fruits.remove(\"banana\")\\n# del fruits[3]\\nprint(fruits)\\nprint(len(fruits))', '_i70': 'fruits.append(\"banana\")\\nfruits.append(3)\\nprint(fruits)\\nprint(len(fruits))\\nfruits.remove(\"banana\")\\n# del fruits[3]\\nprint(fruits)\\nprint(len(fruits))', '_i71': 'fruits.append(\"banana\")\\nfruits.append(3)\\nprint(fruits)\\nprint(len(fruits))\\nfruits.remove(\"banana\")\\nfruits.remove(3)\\n# del fruits[3]\\nprint(fruits)\\nprint(len(fruits))', '_i72': 'fruits.append(\"banana\")\\nfruits.append(3)\\nprint(fruits)\\nprint(len(fruits))\\nfruits.remove(\"banana\")\\nfruits.remove(3)\\n# del fruits[3]\\nprint(fruits)\\nprint(len(fruits))', '_i73': 'fruits.append(\"banana\")\\nfruits.append(3)\\nprint(fruits)\\nprint(len(fruits))\\nfruits.remove(\"banana\")\\nfruits.remove(3)\\n# del fruits[3]\\nprint(fruits)\\nprint(len(fruits))', '_i74': 'fruits = [\"apple\", \"banana\", \"cherry\"]\\nfruits[1] = \\'achar\\'\\nfruits\\nprint(fruits[::-1])\\nprint(fruits)', '_i75': 'fruits.append(\"banana\")\\nfruits.append(3)\\nprint(fruits)\\nprint(len(fruits))\\nfruits.remove(\"banana\")\\nfruits.remove(3)\\n# del fruits[3]\\nprint(fruits)\\nprint(len(fruits))', '_i76': 'fruits.append(\"banana\") # stacking\\nfruits.append(3)\\nprint(fruits)\\nprint(len(fruits))\\nfruits.remove(\"banana\") # Removes first matching instance\\nfruits.remove(3)\\ndel fruits[3]\\nprint(fruits)\\nprint(len(fruits))', '_i77': 'fruits.append(\"banana\") # stacking\\nfruits.append(3)\\nprint(fruits)\\nprint(len(fruits))\\nfruits.remove(\"banana\") # Removes first matching instance\\nfruits.remove(3)\\ndel fruits[0]\\nprint(fruits)\\nprint(len(fruits))', '_i78': 'fruits.append(\"banana\") # stacking\\nfruits.append(3)\\nprint(fruits)\\nprint(len(fruits))\\nfruits.remove(\"banana\") # Removes first matching instance\\nfruits.remove(3)\\ndel fruits[0]\\nprint(fruits)\\nprint(len(fruits))', '_i79': 'fruits.append(\"banana\") # stacking\\nfruits.append(3)\\nprint(fruits)\\nprint(len(fruits))\\nfruits.remove(\"banana\") # Removes first matching instance\\nfruits.remove(3)\\n# del fruits[0]\\nprint(fruits)\\nprint(len(fruits))', '_i80': 'fruits = [\"apple\", \"banana\", \"cherry\"]\\nfruits[1] = \\'achar\\'\\nfruits\\nprint(fruits[::-1])\\nprint(fruits)', '_i81': 'fruits = [\"apple\", \"banana\", \"cherry\"]\\nfruits[1] = \\'achar\\'\\nfruits\\nprint(fruits[::-1])\\nprint(fruits)\\n\\nfruits.append(\"banana\") # stacking\\nfruits.append(3)\\nprint(fruits)\\nprint(len(fruits))\\nfruits.remove(\"banana\") # Removes first matching instance\\nfruits.remove(3)\\n# del fruits[0]\\nprint(fruits)\\nprint(len(fruits))', '_i82': 'fruits = [\"apple\", \"banana\", \"cherry\"]\\nfruits[1] = \\'achar\\'\\nfruits\\nprint(fruits[::-1])\\nprint(fruits)\\n\\nfruits.append(\"banana\") # stacking\\nfruits.append(3)\\nprint(fruits)\\nprint(len(fruits))\\nfruits.remove(\"banana\") # Removes first matching instance\\nfruits.remove(3)\\ndel fruits  # Delete specific object or whole list\\nprint(fruits)\\nprint(len(fruits))', '_i83': 'fruits = [\"apple\", \"banana\", \"cherry\"]\\nfruits[1] = \\'achar\\'\\nfruits\\nprint(fruits[::-1])\\nprint(fruits)\\n\\nfruits.append(\"banana\") # stacking\\nfruits.append(3)\\nprint(fruits)\\nprint(len(fruits))\\nfruits.remove(\"banana\") # Removes first matching instance\\nfruits.remove(3)\\n# del fruits[0]  # Delete specific object or whole list\\nprint(fruits)\\nprint(len(fruits))', 'fruits': ['apple', 'achar', 'cherry'], '_i84': '#Repeated list\\nlist2 = [0] * 5\\nprint(list2)', 'list2': [0, 0, 0, 0, 0], '_i85': \"list1 = []\\nprint(list1)\\nfor i in range(0,4):\\n    list1.append(i)\\n    print(list1)\\n\\nlist1.sort(reverse=True) #list sorting\\nprint(list1)\\nprint(sum(list1,10)) #sum function can be used in homo list\\nprint(min(list1)) #Min value of the list\\nprint(max(list1)) #Max value of the list\\nprint(list1.append((1,2))) #append retures None in its function\\nprint(list1)\\nlist1.append({'ajay':26})\\nprint(list1)\\nprint(f'{type(list1[4])}\\\\n{type(list1[5])}')\\nlist1.pop()\\nprint(list1)\\n\\nmy_list = [1, 2, 3]\\nmy_list.extend([1,2,(1,2)])\\nprint(my_list)\\n# my_list.clear()\\n# print(my_list)\\nprint(my_list.index((1,2)))\", 'i': 4, 'my_list': [1, 2, 3, 1, 2, (1, 2)], '_i86': 'odd_square = [x ** 2 for x in range(1,11) if (x % 2 == 1)] #List comprehension\\nprint(odd_square)\\nodd_square.reverse()\\nprint(odd_square)', 'odd_square': [81, 49, 25, 9, 1], '_i87': 'eg_list = [1,1,2,2,3,4,5,5,5,5,10]\\nset1 = set(eg_list) #set creation\\nprint(set1 , type(set1))\\nset2 = {11,22,33,44,55}\\nset2.add(66)\\nprint(set2)\\nprint(11 in set2)\\nset2.remove(11)\\nset2.discard(22)\\nprint(set2)', 'eg_list': [1, 1, 2, 2, 3, 4, 5, 5, 5, 5, 10], 'set1': {1, 2, 3}, 'set2': {3, 4, 5, 6, 7}, '_i88': 'set1 = {1, 2, 3}\\nset2 = {3, 4, 5, 6, 7}\\nprint(set1 == set2) #Equality\\nprint(set1 <= set2) #Subset check\\nprint(set1 >= set2) #Superset check\\nunion_set = set1 | set2 \\nintersection_set = set1 & set2\\ndifference_set1 = set1 - set2\\ndifference_set2 = set2 - set1\\nsymmetric_difference_set = set1 ^ set2\\nprint(f\"union_set\\\\t\\\\t : {union_set}\\\\nintersection_set\\\\t : {intersection_set}\\\\ndifference_set1\\\\t\\\\t : {difference_set1}\\\\ndifference_set2\\\\t\\\\t : {difference_set2}\\\\nsymmetric_difference_set : {symmetric_difference_set}\")', 'union_set': {1, 2, 3, 4, 5, 6, 7}, 'intersection_set': {3}, 'difference_set1': {1, 2}, 'difference_set2': {4, 5, 6, 7}, 'symmetric_difference_set': {1, 2, 4, 5, 6, 7}, '_i89': '# Set operations\\nset1 = {1, 2, 3}\\nset2 = {3, 4, 5, 6, 7}\\nprint(set1 == set2)     # Equality\\nprint(set1 <= set2)     # Subset check\\nprint(set1 >= set2)     # Superset check\\nunion_set = set1 | set2                     # Union\\nintersection_set = set1 & set2              # Intersection\\ndifference_set1 = set1 - set2               # Diff1\\ndifference_set2 = set2 - set1               # Diff2\\nsymmetric_difference_set = set1 ^ set2      # Symmetric diff\\n\\nprint(f\"union_set\\\\t\\\\t : {union_set}\\\\nintersection_set\\\\t : {intersection_set}\\\\ndifference_set1\\\\t\\\\t : {difference_set1}\\\\ndifference_set2\\\\t\\\\t : {difference_set2}\\\\nsymmetric_difference_set : {symmetric_difference_set}\")', '_i90': 'my_dict = {\"name\":\"Alice\",\"age\":30,\"city\":\"New York\"}\\nprint(my_dict, type(my_dict))\\nprint(my_dict[\"name\"],type(my_dict[\"name\"]),my_dict[\"age\"],type(my_dict[\"age\"]))  #same accessing\\nprint(my_dict.get(\"name\")) #Same accessing\\n\\nnest_dict = {}\\nnest_dict[\"name\"] = \"Ajay\"\\nnest_dict[\"example\"] = {\"age\":30,\"dob\":{\"dd\":9,\"mm\":12,\"yy\":1997}}\\nprint(nest_dict)\\nprint(nest_dict[\"example\"][\"dob\"][\"yy\"]) #accessing nested value\\n# dict_list = my_dict.items()\\n# dict_keys = my_dict.keys()\\n# print(dict_list, type(dict_list))\\n# print(dict_keys, type(dict_keys))\\nprint(my_dict.pop(\"age\"))\\nprint(my_dict)', 'my_dict': {'name': 'Alice', 'city': 'New York'}, 'nest_dict': {'name': 'Ajay', 'example': {'age': 30, 'dob': {'dd': 9, 'mm': 12, 'yy': 1997}}}, '_i91': 'my_dict = {\"name\":\"Alice\",\"age\":30,\"city\":\"New York\"}\\nprint(my_dict, type(my_dict))\\nprint(my_dict[\"name\"],type(my_dict[\"name\"]),my_dict[\"age\"],type(my_dict[\"age\"]))  #same accessing\\nprint(my_dict.get(\"name\")) #Same accessing\\n\\nnest_dict = {}\\nnest_dict[\"name\"] = \"Ajay\"\\nnest_dict[\"example\"] = {\"age\":30,\"dob\":{\"dd\":9,\"mm\":12,\"yy\":1997}}\\nprint(nest_dict)\\nprint(nest_dict[\"example\"][\"dob\"][\"yy\"]) #accessing nested value\\ndict_list = my_dict.items()\\ndict_keys = my_dict.keys()\\n# print(dict_list, type(dict_list))\\n# print(dict_keys, type(dict_keys))\\nprint(my_dict.pop(\"age\"))\\nprint(my_dict)', 'dict_list': dict_items([('name', 'Alice'), ('city', 'New York')]), 'dict_keys': dict_values(['Alice', 'New York']), '_i92': 'my_dict = {\"name\":\"Alice\",\"age\":30,\"city\":\"New York\"}\\nprint(my_dict, type(my_dict))\\nprint(my_dict[\"name\"],type(my_dict[\"name\"]),my_dict[\"age\"],type(my_dict[\"age\"]))  #same accessing\\nprint(my_dict.get(\"name\")) #Same accessing\\n\\nnest_dict = {}\\nnest_dict[\"name\"] = \"Ajay\"\\nnest_dict[\"example\"] = {\"age\":30,\"dob\":{\"dd\":9,\"mm\":12,\"yy\":1997}}\\nprint(nest_dict)\\nprint(nest_dict[\"example\"][\"dob\"][\"yy\"]) #accessing nested value\\n# dict_list = my_dict.items()\\ndict_keys = my_dict.keys()\\n# print(dict_list, type(dict_list))\\n# print(dict_keys, type(dict_keys))\\nprint(my_dict.pop(\"age\"))\\nprint(my_dict)', '_i93': 'my_dict = {\"name\":\"Alice\",\"age\":30,\"city\":\"New York\"}\\nprint(my_dict, type(my_dict))\\nprint(my_dict[\"name\"],type(my_dict[\"name\"]),my_dict[\"age\"],type(my_dict[\"age\"]))  #same accessing\\nprint(my_dict.get(\"name\")) #Same accessing\\n\\nnest_dict = {}\\nnest_dict[\"name\"] = \"Ajay\"\\nnest_dict[\"example\"] = {\"age\":30,\"dob\":{\"dd\":9,\"mm\":12,\"yy\":1997}}\\nprint(nest_dict)\\nprint(nest_dict[\"example\"][\"dob\"][\"yy\"]) #accessing nested value\\ndict_list = my_dict.items()\\ndict_keys = my_dict.keys()\\nprint(dict_list, type(dict_list))\\nprint(dict_keys, type(dict_keys))\\nprint(my_dict.pop(\"age\"))\\nprint(my_dict)', '_i94': 'my_dict = {\"name\":\"Alice\",\"age\":30,\"city\":\"New York\"}\\nprint(my_dict, type(my_dict))\\nprint(my_dict[\"name\"],type(my_dict[\"name\"]),my_dict[\"age\"],type(my_dict[\"age\"]))  #same accessing\\nprint(my_dict.get(\"name\")) #Same accessing\\n\\nnest_dict = {}\\nnest_dict[\"name\"] = \"Ajay\"\\nnest_dict[\"example\"] = {\"age\":30,\"dob\":{\"dd\":9,\"mm\":12,\"yy\":1997}}\\nprint(nest_dict)\\nprint(nest_dict[\"example\"][\"dob\"][\"yy\"])    # Accessing nested value\\ndict_list = my_dict.items()                 # Getting dict items\\ndict_keys = my_dict.keys()                  # Getting dict keys\\ndict_keys = my_dict.values()                # Getting dict values\\nprint(dict_list, type(dict_list))\\nprint(dict_keys, type(dict_keys))\\nprint(my_dict.pop(\"age\"))\\nprint(my_dict)', '_i95': 'my_dict = {\"name\":\"Alice\",\"age\":30,\"city\":\"New York\"}\\nprint(my_dict, type(my_dict))\\nprint(my_dict[\"name\"],type(my_dict[\"name\"]),my_dict[\"age\"],type(my_dict[\"age\"]))  #same accessing\\nprint(my_dict.get(\"name\")) #Same accessing\\n\\nnest_dict = {}\\nnest_dict[\"name\"] = \"Ajay\"\\nnest_dict[\"example\"] = {\"age\":30,\"dob\":{\"dd\":9,\"mm\":12,\"yy\":1997}}\\nprint(nest_dict)\\nprint(nest_dict[\"example\"][\"dob\"][\"yy\"])    # Accessing nested value\\ndict_list = my_dict.items()                 # Getting dict items\\ndict_keys = my_dict.keys()                  # Getting dict keys\\ndict_keys = my_dict.values()                # Getting dict values\\nprint(dict_list, type(dict_list))\\nprint(dict_keys, type(dict_keys))\\nprint(dict_keys, type(dict_keys))\\nprint(my_dict.pop(\"age\"))\\nprint(my_dict)', '_i96': \"x = 0\\nanswer = {x > 0 : 'Positive', x < 0 : 'Negative'}.get(True, 'Zero') # Single line if elif else. 'Zero' is default value if no 'True' key is generated inside the dictionary\\nprint(answer)\", 'answer': 'Positive', '_i97': \"x = 0\\nanswer = {x > 0 : 'Positive', x < 0 : 'Negative'}.get(True, 'Zero') # Single line if elif else. 'Zero' is default value if no 'True' key is generated inside the dictionary\\nprint(answer, type(answer))\", '_i98': \"x = 0\\nanswer = {x > 0 : 'Positive', x < 0 : 'Negative'}.get(True, 'Zero') # Single line if elif else. 'Zero' is default value if no 'True' key is generated inside the dictionary\\nprint(answer)\", '_i99': \"x = 0\\nx = 1\\nanswer = {x > 0 : 'Positive', x < 0 : 'Negative'}.get(True, 'Zero') # Single line if elif else. 'Zero' is default value if no 'True' key is generated inside the dictionary\\nprint(answer)\", '_i100': \"# x = 0\\nx = 1\\nanswer = {x > 0 : 'Positive', x < 0 : 'Negative'}.get(True, 'Zero') # Single line if elif else. 'Zero' is default value if no 'True' key is generated inside the dictionary\\nprint(answer)\", '_i101': \"# x = 0\\nx = 1\\nanswer = {x > 0 : 'Positive', x < 0 : 'Negative'}.get(False, 'Zero') # Single line if elif else. 'Zero' is default value if no 'True' key is generated inside the dictionary\\nprint(answer)\", '_i102': \"# x = 0\\nx = 1\\nanswer = {x > 0 : 'Positive', x < 0 : 'Negative'}.get(True, 'Zero') # Single line if elif else. 'Zero' is default value if no 'True' key is generated inside the dictionary\\nprint(answer)\", '_i103': '# Taking three inputs at a time\\nx, y, z = input(\"Enter three values: \").split(sep=\\',\\')\\nprint(\"Total number of students: \", x)\\nprint(\"Number of boys is : \", y)\\nprint(\"Number of girls is : \", z)', '_i104': \"a = 5 #Global variable\\n \\ndef func():\\n    c = 10\\n    d = c + a\\n     \\n    # Calling globals()\\n    globals()['a'] = d\\n    # a = d\\n    print (a)\\n     \\n# Driver Code    \\nfunc()\\n\\nprint(globals())\", 'func': <function func at 0x000001D2DD72C860>, '_i105': \"a = 5 # Global variable\\n \\ndef func():\\n    c = 10    # Local attribute\\n    d = c + a\\n    print(d)\\n    # Calling globals()\\n    globals()['a'] = d\\n    # a = d\\n    print (a)\\n     \\n# Driver Code    \\nfunc()\\n\\nprint(globals())\", '_i106': \"a = 5 # Global variable\\n \\ndef func():\\n    c = 10    # Local attribute\\n    d = c + a\\n    print(d)\\n    # Calling globals()\\n    globals()['a'] = d\\n    # a = d\\n    print (a)\\n     \\n# Driver Code    \\nfunc()\\n\\nprint(globals())\", '_i107': \"a = 5 # Global variable\\n \\ndef func():\\n    c = 10    # Local attribute\\n    d = c + a\\n    print(a)\\n    # Calling globals()\\n    globals()['a'] = d\\n    # a = d\\n    print (a)\\n     \\n# Driver Code    \\nfunc()\\n\\nprint(globals())\", '_i108': \"a = 5 # Global variable\\n \\ndef func():\\n    c = 10    # Local attribute\\n    d = c + a\\n    print(a)  # Global variable accessible inside\\n    # Calling globals()\\n    globals()['a'] = d\\n    # a = d\\n    print (a)\\n\\nfunc()\\nprint(globals())\", '_i109': \"a = 5 # Global variable\\n \\ndef func():\\n    c = 10    # Local attribute\\n    d = c + a\\n    print(a)  # Global variable accessible inside\\n    # Calling globals()\\n    # globals()['a'] = d\\n    # a = d\\n    print (a)\\n\\nfunc()\\nprint(globals())\", '_i110': \"a = 5 # Global variable\\n \\ndef func():\\n    c = 10    # Local attribute\\n    d = c + a\\n    print(a)  # Global variable accessible inside\\n    # Calling globals()\\n    # globals()['a'] = d\\n    a = d\\n    print (a)\\n\\nfunc()\\nprint(globals())\", '_i111': \"a = 5 # Global variable\\n \\ndef func():\\n    c = 10    # Local attribute\\n    d = c + a\\n    print(a)  # Global variable accessible inside\\n    # Calling globals()\\n    globals()['a'] = d\\n    # a = d   # This will throw unbound local error as global variable cannot be modfified inside a local namespace\\n    print (a)\\n\\nfunc()\\nprint(globals())\", '_i112': 'Loops', '_i113': 'for i in range(5):\\n    print(i)\\n    if(i==3):\\n        continue  # Continue ignores remaining statements\\n        print(i)', '_i114': 'for i in range(5):\\n    print(i)\\n    if(i==3):\\n        continue  # Continue ignores remaining statements\\n        print(i)', '_i115': 'for i in range(5):\\n    print(i)\\n    if(i==3):\\n        continue  # Continue ignores remaining statements\\n        print(i)', '_i116': 'a, b = 10, 20\\n# Ternary operation in python\\nexp = {True: f\"{a} is the minimum\", False: f\"{b} is the minimum\"} [a<b]\\nprint(exp)', 'exp': '10 is the minimum', '_i117': \"a = 5 # Global variable\\n \\ndef func():\\n    c = 10    # Local attribute\\n    d = c + a\\n    print(a)  # Global variable accessible inside\\n    # Calling globals()\\n    globals()['a'] = d\\n    # a = d   # This will throw unbound local error as global variable cannot be modfified inside a local namespace\\n    print (a)\\n\\nfunc()\\nprint(globals())\"}\n"
     ]
    }
   ],
   "source": [
    "# Attribute scopes in functions\n",
    "# -----------------------------\n",
    "a = 5 # Global variable\n",
    "\n",
    "def func():\n",
    "    c = 10    # Local attribute\n",
    "    d = c + a\n",
    "    print(a)  # Global variable accessible inside\n",
    "    # Calling globals()\n",
    "    globals()['a'] = d\n",
    "    # a = d   # This will throw unbound local error as global variable cannot be modfified inside a local namespace\n",
    "    print (a)\n",
    "\n",
    "func()\n",
    "print(globals())"
   ]
  },
  {
   "cell_type": "code",
   "execution_count": 73,
   "metadata": {},
   "outputs": [
    {
     "name": "stdout",
     "output_type": "stream",
     "text": [
      "outer\n",
      "inner\n"
     ]
    }
   ],
   "source": [
    "def outer_function():\n",
    "    outer_var = \"outer\"\n",
    "\n",
    "    def inner_function():\n",
    "        inner_var = \"inner\"\n",
    "        print(outer_var)  # Accessing outer scope variable\n",
    "        print(inner_var)\n",
    "\n",
    "    inner_function()\n",
    "    # print(inner_var)  # This would raise a Name error , not defined\n",
    "\n",
    "outer_function()"
   ]
  },
  {
   "cell_type": "code",
   "execution_count": null,
   "metadata": {},
   "outputs": [],
   "source": [
    "# Use of nonlocal keyword\n",
    "\"\"\" \n",
    "In Python, the nonlocal keyword is used to indicate that a variable refers to a variable in the nearest enclosing scope that is NOT GLOBAL.\n",
    "\"\"\"\n",
    "def outer_function():\n",
    "    x = \"initial value\"  # Variable in the outer function's scope\n",
    "    \n",
    "    def inner_function():\n",
    "        nonlocal x  # Declare x as nonlocal to modify the outer variable\n",
    "        x = \"modified value\"  # Modify the outer variable\n",
    "    \n",
    "    inner_function()  # Call the inner function\n",
    "    return x  # Return the modified value\n",
    "\n",
    "result = outer_function()\n",
    "print(result)  # Output: \"modified value\""
   ]
  },
  {
   "cell_type": "code",
   "execution_count": null,
   "metadata": {},
   "outputs": [
    {
     "name": "stdout",
     "output_type": "stream",
     "text": [
      "arg1: Geeks\n",
      "arg2: for\n",
      "arg3: Geeks\n",
      "\n",
      "arg1: Geeks\n",
      "arg2: for\n",
      "arg3: Geeks\n",
      "\n"
     ]
    }
   ],
   "source": [
    "# Argument Parsing in Python\n",
    "# --------------------------\n",
    "#\n",
    "# Positional arguments (*args) and Keyword argumrnts (**kwargs)\n",
    "# -------------------------------------------------------------\n",
    "def myFun(arg1, arg2, arg3):\n",
    "    print(\"arg1:\", arg1)\n",
    "    print(\"arg2:\", arg2)\n",
    "    print(\"arg3:\", arg3, end = \"\\n\\n\")\n",
    "\n",
    "# Now we can use *args or **kwargs to\n",
    "# pass arguments to this function :\n",
    "args = (\"Geeks\", \"for\", \"Geeks\")\n",
    "myFun(*args)\n",
    "\n",
    "kwargs = {\"arg1\": \"Geeks\", \"arg2\": \"for\", \"arg3\": \"Geeks\"} # Key should match attribute name\n",
    "myFun(**kwargs)"
   ]
  },
  {
   "cell_type": "code",
   "execution_count": null,
   "metadata": {},
   "outputs": [
    {
     "name": "stdout",
     "output_type": "stream",
     "text": [
      "Positional argument: 1\n",
      "Positional argument: 2\n",
      "Positional argument: 3\n",
      "Keyword arguments: a = apple\n",
      "Keyword arguments: b = banana\n"
     ]
    }
   ],
   "source": [
    "def print_args(*args, **kwargs): # kwargs - keyword args and arg - non keyword args\n",
    "\n",
    "    for arg in args:\n",
    "        print(f\"Positional argument: {arg}\")\n",
    "    for key, value in kwargs.items():\n",
    "        print(f\"Keyword arguments: {key} = {value}\")\n",
    "\n",
    "print_args(1, 2, 3, a=\"apple\", b=\"banana\")\n",
    "\n",
    "\"\"\"\n",
    "Note:\n",
    "*args must always come boefore **kargs while parsing to a function\n",
    "\"\"\""
   ]
  },
  {
   "cell_type": "code",
   "execution_count": 77,
   "metadata": {},
   "outputs": [
    {
     "name": "stdout",
     "output_type": "stream",
     "text": [
      "Emma 23\n",
      "Emma 23\n",
      "Emma 23\n"
     ]
    }
   ],
   "source": [
    "# Different ways of parsing argument/s to a function\n",
    "def fun1(name, age):\n",
    "    print(name, age)\n",
    "\n",
    "fun1('Emma', age=23) # Positional arguments can be used only before keyword arguments\n",
    "fun1(age=23,name='Emma') \n",
    "# fun1(name='Emma', 23) #Error - Positional argument cannot be followed after after keyword arguments are used\n",
    "fun1('Emma', 23)"
   ]
  },
  {
   "cell_type": "code",
   "execution_count": 78,
   "metadata": {},
   "outputs": [
    {
     "name": "stdout",
     "output_type": "stream",
     "text": [
      "age\n",
      "name\n"
     ]
    }
   ],
   "source": [
    "def displayper(**kwargs):  # Keyword args takes only those and *args takes only those\n",
    "    for i in kwargs:\n",
    "        print(i)\n",
    "\n",
    "displayper(age=23,name='Emma')\n",
    "# displayper(\"Emma\", 23)      # This will throw error\n",
    "# displayper(\"Emma\", age=23)  # This also not valid"
   ]
  },
  {
   "cell_type": "code",
   "execution_count": null,
   "metadata": {},
   "outputs": [
    {
     "name": "stdout",
     "output_type": "stream",
     "text": [
      "\n",
      "    Adds two numbers and returns the result.\n",
      "\n",
      "    Parameters:\n",
      "    a (int or float): The first number.\n",
      "    b (int or float): The second number.\n",
      "\n",
      "    Returns:\n",
      "    int or float: The sum of the two numbers.\n",
      "    \n"
     ]
    }
   ],
   "source": [
    "# Adding Docstring\n",
    "# ----------------\n",
    "def add(a, b): # Docstring should be/start at the first line of a function / method /class. Refer PEP8 for formatting\n",
    "    \"\"\"\n",
    "    Adds two numbers and returns the result.\n",
    "\n",
    "    Parameters:\n",
    "    a (int or float): The first number.\n",
    "    b (int or float): The second number.\n",
    "\n",
    "    Returns:\n",
    "    int or float: The sum of the two numbers.\n",
    "    \"\"\"\n",
    "    return a + b\n",
    "\n",
    "# Accessing the docstring - Documentation   \n",
    "print(add.__doc__)"
   ]
  },
  {
   "cell_type": "code",
   "execution_count": 22,
   "metadata": {},
   "outputs": [
    {
     "name": "stdout",
     "output_type": "stream",
     "text": [
      "None\n",
      "True\n",
      "True\n"
     ]
    }
   ],
   "source": [
    "# Type Annotation / Type hinting\n",
    "# -----------------------------\n",
    "def add11(a :int, b: float) -> float: # Return type and parameter type annotation\n",
    "    return(a+b)\n",
    "\n",
    "# Annotations Over varaibles ( >= 3.10)\n",
    "# -------------------------------------\n",
    "sample_variable : str | None = None # The saimple variable can be of type str or None value, and initialized with a default None value'\n",
    "\n",
    "print(sample_variable)\n",
    "\n",
    "# NoneType :  This is the type name of None value in python\n",
    "from types import NoneType\n",
    "print(type(sample_variable) is NoneType)\n",
    "print(isinstance(sample_variable, NoneType))"
   ]
  },
  {
   "cell_type": "code",
   "execution_count": 1,
   "metadata": {},
   "outputs": [],
   "source": [
    "# Methos Overriding\n",
    "# -----------------\n",
    "class Simple:\n",
    "\n",
    "    def sample(self):\n",
    "        pass\n",
    "\n",
    "    def sample(self):       # Method Overriding (second fuction will now be referred during function calls as it's overriden the first)\n",
    "        pass                # Python don't have a native a function overloading syntax"
   ]
  },
  {
   "cell_type": "code",
   "execution_count": null,
   "metadata": {},
   "outputs": [],
   "source": [
    "# # Method overloading (implicit)\n",
    "# ------------------------------\n",
    "'''\n",
    "However, method overlaping can be achieved by the decorator '@overload' provided with proper type hinting.\n",
    "'''\n",
    "\n",
    "from typing import overload, Union\n",
    "\n",
    "class Example:\n",
    "    @overload\n",
    "    def process(self, x: int) -> int:\n",
    "        ...\n",
    "\n",
    "    @overload\n",
    "    def process(self, x: str) -> str:\n",
    "        ...\n",
    "\n",
    "    def process(self, x: Union[int, str]) -> Union[int, str]:\n",
    "        if isinstance(x, int):\n",
    "            return x * 2  # Process int\n",
    "        elif isinstance(x, str):\n",
    "            return x.upper()  # Process str\n",
    "        else:\n",
    "            raise ValueError(\"Invalid type\")\n",
    "\n",
    "# Usage\n",
    "obj = Example()\n",
    "\n",
    "# This will return 10 (2 * 5)\n",
    "print(obj.process(5))\n",
    "\n",
    "# This will return 'HELLO'\n",
    "print(obj.process(\"hello\"))"
   ]
  },
  {
   "cell_type": "code",
   "execution_count": 6,
   "metadata": {},
   "outputs": [
    {
     "name": "stdout",
     "output_type": "stream",
     "text": [
      "15\n"
     ]
    }
   ],
   "source": [
    "# Closure\n",
    "# -------\n",
    "# In Python, a closure is a function object that has access to variables in its lexical scope(Lexical scope, also known as static scope, refers to the visibility of variables within nested functions based on their location in the source code), even when the function is called outside that scope. This allows the function to \"remember\" the values of those variables at the time it was defined, even if they are not present in the current scope when the function is called.\n",
    "\n",
    "def outer_function(x):\n",
    "    def inner_function(y):\n",
    "        return x + y  # inner_function accesses x from the outer_function\n",
    "    return inner_function  # return the inner function as a closure\n",
    "\n",
    "# Create a closure\n",
    "closure = outer_function(10)\n",
    "\n",
    "# Call the closure\n",
    "result = closure(5)  # This will return 10 + 5 = 15\n",
    "print(result)  # Output: 15"
   ]
  },
  {
   "cell_type": "markdown",
   "metadata": {},
   "source": [
    "# Special Functions"
   ]
  },
  {
   "cell_type": "code",
   "execution_count": null,
   "metadata": {},
   "outputs": [
    {
     "name": "stdout",
     "output_type": "stream",
     "text": [
      "<class 'enumerate'>\n",
      "0 11\n",
      "1 22\n",
      "2 33\n",
      "3 eat\n",
      "4 sleep\n",
      "5 repeat\n"
     ]
    }
   ],
   "source": [
    " # Enumerate function\n",
    " # ------------------\n",
    " # Returns a tuple of index, value pair. Used to iterate over elements of a sequence while keeping track of the index\n",
    "\n",
    "l1 = [11,22,33,'eat',\"sleep\",\"repeat\"]\n",
    "print(type(enumerate(l1)))\n",
    "for index, value in enumerate(l1, start=0):\n",
    "    print(index, value)"
   ]
  },
  {
   "cell_type": "code",
   "execution_count": 79,
   "metadata": {},
   "outputs": [
    {
     "name": "stdout",
     "output_type": "stream",
     "text": [
      "125\n",
      "2 6 6\n",
      "{1, 2, 4, 5}\n"
     ]
    }
   ],
   "source": [
    "# Lambda function\n",
    "# ---------------\n",
    "# lambda <argument/s> : <expression>\n",
    "\n",
    "cube_of = lambda y: y**3\n",
    "print(cube_of(5))"
   ]
  },
  {
   "cell_type": "code",
   "execution_count": null,
   "metadata": {},
   "outputs": [
    {
     "name": "stdout",
     "output_type": "stream",
     "text": [
      "[1, 8, 27, 64, 125]\n"
     ]
    }
   ],
   "source": [
    "# lambda function passing to a higher order function\n",
    "nums = [1,2,3,4,5]\n",
    "\n",
    "def my_map(my_func, my_iter):\n",
    "    result = []\n",
    "    for item in my_iter:\n",
    "        result.append(my_func(item))\n",
    "    return result\n",
    "print(my_map(lambda x : x**3, nums)) #lambda passed to a higher order function"
   ]
  },
  {
   "cell_type": "code",
   "execution_count": null,
   "metadata": {},
   "outputs": [
    {
     "name": "stdout",
     "output_type": "stream",
     "text": [
      "[1, 8, 27, 64, 125]\n"
     ]
    }
   ],
   "source": [
    "# bult-in function map()\n",
    "# Make an iterator that computes the function using arguments from\n",
    "# each of the iterables. Stops when the shortest iterable is exhausted.\n",
    "\n",
    "nums = [1,2,3,4,5]\n",
    "# del list\n",
    "x = list(map(lambda x : x**3, nums))\n",
    "print(x)"
   ]
  },
  {
   "cell_type": "code",
   "execution_count": null,
   "metadata": {},
   "outputs": [
    {
     "name": "stdout",
     "output_type": "stream",
     "text": [
      "[1, 3, 5]\n"
     ]
    }
   ],
   "source": [
    "# Return an iterator yielding those items of iterable for which function(item) is true.\n",
    "# If function is None, return the items that are true\n",
    "# Requires a conditional check like ==, !=, ...\n",
    "li = [1,2,3,4,5,6]\n",
    "\n",
    "x = list(filter(lambda x : (x % 2) !=0 , li)) # Filter function\n",
    "print(x)"
   ]
  },
  {
   "cell_type": "code",
   "execution_count": null,
   "metadata": {},
   "outputs": [
    {
     "name": "stdout",
     "output_type": "stream",
     "text": [
      "ajaynarayanan\n",
      "193\n"
     ]
    }
   ],
   "source": [
    "from functools import reduce\n",
    "li1 = ['ajay','narayanan']\n",
    "li2 = [5, 8, 10, 20, 50, 100]\n",
    "sum1 = reduce((lambda x, y: x + y), li1) # Reduce gives compound o/p\n",
    "sum2 = reduce((lambda x, y: x + y), li2) \n",
    "print(sum1)\n",
    "print(sum2)"
   ]
  },
  {
   "cell_type": "markdown",
   "metadata": {},
   "source": [
    "# Built-In functions and Modules"
   ]
  },
  {
   "cell_type": "code",
   "execution_count": null,
   "metadata": {},
   "outputs": [],
   "source": [
    "# ASCII interchangable functions\n",
    "# ------------------------------\n",
    "print(ord('a')) # Ordinal - Corrosponding ASCII value\n",
    "print(chr(97)) # Character - Corresponding ASCII character"
   ]
  },
  {
   "cell_type": "code",
   "execution_count": 92,
   "metadata": {},
   "outputs": [
    {
     "name": "stdout",
     "output_type": "stream",
     "text": [
      "slice(None, 2, None)\n",
      "<class 'slice'>\n",
      "('a', 'b')\n",
      "<class 'slice'> ('g', 'f', 'e')\n"
     ]
    }
   ],
   "source": [
    "# Slice function\n",
    "# --------------\n",
    "# Creates a slice object which can be used on an sequence\n",
    "# \n",
    "a = (\"a\", \"b\", \"c\", \"d\", \"e\", \"f\", \"g\", \"h\")\n",
    "b = (\"a\", \"b\", \"c\", \"d\", \"e\", \"f\", \"g\", \"h\")\n",
    "x = slice(2)\n",
    "print(x)\n",
    "print(type(x))\n",
    "print(a[x])\n",
    "\n",
    "y = slice(-2,-5,-1) # start index, stop index, step\n",
    "print(type(y), b[y])"
   ]
  },
  {
   "cell_type": "code",
   "execution_count": null,
   "metadata": {},
   "outputs": [
    {
     "name": "stdout",
     "output_type": "stream",
     "text": [
      "Trunc(-2.9) : -2\n",
      "Trunc(2.9)  :  2\n",
      "Floor(-2.9) : -3\n",
      "Floor(2.9)  :  2\n",
      "Ceil(-2.9)  : -2\n",
      "Ceil(2.9)   :  3\n"
     ]
    }
   ],
   "source": [
    "import math\n",
    "print(f'Trunc(-2.9) : {math.trunc(-2.9)}')\n",
    "print(f'Trunc(2.9)  :  {math.trunc(2.9)}')\n",
    "\n",
    "print(f'Floor(-2.9) : {math.floor(-2.9)}')\n",
    "print(f'Floor(2.9)  :  {math.floor(2.9)}')\n",
    "\n",
    "print(f'Ceil(-2.9)  : {math.ceil(-2.9)}')\n",
    "print(f'Ceil(2.9)   :  {math.ceil(2.9)}')"
   ]
  },
  {
   "cell_type": "code",
   "execution_count": null,
   "metadata": {},
   "outputs": [
    {
     "name": "stdout",
     "output_type": "stream",
     "text": [
      "True\n",
      "True\n",
      "True\n",
      "False\n"
     ]
    }
   ],
   "source": [
    "from numbers import Number\n",
    "from decimal import Decimal\n",
    "from fractions import Fraction\n",
    "\n",
    "# isinstance() checks whether the object is part of a class\n",
    "\n",
    "print(isinstance(2.0, Number))\n",
    "print(isinstance(Decimal('2.0'), Number))\n",
    "print(isinstance(Fraction(2, 1), Number))\n",
    "print(isinstance('2', Number))"
   ]
  },
  {
   "cell_type": "code",
   "execution_count": null,
   "metadata": {},
   "outputs": [
    {
     "name": "stdout",
     "output_type": "stream",
     "text": [
      "0.5900972447800142\n",
      "8\n",
      "0\n",
      "4.7724307863817295\n",
      "y\n",
      "[4, 5, 9, 3]\n",
      "[786, 147, 785, 959, 280, 29, 910, 637, 909, 724]\n",
      "[4, 9, 6, 3, 0, 8, 5, 2, 7, 1]\n"
     ]
    }
   ],
   "source": [
    "# Random module\n",
    "# -------------\n",
    "import random\n",
    "samplestring = \"Ajay\"\n",
    "samplelist = [0,1,2,3,4,5,6,7,8,9]\n",
    "\n",
    "print(random.random()) # Generates random number from 0,1 (takes no arguments)\n",
    "print(random.randint(1, 10)) # Genarates random integer in the given range \n",
    "print(random.randrange(0,10,2)) # Genarates random integer in the given range with step (Here it will generate random even number)\n",
    "print(random.uniform(1,10)) # Genarates random float in the given range\n",
    "print(random.choice(samplestring)) # Produces random element from the given iterable\n",
    "print(random.sample(samplelist, 4)) # Produces a list of items from the given sequence with equal probability\n",
    "print(random.sample(range(1000), 10)) # Produces list of 10 random numbers from a given range\n",
    "random.shuffle(samplelist) # Shuffles a list\n",
    "print(samplelist)"
   ]
  },
  {
   "cell_type": "code",
   "execution_count": null,
   "metadata": {},
   "outputs": [
    {
     "name": "stdout",
     "output_type": "stream",
     "text": [
      "Random sequence initial : 78 14 57 81 17 \n",
      "Random sequence before  : 41 19 30 58 6 \n",
      "Random sequence After   : 41 19 30 58 6 \n",
      "Random sequence Finally : 71 4 61 34 37 "
     ]
    }
   ],
   "source": [
    "# State of random number \n",
    "# ----------------------\n",
    "print(\"Random sequence initial\", end=\" : \")\n",
    "for _ in range(5):\n",
    "    print(random.randint(1,100), end=\" \")\n",
    "\n",
    "state = random.getstate() # Getting the current state of random generator\n",
    "\n",
    "print(\"\\nRandom sequence before\", end=\"  : \")\n",
    "for _ in range(5):\n",
    "    print(random.randint(1,100), end=\" \")\n",
    "\n",
    "random.setstate(state) # Restoring random generator to captured state\n",
    "\n",
    "print(\"\\nRandom sequence After\", end=\"   : \")\n",
    "for _ in range(5):\n",
    "    print(random.randint(1,100), end=\" \")\n",
    "\n",
    "print(\"\\nRandom sequence Finally\", end=\" : \") # State changes afterwards\n",
    "for _ in range(5):\n",
    "    print(random.randint(1,100), end=\" \")"
   ]
  },
  {
   "cell_type": "code",
   "execution_count": null,
   "metadata": {},
   "outputs": [
    {
     "name": "stdout",
     "output_type": "stream",
     "text": [
      "de87628d-5377-3ba7-b31b-cde1cc8d423f\n",
      "de87628d-5377-3ba7-b31b-cde1cc8d423f\n",
      "488416f4-fcaf-5027-8c63-0105cfa213ea\n",
      "2400ea59-1279-43f1-9411-cdaf6f854a06\n"
     ]
    }
   ],
   "source": [
    "# uuid module\n",
    "# -----------\n",
    "import uuid\n",
    "\n",
    "namespace = uuid.NAMESPACE_DNS\n",
    "name = \"www.google.com\"\n",
    "\n",
    "uuid1 = uuid.uuid3(namespace, name) # Reproducible uuid based on namespace and name\n",
    "uuid2 = uuid.uuid3(namespace, name) # same as uuid1\n",
    "\n",
    "uuid3 = uuid.uuid5(namespace, name) # From SHA-1 based on namespace\n",
    "\n",
    "uuid4 = uuid.uuid4() # Random uuid\n",
    "\n",
    "print(uuid1)\n",
    "print(uuid2)\n",
    "print(uuid3)\n",
    "print(uuid4)"
   ]
  },
  {
   "cell_type": "code",
   "execution_count": null,
   "metadata": {},
   "outputs": [
    {
     "name": "stdout",
     "output_type": "stream",
     "text": [
      "010ff1bfcf42b92fc5fc3e0d3282db5633b9d654830e3583fc503ffdb764b380\n",
      "b'\\x07Q\\xe0\\xcd\\x88\\xdb\\x0e[R[X[\\xb8\\xe7j '\n",
      "MVXyWozkX6BIaOyVImxhycUeAfF7ndfTYrJihivOUqU\n"
     ]
    }
   ],
   "source": [
    "# secure session tokens (for payments etc)\n",
    "# ---------------------\n",
    "import secrets\n",
    "\n",
    "print(secrets.token_hex(32)) # Creating hex token of 32 bytes\n",
    "print(secrets.token_bytes(16))\n",
    "print(secrets.token_urlsafe(32))"
   ]
  },
  {
   "cell_type": "code",
   "execution_count": 41,
   "metadata": {},
   "outputs": [
    {
     "name": "stdout",
     "output_type": "stream",
     "text": [
      "[[8, 2, 3], [4, 5, 6]] -  1806009233664\n",
      "[[8, 2, 3], [4, 5, 6]] - 1806009338176\n",
      "[[1, 2, 3], [4, 5, 6]] - 1806009344960\n"
     ]
    }
   ],
   "source": [
    "# copy module\n",
    "# -----------\n",
    "import copy\n",
    "\n",
    "newlist = [[1, 2, 3], [4, 5, 6]]\n",
    "\n",
    "scopy = copy.copy(newlist)\n",
    "dcopy = copy.deepcopy(newlist)\n",
    "\n",
    "scopy[0][0] = 8\n",
    "\n",
    "print(newlist, id(newlist), sep=\" -  \")  # Different objects but same reference\n",
    "print(scopy, id(scopy), sep=\" - \")\n",
    "print(dcopy, id(dcopy), sep=\" - \")"
   ]
  },
  {
   "cell_type": "markdown",
   "metadata": {},
   "source": [
    "# Errors and Exceptions"
   ]
  },
  {
   "cell_type": "code",
   "execution_count": null,
   "metadata": {},
   "outputs": [
    {
     "name": "stdout",
     "output_type": "stream",
     "text": [
      "20\n"
     ]
    }
   ],
   "source": [
    "number = input('Please provide a number: ')\n",
    "\n",
    "try:\n",
    "    print(10+int(number))\n",
    "except:                           # Not recommended in PEP8, use a proper class exception\n",
    "    print(\"That's not a number\")"
   ]
  },
  {
   "cell_type": "code",
   "execution_count": null,
   "metadata": {},
   "outputs": [
    {
     "ename": "ValueError",
     "evalue": "x cannot be negative",
     "output_type": "error",
     "traceback": [
      "\u001b[1;31m---------------------------------------------------------------------------\u001b[0m",
      "\u001b[1;31mValueError\u001b[0m                                Traceback (most recent call last)",
      "Cell \u001b[1;32mIn[163], line 3\u001b[0m\n\u001b[0;32m      1\u001b[0m x \u001b[38;5;241m=\u001b[39m \u001b[38;5;241m-\u001b[39m\u001b[38;5;241m1\u001b[39m\n\u001b[0;32m      2\u001b[0m \u001b[38;5;28;01mif\u001b[39;00m x \u001b[38;5;241m<\u001b[39m \u001b[38;5;241m0\u001b[39m:\n\u001b[1;32m----> 3\u001b[0m     \u001b[38;5;28;01mraise\u001b[39;00m \u001b[38;5;167;01mValueError\u001b[39;00m(\u001b[38;5;124m\"\u001b[39m\u001b[38;5;124mx cannot be negative\u001b[39m\u001b[38;5;124m\"\u001b[39m)\n",
      "\u001b[1;31mValueError\u001b[0m: x cannot be negative"
     ]
    }
   ],
   "source": [
    "x = -1\n",
    "if x < 0:\n",
    "    raise ValueError(\"x cannot be negative\")"
   ]
  },
  {
   "cell_type": "code",
   "execution_count": null,
   "metadata": {},
   "outputs": [
    {
     "name": "stdout",
     "output_type": "stream",
     "text": [
      "5\n"
     ]
    }
   ],
   "source": [
    "# Exceptions\n",
    "x = 5\n",
    "y = \"hello\"\n",
    "a = [1, 2, 3]\n",
    "try:\n",
    "    # z = x + y\n",
    "    # 10/0\n",
    "    # print(\"Last element{%s}\" % a[5])\n",
    "    print(x)\n",
    "except TypeError:\n",
    "    print(\"Inappropriate argument\")\n",
    "except ZeroDivisionError:\n",
    "    print(\"Cannot divide by zero\")\n",
    "except IndexError:\n",
    "    print(\"Index error\")\n",
    "except NameError:\n",
    "    print(\"Variable not found\")\n",
    "except ArithmeticError:\n",
    "    print(\"Arithmetic error\")"
   ]
  },
  {
   "cell_type": "code",
   "execution_count": null,
   "metadata": {},
   "outputs": [
    {
     "name": "stdout",
     "output_type": "stream",
     "text": [
      "Division was successful\n",
      "Bye.\n"
     ]
    }
   ],
   "source": [
    "a = 2\n",
    "b = 10\n",
    "try:\n",
    "    result = b / a # Code that might raise an exception\n",
    "except ZeroDivisionError:\n",
    "    print(\"Can't divide by zero\") # Code to handle the exception\n",
    "else:\n",
    "    print(\"Division was successful\") # Code to execute if no exceptions were raised\n",
    "finally:\n",
    "    print(\"Bye.\") # Code to execute regardless of whether an exception was raised or not"
   ]
  },
  {
   "cell_type": "code",
   "execution_count": null,
   "metadata": {},
   "outputs": [
    {
     "name": "stdout",
     "output_type": "stream",
     "text": [
      "AssertionError: Math is broken!\n"
     ]
    }
   ],
   "source": [
    "try:\n",
    "    assert 2 + 2 == 5, \"Math is broken!\" # Asserting a statement\n",
    "except AssertionError as e:\n",
    "    print(f\"AssertionError: {e}\")"
   ]
  },
  {
   "cell_type": "code",
   "execution_count": null,
   "metadata": {},
   "outputs": [
    {
     "name": "stdout",
     "output_type": "stream",
     "text": [
      "division by zero\n",
      "<class 'ZeroDivisionError'>\n"
     ]
    }
   ],
   "source": [
    "try:\n",
    "    ans = 1/0\n",
    "except ZeroDivisionError as e:\n",
    "    print(e)\n",
    "    print(type(e))  # Exception is an object"
   ]
  },
  {
   "cell_type": "markdown",
   "metadata": {},
   "source": [
    "# Class"
   ]
  },
  {
   "cell_type": "code",
   "execution_count": 79,
   "metadata": {},
   "outputs": [
    {
     "name": "stdout",
     "output_type": "stream",
     "text": [
      "<class '__main__.Animal'>\n",
      "The Canidae Family\n",
      "Genus\t: Canis\n",
      "Species\t: Familiaris\n",
      "\n",
      "Family changed to Felidae\n",
      "\n",
      "<class '__main__.Animal'>\n",
      "The Felidae Family\n",
      "Genus\t: Felis\n",
      "Species\t: Catus\n",
      "\n",
      "Created for understanding basic class features. Thank you!\n"
     ]
    }
   ],
   "source": [
    "# Constructor :\n",
    "# ------------\n",
    "# __init__() is not necessary if there are no instance attributes to be initialized on all objects.\n",
    "#\n",
    "# Class method :\n",
    "# -------------\n",
    "# '@classmethod' and 'cls' is mandatory. Use cls.class_attribute to modify class attrinutes as it is more flexible during inheritance\n",
    "#\n",
    "# Instance method :\n",
    "# ----------------\n",
    "# Use 'self' keyword as fisrt argument.\n",
    "#\n",
    "# Static method :\n",
    "# --------------\n",
    "# Simple function that makes sense when associated with a class. Better use '@staticmethod' to avoid confusions\n",
    "\n",
    "class Animal:                           # class instantiation\n",
    "\n",
    "    family = \"Canidae\"                  # Class attributes\n",
    "\n",
    "    def __init__(self, genus, species): # Instance attribute Constructor. Here it will require 2 positional arguments while instance creation\n",
    "        self.genus = genus\n",
    "        self.species = species\n",
    "\n",
    "    def description(self):              # Instance Method (can utilize class attribute as well)\n",
    "        print(f\"The {Animal.family} Family\\nGenus\\t: {self.genus}\\nSpecies\\t: {self.species}\")\n",
    "                                        \n",
    "    @classmethod                        # class method. Accessed using the class name.\n",
    "    def modify_family(cls, new_family):          \n",
    "        cls.family = new_family\n",
    "        print(f\"\\nFamily changed to {Animal.family}\\n\")\n",
    "\n",
    "    @classmethod\n",
    "    def animal_change(cls, new_values): # Dynamic instance creation\n",
    "        cls.genus, cls.species = new_values.split(\",\")\n",
    "        return cls(cls.genus, cls.species)\n",
    "\n",
    "    @staticmethod                       # static method. Accessed using class name.\n",
    "    def credits():\n",
    "        print(\"\\nCreated for understanding basic class features. Thank you!\")\n",
    "\n",
    "# if __name__ == \"__main__\":\n",
    "\n",
    "Dog = Animal(\"Canis\", \"Familiaris\")         # Instance creation\n",
    "print(type(Dog))\n",
    "Dog.description()                           # Instance method\n",
    "\n",
    "Animal.modify_family(\"Felidae\")             # Changing class method\n",
    "\n",
    "cat = Animal.animal_change(\"Felis,Catus\")   # Dynamic instance / object creation\n",
    "print(type(Dog))\n",
    "cat.description()                           # Instance method\n",
    "\n",
    "Animal.credits()                            # Accessing a static method"
   ]
  },
  {
   "cell_type": "markdown",
   "metadata": {},
   "source": [
    "### Decorators"
   ]
  },
  {
   "cell_type": "code",
   "execution_count": 1,
   "metadata": {},
   "outputs": [
    {
     "name": "stdout",
     "output_type": "stream",
     "text": [
      "do_this ran in 1.0005993843078613 seconds\n",
      "do_that ran in 0.5011093616485596 seconds\n"
     ]
    }
   ],
   "source": [
    "# Decorators\n",
    "# -----------\n",
    "# A decorator in Python is a special function that modifies the behavior of another function or method, allowing you to add functionality before or after the original function executes without changing its code.\n",
    "\n",
    "import time\n",
    "\n",
    "def sample_decorator(func):         # Just for absorbing the function that needs to be modified\n",
    "\n",
    "    def wrapper():                  # Modification happens inside this (wrapper just a name)\n",
    "        t1 = time.time()\n",
    "        func()                      # function that is getting wrapped (original func)\n",
    "        t2 = time.time() - t1\n",
    "        print(f\"{func.__name__} ran in {t2} seconds\")\n",
    "\n",
    "    return wrapper                  # The modified wrapper is returned as the final output during function call\n",
    "\n",
    "@sample_decorator\n",
    "def do_this():\n",
    "    # Simulating running code\n",
    "    time.sleep(1)\n",
    "\n",
    "@sample_decorator\n",
    "def do_that():\n",
    "    # Simulating running code\n",
    "    time.sleep(.5)\n",
    "\n",
    "do_this()                           # Function calls\n",
    "do_that()"
   ]
  },
  {
   "cell_type": "code",
   "execution_count": null,
   "metadata": {},
   "outputs": [],
   "source": [
    "def repeat(n):\n",
    "    def enhance(func):\n",
    "        def wrapper(*args, **kwargs):\n",
    "            for _ in range(n):\n",
    "                func(*args, **kwargs)\n",
    "        return wrapper\n",
    "    return enhance\n",
    "\n",
    "@repeat(3)                       # Decorator with argument\n",
    "def greet(name):\n",
    "    print(f\"Hello, {name}!\")\n",
    "\n",
    "greet(\"Alice\")"
   ]
  },
  {
   "cell_type": "code",
   "execution_count": 149,
   "metadata": {},
   "outputs": [
    {
     "name": "stdout",
     "output_type": "stream",
     "text": [
      "Total amount is 59\n"
     ]
    }
   ],
   "source": [
    "prices = [1,10,2,34,12]\n",
    "\n",
    "def print_bill_decorator(func):\n",
    "\n",
    "    def inner(*args):\n",
    "        total = func(*args)\n",
    "        print(f\"Total amount is {total}\")\n",
    "\n",
    "    return inner\n",
    "\n",
    "@print_bill_decorator\n",
    "def calculate(prices):\n",
    "    return sum(prices)\n",
    "\n",
    "calculate(prices)"
   ]
  },
  {
   "cell_type": "code",
   "execution_count": null,
   "metadata": {},
   "outputs": [
    {
     "name": "stdout",
     "output_type": "stream",
     "text": [
      "Welcome Ajay\n",
      "Welcome Jubi\n",
      "Welcome Akhil\n"
     ]
    }
   ],
   "source": [
    "def greet(func):\n",
    "    def wrap(*args):\n",
    "        lis2 = func(*args)\n",
    "        for i in range(len(lis2)):\n",
    "            print(f'Welcome {lis2[i]}')\n",
    "    return wrap\n",
    "\n",
    "@greet\n",
    "def name(ilist: dict)->list:\n",
    "\n",
    "    return list(ilist.values())\n",
    "\n",
    "lis1 = {1:'Ajay', 2:'Jubi', 3:'Akhil'}\n",
    "\n",
    "name(lis1)"
   ]
  },
  {
   "cell_type": "markdown",
   "metadata": {},
   "source": [
    "### Meta Class"
   ]
  },
  {
   "cell_type": "code",
   "execution_count": 83,
   "metadata": {},
   "outputs": [
    {
     "name": "stdout",
     "output_type": "stream",
     "text": [
      "<class 'type'>\n",
      "<class '__main__.MyMeta'>\n",
      "Hello from MyCustomClass\n"
     ]
    }
   ],
   "source": [
    "# Meta Class (Blue print for creating classes)\n",
    "# ----------\n",
    "# Default class creation using type\n",
    "class MyClass:\n",
    "    pass\n",
    "\n",
    "# Check the metaclass\n",
    "print(type(MyClass))  # Output: <class 'type'> By default all classes are instances of metaclass \"type\"\n",
    "\n",
    "# Custom metaclass\n",
    "class MyMeta(type):\n",
    "    def __new__(cls, name, bases, attrs):\n",
    "        attrs['greet'] = lambda self: f\"Hello from {self.__class__.__name__}\"\n",
    "        return super().__new__(cls, name, bases, attrs)\n",
    "\n",
    "# Class using the custom metaclass\n",
    "class MyCustomClass(metaclass=MyMeta):\n",
    "    pass\n",
    "\n",
    "# Check the metaclass\n",
    "print(type(MyCustomClass))  # Output: <class '__main__.MyMeta'>\n",
    "print(MyCustomClass.greet(MyCustomClass()))  # Output: Hello from MyCustomClass\n"
   ]
  },
  {
   "cell_type": "markdown",
   "metadata": {},
   "source": [
    "# OOP"
   ]
  },
  {
   "cell_type": "code",
   "execution_count": null,
   "metadata": {},
   "outputs": [
    {
     "name": "stdout",
     "output_type": "stream",
     "text": [
      "Toyota Corolla is driving.\n"
     ]
    }
   ],
   "source": [
    "# 1.Encapsulation\n",
    "# ---------------\n",
    "\n",
    "# Encapsulation involves bundling the data (attributes) and methods (functions) that operate on that data within a class\n",
    "\n",
    "# In this example, the make and model attributes are encapsulated within the Car class along with the drive() method.\n",
    "\n",
    "class Car:\n",
    "    def __init__(self, make, model):\n",
    "        self.make = make\n",
    "        self.model = model\n",
    "\n",
    "    def drive(self):\n",
    "        return f\"{self.make} {self.model} is driving.\"\n",
    "\n",
    "# Creating an instance of the Car class\n",
    "my_car = Car(\"Toyota\", \"Corolla\")\n",
    "\n",
    "# Accessing attributes and calling methods of the instance\n",
    "print(my_car.drive())  # Output: Toyota Corolla is driving.\n"
   ]
  },
  {
   "cell_type": "code",
   "execution_count": null,
   "metadata": {},
   "outputs": [
    {
     "name": "stdout",
     "output_type": "stream",
     "text": [
      "Toyota Corolla is driving.\n"
     ]
    }
   ],
   "source": [
    "# 2.Inheritance\n",
    "# -------------\n",
    "\n",
    "# Inheritance allows a new class (subclass) to inherit properties (attributes and methods) from an existing class (superclass)\n",
    "\n",
    "# In this example, the Car class inherits the make and model attributes and the drive() method from the Vehicle class.\n",
    "\n",
    "class Vehicle:\n",
    "    def __init__(self, make, model):\n",
    "        self.make = make\n",
    "        self.model = model\n",
    "\n",
    "    def drive(self):\n",
    "        return f\"{self.make} {self.model} is driving.\"\n",
    "\n",
    "class Car(Vehicle):  # Parent and child class\n",
    "    def __init__(self, make, model, year):\n",
    "        super().__init__(make, model)\n",
    "        self.year = year\n",
    "\n",
    "# Creating an instance of the Car class\n",
    "my_car = Car(\"Toyota\", \"Corolla\", 2022)\n",
    "\n",
    "# Accessing attributes and calling methods of the instance\n",
    "print(my_car.drive())  # Output: Toyota Corolla is driving."
   ]
  },
  {
   "cell_type": "code",
   "execution_count": null,
   "metadata": {},
   "outputs": [
    {
     "name": "stdout",
     "output_type": "stream",
     "text": [
      "Woof!\n",
      "Meow!\n"
     ]
    }
   ],
   "source": [
    "# 3.Polymorphism\n",
    "# --------------\n",
    "\n",
    "# Polymorphism allows objects to take on different forms or to respond to messages or function calls in different ways based on their type or class.\n",
    "\n",
    "# In this example, both Dog and Cat classes override the make_sound() method of the Animal class with their own implementations.\n",
    "\n",
    "class Animal:\n",
    "    def make_sound(self):\n",
    "        pass\n",
    "\n",
    "class Dog(Animal):\n",
    "    def make_sound(self):\n",
    "        return \"Woof!\"\n",
    "\n",
    "class Cat(Animal):\n",
    "    def make_sound(self):\n",
    "        return \"Meow!\"\n",
    "\n",
    "# Creating instances of the Dog and Cat classes\n",
    "dog = Dog()\n",
    "cat = Cat()\n",
    "\n",
    "# Calling the make_sound() method on each instance\n",
    "print(dog.make_sound())  # Output: Woof!\n",
    "print(cat.make_sound())  # Output: Meow!"
   ]
  },
  {
   "cell_type": "code",
   "execution_count": 151,
   "metadata": {},
   "outputs": [
    {
     "name": "stdout",
     "output_type": "stream",
     "text": [
      "20\n"
     ]
    }
   ],
   "source": [
    "# 4.Abstraction\n",
    "# -------------\n",
    "\n",
    "# Abstraction involves simplifying complex systems by focusing on the essential features while hiding unnecessary details, or focusing on what an object does rather than how it does\n",
    "# It aligns with DRY principle\n",
    "# An abstract class cannot be instantiated directly and usually contains one or more abstract methods that must be implemented by subclasses.\n",
    "\n",
    "# In this example, the Shape class is an abstract class with an abstract method area(). The Rectangle class inherits from Shape and provides an implementation for the area() method. The details of how area() is calculated are abstracted away from the user of the Rectangle class.\n",
    "\n",
    "from abc import ABC, abstractmethod\n",
    "\n",
    "class Shape(ABC):\n",
    "    @abstractmethod\n",
    "    def area(self):\n",
    "        pass\n",
    "\n",
    "class Rectangle(Shape):\n",
    "    def __init__(self, width, height):\n",
    "        self.width = width\n",
    "        self.height = height\n",
    "\n",
    "    def area(self):\n",
    "        return self.width * self.height\n",
    "\n",
    "# Creating an instance of the Rectangle class\n",
    "rect = Rectangle(5, 4)\n",
    "# eg = Shape()\n",
    "# shape.area()  # This will throw Type error saying \"Can't instantiate abstract class Shape without an implementation for abstract method 'area'\"\n",
    "# Calling the area() method on the instance\n",
    "print(rect.area())  # Output: 20"
   ]
  },
  {
   "cell_type": "code",
   "execution_count": 158,
   "metadata": {},
   "outputs": [
    {
     "name": "stdout",
     "output_type": "stream",
     "text": [
      "This vehicle is a car called Toyota Supra\n",
      "4 Cylinder Petrol\n",
      "\n",
      "This vehicle is a car called Ford Raptor\n",
      "This vehicle is a Pickup truck called Ford Raptor of 1960\n",
      "6 Cylinder Diesel\n"
     ]
    }
   ],
   "source": [
    "# Encapsulation, Abstraction, Inheritance, Polymorphism \n",
    "\n",
    "class Vehicle:\n",
    "    # Below block Shows 'Encapsulation' property of class\n",
    "    # -------------------------------------------------\n",
    "    type = \"car\"\n",
    "    def __init__(self, make, model):\n",
    "        self.model = model\n",
    "        self.make = make\n",
    "\n",
    "    def show_info(self):\n",
    "        return (f\"This vehicle is a {Vehicle.type} called {self.make} {self.model}\")\n",
    "    \n",
    "    def show_engine_info(self):\n",
    "        print(\"4 Cylinder Petrol\")\n",
    "    #\n",
    "    # -------------------------------------------------\n",
    "    #\n",
    "    # Below block shows 'Inheritance' property of class\n",
    "    # -------------------------------------------------\n",
    "class Pickup(Vehicle):\n",
    "    def __init__(self, make, model, year):\n",
    "        self.year = year\n",
    "    #    \n",
    "    # Below subpart show 'Abstraction' property of class\n",
    "    # -----------------------------------------------\n",
    "        super().__init__(make, model)\n",
    "    #\n",
    "    def show_detailed_info(self):\n",
    "        Vehicle.type = \"Pickup truck\"                   # Accessing and changing parent class attribute\n",
    "        # Return can also be formatted with f\"\"\n",
    "        return (f\"{self.show_info()} of {self.year}\")   # Also Shows abstraction.\n",
    "    #\n",
    "    # -------------------------------------------------\n",
    "    #\n",
    "    # Below block shows 'Polymorphism' property of class (This is also METHOD OVERRIDING)\n",
    "    # -------------------------------------------------\n",
    "    def show_engine_info(self):                         # show_engnine_info was defined more than once with different results\n",
    "        print(\"6 Cylinder Diesel\")\n",
    "    #\n",
    "    # -------------------------------------------------\n",
    "\n",
    "    \n",
    "car = Vehicle(\"Toyota\", \"Supra\")\n",
    "print(car.show_info())\n",
    "car.show_engine_info()\n",
    "\n",
    "pickup = Pickup(\"Ford\", \"Raptor\", 1960)\n",
    "print(f\"\\n{pickup.show_info()}\")\n",
    "print(pickup.show_detailed_info())\n",
    "pickup.show_engine_info()"
   ]
  },
  {
   "cell_type": "markdown",
   "metadata": {},
   "source": [
    "### Duck typing"
   ]
  },
  {
   "cell_type": "code",
   "execution_count": 43,
   "metadata": {},
   "outputs": [],
   "source": [
    "# Duck typing\n",
    "# -----------\n",
    "# \"If it looks like a duck, quacks like a duck, and walks like a duck, then it probably is a duck.\"\n",
    "# \n",
    "# Duck typing is a concept in programming, especially in dynamically-typed languages like Python, that focuses on an object's behavior rather   than its specific type.\n",
    "#\n",
    "# Duck typing is widely used in languages like Python, Ruby, and JavaScript, where the dynamic nature of types allows for more flexible and expressive code."
   ]
  },
  {
   "cell_type": "markdown",
   "metadata": {},
   "source": [
    "### Abstraction and Interfacing"
   ]
  },
  {
   "cell_type": "code",
   "execution_count": null,
   "metadata": {},
   "outputs": [],
   "source": [
    "# Abstract class/method\n",
    "# Abstract class : Defines the inputs, outputs, and provide an implementation\n",
    "# Python doesnot comes with default interface or abstract class\n",
    "# By inheriting from ABC class, you formally define your class as an abstract class, making it clear to other developers that it is intended to be used as a base class. Even though it is not strictly required to inherit from ABC class as the base class while creating abstract classes and interaces, it is considered as best practise to reduce ambiguity.\n",
    "\n",
    "from abc import ABC, abstractmethod\n",
    "\n",
    "class Animal(ABC):\n",
    "    @abstractmethod\n",
    "    def sound(self):  # Abstract method: defines the expected behavior\n",
    "        pass\n",
    "\n",
    "    def describe(self):  # Concrete method: provides shared functionality\n",
    "        return \"This is an animal.\"\n",
    "\n",
    "class Dog(Animal):\n",
    "    def sound(self):  # Implementation of the abstract method\n",
    "        return \"Woof\"\n",
    "\n",
    "class Cat(Animal):\n",
    "    def sound(self):  # Implementation of the abstract method\n",
    "        return \"Meow\"\n",
    "\n",
    "# Usage\n",
    "dog = Dog()\n",
    "print(dog.describe())  # Output: This is an animal.\n",
    "print(dog.sound())     # Output: Woof\n",
    "\n",
    "cat = Cat()\n",
    "print(cat.describe())  # Output: This is an animal.\n",
    "print(cat.sound())     # Output: Meow\n",
    "\n",
    "# animal = Animal()  # This would raise a TypeError (Abstract classes cant be created)\n"
   ]
  },
  {
   "cell_type": "code",
   "execution_count": 47,
   "metadata": {},
   "outputs": [],
   "source": [
    "# Concept of Interface in python\n",
    "# ------------------------------\n",
    "# Since python does not have a built it 'interface' keyword or class, the functionality is achieved to abstract methods, present in ABC module\n",
    "# An abstract base class is a class that cannot be instantiated directly and is meant to be subclassed by other classes. It defines a set of methods that must be implemented by any subclass, which is similar to what an interface does in other languages.\n",
    "# Since an abstract class can contain abstract methods(created using @abstractmethod decorator, which must be implemented in its child classes) along with non-abstract methods, Interface classes are designed to have only abstract methods. Hence Interface classes can be considered as a subset of abstract class.\n",
    "# Implemented below :"
   ]
  },
  {
   "cell_type": "code",
   "execution_count": null,
   "metadata": {},
   "outputs": [],
   "source": [
    "# Interface : Defines the inputs and outputs of a thing(framework), and don't specify implementation of a thing. Interface can be considered as a blueprint of a class.\n",
    "\n",
    "from abc import ABC, abstractmethod\n",
    "\n",
    "# Abstract class with a mix of abstract and concrete methods\n",
    "class Shape(ABC):\n",
    "    @abstractmethod\n",
    "    def area(self):\n",
    "        pass  # Must be implemented by subclasses\n",
    "\n",
    "    def description(self):\n",
    "        return \"This is a shape.\"\n",
    "\n",
    "# Interface class (subset of abstract class)\n",
    "class Drawable(ABC):\n",
    "    @abstractmethod\n",
    "    def draw(self):\n",
    "        pass  # Must be implemented by subclasses\n",
    "\n",
    "# Concrete class implementing both abstract class and interface (Abstract method whhich gets implemented in child class are known as 'concrete methods')\n",
    "class Circle(Shape, Drawable):\n",
    "    def area(self):\n",
    "        return 3.14 * (5 ** 2)  # Example implementation\n",
    "\n",
    "    def draw(self):\n",
    "        return \"Drawing a circle.\"\n",
    "\n",
    "# Usage\n",
    "circle = Circle()\n",
    "print(circle.area())      # Output: 78.5\n",
    "print(circle.description())  # Output: This is a shape.\n",
    "print(circle.draw())      # Output: Drawing a circle."
   ]
  },
  {
   "cell_type": "markdown",
   "metadata": {},
   "source": [
    "### Monkey Patching"
   ]
  },
  {
   "cell_type": "code",
   "execution_count": 100,
   "metadata": {},
   "outputs": [
    {
     "name": "stdout",
     "output_type": "stream",
     "text": [
      "Hello!\n",
      "Hello, Monkey Patching!\n"
     ]
    }
   ],
   "source": [
    "# Monkey Patching\n",
    "# ---------------\n",
    "# Technique to dynamically modify the behavior of classes or libraries, without modifying the source code.\n",
    "# Used for debugging and testing.\n",
    "\n",
    "# Original class\n",
    "class MyClass:\n",
    "    def greet(self):\n",
    "        return \"Hello!\"\n",
    "\n",
    "# Create an instance\n",
    "obj = MyClass()\n",
    "print(obj.greet())  # Output: Hello!\n",
    "\n",
    "# Monkey patch the greet method\n",
    "def new_greet(self):\n",
    "    return \"Hello, Monkey Patching!\"\n",
    "\n",
    "# Apply the monkey patch\n",
    "MyClass.greet = new_greet\n",
    "\n",
    "# Call the patched method\n",
    "print(obj.greet())  # Output: Hello, Monkey Patching!\n"
   ]
  },
  {
   "cell_type": "markdown",
   "metadata": {},
   "source": [
    "# File Ops"
   ]
  },
  {
   "cell_type": "code",
   "execution_count": null,
   "metadata": {},
   "outputs": [
    {
     "name": "stdout",
     "output_type": "stream",
     "text": [
      "['Hello world', 'This is jus a test'] <class 'list'>\n"
     ]
    }
   ],
   "source": [
    "# File IO\n",
    "\n",
    "file = open(\"test.txt\", 'w')\n",
    "file.write(\"Hello world\\n\")\n",
    "file.write(\"This is jus a test\")\n",
    "file.close()                 # Close the file after writing\n",
    "\n",
    "file = open(\"test.txt\", 'r') # open the file before reading\n",
    "# data = file.read() \n",
    "data = file.read().split('\\n')\n",
    "print(data, type(data))      # Reads as a list\n",
    "file.close()"
   ]
  },
  {
   "cell_type": "code",
   "execution_count": null,
   "metadata": {},
   "outputs": [],
   "source": [
    "# Context Manager\n",
    "'''\n",
    "These are ways to efficiently manage resources in a python program.\n",
    "It is useful in allocating and releasing resources efficiently.\n",
    "\n",
    "Syntax : with <context manager> as <resource>\n",
    "'''"
   ]
  },
  {
   "cell_type": "code",
   "execution_count": 159,
   "metadata": {},
   "outputs": [
    {
     "name": "stdout",
     "output_type": "stream",
     "text": [
      "Hello world\n",
      "This is jus a test\n"
     ]
    }
   ],
   "source": [
    "# Reading a whole file once\n",
    "file_content = \"\"\n",
    "\n",
    "with open('test.txt') as file:\n",
    "    file_content = file.read()\n",
    "\n",
    "print(file_content)\n",
    "\n",
    "# Mode\tDescription\tCan Read\tCan Write\tOverwrite Existing Data\tCreate if File Doesn’t Exist\n",
    "# 'r'\tRead only(default)\tYes\tNo\tNo\tNo\n",
    "# 'w'\tWrite only\tNo\tYes\tYes\tYes\n",
    "# 'a'\tAppend only\tYes\tYes\tNo\tYes\n",
    "# 'x'\tExclusive creation\tNo\tYes\tYes\tYes\n",
    "# 'b'\tBinary mode\tYes\tYes\tYes\tYes\n",
    "# 't'\tText mode\tYes\tYes\tYes\tYes\n",
    "# 'r+'\tRead and write\tYes\tYes\tNo\tNo\n",
    "# 'w+'\tWrite and read\tYes\tYes\tYes\tYes\n",
    "# 'a+'\tAppend and read\tYes\tYes\tNo\tYes"
   ]
  },
  {
   "cell_type": "code",
   "execution_count": null,
   "metadata": {},
   "outputs": [
    {
     "name": "stdout",
     "output_type": "stream",
     "text": [
      "Hello world\n",
      " <class 'str'>This is jus a test <class 'str'> <class 'str'>"
     ]
    }
   ],
   "source": [
    "with open('test.txt') as file:\n",
    "    while True:\n",
    "        line = file.readline()\n",
    "        print(line, type(line), end=\"\")\n",
    "        \n",
    "        if not line:\n",
    "            break"
   ]
  },
  {
   "cell_type": "code",
   "execution_count": null,
   "metadata": {},
   "outputs": [
    {
     "name": "stdout",
     "output_type": "stream",
     "text": [
      "0\n",
      "13\n",
      "This is just a test\n",
      "32\n"
     ]
    }
   ],
   "source": [
    "with open('test.txt') as file:\n",
    "    print(file.tell())  # Tells the cursor position\n",
    "    file.readline()\n",
    "    print(file.tell())\n",
    "    print(file.readline())\n",
    "    print(file.tell())\n",
    "    file.seek(0)        # Sets the cursor position\n",
    "file.close()"
   ]
  },
  {
   "cell_type": "code",
   "execution_count": null,
   "metadata": {},
   "outputs": [
    {
     "name": "stdout",
     "output_type": "stream",
     "text": [
      "Hlowrd\n",
      "hsi utats"
     ]
    }
   ],
   "source": [
    "with open('test.txt') as file:\n",
    "    while True:\n",
    "        s = file.read(1)\n",
    "        file.seek(file.tell()+1)  # Skips alternate character\n",
    "\n",
    "        if not s:\n",
    "            break\n",
    "        print(s, end=\"\")"
   ]
  },
  {
   "cell_type": "code",
   "execution_count": null,
   "metadata": {},
   "outputs": [
    {
     "name": "stdout",
     "output_type": "stream",
     "text": [
      "38\n",
      "38\n",
      "HELLO world\n",
      "This is just a test.HELLO\n"
     ]
    }
   ],
   "source": [
    "with open('test.txt', 'a+') as file: # a appends , a+ append and read\n",
    "    print(file.tell())               # r reads, r+ normal read and write\n",
    "    # file.write(\"HELLO\")            # w clean and write, w+ clean,read,write\n",
    "    print(file.tell())\n",
    "    file.seek(0)\n",
    "    file_content = file.read()\n",
    "\n",
    "print(file_content)"
   ]
  },
  {
   "cell_type": "code",
   "execution_count": 21,
   "metadata": {},
   "outputs": [
    {
     "name": "stdout",
     "output_type": "stream",
     "text": [
      "Total : 475 GB, Used : 166 GB, Free : 308.33 GB\n"
     ]
    }
   ],
   "source": [
    "# shutil module\n",
    "import shutil\n",
    "total, used, free = shutil.disk_usage(\"/\")\n",
    "print(f\"Total : {round(total/2**30)} GB, Used : {round(used/2**30)} GB, Free : {round(free/2**30, 2)} GB\")\n",
    "# shutil.copy(src=, dst=)\n",
    "# shutil.move(src=, dst=)\n",
    "# shutil.copytree(src=, dst=)"
   ]
  },
  {
   "cell_type": "code",
   "execution_count": 160,
   "metadata": {},
   "outputs": [
    {
     "name": "stdout",
     "output_type": "stream",
     "text": [
      "{'students': [{'id': 1, 'name': 'Tim', 'age': 21, 'full-time': True}, {'id': 2, 'name': 'joe', 'age': 33, 'fulltime': False}]}\n",
      "<class 'dict'>\n",
      "{'id': 1, 'name': 'Tim', 'age': 21, 'full-time': True}\n",
      "{'students': [{'id': 1, 'name': 'Tim', 'age': 21, 'full-time': True}, {'id': 2, 'name': 'joe', 'age': 33, 'fulltime': False}], 'test': 'true'}\n",
      "{\n",
      "    \"students\": [\n",
      "        {\n",
      "            \"age\": 21,\n",
      "            \"full-time\": true,\n",
      "            \"id\": 1,\n",
      "            \"name\": \"Tim\"\n",
      "        },\n",
      "        {\n",
      "            \"age\": 33,\n",
      "            \"fulltime\": false,\n",
      "            \"id\": 2,\n",
      "            \"name\": \"joe\"\n",
      "        }\n",
      "    ],\n",
      "    \"test\": \"true\"\n",
      "}\n",
      "<class 'str'>\n"
     ]
    }
   ],
   "source": [
    "# JSON handling\n",
    "\n",
    "import json\n",
    "\n",
    "json_string = '''\n",
    "    {\n",
    "        \"students\": [\n",
    "            {\n",
    "                \"id\" : 1,\n",
    "                \"name\": \"Tim\",\n",
    "                \"age\": 21,\n",
    "                \"full-time\": true\n",
    "            },\n",
    "            {\n",
    "                \"id\": 2,\n",
    "                \"name\": \"joe\",\n",
    "                \"age\": 33,\n",
    "                \"fulltime\": false\n",
    "            }\n",
    "        ]\n",
    "    }\n",
    "'''\n",
    "data = json.loads(json_string) # Reads a JSON, Returns a python dictionary\n",
    "print(data)\n",
    "print(type(data))\n",
    "print(data['students'][0])\n",
    "\n",
    "data['test'] = 'true'       # Adding some data to the dictionary\n",
    "print(data)\n",
    "\n",
    "new_json = json.dumps(data, indent=4, sort_keys = True) # Dupms as string, indent is optional, sort keys in alphabet order\n",
    "print(new_json)\n",
    "print(type(new_json))"
   ]
  },
  {
   "cell_type": "code",
   "execution_count": 165,
   "metadata": {},
   "outputs": [
    {
     "name": "stdout",
     "output_type": "stream",
     "text": [
      "dict_items([('students', [{'id': 1, 'name': 'Tim', 'age': 21, 'full-time': True}, {'id': 2, 'name': 'joe', 'age': 33, 'fulltime': False}])])\n"
     ]
    }
   ],
   "source": [
    "import json\n",
    "\n",
    "with open(\"data.json\", \"r\") as file:\n",
    "    data = json.load(file)             # Reading from a json file (this should be a valid json file)\n",
    "print(data.items())                    # Dictionary\n",
    "\n",
    "with open(\"data2.json\", 'w') as f:\n",
    "    json.dump(data, f, indent=4, sort_keys = True)  # Dumping to a new file by sorting the keys in ascending order\n",
    "\n",
    "'''\n",
    "create a json file with something like this below if not present in directory\n",
    "{\n",
    "    \"students\": [\n",
    "        {\n",
    "            \"id\": 1,\n",
    "            \"name\": \"Tim\",\n",
    "            \"age\": 21,\n",
    "            \"full-time\": true\n",
    "        },\n",
    "        {\n",
    "            \"id\": 2,\n",
    "            \"name\": \"joe\",\n",
    "            \"age\": 33,\n",
    "            \"fulltime\": false\n",
    "        }\n",
    "    ]\n",
    "}\n",
    "'''"
   ]
  },
  {
   "cell_type": "markdown",
   "metadata": {},
   "source": [
    "## Built-In Data structrures"
   ]
  },
  {
   "cell_type": "code",
   "execution_count": 180,
   "metadata": {},
   "outputs": [
    {
     "name": "stdout",
     "output_type": "stream",
     "text": [
      "deque(['D', 'R'])\n",
      "R\n",
      "D\n",
      "deque([])\n",
      "deque(['R', 'R', 'R'])\n"
     ]
    }
   ],
   "source": [
    "# deque module : Double ended Queue (Uses a linked list internally)\n",
    "# ---------------------------------\n",
    "from collections import deque\n",
    "q = deque()\n",
    "\n",
    "q.append(\"R\")\n",
    "q.appendleft(\"D\")\n",
    "print(q)\n",
    "print(q.pop())\n",
    "print(q.popleft())\n",
    "print(q)\n",
    "q.append(\"R\")\n",
    "q.append(\"R\")\n",
    "q.append(\"R\")\n",
    "print(q)"
   ]
  },
  {
   "cell_type": "code",
   "execution_count": 21,
   "metadata": {},
   "outputs": [
    {
     "name": "stdout",
     "output_type": "stream",
     "text": [
      "array('i', [1, 2, 3, 4, 5]) <class 'array.array'>\n",
      "array('f', [3.140000104904175, 2.7179999351501465, 1.6180000305175781]) <class 'array.array'>\n"
     ]
    }
   ],
   "source": [
    "# array module :\n",
    "# -------------\n",
    "from array import array\n",
    "# Create an array of integers\n",
    "int_array = array('i', [1, 2, 3, 4, 5])\n",
    "print(int_array , type(int_array))\n",
    "# Create an array of floating-point numbers\n",
    "float_array = array('f', [3.14, 2.718, 1.618])\n",
    "print(float_array , type(int_array))"
   ]
  },
  {
   "cell_type": "code",
   "execution_count": 5,
   "metadata": {},
   "outputs": [
    {
     "name": "stdout",
     "output_type": "stream",
     "text": [
      "Heapified List : [1, 2, 6, 3, 5]\n",
      "\n",
      "List after removing all roots : []\n",
      "\n",
      "Order of roots removed (MinHeap) : [1, 2, 3, 5, 6]\n",
      "\n",
      "Building MaxHeap :\n",
      "\n",
      "[-8]\n",
      "[-77, -8]\n",
      "[-77, -8, -10]\n",
      "[-99, -77, -10, -8]\n",
      "[-99, -77, -10, -8, -5]\n",
      "[-99, -77, -28, -8, -5, -10]\n",
      "[-99, -77, -28, -8, -5, -10, -2]\n",
      "[-99, -77, -28, -8, -5, -10, -2]\n",
      "\n",
      "Order of roots removed (MaxHeap) : [99, 77, 28, 10, 8, 5, 2]\n"
     ]
    }
   ],
   "source": [
    "# heapq module : Heap\n",
    "# -------------------\n",
    "\n",
    "import heapq\n",
    "\n",
    "nums = [3,2,6,1,5]\n",
    "\n",
    "heapq.heapify(nums) # Creates a MinHeap, for creating maxheap, values must be given as negative numbers\n",
    "print(\"Heapified List :\",nums)\n",
    "popped_list = [heapq.heappop(nums) for _ in range(len(nums))]\n",
    "print(f\"\\nList after removing all roots : {nums}\")\n",
    "print(f\"\\nOrder of roots removed (MinHeap) : {popped_list}\\n\")\n",
    "\n",
    "print(\"Building MaxHeap :\\n\")\n",
    "values = [8, 77, 10, 5, 28, 99, 2]\n",
    "[(heapq.heappush(nums, - n), print(nums)) for n in values] # Building a max heap with negative numbers\n",
    "print(nums)\n",
    "popped_list = [- heapq.heappop(nums) for _ in range(len(nums))]\n",
    "print(f\"\\nOrder of roots removed (MaxHeap) : {popped_list}\")\n",
    "\n",
    "# print(nums)\n",
    "# nums.pop(0) # normal pop() on a heap doesn't maintain the heap property, same for append\n",
    "# print(nums)\n",
    "# print(heapq.heappop(nums))\n",
    "# print(nums)"
   ]
  }
 ],
 "metadata": {
  "kernelspec": {
   "display_name": "Python 3",
   "language": "python",
   "name": "python3"
  },
  "language_info": {
   "codemirror_mode": {
    "name": "ipython",
    "version": 3
   },
   "file_extension": ".py",
   "mimetype": "text/x-python",
   "name": "python",
   "nbconvert_exporter": "python",
   "pygments_lexer": "ipython3",
   "version": "3.12.2"
  }
 },
 "nbformat": 4,
 "nbformat_minor": 4
}
