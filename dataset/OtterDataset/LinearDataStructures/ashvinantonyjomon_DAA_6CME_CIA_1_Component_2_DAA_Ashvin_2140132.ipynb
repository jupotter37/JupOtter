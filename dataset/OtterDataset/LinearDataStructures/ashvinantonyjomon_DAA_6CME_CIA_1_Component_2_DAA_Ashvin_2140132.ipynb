{
  "nbformat": 4,
  "nbformat_minor": 0,
  "metadata": {
    "colab": {
      "provenance": []
    },
    "kernelspec": {
      "name": "python3",
      "display_name": "Python 3"
    },
    "language_info": {
      "name": "python"
    }
  },
  "cells": [
    {
      "cell_type": "markdown",
      "source": [
        "CIA 1 Component 2\n",
        "\n",
        "Name : Ashvin Antony Jomon\n",
        "\n",
        "Reg. No.: 2140132\n",
        "\n",
        "CLass : 6 CME"
      ],
      "metadata": {
        "id": "UklnMaiE_kRJ"
      }
    },
    {
      "cell_type": "markdown",
      "source": [
        "1. Stack Using Array"
      ],
      "metadata": {
        "id": "Jd0ppVb49aSj"
      }
    },
    {
      "cell_type": "code",
      "execution_count": 1,
      "metadata": {
        "colab": {
          "base_uri": "https://localhost:8080/"
        },
        "id": "C21RgKcq9COq",
        "outputId": "eedc081a-604b-4184-8124-b4ada6ec0f31"
      },
      "outputs": [
        {
          "output_type": "stream",
          "name": "stdout",
          "text": [
            "Is the stack empty? True\n",
            "Top element of the stack: 30\n",
            "Size of the stack: 3\n",
            "Popped item from the stack: 30\n",
            "Is the stack empty? False\n"
          ]
        }
      ],
      "source": [
        "class Stack:\n",
        "    def __init__(self):\n",
        "        self.items = []\n",
        "\n",
        "    def is_empty(self):\n",
        "        return len(self.items) == 0\n",
        "\n",
        "    def push(self, item):\n",
        "        self.items.append(item)\n",
        "\n",
        "    def pop(self):\n",
        "        if not self.is_empty():\n",
        "            return self.items.pop()\n",
        "        else:\n",
        "            raise IndexError(\"pop from an empty stack\")\n",
        "\n",
        "    def peek(self):\n",
        "        if not self.is_empty():\n",
        "            return self.items[-1]\n",
        "        else:\n",
        "            raise IndexError(\"peek from an empty stack\")\n",
        "\n",
        "    def size(self):\n",
        "        return len(self.items)\n",
        "\n",
        "\n",
        "\n",
        "stack = Stack()\n",
        "\n",
        "print(\"Is the stack empty?\", stack.is_empty())\n",
        "\n",
        "stack.push(10)\n",
        "stack.push(20)\n",
        "stack.push(30)\n",
        "\n",
        "print(\"Top element of the stack:\", stack.peek())\n",
        "print(\"Size of the stack:\", stack.size())\n",
        "\n",
        "popped_item = stack.pop()\n",
        "print(\"Popped item from the stack:\", popped_item)\n",
        "print(\"Is the stack empty?\", stack.is_empty())\n"
      ]
    },
    {
      "cell_type": "markdown",
      "source": [
        "**Observation**: This implementation using an array provides a simple and easy-to-understand stack structure. However, the array might need to be resized during push operations, impacting time complexity."
      ],
      "metadata": {
        "id": "yZsc8oSFAZwR"
      }
    },
    {
      "cell_type": "markdown",
      "source": [
        "2. Stack using Linked List"
      ],
      "metadata": {
        "id": "ZkS1TyMW-HFL"
      }
    },
    {
      "cell_type": "code",
      "source": [
        "class Node:\n",
        "    def __init__(self, data):\n",
        "        self.data = data\n",
        "        self.next = None\n",
        "\n",
        "\n",
        "class StackLinkedList:\n",
        "    def __init__(self):\n",
        "        self.top = None\n",
        "\n",
        "    def is_empty(self):\n",
        "        return self.top is None\n",
        "\n",
        "    def push(self, data):\n",
        "        new_node = Node(data)\n",
        "        new_node.next = self.top\n",
        "        self.top = new_node\n",
        "\n",
        "    def pop(self):\n",
        "        if not self.is_empty():\n",
        "            popped_item = self.top.data\n",
        "            self.top = self.top.next\n",
        "            return popped_item\n",
        "        else:\n",
        "            raise IndexError(\"pop from an empty stack\")\n",
        "\n",
        "    def peek(self):\n",
        "        if not self.is_empty():\n",
        "            return self.top.data\n",
        "        else:\n",
        "            raise IndexError(\"peek from an empty stack\")\n",
        "\n",
        "    def size(self):\n",
        "        current = self.top\n",
        "        count = 0\n",
        "        while current:\n",
        "            count += 1\n",
        "            current = current.next\n",
        "        return count\n",
        "\n",
        "\n",
        "\n",
        "stack_linked_list = StackLinkedList()\n",
        "\n",
        "print(\"Is the stack empty?\", stack_linked_list.is_empty())\n",
        "\n",
        "stack_linked_list.push(10)\n",
        "stack_linked_list.push(20)\n",
        "stack_linked_list.push(30)\n",
        "\n",
        "print(\"Top element of the stack:\", stack_linked_list.peek())\n",
        "print(\"Size of the stack:\", stack_linked_list.size())\n",
        "\n",
        "popped_item = stack_linked_list.pop()\n",
        "print(\"Popped item from the stack:\", popped_item)\n",
        "print(\"Is the stack empty?\", stack_linked_list.is_empty())\n"
      ],
      "metadata": {
        "colab": {
          "base_uri": "https://localhost:8080/"
        },
        "id": "xcpKvz2c9Qna",
        "outputId": "e91a953d-3bb8-4db1-bfac-01e020265d6f"
      },
      "execution_count": 2,
      "outputs": [
        {
          "output_type": "stream",
          "name": "stdout",
          "text": [
            "Is the stack empty? True\n",
            "Top element of the stack: 30\n",
            "Size of the stack: 3\n",
            "Popped item from the stack: 30\n",
            "Is the stack empty? False\n"
          ]
        }
      ]
    },
    {
      "cell_type": "markdown",
      "source": [
        "**Observation**: Using a linked list for the stack implementation avoids the need for dynamic resizing and provides efficient memory usage. It is particularly useful when the size of the stack is not known in advance."
      ],
      "metadata": {
        "id": "PRI_cqleAx03"
      }
    },
    {
      "cell_type": "markdown",
      "source": [
        "3. Queue using Array"
      ],
      "metadata": {
        "id": "eGBpfmce-tPq"
      }
    },
    {
      "cell_type": "code",
      "source": [
        "class QueueArray:\n",
        "    def __init__(self, capacity):\n",
        "        self.capacity = capacity\n",
        "        self.queue = [None] * capacity\n",
        "        self.front = self.rear = -1\n",
        "\n",
        "    def is_empty(self):\n",
        "        return self.front == -1\n",
        "\n",
        "    def is_full(self):\n",
        "        return (self.rear + 1) % self.capacity == self.front\n",
        "\n",
        "    def enqueue(self, item):\n",
        "        if self.is_full():\n",
        "            raise IndexError(\"enqueue on a full queue\")\n",
        "        elif self.is_empty():\n",
        "            self.front = self.rear = 0\n",
        "        else:\n",
        "            self.rear = (self.rear + 1) % self.capacity\n",
        "        self.queue[self.rear] = item\n",
        "\n",
        "    def dequeue(self):\n",
        "        if self.is_empty():\n",
        "            raise IndexError(\"dequeue from an empty queue\")\n",
        "        elif self.front == self.rear:\n",
        "            front_item = self.queue[self.front]\n",
        "            self.front = self.rear = -1\n",
        "        else:\n",
        "            front_item = self.queue[self.front]\n",
        "            self.front = (self.front + 1) % self.capacity\n",
        "        return front_item\n",
        "\n",
        "    def front_element(self):\n",
        "        if self.is_empty():\n",
        "            raise IndexError(\"front_element from an empty queue\")\n",
        "        return self.queue[self.front]\n",
        "\n",
        "    def size(self):\n",
        "        if self.is_empty():\n",
        "            return 0\n",
        "        elif self.front <= self.rear:\n",
        "            return self.rear - self.front + 1\n",
        "        else:\n",
        "            return self.capacity - self.front + self.rear + 1\n",
        "\n",
        "\n",
        "\n",
        "queue_array = QueueArray(capacity=5)\n",
        "\n",
        "print(\"Is the queue empty?\", queue_array.is_empty())\n",
        "\n",
        "queue_array.enqueue(10)\n",
        "queue_array.enqueue(20)\n",
        "queue_array.enqueue(30)\n",
        "\n",
        "print(\"Front element of the queue:\", queue_array.front_element())\n",
        "print(\"Size of the queue:\", queue_array.size())\n",
        "\n",
        "dequeued_item = queue_array.dequeue()\n",
        "print(\"Dequeued item from the queue:\", dequeued_item)\n",
        "print(\"Is the queue empty?\", queue_array.is_empty())\n"
      ],
      "metadata": {
        "colab": {
          "base_uri": "https://localhost:8080/"
        },
        "id": "5ZPNXtZr9yB2",
        "outputId": "ce1147ba-c357-4f1a-ef3e-47cd4c994731"
      },
      "execution_count": 3,
      "outputs": [
        {
          "output_type": "stream",
          "name": "stdout",
          "text": [
            "Is the queue empty? True\n",
            "Front element of the queue: 10\n",
            "Size of the queue: 3\n",
            "Dequeued item from the queue: 10\n",
            "Is the queue empty? False\n"
          ]
        }
      ]
    },
    {
      "cell_type": "markdown",
      "source": [
        "**Observation**: The array-based queue implementation uses a circular array approach to efficiently manage the front and rear indices. It may involve dynamic resizing during enqueue operations if the array becomes full."
      ],
      "metadata": {
        "id": "tkP2JCjlA3lo"
      }
    },
    {
      "cell_type": "markdown",
      "source": [
        "4. Queue using Linked List"
      ],
      "metadata": {
        "id": "Cb_YHZqx-0eC"
      }
    },
    {
      "cell_type": "code",
      "source": [
        "class Node:\n",
        "    def __init__(self, data):\n",
        "        self.data = data\n",
        "        self.next = None\n",
        "\n",
        "\n",
        "class QueueLinkedList:\n",
        "    def __init__(self):\n",
        "        self.front = self.rear = None\n",
        "\n",
        "    def is_empty(self):\n",
        "        return self.front is None\n",
        "\n",
        "    def enqueue(self, item):\n",
        "        new_node = Node(item)\n",
        "        if self.is_empty():\n",
        "            self.front = self.rear = new_node\n",
        "        else:\n",
        "            self.rear.next = new_node\n",
        "            self.rear = new_node\n",
        "\n",
        "    def dequeue(self):\n",
        "        if self.is_empty():\n",
        "            raise IndexError(\"dequeue from an empty queue\")\n",
        "        front_item = self.front.data\n",
        "        if self.front == self.rear:\n",
        "            self.front = self.rear = None\n",
        "        else:\n",
        "            self.front = self.front.next\n",
        "        return front_item\n",
        "\n",
        "    def front_element(self):\n",
        "        if self.is_empty():\n",
        "            raise IndexError(\"front_element from an empty queue\")\n",
        "        return self.front.data\n",
        "\n",
        "    def size(self):\n",
        "        current = self.front\n",
        "        count = 0\n",
        "        while current:\n",
        "            count += 1\n",
        "            current = current.next\n",
        "        return count\n",
        "\n",
        "\n",
        "\n",
        "queue_linked_list = QueueLinkedList()\n",
        "\n",
        "print(\"Is the queue empty?\", queue_linked_list.is_empty())\n",
        "\n",
        "queue_linked_list.enqueue(10)\n",
        "queue_linked_list.enqueue(20)\n",
        "queue_linked_list.enqueue(30)\n",
        "\n",
        "print(\"Front element of the queue:\", queue_linked_list.front_element())\n",
        "print(\"Size of the queue:\", queue_linked_list.size())\n",
        "\n",
        "dequeued_item = queue_linked_list.dequeue()\n",
        "print(\"Dequeued item from the queue:\", dequeued_item)\n",
        "print(\"Is the queue empty?\", queue_linked_list.is_empty())\n"
      ],
      "metadata": {
        "colab": {
          "base_uri": "https://localhost:8080/"
        },
        "id": "ImSsYUYc-X0B",
        "outputId": "1c8f2a65-e229-4509-fa8f-d7936bb41a3a"
      },
      "execution_count": 4,
      "outputs": [
        {
          "output_type": "stream",
          "name": "stdout",
          "text": [
            "Is the queue empty? True\n",
            "Front element of the queue: 10\n",
            "Size of the queue: 3\n",
            "Dequeued item from the queue: 10\n",
            "Is the queue empty? False\n"
          ]
        }
      ]
    },
    {
      "cell_type": "markdown",
      "source": [
        "**Observation**: The linked list-based queue implementation offers dynamic memory allocation and efficient enqueue and dequeue operations. It is a flexible choice, especially when the size of the queue is unpredictable."
      ],
      "metadata": {
        "id": "-tq3GZGiA8e8"
      }
    },
    {
      "cell_type": "markdown",
      "source": [
        "5. Priority Queue"
      ],
      "metadata": {
        "id": "0nJz1F74_E-C"
      }
    },
    {
      "cell_type": "code",
      "source": [
        "import heapq\n",
        "\n",
        "class PriorityQueue:\n",
        "    def __init__(self):\n",
        "        self.heap = []\n",
        "\n",
        "    def is_empty(self):\n",
        "        return len(self.heap) == 0\n",
        "\n",
        "    def enqueue(self, item, priority):\n",
        "        heapq.heappush(self.heap, (priority, item))\n",
        "\n",
        "    def dequeue(self):\n",
        "        if not self.is_empty():\n",
        "            priority, item = heapq.heappop(self.heap)\n",
        "            return item\n",
        "        else:\n",
        "            raise IndexError(\"dequeue from an empty priority queue\")\n",
        "\n",
        "    def peek(self):\n",
        "        if not self.is_empty():\n",
        "            priority, item = self.heap[0]\n",
        "            return item\n",
        "        else:\n",
        "            raise IndexError(\"peek from an empty priority queue\")\n",
        "\n",
        "    def size(self):\n",
        "        return len(self.heap)\n",
        "\n",
        "\n",
        "\n",
        "priority_queue = PriorityQueue()\n",
        "\n",
        "print(\"Is the priority queue empty?\", priority_queue.is_empty())\n",
        "\n",
        "priority_queue.enqueue(\"Task 1\", priority=3)\n",
        "priority_queue.enqueue(\"Task 2\", priority=1)\n",
        "priority_queue.enqueue(\"Task 3\", priority=2)\n",
        "\n",
        "print(\"Peek at the priority queue:\", priority_queue.peek())\n",
        "print(\"Size of the priority queue:\", priority_queue.size())\n",
        "\n",
        "dequeued_item = priority_queue.dequeue()\n",
        "print(\"Dequeued item from the priority queue:\", dequeued_item)\n",
        "print(\"Is the priority queue empty?\", priority_queue.is_empty())\n"
      ],
      "metadata": {
        "colab": {
          "base_uri": "https://localhost:8080/"
        },
        "id": "LpgYBpoG-_0P",
        "outputId": "62f0fc71-5960-48fc-d6b4-99cd8d383766"
      },
      "execution_count": 6,
      "outputs": [
        {
          "output_type": "stream",
          "name": "stdout",
          "text": [
            "Is the priority queue empty? True\n",
            "Peek at the priority queue: Task 2\n",
            "Size of the priority queue: 3\n",
            "Dequeued item from the priority queue: Task 2\n",
            "Is the priority queue empty? False\n"
          ]
        }
      ]
    },
    {
      "cell_type": "markdown",
      "source": [
        "**Observation**: Priority queues implemented with a heap (using the heapq module) efficiently handle elements based on their priority. This implementation ensures that the element with the highest priority is always at the front, allowing for quick retrieval."
      ],
      "metadata": {
        "id": "Zew3GxzKBA6h"
      }
    },
    {
      "cell_type": "markdown",
      "source": [
        "6. Circular Queue"
      ],
      "metadata": {
        "id": "9DTjZc0d_Beu"
      }
    },
    {
      "cell_type": "code",
      "source": [
        "class CircularQueue:\n",
        "    def __init__(self, capacity):\n",
        "        self.capacity = capacity\n",
        "        self.queue = [None] * capacity\n",
        "        self.front = self.rear = -1\n",
        "\n",
        "    def is_empty(self):\n",
        "        return self.front == -1\n",
        "\n",
        "    def is_full(self):\n",
        "        return (self.rear + 1) % self.capacity == self.front\n",
        "\n",
        "    def enqueue(self, item):\n",
        "        if self.is_full():\n",
        "            raise IndexError(\"enqueue on a full circular queue\")\n",
        "\n",
        "        if self.is_empty():\n",
        "            self.front = self.rear = 0\n",
        "        else:\n",
        "            self.rear = (self.rear + 1) % self.capacity\n",
        "\n",
        "        self.queue[self.rear] = item\n",
        "\n",
        "    def dequeue(self):\n",
        "        if self.is_empty():\n",
        "            raise IndexError(\"dequeue from an empty circular queue\")\n",
        "\n",
        "        front_item = self.queue[self.front]\n",
        "\n",
        "        if self.front == self.rear:\n",
        "            self.front = self.rear = -1\n",
        "        else:\n",
        "            self.front = (self.front + 1) % self.capacity\n",
        "\n",
        "        return front_item\n",
        "\n",
        "    def front_element(self):\n",
        "        if self.is_empty():\n",
        "            raise IndexError(\"front_element from an empty circular queue\")\n",
        "        return self.queue[self.front]\n",
        "\n",
        "    def size(self):\n",
        "        if self.is_empty():\n",
        "            return 0\n",
        "        elif self.front <= self.rear:\n",
        "            return self.rear - self.front + 1\n",
        "        else:\n",
        "            return self.capacity - self.front + self.rear + 1\n",
        "\n",
        "\n",
        "\n",
        "circular_queue = CircularQueue(capacity=5)\n",
        "\n",
        "print(\"Is the circular queue empty?\", circular_queue.is_empty())\n",
        "\n",
        "circular_queue.enqueue(10)\n",
        "circular_queue.enqueue(20)\n",
        "circular_queue.enqueue(30)\n",
        "\n",
        "print(\"Front element of the circular queue:\", circular_queue.front_element())\n",
        "print(\"Size of the circular queue:\", circular_queue.size())\n",
        "\n",
        "dequeued_item = circular_queue.dequeue()\n",
        "print(\"Dequeued item from the circular queue:\", dequeued_item)\n",
        "print(\"Is the circular queue empty?\", circular_queue.is_empty())\n"
      ],
      "metadata": {
        "colab": {
          "base_uri": "https://localhost:8080/"
        },
        "id": "STYDnBmz_UOX",
        "outputId": "22d1cd4c-3f9a-40e4-8347-e6dbd7d41f8b"
      },
      "execution_count": 7,
      "outputs": [
        {
          "output_type": "stream",
          "name": "stdout",
          "text": [
            "Is the circular queue empty? True\n",
            "Front element of the circular queue: 10\n",
            "Size of the circular queue: 3\n",
            "Dequeued item from the circular queue: 10\n",
            "Is the circular queue empty? False\n"
          ]
        }
      ]
    },
    {
      "cell_type": "markdown",
      "source": [
        "**observation**: The circular queue implementation with an array efficiently manages space and avoids the need to shift elements during dequeue operations. It provides constant-time enqueue and dequeue operations, making it suitable for scenarios where a fixed-size circular structure is beneficial."
      ],
      "metadata": {
        "id": "XpWnbUt6BHQp"
      }
    }
  ]
}