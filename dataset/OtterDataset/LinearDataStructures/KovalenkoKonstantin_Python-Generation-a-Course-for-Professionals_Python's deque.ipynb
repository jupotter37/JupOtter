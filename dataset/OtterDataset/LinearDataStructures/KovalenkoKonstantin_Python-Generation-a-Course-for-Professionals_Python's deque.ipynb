{
 "cells": [
  {
   "cell_type": "markdown",
   "source": [
    "Getting Started With Python’s deque"
   ],
   "metadata": {
    "collapsed": false
   },
   "id": "ecfb79f6770f4b0f"
  },
  {
   "cell_type": "markdown",
   "source": [
    "Deques are sequence-like data types designed as a generalization of stacks and queues. They support memory-efficient and fast append and pop operations on both ends of the data structure."
   ],
   "metadata": {
    "collapsed": false
   },
   "id": "2a374f308ebf4395"
  },
  {
   "cell_type": "markdown",
   "source": [
    "Note: deque is pronounced as “deck.” The name stands for double-ended queue."
   ],
   "metadata": {
    "collapsed": false
   },
   "id": "7271ed7c94c24c3"
  },
  {
   "cell_type": "markdown",
   "source": [
    "Here’s a summary of the main characteristics of deque:\n",
    "\n",
    "Stores items of any data type\n",
    "Is a mutable data type\n",
    "Supports membership operations with the in operator\n",
    "Supports indexing, like in a_deque[i]\n",
    "Doesn’t support slicing, like in a_deque[0:2]\n",
    "Supports built-in functions that operate on sequences and iterables, such as len(), sorted(), reversed(), and more\n",
    "Doesn’t support in-place sorting\n",
    "Supports normal and reverse iteration\n",
    "Supports pickling with pickle\n",
    "Ensures fast, memory-efficient, and thread-safe pop and append operations on both ends"
   ],
   "metadata": {
    "collapsed": false
   },
   "id": "d1e6a470b2c3908a"
  },
  {
   "cell_type": "code",
   "execution_count": 8,
   "outputs": [
    {
     "data": {
      "text/plain": "deque([])"
     },
     "execution_count": 8,
     "metadata": {},
     "output_type": "execute_result"
    }
   ],
   "source": [
    "from collections import deque\n",
    "\n",
    "# Create an empty deque\n",
    "deque()"
   ],
   "metadata": {
    "collapsed": false,
    "ExecuteTime": {
     "end_time": "2024-11-26T05:58:04.607795Z",
     "start_time": "2024-11-26T05:58:04.600920600Z"
    }
   },
   "id": "2e6c38521ef14070"
  },
  {
   "cell_type": "code",
   "execution_count": 9,
   "outputs": [
    {
     "data": {
      "text/plain": "deque([1, 2, 3, 4])"
     },
     "execution_count": 9,
     "metadata": {},
     "output_type": "execute_result"
    }
   ],
   "source": [
    "# Use different iterables to create deques\n",
    "deque((1, 2, 3, 4))"
   ],
   "metadata": {
    "collapsed": false,
    "ExecuteTime": {
     "end_time": "2024-11-26T05:58:14.050558100Z",
     "start_time": "2024-11-26T05:58:14.040790100Z"
    }
   },
   "id": "28e41d54c1d1dece"
  },
  {
   "cell_type": "code",
   "execution_count": 10,
   "outputs": [
    {
     "data": {
      "text/plain": "deque([1, 2, 3, 4])"
     },
     "execution_count": 10,
     "metadata": {},
     "output_type": "execute_result"
    }
   ],
   "source": [
    "deque([1, 2, 3, 4])"
   ],
   "metadata": {
    "collapsed": false,
    "ExecuteTime": {
     "end_time": "2024-11-26T05:58:20.169562100Z",
     "start_time": "2024-11-26T05:58:20.161635700Z"
    }
   },
   "id": "a7f46e7fa107d7b6"
  },
  {
   "cell_type": "code",
   "execution_count": 11,
   "outputs": [
    {
     "data": {
      "text/plain": "deque([1, 2, 3, 4])"
     },
     "execution_count": 11,
     "metadata": {},
     "output_type": "execute_result"
    }
   ],
   "source": [
    "deque(range(1, 5))"
   ],
   "metadata": {
    "collapsed": false,
    "ExecuteTime": {
     "end_time": "2024-11-26T05:58:25.884434100Z",
     "start_time": "2024-11-26T05:58:25.873134700Z"
    }
   },
   "id": "3658d8586c787c14"
  },
  {
   "cell_type": "code",
   "execution_count": 12,
   "outputs": [
    {
     "data": {
      "text/plain": "deque(['a', 'b', 'c', 'd'])"
     },
     "execution_count": 12,
     "metadata": {},
     "output_type": "execute_result"
    }
   ],
   "source": [
    "deque(\"abcd\")"
   ],
   "metadata": {
    "collapsed": false,
    "ExecuteTime": {
     "end_time": "2024-11-26T05:58:31.906495900Z",
     "start_time": "2024-11-26T05:58:31.896584Z"
    }
   },
   "id": "bb4a89b94f3cdd0b"
  },
  {
   "cell_type": "code",
   "execution_count": 13,
   "outputs": [
    {
     "data": {
      "text/plain": "deque(['one', 'two', 'three', 'four'])"
     },
     "execution_count": 13,
     "metadata": {},
     "output_type": "execute_result"
    }
   ],
   "source": [
    "numbers = {\"one\": 1, \"two\": 2, \"three\": 3, \"four\": 4}\n",
    "deque(numbers.keys())"
   ],
   "metadata": {
    "collapsed": false,
    "ExecuteTime": {
     "end_time": "2024-11-26T05:58:39.995236200Z",
     "start_time": "2024-11-26T05:58:39.982671400Z"
    }
   },
   "id": "3f1f6b250b66f47c"
  },
  {
   "cell_type": "code",
   "execution_count": 14,
   "outputs": [
    {
     "data": {
      "text/plain": "deque([1, 2, 3, 4])"
     },
     "execution_count": 14,
     "metadata": {},
     "output_type": "execute_result"
    }
   ],
   "source": [
    "deque(numbers.values())"
   ],
   "metadata": {
    "collapsed": false,
    "ExecuteTime": {
     "end_time": "2024-11-26T05:58:46.299165900Z",
     "start_time": "2024-11-26T05:58:46.295382300Z"
    }
   },
   "id": "8a0c153aac3fa3e5"
  },
  {
   "cell_type": "code",
   "execution_count": 15,
   "outputs": [
    {
     "data": {
      "text/plain": "deque([('one', 1), ('two', 2), ('three', 3), ('four', 4)])"
     },
     "execution_count": 15,
     "metadata": {},
     "output_type": "execute_result"
    }
   ],
   "source": [
    "deque(numbers.items())"
   ],
   "metadata": {
    "collapsed": false,
    "ExecuteTime": {
     "end_time": "2024-11-26T05:58:51.850877500Z",
     "start_time": "2024-11-26T05:58:51.847404600Z"
    }
   },
   "id": "5a798007ef5acb2c"
  },
  {
   "cell_type": "markdown",
   "source": [
    "The initialization goes from left to right using deque.append()."
   ],
   "metadata": {
    "collapsed": false
   },
   "id": "ec90ec9c30990616"
  },
  {
   "cell_type": "markdown",
   "source": [
    "The deque initializer takes the following two optional arguments:\n",
    "\n",
    "iterable holds an iterable that provides the initialization data.\n",
    "maxlen holds an integer number that specifies the maximum length of the deque."
   ],
   "metadata": {
    "collapsed": false
   },
   "id": "6741f3eb135c8a39"
  },
  {
   "cell_type": "markdown",
   "source": [
    "Popping and Appending Items Efficiently"
   ],
   "metadata": {
    "collapsed": false
   },
   "id": "f062b864698752a0"
  },
  {
   "cell_type": "markdown",
   "source": [
    "The most important difference between deque and list is that the former allows you to perform efficient append and pop operations on both ends of the sequence. The deque class implements dedicated .popleft() and .appendleft() methods that operate on the left end of the sequence directly:"
   ],
   "metadata": {
    "collapsed": false
   },
   "id": "ccf441402028c4a4"
  },
  {
   "cell_type": "code",
   "execution_count": 4,
   "outputs": [
    {
     "data": {
      "text/plain": "1"
     },
     "execution_count": 4,
     "metadata": {},
     "output_type": "execute_result"
    }
   ],
   "source": [
    "from collections import deque\n",
    "\n",
    "numbers = deque([1, 2, 3, 4])\n",
    "numbers.popleft()"
   ],
   "metadata": {
    "collapsed": false,
    "ExecuteTime": {
     "end_time": "2024-11-26T05:56:35.623904Z",
     "start_time": "2024-11-26T05:56:35.614759600Z"
    }
   },
   "id": "cf9ae8b535575f11"
  },
  {
   "cell_type": "code",
   "execution_count": 5,
   "outputs": [
    {
     "data": {
      "text/plain": "2"
     },
     "execution_count": 5,
     "metadata": {},
     "output_type": "execute_result"
    }
   ],
   "source": [
    "numbers.popleft()"
   ],
   "metadata": {
    "collapsed": false,
    "ExecuteTime": {
     "end_time": "2024-11-26T05:56:44.946697900Z",
     "start_time": "2024-11-26T05:56:44.937547700Z"
    }
   },
   "id": "def084fa6af9ef61"
  },
  {
   "cell_type": "code",
   "execution_count": 6,
   "outputs": [
    {
     "data": {
      "text/plain": "deque([3, 4])"
     },
     "execution_count": 6,
     "metadata": {},
     "output_type": "execute_result"
    }
   ],
   "source": [
    "numbers"
   ],
   "metadata": {
    "collapsed": false,
    "ExecuteTime": {
     "end_time": "2024-11-26T05:57:40.678932900Z",
     "start_time": "2024-11-26T05:57:40.673341800Z"
    }
   },
   "id": "db360779fc6b8f22"
  },
  {
   "cell_type": "code",
   "execution_count": 7,
   "outputs": [
    {
     "data": {
      "text/plain": "deque([1, 2, 3, 4])"
     },
     "execution_count": 7,
     "metadata": {},
     "output_type": "execute_result"
    }
   ],
   "source": [
    "numbers.appendleft(2)\n",
    "numbers.appendleft(1)\n",
    "numbers"
   ],
   "metadata": {
    "collapsed": false,
    "ExecuteTime": {
     "end_time": "2024-11-26T05:57:48.528604400Z",
     "start_time": "2024-11-26T05:57:48.517995900Z"
    }
   },
   "id": "aaa50e4f58cea775"
  },
  {
   "cell_type": "markdown",
   "source": [
    "Here, you use .popleft() and .appendleft() to remove and add values, respectively, to the left end of numbers. These methods are specific to the design of deque, and you won’t find them in list."
   ],
   "metadata": {
    "collapsed": false
   },
   "id": "9337badc7a284c87"
  },
  {
   "cell_type": "markdown",
   "source": [
    "Just like list, deque also provides .append() and .pop() methods to operate on the right end of the sequence. However, .pop() behaves differently:"
   ],
   "metadata": {
    "collapsed": false
   },
   "id": "e8df7168b3f89a2"
  },
  {
   "cell_type": "code",
   "execution_count": 2,
   "outputs": [
    {
     "data": {
      "text/plain": "4"
     },
     "execution_count": 2,
     "metadata": {},
     "output_type": "execute_result"
    }
   ],
   "source": [
    "from collections import deque\n",
    "\n",
    "numbers = deque([1, 2, 3, 4])\n",
    "numbers.pop()"
   ],
   "metadata": {
    "collapsed": false,
    "ExecuteTime": {
     "end_time": "2024-11-26T05:56:18.203092700Z",
     "start_time": "2024-11-26T05:56:18.197335500Z"
    }
   },
   "id": "85603798515c9730"
  },
  {
   "cell_type": "code",
   "execution_count": 3,
   "outputs": [
    {
     "ename": "TypeError",
     "evalue": "deque.pop() takes no arguments (1 given)",
     "output_type": "error",
     "traceback": [
      "\u001B[1;31m---------------------------------------------------------------------------\u001B[0m",
      "\u001B[1;31mTypeError\u001B[0m                                 Traceback (most recent call last)",
      "Cell \u001B[1;32mIn[3], line 1\u001B[0m\n\u001B[1;32m----> 1\u001B[0m \u001B[43mnumbers\u001B[49m\u001B[38;5;241;43m.\u001B[39;49m\u001B[43mpop\u001B[49m\u001B[43m(\u001B[49m\u001B[38;5;241;43m0\u001B[39;49m\u001B[43m)\u001B[49m\n",
      "\u001B[1;31mTypeError\u001B[0m: deque.pop() takes no arguments (1 given)"
     ]
    }
   ],
   "source": [
    "numbers.pop(0)"
   ],
   "metadata": {
    "collapsed": false,
    "ExecuteTime": {
     "end_time": "2024-11-26T05:56:25.933173300Z",
     "start_time": "2024-11-26T05:56:25.680308200Z"
    }
   },
   "id": "72723f49e2a7601f"
  },
  {
   "cell_type": "markdown",
   "source": [
    "Here, .pop() removes and returns the last value in the deque. The method doesn’t take an index as an argument, so you can’t use it to remove arbitrary items from your deques. You can only use it to remove and return the rightmost item."
   ],
   "metadata": {
    "collapsed": false
   },
   "id": "85d03fad2cc327d"
  },
  {
   "cell_type": "markdown",
   "source": [
    "As you learned earlier, deque is implemented as a doubly linked list. So, every item in a given deque holds a reference (pointer) to the next and previous item in the sequence."
   ],
   "metadata": {
    "collapsed": false
   },
   "id": "b65700bb549f82cf"
  },
  {
   "cell_type": "markdown",
   "source": [
    "Doubly linked lists make appending and popping items from either end light and efficient operations. That’s possible because only the pointers need to be updated. As a result, both operations have similar performance, O(1). They’re also predictable performance-wise because there’s no need for reallocating memory and moving existing items to accept new ones."
   ],
   "metadata": {
    "collapsed": false
   },
   "id": "8fbbdf255b836ca0"
  },
  {
   "cell_type": "code",
   "execution_count": 31,
   "outputs": [
    {
     "name": "stdout",
     "output_type": "stream",
     "text": [
      "list.insert()      1382.15 ns\n",
      "deque.appendleft() 76.37 ns  (18.0981x faster)\n"
     ]
    }
   ],
   "source": [
    "# time_append.py\n",
    "\n",
    "from collections import deque\n",
    "from time import perf_counter\n",
    "\n",
    "TIMES = 10_000\n",
    "a_list = []\n",
    "a_deque = deque()\n",
    "\n",
    "def average_time(func, times):\n",
    "    total = 0.0\n",
    "    for i in range(times):\n",
    "        start = perf_counter()\n",
    "        func(i)\n",
    "        total += (perf_counter() - start) * 1e9\n",
    "    return total / times\n",
    "\n",
    "list_time = average_time(lambda i: a_list.insert(0, i), TIMES)\n",
    "deque_time = average_time(lambda i: a_deque.appendleft(i), TIMES)\n",
    "gain = list_time / deque_time\n",
    "\n",
    "print(f\"list.insert()      {list_time:.6} ns\")\n",
    "print(f\"deque.appendleft() {deque_time:.6} ns  ({gain:.6}x faster)\")"
   ],
   "metadata": {
    "collapsed": false,
    "ExecuteTime": {
     "end_time": "2024-11-26T06:04:15.494619600Z",
     "start_time": "2024-11-26T06:04:15.474922700Z"
    }
   },
   "id": "dfe03933872b0667"
  },
  {
   "cell_type": "markdown",
   "source": [
    "In this specific example, .appendleft() on a deque is several times faster than .insert() on a list. Note that deque.appendleft() is O(1), which means that the execution time is constant. However, list.insert() on the left end of the list is O(n), which means that the execution time depends on the number of items to process."
   ],
   "metadata": {
    "collapsed": false
   },
   "id": "cc18687994000e92"
  },
  {
   "cell_type": "markdown",
   "source": [
    "Here’s a script that tests the performance of deque.popleft() and list.pop(0) operations:"
   ],
   "metadata": {
    "collapsed": false
   },
   "id": "10dd6761f1566b07"
  },
  {
   "cell_type": "code",
   "execution_count": 32,
   "outputs": [
    {
     "name": "stdout",
     "output_type": "stream",
     "text": [
      "list.pop(0)     9262.0 ns\n",
      "deque.popleft() 79.1 ns  (117.092x faster)\n"
     ]
    }
   ],
   "source": [
    "# time_pop.py\n",
    "\n",
    "from collections import deque\n",
    "from time import perf_counter\n",
    "\n",
    "TIMES = 10_000\n",
    "a_list = [1] * TIMES\n",
    "a_deque = deque(a_list)\n",
    "\n",
    "def average_time(func, times):\n",
    "    total = 0.0\n",
    "    for _ in range(times):\n",
    "        start = perf_counter()\n",
    "        func()\n",
    "        total += (perf_counter() - start) * 1e9\n",
    "    return total / times\n",
    "\n",
    "list_time = average_time(lambda: a_list.pop(0), TIMES)\n",
    "deque_time = average_time(lambda: a_deque.popleft(), TIMES)\n",
    "gain = list_time / deque_time\n",
    "\n",
    "print(f\"list.pop(0)     {list_time:.6} ns\")\n",
    "print(f\"deque.popleft() {deque_time:.6} ns  ({gain:.6}x faster)\")"
   ],
   "metadata": {
    "collapsed": false,
    "ExecuteTime": {
     "end_time": "2024-11-26T06:05:59.728564300Z",
     "start_time": "2024-11-26T06:05:59.625935100Z"
    }
   },
   "id": "1f7759b6a753005e"
  },
  {
   "cell_type": "markdown",
   "source": [
    "Accessing Random Items in a deque"
   ],
   "metadata": {
    "collapsed": false
   },
   "id": "7c32397a27f9f324"
  },
  {
   "cell_type": "markdown",
   "source": [
    "Python’s deque returns mutable sequences that work quite similarly to lists. Besides allowing you to append and pop items from their ends efficiently, deques provide a group of list-like methods and other sequence-like operations to work with items at arbitrary locations. Here are some of them:"
   ],
   "metadata": {
    "collapsed": false
   },
   "id": "3c92334750c94d59"
  },
  {
   "cell_type": "code",
   "execution_count": 42,
   "outputs": [
    {
     "data": {
      "image/png": "[encoded data removed]",
      "text/plain": "<IPython.core.display.Image object>"
     },
     "metadata": {},
     "output_type": "display_data"
    }
   ],
   "source": [
    "from functions import picture\n",
    "picture('skjsБез имени.png')"
   ],
   "metadata": {
    "collapsed": false,
    "ExecuteTime": {
     "end_time": "2024-11-26T06:22:45.721562200Z",
     "start_time": "2024-11-26T06:22:45.715769100Z"
    }
   },
   "id": "e4a84f03546bed4a"
  },
  {
   "cell_type": "code",
   "execution_count": 33,
   "outputs": [
    {
     "data": {
      "text/plain": "deque(['a', 'b', 'c', 'd', 'e'])"
     },
     "execution_count": 33,
     "metadata": {},
     "output_type": "execute_result"
    }
   ],
   "source": [
    "from collections import deque\n",
    "\n",
    "letters = deque(\"abde\")\n",
    "\n",
    "letters.insert(2, \"c\")\n",
    "letters"
   ],
   "metadata": {
    "collapsed": false,
    "ExecuteTime": {
     "end_time": "2024-11-26T06:09:02.286171900Z",
     "start_time": "2024-11-26T06:09:02.278171400Z"
    }
   },
   "id": "d4642e2f0f1dcae5"
  },
  {
   "cell_type": "code",
   "execution_count": 34,
   "outputs": [
    {
     "data": {
      "text/plain": "deque(['a', 'b', 'c', 'e'])"
     },
     "execution_count": 34,
     "metadata": {},
     "output_type": "execute_result"
    }
   ],
   "source": [
    "letters.remove(\"d\")\n",
    "letters"
   ],
   "metadata": {
    "collapsed": false,
    "ExecuteTime": {
     "end_time": "2024-11-26T06:09:20.163803600Z",
     "start_time": "2024-11-26T06:09:20.160309600Z"
    }
   },
   "id": "7cf6049976170a09"
  },
  {
   "cell_type": "code",
   "execution_count": 35,
   "outputs": [
    {
     "data": {
      "text/plain": "'b'"
     },
     "execution_count": 35,
     "metadata": {},
     "output_type": "execute_result"
    }
   ],
   "source": [
    "letters[1]"
   ],
   "metadata": {
    "collapsed": false,
    "ExecuteTime": {
     "end_time": "2024-11-26T06:09:33.395786300Z",
     "start_time": "2024-11-26T06:09:33.392416300Z"
    }
   },
   "id": "14727628a8447c88"
  },
  {
   "cell_type": "code",
   "execution_count": 36,
   "outputs": [
    {
     "data": {
      "text/plain": "deque(['a', 'b', 'e'])"
     },
     "execution_count": 36,
     "metadata": {},
     "output_type": "execute_result"
    }
   ],
   "source": [
    "del letters[2]\n",
    "letters"
   ],
   "metadata": {
    "collapsed": false,
    "ExecuteTime": {
     "end_time": "2024-11-26T06:09:40.531723900Z",
     "start_time": "2024-11-26T06:09:40.527118300Z"
    }
   },
   "id": "dfc0f068ced5c588"
  },
  {
   "cell_type": "markdown",
   "source": [
    "Even though deque objects support indexing, they don’t support slicing. In other words, you can’t extract a slice from an existing deque using the slicing syntax, [start:stop:step], as you would with a regular list:"
   ],
   "metadata": {
    "collapsed": false
   },
   "id": "35d8131c42a98736"
  },
  {
   "cell_type": "code",
   "execution_count": 37,
   "outputs": [
    {
     "ename": "TypeError",
     "evalue": "sequence index must be integer, not 'slice'",
     "output_type": "error",
     "traceback": [
      "\u001B[1;31m---------------------------------------------------------------------------\u001B[0m",
      "\u001B[1;31mTypeError\u001B[0m                                 Traceback (most recent call last)",
      "Cell \u001B[1;32mIn[37], line 5\u001B[0m\n\u001B[0;32m      1\u001B[0m \u001B[38;5;28;01mfrom\u001B[39;00m \u001B[38;5;21;01mcollections\u001B[39;00m \u001B[38;5;28;01mimport\u001B[39;00m deque\n\u001B[0;32m      3\u001B[0m numbers \u001B[38;5;241m=\u001B[39m deque([\u001B[38;5;241m1\u001B[39m, \u001B[38;5;241m2\u001B[39m, \u001B[38;5;241m3\u001B[39m, \u001B[38;5;241m4\u001B[39m, \u001B[38;5;241m5\u001B[39m])\n\u001B[1;32m----> 5\u001B[0m \u001B[43mnumbers\u001B[49m\u001B[43m[\u001B[49m\u001B[38;5;241;43m1\u001B[39;49m\u001B[43m:\u001B[49m\u001B[38;5;241;43m3\u001B[39;49m\u001B[43m]\u001B[49m\n",
      "\u001B[1;31mTypeError\u001B[0m: sequence index must be integer, not 'slice'"
     ]
    }
   ],
   "source": [
    "from collections import deque\n",
    "\n",
    "numbers = deque([1, 2, 3, 4, 5])\n",
    "\n",
    "numbers[1:3]"
   ],
   "metadata": {
    "collapsed": false,
    "ExecuteTime": {
     "end_time": "2024-11-26T06:10:33.697388Z",
     "start_time": "2024-11-26T06:10:33.686495900Z"
    }
   },
   "id": "13198237a1f3b27"
  },
  {
   "cell_type": "markdown",
   "source": [
    "In general, performing a slicing on a linked list would be inefficient, so the operation isn’t available."
   ],
   "metadata": {
    "collapsed": false
   },
   "id": "3d66058537d448cc"
  },
  {
   "cell_type": "markdown",
   "source": [
    "So far, you’ve seen that deque is quite similar to list. However, while list is based on arrays, deque is based on a doubly linked list."
   ],
   "metadata": {
    "collapsed": false
   },
   "id": "2cfee116c88841f6"
  },
  {
   "cell_type": "markdown",
   "source": [
    "There is a hidden cost behind deque being implemented as a doubly linked list: accessing, inserting, and removing arbitrary items aren’t efficient operations. To perform them, the interpreter has to iterate through the deque until it gets to the desired item. So, they’re O(n) instead of O(1) operations."
   ],
   "metadata": {
    "collapsed": false
   },
   "id": "be1f8522af495d08"
  },
  {
   "cell_type": "markdown",
   "source": [
    "Here’s a script that shows how deques and lists behave when it comes to working with arbitrary items:"
   ],
   "metadata": {
    "collapsed": false
   },
   "id": "6d73b2fc5e6780d8"
  },
  {
   "cell_type": "code",
   "execution_count": 40,
   "outputs": [
    {
     "name": "stdout",
     "output_type": "stream",
     "text": [
      "list  35.6566 μs (0.855511x faster)\n",
      "deque 30.5046 μs\n"
     ]
    }
   ],
   "source": [
    "# time_random_access.py\n",
    "\n",
    "from collections import deque\n",
    "from time import perf_counter\n",
    "\n",
    "TIMES = 10_000\n",
    "a_list = [1] * TIMES\n",
    "a_deque = deque(a_list)\n",
    "\n",
    "def average_time(func, times):\n",
    "    total = 0.0\n",
    "    for _ in range(times):\n",
    "        start = perf_counter()\n",
    "        func()\n",
    "        total += (perf_counter() - start) * 1e6\n",
    "    return total / times\n",
    "\n",
    "def time_it(sequence):\n",
    "    middle = len(sequence) // 2\n",
    "    sequence.insert(middle, \"middle\")\n",
    "    sequence[middle]\n",
    "    sequence.remove(\"middle\")\n",
    "    del sequence[middle]\n",
    "\n",
    "list_time = average_time(lambda: time_it(a_list), TIMES)\n",
    "deque_time = average_time(lambda: time_it(a_deque), TIMES)\n",
    "gain = deque_time / list_time\n",
    "\n",
    "print(f\"list  {list_time:.6} μs ({gain:.6}x faster)\")\n",
    "print(f\"deque {deque_time:.6} μs\")"
   ],
   "metadata": {
    "collapsed": false,
    "ExecuteTime": {
     "end_time": "2024-11-26T06:19:28.691245300Z",
     "start_time": "2024-11-26T06:19:28.023013300Z"
    }
   },
   "id": "667f575e5f6fb112"
  },
  {
   "cell_type": "markdown",
   "source": [
    "Python’s deque is optimized for operations on either end of the sequence, so they’re consistently better than lists in this regard. On the other hand, lists are better for random-access and fixed-length operations. Here are some of the differences between deques and lists in terms of performance:"
   ],
   "metadata": {
    "collapsed": false
   },
   "id": "783c363589ff946b"
  },
  {
   "cell_type": "code",
   "execution_count": 41,
   "outputs": [
    {
     "data": {
      "image/png": "[encoded data removed]",
      "text/plain": "<IPython.core.display.Image object>"
     },
     "metadata": {},
     "output_type": "display_data"
    }
   ],
   "source": [
    "from functions import picture\n",
    "picture('some Без имени.png')"
   ],
   "metadata": {
    "collapsed": false,
    "ExecuteTime": {
     "end_time": "2024-11-26T06:21:47.548545500Z",
     "start_time": "2024-11-26T06:21:47.524997400Z"
    }
   },
   "id": "a3de7f6dcd864cb3"
  },
  {
   "cell_type": "markdown",
   "source": [
    "Queues manage their items in a First-In/First-Out (FIFO) fashion. They work as a pipe where you push in new items at one end of the pipe and pop old items out from the other end. Adding an item to one end of a queue is known as an enqueue operation. Removing an item from the other end is called dequeue."
   ],
   "metadata": {
    "collapsed": false
   },
   "id": "9251f0c6d799a211"
  },
  {
   "cell_type": "code",
   "execution_count": 43,
   "outputs": [
    {
     "data": {
      "text/plain": "deque(['Jane', 'John', 'Linda'])"
     },
     "execution_count": 43,
     "metadata": {},
     "output_type": "execute_result"
    }
   ],
   "source": [
    "from collections import deque\n",
    "\n",
    "customers = deque()\n",
    "\n",
    "# People arriving\n",
    "customers.append(\"Jane\")\n",
    "customers.append(\"John\")\n",
    "customers.append(\"Linda\")\n",
    "\n",
    "customers"
   ],
   "metadata": {
    "collapsed": false,
    "ExecuteTime": {
     "end_time": "2024-11-26T06:27:26.252769400Z",
     "start_time": "2024-11-26T06:27:26.248456700Z"
    }
   },
   "id": "99b91c20cce746fb"
  },
  {
   "cell_type": "code",
   "execution_count": 44,
   "outputs": [
    {
     "data": {
      "text/plain": "'Jane'"
     },
     "execution_count": 44,
     "metadata": {},
     "output_type": "execute_result"
    }
   ],
   "source": [
    "# People getting tables\n",
    "customers.popleft()"
   ],
   "metadata": {
    "collapsed": false,
    "ExecuteTime": {
     "end_time": "2024-11-26T06:27:35.717553800Z",
     "start_time": "2024-11-26T06:27:35.712769700Z"
    }
   },
   "id": "196637133490d842"
  },
  {
   "cell_type": "code",
   "execution_count": 45,
   "outputs": [
    {
     "data": {
      "text/plain": "'John'"
     },
     "execution_count": 45,
     "metadata": {},
     "output_type": "execute_result"
    }
   ],
   "source": [
    "customers.popleft()"
   ],
   "metadata": {
    "collapsed": false,
    "ExecuteTime": {
     "end_time": "2024-11-26T06:27:41.549612500Z",
     "start_time": "2024-11-26T06:27:41.543694800Z"
    }
   },
   "id": "836a36279f4c6691"
  },
  {
   "cell_type": "code",
   "execution_count": 46,
   "outputs": [
    {
     "data": {
      "text/plain": "'Linda'"
     },
     "execution_count": 46,
     "metadata": {},
     "output_type": "execute_result"
    }
   ],
   "source": [
    "customers.popleft()"
   ],
   "metadata": {
    "collapsed": false,
    "ExecuteTime": {
     "end_time": "2024-11-26T06:27:47.415595Z",
     "start_time": "2024-11-26T06:27:47.409804800Z"
    }
   },
   "id": "a06870ec894c4824"
  },
  {
   "cell_type": "code",
   "execution_count": 47,
   "outputs": [
    {
     "ename": "IndexError",
     "evalue": "pop from an empty deque",
     "output_type": "error",
     "traceback": [
      "\u001B[1;31m---------------------------------------------------------------------------\u001B[0m",
      "\u001B[1;31mIndexError\u001B[0m                                Traceback (most recent call last)",
      "Cell \u001B[1;32mIn[47], line 1\u001B[0m\n\u001B[1;32m----> 1\u001B[0m \u001B[43mcustomers\u001B[49m\u001B[38;5;241;43m.\u001B[39;49m\u001B[43mpopleft\u001B[49m\u001B[43m(\u001B[49m\u001B[43m)\u001B[49m\n",
      "\u001B[1;31mIndexError\u001B[0m: pop from an empty deque"
     ]
    }
   ],
   "source": [
    "customers.popleft()"
   ],
   "metadata": {
    "collapsed": false,
    "ExecuteTime": {
     "end_time": "2024-11-26T06:27:52.788291Z",
     "start_time": "2024-11-26T06:27:52.774822Z"
    }
   },
   "id": "cc20f07a44c5491b"
  },
  {
   "cell_type": "markdown",
   "source": [
    "Rotating the Items: .rotate()"
   ],
   "metadata": {
    "collapsed": false
   },
   "id": "ad9c3f3cd48dd6c3"
  },
  {
   "cell_type": "markdown",
   "source": [
    "Another interesting feature of deques is the possibility to rotate their elements by calling .rotate() on a non-empty deque. This method takes an integer n as an argument and rotates the items n steps to the right. In other words, it moves n items from the right end to the left end in a circular fashion."
   ],
   "metadata": {
    "collapsed": false
   },
   "id": "90463cbf6dd8c574"
  },
  {
   "cell_type": "markdown",
   "source": [
    "The default value of n is 1. If you provide a negative value to n, then the rotation is to the left:"
   ],
   "metadata": {
    "collapsed": false
   },
   "id": "c214eafac649f867"
  },
  {
   "cell_type": "code",
   "execution_count": 48,
   "outputs": [
    {
     "data": {
      "text/plain": "deque(['third', 'first', 'second'])"
     },
     "execution_count": 48,
     "metadata": {},
     "output_type": "execute_result"
    }
   ],
   "source": [
    "from collections import deque\n",
    "\n",
    "ordinals = deque([\"first\", \"second\", \"third\"])\n",
    "\n",
    "# Rotate items to the right\n",
    "ordinals.rotate()\n",
    "ordinals"
   ],
   "metadata": {
    "collapsed": false,
    "ExecuteTime": {
     "end_time": "2024-11-26T06:34:26.761374500Z",
     "start_time": "2024-11-26T06:34:26.755053900Z"
    }
   },
   "id": "bdd11c18901b6204"
  },
  {
   "cell_type": "code",
   "execution_count": 49,
   "outputs": [
    {
     "data": {
      "text/plain": "deque(['first', 'second', 'third'])"
     },
     "execution_count": 49,
     "metadata": {},
     "output_type": "execute_result"
    }
   ],
   "source": [
    "ordinals.rotate(2)\n",
    "ordinals"
   ],
   "metadata": {
    "collapsed": false,
    "ExecuteTime": {
     "end_time": "2024-11-26T06:34:50.774216600Z",
     "start_time": "2024-11-26T06:34:50.768610900Z"
    }
   },
   "id": "4984cfb7f04fa791"
  },
  {
   "cell_type": "code",
   "execution_count": 50,
   "outputs": [
    {
     "data": {
      "text/plain": "deque(['third', 'first', 'second'])"
     },
     "execution_count": 50,
     "metadata": {},
     "output_type": "execute_result"
    }
   ],
   "source": [
    "# Rotate items to the left\n",
    "ordinals.rotate(-2)\n",
    "ordinals"
   ],
   "metadata": {
    "collapsed": false,
    "ExecuteTime": {
     "end_time": "2024-11-26T06:35:59.726891400Z",
     "start_time": "2024-11-26T06:35:59.720862400Z"
    }
   },
   "id": "a1d5bf34b9094bba"
  },
  {
   "cell_type": "code",
   "execution_count": 51,
   "outputs": [
    {
     "data": {
      "text/plain": "deque(['first', 'second', 'third'])"
     },
     "execution_count": 51,
     "metadata": {},
     "output_type": "execute_result"
    }
   ],
   "source": [
    "ordinals.rotate(-1)\n",
    "ordinals"
   ],
   "metadata": {
    "collapsed": false,
    "ExecuteTime": {
     "end_time": "2024-11-26T06:36:30.050589500Z",
     "start_time": "2024-11-26T06:36:30.025339300Z"
    }
   },
   "id": "559d417f84e14fa2"
  },
  {
   "cell_type": "markdown",
   "source": [
    "Adding Several Items at Once: .extendleft()"
   ],
   "metadata": {
    "collapsed": false
   },
   "id": "db8564c1c7d2eeea"
  },
  {
   "cell_type": "markdown",
   "source": [
    "Like regular lists, deques provide an .extend() method, which allows you to add several items to the right end of a deque using an iterable as an argument. Additionally, deques have a method called extendleft(), which takes an iterable as an argument and adds its items to the left end of the target deque in one go:"
   ],
   "metadata": {
    "collapsed": false
   },
   "id": "6e33a806ec34f8e0"
  },
  {
   "cell_type": "code",
   "execution_count": 52,
   "outputs": [
    {
     "data": {
      "text/plain": "deque([1, 2, 3, 4, 5])"
     },
     "execution_count": 52,
     "metadata": {},
     "output_type": "execute_result"
    }
   ],
   "source": [
    "from collections import deque\n",
    "\n",
    "numbers = deque([1, 2])\n",
    "\n",
    "# Extend to the right\n",
    "numbers.extend([3, 4, 5])\n",
    "numbers"
   ],
   "metadata": {
    "collapsed": false,
    "ExecuteTime": {
     "end_time": "2024-11-26T06:37:38.787564600Z",
     "start_time": "2024-11-26T06:37:38.781789400Z"
    }
   },
   "id": "f1918a9a0670a3a0"
  },
  {
   "cell_type": "code",
   "execution_count": 53,
   "outputs": [
    {
     "data": {
      "text/plain": "deque([-5, -4, -3, -2, -1, 1, 2, 3, 4, 5])"
     },
     "execution_count": 53,
     "metadata": {},
     "output_type": "execute_result"
    }
   ],
   "source": [
    "# Extend to the left\n",
    "numbers.extendleft([-1, -2, -3, -4, -5])\n",
    "numbers"
   ],
   "metadata": {
    "collapsed": false,
    "ExecuteTime": {
     "end_time": "2024-11-26T06:37:56.173862400Z",
     "start_time": "2024-11-26T06:37:56.167729400Z"
    }
   },
   "id": "5b6758e24ec4b3e8"
  },
  {
   "cell_type": "markdown",
   "source": [
    "Calling .extendleft() with an iterable extends the target deque to the left. Internally, .extendleft() performs a series of individual .appendleft() operations that process the input iterable from left to right. This ends up adding the items in reverse order to the left end of the target deque."
   ],
   "metadata": {
    "collapsed": false
   },
   "id": "564eefbd3f2d40a7"
  },
  {
   "cell_type": "markdown",
   "source": [
    "Here are a few examples of other actions you can perform on deque objects:"
   ],
   "metadata": {
    "collapsed": false
   },
   "id": "b3a704b2cb4174c2"
  },
  {
   "cell_type": "code",
   "execution_count": 54,
   "outputs": [
    {
     "data": {
      "text/plain": "deque([1, 2, 2, 3, 4, 4, 5, 6, 7, 8])"
     },
     "execution_count": 54,
     "metadata": {},
     "output_type": "execute_result"
    }
   ],
   "source": [
    "from collections import deque\n",
    "\n",
    "numbers = deque([1, 2, 2, 3, 4, 4, 5])\n",
    "\n",
    "# Concatenation\n",
    "numbers + deque([6, 7, 8])"
   ],
   "metadata": {
    "collapsed": false,
    "ExecuteTime": {
     "end_time": "2024-11-26T06:41:05.460501100Z",
     "start_time": "2024-11-26T06:41:05.454803400Z"
    }
   },
   "id": "899bc4eb7d9fba95"
  },
  {
   "cell_type": "code",
   "execution_count": 55,
   "outputs": [
    {
     "data": {
      "text/plain": "deque([1, 2, 2, 3, 4, 4, 5, 1, 2, 2, 3, 4, 4, 5])"
     },
     "execution_count": 55,
     "metadata": {},
     "output_type": "execute_result"
    }
   ],
   "source": [
    "# Repetition\n",
    "numbers * 2"
   ],
   "metadata": {
    "collapsed": false,
    "ExecuteTime": {
     "end_time": "2024-11-26T06:41:15.870450400Z",
     "start_time": "2024-11-26T06:41:15.864581Z"
    }
   },
   "id": "8302dfbcf72edd55"
  },
  {
   "cell_type": "code",
   "execution_count": 56,
   "outputs": [
    {
     "data": {
      "text/plain": "1"
     },
     "execution_count": 56,
     "metadata": {},
     "output_type": "execute_result"
    }
   ],
   "source": [
    "# Common sequence methods\n",
    "numbers = deque([1, 2, 2, 3, 4, 4, 5])\n",
    "numbers.index(2)"
   ],
   "metadata": {
    "collapsed": false,
    "ExecuteTime": {
     "end_time": "2024-11-26T06:41:27.172875800Z",
     "start_time": "2024-11-26T06:41:27.165685300Z"
    }
   },
   "id": "4b6c6ffa2552ccf7"
  },
  {
   "cell_type": "code",
   "execution_count": 57,
   "outputs": [
    {
     "data": {
      "text/plain": "2"
     },
     "execution_count": 57,
     "metadata": {},
     "output_type": "execute_result"
    }
   ],
   "source": [
    "numbers.count(4)"
   ],
   "metadata": {
    "collapsed": false,
    "ExecuteTime": {
     "end_time": "2024-11-26T06:41:33.159260300Z",
     "start_time": "2024-11-26T06:41:33.151490200Z"
    }
   },
   "id": "e67be69749878208"
  },
  {
   "cell_type": "code",
   "execution_count": 58,
   "outputs": [
    {
     "data": {
      "text/plain": "deque([5, 4, 4, 3, 2, 2, 1])"
     },
     "execution_count": 58,
     "metadata": {},
     "output_type": "execute_result"
    }
   ],
   "source": [
    "# Common mutable sequence methods\n",
    "numbers.reverse()\n",
    "numbers"
   ],
   "metadata": {
    "collapsed": false,
    "ExecuteTime": {
     "end_time": "2024-11-26T06:42:41.762552400Z",
     "start_time": "2024-11-26T06:42:41.754543100Z"
    }
   },
   "id": "7447f6d58a916521"
  },
  {
   "cell_type": "code",
   "execution_count": 59,
   "outputs": [
    {
     "data": {
      "text/plain": "deque([])"
     },
     "execution_count": 59,
     "metadata": {},
     "output_type": "execute_result"
    }
   ],
   "source": [
    "numbers.clear()\n",
    "numbers"
   ],
   "metadata": {
    "collapsed": false,
    "ExecuteTime": {
     "end_time": "2024-11-26T06:42:48.145252Z",
     "start_time": "2024-11-26T06:42:48.139410Z"
    }
   },
   "id": "b1f4b48bd2ac3491"
  },
  {
   "cell_type": "code",
   "execution_count": 60,
   "outputs": [
    {
     "data": {
      "image/png": "[encoded data removed]",
      "text/plain": "<IPython.core.display.Image object>"
     },
     "metadata": {},
     "output_type": "display_data"
    }
   ],
   "source": [
    "picture('вапвапБез имени.png')"
   ],
   "metadata": {
    "collapsed": false,
    "ExecuteTime": {
     "end_time": "2024-11-26T06:43:31.620870400Z",
     "start_time": "2024-11-26T06:43:31.611824700Z"
    }
   },
   "id": "ba3f2fb6fe973a4c"
  },
  {
   "cell_type": "markdown",
   "source": [
    "Unlike lists, deques don’t include a .sort() method to sort the sequence in place. This is because sorting a linked list would be an inefficient operation. If you ever need to sort a deque, then you can still use sorted()."
   ],
   "metadata": {
    "collapsed": false
   },
   "id": "9157fce805574c1c"
  }
 ],
 "metadata": {
  "kernelspec": {
   "display_name": "Python 3",
   "language": "python",
   "name": "python3"
  },
  "language_info": {
   "codemirror_mode": {
    "name": "ipython",
    "version": 2
   },
   "file_extension": ".py",
   "mimetype": "text/x-python",
   "name": "python",
   "nbconvert_exporter": "python",
   "pygments_lexer": "ipython2",
   "version": "2.7.6"
  }
 },
 "nbformat": 4,
 "nbformat_minor": 5
}
