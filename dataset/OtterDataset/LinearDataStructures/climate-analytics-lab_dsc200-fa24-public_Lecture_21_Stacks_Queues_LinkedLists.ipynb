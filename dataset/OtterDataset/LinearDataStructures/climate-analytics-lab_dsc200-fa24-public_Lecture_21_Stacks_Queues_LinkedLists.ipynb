{
 "cells": [
  {
   "cell_type": "markdown",
   "id": "226a7bf6",
   "metadata": {
    "slideshow": {
     "slide_type": "slide"
    }
   },
   "source": [
    "# Lecture 21: Stacks, Queues, and Linked Lists"
   ]
  },
  {
   "cell_type": "markdown",
   "id": "7652ba6b",
   "metadata": {
    "slideshow": {
     "slide_type": "subslide"
    }
   },
   "source": [
    "Data structures hold collections of data, forming specific shapes, for example: \n",
    " - list, tree, table, graph\n",
    "\n",
    " Depending on the types of tasks you want to perform, you may choose one data structure over another.\n",
    "\n",
    " We will start with the basic data structures: Stacks, Queues, and Linked Lists. These are classic data structures that are used in many applications."
   ]
  },
  {
   "cell_type": "markdown",
   "id": "edf3c444",
   "metadata": {
    "slideshow": {
     "slide_type": "subslide"
    }
   },
   "source": [
    "# Abstract Data Types (ADTs)"
   ]
  },
  {
   "cell_type": "markdown",
   "id": "68b4c690",
   "metadata": {},
   "source": [
    "An Abstract Data Type (ADT) is a type or class for objects whose behavior is defined by a set of value and a *set of operations*.\n",
    "\n",
    "They are often defined as a class in programming. "
   ]
  },
  {
   "cell_type": "markdown",
   "id": "387efca0",
   "metadata": {
    "slideshow": {
     "slide_type": "subslide"
    }
   },
   "source": [
    "# Stacks"
   ]
  },
  {
   "cell_type": "markdown",
   "id": "5339aeda",
   "metadata": {
    "slideshow": {
     "slide_type": "fragment"
    }
   },
   "source": [
    "A stack is a linear data structure with a single access point (top). It is a collection of objects that follow the Last-In-First-Out (LIFO) principle.\n",
    "\n",
    "\n",
    "### Operations\n",
    "- `push(obj)`: Adds an object to the top of the stack.\n",
    "- `pop()`: Removes and returns the top object.\n",
    "- `peek()`: Returns the top object without removing it."
   ]
  },
  {
   "cell_type": "markdown",
   "id": "da361c36",
   "metadata": {
    "slideshow": {
     "slide_type": "subslide"
    }
   },
   "source": [
    "Abstract Data Type (ADT) for a stack:\n",
    "\n",
    "```python\n",
    "class Stack:\n",
    "\n",
    "    def push(self, obj):\n",
    "        # Adds an object to the top of the stack\n",
    "        pass\n",
    "\n",
    "    def pop(self):\n",
    "        # Removes and returns the top object and returns it\n",
    "        pass\n",
    "\n",
    "    def peek(self):\n",
    "        # Returns the top object without removing it\n",
    "        pass\n",
    "```"
   ]
  },
  {
   "cell_type": "markdown",
   "id": "edcc0bfc",
   "metadata": {
    "slideshow": {
     "slide_type": "subslide"
    }
   },
   "source": [
    "**Exercise**: Implement a stack using a list."
   ]
  },
  {
   "cell_type": "markdown",
   "id": "8248a5bc",
   "metadata": {
    "slideshow": {
     "slide_type": "subslide"
    }
   },
   "source": [
    "### Example Implementation\n",
    "\n",
    "Be sure to test for edge cases, such as popping from an empty stack."
   ]
  },
  {
   "cell_type": "markdown",
   "id": "dbd03276",
   "metadata": {},
   "source": [
    "```python\n",
    "class Stack:\n",
    "    def __init__(self):\n",
    "        self.stack = []\n",
    "    \n",
    "    def push(self, value):\n",
    "        self.stack.append(value)\n",
    "    \n",
    "    def pop(self):\n",
    "        if not self.stack:\n",
    "            return \"Stack is empty\"\n",
    "        return self.stack.pop()\n",
    "    \n",
    "    def peek(self):\n",
    "        if not self.stack:\n",
    "            return \"Stack is empty\"\n",
    "        return self.stack[-1]\n",
    "    \n",
    "    def display(self):\n",
    "        return self.stack\n",
    "```"
   ]
  },
  {
   "cell_type": "markdown",
   "id": "15b47aea",
   "metadata": {
    "slideshow": {
     "slide_type": "subslide"
    }
   },
   "source": [
    "### Stacks\n",
    "**What is the correct output sequence for the stack operations?**\n",
    "- Operations: Push (10, 20, 30, 0, -30), Pop (5 times)\n",
    "\n",
    "- Options:\n",
    "  - A: 10, 20, 30, 0, -30\n",
    "  - B: -30, 0, 10, 20, 30\n",
    "  - C: 30, 10, 20, 0, -30\n",
    "  - D: -30, 0, 30, 20, 10\n",
    "  - E: 0, 30, -30, 10, 20"
   ]
  },
  {
   "cell_type": "markdown",
   "id": "ab617cf1",
   "metadata": {},
   "source": [
    "### Applications"
   ]
  },
  {
   "cell_type": "markdown",
   "id": "362f851a",
   "metadata": {},
   "source": [
    "```python\n",
    "from Stack import Stack\n",
    "\n",
    "class TextEditor:\n",
    "    def __init__(self):\n",
    "        self.editHistory = Stack()\n",
    "        self.currentText = \"\"\n",
    "\n",
    "    def edit(self, text):\n",
    "        self.editHistory.push(self.currentText)\n",
    "        self.currentText = text\n",
    "\n",
    "    def undo(self):\n",
    "        self.currentText = self.editHistory.pop()\n",
    "\n",
    "    def show_current_text(self):\n",
    "        print(self.currentText)\n",
    "\n",
    "    def show_history(self):\n",
    "        print(self.editHistory.display())\n",
    "```"
   ]
  },
  {
   "cell_type": "markdown",
   "id": "be28c641",
   "metadata": {
    "slideshow": {
     "slide_type": "slide"
    }
   },
   "source": [
    "# Queues"
   ]
  },
  {
   "cell_type": "markdown",
   "id": "380d3500",
   "metadata": {
    "slideshow": {
     "slide_type": "fragment"
    }
   },
   "source": [
    "A queue is, as the name suggests, a linear data structure with two access points (front and rear). It is a collection of objects that follow the First-In-First-Out (FIFO) principle.\n",
    "\n",
    "### Operations\n",
    "- `enqueue(obj)`: Adds an object to the rear.\n",
    "- `dequeue()`: Removes and returns the object at the front.\n",
    "- `peek()`: Returns the object at the front without removing it.\n"
   ]
  },
  {
   "cell_type": "markdown",
   "id": "ee1a3f4e",
   "metadata": {
    "slideshow": {
     "slide_type": "subslide"
    }
   },
   "source": [
    "### Comparison of Stack vs Queue\n",
    "| Feature | Stack | Queue |\n",
    "|---------|-------|-------|\n",
    "| Access  | Single (Top) | Two (Front, Rear) |\n",
    "| Behavior| LIFO | FIFO |\n",
    "| Functions| push, pop, peek | enqueue, dequeue, peek |"
   ]
  },
  {
   "cell_type": "markdown",
   "id": "4fdb34ce",
   "metadata": {
    "slideshow": {
     "slide_type": "subslide"
    }
   },
   "source": [
    "Example implementation of a queue using a list:\n",
    "\n",
    "```python\n",
    "class Queue:\n",
    "    def __init__(self):\n",
    "        self.queue = []\n",
    "    \n",
    "    def enqueue(self, value):\n",
    "        self.queue.append(value)\n",
    "    \n",
    "    def dequeue(self):\n",
    "        if not self.queue:\n",
    "            return \"Queue is empty\"\n",
    "        return self.queue.pop(0)\n",
    "    \n",
    "    def peek(self):\n",
    "        if not self.queue:\n",
    "            return \"Queue is empty\"\n",
    "        return self.queue[0]\n",
    "    \n",
    "    def display(self):\n",
    "        return self.queue\n",
    "```"
   ]
  },
  {
   "cell_type": "markdown",
   "id": "65d4c37c",
   "metadata": {
    "slideshow": {
     "slide_type": "subslide"
    }
   },
   "source": [
    "# Linked Lists\n",
    "\n",
    "A linked list is a linear data structure where each element is a separate object called a node. Each node has two parts: data and a reference to the next node in the sequence."
   ]
  },
  {
   "cell_type": "markdown",
   "id": "f3a5a10b",
   "metadata": {
    "slideshow": {
     "slide_type": "fragment"
    }
   },
   "source": [
    "Unlike arrays, linked lists are dynamic and can grow or shrink as needed. This makes them particularly useful for applications where the number of elements is unknown."
   ]
  },
  {
   "cell_type": "markdown",
   "id": "232f9fa6",
   "metadata": {
    "slideshow": {
     "slide_type": "subslide"
    }
   },
   "source": [
    "For example, given an array of integers: `[1, 2, 3, 4, 5]`, if you want to insert a new element `6` between `3` and `4`, you would need to shift all elements to the right. \n",
    "\n",
    "This requires re-allocating memory and copying elements, which can be slow and inefficient."
   ]
  },
  {
   "cell_type": "markdown",
   "id": "cacdebbc",
   "metadata": {
    "slideshow": {
     "slide_type": "subslide"
    }
   },
   "source": [
    "On the otherhand, with a linked list, you can simply update the references of the nodes to insert the new element. An example of a linked list with three nodes:\n",
    "\n",
    "```\n",
    "Node 1: data -> 5, next -> Node 2\n",
    "Node 2: data -> 10, next -> Node 3\n",
    "Node 3: data -> 15, next -> None\n",
    "```"
   ]
  },
  {
   "cell_type": "markdown",
   "id": "2caf921c",
   "metadata": {
    "slideshow": {
     "slide_type": "subslide"
    }
   },
   "source": [
    "The downside is that linked lists require more memory than arrays because of the additional memory used by the pointers.\n",
    "\n",
    "You are also unable to access elements by index, as you can with arrays. You must traverse the list from the beginning to find the desired element.\n"
   ]
  },
  {
   "cell_type": "markdown",
   "id": "7f2de37e",
   "metadata": {
    "slideshow": {
     "slide_type": "subslide"
    }
   },
   "source": [
    "## Node Class\n"
   ]
  },
  {
   "cell_type": "code",
   "execution_count": 1,
   "id": "0578023a",
   "metadata": {},
   "outputs": [],
   "source": [
    "class Node:\n",
    "    def __init__(self, value):\n",
    "        self.value = value\n",
    "        self.next = None"
   ]
  },
  {
   "cell_type": "markdown",
   "id": "987df65b",
   "metadata": {
    "slideshow": {
     "slide_type": "subslide"
    }
   },
   "source": [
    "## Example Usage\n",
    "\n",
    "```python\n",
    "node1 = Node(5)\n",
    "node2 = Node(10)\n",
    "node2.next = node1\n",
    "```\n",
    "\n",
    "Which statement is true about the linked list?\n",
    "- A: Node 1 is the head of the linked list.\n",
    "- B: Node 2 is the head of the linked list.\n",
    "- C: Node 1 has value 10.\n",
    "- D: Node 2 has value 5.\n"
   ]
  },
  {
   "cell_type": "markdown",
   "id": "ca8d96e9",
   "metadata": {
    "slideshow": {
     "slide_type": "subslide"
    }
   },
   "source": [
    "## Example LL Implementation"
   ]
  },
  {
   "cell_type": "markdown",
   "id": "4d4ab300",
   "metadata": {},
   "source": [
    "A linked list is a collection of nodes, the list itself only contains a reference to the first node (head). The last node in the list points to `None`."
   ]
  },
  {
   "cell_type": "code",
   "execution_count": 3,
   "id": "52fe5461",
   "metadata": {},
   "outputs": [],
   "source": [
    "class LinkedList:\n",
    "    def __init__(self):\n",
    "        self.head = None\n"
   ]
  },
  {
   "cell_type": "code",
   "execution_count": 4,
   "id": "83be3d47",
   "metadata": {
    "slideshow": {
     "slide_type": "subslide"
    }
   },
   "outputs": [],
   "source": [
    "class LinkedList:\n",
    "    def __init__(self):\n",
    "        self.head = None\n",
    "\n",
    "    def add_front(self, value):\n",
    "        new_node = Node(value)\n",
    "        new_node.next = self.head\n",
    "        self.head = new_node\n"
   ]
  },
  {
   "cell_type": "code",
   "execution_count": 5,
   "id": "4e2132fc",
   "metadata": {
    "slideshow": {
     "slide_type": "subslide"
    }
   },
   "outputs": [],
   "source": [
    "class LinkedList:\n",
    "    def __init__(self):\n",
    "        self.head = None\n",
    "\n",
    "    def add_front(self, value):\n",
    "        new_node = Node(value)\n",
    "        new_node.next = self.head\n",
    "        self.head = new_node\n",
    "\n",
    "    def add_end(self, value):\n",
    "        new_node = Node(value)\n",
    "        if not self.head:\n",
    "            self.head = new_node\n",
    "        else:\n",
    "            temp = self.head\n",
    "            while temp.next:\n",
    "                temp = temp.next\n",
    "            temp.next = new_node\n"
   ]
  },
  {
   "cell_type": "code",
   "execution_count": 2,
   "id": "b7fad02c",
   "metadata": {
    "slideshow": {
     "slide_type": "subslide"
    }
   },
   "outputs": [],
   "source": [
    "class LinkedList:\n",
    "    def __init__(self):\n",
    "        self.head = None\n",
    "\n",
    "    def add_front(self, value):\n",
    "        new_node = Node(value)\n",
    "        new_node.next = self.head\n",
    "        self.head = new_node\n",
    "\n",
    "    def add_end(self, value):\n",
    "        new_node = Node(value)\n",
    "        if not self.head:\n",
    "            self.head = new_node\n",
    "        else:\n",
    "            temp = self.head\n",
    "            while temp.next:\n",
    "                temp = temp.next\n",
    "            temp.next = new_node\n",
    "\n",
    "    def display(self):\n",
    "        current = self.head\n",
    "        while current:\n",
    "            print(current.value, end=\" -> \")\n",
    "            current = current.next\n",
    "        print(\"None\")\n"
   ]
  },
  {
   "cell_type": "markdown",
   "id": "940d0e53",
   "metadata": {
    "slideshow": {
     "slide_type": "slide"
    }
   },
   "source": [
    "# Exercises"
   ]
  },
  {
   "cell_type": "markdown",
   "id": "49ad5711",
   "metadata": {},
   "source": [
    "Add a new method to the linked list class that returns the length of the linked list, and another that deletes the head node.\n",
    "\n"
   ]
  },
  {
   "cell_type": "code",
   "execution_count": null,
   "id": "5e2d313b",
   "metadata": {},
   "outputs": [],
   "source": []
  }
 ],
 "metadata": {
  "celltoolbar": "Slideshow",
  "kernelspec": {
   "display_name": "Python 3 (ipykernel)",
   "language": "python",
   "name": "python3"
  },
  "language_info": {
   "codemirror_mode": {
    "name": "ipython",
    "version": 3
   },
   "file_extension": ".py",
   "mimetype": "text/x-python",
   "name": "python",
   "nbconvert_exporter": "python",
   "pygments_lexer": "ipython3",
   "version": "3.9.20"
  }
 },
 "nbformat": 4,
 "nbformat_minor": 5
}
