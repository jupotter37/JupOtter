{
 "cells": [
  {
   "cell_type": "markdown",
   "id": "variable-garbage",
   "metadata": {},
   "source": [
    "# Graph Algorithms (BFS, DFS, Shortest Paths) using Python\n",
    "\n",
    "### Part 5 of \"Data Structures and Algorithms in Python\"\n",
    "\n",
    "[Data Structures and Algorithms in Python](https://jovian.ai/learn/data-structures-and-algorithms-in-python) is a beginner-friendly introduction to common data structures (linked lists, stacks, queues, graphs) and algorithms (search, sorting, recursion, dynamic programming) in Python, designed to help you prepare for coding interviews and assessments. \n",
    "\n",
    "Ask questions, get help & participate in discussions on the [course community forum](https://jovian.ai/forum/c/data-structures-and-algorithms-in-python/78). Earn a verified certificate of accomplishment for this course by signing up here: http://pythondsa.com.  \n",
    "\n"
   ]
  },
  {
   "cell_type": "markdown",
   "id": "acceptable-clearance",
   "metadata": {},
   "source": [
    "### How to Run the Code\n",
    "\n",
    "The best way to learn the material is to execute the code and experiment with it yourself. This tutorial is an executable [Jupyter notebook](https://jupyter.org). You can _run_ this tutorial and experiment with the code examples in a couple of ways: *using free online resources* (recommended) or *on your computer*.\n",
    "\n",
    "#### Option 1: Running using free online resources (1-click, recommended)\n",
    "\n",
    "The easiest way to start executing the code is to click the **Run** button at the top of this page and select **Run on Binder**. You can also select \"Run on Colab\" or \"Run on Kaggle\", but you'll need to create an account on [Google Colab](https://colab.research.google.com) or [Kaggle](https://kaggle.com) to use these platforms.\n",
    "\n",
    "\n",
    "#### Option 2: Running on your computer locally\n",
    "\n",
    "To run the code on your computer locally, you'll need to set up [Python](https://www.python.org), download the notebook and install the required libraries. We recommend using the [Conda](https://docs.conda.io/projects/conda/en/latest/user-guide/install/) distribution of Python. Click the **Run** button at the top of this page, select the **Run Locally** option, and follow the instructions.\n",
    "\n"
   ]
  },
  {
   "cell_type": "markdown",
   "id": "polyphonic-brisbane",
   "metadata": {},
   "source": [
    "## Graphs in the Real World\n",
    "\n",
    "### Railway network\n",
    "\n",
    "![](https://i.imgur.com/uSF6AEJ.png)\n",
    "\n",
    "### Flight routes\n",
    "\n",
    "![](https://www.mapsales.com/products/mapsofworld/images/zoom/world-air-route-wall-map.gif)\n",
    "\n",
    "### Hyperlinks\n",
    "\n",
    "![](https://i.imgur.com/hlGDYn2.png)"
   ]
  },
  {
   "cell_type": "markdown",
   "id": "stretch-superior",
   "metadata": {},
   "source": [
    "## Graph Data Structure\n",
    "\n",
    "![](https://i.imgur.com/xkgMnwx.png)\n",
    "\n"
   ]
  },
  {
   "cell_type": "code",
   "execution_count": 7,
   "id": "ca33bf42",
   "metadata": {},
   "outputs": [
    {
     "data": {
      "text/plain": [
       "[[1], [1], [1], [1], [1], [1], [1], [1], [1], [1]]"
      ]
     },
     "execution_count": 7,
     "metadata": {},
     "output_type": "execute_result"
    }
   ],
   "source": [
    "# do not use this method to create empty lists\n",
    "l1 = [[]] * 10\n",
    "l1\n",
    "l1[0].append(1)\n",
    "l1"
   ]
  },
  {
   "cell_type": "code",
   "execution_count": 8,
   "id": "99ad7bd5",
   "metadata": {
    "scrolled": false
   },
   "outputs": [],
   "source": [
    "# use this method \n",
    "l2 = [[] for __ in range(10)]  # use __ if item not being used"
   ]
  },
  {
   "cell_type": "code",
   "execution_count": 9,
   "id": "c3b27dd5",
   "metadata": {},
   "outputs": [
    {
     "data": {
      "text/plain": [
       "[[1], [], [], [], [], [], [], [], [], []]"
      ]
     },
     "execution_count": 9,
     "metadata": {},
     "output_type": "execute_result"
    }
   ],
   "source": [
    "l2[0].append(1)\n",
    "l2"
   ]
  },
  {
   "cell_type": "code",
   "execution_count": 4,
   "id": "settled-medicaid",
   "metadata": {},
   "outputs": [],
   "source": [
    "num_nodes = 5\n",
    "edges = [(0, 1), (0, 4), (1, 2), (1, 3), (1, 4), (2, 3), (3, 4)]"
   ]
  },
  {
   "cell_type": "code",
   "execution_count": 11,
   "id": "28bd8745",
   "metadata": {},
   "outputs": [
    {
     "data": {
      "text/plain": [
       "(5, 7)"
      ]
     },
     "execution_count": 11,
     "metadata": {},
     "output_type": "execute_result"
    }
   ],
   "source": [
    "num_nodes, len(edges)"
   ]
  },
  {
   "cell_type": "markdown",
   "id": "white-outdoors",
   "metadata": {},
   "source": [
    "### Adjacency Lists\n",
    "\n",
    "![](https://i.imgur.com/rgMwkIW.png)\n",
    "\n",
    "\n",
    "> **Question**: Create a class to represent a graph as an adjacency list in Python"
   ]
  },
  {
   "cell_type": "code",
   "execution_count": 12,
   "id": "premium-prison",
   "metadata": {},
   "outputs": [],
   "source": [
    "class Graph:\n",
    "    def __init__(self, num_nodes, edges):\n",
    "        self.num_nodes = num_nodes\n",
    "        self.data = [[] for __ in range(num_nodes)]\n",
    "        for e1, e2 in edges:\n",
    "            print('e1:', e1, 'e2:', e2)\n",
    "            self.data[e1].append(e2)\n",
    "            self.data[e2].append(e1)\n",
    "    \n",
    "    def __repr__(self):\n",
    "        return '\\n'.join(['{}: {}'.format(n, neighbors) for n, neighbors in enumerate(self.data)])\n",
    "    \n",
    "    def __str__(self):\n",
    "        return self.__repr__()"
   ]
  },
  {
   "cell_type": "code",
   "execution_count": 13,
   "id": "improving-section",
   "metadata": {
    "scrolled": false
   },
   "outputs": [
    {
     "name": "stdout",
     "output_type": "stream",
     "text": [
      "e1: 0 e2: 1\n",
      "e1: 0 e2: 4\n",
      "e1: 1 e2: 2\n",
      "e1: 1 e2: 3\n",
      "e1: 1 e2: 4\n",
      "e1: 2 e2: 3\n",
      "e1: 3 e2: 4\n"
     ]
    },
    {
     "data": {
      "text/plain": [
       "[[1, 4], [0, 2, 3, 4], [1, 3], [1, 2, 4], [0, 1, 3]]"
      ]
     },
     "execution_count": 13,
     "metadata": {},
     "output_type": "execute_result"
    }
   ],
   "source": [
    "graph1 = Graph(num_nodes, edges)\n",
    "graph1.data"
   ]
  },
  {
   "cell_type": "code",
   "execution_count": 14,
   "id": "speaking-routine",
   "metadata": {},
   "outputs": [
    {
     "name": "stdout",
     "output_type": "stream",
     "text": [
      "0 5\n",
      "1 3\n",
      "2 4\n",
      "3 1\n"
     ]
    }
   ],
   "source": [
    "# what does ennumerate do?\n",
    "for i, val in enumerate([5, 3, 4, 1]):\n",
    "    print (i, val)"
   ]
  },
  {
   "cell_type": "code",
   "execution_count": 15,
   "id": "viral-pendant",
   "metadata": {
    "scrolled": true
   },
   "outputs": [
    {
     "data": {
      "text/plain": [
       "0: [1, 4]\n",
       "1: [0, 2, 3, 4]\n",
       "2: [1, 3]\n",
       "3: [1, 2, 4]\n",
       "4: [0, 1, 3]"
      ]
     },
     "execution_count": 15,
     "metadata": {},
     "output_type": "execute_result"
    }
   ],
   "source": [
    "graph1"
   ]
  },
  {
   "cell_type": "markdown",
   "id": "english-action",
   "metadata": {},
   "source": [
    "> **Question**: Write a function to add an edge to a graph represented as an adjacency list. \n",
    "\n",
    "> **Question**: Write a function to remove an edge from a graph represented as a adjacency list.\n"
   ]
  },
  {
   "cell_type": "code",
   "execution_count": 16,
   "id": "64d223cc",
   "metadata": {},
   "outputs": [],
   "source": [
    "class Graph:\n",
    "    def __init__(self, num_nodes, edges):\n",
    "        self.num_nodes = num_nodes\n",
    "        self.data = [[] for __ in range(num_nodes)]\n",
    "        for e1, e2 in edges:\n",
    "            print('e1:', e1, 'e2:', e2)\n",
    "            self.data[e1].append(e2)\n",
    "            self.data[e2].append(e1)\n",
    "    \n",
    "    # function to add an edge\n",
    "    def add_edge(self, edge):\n",
    "        e1, e2 = edge\n",
    "#         print('e1:', e1, 'e2:', e2)\n",
    "        if e2 in self.data[e1] and e1 in self.data[e2]:\n",
    "            print('edge not added')\n",
    "            return\n",
    "        self.data[e1].append(e2)\n",
    "        self.data[e2].append(e1)\n",
    "        # for testing\n",
    "        print('edge added')\n",
    "        return e1, e2\n",
    "    \n",
    "    # function to remove an edge\n",
    "    def remove_edge(self, edge):\n",
    "        e1, e2 = edge\n",
    "#         print('e1:', e1, 'e2:', e2)\n",
    "        if e2 in self.data[e1] and e1 in self.data[e2]:\n",
    "            self.data[e1].remove(e2)\n",
    "            self.data[e2].remove(e1)\n",
    "            return e1, e2\n",
    "    \n",
    "    def __repr__(self):\n",
    "        return '\\n'.join(['{}: {}'.format(n, neighbors) for n, neighbors in enumerate(self.data)])\n",
    "    \n",
    "    def __str__(self):\n",
    "        return self.__repr__()"
   ]
  },
  {
   "cell_type": "code",
   "execution_count": 17,
   "id": "1617b9b8",
   "metadata": {
    "scrolled": true
   },
   "outputs": [
    {
     "name": "stdout",
     "output_type": "stream",
     "text": [
      "e1: 0 e2: 1\n",
      "e1: 0 e2: 4\n",
      "e1: 1 e2: 2\n",
      "e1: 1 e2: 3\n",
      "e1: 1 e2: 4\n",
      "e1: 2 e2: 3\n",
      "e1: 3 e2: 4\n"
     ]
    }
   ],
   "source": [
    "graph1 = Graph(num_nodes, edges)"
   ]
  },
  {
   "cell_type": "code",
   "execution_count": 18,
   "id": "00f4e59e",
   "metadata": {},
   "outputs": [],
   "source": [
    "from jovian.pythondsa import evaluate_test_cases"
   ]
  },
  {
   "cell_type": "code",
   "execution_count": 19,
   "id": "583549b1",
   "metadata": {},
   "outputs": [],
   "source": [
    "test0 = {\n",
    "    'input': {\n",
    "        'edge': (1, 4)\n",
    "    },\n",
    "    'output': None\n",
    "}\n",
    "\n",
    "test1 = {\n",
    "    'input': {\n",
    "        'edge': (0, 3)\n",
    "    },\n",
    "    'output': (0, 3)\n",
    "}\n",
    "\n",
    "test2 = {\n",
    "    'input': {\n",
    "        'edge': (1, 3)\n",
    "    },\n",
    "    'output': None\n",
    "}\n",
    "\n",
    "test3 = {\n",
    "    'input': {\n",
    "        'edge': (4, 2)\n",
    "    },\n",
    "    'output': (4, 2)\n",
    "}\n",
    "\n",
    "test4 = {\n",
    "    'input': {\n",
    "        'edge': (3, 2)\n",
    "    },\n",
    "    'output': None\n",
    "}"
   ]
  },
  {
   "cell_type": "code",
   "execution_count": 20,
   "id": "8ba60c8a",
   "metadata": {},
   "outputs": [],
   "source": [
    "tests = [test0, test1, test2, test3, test4]"
   ]
  },
  {
   "cell_type": "code",
   "execution_count": 21,
   "id": "c6f8af1b",
   "metadata": {},
   "outputs": [
    {
     "name": "stdout",
     "output_type": "stream",
     "text": [
      "\n",
      "\u001b[1mTEST CASE #0\u001b[0m\n",
      "edge not added\n",
      "\n",
      "Input:\n",
      "{'edge': (1, 4)}\n",
      "\n",
      "Expected Output:\n",
      "None\n",
      "\n",
      "\n",
      "Actual Output:\n",
      "None\n",
      "\n",
      "Execution Time:\n",
      "0.03 ms\n",
      "\n",
      "Test Result:\n",
      "\u001b[92mPASSED\u001b[0m\n",
      "\n",
      "\n",
      "\u001b[1mTEST CASE #1\u001b[0m\n",
      "edge added\n",
      "\n",
      "Input:\n",
      "{'edge': (0, 3)}\n",
      "\n",
      "Expected Output:\n",
      "(0, 3)\n",
      "\n",
      "\n",
      "Actual Output:\n",
      "(0, 3)\n",
      "\n",
      "Execution Time:\n",
      "0.027 ms\n",
      "\n",
      "Test Result:\n",
      "\u001b[92mPASSED\u001b[0m\n",
      "\n",
      "\n",
      "\u001b[1mTEST CASE #2\u001b[0m\n",
      "edge not added\n",
      "\n",
      "Input:\n",
      "{'edge': (1, 3)}\n",
      "\n",
      "Expected Output:\n",
      "None\n",
      "\n",
      "\n",
      "Actual Output:\n",
      "None\n",
      "\n",
      "Execution Time:\n",
      "0.024 ms\n",
      "\n",
      "Test Result:\n",
      "\u001b[92mPASSED\u001b[0m\n",
      "\n",
      "\n",
      "\u001b[1mTEST CASE #3\u001b[0m\n",
      "edge added\n",
      "\n",
      "Input:\n",
      "{'edge': (4, 2)}\n",
      "\n",
      "Expected Output:\n",
      "(4, 2)\n",
      "\n",
      "\n",
      "Actual Output:\n",
      "(4, 2)\n",
      "\n",
      "Execution Time:\n",
      "0.025 ms\n",
      "\n",
      "Test Result:\n",
      "\u001b[92mPASSED\u001b[0m\n",
      "\n",
      "\n",
      "\u001b[1mTEST CASE #4\u001b[0m\n",
      "edge not added\n",
      "\n",
      "Input:\n",
      "{'edge': (3, 2)}\n",
      "\n",
      "Expected Output:\n",
      "None\n",
      "\n",
      "\n",
      "Actual Output:\n",
      "None\n",
      "\n",
      "Execution Time:\n",
      "0.024 ms\n",
      "\n",
      "Test Result:\n",
      "\u001b[92mPASSED\u001b[0m\n",
      "\n",
      "\n",
      "\u001b[1mSUMMARY\u001b[0m\n",
      "\n",
      "TOTAL: 5, \u001b[92mPASSED\u001b[0m: 5, \u001b[91mFAILED\u001b[0m: 0\n"
     ]
    },
    {
     "data": {
      "text/plain": [
       "[(None, True, 0.03),\n",
       " ((0, 3), True, 0.027),\n",
       " (None, True, 0.024),\n",
       " ((4, 2), True, 0.025),\n",
       " (None, True, 0.024)]"
      ]
     },
     "execution_count": 21,
     "metadata": {},
     "output_type": "execute_result"
    }
   ],
   "source": [
    "evaluate_test_cases(graph1.add_edge, tests)"
   ]
  },
  {
   "cell_type": "code",
   "execution_count": 22,
   "id": "dd17c40c",
   "metadata": {},
   "outputs": [
    {
     "data": {
      "text/plain": [
       "0: [1, 4, 3]\n",
       "1: [0, 2, 3, 4]\n",
       "2: [1, 3, 4]\n",
       "3: [1, 2, 4, 0]\n",
       "4: [0, 1, 3, 2]"
      ]
     },
     "execution_count": 22,
     "metadata": {},
     "output_type": "execute_result"
    }
   ],
   "source": [
    "graph1"
   ]
  },
  {
   "cell_type": "code",
   "execution_count": 23,
   "id": "857a8cb2",
   "metadata": {},
   "outputs": [],
   "source": [
    "test0 = {\n",
    "    'input': {\n",
    "        'edge': (1, 4),\n",
    "    },\n",
    "    'output': (1, 4)\n",
    "}\n",
    "\n",
    "test1 = {\n",
    "    'input': {\n",
    "        'edge': (0, 3),\n",
    "    },\n",
    "    'output': (0, 3)\n",
    "}\n",
    "\n",
    "test2 = {\n",
    "    'input': {\n",
    "        'edge': (0, 3),\n",
    "    },\n",
    "    'output': None\n",
    "}\n",
    "\n",
    "test3 = {\n",
    "    'input': {\n",
    "        'edge': (4, 2),\n",
    "    },\n",
    "    'output': (4, 2)\n",
    "}\n",
    "\n",
    "test4 = {\n",
    "    'input': {\n",
    "        'edge': (3, 2),\n",
    "    },\n",
    "    'output': (3, 2)\n",
    "}\n",
    "\n",
    "test5 = {\n",
    "    'input': {\n",
    "        'edge': (2, 5),\n",
    "    },\n",
    "    'output': None\n",
    "}\n",
    "\n",
    "test6 = {\n",
    "    'input': {\n",
    "        'edge': (6, 4),\n",
    "    },\n",
    "    'output': None\n",
    "}\n",
    "\n",
    "test7 = {\n",
    "    'input': {\n",
    "        'edge': (2, 8),\n",
    "    },\n",
    "    'output': None\n",
    "}"
   ]
  },
  {
   "cell_type": "code",
   "execution_count": 24,
   "id": "f078c17a",
   "metadata": {},
   "outputs": [],
   "source": [
    "tests = [test0, test1, test2, test3, test4, test5, test6, test7]"
   ]
  },
  {
   "cell_type": "code",
   "execution_count": 25,
   "id": "3feba2c1",
   "metadata": {},
   "outputs": [
    {
     "name": "stdout",
     "output_type": "stream",
     "text": [
      "\n",
      "\u001b[1mTEST CASE #0\u001b[0m\n",
      "\n",
      "Input:\n",
      "{'edge': (1, 4)}\n",
      "\n",
      "Expected Output:\n",
      "(1, 4)\n",
      "\n",
      "\n",
      "Actual Output:\n",
      "(1, 4)\n",
      "\n",
      "Execution Time:\n",
      "0.005 ms\n",
      "\n",
      "Test Result:\n",
      "\u001b[92mPASSED\u001b[0m\n",
      "\n",
      "\n",
      "\u001b[1mTEST CASE #1\u001b[0m\n",
      "\n",
      "Input:\n",
      "{'edge': (0, 3)}\n",
      "\n",
      "Expected Output:\n",
      "(0, 3)\n",
      "\n",
      "\n",
      "Actual Output:\n",
      "(0, 3)\n",
      "\n",
      "Execution Time:\n",
      "0.005 ms\n",
      "\n",
      "Test Result:\n",
      "\u001b[92mPASSED\u001b[0m\n",
      "\n",
      "\n",
      "\u001b[1mTEST CASE #2\u001b[0m\n",
      "\n",
      "Input:\n",
      "{'edge': (0, 3)}\n",
      "\n",
      "Expected Output:\n",
      "None\n",
      "\n",
      "\n",
      "Actual Output:\n",
      "None\n",
      "\n",
      "Execution Time:\n",
      "0.003 ms\n",
      "\n",
      "Test Result:\n",
      "\u001b[92mPASSED\u001b[0m\n",
      "\n",
      "\n",
      "\u001b[1mTEST CASE #3\u001b[0m\n",
      "\n",
      "Input:\n",
      "{'edge': (4, 2)}\n",
      "\n",
      "Expected Output:\n",
      "(4, 2)\n",
      "\n",
      "\n",
      "Actual Output:\n",
      "(4, 2)\n",
      "\n",
      "Execution Time:\n",
      "0.004 ms\n",
      "\n",
      "Test Result:\n",
      "\u001b[92mPASSED\u001b[0m\n",
      "\n",
      "\n",
      "\u001b[1mTEST CASE #4\u001b[0m\n",
      "\n",
      "Input:\n",
      "{'edge': (3, 2)}\n",
      "\n",
      "Expected Output:\n",
      "(3, 2)\n",
      "\n",
      "\n",
      "Actual Output:\n",
      "(3, 2)\n",
      "\n",
      "Execution Time:\n",
      "0.003 ms\n",
      "\n",
      "Test Result:\n",
      "\u001b[92mPASSED\u001b[0m\n",
      "\n",
      "\n",
      "\u001b[1mTEST CASE #5\u001b[0m\n",
      "\n",
      "Input:\n",
      "{'edge': (2, 5)}\n",
      "\n",
      "Expected Output:\n",
      "None\n",
      "\n",
      "\n",
      "Actual Output:\n",
      "None\n",
      "\n",
      "Execution Time:\n",
      "0.003 ms\n",
      "\n",
      "Test Result:\n",
      "\u001b[92mPASSED\u001b[0m\n",
      "\n",
      "\n",
      "\u001b[1mTEST CASE #6\u001b[0m\n"
     ]
    },
    {
     "ename": "IndexError",
     "evalue": "list index out of range",
     "output_type": "error",
     "traceback": [
      "\u001b[0;31m---------------------------------------------------------------------------\u001b[0m",
      "\u001b[0;31mIndexError\u001b[0m                                Traceback (most recent call last)",
      "\u001b[0;32m/tmp/ipykernel_38/4030728734.py\u001b[0m in \u001b[0;36m<module>\u001b[0;34m\u001b[0m\n\u001b[0;32m----> 1\u001b[0;31m \u001b[0mevaluate_test_cases\u001b[0m\u001b[0;34m(\u001b[0m\u001b[0mgraph1\u001b[0m\u001b[0;34m.\u001b[0m\u001b[0mremove_edge\u001b[0m\u001b[0;34m,\u001b[0m \u001b[0mtests\u001b[0m\u001b[0;34m)\u001b[0m\u001b[0;34m\u001b[0m\u001b[0;34m\u001b[0m\u001b[0m\n\u001b[0m",
      "\u001b[0;32m/opt/conda/lib/python3.9/site-packages/jovian/pythondsa/__init__.py\u001b[0m in \u001b[0;36mevaluate_test_cases\u001b[0;34m(function, test_cases, error_only, summary_only)\u001b[0m\n\u001b[1;32m     85\u001b[0m         \u001b[0;32mif\u001b[0m \u001b[0;32mnot\u001b[0m \u001b[0merror_only\u001b[0m\u001b[0;34m:\u001b[0m\u001b[0;34m\u001b[0m\u001b[0;34m\u001b[0m\u001b[0m\n\u001b[1;32m     86\u001b[0m             \u001b[0mprint\u001b[0m\u001b[0;34m(\u001b[0m\u001b[0;34m\"\\n\\033[1mTEST CASE #{}\\033[0m\"\u001b[0m\u001b[0;34m.\u001b[0m\u001b[0mformat\u001b[0m\u001b[0;34m(\u001b[0m\u001b[0mi\u001b[0m\u001b[0;34m)\u001b[0m\u001b[0;34m)\u001b[0m\u001b[0;34m\u001b[0m\u001b[0;34m\u001b[0m\u001b[0m\n\u001b[0;32m---> 87\u001b[0;31m         \u001b[0mresult\u001b[0m \u001b[0;34m=\u001b[0m \u001b[0mevaluate_test_case\u001b[0m\u001b[0;34m(\u001b[0m\u001b[0mfunction\u001b[0m\u001b[0;34m,\u001b[0m \u001b[0mtest_case\u001b[0m\u001b[0;34m,\u001b[0m \u001b[0mdisplay\u001b[0m\u001b[0;34m=\u001b[0m\u001b[0;32mFalse\u001b[0m\u001b[0;34m)\u001b[0m\u001b[0;34m\u001b[0m\u001b[0;34m\u001b[0m\u001b[0m\n\u001b[0m\u001b[1;32m     88\u001b[0m         \u001b[0mresults\u001b[0m\u001b[0;34m.\u001b[0m\u001b[0mappend\u001b[0m\u001b[0;34m(\u001b[0m\u001b[0mresult\u001b[0m\u001b[0;34m)\u001b[0m\u001b[0;34m\u001b[0m\u001b[0;34m\u001b[0m\u001b[0m\n\u001b[1;32m     89\u001b[0m         \u001b[0;32mif\u001b[0m \u001b[0merror_only\u001b[0m \u001b[0;32mand\u001b[0m \u001b[0;32mnot\u001b[0m \u001b[0mresult\u001b[0m\u001b[0;34m[\u001b[0m\u001b[0;36m1\u001b[0m\u001b[0;34m]\u001b[0m\u001b[0;34m:\u001b[0m\u001b[0;34m\u001b[0m\u001b[0;34m\u001b[0m\u001b[0m\n",
      "\u001b[0;32m/opt/conda/lib/python3.9/site-packages/jovian/pythondsa/__init__.py\u001b[0m in \u001b[0;36mevaluate_test_case\u001b[0;34m(function, test_case, display)\u001b[0m\n\u001b[1;32m     63\u001b[0m \u001b[0;34m\u001b[0m\u001b[0m\n\u001b[1;32m     64\u001b[0m     \u001b[0mstart\u001b[0m \u001b[0;34m=\u001b[0m \u001b[0mtimer\u001b[0m\u001b[0;34m(\u001b[0m\u001b[0;34m)\u001b[0m\u001b[0;34m\u001b[0m\u001b[0;34m\u001b[0m\u001b[0m\n\u001b[0;32m---> 65\u001b[0;31m     \u001b[0mactual_output\u001b[0m \u001b[0;34m=\u001b[0m \u001b[0mfunction\u001b[0m\u001b[0;34m(\u001b[0m\u001b[0;34m**\u001b[0m\u001b[0minputs\u001b[0m\u001b[0;34m)\u001b[0m\u001b[0;34m\u001b[0m\u001b[0;34m\u001b[0m\u001b[0m\n\u001b[0m\u001b[1;32m     66\u001b[0m     \u001b[0mend\u001b[0m \u001b[0;34m=\u001b[0m \u001b[0mtimer\u001b[0m\u001b[0;34m(\u001b[0m\u001b[0;34m)\u001b[0m\u001b[0;34m\u001b[0m\u001b[0;34m\u001b[0m\u001b[0m\n\u001b[1;32m     67\u001b[0m \u001b[0;34m\u001b[0m\u001b[0m\n",
      "\u001b[0;32m/tmp/ipykernel_38/266150305.py\u001b[0m in \u001b[0;36mremove_edge\u001b[0;34m(self, edge)\u001b[0m\n\u001b[1;32m     25\u001b[0m         \u001b[0me1\u001b[0m\u001b[0;34m,\u001b[0m \u001b[0me2\u001b[0m \u001b[0;34m=\u001b[0m \u001b[0medge\u001b[0m\u001b[0;34m\u001b[0m\u001b[0;34m\u001b[0m\u001b[0m\n\u001b[1;32m     26\u001b[0m \u001b[0;31m#         print('e1:', e1, 'e2:', e2)\u001b[0m\u001b[0;34m\u001b[0m\u001b[0;34m\u001b[0m\u001b[0;34m\u001b[0m\u001b[0m\n\u001b[0;32m---> 27\u001b[0;31m         \u001b[0;32mif\u001b[0m \u001b[0me2\u001b[0m \u001b[0;32min\u001b[0m \u001b[0mself\u001b[0m\u001b[0;34m.\u001b[0m\u001b[0mdata\u001b[0m\u001b[0;34m[\u001b[0m\u001b[0me1\u001b[0m\u001b[0;34m]\u001b[0m \u001b[0;32mand\u001b[0m \u001b[0me1\u001b[0m \u001b[0;32min\u001b[0m \u001b[0mself\u001b[0m\u001b[0;34m.\u001b[0m\u001b[0mdata\u001b[0m\u001b[0;34m[\u001b[0m\u001b[0me2\u001b[0m\u001b[0;34m]\u001b[0m\u001b[0;34m:\u001b[0m\u001b[0;34m\u001b[0m\u001b[0;34m\u001b[0m\u001b[0m\n\u001b[0m\u001b[1;32m     28\u001b[0m             \u001b[0mself\u001b[0m\u001b[0;34m.\u001b[0m\u001b[0mdata\u001b[0m\u001b[0;34m[\u001b[0m\u001b[0me1\u001b[0m\u001b[0;34m]\u001b[0m\u001b[0;34m.\u001b[0m\u001b[0mremove\u001b[0m\u001b[0;34m(\u001b[0m\u001b[0me2\u001b[0m\u001b[0;34m)\u001b[0m\u001b[0;34m\u001b[0m\u001b[0;34m\u001b[0m\u001b[0m\n\u001b[1;32m     29\u001b[0m             \u001b[0mself\u001b[0m\u001b[0;34m.\u001b[0m\u001b[0mdata\u001b[0m\u001b[0;34m[\u001b[0m\u001b[0me2\u001b[0m\u001b[0;34m]\u001b[0m\u001b[0;34m.\u001b[0m\u001b[0mremove\u001b[0m\u001b[0;34m(\u001b[0m\u001b[0me1\u001b[0m\u001b[0;34m)\u001b[0m\u001b[0;34m\u001b[0m\u001b[0;34m\u001b[0m\u001b[0m\n",
      "\u001b[0;31mIndexError\u001b[0m: list index out of range"
     ]
    }
   ],
   "source": [
    "evaluate_test_cases(graph1.remove_edge, tests)"
   ]
  },
  {
   "cell_type": "code",
   "execution_count": null,
   "id": "151b5a8a",
   "metadata": {},
   "outputs": [],
   "source": [
    "graph1"
   ]
  },
  {
   "cell_type": "code",
   "execution_count": null,
   "id": "9c676d03",
   "metadata": {},
   "outputs": [],
   "source": []
  },
  {
   "cell_type": "code",
   "execution_count": null,
   "id": "signed-manor",
   "metadata": {},
   "outputs": [],
   "source": [
    "# https://youtu.be/SmOrBW22R2k?t=1846"
   ]
  },
  {
   "cell_type": "code",
   "execution_count": null,
   "id": "nasty-alberta",
   "metadata": {},
   "outputs": [],
   "source": [
    "!pip install jovian --upgrade --quiet"
   ]
  },
  {
   "cell_type": "code",
   "execution_count": null,
   "id": "renewable-consumption",
   "metadata": {},
   "outputs": [],
   "source": [
    "import jovian"
   ]
  },
  {
   "cell_type": "code",
   "execution_count": null,
   "id": "collaborative-reduction",
   "metadata": {},
   "outputs": [],
   "source": [
    "jovian.commit()"
   ]
  },
  {
   "cell_type": "markdown",
   "id": "potential-native",
   "metadata": {},
   "source": [
    "### Adjacency Matrix\n",
    "\n",
    "![](https://i.imgur.com/oswYKTW.png)\n",
    "\n",
    "> **Question**: Represent a graph as an adjacency matrix in Python"
   ]
  },
  {
   "cell_type": "code",
   "execution_count": null,
   "id": "c3a44e56",
   "metadata": {},
   "outputs": [],
   "source": [
    "# note the difference in initializing an array\n",
    "arr = [[0] * num_nodes ] * num_nodes # wrong\n",
    "arr[0][0] = 1\n",
    "print(arr)\n",
    "arr = [[0 for __ in range(num_nodes)] for __ in range(num_nodes)] # correct\n",
    "arr[0][0] = 1\n",
    "print(arr)"
   ]
  },
  {
   "cell_type": "code",
   "execution_count": null,
   "id": "sensitive-iraqi",
   "metadata": {},
   "outputs": [],
   "source": [
    "class Graph:\n",
    "    def __init__(self, num_nodes, edges):\n",
    "        self.num_nodes = num_nodes\n",
    "        self.data = [[0 for __ in range(num_nodes)] for __ in range(num_nodes)]\n",
    "        for e1, e2 in edges:\n",
    "            print('e1:', e1, 'e2:', e2)\n",
    "            self.data[e1][e2] = 1\n",
    "            self.data[e2][e1] = 1\n",
    "    \n",
    "    def __repr__(self):\n",
    "        return '\\n'.join([' '.join([str(cell) for cell in row]) for row in self.data])\n",
    "    \n",
    "    def __str__(self):\n",
    "        return self.__repr__()"
   ]
  },
  {
   "cell_type": "code",
   "execution_count": null,
   "id": "alleged-means",
   "metadata": {},
   "outputs": [],
   "source": [
    "graph1 = Graph(num_nodes, edges)\n",
    "graph1"
   ]
  },
  {
   "cell_type": "markdown",
   "id": "801b951b",
   "metadata": {},
   "source": [
    "## Graph Traversal\n",
    "\n",
    "\n",
    "### Breadth-First Search\n",
    "\n",
    "A real-world graph:\n",
    "\n",
    "![](https://upload.wikimedia.org/wikipedia/commons/thumb/a/ad/MapGermanyGraph.svg/500px-MapGermanyGraph.svg.png)\n",
    "\n",
    "Breadth-first search tree (starting from Frankfurt):\n",
    "\n",
    "![](https://upload.wikimedia.org/wikipedia/commons/thumb/6/63/GermanyBFS.svg/500px-GermanyBFS.svg.png)\n",
    "\n",
    "> **Question**: Implement breadth-first search given a source node in a graph using Python.\n",
    "\n",
    "\n",
    "<img src=\"https://i.imgur.com/E2Up1Pk.png\" width=\"400\">\n",
    "\n",
    "BFS pseudocode (Wikipedia):\n",
    "\n",
    "```\n",
    " 1  procedure BFS(G, root) is\n",
    " 2      let Q be a queue\n",
    " 3      label root as discovered\n",
    " 4      Q.enqueue(root)\n",
    " 5      while Q is not empty do\n",
    " 6          v := Q.dequeue()\n",
    " 9          for all edges from v to w in G.adjacentEdges(v) do\n",
    "10              if w is not labeled as discovered then\n",
    "11                  label w as discovered\n",
    "12                  Q.enqueue(w)\n",
    "```\n",
    "\n"
   ]
  },
  {
   "cell_type": "markdown",
   "id": "czech-encounter",
   "metadata": {},
   "source": [
    "<img src=\"https://cdn.programiz.com/sites/tutorial2program/files/queue-implementation.png\" width=\"400\">"
   ]
  },
  {
   "cell_type": "code",
   "execution_count": null,
   "id": "5c5329be",
   "metadata": {},
   "outputs": [],
   "source": [
    "class Graph:\n",
    "    def __init__(self, num_nodes, edges):\n",
    "        self.num_nodes = num_nodes\n",
    "        self.data = [[] for __ in range(num_nodes)]\n",
    "        for e1, e2 in edges:\n",
    "            self.data[e1].append(e2)\n",
    "            self.data[e2].append(e1)\n",
    "    \n",
    "    # function to add an edge\n",
    "    def add_edge(self, edge):\n",
    "        e1, e2 = edge\n",
    "        if e2 in self.data[e1] and e1 in self.data[e2]:\n",
    "            print('edge not added')\n",
    "            return\n",
    "        self.data[e1].append(e2)\n",
    "        self.data[e2].append(e1)\n",
    "        print('added', edge) # for testing\n",
    "    \n",
    "    # function to remove an edge\n",
    "    def remove_edge(self, edge):\n",
    "        e1, e2 = edge\n",
    "        if e2 in self.data[e1] and e1 in self.data[e2]:\n",
    "            self.data[e1].remove(e2)\n",
    "            self.data[e2].remove(e1)\n",
    "            print('removed', edge)\n",
    "    \n",
    "    def __repr__(self):\n",
    "        return '\\n'.join(['{}: {}'.format(n, neighbors) for n, neighbors in enumerate(self.data)])\n",
    "    \n",
    "    def __str__(self):\n",
    "        return self.__repr__()"
   ]
  },
  {
   "cell_type": "code",
   "execution_count": null,
   "id": "electoral-religious",
   "metadata": {},
   "outputs": [],
   "source": [
    "def bfs(graph, root):\n",
    "    queue = [] # start a queue\n",
    "    bfs = [] \n",
    "    discovered = [False] * len(graph.data)\n",
    "    # additional vals to track\n",
    "    dist = [None] * len(graph.data)\n",
    "    parent = [None] * len(graph.data)\n",
    "    \n",
    "    # set root to be discovered\n",
    "    discovered[root] = True \n",
    "    dist[root] = 0\n",
    "    queue.append(root)\n",
    "    \n",
    "    while queue:\n",
    "        # implement a dequeue in python\n",
    "        curr = queue.pop(0)\n",
    "        bfs.append(curr)\n",
    "        \n",
    "        # check all edges of current\n",
    "        for node in graph.data[curr]:  # list of all nodes connected with current node\n",
    "            if not discovered[node]:\n",
    "                discovered[node] = True\n",
    "                queue.append(node)\n",
    "                # additional vals to track\n",
    "                dist[node] = 1 + dist[curr]\n",
    "                parent[node] = curr     \n",
    "    \n",
    "    # return queue - list of nodes as they would be visited in a bread-first search\n",
    "    return bfs, dist, parent"
   ]
  },
  {
   "cell_type": "code",
   "execution_count": 32,
   "id": "d3dc85e8",
   "metadata": {
    "scrolled": true
   },
   "outputs": [
    {
     "name": "stdout",
     "output_type": "stream",
     "text": [
      "e1: 0 e2: 1\n",
      "e1: 0 e2: 4\n",
      "e1: 1 e2: 2\n",
      "e1: 1 e2: 3\n",
      "e1: 1 e2: 4\n",
      "e1: 2 e2: 3\n",
      "e1: 3 e2: 4\n"
     ]
    },
    {
     "data": {
      "text/plain": [
       "0: [1, 4]\n",
       "1: [0, 2, 3, 4]\n",
       "2: [1, 3]\n",
       "3: [1, 2, 4]\n",
       "4: [0, 1, 3]"
      ]
     },
     "execution_count": 32,
     "metadata": {},
     "output_type": "execute_result"
    }
   ],
   "source": [
    "graph1 = Graph(num_nodes, edges)\n",
    "graph1"
   ]
  },
  {
   "cell_type": "code",
   "execution_count": null,
   "id": "0031666e",
   "metadata": {},
   "outputs": [],
   "source": [
    "bfs(graph1, 3)"
   ]
  },
  {
   "cell_type": "markdown",
   "id": "8e3b5d35",
   "metadata": {},
   "source": [
    "<img src=\"https://i.imgur.com/E2Up1Pk.png\" width=\"400\">"
   ]
  },
  {
   "cell_type": "code",
   "execution_count": null,
   "id": "b7a54ef3",
   "metadata": {},
   "outputs": [],
   "source": [
    "bfs(graph1, 0)"
   ]
  },
  {
   "cell_type": "code",
   "execution_count": null,
   "id": "0f6aa0cd",
   "metadata": {
    "scrolled": true
   },
   "outputs": [],
   "source": [
    "bfs(graph1, 4)"
   ]
  },
  {
   "cell_type": "code",
   "execution_count": null,
   "id": "31e46fdd",
   "metadata": {
    "scrolled": true
   },
   "outputs": [],
   "source": [
    "bfs(graph1, 1)"
   ]
  },
  {
   "cell_type": "code",
   "execution_count": null,
   "id": "8c932da9",
   "metadata": {},
   "outputs": [],
   "source": [
    "bfs(graph1, 2)"
   ]
  },
  {
   "cell_type": "code",
   "execution_count": null,
   "id": "abstract-gibraltar",
   "metadata": {},
   "outputs": [],
   "source": [
    "import jovian"
   ]
  },
  {
   "cell_type": "code",
   "execution_count": null,
   "id": "portuguese-consequence",
   "metadata": {},
   "outputs": [],
   "source": [
    "jovian.commit()"
   ]
  },
  {
   "cell_type": "markdown",
   "id": "synthetic-defense",
   "metadata": {},
   "source": [
    "> **Question**: Write a program to check if all the nodes in a graph are connected\n",
    "\n",
    "![](http://www.martinbroadhurst.com/images/connected_components.png)"
   ]
  },
  {
   "cell_type": "code",
   "execution_count": null,
   "id": "premium-cincinnati",
   "metadata": {
    "scrolled": true
   },
   "outputs": [],
   "source": [
    "num_nodes3 = 9\n",
    "edges3 = [(0, 1), (0, 3), (1, 2), (2, 3), (4, 5), (4, 6), (5, 6), (7, 8)]\n",
    "num_nodes3, len(edges3)"
   ]
  },
  {
   "cell_type": "code",
   "execution_count": null,
   "id": "e33b543e",
   "metadata": {},
   "outputs": [],
   "source": [
    "graph3 = Graph(num_nodes3, edges3)"
   ]
  },
  {
   "cell_type": "code",
   "execution_count": null,
   "id": "dccd9da8",
   "metadata": {},
   "outputs": [],
   "source": [
    "graph3"
   ]
  },
  {
   "cell_type": "code",
   "execution_count": null,
   "id": "dominican-louisville",
   "metadata": {},
   "outputs": [],
   "source": [
    "# use bfs to determine if all nodes in a graph are connected\n",
    "# check length of bfs list against total num of nodes\n",
    "# if not connected, will not show up in bfs list\n",
    "# therefore, if len(bfs) < num_nodes return false otherwise true"
   ]
  },
  {
   "cell_type": "code",
   "execution_count": null,
   "id": "agreed-damage",
   "metadata": {},
   "outputs": [],
   "source": [
    "def check_connected(graph, root):\n",
    "    queue = [] # start a queue\n",
    "    bfs = []\n",
    "    discovered = [False] * len(graph.data)\n",
    "\n",
    "    # set root to be discovered\n",
    "    discovered[root] = True \n",
    "    queue.append(root)\n",
    "    \n",
    "    while queue:\n",
    "        # implement a dequeue in python\n",
    "        curr = queue.pop(0)\n",
    "        bfs.append(curr)\n",
    "        \n",
    "        # check all edges of current\n",
    "        for node in graph.data[curr]:  # list of all nodes connected with current node\n",
    "            if not discovered[node]:\n",
    "                discovered[node] = True\n",
    "                queue.append(node)    \n",
    "    \n",
    "    print('bfs:', bfs)\n",
    "    # return queue - list of nodes as they would be visited in a bread-first search\n",
    "    return False if len(bfs) < len(graph.data) else True"
   ]
  },
  {
   "cell_type": "code",
   "execution_count": null,
   "id": "greatest-selection",
   "metadata": {
    "scrolled": true
   },
   "outputs": [],
   "source": [
    "check_connected(graph3, 3)"
   ]
  },
  {
   "cell_type": "code",
   "execution_count": null,
   "id": "fecbfe4b",
   "metadata": {},
   "outputs": [],
   "source": [
    "# add 2 edges to connect all nodes\n",
    "graph3.add_edge((2,4))\n",
    "graph3.add_edge((6,7))"
   ]
  },
  {
   "cell_type": "code",
   "execution_count": null,
   "id": "f50cc87f",
   "metadata": {},
   "outputs": [],
   "source": [
    "check_connected(graph3, 3)"
   ]
  },
  {
   "cell_type": "code",
   "execution_count": null,
   "id": "3b74d79f",
   "metadata": {
    "scrolled": false
   },
   "outputs": [],
   "source": [
    "# they should all return true as all nodes are connected\n",
    "for i in range(num_nodes3):\n",
    "    print('true') if check_connected(graph3, i) else print('false')"
   ]
  },
  {
   "cell_type": "code",
   "execution_count": null,
   "id": "1c52c9c7",
   "metadata": {
    "scrolled": false
   },
   "outputs": [],
   "source": [
    "# remove an edge to disconnect nodes\n",
    "graph3.remove_edge((6,7))"
   ]
  },
  {
   "cell_type": "code",
   "execution_count": null,
   "id": "793eb0da",
   "metadata": {},
   "outputs": [],
   "source": [
    "# expected false\n",
    "check_connected(graph3, 6)"
   ]
  },
  {
   "cell_type": "code",
   "execution_count": null,
   "id": "8058cdc6",
   "metadata": {
    "scrolled": true
   },
   "outputs": [],
   "source": [
    "for i in range(num_nodes):\n",
    "    print('true') if check_connected(graph1, i) else print('false')"
   ]
  },
  {
   "cell_type": "code",
   "execution_count": null,
   "id": "fe7edfe8",
   "metadata": {
    "scrolled": true
   },
   "outputs": [],
   "source": [
    "graph1.remove_edge((0,4))\n",
    "graph1.remove_edge((0,1))"
   ]
  },
  {
   "cell_type": "code",
   "execution_count": null,
   "id": "c50dee9a",
   "metadata": {
    "code_folding": []
   },
   "outputs": [],
   "source": [
    "for i in range(num_nodes):\n",
    "    print('true') if check_connected(graph1, i) else print('false')"
   ]
  },
  {
   "cell_type": "code",
   "execution_count": null,
   "id": "proper-personality",
   "metadata": {},
   "outputs": [],
   "source": [
    "# https://youtu.be/SmOrBW22R2k?t=3141"
   ]
  },
  {
   "cell_type": "markdown",
   "id": "parliamentary-veteran",
   "metadata": {},
   "source": [
    "## Depth-first search\n",
    "\n",
    "![](https://upload.wikimedia.org/wikipedia/commons/thumb/7/7f/Depth-First-Search.gif/440px-Depth-First-Search.gif)\n",
    "\n",
    "\n",
    "> **Question**: Implement depth first search from a given node in a graph using Python.\n",
    "\n",
    "<img src=\"https://i.imgur.com/E2Up1Pk.png\" width=\"400\">\n",
    "\n",
    "DFS pseudocode (Wikipedia):\n",
    "\n",
    "```\n",
    "procedure DFS_iterative(G, v) is\n",
    "    let S be a stack\n",
    "    S.push(v)\n",
    "    while S is not empty do\n",
    "        v = S.pop()\n",
    "        if v is not labeled as discovered then\n",
    "            label v as discovered\n",
    "            for all edges from v to w in G.adjacentEdges(v) do \n",
    "                S.push(w)\n",
    "```\n",
    "\n",
    "\n"
   ]
  },
  {
   "cell_type": "code",
   "execution_count": null,
   "id": "elect-montana",
   "metadata": {},
   "outputs": [],
   "source": [
    "def dfs(graph, root):\n",
    "    stack = []\n",
    "    discovered = [False] * len(graph.data)\n",
    "    dfs = [] # result to return\n",
    "    parent = [None] * len(graph.data) # track the parent\n",
    "\n",
    "    # push to stack\n",
    "    stack.append(root)\n",
    "    \n",
    "    while stack:\n",
    "        v = stack.pop()\n",
    "#         parent.append(v)\n",
    "        # set to discovered and add to result if current has not been discovered\n",
    "        if not discovered[v]:\n",
    "            dfs.append(v)\n",
    "            discovered[v] = True\n",
    "            \n",
    "        # push all edges to stack\n",
    "        for node in graph.data[v]:  # list of all nodes connected with current node\n",
    "            # dont add to stack if already discovered\n",
    "            if not discovered[node]:\n",
    "                stack.append(node)   \n",
    "                parent[node] = v\n",
    "    \n",
    "    print('dfs:', dfs)\n",
    "    return dfs, parent"
   ]
  },
  {
   "cell_type": "markdown",
   "id": "descending-amber",
   "metadata": {},
   "source": [
    "<img src=\"https://cdn.programiz.com/sites/tutorial2program/files/stack.png\" width=\"400\">"
   ]
  },
  {
   "cell_type": "code",
   "execution_count": 38,
   "id": "arabic-machine",
   "metadata": {
    "scrolled": true
   },
   "outputs": [
    {
     "name": "stdout",
     "output_type": "stream",
     "text": [
      "e1: 0 e2: 1\n",
      "e1: 0 e2: 4\n",
      "e1: 1 e2: 2\n",
      "e1: 1 e2: 3\n",
      "e1: 1 e2: 4\n",
      "e1: 2 e2: 3\n",
      "e1: 3 e2: 4\n",
      "dfs: [3, 4, 1, 2, 0]\n"
     ]
    },
    {
     "data": {
      "text/plain": [
       "([3, 4, 1, 2, 0], [1, 4, 1, None, 3])"
      ]
     },
     "execution_count": 38,
     "metadata": {},
     "output_type": "execute_result"
    }
   ],
   "source": [
    "num_nodes = 5\n",
    "edges = [(0, 1), (0, 4), (1, 2), (1, 3), (1, 4), (2, 3), (3, 4)]\n",
    "graph1 = Graph(num_nodes, edges) # recreate graph1\n",
    "dfs(graph1, 3)"
   ]
  },
  {
   "cell_type": "code",
   "execution_count": 34,
   "id": "55b9ea1c",
   "metadata": {},
   "outputs": [
    {
     "name": "stdout",
     "output_type": "stream",
     "text": [
      "dfs: [0, 4, 3, 2, 1]\n"
     ]
    },
    {
     "data": {
      "text/plain": [
       "([0, 4, 3, 2, 1], [None, 2, 3, 4, 0])"
      ]
     },
     "execution_count": 34,
     "metadata": {},
     "output_type": "execute_result"
    }
   ],
   "source": [
    "dfs(graph1, 0)"
   ]
  },
  {
   "cell_type": "code",
   "execution_count": 35,
   "id": "forward-department",
   "metadata": {},
   "outputs": [],
   "source": [
    "# track the parent of each node\n",
    "# whenever popped, track parent"
   ]
  },
  {
   "cell_type": "code",
   "execution_count": 36,
   "id": "contained-version",
   "metadata": {},
   "outputs": [
    {
     "name": "stdout",
     "output_type": "stream",
     "text": [
      "dfs: [4, 3, 2, 1, 0]\n"
     ]
    },
    {
     "data": {
      "text/plain": [
       "([4, 3, 2, 1, 0], [1, 2, 3, 4, None])"
      ]
     },
     "execution_count": 36,
     "metadata": {},
     "output_type": "execute_result"
    }
   ],
   "source": [
    "dfs(graph1, 4)"
   ]
  },
  {
   "cell_type": "code",
   "execution_count": 37,
   "id": "lesser-opinion",
   "metadata": {},
   "outputs": [],
   "source": [
    "import jovian"
   ]
  },
  {
   "cell_type": "code",
   "execution_count": null,
   "id": "hungry-increase",
   "metadata": {},
   "outputs": [],
   "source": [
    "jovian.commit()"
   ]
  },
  {
   "cell_type": "markdown",
   "id": "together-blogger",
   "metadata": {},
   "source": [
    "> **Question**: Write a function to detect a cycle in a graph\n",
    "\n",
    "![](https://tutorialspoint.dev/image/cycleGraph.png)"
   ]
  },
  {
   "cell_type": "markdown",
   "id": "475a954a",
   "metadata": {},
   "source": [
    "<img src=\"https://i.imgur.com/E2Up1Pk.png\" width=\"400\">"
   ]
  },
  {
   "cell_type": "markdown",
   "id": "474765b9",
   "metadata": {},
   "source": [
    "#### https://youtu.be/SmOrBW22R2k?t=3990\n",
    "\n",
    "For every visited vertex v, if there is an adjacent u such that u is already visited and u is not parent of v, then there is a cycle in graph."
   ]
  },
  {
   "cell_type": "code",
   "execution_count": 85,
   "id": "daily-warrior",
   "metadata": {},
   "outputs": [],
   "source": [
    "def check_cycle(graph, root):\n",
    "    stack = []\n",
    "    discovered = [False] * len(graph.data)\n",
    "    dfs = [] # result to return\n",
    "    parent = [None] * len(graph.data) # track the parent\n",
    "\n",
    "    # push root to stack\n",
    "    stack.append(root)\n",
    "    \n",
    "    while stack:\n",
    "        v = stack.pop()\n",
    "#         parent.append(v)\n",
    "        # set to discovered and add to result if current has not been discovered\n",
    "        if not discovered[v]:\n",
    "            dfs.append(v)\n",
    "            discovered[v] = True\n",
    "            \n",
    "        # push all edges to stack\n",
    "        for node in graph.data[v]:  # list of all nodes connected with current node\n",
    "            # dont add to stack if already discovered\n",
    "            if not discovered[node]:\n",
    "                stack.append(node)   \n",
    "                parent[node] = v\n",
    "            # check for completed cycle\n",
    "            if node is not parent[v] and discovered[node]:\n",
    "                return True\n",
    "            \n",
    "    print('dfs: ', dfs)\n",
    "    print('parent: ', parent)\n",
    "    return False"
   ]
  },
  {
   "cell_type": "code",
   "execution_count": 86,
   "id": "1941dca6",
   "metadata": {
    "scrolled": true
   },
   "outputs": [
    {
     "data": {
      "text/plain": [
       "0: [1, 4]\n",
       "1: [0, 2, 3, 4]\n",
       "2: [1, 3]\n",
       "3: [1, 2, 4]\n",
       "4: [0, 1, 3]"
      ]
     },
     "execution_count": 86,
     "metadata": {},
     "output_type": "execute_result"
    }
   ],
   "source": [
    "graph1"
   ]
  },
  {
   "cell_type": "code",
   "execution_count": 87,
   "id": "dried-reform",
   "metadata": {
    "scrolled": true
   },
   "outputs": [
    {
     "data": {
      "text/plain": [
       "True"
      ]
     },
     "execution_count": 87,
     "metadata": {},
     "output_type": "execute_result"
    }
   ],
   "source": [
    "check_cycle(graph1, 3)"
   ]
  },
  {
   "cell_type": "markdown",
   "id": "d88ba821",
   "metadata": {},
   "source": [
    "Graph4\n",
    "![](https://tutorialspoint.dev/image/cycleGraph.png)"
   ]
  },
  {
   "cell_type": "code",
   "execution_count": 88,
   "id": "c4a4005a",
   "metadata": {},
   "outputs": [
    {
     "name": "stdout",
     "output_type": "stream",
     "text": [
      "e1: 0 e2: 1\n",
      "e1: 0 e2: 2\n",
      "e1: 1 e2: 2\n",
      "e1: 0 e2: 3\n",
      "e1: 3 e2: 4\n"
     ]
    }
   ],
   "source": [
    "num_nodes4 = 5\n",
    "edges4 = [(0, 1), (0, 2), (1, 2), (0, 3), (3, 4)]\n",
    "graph4 = Graph(num_nodes4, edges4)"
   ]
  },
  {
   "cell_type": "code",
   "execution_count": 89,
   "id": "8f34f2bc",
   "metadata": {
    "scrolled": true
   },
   "outputs": [
    {
     "data": {
      "text/plain": [
       "0: [1, 2, 3]\n",
       "1: [0, 2]\n",
       "2: [0, 1]\n",
       "3: [0, 4]\n",
       "4: [3]"
      ]
     },
     "execution_count": 89,
     "metadata": {},
     "output_type": "execute_result"
    }
   ],
   "source": [
    "graph4"
   ]
  },
  {
   "cell_type": "code",
   "execution_count": 90,
   "id": "29865241",
   "metadata": {},
   "outputs": [
    {
     "data": {
      "text/plain": [
       "True"
      ]
     },
     "execution_count": 90,
     "metadata": {},
     "output_type": "execute_result"
    }
   ],
   "source": [
    "check_cycle(graph4, 3)"
   ]
  },
  {
   "cell_type": "code",
   "execution_count": 91,
   "id": "258ab9f4",
   "metadata": {},
   "outputs": [
    {
     "data": {
      "text/plain": [
       "0: [1, 3]\n",
       "1: [0, 2]\n",
       "2: [1]\n",
       "3: [0, 4]\n",
       "4: [3]"
      ]
     },
     "execution_count": 91,
     "metadata": {},
     "output_type": "execute_result"
    }
   ],
   "source": [
    "graph4.remove_edge((0, 2))\n",
    "graph4"
   ]
  },
  {
   "cell_type": "code",
   "execution_count": 94,
   "id": "7ecdbe31",
   "metadata": {
    "scrolled": true
   },
   "outputs": [
    {
     "name": "stdout",
     "output_type": "stream",
     "text": [
      "dfs:  [0, 3, 4, 1, 2]\n",
      "parent:  [None, 0, 1, 0, 3]\n",
      "False\n",
      "dfs:  [1, 2, 0, 3, 4]\n",
      "parent:  [1, None, 1, 0, 3]\n",
      "False\n",
      "dfs:  [2, 1, 0, 3, 4]\n",
      "parent:  [1, 2, None, 0, 3]\n",
      "False\n",
      "dfs:  [3, 4, 0, 1, 2]\n",
      "parent:  [3, 0, 1, None, 3]\n",
      "False\n",
      "dfs:  [4, 3, 0, 1, 2]\n",
      "parent:  [3, 0, 1, 4, None]\n",
      "False\n"
     ]
    }
   ],
   "source": [
    "for i in range(num_nodes4):\n",
    "    print(check_cycle(graph4, i))"
   ]
  },
  {
   "cell_type": "code",
   "execution_count": null,
   "id": "f6cc05d8",
   "metadata": {},
   "outputs": [],
   "source": []
  },
  {
   "cell_type": "markdown",
   "id": "broke-carroll",
   "metadata": {},
   "source": [
    "### Weighted Graphs\n",
    "\n",
    "![](https://i.imgur.com/wy7ZHRW.png)\n",
    "\n"
   ]
  },
  {
   "cell_type": "code",
   "execution_count": 1,
   "id": "eligible-equipment",
   "metadata": {},
   "outputs": [
    {
     "data": {
      "text/plain": [
       "(9, 10)"
      ]
     },
     "execution_count": 1,
     "metadata": {},
     "output_type": "execute_result"
    }
   ],
   "source": [
    "# Graph with weights\n",
    "num_nodes5 = 9\n",
    "edges5 = [(0, 1, 3), (0, 3, 2), (0, 8, 4), (1, 7, 4), (2, 7, 2), (2, 3, 6), \n",
    "          (2, 5, 1), (3, 4, 1), (4, 8, 8), (5, 6, 8)]\n",
    "\n",
    "num_nodes5, len(edges5)"
   ]
  },
  {
   "cell_type": "markdown",
   "id": "abstract-return",
   "metadata": {
    "heading_collapsed": true
   },
   "source": [
    "### Directed Graphs\n",
    "\n",
    "<img src=\"https://i.imgur.com/8AN7EUV.png\" width=\"480\">"
   ]
  },
  {
   "cell_type": "code",
   "execution_count": 12,
   "id": "fitted-kruger",
   "metadata": {
    "hidden": true
   },
   "outputs": [
    {
     "data": {
      "text/plain": [
       "(5, 6)"
      ]
     },
     "execution_count": 12,
     "metadata": {},
     "output_type": "execute_result"
    }
   ],
   "source": [
    "num_nodes6 = 5\n",
    "edges6 = [(0, 1), (1, 2), (2, 3), (2, 4), (4, 2), (3, 0)]\n",
    "directed6 = True\n",
    "num_nodes6, len(edges6)"
   ]
  },
  {
   "cell_type": "markdown",
   "id": "saved-pittsburgh",
   "metadata": {
    "hidden": true
   },
   "source": [
    "> **Question**: Define a class to represent weighted and directed graphs in Python."
   ]
  },
  {
   "cell_type": "code",
   "execution_count": 11,
   "id": "affected-essence",
   "metadata": {
    "hidden": true
   },
   "outputs": [],
   "source": [
    "class Graph:\n",
    "    def __init__(self, num_nodes, edges, directed=False, weighted=False):\n",
    "        self.num_nodes = num_nodes\n",
    "        self.directed = directed\n",
    "        self.weighted = weighted\n",
    "        self.data = [[] for _ in range(num_nodes)]\n",
    "        self.weight = [[] for _ in range(num_nodes)]\n",
    "        for edge in edges:\n",
    "            if self.weighted:\n",
    "                # include weights\n",
    "                n1, n2, weight = edge\n",
    "                self.data[n1].append(n2)\n",
    "                self.weight[n1].append(weight)\n",
    "                if not self.directed:\n",
    "                    self.data[n2].append(n1)\n",
    "                    self.weight[n2].append(weight)\n",
    "            else:\n",
    "                # work without weights\n",
    "                n1, n2 = edge\n",
    "                self.data[n1].append(n2)\n",
    "                if not self.directed:\n",
    "                    self.data[n2].append(n1)\n",
    "                    \n",
    "    def __repr__(self):\n",
    "        result = \"\"\n",
    "        if self.weighted:\n",
    "            for i, (nodes, weights) in enumerate(zip(self.data, self.weight)):\n",
    "                result += \"{}: {}\\n\".format(i, list(zip(nodes, weights)))\n",
    "        else:\n",
    "            for i, nodes in enumerate(self.data):\n",
    "                result += \"{}: {}\\n\".format(i, nodes)\n",
    "        return result"
   ]
  },
  {
   "cell_type": "code",
   "execution_count": 12,
   "id": "promotional-fiction",
   "metadata": {
    "hidden": true
   },
   "outputs": [
    {
     "data": {
      "text/plain": [
       "0: [1, 4]\n",
       "1: [0, 2, 3, 4]\n",
       "2: [1, 3]\n",
       "3: [1, 2, 4]\n",
       "4: [0, 1, 3]"
      ]
     },
     "execution_count": 12,
     "metadata": {},
     "output_type": "execute_result"
    }
   ],
   "source": [
    "graph1 = Graph(num_nodes, edges)\n",
    "graph1"
   ]
  },
  {
   "cell_type": "markdown",
   "id": "86695c39",
   "metadata": {
    "hidden": true
   },
   "source": [
    "![](https://i.imgur.com/wy7ZHRW.png)"
   ]
  },
  {
   "cell_type": "code",
   "execution_count": 13,
   "id": "virgin-impact",
   "metadata": {
    "hidden": true
   },
   "outputs": [
    {
     "data": {
      "text/plain": [
       "0: [(1, 3), (3, 2), (8, 4)]\n",
       "1: [(0, 3), (7, 4)]\n",
       "2: [(7, 2), (3, 6), (5, 1)]\n",
       "3: [(0, 2), (2, 6), (4, 1)]\n",
       "4: [(3, 1), (8, 8)]\n",
       "5: [(2, 1), (6, 8)]\n",
       "6: [(5, 8)]\n",
       "7: [(1, 4), (2, 2)]\n",
       "8: [(0, 4), (4, 8)]"
      ]
     },
     "execution_count": 13,
     "metadata": {},
     "output_type": "execute_result"
    }
   ],
   "source": [
    "# Graph with weights\n",
    "num_nodes5 = 9\n",
    "edges5 = [(0, 1, 3), (0, 3, 2), (0, 8, 4), (1, 7, 4), (2, 7, 2), (2, 3, 6), \n",
    "          (2, 5, 1), (3, 4, 1), (4, 8, 8), (5, 6, 8)]\n",
    "\n",
    "graph2 = Graph(num_nodes5, edges5, weighted=True)\n",
    "graph2\n",
    "# outputs in the tuple format of (adjacent node, weight)"
   ]
  },
  {
   "attachments": {},
   "cell_type": "markdown",
   "id": "e72735ce",
   "metadata": {
    "hidden": true
   },
   "source": [
    "<img src=\"https://i.imgur.com/8AN7EUV.png\" width=\"480\">"
   ]
  },
  {
   "cell_type": "code",
   "execution_count": 14,
   "id": "7b8b57d4",
   "metadata": {
    "hidden": true
   },
   "outputs": [
    {
     "data": {
      "text/plain": [
       "0: [1]\n",
       "1: [2]\n",
       "2: [3, 4]\n",
       "3: [0]\n",
       "4: [2]"
      ]
     },
     "execution_count": 14,
     "metadata": {},
     "output_type": "execute_result"
    }
   ],
   "source": [
    "num_nodes3 = 5\n",
    "edges3 = [(0, 1), (1, 2), (2, 3), (2, 4), (4, 2), (3, 0)]\n",
    "\n",
    "graph3 = Graph(num_nodes3, edges3, directed=True)\n",
    "graph3"
   ]
  },
  {
   "attachments": {
    "image.png": {
     "image/png": "[encoded data removed]"
    }
   },
   "cell_type": "markdown",
   "id": "bfe4c394",
   "metadata": {
    "hidden": true
   },
   "source": [
    "![image.png](attachment:image.png)"
   ]
  },
  {
   "cell_type": "code",
   "execution_count": 15,
   "id": "f2e167c4",
   "metadata": {
    "hidden": true
   },
   "outputs": [
    {
     "data": {
      "text/plain": [
       "0: [(1, 4)]\n",
       "1: [(2, 3)]\n",
       "2: [(3, 6), (4, 7)]\n",
       "3: [(0, 8)]\n",
       "4: [(2, 5)]"
      ]
     },
     "execution_count": 15,
     "metadata": {},
     "output_type": "execute_result"
    }
   ],
   "source": [
    "# check a weighted directed graph\n",
    "num_nodes4 = 5\n",
    "edges4 = [(0, 1, 4), (1, 2, 3), (2, 3, 6), (2, 4, 7), (4, 2, 5), (3, 0, 8)]\n",
    "\n",
    "graph4 = Graph(num_nodes4, edges4, True, True)\n",
    "graph4"
   ]
  },
  {
   "cell_type": "code",
   "execution_count": 16,
   "id": "exempt-stone",
   "metadata": {
    "hidden": true
   },
   "outputs": [],
   "source": [
    "import jovian"
   ]
  },
  {
   "cell_type": "code",
   "execution_count": 17,
   "id": "chronic-uzbekistan",
   "metadata": {
    "hidden": true
   },
   "outputs": [
    {
     "data": {
      "application/javascript": [
       "window.require && require([\"base/js/namespace\"],function(Jupyter){Jupyter.notebook.save_checkpoint()})"
      ],
      "text/plain": [
       "<IPython.core.display.Javascript object>"
      ]
     },
     "metadata": {},
     "output_type": "display_data"
    },
    {
     "name": "stdout",
     "output_type": "stream",
     "text": [
      "[jovian] Updating notebook \"jtsang02/python-graph-algorithms\" on https://jovian.ai\u001b[0m\n",
      "[jovian] Committed successfully! https://jovian.ai/jtsang02/python-graph-algorithms\u001b[0m\n"
     ]
    },
    {
     "data": {
      "text/plain": [
       "'https://jovian.ai/jtsang02/python-graph-algorithms'"
      ]
     },
     "execution_count": 17,
     "metadata": {},
     "output_type": "execute_result"
    }
   ],
   "source": [
    "jovian.commit()"
   ]
  },
  {
   "cell_type": "markdown",
   "id": "posted-peripheral",
   "metadata": {},
   "source": [
    "## Shortest Paths\n",
    "\n",
    "\n",
    "> **Question**: Write a function to find the length of the shortest path between two nodes in a weighted directed graph.\n",
    "\n",
    "<img src=\"https://i.imgur.com/Zn5cUkO.png\" width=\"480\">\n",
    "\n",
    "\n",
    "**Dijkstra's algorithm (Wikipedia)**:\n",
    "\n",
    "![](https://upload.wikimedia.org/wikipedia/commons/5/57/Dijkstra_Animation.gif)\n",
    "\n",
    "1. Mark all nodes unvisited. Create a set of all the unvisited nodes called the unvisited set.\n",
    "2. Assign to every node a tentative distance value: set it to zero for our initial node and to infinity for all other nodes. Set the initial node as current.[16]\n",
    "3. For the current node, consider all of its unvisited neighbours and calculate their tentative distances through the current node. Compare the newly calculated tentative distance to the current assigned value and assign the smaller one. For example, if the current node A is marked with a distance of 6, and the edge connecting it with a neighbour B has length 2, then the distance to B through A will be 6 + 2 = 8. If B was previously marked with a distance greater than 8 then change it to 8. Otherwise, the current value will be kept.\n",
    "4. When we are done considering all of the unvisited neighbours of the current node, mark the current node as visited and remove it from the unvisited set. A visited node will never be checked again.\n",
    "5. If the destination node has been marked visited (when planning a route between two specific nodes) or if the smallest tentative distance among the nodes in the unvisited set is infinity (when planning a complete traversal; occurs when there is no connection between the initial node and remaining unvisited nodes), then stop. The algorithm has finished.\n",
    "6. Otherwise, select the unvisited node that is marked with the smallest tentative distance, set it as the new \"current node\", and go back to step 3."
   ]
  },
  {
   "cell_type": "code",
   "execution_count": 46,
   "id": "certain-today",
   "metadata": {},
   "outputs": [],
   "source": [
    "def shortest_path(graph, source, target):\n",
    "    \"\"\"Return the shortest distance between source and target\"\"\"\n",
    "    visited = [False] * len(graph.data)\n",
    "    parent = [None] * len(graph.data) # for visualizing the path\n",
    "    distance = [float('inf')] * len(graph.data)\n",
    "    queue = []\n",
    "    \n",
    "    # initialize\n",
    "    distance[source] = 0\n",
    "    queue.append(source)\n",
    "    \n",
    "    while queue and not visited[target]:\n",
    "        curr = queue.pop(0)\n",
    "        \n",
    "        # update distances of all neighbors and mark current as visited\n",
    "        update_distances(graph, curr, distance, parent)\n",
    "        visited[curr] = True\n",
    "        \n",
    "        # find the first unvisited node w/ smallest distance\n",
    "        next_node = pick_next_node(distance, visited)\n",
    "        if next_node:\n",
    "            queue.append(next_node)        \n",
    "    \n",
    "    return distance[target], parent\n",
    "\n",
    "def update_distances(graph, current, distance, parent=None):\n",
    "    \"\"\"Update the distances of the current node's neighbors\"\"\"\n",
    "    neighbors = graph.data[current]\n",
    "    weights = graph.weight[current]\n",
    "    for i, node in enumerate(neighbors):\n",
    "        weight = weights[i]\n",
    "        if distance[current] + weight < distance[node]:\n",
    "            distance[node] = distance[current] + weight\n",
    "            if parent:\n",
    "                parent[node] = current\n",
    "\n",
    "def pick_next_node(distance, visited):\n",
    "    \"\"\"Pick the next univisited node at the smallest distance\"\"\"\n",
    "    min_distance = float('inf')\n",
    "    min_node = None\n",
    "    for node in range(len(distance)):\n",
    "        if not visited[node] and distance[node] < min_distance:\n",
    "            min_node = node\n",
    "            min_distance = distance[node]\n",
    "    return min_node"
   ]
  },
  {
   "cell_type": "markdown",
   "id": "82e06489",
   "metadata": {},
   "source": [
    "<img src=\"https://i.imgur.com/Zn5cUkO.png\" width=\"480\">"
   ]
  },
  {
   "cell_type": "code",
   "execution_count": 47,
   "id": "adopted-creek",
   "metadata": {},
   "outputs": [
    {
     "data": {
      "text/plain": [
       "(6, 7)"
      ]
     },
     "execution_count": 47,
     "metadata": {},
     "output_type": "execute_result"
    }
   ],
   "source": [
    "num_nodes7 = 6\n",
    "edges7 = [(0, 1, 4), (0, 2, 2), (1, 2, 5), (1, 3, 10), (2, 4, 3), (4, 3, 4), (3, 5, 11)]\n",
    "num_nodes7, len(edges7)"
   ]
  },
  {
   "cell_type": "code",
   "execution_count": 48,
   "id": "apparent-decrease",
   "metadata": {},
   "outputs": [
    {
     "data": {
      "text/plain": [
       "0: [(1, 4), (2, 2)]\n",
       "1: [(2, 5), (3, 10)]\n",
       "2: [(4, 3)]\n",
       "3: [(5, 11)]\n",
       "4: [(3, 4)]\n",
       "5: []"
      ]
     },
     "execution_count": 48,
     "metadata": {},
     "output_type": "execute_result"
    }
   ],
   "source": [
    "graph7 = Graph(num_nodes7, edges7, True, True)\n",
    "graph7"
   ]
  },
  {
   "cell_type": "code",
   "execution_count": 49,
   "id": "spare-glossary",
   "metadata": {},
   "outputs": [
    {
     "data": {
      "text/plain": [
       "(20, [None, 0, 0, 4, 2, 3])"
      ]
     },
     "execution_count": 49,
     "metadata": {},
     "output_type": "execute_result"
    }
   ],
   "source": [
    "shortest_path(graph7, 0, 5)"
   ]
  },
  {
   "cell_type": "markdown",
   "id": "d7bb5c2d",
   "metadata": {},
   "source": [
    "![](https://i.imgur.com/wy7ZHRW.png)"
   ]
  },
  {
   "cell_type": "code",
   "execution_count": 51,
   "id": "right-kenya",
   "metadata": {},
   "outputs": [
    {
     "data": {
      "text/plain": [
       "0: [(1, 3), (3, 2), (8, 4)]\n",
       "1: [(0, 3), (7, 4)]\n",
       "2: [(7, 2), (3, 6), (5, 1)]\n",
       "3: [(0, 2), (2, 6), (4, 1)]\n",
       "4: [(3, 1), (8, 8)]\n",
       "5: [(2, 1), (6, 8)]\n",
       "6: [(5, 8)]\n",
       "7: [(1, 4), (2, 2)]\n",
       "8: [(0, 4), (4, 8)]"
      ]
     },
     "execution_count": 51,
     "metadata": {},
     "output_type": "execute_result"
    }
   ],
   "source": [
    "graph2"
   ]
  },
  {
   "cell_type": "code",
   "execution_count": 52,
   "id": "19c42804",
   "metadata": {},
   "outputs": [
    {
     "data": {
      "text/plain": [
       "(7, [None, 0, 3, 0, 3, None, None, 1, 0])"
      ]
     },
     "execution_count": 52,
     "metadata": {},
     "output_type": "execute_result"
    }
   ],
   "source": [
    "shortest_path(graph2, 0, 7)"
   ]
  },
  {
   "cell_type": "code",
   "execution_count": 59,
   "id": "ea483fa5",
   "metadata": {},
   "outputs": [
    {
     "data": {
      "text/plain": [
       "(15, [3, 7, None, 2, 3, 2, 5, 2, 4])"
      ]
     },
     "execution_count": 59,
     "metadata": {},
     "output_type": "execute_result"
    }
   ],
   "source": [
    "shortest_path(graph2, 2, 8)"
   ]
  },
  {
   "cell_type": "code",
   "execution_count": 91,
   "id": "foreign-malpractice",
   "metadata": {},
   "outputs": [],
   "source": [
    "import jovian"
   ]
  },
  {
   "cell_type": "code",
   "execution_count": 92,
   "id": "reserved-investor",
   "metadata": {},
   "outputs": [
    {
     "data": {
      "application/javascript": [
       "window.require && require([\"base/js/namespace\"],function(Jupyter){Jupyter.notebook.save_checkpoint()})"
      ],
      "text/plain": [
       "<IPython.core.display.Javascript object>"
      ]
     },
     "metadata": {},
     "output_type": "display_data"
    },
    {
     "name": "stdout",
     "output_type": "stream",
     "text": [
      "[jovian] Attempting to save notebook..\u001b[0m\n",
      "[jovian] Updating notebook \"aakashns/python-graph-algorithms\" on https://jovian.ai/\u001b[0m\n",
      "[jovian] Uploading notebook..\u001b[0m\n",
      "[jovian] Capturing environment..\u001b[0m\n",
      "[jovian] Committed successfully! https://jovian.ai/aakashns/python-graph-algorithms\u001b[0m\n"
     ]
    },
    {
     "data": {
      "text/plain": [
       "'https://jovian.ai/aakashns/python-graph-algorithms'"
      ]
     },
     "execution_count": 92,
     "metadata": {},
     "output_type": "execute_result"
    }
   ],
   "source": [
    "jovian.commit()"
   ]
  },
  {
   "cell_type": "markdown",
   "id": "coordinate-circle",
   "metadata": {
    "heading_collapsed": true
   },
   "source": [
    "### Binary Heap\n",
    "\n",
    "A data structure to maintain the running minimum/maximum of a set of numbers, supporting efficient addition/removal.\n",
    "\n",
    "\n",
    "<img src=\"https://i.imgur.com/ABAcM7m.png\" width=\"400\">\n",
    "\n",
    "\n",
    "Heap operations:\n",
    "\n",
    "- Insertion - $O(log N)$\n",
    "- Min/Max - $O(1)$ (depending on type of heap)\n",
    "- Deletion - $O(log N)$\n",
    "- Convert a list to a heap - $O(n)$\n",
    "\n",
    "\n",
    "Python's built-in heap: https://docs.python.org/3/library/heapq.html\n",
    "\n",
    "> **Question**: Implement Dijkstra's shortest path algorithm using the `heap` module from Python. What is the complexity of the algorithm?"
   ]
  },
  {
   "cell_type": "code",
   "execution_count": null,
   "id": "north-administrator",
   "metadata": {
    "hidden": true
   },
   "outputs": [],
   "source": []
  },
  {
   "cell_type": "code",
   "execution_count": null,
   "id": "latter-sunday",
   "metadata": {
    "hidden": true
   },
   "outputs": [],
   "source": []
  },
  {
   "cell_type": "markdown",
   "id": "pointed-diabetes",
   "metadata": {},
   "source": [
    "### More Problems\n",
    "\n",
    "Solve more graph problems here: https://leetcode.com/tag/graph/"
   ]
  },
  {
   "cell_type": "code",
   "execution_count": 93,
   "id": "banner-canadian",
   "metadata": {},
   "outputs": [],
   "source": [
    "import jovian"
   ]
  },
  {
   "cell_type": "code",
   "execution_count": 94,
   "id": "union-chambers",
   "metadata": {},
   "outputs": [
    {
     "data": {
      "application/javascript": [
       "window.require && require([\"base/js/namespace\"],function(Jupyter){Jupyter.notebook.save_checkpoint()})"
      ],
      "text/plain": [
       "<IPython.core.display.Javascript object>"
      ]
     },
     "metadata": {},
     "output_type": "display_data"
    },
    {
     "name": "stdout",
     "output_type": "stream",
     "text": [
      "[jovian] Attempting to save notebook..\u001b[0m\n",
      "[jovian] Updating notebook \"aakashns/python-graph-algorithms\" on https://jovian.ai/\u001b[0m\n",
      "[jovian] Uploading notebook..\u001b[0m\n",
      "[jovian] Capturing environment..\u001b[0m\n",
      "[jovian] Committed successfully! https://jovian.ai/aakashns/python-graph-algorithms\u001b[0m\n"
     ]
    },
    {
     "data": {
      "text/plain": [
       "'https://jovian.ai/aakashns/python-graph-algorithms'"
      ]
     },
     "execution_count": 94,
     "metadata": {},
     "output_type": "execute_result"
    }
   ],
   "source": [
    "jovian.commit()"
   ]
  },
  {
   "cell_type": "code",
   "execution_count": null,
   "id": "existing-hospital",
   "metadata": {},
   "outputs": [],
   "source": []
  },
  {
   "cell_type": "code",
   "execution_count": null,
   "id": "tribal-brand",
   "metadata": {},
   "outputs": [],
   "source": []
  },
  {
   "cell_type": "markdown",
   "id": "ethical-marathon",
   "metadata": {},
   "source": [
    "## Solutions\n",
    "\n",
    "![](https://i.imgur.com/E2Up1Pk.png)"
   ]
  },
  {
   "cell_type": "markdown",
   "id": "desirable-possibility",
   "metadata": {},
   "source": [
    "### Input Data"
   ]
  },
  {
   "cell_type": "code",
   "execution_count": 26,
   "id": "according-lunch",
   "metadata": {},
   "outputs": [
    {
     "data": {
      "text/plain": [
       "(5, 7)"
      ]
     },
     "execution_count": 26,
     "metadata": {},
     "output_type": "execute_result"
    }
   ],
   "source": [
    "num_nodes1 = 5\n",
    "edges1 = [(0, 1), (1, 2), (2, 3), (3, 4), (4, 0), (1, 4), (1, 3)]\n",
    "num_nodes1, len(edges1)"
   ]
  },
  {
   "cell_type": "code",
   "execution_count": 25,
   "id": "italian-armor",
   "metadata": {},
   "outputs": [
    {
     "data": {
      "text/plain": [
       "(9, 8)"
      ]
     },
     "execution_count": 25,
     "metadata": {},
     "output_type": "execute_result"
    }
   ],
   "source": [
    "num_nodes3 = 9\n",
    "edges3 = [(0, 1), (0, 3), (1, 2), (2, 3), (4, 5), (4, 6), (5, 6), (7, 8)]\n",
    "num_nodes3, len(edges3)"
   ]
  },
  {
   "cell_type": "code",
   "execution_count": 15,
   "id": "strategic-deposit",
   "metadata": {},
   "outputs": [
    {
     "data": {
      "text/plain": [
       "(9, 10)"
      ]
     },
     "execution_count": 15,
     "metadata": {},
     "output_type": "execute_result"
    }
   ],
   "source": [
    "num_nodes5 = 9\n",
    "edges5 = [(0, 1, 3), (0, 3, 2), (0, 8, 4), (1, 7, 4), (2, 7, 2), (2, 3, 6), \n",
    "          (2, 5, 1), (3, 4, 1), (4, 8, 8), (5, 6, 8)]\n",
    "\n",
    "num_nodes5, len(edges5)"
   ]
  },
  {
   "cell_type": "code",
   "execution_count": 16,
   "id": "broke-hungarian",
   "metadata": {},
   "outputs": [
    {
     "data": {
      "text/plain": [
       "(5, 6)"
      ]
     },
     "execution_count": 16,
     "metadata": {},
     "output_type": "execute_result"
    }
   ],
   "source": [
    "# Directed graph\n",
    "num_nodes6 = 5\n",
    "edges6 = [(0, 1), (1, 2), (2, 3), (2, 4), (4, 2), (3, 0)]\n",
    "num_nodes6, len(edges6)"
   ]
  },
  {
   "cell_type": "code",
   "execution_count": 29,
   "id": "instructional-sarah",
   "metadata": {},
   "outputs": [
    {
     "data": {
      "text/plain": [
       "(6, 7)"
      ]
     },
     "execution_count": 29,
     "metadata": {},
     "output_type": "execute_result"
    }
   ],
   "source": [
    "num_nodes7 = 6\n",
    "edges7 = [(0, 1, 4), (0, 2, 2), (1, 2, 5), (1, 3, 10), (2, 4, 3), (4, 3, 4), (3, 5, 11)]\n",
    "num_nodes7, len(edges7)"
   ]
  },
  {
   "cell_type": "markdown",
   "id": "homeless-hawaii",
   "metadata": {},
   "source": [
    "### Adjacency List"
   ]
  },
  {
   "cell_type": "code",
   "execution_count": 23,
   "id": "promising-atlantic",
   "metadata": {},
   "outputs": [],
   "source": [
    "class Graph:\n",
    "    def __init__(self, num_nodes, edges):\n",
    "        self.data = [[] for _ in range(num_nodes)]\n",
    "        for v1, v2 in edges:\n",
    "            self.data[v1].append(v2)\n",
    "            self.data[v2].append(v1)\n",
    "            \n",
    "    def __repr__(self):\n",
    "        return \"\\n\".join([\"{} : {}\".format(i, neighbors) for (i, neighbors) in enumerate(self.data)])\n",
    "\n",
    "    def __str__(self):\n",
    "        return repr(self)"
   ]
  },
  {
   "cell_type": "code",
   "execution_count": 21,
   "id": "buried-brake",
   "metadata": {},
   "outputs": [],
   "source": [
    "g1 = Graph(num_nodes1, edges1)"
   ]
  },
  {
   "cell_type": "code",
   "execution_count": 22,
   "id": "honey-tension",
   "metadata": {},
   "outputs": [
    {
     "data": {
      "text/plain": [
       "0 : [1, 4]\n",
       "1 : [0, 2, 4, 3]\n",
       "2 : [1, 3]\n",
       "3 : [2, 4, 1]\n",
       "4 : [3, 0, 1]"
      ]
     },
     "execution_count": 22,
     "metadata": {},
     "output_type": "execute_result"
    }
   ],
   "source": [
    "g1"
   ]
  },
  {
   "cell_type": "markdown",
   "id": "caroline-smile",
   "metadata": {},
   "source": [
    "### Adjacency Matrix"
   ]
  },
  {
   "cell_type": "code",
   "execution_count": null,
   "id": "voluntary-border",
   "metadata": {},
   "outputs": [],
   "source": []
  },
  {
   "cell_type": "code",
   "execution_count": null,
   "id": "fantastic-vacation",
   "metadata": {},
   "outputs": [],
   "source": []
  },
  {
   "cell_type": "markdown",
   "id": "fifty-portland",
   "metadata": {},
   "source": [
    "### Breadth First Search\n",
    "\n",
    "Complexity $O(m + n)$"
   ]
  },
  {
   "cell_type": "code",
   "execution_count": 37,
   "id": "hairy-technique",
   "metadata": {},
   "outputs": [],
   "source": [
    "def bfs(graph, source):\n",
    "    visited = [False] * len(graph.data)\n",
    "    queue = []\n",
    "    \n",
    "    visited[source] = True    \n",
    "    queue.append(source)\n",
    "    i = 0\n",
    "    \n",
    "    while i < len(queue):\n",
    "        for v in graph.data[queue[i]]:\n",
    "            if not visited[v]:\n",
    "                visited[v] = True\n",
    "                queue.append(v)\n",
    "        i += 1\n",
    "        \n",
    "    return queue"
   ]
  },
  {
   "cell_type": "code",
   "execution_count": 39,
   "id": "deluxe-trust",
   "metadata": {},
   "outputs": [
    {
     "data": {
      "text/plain": [
       "[3, 2, 4, 1, 0]"
      ]
     },
     "execution_count": 39,
     "metadata": {},
     "output_type": "execute_result"
    }
   ],
   "source": [
    "bfs(g1, 3)"
   ]
  },
  {
   "cell_type": "code",
   "execution_count": null,
   "id": "immune-rider",
   "metadata": {},
   "outputs": [],
   "source": []
  },
  {
   "cell_type": "code",
   "execution_count": null,
   "id": "compatible-ceramic",
   "metadata": {},
   "outputs": [],
   "source": []
  },
  {
   "cell_type": "markdown",
   "id": "active-simon",
   "metadata": {},
   "source": [
    "### Depth First Search"
   ]
  },
  {
   "cell_type": "code",
   "execution_count": 44,
   "id": "august-passage",
   "metadata": {},
   "outputs": [],
   "source": [
    "def dfs(graph, source):\n",
    "    visited = [False] * len(graph.data)\n",
    "    stack = [source]\n",
    "    result = []\n",
    "    \n",
    "    while len(stack) > 0:\n",
    "        current = stack.pop()\n",
    "        if not visited[current]:\n",
    "            result.append(current)\n",
    "            visited[current] = True\n",
    "            for v in graph.data[current]:\n",
    "                stack.append(v)\n",
    "                \n",
    "    return result"
   ]
  },
  {
   "cell_type": "code",
   "execution_count": 45,
   "id": "coordinate-public",
   "metadata": {},
   "outputs": [
    {
     "data": {
      "text/plain": [
       "[0, 4, 1, 3, 2]"
      ]
     },
     "execution_count": 45,
     "metadata": {},
     "output_type": "execute_result"
    }
   ],
   "source": [
    "dfs(g1, 0)"
   ]
  },
  {
   "cell_type": "code",
   "execution_count": null,
   "id": "funded-insert",
   "metadata": {},
   "outputs": [],
   "source": []
  },
  {
   "cell_type": "code",
   "execution_count": null,
   "id": "compliant-passing",
   "metadata": {},
   "outputs": [],
   "source": []
  },
  {
   "cell_type": "markdown",
   "id": "lasting-directory",
   "metadata": {},
   "source": [
    "### Directed and Weighted Graph"
   ]
  },
  {
   "cell_type": "code",
   "execution_count": 67,
   "id": "olympic-bridge",
   "metadata": {},
   "outputs": [],
   "source": [
    "class Graph:\n",
    "    def __init__(self, num_nodes, edges, directed=False):\n",
    "        self.data = [[] for _ in range(num_nodes)]\n",
    "        self.weight = [[] for _ in range(num_nodes)]\n",
    "        \n",
    "        self.directed = directed\n",
    "        self.weighted = len(edges) > 0 and len(edges[0]) == 3\n",
    "            \n",
    "        for e in edges:\n",
    "            self.data[e[0]].append(e[1])\n",
    "            if self.weighted:\n",
    "                self.weight[e[0]].append(e[2])\n",
    "            \n",
    "            if not directed:\n",
    "                self.data[e[1]].append(e[0])\n",
    "                if self.weighted:\n",
    "                    self.data[e[1]].append(e[2])\n",
    "                \n",
    "    def __repr__(self):\n",
    "        result = \"\"\n",
    "        for i in range(len(self.data)):\n",
    "            pairs = list(zip(self.data[i], self.weight[i]))\n",
    "            result += \"{}: {}\\n\".format(i, pairs)\n",
    "        return result\n",
    "\n",
    "    def __str__(self):\n",
    "        return repr(self)"
   ]
  },
  {
   "cell_type": "code",
   "execution_count": 68,
   "id": "monthly-vatican",
   "metadata": {},
   "outputs": [],
   "source": [
    "g7 = Graph(num_nodes7, edges7, directed=True)"
   ]
  },
  {
   "cell_type": "code",
   "execution_count": 69,
   "id": "entertaining-soundtrack",
   "metadata": {},
   "outputs": [
    {
     "data": {
      "text/plain": [
       "0: [(1, 4), (2, 2)]\n",
       "1: [(2, 5), (3, 10)]\n",
       "2: [(4, 3)]\n",
       "3: [(5, 11)]\n",
       "4: [(3, 4)]\n",
       "5: []"
      ]
     },
     "execution_count": 69,
     "metadata": {},
     "output_type": "execute_result"
    }
   ],
   "source": [
    "g7"
   ]
  },
  {
   "cell_type": "code",
   "execution_count": 61,
   "id": "related-senator",
   "metadata": {},
   "outputs": [
    {
     "data": {
      "text/plain": [
       "[2, 10, 3, 11, 4, []]"
      ]
     },
     "execution_count": 61,
     "metadata": {},
     "output_type": "execute_result"
    }
   ],
   "source": [
    "g7.weight"
   ]
  },
  {
   "cell_type": "markdown",
   "id": "confident-rochester",
   "metadata": {},
   "source": [
    "### Shortest Path - Dijkstra's Algorithm"
   ]
  },
  {
   "cell_type": "code",
   "execution_count": 83,
   "id": "pursuant-bedroom",
   "metadata": {},
   "outputs": [],
   "source": [
    "def update_distances(graph, current, distance, parent=None):\n",
    "    \"\"\"Update the distances of the current node's neighbors\"\"\"\n",
    "    neighbors = graph.data[current]\n",
    "    weights = graph.weight[current]\n",
    "    for i, node in enumerate(neighbors):\n",
    "        weight = weights[i]\n",
    "        if distance[current] + weight < distance[node]:\n",
    "            distance[node] = distance[current] + weight\n",
    "            if parent:\n",
    "                parent[node] = current\n",
    "\n",
    "def pick_next_node(distance, visited):\n",
    "    \"\"\"Pick the next univisited node at the smallest distance\"\"\"\n",
    "    min_distance = float('inf')\n",
    "    min_node = None\n",
    "    for node in range(len(distance)):\n",
    "        if not visited[node] and distance[node] < min_distance:\n",
    "            min_node = node\n",
    "            min_distance = distance[node]\n",
    "    return min_node\n",
    "        \n",
    "def shortest_path(graph, source, dest):\n",
    "    \"\"\"Find the length of the shortest path between source and destination\"\"\"\n",
    "    visited = [False] * len(graph.data)\n",
    "    distance = [float('inf')] * len(graph.data)\n",
    "    parent = [None] * len(graph.data)\n",
    "    queue = []\n",
    "    idx = 0\n",
    "    \n",
    "    queue.append(source)\n",
    "    distance[source] = 0\n",
    "    visited[source] = True\n",
    "    \n",
    "    while idx < len(queue) and not visited[dest]:\n",
    "        current = queue[idx]\n",
    "        update_distances(graph, current, distance, parent)\n",
    "        \n",
    "        next_node = pick_next_node(distance, visited)\n",
    "        if next_node is not None:\n",
    "            visited[next_node] = True\n",
    "            queue.append(next_node)\n",
    "        idx += 1\n",
    "        \n",
    "    return distance[dest], distance, parent"
   ]
  },
  {
   "cell_type": "markdown",
   "id": "celtic-tension",
   "metadata": {},
   "source": [
    "<img src=\"https://i.imgur.com/Zn5cUkO.png\" width=\"400\">"
   ]
  },
  {
   "cell_type": "code",
   "execution_count": 84,
   "id": "grand-barbados",
   "metadata": {},
   "outputs": [
    {
     "data": {
      "text/plain": [
       "(20, [0, 4, 2, 9, 5, 20], [None, 0, 0, 4, 2, 3])"
      ]
     },
     "execution_count": 84,
     "metadata": {},
     "output_type": "execute_result"
    }
   ],
   "source": [
    "shortest_path(g7, 0, 5)"
   ]
  },
  {
   "cell_type": "code",
   "execution_count": null,
   "id": "quick-header",
   "metadata": {},
   "outputs": [],
   "source": []
  },
  {
   "cell_type": "code",
   "execution_count": null,
   "id": "wicked-desert",
   "metadata": {},
   "outputs": [],
   "source": []
  },
  {
   "cell_type": "code",
   "execution_count": null,
   "id": "rocky-ready",
   "metadata": {},
   "outputs": [],
   "source": []
  },
  {
   "cell_type": "code",
   "execution_count": null,
   "id": "labeled-watch",
   "metadata": {},
   "outputs": [],
   "source": []
  },
  {
   "cell_type": "code",
   "execution_count": 2,
   "id": "advanced-decrease",
   "metadata": {},
   "outputs": [],
   "source": [
    "import jovian"
   ]
  },
  {
   "cell_type": "code",
   "execution_count": null,
   "id": "injured-juice",
   "metadata": {},
   "outputs": [
    {
     "data": {
      "application/javascript": [
       "window.require && require([\"base/js/namespace\"],function(Jupyter){Jupyter.notebook.save_checkpoint()})"
      ],
      "text/plain": [
       "<IPython.core.display.Javascript object>"
      ]
     },
     "metadata": {},
     "output_type": "display_data"
    },
    {
     "name": "stdout",
     "output_type": "stream",
     "text": [
      "[jovian] Attempting to save notebook..\u001b[0m\n"
     ]
    }
   ],
   "source": [
    "jovian.commit()"
   ]
  },
  {
   "cell_type": "code",
   "execution_count": null,
   "id": "international-motor",
   "metadata": {},
   "outputs": [],
   "source": []
  }
 ],
 "metadata": {
  "language_info": {
   "codemirror_mode": {
    "name": "ipython",
    "version": 3
   },
   "file_extension": ".py",
   "mimetype": "text/x-python",
   "name": "python",
   "nbconvert_exporter": "python",
   "pygments_lexer": "ipython3",
   "version": "3.9.6"
  }
 },
 "nbformat": 4,
 "nbformat_minor": 5
}