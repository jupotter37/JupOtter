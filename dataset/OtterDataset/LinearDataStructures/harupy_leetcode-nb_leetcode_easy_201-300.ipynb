{
 "cells": [
  {
   "cell_type": "markdown",
   "metadata": {},
   "source": [
    "# LeetCode"
   ]
  },
  {
   "cell_type": "code",
   "execution_count": 1,
   "metadata": {},
   "outputs": [
    {
     "data": {
      "text/html": [
       "\n",
       "<style>\n",
       "    div.example {\n",
       "        display: block;\n",
       "        padding: 9.5px;\n",
       "        margin: 0 0 10px;\n",
       "        white-space: pre;\n",
       "        background-color: #ffffe0;\n",
       "        border: 1px solid #ccc;\n",
       "        border-radius: 4px;\n",
       "    }\n",
       "\n",
       "    code {\n",
       "        color: #c7254e !important;\n",
       "        background-color: #f9f2f4 !important;\n",
       "    }\n",
       "\n",
       "    div.example code {\n",
       "        background-color: #ffffe0 !important;\n",
       "    }\n",
       "\n",
       "    hr {\n",
       "        border-top: 2px solid #000;\n",
       "    }\n",
       "</style>\n"
      ],
      "text/plain": [
       "<IPython.core.display.HTML object>"
      ]
     },
     "execution_count": 1,
     "metadata": {},
     "output_type": "execute_result"
    }
   ],
   "source": [
    "from IPython.display import HTML\n",
    "from __future__ import print_function\n",
    "xrange = range\n",
    "\n",
    "css = \"\"\"\n",
    "<style>\n",
    "    div.example {\n",
    "        display: block;\n",
    "        padding: 9.5px;\n",
    "        margin: 0 0 10px;\n",
    "        white-space: pre;\n",
    "        background-color: #ffffe0;\n",
    "        border: 1px solid #ccc;\n",
    "        border-radius: 4px;\n",
    "    }\n",
    "\n",
    "    code {\n",
    "        color: #c7254e !important;\n",
    "        background-color: #f9f2f4 !important;\n",
    "    }\n",
    "\n",
    "    div.example code {\n",
    "        background-color: #ffffe0 !important;\n",
    "    }\n",
    "\n",
    "    hr {\n",
    "        border-top: 2px solid #000;\n",
    "    }\n",
    "</style>\n",
    "\"\"\"\n",
    "\n",
    "HTML(css)"
   ]
  },
  {
   "cell_type": "markdown",
   "metadata": {},
   "source": [
    "---\n",
    "## [202. Happy Number (Easy)](https://leetcode.com/problems/happy-number/description)\n",
    "<p>Write an algorithm to determine if a number is \"happy\".</p>\n",
    "<p>A happy number is a number defined by the following process: Starting with any positive integer, replace the number by the sum of the squares of its digits, and repeat the process until the number equals 1 (where it will stay), or it loops endlessly in a cycle which does not include 1. Those numbers for which this process ends in 1 are happy numbers.</p>\n",
    "<p><strong>Example: </strong></p>\n",
    "<div class=\"example\"><strong>Input:</strong> 19\n",
    "<strong>Output:</strong> true\n",
    "<strong>Explanation: \n",
    "</strong>1<sup>2</sup> + 9<sup>2</sup> = 82\n",
    "8<sup>2</sup> + 2<sup>2</sup> = 68\n",
    "6<sup>2</sup> + 8<sup>2</sup> = 100\n",
    "1<sup>2</sup> + 0<sup>2</sup> + 0<sup>2</sup> = 1</div>\n"
   ]
  },
  {
   "cell_type": "code",
   "execution_count": null,
   "metadata": {},
   "outputs": [],
   "source": [
    "class Solution(object):\n",
    "    def isHappy(self, n):\n",
    "        \"\"\"\n",
    "        :type n: int\n",
    "        :rtype: bool\n",
    "        \"\"\"\n",
    "        "
   ]
  },
  {
   "cell_type": "markdown",
   "metadata": {},
   "source": [
    "---\n",
    "## [203. Remove Linked List Elements (Easy)](https://leetcode.com/problems/remove-linked-list-elements/description)\n",
    "<p>Remove all elements from a linked list of integers that have value <b><i>val</i></b>.</p>\n",
    "<p><b>Example:</b></p>\n",
    "<div class=\"example\"><b>Input:</b>  1-&gt;2-&gt;6-&gt;3-&gt;4-&gt;5-&gt;6, <em><b>val</b></em> = 6\n",
    "<b>Output:</b> 1-&gt;2-&gt;3-&gt;4-&gt;5</div>\n"
   ]
  },
  {
   "cell_type": "code",
   "execution_count": null,
   "metadata": {},
   "outputs": [],
   "source": [
    "# Definition for singly-linked list.\n",
    "# class ListNode(object):\n",
    "#     def __init__(self, x):\n",
    "#         self.val = x\n",
    "#         self.next = None\n",
    "\n",
    "class Solution(object):\n",
    "    def removeElements(self, head, val):\n",
    "        \"\"\"\n",
    "        :type head: ListNode\n",
    "        :type val: int\n",
    "        :rtype: ListNode\n",
    "        \"\"\""
   ]
  },
  {
   "cell_type": "markdown",
   "metadata": {},
   "source": [
    "---\n",
    "## [204. Count Primes (Easy)](https://leetcode.com/problems/count-primes/description)\n",
    "<p>Count the number of prime numbers less than a non-negative number, <b><i>n</i></b>.</p>\n",
    "<p><strong>Example:</strong></p>\n",
    "<div class=\"example\"><strong>Input:</strong> 10\n",
    "<strong>Output:</strong> 4\n",
    "<strong>Explanation:</strong> There are 4 prime numbers less than 10, they are 2, 3, 5, 7.</div>\n"
   ]
  },
  {
   "cell_type": "code",
   "execution_count": null,
   "metadata": {},
   "outputs": [],
   "source": [
    "class Solution(object):\n",
    "    def countPrimes(self, n):\n",
    "        \"\"\"\n",
    "        :type n: int\n",
    "        :rtype: int\n",
    "        \"\"\"\n",
    "        "
   ]
  },
  {
   "cell_type": "markdown",
   "metadata": {},
   "source": [
    "---\n",
    "## [205. Isomorphic Strings (Easy)](https://leetcode.com/problems/isomorphic-strings/description)\n",
    "<p>Given two strings <b><i>s</i></b> and <b><i>t</i></b>, determine if they are isomorphic.</p>\n",
    "<p>Two strings are isomorphic if the characters in <b><i>s</i></b> can be replaced to get <b><i>t</i></b>.</p>\n",
    "<p>All occurrences of a character must be replaced with another character while preserving the order of characters. No two characters may map to the same character but a character may map to itself.</p>\n",
    "<p><strong>Example 1:</strong></p>\n",
    "<div class=\"example\"><strong>Input:</strong> <b><i>s</i></b> = <code>\"egg\", </code><b><i>t = </i></b><code>\"add\"</code>\n",
    "<strong>Output:</strong> true</div>\n",
    "<p><strong>Example 2:</strong></p>\n",
    "<div class=\"example\"><strong>Input:</strong> <b><i>s</i></b> = <code>\"foo\", </code><b><i>t = </i></b><code>\"bar\"</code>\n",
    "<strong>Output:</strong> false</div>\n",
    "<p><strong>Example 3:</strong></p>\n",
    "<div class=\"example\"><strong>Input:</strong> <b><i>s</i></b> = <code>\"paper\", </code><b><i>t = </i></b><code>\"title\"</code>\n",
    "<strong>Output:</strong> true</div>\n",
    "<p><b>Note:</b><br/>\n",
    "You may assume both <b><i>s </i></b>and <b><i>t </i></b>have the same length.</p>\n"
   ]
  },
  {
   "cell_type": "code",
   "execution_count": null,
   "metadata": {},
   "outputs": [],
   "source": [
    "class Solution(object):\n",
    "    def isIsomorphic(self, s, t):\n",
    "        \"\"\"\n",
    "        :type s: str\n",
    "        :type t: str\n",
    "        :rtype: bool\n",
    "        \"\"\""
   ]
  },
  {
   "cell_type": "markdown",
   "metadata": {},
   "source": [
    "---\n",
    "## [206. Reverse Linked List (Easy)](https://leetcode.com/problems/reverse-linked-list/description)\n",
    "<p>Reverse a singly linked list.</p>\n",
    "<p><strong>Example:</strong></p>\n",
    "<div class=\"example\"><strong>Input:</strong> 1-&gt;2-&gt;3-&gt;4-&gt;5-&gt;NULL\n",
    "<strong>Output:</strong> 5-&gt;4-&gt;3-&gt;2-&gt;1-&gt;NULL</div>\n",
    "<p><b>Follow up:</b></p>\n",
    "<p>A linked list can be reversed either iteratively or recursively. Could you implement both?</p>\n"
   ]
  },
  {
   "cell_type": "code",
   "execution_count": null,
   "metadata": {},
   "outputs": [],
   "source": [
    "# Definition for singly-linked list.\n",
    "# class ListNode(object):\n",
    "#     def __init__(self, x):\n",
    "#         self.val = x\n",
    "#         self.next = None\n",
    "\n",
    "class Solution(object):\n",
    "    def reverseList(self, head):\n",
    "        \"\"\"\n",
    "        :type head: ListNode\n",
    "        :rtype: ListNode\n",
    "        \"\"\""
   ]
  },
  {
   "cell_type": "markdown",
   "metadata": {},
   "source": [
    "---\n",
    "## [217. Contains Duplicate (Easy)](https://leetcode.com/problems/contains-duplicate/description)\n",
    "<p>Given an array of integers, find if the array contains any duplicates.</p>\n",
    "<p>Your function should return true if any value appears at least twice in the array, and it should return false if every element is distinct.</p>\n",
    "<p><strong>Example 1:</strong></p>\n",
    "<div class=\"example\"><strong>Input:</strong> [1,2,3,1]\n",
    "<strong>Output:</strong> true</div>\n",
    "<p><strong>Example 2:</strong></p>\n",
    "<div class=\"example\"><strong>Input: </strong>[1,2,3,4]\n",
    "<strong>Output:</strong> false</div>\n",
    "<p><strong>Example 3:</strong></p>\n",
    "<div class=\"example\"><strong>Input: </strong>[1,1,1,3,3,4,3,2,4,2]\n",
    "<strong>Output:</strong> true</div>"
   ]
  },
  {
   "cell_type": "code",
   "execution_count": null,
   "metadata": {},
   "outputs": [],
   "source": [
    "class Solution(object):\n",
    "    def containsDuplicate(self, nums):\n",
    "        \"\"\"\n",
    "        :type nums: List[int]\n",
    "        :rtype: bool\n",
    "        \"\"\""
   ]
  },
  {
   "cell_type": "markdown",
   "metadata": {},
   "source": [
    "---\n",
    "## [219. Contains Duplicate II (Easy)](https://leetcode.com/problems/contains-duplicate-ii/description)\n",
    "<p>Given an array of integers and an integer <i>k</i>, find out whether there are two distinct indices <i>i</i> and <i>j</i> in the array such that <b>nums[i] = nums[j]</b> and the <b>absolute</b> difference between <i>i</i> and <i>j</i> is at most <i>k</i>.</p>\n",
    "<div>\n",
    "<p><strong>Example 1:</strong></p>\n",
    "<div class=\"example\"><strong>Input: </strong>nums = <span id=\"example-input-1-1\">[1,2,3,1]</span>, k = <span id=\"example-input-1-2\">3</span>\n",
    "<strong>Output: </strong><span id=\"example-output-1\">true</span></div>\n",
    "<div>\n",
    "<p><strong>Example 2:</strong></p>\n",
    "<div class=\"example\"><strong>Input: </strong>nums = <span id=\"example-input-2-1\">[1,0,1,1]</span>, k = <span id=\"example-input-2-2\">1</span>\n",
    "<strong>Output: </strong><span id=\"example-output-2\">true</span></div>\n",
    "<div>\n",
    "<p><strong>Example 3:</strong></p>\n",
    "<div class=\"example\"><strong>Input: </strong>nums = <span id=\"example-input-3-1\">[1,2,3,1,2,3]</span>, k = <span id=\"example-input-3-2\">2</span>\n",
    "<strong>Output: </strong><span id=\"example-output-3\">false</span></div></div></div></div>"
   ]
  },
  {
   "cell_type": "code",
   "execution_count": null,
   "metadata": {},
   "outputs": [],
   "source": [
    "class Solution(object):\n",
    "    def containsNearbyDuplicate(self, nums, k):\n",
    "        \"\"\"\n",
    "        :type nums: List[int]\n",
    "        :type k: int\n",
    "        :rtype: bool\n",
    "        \"\"\""
   ]
  },
  {
   "cell_type": "markdown",
   "metadata": {},
   "source": [
    "---\n",
    "## [225. Implement Stack using Queues (Easy)](https://leetcode.com/problems/implement-stack-using-queues/description)\n",
    "<p>Implement the following operations of a stack using queues.</p>\n",
    "<ul>\n",
    "<li>push(x) -- Push element x onto stack.</li>\n",
    "<li>pop() -- Removes the element on top of the stack.</li>\n",
    "<li>top() -- Get the top element.</li>\n",
    "<li>empty() -- Return whether the stack is empty.</li>\n",
    "</ul>\n",
    "<p><b>Example:</b></p>\n",
    "<div class=\"example\">MyStack stack = new MyStack();\n",
    "\n",
    "stack.push(1);\n",
    "stack.push(2);  \n",
    "stack.top();   // returns 2\n",
    "stack.pop();   // returns 2\n",
    "stack.empty(); // returns false</div>\n",
    "<p><b>Notes:</b></p>\n",
    "<ul>\n",
    "<li>You must use <i>only</i> standard operations of a queue -- which means only <code>push to back</code>, <code>peek/pop from front</code>, <code>size</code>, and <code>is empty</code> operations are valid.</li>\n",
    "<li>Depending on your language, queue may not be supported natively. You may simulate a queue by using a list or deque (double-ended queue), as long as you use only standard operations of a queue.</li>\n",
    "<li>You may assume that all operations are valid (for example, no pop or top operations will be called on an empty stack).</li>\n",
    "</ul>\n"
   ]
  },
  {
   "cell_type": "code",
   "execution_count": null,
   "metadata": {},
   "outputs": [],
   "source": [
    "class MyStack(object):\n",
    "\n",
    "    def __init__(self):\n",
    "        \"\"\"\n",
    "        Initialize your data structure here.\n",
    "        \"\"\"\n",
    "        \n",
    "\n",
    "    def push(self, x):\n",
    "        \"\"\"\n",
    "        Push element x onto stack.\n",
    "        :type x: int\n",
    "        :rtype: void\n",
    "        \"\"\"\n",
    "        \n",
    "\n",
    "    def pop(self):\n",
    "        \"\"\"\n",
    "        Removes the element on top of the stack and returns that element.\n",
    "        :rtype: int\n",
    "        \"\"\"\n",
    "        \n",
    "\n",
    "    def top(self):\n",
    "        \"\"\"\n",
    "        Get the top element.\n",
    "        :rtype: int\n",
    "        \"\"\"\n",
    "        \n",
    "\n",
    "    def empty(self):\n",
    "        \"\"\"\n",
    "        Returns whether the stack is empty.\n",
    "        :rtype: bool\n",
    "        \"\"\"\n",
    "        \n",
    "\n",
    "\n",
    "# Your MyStack object will be instantiated and called as such:\n",
    "# obj = MyStack()\n",
    "# obj.push(x)\n",
    "# param_2 = obj.pop()\n",
    "# param_3 = obj.top()\n",
    "# param_4 = obj.empty()"
   ]
  },
  {
   "cell_type": "markdown",
   "metadata": {},
   "source": [
    "---\n",
    "## [226. Invert Binary Tree (Easy)](https://leetcode.com/problems/invert-binary-tree/description)\n",
    "<p>Invert a binary tree.</p>\n",
    "<p><strong>Example:</strong></p>\n",
    "<p>Input:</p>\n",
    "<div class=\"example\">     4\n",
    "   /   \\\n",
    "  2     7\n",
    " / \\   / \\\n",
    "1   3 6   9</div>\n",
    "<p>Output:</p>\n",
    "<div class=\"example\">     4\n",
    "   /   \\\n",
    "  7     2\n",
    " / \\   / \\\n",
    "9   6 3   1</div>\n",
    "<p><strong>Trivia:</strong><br/>\n",
    "This problem was inspired by <a href=\"https://twitter.com/mxcl/status/608682016205344768\" target=\"_blank\">this original tweet</a> by <a href=\"https://twitter.com/mxcl\" target=\"_blank\">Max Howell</a>:</p>\n",
    "<blockquote>Google: 90% of our engineers use the software you wrote (Homebrew), but you can’t invert a binary tree on a whiteboard so f*** off.</blockquote>\n"
   ]
  },
  {
   "cell_type": "code",
   "execution_count": null,
   "metadata": {},
   "outputs": [],
   "source": [
    "# Definition for a binary tree node.\n",
    "# class TreeNode(object):\n",
    "#     def __init__(self, x):\n",
    "#         self.val = x\n",
    "#         self.left = None\n",
    "#         self.right = None\n",
    "\n",
    "class Solution(object):\n",
    "    def invertTree(self, root):\n",
    "        \"\"\"\n",
    "        :type root: TreeNode\n",
    "        :rtype: TreeNode\n",
    "        \"\"\""
   ]
  },
  {
   "cell_type": "markdown",
   "metadata": {},
   "source": [
    "---\n",
    "## [231. Power of Two (Easy)](https://leetcode.com/problems/power-of-two/description)\n",
    "<p>Given an integer, write a function to determine if it is a power of two.</p>\n",
    "<p><strong>Example 1:</strong></p>\n",
    "<div class=\"example\"><strong>Input:</strong> 1\n",
    "<strong>Output:</strong> true \n",
    "<strong>Explanation: </strong>2<sup>0</sup> = 1</div>\n",
    "<p><strong>Example 2:</strong></p>\n",
    "<div class=\"example\"><strong>Input:</strong> 16\n",
    "<strong>Output:</strong> true\n",
    "<strong>Explanation: </strong>2<sup>4</sup> = 16</div>\n",
    "<p><strong>Example 3:</strong></p>\n",
    "<div class=\"example\"><strong>Input:</strong> 218\n",
    "<strong>Output:</strong> false</div>\n"
   ]
  },
  {
   "cell_type": "code",
   "execution_count": null,
   "metadata": {},
   "outputs": [],
   "source": [
    "class Solution(object):\n",
    "    def isPowerOfTwo(self, n):\n",
    "        \"\"\"\n",
    "        :type n: int\n",
    "        :rtype: bool\n",
    "        \"\"\""
   ]
  },
  {
   "cell_type": "markdown",
   "metadata": {},
   "source": [
    "---\n",
    "## [232. Implement Queue using Stacks (Easy)](https://leetcode.com/problems/implement-queue-using-stacks/description)\n",
    "<p>Implement the following operations of a queue using stacks.</p>\n",
    "<ul>\n",
    "<li>push(x) -- Push element x to the back of queue.</li>\n",
    "<li>pop() -- Removes the element from in front of queue.</li>\n",
    "<li>peek() -- Get the front element.</li>\n",
    "<li>empty() -- Return whether the queue is empty.</li>\n",
    "</ul>\n",
    "<p><b>Example:</b></p>\n",
    "<div class=\"example\">MyQueue queue = new MyQueue();\n",
    "\n",
    "queue.push(1);\n",
    "queue.push(2);  \n",
    "queue.peek();  // returns 1\n",
    "queue.pop();   // returns 1\n",
    "queue.empty(); // returns false</div>\n",
    "<p><b>Notes:</b></p>\n",
    "<ul>\n",
    "<li>You must use <i>only</i> standard operations of a stack -- which means only <code>push to top</code>, <code>peek/pop from top</code>, <code>size</code>, and <code>is empty</code> operations are valid.</li>\n",
    "<li>Depending on your language, stack may not be supported natively. You may simulate a stack by using a list or deque (double-ended queue), as long as you use only standard operations of a stack.</li>\n",
    "<li>You may assume that all operations are valid (for example, no pop or peek operations will be called on an empty queue).</li>\n",
    "</ul>\n"
   ]
  },
  {
   "cell_type": "code",
   "execution_count": null,
   "metadata": {},
   "outputs": [],
   "source": [
    "class MyQueue(object):\n",
    "\n",
    "    def __init__(self):\n",
    "        \"\"\"\n",
    "        Initialize your data structure here.\n",
    "        \"\"\"\n",
    "        \n",
    "\n",
    "    def push(self, x):\n",
    "        \"\"\"\n",
    "        Push element x to the back of queue.\n",
    "        :type x: int\n",
    "        :rtype: void\n",
    "        \"\"\"\n",
    "        \n",
    "\n",
    "    def pop(self):\n",
    "        \"\"\"\n",
    "        Removes the element from in front of queue and returns that element.\n",
    "        :rtype: int\n",
    "        \"\"\"\n",
    "        \n",
    "\n",
    "    def peek(self):\n",
    "        \"\"\"\n",
    "        Get the front element.\n",
    "        :rtype: int\n",
    "        \"\"\"\n",
    "        \n",
    "\n",
    "    def empty(self):\n",
    "        \"\"\"\n",
    "        Returns whether the queue is empty.\n",
    "        :rtype: bool\n",
    "        \"\"\"\n",
    "        \n",
    "\n",
    "\n",
    "# Your MyQueue object will be instantiated and called as such:\n",
    "# obj = MyQueue()\n",
    "# obj.push(x)\n",
    "# param_2 = obj.pop()\n",
    "# param_3 = obj.peek()\n",
    "# param_4 = obj.empty()"
   ]
  },
  {
   "cell_type": "markdown",
   "metadata": {},
   "source": [
    "---\n",
    "## [234. Palindrome Linked List (Easy)](https://leetcode.com/problems/palindrome-linked-list/description)\n",
    "<p>Given a singly linked list, determine if it is a palindrome.</p>\n",
    "<p><strong>Example 1:</strong></p>\n",
    "<div class=\"example\"><strong>Input:</strong> 1-&gt;2\n",
    "<strong>Output:</strong> false</div>\n",
    "<p><strong>Example 2:</strong></p>\n",
    "<div class=\"example\"><strong>Input:</strong> 1-&gt;2-&gt;2-&gt;1\n",
    "<strong>Output:</strong> true</div>\n",
    "<p><b>Follow up:</b><br/>\n",
    "Could you do it in O(n) time and O(1) space?</p>\n"
   ]
  },
  {
   "cell_type": "code",
   "execution_count": null,
   "metadata": {},
   "outputs": [],
   "source": [
    "# Definition for singly-linked list.\n",
    "# class ListNode(object):\n",
    "#     def __init__(self, x):\n",
    "#         self.val = x\n",
    "#         self.next = None\n",
    "\n",
    "class Solution(object):\n",
    "    def isPalindrome(self, head):\n",
    "        \"\"\"\n",
    "        :type head: ListNode\n",
    "        :rtype: bool\n",
    "        \"\"\""
   ]
  },
  {
   "cell_type": "markdown",
   "metadata": {},
   "source": [
    "---\n",
    "## [235. Lowest Common Ancestor of a Binary Search Tree (Easy)](https://leetcode.com/problems/lowest-common-ancestor-of-a-binary-search-tree/description)\n",
    "<p>Given a binary search tree (BST), find the lowest common ancestor (LCA) of two given nodes in the BST.</p>\n",
    "<p>According to the <a href=\"https://en.wikipedia.org/wiki/Lowest_common_ancestor\" target=\"_blank\">definition of LCA on Wikipedia</a>: “The lowest common ancestor is defined between two nodes p and q as the lowest node in T that has both p and q as descendants (where we allow <b>a node to be a descendant of itself</b>).”</p>\n",
    "<p>Given binary search tree:  root = [6,2,8,0,4,7,9,null,null,3,5]</p>\n",
    "<div class=\"example\">        _______6______\n",
    "       /              \\\n",
    "    ___2__          ___8__\n",
    "   /      \\        /      \\\n",
    "   0      _4       7       9\n",
    "         /  \\\n",
    "         3   5</div>\n",
    "<p><strong>Example 1:</strong></p>\n",
    "<div class=\"example\"><strong>Input:</strong> root = [6,2,8,0,4,7,9,null,null,3,5], p = 2, q = 8\n",
    "<strong>Output:</strong> 6\n",
    "<strong>Explanation: </strong>The LCA of nodes <code>2</code> and <code>8</code> is <code>6</code>.</div>\n",
    "<p><strong>Example 2:</strong></p>\n",
    "<div class=\"example\"><strong>Input:</strong> root = [6,2,8,0,4,7,9,null,null,3,5], p = 2, q = 4\n",
    "<strong>Output:</strong> 2\n",
    "<strong>Explanation: </strong>The LCA of nodes <code>2</code> and <code>4</code> is <code>2</code>, since a node can be a descendant of itself \n",
    "             according to the LCA definition.</div>\n",
    "<p><strong>Note:</strong></p>\n",
    "<ul>\n",
    "<li>All of the nodes' values will be unique.</li>\n",
    "<li>p and q are different and both values will exist in the BST.</li>\n",
    "</ul>\n"
   ]
  },
  {
   "cell_type": "code",
   "execution_count": null,
   "metadata": {},
   "outputs": [],
   "source": [
    "# Definition for a binary tree node.\n",
    "# class TreeNode(object):\n",
    "#     def __init__(self, x):\n",
    "#         self.val = x\n",
    "#         self.left = None\n",
    "#         self.right = None\n",
    "\n",
    "class Solution(object):\n",
    "    def lowestCommonAncestor(self, root, p, q):\n",
    "        \"\"\"\n",
    "        :type root: TreeNode\n",
    "        :type p: TreeNode\n",
    "        :type q: TreeNode\n",
    "        :rtype: TreeNode\n",
    "        \"\"\""
   ]
  },
  {
   "cell_type": "markdown",
   "metadata": {},
   "source": [
    "---\n",
    "## [237. Delete Node in a Linked List (Easy)](https://leetcode.com/problems/delete-node-in-a-linked-list/description)\n",
    "<p>Write a function to delete a node (except the tail) in a singly linked list, given only access to that node.</p>\n",
    "<p>Given linked list -- head = [4,5,1,9], which looks like following:</p>\n",
    "<div class=\"example\">    4 -&gt; 5 -&gt; 1 -&gt; 9</div>\n",
    "<p><strong>Example 1:</strong></p>\n",
    "<div class=\"example\"><strong>Input:</strong> head = [4,5,1,9], node = 5\n",
    "<strong>Output:</strong> [4,1,9]\n",
    "<strong>Explanation: </strong>You are given the second node with value 5, the linked list\n",
    "             should become 4 -&gt; 1 -&gt; 9 after calling your function.</div>\n",
    "<p><strong>Example 2:</strong></p>\n",
    "<div class=\"example\"><strong>Input:</strong> head = [4,5,1,9], node = 1\n",
    "<strong>Output:</strong> [4,5,9]\n",
    "<strong>Explanation: </strong>You are given the third node with value 1, the linked list\n",
    "             should become 4 -&gt; 5 -&gt; 9 after calling your function.</div>\n",
    "<p><strong>Note:</strong></p>\n",
    "<ul>\n",
    "<li>The linked list will have at least two elements.</li>\n",
    "<li>All of the nodes' values will be unique.</li>\n",
    "<li>The given node will not be the tail and it will always be a valid node of the linked list.</li>\n",
    "<li>Do not return anything from your function.</li>\n",
    "</ul>\n"
   ]
  },
  {
   "cell_type": "code",
   "execution_count": null,
   "metadata": {},
   "outputs": [],
   "source": [
    "# Definition for singly-linked list.\n",
    "# class ListNode(object):\n",
    "#     def __init__(self, x):\n",
    "#         self.val = x\n",
    "#         self.next = None\n",
    "\n",
    "class Solution(object):\n",
    "    def deleteNode(self, node):\n",
    "        \"\"\"\n",
    "        :type node: ListNode\n",
    "        :rtype: void Do not return anything, modify node in-place instead.\n",
    "        \"\"\""
   ]
  },
  {
   "cell_type": "markdown",
   "metadata": {},
   "source": [
    "---\n",
    "## [242. Valid Anagram (Easy)](https://leetcode.com/problems/valid-anagram/description)\n",
    "<p>Given two strings <em>s</em> and <em>t </em>, write a function to determine if <em>t</em> is an anagram of <em>s</em>.</p>\n",
    "<p><b>Example 1:</b></p>\n",
    "<div class=\"example\"><b>Input:</b> <em>s</em> = \"anagram\", <em>t</em> = \"nagaram\"\n",
    "<b>Output:</b> true</div>\n",
    "<p><b>Example 2:</b></p>\n",
    "<div class=\"example\"><b>Input:</b> <em>s</em> = \"rat\", <em>t</em> = \"car\"\n",
    "<b>Output: </b>false</div>\n",
    "<p><strong>Note:</strong><br/>\n",
    "You may assume the string contains only lowercase alphabets.</p>\n",
    "<p><strong>Follow up:</strong><br/>\n",
    "What if the inputs contain unicode characters? How would you adapt your solution to such case?</p>\n"
   ]
  },
  {
   "cell_type": "code",
   "execution_count": null,
   "metadata": {},
   "outputs": [],
   "source": [
    "class Solution(object):\n",
    "    def isAnagram(self, s, t):\n",
    "        \"\"\"\n",
    "        :type s: str\n",
    "        :type t: str\n",
    "        :rtype: bool\n",
    "        \"\"\""
   ]
  },
  {
   "cell_type": "markdown",
   "metadata": {},
   "source": [
    "---\n",
    "## [257. Binary Tree Paths (Easy)](https://leetcode.com/problems/binary-tree-paths/description)\n",
    "<p>Given a binary tree, return all root-to-leaf paths.</p>\n",
    "<p><strong>Note:</strong> A leaf is a node with no children.</p>\n",
    "<p><strong>Example:</strong></p>\n",
    "<div class=\"example\"><strong>Input:</strong>\n",
    "\n",
    "   1\n",
    " /   \\\n",
    "2     3\n",
    " \\\n",
    "  5\n",
    "\n",
    "<strong>Output:</strong> [\"1-&gt;2-&gt;5\", \"1-&gt;3\"]\n",
    "\n",
    "<strong>Explanation:</strong> All root-to-leaf paths are: 1-&gt;2-&gt;5, 1-&gt;3</div>\n"
   ]
  },
  {
   "cell_type": "code",
   "execution_count": null,
   "metadata": {},
   "outputs": [],
   "source": [
    "# Definition for a binary tree node.\n",
    "# class TreeNode(object):\n",
    "#     def __init__(self, x):\n",
    "#         self.val = x\n",
    "#         self.left = None\n",
    "#         self.right = None\n",
    "\n",
    "class Solution(object):\n",
    "    def binaryTreePaths(self, root):\n",
    "        \"\"\"\n",
    "        :type root: TreeNode\n",
    "        :rtype: List[str]\n",
    "        \"\"\""
   ]
  },
  {
   "cell_type": "markdown",
   "metadata": {},
   "source": [
    "---\n",
    "## [258. Add Digits (Easy)](https://leetcode.com/problems/add-digits/description)\n",
    "<p>Given a non-negative integer <code>num</code>, repeatedly add all its digits until the result has only one digit.</p>\n",
    "<p><strong>Example:</strong></p>\n",
    "<div class=\"example\"><strong>Input:</strong> <code>38</code>\n",
    "<strong>Output:</strong> 2 \n",
    "<strong>Explanation: </strong>The process is like: <code>3 + 8 = 11</code>, <code>1 + 1 = 2</code>. \n",
    "             Since <code>2</code> has only one digit, return it.</div>\n",
    "<p><b>Follow up:</b><br/>\n",
    "Could you do it without any loop/recursion in O(1) runtime?</p>\n"
   ]
  },
  {
   "cell_type": "code",
   "execution_count": null,
   "metadata": {},
   "outputs": [],
   "source": [
    "class Solution(object):\n",
    "    def addDigits(self, num):\n",
    "        \"\"\"\n",
    "        :type num: int\n",
    "        :rtype: int\n",
    "        \"\"\""
   ]
  },
  {
   "cell_type": "markdown",
   "metadata": {},
   "source": [
    "---\n",
    "## [263. Ugly Number (Easy)](https://leetcode.com/problems/ugly-number/description)\n",
    "<p>Write a program to check whether a given number is an ugly number.</p>\n",
    "<p>Ugly numbers are <strong>positive numbers</strong> whose prime factors only include <code>2, 3, 5</code>.</p>\n",
    "<p><strong>Example 1:</strong></p>\n",
    "<div class=\"example\"><strong>Input:</strong> 6\n",
    "<strong>Output:</strong> true\n",
    "<strong>Explanation: </strong>6 = 2 × 3</div>\n",
    "<p><strong>Example 2:</strong></p>\n",
    "<div class=\"example\"><strong>Input:</strong> 8\n",
    "<strong>Output:</strong> true\n",
    "<strong>Explanation: </strong>8 = 2 × 2 × 2</div>\n",
    "<p><strong>Example 3:</strong></p>\n",
    "<div class=\"example\"><strong>Input:</strong> 14\n",
    "<strong>Output:</strong> false \n",
    "<strong>Explanation: </strong><code>14</code> is not ugly since it includes another prime factor <code>7</code>.</div>\n",
    "<p><strong>Note:</strong></p>\n",
    "<ol>\n",
    "<li><code>1</code> is typically treated as an ugly number.</li>\n",
    "<li>Input is within the 32-bit signed integer range: [−2<sup>31</sup>,  2<sup>31 </sup>− 1].</li>\n",
    "</ol>\n"
   ]
  },
  {
   "cell_type": "code",
   "execution_count": null,
   "metadata": {},
   "outputs": [],
   "source": [
    "class Solution(object):\n",
    "    def isUgly(self, num):\n",
    "        \"\"\"\n",
    "        :type num: int\n",
    "        :rtype: bool\n",
    "        \"\"\""
   ]
  },
  {
   "cell_type": "markdown",
   "metadata": {},
   "source": [
    "---\n",
    "## [268. Missing Number (Easy)](https://leetcode.com/problems/missing-number/description)\n",
    "<p>Given an array containing <i>n</i> distinct numbers taken from <code>0, 1, 2, ..., n</code>, find the one that is missing from the array.</p>\n",
    "<p><b>Example 1:</b></p>\n",
    "<div class=\"example\"><b>Input:</b> [3,0,1]\n",
    "<b>Output:</b> 2</div>\n",
    "<p><b>Example 2:</b></p>\n",
    "<div class=\"example\"><b>Input:</b> [9,6,4,2,3,5,7,0,1]\n",
    "<b>Output:</b> 8</div>\n",
    "<p><b>Note</b>:<br/>\n",
    "Your algorithm should run in linear runtime complexity. Could you implement it using only constant extra space complexity?</p>\n"
   ]
  },
  {
   "cell_type": "code",
   "execution_count": null,
   "metadata": {},
   "outputs": [],
   "source": [
    "class Solution(object):\n",
    "    def missingNumber(self, nums):\n",
    "        \"\"\"\n",
    "        :type nums: List[int]\n",
    "        :rtype: int\n",
    "        \"\"\""
   ]
  },
  {
   "cell_type": "markdown",
   "metadata": {},
   "source": [
    "---\n",
    "## [278. First Bad Version (Easy)](https://leetcode.com/problems/first-bad-version/description)\n",
    "<p>You are a product manager and currently leading a team to develop a new product. Unfortunately, the latest version of your product fails the quality check. Since each version is developed based on the previous version, all the versions after a bad version are also bad.</p>\n",
    "<p>Suppose you have <code>n</code> versions <code>[1, 2, ..., n]</code> and you want to find out the first bad one, which causes all the following ones to be bad.</p>\n",
    "<p>You are given an API <code>bool isBadVersion(version)</code> which will return whether <code>version</code> is bad. Implement a function to find the first bad version. You should minimize the number of calls to the API.</p>\n",
    "<p><b>Example:</b></p>\n",
    "<div class=\"example\">Given n = 5, and version = 4 is the first bad version.\n",
    "\n",
    "<code>call isBadVersion(3) -&gt; false\n",
    "call isBadVersion(5) -&gt; true\n",
    "call isBadVersion(4) -&gt; true\n",
    "\n",
    "Then 4 is the first bad version. </code></div>"
   ]
  },
  {
   "cell_type": "code",
   "execution_count": null,
   "metadata": {},
   "outputs": [],
   "source": [
    "# The isBadVersion API is already defined for you.\n",
    "# @param version, an integer\n",
    "# @return a bool\n",
    "# def isBadVersion(version):\n",
    "\n",
    "class Solution(object):\n",
    "    def firstBadVersion(self, n):\n",
    "        \"\"\"\n",
    "        :type n: int\n",
    "        :rtype: int\n",
    "        \"\"\""
   ]
  },
  {
   "cell_type": "markdown",
   "metadata": {},
   "source": [
    "---\n",
    "## [283. Move Zeroes (Easy)](https://leetcode.com/problems/move-zeroes/description)\n",
    "<p>Given an array <code>nums</code>, write a function to move all <code>0</code>'s to the end of it while maintaining the relative order of the non-zero elements.</p>\n",
    "<p><b>Example:</b></p>\n",
    "<div class=\"example\"><b>Input:</b> <code>[0,1,0,3,12]</code>\n",
    "<b>Output:</b> <code>[1,3,12,0,0]</code></div>\n",
    "<p><b>Note</b>:</p>\n",
    "<ol>\n",
    "<li>You must do this <b>in-place</b> without making a copy of the array.</li>\n",
    "<li>Minimize the total number of operations.</li>\n",
    "</ol>\n"
   ]
  },
  {
   "cell_type": "code",
   "execution_count": null,
   "metadata": {},
   "outputs": [],
   "source": [
    "class Solution(object):\n",
    "    def moveZeroes(self, nums):\n",
    "        \"\"\"\n",
    "        :type nums: List[int]\n",
    "        :rtype: void Do not return anything, modify nums in-place instead.\n",
    "        \"\"\""
   ]
  },
  {
   "cell_type": "markdown",
   "metadata": {},
   "source": [
    "---\n",
    "## [290. Word Pattern (Easy)](https://leetcode.com/problems/word-pattern/description)\n",
    "<p>Given a <code>pattern</code> and a string <code>str</code>, find if <code>str</code> follows the same pattern.</p>\n",
    "<p>Here <b>follow</b> means a full match, such that there is a bijection between a letter in <code>pattern</code> and a <b>non-empty</b> word in <code>str</code>.</p>\n",
    "<p><strong>Example 1:</strong></p>\n",
    "<div class=\"example\"><strong>Input:</strong> pattern = <code>\"abba\"</code>, str = <code>\"dog cat cat dog\"</code>\n",
    "<strong>Output:</strong> true</div>\n",
    "<p><strong>Example 2:</strong></p>\n",
    "<div class=\"example\"><strong>Input:</strong>pattern = <code>\"abba\"</code>, str = <code>\"dog cat cat fish\"</code>\n",
    "<strong>Output:</strong> false</div>\n",
    "<p><strong>Example 3:</strong></p>\n",
    "<div class=\"example\"><strong>Input:</strong> pattern = <code>\"aaaa\"</code>, str = <code>\"dog cat cat dog\"</code>\n",
    "<strong>Output:</strong> false</div>\n",
    "<p><strong>Example 4:</strong></p>\n",
    "<div class=\"example\"><strong>Input:</strong> pattern = <code>\"abba\"</code>, str = <code>\"dog dog dog dog\"</code>\n",
    "<strong>Output:</strong> false</div>\n",
    "<p><b>Notes:</b><br/>\n",
    "You may assume <code>pattern</code> contains only lowercase letters, and <code>str</code> contains lowercase letters separated by a single space.</p>\n"
   ]
  },
  {
   "cell_type": "code",
   "execution_count": null,
   "metadata": {},
   "outputs": [],
   "source": [
    "class Solution(object):\n",
    "    def wordPattern(self, pattern, str):\n",
    "        \"\"\"\n",
    "        :type pattern: str\n",
    "        :type str: str\n",
    "        :rtype: bool\n",
    "        \"\"\""
   ]
  },
  {
   "cell_type": "markdown",
   "metadata": {},
   "source": [
    "---\n",
    "## [292. Nim Game (Easy)](https://leetcode.com/problems/nim-game/description)\n",
    "<p>You are playing the following Nim Game with your friend: There is a heap of stones on the table, each time one of you take turns to remove 1 to 3 stones. The one who removes the last stone will be the winner. You will take the first turn to remove the stones.</p>\n",
    "<p>Both of you are very clever and have optimal strategies for the game. Write a function to determine whether you can win the game given the number of stones in the heap.</p>\n",
    "<p><strong>Example:</strong></p>\n",
    "<div class=\"example\"><strong>Input:</strong> <code>4</code>\n",
    "<strong>Output:</strong> false \n",
    "<strong>Explanation: </strong>If there are 4 stones in the heap, then you will never win the game;\n",
    "             No matter 1, 2, or 3 stones you remove, the last stone will always be \n",
    "             removed by your friend.</div>\n"
   ]
  },
  {
   "cell_type": "code",
   "execution_count": null,
   "metadata": {},
   "outputs": [],
   "source": [
    "class Solution(object):\n",
    "    def canWinNim(self, n):\n",
    "        \"\"\"\n",
    "        :type n: int\n",
    "        :rtype: bool\n",
    "        \"\"\""
   ]
  }
 ],
 "metadata": {
  "kernelspec": {
   "display_name": "Python [conda env:machine-learning]",
   "language": "python",
   "name": "conda-env-machine-learning-py"
  },
  "language_info": {
   "codemirror_mode": {
    "name": "ipython",
    "version": 3
   },
   "file_extension": ".py",
   "mimetype": "text/x-python",
   "name": "python",
   "nbconvert_exporter": "python",
   "pygments_lexer": "ipython3",
   "version": "3.6.6"
  }
 },
 "nbformat": 4,
 "nbformat_minor": 2
}
