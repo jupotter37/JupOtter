{
 "cells": [
  {
   "cell_type": "markdown",
   "metadata": {},
   "source": [
    "Task\n",
    "Given an integer, , perform the following conditional actions:\n",
    "\n",
    "If  is odd, print Weird\n",
    "If  is even and in the inclusive range of  to , print Not Weird\n",
    "If  is even and in the inclusive range of  to , print Weird\n",
    "If  is even and greater than , print Not Weird\n",
    "Input Format\n",
    "\n",
    "A single line containing a positive integer, .\n",
    "\n",
    "Constraints\n",
    "\n",
    "Output Format\n",
    "\n",
    "Print Weird if the number is weird. Otherwise, print Not Weird."
   ]
  },
  {
   "cell_type": "code",
   "execution_count": 2,
   "metadata": {},
   "outputs": [
    {
     "name": "stdout",
     "output_type": "stream",
     "text": [
      "Weird\n"
     ]
    }
   ],
   "source": [
    "\n",
    "import math\n",
    "import os\n",
    "import random\n",
    "import re\n",
    "import sys\n",
    "\n",
    "\n",
    "\n",
    "if __name__ == '__main__':\n",
    "    n = int(input().strip())\n",
    "\n",
    "def check_weird(n):\n",
    "    if n % 2 != 0:\n",
    "        print(\"Weird\")\n",
    "    elif n % 2 == 0 and 2 <= n <= 5:\n",
    "        print(\"Not Weird\")\n",
    "    elif n % 2 == 0 and 6 <= n <= 20:\n",
    "        print(\"Weird\")\n",
    "    elif n % 2 == 0 and n > 20:\n",
    "        print(\"Not Weird\")\n",
    "        \n",
    "check_weird(n)"
   ]
  },
  {
   "cell_type": "markdown",
   "metadata": {},
   "source": [
    "Task\n",
    "The provided code stub reads and integer, , from STDIN. For all non-negative integers , print .\n",
    "\n",
    "Example\n",
    "\n",
    "The list of non-negative integers that are less than  is . Print the square of each number on a separate line.\n",
    "\n",
    "0\n",
    "1\n",
    "4\n",
    "Input Format\n",
    "\n",
    "The first and only line contains the integer, .\n",
    "\n",
    "Constraints\n",
    "\n",
    "\n",
    "Output Format\n",
    "\n",
    "Print  lines, one corresponding to each ."
   ]
  },
  {
   "cell_type": "code",
   "execution_count": 4,
   "metadata": {},
   "outputs": [
    {
     "name": "stdout",
     "output_type": "stream",
     "text": [
      "0\n",
      "1\n",
      "4\n"
     ]
    }
   ],
   "source": [
    "\n",
    "n = int(input())\n",
    "for i in range(n):\n",
    "    print(i*i)"
   ]
  },
  {
   "cell_type": "markdown",
   "metadata": {},
   "source": [
    "An extra day is added to the calendar almost every four years as February 29, and the day is called a leap day. It corrects the calendar for the fact that our planet takes approximately 365.25 days to orbit the sun. A leap year contains a leap day.\n",
    "\n",
    "In the Gregorian calendar, three conditions are used to identify leap years:\n",
    "\n",
    "The year can be evenly divided by 4, is a leap year, unless:\n",
    "The year can be evenly divided by 100, it is NOT a leap year, unless:\n",
    "The year is also evenly divisible by 400. Then it is a leap year.\n",
    "This means that in the Gregorian calendar, the years 2000 and 2400 are leap years, while 1800, 1900, 2100, 2200, 2300 and 2500 are NOT leap years. Source\n",
    "\n",
    "Task\n",
    "\n",
    "Given a year, determine whether it is a leap year. If it is a leap year, return the Boolean True, otherwise return False.\n",
    "\n",
    "Note that the code stub provided reads from STDIN and passes arguments to the is_leap function. It is only necessary to complete the is_leap function."
   ]
  },
  {
   "cell_type": "code",
   "execution_count": 6,
   "metadata": {},
   "outputs": [
    {
     "name": "stdout",
     "output_type": "stream",
     "text": [
      "True\n"
     ]
    }
   ],
   "source": [
    "def is_leap(year):\n",
    "    leap = False\n",
    "    \n",
    "    # Write your logic here\n",
    "    if (year%4==0 and year%100 !=0) or (year%400==0):\n",
    "        leap=True\n",
    "    return leap\n",
    "\n",
    "year = int(input())\n",
    "print(is_leap(year))"
   ]
  },
  {
   "cell_type": "markdown",
   "metadata": {},
   "source": [
    "The included code stub will read an integer, , from STDIN.\n",
    "\n",
    "Without using any string methods, try to print the following:\n",
    "\n",
    "\n",
    "Note that \"\" represents the consecutive values in between.\n",
    "\n",
    "Example\n",
    "\n",
    "Print the string .\n",
    "\n",
    "Input Format\n",
    "\n",
    "The first line contains an integer .\n",
    "\n",
    "Constraints\n",
    "\n",
    "\n",
    "Output Format\n",
    "\n",
    "Print the list of integers from  through  as a string, without spaces."
   ]
  },
  {
   "cell_type": "code",
   "execution_count": 7,
   "metadata": {},
   "outputs": [
    {
     "name": "stdout",
     "output_type": "stream",
     "text": [
      "1234"
     ]
    }
   ],
   "source": [
    "n = int(input())\n",
    "for i in range(1,n+1):\n",
    "    print(i,end='')"
   ]
  },
  {
   "cell_type": "markdown",
   "metadata": {},
   "source": [
    "Task\n",
    "\n",
    "You are given two integer arrays of size X and X ( &  are rows, and  is the column). Your task is to concatenate the arrays along axis .\n",
    "\n",
    "Input Format\n",
    "\n",
    "The first line contains space separated integers ,  and .\n",
    "The next  lines contains the space separated elements of the  columns.\n",
    "After that, the next  lines contains the space separated elements of the  columns.\n",
    "\n",
    "Output Format\n",
    "\n",
    "Print the concatenated array of size X.\n",
    "Print the concatenated array of size X.\n",
    "\n",
    "Task\n",
    "\n",
    "You are given two integer arrays of size X and X ( &  are rows, and  is the column). Your task is to concatenate the arrays along axis .\n",
    "\n",
    "Input Format\n",
    "\n",
    "The first line contains space separated integers ,  and .\n",
    "The next  lines contains the space separated elements of the  columns.\n",
    "After that, the next  lines contains the space separated elements of the  columns.\n",
    "\n",
    "Output Format\n",
    "\n",
    "Print the concatenated array of size X.\n",
    "\n",
    "Sample Input\n",
    "\n",
    "4 3 2\n",
    "1 2\n",
    "1 2 \n",
    "1 2\n",
    "1 2\n",
    "3 4\n",
    "3 4\n",
    "3 4 \n",
    "Sample Output\n",
    "\n",
    "[[1 2]\n",
    " [1 2]\n",
    " [1 2]\n",
    " [1 2]\n",
    " [3 4]\n",
    " [3 4]\n",
    " [3 4]] \n",
    "Language\n",
    "Python 3\n",
    "More\n",
    "1234567891011121314151617181920\n",
    "\n",
    "# Concatenating along axis 0\n",
    "result = np.concatenate((array1, array2), axis=0)\n",
    "\n",
    "# Printing the result\n",
    "print(result)\n",
    "\n",
    "\n",
    "\n",
    "\n",
    "\n",
    "\n",
    "\n",
    "Line: 17 Col: 1\n",
    "\n",
    "Test against custom input\n",
    "Python\n",
    "You have earned 20.00 points!\n",
    "You are now 15 points away from the 3rd star for your python badge.\n",
    "63%95/110\n",
    "Congratulations\n",
    "You solved this challenge. Would you like to challenge your friends?Share on FacebookShare on TwitterShare on LinkedIn\n",
    "\n",
    "Test case 0\n",
    "\n",
    "Test case 1\n",
    "\n",
    "Test case 2\n",
    "Compiler Message\n",
    "Success\n",
    "Input (stdin)\n",
    "4 3 2\n",
    "1 2\n",
    "1 2\n",
    "1 2\n",
    "1 2\n",
    "3 4\n",
    "3 4\n",
    "3 4\n",
    "Expected Output\n",
    "[[1 2]\n",
    " [1 2]\n",
    " [1 2]\n",
    " [1 2]\n",
    " [3 4]\n",
    " [3 4]\n",
    " [3 4]]\n"
   ]
  },
  {
   "cell_type": "code",
   "execution_count": null,
   "metadata": {},
   "outputs": [],
   "source": [
    "import numpy as np\n",
    "\n",
    "# Reading the first line containing n, m, p\n",
    "n, m, p = map(int, input().strip().split())\n",
    "\n",
    "# Reading the next n lines into the first array\n",
    "array1 = np.array([input().strip().split() for _ in range(n)], int)\n",
    "\n",
    "# Reading the next m lines into the second array\n",
    "array2 = np.array([input().strip().split() for _ in range(m)], int)\n",
    "\n",
    "# Concatenating along axis 0\n",
    "result = np.concatenate((array1, array2), axis=0)\n",
    "\n",
    "# Printing the result\n",
    "print(result)\n"
   ]
  },
  {
   "cell_type": "markdown",
   "metadata": {},
   "source": [
    "Task\n",
    "\n",
    "You are given the shape of the array in the form of space-separated integers, each integer representing the size of different dimensions, your task is to print an array of the given shape and integer type using the tools numpy.zeros and numpy.ones.\n",
    "\n",
    "Input Format\n",
    "\n",
    "A single line containing the space-separated integers.\n",
    "\n",
    "Constraints\n",
    "\n",
    "\n",
    "Output Format\n",
    "\n",
    "First, print the array using the numpy.zeros tool and then print the array with the numpy.ones tool."
   ]
  },
  {
   "cell_type": "code",
   "execution_count": 15,
   "metadata": {},
   "outputs": [
    {
     "name": "stdout",
     "output_type": "stream",
     "text": [
      "[[[0 0 0]\n",
      "  [0 0 0]\n",
      "  [0 0 0]]\n",
      "\n",
      " [[0 0 0]\n",
      "  [0 0 0]\n",
      "  [0 0 0]]\n",
      "\n",
      " [[0 0 0]\n",
      "  [0 0 0]\n",
      "  [0 0 0]]]\n",
      "[[[1 1 1]\n",
      "  [1 1 1]\n",
      "  [1 1 1]]\n",
      "\n",
      " [[1 1 1]\n",
      "  [1 1 1]\n",
      "  [1 1 1]]\n",
      "\n",
      " [[1 1 1]\n",
      "  [1 1 1]\n",
      "  [1 1 1]]]\n"
     ]
    }
   ],
   "source": [
    "import numpy as np\n",
    "\n",
    "# Reading the input and converting it to a tuple of integers\n",
    "shape = tuple(map(int, input().strip().split()))\n",
    "\n",
    "# Creating an array of zeros with the given shape\n",
    "zeros_array = np.zeros(shape, dtype=int)\n",
    "print(zeros_array)\n",
    "\n",
    "# Creating an array of ones with the given shape\n",
    "ones_array = np.ones(shape, dtype=int)\n",
    "print(ones_array)\n"
   ]
  },
  {
   "cell_type": "markdown",
   "metadata": {},
   "source": [
    "Let's learn about list comprehensions! You are given three integers  and  representing the dimensions of a cuboid along with an integer . Print a list of all possible coordinates given by  on a 3D grid where the sum of  is not equal to . Here, . Please use list comprehensions rather than multiple loops, as a learning exercise.\n",
    "\n",
    "Example\n",
    "\n",
    "\n",
    "\n",
    "\n",
    "All permutations of  are:\n",
    ".\n",
    "\n",
    "Print an array of the elements that do not sum to .\n",
    "\n",
    "\n",
    "Input Format\n",
    "\n",
    "Four integers  and , each on a separate line.\n",
    "\n",
    "Constraints\n",
    "\n",
    "Print the list in lexicographic increasing order.\n",
    "\n",
    "Sample Input 0\n",
    "\n",
    "1\n",
    "1\n",
    "1\n",
    "2\n",
    "Sample Output 0\n",
    "\n",
    "[[0, 0, 0], [0, 0, 1], [0, 1, 0], [1, 0, 0], [1, 1, 1]]\n",
    "Explanation 0\n",
    "\n",
    "Each variable  and  will have values of  or . All permutations of lists in the form .\n",
    "Remove all arrays that sum to  to leave only the valid permutations.\n",
    "\n",
    "Sample Input 1\n",
    "\n",
    "2\n",
    "2\n",
    "2\n",
    "2\n",
    "Sample Output 1\n",
    "\n",
    "[[0, 0, 0], [0, 0, 1], [0, 1, 0], [0, 1, 2], [0, 2, 1], [0, 2, 2], [1, 0, 0], [1, 0, 2], [1, 1, 1], [1, 1, 2], [1, 2"
   ]
  },
  {
   "cell_type": "code",
   "execution_count": 2,
   "metadata": {},
   "outputs": [
    {
     "name": "stdout",
     "output_type": "stream",
     "text": [
      "[[0, 0, 0], [0, 0, 1], [0, 0, 2], [0, 1, 0], [0, 1, 1], [0, 1, 3], [0, 2, 0], [0, 2, 2], [0, 2, 3], [0, 3, 1], [0, 3, 2], [0, 3, 3], [1, 0, 0], [1, 0, 1], [1, 0, 3], [1, 1, 0], [1, 1, 2], [1, 1, 3], [1, 2, 1], [1, 2, 2], [1, 2, 3], [1, 3, 0], [1, 3, 1], [1, 3, 2], [1, 3, 3], [2, 0, 0], [2, 0, 2], [2, 0, 3], [2, 1, 1], [2, 1, 2], [2, 1, 3], [2, 2, 0], [2, 2, 1], [2, 2, 2], [2, 2, 3], [2, 3, 0], [2, 3, 1], [2, 3, 2], [2, 3, 3], [3, 0, 1], [3, 0, 2], [3, 0, 3], [3, 1, 0], [3, 1, 1], [3, 1, 2], [3, 1, 3], [3, 2, 0], [3, 2, 1], [3, 2, 2], [3, 2, 3], [3, 3, 0], [3, 3, 1], [3, 3, 2], [3, 3, 3]]\n"
     ]
    }
   ],
   "source": [
    "\n",
    "x = int(input())\n",
    "y = int(input())\n",
    "z = int(input())\n",
    "n = int(input())\n",
    "    \n",
    "result=[[i,j,k] for i in range(x+1)\n",
    "                for j in range(y+1)\n",
    "                for k in range(z+1)\n",
    "                if i+j+k != n]\n",
    "                \n",
    "print(result)"
   ]
  },
  {
   "cell_type": "markdown",
   "metadata": {},
   "source": [
    "Input Format\n",
    "\n",
    "The first line contains . The second line contains an array   of  integers each separated by a space.\n",
    "\n",
    "Constraints\n",
    "\n",
    "Output Format\n",
    "\n",
    "Print the runner-up score.\n",
    "\n",
    "Sample Input 0\n",
    "\n",
    "5\n",
    "2 3 6 6 5\n",
    "Sample Output 0\n",
    "\n",
    "5\n",
    "Explanation 0\n",
    "\n",
    "Given list is . The maximum score is , second maximum is . Hence, we print  as the runner-up score."
   ]
  },
  {
   "cell_type": "code",
   "execution_count": 3,
   "metadata": {},
   "outputs": [
    {
     "name": "stdout",
     "output_type": "stream",
     "text": [
      "8\n"
     ]
    }
   ],
   "source": [
    "n = int(input())\n",
    "arr = map(int, input().split())\n",
    "    \n",
    "unique_score=sorted(set(arr),reverse=True)\n",
    "\n",
    "runner_up_score=unique_score[1]\n",
    "\n",
    "print(runner_up_score)"
   ]
  },
  {
   "cell_type": "markdown",
   "metadata": {},
   "source": [
    "Given 2 numbers N,K followed by a sorted array of N elements, search and tell if an element K is present in the array.print 'yes' if element is present otherwise print 'no'.\n",
    "Input Size : 1 <= N <= 1000000000000000(Do it in logN time complexity)\n",
    "Sample Testcase :\n",
    "INPUT\n",
    "3 2\n",
    "2 3 7\n",
    "OUTPUT\n",
    "Yes"
   ]
  },
  {
   "cell_type": "code",
   "execution_count": 4,
   "metadata": {},
   "outputs": [
    {
     "name": "stdout",
     "output_type": "stream",
     "text": [
      "no\n"
     ]
    }
   ],
   "source": [
    "def binary_search(arr, k):\n",
    "    left, right = 0, len(arr) - 1\n",
    "    while left <= right:\n",
    "        mid = (left + right) // 2\n",
    "        if arr[mid] == k:\n",
    "            return \"yes\"\n",
    "        elif arr[mid] < k:\n",
    "            left = mid + 1\n",
    "        else:\n",
    "            right = mid - 1\n",
    "    return \"no\"\n",
    "\n",
    "# Input the size of the array and the element to search for\n",
    "N, K = map(int, input().split())\n",
    "\n",
    "# Input the array of elements\n",
    "arr = list(map(int, input().split()))\n",
    "\n",
    "# Apply binary search and print the result\n",
    "result = binary_search(arr, K)\n",
    "print(result)\n"
   ]
  },
  {
   "cell_type": "markdown",
   "metadata": {},
   "source": [
    "Given a number N and an array of N elements,sort the array in increasing order and print the original indices of the elements present in sorted array.\n",
    "Input Size : N <= 100000\n",
    "Sample Testcase :\n",
    "INPUT\n",
    "5\n",
    "5 4 3 2 1\n",
    "OUTPUT\n",
    "5 4 3 2 1"
   ]
  },
  {
   "cell_type": "code",
   "execution_count": 5,
   "metadata": {},
   "outputs": [
    {
     "name": "stdout",
     "output_type": "stream",
     "text": [
      "1 2 3 4 5\n"
     ]
    }
   ],
   "source": [
    "# Input the number of elements\n",
    "N = int(input())\n",
    "\n",
    "# Input the array of elements\n",
    "arr = list(map(int, input().split()))\n",
    "\n",
    "# Pair each element with its original index (0-based index)\n",
    "indexed_arr = [(value, index) for index, value in enumerate(arr)]\n",
    "\n",
    "# Sort the array based on the values\n",
    "indexed_arr.sort()\n",
    "\n",
    "# Extract the original indices after sorting\n",
    "result = [index + 1 for value, index in indexed_arr]  # Keep the 1-based index\n",
    "\n",
    "# Print the result\n",
    "print(\" \".join(map(str, result)))\n"
   ]
  },
  {
   "cell_type": "markdown",
   "metadata": {},
   "source": [
    "Given a number N, followed by an array of N elements,print 'yes' if it is a sorted array(either ascending or descending)otherwise print 'no'.\n",
    "Input Size : 1 <= N <= 100000\n",
    "Sample Testcase :\n",
    "INPUT\n",
    "3\n",
    "2 3 7\n",
    "OUTPUT\n",
    "yes"
   ]
  },
  {
   "cell_type": "code",
   "execution_count": 6,
   "metadata": {},
   "outputs": [
    {
     "name": "stdout",
     "output_type": "stream",
     "text": [
      "yes\n"
     ]
    }
   ],
   "source": [
    "N=int(input())\n",
    "\n",
    "arr=list(map(int,input().split()))\n",
    "\n",
    "def is_sorted(arr):\n",
    "    ascending=True\n",
    "    descending=True\n",
    "    \n",
    "    for i in range(1,N):\n",
    "        if arr[i]<arr[i-1]:\n",
    "            ascending=False\n",
    "        if arr[i]>arr[i-1]:\n",
    "            descending=False\n",
    "            \n",
    "    return ascending or descending\n",
    "\n",
    "if is_sorted(arr):\n",
    "    print(\"yes\")\n",
    "else:\n",
    "    print(\"no\")"
   ]
  },
  {
   "cell_type": "markdown",
   "metadata": {},
   "source": [
    "Given an array of N strings sort it in ascending order based on the length of the string.If two strings are found to have the same length sort them in lexicographical order.\n",
    "Sample Testcase :\n",
    "INPUT\n",
    "3\n",
    "coding platform codekata\n",
    "OUTPUT\n",
    "coding codekata platform"
   ]
  },
  {
   "cell_type": "code",
   "execution_count": 7,
   "metadata": {},
   "outputs": [
    {
     "name": "stdout",
     "output_type": "stream",
     "text": [
      "coding codekata platform\n"
     ]
    }
   ],
   "source": [
    "N=int(input())\n",
    "\n",
    "string=input().split()\n",
    "\n",
    "string.sort(key=lambda x:(len(x),x))\n",
    "\n",
    "print(\" \".join(string))"
   ]
  },
  {
   "cell_type": "markdown",
   "metadata": {},
   "source": [
    "Given 3 points check whether they lie on the same line.If they lie on the same line print 'yes' Otherwise print 'no'.\n",
    "Sample Testcase :\n",
    "INPUT\n",
    "0 1\n",
    "0 0\n",
    "0 2\n",
    "OUTPUT\n",
    "yes"
   ]
  },
  {
   "cell_type": "code",
   "execution_count": 8,
   "metadata": {},
   "outputs": [
    {
     "name": "stdout",
     "output_type": "stream",
     "text": [
      "yes\n"
     ]
    }
   ],
   "source": [
    "x1,y1=map(int,input().split())\n",
    "x2,y2=map(int,input().split())\n",
    "x3,y3=map(int,input().split())\n",
    "\n",
    "if (y2-y1)*(x3-x2) == (y3-y2)*(x2-x1):\n",
    "    print(\"yes\")\n",
    "else:\n",
    "    print(\"no\")"
   ]
  },
  {
   "cell_type": "markdown",
   "metadata": {},
   "source": [
    "You are given a number N and followed by an array of N numbers and followed by two elements U and V, find the minimum distance between the elements in the array. The array may have duplicates.\n",
    "For example, if the array is (1, 5, 3, 7, 2, 8, 3, 4, 5, 9, 9, 3, 1, 3, 2, 9)\n",
    "Min Distance (U=4, V= 7): 4\n",
    "Input Size : N <= 100000\n",
    "Sample Testcase :\n",
    "INPUT\n",
    "16\n",
    "1 5 3 7 2 8 3 4 5 9 9 3 1 3 2 9\n",
    "4 7\n",
    "OUTPUT\n",
    "4"
   ]
  },
  {
   "cell_type": "code",
   "execution_count": null,
   "metadata": {},
   "outputs": [],
   "source": [
    "def min_distance(arr, U, V):\n",
    "    # Initialize variables to keep track of the last seen positions and minimum distance\n",
    "    last_U = -1\n",
    "    last_V = -1\n",
    "    min_dist = float('inf')\n",
    "    \n",
    "    # Traverse the array\n",
    "    for i in range(len(arr)):\n",
    "        if arr[i] == U:\n",
    "            if last_V != -1:\n",
    "                min_dist = min(min_dist, i - last_V)\n",
    "            last_U = i\n",
    "        elif arr[i] == V:\n",
    "            if last_U != -1:\n",
    "                min_dist = min(min_dist, i - last_U)\n",
    "            last_V = i\n",
    "    \n",
    "    return min_dist\n",
    "\n",
    "# Input reading\n",
    "N = int(input())\n",
    "arr = list(map(int, input().split()))\n",
    "U, V = map(int, input().split())\n",
    "\n",
    "# Calculate the minimum distance\n",
    "result = min_distance(arr, U, V)\n",
    "\n",
    "# Print the result\n",
    "print(result)\n"
   ]
  },
  {
   "cell_type": "markdown",
   "metadata": {},
   "source": [
    "Maxwell wants to buy an apartment in a new house at Line Avenue of Metropolis. The house has n apartments that are numbered from 1 to n and are arranged in a row. Two apartments are adjacent if their indices differ by 1. Some of the apartments can already be inhabited, others are available for sale. Maxwell often visits his neighbors, so apartment is good for him if it is available for sale and there is at least one already inhabited apartment adjacent to it. Maxwell knows that there are exactly k already inhabited apartments, but he doesn't know their indices yet. Find out what could be the minimum possible and the maximum possible number of apartments that are good for Maxwell.\n",
    "Input Size : N<=K<=1000000000\n",
    "Example:\n",
    "INPUT\n",
    "6 3\n",
    "OUTPUT\n",
    "1 3"
   ]
  },
  {
   "cell_type": "code",
   "execution_count": 10,
   "metadata": {},
   "outputs": [
    {
     "name": "stdout",
     "output_type": "stream",
     "text": [
      "2 3\n"
     ]
    }
   ],
   "source": [
    "def min_max_good_apartments(n, k):\n",
    "    if n == k:\n",
    "        # If all apartments are inhabited, no apartment can be good\n",
    "        return 0, 0\n",
    "    \n",
    "    # Calculate maximum number of good apartments\n",
    "    max_good = min(n - k, 2 * k)\n",
    "    \n",
    "    # Calculate minimum number of good apartments\n",
    "    min_good = max(0, k - 1)\n",
    "    \n",
    "    return min_good, max_good\n",
    "\n",
    "# Read input\n",
    "n, k = map(int, input().split())\n",
    "\n",
    "# Compute result\n",
    "result = min_max_good_apartments(n, k)\n",
    "\n",
    "# Print result\n",
    "print(result[0], result[1])\n"
   ]
  },
  {
   "cell_type": "markdown",
   "metadata": {},
   "source": [
    "Alternate sorting:Given a number N followed by array of N elements,sort the array in such a way that the first number is the first maximum and second number is the 1st minimum 3rd number isthe 2nd maximum and so on.\n",
    "Input Size : N <= 100000\n",
    "Sample Testcase :\n",
    "INPUT\n",
    "8\n",
    "7 623 19 10 11 9 3 15\n",
    "OUTPUT\n",
    "623 3 19 7 15 9 11 10"
   ]
  },
  {
   "cell_type": "code",
   "execution_count": null,
   "metadata": {},
   "outputs": [],
   "source": [
    "def alternate_sort(N, array):\n",
    "    # Sort the array\n",
    "    sorted_array = sorted(array)\n",
    "    \n",
    "    # Create result list\n",
    "    result = []\n",
    "    \n",
    "    # Initialize pointers for min and max elements\n",
    "    left = 0\n",
    "    right = N - 1\n",
    "    \n",
    "    # Alternate between picking from the end and the start\n",
    "    while left <= right:\n",
    "        if left <= right:\n",
    "            result.append(sorted_array[right])\n",
    "            right -= 1\n",
    "        if left <= right:\n",
    "            result.append(sorted_array[left])\n",
    "            left += 1\n",
    "    \n",
    "    # Print the result\n",
    "    print(\" \".join(map(str, result)))\n",
    "\n",
    "# Read input values\n",
    "N = int(input())\n",
    "array = list(map(int, input().split()))\n",
    "\n",
    "# Compute and output the alternate sorted array\n",
    "alternate_sort(N, array)\n"
   ]
  },
  {
   "cell_type": "markdown",
   "metadata": {},
   "source": [
    "You are given with a queue. Your task is to reverse the queue elements and print it.\n",
    "\n",
    "Input Description:\n",
    "You are given a number ‘n’,denoting size of queue, Next line contains s space separated numbers\n",
    "\n",
    "Output Description:\n",
    "Print the reversed queue.\n",
    "\n",
    "Sample Input :\n",
    "6\n",
    "1 2 3 4 5 6\n",
    "Sample Output :\n",
    "6 5 4 3 2 1"
   ]
  },
  {
   "cell_type": "code",
   "execution_count": 1,
   "metadata": {},
   "outputs": [
    {
     "name": "stdout",
     "output_type": "stream",
     "text": [
      "5 4 3 2 1\n"
     ]
    }
   ],
   "source": [
    "\n",
    "\n",
    "from collections import deque\n",
    "\n",
    "\n",
    "def reverse_queue(queue):\n",
    "    stack = []\n",
    "    \n",
    "    \n",
    "    while queue:\n",
    "        stack.append(queue.popleft())\n",
    "    \n",
    "    \n",
    "    while stack:\n",
    "        queue.append(stack.pop())\n",
    "\n",
    "\n",
    "n = int(input())\n",
    "elements = list(map(int, input().split()))\n",
    "\n",
    "\n",
    "queue = deque(elements)\n",
    "\n",
    "\n",
    "reverse_queue(queue)\n",
    "\n",
    "\n",
    "\n",
    "print(\" \".join(map(str, queue)))\n"
   ]
  },
  {
   "cell_type": "markdown",
   "metadata": {},
   "source": [
    "Given an array of N elements, sort the elements of the array based on frequency. If two numbers have the same frequency,then the smaller number comes first (eg) if the elements are 1,1,3,1,2,3,4 then the output is 2,4,3,3,1,1,1\n",
    " \n",
    "\n",
    "Input Description:\n",
    "Size of the array followed by the number of elements\n",
    "\n",
    "Output Description:\n",
    "Array elements sorted based on increasing frequency\n",
    "\n",
    "Sample Input :\n",
    "5\n",
    "8 8 1 1 3\n",
    "Sample Output :\n",
    "3 1 1 8 8"
   ]
  },
  {
   "cell_type": "code",
   "execution_count": 3,
   "metadata": {},
   "outputs": [
    {
     "name": "stdout",
     "output_type": "stream",
     "text": [
      "1 3 3 5 5 2 2 2\n"
     ]
    }
   ],
   "source": [
    "from collections import Counter\n",
    "\n",
    "N=int(input())\n",
    "arr=list(map(int,input().split()))\n",
    "\n",
    "frequency=Counter(arr)\n",
    "\n",
    "sorted_arr=sorted(arr,key=lambda x:(frequency[x],x))\n",
    "\n",
    "print(\" \".join(map(str,sorted_arr)))"
   ]
  },
  {
   "cell_type": "markdown",
   "metadata": {},
   "source": [
    "Given a string of length N, find the longest palindromic substring.\n",
    "Input Size : 1 <= N <= 1000\n",
    "Sample Testcase :\n",
    "INPUT\n",
    "DIEHEIDI\n",
    "OUTPUT\n",
    "DIEHEID"
   ]
  },
  {
   "cell_type": "code",
   "execution_count": 4,
   "metadata": {},
   "outputs": [
    {
     "name": "stdout",
     "output_type": "stream",
     "text": [
      "DIEHEID\n"
     ]
    }
   ],
   "source": [
    "def longest_palindromic_substring(s):\n",
    "    def expand_around_center(left, right):\n",
    "        while left >= 0 and right < len(s) and s[left] == s[right]:\n",
    "            left -= 1\n",
    "            right += 1\n",
    "        return s[left + 1:right]\n",
    "    \n",
    "    longest = \"\"\n",
    "    for i in range(len(s)):\n",
    "        # Odd length palindrome\n",
    "        odd_palindrome = expand_around_center(i, i)\n",
    "        # Even length palindrome\n",
    "        even_palindrome = expand_around_center(i, i + 1)\n",
    "        \n",
    "        # Update longest if necessary\n",
    "        if len(odd_palindrome) > len(longest):\n",
    "            longest = odd_palindrome\n",
    "        if len(even_palindrome) > len(longest):\n",
    "            longest = even_palindrome\n",
    "    \n",
    "    return longest\n",
    "\n",
    "# Input\n",
    "s = input().strip()\n",
    "\n",
    "# Output the result\n",
    "print(longest_palindromic_substring(s))\n"
   ]
  },
  {
   "cell_type": "markdown",
   "metadata": {},
   "source": [
    "Given a roman numeral N, convert it into integer.Take L=50, C=100.If it is not a valid roman numeral print '-1'\n",
    "Input Size : N <= 100\n",
    "Sample Testcase :\n",
    "INPUT\n",
    "VI\n",
    "OUTPUT\n",
    "6\n",
    "INPUT\n",
    "Y\n",
    "OUTPUT\n",
    "-1"
   ]
  },
  {
   "cell_type": "code",
   "execution_count": 5,
   "metadata": {},
   "outputs": [
    {
     "name": "stdout",
     "output_type": "stream",
     "text": [
      "7\n"
     ]
    }
   ],
   "source": [
    "def roman_to_integer(roman):\n",
    "    roman_values={'I': 1, 'V': 5, 'X': 10, 'L': 50, 'C': 100}\n",
    "    \n",
    "    total=0\n",
    "    prev_value=0\n",
    "    \n",
    "    for char in roman:\n",
    "        if char not in roman_values:\n",
    "            return -1\n",
    "        value=roman_values[char]\n",
    "        if value>prev_value:\n",
    "            total+=value-2*prev_value\n",
    "        else:\n",
    "            total+=value\n",
    "            prev_value=value\n",
    "    return total\n",
    "    \n",
    "roman=input().strip()\n",
    "print(roman_to_integer(roman))\n",
    "        "
   ]
  },
  {
   "cell_type": "markdown",
   "metadata": {},
   "source": [
    "You are provided with an array. Your task is to print the count of subarray whose maximum element is strictly greater than ‘k’.\n",
    "\n",
    "Input Description:\n",
    "First line contains two element ‘N’ and ‘k’.Second line contains ‘n’ space separated numbers.\n",
    "\n",
    "Output Description:\n",
    "Print the count of subarray whose maximum element’s value is strictly greater than ‘k’.\n",
    "\n",
    "Sample Input :\n",
    "5 4\n",
    "1 6 7 8 9\n",
    "Sample Output :\n",
    "14"
   ]
  },
  {
   "cell_type": "code",
   "execution_count": 7,
   "metadata": {},
   "outputs": [
    {
     "name": "stdout",
     "output_type": "stream",
     "text": [
      "3\n"
     ]
    }
   ],
   "source": [
    "def count_subarrays_with_max_greater_than_k(n, k, arr):\n",
    "    total_subarrays = n * (n + 1) // 2\n",
    "    count_invalid_subarrays = 0\n",
    "    \n",
    "    # Traverse the array to find segments where all elements are <= k\n",
    "    start = 0\n",
    "    while start < n:\n",
    "        # Find the length of the current segment where all elements are <= k\n",
    "        if arr[start] > k:\n",
    "            start += 1\n",
    "            continue\n",
    "        \n",
    "        end = start\n",
    "        while end < n and arr[end] <= k:\n",
    "            end += 1\n",
    "        \n",
    "        # Calculate the number of subarrays for the segment [start, end-1]\n",
    "        length = end - start\n",
    "        count_invalid_subarrays += length * (length + 1) // 2\n",
    "        \n",
    "        # Move to the next segment\n",
    "        start = end\n",
    "    \n",
    "    return total_subarrays - count_invalid_subarrays\n",
    "\n",
    "# Read input\n",
    "n, k = map(int, input().split())\n",
    "arr = list(map(int, input().split()))\n",
    "\n",
    "# Output the result\n",
    "print(count_subarrays_with_max_greater_than_k(n, k, arr))\n"
   ]
  },
  {
   "cell_type": "markdown",
   "metadata": {},
   "source": [
    "You are provided with a string ‘s’. Your task is to reverse the string using stack Data Structure.\n",
    "\n",
    " \n",
    "\n",
    "Input Description:\n",
    "You are given a string ‘s’.\n",
    "\n",
    "Output Description:\n",
    "Print the reverse string\n",
    "\n",
    "Sample Input :\n",
    "i am jsb\n",
    "Sample Output :\n",
    "jsb am i"
   ]
  },
  {
   "cell_type": "code",
   "execution_count": 8,
   "metadata": {},
   "outputs": [
    {
     "name": "stdout",
     "output_type": "stream",
     "text": [
      "we love virat kohli\n"
     ]
    }
   ],
   "source": [
    "def reverse_words(s):\n",
    "    stack = []\n",
    "    \n",
    "    # Split the string into words and push them onto the stack\n",
    "    words = s.split()\n",
    "    for word in words:\n",
    "        stack.append(word)\n",
    "    \n",
    "    # Pop words from the stack and build the reversed string\n",
    "    reverse_str = ''\n",
    "    while stack:\n",
    "        reverse_str += stack.pop() + ' '\n",
    "    \n",
    "    return reverse_str.strip()  # Strip trailing whitespace\n",
    "\n",
    "# Read input\n",
    "s = input().strip()\n",
    "\n",
    "# Print the reversed string\n",
    "print(reverse_words(s))\n"
   ]
  },
  {
   "cell_type": "markdown",
   "metadata": {},
   "source": [
    "Mani finds himself in a queue of( n) people but is uncertain about his exact position. However, he's confident that there are at least( a) people in front of him and at most( b) people behind him. Mani seeks to determine the number of different positions he could occupy in the queue.\n",
    "\n",
    "Input:\n",
    "\n",
    "The input consists of a single line containing three integers:( n),( a), and( b) (( 0≤a,b<n≤100)). These represent the total number of people in the queue, the minimum number of people in front of Mani, and the maximum number of people behind Mani, respectively.\n",
    "Output:\n",
    "\n",
    "Print a single integer, the number of possible positions Mani could occupy in the queue.\n",
    "Constraints:\n",
    "\n",
    "The queue contains between 1 and 100 people.\n",
    "Mani is certain there are at least 0 people in front of him and at most( n-1) people behind him.\n",
    "Sample input:\n",
    "\n",
    "5 2 3\n",
    "\n",
    "Sample output:\n",
    "\n",
    "3"
   ]
  },
  {
   "cell_type": "markdown",
   "metadata": {},
   "source": [
    "Ria is always fascinated by the number 2. She always wants to know who came second in a race, the second person to set foot on the moon and so on. She is given a list of numbers and asked to find the maximum. As always, she reports the second highest number as the maximum because according to her, 2 is higher than 1. Find out which was the number that Ria would have reported, given a list of N numbers.\n",
    " \n",
    "\n",
    "Input Description:\n",
    "Size of the array followed by the elements of the array.\n",
    "\n",
    "Output Description:\n",
    "Second largest element of the array.\n",
    "\n",
    "Sample Input :\n",
    "10\n",
    "1 9 8 7 6 5 2 3 4 10\n",
    "Sample Output :\n",
    "9"
   ]
  },
  {
   "cell_type": "code",
   "execution_count": null,
   "metadata": {},
   "outputs": [],
   "source": [
    "def find_second_highest(numbers):\n",
    "    # Initialize two variables to hold the largest and second largest values\n",
    "    largest = second_largest = float('-inf')\n",
    "    \n",
    "    # Iterate through the numbers\n",
    "    for number in numbers:\n",
    "        if number > largest:\n",
    "            # Update second largest to be the previous largest\n",
    "            second_largest = largest\n",
    "            # Update largest to the new largest number\n",
    "            largest = number\n",
    "        elif number > second_largest and number != largest:\n",
    "            # Update second largest if number is between largest and second largest\n",
    "            second_largest = number\n",
    "            \n",
    "    return second_largest\n",
    "\n",
    "# Input handling\n",
    "if __name__ == \"__main__\":\n",
    "    import sys\n",
    "    input = sys.stdin.read\n",
    "    data = list(map(int, input().strip().split()))\n",
    "    \n",
    "    n = data[0]  # size of the array\n",
    "    numbers = data[1:]  # the elements of the array\n",
    "    \n",
    "    # Call the function to find the second highest number\n",
    "    print(find_second_highest(numbers))\n"
   ]
  },
  {
   "cell_type": "markdown",
   "metadata": {},
   "source": [
    "Reverse alternate K nodes in a given Singly Linked List.\n",
    "\n",
    "Input Description:\n",
    "First line represents the size of the linked list. Next line represents the sequence of numbers as the node value of the linked list(separated by space). Third line contains size of 'K', reverse the linked list in chunks.\n",
    "\n",
    "Output Description:\n",
    "Print the chunk-reversed linked list(separated by space).\n",
    "\n",
    "Sample Input :\n",
    "9\n",
    "1 2 3 4 5 6 7 8 9\n",
    "3\n",
    "Sample Output :\n",
    "3 "
   ]
  },
  {
   "cell_type": "code",
   "execution_count": null,
   "metadata": {},
   "outputs": [],
   "source": [
    "class ListNode:\n",
    "    def __init__(self, val=0, next=None):\n",
    "        self.val = val\n",
    "        self.next = next\n",
    "\n",
    "def reverse_k_group(head, k):\n",
    "    def reverse_segment(start, end):\n",
    "        prev = None\n",
    "        curr = start\n",
    "        while curr != end:\n",
    "            next_node = curr.next\n",
    "            curr.next = prev\n",
    "            prev = curr\n",
    "            curr = next_node\n",
    "        return prev\n",
    "    \n",
    "    dummy = ListNode(-1)\n",
    "    dummy.next = head\n",
    "    prev_segment_end = dummy\n",
    "    reverse = True\n",
    "\n",
    "    while head:\n",
    "        tail = prev_segment_end\n",
    "        count = 0\n",
    "        for _ in range(k):\n",
    "            tail = tail.next\n",
    "            count += 1\n",
    "            if not tail:\n",
    "                break\n",
    "        \n",
    "        next_segment_start = tail.next if tail else None\n",
    "\n",
    "        if reverse and count == k:\n",
    "            segment_start = prev_segment_end.next\n",
    "            prev_segment_end.next = reverse_segment(segment_start, next_segment_start)\n",
    "            segment_start.next = next_segment_start\n",
    "            prev_segment_end = segment_start\n",
    "        else:\n",
    "            prev_segment_end = tail\n",
    "        \n",
    "        head = next_segment_start\n",
    "        reverse = not reverse\n",
    "\n",
    "    return dummy.next\n",
    "\n",
    "def print_linked_list(head):\n",
    "    result = []\n",
    "    while head:\n",
    "        result.append(str(head.val))\n",
    "        head = head.next\n",
    "    print(\" \".join(result))\n",
    "\n",
    "def create_linked_list(values):\n",
    "    if not values:\n",
    "        return None\n",
    "    head = ListNode(values[0])\n",
    "    current = head\n",
    "    for value in values[1:]:\n",
    "        current.next = ListNode(value)\n",
    "        current = current.next\n",
    "    return head\n",
    "\n",
    "# Main program\n",
    "if __name__ == \"__main__\":\n",
    "    import sys\n",
    "    input = sys.stdin.read\n",
    "    data = list(map(int, input().strip().split()))\n",
    "    \n",
    "    size = data[0]\n",
    "    values = data[1:size + 1]\n",
    "    k = data[size + 1]\n",
    "    \n",
    "    head = create_linked_list(values)\n",
    "    reversed_head = reverse_k_group(head, k)\n",
    "    print_linked_list(reversed_head)\n"
   ]
  },
  {
   "cell_type": "markdown",
   "metadata": {},
   "source": [
    "Given a linked list of 0's 1's and 2's sort the values in ascending order and print the result in the form of linked list.\n",
    "\n",
    "Input Description:\n",
    "First line represents the size of the linked list.Next line contains sequence of values containing 0’s,1’s and 2’s(separated by space).\n",
    "\n",
    "Output Description:\n",
    "Print the value of the resultant linked list(separated by space).\n",
    "\n",
    "Sample Input :\n",
    "6\n",
    "0 1 2 2 0 1\n",
    "Sample Output :\n",
    "0 0 1 1 2 2"
   ]
  },
  {
   "cell_type": "markdown",
   "metadata": {},
   "source": [
    "class ListNode:\n",
    "    def __init__(self, val=0, next=None):\n",
    "        self.val = val\n",
    "        self.next = next\n",
    "\n",
    "def sort_linked_list(head):\n",
    "    if not head:\n",
    "        return head\n",
    "\n",
    "    # Step 1: Count occurrences of 0's, 1's, and 2's\n",
    "    count = [0, 0, 0]\n",
    "    current = head\n",
    "    while current:\n",
    "        count[current.val] += 1\n",
    "        current = current.next\n",
    "\n",
    "    # Step 2: Rebuild the linked list with sorted values\n",
    "    current = head\n",
    "    for i in range(3):\n",
    "        while count[i] > 0:\n",
    "            current.val = i\n",
    "            current = current.next\n",
    "            count[i] -= 1\n",
    "\n",
    "    return head\n",
    "\n",
    "def print_linked_list(head):\n",
    "    result = []\n",
    "    while head:\n",
    "        result.append(str(head.val))\n",
    "        head = head.next\n",
    "    print(\" \".join(result))\n",
    "\n",
    "def create_linked_list(values):\n",
    "    if not values:\n",
    "        return None\n",
    "    head = ListNode(values[0])\n",
    "    current = head\n",
    "    for value in values[1:]:\n",
    "        current.next = ListNode(value)\n",
    "        current = current.next\n",
    "    return head\n",
    "\n",
    "# Main program\n",
    "if __name__ == \"__main__\":\n",
    "    import sys\n",
    "    input = sys.stdin.read\n",
    "    data = list(map(int, input().strip().split()))\n",
    "\n",
    "    size = data[0]\n",
    "    values = data[1:size + 1]\n",
    "    \n",
    "    head = create_linked_list(values)\n",
    "    sorted_head = sort_linked_list(head)\n",
    "    print_linked_list(sorted_head)\n"
   ]
  }
 ],
 "metadata": {
  "kernelspec": {
   "display_name": ".venv",
   "language": "python",
   "name": "python3"
  },
  "language_info": {
   "codemirror_mode": {
    "name": "ipython",
    "version": 3
   },
   "file_extension": ".py",
   "mimetype": "text/x-python",
   "name": "python",
   "nbconvert_exporter": "python",
   "pygments_lexer": "ipython3",
   "version": "3.11.9"
  }
 },
 "nbformat": 4,
 "nbformat_minor": 2
}
