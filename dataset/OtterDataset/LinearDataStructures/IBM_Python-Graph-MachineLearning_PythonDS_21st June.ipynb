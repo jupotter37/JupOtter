{
 "cells": [
  {
   "cell_type": "markdown",
   "metadata": {},
   "source": [
    "# Binary tree\n"
   ]
  },
  {
   "cell_type": "code",
   "execution_count": 16,
   "metadata": {},
   "outputs": [],
   "source": [
    "class NodeBinary:\n",
    "    def __init__(this,data):\n",
    "        this.left = None #node\n",
    "        this.right = None #node\n",
    "        this.data = data #int\n",
    "   \n",
    "    def printData(this):\n",
    "        if this.left:\n",
    "            #print(this.left.data)\n",
    "            this.left.printData()\n",
    "            \n",
    "        print(this.data)\n",
    "        \n",
    "        if this.right:\n",
    "            #print(this.right.data)\n",
    "            this.right.printData()        \n",
    "        \n",
    "        \n",
    "            \n",
    "    def insert(this,data):\n",
    "        \n",
    "        if this.data:\n",
    "            if data < this.data:\n",
    "                if this.left is None:\n",
    "                    \n",
    "                    this.left = NodeBinary(data)\n",
    "                else:\n",
    "                    \n",
    "                    this.left.insert(data)\n",
    "            if data > this.data:\n",
    "                if this.right is None:\n",
    "                    this.right = NodeBinary(data)\n",
    "                else:\n",
    "                    this.right.insert(data)                \n",
    "        else:\n",
    "            this.data = data\n",
    "     \n",
    "    def inOrderTraversal(this,root):\n",
    "        arr = []\n",
    "        if root:\n",
    "            arr = this.inOrderTraversal(root.left)\n",
    "            arr.append(root.data)\n",
    "            arr = arr + this.inOrderTraversal(root.right)\n",
    "        return arr\n",
    "       \n",
    "    def preOrderTraversal(this,root):\n",
    "        arr = []\n",
    "        if root:\n",
    "            arr.append(root.data)\n",
    "            arr = arr + this.preOrderTraversal(root.left)\n",
    "            arr = arr + this.preOrderTraversal(root.right)\n",
    "        return arr \n",
    "    \n",
    "    def postOrderTraversal(this,root):\n",
    "        arr = []\n",
    "        if root:\n",
    "            arr = arr + this.preOrderTraversal(root.left)\n",
    "            arr = arr + this.preOrderTraversal(root.right)\n",
    "            arr.append(root.data)\n",
    "        return arr \n",
    "    \n",
    "    def lowestCommonAncestor(self, root, p, q):\n",
    "        \n",
    "\n",
    "        if root is None: \n",
    "            return None\n",
    "\n",
    "        if p == root or q == root:\n",
    "\n",
    "            return root\n",
    "        left = self.lowestCommonAncestor(root.left, p , q)\n",
    "        right = self.lowestCommonAncestor(root.right, p , q)\n",
    "        \n",
    "        if left is not None and right is not None:\n",
    "\n",
    "            return root\n",
    "        if left is None:\n",
    "\n",
    "            return right\n",
    "        if right is None:\n",
    "            return left\n",
    "    \n",
    "    def getSuccessor(this,root,n):\n",
    "        res = None\n",
    "        if root:\n",
    "            \n",
    "            if root.data > n and root.left:\n",
    "                this.getSuccessor(root.left,n)\n",
    "            elif root.data < n and root.right:\n",
    "                this.getSuccessor(root.right,n)\n",
    "            elif root.data == n:\n",
    "                res = root\n",
    "                return res\n",
    "        print(res)\n",
    "        return res\n",
    "    \n",
    "    def inOrderSuccessor(this, root,n): \n",
    "        \n",
    "        successor = None\n",
    "        while root:\n",
    "            if n < root.data:\n",
    "                successor = root\n",
    "                root = root.left\n",
    "            elif n >= root.data:\n",
    "                root = root.right\n",
    "            elif root.data == n:\n",
    "                return root\n",
    "        return successor\n",
    "    \n",
    "    def maxDepth(self, root):\n",
    "        if not root:\n",
    "            return 0\n",
    "\n",
    "        return 1 + max(self.maxDepth(root.left), self.maxDepth(root.right))"
   ]
  },
  {
   "cell_type": "code",
   "execution_count": 17,
   "metadata": {},
   "outputs": [],
   "source": [
    "root =  NodeBinary(4)\n",
    "\n"
   ]
  },
  {
   "cell_type": "code",
   "execution_count": 18,
   "metadata": {},
   "outputs": [],
   "source": [
    "\n",
    "root.insert(23)\n",
    "root.insert(20)\n",
    "root.insert(13)\n",
    "root.insert(10)\n",
    "root.insert(33)\n",
    "root.insert(4)\n",
    "root.insert(2)\n",
    "root.insert(1)\n",
    "root.insert(3)\n",
    "\n"
   ]
  },
  {
   "cell_type": "code",
   "execution_count": 19,
   "metadata": {},
   "outputs": [
    {
     "data": {
      "text/plain": [
       "10"
      ]
     },
     "execution_count": 19,
     "metadata": {},
     "output_type": "execute_result"
    }
   ],
   "source": [
    "root.inOrderSuccessor(root,5).data"
   ]
  },
  {
   "cell_type": "code",
   "execution_count": 20,
   "metadata": {},
   "outputs": [
    {
     "data": {
      "text/plain": [
       "5"
      ]
     },
     "execution_count": 20,
     "metadata": {},
     "output_type": "execute_result"
    }
   ],
   "source": [
    "root.maxDepth(root)"
   ]
  },
  {
   "cell_type": "code",
   "execution_count": null,
   "metadata": {},
   "outputs": [],
   "source": [
    "         5\n",
    "     4       23\n",
    "  2       20    33\n",
    "1   3   13\n",
    "       10\n"
   ]
  },
  {
   "cell_type": "markdown",
   "metadata": {},
   "source": [
    "# InOrder successor"
   ]
  },
  {
   "cell_type": "code",
   "execution_count": 10,
   "metadata": {},
   "outputs": [
    {
     "data": {
      "text/plain": [
       "5"
      ]
     },
     "execution_count": 10,
     "metadata": {},
     "output_type": "execute_result"
    }
   ],
   "source": [
    "root.maxDepth(root)"
   ]
  },
  {
   "cell_type": "code",
   "execution_count": 8,
   "metadata": {},
   "outputs": [
    {
     "name": "stdout",
     "output_type": "stream",
     "text": [
      "None\n"
     ]
    }
   ],
   "source": [
    "root.getSuccessor(root,2)"
   ]
  },
  {
   "cell_type": "code",
   "execution_count": 9,
   "metadata": {},
   "outputs": [
    {
     "data": {
      "text/plain": [
       "3"
      ]
     },
     "execution_count": 9,
     "metadata": {},
     "output_type": "execute_result"
    }
   ],
   "source": [
    "root.inOrderSuccessor(root,2).data"
   ]
  },
  {
   "cell_type": "code",
   "execution_count": 4,
   "metadata": {},
   "outputs": [
    {
     "name": "stdout",
     "output_type": "stream",
     "text": [
      "1\n",
      "2\n",
      "3\n",
      "4\n",
      "5\n",
      "10\n",
      "13\n",
      "20\n",
      "23\n",
      "33\n"
     ]
    }
   ],
   "source": [
    "root.printData()"
   ]
  },
  {
   "cell_type": "code",
   "execution_count": 5,
   "metadata": {},
   "outputs": [
    {
     "name": "stdout",
     "output_type": "stream",
     "text": [
      "[1, 2, 3, 4, 5, 10, 13, 20, 23, 33]\n"
     ]
    }
   ],
   "source": [
    "print(root.inOrderTraversal(root))"
   ]
  },
  {
   "cell_type": "code",
   "execution_count": 6,
   "metadata": {},
   "outputs": [
    {
     "name": "stdout",
     "output_type": "stream",
     "text": [
      "[5, 4, 2, 1, 3, 23, 20, 13, 10, 33]\n"
     ]
    }
   ],
   "source": [
    "print(root.preOrderTraversal(root))"
   ]
  },
  {
   "cell_type": "code",
   "execution_count": 7,
   "metadata": {},
   "outputs": [
    {
     "name": "stdout",
     "output_type": "stream",
     "text": [
      "[4, 2, 1, 3, 23, 20, 13, 10, 33, 5]\n"
     ]
    }
   ],
   "source": [
    "print(root.postOrderTraversal(root))"
   ]
  },
  {
   "cell_type": "code",
   "execution_count": 11,
   "metadata": {},
   "outputs": [
    {
     "data": {
      "text/plain": [
       "('physics', 'chemistry', 1997, 2000)"
      ]
     },
     "execution_count": 11,
     "metadata": {},
     "output_type": "execute_result"
    }
   ],
   "source": [
    "tup1 = ('physics', 'chemistry', 1997, 2000);\n",
    "tup1"
   ]
  },
  {
   "cell_type": "code",
   "execution_count": 13,
   "metadata": {},
   "outputs": [
    {
     "ename": "IndentationError",
     "evalue": "unindent does not match any outer indentation level (<tokenize>, line 3)",
     "output_type": "error",
     "traceback": [
      "\u001b[0;36m  File \u001b[0;32m\"<tokenize>\"\u001b[0;36m, line \u001b[0;32m3\u001b[0m\n\u001b[0;31m    2       20    33\u001b[0m\n\u001b[0m    ^\u001b[0m\n\u001b[0;31mIndentationError\u001b[0m\u001b[0;31m:\u001b[0m unindent does not match any outer indentation level\n"
     ]
    }
   ],
   "source": [
    "         5\n",
    "     4       23\n",
    "  2       20    33\n",
    "1   3   13\n",
    "    10\n",
    "\n",
    "\n",
    "\n"
   ]
  },
  {
   "cell_type": "markdown",
   "metadata": {},
   "source": [
    "# sets"
   ]
  },
  {
   "cell_type": "code",
   "execution_count": 176,
   "metadata": {},
   "outputs": [
    {
     "data": {
      "text/plain": [
       "{'abc', 'xyz'}"
      ]
     },
     "execution_count": 176,
     "metadata": {},
     "output_type": "execute_result"
    }
   ],
   "source": [
    "setA = {\"abc\",\"xyz\",\"abc\"}\n",
    "setA"
   ]
  },
  {
   "cell_type": "code",
   "execution_count": 177,
   "metadata": {},
   "outputs": [
    {
     "data": {
      "text/plain": [
       "{'abc', 'xyz'}"
      ]
     },
     "execution_count": 177,
     "metadata": {},
     "output_type": "execute_result"
    }
   ],
   "source": [
    "set(setA)"
   ]
  },
  {
   "cell_type": "markdown",
   "metadata": {},
   "source": [
    "# Maps"
   ]
  },
  {
   "cell_type": "code",
   "execution_count": 178,
   "metadata": {},
   "outputs": [],
   "source": [
    "import collections\n",
    "\n",
    "\n",
    "dict1 = {'day1': 'Mon', 'day2': 'Tue'}\n",
    "dict2 = {'day3': 'Wed', 'day4': 'Thu'}\n",
    "\n",
    "res1 = collections.ChainMap(dict1, dict2)"
   ]
  },
  {
   "cell_type": "code",
   "execution_count": 179,
   "metadata": {},
   "outputs": [
    {
     "data": {
      "text/plain": [
       "ChainMap({'day1': 'Mon', 'day2': 'Tue'}, {'day3': 'Wed', 'day4': 'Thu'})"
      ]
     },
     "execution_count": 179,
     "metadata": {},
     "output_type": "execute_result"
    }
   ],
   "source": [
    "res1"
   ]
  },
  {
   "cell_type": "code",
   "execution_count": 180,
   "metadata": {},
   "outputs": [
    {
     "data": {
      "text/plain": [
       "[{'day1': 'Mon', 'day2': 'Tue'}, {'day3': 'Wed', 'day4': 'Thu'}]"
      ]
     },
     "execution_count": 180,
     "metadata": {},
     "output_type": "execute_result"
    }
   ],
   "source": [
    "res1.maps"
   ]
  },
  {
   "cell_type": "markdown",
   "metadata": {},
   "source": [
    "# Backtracking"
   ]
  },
  {
   "cell_type": "code",
   "execution_count": 181,
   "metadata": {},
   "outputs": [],
   "source": [
    "def permute(list, s, k):\n",
    "    if list == 1:\n",
    "        return s\n",
    "    else:\n",
    "        print([ y + x\n",
    "                 for y in permute(list -1, s,k)\n",
    "                 for x in permute(list -1, k,s)\n",
    "                 ])\n",
    "        return [ y + x\n",
    "                 for y in permute(list -1, s,k)\n",
    "                 for x in permute(list -1, k,s)\n",
    "                 ]\n",
    "\n"
   ]
  },
  {
   "cell_type": "code",
   "execution_count": 182,
   "metadata": {},
   "outputs": [],
   "source": [
    "def fibo(x):\n",
    "    if x is 1:\n",
    "        return 1\n",
    "    else:\n",
    "        print(x)\n",
    "        return fibo(x-1)*x\n",
    "    \n",
    "    "
   ]
  },
  {
   "cell_type": "code",
   "execution_count": 183,
   "metadata": {},
   "outputs": [],
   "source": [
    "def factorial(x):\n",
    "    \n",
    "    if x is 1:                   \n",
    "        return 1\n",
    "    return x*factorial(x-1)  "
   ]
  },
  {
   "cell_type": "code",
   "execution_count": 184,
   "metadata": {},
   "outputs": [],
   "source": [
    "def permute(self, nums):#[1,2,3]\n",
    "    res = []\n",
    "    \n",
    "    def DFS(nums):\n",
    "        tmp = []\n",
    "        if len(nums) == 1:\n",
    "            return nums[0]\n",
    "        for i in range(len(nums)):\n",
    "            print(nums[i:len(nums)])\n",
    "            DFS(nums[i+1:len(nums)])  \n",
    "            \n",
    "            \n",
    "    \n",
    "    \n",
    "    DFS(nums)    \n",
    "    return res\n",
    "        "
   ]
  },
  {
   "cell_type": "code",
   "execution_count": 185,
   "metadata": {},
   "outputs": [
    {
     "name": "stdout",
     "output_type": "stream",
     "text": [
      "[1, 2, 3]\n",
      "[2, 3]\n",
      "[3]\n",
      "[2, 3]\n",
      "[3]\n"
     ]
    },
    {
     "data": {
      "text/plain": [
       "[]"
      ]
     },
     "execution_count": 185,
     "metadata": {},
     "output_type": "execute_result"
    }
   ],
   "source": [
    "permute([],[1,2,3])"
   ]
  },
  {
   "cell_type": "code",
   "execution_count": 186,
   "metadata": {},
   "outputs": [],
   "source": [
    "def permute(self, nums):\n",
    "        \"\"\"\n",
    "        :type nums: List[int]\n",
    "        :rtype: List[List[int]]\n",
    "        \"\"\"\n",
    "        #here we need a global wise list, each time we just append to the result\n",
    "        rslt=[]\n",
    "        \n",
    "        def dfs(temp, elements):\n",
    "            #gather rslt\n",
    "            if len(elements)==0:\n",
    "                rslt.append(temp[:]) #still remember to use temp[:]\n",
    "            for e in elements:\n",
    "                temp.append(e)\n",
    "                #backtrack\n",
    "                next_elements=elements[:]\n",
    "                next_elements.remove(e)\n",
    "                elements.pop()\n",
    "                dfs(temp, next_elements)\n",
    "                temp.pop()\n",
    "                \n",
    "                \n",
    "        dfs([],nums) #first is the current result\n",
    "        return rslt"
   ]
  },
  {
   "cell_type": "code",
   "execution_count": 187,
   "metadata": {},
   "outputs": [
    {
     "data": {
      "text/plain": [
       "[[1, 2, 3], [2, 1]]"
      ]
     },
     "execution_count": 187,
     "metadata": {},
     "output_type": "execute_result"
    }
   ],
   "source": [
    "permute([],[1,2,3])"
   ]
  },
  {
   "cell_type": "code",
   "execution_count": 193,
   "metadata": {},
   "outputs": [],
   "source": [
    "def swapPositions(list, pos1, pos2): \n",
    "      \n",
    "    list[pos1], list[pos2] = list[pos2], list[pos1] \n",
    "    return list\n",
    "  \n"
   ]
  },
  {
   "cell_type": "code",
   "execution_count": 194,
   "metadata": {},
   "outputs": [
    {
     "name": "stdout",
     "output_type": "stream",
     "text": [
      "[19, 65, 23, 90]\n"
     ]
    }
   ],
   "source": [
    "# Driver function \n",
    "List = [23, 65, 19, 90] \n",
    "pos1, pos2  = 1, 3\n",
    "  \n",
    "print(swapPositions(List, pos1-1, pos2-1)) "
   ]
  },
  {
   "cell_type": "code",
   "execution_count": 195,
   "metadata": {},
   "outputs": [],
   "source": [
    "arr = [2,3,4,2]"
   ]
  },
  {
   "cell_type": "code",
   "execution_count": 196,
   "metadata": {},
   "outputs": [],
   "source": [
    "diffArr = list(map(lambda x: 10 - x, arr))"
   ]
  },
  {
   "cell_type": "markdown",
   "metadata": {},
   "source": [
    "# Hashmap"
   ]
  },
  {
   "cell_type": "code",
   "execution_count": 49,
   "metadata": {},
   "outputs": [],
   "source": [
    "class HashMap(object):\n",
    "    def __init__(self):\n",
    "        self.hashmap = [[] for i in range(256)]\n",
    "\n",
    "    def insert(self, key, value):\n",
    "        hash_key = hash(key) % len(self.hashmap)\n",
    "        #print(\"hash_key =\",hash_key)\n",
    "        key_exists = False\n",
    "        bucket = self.hashmap[hash_key]\n",
    "        \n",
    "        for i, kv in enumerate(bucket):\n",
    "            k, v = kv\n",
    "            if key == k:\n",
    "                key_exists = True\n",
    "                break\n",
    "        if key_exists:\n",
    "            bucket[i] = ((key, value))\n",
    "        else:\n",
    "            bucket.append((key,value))\n",
    "        print(bucket)     \n",
    "        print(self.hashmap)    \n",
    "\n",
    "    def retrieve(self, key):\n",
    "        hash_key = hash(key) % len(self.hashmap)\n",
    "        bucket = self.hashmap[hash_key]\n",
    "        for i, kv in enumerate(bucket):\n",
    "            k, v = kv\n",
    "            return v\n",
    "        raise KeyError"
   ]
  },
  {
   "cell_type": "code",
   "execution_count": 50,
   "metadata": {},
   "outputs": [],
   "source": [
    "testHash = HashMap()"
   ]
  },
  {
   "cell_type": "code",
   "execution_count": 51,
   "metadata": {},
   "outputs": [
    {
     "name": "stdout",
     "output_type": "stream",
     "text": [
      "[(4, 'parkar')]\n",
      "[[], [], [], [], [(4, 'parkar')], [], [], [], [], [], [], [], [], [], [], [], [], [], [], [], [], [], [], [], [], [], [], [], [], [], [], [], [], [], [], [], [], [], [], [], [], [], [], [], [], [], [], [], [], [], [], [], [], [], [], [], [], [], [], [], [], [], [], [], [], [], [], [], [], [], [], [], [], [], [], [], [], [], [], [], [], [], [], [], [], [], [], [], [], [], [], [], [], [], [], [], [], [], [], [], [], [], [], [], [], [], [], [], [], [], [], [], [], [], [], [], [], [], [], [], [], [], [], [], [], [], [], [], [], [], [], [], [], [], [], [], [], [], [], [], [], [], [], [], [], [], [], [], [], [], [], [], [], [], [], [], [], [], [], [], [], [], [], [], [], [], [], [], [], [], [], [], [], [], [], [], [], [], [], [], [], [], [], [], [], [], [], [], [], [], [], [], [], [], [], [], [], [], [], [], [], [], [], [], [], [], [], [], [], [], [], [], [], [], [], [], [], [], [], [], [], [], [], [], [], [], [], [], [], [], [], [], [], [], [], [], [], [], [], [], [], [], [], [], [], [], [], [], [], [], [], [], [], [], [], []]\n"
     ]
    }
   ],
   "source": [
    "testHash.insert(4,\"parkar\")"
   ]
  },
  {
   "cell_type": "code",
   "execution_count": 47,
   "metadata": {},
   "outputs": [],
   "source": [
    "class HashMap:\n",
    "        def __init__(self):\n",
    "                self.size = 6\n",
    "                self.map = [None] * self.size\n",
    "\t\t\n",
    "        def _get_hash(self, key):\n",
    "                hash = 0\n",
    "                for char in str(key):\n",
    "                        \n",
    "                        hash += ord(char)\n",
    "                return hash % self.size\n",
    "\t\t\n",
    "        def add(self, key, value):\n",
    "                key_hash = self._get_hash(key)\n",
    "                key_value = [key, value]\n",
    "\t\t\n",
    "                if self.map[key_hash] is None:\n",
    "                        self.map[key_hash] = list([key_value])\n",
    "                        return True\n",
    "                else:\n",
    "                        for pair in self.map[key_hash]:\n",
    "                                if pair[0] == key:\n",
    "                                        pair[1] = value\n",
    "                                        return True\n",
    "                        self.map[key_hash].append(key_value)\n",
    "                        return True\n",
    "\t\t\t\n",
    "        def get(self, key):\n",
    "                key_hash = self._get_hash(key)\n",
    "                if self.map[key_hash] is not None:\n",
    "                        for pair in self.map[key_hash]:\n",
    "                                if pair[0] == key:\n",
    "                                        return pair[1]\n",
    "                return None\n",
    "\t\t\t\n",
    "        def delete(self, key):\n",
    "                key_hash = self._get_hash(key)\n",
    "\t\t\n",
    "                if self.map[key_hash] is None:\n",
    "                        return False\n",
    "                for i in range (0, len(self.map[key_hash])):\n",
    "                        if self.map[key_hash][i][0] == key:\n",
    "                                self.map[key_hash].pop(i)\n",
    "                                return True\n",
    "                return False\n",
    "\t\n",
    "        def keys(self):\n",
    "                arr = []\n",
    "                for i in range(0, len(self.map)):\n",
    "                        if self.map[i]:\n",
    "                                arr.append(self.map[i][0])\n",
    "                return arr\n",
    "\t\t\t\n",
    "        def print(self):\n",
    "                print('---PHONEBOOK----')\n",
    "                for item in self.map:\n",
    "                        if item is not None:\n",
    "                                print(str(item))\n",
    "\t\t\t\n"
   ]
  },
  {
   "cell_type": "code",
   "execution_count": 48,
   "metadata": {},
   "outputs": [
    {
     "name": "stdout",
     "output_type": "stream",
     "text": [
      "0\n",
      "66\n",
      "177\n",
      "0\n",
      "77\n",
      "182\n",
      "292\n",
      "0\n",
      "77\n",
      "182\n",
      "292\n",
      "0\n",
      "65\n",
      "175\n",
      "282\n",
      "387\n",
      "0\n",
      "65\n",
      "165\n",
      "270\n",
      "386\n",
      "507\n",
      "0\n",
      "65\n",
      "173\n",
      "278\n",
      "377\n",
      "482\n",
      "0\n",
      "77\n",
      "182\n",
      "289\n",
      "0\n",
      "65\n",
      "165\n",
      "270\n",
      "386\n",
      "507\n",
      "---PHONEBOOK----\n",
      "[['Mike', '567-2188']]\n",
      "[['Alicia', '632-4123']]\n",
      "[['Aditya', '777-8888']]\n",
      "[['Bob', '567-8888'], ['Ming', '333-8233'], ['Ankit', '293-8625']]\n",
      "0\n",
      "66\n",
      "177\n",
      "---PHONEBOOK----\n",
      "[['Mike', '567-2188']]\n",
      "[['Alicia', '632-4123']]\n",
      "[['Aditya', '777-8888']]\n",
      "[['Ming', '333-8233'], ['Ankit', '293-8625']]\n",
      "0\n",
      "77\n",
      "182\n",
      "292\n",
      "Ming: 333-8233\n",
      "[['Mike', '567-2188'], ['Alicia', '632-4123'], ['Aditya', '777-8888'], ['Ming', '333-8233']]\n"
     ]
    }
   ],
   "source": [
    "h = HashMap()\n",
    "h.add('Bob', '567-8888')\n",
    "h.add('Ming', '293-6753')\n",
    "h.add('Ming', '333-8233')\n",
    "h.add('Ankit', '293-8625')\n",
    "h.add('Aditya', '852-6551')\n",
    "h.add('Alicia', '632-4123')\n",
    "h.add('Mike', '567-2188')\n",
    "h.add('Aditya', '777-8888')\n",
    "h.print()\t\t\n",
    "h.delete('Bob')\n",
    "h.print()\n",
    "print('Ming: ' + h.get('Ming'))\n",
    "print(h.keys())"
   ]
  },
  {
   "cell_type": "code",
   "execution_count": 49,
   "metadata": {},
   "outputs": [
    {
     "ename": "NameError",
     "evalue": "name 'hashMap' is not defined",
     "output_type": "error",
     "traceback": [
      "\u001b[0;31m---------------------------------------------------------------------------\u001b[0m",
      "\u001b[0;31mNameError\u001b[0m                                 Traceback (most recent call last)",
      "\u001b[0;32m<ipython-input-49-3d22119daa47>\u001b[0m in \u001b[0;36m<module>\u001b[0;34m\u001b[0m\n\u001b[0;32m----> 1\u001b[0;31m \u001b[0mlen\u001b[0m\u001b[0;34m(\u001b[0m\u001b[0mhashMap\u001b[0m\u001b[0;34m)\u001b[0m\u001b[0;34m\u001b[0m\u001b[0;34m\u001b[0m\u001b[0m\n\u001b[0m",
      "\u001b[0;31mNameError\u001b[0m: name 'hashMap' is not defined"
     ]
    }
   ],
   "source": [
    "len(hashMap)"
   ]
  },
  {
   "cell_type": "code",
   "execution_count": 1,
   "metadata": {},
   "outputs": [],
   "source": [
    "class HashMap(object):\n",
    "    def __init__(this):\n",
    "        this.hashMap = [[] for i in range(256)]\n",
    "        \n",
    "    def insert(this,key,val):\n",
    "        hash_key = hash(key) % len(this.hashMap)\n",
    "        key_exists = False\n",
    "        bucket = this.hashMap[hash_key]\n",
    "        \n",
    "        for i, kv in enumerate(bucket):\n",
    "\n",
    "            k, v = kv\n",
    "            if key == k:\n",
    "                key_exists = True\n",
    "                break\n",
    "        if key_exists:\n",
    "            print(\"1st\")\n",
    "            bucket[i] = ((key, val))\n",
    "            \n",
    "        else:\n",
    "            print(\"2nd\")\n",
    "            bucket.append((key,val))        \n",
    "    \n",
    "    def retrieve(this, key):\n",
    "        hash_key = hash(key) % len(this.hashMap)\n",
    "        bucket = this.hashMap[hash_key]\n",
    "        for i, kv in enumerate(bucket):\n",
    "            k, v = kv\n",
    "            return v\n",
    "        raise KeyError        "
   ]
  },
  {
   "cell_type": "code",
   "execution_count": 2,
   "metadata": {},
   "outputs": [],
   "source": [
    "test = HashMap()\n"
   ]
  },
  {
   "cell_type": "code",
   "execution_count": 3,
   "metadata": {},
   "outputs": [
    {
     "name": "stdout",
     "output_type": "stream",
     "text": [
      "2nd\n"
     ]
    }
   ],
   "source": [
    "test.insert(\"abcd\",40)"
   ]
  },
  {
   "cell_type": "code",
   "execution_count": 53,
   "metadata": {},
   "outputs": [
    {
     "data": {
      "text/plain": [
       "40"
      ]
     },
     "execution_count": 53,
     "metadata": {},
     "output_type": "execute_result"
    }
   ],
   "source": [
    "test.retrieve(\"abcd\")"
   ]
  },
  {
   "cell_type": "code",
   "execution_count": 54,
   "metadata": {},
   "outputs": [
    {
     "data": {
      "text/plain": [
       "[2, 4]"
      ]
     },
     "execution_count": 54,
     "metadata": {},
     "output_type": "execute_result"
    }
   ],
   "source": [
    "arr = [2,3,4]\n",
    "arr.remove(3)\n",
    "arr"
   ]
  },
  {
   "cell_type": "code",
   "execution_count": 56,
   "metadata": {},
   "outputs": [
    {
     "ename": "NameError",
     "evalue": "name 'c' is not defined",
     "output_type": "error",
     "traceback": [
      "\u001b[0;31m---------------------------------------------------------------------------\u001b[0m",
      "\u001b[0;31mNameError\u001b[0m                                 Traceback (most recent call last)",
      "\u001b[0;32m<ipython-input-56-e202c35043c4>\u001b[0m in \u001b[0;36m<module>\u001b[0;34m\u001b[0m\n\u001b[0;32m----> 1\u001b[0;31m \u001b[0mc\u001b[0m\u001b[0;34m.\u001b[0m\u001b[0mmost_common\u001b[0m\u001b[0;34m(\u001b[0m\u001b[0;34m)\u001b[0m\u001b[0;34m[\u001b[0m\u001b[0;36m0\u001b[0m\u001b[0;34m]\u001b[0m\u001b[0;34m\u001b[0m\u001b[0;34m\u001b[0m\u001b[0m\n\u001b[0m",
      "\u001b[0;31mNameError\u001b[0m: name 'c' is not defined"
     ]
    }
   ],
   "source": [
    "c.most_common()[0]\n"
   ]
  },
  {
   "cell_type": "code",
   "execution_count": 57,
   "metadata": {},
   "outputs": [],
   "source": [
    "arr1 = [3,4,5,6]\n",
    "arr2 = [3,4]"
   ]
  },
  {
   "cell_type": "markdown",
   "metadata": {},
   "source": [
    "# quicksort"
   ]
  },
  {
   "cell_type": "code",
   "execution_count": 3,
   "metadata": {},
   "outputs": [],
   "source": [
    "def partition(xs, start, end):\n",
    "    follower = leader = start\n",
    "    #print(\"leader:\",leader)\n",
    "    while leader < end:\n",
    "        if xs[leader] <= xs[end]:\n",
    "            xs[follower], xs[leader]    =    xs[leader], xs[follower]\n",
    "            follower += 1\n",
    "        leader += 1\n",
    "    xs[follower], xs[end] = xs[end], xs[follower]\n",
    "    print(\"follower:\",follower)\n",
    "    return follower\n",
    "\n",
    "def _quicksort(xs, start, end):\n",
    "    if start >= end:\n",
    "        return\n",
    "    p = partition(xs, start, end)\n",
    "    \n",
    "    _quicksort(xs, start, p-1)\n",
    "    _quicksort(xs, p+1, end)\n",
    "    \n",
    "def quicksort(xs):\n",
    "    _quicksort(xs, 0, len(xs)-1)"
   ]
  },
  {
   "cell_type": "code",
   "execution_count": 4,
   "metadata": {},
   "outputs": [
    {
     "name": "stdout",
     "output_type": "stream",
     "text": [
      "follower: 1\n",
      "follower: 2\n",
      "follower: 3\n",
      "follower: 4\n"
     ]
    }
   ],
   "source": [
    "arr = [10, 7, 8, 9, 1, 5]\n",
    "quicksort(arr)"
   ]
  },
  {
   "cell_type": "code",
   "execution_count": 5,
   "metadata": {},
   "outputs": [
    {
     "data": {
      "text/plain": [
       "[1, 5, 7, 8, 9, 10]"
      ]
     },
     "execution_count": 5,
     "metadata": {},
     "output_type": "execute_result"
    }
   ],
   "source": [
    "arr"
   ]
  },
  {
   "cell_type": "code",
   "execution_count": 82,
   "metadata": {},
   "outputs": [
    {
     "data": {
      "text/plain": [
       "4"
      ]
     },
     "execution_count": 82,
     "metadata": {},
     "output_type": "execute_result"
    }
   ],
   "source": [
    "arr = [1,2,3,4]\n",
    "arr[-1]"
   ]
  },
  {
   "cell_type": "markdown",
   "metadata": {},
   "source": [
    "# Quicksort"
   ]
  },
  {
   "cell_type": "code",
   "execution_count": 11,
   "metadata": {},
   "outputs": [],
   "source": [
    "def partition(arr,low,high): \n",
    "    i = ( low-1 )         # index of smaller element --- -1\n",
    "    pivot = arr[high]     # pivot last element ------ last element\n",
    "    #print(\"i = \",i)\n",
    "    for j in range(low , high): #---# 0 to last element.  j = 0\n",
    "        # If current element is smaller than or \n",
    "        # equal to pivot \n",
    "        if   arr[j] <= pivot: \n",
    "          \n",
    "            # increment index of smaller element \n",
    "            i = i+1 \n",
    "            arr[i],arr[j] = arr[j],arr[i] \n",
    "    arr[i+1],arr[high] = arr[high],arr[i+1]\n",
    "    return ( i+1 ) \n",
    "  \n",
    "# The main function that implements QuickSort \n",
    "# arr[] --> Array to be sorted, \n",
    "# low  --> Starting index, \n",
    "# high  --> Ending index \n",
    "  \n",
    "# Function to do Quick sort \n",
    "def quickSort(arr,low,high): \n",
    "    if low < high: \n",
    "  \n",
    "        # pi is partitioning index, arr[p] is now \n",
    "        # at right place \n",
    "        pi = partition(arr,low,high) \n",
    "        # Separately sort elements before \n",
    "        # partition and after partition \n",
    "        quickSort(arr, low, pi-1) \n",
    "        quickSort(arr, pi+1, high) "
   ]
  },
  {
   "cell_type": "code",
   "execution_count": 12,
   "metadata": {},
   "outputs": [],
   "source": [
    "arr = [10, 80, 30, 90, 40, 50,70] \n",
    "n = len(arr) \n"
   ]
  },
  {
   "cell_type": "code",
   "execution_count": 13,
   "metadata": {},
   "outputs": [],
   "source": [
    "quickSort(arr,0,n-1) "
   ]
  },
  {
   "cell_type": "code",
   "execution_count": 14,
   "metadata": {},
   "outputs": [
    {
     "data": {
      "text/plain": [
       "[10, 30, 40, 50, 70, 80, 90]"
      ]
     },
     "execution_count": 14,
     "metadata": {},
     "output_type": "execute_result"
    }
   ],
   "source": [
    "arr"
   ]
  },
  {
   "cell_type": "code",
   "execution_count": 64,
   "metadata": {},
   "outputs": [],
   "source": [
    "def prod(a,b):\n",
    "\n",
    "    if a <=1:\n",
    "        \n",
    "        return 1\n",
    "    \n",
    "    else:\n",
    "        return a + prod(a-1,b)"
   ]
  },
  {
   "cell_type": "code",
   "execution_count": 65,
   "metadata": {},
   "outputs": [],
   "source": [
    "def recurSum(n):\n",
    "    if n <= 1:\n",
    "        return n\n",
    "    return n + recurSum(n-1)\n",
    "    "
   ]
  },
  {
   "cell_type": "code",
   "execution_count": 66,
   "metadata": {},
   "outputs": [],
   "source": [
    "def recurMult(a,b):\n",
    "    if b <=0:\n",
    "        return 0\n",
    "    #b = 1\n",
    "    return a + recurMult(a,b-1)"
   ]
  },
  {
   "cell_type": "code",
   "execution_count": 67,
   "metadata": {},
   "outputs": [
    {
     "data": {
      "text/plain": [
       "15"
      ]
     },
     "execution_count": 67,
     "metadata": {},
     "output_type": "execute_result"
    }
   ],
   "source": [
    "recurMult(5,3)"
   ]
  },
  {
   "cell_type": "code",
   "execution_count": 68,
   "metadata": {},
   "outputs": [
    {
     "data": {
      "text/plain": [
       "17"
      ]
     },
     "execution_count": 68,
     "metadata": {},
     "output_type": "execute_result"
    }
   ],
   "source": [
    "def fun1(x:int, y:int):\n",
    "\n",
    "  if x <= 0:\n",
    "    return y\n",
    "  else:\n",
    "    return x + fun1(x - 1,   y) \n",
    " \n",
    "fun1(5,2)"
   ]
  },
  {
   "cell_type": "code",
   "execution_count": 1166,
   "metadata": {},
   "outputs": [],
   "source": [
    "class BinaryNode():\n",
    "    def __init__(this,data):\n",
    "        \n",
    "        this.left = None\n",
    "        this.right = None\n",
    "        this.val = data\n",
    "    \n",
    "    def insert(this,data):\n",
    "        if this.val:\n",
    "            if data < this.val:\n",
    "                if this.left is None:\n",
    "                    \n",
    "                    this.left = BinaryNode(data)\n",
    "                else:\n",
    "                    this.left.insert(data)\n",
    "            elif data > this.val:\n",
    "                if this.right is None:\n",
    "                    this.right = BinaryNode(data)\n",
    "                else:\n",
    "                    this.right.insert(data)\n",
    "                    \n",
    "    def printTree(this):\n",
    "        if this.left:\n",
    "            this.left.printTree()\n",
    "        print(this.val)\n",
    "        if this.right:\n",
    "            this.right.printTree() \n",
    "     \n",
    "    def inOrderTraversal(this,root):\n",
    "        arr = []\n",
    "        \n",
    "        if root is not None:\n",
    "            arr = this.inOrderTraversal(root.left)\n",
    "            arr.append(root.val)\n",
    "            arr += this.inOrderTraversal(root.right)\n",
    "        return arr\n",
    "    \n",
    "    def preOrderTraversal(this,root):\n",
    "        arr = []\n",
    "        if root:\n",
    "            arr.append(root.val)\n",
    "            arr += this.preOrderTraversal(root.left)\n",
    "            arr += this.preOrderTraversal(root.right)\n",
    "        return arr \n",
    "    \n",
    "    def postOrderTraversal(this,root):\n",
    "        arr = []\n",
    "        if root:\n",
    "            arr += this.postOrderTraversal(root.left)\n",
    "            arr += this.postOrderTraversal(root.right)\n",
    "            arr.append(root.val)\n",
    "        return arr    "
   ]
  },
  {
   "cell_type": "code",
   "execution_count": 1167,
   "metadata": {},
   "outputs": [],
   "source": [
    "root = BinaryNode(5)"
   ]
  },
  {
   "cell_type": "code",
   "execution_count": 1168,
   "metadata": {},
   "outputs": [],
   "source": [
    "root.insert(4)\n",
    "root.insert(5)\n",
    "root.insert(2)\n",
    "root.insert(1)\n",
    "root.insert(9)\n",
    "root.insert(8)\n",
    "root.insert(3)"
   ]
  },
  {
   "cell_type": "code",
   "execution_count": 1169,
   "metadata": {},
   "outputs": [
    {
     "name": "stdout",
     "output_type": "stream",
     "text": [
      "1\n",
      "2\n",
      "3\n",
      "4\n",
      "5\n",
      "8\n",
      "9\n"
     ]
    }
   ],
   "source": [
    "root.printTree()"
   ]
  },
  {
   "cell_type": "markdown",
   "metadata": {},
   "source": [
    "        5\n",
    "      4   9\n",
    "    2    8\n",
    "  1"
   ]
  },
  {
   "cell_type": "code",
   "execution_count": 1170,
   "metadata": {},
   "outputs": [
    {
     "data": {
      "text/plain": [
       "[1, 2, 3, 4, 5, 8, 9]"
      ]
     },
     "execution_count": 1170,
     "metadata": {},
     "output_type": "execute_result"
    }
   ],
   "source": [
    "root.inOrderTraversal(root)"
   ]
  },
  {
   "cell_type": "code",
   "execution_count": 1159,
   "metadata": {},
   "outputs": [
    {
     "data": {
      "text/plain": [
       "[5, 4, 2, 1, 9, 8]"
      ]
     },
     "execution_count": 1159,
     "metadata": {},
     "output_type": "execute_result"
    }
   ],
   "source": [
    "root.preOrderTraversal(root)"
   ]
  },
  {
   "cell_type": "code",
   "execution_count": 1160,
   "metadata": {},
   "outputs": [
    {
     "data": {
      "text/plain": [
       "[1, 2, 4, 8, 9, 5]"
      ]
     },
     "execution_count": 1160,
     "metadata": {},
     "output_type": "execute_result"
    }
   ],
   "source": [
    "root.postOrderTraversal(root)"
   ]
  },
  {
   "cell_type": "markdown",
   "metadata": {},
   "source": [
    "# Generate Graph"
   ]
  },
  {
   "cell_type": "code",
   "execution_count": 1,
   "metadata": {},
   "outputs": [],
   "source": [
    "from collections import defaultdict\n",
    "class Graph():\n",
    "    def __init__(this):\n",
    "        this.graph = defaultdict(list)\n",
    "        \n",
    "    def addEdge(this,u,v):\n",
    "        this.graph[u] = v"
   ]
  },
  {
   "cell_type": "code",
   "execution_count": 2,
   "metadata": {},
   "outputs": [],
   "source": [
    "g = Graph()\n",
    "g.addEdge('a',['b','c','d'])\n",
    "g.addEdge('b',['f','g','h'])\n",
    "g.addEdge('c',[])\n",
    "g.addEdge('d',['h'])"
   ]
  },
  {
   "cell_type": "code",
   "execution_count": 3,
   "metadata": {},
   "outputs": [],
   "source": [
    "g.addEdge('d',['i'])"
   ]
  },
  {
   "cell_type": "code",
   "execution_count": 4,
   "metadata": {},
   "outputs": [
    {
     "data": {
      "text/plain": [
       "defaultdict(list,\n",
       "            {'a': ['b', 'c', 'd'], 'b': ['f', 'g', 'h'], 'c': [], 'd': ['i']})"
      ]
     },
     "execution_count": 4,
     "metadata": {},
     "output_type": "execute_result"
    }
   ],
   "source": [
    "g.graph"
   ]
  },
  {
   "cell_type": "markdown",
   "metadata": {},
   "source": [
    "        a\n",
    "    b   c   d\n",
    "  f g h        i"
   ]
  },
  {
   "cell_type": "markdown",
   "metadata": {},
   "source": [
    "# BFS"
   ]
  },
  {
   "cell_type": "code",
   "execution_count": 5,
   "metadata": {},
   "outputs": [],
   "source": [
    "from collections import deque\n",
    "\n",
    "def BFS(graph,root):\n",
    "    visited = []\n",
    "    queue = deque([root])\n",
    "    \n",
    "    \n",
    "    while queue:\n",
    "        vertex = queue.popleft()\n",
    "        visited.append(vertex)\n",
    "        for neighbour in graph[vertex]:\n",
    "            if neighbour not in visited:\n",
    "                \n",
    "                queue.append(neighbour)\n",
    "                \n",
    "    return visited             \n",
    "    "
   ]
  },
  {
   "cell_type": "code",
   "execution_count": 6,
   "metadata": {},
   "outputs": [
    {
     "data": {
      "text/plain": [
       "['a', 'b', 'c', 'd', 'f', 'g', 'h', 'i']"
      ]
     },
     "execution_count": 6,
     "metadata": {},
     "output_type": "execute_result"
    }
   ],
   "source": [
    "BFS(g.graph,'a')"
   ]
  },
  {
   "cell_type": "markdown",
   "metadata": {},
   "source": [
    "# DFS"
   ]
  },
  {
   "cell_type": "code",
   "execution_count": 7,
   "metadata": {},
   "outputs": [],
   "source": [
    "from collections import deque\n",
    "\n",
    "def DFS(graph,root):\n",
    "    visited = []\n",
    "    stack = deque([root])\n",
    "    \n",
    "    \n",
    "    while stack:\n",
    "        vertex = stack.pop()\n",
    "        visited.append(vertex)\n",
    "        for neighbour in graph[vertex]:\n",
    "            if neighbour not in visited:\n",
    "                \n",
    "                stack.append(neighbour)\n",
    "    return visited\n",
    "    \n",
    "     \n",
    "        \n",
    "    "
   ]
  },
  {
   "cell_type": "code",
   "execution_count": 8,
   "metadata": {},
   "outputs": [
    {
     "data": {
      "text/plain": [
       "defaultdict(list,\n",
       "            {'a': ['b', 'c', 'd'],\n",
       "             'b': ['f', 'g', 'h'],\n",
       "             'c': [],\n",
       "             'd': ['i'],\n",
       "             'f': [],\n",
       "             'g': [],\n",
       "             'h': [],\n",
       "             'i': []})"
      ]
     },
     "execution_count": 8,
     "metadata": {},
     "output_type": "execute_result"
    }
   ],
   "source": [
    "g.graph"
   ]
  },
  {
   "cell_type": "code",
   "execution_count": 9,
   "metadata": {},
   "outputs": [
    {
     "data": {
      "text/plain": [
       "['a', 'd', 'i', 'c', 'b', 'h', 'g', 'f']"
      ]
     },
     "execution_count": 9,
     "metadata": {},
     "output_type": "execute_result"
    }
   ],
   "source": [
    "DFS(g.graph,'a')"
   ]
  },
  {
   "cell_type": "code",
   "execution_count": 14,
   "metadata": {},
   "outputs": [],
   "source": [
    "visited = [] # Array to keep track of visited nodes.\n",
    "\n",
    "def dfs(visited, graph, node):\n",
    "    \n",
    "    if node not in visited:\n",
    "        print(node),\n",
    "        visited.append(node)\n",
    "        \n",
    "        for neighbour in graph[node]:\n",
    "            dfs(visited, graph, neighbour)\n",
    "    return visited\n"
   ]
  },
  {
   "cell_type": "code",
   "execution_count": 15,
   "metadata": {},
   "outputs": [
    {
     "name": "stdout",
     "output_type": "stream",
     "text": [
      "a\n",
      "b\n",
      "f\n",
      "g\n",
      "c\n",
      "d\n",
      "h\n"
     ]
    },
    {
     "data": {
      "text/plain": [
       "['a', 'b', 'f', 'g', 'c', 'd', 'h']"
      ]
     },
     "execution_count": 15,
     "metadata": {},
     "output_type": "execute_result"
    }
   ],
   "source": [
    "# Driver Code\n",
    "dfs(visited, g.graph, 'a')"
   ]
  },
  {
   "cell_type": "code",
   "execution_count": 190,
   "metadata": {},
   "outputs": [
    {
     "data": {
      "text/plain": [
       "defaultdict(list,\n",
       "            {'a': ['b', 'c', 'd'],\n",
       "             'b': ['f', 'g'],\n",
       "             'c': [],\n",
       "             'd': ['h'],\n",
       "             'f': [],\n",
       "             'g': [],\n",
       "             'h': []})"
      ]
     },
     "execution_count": 190,
     "metadata": {},
     "output_type": "execute_result"
    }
   ],
   "source": [
    "g.graph"
   ]
  },
  {
   "cell_type": "code",
   "execution_count": 195,
   "metadata": {},
   "outputs": [
    {
     "name": "stdout",
     "output_type": "stream",
     "text": [
      "0 59 38 33 30 17 8 63 \n",
      "37 34 31 60 9 62 29 16 \n",
      "58 1 36 39 32 27 18 7 \n",
      "35 48 41 26 61 10 15 28 \n",
      "42 57 2 49 40 23 6 19 \n",
      "47 50 45 54 25 20 11 14 \n",
      "56 43 52 3 22 13 24 5 \n",
      "51 46 55 44 53 4 21 12 \n"
     ]
    }
   ],
   "source": [
    "# Python3 program to solve Knight Tour problem using Backtracking \n",
    "\n",
    "# Chessboard Size \n",
    "n = 8\n",
    "\n",
    "def isSafe(x,y,board): \n",
    "\t''' \n",
    "\t\tA utility function to check if i,j are valid indexes \n",
    "\t\tfor N*N chessboard \n",
    "\t'''\n",
    "\tif(x >= 0 and y >= 0 and x < n and y < n and board[x][y] == -1): \n",
    "\t\treturn True\n",
    "\treturn False\n",
    "\n",
    "def printSolution(board): \n",
    "\t''' \n",
    "\t\tA utility function to print Chessboard matrix \n",
    "\t'''\n",
    "\tfor i in range(n): \n",
    "\t\tfor j in range(n): \n",
    "\t\t\tprint(board[i][j],end =' ') \n",
    "\t\tprint() \n",
    "\n",
    "\n",
    "def solveKT(): \n",
    "\t''' \n",
    "\t\tThis function solves the Knight Tour problem using \n",
    "\t\tBacktracking. This function mainly uses solveKTUtil() \n",
    "\t\tto solve the problem. It returns false if no complete \n",
    "\t\ttour is possible, otherwise return true and prints the \n",
    "\t\ttour. \n",
    "\t\tPlease note that there may be more than one solutions, \n",
    "\t\tthis function prints one of the feasible solutions. \n",
    "\t'''\n",
    "\t\n",
    "\t# Initialization of Board matrix \n",
    "\tboard = [[-1 for i in range(n)]for i in range(n)] \n",
    "\t\n",
    "\t# move_x and move_y define next move of Knight. \n",
    "\t# move_x is for next value of x coordinate \n",
    "\t# move_y is for next value of y coordinate \n",
    "\tmove_x = [2, 1, -1, -2, -2, -1, 1, 2] \n",
    "\tmove_y = [1, 2, 2, 1, -1, -2, -2, -1] \n",
    "\t\n",
    "\t# Since the Knight is initially at the first block \n",
    "\tboard[0][0] = 0\n",
    "\t\n",
    "\t# Step counter for knight's position \n",
    "\tpos = 1\n",
    "\t\n",
    "\t# Checking if solution exists or not \n",
    "\tif(not solveKTUtil(board, 0, 0, move_x, move_y, pos)): \n",
    "\t\tprint(\"Solution does not exist\") \n",
    "\telse: \n",
    "\t\tprintSolution(board) \n",
    "\n",
    "def solveKTUtil(board,curr_x,curr_y,move_x,move_y,pos): \n",
    "\t''' \n",
    "\t\tA recursive utility function to solve Knight Tour \n",
    "\t\tproblem \n",
    "\t'''\n",
    "\t\n",
    "\tif(pos == n**2): \n",
    "\t\treturn True\n",
    "\t\n",
    "\t# Try all next moves from the current coordinate x, y \n",
    "\tfor i in range(8): \n",
    "\t\tnew_x = curr_x + move_x[i] \n",
    "\t\tnew_y = curr_y + move_y[i] \n",
    "\t\tif(isSafe(new_x,new_y,board)): \n",
    "\t\t\tboard[new_x][new_y] = pos \n",
    "\t\t\tif(solveKTUtil(board,new_x,new_y,move_x,move_y,pos+1)): \n",
    "\t\t\t\treturn True\n",
    "\t\t\t\n",
    "\t\t\t# Backtracking \n",
    "\t\t\tboard[new_x][new_y] = -1\n",
    "\treturn False\n",
    "\t\t\n",
    "# Driver program to test above function \n",
    "if __name__ == \"__main__\": \n",
    "\tsolveKT() \n",
    "\t\n",
    "# This code is contributed by AAKASH PAL \n"
   ]
  },
  {
   "cell_type": "markdown",
   "metadata": {},
   "source": [
    "# Phone Dic"
   ]
  },
  {
   "cell_type": "code",
   "execution_count": 76,
   "metadata": {},
   "outputs": [],
   "source": [
    "def letterCombinations(digits: str):\n",
    "    phone = {'2': ['a', 'b', 'c'],\n",
    "             '3': ['d', 'e', 'f'],\n",
    "             '4': ['g', 'h', 'i'],\n",
    "             '5': ['j', 'k', 'l'],\n",
    "             '6': ['m', 'n', 'o'],\n",
    "             '7': ['p', 'q', 'r', 's'],\n",
    "             '8': ['t', 'u', 'v'],\n",
    "             '9': ['w', 'x', 'y', 'z']}\n",
    "    \n",
    "    \n",
    "    def backtrack(combination, next_digits):\n",
    "        # if there is no more digits to check\n",
    "\n",
    "        if len(next_digits) == 0:\n",
    "            # the combination is done\n",
    "            output.append(combination)\n",
    "        # if there are still digits to check\n",
    "        else:\n",
    "            # iterate over all letters which map \n",
    "            # the next available digit\n",
    "            for letter in phone[next_digits[0]]:\n",
    "                # append the current letter to the combination\n",
    "                # and proceed to the next digits\n",
    "                backtrack(combination + letter, next_digits[1:])\n",
    "                \n",
    "    output = []\n",
    "    if digits:\n",
    "        backtrack(\"\", digits)\n",
    "    return output"
   ]
  },
  {
   "cell_type": "code",
   "execution_count": 77,
   "metadata": {},
   "outputs": [
    {
     "data": {
      "text/plain": [
       "['ad', 'ae', 'af', 'bd', 'be', 'bf', 'cd', 'ce', 'cf']"
      ]
     },
     "execution_count": 77,
     "metadata": {},
     "output_type": "execute_result"
    }
   ],
   "source": [
    "letterCombinations(\"23\")"
   ]
  },
  {
   "cell_type": "code",
   "execution_count": 203,
   "metadata": {},
   "outputs": [],
   "source": [
    "\n",
    "phone = {'2': ['a', 'b', 'c'],\n",
    "\n",
    "         '3': ['d', 'e', 'f'],\n",
    "\n",
    "         '4': ['g', 'h', 'i'],\n",
    "\n",
    "         '5': ['j', 'k', 'l'],\n",
    "\n",
    "         '6': ['m', 'n', 'o'],\n",
    "\n",
    "         '7': ['p', 'q', 'r', 's'],\n",
    "\n",
    "         '8': ['t', 'u', 'v'],\n",
    "\n",
    "         '9': ['w', 'x', 'y', 'z']}"
   ]
  },
  {
   "cell_type": "code",
   "execution_count": 209,
   "metadata": {},
   "outputs": [
    {
     "data": {
      "text/plain": [
       "['d', 'e', 'f']"
      ]
     },
     "execution_count": 209,
     "metadata": {},
     "output_type": "execute_result"
    }
   ],
   "source": [
    "phone[\"23\"[1]]"
   ]
  },
  {
   "cell_type": "markdown",
   "metadata": {},
   "source": [
    "# backtrack permutation"
   ]
  },
  {
   "cell_type": "code",
   "execution_count": 556,
   "metadata": {},
   "outputs": [
    {
     "name": "stdout",
     "output_type": "stream",
     "text": [
      "['1', '2', '3']\n",
      "['1', '3', '2']\n",
      "['2', '1', '3']\n",
      "['2', '3', '1']\n",
      "['3', '1', '2']\n",
      "['3', '2', '1']\n"
     ]
    }
   ],
   "source": [
    "# Python function to print permutations of a given list \n",
    "def permutation(lst): \n",
    "  \n",
    "    if len(lst) == 0: \n",
    "        return [] \n",
    "  \n",
    "    if len(lst) == 1: \n",
    "        return [lst] \n",
    "\n",
    "  \n",
    "    l = [] \n",
    "    for i in range(len(lst)): \n",
    "       m = lst[i] \n",
    "       remLst = lst[:i] + lst[i+1:] \n",
    "       for p in permutation(remLst): \n",
    "           l.append([m] + p)\n",
    "            \n",
    "    return l \n",
    "  \n",
    "  \n",
    "# Driver program to test above function \n",
    "data = list('123') \n",
    "for p in permutation(data): \n",
    "    print(p)"
   ]
  },
  {
   "cell_type": "markdown",
   "metadata": {},
   "source": [
    "# backtrack combination sum"
   ]
  },
  {
   "cell_type": "code",
   "execution_count": 1,
   "metadata": {},
   "outputs": [],
   "source": [
    "class Solution:\n",
    "    def combinationSum(self, candidates, target):\n",
    "        res = []\n",
    "        candidates.sort()\n",
    "        self.backtrack(candidates, target, 0, [], res)\n",
    "        return res\n",
    "\n",
    "    def backtrack(self, candidates, target, index, path, res):\n",
    "        if target < 0:\n",
    "            return  # backtracking\n",
    "        if target == 0:\n",
    "            res.append(path)\n",
    "            return \n",
    "        for i in range(index, len(candidates)):\n",
    "            \n",
    "            self.backtrack(candidates, target-candidates[i], i+1, path+[candidates[i]], res)"
   ]
  },
  {
   "cell_type": "code",
   "execution_count": 2,
   "metadata": {},
   "outputs": [
    {
     "data": {
      "text/plain": [
       "[[2, 3, 5], [3, 7], [4, 6]]"
      ]
     },
     "execution_count": 2,
     "metadata": {},
     "output_type": "execute_result"
    }
   ],
   "source": [
    "s = Solution()\n",
    "s.combinationSum([2,3,4,5,6,7],10)"
   ]
  },
  {
   "cell_type": "code",
   "execution_count": 717,
   "metadata": {},
   "outputs": [],
   "source": [
    "import re\n",
    "\n",
    "txt = \"tdhe rain in Spain\""
   ]
  },
  {
   "cell_type": "code",
   "execution_count": 729,
   "metadata": {},
   "outputs": [
    {
     "data": {
      "text/plain": [
       "<re.Match object; span=(0, 1), match='9'>"
      ]
     },
     "execution_count": 729,
     "metadata": {},
     "output_type": "execute_result"
    }
   ],
   "source": [
    "re.search(\"[0-9]\",\"92.3\")"
   ]
  },
  {
   "cell_type": "code",
   "execution_count": 733,
   "metadata": {},
   "outputs": [],
   "source": [
    "a = defaultdict()\n",
    "a['A'] = \"present\"\n",
    "a['B'] = \"present\""
   ]
  },
  {
   "cell_type": "code",
   "execution_count": 745,
   "metadata": {},
   "outputs": [
    {
     "name": "stdout",
     "output_type": "stream",
     "text": [
      "yes\n"
     ]
    }
   ],
   "source": [
    "if 'D'not in a:\n",
    "    print(\"yes\")"
   ]
  },
  {
   "cell_type": "markdown",
   "metadata": {},
   "source": [
    "# longest substring"
   ]
  },
  {
   "cell_type": "code",
   "execution_count": 1,
   "metadata": {},
   "outputs": [],
   "source": [
    "from collections import defaultdict\n",
    "\n",
    "def lengthOfLongestSubstring(s: str) -> int:\n",
    "    \n",
    "    \n",
    "    arrS = list(s)\n",
    "    result = 0\n",
    "    \n",
    "        # not present in dictionary\n",
    "\n",
    "     \n",
    "    def longestString(arrS,result):\n",
    "        visited = defaultdict(list)\n",
    "  \n",
    "        if len(arrS) == 0:\n",
    "            return result\n",
    "        else:\n",
    "            for i in range(0,len(arrS)):\n",
    "                # not present in dictionary            \n",
    "                if arrS[i] not in visited:\n",
    "\n",
    "                    visited[arrS[i]] = i\n",
    "                    if result < len(visited):\n",
    "                        result = len(visited)  \n",
    "                    if i ==  len(arrS) - 1:\n",
    "                        return result\n",
    "                else:\n",
    "                    # if present\n",
    "                    if result < len(visited):\n",
    "                        result = len(visited)\n",
    "                    return longestString(arrS[visited[arrS[i]]+1:],result)\n",
    "                    \n",
    "    result = longestString(arrS,result)           \n",
    "    return result"
   ]
  },
  {
   "cell_type": "code",
   "execution_count": 6,
   "metadata": {},
   "outputs": [
    {
     "data": {
      "text/plain": [
       "3"
      ]
     },
     "execution_count": 6,
     "metadata": {},
     "output_type": "execute_result"
    }
   ],
   "source": [
    "lengthOfLongestSubstring(\"ajia\")"
   ]
  },
  {
   "cell_type": "markdown",
   "metadata": {},
   "source": [
    "# reverse linked list"
   ]
  },
  {
   "cell_type": "code",
   "execution_count": 7,
   "metadata": {},
   "outputs": [],
   "source": [
    "class singlyLinkedList():\n",
    "    def __init__(this,val):\n",
    "        this.val = val\n",
    "        this.next = None\n",
    "    \n",
    "    \n",
    "    def addNode(this,root,val):\n",
    "        \n",
    "        if root.next is None:\n",
    "            \n",
    "            root.next = singlyLinkedList(val)\n",
    "            \n",
    "        else:\n",
    "            \n",
    "            this.addNode(root.next,val)\n",
    "            \n",
    "        \n",
    "    def getNodes(this,root):\n",
    "        arr = []\n",
    "        if root is not None:\n",
    "            arr.append(root.val)\n",
    "            arr += this.getNodes(root.next)\n",
    "            \n",
    "        return arr\n",
    "            \n",
    "            \n",
    "    def reverseNodes(this,root):\n",
    "        \n",
    "        if root.next is not None:\n",
    "            \n",
    "            this.getNodes(root.next)\n",
    "            return root.val         "
   ]
  },
  {
   "cell_type": "code",
   "execution_count": 8,
   "metadata": {},
   "outputs": [],
   "source": [
    "s = singlyLinkedList(1)"
   ]
  },
  {
   "cell_type": "code",
   "execution_count": 9,
   "metadata": {},
   "outputs": [],
   "source": [
    "s.addNode(s,2)\n",
    "s.addNode(s,3)\n",
    "s.addNode(s,4)\n",
    "s.addNode(s,5)"
   ]
  },
  {
   "cell_type": "code",
   "execution_count": 10,
   "metadata": {},
   "outputs": [
    {
     "data": {
      "text/plain": [
       "[1, 2, 3, 4, 5]"
      ]
     },
     "execution_count": 10,
     "metadata": {},
     "output_type": "execute_result"
    }
   ],
   "source": [
    "s.getNodes(s)"
   ]
  },
  {
   "cell_type": "code",
   "execution_count": 11,
   "metadata": {},
   "outputs": [
    {
     "data": {
      "text/plain": [
       "1"
      ]
     },
     "execution_count": 11,
     "metadata": {},
     "output_type": "execute_result"
    }
   ],
   "source": [
    "s.reverseNodes(s)"
   ]
  },
  {
   "cell_type": "code",
   "execution_count": 12,
   "metadata": {},
   "outputs": [
    {
     "data": {
      "text/plain": [
       "[1, 2, 3, 4, 5]"
      ]
     },
     "execution_count": 12,
     "metadata": {},
     "output_type": "execute_result"
    }
   ],
   "source": [
    "s.getNodes(s)"
   ]
  },
  {
   "cell_type": "code",
   "execution_count": 63,
   "metadata": {},
   "outputs": [],
   "source": [
    "wrd = \" astala vista baby!   \""
   ]
  },
  {
   "cell_type": "code",
   "execution_count": 64,
   "metadata": {},
   "outputs": [],
   "source": [
    "import math\n",
    "def avgWordLength(wrd):\n",
    "    wrd = wrd.strip()\n",
    "    \n",
    "    result = 0\n",
    "    for i in wrd.split(\" \"):\n",
    "        print(len(list(i)))\n",
    "        result += len(list(i))\n",
    "    \n",
    "    return math.floor(result/len(wrd.split(\" \")))\n",
    "    "
   ]
  },
  {
   "cell_type": "code",
   "execution_count": 65,
   "metadata": {},
   "outputs": [
    {
     "name": "stdout",
     "output_type": "stream",
     "text": [
      "6\n",
      "5\n",
      "5\n"
     ]
    },
    {
     "data": {
      "text/plain": [
       "5"
      ]
     },
     "execution_count": 65,
     "metadata": {},
     "output_type": "execute_result"
    }
   ],
   "source": [
    "avgWordLength(wrd)"
   ]
  },
  {
   "cell_type": "markdown",
   "metadata": {},
   "source": [
    "# alphabet with highest neighbors"
   ]
  },
  {
   "cell_type": "code",
   "execution_count": 932,
   "metadata": {},
   "outputs": [],
   "source": [
    "a = [[\"A\"],[\"A\",\"B\"],[\"A\",\"C\"],[\"B\",\"D\"],[\"C\",\"A\"]]"
   ]
  },
  {
   "cell_type": "code",
   "execution_count": 934,
   "metadata": {},
   "outputs": [
    {
     "data": {
      "text/plain": [
       "[['A'], ['A', 'B'], ['A', 'C'], ['B', 'D'], ['C', 'A']]"
      ]
     },
     "execution_count": 934,
     "metadata": {},
     "output_type": "execute_result"
    }
   ],
   "source": [
    "a"
   ]
  },
  {
   "cell_type": "code",
   "execution_count": 944,
   "metadata": {},
   "outputs": [],
   "source": [
    "from collections import defaultdict"
   ]
  },
  {
   "cell_type": "code",
   "execution_count": 945,
   "metadata": {},
   "outputs": [],
   "source": [
    "defDict = defaultdict(list)"
   ]
  },
  {
   "cell_type": "code",
   "execution_count": 946,
   "metadata": {},
   "outputs": [],
   "source": [
    "for i in a:\n",
    "    if len(i) == 2:\n",
    "        for j in i:\n",
    "            if j in defDict:\n",
    "                defDict[j] += 1\n",
    "            else:\n",
    "                defDict[j] = 1\n",
    "\n",
    "        \n",
    "        "
   ]
  },
  {
   "cell_type": "code",
   "execution_count": 965,
   "metadata": {},
   "outputs": [
    {
     "data": {
      "text/plain": [
       "<re.Match object; span=(3, 4), match='2'>"
      ]
     },
     "execution_count": 965,
     "metadata": {},
     "output_type": "execute_result"
    }
   ],
   "source": [
    "re.search(r\"\\d\", \"abc2!\")"
   ]
  },
  {
   "cell_type": "code",
   "execution_count": 970,
   "metadata": {},
   "outputs": [
    {
     "name": "stdout",
     "output_type": "stream",
     "text": [
      "exception\n"
     ]
    }
   ],
   "source": [
    "try:\n",
    "    value=int(\"3d\")\n",
    "except:\n",
    "    print(\"exception\")"
   ]
  },
  {
   "cell_type": "code",
   "execution_count": 978,
   "metadata": {},
   "outputs": [
    {
     "data": {
      "text/plain": [
       "['c']"
      ]
     },
     "execution_count": 978,
     "metadata": {},
     "output_type": "execute_result"
    }
   ],
   "source": [
    "re.findall(r\"[^0-9a-bA-B]\",\"abc3\")"
   ]
  },
  {
   "cell_type": "markdown",
   "metadata": {},
   "source": [
    "# linked list"
   ]
  },
  {
   "cell_type": "code",
   "execution_count": 4,
   "metadata": {},
   "outputs": [],
   "source": [
    "class Node:\n",
    "    def __init__(this,val):\n",
    "        this.val = val\n",
    "        this.next = None"
   ]
  },
  {
   "cell_type": "code",
   "execution_count": 167,
   "metadata": {},
   "outputs": [],
   "source": [
    "class singlyLinkedList:\n",
    "    def __init__(this):\n",
    "        this.head = None\n",
    "        \n",
    "    def addNode(this,val):\n",
    "        if this.head is None:\n",
    "            this.head = Node(val)\n",
    "        else:\n",
    "            new_node = Node(val)\n",
    "            new_node.next = this.head\n",
    "            this.head = new_node\n",
    "            \n",
    "    def printNode(this,head):\n",
    "        node = this.head\n",
    "        if node:\n",
    "            print(node.val)\n",
    "            node = node.next\n",
    "            this.printNode(node)\n",
    "            \n",
    "    # Function to reverse the linked list\n",
    "    def reverse(self):\n",
    "        prev = None\n",
    "        current = self.head\n",
    "        while(current is not None):\n",
    "            next = current.next\n",
    "            current.next = prev\n",
    "            prev = current\n",
    "            current = next\n",
    "        self.head = prev\n",
    "            "
   ]
  },
  {
   "cell_type": "markdown",
   "metadata": {},
   "source": [
    "# Trie"
   ]
  },
  {
   "cell_type": "code",
   "execution_count": 15,
   "metadata": {},
   "outputs": [],
   "source": [
    "class TrieNode:\n",
    "    def __init__(self,char):\n",
    "        self.char = char\n",
    "        self.children = []\n",
    "        self.isWordFinished = False\n",
    "        self.counter = 1\n",
    "    \n",
    "    def add(self,word):\n",
    "        node = self\n",
    "        for char in word:\n",
    "            foundInChild = False\n",
    "            for child in node.children:\n",
    "                if char == child.char:\n",
    "                    node = child\n",
    "                    foundInChild = True\n",
    "                    \n",
    "            if foundInChild == False:\n",
    "                newNode = TrieNode(char)\n",
    "                node.children.append(newNode)\n",
    "                node = newNode\n",
    "        node.isWordFinished = True\n",
    "        \n",
    "        return node\n",
    "    \n",
    "   \n",
    "                    \n",
    "    def addNew(this,word):\n",
    "        node = this\n",
    "        for char in word:\n",
    "            found_in_child = False\n",
    "            for child in node.children:\n",
    "                if child.char == char:\n",
    "                    node = child\n",
    "                    found_in_child = True\n",
    "                    node.counter += 1\n",
    "                    break\n",
    "            if not found_in_child:\n",
    "                new_node = trieNode(char)\n",
    "                node.children.append(new_node)\n",
    "                node = new_node\n",
    "        node.wordFinished = True\n",
    "        return node"
   ]
  },
  {
   "cell_type": "code",
   "execution_count": 16,
   "metadata": {},
   "outputs": [
    {
     "data": {
      "text/plain": [
       "<__main__.TrieNode at 0x1a4bcb2bf60>"
      ]
     },
     "execution_count": 16,
     "metadata": {},
     "output_type": "execute_result"
    }
   ],
   "source": [
    "root = TrieNode(\"*\")\n",
    "root.add(\"abc\")\n"
   ]
  },
  {
   "cell_type": "code",
   "execution_count": 17,
   "metadata": {},
   "outputs": [
    {
     "data": {
      "text/plain": [
       "[<__main__.TrieNode at 0x1a4bcbab6d8>]"
      ]
     },
     "execution_count": 17,
     "metadata": {},
     "output_type": "execute_result"
    }
   ],
   "source": [
    "root.children"
   ]
  },
  {
   "cell_type": "code",
   "execution_count": 1,
   "metadata": {},
   "outputs": [],
   "source": [
    "class singlyLinkedList:\n",
    "    def __init__(this):\n",
    "        this.head = None\n",
    "        \n",
    "    def addNode(this,val):\n",
    "        if this.head is None:\n",
    "            this.head = Node(val)\n",
    "            \n",
    "        else:\n",
    "            newNode = Node(val)\n",
    "            newNode.next = this.head\n",
    "            \n",
    "            this.head = newNode\n",
    "      \n",
    "    def printNodes(this,currentNode):\n",
    "        if currentNode is not None:\n",
    "            print(currentNode.val)\n",
    "            currentNode = currentNode.next\n",
    "            this.printNodes(currentNode)\n",
    "    \n",
    "        \n",
    "    def reverseLinkedList(this):\n",
    "        prev = None\n",
    "        current = this.head\n",
    "        \n",
    "        while current is not None:\n",
    "            nextNode = current.next\n",
    "            current.next = prev\n",
    "            prev = current\n",
    "            current = nextNode\n",
    "        \n",
    "        this.head = prev\n",
    "            "
   ]
  },
  {
   "cell_type": "code",
   "execution_count": 2,
   "metadata": {},
   "outputs": [],
   "source": [
    "s = singlyLinkedList()"
   ]
  },
  {
   "cell_type": "code",
   "execution_count": 5,
   "metadata": {},
   "outputs": [],
   "source": [
    "s.addNode(1)\n",
    "s.addNode(2)\n",
    "s.addNode(3)\n",
    "s.addNode(4)\n",
    "s.addNode(5)\n",
    "s.addNode(6)\n",
    "s.addNode(7)"
   ]
  },
  {
   "cell_type": "code",
   "execution_count": 6,
   "metadata": {},
   "outputs": [
    {
     "data": {
      "text/plain": [
       "7"
      ]
     },
     "execution_count": 6,
     "metadata": {},
     "output_type": "execute_result"
    }
   ],
   "source": [
    "s.head.val"
   ]
  },
  {
   "cell_type": "code",
   "execution_count": 38,
   "metadata": {},
   "outputs": [],
   "source": [
    "s.reverseLinkedList()"
   ]
  },
  {
   "cell_type": "markdown",
   "metadata": {},
   "source": [
    "# Trie Node"
   ]
  },
  {
   "cell_type": "markdown",
   "metadata": {},
   "source": [
    "# Trie"
   ]
  },
  {
   "cell_type": "code",
   "execution_count": 8,
   "metadata": {},
   "outputs": [],
   "source": [
    "class trieNode:\n",
    "    def __init__(this,char = \"*\"):\n",
    "        this.char = char\n",
    "        this.children = {}\n",
    "        this.wordFinished = True\n",
    "        this.counter = 1\n",
    "    \n",
    "    def add(this,word):\n",
    "        node = this\n",
    "        for char in word:\n",
    "            found_in_child = False\n",
    "            for child in node.children:\n",
    "                if child.char == char:\n",
    "                    node = child\n",
    "                    found_in_child = True\n",
    "                    node.counter += 1\n",
    "                    break\n",
    "            if not found_in_child:\n",
    "                new_node = trieNode(char)\n",
    "                node.children.append(new_node)\n",
    "                node = new_node\n",
    "        node.wordFinished = True\n",
    "        return node\n",
    "    \n",
    "    def add_word(this, word):\n",
    "            node = this\n",
    "            for c in word:\n",
    "                if c not in node.children:\n",
    "                    node.children[c] = trieNode()\n",
    "                node = node.children[c]\n",
    "            node.wordFinished = True\n",
    "        \n",
    "    def wordPresent(this,word):\n",
    "        node = this\n",
    "        for char in word:\n",
    "            isPresent = False\n",
    "            for child in node.children:\n",
    "                \n",
    "                if char == child.char:\n",
    "                    isPresent = True\n",
    "                    node = child\n",
    "                    print(char)\n",
    "                    break\n",
    "            \n",
    "            if isPresent == False:\n",
    "                return \"not Found\"\n",
    "            \n",
    "        return \"Found\""
   ]
  },
  {
   "cell_type": "code",
   "execution_count": 9,
   "metadata": {},
   "outputs": [
    {
     "ename": "TypeError",
     "evalue": "__init__() missing 1 required positional argument: 'char'",
     "output_type": "error",
     "traceback": [
      "\u001b[1;31m---------------------------------------------------------------------------\u001b[0m",
      "\u001b[1;31mTypeError\u001b[0m                                 Traceback (most recent call last)",
      "\u001b[1;32m<ipython-input-9-670e3f018f4a>\u001b[0m in \u001b[0;36m<module>\u001b[1;34m()\u001b[0m\n\u001b[0;32m      1\u001b[0m \u001b[0mroot\u001b[0m \u001b[1;33m=\u001b[0m \u001b[0mtrieNode\u001b[0m\u001b[1;33m(\u001b[0m\u001b[1;34m\"*\"\u001b[0m\u001b[1;33m)\u001b[0m\u001b[1;33m\u001b[0m\u001b[0m\n\u001b[1;32m----> 2\u001b[1;33m \u001b[0mroot\u001b[0m\u001b[1;33m.\u001b[0m\u001b[0madd\u001b[0m\u001b[1;33m(\u001b[0m\u001b[1;34m\"hi\"\u001b[0m\u001b[1;33m)\u001b[0m\u001b[1;33m\u001b[0m\u001b[0m\n\u001b[0m\u001b[0;32m      3\u001b[0m \u001b[0mroot\u001b[0m\u001b[1;33m.\u001b[0m\u001b[0madd\u001b[0m\u001b[1;33m(\u001b[0m\u001b[1;34m\"hello\"\u001b[0m\u001b[1;33m)\u001b[0m\u001b[1;33m\u001b[0m\u001b[0m\n\u001b[0;32m      4\u001b[0m \u001b[0mroot\u001b[0m\u001b[1;33m.\u001b[0m\u001b[0madd\u001b[0m\u001b[1;33m(\u001b[0m\u001b[1;34m\"elon\"\u001b[0m\u001b[1;33m)\u001b[0m\u001b[1;33m\u001b[0m\u001b[0m\n\u001b[0;32m      5\u001b[0m \u001b[0mroot\u001b[0m\u001b[1;33m.\u001b[0m\u001b[0madd\u001b[0m\u001b[1;33m(\u001b[0m\u001b[1;34m\"ester\"\u001b[0m\u001b[1;33m)\u001b[0m\u001b[1;33m\u001b[0m\u001b[0m\n",
      "\u001b[1;32m<ipython-input-8-92f57e6f5ee4>\u001b[0m in \u001b[0;36madd\u001b[1;34m(this, word)\u001b[0m\n\u001b[0;32m     10\u001b[0m         \u001b[1;32mfor\u001b[0m \u001b[0mc\u001b[0m \u001b[1;32min\u001b[0m \u001b[0mword\u001b[0m\u001b[1;33m:\u001b[0m\u001b[1;33m\u001b[0m\u001b[0m\n\u001b[0;32m     11\u001b[0m             \u001b[1;32mif\u001b[0m \u001b[0mc\u001b[0m \u001b[1;32mnot\u001b[0m \u001b[1;32min\u001b[0m \u001b[0mnode\u001b[0m\u001b[1;33m.\u001b[0m\u001b[0mchildren\u001b[0m\u001b[1;33m:\u001b[0m\u001b[1;33m\u001b[0m\u001b[0m\n\u001b[1;32m---> 12\u001b[1;33m                 \u001b[0mnode\u001b[0m\u001b[1;33m.\u001b[0m\u001b[0mchildren\u001b[0m\u001b[1;33m[\u001b[0m\u001b[0mc\u001b[0m\u001b[1;33m]\u001b[0m \u001b[1;33m=\u001b[0m \u001b[0mtrieNode\u001b[0m\u001b[1;33m(\u001b[0m\u001b[1;33m)\u001b[0m\u001b[1;33m\u001b[0m\u001b[0m\n\u001b[0m\u001b[0;32m     13\u001b[0m             \u001b[0mnode\u001b[0m \u001b[1;33m=\u001b[0m \u001b[0mnode\u001b[0m\u001b[1;33m.\u001b[0m\u001b[0mchildren\u001b[0m\u001b[1;33m[\u001b[0m\u001b[0mc\u001b[0m\u001b[1;33m]\u001b[0m\u001b[1;33m\u001b[0m\u001b[0m\n\u001b[0;32m     14\u001b[0m         \u001b[0mnode\u001b[0m\u001b[1;33m.\u001b[0m\u001b[0mwordFinished\u001b[0m \u001b[1;33m=\u001b[0m \u001b[1;32mTrue\u001b[0m\u001b[1;33m\u001b[0m\u001b[0m\n",
      "\u001b[1;31mTypeError\u001b[0m: __init__() missing 1 required positional argument: 'char'"
     ]
    }
   ],
   "source": [
    "root = trieNode(\"*\")\n",
    "root.add(\"hi\")\n",
    "root.add(\"hello\")\n",
    "root.add(\"elon\")\n",
    "root.add(\"ester\")"
   ]
  },
  {
   "cell_type": "code",
   "execution_count": 3,
   "metadata": {},
   "outputs": [
    {
     "name": "stdout",
     "output_type": "stream",
     "text": [
      "e\n",
      "l\n",
      "o\n",
      "n\n"
     ]
    },
    {
     "data": {
      "text/plain": [
       "'Found'"
      ]
     },
     "execution_count": 3,
     "metadata": {},
     "output_type": "execute_result"
    }
   ],
   "source": [
    "root.wordPresent(\"elon\")"
   ]
  },
  {
   "cell_type": "markdown",
   "metadata": {},
   "source": [
    "# two sum"
   ]
  },
  {
   "cell_type": "code",
   "execution_count": 58,
   "metadata": {},
   "outputs": [],
   "source": [
    "def twoSum(self, nums, target: int):\n",
    "    result = []\n",
    "    diffNums = [target - x for x in nums]\n",
    "    for i in range(len(nums)):\n",
    "        if nums[i] in diffNums:\n",
    "            if target - nums[i] == nums[i]:\n",
    "                if nums.count(nums[i]) > 1:\n",
    "                    result.append(i)\n",
    "            else:\n",
    "                result.append(i)\n",
    "    return result "
   ]
  },
  {
   "cell_type": "markdown",
   "metadata": {},
   "source": [
    "# Longest palindrome"
   ]
  },
  {
   "cell_type": "code",
   "execution_count": 59,
   "metadata": {},
   "outputs": [],
   "source": [
    "def longestPalindrome(self, s: str) -> str:\n",
    "    \n",
    "    ans = ''\n",
    "    max_len = 0\n",
    "    n = len(s)\n",
    "    DP = [[0] * n for _ in range(n)]\n",
    "    \n",
    "    for i in range(n):\n",
    "        DP[i][i] = True\n",
    "        max_len = 1\n",
    "        ans = s[i]\n",
    "    \n",
    "\n",
    "    for i in range(n-1):\n",
    "        if s[i] == s[i+1]:\n",
    "            \n",
    "            DP[i][i+1] = True\n",
    "            ans = s[i:i+2]\n",
    "            max_len = 2\n",
    "    \n",
    " \n",
    "    \n",
    "    for j in range(n):\n",
    "        for i in range(0, j-1):\n",
    "            print(\"i\",i)\n",
    "            print(\"j\",j)\n",
    "            print(\"---\")\n",
    "            if s[i] == s[j] and DP[i+1][j-1]:\n",
    "                DP[i][j] = True\n",
    "                \n",
    "                if max_len < j - i + 1:\n",
    "                    print(s[i:j+1])\n",
    "                    ans = s[i:j+1]\n",
    "                    max_len = j - i + 1\n",
    "    return ans\n",
    "    "
   ]
  },
  {
   "cell_type": "code",
   "execution_count": null,
   "metadata": {},
   "outputs": [],
   "source": [
    "def longestPalindrome(self, s: str) -> str:        \n",
    "        res = \"\"\n",
    "        for i in range(len(s)):\n",
    "            # odd case, like \"aba\"\n",
    "            tmp = self.helper(s, i, i)\n",
    "            if len(tmp) > len(res):\n",
    "                res = tmp\n",
    "            # even case, like \"abba\"\n",
    "            tmp = self.helper(s, i, i+1)\n",
    "            if len(tmp) > len(res):\n",
    "                res = tmp\n",
    "        return res\n",
    "\n",
    "    # get the longest palindrome, l, r are the middle indexes   \n",
    "    # from inner to outer\n",
    "    def helper(self, s, l, r):\n",
    "        while l >= 0 and r < len(s) and s[l] == s[r]:\n",
    "            l -= 1; r += 1\n",
    "        return s[l+1:r]"
   ]
  },
  {
   "cell_type": "markdown",
   "metadata": {},
   "source": [
    "# str to int"
   ]
  },
  {
   "cell_type": "code",
   "execution_count": 61,
   "metadata": {},
   "outputs": [],
   "source": [
    "def myAtoi(self, str: str) -> int:\n",
    "    str = str.strip()\n",
    "    str = re.findall('(^[\\+\\-0]*\\d+)\\D*', str)\n",
    "\n",
    "    try:\n",
    "        result = int(''.join(str))\n",
    "        MAX_INT = 2147483647\n",
    "        MIN_INT = -2147483648\n",
    "        if result > MAX_INT > 0:\n",
    "            return MAX_INT\n",
    "        elif result < MIN_INT < 0:\n",
    "            return MIN_INT\n",
    "        else:\n",
    "            return result\n",
    "    except:\n",
    "        return 0"
   ]
  },
  {
   "cell_type": "markdown",
   "metadata": {},
   "source": [
    "# Roman to int"
   ]
  },
  {
   "cell_type": "code",
   "execution_count": 12,
   "metadata": {},
   "outputs": [],
   "source": [
    "def romanToInt(s):\n",
    "    roman = {'M': 1000,'D': 500 ,'C': 100,'L': 50,'X': 10,'V': 5,'I': 1}\n",
    "    z = 0\n",
    "    for i in range(0, len(s) - 1):\n",
    "        if roman[s[i]] < roman[s[i+1]]:\n",
    "            z -= roman[s[i]]\n",
    "        else:\n",
    "            z += roman[s[i]]\n",
    "    return z + roman[s[-1]]"
   ]
  },
  {
   "cell_type": "code",
   "execution_count": 15,
   "metadata": {},
   "outputs": [
    {
     "data": {
      "text/plain": [
       "6"
      ]
     },
     "execution_count": 15,
     "metadata": {},
     "output_type": "execute_result"
    }
   ],
   "source": [
    "romanToInt(\"VI\")"
   ]
  },
  {
   "cell_type": "markdown",
   "metadata": {},
   "source": [
    " # LRU cache"
   ]
  },
  {
   "cell_type": "code",
   "execution_count": 218,
   "metadata": {},
   "outputs": [],
   "source": [
    "class Node:\n",
    "    def __init__(self, k, v):\n",
    "        self.key = k\n",
    "        self.val = v\n",
    "        self.prev = None\n",
    "        self.next = None\n",
    " \n",
    "class LRUCache:\n",
    "    def __init__(self, capacity):\n",
    "        self.capacity = capacity\n",
    "        self.dic = dict()\n",
    "        self.head = Node(0, 0)\n",
    "        self.tail = Node(0, 0)\n",
    "        self.head.next = self.tail\n",
    "        self.tail.prev = self.head\n",
    "\n",
    "    def get(self, key):\n",
    "        if key in self.dic:\n",
    "            n = self.dic[key]\n",
    "            self._remove(n)\n",
    "            self._add(n)\n",
    "            return n.val\n",
    "        return -1\n",
    "\n",
    "    def set(self, key, value):\n",
    "        if key in self.dic:\n",
    "            self._remove(self.dic[key])\n",
    "        n = Node(key, value)\n",
    "        self._add(n)\n",
    "        self.dic[key] = n\n",
    "        if len(self.dic) > self.capacity:\n",
    "            n = self.head.next\n",
    "            self._remove(n)\n",
    "            del self.dic[n.key]\n",
    "\n",
    "    def _remove(self, node):\n",
    "        p = node.prev\n",
    "        n = node.next\n",
    "        p.next = n\n",
    "        n.prev = p\n",
    "\n",
    "    def _add(self, node):\n",
    "        p = self.tail.prev\n",
    "        p.next = node\n",
    "        self.tail.prev = node\n",
    "        node.prev = p\n",
    "        node.next = self.tail"
   ]
  },
  {
   "cell_type": "code",
   "execution_count": 219,
   "metadata": {},
   "outputs": [],
   "source": [
    "root = LRUCache(5)"
   ]
  },
  {
   "cell_type": "code",
   "execution_count": 3,
   "metadata": {},
   "outputs": [],
   "source": [
    "root.set(1,\"b\")"
   ]
  },
  {
   "cell_type": "code",
   "execution_count": 4,
   "metadata": {},
   "outputs": [
    {
     "data": {
      "text/plain": [
       "'b'"
      ]
     },
     "execution_count": 4,
     "metadata": {},
     "output_type": "execute_result"
    }
   ],
   "source": [
    "root.get(1)"
   ]
  },
  {
   "cell_type": "markdown",
   "metadata": {},
   "source": [
    "# Island"
   ]
  },
  {
   "cell_type": "code",
   "execution_count": null,
   "metadata": {},
   "outputs": [],
   "source": [
    "def numIslands(self, grid: List[List[str]]) -> int:\n",
    "    \n",
    "    def DFS(row,col):\n",
    "        grid[row][col] = \"0\"\n",
    "        if row-1 >= 0:\n",
    "            if grid[row-1][col] == \"1\":\n",
    "                DFS(row-1,col)\n",
    "        if col-1 >= 0:\n",
    "            if grid[row][col-1] == \"1\":\n",
    "                DFS(row,col-1)\n",
    "        if row+1 < len(grid):\n",
    "            if grid[row+1][col] == \"1\":\n",
    "                DFS(row+1,col)\n",
    "        if col+1 < len(grid[0]):\n",
    "            if grid[row][col+1] == \"1\":\n",
    "                DFS(row,col+1)\n",
    "    \n",
    "    numIslands = 0\n",
    "    for row in range(0,len(grid)):\n",
    "        for col in range(0,len(grid[row])):\n",
    "            if grid[row][col] == \"1\":\n",
    "                numIslands += 1\n",
    "                DFS(row,col)\n",
    "    return numIslands"
   ]
  },
  {
   "cell_type": "markdown",
   "metadata": {},
   "source": [
    "# Merge Sort"
   ]
  },
  {
   "cell_type": "code",
   "execution_count": 80,
   "metadata": {},
   "outputs": [
    {
     "name": "stdout",
     "output_type": "stream",
     "text": [
      "Given array is\n",
      "12 11 13 5 6 7\n",
      "Sorted array is : \n",
      "5 6 7 11 12 13\n"
     ]
    }
   ],
   "source": [
    "def merge_sort(values): \n",
    "  \n",
    "    if len(values)>1: \n",
    "        m = len(values)//2\n",
    "        left = values[:m] \n",
    "        right = values[m:] \n",
    "        left = merge_sort(left) \n",
    "        right = merge_sort(right) \n",
    "  \n",
    "        values =[] \n",
    "  \n",
    "        while len(left)>0 and len(right)>0: \n",
    "            if left[0]<right[0]: \n",
    "                values.append(left[0]) \n",
    "                left.pop(0) \n",
    "            else: \n",
    "                values.append(right[0]) \n",
    "                right.pop(0) \n",
    "  \n",
    "        for i in left: \n",
    "            values.append(i) \n",
    "        for i in right: \n",
    "            values.append(i) \n",
    "                  \n",
    "    return values \n",
    "  \n",
    "# Input list \n",
    "a = [12, 11, 13, 5, 6, 7] \n",
    "print(\"Given array is\") \n",
    "print(*a) \n",
    "  \n",
    "a = merge_sort(a) \n",
    "  \n",
    "# Print output \n",
    "print(\"Sorted array is : \") \n",
    "print(*a) \n"
   ]
  },
  {
   "cell_type": "markdown",
   "metadata": {},
   "source": [
    "# Bubble sort"
   ]
  },
  {
   "cell_type": "code",
   "execution_count": 81,
   "metadata": {},
   "outputs": [
    {
     "name": "stdout",
     "output_type": "stream",
     "text": [
      "Sorted array is:\n",
      "11\n",
      "12\n",
      "22\n",
      "25\n",
      "34\n",
      "64\n",
      "90\n"
     ]
    }
   ],
   "source": [
    "def bubbleSort(arr): \n",
    "    n = len(arr) \n",
    "  \n",
    "    # Traverse through all array elements \n",
    "    for i in range(n-1): \n",
    "    # range(n) also work but outer loop will repeat one time more than needed. \n",
    "  \n",
    "        # Last i elements are already in place \n",
    "        for j in range(0, n-i-1): \n",
    "  \n",
    "            # traverse the array from 0 to n-i-1 \n",
    "            # Swap if the element found is greater \n",
    "            # than the next element \n",
    "            if arr[j] > arr[j+1] : \n",
    "                arr[j], arr[j+1] = arr[j+1], arr[j] \n",
    "  \n",
    "# Driver code to test above \n",
    "arr = [64, 34, 25, 12, 22, 11, 90] \n",
    "  \n",
    "bubbleSort(arr) \n",
    "  \n",
    "print (\"Sorted array is:\") \n",
    "for i in range(len(arr)): \n",
    "    print (\"%d\" %arr[i]),"
   ]
  },
  {
   "cell_type": "markdown",
   "metadata": {},
   "source": [
    "# HeapSort"
   ]
  },
  {
   "cell_type": "code",
   "execution_count": 82,
   "metadata": {},
   "outputs": [
    {
     "name": "stdout",
     "output_type": "stream",
     "text": [
      "Sorted array is\n",
      "5\n",
      "6\n",
      "7\n",
      "11\n",
      "12\n",
      "13\n"
     ]
    }
   ],
   "source": [
    "def heapify(arr, n, i): \n",
    "    largest = i # Initialize largest as root \n",
    "    l = 2 * i + 1     # left = 2*i + 1 \n",
    "    r = 2 * i + 2     # right = 2*i + 2 \n",
    "  \n",
    "    # See if left child of root exists and is \n",
    "    # greater than root \n",
    "    if l < n and arr[i] < arr[l]: \n",
    "        largest = l \n",
    "  \n",
    "    # See if right child of root exists and is \n",
    "    # greater than root \n",
    "    if r < n and arr[largest] < arr[r]: \n",
    "        largest = r \n",
    "  \n",
    "    # Change root, if needed \n",
    "    if largest != i: \n",
    "        arr[i],arr[largest] = arr[largest],arr[i] # swap \n",
    "  \n",
    "        # Heapify the root. \n",
    "        heapify(arr, n, largest) \n",
    "  \n",
    "# The main function to sort an array of given size \n",
    "def heapSort(arr): \n",
    "    n = len(arr) \n",
    "  \n",
    "    # Build a maxheap. \n",
    "    for i in range(n//2 - 1, -1, -1): \n",
    "        heapify(arr, n, i) \n",
    "  \n",
    "    # One by one extract elements \n",
    "    for i in range(n-1, 0, -1): \n",
    "        arr[i], arr[0] = arr[0], arr[i] # swap \n",
    "        heapify(arr, i, 0) \n",
    "  \n",
    "# Driver code to test above \n",
    "arr = [ 12, 11, 13, 5, 6, 7] \n",
    "heapSort(arr) \n",
    "n = len(arr) \n",
    "print (\"Sorted array is\") \n",
    "for i in range(n): \n",
    "    print (\"%d\" %arr[i]), \n",
    "# This code is contributed by Mohit Kumra "
   ]
  },
  {
   "cell_type": "markdown",
   "metadata": {},
   "source": [
    "# Heap"
   ]
  },
  {
   "cell_type": "code",
   "execution_count": 1,
   "metadata": {},
   "outputs": [],
   "source": [
    "import heapq\n",
    "from heapq import heapify,heappush,heappop\n",
    "customers = [(\"Harry\",2), (\"Charles\",3),(\"Riya\",1), (\"Stacy\",4)]\n",
    "customers = []\n",
    "heapq.heappush(customers, (-2, [\"Harry\",\"larry\"]))\n",
    "heapq.heappush(customers, (-3, \"Charles\"))\n",
    "heapq.heappush(customers, (-1, \"Riya\"))\n",
    "heapq.heappush(customers, (-4, \"Stacy\"))"
   ]
  },
  {
   "cell_type": "code",
   "execution_count": 2,
   "metadata": {},
   "outputs": [
    {
     "name": "stdout",
     "output_type": "stream",
     "text": [
      "(-4, 'Stacy')\n",
      "(-3, 'Charles')\n",
      "(-2, ['Harry', 'larry'])\n",
      "(-1, 'Riya')\n"
     ]
    }
   ],
   "source": [
    "while customers:\n",
    "     print(heapq.heappop(customers))"
   ]
  },
  {
   "cell_type": "code",
   "execution_count": 3,
   "metadata": {},
   "outputs": [
    {
     "data": {
      "text/plain": [
       "[[0, 30], [5, 10], [15, 20], [90, 5]]"
      ]
     },
     "execution_count": 3,
     "metadata": {},
     "output_type": "execute_result"
    }
   ],
   "source": [
    "arr = [[0,30],[90,5],[5,10],[15,20]]\n",
    "arr\n",
    "\n",
    "arr.sort(key = lambda x:x[0])\n",
    "arr\n"
   ]
  },
  {
   "cell_type": "code",
   "execution_count": 32,
   "metadata": {},
   "outputs": [],
   "source": [
    "arr = [[0,30],[90,120],[5,10],[15,20]]\n",
    "heapify(arr)"
   ]
  },
  {
   "cell_type": "code",
   "execution_count": 33,
   "metadata": {},
   "outputs": [
    {
     "data": {
      "text/plain": [
       "[[0, 30], [15, 20], [5, 10], [90, 120]]"
      ]
     },
     "execution_count": 33,
     "metadata": {},
     "output_type": "execute_result"
    }
   ],
   "source": [
    "arr"
   ]
  },
  {
   "cell_type": "code",
   "execution_count": 20,
   "metadata": {},
   "outputs": [
    {
     "data": {
      "text/plain": [
       "(1, 'write spec')"
      ]
     },
     "execution_count": 20,
     "metadata": {},
     "output_type": "execute_result"
    }
   ],
   "source": [
    "h = []\n",
    "heappush(h, (5, 'write code'))\n",
    "heappush(h, (7, 'release product'))\n",
    "heappush(h, (1, 'write spec'))\n",
    "heappush(h, (3, 'create tests'))\n",
    "heappop(h)"
   ]
  },
  {
   "cell_type": "markdown",
   "metadata": {},
   "source": [
    "# minimum in rotated sorted array"
   ]
  },
  {
   "cell_type": "code",
   "execution_count": 89,
   "metadata": {},
   "outputs": [],
   "source": [
    "def findMin(nums):\n",
    "    \"\"\"\n",
    "    :type nums: List[int]\n",
    "    :rtype: int\n",
    "    \"\"\"\n",
    "    # set left and right bounds\n",
    "    left, right = 0, len(nums)-1\n",
    "            \n",
    "    # left and right both converge to the minimum index;\n",
    "    # DO NOT use left <= right because that would loop forever\n",
    "    while left < right:\n",
    "        # find the middle value between the left and right bounds (their average);\n",
    "\t\t# can equivalently do: mid = left + (right - left) // 2,\n",
    "\t\t# if we are concerned left + right would cause overflow (which would occur\n",
    "\t\t# if we are searching a massive array using a language like Java or C that has\n",
    "\t\t# fixed size integer types)\n",
    "        mid = (left + right) // 2\n",
    "                    \n",
    "        # the main idea for our checks is to converge the left and right bounds on the start\n",
    "        # of the pivot, and never disqualify the index for a possible minimum value.\n",
    "\n",
    "        # in normal binary search, we have a target to match exactly,\n",
    "        # and would have a specific branch for if nums[mid] == target.\n",
    "        # we do not have a specific target here, so we just have simple if/else.\n",
    "                    \n",
    "        if nums[mid] > nums[right]:\n",
    "            # we KNOW the pivot must be to the right of the middle:\n",
    "            # if nums[mid] > nums[right], we KNOW that the\n",
    "            # pivot/minimum value must have occurred somewhere to the right\n",
    "            # of mid, which is why the values wrapped around and became smaller.\n",
    "\n",
    "            # example:  [3,4,5,6,7,8,9,1,2] \n",
    "            # in the first iteration, when we start with mid index = 4, right index = 9.\n",
    "            # if nums[mid] > nums[right], we know that at some point to the right of mid,\n",
    "            # the pivot must have occurred, which is why the values wrapped around\n",
    "            # so that nums[right] is less then nums[mid]\n",
    "\n",
    "            # we know that the number at mid is greater than at least\n",
    "            # one number to the right, so we can use mid + 1 and\n",
    "            # never consider mid again; we know there is at least\n",
    "            # one value smaller than it on the right\n",
    "            left = mid + 1\n",
    "\n",
    "        else:\n",
    "            # here, nums[mid] <= nums[right]:\n",
    "            # we KNOW the pivot must be at mid or to the left of mid:\n",
    "            # if nums[mid] <= nums[right], we KNOW that the pivot was not encountered\n",
    "            # to the right of middle, because that means the values would wrap around\n",
    "            # and become smaller (which is caught in the above if statement).\n",
    "            # this leaves the possible pivot point to be at index <= mid.\n",
    "                        \n",
    "            # example: [8,9,1,2,3,4,5,6,7]\n",
    "            # in the first iteration, when we start with mid index = 4, right index = 9.\n",
    "            # if nums[mid] <= nums[right], we know the numbers continued increasing to\n",
    "            # the right of mid, so they never reached the pivot and wrapped around.\n",
    "            # therefore, we know the pivot must be at index <= mid.\n",
    "\n",
    "            # we know that nums[mid] <= nums[right].\n",
    "            # therefore, we know it is possible for the mid index to store a smaller\n",
    "            # value than at least one other index in the list (at right), so we do\n",
    "            # not discard it by doing right = mid - 1. it still might have the minimum value.\n",
    "            right = mid\n",
    "            \n",
    "    # at this point, left and right converge to a single index (for minimum value) since\n",
    "    # our if/else forces the bounds of left/right to shrink each iteration:\n",
    "\n",
    "    # when left bound increases, it does not disqualify a value\n",
    "    # that could be smaller than something else (we know nums[mid] > nums[right],\n",
    "    # so nums[right] wins and we ignore mid and everything to the left of mid).\n",
    "\n",
    "    # when right bound decreases, it also does not disqualify a\n",
    "    # value that could be smaller than something else (we know nums[mid] <= nums[right],\n",
    "    # so nums[mid] wins and we keep it for now).\n",
    "\n",
    "    # so we shrink the left/right bounds to one value,\n",
    "    # without ever disqualifying a possible minimum\n",
    "    return nums[left]"
   ]
  },
  {
   "cell_type": "code",
   "execution_count": 90,
   "metadata": {},
   "outputs": [
    {
     "data": {
      "text/plain": [
       "1"
      ]
     },
     "execution_count": 90,
     "metadata": {},
     "output_type": "execute_result"
    }
   ],
   "source": [
    "findMin([4,5,6,1,2,3])"
   ]
  },
  {
   "cell_type": "code",
   "execution_count": 1,
   "metadata": {},
   "outputs": [],
   "source": [
    "class Node():\n",
    "    def __init__(val):\n",
    "        this.val = val\n",
    "        this.prev = None\n",
    "        this.next = None"
   ]
  },
  {
   "cell_type": "code",
   "execution_count": null,
   "metadata": {},
   "outputs": [],
   "source": [
    "class DoublyLinkedList():\n",
    "    def __init__(this):\n",
    "        this.head = None\n",
    "    \n",
    "    def addLL(this,root,val):\n",
    "        node = this.head\n",
    "        while node:\n",
    "            node = head.next\n",
    "            "
   ]
  },
  {
   "cell_type": "code",
   "execution_count": 2,
   "metadata": {},
   "outputs": [
    {
     "data": {
      "text/plain": [
       "1"
      ]
     },
     "execution_count": 2,
     "metadata": {},
     "output_type": "execute_result"
    }
   ],
   "source": [
    "1%2\n"
   ]
  },
  {
   "cell_type": "code",
   "execution_count": 36,
   "metadata": {},
   "outputs": [],
   "source": [
    "arr = [3,4,5,6,1]\n",
    "heapq.heapify(arr)"
   ]
  },
  {
   "cell_type": "code",
   "execution_count": 37,
   "metadata": {},
   "outputs": [],
   "source": [
    "from collections import Counter\n",
    "cnt = Counter(arr)\n"
   ]
  },
  {
   "cell_type": "markdown",
   "metadata": {},
   "source": [
    "# backtracking combinations"
   ]
  },
  {
   "cell_type": "code",
   "execution_count": 53,
   "metadata": {},
   "outputs": [],
   "source": [
    "def backtrack(arr,combinations):\n",
    "    if len(combinations) == 2:\n",
    "        print(combinations)\n",
    "        return\n",
    "    else:\n",
    "        \n",
    "        for i,val in enumerate(arr):\n",
    "            \n",
    "            backtrack(arr[0:i] + arr[i:],combinations + [val] )\n",
    "            \n",
    "    "
   ]
  },
  {
   "cell_type": "code",
   "execution_count": 54,
   "metadata": {},
   "outputs": [
    {
     "name": "stdout",
     "output_type": "stream",
     "text": [
      "[1, 1]\n",
      "[1, 2]\n",
      "[1, 3]\n",
      "[1, 4]\n",
      "[2, 1]\n",
      "[2, 2]\n",
      "[2, 3]\n",
      "[2, 4]\n",
      "[3, 1]\n",
      "[3, 2]\n",
      "[3, 3]\n",
      "[3, 4]\n",
      "[4, 1]\n",
      "[4, 2]\n",
      "[4, 3]\n",
      "[4, 4]\n"
     ]
    }
   ],
   "source": [
    "a = backtrack([1,2,3,4],[])"
   ]
  },
  {
   "cell_type": "code",
   "execution_count": 55,
   "metadata": {},
   "outputs": [],
   "source": [
    "from collections import defaultdict"
   ]
  },
  {
   "cell_type": "code",
   "execution_count": 56,
   "metadata": {},
   "outputs": [],
   "source": [
    "dic = defaultdict(bool)"
   ]
  },
  {
   "cell_type": "code",
   "execution_count": 2,
   "metadata": {},
   "outputs": [
    {
     "name": "stdout",
     "output_type": "stream",
     "text": [
      "(3, 4)\n",
      "(2, 3)\n",
      "(1, 2)\n",
      "(0, 1)\n"
     ]
    }
   ],
   "source": [
    "for i in reversed(list(enumerate([1,2,3,4]))):\n",
    "    print(i)"
   ]
  },
  {
   "cell_type": "code",
   "execution_count": 10,
   "metadata": {},
   "outputs": [],
   "source": [
    "from collections import defaultdict\n",
    "arr  = [\"hot\",\"dot\",\"dog\",\"lot\",\"log\",\"cog\"]\n",
    "dic = defaultdict(list)\n",
    "for word in arr:\n",
    "    for i in range(len(word)):\n",
    "        dic[word[:i]+\"*\" + word[i+1:]].append(word)\n",
    "dic"
   ]
  },
  {
   "cell_type": "markdown",
   "metadata": {},
   "source": [
    "# LRU"
   ]
  },
  {
   "cell_type": "code",
   "execution_count": 224,
   "metadata": {},
   "outputs": [],
   "source": [
    "\n",
    "\n",
    "class DLinkedNode(): \n",
    "    def __init__(self):\n",
    "        self.key = 0\n",
    "        self.value = 0\n",
    "        self.prev = None\n",
    "        self.next = None\n",
    "            \n",
    "class LRUCache():\n",
    "    def _add_node(self, node):\n",
    "        \"\"\"\n",
    "        Always add the new node right after head.\n",
    "        \"\"\"\n",
    "        node.prev = self.head\n",
    "        node.next = self.head.next\n",
    "\n",
    "        self.head.next.prev = node\n",
    "        self.head.next = node\n",
    "\n",
    "    def _remove_node(self, node):\n",
    "        \"\"\"\n",
    "        Remove an existing node from the linked list.\n",
    "        \"\"\"\n",
    "        prev = node.prev\n",
    "        new = node.next\n",
    "\n",
    "        prev.next = new\n",
    "        new.prev = prev\n",
    "\n",
    "    def _move_to_head(self, node):\n",
    "        \"\"\"\n",
    "        Move certain node in between to the head.\n",
    "        \"\"\"\n",
    "        self._remove_node(node)\n",
    "        self._add_node(node)\n",
    "\n",
    "    def _pop_tail(self):\n",
    "        \"\"\"\n",
    "        Pop the current tail.\n",
    "        \"\"\"\n",
    "        res = self.tail.prev\n",
    "        self._remove_node(res)\n",
    "        return res\n",
    "\n",
    "    def __init__(self, capacity):\n",
    "        \"\"\"\n",
    "        :type capacity: int\n",
    "        \"\"\"\n",
    "        self.cache = {}\n",
    "        self.size = 0\n",
    "        self.capacity = capacity\n",
    "        self.head, self.tail = DLinkedNode(), DLinkedNode()\n",
    "\n",
    "        self.head.next = self.tail\n",
    "        self.tail.prev = self.head\n",
    "        \n",
    "\n",
    "    def get(self, key):\n",
    "        \"\"\"\n",
    "        :type key: int\n",
    "        :rtype: int\n",
    "        \"\"\"\n",
    "        node = self.cache.get(key, None)\n",
    "        if not node:\n",
    "            return -1\n",
    "\n",
    "        # move the accessed node to the head;\n",
    "        self._move_to_head(node)\n",
    "\n",
    "        return node.value\n",
    "\n",
    "    def put(self, key, value):\n",
    "        \"\"\"\n",
    "        :type key: int\n",
    "        :type value: int\n",
    "        :rtype: void\n",
    "        \"\"\"\n",
    "        node = self.cache.get(key)\n",
    "\n",
    "        if not node: \n",
    "            newNode = DLinkedNode()\n",
    "            newNode.key = key\n",
    "            newNode.value = value\n",
    "\n",
    "            self.cache[key] = newNode\n",
    "            self._add_node(newNode)\n",
    "\n",
    "            self.size += 1\n",
    "\n",
    "            if self.size > self.capacity:\n",
    "                # pop the tail\n",
    "                tail = self._pop_tail()\n",
    "                del self.cache[tail.key]\n",
    "                self.size -= 1\n",
    "            \n",
    "        else:\n",
    "            # update the value.\n",
    "            node.value = value\n",
    "            self._move_to_head(node)\n",
    "            \n",
    "            \n",
    "            \n",
    "            \n",
    "            \n",
    "            \n",
    "            \n",
    "            \n",
    "            \n",
    "            \n",
    "            \n",
    "            \n",
    "            \n",
    "            \n",
    "            \n",
    "            \n",
    "            \n",
    "            \n",
    "            \n",
    "            \n",
    "            \n",
    "            \n",
    "            \n",
    "            "
   ]
  },
  {
   "cell_type": "markdown",
   "metadata": {},
   "source": [
    "# \n",
    "cache contains key and points to a node\n",
    "add node after head (most recent)\n"
   ]
  },
  {
   "cell_type": "code",
   "execution_count": 62,
   "metadata": {},
   "outputs": [],
   "source": [
    "from collections import defaultdict\n",
    "class Node:\n",
    "    def __init__(this):\n",
    "        this.key = 0\n",
    "        this.val = 0\n",
    "        this.next = None\n",
    "        this.prev = None\n",
    "        \n",
    "class LRU:\n",
    "    def __init__(this,capacity):\n",
    "        this.cache = defaultdict(list)\n",
    "        this.size = 0\n",
    "        this.capacity = capacity\n",
    "        this.head = Node()\n",
    "        this.tail = Node()\n",
    "        this.head.next = this.tail\n",
    "        this.tail.prev = this.head\n",
    "    \n",
    "    def _addNode(this,node):\n",
    "        node.next = this.head.next\n",
    "        node.prev = this.head\n",
    "        this.head.next.prev = node\n",
    "        this.head.next = node\n",
    "    \n",
    "    def _removeTail(this):\n",
    "        this.tail.prev = this.tail.prev.prev\n",
    "        this.tail.prev.prev = this.tail\n",
    "        \n",
    "    def _moveToHead(this,node):\n",
    "        node.next = this.head.next\n",
    "        node.prev = this.head\n",
    "        this.head.next.prev = node\n",
    "        this.head.next = node\n",
    "        \n",
    "        \n",
    "    def put(this,key,val):\n",
    "        node = this.cache[key]\n",
    "        if not node:\n",
    "            new_node = Node()\n",
    "            new_node.key = key\n",
    "            new_node.val = val\n",
    "            this._addNode(new_node)\n",
    "            this.cache[key] = new_node\n",
    "            this.size += 1\n",
    "            \n",
    "            if this.size > this.capacity:\n",
    "                this._removeTail()\n",
    "                this.size -= 1\n",
    "        else:\n",
    "            node.val = val\n",
    "            this._moveToHead(node)\n",
    "        \n",
    "    def get(this,key):\n",
    "        node = this.cache[key]\n",
    "        \n",
    "        if node:\n",
    "            print(node.val) "
   ]
  },
  {
   "cell_type": "code",
   "execution_count": 225,
   "metadata": {},
   "outputs": [],
   "source": [
    "cache = LRUCache(5)"
   ]
  },
  {
   "cell_type": "code",
   "execution_count": 226,
   "metadata": {},
   "outputs": [
    {
     "name": "stdout",
     "output_type": "stream",
     "text": [
      "0\n",
      "0\n",
      "0\n",
      "0\n",
      "0\n",
      "0\n"
     ]
    }
   ],
   "source": [
    "cache.put(\"key1\",\"key1Val\")\n",
    "cache.put(\"key2\",\"key2Val\")\n",
    "cache.put(\"key3\",\"key3Val\")\n",
    "cache.put(\"key4\",\"key4Val\")\n",
    "cache.put(\"key5\",\"key5Val\")\n",
    "cache.put(\"key6\",\"key6Val\")"
   ]
  },
  {
   "cell_type": "code",
   "execution_count": 69,
   "metadata": {},
   "outputs": [],
   "source": [
    "cache.put(\"key1\",\"key1Val_new\")"
   ]
  },
  {
   "cell_type": "code",
   "execution_count": 126,
   "metadata": {},
   "outputs": [
    {
     "data": {
      "text/plain": [
       "3"
      ]
     },
     "execution_count": 126,
     "metadata": {},
     "output_type": "execute_result"
    }
   ],
   "source": [
    "import heapq\n",
    "arr = []\n",
    "heapq.heappush(arr,2)\n",
    "heapq.heappush(arr,1)\n",
    "-heapq.heappushpop(arr,-3)\n"
   ]
  },
  {
   "cell_type": "code",
   "execution_count": 18,
   "metadata": {},
   "outputs": [],
   "source": [
    "dic = {\n",
    "    \"CAD\": \"53INR\",\n",
    "    \"USD\": \"70INR\",\n",
    "    \"ZEN\": \"90CAD\",\n",
    "    \"ZEN\": \"97AUD\",\n",
    "    \"AUD\": \"10USD\"\n",
    "}"
   ]
  },
  {
   "cell_type": "code",
   "execution_count": 19,
   "metadata": {},
   "outputs": [],
   "source": [
    "from collections import defaultdict\n",
    "iterate = list(dic.keys())\n",
    "graph = defaultdict(list)\n",
    "for i in iterate:\n",
    "    \n",
    "    \n",
    "    graph[i].append((dic[i][2:],float(dic[i][0:2])))\n",
    "    graph[dic[i][2:]].append((i,float(1/float(dic[i][0:2]))))"
   ]
  },
  {
   "cell_type": "code",
   "execution_count": 20,
   "metadata": {},
   "outputs": [
    {
     "data": {
      "text/plain": [
       "defaultdict(list,\n",
       "            {'CAD': [('INR', 53.0)],\n",
       "             'INR': [('CAD', 0.018867924528301886),\n",
       "              ('USD', 0.014285714285714285)],\n",
       "             'USD': [('INR', 70.0), ('AUD', 0.1)],\n",
       "             'ZEN': [('AUD', 97.0)],\n",
       "             'AUD': [('ZEN', 0.010309278350515464), ('USD', 10.0)]})"
      ]
     },
     "execution_count": 20,
     "metadata": {},
     "output_type": "execute_result"
    }
   ],
   "source": [
    "graph"
   ]
  },
  {
   "cell_type": "markdown",
   "metadata": {},
   "source": [
    "# Currency Converter"
   ]
  },
  {
   "cell_type": "code",
   "execution_count": 21,
   "metadata": {},
   "outputs": [],
   "source": [
    "from collections import deque\n",
    "def ConvertCurrency(cur1,cur2,graph):\n",
    "    visited = []\n",
    "    q = deque([(cur1,1.0)])\n",
    "    while q:\n",
    "        \n",
    "        currency,val = q.popleft()\n",
    "        if currency not in visited:\n",
    "            visited.append(currency)\n",
    "            \n",
    "        if currency == cur2:\n",
    "            return val\n",
    "        \n",
    "\n",
    "        for i in graph[currency]:\n",
    "            currencyChild,valChild = i\n",
    "            if currencyChild not in visited:\n",
    "                valChild = val * valChild\n",
    "                q.append((currencyChild,valChild))\n",
    "                "
   ]
  },
  {
   "cell_type": "code",
   "execution_count": 23,
   "metadata": {},
   "outputs": [
    {
     "data": {
      "text/plain": [
       "0.7571428571428571"
      ]
     },
     "execution_count": 23,
     "metadata": {},
     "output_type": "execute_result"
    }
   ],
   "source": [
    "ConvertCurrency(\"CAD\",\"USD\",graph)"
   ]
  },
  {
   "cell_type": "code",
   "execution_count": 3,
   "metadata": {},
   "outputs": [
    {
     "data": {
      "text/plain": [
       "[[6, 2], [1, 3], [4, 5]]"
      ]
     },
     "execution_count": 3,
     "metadata": {},
     "output_type": "execute_result"
    }
   ],
   "source": [
    "arr = [[4,5],[6,2],[1,3]]\n",
    "arr.sort(key = lambda x: x[1])\n",
    "arr"
   ]
  },
  {
   "cell_type": "code",
   "execution_count": 107,
   "metadata": {},
   "outputs": [],
   "source": [
    "a = 0\n",
    "b = 1\n",
    "#a,b = -b,a"
   ]
  },
  {
   "cell_type": "markdown",
   "metadata": {},
   "source": [
    "# test LL"
   ]
  },
  {
   "cell_type": "code",
   "execution_count": 203,
   "metadata": {},
   "outputs": [],
   "source": [
    "class Node:\n",
    "    def __init__(this,val):\n",
    "        this.val = val\n",
    "        this.next = None\n",
    "    \n",
    "class singlyLL:\n",
    "    def __init__(this):\n",
    "        this.head = Node(\"\")\n",
    "        \n",
    "    def add(this,val):\n",
    "        node = this.head\n",
    "        while node.next:\n",
    "            \n",
    "            node = node.next\n",
    "\n",
    "        new_node = Node(val)\n",
    "        node.next = new_node\n",
    "        \n",
    "    def reverse(this):\n",
    "        prev = None\n",
    "        current = this.head\n",
    "        while current:\n",
    "            nextNode = current.next\n",
    "            current.next = prev\n",
    "            prev = current\n",
    "            current = nextNode\n",
    "        this.head.next = prev"
   ]
  },
  {
   "cell_type": "code",
   "execution_count": 204,
   "metadata": {},
   "outputs": [],
   "source": [
    "ll = singlyLL()"
   ]
  },
  {
   "cell_type": "code",
   "execution_count": 205,
   "metadata": {},
   "outputs": [],
   "source": [
    "ll.add(\"abc\")\n",
    "ll.add(\"cde\")\n",
    "ll.add(\"efg\")"
   ]
  },
  {
   "cell_type": "code",
   "execution_count": 206,
   "metadata": {},
   "outputs": [
    {
     "data": {
      "text/plain": [
       "'abc'"
      ]
     },
     "execution_count": 206,
     "metadata": {},
     "output_type": "execute_result"
    }
   ],
   "source": [
    "ll.head.next.val"
   ]
  },
  {
   "cell_type": "code",
   "execution_count": 207,
   "metadata": {},
   "outputs": [],
   "source": [
    "ll.reverse()"
   ]
  },
  {
   "cell_type": "code",
   "execution_count": 208,
   "metadata": {},
   "outputs": [
    {
     "data": {
      "text/plain": [
       "'efg'"
      ]
     },
     "execution_count": 208,
     "metadata": {},
     "output_type": "execute_result"
    }
   ],
   "source": [
    "ll.head.next.val"
   ]
  },
  {
   "cell_type": "code",
   "execution_count": 227,
   "metadata": {},
   "outputs": [],
   "source": [
    "a = 0\n",
    "b = 1\n"
   ]
  },
  {
   "cell_type": "code",
   "execution_count": 237,
   "metadata": {},
   "outputs": [],
   "source": [
    "a,b = -b,a"
   ]
  },
  {
   "cell_type": "code",
   "execution_count": 72,
   "metadata": {},
   "outputs": [],
   "source": [
    "arr = [[\"RestaurantA\", \"apple\" ], \n",
    "[\"RestaurantA\", \"banana\"],\n",
    "[\"RestaurantA\", \"apple\"],\n",
    "[\"RestaurantB\", \"coke\"],\n",
    "[\"RestaurantB\", \"coffee\"],\n",
    "[\"RestaurantB\", \"coffee\"],\n",
    "[\"RestaurantA\", \"banana\"],\n",
    "[\"RestaurantA\", \"banana\"],\n",
    "[\"RestaurantA\", \"orange\"]]\n",
    "\n",
    "#arr.sort(key = lambda x:x[1])"
   ]
  },
  {
   "cell_type": "code",
   "execution_count": 96,
   "metadata": {},
   "outputs": [],
   "source": [
    "\n",
    "from collections import defaultdict\n",
    "dic = defaultdict(int)\n",
    "for i in arr:\n",
    "    dic[(i[0],i[1])] += 1\n",
    "\n"
   ]
  },
  {
   "cell_type": "code",
   "execution_count": 132,
   "metadata": {},
   "outputs": [
    {
     "data": {
      "text/plain": [
       "defaultdict(int,\n",
       "            {('RestaurantA', 'apple'): 2,\n",
       "             ('RestaurantA', 'banana'): 3,\n",
       "             ('RestaurantB', 'coke'): 1,\n",
       "             ('RestaurantB', 'coffee'): 2,\n",
       "             ('RestaurantA', 'orange'): 1})"
      ]
     },
     "execution_count": 132,
     "metadata": {},
     "output_type": "execute_result"
    }
   ],
   "source": [
    "dic"
   ]
  },
  {
   "cell_type": "code",
   "execution_count": 144,
   "metadata": {},
   "outputs": [],
   "source": [
    "parentDic = defaultdict(list)\n",
    "for i,v in dic.keys():\n",
    "    val = dic[(i,v)]\n",
    "    heapq.heappush(parentDic[i],[val,v])\n",
    "    "
   ]
  },
  {
   "cell_type": "code",
   "execution_count": 149,
   "metadata": {},
   "outputs": [
    {
     "data": {
      "text/plain": [
       "[2, 'apple']"
      ]
     },
     "execution_count": 149,
     "metadata": {},
     "output_type": "execute_result"
    }
   ],
   "source": [
    "parentDic[\"RestaurantA\"][-1]"
   ]
  },
  {
   "cell_type": "code",
   "execution_count": 139,
   "metadata": {},
   "outputs": [
    {
     "data": {
      "text/plain": [
       "[[2, 'apple'], [3, 'banana'], [1, 'orange']]"
      ]
     },
     "execution_count": 139,
     "metadata": {},
     "output_type": "execute_result"
    }
   ],
   "source": [
    "ans = parentDic[\"RestaurantA\"]\n",
    "ans"
   ]
  },
  {
   "cell_type": "code",
   "execution_count": 140,
   "metadata": {},
   "outputs": [],
   "source": [
    "ans = []\n",
    "for i in parentDic[\"RestaurantA\"]:\n",
    "    heapq.heappush(ans,i)"
   ]
  },
  {
   "cell_type": "code",
   "execution_count": 141,
   "metadata": {},
   "outputs": [
    {
     "data": {
      "text/plain": [
       "[[3, 'banana'], [2, 'apple']]"
      ]
     },
     "execution_count": 141,
     "metadata": {},
     "output_type": "execute_result"
    }
   ],
   "source": [
    "heapq.nlargest(2,ans)"
   ]
  },
  {
   "cell_type": "code",
   "execution_count": 166,
   "metadata": {},
   "outputs": [
    {
     "data": {
      "text/plain": [
       "[[3, 'banana'], [2, 'apple']]"
      ]
     },
     "execution_count": 166,
     "metadata": {},
     "output_type": "execute_result"
    }
   ],
   "source": [
    "def getCombinations(key,arr):\n",
    "    dic = defaultdict(int)\n",
    "    \n",
    "    #create dictionary with combination count\n",
    "    for i,v in arr:\n",
    "        dic[(i,v)] += 1\n",
    "    \n",
    "    #create final dic as dic[\"restaurentA\"] = heapq(values), push into dictionary values with heapq\n",
    "    parentdict = defaultdict(list)\n",
    "    for i,v in dic.keys():\n",
    "        \n",
    "        heapq.heappush(parentdict[i],[dic[(i,v)],v])\n",
    "    # get k largest. \n",
    "    return heapq.nlargest(2,parentdict[key])\n",
    "getCombinations(\"RestaurantA\",arr)"
   ]
  },
  {
   "cell_type": "code",
   "execution_count": 4,
   "metadata": {},
   "outputs": [
    {
     "name": "stdout",
     "output_type": "stream",
     "text": [
      "{'name': 'Ajinkya', 'type': 'pdf', 'size': 10}\n"
     ]
    }
   ],
   "source": [
    "arr = [\n",
    "    {\"name\":\"Ajinkya\",\"type\":\"pdf\",\"size\":10},\n",
    "    {\"name\":\"Ajinkya\",\"type\":\"doc\",\"size\":11},\n",
    "    {\"name\":\"bjinkya\",\"type\":\"pdf\",\"size\":14},\n",
    "    {\"name\":\"cjinkya\",\"type\":\"wrd\",\"size\":15},\n",
    "    {\"name\":\"djinkya\",\"type\":\"pdf\",\"size\":16},\n",
    "    {\"name\":\"ejinkya\",\"type\":\"xl\",\"size\":17},\n",
    "    [\n",
    "    {\"name\":\"Ajinkya\",\"type\":\"pdf\",\"size\":10},\n",
    "    {\"name\":\"Ajinkya\",\"type\":\"doc\",\"size\":11},\n",
    "    {\"name\":\"bjinkya\",\"type\":\"pdf\",\"size\":14},\n",
    "    {\"name\":\"cjinkya\",\"type\":\"wrd\",\"size\":15},\n",
    "    {\"name\":\"djinkya\",\"type\":\"pdf\",\"size\":16},\n",
    "    {\"name\":\"ejinkya\",\"type\":\"xl\",\"size\":17}\n",
    "]\n",
    "]\n",
    "\n",
    "matches = [sublist for sublist in arr if 'Ajinkya'in sublist[\"name\"]and sublist[\"type\"] == 'pdf' and sublist[\"size\"] <14]\n",
    "\n",
    "for match in matches:\n",
    "  print(match)"
   ]
  },
  {
   "cell_type": "code",
   "execution_count": 8,
   "metadata": {},
   "outputs": [],
   "source": [
    "arr = [\n",
    "    {\"name\":\"Ajinkya\",\"type\":\"pdf\",\"size\":10},\n",
    "    {\"name\":\"Ajinkya\",\"type\":\"doc\",\"size\":11},\n",
    "    {\"name\":\"bjinkya\",\"type\":\"pdf\",\"size\":14},\n",
    "    {\"name\":\"cjinkya\",\"type\":\"wrd\",\"size\":15},\n",
    "    {\"name\":\"djinkya\",\"type\":\"pdf\",\"size\":16},\n",
    "    {\"name\":\"ejinkya\",\"type\":\"xl\",\"size\":17},\n",
    "    { \"is_dir\": True, 'files_dir':[\n",
    "    {\"name\":\"Ajinkya\",\"type\":\"pdf\",\"size\":10},\n",
    "    {\"name\":\"Ajinkya\",\"type\":\"doc\",\"size\":11},\n",
    "    {\"name\":\"bjinkya\",\"type\":\"pdf\",\"size\":14},\n",
    "    {\"name\":\"cjinkya\",\"type\":\"wrd\",\"size\":15},\n",
    "    {\"name\":\"djinkya\",\"type\":\"pdf\",\"size\":16},\n",
    "    {\"name\":\"ejinkya\",\"type\":\"xl\",\"size\":17}\n",
    "]}\n",
    "]"
   ]
  },
  {
   "cell_type": "code",
   "execution_count": 7,
   "metadata": {},
   "outputs": [
    {
     "data": {
      "text/plain": [
       "7"
      ]
     },
     "execution_count": 7,
     "metadata": {},
     "output_type": "execute_result"
    }
   ],
   "source": [
    "len(arr)"
   ]
  },
  {
   "cell_type": "code",
   "execution_count": 4,
   "metadata": {},
   "outputs": [],
   "source": [
    "arr1 = [\"1\",\"1\",\"1\",\"0\"]\n",
    "arr2 = [\"1\",\"1\",\"1\",\"100\"]\n",
    "arr3  = [\"1\",\"1\",\"1\",\"50\"]\n",
    "arr4 =[\"1\",\"1\",\"1\",\"150\"]"
   ]
  },
  {
   "cell_type": "code",
   "execution_count": 5,
   "metadata": {},
   "outputs": [
    {
     "data": {
      "text/plain": [
       "True"
      ]
     },
     "execution_count": 5,
     "metadata": {},
     "output_type": "execute_result"
    }
   ],
   "source": [
    "arr1 < arr2"
   ]
  },
  {
   "cell_type": "code",
   "execution_count": 7,
   "metadata": {},
   "outputs": [
    {
     "data": {
      "text/plain": [
       "False"
      ]
     },
     "execution_count": 7,
     "metadata": {},
     "output_type": "execute_result"
    },
    {
     "ename": "",
     "evalue": "",
     "output_type": "error",
     "traceback": [
      "\u001b[1;31mThe Kernel crashed while executing code in the the current cell or a previous cell. Please review the code in the cell(s) to identify a possible cause of the failure. Click <a href='https://aka.ms/vscodeJupyterKernelCrash'>here</a> for more info. View Jupyter <a href='command:jupyter.viewOutput'>log</a> for further details."
     ]
    }
   ],
   "source": [
    "arr2 > arr3"
   ]
  },
  {
   "cell_type": "code",
   "execution_count": null,
   "metadata": {},
   "outputs": [],
   "source": []
  }
 ],
 "metadata": {
  "interpreter": {
   "hash": "293c08e7b88d1f4aefb480d338fa207c5a8b42892496effef0fdb48fd2b7d62e"
  },
  "kernelspec": {
   "display_name": "Python 3.6.5 ('base')",
   "language": "python",
   "name": "python3"
  },
  "language_info": {
   "codemirror_mode": {
    "name": "ipython",
    "version": 3
   },
   "file_extension": ".py",
   "mimetype": "text/x-python",
   "name": "python",
   "nbconvert_exporter": "python",
   "pygments_lexer": "ipython3",
   "version": "3.6.5"
  }
 },
 "nbformat": 4,
 "nbformat_minor": 2
}
