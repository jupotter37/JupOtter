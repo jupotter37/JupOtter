{
 "cells": [
  {
   "cell_type": "code",
   "execution_count": 1,
   "metadata": {
    "collapsed": true
   },
   "outputs": [],
   "source": [
    "import numpy as np\n",
    "\n",
    "def line():\n",
    "        print('-' * 80)"
   ]
  },
  {
   "cell_type": "code",
   "execution_count": 2,
   "metadata": {},
   "outputs": [
    {
     "name": "stdout",
     "output_type": "stream",
     "text": [
      "[965, 227, 658, 129, 834, 672, 684, 15, 589, 600]\n",
      "[633, 634, 233, 792, 105, 254, 703, 815, 767, 713]\n"
     ]
    }
   ],
   "source": [
    "# Random Data goes in Jumbled-----------------------------------\n",
    "arr = ((np.random.rand(20) * 1000).astype(dtype=int)).tolist()\n",
    "arr2 = ((np.random.rand(20) * 1000).astype(dtype=int)).tolist()\n",
    "\n",
    "print(arr[:10])\n",
    "print(arr2[:10])"
   ]
  },
  {
   "cell_type": "markdown",
   "metadata": {},
   "source": [
    "# Data Structures in Python\n",
    "\n",
    "**Author:** Whitney King\n",
    "<br>\n",
    "**Date:** 5/30/2018 \n",
    "\n",
    "## Stack and Queue Class\n"
   ]
  },
  {
   "cell_type": "code",
   "execution_count": 1,
   "metadata": {
    "collapsed": true
   },
   "outputs": [],
   "source": [
    "# Create Stack Class Structure--------------------------------\n",
    "#--- Insert and delete happen at the same end. LIFO\n",
    "class Stack(object):\n",
    "    def __init__(self):\n",
    "        self.items = []\n",
    "\n",
    "    def is_empty(self):\n",
    "        return self.items == []\n",
    "\n",
    "    def push(self, item):\n",
    "        self.items.append(item)\n",
    "\n",
    "    def pop(self):\n",
    "        return self.items.pop()\n",
    "\n",
    "    def peek(self):\n",
    "        return self.items[len(self.items)-1]\n",
    "\n",
    "    def size(self):\n",
    "        return len(self.items)\n",
    "# End Stack Class Structure-----------------------------------\n",
    "\n",
    "# Create Queue Class Structure--------------------------------\n",
    "#--- Insert and delete happen at different ends. FIFO\n",
    "class Queue(Stack):\n",
    "    def __init__(self):\n",
    "        self.items = []\n",
    "        \n",
    "    def enQueue(self, item):\n",
    "        self.items.insert(0, item)\n",
    "    \n",
    "    def deQueue(self):\n",
    "        return self.items.pop()\n",
    "\n",
    "# End Queue Class Structure-----------------------------------"
   ]
  },
  {
   "cell_type": "code",
   "execution_count": null,
   "metadata": {
    "collapsed": true
   },
   "outputs": [],
   "source": []
  },
  {
   "cell_type": "markdown",
   "metadata": {},
   "source": [
    "## Binary Search Tree Class"
   ]
  },
  {
   "cell_type": "code",
   "execution_count": 3,
   "metadata": {
    "collapsed": true
   },
   "outputs": [],
   "source": [
    "# Create BinarySearchTree Class Structure--------------------------------\n",
    "class BinarySearchTree(object):\n",
    "    root = None\n",
    "    \n",
    "    def __init__(self, *values):\n",
    "        self.root = self.Node(values[0][0])\n",
    "        root = self.root\n",
    "        self.insert(values[0][1:])\n",
    "    \n",
    "# Create Node Class-------------------------------------------------\n",
    "    class Node(object):\n",
    "        # Pythonic getter/setter\n",
    "        def __init__(self, value):\n",
    "            self.value = value\n",
    "            self.left = None\n",
    "            self.right = None   \n",
    "\n",
    "        # Node logical functionality------------------\n",
    "        def has_left(self): return self.left != None\n",
    "        def has_right(self): return self.right != None\n",
    "\n",
    "        def Node(self, value):\n",
    "            self.value = value\n",
    "            self.left = None\n",
    "            self.right = None\n",
    "#---End Node Class--------------------------------------------------\n",
    "        \n",
    "    #--- Return the left most child Node\n",
    "    def find_leftest(self, root):\n",
    "        if root.has_left():\n",
    "            return self.find_leftest(root.left)\n",
    "        return root\n",
    "\n",
    "    #-- Return the right most child Node\n",
    "    def find_rightest(self, root):\n",
    "        if root.has_right():\n",
    "            return self.find_rightest(root.right)\n",
    "        return root\n",
    "\n",
    "    #--- BinarySearchTree logical functionality \n",
    "    def is_empty(self): return self.root == None \n",
    "    def set_root(self, value):\n",
    "        self.root = self.Node(value)\n",
    "        root = self.root\n",
    "    \n",
    "# Insert Values----------------------------------------\n",
    "    #--- Iterative insert for unsorted array-----------\n",
    "    def insert(self, values):\n",
    "        if self.is_empty():\n",
    "            self.set_root(values.pop(0))\n",
    "        for v in values:\n",
    "            self.insertNodes(self.root, v)\n",
    "\n",
    "    #--- Smaller values to the left\n",
    "    #--- Larger values to the right\n",
    "    def insertNodes(self, curr_node, v):\n",
    "        new_node = self.Node(v)\n",
    "        if v <= curr_node.value:\n",
    "            if curr_node.has_left():\n",
    "                self.insertNodes(curr_node.left, v)\n",
    "            else:\n",
    "                curr_node.left = new_node\n",
    "        elif v > curr_node.value:\n",
    "            if curr_node.has_right():\n",
    "                self.insertNodes(curr_node.right, v)\n",
    "            else:\n",
    "                curr_node.right = new_node  \n",
    "\n",
    "#---Extend Here-------------------------------------------------------\n",
    "#---------------------------------------------------------------------  \n",
    "#---End BinarySearchTree Class----------------------------------------------------------"
   ]
  },
  {
   "cell_type": "code",
   "execution_count": 4,
   "metadata": {},
   "outputs": [
    {
     "name": "stdout",
     "output_type": "stream",
     "text": [
      "Instance 1 Root:  965\n",
      "Instance 2 Root:  633\n"
     ]
    }
   ],
   "source": [
    "bst1 = BinarySearchTree(arr)\n",
    "bst2 = BinarySearchTree(arr2)\n",
    "\n",
    "print('Instance 1 Root: ', bst1.root.value)\n",
    "print('Instance 2 Root: ', bst2.root.value)"
   ]
  },
  {
   "cell_type": "markdown",
   "metadata": {},
   "source": [
    "## Hash Table Class"
   ]
  },
  {
   "cell_type": "code",
   "execution_count": 26,
   "metadata": {
    "collapsed": true
   },
   "outputs": [],
   "source": [
    "# Create HashTable Class----------------------------------------------------------------\n",
    "class HashTable(object):\n",
    "    def __init__(self, capacity, **key_values):\n",
    "        self.size = 0\n",
    "        self.load = capacity * .8 # Resize hash table at 80% capacity\n",
    "        self.buckets = capacity\n",
    "        self.slots = [self.Droplet(None, None)] * self.buckets\n",
    "\n",
    "        if key_values:\n",
    "            for k, v in key_values.items():\n",
    "                self.set_value(k, v)\n",
    "            print('Insertion complete')\n",
    "\n",
    "# Create Droplet Class--------------------------------------------------\n",
    "#--- Linked List Drops\n",
    "    class Droplet(object):\n",
    "        def __init__(self, key, value):\n",
    "            self.key = key\n",
    "            self.value = value\n",
    "            self.next = None   \n",
    "\n",
    "        def __iter__(self):\n",
    "            return iter(self.key)\n",
    "        \n",
    "        # Droplet logical functionality---------------------------------\n",
    "        def has_next(self): return self.next != None\n",
    "\n",
    "        def Droplet(self, key, value):\n",
    "            self.key = key\n",
    "            self.value = value\n",
    "            self.next = None \n",
    "#---End Droplet Class---------------------------------------------------\n",
    "#--- HashTable logical functionality\n",
    "    \n",
    "    def get_size(self): return\n",
    "    def is_empty(self): return self.root == None\n",
    "    \n",
    "    def first_drop(self, idx, key, value):\n",
    "        self.slots[idx] = self.Droplet(key, value)\n",
    "        \n",
    "    def set_value(self, key, value):\n",
    "        idx = self.get_bucket(key)\n",
    "        if self.is_empty:\n",
    "            self.first_drop(idx, key, value)\n",
    "        else: \n",
    "            self.set_next(self.slots, idx, key, value)\n",
    "                \n",
    "    def set_next(self, slots, idx, key, value):\n",
    "        dry = None\n",
    "        drip = slots[idx]\n",
    "        \n",
    "        while drip:\n",
    "            if drip.key == key: # Overwrite value if key exists\n",
    "                drip.value = value\n",
    "                drip = dry\n",
    "            elif drip.next is dry: # Create new droplet if not\n",
    "                drip.next = self.Droplet(key, value)\n",
    "                drip = dry\n",
    "            else: drip = drip.next # Keep looking if bucket isn't dry\n",
    "        self.size += 1\n",
    "        c_load = float(self.size) / float(self.capacity)\n",
    "    \n",
    "    def get_bucket(self, key):\n",
    "        idx = hash(key) % self.buckets\n",
    "        return idx if idx >= 0 else idx + self.buckets  \n",
    "    \n",
    "    def get_value(self, key):\n",
    "        drip = self.slots[self.get_bucket(key)]\n",
    "        drop = list(map(lambda x:[x for x in drip], drip))\n",
    "        return drip == None if None else drip.value\n",
    "\n",
    "#---Extend Here--------------------------------------------------------\n",
    "#----------------------------------------------------------------------\n",
    "#---End HashTable Class-----------------------------------------------------------------"
   ]
  },
  {
   "cell_type": "code",
   "execution_count": 27,
   "metadata": {},
   "outputs": [
    {
     "name": "stdout",
     "output_type": "stream",
     "text": [
      "Insertion complete\n"
     ]
    }
   ],
   "source": [
    "dic =  {'foo': 'hello',\n",
    "        'bar': 'world',\n",
    "        'how': 'golly',\n",
    "        'are': 'molly'}\n",
    "\n",
    "ht = HashTable(8, **dic)"
   ]
  },
  {
   "cell_type": "code",
   "execution_count": 28,
   "metadata": {},
   "outputs": [
    {
     "name": "stdout",
     "output_type": "stream",
     "text": [
      "hello\n",
      "world\n",
      "--------------------------------------------------------------------------------\n",
      "storm\n",
      "globe\n"
     ]
    }
   ],
   "source": [
    "print(ht.get_value('foo'))\n",
    "print(ht.get_value('bar'))\n",
    "line()\n",
    "ht.set_value('goo', 'storm')\n",
    "print(ht.get_value('goo'))\n",
    "\n",
    "ht.set_value('bar', 'globe')\n",
    "print(ht.get_value('bar'))"
   ]
  },
  {
   "cell_type": "markdown",
   "metadata": {},
   "source": [
    "## Binary Heap Class"
   ]
  },
  {
   "cell_type": "code",
   "execution_count": 37,
   "metadata": {
    "collapsed": true
   },
   "outputs": [],
   "source": [
    "# Create BinaryHeap Class-----------------------------------------------------------\n",
    "class BinaryHeap(object):\n",
    "    def __init__(self, size):\n",
    "        self.size = size  ## Set Heap Size Limit\n",
    "        self.heapSize = 0 ## Count UP for Heap Index\n",
    "        self.data = [0] * size\n",
    "        \n",
    "# Node logical functionality---------------------------------------\n",
    "    def Node(self, value):\n",
    "        self.value = value\n",
    "        return self.value\n",
    "        \n",
    "    #--- Index the heap\n",
    "    def get_left_child_index(self, i): return (2 * i + 1)\n",
    "    def get_right_child_index(self, i): return (2 * i  + 2)\n",
    "    def get_parent_index(self, i): return int((i - 1) / 2)\n",
    "    def is_empty(self): return self.heapSize == 0\n",
    "\n",
    "#---Extend Here--------------------------------------------------------\n",
    "#----------------------------------------------------------------------    \n",
    "\n",
    "#---Create HeapException Class-----------------------------------------\n",
    "    class ex(Exception):\n",
    "        def __init__(self, e):\n",
    "            self.e = e\n",
    "\n",
    "        def __str__(self):\n",
    "            return repr(self.e)\n",
    "\n",
    "        def HeapException(self, e):\n",
    "            print('HeapException: {0}'.format(e))  \n",
    "#-----End HeapException Class------------------------------------------\n",
    "#---End BinHeap Class------------------------------------------------------------"
   ]
  },
  {
   "cell_type": "markdown",
   "metadata": {
    "collapsed": true
   },
   "source": [
    "## Singly Linked List Class"
   ]
  },
  {
   "cell_type": "code",
   "execution_count": null,
   "metadata": {
    "collapsed": true
   },
   "outputs": [],
   "source": [
    "# Create ListNode Class--------------------------------------------------------------------\n",
    "class ListNode(object):\n",
    "    def __init__(self, data):\n",
    "        self.data = data\n",
    "        self.next = None\n",
    "\n",
    "# End ListNode Class----------------------------------------------------------------------\n",
    "\n",
    "# Create Singly-Linked List Class---------------------------------------------------------\n",
    "class SLList(object):\n",
    "    \n",
    "# Create initial properties of the list\n",
    "    def __init__(self):\n",
    "        self.head = None\n",
    "        self.tail = None\n",
    "\n",
    "    def append(self, data):\n",
    "        node = ListNode(data, None)\n",
    "\n",
    "        if self.head is None:\n",
    "            self.head = self.tail = node\n",
    "        else:\n",
    "            self.tail.next = node\n",
    "        self.tail = node\n",
    "    \n",
    "    def reverseList(self, head):\n",
    "        hold = ListNode(0)\n",
    "        while head:\n",
    "            next = head.next\n",
    "            head.next = hold.next\n",
    "            hold.next = head\n",
    "            head = next\n",
    "        return hold.next\n",
    "    \n",
    "#---Extend Here--------------------------------------------------------\n",
    "#----------------------------------------------------------------------    \n",
    "#---End Singly-Linked List Class----------------------------------------------------------"
   ]
  },
  {
   "cell_type": "markdown",
   "metadata": {
    "collapsed": true
   },
   "source": [
    "## Double Linked List Class"
   ]
  },
  {
   "cell_type": "code",
   "execution_count": null,
   "metadata": {
    "collapsed": true
   },
   "outputs": [],
   "source": [
    "# Create ListNode Class--------------------------------------------------------------------\n",
    "class ListNode(object):\n",
    "    def __init__(self, data, prev, next):\n",
    "        self.data = data\n",
    "        self.prev = prev\n",
    "        self.next = next\n",
    "\n",
    "# End ListNode Class----------------------------------------------------------------------\n",
    "\n",
    "# Create Doubly-Linked List Class---------------------------------------------------------\n",
    "class SLList(object):\n",
    "    \n",
    "# Create initial properties of the list\n",
    "    def __init__(self):\n",
    "        self.head = None\n",
    "        self.tail = None\n",
    "\n",
    "    def append(self, data):\n",
    "        node = ListNode(data, None, None)\n",
    "        if self.head is None:\n",
    "            self.head = self.tail = node\n",
    "        else:\n",
    "            node.prev = self.tail\n",
    "            node.next = None\n",
    "            self.tail.next = node\n",
    "        self.tail = node\n",
    "    \n",
    "#---Extend Here--------------------------------------------------------\n",
    "#----------------------------------------------------------------------    \n",
    "#---End Doubly-Linked List Class----------------------------------------------------------"
   ]
  },
  {
   "cell_type": "code",
   "execution_count": null,
   "metadata": {
    "collapsed": true
   },
   "outputs": [],
   "source": []
  }
 ],
 "metadata": {
  "kernelspec": {
   "display_name": "Python 3",
   "language": "python",
   "name": "python3"
  },
  "language_info": {
   "codemirror_mode": {
    "name": "ipython",
    "version": 3
   },
   "file_extension": ".py",
   "mimetype": "text/x-python",
   "name": "python",
   "nbconvert_exporter": "python",
   "pygments_lexer": "ipython3",
   "version": "3.6.1"
  }
 },
 "nbformat": 4,
 "nbformat_minor": 2
}
