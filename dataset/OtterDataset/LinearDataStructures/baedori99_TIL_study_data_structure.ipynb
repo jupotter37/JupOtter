{
 "cells": [
  {
   "cell_type": "markdown",
   "metadata": {},
   "source": [
    "# Data Structure"
   ]
  },
  {
   "cell_type": "markdown",
   "metadata": {},
   "source": [
    "## Hash Table"
   ]
  },
  {
   "cell_type": "markdown",
   "metadata": {},
   "source": [
    "### Hash Collision Example"
   ]
  },
  {
   "cell_type": "code",
   "execution_count": 1,
   "metadata": {},
   "outputs": [
    {
     "name": "stdout",
     "output_type": "stream",
     "text": [
      "50.769%\n"
     ]
    }
   ],
   "source": [
    "# 생일 문제(Birthday Problem)\n",
    "import random\n",
    "\n",
    "TRAILS = 100000\n",
    "same_birthdays = 0\n",
    "\n",
    "for _ in range(TRAILS):\n",
    "    birthdays = []\n",
    "    for _ in range(23):\n",
    "        birthday = random.randint(1,365)\n",
    "        if birthday in birthdays:\n",
    "            same_birthdays += 1\n",
    "            break\n",
    "        birthdays.append(birthday)\n",
    "        \n",
    "print(f'{same_birthdays / TRAILS * 100}%')"
   ]
  },
  {
   "cell_type": "code",
   "execution_count": 2,
   "metadata": {},
   "outputs": [
    {
     "name": "stdout",
     "output_type": "stream",
     "text": [
      "0 : 0->3->6->9\n",
      "1 : 1->4->7->10\n",
      "2 : 2->5->8\n"
     ]
    }
   ],
   "source": [
    "# Separate Chaining 구현\n",
    "class Node:\n",
    "    def __init__(self, item: int, link=None):\n",
    "        self.item = item\n",
    "        self.link = link\n",
    "        \n",
    "class HashTable:\n",
    "    def __init__(self):\n",
    "        self.size = 3\n",
    "        self.table = [None] * self.size\n",
    "        \n",
    "    def print_table(self) -> None:\n",
    "        for i, root in enumerate(self.table):\n",
    "            items = []\n",
    "            while root:\n",
    "                items.append(root.item)\n",
    "                root = root.link\n",
    "            print(i, end=' : ')\n",
    "            print('->'.join(map(str, items)))\n",
    "            \n",
    "    def add(self, item: int) -> None:\n",
    "        if self.table[item % self.size] is None:\n",
    "            self.table[item % self.size] = Node(item)\n",
    "            return\n",
    "        prev = self.table[item % self.size]\n",
    "        while prev.link:\n",
    "            prev = prev.link\n",
    "        prev.link = Node(item)\n",
    "        \n",
    "    def remove(self, item: int) -> None:\n",
    "        if self.table[item % self.size] is None:\n",
    "            return\n",
    "        prev = self.table[item % self.size]\n",
    "        while prev.link:\n",
    "            if prev.link.item == item:\n",
    "                prev.link = prev.link.link\n",
    "                break\n",
    "            \n",
    "            \n",
    "ht = HashTable()\n",
    "for i in range(10 + 1):\n",
    "    ht.add(i)\n",
    "ht.print_table()"
   ]
  },
  {
   "cell_type": "code",
   "execution_count": 2,
   "metadata": {},
   "outputs": [
    {
     "name": "stdout",
     "output_type": "stream",
     "text": [
      "0 : 2\n",
      "1 : 1\n",
      "2 : 4\n"
     ]
    }
   ],
   "source": [
    "# Solving Hash Collision using Linear Probing\n",
    "class HashTable:\n",
    "    def __init__(self):\n",
    "        self.size = 3\n",
    "        self.table = [None] * self.size\n",
    "        \n",
    "    def _probe(self, item: int, step: int) -> int:\n",
    "        index = item % self.size\n",
    "        while index < self.size:\n",
    "            if self.table[index] is None:\n",
    "                return index\n",
    "            index += step\n",
    "        return -1\n",
    "    \n",
    "    def print_table(self) -> None:\n",
    "        for i, item in enumerate(self.table):\n",
    "            print(\"{} : {}\".format(i, item))\n",
    "            \n",
    "    def add(self, item: int) -> None:\n",
    "        index = self._probe(item, 1)\n",
    "        if index == -1:\n",
    "            index = self._probe(item, -1)\n",
    "        if index == -1:\n",
    "            return\n",
    "        self.table[index] = item\n",
    "        \n",
    "    def remove(self, item: int) -> None:\n",
    "        start = item % self.size\n",
    "        for i in range(start, self.size):\n",
    "            if self.table[i] == item:\n",
    "                self.table[i] = None\n",
    "        for i in range(0, start):\n",
    "            if self.tanle[i] == item:\n",
    "                self.table[i] = None\n",
    "                \n",
    "ht = HashTable()\n",
    "ht.add(1)\n",
    "ht.add(4)\n",
    "ht.add(2)\n",
    "ht.print_table()"
   ]
  },
  {
   "cell_type": "markdown",
   "metadata": {},
   "source": [
    "## Stack"
   ]
  },
  {
   "cell_type": "code",
   "execution_count": null,
   "metadata": {},
   "outputs": [],
   "source": [
    "# Stack 구현 코드 (Python)\n",
    "\n",
    "class Stack:\n",
    "    # 리스트를 이용한 스택 구현\n",
    "    def __init__(self):\n",
    "        self.top = []\n",
    "        self.limit = limit\n",
    "        \n",
    "    # 스택 크기 반환\n",
    "    def __len__(self) -> bool:\n",
    "        return len(self.top)\n",
    "    \n",
    "    # 구현 함수\n",
    "    # 스택에 원소 삽입\n",
    "    def push(self, item):\n",
    "        if (len(self.pop)>= self.limit):\n",
    "            self.top.append(item)\n",
    "        \n",
    "    # 스택 가장 위에 있는 원소를 삭제하고 반환\n",
    "    def pop(self):\n",
    "        if not self.isEmpty():\n",
    "            return self.top.pop(-1)\n",
    "        else:\n",
    "            print(\"Stack underflow\")\n",
    "            exit()\n",
    "    \n",
    "    # 스택 가장 위에 있는 원소를 반환\n",
    "    def peek(self):\n",
    "        if not self.isEmpty():\n",
    "            return self.top[-1]\n",
    "        else:\n",
    "            print(\"underflow\")\n",
    "            exit()\n",
    "            \n",
    "    # 스택이 비어 있는지를 bool값으로 반환\n",
    "    def isEmpty(self) -> bool:\n",
    "        return len(self.top)==0\n",
    "    \n",
    "    # 스택을 비움\n",
    "    def clear(self):\n",
    "        self.top = []\n",
    "        \n",
    "    # 스택 안에 특정 item이 포함되어 있는지를 bool값으로 반환\n",
    "    def isContain(self, item)-> bool:\n",
    "        return item in self.top\n",
    "    \n",
    "    # 스택이 가득 차 있는 지를 bool값으로 반환\n",
    "    def isFull(self) -> bool:\n",
    "        return self.size() == self.limit\n",
    "    \n",
    "    # 스택의 크기를 int값으로 반환\n",
    "    def size(self) -> int:\n",
    "        return len(self.top)"
   ]
  },
  {
   "cell_type": "code",
   "execution_count": null,
   "metadata": {},
   "outputs": [],
   "source": [
    "test"
   ]
  },
  {
   "cell_type": "markdown",
   "metadata": {},
   "source": [
    "## Queue"
   ]
  },
  {
   "cell_type": "code",
   "execution_count": 1,
   "metadata": {},
   "outputs": [
    {
     "name": "stdout",
     "output_type": "stream",
     "text": [
      "[1, 2, 3, 4, 5]\n",
      "1\n",
      "2\n",
      "3\n",
      "4\n",
      "5\n",
      "[]\n"
     ]
    }
   ],
   "source": [
    "# 배열을 이용한 Queue 구현\n",
    "class ListQueue(object):\n",
    "    def __init__(self):\n",
    "        self.queue = []\n",
    "        \n",
    "    def dequeue(self):\n",
    "        if len(self.queue) == 0:\n",
    "            return -1\n",
    "        return self.queue.pop(0)\n",
    "    \n",
    "    def enqueue(self, n):\n",
    "        self.queue.append(n)\n",
    "        pass\n",
    "    \n",
    "    def printQueue(self):\n",
    "        print(self.queue)\n",
    "        \n",
    "if __name__ == \"__main__\":\n",
    "    queue_list = ListQueue()\n",
    "    queue_list.enqueue(1)\n",
    "    queue_list.enqueue(2)\n",
    "    queue_list.enqueue(3)\n",
    "    queue_list.enqueue(4)\n",
    "    queue_list.enqueue(5)\n",
    "    queue_list.printQueue()\n",
    "    print(queue_list.dequeue())\n",
    "    print(queue_list.dequeue())\n",
    "    print(queue_list.dequeue())\n",
    "    print(queue_list.dequeue())\n",
    "    print(queue_list.dequeue())\n",
    "    queue_list.printQueue()"
   ]
  },
  {
   "cell_type": "code",
   "execution_count": 2,
   "metadata": {},
   "outputs": [
    {
     "name": "stdout",
     "output_type": "stream",
     "text": [
      "deque([1, 2, 3, 4])\n",
      "1\n",
      "2\n",
      "3\n",
      "4\n",
      "deque([])\n"
     ]
    }
   ],
   "source": [
    "# dequeue 라이브러리 사용한 Queue 구현\n",
    "from collections import deque\n",
    "\n",
    "dq = deque([])\n",
    "\n",
    "dq.append(1)\n",
    "dq.append(2)\n",
    "dq.append(3)\n",
    "dq.append(4)\n",
    "print(dq)\n",
    "\n",
    "print(dq.popleft())\n",
    "print(dq.popleft())\n",
    "print(dq.popleft())\n",
    "print(dq.popleft())\n",
    "print(dq)"
   ]
  },
  {
   "cell_type": "code",
   "execution_count": 15,
   "metadata": {},
   "outputs": [
    {
     "data": {
      "text/plain": [
       "0"
      ]
     },
     "execution_count": 15,
     "metadata": {},
     "output_type": "execute_result"
    }
   ],
   "source": [
    "# queue 라이브러리 사용하여 Queue 구현\n",
    "import queue\n",
    "data_queue = queue.Queue()\n",
    "\n",
    "# 데이터 삽입\n",
    "data_queue.put(\"data\")\n",
    "data_queue.put(7)\n",
    "\n",
    "# 현재 큐에 데이터가 몇 개인지 확인\n",
    "data_queue.qsize()\n",
    "\n",
    "# 데이터 제거\n",
    "data_queue.get()\n",
    "\n",
    "data_queue.qsize()\n",
    "\n",
    "# 데이터 제거\n",
    "data_queue.get()\n",
    "\n",
    "data_queue.qsize()"
   ]
  },
  {
   "cell_type": "code",
   "execution_count": 16,
   "metadata": {},
   "outputs": [
    {
     "name": "stdout",
     "output_type": "stream",
     "text": [
      "1->2->3->4\n",
      "1\n",
      "2\n",
      "3->4\n",
      "3\n",
      "4\n"
     ]
    }
   ],
   "source": [
    "# Linked List를 사용한 Queue 구현\n",
    "class Node(object):\n",
    "    def __init__(self, data):\n",
    "        self.data = data\n",
    "        self.next = None\n",
    "        \n",
    "class SingleLinkedList(object):\n",
    "    def __init__(self):\n",
    "        self.head = None\n",
    "        self.tail = None\n",
    "        \n",
    "    def enqueue(self, node):\n",
    "        if self.head == None:\n",
    "            self.head = node\n",
    "            self.tail = node\n",
    "        else:\n",
    "            self.tail.next = node\n",
    "            self.tail = self.tail.next\n",
    "            \n",
    "    def dequeue(self):\n",
    "        if self.head == None:\n",
    "            return -1\n",
    "        \n",
    "        v = self.head.data\n",
    "        self.head = self.head.next\n",
    "        \n",
    "        if self.head == None:\n",
    "            self.tail = None\n",
    "        return v\n",
    "    \n",
    "    # 출력\n",
    "    def print(self):\n",
    "        current = self.head\n",
    "        string = \"\"\n",
    "        while current:\n",
    "            string += str(current.data)\n",
    "            if current.next:\n",
    "                string += \"->\"\n",
    "            current = current.next\n",
    "        print(string)\n",
    "        \n",
    "if __name__ == \"__main__\":\n",
    "    s = SingleLinkedList()\n",
    "    # 데이터 삽입\n",
    "    s.enqueue(Node(1))\n",
    "    s.enqueue(Node(2))\n",
    "    s.enqueue(Node(3))\n",
    "    s.enqueue(Node(4))\n",
    "    s.print()\n",
    "    \n",
    "    # 데이터 제거\n",
    "    print(s.dequeue())\n",
    "    print(s.dequeue())\n",
    "    s.print()\n",
    "    print(s.dequeue())\n",
    "    print(s.dequeue())"
   ]
  },
  {
   "cell_type": "code",
   "execution_count": null,
   "metadata": {},
   "outputs": [],
   "source": [
    "# Circular Queue\n",
    "\n",
    "class Queue:\n",
    "    maxlen = 10\n",
    "    \n",
    "    def __init__(self):\n",
    "        self.array = [None] * self.maxlen\n",
    "        self.head = -1\n",
    "        self.tail = -1\n",
    "        \n",
    "    def push(self, item):\n",
    "        if not self.full():\n",
    "            self.tail += 1\n",
    "            self.array[self.tail % self.maxlen] = item\n",
    "    \n",
    "    def pop(self):\n",
    "        if not self.empty():\n",
    "            self.head += 1\n",
    "            return self.array[self.head % self.maxlen]\n",
    "        \n",
    "    def front(self):\n",
    "        if not self.empty():\n",
    "            return self.array[(self.head + 1) % self.maxlen]\n",
    "        \n",
    "    def back(self):\n",
    "        if not self.empty():\n",
    "            return self.array[self.tail % self.maxlen]\n",
    "        \n",
    "    def size(self):\n",
    "        return self.tail - self.head\n",
    "    \n",
    "    def empty(self):\n",
    "        return self.size() == 0\n",
    "    \n",
    "    def full(self):\n",
    "        return self.size() == self.maxlen"
   ]
  }
 ],
 "metadata": {
  "kernelspec": {
   "display_name": "study",
   "language": "python",
   "name": "python3"
  },
  "language_info": {
   "codemirror_mode": {
    "name": "ipython",
    "version": 3
   },
   "file_extension": ".py",
   "mimetype": "text/x-python",
   "name": "python",
   "nbconvert_exporter": "python",
   "pygments_lexer": "ipython3",
   "version": "3.11.9"
  }
 },
 "nbformat": 4,
 "nbformat_minor": 2
}
