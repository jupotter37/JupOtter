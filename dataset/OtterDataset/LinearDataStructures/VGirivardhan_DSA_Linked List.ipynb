{
 "cells": [
  {
   "cell_type": "markdown",
   "id": "9d102422",
   "metadata": {},
   "source": [
    "# Linked List\n",
    "## Problems with Array Data Structure\n",
    "\n",
    "1. We need to preallocate the space.\n",
    "2. Insertion in the middle of an array is costly.\n",
    "3. Deletion from the beginning is costly.\n",
    "4. Implementation on data structures like queue and deque is complex.\n",
    "\n",
    "## Program for Round Robin Scheduling\n",
    "\n",
    "Round Robin is a CPU scheduling algorithm where each process is assigned a fixed time slot in a cyclic way. It is basically the preemptive version of First come First Serve CPU Scheduling algorithm. Round Robin CPU Algorithm generally focuses on Time Sharing technique. The period of time for which a process or job is allowed to run in a pre-emptive method is called a time quantum. Each process or job present in the ready queue is assigned the CPU for that time quantum, if the execution of the process is completed during that time then the process will end else the process will go back to the waiting table and wait for its next turn to complete the execution.\n",
    "\n",
    "**Examples to show working of Round Robin Scheduling Algorithm:**\n",
    "\n",
    "**Example-1:** Consider the following table of arrival time and burst time for four processes P1, P2, P3, and P4 and given Time Quantum = 2\n",
    "\n",
    "| Process | Burst Time | Arrival Time |\n",
    "|---------|------------|--------------|\n",
    "| P1      | 5 ms       | 0 ms         |\n",
    "| P2      | 4 ms       | 1 ms         |\n",
    "| P3      | 2 ms       | 2 ms         |\n",
    "| P4      | 1 ms       | 4 ms         |\n",
    "\n",
    "**The Round Robin CPU Scheduling Algorithm will work on the basis of steps as mentioned below:**\n",
    "\n",
    "| Time Interval | Process | Arrival Time | Ready Queue | Running Queue | Execution Time | Initial Burst Time | Remaining Burst Time |\n",
    "|---------------|---------|--------------|-------------|---------------|----------------|--------------------|----------------------|\n",
    "| 0-2 ms        | P1      | 0 ms         | P2, P3      | P1            | 2 ms           | 5 ms               | 3 ms                 |\n",
    "| 2-4 ms        | P1      | 0 ms         | P3, P1      | P2            | 0 ms           | 5 ms               | 3 ms                 |\n",
    "|               | P2      | 1 ms         | P3, P1      | P2            | 2 ms           | 4 ms               | 2 ms                 |\n",
    "| 4-6 ms        | P1      | 0 ms         | P1, P4, P2  | P3            | 0 ms           | 5 ms               | 3 ms                 |\n",
    "|               | P2      | 1 ms         | P1, P4, P2  | P3            | 1 ms           | 4 ms               | 2 ms                 |\n",
    "|               | P3      | 2 ms         | P1, P4, P2  | P3            | 2 ms           | 2 ms               | 0 ms                 |\n",
    "| 6-8 ms        | P1      | 0 ms         | P4, P2      | P1            | 2 ms           | 3 ms               | 1 ms                 |\n",
    "|               | P2      | 1 ms         | P4, P2      | P1            | 0 ms           | 4 ms               | 2 ms                 |\n",
    "| 8-9 ms        | P1      | 0 ms         | P2, P1      | P4            | 0 ms           | 3 ms               | 1 ms                 |\n",
    "|               | P2      | 1 ms         | P2, P1      | P4            | 0 ms           | 4 ms               | 2 ms                 |\n",
    "|               | P4      | 4 ms         | P2, P1      | P4            | 1 ms           | 1 ms               | 0 ms                 |\n",
    "| 9-11 ms       | P1      | 0 ms         | P1          | P2            | 0 ms           | 3 ms               | 1 ms                 |\n",
    "|               | P2      | 1 ms         | P1          | P2            | 2 ms           | 2 ms               | 0 ms                 |\n",
    "| 11-12 ms      | P1      | 0 ms         |              | P1            | 1 ms           | 1 ms               | 0 ms                 |\n",
    "\n",
    "**Gantt chart will be as following below:**\n",
    "![Round Robin](https://media.geeksforgeeks.org/wp-content/uploads/20220501232816/UntitledDiagram6-300x54.jpg)\n"
   ]
  },
  {
   "cell_type": "markdown",
   "id": "bf6bacf7",
   "metadata": {},
   "source": [
    "---\n",
    "## Linked List Introduction in Python\n",
    "\n",
    "### What is Linked List\n",
    "\n",
    "Like arrays, Linked List is a linear data structure. Unlike arrays, linked list elements are not stored at a contiguous location; the elements are linked using pointers. They include a series of connected nodes. Here, each node stores the data and the address of the next node.\n",
    "![Linked List](https://media.geeksforgeeks.org/wp-content/uploads/20220816144425/LLdrawio.png)\n",
    "\n",
    "### Why Linked List? \n",
    "\n",
    "Arrays can be used to store linear data of similar types, but arrays have the following limitations:\n",
    "\n",
    "- **The size of the arrays is fixed:** So we must know the upper limit on the number of elements in advance. Also, generally, the allocated memory is equal to the upper limit irrespective of the usage.\n",
    "- **Insertion of a new element / Deletion of an existing element in an array of elements is expensive:** The room has to be created for the new elements and to create room existing elements have to be shifted. But in Linked list if we have the head node then we can traverse to any node through it and insert a new node at the required position.\n",
    "---"
   ]
  },
  {
   "cell_type": "markdown",
   "id": "099f73ca",
   "metadata": {},
   "source": [
    "---\n",
    "## Simple Linked List Implementation in Python\n",
    "\n",
    "### Representation of Linked Lists\n",
    "\n",
    "A linked list is represented by a pointer to the first node of the linked list. The first node is called the head of the linked list. If the linked list is empty, then the value of the head points to NULL.\n",
    "\n",
    "Each node in a list consists of at least two parts:\n",
    "\n",
    "- **Data Item:** We can store integers, strings, or any type of data.\n",
    "- **Pointer (Or Reference) to the Next Node:** Connects one node to another or an address of another node.\n",
    "---"
   ]
  },
  {
   "cell_type": "code",
   "execution_count": 4,
   "id": "723e854c",
   "metadata": {},
   "outputs": [
    {
     "name": "stdout",
     "output_type": "stream",
     "text": [
      "10\n",
      "20\n",
      "30\n"
     ]
    }
   ],
   "source": [
    "# Basic Approach\n",
    "class Node:\n",
    "    def __init__(self,k):\n",
    "        self.key=k\n",
    "        self.next=None\n",
    "        \n",
    "temp1=Node(10)\n",
    "temp2=Node(20)\n",
    "temp3=Node(30)\n",
    "\n",
    "temp1.next=temp2\n",
    "temp2.next=temp3\n",
    "\n",
    "head=temp1\n",
    "print(head.key)\n",
    "print(head.next.key)\n",
    "print(head.next.next.key)"
   ]
  },
  {
   "cell_type": "code",
   "execution_count": 5,
   "id": "73300091",
   "metadata": {},
   "outputs": [
    {
     "name": "stdout",
     "output_type": "stream",
     "text": [
      "10\n",
      "20\n",
      "30\n"
     ]
    }
   ],
   "source": [
    "# Alternative Approach \n",
    "class Node:\n",
    "    def __init__(self,k):\n",
    "        self.key=k\n",
    "        self.next=None\n",
    "head=Node(10)\n",
    "head.next=Node(20)\n",
    "head.next.next=Node(30)\n",
    "print(head.key)\n",
    "print(head.next.key)\n",
    "print(head.next.next.key)"
   ]
  },
  {
   "cell_type": "markdown",
   "id": "d06050a9",
   "metadata": {},
   "source": [
    "---\n",
    "\n",
    "## Applications of Linked List in Computer Science:\n",
    "\n",
    "- **Implementation of Stacks and Queues:** Linked lists are commonly used to implement stack and queue data structures due to their dynamic nature and efficient insertion and deletion operations.\n",
    "\n",
    "- **Implementation of Graphs:** Adjacency list representation of graphs is popular, and it uses a linked list to store adjacent vertices, allowing efficient traversal and modification of graph structures.\n",
    "\n",
    "- **Dynamic Memory Allocation:** Linked lists of free blocks are used in memory management for dynamic memory allocation, enabling efficient allocation and deallocation of memory blocks.\n",
    "\n",
    "- **Maintaining a Directory of Names:** Linked lists can be used to maintain a directory of names, allowing easy addition, deletion, and traversal of the directory entries.\n",
    "\n",
    "- **Performing Arithmetic Operations on Long Integers:** Linked lists can be used to represent long integers by storing digits in separate nodes, facilitating arithmetic operations on large numbers.\n",
    "\n",
    "- **Manipulation of Polynomials:** Polynomials can be represented using linked lists by storing coefficients and exponents in the nodes, enabling easy manipulation and calculation of polynomial expressions.\n",
    "\n",
    "- **Representing Sparse Matrices:** Linked lists can efficiently represent sparse matrices by storing only the non-zero elements along with their row and column indices.\n",
    "\n",
    "---\n",
    "\n",
    "## Applications of Linked List in the Real World:\n",
    "\n",
    "- **Image Viewer:** Previous and next images are linked in an image viewer, allowing users to navigate through a sequence of images using previous and next buttons.\n",
    "\n",
    "- **Web Browser Navigation:** Previous and next pages in a web browser history are linked, enabling users to navigate through their browsing history using back and forward buttons.\n",
    "\n",
    "- **Music Player:** Songs in a music player are linked to the previous and next songs, allowing users to play songs sequentially or shuffle through the playlist using controls.\n",
    "\n",
    "---\n"
   ]
  },
  {
   "cell_type": "markdown",
   "id": "2c54e054",
   "metadata": {},
   "source": [
    "---\n",
    "## Traversing a Linked List in Python\n",
    "\n",
    "\n",
    "In the previous program, we created a simple linked list with three nodes. Let us traverse the created list and print the data of each node. For traversal, let us write a general-purpose function `printList()` that prints any given list.\n",
    "\n",
    "---\n"
   ]
  },
  {
   "cell_type": "code",
   "execution_count": 5,
   "id": "1b79287d",
   "metadata": {},
   "outputs": [
    {
     "name": "stdout",
     "output_type": "stream",
     "text": [
      "10 20 15 30 "
     ]
    }
   ],
   "source": [
    "class Node:\n",
    "    def __init__(self,k):\n",
    "        self.key=k\n",
    "        self.next=None\n",
    "def printList(head):\n",
    "    curr=head\n",
    "    while curr!=None:\n",
    "        print(curr.key,end=\" \")\n",
    "        curr=curr.next\n",
    "head=Node(10)\n",
    "head.next=Node(20)\n",
    "head.next.next=Node(15)\n",
    "head.next.next.next=Node(30)\n",
    "printList(head)"
   ]
  },
  {
   "cell_type": "markdown",
   "id": "d834b7ae",
   "metadata": {},
   "source": [
    "\n",
    "**Time Complexity:**\n",
    "\n",
    "| Operation | Worst Case | Average Case |\n",
    "|-----------|------------|--------------|\n",
    "| Search    | O(n)       | O(n)         |\n",
    "| Insert    | O(n)       | O(n)         |\n",
    "| Deletion  | O(n)       | O(n)         |\n",
    "\n",
    "**Auxiliary Space: O(1)**"
   ]
  },
  {
   "cell_type": "markdown",
   "id": "24a394f4",
   "metadata": {},
   "source": [
    "## Search in Linked List"
   ]
  },
  {
   "cell_type": "code",
   "execution_count": 1,
   "id": "0a3569e3",
   "metadata": {},
   "outputs": [
    {
     "name": "stdout",
     "output_type": "stream",
     "text": [
      "Enter Element value to search:20\n",
      "1\n"
     ]
    }
   ],
   "source": [
    "class Node:\n",
    "    def __init__(self,k):\n",
    "        self.key=k\n",
    "        self.next=None\n",
    "def searchlist(head,x):\n",
    "    curr=head\n",
    "    idx=0\n",
    "    found=0\n",
    "    while curr!=None:\n",
    "        if curr.key==x:\n",
    "            found=1\n",
    "            break\n",
    "        idx+=1\n",
    "        curr=curr.next\n",
    "    if found==1:\n",
    "        return idx\n",
    "    else:\n",
    "        return -1\n",
    "        \n",
    "    \n",
    "        \n",
    "head=Node(10)\n",
    "head.next=Node(20)\n",
    "head.next.next=Node(15)\n",
    "head.next.next.next=Node(30)\n",
    "x=int(input(\"Enter Element value to search:\"))\n",
    "print(searchlist(head,x))"
   ]
  },
  {
   "cell_type": "markdown",
   "id": "dd798270",
   "metadata": {},
   "source": [
    "\n",
    "## Insert At The Beginning of Linked List in Python\n",
    "\n",
    "**Add a node at the front:**  \n",
    "Approach: The new node is always added before the head of the given Linked List. And newly added node becomes the new head of the Linked List. For example, if the given Linked List is 10->15->20->25 and we add an item 5 at the front, then the Linked List becomes 5->10->15->20->25. Let us call the function that adds at the front of the list is `push()`. The `push()` must receive a pointer to the head pointer because the push must change the head pointer to point to the new node.\n",
    "![Insert at the begining](https://media.geeksforgeeks.org/wp-content/cdn-uploads/gq/2013/03/Linkedlist_insert_at_start.png)\n",
    "**Complexity Analysis:**\n",
    "- **Time Complexity:** O(1), We have a pointer to the head and we can directly attach a node and change the pointer. So the Time complexity of inserting a node at the head position is O(1) as it does a constant amount of work.\n",
    "- **Auxiliary Space:** O(1)\n"
   ]
  },
  {
   "cell_type": "code",
   "execution_count": 2,
   "id": "34de5ce9",
   "metadata": {},
   "outputs": [
    {
     "name": "stdout",
     "output_type": "stream",
     "text": [
      "30\n",
      "20\n",
      "10\n"
     ]
    }
   ],
   "source": [
    "class Node:\n",
    "    def __init__(self,key):\n",
    "        self.key=key\n",
    "        self.next=None\n",
    "\n",
    "def insertBegin(head,key):\n",
    "        temp=Node(key)\n",
    "        temp.next=head\n",
    "        return temp\n",
    "\n",
    "\n",
    "head=None\n",
    "head=insertBegin(head,10)\n",
    "head=insertBegin(head,20)\n",
    "head=insertBegin(head,30)\n",
    "\n",
    "def printList(head):\n",
    "    curr = head\n",
    "    while curr!= None:\n",
    "        print(curr.key)\n",
    "        curr = curr.next\n",
    "\n",
    "\n",
    "printList(head)"
   ]
  },
  {
   "cell_type": "markdown",
   "id": "f45a2316",
   "metadata": {},
   "source": [
    "\n",
    "## Insert at The End Of Linked List\n",
    "\n",
    "**Add a node at the end:**  \n",
    "The new node is always added after the last node of the given Linked List. For example if the given Linked List is 5->10->15->20->25 and we add an item 30 at the end, then the Linked List becomes 5->10->15->20->25->30. \n",
    "Since a Linked List is typically represented by the head of it, we have to traverse the list till the end and then change the next to last node to a new node.\n",
    "![insertat end](https://media.geeksforgeeks.org/wp-content/cdn-uploads/gq/2013/03/Linkedlist_insert_last.png)\n",
    "\n",
    "\n",
    "**Complexity Analysis:**\n",
    "\n",
    "- **Time complexity:** O(N), where N is the number of nodes in the linked list. Since there is a loop from head to end, the function does O(n) work. \n",
    "This method can also be optimized to work in O(1) by keeping an extra pointer to the tail of the linked list.\n",
    "- **Auxiliary Space:** O(1)\n"
   ]
  },
  {
   "cell_type": "code",
   "execution_count": 2,
   "id": "99bb8636",
   "metadata": {},
   "outputs": [
    {
     "name": "stdout",
     "output_type": "stream",
     "text": [
      "10\n",
      "20\n",
      "30\n"
     ]
    }
   ],
   "source": [
    "class Node:\n",
    "    def __init__(self,key):\n",
    "        self.key=key\n",
    "        self.next=None\n",
    "\n",
    "def insertEnd(head,key):\n",
    "    if head==None:\n",
    "        return Node(key)\n",
    "    curr=head\n",
    "    while curr.next!=None:\n",
    "        curr=curr.next\n",
    "    curr.next=Node(key)\n",
    "    return head\n",
    "\n",
    "head=None\n",
    "head=insertEnd(head,10)\n",
    "head=insertEnd(head,20)\n",
    "head=insertEnd(head,30)\n",
    "\n",
    "\n",
    "def printList(head):\n",
    "    curr = head\n",
    "    while curr!= None:\n",
    "        print(curr.key)\n",
    "        curr = curr.next\n",
    "\n",
    "printList(head)"
   ]
  },
  {
   "cell_type": "markdown",
   "id": "e29f8bcb",
   "metadata": {},
   "source": [
    "\n",
    "## Insert at Given Position in Singly Linked List\n",
    "\n",
    "**Add a node after a given node:**  \n",
    "Approach: We are given a pointer to a node, and the new node is inserted after the given node.\n",
    "\n",
    "Follow the steps to add a node after a given node:\n",
    "\n",
    "1. Firstly, check if the given previous node is NULL or not.\n",
    "2. Then, allocate a new node and assign the data to the new node.\n",
    "3. And then make the next of new node as the next of previous node.\n",
    "4. Finally, move the next of the previous node as a new node.\n",
    "\n",
    "![Insert at given postion](https://media.geeksforgeeks.org/wp-content/cdn-uploads/gq/2013/03/Linkedlist_insert_middle.png)\n",
    "\n",
    "\n",
    "**Complexity Analysis:** \n",
    "\n",
    "- **Time complexity:** O(N), since prev_node is already given as an argument in a method, no need to iterate over the list to find prev_node.\n",
    "- **Auxiliary Space:** O(1) since using constant space to modify pointers.\n"
   ]
  },
  {
   "cell_type": "code",
   "execution_count": 9,
   "id": "b00d1f2d",
   "metadata": {},
   "outputs": [
    {
     "name": "stdout",
     "output_type": "stream",
     "text": [
      "10\n",
      "20\n",
      "30\n",
      "40\n",
      "50\n",
      "\n",
      "10\n",
      "20\n",
      "30\n",
      "45\n",
      "40\n",
      "50\n",
      "\n"
     ]
    }
   ],
   "source": [
    "class Node:\n",
    "    def __init__(self,key):\n",
    "        self.key=key\n",
    "        self.next=None\n",
    "def insertPos(head,data,pos):\n",
    "\n",
    "    temp = Node(data)\n",
    "\n",
    "    if pos ==1:\n",
    "        temp.next = head\n",
    "        return temp\n",
    "    curr = head\n",
    "\n",
    "    for i in range(pos-2):\n",
    "        curr = curr.next\n",
    "        if curr == None:\n",
    "            return head\n",
    "\n",
    "    temp.next = curr.next\n",
    "    curr.next = temp\n",
    "\n",
    "    return head\n",
    "\n",
    "\n",
    "def printList(head):\n",
    "    curr = head\n",
    "    while curr != None:\n",
    "        print(curr.key)\n",
    "        curr = curr.next\n",
    "    print()\n",
    "\n",
    "\n",
    "head = Node(10)\n",
    "head.next = Node(20)\n",
    "head.next.next = Node(30)\n",
    "head.next.next.next = Node(40)\n",
    "head.next.next.next.next = Node(50)\n",
    "\n",
    "printList(head)\n",
    "\n",
    "head = insertPos(head,45,4)\n",
    "\n",
    "printList(head)"
   ]
  },
  {
   "cell_type": "markdown",
   "id": "70d57093",
   "metadata": {},
   "source": [
    "## Delete First Node Of Linked List in Python"
   ]
  },
  {
   "cell_type": "code",
   "execution_count": 3,
   "id": "4108da07",
   "metadata": {},
   "outputs": [
    {
     "name": "stdout",
     "output_type": "stream",
     "text": [
      "10\n",
      "20\n",
      "30\n",
      "40\n",
      "\n",
      "20\n",
      "30\n",
      "40\n",
      "\n"
     ]
    }
   ],
   "source": [
    "class Node:\n",
    "    def __init__(self, k):\n",
    "        self.key = k\n",
    "        self.next = None\n",
    "\n",
    "\n",
    "def delFirst(head):\n",
    "    if head == None:\n",
    "        return None\n",
    "    else:\n",
    "        return head.next\n",
    "\n",
    "\n",
    "def printList(head):\n",
    "    curr = head\n",
    "    while curr != None:\n",
    "        print(curr.key)\n",
    "        curr = curr.next\n",
    "    print()\n",
    "\n",
    "\n",
    "head = Node(10)\n",
    "head.next = Node(20)\n",
    "head.next.next = Node(30)\n",
    "head.next.next.next = Node(40)\n",
    "\n",
    "printList(head)\n",
    "\n",
    "head = delFirst(head)\n",
    "\n",
    "printList(head)"
   ]
  },
  {
   "cell_type": "markdown",
   "id": "d768f9b8",
   "metadata": {},
   "source": [
    "## Delete Last Node of Linked List"
   ]
  },
  {
   "cell_type": "code",
   "execution_count": 5,
   "id": "9e4a622a",
   "metadata": {},
   "outputs": [
    {
     "name": "stdout",
     "output_type": "stream",
     "text": [
      "10\n",
      "20\n",
      "30\n",
      "40\n",
      "\n",
      "10\n",
      "20\n",
      "30\n",
      "\n"
     ]
    }
   ],
   "source": [
    "class Node:\n",
    "    def __init__(self, k):\n",
    "        self.key = k\n",
    "        self.next = None\n",
    "\n",
    "def deleteNode(head):\n",
    "    if head==None:\n",
    "        return None\n",
    "    if head.next==None:\n",
    "        return None\n",
    "    curr=head\n",
    "    while curr.next.next!=None:\n",
    "        curr=curr.next\n",
    "    curr.next=None\n",
    "    return head\n",
    "\n",
    "\n",
    "\n",
    "def printList(head):\n",
    "    curr = head\n",
    "    while curr != None:\n",
    "        print(curr.key)\n",
    "        curr = curr.next\n",
    "    print()\n",
    "\n",
    "\n",
    "head = Node(10)\n",
    "head.next = Node(20)\n",
    "head.next.next = Node(30)\n",
    "head.next.next.next = Node(40)\n",
    "\n",
    "printList(head)\n",
    "\n",
    "head = deleteNode(head)\n",
    "\n",
    "printList(head)"
   ]
  },
  {
   "cell_type": "markdown",
   "id": "9513a8f2",
   "metadata": {},
   "source": [
    "\n",
    "## Delete a Node with Pointer Given to It\n",
    "\n",
    "Given only a pointer to a node to be deleted in a singly linked list, how do you delete it?\n",
    "\n",
    "A simple solution is to traverse the linked list until you find the node you want to delete. But this solution requires a pointer to the head node which contradicts the problem statement. \n",
    "\n",
    "The fast solution is to copy the data from the next node to the node to be deleted and delete the next node. Something like this:\n",
    "\n",
    "```c\n",
    "struct Node *temp = node_ptr->next;\n",
    "node_ptr->data = temp->data;\n",
    "node_ptr->next = temp->next;\n",
    "free(temp);\n",
    "```\n",
    "\n",
    "It is important to note that this approach will only work if it is guaranteed that the given pointer does not point to the last node. Because if it is the last node, then you don’t have a next node to copy the data from.\n"
   ]
  },
  {
   "cell_type": "code",
   "execution_count": 6,
   "id": "b59e860a",
   "metadata": {},
   "outputs": [
    {
     "name": "stdout",
     "output_type": "stream",
     "text": [
      "Original list:\n",
      "10\n",
      "20\n",
      "30\n",
      "\n",
      "List after deletion:\n",
      "20\n",
      "30\n",
      "\n"
     ]
    }
   ],
   "source": [
    "class Node:\n",
    "    def __init__(self, k):\n",
    "        self.data = k\n",
    "        self.next = None\n",
    "\n",
    "def printList(head):\n",
    "    curr = head\n",
    "    while curr != None:\n",
    "        print(curr.data)\n",
    "        curr = curr.next\n",
    "    print()\n",
    "\n",
    "def deleteNode(ptr):\n",
    "    temp = ptr.next\n",
    "    ptr.data = temp.data\n",
    "    ptr.next = temp.next\n",
    "\n",
    "head = Node(10)\n",
    "head.next = Node(20)\n",
    "head.next.next = Node(30)\n",
    "\n",
    "# Printing the original list\n",
    "print(\"Original list:\")\n",
    "printList(head)\n",
    "\n",
    "# Deleting the node pointed to by head\n",
    "deleteNode(head)\n",
    "\n",
    "# Printing the list after deletion\n",
    "print(\"List after deletion:\")\n",
    "printList(head)\n"
   ]
  },
  {
   "cell_type": "markdown",
   "id": "4f826c70",
   "metadata": {},
   "source": [
    "## Sorted Insert Linked List in Python"
   ]
  },
  {
   "cell_type": "code",
   "execution_count": 16,
   "id": "aed3647e",
   "metadata": {
    "scrolled": true
   },
   "outputs": [
    {
     "name": "stdout",
     "output_type": "stream",
     "text": [
      "10\n",
      "20\n",
      "30\n",
      "40\n",
      "\n",
      "10\n",
      "20\n",
      "30\n",
      "35\n",
      "40\n"
     ]
    }
   ],
   "source": [
    "class Node:\n",
    "    def __init__(self, k):\n",
    "        self.key = k\n",
    "        self.next = None\n",
    "\n",
    "\n",
    "def sortedInsert(head, x):\n",
    "    temp = Node(x)\n",
    "\n",
    "    if head == None:\n",
    "        return temp\n",
    "    elif x < head.key:\n",
    "        temp.next = head\n",
    "        return temp\n",
    "    else:\n",
    "        curr = head\n",
    "\n",
    "        while curr.next != None and curr.next.key < x:\n",
    "            curr = curr.next\n",
    "\n",
    "        temp.next = curr.next\n",
    "        curr.next = temp\n",
    "        return head\n",
    "\n",
    "\n",
    "head = Node(10)\n",
    "head.next = Node(20)\n",
    "head.next.next = Node(30)\n",
    "head.next.next.next = Node(40)\n",
    "\n",
    "h = head\n",
    "while h != None:\n",
    "    print(h.key)\n",
    "    h = h.next\n",
    "\n",
    "print()\n",
    "\n",
    "h = sortedInsert(head, 35)\n",
    "\n",
    "h = head\n",
    "while h != None:\n",
    "    print(h.key)\n",
    "    h = h.next"
   ]
  },
  {
   "cell_type": "markdown",
   "id": "2bb782bd",
   "metadata": {},
   "source": [
    "## Middle of Linked List\n",
    "\n",
    "Find the middle of a given linked list.\n",
    "\n",
    "Given a singly linked list, find the middle of the linked list. For example, if the given linked list is 1->2->3->4->5 then the output should be 3. If there are even nodes, then there would be two middle nodes, we need to print the second middle element. For example, if the given linked list is 1->2->3->4->5->6 then the output should be 4. \n",
    "\n",
    "**Method 1:**  \n",
    "Traverse the whole linked list and count the number of nodes. Now traverse the list again till count/2 and return the node at count/2.\n",
    "\n",
    "Below is the implementation of the above approach:\n"
   ]
  },
  {
   "cell_type": "code",
   "execution_count": 1,
   "id": "8e7f1e8a",
   "metadata": {},
   "outputs": [
    {
     "name": "stdout",
     "output_type": "stream",
     "text": [
      "10\n",
      "10\n",
      "20\n",
      "\n",
      "10\n"
     ]
    }
   ],
   "source": [
    "#Time Complexity: O(n) where n is no of nodes in linked list\n",
    "\n",
    "#Auxiliary Space: O(1)\n",
    "class Node:\n",
    "    def __init__(self, k):\n",
    "        self.data = k\n",
    "        self.next = None\n",
    "\n",
    "def printList(head):\n",
    "    curr = head\n",
    "    while curr != None:\n",
    "        print(curr.data)\n",
    "        curr = curr.next\n",
    "    print()\n",
    "\n",
    "\n",
    "    \n",
    "def printMiddle(ptr):\n",
    "    if head==None:\n",
    "        return None\n",
    "    curr=head\n",
    "    count=0\n",
    "    while curr!=None:\n",
    "        curr=curr.next\n",
    "        count+=1\n",
    "    curr=head\n",
    "    for i in range(count//2):\n",
    "        curr=curr.next\n",
    "    print(curr.data)\n",
    "    \n",
    "            \n",
    "    \n",
    "    \n",
    "    \n",
    "        \n",
    "\n",
    "head = Node(10)\n",
    "head.next = Node(10)\n",
    "head.next.next = Node(20)\n",
    "\n",
    "\n",
    "printList(head)\n",
    "printMiddle(head)"
   ]
  },
  {
   "cell_type": "markdown",
   "id": "8a11af76",
   "metadata": {},
   "source": [
    "## Method 2: \n",
    "Traverse linked list using two-pointers. Move one pointer by one and the other pointers by two. When the fast pointer reaches the end, the slow pointer will reach the middle of the linked list.\n",
    "\n",
    "\n"
   ]
  },
  {
   "cell_type": "code",
   "execution_count": 2,
   "id": "7af93db3",
   "metadata": {},
   "outputs": [
    {
     "name": "stdout",
     "output_type": "stream",
     "text": [
      "10\n",
      "10\n",
      "20\n",
      "\n",
      "10\n"
     ]
    }
   ],
   "source": [
    "class Node:\n",
    "    def __init__(self, k):\n",
    "        self.data = k\n",
    "        self.next = None\n",
    "\n",
    "def printList(head):\n",
    "    curr = head\n",
    "    while curr != None:\n",
    "        print(curr.data)\n",
    "        curr = curr.next\n",
    "    print()\n",
    "\n",
    "\n",
    "    \n",
    "def printMiddle(ptr):\n",
    "    if head == None:\n",
    "        return\n",
    "    slow = head\n",
    "    fast = head\n",
    "    while fast!= None and fast.next!=None :\n",
    "        slow=slow.next\n",
    "        fast=fast.next.next\n",
    "        \n",
    "    print(slow.data)\n",
    "    \n",
    "            \n",
    "head = Node(10)\n",
    "head.next = Node(10)\n",
    "head.next.next = Node(20)\n",
    "\n",
    "\n",
    "printList(head)\n",
    "printMiddle(head)"
   ]
  },
  {
   "cell_type": "code",
   "execution_count": 5,
   "id": "60430423",
   "metadata": {},
   "outputs": [
    {
     "name": "stdout",
     "output_type": "stream",
     "text": [
      "35\n"
     ]
    }
   ],
   "source": [
    "class Node:\n",
    "    def __init__(self, k):\n",
    "        self.key = k\n",
    "        self.next = None\n",
    "\n",
    "\n",
    "def printNthFromLast(head, n):\n",
    "    \n",
    "\n",
    "head = Node(10)\n",
    "head.next = Node(20)\n",
    "head.next.next = Node(30)\n",
    "head.next.next.next = Node(40)\n",
    "\n",
    "h = head\n",
    "while h != None:\n",
    "    print(h.key)\n",
    "    h = h.next\n",
    "\n",
    "print()\n",
    "\n",
    "h = sortedInsert(head, 4)\n",
    "\n",
    "h = head\n",
    "while h != None:\n",
    "    print(h.key)\n",
    "    h = h.next"
   ]
  },
  {
   "cell_type": "markdown",
   "id": "8f581021",
   "metadata": {},
   "source": [
    "## Nth Node From End of Linked List\n",
    "\n",
    "Given a Linked List and a number N, write a function that returns the value at the Nth node from the end of the Linked List.\n",
    "![Nth node](https://media.geeksforgeeks.org/wp-content/uploads/20220818165826/LLdrawio.png)\n",
    "**Examples:**\n",
    "\n",
    "Input: 1 -> 2 -> 3 -> 4, N = 3  \n",
    "Output: 2\n",
    "\n",
    "Input: 35 -> 15 -> 4 -> 20, N = 4  \n",
    "Output: 35   \n",
    "\n",
    "**Naive Approach:**  \n",
    "Follow the given steps to solve the problem using this approach: \n",
    "\n",
    "1. Calculate the length of the Linked List. Let the length be len. \n",
    "2. Print the (len – n + 1)th node from the beginning of the Linked List. \n",
    "\n",
    "Below is the implementation of the above approach:\n"
   ]
  },
  {
   "cell_type": "code",
   "execution_count": 13,
   "id": "642fb0da",
   "metadata": {},
   "outputs": [
    {
     "name": "stdout",
     "output_type": "stream",
     "text": [
      "35\n"
     ]
    }
   ],
   "source": [
    "#Time complexity: O(M) where M is the size of the linked list\n",
    "#Auxiliary Space: O(1)\n",
    "class Node:\n",
    "    def __init__(self, new_data):\n",
    "        self.data = new_data\n",
    "        self.next = None\n",
    "\n",
    "class LinkedList:\n",
    "    def __init__(self):\n",
    "        self.head = None\n",
    "\n",
    "    def push(self, new_data):\n",
    "        new_node = Node(new_data)\n",
    "        new_node.next = self.head\n",
    "        self.head = new_node\n",
    "\n",
    "    def printNthFromLast(self, n):\n",
    "        curr=self.head\n",
    "        length=0\n",
    "        while curr!=None:\n",
    "            length+=1\n",
    "            curr=curr.next\n",
    "        if n>length:\n",
    "            print(\"Location is greater than the length of LinkedList\")\n",
    "            return\n",
    "        curr=self.head\n",
    "        for i in range(1,length-n+1):\n",
    "            curr=curr.next\n",
    "        return curr.data\n",
    "            \n",
    "if __name__ == \"__main__\":\n",
    "    llist = LinkedList()\n",
    "    llist.push(20)\n",
    "    llist.push(4)\n",
    "    llist.push(15)\n",
    "    llist.push(35)\n",
    "\n",
    "    # Function call\n",
    "    print(llist.printNthFromLast(4))\n"
   ]
  },
  {
   "cell_type": "markdown",
   "id": "0f4e8144",
   "metadata": {},
   "source": [
    "## Nth Node from the End of a Linked List Using Two Pointers\n",
    "\n",
    "As the Nth node from the end equals to the (Length – N + 1)th node from the start, the idea is to maintain two pointers starting from the head of the Linked List and move one pointer to the Nth node from the start. Then move both pointers together until the pointer at the Nth position reaches the last node. Now the pointer which was moved later points at the Nth node from the end of the Linked List.\n",
    "\n",
    "Follow the given steps to solve the problem:\n",
    "\n",
    "1. Maintain two pointers `main_ptr` and `ref_ptr`.\n",
    "2. Move `ref_ptr` to the Nth node from the start.\n",
    "3. Now move both `main_ptr` and `ref_ptr` until the `ref_ptr` reaches the last node.\n",
    "4. Now print the data of the `main_ptr`, as it is at the Nth node from the end.\n",
    "![](https://media.geeksforgeeks.org/wp-content/uploads/20211028123800/flowchartnthlist-660x596.png)\n",
    "\n",
    "Below is the implementation of the above approach:\n"
   ]
  },
  {
   "cell_type": "code",
   "execution_count": 2,
   "id": "49e37e66",
   "metadata": {},
   "outputs": [
    {
     "name": "stdout",
     "output_type": "stream",
     "text": [
      "35\n"
     ]
    }
   ],
   "source": [
    "#Time complexity: O(M) where M is the size of the linked list\n",
    "#Auxiliary Space: O(1)\n",
    "class Node:\n",
    "    def __init__(self, new_data):\n",
    "        self.data = new_data\n",
    "        self.next = None\n",
    "\n",
    "class LinkedList:\n",
    "    def __init__(self):\n",
    "        self.head = None\n",
    "\n",
    "    def push(self, new_data):\n",
    "        new_node = Node(new_data)\n",
    "        new_node.next = self.head\n",
    "        self.head = new_node\n",
    "\n",
    "    def printNthFromLast(self, n):\n",
    "        if self.head==None:\n",
    "            return \n",
    "        first=self.head\n",
    "        for i in range(n):\n",
    "            if first==None:\n",
    "                return\n",
    "            first=first.next\n",
    "        second=self.head\n",
    "        while first!=None:\n",
    "            first=first.next\n",
    "            second=second.next\n",
    "        return second.data\n",
    "            \n",
    "if __name__ == \"__main__\":\n",
    "    llist = LinkedList()\n",
    "    llist.push(20)\n",
    "    llist.push(4)\n",
    "    llist.push(15)\n",
    "    llist.push(35)\n",
    "\n",
    "    # Function call\n",
    "    print(llist.printNthFromLast(4))\n"
   ]
  },
  {
   "cell_type": "markdown",
   "id": "e38434b5",
   "metadata": {},
   "source": [
    "## Remove Duplicates from a Sorted Singly Linked List\n",
    "\n",
    "Remove duplicates from a sorted linked list.\n",
    "\n",
    "Write a function that takes a list sorted in non-decreasing order and deletes any duplicate nodes from the list. The list should only be traversed once. For example, if the linked list is 11->11->11->21->43->43->60 then `removeDuplicates()` should convert the list to 11->21->43->60.\n",
    "\n",
    "### Algorithm\n",
    "\n",
    "Traverse the list from the head (or start) node. While traversing, compare each node with its next node. If the data of the next node is the same as the current node then delete the next node. Before we delete a node, we need to store the next pointer of the node.\n",
    "\n",
    "### Implementation\n",
    "\n",
    "Functions other than `removeDuplicates()` are just to create a linked list and test `removeDuplicates()`.\n"
   ]
  },
  {
   "cell_type": "code",
   "execution_count": 5,
   "id": "ff7ac78e",
   "metadata": {},
   "outputs": [
    {
     "name": "stdout",
     "output_type": "stream",
     "text": [
      "Before Removing Duplicates:\n",
      "10 20 20 30 30 30 \n",
      "After Removing Duplicates:\n",
      "10 20 30 "
     ]
    }
   ],
   "source": [
    "class Node:\n",
    "    def __init__(self,k):\n",
    "        self.data=k\n",
    "        self.next=None\n",
    "        \n",
    "def printList(head):\n",
    "    curr=head\n",
    "    while curr!=None:\n",
    "        print(curr.data,end=\" \")\n",
    "        curr=curr.next\n",
    "        \n",
    "def removeDups(head):\n",
    "    curr=head\n",
    "    while curr!=None and curr.next!=None:\n",
    "        if curr.data == curr.next.data:\n",
    "            curr.next=curr.next.next\n",
    "        else:\n",
    "            curr=curr.next\n",
    "head=Node(10)\n",
    "head.next=Node(20)\n",
    "head.next.next=Node(20)\n",
    "head.next.next.next=Node(30)\n",
    "head.next.next.next.next=Node(30)\n",
    "head.next.next.next.next.next=Node(30)\n",
    "print(\"Before Removing Duplicates:\")\n",
    "printList(head)\n",
    "print(\"\\nAfter Removing Duplicates:\")\n",
    "removeDups(head)\n",
    "printList(head)\n"
   ]
  },
  {
   "cell_type": "markdown",
   "id": "90007662",
   "metadata": {},
   "source": [
    "## Reverse a Linked List In Python\n",
    "\n",
    "Given pointer to the head node of a linked list, the task is to reverse the linked list. We need to reverse the list by changing links between nodes.\n",
    "\n",
    "**Examples:**\n",
    "\n",
    "**Input:** Head of following linked list  \n",
    "1->2->3->4->NULL  \n",
    "**Output:** Linked list should be changed to,  \n",
    "4->3->2->1->NULL\n",
    "\n",
    "**Input:** Head of following linked list  \n",
    "1->2->3->4->5->NULL  \n",
    "**Output:** Linked list should be changed to,  \n",
    "5->4->3->2->1->NULL\n",
    "\n",
    "**Input:** NULL  \n",
    "**Output:** NULL\n",
    "\n",
    "**Input:** 1->NULL  \n",
    "**Output:** 1->NULL\n",
    "### Using Stack Method"
   ]
  },
  {
   "cell_type": "code",
   "execution_count": 8,
   "id": "ba4c81a0",
   "metadata": {},
   "outputs": [
    {
     "name": "stdout",
     "output_type": "stream",
     "text": [
      "10\n",
      "20\n",
      "30\n",
      "40\n",
      "\n",
      "40\n",
      "30\n",
      "20\n",
      "10\n",
      "\n"
     ]
    }
   ],
   "source": [
    "class Node:\n",
    "    def __init__(self, k):\n",
    "        self.key = k\n",
    "        self.next = None\n",
    "        \n",
    "def reverseList(head):\n",
    "    stack=[]\n",
    "    curr=head\n",
    "    while curr!=None:\n",
    "        stack.append(curr.key)\n",
    "        curr=curr.next\n",
    "    curr=head\n",
    "    while curr!=None:\n",
    "        curr.key=stack.pop()\n",
    "        curr=curr.next\n",
    "    return head\n",
    "\n",
    "def printList(head):\n",
    "    curr = head\n",
    "    while curr != None:\n",
    "        print(curr.key)\n",
    "        curr = curr.next\n",
    "    print()\n",
    "\n",
    "\n",
    "head = Node(10)\n",
    "head.next = Node(20)\n",
    "head.next.next = Node(30)\n",
    "head.next.next.next = Node(40)\n",
    "\n",
    "printList(head)\n",
    "\n",
    "head = reverseList(head)\n",
    "\n",
    "printList(head)"
   ]
  },
  {
   "cell_type": "markdown",
   "id": "de497ed5",
   "metadata": {},
   "source": [
    "### Efficient Method"
   ]
  },
  {
   "cell_type": "code",
   "execution_count": 9,
   "id": "15b2985c",
   "metadata": {},
   "outputs": [
    {
     "name": "stdout",
     "output_type": "stream",
     "text": [
      "10\n",
      "20\n",
      "30\n",
      "40\n",
      "\n",
      "40\n",
      "30\n",
      "20\n",
      "10\n",
      "\n"
     ]
    }
   ],
   "source": [
    "class Node:\n",
    "    def __init__(self, k):\n",
    "        self.key = k\n",
    "        self.next = None\n",
    "        \n",
    "def reverseList(head):\n",
    "    curr=head\n",
    "    prev=None\n",
    "    while curr!=None:\n",
    "        next=curr.next\n",
    "        curr.next=prev\n",
    "        prev=curr\n",
    "        curr=next\n",
    "    return prev\n",
    "\n",
    "def printList(head):\n",
    "    curr = head\n",
    "    while curr != None:\n",
    "        print(curr.key)\n",
    "        curr = curr.next\n",
    "    print()\n",
    "\n",
    "\n",
    "head = Node(10)\n",
    "head.next = Node(20)\n",
    "head.next.next = Node(30)\n",
    "head.next.next.next = Node(40)\n",
    "\n",
    "printList(head)\n",
    "\n",
    "head = reverseList(head)\n",
    "\n",
    "printList(head)"
   ]
  },
  {
   "cell_type": "markdown",
   "id": "28eea568",
   "metadata": {},
   "source": [
    "## Recursive Reverse A Linked List (Part 1)\n",
    "\n",
    "Given a pointer to the head node of a linked list, the task is to recursively reverse the linked list. We need to reverse the list by changing links between nodes.\n",
    "\n",
    "The idea is to reach the last node of the linked list using recursion, then start reversing the linked list.\n"
   ]
  },
  {
   "cell_type": "code",
   "execution_count": 10,
   "id": "3ae91023",
   "metadata": {},
   "outputs": [
    {
     "name": "stdout",
     "output_type": "stream",
     "text": [
      "10\n",
      "20\n",
      "30\n",
      "40\n",
      "\n",
      "40\n",
      "30\n",
      "20\n",
      "10\n",
      "\n"
     ]
    }
   ],
   "source": [
    "class Node:\n",
    "    def __init__(self, k):\n",
    "        self.key = k\n",
    "        self.next = None\n",
    "\n",
    "\n",
    "def reverseList(head):\n",
    "    if head==None:\n",
    "        return head\n",
    "    if head.next==None:\n",
    "        return head\n",
    "    rest_head=reverseList(head.next)\n",
    "    rest_tail=head.next\n",
    "    rest_tail.next=head\n",
    "    head.next=None\n",
    "    return rest_head\n",
    "\n",
    "\n",
    "def printList(head):\n",
    "    curr = head\n",
    "    while curr != None:\n",
    "        print(curr.key)\n",
    "        curr = curr.next\n",
    "    print()\n",
    "\n",
    "\n",
    "head = Node(10)\n",
    "head.next = Node(20)\n",
    "head.next.next = Node(30)\n",
    "head.next.next.next = Node(40)\n",
    "\n",
    "printList(head)\n",
    "\n",
    "head = reverseList(head)\n",
    "\n",
    "printList(head)"
   ]
  },
  {
   "cell_type": "markdown",
   "id": "be8fc532",
   "metadata": {},
   "source": [
    "## Recursive Reverse A Linked List (Part 2)\n",
    "\n",
    "In this part, the idea is to first reverse the current list and then recursively call for the remaining list.\n"
   ]
  },
  {
   "cell_type": "code",
   "execution_count": 12,
   "id": "0d844943",
   "metadata": {},
   "outputs": [
    {
     "name": "stdout",
     "output_type": "stream",
     "text": [
      "10\n",
      "20\n",
      "30\n",
      "40\n",
      "\n",
      "40\n",
      "30\n",
      "20\n",
      "10\n",
      "\n"
     ]
    }
   ],
   "source": [
    "class Node:\n",
    "    def __init__(self, k):\n",
    "        self.key = k\n",
    "        self.next = None\n",
    "\n",
    "\n",
    "def reverseList(curr,prev = None):\n",
    "    if curr==None:\n",
    "        return prev\n",
    "    next=curr.next\n",
    "    curr.next=prev\n",
    "    return reverseList(next,curr)\n",
    "\n",
    "\n",
    "\n",
    "def printList(head):\n",
    "    curr = head\n",
    "    while curr != None:\n",
    "        print(curr.key)\n",
    "        curr = curr.next\n",
    "    print()\n",
    "\n",
    "\n",
    "head = Node(10)\n",
    "head.next = Node(20)\n",
    "head.next.next = Node(30)\n",
    "head.next.next.next = Node(40)\n",
    "\n",
    "printList(head)\n",
    "\n",
    "head = reverseList(head)\n",
    "\n",
    "printList(head)"
   ]
  }
 ],
 "metadata": {
  "kernelspec": {
   "display_name": "Python 3 (ipykernel)",
   "language": "python",
   "name": "python3"
  },
  "language_info": {
   "codemirror_mode": {
    "name": "ipython",
    "version": 3
   },
   "file_extension": ".py",
   "mimetype": "text/x-python",
   "name": "python",
   "nbconvert_exporter": "python",
   "pygments_lexer": "ipython3",
   "version": "3.9.13"
  }
 },
 "nbformat": 4,
 "nbformat_minor": 5
}
