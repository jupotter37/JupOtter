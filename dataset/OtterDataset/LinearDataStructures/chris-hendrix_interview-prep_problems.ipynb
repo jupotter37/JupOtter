{
 "cells": [
  {
   "attachments": {},
   "cell_type": "markdown",
   "metadata": {},
   "source": [
    "# Problems"
   ]
  },
  {
   "cell_type": "code",
   "execution_count": 3,
   "metadata": {},
   "outputs": [],
   "source": [
    "%load_ext autoreload\n",
    "%autoreload 2"
   ]
  },
  {
   "attachments": {},
   "cell_type": "markdown",
   "metadata": {},
   "source": [
    "## Arrays & Hashing"
   ]
  },
  {
   "attachments": {},
   "cell_type": "markdown",
   "metadata": {},
   "source": [
    "### [[Easy] Two sum (unsorted)](https://leetcode.com/problems/two-sum/)\n",
    "Given an array of integers nums and an integer target, return indices of the two numbers such that they add up to target.\n",
    "\n",
    "**Notes**: use map of `memo[val] = i`, `O(n)` "
   ]
  },
  {
   "cell_type": "code",
   "execution_count": 1,
   "metadata": {},
   "outputs": [
    {
     "name": "stdout",
     "output_type": "stream",
     "text": [
      "[1, 0]\n"
     ]
    }
   ],
   "source": [
    "def two_sum(nums, target):\n",
    "    memo = {}\n",
    "    for i in range(len(nums)):\n",
    "        diff = target - nums[i]\n",
    "        if diff in memo:\n",
    "            return [i, memo[diff]]\n",
    "        memo[nums[i]] = i\n",
    "print(two_sum([2,7,11,15], 9))"
   ]
  },
  {
   "attachments": {},
   "cell_type": "markdown",
   "metadata": {},
   "source": [
    "### [[Medium] Top K Frequent Elements](https://leetcode.com/problems/top-k-frequent-elements/)\n",
    "Return the top k elements in an array\n",
    "\n",
    "**Notes**: create count map, freq map, and append results for `O(n)`"
   ]
  },
  {
   "cell_type": "code",
   "execution_count": 1,
   "metadata": {},
   "outputs": [
    {
     "name": "stdout",
     "output_type": "stream",
     "text": [
      "[1, 2]\n"
     ]
    }
   ],
   "source": [
    "def top_k_freq(nums, k):\n",
    "    counts, freq = {}, {i: [] for i in range(len(nums), 0, -1)}\n",
    "    for n in nums:\n",
    "        counts[n] = 1 + counts.get(n, 0)\n",
    "    for n, count in counts.items():\n",
    "        freq[count].append(n)\n",
    "\n",
    "    results = []\n",
    "    for count, arr in freq.items():\n",
    "        if len(arr) > k: break\n",
    "        results.extend(arr)\n",
    "    return results[0:k]\n",
    "\n",
    "nums, k = [1,1,1,2,2,3], 2\n",
    "print(top_k_freq(nums, k))"
   ]
  },
  {
   "attachments": {},
   "cell_type": "markdown",
   "metadata": {},
   "source": [
    "### [[Medium] Longest Consecutive Subsequence](https://leetcode.com/problems/longest-consecutive-sequence/)\n",
    "\n",
    "Return the count of the longest subsequence (2,3,4,...n) in an array\n",
    "\n",
    "**Notes**: use hash map, skip over `n` if `n - 1` is in the map, `O(n)`"
   ]
  },
  {
   "cell_type": "code",
   "execution_count": 2,
   "metadata": {},
   "outputs": [
    {
     "name": "stdout",
     "output_type": "stream",
     "text": [
      "4\n"
     ]
    }
   ],
   "source": [
    "def longest_consecutive(nums):\n",
    "    longest = 0\n",
    "    num_set = set(nums)\n",
    "    for num in num_set:\n",
    "        prev_num, next_num = num - 1, num + 1\n",
    "        if prev_num in num_set: continue\n",
    "        current = 1\n",
    "        while next_num in num_set:\n",
    "            current += 1\n",
    "            next_num += 1\n",
    "        longest = max(longest, current)\n",
    "    return longest\n",
    "\n",
    "print(longest_consecutive([100,4,200,1,3,2]))"
   ]
  },
  {
   "attachments": {},
   "cell_type": "markdown",
   "metadata": {},
   "source": [
    "## Two pointers"
   ]
  },
  {
   "attachments": {},
   "cell_type": "markdown",
   "metadata": {},
   "source": [
    "### [[Easy] Valid Palindrome](https://leetcode.com/problems/valid-palindrome/)\n",
    "Given a string s, return true if it is a palindrome, or false otherwise.\n",
    "\n",
    "**Notes**: two pointers moving inward, skip over `not s[i].isalnum()` on both sides, `O(n)`"
   ]
  },
  {
   "cell_type": "code",
   "execution_count": 2,
   "metadata": {},
   "outputs": [
    {
     "name": "stdout",
     "output_type": "stream",
     "text": [
      "True\n"
     ]
    }
   ],
   "source": [
    "def is_palindrome(s):\n",
    "    i, j = 0, len(s) - 1\n",
    "    while i < j:\n",
    "        while i < j and not s[i].isalnum():\n",
    "            i += 1\n",
    "        while i < j and not s[j].isalnum():\n",
    "            j -= 1\n",
    "        if s[i].lower() != s[j].lower():\n",
    "            return False\n",
    "        i += 1; j -= 1\n",
    "    return True\n",
    "\n",
    "s = \"A man, a plan, a canal: Panama\"\n",
    "print(is_palindrome(s))"
   ]
  },
  {
   "attachments": {},
   "cell_type": "markdown",
   "metadata": {},
   "source": [
    "### [[Medium] 3Sum](https://leetcode.com/problems/3sum/)\n",
    "Given an integer array nums, return all the triplets [nums[i], nums[j], nums[k]] such that i != j, i != k, and j != k, and nums[i] + nums[j] + nums[k] == 0.\n",
    "\n",
    "**Notes**: double loop (loop thru n, then thru [sorted two sum with two pointers](https://leetcode.com/problems/two-sum-ii-input-array-is-sorted/) (sorted two sum), remember to skip duplicates in both loops, `O(nlogn) + O(n2) = O(n2)`\n"
   ]
  },
  {
   "cell_type": "code",
   "execution_count": 24,
   "metadata": {},
   "outputs": [
    {
     "name": "stdout",
     "output_type": "stream",
     "text": [
      "O(nlogn) + O(n2) = O(n2)\n",
      "[[-1, -1, 2], [-1, 0, 1]]\n"
     ]
    }
   ],
   "source": [
    "def three_sum(nums):\n",
    "    results = []\n",
    "    nums.sort()\n",
    "    for i, val in enumerate(nums):\n",
    "        if i > 0 and val == nums[i - 1]:\n",
    "            continue  # skip duplicates\n",
    "        l, r = i + 1, len(nums) - 1\n",
    "        while l < r:  # two sum ii\n",
    "            result = [val, nums[l], nums[r]]\n",
    "            three_sum = sum(result)\n",
    "            if three_sum > 0: r -= 1\n",
    "            elif three_sum < 0: l += 1\n",
    "            else:\n",
    "                results.append(result)\n",
    "                l += 1\n",
    "                while nums[l] == nums[l - 1] and l < r:\n",
    "                    l += 1  # skip duplicates\n",
    "    return results\n",
    "\n",
    "nums = [-1,0,1,2,-1,-4]\n",
    "print(three_sum(nums))"
   ]
  },
  {
   "attachments": {},
   "cell_type": "markdown",
   "metadata": {},
   "source": [
    "## Sliding Window"
   ]
  },
  {
   "attachments": {},
   "cell_type": "markdown",
   "metadata": {},
   "source": [
    "### [[Easy] Best Time to Buy And Sell A Stock](https://leetcode.com/problems/best-time-to-buy-and-sell-stock/)\n",
    "\n",
    "Whats the max profit from the list of prices?\n",
    "\n",
    "**Notes**: single pass, keep track of max ahead, `O(n)`"
   ]
  },
  {
   "cell_type": "code",
   "execution_count": 1,
   "metadata": {},
   "outputs": [
    {
     "name": "stdout",
     "output_type": "stream",
     "text": [
      "5\n"
     ]
    }
   ],
   "source": [
    "def max_profit(prices):\n",
    "    max_delta, max_ahead = 0, 0\n",
    "    for price in reversed(prices):\n",
    "        max_ahead = max(max_ahead, price)\n",
    "        max_delta = max(max_delta, max_ahead - price)\n",
    "    return max_delta\n",
    "prices = [7, 1, 5, 3, 6, 4]\n",
    "print(max_profit(prices))"
   ]
  },
  {
   "attachments": {},
   "cell_type": "markdown",
   "metadata": {},
   "source": [
    "### [[Medium] Longest Substring without Repeats](https://leetcode.com/problems/longest-substring-without-repeating-characters/)\n",
    "Given a string s, find the length of the longest substring without repeating characters.\n",
    "\n",
    "**Notes**: store counts in map, `O(2n) = O(n)`"
   ]
  },
  {
   "cell_type": "code",
   "execution_count": null,
   "metadata": {},
   "outputs": [
    {
     "name": "stdout",
     "output_type": "stream",
     "text": [
      "3\n"
     ]
    }
   ],
   "source": [
    "from collections import defaultdict\n",
    "def longest_substring_without_repeats(s):\n",
    "    counts = defaultdict(int)\n",
    "    l, r = 0, 0\n",
    "    max_count = 0\n",
    "\n",
    "    while r < len(s):\n",
    "        # Add the current character to the counts\n",
    "        counts[s[r]] += 1\n",
    "        \n",
    "        # Move the left pointer until there are no duplicates\n",
    "        while counts[s[r]] > 1:\n",
    "            counts[s[l]] -= 1\n",
    "            l += 1\n",
    "        \n",
    "        # Update the maximum length of the substring\n",
    "        max_count = max(max_count, r - l + 1)\n",
    "        \n",
    "        # Move the right pointer\n",
    "        r += 1\n",
    "\n",
    "    return max_count\n",
    "\n",
    "s = \"abcabcbb\"\n",
    "print(longest_substring_without_repeats(s))\n"
   ]
  },
  {
   "attachments": {},
   "cell_type": "markdown",
   "metadata": {},
   "source": [
    "## Stacks and Queues"
   ]
  },
  {
   "attachments": {},
   "cell_type": "markdown",
   "metadata": {},
   "source": [
    "### [[Easy] Valid Parentheses](https://leetcode.com/problems/valid-parentheses)\n",
    "Given a string s containing just the characters '(', ')', '{', '}', '[' and ']', determine if the input string is valid.\n",
    "\n",
    "**Notes**: use queue, edge case: handle closed bracket first, `O(n)`"
   ]
  },
  {
   "cell_type": "code",
   "execution_count": 4,
   "metadata": {},
   "outputs": [
    {
     "name": "stdout",
     "output_type": "stream",
     "text": [
      "True\n"
     ]
    }
   ],
   "source": [
    "import collections\n",
    "def is_valid_parentheses(s):\n",
    "    pmap = {'(': ')', '{': '}', '[': ']'}\n",
    "    opened = collections.deque([])\n",
    "    for c in s:\n",
    "        if c in pmap: opened.appendleft(c)  # hit opened\n",
    "        if c in pmap.values():  # hit closed\n",
    "            if len(opened) == 0 or pmap[opened[0]] != c:\n",
    "                return False\n",
    "            opened.popleft()\n",
    "    return len(opened) == 0\n",
    "\n",
    "s = '()[]'\n",
    "print(is_valid_parentheses(s))"
   ]
  },
  {
   "attachments": {},
   "cell_type": "markdown",
   "metadata": {},
   "source": [
    "## Heaps"
   ]
  },
  {
   "attachments": {},
   "cell_type": "markdown",
   "metadata": {},
   "source": [
    "### [[Hard] Find Median from Data Stream](https://leetcode.com/problems/find-median-from-data-stream)\n",
    "\n",
    "Keep track of the median while given a stream of numbers\n",
    "\n",
    "**Notes**: use two heaps (both halves of the stream), `O(logn) + O(n) = O(n)`"
   ]
  },
  {
   "cell_type": "code",
   "execution_count": 7,
   "metadata": {},
   "outputs": [
    {
     "name": "stdout",
     "output_type": "stream",
     "text": [
      "1.5\n",
      "2\n"
     ]
    }
   ],
   "source": [
    "import heapq\n",
    "\n",
    "class MedianFinder:\n",
    "\n",
    "    def __init__(self):\n",
    "        self.left = []  # max head (store negs)\n",
    "        self.right = []  # min heap\n",
    "        \n",
    "\n",
    "    def addNum(self, num: int) -> None:\n",
    "        # helper functions\n",
    "        def push(heap, val): heapq.heappush(heap, val)\n",
    "        def pop(heap): return heapq.heappop(heap)\n",
    "\n",
    "        # push number to left or right\n",
    "        if self.left and num > abs(self.left[0]):\n",
    "            push(self.right, num)\n",
    "        else:\n",
    "            push(self.left, -1 * num)\n",
    "\n",
    "        # rebalance\n",
    "        if len(self.right) - len(self.left) >= 1:\n",
    "            val = pop(self.right)\n",
    "            push(self.left, -1 * val)\n",
    "        elif len(self.left) - len(self.right) > 1:\n",
    "            val = pop(self.left)\n",
    "            push(self.right, -1 * val)\n",
    "            \n",
    "\n",
    "    def findMedian(self) -> float:\n",
    "        if not self.left:\n",
    "            return None\n",
    "        if len(self.left) > len(self.right):\n",
    "            return -1 * self.left[0]\n",
    "        \n",
    "        return (-1 * self.left[0] + self.right[0]) / 2\n",
    "    \n",
    "mf = MedianFinder()\n",
    "mf.addNum(1), mf.addNum(2), print(mf.findMedian())\n",
    "mf.addNum(3); print(mf.findMedian())"
   ]
  },
  {
   "attachments": {},
   "cell_type": "markdown",
   "metadata": {},
   "source": [
    "## Binary Search"
   ]
  },
  {
   "attachments": {},
   "cell_type": "markdown",
   "metadata": {},
   "source": [
    "### [[Medium] Minimum in Rotated Sorted Array](https://leetcode.com/problems/find-minimum-in-rotated-sorted-array/)\n",
    "\n",
    "Find minimum in `[4,5,6,7,0,1,2]`, `[0,1,2,4,5,6,7]`, etc in `O(logn)` time\n",
    "\n",
    "**Notes**: use binary search, extra condition considering `start`, `O(logn)`"
   ]
  },
  {
   "cell_type": "code",
   "execution_count": 10,
   "metadata": {},
   "outputs": [
    {
     "name": "stdout",
     "output_type": "stream",
     "text": [
      "0\n"
     ]
    }
   ],
   "source": [
    "def find_min_in_rotated_array(nums):\n",
    "    l, r = 0, len(nums) - 1\n",
    "\n",
    "    while l < r:\n",
    "        m = (l + r) // 2\n",
    "        mid, right = nums[m], nums[r]\n",
    "\n",
    "        if mid > right:\n",
    "            l = m + 1  # we know mid is not min\n",
    "        else:\n",
    "            r = m  # we don't know mid is not min\n",
    "    return nums[l]\n",
    "\n",
    "nums = [4,5,6,7,0,1,2]\n",
    "print(find_min_in_rotated_array(nums))"
   ]
  },
  {
   "attachments": {},
   "cell_type": "markdown",
   "metadata": {},
   "source": [
    "### [[Medium] Search in Rotated Sorted Array](https://leetcode.com/problems/search-in-rotated-sorted-array/)\n",
    "\n",
    "Find a target in a rotated sorted array\n",
    "\n",
    "**Notes**: binary search, either the left side is sorted or right, then use normal binary search logic, `O(logn)`"
   ]
  },
  {
   "cell_type": "code",
   "execution_count": 12,
   "metadata": {},
   "outputs": [
    {
     "name": "stdout",
     "output_type": "stream",
     "text": [
      "1\n"
     ]
    }
   ],
   "source": [
    "def search_rotated_array(nums, target):\n",
    "    l, r = 0, len(nums) - 1\n",
    "\n",
    "    while l <= r:\n",
    "        m = (l + r) // 2\n",
    "        left, mid, right = nums[l], nums[m], nums[r]\n",
    "\n",
    "        if mid == target:\n",
    "            return m\n",
    "\n",
    "        if left <= mid:                         # left side sorted\n",
    "            if left <= target < mid: r = m - 1      # target in left\n",
    "            else: l = m + 1                         # target in right\n",
    "        else:                                   # right side sorted\n",
    "            if mid < target <= right: l = m + 1     # target in right\n",
    "            else: r = m - 1                         # target in left\n",
    "    return -1\n",
    "\n",
    "nums = [8,9,2,3,4]; target = 9\n",
    "print(search_rotated_array(nums, target))"
   ]
  },
  {
   "attachments": {},
   "cell_type": "markdown",
   "metadata": {},
   "source": [
    "## Trees"
   ]
  },
  {
   "attachments": {},
   "cell_type": "markdown",
   "metadata": {},
   "source": [
    "### [[Easy] Invert Binary Tree](https://leetcode.com/problems/invert-binary-tree)\n",
    "Given the root of a binary tree, invert the tree, and return its root.\n",
    "\n",
    "**Notes**: return the root, set left and right to the recursive invert, `O(n)`"
   ]
  },
  {
   "cell_type": "code",
   "execution_count": 1,
   "metadata": {},
   "outputs": [
    {
     "name": "stdout",
     "output_type": "stream",
     "text": [
      "O(n)\n",
      "  _4_  \n",
      " /   \\ \n",
      " 7   2 \n",
      "/ \\ / \\\n",
      "9 6 3 1\n",
      "  _4_  \n",
      " /   \\ \n",
      " 7   2 \n",
      "/ \\ / \\\n",
      "9 6 3 1\n"
     ]
    }
   ],
   "source": [
    "from lib.tree import Tree\n",
    "def invert_tree(root):\n",
    "    if not root: return\n",
    "    left = invert_tree(root.left)\n",
    "    right = invert_tree(root.right)\n",
    "    root.left = right\n",
    "    root.right = left\n",
    "    return root\n",
    "\n",
    "root = Tree.bst_from_list([4,2,7,1,3,6,9])\n",
    "inverse = invert_tree(root)\n",
    "root.display()\n",
    "inverse.display()"
   ]
  },
  {
   "attachments": {},
   "cell_type": "markdown",
   "metadata": {},
   "source": [
    "### [[Easy] Subtree of Another Tree](https://leetcode.com/problems/subtree-of-another-tree)\n",
    "Is the subtree the bottom of a bigger tree?\n",
    "\n",
    "**Notes**: use two functions: 1) traverse tree 2) check subtree at each node, `O(n*s)`"
   ]
  },
  {
   "cell_type": "code",
   "execution_count": 7,
   "metadata": {},
   "outputs": [
    {
     "name": "stdout",
     "output_type": "stream",
     "text": [
      "False\n"
     ]
    }
   ],
   "source": [
    "from lib.tree import Tree\n",
    "\n",
    "def is_same_tree(node, subnode):\n",
    "    if not node and not subnode: return True\n",
    "    if not node or not subnode: return False\n",
    "    if node.val != subnode.val: return False\n",
    "    left = is_same_tree(node.left, subnode.left)\n",
    "    right = is_same_tree(node.right, subnode.right)\n",
    "    return left and right\n",
    "\n",
    "def is_subtree(node, subnode):\n",
    "    if not node: return False\n",
    "    if not subnode: return True\n",
    "    if is_same_tree(node, subnode): return True\n",
    "    left = is_subtree(node.left, subnode)\n",
    "    right = is_subtree(node.right, subnode)\n",
    "    return left or right\n",
    "\n",
    "root = Tree.bst_from_list([3,4,5,1,2])  # TODO fix\n",
    "subroot = Tree.bst_from_list([4,1,2])\n",
    "print(is_subtree(root, subroot))"
   ]
  },
  {
   "attachments": {},
   "cell_type": "markdown",
   "metadata": {},
   "source": [
    "## Linked Lists"
   ]
  },
  {
   "attachments": {},
   "cell_type": "markdown",
   "metadata": {},
   "source": [
    "### [[Easy] Reverse Linked List](https://leetcode.com/problems/reverse-linked-list)\n",
    "\n",
    "Given the head of a singly linked list, reverse the list, and return the reversed list.\n",
    "\n",
    "**Notes**: one loop, do in O(1) space with temp pointer, `O(n)`"
   ]
  },
  {
   "cell_type": "code",
   "execution_count": 11,
   "metadata": {},
   "outputs": [
    {
     "name": "stdout",
     "output_type": "stream",
     "text": [
      "O(n)\n",
      "(5->4->3->2->1)\n"
     ]
    }
   ],
   "source": [
    "from lib.linked_list import LinkedList\n",
    "def reverse_linked_list(head):\n",
    "    prev = None\n",
    "    curr = head\n",
    "    while curr:\n",
    "        loop_next = curr.next\n",
    "        curr.next = prev\n",
    "        prev = curr\n",
    "        curr = loop_next\n",
    "    return prev\n",
    "\n",
    "arr = [1, 2, 3, 4, 5]\n",
    "head = LinkedList.create_from_arr(arr)\n",
    "print(reverse_linked_list(head))"
   ]
  },
  {
   "attachments": {},
   "cell_type": "markdown",
   "metadata": {},
   "source": [
    "### [[Easy] Merge Two Sorted Linked Lists](https://leetcode.com/problems/merge-two-sorted-lists)\n",
    "\n",
    "**Notes**: use prehead, `O(n)`"
   ]
  },
  {
   "cell_type": "code",
   "execution_count": 1,
   "metadata": {},
   "outputs": [
    {
     "name": "stdout",
     "output_type": "stream",
     "text": [
      "(1->1->2->3->4->4)\n"
     ]
    }
   ],
   "source": [
    "from lib.linked_list import LinkedList, ListNode\n",
    "def merge_two_lists(list1, list2):\n",
    "    prehead = ListNode(val=None)\n",
    "    node = prehead\n",
    "    while list1 and list2:\n",
    "        if list1.val <= list2.val:\n",
    "            node.next = list1\n",
    "            list1 = list1.next\n",
    "        else:\n",
    "            node.next = list2\n",
    "            list2 = list2.next\n",
    "        node = node.next\n",
    "    if list1: node.next = list1\n",
    "    if list2: node.next = list2\n",
    "    return prehead.next\n",
    "\n",
    "list1 = LinkedList.create_from_arr([1,2,4])\n",
    "list2 = LinkedList.create_from_arr([1,3,4])\n",
    "print(merge_two_lists(list1, list2))"
   ]
  },
  {
   "attachments": {},
   "cell_type": "markdown",
   "metadata": {},
   "source": [
    "### [[Medium] Reorder List](https://leetcode.com/problems/reorder-list)\n",
    "\n",
    "Order a linked list as follows `[0, n, 1, n-1, 2, n-2, ...]`\n",
    "\n",
    "**Notes**: find middle, create reverse from mid, merge head with reverse, `O(n)`"
   ]
  },
  {
   "cell_type": "code",
   "execution_count": 1,
   "metadata": {},
   "outputs": [
    {
     "name": "stdout",
     "output_type": "stream",
     "text": [
      "(1->5->2->4->3)\n"
     ]
    }
   ],
   "source": [
    "from lib.linked_list import LinkedList, ListNode\n",
    "\n",
    "def reorder_list(head):\n",
    "    \n",
    "    slow = fast = head  # find middle node\n",
    "    while fast and fast.next:\n",
    "        slow = slow.next; fast = fast.next.next\n",
    " \n",
    "    prev, curr = None, slow  # reverse from mid\n",
    "    while curr:\n",
    "        curr.next, prev, curr = prev, curr, curr.next\n",
    "\n",
    "    first, second = head, prev  # merge two lists\n",
    "    while second.next:\n",
    "        first.next, first = second, first.next\n",
    "        second.next, second = first, second.next\n",
    "\n",
    "head = LinkedList.create_from_arr([1,2,3,4,5])\n",
    "reorder_list(head)\n",
    "print(head)"
   ]
  },
  {
   "attachments": {},
   "cell_type": "markdown",
   "metadata": {},
   "source": [
    "### [[Hard] Merge K Sorted Lists](https://leetcode.com/problems/merge-k-sorted-lists/)\n",
    "\n",
    "**Notes**: User merge_two with merge_sort (divide and conquer), `O(nlogk)`"
   ]
  },
  {
   "cell_type": "code",
   "execution_count": 2,
   "metadata": {},
   "outputs": [
    {
     "name": "stdout",
     "output_type": "stream",
     "text": [
      "(1->1->2->2->3->4->4->6)\n"
     ]
    }
   ],
   "source": [
    "def merge_k_lists(lists):\n",
    "    if len(lists) == 0: return None\n",
    "    if len(lists) == 1: return lists[0]\n",
    "    mid = len(lists) // 2\n",
    "    left = merge_k_lists(lists[0:mid])\n",
    "    right = merge_k_lists(lists[mid:])\n",
    "    return merge_two_lists(left, right)\n",
    "\n",
    "print(merge_k_lists([\n",
    "    LinkedList.create_from_arr([1,2,4]),\n",
    "    LinkedList.create_from_arr([1,3,4]),\n",
    "    LinkedList.create_from_arr([2,6])\n",
    "]))"
   ]
  },
  {
   "attachments": {},
   "cell_type": "markdown",
   "metadata": {},
   "source": [
    "## Graphs"
   ]
  },
  {
   "attachments": {},
   "cell_type": "markdown",
   "metadata": {},
   "source": [
    "### [[Medium] Number of Islands](https://leetcode.com/problems/number-of-islands/)\n",
    "Given an m x n 2D binary grid grid which represents a map of '1's (land) and '0's (water), return the number of islands.\n",
    "\n",
    "**Notes**: BFS and switch each visited node to '0', `O(n+m)`"
   ]
  },
  {
   "cell_type": "code",
   "execution_count": 1,
   "metadata": {},
   "outputs": [
    {
     "name": "stdout",
     "output_type": "stream",
     "text": [
      "1\n"
     ]
    }
   ],
   "source": [
    "def num_islands(grid):\n",
    "    def visit(grid, i, j):\n",
    "        if not 0 <= i < len(grid): return\n",
    "        if not 0 <= j < len(grid[0]): return\n",
    "        if grid[i][j] == '0': return\n",
    "\n",
    "        grid[i][j] = '0'\n",
    "        visit(grid, i + 1, j)  # down\n",
    "        visit(grid, i, j + 1)  # right\n",
    "        visit(grid, i - 1, j)  # up\n",
    "        visit(grid, i, j - 1)  # left\n",
    "\n",
    "    count = 0\n",
    "    for i in range(len(grid)):\n",
    "        for j in range(len(grid[0])):\n",
    "            if grid[i][j] == '1':\n",
    "                visit(grid, i, j)\n",
    "                count += 1\n",
    "    return count\n",
    "\n",
    "grid = [\n",
    "  [\"1\",\"1\",\"1\",\"1\",\"0\"],\n",
    "  [\"1\",\"1\",\"0\",\"1\",\"0\"],\n",
    "  [\"1\",\"1\",\"0\",\"0\",\"0\"],\n",
    "  [\"0\",\"0\",\"0\",\"0\",\"0\"]\n",
    "]\n",
    "print(num_islands(grid))"
   ]
  },
  {
   "attachments": {},
   "cell_type": "markdown",
   "metadata": {},
   "source": [
    "### [[Medium] Number of Connected Components In An Undirected Graph](https://neetcode.io/practice#:~:text=Number%20of%20Connected%20Components%20In%20An%20Undirected%20Graph)\n",
    "\n",
    "Find the number of connected graphs from a list\n",
    "\n",
    "**Notes** build adj array (both direction bc undirected), dfs while keeping track of visited, `O(E+V)`"
   ]
  },
  {
   "cell_type": "code",
   "execution_count": 1,
   "metadata": {},
   "outputs": [
    {
     "name": "stdout",
     "output_type": "stream",
     "text": [
      "2\n"
     ]
    }
   ],
   "source": [
    "def count_components(n, edges):\n",
    "    adj = {i: [] for i in range(n)}\n",
    "    for edge in edges:  # no direction\n",
    "        adj[edge[0]].append(edge[1])\n",
    "        adj[edge[1]].append(edge[0])\n",
    "\n",
    "    visited = set()\n",
    "    def dfs(i):\n",
    "        if i in visited: return\n",
    "        visited.add(i)\n",
    "        for child in adj[i]: dfs(child)\n",
    "        return 1\n",
    "            \n",
    "    count = 0\n",
    "    for i in range(n):\n",
    "        if i in visited: continue\n",
    "        count += dfs(i)\n",
    "    return count\n",
    "\n",
    "n = 5\n",
    "edges = [[0,1],[1,2],[3,4]]\n",
    "print(count_components(n, edges))"
   ]
  },
  {
   "attachments": {},
   "cell_type": "markdown",
   "metadata": {},
   "source": [
    "### [[Medium] Graph Valid Tree](https://leetcode.com/problems/graph-valid-tree/)\n",
    "\n",
    "Given edges, is it a tree?\n",
    "\n",
    "**Notes**: create adj, check for loops (except prev) via DFS and if every node visited, `O(N)`"
   ]
  },
  {
   "cell_type": "code",
   "execution_count": 1,
   "metadata": {},
   "outputs": [
    {
     "name": "stdout",
     "output_type": "stream",
     "text": [
      "True\n"
     ]
    }
   ],
   "source": [
    "def valid_tree(n, edges):\n",
    "    if len(edges) != n - 1: return False\n",
    "    adj = {i: [] for i in range(n)}\n",
    "    for a, b in edges: adj[a].append(b); adj[b].append(a)\n",
    "    visited = set()\n",
    "\n",
    "    def dfs(node, prev=None):\n",
    "        if node in visited: return False\n",
    "        visited.add(node)\n",
    "        for child in adj[node]:\n",
    "            if child == prev: continue\n",
    "            if not dfs(child, node): return False\n",
    "        return True\n",
    "\n",
    "    return dfs(0) and len(visited) == n\n",
    "\n",
    "print(valid_tree(5, [[0,1],[0,2],[0,3],[1,4]]))"
   ]
  },
  {
   "attachments": {},
   "cell_type": "markdown",
   "metadata": {},
   "source": [
    "## Dynamic Programming"
   ]
  },
  {
   "attachments": {},
   "cell_type": "markdown",
   "metadata": {},
   "source": [
    "### [[Easy] Climbing Stairs](https://leetcode.com/problems/climbing-stairs)\n",
    "You are climbing a staircase. It takes n steps to reach the top.\n",
    "\n",
    "**Notes**: start with the top stair, terminate at 1, `O(n)` with DP"
   ]
  },
  {
   "cell_type": "code",
   "execution_count": 1,
   "metadata": {},
   "outputs": [
    {
     "name": "stdout",
     "output_type": "stream",
     "text": [
      "8\n"
     ]
    }
   ],
   "source": [
    "def climb_stairs(n, memo={}):\n",
    "    if n <= 1: return 1\n",
    "    if n not in memo: memo[n] = climb_stairs(n - 1) + climb_stairs(n - 2)\n",
    "    return memo[n]\n",
    "print(climb_stairs(5))"
   ]
  },
  {
   "attachments": {},
   "cell_type": "markdown",
   "metadata": {},
   "source": [
    "### [[Medium] House Robber](https://leetcode.com/problems/house-robber/)\n",
    "Determine the max you can rob from non-adjacent houses.\n",
    "\n",
    "**Notes**: DO NOT keep track of total, loop thru array, either attempt i + 1 or rob i + 2, `O(n)`"
   ]
  },
  {
   "cell_type": "code",
   "execution_count": 1,
   "metadata": {},
   "outputs": [
    {
     "name": "stdout",
     "output_type": "stream",
     "text": [
      "12\n"
     ]
    }
   ],
   "source": [
    "def rob(i, nums, memo={}):\n",
    "    if i >= len(nums): return 0\n",
    "    if i in memo: return memo[i]\n",
    "    memo[i] = max(rob(i + 1, nums), rob(i + 2, nums) + nums[i])\n",
    "    return memo[i]\n",
    "\n",
    "nums = [2,7,9,3,1]\n",
    "print(rob(0, nums))"
   ]
  },
  {
   "attachments": {},
   "cell_type": "markdown",
   "metadata": {},
   "source": [
    "### [[Medium] Palindromic Substrings](https://leetcode.com/problems/palindromic-substrings/)\n",
    "\n",
    "Given a string s, return the number of palindromic substrings in it.\n",
    "\n",
    "**Notes**: use middle out, inner loop for odds and evens, `O(n^2)`"
   ]
  },
  {
   "cell_type": "code",
   "execution_count": 1,
   "metadata": {},
   "outputs": [
    {
     "name": "stdout",
     "output_type": "stream",
     "text": [
      "7\n"
     ]
    }
   ],
   "source": [
    "def palindromic_substr(s):\n",
    "    count = 0\n",
    "    for pos in range(len(s)):\n",
    "        i, j = pos, pos\n",
    "        while i >= 0 and j < len(s):\n",
    "            if s[i] != s[j]: break\n",
    "            count += 1; i -= 1; j += 1\n",
    "        i, j = pos, pos + 1\n",
    "        while i >= 0 and j < len(s):\n",
    "            if s[i] != s[j]: break\n",
    "            count += 1; i -= 1; j += 1\n",
    "    return count\n",
    "\n",
    "print(palindromic_substr('aaab'))"
   ]
  },
  {
   "attachments": {},
   "cell_type": "markdown",
   "metadata": {},
   "source": [
    "### [[Medium] Word Break](https://leetcode.com/problems/word-break)\n",
    "Can list of words create the string\n",
    "\n",
    "**Notes**: use bottom up dp, start from rear, `O(n^2 * w)`"
   ]
  },
  {
   "cell_type": "code",
   "execution_count": 1,
   "metadata": {},
   "outputs": [
    {
     "name": "stdout",
     "output_type": "stream",
     "text": [
      "True\n"
     ]
    }
   ],
   "source": [
    "def word_break(s, word_dict):\n",
    "    dp = [False] * len(s) + [True]\n",
    "    for i in range(len(s) - 1, -1, -1):\n",
    "        for word in word_dict:\n",
    "            j = i + len(word)\n",
    "            if j > len(s): continue\n",
    "            if s[i:j] == word: dp[i] = dp[j]\n",
    "            if dp[i]: break\n",
    "    return dp[0]\n",
    "\n",
    "s = \"applepenapple\"; word_dict = [\"apple\",\"pen\"]\n",
    "print(word_break(s, word_dict))"
   ]
  },
  {
   "attachments": {},
   "cell_type": "markdown",
   "metadata": {},
   "source": [
    "## Dynamic Programming (2D)"
   ]
  },
  {
   "attachments": {},
   "cell_type": "markdown",
   "metadata": {},
   "source": [
    "### [[Medium] Unique Paths](https://leetcode.com/problems/unique-paths/)\n",
    "Find unique paths on a grid\n",
    "\n",
    "**Notes**: initialize 2D array of 1s and work backwards, `O(m*n)`"
   ]
  },
  {
   "cell_type": "code",
   "execution_count": 1,
   "metadata": {},
   "outputs": [
    {
     "name": "stdout",
     "output_type": "stream",
     "text": [
      "28\n"
     ]
    }
   ],
   "source": [
    "def unique_paths(m, n):\n",
    "    dp = [[1] * n for _ in range(m)]\n",
    "    for r in range(m - 2, -1, -1):\n",
    "        for c in range(n - 2, -1, -1):\n",
    "            right = dp[r][c + 1]\n",
    "            down = dp[r + 1][c]\n",
    "            dp[r][c] = right + down\n",
    "    return dp[0][0]\n",
    "\n",
    "print(unique_paths(3, 7))"
   ]
  },
  {
   "attachments": {},
   "cell_type": "markdown",
   "metadata": {},
   "source": [
    "## Greedy & Backtracking"
   ]
  },
  {
   "attachments": {},
   "cell_type": "markdown",
   "metadata": {},
   "source": [
    "### [[Medium] Maximum Subarray](https://leetcode.com/problems/maximum-subarray)\n",
    "Given an integer array nums, find the subarray with the largest sum, and return its sum.\n",
    "\n",
    "**Notes**: loop starting at 1, update \"runner\" to max(current val, runner), `O(n)`"
   ]
  },
  {
   "cell_type": "code",
   "execution_count": 2,
   "metadata": {},
   "outputs": [
    {
     "name": "stdout",
     "output_type": "stream",
     "text": [
      "6\n"
     ]
    }
   ],
   "source": [
    "def max_subarray(nums):\n",
    "    maxs = run = nums[0]\n",
    "    for i in range(1, len(nums)):\n",
    "        run += nums[i]\n",
    "        if nums[i] > run: run = nums[i]\n",
    "        maxs = max(maxs, run)\n",
    "    return maxs\n",
    "\n",
    "nums = [-2,1,-3,4,-1,2,1,-5,4]\n",
    "print(max_subarray(nums))"
   ]
  },
  {
   "attachments": {},
   "cell_type": "markdown",
   "metadata": {},
   "source": [
    "### [[Medium] Combination Sum](https://leetcode.com/problems/combination-sum/)\n",
    "Given an array of distinct integers candidates and a target integer target, return a list of all unique combinations of candidates where the chosen numbers sum to target. You may return the combinations in any order.\n",
    "\n",
    "**Notes**: use dfs, use order for distinct, max depth is `T/min`, therefore `O(n ^ (T / min + 1))`"
   ]
  },
  {
   "cell_type": "code",
   "execution_count": 10,
   "metadata": {},
   "outputs": [
    {
     "name": "stdout",
     "output_type": "stream",
     "text": [
      "[[2, 2, 2, 2], [2, 3, 3], [3, 5]]\n"
     ]
    }
   ],
   "source": [
    "def combo_sum(target, nums, path=[], results=[], hits=[0]):\n",
    "    if target <= 0:\n",
    "        if target == 0:\n",
    "            results.append(path)\n",
    "        return\n",
    "    for n in nums:\n",
    "        if len(path) > 0 and path[-1] > n: continue  # use order for distinct\n",
    "        combo_sum(target - n, nums, path[:] + [n], results)\n",
    "    return results\n",
    "\n",
    "candidates = [2,3,5]; target = 8\n",
    "print(combo_sum(target, candidates))"
   ]
  },
  {
   "attachments": {},
   "cell_type": "markdown",
   "metadata": {},
   "source": [
    "## Intervals"
   ]
  },
  {
   "attachments": {},
   "cell_type": "markdown",
   "metadata": {},
   "source": [
    "### [[Medium] Insert Interval](https://leetcode.com/problems/insert-interval/)\n",
    "Insert newInterval into intervals such that intervals is still sorted in ascending order by starti and intervals still does not have any overlapping intervals (merge overlapping intervals if necessary).\n",
    "\n",
    "**Notes**: create left, right array, and grow middle interval, `O(n)`"
   ]
  },
  {
   "cell_type": "code",
   "execution_count": 2,
   "metadata": {},
   "outputs": [
    {
     "name": "stdout",
     "output_type": "stream",
     "text": [
      "[[1, 2], [3, 10], [12, 16]]\n"
     ]
    }
   ],
   "source": [
    "def insert_interval(intervals, new_interval):\n",
    "    start, end = new_interval[0], new_interval[1]\n",
    "    left, right = [], []\n",
    "    for interval in intervals:\n",
    "        if interval[1] < start:\n",
    "            left.append(interval)\n",
    "        elif interval[0] > end:\n",
    "            right.append(interval)\n",
    "        else:\n",
    "            start = min(start, interval[0])\n",
    "            end = max(end, interval[1])\n",
    "    return left + [[start, end]] + right\n",
    "\n",
    "intervals = [[1,2],[3,5],[6,7],[8,10],[12,16]]; new_interval = [4,8]\n",
    "print(insert_interval(intervals, new_interval))"
   ]
  },
  {
   "attachments": {},
   "cell_type": "markdown",
   "metadata": {},
   "source": [
    "### [[Medium] Non Overlapping Intervals](https://leetcode.com/problems/non-overlapping-intervals/)\n",
    "\n",
    "Get the min number of removals to make non overlapping intervals\n",
    "\n",
    "**Notes**: draw out diagram, sort then keep only overlapping interval that ends first, `O(nlogn)`"
   ]
  },
  {
   "cell_type": "code",
   "execution_count": 1,
   "metadata": {},
   "outputs": [
    {
     "name": "stdout",
     "output_type": "stream",
     "text": [
      "1\n"
     ]
    }
   ],
   "source": [
    "def erase_overlap_intervals(intervals):\n",
    "        intervals.sort()\n",
    "        count = 0\n",
    "        prev_end = intervals[0][1]\n",
    "        for start, end in intervals[1:]:\n",
    "            if start >= prev_end:\n",
    "                prev_end = end\n",
    "            else:\n",
    "                prev_end = min(prev_end, end)\n",
    "                count += 1\n",
    "        return count\n",
    "print(erase_overlap_intervals([[1,2],[2,3],[3,4],[1,3]]))"
   ]
  },
  {
   "attachments": {},
   "cell_type": "markdown",
   "metadata": {},
   "source": [
    "### [[Medium] Meeting Rooms II](https://leetcode.com/problems/meeting-rooms-ii/)\n",
    "\n",
    "Find max number of overlapping meetings\n",
    "\n",
    "**Notes**: sort, loop thru start times, subtract if a meeting ends, `O(nlogn)`"
   ]
  },
  {
   "cell_type": "code",
   "execution_count": 2,
   "metadata": {},
   "outputs": [
    {
     "name": "stdout",
     "output_type": "stream",
     "text": [
      "3\n"
     ]
    }
   ],
   "source": [
    "def min_meeting_rooms(intervals):\n",
    "    starts = sorted([interval[0] for interval in intervals])\n",
    "    ends = sorted([interval[1] for interval in intervals])\n",
    "\n",
    "    max_count = count = j = 0\n",
    "    for start in starts:\n",
    "        count += 1\n",
    "        while start >= ends[j]:\n",
    "            count -= 1; j += 1\n",
    "        max_count = max(max_count, count)\n",
    "            \n",
    "    return max_count\n",
    "\n",
    "print(min_meeting_rooms([[0, 30],[5,30],[10,20],[25,30]]))"
   ]
  },
  {
   "attachments": {},
   "cell_type": "markdown",
   "metadata": {},
   "source": [
    "## Math"
   ]
  },
  {
   "attachments": {},
   "cell_type": "markdown",
   "metadata": {},
   "source": [
    "### [[Medium] Rotate Image](https://leetcode.com/problems/rotate-image/)\n",
    "You are given an n x n 2D matrix representing an image, rotate the image by 90 degrees (clockwise).\n",
    "\n",
    "**Notes**: rotation is combo of reflections, mirror across vertical then diagonal (only top left corner), `O(n^2)`"
   ]
  },
  {
   "cell_type": "code",
   "execution_count": 2,
   "metadata": {},
   "outputs": [
    {
     "name": "stdout",
     "output_type": "stream",
     "text": [
      "[[7, 4, 1], [8, 5, 2], [9, 6, 3]]\n"
     ]
    }
   ],
   "source": [
    "def rotate_image(matrix):\n",
    "    def swap(matrix, i0, j0, i1, j1):\n",
    "        matrix[i0][j0], matrix[i1][j1] = matrix[i1][j1], matrix[i0][j0]\n",
    "    n = len(matrix)\n",
    "    for i in range(n):  # mirror across vertical line\n",
    "        for j in range(n // 2):\n",
    "            swap(matrix, i, j, i, n - 1 - j)\n",
    "    for i in range(0, n):  # mirror across diagonal\n",
    "        for j in range(0, n - 1 - i):  # top left corner\n",
    "            swap(matrix, i, j, n - 1 - j, n - 1 - i)\n",
    "    return matrix\n",
    "\n",
    "matrix = [[1,2,3],[4,5,6],[7,8,9]]\n",
    "print(rotate_image(matrix))"
   ]
  }
 ],
 "metadata": {
  "kernelspec": {
   "display_name": "venv",
   "language": "python",
   "name": "python3"
  },
  "language_info": {
   "codemirror_mode": {
    "name": "ipython",
    "version": 3
   },
   "file_extension": ".py",
   "mimetype": "text/x-python",
   "name": "python",
   "nbconvert_exporter": "python",
   "pygments_lexer": "ipython3",
   "version": "3.10.12"
  },
  "orig_nbformat": 4
 },
 "nbformat": 4,
 "nbformat_minor": 2
}
