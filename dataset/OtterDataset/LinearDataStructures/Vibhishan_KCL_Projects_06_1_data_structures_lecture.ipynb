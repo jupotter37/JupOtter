{
 "cells": [
  {
   "cell_type": "markdown",
   "metadata": {
    "slideshow": {
     "slide_type": "slide"
    }
   },
   "source": [
    "## <center>Scientific Programming - 7MRI0020 - 2021/2022</center>\n",
    "\n",
    "\n",
    "## <center>Week 06 - Data Structures and Algorithms - Part 01</center>\n",
    "\n",
    "\n",
    "### <center>School of Biomedical Engineering & Imaging Sciences</center>\n",
    "### <center>King's College London</center>"
   ]
  },
  {
   "cell_type": "markdown",
   "metadata": {
    "slideshow": {
     "slide_type": "slide"
    }
   },
   "source": [
    "## What we'll cover\n",
    "* Data structures\n",
    "* Abstract Data Types\n",
    "* Time complexity\n",
    "* Choosing the right one for a task"
   ]
  },
  {
   "cell_type": "markdown",
   "metadata": {
    "slideshow": {
     "slide_type": "slide"
    }
   },
   "source": [
    "## Data Structures\n",
    "* Very simply the internal constructs (ie. objects) for storing data\n",
    "* Many ways exist to store the same data, the choice depends on application, efficiency, or some other quality metric\n",
    "* Already seen these in the primitive types `list`, `dict`, `set`, etc."
   ]
  },
  {
   "cell_type": "markdown",
   "metadata": {
    "slideshow": {
     "slide_type": "slide"
    }
   },
   "source": [
    "* Lists are the simplest type, storing data in some contiguous way\n",
    "* Individual items of data are accessed by index, so need to know size, type, etc. beforehand\n",
    "* Python handles all of these issues for you\n",
    "* For fast lists of numeric values use Numpy arrays"
   ]
  },
  {
   "cell_type": "markdown",
   "metadata": {
    "slideshow": {
     "slide_type": "slide"
    }
   },
   "source": [
    "* We can differentiate between types of data structures\n",
    "  * Collections like `list`, `tuple`, etc. are designed to generically store data objects, they provide routines and facilities related to storage mechanisms only and not for manipulating or computing with the stored data\n",
    "  * Compound data types like a simple vector in 3D space having `x`, `y`, and `z` numeric components or a Numpy array which store a specifically defined sort of data and provide operations over that data"
   ]
  },
  {
   "cell_type": "markdown",
   "metadata": {
    "slideshow": {
     "slide_type": "slide"
    }
   },
   "source": [
    "## Example: Linked List\n",
    "\n",
    "\n",
    "* A list of nodes, each with a data item and a reference to the next (or None) <img src=\"https://upload.wikimedia.org/wikipedia/commons/thumb/6/6d/Singly-linked-list.svg/600px-Singly-linked-list.svg.png\">\n",
    "* Interface works like a sequence, stack, and/or queue"
   ]
  },
  {
   "cell_type": "code",
   "execution_count": 1,
   "metadata": {
    "slideshow": {
     "slide_type": "fragment"
    }
   },
   "outputs": [],
   "source": [
    "class LLNode:\n",
    "    def __init__(self, data, nextNode=None):\n",
    "        self.data = data\n",
    "        self.nextNode = nextNode # None or LLNode instance"
   ]
  },
  {
   "cell_type": "code",
   "execution_count": 2,
   "metadata": {
    "slideshow": {
     "slide_type": "slide"
    }
   },
   "outputs": [],
   "source": [
    "class LinkedList:\n",
    "    def __init__(self):\n",
    "        self.head = None\n",
    "        \n",
    "    def append(self, data):\n",
    "        \"\"\"Add an item to the end of the list.\"\"\"\n",
    "        if self.head is None:\n",
    "            self.head = LLNode(data) # start a new list\n",
    "        else:\n",
    "            tail = self.head\n",
    "            while tail.nextNode is not None: # get tail of list\n",
    "                tail = tail.nextNode\n",
    "                \n",
    "            tail.nextNode = LLNode(data) # add to the tail"
   ]
  },
  {
   "cell_type": "markdown",
   "metadata": {
    "slideshow": {
     "slide_type": "slide"
    }
   },
   "source": [
    "* Could add more methods for putting an item at the front of the list, getting the n'th item, finding an item in list, removal, etc.\n",
    "* This would be used in place of a `list` or other type to take advantage of the time requirements of these operations when appropriate\n",
    "* Internal implementation of the linked list is hidden behind this interface, that is the details are abstracted away from any client\n"
   ]
  },
  {
   "cell_type": "markdown",
   "metadata": {
    "slideshow": {
     "slide_type": "slide"
    }
   },
   "source": [
    "## Abstract Data Type\n",
    "* An abstract data type (ADT) is composed of the two constructs:\n",
    "  * The data definition, stated as a structure of values\n",
    "  * The operations which create and manipulate these structures\n",
    "* Operations are exposed to clients as interface only, hiding the implementation details\n",
    "* This abstraction allows the data structure to be used by clients without knowing anything about internal details\n",
    "* Classes are types of ADTs combining data and operations in a single definition"
   ]
  },
  {
   "cell_type": "markdown",
   "metadata": {
    "slideshow": {
     "slide_type": "slide"
    }
   },
   "source": [
    "## Time Complexity\n",
    "* We estimate the amount of computation time an operation on a collection will take as a proportion of the structure's size\n",
    "* Big-O notation is used to state the estimated worst-case time an operation will require as a function of the size `n`\n",
    "* Eg. if operation `T` must visit each item in a collection and spend the same amount of time on each, the time requirement thus scales linearly with the size of the collection: `T(n) = O(n)`\n",
    "* If a operation `R` must visit the whole collection when visiting each item, then the time scales by the square of the collection size, thus `R(n) = O(n**2)`"
   ]
  },
  {
   "cell_type": "markdown",
   "metadata": {
    "slideshow": {
     "slide_type": "slide"
    }
   },
   "source": [
    "* Big-O notation is an approximation of the runtime cost so there's generally a few classes of complexity almost all algorithms fall into:\n",
    "  * Constant: `O(1)`\n",
    "  * Logarithmic: `O(log n)`\n",
    "  * Linearithmic: `O(n log n)`\n",
    "  * Linear: `O(n)`\n",
    "  * Quadratic: `O(n**2)`\n",
    "  * Polynomial: `O(n**c)`\n",
    "* Non-deterministic polynomial (NP) classes of algorithms exist which (almost certainly) require greater than polynomial time to complete, if one is shown to be in this category it is called NP-complete"
   ]
  },
  {
   "cell_type": "markdown",
   "metadata": {
    "slideshow": {
     "slide_type": "slide"
    }
   },
   "source": [
    "* Consider the `append` operation of the `LinkedList` type\n",
    "* Each node in the list must be visited to find the end node\n",
    "* This would be a linear-time function: `append(n) = O(n)`\n",
    "* Once clue to determining the time complexity of a routine is to see how many loops are nested in one another, `append` has only one loop so `O(n)`"
   ]
  },
  {
   "cell_type": "markdown",
   "metadata": {
    "slideshow": {
     "slide_type": "slide"
    }
   },
   "source": [
    "* Consider a `prepend` operation for `LinkedList`:"
   ]
  },
  {
   "cell_type": "code",
   "execution_count": 3,
   "metadata": {
    "slideshow": {
     "slide_type": "fragment"
    }
   },
   "outputs": [],
   "source": [
    "class LinkedList:\n",
    "    # ---previous definitions here---\n",
    "    def prepend(self,data):\n",
    "        # replace head node, old head becomes next in chain\n",
    "        self.head = LLNode(data, self.head)"
   ]
  },
  {
   "cell_type": "markdown",
   "metadata": {
    "slideshow": {
     "slide_type": "fragment"
    }
   },
   "source": [
    "* Operation not dependent on the size of the list, whether list is empty or massive this will take the same amount of time\n",
    "* A constant-time operation: `prepend(n) = O(1)`"
   ]
  },
  {
   "cell_type": "markdown",
   "metadata": {
    "slideshow": {
     "slide_type": "slide"
    }
   },
   "source": [
    "* `prepend` is going to be a lot faster than `append`, especially as the list grows\n",
    "* Depending on application, using a linked list like this to build a list will be more efficient than using `list` which has to resize allocated storage regularly\n",
    "* Choosing the data structure having operations of the right time complexity is key to fast code"
   ]
  },
  {
   "cell_type": "markdown",
   "metadata": {
    "slideshow": {
     "slide_type": "slide"
    }
   },
   "source": [
    "* Eg.: `set` and `dict` rely on hashable types, ie. they implement `__hash__` returning a semi-unique constant hash value (an `int`)\n",
    "* Internally they stored values with lists called hashtables\n",
    "* Hash values are used to calculate an index in the table\n",
    "* Insertion, search, and other operations on `set` and `dict` thus average `O(1)` time complexity\n",
    "* Using `set` to accumulate unique instances of objects then converting to `list` may be faster than other approaches using lists only"
   ]
  },
  {
   "cell_type": "markdown",
   "metadata": {
    "slideshow": {
     "slide_type": "slide"
    }
   },
   "source": [
    "* Lookup with `in` keyword should be faster then with sets:"
   ]
  },
  {
   "cell_type": "code",
   "execution_count": 4,
   "metadata": {
    "slideshow": {
     "slide_type": "fragment"
    }
   },
   "outputs": [
    {
     "name": "stdout",
     "output_type": "stream",
     "text": [
      "1.65 µs ± 25 ns per loop (mean ± std. dev. of 7 runs, 1000000 loops each)\n",
      "7.83 µs ± 221 ns per loop (mean ± std. dev. of 7 runs, 100000 loops each)\n"
     ]
    }
   ],
   "source": [
    "nums=list(range(1000))\n",
    "\n",
    "%timeit 150 in nums # has to check every element, O(n)\n",
    "%timeit 750 in nums # has to check every element, O(n)"
   ]
  },
  {
   "cell_type": "code",
   "execution_count": 5,
   "metadata": {
    "slideshow": {
     "slide_type": "fragment"
    }
   },
   "outputs": [
    {
     "name": "stdout",
     "output_type": "stream",
     "text": [
      "31.4 ns ± 0.771 ns per loop (mean ± std. dev. of 7 runs, 10000000 loops each)\n",
      "43.2 ns ± 0.598 ns per loop (mean ± std. dev. of 7 runs, 10000000 loops each)\n",
      "30.2 ns ± 0.33 ns per loop (mean ± std. dev. of 7 runs, 10000000 loops each)\n"
     ]
    }
   ],
   "source": [
    "setnums=set(nums)\n",
    "\n",
    "%timeit 150 in setnums # look up position for 150 using hash, O(1)\n",
    "%timeit 750 in setnums # look up position for 750 using hash, O(1)\n",
    "%timeit 1111 in setnums # look up position for 750 using hash, O(1)"
   ]
  },
  {
   "cell_type": "markdown",
   "metadata": {
    "slideshow": {
     "slide_type": "slide"
    }
   },
   "source": [
    "## Set, Dict, Hashable\n",
    "* A hashable object is one implementing `__hash__` which should return a pseudo-unique integer\n",
    "* Hashes must not change throughout the object's lifetime, make sense only for immutable types (eg. `tuple`)\n",
    "* Calculating them is a complex subject for efficiency and security reasons, Python mostly uses the object's memory address\n",
    "* Collisions will occur, depends on implementation how these are handled"
   ]
  },
  {
   "cell_type": "markdown",
   "metadata": {
    "slideshow": {
     "slide_type": "slide"
    }
   },
   "source": [
    "* Hashes are used to calculate an index in a table for fast insertion and lookup\n",
    "* `set` could be implemented as a sparse list of objects of length `n` where the index of an object `a` is `hash(a)%n`\n",
    "* `dict` could be implemented as a set of key-value pairs whose hash is that of the key only\n",
    "* A collision, two distinct objects with the same index, can be addressed by placing the new object below the first one, or having a linked list at each index"
   ]
  },
  {
   "cell_type": "markdown",
   "metadata": {
    "slideshow": {
     "slide_type": "slide"
    }
   },
   "source": [
    "## Other Structures\n",
    "* More complex forms of sequential collections exist:\n",
    "  * Stack: items can only be added to or removed from end of list (LIFO: last-in-first-out)\n",
    "  * Queue: items can only be added to the end but removed from the start (FIFO: first-in-first-out)\n",
    "  * Deque (double-ended queue): items can only be added to the end but removed from start or end\n",
    "  * Priority queue: items are stored in order as defined by a priority criteria, only the highest priority item can be removed"
   ]
  },
  {
   "cell_type": "markdown",
   "metadata": {
    "slideshow": {
     "slide_type": "slide"
    }
   },
   "source": [
    "## Other Structures\n",
    "\n",
    "* Other non-linear collections exist:\n",
    "  * Binary trees: composed of nodes with data plus left and right subnodes\n",
    "  * Red-black trees: binary tree with color assigned to nodes, used to balance tree upon insertionto minimize lookup cost\n",
    "  * Heaps: a type of sorted binary tree stored as lists where element index indicates tree position\n",
    "  * N-ary trees: Same but with up to N subnodes\n",
    "  * Graphs: composed of nodes containing data plus links to any other arbitrary node, if links are directional it is a digraph (graph theory is a huge area)"
   ]
  },
  {
   "cell_type": "markdown",
   "metadata": {
    "slideshow": {
     "slide_type": "slide"
    }
   },
   "source": [
    "# That's it! Questions?\n",
    "\n",
    "## Next: Exercises\n",
    "\n",
    "## Tomorrow: algorithms"
   ]
  }
 ],
 "metadata": {
  "celltoolbar": "Slideshow",
  "kernelspec": {
   "display_name": "Python 3",
   "language": "python",
   "name": "python3"
  },
  "language_info": {
   "codemirror_mode": {
    "name": "ipython",
    "version": 3
   },
   "file_extension": ".py",
   "mimetype": "text/x-python",
   "name": "python",
   "nbconvert_exporter": "python",
   "pygments_lexer": "ipython3",
   "version": "3.8.8"
  }
 },
 "nbformat": 4,
 "nbformat_minor": 2
}
