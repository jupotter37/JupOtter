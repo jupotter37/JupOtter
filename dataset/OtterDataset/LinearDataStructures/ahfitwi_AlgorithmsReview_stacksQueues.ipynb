{
 "cells": [
  {
   "cell_type": "markdown",
   "metadata": {},
   "source": [
    "        Alem Fitwi\n",
    "        PhD Student, Computer Engineering\n",
    "        Binghamton University\n",
    "        June 2018\n",
    "        Binghamton, New York"
   ]
  },
  {
   "cell_type": "markdown",
   "metadata": {},
   "source": [
    "# 5. Stacks and Queues\n",
    "**NB**: No object is explicitly removed when working with Linked Lists. Rather, replaced. In python, you don't need to explicitly delete a reference to object because when an object is not referenced, it is implicitly removed from memory thereby freeing up the memory.\n",
    "\n",
    "# 5.1. Stack\n",
    "\n",
    "               TOP\n",
    "            |       |\n",
    "            |       |\n",
    "            |_______|\n",
    "- A collection of objects\n",
    "- Order --> LIFO, only the most recently inserted object can be removed first\n",
    "- Operations:\n",
    "    - **push(object)**: inserts element or object to the stack \n",
    "    - **pop()**: removes abd retursn an element\n",
    "    - **peek()/top()**: returns the last inserted element \n",
    "    - **len()**: returns the number of elements int he stack\n",
    "    - **isempty()**: checks whether the stack is empty or not\n",
    "- Applications:\n",
    "    - Web browser History\n",
    "    - Undo Operations in editing applications\n",
    "    - HTML Documents tags matching\n",
    "    - Evaluating arithmetic expresions\n",
    "    - Parenthesis\n",
    "    - Infix to postfix conversion"
   ]
  },
  {
   "cell_type": "markdown",
   "metadata": {},
   "source": [
    "### 5.1.1 Implementation Using Arrays --> O(1)\n",
    "- Tuples and Lists use low-level concept of arrays to represent data\n",
    "- Tuples are immutable and cannot be used to implement a Stack\n",
    "- Lists behavior doesn't conform with the Stack Behavior (value can be insert anywhere)\n",
    "- Hence, it is implemented Using Class Stack (User Defined), illustrated below"
   ]
  },
  {
   "cell_type": "code",
   "execution_count": 8,
   "metadata": {},
   "outputs": [],
   "source": [
    "class StackArray:\n",
    "    def __init__(self):\n",
    "        \"\"\"Constructor\"\"\"\n",
    "        self._stack = []\n",
    "    \n",
    "    def __len__(self): # O(1)\n",
    "        return len(self._stack) \n",
    "    \n",
    "    def isempty(self): # O(1)\n",
    "        return len(self._stack) == 0 \n",
    "    \n",
    "    def push(self, e): # O(1)\n",
    "        self._stack.append(e) \n",
    "        \n",
    "    def pop(self): # O(1)\n",
    "        if self.isempty():\n",
    "            print(\"Stack is Empty!\")\n",
    "            return\n",
    "        else:\n",
    "            return self._stack.pop()\n",
    "        \n",
    "    def peek(self):\n",
    "        if self.isempty():\n",
    "            print(\"Stack is Empty!\")\n",
    "            return\n",
    "        else:\n",
    "            return self._stack[-1] "
   ]
  },
  {
   "cell_type": "code",
   "execution_count": 4,
   "metadata": {},
   "outputs": [
    {
     "data": {
      "text/plain": [
       "[1, 2, 3, 4, 5]"
      ]
     },
     "execution_count": 4,
     "metadata": {},
     "output_type": "execute_result"
    }
   ],
   "source": [
    "stack = StackArray()\n",
    "lst = [1,2,3,4,5]\n",
    "\n",
    "for l in lst:\n",
    "    stack.push(l)\n",
    "stack._stack"
   ]
  },
  {
   "cell_type": "code",
   "execution_count": 5,
   "metadata": {},
   "outputs": [
    {
     "data": {
      "text/plain": [
       "5"
      ]
     },
     "execution_count": 5,
     "metadata": {},
     "output_type": "execute_result"
    }
   ],
   "source": [
    "stack.pop()"
   ]
  },
  {
   "cell_type": "code",
   "execution_count": 6,
   "metadata": {},
   "outputs": [
    {
     "data": {
      "text/plain": [
       "4"
      ]
     },
     "execution_count": 6,
     "metadata": {},
     "output_type": "execute_result"
    }
   ],
   "source": [
    "stack.peek()"
   ]
  },
  {
   "cell_type": "code",
   "execution_count": 7,
   "metadata": {},
   "outputs": [
    {
     "data": {
      "text/plain": [
       "False"
      ]
     },
     "execution_count": 7,
     "metadata": {},
     "output_type": "execute_result"
    }
   ],
   "source": [
    "stack.isempty()"
   ]
  },
  {
   "cell_type": "markdown",
   "metadata": {},
   "source": [
    "### 5.1.2 Implementation Using Linked List --> O(1)\n",
    "- LL Insert At Head Operation is synonym to Push Operation of Stack --> O(1)\n",
    "- LL Delete At Head Operation is Synonym to Pop Operation of Stack --> O(1)"
   ]
  },
  {
   "cell_type": "code",
   "execution_count": 14,
   "metadata": {},
   "outputs": [],
   "source": [
    "class _Node:\n",
    "    __slots__ = '_element', '_next'\n",
    "    def __init__(self, e, n):\n",
    "        self._element = e\n",
    "        self._next = n\n",
    "        \n",
    "class StackLinkedList:\n",
    "    def __init__(self):\n",
    "        self._top = None\n",
    "        self._size = 0\n",
    "        \n",
    "    def __len__(self):\n",
    "        return self._size\n",
    "    \n",
    "    def isempty(self): \n",
    "        return self._size == 0 \n",
    "    \n",
    "    def push(self, e): # --> O(1)\n",
    "        new_node = _Node(e, None)\n",
    "        if self.isempty():\n",
    "            self._top = new_node\n",
    "        else:\n",
    "            new_node._next = self._top\n",
    "            self._top = new_node\n",
    "        self._size += 1\n",
    "        \n",
    "    def pop(self): # --> O(1)\n",
    "        if self.isempty():\n",
    "            print(\"Stack is empty!\")\n",
    "            return\n",
    "        else:\n",
    "            e = self._top._element\n",
    "            # No need to remove an object explicitly in py\n",
    "            self._top = self._top._next \n",
    "        self._size -= 1\n",
    "        return e\n",
    "    \n",
    "    def peek(self): # --> O(1)\n",
    "        if self.isempty():\n",
    "            print(\"Stack is empty!\")\n",
    "            return\n",
    "        else:\n",
    "            return self._top._element\n",
    "        \n",
    "    def print_stack(self):\n",
    "        p = self._top\n",
    "        while p:\n",
    "            if p._next != None:\n",
    "                print(p._element, end= ' <-- ')\n",
    "            else:\n",
    "                print(p._element)\n",
    "            p = p._next\n",
    "           "
   ]
  },
  {
   "cell_type": "code",
   "execution_count": 16,
   "metadata": {},
   "outputs": [
    {
     "name": "stdout",
     "output_type": "stream",
     "text": [
      "5 <-- 4 <-- 3 <-- 2 <-- 1\n",
      "4 <-- 3 <-- 2 <-- 1\n"
     ]
    }
   ],
   "source": [
    "stack = StackLinkedList()\n",
    "lst = [1,2,3,4,5]\n",
    "for l in lst:\n",
    "    stack.push(l)\n",
    "stack.print_stack()\n",
    "stack.pop()\n",
    "stack.print_stack()"
   ]
  },
  {
   "cell_type": "markdown",
   "metadata": {},
   "source": [
    "# 5.2 Queue\n",
    "               \n",
    "               ------------------------\n",
    "        Front         QUEUE             Rear\n",
    "               ------------------------\n",
    "- Queue is a collection of Objects\n",
    "- Order --> FIFO\n",
    "- Operations:\n",
    "    - Enqueue(e): insert element at the rear of the QUEUE\n",
    "    - Dequeue(): return firs element from the front of the QUEUE\n",
    "    - peek(): returns the first element\n",
    "    - len(): returns the number of elements in QUEUE\n",
    "    - isempty(): checks whether queue is empty is or not\n",
    "    \n",
    "- Examples:\n",
    "    - People waiting in line for some servcie\n",
    "    - In printers when printing multiple docs: to print one after the other\n",
    "    - Web servers responding to requests\n",
    "    - Computer Applications/Some Algoriths\n",
    "    \n",
    "- Implementations:\n",
    "    - Arrays\n",
    "    - Linked Lists"
   ]
  },
  {
   "cell_type": "markdown",
   "metadata": {},
   "source": [
    "### 5.2.1 Implementation Using Linked List --> O(1)\n",
    "- Tuples and Lists uses low-level concepts of Arrays to represent data\n",
    "- We can use list in a user-defined class to implement a QUEUE because lists as-is don't conform witht he principles of a QUEUE."
   ]
  },
  {
   "cell_type": "code",
   "execution_count": 21,
   "metadata": {},
   "outputs": [],
   "source": [
    "class QueueArray:\n",
    "    def __init__(self):\n",
    "        \"\"\"Constructor\"\"\"\n",
    "        self._queue = []\n",
    "    \n",
    "    def __len__(self): # O(1)\n",
    "        return len(self._queue) \n",
    "    \n",
    "    def isempty(self): # O(1)\n",
    "        return len(self._queue) == 0 \n",
    "    \n",
    "    def enqueue(self, e): # O(1)\n",
    "        self._queue.append(e) \n",
    "        \n",
    "    def dequeue(self): # O(1)\n",
    "        if self.isempty():\n",
    "            print(\"Queue is Empty!\")\n",
    "            return\n",
    "        else:\n",
    "            return self._queue.pop(0)\n",
    "        \n",
    "    def peek(self):# O(1)\n",
    "        if self.isempty():\n",
    "            print(\"Stack is Empty!\")\n",
    "            return\n",
    "        else:\n",
    "            return self._queue[0] "
   ]
  },
  {
   "cell_type": "code",
   "execution_count": 22,
   "metadata": {},
   "outputs": [
    {
     "data": {
      "text/plain": [
       "[1, 2, 3, 4, 5]"
      ]
     },
     "execution_count": 22,
     "metadata": {},
     "output_type": "execute_result"
    }
   ],
   "source": [
    "queue = QueueArray()\n",
    "lst = [1,2,3,4,5]\n",
    "\n",
    "for l in lst:\n",
    "    queue.enqueue(l)\n",
    "queue._queue"
   ]
  },
  {
   "cell_type": "code",
   "execution_count": 23,
   "metadata": {},
   "outputs": [
    {
     "data": {
      "text/plain": [
       "1"
      ]
     },
     "execution_count": 23,
     "metadata": {},
     "output_type": "execute_result"
    }
   ],
   "source": [
    "queue.dequeue()"
   ]
  },
  {
   "cell_type": "code",
   "execution_count": 24,
   "metadata": {},
   "outputs": [
    {
     "data": {
      "text/plain": [
       "2"
      ]
     },
     "execution_count": 24,
     "metadata": {},
     "output_type": "execute_result"
    }
   ],
   "source": [
    "queue.peek()"
   ]
  },
  {
   "cell_type": "markdown",
   "metadata": {},
   "source": [
    "### 5.2.2 Implementation Using Linked List --> O(1)\n",
    "- LL Insert At Tail Operation is synonym to Enqueue Operation of Queue --> O(1)\n",
    "- LL Delete At Head Operation is Synonym to Dequeue Operation of Queue --> O(1)"
   ]
  },
  {
   "cell_type": "code",
   "execution_count": 39,
   "metadata": {},
   "outputs": [],
   "source": [
    "class _Node:\n",
    "    __slots__ = '_element', '_next'\n",
    "    def __init__(self, e, n):\n",
    "        self._element = e\n",
    "        self._next = n\n",
    "        \n",
    "class QueueLinkedList:\n",
    "    def __init__(self):\n",
    "        self._fron = None\n",
    "        self._rear = None\n",
    "        self._size = 0\n",
    "        \n",
    "    def __len__(self):\n",
    "        return self._size\n",
    "    \n",
    "    def isempty(self): \n",
    "        return self._size == 0 \n",
    "    \n",
    "    def enqueue(self, e): # --> O(1)\n",
    "        new_node = _Node(e, None)\n",
    "        if self.isempty():\n",
    "            self._front = self._rear = new_node\n",
    "        else:\n",
    "            self._rear._next = new_node\n",
    "            self._rear = new_node\n",
    "        self._size += 1\n",
    "        \n",
    "    def dequeue(self): # --> O(1)\n",
    "        if self.isempty():\n",
    "            print(\"Queue is empty!\")\n",
    "            return\n",
    "        else:\n",
    "            e = self._front._element\n",
    "            # No need to remove an object explicitly in py\n",
    "            self._front = self._front._next \n",
    "            \n",
    "        self._size -= 1\n",
    "        \n",
    "        if self.isempty():\n",
    "            self._rear =  None\n",
    "            \n",
    "        return e\n",
    "    \n",
    "    def peek(self): # --> O(1)\n",
    "        if self.isempty():\n",
    "            print(\"Stack is empty!\")\n",
    "            return\n",
    "        else:\n",
    "            return self._first._element\n",
    "        \n",
    "    def print_queue(self):\n",
    "        p = self._front\n",
    "        while p:\n",
    "            if p._next != None:\n",
    "                print(p._element, end= ' <-- ')\n",
    "            else:\n",
    "                print(p._element)\n",
    "            p = p._next\n",
    "        return e\n",
    "           "
   ]
  },
  {
   "cell_type": "code",
   "execution_count": 42,
   "metadata": {},
   "outputs": [
    {
     "name": "stdout",
     "output_type": "stream",
     "text": [
      "1 <-- 2 <-- 3 <-- 4 <-- 5\n",
      "2 <-- 3 <-- 4 <-- 5\n",
      "3 <-- 4 <-- 5\n",
      "4 <-- 5\n",
      "5\n",
      "Queue is empty!\n"
     ]
    }
   ],
   "source": [
    "queue = QueueLinkedList()\n",
    "lst = [1,2,3,4,5]\n",
    "for l in lst:\n",
    "    queue.enqueue(l)\n",
    "queue.print_queue()\n",
    "queue.dequeue()\n",
    "queue.print_queue()\n",
    "queue.dequeue()\n",
    "queue.print_queue()\n",
    "queue.dequeue()\n",
    "queue.print_queue()\n",
    "queue.dequeue()\n",
    "queue.print_queue()\n",
    "queue.dequeue()\n",
    "queue.print_queue()\n",
    "queue.dequeue()\n",
    "queue.print_queue()"
   ]
  },
  {
   "cell_type": "markdown",
   "metadata": {},
   "source": [
    "### 5.2.3 Double-Ended Queue(DEQue)\n",
    "- DEQues are also collection of objects\n",
    "- Supports insertion and deletion at both the front and rear ends of the Queue\n",
    "- Operations:\n",
    "    - add_first(object): inserts element at the front\n",
    "    - add_last(object): inserts element at the rear\n",
    "    - remove_first(): removes an element from teh front & returns the element\n",
    "    - remove_last(): remove element fromt he rear and return the element\n",
    "    - len(): number of elements in the DEque\n",
    "    - first(): retursn the first element\n",
    "    - last(): retursn the last element\n",
    "    - isempty(): checks whether the DEQue is empty or not\n",
    "- Implementations:\n",
    "    - Array\n",
    "    - Linked List\n",
    "    \n",
    "### Array Implementation"
   ]
  },
  {
   "cell_type": "code",
   "execution_count": 55,
   "metadata": {},
   "outputs": [],
   "source": [
    "class DEQuArray:\n",
    "    def __init__(self):\n",
    "        \"\"\"Constructor\"\"\"\n",
    "        self._deque = []\n",
    "    \n",
    "    def __len__(self): # O(1)\n",
    "        return len(self._deque) \n",
    "    \n",
    "    def isempty(self): # O(1)\n",
    "        return len(self._deque) == 0 \n",
    "    \n",
    "    def add_first(self, e): # O(1)\n",
    "        self._deque.insert(0, e) \n",
    "        \n",
    "    def add_last(self, e): # O(1)\n",
    "        self._deque.append(e) \n",
    "        \n",
    "    def remove_first(self): # O(1)\n",
    "        if self.isempty():\n",
    "            print(\"DEQue is Empty!\")\n",
    "            return\n",
    "        else:\n",
    "            return self._deque.pop(0)\n",
    "        \n",
    "    def remove_last(self): # O(1)\n",
    "        if self.isempty():\n",
    "            print(\"DEQue is Empty!\")\n",
    "            return\n",
    "        else:\n",
    "            return self._deque.pop()\n",
    "        \n",
    "    def first(self):# O(1)\n",
    "        if self.isempty():\n",
    "            print(\"Stack is Empty!\")\n",
    "            return\n",
    "        else:\n",
    "            return self._deque[0] \n",
    "        \n",
    "    def last(self):# O(1)\n",
    "        if self.isempty():\n",
    "            print(\"DEQue is Empty!\")\n",
    "            return\n",
    "        else:\n",
    "            return self._deque[-1] "
   ]
  },
  {
   "cell_type": "code",
   "execution_count": 56,
   "metadata": {},
   "outputs": [
    {
     "name": "stdout",
     "output_type": "stream",
     "text": [
      "DEQue: [1, 2, 3, 4, 5]\n",
      "DEQue: [100, 1, 2, 3, 4, 5]\n",
      "DEQue: [1, 2, 3, 4, 5, 200]\n",
      "DEQue: [1, 2, 3, 4, 5]\n",
      "First Ele.:  1\n",
      "Last Ele.:  5\n"
     ]
    }
   ],
   "source": [
    "deque =  DEQuArray()\n",
    "lst = [1,2,3,4,5]\n",
    "for l in lst:\n",
    "    deque.add_last(l)\n",
    "print(\"DEQue:\", deque._deque)\n",
    "deque.add_first(100)\n",
    "print(\"DEQue:\", deque._deque)\n",
    "deque.add_last(200)\n",
    "deque.remove_first()\n",
    "print(\"DEQue:\", deque._deque)\n",
    "deque.remove_last()\n",
    "print(\"DEQue:\", deque._deque)\n",
    "print(\"First Ele.: \", deque.first())\n",
    "print(\"Last Ele.: \", deque.last())"
   ]
  },
  {
   "cell_type": "markdown",
   "metadata": {},
   "source": [
    "### Linked List Implementation"
   ]
  },
  {
   "cell_type": "code",
   "execution_count": 60,
   "metadata": {},
   "outputs": [],
   "source": [
    "class _Node:\n",
    "    __slots__ = '_element', '_next'\n",
    "\n",
    "    def __init__(self, e, n):\n",
    "        self._element = e\n",
    "        self._next = n\n",
    "\n",
    "class DEQueLinked:\n",
    "    def __init__(self):\n",
    "        self._front = None\n",
    "        self._rear = None\n",
    "        self._size = 0\n",
    "\n",
    "    def __len__(self):\n",
    "        return self._size\n",
    "\n",
    "    def isempty(self):\n",
    "        return self._size == 0\n",
    "\n",
    "    def add_last(self, e):\n",
    "        newest = _Node(e, None)\n",
    "        if self.isempty():\n",
    "            self._front = newest\n",
    "        else:\n",
    "            self._rear._next = newest\n",
    "        self._rear = newest\n",
    "        self._size += 1\n",
    "\n",
    "    def add_first(self, e):\n",
    "        newest = _Node(e, None)\n",
    "        if self.isempty():\n",
    "            self._front = newest\n",
    "            self._rear = newest\n",
    "        else:\n",
    "            newest._next = self._front\n",
    "            self._front = newest\n",
    "        self._size += 1\n",
    "\n",
    "    def remove_first(self):\n",
    "        if self.isempty():\n",
    "            print('DEQue is empty')\n",
    "            return\n",
    "        e = self._front._element\n",
    "        self._front = self._front._next\n",
    "        self._size -= 1\n",
    "        if self.isempty():\n",
    "            self._rear = None\n",
    "        return e\n",
    "\n",
    "    def remove_last(self):\n",
    "        if self.isempty():\n",
    "            print('DEQue is empty')\n",
    "            return\n",
    "        p = self._front\n",
    "        i = 1\n",
    "        while i < len(self) - 1:\n",
    "            p = p._next\n",
    "            i = i + 1\n",
    "        self._rear = p\n",
    "        p = p._next\n",
    "        e = p._element\n",
    "        self._rear._next = None\n",
    "        self._size -= 1\n",
    "        return e\n",
    "\n",
    "    def first(self):\n",
    "        if self.isempty():\n",
    "            print('DEQue is empty')\n",
    "            return\n",
    "        return self._front._element\n",
    "\n",
    "    def last(self):\n",
    "        if self.isempty():\n",
    "            print('DEQue is empty')\n",
    "            return\n",
    "        return self._rear._element\n",
    "\n",
    "    def traverse(self):\n",
    "        p = self._front\n",
    "        while p:\n",
    "            if p._next != None:\n",
    "                print(p._element,end=' --> ')\n",
    "            else:\n",
    "                print(p._element)\n",
    "            p = p._next\n",
    "        print()"
   ]
  },
  {
   "cell_type": "code",
   "execution_count": 61,
   "metadata": {},
   "outputs": [
    {
     "name": "stdout",
     "output_type": "stream",
     "text": [
      "3 --> 5 --> 7 --> 12\n",
      "\n",
      "Length: 4\n",
      "3\n",
      "12\n",
      "5 --> 7\n",
      "\n",
      "5\n",
      "7\n"
     ]
    }
   ],
   "source": [
    "D = DEQueLinked()\n",
    "D.add_first(5)\n",
    "D.add_first(3)\n",
    "D.add_last(7)\n",
    "D.add_last(12)\n",
    "D.traverse()\n",
    "print('Length:',len(D))\n",
    "print(D.remove_first())\n",
    "print(D.remove_last())\n",
    "D.traverse()\n",
    "print(D.first())\n",
    "print(D.last())"
   ]
  },
  {
   "cell_type": "code",
   "execution_count": 62,
   "metadata": {},
   "outputs": [],
   "source": [
    "from collections import deque"
   ]
  },
  {
   "cell_type": "code",
   "execution_count": 63,
   "metadata": {},
   "outputs": [
    {
     "data": {
      "text/plain": [
       "['__add__',\n",
       " '__bool__',\n",
       " '__class__',\n",
       " '__contains__',\n",
       " '__copy__',\n",
       " '__delattr__',\n",
       " '__delitem__',\n",
       " '__dir__',\n",
       " '__doc__',\n",
       " '__eq__',\n",
       " '__format__',\n",
       " '__ge__',\n",
       " '__getattribute__',\n",
       " '__getitem__',\n",
       " '__gt__',\n",
       " '__hash__',\n",
       " '__iadd__',\n",
       " '__imul__',\n",
       " '__init__',\n",
       " '__init_subclass__',\n",
       " '__iter__',\n",
       " '__le__',\n",
       " '__len__',\n",
       " '__lt__',\n",
       " '__mul__',\n",
       " '__ne__',\n",
       " '__new__',\n",
       " '__reduce__',\n",
       " '__reduce_ex__',\n",
       " '__repr__',\n",
       " '__reversed__',\n",
       " '__rmul__',\n",
       " '__setattr__',\n",
       " '__setitem__',\n",
       " '__sizeof__',\n",
       " '__str__',\n",
       " '__subclasshook__',\n",
       " 'append',\n",
       " 'appendleft',\n",
       " 'clear',\n",
       " 'copy',\n",
       " 'count',\n",
       " 'extend',\n",
       " 'extendleft',\n",
       " 'index',\n",
       " 'insert',\n",
       " 'maxlen',\n",
       " 'pop',\n",
       " 'popleft',\n",
       " 'remove',\n",
       " 'reverse',\n",
       " 'rotate']"
      ]
     },
     "execution_count": 63,
     "metadata": {},
     "output_type": "execute_result"
    }
   ],
   "source": [
    "dir(deque)"
   ]
  },
  {
   "cell_type": "code",
   "execution_count": 70,
   "metadata": {},
   "outputs": [],
   "source": [
    "q = deque()\n",
    "q.appendleft(6)\n",
    "q.appendleft(7)\n",
    "q.appendleft(8)\n",
    "q.append(100)\n",
    "q.append(101)"
   ]
  },
  {
   "cell_type": "code",
   "execution_count": 71,
   "metadata": {},
   "outputs": [
    {
     "data": {
      "text/plain": [
       "deque([8, 7, 6, 100, 101])"
      ]
     },
     "execution_count": 71,
     "metadata": {},
     "output_type": "execute_result"
    }
   ],
   "source": [
    "q"
   ]
  },
  {
   "cell_type": "markdown",
   "metadata": {},
   "source": [
    "                                        ~END~"
   ]
  }
 ],
 "metadata": {
  "kernelspec": {
   "display_name": "Python 3",
   "language": "python",
   "name": "python3"
  },
  "language_info": {
   "codemirror_mode": {
    "name": "ipython",
    "version": 3
   },
   "file_extension": ".py",
   "mimetype": "text/x-python",
   "name": "python",
   "nbconvert_exporter": "python",
   "pygments_lexer": "ipython3",
   "version": "3.7.6"
  }
 },
 "nbformat": 4,
 "nbformat_minor": 4
}
