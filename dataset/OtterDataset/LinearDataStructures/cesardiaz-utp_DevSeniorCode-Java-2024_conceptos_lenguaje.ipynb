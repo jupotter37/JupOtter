{
 "cells": [
  {
   "cell_type": "markdown",
   "metadata": {},
   "source": [
    "# Conceptos del lenguaje"
   ]
  },
  {
   "cell_type": "markdown",
   "metadata": {},
   "source": [
    "## Estructuras de datos"
   ]
  },
  {
   "cell_type": "markdown",
   "metadata": {},
   "source": [
    "Una **estructura de datos** es una forma particular de organizar y almacenar datos en una computadora para que puedan ser utilizados de manera eficiente. Las estructuras de datos son fundamentales en la programación y el desarrollo de software porque permiten manejar grandes cantidades de información de manera organizada y optimizada.\n",
    "\n",
    "### Tipos de Estructuras de Datos\n",
    "1. **Estructuras de Datos Lineales**:\n",
    "    - **Arreglos (Arrays)**: Colecciones de elementos del mismo tipo, accesibles mediante índices.\n",
    "    - **Listas Enlazadas (Linked Lists)**: Colecciones de nodos donde cada nodo contiene un valor y una referencia al siguiente nodo.\n",
    "    - **Pilas (Stacks)**: Colecciones de elementos que siguen el principio LIFO (Last In, First Out).\n",
    "    - **Colas (Queues)**: Colecciones de elementos que siguen el principio FIFO (First In, First Out).\n",
    "1. **Estructuras de Datos No Lineales**:\n",
    "    - **Árboles (Trees)**: Estructuras jerárquicas con un nodo raíz y nodos hijos. Ejemplos incluyen árboles binarios y árboles de búsqueda binaria.\n",
    "    - **Grafos (Graphs)**: Conjuntos de nodos conectados por aristas, utilizados para representar relaciones entre elementos.\n",
    "1. **Estructuras de Datos Asociativas**:\n",
    "    - **Tablas Hash (Hash Tables)**: Estructuras que asocian claves únicas a valores, permitiendo búsquedas rápidas.\n",
    "    - **Mapas (Maps)**: Colecciones de pares clave-valor, similares a las tablas hash.\n",
    "\n",
    "### Importancia de las Estructuras de Datos\n",
    "- **Eficiencia**: Permiten el acceso y manipulación rápida de datos.\n",
    "- **Organización**: Facilitan la organización lógica de la información.\n",
    "- **Optimización**: Mejoran el rendimiento de los algoritmos y aplicaciones.\n",
    "- **Escalabilidad**: Ayudan a manejar grandes volúmenes de datos sin degradar el rendimiento.\n",
    "\n",
    "En resumen, elegir la estructura de datos adecuada para una tarea específica puede hacer una gran diferencia en la eficiencia y efectividad de un programa."
   ]
  },
  {
   "cell_type": "markdown",
   "metadata": {},
   "source": [
    "## Arrays"
   ]
  },
  {
   "cell_type": "markdown",
   "metadata": {},
   "source": [
    "Un array es una **estructura de datos** que permite almacenar múltiples valores del mismo tipo en una sola variable. Los arrays son útiles cuando necesitas trabajar con una colección de datos y quieres acceder a ellos de manera eficiente.  \n",
    "![Array](https://media.geeksforgeeks.org/wp-content/uploads/array-2.png)"
   ]
  },
  {
   "cell_type": "markdown",
   "metadata": {},
   "source": [
    "### Características\n",
    "1. **Tipo Fijo**: Todos los elementos en un array deben ser del mismo tipo de datos (por ejemplo, todos enteros, todos caracteres, etc.).\n",
    "1. **Tamaño Fijo**: Una vez que se crea un array, su tamaño no puede cambiar. Esto significa que debes saber de antemano cuántos elementos necesitas almacenar.\n",
    "1. **Índices**: Los elementos en un array se acceden mediante índices, que comienzan en `0` y terminan en `n-1`, donde n es el tamaño del array."
   ]
  },
  {
   "cell_type": "markdown",
   "metadata": {},
   "source": [
    "### Declaración y Creación\n",
    "Para declarar un array, especificas el tipo de datos seguido de corchetes. Luego, puedes crear el array usando la palabra clave `new` y especificando el tamaño."
   ]
  },
  {
   "cell_type": "code",
   "execution_count": null,
   "metadata": {},
   "outputs": [],
   "source": [
    "// Declaración de un array de enteros\n",
    "int[] numeros;\n",
    "\n",
    "// Creación de un array de enteros con tamaño 5\n",
    "numeros = new int[5];"
   ]
  },
  {
   "cell_type": "markdown",
   "metadata": {},
   "source": [
    "También puedes combinar la declaración y la creación en una sola línea:"
   ]
  },
  {
   "cell_type": "code",
   "execution_count": null,
   "metadata": {},
   "outputs": [],
   "source": [
    "int[] numeros = new int[5];"
   ]
  },
  {
   "cell_type": "markdown",
   "metadata": {},
   "source": [
    "Puedes inicializar un array con valores específicos en el momento de la declaración."
   ]
  },
  {
   "cell_type": "code",
   "execution_count": null,
   "metadata": {},
   "outputs": [],
   "source": [
    "int[] numeros = {1, 2, 3, 4, 5};"
   ]
  },
  {
   "cell_type": "markdown",
   "metadata": {},
   "source": [
    "### Acceso y Modificación de Elementos\n",
    "Para acceder a un elemento, usas el índice del array. Para modificar un elemento, simplemente asignas un nuevo valor a la posición deseada."
   ]
  },
  {
   "cell_type": "code",
   "execution_count": null,
   "metadata": {},
   "outputs": [],
   "source": [
    "// Acceso al primer elemento\n",
    "int primerNumero = numeros[0];\n",
    "\n",
    "// Modificación del primer elemento\n",
    "numeros[0] = 10;"
   ]
  },
  {
   "cell_type": "markdown",
   "metadata": {},
   "source": [
    "### Recorrer un Array\n",
    "Puedes usar un bucle `for` para recorrer todos los elementos de un array."
   ]
  },
  {
   "cell_type": "code",
   "execution_count": null,
   "metadata": {},
   "outputs": [],
   "source": [
    "for (int i = 0; i < numeros.length; i++) {\n",
    "    System.out.println(\"Número en la posición \" + i + \": \" + numeros[i]);\n",
    "}"
   ]
  },
  {
   "cell_type": "markdown",
   "metadata": {},
   "source": [
    "También, es posible usar el bucle `while` para recorrer todos los elementos."
   ]
  },
  {
   "cell_type": "code",
   "execution_count": null,
   "metadata": {},
   "outputs": [],
   "source": [
    "int i = 0;\n",
    "\n",
    "while (i < numeros.length) {\n",
    "    System.out.println(\"Número en la posición \" + i + \": \" + numeros[i]);\n",
    "    i++;\n",
    "}"
   ]
  },
  {
   "cell_type": "markdown",
   "metadata": {},
   "source": [
    "El bucle `for-each` en Java es una forma simplificada y más legible de recorrer arrays y colecciones. Es especialmente útil cuando no necesitas acceder al índice de los elementos."
   ]
  },
  {
   "cell_type": "code",
   "execution_count": null,
   "metadata": {},
   "outputs": [],
   "source": [
    "for (int numero : numeros) {\n",
    "    System.out.println(\"Número: \" + numero);\n",
    "}"
   ]
  },
  {
   "cell_type": "markdown",
   "metadata": {},
   "source": [
    "### Arrays Multidimensionales\n",
    "También permite crear arrays multidimensionales, como matrices."
   ]
  },
  {
   "cell_type": "code",
   "execution_count": null,
   "metadata": {},
   "outputs": [],
   "source": [
    "// Declaración y creación de un array bidimensional de enteros\n",
    "int[][] matriz = new int[3][3];\n",
    "\n",
    "// Inicialización de un array bidimensional\n",
    "int[][] matriz = {\n",
    "    {1, 2, 3},\n",
    "    {4, 5, 6},\n",
    "    {7, 8, 9}\n",
    "};"
   ]
  },
  {
   "cell_type": "markdown",
   "metadata": {},
   "source": [
    "### Ventajas y Desventajas\n",
    "#### Ventajas:\n",
    "- **Acceso Rápido**: Los arrays permiten el acceso rápido a los elementos mediante índices.\n",
    "- **Uso de Memoria**: Los arrays son eficientes en términos de uso de memoria.\n",
    "#### Desventajas:\n",
    "- **Tamaño Fijo**: No puedes cambiar el tamaño de un array una vez creado.\n",
    "- **Tipo Fijo**: Todos los elementos deben ser del mismo tipo."
   ]
  },
  {
   "cell_type": "code",
   "execution_count": null,
   "metadata": {},
   "outputs": [],
   "source": [
    "public class EjemploArray {\n",
    "    public static void main(String[] args) {\n",
    "        // Declarar e inicializar un array\n",
    "        int[] numeros = {10, 20, 30, 40, 50};\n",
    "\n",
    "        // Recorrer el array y mostrar los valores\n",
    "        for (int i = 0; i < numeros.length; i++) {\n",
    "            System.out.printf(\"Número en la posición %d: %d%n\", i, numeros[i]);\n",
    "        }\n",
    "\n",
    "        // Modificar un elemento del array\n",
    "        numeros[2] = 35;\n",
    "        System.out.println(\"Nuevo valor en la posición 2: \" + numeros[2]);\n",
    "    }\n",
    "}"
   ]
  },
  {
   "cell_type": "markdown",
   "metadata": {},
   "source": [
    "## Clases Generics"
   ]
  },
  {
   "cell_type": "markdown",
   "metadata": {},
   "source": [
    "Los Generics en Java son una característica poderosa introducida en Java 5 que permite definir clases, interfaces y métodos con tipos de datos parametrizados. Esto significa que puedes escribir código que funcione con cualquier tipo de dato, proporcionando mayor flexibilidad y seguridad en tiempo de compilación.\n",
    "\n",
    "Los Generics permiten que los tipos (clases e interfaces) sean parámetros al definir clases, interfaces y métodos. Esto ayuda a crear código más reutilizable y seguro, ya que los errores de tipo se detectan en tiempo de compilación en lugar de en tiempo de ejecución.\n",
    "\n",
    "#### Ventajas\n",
    "- **Seguridad de Tipo**: Los Generics permiten que los errores de tipo se detecten en tiempo de compilación, evitando errores en tiempo de ejecución.\n",
    "- **Reutilización de Código**: Puedes escribir una sola clase o método que funcione con diferentes tipos de datos.\n",
    "- **Eliminación de Casting**: No es necesario realizar conversiones explícitas, lo que hace el código más legible y menos propenso a errores.\n",
    "\n",
    "#### Ejemplo sin Generics"
   ]
  },
  {
   "cell_type": "code",
   "execution_count": null,
   "metadata": {},
   "outputs": [],
   "source": [
    "import java.util.ArrayList;\n",
    "\n",
    "public class SinGenerics {\n",
    "    public static void main(String[] args) {\n",
    "        ArrayList lista = new ArrayList();\n",
    "        lista.add(\"Texto\");\n",
    "        lista.add(123); // Permite añadir cualquier tipo de objeto\n",
    "        \n",
    "        String texto = (String) lista.get(0); // Necesario casting\n",
    "        System.out.println(texto);\n",
    "    }\n",
    "}"
   ]
  },
  {
   "cell_type": "markdown",
   "metadata": {},
   "source": [
    "#### Problemas\n",
    "- **Conversión Explícita**: El uso de casting ((String) lista.get(0)) es propenso a errores en tiempo de ejecución si los tipos no coinciden.\n",
    "- **Seguridad de Tipo**: No hay verificación en tiempo de compilación, lo que puede llevar a errores en tiempo de ejecución si los tipos no se manejan correctamente.\n",
    "\n",
    "#### Ejemplo con Generics\n",
    "Con Generics, el código es más seguro y claro, eliminando la necesidad de casting"
   ]
  },
  {
   "cell_type": "code",
   "execution_count": null,
   "metadata": {},
   "outputs": [],
   "source": [
    "import java.util.ArrayList;\n",
    "\n",
    "public class ConGenerics {\n",
    "    public static void main(String[] args) {\n",
    "        ArrayList<String> lista = new ArrayList<>();\n",
    "        lista.add(\"Texto\");\n",
    "        // lista.add(123); // Error en tiempo de compilación\n",
    "        \n",
    "        String texto = lista.get(0); // No se necesita casting\n",
    "        System.out.println(texto);\n",
    "    }\n",
    "}"
   ]
  },
  {
   "cell_type": "markdown",
   "metadata": {},
   "source": [
    "#### Usando Generics con Tipo de dato especifico\n",
    "Cuando declaras una variable utilizando una clase genérica, debes especificar el tipo de dato que la clase manejará dentro del diamante (`<>`). Esto asegura que la clase genérica sepa qué tipo de datos va a contener y proporciona seguridad de tipo en tiempo de compilación.  \n",
    "Si se define el tipo de dato a contener al inicio de la declaración de variable, no es necesario repetir el tipo de dato en el diamante del lado de la palabra `new`."
   ]
  },
  {
   "cell_type": "code",
   "execution_count": null,
   "metadata": {},
   "outputs": [],
   "source": [
    "Caja<String> cajaDeString = new Caja<>();\n",
    "Caja<Integer> cajaDeInteger = new Caja<>();"
   ]
  },
  {
   "cell_type": "markdown",
   "metadata": {},
   "source": [
    "Desde Java 10, puedes usar la palabra clave `var` para declarar variables locales con inferencia de tipo. En este caso, el tipo de dato que va a contener se sigue definiendo dentro del diamante (`<>`), pero ahora del lado de la palabra `new`."
   ]
  },
  {
   "cell_type": "code",
   "execution_count": null,
   "metadata": {},
   "outputs": [],
   "source": [
    "var cajaDeString = new Caja<String>();\n",
    "var cajaDeInteger = new Caja<Integer>();"
   ]
  },
  {
   "cell_type": "markdown",
   "metadata": {},
   "source": [
    "## Java Collections Framework"
   ]
  },
  {
   "cell_type": "markdown",
   "metadata": {},
   "source": [
    "El **Java Collections Framework** es una parte fundamental de la biblioteca estándar de Java, proporcionando una arquitectura para almacenar y manipular grupos de datos.  \n",
    "![Collection Framework](https://images.javatpoint.com/images/java-collection-hierarchy.png)"
   ]
  },
  {
   "cell_type": "markdown",
   "metadata": {},
   "source": [
    "### 1. List (Listas)"
   ]
  },
  {
   "cell_type": "markdown",
   "metadata": {},
   "source": [
    "Una **List** es una colección ordenada que permite elementos duplicados. Los elementos en una lista pueden ser accedidos por su posición (índice) en la lista.  \n",
    "![List](https://media.geeksforgeeks.org/wp-content/cdn-uploads/20200922124319/Singly-Linked-List1.png)\n",
    "\n",
    "#### Características\n",
    "- **Ordenada**: Mantiene el orden de inserción de los elementos.\n",
    "- **Acceso por índice**: Permite acceder a los elementos mediante un índice, similar a un array.\n",
    "- **Duplicados permitidos**: Acepta elementos duplicados, a diferencia de otras colecciones como Set.\n",
    "- **Operaciones básicas**: Incluye operaciones como agregar, eliminar, buscar y ordenar elementos.\n",
    "\n",
    "#### Implementaciones Comunes\n",
    "1. **ArrayList**:  Implementa una lista utilizando un array dinámico. Mantiene el orden de inserción. Es eficiente para acceder a elementos por índice, pero puede ser lento para insertar o eliminar elementos en el medio de la lista"
   ]
  },
  {
   "cell_type": "code",
   "execution_count": null,
   "metadata": {},
   "outputs": [],
   "source": [
    "List<String> frutas = new ArrayList<>();\n",
    "frutas.add(\"Manzana\");\n",
    "frutas.add(\"Banana\");\n",
    "frutas.add(\"Naranja\");\n",
    "System.out.println(frutas.get(1)); "
   ]
  },
  {
   "cell_type": "markdown",
   "metadata": {},
   "source": [
    "2. **LinkedList**: Implementa una lista utilizando una lista doblemente enlazada. Mantiene el orden de inserción. Es eficiente para insertar y eliminar elementos, especialmente en el medio de la lista, pero puede ser más lento para acceder a elementos por índice."
   ]
  },
  {
   "cell_type": "code",
   "execution_count": null,
   "metadata": {},
   "outputs": [],
   "source": [
    "List<String> frutas = new LinkedList<>();\n",
    "frutas.add(\"Manzana\");\n",
    "frutas.add(\"Banana\");\n",
    "frutas.add(\"Naranja\");\n",
    "frutas.remove(1); // Elimina \"Banana\""
   ]
  },
  {
   "cell_type": "markdown",
   "metadata": {},
   "source": [
    "3. **Vector**: Similar a ArrayList, pero es sincronizado, lo que significa que es seguro para el uso en entornos con múltiples hilos. Mantiene el orden de inserción. Es menos común en aplicaciones modernas debido a su sobrecarga de sincronización."
   ]
  },
  {
   "cell_type": "code",
   "execution_count": null,
   "metadata": {},
   "outputs": [],
   "source": [
    "List<String> frutas = new Vector<>();\n",
    "frutas.add(\"Manzana\");\n",
    "frutas.add(\"Banana\");\n",
    "frutas.add(\"Naranja\");"
   ]
  },
  {
   "cell_type": "markdown",
   "metadata": {},
   "source": [
    "#### Ventajas\n",
    "- **Flexibilidad**: Permite almacenar elementos duplicados y acceder a ellos por índice.\n",
    "- **Variedad de Implementaciones**: Diferentes implementaciones permiten elegir la más adecuada según las necesidades de rendimiento y concurrencia.\n",
    "- **Operaciones Completas**: Proporciona una amplia gama de métodos para manipular los elementos de la lista."
   ]
  },
  {
   "cell_type": "markdown",
   "metadata": {},
   "source": [
    "#### Operaciones comunes\n",
    "- `add(E e)`: Añade un elemento al final de la lista.\n",
    "- `get(int index)`: Obtiene el elemento en la posición especificada.\n",
    "- `remove(int index)`: Elimina el elemento en la posición especificada.\n",
    "- `size()`: Devuelve el número de elementos en la lista."
   ]
  },
  {
   "cell_type": "code",
   "execution_count": null,
   "metadata": {},
   "outputs": [],
   "source": [
    "List<String> lista = new ArrayList<>();\n",
    "lista.add(\"Manzana\");\n",
    "lista.add(\"Banana\");\n",
    "System.out.println(lista.get(0)); // Imprime \"Manzana\"\n",
    "lista.remove(1); // Elimina \"Banana\"\n",
    "System.out.println(lista.size()); // Imprime \"1\""
   ]
  },
  {
   "cell_type": "markdown",
   "metadata": {},
   "source": [
    "#### Recorriendo la colección\n",
    "Puedes recorrer una **List** utilizando un bucle `for`, un bucle `for-each` o un `iterador`.\n",
    "\n",
    "##### Ejemplo con `for`"
   ]
  },
  {
   "cell_type": "code",
   "execution_count": null,
   "metadata": {},
   "outputs": [],
   "source": [
    "List<String> lista = new ArrayList<>();\n",
    "lista.add(\"Manzana\");\n",
    "lista.add(\"Banana\");\n",
    "lista.add(\"Naranja\");\n",
    "\n",
    "for (int i = 0; i < lista.size(); i++) {\n",
    "    System.out.println(lista.get(i));\n",
    "}"
   ]
  },
  {
   "cell_type": "markdown",
   "metadata": {},
   "source": [
    "##### Ejemplo con `for-each`"
   ]
  },
  {
   "cell_type": "code",
   "execution_count": null,
   "metadata": {},
   "outputs": [],
   "source": [
    "List<String> lista = new ArrayList<>();\n",
    "lista.add(\"Manzana\");\n",
    "lista.add(\"Banana\");\n",
    "lista.add(\"Naranja\");\n",
    "\n",
    "for (String fruta : lista) {\n",
    "    System.out.println(fruta);\n",
    "}"
   ]
  },
  {
   "cell_type": "markdown",
   "metadata": {},
   "source": [
    "##### Ejemplo con `Iterator`"
   ]
  },
  {
   "cell_type": "code",
   "execution_count": null,
   "metadata": {},
   "outputs": [],
   "source": [
    "List<String> lista = new ArrayList<>();\n",
    "lista.add(\"Manzana\");\n",
    "lista.add(\"Banana\");\n",
    "lista.add(\"Naranja\");\n",
    "\n",
    "Iterator<String> iterador = lista.iterator();\n",
    "while (iterador.hasNext()) {\n",
    "    System.out.println(iterador.next());\n",
    "}"
   ]
  },
  {
   "cell_type": "markdown",
   "metadata": {},
   "source": [
    "### 2. Set (Conjuntos)"
   ]
  },
  {
   "cell_type": "markdown",
   "metadata": {},
   "source": [
    "Un **Set** es una colección que no permite elementos duplicados. Es útil cuando se necesita almacenar elementos únicos.  \n",
    "![Set](https://www.codejava.net/images/articles/javacore/collections/set/SetsInMath.png)\n",
    "\n",
    "#### Características\n",
    "- **Elementos únicos**: No permite elementos duplicados.\n",
    "- **No ordenado**: No garantiza el orden de los elementos, aunque algunas implementaciones sí lo hacen.\n",
    "- **Operaciones básicas**: Incluye operaciones como agregar, eliminar y verificar la presencia de un elemento.\n",
    "\n",
    "#### Implementaciones Comunes\n",
    "1. **HashSet**: Implementa un set utilizando una tabla hash. No garantiza el orden de los elementos. Es eficiente para operaciones de inserción, eliminación y búsqueda."
   ]
  },
  {
   "cell_type": "code",
   "execution_count": null,
   "metadata": {},
   "outputs": [],
   "source": [
    "Set<String> frutas = new HashSet<>();\n",
    "frutas.add(\"Manzana\");\n",
    "frutas.add(\"Banana\");\n",
    "frutas.add(\"Naranja\");\n",
    "frutas.add(\"Manzana\"); // No se agregará ya que es un duplicado"
   ]
  },
  {
   "cell_type": "markdown",
   "metadata": {},
   "source": [
    "2. **LinkedHashSet**: Similar a HashSet, pero mantiene el orden de inserción de los elementos. Útil cuando se necesita mantener el orden de los elementos."
   ]
  },
  {
   "cell_type": "code",
   "execution_count": null,
   "metadata": {},
   "outputs": [],
   "source": [
    "Set<String> frutas = new LinkedHashSet<>();\n",
    "frutas.add(\"Manzana\");\n",
    "frutas.add(\"Banana\");\n",
    "frutas.add(\"Naranja\");"
   ]
  },
  {
   "cell_type": "markdown",
   "metadata": {},
   "source": [
    "3. **TreeSet**: Implementa un set utilizando un árbol rojo-negro. Los elementos se ordenan de manera natural o mediante un comparador. Útil cuando se necesita un set ordenado."
   ]
  },
  {
   "cell_type": "code",
   "execution_count": null,
   "metadata": {},
   "outputs": [],
   "source": [
    "Set<String> frutas = new TreeSet<>();\n",
    "frutas.add(\"Manzana\");\n",
    "frutas.add(\"Banana\");\n",
    "frutas.add(\"Naranja\");"
   ]
  },
  {
   "cell_type": "markdown",
   "metadata": {},
   "source": [
    "#### Ventajas\n",
    "- **Integridad de Datos**: Garantiza que no haya elementos duplicados.\n",
    "- **Eficiencia**: Las operaciones de búsqueda, inserción y eliminación son generalmente rápidas.\n",
    "- **Flexibilidad**: Diferentes implementaciones permiten elegir la más adecuada según las necesidades de orden y rendimiento."
   ]
  },
  {
   "cell_type": "markdown",
   "metadata": {},
   "source": [
    "#### Operaciones comunes\n",
    "- `add(E e)`: Añade un elemento al set si no está ya presente.\n",
    "- `remove(Object o)`: Elimina el elemento especificado del set.\n",
    "- `contains(Object o)`: Devuelve true si el set contiene el elemento especificado.\n",
    "- `size()`: Devuelve el número de elementos en el set."
   ]
  },
  {
   "cell_type": "code",
   "execution_count": null,
   "metadata": {},
   "outputs": [],
   "source": [
    "Set<String> conjunto = new HashSet<>();\n",
    "conjunto.add(\"Manzana\");\n",
    "conjunto.add(\"Banana\");\n",
    "System.out.println(conjunto.contains(\"Manzana\")); // Imprime \"true\"\n",
    "conjunto.remove(\"Banana\");\n",
    "System.out.println(conjunto.size()); // Imprime \"1\""
   ]
  },
  {
   "cell_type": "markdown",
   "metadata": {},
   "source": [
    "#### Recorriendo la colección\n",
    "Un **Set** se puede recorrer de manera similar a una **List** utilizando un bucle `for-each` o un `iterador`.\n",
    "\n",
    "##### Ejemplo con `for-each`"
   ]
  },
  {
   "cell_type": "code",
   "execution_count": null,
   "metadata": {},
   "outputs": [],
   "source": [
    "Set<String> conjunto = new HashSet<>();\n",
    "conjunto.add(\"Manzana\");\n",
    "conjunto.add(\"Banana\");\n",
    "conjunto.add(\"Naranja\");\n",
    "\n",
    "for (String fruta : conjunto) {\n",
    "    System.out.println(fruta);\n",
    "}"
   ]
  },
  {
   "cell_type": "markdown",
   "metadata": {},
   "source": [
    "##### Ejemplo con `Iterator`"
   ]
  },
  {
   "cell_type": "code",
   "execution_count": null,
   "metadata": {},
   "outputs": [],
   "source": [
    "Set<String> conjunto = new HashSet<>();\n",
    "conjunto.add(\"Manzana\");\n",
    "conjunto.add(\"Banana\");\n",
    "conjunto.add(\"Naranja\");\n",
    "\n",
    "Iterator<String> iterador = conjunto.iterator();\n",
    "while (iterador.hasNext()) {\n",
    "    System.out.println(iterador.next());\n",
    "}"
   ]
  },
  {
   "cell_type": "markdown",
   "metadata": {},
   "source": [
    "### 3. Queue (Colas)"
   ]
  },
  {
   "cell_type": "markdown",
   "metadata": {},
   "source": [
    "Una Queue en Java es una estructura de datos que sigue el principio FIFO (First In, First Out), lo que significa que el primer elemento en entrar es el primero en salir.  \n",
    "![Queue](https://media.geeksforgeeks.org/wp-content/cdn-uploads/20221213113312/Queue-Data-Structures.png)\n",
    "\n",
    "#### Características\n",
    "- **FIFO**: Los elementos se procesan en el orden en que se añaden.\n",
    "- **Operaciones básicas**: Incluye operaciones como offer (para añadir), poll (para eliminar y obtener el primer elemento), y peek (para obtener el primer elemento sin eliminarlo).\n",
    "\n",
    "#### Implementaciones Comunes\n",
    "1. **LinkedList**: Implementa una cola utilizando una lista doblemente enlazada. Mantiene el orden de inserción. Es eficiente para operaciones de inserción y eliminación en ambos extremos."
   ]
  },
  {
   "cell_type": "code",
   "execution_count": null,
   "metadata": {},
   "outputs": [],
   "source": [
    "Queue<String> cola = new LinkedList<>();\n",
    "cola.offer(\"Manzana\");\n",
    "cola.offer(\"Banana\");\n",
    "cola.offer(\"Naranja\");\n",
    "System.out.println(cola.poll()); // Imprime \"Manzana\""
   ]
  },
  {
   "cell_type": "markdown",
   "metadata": {},
   "source": [
    "2. **PriorityQueue**: Implementa una cola donde los elementos se ordenan según su orden natural o mediante un comparador. Los elementos se ordenan automáticamente. Útil cuando se necesita procesar elementos en un orden específico."
   ]
  },
  {
   "cell_type": "code",
   "execution_count": null,
   "metadata": {},
   "outputs": [],
   "source": [
    "Queue<Integer> cola = new PriorityQueue<>();\n",
    "cola.offer(3);\n",
    "cola.offer(1);\n",
    "cola.offer(2);\n",
    "System.out.println(cola.poll()); // Imprime \"1\""
   ]
  },
  {
   "cell_type": "markdown",
   "metadata": {},
   "source": [
    "3. **ArrayDeque**: Implementa una cola utilizando un array redimensionable. Mantiene el orden de inserción. Es más eficiente que LinkedList para operaciones de pila y cola."
   ]
  },
  {
   "cell_type": "code",
   "execution_count": null,
   "metadata": {},
   "outputs": [],
   "source": [
    "Queue<String> cola = new ArrayDeque<>();\n",
    "cola.offer(\"Manzana\");\n",
    "cola.offer(\"Banana\");\n",
    "cola.offer(\"Naranja\");\n",
    "System.out.println(cola.peek()); // Imprime \"Manzana\""
   ]
  },
  {
   "cell_type": "markdown",
   "metadata": {},
   "source": [
    "#### Ventajas\n",
    "- **Orden de Procesamiento**: Garantiza que los elementos se procesen en el orden en que se añaden.\n",
    "- **Flexibilidad**: Diferentes implementaciones permiten elegir la más adecuada según las necesidades de rendimiento y orden.\n",
    "- **Operaciones Eficientes**: Proporciona métodos eficientes para añadir, eliminar y consultar elementos."
   ]
  },
  {
   "cell_type": "markdown",
   "metadata": {},
   "source": [
    "#### Operaciones comunes\n",
    "- `offer(E e)`: Añade un elemento al final de la cola.\n",
    "- `poll()`: Elimina y devuelve el primer elemento de la cola.\n",
    "- `peek()`: Devuelve el primer elemento de la cola sin eliminarlo.\n",
    "- `size()`: Devuelve el número de elementos en la cola."
   ]
  },
  {
   "cell_type": "code",
   "execution_count": null,
   "metadata": {},
   "outputs": [],
   "source": [
    "Queue<String> cola = new LinkedList<>();\n",
    "cola.offer(\"Manzana\");\n",
    "cola.offer(\"Banana\");\n",
    "System.out.println(cola.peek()); // Imprime \"Manzana\"\n",
    "System.out.println(cola.poll()); // Imprime y elimina \"Manzana\"\n",
    "System.out.println(cola.size()); // Imprime \"1\""
   ]
  },
  {
   "cell_type": "markdown",
   "metadata": {},
   "source": [
    "#### Recorriendo la colección\n",
    "Una **Queue** se puede recorrer utilizando un bucle `for-each` o un `iterador`. También puedes usar un bucle `while` para vaciar la cola.\n",
    "\n",
    "##### Ejemplo con `for-each`"
   ]
  },
  {
   "cell_type": "code",
   "execution_count": null,
   "metadata": {},
   "outputs": [],
   "source": [
    "Queue<String> cola = new LinkedList<>();\n",
    "cola.offer(\"Manzana\");\n",
    "cola.offer(\"Banana\");\n",
    "cola.offer(\"Naranja\");\n",
    "\n",
    "for (String fruta : cola) {\n",
    "    System.out.println(fruta);\n",
    "}"
   ]
  },
  {
   "cell_type": "markdown",
   "metadata": {},
   "source": [
    "##### Ejemplo con `Iterator`"
   ]
  },
  {
   "cell_type": "code",
   "execution_count": null,
   "metadata": {},
   "outputs": [],
   "source": [
    "Queue<String> cola = new LinkedList<>();\n",
    "cola.offer(\"Manzana\");\n",
    "cola.offer(\"Banana\");\n",
    "cola.offer(\"Naranja\");\n",
    "\n",
    "Iterator<String> iterador = cola.iterator();\n",
    "while (iterador.hasNext()) {\n",
    "    System.out.println(iterador.next());\n",
    "}"
   ]
  },
  {
   "cell_type": "markdown",
   "metadata": {},
   "source": [
    "##### Ejemplo con `while`"
   ]
  },
  {
   "cell_type": "code",
   "execution_count": null,
   "metadata": {},
   "outputs": [],
   "source": [
    "Queue<String> cola = new LinkedList<>();\n",
    "cola.offer(\"Manzana\");\n",
    "cola.offer(\"Banana\");\n",
    "cola.offer(\"Naranja\");\n",
    "\n",
    "while (!cola.isEmpty()) {\n",
    "    System.out.println(cola.poll());\n",
    "}"
   ]
  },
  {
   "cell_type": "markdown",
   "metadata": {},
   "source": [
    "### 4. Stack (Pila)"
   ]
  },
  {
   "cell_type": "markdown",
   "metadata": {},
   "source": [
    "La clase **Stack** en Java es una implementación de la interfaz `List` que sigue el principio **LIFO (Last In, First Out)**, es decir, el último elemento en entrar es el primero en salir.  \n",
    "![Stack](https://media.geeksforgeeks.org/wp-content/cdn-uploads/20221219100314/stack.drawio2.png)\n",
    "\n",
    "#### Características\n",
    "- **LIFO**: Los elementos se procesan en el orden inverso al que se añaden.\n",
    "- **Extiende Vector**: La clase Stack extiende la clase Vector, lo que significa que hereda sus métodos y propiedades.\n",
    "- **Operaciones básicas**: Incluye operaciones como push (para añadir un elemento), pop (para eliminar y obtener el último elemento), peek (para obtener el último elemento sin eliminarlo), empty (para verificar si la pila está vacía) y search (para buscar un elemento)."
   ]
  },
  {
   "cell_type": "code",
   "execution_count": null,
   "metadata": {},
   "outputs": [],
   "source": [
    "Stack<String> pila = new Stack<>();\n",
    "        \n",
    "// Añadir elementos a la pila\n",
    "pila.push(\"Manzana\");\n",
    "pila.push(\"Banana\");\n",
    "pila.push(\"Naranja\");\n",
    "\n",
    "// Obtener el elemento superior sin eliminarlo\n",
    "System.out.println(\"Elemento en la cima: \" + pila.peek()); // Imprime \"Naranja\"\n",
    "\n",
    "// Eliminar el elemento superior\n",
    "System.out.println(\"Elemento eliminado: \" + pila.pop()); // Imprime \"Naranja\"\n",
    "\n",
    "// Verificar si la pila está vacía\n",
    "System.out.println(\"¿La pila está vacía? \" + pila.empty()); // Imprime \"false\"\n",
    "\n",
    "// Buscar un elemento\n",
    "System.out.println(\"Posición de 'Manzana': \" + pila.search(\"Manzana\")); // Imprime \"2\""
   ]
  },
  {
   "cell_type": "markdown",
   "metadata": {},
   "source": [
    "#### Ventajas\n",
    "- **Simplicidad**: Es fácil de usar para problemas que requieren una estructura LIFO.\n",
    "- **Herencia de Vector**: Aprovecha los métodos y propiedades de la clase Vector.\n",
    "- **Operaciones Eficientes**: Las operaciones de inserción y eliminación son rápidas y eficientes."
   ]
  },
  {
   "cell_type": "markdown",
   "metadata": {},
   "source": [
    "#### Operaciones comunes\n",
    "- `push(E e)`: Añade un elemento al tope de la pila.\n",
    "- `pop()`: Elimina y devuelve el elemento en el tope de la pila.\n",
    "- `peek()`: Devuelve el elemento en el tope de la pila sin eliminarlo.\n",
    "- `empty()`: Devuelve true si la pila está vacía."
   ]
  },
  {
   "cell_type": "code",
   "execution_count": null,
   "metadata": {},
   "outputs": [],
   "source": [
    "Stack<String> pila = new Stack<>();\n",
    "pila.push(\"Manzana\");\n",
    "pila.push(\"Banana\");\n",
    "System.out.println(pila.peek()); // Imprime \"Banana\"\n",
    "System.out.println(pila.pop()); // Imprime y elimina \"Banana\"\n",
    "System.out.println(pila.empty()); // Imprime \"false\""
   ]
  },
  {
   "cell_type": "markdown",
   "metadata": {},
   "source": [
    "#### Recorriendo la colección\n",
    "Una Stack se puede recorrer utilizando un bucle `for-each` o un `iterador`. También puedes usar un bucle `while` para vaciar la pila.\n",
    "\n",
    "##### Ejemplo con `for-each`"
   ]
  },
  {
   "cell_type": "code",
   "execution_count": null,
   "metadata": {},
   "outputs": [],
   "source": [
    "Stack<String> pila = new Stack<>();\n",
    "pila.push(\"Manzana\");\n",
    "pila.push(\"Banana\");\n",
    "pila.push(\"Naranja\");\n",
    "\n",
    "for (String fruta : pila) {\n",
    "    System.out.println(fruta);\n",
    "}"
   ]
  },
  {
   "cell_type": "markdown",
   "metadata": {},
   "source": [
    "##### Ejemplo con `Iterator`"
   ]
  },
  {
   "cell_type": "code",
   "execution_count": null,
   "metadata": {},
   "outputs": [],
   "source": [
    "Stack<String> pila = new Stack<>();\n",
    "pila.push(\"Manzana\");\n",
    "pila.push(\"Banana\");\n",
    "pila.push(\"Naranja\");\n",
    "\n",
    "Iterator<String> iterador = pila.iterator();\n",
    "while (iterador.hasNext()) {\n",
    "    System.out.println(iterador.next());\n",
    "}"
   ]
  },
  {
   "cell_type": "markdown",
   "metadata": {},
   "source": [
    "##### Ejemplo con `while`"
   ]
  },
  {
   "cell_type": "code",
   "execution_count": null,
   "metadata": {},
   "outputs": [],
   "source": [
    "Stack<String> pila = new Stack<>();\n",
    "pila.push(\"Manzana\");\n",
    "pila.push(\"Banana\");\n",
    "pila.push(\"Naranja\");\n",
    "\n",
    "while (!pila.isEmpty()) {\n",
    "    System.out.println(pila.pop());\n",
    "}"
   ]
  },
  {
   "cell_type": "markdown",
   "metadata": {},
   "source": [
    "### 5. Map (Mapas)"
   ]
  },
  {
   "cell_type": "markdown",
   "metadata": {},
   "source": [
    "Un **Map** en Java es una colección que asocia claves a valores. Cada clave en un Map es única, aunque los valores pueden repetirse.  \n",
    "![Map](https://www.codejava.net/images/articles/javacore/collections/map/Map_function_abstraction.png)\n",
    "\n",
    "#### Características\n",
    "- **Pares clave-valor**: Almacena datos en pares donde cada clave única se asocia a un valor.\n",
    "- **No permite claves duplicadas**: Cada clave puede estar asociada a un solo valor.\n",
    "- **Operaciones básicas**: Incluye operaciones como put (para agregar o actualizar un par clave-valor), get (para obtener el valor asociado a una clave), y remove (para eliminar un par clave-valor).\n",
    "\n",
    "#### Implementaciones Comunes\n",
    "1. **HashMap**: Implementa un mapa utilizando una tabla hash. No garantiza el orden de las claves. Es eficiente para operaciones de inserción, eliminación y búsqueda."
   ]
  },
  {
   "cell_type": "code",
   "execution_count": null,
   "metadata": {},
   "outputs": [],
   "source": [
    "Map<String, Integer> mapa = new HashMap<>();\n",
    "mapa.put(\"Manzana\", 1);\n",
    "mapa.put(\"Banana\", 2);\n",
    "mapa.put(\"Naranja\", 3);\n",
    "System.out.println(mapa.get(\"Banana\")); // Imprime \"2\""
   ]
  },
  {
   "cell_type": "markdown",
   "metadata": {},
   "source": [
    "2. **LinkedHashMap**: Similar a HashMap, pero mantiene el orden de inserción de los pares clave-valor. Util cuando se necesita mantener el orden de los elementos."
   ]
  },
  {
   "cell_type": "code",
   "execution_count": null,
   "metadata": {},
   "outputs": [],
   "source": [
    "Map<String, Integer> mapa = new LinkedHashMap<>();\n",
    "mapa.put(\"Manzana\", 1);\n",
    "mapa.put(\"Banana\", 2);\n",
    "mapa.put(\"Naranja\", 3);\n",
    "System.out.println(mapa); // Imprime \"{Manzana=1, Banana=2, Naranja=3}\""
   ]
  },
  {
   "cell_type": "markdown",
   "metadata": {},
   "source": [
    "3. **TreeMap**: Implementa un mapa utilizando un árbol rojo-negro. Las claves se ordenan de manera natural o mediante un comparador. Útil cuando se necesita un mapa ordenado."
   ]
  },
  {
   "cell_type": "code",
   "execution_count": null,
   "metadata": {},
   "outputs": [],
   "source": [
    "Map<String, Integer> mapa = new TreeMap<>();\n",
    "mapa.put(\"Manzana\", 1);\n",
    "mapa.put(\"Banana\", 2);\n",
    "mapa.put(\"Naranja\", 3);\n",
    "System.out.println(mapa); // Imprime \"{Banana=2, Manzana=1, Naranja=3}\""
   ]
  },
  {
   "cell_type": "markdown",
   "metadata": {},
   "source": [
    "#### Ventajas\n",
    "- **Acceso Rápido**: Permite acceder rápidamente a los valores mediante sus claves.\n",
    "- **Organización**: Facilita la organización y búsqueda de datos.\n",
    "- **Flexibilidad**: Diferentes implementaciones permiten elegir la más adecuada según las necesidades de orden y rendimiento."
   ]
  },
  {
   "cell_type": "markdown",
   "metadata": {},
   "source": [
    "#### Operaciones comunes\n",
    "- `put(K key, V value)`: Asocia la clave especificada con el valor especificado.\n",
    "- `get(Object key)`: Devuelve el valor al que está asociada la clave especificada.\n",
    "- `remove(Object key)`: Elimina la clave y su valor asociado.\n",
    "- `containsKey(Object key)`: Devuelve true si el mapa contiene la clave especificada."
   ]
  },
  {
   "cell_type": "code",
   "execution_count": null,
   "metadata": {},
   "outputs": [],
   "source": [
    "Map<String, Integer> mapa = new HashMap<>();\n",
    "mapa.put(\"Manzana\", 1);\n",
    "mapa.put(\"Banana\", 2);\n",
    "System.out.println(mapa.get(\"Manzana\")); // Imprime \"1\"\n",
    "mapa.remove(\"Banana\");\n",
    "System.out.println(mapa.containsKey(\"Banana\")); // Imprime \"false\""
   ]
  },
  {
   "cell_type": "markdown",
   "metadata": {},
   "source": [
    "#### Recorriendo la colección\n",
    "Para recorrer un **Map**, puedes iterar sobre sus claves, valores o entradas (pares clave-valor).\n",
    "\n",
    "##### Ejemplo con `for-each` sobre las claves"
   ]
  },
  {
   "cell_type": "code",
   "execution_count": null,
   "metadata": {},
   "outputs": [],
   "source": [
    "Map<String, Integer> mapa = new HashMap<>();\n",
    "mapa.put(\"Manzana\", 1);\n",
    "mapa.put(\"Banana\", 2);\n",
    "mapa.put(\"Naranja\", 3);\n",
    "\n",
    "for (String clave : mapa.keySet()) {\n",
    "    System.out.println(clave + \": \" + mapa.get(clave));\n",
    "}"
   ]
  },
  {
   "cell_type": "markdown",
   "metadata": {},
   "source": [
    "##### Ejemplo con `for-each` sobre los valores"
   ]
  },
  {
   "cell_type": "code",
   "execution_count": null,
   "metadata": {},
   "outputs": [],
   "source": [
    "Map<String, Integer> mapa = new HashMap<>();\n",
    "mapa.put(\"Manzana\", 1);\n",
    "mapa.put(\"Banana\", 2);\n",
    "mapa.put(\"Naranja\", 3);\n",
    "\n",
    "for (Integer valor : mapa.values()) {\n",
    "    System.out.println(valor);\n",
    "}"
   ]
  },
  {
   "cell_type": "markdown",
   "metadata": {},
   "source": [
    "##### Ejemplo con `for-each` sobre las entradas"
   ]
  },
  {
   "cell_type": "code",
   "execution_count": null,
   "metadata": {},
   "outputs": [],
   "source": [
    "Map<String, Integer> mapa = new HashMap<>();\n",
    "mapa.put(\"Manzana\", 1);\n",
    "mapa.put(\"Banana\", 2);\n",
    "mapa.put(\"Naranja\", 3);\n",
    "\n",
    "for (Map.Entry<String, Integer> entrada : mapa.entrySet()) {\n",
    "    System.out.println(entrada.getKey() + \": \" + entrada.getValue());\n",
    "}"
   ]
  }
 ],
 "metadata": {
  "kernelspec": {
   "display_name": "Java",
   "language": "java",
   "name": "java"
  },
  "language_info": {
   "codemirror_mode": "java",
   "file_extension": ".jshell",
   "mimetype": "text/x-java-source",
   "name": "java",
   "pygments_lexer": "java",
   "version": "17.0.10+7"
  }
 },
 "nbformat": 4,
 "nbformat_minor": 2
}
