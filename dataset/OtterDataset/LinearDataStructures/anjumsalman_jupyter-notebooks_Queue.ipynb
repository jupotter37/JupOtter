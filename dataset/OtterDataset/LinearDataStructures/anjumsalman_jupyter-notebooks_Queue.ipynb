{
 "cells": [
  {
   "cell_type": "markdown",
   "metadata": {},
   "source": [
    "## Queue\n",
    "Queue is a `FIFO` First In First Out Data Structure. Insertion occurs at one end (rear) and removal occurs from the other end (head).Similar to Stack, Queue can also be implemented as Array or Linked List."
   ]
  },
  {
   "cell_type": "markdown",
   "metadata": {},
   "source": [
    "### Array Based Implementation"
   ]
  },
  {
   "cell_type": "code",
   "execution_count": 2,
   "metadata": {
    "tags": []
   },
   "outputs": [
    {
     "name": "stdout",
     "output_type": "stream",
     "text": [
      "10\n",
      "20\n"
     ]
    },
    {
     "ename": "EvalException",
     "evalue": "Queue is full",
     "output_type": "error",
     "traceback": [
      "\u001b[1m\u001b[31m---------------------------------------------------------------------------\u001b[0m",
      "\u001b[1m\u001b[31mjava.lang.IllegalArgumentException: Queue is full\u001b[0m",
      "\u001b[1m\u001b[31m\tat SimpleArrayQueue.enqueue(#13:29)\u001b[0m",
      "\u001b[1m\u001b[31m\tat .(#22:1)\u001b[0m"
     ]
    }
   ],
   "source": [
    "class SimpleArrayQueue<T> {\n",
    "    private final int MAX_SIZE;\n",
    "    private final Object[] elements;\n",
    "\n",
    "    private int front = -1;\n",
    "    private int rear = -1;\n",
    "\n",
    "    public SimpleArrayQueue(int maxSize) {\n",
    "        MAX_SIZE = maxSize;\n",
    "        elements = new Object[MAX_SIZE];\n",
    "    }\n",
    "\n",
    "    public boolean isEmpty() {\n",
    "        if (front == -1 && rear == -1) {\n",
    "            return true;\n",
    "        } else {\n",
    "            return false;\n",
    "        }\n",
    "    }\n",
    "\n",
    "    public void enqueue(T x) {\n",
    "        if (isEmpty()) {\n",
    "            front = 0;\n",
    "            rear = 0;\n",
    "        } else if (rear < MAX_SIZE - 1) {\n",
    "            rear++;\n",
    "        } else {\n",
    "            throw new IllegalArgumentException(\"Queue is full\");\n",
    "        }\n",
    "\n",
    "        elements[rear] = x;\n",
    "    }\n",
    "\n",
    "    public T dequeue() {\n",
    "        Object value = null;\n",
    "        if (isEmpty()) {\n",
    "            throw new IllegalArgumentException(\"Queue is empty\");\n",
    "        } else if (front == rear) {\n",
    "            value = elements[front];\n",
    "            front = -1;\n",
    "            rear = -1;\n",
    "        } else {\n",
    "            value = elements[front];\n",
    "            front++;\n",
    "        }\n",
    "\n",
    "        return (T) value;\n",
    "    }\n",
    "}\n",
    "\n",
    "SimpleArrayQueue<Integer> simpleArrayQueue = new SimpleArrayQueue<>(5);\n",
    "simpleArrayQueue.enqueue(10); simpleArrayQueue.enqueue(20); simpleArrayQueue.enqueue(30);\n",
    "System.out.println(simpleArrayQueue.dequeue()); System.out.println(simpleArrayQueue.dequeue());\n",
    "simpleArrayQueue.enqueue(11); simpleArrayQueue.enqueue(21); simpleArrayQueue.enqueue(31);"
   ]
  },
  {
   "cell_type": "markdown",
   "metadata": {
    "tags": []
   },
   "source": [
    "Above implementation prevents queueing up of elements even though there is still space left in the array. To remedy this we use a circular implementation. In case of circular implementation, the next position is $(i + 1)\\%N$, whereas the previous position is $(i+N-1)\\%N$."
   ]
  },
  {
   "cell_type": "code",
   "execution_count": 4,
   "metadata": {
    "tags": []
   },
   "outputs": [
    {
     "name": "stdout",
     "output_type": "stream",
     "text": [
      "10\n",
      "20\n"
     ]
    }
   ],
   "source": [
    "class CircularArrayQueue<T> {\n",
    "    private final int MAX_SIZE;\n",
    "    private final Object[] elements;\n",
    "\n",
    "    private int front = -1;\n",
    "    private int rear = -1;\n",
    "\n",
    "    public CircularArrayQueue(int maxSize) {\n",
    "        MAX_SIZE = maxSize;\n",
    "        elements = new Object[MAX_SIZE];\n",
    "    }\n",
    "\n",
    "    public boolean isEmpty() {\n",
    "        if (front == -1 && rear == -1) {\n",
    "            return true;\n",
    "        } else {\n",
    "            return false;\n",
    "        }\n",
    "    }\n",
    "\n",
    "    public void enqueue(T x) {\n",
    "        if (isEmpty()) {\n",
    "            front = 0;\n",
    "            rear = 0;\n",
    "        } else if ((rear + 1) % MAX_SIZE == front) {\n",
    "            throw new IllegalArgumentException(\"Queue is full\");\n",
    "        } else {\n",
    "            rear = (rear + 1) % MAX_SIZE;\n",
    "        }\n",
    "\n",
    "        elements[rear] = x;\n",
    "    }\n",
    "\n",
    "    public T dequeue() {\n",
    "        Object value = null;\n",
    "        if (isEmpty()) {\n",
    "            throw new IllegalArgumentException(\"Queue is empty\");\n",
    "        } else if (front == rear) {\n",
    "            value = elements[front];\n",
    "            front = -1;\n",
    "            rear = -1;\n",
    "        } else {\n",
    "            value = elements[front];\n",
    "            front = (front + 1) % MAX_SIZE;\n",
    "        }\n",
    "\n",
    "        return (T) value;\n",
    "    }\n",
    "}\n",
    "\n",
    "CircularArrayQueue<Integer> circularArrayQueue = new CircularArrayQueue<>(5);\n",
    "circularArrayQueue.enqueue(10); circularArrayQueue.enqueue(20); circularArrayQueue.enqueue(30);\n",
    "System.out.println(circularArrayQueue.dequeue()); System.out.println(circularArrayQueue.dequeue());\n",
    "circularArrayQueue.enqueue(11); circularArrayQueue.enqueue(21);\n",
    "circularArrayQueue.enqueue(31); circularArrayQueue.enqueue(41);"
   ]
  },
  {
   "cell_type": "markdown",
   "metadata": {},
   "source": [
    "Below implementation resizes the internal array when the array gets full or the array gets too sparsly filled."
   ]
  },
  {
   "cell_type": "code",
   "execution_count": null,
   "metadata": {},
   "outputs": [],
   "source": [
    "class ResizableCircularArrayQueue<T> {\n",
    "    private int arraySize = 5;\n",
    "    private int occupancy;\n",
    "    private Object[] elements = new Object[arraySize];\n",
    "\n",
    "    private int front = -1;\n",
    "    private int rear = -1;\n",
    "\n",
    "    public ResizableCircularArrayQueue() {\n",
    "    }\n",
    "\n",
    "    public boolean isEmpty() {\n",
    "        if (front == -1 && rear == -1) {\n",
    "            return true;\n",
    "        } else {\n",
    "            return false;\n",
    "        }\n",
    "    }\n",
    "\n",
    "    public void enqueue(T x) {\n",
    "        if (isEmpty()) {\n",
    "            front = 0;\n",
    "            rear = 0;\n",
    "        } else if ((rear + 1) % arraySize == front) {\n",
    "            arraySize = arraySize * 2;\n",
    "            resize(arraySize);\n",
    "            rear = (rear + 1) % arraySize;\n",
    "        } else {\n",
    "            rear = (rear + 1) % arraySize;\n",
    "        }\n",
    "\n",
    "        occupancy++;\n",
    "        elements[rear] = x;\n",
    "    }\n",
    "\n",
    "    public T dequeue() {\n",
    "        Object value;\n",
    "        if (isEmpty()) {\n",
    "            throw new IllegalArgumentException(\"Queue is empty\");\n",
    "        } else if (front == rear) {\n",
    "            value = elements[front];\n",
    "            front = -1;\n",
    "            rear = -1;\n",
    "        } else {\n",
    "            value = elements[front];\n",
    "            front = (front + 1) % arraySize;\n",
    "        }\n",
    "\n",
    "        occupancy--;\n",
    "        if (arraySize >= 3 * occupancy) {\n",
    "            resize(arraySize / 2);\n",
    "        }\n",
    "\n",
    "        return (T) value;\n",
    "    }\n",
    "\n",
    "    private void resize(int newSize) {\n",
    "        Object[] newElements = new Object[newSize];\n",
    "\n",
    "        int i = 0;\n",
    "        while (front <= rear && i < arraySize) {\n",
    "            newElements[i] = elements[front];\n",
    "            front = (front + 1) % arraySize;\n",
    "            i++;\n",
    "        }\n",
    "\n",
    "        elements = newElements;\n",
    "        arraySize = newSize;\n",
    "        front = 0;\n",
    "        rear = occupancy - 1;\n",
    "    }\n",
    "}"
   ]
  },
  {
   "cell_type": "markdown",
   "metadata": {},
   "source": [
    "### Linked List Based Implementation\n",
    "Lets pick `dequeue` occurring at head, whereas `enqueue` occurs at the other end. Having a head and a tail node ensures both operations take $O(1)$ time."
   ]
  },
  {
   "cell_type": "code",
   "execution_count": null,
   "metadata": {},
   "outputs": [],
   "source": [
    "class LinkedListQueue<T> {\n",
    "    private class Node {\n",
    "        public T data;\n",
    "        public Node next;\n",
    "\n",
    "        public Node(T data) {\n",
    "            this.data = data;\n",
    "        }\n",
    "    }\n",
    "\n",
    "    private Node front;\n",
    "    private Node rear;\n",
    "\n",
    "    public boolean isEmpty() {\n",
    "        return front == null;\n",
    "    }\n",
    "\n",
    "    public void enqueue(T x) {\n",
    "        Node temp = new Node(x);\n",
    "\n",
    "        if (isEmpty()) {\n",
    "            front = rear = temp;\n",
    "        } else {\n",
    "            rear.next = temp;\n",
    "            rear = temp;\n",
    "        }\n",
    "    }\n",
    "\n",
    "    public T dequeue() {\n",
    "        T value;\n",
    "        if (isEmpty()) {\n",
    "            throw new IllegalArgumentException(\"Queue is empty\");\n",
    "        } else if (front == rear) {\n",
    "            value = front.data;\n",
    "            front = rear = null;\n",
    "        } else {\n",
    "            value = front.data;\n",
    "            front = front.next;\n",
    "        }\n",
    "\n",
    "        return value;\n",
    "    }\n",
    "}"
   ]
  },
  {
   "cell_type": "markdown",
   "metadata": {},
   "source": [
    "### Java Implementation\n",
    "We can use either of `LinkedList`, `ArrayDeque` or `ArrayList`.\n",
    "\n",
    "**LinkedList:**\n",
    "- Instantiate : `LinkedList<Integer> queue = new LinkedList<>();`\n",
    "- Size: `queue.size();`\n",
    "- Enqueue: `queue.add(5)`\n",
    "- Dequeue: `int item = queue.pop()` or `int item = queue.removeFirst()`\n",
    "- Iterate: `for(Integer element: queue)`\n",
    "\n",
    "**ArrayDeque:** prefer this.\n",
    "- Instantiate : `ArrayDeque<Integer> queue = new ArrayDeque<>();`\n",
    "- Size: `queue.size();`\n",
    "- Enqueue: `queue.add(5)`\n",
    "- Dequeue: `int item = queue.pop()` or `int item = queue.removeFirst()`\n",
    "- Iterate: `for(Integer element: queue)`\n",
    "\n",
    "**ArrayList:** dequeue operation take $O(n)$ in worst case, amortized to $O(1)$\n",
    "- Instantiate : `ArrayList<Integer> queue = new ArrayList<>();`\n",
    "- Size: `queue.size();`\n",
    "- Enqueue: `queue.add(5)`\n",
    "- Dequeue: `int item = queue.remove(0)`\n",
    "- Iterate: `for(Integer element: queue)`"
   ]
  },
  {
   "cell_type": "markdown",
   "metadata": {},
   "source": [
    "### Queue Implementation Using Stack\n",
    "If we want the enqueue operation to take $O(1)$ time and dequeue to take $O(n)$ time, then:\n",
    "- to enqueue, push to the stack\n",
    "- to dequeue, use another stack, pop all elements from the main stack to the auxiliary stack. Then pop once."
   ]
  },
  {
   "cell_type": "markdown",
   "metadata": {},
   "source": [
    "**Q 1:** Print all the binary number till a given digit d in ascending order. For example, if `d = 3` then we should print `0, 1, 10, 11, 100, 101, 110, 111` .   \n",
    "**Answer:** The crux is that whenever we dequeue, enqueue two more numbers one ending with 0 and the other ending with 1."
   ]
  },
  {
   "cell_type": "code",
   "execution_count": 5,
   "metadata": {},
   "outputs": [
    {
     "name": "stdout",
     "output_type": "stream",
     "text": [
      "[0, 1, 10, 11, 100, 101, 110, 111, 1000, 1001, 1010, 1011, 1100, 1101, 1110, 1111]\n"
     ]
    }
   ],
   "source": [
    "public List<String> getNDigitBinaryNumbers(int n) {\n",
    "    List<String> output = new ArrayList<String>();\n",
    "    output.add(\"0\");\n",
    "\n",
    "    ArrayDeque<String> q = new ArrayDeque<>();\n",
    "    q.add(\"1\");\n",
    "    while (!q.isEmpty()) {\n",
    "        String s = q.pop();\n",
    "        output.add(s);\n",
    "\n",
    "        if (s.length() < n) {\n",
    "            q.add(s + \"0\");\n",
    "            q.add(s + \"1\");\n",
    "        }\n",
    "    }\n",
    "\n",
    "    return output;\n",
    "}\n",
    "\n",
    "System.out.println(getNDigitBinaryNumbers(4));"
   ]
  },
  {
   "cell_type": "markdown",
   "metadata": {},
   "source": [
    "**Q 2:** Given an array and a window size k, return maximum element in each window.  \n",
    "**Answer:** The brute force approach is to go through all the windows and find the maximum element each time. This will take $O(kn)$ time. A better way is to utilize deque (double ended queue).\n",
    "- keep track of indices\n",
    "- when we insert\n",
    "    a) remove the smaller element on the left\n",
    "    b) remove the elemets from starting of deque having index out of range"
   ]
  },
  {
   "cell_type": "code",
   "execution_count": 6,
   "metadata": {},
   "outputs": [
    {
     "name": "stdout",
     "output_type": "stream",
     "text": [
      "[10, 9, 9, 9, 11, 11]\n"
     ]
    }
   ],
   "source": [
    "public List<Integer> maxElementInRollingKSizeWindows(int[] input, int w) {\n",
    "    List<Integer> output = new ArrayList<>();\n",
    "\n",
    "    // First element of the q is the index of maximum\n",
    "    // element of the subarray of length w\n",
    "    ArrayDeque<Integer> q = new ArrayDeque<>();\n",
    "\n",
    "    // Process the first w elements\n",
    "    int i = 0;\n",
    "    while (i < w) {\n",
    "        while (!q.isEmpty() && input[i] > input[q.getLast()]) {\n",
    "            q.removeLast();\n",
    "        }\n",
    "\n",
    "        q.add(i);\n",
    "        i++;\n",
    "    }\n",
    "    output.add(input[q.getFirst()]);\n",
    "\n",
    "    while (i < input.length) {\n",
    "        // Remove from the q all indices that are smaller than\n",
    "        // or equal to the index being removed from the queue\n",
    "        while (!q.isEmpty() && q.getFirst() < (i - w + 1)) {\n",
    "            q.removeFirst();\n",
    "        }\n",
    "\n",
    "        // Check if the ith number (index to be added) is greater\n",
    "        // than the max number in the queue\n",
    "        while (!q.isEmpty() && input[i] > input[q.getLast()]) {\n",
    "            q.removeLast();\n",
    "        }\n",
    "\n",
    "        q.add(i);\n",
    "        output.add(input[q.getFirst()]);\n",
    "\n",
    "        i++;\n",
    "    }\n",
    "\n",
    "    return output;\n",
    "}\n",
    "\n",
    "System.out.println(maxElementInRollingKSizeWindows(new int[]{10,1,2,9,7,6,5,11,3}, 4));"
   ]
  },
  {
   "cell_type": "markdown",
   "metadata": {},
   "source": [
    "Or, we can use priority queue"
   ]
  },
  {
   "cell_type": "code",
   "execution_count": 7,
   "metadata": {},
   "outputs": [
    {
     "name": "stdout",
     "output_type": "stream",
     "text": [
      "[10, 9, 9, 9, 11, 11]\n"
     ]
    }
   ],
   "source": [
    "public List<Integer> maxElementInRollingKSizeWindows2(int[] input, int w) {\n",
    "    List<Integer> result = new ArrayList<>();\n",
    "    PriorityQueue<Integer[]> pq = new PriorityQueue<>(w, (a, b) -> b[0] - a[0]);\n",
    "\n",
    "    // Add K elements\n",
    "    for (int i = 0; i < w; i++) {\n",
    "        pq.add(new Integer[] { input[i], i });\n",
    "    }\n",
    "    result.add(pq.peek()[0]);\n",
    "\n",
    "    for (int i = w; i < input.length; i++) {\n",
    "        pq.add(new Integer[] { input[i], i });\n",
    "\n",
    "        // Pop out all invalid items\n",
    "        while (pq.peek()[1] <= i - w) {\n",
    "            pq.poll();\n",
    "        }\n",
    "\n",
    "        result.add(pq.peek()[0]);\n",
    "    }\n",
    "\n",
    "    return result;\n",
    "}\n",
    "\n",
    "System.out.println(maxElementInRollingKSizeWindows2(new int[]{10,1,2,9,7,6,5,11,3}, 4));"
   ]
  },
  {
   "cell_type": "markdown",
   "metadata": {},
   "source": [
    "**Q 3:** Reverse a queue  \n",
    "**Answer:**"
   ]
  },
  {
   "cell_type": "code",
   "execution_count": 8,
   "metadata": {},
   "outputs": [
    {
     "name": "stdout",
     "output_type": "stream",
     "text": [
      "[3, 2, 1]\n"
     ]
    }
   ],
   "source": [
    "public ArrayDeque<Integer> reverse(ArrayDeque<Integer> q) {\n",
    "    if (q.size() <= 1) return q;\n",
    "    \n",
    "    int temp = q.removeFirst();\n",
    "    q = reverse(q);\n",
    "    q.addLast(temp);\n",
    "    \n",
    "    return q;\n",
    "}\n",
    "\n",
    "ArrayDeque<Integer> q = new ArrayDeque<>();\n",
    "q.add(1); q.add(2); q.add(3);\n",
    "System.out.println(reverse(q));"
   ]
  },
  {
   "cell_type": "markdown",
   "metadata": {},
   "source": [
    "**Q 6:** Given a string containing a lowercase character and paranthesis. Return the strings obtained by removing minimum number of paranthesis to make it a valid expression. For example, if the string is `())` we can remove one paranthesis and get `()`. Another example: `()(a))()`, we get `()(a)()` and `((a))()` .  \n",
    "**Answer** We start with removing a paranthesis from start to end of the string, if a valid expression is obtained, we are done. If not we have to remove 2 paranthesis and continue."
   ]
  },
  {
   "cell_type": "code",
   "execution_count": 3,
   "metadata": {},
   "outputs": [
    {
     "name": "stdout",
     "output_type": "stream",
     "text": [
      "[((a))(), ()(a)()]\n"
     ]
    }
   ],
   "source": [
    "public List<String> validExpression(String expression) {\n",
    "    List<String> output = new ArrayList<>();\n",
    "\n",
    "    ArrayDeque<String> q = new ArrayDeque<>();\n",
    "    q.add(expression);\n",
    "    boolean level = false;\n",
    "    Set<String> used = new HashSet<>();\n",
    "    while (!q.isEmpty()) {\n",
    "        String expr = q.pop();\n",
    "        // Check if the current expression is valid, if yes\n",
    "        // add it to the answers list\n",
    "        if (isValid(expr)) {\n",
    "            output.add(expr);\n",
    "            level = true;\n",
    "        }\n",
    "\n",
    "        if (level) continue;\n",
    "\n",
    "        // Remove one parenthesis one at a time and then add to q\n",
    "        for (int i = 0; i < expr.length(); i++) {\n",
    "            if (expr.charAt(i) != '(' && expr.charAt(i) != ')') {\n",
    "                continue;\n",
    "            }\n",
    "\n",
    "            String pre = expr.substring(0, i);\n",
    "            String post = expr.substring(i + 1);\n",
    "\n",
    "            // Check if the current expr has already been added to\n",
    "            // the queue\n",
    "            if (!used.contains(pre + post)) {\n",
    "                q.add(pre + post);\n",
    "                used.add(pre + post);\n",
    "            }\n",
    "        }\n",
    "    }\n",
    "\n",
    "    return output;\n",
    "}\n",
    "\n",
    "private boolean isValid(String expression) {\n",
    "    ArrayDeque<Character> stack = new ArrayDeque<>();\n",
    "    for (Character c : expression.toCharArray()) {\n",
    "        if (c == '(') stack.push('(');\n",
    "        else if (c == ')') {\n",
    "            if (stack.isEmpty()) return false;\n",
    "            else stack.pop();\n",
    "        }\n",
    "    }\n",
    "\n",
    "    return stack.isEmpty();\n",
    "}\n",
    "\n",
    "System.out.println(validExpression(\"()(a))()\"));"
   ]
  },
  {
   "cell_type": "code",
   "execution_count": null,
   "metadata": {},
   "outputs": [],
   "source": []
  }
 ],
 "metadata": {
  "kernelspec": {
   "display_name": "Java",
   "language": "java",
   "name": "java"
  },
  "language_info": {
   "codemirror_mode": "java",
   "file_extension": ".jshell",
   "mimetype": "text/x-java-source",
   "name": "Java",
   "pygments_lexer": "java",
   "version": "21.0.1+12-29"
  }
 },
 "nbformat": 4,
 "nbformat_minor": 4
}
