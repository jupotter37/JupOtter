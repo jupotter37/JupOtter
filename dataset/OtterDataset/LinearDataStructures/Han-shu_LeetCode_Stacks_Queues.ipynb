{
 "cells": [
  {
   "cell_type": "markdown",
   "metadata": {},
   "source": [
    "# Stacks \n",
    "- LIFO: last in, first out\n",
    "    - Add and remove elements from the end of the list\n",
    "    - Like a stack of plates\n",
    "    - O(1) time complexity for adding and removing elements\n",
    "- Operations:\n",
    "    - `stack = []`\n",
    "    - `stack.append(element)`\n",
    "    - `stack.pop()` pop element from the end\n",
    "    - `stack[-1]` to access the top element\n",
    "    - `len(stack)` to get the size of the stack\n",
    "    - `not stack` to check if the stack is empty, returns `True` if empty\n",
    "- Similar to recursion\n",
    "    - Function calls are pushed in a stack.\n",
    "    - When a function returns, it is popped from the stack."
   ]
  },
  {
   "cell_type": "markdown",
   "metadata": {},
   "source": [
    "## String problems\n",
    "- Iterate over the string and push the characters into the stack, compare the top of the satck with current character\n",
    "- Useful for string matching because it saves a history of the previous characters\n",
    "- Check the problem following a LIFO nature\n",
    "    - [20. Valid Parentheses](https://leetcode.com/problems/valid-parentheses/)\n",
    "    - [1047. Remove All Adjacent Duplicates In String](https://leetcode.com/problems/remove-all-adjacent-duplicates-in-string/)\n",
    "    - [844. Backspace String Compare](https://leetcode.com/problems/backspace-string-compare/) the first character to be deleted is the most recent typyed character\n",
    "    - [71. Simplify Path](https://leetcode.com/problems/simplify-path/)\n",
    "    - [1544. Make The String Great](https://leetcode.com/problems/make-the-string-great/)\n",
    "    - [394. Decode String](https://leetcode.com/problems/decode-string/)\n",
    "    - [856. Score of Parentheses](https://leetcode.com/problems/score-of-parentheses/)\n",
    "    - [1249. Minimum Remove to Make Valid Parentheses](https://leetcode.com/problems/minimum-remove-to-make-valid-parentheses/)"
   ]
  },
  {
   "cell_type": "code",
   "execution_count": null,
   "metadata": {},
   "outputs": [],
   "source": [
    "# [71. Simplify Path](https://leetcode.com/problems/simplify-path/)\n",
    "class Solution:\n",
    "    def simplifyPath(self, path: str) -> str:\n",
    "        stack = []\n",
    "        ss = path.split('/')\n",
    "        for s in ss:\n",
    "            if s == '..':\n",
    "                if len(stack)>0:\n",
    "                    stack.pop()\n",
    "            elif s == '.' or s == '':\n",
    "                continue\n",
    "            else:\n",
    "                stack.append(s)\n",
    "        return '/'+'/'.join(stack)"
   ]
  },
  {
   "cell_type": "code",
   "execution_count": null,
   "metadata": {},
   "outputs": [],
   "source": [
    "# [1544. Make The String Great](https://leetcode.com/problems/make-the-string-great/)\n",
    "class Solution:\n",
    "    def makeGood(self, s: str) -> str:\n",
    "        stack = []\n",
    "        for l in s:\n",
    "            if len(stack) > 0 and abs(ord(stack[-1])-ord(l))==32:\n",
    "                stack.pop()\n",
    "            else:\n",
    "                stack.append(l) \n",
    "        return \"\".join(stack)"
   ]
  },
  {
   "cell_type": "code",
   "execution_count": null,
   "metadata": {},
   "outputs": [],
   "source": [
    "# [1381. Design a Stack With Increment Operation](https://leetcode.com/problems/design-a-stack-with-increment-operation/)\n",
    "class CustomStack:\n",
    "\n",
    "    def __init__(self, maxSize: int):\n",
    "        self.stack = [0]*maxSize\n",
    "        self.inc = [0]*maxSize\n",
    "        self.loc = -1\n",
    "        \n",
    "    def push(self, x: int) -> None:\n",
    "        if self.loc < len(self.stack)-1:\n",
    "            self.loc += 1\n",
    "            self.stack[self.loc] = x\n",
    "\n",
    "    def pop(self) -> int:\n",
    "        if self.loc < 0:\n",
    "            return -1\n",
    "        val = self.stack[self.loc] + self.inc[self.loc]\n",
    "        if self.loc > 0:\n",
    "            self.inc[self.loc-1] += self.inc[self.loc]\n",
    "        self.inc[self.loc] = 0\n",
    "        self.loc -= 1\n",
    "        return val\n",
    "\n",
    "    def increment(self, k: int, val: int) -> None:\n",
    "        if self.loc >= 0:\n",
    "            self.inc[min(k-1, self.loc)] += val"
   ]
  },
  {
   "cell_type": "markdown",
   "metadata": {},
   "source": [
    "# Queues\n",
    "- FIFO: first in, first out\n",
    "    - Add elements to the end of the list and remove from the beginning\n",
    "    - Stack: add and remove from the same side (end), queues: add and remove from opposite sides\n",
    "    - First come, first served basis\n",
    "    - O(1) time complexity for adding and removing elements\n",
    "    - Double linked list that maintains pointers to the head and tail\n",
    "- `collections.deque` is a double-ended queue\n",
    "    - Add and remove elements from both ends \n",
    "    - `queue = collections.deque()`\n",
    "    - `queue.append(element)`\n",
    "    - `queue.popleft()` remove element from the beginning\n",
    "    - `queue[0]` to access the front element\n",
    "    - `len(queue)` to get the size of the queue\n",
    "    - `not queue` to check if the queue is empty, returns `True` if empty\n",
    "- Used in BFS, level order traversal\n",
    "- Examples\n",
    "    - [933. Number of Recent Calls](https://leetcode.com/problems/number-of-recent-calls/)\n",
    "    - [Moving Average from Data Stream](https://leetcode.com/problems/moving-average-from-data-stream/)\n",
    "    - [102. Binary Tree Level Order Traversal](https://leetcode.com/problems/binary-tree-level-order-traversal/)\n",
    "    - [107. Binary Tree Level Order Traversal II](https://leetcode.com/problems/binary-tree-level-order-traversal-ii/)\n",
    "    - [103. Binary Tree Zigzag Level Order Traversal](https://leetcode.com/problems/binary-tree-zigzag-level-order-traversal/)\n"
   ]
  },
  {
   "cell_type": "code",
   "execution_count": 15,
   "metadata": {},
   "outputs": [
    {
     "ename": "TypeError",
     "evalue": "sequence index must be integer, not 'slice'",
     "output_type": "error",
     "traceback": [
      "\u001b[0;31m---------------------------------------------------------------------------\u001b[0m",
      "\u001b[0;31mTypeError\u001b[0m                                 Traceback (most recent call last)",
      "Cell \u001b[0;32mIn[15], line 3\u001b[0m\n\u001b[1;32m      1\u001b[0m \u001b[38;5;28;01mfrom\u001b[39;00m \u001b[38;5;21;01mcollections\u001b[39;00m \u001b[38;5;28;01mimport\u001b[39;00m deque\n\u001b[1;32m      2\u001b[0m a \u001b[38;5;241m=\u001b[39m deque([\u001b[38;5;241m1\u001b[39m,\u001b[38;5;241m2\u001b[39m,\u001b[38;5;241m3\u001b[39m,\u001b[38;5;241m4\u001b[39m,\u001b[38;5;241m5\u001b[39m])\n\u001b[0;32m----> 3\u001b[0m \u001b[43ma\u001b[49m\u001b[43m[\u001b[49m\u001b[38;5;241;43m3\u001b[39;49m\u001b[43m:\u001b[49m\u001b[38;5;241;43m5\u001b[39;49m\u001b[43m]\u001b[49m\n",
      "\u001b[0;31mTypeError\u001b[0m: sequence index must be integer, not 'slice'"
     ]
    }
   ],
   "source": [
    "from collections import deque\n",
    "a = deque([1,2,3,4,5])\n",
    "a[3:5]"
   ]
  },
  {
   "cell_type": "markdown",
   "metadata": {},
   "source": [
    "## Monotonic \n",
    "- Monotonic: vary in such a way that it either never decreases or never increases\n",
    "- Before pushing an element into the stack, pop all elements that are less than the current element\n",
    "- Useful for finding the next element based on some criteria, e.g., the next greater element\n",
    "- Combined with two pinters to find the maximum of minimum of elements in a subarray"
   ]
  },
  {
   "cell_type": "code",
   "execution_count": null,
   "metadata": {},
   "outputs": [],
   "source": [
    "nums = [1,3,4,2]\n",
    "stack = []\n",
    "for num in nums:\n",
    "    while stack and stack[-1] < num:\n",
    "        stack.pop()\n",
    "    stack.append(num)"
   ]
  },
  {
   "cell_type": "code",
   "execution_count": null,
   "metadata": {},
   "outputs": [],
   "source": [
    "# 737. Daily Temperatures (https://leetcode.com/problems/daily-temperatures/)\n",
    "# Stack is monotonic decreasing. It is garanteed to pop elements only when we find the first warmer temperature\n",
    "class Solution:\n",
    "    def dailyTemperatures(self, temperatures: List[int]) -> List[int]:\n",
    "        stack = []\n",
    "        ans = [0]*len(temperatures)\n",
    "        for i, temp in enumerate(temperatures):\n",
    "            while len(stack)>0 and temperatures[stack[-1]] < temp:\n",
    "                idx = stack.pop()\n",
    "                ans[idx] = i - idx    \n",
    "            stack.append(i)\n",
    "        return ans"
   ]
  },
  {
   "cell_type": "code",
   "execution_count": null,
   "metadata": {},
   "outputs": [],
   "source": [
    "# 239. Sliding Window Maximum (https://leetcode.com/problems/sliding-window-maximum/)\n",
    "# Sliding window + Monotonic decreasing stack\n",
    "class Solution:\n",
    "    def maxSlidingWindow(self, nums: List[int], k: int) -> List[int]:\n",
    "        stack = collections.deque()\n",
    "        ans = []\n",
    "        for (i, num) in enumerate(nums):\n",
    "            while stack and stack[-1][0] < num:\n",
    "                stack.pop()\n",
    "            stack.append((num, i))\n",
    "            while stack and stack[0][1] < i - k + 1:\n",
    "                stack.popleft()\n",
    "            if i >= k - 1:\n",
    "                ans.append(stack[0][0])\n",
    "        return ans\n",
    "        # maxheap = []\n",
    "    def maxSlidingWindow(self, nums: List[int], k: int) -> List[int]:\n",
    "        for i in range(k):\n",
    "            heapq.heappush(maxheap, (-nums[i], i))\n",
    "        ans = [-maxheap[0][0]]\n",
    "        for i in range(k, len(nums)):\n",
    "            heapq.heappush(maxheap, (-nums[i], i))\n",
    "            while maxheap[0][1] < i - k + 1:\n",
    "                heapq.heappop(maxheap)\n",
    "            ans.append(-maxheap[0][0])\n",
    "        return ans"
   ]
  },
  {
   "cell_type": "code",
   "execution_count": null,
   "metadata": {},
   "outputs": [],
   "source": [
    "# 1438. Longest Continuous Subarray With Absolute Diff Less Than or Equal to Limit (https://leetcode.com/problems/longest-continuous-subarray-with-absolute-diff-less-than-or-equal-to-limit/)\n",
    "class Solution:\n",
    "    def longestSubarray(self, nums: List[int], limit: int) -> int:\n",
    "        ans = 0\n",
    "        stack1 = collections.deque() #monotonic dec\n",
    "        stack2 = collections.deque() #monotonic inc\n",
    "        le = 0\n",
    "        for ri in range(len(nums)):\n",
    "            while stack1 and nums[stack1[-1]] < nums[ri]:\n",
    "                stack1.pop()\n",
    "            while stack2 and nums[stack2[-1]] > nums[ri]:\n",
    "                stack2.pop()\n",
    "            stack1.append(ri)\n",
    "            stack2.append(ri)\n",
    "            # maintain the window property\n",
    "            while abs(nums[stack1[0]]-nums[stack2[0]]) > limit:\n",
    "                le += 1\n",
    "                if stack1[0] < le:\n",
    "                    stack1.popleft()\n",
    "                if stack2[0] < le:\n",
    "                    stack2.popleft()\n",
    "            ans = max(ans, ri-le+1)\n",
    "        return ans"
   ]
  },
  {
   "cell_type": "code",
   "execution_count": null,
   "metadata": {},
   "outputs": [],
   "source": [
    "# Next Greater Element I (https://leetcode.com/problems/next-greater-element-i/)\n",
    "class Solution:\n",
    "    def nextGreaterElement(self, nums1: List[int], nums2: List[int]) -> List[int]:\n",
    "        ans = [-1]*len(nums1)\n",
    "        stack = [] # monotonic decrease\n",
    "        s = {}\n",
    "\n",
    "        for num in nums2:\n",
    "            while stack and stack[-1] < num:\n",
    "                val = stack.pop()\n",
    "                s[val] = num\n",
    "            stack.append(num)\n",
    "\n",
    "        for i in range(len(nums1)):\n",
    "            if nums1[i] in s:\n",
    "                ans[i] = s[nums1[i]]\n",
    "        return ans"
   ]
  },
  {
   "cell_type": "code",
   "execution_count": null,
   "metadata": {},
   "outputs": [],
   "source": [
    "# Online Stock Span (https://leetcode.com/problems/online-stock-span/)\n",
    "class StockSpanner:\n",
    "    def __init__(self):\n",
    "        self.stack = [] # monotonic decreasing\n",
    "        return\n",
    "    \n",
    "    def next(self, price):\n",
    "        ans = 1\n",
    "        while self.stack and self.stack[-1][0] <= price:\n",
    "            ans += self.stack.pop()[1]\n",
    "        self.stack.append([price, ans])\n",
    "        return ans"
   ]
  },
  {
   "cell_type": "code",
   "execution_count": null,
   "metadata": {},
   "outputs": [],
   "source": [
    "# 2297. Jump Game VIII (https://leetcode.com/problems/jump-game-viii/)\n",
    "class Solution:\n",
    "    def minCost(self, nums: List[int], costs: List[int]) -> int:\n",
    "        n = len(nums)\n",
    "        dp = [math.inf]*n\n",
    "        dp[0] = 0\n",
    "        dec_stack = [0]\n",
    "        inc_stack = [0]\n",
    "\n",
    "        for i in range(1, n):\n",
    "            while dec_stack and nums[i] >= nums[dec_stack[-1]]:\n",
    "                fr = dec_stack.pop()\n",
    "                dp[i] = min(dp[i], dp[fr] + costs[i])\n",
    "            dec_stack.append(i)\n",
    "            while inc_stack and nums[i] < nums[inc_stack[-1]]:\n",
    "                fr = inc_stack.pop()\n",
    "                dp[i] = min(dp[i], dp[fr] + costs[i])\n",
    "            inc_stack.append(i)\n",
    "        return dp[-1]"
   ]
  },
  {
   "cell_type": "code",
   "execution_count": null,
   "metadata": {},
   "outputs": [],
   "source": [
    "# 2355. Maximum number of books you can take (https://leetcode.com/problems/maximum-number-of-books-you-can-take/)\n",
    "class Solution:\n",
    "    def maximumBooks(self, books: List[int]) -> int:\n",
    "        n = len(books)\n",
    "        dp = [0]*n\n",
    "        stack = []\n",
    "        best = 0\n",
    "        def calcSum(i, j):\n",
    "            k = min(j-i+1, books[j])\n",
    "            return (2*books[j] - k + 1)*k//2\n",
    "        for i in range(n):\n",
    "            while stack and books[stack[-1]] - stack[-1] >= books[i] - i:\n",
    "                stack.pop()\n",
    "            if not stack:\n",
    "                dp[i] = calcSum(0, i)\n",
    "            else:\n",
    "                dp[i] = dp[stack[-1]] + calcSum(stack[-1]+1, i)\n",
    "            stack.append(i)\n",
    "            best = max(dp[i], best)\n",
    "        return best"
   ]
  },
  {
   "cell_type": "code",
   "execution_count": 1,
   "metadata": {},
   "outputs": [
    {
     "data": {
      "text/plain": [
       "4"
      ]
     },
     "execution_count": 1,
     "metadata": {},
     "output_type": "execute_result"
    }
   ],
   "source": [
    "# 1813. Sentence Similarity III (https://leetcode.com/problems/sentence-similarity-iii/)\n",
    "class Solution:\n",
    "    def areSentencesSimilar(self, sentence1: str, sentence2: str) -> bool:\n",
    "        S1 = collections.deque(sentence1.split(\" \"))\n",
    "        S2 = collections.deque(sentence2.split(\" \"))\n",
    "        while S1 and S2 and (S1[0] == S2[0]):\n",
    "            S1.popleft()\n",
    "            S2.popleft()\n",
    "        while S1 and S2 and (S1[-1] == S2[-1]):\n",
    "            S1.pop()\n",
    "            S2.pop()\n",
    "        return (not S1) or (not S2)"
   ]
  }
 ],
 "metadata": {
  "kernelspec": {
   "display_name": "Python 3",
   "language": "python",
   "name": "python3"
  },
  "language_info": {
   "codemirror_mode": {
    "name": "ipython",
    "version": 3
   },
   "file_extension": ".py",
   "mimetype": "text/x-python",
   "name": "python",
   "nbconvert_exporter": "python",
   "pygments_lexer": "ipython3",
   "version": "3.11.9"
  }
 },
 "nbformat": 4,
 "nbformat_minor": 2
}
