{
 "cells": [
  {
   "attachments": {},
   "cell_type": "markdown",
   "id": "eff5a61d-f729-4c66-98bc-6d6fab2a8083",
   "metadata": {},
   "source": [
    "## 3. 无重复字符的最长子串"
   ]
  },
  {
   "attachments": {},
   "cell_type": "markdown",
   "id": "fa1857ad-dfa5-41c6-955b-abeedc1234bf",
   "metadata": {},
   "source": [
    "滑窗 + 哈希表"
   ]
  },
  {
   "cell_type": "code",
   "execution_count": 37,
   "id": "77f7d997-48c3-4f83-8950-b49e4498383d",
   "metadata": {},
   "outputs": [],
   "source": [
    "from collections import defaultdict\n",
    "class Solution:\n",
    "    def lengthOfLongestSubstring(self, s: str) -> int:\n",
    "        cnt = defaultdict(int)\n",
    "        left = right = 0\n",
    "        ans = 0\n",
    "        while right < len(s):\n",
    "            # print(cnt)\n",
    "            cur = s[right]\n",
    "            cnt[cur] += 1\n",
    "            while cnt[cur] > 1 and left <= right:\n",
    "                cnt[s[left]] -= 1\n",
    "                left += 1\n",
    "            right += 1\n",
    "            ans = max(ans, right - left)\n",
    "        return ans"
   ]
  },
  {
   "cell_type": "code",
   "execution_count": 38,
   "id": "949d3972-e08e-4180-93d4-fb044c293142",
   "metadata": {},
   "outputs": [],
   "source": [
    "s = \"\""
   ]
  },
  {
   "cell_type": "code",
   "execution_count": 39,
   "id": "29df213e-885e-42de-a990-940aef8dc344",
   "metadata": {},
   "outputs": [
    {
     "data": {
      "text/plain": [
       "0"
      ]
     },
     "execution_count": 39,
     "metadata": {},
     "output_type": "execute_result"
    }
   ],
   "source": [
    "S = Solution()\n",
    "S.lengthOfLongestSubstring(s)"
   ]
  },
  {
   "attachments": {},
   "cell_type": "markdown",
   "id": "3ecf8f07-2615-446d-a90b-8ee94b0fc0a6",
   "metadata": {},
   "source": [
    "也可以用set代替哈希表的作用"
   ]
  },
  {
   "attachments": {},
   "cell_type": "markdown",
   "id": "aed01b4e-a666-4f8d-9cbe-ab33ec27d893",
   "metadata": {},
   "source": [
    "## 206. 反转链表"
   ]
  },
  {
   "attachments": {},
   "cell_type": "markdown",
   "id": "95098a47-d956-4c88-ac4b-4414481a8f73",
   "metadata": {},
   "source": [
    "链表常见双指针"
   ]
  },
  {
   "cell_type": "code",
   "execution_count": 40,
   "id": "1215f95d-87b8-4eda-8c3a-fa9d2fb88f5b",
   "metadata": {},
   "outputs": [],
   "source": [
    "# Definition for singly-linked list.\n",
    "class ListNode:\n",
    "    def __init__(self, val=0, next=None):\n",
    "        self.val = val\n",
    "        self.next = next"
   ]
  },
  {
   "cell_type": "code",
   "execution_count": 43,
   "id": "2cde8fdb-407b-4982-8792-d46c85f26331",
   "metadata": {},
   "outputs": [],
   "source": [
    "from typing import Optional\n",
    "class Solution:\n",
    "    def reverseList(self, head: Optional[ListNode]) -> Optional[ListNode]:\n",
    "        pre, cur = None, head\n",
    "        while cur:\n",
    "            nxt = cur.next\n",
    "            cur.next = pre\n",
    "            pre = cur\n",
    "            cur = nxt\n",
    "        return pre"
   ]
  },
  {
   "attachments": {},
   "cell_type": "markdown",
   "id": "e9d92aa3-b830-4aaf-b2be-102b3fbc9efa",
   "metadata": {},
   "source": [
    "### 递归"
   ]
  },
  {
   "cell_type": "code",
   "execution_count": 45,
   "id": "8bf55503-2a0c-4c7c-9937-833df4a812fa",
   "metadata": {},
   "outputs": [],
   "source": [
    "class Solution:\n",
    "    def reverseList(self, head: Optional[ListNode]) -> Optional[ListNode]:\n",
    "        def reverse(pre, cur):\n",
    "            if not cur: return pre\n",
    "            nxt = cur.next\n",
    "            cur.next = pre\n",
    "            return reverse(cur, nxt)\n",
    "        return reverse(None, head)"
   ]
  },
  {
   "attachments": {},
   "cell_type": "markdown",
   "id": "6984328d-f6c0-4a3d-9bf8-95cd36957155",
   "metadata": {},
   "source": [
    "## 146. LRU缓存 (重要)"
   ]
  },
  {
   "attachments": {},
   "cell_type": "markdown",
   "id": "15b94312-69c0-4555-a5cf-cd45b256024f",
   "metadata": {},
   "source": [
    "双向链表 + 哈希表"
   ]
  },
  {
   "attachments": {},
   "cell_type": "markdown",
   "id": "fa402a1b-4ef8-4939-a537-9d7b092a9df5",
   "metadata": {},
   "source": [
    "哈希表中存放双向链表的节点，这样就能以 O(1) 的复杂度进行查询；定位到要操作的节点之后，双链表的增删改都是 O(1) 的复杂度。 同时双向链表中存储键值对，查询映射关系。"
   ]
  },
  {
   "cell_type": "code",
   "execution_count": 9,
   "id": "5d65fc60-8104-49bb-a4d8-2fdb1324bf5f",
   "metadata": {},
   "outputs": [],
   "source": [
    "class DLinkedNode:\n",
    "    \"\"\"双向链表\"\"\"\n",
    "    def __init__(self, key = 0, value = 0):\n",
    "        self.key = key\n",
    "        self.value = value\n",
    "        self.prev = None\n",
    "        self.next = None\n",
    "\n",
    "class LRUCache:\n",
    "\n",
    "    def __init__(self, capacity: int):\n",
    "        self.head = DLinkedNode()\n",
    "        self.tail = DLinkedNode()\n",
    "        self.head.next = self.tail\n",
    "        self.tail.prev = self.head\n",
    "        self.capacity = capacity\n",
    "        self.size = 0\n",
    "        self.cache = dict()\n",
    "        \n",
    "    def get(self, key: int) -> int:\n",
    "        if key not in self.cache:\n",
    "            return -1\n",
    "        node = self.cache[key]\n",
    "        self.moveToHead(node)\n",
    "        return node.value\n",
    "        \n",
    "    def put(self, key: int, value: int) -> None:\n",
    "        if key not in self.cache:\n",
    "            node = DLinkedNode(key, value)\n",
    "            self.cache[key] = node\n",
    "            self.addToHead(node)\n",
    "            self.size += 1\n",
    "            if self.size > self.capacity:\n",
    "                removed = self.removeTail()\n",
    "                self.cache.pop(removed.key)\n",
    "                self.size -= 1\n",
    "        else:\n",
    "            node = self.cache[key]\n",
    "            node.value = value\n",
    "            self.moveToHead(node)\n",
    "    \n",
    "    def addToHead(self, node):\n",
    "        node.prev = self.head\n",
    "        node.next = self.head.next\n",
    "        self.head.next.prev = node\n",
    "        self.head.next = node\n",
    "        \n",
    "    def removeNode(self, node):\n",
    "        node.next.prev = node.prev\n",
    "        node.prev.next = node.next\n",
    "    \n",
    "    def moveToHead(self, node):\n",
    "        self.removeNode(node)\n",
    "        self.addToHead(node)\n",
    "        \n",
    "    def removeTail(self):\n",
    "        node = self.tail.prev\n",
    "        self.removeNode(node)\n",
    "        return node\n",
    "        \n",
    "        "
   ]
  },
  {
   "attachments": {},
   "cell_type": "markdown",
   "id": "e33a05e2-091b-42de-b889-282d7b5d5d73",
   "metadata": {},
   "source": [
    "## 215. 数组中的第K个最大元素"
   ]
  },
  {
   "attachments": {},
   "cell_type": "markdown",
   "id": "a2c1618b-bf03-4611-97c6-5bd20713c80e",
   "metadata": {},
   "source": [
    "### 快速选择"
   ]
  },
  {
   "cell_type": "code",
   "execution_count": 13,
   "id": "4b1c369f-aef4-4873-bc29-95ee1674869f",
   "metadata": {},
   "outputs": [],
   "source": [
    "import random\n",
    "from typing import List\n",
    "class Solution:\n",
    "    def findKthLargest(self, nums: List[int], k: int) -> int:\n",
    "        def partition(nums, l, r):\n",
    "            cur = random.randint(l, r)\n",
    "            x, i = nums[cur], l\n",
    "            nums[cur], nums[r] = nums[r], nums[cur]\n",
    "            for j in range(l, r):\n",
    "                if nums[j] <= x:\n",
    "                    nums[j], nums[i] = nums[i], nums[j]\n",
    "                    i += 1\n",
    "            nums[r], nums[i] = nums[i], nums[r]\n",
    "            return i\n",
    "        \n",
    "        def quick_select(nums, l, r, k):\n",
    "            idx = partition(nums, l, r)\n",
    "            if idx == k: return nums[idx]\n",
    "            return quick_select(nums, idx + 1, r, k) if idx < k else\\\n",
    "            quick_select(nums, l, idx - 1, k)\n",
    "        \n",
    "        return quick_select(nums, 0, len(nums) - 1, len(nums) - k)"
   ]
  },
  {
   "attachments": {},
   "cell_type": "markdown",
   "id": "f042a4e5-4ace-44ef-b76c-d8bb45fb02cd",
   "metadata": {},
   "source": [
    "### 最小堆"
   ]
  },
  {
   "cell_type": "code",
   "execution_count": 16,
   "id": "8ed6a376-54d0-4867-97ff-c575b20a49c4",
   "metadata": {},
   "outputs": [],
   "source": [
    "import heapq\n",
    "class Solution:\n",
    "    def findKthLargest(self, nums: List[int], k: int) -> int:\n",
    "        heap = []\n",
    "        for n in nums:\n",
    "            if len(heap) == k: heapq.heappushpop(heap, n)\n",
    "            else: heapq.heappush(heap, n)\n",
    "        return heap[0]"
   ]
  },
  {
   "attachments": {},
   "cell_type": "markdown",
   "id": "6bc16f12-777d-4cee-a266-c9ff49763ce6",
   "metadata": {},
   "source": [
    "## 25. K个一组反转链表"
   ]
  },
  {
   "attachments": {},
   "cell_type": "markdown",
   "id": "58fccbe3-a72f-44d8-b351-7bbfdf920f67",
   "metadata": {},
   "source": [
    "重点在于细节的考虑"
   ]
  },
  {
   "cell_type": "code",
   "execution_count": 1,
   "id": "0f1710f7-68a4-48cb-ae62-a921a9d7364f",
   "metadata": {},
   "outputs": [],
   "source": [
    "# Definition for singly-linked list.\n",
    "class ListNode:\n",
    "    def __init__(self, val=0, next=None):\n",
    "        self.val = val\n",
    "        self.next = next"
   ]
  },
  {
   "cell_type": "code",
   "execution_count": 3,
   "id": "689a475b-5c04-4531-a9dc-a674d2589aa3",
   "metadata": {},
   "outputs": [],
   "source": [
    "class Solution:\n",
    "    def reverse(self, head: ListNode, tail: ListNode):\n",
    "        \"\"\"翻转一个子链表，并且返回新的头与尾\"\"\"\n",
    "        pre = tail.next\n",
    "        cur = head\n",
    "        while pre != tail:\n",
    "            nxt = cur.next\n",
    "            cur.next = pre\n",
    "            pre = cur\n",
    "            cur = nxt\n",
    "        return tail, head\n",
    "    \n",
    "    def reverseKGroup(self, head: ListNode, k: int) -> ListNode:\n",
    "        dumb = ListNode(0, head)\n",
    "        pre = dumb\n",
    "    \n",
    "        while head:\n",
    "            tail = pre\n",
    "            # 判断剩余部分长度是否大于等于 k\n",
    "            # 大于的话定位到 要翻转的最后一个节点，否则之间返回链表的头节点\n",
    "            for _ in range(k):\n",
    "                tail = tail.next\n",
    "                if not tail:\n",
    "                    return dumb.next\n",
    "            nxt = tail.next\n",
    "            head, tail = self.reverse(head, tail)\n",
    "            # 把子链表重新接回原链表\n",
    "            pre.next = head\n",
    "            tail.next = nxt\n",
    "            pre = tail\n",
    "            head = tail.next\n",
    "            \n",
    "        return dumb.next"
   ]
  },
  {
   "attachments": {},
   "cell_type": "markdown",
   "id": "5d0e8993-2f72-4c9a-aada-c563df24e5af",
   "metadata": {},
   "source": [
    "## 15. 三数之和"
   ]
  },
  {
   "attachments": {},
   "cell_type": "markdown",
   "id": "93e5de61-5acd-441e-b00d-6c582cf11eec",
   "metadata": {},
   "source": [
    "要点：在第二层遍历中使用双指针反向查询目标和"
   ]
  },
  {
   "cell_type": "code",
   "execution_count": 8,
   "id": "3911fa89-6fb4-44cf-acae-728a23f6031b",
   "metadata": {},
   "outputs": [],
   "source": [
    "from typing import List\n",
    "class Solution:\n",
    "    def threeSum(self, nums: List[int]) -> List[List[int]]:\n",
    "        nums.sort()\n",
    "        n, res = len(nums), []\n",
    "        for i in range(n):\n",
    "            if i > 0 and nums[i] == nums[i - 1]: continue\n",
    "            tgt = -nums[i]\n",
    "            k = n - 1  # 每次都重新枚举一遍 k\n",
    "            for j in range(i + 1, n):\n",
    "                if j > i + 1 and nums[j] == nums[j - 1]: continue\n",
    "                while j < k + 1 and nums[j] + nums[k] > tgt: k -= 1\n",
    "                if j == k: break  # 指针重合时特判，直接 break\n",
    "                if nums[j] + nums[k] == tgt:\n",
    "                    res.append([nums[i], nums[j], nums[k]])\n",
    "        return res"
   ]
  },
  {
   "attachments": {},
   "cell_type": "markdown",
   "id": "34a1689a-ca85-45a8-a29e-2e0c4b1920a4",
   "metadata": {},
   "source": [
    "## 53. 最大子数组和"
   ]
  },
  {
   "attachments": {},
   "cell_type": "markdown",
   "id": "6238f222-20d6-4c5c-b887-a24ead3b953a",
   "metadata": {},
   "source": [
    "### 动态规划"
   ]
  },
  {
   "attachments": {},
   "cell_type": "markdown",
   "id": "831c44d4-a01b-4c68-88b0-dc6836fe10be",
   "metadata": {},
   "source": [
    "思路：考虑以 nums[i] 为结尾的最大子数组和，则 nums[i] 可以单独成段或与前面的数字一起，即：\n",
    "\n",
    "dp[i] = max(nums[i], dp[i - 1] + nums[i])， dp[-1] = -∞，遍历时维护最大值即可。"
   ]
  },
  {
   "cell_type": "code",
   "execution_count": 9,
   "id": "a77b3e04-365f-4bd1-b414-d863d8c7657c",
   "metadata": {},
   "outputs": [],
   "source": [
    "class Solution:\n",
    "    def maxSubArray(self, nums: List[int]) -> int:\n",
    "        ans = nums[0]\n",
    "        pre = -float(\"Inf\")\n",
    "        for n in nums:\n",
    "            pre = n if pre < 0 else pre + n\n",
    "            ans = max(ans, pre)\n",
    "        return ans"
   ]
  },
  {
   "attachments": {},
   "cell_type": "markdown",
   "id": "305064de-adcd-4941-90e6-22a48728fa3f",
   "metadata": {},
   "source": [
    "## 912. 排序数组"
   ]
  },
  {
   "cell_type": "code",
   "execution_count": 48,
   "id": "39c949fa-2407-43a4-9bfd-afe19ec197ac",
   "metadata": {},
   "outputs": [],
   "source": [
    "from random import randint\n",
    "from typing import List\n",
    "class Solution:\n",
    "    def sortArray(self, nums: List[int]) -> List[int]:\n",
    "        def quick_sort(l, r):\n",
    "            if l < r:\n",
    "                x, cur = randint(l, r), l\n",
    "                nums[x], nums[r] = nums[r], nums[x]\n",
    "                for i in range(l, r):\n",
    "                    if nums[i] < nums[r]:\n",
    "                        nums[cur], nums[i] = nums[i], nums[cur]\n",
    "                        cur += 1\n",
    "                nums[cur], nums[r] = nums[r], nums[cur]\n",
    "                quick_sort(l, cur - 1)\n",
    "                quick_sort(cur + 1, r)\n",
    "        quick_sort(0, len(nums) - 1)\n",
    "        return nums"
   ]
  },
  {
   "cell_type": "code",
   "execution_count": 27,
   "id": "75452450-2f8a-4fde-a82d-7e0becba91e5",
   "metadata": {},
   "outputs": [],
   "source": [
    "nums = [5,1,1,2,0,0]"
   ]
  },
  {
   "cell_type": "code",
   "execution_count": 28,
   "id": "72e68ecf-11e7-4ed1-96bf-f6c2a4747424",
   "metadata": {},
   "outputs": [
    {
     "data": {
      "text/plain": [
       "[0, 0, 1, 1, 2, 5]"
      ]
     },
     "execution_count": 28,
     "metadata": {},
     "output_type": "execute_result"
    }
   ],
   "source": [
    "s = Solution()\n",
    "s.sortArray(nums)"
   ]
  },
  {
   "attachments": {},
   "cell_type": "markdown",
   "id": "979d18a8-f685-4d77-8f37-a75b2d3c9c95",
   "metadata": {},
   "source": [
    "原始的快排过不了最后一个重复数字很多的例子，需用到三路快排"
   ]
  },
  {
   "attachments": {},
   "cell_type": "markdown",
   "id": "7519e66b-226c-4103-be12-34ff4dc4926f",
   "metadata": {},
   "source": [
    "### 三路快排"
   ]
  },
  {
   "attachments": {},
   "cell_type": "markdown",
   "id": "655afee7-e8f5-4755-b1d9-416cc0445a61",
   "metadata": {},
   "source": [
    "将排序的数据分为三部分，小于 x 等于 x 和大于 x，这样只需对前后两部分进行排序即可，用于解决重复数字较多的情况。"
   ]
  },
  {
   "cell_type": "code",
   "execution_count": 26,
   "id": "44c4d563-6f4c-4377-b963-6851335256fd",
   "metadata": {},
   "outputs": [],
   "source": [
    "from random import randint\n",
    "from typing import List\n",
    "class Solution:\n",
    "    def sortArray(self, nums: List[int]) -> List[int]:\n",
    "        def quick_sort(arr, l, r):\n",
    "            if l >= r:\n",
    "                return\n",
    "            random_index = random.randint(l, r)\n",
    "            pivot = arr[random_index]\n",
    "            arr[l], arr[random_index] = arr[random_index], arr[l]\n",
    "            i = l + 1\n",
    "            j = l \n",
    "            k = r + 1\n",
    "            while i < k:\n",
    "                if arr[i] < pivot:\n",
    "                    arr[i], arr[j + 1] = arr[j + 1], arr[i]\n",
    "                    j += 1\n",
    "                    i += 1\n",
    "                elif arr[i] > pivot:\n",
    "                    arr[i], arr[k - 1] = arr[k - 1], arr[i]\n",
    "                    k -= 1\n",
    "                else: \n",
    "                    i += 1\n",
    "            arr[l], arr[j] = arr[j], arr[l]\n",
    "            quick_sort(arr, l, j - 1)\n",
    "            quick_sort(arr, k, r)\n",
    "                \n",
    "        quick_sort(nums, 0, len(nums) - 1)\n",
    "        return nums"
   ]
  },
  {
   "cell_type": "code",
   "execution_count": 7,
   "id": "6faecdab-51ab-4b74-91bf-027933cd45b8",
   "metadata": {},
   "outputs": [],
   "source": [
    "import random\n",
    "def quick_sort(arr, l, r):\n",
    "    if l >= r:\n",
    "        return\n",
    "    random_index = random.randint(l, r)\n",
    "    pivot = arr[random_index]\n",
    "    arr[l], arr[random_index] = arr[random_index], arr[l]\n",
    "    i = l + 1\n",
    "    j = l \n",
    "    k = r + 1\n",
    "    while i < k:\n",
    "        if arr[i] < pivot:\n",
    "            arr[i], arr[j + 1] = arr[j + 1], arr[i]\n",
    "            j += 1\n",
    "            i += 1\n",
    "        elif arr[i] > pivot:\n",
    "            arr[i], arr[k - 1] = arr[k - 1], arr[i]\n",
    "            k -= 1\n",
    "        else: \n",
    "            i += 1\n",
    "    arr[l], arr[j] = arr[j], arr[l]\n",
    "    quick_sort(arr, l, j - 1)\n",
    "    quick_sort(arr, k, r)"
   ]
  },
  {
   "cell_type": "code",
   "execution_count": 19,
   "id": "0ccedc4e-2715-46ad-abb7-a331dc5bb88a",
   "metadata": {},
   "outputs": [
    {
     "data": {
      "text/plain": [
       "[0, 1, 2, 3, 4, 5]"
      ]
     },
     "execution_count": 19,
     "metadata": {},
     "output_type": "execute_result"
    }
   ],
   "source": [
    "arr = [5,4,3,2,1,0]\n",
    "quick_sort(arr, 0, 5)\n",
    "arr"
   ]
  },
  {
   "attachments": {},
   "cell_type": "markdown",
   "id": "72a308e2-1ade-4cf8-b024-ff36e12a64e9",
   "metadata": {},
   "source": [
    "## 21. 合并两个有序链表"
   ]
  },
  {
   "cell_type": "code",
   "execution_count": 1,
   "id": "5fd9f8f5-2c72-4177-8bff-37621fba2a07",
   "metadata": {},
   "outputs": [],
   "source": [
    "# Definition for singly-linked list.\n",
    "class ListNode:\n",
    "    def __init__(self, val=0, next=None):\n",
    "        self.val = val\n",
    "        self.next = next"
   ]
  },
  {
   "attachments": {},
   "cell_type": "markdown",
   "id": "c7496684-dc8a-49fb-ba5c-39e2e37a1557",
   "metadata": {},
   "source": [
    "### 迭代"
   ]
  },
  {
   "cell_type": "code",
   "execution_count": 3,
   "id": "258b7e19-8446-4f2b-86a1-3d6b41b5a0d1",
   "metadata": {},
   "outputs": [],
   "source": [
    "from typing import Optional\n",
    "class Solution:\n",
    "    def mergeTwoLists(self, list1: Optional[ListNode], list2: Optional[ListNode]) -> Optional[ListNode]:\n",
    "        dumb = ListNode()\n",
    "        cur = dumb\n",
    "        while list1 and list2:\n",
    "            if list1.val <= list2.val:\n",
    "                cur.next = list1\n",
    "                list1 = list1.next\n",
    "            else:\n",
    "                cur.next = list2\n",
    "                list2 = list2.next\n",
    "            cur = cur.next\n",
    "        if list1: cur.next = list1\n",
    "        if list2: cur.next = list2\n",
    "        return dumb.next"
   ]
  },
  {
   "attachments": {},
   "cell_type": "markdown",
   "id": "b20adbf6-3fdb-4b59-9a77-2379f9859434",
   "metadata": {},
   "source": [
    "### 递归"
   ]
  },
  {
   "cell_type": "code",
   "execution_count": 6,
   "id": "2bab3871-0328-4276-98c0-bef8aa0e35e9",
   "metadata": {},
   "outputs": [],
   "source": [
    "from typing import Optional\n",
    "class Solution:\n",
    "    def mergeTwoLists(self, list1: Optional[ListNode], list2: Optional[ListNode]) -> Optional[ListNode]:\n",
    "        if not list1: return list2\n",
    "        if not list2: return list1\n",
    "        if list1.val <= list2.val:\n",
    "            list1.next = self.mergeTwoLists(list1.next, list2)\n",
    "        else: list2.next = self.mergeTwoLists(list1, list2.next)\n",
    "        return list1 if list1.val <= list2.val else list2"
   ]
  },
  {
   "attachments": {},
   "cell_type": "markdown",
   "id": "2b13df77-c473-4c44-9cf9-288465753b3c",
   "metadata": {},
   "source": [
    "## 20. 有效的括号"
   ]
  },
  {
   "cell_type": "code",
   "execution_count": 10,
   "id": "c7a48b03-ef3b-4b48-83cf-b3f3073b3ffb",
   "metadata": {},
   "outputs": [],
   "source": [
    "class Solution:\n",
    "    def isValid(self, s: str) -> bool:\n",
    "        tab = {\")\": \"(\", \"]\": \"[\", \"}\": \"{\"}\n",
    "        stk = []\n",
    "        for c in s:\n",
    "            if c in tab:\n",
    "                if not stk or tab[c] != stk.pop(): \n",
    "                    return False\n",
    "            else: stk.append(c)\n",
    "        return not stk"
   ]
  },
  {
   "attachments": {},
   "cell_type": "markdown",
   "id": "6a09709a-cb3c-4c74-9926-5529e37dd445",
   "metadata": {},
   "source": [
    "## 121. 买卖股票的最佳时机"
   ]
  },
  {
   "cell_type": "code",
   "execution_count": 12,
   "id": "84585b26-c516-4e73-8320-d25da493c8a7",
   "metadata": {},
   "outputs": [],
   "source": [
    "from typing import List\n",
    "class Solution:\n",
    "    def maxProfit(self, prices: List[int]) -> int:\n",
    "        min_ = float(\"inf\")\n",
    "        ans = 0\n",
    "        for n in prices:\n",
    "            min_ = min(min_, n)\n",
    "            ans = max(ans, n - min_)\n",
    "        return ans"
   ]
  },
  {
   "attachments": {},
   "cell_type": "markdown",
   "id": "5e3f6ede-0923-495a-9de3-3cdb5d710b66",
   "metadata": {},
   "source": [
    "## 141. 环形链表"
   ]
  },
  {
   "cell_type": "code",
   "execution_count": 13,
   "id": "de3a227e-4ae8-46dc-bc1f-ae3d24c6235e",
   "metadata": {},
   "outputs": [],
   "source": [
    "# Definition for singly-linked list.\n",
    "class ListNode:\n",
    "    def __init__(self, x):\n",
    "        self.val = x\n",
    "        self.next = None"
   ]
  },
  {
   "cell_type": "code",
   "execution_count": 16,
   "id": "10678269-fae3-4c1c-8ea9-6a3238d40f8d",
   "metadata": {},
   "outputs": [],
   "source": [
    "class Solution:\n",
    "    def hasCycle(self, head: Optional[ListNode]) -> bool:\n",
    "        slow = fast = head\n",
    "        while fast and fast.next and fast.next.next:\n",
    "            slow = slow.next\n",
    "            fast = fast.next.next\n",
    "            if slow == fast:\n",
    "                return True\n",
    "        return False"
   ]
  },
  {
   "attachments": {},
   "cell_type": "markdown",
   "id": "597f69a4-3cf5-470c-888c-2d5a035fa29f",
   "metadata": {},
   "source": [
    "## 5. 最长回文串"
   ]
  },
  {
   "cell_type": "code",
   "execution_count": 18,
   "id": "4588bacd-efa2-4f37-b306-513d4df2de4d",
   "metadata": {},
   "outputs": [],
   "source": [
    "class Solution:\n",
    "    def longestPalindrome(self, s: str) -> str:\n",
    "        def expand(l, r):\n",
    "            while l >= 0 and r < n and s[l] == s[r]:\n",
    "                l -= 1\n",
    "                r += 1\n",
    "            return l + 1, r  # 返回的值刚好可以作为索引\n",
    "        \n",
    "        n = len(s)\n",
    "        left = right = 0\n",
    "        for i in range(n):\n",
    "            l1, r1 = expand(i, i + 1)\n",
    "            l2, r2 = expand(i, i)\n",
    "            if r1 - l1 > right - left: left, right = l1, r1\n",
    "            if r2 - l2 > right - left: left, right = l2, r2\n",
    "            \n",
    "        return s[left: right]"
   ]
  },
  {
   "cell_type": "markdown",
   "id": "1cb0eba4-8c16-495b-9988-3636cb280037",
   "metadata": {},
   "source": [
    "## [236. 二叉树的最近公共祖先](https://leetcode.cn/problems/lowest-common-ancestor-of-a-binary-tree/description/)"
   ]
  },
  {
   "cell_type": "code",
   "execution_count": 19,
   "id": "ac90782b-054f-49cc-87db-f216ad40a862",
   "metadata": {},
   "outputs": [],
   "source": [
    "# Definition for a binary tree node.\n",
    "class TreeNode:\n",
    "    def __init__(self, x):\n",
    "        self.val = x\n",
    "        self.left = None\n",
    "        self.right = None"
   ]
  },
  {
   "cell_type": "code",
   "execution_count": 29,
   "id": "9ccf7d94-960c-4b5b-8d08-0ed6ca7c0781",
   "metadata": {},
   "outputs": [],
   "source": [
    "class Solution:\n",
    "    def lowestCommonAncestor(self, root: 'TreeNode', p: 'TreeNode', q: 'TreeNode') -> 'TreeNode':\n",
    "        def dfs(node, path):\n",
    "            if node == p or node == q:\n",
    "                res.append(path)\n",
    "            if node.left:\n",
    "                dfs(node.left, path + [node.left])\n",
    "            if node.right:\n",
    "                dfs(node.right, path + [node.right])\n",
    "        res = []\n",
    "        dfs(root, [root])\n",
    "        res.sort(key = lambda x: len(x))\n",
    "        # print(res)\n",
    "        for node in res[1]:\n",
    "            if node in res[0]:\n",
    "                ans = node\n",
    "        return ans"
   ]
  },
  {
   "attachments": {},
   "cell_type": "markdown",
   "id": "0282f652-c701-4c33-811a-e150ec98bbb0",
   "metadata": {},
   "source": [
    "### 存储父节点"
   ]
  },
  {
   "cell_type": "markdown",
   "id": "b8415c87",
   "metadata": {},
   "source": [
    "记录所有节点的父节点，从 `p` 开始不断往上跳，记录经过的结点，再从 `q` 开始往上跳，发现记录过的节点即为最近公共祖先。"
   ]
  },
  {
   "cell_type": "code",
   "execution_count": 1,
   "id": "f3e3a5ad-75c3-4cf8-9e7e-211880853d65",
   "metadata": {},
   "outputs": [],
   "source": [
    "class Solution:\n",
    "    def lowestCommonAncestor(self, root: 'TreeNode', p: 'TreeNode', q: 'TreeNode') -> 'TreeNode':\n",
    "        def dfs(node, fa):\n",
    "            cnt[node] = fa\n",
    "            if node.left:\n",
    "                dfs(node.left, node)\n",
    "            if node.right:\n",
    "                dfs(node.right, node)\n",
    "        \n",
    "        cnt = {}\n",
    "        dfs(root, None)\n",
    "        vis = set()\n",
    "        cur = p\n",
    "        while cur:\n",
    "            vis.add(cur)\n",
    "            cur = cnt[cur]\n",
    "        cur = q\n",
    "        while cur:\n",
    "            if cur in vis: return cur\n",
    "            cur = cnt[cur]\n",
    "        return "
   ]
  },
  {
   "attachments": {},
   "cell_type": "markdown",
   "id": "dc84d327-d0f4-4c77-8883-b9dd4f2843d8",
   "metadata": {},
   "source": [
    "### 巧妙的递归"
   ]
  },
  {
   "cell_type": "markdown",
   "id": "1e388e96",
   "metadata": {},
   "source": [
    "一个节点 node 是 LCA 当且仅当：\n",
    "\n",
    "1. node 是 p 或 q，且另一个节点在它的左子树或右子树中。\n",
    "2. p 和 q 分别在 node 的左子树与右子树中。\n",
    "\n",
    "一个节点是 “有用的（`return True`）” 当且仅当：\n",
    "\n",
    "1. node 是 p 或 q，或 p/q 在它的 左/右 子树中。"
   ]
  },
  {
   "attachments": {},
   "cell_type": "markdown",
   "id": "ca09965d-b6b5-46d7-9ab4-ce952447e3cd",
   "metadata": {},
   "source": [
    "> 我们递归遍历整棵二叉树，定义 $f_x$ 表示 $x$ 节点的子树中是否包含 $p$ 节点或 $q$ 节点，如果包含为 $true$，否则为 $false$。那么符合条件的最近公共祖先 $x$ 一定满足如下条件：\n",
    "$$(f_{lson}\\ \\&\\&\\ f_{rson})\\ ||\\ (x = p || x = q)\\ \\&\\&\\ (f_{lson}\\ ||\\ f_{rson})$$"
   ]
  },
  {
   "cell_type": "code",
   "execution_count": 40,
   "id": "2f703812-c524-400c-a506-a185d623348a",
   "metadata": {},
   "outputs": [],
   "source": [
    "class Solution:\n",
    "    def lowestCommonAncestor(self, root: 'TreeNode', p: 'TreeNode', q: 'TreeNode') -> 'TreeNode':\n",
    "        def dfs(x, p, q):\n",
    "            nonlocal ans\n",
    "            if not x: return False\n",
    "            lson = dfs(x.left, p, q)\n",
    "            rson = dfs(x.right, p, q)\n",
    "            # 满足LCA节点的条件\n",
    "            if (lson and rson) or (x.val == p.val or x.val == q.val) and (lson or rson):\n",
    "                ans = x\n",
    "            # 每个节点应当返回的值\n",
    "            return lson or rson or x.val == p.val or x.val == q.val\n",
    "        ans = None\n",
    "        dfs(root, p, q)\n",
    "        return ans"
   ]
  },
  {
   "attachments": {},
   "cell_type": "markdown",
   "id": "a0076db3-d218-4c3d-a65d-c839163a53ef",
   "metadata": {},
   "source": [
    "## 54. 螺旋矩阵"
   ]
  },
  {
   "attachments": {},
   "cell_type": "markdown",
   "id": "c3f62d68-0be7-4574-a02b-18eebc6a7510",
   "metadata": {},
   "source": [
    "nb 做法"
   ]
  },
  {
   "cell_type": "code",
   "execution_count": 6,
   "id": "e084e83a-7cbe-4855-bc28-b5e3be7fd3d1",
   "metadata": {},
   "outputs": [],
   "source": [
    "from typing import List\n",
    "class Solution:\n",
    "    def spiralOrder(self, matrix: List[List[int]]) -> List[int]:\n",
    "        res = []\n",
    "        while matrix:\n",
    "            # 削头\n",
    "            res += matrix.pop(0)\n",
    "            # 顺时针旋转 90 度再削头\n",
    "            # list(zip(*matrix)) 的作用为将矩阵逆时针旋转 90 度\n",
    "            # [::-1]再翻转，相当于顺时针 90 度\n",
    "            matrix = list(zip(*matrix))[::-1]\n",
    "        return res"
   ]
  },
  {
   "attachments": {},
   "cell_type": "markdown",
   "id": "07757a32-146a-4ffa-b9d4-3c21fc6a4283",
   "metadata": {},
   "source": [
    "## 23. 合并 k 个升序链表 "
   ]
  },
  {
   "cell_type": "code",
   "execution_count": 16,
   "id": "9c424604-3c51-4b81-a4c0-ae5ba2834d05",
   "metadata": {},
   "outputs": [],
   "source": [
    "# Definition for singly-linked list.\n",
    "class ListNode:\n",
    "    def __init__(self, val=0, next=None):\n",
    "        self.val = val\n",
    "        self.next = next"
   ]
  },
  {
   "cell_type": "code",
   "execution_count": 19,
   "id": "f311e73a-4b25-4a84-8a21-73cd859cb4bf",
   "metadata": {},
   "outputs": [],
   "source": [
    "from collections import deque\n",
    "from typing import Optional\n",
    "\n",
    "class Solution:\n",
    "    \n",
    "    def merge(self, l1, l2):\n",
    "        if not l1: return l2\n",
    "        if not l2: return l1\n",
    "        if l1.val < l2.val: l1.next = self.merge(l1.next, l2)\n",
    "        else: l2.next = self.merge(l1, l2.next)\n",
    "        return l1 if l1.val < l2.val else l2\n",
    "        \n",
    "    def mergeKLists(self, lists: List[Optional[ListNode]]) -> Optional[ListNode]:\n",
    "        dumb = ListNode()\n",
    "        lists = deque(lists)\n",
    "        while lists:\n",
    "            cur1 = lists.pop()\n",
    "            if not lists: return cur1\n",
    "            cur2 = lists.pop()\n",
    "            lists.append(self.merge(cur1, cur2))\n",
    "        return"
   ]
  },
  {
   "attachments": {},
   "cell_type": "markdown",
   "id": "c6bf30e1-3127-4156-8ac8-5a80c20ff847",
   "metadata": {},
   "source": [
    "## 92. 反转链表Ⅱ"
   ]
  },
  {
   "cell_type": "code",
   "execution_count": 20,
   "id": "16a6fc67-8c5c-49d6-8a1e-a581779ecd8d",
   "metadata": {},
   "outputs": [],
   "source": [
    "# Definition for singly-linked list.\n",
    "class ListNode:\n",
    "    def __init__(self, val=0, next=None):\n",
    "        self.val = val\n",
    "        self.next = next"
   ]
  },
  {
   "cell_type": "code",
   "execution_count": 21,
   "id": "3eabe677-25bb-4a6f-a293-f5adf49e724b",
   "metadata": {},
   "outputs": [],
   "source": [
    "class Solution:\n",
    "    def reverseBetween(self, head: Optional[ListNode], left: int, right: int) -> Optional[ListNode]:\n",
    "        def reverse(l, r):\n",
    "            if l != r:\n",
    "                pre, cur = l, l.next\n",
    "                while pre != r:\n",
    "                    cur.next = pre\n",
    "                    pre = cur\n",
    "                    cur = cur.next\n",
    "            return r, l\n",
    "        \n",
    "        cnt = 0\n",
    "        dumb = ListNode()\n",
    "        cur = dumb\n",
    "        while cur:\n",
    "            cnt += 1\n",
    "            if cnt == left: l = cur\n",
    "            if cnt == right + 1: r = cur\n",
    "            cur = cur.next\n",
    "        nr = r.next\n",
    "        ll, rr = reverse(l.next, r)\n",
    "        l.next = ll; rr.next = nr\n",
    "        \n",
    "        return dumb.next"
   ]
  },
  {
   "attachments": {},
   "cell_type": "markdown",
   "id": "29087c6d-5493-44cd-a55a-63dc699687e1",
   "metadata": {},
   "source": [
    "### 只遍历一次"
   ]
  },
  {
   "cell_type": "code",
   "execution_count": 23,
   "id": "fbf248da-3ec7-4253-816e-c8ab0655647d",
   "metadata": {},
   "outputs": [],
   "source": [
    "class Solution:\n",
    "    def reverseBetween(self, head: ListNode, left: int, right: int) -> ListNode:\n",
    "        # 设置 dummyNode 是这一类问题的一般做法\n",
    "        dummy_node = ListNode(-1)\n",
    "        dummy_node.next = head\n",
    "        pre = dummy_node\n",
    "        for _ in range(left - 1):\n",
    "            pre = pre.next\n",
    "\n",
    "        cur = pre.next\n",
    "        for _ in range(right - left):\n",
    "            nxt = cur.next\n",
    "            cur.next = nxt.next\n",
    "            nxt.next = pre.next\n",
    "            pre.next = nxt\n",
    "        return dummy_node.next"
   ]
  },
  {
   "attachments": {},
   "cell_type": "markdown",
   "id": "435de1e8-5f57-4eac-a8ae-4c725f7c1e4f",
   "metadata": {},
   "source": [
    "看不懂"
   ]
  },
  {
   "attachments": {},
   "cell_type": "markdown",
   "id": "b43c0e10-0585-4606-8698-56f5b3274d54",
   "metadata": {},
   "source": [
    "## 415. 字符串相加"
   ]
  },
  {
   "cell_type": "code",
   "execution_count": 46,
   "id": "b23bb159-5c5b-4dc4-a972-1da214586133",
   "metadata": {},
   "outputs": [],
   "source": [
    "class Solution:\n",
    "    def addStrings(self, num1: str, num2: str) -> str:\n",
    "        res = []; c = 0\n",
    "        p1, p2 = len(num1), len(num2)\n",
    "        while p1 > 0 or p2 > 0:\n",
    "            n1 = n2 = 0\n",
    "            if p1 > 0: n1 = int(num1[p1 - 1])\n",
    "            if p2 > 0: n2 = int(num2[p2 - 1])\n",
    "            nc, cur = divmod(n1 + n2 + c, 10)\n",
    "            res.append(str(cur))\n",
    "            c = nc\n",
    "            p1 -= 1; p2 -= 1\n",
    "        if c: res.append(\"1\")\n",
    "        return \"\".join(res[::-1])"
   ]
  },
  {
   "cell_type": "code",
   "execution_count": 49,
   "id": "18a23987-634d-4cc3-8cde-ac6154d75f12",
   "metadata": {},
   "outputs": [],
   "source": [
    "num1 = \"1\"; num2 = \"999999999999999\""
   ]
  },
  {
   "cell_type": "code",
   "execution_count": 50,
   "id": "2dc78cf8-9285-4854-8ec1-219fa86b0b11",
   "metadata": {},
   "outputs": [
    {
     "data": {
      "text/plain": [
       "'1000000000000000'"
      ]
     },
     "execution_count": 50,
     "metadata": {},
     "output_type": "execute_result"
    }
   ],
   "source": [
    "s = Solution()\n",
    "s.addStrings(num1, num2)"
   ]
  },
  {
   "attachments": {},
   "cell_type": "markdown",
   "id": "832ea949-7e0d-4a87-bdf3-ec44d7b257f6",
   "metadata": {},
   "source": [
    "## 142. 环形链表"
   ]
  },
  {
   "cell_type": "code",
   "execution_count": 51,
   "id": "4f75bbef-4b19-44b3-bf08-674b578ea939",
   "metadata": {},
   "outputs": [],
   "source": [
    "# Definition for singly-linked list.\n",
    "class ListNode:\n",
    "    def __init__(self, x):\n",
    "        self.val = x\n",
    "        self.next = None"
   ]
  },
  {
   "cell_type": "code",
   "execution_count": 53,
   "id": "b276867e-bd29-4573-a35a-9daca972483c",
   "metadata": {},
   "outputs": [],
   "source": [
    "class Solution:\n",
    "    def detectCycle(self, head: Optional[ListNode]) -> Optional[ListNode]:\n",
    "        vis = set(); cur = head\n",
    "        while cur:\n",
    "            if cur in vis: return cur\n",
    "            vis.add(cur)\n",
    "            cur = cur.next\n",
    "        return"
   ]
  },
  {
   "attachments": {},
   "cell_type": "markdown",
   "id": "4cdd5b2a-dc24-4c46-b156-0c24eb885ee0",
   "metadata": {},
   "source": [
    "### 可以空间复杂度为O(1)，但是看不懂"
   ]
  },
  {
   "attachments": {},
   "cell_type": "markdown",
   "id": "32f044a1-40ec-45ff-a457-eda8fcb6d1d6",
   "metadata": {},
   "source": [
    "## 143. 重排链表"
   ]
  },
  {
   "cell_type": "code",
   "execution_count": 1,
   "id": "505fe2bc-e73c-494f-8b53-2d959edb75e1",
   "metadata": {},
   "outputs": [],
   "source": [
    "# Definition for singly-linked list.\n",
    "class ListNode:\n",
    "    def __init__(self, val=0, next=None):\n",
    "        self.val = val\n",
    "        self.next = next"
   ]
  },
  {
   "cell_type": "code",
   "execution_count": 59,
   "id": "cf2ef297-dc5e-4c1b-b779-064db42b503b",
   "metadata": {},
   "outputs": [],
   "source": [
    "from collections import deque\n",
    "from typing import Optional\n",
    "class Solution:\n",
    "    def reorderList(self, head: Optional[ListNode]) -> None:\n",
    "        \"\"\"\n",
    "        Do not return anything, modify head in-place instead.\n",
    "        \"\"\"\n",
    "        res = deque()\n",
    "        p = head.next\n",
    "        while p:\n",
    "            res.append(p)\n",
    "            p = p.next\n",
    "        cur = head\n",
    "        for i in range(len(res)):\n",
    "            if i & 1: cur.next = res.popleft()\n",
    "            else: cur.next = res.pop()\n",
    "            cur = cur.next    \n",
    "        cur.next = None"
   ]
  },
  {
   "cell_type": "code",
   "execution_count": 60,
   "id": "44af1e50-14c7-4b9b-a081-de14ad6cd7de",
   "metadata": {},
   "outputs": [],
   "source": [
    "a = [1,2,3,4]\n",
    "head = modules.constructList(a)"
   ]
  },
  {
   "cell_type": "code",
   "execution_count": 61,
   "id": "96c17555-ec94-4324-a428-f7a9c731737b",
   "metadata": {},
   "outputs": [],
   "source": [
    "s = Solution()\n",
    "s.reorderList(head)"
   ]
  },
  {
   "cell_type": "code",
   "execution_count": 62,
   "id": "e23d0772-8d51-47bb-a7e0-40ea72609363",
   "metadata": {},
   "outputs": [
    {
     "name": "stdout",
     "output_type": "stream",
     "text": [
      "1\n",
      "4\n",
      "2\n",
      "3\n"
     ]
    }
   ],
   "source": [
    "while head:\n",
    "    print(head.val)\n",
    "    head = head.next"
   ]
  },
  {
   "attachments": {},
   "cell_type": "markdown",
   "id": "ad00f11d-e4ee-465e-9c10-8f7f38922489",
   "metadata": {},
   "source": [
    "## 124. 二叉树中的最大路径和"
   ]
  },
  {
   "cell_type": "code",
   "execution_count": 63,
   "id": "2b7e2ec3-5057-4fbb-af3a-2d8a91d47470",
   "metadata": {},
   "outputs": [],
   "source": [
    "# Definition for a binary tree node.\n",
    "class TreeNode:\n",
    "    def __init__(self, val=0, left=None, right=None):\n",
    "        self.val = val\n",
    "        self.left = left\n",
    "        self.right = right"
   ]
  },
  {
   "cell_type": "code",
   "execution_count": 66,
   "id": "895765a9-22bb-4ae9-9686-4321314eee07",
   "metadata": {},
   "outputs": [],
   "source": [
    "class Solution:\n",
    "    def maxPathSum(self, root: Optional[TreeNode]) -> int:\n",
    "        def dfs(node):\n",
    "            nonlocal ans\n",
    "            if not node: return 0\n",
    "            cur = node.val\n",
    "            left = dfs(node.left)\n",
    "            right = dfs(node.right)\n",
    "            # 维护最大路径和的信息\n",
    "            ans = max(ans, cur + max(left, 0) + max(right, 0))\n",
    "            # 对于父节点的贡献只能返回两条路径中较大的那一条，否则不符合路径的定义\n",
    "            return cur + max(max(left, right), 0)\n",
    "        \n",
    "        ans = float(\"-inf\")\n",
    "        dfs(root)\n",
    "        return ans"
   ]
  },
  {
   "attachments": {},
   "cell_type": "markdown",
   "id": "096442c4-c539-46c1-aced-1c8263e2f83a",
   "metadata": {},
   "source": [
    "## 二叉树的中序遍历"
   ]
  },
  {
   "cell_type": "code",
   "execution_count": 68,
   "id": "86c9154b-ff0c-448e-b0d6-7155e7b0d7a6",
   "metadata": {},
   "outputs": [],
   "source": [
    "from typing import List\n",
    "class Solution:\n",
    "    def inorderTraversal(self, root: Optional[TreeNode]) -> List[int]:\n",
    "        res = []\n",
    "        def dfs(node):\n",
    "            if not node: return\n",
    "            dfs(node.left)\n",
    "            res.append(node.val)\n",
    "            dfs(node.right)\n",
    "        return res"
   ]
  },
  {
   "cell_type": "code",
   "execution_count": 69,
   "id": "743e1727-905c-4918-b95f-f7d4a794a2bb",
   "metadata": {},
   "outputs": [],
   "source": [
    "class Solution:\n",
    "    def inorderTraversal(self, root: Optional[TreeNode]) -> List[int]:\n",
    "        res = []\n",
    "        stk = []\n",
    "        cur = root\n",
    "        while stk or cur:\n",
    "            while cur:\n",
    "                stk.append(cur)\n",
    "                cur = cur.left\n",
    "            cur = stk.pop()\n",
    "            res.append(cur.val)\n",
    "            cur = cur.right\n",
    "        return res"
   ]
  },
  {
   "attachments": {},
   "cell_type": "markdown",
   "id": "e5ce7b80-fce1-41bc-a2f3-8f79030bb26d",
   "metadata": {},
   "source": [
    "## 19.删除链表的倒数第N个节点"
   ]
  },
  {
   "attachments": {},
   "cell_type": "markdown",
   "id": "d0a72fb1-7439-4496-b7e1-1cfc4b75d716",
   "metadata": {},
   "source": [
    "dumb节点的重要性"
   ]
  },
  {
   "cell_type": "code",
   "execution_count": 70,
   "id": "208944b3-9ad6-4c7a-9039-332192fc28e1",
   "metadata": {},
   "outputs": [],
   "source": [
    "# Definition for singly-linked list.\n",
    "class ListNode:\n",
    "    def __init__(self, val=0, next=None):\n",
    "        self.val = val\n",
    "        self.next = next"
   ]
  },
  {
   "cell_type": "code",
   "execution_count": 71,
   "id": "557d0292-3e21-4687-89b2-078e12926f37",
   "metadata": {},
   "outputs": [],
   "source": [
    "class Solution:\n",
    "    def removeNthFromEnd(self, head: Optional[ListNode], n: int) -> Optional[ListNode]:\n",
    "        p1 = p2 = dumb = ListNode()\n",
    "        dumb.next = head\n",
    "        for _ in range(n):\n",
    "            p2 = p2.next\n",
    "        while p2.next:\n",
    "            p1 = p1.next\n",
    "            p2 = p2.next\n",
    "        p1.next = p1.next.next\n",
    "        return dumb.next"
   ]
  },
  {
   "attachments": {},
   "cell_type": "markdown",
   "id": "84e32745-0285-4200-9dde-abb4a222e779",
   "metadata": {},
   "source": [
    "## 72. 编辑距离"
   ]
  },
  {
   "attachments": {},
   "cell_type": "markdown",
   "id": "b1cfd9ba-ca83-451c-b7ff-76cfa0de3a18",
   "metadata": {},
   "source": [
    "> 想想二维的问题该如何递推：对于dp[i][j] 的最好情况，一定是从相邻的 dp[i - 1][j], dp[i][j - 1], dp[i - 1][j - 1] 转移过来，分别考虑转移条件与dp如何更新即可。针对此题只需注意在word1[i] == word2[j] 时的特殊情况，其余状态直接取最小再转移即可。\n",
    "\n",
    "仔细想想其实这题是一个马尔科夫链模型，每一步的最优情况均从上一步的最优情况转移而来。重点是如何才能想到构建二维dp这个模式。"
   ]
  },
  {
   "cell_type": "code",
   "execution_count": 110,
   "id": "5e1aecea-6a9b-4e25-974c-a02cdc712a25",
   "metadata": {},
   "outputs": [],
   "source": [
    "class Solution:\n",
    "    def minDistance(self, word1: str, word2: str) -> int:\n",
    "        \n",
    "        m = len(word1)\n",
    "        n = len(word2)\n",
    "        dp = [[0] * (n + 1) for _ in range(m + 1)]\n",
    "        for i in range(m + 1):\n",
    "            for j in range(n + 1):\n",
    "                if i == 0: dp[i][j] = j\n",
    "                if j == 0: dp[i][j] = i\n",
    "        \n",
    "        # print(dp)\n",
    "        \n",
    "        for i in range(1, m + 1):\n",
    "            for j in range(1, n + 1):\n",
    "                if word1[i - 1] == word2[j - 1]: dp[i][j] = min(dp[i - 1][j], dp[i][j - 1], dp[i - 1][j - 1] - 1) + 1\n",
    "                else: dp[i][j] = min(dp[i - 1][j], dp[i][j - 1], dp[i - 1][j - 1]) + 1\n",
    "        \n",
    "        # print(dp)\n",
    "        return dp[-1][-1]"
   ]
  },
  {
   "cell_type": "code",
   "execution_count": 111,
   "id": "60b366f3-858d-4a4f-953f-12e949c1ae9e",
   "metadata": {},
   "outputs": [],
   "source": [
    "word1 = \"horse\"\n",
    "word2 = \"ros\""
   ]
  },
  {
   "cell_type": "code",
   "execution_count": 112,
   "id": "bd44fe51-be27-482c-8cc6-75f378479ef9",
   "metadata": {},
   "outputs": [
    {
     "data": {
      "text/plain": [
       "3"
      ]
     },
     "execution_count": 112,
     "metadata": {},
     "output_type": "execute_result"
    }
   ],
   "source": [
    "s = Solution()\n",
    "s.minDistance(word1, word2)"
   ]
  },
  {
   "attachments": {},
   "cell_type": "markdown",
   "id": "a7f3259a-28de-4fb4-850f-9f9c5a138f4a",
   "metadata": {},
   "source": [
    "## 232. 用栈实现队列"
   ]
  },
  {
   "cell_type": "code",
   "execution_count": 116,
   "id": "71a4851d-f297-4b3e-8081-60264d85a666",
   "metadata": {},
   "outputs": [],
   "source": [
    "class MyQueue:\n",
    "\n",
    "    def __init__(self):\n",
    "        self.que = list()\n",
    "        self.left = 0\n",
    "\n",
    "    def push(self, x: int) -> None:\n",
    "        self.que.append(x)\n",
    "\n",
    "    def pop(self) -> int:\n",
    "        if not self.empty():\n",
    "            self.left += 1\n",
    "            return self.que[self.left - 1]\n",
    "\n",
    "    def peek(self) -> int:\n",
    "        if not self.empty():\n",
    "            return self.que[self.left]\n",
    "\n",
    "    def empty(self) -> bool:\n",
    "        return bool(len(self.que) == self.left)"
   ]
  },
  {
   "attachments": {},
   "cell_type": "markdown",
   "id": "a0370741-7725-4128-a32f-98a4346c4483",
   "metadata": {},
   "source": [
    "### 双栈\n",
    "\n",
    "将一个栈当作输入栈，用于压入 push 传入的数据；另一个栈当作输出栈，用于 pop 和 peek 操作。\n",
    "每次 pop 或 peek 时，若输出栈为空则将输入栈的全部数据依次弹出并压入输出栈，这样输出栈从栈顶往栈底的顺序就是队列从队首往队尾的顺序。"
   ]
  },
  {
   "cell_type": "code",
   "execution_count": 117,
   "id": "5d4275f6-12ae-4f11-820b-0c7c0a15c614",
   "metadata": {},
   "outputs": [],
   "source": [
    "class MyQueue:\n",
    "\n",
    "    def __init__(self):\n",
    "        self.stk = list()\n",
    "        self.que = list()\n",
    "\n",
    "    def push(self, x: int) -> None:\n",
    "        self.stk.append(x)\n",
    "\n",
    "    def pop(self) -> int:\n",
    "        if not self.que:\n",
    "            while self.stk:\n",
    "                self.que.append(self.stk.pop())\n",
    "        return self.que.pop()\n",
    "        \n",
    "    def peek(self) -> int:\n",
    "        if not self.que:\n",
    "            while self.stk:\n",
    "                self.que.append(self.stk.pop())\n",
    "        return self.que[-1]\n",
    "\n",
    "    def empty(self) -> bool:\n",
    "        return not bool(self.stk or self.que)"
   ]
  },
  {
   "attachments": {},
   "cell_type": "markdown",
   "id": "3bb619cd-e066-4b1b-8531-9da1de324832",
   "metadata": {},
   "source": [
    "## 704. 二分查找"
   ]
  },
  {
   "cell_type": "code",
   "execution_count": 120,
   "id": "fb59bd11-a95c-4268-80af-d4d4af03d172",
   "metadata": {},
   "outputs": [],
   "source": [
    "class Solution:\n",
    "    def search(self, nums: List[int], target: int) -> int:\n",
    "        left = 0\n",
    "        right = len(nums)\n",
    "        while left < right:\n",
    "            mid = (left + right) >> 1\n",
    "            if nums[mid] == target: return mid\n",
    "            elif nums[mid] < target: left = mid + 1\n",
    "            else: right = mid\n",
    "        return -1"
   ]
  },
  {
   "attachments": {},
   "cell_type": "markdown",
   "id": "cceb8772-c754-4692-818e-ed036dd3d86f",
   "metadata": {},
   "source": [
    "### bisect"
   ]
  },
  {
   "cell_type": "code",
   "execution_count": 121,
   "id": "fc6ec7c0-c53c-4181-b8e1-919031f18e46",
   "metadata": {},
   "outputs": [],
   "source": [
    "def bisect_left(a, x):\n",
    "    left, right = 0, len(a)\n",
    "    while left < right:\n",
    "        mid = (left + right) >> 1\n",
    "        if a[mid] < x: left = mid + 1\n",
    "        else: right = mid\n",
    "    return left"
   ]
  },
  {
   "cell_type": "code",
   "execution_count": 122,
   "id": "9cc6673f-64ea-427c-89e7-a34bdd4e5760",
   "metadata": {},
   "outputs": [
    {
     "data": {
      "text/plain": [
       "1"
      ]
     },
     "execution_count": 122,
     "metadata": {},
     "output_type": "execute_result"
    }
   ],
   "source": [
    "a = [1,2,2,2,2,2,3]; x = 2\n",
    "bisect_left(a, x)"
   ]
  },
  {
   "cell_type": "code",
   "execution_count": 123,
   "id": "90628010-33f6-4e5c-9bf0-fe5c7d000a97",
   "metadata": {},
   "outputs": [],
   "source": [
    "def bisect_right(a, x):\n",
    "    left, right = 0, len(a)\n",
    "    while left < right:\n",
    "        mid = (left + right) >> 1\n",
    "        if a[mid] <= x: left = mid + 1\n",
    "        else: right = mid\n",
    "    return left"
   ]
  },
  {
   "cell_type": "code",
   "execution_count": 124,
   "id": "149c450f-165f-43c3-90c5-0ccc6cf7f7b2",
   "metadata": {},
   "outputs": [
    {
     "data": {
      "text/plain": [
       "6"
      ]
     },
     "execution_count": 124,
     "metadata": {},
     "output_type": "execute_result"
    }
   ],
   "source": [
    "a = [1,2,2,2,2,2,3]; x = 2\n",
    "bisect_right(a, x)"
   ]
  },
  {
   "attachments": {},
   "cell_type": "markdown",
   "id": "a8297541-f83b-4fcd-852a-1ff7ddabe43f",
   "metadata": {},
   "source": [
    "## 199. 二叉树的右视图"
   ]
  },
  {
   "cell_type": "code",
   "execution_count": 125,
   "id": "0628dee0-2c25-4c5e-ae89-260aa000b700",
   "metadata": {},
   "outputs": [],
   "source": [
    "# Definition for a binary tree node.\n",
    "class TreeNode:\n",
    "    def __init__(self, val=0, left=None, right=None):\n",
    "        self.val = val\n",
    "        self.left = left\n",
    "        self.right = right"
   ]
  },
  {
   "cell_type": "code",
   "execution_count": 128,
   "id": "5eb66af7-3b0d-4ee1-8659-45f18179be03",
   "metadata": {},
   "outputs": [],
   "source": [
    "from collections import deque\n",
    "class Solution:\n",
    "    def rightSideView(self, root: Optional[TreeNode]) -> List[int]:\n",
    "        if not root: return []\n",
    "        stk = deque([root]); res = []\n",
    "        while stk:\n",
    "            for _ in range(len(stk)):\n",
    "                cur = stk.popleft()\n",
    "                if cur.left: stk.append(cur.left)\n",
    "                if cur.right: stk.append(cur.right)\n",
    "            res.append(cur.val)\n",
    "        return res"
   ]
  },
  {
   "attachments": {},
   "cell_type": "markdown",
   "id": "25748f5d-00ff-4a3d-ad1d-2cb1afd91ac8",
   "metadata": {},
   "source": [
    "## 56. 合并区间"
   ]
  },
  {
   "cell_type": "code",
   "execution_count": 137,
   "id": "928c9b56-6b12-47c2-a318-6f6e03f277dc",
   "metadata": {},
   "outputs": [],
   "source": [
    "class Solution:\n",
    "    def merge(self, intervals: List[List[int]]) -> List[List[int]]:\n",
    "        intervals.sort(reverse=True)\n",
    "        res = [intervals.pop()]\n",
    "        while intervals:\n",
    "            l, r = intervals.pop()\n",
    "            if res[-1][-1] >= l:\n",
    "                res[-1][-1] = max(res[-1][-1], r)\n",
    "            else: res.append([l, r])\n",
    "        return res"
   ]
  },
  {
   "cell_type": "code",
   "execution_count": 138,
   "id": "564c1159-23b2-4322-92b9-14ade5315e55",
   "metadata": {},
   "outputs": [],
   "source": [
    "intervals = [[1,4],[4,5]]"
   ]
  },
  {
   "cell_type": "code",
   "execution_count": 139,
   "id": "ed2c765c-857d-4a30-93d4-bcd167480db3",
   "metadata": {},
   "outputs": [
    {
     "data": {
      "text/plain": [
       "[[1, 5]]"
      ]
     },
     "execution_count": 139,
     "metadata": {},
     "output_type": "execute_result"
    }
   ],
   "source": [
    "s = Solution()\n",
    "s.merge(intervals)"
   ]
  },
  {
   "attachments": {},
   "cell_type": "markdown",
   "id": "6851a355-5dd6-4489-be7e-17e90e3758df",
   "metadata": {},
   "source": [
    "## 70. 爬楼梯"
   ]
  },
  {
   "attachments": {},
   "cell_type": "markdown",
   "id": "42a60486-7062-405a-91b8-26770a494343",
   "metadata": {},
   "source": [
    "如何转化为dp思维？想想怎么转移就可以，在本题中：每次可以爬1或2个台阶，那么设我们目前在 x 台阶处，则可能会由 x - 2（爬两阶）或x - 1（爬一阶）转移而来，因此到达x的方案数可以拆解为到达x - 2的方案数加上到达x - 1的方案数，即划分为了子问题，以此类推直到边界情况，即：\n",
    "dp[-2] = 0, dp[-1] = 0, dp[0] = 1。\n",
    "\n",
    "循环即可计算出 n 的情况"
   ]
  },
  {
   "cell_type": "code",
   "execution_count": 142,
   "id": "9ef38419-3765-46ee-995c-cdb31937ff79",
   "metadata": {},
   "outputs": [],
   "source": [
    "class Solution:\n",
    "    def climbStairs(self, n: int) -> int:\n",
    "        p, q, r = 0, 0, 1\n",
    "        for _ in range(n):\n",
    "            # 滚动往后推一个状态\n",
    "            p = q\n",
    "            q = r\n",
    "            r = p + q\n",
    "        return r"
   ]
  },
  {
   "attachments": {},
   "cell_type": "markdown",
   "id": "837cb6dd-9b03-4ed0-96fa-9d41c0acfee3",
   "metadata": {},
   "source": [
    "## 148. 排序链表"
   ]
  },
  {
   "cell_type": "code",
   "execution_count": 143,
   "id": "f7de9789-b53f-48a3-9e87-ecee76c1bdd7",
   "metadata": {},
   "outputs": [],
   "source": [
    "# Definition for singly-linked list.\n",
    "class ListNode:\n",
    "    def __init__(self, val=0, next=None):\n",
    "        self.val = val\n",
    "        self.next = next"
   ]
  },
  {
   "cell_type": "code",
   "execution_count": 144,
   "id": "c58c15eb-658c-4e79-8072-effe428d1f79",
   "metadata": {},
   "outputs": [],
   "source": [
    "class Solution:\n",
    "    def sortList(self, head: Optional[ListNode]) -> Optional[ListNode]:\n",
    "        cur = dumb = ListNode()\n",
    "        stk = []\n",
    "        while head:\n",
    "            stk.append(head)\n",
    "            head = head.next\n",
    "        stk.sort(reverse = True, key = lambda x: x.val)\n",
    "        while stk:\n",
    "            cur.next = stk.pop()\n",
    "            cur = cur.next\n",
    "        cur.next = None\n",
    "        return dumb.next"
   ]
  },
  {
   "attachments": {},
   "cell_type": "markdown",
   "id": "32982b1e-315c-48a4-b571-5ac749cb8964",
   "metadata": {},
   "source": [
    "### 自底向上的归并排序"
   ]
  },
  {
   "cell_type": "code",
   "execution_count": 146,
   "id": "358bb453-48f3-4c6b-9868-5a5cd0f3326b",
   "metadata": {},
   "outputs": [],
   "source": [
    "class Solution:\n",
    "    def sortList(self, head: ListNode) -> ListNode:\n",
    "        \n",
    "        # 合并两个有序链表并返回头节点\n",
    "        def merge(head1: ListNode, head2: ListNode) -> ListNode:\n",
    "            dummyHead = ListNode(0)\n",
    "            temp, temp1, temp2 = dummyHead, head1, head2\n",
    "            while temp1 and temp2:\n",
    "                if temp1.val <= temp2.val:\n",
    "                    temp.next = temp1\n",
    "                    temp1 = temp1.next\n",
    "                else:\n",
    "                    temp.next = temp2\n",
    "                    temp2 = temp2.next\n",
    "                temp = temp.next\n",
    "            if temp1:\n",
    "                temp.next = temp1\n",
    "            elif temp2:\n",
    "                temp.next = temp2\n",
    "            return dummyHead.next\n",
    "        \n",
    "        if not head:\n",
    "            return head\n",
    "        \n",
    "        length = 0\n",
    "        node = head\n",
    "        while node:\n",
    "            length += 1\n",
    "            node = node.next\n",
    "        \n",
    "        dummyHead = ListNode(0, head)\n",
    "        subLength = 1\n",
    "        while subLength < length:\n",
    "            prev, curr = dummyHead, dummyHead.next\n",
    "            while curr:\n",
    "                \n",
    "                # 找归并排序的第一个子链表\n",
    "                head1 = curr\n",
    "                for i in range(1, subLength):\n",
    "                    if curr.next:\n",
    "                        curr = curr.next\n",
    "                    else:\n",
    "                        break\n",
    "                head2 = curr.next\n",
    "                curr.next = None  # 断尾\n",
    "                \n",
    "                # 找归并排序的第二个子链表\n",
    "                curr = head2\n",
    "                for i in range(1, subLength):\n",
    "                    if curr and curr.next:\n",
    "                        curr = curr.next\n",
    "                    else:\n",
    "                        break\n",
    "                \n",
    "                # 如果有后继就继合并\n",
    "                succ = None\n",
    "                if curr:\n",
    "                    succ = curr.next\n",
    "                    curr.next = None\n",
    "                \n",
    "                # 合并找到的两链表\n",
    "                merged = merge(head1, head2)\n",
    "                \n",
    "                # 将已排序的链表与未排序的链表连接起来\n",
    "                prev.next = merged\n",
    "                while prev.next:\n",
    "                    prev = prev.next\n",
    "                curr = succ\n",
    "            \n",
    "            # 自底向上归并\n",
    "            subLength <<= 1\n",
    "        \n",
    "        return dummyHead.next"
   ]
  },
  {
   "cell_type": "code",
   "execution_count": 150,
   "id": "638d7037-b557-422f-a130-6879260e9174",
   "metadata": {},
   "outputs": [],
   "source": [
    "class Solution:\n",
    "    def sortList(self, head: Optional[ListNode]) -> Optional[ListNode]:\n",
    "        \n",
    "        def merge(l1, l2):  # 合并两个有序链表\n",
    "            cur = dumb = ListNode()\n",
    "            while l1 and l2:\n",
    "                if l1.val <= l2.val: cur.next = l1; l1 = l1.next\n",
    "                else: cur.next = l2; l2 = l2.next\n",
    "                cur = cur.next\n",
    "            if l1: cur.next = l1\n",
    "            if l2: cur.next = l2\n",
    "            return dumb.next\n",
    "        \n",
    "        # 计算链表长度\n",
    "        length = 0; node = head\n",
    "        while node:\n",
    "            length += 1; node = node.next\n",
    "            \n",
    "        dumbhead = ListNode(0, head); sub = 1\n",
    "        while sub < length:\n",
    "            pre = dumbhead; cur = dumbhead.next\n",
    "            while cur:\n",
    "                # 找第一个链表\n",
    "                head1 = cur\n",
    "                for _ in range(1, sub):\n",
    "                    if not cur or not cur.next: break\n",
    "                    cur = cur.next\n",
    "                \n",
    "                head2 = cur.next\n",
    "                cur.next = None  # 断尾\n",
    "                \n",
    "                # 找第二个链表\n",
    "                cur = head2\n",
    "                for _ in range(1, sub):\n",
    "                    if not cur or not cur.next: break\n",
    "                    cur = cur.next\n",
    "                \n",
    "                # 考虑后继链表\n",
    "                succ = None\n",
    "                if cur: succ = cur.next; cur.next = None\n",
    "                \n",
    "                chead = merge(head1, head2) # 合并两有序链表\n",
    "                \n",
    "                # pre指针移动到已经合并完的链表的最后方\n",
    "                pre.next = chead\n",
    "                while pre.next:\n",
    "                    pre = pre.next\n",
    "                cur = succ  # cur指针指向未排序的第一个节点\n",
    "            \n",
    "            sub <<= 1  # sub长度变二倍\n",
    "        \n",
    "        return dumbhead.next"
   ]
  },
  {
   "attachments": {},
   "cell_type": "markdown",
   "id": "50fcce5a-09fa-4fe2-a2b8-f8b0ab571603",
   "metadata": {},
   "source": [
    "## 82. 删除排序链表中的重复元素Ⅱ"
   ]
  },
  {
   "cell_type": "code",
   "execution_count": 151,
   "id": "afd7bc73-e372-478d-9255-4382e518d8f8",
   "metadata": {},
   "outputs": [],
   "source": [
    "# Definition for singly-linked list.\n",
    "class ListNode:\n",
    "    def __init__(self, val=0, next=None):\n",
    "        self.val = val\n",
    "        self.next = next"
   ]
  },
  {
   "cell_type": "code",
   "execution_count": 155,
   "id": "b281faf9-c848-45e8-b15e-5bf7b537dc51",
   "metadata": {},
   "outputs": [],
   "source": [
    "class Solution:\n",
    "    def deleteDuplicates(self, head: Optional[ListNode]) -> Optional[ListNode]:\n",
    "        if not head: return \n",
    "        dumb = ListNode(); dumb.next = head\n",
    "        pre = dumb; cur = head; nxt = head.next\n",
    "        while nxt:\n",
    "            flag = 0\n",
    "            while nxt and nxt.val == cur.val:\n",
    "                flag = 1\n",
    "                nxt = nxt.next\n",
    "            if flag: pre.next = nxt\n",
    "            else: pre = pre.next\n",
    "            cur = nxt\n",
    "            if nxt: nxt = nxt.next\n",
    "        return dumb.next"
   ]
  },
  {
   "attachments": {},
   "cell_type": "markdown",
   "id": "d7b45e88-5380-4d9a-b2ca-21b59afdee37",
   "metadata": {},
   "source": [
    "## 31. 下一个排列"
   ]
  },
  {
   "attachments": {},
   "cell_type": "markdown",
   "id": "de5ba916-ca61-419a-93e0-45a00ddf110f",
   "metadata": {},
   "source": [
    "1. 先找出最大的索引 k 满足 nums[k] < nums[k + 1]，如果不存在就翻转整个数组\n",
    "2. 找出满足 nums[l] > nums[k] 的最大索引 l \n",
    "3. 交换 nums[l] 与 nums[k]\n",
    "4. 由于 l 满足 2 中的条件，故交换后 k 之后的数组必定是倒序排列，为得到最小的变化幅度，将 k 之后的数组翻转得到结果。\n",
    "\n",
    "如对于 [1,2,7,4,3,1]\n",
    "\n",
    "1. 找到 k = 1\n",
    "2. 找到 l = 4\n",
    "3. 交换得到 nums = [1,3,7,4,2,1]\n",
    "4. 翻转 1 之后的数组 nums = [1,3,1,2,4,7]"
   ]
  },
  {
   "cell_type": "code",
   "execution_count": 206,
   "id": "8e2bdd95-f8f7-4ed9-8853-3597d3549c88",
   "metadata": {},
   "outputs": [],
   "source": [
    "class Solution:\n",
    "    def nextPermutation(self, nums: List[int]) -> None:\n",
    "        \"\"\"\n",
    "        Do not return anything, modify nums in-place instead.\n",
    "        \"\"\"\n",
    "        left, right = 0, len(nums) - 1\n",
    "        flag = 0\n",
    "        for i in range(len(nums) - 1, 0, -1):\n",
    "            if nums[i] > nums[i - 1]:\n",
    "                flag = 1\n",
    "                left = i - 1\n",
    "                for j in range(len(nums) - 1, i - 1, -1):\n",
    "                    if nums[j] > nums[i - 1]:\n",
    "                        right = j\n",
    "                        break\n",
    "                break\n",
    "        if flag: nums[left], nums[right] = nums[right], nums[left]\n",
    "        print(nums)\n",
    "        l = left + flag; r = len(nums) - 1\n",
    "        while l < r:\n",
    "            nums[l], nums[r] = nums[r], nums[l]\n",
    "            l += 1; r -= 1\n",
    "        return nums"
   ]
  },
  {
   "cell_type": "code",
   "execution_count": 207,
   "id": "2c383efc-bae1-4f4a-873c-4383fbefff5f",
   "metadata": {},
   "outputs": [],
   "source": [
    "nums = [2,3,1]"
   ]
  },
  {
   "cell_type": "code",
   "execution_count": 208,
   "id": "a8071740-6e08-4bc5-aab5-667e961aec69",
   "metadata": {},
   "outputs": [
    {
     "name": "stdout",
     "output_type": "stream",
     "text": [
      "[3, 2, 1]\n"
     ]
    },
    {
     "data": {
      "text/plain": [
       "[3, 1, 2]"
      ]
     },
     "execution_count": 208,
     "metadata": {},
     "output_type": "execute_result"
    }
   ],
   "source": [
    "s = Solution()\n",
    "s.nextPermutation(nums)"
   ]
  },
  {
   "attachments": {},
   "cell_type": "markdown",
   "id": "a82231f0-2df3-46cc-9b15-1c921a5c10fe",
   "metadata": {},
   "source": [
    "## 1143. 最长公共子序列"
   ]
  },
  {
   "cell_type": "code",
   "execution_count": 238,
   "id": "6a7f2828-c484-42bf-a634-1bce64e64b0b",
   "metadata": {},
   "outputs": [],
   "source": [
    "class Solution:\n",
    "    def longestCommonSubsequence(self, text1: str, text2: str) -> int:\n",
    "        m, n = len(text1), len(text2)\n",
    "        dp = [[0] * (n + 1) for _ in range(m + 1)]\n",
    "        for i in range(1, m + 1):\n",
    "            for j in range(1, n + 1):\n",
    "                if text1[i - 1] == text2[j - 1]: dp[i][j] = dp[i - 1][j - 1] + 1\n",
    "                # 不相等时不用与 [i - 1][j - 1] 比较，因为这个值肯定较小\n",
    "                else: dp[i][j] = max(dp[i - 1][j], dp[i][j - 1])\n",
    "                \n",
    "        # print(dp)\n",
    "        return dp[-1][-1]"
   ]
  },
  {
   "cell_type": "code",
   "execution_count": 239,
   "id": "3ac9dd92-17c7-4cfa-b9d5-a4cf7cddd58c",
   "metadata": {},
   "outputs": [],
   "source": [
    "text1 = \"bsbininm\"\n",
    "text2 = \"jmjkbkjkv\""
   ]
  },
  {
   "cell_type": "code",
   "execution_count": 240,
   "id": "71226fc8-178a-4e5d-ad83-8b387034efdc",
   "metadata": {},
   "outputs": [
    {
     "data": {
      "text/plain": [
       "1"
      ]
     },
     "execution_count": 240,
     "metadata": {},
     "output_type": "execute_result"
    }
   ],
   "source": [
    "s = Solution()\n",
    "s.longestCommonSubsequence(text1, text2)"
   ]
  },
  {
   "attachments": {},
   "cell_type": "markdown",
   "id": "6d2ca2cc-d3b8-47b1-914e-d65c671bca07",
   "metadata": {},
   "source": [
    "## 69. x的平方根"
   ]
  },
  {
   "attachments": {},
   "cell_type": "markdown",
   "id": "e0fe0b00-76d0-4708-998a-cc10305338b8",
   "metadata": {},
   "source": [
    "二分的写法：\n",
    "- 若判断条件为小于等于，则必须两端同时缩小边界，否则会卡在左右指针重合的情况，同时右边界必须紧贴数组，否则也会越界。\n",
    "- 使用下除时left指针必须在判断时等于mid + 1，否则left也会一直卡住不动。"
   ]
  },
  {
   "cell_type": "code",
   "execution_count": 245,
   "id": "5d83f3d9-b51b-4591-a998-2f71068aab83",
   "metadata": {},
   "outputs": [],
   "source": [
    "class Solution:\n",
    "    def mySqrt(self, x: int) -> int:\n",
    "        left, right = 0, x\n",
    "        while left <= right:\n",
    "            mid = (left + right) >> 1\n",
    "            if mid * mid <= x: \n",
    "                ans = mid\n",
    "                left = mid + 1\n",
    "            else: right = mid\n",
    "        return ans"
   ]
  },
  {
   "attachments": {},
   "cell_type": "markdown",
   "id": "f17b46cd-c8ad-4201-9c9d-e1b540cbedbd",
   "metadata": {},
   "source": [
    "### 二分查找的两种写法："
   ]
  },
  {
   "cell_type": "code",
   "execution_count": 247,
   "id": "25a5e599-4b0b-4f28-8edb-93128a969755",
   "metadata": {},
   "outputs": [],
   "source": [
    "def bisect1(a, x):\n",
    "    l, r = 0, len(a)  # 宽松右边界\n",
    "    while l < r:  # 小于\n",
    "        mid = (l + r) >> 1\n",
    "        if a[mid] == x: return mid\n",
    "        elif a[mid] < x: l = mid + 1\n",
    "        else: r = mid  # 不用 -1 \n",
    "    return -1"
   ]
  },
  {
   "cell_type": "code",
   "execution_count": 248,
   "id": "12c492b2-bc5f-4131-a335-b95efc83bcce",
   "metadata": {},
   "outputs": [],
   "source": [
    "def bisect2(a, x):\n",
    "    l, r = 0, len(a) - 1\n",
    "    while l <= r:\n",
    "        mid = (l + r) >> 1\n",
    "        if a[mid] == x: return mid\n",
    "        elif a[mid] < x: l = mid + 1\n",
    "        else: r = mid - 1\n",
    "    return -1"
   ]
  },
  {
   "attachments": {},
   "cell_type": "markdown",
   "id": "dea2dd26-b18f-4c22-a413-c79733536caf",
   "metadata": {},
   "source": [
    "## 93. 复原IP地址"
   ]
  },
  {
   "cell_type": "code",
   "execution_count": 285,
   "id": "9cbc84d5-41cf-448a-92c3-ad338a19753c",
   "metadata": {},
   "outputs": [],
   "source": [
    "class Solution:\n",
    "    def restoreIpAddresses(self, s: str) -> List[str]:\n",
    "        def dfs(idx, path):\n",
    "            # print(path)\n",
    "            if len(path) > 4: return\n",
    "            if idx == n:\n",
    "                if len(path) == 4: ans.append(\".\".join(path))\n",
    "                return\n",
    "            if s[idx] == \"0\": dfs(idx + 1, path + [\"0\"])\n",
    "            else:\n",
    "                for i in range(idx, n):\n",
    "                    if int(s[idx: i + 1]) < 256:\n",
    "                        dfs(i + 1, path + [s[idx: i + 1]])\n",
    "        \n",
    "        ans = []; n = len(s)\n",
    "        dfs(0, [])\n",
    "        return ans"
   ]
  },
  {
   "cell_type": "code",
   "execution_count": 286,
   "id": "6457ff2c-f597-41da-af0b-a2398d2eaf97",
   "metadata": {},
   "outputs": [],
   "source": [
    "s = \"25525511135\""
   ]
  },
  {
   "cell_type": "code",
   "execution_count": 287,
   "id": "1dcf5503-a5cf-49e2-8324-230fb42bef86",
   "metadata": {},
   "outputs": [
    {
     "data": {
      "text/plain": [
       "['255.255.11.135', '255.255.111.35']"
      ]
     },
     "execution_count": 287,
     "metadata": {},
     "output_type": "execute_result"
    }
   ],
   "source": [
    "S = Solution()\n",
    "S.restoreIpAddresses(s)"
   ]
  },
  {
   "attachments": {},
   "cell_type": "markdown",
   "id": "60c25951-46b7-47b0-9428-56f39f68e516",
   "metadata": {},
   "source": [
    "## 41. 缺失的第一个正数"
   ]
  },
  {
   "attachments": {},
   "cell_type": "markdown",
   "id": "051a4c3f-20fa-42b4-8185-48241ad52d25",
   "metadata": {},
   "source": [
    "实际上，对于一个长度为 $N$ 的数组，其中没有出现的最小正整数只能在  $[1, N + 1]$ 中。这是因为如果 $[1, N]$ 都出现了，那么答案是 $ N + 1$，否则答案是 $[1, N]$ 中没有出现的最小正整数。\n",
    "\n",
    "由于我们只关心 $[1, N]$ 之间的数字，因此事先遍历一遍数组，将其中的负数全部改为 $ N + 1 $，从而使得数组中没有负数，这样一来我们就可以使用负号作为标记，来判断对应数组下标的那个数字有没有出现过。"
   ]
  },
  {
   "cell_type": "code",
   "execution_count": 12,
   "id": "704b16ab-c0d9-4cee-afe6-4fda926a38b6",
   "metadata": {},
   "outputs": [],
   "source": [
    "from typing import List\n",
    "class Solution:\n",
    "    def firstMissingPositive(self, nums: List[int]) -> int:\n",
    "        n = len(nums)\n",
    "        for i in range(n):\n",
    "            if nums[i] <= 0: nums[i] = n + 1\n",
    "        \n",
    "        for i in range(n):\n",
    "            num = abs(nums[i])\n",
    "            if num <= n:\n",
    "                nums[num - 1] = -abs(nums[num - 1])\n",
    "        \n",
    "        for i in range(n):\n",
    "            if nums[i] > 0: return i + 1\n",
    "        \n",
    "        return n + 1"
   ]
  },
  {
   "cell_type": "code",
   "execution_count": 13,
   "id": "0bc2c7d6-d9bb-4742-99ef-1822641f2d70",
   "metadata": {},
   "outputs": [],
   "source": [
    "nums = [3,4,-1,1]"
   ]
  },
  {
   "cell_type": "code",
   "execution_count": 14,
   "id": "b15ae76d-06dd-42c4-8026-62d0e5f94996",
   "metadata": {},
   "outputs": [
    {
     "data": {
      "text/plain": [
       "2"
      ]
     },
     "execution_count": 14,
     "metadata": {},
     "output_type": "execute_result"
    }
   ],
   "source": [
    "s = Solution()\n",
    "s.firstMissingPositive(nums)"
   ]
  },
  {
   "attachments": {},
   "cell_type": "markdown",
   "id": "aadf8df8-286a-4ef6-a196-a6c4420a566f",
   "metadata": {},
   "source": [
    "## 239. 滑动窗口最大值"
   ]
  },
  {
   "attachments": {},
   "cell_type": "markdown",
   "id": "76d0b286-5759-4d0b-b473-f5e3dd00bf3a",
   "metadata": {},
   "source": [
    "pass"
   ]
  },
  {
   "attachments": {},
   "cell_type": "markdown",
   "id": "57f6cdc9-3acb-4d27-ba8e-342e4f34b0dd",
   "metadata": {},
   "source": [
    "## 剑指 Offer 22. 链表中倒数第k个节点"
   ]
  },
  {
   "cell_type": "code",
   "execution_count": 15,
   "id": "f9ae08aa-6b3b-47d4-a20d-0f209cf189c9",
   "metadata": {},
   "outputs": [],
   "source": [
    "# Definition for singly-linked list.\n",
    "class ListNode:\n",
    "    def __init__(self, x):\n",
    "        self.val = x\n",
    "        self.next = None"
   ]
  },
  {
   "cell_type": "code",
   "execution_count": 16,
   "id": "aa5c397a-06b1-4cda-ad89-c1835bd60a0c",
   "metadata": {},
   "outputs": [],
   "source": [
    "class Solution:\n",
    "    def getKthFromEnd(self, head: ListNode, k: int) -> ListNode:\n",
    "        dumb = ListNode(); dumb.next = head; tail = dumb\n",
    "        for _ in range(k): \n",
    "            tail = tail.next\n",
    "        while tail:\n",
    "            dumb = dumb.next\n",
    "            tail = tail.next\n",
    "        return dumb"
   ]
  },
  {
   "attachments": {},
   "cell_type": "markdown",
   "id": "ba7003bb-6240-464e-8493-9269605205c9",
   "metadata": {},
   "source": [
    "## 165. 比较版本号"
   ]
  },
  {
   "cell_type": "code",
   "execution_count": 18,
   "id": "6d5ca4ae-d729-4f2a-8e5f-5ca2a7b0952e",
   "metadata": {},
   "outputs": [],
   "source": [
    "class Solution:\n",
    "    def compareVersion(self, version1: str, version2: str) -> int:\n",
    "        v1 = version1.split(\".\"); v2 = version2.split(\".\")\n",
    "        m = len(v1); n = len(v2)\n",
    "        if m > n: v2.extend([\"0\"] * (m - n))\n",
    "        if m < n: v1.extend([\"0\"] * (n - m))\n",
    "        \n",
    "        for a, b in zip(*(v1, v2)):\n",
    "            if int(a) > int(b): return 1\n",
    "            if int(a) < int(b): return -1\n",
    "        \n",
    "        return 0"
   ]
  },
  {
   "attachments": {},
   "cell_type": "markdown",
   "id": "942f9e96-5af2-422b-84ae-d29eba7b5ff6",
   "metadata": {},
   "source": [
    "## 105. 从前序与中序遍历序列构造二叉树"
   ]
  },
  {
   "cell_type": "code",
   "execution_count": 19,
   "id": "aa9b5a19-b56e-4457-9948-85010c83e1a1",
   "metadata": {},
   "outputs": [],
   "source": [
    "# Definition for a binary tree node.\n",
    "class TreeNode:\n",
    "    def __init__(self, val=0, left=None, right=None):\n",
    "        self.val = val\n",
    "        self.left = left\n",
    "        self.right = right"
   ]
  },
  {
   "cell_type": "code",
   "execution_count": 21,
   "id": "1f460536-8cfe-40c4-b180-faf33bd2536b",
   "metadata": {},
   "outputs": [],
   "source": [
    "from typing import Optional\n",
    "\n",
    "class Solution:\n",
    "    def buildTree(self, preorder: List[int], inorder: List[int]) -> Optional[TreeNode]:\n",
    "        def build(preleft, preright, inleft, inright):\n",
    "            # 目前树的节点对应 preorder 与 inorder 的下标\n",
    "            if preleft > preright: return  # 树已经建完\n",
    "            RootVal = preorder[preleft]  # 根节点的取值，即为 pre 遍历的第一个值\n",
    "            curRoot = TreeNode(RootVal)  # 建立当前的根节点\n",
    "            RootIdx = query[RootVal]  # 在 inorder 中定位到当前的根节点，左侧即为左子树，右侧为右子树\n",
    "            curRoot.left = build(\n",
    "                preleft + 1,\n",
    "                preleft + RootIdx - inleft,  # 前序遍历中根节点后面跟的是全部的左子树，节点数目可由中序遍历的 RootIdx 确定\n",
    "                inleft, \n",
    "                RootIdx - 1\n",
    "            )\n",
    "            curRoot.right = build(\n",
    "                preleft + RootIdx - inleft + 1,\n",
    "                preright,  # 左子树后面跟的就是右子树\n",
    "                RootIdx + 1,\n",
    "                inright\n",
    "            )\n",
    "            return curRoot  # 返回建立的根节点\n",
    "        \n",
    "        n = len(inorder)\n",
    "        query = {num: i for i, num in enumerate(inorder)}\n",
    "        return build(0, n - 1, 0, n - 1)"
   ]
  },
  {
   "attachments": {},
   "cell_type": "markdown",
   "id": "0198adb0-eef6-4925-9831-698aa745645b",
   "metadata": {},
   "source": [
    "## 151. 翻转字符串中的单词"
   ]
  },
  {
   "cell_type": "code",
   "execution_count": 35,
   "id": "2de32cab-aefc-488f-b06e-8e80c50f514e",
   "metadata": {},
   "outputs": [],
   "source": [
    "class Solution:\n",
    "    def reverseWords(self, s: str) -> str:\n",
    "        s = s.strip()\n",
    "        s = s.split(\" \")\n",
    "        res = []\n",
    "        while s:\n",
    "            cur = s.pop().strip()\n",
    "            if cur: res.append(cur)\n",
    "        return \" \".join(res)"
   ]
  },
  {
   "cell_type": "code",
   "execution_count": 36,
   "id": "66720355-eae6-4d09-8187-6db83c1c2143",
   "metadata": {},
   "outputs": [],
   "source": [
    "s = \"a good   example\""
   ]
  },
  {
   "cell_type": "code",
   "execution_count": 37,
   "id": "d047b0c0-5875-4dc4-ad6d-086993ef88af",
   "metadata": {},
   "outputs": [
    {
     "data": {
      "text/plain": [
       "'example good a'"
      ]
     },
     "execution_count": 37,
     "metadata": {},
     "output_type": "execute_result"
    }
   ],
   "source": [
    "S = Solution()\n",
    "S.reverseWords(s)"
   ]
  },
  {
   "attachments": {},
   "cell_type": "markdown",
   "id": "f2f4fa25-661e-49a9-84eb-cd01c6e00ff0",
   "metadata": {},
   "source": [
    "## 322. 零钱兑换"
   ]
  },
  {
   "cell_type": "code",
   "execution_count": 38,
   "id": "ef8073ec-e6b6-4a94-bb84-13f47401f42f",
   "metadata": {},
   "outputs": [],
   "source": [
    "from functools import lru_cache\n",
    "class Solution:\n",
    "    def coinChange(self, coins: List[int], amount: int) -> int:\n",
    "        @lru_cache(2000)\n",
    "        def dfs(rem):\n",
    "            if rem < 0: return -1  # 不能完成兑换\n",
    "            if rem == 0: return 0  # 刚好完成兑换\n",
    "            minstep = float(\"inf\")\n",
    "            for c in coins:\n",
    "                cur = dfs(rem - c)\n",
    "                if cur >= 0: minstep = min(minstep, cur + 1)\n",
    "            return minstep if minstep != float(\"inf\") else -1\n",
    "                \n",
    "        return dfs(amount)"
   ]
  },
  {
   "cell_type": "code",
   "execution_count": 50,
   "id": "07688ae3-ab5a-4645-a98e-920743dd5a35",
   "metadata": {},
   "outputs": [],
   "source": [
    "class Solution:\n",
    "    def coinChange(self, coins: List[int], amount: int) -> int:\n",
    "        dp = [float(\"inf\")] * (amount + 1); dp[0] = 0\n",
    "        for i in range(amount + 1):\n",
    "            for c in coins:\n",
    "                if i - c >= 0: dp[i] = min(dp[i], dp[i - c] + 1)\n",
    "        return dp[-1] if dp[-1] != float(\"inf\") else -1"
   ]
  },
  {
   "cell_type": "code",
   "execution_count": 51,
   "id": "d0b00832-a11a-4980-ad39-937ee5d0fa97",
   "metadata": {},
   "outputs": [],
   "source": [
    "coins = [186,419,83,408]\n",
    "amount = 6249"
   ]
  },
  {
   "cell_type": "code",
   "execution_count": 52,
   "id": "beecbe2e-e6d4-4bab-8048-57ac2d1a9db8",
   "metadata": {},
   "outputs": [
    {
     "data": {
      "text/plain": [
       "20"
      ]
     },
     "execution_count": 52,
     "metadata": {},
     "output_type": "execute_result"
    }
   ],
   "source": [
    "s = Solution()\n",
    "s.coinChange(coins, amount)"
   ]
  },
  {
   "attachments": {},
   "cell_type": "markdown",
   "id": "ea707f37-7479-4894-8357-e8a9d09e70b1",
   "metadata": {},
   "source": [
    "## 113. 路径总和Ⅱ"
   ]
  },
  {
   "cell_type": "code",
   "execution_count": 4,
   "id": "25b854df-c65e-4b60-bd9b-d4e0fa636129",
   "metadata": {},
   "outputs": [],
   "source": [
    "# Definition for a binary tree node.\n",
    "class TreeNode:\n",
    "    def __init__(self, val=0, left=None, right=None):\n",
    "        self.val = val\n",
    "        self.left = left\n",
    "        self.right = right"
   ]
  },
  {
   "attachments": {},
   "cell_type": "markdown",
   "id": "2c429832",
   "metadata": {},
   "source": [
    "每次访问子节点都生成一个新的path对象，没有用到回溯的思想"
   ]
  },
  {
   "cell_type": "code",
   "execution_count": 5,
   "id": "5fd2d50c",
   "metadata": {},
   "outputs": [],
   "source": [
    "from typing import Optional, List\n",
    "class Solution:\n",
    "    def pathSum(self, root: Optional[TreeNode], targetSum: int) -> List[List[int]]:\n",
    "        def dfs(node: Optional[TreeNode], path: List[int]):\n",
    "            if not node: return\n",
    "            if not node.left and not node.right:\n",
    "                if sum(path) + node.val == targetSum: res.append(path + [node.val])\n",
    "                return\n",
    "            dfs(node.left, path + [node.val])\n",
    "            dfs(node.right, path + [node.val])\n",
    "        \n",
    "        res = []\n",
    "        dfs(root, [])\n",
    "        return res "
   ]
  },
  {
   "attachments": {},
   "cell_type": "markdown",
   "id": "6fa525cb",
   "metadata": {},
   "source": [
    "利用了回溯的思想，每次访问完某节点回溯时在path中pop该结点的值，实现一个path列表的复用，减小空间开销"
   ]
  },
  {
   "cell_type": "code",
   "execution_count": 6,
   "id": "6753dff7",
   "metadata": {},
   "outputs": [],
   "source": [
    "class Solution:\n",
    "    def pathSum(self, root: Optional[TreeNode], targetSum: int) -> List[List[int]]:\n",
    "        def dfs(node, curSum):\n",
    "            if not node: return\n",
    "            path.append(node.val)\n",
    "            curSum += node.val\n",
    "            if not node.left and not node.right:\n",
    "                if curSum == targetSum: res.append(path[:])\n",
    "            dfs(node.left, curSum)\n",
    "            dfs(node.right, curSum)\n",
    "            path.pop()\n",
    "        \n",
    "        res = []; path = []\n",
    "        dfs(root, 0)\n",
    "        return res "
   ]
  },
  {
   "attachments": {},
   "cell_type": "markdown",
   "id": "e887317a",
   "metadata": {},
   "source": [
    "## 98. 验证二叉搜索树"
   ]
  },
  {
   "cell_type": "code",
   "execution_count": 3,
   "id": "4cec2146-74f2-425c-b242-d04bf0839f1b",
   "metadata": {},
   "outputs": [],
   "source": [
    "# Definition for a binary tree node.\n",
    "class TreeNode:\n",
    "    def __init__(self, val=0, left=None, right=None):\n",
    "        self.val = val\n",
    "        self.left = left\n",
    "        self.right = right"
   ]
  },
  {
   "attachments": {},
   "cell_type": "markdown",
   "id": "ac6990f7",
   "metadata": {},
   "source": [
    "1. 二叉搜索树的中序遍历为单调不减的序列"
   ]
  },
  {
   "cell_type": "code",
   "execution_count": 11,
   "id": "b1b91605",
   "metadata": {},
   "outputs": [],
   "source": [
    "class Solution:\n",
    "    def isValidBST(self, root: Optional[TreeNode]) -> bool:\n",
    "        def dfs(node):\n",
    "            nonlocal judge\n",
    "            if not node: return\n",
    "            dfs(node.left)\n",
    "            if res and res[-1] >= node.val: judge = False \n",
    "            res.append(node.val)\n",
    "            dfs(node.right)\n",
    "\n",
    "        res = []; judge = True \n",
    "        dfs(root)\n",
    "        return judge "
   ]
  },
  {
   "attachments": {},
   "cell_type": "markdown",
   "id": "10b8e23f",
   "metadata": {},
   "source": [
    "2. 递归"
   ]
  },
  {
   "attachments": {},
   "cell_type": "markdown",
   "id": "24fd2eee",
   "metadata": {},
   "source": [
    "1. 节点的左子树只包含 小于 当前节点的数。\n",
    "2. 节点的右子树只包含 大于 当前节点的数。\n",
    "3. 所有左子树和右子树自身必须也是二叉搜索树。"
   ]
  },
  {
   "cell_type": "code",
   "execution_count": 11,
   "id": "50f3772a",
   "metadata": {},
   "outputs": [],
   "source": [
    "from typing import Optional\n",
    "class Solution:\n",
    "    def isValidBST(self, root: Optional[TreeNode]) -> bool:\n",
    "        def judge(min_, max_, node):\n",
    "            if not node: return True  # 节点为空的情况\n",
    "            cur = node.val\n",
    "            if not (min_ < cur < max_): return False  # 条件 1，2\n",
    "            flag1 = judge(min_, cur, node.left)\n",
    "            flag2 = judge(cur, max_, node.right)\n",
    "            return flag1 and flag2  # 条件 3\n",
    "\n",
    "        return judge(float(\"-inf\"), float(\"inf\"), root)"
   ]
  },
  {
   "attachments": {},
   "cell_type": "markdown",
   "id": "e86226fb",
   "metadata": {},
   "source": [
    "## 64. 最小路径和"
   ]
  },
  {
   "cell_type": "code",
   "execution_count": 49,
   "id": "bf6fde37",
   "metadata": {},
   "outputs": [],
   "source": [
    "from typing import List\n",
    "\n",
    "class Solution:\n",
    "    def minPathSum(self, grid: List[List[int]]) -> int:\n",
    "        row, col = len(grid), len(grid[0])\n",
    "        dp = [[grid[0][0] for _ in range(col)] for _ in range(row)]\n",
    "        get_dp = lambda i, j : float(\"inf\") if (i < 0 or j < 0) else dp[i][j]\n",
    "        for i in range(row):\n",
    "            for j in range(col):\n",
    "                if i == j == 0: continue\n",
    "                dp[i][j] = min(get_dp(i - 1, j), get_dp(i, j - 1)) + grid[i][j]\n",
    "        return dp[-1][-1]"
   ]
  },
  {
   "cell_type": "code",
   "execution_count": 50,
   "id": "7f9c3070",
   "metadata": {},
   "outputs": [],
   "source": [
    "grid = [[1,3,1],[1,5,1],[4,2,1]]"
   ]
  },
  {
   "cell_type": "code",
   "execution_count": 51,
   "id": "0bd7b514",
   "metadata": {},
   "outputs": [
    {
     "data": {
      "text/plain": [
       "7"
      ]
     },
     "execution_count": 51,
     "metadata": {},
     "output_type": "execute_result"
    }
   ],
   "source": [
    "s = Solution()\n",
    "s.minPathSum(grid)"
   ]
  },
  {
   "attachments": {},
   "cell_type": "markdown",
   "id": "00439c6f",
   "metadata": {},
   "source": [
    "## 48. 旋转图像"
   ]
  },
  {
   "cell_type": "code",
   "execution_count": 2,
   "id": "9c8df37f",
   "metadata": {},
   "outputs": [],
   "source": [
    "from typing import List \n",
    "class Solution:\n",
    "    def rotate(self, matrix: List[List[int]]) -> None:\n",
    "        row, col = len(matrix), len(matrix[0])\n",
    "        # 对角线翻转\n",
    "        for i in range(row):\n",
    "            for j in range(i, col):\n",
    "                if i == j: continue\n",
    "                matrix[i][j], matrix[j][i] = matrix[j][i], matrix[i][j]\n",
    "        # 水平翻转\n",
    "        for i in range(col // 2):\n",
    "            for j in range(row):\n",
    "                matrix[j][i], matrix[j][col - i - 1] = \\\n",
    "                    matrix[j][col - i - 1], matrix[j][i]\n",
    "        "
   ]
  },
  {
   "attachments": {},
   "cell_type": "markdown",
   "id": "16d7271c",
   "metadata": {},
   "source": [
    "## 39. 组合总和"
   ]
  },
  {
   "cell_type": "code",
   "execution_count": 9,
   "id": "6869de46",
   "metadata": {},
   "outputs": [],
   "source": [
    "from collections import defaultdict\n",
    "class Solution:\n",
    "    def combinationSum(self, candidates: List[int], target: int) -> List[List[int]]:\n",
    "        def dfs(idx, curSum, path):\n",
    "            if curSum >= target:\n",
    "                if curSum == target: res.append(path)\n",
    "                return \n",
    "            # 注意这里从 i 开始，意味着可以无限选择同一个数字\n",
    "            for i in range(idx, n):\n",
    "                dfs(i, curSum + candidates[i], path + [candidates[i]])\n",
    "        \n",
    "        res = []\n",
    "        n = len(candidates)\n",
    "        dfs(0, 0, [])\n",
    "        return res "
   ]
  },
  {
   "attachments": {},
   "cell_type": "markdown",
   "id": "c6e4fb79",
   "metadata": {},
   "source": [
    "## 394. 字符串解码"
   ]
  },
  {
   "cell_type": "markdown",
   "id": "2884cddf",
   "metadata": {},
   "source": [
    "数字存放在数字栈，字符串存放在字符串栈，遇到右括号时候弹出一个数字栈，字母栈弹到左括号为止。就是逆波兰式那种题。"
   ]
  },
  {
   "cell_type": "code",
   "execution_count": 130,
   "id": "97e43d36",
   "metadata": {},
   "outputs": [],
   "source": [
    "class Solution:\n",
    "    def decodeString(self, s: str) -> str:\n",
    "        stk_n = []\n",
    "        stk_c = []\n",
    "        n_buf = \"\" \n",
    "        for ch in s:\n",
    "            if ch == \"]\":\n",
    "                cur = \"\"\n",
    "                p = stk_c.pop()\n",
    "                while p != \"[\":\n",
    "                    cur += p[::-1]  # 注意这里一定要反着弹出来\n",
    "                    p = stk_c.pop()\n",
    "                cur = cur[::-1]  # 这里也要取反\n",
    "                cur *= stk_n.pop()\n",
    "                stk_c.append(cur)\n",
    "            elif ch.isdigit(): n_buf += ch \n",
    "            else:\n",
    "                if ch == \"[\":\n",
    "                    stk_n.append(int(n_buf))\n",
    "                    n_buf = \"\"\n",
    "                stk_c.append(ch)\n",
    "            # print(stk_c)\n",
    "\n",
    "        return \"\".join(stk_c)"
   ]
  },
  {
   "attachments": {},
   "cell_type": "markdown",
   "id": "f0556976",
   "metadata": {},
   "source": [
    "## 221. 最大正方形"
   ]
  },
  {
   "cell_type": "code",
   "execution_count": 161,
   "id": "ff38dd99",
   "metadata": {},
   "outputs": [],
   "source": [
    "class Solution:\n",
    "    def maximalSquare(self, matrix: List[List[str]]) -> int:\n",
    "        m, n = len(matrix), len(matrix[0])\n",
    "        res = 0\n",
    "        dp = [[0] * n for _ in range(m)]\n",
    "        get_dp = lambda r, c : 0 if (r < 0 or c < 0) else dp[r][c]\n",
    "        for i in range(m):\n",
    "            for j in range(n):\n",
    "                if matrix[i][j] == \"1\":\n",
    "                    dp[i][j] = min(get_dp(i, j - 1), get_dp(i - 1, j), \n",
    "                                   get_dp(i - 1, j - 1)) + 1\n",
    "                    res = max(res, dp[i][j])\n",
    "        return res ** 2"
   ]
  },
  {
   "attachments": {},
   "cell_type": "markdown",
   "id": "673ae88f",
   "metadata": {},
   "source": [
    "## 34. 在排序数组中查找元素的第一个和最后一个位置"
   ]
  },
  {
   "cell_type": "code",
   "execution_count": 162,
   "id": "d6bfbde3",
   "metadata": {},
   "outputs": [],
   "source": [
    "class Solution:\n",
    "    def searchRange(self, nums: List[int], target: int) -> List[int]:\n",
    "        \n",
    "        def bisect_left(a, x):\n",
    "            l, r = 0, len(a)\n",
    "            while l < r:\n",
    "                mid = (l + r) // 2\n",
    "                # 由于是左查找，因此最后一定要停在第一个大于等于 x 的数字的 idx\n",
    "                # 因此要先判断不符合的情况，如果 mid 小于 x 的话直接从 mid + 1 开始向右搜\n",
    "                # 但是针对 mid 大于等于 x 的情况则不能舍弃这个 mid，因此要以 mid 为右边界而不是 mid - 1\n",
    "                # 另。由于 // 取得是下界，因此 l 必须要为 mid + 1，否则会陷入循环，因此无论是左搜还是右搜都要设计使得\n",
    "                # l = mid + 1 的条件\n",
    "                if a[mid] < x: l = mid + 1\n",
    "                else: r = mid\n",
    "            return l \n",
    "        \n",
    "        def bisect_right(a, x):\n",
    "            l, r = 0, len(a)\n",
    "            while l < r:\n",
    "                # 二者的区别仅在于判断时是 < 还是 <= \n",
    "                # 显然地，想要找到最右边界要使用 <= 作为判断条件\n",
    "                mid = (l + r) // 2\n",
    "                if a[mid] <= x: l = mid + 1\n",
    "                else: r = mid\n",
    "            return l \n",
    "        \n",
    "        a, b = bisect_left(nums, target), bisect_right(nums, target)\n",
    "        # 特判是精髓，bisectleft返回的idx一定是原数组中最接近 x 的那个数字的 idx，除非当前数组的所有数字均小于 x\n",
    "        # 此时会插在最后一个位置，会越界，因此要用 min 来特判\n",
    "        if not nums or nums[min(a, len(nums) - 1)] != target: return [-1, -1]\n",
    "        return [a, b - 1]\n",
    "        "
   ]
  },
  {
   "attachments": {},
   "cell_type": "markdown",
   "id": "1d47792e",
   "metadata": {},
   "source": [
    "## 718. 最长重复子数组"
   ]
  },
  {
   "attachments": {},
   "cell_type": "markdown",
   "id": "1b63377c",
   "metadata": {},
   "source": [
    "dp"
   ]
  },
  {
   "cell_type": "code",
   "execution_count": 164,
   "id": "78d81f1f",
   "metadata": {},
   "outputs": [],
   "source": [
    "class Solution:\n",
    "    def findLength(self, nums1: List[int], nums2: List[int]) -> int:\n",
    "        m, n = len(nums1), len(nums2)\n",
    "        dp = [[0] * n for _ in range(m)]\n",
    "        res = 0\n",
    "        get_dp = lambda r, c : 0 if (r < 0 or c < 0) else dp[r][c]\n",
    "        for i in range(m):\n",
    "            for j in range(n):\n",
    "                if nums1[i] == nums2[j]: \n",
    "                    dp[i][j] = get_dp(i - 1, j - 1) + 1\n",
    "                    res = max(res, dp[i][j])\n",
    "        return res "
   ]
  },
  {
   "attachments": {},
   "cell_type": "markdown",
   "id": "e6ec8b7f",
   "metadata": {},
   "source": [
    "- 时间复杂度: $O(M \\times N)$\n",
    "- 空间复杂度: $O(M \\times N)$"
   ]
  },
  {
   "attachments": {},
   "cell_type": "markdown",
   "id": "02214961",
   "metadata": {},
   "source": [
    "滑窗"
   ]
  },
  {
   "cell_type": "code",
   "execution_count": 165,
   "id": "b65824e9",
   "metadata": {},
   "outputs": [],
   "source": [
    "class Solution:\n",
    "    def findLength(self, A: List[int], B: List[int]) -> int:\n",
    "        def maxLength(addA: int, addB: int, length: int) -> int:\n",
    "            # addA, addB 代表两数组各自的偏移量\n",
    "            # length 代表重叠区间长度\n",
    "            # 返回此种重叠方式下的最长重复子数组长度\n",
    "            ret = k = 0\n",
    "            for i in range(length):\n",
    "                if A[addA + i] == B[addB + i]:\n",
    "                    k += 1\n",
    "                    ret = max(ret, k)\n",
    "                else:\n",
    "                    k = 0\n",
    "            return ret\n",
    "        \n",
    "        n, m = len(A), len(B)\n",
    "        ret = 0\n",
    "        for i in range(n):\n",
    "            length = min(m, n - i)  # 重叠的区间长度\n",
    "            ret = max(ret, maxLength(i, 0, length))\n",
    "        for i in range(m):\n",
    "            length = min(n, m - i)\n",
    "            ret = max(ret, maxLength(0, i, length))\n",
    "        return ret"
   ]
  },
  {
   "cell_type": "code",
   "execution_count": null,
   "id": "9aa05eae",
   "metadata": {},
   "outputs": [],
   "source": [
    "class Solution:\n",
    "    def findLength(self, nums1: List[int], nums2: List[int]) -> int:\n",
    "        def getRepeatLength(addA, addB, length):\n",
    "            res = cur = 0\n",
    "            for i in range(length):\n",
    "                if nums1[addA + i] == nums2[addB + i]:\n",
    "                    cur += 1\n",
    "                    res = max(res, cur)\n",
    "                else: cur = 0\n",
    "            return res \n",
    "        \n",
    "        m, n = len(nums1), len(nums2)\n",
    "        res = 0\n",
    "\n",
    "        for i in range(m):\n",
    "            res = max(res, getRepeatLength(i, 0, min(n, m - i)))\n",
    "        for i in range(n):\n",
    "            res = max(res, getRepeatLength(0, i, min(m, n - i)))\n",
    "\n",
    "        return res"
   ]
  },
  {
   "attachments": {},
   "cell_type": "markdown",
   "id": "afe1beda",
   "metadata": {},
   "source": [
    "- 时间复杂度: $O((N + M) \\times \\min{(N, M)})$\n",
    "- 空间复杂度: $O(1)$"
   ]
  },
  {
   "attachments": {},
   "cell_type": "markdown",
   "id": "118e8c52",
   "metadata": {},
   "source": [
    "## 240. 搜索二维矩阵"
   ]
  },
  {
   "cell_type": "code",
   "execution_count": 180,
   "id": "9f98496b",
   "metadata": {},
   "outputs": [],
   "source": [
    "class Solution:\n",
    "    def searchMatrix(self, matrix: List[List[int]], target: int) -> bool:\n",
    "        m, n = len(matrix), len(matrix[0])\n",
    "        x, y = 0, n - 1\n",
    "        # 搜索条件为在矩阵范围之内\n",
    "        while x <= m - 1 and y >= 0:\n",
    "            if matrix[x][y] == target: return True\n",
    "            if matrix[x][y] < target: x += 1\n",
    "            else: y -= 1\n",
    "        return False"
   ]
  },
  {
   "attachments": {},
   "cell_type": "markdown",
   "id": "41ca447f",
   "metadata": {},
   "source": [
    "## 162. 寻找峰值"
   ]
  },
  {
   "attachments": {},
   "cell_type": "markdown",
   "id": "4b9855d7",
   "metadata": {},
   "source": [
    "总之要一直向高处走，若 $nums[i + 1] > nums[i]$, 那么向右走一定能找到峰值。若寻找谷底则是一直向低处走"
   ]
  },
  {
   "cell_type": "code",
   "execution_count": 1,
   "id": "2aa1c1e8",
   "metadata": {},
   "outputs": [],
   "source": [
    "from typing import List \n",
    "class Solution:\n",
    "    def findPeakElement(self, nums: List[int]) -> int:\n",
    "        get = lambda idx : float(\"-inf\") if (idx == -1 or idx == n) else nums[idx]\n",
    "        def find(l, r):\n",
    "            if l > r: return l\n",
    "            mid = (l + r) // 2\n",
    "            return find(l, mid - 1) if get(mid) > get(mid + 1) else find(mid + 1, r)\n",
    "        n = len(nums)\n",
    "        return find(0, n - 1)\n"
   ]
  },
  {
   "attachments": {},
   "cell_type": "markdown",
   "id": "ad621cb3",
   "metadata": {},
   "source": [
    "## 227. 基本计算器Ⅱ"
   ]
  },
  {
   "cell_type": "markdown",
   "id": "3b989a49",
   "metadata": {},
   "source": [
    "重点是维护前一个字符，这样才能做到优先运算乘除"
   ]
  },
  {
   "cell_type": "code",
   "execution_count": 21,
   "id": "1f0ca176",
   "metadata": {},
   "outputs": [],
   "source": [
    "class Solution:\n",
    "    def calculate(self, s: str) -> int:\n",
    "        n = len(s)\n",
    "        stack = []\n",
    "        preSign = '+'  # 维护上一个字符，妙！\n",
    "        num = 0\n",
    "        for i in range(n):\n",
    "            if s[i] != ' ' and s[i].isdigit():\n",
    "                num = num * 10 + ord(s[i]) - ord('0')\n",
    "            if i == n - 1 or s[i] in '+-*/':\n",
    "                if preSign == '+':\n",
    "                    stack.append(num)\n",
    "                elif preSign == '-':\n",
    "                    stack.append(-num)\n",
    "                elif preSign == '*':\n",
    "                    stack.append(stack.pop() * num)\n",
    "                else:\n",
    "                    stack.append(int(stack.pop() / num))\n",
    "                preSign = s[i]\n",
    "                num = 0\n",
    "        return sum(stack)"
   ]
  },
  {
   "cell_type": "code",
   "execution_count": 42,
   "id": "d114c40b",
   "metadata": {},
   "outputs": [],
   "source": [
    "class Solution:\n",
    "    def calculate(self, s: str) -> int:\n",
    "        n = len(s)\n",
    "        stack = []\n",
    "        preSign = '+'\n",
    "        num = 0\n",
    "        for i, ch in enumerate(s):\n",
    "            # print(preSign, stack)\n",
    "            if ch != ' ' and ch.isdigit(): num = num * 10 + int(ch)\n",
    "            if i == n - 1 or ch in '+-*/':\n",
    "                if preSign == '+': stack.append(num)\n",
    "                elif preSign == '-': stack.append(-num)\n",
    "                elif preSign == '*': stack.append(stack.pop() * num)\n",
    "                # // 会向更小的方向取整，对于负数除法会出错，使用 / 再 int 能避免这个问题\n",
    "                else: stack.append(int(stack.pop() / num))\n",
    "                preSign = ch \n",
    "                num = 0\n",
    "        return sum(stack)"
   ]
  },
  {
   "attachments": {},
   "cell_type": "markdown",
   "id": "798468da",
   "metadata": {},
   "source": [
    "## 128. 最长连续序列"
   ]
  },
  {
   "cell_type": "code",
   "execution_count": 46,
   "id": "e96ef4f7",
   "metadata": {},
   "outputs": [],
   "source": [
    "from typing import List\n",
    "class Solution:\n",
    "    def longestConsecutive(self, nums: List[int]) -> int:\n",
    "        nums, res = set(nums), 0\n",
    "        for n in nums:\n",
    "            # 方案为一直向大的数字枚举，因此如果一个数的前驱在set中，那么就不用重复枚举\n",
    "            if n - 1 in nums: continue\n",
    "            cur = n\n",
    "            while cur + 1 in nums: cur += 1\n",
    "            res = max(res, cur - n + 1)\n",
    "        return res"
   ]
  },
  {
   "attachments": {},
   "cell_type": "markdown",
   "id": "928aead2",
   "metadata": {},
   "source": [
    "## 695. 岛屿的最大面积"
   ]
  },
  {
   "cell_type": "code",
   "execution_count": 2,
   "id": "111406a0",
   "metadata": {},
   "outputs": [],
   "source": [
    "from typing import List \n",
    "class Solution:\n",
    "    def maxAreaOfIsland(self, grid: List[List[int]]) -> int:\n",
    "        def dfs(r, c):\n",
    "            ds = ((0, -1), (0, 1), (-1, 0), (1, 0))\n",
    "            res = 1\n",
    "            grid[r][c] = 0\n",
    "            for dr, dc in ds:\n",
    "                nr, nc = r + dr, c + dc\n",
    "                if 0 <= nr < m and 0 <= nc < n:\n",
    "                    if grid[nr][nc] == 1:\n",
    "                        res += dfs(nr, nc)\n",
    "            return res \n",
    "        \n",
    "        m, n = len(grid), len(grid[0])\n",
    "        ans = 0\n",
    "        for i in range(m):\n",
    "            for j in range(n):\n",
    "                if grid[i][j] == 1: ans = max(dfs(i, j), ans)\n",
    "        \n",
    "        return ans "
   ]
  },
  {
   "cell_type": "code",
   "execution_count": 6,
   "id": "d402808b",
   "metadata": {},
   "outputs": [],
   "source": [
    "grid = [[0,0,1,0,0,0,0,1,0,0,0,0,0],[0,0,0,0,0,0,0,1,1,1,0,0,0],[0,1,1,0,1,0,0,0,0,0,0,0,0],[0,1,0,0,1,1,0,0,1,0,1,0,0],[0,1,0,0,1,1,0,0,1,1,1,0,0],[0,0,0,0,0,0,0,0,0,0,1,0,0],[0,0,0,0,0,0,0,1,1,1,0,0,0],[0,0,0,0,0,0,0,1,1,0,0,0,0]]\n",
    "grid = [[0,0,0,0,0,0,0,0]]"
   ]
  },
  {
   "cell_type": "code",
   "execution_count": 7,
   "id": "a94ac2c1",
   "metadata": {},
   "outputs": [
    {
     "data": {
      "text/plain": [
       "0"
      ]
     },
     "execution_count": 7,
     "metadata": {},
     "output_type": "execute_result"
    }
   ],
   "source": [
    "s = Solution()\n",
    "s.maxAreaOfIsland(grid)"
   ]
  },
  {
   "attachments": {},
   "cell_type": "markdown",
   "id": "5e77a5b6",
   "metadata": {},
   "source": [
    "## 198. 打家劫舍"
   ]
  },
  {
   "cell_type": "code",
   "execution_count": 14,
   "id": "a056e7c5",
   "metadata": {},
   "outputs": [],
   "source": [
    "class Solution:\n",
    "    def rob(self, nums: List[int]) -> int:\n",
    "        dp = [[0, 0], [0, 0]]\n",
    "        ans = 0\n",
    "        for n in nums:\n",
    "            cur = [0, 0]\n",
    "            cur[0] = max(dp[0][1], dp[1][1])\n",
    "            cur[1] = max(dp[0][1], dp[1][0]) + n \n",
    "            ans = max(ans, cur[0], cur[1])\n",
    "            dp[0], dp[1] = dp[1], cur \n",
    "        return ans "
   ]
  },
  {
   "cell_type": "code",
   "execution_count": 21,
   "id": "9f52a813",
   "metadata": {},
   "outputs": [],
   "source": [
    "nums = [10,2,3,10]"
   ]
  },
  {
   "cell_type": "code",
   "execution_count": 22,
   "id": "042db353",
   "metadata": {},
   "outputs": [
    {
     "data": {
      "text/plain": [
       "20"
      ]
     },
     "execution_count": 22,
     "metadata": {},
     "output_type": "execute_result"
    }
   ],
   "source": [
    "s = Solution()\n",
    "s.rob(nums)"
   ]
  },
  {
   "cell_type": "code",
   "execution_count": 23,
   "id": "99ab7f17",
   "metadata": {},
   "outputs": [],
   "source": [
    "class Solution:\n",
    "    def rob(self, nums: List[int]) -> int:\n",
    "        dp = [0, 0]; ans = 0\n",
    "        for n in nums:\n",
    "            cur = max(dp[1], dp[0] + n)\n",
    "            ans = max(ans, cur)\n",
    "            dp[0], dp[1] = dp[1], cur \n",
    "        return ans "
   ]
  },
  {
   "attachments": {},
   "cell_type": "markdown",
   "id": "25fb3a5a",
   "metadata": {},
   "source": [
    "## 139. 单词拆分"
   ]
  },
  {
   "cell_type": "code",
   "execution_count": null,
   "id": "e6b438db",
   "metadata": {},
   "outputs": [],
   "source": [
    "class Solution:\n",
    "    def wordBreak(self, s: str, wordDict: List[str]) -> bool:\n",
    "        def dfs(idx):\n",
    "            if idx > n - 1: return True\n",
    "            if idx in memo: return memo[idx]\n",
    "            ans = False\n",
    "            for i in range(idx + 1, n + 1):\n",
    "                if s[idx:i] in wordDict: ans |= dfs(i)\n",
    "            memo[idx] = ans \n",
    "            return ans \n",
    "        \n",
    "        n = len(s)\n",
    "        wordDict = set(wordDict)\n",
    "        memo = {}\n",
    "        return dfs(0)"
   ]
  },
  {
   "attachments": {},
   "cell_type": "markdown",
   "id": "18af1188",
   "metadata": {},
   "source": [
    "## 662. 二叉树最大宽度"
   ]
  },
  {
   "cell_type": "code",
   "execution_count": 1,
   "id": "6783517c",
   "metadata": {},
   "outputs": [],
   "source": [
    "# Definition for a binary tree node.\n",
    "class TreeNode:\n",
    "    def __init__(self, val=0, left=None, right=None):\n",
    "        self.val = val\n",
    "        self.left = left\n",
    "        self.right = right"
   ]
  },
  {
   "cell_type": "code",
   "execution_count": 3,
   "id": "5f82d442",
   "metadata": {},
   "outputs": [],
   "source": [
    "from typing import Optional\n",
    "from collections import deque\n",
    "class Solution:\n",
    "    def widthOfBinaryTree(self, root: Optional[TreeNode]) -> int:\n",
    "        que = deque([(root, 0)])\n",
    "        ans = 0\n",
    "        while que:\n",
    "            idxs = []\n",
    "            for _ in range(len(que)):\n",
    "                cur, idx = que.popleft()\n",
    "                idxs.append(idx)\n",
    "                if cur.left: que.append((cur.left, 2 * idx))\n",
    "                if cur.right: que.append((cur.right, 2 * idx + 1))\n",
    "                ans = max(ans, idxs[-1] - idxs[0])\n",
    "        return ans + 1"
   ]
  },
  {
   "attachments": {},
   "cell_type": "markdown",
   "id": "b1546e5d",
   "metadata": {},
   "source": [
    "## 152. 乘积最大子数组"
   ]
  },
  {
   "cell_type": "code",
   "execution_count": 39,
   "id": "a6035267",
   "metadata": {},
   "outputs": [],
   "source": [
    "from typing import List \n",
    "class Solution:\n",
    "    def maxProduct(self, nums: List[int]) -> int:\n",
    "        pre0 = pre1 = 1\n",
    "        ans = nums[0]\n",
    "        for n in nums:\n",
    "            cur0 = max(n, pre0 * n, pre1 * n)\n",
    "            cur1 = min(n, pre0 * n, pre1 * n)\n",
    "            pre0, pre1 = cur0, cur1\n",
    "            ans = max(ans, pre0) \n",
    "        return ans "
   ]
  },
  {
   "cell_type": "code",
   "execution_count": 42,
   "id": "0975030e",
   "metadata": {},
   "outputs": [],
   "source": [
    "nums = [-2]"
   ]
  },
  {
   "cell_type": "code",
   "execution_count": 43,
   "id": "b0944cb7",
   "metadata": {},
   "outputs": [
    {
     "data": {
      "text/plain": [
       "-2"
      ]
     },
     "execution_count": 43,
     "metadata": {},
     "output_type": "execute_result"
    }
   ],
   "source": [
    "s = Solution()\n",
    "s.maxProduct(nums)"
   ]
  },
  {
   "cell_type": "markdown",
   "id": "21d0b320",
   "metadata": {},
   "source": [
    "## [179. 最大数](https://leetcode.cn/problems/largest-number/)"
   ]
  },
  {
   "cell_type": "code",
   "execution_count": 44,
   "id": "b2a202b5",
   "metadata": {},
   "outputs": [],
   "source": [
    "from functools import cmp_to_key\n",
    "from typing import List\n",
    "\n",
    "class Solution:\n",
    "    def largestNumber(self, nums: List[int]) -> str:\n",
    "        def comp(num1, num2):\n",
    "            return int(num2 + num1) - int(num1 + num2)\n",
    "    \n",
    "        nums = [str(n) for n in nums]\n",
    "        res = \"\".join(sorted(nums, key=cmp_to_key(comp)))\n",
    "        return \"0\" if res[0] == \"0\" else res"
   ]
  },
  {
   "cell_type": "code",
   "execution_count": 41,
   "id": "2328439a",
   "metadata": {},
   "outputs": [],
   "source": [
    "nums = [3,30,34,5,9]"
   ]
  },
  {
   "cell_type": "code",
   "execution_count": 42,
   "id": "82b90880",
   "metadata": {},
   "outputs": [
    {
     "data": {
      "text/plain": [
       "'9534330'"
      ]
     },
     "execution_count": 42,
     "metadata": {},
     "output_type": "execute_result"
    }
   ],
   "source": [
    "s = Solution()\n",
    "s.largestNumber(nums)"
   ]
  },
  {
   "cell_type": "markdown",
   "id": "0ef4aeb0",
   "metadata": {},
   "source": [
    "## [24. 两两交换链表中的节点](https://leetcode.cn/problems/swap-nodes-in-pairs/)"
   ]
  },
  {
   "cell_type": "code",
   "execution_count": 48,
   "id": "33acca53",
   "metadata": {},
   "outputs": [],
   "source": [
    "# Definition for singly-linked list.\n",
    "class ListNode:\n",
    "    def __init__(self, val=0, next=None):\n",
    "        self.val = val\n",
    "        self.next = next\n",
    "\n",
    "from typing import Optional\n",
    "\n",
    "class Solution:\n",
    "    def swapPairs(self, head: Optional[ListNode]) -> Optional[ListNode]:\n",
    "        if not head or not head.next: return head\n",
    "        dumb = ListNode(head)\n",
    "        pre, fir, sec, end = dumb, head, head.next, None\n",
    "        while sec:\n",
    "            end = sec.next\n",
    "            pre.next = sec\n",
    "            sec.next = fir\n",
    "            fir.next = end\n",
    "            pre = fir\n",
    "            fir = end\n",
    "            if end: sec = end.next\n",
    "            else: break\n",
    "\n",
    "        return dumb.next"
   ]
  },
  {
   "cell_type": "markdown",
   "id": "8f828aef",
   "metadata": {},
   "source": [
    "## [560. 和为 K 的子数组](https://leetcode.cn/problems/subarray-sum-equals-k/)"
   ]
  },
  {
   "cell_type": "code",
   "execution_count": 74,
   "id": "1a4e0c06",
   "metadata": {},
   "outputs": [],
   "source": [
    "class Solution:\n",
    "    def subarraySum(self, nums: List[int], k: int) -> int:\n",
    "        preSum = {0: 1}\n",
    "        curSum = 0\n",
    "        ans = 0\n",
    "        for n in nums:\n",
    "            curSum += n\n",
    "            if curSum - k in preSum: ans += preSum[curSum - k]\n",
    "            preSum[curSum] = preSum.get(curSum, 0) + 1\n",
    "        return ans"
   ]
  },
  {
   "cell_type": "code",
   "execution_count": 75,
   "id": "afe7b7b3",
   "metadata": {},
   "outputs": [],
   "source": [
    "nums = [1,2,1,2,1]\n",
    "k = 3"
   ]
  },
  {
   "cell_type": "code",
   "execution_count": 76,
   "id": "e0490c9e",
   "metadata": {},
   "outputs": [
    {
     "data": {
      "text/plain": [
       "4"
      ]
     },
     "execution_count": 76,
     "metadata": {},
     "output_type": "execute_result"
    }
   ],
   "source": [
    "s = Solution()\n",
    "s.subarraySum(nums, k)"
   ]
  },
  {
   "cell_type": "markdown",
   "id": "d30fa914",
   "metadata": {},
   "source": [
    "## [233. 数字 1 的个数](https://leetcode.cn/problems/number-of-digit-one/description/)"
   ]
  },
  {
   "cell_type": "markdown",
   "id": "7a793fef",
   "metadata": {},
   "source": [
    "熟悉的数位dp！"
   ]
  },
  {
   "cell_type": "code",
   "execution_count": 4,
   "id": "8f349503",
   "metadata": {},
   "outputs": [],
   "source": [
    "class Solution:\n",
    "    def countDigitOne(self, n: int) -> int:\n",
    "        digits = [int(i) for i in str(n)]\n",
    "        dp = dict()\n",
    "\n",
    "        def dfs(pos : int, isBound: bool, cnt : int) -> int:\n",
    "            if (pos == len(digits)): return cnt\n",
    "            if (pos, isBound, cnt) in dp: return dp[(pos, isBound, cnt)]\n",
    "            ans = 0\n",
    "            for i in range(digits[pos] + 1 if isBound else 10):\n",
    "                ans += dfs(\n",
    "                    pos + 1,\n",
    "                    isBound and i == digits[pos],\n",
    "                    cnt + 1 if i == 1 else cnt\n",
    "                )\n",
    "            dp[(pos, isBound, cnt)] = ans\n",
    "            return ans\n",
    "\n",
    "        return dfs(0, True, 0)"
   ]
  },
  {
   "cell_type": "markdown",
   "id": "8036e931",
   "metadata": {},
   "source": [
    "## [572. 另一棵树的子树](https://leetcode.cn/problems/subtree-of-another-tree/description/)"
   ]
  },
  {
   "cell_type": "code",
   "execution_count": 14,
   "id": "8e343923",
   "metadata": {},
   "outputs": [],
   "source": [
    "from typing import Optional\n",
    "\n",
    "# Definition for a binary tree node.\n",
    "class TreeNode:\n",
    "    def __init__(self, val=0, left=None, right=None):\n",
    "        self.val = val\n",
    "        self.left = left\n",
    "        self.right = right\n",
    "\n",
    "\n",
    "class Solution:\n",
    "    def isSubtree(self, root: Optional[TreeNode], subRoot: Optional[TreeNode]) -> bool:\n",
    "        def isSame(root1, root2):\n",
    "            if ((root1 == None) ^ (root2 == None)): return False\n",
    "            elif (root1 == None): return True\n",
    "            else: return (root1.val == root2.val) and \\\n",
    "                isSame(root1.left, root2.left) and isSame(root1.right, root2.right)\n",
    "\n",
    "        def dfs(node):\n",
    "            nonlocal res\n",
    "            if not node: return\n",
    "            if node.val == subRoot.val:\n",
    "                res |= isSame(node, subRoot)\n",
    "            dfs(node.left)\n",
    "            dfs(node.right)\n",
    "\n",
    "        res = False\n",
    "        dfs(root)\n",
    "        return res"
   ]
  },
  {
   "cell_type": "markdown",
   "id": "a7af5893",
   "metadata": {},
   "source": [
    "## [42. 接雨水](https://leetcode.cn/problems/trapping-rain-water/description/)"
   ]
  },
  {
   "cell_type": "markdown",
   "id": "0084c4cb",
   "metadata": {},
   "source": [
    "1. 按行计算，每次统计一个高度的雨水共有多少。\n",
    "\n",
    "    具体方法为：对于一个给定的高度 $h$，遍历所有列表中的元素，如果有高于 $h$ 的元素，则开始计数，表示有左边的墙了。如果元素低于 $h$ 且有左边的墙，则说明这里的水可能可以被接到，加到 temp 中；如果有左边的墙且再次遇到大于 $h$ 的元素，则将 temp 加入到 ans 中，表示这一块已经接到了雨水。"
   ]
  },
  {
   "cell_type": "code",
   "execution_count": 21,
   "id": "8bfca7ce",
   "metadata": {},
   "outputs": [],
   "source": [
    "from typing import List\n",
    "\n",
    "class Solution:\n",
    "    def trap(self, height: List[int]) -> int:\n",
    "        maxH = max(height)\n",
    "        ans = 0\n",
    "        for i in range(1, maxH + 1):\n",
    "            temp, bHasWall = 0, False\n",
    "            for h in height:\n",
    "                if h >= i:\n",
    "                    if bHasWall: \n",
    "                        ans += temp\n",
    "                        temp = 0\n",
    "                    else: bHasWall = True\n",
    "                else:\n",
    "                    if bHasWall: temp += 1\n",
    "\n",
    "        return ans"
   ]
  },
  {
   "cell_type": "markdown",
   "id": "978e9989",
   "metadata": {},
   "source": [
    "2. 一个位置能够接收到的最高雨水高度等于左侧最大高度与右侧最大高度的最小值，能接到的雨水量等于该处雨水能够达到的最大高度减去 `height[i]`，预处理出左侧最大高度与右侧最大高度的数组，依次查询即可。"
   ]
  },
  {
   "cell_type": "code",
   "execution_count": 3,
   "id": "2dc9692e",
   "metadata": {},
   "outputs": [],
   "source": [
    "from typing import List\n",
    "\n",
    "class Solution:\n",
    "    def trap(self, height: List[int]) -> int:\n",
    "        maxLeft, maxRight = height[0], height[-1]\n",
    "        left, right = [0 for _ in range(len(height))], [0 for _ in range(len(height))]\n",
    "        for i in range(len(height)):\n",
    "            if height[i] > maxLeft:\n",
    "                maxLeft = left[i] = height[i]\n",
    "            else: left[i] = maxLeft\n",
    "\n",
    "        for i in range(len(height) - 1, -1, -1):\n",
    "            if height[i] > maxRight:\n",
    "                maxRight = right[i] = height[i]\n",
    "            else: right[i] = maxRight\n",
    "        \n",
    "        ans = 0\n",
    "        for i, h in enumerate(height):\n",
    "            ans += min(left[i], right[i]) - h\n",
    "\n",
    "        return ans"
   ]
  },
  {
   "cell_type": "markdown",
   "id": "1becd299",
   "metadata": {},
   "source": [
    "3. 双指针法：始终移动较小的指针并且记录左侧与右侧的最大值，这样可以保证当 `height[left] < height[right]` 时，必然有 `maxLeft < maxRight`，对称的情况同理，遍历并累计接水量，直到指针相遇。"
   ]
  },
  {
   "cell_type": "code",
   "execution_count": 6,
   "id": "7991e94a",
   "metadata": {},
   "outputs": [],
   "source": [
    "class Solution:\n",
    "    def trap(self, height: List[int]) -> int:\n",
    "        ans = 0\n",
    "        left, right = 0, len(height) - 1\n",
    "        leftMax, rightMax = 0, 0\n",
    "\n",
    "        while left < right:\n",
    "            leftMax = max(leftMax, height[left])\n",
    "            rightMax = max(rightMax, height[right])\n",
    "            if height[left] < height[right]:\n",
    "                ans += min(leftMax, rightMax) - height[left]\n",
    "                left += 1\n",
    "            else:\n",
    "                ans += min(leftMax, right) - height[right]\n",
    "                right -= 1\n",
    "        \n",
    "        return ans"
   ]
  },
  {
   "cell_type": "markdown",
   "id": "eb1d06de",
   "metadata": {},
   "source": [
    "## [287. 寻找重复数](https://leetcode.cn/problems/find-the-duplicate-number/description/)"
   ]
  },
  {
   "cell_type": "markdown",
   "id": "5a539c28",
   "metadata": {},
   "source": [
    "1. 二分：**寻找单调性**，题中的单调性如何体现？设重复的数字为 `target`，那么对于小于 `target` 的任意数字 `n`，数组中小于 `n` 的数字数量一定小于 `n`，而大于等于 `target` 的任意数字 `N`，数组中大于 `N` 的数字数量一定大于等于 `N`，具有单调性，二分查找 `traget`，判断的时间复杂度为 `O(n)`，总体时间复杂度 `O(nlogn)`。"
   ]
  },
  {
   "cell_type": "code",
   "execution_count": 16,
   "id": "dc491e74",
   "metadata": {},
   "outputs": [],
   "source": [
    "class Solution:\n",
    "    def findDuplicate(self, nums: List[int]) -> int:\n",
    "        left, right = 1, len(nums) - 1\n",
    "        ans = -1\n",
    "        while left <= right:\n",
    "            mid = (left + right) // 2\n",
    "            cnt = 0\n",
    "            for n in nums:\n",
    "                cnt += n <= mid\n",
    "            if cnt <= mid: left = mid + 1\n",
    "            else:\n",
    "                right = mid - 1\n",
    "                ans = mid\n",
    "        return ans"
   ]
  },
  {
   "cell_type": "markdown",
   "id": "059fae8c",
   "metadata": {},
   "source": [
    "2. 快慢指针：由于 nums 长度为 `n + 1`，即索引为 `[0, n]`，而其中只包含 `[1, n + 1]` 的数字，数组中的每个元素可以看作是指向下一个元素的指针，其中元素的值代表下一个元素的索引。由于数组中的数字都在[1, n]范围内，且数组长度为n+1，根据鸽巢原理，至少有一个数字是重复的。这种重复意味着至少有两个位置指向了同一个索引，从而形成了一个环。"
   ]
  },
  {
   "cell_type": "markdown",
   "id": "c7ea7822",
   "metadata": {},
   "source": [
    "![image.png](https://s2.loli.net/2024/03/12/n3C4dmozc5Xahw6.png)"
   ]
  },
  {
   "cell_type": "markdown",
   "id": "77ae4111",
   "metadata": {},
   "source": [
    "找环入口：快慢指针相遇后再使用一个指针从头部开始移动，慢指针同时移动，最终两个指针会在环的入口相遇。"
   ]
  },
  {
   "cell_type": "code",
   "execution_count": 2,
   "id": "cc51d3e5",
   "metadata": {},
   "outputs": [],
   "source": [
    "from typing import List\n",
    "\n",
    "class Solution:\n",
    "    def findDuplicate(self, nums: List[int]) -> int:\n",
    "        slow = fast = nums[0]\n",
    "        while True:\n",
    "            slow = nums[slow]\n",
    "            fast = nums[nums[fast]]\n",
    "            if slow == fast: break\n",
    "\n",
    "        slow = nums[0]  # 从入口开始重新移动\n",
    "        while slow != fast:\n",
    "            slow = nums[slow]\n",
    "            fast = nums[fast]\n",
    "\n",
    "        return slow"
   ]
  },
  {
   "cell_type": "markdown",
   "id": "eb66a76c",
   "metadata": {},
   "source": [
    "## [16. 最接近的三数之和](https://leetcode.cn/problems/3sum-closest/description/)"
   ]
  },
  {
   "cell_type": "code",
   "execution_count": 19,
   "id": "b2ff634a",
   "metadata": {},
   "outputs": [],
   "source": [
    "class Solution:\n",
    "    def threeSumClosest(self, nums: List[int], target: int) -> int:\n",
    "        nums.sort()\n",
    "        ans = float(\"Inf\")\n",
    "\n",
    "        def update(cur):\n",
    "            nonlocal ans\n",
    "            if abs(cur - target) < abs(ans - target):\n",
    "                ans = cur\n",
    "\n",
    "        for i, n in enumerate(nums):\n",
    "            if (i > 0 and nums[i] == nums[i - 1]): continue\n",
    "            left, right = i + 1, len(nums) - 1\n",
    "            while left < right:\n",
    "                curSum = n + nums[left] + nums[right]\n",
    "                if curSum == target: return target\n",
    "                update(curSum)\n",
    "                if (curSum > target):\n",
    "                    rightVal = nums[right]\n",
    "                    while (left < right and nums[right] == rightVal):\n",
    "                        right -= 1\n",
    "                else:\n",
    "                    leftVal = nums[left]\n",
    "                    while (left < right and nums[left] == leftVal):\n",
    "                        left += 1\n",
    "        return ans"
   ]
  },
  {
   "cell_type": "code",
   "execution_count": 20,
   "id": "f39d6440",
   "metadata": {},
   "outputs": [],
   "source": [
    "nums = [-1,2,1,-4]\n",
    "target = 1"
   ]
  },
  {
   "cell_type": "code",
   "execution_count": 21,
   "id": "798004b7",
   "metadata": {},
   "outputs": [
    {
     "data": {
      "text/plain": [
       "2"
      ]
     },
     "execution_count": 21,
     "metadata": {},
     "output_type": "execute_result"
    }
   ],
   "source": [
    "s = Solution()\n",
    "s.threeSumClosest(nums, target)"
   ]
  },
  {
   "cell_type": "markdown",
   "id": "d2986530",
   "metadata": {},
   "source": [
    "## [1011. 在 D 天内送达包裹的能力](https://leetcode.cn/problems/capacity-to-ship-packages-within-d-days/description/)"
   ]
  },
  {
   "cell_type": "code",
   "execution_count": 5,
   "id": "35b632d6",
   "metadata": {},
   "outputs": [],
   "source": [
    "import heapq\n",
    "from typing import List\n",
    "\n",
    "class Solution:\n",
    "    def shipWithinDays(self, weights: List[int], days: int) -> int:\n",
    "        weights.sort(reverse=True)\n",
    "        heap = []\n",
    "        for w in weights:\n",
    "            if len(heap) < days: heapq.heappush(heap, w)\n",
    "            else: heapq.heappush(heap, heapq.heappop(heap) + w)\n",
    "        return max(heap)"
   ]
  },
  {
   "cell_type": "markdown",
   "id": "d1929944",
   "metadata": {},
   "source": [
    "这应该是处理可以乱序情况下的解法？"
   ]
  },
  {
   "cell_type": "markdown",
   "id": "64c7296e",
   "metadata": {},
   "source": [
    "最后还是要二分做，略微总结一下：面对 “最xxx” 的问题时，先思考如何判断一个特定值是否满足要求，复杂度是多少。“最xxx” 的问题天然具备单调性，即小于某个值的答案均不成立，大于这个值的答案均成立，因此可以使用二分来查找这个临界值。"
   ]
  },
  {
   "cell_type": "code",
   "execution_count": 33,
   "id": "cf3b6612",
   "metadata": {},
   "outputs": [],
   "source": [
    "class Solution:\n",
    "    def shipWithinDays(self, weights: List[int], days: int) -> int:\n",
    "        def check(w):\n",
    "            cnt = 0\n",
    "            temp = 0\n",
    "            for n in weights:\n",
    "                if n >= w:\n",
    "                    temp = 0\n",
    "                    cnt += 2\n",
    "                else:\n",
    "                    temp += n\n",
    "                    if temp > w:\n",
    "                        temp = n\n",
    "                        cnt += 1\n",
    "            if temp: cnt += 1\n",
    "            # print(w, cnt)\n",
    "            return cnt <= days\n",
    "        \n",
    "        left, right = max(weights), sum(weights)\n",
    "        while left < right:\n",
    "            mid = (left + right) >> 1\n",
    "            if check(mid): right = mid\n",
    "            else: left = mid + 1\n",
    "\n",
    "        return left"
   ]
  },
  {
   "cell_type": "code",
   "execution_count": 34,
   "id": "bc17c740",
   "metadata": {},
   "outputs": [],
   "source": [
    "weights = [1,2,3,4,5,6,7,8,9,10]\n",
    "days = 5"
   ]
  },
  {
   "cell_type": "code",
   "execution_count": 35,
   "id": "a21ea76f",
   "metadata": {},
   "outputs": [
    {
     "data": {
      "text/plain": [
       "15"
      ]
     },
     "execution_count": 35,
     "metadata": {},
     "output_type": "execute_result"
    }
   ],
   "source": [
    "s = Solution()\n",
    "s.shipWithinDays(weights, days)"
   ]
  },
  {
   "cell_type": "markdown",
   "id": "7931128f",
   "metadata": {},
   "source": [
    "## [153. 寻找旋转排序数组中的最小值](https://leetcode.cn/problems/find-minimum-in-rotated-sorted-array/description/)"
   ]
  },
  {
   "cell_type": "code",
   "execution_count": 3,
   "id": "245bdcb2",
   "metadata": {},
   "outputs": [],
   "source": [
    "from typing import List\n",
    "\n",
    "class Solution:\n",
    "    def findMin(self, nums: List[int]) -> int:\n",
    "        left, right = 0, len(nums) - 1\n",
    "        while left < right:\n",
    "            mid = (left + right) >> 1\n",
    "            if mid > 0 and nums[mid - 1] > nums[mid] < nums[mid + 1]:\n",
    "                return nums[mid]\n",
    "            if nums[mid] <= nums[right]: right = mid\n",
    "            else: left = mid + 1\n",
    "        return min(nums[left], nums[0])"
   ]
  },
  {
   "cell_type": "markdown",
   "id": "95ec8a1b",
   "metadata": {},
   "source": [
    "## [143. 重排链表](https://leetcode.cn/problems/reorder-list/description/)"
   ]
  },
  {
   "cell_type": "code",
   "execution_count": 1,
   "id": "34d18477",
   "metadata": {},
   "outputs": [],
   "source": [
    "# Definition for singly-linked list.\n",
    "class ListNode:\n",
    "    def __init__(self, val=0, next=None):\n",
    "        self.val = val\n",
    "        self.next = next"
   ]
  },
  {
   "cell_type": "code",
   "execution_count": 3,
   "id": "5a2509c9",
   "metadata": {},
   "outputs": [],
   "source": [
    "from typing import Optional\n",
    "\n",
    "class Solution:\n",
    "    def reorderList(self, head: Optional[ListNode]) -> None:\n",
    "        \"\"\"\n",
    "        Do not return anything, modify head in-place instead.\n",
    "        \"\"\"\n",
    "        def middleNode(head):\n",
    "            slow = fast = head\n",
    "            while fast.next and fast.next.next:\n",
    "                slow = slow.next\n",
    "                fast = fast.next.next\n",
    "            return slow\n",
    "        \n",
    "        def reverseList(head):\n",
    "            pre, cur = None, head\n",
    "            while cur:\n",
    "                nxt = cur.next\n",
    "                pre = cur.next\n",
    "                pre = cur\n",
    "                cur = nxt\n",
    "            return pre\n",
    "        \n",
    "        def mergeList(l1, l2):\n",
    "            while l1 and l2:\n",
    "                nxt1, nxt2 = l1.next, l2.next\n",
    "                l1.next = l2\n",
    "                l1 = nxt1\n",
    "                l2.next = l1\n",
    "                l2 = nxt2\n",
    "\n",
    "        if not head: return\n",
    "        mid = middleNode(head)\n",
    "        l1 = head\n",
    "        l2 = mid.next\n",
    "        mid.next = None\n",
    "        l2 = reverseList(l2)\n",
    "        mergeList(l1, l2)"
   ]
  },
  {
   "cell_type": "markdown",
   "id": "ae325fac",
   "metadata": {},
   "source": [
    "## [82. 删除排序链表中的重复元素Ⅱ](https://leetcode.cn/problems/remove-duplicates-from-sorted-list-ii/description/)"
   ]
  },
  {
   "cell_type": "code",
   "execution_count": 4,
   "id": "3fd62a96",
   "metadata": {},
   "outputs": [],
   "source": [
    "# Definition for singly-linked list.\n",
    "class ListNode:\n",
    "    def __init__(self, val=0, next=None):\n",
    "        self.val = val\n",
    "        self.next = next"
   ]
  },
  {
   "cell_type": "code",
   "execution_count": 6,
   "id": "90a8c937",
   "metadata": {},
   "outputs": [],
   "source": [
    "class Solution:\n",
    "    def deleteDuplicates(self, head: Optional[ListNode]) -> Optional[ListNode]:\n",
    "        dumb = ListNode(0, head)\n",
    "        cur = dumb\n",
    "        while cur.next and cur.next.next:\n",
    "            val = cur.next.val\n",
    "            if cur.next.next.val == val:\n",
    "                while cur.next and cur.next.val == val:\n",
    "                    cur.next = cur.next.next\n",
    "            else: cur = cur.next\n",
    "        return dumb.next"
   ]
  },
  {
   "cell_type": "code",
   "execution_count": 11,
   "id": "476ce5d5",
   "metadata": {},
   "outputs": [],
   "source": [
    "class Solution:\n",
    "    def deleteDuplicates(self, head: Optional[ListNode]) -> Optional[ListNode]:\n",
    "        if not head: return\n",
    "        dumb = ListNode(0, head)\n",
    "        pre, cur = dumb, head\n",
    "        while cur:\n",
    "            flag = 0\n",
    "            # cur.val == next.val 时持续移动 nxt\n",
    "            nxt = cur.next\n",
    "            while nxt and cur.val == nxt.val:\n",
    "                flag = 1\n",
    "                nxt = nxt.next\n",
    "            # 有重复情况，直接跳过中间的数字，将 pre.next 和 cur 都赋以 nxt\n",
    "            if flag == 1: pre.next = cur = nxt\n",
    "            # 没有重复的情况，pre 和 cur 都向后移动\n",
    "            if flag == 0: pre, cur = pre.next, cur.next\n",
    "        return dumb.next"
   ]
  },
  {
   "cell_type": "markdown",
   "id": "889ae183",
   "metadata": {},
   "source": [
    "## [438. 找到字符串中所有字母异位词](https://leetcode.cn/problems/find-all-anagrams-in-a-string/description/)"
   ]
  },
  {
   "cell_type": "code",
   "execution_count": 6,
   "id": "1bcb6c46",
   "metadata": {},
   "outputs": [],
   "source": [
    "from typing import List\n",
    "\n",
    "class Solution:\n",
    "    def findAnagrams(self, s: str, p: str) -> List[int]:\n",
    "        n1, n2 = len(s), len(p)\n",
    "        res = []\n",
    "\n",
    "        if n1 < n2: return res\n",
    "        \n",
    "        target = [0] * 26\n",
    "        cur    = [0] * 26\n",
    "        \n",
    "        for c in p:\n",
    "            target[ord(c) - 97] += 1\n",
    "        \n",
    "        for c in s[:n2]:\n",
    "            cur[ord(c) - 97] += 1\n",
    "        \n",
    "        if cur == target: res.append(0)\n",
    "\n",
    "        for i in range(n1 - n2):\n",
    "            cur[ord(s[i]) - 97] -= 1\n",
    "            cur[ord(s[n2 + i]) - 97] += 1\n",
    "            if cur == target: res.append(i + 1)\n",
    "        \n",
    "        return res"
   ]
  },
  {
   "cell_type": "markdown",
   "id": "f2a97c52",
   "metadata": {},
   "source": [
    "## [96. 不同的二叉搜索树](https://leetcode.cn/problems/unique-binary-search-trees/description/)"
   ]
  },
  {
   "cell_type": "code",
   "execution_count": 13,
   "id": "80572a4f",
   "metadata": {},
   "outputs": [],
   "source": [
    "class Solution:\n",
    "    def numTrees(self, n: int) -> int:\n",
    "        dp = [0] * 22\n",
    "        dp[0] = dp[1] = 1\n",
    "        for i in range(2, n + 1):\n",
    "            for j in range(i):\n",
    "                dp[i] += dp[j] * dp[i - j - 1]\n",
    "        return dp[n]"
   ]
  },
  {
   "cell_type": "code",
   "execution_count": 14,
   "id": "f91bd795",
   "metadata": {},
   "outputs": [
    {
     "data": {
      "text/plain": [
       "5"
      ]
     },
     "execution_count": 14,
     "metadata": {},
     "output_type": "execute_result"
    }
   ],
   "source": [
    "s = Solution()\n",
    "s.numTrees(3)"
   ]
  },
  {
   "cell_type": "markdown",
   "id": "7fed3e32",
   "metadata": {},
   "source": [
    "## [139. 单词拆分](https://leetcode.cn/problems/word-break/description/)"
   ]
  },
  {
   "cell_type": "code",
   "execution_count": 36,
   "id": "e6984835",
   "metadata": {},
   "outputs": [],
   "source": [
    "class Solution:\n",
    "    def wordBreak(self, s: str, wordDict: List[str]) -> bool:\n",
    "        def dfs(idx):\n",
    "            if idx > n - 1: return True\n",
    "            if idx in memo: return memo[idx]\n",
    "            ans = False\n",
    "            for i in range(idx + 1, n + 1):\n",
    "                if s[idx:i] in wordDict: ans |= dfs(i)\n",
    "            memo[idx] = ans \n",
    "            return ans \n",
    "        \n",
    "        n = len(s)\n",
    "        wordDict = set(wordDict)\n",
    "        memo = {}\n",
    "        return dfs(0)"
   ]
  },
  {
   "cell_type": "code",
   "execution_count": null,
   "id": "38293efb",
   "metadata": {},
   "outputs": [],
   "source": [
    "class Solution:\n",
    "    def wordBreak(self, s: str, wordDict: List[str]) -> bool:\n",
    "\n",
    "        def dfs(idx):\n",
    "            if idx >=n : return True\n",
    "            if idx in memo: return memo[idx]\n",
    "            ans = False\n",
    "            for i in range(idx + 1, n + 1):\n",
    "                if s[idx:i] in wordDict: ans |= dfs(i)\n",
    "            memo[idx] = ans\n",
    "            return ans\n",
    "\n",
    "        n = len(s)\n",
    "        wordDict = set(wordDict)\n",
    "        memo = dict()\n",
    "        return dfs(0)"
   ]
  },
  {
   "cell_type": "markdown",
   "id": "f2e3df4c",
   "metadata": {},
   "source": [
    "## [131. 分割回文串](https://leetcode.cn/problems/palindrome-partitioning/description/)"
   ]
  },
  {
   "cell_type": "code",
   "execution_count": 24,
   "id": "a19bf2a3",
   "metadata": {},
   "outputs": [],
   "source": [
    "from typing import List\n",
    "\n",
    "class Solution:\n",
    "    def partition(self, s: str) -> List[List[str]]:\n",
    "        path = [0]\n",
    "        res = []\n",
    "        n = len(s)\n",
    "        memo = dict()\n",
    "\n",
    "        def getAns():\n",
    "            cur = []\n",
    "            for i in range(0, len(path) - 1):\n",
    "                cur.append(s[path[i] : path[i + 1]])\n",
    "            return cur\n",
    "\n",
    "        def dfs(idx):\n",
    "            if idx == n:\n",
    "                if s[path[-1] : idx] == s[path[-1] : idx][::-1]:\n",
    "                    res.append(getAns())\n",
    "                return\n",
    "            \n",
    "            for i in range(idx + 1, n + 1):\n",
    "                if s[idx : i] == s[idx : i][::-1]:\n",
    "                    path.append(i)\n",
    "                    dfs(i)\n",
    "                    path.pop()\n",
    "            \n",
    "        dfs(0)\n",
    "        return res"
   ]
  },
  {
   "cell_type": "code",
   "execution_count": 38,
   "id": "bb91e5f4",
   "metadata": {},
   "outputs": [
    {
     "data": {
      "text/plain": [
       "[['a', 'a', 'b'], ['aa', 'b']]"
      ]
     },
     "execution_count": 38,
     "metadata": {},
     "output_type": "execute_result"
    }
   ],
   "source": [
    "s = \"aab\"\n",
    "S = Solution()\n",
    "S.partition(s)"
   ]
  },
  {
   "cell_type": "code",
   "execution_count": 37,
   "id": "129c6255",
   "metadata": {},
   "outputs": [],
   "source": [
    "from typing import List\n",
    "\n",
    "class Solution:\n",
    "    def partition(self, s: str) -> List[List[str]]:\n",
    "        path = [0]\n",
    "        res = []\n",
    "        n = len(s)\n",
    "        dp = [[False for _ in range(n + 1)] for _ in range(n + 1)]\n",
    "\n",
    "        for i in range(n):\n",
    "            for j in range(i + 1, n + 1):\n",
    "                if s[i : j] == s[i : j][::-1]:\n",
    "                    dp[i][j] = True\n",
    "\n",
    "        def getAns():\n",
    "            cur = []\n",
    "            for i in range(0, len(path) - 1):\n",
    "                cur.append(s[path[i] : path[i + 1]])\n",
    "            return cur\n",
    "\n",
    "        def dfs(idx):\n",
    "            if idx == n:\n",
    "                if dp[path[-2]][idx]: \n",
    "                    res.append(getAns())\n",
    "                return\n",
    "            \n",
    "            for i in range(idx + 1, n + 1):\n",
    "                if dp[idx][i]:\n",
    "                    path.append(i)\n",
    "                    dfs(i)\n",
    "                    path.pop()\n",
    "            \n",
    "        dfs(0)\n",
    "        return res"
   ]
  },
  {
   "cell_type": "code",
   "execution_count": null,
   "id": "ee865997",
   "metadata": {},
   "outputs": [],
   "source": [
    "class Solution:\n",
    "    def partition(self, s: str) -> List[List[str]]:\n",
    "        n = len(s)\n",
    "        f = [[True] * n for _ in range(n)]\n",
    "\n",
    "        # 提前计算好是否为回文串\n",
    "        for i in range(n - 1, -1, -1):\n",
    "            for j in range(i + 1, n):\n",
    "                f[i][j] = (s[i] == s[j]) and f[i + 1][j - 1]\n",
    "\n",
    "        ret = list()\n",
    "        ans = list()\n",
    "\n",
    "        def dfs(i: int):\n",
    "            if i == n:\n",
    "                ret.append(ans[:])\n",
    "                return\n",
    "            \n",
    "            for j in range(i, n):\n",
    "                if f[i][j]:\n",
    "                    ans.append(s[i:j+1])\n",
    "                    dfs(j + 1)\n",
    "                    ans.pop()\n",
    "\n",
    "        dfs(0)\n",
    "        return ret"
   ]
  },
  {
   "cell_type": "code",
   "execution_count": null,
   "id": "3e4502b9",
   "metadata": {},
   "outputs": [],
   "source": []
  },
  {
   "cell_type": "code",
   "execution_count": null,
   "id": "460b939a",
   "metadata": {},
   "outputs": [],
   "source": []
  },
  {
   "cell_type": "code",
   "execution_count": null,
   "id": "c752ad4f",
   "metadata": {},
   "outputs": [],
   "source": []
  },
  {
   "cell_type": "code",
   "execution_count": null,
   "id": "f9f382c1",
   "metadata": {},
   "outputs": [],
   "source": []
  },
  {
   "cell_type": "code",
   "execution_count": null,
   "id": "d7264772",
   "metadata": {},
   "outputs": [],
   "source": []
  },
  {
   "cell_type": "code",
   "execution_count": null,
   "id": "0c170a91",
   "metadata": {},
   "outputs": [],
   "source": []
  },
  {
   "cell_type": "code",
   "execution_count": null,
   "id": "3b373221",
   "metadata": {},
   "outputs": [],
   "source": []
  },
  {
   "cell_type": "code",
   "execution_count": null,
   "id": "e94a4ea8",
   "metadata": {},
   "outputs": [],
   "source": []
  },
  {
   "cell_type": "code",
   "execution_count": null,
   "id": "bd26126c",
   "metadata": {},
   "outputs": [],
   "source": []
  },
  {
   "cell_type": "code",
   "execution_count": null,
   "id": "c47b1c1a",
   "metadata": {},
   "outputs": [],
   "source": []
  },
  {
   "cell_type": "code",
   "execution_count": null,
   "id": "bda3e87b",
   "metadata": {},
   "outputs": [],
   "source": []
  },
  {
   "cell_type": "code",
   "execution_count": null,
   "id": "e81b477c",
   "metadata": {},
   "outputs": [],
   "source": []
  }
 ],
 "metadata": {
  "kernelspec": {
   "display_name": "Python 3 (ipykernel)",
   "language": "python",
   "name": "python3"
  },
  "language_info": {
   "codemirror_mode": {
    "name": "ipython",
    "version": 3
   },
   "file_extension": ".py",
   "mimetype": "text/x-python",
   "name": "python",
   "nbconvert_exporter": "python",
   "pygments_lexer": "ipython3",
   "version": "3.9.7"
  }
 },
 "nbformat": 4,
 "nbformat_minor": 5
}
