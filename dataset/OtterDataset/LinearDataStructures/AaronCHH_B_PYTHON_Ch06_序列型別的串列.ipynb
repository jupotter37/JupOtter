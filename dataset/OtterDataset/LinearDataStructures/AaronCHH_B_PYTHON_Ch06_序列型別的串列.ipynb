{
 "cells": [
  {
   "cell_type": "code",
   "execution_count": 1,
   "metadata": {},
   "outputs": [
    {
     "name": "stdout",
     "output_type": "stream",
     "text": [
      "<module 'ntpath' from 'C:\\\\Anaconda36\\\\lib\\\\ntpath.py'>\n",
      "I:\\BOOKS\\PYTHON\\__GITHUBBED\\Python程式設計實用經典\\SF_PClassic\n"
     ]
    }
   ],
   "source": [
    "import os, sys\n",
    "print(os.path)\n",
    "print(os.getcwd())"
   ]
  },
  {
   "cell_type": "code",
   "execution_count": null,
   "metadata": {
    "scrolled": true
   },
   "outputs": [],
   "source": [
    "flist = !dir ch6 /b \n",
    "[print(\"%load \" + \"ch6\" + \"/\" + f) for f in flist if f[-2:]==\"py\"]"
   ]
  },
  {
   "cell_type": "markdown",
   "metadata": {},
   "source": [
    "# CH06 序列型別的串列"
   ]
  },
  {
   "cell_type": "markdown",
   "metadata": {},
   "source": [
    "<div id=\"toc\"></div>"
   ]
  },
  {
   "cell_type": "markdown",
   "metadata": {},
   "source": [
    "## 6.1 串列"
   ]
  },
  {
   "cell_type": "code",
   "execution_count": null,
   "metadata": {
    "collapsed": true
   },
   "outputs": [],
   "source": [
    "# %load ch6/listex.py\n",
    "#filename:listex.py\n",
    "#function: create the empy list, list can contains different data type\n",
    "\n",
    "a=list()\n",
    "print(a)\n",
    "listex = ['中文', '日文','English', 6, [29,23,18,5,19,12]]\n",
    "print (listex)\n",
    "listex.append(8)\n",
    "print (listex)\n",
    "listex.extend(['1', '2', '3'])\n",
    "print (listex)\n",
    "\n",
    "elements = []\n",
    "string = \"I am a Python fan\"\n",
    "print(\"sring is: \", string)\n",
    "\n",
    "for v in string:\n",
    "#  print(v)\n",
    "  if v == ' ':\n",
    "      continue\n",
    "  elements.append(v)\n",
    "print(elements)\n"
   ]
  },
  {
   "cell_type": "code",
   "execution_count": null,
   "metadata": {
    "collapsed": true
   },
   "outputs": [],
   "source": [
    "# %load ch6/list_nest.py\n",
    "\n",
    "#filename:list_nest.py\n",
    "#function: List ,It is possible to nest lists\n",
    "# it menas list can create lists containing other lists\n",
    "\n",
    "mem_list_USA_UK = ['adeile', 'Madonld', 'Elton John']\n",
    "mem_list_TWN = ['fiev may','A-mei','five hundred']\n",
    "global_singer = [mem_list_USA_UK,mem_list_TWN]\n",
    "print(\"\\nGlobal singer: \",global_singer )\n",
    "print(\"USA UK singers:  \",global_singer[0] )\n",
    "print(\"USA UK singers no 1 \",global_singer[0][0])\n",
    "\n"
   ]
  },
  {
   "cell_type": "markdown",
   "metadata": {},
   "source": [
    "### 6.1.1 串列建立"
   ]
  },
  {
   "cell_type": "code",
   "execution_count": null,
   "metadata": {
    "collapsed": true
   },
   "outputs": [],
   "source": [
    "# %load ch6/list_create.py\n",
    "#filename:list_create.py\n",
    "#function:list creation\n",
    "\n",
    "#Creat list using []\n",
    "newList = []\n",
    "print(\"newLIst=\", newList)\n",
    "\n",
    "for i in range(0, 5):\n",
    "   newList.append(i*2)\n",
    "print(\"newlist after using append()=\",newList)\n",
    "\n",
    "#create list using list()\n",
    "outputlist=list()\n",
    "print(\"Outputlist=\",outputlist)\n",
    "for x in newList:\n",
    "   if x%2 == 0:\n",
    "     outputlist.append(x)\n",
    "print(\"outputlist after using append()=\",outputlist)\n",
    "\n",
    "#create list using list comprehension\n",
    "output=[]\n",
    "print(\"Ouput=\",output)\n",
    "output = [x for x in newList if x%2 == 0]\n",
    "print(\"output after using list comprehension=\",output)\n",
    "\n",
    "#output\n",
    "#newLIst= []\n",
    "#newlist after using append()= [0, 2, 4, 6, 8]\n",
    "#Outputlist= []\n",
    "#outputlist after using append()= [0, 2, 4, 6, 8]\n",
    "#Ouput= []\n",
    "#output after using list comprehension= [0, 2, 4, 6, 8]\n",
    "\n",
    "\n"
   ]
  },
  {
   "cell_type": "code",
   "execution_count": null,
   "metadata": {
    "collapsed": true
   },
   "outputs": [],
   "source": [
    "# %load ch6/list_operation.py\n",
    "#filename: list_operation.py\n",
    "#function: list operation\n",
    "\n",
    "members_list = [\"jack  Stahl\", \"Jack welhse\",\"john Kenny\",\"Johnny shieh\"]\n",
    "\n",
    "del members_list[0]   # index 0 from the list removed \n",
    "print (members_list) \n",
    "members_list.remove(\"john Kenny\") # remove the john Kenny from the list, not the index 4\n",
    "print ( members_list)\n",
    "\n",
    "members_list.reverse()\n",
    "print ( members_list)\n",
    "\n",
    "members_list.pop(1)   # index 1 from the list removed\n",
    "print ( members_list)\n",
    "\n",
    "Listing = [6, 10,15,22,29,46]\n",
    "print(Listing)\n",
    "Listing.reverse()\n",
    "print(Listing)\n",
    "\n",
    "\n",
    "members_list.remove(members_list[0])\n",
    "print ( members_list)\n"
   ]
  },
  {
   "cell_type": "markdown",
   "metadata": {},
   "source": [
    "### 6.1.2 串列存取及修改"
   ]
  },
  {
   "cell_type": "code",
   "execution_count": null,
   "metadata": {
    "collapsed": true
   },
   "outputs": [],
   "source": [
    "# %load ch6/list_access.py\n",
    "#filename:list_access.py\n",
    "\n",
    "import string\n",
    "\n",
    "Password_string = \"She101Who\"\n",
    "print(Password_string)\n",
    "isnumbers = [x for x in Password_string if x.isdigit()]\n",
    "print( isnumbers)\n",
    "print(len(isnumbers))\n",
    "\n",
    "    \n",
    "Password_new=[]\n",
    "for x in Password_string:\n",
    "   Password_new.append(chr(ord(x)+3))\n",
    "print(\"password new=\",Password_new)\n",
    "\n",
    "index=0\n",
    "for item in Password_new:\n",
    " print(item,end=' ')\n",
    " if Password_new[index].isdigit():\n",
    "    Password_new[index]=chr((ord(Password_new[index])+3))\n",
    " index+=1\n",
    "print(\"\\n\",Password_new)\n",
    "\n",
    "#change from List to string\n",
    "finalstr=''.join(Password_new)\n",
    "print(\"\\n\",finalstr)\n",
    "\n",
    "\n",
    "\n"
   ]
  },
  {
   "cell_type": "markdown",
   "metadata": {},
   "source": [
    "## 6.2 串列理解式"
   ]
  },
  {
   "cell_type": "code",
   "execution_count": null,
   "metadata": {
    "collapsed": true
   },
   "outputs": [],
   "source": [
    "# %load ch6/list_comp_create.py\n",
    "#filename:list-comp-create.py\n",
    "#function:general list creation and list comprehension \n",
    "\n",
    "n=int(input(\"plese keyin in the range count to n for range(n):\"))\n",
    "doublelist = []\n",
    "\n",
    "for x in range(n):\n",
    "   doublelist.append(x*2)\n",
    "print(\"doublelist is \",doublelist)\n",
    "\n",
    "\n",
    "doublelist = []\n",
    "doublelist = [x*2 for x in range(n)]\n",
    "print(\"doublelist using list comprehension is \",doublelist)\n"
   ]
  },
  {
   "cell_type": "markdown",
   "metadata": {},
   "source": [
    "## 6.3 串列應用與資料結構"
   ]
  },
  {
   "cell_type": "markdown",
   "metadata": {},
   "source": [
    "### 6.3.1 串列應用於資料結構堆疊"
   ]
  },
  {
   "cell_type": "code",
   "execution_count": 16,
   "metadata": {},
   "outputs": [
    {
     "name": "stdout",
     "output_type": "stream",
     "text": [
      "\n",
      "....init...\n",
      "stack is empty\n",
      "the stack data is [20, 16, 19, 7, 10]\n",
      "the stack id is 2242055752168\n",
      "stack count is 4\n"
     ]
    }
   ],
   "source": [
    "# %load ch6/stack_chap6.py\n",
    "#filename:stack_chap6.py(in chap6)\n",
    "#function:using the list to provide the Data structure(ex. stack..)\n",
    "#you can refer to  my C++ book , stack.cpp\n",
    "#stack is a data structure that use the rule of last in first out (LIFO)\n",
    "# it is used for kenerl for process\n",
    "#refer to: tThe design of the unix operating system authored by MAurice J. Bach\n",
    "#Queue is a data structure that use the rule of first in first out(FIFO)\n",
    "\n",
    "import random\n",
    "\n",
    "class Stack:\n",
    "    def __init__(self):\n",
    "        print(\"\\n....init...\")\n",
    "        self.memberitems = []\n",
    "         \n",
    "    #using append() for pushing an item on a stack at the end\n",
    "    def push(self,data):\n",
    "        self.memberitems.append(data)\n",
    "         \n",
    "    #using pop() for popping an last item \n",
    "    def pop(self):\n",
    "        return self.memberitems.pop()\n",
    "\n",
    "    def countOfStack(self):\n",
    "        return len(self.memberitems)\n",
    "     \n",
    "    #use return if self.objname is empty to check if list is empty\n",
    "    def isEmpty(self):\n",
    "        return (self.memberitems == [])\n",
    "            \n",
    "    def __str__(self):\n",
    "        return str(self.memberitems)\n",
    "     \n",
    " \n",
    "if __name__ == \"__main__\":\n",
    "    proc_stk = Stack()\n",
    "\n",
    "if proc_stk.isEmpty() is True:\n",
    "    print(\"stack is empty\")\n",
    "    i=0\n",
    "    while i < 5:    \n",
    "        proc_stk.push(random.randint(0,20))\n",
    "#       print(\"id of member is\",id(proc_stk(i)))\n",
    "        i +=1\n",
    "\n",
    "print (\"the stack data is\",proc_stk)\n",
    "print(\"the stack id is\",id(proc_stk))\n",
    "   \n",
    "proc_stk.pop()\n",
    "print(\"stack count is\",proc_stk.countOfStack())\n",
    "\n",
    "    \n"
   ]
  },
  {
   "cell_type": "markdown",
   "metadata": {},
   "source": [
    "### 6.3.2 串列應用於資料結構快速排序(quicksort)"
   ]
  },
  {
   "cell_type": "code",
   "execution_count": null,
   "metadata": {
    "collapsed": true
   },
   "outputs": [],
   "source": [
    "# %load ch6/qsort_datastructure.py\n",
    "#filename:qsort_datastruture.py(in chap6)\n",
    "#function: quick sort Data structure using Python , the algorithim is very importanta \n",
    "\n",
    "\n",
    "import random\n",
    "from random import randrange\n",
    "\n",
    "listdata=[]\n",
    "elements = []\n",
    "\n",
    "def quicksortele(list1):\n",
    "    if list1 == []:\n",
    "        return []\n",
    "    else:\n",
    "        pivot = list1[0]\n",
    "        lesss = quicksortele([x for x in list1[1:] if x < pivot])\n",
    "        greats = quicksortele([x for x in list1[1:] if x >= pivot])\n",
    "        return lesss + [pivot] + greats\n",
    "    \n",
    "def qsort_list_comprehension(listdata):\n",
    "    if len(listdata) <= 1:\n",
    "        return listdata                                                                                     \n",
    "    pivot = listdata[0]\n",
    "    restlist = listdata[1:]\n",
    "    smaller = [n for n in restlist if n <= pivot]\n",
    "    larger = [n for n in restlist if n > pivot]\n",
    "    return qsort_list_comprehension(smaller) + [pivot] +qsort_list_comprehension(larger)\n",
    "\n",
    "import time\n",
    "elements=[]\n",
    "i=0\n",
    "while i<10:\n",
    "    data=random.randint(0,20)\n",
    "    elements.append(data)\n",
    "    i+=1\n",
    "start = time.clock()\n",
    "print(\"before quicksortele\",elements)\n",
    "elements=quicksortele(elements)\n",
    "print(\"after quicksortele\",elements)\n",
    "print(elements)\n",
    "stop = time.clock()\n",
    "print(\"compute time is\", stop-start)\n",
    "compute=stop-start\n",
    "\n",
    "elements1=[]\n",
    "i=0\n",
    "while i<10:\n",
    "    data=random.randint(0,20)\n",
    "    elements1.append(data)\n",
    "    i+=1\n",
    "start = time.clock()\n",
    "print(\"\\nbefore quicksort\",elements1)\n",
    "elements=qsort_list_comprehension(elements1)\n",
    "print(\"after quicksort\",elements1)\n",
    "print(elements1)\n",
    "stop = time.clock()\n",
    "compute_list=stop-start\n",
    "print(\"compute time is using list comprehension:\", stop-start)\n",
    "print(\"\\nthe speed difference is  percent\",(compute-compute_list)/compute*100)\n",
    "\n",
    " \n"
   ]
  },
  {
   "cell_type": "code",
   "execution_count": null,
   "metadata": {
    "collapsed": true
   },
   "outputs": [],
   "source": []
  },
  {
   "cell_type": "markdown",
   "metadata": {},
   "source": [
    "### 6.3.3 串列應用於資料結構連結串列(linked list)"
   ]
  },
  {
   "cell_type": "code",
   "execution_count": null,
   "metadata": {
    "collapsed": true
   },
   "outputs": [],
   "source": [
    "# %load ch6/single_link.py\n",
    "#filename:single_link.py\n",
    "#function: single linked list\n",
    "\n",
    "class Node(object):\n",
    "    def __init__(self, data, next):\n",
    "        self.data = data\n",
    "        self.next = next\n",
    "     \n",
    "    #method for setting the data field of the node    \n",
    "    def setData(self,data):\n",
    "        self.data = data\n",
    "      \n",
    "    #method for getting the data field of the node   \n",
    "    def getData(self):\n",
    "        return self.data\n",
    "     \n",
    "    #method for setting the next field of the node\n",
    "    def setNext(self,next):\n",
    "        self.next = next\n",
    "     \n",
    "    #method for getting the next field of the node    \n",
    "    def getNext(self):\n",
    "        return self.next\n",
    " \n",
    "class SingleList(object):\n",
    " \n",
    "    head = None\n",
    "    tail = None\n",
    " \n",
    "    def showll(self):\n",
    "        print (\"Showing list data of linkedl:\")\n",
    "        current_node = self.head\n",
    "        while current_node is not None:\n",
    "            print (current_node.data, \" -> \",end=\" \")\n",
    "            current_node = current_node.next\n",
    "        print (\"The end list is Nil \",None)\n",
    " \n",
    "    def append(self, data):\n",
    "        node = Node(data, None)\n",
    "        print(\"Data is \",data)\n",
    "        if self.head is None:\n",
    "            print(\"The 1st node\")\n",
    "            self.head = self.tail = node\n",
    "        else:\n",
    "            print(\"Not the 1st node\")\n",
    "            self.tail.next = node\n",
    "        self.tail = node\n",
    " \n",
    "    def remove(self, node_value):\n",
    "        current_node = self.head\n",
    "        previous_node = None\n",
    "        while current_node is not None:\n",
    "            if current_node.data == node_value:\n",
    "                # if this is the first node (head)\n",
    "                if previous_node is not None:\n",
    "                    previous_node.next = current_node.next\n",
    "                else:\n",
    "                    self.head = current_node.next\n",
    " \n",
    "            # needed for the next iteration\n",
    "            previous_node = current_node\n",
    "            current_node = current_node.next\n",
    " \n",
    " \n",
    "linkedl = SingleList()\n",
    "linkedl.append(10)\n",
    "linkedl.append(20)\n",
    "linkedl.append(30)\n",
    "linkedl.showll()\n",
    "\n",
    "linkedl.remove(30)\n",
    "linkedl.remove(20)\n",
    "linkedl.remove(2)\n",
    "linkedl.showll()\n"
   ]
  },
  {
   "cell_type": "code",
   "execution_count": null,
   "metadata": {
    "collapsed": true
   },
   "outputs": [],
   "source": []
  },
  {
   "cell_type": "markdown",
   "metadata": {},
   "source": [
    "### 6.3.4 串列應用於資料結構佇列(Queue)"
   ]
  },
  {
   "cell_type": "code",
   "execution_count": null,
   "metadata": {
    "collapsed": true
   },
   "outputs": [],
   "source": [
    "# %load ch6/Queue_good.py\n",
    "#filename:Queue_good.py\n",
    "class Node(object):\n",
    "  def __init__(self, item = None):\n",
    "    self.item = item\n",
    "    self.next = None\n",
    "    self.previous = None\n",
    "\n",
    "\n",
    "class Queue(object):\n",
    "#creates an empty FIFO queue    \n",
    "  def __init__(self):\n",
    "    \n",
    "    self.length = 0\n",
    "    self.head = None\n",
    "    self.tail = None\n",
    "\n",
    "#adds item at back of queue\n",
    "  def enqueue(self, item):\n",
    "    newNode = Node(item)\n",
    "    newNode.next = None\n",
    "    if self.head == None:\n",
    "      self.head = newNode\n",
    "      self.tail = newNode\n",
    "    else:\n",
    "      self.tail.next = newNode\n",
    "      newNode.previous = self.tail\n",
    "      self.tail = newNode\n",
    "      \n",
    "    self.length += 1\n",
    "#    print(\"len=\", self.length)\n",
    "\n",
    "#if self.size() > 0\n",
    "#removes returns the front item  \n",
    "  def dequeue (self):\n",
    "     if self.size()>0:\n",
    "        item = self.head.item\n",
    "        self.head = self.head.next \n",
    "        self.length = self.length - 1\n",
    "        if self.length == 0:\n",
    "          self.last = None\n",
    "        return item\n",
    "\n",
    "#if self.size() > 0 returns first item    \n",
    "  def front(self):\n",
    "    \n",
    "    return item[0]\n",
    "\n",
    "#returns the count of itemes in queue\n",
    "  def size(self):\n",
    "    return self.length\n",
    "    \n",
    "\n",
    "q=Queue()\n",
    "q.enqueue('a') \n",
    "q.enqueue('b') \n",
    "q.enqueue('c')\n",
    "print (q.size())\n",
    "print (q.dequeue())\n",
    "q.enqueue('d') \n",
    "print (q.dequeue())\n",
    "print (q.dequeue()) \n",
    "print (q.dequeue()) \n",
    "print (q.dequeue())\n",
    "\n",
    "\n",
    "\n"
   ]
  },
  {
   "cell_type": "code",
   "execution_count": null,
   "metadata": {
    "collapsed": true
   },
   "outputs": [],
   "source": []
  },
  {
   "cell_type": "markdown",
   "metadata": {},
   "source": [
    "### 6.3.4 串列應用於資料結構佇列(Queue)"
   ]
  },
  {
   "cell_type": "code",
   "execution_count": null,
   "metadata": {
    "collapsed": true
   },
   "outputs": [],
   "source": [
    "# %load ch6/ch6_bs_sorted.py\n",
    "#filename:ch6_bs_sorted.py\n",
    "#function: binary search after the listis sorted\n",
    "# Python3.x.x version .codes\n",
    "#1: create a list\n",
    "#2: sort the list\n",
    "#3: binary search algorithm based on the Book description Step1,2,3\n",
    " \n",
    "import random\n",
    " \n",
    "pivot = 8                    # number to search for\n",
    "size = 10                   # size of random array\n",
    "elements=[]\n",
    "\n",
    "#generate the random list, 1. Create a list\n",
    "i=0\n",
    "while i<size:\n",
    "    data=random.randint(0,30)\n",
    "    elements.append(data)\n",
    "    i+=1\n",
    "    \n",
    "#sort the elements, 2. Sort the list\n",
    "elements = sorted(elements)\n",
    "print(pivot, elements)      # The data has been sorted , and the Key we want\n",
    " \n",
    "# Binary Search for number in array based on the step1,2,3 in the Book\n",
    "def binary_search(key, listing, low, hi):\n",
    "    if hi < low: return -1       # not found and  more numbers\n",
    "    mid = (low + hi) // 2        # Rmid is the midpoint of list\n",
    "    if key == listing[mid]:\n",
    "        return mid               # Key is found here\n",
    "    elif key < listing[mid]:\n",
    "        return binary_search(key, listing, low, mid - 1)   # try left of list\n",
    "    else:\n",
    "        return binary_search(key, listing, mid + 1, hi)    # try Rigth of list\n",
    " \n",
    "def searching(sentiel, array):     # searching the Key (Sentiel)\n",
    "    return binary_search(sentiel, array, 0, len(array) - 1)\n",
    "\n",
    "#search the pivot Key using the binary search,\n",
    "#the pivot is generated using randomint\n",
    "\n",
    "global pivot\n",
    "pivot =random.randint(0,30)\n",
    "print(\"the Pivot we want to search is  \",pivot)\n",
    "RmIndex = searching(pivot, elements)\n",
    "if RmIndex < 0:\n",
    "    print(\"not found the data\")\n",
    "else:\n",
    "    print(\"Data is found at index\", RmIndex)\n"
   ]
  },
  {
   "cell_type": "markdown",
   "metadata": {},
   "source": [
    "### Exercises"
   ]
  },
  {
   "cell_type": "code",
   "execution_count": null,
   "metadata": {
    "collapsed": true
   },
   "outputs": [],
   "source": [
    "# %load ch6/exam6-1.py\n",
    "#filename:ex6-1-ls-bs.py\n",
    "#funcion : test the linear search and binary search performance\n",
    "\n",
    "import random\n",
    "import sys\n",
    "\n",
    "#the following code is for reference\n",
    "listing=[]\n",
    "size=16\n",
    "i=0\n",
    "while i<size:\n",
    "    data=random.randint(0,20)\n",
    "    listing.append(data)\n",
    "    i+=1\n",
    "print(listing)\n",
    "#listing1 = sorted(listing)\n",
    "    \n",
    "def linear_search(item):\n",
    "    \n",
    "    listing = [4,8,45,24,18,32,9,46,3,23,29]\n",
    "    searchPass = 0\n",
    "\n",
    "    for Km in listing:\n",
    "        searchPass += 1\n",
    "        if Km == item:\n",
    "              print ('Pass counts using linear search is ',searchPass)\n",
    "              return\n",
    "\n",
    "    print (str(item),'not found the search item')\n",
    "\n",
    "linear_search(9)\n",
    "\n",
    "\n",
    "#binary search after the Data is sorted\n",
    "#the time complexity of binary search is as follows (my see my BCC book)\n",
    "#best case:o(1)\n",
    "#worst case: o(log2(N))\n",
    "\"\"\"\n",
    "To determine how many Pass are examined in a list of size n\n",
    "\"\"\"\n",
    "def bisearch(item):\n",
    "     listing1 = [3,4,8,9,18,23,24,29,32,45,46]\n",
    "     print(listing1)\n",
    "     \n",
    "     \n",
    "     searchPass = 0\n",
    "     low = 0\n",
    "     high = len(listing1)-1\n",
    "     mid = int((high + low)/2)\n",
    "     searchPass += 1 # already divided list in half at this time\n",
    "     while listing1[mid] != item:\n",
    "         if  listing1[mid] < item:\n",
    "             low = mid + 1\n",
    "         else:\n",
    "             high = mid\n",
    "         mid =int( (high + low)/2)\n",
    "         searchPass += 1 \n",
    "     print ('Pass counts using Binary search is ',str(searchPass))\n",
    "\n",
    "print(\"Binary search\")\n",
    "bisearch(9)\n",
    "\n",
    "#program output\n",
    "#[17, 20, 9, 4, 12, 7, 0, 9, 10, 6, 2, 16, 9, 4, 2, 17]\n",
    "#Pass counts using linear search is  3\n",
    "#Binary search\n",
    "#[0, 2, 2, 4, 4, 6, 7, 9, 9, 9, 10, 12, 16, 17, 17, 20]\n",
    "#Pass counts using Binary search is  1\n"
   ]
  },
  {
   "cell_type": "code",
   "execution_count": null,
   "metadata": {
    "collapsed": true
   },
   "outputs": [],
   "source": [
    "# %load ch6/exam6-3.py\n",
    "#filename:ex6-3.py\n",
    "#funcion: annual party game\n",
    "\n",
    "listresult = []\n",
    "for basis in [10,30,50]:\n",
    " for times in [2,3]:\n",
    "  listresult.append(basis*times)\n",
    "\n",
    "print(listresult)\n",
    "\n",
    "\n",
    "listresult=[]\n",
    "listresult=[basis*times for basis in [10,30,50] for times in [2,3]]\n",
    "print(listresult)\n",
    "\n",
    "\n",
    "            \n"
   ]
  },
  {
   "cell_type": "code",
   "execution_count": null,
   "metadata": {
    "collapsed": true
   },
   "outputs": [],
   "source": []
  }
 ],
 "metadata": {
  "kernelspec": {
   "display_name": "Python 3",
   "language": "python",
   "name": "python3"
  },
  "language_info": {
   "codemirror_mode": {
    "name": "ipython",
    "version": 3
   },
   "file_extension": ".py",
   "mimetype": "text/x-python",
   "name": "python",
   "nbconvert_exporter": "python",
   "pygments_lexer": "ipython3",
   "version": "3.6.3"
  }
 },
 "nbformat": 4,
 "nbformat_minor": 2
}
