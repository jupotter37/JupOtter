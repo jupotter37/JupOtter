{
  "nbformat": 4,
  "nbformat_minor": 0,
  "metadata": {
    "colab": {
      "provenance": [],
      "authorship_tag": "ABX9TyNZzEt2hb22j5XxpYsDybjf",
      "include_colab_link": true
    },
    "kernelspec": {
      "name": "python3",
      "display_name": "Python 3"
    },
    "language_info": {
      "name": "python"
    }
  },
  "cells": [
    {
      "cell_type": "markdown",
      "metadata": {
        "id": "view-in-github",
        "colab_type": "text"
      },
      "source": [
        "<a href=\"https://colab.research.google.com/github/Thrishankkuntimaddi/Data-Structures-and-Algorithms-Basics-/blob/main/16%20-%20Deque.ipynb\" target=\"_parent\"><img src=\"https://colab.research.google.com/assets/colab-badge.svg\" alt=\"Open In Colab\"/></a>"
      ]
    },
    {
      "cell_type": "markdown",
      "source": [
        "# Deque\n",
        "\n",
        "At both the ends we can insert & delete elements\n",
        "\n",
        "- InsertFront()\n",
        "\n",
        "- DeleteFront()\n",
        "\n",
        "- InsertRear()\n",
        "\n",
        "- DeleteRear()\n",
        "\n",
        "- getFront()\n",
        "\n",
        "- getRear()\n",
        "\n",
        "- isFull()\n",
        "\n",
        "- isEmpty()\n",
        "\n",
        "- size()\n",
        "\n",
        "\n",
        "# Applications\n",
        "\n",
        "1. A Deque can be used as both stack and queue\n",
        "\n",
        "2. Maintaining History of actions\n",
        "\n",
        "3. A steal process Scheduling Algorithms\n",
        "\n",
        "4. Implementing a Priority Queue with two types of priorities\n",
        "\n",
        "5. Maximum/Minimum of all sub arrays of size k in an array\n",
        "\n"
      ],
      "metadata": {
        "id": "VhAHz1xR7nGC"
      }
    },
    {
      "cell_type": "code",
      "execution_count": null,
      "metadata": {
        "colab": {
          "base_uri": "https://localhost:8080/"
        },
        "id": "FJ-ynbhp7jWZ",
        "outputId": "8a30a929-8b71-4d55-b4db-4f72fff43e4f"
      },
      "outputs": [
        {
          "output_type": "stream",
          "name": "stdout",
          "text": [
            "deque([10, 20, 30])\n",
            "deque([100, 10, 20, 30])\n",
            "deque([100, 10, 20])\n",
            "deque([10, 20])\n"
          ]
        }
      ],
      "source": [
        "# Deque : Doubly ended Queue\n",
        "\n",
        "from collections import deque\n",
        "\n",
        "d = deque()\n",
        "d.append(10)\n",
        "d.append(20)\n",
        "d.append(30)\n",
        "\n",
        "print(d)              # [10, 20, 30]\n",
        "\n",
        "d.appendleft(100)\n",
        "print(d)              # [100, 10, 20, 30]\n",
        "\n",
        "d.pop()\n",
        "print(d)              # [100, 10, 20]\n",
        "\n",
        "d.popleft()\n",
        "print(d)              # [10, 20]"
      ]
    },
    {
      "cell_type": "code",
      "source": [
        "d = deque([10, 20, 30, 40])\n",
        "d.insert(2, 15)\n",
        "print(d)              # [10, 20, 15, 30, 40]\n",
        "\n",
        "print(d.count(10))    # 1\n",
        "\n",
        "d.remove(10)\n",
        "print(d)              # [20, 15, 30, 40]\n",
        "\n",
        "d.extend([50, 60])\n",
        "print(d)              # [20, 15, 30, 40, 50, 60]\n",
        "\n",
        "d.extendleft([10, 20])\n",
        "print(d)              # [20, 10, 20, 15, 30, 40, 50, 60]\n",
        "\n",
        "d.reverse()\n",
        "print(d)              # [60, 50, 40, 30, 15, 20, 10, 20]"
      ],
      "metadata": {
        "colab": {
          "base_uri": "https://localhost:8080/"
        },
        "id": "p3wnJh_I9l4s",
        "outputId": "ffd3f1a3-78fe-483f-add4-795cc1210217"
      },
      "execution_count": null,
      "outputs": [
        {
          "output_type": "stream",
          "name": "stdout",
          "text": [
            "deque([10, 20, 15, 30, 40])\n",
            "1\n",
            "deque([20, 15, 30, 40])\n",
            "deque([20, 15, 30, 40, 50, 60])\n",
            "deque([20, 10, 20, 15, 30, 40, 50, 60])\n",
            "deque([60, 50, 40, 30, 15, 20, 10, 20])\n"
          ]
        }
      ]
    },
    {
      "cell_type": "code",
      "source": [
        "from collections import deque\n",
        "\n",
        "d = deque([10, 20, 30, 40, 50])\n",
        "d.rotate(2)\n",
        "print(d)              # [40, 50, 10, 20, 30]\n",
        "\n",
        "d.rotate(-2)\n",
        "print(d)              # [10, 20, 30, 40, 50]\n",
        "\n",
        "print(d[2])           # 30\n",
        "d[2] = 100\n",
        "print(d)              # [10, 20, 100, 40, 50]\n",
        "\n",
        "print(d[0])           # 10\n",
        "print(d[-1])          # 50"
      ],
      "metadata": {
        "colab": {
          "base_uri": "https://localhost:8080/"
        },
        "id": "ZnEIsT0D99dN",
        "outputId": "64650c10-5b6e-481e-e62e-23ae9c717189"
      },
      "execution_count": null,
      "outputs": [
        {
          "output_type": "stream",
          "name": "stdout",
          "text": [
            "deque([40, 50, 10, 20, 30])\n",
            "deque([10, 20, 30, 40, 50])\n",
            "30\n",
            "deque([10, 20, 100, 40, 50])\n",
            "10\n",
            "50\n"
          ]
        }
      ]
    },
    {
      "cell_type": "markdown",
      "source": [
        "# Time Complexities & Internal Working\n",
        "\n",
        "O(1) :\n",
        "\n",
        "- append(x)\n",
        "\n",
        "- appendleft(x)\n",
        "\n",
        "- pop()\n",
        "\n",
        "- popleft()\n",
        "\n",
        "O(n) :\n",
        "\n",
        "- d[i]\n",
        "\n",
        "- count(x)\n",
        "\n",
        "- insert(i, x)\n",
        "\n",
        "θ(abs(r)) :\n",
        "\n",
        "- rotate(x)\n",
        "\n",
        "O(len(l)) :\n",
        "\n",
        "- extend(l)\n",
        "\n",
        "- extendleft(l)"
      ],
      "metadata": {
        "id": "-Yy2srx--yCA"
      }
    },
    {
      "cell_type": "markdown",
      "source": [
        "# Linked List Implementation\n",
        "\n",
        "\n",
        "### In O(1) Time :\n",
        "- insertFront()\n",
        "\n",
        "- insertRear()\n",
        "\n",
        "- deleteFront()\n",
        "\n",
        "- deleteRear()\n",
        "\n",
        "- getFront()\n",
        "\n",
        "- getRear()\n",
        "\n",
        "- isEmpty()\n",
        "\n",
        "- size()\n",
        "\n",
        "### Doubly Linked List is the best way to achieve ###"
      ],
      "metadata": {
        "id": "9QKe88lJBAVP"
      }
    },
    {
      "cell_type": "code",
      "source": [
        "class Node:\n",
        "  def __init__(self, k):\n",
        "    self.key = k\n",
        "    self.prev = None\n",
        "    self.next = None\n",
        "\n",
        "class Deque:\n",
        "  def __init__(self):\n",
        "    self.head = None\n",
        "    self.rear = None\n",
        "    self.size = 0\n",
        "\n",
        "  def sizes(self):\n",
        "    return self.size\n",
        "\n",
        "  def isEmpty(self):\n",
        "    return self.size == 0\n",
        "\n",
        "  def insertRear(self, x):\n",
        "    temp = Node(x)\n",
        "    if self.isEmpty():\n",
        "      self.head = temp\n",
        "      self.rear = temp\n",
        "    else:\n",
        "      self.rear.next = temp\n",
        "      temp.prev = self.rear\n",
        "      self.rear = temp\n",
        "    self.size += 1\n",
        "\n",
        "  def insertFront(self, temp):\n",
        "    temp = Node(temp)\n",
        "    if self.isEmpty():\n",
        "      self.head = temp\n",
        "      self.rear = temp\n",
        "    else:\n",
        "      self.head.prev = temp\n",
        "      temp.next = self.head\n",
        "      self.head = temp\n",
        "    self.size += 1\n",
        "\n",
        "  def deleteFront(self):\n",
        "    if self.isEmpty():\n",
        "      return\n",
        "    self.head = self.head.next\n",
        "    self.head.prev = None\n",
        "    self.size -= 1\n",
        "\n",
        "  def deleteRear(self):\n",
        "    if self.isEmpty():\n",
        "      return\n",
        "    self.rear = self.rear.prev\n",
        "    self.rear.next = None\n",
        "    self.size -= 1\n",
        "\n",
        "  def getFront(self):\n",
        "    if self.isEmpty():\n",
        "      return\n",
        "    return self.head.key\n",
        "\n",
        "  def getRear(self):\n",
        "    if self.isEmpty():\n",
        "      return\n",
        "    return self.rear.key\n",
        "\n",
        "  def display(self):\n",
        "    temp = self.head\n",
        "    while temp:\n",
        "      print(temp.key, end = \" \")\n",
        "      temp = temp.next\n",
        "    print()\n",
        "\n",
        "s = Deque()\n",
        "s.insertRear(10)\n",
        "s.insertRear(20)\n",
        "s.insertRear(30)\n",
        "\n",
        "print(s.getFront())\n",
        "print(s.getRear())\n",
        "\n",
        "s.deleteFront()\n",
        "\n",
        "print(s.getFront())\n",
        "print(s.getRear())\n",
        "\n",
        "s.deleteRear()\n",
        "\n",
        "print(s.getFront())\n",
        "print(s.getRear())\n",
        "print(s.sizes())\n",
        "print(s.isEmpty())\n",
        "\n",
        "s.insertFront(100)\n",
        "s.insertFront(1000)\n",
        "\n",
        "s.display()"
      ],
      "metadata": {
        "colab": {
          "base_uri": "https://localhost:8080/"
        },
        "id": "0W0hEzkg-kCq",
        "outputId": "482e9d3f-c3eb-46e6-d1a0-3787df8d3c35"
      },
      "execution_count": null,
      "outputs": [
        {
          "output_type": "stream",
          "name": "stdout",
          "text": [
            "10\n",
            "30\n",
            "20\n",
            "30\n",
            "20\n",
            "20\n",
            "1\n",
            "False\n",
            "1000 100 20 \n"
          ]
        }
      ]
    },
    {
      "cell_type": "markdown",
      "source": [
        "# List Implementation for all Operations"
      ],
      "metadata": {
        "id": "ZaBr6ELcBRow"
      }
    },
    {
      "cell_type": "code",
      "source": [
        "class myDeque:\n",
        "    def __init__(self, c):\n",
        "        self.items = [None] * c\n",
        "        self.front = -1  # Use -1 to represent an empty deque\n",
        "        self.rear = -1\n",
        "        self.capacity = c\n",
        "\n",
        "    def insertFront(self, x):\n",
        "        if self.isFull():\n",
        "            print(\"Deque is full\")\n",
        "            return\n",
        "        elif self.isEmpty():\n",
        "            self.front = self.rear = 0\n",
        "        elif self.front == 0:\n",
        "            self.front = self.capacity - 1\n",
        "        else:\n",
        "            self.front -= 1\n",
        "        self.items[self.front] = x\n",
        "\n",
        "    def insertRear(self, x):\n",
        "        if self.isFull():\n",
        "            print(\"Deque is full\")\n",
        "            return\n",
        "        elif self.isEmpty():\n",
        "            self.front = self.rear = 0\n",
        "        elif self.rear == self.capacity - 1:\n",
        "            self.rear = 0\n",
        "        else:\n",
        "            self.rear += 1\n",
        "        self.items[self.rear] = x\n",
        "\n",
        "    def deleteFront(self):\n",
        "        if self.isEmpty():\n",
        "            print(\"Deque is empty\")\n",
        "            return\n",
        "        elif self.front == self.rear:\n",
        "            self.front = self.rear = -1  # Reset deque to empty state\n",
        "        elif self.front == self.capacity - 1:\n",
        "            self.front = 0\n",
        "        else:\n",
        "            self.front += 1\n",
        "\n",
        "    def deleteRear(self):\n",
        "        if self.isEmpty():\n",
        "            print(\"Deque is empty\")\n",
        "            return\n",
        "        elif self.front == self.rear:\n",
        "            self.front = self.rear = -1  # Reset deque to empty state\n",
        "        elif self.rear == 0:\n",
        "            self.rear = self.capacity - 1\n",
        "        else:\n",
        "            self.rear -= 1\n",
        "\n",
        "    def getFront(self):\n",
        "        if self.isEmpty():\n",
        "            print(\"Deque is empty\")\n",
        "            return None\n",
        "        return self.items[self.front]\n",
        "\n",
        "    def getRear(self):\n",
        "        if self.isEmpty():\n",
        "            print(\"Deque is empty\")\n",
        "            return None\n",
        "        return self.items[self.rear]\n",
        "\n",
        "    def isEmpty(self):\n",
        "        return self.front == -1\n",
        "\n",
        "    def isFull(self):\n",
        "        return (self.front == 0 and self.rear == self.capacity - 1) or (self.rear + 1 == self.front)\n",
        "\n",
        "    def display(self):\n",
        "        if self.isEmpty():\n",
        "            print(\"Deque is empty\")\n",
        "            return\n",
        "        if self.front <= self.rear:\n",
        "            for i in range(self.front, self.rear + 1):\n",
        "                print(self.items[i], end=\" \")\n",
        "        else:\n",
        "            for i in range(self.front, self.capacity):\n",
        "                print(self.items[i], end=\" \")\n",
        "            for i in range(0, self.rear + 1):\n",
        "                print(self.items[i], end=\" \")\n",
        "        print()\n",
        "\n",
        "# Testing the myDeque class\n",
        "s = myDeque(5)\n",
        "s.insertFront(10)\n",
        "s.insertFront(20)\n",
        "s.insertFront(30)\n",
        "\n",
        "s.insertRear(40)\n",
        "s.insertRear(50)\n",
        "\n",
        "s.display()\n",
        "\n",
        "s.deleteFront()\n",
        "s.deleteRear()\n",
        "\n",
        "s.display()\n",
        "\n",
        "print(s.getFront())\n",
        "print(s.getRear())\n"
      ],
      "metadata": {
        "colab": {
          "base_uri": "https://localhost:8080/"
        },
        "id": "hH7xN20w__8-",
        "outputId": "9e23beb1-c022-4361-cf97-f7ebdc0921cf"
      },
      "execution_count": null,
      "outputs": [
        {
          "output_type": "stream",
          "name": "stdout",
          "text": [
            "30 20 10 40 50 \n",
            "20 10 40 \n",
            "20\n",
            "40\n"
          ]
        }
      ]
    },
    {
      "cell_type": "markdown",
      "source": [
        "# Uses\n",
        "\n",
        "-> Random Access\n",
        "\n",
        "-> Support all Operations\n",
        "\n",
        "-> cache Friendly\n",
        "\n",
        "-> O(1) Time"
      ],
      "metadata": {
        "id": "J5WLI9-KCMhZ"
      }
    },
    {
      "cell_type": "code",
      "source": [],
      "metadata": {
        "id": "iMIoZ2WqBxgW"
      },
      "execution_count": null,
      "outputs": []
    }
  ]
}