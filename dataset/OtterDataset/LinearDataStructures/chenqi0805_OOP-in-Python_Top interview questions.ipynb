{
 "cells": [
  {
   "cell_type": "markdown",
   "metadata": {},
   "source": [
    "## 13. Roman to Integer"
   ]
  },
  {
   "cell_type": "markdown",
   "metadata": {},
   "source": [
    "Given a roman numeral, convert it to an integer.\n",
    "\n",
    "Input is guaranteed to be within the range from 1 to 3999."
   ]
  },
  {
   "cell_type": "code",
   "execution_count": 1,
   "metadata": {
    "collapsed": true
   },
   "outputs": [],
   "source": [
    "class Solution(object):\n",
    "    def romanToInt(self, s):\n",
    "        \"\"\"\n",
    "        :type s: str\n",
    "        :rtype: int\n",
    "        \"\"\"\n",
    "        roman = {'M': 1000,'D': 500 ,'C': 100,'L': 50,'X': 10,'V': 5,'I': 1}\n",
    "        z = 0\n",
    "        for i in range(0, len(s) - 1):\n",
    "            if roman[s[i]] < roman[s[i+1]]:\n",
    "                z -= roman[s[i]]\n",
    "            else:\n",
    "                z += roman[s[i]]\n",
    "        return z + roman[s[-1]]"
   ]
  },
  {
   "cell_type": "code",
   "execution_count": 3,
   "metadata": {
    "collapsed": false
   },
   "outputs": [
    {
     "data": {
      "text/plain": [
       "14"
      ]
     },
     "execution_count": 3,
     "metadata": {},
     "output_type": "execute_result"
    }
   ],
   "source": [
    "o=Solution()\n",
    "o.romanToInt('VIX')"
   ]
  },
  {
   "cell_type": "markdown",
   "metadata": {},
   "source": [
    "## 14. Longest Common Prefix"
   ]
  },
  {
   "cell_type": "markdown",
   "metadata": {},
   "source": [
    "Write a function to find the longest common prefix string amongst an array of strings."
   ]
  },
  {
   "cell_type": "markdown",
   "metadata": {},
   "source": [
    "Solution: Examine a few examples\n",
    "\n",
    "List[str]=[extra, exact, extraordinary]: \"ex\"\n",
    "\n",
    "List[str]=[extra, exact, act, extraordinary]: \"\"\n",
    "\n",
    "We could first pick up the shortest string in the list. "
   ]
  },
  {
   "cell_type": "code",
   "execution_count": 21,
   "metadata": {
    "collapsed": true
   },
   "outputs": [],
   "source": [
    "class Solution(object):\n",
    "    def longestCommonPrefix(self, strs):\n",
    "        \"\"\"\n",
    "        :type strs: List[str]\n",
    "        :rtype: str\n",
    "        \"\"\"\n",
    "        n=len(strs)\n",
    "        if n==0: return ''\n",
    "        shortest_str=strs[0]\n",
    "        shortest_len=len(strs[0])\n",
    "        for i in xrange(1,n):\n",
    "            if len(strs[i])<len(shortest_str):\n",
    "                shortest_str=strs[i]\n",
    "                shortest_len=len(strs[i])\n",
    "        start=0\n",
    "        end=0\n",
    "        while end<shortest_len:\n",
    "            for i in xrange(n):\n",
    "                if strs[i][end]!=shortest_str[end]:\n",
    "                    return shortest_str[start:end]\n",
    "            end+=1\n",
    "                \n",
    "        return shortest_str[start:end]"
   ]
  },
  {
   "cell_type": "code",
   "execution_count": 22,
   "metadata": {
    "collapsed": false
   },
   "outputs": [
    {
     "data": {
      "text/plain": [
       "''"
      ]
     },
     "execution_count": 22,
     "metadata": {},
     "output_type": "execute_result"
    }
   ],
   "source": [
    "o=Solution()\n",
    "o.longestCommonPrefix([\"a\",\"b\"])"
   ]
  },
  {
   "cell_type": "markdown",
   "metadata": {},
   "source": [
    "## 17. Letter Combinations of a Phone Number"
   ]
  },
  {
   "cell_type": "markdown",
   "metadata": {},
   "source": [
    "Given a digit string, return all possible letter combinations that the number could represent.\n",
    "\n",
    "A mapping of digit to letters (just like on the telephone buttons) is given below.\n",
    "\n",
    "<img src=http://upload.wikimedia.org/wikipedia/commons/thumb/7/73/Telephone-keypad2.svg/200px-Telephone-keypad2.svg.png>\n",
    "\n",
    "Input:Digit string \"23\"\n",
    "\n",
    "Output: [\"ad\", \"ae\", \"af\", \"bd\", \"be\", \"bf\", \"cd\", \"ce\", \"cf\"].\n",
    "\n",
    "Note:\n",
    "\n",
    "Although the above answer is in lexicographical order, your answer could be in any order you want."
   ]
  },
  {
   "cell_type": "markdown",
   "metadata": {},
   "source": [
    "Solution: We could create a dictionary with the digital characters as the keys and the letters as the values. Then we use a queue data structure to construct the whole string list."
   ]
  },
  {
   "cell_type": "code",
   "execution_count": 30,
   "metadata": {
    "collapsed": true
   },
   "outputs": [],
   "source": [
    "class Solution(object):\n",
    "    def letterCombinations(self, digits):\n",
    "        \"\"\"\n",
    "        :type digits: str\n",
    "        :rtype: List[str]\n",
    "        \"\"\"\n",
    "        digit_letter={'0':'0','1':'1','2':'abc','3':'def','4':'ghi','5':'jkl','6':'mno','7':'pqrs','8':'tuv','9':'wxyz'}\n",
    "        n=len(digits)\n",
    "        if n==0:\n",
    "            return []\n",
    "        results=[digit_letter[digits[0]][i] for i in xrange(len(digit_letter[digits[0]]))]\n",
    "        for i in xrange(1,n):\n",
    "            results=[results[k]+digit_letter[digits[i]][j] for k in xrange(len(results)) \n",
    "                     for j in xrange(len(digit_letter[digits[i]]))]\n",
    "            \n",
    "        return results"
   ]
  },
  {
   "cell_type": "code",
   "execution_count": 31,
   "metadata": {
    "collapsed": false
   },
   "outputs": [
    {
     "data": {
      "text/plain": [
       "['ad', 'ae', 'af', 'bd', 'be', 'bf', 'cd', 'ce', 'cf']"
      ]
     },
     "execution_count": 31,
     "metadata": {},
     "output_type": "execute_result"
    }
   ],
   "source": [
    "o=Solution()\n",
    "o.letterCombinations('23')"
   ]
  },
  {
   "cell_type": "markdown",
   "metadata": {},
   "source": [
    "## 22. Generate Parentheses"
   ]
  },
  {
   "cell_type": "markdown",
   "metadata": {},
   "source": [
    "Given n pairs of parentheses, write a function to generate all combinations of well-formed parentheses.\n",
    "\n",
    "For example, given n = 3, a solution set is:\n",
    "\n",
    "[\n",
    "  \"((()))\",\n",
    "  \"(()())\",\n",
    "  \"(())()\",\n",
    "  \"()(())\",\n",
    "  \"()()()\"\n",
    "]\n"
   ]
  },
  {
   "cell_type": "markdown",
   "metadata": {},
   "source": [
    "Solution: \n",
    "\n",
    "1. DP solution:\n",
    "\n",
    "2. Recursive solution"
   ]
  },
  {
   "cell_type": "markdown",
   "metadata": {},
   "source": [
    "**DP solution**:\n",
    "\n",
    "f[0]=['']\n",
    "\n",
    "f[1]=(f[0])\n",
    "\n",
    "f[n]=(f[0])f[n-1]+(f[1])f[n-2]...+(f[n-1])f[0]\n",
    "\n",
    "This solution will use a lot of memory."
   ]
  },
  {
   "cell_type": "code",
   "execution_count": 56,
   "metadata": {
    "collapsed": true
   },
   "outputs": [],
   "source": [
    "class Solution(object):\n",
    "    def generateParenthesis(self, n):\n",
    "        \"\"\"\n",
    "        :type n: int\n",
    "        :rtype: List[str]\n",
    "        \"\"\"\n",
    "        results=[[] for i in xrange(n+1)]\n",
    "        results[0]=['']\n",
    "        for i in xrange(1,n+1):\n",
    "            for j in xrange(i):\n",
    "                for k in xrange(len(results[j])):\n",
    "                    for l in xrange(len(results[i-1-j])):\n",
    "                        results[i].append('('+results[j][k]+')'+results[i-1-j][l])\n",
    "        return results[-1]"
   ]
  },
  {
   "cell_type": "code",
   "execution_count": 57,
   "metadata": {
    "collapsed": false
   },
   "outputs": [
    {
     "data": {
      "text/plain": [
       "['()()()', '()(())', '(())()', '(()())', '((()))']"
      ]
     },
     "execution_count": 57,
     "metadata": {},
     "output_type": "execute_result"
    }
   ],
   "source": [
    "o=Solution()\n",
    "o.generateParenthesis(3)"
   ]
  },
  {
   "cell_type": "markdown",
   "metadata": {},
   "source": [
    "**Recursive solution**:"
   ]
  },
  {
   "cell_type": "code",
   "execution_count": 61,
   "metadata": {
    "collapsed": true
   },
   "outputs": [],
   "source": [
    "class Solution(object):\n",
    "    def generateParenthesis(self, n):\n",
    "        \"\"\"\n",
    "        :type n: int\n",
    "        :rtype: List[str]\n",
    "        \"\"\"\n",
    "        left=n\n",
    "        right=n\n",
    "        path=''\n",
    "        results=[]\n",
    "        self.helper(left,right,path,results)\n",
    "        \n",
    "        return results\n",
    "        \n",
    "    def helper(self, left, right, path, results):\n",
    "        \"\"\"\n",
    "        :type left, right: int\n",
    "        :type path: str\n",
    "        :type results: List[str]\n",
    "        \"\"\"\n",
    "        if left>0:\n",
    "            self.helper(left-1, right, path+'(', results)\n",
    "        if right>0 and left<right:\n",
    "            self.helper(left, right-1, path+')', results)\n",
    "        if right==0:\n",
    "            results.append(path)"
   ]
  },
  {
   "cell_type": "code",
   "execution_count": 63,
   "metadata": {
    "collapsed": false
   },
   "outputs": [
    {
     "data": {
      "text/plain": [
       "['((()))', '(()())', '(())()', '()(())', '()()()']"
      ]
     },
     "execution_count": 63,
     "metadata": {},
     "output_type": "execute_result"
    }
   ],
   "source": [
    "o=Solution()\n",
    "o.generateParenthesis(3)"
   ]
  },
  {
   "cell_type": "markdown",
   "metadata": {},
   "source": [
    "## 28. Implement strStr()"
   ]
  },
  {
   "cell_type": "markdown",
   "metadata": {},
   "source": [
    "Implement strStr().\n",
    "\n",
    "Returns the index of the first occurrence of needle in haystack, or -1 if needle is not part of haystack."
   ]
  },
  {
   "cell_type": "markdown",
   "metadata": {},
   "source": [
    "Solution: Brutal force solution"
   ]
  },
  {
   "cell_type": "code",
   "execution_count": 64,
   "metadata": {
    "collapsed": true
   },
   "outputs": [],
   "source": [
    "class Solution(object):\n",
    "    def strStr(self, haystack, needle):\n",
    "        \"\"\"\n",
    "        :type haystack: str\n",
    "        :type needle: str\n",
    "        :rtype: int\n",
    "        \"\"\"\n",
    "        for i in range(len(haystack) - len(needle)+1):\n",
    "            if haystack[i:i+len(needle)] == needle:\n",
    "                return i\n",
    "        return -1"
   ]
  },
  {
   "cell_type": "markdown",
   "metadata": {},
   "source": [
    "## <font color=red>127. Word Ladder(TLE: will improve by bidirectional BFS)"
   ]
  },
  {
   "cell_type": "markdown",
   "metadata": {},
   "source": [
    "Given two words (beginWord and endWord), and a dictionary's word list, find the length of shortest transformation sequence from beginWord to endWord, such that:\n",
    "\n",
    "1. Only one letter can be changed at a time.\n",
    "2. Each transformed word must exist in the word list. Note that beginWord is not a transformed word.\n",
    "\n",
    "For example,\n",
    "\n",
    "Given:\n",
    "\n",
    "beginWord = \"hit\"\n",
    "\n",
    "endWord = \"cog\"\n",
    "\n",
    "wordList = [\"hot\",\"dot\",\"dog\",\"lot\",\"log\",\"cog\"]\n",
    "\n",
    "As one shortest transformation is \"hit\" -> \"hot\" -> \"dot\" -> \"dog\" -> \"cog\", return its length 5.\n",
    "\n",
    "Note:\n",
    "\n",
    "* Return 0 if there is no such transformation sequence.\n",
    "* All words have the same length.\n",
    "* All words contain only lowercase alphabetic characters.\n",
    "* You may assume no duplicates in the word list.\n",
    "* You may assume beginWord and endWord are non-empty and are not the same.\n"
   ]
  },
  {
   "cell_type": "markdown",
   "metadata": {},
   "source": [
    "Solution: BFS for shortest path."
   ]
  },
  {
   "cell_type": "code",
   "execution_count": 78,
   "metadata": {
    "collapsed": true
   },
   "outputs": [],
   "source": [
    "import collections\n",
    "\n",
    "class Solution(object):\n",
    "    def ladderLength(self, beginWord, endWord, wordList):\n",
    "        \"\"\"\n",
    "        :type beginWord: str\n",
    "        :type endWord: str\n",
    "        :type wordList: List[str]\n",
    "        :rtype: int\n",
    "        \"\"\"\n",
    "        queue=collections.deque([beginWord])\n",
    "        used_words=[]\n",
    "        distances=collections.defaultdict(int)\n",
    "        while queue:\n",
    "            word=queue.popleft()\n",
    "            if word==endWord:\n",
    "                return distances[word]+1\n",
    "            for transformation in wordList:\n",
    "                if transformation not in used_words and self.num_diff_char(word,transformation)==1:\n",
    "                    distances[transformation]=distances[word]+1\n",
    "                    used_words.append(transformation)\n",
    "                    queue.append(transformation)\n",
    "                    \n",
    "        return 0\n",
    "            \n",
    "    def num_diff_char(self,a,b):\n",
    "        count=0\n",
    "        for i in xrange(len(a)):\n",
    "            if a[i]!=b[i]:\n",
    "                count+=1\n",
    "        return count"
   ]
  },
  {
   "cell_type": "code",
   "execution_count": 83,
   "metadata": {
    "collapsed": false
   },
   "outputs": [
    {
     "data": {
      "text/plain": [
       "0"
      ]
     },
     "execution_count": 83,
     "metadata": {},
     "output_type": "execute_result"
    }
   ],
   "source": [
    "o=Solution()\n",
    "beginWord=\"hit\"\n",
    "endWord=\"cog\"\n",
    "wordList=[\"hot\",\"sot\",\"dog\",\"lot\",\"log\",\"sog\"]\n",
    "o.ladderLength(beginWord,endWord,wordList)"
   ]
  },
  {
   "cell_type": "markdown",
   "metadata": {},
   "source": [
    "The above solution is TLE. We could try to use a hashtable for the wordList."
   ]
  },
  {
   "cell_type": "code",
   "execution_count": 90,
   "metadata": {
    "collapsed": true
   },
   "outputs": [],
   "source": [
    "import collections\n",
    "\n",
    "class Solution(object):\n",
    "    def ladderLength(self, beginWord, endWord, wordList):\n",
    "        \"\"\"\n",
    "        :type beginWord: str\n",
    "        :type endWord: str\n",
    "        :type wordList: List[str]\n",
    "        :rtype: int\n",
    "        \"\"\"\n",
    "        queue=collections.deque([beginWord])\n",
    "        wordDict=collections.defaultdict(bool)\n",
    "        for word in wordList:\n",
    "            wordDict[word]=True\n",
    "        distances=collections.defaultdict(int)\n",
    "        while queue:\n",
    "            word=queue.popleft()\n",
    "            if word==endWord:\n",
    "                return distances[word]+1\n",
    "            for transformation in wordDict.keys():\n",
    "                if wordDict[transformation] and self.num_diff_char(word,transformation)==1:\n",
    "                    distances[transformation]=distances[word]+1\n",
    "                    wordDict[transformation]=False\n",
    "                    queue.append(transformation)\n",
    "                    \n",
    "        return 0\n",
    "            \n",
    "    def num_diff_char(self,a,b):\n",
    "        count=0\n",
    "        for i in xrange(len(a)):\n",
    "            if a[i]!=b[i]:\n",
    "                count+=1\n",
    "        return count"
   ]
  },
  {
   "cell_type": "code",
   "execution_count": 91,
   "metadata": {
    "collapsed": false
   },
   "outputs": [
    {
     "data": {
      "text/plain": [
       "5"
      ]
     },
     "execution_count": 91,
     "metadata": {},
     "output_type": "execute_result"
    }
   ],
   "source": [
    "o=Solution()\n",
    "beginWord=\"hit\"\n",
    "endWord=\"cog\"\n",
    "wordList=[\"hot\",\"dot\",\"dog\",\"lot\",\"log\",\"cog\"]\n",
    "o.ladderLength(beginWord,endWord,wordList)"
   ]
  },
  {
   "cell_type": "markdown",
   "metadata": {},
   "source": [
    "Still TLE."
   ]
  },
  {
   "cell_type": "markdown",
   "metadata": {},
   "source": [
    "## 131. Palindrome Partitioning"
   ]
  },
  {
   "cell_type": "markdown",
   "metadata": {},
   "source": [
    "Given a string s, partition s such that every substring of the partition is a palindrome.\n",
    "\n",
    "Return all possible palindrome partitioning of s.\n",
    "\n",
    "For example, given s = \"aab\",\n",
    "Return\n",
    "\n",
    "[\n",
    "  [\"aa\",\"b\"],\n",
    "  [\"a\",\"a\",\"b\"]\n",
    "]\n"
   ]
  },
  {
   "cell_type": "markdown",
   "metadata": {},
   "source": [
    "Solution: Obviously, partitioning into single letters is a palindrome partitioning. Then we consider constructing other partitionings from the bottom level..."
   ]
  },
  {
   "cell_type": "markdown",
   "metadata": {},
   "source": [
    "There turns out to be a DP solution to this problem by considering all the valid palindrome substrings. We use dp[i][j] to record if the substring from i to j is palindrome. \n",
    "\n",
    "base case:\n",
    "\n",
    "dp[i][i]=True\n",
    "dp[i][i+1]=(s[i]==s[i+1])\n",
    "\n",
    "iteration:\n",
    "\n",
    "dp[i][j]=dp[i+1][j-1] and (s[i+1]==s[j-1])\n",
    "\n"
   ]
  },
  {
   "cell_type": "code",
   "execution_count": 121,
   "metadata": {
    "collapsed": true
   },
   "outputs": [],
   "source": [
    "class Solution(object):\n",
    "    def partition(self, s):\n",
    "        \"\"\"\n",
    "        :type s: str\n",
    "        :rtype: List[List[str]]\n",
    "        \"\"\"\n",
    "        # dp matrix\n",
    "        n=len(s)\n",
    "        if n<=1:\n",
    "            return [[s]]\n",
    "        dp=[[False]*n for i in xrange(n)]\n",
    "        for i in xrange(n):\n",
    "            for j in xrange(i+1):\n",
    "                if s[i]==s[j] and (i-j<=2 or dp[j+1][i-1]):\n",
    "                    dp[j][i]=True           \n",
    "        # dfs\n",
    "        path=[]\n",
    "        results=[]\n",
    "        start=0\n",
    "        self.dfs(s,start,path,results,dp,n)\n",
    "        \n",
    "        return results\n",
    "        \n",
    "    def dfs(self,s,start,path,results,dp,n):\n",
    "        \"\"\"\n",
    "        :type s: str\n",
    "        :type start: int\n",
    "        :type path: List[str]\n",
    "        :type results: List[List[str]]\n",
    "        :type dp: List[List[bool]]\n",
    "        :type n: int\n",
    "        \"\"\"\n",
    "        if start==n:\n",
    "            results.append(path)\n",
    "        for i in xrange(start,n):\n",
    "            if dp[start][i]:\n",
    "                self.dfs(s,i+1,path+[s[start:i+1]],results,dp,n)"
   ]
  },
  {
   "cell_type": "code",
   "execution_count": 122,
   "metadata": {
    "collapsed": false
   },
   "outputs": [
    {
     "data": {
      "text/plain": [
       "[['a', 'b', 'b', 'a', 'b'],\n",
       " ['a', 'b', 'bab'],\n",
       " ['a', 'bb', 'a', 'b'],\n",
       " ['abba', 'b']]"
      ]
     },
     "execution_count": 122,
     "metadata": {},
     "output_type": "execute_result"
    }
   ],
   "source": [
    "o=Solution()\n",
    "s = \"abbab\"\n",
    "o.partition(s)"
   ]
  },
  {
   "cell_type": "markdown",
   "metadata": {},
   "source": [
    "## <font color=red>138. Copy List with Random Pointer(not understand the problem)"
   ]
  },
  {
   "cell_type": "markdown",
   "metadata": {},
   "source": [
    "A linked list is given such that each node contains an additional random pointer which could point to any node in the list or null.\n",
    "\n",
    "Return a deep copy of the list."
   ]
  },
  {
   "cell_type": "markdown",
   "metadata": {},
   "source": [
    "Solution: "
   ]
  },
  {
   "cell_type": "code",
   "execution_count": null,
   "metadata": {
    "collapsed": true
   },
   "outputs": [],
   "source": [
    "# Definition for singly-linked list with a random pointer.\n",
    "# class RandomListNode(object):\n",
    "#     def __init__(self, x):\n",
    "#         self.label = x\n",
    "#         self.next = None\n",
    "#         self.random = None\n",
    "\n",
    "class Solution(object):\n",
    "    def copyRandomList(self, head):\n",
    "        \"\"\"\n",
    "        :type head: RandomListNode\n",
    "        :rtype: RandomListNode\n",
    "        \"\"\""
   ]
  },
  {
   "cell_type": "markdown",
   "metadata": {},
   "source": [
    "## 168. Excel Sheet Column Title"
   ]
  },
  {
   "cell_type": "markdown",
   "metadata": {},
   "source": [
    "Given a positive integer, return its corresponding column title as appear in an Excel sheet.\n",
    "\n",
    "For example:\n",
    "\n",
    "    1 -> A\n",
    "    2 -> B\n",
    "    3 -> C\n",
    "    ...\n",
    "    26 -> Z\n",
    "    27 -> AA\n",
    "    28 -> AB "
   ]
  },
  {
   "cell_type": "code",
   "execution_count": 155,
   "metadata": {
    "collapsed": true
   },
   "outputs": [],
   "source": [
    "class Solution:\n",
    "    # @return a string\n",
    "    def convertToTitle(self, num):\n",
    "        capitals = [chr(x) for x in range(ord('A'), ord('Z')+1)]\n",
    "        result = []\n",
    "        while num > 0:\n",
    "            result.append(capitals[(num-1)%26])\n",
    "            num = (num-1) // 26\n",
    "        result.reverse()\n",
    "        return ''.join(result)"
   ]
  },
  {
   "cell_type": "code",
   "execution_count": 156,
   "metadata": {
    "collapsed": false
   },
   "outputs": [
    {
     "data": {
      "text/plain": [
       "'BA'"
      ]
     },
     "execution_count": 156,
     "metadata": {},
     "output_type": "execute_result"
    }
   ],
   "source": [
    "o=Solution()\n",
    "o.convertToTitle(53)"
   ]
  },
  {
   "cell_type": "markdown",
   "metadata": {},
   "source": [
    "## 171. Excel Sheet Column Number"
   ]
  },
  {
   "cell_type": "markdown",
   "metadata": {},
   "source": [
    "Related to question Excel Sheet Column Title\n",
    "\n",
    "Given a column title as appear in an Excel sheet, return its corresponding column number.\n",
    "\n",
    "For example:\n",
    "\n",
    "    A -> 1\n",
    "    B -> 2\n",
    "    C -> 3\n",
    "    ...\n",
    "    Z -> 26\n",
    "    AA -> 27\n",
    "    AB -> 28 \n"
   ]
  },
  {
   "cell_type": "code",
   "execution_count": 124,
   "metadata": {
    "collapsed": true
   },
   "outputs": [],
   "source": [
    "class Solution(object):\n",
    "    def titleToNumber(self, s):\n",
    "        \"\"\"\n",
    "        :type s: str\n",
    "        :rtype: int\n",
    "        \"\"\"\n",
    "        n=len(s)\n",
    "        result=0\n",
    "        for i in xrange(n):\n",
    "            result=result*26+(ord(s[i])-ord('A')+1)\n",
    "        return result"
   ]
  },
  {
   "cell_type": "code",
   "execution_count": 128,
   "metadata": {
    "collapsed": false
   },
   "outputs": [
    {
     "data": {
      "text/plain": [
       "53"
      ]
     },
     "execution_count": 128,
     "metadata": {},
     "output_type": "execute_result"
    }
   ],
   "source": [
    "o=Solution()\n",
    "o.titleToNumber('BA')"
   ]
  },
  {
   "cell_type": "markdown",
   "metadata": {},
   "source": [
    "## 172. Factorial Trailing Zeroes"
   ]
  },
  {
   "cell_type": "markdown",
   "metadata": {},
   "source": [
    "Given an integer n, return the number of trailing zeroes in n!.\n",
    "\n",
    "Note: Your solution should be in logarithmic time complexity."
   ]
  },
  {
   "cell_type": "markdown",
   "metadata": {},
   "source": [
    "Solution: Let me examine some examples\n",
    "\n",
    "1!=1\n",
    "\n",
    "2!=2\n",
    "\n",
    "3!=6\n",
    "\n",
    "4!=24\n",
    "\n",
    "5!=120\n",
    "\n",
    "..."
   ]
  },
  {
   "cell_type": "markdown",
   "metadata": {},
   "source": [
    "**O(log n) solution**: 10 is the product of 2 and 5. In n!, we need to know how many 2 and 5, and the number of zeros is the minimum of the number of 2 and the number of 5.\n",
    "\n",
    "Since multiple of 2 is more than multiple of 5, the number of zeros is dominant by the number of 5.\n",
    "\n",
    "Here we expand\n",
    "\n",
    "  2147483647!\n",
    "=2 * 3 * ...* 5 ... *10 ... 15* ... * 25 ... * 50 ... * 125 ... * 250...\n",
    "=2 * 3 * ...* 5 ... * (5^1*2)...(5^1*3)...*(5^2*1)...*(5^2*2)...*(5^3*1)...*(5^3*2)... (Equation 1)\n",
    "\n",
    "We just count the number of 5 in Equation 1.\n",
    "\n",
    "Multiple of 5 provides one 5, multiple of 25 provides two 5 and so on.\n",
    "\n",
    "Note the duplication: multiple of 25 is also multiple of 5, so multiple of 25 only provides one extra 5.\n",
    "\n",
    "Here is the basic solution:\n",
    "\n",
    "return n/5 + n/25 + n/125 + n/625 + n/3125+...;\n",
    "\n",
    "You can easily rewrite it to a loop."
   ]
  },
  {
   "cell_type": "code",
   "execution_count": 157,
   "metadata": {
    "collapsed": true
   },
   "outputs": [],
   "source": [
    "class Solution(object):\n",
    "    def trailingZeroes(self, n):\n",
    "        \"\"\"\n",
    "        :type n: int\n",
    "        :rtype: int\n",
    "        \"\"\"\n",
    "        result=0\n",
    "        while n>0:\n",
    "            n=n/5\n",
    "            result+=n\n",
    "        return result"
   ]
  },
  {
   "cell_type": "code",
   "execution_count": 159,
   "metadata": {
    "collapsed": false
   },
   "outputs": [
    {
     "data": {
      "text/plain": [
       "3"
      ]
     },
     "execution_count": 159,
     "metadata": {},
     "output_type": "execute_result"
    }
   ],
   "source": [
    "o=Solution()\n",
    "o.trailingZeroes(15)"
   ]
  },
  {
   "cell_type": "markdown",
   "metadata": {},
   "source": [
    "## 179. Largest Number"
   ]
  },
  {
   "cell_type": "markdown",
   "metadata": {},
   "source": [
    "Given a list of non negative integers, arrange them such that they form the largest number.\n",
    "\n",
    "For example, given [3, 30, 34, 5, 9], the largest formed number is 9534330.\n",
    "\n",
    "Note: The result may be very large, so you need to return a string instead of an integer."
   ]
  },
  {
   "cell_type": "markdown",
   "metadata": {},
   "source": [
    "Solution: we need to figure out how to construct the comparator in used in sorting. Here are the rules\n",
    "\n",
    "1. same length, big number first\n",
    "2. different length: Example\n",
    "\n",
    "35632 356 -> 356+35632=35635632\n",
    "35636 356 -> 35636+356=35636356\n",
    "35732 356 -> 35732356\n",
    "35332 356 -> 35635332\n",
    "\n",
    "alternatively, we just need to compare s1+s2 and s2+s1"
   ]
  },
  {
   "cell_type": "code",
   "execution_count": 174,
   "metadata": {
    "collapsed": true
   },
   "outputs": [],
   "source": [
    "class Solution:\n",
    "    # @param {integer[]} nums\n",
    "    # @return {string}\n",
    "    def largestNumber(self, nums):\n",
    "        nums = [str(x) for x in nums]\n",
    "        nums.sort(cmp=lambda x, y: cmp(y+x, x+y))\n",
    "        return ''.join(nums).lstrip('0') or '0'"
   ]
  },
  {
   "cell_type": "code",
   "execution_count": 176,
   "metadata": {
    "collapsed": false
   },
   "outputs": [
    {
     "data": {
      "text/plain": [
       "''"
      ]
     },
     "execution_count": 176,
     "metadata": {},
     "output_type": "execute_result"
    }
   ],
   "source": [
    "nums=[]\n",
    "o=Solution()\n",
    "o.largestNumber(nums)"
   ]
  },
  {
   "cell_type": "markdown",
   "metadata": {},
   "source": [
    "Notice the corner case: ['0','0','0']"
   ]
  },
  {
   "cell_type": "markdown",
   "metadata": {},
   "source": [
    "## 230. Kth Smallest Element in a BST"
   ]
  },
  {
   "cell_type": "markdown",
   "metadata": {},
   "source": [
    "Given a binary search tree, write a function kthSmallest to find the kth smallest element in it.\n",
    "\n",
    "Note: \n",
    "\n",
    "You may assume k is always valid, 1 ≤ k ≤ BST's total elements.\n",
    "\n",
    "Follow up:\n",
    "\n",
    "What if the BST is modified (insert/delete operations) often and you need to find the kth smallest frequently? How would you optimize the kthSmallest routine?\n",
    "\n",
    "Hint:\n",
    "\n",
    "* Try to utilize the property of a BST.\n",
    "* What if you could modify the BST node's structure?\n",
    "* The optimal runtime complexity is O(height of BST)."
   ]
  },
  {
   "cell_type": "markdown",
   "metadata": {},
   "source": [
    "Solution: If we do a in order traversal, we can print the tree out in sorted order automatically. Then we just pick up the kth element in the printed list."
   ]
  },
  {
   "cell_type": "markdown",
   "metadata": {},
   "source": [
    "**In-order traversal**:"
   ]
  },
  {
   "cell_type": "code",
   "execution_count": null,
   "metadata": {
    "collapsed": true
   },
   "outputs": [],
   "source": [
    "# Definition for a binary tree node.\n",
    "# class TreeNode(object):\n",
    "#     def __init__(self, x):\n",
    "#         self.val = x\n",
    "#         self.left = None\n",
    "#         self.right = None\n",
    "\n",
    "class Solution(object):\n",
    "    def kthSmallest(self, root, k):\n",
    "        \"\"\"\n",
    "        :type root: TreeNode\n",
    "        :type k: int\n",
    "        :rtype: int\n",
    "        \"\"\"\n",
    "        nodes=[]\n",
    "        self.InOrder(root,nodes)\n",
    "        \n",
    "        return nodes[k-1].val\n",
    "        \n",
    "    def InOrder(self,root,nodes):\n",
    "        if root.left:\n",
    "            self.InOrder(root.left,nodes)\n",
    "        nodes.append(root)\n",
    "        if root.right:\n",
    "            self.InOrder(root.right,nodes)"
   ]
  },
  {
   "cell_type": "markdown",
   "metadata": {},
   "source": [
    "**In-order traversal(iterative)**: We could alternatively use a stack to complete in-order traversal:\n",
    "\n",
    "1. If a root has a left child, we push the root into the stack.\n",
    "2. We pop from the stack(the top node does not have a left child) and add the node to the list then we examine the right subtree."
   ]
  },
  {
   "cell_type": "code",
   "execution_count": 217,
   "metadata": {
    "collapsed": true
   },
   "outputs": [],
   "source": [
    "# Definition for a binary tree node.\n",
    "# class TreeNode(object):\n",
    "#     def __init__(self, x):\n",
    "#         self.val = x\n",
    "#         self.left = None\n",
    "#         self.right = None\n",
    "\n",
    "class Solution(object):\n",
    "    def kthSmallest(self, root, k):\n",
    "        \"\"\"\n",
    "        :type root: TreeNode\n",
    "        :type k: int\n",
    "        :rtype: int\n",
    "        \"\"\"\n",
    "        nodes=[]\n",
    "        stack=[]\n",
    "        while root:\n",
    "            stack.append(root)\n",
    "            root=root.left\n",
    "        while stack:\n",
    "            top=stack.pop()\n",
    "            nodes.append(top)\n",
    "            root=top.right\n",
    "            while root:\n",
    "                stack.append(root)\n",
    "                root=root.left\n",
    "        return nodes[k-1].val"
   ]
  },
  {
   "cell_type": "markdown",
   "metadata": {},
   "source": [
    "**Binary Search**: The idea is to count the nodes in the left subtree and see\n",
    "\n",
    "1. if k<=num_nodes_left: binary search in the left subtree\n",
    "2. if k==num_nodes_left+1: root.val\n",
    "3. if k>num_nodes_left+1: binary search in the right subtree"
   ]
  },
  {
   "cell_type": "code",
   "execution_count": 214,
   "metadata": {
    "collapsed": true
   },
   "outputs": [],
   "source": [
    "# Definition for a binary tree node.\n",
    "class TreeNode(object):\n",
    "    def __init__(self, x):\n",
    "        self.val = x\n",
    "        self.left = None\n",
    "        self.right = None\n",
    "\n",
    "class Solution(object):\n",
    "    def kthSmallest(self, root, k):\n",
    "        \"\"\"\n",
    "        :type root: TreeNode\n",
    "        :type k: int\n",
    "        :rtype: int\n",
    "        \"\"\"\n",
    "        if k<=self.countNode(root.left):\n",
    "            return self.kthSmallest(root.left,k)\n",
    "        elif k>self.countNode(root.left)+1:\n",
    "            return self.kthSmallest(root.right,k-self.countNode(root.left)-1)\n",
    "        else:\n",
    "            return root.val\n",
    "    \n",
    "    def countNode(self, root):\n",
    "        if not root:\n",
    "            return 0\n",
    "        return 1+self.countNode(root.left)+self.countNode(root.right)"
   ]
  },
  {
   "cell_type": "code",
   "execution_count": 216,
   "metadata": {
    "collapsed": false
   },
   "outputs": [
    {
     "data": {
      "text/plain": [
       "2"
      ]
     },
     "execution_count": 216,
     "metadata": {},
     "output_type": "execute_result"
    }
   ],
   "source": [
    "o=Solution()\n",
    "root=TreeNode(1)\n",
    "root.right=TreeNode(2)\n",
    "o.kthSmallest(root,2)"
   ]
  },
  {
   "cell_type": "markdown",
   "metadata": {},
   "source": [
    "## 300. Longest Increasing Subsequence"
   ]
  },
  {
   "cell_type": "markdown",
   "metadata": {},
   "source": [
    "Given an unsorted array of integers, find the length of longest increasing subsequence.\n",
    "\n",
    "For example,\n",
    "\n",
    "Given [10, 9, 2, 5, 3, 7, 101, 18],\n",
    "\n",
    "The longest increasing subsequence is [2, 3, 7, 101], therefore the length is 4. Note that there may be more than one LIS combination, it is only necessary for you to return the length.\n",
    "\n",
    "Your algorithm should run in O(n^2) complexity.\n",
    "\n",
    "Follow up: Could you improve it to O(n log n) time complexity?"
   ]
  },
  {
   "cell_type": "markdown",
   "metadata": {},
   "source": [
    "Solution: Consider a two-pointer method:\n",
    "\n",
    "1. initialize start=end=0\n",
    "1. if end>=end+1: start=end+1, end=start\n",
    "2. if end<end+1: end+=1"
   ]
  },
  {
   "cell_type": "code",
   "execution_count": 224,
   "metadata": {
    "collapsed": true
   },
   "outputs": [],
   "source": [
    "class Solution(object):\n",
    "    def lengthOfLIS(self, nums):\n",
    "        \"\"\"\n",
    "        :type nums: List[int]\n",
    "        :rtype: int\n",
    "        \"\"\"\n",
    "        n=len(nums)\n",
    "        if n==0:\n",
    "            return 0\n",
    "        max_length=1\n",
    "        start=0\n",
    "        end=0\n",
    "        for i in xrange(n-1):\n",
    "            max_length=max(max_length,end-start+1)\n",
    "            if nums[end]>=nums[end+1]:\n",
    "                start=end+1\n",
    "                end=start\n",
    "            else:\n",
    "                end+=1\n",
    "        max_length=max(max_length,end-start+1)\n",
    "        \n",
    "        return max_length"
   ]
  },
  {
   "cell_type": "code",
   "execution_count": 225,
   "metadata": {
    "collapsed": false
   },
   "outputs": [
    {
     "data": {
      "text/plain": [
       "3"
      ]
     },
     "execution_count": 225,
     "metadata": {},
     "output_type": "execute_result"
    }
   ],
   "source": [
    "o=Solution()\n",
    "o.lengthOfLIS([10, 9, 2, 5, 3, 7, 101, 18])"
   ]
  },
  {
   "cell_type": "markdown",
   "metadata": {},
   "source": [
    "The above solution is only for contiguous subsequence. For the non contiguous subsequence, one solution is DP: Let L(i) be the longest subsequence ending at index i, then\n",
    "\n",
    "L[i+1]=max([L[j]+1 for j in xrange(i+1) if nums[i+1]>nums[j] else 1])\n",
    "\n",
    "base case:\n",
    "\n",
    "L[0]=1"
   ]
  },
  {
   "cell_type": "markdown",
   "metadata": {},
   "source": [
    "**O(n^2) DP solution**:"
   ]
  },
  {
   "cell_type": "code",
   "execution_count": 248,
   "metadata": {
    "collapsed": false
   },
   "outputs": [],
   "source": [
    "class Solution(object):\n",
    "    def lengthOfLIS(self, nums):\n",
    "        \"\"\"\n",
    "        :type nums: List[int]\n",
    "        :rtype: int\n",
    "        \"\"\"\n",
    "        n=len(nums)\n",
    "        if n==0:\n",
    "            return 0\n",
    "        max_lengths=[1]*n\n",
    "        for i in xrange(n-1):\n",
    "            max_lengths[i+1]=1\n",
    "            for j in xrange(i+1):\n",
    "                if nums[i+1]>nums[j]:\n",
    "                    max_lengths[i+1]=max(max_lengths[j]+1,max_lengths[i+1])\n",
    "        return max(max_lengths)"
   ]
  },
  {
   "cell_type": "code",
   "execution_count": 250,
   "metadata": {
    "collapsed": false
   },
   "outputs": [
    {
     "data": {
      "text/plain": [
       "3"
      ]
     },
     "execution_count": 250,
     "metadata": {},
     "output_type": "execute_result"
    }
   ],
   "source": [
    "o=Solution()\n",
    "o.lengthOfLIS([4,10,4,3,8,9])"
   ]
  },
  {
   "cell_type": "markdown",
   "metadata": {},
   "source": [
    "**O(n log n) solution**:"
   ]
  },
  {
   "cell_type": "code",
   "execution_count": null,
   "metadata": {
    "collapsed": true
   },
   "outputs": [],
   "source": []
  },
  {
   "cell_type": "markdown",
   "metadata": {},
   "source": [
    "## <font color=red>324. Wiggle Sort II"
   ]
  },
  {
   "cell_type": "markdown",
   "metadata": {},
   "source": [
    "Given an unsorted array nums, reorder it such that nums[0] < nums[1] > nums[2] < nums[3]....\n",
    "\n",
    "Example:\n",
    "\n",
    "(1) Given nums = [1, 5, 1, 1, 6, 4], one possible answer is [1, 4, 1, 5, 1, 6]. \n",
    "\n",
    "(2) Given nums = [1, 3, 2, 2, 3, 1], one possible answer is [2, 3, 1, 3, 1, 2].\n",
    "\n",
    "Note:\n",
    "\n",
    "You may assume all input has valid answer.\n",
    "\n",
    "Follow Up:\n",
    "\n",
    "Can you do it in O(n) time and/or in-place with O(1) extra space?"
   ]
  },
  {
   "cell_type": "markdown",
   "metadata": {},
   "source": [
    "Solution: If there are no duplicate, we can correct the array in a single pass. for duplicates\n",
    "\n",
    "if nums[i]==nums[i+1]: "
   ]
  },
  {
   "cell_type": "code",
   "execution_count": null,
   "metadata": {
    "collapsed": true
   },
   "outputs": [],
   "source": [
    "class Solution(object):\n",
    "    def wiggleSort(self, nums):\n",
    "        \"\"\"\n",
    "        :type nums: List[int]\n",
    "        :rtype: void Do not return anything, modify nums in-place instead.\n",
    "        \"\"\""
   ]
  },
  {
   "cell_type": "markdown",
   "metadata": {},
   "source": [
    "## 334. Increasing Triplet Subsequence"
   ]
  },
  {
   "cell_type": "markdown",
   "metadata": {},
   "source": [
    "Given an unsorted array return whether an increasing subsequence of length 3 exists or not in the array.\n",
    "\n",
    "Formally the function should:\n",
    "\n",
    "Return true if there exists i, j, k \n",
    "\n",
    "such that arr[i] < arr[j] < arr[k] given 0 ≤ i < j < k ≤ n-1 else return false.\n",
    "\n",
    "Your algorithm should run in O(n) time complexity and O(1) space complexity.\n",
    "\n",
    "Examples:\n",
    "\n",
    "Given [1, 2, 3, 4, 5],\n",
    "\n",
    "return true.\n",
    "\n",
    "Given [5, 4, 3, 2, 1],\n",
    "\n",
    "return false.\n",
    "\n"
   ]
  },
  {
   "cell_type": "markdown",
   "metadata": {},
   "source": [
    "Solution: This problem can be solved by updating the first and second min in a single pass."
   ]
  },
  {
   "cell_type": "code",
   "execution_count": null,
   "metadata": {
    "collapsed": true
   },
   "outputs": [],
   "source": [
    "import sys\n",
    "\n",
    "class Solution(object):\n",
    "    def increasingTriplet(self, nums):\n",
    "        \"\"\"\n",
    "        :type nums: List[int]\n",
    "        :rtype: bool\n",
    "        \"\"\"\n",
    "        first_min=sys.maxint\n",
    "        second_min=sys.maxint\n",
    "        n=len(nums)\n",
    "        for i in xrange(n):\n",
    "            if nums[i]<=first_min:\n",
    "                first_min=nums[i]\n",
    "            elif nums[i]<=second_min:\n",
    "                second_min=nums[i]\n",
    "            else:\n",
    "                return True\n",
    "            \n",
    "        return False"
   ]
  },
  {
   "cell_type": "markdown",
   "metadata": {},
   "source": [
    "## 380. Insert Delete GetRandom O(1)"
   ]
  },
  {
   "cell_type": "markdown",
   "metadata": {},
   "source": [
    "Design a data structure that supports all following operations in average O(1) time.\n",
    "\n",
    "insert(val): Inserts an item val to the set if not already present.\n",
    "remove(val): Removes an item val from the set if present.\n",
    "getRandom: Returns a random element from current set of elements. Each element must have the same probability of being returned.\n",
    "Example:\n",
    "\n",
    "// Init an empty set.\n",
    "RandomizedSet randomSet = new RandomizedSet();\n",
    "\n",
    "// Inserts 1 to the set. Returns true as 1 was inserted successfully.\n",
    "randomSet.insert(1);\n",
    "\n",
    "// Returns false as 2 does not exist in the set.\n",
    "randomSet.remove(2);\n",
    "\n",
    "// Inserts 2 to the set, returns true. Set now contains [1,2].\n",
    "randomSet.insert(2);\n",
    "\n",
    "// getRandom should return either 1 or 2 randomly.\n",
    "randomSet.getRandom();\n",
    "\n",
    "// Removes 1 from the set, returns true. Set now contains [2].\n",
    "randomSet.remove(1);\n",
    "\n",
    "// 2 was already in the set, so return false.\n",
    "randomSet.insert(2);\n",
    "\n",
    "// Since 2 is the only number in the set, getRandom always return 2.\n",
    "randomSet.getRandom();"
   ]
  },
  {
   "cell_type": "markdown",
   "metadata": {},
   "source": [
    "Solution: we could use a hashtable"
   ]
  },
  {
   "cell_type": "code",
   "execution_count": null,
   "metadata": {
    "collapsed": true
   },
   "outputs": [],
   "source": [
    "class RandomizedSet(object):\n",
    "\n",
    "    def __init__(self):\n",
    "        \"\"\"\n",
    "        Initialize your data structure here.\n",
    "        \"\"\"\n",
    "        self.table={}\n",
    "        self.size=0\n",
    "\n",
    "    def insert(self, val):\n",
    "        \"\"\"\n",
    "        Inserts a value to the set. Returns true if the set did not already contain the specified element.\n",
    "        :type val: int\n",
    "        :rtype: bool\n",
    "        \"\"\"\n",
    "        if self.table.get(val)==1:\n",
    "            return False\n",
    "        else:\n",
    "            self.table[val]=1\n",
    "            self.size+=1\n",
    "            return True\n",
    "\n",
    "    def remove(self, val):\n",
    "        \"\"\"\n",
    "        Removes a value from the set. Returns true if the set contained the specified element.\n",
    "        :type val: int\n",
    "        :rtype: bool\n",
    "        \"\"\"\n",
    "        if self.table.get(val)==None:\n",
    "            return False\n",
    "        else:\n",
    "            del self.table[val]\n",
    "            self.size-=1\n",
    "            return True\n",
    "\n",
    "    def getRandom(self):\n",
    "        \"\"\"\n",
    "        Get a random element from the set.\n",
    "        :rtype: int\n",
    "        \"\"\"\n",
    "        index=random.randint(0, self.size-1)\n",
    "        return self.table.keys()[index]\n",
    "\n",
    "\n",
    "# Your RandomizedSet object will be instantiated and called as such:\n",
    "# obj = RandomizedSet()\n",
    "# param_1 = obj.insert(val)\n",
    "# param_2 = obj.remove(val)\n",
    "# param_3 = obj.getRandom()"
   ]
  },
  {
   "cell_type": "code",
   "execution_count": 268,
   "metadata": {
    "collapsed": false
   },
   "outputs": [],
   "source": [
    "a=collections.defaultdict(int)\n",
    "a.get('a')"
   ]
  },
  {
   "cell_type": "markdown",
   "metadata": {},
   "source": [
    "## 384. Shuffle an Array"
   ]
  },
  {
   "cell_type": "markdown",
   "metadata": {},
   "source": [
    "Shuffle a set of numbers without duplicates.\n",
    "\n",
    "Example:\n",
    "\n",
    "// Init an array with set 1, 2, and 3.\n",
    "int[] nums = {1,2,3};\n",
    "Solution solution = new Solution(nums);\n",
    "\n",
    "// Shuffle the array [1,2,3] and return its result. Any permutation of [1,2,3] must equally likely to be returned.\n",
    "solution.shuffle();\n",
    "\n",
    "// Resets the array back to its original configuration [1,2,3].\n",
    "solution.reset();\n",
    "\n",
    "// Returns the random shuffling of array [1,2,3].\n",
    "solution.shuffle();"
   ]
  },
  {
   "cell_type": "markdown",
   "metadata": {},
   "source": [
    "Solution: Consider that each num can be shuffled with itself or the others."
   ]
  },
  {
   "cell_type": "code",
   "execution_count": null,
   "metadata": {
    "collapsed": true
   },
   "outputs": [],
   "source": [
    "class Solution(object):\n",
    "\n",
    "    def __init__(self, nums):\n",
    "        \"\"\"\n",
    "        :type nums: List[int]\n",
    "        \"\"\"\n",
    "        self.nums=nums\n",
    "\n",
    "    def reset(self):\n",
    "        \"\"\"\n",
    "        Resets the array to its original configuration and return it.\n",
    "        :rtype: List[int]\n",
    "        \"\"\"\n",
    "        return self.nums\n",
    "\n",
    "    def shuffle(self):\n",
    "        \"\"\"\n",
    "        Returns a random shuffling of the array.\n",
    "        :rtype: List[int]\n",
    "        \"\"\"\n",
    "        n=len(self.nums)\n",
    "        ans = self.nums[:]\n",
    "        for i in range(len(ans)-1, 0, -1):     # start from end\n",
    "            j = random.randrange(0, i+1)    # generate random index \n",
    "            ans[i], ans[j] = ans[j], ans[i]    # swap\n",
    "        return ans\n",
    "\n",
    "# Your Solution object will be instantiated and called as such:\n",
    "# obj = Solution(nums)\n",
    "# param_1 = obj.reset()\n",
    "# param_2 = obj.shuffle()"
   ]
  },
  {
   "cell_type": "code",
   "execution_count": null,
   "metadata": {
    "collapsed": true
   },
   "outputs": [],
   "source": []
  },
  {
   "cell_type": "markdown",
   "metadata": {},
   "source": [
    "## 387. First Unique Character in a String"
   ]
  },
  {
   "cell_type": "markdown",
   "metadata": {},
   "source": [
    "Given a string, find the first non-repeating character in it and return it's index. If it doesn't exist, return -1.\n",
    "\n",
    "Examples:\n",
    "\n",
    "s = \"leetcode\"\n",
    "return 0.\n",
    "\n",
    "s = \"loveleetcode\",\n",
    "return 2.\n",
    "\n",
    "Note: You may assume the string contain only lowercase letters.\n",
    "\n"
   ]
  },
  {
   "cell_type": "markdown",
   "metadata": {},
   "source": [
    "Solution: We can do a two pass:\n",
    "\n",
    "First pass: create hashtable\n",
    "\n",
    "Second pass: return the index of the first non-repeating character."
   ]
  },
  {
   "cell_type": "code",
   "execution_count": null,
   "metadata": {
    "collapsed": true
   },
   "outputs": [],
   "source": [
    "class Solution(object):\n",
    "    def firstUniqChar(self, s):\n",
    "        \"\"\"\n",
    "        :type s: str\n",
    "        :rtype: int\n",
    "        \"\"\"\n",
    "        letter_count={}\n",
    "        for ch in s:\n",
    "            if letter_count.get(ch)!=None:\n",
    "                letter_count[ch]+=1\n",
    "            else:\n",
    "                letter_count[ch]=1\n",
    "        n=len(s)\n",
    "        for i in xrange(n):\n",
    "            if letter_count[s[i]]==1:\n",
    "                return i\n",
    "            \n",
    "        return -1"
   ]
  },
  {
   "cell_type": "markdown",
   "metadata": {},
   "source": [
    "## 395. Longest Substring with At Least K Repeating Characters"
   ]
  },
  {
   "cell_type": "markdown",
   "metadata": {},
   "source": [
    "Find the length of the longest substring T of a given string (consists of lowercase letters only) such that every character in T appears no less than k times.\n",
    "\n",
    "Example 1:\n",
    "\n",
    "Input:\n",
    "s = \"aaabb\", k = 3\n",
    "\n",
    "Output:\n",
    "3\n",
    "\n",
    "The longest substring is \"aaa\", as 'a' is repeated 3 times.\n",
    "\n",
    "Example 2:\n",
    "\n",
    "Input:\n",
    "s = \"ababbc\", k = 2\n",
    "\n",
    "Output:\n",
    "5\n",
    "\n",
    "The longest substring is \"ababb\", as 'a' is repeated 2 times and 'b' is repeated 3 times.\n"
   ]
  },
  {
   "cell_type": "markdown",
   "metadata": {},
   "source": [
    "Solution: First we create an array list to count the appearance of characters in T. We do a scan over the first k-1 letters in s and update the counting array. Then we extend the end of the window until we find the longest substring. Then we shift the window by one step to the right and again expand its length...."
   ]
  },
  {
   "cell_type": "markdown",
   "metadata": {},
   "source": [
    "**Divide and Conquer solution**: For each h, apply two pointer technique to find the longest substring with at least K repeating characters and the number of unique characters in substring is h."
   ]
  },
  {
   "cell_type": "code",
   "execution_count": 255,
   "metadata": {
    "collapsed": true
   },
   "outputs": [],
   "source": [
    "class Solution(object):\n",
    "    def longestSubstring(self, s, k):\n",
    "        \"\"\"\n",
    "        :type s: str\n",
    "        :type k: int\n",
    "        :rtype: int\n",
    "        \"\"\"\n",
    "        max_length=0\n",
    "        for h in xrange(1,27):\n",
    "            count=[0]*26\n",
    "            unique=0\n",
    "            nolessthanK=0\n",
    "            i=0\n",
    "            j=0\n",
    "            while j<len(s):\n",
    "                if unique<=h:\n",
    "                    if count[ord(s[j])-ord('a')]==0:\n",
    "                        unique+=1\n",
    "                    count[ord(s[j])-ord('a')]+=1\n",
    "                    if count[ord(s[j])-ord('a')]==k:\n",
    "                        nolessthanK+=1\n",
    "                    j+=1\n",
    "                else:\n",
    "                    if count[ord(s[i])-ord('a')]==1:\n",
    "                        unique-=1\n",
    "                    if count[ord(s[i])-ord('a')]==k:\n",
    "                        nolessthanK-=1\n",
    "                    count[ord(s[i])-ord('a')]-=1\n",
    "                    i+=1\n",
    "                    \n",
    "                if unique==h and unique==nolessthanK:\n",
    "                    max_length=max(max_length,j-i)\n",
    "                    \n",
    "        return max_length"
   ]
  },
  {
   "cell_type": "code",
   "execution_count": 256,
   "metadata": {
    "collapsed": false
   },
   "outputs": [
    {
     "data": {
      "text/plain": [
       "5"
      ]
     },
     "execution_count": 256,
     "metadata": {},
     "output_type": "execute_result"
    }
   ],
   "source": [
    "o=Solution()\n",
    "s=\"ababbc\"\n",
    "k=2\n",
    "o.longestSubstring(s,k)"
   ]
  },
  {
   "cell_type": "markdown",
   "metadata": {},
   "source": [
    "**Divide and Conquer solution 2**:\n",
    "\n",
    "1. First pass through s[start,end], record count[26]\n",
    "2. Second scan through s[start,end]: focus on the substrings with every character count>=k in the parent string s[start,end] and check if those substrings satisfy count>=k"
   ]
  },
  {
   "cell_type": "code",
   "execution_count": 263,
   "metadata": {
    "collapsed": true
   },
   "outputs": [],
   "source": [
    "class Solution(object):\n",
    "    def longestSubstring(self, s, k):\n",
    "        \"\"\"\n",
    "        :type s: str\n",
    "        :type k: int\n",
    "        :rtype: int\n",
    "        \"\"\"\n",
    "        n=len(s)\n",
    "        start=0\n",
    "        end=n\n",
    "        max_length=0\n",
    "        return self.helper(s,start,end,k,max_length)\n",
    "    \n",
    "    def helper(self, s, start, end, k, max_length):\n",
    "        \"\"\"\n",
    "        :type s: str\n",
    "        :type start, end: int\n",
    "        :type k: int\n",
    "        :rtype: int\n",
    "        \"\"\"\n",
    "        count=[0]*26\n",
    "        # first scan\n",
    "        for i in xrange(start, end):\n",
    "            count[ord(s[i])-ord('a')]+=1\n",
    "            \n",
    "        # second scan\n",
    "        j=start\n",
    "        while j<end:\n",
    "            while j<end and count[ord(s[j])-ord('a')]<k:\n",
    "                j+=1\n",
    "            if j==end:\n",
    "                break\n",
    "            l=j\n",
    "            while l<end and count[ord(s[l])-ord('a')]>=k:\n",
    "                l+=1\n",
    "            if j==start and l==end:\n",
    "                return l-j\n",
    "            else:\n",
    "                max_length=max(max_length, self.helper(s,j,l,k,max_length))\n",
    "            j=l\n",
    "            \n",
    "        return max_length"
   ]
  },
  {
   "cell_type": "code",
   "execution_count": 264,
   "metadata": {
    "collapsed": false
   },
   "outputs": [
    {
     "data": {
      "text/plain": [
       "5"
      ]
     },
     "execution_count": 264,
     "metadata": {},
     "output_type": "execute_result"
    }
   ],
   "source": [
    "o=Solution()\n",
    "s=\"ababbc\"\n",
    "k=2\n",
    "o.longestSubstring(s,k)"
   ]
  },
  {
   "cell_type": "markdown",
   "metadata": {},
   "source": [
    "## 412. Fizz Buzz"
   ]
  },
  {
   "cell_type": "markdown",
   "metadata": {},
   "source": [
    "Write a program that outputs the string representation of numbers from 1 to n.\n",
    "\n",
    "But for multiples of three it should output “Fizz” instead of the number and for the multiples of five output “Buzz”. For numbers which are multiples of both three and five output “FizzBuzz”.\n",
    "\n",
    "Example:\n",
    "\n",
    "n = 15,\n",
    "\n",
    "Return:\n",
    "\n",
    "[\n",
    "    \"1\",\n",
    "    \"2\",\n",
    "    \"Fizz\",\n",
    "    \"4\",\n",
    "    \"Buzz\",\n",
    "    \"Fizz\",\n",
    "    \"7\",\n",
    "    \"8\",\n",
    "    \"Fizz\",\n",
    "    \"Buzz\",\n",
    "    \"11\",\n",
    "    \"Fizz\",\n",
    "    \"13\",\n",
    "    \"14\",\n",
    "    \"FizzBuzz\"\n",
    "]\n"
   ]
  },
  {
   "cell_type": "code",
   "execution_count": 252,
   "metadata": {
    "collapsed": true
   },
   "outputs": [],
   "source": [
    "class Solution(object):\n",
    "    def fizzBuzz(self, n):\n",
    "        \"\"\"\n",
    "        :type n: int\n",
    "        :rtype: List[str]\n",
    "        \"\"\"\n",
    "        results=[]\n",
    "        for i in xrange(1,n+1):\n",
    "            if i%3==0 and i%5==0:\n",
    "                results.append(\"FizzBuzz\")\n",
    "            elif i%3==0:\n",
    "                results.append(\"Fizz\")\n",
    "            elif i%5==0:\n",
    "                results.append(\"Buzz\")\n",
    "            else:\n",
    "                results.append(str(i))\n",
    "        return results"
   ]
  },
  {
   "cell_type": "code",
   "execution_count": 254,
   "metadata": {
    "collapsed": false
   },
   "outputs": [
    {
     "data": {
      "text/plain": [
       "['1',\n",
       " '2',\n",
       " 'Fizz',\n",
       " '4',\n",
       " 'Buzz',\n",
       " 'Fizz',\n",
       " '7',\n",
       " '8',\n",
       " 'Fizz',\n",
       " 'Buzz',\n",
       " '11',\n",
       " 'Fizz',\n",
       " '13',\n",
       " '14',\n",
       " 'FizzBuzz']"
      ]
     },
     "execution_count": 254,
     "metadata": {},
     "output_type": "execute_result"
    }
   ],
   "source": [
    "o=Solution()\n",
    "o.fizzBuzz(15)"
   ]
  },
  {
   "cell_type": "code",
   "execution_count": null,
   "metadata": {
    "collapsed": true
   },
   "outputs": [],
   "source": []
  }
 ],
 "metadata": {
  "kernelspec": {
   "display_name": "Python 2",
   "language": "python",
   "name": "python2"
  },
  "language_info": {
   "codemirror_mode": {
    "name": "ipython",
    "version": 2
   },
   "file_extension": ".py",
   "mimetype": "text/x-python",
   "name": "python",
   "nbconvert_exporter": "python",
   "pygments_lexer": "ipython2",
   "version": "2.7.12"
  }
 },
 "nbformat": 4,
 "nbformat_minor": 0
}
