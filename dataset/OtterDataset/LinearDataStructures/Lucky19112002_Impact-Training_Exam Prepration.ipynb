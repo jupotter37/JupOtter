{
 "cells": [
  {
   "attachments": {},
   "cell_type": "markdown",
   "metadata": {},
   "source": [
    "Solve any pattern question in pyhton"
   ]
  },
  {
   "cell_type": "code",
   "execution_count": 27,
   "metadata": {},
   "outputs": [
    {
     "name": "stdout",
     "output_type": "stream",
     "text": [
      "    #\n",
      "   ##\n",
      "  ###\n",
      " ####\n",
      "#####\n"
     ]
    }
   ],
   "source": [
    "def staircase(n):\n",
    "    for i in range(1, n+1):\n",
    "        s = '#' * i\n",
    "        print(s.rjust(n))\n",
    "# rjust(n) function prints from right \n",
    "if __name__ == '__main__':\n",
    "    n = int(input().strip())\n",
    "\n",
    "    staircase(n)"
   ]
  },
  {
   "attachments": {},
   "cell_type": "markdown",
   "metadata": {},
   "source": [
    "Stack DS  ---> LIFO\n",
    "\n",
    "use list as stack\n",
    "push() -> append()\n"
   ]
  },
  {
   "cell_type": "code",
   "execution_count": 28,
   "metadata": {},
   "outputs": [],
   "source": [
    "def push(num , num_len):\n",
    "    for i in range(num_len):\n",
    "        print(\"Enter value\")\n",
    "        a = int(input())\n",
    "        num.append(a)\n",
    "    print(num)\n",
    "\n",
    "\n",
    "def isEmpty(num):\n",
    "    if not num:\n",
    "        return True\n",
    "    else:\n",
    "        return False\n",
    "\n",
    "\n",
    "\n",
    "def pop():\n",
    "    if isEmpty(num):\n",
    "        print(\"Stack is empty\")\n",
    "        return False\n",
    "    index = int(input(\"Enter index of items u want to pop\"))\n",
    "    print(num.pop(index))\n",
    "    print(\"After pop array : \",num)\n",
    "num = []\n",
    "num_len = int(input(\"Enter number of items u want\"))\n",
    "push(num, num_len)\n",
    "pop()\n",
    "isEmpty(num)\n",
    "\n"
   ]
  },
  {
   "attachments": {},
   "cell_type": "markdown",
   "metadata": {},
   "source": [
    "Queue DS --> FIFO\n",
    "\n",
    "enqueue()  -> Adding elements\n",
    "dequeue()  -> Removing elements"
   ]
  },
  {
   "cell_type": "code",
   "execution_count": 25,
   "metadata": {},
   "outputs": [
    {
     "name": "stdout",
     "output_type": "stream",
     "text": [
      "Enter value\n",
      "Enter value\n",
      "Enter value\n",
      "Enter value\n",
      "Enter value\n",
      "[4, 7, 5, 3, 6]\n",
      "Pop Value in queue[ 0 ]: 4\n",
      "[7, 5, 3, 6]\n",
      "False\n",
      "Pop Value in queue[ 1 ]: 7\n",
      "[5, 3, 6]\n",
      "False\n",
      "Pop Value in queue[ 2 ]: 5\n",
      "[3, 6]\n",
      "False\n",
      "Pop Value in queue[ 3 ]: 3\n",
      "[6]\n",
      "False\n",
      "Pop Value in queue[ 4 ]: 6\n",
      "[]\n",
      "True\n"
     ]
    }
   ],
   "source": [
    "def QueueIsEmpty(queue):\n",
    "    if not queue:\n",
    "        return True\n",
    "    else:\n",
    "        return False\n",
    "queue = []\n",
    "\n",
    "\n",
    "# User Defined Input\n",
    "lenth = int(input(\"Enter length : \"))\n",
    "# push function\n",
    "for i in range(lenth):\n",
    "    print(\"Enter value\")\n",
    "    a = int(input())\n",
    "    queue.append(a)\n",
    "print(queue)\n",
    "# pop function\n",
    "for i in range(lenth):\n",
    "    print( \"Pop Value in queue[\",i,\"]:\",queue.pop(0)) \n",
    "    print(queue)\n",
    "    print(QueueIsEmpty(queue))\n"
   ]
  },
  {
   "attachments": {},
   "cell_type": "markdown",
   "metadata": {},
   "source": [
    "Linked list SD\n",
    "left -> data\n",
    "rignt -> pointer -> address of next data\n",
    "\n"
   ]
  }
 ],
 "metadata": {
  "kernelspec": {
   "display_name": "Python 3",
   "language": "python",
   "name": "python3"
  },
  "language_info": {
   "codemirror_mode": {
    "name": "ipython",
    "version": 3
   },
   "file_extension": ".py",
   "mimetype": "text/x-python",
   "name": "python",
   "nbconvert_exporter": "python",
   "pygments_lexer": "ipython3",
   "version": "3.11.1"
  },
  "orig_nbformat": 4
 },
 "nbformat": 4,
 "nbformat_minor": 2
}
