{
 "cells": [
  {
   "attachments": {},
   "cell_type": "markdown",
   "metadata": {},
   "source": [
    "# Trees and Graphs "
   ]
  },
  {
   "attachments": {},
   "cell_type": "markdown",
   "metadata": {},
   "source": [
    "Binary Trees "
   ]
  },
  {
   "cell_type": "code",
   "execution_count": 99,
   "metadata": {},
   "outputs": [],
   "source": [
    "# The nodes of a graph (and by extension, trees) are also called vertices, and the pointers that connect them are called edges. \n",
    "# In graphical representations, nodes/vertices are usually represented with circles and the edges are lines or arrows that\n",
    "# connect the circles (just like in linked lists).\n",
    "\n",
    "\n",
    "# This is the most fundamental idea for solving tree problems - you can take any given node and treat it as its own tree, \n",
    "# which allows you to solve problems in a recursive manner.\n",
    "\n"
   ]
  },
  {
   "cell_type": "code",
   "execution_count": 100,
   "metadata": {},
   "outputs": [],
   "source": [
    "# Creating a Tree Node\n",
    "\n",
    "class TreeNode:\n",
    "    def __init__(self, val, left, right):\n",
    "        self.val = val\n",
    "        self.left = left\n",
    "        self.right = right"
   ]
  },
  {
   "attachments": {},
   "cell_type": "markdown",
   "metadata": {},
   "source": [
    "Binary trees - DFS: Depth-first search (DFS)"
   ]
  },
  {
   "attachments": {},
   "cell_type": "markdown",
   "metadata": {},
   "source": [
    "DFS shown below with recursion idk how else one could do this. But it is suprisingly intuitive "
   ]
  },
  {
   "cell_type": "code",
   "execution_count": 101,
   "metadata": {},
   "outputs": [],
   "source": [
    "# DFS of Binary tree\n",
    "\n",
    "def dfs(node):\n",
    "    if node == None:\n",
    "        return\n",
    "\n",
    "    dfs(node.left)\n",
    "    dfs(node.right)"
   ]
  },
  {
   "attachments": {},
   "cell_type": "markdown",
   "metadata": {},
   "source": [
    "The good news is that the structure for performing a DFS is very similar across all problems. It goes as follows:\n",
    "\n",
    "- 1 Handle the base case(s), usually an empty tree (node = null) is a base case.\n",
    "- 2 Do some logic for the current node\n",
    "- 3 Recursively call on the current node's children\n",
    "- 4 Return the answer\n",
    "\n",
    "Steps 2 and 3 may happen in different orders as we will see."
   ]
  },
  {
   "attachments": {},
   "cell_type": "markdown",
   "metadata": {},
   "source": [
    "Preorder traversal\n",
    "\n",
    "In preorder traversal, logic is done on the current node before moving to the children. Let's say that we wanted to just print the value of each node in the tree to the console. In that case, at any given node, we would print the current node's value, then recursively call the left child, then recursively call the right child (or right then left, it doesn't matter, but left before right is more common)."
   ]
  },
  {
   "cell_type": "code",
   "execution_count": 102,
   "metadata": {},
   "outputs": [],
   "source": [
    "# does logic on curr node all the way down \n",
    "\n",
    "def preorder_dfs(node):\n",
    "    if not node:\n",
    "        return\n",
    "\n",
    "    print(node.val)\n",
    "    preorder_dfs(node.left)\n",
    "    preorder_dfs(node.right)\n"
   ]
  },
  {
   "attachments": {},
   "cell_type": "markdown",
   "metadata": {},
   "source": [
    "Inorder traversal\n",
    "\n",
    "For inorder traversal, we first recursively call the left child, then perform logic (print in thise case) on the current node, then recursively call the right child. This means no logic will be done until we reach a node without a left child since calling on the left child takes priority over performing logic.\n",
    "\n"
   ]
  },
  {
   "cell_type": "code",
   "execution_count": 103,
   "metadata": {},
   "outputs": [],
   "source": [
    "# does logic after travling down left side first(all the way down) \n",
    "\n",
    "def inorder_dfs(node):\n",
    "    if not node:\n",
    "        return\n",
    "\n",
    "    inorder_dfs(node.left)\n",
    "    print(node.val)\n",
    "    inorder_dfs(node.right)"
   ]
  },
  {
   "attachments": {},
   "cell_type": "markdown",
   "metadata": {},
   "source": [
    "Postorder traversal\n",
    "\n",
    "In postorder traversal, we recursively call on the children first and then perform logic on the current node. This means no logic will be done until we reach a leaf node since calling on the children takes priority over performing logic. In a postorder traversal, the root is the last node where logic is done."
   ]
  },
  {
   "cell_type": "code",
   "execution_count": 104,
   "metadata": {},
   "outputs": [],
   "source": [
    "# does logic from the leaves up\n",
    "\n",
    "def postorder_dfs(node):\n",
    "    if not node:\n",
    "        return\n",
    "\n",
    "    postorder_dfs(node.left)\n",
    "    postorder_dfs(node.right)\n",
    "    print(node.val)"
   ]
  },
  {
   "attachments": {},
   "cell_type": "markdown",
   "metadata": {},
   "source": [
    "Notice how the name of the traversal is describing when the current node's logic is performed.\n",
    "\n",
    "Pre -> before children\n",
    "\n",
    "In -> in the middle of children\n",
    "\n",
    "Post -> after children"
   ]
  },
  {
   "cell_type": "code",
   "execution_count": 105,
   "metadata": {},
   "outputs": [
    {
     "name": "stdout",
     "output_type": "stream",
     "text": [
      "3\n",
      "4\n",
      "1\n",
      "5\n",
      "6\n",
      "2\n",
      "0\n"
     ]
    }
   ],
   "source": [
    "# test out stuff here\n",
    "\n",
    "class TreeNode:\n",
    "    def __init__(self, val):\n",
    "        self.val = val\n",
    "        self.left = None\n",
    "        self.right = None\n",
    "\n",
    "\"\"\"\n",
    "The following code builds a tree that looks like:\n",
    "        0\n",
    "     /     \\\n",
    "    1       2\n",
    "  /   \\   /   \\\n",
    " 3    4   5    6\n",
    "\"\"\"\n",
    "\n",
    "root = TreeNode(0) # making verticies \n",
    "one = TreeNode(1)\n",
    "two = TreeNode(2)\n",
    "three = TreeNode(3)\n",
    "four = TreeNode(4)\n",
    "five = TreeNode(5)\n",
    "six = TreeNode(6)\n",
    "\n",
    "root.left = one     # making edges\n",
    "root.right = two\n",
    "root.left.left = three\n",
    "root.left.right = four\n",
    "root.right.left = five\n",
    "root.right.right = six\n",
    "\n",
    "# print(root.left.val)\n",
    "# print(root.right.val)\n",
    "\n",
    "# shows all the different DFS methods \n",
    "# preorder_dfs(root)\n",
    "# inorder_dfs(root)\n",
    "postorder_dfs(root)"
   ]
  },
  {
   "cell_type": "code",
   "execution_count": 106,
   "metadata": {},
   "outputs": [
    {
     "name": "stdout",
     "output_type": "stream",
     "text": [
      "3\n"
     ]
    }
   ],
   "source": [
    "# 104. Maximum Depth of Binary Tree\n",
    "# my attempt did not work I needed more foundation \n",
    "# if this does not make senes rewatch vid it makes all of it clear \n",
    "# beats 57% in time and 50% in space\n",
    "\n",
    "# Definition for a binary tree node.\n",
    "# class TreeNode:\n",
    "#     def __init__(self, val=0, left=None, right=None):\n",
    "#         self.val = val\n",
    "#         self.left = left\n",
    "#         self.right = right\n",
    "class Solution:\n",
    "    def maxDepth(self, root):\n",
    "        if not root:\n",
    "            return 0 \n",
    "        \n",
    "        left = self.maxDepth(root.left)\n",
    "        right = self.maxDepth(root.right)\n",
    "        return max(left, right) + 1\n",
    "\n",
    "A = Solution()\n",
    "B = A.maxDepth(root)\n",
    "print(B)"
   ]
  },
  {
   "attachments": {},
   "cell_type": "markdown",
   "metadata": {},
   "source": [
    "In the example you provided, the self keyword is necessary in the maxDepth() method because it allows you to create instances of the Solution class and access the instance variables and methods of those instances. This is essential for the recursion to work correctly, as each recursive call needs its own instance of the Solution class with its own set of instance variables."
   ]
  },
  {
   "cell_type": "code",
   "execution_count": 107,
   "metadata": {},
   "outputs": [
    {
     "name": "stdout",
     "output_type": "stream",
     "text": [
      "3\n"
     ]
    }
   ],
   "source": [
    "# you can also do it iterativly.\n",
    "\n",
    "# Definition for a binary tree node.\n",
    "# class TreeNode:\n",
    "#     def __init__(self, val=0, left=None, right=None):\n",
    "#         self.val = val\n",
    "#         self.left = left\n",
    "#         self.right = right\n",
    "class Solution:\n",
    "    def maxDepth(self, root):\n",
    "        if not root:\n",
    "            return 0\n",
    "        \n",
    "        stack = [(root, 1)]\n",
    "        ans = 0\n",
    "        \n",
    "        while stack:\n",
    "            node, depth = stack.pop()\n",
    "            ans = max(ans, depth)\n",
    "            if node.left:\n",
    "                stack.append((node.left, depth + 1))\n",
    "            if node.right:\n",
    "                stack.append((node.right, depth + 1))\n",
    "        \n",
    "        return ans\n",
    "    \n",
    "A = Solution()\n",
    "B = A.maxDepth(root)\n",
    "print(B)"
   ]
  },
  {
   "cell_type": "code",
   "execution_count": 108,
   "metadata": {},
   "outputs": [
    {
     "name": "stdout",
     "output_type": "stream",
     "text": [
      "3\n"
     ]
    }
   ],
   "source": [
    "# here is the max depth function from ealier COMPARE to below\n",
    "class Solution:\n",
    "    def maxDepth(self, root):\n",
    "        if not root:\n",
    "            return 0 \n",
    "        \n",
    "        left = self.maxDepth(root.left)\n",
    "        right = self.maxDepth(root.right)\n",
    "        return max(left, right) + 1\n",
    "\n",
    "A = Solution()\n",
    "B = A.maxDepth(root)\n",
    "print(B)"
   ]
  },
  {
   "cell_type": "code",
   "execution_count": 109,
   "metadata": {},
   "outputs": [
    {
     "name": "stdout",
     "output_type": "stream",
     "text": [
      "3\n"
     ]
    }
   ],
   "source": [
    "# here is how to do it without the self keyword and only using a helper method \n",
    "# this is the same style as the next problem. Chatbot says that it is preference to use a helper method or not.. idk about that \n",
    "# but lets run with that for now\n",
    "class Solution:\n",
    "    def maxDepth(self, root):\n",
    "        def dfs(node):\n",
    "            if not node:\n",
    "                return 0 \n",
    "        \n",
    "            left = dfs(node.left)\n",
    "            right = dfs(node.right)\n",
    "            return max(left, right) + 1\n",
    "        \n",
    "        return dfs(root)\n",
    "\n",
    "A = Solution()\n",
    "B = A.maxDepth(root)\n",
    "print(B)"
   ]
  },
  {
   "attachments": {},
   "cell_type": "markdown",
   "metadata": {},
   "source": [
    "# Note\n",
    "Leetcode themselves say that you should treat some of these functions as a black box and assume they work\n",
    "so i suppose that means just know them and use them as tools and dont worry too much if it does not make\n",
    "100% sense. I hate this tho so I will still try to understand them anyway..."
   ]
  },
  {
   "cell_type": "code",
   "execution_count": 110,
   "metadata": {},
   "outputs": [
    {
     "name": "stdout",
     "output_type": "stream",
     "text": [
      "True\n"
     ]
    }
   ],
   "source": [
    "# Example 2: 112. Path Sum\n",
    "# Given the root of a binary tree and an integer targetSum, return true if there is a path from the root to a leaf such that \n",
    "# the sum of the nodes on the path is equal to targetSum, and return false otherwise.\n",
    "\n",
    "class Solution:\n",
    "    def hasPathSum(self, root, targetSum):\n",
    "        def dfs(node, curr):\n",
    "            if not node: # checks obv bad case where tree is empty\n",
    "                return False\n",
    "            \n",
    "            # if both children are null, then the node is a leaf\n",
    "            if node.left == None and node.right == None:\n",
    "                return (curr + node.val) == targetSum # at the leaf we check if the path sum is the target\n",
    "            \n",
    "            curr += node.val\n",
    "            left = dfs(node.left, curr)         \n",
    "            right = dfs(node.right, curr)\n",
    "            return left or right\n",
    "        \n",
    "        return dfs(root, 0) # start with a sum of 0 since initially the root cannot be summed without a path\n",
    "                            # basically we start with 0 and count increases as we descend the tree\n",
    "A = Solution()\n",
    "B = A.hasPathSum(root, 4)\n",
    "print(B)"
   ]
  },
  {
   "attachments": {},
   "cell_type": "markdown",
   "metadata": {},
   "source": [
    "best one above"
   ]
  },
  {
   "cell_type": "code",
   "execution_count": 111,
   "metadata": {},
   "outputs": [
    {
     "name": "stdout",
     "output_type": "stream",
     "text": [
      "True\n"
     ]
    }
   ],
   "source": [
    "# Example 2: 112. Path Sum\n",
    "# chatbot made this to show you do not need a helper method and instead could use the self keyword\n",
    "\n",
    "class Solution:\n",
    "    def hasPathSum(self, root, targetSum):\n",
    "        if not root:\n",
    "            return False\n",
    "        \n",
    "        # if both children are null, then the node is a leaf\n",
    "        if not root.left and not root.right:\n",
    "            return root.val == targetSum\n",
    "        \n",
    "        targetSum -= root.val\n",
    "        left = self.hasPathSum(root.left, targetSum)\n",
    "        right = self.hasPathSum(root.right, targetSum)\n",
    "        return left or right\n",
    "A = Solution()\n",
    "B = A.hasPathSum(root, 4)\n",
    "print(B)"
   ]
  },
  {
   "cell_type": "code",
   "execution_count": 112,
   "metadata": {},
   "outputs": [],
   "source": [
    "# Iterative approach to the same problem (dont bother really recursive is better)\n",
    "class Solution:\n",
    "    def hasPathSum(self, root, targetSum):\n",
    "        if not root:\n",
    "            return False\n",
    "\n",
    "        stack = [(root, 0)]\n",
    "        while stack:\n",
    "            node, curr = stack.pop()\n",
    "            # if both children are null, then the node is a leaf\n",
    "            if node.left == None and node.right == None:\n",
    "                if (curr + node.val) == targetSum:\n",
    "                    return True\n",
    "\n",
    "            curr += node.val\n",
    "            if node.left:\n",
    "                stack.append((node.left, curr))\n",
    "            if node.right:\n",
    "                stack.append((node.right, curr))\n",
    "\n",
    "        return False"
   ]
  },
  {
   "cell_type": "code",
   "execution_count": 113,
   "metadata": {},
   "outputs": [
    {
     "name": "stdout",
     "output_type": "stream",
     "text": [
      "8\n"
     ]
    }
   ],
   "source": [
    "# NOT CORRECT BUT RIGHT TRACK LOOK BELOW THIS FOR OFFICIAL ANS\n",
    "# Example 3: 1448. Count Good Nodes in Binary Tree\n",
    "# Given the root of a binary tree, find the number of nodes that are good. A node is good if the path between the \n",
    "# root and the node has no nodes with a greater value.\n",
    "# my attempt (seems like i have the foundation for this)\n",
    "\n",
    "# add plus 1 to the end since root node is always good\n",
    "# have counter for num of good nodes\n",
    "# keep track of the prev node value use that to compare to curr node for determing \"good\" or \"bad\"\n",
    "class Solution:\n",
    "    def goodNodes(self, root):\n",
    "\n",
    "\n",
    "\n",
    "        if root.left == None and root.right == None: # case where tree is one node\n",
    "            return 1\n",
    "\n",
    "        def dfs(node, good, prev_node_val):\n",
    "\n",
    "            if not node:\n",
    "                return good\n",
    "\n",
    "            if node.left == None and node.right == None: # base case for leaves\n",
    "                return good\n",
    "            \n",
    "            if prev_node_val < node.val:\n",
    "                good += 1\n",
    "            \n",
    "            left = dfs(node.left, good, node.val)\n",
    "            right = dfs(node.right, good, node.val)\n",
    "            return left + right\n",
    "        return dfs(root, 0, float('-inf'))\n",
    "    \n",
    "A = Solution()\n",
    "B = A.goodNodes(root)\n",
    "print(B)"
   ]
  },
  {
   "cell_type": "code",
   "execution_count": 114,
   "metadata": {},
   "outputs": [
    {
     "name": "stdout",
     "output_type": "stream",
     "text": [
      "7\n"
     ]
    }
   ],
   "source": [
    "# Example 3: 1448. Count Good Nodes in Binary Tree\n",
    "# Given the root of a binary tree, find the number of nodes that are good. A node is good if the path between the \n",
    "# root and the node has no nodes with a greater value.\n",
    "# beats 34% in time and 80% in space\n",
    "\n",
    "class Solution:\n",
    "    def goodNodes(self, root: TreeNode) -> int:\n",
    "        def dfs(node, max_so_far): # we keep track of maxsofar to compare curr node.val to due to problem\n",
    "            if not node: # if we reach past a leaf return 0 since non leaves add nothing\n",
    "                return 0\n",
    "            \n",
    "            left = dfs(node.left, max(max_so_far, node.val))\n",
    "            right = dfs(node.right, max(max_so_far, node.val))\n",
    "            ans = left + right # ensures we get num of good nodes in left and right sub tree AND later get +1 for curr node if good\n",
    "            if node.val >= max_so_far: # problem defines good as when curr node val is greater than max so far in path\n",
    "                ans += 1\n",
    "\n",
    "            return ans\n",
    "\n",
    "        return dfs(root, float(\"-inf\")) # neg inf ensures first node is always good as required by problem\n",
    "A = Solution()\n",
    "B = A.goodNodes(root)\n",
    "print(B)"
   ]
  },
  {
   "cell_type": "code",
   "execution_count": 115,
   "metadata": {},
   "outputs": [],
   "source": [
    "# Iterative approach\n",
    "class Solution:\n",
    "    def goodNodes(self, root: TreeNode) -> int:\n",
    "        if not root:\n",
    "            return 0\n",
    "        \n",
    "        stack = [(root, float(\"-inf\"))]\n",
    "        ans = 0\n",
    "        \n",
    "        while stack:\n",
    "            node, max_so_far = stack.pop()\n",
    "            if node.val >= max_so_far:\n",
    "                ans += 1\n",
    "            \n",
    "            if node.left:\n",
    "                stack.append((node.left, max(max_so_far, node.val)))\n",
    "            if node.right:\n",
    "                stack.append((node.right, max(max_so_far, node.val)))\n",
    "        \n",
    "        return ans"
   ]
  },
  {
   "cell_type": "code",
   "execution_count": 116,
   "metadata": {},
   "outputs": [],
   "source": [
    "# 236. Lowest Common Ancestor of a Binary Tree\n",
    "# Given a binary tree, find the lowest common ancestor (LCA) of two given nodes in the tree.\n",
    "# According to the definition of LCA on Wikipedia: “The lowest common ancestor is defined between two nodes p and q as \n",
    "# the lowest node in T that has both p and q as descendants (where we allow a node to be a descendant of itself).”\n",
    "# below is my answer after geting help from the solution\n",
    "# beats 82% in time and 55% in space\n",
    "\n",
    "# Definition for a binary tree node.\n",
    "# class TreeNode:\n",
    "#     def __init__(self, x):\n",
    "#         self.val = x\n",
    "#         self.left = None\n",
    "#         self.right = None\n",
    "\n",
    "class Solution:\n",
    "    def lowestCommonAncestor(self, root: 'TreeNode', p: 'TreeNode', q: 'TreeNode') -> 'TreeNode':\n",
    "\n",
    "        if not root:    # edge case where we are given an empty tree\n",
    "            return None\n",
    "\n",
    "        if root == p or root == q: # if we find either p or q then we go back up tree\n",
    "            return root\n",
    "\n",
    "        left = self.lowestCommonAncestor(root.left, p, q)\n",
    "        right = self.lowestCommonAncestor(root.right, p, q)\n",
    "\n",
    "        if left and right: # if left and right subtree have found p and q then root is the LCA\n",
    "            return root\n",
    "\n",
    "        if left:            # if left has p and q it returns something whereas right is null thus LCA is left\n",
    "            return left\n",
    "\n",
    "        return right        # same as comment above but vice versa if only right returns non null then right is LCA "
   ]
  },
  {
   "attachments": {},
   "cell_type": "markdown",
   "metadata": {},
   "source": [
    "practice problems from course"
   ]
  },
  {
   "attachments": {},
   "cell_type": "markdown",
   "metadata": {},
   "source": [
    "# Note regarding helper functions and self keyword\n",
    "I figured out that we use a helper function dfs when we need to do recursion and want to add a new parameter that the \n",
    "to help solve the problem as we recurse. Sometimes a new parameter can help solve a problem and the given function in the \n",
    "question does not have that param.\n",
    "So if you think you need more params than the problem gives you: use a helper function. else: use OOP with self keyword\n",
    "\n",
    "ex in below problem I added the curr parameter to keep track of the curr depth for a node. the question does not give me this\n",
    "by default so a helper function with this param makes sense"
   ]
  },
  {
   "cell_type": "code",
   "execution_count": 117,
   "metadata": {},
   "outputs": [
    {
     "name": "stdout",
     "output_type": "stream",
     "text": [
      "3\n"
     ]
    }
   ],
   "source": [
    "# Minimum Depth of Binary Tree\n",
    "# Given a binary tree, find its minimum depth.\n",
    "# The minimum depth is the number of nodes along the shortest path from the root node down to the nearest leaf node.\n",
    "# Note: A leaf is a node with no children.\n",
    "# my attempt WORKS damn feels good man \n",
    "# beats 61% in time and 30% in space\n",
    "\n",
    "class Solution:\n",
    "    def minDepth(self, root):\n",
    "        if not root:    # case where we are given empty tree\n",
    "            return 0\n",
    "        \n",
    "        def dfs(node, curr):    \n",
    "            if not node: # if we are past a leaf return 0 which effectivly makes it not count\n",
    "                return 0\n",
    "            \n",
    "            if node.left == None and node.right == None: # when at a leaf return the curr depth count to find min later\n",
    "                return curr\n",
    "            \n",
    "            curr += 1   # increase curr depth count as we descend the tree\n",
    "            left = dfs(node.left, curr)\n",
    "            right = dfs(node.right, curr)\n",
    "\n",
    "            if not left:     # if left path is null then return whatever right had and keep looking\n",
    "                return right\n",
    "            if not right:\n",
    "                return left\n",
    "            return min(left, right) # once we finsih looking through left and right subtrees we want the min depth between both\n",
    "\n",
    "        return dfs(root, 1) # start curr depth count at 1 since root counts as depth 1\n",
    "\n",
    "A = Solution()\n",
    "B = A.minDepth(root)\n",
    "print(B)"
   ]
  },
  {
   "cell_type": "code",
   "execution_count": 118,
   "metadata": {},
   "outputs": [
    {
     "name": "stdout",
     "output_type": "stream",
     "text": [
      "7\n"
     ]
    }
   ],
   "source": [
    "# Example 3: 1448. Count Good Nodes in Binary Tree\n",
    "# Given the root of a binary tree, find the number of nodes that are good. A node is good if the path between the \n",
    "# root and the node has no nodes with a greater value.\n",
    "# beats 34% in time and 80% in space\n",
    "\n",
    "class Solution:\n",
    "    def goodNodes(self, root: TreeNode) -> int:\n",
    "        def dfs(node, max_so_far): # we keep track of maxsofar to compare curr node.val to due to problem\n",
    "            if not node: # if we reach past a leaf return 0 since non leaves add nothing\n",
    "                return 0\n",
    "            \n",
    "            left = dfs(node.left, max(max_so_far, node.val))\n",
    "            right = dfs(node.right, max(max_so_far, node.val))\n",
    "            ans = left + right # ensures we get num of good nodes in left and right sub tree AND later get +1 for curr node if good\n",
    "            if node.val >= max_so_far: # problem defines good as when curr node val is greater than max so far in path\n",
    "                ans += 1\n",
    "\n",
    "            return ans\n",
    "\n",
    "        return dfs(root, float(\"-inf\")) # neg inf ensures first node is always good as required by problem\n",
    "A = Solution()\n",
    "B = A.goodNodes(root)\n",
    "print(B)"
   ]
  },
  {
   "attachments": {},
   "cell_type": "markdown",
   "metadata": {},
   "source": [
    "Intuition for problem below\n",
    "\n",
    "An insight is that:\n",
    "\n",
    "Given any two nodes on the same root-to-leaf path, they must have the required ancestor relationship.\n",
    "Therefore, we just need to record the maximum and minimum values of all root-to-leaf paths and return the maximum difference.\n",
    "\n",
    "To achieve this, we can record the maximum and minimum values during the recursion and return the difference when encountering leaves."
   ]
  },
  {
   "cell_type": "code",
   "execution_count": 119,
   "metadata": {},
   "outputs": [
    {
     "name": "stdout",
     "output_type": "stream",
     "text": [
      "6\n"
     ]
    }
   ],
   "source": [
    "# Maximum Difference Between Node and Ancestor\n",
    "# Given the root of a binary tree, find the maximum value v for which there exist different nodes a and b where \n",
    "# v = |a.val - b.val| and a is an ancestor of b.\n",
    "# A node a is an ancestor of b if either: any child of a is equal to b or any child of a is an ancestor of b.\n",
    "# official ans beats 62% in time and 87% in space  \n",
    "\n",
    "class Solution:\n",
    "    def maxAncestorDiff(self, root: TreeNode) -> int:\n",
    "        if not root:\n",
    "            return 0\n",
    "\n",
    "        def helper(node, cur_max, cur_min):\n",
    "            # if encounter leaves, return the max-min along the path\n",
    "            if not node:\n",
    "                return cur_max - cur_min  # the only time we want a delta is at a leaf no other time since we want \n",
    "                                          # delta for an entire path which can only be done at a leaf\n",
    "            # else, update max and min\n",
    "            # and return the max of left and right subtrees\n",
    "            cur_max = max(cur_max, node.val)\n",
    "            cur_min = min(cur_min, node.val)\n",
    "            left = helper(node.left, cur_max, cur_min)\n",
    "            right = helper(node.right, cur_max, cur_min)\n",
    "            return max(left, right) # we want the max for the entire tree so between left and right subtrees we want max\n",
    "\n",
    "        return helper(root, root.val, root.val) # root.val bc that is the first num that will be compared to all future nums \n",
    "    \n",
    "A = Solution()\n",
    "B = A.maxAncestorDiff(root)\n",
    "print(B)"
   ]
  },
  {
   "attachments": {},
   "cell_type": "markdown",
   "metadata": {},
   "source": [
    "below is not correct look after it "
   ]
  },
  {
   "cell_type": "code",
   "execution_count": 120,
   "metadata": {},
   "outputs": [
    {
     "name": "stdout",
     "output_type": "stream",
     "text": [
      "4\n"
     ]
    }
   ],
   "source": [
    "# Diameter of Binary Tree\n",
    "# Given the root of a binary tree, return the length of the diameter of the tree.\n",
    "# The diameter of a binary tree is the length of the longest path between any two nodes in a tree. \n",
    "# This path may or may not pass through the root.\n",
    "# The length of a path between two nodes is represented by the number of edges between them.\n",
    "# my attempt\n",
    "\n",
    "class Solution:\n",
    "    def diameterOfBinaryTree(self, root):\n",
    "\n",
    "        if not root or (root.left == None and root.right == None): # if tree is empty or only has root\n",
    "            return 0\n",
    "        \n",
    "        def dfs(node, count):\n",
    "\n",
    "            if node.right == None and node.left == None: # if at leaf return depth count\n",
    "                return count\n",
    "            \n",
    "            count += 1 # increase count as we descend \n",
    "            left = dfs(node.left, count)\n",
    "            right = dfs(node.right, count)\n",
    "\n",
    "            return max(left, right)\n",
    "\n",
    "        if root.left == None:           # if left/right subtree is null we cannot add null to max path of other subtree\n",
    "            return dfs(root.right, 1)   # so we would only return the other subtree. if both subtrees are NOT null\n",
    "        elif root.right == None:        # then we return their sum\n",
    "            return dfs(root.left, 1)\n",
    "        \n",
    "        return dfs(root.left, 1) + dfs(root.right, 1)\n",
    "\n",
    "\n",
    "A = Solution()\n",
    "B = A.diameterOfBinaryTree(root)\n",
    "print(B)"
   ]
  },
  {
   "attachments": {},
   "cell_type": "markdown",
   "metadata": {},
   "source": [
    "below is the correct version of the question above"
   ]
  },
  {
   "cell_type": "code",
   "execution_count": 121,
   "metadata": {},
   "outputs": [
    {
     "name": "stdout",
     "output_type": "stream",
     "text": [
      "4\n"
     ]
    }
   ],
   "source": [
    "# Diameter of Binary Tree\n",
    "# official solution beats 60% in time and 31% in space\n",
    "\n",
    "class Solution:\n",
    "    def diameterOfBinaryTree(self, root: TreeNode) -> int:\n",
    "        diameter = 0\n",
    "\n",
    "        def longest_path(node):\n",
    "            if not node:\n",
    "                return 0\n",
    "            nonlocal diameter # nonlocal means the var from the outer function is accessible to the inner function\n",
    "                        # aka  The nonlocal keyword can be used to access and modify a variable from the nearest enclosing scope\n",
    "\n",
    "            # recursively find the longest path in\n",
    "            # both left child and right child\n",
    "            left_path = longest_path(node.left)\n",
    "            right_path = longest_path(node.right)\n",
    "\n",
    "            # update the diameter if left_path plus right_path is larger\n",
    "            # the longest path will be between two leaves and thus summation of left and right paths is required for this\n",
    "            # max diameter to be found\n",
    "            diameter = max(diameter, left_path + right_path)\n",
    "\n",
    "            # return the longest one between left_path and right_path;\n",
    "            # remember to add 1 for the path connecting the node and its parent\n",
    "            return max(left_path, right_path) + 1 # when recusing up the tree we want to return the largest subpath left or right\n",
    "                    # so that we keep track of the largest path as we return up the tree (see leetcode solution if this seems off)\n",
    "\n",
    "        longest_path(root) # call the helper function to generate longest diameter then return that \n",
    "        return diameter\n",
    "    \n",
    "A = Solution()\n",
    "B = A.diameterOfBinaryTree(root)\n",
    "print(B)"
   ]
  },
  {
   "attachments": {},
   "cell_type": "markdown",
   "metadata": {},
   "source": [
    "#   Binary trees - BFS"
   ]
  },
  {
   "attachments": {},
   "cell_type": "markdown",
   "metadata": {},
   "source": [
    "no revursion here :("
   ]
  },
  {
   "attachments": {},
   "cell_type": "markdown",
   "metadata": {},
   "source": [
    " BFS, we traverse all nodes at a given depth before moving on to the next depth\n",
    " \n",
    " A \"complete\" binary tree is one where every level (except possibly the last) is full, and all the nodes in the last level are as left as possible.\n",
    "\n",
    " - While DFS was implemented using a stack (or recursion, which is basically a stack), BFS is implemented iteratively with a queue. You can implement BFS with recursion, but it wouldn't make sense as it's a lot more difficult without much benefit. As such, we will look only at iterative implementations using a queue."
   ]
  },
  {
   "attachments": {},
   "cell_type": "markdown",
   "metadata": {},
   "source": [
    "When to use BFS vs DFS?"
   ]
  },
  {
   "attachments": {},
   "cell_type": "markdown",
   "metadata": {},
   "source": [
    "- There is a common type of problem that asks for a shortest path. BFS is a much better option than DFS for this, although we won't see it until the next article about graphs."
   ]
  },
  {
   "attachments": {},
   "cell_type": "markdown",
   "metadata": {},
   "source": [
    "- This is the trivial ans\n",
    "implementing DFS is usually quicker because it requires less code, and is easier to implement if using recursion, so for problems where BFS/DFS doesn't matter, most people end up using DFS.\n",
    "but in an interview, you may be asked some trivia regarding BFS vs DFS. The main disadvantage of DFS is that you could end up wasting a lot of time looking for a value. Let's say that you had a huge tree, and you were looking for a value that is stored in the root's right child. If you do DFS prioritizing left before right, then you will search the entire left subtree, which could be hundreds of thousands if not millions of operations. Meanwhile, the node is literally one operation away from the root. The main disadvantage of BFS is that if the node you're searching for is near the bottom, then you will waste a lot of time searching through all the levels to reach the bottom."
   ]
  },
  {
   "attachments": {},
   "cell_type": "markdown",
   "metadata": {},
   "source": [
    "# BFS code implementations"
   ]
  },
  {
   "attachments": {},
   "cell_type": "markdown",
   "metadata": {},
   "source": [
    "you need to remember how to do this from sratch since it can make very hard problems trivial\n",
    "you need to understand exactly how this works "
   ]
  },
  {
   "cell_type": "code",
   "execution_count": 122,
   "metadata": {},
   "outputs": [],
   "source": [
    "# BFS code implementations\n",
    "# if this does not make sense watch the video on it in the class\n",
    "from collections import deque\n",
    "\n",
    "def print_all_nodes(root):\n",
    "    queue = deque([root])\n",
    "    while queue:\n",
    "        nodes_in_current_level = len(queue)\n",
    "        # do some logic here for the current level\n",
    "\n",
    "        for _ in range(nodes_in_current_level):\n",
    "            node = queue.popleft()\n",
    "            \n",
    "            # do some logic here on the current node\n",
    "            print(node.val)\n",
    "\n",
    "            # put the next level onto the queue\n",
    "            if node.left:\n",
    "                queue.append(node.left)\n",
    "            if node.right:\n",
    "                queue.append(node.right)\n",
    "\n",
    "        # sometimes you want to do logic after the for loop..."
   ]
  },
  {
   "cell_type": "code",
   "execution_count": 123,
   "metadata": {},
   "outputs": [],
   "source": [
    "# 199. Binary Tree Right Side View\n",
    "# my attempt works beats 64% in time and 58% in space\n",
    "# basically with BFS this problem which is a medium becomes trivial \n",
    "\n",
    "# Definition for a binary tree node.\n",
    "# class TreeNode:\n",
    "#     def __init__(self, val=0, left=None, right=None):\n",
    "#         self.val = val\n",
    "#         self.left = left\n",
    "#         self.right = right\n",
    "class Solution:\n",
    "    def rightSideView(self, root):\n",
    "        if not root:\n",
    "            return {}\n",
    "        ans = [] # return this later \n",
    "        queue = deque([root])\n",
    "        while queue:\n",
    "            nodes_in_current_level = len(queue)\n",
    "            # do some logic here for the current level\n",
    "            if queue[-1] != None:       # this is what I added to BFS. I check the right side of the curr level and add its val\n",
    "                ans.append(queue[-1].val)       # to the ans since the problem wants that \n",
    "\n",
    "            for _ in range(nodes_in_current_level):\n",
    "                node = queue.popleft()\n",
    "                \n",
    "                # do some logic here on the current node\n",
    "                #print(node.val)\n",
    "\n",
    "                # put the next level onto the queue\n",
    "                if node.left:\n",
    "                    queue.append(node.left)\n",
    "                if node.right:\n",
    "                    queue.append(node.right)\n",
    "\n",
    "        return ans"
   ]
  },
  {
   "cell_type": "code",
   "execution_count": 124,
   "metadata": {},
   "outputs": [
    {
     "name": "stdout",
     "output_type": "stream",
     "text": [
      "3\n",
      "3\n",
      "3\n"
     ]
    }
   ],
   "source": [
    "# testing to see if I can access elements of a queue in the same way I could with a list (you can)\n",
    "from collections import deque\n",
    "\n",
    "test = [1,2,3]\n",
    "Q = deque(test)\n",
    "\n",
    "for i in Q:\n",
    "    print(Q[-1])"
   ]
  },
  {
   "cell_type": "code",
   "execution_count": 125,
   "metadata": {},
   "outputs": [],
   "source": [
    "# Example 2: 515. Find Largest Value in Each Tree Row\n",
    "# Given the root of a binary tree, return an array of the largest value in each row of the tree.\n",
    "# my attempt WORKS beats 10% in time and 25% in space could be better but does work \n",
    "\n",
    "\n",
    "class Solution:\n",
    "    def largestValues(self, root):\n",
    "        if not root:\n",
    "            return []\n",
    "        ans = []\n",
    "        queue = deque([root])\n",
    "        while queue:\n",
    "            nodes_in_current_level = len(queue)\n",
    "            # do some logic here for the current level\n",
    "            temp = []           # I create a temp list which will later have all values of nodes in curr tree level\n",
    "            for i in queue:\n",
    "                temp.append(i.val) # append values of curr level nodes into temp\n",
    "            ans.append(max(temp))  # append max value for curr level into ans. that is all you need to ans the question\n",
    "            \n",
    "            for _ in range(nodes_in_current_level):\n",
    "                node = queue.popleft()\n",
    "                \n",
    "                # do some logic here on the current node\n",
    "                print(node.val)\n",
    "\n",
    "                # put the next level onto the queue\n",
    "                if node.left:\n",
    "                    queue.append(node.left)\n",
    "                if node.right:\n",
    "                    queue.append(node.right)\n",
    "\n",
    "        return ans"
   ]
  },
  {
   "cell_type": "code",
   "execution_count": 126,
   "metadata": {},
   "outputs": [],
   "source": [
    "# Example 2: 515. Find Largest Value in Each Tree Row\n",
    "# official ans beats 66% in time and 94% in space (much better than my attempt but hey i am a noob)\n",
    "\n",
    "class Solution:\n",
    "    def largestValues(self, root):\n",
    "        if not root:\n",
    "            return []\n",
    "        \n",
    "        ans = []\n",
    "        queue = deque([root])\n",
    "        \n",
    "        while queue:\n",
    "            current_length = len(queue)\n",
    "            curr_max = float(\"-inf\") # this will store the largest value for the current level\n",
    "            \n",
    "            for _ in range(current_length):\n",
    "                node = queue.popleft()\n",
    "                curr_max = max(curr_max, node.val) # as we go through the level we update the max val of the nodes we see\n",
    "                if node.left:\n",
    "                    queue.append(node.left)\n",
    "                if node.right:\n",
    "                    queue.append(node.right)\n",
    "            \n",
    "            ans.append(curr_max) # at the end of the while loop we have iterated throught every node in a level\n",
    "                                 # since we kept updating our curr_max for each node in the level, it represents the max node \n",
    "                                 # for a level and thus we append that to anss\n",
    "        return ans\n",
    "    "
   ]
  },
  {
   "cell_type": "code",
   "execution_count": 127,
   "metadata": {},
   "outputs": [],
   "source": [
    "# Deepest Leaves Sum\n",
    "# Given the root of a binary tree, return the sum of values of its deepest leaves.\n",
    "# my attempt (gpt helped me move some of the things I added to the right areas)\n",
    "# beats 55% in time and 92% in space\n",
    "\n",
    "class Solution:\n",
    "    def deepestLeavesSum(self, root):\n",
    "        if not root:\n",
    "            return 0\n",
    "\n",
    "        sum_of_curr_level = 0\n",
    "        num_of_leaves = 0\n",
    "        queue = deque([root])\n",
    "        while queue:\n",
    "            nodes_in_current_level = len(queue)\n",
    "            # do some logic here for the current level\n",
    "            temp = []\n",
    "            for i in queue:\n",
    "                temp.append(i.val)\n",
    "            sum_of_curr_level = sum(temp) # get sum of curr level from temp\n",
    "\n",
    "            for _ in range(nodes_in_current_level):\n",
    "                node = queue.popleft()\n",
    "                \n",
    "                # do some logic here on the current node\n",
    "\n",
    "                if node.left == None and node.right == None:\n",
    "                    num_of_leaves += 1 # found a leaf\n",
    "\n",
    "                # put the next level onto the queue\n",
    "                if node.left:\n",
    "                    queue.append(node.left)\n",
    "                if node.right:\n",
    "                    queue.append(node.right)\n",
    "            # after the for loop we have processed all nodes on a curr level\n",
    "            \n",
    "            if num_of_leaves == nodes_in_current_level: # if all nodes on a curr level are leaves\n",
    "                return sum_of_curr_level\n",
    "\n",
    "            sum_of_curr_level = 0 # reset counters to look for next level \n",
    "            num_of_leaves = 0\n",
    "\n",
    "        return sum_of_curr_level\n",
    "\n",
    "            \n"
   ]
  },
  {
   "cell_type": "code",
   "execution_count": 128,
   "metadata": {},
   "outputs": [],
   "source": [
    "# Deepest Leaves Sum\n",
    "# official solution beats 90% in time and 60% in space \n",
    "# takeaway: since next_level will be null AFTER we process the all leaves node the while loop will end\n",
    "# when the while loop ends the most recent level curr_level will be the deepest level aka the level we want to sum\n",
    "# so they just return the sum of the last level like that\n",
    "\n",
    "# in all future problems keep in min that after the while loop ends the last current level is the deepest level in the tree\n",
    "# which means if we need to do any operations on the deepest level for the problem we can just use this fact to do stuff\n",
    "# after the while loop ends\n",
    "\n",
    "class Solution:\n",
    "    def deepestLeavesSum(self, root: TreeNode) -> int:\n",
    "        next_level = deque([root])\n",
    "        \n",
    "        while next_level:\n",
    "            # prepare for the next level\n",
    "            curr_level = next_level\n",
    "            next_level = deque()\n",
    "            \n",
    "            for node in curr_level:\n",
    "                # add child nodes of the current level\n",
    "                # in the queue for the next level\n",
    "                if node.left:\n",
    "                    next_level.append(node.left)\n",
    "                if node.right:\n",
    "                    next_level.append(node.right)\n",
    "        \n",
    "        return sum([node.val for node in curr_level])"
   ]
  },
  {
   "cell_type": "code",
   "execution_count": 129,
   "metadata": {},
   "outputs": [
    {
     "name": "stdout",
     "output_type": "stream",
     "text": [
      "[[0], [2, 1], [3, 4, 5, 6]]\n"
     ]
    }
   ],
   "source": [
    "# Binary Tree Zigzag Level Order Traversal\n",
    "# Given the root of a binary tree, return the zigzag level order traversal of its nodes' values. \n",
    "# (i.e., from left to right, then right to left for the next level and alternate between).\n",
    "# my attempt WORKS beats 87% in time and 47% in space\n",
    "# one time it beat 99 in time and 93% in space (luck?)\n",
    "\n",
    "class Solution:\n",
    "    def zigzagLevelOrder(self, root):\n",
    "        if not root: # edge case where tree is null\n",
    "            return []\n",
    "        ans = []\n",
    "        order = 'left' # starts left then we alternate as we descend the tree\n",
    "\n",
    "        queue = deque([root])\n",
    "        while queue:\n",
    "            nodes_in_current_level = len(queue)\n",
    "            # we always create a temp arr and put whatever nodes are in the curr level in there\n",
    "            temp = []\n",
    "            for i in queue:\n",
    "                temp.append(i.val)\n",
    "\n",
    "            if order == 'left': # if we are left ordering we append the temp as normal since it counter left to right\n",
    "                ans.append(temp)\n",
    "                order = 'right'\n",
    "            else:\n",
    "                reverse_temp = [] # if order is right we must reverse temp and append that to ans.\n",
    "                i = len(temp) - 1\n",
    "                while i > -1:\n",
    "                    reverse_temp.append(temp[i])\n",
    "                    i -= 1\n",
    "                ans.append(reverse_temp)\n",
    "                order = 'left'\n",
    "                    \n",
    "            for _ in range(nodes_in_current_level):\n",
    "                node = queue.popleft()\n",
    "                \n",
    "                # put the next level onto the queue\n",
    "                if node.left:\n",
    "                    queue.append(node.left)\n",
    "                if node.right:\n",
    "                    queue.append(node.right)\n",
    "        return ans\n",
    "\n",
    "A = Solution()\n",
    "B = A.zigzagLevelOrder(root)\n",
    "print(B)"
   ]
  },
  {
   "attachments": {},
   "cell_type": "markdown",
   "metadata": {},
   "source": [
    "#   Binary search trees"
   ]
  },
  {
   "attachments": {},
   "cell_type": "markdown",
   "metadata": {},
   "source": [
    "A binary search tree (BST) is a type of binary tree. In a BST, at any given node, let's say your data is val. All data in the left subtree is less than val, and all data in the right subtree is greater than val. \n",
    "\n",
    "With a binary search tree, operations like searching, adding, and removing can be done in \n",
    "\n",
    "O(logn) time on average, where n is the number of nodes in the tree, using something called binary search\n",
    "\n",
    "O(n) time for worst case where it is a straight shot to the item (like a linked list )\n",
    "\n",
    "Trivia to know: an inorder DFS traversal prioritizing left before right on a BST will visit the nodes in sorted order."
   ]
  },
  {
   "cell_type": "code",
   "execution_count": 130,
   "metadata": {},
   "outputs": [],
   "source": [
    "# 938. Range Sum of BST\n",
    "# Given the root node of a binary search tree and two integers low and high, return the sum of values of \n",
    "# all nodes with a value in the inclusive range [low, high].\n",
    "# my attempt WORKS but only beats 5% in time and 7% in space yikes BUT IT WORKS AND IT WAS EZ \n",
    "\n",
    "class Solution:\n",
    "    def rangeSumBST(self, root, low, high):\n",
    "        ans = 0\n",
    "        queue = deque([root])\n",
    "        while queue:\n",
    "            nodes_in_current_level = len(queue)\n",
    "            # do some logic here for the current level\n",
    "            \n",
    "            for _ in range(nodes_in_current_level):\n",
    "                node = queue.popleft()\n",
    "                if node.val >= low and node.val <= high:\n",
    "                    ans += node.val\n",
    "                \n",
    "                # do some logic here on the current node\n",
    "                print(node.val)\n",
    "\n",
    "                # put the next level onto the queue\n",
    "                if node.left:\n",
    "                    queue.append(node.left)\n",
    "                if node.right:\n",
    "                    queue.append(node.right)\n",
    "\n",
    "            # sometimes you want to do logic after the for loop..."
   ]
  },
  {
   "attachments": {},
   "cell_type": "markdown",
   "metadata": {},
   "source": [
    "Yes your approach above works but... it is the trivial approach which does not take advantage of BST\n",
    "\n",
    "The trivial approach would be to do a normal BFS or DFS, visit every node, and only add nodes whose values are between low and high to the sum. However, we can make use of the BST property to develop a more efficient algorithm. In a BST, every node has a value greater than all nodes in the left subtree and a value less than all nodes in the right subtree. Therefore, if the current node's value is less than low, we know it is pointless to check the left subtree. Similarly, if the current node's value is greater than high, it is pointless to check the right subtree. This optimization can save a potentially huge amount of computation."
   ]
  },
  {
   "cell_type": "code",
   "execution_count": 132,
   "metadata": {},
   "outputs": [
    {
     "name": "stdout",
     "output_type": "stream",
     "text": [
      "7\n"
     ]
    }
   ],
   "source": [
    "# 938. Range Sum of BST\n",
    "# my attempt to use BST principles in the solution...\n",
    "# lets try to do DFS and add logic from BST.. it works but I needed a bit of help from chatbot beats 77% in time and 7.7 in space\n",
    "\n",
    "class Solution:\n",
    "    def rangeSumBST(self, root, low, high):\n",
    "\n",
    "        ans = []\n",
    "        def dfs(node, low, high):\n",
    "            nonlocal ans\n",
    "\n",
    "            if node is None:\n",
    "                return \n",
    "            \n",
    "            if node.val <= high and node.val >= low:\n",
    "                ans.append(node.val)\n",
    "            \n",
    "            if node.val > low:\n",
    "                dfs(node.left, low, high)\n",
    "\n",
    "            if node.val < high:\n",
    "                dfs(node.right, low, high)\n",
    "\n",
    "        dfs(root, low, high)\n",
    "        return sum(ans)\n",
    "\n",
    "    \n",
    "A = Solution()\n",
    "B = A.rangeSumBST(root, 0, 5)\n",
    "print(B) # ans seems wrong on here (maybe I am thinking wrong) but it works on leetcode"
   ]
  },
  {
   "cell_type": "code",
   "execution_count": 134,
   "metadata": {},
   "outputs": [
    {
     "name": "stdout",
     "output_type": "stream",
     "text": [
      "7\n"
     ]
    }
   ],
   "source": [
    "# 938. Range Sum of BST\n",
    "# official ans beats 92% and 86% space\n",
    "\n",
    "class Solution:\n",
    "    def rangeSumBST(self, root, low, high):\n",
    "        if not root:\n",
    "            return 0\n",
    "\n",
    "        ans = 0\n",
    "        if low <= root.val <= high: # lol this would not work in C/C++ Java or MATLAB but it does in py\n",
    "            ans += root.val\n",
    "        # why the if statements below?\n",
    "        # the further left you go in a BST the lower the values become, so then if our curr node.val is too low\n",
    "        # there is no point in going further to the left. since futher to the left would result in smaller nodes\n",
    "        # our node is already too small so next best move is to skip all further left nodes\n",
    "        # how can you do this? putting your recursive call in an if statement such as below\n",
    "        # the same logic applies to the high node.\n",
    "        if low < root.val:      # \n",
    "            ans += self.rangeSumBST(root.left, low, high)\n",
    "        if root.val < high:\n",
    "            ans += self.rangeSumBST(root.right, low, high)\n",
    "\n",
    "        return ans\n",
    "    \n",
    "A = Solution()\n",
    "B = A.rangeSumBST(root, 0, 5)\n",
    "print(B)"
   ]
  },
  {
   "cell_type": "code",
   "execution_count": 136,
   "metadata": {},
   "outputs": [],
   "source": [
    "# iterative version of whats above\n",
    "class Solution:\n",
    "    def rangeSumBST(self, root, low, high):\n",
    "        stack = [root]\n",
    "        ans = 0\n",
    "        while stack:\n",
    "            node = stack.pop()\n",
    "            if low <= node.val <= high:\n",
    "                ans += node.val\n",
    "            if node.left and low < node.val:\n",
    "                stack.append(node.left)\n",
    "            if node.right and node.val < high:\n",
    "                stack.append(node.right)\n",
    "            \n",
    "        return ans"
   ]
  },
  {
   "cell_type": "code",
   "execution_count": 6,
   "metadata": {},
   "outputs": [
    {
     "name": "stdout",
     "output_type": "stream",
     "text": [
      "1\n"
     ]
    }
   ],
   "source": [
    "# find smallest absolute difference between elements in list\n",
    "l1 = [1,4,6,9,15,16]\n",
    "ans = float(\"inf\") # needs to be inf so next value is going to be lower for sure \n",
    "for i in range(len(l1) - 1):\n",
    "    ans = min(ans, l1[i + 1] - l1[i])\n",
    "print(ans)"
   ]
  },
  {
   "cell_type": "code",
   "execution_count": 8,
   "metadata": {},
   "outputs": [
    {
     "name": "stdout",
     "output_type": "stream",
     "text": [
      "1\n"
     ]
    }
   ],
   "source": [
    "# find smallest absolute difference between elements in list in the style of the official solution below\n",
    "l1 = [1,4,6,9,15,16]\n",
    "ans = float(\"inf\") # needs to be inf so next value is going to be lower for sure \n",
    "for i in range(1, len(l1)):\n",
    "    ans = min(ans, l1[i] - l1[i - 1])\n",
    "print(ans)"
   ]
  },
  {
   "cell_type": "code",
   "execution_count": 10,
   "metadata": {},
   "outputs": [],
   "source": [
    "# Example 2: 530. Minimum Absolute Difference in BST\n",
    "# Given the root of a BST, return the minimum absolute difference between the values of any two different nodes in the tree.\n",
    "# official solution beats 93% in time and 7% in space\n",
    "\n",
    "class Solution:\n",
    "    def getMinimumDifference(self, root):\n",
    "        def dfs(node):\n",
    "            if not node:\n",
    "                return [] \n",
    "            \n",
    "            left = dfs(node.left)\n",
    "            right = dfs(node.right)\n",
    "            return left + [node.val] + right # concatinate all node.val order matters here\n",
    "            # left is smaller than node.val which is smaller than right due to the def of BST\n",
    "\n",
    "        values = dfs(root) # calling helper will return a sorted list of all values in BST \n",
    "        ans = float(\"inf\")\n",
    "        for i in range(1, len(values)):             # this is comparing i to its previous index aka i-1 and saving the min delta\n",
    "            ans = min(ans, values[i] - values[i - 1]) # this method works only in a sorted list \n",
    "        \n",
    "        return ans"
   ]
  },
  {
   "cell_type": "code",
   "execution_count": 3,
   "metadata": {},
   "outputs": [
    {
     "name": "stdout",
     "output_type": "stream",
     "text": [
      "[1, 1, 1]\n"
     ]
    }
   ],
   "source": [
    "l1 = [1]\n",
    "l2 = [1]\n",
    "l3 = [1]\n",
    "l4 = l1 + l2 + l3 # in the above solution we concatinate and return that for ans later\n",
    "print(l4)"
   ]
  },
  {
   "cell_type": "code",
   "execution_count": 12,
   "metadata": {},
   "outputs": [],
   "source": [
    "# Iterative approach of what is above \n",
    "class Solution:\n",
    "    def getMinimumDifference(self, root):\n",
    "        def iterative_inorder(root):\n",
    "            stack = []\n",
    "            values = []\n",
    "            curr = root\n",
    "\n",
    "            while stack or curr:\n",
    "                if curr:\n",
    "                    stack.append(curr)\n",
    "                    curr = curr.left\n",
    "                else:\n",
    "                    curr = stack.pop()\n",
    "                    values.append(curr.val)\n",
    "                    curr = curr.right\n",
    "            \n",
    "            return values\n",
    "        \n",
    "        values = iterative_inorder(root)\n",
    "        ans = float(\"inf\")\n",
    "        for i in range(1, len(values)):\n",
    "            ans = min(ans, values[i] - values[i - 1])\n",
    "        \n",
    "        return ans"
   ]
  },
  {
   "cell_type": "code",
   "execution_count": null,
   "metadata": {},
   "outputs": [],
   "source": [
    "# Example 2: 112. Path Sum\n",
    "# Given the root of a binary tree and an integer targetSum, return true if there is a path from the root to a leaf such that \n",
    "# the sum of the nodes on the path is equal to targetSum, and return false otherwise.\n",
    "\n",
    "class Solution:\n",
    "    def hasPathSum(self, root, targetSum):\n",
    "        def dfs(node, curr):\n",
    "            if not node: # checks obv bad case where tree is empty\n",
    "                return False\n",
    "            \n",
    "            # if both children are null, then the node is a leaf\n",
    "            if node.left == None and node.right == None:\n",
    "                return (curr + node.val) == targetSum # at the leaf we check if the path sum is the target\n",
    "            \n",
    "            curr += node.val\n",
    "            left = dfs(node.left, curr)         \n",
    "            right = dfs(node.right, curr)\n",
    "            return left or right\n",
    "        \n",
    "        return dfs(root, 0) # start with a sum of 0 since initially the root cannot be summed without a path\n",
    "                            # basically we start with 0 and count increases as we descend the tree\n",
    "A = Solution()\n",
    "B = A.hasPathSum(root, 4)\n",
    "print(B)"
   ]
  },
  {
   "attachments": {},
   "cell_type": "markdown",
   "metadata": {},
   "source": [
    "Note below code only works 75% of the time so skip to official solution below it "
   ]
  },
  {
   "cell_type": "code",
   "execution_count": 25,
   "metadata": {},
   "outputs": [],
   "source": [
    "# Example 3: 98. Validate Binary Search Tree\n",
    "# Given the root of a binary tree, determine if it is a valid BST.\n",
    "# my attempt\n",
    "\n",
    "# 1 pass parent node.val into child\n",
    "# 2 know that curr node was reached via left or right\n",
    "# 3 avoid issues with the root being the input\n",
    "\n",
    "class Solution:\n",
    "    def isValidBST(self, root):\n",
    "\n",
    "        mid_val = root.val\n",
    "        \n",
    "        def dfs(node, prev_val, dir):\n",
    "            nonlocal mid_val\n",
    "\n",
    "            if not node:\n",
    "                return True\n",
    "            \n",
    "            if dir != 'start':\n",
    "                if dir == 'left':\n",
    "                    if node.val < prev_val and node.val < mid_val:\n",
    "                        return True\n",
    "                    elif node.val >= prev_val and node.val >= mid_val:\n",
    "                        return False\n",
    "                elif dir == 'right':\n",
    "                    if node.val > prev_val and node.val > mid_val:\n",
    "                        return True\n",
    "                    elif node.val <= prev_val and node.val <= mid_val:\n",
    "                        return False\n",
    "            \n",
    "            prev_val = node.val # I want to pass the prev node.val in to the child node\n",
    "\n",
    "            left = dfs(node.left, prev_val, 'left')\n",
    "            right = dfs(node.right, prev_val, 'right')\n",
    "\n",
    "\n",
    "            if left == True and right == True:\n",
    "                return True\n",
    "            else:\n",
    "                return False\n",
    "            \n",
    "        return dfs(root, root.val, 'start')\n",
    "\n",
    "\n"
   ]
  },
  {
   "cell_type": "code",
   "execution_count": 21,
   "metadata": {},
   "outputs": [
    {
     "name": "stdout",
     "output_type": "stream",
     "text": [
      "False\n"
     ]
    }
   ],
   "source": [
    "A = True\n",
    "B = False\n",
    "\n",
    "if A == True and B == True:\n",
    "    print('True')\n",
    "else:\n",
    "    print('False')"
   ]
  },
  {
   "attachments": {},
   "cell_type": "markdown",
   "metadata": {},
   "source": [
    "official solution to check if a given tree is a BST"
   ]
  },
  {
   "attachments": {},
   "cell_type": "markdown",
   "metadata": {},
   "source": [
    "[AAA] Why do we have to return False if our base case returns True? From Chat gpt3: Yes, you were correct that in general, when using DFS to solve problems on binary trees where a question above them must result in a true or false outcome, it is necessary to have at least one statement return true and at least one statement return false. This is because without such statements, the algorithm may always return true or always return false, which would render it useless in solving the problem."
   ]
  },
  {
   "cell_type": "code",
   "execution_count": 31,
   "metadata": {},
   "outputs": [],
   "source": [
    "# Example 3: 98. Validate Binary Search Tree\n",
    "# beats 87% in time and 70% in space\n",
    "\n",
    "class Solution:\n",
    "    def isValidBST(self, root):\n",
    "        def dfs(node, small, large):\n",
    "            # If the node is null, we've reached the end of a branch and it's a valid BST.\n",
    "            if not node:        \n",
    "                return True\n",
    "            \n",
    "            # If the node's value is not within the range defined by the parent node, it's not a valid BST.\n",
    "# AAA       # see markdown above [AAA] for more info. thus we need the node condition to return False since base case returns True\n",
    "            if not (small < node.val < large):\n",
    "                return False\n",
    "\n",
    "            # Traverse the left and right subtrees, updating the range accordingly.\n",
    "            # If both subtrees are valid BSTs, the entire tree is a valid BST.\n",
    "            left = dfs(node.left, small, node.val) # Going left means values are smaller, so we update the upper bound.\n",
    "            right = dfs(node.right, node.val, large) # The next value can be infinitely smaller than the current node, \n",
    "                                                     # but it must not be greater than the current node. The current node \n",
    "                                                     # is the parent node.\n",
    "\n",
    "            return left and right\n",
    "\n",
    "        # Call the recursive DFS function with an initial range of -inf to +inf.\n",
    "        return dfs(root, float(\"-inf\"), float(\"inf\")) \n",
    "        # We use infinity because the root can take any value between -inf and +inf.\n"
   ]
  },
  {
   "cell_type": "code",
   "execution_count": 30,
   "metadata": {},
   "outputs": [],
   "source": [
    "# Iterative version of whats above\n",
    "class Solution:\n",
    "    def isValidBST(self, root):\n",
    "        stack = [(root, float(\"-inf\"), float(\"inf\"))]\n",
    "        while stack:\n",
    "            node, small, large = stack.pop()\n",
    "            if not (small < node.val < large):\n",
    "                return False\n",
    "            \n",
    "            if node.left:\n",
    "                stack.append((node.left, small, node.val))\n",
    "            if node.right:\n",
    "                stack.append((node.right, node.val, large))\n",
    "        \n",
    "        return True"
   ]
  },
  {
   "cell_type": "code",
   "execution_count": 34,
   "metadata": {},
   "outputs": [],
   "source": [
    "# Insert into a Binary Search Tree\n",
    "# my attempt WORKS and beats 61% in time and 86% in space! this was a medium problem! done under 45 mins! \n",
    "\n",
    "class Solution:\n",
    "    def insertIntoBST(self, root, val: int):\n",
    "        if not root:                # if we are given an empty tree then our val IS the tree now!\n",
    "            new_node = TreeNode(val)\n",
    "            return new_node          \n",
    "        def dfs(node, val, status):\n",
    "            if status == 'added': # if the job is done leave\n",
    "                return\n",
    "            \n",
    "            if not node: # base case is returns nothing since there is nothing to return we only have to add!\n",
    "                return\n",
    "            \n",
    "            if node.right == None and node.left == None: # if we are at a leaf we see if we should add the new node\n",
    "                if val > node.val:\n",
    "                    new_node = TreeNode(val)\n",
    "                    node.right = new_node\n",
    "                    status = 'added'\n",
    "                else: \n",
    "                    new_node = TreeNode(val)\n",
    "                    node.left = new_node                    \n",
    "                    status = 'added'\n",
    "            elif node.right == None and val > node.val: # if right or left pointers are null for curr node we see if\n",
    "                    new_node = TreeNode(val)            # the conditions are met to add\n",
    "                    node.right = new_node               # there are only 3 cases to add stuff if left or right is null\n",
    "                    status = 'added'                    # and if both left and right are null\n",
    "            elif node.left == None and val < node.val:\n",
    "                    new_node = TreeNode(val)\n",
    "                    node.left = new_node                    \n",
    "                    status = 'added'                \n",
    "\n",
    "            if node.val < val:              # we traverse the tree depending on the node.val this takes advantage of BSTs\n",
    "                dfs(node.right, val, status) # recall left is smaller and right is larger so we traversed based on that!\n",
    "            if node.val > val:\n",
    "                dfs(node.left, val, status)\n",
    "        dfs(root, val, 'not_added') # adds val\n",
    "        return root # returns modified BST from root\n",
    "        "
   ]
  },
  {
   "attachments": {},
   "cell_type": "markdown",
   "metadata": {},
   "source": [
    "code below is the cleaner version of doing my code above... I must say the solution they used is super smart"
   ]
  },
  {
   "cell_type": "code",
   "execution_count": null,
   "metadata": {},
   "outputs": [],
   "source": [
    "# Insert into a Binary Search Tree\n",
    "# official solution is much cleaner tbh\n",
    "\n",
    "class Solution:\n",
    "    def insertIntoBST(self, root, val):\n",
    "        if not root:\n",
    "            return TreeNode(val) # this is how they add the node they dont even need to point to it since 'not root' is being \n",
    "                                 # pointed to by another node already in the tree... very smart\n",
    "        \n",
    "        if val > root.val:                      # based on the conditions they can guide the curr node to be empty to do above\n",
    "            # insert into the right subtree\n",
    "            root.right = self.insertIntoBST(root.right, val)\n",
    "        else:\n",
    "            # insert into the left subtree\n",
    "            root.left = self.insertIntoBST(root.left, val)\n",
    "        return root"
   ]
  },
  {
   "attachments": {},
   "cell_type": "markdown",
   "metadata": {},
   "source": [
    "Closest Binary Search Tree Value"
   ]
  },
  {
   "attachments": {},
   "cell_type": "markdown",
   "metadata": {},
   "source": [
    "ALSO lambda functions AND how they can modify the built in functions in python"
   ]
  },
  {
   "cell_type": "code",
   "execution_count": 10,
   "metadata": {},
   "outputs": [],
   "source": [
    "# Closest Binary Search Tree Value\n",
    "# official solution But I made it more readable (less hardcore i know i know)\n",
    "\n",
    "\n",
    "class Solution:\n",
    "    def closestValue(self, root, target):\n",
    "        def inorder(node):\n",
    "            if node:\n",
    "                return inorder(node.left) + [node.val] + inorder(node.right) # this will sort the tree\n",
    "            # since recall when you in order dfs through a bst you visit each node as if it were sorted (trivia that matters) \n",
    "            else:\n",
    "                return []\n",
    "        # the in order function returns a sorted list of all elements in bst.\n",
    "        # Lambda functions are a way to write a function without a name in one line. so they are just functions\n",
    "# in this case our function takes in parameter \"x\" and takes the absolute difference between a target and \"x\"\n",
    "# we assign this function to \"key\". for built in functions in python if we pass in a function such as \"key\"\n",
    "# we actually modify the use of the built in function. \n",
    "# normally min returns the min value between \"values that can be compared\" for ex\n",
    "# \n",
    "# min([\"apple\", \"banana\", \"cherry\"])\n",
    "# 'apple'\n",
    "# \n",
    "# here min did an alphabetical comparison for the strings. But if you were to give min a string and int it would break since\n",
    "# those are not \"values that can be compared\"\n",
    "\n",
    "# in our case if we pass it a key variable that is assigned a function (or lambda function in our case) it will change \n",
    "# the function of min to take the first argument as an input to the second (function) argument. you cannot have more than \n",
    "# two arguments when doing this\n",
    "# essentially lambda functions can allow us to modify the default use of many built in fucntions (such as  min or max) in python\n",
    "# so back to this code\n",
    "# the first argument of min is inorder(root) which returns a list of the sorted values of the BST\n",
    "# the second argument is the lambda function which will now take in the first argument of min to be the lambda function arguments\n",
    "# so finally the min function will return the min value of the OUTPUTS of the lambda function \n",
    "\n",
    "# in summary: min takes inorder(root) as a list for the first arg. key takes the that first arg to be ITS own arg.\n",
    "# result is a list of absolute difference as an arg for the min functino. then the min function returns the min(abs diff)\n",
    "\n",
    "        return min(inorder(root), key = lambda x: abs(target - x)) "
   ]
  },
  {
   "cell_type": "code",
   "execution_count": null,
   "metadata": {},
   "outputs": [],
   "source": [
    "# official solution in its original form I thought this was harder to read than above\n",
    "# beats 60% in time and 70% in space \n",
    "class Solution:\n",
    "    def closestValue(self, root: TreeNode, target: float) -> int:\n",
    "        def inorder(r: TreeNode):\n",
    "            return inorder(r.left) + [r.val] + inorder(r.right) if r else []\n",
    "        \n",
    "        return min(inorder(root), key = lambda x: abs(target - x))"
   ]
  },
  {
   "cell_type": "code",
   "execution_count": 6,
   "metadata": {},
   "outputs": [
    {
     "name": "stdout",
     "output_type": "stream",
     "text": [
      "[1]\n"
     ]
    }
   ],
   "source": [
    "# when you concatinate an empty list with a nonempty list the empty list \"vanishes\" and has no effect\n",
    "# for the solutions above they take advatage of this at the lead nodes\n",
    "l1 = []\n",
    "l3 = []\n",
    "l2 = [1]\n",
    "print(l1+l2+l3)"
   ]
  },
  {
   "attachments": {},
   "cell_type": "markdown",
   "metadata": {},
   "source": [
    "# List comprehension vs Generators "
   ]
  },
  {
   "attachments": {},
   "cell_type": "markdown",
   "metadata": {},
   "source": [
    "Both are shorthand ways to write For loops. \n",
    "\n",
    "List comprehension is used when you want to generate a new list in memory that you can use or manipulate later on. The list is created and stored in memory as soon as the list comprehension is executed. The resulting list can be accessed multiple times and it can be modified as needed.\n",
    "\n",
    "Generator expressions, on the other hand, are used when you want to generate values on-the-fly, without having to store them all in memory at once. A generator expression generates a generator object, which is an iterator that generates values one at a time as they are requested. This can be more memory-efficient than creating a list when working with large datasets, as only one value is generated at a time, which can help reduce memory usage."
   ]
  },
  {
   "cell_type": "code",
   "execution_count": 6,
   "metadata": {},
   "outputs": [
    {
     "name": "stdout",
     "output_type": "stream",
     "text": [
      "[1, 4, 9, 16, 25]\n",
      "[1, 4, 9, 16, 25]\n"
     ]
    }
   ],
   "source": [
    "# List comprehension\n",
    "squares = [num ** 2 for num in range(1, 6)]\n",
    "print(squares)  # Output: [1, 4, 9, 16, 25]\n",
    "\n",
    "# Generator expression\n",
    "# more mem efficient since you make values on the fly and note you have to use list() to print them since vals are not stored \n",
    "# unliked with list comprehension\n",
    "squares_generator = (num ** 2 for num in range(1, 6))\n",
    "print(list(squares_generator))  # Output: [1, 4, 9, 16, 25]\n"
   ]
  },
  {
   "attachments": {},
   "cell_type": "markdown",
   "metadata": {},
   "source": [
    "# Basic Lambda funtion tests "
   ]
  },
  {
   "attachments": {},
   "cell_type": "markdown",
   "metadata": {},
   "source": [
    "WHEN ARE THEY USED === SORTING AND SEARCHING In LeetCode, lambda functions and keys are used quite frequently, especially in problems that involve sorting and searching. For example, in problems that require sorting a list of items based on some criteria, a key function can be used with the built-in sorted() function to determine the sorting order. Similarly, in problems that involve searching for an item in a list or dictionary, a key function can be used with the min() or max() functions to determine the search criteria. Lambda functions are often used in these key functions since they allow for concise, one-line expressions that can be easily passed as arguments to other functions."
   ]
  },
  {
   "cell_type": "code",
   "execution_count": 19,
   "metadata": {},
   "outputs": [
    {
     "data": {
      "text/plain": [
       "6"
      ]
     },
     "execution_count": 19,
     "metadata": {},
     "output_type": "execute_result"
    }
   ],
   "source": [
    "# lambda function tests\n",
    "# creating a simple lambda function \n",
    "key = lambda x: x + x^2 # so you can make a function quick in one line and use it later\n",
    "key(2)"
   ]
  },
  {
   "attachments": {},
   "cell_type": "markdown",
   "metadata": {},
   "source": [
    "Write a lambda function that takes in a string and returns the first letter of the string in uppercase."
   ]
  },
  {
   "cell_type": "code",
   "execution_count": 18,
   "metadata": {},
   "outputs": [
    {
     "data": {
      "text/plain": [
       "'L'"
      ]
     },
     "execution_count": 18,
     "metadata": {},
     "output_type": "execute_result"
    }
   ],
   "source": [
    "key = lambda x: x[0].upper()\n",
    "key('lol')"
   ]
  },
  {
   "attachments": {},
   "cell_type": "markdown",
   "metadata": {},
   "source": [
    "Given a list of dictionaries where each dictionary contains information about a person (name, age, occupation), sort the list based on the age of each person in ascending order."
   ]
  },
  {
   "cell_type": "code",
   "execution_count": 21,
   "metadata": {},
   "outputs": [],
   "source": [
    "people = [    {'name': 'John', 'age': 25},    {'name': 'Jane', 'age': 21},    {'name': 'Bob', 'age': 30}]\n",
    "sorted_people = sorted(people, key=lambda x: x['age'])"
   ]
  },
  {
   "attachments": {},
   "cell_type": "markdown",
   "metadata": {},
   "source": [
    "Write a lambda function that takes in a list of integers and returns the sum of all even numbers.\n",
    "\n",
    "Example input: [2, 5, 8, 10, 13]\n",
    "\n",
    "Expected output: 20"
   ]
  },
  {
   "cell_type": "code",
   "execution_count": 17,
   "metadata": {},
   "outputs": [
    {
     "name": "stdout",
     "output_type": "stream",
     "text": [
      "20\n"
     ]
    }
   ],
   "source": [
    "input = [2, 5, 8, 10, 13]\n",
    "# given x%2 == 0 # is even else odd\n",
    "out = sum(filter(lambda x: x if x%2 == 0 else 0 , input)) # filter takes in 2 args 1 function and 1 iterable\n",
    "print(out)"
   ]
  },
  {
   "attachments": {},
   "cell_type": "markdown",
   "metadata": {},
   "source": [
    "Write a lambda function that takes in a list of strings and returns the list sorted in descending order based on the length of each string.\n",
    "\n",
    "Example input: ['apple', 'banana', 'cherry', 'date']\n",
    "\n",
    "Expected output: ['banana', 'cherry', 'apple', 'date']"
   ]
  },
  {
   "cell_type": "code",
   "execution_count": 20,
   "metadata": {},
   "outputs": [
    {
     "name": "stdout",
     "output_type": "stream",
     "text": [
      "['elderberry', 'banana', 'cherry', 'apple', 'date']\n"
     ]
    }
   ],
   "source": [
    "input = [\"apple\", \"banana\", \"cherry\", \"date\", \"elderberry\"]\n",
    "out = sorted(input, key=lambda s: len(s), reverse=True) # the output of key will be used as the sorting criteria for the input\n",
    "print(out)"
   ]
  },
  {
   "attachments": {},
   "cell_type": "markdown",
   "metadata": {},
   "source": [
    "Write a lambda function that takes in a list of tuples and returns a list of the second elements of each tuple, sorted in ascending order.\n",
    "\n",
    "Example input: [(1, 'apple'), (3, 'banana'), (2, 'cherry')]\n",
    "\n",
    "Expected output: ['apple', 'cherry', 'banana']"
   ]
  },
  {
   "cell_type": "code",
   "execution_count": 34,
   "metadata": {},
   "outputs": [
    {
     "name": "stdout",
     "output_type": "stream",
     "text": [
      "['apple', 'banana', 'cherry']\n"
     ]
    }
   ],
   "source": [
    "input = [(1, 'apple'), (3, 'banana'), (2, 'cherry')]\n",
    "out = sorted(input, key=lambda x: x[1])\n",
    "result = [x[1] for x in out] # x is referring to the element in input NOT input itself \n",
    "print(result)"
   ]
  },
  {
   "attachments": {},
   "cell_type": "markdown",
   "metadata": {},
   "source": [
    "Write a lambda function that takes in a dictionary and returns a list of all the values in the dictionary that are even numbers.\n",
    "\n",
    "Example input: {'a': 2, 'b': 5, 'c': 8, 'd': 3, 'e': 10}\n",
    "\n",
    "Expected output: [2, 8, 10]"
   ]
  },
  {
   "cell_type": "code",
   "execution_count": 38,
   "metadata": {},
   "outputs": [
    {
     "name": "stdout",
     "output_type": "stream",
     "text": [
      "[2, 8, 10]\n"
     ]
    }
   ],
   "source": [
    "input = {'a': 2, 'b': 5, 'c': 8, 'd': 3, 'e': 10}\n",
    "out = list(filter(lambda x: x%2 == 0, input.values()))\n",
    "print(out)"
   ]
  }
 ],
 "metadata": {
  "kernelspec": {
   "display_name": "Python 3",
   "language": "python",
   "name": "python3"
  },
  "language_info": {
   "codemirror_mode": {
    "name": "ipython",
    "version": 3
   },
   "file_extension": ".py",
   "mimetype": "text/x-python",
   "name": "python",
   "nbconvert_exporter": "python",
   "pygments_lexer": "ipython3",
   "version": "3.12.0"
  },
  "orig_nbformat": 4
 },
 "nbformat": 4,
 "nbformat_minor": 2
}
