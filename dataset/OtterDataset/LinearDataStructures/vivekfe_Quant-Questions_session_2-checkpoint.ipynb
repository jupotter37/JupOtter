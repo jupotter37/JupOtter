{
 "cells": [
  {
   "cell_type": "markdown",
   "metadata": {},
   "source": [
    "## 1. Introduction"
   ]
  },
  {
   "cell_type": "markdown",
   "metadata": {},
   "source": [
    "### 1.1 IQ seminars\n",
    "\n",
    "Interview preparation."
   ]
  },
  {
   "cell_type": "markdown",
   "metadata": {},
   "source": [
    "### 1.2 Schedule of programming IQ seminar\n",
    "\n",
    "##### Theoretical - \n",
    "\n",
    "Data structures: \n",
    "\n",
    "<img src='datastructure.png'>\n",
    "\n",
    "Algorithms: \n",
    "\n",
    "* Sorting algos\n",
    "\n",
    "<img src=\"sort.png\">\n",
    "\n",
    "* Heap Operations\n",
    "\n",
    "<img src='heap.png'>\n",
    "\n",
    "http://bigocheatsheet.com/\n",
    "\n",
    "##### Practical- \n",
    "\n",
    "* Algorithms: Leetcode (https://leetcode.com/problemset/algorithms/)\n",
    "\n",
    "<img src='leetcode2.png'>\n",
    "\n",
    "* Data structures: HackerRank (https://www.hackerrank.com/domains/data-structures/linked-lists\n",
    "\n",
    "<img src='hackerrank.png'>"
   ]
  },
  {
   "cell_type": "markdown",
   "metadata": {},
   "source": [
    "### 1.3 Programming Language\n",
    "\n",
    "Both C++ (STL, Boost) and Python (Numpy, Scipy, Pandas).\n",
    "\n",
    "#### Main programming language in industry \n",
    "\n",
    "* Goldman Sachs: Slang\n",
    "* Morgan Stanley: Q\n",
    "* JP Morgan: Python\n",
    "* Bank of America Merrill Lynch: Python\n",
    "* Jane Street: Ocaml\n",
    "* Two Sigma: Java\n",
    "* AQR: Python\n",
    "* KCG: C++/Python\n",
    "\n",
    "C++ is used everywhere, Python is widely used in financial industry."
   ]
  },
  {
   "cell_type": "markdown",
   "metadata": {},
   "source": [
    "### 1.4 Objective\n",
    "\n",
    "* Interested in coding.\n",
    "* Know how to prepare programming interview. "
   ]
  },
  {
   "cell_type": "markdown",
   "metadata": {},
   "source": [
    "## 2. Example"
   ]
  },
  {
   "cell_type": "markdown",
   "metadata": {},
   "source": [
    "### 2.1 Basic (Sunrise Trading)\n",
    "\n",
    "##### 2.1.1 Length of data types\n",
    "\n",
    "<img src='datatypes.png'>\n",
    "\n",
    "##### 2.1.2 Difference between `override` and `overload`\n",
    "\n",
    "Override: Method overriding, in object oriented programming, is a language feature that allows a subclass or child class to provide a specific implementation of a method that is already provided by one of its superclasses or parent classes. \n",
    "\n",
    "Overload: In programming, operator overloading—less commonly known as operator ad hoc polymorphism—is a specific case of polymorphism, where different operators have different implementations depending on their arguments.\n",
    "\n",
    "##### 2.1.3 Difference between map and hashmap in STL\n",
    "\n",
    "map uses a red-black tree as the data structure, so the elements you put in there are sorted, and insert/delete is O(log(n)). The elements need to be implement at least operator<.\n",
    "\n",
    "hashmap uses a hash, so elements are unsorted, insert/delete is O(1). Elements need to implement at least operator== and you need a hash function."
   ]
  },
  {
   "cell_type": "markdown",
   "metadata": {},
   "source": [
    "### 2.2 Regular (Akuna)"
   ]
  },
  {
   "cell_type": "markdown",
   "metadata": {},
   "source": [
    "<img src='dice-game.png'>"
   ]
  },
  {
   "cell_type": "code",
   "execution_count": 1,
   "metadata": {
    "collapsed": false
   },
   "outputs": [
    {
     "name": "stdout",
     "output_type": "stream",
     "text": [
      "59999\n"
     ]
    }
   ],
   "source": [
    "import math\n",
    "import numpy as np\n",
    "\n",
    "def die_game_fair_value_recursion( rolls):\n",
    "    if rolls > 60:\n",
    "        return 5.9999\n",
    "    elif rolls < 1:\n",
    "        return 0.\n",
    "    elif rolls == 1:\n",
    "        return 3.5\n",
    "    elif rolls == 2:\n",
    "        return 4.25\n",
    "    else:\n",
    "        lower_level_fair_value = die_game_fair_value_recursion(rolls-1)\n",
    "        if lower_level_fair_value < 5:\n",
    "            return 1./3 * 5.5 + 2./3 * lower_level_fair_value\n",
    "        else:\n",
    "            return 1./6 * 6. + 5./6 * lower_level_fair_value\n",
    "        \n",
    "def die_game_fair_value( rolls):\n",
    "    return int(math.floor(die_game_fair_value_recursion(rolls)*10000))\n",
    "\n",
    "print die_game_fair_value(100)"
   ]
  },
  {
   "cell_type": "markdown",
   "metadata": {},
   "source": [
    "### 2.3 Advanced (Janestreet)\n",
    "\n",
    "52 cards with 26 black and 26 red, getting a pair with same color win 1 dollar while with different color will lose 1 dolar. Continuously take a pair until no cards, what’s the expectation?"
   ]
  },
  {
   "cell_type": "markdown",
   "metadata": {},
   "source": [
    "<code>\n",
    "//\n",
    "//  main.cpp\n",
    "//  janestreet interview\n",
    "//\n",
    "//  Created by Weiyi Chen on 7/10/14.\n",
    "//  Copyright (c) 2014 Weiyi Chen. All rights reserved.\n",
    "//\n",
    "\n",
    "\\#include \"iostream\"\n",
    "using namespace std;\n",
    "\n",
    "double choose(int n, int k) {\n",
    "    /*\n",
    "     @summary: the amount numbers of combination choosing k members from n\n",
    "     @param n: number of members choosing from\n",
    "     @param k: number of members need to choose\n",
    "     @return: number of combinations\n",
    "     */\n",
    "    if (k > n)\n",
    "        return 0;\n",
    "    double r = 1;\n",
    "    for (double d = 1; d <= k; ++d) {\n",
    "        r *= n--;\n",
    "        r /= d;\n",
    "    }\n",
    "    return r;\n",
    "}\n",
    "\n",
    "double expectation(int black_cards, int red_cards) {\n",
    "    /*\n",
    "     @summary: calculate the expection with specified red and black cards\n",
    "     @param black_cards: number of black cards\n",
    "     @param red_cards: number of red cards\n",
    "     @return: expectation of return\n",
    "     */\n",
    "    if (black_cards == 0 && red_cards == 0)\n",
    "        return 0;\n",
    "    else if (black_cards == 0 || red_cards == 0)\n",
    "        return (red_cards+black_cards) / 2;\n",
    "    else if (black_cards == 1 && red_cards == 1)\n",
    "        return -1;\n",
    "    else if (black_cards == 1) {\n",
    "        double p_win = choose(red_cards, 2) / choose(red_cards+1, 2);\n",
    "        double p_lose = 1 - p_win;\n",
    "        return p_win*(expectation(1, red_cards-2)+1) + p_lose*(expectation(0, red_cards-1)-1);\n",
    "    }\n",
    "    else if (red_cards == 1) {\n",
    "        double p_win = choose(black_cards, 2) / choose(black_cards+1, 2);\n",
    "        double p_lose = 1 - p_win;\n",
    "        return p_win*(expectation(black_cards-2, 1)+1) + p_lose*(expectation(black_cards-1, 0)-1);\n",
    "    }\n",
    "    else {\n",
    "        double p_win_red = choose(red_cards, 2) / choose(red_cards+black_cards, 2);\n",
    "        double p_win_black = choose(black_cards, 2) / choose(red_cards+black_cards, 2);\n",
    "        double p_lose = 1 - p_win_red - p_win_black;\n",
    "        return p_win_red*(1+expectation(black_cards, red_cards-2)) + p_win_black*(1+expectation(black_cards-2, red_cards)) + p_lose*(-1+expectation(black_cards-1, red_cards-1));\n",
    "    }\n",
    "}\n",
    "\n",
    "int main(int argc, const char * argv[])\n",
    "{\n",
    "    cout << \" ----- Expectations ----- \" << endl;\n",
    "    // print expection results with same number of red and black cards\n",
    "    for (int i = 1; i <= 9; i++)\n",
    "        cout << i << \" red and \" << i << \" black: \" << expectation(i, i) << endl;\n",
    "    return 0;\n",
    "}\n",
    "</code>"
   ]
  },
  {
   "cell_type": "markdown",
   "metadata": {},
   "source": [
    "### 2.4 JPM\n",
    "\n",
    "Implement Queue using Stacks (https://leetcode.com/problems/implement-queue-using-stacks/)\n",
    "\n",
    "#### 2.4.1 Queue\n",
    "\n",
    "<img src=\"https://upload.wikimedia.org/wikipedia/commons/5/52/Data_Queue.svg\">\n",
    "\n",
    "* An abstract data type in which the entities in the collection are kept in order \n",
    "* The only operations on the collection are the addition of entities to the rear terminal position, known as enqueue\n",
    "* And removal of entities from the front terminal position, known as dequeue\n",
    "* First-In-First-Out (FIFO)\n",
    "\n",
    "#### 2.4.2 Stack\n",
    "\n",
    "<img src='https://upload.wikimedia.org/wikipedia/commons/2/29/Data_stack.svg'>\n",
    "\n",
    "* An abstract data type that serves as a collection of elements, with two principal operations: \n",
    "* Push, which adds an element to the collection\n",
    "* And pop, which removes the last element that was added\n",
    "* First-In-Last-Out (FILO)\n",
    "\n",
    "#### 2.4.3 Algo\n",
    "\n",
    "Keep 2 stacks, let's call them inbox and outbox.\n",
    "\n",
    "Queue:\n",
    "- Push the new element onto inbox\n",
    "\n",
    "Dequeue:\n",
    "- If outbox is empty, refill it by popping each element from inbox and pushing it onto outbox\n",
    "- Pop and return the top element from outbox\n",
    "\n",
    "#### 2.4.4 Implementation\n",
    "<code>\n",
    "class Queue {\n",
    "public:\n",
    "    stack<int> s;\n",
    "\n",
    "    // Push element x to the back of queue.\n",
    "    void push(int x) {\n",
    "        stack<int> tmp;\n",
    "        while (!s.empty()) {\n",
    "            tmp.push(s.top());\n",
    "            s.pop();\n",
    "        }\n",
    "        s.push(x);\n",
    "        while (!tmp.empty()) {\n",
    "            s.push(tmp.top());\n",
    "            tmp.pop();\n",
    "        }\n",
    "    }\n",
    "\n",
    "    // Removes the element from in front of queue.\n",
    "    void pop(void) {\n",
    "        s.pop();\n",
    "    }\n",
    "\n",
    "    // Get the front element.\n",
    "    int peek(void) {\n",
    "        return s.top();\n",
    "    }\n",
    "\n",
    "    // Return whether the queue is empty.\n",
    "    bool empty(void) {\n",
    "        return s.empty();\n",
    "    }\n",
    "};\n",
    "\n",
    "</code>\n",
    "\n"
   ]
  },
  {
   "cell_type": "code",
   "execution_count": 2,
   "metadata": {
    "collapsed": true
   },
   "outputs": [],
   "source": [
    "# Python implementation\n",
    "\n",
    "class Queue(object):\n",
    "    def __init__(self):\n",
    "        \"\"\"\n",
    "        initialize your data structure here.\n",
    "        \"\"\"\n",
    "        self.stack = []\n",
    "\n",
    "    def push(self, x):\n",
    "        \"\"\"\n",
    "        :type x: int\n",
    "        :rtype: nothing\n",
    "        \"\"\"\n",
    "        self.stack.append(x)\n",
    "\n",
    "    def pop(self):\n",
    "        \"\"\"\n",
    "        :rtype: nothing\n",
    "        \"\"\"\n",
    "        self.stack = self.stack[1:]\n",
    "\n",
    "    def peek(self):\n",
    "        \"\"\"\n",
    "        :rtype: int\n",
    "        \"\"\"\n",
    "        if len(self.stack):\n",
    "            return self.stack[0]\n",
    "        return False\n",
    "\n",
    "    def empty(self):\n",
    "        \"\"\"\n",
    "        :rtype: bool\n",
    "        \"\"\"\n",
    "        return len(self.stack) == 0"
   ]
  },
  {
   "cell_type": "markdown",
   "metadata": {},
   "source": [
    "## 3. Programming"
   ]
  },
  {
   "cell_type": "markdown",
   "metadata": {},
   "source": [
    "### 3.1 Add Digits\n",
    "\n",
    "Given a non-negative integer num, repeatedly add all its digits until the result has only one digit.\n",
    "\n",
    "For example:\n",
    "\n",
    "Given num = 38, the process is like: 3 + 8 = 11, 1 + 1 = 2. Since 2 has only one digit, return it.\n",
    "\n",
    "https://leetcode.com/problems/add-digits/"
   ]
  },
  {
   "cell_type": "markdown",
   "metadata": {},
   "source": [
    "#### 3.1.1 Naive solution O(n)\n",
    "\n",
    "Naive implementation of the above process"
   ]
  },
  {
   "cell_type": "code",
   "execution_count": 3,
   "metadata": {
    "collapsed": false
   },
   "outputs": [
    {
     "data": {
      "text/plain": [
       "2"
      ]
     },
     "execution_count": 3,
     "metadata": {},
     "output_type": "execute_result"
    }
   ],
   "source": [
    "class Solution(object):\n",
    "    def addDigits(self, num):\n",
    "        \"\"\"\n",
    "        :type num: int\n",
    "        :rtype: int\n",
    "        \"\"\"\n",
    "        if len(str(num)) == 1:\n",
    "            return num\n",
    "        return self.addDigits(sum([int(i) for i in list(str(num))]))\n",
    "\n",
    "Solution().addDigits(38)"
   ]
  },
  {
   "cell_type": "markdown",
   "metadata": {},
   "source": [
    "#### 3.1.2 Smart solution O(1)\n",
    "\n",
    "Print the outputs of the naive solution."
   ]
  },
  {
   "cell_type": "code",
   "execution_count": 4,
   "metadata": {
    "collapsed": false
   },
   "outputs": [
    {
     "data": {
      "text/plain": [
       "[0, 1, 2, 3, 4, 5, 6, 7, 8, 9, 1]"
      ]
     },
     "execution_count": 4,
     "metadata": {},
     "output_type": "execute_result"
    }
   ],
   "source": [
    "[Solution().addDigits(i) for i in range(11)]"
   ]
  },
  {
   "cell_type": "markdown",
   "metadata": {},
   "source": [
    "##### Rule: output = (input - 1) % 9 + 1"
   ]
  },
  {
   "cell_type": "code",
   "execution_count": 5,
   "metadata": {
    "collapsed": false
   },
   "outputs": [
    {
     "data": {
      "text/plain": [
       "2"
      ]
     },
     "execution_count": 5,
     "metadata": {},
     "output_type": "execute_result"
    }
   ],
   "source": [
    "class Solution(object):\n",
    "    def addDigits(self, num):\n",
    "        \"\"\"\n",
    "        :type num: int\n",
    "        :rtype: int\n",
    "        \"\"\"\n",
    "        if (num == 0):\n",
    "            return 0\n",
    "        return (num - 1) % 9 + 1\n",
    "        \n",
    "Solution().addDigits(38)"
   ]
  },
  {
   "cell_type": "markdown",
   "metadata": {},
   "source": [
    "### 3.2 Single Number"
   ]
  },
  {
   "cell_type": "markdown",
   "metadata": {},
   "source": [
    "Given an array of integers, every element appears twice except for one. Find that single one.\n",
    "\n",
    "https://leetcode.com/problems/single-number/"
   ]
  },
  {
   "cell_type": "markdown",
   "metadata": {},
   "source": [
    "#### 3.2.1 Naive solution O(n^2)"
   ]
  },
  {
   "cell_type": "code",
   "execution_count": 6,
   "metadata": {
    "collapsed": false
   },
   "outputs": [
    {
     "data": {
      "text/plain": [
       "0"
      ]
     },
     "execution_count": 6,
     "metadata": {},
     "output_type": "execute_result"
    }
   ],
   "source": [
    "class Solution(object):\n",
    "    def singleNumber(self, nums):\n",
    "        \"\"\"\n",
    "        :type nums: List[int]\n",
    "        :rtype: int\n",
    "        \"\"\"\n",
    "        for i in nums:\n",
    "            if nums.count(i) == 1:\n",
    "                return i\n",
    "\n",
    "inputs = [1,2,3,4,5,6,7,8,9,10]*2+[0]\n",
    "Solution().singleNumber(inputs)"
   ]
  },
  {
   "cell_type": "markdown",
   "metadata": {},
   "source": [
    "#### 3.2.2 Smart solution O(n)\n",
    "\n",
    "Xor: Exclusive or is a logical operation that outputs true only when both inputs differ (one is true, the other is false).\n",
    "\n",
    "##### Truth Table\n",
    "\n",
    "<img src='xor.png'>\n",
    "\n",
    "##### Properties\n",
    "\n",
    "<img src='xor-prop.png'>\n",
    "\n",
    "##### Conclusions\n",
    "\n",
    "* A Xor 1 = A\n",
    "* A Xor A = 1"
   ]
  },
  {
   "cell_type": "markdown",
   "metadata": {},
   "source": [
    "#### 3.2.3 Implementation"
   ]
  },
  {
   "cell_type": "code",
   "execution_count": 7,
   "metadata": {
    "collapsed": false
   },
   "outputs": [
    {
     "data": {
      "text/plain": [
       "0"
      ]
     },
     "execution_count": 7,
     "metadata": {},
     "output_type": "execute_result"
    }
   ],
   "source": [
    "class Solution:\n",
    "    # @param A, a list of integer\n",
    "    # @return an integer\n",
    "    def singleNumber(self, A):\n",
    "        r = 0\n",
    "        for number in A:\n",
    "            r ^= number\n",
    "        return r\n",
    "    \n",
    "Solution().singleNumber(inputs)"
   ]
  },
  {
   "cell_type": "markdown",
   "metadata": {},
   "source": [
    "### 3.3 Maximum Depth of Binary Tree\n",
    "\n",
    "Given a binary tree, find its maximum depth.\n",
    "\n",
    "The maximum depth is the number of nodes along the longest path from the root node down to the farthest leaf node.\n",
    "\n",
    "https://leetcode.com/problems/maximum-depth-of-binary-tree/"
   ]
  },
  {
   "cell_type": "markdown",
   "metadata": {},
   "source": [
    "#### 3.3.1 Binary tree\n",
    "\n",
    "<img src='https://upload.wikimedia.org/wikipedia/commons/f/f7/Binary_tree.svg'>\n",
    "\n",
    "a binary tree is a tree data structure in which each node has at most two children, which are referred to as the left child and the right child."
   ]
  },
  {
   "cell_type": "markdown",
   "metadata": {},
   "source": [
    "#### 3.3.2 Recursion Algo\n",
    "\n",
    "* Compute the max height of left sub-tree\n",
    "* compute the max height of right sub-tree \n",
    "* the max height of the current node is the greater of the two max heights + 1\n",
    "* Base case: the current node is NULL, return zero"
   ]
  },
  {
   "cell_type": "markdown",
   "metadata": {},
   "source": [
    "#### 3.3.3 Implementation"
   ]
  },
  {
   "cell_type": "code",
   "execution_count": 8,
   "metadata": {
    "collapsed": true
   },
   "outputs": [],
   "source": [
    "# Definition for a  binary tree node\n",
    "# class TreeNode:\n",
    "#     def __init__(self, x):\n",
    "#         self.val = x\n",
    "#         self.left = None\n",
    "#         self.right = None\n",
    "\n",
    "class Solution:\n",
    "    # @param root, a tree node\n",
    "    # @return an integer\n",
    "    def maxDepth(self, root):\n",
    "        if not root:\n",
    "            return 0\n",
    "        else:\n",
    "            leftDepth = self.maxDepth(root.left)\n",
    "            rightDepth = self.maxDepth(root.right)\n",
    "            return max(leftDepth, rightDepth) + 1"
   ]
  },
  {
   "cell_type": "markdown",
   "metadata": {},
   "source": [
    "### 3.4 Delete Node in a Linked List\n",
    "\n",
    "Write a function to delete a node (except the tail) in a singly linked list, given only access to that node.\n",
    "\n",
    "Supposed the linked list is 1 -> 2 -> 3 -> 4 and you are given the third node with value 3, the linked list should become 1 -> 2 -> 4 after calling your function.\n",
    "\n",
    "https://leetcode.com/problems/delete-node-in-a-linked-list/"
   ]
  },
  {
   "cell_type": "markdown",
   "metadata": {},
   "source": [
    "#### 3.4.1 Linked List\n",
    "\n",
    "<img src='https://upload.wikimedia.org/wikipedia/commons/6/6d/Singly-linked-list.svg'>\n",
    "\n",
    "* A linked list is a data structure consisting of a group of nodes which together represent a sequence. \n",
    "* Each node is composed of data and a reference (in other words, a link) to the next node in the sequence \n",
    "* Allows for efficient insertion or removal of elements from any position in the sequence.\n",
    "\n",
    "<img src='comparison.png'>\n",
    "\n",
    "#### 3.4.2 Insertion\n",
    "\n",
    "<img src='https://upload.wikimedia.org/wikipedia/commons/4/4b/CPT-LinkedLists-addingnode.svg'>\n",
    "\n",
    "#### 3.4.3 Deletion (Algo)\n",
    "\n",
    "<img src='https://upload.wikimedia.org/wikipedia/commons/d/d4/CPT-LinkedLists-deletingnode.svg'>\n",
    "\n",
    "#### 3.4.4 Implementation\n"
   ]
  },
  {
   "cell_type": "code",
   "execution_count": 9,
   "metadata": {
    "collapsed": false
   },
   "outputs": [],
   "source": [
    "# Definition for singly-linked list.\n",
    "# class ListNode(object):\n",
    "#     def __init__(self, x):\n",
    "#         self.val = x\n",
    "#         self.next = None\n",
    "\n",
    "class Solution(object):\n",
    "    def deleteNode(self, node):\n",
    "        \"\"\"\n",
    "        :type node: ListNode\n",
    "        :rtype: void Do not return anything, modify node in-place instead.\n",
    "        \"\"\"\n",
    "        while node.next != None:\n",
    "            node.val = node.next.val\n",
    "            if node.next.next != None:\n",
    "                node = node.next\n",
    "            else:\n",
    "                node.next = None"
   ]
  },
  {
   "cell_type": "markdown",
   "metadata": {},
   "source": [
    "### 3.5 Same Tree\n",
    "\n",
    "Given two binary trees, write a function to check if they are equal or not.\n",
    "\n",
    "Two binary trees are considered equal if they are structurally identical and the nodes have the same value.\n",
    "\n",
    "https://leetcode.com/problems/same-tree/\n",
    "\n",
    "#### 3.5.1 Algo\n",
    "\n",
    "Recursion\n",
    "\n",
    "#### 3.5.2 Implementation"
   ]
  },
  {
   "cell_type": "code",
   "execution_count": 10,
   "metadata": {
    "collapsed": true
   },
   "outputs": [],
   "source": [
    "# Definition for a binary tree node.\n",
    "# class TreeNode(object):\n",
    "#     def __init__(self, x):\n",
    "#         self.val = x\n",
    "#         self.left = None\n",
    "#         self.right = None\n",
    "\n",
    "class Solution(object):\n",
    "    def isSameTree(self, p, q):\n",
    "        \"\"\"\n",
    "        :type p: TreeNode\n",
    "        :type q: TreeNode\n",
    "        :rtype: bool\n",
    "        \"\"\"\n",
    "        if (p == None) & (q == None):\n",
    "            return True\n",
    "        elif (p == None) or (q == None) :\n",
    "            return False\n",
    "        else:\n",
    "            left = self.isSameTree(p.left,q.left)\n",
    "            right = self.isSameTree(p.right,q.right)\n",
    "            return (left & right) & (p.val == q.val)"
   ]
  },
  {
   "cell_type": "markdown",
   "metadata": {},
   "source": [
    "## 4. Conclusions"
   ]
  },
  {
   "cell_type": "markdown",
   "metadata": {},
   "source": [
    "* Stack, Queue, Linked List, Tree\n",
    "* Recursion, iteration\n",
    "\n",
    "### Other tips\n",
    "\n",
    "* Practice: One programming test / day\n",
    "    - Add Digits: Happy Number, Ugly Number\n",
    "    - Single Number: Single Number II, Single Number III\n",
    "    - Maximum Depth of Binary Tree: Minimum Depth of Binary Tree\n",
    "    - ...\n",
    "    \n",
    "* Work/Test together with your friends\n",
    "* Read 'Elements of Programming'"
   ]
  }
 ],
 "metadata": {
  "anaconda-cloud": {},
  "kernelspec": {
   "display_name": "Python [Root]",
   "language": "python",
   "name": "Python [Root]"
  },
  "language_info": {
   "codemirror_mode": {
    "name": "ipython",
    "version": 2
   },
   "file_extension": ".py",
   "mimetype": "text/x-python",
   "name": "python",
   "nbconvert_exporter": "python",
   "pygments_lexer": "ipython2",
   "version": "2.7.12"
  }
 },
 "nbformat": 4,
 "nbformat_minor": 0
}
