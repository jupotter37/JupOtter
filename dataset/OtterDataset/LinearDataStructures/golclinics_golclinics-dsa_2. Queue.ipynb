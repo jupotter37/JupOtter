{
 "cells": [
  {
   "cell_type": "markdown",
   "id": "alert-track",
   "metadata": {},
   "source": [
    "# Queue\n",
    "## Intro\n",
    "\n",
    "- Is an ordered collection of items where the addition of new Items happens at one end (rear) and the removal of existing items occors on the other end, commonly called the \"front\".\n",
    "- An element starts at the end of the queue making the way to the front, waiting until thet time when it is the next element to be removed.\n",
    "- The item that has been longest in the queue is at the front.\n",
    "- The ordering principle is called **FIFO** **_first-in first-out_** or **_first-come first-served_**.\n",
    "\n",
    "\n",
    "![](https://www.tutorialspoint.com/data_structures_algorithms/images/queue_diagram.jpg)\n",
    "\n",
    "## Type of queue\n",
    "- **Simple Queue** - Normal queue.\n",
    "- **Circular Queue / Ring Buffer** - The last item is connected to the first item.\n",
    "- **Priority Queue** - items have some type of priority, and items are removed as per the priority.\n",
    "- **Deque (Doubly Ended Queue)** - enqueue and dequeue happen in the rear and the front.\n",
    "\n",
    "## Queue operations\n",
    "- **Enqueue** - Add an item to the queue.\n",
    "- **Dequeue** - Remove the element from the queue.\n",
    "- **Peek** - Peek at the element to be dequeued.\n",
    "- **isempty** - Check if the queue is empty.\n",
    "- **size** - Check the size of the queue.\n",
    "\n",
    "## Implementing a queue\n",
    "- Array(List in python) - *Easiest*\n",
    "- Stack\n",
    "- Linked List\n"
   ]
  },
  {
   "cell_type": "code",
   "execution_count": 15,
   "id": "southeast-gibraltar",
   "metadata": {},
   "outputs": [],
   "source": [
    "# queue using list\n",
    "class queue(object):\n",
    "    def __init__(self):\n",
    "        self.items=[]\n",
    "        \n",
    "    def enqueue(self, item):\n",
    "        self.items.insert(0,item)\n",
    "        \n",
    "    def dequeue(self):\n",
    "        if self.is_empty():\n",
    "            return None\n",
    "        return self.items.pop()\n",
    "    \n",
    "    def peek(self):\n",
    "        if self.is_empty():\n",
    "            return None\n",
    "        return self.items[-1]\n",
    "    \n",
    "    def is_empty(self):\n",
    "        return self.size() == 0\n",
    "    \n",
    "    def size(self):\n",
    "        return len(self.items)"
   ]
  },
  {
   "cell_type": "code",
   "execution_count": 16,
   "id": "civic-hudson",
   "metadata": {},
   "outputs": [],
   "source": [
    "q = queue()\n"
   ]
  },
  {
   "cell_type": "code",
   "execution_count": 17,
   "id": "criminal-operation",
   "metadata": {},
   "outputs": [
    {
     "data": {
      "text/plain": [
       "<__main__.queue at 0x7fcd7c327580>"
      ]
     },
     "execution_count": 17,
     "metadata": {},
     "output_type": "execute_result"
    }
   ],
   "source": [
    "q"
   ]
  },
  {
   "cell_type": "code",
   "execution_count": 18,
   "id": "polyphonic-structure",
   "metadata": {},
   "outputs": [
    {
     "data": {
      "text/plain": [
       "4"
      ]
     },
     "execution_count": 18,
     "metadata": {},
     "output_type": "execute_result"
    }
   ],
   "source": [
    "q.enqueue(1)\n",
    "q.enqueue(2)\n",
    "q.enqueue(3)\n",
    "q.enqueue(4)\n",
    "q.size()"
   ]
  },
  {
   "cell_type": "code",
   "execution_count": 19,
   "id": "defensive-missouri",
   "metadata": {},
   "outputs": [
    {
     "data": {
      "text/plain": [
       "3"
      ]
     },
     "execution_count": 19,
     "metadata": {},
     "output_type": "execute_result"
    }
   ],
   "source": [
    "q.dequeue()\n",
    "q.size()"
   ]
  },
  {
   "cell_type": "code",
   "execution_count": 20,
   "id": "insured-thanksgiving",
   "metadata": {},
   "outputs": [
    {
     "data": {
      "text/plain": [
       "False"
      ]
     },
     "execution_count": 20,
     "metadata": {},
     "output_type": "execute_result"
    }
   ],
   "source": [
    "q.is_empty()"
   ]
  },
  {
   "cell_type": "code",
   "execution_count": 21,
   "id": "nutritional-respondent",
   "metadata": {},
   "outputs": [
    {
     "data": {
      "text/plain": [
       "2"
      ]
     },
     "execution_count": 21,
     "metadata": {},
     "output_type": "execute_result"
    }
   ],
   "source": [
    "q.peek()"
   ]
  },
  {
   "cell_type": "code",
   "execution_count": 22,
   "id": "collected-clone",
   "metadata": {},
   "outputs": [
    {
     "data": {
      "text/plain": [
       "2"
      ]
     },
     "execution_count": 22,
     "metadata": {},
     "output_type": "execute_result"
    }
   ],
   "source": [
    "q.dequeue()"
   ]
  },
  {
   "cell_type": "code",
   "execution_count": 23,
   "id": "ultimate-baking",
   "metadata": {},
   "outputs": [
    {
     "data": {
      "text/plain": [
       "2"
      ]
     },
     "execution_count": 23,
     "metadata": {},
     "output_type": "execute_result"
    }
   ],
   "source": [
    "q.size()"
   ]
  },
  {
   "cell_type": "code",
   "execution_count": null,
   "id": "statutory-apparel",
   "metadata": {},
   "outputs": [],
   "source": []
  }
 ],
 "metadata": {
  "kernelspec": {
   "display_name": "Python 3",
   "language": "python",
   "name": "python3"
  },
  "language_info": {
   "codemirror_mode": {
    "name": "ipython",
    "version": 3
   },
   "file_extension": ".py",
   "mimetype": "text/x-python",
   "name": "python",
   "nbconvert_exporter": "python",
   "pygments_lexer": "ipython3",
   "version": "3.8.5"
  }
 },
 "nbformat": 4,
 "nbformat_minor": 5
}
