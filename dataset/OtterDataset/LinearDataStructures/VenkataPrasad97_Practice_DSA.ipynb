{
 "cells": [
  {
   "cell_type": "markdown",
   "metadata": {},
   "source": [
    "Data structures:\n",
    "proper storage\n",
    "    search\n",
    "    modify\n",
    "        Add\n",
    "        Delete\n"
   ]
  },
  {
   "cell_type": "markdown",
   "metadata": {},
   "source": [
    "Big O notation\n",
    "How efficient \n",
    "How powerful\n",
    "\n",
    "Choose which data structure to proceed\n",
    "\n",
    "For N data and its time(O) for storing, Searching, Adding, Deleting operations\n",
    "Function->  O(4) requires 4 operations\n",
    "            O(12) requires 12 operations (constant time)\n",
    "Time complexity.\n",
    "Ref grapghs\n",
    "O(1) Constant time\n",
    "O(log n) \n",
    "O(n) Linear time complexity\n",
    "O(nlog n)\n",
    "O(n^2) Exponential \n",
    "O(2^n) \n",
    "\n",
    "Example \n",
    "Store   : O(1)\n",
    "Search  :O(n)\n",
    "Add     :O(1)\n",
    "Delete  :O(n^2)\n",
    "if addition is important we choose appropriate DS\n"
   ]
  },
  {
   "cell_type": "markdown",
   "metadata": {},
   "source": [
    "Array- collection of same type of data \n",
    "computer stores our data in RAM etc\n",
    "declaring array (type,name,size)\n",
    "1D  - a[i]\n",
    "2D  - a[row][column]\n",
    "3D  - a[][][]\n",
    ".\n",
    ".\n",
    "store O(1)\n",
    "Search O(n)\n",
    "Add O(n)\n",
    "Delete O(n)\n"
   ]
  },
  {
   "cell_type": "markdown",
   "metadata": {},
   "source": [
    "Stack- Pile of data\n",
    "LIFO Last in First Out\n",
    "Methods\n",
    "    Push\n",
    "    Pop\n",
    "    Peek\n",
    "    Contains\n",
    "Push\n",
    "stack.push(\"\")\n",
    ">size=0\n",
    "stack.push(\"a\")\n",
    ">size=1\n",
    "stack.push(\"b\")\n",
    ">size=2\n",
    "stack.push(\"c\")\n",
    ">size=3\n",
    "Pop\n",
    "stack.pop()\n",
    ">return \"c\"\n",
    ">size=2\n",
    "stack.pop()\n",
    ">return \"b\"\n",
    ">size=1\n",
    "Peek\n",
    "stack.peek()\n",
    ">return \"c\"\n",
    ">size=3\n",
    "Contains\n",
    "stack.contains(\"a\")\n",
    ">return true\n",
    ">size=2\n",
    "\n",
    "Operations:\n",
    "Store   :O(n)\n",
    "Search  :O(n)\n",
    "Add     :O(1)\n",
    "Delete  :O(1)\n",
    "\n",
    "Uses:\n",
    ">Undo/Redo\n",
    ">Recursion\n",
    ">Back Button\n",
    "\n"
   ]
  },
  {
   "cell_type": "markdown",
   "metadata": {},
   "source": [
    "Queue:\n",
    "FIFO First in First Out\n",
    "Method\n",
    "    Enqueue\n",
    "    Dequeue\n",
    "    Peek\n",
    "    Contains\n",
    "Enqueue\n",
    "\n",
    "Dequeue\n",
    "\n",
    "Peek\n",
    "\n",
    "Contains\n",
    "\n",
    "Operations\n",
    "Store   :O(n)\n",
    "Search  :O(n)\n",
    "Add     :O(1)\n",
    "Delete  :O(1)\n",
    "\n",
    "Usues:\n",
    "CPU Job scheduling\n",
    "Printers"
   ]
  },
  {
   "cell_type": "markdown",
   "metadata": {},
   "source": [
    "Linked list\n",
    "Items stored with links (nodes)\n",
    "Node have Data & Pointers\n",
    "Data\n",
    "    int\n",
    "    string\n",
    "    class\n",
    "Pointer\n",
    "    next node in list\n",
    "\n",
    "Head node\n",
    ">Data:      ()\n",
    ">pointer: points some  (null if no nodes linked)\n",
    "Tail node\n",
    ">Data:      ()\n",
    ">pointer:   (null if no nodes linked)\n",
    "Methods\n",
    "Add & Remove:\n",
    "Adding & Remove to/from head\n",
    "Add & Remove to/from middle\n",
    "Add & Remove to/from tail\n",
    "\n",
    "Adding to head\n",
    "1->2->3->4\n",
    "pointing already existing head will make the node as head node\n",
    "0->1->2->3->4\n",
    "\n",
    "Removing from head\n",
    "0->1->2->3->4\n",
    "pointing the head to null makes it break from the chain, makes next node as head (prev pointing node) and memory of the node will be deleted.\n",
    "\n",
    "Adding to middle\n",
    "1->2->3->4\n",
    "adding 2.5 by changing the pointing of 2 and 2.5 to point 3\n",
    "1->2->2.5->3->4\n",
    "Removing from middle\n",
    "same changing pointing from 2 to 3and 2.5 to null\n",
    "\n",
    "Adding to tail\n",
    "\n",
    "1->2->3->4\n",
    "point tail node to null\n",
    "change the prev tail node to new tail node\n",
    "Remove from tail\n",
    "same procedure\n",
    "\n",
    "Operations\n",
    "Store   :O(n)\n",
    "Search  :O(n)\n",
    "Add     :O(1) for tail & head  O(n) for middle\n",
    "Delete  :O(1) for tail & head  O(n) for middle\n",
    "\n",
    "Uses\n",
    "Implement Stack & Queues\n",
    "Music player"
   ]
  },
  {
   "cell_type": "markdown",
   "metadata": {},
   "source": [
    "Doubly linked list\n",
    "Enable both direction\n",
    "Node\n",
    ">Data\n",
    ">Prev pointer\n",
    ">Next pointer\n",
    "\n",
    "Methods\n",
    "Add & Remove:\n",
    "Adding & Remove to/from head\n",
    "Add & Remove to/from middle\n",
    "Add & Remove to/from tail\n",
    "\n",
    "Operations\n",
    "Store   :O(n)\n",
    "Search  :O(n)\n",
    "Add     :O(1) for tail & head  O(n) for middle\n",
    "Delete  :O(1) for tail & head  O(n) for middle\n",
    "\n",
    "Uses:\n",
    "Back and foreward\n",
    "Undo/Redo\n"
   ]
  },
  {
   "cell_type": "markdown",
   "metadata": {},
   "source": [
    "Dictionaries or Maps\n",
    "Key: Uniquie identifier\n",
    "Value: Address\n",
    "Rules:\n",
    "Each key appears only once\n",
    "Each key gives only one value\n",
    "Same value in multiple keys allowed\n",
    "\n",
    "Dictionaries implemented by Hash table\n",
    "\n",
    "\n",
    "OPEN addressing\n",
    "CLOSE Addressing"
   ]
  },
  {
   "attachments": {},
   "cell_type": "markdown",
   "metadata": {},
   "source": [
    "# search methods\n",
    "## Linear search"
   ]
  },
  {
   "cell_type": "code",
   "execution_count": 6,
   "metadata": {},
   "outputs": [
    {
     "name": "stdout",
     "output_type": "stream",
     "text": [
      "index 7\n"
     ]
    }
   ],
   "source": [
    "a=[7,8,9,52,6,7,1,5,6,8,9,5,32,3,68,3,86,5,68,65,8,32,564,32,45,8,32,8,32,68,325,689,65,35,56,86,685,5,352,56,68,869,6868,68,68,68,68,658,56,0]\n",
    "target=5\n",
    "for i in range(len(a)):\n",
    "    if a[i]==target:\n",
    "        print(\"index\",i)\n",
    "        break\n",
    "    if i==len(a)-1:\n",
    "        print(\"not found\")"
   ]
  },
  {
   "attachments": {},
   "cell_type": "markdown",
   "metadata": {},
   "source": [
    "## Binary search"
   ]
  },
  {
   "cell_type": "code",
   "execution_count": 25,
   "metadata": {},
   "outputs": [
    {
     "name": "stdout",
     "output_type": "stream",
     "text": [
      "[1, 2, 3, 4, 11, 15]\n",
      "Not found but can be inserted in the index 4\n"
     ]
    }
   ],
   "source": [
    "#nums=[7,8,9,52,6,7,1,5,6,8,9,5,32,3,68,3,86,5,68,65,8,32,564,32,45,8,32,8,32,68,325,689,65,35,56,86,685,5,352,56,68,869,6868,68,68,68,68,658,56,0]\n",
    "nums=[1,2,3,4,11,15]\n",
    "nums.sort()\n",
    "print(nums)\n",
    "l=0\n",
    "h=len(nums)-1\n",
    "target=10\n",
    "while(l<=h):\n",
    "    mid=(l+h)//2\n",
    "    if target==nums[mid]:\n",
    "        print(\"index\",mid)\n",
    "        break\n",
    "    elif target<nums[mid]:\n",
    "        h=mid-1\n",
    "    else:\n",
    "        l=mid+1\n",
    "    if l>h:\n",
    "        print(\"Not found but can be inserted in the index\",l)"
   ]
  },
  {
   "attachments": {},
   "cell_type": "markdown",
   "metadata": {},
   "source": [
    "# Selection sort"
   ]
  },
  {
   "cell_type": "code",
   "execution_count": 41,
   "metadata": {},
   "outputs": [
    {
     "name": "stdout",
     "output_type": "stream",
     "text": [
      "[0, 5, 1, 5, 6, 6, 7, 7, 8, 8, 8, 9, 9, 32, 32, 52, 35, 56, 56, 56, 65, 68, 68, 68, 68, 68, 68, 86, 325, 658, 352, 685, 689, 869, 6868]\n"
     ]
    }
   ],
   "source": [
    "#Three index pointers\n",
    "def selectionsort(seq):\n",
    "    len_seq=len(seq)\n",
    "    for p1 in range(len(seq)-1):\n",
    "        p2=p1\n",
    "        for p3 in range(p1+1,len(seq)):\n",
    "            if seq[p3]<seq[p2]:\n",
    "                p2=p3\n",
    "            if p2!=p1:\n",
    "                seq[p2],seq[p1]=seq[p1],seq[p2]\n",
    "    return seq\n",
    "print(selectionsort([7,8,9,52,6,7,1,5,6,8,9,32,8,32,68,325,689,65,35,56,86,685,5,352,56,68,869,6868,68,68,68,68,658,56,0]))"
   ]
  },
  {
   "attachments": {},
   "cell_type": "markdown",
   "metadata": {},
   "source": [
    "# Quick sort"
   ]
  },
  {
   "cell_type": "code",
   "execution_count": 40,
   "metadata": {},
   "outputs": [
    {
     "name": "stdout",
     "output_type": "stream",
     "text": [
      "[0, 1, 3, 3, 3, 5, 5, 5, 5, 6, 6, 7, 7, 8, 8, 8, 9, 9, 32, 32, 52, 56, 56, 65, 68, 68, 68, 68, 68, 68, 68, 86, 352, 564, 658, 869, 6868]\n"
     ]
    }
   ],
   "source": [
    "def quicksort(seq):\n",
    "    len_seq=len(seq)\n",
    "    lower_elements=[]\n",
    "    greater_elements=[]\n",
    "    if len_seq<=1:\n",
    "        return seq\n",
    "    pivot=seq.pop()\n",
    "    for i in seq:\n",
    "        if i<pivot:\n",
    "            lower_elements.append(i)\n",
    "        else:\n",
    "            greater_elements.append(i)\n",
    "    return quicksort(lower_elements)+[pivot]+quicksort(greater_elements)\n",
    "print(quicksort([7,8,9,52,6,7,1,5,6,8,9,5,32,3,68,3,86,5,68,65,8,32,564,3,5,352,56,68,869,6868,68,68,68,68,658,56,0]))"
   ]
  },
  {
   "cell_type": "code",
   "execution_count": null,
   "metadata": {},
   "outputs": [],
   "source": [
    "print(abs(-5))\n",
    "print(all(True,False,True))\n",
    "print(all(True,True,True))\n",
    "print(any(True,False,True))\n",
    "print(any(True,True,True))\n",
    "print(ascii('a'))\n",
    "print(bin(8))\n",
    "\n"
   ]
  },
  {
   "cell_type": "code",
   "execution_count": 67,
   "metadata": {},
   "outputs": [
    {
     "name": "stdout",
     "output_type": "stream",
     "text": [
      "[7, 8, 9, 52, 6, 7, 1, 5, 6, 8, 9, 5, 32, 3, 68, 3, 86, 5, 68, 65, 8, 32, 564, 32, 45, 8, 32, 8, 32, 68, 325, 77]\n",
      "[]\n",
      "[7, 8, 9, 52, 6, 7, 1, 5, 6, 8, 9, 5, 32, 3, 68, 3, 86, 5, 68, 65, 8, 32, 564, 32, 45, 8, 32, 8, 32, 68, 325]\n",
      "2\n",
      "0 12\n",
      "7\n",
      "325\n",
      "[9, 52, 6, 7, 1, 5, 6, 8, 9, 5, 32, 3, 68, 3, 86, 5, 68, 65, 8, 32, 564, 32, 45, 8, 32, 8, 32, 68]\n",
      "[1, 3, 3, 5, 5, 5, 6, 6, 7, 8, 8, 8, 8, 9, 9, 32, 32, 32, 32, 32, 45, 52, 65, 68, 68, 68, 86, 564]\n",
      "[9, 52, 6, 7, 1, 5, 6, 8, 9, 5, 32, 3, 68, 3, 86, 5, 68, 65, 8, 32, 564, 32, 45, 8, 32, 8, 32, 68]\n",
      "[1, 3, 3, 5, 5, 5, 6, 6, 7, 8, 8, 8, 8, 9, 9, 32, 32, 32, 32, 32, 45, 52, 65, 68, 68, 68, 86, 564]\n",
      "[564, 86, 68, 68, 68, 65, 52, 45, 32, 32, 32, 32, 32, 9, 9, 8, 8, 8, 8, 7, 6, 6, 5, 5, 5, 3, 3, 1]\n",
      "[1, 3, 3, 5, 5, 5, 6, 6, 7, 8, 8, 8, 8, 9, 9, 32, 32, 32, 32, 32, 45, 52, 65, 68, 68, 68, 86, 564]\n"
     ]
    }
   ],
   "source": [
    "nums=[7,8,9,52,6,7,1,5,6,8,9,5,32,3,68,3,86,5,68,65,8,32,564,32,45,8,32,8,32,68,325]\n",
    "nums.append(77)\n",
    "print(nums)\n",
    "nums.clear()\n",
    "print(nums)\n",
    "nums.extend([7,8,9,52,6,7,1,5,6,8,9,5,32,3,68,3,86,5,68,65,8,32,564,32,45,8,32,8,32,68,325])\n",
    "print(nums)\n",
    "print(nums.count(7))\n",
    "print(nums.index(7),nums.index(32))\n",
    "print(nums.pop(0))\n",
    "print(nums.pop(-1))\n",
    "nums.remove(8)\n",
    "print(nums)\n",
    "print(sorted(nums))\n",
    "print(nums) #sorted(listname) wont sort inplace\n",
    "nums.sort() # .sort() will sort the values and stores in the same list\n",
    "print(nums)\n",
    "nums.sort(reverse=True)\n",
    "print(nums)\n",
    "nums.reverse()\n",
    "print(nums)"
   ]
  },
  {
   "cell_type": "code",
   "execution_count": 95,
   "metadata": {},
   "outputs": [
    {
     "name": "stdout",
     "output_type": "stream",
     "text": [
      "Venkata prasad k\n",
      "1\n",
      "3\n",
      "3\n",
      "venkata prasad k\n",
      "VENKATA PRASAD K\n",
      "venkatA prasad k\n",
      "['venkata', 'prasad', 'k']\n",
      "venkata prasad k\n",
      "venkata prasad \n",
      "VENKATA PRASAD K\n"
     ]
    }
   ],
   "source": [
    "# String\n",
    "strs=\"venkata prasad k\"\n",
    "print(strs.capitalize())\n",
    "print(strs.count('kat'))\n",
    "print(strs.find('k'))\n",
    "print(strs.index('k'))\n",
    "print(strs.lower())\n",
    "print(strs.upper())\n",
    "print(strs.replace('venkata','venkatA'))\n",
    "print(strs.split())\n",
    "print(strs.strip())\n",
    "print(strs.strip('k'))\n",
    "print(strs.swapcase())\n"
   ]
  },
  {
   "cell_type": "code",
   "execution_count": 99,
   "metadata": {},
   "outputs": [
    {
     "name": "stdout",
     "output_type": "stream",
     "text": [
      "(1, 3, 3, 5, 5, 5, 6, 6, 7, 8, 8, 8, 8, 9, 9, 32, 32, 32, 32, 32, 45, 52, 65, 68, 68, 68, 86, 564)\n",
      "8\n",
      "4\n"
     ]
    }
   ],
   "source": [
    "# Tuple\n",
    "\n",
    "tup=tuple(nums) #tuple from list\n",
    "print(tup)\n",
    "print(tup.index(7))\n",
    "print(tup.count(8))"
   ]
  },
  {
   "cell_type": "code",
   "execution_count": 124,
   "metadata": {},
   "outputs": [
    {
     "name": "stdout",
     "output_type": "stream",
     "text": [
      "{32, 1, 65, 3, 68, 5, 6, 7, 8, 9, 45, 52, 564, 86}\n",
      "{32: 5, 1: 1, 65: 1, 3: 2, 68: 3, 5: 3, 6: 2, 7: 1, 8: 4, 9: 2, 45: 1, 52: 1, 564: 1, 86: 1}\n"
     ]
    }
   ],
   "source": [
    "nums=[1, 3, 3, 5, 5, 5, 6, 6, 7, 8, 8, 8, 8, 9, 9, 32, 32, 32, 32, 32, 45, 52, 65, 68, 68, 68, 86, 564]\n",
    "num_set=set(nums)\n",
    "num_dic={}\n",
    "print(num_set)\n",
    "for i in num_set:\n",
    "    num_dic[i]=nums.count(i)\n",
    "print(num_dic)\n",
    "dic2=num_dic.copy()"
   ]
  },
  {
   "cell_type": "code",
   "execution_count": 125,
   "metadata": {},
   "outputs": [
    {
     "name": "stdout",
     "output_type": "stream",
     "text": [
      "dict_items([(32, 5), (1, 1), (65, 1), (3, 2), (68, 3), (5, 3), (6, 2), (7, 1), (8, 4), (9, 2), (45, 1), (52, 1), (564, 1), (86, 1)])\n",
      "3\n",
      "dict_keys([32, 1, 65, 3, 68, 5, 6, 7, 8, 9, 45, 52, 564, 86])\n",
      "3\n",
      "-1\n",
      "(86, 1)\n",
      "None\n",
      "{32: 5, 1: 1, 65: 1, 3: 2, 68: 3, 5: 3, 6: 2, 7: 1, 8: 4, 9: 2, 45: 1, 52: 1, 564: 1, 86: 1, 100: 1}\n"
     ]
    }
   ],
   "source": [
    "# Dictionary\n",
    "print(num_dic.items())\n",
    "print(num_dic.get(5))\n",
    "print(num_dic.keys())\n",
    "print(num_dic.pop(5,-1))\n",
    "print(num_dic.pop(800,-1))\n",
    "print(num_dic.popitem())\n",
    "print(num_dic.clear()) #returns none\n",
    "num_dic=dic2.copy()\n",
    "num_dic.update({100:1})\n",
    "print(num_dic)"
   ]
  },
  {
   "cell_type": "code",
   "execution_count": 141,
   "metadata": {},
   "outputs": [
    {
     "name": "stdout",
     "output_type": "stream",
     "text": [
      "{32, 1, 65, 3, 68, 5, 6, 7, 8, 9, 100, 45, 52, 564, 86}\n",
      "{32, 1, 65, 3, 68, 5, 6, 7, 8, 9, 100, 101, 45, 52, 564, 86}\n",
      "{32, 1, 65, 3, 68, 5, 6, 7, 8, 9, 100, 45, 52, 564, 86}\n",
      "32\n",
      "{1, 65, 3, 68, 5, 6, 7, 8, 9, 45, 52, 564, 86}\n"
     ]
    }
   ],
   "source": [
    "# Set\n",
    "dic_set=set(num_dic) # keys converted to set\n",
    "print(dic_set)\n",
    "dic_set.add(101)\n",
    "print(dic_set)\n",
    "dic_set.discard(101)\n",
    "print(dic_set)\n",
    "print(dic_set.pop())\n",
    "dic_set.remove(100)\n",
    "print(dic_set)"
   ]
  },
  {
   "cell_type": "code",
   "execution_count": 3,
   "metadata": {},
   "outputs": [
    {
     "name": "stdout",
     "output_type": "stream",
     "text": [
      "8675309\n",
      "let him vote!\n",
      "let him vote!\n",
      "kick him out!\n"
     ]
    }
   ],
   "source": [
    "# Hash table\n",
    "# Look up (simple example)\n",
    "phone_book={}\n",
    "phone_book['jenny'] = 8675309\n",
    "phone_book['emergency'] = 911\n",
    "print(phone_book['jenny'])\n",
    "\n",
    "# Preventing duplicates\n",
    "voted={}\n",
    "def check_voter(name):\n",
    " if voted.get(name):\n",
    "    print('kick him out!')\n",
    " else:\n",
    "    voted[name] = True\n",
    "    print('let him vote!')\n",
    "check_voter(\"Venkat\")\n",
    "check_voter('mike')\n",
    "check_voter('mike')"
   ]
  },
  {
   "cell_type": "code",
   "execution_count": 5,
   "metadata": {},
   "outputs": [
    {
     "name": "stdout",
     "output_type": "stream",
     "text": [
      "<__main__.LinkedList object at 0x0000016346D219D0>\n"
     ]
    }
   ],
   "source": [
    "# Linked list\n",
    "class Node:\n",
    "    def __init__(self, data=None):\n",
    "        self.data = data\n",
    "        self.next = None\n",
    "\n",
    "class LinkedList:\n",
    "    def __init__(self):\n",
    "        self.head = None\n",
    "\n",
    "    def append(self, data):\n",
    "        new_node = Node(data)\n",
    "        if self.head is None:\n",
    "            self.head = new_node\n",
    "            return\n",
    "        current = self.head\n",
    "        while current.next:\n",
    "            current = current.next\n",
    "        current.next = new_node\n",
    "linked_list = LinkedList()\n",
    "linked_list.append(1)\n",
    "linked_list.append(2)\n",
    "linked_list.append(3)\n",
    "# linked list: 1 -> 2 -> 3\n",
    "# Doubly linked list\n",
    "\n",
    "class Node:\n",
    "    def __init__(self, data=None):\n",
    "        self.data = data\n",
    "        self.next = None\n",
    "        self.prev = None\n",
    "\n",
    "class LinkedList:\n",
    "    def __init__(self):\n",
    "        self.head = None\n",
    "\n",
    "    def append(self, data):\n",
    "        new_node = Node(data)\n",
    "        if self.head is None:\n",
    "            self.head = new_node\n",
    "            return\n",
    "        current = self.head\n",
    "        while current.next:\n",
    "            current = current.next\n",
    "        current.next = new_node\n",
    "        new_node.prev = current\n",
    "linked_list = LinkedList()\n",
    "linked_list.append(1)\n",
    "linked_list.append(2)\n",
    "linked_list.append(3)\n",
    "\n",
    "# doubly linked list: 1 <-> 2 <-> 3\n"
   ]
  },
  {
   "cell_type": "code",
   "execution_count": null,
   "metadata": {},
   "outputs": [],
   "source": [
    "# Binary tree\n",
    "class Node:\n",
    "    def __init__(self, data=None):\n",
    "        self.data = data\n",
    "        self.left = None\n",
    "        self.right = None\n",
    "\n",
    "class BinaryTree:\n",
    "    def __init__(self):\n",
    "        self.root = None\n",
    "\n",
    "    def insert(self, data):\n",
    "        new_node = Node(data)\n",
    "        if self.root is None:\n",
    "            self.root = new_node\n",
    "            return\n",
    "        current = self.root\n",
    "        while True:\n",
    "            if data < current.data:\n",
    "                if current.left is None:\n",
    "                    current.left = new_node\n",
    "                    return\n",
    "                current = current.left\n",
    "            else:\n",
    "                if current.right is None:\n",
    "                    current.right = new_node\n",
    "                    return\n",
    "                current = current.right\n",
    "binary_tree = BinaryTree()\n",
    "binary_tree.insert(5)\n",
    "binary_tree.insert(3)\n",
    "binary_tree.insert(7)\n",
    "binary_tree.insert(2)\n",
    "binary_tree.insert(4)\n",
    "binary_tree.insert(6)\n",
    "binary_tree.insert(8)\n",
    "\n",
    "# binary tree:\n",
    "#       5\n",
    "#      / \\\n",
    "#     3   7\n",
    "#    / \\ / \\\n",
    "#   2  4 6  8\n"
   ]
  },
  {
   "cell_type": "code",
   "execution_count": null,
   "metadata": {},
   "outputs": [],
   "source": [
    "# Queue\n",
    "class Queue:\n",
    "    def __init__(self):\n",
    "        self.queue = []\n",
    "\n",
    "    def enqueue(self, data):\n",
    "        self.queue.append(data)\n",
    "\n",
    "    def dequeue(self):\n",
    "        return self.queue.pop(0)\n",
    "\n",
    "    def is_empty(self):\n",
    "        return len(self.queue) == 0\n",
    "queue = Queue()\n",
    "queue.enqueue(1)\n",
    "queue.enqueue(2)\n",
    "queue.enqueue(3)\n",
    "\n",
    "print(queue.dequeue()) # prints 1\n",
    "print(queue.dequeue()) # prints 2\n",
    "print(queue.dequeue()) # prints 3\n",
    "print(queue.is_empty()) # prints True\n"
   ]
  },
  {
   "cell_type": "code",
   "execution_count": null,
   "metadata": {},
   "outputs": [],
   "source": [
    "# Stack\n",
    "\n",
    "class Stack:\n",
    "    def __init__(self):\n",
    "        self.stack = []\n",
    "\n",
    "    def push(self, data):\n",
    "        self.stack.append(data)\n",
    "\n",
    "    def pop(self):\n",
    "        return self.stack.pop()\n",
    "\n",
    "    def is_empty(self):\n",
    "        return len(self.stack) == 0\n",
    "stack = Stack()\n",
    "stack.push(1)\n",
    "stack.push(2)\n",
    "stack.push(3)\n",
    "\n",
    "print(stack.pop()) # prints 3\n",
    "print(stack.pop()) # prints 2\n",
    "print(stack.pop()) # prints 1\n",
    "print(stack.is_empty()) # prints True\n"
   ]
  },
  {
   "cell_type": "code",
   "execution_count": 39,
   "metadata": {},
   "outputs": [
    {
     "name": "stdout",
     "output_type": "stream",
     "text": [
      "[2, 3]\n"
     ]
    }
   ],
   "source": [
    "numbers=[1,20,10,4]\n",
    "target=30\n",
    "for i in range(len(numbers)):\n",
    "    balance=target-numbers[i]\n",
    "    l=i+1\n",
    "    h=len(numbers)-1\n",
    "    j=0\n",
    "    while l<=h:\n",
    "        mid=(l+h)//2\n",
    "        if balance==numbers[mid]:\n",
    "            j=mid\n",
    "            break\n",
    "        if balance<numbers[mid]:\n",
    "            h=mid-1\n",
    "        else:\n",
    "            l=mid+1\n",
    "    if numbers[i]+numbers[j]==target and i<j:\n",
    "        print([i+1,j+1])"
   ]
  },
  {
   "cell_type": "code",
   "execution_count": 19,
   "metadata": {},
   "outputs": [
    {
     "ename": "ValueError",
     "evalue": "5 is not in list",
     "output_type": "error",
     "traceback": [
      "\u001b[1;31m---------------------------------------------------------------------------\u001b[0m",
      "\u001b[1;31mValueError\u001b[0m                                Traceback (most recent call last)",
      "\u001b[1;32mf:\\Python files\\Practice\\Python basics\\DSA.ipynb Cell 30\u001b[0m in \u001b[0;36m<cell line: 2>\u001b[1;34m()\u001b[0m\n\u001b[0;32m      <a href='vscode-notebook-cell:/f%3A/Python%20files/Practice/Python%20basics/DSA.ipynb#X41sZmlsZQ%3D%3D?line=0'>1</a>\u001b[0m a\u001b[39m=\u001b[39m[\u001b[39m1\u001b[39m,\u001b[39m2\u001b[39m,\u001b[39m3\u001b[39m,\u001b[39m4\u001b[39m]\n\u001b[1;32m----> <a href='vscode-notebook-cell:/f%3A/Python%20files/Practice/Python%20basics/DSA.ipynb#X41sZmlsZQ%3D%3D?line=1'>2</a>\u001b[0m a\u001b[39m.\u001b[39;49mindex(\u001b[39m5\u001b[39;49m,\u001b[39m1\u001b[39;49m,\u001b[39m4\u001b[39;49m)\n",
      "\u001b[1;31mValueError\u001b[0m: 5 is not in list"
     ]
    }
   ],
   "source": [
    "a=[1,2,3,4]\n",
    "a.index(5,1,4)"
   ]
  }
 ],
 "metadata": {
  "kernelspec": {
   "display_name": "Python 3.9.10 64-bit",
   "language": "python",
   "name": "python3"
  },
  "language_info": {
   "codemirror_mode": {
    "name": "ipython",
    "version": 3
   },
   "file_extension": ".py",
   "mimetype": "text/x-python",
   "name": "python",
   "nbconvert_exporter": "python",
   "pygments_lexer": "ipython3",
   "version": "3.9.10 (tags/v3.9.10:f2f3f53, Jan 17 2022, 15:14:21) [MSC v.1929 64 bit (AMD64)]"
  },
  "orig_nbformat": 4,
  "vscode": {
   "interpreter": {
    "hash": "11938c6bc6919ae2720b4d5011047913343b08a43b18698fd82dedb0d4417594"
   }
  }
 },
 "nbformat": 4,
 "nbformat_minor": 2
}
