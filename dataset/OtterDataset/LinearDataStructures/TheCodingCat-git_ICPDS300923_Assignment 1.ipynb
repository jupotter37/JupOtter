{
 "cells": [
  {
   "cell_type": "markdown",
   "metadata": {},
   "source": [
    "## 1.Delete the elements in an linked list whose sum is equal to zero."
   ]
  },
  {
   "cell_type": "code",
   "execution_count": 13,
   "metadata": {},
   "outputs": [
    {
     "name": "stdout",
     "output_type": "stream",
     "text": [
      "Original Linked List:\n",
      "1 -> 2 -> -3 -> 4 -> -1 -> 5 -> 6\n",
      "Linked List after removing zero-sum subarrays:\n",
      "4 -> -1 -> 5 -> 6\n"
     ]
    }
   ],
   "source": [
    "class Node:\n",
    "    def __init__(self, data):\n",
    "        self.data = data\n",
    "        self.next = None\n",
    "\n",
    "class LinkedList:\n",
    "    def __init__(self):\n",
    "        self.head = None\n",
    "\n",
    "    def insert(self, data):\n",
    "        new_node = Node(data)\n",
    "        if not self.head:\n",
    "            self.head = new_node\n",
    "        else:\n",
    "            current = self.head\n",
    "            while current.next:\n",
    "                current = current.next\n",
    "            current.next = new_node\n",
    "\n",
    "    def display(self):\n",
    "        current = self.head\n",
    "        if current is None:\n",
    "            print(\"Empty Linked List\")\n",
    "            return\n",
    "\n",
    "        while current.next:\n",
    "            print(current.data, end=\" -> \")\n",
    "            current = current.next\n",
    "        print(current.data)  # Print the last node without arrow\n",
    "\n",
    "    def remove_zero_sum(self):\n",
    "        prefix_sum = 0\n",
    "        sum_dict = {}\n",
    "        current = self.head\n",
    "        prev = None\n",
    "\n",
    "        while current:\n",
    "            prefix_sum += current.data\n",
    "\n",
    "            if prefix_sum == 0:\n",
    "                # If the prefix sum is zero, update head\n",
    "                self.head = current.next\n",
    "                sum_dict.clear()  # Clear sum_dict as we're starting fresh\n",
    "            elif prefix_sum in sum_dict:\n",
    "                # Remove nodes from the linked list\n",
    "                sum_dict[prefix_sum].next = current.next\n",
    "            else:\n",
    "                sum_dict[prefix_sum] = current\n",
    "\n",
    "            prev = current\n",
    "            current = current.next\n",
    "\n",
    "        # Check if the list ends in a zero sum sequence\n",
    "        if prefix_sum == 0 and prev:\n",
    "            prev.next = None\n",
    "\n",
    "    def create_linked_list(self, elements):\n",
    "        for element in elements:\n",
    "            self.insert(element)\n",
    "\n",
    "# Example usage:\n",
    "if __name__ == \"__main__\":\n",
    "    elements = list(map(int, input(\"Enter space-separated elements for linked list: \").split()))\n",
    "    ll = LinkedList()\n",
    "    ll.create_linked_list(elements)\n",
    "\n",
    "    print(\"Original Linked List:\")\n",
    "    ll.display()\n",
    "\n",
    "    ll.remove_zero_sum()\n",
    "\n",
    "    print(\"Linked List after removing zero-sum subarrays:\")\n",
    "    ll.display()\n"
   ]
  },
  {
   "cell_type": "markdown",
   "metadata": {},
   "source": [
    "## 2.Reverse a linked list in groups of given size."
   ]
  },
  {
   "cell_type": "code",
   "execution_count": 11,
   "metadata": {},
   "outputs": [
    {
     "name": "stdout",
     "output_type": "stream",
     "text": [
      "Original Linked List:\n",
      "1 -> 2 -> 3 -> 4 -> 5 -> 6 -> 7 -> 8 -> 9 -> 10\n",
      "Linked List after reversing in groups of 7:\n",
      "7 -> 6 -> 5 -> 4 -> 3 -> 2 -> 1 -> 10 -> 9 -> 8"
     ]
    }
   ],
   "source": [
    "class Node:\n",
    "    def __init__(self, data):\n",
    "        self.data = data\n",
    "        self.next = None\n",
    "\n",
    "class LinkedList:\n",
    "    def __init__(self):\n",
    "        self.head = None\n",
    "\n",
    "    def insert(self, data):\n",
    "        new_node = Node(data)\n",
    "        if not self.head:\n",
    "            self.head = new_node\n",
    "        else:\n",
    "            current = self.head\n",
    "            while current.next:\n",
    "                current = current.next\n",
    "            current.next = new_node\n",
    "\n",
    "    def display(self):\n",
    "        current = self.head\n",
    "        while current:\n",
    "            print(current.data, end=\"\")\n",
    "            if current.next:  # Print arrow (->) if there's a next node\n",
    "                print(\" -> \", end=\"\")\n",
    "            current = current.next\n",
    "\n",
    "    def reverse_in_groups(self, head, k):\n",
    "        current = head\n",
    "        next_node = None\n",
    "        prev = None\n",
    "        count = 0\n",
    "\n",
    "        # Reverse k nodes\n",
    "        while current and count < k:\n",
    "            next_node = current.next\n",
    "            current.next = prev\n",
    "            prev = current\n",
    "            current = next_node\n",
    "            count += 1\n",
    "\n",
    "        # Recursive call for the rest of the list\n",
    "        if next_node is not None:\n",
    "            head.next = self.reverse_in_groups(next_node, k)\n",
    "\n",
    "        return prev\n",
    "\n",
    "    def reverse_linked_list_in_groups(self, k):\n",
    "        self.head = self.reverse_in_groups(self.head, k)\n",
    "\n",
    "# Example usage with input function:\n",
    "if __name__ == \"__main__\":\n",
    "    ll = LinkedList()\n",
    "\n",
    "    # Taking user input for elements\n",
    "    elements_list = list(map(int, input(\"Enter space-separated elements for linked list: \").split()))\n",
    "\n",
    "    # Inserting elements into the linked list\n",
    "    for element in elements_list:\n",
    "        ll.insert(element)\n",
    "\n",
    "    print(\"Original Linked List:\")\n",
    "    ll.display()\n",
    "    print()  # Print a newline after the linked list is displayed\n",
    "\n",
    "    k = int(input(\"Enter group size for reversal: \"))  # Group size for reversal\n",
    "    ll.reverse_linked_list_in_groups(k)\n",
    "\n",
    "    print(f\"Linked List after reversing in groups of {k}:\")\n",
    "    ll.display()\n"
   ]
  },
  {
   "cell_type": "markdown",
   "metadata": {},
   "source": [
    "## 3.Merge a linked list into another linked list at alternate positions."
   ]
  },
  {
   "cell_type": "code",
   "execution_count": 17,
   "metadata": {},
   "outputs": [
    {
     "name": "stdout",
     "output_type": "stream",
     "text": [
      "Enter elements for Linked List 1:\n",
      "Enter elements for Linked List 2:\n",
      "Original Linked List 1:\n",
      "3 -> 2 -> 1\n",
      "Original Linked List 2:\n",
      "8 -> 7 -> 6 -> 5 -> 4\n",
      "Merged Linked List:\n",
      "3 -> 8 -> 2 -> 7 -> 1 -> 6\n"
     ]
    }
   ],
   "source": [
    "class Node:\n",
    "    def __init__(self, data):\n",
    "        self.data = data\n",
    "        self.next = None\n",
    "\n",
    "class LinkedList:\n",
    "    def __init__(self):\n",
    "        self.head = None\n",
    "\n",
    "    def insert(self, data):\n",
    "        new_node = Node(data)\n",
    "        if not self.head:\n",
    "            self.head = new_node\n",
    "        else:\n",
    "            current = self.head\n",
    "            while current.next:\n",
    "                current = current.next\n",
    "            current.next = new_node\n",
    "\n",
    "    def display(self):\n",
    "        current = self.head\n",
    "        if not current:\n",
    "            print(\"Linked List is empty\")\n",
    "            return\n",
    "        \n",
    "        while current.next:\n",
    "            print(current.data, end=\" -> \")\n",
    "            current = current.next\n",
    "        print(current.data)  # Print the last node without arrow\n",
    "\n",
    "    def merge_alternate_positions(self, other):\n",
    "        current = self.head\n",
    "        other_current = other.head\n",
    "\n",
    "        while current and other_current:\n",
    "            temp_next = current.next\n",
    "            other_temp_next = other_current.next\n",
    "\n",
    "            current.next = other_current\n",
    "            other_current.next = temp_next\n",
    "\n",
    "            current = temp_next\n",
    "            other_current = other_temp_next\n",
    "\n",
    "    def create_linked_list_from_input(self):\n",
    "        elements = list(map(int, input(\"Enter space-separated elements for linked list: \").split()))\n",
    "        for element in elements:\n",
    "            self.insert(element)\n",
    "\n",
    "# Example usage with input function:\n",
    "if __name__ == \"__main__\":\n",
    "    ll1 = LinkedList()\n",
    "    ll2 = LinkedList()\n",
    "\n",
    "    print(\"Enter elements for Linked List 1:\")\n",
    "    ll1.create_linked_list_from_input()\n",
    "\n",
    "    print(\"Enter elements for Linked List 2:\")\n",
    "    ll2.create_linked_list_from_input()\n",
    "\n",
    "    print(\"Original Linked List 1:\")\n",
    "    ll1.display()\n",
    "\n",
    "    print(\"Original Linked List 2:\")\n",
    "    ll2.display()\n",
    "\n",
    "    ll1.merge_alternate_positions(ll2)\n",
    "\n",
    "    print(\"Merged Linked List:\")\n",
    "    ll1.display()\n"
   ]
  },
  {
   "cell_type": "markdown",
   "metadata": {},
   "source": [
    "## 4.In an array, Count Pairs with given sum."
   ]
  },
  {
   "cell_type": "code",
   "execution_count": 20,
   "metadata": {},
   "outputs": [
    {
     "name": "stdout",
     "output_type": "stream",
     "text": [
      "Number of pairs with sum 6: 3\n",
      "Pairs with sum 6 are:\n",
      "( 1 , 5 )\n",
      "( -1 , 7 )\n",
      "( 1 , 5 )\n"
     ]
    }
   ],
   "source": [
    "def count_pairs_with_sum(arr, target_sum):\n",
    "    count = 0\n",
    "    hash_table = {}\n",
    "    pairs = []\n",
    "\n",
    "    for num in arr:\n",
    "        complement = target_sum - num\n",
    "        if complement in hash_table:\n",
    "            count += hash_table[complement]\n",
    "            for _ in range(hash_table[complement]):\n",
    "                pairs.append((min(num, complement), max(num, complement)))\n",
    "        if num in hash_table:\n",
    "            hash_table[num] += 1\n",
    "        else:\n",
    "            hash_table[num] = 1\n",
    "\n",
    "    return count, pairs\n",
    "\n",
    "# Example usage with input function:\n",
    "if __name__ == \"__main__\":\n",
    "    array = list(map(int, input(\"Enter space-separated elements of the array: \").split()))\n",
    "    sum_to_find = int(input(\"Enter the target sum: \"))\n",
    "\n",
    "    result_count, result_pairs = count_pairs_with_sum(array, sum_to_find)\n",
    "    print(f\"Number of pairs with sum {sum_to_find}: {result_count}\")\n",
    "    if result_pairs:\n",
    "        print(\"Pairs with sum\", sum_to_find, \"are:\")\n",
    "        for pair in result_pairs:\n",
    "            print(\"(\", pair[0], \",\", pair[1], \")\")\n",
    "    else:\n",
    "        print(\"No pairs found with the given sum.\")\n"
   ]
  },
  {
   "cell_type": "markdown",
   "metadata": {},
   "source": [
    "## 5.Find duplicates in an array."
   ]
  },
  {
   "cell_type": "code",
   "execution_count": 23,
   "metadata": {},
   "outputs": [
    {
     "name": "stdout",
     "output_type": "stream",
     "text": [
      "Duplicates in the array are: [1, 3, 6]\n"
     ]
    }
   ],
   "source": [
    "def find_duplicates(arr):\n",
    "    duplicates = {}\n",
    "    for num in arr:\n",
    "        if num in duplicates:\n",
    "            duplicates[num] += 1\n",
    "        else:\n",
    "            duplicates[num] = 1\n",
    "    \n",
    "    result = [num for num, count in duplicates.items() if count > 1]\n",
    "    return result\n",
    "\n",
    "# Example usage with input function:\n",
    "if __name__ == \"__main__\":\n",
    "    array = list(map(int, input(\"Enter space-separated elements of the array: \").split()))\n",
    "\n",
    "    duplicates = find_duplicates(array)\n",
    "    if duplicates:\n",
    "        print(\"Duplicates in the array are:\", duplicates)\n",
    "    else:\n",
    "        print(\"No duplicates found in the array.\")\n"
   ]
  },
  {
   "cell_type": "markdown",
   "metadata": {},
   "source": [
    "## 6.Find the Kth largest and Kth smallest number in an array."
   ]
  },
  {
   "cell_type": "code",
   "execution_count": 35,
   "metadata": {},
   "outputs": [
    {
     "name": "stdout",
     "output_type": "stream",
     "text": [
      "The 3rd smallest number in the array is: 7\n",
      "The 3rd largest number in the array is: 10\n"
     ]
    }
   ],
   "source": [
    "def ordinal(n):\n",
    "    if 10 <= n % 100 <= 20:\n",
    "        suffix = \"th\"\n",
    "    else:\n",
    "        suffix = {1: \"st\", 2: \"nd\", 3: \"rd\"}.get(n % 10, \"th\")\n",
    "    return str(n) + suffix\n",
    "\n",
    "def find_kth_largest_smallest(arr, k):\n",
    "    sorted_arr = sorted(arr)\n",
    "    \n",
    "    if k > len(sorted_arr) or k <= 0:\n",
    "        return None, None  # Return None if k is out of range\n",
    "    \n",
    "    kth_smallest = sorted_arr[k - 1]\n",
    "    kth_largest = sorted_arr[-k]\n",
    "    \n",
    "    return kth_largest, kth_smallest\n",
    "\n",
    "# Example usage with input function:\n",
    "if __name__ == \"__main__\":\n",
    "    array = list(map(int, input(\"Enter space-separated elements of the array: \").split()))\n",
    "    k = int(input(\"Enter the value of K: \"))\n",
    "\n",
    "    kth_largest, kth_smallest = find_kth_largest_smallest(array, k)\n",
    "\n",
    "    if kth_largest is not None and kth_smallest is not None:\n",
    "        k_ordinal = ordinal(k)\n",
    "        print(f\"The {k_ordinal} smallest number in the array is: {kth_smallest}\")\n",
    "        print(f\"The {k_ordinal} largest number in the array is: {kth_largest}\")\n",
    "    else:\n",
    "        print(\"Invalid value of K or array is empty.\")\n",
    "\n"
   ]
  },
  {
   "cell_type": "markdown",
   "metadata": {},
   "source": [
    "## 7.Move all the negative elements to one side of the array."
   ]
  },
  {
   "cell_type": "code",
   "execution_count": 36,
   "metadata": {},
   "outputs": [
    {
     "name": "stdout",
     "output_type": "stream",
     "text": [
      "Array after rearranging negative elements to one side:\n",
      "[-1, -3, 2, 4, 5, 6, 7, 8, 9]\n"
     ]
    }
   ],
   "source": [
    "def rearrange_negative_elements(arr):\n",
    "    left = 0\n",
    "    right = len(arr) - 1\n",
    "\n",
    "    while left <= right:\n",
    "        if arr[left] < 0 and arr[right] < 0:\n",
    "            left += 1\n",
    "        elif arr[left] > 0 and arr[right] < 0:\n",
    "            arr[left], arr[right] = arr[right], arr[left]\n",
    "            left += 1\n",
    "            right -= 1\n",
    "        elif arr[left] > 0 and arr[right] > 0:\n",
    "            right -= 1\n",
    "        else:\n",
    "            left += 1\n",
    "            right -= 1\n",
    "    \n",
    "    return arr\n",
    "\n",
    "# Example usage with input function:\n",
    "if __name__ == \"__main__\":\n",
    "    array = list(map(int, input(\"Enter space-separated elements of the array: \").split()))\n",
    "\n",
    "    rearranged_array = rearrange_negative_elements(array)\n",
    "\n",
    "    print(\"Array after rearranging negative elements to one side:\")\n",
    "    print(rearranged_array)\n"
   ]
  },
  {
   "cell_type": "markdown",
   "metadata": {},
   "source": [
    "## 8.Reverse a string using a stack data structure."
   ]
  },
  {
   "cell_type": "code",
   "execution_count": 39,
   "metadata": {},
   "outputs": [
    {
     "name": "stdout",
     "output_type": "stream",
     "text": [
      "Reversed string: cba\n"
     ]
    }
   ],
   "source": [
    "class Stack:\n",
    "    def __init__(self):\n",
    "        self.items = []\n",
    "\n",
    "    def push(self, item):\n",
    "        self.items.append(item)\n",
    "\n",
    "    def pop(self):\n",
    "        if not self.is_empty():\n",
    "            return self.items.pop()\n",
    "\n",
    "    def is_empty(self):\n",
    "        return len(self.items) == 0\n",
    "\n",
    "def reverse_string(input_str):\n",
    "    stack = Stack()\n",
    "\n",
    "    # Push each character of the string onto the stack\n",
    "    for char in input_str:\n",
    "        stack.push(char)\n",
    "\n",
    "    reversed_str = ''\n",
    "    # Pop elements from the stack to construct the reversed string\n",
    "    while not stack.is_empty():\n",
    "        reversed_str += stack.pop()\n",
    "\n",
    "    return reversed_str\n",
    "\n",
    "# Example usage with input function:\n",
    "if __name__ == \"__main__\":\n",
    "    input_string = input(\"Enter a string to reverse: \")\n",
    "\n",
    "    reversed_string = reverse_string(input_string)\n",
    "    print(\"Reversed string:\", reversed_string)\n"
   ]
  },
  {
   "cell_type": "markdown",
   "metadata": {},
   "source": [
    "## 9.Evaluate a postfix expression using stack."
   ]
  },
  {
   "cell_type": "code",
   "execution_count": 42,
   "metadata": {},
   "outputs": [
    {
     "name": "stdout",
     "output_type": "stream",
     "text": [
      "Result: -4\n"
     ]
    }
   ],
   "source": [
    "class Stack:\n",
    "    def __init__(self):\n",
    "        self.items = []\n",
    "\n",
    "    def push(self, item):\n",
    "        self.items.append(item)\n",
    "\n",
    "    def pop(self):\n",
    "        if not self.is_empty():\n",
    "            return self.items.pop()\n",
    "\n",
    "    def is_empty(self):\n",
    "        return len(self.items) == 0\n",
    "\n",
    "def evaluate_postfix(expression):\n",
    "    stack = Stack()\n",
    "    operators = set(['+', '-', '*', '/'])\n",
    "\n",
    "    tokens = expression.split()\n",
    "\n",
    "    for token in tokens:\n",
    "        if token.isdigit():\n",
    "            stack.push(int(token))\n",
    "        elif token in operators:\n",
    "            operand2 = stack.pop()\n",
    "            operand1 = stack.pop()\n",
    "\n",
    "            if operand1 is None or operand2 is None:\n",
    "                return \"Invalid expression\"\n",
    "\n",
    "            if token == '+':\n",
    "                stack.push(operand1 + operand2)\n",
    "            elif token == '-':\n",
    "                stack.push(operand1 - operand2)\n",
    "            elif token == '*':\n",
    "                stack.push(operand1 * operand2)\n",
    "            elif token == '/':\n",
    "                if operand2 == 0:\n",
    "                    return \"Division by zero error\"\n",
    "                stack.push(operand1 / operand2)\n",
    "        else:\n",
    "            return \"Invalid token in expression\"\n",
    "\n",
    "    result = stack.pop()\n",
    "\n",
    "    if not stack.is_empty() or result is None:\n",
    "        return \"Invalid expression\"\n",
    "    else:\n",
    "        return result\n",
    "\n",
    "# Example usage with input function:\n",
    "if __name__ == \"__main__\":\n",
    "    postfix_expression = input(\"Enter a postfix expression: \")\n",
    "\n",
    "    result = evaluate_postfix(postfix_expression)\n",
    "    print(\"Result:\", result)\n"
   ]
  },
  {
   "cell_type": "markdown",
   "metadata": {},
   "source": [
    "## 10.Implement a queue using the stack data structure."
   ]
  },
  {
   "cell_type": "code",
   "execution_count": 6,
   "metadata": {},
   "outputs": [
    {
     "name": "stdout",
     "output_type": "stream",
     "text": [
      "Dequeued elements:\n",
      "1\n",
      "0\n",
      "6\n",
      "Elements remaining in the queue:\n",
      "3\n"
     ]
    }
   ],
   "source": [
    "class QueueUsingStack:\n",
    "    def __init__(self):\n",
    "        self.enqueue_stack = []\n",
    "        self.dequeue_stack = []\n",
    "\n",
    "    def enqueue(self, item):\n",
    "        self.enqueue_stack.append(item)\n",
    "\n",
    "    def dequeue(self):\n",
    "        if not self.dequeue_stack:\n",
    "            if not self.enqueue_stack:\n",
    "                return \"Queue is empty\"\n",
    "            while self.enqueue_stack:\n",
    "                self.dequeue_stack.append(self.enqueue_stack.pop())\n",
    "        return self.dequeue_stack.pop()\n",
    "\n",
    "    def remaining_elements(self):\n",
    "        return self.dequeue_stack[::-1] + self.enqueue_stack\n",
    "\n",
    "# Example usage with input function:\n",
    "if __name__ == \"__main__\":\n",
    "    queue = QueueUsingStack()\n",
    "\n",
    "    # Enqueue elements\n",
    "    elements_to_enqueue = list(map(int, input(\"Enter space-separated elements to enqueue: \").split()))\n",
    "    for element in elements_to_enqueue:\n",
    "        queue.enqueue(element)\n",
    "\n",
    "    # Dequeue elements\n",
    "    num_dequeue = int(input(\"Enter the number of elements to dequeue: \"))\n",
    "    print(\"Dequeued elements:\")\n",
    "    for _ in range(num_dequeue):\n",
    "        dequeued_element = queue.dequeue()\n",
    "        if dequeued_element is not None:\n",
    "            print(dequeued_element)\n",
    "        else:\n",
    "            print(\"Queue is empty\")\n",
    "\n",
    "    # Show elements remaining in the queue\n",
    "    remaining_elements = queue.remaining_elements()\n",
    "    if remaining_elements:\n",
    "        print(\"Elements remaining in the queue:\")\n",
    "        print(*remaining_elements)\n",
    "    else:\n",
    "        print(\"Queue is empty\")\n"
   ]
  }
 ],
 "metadata": {
  "kernelspec": {
   "display_name": "Python 3",
   "language": "python",
   "name": "python3"
  },
  "language_info": {
   "codemirror_mode": {
    "name": "ipython",
    "version": 3
   },
   "file_extension": ".py",
   "mimetype": "text/x-python",
   "name": "python",
   "nbconvert_exporter": "python",
   "pygments_lexer": "ipython3",
   "version": "3.11.4"
  }
 },
 "nbformat": 4,
 "nbformat_minor": 2
}
