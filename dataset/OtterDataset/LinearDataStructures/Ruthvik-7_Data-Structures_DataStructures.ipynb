{
  "nbformat": 4,
  "nbformat_minor": 0,
  "metadata": {
    "colab": {
      "provenance": []
    },
    "kernelspec": {
      "name": "python3",
      "display_name": "Python 3"
    },
    "language_info": {
      "name": "python"
    }
  },
  "cells": [
    {
      "cell_type": "markdown",
      "source": [
        "Singly Linked List"
      ],
      "metadata": {
        "id": "uHcsfMgjRo-M"
      }
    },
    {
      "cell_type": "code",
      "execution_count": null,
      "metadata": {
        "id": "ej6ocSnVMXaq"
      },
      "outputs": [],
      "source": [
        "class Node:\n",
        "    def __init__(self, data):\n",
        "        self.data = data\n",
        "        self.next = None\n",
        "\n",
        "class SinglyLinkedList:\n",
        "    def __init__(self):\n",
        "        self.head = None\n",
        "\n",
        "    def append(self, data):\n",
        "        new_node = Node(data)\n",
        "        if not self.head:\n",
        "            self.head = new_node\n",
        "        else:\n",
        "            last = self.head\n",
        "            while last.next:\n",
        "                last = last.next\n",
        "            last.next = new_node\n",
        "\n",
        "    def display(self):\n",
        "        temp = self.head\n",
        "        while temp:\n",
        "            print(temp.data, end=\" -> \")\n",
        "            temp = temp.next\n",
        "        print(\"None\")\n",
        "\n",
        "if __name__ == \"__main__\":\n",
        "    sll = SinglyLinkedList()\n",
        "    n = int(input(\"Enter the number of elements: \"))\n",
        "    for _ in range(n):\n",
        "        data = int(input(\"Enter data: \"))\n",
        "        sll.append(data)\n",
        "    print(\"Singly Linked List: \")\n",
        "    sll.display()\n"
      ]
    },
    {
      "cell_type": "markdown",
      "source": [
        "Doubly Linked List"
      ],
      "metadata": {
        "id": "Wi9dJKC3RtNN"
      }
    },
    {
      "cell_type": "code",
      "source": [
        "class Node:\n",
        "    def __init__(self, data):\n",
        "        self.data = data\n",
        "        self.prev = None\n",
        "        self.next = None\n",
        "\n",
        "class DoublyLinkedList:\n",
        "    def __init__(self):\n",
        "        self.head = None\n",
        "\n",
        "    def append(self, data):\n",
        "        new_node = Node(data)\n",
        "        if not self.head:\n",
        "            self.head = new_node\n",
        "        else:\n",
        "            last = self.head\n",
        "            while last.next:\n",
        "                last = last.next\n",
        "            last.next = new_node\n",
        "            new_node.prev = last\n",
        "\n",
        "    def display(self):\n",
        "        temp = self.head\n",
        "        while temp:\n",
        "            print(temp.data, end=\" <-> \")\n",
        "            temp = temp.next\n",
        "        print(\"None\")\n",
        "\n",
        "if __name__ == \"__main__\":\n",
        "    dll = DoublyLinkedList()\n",
        "    n = int(input(\"Enter the number of elements: \"))\n",
        "    for _ in range(n):\n",
        "        data = int(input(\"Enter data: \"))\n",
        "        dll.append(data)\n",
        "    print(\"Doubly Linked List: \")\n",
        "    dll.display()\n"
      ],
      "metadata": {
        "id": "tDf3YS5eMclC"
      },
      "execution_count": null,
      "outputs": []
    },
    {
      "cell_type": "markdown",
      "source": [
        "Circular Linked List"
      ],
      "metadata": {
        "id": "1lezmPKMRvgY"
      }
    },
    {
      "cell_type": "code",
      "source": [
        "class Node:\n",
        "    def __init__(self, data):\n",
        "        self.data = data\n",
        "        self.next = None\n",
        "\n",
        "class CircularLinkedList:\n",
        "    def __init__(self):\n",
        "        self.head = None\n",
        "\n",
        "    def append(self, data):\n",
        "        new_node = Node(data)\n",
        "        if not self.head:\n",
        "            self.head = new_node\n",
        "            new_node.next = self.head\n",
        "        else:\n",
        "            last = self.head\n",
        "            while last.next != self.head:\n",
        "                last = last.next\n",
        "            last.next = new_node\n",
        "            new_node.next = self.head\n",
        "\n",
        "    def display(self):\n",
        "        if not self.head:\n",
        "            print(\"List is empty.\")\n",
        "            return\n",
        "        temp = self.head\n",
        "        while True:\n",
        "            print(temp.data, end=\" -> \")\n",
        "            temp = temp.next\n",
        "            if temp == self.head:\n",
        "                break\n",
        "        print(\"... (Circular)\")\n",
        "\n",
        "if __name__ == \"__main__\":\n",
        "    cll = CircularLinkedList()\n",
        "    n = int(input(\"Enter the number of elements: \"))\n",
        "    for _ in range(n):\n",
        "        data = int(input(\"Enter data: \"))\n",
        "        cll.append(data)\n",
        "    print(\"Circular Linked List: \")\n",
        "    cll.display()\n"
      ],
      "metadata": {
        "id": "kZK11GcGMchj"
      },
      "execution_count": null,
      "outputs": []
    },
    {
      "cell_type": "markdown",
      "source": [
        "Stack (using array)"
      ],
      "metadata": {
        "id": "-VNLvLq4Ryag"
      }
    },
    {
      "cell_type": "code",
      "source": [
        "class Stack:\n",
        "    def __init__(self):\n",
        "        self.stack = []\n",
        "\n",
        "    def push(self, data):\n",
        "        self.stack.append(data)\n",
        "\n",
        "    def pop(self):\n",
        "        if not self.is_empty():\n",
        "            return self.stack.pop()\n",
        "        return \"Stack is empty\"\n",
        "\n",
        "    def is_empty(self):\n",
        "        return len(self.stack) == 0\n",
        "\n",
        "    def display(self):\n",
        "        print(\"Stack:\", self.stack)\n",
        "\n",
        "if __name__ == \"__main__\":\n",
        "    stack = Stack()\n",
        "    n = int(input(\"Enter the number of elements: \"))\n",
        "    for _ in range(n):\n",
        "        data = int(input(\"Enter data to push: \"))\n",
        "        stack.push(data)\n",
        "    stack.display()\n",
        "    print(\"Popped:\", stack.pop())\n",
        "    stack.display()\n"
      ],
      "metadata": {
        "id": "A_JvOhN4Mce8"
      },
      "execution_count": null,
      "outputs": []
    },
    {
      "cell_type": "markdown",
      "source": [
        "Stack (using linked list)"
      ],
      "metadata": {
        "id": "Dc_ujgzJR91z"
      }
    },
    {
      "cell_type": "code",
      "source": [
        "class Node:\n",
        "    def __init__(self, data):\n",
        "        self.data = data\n",
        "        self.next = None\n",
        "\n",
        "class Stack:\n",
        "    def __init__(self):\n",
        "        self.top = None\n",
        "\n",
        "    def push(self, data):\n",
        "        new_node = Node(data)\n",
        "        new_node.next = self.top\n",
        "        self.top = new_node\n",
        "\n",
        "    def pop(self):\n",
        "        if not self.is_empty():\n",
        "            temp = self.top\n",
        "            self.top = self.top.next\n",
        "            return temp.data\n",
        "        return \"Stack is empty\"\n",
        "\n",
        "    def is_empty(self):\n",
        "        return self.top is None\n",
        "\n",
        "    def display(self):\n",
        "        temp = self.top\n",
        "        stack_data = []\n",
        "        while temp:\n",
        "            stack_data.append(temp.data)\n",
        "            temp = temp.next\n",
        "        print(\"Stack:\", stack_data)\n",
        "\n",
        "if __name__ == \"__main__\":\n",
        "    stack = Stack()\n",
        "    n = int(input(\"Enter the number of elements: \"))\n",
        "    for _ in range(n):\n",
        "        data = int(input(\"Enter data to push: \"))\n",
        "        stack.push(data)\n",
        "    stack.display()\n",
        "    print(\"Popped:\", stack.pop())\n",
        "    stack.display()\n"
      ],
      "metadata": {
        "id": "6wSSxK3PMccb"
      },
      "execution_count": null,
      "outputs": []
    },
    {
      "cell_type": "markdown",
      "source": [
        "Circular Queue"
      ],
      "metadata": {
        "id": "Cy21nOvCSB1d"
      }
    },
    {
      "cell_type": "code",
      "source": [
        "class CircularQueue:\n",
        "    def __init__(self, size):\n",
        "        self.queue = [None] * size\n",
        "        self.front = self.rear = -1\n",
        "        self.size = size\n",
        "\n",
        "    def enqueue(self, data):\n",
        "        if (self.rear + 1) % self.size == self.front:\n",
        "            return \"Queue is full\"\n",
        "        elif self.front == -1:\n",
        "            self.front = self.rear = 0\n",
        "        else:\n",
        "            self.rear = (self.rear + 1) % self.size\n",
        "        self.queue[self.rear] = data\n",
        "\n",
        "    def dequeue(self):\n",
        "        if self.front == -1:\n",
        "            return \"Queue is empty\"\n",
        "        elif self.front == self.rear:\n",
        "            data = self.queue[self.front]\n",
        "            self.front = self.rear = -1\n",
        "            return data\n",
        "        else:\n",
        "            data = self.queue[self.front]\n",
        "            self.front = (self.front + 1) % self.size\n",
        "            return data\n",
        "\n",
        "    def display(self):\n",
        "        if self.front == -1:\n",
        "            print(\"Queue is empty\")\n",
        "            return\n",
        "        i = self.front\n",
        "        while i != self.rear:\n",
        "            print(self.queue[i], end=\" <- \")\n",
        "            i = (i + 1) % self.size\n",
        "        print(self.queue[self.rear])\n",
        "\n",
        "if __name__ == \"__main__\":\n",
        "    size = int(input(\"Enter the size of the queue: \"))\n",
        "    q = CircularQueue(size)\n",
        "    n = int(input(\"Enter the number of elements: \"))\n",
        "    for _ in range(n):\n",
        "        data = int(input(\"Enter data to enqueue: \"))\n",
        "        q.enqueue(data)\n",
        "    q.display()\n",
        "    print(\"Dequeued:\", q.dequeue())\n",
        "    q.display()\n"
      ],
      "metadata": {
        "id": "rYa2AQ1lMcZb"
      },
      "execution_count": null,
      "outputs": []
    },
    {
      "cell_type": "markdown",
      "source": [
        "Priority Queue"
      ],
      "metadata": {
        "id": "QVJSCHH3SEZI"
      }
    },
    {
      "cell_type": "code",
      "source": [
        "import heapq\n",
        "\n",
        "class PriorityQueue:\n",
        "    def __init__(self):\n",
        "        self.queue = []\n",
        "\n",
        "    def enqueue(self, data):\n",
        "        heapq.heappush(self.queue, data)\n",
        "\n",
        "    def dequeue(self):\n",
        "        if self.is_empty():\n",
        "            return \"Queue is empty\"\n",
        "        return heapq.heappop(self.queue)\n",
        "\n",
        "    def is_empty(self):\n",
        "        return len(self.queue) == 0\n",
        "\n",
        "    def display(self):\n",
        "        print(\"Priority Queue:\", self.queue)\n",
        "\n",
        "if __name__ == \"__main__\":\n",
        "    pq = PriorityQueue()\n",
        "    n = int(input(\"Enter the number of elements: \"))\n",
        "    for _ in range(n):\n",
        "        data = int(input(\"Enter data to enqueue: \"))\n",
        "        pq.enqueue(data)\n",
        "    pq.display()\n",
        "    print(\"Dequeued:\", pq.dequeue())\n",
        "    pq.display()\n"
      ],
      "metadata": {
        "id": "UqXS-93YMxwI"
      },
      "execution_count": null,
      "outputs": []
    },
    {
      "cell_type": "markdown",
      "source": [
        "Binary Tree"
      ],
      "metadata": {
        "id": "Fm2ahVP8SGtW"
      }
    },
    {
      "cell_type": "code",
      "source": [
        "class Node:\n",
        "    def __init__(self, data):\n",
        "        self.data = data\n",
        "        self.left = None\n",
        "        self.right = None\n",
        "\n",
        "class BinaryTree:\n",
        "    def __init__(self):\n",
        "        self.root = None\n",
        "\n",
        "    def insert(self, data):\n",
        "        if self.root is None:\n",
        "            self.root = Node(data)\n",
        "        else:\n",
        "            self._insert(self.root, data)\n",
        "\n",
        "    def _insert(self, node, data):\n",
        "        if data < node.data:\n",
        "            if node.left:\n",
        "                self._insert(node.left, data)\n",
        "            else:\n",
        "                node.left = Node(data)\n",
        "        else:\n",
        "            if node.right:\n",
        "                self._insert(node.right, data)\n",
        "            else:\n",
        "                node.right = Node(data)\n",
        "\n",
        "    def inorder(self):\n",
        "        self._inorder(self.root)\n",
        "\n",
        "    def _inorder(self, node):\n",
        "        if node:\n",
        "            self._inorder(node.left)\n",
        "            print(node.data, end=\" \")\n",
        "            self._inorder(node.right)\n",
        "\n",
        "if __name__ == \"__main__\":\n",
        "    bt = BinaryTree()\n",
        "    n = int(input(\"Enter the number of elements: \"))\n",
        "    for _ in range(n):\n",
        "        data = int(input(\"Enter data to insert: \"))\n",
        "        bt.insert(data)\n",
        "    print(\"Inorder Traversal of Binary Tree: \")\n",
        "    bt.inorder()\n"
      ],
      "metadata": {
        "id": "rRMl3IwtM1dT"
      },
      "execution_count": null,
      "outputs": []
    },
    {
      "cell_type": "markdown",
      "source": [
        "Binary Search Tree(BST)"
      ],
      "metadata": {
        "id": "CXKzGy5ASQs3"
      }
    },
    {
      "cell_type": "code",
      "source": [
        "class Node:\n",
        "    def __init__(self, key):\n",
        "        self.left = None\n",
        "        self.right = None\n",
        "        self.value = key\n",
        "\n",
        "def insert(root, key):\n",
        "    if root is None:\n",
        "        return Node(key)\n",
        "    else:\n",
        "        if key < root.value:\n",
        "            root.left = insert(root.left, key)\n",
        "        else:\n",
        "            root.right = insert(root.right, key)\n",
        "    return root\n",
        "\n",
        "def inorder(root):\n",
        "    if root:\n",
        "        inorder(root.left)\n",
        "        print(root.value, end=\" \")\n",
        "        inorder(root.right)\n",
        "\n",
        "def search(root, key):\n",
        "    if root is None or root.value == key:\n",
        "        return root\n",
        "    if key < root.value:\n",
        "        return search(root.left, key)\n",
        "    return search(root.right, key)\n",
        "\n",
        "if __name__ == \"__main__\":\n",
        "    root = None\n",
        "    n = int(input(\"Enter the number of elements to insert in BST: \"))\n",
        "    for _ in range(n):\n",
        "        key = int(input(\"Enter the element to insert: \"))\n",
        "        root = insert(root, key)\n",
        "\n",
        "    print(\"Inorder Traversal of BST:\")\n",
        "    inorder(root)\n",
        "    print()\n",
        "\n",
        "    key = int(input(\"Enter the element to search in BST: \"))\n",
        "    found_node = search(root, key)\n",
        "    if found_node:\n",
        "        print(f\"Element {key} found in BST.\")\n",
        "    else:\n",
        "        print(f\"Element {key} not found in BST.\")\n"
      ],
      "metadata": {
        "id": "fhicXz9vM4Tc"
      },
      "execution_count": null,
      "outputs": []
    },
    {
      "cell_type": "markdown",
      "source": [
        "Hash Table"
      ],
      "metadata": {
        "id": "CCAGw8IrSzjp"
      }
    },
    {
      "cell_type": "code",
      "source": [
        "class HashTable:\n",
        "    def __init__(self, size):\n",
        "        self.size = size\n",
        "        self.table = [None] * self.size\n",
        "\n",
        "    def _hash(self, key):\n",
        "        # Simple hash function\n",
        "        return hash(key) % self.size\n",
        "\n",
        "    def insert(self, key, value):\n",
        "        index = self._hash(key)\n",
        "        if self.table[index] is None:\n",
        "            self.table[index] = [(key, value)]\n",
        "        else:\n",
        "            # Avoid duplicates and append new key-value pair\n",
        "            for i, (k, v) in enumerate(self.table[index]):\n",
        "                if k == key:\n",
        "                    self.table[index][i] = (key, value)  # Update existing value\n",
        "                    return\n",
        "            self.table[index].append((key, value))  # Insert new key-value pair\n",
        "\n",
        "    def search(self, key):\n",
        "        index = self._hash(key)\n",
        "        if self.table[index] is not None:\n",
        "            for k, v in self.table[index]:\n",
        "                if k == key:\n",
        "                    return v\n",
        "        return None\n",
        "\n",
        "    def delete(self, key):\n",
        "        index = self._hash(key)\n",
        "        if self.table[index] is not None:\n",
        "            for i, (k, v) in enumerate(self.table[index]):\n",
        "                if k == key:\n",
        "                    del self.table[index][i]\n",
        "                    return True\n",
        "        return False\n",
        "\n",
        "    def display(self):\n",
        "        for index, item in enumerate(self.table):\n",
        "            if item is not None:\n",
        "                print(f\"Index {index}: {item}\")\n",
        "\n",
        "if __name__ == \"__main__\":\n",
        "    hash_table = HashTable(10)  # Create a hash table of size 10\n",
        "\n",
        "    n = int(input(\"Enter the number of key-value pairs to insert: \"))\n",
        "    for _ in range(n):\n",
        "        key = input(\"Enter the key: \")\n",
        "        value = input(\"Enter the value: \")\n",
        "        hash_table.insert(key, value)\n",
        "\n",
        "    print(\"Hash Table Contents:\")\n",
        "    hash_table.display()\n",
        "\n",
        "    key_to_search = input(\"Enter the key to search: \")\n",
        "    value = hash_table.search(key_to_search)\n",
        "    if value:\n",
        "        print(f\"Found value: {value}\")\n",
        "    else:\n",
        "        print(\"Key not found.\")\n",
        "\n",
        "    key_to_delete = input(\"Enter the key to delete: \")\n",
        "    if hash_table.delete(key_to_delete):\n",
        "        print(f\"Key '{key_to_delete}' deleted successfully.\")\n",
        "    else:\n",
        "        print(\"Key not found.\")\n"
      ],
      "metadata": {
        "id": "w16KNQ43SyOI"
      },
      "execution_count": null,
      "outputs": []
    }
  ]
}