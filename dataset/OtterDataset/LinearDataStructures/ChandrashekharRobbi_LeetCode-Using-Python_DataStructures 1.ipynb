{
 "cells": [
  {
   "cell_type": "code",
   "execution_count": 1,
   "id": "d88f9bce",
   "metadata": {},
   "outputs": [],
   "source": [
    "url = \"https://docs.google.com/spreadsheets/d/1mmrEpl82epOBfeSdbCnOkd0P3yGEEFF-x110dkSNZhI/edit?usp=sharing\""
   ]
  },
  {
   "cell_type": "code",
   "execution_count": 2,
   "id": "9911ca28",
   "metadata": {},
   "outputs": [
    {
     "name": "stdout",
     "output_type": "stream",
     "text": [
      "This Function is Created by Chandrashekhar Robbi.\n",
      "Note this function is especially created for my leet code solving purposes \n",
      "It takes name of the problem and return leetcode link and it has features like create array which has markdown, comment and delete after executing and many more :)\n"
     ]
    }
   ],
   "source": [
    "%run ../leetcode_function.py\n",
    "z = LeetFunction(url)"
   ]
  },
  {
   "cell_type": "markdown",
   "id": "4395be1c",
   "metadata": {},
   "source": [
    "# LeetCode Problems \n",
    "\n",
    "* Make the below links workable??\n",
    "[Click Me](https://nbviewer.org/github/ChandrashekharRobbi/LeetCode-Using-Python/blob/main/Data%20Structures/DataStructures%201.ipynb)\n",
    "\n",
    "### Data Structures 1\n",
    "\n",
    "* ✅ [217.Contains Duplicate](#217.Contains-Duplicate)           [<a href='https://leetcode.com/problems/contains-duplicate' style='color:black'>Link</a>]\n",
    "* ✅ [53. Maximum Subarray](#53.-Maximum-Subarray)           [<a href='https://leetcode.com/problems/maximum-subarray' style='color:black'>Link</a>]\n",
    "* ✅ [1. Two Sum](#1.-Two-Sum)           [<a href='https://leetcode.com/problems/two-sum' style='color:black'>Link</a>]\n",
    "* ✅ [88. Merge Sorted Array](#88.-Merge-Sorted-Array)           [<a href='https://leetcode.com/problems/merge-sorted-array' style='color:black'>Link</a>]\n",
    "* ✅ [350. Intersection of Two Arrays II](#350.-Intersection-of-Two-Arrays-II)           [<a href='https://leetcode.com/problems/intersection-of-two-arrays-ii' style='color:black'>Link</a>]\n",
    "* ✅ [121. Best Time to Buy and Sell Stock](#121.-Best-Time-to-Buy-and-Sell-Stock)           [<a href='https://leetcode.com/problems/best-time-to-buy-and-sell-stock' style='color:black'>Link</a>]\n",
    "* ✅ [566. Reshape the Matrix](#566.-Reshape-the-Matrix)           [<a href='https://leetcode.com/problems/reshape-the-matrix' style='color:black'>Link</a>]\n",
    "* ✅ [566. Reshape the Matrix](#566.-Reshape-the-Matrix)           [<a href='https://leetcode.com/problems/reshape-the-matrix' style='color:black'>Link</a>]\n",
    "* ✅ [118. Pascal's Triangle](#118.-Pascal's-Triangle)           [<a href='https://leetcode.com/problems/pascals-triangle' style='color:black'>Link</a>]\n",
    "* ✅ [383. Ransom Note](#383.-Ransom-Note)           [<a href='https://leetcode.com/problems/ransom-note' style='color:black'>Link</a>]\n",
    "* ✅ [387. First Unique Character in a String](#387.-First-Unique-Character-in-a-String)           [<a href='https://leetcode.com/problems/first-unique-character-in-a-string' style='color:black'>Link</a>]\n",
    "* ✅ [74. Search a 2D Matrix](#74.-Search-a-2D-Matrix)           [<a href='https://leetcode.com/problems/search-a-2d-matrix' style='color:black'>Link</a>]\n",
    "* ✅ [242. Valid Anagram](#242.-Valid-Anagram)           [<a href='https://leetcode.com/problems/valid-anagram' style='color:black'>Link</a>]\n",
    "* ✅ [141. Linked List Cycle](#141.-Linked-List-Cycle)           [<a href='https://leetcode.com/problems/linked-list-cycle' style='color:black'>Link</a>]\n",
    "* ✅ [21. Merge Two Sorted Lists](#21.-Merge-Two-Sorted-Lists)           [<a href='https://leetcode.com/problems/merge-two-sorted-lists' style='color:black'>Link</a>]\n",
    "* ✅ [206. Reverse Linked List](#206.-Reverse-Linked-List)           [<a href='https://leetcode.com/problems/reverse-linked-list' style='color:black'>Link</a>]\n",
    "* ✅ [83. Remove Duplicates from Sorted List](#83.-Remove-Duplicates-from-Sorted-List)           [<a href='https://leetcode.com/problems/remove-duplicates-from-sorted-list' style='color:black'>Link</a>]\n",
    "* ✅ [203. Remove Linked List Elements](#203.-Remove-Linked-List-Elements)           [<a href='https://leetcode.com/problems/remove-linked-list-elements' style='color:black'>Link</a>]\n",
    "* ✅ [232. Implement Queue using Stacks](#232.-Implement-Queue-using-Stacks)           [<a href='https://leetcode.com/problems/implement-queue-using-stacks' style='color:black'>Link</a>]\n",
    "* ✅ [20. Valid Parentheses](#20.-Valid-Parentheses)           [<a href='https://leetcode.com/problems/valid-parentheses' style='color:black'>Link</a>]\n",
    "* ✅ [144. Binary Tree Preorder Traversal](#144.-Binary-Tree-Preorder-Traversal)           [<a href='https://leetcode.com/problems/binary-tree-preorder-traversal' style='color:black'>Link</a>]\n",
    "* ✅ [94. Binary Tree Inorder Traversal](#94.-Binary-Tree-Inorder-Traversal)           [<a href='https://leetcode.com/problems/binary-tree-inorder-traversal' style='color:black'>Link</a>]\n",
    "* ✅ [145. Binary Tree Postorder Traversal](#145.-Binary-Tree-Postorder-Traversal)           [<a href='https://leetcode.com/problems/binary-tree-postorder-traversal' style='color:black'>Link</a>]\n",
    "* ✅ [36. Valid Sudoku](#36.-Valid-Sudoku)           [<a href='https://leetcode.com/problems/valid-sudoku' style='color:black'>Link</a>]\n",
    "* ✅ [102. Binary Tree Level Order Traversal](#102.-Binary-Tree-Level-Order-Traversal)           [<a href='https://leetcode.com/problems/binary-tree-level-order-traversal' style='color:black'>Link</a>]\n",
    "* ✅ [104. Maximum Depth of Binary Tree](#104.-Maximum-Depth-of-Binary-Tree)           [<a href='https://leetcode.com/problems/maximum-depth-of-binary-tree' style='color:black'>Link</a>]\n",
    "* ✅ [101. Symmetric Tree](#101.-Symmetric-Tree)           [<a href='https://leetcode.com/problems/symmetric-tree' style='color:black'>Link</a>]\n",
    "* ✅ [226. Invert Binary Tree](#226.-Invert-Binary-Tree)           [<a href='https://leetcode.com/problems/invert-binary-tree' style='color:black'>Link</a>]\n",
    "* ✅ [112. Path Sum](#112.-Path-Sum)           [<a href='https://leetcode.com/problems/path-sum' style='color:black'>Link</a>]\n",
    "* ✅ [700. Search in a Binary Search Tree](#700.-Search-in-a-Binary-Search-Tree)           [<a href='https://leetcode.com/problems/search-in-a-binary-search-tree' style='color:black'>Link</a>]\n",
    "* ✅ [701. Insert into a Binary Search Tree](#701.-Insert-into-a-Binary-Search-Tree)           [<a href='https://leetcode.com/problems/insert-into-a-binary-search-tree' style='color:black'>Link</a>]\n",
    "* ✅ [98. Validate Binary Search Tree](#98.-Validate-Binary-Search-Tree)           [<a href='https://leetcode.com/problems/validate-binary-search-tree' style='color:black'>Link</a>]\n",
    "* ✅ [653. Two Sum IV - Input is a BST](#653.-Two-Sum-IV---Input-is-a-BST)           [<a href='https://leetcode.com/problems/two-sum-iv---input-is-a-bst' style='color:black'>Link</a>]\n",
    "* ✅ [235. Lowest Common Ancestor of a Binary Search Tree](#235.-Lowest-Common-Ancestor-of-a-Binary-Search-Tree)           [<a href='https://leetcode.com/problems/lowest-common-ancestor-of-a-binary-search-tree' style='color:black'>Link</a>]"
   ]
  },
  {
   "cell_type": "markdown",
   "id": "c9005635",
   "metadata": {},
   "source": [
    "> Refering this sheet : https://docs.google.com/spreadsheets/d/1mmrEpl82epOBfeSdbCnOkd0P3yGEEFF-x110dkSNZhI/edit?usp=sharing"
   ]
  },
  {
   "cell_type": "markdown",
   "id": "f841e425",
   "metadata": {},
   "source": [
    "## 217.Contains Duplicate\n",
    "\n",
    "* Approach : Used Hashing\n",
    "* Time Complexity : $ O(N + N) $ = O(N)"
   ]
  },
  {
   "cell_type": "code",
   "execution_count": 3,
   "id": "c529d132",
   "metadata": {},
   "outputs": [],
   "source": [
    "class Solution:\n",
    "    def containsDuplicate(self, nums: list[int]) -> bool:\n",
    "        hash = {}\n",
    "        for i in nums:\n",
    "            if i not in hash:\n",
    "                hash[i] = 1\n",
    "            else:\n",
    "                hash[i] += 1\n",
    "        for i in nums:\n",
    "            if hash[i] > 1:\n",
    "                return True\n",
    "        return False"
   ]
  },
  {
   "cell_type": "markdown",
   "id": "1c8fa602",
   "metadata": {},
   "source": [
    "## 53. Maximum Subarray\n",
    "\n",
    "* Approach : Used two variables as a reference and iterate it by handling negative values\n",
    "* TIme Complexity : $ O(N) $ "
   ]
  },
  {
   "cell_type": "code",
   "execution_count": 4,
   "id": "8167f409",
   "metadata": {},
   "outputs": [],
   "source": [
    "class Solution:\n",
    "    def maxSubArray(self, nums: list[int]) -> int:\n",
    "        maximum = nums[0]\n",
    "        currmax = 0\n",
    "        for i in nums:\n",
    "            if currmax < 0:\n",
    "                currmax = 0\n",
    "            currmax += i\n",
    "            maximum = max(maximum, currmax)\n",
    "        return maximum"
   ]
  },
  {
   "cell_type": "markdown",
   "id": "4b0bea4b",
   "metadata": {},
   "source": [
    "## 1. Two Sum\n",
    "\n",
    "* Approach : simply iterate through every element by using 2 for loops but the second loop starts with `i + 1`\n",
    "* Time Complexity : $ O(N^2) $"
   ]
  },
  {
   "cell_type": "code",
   "execution_count": 5,
   "id": "ecbee6f5",
   "metadata": {},
   "outputs": [],
   "source": [
    "class Solution:\n",
    "    def twoSum(self, nums: list[int], target: int) -> list[int]:\n",
    "        sum = []\n",
    "        for i in range(len(nums)):\n",
    "            for j in range(i+1, len(nums)):\n",
    "                if nums[i] + nums[j] == target:\n",
    "                    sum.append(i)\n",
    "                    sum.append(j)\n",
    "                    return sum"
   ]
  },
  {
   "cell_type": "markdown",
   "id": "5d304819",
   "metadata": {},
   "source": [
    "## 88. Merge Sorted Array\n",
    "\n",
    "* Approach : add elements in the reverse order such that it will be eassy to add the nums2 in nums1\n",
    "* Time Complextity : $ O(m * n)  $"
   ]
  },
  {
   "cell_type": "code",
   "execution_count": 6,
   "id": "82296420",
   "metadata": {},
   "outputs": [],
   "source": [
    "class Solution:\n",
    "    def merge(self, nums1: list[int], m: int, nums2: list[int], n: int) -> None:\n",
    "        \"\"\"\n",
    "        Do not return anything, modify nums1 in-place instead.\n",
    "        \"\"\"\n",
    "        last = m + n -1 # it takes the last element of nums1\n",
    "        while m > 0 and n > 0:\n",
    "            if nums1[m - 1] > nums2[n - 1]:\n",
    "                nums1[last] = nums1[m - 1]\n",
    "                m -= 1\n",
    "            else:\n",
    "                nums1[last] = nums2[n - 1]\n",
    "                n -= 1\n",
    "            last -= 1\n",
    "        while n > 0:\n",
    "            nums1[last] = nums2[n - 1]\n",
    "            last , n = last - 1, n - 1"
   ]
  },
  {
   "cell_type": "markdown",
   "id": "c8813a50",
   "metadata": {},
   "source": [
    "## 350. Intersection of Two Arrays II\n",
    "\n",
    "* Approach : i have used `hashing` for storing the count of repeating values and then by using `array` append the repeating values\n",
    "* Time Complexity : $ O(a + b) $"
   ]
  },
  {
   "cell_type": "code",
   "execution_count": 7,
   "id": "6bc49ff8",
   "metadata": {},
   "outputs": [],
   "source": [
    "class Solution:\n",
    "    def intersect(self, nums1: list[int], nums2: list[int]) -> list[int]:\n",
    "        hash = {}\n",
    "        for i in nums1:\n",
    "            if i not in hash:\n",
    "                hash[i] = 1\n",
    "            else:\n",
    "                hash[i] += 1\n",
    "        \n",
    "        arr = []\n",
    "        for i in nums2:\n",
    "            if i in hash:\n",
    "                hash[i] -= 1\n",
    "                if hash[i] >= 0:\n",
    "                    arr.append(i)\n",
    "\n",
    "        return arr"
   ]
  },
  {
   "cell_type": "markdown",
   "id": "7780a389",
   "metadata": {},
   "source": [
    "## 121. Best Time to Buy and Sell Stock\n",
    "\n",
    "* Approach : if the `l < r` then we take profit and compare with previous profit if not then we increase the pointer\n",
    "* Time Complexity : $ O(N) $"
   ]
  },
  {
   "cell_type": "code",
   "execution_count": 8,
   "id": "bed644a0",
   "metadata": {},
   "outputs": [],
   "source": [
    "class Solution:\n",
    "    def maxProfit(self, prices: list[int]) -> int:\n",
    "        # l is for left(buying)\n",
    "        # r is for right(selling)\n",
    "        l , r = 0 , 1\n",
    "        maxP = 0\n",
    "        while r < len(prices):\n",
    "            if prices[l] < prices[r]:\n",
    "                profit = prices[r] - prices[l]\n",
    "                maxP = max(maxP, profit)\n",
    "            else:\n",
    "                l = r\n",
    "            r += 1\n",
    "        return maxP"
   ]
  },
  {
   "cell_type": "markdown",
   "id": "aa3f21f7",
   "metadata": {},
   "source": [
    "## 566. Reshape the Matrix\n",
    "\n",
    "Approach : used simple 2 for loops\n",
    "1 is for row\n",
    "2 is for putting values in every column\n",
    "\n",
    "Time Complexity : $ O(N^2) $"
   ]
  },
  {
   "cell_type": "code",
   "execution_count": 9,
   "id": "c5af6f1a",
   "metadata": {},
   "outputs": [],
   "source": [
    "class Solution:\n",
    "    def matrixReshape(self, mat: list[list[int]], r: int, c: int) -> list[list[int]]:\n",
    "        # get the m x n value from the matrix\n",
    "        m = len(mat)\n",
    "        n = len(mat[0])\n",
    "        # if the m x n and r x c is not equal then we return the matrix\n",
    "        if m * n != r * c:\n",
    "            return mat\n",
    "\n",
    "        # initialize the available varibales\n",
    "        row = []\n",
    "        col = 0\n",
    "        res = []\n",
    "\n",
    "        # two for loops one is for rows and another to iterate every column\n",
    "        for i in range(len(mat)):\n",
    "            for j in range(len(mat[0])):\n",
    "                # append the values in first row\n",
    "                row.append(mat[i][j])\n",
    "                # we have to iterate the every column\n",
    "                col += 1\n",
    "                # if the column is equal to the c given then we reset all the values\n",
    "                if col == c:\n",
    "                    # append the first row in the res\n",
    "                    res.append(row)\n",
    "                    # reset the row and col\n",
    "                    row = []\n",
    "                    col = 0\n",
    "        return res\n",
    "\n",
    "        "
   ]
  },
  {
   "cell_type": "markdown",
   "id": "c9527761",
   "metadata": {},
   "source": [
    "## 118. Pascal's Triangle\n",
    "\n",
    "* Approach : added temp array with [0] append on prev row on end as well as front\n",
    "* Time Complexity : $ O(N^2) $"
   ]
  },
  {
   "cell_type": "code",
   "execution_count": 10,
   "id": "cb5abc38",
   "metadata": {},
   "outputs": [],
   "source": [
    "class Solution:\n",
    "    def generate(self, numRows: int) -> list[list[int]]:\n",
    "        # we have to take base case as \n",
    "        res = [[1]]\n",
    "        # we have to take numRows - 1 bcz we have already return one case above\n",
    "        for i in range(numRows - 1):\n",
    "            # temporary array to store the previous value by\n",
    "            # appending 0 at end as well as start\n",
    "            temp = [0] + res[-1] + [0]\n",
    "            # initialize row variable\n",
    "            row = []\n",
    "            # we have to run 2nd loop +1 value of previous row\n",
    "            for j in range(len(res[-1]) + 1):\n",
    "                # add the value above it from temp array\n",
    "                row.append(temp[j] + temp[j + 1])\n",
    "            # append every row in res \n",
    "            res.append(row)\n",
    "        return res"
   ]
  },
  {
   "cell_type": "markdown",
   "id": "a2856f50",
   "metadata": {},
   "source": [
    "## 383. Ransom Note\n",
    "\n",
    "* Approach : Used hashing for storing the all values and another for loop to check the `RansomNote`\n",
    "* Time Complexity : $ O(M + N) $"
   ]
  },
  {
   "cell_type": "code",
   "execution_count": 11,
   "id": "73456ff1",
   "metadata": {},
   "outputs": [],
   "source": [
    "class Solution:\n",
    "    def canConstruct(self, ransomNote: str, magazine: str) -> bool:\n",
    "        # used hashing to store the values \n",
    "        hashing = {}\n",
    "        # loop for inserting value in hashtable\n",
    "        for i in magazine:\n",
    "            if i not in hashing:\n",
    "                hashing[i] = 1\n",
    "            else:\n",
    "                hashing[i] += 1\n",
    "\n",
    "        # flag variable initialization\n",
    "        ransom = False\n",
    "\n",
    "        # loop for finding and reducing one number if it is present \n",
    "        # and if not then changing the value to False \n",
    "        # and break the loop\n",
    "        for i in ransomNote:\n",
    "            if i in hashing and hashing[i] > 0:\n",
    "                hashing[i] -= 1\n",
    "                ransom = True\n",
    "            else:\n",
    "                ransom = False\n",
    "                break\n",
    "        return ransom\n",
    "\n",
    "        # as two loop both having differnt input so \n",
    "        # T.C : O(M + R)"
   ]
  },
  {
   "cell_type": "markdown",
   "id": "1d7f56ee",
   "metadata": {},
   "source": [
    "## 387. First Unique Character in a String\n",
    "\n",
    "* Approach : Used Hashing for storing all the values and then check the one having only one counter \n",
    "* Time Complexity : $ O(N + N) $ = $ O(2N) $"
   ]
  },
  {
   "cell_type": "code",
   "execution_count": 12,
   "id": "7a2997a5",
   "metadata": {},
   "outputs": [],
   "source": [
    "class Solution:\n",
    "    def firstUniqChar(self, s: str) -> int:\n",
    "        count = {}\n",
    "        for i in s:\n",
    "            if i not in count:\n",
    "                count[i] = 1\n",
    "            else:\n",
    "                count[i] += 1\n",
    "        \n",
    "        for char in s:\n",
    "            if count[char] == 1:\n",
    "                return s.index(char)\n",
    "        return -1\n",
    "    "
   ]
  },
  {
   "cell_type": "markdown",
   "id": "c4152689",
   "metadata": {},
   "source": [
    "## 74. Search a 2D Matrix\n",
    "\n",
    "* Approach: For loop to iterate through row of every matrix and check if the target is present in the row\n",
    "* Time Complexity $ O(R * T) $"
   ]
  },
  {
   "cell_type": "code",
   "execution_count": 13,
   "id": "0216ab8f",
   "metadata": {},
   "outputs": [],
   "source": [
    "class Solution:\n",
    "    def searchMatrix(self, matrix: list[list[int]], target: int) -> bool:\n",
    "        for row in range(len(matrix)):\n",
    "            if target in matrix[row]:\n",
    "                return True\n",
    "        return False"
   ]
  },
  {
   "cell_type": "markdown",
   "id": "7dd28add",
   "metadata": {},
   "source": [
    "## 242. Valid Anagram\n",
    "\n",
    "* Approach: created two hash table and return at the end if both are equal then `True` else `False`\n",
    "* Time Complexity $ O(S * T) $"
   ]
  },
  {
   "cell_type": "code",
   "execution_count": 14,
   "id": "55bffc04",
   "metadata": {},
   "outputs": [],
   "source": [
    "class Solution:\n",
    "    def isAnagram(self, s: str, t: str) -> bool:\n",
    "        s_counts = {}\n",
    "        t_counts = {}\n",
    "        for i in s:\n",
    "            if i not in s_counts:\n",
    "                s_counts[i] = 1\n",
    "            else:\n",
    "                s_counts[i] += 1\n",
    "        \n",
    "        for j in t:\n",
    "            if j not in t_counts:\n",
    "                t_counts[j] = 1\n",
    "            else:\n",
    "                t_counts[j] += 1\n",
    "        \n",
    "        return s_counts == t_counts"
   ]
  },
  {
   "cell_type": "markdown",
   "id": "3163d372",
   "metadata": {},
   "source": [
    "## 141. Linked List Cycle\n",
    "\n",
    "* Approach: simple used two pointers and iterate through the linked list\n",
    "* Time Complexity $ O(N) $"
   ]
  },
  {
   "cell_type": "code",
   "execution_count": 15,
   "id": "b2262388",
   "metadata": {},
   "outputs": [],
   "source": [
    "class Solution:\n",
    "    def hasCycle(self, head) -> bool:\n",
    "        if head == None or head.next == None:\n",
    "            return False\n",
    "        slow = head\n",
    "        fast = head\n",
    "        while fast != None and fast.next != None:\n",
    "            slow = slow.next\n",
    "            fast = fast.next.next\n",
    "            if slow == fast:\n",
    "                return True\n",
    "        return False"
   ]
  },
  {
   "cell_type": "markdown",
   "id": "f6ef3082",
   "metadata": {},
   "source": [
    "## 21. Merge Two Sorted Lists\n",
    "\n",
    "* Approach: Created Dummy for storing updated array , if value is smaller then append it and vice versa . To handle last case one if condition for that\n",
    "* Time Complexity $ O(L1 * L2) $"
   ]
  },
  {
   "cell_type": "code",
   "execution_count": 16,
   "id": "07c942c0",
   "metadata": {},
   "outputs": [],
   "source": [
    "class Solution:\n",
    "    def mergeTwoLists(self, list1, list2):\n",
    "        curr = dummy = ListNode()\n",
    "        while list1 and list2:\n",
    "            if list1.val < list2.val:\n",
    "                curr.next = list1\n",
    "                curr = curr.next\n",
    "                list1 = list1.next\n",
    "            else:\n",
    "                curr.next = list2\n",
    "                curr= curr.next\n",
    "                list2 = list2.next\n",
    "\n",
    "        if list1 or list2:\n",
    "            curr.next = list1 if list1 else list2\n",
    "\n",
    "        return dummy.next"
   ]
  },
  {
   "cell_type": "markdown",
   "id": "e930a2ca",
   "metadata": {},
   "source": [
    "## 206. Reverse Linked List\n",
    "\n",
    "* Approach: Used `prev` and `next` pointer to get track of prev and next value, change accordingly and return `prev` value\n",
    "* Time Complexity $ O(N) $"
   ]
  },
  {
   "cell_type": "code",
   "execution_count": 17,
   "id": "f157f26b",
   "metadata": {},
   "outputs": [],
   "source": [
    "class Solution:\n",
    "    def reverseList(self, head):\n",
    "        curr = head\n",
    "        prev = None\n",
    "        while curr != None:\n",
    "            nxt = curr.next\n",
    "            curr.next = prev\n",
    "            prev = curr\n",
    "            curr = nxt\n",
    "        return prev"
   ]
  },
  {
   "cell_type": "markdown",
   "id": "a227532e",
   "metadata": {},
   "source": [
    "## 83. Remove Duplicates from Sorted List\n",
    "\n",
    "* Approach: if the `next` value is equal then change he `next` to `next.next`\n",
    "* Time Complexity $ O(N) $"
   ]
  },
  {
   "cell_type": "code",
   "execution_count": 18,
   "id": "fea325cc",
   "metadata": {},
   "outputs": [],
   "source": [
    "class Solution:\n",
    "    def deleteDuplicates(self, head):\n",
    "        curr = head\n",
    "        while curr and curr.next:\n",
    "            if curr.val == curr.next.val:\n",
    "                curr.next = curr.next.next\n",
    "            else:\n",
    "                curr = curr.next\n",
    "        return head"
   ]
  },
  {
   "cell_type": "markdown",
   "id": "eb318c8c",
   "metadata": {},
   "source": [
    "## 203. Remove Linked List Elements\n",
    "\n",
    "* Approach: taken `prev` pointer which `next` is `head` and if the `curr.val` is equal to the `val` then change `prev` pointer and else shift the `prev` to `curr` \n",
    "* Time Complexity $ O(N) $"
   ]
  },
  {
   "cell_type": "code",
   "execution_count": 19,
   "id": "11104b1c",
   "metadata": {},
   "outputs": [],
   "source": [
    "class Solution:\n",
    "    def removeElements(self, head, val: int):\n",
    "        dummy = ListNode(next=head)\n",
    "        prev , curr = dummy , head\n",
    "        while curr:\n",
    "            if curr.val == val:\n",
    "                prev.next = curr.next\n",
    "            else:\n",
    "                prev = curr\n",
    "            curr = curr.next\n",
    "        return dummy.next"
   ]
  },
  {
   "cell_type": "markdown",
   "id": "3e747e20",
   "metadata": {},
   "source": [
    "## 232. Implement Queue using Stacks\n",
    "\n",
    "* Approach:\n",
    "    * Push function append the value to stack1 \n",
    "    * Pop calls `peek()` which converts the stack1 to stack2\n",
    "    * Peek() append the stack1 values to stack2 and deletes the stack1 value\n",
    "    * Empty() if both the stack is empty then return `True` else return `False`\n",
    "* Time Complexity $ O(N) $"
   ]
  },
  {
   "cell_type": "code",
   "execution_count": 20,
   "id": "bd3e328c",
   "metadata": {},
   "outputs": [],
   "source": [
    "class MyQueue:\n",
    "\n",
    "    def __init__(self):\n",
    "        self.stack1 = []\n",
    "        self.stack2 = []\n",
    "        \n",
    "    # add values to stack1\n",
    "    def push(self, x: int) -> None:\n",
    "        self.stack1.append(x)\n",
    "\n",
    "    # while pop call peek() so that stack1 values append to\n",
    "    # stack2 \n",
    "    def pop(self) -> int:\n",
    "        i = self.peek()\n",
    "        self.stack2.pop()\n",
    "        return i\n",
    "\n",
    "    # peek() converts stack1 to stack2 array\n",
    "    # and deletes stack1 values\n",
    "    def peek(self) -> int:\n",
    "        if len(self.stack2) == 0:\n",
    "            while (len(self.stack1) != 0):\n",
    "                self.stack2.append(self.stack1[-1])\n",
    "                self.stack1.pop()\n",
    "        return self.stack2[-1]\n",
    "\n",
    "    # if both the stackare empty then return True\n",
    "    # else return False\n",
    "    def empty(self) -> bool:\n",
    "        if len(self.stack2) == 0 and len(self.stack1) == 0:\n",
    "            return True\n",
    "        else:\n",
    "            return False"
   ]
  },
  {
   "cell_type": "markdown",
   "id": "37102977",
   "metadata": {},
   "source": [
    "## 20. Valid Parentheses\n",
    "\n",
    "* Approach: `isMatching()` tells basis on the condition and we iterate through for loop in `isValid()` to see if i is bracksts then we append in `stack` and after checking we `pop` the element\n",
    "* Time Complexity $ O(N) $"
   ]
  },
  {
   "cell_type": "code",
   "execution_count": 21,
   "id": "3049aebe",
   "metadata": {},
   "outputs": [],
   "source": [
    "class Solution:\n",
    "    def isMatching(self, a , b):\n",
    "        if (a == '(' and b == ')') or (a == '[' and b == ']') or (a == '{' and b == '}'):\n",
    "            return True\n",
    "        else:\n",
    "            return False\n",
    "    def isValid(self, s: str) -> bool:\n",
    "        stack = []\n",
    "        for i in s:\n",
    "            if i in ('(','[','{'):\n",
    "                stack.append(i)\n",
    "            else:\n",
    "                # if stack is empty then return False\n",
    "                if not stack:\n",
    "                    return False\n",
    "                else:\n",
    "                    if self.isMatching(stack[-1], i) == True:\n",
    "                        stack.pop()\n",
    "                    else:\n",
    "                        return False \n",
    "        \n",
    "        # if stack present any value then return False\n",
    "        if stack:\n",
    "            return False\n",
    "        else:\n",
    "            return True"
   ]
  },
  {
   "cell_type": "markdown",
   "id": "806ffc87",
   "metadata": {},
   "source": [
    "## 144. Binary Tree Preorder Traversal\n",
    "\n",
    "* Approach: used `preOrderHelper` function to get the values in preorder value\n",
    "* Time Complexity $ O(N) $\n",
    "* Space Complexity $ O(h) $"
   ]
  },
  {
   "cell_type": "code",
   "execution_count": 22,
   "id": "ac79c83f",
   "metadata": {},
   "outputs": [],
   "source": [
    "class Solution:\n",
    "    def preOrderHelper(self, root, arr):\n",
    "        if root != None:\n",
    "            arr.append(root.val)\n",
    "            self.preOrderHelper(root.left, arr)\n",
    "            self.preOrderHelper(root.right, arr)\n",
    "    def preorderTraversal(self, root):\n",
    "        arr = []\n",
    "        self.preOrderHelper(root, arr)\n",
    "        return arr"
   ]
  },
  {
   "cell_type": "markdown",
   "id": "ca5a5e45",
   "metadata": {},
   "source": [
    "## 94. Binary Tree Inorder Traversal\n",
    "\n",
    "* Approach: used `preOrderHelper` function to get the values in preorder value\n",
    "* Time Complexity $ O(N) $\n",
    "* Space Complexity $ O(h) $"
   ]
  },
  {
   "cell_type": "code",
   "execution_count": 23,
   "id": "f8784df7",
   "metadata": {},
   "outputs": [],
   "source": [
    "class Solution:\n",
    "    def inOrderHelper(self, root, arr):\n",
    "            if root != None:\n",
    "                self.inOrderHelper(root.left, arr)\n",
    "                arr.append(root.val)\n",
    "                self.inOrderHelper(root.right, arr)\n",
    "\n",
    "    def inorderTraversal(self, root):\n",
    "        arr = []\n",
    "        self.inOrderHelper(root, arr)\n",
    "        return arr"
   ]
  },
  {
   "cell_type": "markdown",
   "id": "5883748c",
   "metadata": {},
   "source": [
    "## 36. Valid Sudoku\n",
    "\n",
    "* Approach: Used HashMaps to store `rows` , `cols` and `squares` value and iterae accordingly \n",
    "* Time Complexity $ O(N ^ 2) $"
   ]
  },
  {
   "cell_type": "code",
   "execution_count": 24,
   "id": "26013364",
   "metadata": {},
   "outputs": [],
   "source": [
    "class Solution:\n",
    "    def isValidSudoku(self, board: list[list[str]]) -> bool:\n",
    "        # created hash maps for rows cols and squares\n",
    "        rows = collections.defaultdict(set)\n",
    "        cols = collections.defaultdict(set)\n",
    "        squares = collections.defaultdict(set)\n",
    "\n",
    "        for r in range(9):\n",
    "            for c in range(9):\n",
    "                number = board[r][c]\n",
    "                # if we found empty cells just skip it\n",
    "                if number == \".\":\n",
    "                    continue\n",
    "                # check if the value is already exist in rows , cols or 3 * 3 squares\n",
    "                if (number in rows[r] or\n",
    "                    number in cols[c] or\n",
    "                    number in squares[(r // 3), (c // 3)]):\n",
    "                    return False\n",
    "                # add the number to rows , cols and 3 * 3 squares\n",
    "                cols[c].add(number)\n",
    "                rows[r].add(number)\n",
    "                # key value is that becuase from that we can find whether it is in 3 * 3 or not\n",
    "                squares[(r //3), (c //3)].add(number)\n",
    "        return True"
   ]
  },
  {
   "cell_type": "markdown",
   "id": "155271a7",
   "metadata": {},
   "source": [
    "## 102. Binary Tree Level Order Traversal\n",
    "\n",
    "* Approach: Used `BFS` algorithm to Traverse through Binary Tree , the for loop runs through `len(queue)` and append the value to the `level` and make sure `level` is `not null` when adding to `res`\n",
    "* Time Complexity $ O(N) $"
   ]
  },
  {
   "cell_type": "code",
   "execution_count": 25,
   "id": "2e46b1b9",
   "metadata": {},
   "outputs": [],
   "source": [
    "class Solution:\n",
    "    def levelOrder(self, root: []) -> list[list[int]]:\n",
    "        q = collections.deque()\n",
    "        q.append(root)\n",
    "        res = []\n",
    "        while q:\n",
    "            level = []\n",
    "            for i in range(len(q)):\n",
    "                node = q.popleft()\n",
    "                if node:\n",
    "                    level.append(node.val)\n",
    "                    q.append(node.left)\n",
    "                    q.append(node.right)\n",
    "            if level:\n",
    "                res.append(level)\n",
    "\n",
    "        return res"
   ]
  },
  {
   "cell_type": "markdown",
   "id": "68114846",
   "metadata": {},
   "source": [
    "## 104. Maximum Depth of Binary Tree\n",
    "\n",
    "* Approach: Used simple `recursion` to calculate \n",
    "    * `lh`:  left height\n",
    "    * `rh`: right height\n",
    "and return the `max(lh, lr)` and + 1 (for the root node)\n",
    "* Time Complexity $ O(2 ^ k) $"
   ]
  },
  {
   "cell_type": "code",
   "execution_count": 26,
   "id": "91e93443",
   "metadata": {},
   "outputs": [],
   "source": [
    "class Solution:\n",
    "    def maxDepth(self, root) -> int:\n",
    "        if root == None:\n",
    "            return 0\n",
    "        else:\n",
    "            lh = self.maxDepth(root.left)\n",
    "            rh = self.maxDepth(root.right)\n",
    "        # + 1 because for the root node\n",
    "        return max(lh, rh) + 1"
   ]
  },
  {
   "cell_type": "markdown",
   "id": "73931b09",
   "metadata": {},
   "source": [
    "## 101. Symmetric Tree\n",
    "\n",
    "* Approach: Simple Used wrapper function `isMirror()` whch takes two nodes input and handle all base cases in it\n",
    "* Time Complexity $ O(2^k) $"
   ]
  },
  {
   "cell_type": "code",
   "execution_count": 27,
   "id": "7a01386a",
   "metadata": {},
   "outputs": [],
   "source": [
    "class Solution:\n",
    "    def isSymmetric(self, root) -> bool:\n",
    "        def isMirror(node1, node2):\n",
    "            if node1 == None and node2 == None : return True\n",
    "            if node1 == None or node2 == None : return False\n",
    "            if node1.val != node2.val: return False\n",
    "            return isMirror(node1.left, node2.right) and isMirror(node1.right, node2.left)\n",
    "        return root == None or isMirror(root.left, root.right)"
   ]
  },
  {
   "cell_type": "markdown",
   "id": "b6f6c49f",
   "metadata": {},
   "source": [
    "## 226. Invert Binary Tree\n",
    "\n",
    "* Approach: stored the left value in temporary array and used recursion to traverse the tree\n",
    "* Time Complexity $ O(N) $"
   ]
  },
  {
   "cell_type": "code",
   "execution_count": 28,
   "id": "3012da85",
   "metadata": {},
   "outputs": [],
   "source": [
    "class Solution:\n",
    "    def invertTree(self, root):\n",
    "        if root == None:\n",
    "            return None\n",
    "        self.invertTree(root.left)\n",
    "        self.invertTree(root.right)\n",
    "        leftVal = TreeNode()\n",
    "        leftVal = root.left\n",
    "        root.left = root.right\n",
    "        root.right = leftVal\n",
    "        return root"
   ]
  },
  {
   "cell_type": "markdown",
   "id": "1cb4410d",
   "metadata": {},
   "source": [
    "## 112. Path Sum\n",
    "\n",
    "* Approach: Used Preorder along with DFS search\n",
    "* Time Complexity $ O(N) $"
   ]
  },
  {
   "cell_type": "code",
   "execution_count": 29,
   "id": "789b0063",
   "metadata": {},
   "outputs": [],
   "source": [
    "class Solution:\n",
    "    def hasPathSum(self, root, targetSum: int) -> bool:\n",
    "        def dfsHelp(node, currSum):\n",
    "            if not node:\n",
    "                return False\n",
    "            else:\n",
    "                currSum += node.val\n",
    "            if not node.left and not node.right:\n",
    "                return currSum == targetSum\n",
    "            return (dfsHelp(node.left, currSum) or dfsHelp(node.right, currSum)) \n",
    "        \n",
    "        return dfsHelp(root, 0)"
   ]
  },
  {
   "cell_type": "markdown",
   "id": "95dd73ab",
   "metadata": {},
   "source": [
    "## 700. Search in a Binary Search Tree\n",
    "\n",
    "* Approach: Used DFS recursive method to search the root and return the whole subtree\n",
    "* Time Complexity $ O(N) $"
   ]
  },
  {
   "cell_type": "code",
   "execution_count": 44,
   "id": "4e250fee",
   "metadata": {},
   "outputs": [],
   "source": [
    "class Solution:\n",
    "    def searchBST(self, root, val: int):\n",
    "        if root is None or val == root.val:\n",
    "            return root\n",
    "        return self.searchBST(root.left, val) if val < root.val else self.searchBST(root.right, val)"
   ]
  },
  {
   "cell_type": "markdown",
   "id": "5a799396",
   "metadata": {},
   "source": [
    "## 701. Insert into a Binary Search Tree\n",
    "\n",
    "* Approach: Simply used Binary Search Tree Property and inserted at the specific value\n",
    "* Time Complexity $ O(N) $"
   ]
  },
  {
   "cell_type": "code",
   "execution_count": 46,
   "id": "2773883a",
   "metadata": {},
   "outputs": [],
   "source": [
    "class Solution:\n",
    "    def insertIntoBST(self, root, val: int):\n",
    "        if not root:\n",
    "            return TreeNode(val)\n",
    "        if val > root.val:\n",
    "            self.insertIntoBST(root.right, val)\n",
    "        if val < root.val:\n",
    "            self.insertIntoBST(root.left, val)\n",
    "        if root.left == None and root.val > val:\n",
    "            root.left = TreeNode(val)\n",
    "        if root.right == None and root.val < val:\n",
    "            root.right = TreeNode(val)\n",
    "        return root"
   ]
  },
  {
   "cell_type": "markdown",
   "id": "6203d7bb",
   "metadata": {},
   "source": [
    "## 98. Validate Binary Search Tree\n",
    "\n",
    "* Approach: Simply used `-infinity < value < +infinity` algorithm \n",
    "* Time Complexity $ O(N) $"
   ]
  },
  {
   "cell_type": "markdown",
   "id": "1b6c882b",
   "metadata": {},
   "source": [
    "<img src=\"img/validate BST.gif\" />"
   ]
  },
  {
   "cell_type": "code",
   "execution_count": 48,
   "id": "9210e88f",
   "metadata": {},
   "outputs": [],
   "source": [
    "def isValidBST(self, root) -> bool:\n",
    "    def valid(node, left, right):\n",
    "        # Empty Binary Search Tree is also an Valid Binary Search Tree\n",
    "        if not node:\n",
    "            return True\n",
    "        # if the left and right is not validate \n",
    "        # return False\n",
    "        if not (node.val > left and node.val < right):\n",
    "            return False\n",
    "\n",
    "        return (valid(node.left, left, node.val) and\n",
    "        valid(node.right, node.val, right))\n",
    "\n",
    "    return valid(root, float(\"-inf\"), float(\"inf\"))"
   ]
  },
  {
   "cell_type": "markdown",
   "id": "3984e77f",
   "metadata": {},
   "source": [
    "## 653. Two Sum IV - Input is a BST\n",
    "\n",
    "* Approach: Used Recursion for get all the values in array and then check for the values by iterating through entire array\n",
    "* Time Complexity $ O(N ^ 2) $"
   ]
  },
  {
   "cell_type": "code",
   "execution_count": 50,
   "id": "ea0773c8",
   "metadata": {},
   "outputs": [],
   "source": [
    "class Solution:\n",
    "    def findTarget(self, root, k: int) -> bool:\n",
    "        def getVal(root, arr):\n",
    "            if root != None:\n",
    "                arr.append(root.val)\n",
    "                getVal(root.left, arr)\n",
    "                getVal(root.right, arr)\n",
    "        arr = []\n",
    "        getVal(root, arr)\n",
    "        for i in range(len(arr)):\n",
    "            for j in range(i + 1, len(arr)):\n",
    "                if arr[i] + arr[j] == k:\n",
    "                    return True\n",
    "        return False"
   ]
  },
  {
   "cell_type": "markdown",
   "id": "4705c01f",
   "metadata": {},
   "source": [
    "## 235. Lowest Common Ancestor of a Binary Search Tree\n",
    "\n",
    "* Approach: Simply used three cases and return the last case\n",
    "* Time Complexity $ O(H) $"
   ]
  },
  {
   "cell_type": "markdown",
   "id": "d8859247",
   "metadata": {},
   "source": [
    "<img src=\"img/LCA.png\" />"
   ]
  },
  {
   "cell_type": "code",
   "execution_count": 54,
   "id": "85c4d0ab",
   "metadata": {},
   "outputs": [],
   "source": [
    "class Solution:\n",
    "    def lowestCommonAncestor(self, root: 'TreeNode', p: 'TreeNode', q: 'TreeNode') -> 'TreeNode':\n",
    "        small = min(p.val, q.val)\n",
    "        large = max(p.val, q.val)\n",
    "\n",
    "        while root:\n",
    "            if root.val > large: # since p and q will lie on left side\n",
    "                root = root.left\n",
    "            elif root.val < small: # Then p and q will lie on right side\n",
    "                root = root.right\n",
    "            else:\n",
    "                return root # this will be the LCA of p and q\n",
    "                            # small <= root.val <= large\n",
    "        return None"
   ]
  }
 ],
 "metadata": {
  "kernelspec": {
   "display_name": "Python 3 (ipykernel)",
   "language": "python",
   "name": "python3"
  },
  "language_info": {
   "codemirror_mode": {
    "name": "ipython",
    "version": 3
   },
   "file_extension": ".py",
   "mimetype": "text/x-python",
   "name": "python",
   "nbconvert_exporter": "python",
   "pygments_lexer": "ipython3",
   "version": "3.10.9"
  }
 },
 "nbformat": 4,
 "nbformat_minor": 5
}
