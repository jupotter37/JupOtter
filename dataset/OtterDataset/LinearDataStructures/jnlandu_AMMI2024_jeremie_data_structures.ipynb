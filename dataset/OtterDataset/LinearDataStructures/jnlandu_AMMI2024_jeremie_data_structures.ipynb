{
  "cells": [
    {
      "cell_type": "markdown",
      "metadata": {
        "id": "A_mDlw6sEB9e"
      },
      "source": [
        "### Data structure"
      ]
    },
    {
      "cell_type": "markdown",
      "metadata": {
        "id": "xHfgbNRtYrYt"
      },
      "source": [
        "\n",
        "A data structure is a way of organizing and storing data in our machine so that it can be accessed and used efficiently. It refers to the logical or mathematical representation of data, as well as the implementation in a computer program.\n",
        "\n"
      ]
    },
    {
      "cell_type": "markdown",
      "metadata": {
        "id": "9egJAo-cYuad"
      },
      "source": [
        "Data structures can be classified into two broad categories:\n",
        "\n",
        "\n",
        "*   **Linear Data Structure**: A data structure in which data elements are arranged sequentially or linearly, where each element is attached to its previous and next adjacent elements, is called a linear data structure. Examples are array, stack, queue, etc.\n",
        "*   **Non-linear Data Structure**: Data structures where data elements are not placed sequentially or linearly are called non-linear data structures. Examples are trees and graphs.\n",
        "\n",
        "\n",
        "\n"
      ]
    },
    {
      "cell_type": "markdown",
      "metadata": {
        "id": "JfDboB48aaKg"
      },
      "source": [
        "\n",
        "![](https://miro.medium.com/v2/resize:fit:1400/format:webp/1*mLRD8leEkOFY3A87akoaXQ.png)\n",
        "\n",
        "image credit:  https://python.plainenglish.io/understanding-python-data-structures-from-basics-to-advanced-7cf84212a373"
      ]
    },
    {
      "cell_type": "markdown",
      "metadata": {
        "id": "BnoFGYTuc5Eg"
      },
      "source": [
        "The non-primitive data structures can also be classified based on whether they are built-in or user-defined.\n",
        "\n",
        "1. Python offers implicit support for built in structures that include List, Tuple, Set and Dictionary.\n",
        "2. Users can also create their own data structures (like Stack, Tree, Queue, etc.) enabling them to have a full control over their functionality."
      ]
    },
    {
      "cell_type": "markdown",
      "metadata": {
        "id": "0caGIsUOePz2"
      },
      "source": [
        "#### Need For Data Structure"
      ]
    },
    {
      "cell_type": "markdown",
      "metadata": {
        "id": "P_TtXzFzfeDM"
      },
      "source": [
        "As the amount of data continues to grow, the applications become more and more complex, hence it becomes difficult for the programmer to manage this data as well as the software.\n",
        "\n",
        "Specifically, in machine learning algorithms which often require large volumes of data to effectively learn patterns, and relationships, and make accurate predictions or decisions.\n",
        "\n",
        "Typically, at any time, an application may face the following hurdles:\n",
        "*   **Searching Large amounts of Data**: Given the extensive processing and storage of data, our program may need to search specific data at any point. If the data isn't appropriately organized, retrieving the required information could be time-consuming due to its sheer volume. By employing efficient data structures for storage and organization, data retrieval becomes faster and more streamlined.\n",
        "*   **Speed of Processing**: Disorganized data may result in slow processing speed as a lot of time will be wasted in retrieving and accessing data.we organize data helps to stay concentrated on the processing of data to produce the desired output.\n",
        "*   **Multiple Simultaneous Requests**: Many applications these days need to make a simultaneous request to data. These requests should be processed efficiently for applications to run smoothly. Using a good data structure helps to minimize the concurrent requests turnaround time.\n",
        "\n",
        "References: https://www.softwaretestinghelp.com/data-structures-in-cpp/\n"
      ]
    },
    {
      "cell_type": "markdown",
      "metadata": {
        "id": "y3bQUvMwjwOM"
      },
      "source": [
        "While libraries like Pandas and NumPy provide powerful tools for data manipulation and analysis in machine learning, having a solid understanding of data structures remains essential for:\n",
        "\n",
        "*   Well understand how those libraries works and how the have been built\n",
        "*   Custom Implementations\n",
        "*   Optimization\n",
        "*   Algorithm Design\n",
        "*   Problem-Solving Skills\n",
        "*   etc.\n",
        "\n",
        "\n"
      ]
    },
    {
      "cell_type": "markdown",
      "metadata": {
        "id": "bA4OxyqwDoWt"
      },
      "source": [
        "### Array, List, Tuples, Set, Dictionnary"
      ]
    },
    {
      "cell_type": "markdown",
      "metadata": {
        "id": "RkKnSY9FnBkE"
      },
      "source": [
        "##### Exercise\n",
        "\n",
        "Declare a destroy_elements function that accepts two lists.\n",
        "It should return a list of all elements from the first list that are NOT contained in the second list.\n",
        " Use list comprehension in your solution.\n",
        "\n",
        " EXAMPLES\n",
        "* destroy_elements([1, 2, 3], [1, 2])      => [3]\n",
        "* destroy_elements([1, 2, 3], [1, 2, 3])   => []\n",
        "* destroy_elements([1, 2, 3], [4, 5])      => [1, 2, 3]"
      ]
    },
    {
      "cell_type": "code",
      "execution_count": null,
      "metadata": {
        "id": "YwROkv2wnCvn"
      },
      "outputs": [],
      "source": []
    },
    {
      "cell_type": "markdown",
      "metadata": {
        "id": "ZvuUpvKNoFZi"
      },
      "source": [
        "##### Exercise\n",
        "\n",
        "Given an array nums of size n, return the majority element.\n",
        "\n",
        "The majority element is the element that appears more than ⌊n / 2⌋ times. You may assume that the majority element always exists in the array.\n",
        "\n",
        "Input: nums = [2,2,1,1,1,2,2] <br>\n",
        "Output: 2"
      ]
    },
    {
      "cell_type": "code",
      "execution_count": null,
      "metadata": {
        "id": "g4-AqcKFoFzl"
      },
      "outputs": [],
      "source": []
    },
    {
      "cell_type": "markdown",
      "metadata": {
        "id": "gEHfH4d-mVvQ"
      },
      "source": [
        "##### Exercise\n",
        "\n",
        "Suppose an array of length `n` sorted in ascending order is rotated between `1 and n times`. For example, the array `nums = [0,1,2,4,5,6,7]` might become:\n",
        "\n",
        "\n",
        "*   `[4,5,6,7,0,1,2] if it was rotated 4 times.`\n",
        "*   `[0,1,2,4,5,6,7] if it was rotated 7 times.`\n",
        "\n",
        "\n",
        "\n",
        "Notice that rotating an array `[a[0], a[1], a[2], ..., a[n-1]]` 1 time results in the array `[a[n-1], a[0], a[1], a[2], ..., a[n-2]]`.\n",
        "\n",
        "Given the sorted rotated array nums of unique elements, return the minimum element of this array.\n",
        "\n",
        "Example:\n",
        "\n",
        "Input: nums = [3,4,5,1,2]   Output: 1\n",
        "\n",
        "Explanation: The original array was [1,2,3,4,5] rotated 3 times.\n",
        "\n",
        "Input: nums = [4,5,6,7,0,1,2]  Output: 0\n",
        "\n",
        "Explanation: The original array was [0,1,2,4,5,6,7] and it was rotated 4 times.\n",
        "\n",
        "Input: nums = [11,13,15,17]  Output: 11\n",
        "\n",
        "Explanation: The original array was [11,13,15,17] and it was rotated 4 times."
      ]
    },
    {
      "cell_type": "code",
      "execution_count": null,
      "metadata": {
        "id": "itLlpNVb7dAo"
      },
      "outputs": [],
      "source": []
    },
    {
      "cell_type": "markdown",
      "metadata": {
        "id": "9YhQql2NoNoo"
      },
      "source": [
        "##### Exercise\n",
        "\n",
        "Given a list l, reverse l.\n",
        "\n",
        "Example= [1,2,3,4,5] ==> [5,4,3,2,1]. In this case the operation has to be done in-place. Do not allow new memory space</b>\n",
        "\n",
        "DON't USE THE PYTHON INDEXING [::-1]"
      ]
    },
    {
      "cell_type": "code",
      "execution_count": null,
      "metadata": {
        "id": "JJKnBZphoOCz"
      },
      "outputs": [],
      "source": []
    },
    {
      "cell_type": "markdown",
      "metadata": {
        "id": "sIOcVka_pKB5"
      },
      "source": [
        "##### Exercise\n",
        "\n",
        "Given an array nums containing n distinct numbers in the range [0, n], return the only number in the range that is missing from the array.\n",
        "\n",
        "\n",
        "\n",
        "Example 1:\n",
        "\n",
        "Input: nums = [3,0,1]\n",
        "Output: 2\n",
        "Explanation: n = 3 since there are 3 numbers, so all numbers are in the range [0,3]. 2 is the missing number in the range since it does not appear in nums.\n",
        "Example 2:\n",
        "\n",
        "Input: nums = [0,1]\n",
        "Output: 2\n",
        "Explanation: n = 2 since there are 2 numbers, so all numbers are in the range [0,2]. 2 is the missing number in the range since it does not appear in nums.\n",
        "Example 3:\n",
        "\n",
        "Input: nums = [9,6,4,2,3,5,7,0,1]\n",
        "Output: 8\n",
        "Explanation: n = 9 since there are 9 numbers, so all numbers are in the range [0,9]. 8 is the missing number in the range since it does not appear in nums.\n"
      ]
    },
    {
      "cell_type": "code",
      "execution_count": null,
      "metadata": {
        "id": "IbNFcDWqpJML"
      },
      "outputs": [],
      "source": []
    },
    {
      "cell_type": "markdown",
      "metadata": {
        "id": "jWkw5jP5o4ZA"
      },
      "source": [
        "##### Exercise\n",
        "\n",
        "Given a string s, check whether s is a palindrome. s is the palindrome if s is equal to its reverse.Using:\n",
        "- slicing in python\n",
        "\n",
        "example : s='aba' is a palindrom\n",
        "s='abaa' isnot a palindrom"
      ]
    },
    {
      "cell_type": "code",
      "execution_count": null,
      "metadata": {
        "id": "BjWQX-xGpKgf"
      },
      "outputs": [],
      "source": []
    },
    {
      "cell_type": "markdown",
      "metadata": {
        "id": "VYb2zHDorcb6"
      },
      "source": [
        "##### Exercise\n",
        "\n",
        "Given a list, dictionary, and a Key K, print the value of K from the dictionary if the key is present in both, the list and the dictionary.\n",
        "\n",
        "Use a try-except block to handle the KeyError that may occur if K is not present in test_dict.\n",
        "\n",
        "\n",
        "Input : `test_list = [\"Gfg\", \"is\", \"Good\", \"for\", \"Geeks\"]`,\n",
        "                `test_dict = {\"Gfg\" : 5, \"Best\" : 6}, K = \"Gfg\"`\n",
        "\n",
        "Output : 5\n",
        "\n",
        "Explanation : \"Gfg\" is present in list and has value 5 in dictionary.\n",
        "\n",
        "\n",
        "Input : `test_list = [\"Good\", \"for\", \"Geeks\"]`,\n",
        "                `test_dict = {\"Gfg\" : 5, \"Best\" : 6}` `, K = \"Gfg\"`\n",
        "\n",
        "Output : None\n",
        "\n",
        "Explanation : \"Gfg\" not present in List.\n"
      ]
    },
    {
      "cell_type": "code",
      "execution_count": null,
      "metadata": {
        "id": "BIN4m_igrdTJ"
      },
      "outputs": [],
      "source": []
    },
    {
      "cell_type": "markdown",
      "metadata": {
        "id": "4lViF_B_DwAG"
      },
      "source": [
        "### Stack"
      ]
    },
    {
      "cell_type": "markdown",
      "metadata": {
        "id": "tHaXpuuBKYuS"
      },
      "source": [
        "Stack is a linear data structure that follows the principle of LIFO (Last In First Out) to store data.\n",
        "\n",
        "![](https://media.geeksforgeeks.org/wp-content/uploads/20220714004311/Stack-660x566.png)\n",
        "\n",
        "image credit:  https://media.geeksforgeeks.org/wp-content/uploads/20220714004311/Stack-660x566.png"
      ]
    },
    {
      "cell_type": "markdown",
      "metadata": {
        "id": "kq-r8WbqKfoq"
      },
      "source": [
        "#### Basic operations on stack"
      ]
    },
    {
      "cell_type": "markdown",
      "metadata": {
        "id": "_HUfpnNIKpAk"
      },
      "source": [
        "Some basic operations allow us to perform different actions on a stack.\n",
        "\n",
        "*   push() to insert an element into the stack\n",
        "*   pop() to remove an element from the stack\n",
        "*   top() Returns the top element of the stack.\n",
        "*   isEmpty() returns true if the stack is empty else false.\n",
        "*   size() returns the size of the stack.\n",
        "\n",
        "In python, stacks can be implented using lists"
      ]
    },
    {
      "cell_type": "code",
      "execution_count": null,
      "metadata": {
        "id": "CeLwIsW3KHob"
      },
      "outputs": [],
      "source": [
        "class Stack():\n",
        "\n",
        "  def __init__(self):\n",
        "    self.stack = []\n",
        "\n",
        "  def get_length(self):\n",
        "\n",
        "    return len(self.stack)\n",
        "\n",
        "  def isEmpty(self):\n",
        "    if len(self.stack) != 0:\n",
        "      return False\n",
        "    else:\n",
        "      return True\n",
        "\n",
        "  def push(self, x):\n",
        "    self.stack.append(x)\n",
        "\n",
        "  def pop(self):\n",
        "    if not self.isEmpty():\n",
        "      last = self.stack[-1]\n",
        "      self.stack = self.stack[:len(self.stack)-1]\n",
        "      print(last)\n",
        "    else:\n",
        "      pass\n",
        "  def top(self):\n",
        "    return self.Stack[-1]\n",
        "\n",
        "  def display_stack(self):\n",
        "    self.stack = self.stack[::-1]\n",
        "    return self.stack"
      ]
    },
    {
      "cell_type": "code",
      "execution_count": null,
      "metadata": {
        "colab": {
          "base_uri": "https://localhost:8080/"
        },
        "id": "fBYVDpUDLtk9",
        "outputId": "a4b1e5ee-52b9-44f5-b382-7cc10a04e0cd"
      },
      "outputs": [
        {
          "name": "stdout",
          "output_type": "stream",
          "text": [
            "7\n",
            "[3, 5, 4]\n",
            "[3, 5, 4]\n"
          ]
        }
      ],
      "source": [
        "my_stack = Stack()\n",
        "my_stack.push(4)\n",
        "my_stack.push(5)\n",
        "my_stack.push(3)\n",
        "my_stack.push(7)\n",
        "my_stack.pop()\n",
        "\n",
        "print(my_stack.display_stack())\n",
        "ls = my_stack.stack\n",
        "print(ls)\n"
      ]
    },
    {
      "cell_type": "markdown",
      "metadata": {
        "id": "viddoJYUNmZ4"
      },
      "source": [
        "#### Some applications"
      ]
    },
    {
      "cell_type": "markdown",
      "metadata": {
        "id": "OIh0o7uk_84V"
      },
      "source": [
        "##### Exercise\n",
        "\n",
        "\n",
        "Given a string s, write a function reverseString that returns the reversed string of s using stack\n",
        "\n",
        "Input: abc\n",
        "\n",
        "output: cba\n",
        "\n",
        "Input: abc def\n",
        "\n",
        "\n",
        "output: fed cba"
      ]
    },
    {
      "cell_type": "code",
      "execution_count": null,
      "metadata": {
        "id": "Y6Ph0tZMNhDw"
      },
      "outputs": [],
      "source": [
        "def reverse(my_string):\n",
        "  stack, st = Stack(), str()\n",
        "  for i in my_string:\n",
        "    stack.push(i)\n",
        "  for i in stack.display_stack():\n",
        "    st +=  i\n",
        "  return st\n"
      ]
    },
    {
      "cell_type": "code",
      "execution_count": null,
      "metadata": {
        "colab": {
          "base_uri": "https://localhost:8080/",
          "height": 35
        },
        "id": "5zsFd2d_STpa",
        "outputId": "69c25d17-d87b-4452-9970-44fdfeea0b40"
      },
      "outputs": [
        {
          "data": {
            "application/vnd.google.colaboratory.intrinsic+json": {
              "type": "string"
            },
            "text/plain": [
              "'cba'"
            ]
          },
          "execution_count": 4,
          "metadata": {},
          "output_type": "execute_result"
        }
      ],
      "source": [
        "reverse(\"abc\")"
      ]
    },
    {
      "cell_type": "markdown",
      "metadata": {
        "id": "MbU9O7SwRHno"
      },
      "source": [
        "##### Exercise\n",
        "\n",
        "Check for Balanced Brackets in an expression (well-formedness)\n",
        "\n",
        "\n",
        "Given an expression string exp, write a program to examine whether the pairs and the orders of “{“, “}”, “(“, “)”, “[“, “]” are correct in the given expression.\n",
        "\n",
        "Example:\n",
        "\n",
        "Input: exp = “[()]{}{[()()]()}”\n",
        "Output: Balanced\n",
        "Explanation: all the brackets are well-formed\n",
        "\n",
        "Input: exp = “[(])”\n",
        "Output: Not Balanced\n",
        "Explanation: 1 and 4 brackets are not balanced because\n",
        "there is a closing ‘]’ before the closing ‘(‘\n",
        "\n",
        "\n",
        "\n"
      ]
    },
    {
      "cell_type": "code",
      "execution_count": null,
      "metadata": {
        "colab": {
          "base_uri": "https://localhost:8080/"
        },
        "id": "he_0ZZYMLYtR",
        "outputId": "3d28c4d0-e7d2-45eb-b1c0-71164fb487f2"
      },
      "outputs": [
        {
          "name": "stdout",
          "output_type": "stream",
          "text": [
            "Balanced\n"
          ]
        }
      ],
      "source": [
        "def isbalanced(exp):\n",
        "    stack = []\n",
        "    for ch in exp:\n",
        "        if ch in ('(', '{', '['):\n",
        "            stack.append(ch)\n",
        "        else:\n",
        "            if stack and ((stack[-1] == '(' and ch == ')') or\n",
        "                          (stack[-1] == '{' and ch == '}') or\n",
        "                          (stack[-1] == '[' and ch == ']')):\n",
        "                stack.pop()\n",
        "            else:\n",
        "                return False\n",
        "    return not stack\n",
        "\n",
        "expr = \"[()]{}{()()}\"\n",
        "\n",
        "# test the function:\n",
        "if isbalanced(expr):\n",
        "    print(\"Balanced\")\n",
        "else:\n",
        "    print(\"Not Balanced\")"
      ]
    },
    {
      "cell_type": "markdown",
      "metadata": {
        "id": "8aqpCVDeDybi"
      },
      "source": [
        "### Queue"
      ]
    },
    {
      "cell_type": "markdown",
      "metadata": {
        "id": "yQW3eR92VUg5"
      },
      "source": [
        "Same as Stack, Queue is also a linear data structure. However Queue store data in a FIFO(FIrst In First Out) manner\n",
        "\n",
        "![](https://media.geeksforgeeks.org/wp-content/cdn-uploads/gq/2014/02/Queue.png)\n",
        "\n",
        "\n",
        "image credit: https://www.geeksforgeeks.org/python-data-structures-and-algorithms/\n",
        "\n"
      ]
    },
    {
      "cell_type": "markdown",
      "metadata": {
        "id": "Ge-8GbXARNK0"
      },
      "source": [
        "#### Basics operations of Queue\n",
        "\n",
        "\n",
        "*   Enqueue() Adds (or stores) an element to the end of the queue.\n",
        "*   Dequeue() Removal of elements from the queue.\n",
        "*   Peek() or front() Acquires the data element available at the front node of the queue without deleting it.\n",
        "*   rear() This operation returns the element at the rear end without removing it.\n",
        "*   isFull() Validates if the queue is full.\n",
        "*   isNull() Checks if the queue is empty."
      ]
    },
    {
      "cell_type": "code",
      "execution_count": null,
      "metadata": {
        "id": "_u2lE_feDzwt"
      },
      "outputs": [],
      "source": [
        "class Queue:\n",
        "  \"Write your code here\"\n",
        "\n",
        "  def __init__(self, max_size = None):\n",
        "    self.queue = []\n",
        "    self.size = max_size\n",
        "\n",
        "  def enqueue(self,x):\n",
        "    self.queue.append(x)\n",
        "  def dequeue(self):\n",
        "    if not self.isNull():\n",
        "      self.queue = self.queue[1:len(self.queue)-1]\n",
        "    else:\n",
        "      print(\"Empty queue\")\n",
        "  def front(self):\n",
        "    return self.queue[0]\n",
        "\n",
        "  def front(self):\n",
        "    return self.queue[0]\n",
        "  def isNull(self):\n",
        "    if self.queue == []:\n",
        "      return True\n",
        "    else:\n",
        "      return False\n",
        "\n",
        "  def roar(self):  # for roar\n",
        "     return self.queue[:-1]\n",
        "  def display_queue(self):\n",
        "    print(self.queue)\n",
        "\n",
        "  def is_full(self):\n",
        "    pass"
      ]
    },
    {
      "cell_type": "code",
      "execution_count": null,
      "metadata": {
        "colab": {
          "base_uri": "https://localhost:8080/"
        },
        "id": "XIuQe8QLyH_0",
        "outputId": "f1e164f0-78ce-4234-f654-846e3cf4f6ad"
      },
      "outputs": [
        {
          "name": "stdout",
          "output_type": "stream",
          "text": [
            "[1, -1, 3, 0, 10, 6]\n",
            "None\n",
            "[-1, 3, 0]\n",
            "False\n"
          ]
        }
      ],
      "source": [
        "my_queue = Queue(max_size=5)\n",
        "my_queue.enqueue(1)\n",
        "my_queue.enqueue(-1)\n",
        "my_queue.enqueue(3)\n",
        "my_queue.enqueue(0)\n",
        "my_queue.enqueue(10)\n",
        "my_queue.enqueue(6)\n",
        "my_queue.display_queue()\n",
        "print(my_queue.dequeue())\n",
        "#print(my_queue.peek())\n",
        "print(my_queue.roar())\n",
        "#print(my_queue.is_full())\n",
        "print(my_queue.isNull())"
      ]
    },
    {
      "cell_type": "code",
      "execution_count": null,
      "metadata": {
        "colab": {
          "base_uri": "https://localhost:8080/"
        },
        "id": "-QsRPcaSut5N",
        "outputId": "a1f22d72-d7b7-4f64-e947-0eeb2bfa2957"
      },
      "outputs": [
        {
          "data": {
            "text/plain": [
              "[1, 2, 28, 3, 0, 2]"
            ]
          },
          "execution_count": 8,
          "metadata": {},
          "output_type": "execute_result"
        }
      ],
      "source": [
        "ls = [1,2,2,28,3, 0, 2]\n",
        "ls.remove(2)\n",
        "ls"
      ]
    },
    {
      "cell_type": "code",
      "execution_count": null,
      "metadata": {
        "id": "pPjsHtYdzlaE"
      },
      "outputs": [],
      "source": []
    },
    {
      "cell_type": "markdown",
      "metadata": {
        "id": "6_aPGsSQaznf"
      },
      "source": [
        "Queues and Stacks have  two conditions that need to be checked:\n",
        "\n",
        "*  overflow → insertion into a queue or stack that is full\n",
        "*   underflow → deletion from an empty queue or stack"
      ]
    },
    {
      "cell_type": "markdown",
      "metadata": {
        "id": "158eDe1eO6Ww"
      },
      "source": [
        "#### Some applications: Priority Queue"
      ]
    },
    {
      "cell_type": "markdown",
      "metadata": {
        "id": "e1bzOMF5z9st"
      },
      "source": [
        "`**A priority queue**` is a special type of queue in which each element is associated with a priority and is served according to its priority. There are two types of Priority Queues. They are:\n",
        "\n",
        "\n",
        "\n",
        "*   Ascending Priority Queue: Element can be inserted arbitrarily but only smallest element can be removed.\n",
        "*   Descending priority Queue: Element can be inserted arbitrarily but only the largest element can be removed first from the given Queue.\n"
      ]
    },
    {
      "cell_type": "markdown",
      "metadata": {
        "id": "3yVKigCV0kG0"
      },
      "source": [
        "##### Exercise\n",
        "\n",
        "Rewrite the function dequeue for ascending priority; You can use try/catch block by raising an IndexError when the queue is empty."
      ]
    },
    {
      "cell_type": "code",
      "execution_count": null,
      "metadata": {
        "id": "ShS62ahCPAQb"
      },
      "outputs": [],
      "source": [
        "class Queue:\n",
        "  \"Write your code here\"\n",
        "\n",
        "  def __init__(self, max_size = None):\n",
        "    self.queue = []\n",
        "    self.size = max_size\n",
        "    self.min = None\n",
        "\n",
        "  def enqueue(self,x):\n",
        "    self.queue.append(x)\n",
        "\n",
        "  def dequeue(self):\n",
        "    if not self.isNull():\n",
        "      self.queue = self.queue[:len(self.queue)-1]\n",
        "    else:\n",
        "      print(\"Empty queue\")\n",
        "  def rear(self):\n",
        "    return self.queue[1]\n",
        "  def front(self):\n",
        "    return self.queue[0]\n",
        "  def isNull(self):\n",
        "    if self.queue == []:\n",
        "      return True\n",
        "    else:\n",
        "      return False\n",
        "\n",
        "  def peek(self):\n",
        "    return self.queue[:-1]\n",
        "  def display_queue(self):\n",
        "    print(self.queue)\n",
        "\n",
        "  def dequeue_asc(self):\n",
        "    if not self.isNull():\n",
        "       self.queue.remove(min(self.queue))\n",
        "    else:\n",
        "      print(\"Empty queue\")"
      ]
    },
    {
      "cell_type": "code",
      "execution_count": null,
      "metadata": {
        "colab": {
          "base_uri": "https://localhost:8080/"
        },
        "id": "D2aJXEgD1z3t",
        "outputId": "a1c81017-373b-44a4-88ef-78f973788a60"
      },
      "outputs": [
        {
          "name": "stdout",
          "output_type": "stream",
          "text": [
            "[1, -1, 3, 0, 10, 6]\n",
            "None\n",
            "[1, -1, 3, 0]\n",
            "-1\n",
            "False\n"
          ]
        }
      ],
      "source": [
        "my_queue = Queue(max_size=5)\n",
        "my_queue.enqueue(1)\n",
        "my_queue.enqueue(-1)\n",
        "my_queue.enqueue(3)\n",
        "my_queue.enqueue(0)\n",
        "my_queue.enqueue(10)\n",
        "my_queue.enqueue(6)\n",
        "my_queue.display_queue()\n",
        "print(my_queue.dequeue())\n",
        "print(my_queue.peek())\n",
        "print(my_queue.rear())\n",
        "#print(my_queue.is_full())\n",
        "print(my_queue.isNull())\n"
      ]
    },
    {
      "cell_type": "markdown",
      "metadata": {
        "id": "zde5OxGgDsdY"
      },
      "source": [
        "### Linked List"
      ]
    },
    {
      "cell_type": "markdown",
      "metadata": {
        "id": "zvyd4mVZPJbe"
      },
      "source": [
        "A linked list is a linear data structure that includes a series of connected nodes that are not stored at contiguous memory location.\n",
        "\n",
        "It is represented by a pointer to the first node of the linked list. The first node is called the **head**. If the linked list is empty, then the value of the head is **NULL**. Each node in a list consists of at least two parts:\n",
        "\n",
        "* Data\n",
        "* Pointer (Or Reference) to the next node\n",
        "\n",
        "![](https://media.geeksforgeeks.org/wp-content/cdn-uploads/gq/2013/03/Linkedlist.png)\n",
        "\n",
        "\n",
        "https://realpython.com/linked-lists-python/"
      ]
    },
    {
      "cell_type": "markdown",
      "metadata": {
        "id": "IXOU8UvrRWbx"
      },
      "source": [
        "#### Basic operations\n",
        "\n",
        "\n",
        "\n",
        "*   Insert: we can insert at the Beginning, Insert at the End, Insert at a Specific Position\n",
        "*   Delete: we can delete from the Beginning, from the End, at a Specific Position\n",
        "*   Display: disply by traversing the linked list from the head to the end, visiting each node in turn.\n",
        "*   Search: look for a node with a specific value or property.\n",
        "*   Get Length: count the number of nodes.\n",
        "*   Access: Access data in a specific node by traversing the list or directly indexing if the list supports it.\n",
        "*   Update: update the data in a specific node by traversing the list to find it and modifying its data.\n",
        "*   Concatenate: Concatenate two linked lists by making the last node of the first list point to the head of the second list.\n",
        "*   Reverse: Reverse the order of nodes in the linked list.\n",
        "*   Sort: Sort the linked list by rearranging nodes according to a specific criterion, such as value or property.\n",
        "\n"
      ]
    },
    {
      "cell_type": "code",
      "execution_count": null,
      "metadata": {
        "colab": {
          "base_uri": "https://localhost:8080/"
        },
        "id": "p7TTDb25Dvc2",
        "outputId": "b883ee43-4ff1-4447-8054-e76ff8a0f118"
      },
      "outputs": [
        {
          "name": "stdout",
          "output_type": "stream",
          "text": [
            "First LinkedList:\n",
            "Add at the beginning:\n",
            "7-->1-->1-->3-->2\n",
            "Second LinkedList:\n",
            "Add at the beginning:\n",
            "10-->6-->0\n",
            "Linked list concatenation:\n",
            "7-->1-->1-->3-->2-->10-->6-->0\n"
          ]
        }
      ],
      "source": [
        "class Node:\n",
        "    def __init__(self, data):\n",
        "      self.node = data\n",
        "      self.next = None\n",
        "\n",
        "\n",
        "\n",
        "\n",
        "class LinkedList:\n",
        "\n",
        "    def __init__(self):\n",
        "        self.head = None\n",
        "\n",
        "    def insertAtBeginning(self, item):\n",
        "      var = Node(item)\n",
        "      if self.head == None:\n",
        "        self.head = var\n",
        "      else:\n",
        "        var.next = self.head\n",
        "        self.head = var\n",
        "\n",
        "    def insertAfter(self, item, index):\n",
        "      newNode = Node(item)\n",
        "      current = self.head\n",
        "      flag = False\n",
        "      if index == 0:\n",
        "        self.insertAtBeginning(item)\n",
        "      else:\n",
        "        count = 0\n",
        "        while count != index and current != None : # or current != None:\n",
        "          current = current.next\n",
        "          count += 1\n",
        "        if current == None:\n",
        "          print(\"Position not found\")\n",
        "        else:\n",
        "          newNode.next = current.next\n",
        "          current.next = newNode\n",
        "\n",
        "    def insertAtEnd(self, item):\n",
        "      var = Node(item)\n",
        "      if self.head == None:\n",
        "        self.head = var\n",
        "      else:\n",
        "        current = self.head\n",
        "        while current.next != None:\n",
        "          current = current.next\n",
        "        current.next =  var\n",
        "\n",
        "    def deleteItem(self, item):\n",
        "      if self.head == None:\n",
        "        return \"Empty queue\"\n",
        "      else:\n",
        "        if self.head.node == item:\n",
        "          self.head = self.head.next\n",
        "        else:\n",
        "          current = self.head\n",
        "          while current != None and current.next.node != item:\n",
        "            current = current.next\n",
        "          if current == None:\n",
        "            return \"Item not found\"\n",
        "          else:\n",
        "            current.next = current.next.next\n",
        "\n",
        "    def display(self):\n",
        "      current = self.head\n",
        "      if current == None:\n",
        "        print(\"Empty LinkedList\")\n",
        "      else:\n",
        "        while current.next != None:\n",
        "          print(current.node, end='-->')\n",
        "          current = current.next\n",
        "        print(current.node)\n",
        "\n",
        "    def search(self, item):\n",
        "      current = self.head\n",
        "      if self.head.node == item:\n",
        "        return True\n",
        "      else:\n",
        "        while current != None:\n",
        "          if current.node == item:\n",
        "            return True\n",
        "          else:\n",
        "            current = current.next\n",
        "        return False\n",
        "\n",
        "    def get_length(self):\n",
        "        current, count = self.head, 0\n",
        "        if self.head == None:\n",
        "          return 0\n",
        "        else:\n",
        "          while current != None:\n",
        "            count += 1\n",
        "            current = current.next\n",
        "          return count\n",
        "\n",
        "    def access(self, index):\n",
        "      current = self.head\n",
        "      if index == 0:\n",
        "        return current.node\n",
        "      else:\n",
        "        count = 0\n",
        "        while count != index and current != None : # or current != None:\n",
        "          current = current.next\n",
        "          count += 1\n",
        "        if current == None:\n",
        "          print(\"Position not found\")\n",
        "        else:\n",
        "          return current.node\n",
        "\n",
        "    def update(self, index, new_data):\n",
        "      current, count = self.head, 0\n",
        "      if current == None:\n",
        "        return \"Empty queue\"\n",
        "      else:\n",
        "        while count != index and current != None:\n",
        "          current = current.next\n",
        "          count +=1\n",
        "        if current == None:\n",
        "          print(\"Out of range\")\n",
        "        else:\n",
        "          current.node = new_data\n",
        "    ### Concatenate ##\n",
        "    def concat(self, x):\n",
        "      current = x.head\n",
        "      if current == None:\n",
        "        self.display()\n",
        "      else:\n",
        "        while current != None:\n",
        "          self.insertAtEnd(current.node)\n",
        "          current = current.next\n",
        "        #self.insertAtEnd(\"None\")\n",
        "        self.display()\n",
        "\n",
        "    ## Reversev a linked_list:\n",
        "    def reverse(self):\n",
        "      current, reversed_lkdl = self.head, LinkedList()\n",
        "\n",
        "      while current != None:\n",
        "        reversed_lkdl.insertAtBeginning(current.node)\n",
        "        current = current.next\n",
        "      reversed_lkdl.display()\n",
        "\n",
        "\n",
        "    ## Sort a Linkedlist in ascending :\n",
        "    def sort(self):\n",
        "      current = self.head\n",
        "      if current == None:\n",
        "        return \"Empty list\"\n",
        "      else:\n",
        "        while current!= None: # and current.next != None:\n",
        "          item1 = current.node\n",
        "          item2 = current.next\n",
        "          if current.next.node <= current.node:\n",
        "            current = current.next\n",
        "            current.next = item2\n",
        "          else:\n",
        "            current = current\n",
        "            current.next = current.next\n",
        "          current = current.next\n",
        "        self.display()\n",
        "\n",
        "\n",
        "\n",
        "print(\"First LinkedList:\")\n",
        "linked_list = LinkedList()\n",
        "\n",
        "print(\"Add at the beginning:\")\n",
        "linked_list.insertAtBeginning(2)\n",
        "linked_list.insertAtBeginning(3)\n",
        "linked_list.insertAtBeginning(1)\n",
        "linked_list.insertAtBeginning(1)\n",
        "linked_list.insertAtBeginning(7)\n",
        "linked_list.display()\n",
        "\n",
        "\n",
        "\n",
        "linked_list2 = LinkedList()\n",
        "\n",
        "linked_list2.insertAtBeginning(0)\n",
        "linked_list2.insertAtBeginning(6)\n",
        "linked_list2.insertAtBeginning(10)\n",
        "\n",
        "print(\"Second LinkedList:\")\n",
        "print(\"Add at the beginning:\")\n",
        "linked_list2.display()\n",
        "\n",
        "print(\"Linked list concatenation:\")\n",
        "\n",
        "linked_list.concat(linked_list2)"
      ]
    },
    {
      "cell_type": "code",
      "execution_count": null,
      "metadata": {
        "colab": {
          "base_uri": "https://localhost:8080/"
        },
        "id": "kPivLrrbUZDO",
        "outputId": "710df3c9-c867-4e9c-9a7b-57224e5d1517"
      },
      "outputs": [
        {
          "name": "stdout",
          "output_type": "stream",
          "text": [
            "9-->2-->0-->7-->8\n",
            "5\n"
          ]
        },
        {
          "data": {
            "text/plain": [
              "False"
            ]
          },
          "execution_count": 12,
          "metadata": {},
          "output_type": "execute_result"
        }
      ],
      "source": [
        "linked_list = LinkedList()\n",
        "#display(linked_list)\n",
        "linked_list.insertAtBeginning(2)\n",
        "linked_list.insertAtBeginning(9)\n",
        "linked_list.insertAtEnd(8)\n",
        "linked_list.insertAfter(7,1)\n",
        "linked_list.insertAfter(0,1)\n",
        "linked_list.display()\n",
        "print(linked_list.get_length())\n",
        "linked_list.search(10)"
      ]
    },
    {
      "cell_type": "code",
      "execution_count": null,
      "metadata": {
        "colab": {
          "base_uri": "https://localhost:8080/"
        },
        "id": "ZI4cyTlx3LhZ",
        "outputId": "0aee021d-f001-48cf-cf50-1b250cbe0487"
      },
      "outputs": [
        {
          "name": "stdout",
          "output_type": "stream",
          "text": [
            "9-->1-->0-->7-->8\n"
          ]
        }
      ],
      "source": [
        "linked_list.update(1, 1)\n",
        "linked_list.display()"
      ]
    },
    {
      "cell_type": "code",
      "execution_count": null,
      "metadata": {
        "colab": {
          "base_uri": "https://localhost:8080/"
        },
        "id": "-ejt6wTW62oh",
        "outputId": "5718a8a5-1125-45f6-8532-6b5d05263592"
      },
      "outputs": [
        {
          "name": "stdout",
          "output_type": "stream",
          "text": [
            "Position not found\n"
          ]
        }
      ],
      "source": [
        "linked_list.access(5)"
      ]
    },
    {
      "cell_type": "code",
      "execution_count": null,
      "metadata": {
        "colab": {
          "base_uri": "https://localhost:8080/"
        },
        "id": "EVdpp9p0PR9Y",
        "outputId": "2aecd1c1-bfd0-426c-f4db-afdbbc099f52"
      },
      "outputs": [
        {
          "name": "stdout",
          "output_type": "stream",
          "text": [
            "2\n",
            "2-->4\n",
            "5-->2-->4\n",
            "5-->2-->4-->6\n",
            "5-->2-->4-->6-->7\n",
            "5-->2-->4-->6-->7\n"
          ]
        }
      ],
      "source": [
        "linked_list = LinkedList()\n",
        "\n",
        "#display(linked_list)\n",
        "linked_list.insertAtBeginning(2)\n",
        "linked_list.display()\n",
        "\n",
        "linked_list.insertAtEnd(4)\n",
        "linked_list.display()\n",
        "\n",
        "linked_list.insertAtBeginning(5)\n",
        "linked_list.display()\n",
        "\n",
        "linked_list.insertAtEnd(6)\n",
        "linked_list.display()\n",
        "\n",
        "linked_list.insertAtEnd(7)\n",
        "linked_list.display()\n",
        "\n",
        "#linked_list.insertAfter(3,linked_list.head.next)\n",
        "linked_list.display()\n",
        "\n",
        "#linked_list.insertAfter(7,linked_list.head.next)\n",
        "#linked_list.display()\n",
        "\n",
        "#linked_list.deleteItem(1)\n",
        "#linked_list.display()\n",
        "\n",
        "#linked_list.update(3, 10)\n",
        "#linked_list.display()\n",
        "#linked_list.update(20, 1)\n",
        "#linked_list.display()"
      ]
    },
    {
      "cell_type": "markdown",
      "metadata": {
        "id": "YkzwOpmgRfKx"
      },
      "source": [
        "#### Exercises"
      ]
    },
    {
      "cell_type": "markdown",
      "metadata": {
        "id": "-dQV-U6360VE"
      },
      "source": [
        "##### Exercises\n",
        "\n",
        "Write the function concatenate to concatenate two linked list\n",
        "\n",
        "Example:\n",
        "\n",
        "Input\n",
        "\n",
        "`first_list = 5 -> 2 -> 7 -> 10 -> `\n",
        "\n",
        "`second_list = 4 -> 6 -> 7 -> `\n",
        "\n",
        "output\n",
        "\n",
        "`reverse_list = 5 -> 2 -> 7 -> 10 -> 4 -> 6 -> 7 -> `"
      ]
    },
    {
      "cell_type": "code",
      "execution_count": null,
      "metadata": {
        "colab": {
          "base_uri": "https://localhost:8080/"
        },
        "id": "ul_Hl0LkRlM4",
        "outputId": "5124731d-cc5a-42fb-cc0a-aef564710a62"
      },
      "outputs": [
        {
          "name": "stdout",
          "output_type": "stream",
          "text": [
            "First LinkedList:\n",
            "Add at the beginning:\n",
            "7-->1-->1-->3-->2\n",
            "Second LinkedList:\n",
            "Add at the beginning:\n",
            "10-->6-->0\n",
            "Linked list concatenation:\n",
            "7-->1-->1-->3-->2-->10-->6-->0\n"
          ]
        }
      ],
      "source": [
        "class Node:\n",
        "    def __init__(self, data):\n",
        "      self.node = data\n",
        "      self.next = None\n",
        "\n",
        "\n",
        "\n",
        "\n",
        "class LinkedList:\n",
        "\n",
        "    def __init__(self):\n",
        "        self.head = None\n",
        "\n",
        "    def insertAtBeginning(self, item):\n",
        "      var = Node(item)\n",
        "      if self.head == None:\n",
        "        self.head = var\n",
        "      else:\n",
        "        var.next = self.head\n",
        "        self.head = var\n",
        "\n",
        "    def insertAfter(self, item, index):\n",
        "      newNode = Node(item)\n",
        "      current = self.head\n",
        "      flag = False\n",
        "      if index == 0:\n",
        "        self.insertAtBeginning(item)\n",
        "      else:\n",
        "        count = 0\n",
        "        while count != index and current != None : # or current != None:\n",
        "          current = current.next\n",
        "          count += 1\n",
        "        if current == None:\n",
        "          print(\"Position not found\")\n",
        "        else:\n",
        "          newNode.next = current.next\n",
        "          current.next = newNode\n",
        "\n",
        "    def insertAtEnd(self, item):\n",
        "      var = Node(item)\n",
        "      if self.head == None:\n",
        "        self.head = var\n",
        "      else:\n",
        "        current = self.head\n",
        "        while current.next != None:\n",
        "          current = current.next\n",
        "        current.next =  var\n",
        "\n",
        "    def deleteItem(self, item):\n",
        "      if self.head == None:\n",
        "        return \"Empty queue\"\n",
        "      else:\n",
        "        if self.head.node == item:\n",
        "          self.head = self.head.next\n",
        "        else:\n",
        "          current = self.head\n",
        "          while current != None and current.next.node != item:\n",
        "            current = current.next\n",
        "          if current == None:\n",
        "            return \"Item not found\"\n",
        "          else:\n",
        "            current.next = current.next.next\n",
        "\n",
        "    def display(self):\n",
        "      current = self.head\n",
        "      if current == None:\n",
        "        print(\"Empty LinkedList\")\n",
        "      else:\n",
        "        while current.next != None:\n",
        "          print(current.node, end='-->')\n",
        "          current = current.next\n",
        "        print(current.node)\n",
        "\n",
        "    def search(self, item):\n",
        "      current = self.head\n",
        "      if self.head.node == item:\n",
        "        return True\n",
        "      else:\n",
        "        while current != None:\n",
        "          if current.node == item:\n",
        "            return True\n",
        "          else:\n",
        "            current = current.next\n",
        "        return False\n",
        "\n",
        "    def get_length(self):\n",
        "        current, count = self.head, 0\n",
        "        if self.head == None:\n",
        "          return 0\n",
        "        else:\n",
        "          while current != None:\n",
        "            count += 1\n",
        "            current = current.next\n",
        "          return count\n",
        "\n",
        "    def access(self, index):\n",
        "      current = self.head\n",
        "      if index == 0:\n",
        "        return current.node\n",
        "      else:\n",
        "        count = 0\n",
        "        while count != index and current != None : # or current != None:\n",
        "          current = current.next\n",
        "          count += 1\n",
        "        if current == None:\n",
        "          print(\"Position not found\")\n",
        "        else:\n",
        "          return current.node\n",
        "\n",
        "    def update(self, index, new_data):\n",
        "      current, count = self.head, 0\n",
        "      if current == None:\n",
        "        return \"Empty queue\"\n",
        "      else:\n",
        "        while count != index and current != None:\n",
        "          current = current.next\n",
        "          count +=1\n",
        "        if current == None:\n",
        "          print(\"Out of range\")\n",
        "        else:\n",
        "          current.node = new_data\n",
        "    ### Concatenate ##\n",
        "    def concat(self, x):\n",
        "      current = x.head\n",
        "      if current == None:\n",
        "        self.display()\n",
        "      else:\n",
        "        while current != None:\n",
        "          self.insertAtEnd(current.node)\n",
        "          current = current.next\n",
        "        #self.insertAtEnd(\"None\")\n",
        "        self.display()\n",
        "\n",
        "    ## Reversev a linked_list:\n",
        "    def reverse(self):\n",
        "      current, reversed_lkdl = self.head, LinkedList()\n",
        "\n",
        "      while current != None:\n",
        "        reversed_lkdl.insertAtBeginning(current.node)\n",
        "        current = current.next\n",
        "      reversed_lkdl.display()\n",
        "\n",
        "\n",
        "    ## Sort a Linkedlist in ascending :\n",
        "    def sort(self):\n",
        "      current = self.head\n",
        "      if current == None:\n",
        "        return \"Empty list\"\n",
        "      else:\n",
        "        while current!= None: # and current.next != None:\n",
        "          item1 = current.node\n",
        "          item2 = current.next\n",
        "          if current.next.node <= current.node:\n",
        "            current = current.next\n",
        "            current.next = item2\n",
        "          else:\n",
        "            current = current\n",
        "            current.next = current.next\n",
        "          current = current.next\n",
        "        self.display()\n",
        "\n",
        "\n",
        "\n",
        "print(\"First LinkedList:\")\n",
        "linked_list = LinkedList()\n",
        "\n",
        "print(\"Add at the beginning:\")\n",
        "linked_list.insertAtBeginning(2)\n",
        "linked_list.insertAtBeginning(3)\n",
        "linked_list.insertAtBeginning(1)\n",
        "linked_list.insertAtBeginning(1)\n",
        "linked_list.insertAtBeginning(7)\n",
        "linked_list.display()\n",
        "\n",
        "\n",
        "\n",
        "linked_list2 = LinkedList()\n",
        "\n",
        "linked_list2.insertAtBeginning(0)\n",
        "linked_list2.insertAtBeginning(6)\n",
        "linked_list2.insertAtBeginning(10)\n",
        "\n",
        "print(\"Second LinkedList:\")\n",
        "print(\"Add at the beginning:\")\n",
        "linked_list2.display()\n",
        "\n",
        "print(\"Linked list concatenation:\")\n",
        "\n",
        "linked_list.concat(linked_list2)"
      ]
    },
    {
      "cell_type": "markdown",
      "metadata": {
        "id": "bg2xMdTb7DHN"
      },
      "source": [
        "##### Exercise\n",
        "Write the function reverse to reverse a linked list\n",
        "\n",
        "Example:\n",
        "\n",
        "Input\n",
        "\n",
        "`my_list = 5 -> 2 -> 7 -> 10 -> 4 -> 6 -> 7 -> `\n",
        "\n",
        "output\n",
        "\n",
        "`reverse_list = 7 -> 6 -> 4 -> 10 -> 7 -> 2 -> 5 -> `"
      ]
    },
    {
      "cell_type": "code",
      "execution_count": null,
      "metadata": {
        "id": "1JAi6FJZ7CdD"
      },
      "outputs": [],
      "source": []
    },
    {
      "cell_type": "markdown",
      "metadata": {
        "id": "xoNAqkNg7j6c"
      },
      "source": [
        "##### Exercise\n",
        "\n",
        "Write a function to sort in ascending order elements on the linked list by removing all the duplicated elements.\n",
        "\n",
        "Example:\n",
        "\n",
        "Input\n",
        "\n",
        "`my_list = 5 -> 2 -> 7 -> 10 -> 4 -> 6 -> 7 -> `\n",
        "\n",
        "output\n",
        "\n",
        "`sorted_list = 2 -> 4 -> 5 -> 6 -> 7 -> 10 ->  `"
      ]
    },
    {
      "cell_type": "markdown",
      "metadata": {
        "id": "6GxcXU3985LM"
      },
      "source": [
        "##### Exercise\n",
        "\n",
        "Implement stack using Linked List"
      ]
    },
    {
      "cell_type": "code",
      "execution_count": null,
      "metadata": {
        "id": "JgQiFMcy9Na7"
      },
      "outputs": [],
      "source": [
        "#class Node:\n",
        "#  def __init__(self):\n",
        "#    self.data = None\n",
        "#    self.next = None\n",
        "\n",
        "class Stack: #(LinkedList):\n",
        "\n",
        "  def __init__(self):\n",
        "   self.stack = LinkedList()\n",
        "   self.length = None\n",
        "   self.last = None\n",
        "\n",
        "  def push(self, item):\n",
        "   self.stack.insertAtEnd(item)\n",
        "\n",
        "  def pop(self):\n",
        "    if self.stack.head == None:\n",
        "      print(\"Empty stack\")\n",
        "    else:\n",
        "      # Stack is not empty:\n",
        "      # get the stack length via LinkedList length\n",
        "      self.length= self.stack.get_length()\n",
        "      ### Access the last element:\n",
        "      self.last = self.stack.access(self.length -1)\n",
        "\n",
        "      ## Delete the last element:\n",
        "      self.stack.deleteItem(self.last)\n",
        "\n",
        "  def display(self):\n",
        "    self.stack.display()\n"
      ]
    },
    {
      "cell_type": "code",
      "execution_count": null,
      "metadata": {
        "colab": {
          "base_uri": "https://localhost:8080/"
        },
        "id": "nnA8LuNFGYtn",
        "outputId": "475c6d97-41a3-423f-a4fd-bf31a64ad5a5"
      },
      "outputs": [
        {
          "name": "stdout",
          "output_type": "stream",
          "text": [
            "Stack display:\n",
            "1-->2-->3-->4-->5-->6-->7\n",
            "Display stack after pop:\n",
            "1-->2-->3-->4-->5\n"
          ]
        }
      ],
      "source": [
        "my_stack = Stack()\n",
        "my_stack.push(1)\n",
        "my_stack.push(2)\n",
        "my_stack.push(3)\n",
        "my_stack.push(4)\n",
        "my_stack.push(5)\n",
        "my_stack.push(6)\n",
        "my_stack.push(7)\n",
        "\n",
        "print(\"Stack display:\")\n",
        "my_stack.display()\n",
        "#n = my_stack.stack.access(6)\n",
        "#my_stack.stack.deleteItem(n)\n",
        "my_stack.pop()\n",
        "my_stack.pop()\n",
        "\n",
        "print(\"Display stack after pop:\")\n",
        "\n",
        "my_stack.display()"
      ]
    },
    {
      "cell_type": "code",
      "execution_count": null,
      "metadata": {
        "colab": {
          "base_uri": "https://localhost:8080/"
        },
        "id": "Lyb6N7489X-8",
        "outputId": "3af129eb-7c64-4fb2-ec5b-da694e3ce29e"
      },
      "outputs": [
        {
          "name": "stdout",
          "output_type": "stream",
          "text": [
            "1-->2-->3-->4-->5\n"
          ]
        }
      ],
      "source": [
        "my_stack = Stack()\n",
        "\n",
        "my_stack.push(1)\n",
        "my_stack.push(2)\n",
        "my_stack.push(3)\n",
        "my_stack.push(4)\n",
        "my_stack.push(5)\n",
        "my_stack.push(6)\n",
        "my_stack.push(7)\n",
        "\n",
        "my_stack.pop()\n",
        "my_stack.pop()\n",
        "\n",
        "my_stack.display()"
      ]
    },
    {
      "cell_type": "markdown",
      "metadata": {
        "id": "xRzOurR2PaAW"
      },
      "source": [
        "### Doubly Linked List\n",
        "\n"
      ]
    },
    {
      "cell_type": "markdown",
      "metadata": {
        "id": "05O3K7DRPgO-"
      },
      "source": [
        "A doubly linked list is a type of linked list in which each node consists of 3 components:\n",
        "\n",
        "* prev - pointer to the previous node\n",
        "* data - data item\n",
        "* next - pointer to the next node\n",
        "\n",
        "![](https://www.programiz.com/sites/tutorial2program/files/doubly-linked-list-created.png)"
      ]
    },
    {
      "cell_type": "markdown",
      "metadata": {
        "id": "Nbkc37T5RwSF"
      },
      "source": [
        "#### Basic Operations\n",
        "\n",
        "\n",
        "\n",
        "*   InsertAtBegining\n",
        "*   InsertAfter\n",
        "*   InsertAtEnd\n",
        "*   Search\n",
        "*   Display\n",
        "*   and all the other basis functions as in Linked List\n",
        "\n",
        "\n",
        "\n"
      ]
    },
    {
      "cell_type": "code",
      "execution_count": null,
      "metadata": {
        "id": "Jq7lAQeJPdLm"
      },
      "outputs": [],
      "source": [
        "class Node:\n",
        "    def __init__(self, item):\n",
        "        self.data = item\n",
        "        self.next = None\n",
        "        self.previous = None\n",
        "\n",
        "class DoublyLinkedList:\n",
        "    def __init__(self):\n",
        "      self.head = None\n",
        "\n",
        "\n",
        "    def insert_at_beginning(self, item):\n",
        "        newNode = Node(item)\n",
        "        if self.head !=None:\n",
        "          newNode.next = self.head\n",
        "          self.head.previous = newNode\n",
        "          self.head = newNode\n",
        "        else:\n",
        "          self.head = newNode\n",
        "\n",
        "    def insert_after_index(self, index,item):#previous_node, item):\n",
        "        newNode = Node(item)\n",
        "        current = self.head\n",
        "        if index == 0:\n",
        "          self.insert_at_beginning(item)\n",
        "        else:\n",
        "          count = 0\n",
        "          while count != index and current != None : # or current != None:\n",
        "            current = current.next\n",
        "            count += 1\n",
        "          if current == None:\n",
        "            print(\"Position not found\")\n",
        "          else:\n",
        "            newNode.next = current.next\n",
        "            if current.next != None:\n",
        "              current.next.previous = newNode\n",
        "            current.next = newNode\n",
        "            newNode.previous = current\n",
        "\n",
        "    def insert_after_node(self, previous_node, data):\n",
        "      current = self.head\n",
        "      if current == None:\n",
        "        print(\"Cannot insert in an empty Linkedlist\")\n",
        "        return\n",
        "      while current != previous_node and current !=None:\n",
        "        current = current.next\n",
        "\n",
        "      if current == None:\n",
        "        print(\"Node not found\")\n",
        "        return\n",
        "      newNode = Node(data)\n",
        "      newNode.next = current.next\n",
        "      current.next = newNode\n",
        "      newNode.previous = current\n",
        "      current.next.previous = newNode\n",
        "\n",
        "\n",
        "    def insert_at_end(self, item):\n",
        "        newNode  = Node(item)\n",
        "        current = self.head\n",
        "        if current == None:\n",
        "          print(\"Cannot insert in an empty LinkedList\")\n",
        "        while current!=None:\n",
        "          flag = current\n",
        "          current = current.next\n",
        "        newNode.previous = flag\n",
        "        flag.next = newNode\n",
        "        newNode.next =  current\n",
        "\n",
        "\n",
        "\n",
        "    def delete_item(self, item):\n",
        "      # if self.head == None:\n",
        "      #   return \"Empty queue\"\n",
        "      # else:\n",
        "      #   if self.head.node == item:\n",
        "      #     self.head = self.head.next\n",
        "      #   else:\n",
        "      #     current = self.head\n",
        "      #     while current != None and current.next.node != item:\n",
        "      #           current = current.next\n",
        "      #     if current == None:\n",
        "      #           return \"Item not found\"\n",
        "      #     else:\n",
        "      #        current.next = current.next.next\n",
        "\n",
        "      if self.head == None:\n",
        "        return \"Empty queue\"\n",
        "      else:\n",
        "        if self.head.data == item:\n",
        "          self.head = self.head.next\n",
        "          self.head.next.previous = None\n",
        "        elif self.search(item) == True:\n",
        "          current = self.head\n",
        "          while current != None and current.next.data != item:\n",
        "            current = current.next\n",
        "          # if current == None:\n",
        "          #   return \"Item not found\"\n",
        "          # else:\n",
        "          current.next = current.next.next\n",
        "          current.next.previous = current\n",
        "          return\n",
        "        else:\n",
        "          print(\"Cannot delete, item not found\")\n",
        "\n",
        "    def search(self, item):\n",
        "      current = self.head\n",
        "      if self.head.data == item:\n",
        "        return True\n",
        "      else:\n",
        "        while current != None:\n",
        "          if current.data == item:\n",
        "            return True\n",
        "          else:\n",
        "            current = current.next\n",
        "        return False\n",
        "\n",
        "    # def search_node(self, item):\n",
        "    #   current = self.head\n",
        "    #   if self.head.data == item:\n",
        "    #     return True\n",
        "    #   else:\n",
        "    #     while current != None:\n",
        "    #       if current.data == item:\n",
        "    #         return current\n",
        "    #       else:\n",
        "    #         current = current.next\n",
        "    #     return False\n",
        "\n",
        "    def get_length(self):\n",
        "        current, count = self.head, 0\n",
        "        if self.head == None:\n",
        "          return 0\n",
        "        else:\n",
        "          while current != None:\n",
        "            count += 1\n",
        "            current = current.next\n",
        "          return count\n",
        "\n",
        "    def access(self, index):\n",
        "      current, = self.head\n",
        "      if index == 0:\n",
        "        return current.data\n",
        "      else:\n",
        "        count = 0\n",
        "        while count != index and current != None : # or current != None:\n",
        "          current = current.next\n",
        "          count += 1\n",
        "        if current == None:\n",
        "          print(\"Position not found\")\n",
        "        else:\n",
        "          return current.data\n",
        "\n",
        "    def update(self, index, new_data):\n",
        "      current, count = self.head, 0\n",
        "      if current == None:\n",
        "        return \"Empty queue\"\n",
        "      else:\n",
        "        while count != index and current != None:\n",
        "          current = current.next\n",
        "          count +=1\n",
        "        if current == None:\n",
        "          print(\"Out of range\")\n",
        "        else:\n",
        "          current.data = new_data\n",
        "\n",
        "    def display(self):\n",
        "      current = self.head\n",
        "      if current == None:\n",
        "        print(\"Empty LinkedList\")\n",
        "      else:\n",
        "        while current.next != None:\n",
        "          print(current.data, end='<-->')\n",
        "          current = current.next\n",
        "        print(current.data)"
      ]
    },
    {
      "cell_type": "code",
      "execution_count": null,
      "metadata": {
        "colab": {
          "base_uri": "https://localhost:8080/"
        },
        "id": "hfKF7jaw5zjO",
        "outputId": "aa956f55-87db-46be-eb51-939e2f81a3e6"
      },
      "outputs": [
        {
          "name": "stdout",
          "output_type": "stream",
          "text": [
            "0<-->3<-->1\n",
            "0<-->3<-->1<-->5<-->90<-->0\n",
            "0<-->3<-->1<-->7<-->5<-->90<-->0\n",
            "6 is pertains to the list : False\n",
            "insert 11 after head:\n",
            "0<-->11<-->3<-->1<-->7<-->5<-->90<-->0\n",
            "insert 11 after the seond node:\n",
            "0<-->11<-->11<-->3<-->1<-->7<-->5<-->90<-->0\n",
            "Delete 1\n",
            "0<-->3<-->7<-->5<-->90<-->0\n",
            "Cannot delete, item not found\n",
            "0<-->3<-->7<-->5<-->90<-->0\n"
          ]
        }
      ],
      "source": [
        "d_linked_list = DoublyLinkedList()\n",
        "\n",
        "d_linked_list.insert_at_beginning(1)\n",
        "d_linked_list.insert_at_beginning(3)\n",
        "d_linked_list.insert_at_beginning(0)\n",
        "d_linked_list.display()\n",
        "\n",
        "d_linked_list.insert_at_end(5)\n",
        "d_linked_list.insert_at_end(90)\n",
        "d_linked_list.insert_at_end(0)\n",
        "d_linked_list.display()\n",
        "\n",
        "d_linked_list.insert_after_index(2,7)\n",
        "d_linked_list.display()\n",
        "\n",
        "node = 6\n",
        "print(f\"{node} is pertains to the list :\", d_linked_list.search(node))\n",
        "\n",
        "node = 11\n",
        "\n",
        "print(f\"insert {node} after head:\")\n",
        "\n",
        "d_linked_list.insert_after_node(d_linked_list.head, node)\n",
        "d_linked_list.display()\n",
        "\n",
        "node = 11\n",
        "print(f\"insert {node} after the seond node:\")\n",
        "d_linked_list.insert_after_node(d_linked_list.head.next, node)\n",
        "d_linked_list.display()\n",
        "\n",
        "item = 1\n",
        "print(f\"Delete {item}\")\n",
        "d_linked_list.delete_item(1)\n",
        "d_linked_list.delete_item(11)\n",
        "\n",
        "## Cannot an item twice:\n",
        "d_linked_list.delete_item(11)\n",
        "d_linked_list.display()\n",
        "\n",
        "# Delete an item not belonging the list:\n",
        "d_linked_list.delete_item(23)\n",
        "d_linked_list.display()\n"
      ]
    },
    {
      "cell_type": "code",
      "execution_count": null,
      "metadata": {
        "colab": {
          "base_uri": "https://localhost:8080/"
        },
        "id": "WxT46KJ_DH_J",
        "outputId": "d78436d6-ae3e-4863-98ff-d0eb1bb1def0"
      },
      "outputs": [
        {
          "name": "stdout",
          "output_type": "stream",
          "text": [
            "Cannot delete, item not found\n",
            "0<-->3<-->7<-->5<-->90<-->0\n"
          ]
        }
      ],
      "source": [
        "d_linked_list.delete_item(1)\n",
        "d_linked_list.display()"
      ]
    },
    {
      "cell_type": "markdown",
      "metadata": {
        "id": "CQSaT6QkR0jU"
      },
      "source": [
        "#### Exercises"
      ]
    },
    {
      "cell_type": "markdown",
      "metadata": {
        "id": "Fr71fjYcEG3n"
      },
      "source": [
        "##### Exercise\n",
        "Write the function reverse to reverse a linked list\n",
        "\n",
        "Example:\n",
        "\n",
        "Input\n",
        "\n",
        "`my_list = 5 <-> 2 <-> 7 <-> 10 <-> 4 <-> 6 <-> 7 <-> `\n",
        "\n",
        "output\n",
        "\n",
        "`reverse_list = 7 <-> 6 <-> 4 <-> 10 <-> 7 <-> 2 <-> 5 <-> `"
      ]
    },
    {
      "cell_type": "code",
      "execution_count": null,
      "metadata": {
        "id": "0at8xRcoEG30"
      },
      "outputs": [],
      "source": []
    },
    {
      "cell_type": "markdown",
      "metadata": {
        "id": "ZaB4BpYQERK8"
      },
      "source": [
        "##### Exercise\n",
        "Implement Queue usind DoubleLinkedList"
      ]
    },
    {
      "cell_type": "code",
      "execution_count": null,
      "metadata": {
        "id": "eXIzjpiqR3dp"
      },
      "outputs": [],
      "source": []
    },
    {
      "cell_type": "markdown",
      "metadata": {
        "id": "bUCvbKXED0Nr"
      },
      "source": [
        "### Binary Tree"
      ]
    },
    {
      "cell_type": "markdown",
      "metadata": {
        "id": "wxZQZTm-P8RL"
      },
      "source": [
        "Tree is a non linear hierarchical data structure where nodes are connected by edges. The binary tree is a tree data structure in which each node has at most two children, which are referred to as the left child and the right child.\n",
        "\n",
        "![](https://upload.wikimedia.org/wikipedia/commons/thumb/d/da/Binary_search_tree.svg/1200px-Binary_search_tree.svg.png)\n",
        "\n",
        "image credit: https://en.wikipedia.org/wiki/Binary_search_tree\n",
        "\n",
        "The topmost node is called root and the  bottommost nodes or the nodes with no children are called the leaf nodes. A node contains:\n",
        "\n",
        "* Data\n",
        "* Pointer to left child\n",
        "* Pointer to the right child\n",
        "\n",
        "\n"
      ]
    },
    {
      "cell_type": "markdown",
      "metadata": {
        "id": "Lv-sd1jWTtXB"
      },
      "source": [
        "\n",
        "#### Basic Operations\n",
        "\n",
        "\n",
        "*   Inserting an element\n",
        "*   Searching for an element.\n",
        "*   Deletion for an element.\n",
        "*   Traversing an element.\n",
        "\n",
        "\n",
        "\n",
        "There are three ways to visite/traverse each node present in the tree exactly once\n",
        "\n",
        "\n",
        "*   Inorder: left subtree, root, right subtree\n",
        "*   Preorder: root, left subtree, right subtree\n",
        "*   Postorder: left subtree, right subtree, root"
      ]
    },
    {
      "cell_type": "code",
      "execution_count": null,
      "metadata": {
        "id": "N0771w0tI07y"
      },
      "outputs": [],
      "source": [
        "class Node:\n",
        "  def __init__(self, data):\n",
        "    self.data = data\n",
        "    self.left =None\n",
        "    self.right =None\n",
        "    self.parent = None\n",
        "\n",
        "\n",
        "\n",
        "class BinaryTree:\n",
        "\n",
        "  def __init__(self):\n",
        "    self.root = None\n",
        "    self.left_sub_tree = []\n",
        "    self.right_sub_tree = []\n",
        "    self.ls = []\n",
        "\n",
        "\n",
        "  def addNode(self, data):\n",
        "    newNode = Node(data)\n",
        "    if self.root == None:\n",
        "      self.root = newNode\n",
        "      self.root.data = data\n",
        "    else:\n",
        "      current = self.root\n",
        "      while current != None:\n",
        "        if newNode.data < current.data:\n",
        "          flag = current\n",
        "          current = current.left\n",
        "        else:\n",
        "          flag = current\n",
        "          current = current.right\n",
        "      if flag.data < newNode.data:\n",
        "        flag.right = newNode\n",
        "      elif flag.data > newNode.data:\n",
        "        flag.left = newNode\n",
        "      else:\n",
        "        pass\n",
        "\n",
        "  def searchNode(self, data):\n",
        "    if self.root == None:\n",
        "      return \"Empty tree\"\n",
        "    if self.root.data == data:\n",
        "      print(True)\n",
        "    else:\n",
        "      if self.root.right !=None and self.root.data < data:\n",
        "        self.root = self.root.right\n",
        "        self.searchNode(self.root.data)\n",
        "      if data <= self.root.data and self.root.left !=None:\n",
        "        self.root = self.root.left\n",
        "        self.searchNode(self.root.data)\n",
        "      else:\n",
        "        print(\"Item not found\")\n",
        "\n",
        "    ## an other search item:\n",
        "    ## the function below get node of the tree given an item value\n",
        "    ## it returns a node object if for the item value the node exists in the tree\n",
        "    ## \"Node not found\" in other case. It is like the searchNode function with the\n",
        "    ## difference that this return a boolean.\n",
        "  ## This function return an object node, given a data.\n",
        "  ## When the given data does not exist in the tree, it returns false.\n",
        "  def getNode(self, item) -> Node:\n",
        "\n",
        "      if self.root == None:\n",
        "        return \"Empty tree\"\n",
        "      else:\n",
        "        current = self.root\n",
        "        flag = None\n",
        "        if current.data == item:\n",
        "          return current\n",
        "        else:\n",
        "          current = self.root\n",
        "          flag = None\n",
        "          while current != None and current.data != item:\n",
        "            if current.data < item:\n",
        "              flag = current.right\n",
        "              current = current.right\n",
        "            else:\n",
        "              flag = current.left\n",
        "              current = current.left\n",
        "          if current == None:\n",
        "            return False\n",
        "          else:\n",
        "            #print(current.data)\n",
        "            return flag #, current.data\n",
        "\n",
        "\n",
        "\n",
        "  def deleteNode(self, data):\n",
        "    ## First, we place ourself at the root, current\n",
        "    ## and create a temporial variable, temp\n",
        "    current = self.root\n",
        "    temp = self.root\n",
        "\n",
        "    ## Move on the tree until we find the node whose value is data or until\n",
        "    ## we do not find it, in this current = None.\n",
        "    ## While traversing the tree, we use temp to keep track on the previous\n",
        "    ## node visited, at the same moment current is  on the next.\n",
        "    while current !=None and current.data !=data:\n",
        "      if current.data <data:\n",
        "        temp = current\n",
        "        current = current.right\n",
        "      else:\n",
        "        temp = current\n",
        "        current = current.left\n",
        "    ## Out ot the loop, current is either None or not. We test if it is None.\n",
        "    ## Meaning that we have traversed all the tree and the provided data was not\n",
        "    ## found.\n",
        "    if current == None:\n",
        "      print(f\"{data} not found\")\n",
        "\n",
        "    ## In case current is not None, we have found the node corresponding to the\n",
        "    ## given data, and it is kept in the variable temp. In this same case, current\n",
        "    ## points to the next node of temp.\n",
        "    ## we check if the the value of temp is greater than that of current and also\n",
        "    ## if temp is a leave. In this case, temp contains the left most smallest data\n",
        "    elif temp.data > current.data and temp.left.left ==None and temp.left.right == None:\n",
        "      temp.left = None\n",
        "    ## we check if the negation of the previous case.\n",
        "    elif temp.data <current.data and temp.right.left == None and temp.right.right == None:\n",
        "     temp.right == None\n",
        "    else:\n",
        "    ## Once we have found the leftmost smallest data\n",
        "    ## we use a temporal variable flag, that points at our current\n",
        "    ## That we use to change the structure of the tree.\n",
        "      flag = current.right\n",
        "      while flag.left != None:\n",
        "        flag_previous = flag\n",
        "        flag = flag.left\n",
        "      flag.left = current.left\n",
        "      flag.right = current.right\n",
        "      if temp.data < current.data:\n",
        "        temp.right = flag\n",
        "        flag_previous.left = None\n",
        "      else:\n",
        "        temp.left = flag\n",
        "        flag_previous.left = None\n",
        "\n",
        "\n",
        "  def printInorder(self, root):\n",
        "    if root == None:\n",
        "      return\n",
        "    else:\n",
        "      self.printInorder(root.left)\n",
        "      print(root.data, end =\"-->\")\n",
        "      self.printInorder(root.right)\n",
        "      return\n",
        "\n",
        "  def printPreOrder(self, root):\n",
        "    if root == None:\n",
        "      return\n",
        "    else:\n",
        "      self.printPreOrder(root.left)\n",
        "      self.printPreOrder(root.right)\n",
        "      print(root.data, end = \"-->\")\n",
        "\n",
        "\n",
        "\n",
        "  def printPostOrder(self, root):\n",
        "    if root == None:\n",
        "      return\n",
        "    else:\n",
        "\n",
        "      self.printPreOrder(root.left)\n",
        "      self.printPreOrder(root.right)\n",
        "      print(root.data, end = \"-->\")\n",
        "    # print(printPostOrder(self.root.left))\n",
        "    # print(printPostOrder(self.root.right))\n",
        "    # print(printPostOrder(self.root))\n",
        "\n",
        "  ## Other functions:\n",
        "  def minimum(self, data=None):\n",
        "    current = self.root\n",
        "    if current == None:\n",
        "      print(\"Empty tree\")\n",
        "    else:\n",
        "      while current.left != None:\n",
        "        current = current.left\n",
        "      print(current.data, end =\"\\n\")\n",
        "  def maximum(self):\n",
        "    current = self.root\n",
        "    if current == None:\n",
        "      print(\"Empty tree\")\n",
        "    else:\n",
        "      while current.right != None:\n",
        "        current = current.right\n",
        "      print(current.data, end =\"\\n\")\n",
        "\n",
        "  ## For a given node, the function finds the smallest number bigger than the\n",
        "  ## the given node. It returns 0 if that number is a leave.\n",
        "  def successor(self, data):\n",
        "    head = self.getNode(data)\n",
        "    if self.root == None:\n",
        "      print(\"Empty tree\")\n",
        "      return\n",
        "    elif head == False:\n",
        "        print(\"Node not found\")\n",
        "        return\n",
        "    elif head.right == None:\n",
        "          print(\"No have successor\")\n",
        "          return\n",
        "    else:\n",
        "      current = head.right\n",
        "          #return self.minimum(head.right)\n",
        "      if current.left == None:\n",
        "           print(current.data)\n",
        "           return\n",
        "      while current.left!=None:\n",
        "        current = current.left\n",
        "      print(current.data)\n",
        "      return\n",
        "\n",
        "  ## For a given node, the function finds the biggest number less than the\n",
        "  ## the given node.\n",
        "\n",
        "  def predecessor(self, data):\n",
        "    head = self.getNode(data)\n",
        "    if self.root == None:\n",
        "      print(\"Empty tree\")\n",
        "      return\n",
        "    elif head == False:\n",
        "        print(\"Node not found\")\n",
        "        return\n",
        "    elif head.right == None:\n",
        "          print(\"No have successor\")\n",
        "          return\n",
        "    else:\n",
        "      current = head.left\n",
        "          #return self.minimum(head.right)\n",
        "      if current.right == None:\n",
        "           print(current.data)\n",
        "           return\n",
        "      while current.right!=None:\n",
        "        current = current.right\n",
        "      print(current.data)\n",
        "      return\n",
        "\n",
        "\n",
        "  # def get_left_sbtree(self, node):\n",
        "  #   root = self.searchNode2(node)\n",
        "  #   if self.root == None:\n",
        "  #     return\n",
        "  #   elif root == False:\n",
        "  #     return \"Node not found\"\n",
        "  #   else:\n",
        "  #     if root.left != None and root.right !=None:\n",
        "  #       self.get_left_sbtree(root.left.data)\n",
        "  #       self.left_sub_tree.append(root.data)\n",
        "  #       self.get_left_sbtree(root.right.data)\n",
        "  #     return self.left_sub_tree\n",
        "\n",
        "    # if root.left == None:# and root.right == None:\n",
        "    #   self.left_sub_tree.append(root.data)\n",
        "    #   return self.left_sub_tree\n",
        "    # elif root.left.right != None or root.left.left!= None:\n",
        "    #   self.left_sub_tree.append(root.left.data)\n",
        "    #   self.left_sub_tree.append(root.left.left.data)\n",
        "    #   self.left_sub_tree.append(root.right.left.right.data)\n",
        "    #   self.get_left_sbtree(root.left.data)\n",
        "    #   return self.left_sub_tree\n",
        "\n",
        "\n",
        "  def subtree(self, root, right =None):\n",
        "    if self.root == False:\n",
        "      return False\n",
        "    else:\n",
        "      #root = self.getNode(node)\n",
        "      self.printInorder(root.left)\n",
        "      self.printInorder(root.right)\n",
        "      # self.ls.append(root.data)\n",
        "      # return self.ls\n",
        "\n",
        "  def printOrd(self, root):\n",
        "    if root == None:\n",
        "      return\n",
        "    else:\n",
        "      self.printOrd(root.left)\n",
        "      self.printOrd(root.right)\n",
        "      self.left_sub_tree.append(root.data)\n",
        "\n"
      ]
    },
    {
      "cell_type": "code",
      "execution_count": null,
      "metadata": {
        "colab": {
          "base_uri": "https://localhost:8080/"
        },
        "id": "aZWiZKj16uog",
        "outputId": "84b64ec8-8e25-44de-9a83-178a35f76316"
      },
      "outputs": [
        {
          "name": "stdout",
          "output_type": "stream",
          "text": [
            "inOrder:\n",
            "1-->3-->4-->6-->7-->8-->10-->13-->14--> \n",
            "Print PreOrder:\n",
            "1-->4-->7-->6-->3-->10-->13-->14-->8--> \n",
            "PostOrder:\n",
            "1-->4-->7-->6-->3-->10-->13-->14-->8--> \n",
            "Delete node:\n",
            "InOrder: \n",
            "1-->4-->7-->6-->3-->13-->14-->8--> \n",
            "Search 8:\n",
            "True\n",
            "Minimum:\n",
            "1\n",
            "Maximum:\n",
            "14\n",
            "Get a node object: \n"
          ]
        },
        {
          "data": {
            "text/plain": [
              "False"
            ]
          },
          "execution_count": 51,
          "metadata": {},
          "output_type": "execute_result"
        }
      ],
      "source": [
        "bnTree = BinaryTree()\n",
        "bnTree.addNode(8)\n",
        "bnTree.addNode(3)\n",
        "bnTree.addNode(6)\n",
        "bnTree.addNode(4)\n",
        "bnTree.addNode(7)\n",
        "bnTree.addNode(14)\n",
        "bnTree.addNode(13)\n",
        "bnTree.addNode(1)\n",
        "bnTree.addNode(10)\n",
        "\n",
        "print(\"inOrder:\" )\n",
        "bnTree.printInorder(bnTree.root)\n",
        "print(\" \", end =\"\\n\")\n",
        "\n",
        "print(\"Print PreOrder:\", end =\"\\n\")\n",
        "bnTree.printPreOrder(bnTree.root)\n",
        "\n",
        "print(\" \", end =\"\\n\")\n",
        "\n",
        "print(\"PostOrder:\", end =\"\\n\")\n",
        "bnTree.printPostOrder(bnTree.root)\n",
        "print(\" \", end =\"\\n\")\n",
        "\n",
        "print(f\"Delete node:\")\n",
        "bnTree.deleteNode(10)\n",
        "\n",
        "print(\"InOrder: \")\n",
        "bnTree.printPreOrder(bnTree.root)\n",
        "\n",
        "print(\" \", end =\"\\n\")\n",
        "node = 8\n",
        "print(f\"Search {node}:\", end =\"\\n\")\n",
        "bnTree.searchNode(8)\n",
        "\n",
        "\n",
        "print(\"Minimum:\")\n",
        "bnTree.minimum()\n",
        "\n",
        "print(\"Maximum:\")\n",
        "bnTree.maximum()\n",
        "\n",
        "node =2\n",
        "print(\"Get a node object: \")\n",
        "bnTree.getNode(node)"
      ]
    },
    {
      "cell_type": "code",
      "execution_count": null,
      "metadata": {
        "colab": {
          "background_save": true
        },
        "id": "Eesv63F2BNSB",
        "outputId": "39c00c45-d89b-4969-fbee-43bdbe3b81d1"
      },
      "outputs": [
        {
          "name": "stdout",
          "output_type": "stream",
          "text": [
            "1-->3-->4-->6-->7-->13-->14-->"
          ]
        }
      ],
      "source": [
        "node = bnTree.root\n",
        "\n",
        "bnTree.subtree(node)"
      ]
    },
    {
      "cell_type": "code",
      "execution_count": null,
      "metadata": {
        "id": "c6ysOQRzCbVO"
      },
      "outputs": [],
      "source": []
    },
    {
      "cell_type": "code",
      "execution_count": null,
      "metadata": {
        "id": "DVbgAiLfCZTq"
      },
      "outputs": [],
      "source": []
    },
    {
      "cell_type": "code",
      "execution_count": null,
      "metadata": {
        "colab": {
          "base_uri": "https://localhost:8080/"
        },
        "id": "lI7YtVfmq1nh",
        "outputId": "04637182-9b28-465e-808f-7e9523406429"
      },
      "outputs": [
        {
          "name": "stdout",
          "output_type": "stream",
          "text": [
            "inOrder:\n",
            "1-->3-->4-->6-->7-->8-->10-->13-->14--> \n",
            "Successor:\n",
            "10\n",
            "Predecessor:\n",
            "7\n"
          ]
        }
      ],
      "source": [
        "bnTree = BinaryTree()\n",
        "bnTree.addNode(8)\n",
        "bnTree.addNode(3)\n",
        "bnTree.addNode(6)\n",
        "bnTree.addNode(4)\n",
        "bnTree.addNode(7)\n",
        "bnTree.addNode(14)\n",
        "bnTree.addNode(13)\n",
        "bnTree.addNode(1)\n",
        "bnTree.addNode(10)\n",
        "\n",
        "print(\"inOrder:\" )\n",
        "bnTree.printInorder(bnTree.root)\n",
        "print(\" \", end =\"\\n\")\n",
        "\n",
        "node = 8\n",
        "print(\"Successor:\")\n",
        "bnTree.successor(node)\n",
        "\n",
        "print(\"Predecessor:\")\n",
        "bnTree.predecessor(node)"
      ]
    }
  ],
  "metadata": {
    "colab": {
      "provenance": []
    },
    "kernelspec": {
      "display_name": "Python 3",
      "name": "python3"
    },
    "language_info": {
      "name": "python"
    }
  },
  "nbformat": 4,
  "nbformat_minor": 0
}