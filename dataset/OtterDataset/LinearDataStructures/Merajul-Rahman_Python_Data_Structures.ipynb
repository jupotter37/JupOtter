{
  "nbformat": 4,
  "nbformat_minor": 0,
  "metadata": {
    "colab": {
      "provenance": [],
      "collapsed_sections": [
        "L__2fUZzJMhf"
      ],
      "authorship_tag": "ABX9TyN89nAFKcH5sVNcAyxCkR65",
      "include_colab_link": true
    },
    "kernelspec": {
      "name": "python3",
      "display_name": "Python 3"
    },
    "language_info": {
      "name": "python"
    }
  },
  "cells": [
    {
      "cell_type": "markdown",
      "metadata": {
        "id": "view-in-github",
        "colab_type": "text"
      },
      "source": [
        "<a href=\"https://colab.research.google.com/github/Merajul-Rahman/Python/blob/main/Data_Structures.ipynb\" target=\"_parent\"><img src=\"https://colab.research.google.com/assets/colab-badge.svg\" alt=\"Open In Colab\"/></a>"
      ]
    },
    {
      "cell_type": "markdown",
      "source": [
        "Data structure is the way to store the data in an organized way such that data can be accessed and used efficiently.\n",
        "Common data structures are:\n",
        "1. Linear Data Structure.\n",
        "2. Non Linear Data Structure.\n",
        "3. Hash Based Structure."
      ],
      "metadata": {
        "id": "SVBw2DgMCpBr"
      }
    },
    {
      "cell_type": "markdown",
      "source": [
        "# Linear Data Structures"
      ],
      "metadata": {
        "id": "d_b65a8xDxaS"
      }
    },
    {
      "cell_type": "markdown",
      "source": [
        "Array: A collection of elements identified by an index.\n",
        "\n",
        "Access: O(1)\n",
        "Insertion/Deletion: O(n):"
      ],
      "metadata": {
        "id": "mQ2BDshcD41l"
      }
    },
    {
      "cell_type": "code",
      "source": [
        "# Array Example\n",
        "array = [10, 20, 30, 40]\n",
        "print(\"Original Array:\", array)\n",
        "\n",
        "# Access\n",
        "print(\"Element at index 1:\", array[1])\n",
        "\n",
        "# Modify\n",
        "array[1] = 25\n",
        "print(\"Modified Array:\", array)\n",
        "\n",
        "# Search\n",
        "if 30 in array:\n",
        "    print(\"30 is in the array.\")\n",
        "\n",
        "# Add and Remove\n",
        "array.append(50)  # Add element\n",
        "print(\"After Appending:\", array)\n",
        "array.remove(25)  # Remove element\n",
        "print(\"After Removing 25:\", array)\n"
      ],
      "metadata": {
        "colab": {
          "base_uri": "https://localhost:8080/"
        },
        "id": "PQjxK_g5DuON",
        "outputId": "d6b6cf19-9ec1-4cdf-d98c-ac08e3644187"
      },
      "execution_count": null,
      "outputs": [
        {
          "output_type": "stream",
          "name": "stdout",
          "text": [
            "Original Array: [10, 20, 30, 40]\n",
            "Element at index 1: 20\n",
            "Modified Array: [10, 25, 30, 40]\n",
            "30 is in the array.\n",
            "After Appending: [10, 25, 30, 40, 50]\n",
            "After Removing 25: [10, 30, 40, 50]\n"
          ]
        }
      ]
    },
    {
      "cell_type": "markdown",
      "source": [
        "Linked List: A collection of nodes where each node contains data and a reference (or pointer) to the next node\n",
        "\n",
        "Access: O(n)\n",
        "Insertion/Deletion: O(1)"
      ],
      "metadata": {
        "id": "H5sdCy7GE6S2"
      }
    },
    {
      "cell_type": "code",
      "source": [
        "class node:\n",
        "  def __init__(self, data):\n",
        "    self.data = data\n",
        "    self.next = None\n",
        "class linkedlist:\n",
        "  def __init__(self):\n",
        "    self.head = None\n",
        "\n",
        "  def insert(self, data):\n",
        "    new_node = node(data)\n",
        "    if self.head == None:\n",
        "      self.head = new_node\n",
        "    else:\n",
        "      current = self.head\n",
        "      while current.next:\n",
        "        current = current.next\n",
        "      current.next = new_node\n",
        "  def delete(self, data):\n",
        "    if self.head is None:\n",
        "      print(\"List is empty. Cannot delete.\")\n",
        "      return\n",
        "    if self.head.data == data:\n",
        "      self.head = self.head.next\n",
        "      print(f\"Deleted {data}\")\n",
        "      return\n",
        "    current = self.head\n",
        "    while current.next and current.next.data != data:\n",
        "            current = current.next\n",
        "    if current.next is None:  # If the value was not found\n",
        "      print(f\"Value {data} not found in the list.\")\n",
        "    else:\n",
        "      current.next = current.next.next  # Skip the node to delete\n",
        "      print(f\"Deleted {data}\")\n",
        "  # Insert a node at a specific position (1-based index)\n",
        "  def insert_at_position(self, data, position):\n",
        "        new_node = node(data)  # Create a new node\n",
        "\n",
        "        if position < 1:  # Validate position\n",
        "            print(\"Position should be greater than or equal to 1.\")\n",
        "            return\n",
        "\n",
        "        if position == 1:  # Insert at the head\n",
        "            new_node.next = self.head\n",
        "            self.head = new_node\n",
        "            return\n",
        "\n",
        "        # Traverse to the node before the specified position\n",
        "        current = self.head\n",
        "        count = 1\n",
        "\n",
        "        while current and count < position - 1:\n",
        "            current = current.next\n",
        "            count += 1\n",
        "\n",
        "        if not current:  # If position is out of bounds\n",
        "            print(f\"Position {position} is out of bounds.\")\n",
        "        else:\n",
        "            # Insert the new node at the specified position\n",
        "            new_node.next = current.next\n",
        "            current.next = new_node\n",
        "\n",
        "\n",
        "    # Display the linked list\n",
        "  def display(self):\n",
        "      if self.head is None:\n",
        "        print(\"List is empty.\")\n",
        "        return\n",
        "      current = self.head\n",
        "      print(\"Linked List:\", end=\" \")\n",
        "      while current:\n",
        "        print(current.data, end=\" -> \")\n",
        "        current = current.next\n",
        "      print(\"None\")\n",
        "\n",
        "\n",
        "ll = linkedlist()\n",
        "\n",
        "ll.display()  # Output: List is empty.\n",
        "\n",
        "ll.insert(10)\n",
        "ll.insert(20)\n",
        "ll.insert(30)\n",
        "ll.display()  # Output: Linked List: 10 -> 20 -> 30 -> None\n",
        "\n",
        "ll.delete(20)\n",
        "ll.display()  # Output: Linked List: 10 -> 30 -> None\n",
        "\n",
        "ll.insert_at_position(15, 2)\n",
        "ll.display()  # Output: Linked List: 10 -> 15 -> 30 -> None\n",
        "\n",
        "ll.insert_at_position(5, 1)\n",
        "ll.display()  # Output: Linked List: 5 -> 10 -> 15 -> 30 -> None\n",
        "\n",
        "\n",
        "ll.delete(40)  # Output: Value 40 not found in the list.\n",
        "ll.display()  # Output: Linked List: 10 -> 30 -> None"
      ],
      "metadata": {
        "id": "wvqhY_UOE3OK",
        "colab": {
          "base_uri": "https://localhost:8080/"
        },
        "outputId": "e6670ac4-8dc2-418c-d989-8b0966facd6a"
      },
      "execution_count": null,
      "outputs": [
        {
          "output_type": "stream",
          "name": "stdout",
          "text": [
            "List is empty.\n",
            "Linked List: 10 -> 20 -> 30 -> None\n",
            "Deleted 20\n",
            "Linked List: 10 -> 30 -> None\n",
            "Linked List: 10 -> 15 -> 30 -> None\n",
            "Linked List: 5 -> 10 -> 15 -> 30 -> None\n",
            "Value 40 not found in the list.\n",
            "Linked List: 5 -> 10 -> 15 -> 30 -> None\n"
          ]
        }
      ]
    },
    {
      "cell_type": "markdown",
      "source": [
        "Stack: A collection that follows LIFO (Last In, Firs Out).\n",
        "\n",
        "Push/Pop: O(1)\n",
        "Search: O(n)\n"
      ],
      "metadata": {
        "id": "TALELdhEiEgR"
      }
    },
    {
      "cell_type": "code",
      "source": [
        "class stack:\n",
        "  def __init__(self):\n",
        "    self.stack = []\n",
        "  def push(self, data):\n",
        "    self.stack.append(data)\n",
        "  def pop(self):\n",
        "    if not self.is_empty():\n",
        "      return self.stack.pop()\n",
        "    else:\n",
        "      print(\"Stack is empty\")\n",
        "  def is_empty(self):\n",
        "    return len(self.stack) == 0\n",
        "  def peek(self):\n",
        "    if not self.is_empty():\n",
        "      return self.stack[-1]\n",
        "    else:\n",
        "      print(\"Stack is empty\")\n",
        "\n",
        "s = stack()\n",
        "s.push(10)\n",
        "s.push(20)\n",
        "s.push(30)\n",
        "print(s.pop())  # Output: 30\n",
        "print(s.peek())  # Output: 20"
      ],
      "metadata": {
        "colab": {
          "base_uri": "https://localhost:8080/"
        },
        "id": "aBJXCZTAgDAw",
        "outputId": "93cfdba3-80c8-4607-94b1-bd392ba72ea7"
      },
      "execution_count": null,
      "outputs": [
        {
          "output_type": "stream",
          "name": "stdout",
          "text": [
            "30\n",
            "20\n"
          ]
        }
      ]
    },
    {
      "cell_type": "markdown",
      "source": [
        "Queue: A collection that follows first in first out.\n",
        "\n",
        "Push/Pop: O(1) Search: O(n)"
      ],
      "metadata": {
        "id": "Y09NNSgh_tDH"
      }
    },
    {
      "cell_type": "code",
      "source": [
        "class queue:\n",
        "  def __init__(self):\n",
        "    self.queue = []\n",
        "\n",
        "  def enqueue(self, data):\n",
        "    self.queue.append(data)\n",
        "\n",
        "  def dequeue(self):\n",
        "    if not self.is_empty():\n",
        "      return self.queue.pop(0)\n",
        "    else:\n",
        "      print(\"Queue is empty\")\n",
        "\n",
        "  def is_empty(self):\n",
        "    return len(self.queue) == 0\n",
        "\n",
        "  def peek(self):\n",
        "    if not self.is_empty():\n",
        "      return self.queue[0]\n",
        "    else:\n",
        "      print(\"Queue is empty\")\n",
        "\n",
        "q = queue()\n",
        "q.enqueue(10)\n",
        "q.enqueue(20)\n",
        "q.enqueue(30)\n",
        "\n",
        "print(q.dequeue())  # Output: 10\n",
        "print(q.peek())  # Output: 20\n",
        "\n"
      ],
      "metadata": {
        "colab": {
          "base_uri": "https://localhost:8080/"
        },
        "id": "-enFF-6A_OBD",
        "outputId": "74d14014-b308-44cb-f445-46f4abb8f91f"
      },
      "execution_count": null,
      "outputs": [
        {
          "output_type": "stream",
          "name": "stdout",
          "text": [
            "20\n",
            "10\n"
          ]
        }
      ]
    },
    {
      "cell_type": "markdown",
      "source": [
        "# Non Linear Data Structure\n",
        "Elements are not arranged sequentially and can have hierarchical or interconnected relationships."
      ],
      "metadata": {
        "id": "L__2fUZzJMhf"
      }
    },
    {
      "cell_type": "markdown",
      "source": [
        "Tree: A hierarchical structure where each node has a parent and possibly multiple children.\n",
        "\n",
        "All: O(n)"
      ],
      "metadata": {
        "id": "0eRWsljsJSHk"
      }
    },
    {
      "cell_type": "code",
      "source": [
        "# Node class for Tree\n",
        "class TreeNode:\n",
        "    def __init__(self, data):\n",
        "        self.data = data\n",
        "        self.left = None\n",
        "        self.right = None\n",
        "\n",
        "# Inorder Traversal (Left, Root, Right)\n",
        "def inorder_traversal(root):\n",
        "    if root:\n",
        "        inorder_traversal(root.left)\n",
        "        print(root.data, end=\" \")\n",
        "        inorder_traversal(root.right)\n",
        "\n",
        "# Building a Tree\n",
        "root = TreeNode(10)\n",
        "root.left = TreeNode(20)\n",
        "root.right = TreeNode(30)\n",
        "root.left.left = TreeNode(40)\n",
        "\n",
        "# Traversing the Tree\n",
        "print(\"Inorder Traversal:\", end=\" \")\n",
        "inorder_traversal(root)  # Output: 40 20 10 30\n"
      ],
      "metadata": {
        "colab": {
          "base_uri": "https://localhost:8080/"
        },
        "id": "U5XlxaW0BQWY",
        "outputId": "c7a85d97-e43f-4f1b-aafa-7a86d7b2a9b6"
      },
      "execution_count": null,
      "outputs": [
        {
          "output_type": "stream",
          "name": "stdout",
          "text": [
            "Inorder Traversal: 40 20 10 30 "
          ]
        }
      ]
    },
    {
      "cell_type": "markdown",
      "source": [
        "Graph: A set of nodes (vertices) connected by edges.\n",
        "\n",
        "Add Vertex/Edge, Remove Edge: O(1)\n",
        "\n",
        "Remove Vertex: O(n^2)\n",
        "Search: O(V^2)\n"
      ],
      "metadata": {
        "id": "mk4WfDmdJfq3"
      }
    },
    {
      "cell_type": "code",
      "source": [
        "# Graph Example (Adjacency List)\n",
        "graph = {\n",
        "    \"A\": [\"B\", \"C\"],\n",
        "    \"B\": [\"A\", \"D\"],\n",
        "    \"C\": [\"A\", \"D\"],\n",
        "    \"D\": [\"B\", \"C\"]\n",
        "}\n",
        "\n",
        "# Traverse the Graph\n",
        "def bfs(graph, start):\n",
        "    visited = set()\n",
        "    queue = [start]\n",
        "    while queue:\n",
        "        node = queue.pop(0)\n",
        "        if node not in visited:\n",
        "            print(node, end=\" \")\n",
        "            visited.add(node)\n",
        "            queue.extend(graph[node])\n",
        "            print(queue)\n",
        "\n",
        "print(\"BFS Traversal:\", end=\" \")\n",
        "bfs(graph, \"A\")  # Output: A B C D\n"
      ],
      "metadata": {
        "colab": {
          "base_uri": "https://localhost:8080/"
        },
        "id": "iPnHfsEvCaID",
        "outputId": "31c36b2d-c1fd-4d55-a0cf-2f703f6e8501"
      },
      "execution_count": null,
      "outputs": [
        {
          "output_type": "stream",
          "name": "stdout",
          "text": [
            "BFS Traversal: A ['B', 'C']\n",
            "B ['C', 'A', 'D']\n",
            "C ['A', 'D', 'A', 'D']\n",
            "D ['A', 'D', 'B', 'C']\n"
          ]
        }
      ]
    },
    {
      "cell_type": "markdown",
      "source": [
        "#Hash-Based Structures\n",
        "Use a hash function to map data to a specific location for fast access.\n",
        "\n",
        "All: O(1)"
      ],
      "metadata": {
        "id": "er76qjLzJg0Y"
      }
    },
    {
      "cell_type": "code",
      "source": [
        "# Hash Table Example\n",
        "hash_table = {}\n",
        "hash_table[\"ID1\"] = 100\n",
        "hash_table[\"ID2\"] = 200\n",
        "print(\"Hash Table:\", hash_table)\n",
        "\n",
        "# Access\n",
        "print(\"Value for ID1:\", hash_table[\"ID1\"])\n",
        "\n",
        "# Modify\n",
        "hash_table[\"ID1\"] = 150\n",
        "print(\"Modified Hash Table:\", hash_table)\n",
        "\n",
        "# Delete\n",
        "del hash_table[\"ID2\"]\n",
        "print(\"After Deletion:\", hash_table)\n"
      ],
      "metadata": {
        "colab": {
          "base_uri": "https://localhost:8080/"
        },
        "id": "VCkp4pKaDlHa",
        "outputId": "60676da6-4b24-4232-8144-01bc2e40fce5"
      },
      "execution_count": null,
      "outputs": [
        {
          "output_type": "stream",
          "name": "stdout",
          "text": [
            "Hash Table: {'ID1': 100, 'ID2': 200}\n",
            "Value for ID1: 100\n",
            "Modified Hash Table: {'ID1': 150, 'ID2': 200}\n",
            "After Deletion: {'ID1': 150}\n"
          ]
        }
      ]
    },
    {
      "cell_type": "markdown",
      "source": [
        "# Python DS\n",
        "List Touples Sets Dictonary"
      ],
      "metadata": {
        "id": "5rGBlErELO8u"
      }
    },
    {
      "cell_type": "code",
      "source": [
        "l = [1, 2, 3,3, 4, 5]  #dynamic sized array\n",
        "touples = (1, 2, 3,3, 4, 5)  #fixed sized array/ immutable=can not be changed\n",
        "sets = {1, 2, 3,3, 4, 5}  #mutable but can not change values, only can add\n",
        "dictonary = {\"a\": 1, \"b\": 2, \"c\": 3}\n",
        "\n",
        "print(l)\n",
        "print(touples)\n",
        "print(sets)\n",
        "print(dictonary)\n",
        "\n"
      ],
      "metadata": {
        "colab": {
          "base_uri": "https://localhost:8080/"
        },
        "id": "4SqmpeqMLN0S",
        "outputId": "b705ca15-9946-4c3d-8a7b-1d68029cc9c5"
      },
      "execution_count": null,
      "outputs": [
        {
          "output_type": "stream",
          "name": "stdout",
          "text": [
            "[1, 2, 3, 3, 4, 5]\n",
            "(1, 2, 3, 3, 4, 5)\n",
            "{1, 2, 3, 4, 5}\n",
            "{'a': 1, 'b': 2, 'c': 3}\n"
          ]
        }
      ]
    },
    {
      "cell_type": "code",
      "source": [
        "# A list is an ordered, mutable collection of items. it alows duplicates.\n",
        "# Creating a list\n",
        "fruits = ['apple', 'banana', 'cherry']\n",
        "\n",
        "# Accessing elements by index\n",
        "print(fruits[0])  # Output: apple\n",
        "\n",
        "print(fruits)\n",
        "# Adding elements\n",
        "fruits.append('orange')\n",
        "print(fruits)\n",
        "\n",
        "# Removing elements\n",
        "fruits.remove('banana')\n",
        "print(fruits)\n",
        "\n",
        "# Slicing the list\n",
        "print(fruits[1:3])  # Output: ['cherry', 'orange']\n",
        "\n",
        "\n",
        "# List comprehension\n",
        "squares = [x**2 for x in range(5)]  # Output: [0, 1, 4, 9, 16]\n",
        "\n",
        "print(squares)\n",
        "\n"
      ],
      "metadata": {
        "id": "xCY04vWlPEX8",
        "colab": {
          "base_uri": "https://localhost:8080/"
        },
        "outputId": "4d49879c-30b4-4af8-c472-3076d95a8a88"
      },
      "execution_count": null,
      "outputs": [
        {
          "output_type": "stream",
          "name": "stdout",
          "text": [
            "apple\n",
            "['apple', 'banana', 'cherry']\n",
            "['apple', 'banana', 'cherry', 'orange']\n",
            "['apple', 'cherry', 'orange']\n",
            "['cherry', 'orange']\n",
            "[0, 1, 4, 9, 16]\n"
          ]
        }
      ]
    },
    {
      "cell_type": "code",
      "source": [
        "# A Tuple is a collection of Python objects separated by commas.\n",
        "# In some ways, a tuple is similar to a list in terms of indexing, nested objects, and repetition but a tuple is immutable, unlike lists that are mutable.\n",
        "# Creating a tuple\n",
        "coordinates = (10, 20)\n",
        "\n",
        "# Accessing elements by index\n",
        "print(coordinates[1])  # Output: 20\n",
        "\n",
        "# Concatenating tuples\n",
        "new_coordinates = coordinates + (30, 40)\n",
        "print(new_coordinates)\n",
        "\n",
        "coordinates = coordinates + (30, 40, 5,0,'m',\"dygvdh\") #we can reasign or concatenate\n",
        "print(coordinates)\n",
        "\n",
        "\n",
        "\n",
        "# coordinates.add(20) we can not use add or remove on tuple\n",
        "# coordinates.remove(20)\n",
        "\n",
        "# coordinates[0] = 45 'tuple' object does not support item assignment\n",
        "for i in coordinates:\n",
        "  print(i)\n",
        "\n",
        "\n",
        "\n",
        "\n",
        "# Tuple unpacking\n",
        "x, y, a, b = new_coordinates\n",
        "print(x, y,a, b)  # Output: 10 20\n"
      ],
      "metadata": {
        "colab": {
          "base_uri": "https://localhost:8080/"
        },
        "id": "0NPz1B1TY0lF",
        "outputId": "33ac5e82-07dc-4bca-b07d-d52d18c4c136"
      },
      "execution_count": null,
      "outputs": [
        {
          "output_type": "stream",
          "name": "stdout",
          "text": [
            "20\n",
            "(10, 20, 30, 40)\n",
            "(10, 20, 30, 40, 5, 0, 'm', 'dygvdh')\n",
            "10\n",
            "20\n",
            "30\n",
            "40\n",
            "5\n",
            "0\n",
            "m\n",
            "dygvdh\n",
            "10 20 30 40\n"
          ]
        }
      ]
    },
    {
      "cell_type": "code",
      "source": [
        "# A Set is an unordered collection data type that is iterable, mutable, and has no duplicate elements.\n",
        "# Python’s set class represents the mathematical notion of a set.\n",
        "\n",
        "# Creating a set\n",
        "unique_numbers = {1, 2, 3, 4}\n",
        "print(unique_numbers)\n",
        "\n",
        "# Adding elements\n",
        "unique_numbers.add(5)\n",
        "print(unique_numbers)\n",
        "\n",
        "# Removing elements\n",
        "unique_numbers.remove(2)\n",
        "print(unique_numbers)\n",
        "\n",
        "# Set operations\n",
        "set_a = {1, 2, 3}\n",
        "set_b = {3, 4, 5}\n",
        "\n",
        "set_a.update(set_b)  # Output: {1, 2, 3, 4, 5}\n",
        "print(set_a)\n",
        "# Union\n",
        "union = set_a | set_b  # Output: {1, 2, 3, 4, 5}\n",
        "print(union)\n",
        "\n",
        "# Intersection\n",
        "intersection = set_a & set_b  # Output: {3}\n",
        "print(intersection)\n",
        "\n",
        "# Difference\n",
        "difference = set_a - set_b  # Output: {1, 2}\n",
        "print(difference)\n"
      ],
      "metadata": {
        "colab": {
          "base_uri": "https://localhost:8080/"
        },
        "id": "22_Jwu5VSwL0",
        "outputId": "eeb24abc-deb5-47c9-c4a4-863f8a6d1edb"
      },
      "execution_count": null,
      "outputs": [
        {
          "output_type": "stream",
          "name": "stdout",
          "text": [
            "{1, 2, 3, 4}\n",
            "{1, 2, 3, 4, 5}\n",
            "{1, 3, 4, 5}\n",
            "{1, 2, 3, 4, 5}\n",
            "{3}\n",
            "{1, 2}\n"
          ]
        }
      ]
    },
    {
      "cell_type": "code",
      "source": [
        "# 1. Creating a Set\n",
        "fruits = {'apple', 'banana', 'cherry'}\n",
        "numbers = set([1, 2, 3, 4, 5])\n",
        "print(\"Fruits:\", fruits)\n",
        "print(\"Numbers:\", numbers)\n",
        "\n",
        "# 2. Adding Elements to a Set\n",
        "fruits.add('orange')\n",
        "print(\"After adding 'orange':\", fruits)\n",
        "\n",
        "# 3. Removing Elements from a Set\n",
        "fruits.remove('banana')  # Will raise an error if 'banana' doesn't exist\n",
        "fruits.discard('pear')   # No error even if 'pear' doesn't exist\n",
        "print(\"After removing 'banana':\", fruits)\n",
        "\n",
        "# 4. Clearing a Set\n",
        "fruits.clear()\n",
        "print(\"After clearing fruits:\", fruits)\n",
        "\n",
        "# 5. Set Length\n",
        "print(\"Length of numbers:\", len(numbers))\n",
        "\n",
        "# 6. Set Membership\n",
        "print(\"Is 3 in numbers?\", 3 in numbers)\n",
        "print(\"Is 10 in numbers?\", 10 in numbers)\n",
        "\n",
        "# 7. Set Union\n",
        "set_a = {1, 2, 3}\n",
        "set_b = {3, 4, 5}\n",
        "union = set_a | set_b\n",
        "print(\"Union of set_a and set_b:\", union)\n",
        "\n",
        "# 8. Set Intersection\n",
        "intersection = set_a & set_b\n",
        "print(\"Intersection of set_a and set_b:\", intersection)\n",
        "\n",
        "# 9. Set Difference\n",
        "difference = set_a - set_b\n",
        "print(\"Difference of set_a and set_b:\", difference)\n",
        "\n",
        "# 10. Set Symmetric Difference\n",
        "symmetric_diff = set_a ^ set_b\n",
        "print(\"Symmetric Difference of set_a and set_b:\", symmetric_diff)\n",
        "\n",
        "# 11. Set Subset\n",
        "print(\"Is set_a a subset of set_b?\", set_a.issubset(set_b))\n",
        "\n",
        "# 12. Set Superset\n",
        "print(\"Is set_b a superset of set_a?\", set_b.issuperset(set_a))\n",
        "\n",
        "# 13. Set Disjoint\n",
        "set_c = {6, 7, 8}\n",
        "print(\"Are set_a and set_c disjoint?\", set_a.isdisjoint(set_c))\n",
        "\n",
        "# 14. Set Copy\n",
        "set_copy = set_a.copy()\n",
        "print(\"Copy of set_a:\", set_copy)\n",
        "\n",
        "# 15. Set Iteration\n",
        "for num in set_a:\n",
        "    print(\"Iterating over set_a:\", num)\n",
        "\n",
        "# 16. Frozenset\n",
        "frozen_set = frozenset({1, 2, 3})\n",
        "print(\"Frozenset:\", frozen_set)\n",
        "# frozen_set.add(4)  # This will raise an error as frozenset is immutable\n",
        "\n",
        "# 17. Additional Operations - Union, Intersection, Difference using methods\n",
        "union_method = set_a.union(set_b)\n",
        "intersection_method = set_a.intersection(set_b)\n",
        "difference_method = set_a.difference(set_b)\n",
        "\n",
        "print(\"Union using method:\", union_method)\n",
        "print(\"Intersection using method:\", intersection_method)\n",
        "print(\"Difference using method:\", difference_method)\n",
        "\n",
        "\n",
        "# The set.update() method is used to add multiple elements to a set. it can take list tuple or a set as input.\n",
        "# Adding elements from a string (each character is treated as an individual element)\n",
        "fruits = {'apple', 'banana'}\n",
        "fruits.update('pear')\n",
        "print(\"After adding a string:\", fruits)  # Note: 'p', 'e', 'a', 'r' are added as separate elements\n",
        "\n",
        "\n",
        "# discard() Removes a specific element from the set but does not raise an error if the element does not exist.\n",
        "s = {1, 2, 3}\n",
        "s.discard(2)\n",
        "print(s)  # Output: {1, 3}\n",
        "s.discard(5)  # No error\n"
      ],
      "metadata": {
        "colab": {
          "base_uri": "https://localhost:8080/"
        },
        "id": "dW1pQ-quKvH5",
        "outputId": "803baedf-aff4-41ff-a8ed-d862bbc2de2d"
      },
      "execution_count": 4,
      "outputs": [
        {
          "output_type": "stream",
          "name": "stdout",
          "text": [
            "Fruits: {'apple', 'cherry', 'banana'}\n",
            "Numbers: {1, 2, 3, 4, 5}\n",
            "After adding 'orange': {'orange', 'apple', 'cherry', 'banana'}\n",
            "After removing 'banana': {'orange', 'apple', 'cherry'}\n",
            "After clearing fruits: set()\n",
            "Length of numbers: 5\n",
            "Is 3 in numbers? True\n",
            "Is 10 in numbers? False\n",
            "Union of set_a and set_b: {1, 2, 3, 4, 5}\n",
            "Intersection of set_a and set_b: {3}\n",
            "Difference of set_a and set_b: {1, 2}\n",
            "Symmetric Difference of set_a and set_b: {1, 2, 4, 5}\n",
            "Is set_a a subset of set_b? False\n",
            "Is set_b a superset of set_a? False\n",
            "Are set_a and set_c disjoint? True\n",
            "Copy of set_a: {1, 2, 3}\n",
            "Iterating over set_a: 1\n",
            "Iterating over set_a: 2\n",
            "Iterating over set_a: 3\n",
            "Frozenset: frozenset({1, 2, 3})\n",
            "Union using method: {1, 2, 3, 4, 5}\n",
            "Intersection using method: {3}\n",
            "Difference using method: {1, 2}\n",
            "After adding a string: {'e', 'a', 'r', 'apple', 'p', 'banana'}\n",
            "{1, 3}\n"
          ]
        }
      ]
    },
    {
      "cell_type": "markdown",
      "source": [
        "Dictionary is an ordered (since Py 3.7) [unordered (Py 3.6 & prior)] collection of data values, used to store data values like a map, which, unlike other Data Types that hold only a single value as an element, Dictionary holds key:value pair. Key-value is provided in the dictionary to make it more optimized."
      ],
      "metadata": {
        "id": "CCPCFDlYRoGV"
      }
    },
    {
      "cell_type": "code",
      "source": [
        "# ---------------------------\n",
        "# 1. Creating a Dictionary\n",
        "# ---------------------------\n",
        "empty_dict = {}\n",
        "person = {\"name\": \"John\", \"age\": 25, \"city\": \"New York\"}\n",
        "print(\"1. Creating Dictionary:\", person)\n",
        "\n",
        "# ---------------------------\n",
        "# 2. Accessing Values\n",
        "# ---------------------------\n",
        "print(\"\\n2. Accessing Values:\")\n",
        "print(\"Name:\", person[\"name\"])\n",
        "print(\"Age using get():\", person.get(\"age\"))\n",
        "print(\"Gender (default):\", person.get(\"gender\", \"N/A\"))\n",
        "\n",
        "# ---------------------------\n",
        "# 3. Adding and Updating Key-Value Pairs\n",
        "# ---------------------------\n",
        "print(\"\\n3. Adding and Updating Key-Value Pairs:\")\n",
        "person[\"country\"] = \"USA\"  # Add new key\n",
        "person[\"age\"] = 26         # Update key\n",
        "print(person)\n",
        "\n",
        "# ---------------------------\n",
        "# 4. Removing Elements\n",
        "# ---------------------------\n",
        "print(\"\\n4. Removing Elements:\")\n",
        "removed_age = person.pop(\"age\")\n",
        "print(\"Removed age:\", removed_age)\n",
        "print(\"After pop():\", person)\n",
        "\n",
        "last_item = person.popitem()\n",
        "print(\"Last item removed:\", last_item)\n",
        "print(\"After popitem():\", person)\n",
        "\n",
        "\n",
        "del person[\"name\"]\n",
        "print(\"After del:\", person)\n",
        "\n",
        "person.clear()\n",
        "print(\"After clear:\", person)\n",
        "\n",
        "# ---------------------------\n",
        "# 5. Checking Keys or Values\n",
        "# ---------------------------\n",
        "person = {\"name\": \"John\", \"age\": 25}\n",
        "print(\"\\n5. Checking Keys or Values:\")\n",
        "print(\"Key 'name' exists:\", \"name\" in person)\n",
        "print(\"Value 'John' exists:\", \"John\" in person.values())\n",
        "\n",
        "# ---------------------------\n",
        "# 6. Iterating Through a Dictionary\n",
        "# ---------------------------\n",
        "print(\"\\n6. Iterating Through a Dictionary:\")\n",
        "for key in person:\n",
        "    print(\"Key:\", key)\n",
        "for value in person.values():\n",
        "    print(\"Value:\", value)\n",
        "for key, value in person.items():\n",
        "    print(f\"{key}: {value}\")\n",
        "\n",
        "# ---------------------------\n",
        "# 7. Copying a Dictionary\n",
        "# ---------------------------\n",
        "copy_person = person.copy()\n",
        "print(\"\\n7. Copying a Dictionary:\", copy_person)\n",
        "\n",
        "# ---------------------------\n",
        "# 8. Merging Dictionaries\n",
        "# ---------------------------\n",
        "dict1 = {\"name\": \"John\", \"age\": 25}\n",
        "dict2 = {\"city\": \"New York\", \"gender\": \"Male\"}\n",
        "dict1.update(dict2)\n",
        "print(\"\\n8. Merging Dictionaries:\", dict1)\n",
        "\n",
        "# ---------------------------\n",
        "# 9. Dictionary Comprehension\n",
        "# ---------------------------\n",
        "squares = {x: x ** 2 for x in range(5)}\n",
        "print(\"\\n9. Dictionary Comprehension:\", squares)\n",
        "\n",
        "# ---------------------------\n",
        "# 10. Nested Dictionaries\n",
        "# ---------------------------\n",
        "students = {\n",
        "    \"student1\": {\"name\": \"John\", \"age\": 25},\n",
        "    \"student2\": {\"name\": \"Alice\", \"age\": 22},\n",
        "}\n",
        "print(\"\\n10. Nested Dictionaries:\", students)\n",
        "\n",
        "# ---------------------------\n",
        "# 11. Built-In Methods\n",
        "# ---------------------------\n",
        "print(\"\\n11. Built-In Methods:\")\n",
        "print(\"Keys:\", person.keys())\n",
        "print(\"Values:\", person.values())\n",
        "print(\"Items:\", person.items())\n",
        "new_dict = dict.fromkeys([\"key1\", \"key2\"], \"default\")\n",
        "print(\"Fromkeys:\", new_dict)\n",
        "default_value = person.setdefault(\"country\", \"Unknown\")\n",
        "print(\"Setdefault (country):\", default_value)\n",
        "print(\"After setdefault:\", person)\n",
        "\n",
        "# ---------------------------\n",
        "# 12. Sorting a Dictionary\n",
        "# ---------------------------\n",
        "scores = {\"Alice\": 90, \"Bob\": 80, \"John\": 95}\n",
        "sorted_by_keys = dict(sorted(scores.items()))\n",
        "sorted_by_values = dict(sorted(scores.items(), key=lambda x: x[1]))\n",
        "print(\"\\n12. Sorting a Dictionary:\")\n",
        "print(\"Sorted by keys:\", sorted_by_keys)\n",
        "print(\"Sorted by values:\", sorted_by_values)\n",
        "\n",
        "# ---------------------------\n",
        "# 13. Length of a Dictionary\n",
        "# ---------------------------\n",
        "print(\"\\n13. Length of a Dictionary:\", len(person))\n",
        "\n",
        "# ---------------------------\n",
        "# 14. Use Cases\n",
        "# ---------------------------\n",
        "# Example 1: Storing Key-Value Data\n",
        "contacts = {\"John\": \"123-456\", \"Alice\": \"987-654\"}\n",
        "print(\"\\n14. Use Cases (Contacts):\", contacts)\n",
        "\n",
        "# Example 2: Counting Frequencies\n",
        "text = \"hello world\"\n",
        "frequency = {}\n",
        "for char in text:\n",
        "    frequency[char] = frequency.get(char, 0) + 1\n",
        "print(\"Character Frequency:\", frequency)\n"
      ],
      "metadata": {
        "colab": {
          "base_uri": "https://localhost:8080/"
        },
        "id": "BxpHpzPKPzRv",
        "outputId": "4be802b9-91d7-466a-bf48-af614758ec37"
      },
      "execution_count": 6,
      "outputs": [
        {
          "output_type": "stream",
          "name": "stdout",
          "text": [
            "1. Creating Dictionary: {'name': 'John', 'age': 25, 'city': 'New York'}\n",
            "\n",
            "2. Accessing Values:\n",
            "Name: John\n",
            "Age using get(): 25\n",
            "Gender (default): N/A\n",
            "\n",
            "3. Adding and Updating Key-Value Pairs:\n",
            "{'name': 'John', 'age': 26, 'city': 'New York', 'country': 'USA'}\n",
            "\n",
            "4. Removing Elements:\n",
            "Removed age: 26\n",
            "After pop(): {'name': 'John', 'city': 'New York', 'country': 'USA'}\n",
            "Last item removed: ('country', 'USA')\n",
            "After popitem(): {'name': 'John', 'city': 'New York'}\n",
            "After del: {'city': 'New York'}\n",
            "After clear: {}\n",
            "\n",
            "5. Checking Keys or Values:\n",
            "Key 'name' exists: True\n",
            "Value 'John' exists: True\n",
            "\n",
            "6. Iterating Through a Dictionary:\n",
            "Key: name\n",
            "Key: age\n",
            "Value: John\n",
            "Value: 25\n",
            "name: John\n",
            "age: 25\n",
            "\n",
            "7. Copying a Dictionary: {'name': 'John', 'age': 25}\n",
            "\n",
            "8. Merging Dictionaries: {'name': 'John', 'age': 25, 'city': 'New York', 'gender': 'Male'}\n",
            "\n",
            "9. Dictionary Comprehension: {0: 0, 1: 1, 2: 4, 3: 9, 4: 16}\n",
            "\n",
            "10. Nested Dictionaries: {'student1': {'name': 'John', 'age': 25}, 'student2': {'name': 'Alice', 'age': 22}}\n",
            "\n",
            "11. Built-In Methods:\n",
            "Keys: dict_keys(['name', 'age'])\n",
            "Values: dict_values(['John', 25])\n",
            "Items: dict_items([('name', 'John'), ('age', 25)])\n",
            "Fromkeys: {'key1': 'default', 'key2': 'default'}\n",
            "Setdefault (country): Unknown\n",
            "After setdefault: {'name': 'John', 'age': 25, 'country': 'Unknown'}\n",
            "\n",
            "12. Sorting a Dictionary:\n",
            "Sorted by keys: {'Alice': 90, 'Bob': 80, 'John': 95}\n",
            "Sorted by values: {'Bob': 80, 'Alice': 90, 'John': 95}\n",
            "\n",
            "13. Length of a Dictionary: 3\n",
            "\n",
            "14. Use Cases (Contacts): {'John': '123-456', 'Alice': '987-654'}\n",
            "Character Frequency: {'h': 1, 'e': 1, 'l': 3, 'o': 2, ' ': 1, 'w': 1, 'r': 1, 'd': 1}\n"
          ]
        }
      ]
    },
    {
      "cell_type": "code",
      "source": [
        "# ---------------------------\n",
        "# 1. Creating a Nested Dictionary\n",
        "# ---------------------------\n",
        "students = {\n",
        "    \"student1\": {\"name\": \"John\", \"age\": 25, \"grades\": {\"math\": 90, \"science\": 85}},\n",
        "    \"student2\": {\"name\": \"Alice\", \"age\": 22, \"grades\": {\"math\": 95, \"science\": 92}},\n",
        "    \"student3\": {\"name\": \"Bob\", \"age\": 23, \"grades\": {\"math\": 88, \"science\": 80}}\n",
        "}\n",
        "print(\"1. Nested Dictionary:\")\n",
        "print(students)\n",
        "\n",
        "# ---------------------------\n",
        "# 2. Simple Traversal Using Loops\n",
        "# ---------------------------\n",
        "print(\"\\n2. Simple Traversal:\")\n",
        "for student_id, student_info in students.items():\n",
        "    print(f\"ID: {student_id}\")\n",
        "    for key, value in student_info.items():\n",
        "        print(f\"  {key}: {value}\")\n",
        "\n",
        "# ---------------------------\n",
        "# 3. Traversing Nested Levels\n",
        "# ---------------------------\n",
        "print(\"\\n3. Traversing Nested Levels:\")\n",
        "for student_id, student_info in students.items():\n",
        "    print(f\"ID: {student_id}\")\n",
        "    for key, value in student_info.items():\n",
        "        if isinstance(value, dict):  # Check for nested dictionary\n",
        "            print(f\"  {key}:\")\n",
        "            for sub_key, sub_value in value.items():\n",
        "                print(f\"    {sub_key}: {sub_value}\")\n",
        "        else:\n",
        "            print(f\"  {key}: {value}\")\n",
        "\n",
        "# ---------------------------\n",
        "# 4. Accessing Specific Nested Values\n",
        "# ---------------------------\n",
        "print(\"\\n4. Accessing Specific Values:\")\n",
        "math_grade_student1 = students[\"student1\"][\"grades\"][\"math\"]\n",
        "print(\"Student1's Math Grade:\", math_grade_student1)\n",
        "\n",
        "# ---------------------------\n",
        "# 5. Using Recursion for Traversal\n",
        "# ---------------------------\n",
        "print(\"\\n5. Recursive Traversal:\")\n",
        "\n",
        "\n",
        "def traverse_dict(d, indent=0):\n",
        "    for key, value in d.items():\n",
        "        print(\"  \" * indent + str(key) + \":\", end=\" \")\n",
        "        if isinstance(value, dict):\n",
        "            print()  # Newline for nested dictionary\n",
        "            traverse_dict(value, indent + 1)\n",
        "        else:\n",
        "            print(value)\n",
        "\n",
        "\n",
        "traverse_dict(students)\n",
        "\n",
        "# ---------------------------\n",
        "# 6. Flattening a Nested Dictionary\n",
        "# ---------------------------\n",
        "print(\"\\n6. Flattening Nested Dictionary:\")\n",
        "\n",
        "\n",
        "def flatten_dict(d, parent_key='', sep='_'):\n",
        "    items = []\n",
        "    for key, value in d.items():\n",
        "        new_key = f\"{parent_key}{sep}{key}\" if parent_key else key\n",
        "        if isinstance(value, dict):\n",
        "            items.extend(flatten_dict(value, new_key, sep=sep).items())\n",
        "        else:\n",
        "            items.append((new_key, value))\n",
        "    return dict(items)\n",
        "\n",
        "\n",
        "flat_students = flatten_dict(students)\n",
        "print(flat_students)\n",
        "\n",
        "# ---------------------------\n",
        "# 7. Adding, Updating, and Removing in Nested Dictionary\n",
        "# ---------------------------\n",
        "print(\"\\n7. Modifying Nested Dictionary:\")\n",
        "\n",
        "# Adding a new subject for student1\n",
        "students[\"student1\"][\"grades\"][\"history\"] = 88\n",
        "print(\"Added History Grade:\", students[\"student1\"][\"grades\"])\n",
        "\n",
        "# Updating age of student2\n",
        "students[\"student2\"][\"age\"] = 23\n",
        "print(\"Updated Age of Student2:\", students[\"student2\"][\"age\"])\n",
        "\n",
        "# Removing math grade of student3\n",
        "del students[\"student3\"][\"grades\"][\"math\"]\n",
        "print(\"Removed Math Grade of Student3:\", students[\"student3\"][\"grades\"])\n",
        "\n",
        "# ---------------------------\n",
        "# 8. Checking Keys and Values in Nested Dictionary\n",
        "# ---------------------------\n",
        "print(\"\\n8. Checking Keys and Values:\")\n",
        "print(\"Key 'name' in student1:\", \"name\" in students[\"student1\"])\n",
        "print(\"Value 92 in student2 grades:\", 92 in students[\"student2\"][\"grades\"].values())\n",
        "\n",
        "# ---------------------------\n",
        "# 9. Dictionary Comprehension with Nested Data\n",
        "# ---------------------------\n",
        "print(\"\\n9. Dictionary Comprehension:\")\n",
        "students_average = {\n",
        "    student_id: sum(info[\"grades\"].values()) / len(info[\"grades\"])\n",
        "    for student_id, info in students.items()\n",
        "    if \"grades\" in info\n",
        "}\n",
        "print(\"Average Grades of Students:\", students_average)\n",
        "\n",
        "# ---------------------------\n",
        "# 10. Sorting Nested Dictionary\n",
        "# ---------------------------\n",
        "print(\"\\n10. Sorting Nested Dictionary by Age:\")\n",
        "\n",
        "sorted_students = dict(sorted(students.items(), key=lambda x: x[1][\"age\"]))\n",
        "print(sorted_students)\n"
      ],
      "metadata": {
        "colab": {
          "base_uri": "https://localhost:8080/"
        },
        "id": "3T3BTyouSuTm",
        "outputId": "340ab81d-35fe-45dc-c56a-c17f234765ed"
      },
      "execution_count": 7,
      "outputs": [
        {
          "output_type": "stream",
          "name": "stdout",
          "text": [
            "1. Nested Dictionary:\n",
            "{'student1': {'name': 'John', 'age': 25, 'grades': {'math': 90, 'science': 85}}, 'student2': {'name': 'Alice', 'age': 22, 'grades': {'math': 95, 'science': 92}}, 'student3': {'name': 'Bob', 'age': 23, 'grades': {'math': 88, 'science': 80}}}\n",
            "\n",
            "2. Simple Traversal:\n",
            "ID: student1\n",
            "  name: John\n",
            "  age: 25\n",
            "  grades: {'math': 90, 'science': 85}\n",
            "ID: student2\n",
            "  name: Alice\n",
            "  age: 22\n",
            "  grades: {'math': 95, 'science': 92}\n",
            "ID: student3\n",
            "  name: Bob\n",
            "  age: 23\n",
            "  grades: {'math': 88, 'science': 80}\n",
            "\n",
            "3. Traversing Nested Levels:\n",
            "ID: student1\n",
            "  name: John\n",
            "  age: 25\n",
            "  grades:\n",
            "    math: 90\n",
            "    science: 85\n",
            "ID: student2\n",
            "  name: Alice\n",
            "  age: 22\n",
            "  grades:\n",
            "    math: 95\n",
            "    science: 92\n",
            "ID: student3\n",
            "  name: Bob\n",
            "  age: 23\n",
            "  grades:\n",
            "    math: 88\n",
            "    science: 80\n",
            "\n",
            "4. Accessing Specific Values:\n",
            "Student1's Math Grade: 90\n",
            "\n",
            "5. Recursive Traversal:\n",
            "student1: \n",
            "  name: John\n",
            "  age: 25\n",
            "  grades: \n",
            "    math: 90\n",
            "    science: 85\n",
            "student2: \n",
            "  name: Alice\n",
            "  age: 22\n",
            "  grades: \n",
            "    math: 95\n",
            "    science: 92\n",
            "student3: \n",
            "  name: Bob\n",
            "  age: 23\n",
            "  grades: \n",
            "    math: 88\n",
            "    science: 80\n",
            "\n",
            "6. Flattening Nested Dictionary:\n",
            "{'student1_name': 'John', 'student1_age': 25, 'student1_grades_math': 90, 'student1_grades_science': 85, 'student2_name': 'Alice', 'student2_age': 22, 'student2_grades_math': 95, 'student2_grades_science': 92, 'student3_name': 'Bob', 'student3_age': 23, 'student3_grades_math': 88, 'student3_grades_science': 80}\n",
            "\n",
            "7. Modifying Nested Dictionary:\n",
            "Added History Grade: {'math': 90, 'science': 85, 'history': 88}\n",
            "Updated Age of Student2: 23\n",
            "Removed Math Grade of Student3: {'science': 80}\n",
            "\n",
            "8. Checking Keys and Values:\n",
            "Key 'name' in student1: True\n",
            "Value 92 in student2 grades: True\n",
            "\n",
            "9. Dictionary Comprehension:\n",
            "Average Grades of Students: {'student1': 87.66666666666667, 'student2': 93.5, 'student3': 80.0}\n",
            "\n",
            "10. Sorting Nested Dictionary by Age:\n",
            "{'student2': {'name': 'Alice', 'age': 23, 'grades': {'math': 95, 'science': 92}}, 'student3': {'name': 'Bob', 'age': 23, 'grades': {'science': 80}}, 'student1': {'name': 'John', 'age': 25, 'grades': {'math': 90, 'science': 85, 'history': 88}}}\n"
          ]
        }
      ]
    }
  ]
}