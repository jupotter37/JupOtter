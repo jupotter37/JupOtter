{
 "cells": [
  {
   "cell_type": "markdown",
   "id": "dbee02f3",
   "metadata": {},
   "source": [
    "# Assignments - W3 (While Loops)"
   ]
  },
  {
   "cell_type": "markdown",
   "id": "bb95fe9e",
   "metadata": {},
   "source": [
    "Assignment 1: Find the Longest Consecutive Sequence"
   ]
  },
  {
   "cell_type": "markdown",
   "id": "8f2542e9",
   "metadata": {},
   "source": [
    "Task: Write a Python program that finds the longest consecutive sequence of numbers in an unsorted array."
   ]
  },
  {
   "cell_type": "markdown",
   "id": "99ccd96f",
   "metadata": {},
   "source": [
    "Answer: "
   ]
  },
  {
   "cell_type": "code",
   "execution_count": 14,
   "id": "23bfceac",
   "metadata": {},
   "outputs": [
    {
     "name": "stdout",
     "output_type": "stream",
     "text": [
      "Longest consecutive sequence length: 4\n"
     ]
    }
   ],
   "source": [
    "def longest_consecutive_sequence(nums):\n",
    "    num_set = set(nums)\n",
    "    max_length = 0\n",
    "    \n",
    "    for num in num_set:\n",
    "        if num - 1 not in num_set:\n",
    "            current_num = num\n",
    "            current_length = 1\n",
    "            \n",
    "            while current_num + 1 in num_set:\n",
    "                current_num += 1\n",
    "                current_length += 1\n",
    "            \n",
    "            max_length = max(max_length, current_length)\n",
    "    \n",
    "    return max_length\n",
    "\n",
    "nums = [100, 4, 200, 1, 3, 2]\n",
    "print(\"Longest consecutive sequence length:\", longest_consecutive_sequence(nums))"
   ]
  },
  {
   "cell_type": "markdown",
   "id": "88bdd140",
   "metadata": {},
   "source": [
    "Assignment 2: Implement a Linked List"
   ]
  },
  {
   "cell_type": "markdown",
   "id": "75f21a28",
   "metadata": {},
   "source": [
    "Task: Create a Python class that implements a singly linked list with methods for insertion, deletion, and traversal."
   ]
  },
  {
   "cell_type": "markdown",
   "id": "01eeb0c8",
   "metadata": {},
   "source": [
    "Answer: "
   ]
  },
  {
   "cell_type": "code",
   "execution_count": 13,
   "id": "d82012a3",
   "metadata": {},
   "outputs": [
    {
     "name": "stdout",
     "output_type": "stream",
     "text": [
      "1 -> 2 -> 3 -> None\n",
      "1 -> 3 -> None\n"
     ]
    }
   ],
   "source": [
    "class Node:\n",
    "    def __init__(self, data):\n",
    "        self.data = data\n",
    "        self.next = None\n",
    "\n",
    "class LinkedList:\n",
    "    def __init__(self):\n",
    "        self.head = None\n",
    "\n",
    "    def insert(self, data):\n",
    "        new_node = Node(data)\n",
    "        if not self.head:\n",
    "            self.head = new_node\n",
    "        else:\n",
    "            current = self.head\n",
    "            while current.next:\n",
    "                current = current.next\n",
    "            current.next = new_node\n",
    "\n",
    "    def delete(self, data):\n",
    "        if not self.head:\n",
    "            return\n",
    "        \n",
    "        if self.head.data == data:\n",
    "            self.head = self.head.next\n",
    "            return\n",
    "        \n",
    "        current = self.head\n",
    "        while current.next:\n",
    "            if current.next.data == data:\n",
    "                current.next = current.next.next\n",
    "                return\n",
    "            current = current.next\n",
    "\n",
    "    def display(self):\n",
    "        current = self.head\n",
    "        while current:\n",
    "            print(current.data, end=\" -> \")\n",
    "            current = current.next\n",
    "        print(\"None\")\n",
    "\n",
    "# Example usage\n",
    "linked_list = LinkedList()\n",
    "linked_list.insert(1)\n",
    "linked_list.insert(2)\n",
    "linked_list.insert(3)\n",
    "linked_list.display()\n",
    "linked_list.delete(2)\n",
    "linked_list.display()"
   ]
  },
  {
   "cell_type": "markdown",
   "id": "37095431",
   "metadata": {},
   "source": [
    "Assignment 3: Implement a Stack Using Linked List"
   ]
  },
  {
   "cell_type": "markdown",
   "id": "1433b40b",
   "metadata": {},
   "source": [
    "Task: Create a Python class that implements a stack data structure using a linked list."
   ]
  },
  {
   "cell_type": "markdown",
   "id": "7e3c5dbd",
   "metadata": {},
   "source": [
    "Answer: "
   ]
  },
  {
   "cell_type": "code",
   "execution_count": 12,
   "id": "97d3bab4",
   "metadata": {},
   "outputs": [
    {
     "name": "stdout",
     "output_type": "stream",
     "text": [
      "Top element: 3\n",
      "Popped: 3\n",
      "Top element after pop: 2\n"
     ]
    }
   ],
   "source": [
    "class Node:\n",
    "    def __init__(self, data):\n",
    "        self.data = data\n",
    "        self.next = None\n",
    "\n",
    "class Stack:\n",
    "    def __init__(self):\n",
    "        self.top = None\n",
    "\n",
    "    def push(self, data):\n",
    "        new_node = Node(data)\n",
    "        if not self.top:\n",
    "            self.top = new_node\n",
    "        else:\n",
    "            new_node.next = self.top\n",
    "            self.top = new_node\n",
    "\n",
    "    def pop(self):\n",
    "        if not self.top:\n",
    "            return None\n",
    "        data = self.top.data\n",
    "        self.top = self.top.next\n",
    "        return data\n",
    "\n",
    "    def peek(self):\n",
    "        return self.top.data if self.top else None\n",
    "\n",
    "    def is_empty(self):\n",
    "        return self.top is None\n",
    "\n",
    "# Example usage\n",
    "stack = Stack()\n",
    "stack.push(1)\n",
    "stack.push(2)\n",
    "stack.push(3)\n",
    "print(\"Top element:\", stack.peek())\n",
    "print(\"Popped:\", stack.pop())\n",
    "print(\"Top element after pop:\", stack.peek())"
   ]
  },
  {
   "cell_type": "markdown",
   "id": "09dfc6c6",
   "metadata": {},
   "source": [
    "Assignment 4: Implement a Queue Using Linked List"
   ]
  },
  {
   "cell_type": "markdown",
   "id": "3e201eb0",
   "metadata": {},
   "source": [
    "Task: Create a Python class that implements a queue data structure using a linked list."
   ]
  },
  {
   "cell_type": "markdown",
   "id": "7b41ca07",
   "metadata": {},
   "source": [
    "Answer: "
   ]
  },
  {
   "cell_type": "code",
   "execution_count": 10,
   "id": "631e4c6d",
   "metadata": {},
   "outputs": [
    {
     "name": "stdout",
     "output_type": "stream",
     "text": [
      "Dequeued: 1\n",
      "Dequeued: 2\n"
     ]
    }
   ],
   "source": [
    "class Node:\n",
    "    def __init__(self, data):\n",
    "        self.data = data\n",
    "        self.next = None\n",
    "\n",
    "class Queue:\n",
    "    def __init__(self):\n",
    "        self.front = None\n",
    "        self.rear = None\n",
    "\n",
    "    def enqueue(self, data):\n",
    "        new_node = Node(data)\n",
    "        if not self.front:\n",
    "            self.front = self.rear = new_node\n",
    "        else:\n",
    "            self.rear.next = new_node\n",
    "            self.rear = new_node\n",
    "\n",
    "    def dequeue(self):\n",
    "        if not self.front:\n",
    "            return None\n",
    "        data = self.front.data\n",
    "        if self.front == self.rear:\n",
    "            self.front = self.rear = None\n",
    "        else:\n",
    "            self.front = self.front.next\n",
    "        return data\n",
    "\n",
    "    def is_empty(self):\n",
    "        return self.front is None\n",
    "\n",
    "# Example usage\n",
    "queue = Queue()\n",
    "queue.enqueue(1)\n",
    "queue.enqueue(2)\n",
    "queue.enqueue(3)\n",
    "print(\"Dequeued:\", queue.dequeue())\n",
    "print(\"Dequeued:\", queue.dequeue())"
   ]
  },
  {
   "cell_type": "markdown",
   "id": "cbcbb425",
   "metadata": {},
   "source": [
    "Assignment 5: Implement a Binary Search Tree (BST)"
   ]
  },
  {
   "cell_type": "markdown",
   "id": "f84a7d76",
   "metadata": {},
   "source": [
    "Task: Create a Python class that implements a binary search tree with methods for insertion, deletion, and traversal."
   ]
  },
  {
   "cell_type": "markdown",
   "id": "6fe275e7",
   "metadata": {},
   "source": [
    "Answer: "
   ]
  },
  {
   "cell_type": "code",
   "execution_count": 9,
   "id": "73b483f7",
   "metadata": {},
   "outputs": [
    {
     "name": "stdout",
     "output_type": "stream",
     "text": [
      "Inorder traversal: [20, 30, 40, 50, 60, 70, 80]\n",
      "Inorder traversal after deletion: [20, 40, 50, 60, 70, 80]\n"
     ]
    }
   ],
   "source": [
    "class TreeNode:\n",
    "    def __init__(self, key):\n",
    "        self.key = key\n",
    "        self.left = None\n",
    "        self.right = None\n",
    "\n",
    "class BinarySearchTree:\n",
    "    def __init__(self):\n",
    "        self.root = None\n",
    "\n",
    "    def insert(self, key):\n",
    "        self.root = self._insert_recursive(self.root, key)\n",
    "\n",
    "    def _insert_recursive(self, root, key):\n",
    "        if not root:\n",
    "            return TreeNode(key)\n",
    "        \n",
    "        if key < root.key:\n",
    "            root.left = self._insert_recursive(root.left, key)\n",
    "        else:\n",
    "            root.right = self._insert_recursive(root.right, key)\n",
    "        \n",
    "        return root\n",
    "\n",
    "    def delete(self, key):\n",
    "        self.root = self._delete_recursive(self.root, key)\n",
    "\n",
    "    def _delete_recursive(self, root, key):\n",
    "        if not root:\n",
    "            return root\n",
    "        \n",
    "        if key < root.key:\n",
    "            root.left = self._delete_recursive(root.left, key)\n",
    "        elif key > root.key:\n",
    "            root.right = self._delete_recursive(root.right, key)\n",
    "        else:\n",
    "            if not root.left:\n",
    "                return root.right\n",
    "            elif not root.right:\n",
    "                return root.left\n",
    "            \n",
    "            min_key = self._find_min(root.right)\n",
    "            root.key = min_key\n",
    "            root.right = self._delete_recursive(root.right, min_key)\n",
    "        \n",
    "        return root\n",
    "\n",
    "    def _find_min(self, node):\n",
    "        while node.left:\n",
    "            node = node.left\n",
    "        return node.key\n",
    "\n",
    "    def inorder_traversal(self):\n",
    "        def _inorder(node):\n",
    "            if not node:\n",
    "                return []\n",
    "            return _inorder(node.left) + [node.key] + _inorder(node.right)\n",
    "\n",
    "        return _inorder(self.root)\n",
    "\n",
    "# Example usage\n",
    "bst = BinarySearchTree()\n",
    "bst.insert(50)\n",
    "bst.insert(30)\n",
    "bst.insert(70)\n",
    "bst.insert(20)\n",
    "bst.insert(40)\n",
    "bst.insert(60)\n",
    "bst.insert(80)\n",
    "print(\"Inorder traversal:\", bst.inorder_traversal())\n",
    "bst.delete(30)\n",
    "print(\"Inorder traversal after deletion:\", bst.inorder_traversal())"
   ]
  },
  {
   "cell_type": "markdown",
   "id": "2db5a6f5",
   "metadata": {},
   "source": [
    "Assignment 6: Implement a Hash Table"
   ]
  },
  {
   "cell_type": "markdown",
   "id": "83cfe4ad",
   "metadata": {},
   "source": [
    "Task: Create a Python class that implements a hash table (dictionary) with methods for insertion, retrieval, and deletion."
   ]
  },
  {
   "cell_type": "markdown",
   "id": "cd7a0da9",
   "metadata": {},
   "source": [
    "Answer: "
   ]
  },
  {
   "cell_type": "code",
   "execution_count": 8,
   "id": "f40f5807",
   "metadata": {},
   "outputs": [
    {
     "name": "stdout",
     "output_type": "stream",
     "text": [
      "Name: Alice\n",
      "Age: 30\n"
     ]
    }
   ],
   "source": [
    "class HashTable:\n",
    "    def __init__(self, size=100):\n",
    "        self.size = size\n",
    "        self.table = [None] * size\n",
    "\n",
    "    def _hash(self, key):\n",
    "        return hash(key) % self.size\n",
    "\n",
    "    def insert(self, key, value):\n",
    "        index = self._hash(key)\n",
    "        if not self.table[index]:\n",
    "            self.table[index] = []\n",
    "        self.table[index].append((key, value))\n",
    "\n",
    "    def get(self, key):\n",
    "        index = self._hash(key)\n",
    "        if not self.table[index]:\n",
    "            raise KeyError(f\"Key '{key}' not found in the hash table.\")\n",
    "        for k, v in self.table[index]:\n",
    "            if k == key:\n",
    "                return v\n",
    "        raise KeyError(f\"Key '{key}' not found in the hash table.\")\n",
    "\n",
    "    def delete(self, key):\n",
    "        index = self._hash(key)\n",
    "        if not self.table[index]:\n",
    "            raise KeyError(f\"Key '{key}' not found in the hash table.\")\n",
    "        for i, (k, v) in enumerate(self.table[index]):\n",
    "            if k == key:\n",
    "                del self.table[index][i]\n",
    "                return\n",
    "        raise KeyError(f\"Key '{key}' not found in the hash table.\")\n",
    "\n",
    "# Example usage\n",
    "hash_table = HashTable()\n",
    "hash_table.insert(\"name\", \"Alice\")\n",
    "hash_table.insert(\"age\", 30)\n",
    "print(\"Name:\", hash_table.get(\"name\"))\n",
    "print(\"Age:\", hash_table.get(\"age\"))\n",
    "hash_table.delete(\"age\")"
   ]
  },
  {
   "cell_type": "markdown",
   "id": "11c25cf0",
   "metadata": {},
   "source": [
    "Assignment 7: Implement a Binary Heap"
   ]
  },
  {
   "cell_type": "markdown",
   "id": "cb2f2fe5",
   "metadata": {},
   "source": [
    "Task: Create a Python class that implements a binary heap (min heap) with methods for insertion and extraction of the minimum element."
   ]
  },
  {
   "cell_type": "markdown",
   "id": "cf6aa719",
   "metadata": {},
   "source": [
    "Answer: "
   ]
  },
  {
   "cell_type": "code",
   "execution_count": 6,
   "id": "c033dcde",
   "metadata": {},
   "outputs": [
    {
     "name": "stdout",
     "output_type": "stream",
     "text": [
      "Min element: 1\n",
      "Min element: 2\n"
     ]
    }
   ],
   "source": [
    "class MinHeap:\n",
    "    def __init__(self):\n",
    "        self.heap = []\n",
    "\n",
    "    def insert(self, value):\n",
    "        self.heap.append(value)\n",
    "        self._heapify_up(len(self.heap) - 1)\n",
    "\n",
    "    def extract_min(self):\n",
    "        if not self.heap:\n",
    "            return None\n",
    "        if len(self.heap) == 1:\n",
    "            return self.heap.pop()\n",
    "        min_value = self.heap[0]\n",
    "        self.heap[0] = self.heap.pop()\n",
    "        self._heapify_down(0)\n",
    "        return min_value\n",
    "\n",
    "    def _heapify_up(self, index):\n",
    "        while index > 0:\n",
    "            parent_index = (index - 1) // 2\n",
    "            if self.heap[index] < self.heap[parent_index]:\n",
    "                self.heap[index], self.heap[parent_index] = self.heap[parent_index], self.heap[index]\n",
    "                index = parent_index\n",
    "            else:\n",
    "                break\n",
    "\n",
    "    def _heapify_down(self, index):\n",
    "        left_child_index = 2 * index + 1\n",
    "        right_child_index = 2 * index + 2\n",
    "        smallest = index\n",
    "\n",
    "        if (\n",
    "            left_child_index < len(self.heap)\n",
    "            and self.heap[left_child_index] < self.heap[smallest]\n",
    "        ):\n",
    "            smallest = left_child_index\n",
    "\n",
    "        if (\n",
    "            right_child_index < len(self.heap)\n",
    "            and self.heap[right_child_index] < self.heap[smallest]\n",
    "        ):\n",
    "            smallest = right_child_index\n",
    "\n",
    "        if smallest != index:\n",
    "            self.heap[index], self.heap[smallest] = self.heap[smallest], self.heap[index]\n",
    "            self._heapify_down(smallest)\n",
    "\n",
    "# Example usage\n",
    "min_heap = MinHeap()\n",
    "min_heap.insert(3)\n",
    "min_heap.insert(1)\n",
    "min_heap.insert(4)\n",
    "min_heap.insert(2)\n",
    "print(\"Min element:\", min_heap.extract_min())\n",
    "print(\"Min element:\", min_heap.extract_min())\n"
   ]
  },
  {
   "cell_type": "markdown",
   "id": "cdc4ddf2",
   "metadata": {},
   "source": [
    "Assignment 8: Implement Depth-First Search (DFS) on a Graph"
   ]
  },
  {
   "cell_type": "markdown",
   "id": "3bac4af1",
   "metadata": {},
   "source": [
    "Task: Write a Python function that performs a depth-first search (DFS) on a graph represented as an adjacency list and returns the order of visited nodes."
   ]
  },
  {
   "cell_type": "markdown",
   "id": "9df6be8c",
   "metadata": {},
   "source": [
    "Answer: "
   ]
  },
  {
   "cell_type": "code",
   "execution_count": 5,
   "id": "8c9aaab4",
   "metadata": {},
   "outputs": [
    {
     "name": "stdout",
     "output_type": "stream",
     "text": [
      "DFS order: [0, 1, 3, 4, 2]\n"
     ]
    }
   ],
   "source": [
    "def dfs(graph, node, visited, result):\n",
    "    visited[node] = True\n",
    "    result.append(node)\n",
    "    \n",
    "    for neighbor in graph[node]:\n",
    "        if not visited[neighbor]:\n",
    "            dfs(graph, neighbor, visited, result)\n",
    "\n",
    "# Example adjacency list representation of a graph\n",
    "graph = {\n",
    "    0: [1, 2],\n",
    "    1: [3],\n",
    "    2: [],\n",
    "    3: [4],\n",
    "    4: []\n",
    "}\n",
    "visited = [False] * len(graph)\n",
    "dfs_result = []\n",
    "dfs(graph, 0, visited, dfs_result)\n",
    "print(\"DFS order:\", dfs_result)"
   ]
  },
  {
   "cell_type": "markdown",
   "id": "e43e041d",
   "metadata": {},
   "source": [
    "Assignment 9: Implement Breadth-First Search (BFS) on a Graph"
   ]
  },
  {
   "cell_type": "markdown",
   "id": "3abf243f",
   "metadata": {},
   "source": [
    "Task: Write a Python function that performs a breadth-first search (BFS) on a graph represented as an adjacency list and returns the order of visited nodes."
   ]
  },
  {
   "cell_type": "markdown",
   "id": "eb634cfb",
   "metadata": {},
   "source": [
    "Answer: "
   ]
  },
  {
   "cell_type": "code",
   "execution_count": 3,
   "id": "f3678f70",
   "metadata": {},
   "outputs": [
    {
     "name": "stdout",
     "output_type": "stream",
     "text": [
      "BFS order: [0, 1, 2, 3, 4]\n"
     ]
    }
   ],
   "source": [
    "from collections import deque\n",
    "\n",
    "def bfs(graph, start):\n",
    "    visited = [False] * len(graph)\n",
    "    result = []\n",
    "    queue = deque([start])\n",
    "    visited[start] = True\n",
    "\n",
    "    while queue:\n",
    "        node = queue.popleft()\n",
    "        result.append(node)\n",
    "\n",
    "        for neighbor in graph[node]:\n",
    "            if not visited[neighbor]:\n",
    "                visited[neighbor] = True\n",
    "                queue.append(neighbor)\n",
    "\n",
    "    return result\n",
    "\n",
    "# Example adjacency list representation of a graph\n",
    "graph = {\n",
    "    0: [1, 2],\n",
    "    1: [3],\n",
    "    2: [],\n",
    "    3: [4],\n",
    "    4: []\n",
    "}\n",
    "bfs_result = bfs(graph, 0)\n",
    "print(\"BFS order:\", bfs_result)\n"
   ]
  },
  {
   "cell_type": "markdown",
   "id": "9a09b603",
   "metadata": {},
   "source": [
    "Assignment 10: Implement Topological Sorting"
   ]
  },
  {
   "cell_type": "markdown",
   "id": "d5165bcf",
   "metadata": {},
   "source": [
    "Task: Write a Python function that performs topological sorting on a directed acyclic graph (DAG) represented as an adjacency list."
   ]
  },
  {
   "cell_type": "markdown",
   "id": "0fbc0b8c",
   "metadata": {},
   "source": [
    "Answer: "
   ]
  },
  {
   "cell_type": "code",
   "execution_count": 2,
   "id": "0cdeaedb",
   "metadata": {},
   "outputs": [
    {
     "name": "stdout",
     "output_type": "stream",
     "text": [
      "Topological order: ['A', 'B', 'C', 'D', 'E', 'F']\n"
     ]
    }
   ],
   "source": [
    "from collections import deque\n",
    "\n",
    "def topological_sort(graph):\n",
    "    in_degree = {node: 0 for node in graph}\n",
    "    \n",
    "    for node in graph:\n",
    "        for neighbor in graph[node]:\n",
    "            in_degree[neighbor] += 1\n",
    "    \n",
    "    queue = deque([node for node in in_degree if in_degree[node] == 0])\n",
    "    result = []\n",
    "\n",
    "    while queue:\n",
    "        node = queue.popleft()\n",
    "        result.append(node)\n",
    "\n",
    "        for neighbor in graph[node]:\n",
    "            in_degree[neighbor] -= 1\n",
    "            if in_degree[neighbor] == 0:\n",
    "                queue.append(neighbor)\n",
    "\n",
    "    return result\n",
    "\n",
    "# Example adjacency list representation of a DAG\n",
    "graph = {\n",
    "    'A': ['B', 'C'],\n",
    "    'B': ['D', 'E'],\n",
    "    'C': [],\n",
    "    'D': ['F'],\n",
    "    'E': ['F'],\n",
    "    'F': []\n",
    "}\n",
    "topological_order = topological_sort(graph)\n",
    "print(\"Topological order:\", topological_order)"
   ]
  }
 ],
 "metadata": {
  "kernelspec": {
   "display_name": "Python 3 (ipykernel)",
   "language": "python",
   "name": "python3"
  },
  "language_info": {
   "codemirror_mode": {
    "name": "ipython",
    "version": 3
   },
   "file_extension": ".py",
   "mimetype": "text/x-python",
   "name": "python",
   "nbconvert_exporter": "python",
   "pygments_lexer": "ipython3",
   "version": "3.9.13"
  },
  "toc": {
   "base_numbering": 1,
   "nav_menu": {},
   "number_sections": true,
   "sideBar": true,
   "skip_h1_title": false,
   "title_cell": "Table of Contents",
   "title_sidebar": "Contents",
   "toc_cell": false,
   "toc_position": {},
   "toc_section_display": true,
   "toc_window_display": false
  }
 },
 "nbformat": 4,
 "nbformat_minor": 5
}
