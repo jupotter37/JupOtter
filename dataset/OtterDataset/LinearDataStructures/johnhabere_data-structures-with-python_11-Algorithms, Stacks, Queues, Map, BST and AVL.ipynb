{
 "cells": [
  {
   "cell_type": "markdown",
   "id": "83f0c9c2",
   "metadata": {},
   "source": [
    "## Search and Sorting"
   ]
  },
  {
   "cell_type": "code",
   "execution_count": 8,
   "id": "cd1d7db6",
   "metadata": {},
   "outputs": [
    {
     "name": "stdout",
     "output_type": "stream",
     "text": [
      "Oh YES 42 is in the list\n"
     ]
    }
   ],
   "source": [
    "# Linear\n",
    "#  index    0  1  2   3   4   5   6   7   8   9  10  11  12  13  14  15   16\n",
    "my_list = [-4, 2, 7, 10, 15, 20, 22, 25, 30, 36, 42, 50, 56, 68, 85, 92, 103]\n",
    "\n",
    "def linearSearch(value):\n",
    "    if value in my_list:\n",
    "        print(\"Oh YES\", value , \"is in the list\")\n",
    "    else:\n",
    "        print(\"Hello NO\")\n",
    "        \n",
    "linearSearch(42)"
   ]
  },
  {
   "cell_type": "code",
   "execution_count": 9,
   "id": "e71c2048",
   "metadata": {},
   "outputs": [
    {
     "data": {
      "text/plain": [
       "10"
      ]
     },
     "execution_count": 9,
     "metadata": {},
     "output_type": "execute_result"
    }
   ],
   "source": [
    "# Sequential Search\n",
    "\n",
    "def sequentialSearch(value):\n",
    "    for i in range(0, len(my_list)):\n",
    "        if my_list[i] == value:\n",
    "            return i # returns the index of where value is located\n",
    "    return -1   # not found\n",
    "\n",
    "sequentialSearch(42)"
   ]
  },
  {
   "cell_type": "code",
   "execution_count": 14,
   "id": "1891f9e3",
   "metadata": {},
   "outputs": [
    {
     "data": {
      "text/plain": [
       "-9"
      ]
     },
     "execution_count": 14,
     "metadata": {},
     "output_type": "execute_result"
    }
   ],
   "source": [
    "# binary search\n",
    "\n",
    "# condition - we have a sorted list\n",
    "\n",
    "def binary_search(mylist, value):\n",
    "    min = 0\n",
    "    max = len(mylist) - 1\n",
    "\n",
    "    while min <= max:\n",
    "        mid = (min + max) // 2\n",
    "        if mylist[mid] < value:\n",
    "            min = mid + 1\n",
    "        elif mylist[mid] > value:\n",
    "            max = mid - 1\n",
    "        else:\n",
    "            return mid   # target found\n",
    "\n",
    "    return -(min)    # target not found\n",
    "binary_search(my_list, 33)"
   ]
  },
  {
   "cell_type": "code",
   "execution_count": 22,
   "id": "ed1d84e6",
   "metadata": {},
   "outputs": [
    {
     "name": "stdout",
     "output_type": "stream",
     "text": [
      "index: 11 value = 50\n"
     ]
    }
   ],
   "source": [
    "def binary_search(mylist, value, start, stop):\n",
    "    min = start\n",
    "    max = stop - 1\n",
    "\n",
    "    while min <= max:\n",
    "        mid = (min + max) // 2\n",
    "        if mylist[mid] < value:\n",
    "            min = mid + 1\n",
    "        elif mylist[mid] > value:\n",
    "            max = mid - 1\n",
    "        else:\n",
    "            return mid   # target found\n",
    "\n",
    "    return -(min)    # target not found\n",
    "\n",
    "index1 = binary_search(my_list, 50, 7, 16)\n",
    "print(\"index:\",index1, \"value =\",my_list[index1])\n"
   ]
  },
  {
   "cell_type": "markdown",
   "id": "4149e30a",
   "metadata": {},
   "source": [
    "## Sorting Algorithms"
   ]
  },
  {
   "cell_type": "markdown",
   "id": "d70a5a2f",
   "metadata": {},
   "source": [
    "### Bogo Sort"
   ]
  },
  {
   "cell_type": "code",
   "execution_count": 28,
   "id": "3b54f711",
   "metadata": {},
   "outputs": [
    {
     "name": "stdout",
     "output_type": "stream",
     "text": [
      "[-9, -4, 10, 12, 18, 22, 27, 30, 36, 50, 90]\n"
     ]
    }
   ],
   "source": [
    "from random import random\n",
    "\n",
    "def bogo_sort(a):\n",
    "    while (not is_sorted(a)):\n",
    "        shuffle(a)\n",
    "\n",
    "    \n",
    "def is_sorted(a):\n",
    "    for i in range(0, len(a) - 1):\n",
    "        if (a[i] > a[i + 1]):\n",
    "            return False\n",
    "    return True\n",
    "\n",
    "\n",
    "def shuffle(a):\n",
    "    for i in range(0, len(a) - 1):\n",
    "        # pick a random index in [i+1, a.length-1]\n",
    "        range1 = len(a) - (i + 1)\n",
    "        j = int((random() * range1) + (i + 1))\n",
    "        swap(a, i, j)\n",
    "    \n",
    "def swap(a, i, j):\n",
    "    if (i != j):\n",
    "        temp = a[i]\n",
    "        a[i] = a[j]\n",
    "        a[j] = temp\n",
    "\n",
    "b = [22, 18, 12, -4, 27, 30, 36, 50, -9, 90, 10]\n",
    "\n",
    "bogo_sort(b)\n",
    "\n",
    "print(b)"
   ]
  },
  {
   "cell_type": "code",
   "execution_count": 35,
   "id": "ae35c535",
   "metadata": {},
   "outputs": [
    {
     "name": "stdout",
     "output_type": "stream",
     "text": [
      "[-9, -4, -1, 10, 12, 18, 22, 27, 30, 36, 50, 90]\n"
     ]
    }
   ],
   "source": [
    "# selection sort\n",
    "\n",
    "def selection_sort(a):\n",
    "    for i in range(0, len(a) - 1):\n",
    "        # find index of smallest remaining value\n",
    "        min = i\n",
    "        for j in range(i + 1, len(a)):\n",
    "            if (a[j] < a[min]):\n",
    "                min = j\n",
    "        # swap smallest value its proper place, a[i]\n",
    "        swap(a, i, min)\n",
    "        \n",
    "c = [22, 18, 12, -4, 27, 30, 36, 50, -9, 90, 10, -1]\n",
    "selection_sort(c)\n",
    "print(c)"
   ]
  },
  {
   "cell_type": "code",
   "execution_count": 34,
   "id": "bed97f9f",
   "metadata": {},
   "outputs": [
    {
     "name": "stdout",
     "output_type": "stream",
     "text": [
      "[-9, -4, -1, 10, 12, 18, 22, 27, 30, 36, 50, 90]\n"
     ]
    }
   ],
   "source": [
    "# merge sort\n",
    "def merge_sort(a):\n",
    "    if len(a) >= 2:\n",
    "        # split list into two halves\n",
    "        left  = a[0: len(a)//2]\n",
    "        right = a[len(a)//2: len(a)]\n",
    "\n",
    "        # sort the two halves\n",
    "        merge_sort(left)\n",
    "        merge_sort(right)\n",
    "\n",
    "        # merge the sorted halves into a sorted whole\n",
    "        merge(a, left, right)\n",
    "\n",
    "def merge(result, left, right):\n",
    "    i1 = 0   # index into left list\n",
    "    i2 = 0   # index into right list\n",
    "\n",
    "    for i in range(0, len(result)):\n",
    "        if i2 >= len(right) or (i1 < len(left) and left[i1] <= right[i2]):\n",
    "            result[i] = left[i1]    # take from left\n",
    "            i1 += 1\n",
    "        else:\n",
    "            result[i] = right[i2]   # take from right\n",
    "            i2 += 1\n",
    "\n",
    "d = [22, 18, 12, -4, 27, 30, 36, 50, -9, 90, 10, -1]\n",
    "merge_sort(d)\n",
    "print(d)"
   ]
  },
  {
   "cell_type": "markdown",
   "id": "6762ef79",
   "metadata": {},
   "source": [
    "### Reading assignment Stacks, Queue, Map, BST, AVL"
   ]
  },
  {
   "cell_type": "markdown",
   "id": "26018b3b",
   "metadata": {},
   "source": [
    "### ADT - Abstract Data Type"
   ]
  },
  {
   "cell_type": "markdown",
   "id": "86a9d537",
   "metadata": {},
   "source": [
    "- Linked Lists\n",
    "- Stacks\n",
    "- Queues\n",
    "- Maps --> Sets, Hashing\n",
    "- Graphs\n",
    "- BST\n",
    "- AVL\n"
   ]
  },
  {
   "cell_type": "markdown",
   "id": "8b2363e4",
   "metadata": {},
   "source": [
    "## Stack"
   ]
  },
  {
   "cell_type": "markdown",
   "id": "963f69dd",
   "metadata": {},
   "source": [
    "![](Stacks-in-C.png)"
   ]
  },
  {
   "cell_type": "code",
   "execution_count": 42,
   "id": "675dead6",
   "metadata": {},
   "outputs": [],
   "source": [
    "class Stack:\n",
    "    def __init__(self):\n",
    "        self.data = []\n",
    "        \n",
    "    def push(self, value):\n",
    "        self.data.append(value) # 0 --- data = [0]\n",
    "        \n",
    "    def pop(self):\n",
    "        assert not self.empty()\n",
    "        val = self.data[-1]\n",
    "        del self.data[-1]\n",
    "        return val\n",
    "        \n",
    "    def peek(self):\n",
    "        assert not self.empty()\n",
    "        return self.data[-1]\n",
    "        \n",
    "    def empty(self):\n",
    "        return len(self.data) == 0\n",
    "        \n",
    "    def __bool__(self):\n",
    "        return not self.empty()\n"
   ]
  },
  {
   "cell_type": "code",
   "execution_count": 43,
   "id": "d368e7dd",
   "metadata": {},
   "outputs": [],
   "source": [
    "st = Stack()\n",
    "\n",
    "for i in range(1,21):\n",
    "    st.push(i)"
   ]
  },
  {
   "cell_type": "code",
   "execution_count": 44,
   "id": "676d5ae3",
   "metadata": {},
   "outputs": [
    {
     "data": {
      "text/plain": [
       "20"
      ]
     },
     "execution_count": 44,
     "metadata": {},
     "output_type": "execute_result"
    }
   ],
   "source": [
    "st.peek()"
   ]
  },
  {
   "cell_type": "code",
   "execution_count": 45,
   "id": "6678e132",
   "metadata": {},
   "outputs": [
    {
     "name": "stdout",
     "output_type": "stream",
     "text": [
      "20\n"
     ]
    }
   ],
   "source": [
    "print(st.pop())"
   ]
  },
  {
   "cell_type": "code",
   "execution_count": 46,
   "id": "d81d1d4c",
   "metadata": {},
   "outputs": [
    {
     "name": "stdout",
     "output_type": "stream",
     "text": [
      "19\n",
      "18\n",
      "17\n",
      "16\n",
      "15\n",
      "14\n",
      "13\n",
      "12\n",
      "11\n",
      "10\n",
      "9\n",
      "8\n",
      "7\n",
      "6\n",
      "5\n",
      "4\n",
      "3\n",
      "2\n",
      "1\n"
     ]
    }
   ],
   "source": [
    "while st:\n",
    "    print(st.pop())"
   ]
  },
  {
   "cell_type": "code",
   "execution_count": 47,
   "id": "e209538d",
   "metadata": {},
   "outputs": [
    {
     "data": {
      "text/plain": [
       "True"
      ]
     },
     "execution_count": 47,
     "metadata": {},
     "output_type": "execute_result"
    }
   ],
   "source": [
    "st.empty()"
   ]
  },
  {
   "cell_type": "markdown",
   "id": "690bea63",
   "metadata": {},
   "source": [
    "## Queues"
   ]
  },
  {
   "cell_type": "markdown",
   "id": "816b0012",
   "metadata": {},
   "source": [
    "![](queue.png)"
   ]
  },
  {
   "cell_type": "code",
   "execution_count": 51,
   "id": "f2373917",
   "metadata": {},
   "outputs": [],
   "source": [
    "class Queue:\n",
    "    def __init__(self):\n",
    "        self.data = []\n",
    "        self.head = -1\n",
    "    \n",
    "    def enqueue(self, value):\n",
    "        self.data.append(value)\n",
    "    \n",
    "    def dequeue(self):\n",
    "        assert not self.empty()\n",
    "        self.head = self.head + 1\n",
    "        val = self.data[self.head]\n",
    "        self.data[self.head] = None\n",
    "        return val\n",
    "        \n",
    "    def empty(self):\n",
    "        return self.head + 1 == len(self.data)\n",
    "    \n",
    "    def __bool__(self):\n",
    "        return not self.empty()\n",
    "    \n",
    "    "
   ]
  },
  {
   "cell_type": "code",
   "execution_count": 59,
   "id": "efdf6a57",
   "metadata": {},
   "outputs": [],
   "source": [
    "que = Queue()\n",
    "\n",
    "for i in range(1, 21):\n",
    "    que.enqueue(i)"
   ]
  },
  {
   "cell_type": "code",
   "execution_count": 60,
   "id": "83b0e725",
   "metadata": {},
   "outputs": [
    {
     "name": "stdout",
     "output_type": "stream",
     "text": [
      "<__main__.Queue object at 0x7fad83b2c5e0>\n"
     ]
    }
   ],
   "source": [
    "print(que)"
   ]
  },
  {
   "cell_type": "code",
   "execution_count": 53,
   "id": "bafc787f",
   "metadata": {},
   "outputs": [
    {
     "name": "stdout",
     "output_type": "stream",
     "text": [
      "1\n",
      "2\n",
      "3\n",
      "4\n",
      "5\n",
      "6\n",
      "7\n",
      "8\n",
      "9\n",
      "10\n",
      "11\n",
      "12\n",
      "13\n",
      "14\n",
      "15\n",
      "16\n",
      "17\n",
      "18\n",
      "19\n",
      "20\n"
     ]
    }
   ],
   "source": [
    "while que:\n",
    "    print(que.dequeue())"
   ]
  },
  {
   "cell_type": "code",
   "execution_count": 54,
   "id": "f75f0492",
   "metadata": {},
   "outputs": [
    {
     "data": {
      "text/plain": [
       "True"
      ]
     },
     "execution_count": 54,
     "metadata": {},
     "output_type": "execute_result"
    }
   ],
   "source": [
    "que.empty()"
   ]
  },
  {
   "cell_type": "markdown",
   "id": "5584e0fd",
   "metadata": {},
   "source": [
    "### Run Time Analysis\n",
    "\n",
    "- Stacks - **O(1)**\n",
    "- Queues - **O(1)**\n"
   ]
  },
  {
   "cell_type": "markdown",
   "id": "aefc21a5",
   "metadata": {},
   "source": [
    "## MAPS\n",
    "\n",
    "Python's `dict` type is an implementation of the map ADT. "
   ]
  },
  {
   "cell_type": "markdown",
   "id": "34df7ff0",
   "metadata": {},
   "source": [
    "### The Map ADT\n",
    "\n",
    "- keys\n",
    "- values\n"
   ]
  },
  {
   "cell_type": "markdown",
   "id": "b266bfe0",
   "metadata": {},
   "source": [
    "## Sets\n",
    "- Implementation"
   ]
  },
  {
   "cell_type": "code",
   "execution_count": 1,
   "id": "19135620",
   "metadata": {},
   "outputs": [],
   "source": [
    "class MySet:\n",
    "    def __init__(self):\n",
    "        self.dct = dict()\n",
    "    \n",
    "    def add(self, value):\n",
    "        self.dct[value] = None\n",
    "    \n",
    "    def __contains__(self, value):\n",
    "        return value in self.dct\n",
    "        \n",
    "    def intersection(self, other):\n",
    "        assert isinstance(other, MySet)\n",
    "        rs = MySet()\n",
    "        for x in self:\n",
    "            if x in other:\n",
    "                rs.add(x)\n",
    "        return rs\n",
    "    \n",
    "    def __iter__(self):\n",
    "        return iter(self.dct)\n",
    "            \n",
    "    def __repr__(self):\n",
    "        return '{' + ', '.join(repr(x) for x in self) + '}'"
   ]
  },
  {
   "cell_type": "code",
   "execution_count": 2,
   "id": "29e92d5a",
   "metadata": {},
   "outputs": [
    {
     "data": {
      "text/plain": [
       "{'h', 'e', 'l', 'o', ' ', 'w', 'r', 'd', '!'}"
      ]
     },
     "execution_count": 2,
     "metadata": {},
     "output_type": "execute_result"
    }
   ],
   "source": [
    "st = MySet()\n",
    "\n",
    "for c in 'hello world!':\n",
    "    st.add(c)\n",
    "\n",
    "st"
   ]
  },
  {
   "cell_type": "code",
   "execution_count": 3,
   "id": "79937b85",
   "metadata": {},
   "outputs": [
    {
     "data": {
      "text/plain": [
       "{' ', '!', 'd', 'e', 'h', 'l', 'o', 'r', 'w'}"
      ]
     },
     "execution_count": 3,
     "metadata": {},
     "output_type": "execute_result"
    }
   ],
   "source": [
    "set('hello world!')"
   ]
  },
  {
   "cell_type": "code",
   "execution_count": 6,
   "id": "b8d3bf75",
   "metadata": {},
   "outputs": [
    {
     "data": {
      "text/plain": [
       "{'h', 'e', 'l', ' ', 'w', 'r'}"
      ]
     },
     "execution_count": 6,
     "metadata": {},
     "output_type": "execute_result"
    }
   ],
   "source": [
    "st2 = MySet()\n",
    "\n",
    "for c in 'farewell earth':\n",
    "    st2.add(c)\n",
    "    \n",
    "st.intersection(st2)"
   ]
  },
  {
   "cell_type": "code",
   "execution_count": 7,
   "id": "0d1defcc",
   "metadata": {},
   "outputs": [
    {
     "data": {
      "text/plain": [
       "{' ', 'e', 'h', 'l', 'r', 'w'}"
      ]
     },
     "execution_count": 7,
     "metadata": {},
     "output_type": "execute_result"
    }
   ],
   "source": [
    "set('hello world!') & set('farewell earth')"
   ]
  },
  {
   "cell_type": "markdown",
   "id": "88692f0b",
   "metadata": {},
   "source": [
    "### Map implementation"
   ]
  },
  {
   "cell_type": "code",
   "execution_count": 9,
   "id": "00722fa5",
   "metadata": {},
   "outputs": [],
   "source": [
    "class MapDS:\n",
    "    def __init__(self):\n",
    "        self.data = []\n",
    "    \n",
    "    def __setitem__(self, key, value): # O(N)\n",
    "        for i in range(len(self.data)):\n",
    "            if key == self.data[i][0]:\n",
    "                self.data[i][1] = value\n",
    "                return\n",
    "        else:\n",
    "            self.data.append([key, value])\n",
    "    \n",
    "    def __getitem__(self, key): # O(N)\n",
    "        for k,v in self.data:\n",
    "            if k == key:\n",
    "                return v\n",
    "        else:\n",
    "            raise KeyError(key)\n",
    "            \n",
    "    def __contains__(self, key): # O(N)\n",
    "        try:\n",
    "            _ = self[key]\n",
    "            return True\n",
    "        except:\n",
    "            return False"
   ]
  },
  {
   "cell_type": "code",
   "execution_count": 10,
   "id": "e5422380",
   "metadata": {},
   "outputs": [],
   "source": [
    "m = MapDS()\n",
    "m['Theory'] = 'Algorithms'\n",
    "m['Networks'] = 'Cisco'\n",
    "m['Programming'] = 'Python'"
   ]
  },
  {
   "cell_type": "code",
   "execution_count": 11,
   "id": "505fb428",
   "metadata": {},
   "outputs": [
    {
     "data": {
      "text/plain": [
       "[['Theory', 'Algorithms'], ['Networks', 'Cisco'], ['Programming', 'Python']]"
      ]
     },
     "execution_count": 11,
     "metadata": {},
     "output_type": "execute_result"
    }
   ],
   "source": [
    "m.data"
   ]
  },
  {
   "cell_type": "code",
   "execution_count": 12,
   "id": "a5ccc4fb",
   "metadata": {},
   "outputs": [],
   "source": [
    "m['Programming'] = 'Javascript'"
   ]
  },
  {
   "cell_type": "code",
   "execution_count": 15,
   "id": "5c8755e5",
   "metadata": {},
   "outputs": [
    {
     "data": {
      "text/plain": [
       "'Javascript'"
      ]
     },
     "execution_count": 15,
     "metadata": {},
     "output_type": "execute_result"
    }
   ],
   "source": [
    "m['Programming']"
   ]
  },
  {
   "cell_type": "markdown",
   "id": "861d7d37",
   "metadata": {},
   "source": [
    "### Direct lookups via *Hashing*\n",
    "Hashes (a.k.a. hash codes or hash values) are simply numerical values computed for objects."
   ]
  },
  {
   "cell_type": "code",
   "execution_count": 14,
   "id": "d207d8b0",
   "metadata": {},
   "outputs": [
    {
     "data": {
      "text/plain": [
       "2994802708242017950"
      ]
     },
     "execution_count": 14,
     "metadata": {},
     "output_type": "execute_result"
    }
   ],
   "source": [
    "hash('hello')"
   ]
  },
  {
   "cell_type": "code",
   "execution_count": 17,
   "id": "77aaa6b2",
   "metadata": {},
   "outputs": [
    {
     "data": {
      "text/plain": [
       "4428464585345311529"
      ]
     },
     "execution_count": 17,
     "metadata": {},
     "output_type": "execute_result"
    }
   ],
   "source": [
    "hash('Programming')"
   ]
  },
  {
   "cell_type": "code",
   "execution_count": 18,
   "id": "cd0bc7ea",
   "metadata": {},
   "outputs": [
    {
     "data": {
      "text/plain": [
       "[5065442965298785354,\n",
       " -9074544127397654833,\n",
       " -829910319787190555,\n",
       " 3240584888444230640,\n",
       " 5065442965298785354,\n",
       " -1811425946254427264]"
      ]
     },
     "execution_count": 18,
     "metadata": {},
     "output_type": "execute_result"
    }
   ],
   "source": [
    "[hash(s) for s in ['different', 'objects', 'have', 'very', 'different', 'hashes']]"
   ]
  },
  {
   "cell_type": "code",
   "execution_count": 19,
   "id": "db05f8db",
   "metadata": {},
   "outputs": [
    {
     "data": {
      "text/plain": [
       "[54, 67, 45, 40, 54, 36]"
      ]
     },
     "execution_count": 19,
     "metadata": {},
     "output_type": "execute_result"
    }
   ],
   "source": [
    "[hash(s)%100 for s in ['different', 'objects', 'have', 'very', 'different', 'hashes']]"
   ]
  },
  {
   "cell_type": "markdown",
   "id": "19fc3ae3",
   "metadata": {},
   "source": [
    "## Hashtables\n",
    "\n",
    "A **hashtable** is an implementation of the map ADT that uses the hashcode for a key to compute an index into an array where the corresponding key/value pair will be stored."
   ]
  },
  {
   "cell_type": "code",
   "execution_count": 20,
   "id": "a1e9157e",
   "metadata": {},
   "outputs": [],
   "source": [
    "class Hashtable:\n",
    "    def __init__(self, n_buckets):\n",
    "        self.buckets = [None] * n_buckets\n",
    "        \n",
    "    def __setitem__(self, key, val):\n",
    "        bidx = hash(key) % len(self.buckets)\n",
    "        self.buckets[bidx] = [key, val]\n",
    "    \n",
    "    def __getitem__(self, key):\n",
    "        bidx = hash(key) % len(self.buckets)\n",
    "        if self.buckets[bidx] is not None:\n",
    "            return self.buckets[bidx][1]\n",
    "        else:\n",
    "            raise KeyError(key)\n",
    "        \n",
    "    def __contains__(self, key):\n",
    "        try:\n",
    "            _ = self[key]\n",
    "            return True\n",
    "        except:\n",
    "            return False"
   ]
  },
  {
   "cell_type": "code",
   "execution_count": 21,
   "id": "9e4b1415",
   "metadata": {},
   "outputs": [],
   "source": [
    "ht = Hashtable(1000)\n",
    "ht['Theory'] = 'Algorithms'\n",
    "ht['Networks'] = 'Cisco'\n",
    "ht['Programming'] = 'Python'"
   ]
  },
  {
   "cell_type": "code",
   "execution_count": 23,
   "id": "06ebd0dd",
   "metadata": {},
   "outputs": [
    {
     "data": {
      "text/plain": [
       "'Python'"
      ]
     },
     "execution_count": 23,
     "metadata": {},
     "output_type": "execute_result"
    }
   ],
   "source": [
    "ht['Programming']"
   ]
  },
  {
   "cell_type": "markdown",
   "id": "491b300e",
   "metadata": {},
   "source": [
    "## BST\n",
    "A binary search tree (BST) is a binary tree where each node has a Comparable key (and an associated value) and satisfies the restriction that the key in any node is larger than the keys in all nodes in that node's left subtree and smaller than the keys in all nodes in that node's right subtree.\n",
    "- A *binary tree* is a structure that is either empty, or consists of a *root* node containing a value and references to a left and right *sub-tree*, which are themselves binary trees.\n",
    "\n",
    "Naming nodes:\n",
    "- The single node in a binary tree without a parent is the root node of the tree\n",
    "- We say that a given node is the *parent* of its left and right *child* nodes; nodes with the same parent are called *siblings*\n",
    "- If a node has no children we call it a *leaf* node; otherwise, we call it an *internal* node\n",
    "\n",
    "Binary tree metrics (note: alternative defs are sometimes used!):\n",
    "\n",
    "- The *depth* of a node is the number of nodes from the root of the tree to that node (inclusive)\n",
    "- The *height* of a node is the number of nodes on the longest path from that node down to a leaf (inclusive)\n",
    "\n",
    "Categorizing binary trees:\n",
    "\n",
    "- In a *full* binary tree every node has either 0 or 2 children\n",
    "- In a *complete* binary tree all levels but the last are filled, and the last level is filled in from left to right\n",
    "- In a *perfect* binary tree all leaves have the same depth\n",
    "- In a *balanced* binary tree ... ?\n",
    "\n",
    "![](maxresdefault.jpg)"
   ]
  },
  {
   "cell_type": "code",
   "execution_count": 28,
   "id": "f95594b7",
   "metadata": {},
   "outputs": [],
   "source": [
    "class BSTree:\n",
    "    class Node:\n",
    "        def __init__(self, value, left=None, right=None):\n",
    "            self.value = value\n",
    "            self.left = left\n",
    "            self.right = right\n",
    "            \n",
    "    def __init__(self):\n",
    "        self.size = 0\n",
    "        self.root = None\n",
    "    \n",
    "    def __contains__(self, value):\n",
    "        \"\"\"Returns `True` if val is in this tree and `False` otherwise.\"\"\"\n",
    "        pass\n",
    "    \n",
    "    def add(self, value):\n",
    "        \"\"\"Adds `val` to this tree while maintaining BSTree properties.\"\"\"\n",
    "        assert val not in self\n",
    "        pass    \n",
    "\n",
    "    def __delitem__(self, value):\n",
    "        \"\"\"Removes `val` from this tree while maintaining BSTree properties.\"\"\"\n",
    "        assert val in self\n",
    "        pass\n",
    "    \n",
    "    def __iter__(self):\n",
    "        \"\"\"Returns an iterator over all the values in the tree, in ascending order.\"\"\"\n",
    "        pass\n",
    "\n",
    "    def __len__(self):\n",
    "        return self.size\n",
    "    \n",
    "    def height(self):\n",
    "        \"\"\"Returns the height of the root of the tree.\"\"\"\n",
    "        def height_rec(t):\n",
    "            if not t:\n",
    "                return 0\n",
    "            else:\n",
    "                return 1 + max(height_rec(t.left), height_rec(t.right))\n",
    "        return height_rec(self.root)\n",
    "\n",
    "    def pprint(self, width=64):\n",
    "        \"\"\"Attempts to pretty-print this tree's contents.\"\"\"\n",
    "        height = self.height()\n",
    "        nodes  = [(self.root, 0)]\n",
    "        prev_level = 0\n",
    "        repr_str = ''\n",
    "        while nodes:\n",
    "            n,level = nodes.pop(0)\n",
    "            if prev_level != level:\n",
    "                prev_level = level\n",
    "                repr_str += '\\n'\n",
    "            if not n:\n",
    "                if level < height-1:\n",
    "                    nodes.extend([(None, level+1), (None, level+1)])\n",
    "                repr_str += '{value:^{width}}'.format(value='-', width=width//2**level)\n",
    "            elif n:\n",
    "                if n.left or level < height-1:\n",
    "                    nodes.append((n.left, level+1))\n",
    "                if n.right or level < height-1:\n",
    "                    nodes.append((n.right, level+1))\n",
    "                repr_str += '{value:^{width}}'.format(value=n.value, width=width//2**level)\n",
    "        print(repr_str)"
   ]
  },
  {
   "cell_type": "code",
   "execution_count": 29,
   "id": "5a6aa8bf",
   "metadata": {},
   "outputs": [],
   "source": [
    "t = BSTree()\n",
    "t.root = BSTree.Node(5,\n",
    "                    left=BSTree.Node(2),\n",
    "                    right=BSTree.Node(10))\n",
    "t.size = 3"
   ]
  },
  {
   "cell_type": "code",
   "execution_count": 30,
   "id": "e27259b2",
   "metadata": {},
   "outputs": [
    {
     "data": {
      "text/plain": [
       "2"
      ]
     },
     "execution_count": 30,
     "metadata": {},
     "output_type": "execute_result"
    }
   ],
   "source": [
    "t.height()"
   ]
  },
  {
   "cell_type": "code",
   "execution_count": 31,
   "id": "a38cb3b0",
   "metadata": {},
   "outputs": [
    {
     "name": "stdout",
     "output_type": "stream",
     "text": [
      "                               5                                \n",
      "               2                               10               \n"
     ]
    }
   ],
   "source": [
    "t.pprint()"
   ]
  },
  {
   "cell_type": "markdown",
   "id": "79ff4689",
   "metadata": {},
   "source": [
    "### Search"
   ]
  },
  {
   "cell_type": "code",
   "execution_count": 35,
   "id": "a3844ce2",
   "metadata": {},
   "outputs": [],
   "source": [
    "class BSTree(BSTree):\n",
    "    def __contains__(self, value):\n",
    "        def contains_rec(n): # recursive helper function (can use any local vars in scope)\n",
    "            if n is None:\n",
    "                return False\n",
    "            elif value == n.value:\n",
    "                return True\n",
    "            elif value < n.value:\n",
    "                return contains_rec(n.left)\n",
    "            else:\n",
    "                return contains_rec(n.right)\n",
    "        \n",
    "        return contains_rec(self.root)"
   ]
  },
  {
   "cell_type": "code",
   "execution_count": 36,
   "id": "02d2963b",
   "metadata": {},
   "outputs": [],
   "source": [
    "t = BSTree()\n",
    "t.root = BSTree.Node(5,\n",
    "                    left=BSTree.Node(2),\n",
    "                    right=BSTree.Node(10))\n",
    "t.size = 3"
   ]
  },
  {
   "cell_type": "code",
   "execution_count": 37,
   "id": "ef669b02",
   "metadata": {},
   "outputs": [
    {
     "data": {
      "text/plain": [
       "True"
      ]
     },
     "execution_count": 37,
     "metadata": {},
     "output_type": "execute_result"
    }
   ],
   "source": [
    "10 in t"
   ]
  },
  {
   "cell_type": "markdown",
   "id": "ed9a1ce5",
   "metadata": {},
   "source": [
    "### Addition"
   ]
  },
  {
   "cell_type": "code",
   "execution_count": 39,
   "id": "77c79f1b",
   "metadata": {},
   "outputs": [],
   "source": [
    "class BSTree(BSTree):\n",
    "    def add(self, value):\n",
    "        def add_rec(n):\n",
    "            if n is None:\n",
    "                return BSTree.Node(value)\n",
    "            elif value < n.value:\n",
    "                n.left = add_rec(n.left)\n",
    "                return n\n",
    "            elif value > n.value: \n",
    "                n.right = add_rec(n.right)\n",
    "                return n\n",
    "        \n",
    "        assert value not in self # guarantees unique values\n",
    "        self.root = add_rec(self.root)\n",
    "        self.size += 1"
   ]
  },
  {
   "cell_type": "code",
   "execution_count": 40,
   "id": "2fd92afb",
   "metadata": {},
   "outputs": [
    {
     "name": "stdout",
     "output_type": "stream",
     "text": [
      "                               2                                \n",
      "               0                               4                \n",
      "       -               1               3               -        \n"
     ]
    }
   ],
   "source": [
    "import random\n",
    "t = BSTree()\n",
    "vals = list(range(5))\n",
    "random.shuffle(vals)\n",
    "for x in vals:\n",
    "    t.add(x)\n",
    "t.pprint()"
   ]
  },
  {
   "cell_type": "code",
   "execution_count": 44,
   "id": "552edfea",
   "metadata": {},
   "outputs": [],
   "source": [
    "class BSTree(BSTree):\n",
    "    def __delitem__(self, value):\n",
    "        def delitem_rec(n):\n",
    "            if value < n.value:\n",
    "                n.left = delitem_rec(n.left)\n",
    "                return n\n",
    "            elif value > n.value:\n",
    "                n.right = delitem_rec(n.right)\n",
    "                return n\n",
    "            else:\n",
    "                if n.left is None and n.right is None:\n",
    "                    return None\n",
    "                elif n.left is None and n.right is not None:\n",
    "                    return n.right\n",
    "                elif n.right is None and n.left is not None:\n",
    "                    return n.left\n",
    "                else:\n",
    "                    pass\n",
    "            \n",
    "        assert value in self\n",
    "        self.root = delitem_rec(self.root)\n",
    "        self.size -= 1"
   ]
  },
  {
   "cell_type": "code",
   "execution_count": 45,
   "id": "d16f5a55",
   "metadata": {},
   "outputs": [
    {
     "name": "stdout",
     "output_type": "stream",
     "text": [
      "                               10                               \n",
      "               5                               15               \n",
      "       2               -               -               17       \n"
     ]
    }
   ],
   "source": [
    "t = BSTree()\n",
    "for x in [10, 5, 15, 2, 17]:\n",
    "    t.add(x)\n",
    "t.pprint()"
   ]
  },
  {
   "cell_type": "code",
   "execution_count": 46,
   "id": "fd4c3632",
   "metadata": {},
   "outputs": [
    {
     "name": "stdout",
     "output_type": "stream",
     "text": [
      "                               10                               \n",
      "               5                               15               \n",
      "       -               -               -               17       \n"
     ]
    }
   ],
   "source": [
    "del t[2]\n",
    "t.pprint()"
   ]
  },
  {
   "cell_type": "code",
   "execution_count": 47,
   "id": "8e4d67c4",
   "metadata": {},
   "outputs": [
    {
     "name": "stdout",
     "output_type": "stream",
     "text": [
      "                               10                               \n",
      "               5                               15               \n",
      "       2               7               12              18       \n",
      "   1       -       -       9       -       -       -       -    \n",
      " -   -   -   -   -   -   8   -   -   -   -   -   -   -   -   -  \n"
     ]
    }
   ],
   "source": [
    "t = BSTree()\n",
    "for x in [10, 5, 2, 7, 9, 8, 1, 15, 12, 18]:\n",
    "    t.add(x)\n",
    "t.pprint()"
   ]
  },
  {
   "cell_type": "markdown",
   "id": "c6e8e7b1",
   "metadata": {},
   "source": [
    "## Runtime Complexity\n",
    "The runtime complexity of the search, add, and delete methods of the binary search tree are dependent, ultimately, on the depth of their recursive implementation. The depth of recursion is in turn dependent on the height of the binary search tree.\n",
    "\n",
    "Given $N$ nodes, the height of a binary search tree is, in the worst case = $O(N)$\n",
    "\n",
    "This gives us the following worst-case runtime complexities:\n",
    "\n",
    "- Search = $O(N)$\n",
    "- Add = $O(N)$\n",
    "- Delete = $O(N)$\n",
    "\n",
    "How can we improve this runtime complexity? What should be our target runtime complexity?"
   ]
  },
  {
   "cell_type": "markdown",
   "id": "fd3773b8",
   "metadata": {},
   "source": [
    "### Exercise 11a\n",
    "\n",
    "A perfect binary tree is a complete binary tree with all levels filled. Define a new class named MyBST that extends BST with the following method:"
   ]
  },
  {
   "cell_type": "code",
   "execution_count": 48,
   "id": "67811b31",
   "metadata": {},
   "outputs": [],
   "source": [
    "# Return True if the tree is a perfect binary tree\n",
    "def isPerfectBST(self):\n",
    "    pass"
   ]
  },
  {
   "cell_type": "markdown",
   "id": "09cf101b",
   "metadata": {},
   "source": [
    "<code>\n",
    "Sample Output\n",
    "\n",
    "Is an empty tree a perfect tree? True\n",
    "\n",
    "Enter integers in one line for tree separated by space: 9 8 7 87 78 98 9 8 7 87 78 98\n",
    "\n",
    "Is this tree perfect? False\n",
    "</code>"
   ]
  },
  {
   "cell_type": "markdown",
   "id": "ed3a693e",
   "metadata": {},
   "source": [
    "### Exercise 11a Solution"
   ]
  },
  {
   "cell_type": "code",
   "execution_count": 58,
   "id": "9820d932",
   "metadata": {},
   "outputs": [],
   "source": [
    "class MyBST(BSTree):\n",
    "    def __init__(self):\n",
    "        BSTree.__init__(self)\n",
    "        \n",
    "    # Returns the height of this binary tree, i.e., the \n",
    "    # number of the nodes in the longest path of the root to a leaf \n",
    "    def height(self):\n",
    "            return self.height1(self.root)\n",
    "    \n",
    "    def height1(self, root):\n",
    "        if root == None:\n",
    "            return -1\n",
    "        else:\n",
    "            return 1 + max(self.height1(root.left), self.height1(root.right))\n",
    "        \n",
    "    # Returns true if the tree is a perfect binary tree \n",
    "    def isPerfectBST(self):\n",
    "        return self.size == 0 or self.size == 2 ** (self.height() + 1) - 1\n"
   ]
  },
  {
   "cell_type": "code",
   "execution_count": 59,
   "id": "0017c94c",
   "metadata": {},
   "outputs": [
    {
     "name": "stdout",
     "output_type": "stream",
     "text": [
      "                               9                                \n",
      "               8                               87               \n",
      "       7               -               78              98       \n"
     ]
    }
   ],
   "source": [
    "t = BSTree()\n",
    "for x in [9, 8, 7, 87, 78, 98]:\n",
    "    t.add(x)\n",
    "t.pprint()"
   ]
  },
  {
   "cell_type": "code",
   "execution_count": 60,
   "id": "4969f045",
   "metadata": {},
   "outputs": [
    {
     "data": {
      "text/plain": [
       "True"
      ]
     },
     "execution_count": 60,
     "metadata": {},
     "output_type": "execute_result"
    }
   ],
   "source": [
    "m = MyBST()\n",
    "m.isPerfectBST()"
   ]
  },
  {
   "cell_type": "markdown",
   "id": "122a23ce",
   "metadata": {},
   "source": [
    "# Balanced BS Tree: AVL Tree\n",
    "\n",
    "There are different metrics we can use to determine whether a binary tree is balanced --- for example, we could consider the *number* of nodes on either side of a given node, the *height* of the subtrees on either side of a given node, or even the specific *configuration* of nodes in subtrees on either side of a given node (perhaps we only want to permit full or complete trees).\n",
    "\n",
    "For our purposes, we are going to define a balanced binary tree based on height. Specifically, an AVL tree (a particular type of balanced binary tree), is one where the *AVL property* holds for every node in the tree. The AVL property states that the heights of the left and right subtrees of a given node can differ by *no more than one*.\n",
    "\n",
    "An AVL tree is also *self-balancing*. I.e., whenever the AVL property may be violated by an insertion/deletion, it must be immediately fixed --- the AVL property must always hold for all nodes in the tree after completing an insertion/deletion operation. "
   ]
  },
  {
   "cell_type": "code",
   "execution_count": 65,
   "id": "7e3e08a7",
   "metadata": {},
   "outputs": [],
   "source": [
    "class AVLTree(BSTree):\n",
    "    class Node:\n",
    "        def __init__(self, value, left=None, right=None):\n",
    "            self.value = value\n",
    "            self.left = left\n",
    "            self.right = right\n",
    "\n",
    "        def rotate_right(self):\n",
    "            pass\n",
    "            \n",
    "    def add(self, value):\n",
    "        assert value not in self\n",
    "        def add_rec(node):\n",
    "            if not node:\n",
    "                return AVLTree.Node(value)\n",
    "            elif value < node.value:\n",
    "                node.left = add_rec(node.left)\n",
    "                return node\n",
    "            else:\n",
    "                node.right = add_rec(node.right)\n",
    "                return node\n",
    "        self.root = add_rec(self.root)\n",
    "        self.size += 1"
   ]
  },
  {
   "cell_type": "code",
   "execution_count": 66,
   "id": "a3e7866f",
   "metadata": {},
   "outputs": [
    {
     "name": "stdout",
     "output_type": "stream",
     "text": [
      "                               6                                \n",
      "               5                               -                \n",
      "       4               -               -               -        \n",
      "   3       -       -       -       -       -       -       -    \n",
      " 2   -   -   -   -   -   -   -   -   -   -   -   -   -   -   -  \n",
      "1 - - - - - - - - - - - - - - - - - - - - - - - - - - - - - - - \n"
     ]
    }
   ],
   "source": [
    "t = AVLTree()\n",
    "for x in range(6, 0, -1):\n",
    "    t.add(x)\n",
    "t.pprint()"
   ]
  },
  {
   "cell_type": "code",
   "execution_count": 67,
   "id": "ee7c955d",
   "metadata": {},
   "outputs": [
    {
     "name": "stdout",
     "output_type": "stream",
     "text": [
      "                               6                                \n",
      "               5                               -                \n",
      "       4               -               -               -        \n",
      "   3       -       -       -       -       -       -       -    \n",
      " 2   -   -   -   -   -   -   -   -   -   -   -   -   -   -   -  \n",
      "1 - - - - - - - - - - - - - - - - - - - - - - - - - - - - - - - \n"
     ]
    }
   ],
   "source": [
    "t.root.rotate_right()\n",
    "t.pprint()"
   ]
  },
  {
   "cell_type": "code",
   "execution_count": 68,
   "id": "ae3cae56",
   "metadata": {},
   "outputs": [
    {
     "name": "stdout",
     "output_type": "stream",
     "text": [
      "                               6                                \n",
      "               5                               -                \n",
      "       4               -               -               -        \n",
      "   3       -       -       -       -       -       -       -    \n",
      " 2   -   -   -   -   -   -   -   -   -   -   -   -   -   -   -  \n",
      "1 - - - - - - - - - - - - - - - - - - - - - - - - - - - - - - - \n"
     ]
    }
   ],
   "source": [
    "t.root.rotate_right()\n",
    "t.pprint()"
   ]
  },
  {
   "cell_type": "code",
   "execution_count": 69,
   "id": "d9171bb1",
   "metadata": {},
   "outputs": [
    {
     "name": "stdout",
     "output_type": "stream",
     "text": [
      "                               6                                \n",
      "               5                               -                \n",
      "       4               -               -               -        \n",
      "   3       -       -       -       -       -       -       -    \n",
      " 2   -   -   -   -   -   -   -   -   -   -   -   -   -   -   -  \n",
      "1 - - - - - - - - - - - - - - - - - - - - - - - - - - - - - - - \n"
     ]
    }
   ],
   "source": [
    "t.root.left.rotate_right()\n",
    "t.pprint()"
   ]
  },
  {
   "cell_type": "markdown",
   "id": "af2732ad",
   "metadata": {},
   "source": [
    "### Exercise 11b\n",
    "\n",
    "Define a new class named MyBST that extends the BST class with the following method:"
   ]
  },
  {
   "cell_type": "code",
   "execution_count": 70,
   "id": "7c97fcb0",
   "metadata": {},
   "outputs": [],
   "source": [
    "# Return True if the tree is an AVL tree\n",
    "def isAVLTree(self):\n",
    "    pass\n"
   ]
  },
  {
   "cell_type": "markdown",
   "id": "e881dbd7",
   "metadata": {},
   "source": [
    "For instance, when the following integers are entered in one line for tree separated by space: \n",
    "\n",
    "60 55 45 100 67 87 107 are inserted into the tree\n",
    "\n",
    "Sample Output\n",
    "\n",
    "<code>Is this tree an AVL tree? True</code>\n"
   ]
  },
  {
   "cell_type": "code",
   "execution_count": 71,
   "id": "56ce3462",
   "metadata": {},
   "outputs": [],
   "source": [
    "class MyBST2(BSTree):\n",
    "    def __init__(self):\n",
    "        BST.__init__(self)\n",
    "        \n",
    "    # Returns the height of this binary tree, i.e., the \n",
    "    # number of the nodes in the longest path of the root to a leaf \n",
    "    def height(self):\n",
    "            return self.height1(self.root)\n",
    "    \n",
    "    def height1(self, root):\n",
    "        if root == None:\n",
    "            return -1\n",
    "        else:\n",
    "            return 1 + max(self.height1(root.left), self.height1(root.right))\n",
    "    \n",
    "    # Returns true if the tree is an AVL tree\n",
    "    def isAVLTree(self):\n",
    "        return self.isAVLTree1(self.root)\n",
    "\n",
    "    # Returns true if the tree is an AVL tree at the specified root\n",
    "    def isAVLTree1(self, root):\n",
    "        if root == None: \n",
    "            return True\n",
    "        height1 = self.height1(root.right)\n",
    "        height2 = self.height1(root.left)\n",
    "        return self.isAVLTree1(root.left) and self.isAVLTree1(root.right) and abs(height1 - height2) <= 1\n"
   ]
  },
  {
   "cell_type": "code",
   "execution_count": null,
   "id": "07651aca",
   "metadata": {},
   "outputs": [],
   "source": []
  }
 ],
 "metadata": {
  "kernelspec": {
   "display_name": "Python 3 (ipykernel)",
   "language": "python",
   "name": "python3"
  },
  "language_info": {
   "codemirror_mode": {
    "name": "ipython",
    "version": 3
   },
   "file_extension": ".py",
   "mimetype": "text/x-python",
   "name": "python",
   "nbconvert_exporter": "python",
   "pygments_lexer": "ipython3",
   "version": "3.9.7"
  },
  "vscode": {
   "interpreter": {
    "hash": "aee8b7b246df8f9039afb4144a1f6fd8d2ca17a180786b69acc140d282b71a49"
   }
  }
 },
 "nbformat": 4,
 "nbformat_minor": 5
}
