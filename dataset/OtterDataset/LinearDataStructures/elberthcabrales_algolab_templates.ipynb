{
 "cells": [
  {
   "cell_type": "code",
   "execution_count": null,
   "metadata": {},
   "outputs": [
    {
     "data": {
      "text/plain": [
       "3"
      ]
     },
     "execution_count": 1,
     "metadata": {},
     "output_type": "execute_result"
    }
   ],
   "source": [
    "\"\"\"\n",
    "    Binary tree: DFS (recursive)\n",
    "    1448. Count Good Nodes in Binary Tree\n",
    "\n",
    "\"\"\"\n",
    "def binary_tree_dfs_recursive(root):\n",
    "    if not root:\n",
    "        return 0  # Example logic to count nodes\n",
    "\n",
    "    ans = 1  # Count the current node\n",
    "    ans += binary_tree_dfs_recursive(root.left)\n",
    "    ans += binary_tree_dfs_recursive(root.right)\n",
    "    return ans\n",
    "\n",
    "# Define a simple binary tree for testing: 1 -> (2, 3)\n",
    "class TreeNode:\n",
    "    def __init__(self, val=0, left=None, right=None):\n",
    "        self.val = val\n",
    "        self.left = left\n",
    "        self.right = right\n",
    "\n",
    "# Creating the binary tree: \n",
    "#         1\n",
    "#        / \\\n",
    "#       2   3\n",
    "root = TreeNode(1)\n",
    "root.left = TreeNode(2)\n",
    "root.right = TreeNode(3)\n",
    "\n",
    "# Test case for the binary_tree_dfs_recursive function\n",
    "output_binary_tree_dfs_recursive = binary_tree_dfs_recursive(root)\n",
    "output_binary_tree_dfs_recursive\n"
   ]
  },
  {
   "cell_type": "code",
   "execution_count": null,
   "metadata": {},
   "outputs": [],
   "source": [
    "\"\"\"\n",
    "    Binary tree: DFS (iterative)\n",
    "\"\"\"\n",
    "def binary_tree_dfs_iterative(root):\n",
    "    if not root:\n",
    "        return 0  # Example logic to count nodes\n",
    "\n",
    "    stack = [root]\n",
    "    count = 0  # Counter for nodes\n",
    "\n",
    "    while stack:\n",
    "        node = stack.pop()\n",
    "        count += 1  # Process the current node\n",
    "\n",
    "        if node.right:\n",
    "            stack.append(node.right)\n",
    "        if node.left:\n",
    "            stack.append(node.left)\n",
    "\n",
    "    return count\n",
    "\n",
    "# Creating the binary tree: \n",
    "#         1\n",
    "#        / \\\n",
    "#       2   3\n",
    "root = TreeNode(1)\n",
    "root.left = TreeNode(2)\n",
    "root.right = TreeNode(3)\n",
    "\n",
    "# Test case for the binary_tree_dfs_iterative function\n",
    "output_binary_tree_dfs_iterative = binary_tree_dfs_iterative(root)\n",
    "output_binary_tree_dfs_iterative\n"
   ]
  },
  {
   "cell_type": "code",
   "execution_count": null,
   "metadata": {},
   "outputs": [
    {
     "data": {
      "text/plain": [
       "3"
      ]
     },
     "execution_count": 2,
     "metadata": {},
     "output_type": "execute_result"
    }
   ],
   "source": [
    "\"\"\"\n",
    "    Binary tree: BFS\n",
    "    where to use it?\n",
    "    199. Binary Tree Right Side View\n",
    "    1302. Deepest Leaves Sum\n",
    "    102. Binary Tree Level Order Traversal\n",
    "\"\"\"\n",
    "from collections import deque\n",
    "\n",
    "def binary_tree_bfs(root):\n",
    "    if not root:\n",
    "        return 0  # Example logic to count nodes\n",
    "\n",
    "    queue = deque([root])\n",
    "    count = 0  # Counter for nodes\n",
    "\n",
    "    while queue:\n",
    "        current_length = len(queue)\n",
    "        for _ in range(current_length):\n",
    "            node = queue.popleft()\n",
    "            count += 1  # Process the current node\n",
    "\n",
    "            if node.left:\n",
    "                queue.append(node.left)\n",
    "            if node.right:\n",
    "                queue.append(node.right)\n",
    "\n",
    "    return count\n",
    "\n",
    "# Creating the binary tree: \n",
    "#         1\n",
    "#        / \\\n",
    "#       2   3\n",
    "root = TreeNode(1)\n",
    "root.left = TreeNode(2)\n",
    "root.right = TreeNode(3)\n",
    "\n",
    "# Test case for the binary_tree_bfs function\n",
    "output_binary_tree_bfs = binary_tree_bfs(root)\n",
    "output_binary_tree_bfs\n"
   ]
  },
  {
   "cell_type": "code",
   "execution_count": 2,
   "metadata": {},
   "outputs": [
    {
     "data": {
      "text/plain": [
       "0"
      ]
     },
     "execution_count": 2,
     "metadata": {},
     "output_type": "execute_result"
    }
   ],
   "source": [
    "#Conver Sorted List to binary seach Tree\n",
    "# Definition for singly-linked list.\n",
    "class ListNode:\n",
    "     def __init__(self, val=0, next=None):\n",
    "         self.val = val\n",
    "         self.next = next\n",
    "# Definition for a binary tree node.\n",
    "from typing import Optional\n",
    "\n",
    "\n",
    "class TreeNode:\n",
    "    def __init__(self, val=0, left=None, right=None):\n",
    "         self.val = val\n",
    "         self.left = left\n",
    "         self.right = right\n",
    "class Solution:\n",
    "    def sortedListToBST(self, head: Optional[ListNode]) -> Optional[TreeNode]:\n",
    "        \"\"\"\n",
    "            fill an array with the linked list\n",
    "        \"\"\"\n",
    "        nums = []\n",
    "        while head:\n",
    "            nums.append(head.val)\n",
    "            head = head.next\n",
    "        # TO DOCUMENT THIS PART\n",
    "        def createTree(left: int, right: int):\n",
    "            if left > right:\n",
    "                return None\n",
    "            \n",
    "            mid = (left + right) // 2\n",
    "            root = TreeNode(nums[mid])\n",
    "            root.left = createTree(left, mid - 1)\n",
    "            root.right = createTree(mid + 1, right)\n",
    "\n",
    "            return root\n",
    "        \n",
    "        return createTree(0, len(nums) - 1)\n",
    "\n",
    "# Test case for the sortedListToBST function\n",
    "head = ListNode(-10)\n",
    "head.next = ListNode(-3)\n",
    "head.next.next = ListNode(0)\n",
    "head.next.next.next = ListNode(5)\n",
    "head.next.next.next.next = ListNode(9)\n",
    "\n",
    "solution = Solution()\n",
    "output_sortedListToBST = solution.sortedListToBST(head)\n",
    "output_sortedListToBST.val\n",
    "\n",
    "    "
   ]
  },
  {
   "cell_type": "code",
   "execution_count": 3,
   "metadata": {},
   "outputs": [
    {
     "data": {
      "text/plain": [
       "[[3], [20, 9], [15]]"
      ]
     },
     "execution_count": 3,
     "metadata": {},
     "output_type": "execute_result"
    }
   ],
   "source": [
    "#BSF\n",
    "# Definition for a binary tree node.\n",
    "# class TreeNode:\n",
    "#     def __init__(self, val=0, left=None, right=None):\n",
    "#         self.val = val\n",
    "#         self.left = left\n",
    "#         self.right = right\n",
    "from collections import deque\n",
    "from typing import List\n",
    "\n",
    "class Solution:\n",
    "    def zigzagLevelOrder(self, root: Optional[TreeNode]) -> List[List[int]]:\n",
    "        zigzag_levels = []\n",
    "        if root is None:\n",
    "            return zigzag_levels\n",
    "        \n",
    "        queue = deque([root])\n",
    "        zigzag = False\n",
    "\n",
    "        while queue:\n",
    "            length = len(queue)\n",
    "            current_level = deque()\n",
    "            for _ in range(length):\n",
    "                node = queue.popleft()\n",
    "\n",
    "                if zigzag:\n",
    "                    current_level.appendleft(node.val)\n",
    "                else:\n",
    "                    current_level.append(node.val)\n",
    "\n",
    "                if node.left:\n",
    "                    queue.append(node.left)\n",
    "                if node.right:\n",
    "                    queue.append(node.right)\n",
    "                \n",
    "            zigzag = not zigzag\n",
    "            \n",
    "            zigzag_levels.append(list(current_level))\n",
    "\n",
    "        return zigzag_levels\n",
    "\n",
    "# Test case for the zigzagLevelOrder function\n",
    "root = TreeNode(3)\n",
    "root.left = TreeNode(9)\n",
    "root.right = TreeNode(20)\n",
    "root.right.left = TreeNode(15)\n",
    "\n",
    "solution = Solution()\n",
    "output_zigzagLevelOrder = solution.zigzagLevelOrder(root)\n",
    "output_zigzagLevelOrder"
   ]
  },
  {
   "cell_type": "code",
   "execution_count": null,
   "metadata": {},
   "outputs": [],
   "source": []
  }
 ],
 "metadata": {
  "kernelspec": {
   "display_name": "myenv",
   "language": "python",
   "name": "python3"
  },
  "language_info": {
   "codemirror_mode": {
    "name": "ipython",
    "version": 3
   },
   "file_extension": ".py",
   "mimetype": "text/x-python",
   "name": "python",
   "nbconvert_exporter": "python",
   "pygments_lexer": "ipython3",
   "version": "3.12.7"
  }
 },
 "nbformat": 4,
 "nbformat_minor": 2
}
