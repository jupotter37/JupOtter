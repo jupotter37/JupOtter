{
 "cells": [
  {
   "cell_type": "markdown",
   "metadata": {},
   "source": [
    "# Chapter 09: Data structures in Python\n",
    "___"
   ]
  },
  {
   "cell_type": "markdown",
   "metadata": {},
   "source": [
    "## 1. array (数组)\n",
    "\n",
    "### 1.1 concepts (关于数组的简单知识)\n",
    "\n",
    "- A collection of elements with each identified by an index (0-based) or key: `numbers[i]`\n",
    "\n",
    "- Random access is possible due to the indexes： `__getitem__(index)`\n",
    "\n",
    "- Two-dimensional arrays can be used to represent matrixes, which are useful in scientific computation: `numbers[i][j]`\n",
    "\n",
    "- Dynamical array (动态数组)： if the size of array is changeable\n",
    "\n",
    "- Application: lookup tables (检索表)/ hashtables (哈希表), heaps (堆)\n",
    "\n",
    "- It is NOT possible to store items of different types."
   ]
  },
  {
   "cell_type": "markdown",
   "metadata": {},
   "source": [
    "### 1.2 add(为数组添加元素): $\\mathcal{O}(1)$\n",
    "\n",
    "We can add items to the array as far as the array is NOT FULL: `add(value)`"
   ]
  },
  {
   "cell_type": "markdown",
   "metadata": {},
   "source": [
    "### 1.3 insert (插入元素): $\\mathcal{O}(N)$\n",
    "\n",
    "We can insert a given values with a given index: `insert(value, index)` "
   ]
  },
  {
   "cell_type": "markdown",
   "metadata": {},
   "source": [
    "### 1.4 remove (删除元素)\n",
    "\n",
    "- remove the last item (`removeLast()`): $\\mathcal{O}(1)$\n",
    "\n",
    "- remove an item with a given index (`remove(index)`): $\\mathcal{O}(N)$"
   ]
  },
  {
   "cell_type": "markdown",
   "metadata": {},
   "source": [
    "### 1.5 array example"
   ]
  },
  {
   "cell_type": "code",
   "execution_count": null,
   "metadata": {
    "collapsed": false
   },
   "outputs": [],
   "source": [
    "nums = [1, 2, 3, 4, 5]\n",
    "nums.append(6)               # add item\n",
    "print nums[1]                # access items\n",
    "nums.insert(2, 9)            # insertion\n",
    "print nums[2]\n",
    "nums.pop()                   # deletion last\n",
    "print nums\n",
    "nums.pop(3)                  # deletion given an index\n",
    "print nums"
   ]
  },
  {
   "cell_type": "code",
   "execution_count": null,
   "metadata": {
    "collapsed": false
   },
   "outputs": [],
   "source": [
    "nums = [[], []]\n",
    "nums[0] = range(10)\n",
    "nums[1] = range(10, 20)\n",
    "print nums\n",
    "print nums[1][6]\n",
    "nums.append(range(50,60))\n",
    "print nums[2]"
   ]
  },
  {
   "cell_type": "markdown",
   "metadata": {},
   "source": [
    "## 2. Singly linked list (单向链表)\n",
    "\n",
    "- A singly linked list is comprised of nodes and references/pointers pointing from one node to the other.\n",
    "\n",
    "- The last node points to a NULL.\n",
    "\n",
    "- Once we are given the first node (head), we can easily traverse the singly linked list."
   ]
  },
  {
   "cell_type": "markdown",
   "metadata": {},
   "source": [
    "### 2.1 Initializing a linked list"
   ]
  },
  {
   "cell_type": "code",
   "execution_count": null,
   "metadata": {
    "collapsed": true
   },
   "outputs": [],
   "source": [
    "# Node class\n",
    "class Node:\n",
    "  \n",
    "    # Function to initialize the node object\n",
    "    def __init__(self, data):\n",
    "        self.data = data  # Assign data\n",
    "        self.next = None  # Initialize next as null\n",
    "  \n",
    "# Linked List class\n",
    "class LinkedList:\n",
    "    \n",
    "    # Function to initialize the Linked List object\n",
    "    def __init__(self): \n",
    "        self.head = None"
   ]
  },
  {
   "cell_type": "markdown",
   "metadata": {},
   "source": [
    "### 2.2 add nodes to a singly linked list"
   ]
  },
  {
   "cell_type": "code",
   "execution_count": null,
   "metadata": {
    "collapsed": false
   },
   "outputs": [],
   "source": [
    "# Start with the empty list\n",
    "llist = LinkedList()\n",
    " \n",
    "llist.head  = Node(1)\n",
    "second = Node(2)\n",
    "third  = Node(3)\n",
    " \n",
    "'''\n",
    "Three nodes have been created.\n",
    "We have references to these three blocks as first,\n",
    "second and third\n",
    " \n",
    "llist.head        second              third\n",
    "         |                |                  |\n",
    "         |                |                  |\n",
    "    +----+------+     +----+------+     +----+------+\n",
    "    | 1  | None |     | 2  | None |     |  3 | None |\n",
    "    +----+------+     +----+------+     +----+------+\n",
    "'''\n",
    " \n",
    "llist.head.next = second; # Link first node with second \n",
    " \n",
    "'''\n",
    "Now next of first Node refers to second.  So they\n",
    "both are linked.\n",
    " \n",
    "    llist.head        second              third\n",
    "         |                |                  |\n",
    "         |                |                  |\n",
    "    +----+------+     +----+------+     +----+------+\n",
    "    | 1  |  o-------->| 2  | null |     |  3 | null |\n",
    "    +----+------+     +----+------+     +----+------+ \n",
    "'''\n",
    " \n",
    "second.next = third; # Link second node with the third node\n",
    " \n",
    "'''\n",
    "Now next of second Node refers to third.  So all three\n",
    "nodes are linked.\n",
    " \n",
    "    llist.head        second              third\n",
    "         |                |                  |\n",
    "         |                |                  |\n",
    "    +----+------+     +----+------+     +----+------+\n",
    "    | 1  |  o-------->| 2  |  o-------->|  3 | null |\n",
    "    +----+------+     +----+------+     +----+------+ \n",
    "    '''"
   ]
  },
  {
   "cell_type": "markdown",
   "metadata": {},
   "source": [
    "### 2.3 Insertion\n",
    "\n",
    "- Insert a node at the beginning: $\\mathcal{O}(1)$\n",
    "\n",
    "- Insert a node after a given node: $\\mathcal{O}(N)$\n",
    "\n",
    "- Insert a node at the end: $\\mathcal{O}(N)$"
   ]
  },
  {
   "cell_type": "code",
   "execution_count": null,
   "metadata": {
    "collapsed": false
   },
   "outputs": [],
   "source": [
    "# Node class\n",
    "class Node:\n",
    " \n",
    "    # Function to initialise the node object\n",
    "    def __init__(self, data):\n",
    "        self.data = data  # Assign data\n",
    "        self.next = None  # Initialize next as null\n",
    " \n",
    " \n",
    "# Linked List class contains a Node object\n",
    "class LinkedList:\n",
    " \n",
    "    # Function to initialize head\n",
    "    def __init__(self):\n",
    "        self.head = None\n",
    " \n",
    " \n",
    "    # Functio to insert a new node at the beginning\n",
    "    def push(self, new_data):\n",
    " \n",
    "        # 1 & 2: Allocate the Node &\n",
    "        #        Put in the data\n",
    "        new_node = Node(new_data)\n",
    " \n",
    "        # 3. Make next of new Node as head\n",
    "        new_node.next = self.head\n",
    " \n",
    "        # 4. Move the head to point to new Node\n",
    "        self.head = new_node\n",
    " \n",
    " \n",
    "    # This function is in LinkedList class. Inserts a\n",
    "    # new node after the given prev_node. This method is\n",
    "    # defined inside LinkedList class shown above */\n",
    "    def insertAfter(self, prev_node, new_data):\n",
    " \n",
    "        # 1. check if the given prev_node exists\n",
    "        if prev_node is None:\n",
    "            print \"The given previous node must inLinkedList.\"\n",
    "            return\n",
    " \n",
    "        #  2. create new node &\n",
    "        #      Put in the data\n",
    "        new_node = Node(new_data)\n",
    " \n",
    "        # 4. Make next of new Node as next of prev_node\n",
    "        new_node.next = prev_node.next\n",
    " \n",
    "        # 5. make next of prev_node as new_node\n",
    "        prev_node.next = new_node\n",
    " \n",
    " \n",
    "    # This function is defined in Linked List class\n",
    "    # Appends a new node at the end.  This method is\n",
    "    # defined inside LinkedList class shown above */\n",
    "    def append(self, new_data):\n",
    " \n",
    "        # 1. Create a new node\n",
    "        # 2. Put in the data\n",
    "        # 3. Set next as None\n",
    "        new_node = Node(new_data)\n",
    " \n",
    "        # 4. If the Linked List is empty, then make the\n",
    "        #    new node as head\n",
    "        if self.head is None:\n",
    "            self.head = new_node\n",
    "            return\n",
    " \n",
    "        # 5. Else traverse till the last node\n",
    "        last = self.head\n",
    "        while (last.next):\n",
    "            last = last.next\n",
    " \n",
    "        # 6. Change the next of last node\n",
    "        last.next =  new_node\n",
    " \n",
    " \n",
    "    # Utility function to print the linked list\n",
    "    def printList(self):\n",
    "        temp = self.head\n",
    "        while (temp):\n",
    "            print temp.data,\n",
    "            temp = temp.next\n",
    " \n",
    "# Start with the empty list\n",
    "llist = LinkedList()\n",
    " \n",
    "# Insert 6.  So linked list becomes 6->None\n",
    "llist.append(6)\n",
    " \n",
    "# Insert 7 at the beginning. So linked list becomes 7->6->None\n",
    "llist.push(7);\n",
    " \n",
    "# Insert 1 at the beginning. So linked list becomes 1->7->6->None\n",
    "llist.push(1);\n",
    " \n",
    "# Insert 4 at the end. So linked list becomes 1->7->6->4->None\n",
    "llist.append(4)\n",
    " \n",
    "# Insert 8, after 7. So linked list becomes 1 -> 7-> 8-> 6-> 4-> None\n",
    "llist.insertAfter(llist.head.next, 8)\n",
    " \n",
    "print 'Created linked list is:',\n",
    "llist.printList()"
   ]
  },
  {
   "cell_type": "markdown",
   "metadata": {},
   "source": [
    "### 2.4 Deletion\n",
    "\n",
    "- Delte from the beginning\n",
    "\n",
    "- Delete at the end\n",
    "\n",
    "- Delete a given node"
   ]
  },
  {
   "cell_type": "code",
   "execution_count": null,
   "metadata": {
    "collapsed": false
   },
   "outputs": [],
   "source": [
    "# Python program to delete a node from linked list\n",
    " \n",
    "# Node class \n",
    "class Node:\n",
    " \n",
    "    # Constructor to initialize the node object\n",
    "    def __init__(self, data):\n",
    "        self.data = data\n",
    "        self.next = None\n",
    " \n",
    "class LinkedList:\n",
    " \n",
    "    # Function to initialize head\n",
    "    def __init__(self, head=None):\n",
    "        self.head = head\n",
    " \n",
    "    # Function to insert a new node at the beginning\n",
    "    def push(self, new_data):\n",
    "        new_node = Node(new_data)\n",
    "        new_node.next = self.head\n",
    "        self.head = new_node\n",
    " \n",
    "    # Given a reference to the head of a list and a key,\n",
    "    # delete the first occurence of key in linked list\n",
    "    def deleteNode(self, key):\n",
    "         \n",
    "        # Store head node\n",
    "        temp = self.head\n",
    " \n",
    "        # If head node itself holds the key to be deleted\n",
    "        if (temp is not None):\n",
    "            if (temp.data == key):\n",
    "                self.head = temp.next\n",
    "                temp = None\n",
    "                return\n",
    " \n",
    "        # Search for the key to be deleted, keep track of the\n",
    "        # previous node as we need to change 'prev.next'\n",
    "        while(temp is not None):\n",
    "            if temp.data == key:\n",
    "                break\n",
    "            prev = temp\n",
    "            temp = temp.next\n",
    " \n",
    "        # if key was not present in linked list\n",
    "        if(temp == None):\n",
    "            return\n",
    " \n",
    "        # Unlink the node from linked list\n",
    "        prev.next = temp.next\n",
    " \n",
    "        temp = None\n",
    " \n",
    " \n",
    "    # Utility function to print the linked LinkedList\n",
    "    def printList(self):\n",
    "        temp = self.head\n",
    "        while(temp):\n",
    "            print \" %d\" %(temp.data),\n",
    "            temp = temp.next\n",
    " \n",
    " \n",
    "# Driver program\n",
    "a = Node(7)\n",
    "llist = LinkedList(a)\n",
    "llist.push(1)\n",
    "llist.push(3)\n",
    "llist.push(2)\n",
    " \n",
    "print \"Created Linked List: \"\n",
    "llist.printList()\n",
    "llist.deleteNode(1) \n",
    "print \"\\nLinked List after Deletion of 1:\"\n",
    "llist.printList()"
   ]
  },
  {
   "cell_type": "markdown",
   "metadata": {},
   "source": [
    "### 2.5 Traverse a singly linked list"
   ]
  },
  {
   "cell_type": "code",
   "execution_count": null,
   "metadata": {
    "collapsed": true
   },
   "outputs": [],
   "source": [
    "# Linked List class contains a Node object\n",
    "class LinkedList:\n",
    " \n",
    "    # Function to initialize head\n",
    "    def __init__(self, head):\n",
    "        self.head = head\n",
    " \n",
    "    # This function prints contents of linked list\n",
    "    # starting from head\n",
    "    def printList(self):\n",
    "        temp = self.head\n",
    "        while (temp):\n",
    "            print temp.data,\n",
    "            temp = temp.next"
   ]
  },
  {
   "cell_type": "code",
   "execution_count": null,
   "metadata": {
    "collapsed": false
   },
   "outputs": [],
   "source": [
    "llist.printList()"
   ]
  },
  {
   "cell_type": "markdown",
   "metadata": {},
   "source": [
    "### 2.6 Linked list versus arrays\n",
    "\n",
    "#### (1) Advantages\n",
    "- Dynamic size\n",
    "- Easy implementation of insertion/deletion\n",
    "\n",
    "#### (2) Disadvantages\n",
    "- Since random access is not allowed, the implementation of searching is more costly.\n",
    "- Extra memory is required for reference/pointer."
   ]
  },
  {
   "cell_type": "markdown",
   "metadata": {},
   "source": [
    "### $\\S$ Exercise 1\n",
    "\n",
    "Write a function `rev` to reverse the singly linked list in place."
   ]
  },
  {
   "cell_type": "code",
   "execution_count": null,
   "metadata": {
    "collapsed": true
   },
   "outputs": [],
   "source": [
    "def rev(llist):\n",
    "    \n",
    "    current = llist.head\n",
    "    previous = None\n",
    "    nextNode = None\n",
    "    \n",
    "    while current:\n",
    "        \n",
    "        nextNode = current.next\n",
    "        current.next = previous\n",
    "        previous = current\n",
    "        current = nextNode\n",
    "        \n",
    "    return LinkedList(previous)"
   ]
  },
  {
   "cell_type": "code",
   "execution_count": null,
   "metadata": {
    "collapsed": false
   },
   "outputs": [],
   "source": [
    "revlist = rev(llist)\n",
    "revlist.printList()"
   ]
  },
  {
   "cell_type": "markdown",
   "metadata": {},
   "source": [
    "## 3. Doubly linked list (双向链表)\n",
    "\n",
    "- In a doubly linked list, each node keeps an extra reference to the node before it (`prev`), and a reference to the node after it (`next`) as in singly linked list.\n",
    "\n",
    "- Allow for a more efficient implementation of both `insertion` and `deletion`.\n",
    "\n",
    "- Two dummy nodes:\n",
    "    + header: at the beginning of the list\n",
    "    + trailer: at the end of the list"
   ]
  },
  {
   "cell_type": "code",
   "execution_count": null,
   "metadata": {
    "collapsed": true
   },
   "outputs": [],
   "source": [
    "class DoublyLinkedNode(object):\n",
    "    def __init__(self, value):\n",
    "        self.value = value\n",
    "        self.next = None\n",
    "        self.prev = None"
   ]
  },
  {
   "cell_type": "code",
   "execution_count": null,
   "metadata": {
    "collapsed": true
   },
   "outputs": [],
   "source": [
    "a = DoublyLinkedNode(1)\n",
    "b = DoublyLinkedNode(2)\n",
    "c = DoublyLinkedNode(3)\n",
    "a.next = b\n",
    "b.prev = a\n",
    "b.next = c\n",
    "c.prev = b"
   ]
  },
  {
   "cell_type": "code",
   "execution_count": null,
   "metadata": {
    "collapsed": true
   },
   "outputs": [],
   "source": [
    "class DoublyLinkedList(object):\n",
    "    def __init__(self, head=None, tail=None):\n",
    "        self.head = head\n",
    "        self.tail = tail\n",
    "        \n",
    "    def push(self, newValue):\n",
    "        newNode = DoublyLinkedNode(newValue)\n",
    "        \n",
    "        if self.head:\n",
    "            newNode.next = self.head\n",
    "            self.head.prev = newNode\n",
    "            \n",
    "        self.head = newNode\n",
    "        \n",
    "    def insertAfter(self, previous, newValue):\n",
    "        assert previous is not None, \"The node to insert cannot be NULL\"\n",
    "        newNode = DoublyLinkedNode(newValue)\n",
    "        nextNode = previous.next\n",
    "        newNode.prev = previous\n",
    "        newNode.next = nextNode\n",
    "        previous.next = newNode\n",
    "        \n",
    "        if nextNode is not None:\n",
    "            nextNode.prev = newNode\n",
    "            \n",
    "    def append(self, newValue):\n",
    "        newNode = DoublyLinkedNode(newValue)\n",
    "        newNode.next = None\n",
    "        \n",
    "        if self.head is None:\n",
    "            newNode.prev = None\n",
    "            self.head = newNode\n",
    "            \n",
    "        last = self.head\n",
    "        while last.next:\n",
    "            last = last.next\n",
    "            \n",
    "        last.next = newNode\n",
    "        newNode.prev = last\n",
    "        \n",
    "    def traverse(self):\n",
    "        temp = self.head\n",
    "        \n",
    "        while temp:\n",
    "            print temp.value\n",
    "            temp = temp.next"
   ]
  },
  {
   "cell_type": "code",
   "execution_count": null,
   "metadata": {
    "collapsed": false
   },
   "outputs": [],
   "source": [
    "dllist = DoublyLinkedList(a)\n",
    "dllist.traverse()"
   ]
  },
  {
   "cell_type": "markdown",
   "metadata": {},
   "source": [
    "### $\\S$Exercise 2\n",
    "\n",
    "Doubly linked list can be traversed starting from any element. Please write a method for the doubly linked list to implement the traversion, with the element as the second argument."
   ]
  },
  {
   "cell_type": "markdown",
   "metadata": {},
   "source": [
    "Besides the singly linked list and doubly linked list, we also have circular linked list (环状链表)."
   ]
  },
  {
   "cell_type": "markdown",
   "metadata": {},
   "source": [
    "## 4. Stack (栈)\n",
    "\n",
    "Stack is a linear data structure which follows a particular order in which the operations are performed. The order may be LIFO(Last In First Out， 后进先出) or FILO(First In Last Out， 先进后出).\n",
    "\n",
    "The basic operations on a stack include:\n",
    "- __`push()`：压入栈__\n",
    "- __`pop()`：弹出栈__\n",
    "- __`peek()`：查看栈顶__\n",
    "\n",
    "The operations are all taking place at one end -- which is referred to as the `top`, while the other end is called the `base`. "
   ]
  },
  {
   "cell_type": "code",
   "execution_count": null,
   "metadata": {
    "collapsed": true
   },
   "outputs": [],
   "source": [
    "class Stack(object):\n",
    "    def __init__(self, items=[]):\n",
    "        self.items = items\n",
    "        \n",
    "    def isEmpty(self):\n",
    "        return len(self.items) == 0\n",
    "    \n",
    "    def push(self, item):\n",
    "        self.items.append(item)\n",
    "        \n",
    "    def pop(self):\n",
    "        return self.items.pop()\n",
    "        \n",
    "    def peek(self):\n",
    "        return self.items[-1]\n",
    "    \n",
    "    def size(self):\n",
    "        return len(self.items)"
   ]
  },
  {
   "cell_type": "code",
   "execution_count": null,
   "metadata": {
    "collapsed": false
   },
   "outputs": [],
   "source": [
    "s = Stack()\n",
    "print s.isEmpty()\n",
    "s.push(2)\n",
    "s.push(5)\n",
    "s.push(6)\n",
    "s.push(9)\n",
    "s.pop()\n",
    "s.peek()\n",
    "print s.size()"
   ]
  },
  {
   "cell_type": "markdown",
   "metadata": {},
   "source": [
    "### $\\S$Exercise 3\n",
    "\n",
    "Here we implement stack using the ArrayList. In fact, the stack can also be implemented using LinkedList. Can you figure out how?"
   ]
  },
  {
   "cell_type": "markdown",
   "metadata": {},
   "source": [
    "## 5. Queue (队列)\n",
    "\n",
    "Queue is an __FIFO (first-in-first-out, 先进先出)__ linear data structure.\n",
    "\n",
    "For a queue, there are two terms:\n",
    "\n",
    "- The __enqueue (入队)__ term describes when we add a new term to the `rear` of the queue.\n",
    "\n",
    "- The __dequeue (出队)__ term describes when we remove the `front` item from the queue."
   ]
  },
  {
   "cell_type": "code",
   "execution_count": null,
   "metadata": {
    "collapsed": true
   },
   "outputs": [],
   "source": [
    "class Queue(object):\n",
    "    \n",
    "    def __init__(self):\n",
    "        self.items = []\n",
    "        \n",
    "    def isEmpty(self):\n",
    "        return self.items == []\n",
    "    \n",
    "    def enqueue(self, item):\n",
    "        self.items.insert(0, item)\n",
    "        \n",
    "    def dequeue(self):\n",
    "        return self.items.pop()\n",
    "    \n",
    "    def size(self):\n",
    "        return len(self.items)"
   ]
  },
  {
   "cell_type": "markdown",
   "metadata": {},
   "source": [
    "## 6. Deque (双向队列): Double-ended queue\n",
    "\n",
    "The deque has two ends: the `front` and the `rear`. What makes deque different is the unrestrictive nature of adding and removing items. New items can be added at either the `font` or the `gear` end.\n",
    "\n",
    "In a sense, this hybrid linear data structure provides all the capabilities of stacks and queues in a single data structure."
   ]
  },
  {
   "cell_type": "code",
   "execution_count": null,
   "metadata": {
    "collapsed": true
   },
   "outputs": [],
   "source": [
    "class Deque(object):\n",
    "    \n",
    "    def __init__(self):\n",
    "        self.items = []\n",
    "    \n",
    "    def isEmpty(self):\n",
    "        return self.items == []\n",
    "    \n",
    "    def addRear(self, item):\n",
    "        self.items.insert(0, item)\n",
    "    \n",
    "    def addFront(self, item):\n",
    "        self.items.append(item)\n",
    "    \n",
    "    def removeRear(self):\n",
    "        return self.items.pop(0)\n",
    "    \n",
    "    def removeFront(self):\n",
    "        return self.items.pop()\n",
    "    \n",
    "    def size(self):\n",
    "        return len(self.items)"
   ]
  },
  {
   "cell_type": "code",
   "execution_count": null,
   "metadata": {
    "collapsed": false
   },
   "outputs": [],
   "source": [
    "d = Deque()\n",
    "d.addFront(2)\n",
    "d.addFront(3)\n",
    "d.addRear(1)\n",
    "d.addRear(4)\n",
    "print d.items"
   ]
  },
  {
   "cell_type": "code",
   "execution_count": null,
   "metadata": {
    "collapsed": false
   },
   "outputs": [],
   "source": [
    "print d.removeFront()"
   ]
  },
  {
   "cell_type": "code",
   "execution_count": null,
   "metadata": {
    "collapsed": false
   },
   "outputs": [],
   "source": [
    "print d.removeRear()\n",
    "print d.items"
   ]
  },
  {
   "cell_type": "markdown",
   "metadata": {},
   "source": [
    "### $\\S$Exercise 4\n",
    "\n",
    "Given a string of opening and closing parentheses, check whether it’s balanced.\n",
    "\n",
    "We have 3 types of parentheses: round brackets: (), square brackets: [], and curly brackets: {}. Assume that the string doesn’t contain any other character than these, no spaces words or numbers. As a reminder, balanced parentheses require every opening parenthesis to be closed in the reverse order opened. For example '([])', '()[]' are balanced but '([)]' is not.\n",
    "\n",
    "You can assume the input string has no spaces."
   ]
  },
  {
   "cell_type": "code",
   "execution_count": null,
   "metadata": {
    "collapsed": true
   },
   "outputs": [],
   "source": [
    "def check_balance(s):\n",
    "    if len(s) % 2 != 0:\n",
    "        return False\n",
    "    \n",
    "    opening = list('{[(')\n",
    "    closing = list('}])')\n",
    "    matches = set(zip(opening, closing))\n",
    "    \n",
    "    stack = []\n",
    "    \n",
    "    for symbol in s:\n",
    "        if symbol in opening:\n",
    "            stack.append(symbol)\n",
    "        \n",
    "        elif symbol in closing:\n",
    "            if len(stack) == 0:\n",
    "                return False\n",
    "            top_item = stack.pop()\n",
    "            if (top_item, symbol) not in matches:\n",
    "                return False\n",
    "    return len(stack) == 0            "
   ]
  },
  {
   "cell_type": "markdown",
   "metadata": {},
   "source": [
    "The following scripts are used to check if your solution is ok:"
   ]
  },
  {
   "cell_type": "code",
   "execution_count": null,
   "metadata": {
    "collapsed": false
   },
   "outputs": [],
   "source": [
    "from nose.tools import assert_equal\n",
    "\n",
    "class TestBalanceCheck(object):\n",
    "    \n",
    "    def check(self,sol):\n",
    "        assert_equal(sol('[](){([[[]]])}('),False)\n",
    "        assert_equal(sol('[{{{(())}}}]((()))'),True)\n",
    "        assert_equal(sol('[[[]])]'),False)\n",
    "        print 'ALL TEST CASES PASSED'\n",
    "        \n",
    "# Run Tests\n",
    "\n",
    "t = TestBalanceCheck()\n",
    "t.check(check_balance)"
   ]
  },
  {
   "cell_type": "markdown",
   "metadata": {},
   "source": [
    "## 7. Trees\n",
    "\n",
    "A tree data structure has a __root (根)__, __branches (枝)__ and leaves (叶).\n",
    "\n",
    "The difference between natural tree and tree in computer science lies in that the tree data structure has __root at its top__, and __leaves at its bottom__.\n",
    "\n",
    "The real tree data structure examples include `directory tree`, `Species tree`, `xml` and etc."
   ]
  },
  {
   "cell_type": "markdown",
   "metadata": {},
   "source": [
    "### 7.1 node\n",
    "\n",
    "A node is a fundamental part of a tree. A typical node contains the following information:\n",
    "- `key`: the name of the node.\n",
    "- `properties`: the essential attributes for the node in application."
   ]
  },
  {
   "cell_type": "markdown",
   "metadata": {},
   "source": [
    "### 7.2 edge\n",
    "\n",
    "An edge is another fundamental part of a tree, which connects two nodes to illustrate that there are relationship between the two corresponding nodes."
   ]
  },
  {
   "cell_type": "markdown",
   "metadata": {},
   "source": [
    "* Every node has only 1 ingoing edge, but one or more than one outgoing edges.\n",
    "* The root node is the only node that has no ingoing edges."
   ]
  },
  {
   "cell_type": "markdown",
   "metadata": {},
   "source": [
    "### 7.3 Binary trees (二叉树) using the nodes\n",
    "\n",
    "If each node has a maximum of two children, we say that the tree is a __binary tree__."
   ]
  },
  {
   "cell_type": "code",
   "execution_count": null,
   "metadata": {
    "collapsed": true
   },
   "outputs": [],
   "source": [
    "class BinaryTree(object):\n",
    "    def __init__(self,rootObj):\n",
    "        self.key = rootObj\n",
    "        self.leftChild = None\n",
    "        self.rightChild = None\n",
    "\n",
    "    def insertLeft(self,newNode):\n",
    "        t = BinaryTree(newNode)\n",
    "        if self.leftChild == None:\n",
    "            self.leftChild = t\n",
    "        else:\n",
    "            t.leftChild = self.leftChild\n",
    "            self.leftChild = t\n",
    "\n",
    "    def insertRight(self,newNode):\n",
    "        t = BinaryTree(newNode)\n",
    "        if self.rightChild == None:\n",
    "            self.rightChild = t\n",
    "        else:\n",
    "            t.rightChild = self.rightChild\n",
    "            self.rightChild = t\n",
    "\n",
    "\n",
    "    def getRightChild(self):\n",
    "        return self.rightChild\n",
    "\n",
    "    def getLeftChild(self):\n",
    "        return self.leftChild\n",
    "\n",
    "    def setRootVal(self,obj):\n",
    "        self.key = obj\n",
    "\n",
    "    def getRootVal(self):\n",
    "        return self.key"
   ]
  },
  {
   "cell_type": "code",
   "execution_count": null,
   "metadata": {
    "collapsed": false
   },
   "outputs": [],
   "source": [
    "one = BinaryTree(1)\n",
    "two = BinaryTree(2)\n",
    "three = BinaryTree(3)\n",
    "three.insertLeft(one)\n",
    "three.insertRight(two)"
   ]
  },
  {
   "cell_type": "code",
   "execution_count": null,
   "metadata": {
    "collapsed": false
   },
   "outputs": [],
   "source": [
    "three.getRootVal()"
   ]
  },
  {
   "cell_type": "code",
   "execution_count": null,
   "metadata": {
    "collapsed": false
   },
   "outputs": [],
   "source": [
    "three.setRootVal(one)\n",
    "three.getRootVal()"
   ]
  },
  {
   "cell_type": "markdown",
   "metadata": {},
   "source": [
    "### 7.4 path\n",
    "\n",
    "A path is an ordered list of nodes connected by edges.\n",
    "\n",
    "There is __only one unique path from the root to each node__."
   ]
  },
  {
   "cell_type": "markdown",
   "metadata": {},
   "source": [
    "### 7.5 Parents and Children\n",
    "\n",
    "A node $a$ may have multiple outgoing edges. The set of nodes $\\{a_c\\}$ are called the __children (子节点)__ of `a`. And $a$ is the __parent (父结点)__ of $\\{a_c\\}$.\n",
    "\n",
    "- The root node has no parents.\n",
    "- The leave node has no children.\n",
    "\n",
    "The __height of a tree__ is equal to the maximum level of any node in the tree."
   ]
  },
  {
   "cell_type": "markdown",
   "metadata": {},
   "source": [
    "### 7.6 Tree Traversal: Visit all the nodes in the tree\n",
    "\n",
    "#### (1) Preordered traversal (前序遍历)\n",
    "- Visit the root node first\n",
    "- Do a recursive preordered traversal of the left subtree\n",
    "- Do a recursive preordered traversal of the right subtree"
   ]
  },
  {
   "cell_type": "code",
   "execution_count": null,
   "metadata": {
    "collapsed": true
   },
   "outputs": [],
   "source": [
    "def preorder(self):\n",
    "        print self.key\n",
    "        if self.leftChild:\n",
    "            self.leftChild.preorder()\n",
    "        if self.rightChild:\n",
    "            self.rightChild.preorder()"
   ]
  },
  {
   "cell_type": "markdown",
   "metadata": {},
   "source": [
    "#### (2) Inordered traversal (中序遍历)\n",
    "- Do a recursive inordered traversal of the left subtree\n",
    "- Visit the root node\n",
    "- Do a recursive inordered traversal of the right subtree"
   ]
  },
  {
   "cell_type": "code",
   "execution_count": null,
   "metadata": {
    "collapsed": true
   },
   "outputs": [],
   "source": [
    "def inorder(self):\n",
    "        if self.leftChild:\n",
    "            self.leftChild.inorder()\n",
    "        print self.key\n",
    "        if self.rightChild:\n",
    "            self.rightChild.inorder()"
   ]
  },
  {
   "cell_type": "markdown",
   "metadata": {},
   "source": [
    "#### (3) postordered traversal (后序遍历)\n",
    "- Do a recursive postordered traversal of the left subtree\n",
    "- Do a recursive postordered traversal of the right subtree\n",
    "- Visit the root node"
   ]
  },
  {
   "cell_type": "code",
   "execution_count": null,
   "metadata": {
    "collapsed": true
   },
   "outputs": [],
   "source": [
    "def postorder(self):\n",
    "        if self.leftChild:\n",
    "            self.leftChild.postorder()\n",
    "        if self.rightChild:\n",
    "            self.rightChild.postorder()\n",
    "        print self.key"
   ]
  },
  {
   "cell_type": "code",
   "execution_count": null,
   "metadata": {
    "collapsed": true
   },
   "outputs": [],
   "source": [
    "class BinaryTree(object):\n",
    "    def __init__(self,rootObj):\n",
    "        self.key = rootObj\n",
    "        self.leftChild = None\n",
    "        self.rightChild = None\n",
    "\n",
    "    def insertLeft(self,newNode):\n",
    "        t = BinaryTree(newNode)\n",
    "        if self.leftChild == None:\n",
    "            self.leftChild = t\n",
    "        else:\n",
    "            t.leftChild = self.leftChild\n",
    "            self.leftChild = t\n",
    "\n",
    "    def insertRight(self,newNode):\n",
    "        t = BinaryTree(newNode)\n",
    "        if self.rightChild == None:\n",
    "            self.rightChild = t\n",
    "        else:\n",
    "            t.rightChild = self.rightChild\n",
    "            self.rightChild = t\n",
    "\n",
    "\n",
    "    def getRightChild(self):\n",
    "        return self.rightChild\n",
    "\n",
    "    def getLeftChild(self):\n",
    "        return self.leftChild\n",
    "\n",
    "    def setRootVal(self,obj):\n",
    "        self.key = obj\n",
    "\n",
    "    def getRootVal(self):\n",
    "        return self.key\n",
    "    \n",
    "    def preorder(self):\n",
    "        print self.key\n",
    "        if self.leftChild:\n",
    "            self.leftChild.preorder()\n",
    "        if self.rightChild:\n",
    "            self.rightChild.preorder()\n",
    "            \n",
    "    def inorder(self):\n",
    "        if self.leftChild:\n",
    "            self.leftChild.inorder()\n",
    "        print self.key\n",
    "        if self.rightChild:\n",
    "            self.rightChild.inorder()\n",
    "            \n",
    "    def postorder(self):\n",
    "        if self.leftChild:\n",
    "            self.leftChild.postorder()\n",
    "        if self.rightChild:\n",
    "            self.rightChild.postorder()\n",
    "        print self.key"
   ]
  },
  {
   "cell_type": "markdown",
   "metadata": {},
   "source": [
    "### $\\S$ Exercise 5\n",
    "\n",
    "Implement each of the traversal methods above as a function, with the `BinaryTree` instance (shown above) as the argument."
   ]
  },
  {
   "cell_type": "markdown",
   "metadata": {},
   "source": [
    "## 8. Graphs (图)\n",
    "\n",
    "- Graphs are a more general data structures than trees. And trees can be thought of as a special kind of graphs.\n",
    "\n",
    "- Some standard graph algorithms can be used to solve some seemingly difficult problems.\n",
    "\n",
    "- A __vertex (a.k.a node)__ is a fundamental part of a graph, which has a name called __key__ as well as the other information named __payload__.\n",
    "\n",
    "- An __edge__ connects two vertices to illustrate the relationship between them.\n",
    "    + Edges are one-way (单向) or two-way (双向)\n",
    "    + If all edges are one-way, we call the graph __directed graph (有向图)__ or __digraph__.\n",
    "    + The edges can be either weighted or unweighted. Thus, we have __unweighted graph (无权图)__ or __weighted graph (加权图)__. "
   ]
  },
  {
   "cell_type": "markdown",
   "metadata": {},
   "source": [
    "### 8.1 Mathematical representation of the graph\n",
    "\n",
    "- A graph can be represented by $\\mathbf{G = (V, E)}$, where\n",
    "    + $\\mathbf{V}$ is a set of vertices $\\{v_i\\}$\n",
    "    + $\\mathbf{E}$ is a set of edges $\\{(v_i, v_j, w)\\}$ where $v_i, v_j \\in \\mathbf{V}$ and $w$ is the corresponding weight for the edge.\n",
    "    \n",
    "- A subgraph $\\mathbf{s = (v, e)}$ where $\\mathbf{v \\subset V, e \\subset E}$.\n",
    "\n",
    "\n",
    "Here is an example:\n",
    "$$\n",
    "\\begin{array}{lcl}\n",
    "\\mathbf{V} &=& \\{v_0, v_1, v_2, v_3, v_4, v_5\\}\\\\\n",
    "\\mathbf{E} &=& \\{(v_0, v_1, 5), (v_1, v_2, 4), (v_2, v_3, 9), (v_3, v_4, 7),\\\\\n",
    "& &(v_4, v_0, 1), (v_0, v_5, 2), (v_5, v_4, 8), (v_3, v_5, 3), (v_5, v_2, 1)\n",
    "\\}\n",
    "\\end{array}\n",
    "$$\n",
    "\n",
    "![](simple_graph.png)"
   ]
  },
  {
   "cell_type": "code",
   "execution_count": null,
   "metadata": {
    "collapsed": false
   },
   "outputs": [],
   "source": [
    "import networkx as nx\n",
    "import matplotlib.pyplot as plt\n",
    "%matplotlib inline"
   ]
  },
  {
   "cell_type": "code",
   "execution_count": null,
   "metadata": {
    "collapsed": true
   },
   "outputs": [],
   "source": [
    "G = nx.Graph()\n",
    "G.add_weighted_edges_from([('v0', 'v1', 5), ('v1', 'v2', 4), ('v2', 'v3', 9), ('v3', 'v4', 7), \n",
    "                          ('v4', 'v0', 1), ('v0', 'v5', 2), ('v5','v4',8), ('v3','v5',3), ('v5','v2',1)])"
   ]
  },
  {
   "cell_type": "code",
   "execution_count": null,
   "metadata": {
    "collapsed": false
   },
   "outputs": [],
   "source": [
    "nx.draw(G, pos=nx.spring_layout(G), with_labels=True, \n",
    "        alpha=0.6, width=map(lambda v: G.get_edge_data(v[0], v[1])['weight'], G.edges()),\n",
    "        arrows=True)\n",
    "plt.savefig('simple_graph.png')\n",
    "plt.show()"
   ]
  },
  {
   "cell_type": "code",
   "execution_count": null,
   "metadata": {
    "collapsed": true
   },
   "outputs": [],
   "source": [
    "nx.draw_networkx?"
   ]
  },
  {
   "cell_type": "markdown",
   "metadata": {},
   "source": [
    "### 8.2 Implementation of a Graph as an Adjacency List\n",
    "\n"
   ]
  },
  {
   "cell_type": "code",
   "execution_count": null,
   "metadata": {
    "collapsed": true
   },
   "outputs": [],
   "source": [
    "class Vertex:\n",
    "    def __init__(self,key):\n",
    "        self.id = key\n",
    "        self.connectedTo = {}\n",
    "\n",
    "    def addNeighbor(self,nbr,weight=0):\n",
    "        self.connectedTo[nbr] = weight\n",
    "\n",
    "    def __str__(self):\n",
    "        return str(self.id) + ' connectedTo: ' + str([x.id for x in self.connectedTo])\n",
    "\n",
    "    def getConnections(self):\n",
    "        return self.connectedTo.keys()\n",
    "\n",
    "    def getId(self):\n",
    "        return self.id\n",
    "\n",
    "    def getWeight(self,nbr):\n",
    "        return self.connectedTo[nbr]"
   ]
  },
  {
   "cell_type": "code",
   "execution_count": null,
   "metadata": {
    "collapsed": true
   },
   "outputs": [],
   "source": [
    "class Graph:\n",
    "    def __init__(self):\n",
    "        self.vertList = {}\n",
    "        self.numVertices = 0\n",
    "\n",
    "    def addVertex(self,key):\n",
    "        self.numVertices = self.numVertices + 1\n",
    "        newVertex = Vertex(key)\n",
    "        self.vertList[key] = newVertex\n",
    "        return newVertex\n",
    "\n",
    "    def getVertex(self,n):\n",
    "        if n in self.vertList:\n",
    "            return self.vertList[n]\n",
    "        else:\n",
    "            return None\n",
    "\n",
    "    def __contains__(self,n):\n",
    "        return n in self.vertList\n",
    "\n",
    "    def addEdge(self,f,t,cost=0):\n",
    "        if f not in self.vertList:\n",
    "            nv = self.addVertex(f)\n",
    "        if t not in self.vertList:\n",
    "            nv = self.addVertex(t)\n",
    "        self.vertList[f].addNeighbor(self.vertList[t], cost)\n",
    "\n",
    "    def getVertices(self):\n",
    "        return self.vertList.keys()\n",
    "\n",
    "    def __iter__(self):\n",
    "        return iter(self.vertList.values())"
   ]
  },
  {
   "cell_type": "markdown",
   "metadata": {},
   "source": [
    "Let's see a simple example:"
   ]
  },
  {
   "cell_type": "code",
   "execution_count": null,
   "metadata": {
    "collapsed": true
   },
   "outputs": [],
   "source": [
    "g = Graph()"
   ]
  },
  {
   "cell_type": "code",
   "execution_count": null,
   "metadata": {
    "collapsed": false
   },
   "outputs": [],
   "source": [
    "weights = [1, 2, 5, 3, 7, 3, 6]\n",
    "vertices1 = ['A', 'B', 'C', 'D', 'E', 'D', 'E']\n",
    "vertices2 = ['B', 'C', 'D', 'E', 'A', 'B', 'C']\n",
    "edges = zip(vertices1, vertices2, weights)"
   ]
  },
  {
   "cell_type": "code",
   "execution_count": null,
   "metadata": {
    "collapsed": true
   },
   "outputs": [],
   "source": [
    "for edge in edges:\n",
    "    g.addEdge(edge[0], edge[1], edge[2])"
   ]
  },
  {
   "cell_type": "code",
   "execution_count": null,
   "metadata": {
    "collapsed": false
   },
   "outputs": [],
   "source": [
    "print g.vertList"
   ]
  },
  {
   "cell_type": "markdown",
   "metadata": {},
   "source": [
    "### 8.2 Adjacency matrix representation of graphs\n",
    "\n",
    "Adjacency Matrix is a 2D array of size $|\\mathbf{V}| \\times |\\mathbf{V}|$ where $|\\mathbf{V}|$ is the number of vertices in a graph. Let the 2D array be `adj[n][n]`, a slot `adj[i][j] = 1` indicates that there is an edge from vertex `i` to vertex `j`. Adjacency matrix for undirected graph is always symmetric. Adjacency Matrix is also used to represent weighted graphs. If `adj[i][j] = w`, then there is an edge from vertex `i` to vertex `j` with weight `w`.\n",
    "\n",
    "![](images/adjacency_matrix_representation.png)"
   ]
  },
  {
   "cell_type": "code",
   "execution_count": null,
   "metadata": {
    "collapsed": true
   },
   "outputs": [],
   "source": []
  },
  {
   "cell_type": "code",
   "execution_count": null,
   "metadata": {
    "collapsed": true
   },
   "outputs": [],
   "source": []
  },
  {
   "cell_type": "markdown",
   "metadata": {},
   "source": [
    "### 8.3 Adjacency list representation of graphs\n",
    "\n",
    "- An __array of linked lists__, with size equal to number of vertices.\n",
    "- Let the array be `array[]`, with `array[i]` represents the linked list of vertices adjacent to the $i$-th vertex.\n",
    "- This representation can also be used to represent a weighted graph. The weights of edges can be stored in nodes of linked lists.\n",
    "\n",
    "![](images/adjacency_list_representation.png)"
   ]
  },
  {
   "cell_type": "markdown",
   "metadata": {},
   "source": [
    "It is easy to represent the graph with the adjacency list using Python dictionaries. To define Graph abstract data type (ADT) we create two classes:\n",
    "- **Graph**, which holds the master list of vertices, and \n",
    "- **Vertex**, which will represent each vertex in the graph.\n",
    "\n",
    "Each Vertex uses a dictionary to keep track of the vertices to which it is connected, and the weight of each edge. This dictionary is called **connectedNodes**.\n",
    "- The **Vertex()** constructor simply initializes the id, which will typically be a string, and the **connectedNodes** dictionary.\n",
    "- The **addNeighbor(neighbor, weight)** method is used to add a connected nodes from this vertex to another.\n",
    "- The **getNeighbors()** method returns all of the vertices in the adjacency list, as represented by the **connectedNodes** instance variable.\n",
    "- The **getWeight(neighbor)** method returns the weight of the edge from this vertex instance to another vertex passed as an argument."
   ]
  },
  {
   "cell_type": "code",
   "execution_count": null,
   "metadata": {
    "collapsed": true
   },
   "outputs": [],
   "source": [
    "class Vertex(object):\n",
    "    \n",
    "    def __init__(self, key):\n",
    "        self.id = key\n",
    "        self.connectedNodes = {}\n",
    "        \n",
    "    def addNeighbor(self, nbr, weight=0):\n",
    "        self.connectedNodes[nbr] = weight\n",
    "        \n",
    "    def __str__(self):\n",
    "        return str(self.id) + \" Connected to: \" + str(self.connectedNodes.keys())\n",
    "    \n",
    "    def getNeighbors(self):\n",
    "        return self.connectedNodes.keys()\n",
    "    \n",
    "    def getId(self):\n",
    "        return self.id\n",
    "    \n",
    "    def getWeight(self, nbr):\n",
    "        return self.connectedNodes[nbr]"
   ]
  },
  {
   "cell_type": "markdown",
   "metadata": {},
   "source": [
    "In order to implement a Graph as an Adjacency List what we need to do is define the methods our Adjacency List object will have:\n",
    "\n",
    "* **Graph()** creates a new, empty graph.\n",
    "* **addVertex(vert)** adds an instance of Vertex to the graph.\n",
    "* **addEdge(fromVert, toVert)** Adds a new, directed edge to the graph that connects two vertices.\n",
    "* **addEdge(fromVert, toVert, weight)** Adds a new, weighted, directed edge to the graph that connects two vertices.\n",
    "* **getVertex(vertKey)** finds the vertex in the graph named vertKey.\n",
    "* **getVertices()** returns the list of all vertices in the graph. \n",
    "* **in** returns True for a statement of the form vertex in graph, if the given vertex is in the graph, False otherwise."
   ]
  },
  {
   "cell_type": "code",
   "execution_count": null,
   "metadata": {
    "collapsed": false
   },
   "outputs": [],
   "source": [
    "class Graph(object):\n",
    "    \n",
    "    def __init__(self):\n",
    "        self.vertList = {}\n",
    "        self.numVert = 0\n",
    "        \n",
    "    def addVertex(self, key):\n",
    "        newVertex = Vertex(key)\n",
    "        self.vertList[key] = newVertex\n",
    "        self.numVert += 1\n",
    "        \n",
    "    def getVertex(self, id):\n",
    "        if id in self.vertList:\n",
    "            return self.vertList[id]\n",
    "        else:\n",
    "            return None\n",
    "        \n",
    "    def addEdge(self, src, to, weight=0.0):\n",
    "        if src not in self.vertList:\n",
    "            self.addVertex(src)\n",
    "        if to not in self.vertList:\n",
    "            self.addVertex(to)\n",
    "            \n",
    "        self.vertList[src].addNeighbor(to, weight)\n",
    "        self.vertList[to].addNeighbor(src, weight)\n",
    "        \n",
    "    def getVertices(self):\n",
    "        return self.vertList.keys()\n",
    "    \n",
    "    def __iter__(self):\n",
    "        return iter(self.vertList.values())\n",
    "    \n",
    "    def __contain__(self, node):\n",
    "        return node in self.vertList\n",
    "    \n",
    "    "
   ]
  },
  {
   "cell_type": "code",
   "execution_count": null,
   "metadata": {
    "collapsed": false
   },
   "outputs": [],
   "source": [
    "g = Graph()\n",
    "for i in xrange(6):\n",
    "    g.addVertex(i)\n",
    "    \n",
    "g.vertList"
   ]
  },
  {
   "cell_type": "code",
   "execution_count": null,
   "metadata": {
    "collapsed": false
   },
   "outputs": [],
   "source": [
    "g.addEdge(0, 1, 2)"
   ]
  },
  {
   "cell_type": "code",
   "execution_count": null,
   "metadata": {
    "collapsed": false
   },
   "outputs": [],
   "source": [
    "for vertex in g:\n",
    "    print vertex\n",
    "    print vertex.getNeighbors()\n",
    "    print \"\\n\""
   ]
  },
  {
   "cell_type": "markdown",
   "metadata": {},
   "source": [
    "### 8.4 Implementation of Depth-First Search\n",
    "\n",
    "Depth-First search (DFS), as the name hints, explores possible vertices (from a supplied root) down each branch before backtracking. This property allows the algorithm to be implemented succinctly in both iterative and recursive forms. Below is a listing of the actions performed upon each visit to a node.\n",
    "\n",
    "* Mark the current vertex as being visited.\n",
    "* Explore each adjacent vertex that is not included in the visited set.\n",
    "\n",
    "We will assume a simplified version of a graph in the following form:"
   ]
  },
  {
   "cell_type": "code",
   "execution_count": null,
   "metadata": {
    "collapsed": true
   },
   "outputs": [],
   "source": [
    "graph = {'A': set(['B', 'C']),\n",
    "         'B': set(['A', 'D', 'E']),\n",
    "         'C': set(['A', 'F']),\n",
    "         'D': set(['B']),\n",
    "         'E': set(['B', 'F']),\n",
    "         'F': set(['C', 'E'])}"
   ]
  },
  {
   "cell_type": "markdown",
   "metadata": {},
   "source": [
    "#### Solution 1"
   ]
  },
  {
   "cell_type": "code",
   "execution_count": null,
   "metadata": {
    "collapsed": false
   },
   "outputs": [],
   "source": [
    "def dfs(graph, start):\n",
    "    visited, stack = set(), [start]\n",
    "    while stack:\n",
    "        vertex = stack.pop()\n",
    "        if vertex not in visited:\n",
    "            visited.add(vertex)\n",
    "            stack.extend(graph[vertex] - visited)\n",
    "    return visited\n",
    "\n",
    "dfs(graph, 'A') "
   ]
  },
  {
   "cell_type": "markdown",
   "metadata": {},
   "source": [
    "#### Solution 2: recursive approach"
   ]
  },
  {
   "cell_type": "code",
   "execution_count": null,
   "metadata": {
    "collapsed": false
   },
   "outputs": [],
   "source": [
    "def dfs(graph, start, visited=None):\n",
    "    if visited is None:\n",
    "        visited = set()\n",
    "    visited.add(start)\n",
    "    for nxt in graph[start] - visited:\n",
    "        dfs(graph, nxt, visited)\n",
    "    return visited\n",
    "\n",
    "dfs(graph, 'A') "
   ]
  },
  {
   "cell_type": "markdown",
   "metadata": {},
   "source": [
    "### 8.5 Implementation of Breadth First Search (广度优先搜索)\n",
    "\n",
    "\n",
    "An alternative algorithm called Breath-First search provides us with the ability to return the same results as DFS but with the added guarantee to return the shortest-path first. This algorithm is a little more tricky to implement in a recursive manner instead using the queue data-structure, as such I will only being documenting the iterative approach. The actions performed per each explored vertex are the same as the depth-first implementation, however, replacing the stack with a queue will instead explore the breadth of a vertex depth before moving on. This behavior guarantees that the first path located is one of the shortest-paths present, based on number of edges being the cost factor."
   ]
  },
  {
   "cell_type": "code",
   "execution_count": null,
   "metadata": {
    "collapsed": false
   },
   "outputs": [],
   "source": [
    "def bfs(graph, start):\n",
    "    visited, queue = set(), [start]\n",
    "    while queue:\n",
    "        vertex = queue.pop(0)\n",
    "        if vertex not in visited:\n",
    "            visited.add(vertex)\n",
    "            queue.extend(graph[vertex] - visited)\n",
    "    return visited\n",
    "\n",
    "bfs(graph, 'A')"
   ]
  },
  {
   "cell_type": "markdown",
   "metadata": {},
   "source": [
    "### 8.6 Paths\n",
    "\n",
    "We are able to tweak both of the previous implementations to return all possible paths between a start and goal vertex. The implementation below uses the stack data-structure again to iteratively solve the problem, yielding each possible path when we locate the goal. Using a generator allows the user to only compute the desired amount of alternative paths."
   ]
  },
  {
   "cell_type": "markdown",
   "metadata": {},
   "source": [
    "#### DFS approach"
   ]
  },
  {
   "cell_type": "code",
   "execution_count": null,
   "metadata": {
    "collapsed": false
   },
   "outputs": [],
   "source": [
    "def dfs_paths(graph, start, goal):\n",
    "    stack = [(start, [start])]\n",
    "    while stack:\n",
    "        (vertex, path) = stack.pop()\n",
    "        for nxt in graph[vertex] - set(path):\n",
    "            if nxt == goal:\n",
    "                yield path + [nxt]\n",
    "            else:\n",
    "                stack.append((nxt, path + [nxt]))\n",
    "\n",
    "list(dfs_paths(graph, 'A', 'F'))"
   ]
  },
  {
   "cell_type": "markdown",
   "metadata": {},
   "source": [
    "#### BFS approach"
   ]
  },
  {
   "cell_type": "code",
   "execution_count": null,
   "metadata": {
    "collapsed": false
   },
   "outputs": [],
   "source": [
    "def bfs_paths(graph, start, goal):\n",
    "    queue = [(start, [start])]\n",
    "    while queue:\n",
    "        (vertex, path) = queue.pop(0)\n",
    "        for next in graph[vertex] - set(path):\n",
    "            if next == goal:\n",
    "                yield path + [next]\n",
    "            else:\n",
    "                queue.append((next, path + [next]))\n",
    "\n",
    "list(bfs_paths(graph, 'A', 'F'))"
   ]
  },
  {
   "cell_type": "markdown",
   "metadata": {},
   "source": [
    "### 8.7 Find shortest path"
   ]
  },
  {
   "cell_type": "code",
   "execution_count": null,
   "metadata": {
    "collapsed": false
   },
   "outputs": [],
   "source": [
    "def shortest_path(graph, start, goal):\n",
    "    try:\n",
    "        return next(bfs_paths(graph, start, goal))\n",
    "    except StopIteration:\n",
    "        return None\n",
    "\n",
    "shortest_path(graph, 'A', 'F')"
   ]
  }
 ],
 "metadata": {
  "kernelspec": {
   "display_name": "Python 2",
   "language": "python",
   "name": "python2"
  },
  "language_info": {
   "codemirror_mode": {
    "name": "ipython",
    "version": 2
   },
   "file_extension": ".py",
   "mimetype": "text/x-python",
   "name": "python",
   "nbconvert_exporter": "python",
   "pygments_lexer": "ipython2",
   "version": "2.7.11"
  }
 },
 "nbformat": 4,
 "nbformat_minor": 0
}
