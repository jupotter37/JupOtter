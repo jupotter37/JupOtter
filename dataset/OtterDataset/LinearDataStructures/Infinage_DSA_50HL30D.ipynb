{
 "cells": [
  {
   "cell_type": "markdown",
   "id": "51bc2ac4",
   "metadata": {
    "papermill": {
     "duration": 0.01797,
     "end_time": "2024-03-02T17:01:59.972547",
     "exception": false,
     "start_time": "2024-03-02T17:01:59.954577",
     "status": "completed"
    },
    "tags": []
   },
   "source": [
    "# 50HL30D\n",
    "![58%](https://progress-bar.dev/58?title=progress&width=100)\n",
    "\n",
    "#### Description:\n",
    "- Solving 50 Hard Leetcode problems in 30 days.<br>\n",
    "- Languange of choice: `Python`<br>\n",
    "\n",
    "#### Timelines:\n",
    "- Start Date: 8th Feb 2024\n",
    "- Challenge End Date: 9th Mar 2024"
   ]
  },
  {
   "cell_type": "code",
   "execution_count": 1,
   "id": "15e91140",
   "metadata": {
    "execution": {
     "iopub.execute_input": "2024-03-02T17:02:00.009321Z",
     "iopub.status.busy": "2024-03-02T17:02:00.008618Z",
     "iopub.status.idle": "2024-03-02T17:02:02.731929Z",
     "shell.execute_reply": "2024-03-02T17:02:02.730472Z"
    },
    "papermill": {
     "duration": 2.74451,
     "end_time": "2024-03-02T17:02:02.734811",
     "exception": false,
     "start_time": "2024-03-02T17:01:59.990301",
     "status": "completed"
    },
    "tags": []
   },
   "outputs": [],
   "source": [
    "from typing import List\n",
    "import pandas as pd\n",
    "import numpy as np\n",
    "import sqlite3\n",
    "import re\n",
    "import io\n",
    "import math\n",
    "import collections\n",
    "import itertools\n",
    "import functools\n",
    "import random\n",
    "import string\n",
    "import tqdm\n",
    "import bisect\n",
    "from IPython.display import display\n",
    "\n",
    "conn = sqlite3.connect(\":memory:\")\n",
    "\n",
    "def regexp(expr, item):\n",
    "    reg = re.compile(expr)\n",
    "    return reg.search(item) is not None\n",
    "\n",
    "def read_lc_df(s: str) -> pd.DataFrame:\n",
    "    temp = pd.read_csv(io.StringIO(s), sep=\"|\", skiprows=2)\n",
    "    temp = temp.iloc[1:-1, 1:-1]\n",
    "    temp.columns = temp.columns.map(str.strip)\n",
    "    temp = temp.map(lambda x: x if type(x) != str else None if x.strip() == 'null' else x.strip())\n",
    "    return temp\n",
    "\n",
    "conn.create_function(\"REGEXP\", 2, regexp)"
   ]
  },
  {
   "cell_type": "markdown",
   "id": "3761df3f",
   "metadata": {
    "papermill": {
     "duration": 0.01413,
     "end_time": "2024-03-02T17:02:02.760453",
     "exception": false,
     "start_time": "2024-03-02T17:02:02.746323",
     "status": "completed"
    },
    "tags": []
   },
   "source": [
    "#### Helper for Binary tree problems"
   ]
  },
  {
   "cell_type": "code",
   "execution_count": 2,
   "id": "014cca21",
   "metadata": {
    "execution": {
     "iopub.execute_input": "2024-03-02T17:02:02.786760Z",
     "iopub.status.busy": "2024-03-02T17:02:02.786217Z",
     "iopub.status.idle": "2024-03-02T17:02:02.806199Z",
     "shell.execute_reply": "2024-03-02T17:02:02.804730Z"
    },
    "papermill": {
     "duration": 0.037209,
     "end_time": "2024-03-02T17:02:02.809010",
     "exception": false,
     "start_time": "2024-03-02T17:02:02.771801",
     "status": "completed"
    },
    "tags": []
   },
   "outputs": [
    {
     "data": {
      "text/plain": [
       "[1, 2, 3, 4, 5, 6, None, None, None, 7, 8, None, None, None, None, None, None]"
      ]
     },
     "execution_count": 2,
     "metadata": {},
     "output_type": "execute_result"
    }
   ],
   "source": [
    "class BinaryTreeNode:\n",
    "    def __init__(self, val=0, left=None, right=None):\n",
    "        self.val = val\n",
    "        self.left = left\n",
    "        self.right = right\n",
    "\n",
    "    def to_list(self):\n",
    "        to_visit = [self]\n",
    "        visited = []\n",
    "        while len(to_visit) > 0:\n",
    "            curr = to_visit.pop(0)\n",
    "            if curr:\n",
    "                to_visit.append(curr.left)\n",
    "                to_visit.append(curr.right)\n",
    "                visited.append(curr.val)\n",
    "            else:\n",
    "                visited.append(curr)\n",
    "        return visited\n",
    "\n",
    "    def __str__(self):\n",
    "        return str(self.val)\n",
    "\n",
    "    def from_array(nums: List[int]):\n",
    "        '''Create a Tree from a list of nums. Returns the root node.'''\n",
    "        if len(nums) == 0:\n",
    "            return None\n",
    "        elif len(nums) == 1:\n",
    "            return BinaryTreeNode(nums[0])\n",
    "        else:\n",
    "            forest = [BinaryTreeNode(nums[0])]\n",
    "            parent_idx = -1\n",
    "            for i in range(1, len(nums)):\n",
    "\n",
    "                curr = None\n",
    "                if nums[i] is not None:\n",
    "                    curr = BinaryTreeNode(nums[i])\n",
    "                    forest.append(curr)\n",
    "\n",
    "                if i % 2 == 1:\n",
    "                    parent_idx += 1\n",
    "                    forest[parent_idx].left = curr\n",
    "                else:\n",
    "                    forest[parent_idx].right = curr\n",
    "\n",
    "        return forest[0]\n",
    "\n",
    "temp = BinaryTreeNode.from_array([1,2,3,4,5,6,None,None,None,7,8])\n",
    "temp.to_list()"
   ]
  },
  {
   "cell_type": "markdown",
   "id": "a2f73ad1",
   "metadata": {
    "papermill": {
     "duration": 0.011477,
     "end_time": "2024-03-02T17:02:02.832088",
     "exception": false,
     "start_time": "2024-03-02T17:02:02.820611",
     "status": "completed"
    },
    "tags": []
   },
   "source": [
    "#### Helper for Singly Linked lists"
   ]
  },
  {
   "cell_type": "code",
   "execution_count": 3,
   "id": "8f724b7e",
   "metadata": {
    "execution": {
     "iopub.execute_input": "2024-03-02T17:02:02.859030Z",
     "iopub.status.busy": "2024-03-02T17:02:02.857950Z",
     "iopub.status.idle": "2024-03-02T17:02:02.868661Z",
     "shell.execute_reply": "2024-03-02T17:02:02.866672Z"
    },
    "papermill": {
     "duration": 0.027817,
     "end_time": "2024-03-02T17:02:02.872009",
     "exception": false,
     "start_time": "2024-03-02T17:02:02.844192",
     "status": "completed"
    },
    "tags": []
   },
   "outputs": [],
   "source": [
    "class ListNode:\n",
    "    def __init__(self, val=0, next=None):\n",
    "        self.val = val\n",
    "        self.next = next\n",
    "\n",
    "    def __str__(self):\n",
    "        return str(self.val)\n",
    "\n",
    "    def to_singly_linked_list(nums: list[int]):\n",
    "        root = prev = None\n",
    "        for n in nums:\n",
    "            curr = ListNode(n)\n",
    "            # Init once\n",
    "            if not root:\n",
    "                root = curr\n",
    "            if prev:\n",
    "                prev.next = curr\n",
    "            prev = curr\n",
    "\n",
    "        return root\n",
    "\n",
    "    def to_list(self) -> list[int]:\n",
    "        result = []\n",
    "        curr = self\n",
    "        while curr:\n",
    "            result.append(curr.val)\n",
    "            curr = curr.next\n",
    "        return result"
   ]
  },
  {
   "cell_type": "markdown",
   "id": "3d8c13fb",
   "metadata": {
    "papermill": {
     "duration": 0.012728,
     "end_time": "2024-03-02T17:02:02.896653",
     "exception": false,
     "start_time": "2024-03-02T17:02:02.883925",
     "status": "completed"
    },
    "tags": []
   },
   "source": [
    "# 1. \n",
    "Date: 08th Feb 2024<br>\n",
    "Hard Leetcode: reducing-dishes<br>\n",
    "Solution: https://leetcode.com/problems/reducing-dishes/submissions/1169321043/"
   ]
  },
  {
   "cell_type": "code",
   "execution_count": 4,
   "id": "44b38d3a",
   "metadata": {
    "execution": {
     "iopub.execute_input": "2024-03-02T17:02:02.928189Z",
     "iopub.status.busy": "2024-03-02T17:02:02.927298Z",
     "iopub.status.idle": "2024-03-02T17:02:02.937326Z",
     "shell.execute_reply": "2024-03-02T17:02:02.935739Z"
    },
    "papermill": {
     "duration": 0.027695,
     "end_time": "2024-03-02T17:02:02.940076",
     "exception": false,
     "start_time": "2024-03-02T17:02:02.912381",
     "status": "completed"
    },
    "tags": []
   },
   "outputs": [],
   "source": [
    "class Solution:\n",
    "    def maxSatisfaction(self, satisfaction: List[int]) -> int:\n",
    "        # Compute once\n",
    "        N = len(satisfaction)\n",
    "\n",
    "        # Sort to find the best possible time for each (order wise)\n",
    "        satisfaction.sort()\n",
    "\n",
    "        @functools.cache\n",
    "        def backtrack(currIdx: int = 0, time: int = 1) -> int:\n",
    "            if currIdx == N:\n",
    "                return 0\n",
    "            else:\n",
    "                return max(\n",
    "                    (time * satisfaction[currIdx]) + backtrack(currIdx + 1, time + 1),\n",
    "                    backtrack(currIdx + 1, time)\n",
    "                )\n",
    "\n",
    "        return backtrack()\n",
    "\n",
    "# Testing the solution\n",
    "assert Solution().maxSatisfaction([-1, -8, 0, 5, -9]) == 14\n",
    "assert Solution().maxSatisfaction([4, 3, 2]) == 20\n",
    "assert Solution().maxSatisfaction([-1, -2, -3]) == 0"
   ]
  },
  {
   "cell_type": "markdown",
   "id": "ace2a1e9",
   "metadata": {
    "papermill": {
     "duration": 0.011071,
     "end_time": "2024-03-02T17:02:02.962424",
     "exception": false,
     "start_time": "2024-03-02T17:02:02.951353",
     "status": "completed"
    },
    "tags": []
   },
   "source": [
    "# 2. \n",
    "Date: 09th Feb 2024<br>\n",
    "Hard Leetcode: minimum-one-bit-operations-to-make-integers-zero<br>\n",
    "Solution: https://leetcode.com/problems/minimum-one-bit-operations-to-make-integers-zero/submissions/1170668823/"
   ]
  },
  {
   "cell_type": "code",
   "execution_count": 5,
   "id": "2134576b",
   "metadata": {
    "execution": {
     "iopub.execute_input": "2024-03-02T17:02:02.987729Z",
     "iopub.status.busy": "2024-03-02T17:02:02.987084Z",
     "iopub.status.idle": "2024-03-02T17:02:03.032892Z",
     "shell.execute_reply": "2024-03-02T17:02:03.031472Z"
    },
    "papermill": {
     "duration": 0.061939,
     "end_time": "2024-03-02T17:02:03.035534",
     "exception": false,
     "start_time": "2024-03-02T17:02:02.973595",
     "status": "completed"
    },
    "tags": []
   },
   "outputs": [],
   "source": [
    "class Solution:\n",
    "    def minimumOneBitOperations__(self, n: int) -> int:\n",
    "        def changeBit(b: str, idx: int):\n",
    "            bits_ = list(b)\n",
    "            curr = bits_[idx]\n",
    "            curr = str(int(not bool(int(curr))))\n",
    "            bits_[idx] = curr\n",
    "            return ''.join(bits_)\n",
    "\n",
    "        def op1(b: str, N: int):\n",
    "            'Last bit is changed'\n",
    "            return changeBit(b, N - 1)\n",
    "\n",
    "        def op2(b: str, N: int):\n",
    "            \"\"\"\n",
    "            Swap ith bit given i-1st bit is 1 and all bits to the right are 0\n",
    "            \"\"\"\n",
    "            i = b.rindex('1')\n",
    "            if i >= 1:\n",
    "                return changeBit(b, i - 1)\n",
    "            else:\n",
    "                return b\n",
    "\n",
    "        def backtrack(b: str, processed: set[str] = set()):\n",
    "            if not int(b):\n",
    "                return 0\n",
    "            else:\n",
    "                op1_result = op1(b, N)\n",
    "                op2_result = op2(b, N)\n",
    "                op1_count = op2_count = math.inf\n",
    "                if op1_result not in processed:\n",
    "                    op1_count = backtrack(op1_result, {*processed, b})\n",
    "                if op2_result not in processed:\n",
    "                    op2_count = backtrack(op2_result, {*processed, b})\n",
    "\n",
    "                result = 1 + min(op1_count, op2_count)\n",
    "                return result\n",
    "\n",
    "        bits = bin(n)[2:]\n",
    "        N = len(bits)\n",
    "        return backtrack(bits)\n",
    "\n",
    "    def minimumOneBitOperations_(self, n: int) -> int:\n",
    "        if n == 0:\n",
    "            return 0\n",
    "\n",
    "        bits = bin(n)[2:]\n",
    "        bit_length = len(bits)\n",
    "        maxN = (2 ** bit_length) - 1\n",
    "        minN = 2 ** (bit_length - 1)\n",
    "        dp = [_ for _ in range(minN, maxN + 1)]\n",
    "\n",
    "        def splitAndMerge(arr: list[int], rev=False):\n",
    "            N = len(arr)\n",
    "            if N == 1:\n",
    "                return arr\n",
    "            else:\n",
    "                mid = N // 2\n",
    "                left = splitAndMerge(arr[:mid], rev=False)\n",
    "                right = splitAndMerge(arr[mid:], rev=True)\n",
    "                return right + left if rev else left + right\n",
    "\n",
    "        dp = splitAndMerge(dp, rev=True)\n",
    "        return dp[n - minN]\n",
    "\n",
    "    def minimumOneBitOperations(self, n: int) -> int:\n",
    "        # https://www.youtube.com/watch?v=yRI18_MaG7k\n",
    "        if n == 0:\n",
    "            return 0\n",
    "        else:\n",
    "            k = 0\n",
    "            while 2 ** k <= n:\n",
    "                k += 1\n",
    "            k -= 1\n",
    "            return 2 ** (k + 1) - 1 - self.minimumOneBitOperations(2 ** k ^ n)\n",
    "\n",
    "# Testing the solution\n",
    "for _ in range(1, 300):\n",
    "    assert Solution().minimumOneBitOperations_(_) == Solution().minimumOneBitOperations(_), f\"failed for {_}\""
   ]
  },
  {
   "cell_type": "markdown",
   "id": "a721bcbc",
   "metadata": {
    "papermill": {
     "duration": 0.013633,
     "end_time": "2024-03-02T17:02:03.060597",
     "exception": false,
     "start_time": "2024-03-02T17:02:03.046964",
     "status": "completed"
    },
    "tags": []
   },
   "source": [
    "# 3. \n",
    "Date: 10th Feb 2024<br>\n",
    "Hard Leetcode: human-traffic-of-stadium<br>\n",
    "Solution: https://leetcode.com/problems/human-traffic-of-stadium/submissions/1171130705"
   ]
  },
  {
   "cell_type": "code",
   "execution_count": 6,
   "id": "92a88f55",
   "metadata": {
    "execution": {
     "iopub.execute_input": "2024-03-02T17:02:03.088172Z",
     "iopub.status.busy": "2024-03-02T17:02:03.087231Z",
     "iopub.status.idle": "2024-03-02T17:02:03.165565Z",
     "shell.execute_reply": "2024-03-02T17:02:03.163990Z"
    },
    "papermill": {
     "duration": 0.095152,
     "end_time": "2024-03-02T17:02:03.168424",
     "exception": false,
     "start_time": "2024-03-02T17:02:03.073272",
     "status": "completed"
    },
    "tags": []
   },
   "outputs": [
    {
     "data": {
      "text/html": [
       "<div>\n",
       "<style scoped>\n",
       "    .dataframe tbody tr th:only-of-type {\n",
       "        vertical-align: middle;\n",
       "    }\n",
       "\n",
       "    .dataframe tbody tr th {\n",
       "        vertical-align: top;\n",
       "    }\n",
       "\n",
       "    .dataframe thead th {\n",
       "        text-align: right;\n",
       "    }\n",
       "</style>\n",
       "<table border=\"1\" class=\"dataframe\">\n",
       "  <thead>\n",
       "    <tr style=\"text-align: right;\">\n",
       "      <th></th>\n",
       "      <th>id</th>\n",
       "      <th>visit_date</th>\n",
       "      <th>people</th>\n",
       "    </tr>\n",
       "  </thead>\n",
       "  <tbody>\n",
       "    <tr>\n",
       "      <th>0</th>\n",
       "      <td>5.0</td>\n",
       "      <td>2017-01-05</td>\n",
       "      <td>145.0</td>\n",
       "    </tr>\n",
       "    <tr>\n",
       "      <th>1</th>\n",
       "      <td>6.0</td>\n",
       "      <td>2017-01-06</td>\n",
       "      <td>1455.0</td>\n",
       "    </tr>\n",
       "    <tr>\n",
       "      <th>2</th>\n",
       "      <td>7.0</td>\n",
       "      <td>2017-01-07</td>\n",
       "      <td>199.0</td>\n",
       "    </tr>\n",
       "    <tr>\n",
       "      <th>3</th>\n",
       "      <td>8.0</td>\n",
       "      <td>2017-01-09</td>\n",
       "      <td>188.0</td>\n",
       "    </tr>\n",
       "  </tbody>\n",
       "</table>\n",
       "</div>"
      ],
      "text/plain": [
       "    id visit_date  people\n",
       "0  5.0 2017-01-05   145.0\n",
       "1  6.0 2017-01-06  1455.0\n",
       "2  7.0 2017-01-07   199.0\n",
       "3  8.0 2017-01-09   188.0"
      ]
     },
     "metadata": {},
     "output_type": "display_data"
    },
    {
     "data": {
      "text/html": [
       "<div>\n",
       "<style scoped>\n",
       "    .dataframe tbody tr th:only-of-type {\n",
       "        vertical-align: middle;\n",
       "    }\n",
       "\n",
       "    .dataframe tbody tr th {\n",
       "        vertical-align: top;\n",
       "    }\n",
       "\n",
       "    .dataframe thead th {\n",
       "        text-align: right;\n",
       "    }\n",
       "</style>\n",
       "<table border=\"1\" class=\"dataframe\">\n",
       "  <thead>\n",
       "    <tr style=\"text-align: right;\">\n",
       "      <th></th>\n",
       "      <th>id</th>\n",
       "      <th>visit_date</th>\n",
       "      <th>people</th>\n",
       "    </tr>\n",
       "  </thead>\n",
       "  <tbody>\n",
       "    <tr>\n",
       "      <th>0</th>\n",
       "      <td>5.0</td>\n",
       "      <td>2017-01-05T00:00:00</td>\n",
       "      <td>145.0</td>\n",
       "    </tr>\n",
       "    <tr>\n",
       "      <th>1</th>\n",
       "      <td>6.0</td>\n",
       "      <td>2017-01-06T00:00:00</td>\n",
       "      <td>1455.0</td>\n",
       "    </tr>\n",
       "    <tr>\n",
       "      <th>2</th>\n",
       "      <td>7.0</td>\n",
       "      <td>2017-01-07T00:00:00</td>\n",
       "      <td>199.0</td>\n",
       "    </tr>\n",
       "    <tr>\n",
       "      <th>3</th>\n",
       "      <td>8.0</td>\n",
       "      <td>2017-01-09T00:00:00</td>\n",
       "      <td>188.0</td>\n",
       "    </tr>\n",
       "  </tbody>\n",
       "</table>\n",
       "</div>"
      ],
      "text/plain": [
       "    id           visit_date  people\n",
       "0  5.0  2017-01-05T00:00:00   145.0\n",
       "1  6.0  2017-01-06T00:00:00  1455.0\n",
       "2  7.0  2017-01-07T00:00:00   199.0\n",
       "3  8.0  2017-01-09T00:00:00   188.0"
      ]
     },
     "metadata": {},
     "output_type": "display_data"
    },
    {
     "data": {
      "text/html": [
       "<div>\n",
       "<style scoped>\n",
       "    .dataframe tbody tr th:only-of-type {\n",
       "        vertical-align: middle;\n",
       "    }\n",
       "\n",
       "    .dataframe tbody tr th {\n",
       "        vertical-align: top;\n",
       "    }\n",
       "\n",
       "    .dataframe thead th {\n",
       "        text-align: right;\n",
       "    }\n",
       "</style>\n",
       "<table border=\"1\" class=\"dataframe\">\n",
       "  <thead>\n",
       "    <tr style=\"text-align: right;\">\n",
       "      <th></th>\n",
       "      <th>id</th>\n",
       "      <th>visit_date</th>\n",
       "      <th>people</th>\n",
       "    </tr>\n",
       "  </thead>\n",
       "  <tbody>\n",
       "    <tr>\n",
       "      <th>0</th>\n",
       "      <td>5.0</td>\n",
       "      <td>2017-01-05T00:00:00</td>\n",
       "      <td>145.0</td>\n",
       "    </tr>\n",
       "    <tr>\n",
       "      <th>1</th>\n",
       "      <td>6.0</td>\n",
       "      <td>2017-01-06T00:00:00</td>\n",
       "      <td>1455.0</td>\n",
       "    </tr>\n",
       "    <tr>\n",
       "      <th>2</th>\n",
       "      <td>7.0</td>\n",
       "      <td>2017-01-07T00:00:00</td>\n",
       "      <td>199.0</td>\n",
       "    </tr>\n",
       "    <tr>\n",
       "      <th>3</th>\n",
       "      <td>8.0</td>\n",
       "      <td>2017-01-09T00:00:00</td>\n",
       "      <td>188.0</td>\n",
       "    </tr>\n",
       "  </tbody>\n",
       "</table>\n",
       "</div>"
      ],
      "text/plain": [
       "    id           visit_date  people\n",
       "0  5.0  2017-01-05T00:00:00   145.0\n",
       "1  6.0  2017-01-06T00:00:00  1455.0\n",
       "2  7.0  2017-01-07T00:00:00   199.0\n",
       "3  8.0  2017-01-09T00:00:00   188.0"
      ]
     },
     "metadata": {},
     "output_type": "display_data"
    }
   ],
   "source": [
    "temp = read_lc_df(\"\"\"\n",
    "+------+------------+-----------+\n",
    "| id   | visit_date | people    |\n",
    "+------+------------+-----------+\n",
    "| 1    | 2017-01-01 | 10        |\n",
    "| 2    | 2017-01-02 | 109       |\n",
    "| 3    | 2017-01-03 | 150       |\n",
    "| 4    | 2017-01-04 | 99        |\n",
    "| 5    | 2017-01-05 | 145       |\n",
    "| 6    | 2017-01-06 | 1455      |\n",
    "| 7    | 2017-01-07 | 199       |\n",
    "| 8    | 2017-01-09 | 188       |\n",
    "+------+------------+-----------+\n",
    "\"\"\")\n",
    "\n",
    "temp['visit_date'] = pd.to_datetime(temp['visit_date'])\n",
    "\n",
    "def human_traffic_df(stadium: pd.DataFrame) -> pd.DataFrame:\n",
    "    df = stadium[stadium['people'] >= 100]\n",
    "    ids = set(df['id'])\n",
    "    result = []\n",
    "    for row in df.itertuples():\n",
    "        row = row[1:]\n",
    "        curr_id = row[0]\n",
    "        if curr_id - 1 in ids and curr_id - 2 in ids:\n",
    "            result.append(row)\n",
    "        elif curr_id - 1 in ids and curr_id + 1 in ids:\n",
    "            result.append(row)\n",
    "        elif curr_id + 1 in ids and curr_id + 2 in ids:\n",
    "            result.append(row)\n",
    "\n",
    "    df = pd.DataFrame.from_records(result, columns=stadium.columns)\n",
    "    df.columns = stadium.columns\n",
    "    return df\n",
    "\n",
    "# Pandas / python solution\n",
    "display(human_traffic_df(temp))\n",
    "\n",
    "# Write to SQL DB\n",
    "temp.to_sql(\"temp\", if_exists='replace', con=conn, index=False)\n",
    "\n",
    "display(pd.read_sql(\"\"\"\n",
    "    with cte1 as (\n",
    "        select *,  id - row_number() over(order by id asc) as rnk\n",
    "        from temp\n",
    "        where people >= 100\n",
    "    ),\n",
    "\n",
    "    cte2 as (\n",
    "        select c.*, count(*) over (partition by rnk) rnk_count from cte1 c order by c.visit_date\n",
    "    )\n",
    "\n",
    "    select c.id, c.visit_date, c.people from cte2 c where c.rnk_count > 2\n",
    "\"\"\", con=conn))\n",
    "\n",
    "display(pd.read_sql(\"\"\"\n",
    "    with cte1 as (\n",
    "        select * from temp where people >= 100\n",
    "    ),\n",
    "\n",
    "    cte2 as (\n",
    "        select\n",
    "                c.*,\n",
    "                ifnull(-c.id - 1 + lead(id, 1) over (), 1) = 0 as lead1,\n",
    "                ifnull(-c.id - 2 + lead(id, 2) over (), 1) = 0 as lead2,\n",
    "                ifnull(c.id - 1 - lag(id, 1) over (), 1) = 0 as lag1,\n",
    "                ifnull(c.id - 2 - lag(id, 2) over (), 1) = 0 as lag2\n",
    "        from cte1 c\n",
    "    ),\n",
    "\n",
    "    cte3 as (\n",
    "        select\n",
    "            c.*,\n",
    "            (lead1 + lead2 + lag1 + lag2) as filter\n",
    "        from cte2 c\n",
    "    )\n",
    "\n",
    "    select c.id, c.visit_date, c.people from cte3 c where c.filter >= 2\n",
    "\"\"\", con=conn))"
   ]
  },
  {
   "cell_type": "markdown",
   "id": "bb60b0db",
   "metadata": {
    "papermill": {
     "duration": 0.01637,
     "end_time": "2024-03-02T17:02:03.196604",
     "exception": false,
     "start_time": "2024-03-02T17:02:03.180234",
     "status": "completed"
    },
    "tags": []
   },
   "source": [
    "# 4. \n",
    "Date: 10th Feb 2024<br>\n",
    "Hard Leetcode: largest-rectangle-in-histogram<br>\n",
    "Solution: https://leetcode.com/problems/largest-rectangle-in-histogram/submissions/1171340811"
   ]
  },
  {
   "cell_type": "code",
   "execution_count": 7,
   "id": "1c9c6701",
   "metadata": {
    "execution": {
     "iopub.execute_input": "2024-03-02T17:02:03.224595Z",
     "iopub.status.busy": "2024-03-02T17:02:03.223060Z",
     "iopub.status.idle": "2024-03-02T17:02:03.236808Z",
     "shell.execute_reply": "2024-03-02T17:02:03.235308Z"
    },
    "papermill": {
     "duration": 0.030313,
     "end_time": "2024-03-02T17:02:03.239721",
     "exception": false,
     "start_time": "2024-03-02T17:02:03.209408",
     "status": "completed"
    },
    "tags": []
   },
   "outputs": [],
   "source": [
    "class Solution:\n",
    "    def largestRectangleArea(self, heights: List[int]) -> int:\n",
    "        \"\"\"\n",
    "        For each hist, count the number of adjacent hist less than or equal to itself\n",
    "        Travel left to right, find the next smallest number, repeat by travelling from left to right\n",
    "        \"\"\"\n",
    "        N = len(heights)\n",
    "        nge_rtl, nge_ltr = [N - 1 for _ in range(N)], [0 for _ in range(N)]\n",
    "        stack = []\n",
    "        for i in range(N):\n",
    "            while stack and heights[stack[-1]] > heights[i]:\n",
    "                nge_rtl[stack.pop()] = i - 1\n",
    "            stack.append(i)\n",
    "\n",
    "        stack = []\n",
    "        for i in range(N - 1, -1, -1):\n",
    "            while stack and heights[stack[-1]] > heights[i]:\n",
    "                nge_ltr[stack.pop()] = i + 1\n",
    "            stack.append(i)\n",
    "\n",
    "        maxArea = -math.inf\n",
    "        for i in range(N):\n",
    "            curr = heights[i]\n",
    "            curr = (nge_rtl[i] - nge_ltr[i] + 1) * curr\n",
    "            maxArea = max(maxArea, curr)\n",
    "\n",
    "        return maxArea\n",
    "\n",
    "# Testing the soltuion\n",
    "assert Solution().largestRectangleArea([2, 1, 5, 6, 2, 3]) == 10\n",
    "assert Solution().largestRectangleArea([2,4]) == 4"
   ]
  },
  {
   "cell_type": "markdown",
   "id": "0113c7f7",
   "metadata": {
    "papermill": {
     "duration": 0.011651,
     "end_time": "2024-03-02T17:02:03.262748",
     "exception": false,
     "start_time": "2024-03-02T17:02:03.251097",
     "status": "completed"
    },
    "tags": []
   },
   "source": [
    "# 5. \n",
    "Date: 11th Feb 2024<br>\n",
    "Hard Leetcode: cherry-pickup-II<br>\n",
    "Solution: https://leetcode.com/problems/cherry-pickup-ii/submissions/1172053835/"
   ]
  },
  {
   "cell_type": "code",
   "execution_count": 8,
   "id": "de9451b0",
   "metadata": {
    "execution": {
     "iopub.execute_input": "2024-03-02T17:02:03.289399Z",
     "iopub.status.busy": "2024-03-02T17:02:03.288588Z",
     "iopub.status.idle": "2024-03-02T17:02:03.303015Z",
     "shell.execute_reply": "2024-03-02T17:02:03.301303Z"
    },
    "papermill": {
     "duration": 0.031077,
     "end_time": "2024-03-02T17:02:03.305712",
     "exception": false,
     "start_time": "2024-03-02T17:02:03.274635",
     "status": "completed"
    },
    "tags": []
   },
   "outputs": [],
   "source": [
    "class Solution:\n",
    "    def cherryPickup(self, grid: List[List[int]]) -> int:\n",
    "        M = len(grid)\n",
    "        N = len(grid[0])\n",
    "\n",
    "        @functools.cache\n",
    "        def backtrack(i: int, r1: int, r2: int) -> int:\n",
    "            if 0 <= r1 < N and 0 <= r2 < N and r1 != r2:\n",
    "                curr = grid[i][r1] + grid[i][r2]\n",
    "                if i == M - 1:\n",
    "                    return curr\n",
    "                else:\n",
    "                    return curr + max(\n",
    "                        backtrack(i + 1, r1 - 1, r2 - 1),\n",
    "                        backtrack(i + 1, r1 - 1, r2),\n",
    "                        backtrack(i + 1, r1 - 1, r2 + 1),\n",
    "                        backtrack(i + 1, r1, r2 - 1),\n",
    "                        backtrack(i + 1, r1, r2),\n",
    "                        backtrack(i + 1, r1, r2 + 1),\n",
    "                        backtrack(i + 1, r1 + 1, r2 - 1),\n",
    "                        backtrack(i + 1, r1 + 1, r2),\n",
    "                        backtrack(i + 1, r1 + 1, r2 + 1),\n",
    "                    )\n",
    "            else:\n",
    "                return -math.inf\n",
    "\n",
    "        result = backtrack(0, 0, N - 1)\n",
    "        return result\n",
    "\n",
    "# Testing the solution\n",
    "assert Solution().cherryPickup([[3,1,1],[2,5,1],[1,5,5],[2,1,1]]) == 24\n",
    "assert Solution().cherryPickup([[1,0,0,0,0,0,1],[2,0,0,0,0,3,0],[2,0,9,0,0,0,0],[0,3,0,5,4,0,0],[1,0,2,3,0,0,6]]) == 28"
   ]
  },
  {
   "cell_type": "markdown",
   "id": "e7fe1525",
   "metadata": {
    "papermill": {
     "duration": 0.01241,
     "end_time": "2024-03-02T17:02:03.330114",
     "exception": false,
     "start_time": "2024-03-02T17:02:03.317704",
     "status": "completed"
    },
    "tags": []
   },
   "source": [
    "# 6. \n",
    "Date: 11th Feb 2024<br>\n",
    "Hard Leetcode: candy<br>\n",
    "Solution: https://leetcode.com/problems/candy/submissions/1172096247"
   ]
  },
  {
   "cell_type": "code",
   "execution_count": 9,
   "id": "46ba626a",
   "metadata": {
    "execution": {
     "iopub.execute_input": "2024-03-02T17:02:03.357036Z",
     "iopub.status.busy": "2024-03-02T17:02:03.356389Z",
     "iopub.status.idle": "2024-03-02T17:02:03.369874Z",
     "shell.execute_reply": "2024-03-02T17:02:03.368341Z"
    },
    "papermill": {
     "duration": 0.031054,
     "end_time": "2024-03-02T17:02:03.372740",
     "exception": false,
     "start_time": "2024-03-02T17:02:03.341686",
     "status": "completed"
    },
    "tags": []
   },
   "outputs": [],
   "source": [
    "class Solution:\n",
    "    def candy(self, ratings: List[int]) -> int:\n",
    "        \"\"\"\n",
    "        Initially all positions are Unknown\n",
    "        Start with the lowest rated indices all the way till the highest rated indices\n",
    "\n",
    "        1. Both neighbours are unknown - assign the student with 1 child\n",
    "        2. One neighbour is known - increment neighbour + 1\n",
    "        3. Both neighbours are known - max(left_neighbour, right_neighbour) + 1\n",
    "\n",
    "        [2, 2, 0, 3, 1, 0]\n",
    "\n",
    "        [_, _, _, _, _, _]\n",
    "        [_, _, 1, _, _, 1]\n",
    "        [_, _, 1, _, 2, 1]\n",
    "        [1, 2, 1, _, 2, 1]\n",
    "        [1, 2, 1, 3, 2, 1]\n",
    "\n",
    "        sum([1, 2, 1, 3, 2, 1]) => 10\n",
    "        \"\"\"\n",
    "\n",
    "        N = len(ratings)\n",
    "        indices = dict()\n",
    "        for i in range(N):\n",
    "            curr = indices.get(ratings[i], [])\n",
    "            curr.append(i)\n",
    "            indices[ratings[i]] = curr\n",
    "\n",
    "        if N == 1:\n",
    "            return 1\n",
    "        else:\n",
    "            dp = [0 for _ in range(N)]\n",
    "            for key in sorted(indices.keys()):\n",
    "                curr = [*dp]\n",
    "                for idx in indices[key]:\n",
    "                    dp[idx] = 1 + max(curr[idx - 1] if idx > 0 else -math.inf, curr[idx + 1] if idx < N - 1 else -math.inf)\n",
    "            return sum(dp)\n",
    "\n",
    "# Testing the solution\n",
    "assert Solution().candy([1,0,2]) == 5\n",
    "assert Solution().candy([0]) == 1\n",
    "assert Solution().candy([1,2,2]) == 4\n",
    "assert Solution().candy([1,2,3,3]) == 7\n",
    "assert Solution().candy([1,2,3,3,1]) == 9\n",
    "assert Solution().candy([1,2,3,3,1,0]) == 12 \n",
    "assert Solution().candy([2,2,3,3,1,0]) == 10\n",
    "assert Solution().candy([2,2,0,3,1,0]) == 10\n",
    "assert Solution().candy([1,2,0,2,0,0,1,2,2,3,4,0,5]) == 22"
   ]
  },
  {
   "cell_type": "markdown",
   "id": "a4dca8fb",
   "metadata": {
    "papermill": {
     "duration": 0.012555,
     "end_time": "2024-03-02T17:02:03.397059",
     "exception": false,
     "start_time": "2024-03-02T17:02:03.384504",
     "status": "completed"
    },
    "tags": []
   },
   "source": [
    "# 7. \n",
    "Date: 12th Feb 2024<br>\n",
    "Hard Leetcode: n-queens<br>\n",
    "Solution: https://leetcode.com/problems/n-queens/submissions/1173381198"
   ]
  },
  {
   "cell_type": "code",
   "execution_count": 10,
   "id": "3c9a900c",
   "metadata": {
    "execution": {
     "iopub.execute_input": "2024-03-02T17:02:03.424795Z",
     "iopub.status.busy": "2024-03-02T17:02:03.423968Z",
     "iopub.status.idle": "2024-03-02T17:02:03.437120Z",
     "shell.execute_reply": "2024-03-02T17:02:03.435656Z"
    },
    "papermill": {
     "duration": 0.030401,
     "end_time": "2024-03-02T17:02:03.439894",
     "exception": false,
     "start_time": "2024-03-02T17:02:03.409493",
     "status": "completed"
    },
    "tags": []
   },
   "outputs": [],
   "source": [
    "class Solution:\n",
    "    def solveNQueens(self, N: int) -> List[List[str]]:\n",
    "        board = [[\".\" for _ in range(N)] for __ in range(N)]\n",
    "\n",
    "        def canPlace(i_: int, j_: int) -> bool:\n",
    "            \"\"\"\n",
    "            This function can be optimized. Instead of iterating through to all the cells - \n",
    "            Simply check for each placed queen if the current position is a conflict. Gonna try later :)\n",
    "\n",
    "            This would make the checks for each queen constant time.\n",
    "            \"\"\"\n",
    "            for dir_ in [(-1, 0), (1, 0), (0, -1), (0, 1), (1, 1), (-1, -1), (-1, 1), (1, -1)]:\n",
    "                row, col = i_, j_\n",
    "                while 0 <= row < N and 0 <= col < N:\n",
    "                    if board[row][col] == 'Q':\n",
    "                        return False\n",
    "                    row, col = row + dir_[0], col + dir_[1]\n",
    "            return True\n",
    "\n",
    "        result = []\n",
    "        def backtrack(i: int = 0) -> List[List[str]]:\n",
    "            if i == N:\n",
    "                result.append([\"\".join(row_) for row_ in board])\n",
    "                return\n",
    "            for j in range(N):\n",
    "                if canPlace(i, j):\n",
    "                    board[i][j] = 'Q'\n",
    "                    backtrack(i + 1)\n",
    "                    board[i][j] = '.'\n",
    "\n",
    "        backtrack()\n",
    "        return result\n",
    "\n",
    "# Testing the solution\n",
    "assert Solution().solveNQueens(4) == [['.Q..', '...Q', 'Q...', '..Q.'], ['..Q.', 'Q...', '...Q', '.Q..']]"
   ]
  },
  {
   "cell_type": "markdown",
   "id": "a852c313",
   "metadata": {
    "papermill": {
     "duration": 0.013144,
     "end_time": "2024-03-02T17:02:03.465128",
     "exception": false,
     "start_time": "2024-03-02T17:02:03.451984",
     "status": "completed"
    },
    "tags": []
   },
   "source": [
    "# 8. \n",
    "Date: 13th Feb 2024<br>\n",
    "Hard Leetcode: dungeon-game<br>\n",
    "Solution: https://leetcode.com/problems/dungeon-game/submissions/1173675729"
   ]
  },
  {
   "cell_type": "code",
   "execution_count": 11,
   "id": "4a565ada",
   "metadata": {
    "execution": {
     "iopub.execute_input": "2024-03-02T17:02:03.494382Z",
     "iopub.status.busy": "2024-03-02T17:02:03.493561Z",
     "iopub.status.idle": "2024-03-02T17:02:03.505172Z",
     "shell.execute_reply": "2024-03-02T17:02:03.503604Z"
    },
    "papermill": {
     "duration": 0.029365,
     "end_time": "2024-03-02T17:02:03.507833",
     "exception": false,
     "start_time": "2024-03-02T17:02:03.478468",
     "status": "completed"
    },
    "tags": []
   },
   "outputs": [],
   "source": [
    "class Solution:\n",
    "    def calculateMinimumHP(self, dungeon: List[List[int]]) -> int:\n",
    "        \"\"\"\n",
    "        If curr is positive or 0, minHealth is 1\n",
    "        if curr is negative, 1 - curr\n",
    "\n",
    "        Keep track of minHealth required to start at that cell and also accumulated health\n",
    "        \"\"\"\n",
    "\n",
    "        M = len(dungeon)\n",
    "        N = len(dungeon[0])\n",
    "\n",
    "        for i in range(M - 1, -1, -1):\n",
    "            for j in range(N - 1, -1, -1):\n",
    "                curr = 1 - dungeon[i][j]\n",
    "                safestChoicePath = min(dungeon[i + 1][j] if i + 1 < M else math.inf, dungeon[i][j + 1] if j + 1 < N else math.inf)\n",
    "                if safestChoicePath == math.inf:\n",
    "                    safestChoicePath = 1\n",
    "                dungeon[i][j] = max(1, curr + safestChoicePath - 1)\n",
    "\n",
    "        return dungeon[0][0]\n",
    "\n",
    "# Testing the solution\n",
    "assert Solution().calculateMinimumHP([[-2,-3,3],[-5,-10,1],[10,30,-5]]) == 7\n",
    "assert Solution().calculateMinimumHP([[2,3,3],[-5,10,1],[10,30,5]]) == 1\n",
    "assert Solution().calculateMinimumHP([[1,2,3],[-4,-5,6],[-7,-8,-9]]) == 1\n",
    "assert Solution().calculateMinimumHP([[0]]) == 1"
   ]
  },
  {
   "cell_type": "markdown",
   "id": "c9dfa58d",
   "metadata": {
    "papermill": {
     "duration": 0.012057,
     "end_time": "2024-03-02T17:02:03.531336",
     "exception": false,
     "start_time": "2024-03-02T17:02:03.519279",
     "status": "completed"
    },
    "tags": []
   },
   "source": [
    "# 9. \n",
    "Date: 13th Feb 2024<br>\n",
    "Hard Leetcode: number-of-digit-one<br>\n",
    "Solution: https://leetcode.com/problems/number-of-digit-one/submissions/1174159411"
   ]
  },
  {
   "cell_type": "code",
   "execution_count": 12,
   "id": "2d3aec91",
   "metadata": {
    "execution": {
     "iopub.execute_input": "2024-03-02T17:02:03.558361Z",
     "iopub.status.busy": "2024-03-02T17:02:03.557327Z",
     "iopub.status.idle": "2024-03-02T17:02:03.784952Z",
     "shell.execute_reply": "2024-03-02T17:02:03.782971Z"
    },
    "papermill": {
     "duration": 0.245931,
     "end_time": "2024-03-02T17:02:03.788962",
     "exception": false,
     "start_time": "2024-03-02T17:02:03.543031",
     "status": "completed"
    },
    "tags": []
   },
   "outputs": [
    {
     "name": "stderr",
     "output_type": "stream",
     "text": [
      "\r",
      "  0%|                                                                                                                              | 0/1001 [00:00<?, ?it/s]"
     ]
    },
    {
     "name": "stderr",
     "output_type": "stream",
     "text": [
      "\r",
      " 71%|████████████████████████████████████████████████████████████████████████████████▋                                 | 708/1001 [00:00<00:00, 7062.63it/s]"
     ]
    },
    {
     "name": "stderr",
     "output_type": "stream",
     "text": [
      "\r",
      "100%|█████████████████████████████████████████████████████████████████████████████████████████████████████████████████| 1001/1001 [00:00<00:00, 4896.72it/s]"
     ]
    },
    {
     "name": "stderr",
     "output_type": "stream",
     "text": [
      "\n"
     ]
    }
   ],
   "source": [
    "class Solution:\n",
    "\n",
    "    def countDigitOne_(self, n: int) -> int:\n",
    "        i, prev, curr = 0, 0, 0\n",
    "        while i <= n:\n",
    "            curr = prev + str(i).count('1')\n",
    "            prev = curr\n",
    "            i += 1\n",
    "        return curr\n",
    "\n",
    "    def countDigitOne(self, n: int) -> int:\n",
    "        \"\"\"\n",
    "        How many times does 1 occur for each digit position?\n",
    "\n",
    "        For eg:\n",
    "                Say n = 999 (100, 10, 1)\n",
    "                1 in 100s position: 100\n",
    "                1 in 10s position: 100\n",
    "                1 in 1s position: 100\n",
    "\n",
    "        For max n: n_digits * (10 ^ (n_digits - 1))\n",
    "\n",
    "        General Logic:\n",
    "        Iterate through digits (right to left, even left to right should work)\n",
    "            If curr == 0: result += left * factor\n",
    "            Elif curr == 1: result += (left * factor) + (right + 1)\n",
    "            Else: result += (left + 1) * factor\n",
    "\n",
    "        \"\"\"\n",
    "\n",
    "        result, factor = 0, 1\n",
    "        s = str(n)\n",
    "        N = len(s)\n",
    "\n",
    "        for i in range(-1, -N -1, -1):\n",
    "\n",
    "            curr = int(s[i])\n",
    "            left = int(s[:i]) if i > -N else -1 if s[0] == 1 else 0\n",
    "            right = int(s[i+1:]) if i < -1 else -1 if s[-1] == 0 else 0\n",
    "\n",
    "            if curr == 0:\n",
    "                result += left * factor\n",
    "            elif curr == 1:\n",
    "                result += (left * factor) + right + 1\n",
    "            else:\n",
    "                result += (left + 1) * factor\n",
    "\n",
    "            factor *= 10\n",
    "\n",
    "        return result\n",
    "\n",
    "# Testing the solution\n",
    "for _ in tqdm.tqdm(range(1001)):\n",
    "    assert Solution().countDigitOne_(_) == Solution().countDigitOne(_), f\"Failed for {_}\""
   ]
  },
  {
   "cell_type": "markdown",
   "id": "e142f6b7",
   "metadata": {
    "papermill": {
     "duration": 0.016352,
     "end_time": "2024-03-02T17:02:03.818100",
     "exception": false,
     "start_time": "2024-03-02T17:02:03.801748",
     "status": "completed"
    },
    "tags": []
   },
   "source": [
    "# 10. \n",
    "Date: 14th Feb 2024<br>\n",
    "Hard Leetcode: my-calendar-iii<br>\n",
    "Solution: https://leetcode.com/problems/my-calendar-iii/submissions/1174676799/"
   ]
  },
  {
   "cell_type": "code",
   "execution_count": 13,
   "id": "1cf74e65",
   "metadata": {
    "execution": {
     "iopub.execute_input": "2024-03-02T17:02:03.847909Z",
     "iopub.status.busy": "2024-03-02T17:02:03.846478Z",
     "iopub.status.idle": "2024-03-02T17:02:03.873161Z",
     "shell.execute_reply": "2024-03-02T17:02:03.871264Z"
    },
    "papermill": {
     "duration": 0.045747,
     "end_time": "2024-03-02T17:02:03.876865",
     "exception": false,
     "start_time": "2024-03-02T17:02:03.831118",
     "status": "completed"
    },
    "tags": []
   },
   "outputs": [],
   "source": [
    "class MyCalendarThree:\n",
    "\n",
    "    def __init__(self):\n",
    "        self.calendar = []\n",
    "        self.K = -math.inf\n",
    "\n",
    "    def book_(self, startTime: int, endTime: int) -> int:\n",
    "        \"Will timeout\"\n",
    "        K = -math.inf\n",
    "        for ct in range(startTime, endTime + 1):\n",
    "            curr = 1\n",
    "            for es, ee in self.calendar:\n",
    "                if es < ct < ee or es < ct < ee:\n",
    "                    curr += 1\n",
    "            K = max(K, curr)\n",
    "\n",
    "        self.calendar.append([startTime, endTime])\n",
    "        self.K = max(self.K, K)\n",
    "        return self.K\n",
    "\n",
    "    def book_(self, startTime: int, endTime: int) -> int:\n",
    "        \"Optimized a bit by using dictionaries to remove duplicates. Time complexity in worst case is still 2^N\"\n",
    "        updated = dict()\n",
    "        for es, ee, ec in self.calendar:\n",
    "            lt, gt = sorted([[startTime, endTime], [es, ee]])\n",
    "            if lt[0] <= gt[0] < lt[1]:\n",
    "                overlap = (max(startTime, es), min(endTime, ee))\n",
    "                updated[overlap] = max(updated.get(overlap, 0), ec + 1)\n",
    "            updated[(es, ee)] = max(updated.get((es, ee), 0), ec)\n",
    "        updated[(startTime, endTime)] = max(updated.get((startTime, endTime), 0), 1)\n",
    "        self.calendar = list(map(lambda x: (x[0][0], x[0][1], x[1]), updated.items()))\n",
    "        return max(self.calendar, key=lambda x: x[2])[2]\n",
    "\n",
    "    def book(self, startTime: int, endTime: int) -> int:\n",
    "        \"https://www.youtube.com/watch?v=gbJKlcokAIo\"\n",
    "\n",
    "        start = bisect.bisect(self.calendar, (startTime, 1))\n",
    "        if start < len(self.calendar) and self.calendar[start][0] == startTime:\n",
    "            self.calendar[start] = (startTime, self.calendar[start][1] + 1)\n",
    "        else:\n",
    "            bisect.insort(self.calendar, (startTime, 1))\n",
    "\n",
    "        end = bisect.bisect(self.calendar, (endTime, 1))\n",
    "        if end < len(self.calendar) and self.calendar[end][0] == endTime:\n",
    "            self.calendar[end] = (endTime, self.calendar[end][1] - 1)\n",
    "        else:\n",
    "            bisect.insort(self.calendar, (endTime, -1))\n",
    "\n",
    "        K = -math.inf\n",
    "        curr = 0\n",
    "        for _, c in self.calendar:\n",
    "            curr += c\n",
    "            K = max(K, curr)\n",
    "\n",
    "        return K\n",
    "\n",
    "# Testing the solution\n",
    "Solution = MyCalendarThree()\n",
    "temp = (\n",
    "    [[10, 20], [50, 60], [10, 40], [5, 15], [5, 10], [25, 55], [0, 100]],\n",
    "    [1, 1, 2, 3, 3, 3, 4]\n",
    ")\n",
    "for i in range(len(temp[0])):\n",
    "    assert Solution.book(*temp[0][i]) == temp[1][i]"
   ]
  },
  {
   "cell_type": "markdown",
   "id": "f6af9dab",
   "metadata": {
    "papermill": {
     "duration": 0.021169,
     "end_time": "2024-03-02T17:02:03.918077",
     "exception": false,
     "start_time": "2024-03-02T17:02:03.896908",
     "status": "completed"
    },
    "tags": []
   },
   "source": [
    "# 11. \n",
    "Date: 15th Feb 2024<br>\n",
    "Hard Leetcode: sliding-window-maximum<br>\n",
    "Solution: https://leetcode.com/problems/sliding-window-maximum/submissions/1175614381"
   ]
  },
  {
   "cell_type": "code",
   "execution_count": 14,
   "id": "960b7976",
   "metadata": {
    "execution": {
     "iopub.execute_input": "2024-03-02T17:02:03.956684Z",
     "iopub.status.busy": "2024-03-02T17:02:03.955866Z",
     "iopub.status.idle": "2024-03-02T17:02:03.972519Z",
     "shell.execute_reply": "2024-03-02T17:02:03.970840Z"
    },
    "papermill": {
     "duration": 0.036183,
     "end_time": "2024-03-02T17:02:03.975156",
     "exception": false,
     "start_time": "2024-03-02T17:02:03.938973",
     "status": "completed"
    },
    "tags": []
   },
   "outputs": [],
   "source": [
    "class Solution:\n",
    "    def maxSlidingWindow_(self, nums: List[int], k: int) -> List[int]:\n",
    "        \"Times out\"\n",
    "        N = len(nums)\n",
    "        if k == 1:\n",
    "            return nums\n",
    "        elif N == k:\n",
    "            return [max(nums)]\n",
    "        else:\n",
    "            stack = sorted(((n, i) for i, n in enumerate(nums)))\n",
    "            result = [None] * N\n",
    "            for n, start in stack:\n",
    "                result[start: start + k] = [n] * k\n",
    "            result = result[k - 1: 1 - k]\n",
    "            return result\n",
    "\n",
    "    def maxSlidingWindow(self, nums: List[int], k: int) -> List[int]:\n",
    "        \"\"\"\n",
    "        https://www.youtube.com/watch?v=CZQGRp93K4k\n",
    "        \"\"\"\n",
    "        N = len(nums)\n",
    "        deq = collections.deque()\n",
    "        result = []\n",
    "        for i in range(N):\n",
    "            while deq and nums[deq[-1]] < nums[i]:\n",
    "                deq.pop()\n",
    "            deq.append(i)\n",
    "            while deq[0] <= i - k:\n",
    "                deq.popleft()\n",
    "            if i >= k - 1:\n",
    "                result.append(nums[deq[0]])\n",
    "        return result\n",
    "\n",
    "# Testing the solution\n",
    "assert Solution().maxSlidingWindow([9, 8, 7, 6, 5], 5) == [9]\n",
    "assert Solution().maxSlidingWindow([9, 8, 7, 6, 5], 1) == [9, 8, 7, 6, 5]\n",
    "assert Solution().maxSlidingWindow([9, 8, 7, 6, 5, 4, 3, 2, 1], 3) == [9, 8, 7, 6, 5, 4, 3]\n",
    "assert Solution().maxSlidingWindow([1, 3, -1, -3, 5, 3, 6, 7], 3) == [3, 3, 5, 5, 6, 7]\n",
    "assert Solution().maxSlidingWindow([1, 3, -1, 3, 5, 9, 6, 7, 1], 3) == [3, 3, 5, 9, 9, 9, 7]\n",
    "assert Solution().maxSlidingWindow([1, 3, -1, 3, 5, 9, 6, 7], 5) == [5, 9, 9, 9]\n",
    "assert Solution().maxSlidingWindow([-7, -8, 7, 5, 7, 1, 6, 0],  4) == [7, 7, 7, 7, 7]"
   ]
  },
  {
   "cell_type": "markdown",
   "id": "e358e335",
   "metadata": {
    "papermill": {
     "duration": 0.021413,
     "end_time": "2024-03-02T17:02:04.049626",
     "exception": false,
     "start_time": "2024-03-02T17:02:04.028213",
     "status": "completed"
    },
    "tags": []
   },
   "source": [
    "# 12. \n",
    "Date: 16th Feb 2024<br>\n",
    "Hard Leetcode: word-search-ii<br>\n",
    "Solution: https://leetcode.com/problems/word-search-ii/submissions/1176699366"
   ]
  },
  {
   "cell_type": "code",
   "execution_count": 15,
   "id": "425b8f37",
   "metadata": {
    "execution": {
     "iopub.execute_input": "2024-03-02T17:02:04.088909Z",
     "iopub.status.busy": "2024-03-02T17:02:04.088473Z",
     "iopub.status.idle": "2024-03-02T17:02:04.107734Z",
     "shell.execute_reply": "2024-03-02T17:02:04.105980Z"
    },
    "papermill": {
     "duration": 0.040509,
     "end_time": "2024-03-02T17:02:04.110420",
     "exception": false,
     "start_time": "2024-03-02T17:02:04.069911",
     "status": "completed"
    },
    "tags": []
   },
   "outputs": [
    {
     "data": {
      "text/plain": [
       "{'eat', 'oatak', 'oath'}"
      ]
     },
     "execution_count": 15,
     "metadata": {},
     "output_type": "execute_result"
    }
   ],
   "source": [
    "class Solution:\n",
    "    def findWords(self, board: List[List[str]], words: List[str]) -> List[str]:\n",
    "\n",
    "        def prune_prefix_tree(word: str, curr_prefix: dict) -> None:\n",
    "            if word == \"\":\n",
    "                del curr_prefix[\"*\"]\n",
    "            else:\n",
    "                prune_prefix_tree(word[1:], curr_prefix[word[0]])\n",
    "                if len(curr_prefix) == 0:\n",
    "                    del curr_prefix[word[0]]\n",
    "\n",
    "        result = set()\n",
    "        def backtrack(i: int, j: int, curr_prefix: dict, visited: set[tuple[int]]):\n",
    "            if 0 <= i < M and 0 <= j < N and board[i][j] in curr_prefix:\n",
    "                next_prefix = curr_prefix[board[i][j]]\n",
    "                if \"*\" in next_prefix:\n",
    "                    result.add(next_prefix[\"*\"])\n",
    "                    prune_prefix_tree(next_prefix[\"*\"], prefix_tree)\n",
    "                for dir in [(-1, 0), (1, 0), (0, -1), (0, 1)]:\n",
    "                    i_, j_ = i + dir[0], j + dir[1]\n",
    "                    if (i_, j_) not in visited:\n",
    "                        backtrack(i_, j_, next_prefix, {*visited, (i_, j_)})\n",
    "\n",
    "        # Construct the prefix tree: O(word_length * number of words)\n",
    "        prefix_tree = dict()\n",
    "        for word in words:\n",
    "            curr = prefix_tree\n",
    "            for ch in word + \"*\":\n",
    "                curr[ch] = curr.get(ch, dict())\n",
    "                if ch == \"*\":\n",
    "                    curr[ch] = word\n",
    "                curr = curr[ch]\n",
    "\n",
    "        # Backtrack into the grid as long as there is a match, if match - remove word \n",
    "        M = len(board)\n",
    "        N = len(board[0])\n",
    "        for i in range(M):\n",
    "            for j in range(N):\n",
    "                backtrack(i, j, prefix_tree, {(i, j)})\n",
    "\n",
    "        return result\n",
    "\n",
    "# Testing the solution\n",
    "Solution().findWords([[\"o\",\"a\",\"a\",\"n\"],[\"e\",\"t\",\"a\",\"e\"],[\"i\",\"h\",\"k\",\"r\"],[\"i\",\"f\",\"l\",\"v\"]], [\"oath\",\"pea\",\"eat\",\"rain\", \"oatak\"])"
   ]
  },
  {
   "cell_type": "markdown",
   "id": "6e000b14",
   "metadata": {
    "papermill": {
     "duration": 0.015742,
     "end_time": "2024-03-02T17:02:04.138533",
     "exception": false,
     "start_time": "2024-03-02T17:02:04.122791",
     "status": "completed"
    },
    "tags": []
   },
   "source": [
    "# 13. \n",
    "Date: 16th Feb 2024<br>\n",
    "Hard Leetcode: maximum-score-words-formed-by-letters<br>\n",
    "Solution: https://leetcode.com/problems/maximum-score-words-formed-by-letters/submissions/1177035354/"
   ]
  },
  {
   "cell_type": "code",
   "execution_count": 16,
   "id": "028b23d3",
   "metadata": {
    "execution": {
     "iopub.execute_input": "2024-03-02T17:02:04.166515Z",
     "iopub.status.busy": "2024-03-02T17:02:04.165662Z",
     "iopub.status.idle": "2024-03-02T17:02:04.182722Z",
     "shell.execute_reply": "2024-03-02T17:02:04.181339Z"
    },
    "papermill": {
     "duration": 0.034436,
     "end_time": "2024-03-02T17:02:04.185442",
     "exception": false,
     "start_time": "2024-03-02T17:02:04.151006",
     "status": "completed"
    },
    "tags": []
   },
   "outputs": [],
   "source": [
    "class Solution:\n",
    "\n",
    "    def sub_dict(d1: dict, d2: dict):\n",
    "        updated = dict(d1)\n",
    "        for ch in d2:\n",
    "            if ch not in updated or updated[ch] < d2[ch]:\n",
    "                return None\n",
    "            else:\n",
    "                updated[ch] -= d2[ch]\n",
    "        return updated\n",
    "\n",
    "    def maxScoreWords(self, words: List[str], letters: List[str], score: List[int]) -> int:\n",
    "\n",
    "        N_WORDS = len(words)\n",
    "\n",
    "        # Letters_dict, words_dict, scores_dict\n",
    "        letters_ = dict(collections.Counter(letters))\n",
    "        words_ = []\n",
    "        scores_ = []\n",
    "        for word in words:\n",
    "            word_ = dict()\n",
    "            score_ = 0\n",
    "            for ch in word:\n",
    "                word_[ch] = word_.get(ch, 0) + 1\n",
    "                score_ += score[ord(ch) - 97]\n",
    "            words_.append(word_)\n",
    "            scores_.append(score_)\n",
    "\n",
    "        def backtrack(idx: int, ld: dict) -> int:\n",
    "\n",
    "            if idx >= N_WORDS:\n",
    "                return 0\n",
    "\n",
    "            word_freq = words_[idx]\n",
    "            result = -math.inf\n",
    "\n",
    "            # Pick\n",
    "            ld_pick = Solution.sub_dict(ld, word_freq)\n",
    "            if ld_pick:\n",
    "                result = scores_[idx] + backtrack(idx + 1, ld_pick)\n",
    "\n",
    "            # No Pick\n",
    "            result = max(result, backtrack(idx + 1, ld))\n",
    "\n",
    "            return result \n",
    "\n",
    "        result = backtrack(0, letters_)\n",
    "        return result\n",
    "\n",
    "# Testing the solution\n",
    "assert Solution().maxScoreWords([\"dog\",\"cat\",\"dad\",\"good\"], [\"a\",\"a\",\"c\",\"d\",\"d\",\"d\",\"g\",\"o\",\"o\"], [1,0,9,5,0,0,3,0,0,0,0,0,0,0,2,0,0,0,0,0,0,0,0,0,0,0]) == 23\n",
    "assert Solution().maxScoreWords([\"xxxz\",\"ax\",\"bx\",\"cx\"], [\"z\",\"a\",\"b\",\"c\",\"x\",\"x\",\"x\"], [4,4,4,0,0,0,0,0,0,0,0,0,0,0,0,0,0,0,0,0,0,0,0,5,0,10]) == 27\n",
    "assert Solution().maxScoreWords([\"leetcode\"], [\"l\",\"e\",\"t\",\"c\",\"o\",\"d\"], [0,0,1,1,1,0,0,0,0,0,0,1,0,0,1,0,0,0,0,1,0,0,0,0,0,0]) == 0\n",
    "assert Solution().maxScoreWords([\"baa\",\"bba\",\"ccb\",\"ac\"], [\"a\",\"b\",\"b\",\"b\",\"b\",\"c\"], [2,2,1,0,0,0,0,0,0,0,0,0,0,0,0,0,0,0,0,0,0,0,0,0,0,0]) == 6"
   ]
  },
  {
   "cell_type": "markdown",
   "id": "5ba6bf18",
   "metadata": {
    "papermill": {
     "duration": 0.054622,
     "end_time": "2024-03-02T17:02:04.253182",
     "exception": false,
     "start_time": "2024-03-02T17:02:04.198560",
     "status": "completed"
    },
    "tags": []
   },
   "source": [
    "# 14. \n",
    "Date: 17th Feb 2024<br>\n",
    "Hard Leetcode: permutation-sequence<br>\n",
    "Solution: https://leetcode.com/problems/permutation-sequence/submissions/1177409098/"
   ]
  },
  {
   "cell_type": "code",
   "execution_count": 17,
   "id": "8b94d5f2",
   "metadata": {
    "execution": {
     "iopub.execute_input": "2024-03-02T17:02:04.377924Z",
     "iopub.status.busy": "2024-03-02T17:02:04.376410Z",
     "iopub.status.idle": "2024-03-02T17:02:05.869306Z",
     "shell.execute_reply": "2024-03-02T17:02:05.867200Z"
    },
    "papermill": {
     "duration": 1.529312,
     "end_time": "2024-03-02T17:02:05.872160",
     "exception": false,
     "start_time": "2024-03-02T17:02:04.342848",
     "status": "completed"
    },
    "tags": []
   },
   "outputs": [
    {
     "name": "stderr",
     "output_type": "stream",
     "text": [
      "\r",
      "  0%|                                                                                                                                 | 0/7 [00:00<?, ?it/s]"
     ]
    },
    {
     "name": "stderr",
     "output_type": "stream",
     "text": [
      "\r",
      "100%|█████████████████████████████████████████████████████████████████████████████████████████████████████████████████████████| 7/7 [00:01<00:00,  4.77it/s]"
     ]
    },
    {
     "name": "stderr",
     "output_type": "stream",
     "text": [
      "\r",
      "100%|█████████████████████████████████████████████████████████████████████████████████████████████████████████████████████████| 7/7 [00:01<00:00,  4.77it/s]"
     ]
    },
    {
     "name": "stderr",
     "output_type": "stream",
     "text": [
      "\n"
     ]
    }
   ],
   "source": [
    "class Solution:\n",
    "    def getPermutation(self, n: int, k: int) -> str:\n",
    "\n",
    "        total = math.factorial(n)\n",
    "        nums = [str(_) for _ in range(1, n + 1)]\n",
    "\n",
    "        def backtrack(nums_: list[int], k_: int, n_: int, i_: int) -> str:\n",
    "            if len(nums_) == 1:\n",
    "                return nums_[0]\n",
    "\n",
    "            curr_idx = k_ // n_\n",
    "            curr = nums_[k_ // n_]\n",
    "\n",
    "            return curr + backtrack(sorted(nums_[:curr_idx] + nums_[curr_idx + 1:]), k_ % n_, n_ // i_, i_ - 1)\n",
    "\n",
    "        return backtrack(nums, k - 1, total // n, n - 1)\n",
    "\n",
    "    def naive(self, n: int, k: int) -> str:\n",
    "        nums = [str(_) for _ in range(1, n + 1)]\n",
    "        perms = itertools.permutations(nums, n)\n",
    "        result = None\n",
    "        for _ in range(k):\n",
    "            result = next(perms)\n",
    "\n",
    "        return \"\".join(result)\n",
    "\n",
    "# Testing the Solution\n",
    "for n in tqdm.tqdm(range(1, 8)):\n",
    "    for k in range(1, math.factorial(n) + 1):\n",
    "        assert Solution().naive(n, k) == Solution().getPermutation(n, k)\n",
    "\n",
    "assert Solution().getPermutation(9, math.factorial(9)) == '987654321'"
   ]
  },
  {
   "cell_type": "markdown",
   "id": "ddb98424",
   "metadata": {
    "papermill": {
     "duration": 0.016978,
     "end_time": "2024-03-02T17:02:05.905127",
     "exception": false,
     "start_time": "2024-03-02T17:02:05.888149",
     "status": "completed"
    },
    "tags": []
   },
   "source": [
    "# 15. \n",
    "Date: 17th Feb 2024<br>\n",
    "Hard Leetcode: max-points-on-a-line<br>\n",
    "Solution: https://leetcode.com/problems/max-points-on-a-line/submissions/1177463531/"
   ]
  },
  {
   "cell_type": "code",
   "execution_count": 18,
   "id": "83f57c9b",
   "metadata": {
    "execution": {
     "iopub.execute_input": "2024-03-02T17:02:05.934899Z",
     "iopub.status.busy": "2024-03-02T17:02:05.934421Z",
     "iopub.status.idle": "2024-03-02T17:02:05.947672Z",
     "shell.execute_reply": "2024-03-02T17:02:05.946115Z"
    },
    "papermill": {
     "duration": 0.031852,
     "end_time": "2024-03-02T17:02:05.950330",
     "exception": false,
     "start_time": "2024-03-02T17:02:05.918478",
     "status": "completed"
    },
    "tags": []
   },
   "outputs": [],
   "source": [
    "class Solution:\n",
    "    def equation(pt1: List[int], pt2: List[int]) -> List[int]:\n",
    "        \"\"\"\n",
    "        https://math.stackexchange.com/a/1734022\n",
    "        \"\"\"\n",
    "\n",
    "        # Points X, Y\n",
    "        (x1, y1), (x2, y2) = pt1, pt2\n",
    "\n",
    "        # Y = MX + C\n",
    "        if abs(x2 - x1) > 0:\n",
    "            M = (y2 - y1) / (x2 - x1)\n",
    "            C = ((x2 * y1) - (x1 * y2)) / (x2 - x1)\n",
    "            return M, C, None\n",
    "\n",
    "        else: # For cases where X = C\n",
    "            return None, None, x1\n",
    "\n",
    "    def maxPoints(self, points: List[List[int]]) -> int:\n",
    "        N = len(points)\n",
    "        if N == 1:\n",
    "            return 1\n",
    "        else:\n",
    "            hm: dict[tuple[int], set[tuple[int]]] = dict()\n",
    "            for i in range(N - 1):\n",
    "                for j in range(i + 1, N):\n",
    "                    eq = Solution.equation(points[i], points[j])\n",
    "                    line_pts = hm.get(eq, set())\n",
    "                    line_pts.add(tuple(points[i]))\n",
    "                    line_pts.add(tuple(points[j]))\n",
    "                    hm[eq] = line_pts\n",
    "\n",
    "            return max(map(len, hm.values()))\n",
    "\n",
    "# Testing the solution\n",
    "assert Solution().maxPoints([[1, 1], [3, 2], [5, 3], [4, 1], [2, 3], [1, 4], [6, -1]]) == 5\n",
    "assert Solution().maxPoints([[1, 1], [2, 2], [3, 3], [0, 0]]) == 4\n",
    "assert Solution().maxPoints([[0, 0]]) == 1\n",
    "assert Solution().maxPoints([[0, 1], [0, 2], [2, 2], [1, 0], [2, 0]]) == 2"
   ]
  },
  {
   "cell_type": "markdown",
   "id": "4dc097a0",
   "metadata": {
    "papermill": {
     "duration": 0.012544,
     "end_time": "2024-03-02T17:02:05.975392",
     "exception": false,
     "start_time": "2024-03-02T17:02:05.962848",
     "status": "completed"
    },
    "tags": []
   },
   "source": [
    "# 16. \n",
    "Date: 18th Feb 2024<br>\n",
    "Hard Leetcode: earliest-possible-day-of-full-bloom<br>\n",
    "Solution: https://leetcode.com/problems/earliest-possible-day-of-full-bloom/submissions/1178490688/"
   ]
  },
  {
   "cell_type": "code",
   "execution_count": 19,
   "id": "f65ed5dd",
   "metadata": {
    "execution": {
     "iopub.execute_input": "2024-03-02T17:02:06.004268Z",
     "iopub.status.busy": "2024-03-02T17:02:06.003440Z",
     "iopub.status.idle": "2024-03-02T17:02:06.014818Z",
     "shell.execute_reply": "2024-03-02T17:02:06.013252Z"
    },
    "papermill": {
     "duration": 0.028884,
     "end_time": "2024-03-02T17:02:06.017395",
     "exception": false,
     "start_time": "2024-03-02T17:02:05.988511",
     "status": "completed"
    },
    "tags": []
   },
   "outputs": [],
   "source": [
    "class Solution:\n",
    "    def earliestFullBloom(self, plantTime: List[int], growTime: List[int]) -> int:\n",
    "        \"\"\"\n",
    "        The idea is to start with planting the seeds that take the most time\n",
    "        Calculate remaining time and return the sum\n",
    "        \"\"\"\n",
    "        plantTime, growTime = zip(*sorted(zip(plantTime, growTime), key=lambda x: x[1], reverse=True))\n",
    "\n",
    "        total = 0\n",
    "        remaining = None\n",
    "        for p, g in zip(plantTime, growTime):\n",
    "            total += p\n",
    "            remaining = g if remaining is None else max(remaining - p, g)\n",
    "\n",
    "        return total + remaining\n",
    "\n",
    "# Test the solution\n",
    "assert Solution().earliestFullBloom([1, 2, 3, 2],  [2, 1, 2, 1]) == 9\n",
    "assert Solution().earliestFullBloom([1, 4, 3], [2, 3, 1]) == 9\n",
    "assert Solution().earliestFullBloom(\n",
    "    [27, 5, 24, 17, 27, 4, 23, 16, 6, 26, 13, 17, 21, 3, 9, 10, 28, 26, 4, 10, 28, 2],  \n",
    "    [26, 9, 14, 17, 6, 14, 23, 24, 11, 6, 27, 14, 13, 1, 15, 5, 12, 15, 23, 27, 28, 12]\n",
    ") == 348"
   ]
  },
  {
   "cell_type": "markdown",
   "id": "072dcf57",
   "metadata": {
    "papermill": {
     "duration": 0.017261,
     "end_time": "2024-03-02T17:02:06.047217",
     "exception": false,
     "start_time": "2024-03-02T17:02:06.029956",
     "status": "completed"
    },
    "tags": []
   },
   "source": [
    "# 17. \n",
    "Date: 18th Feb 2024<br>\n",
    "Hard Leetcode: number-of-visible-people-in-a-queue<br>\n",
    "Solution: https://leetcode.com/problems/number-of-visible-people-in-a-queue/submissions/1178697347/"
   ]
  },
  {
   "cell_type": "code",
   "execution_count": 20,
   "id": "5f17d5cd",
   "metadata": {
    "execution": {
     "iopub.execute_input": "2024-03-02T17:02:06.078685Z",
     "iopub.status.busy": "2024-03-02T17:02:06.077837Z",
     "iopub.status.idle": "2024-03-02T17:02:06.094548Z",
     "shell.execute_reply": "2024-03-02T17:02:06.092601Z"
    },
    "papermill": {
     "duration": 0.035205,
     "end_time": "2024-03-02T17:02:06.097481",
     "exception": false,
     "start_time": "2024-03-02T17:02:06.062276",
     "status": "completed"
    },
    "tags": []
   },
   "outputs": [],
   "source": [
    "class Solution:\n",
    "    def canSeePersonsCount(self, heights: List[int]) -> List[int]:\n",
    "        N = len(heights)\n",
    "        stack = []\n",
    "        result = []\n",
    "        for i in range(N - 1, -1, -1):\n",
    "            count = 1\n",
    "            while stack and heights[i] > heights[stack[-1]]:\n",
    "                stack.pop()\n",
    "                count += 1\n",
    "            if not stack:\n",
    "                count -= 1\n",
    "            result.append(count)\n",
    "            stack.append(i)\n",
    "\n",
    "        result.reverse()\n",
    "        return result\n",
    "\n",
    "# Testing the solution - the ques was simple,\n",
    "# but really annoyed me with so many errors\n",
    "temp = [\n",
    "    [[1,2,3,4], [1,1,1,0]], [[1,2,4,3], [1,1,1,0]], [[1,3,2,4], [1,2,1,0]],\n",
    "    [[1,3,4,2], [1,1,1,0]], [[1,4,2,3], [1,2,1,0]], [[1,4,3,2], [1,1,1,0]],\n",
    "    [[2,1,3,4], [2,1,1,0]], [[2,1,4,3], [2,1,1,0]], [[2,3,1,4], [1,2,1,0]],\n",
    "    [[2,3,4,1], [1,1,1,0]], [[2,4,1,3], [1,2,1,0]], [[2,4,3,1], [1,1,1,0]],\n",
    "    [[3,1,2,4], [3,1,1,0]], [[3,1,4,2], [2,1,1,0]], [[3,2,1,4], [2,2,1,0]],\n",
    "    [[3,2,4,1], [2,1,1,0]], [[3,4,1,2], [1,2,1,0]], [[3,4,2,1], [1,1,1,0]],\n",
    "    [[4,1,2,3], [3,1,1,0]], [[4,1,3,2], [2,1,1,0]], [[4,2,1,3], [2,2,1,0]],\n",
    "    [[4,2,3,1], [2,1,1,0]], [[4,3,1,2], [1,2,1,0]], [[4,3,2,1], [1,1,1,0]],\n",
    "]\n",
    "\n",
    "for q, a in temp:\n",
    "    assert Solution().canSeePersonsCount(q) == a"
   ]
  },
  {
   "cell_type": "markdown",
   "id": "d7fcf706",
   "metadata": {
    "papermill": {
     "duration": 0.012315,
     "end_time": "2024-03-02T17:02:06.122635",
     "exception": false,
     "start_time": "2024-03-02T17:02:06.110320",
     "status": "completed"
    },
    "tags": []
   },
   "source": [
    "# 18. \n",
    "Date: 19th Feb 2024<br>\n",
    "Hard Leetcode: minimum-insertion-steps-to-make-a-string-palindrome<br>\n",
    "Solution: https://leetcode.com/problems/minimum-insertion-steps-to-make-a-string-palindrome/submissions/1179413048"
   ]
  },
  {
   "cell_type": "code",
   "execution_count": 21,
   "id": "2d9e6591",
   "metadata": {
    "execution": {
     "iopub.execute_input": "2024-03-02T17:02:06.152952Z",
     "iopub.status.busy": "2024-03-02T17:02:06.151866Z",
     "iopub.status.idle": "2024-03-02T17:02:06.163693Z",
     "shell.execute_reply": "2024-03-02T17:02:06.162136Z"
    },
    "papermill": {
     "duration": 0.031114,
     "end_time": "2024-03-02T17:02:06.166288",
     "exception": false,
     "start_time": "2024-03-02T17:02:06.135174",
     "status": "completed"
    },
    "tags": []
   },
   "outputs": [],
   "source": [
    "class Solution:\n",
    "    def minInsertions(self, s: str) -> int:\n",
    "\n",
    "        @functools.cache\n",
    "        def countInsertionSteps(left: int, right: int) -> int:\n",
    "            if left < 0 and right >= N:\n",
    "                return 0\n",
    "            elif left < 0:\n",
    "                return N - right\n",
    "            elif right >= N:\n",
    "                return left + 1\n",
    "            elif s[left] == s[right]:\n",
    "                return countInsertionSteps(left - 1, right + 1)\n",
    "            else:\n",
    "                return min(\n",
    "                    2 + countInsertionSteps(left - 1, right + 1),\n",
    "                    1 + countInsertionSteps(left - 1, right),\n",
    "                    1 + countInsertionSteps(left, right + 1),\n",
    "                )\n",
    "\n",
    "        N = len(s)\n",
    "        minSteps = +math.inf\n",
    "        for i in range(N):\n",
    "            left, right = i - 1, i + 1\n",
    "            minSteps = min(minSteps, countInsertionSteps(left, right))\n",
    "            if i != N - 1:\n",
    "                left, right = i, i + 1\n",
    "                minSteps = min(minSteps, countInsertionSteps(left, right))\n",
    "        return minSteps\n",
    "\n",
    "# Testing the solution\n",
    "assert Solution().minInsertions(\"zzazz\") == 0\n",
    "assert Solution().minInsertions(\"mbadm\") == 2\n",
    "assert Solution().minInsertions(\"leetcode\") == 5\n",
    "assert Solution().minInsertions(\"missouri\") == 4"
   ]
  },
  {
   "cell_type": "markdown",
   "id": "2a0f8d4b",
   "metadata": {
    "papermill": {
     "duration": 0.012469,
     "end_time": "2024-03-02T17:02:06.191328",
     "exception": false,
     "start_time": "2024-03-02T17:02:06.178859",
     "status": "completed"
    },
    "tags": []
   },
   "source": [
    "# 19. \n",
    "Date: 20th Feb 2024<br>\n",
    "Hard Leetcode: parsing-a-boolean-expression<br>\n",
    "Solution: https://leetcode.com/problems/parsing-a-boolean-expression/submissions/1181172767"
   ]
  },
  {
   "cell_type": "code",
   "execution_count": 22,
   "id": "ffec35bb",
   "metadata": {
    "execution": {
     "iopub.execute_input": "2024-03-02T17:02:06.220781Z",
     "iopub.status.busy": "2024-03-02T17:02:06.219945Z",
     "iopub.status.idle": "2024-03-02T17:02:06.231333Z",
     "shell.execute_reply": "2024-03-02T17:02:06.229500Z"
    },
    "papermill": {
     "duration": 0.03061,
     "end_time": "2024-03-02T17:02:06.234532",
     "exception": false,
     "start_time": "2024-03-02T17:02:06.203922",
     "status": "completed"
    },
    "tags": []
   },
   "outputs": [],
   "source": [
    "class Solution:\n",
    "    def parseBoolExpr(self, expression: str) -> bool:\n",
    "        stack: list  = []\n",
    "        for ch in expression:\n",
    "            if ch not in (\")\", \",\"):\n",
    "                stack.append(ch)\n",
    "            elif ch != ',':\n",
    "                expr = []\n",
    "                while stack[-1] != '(':\n",
    "                    curr = stack.pop()\n",
    "                    expr.append(True if curr in ('t', True) else False)\n",
    "                stack.pop()\n",
    "                op = stack.pop()\n",
    "                if op == \"!\":\n",
    "                    result = not expr[0]\n",
    "                elif op == \"|\":\n",
    "                    result = any(expr + [False])\n",
    "                else:\n",
    "                    result = all(expr + [True])\n",
    "\n",
    "                stack.append(result)\n",
    "\n",
    "        return stack[0]\n",
    "\n",
    "# Testing the Solution\n",
    "assert Solution().parseBoolExpr(\"&(|(f))\") == False\n",
    "assert Solution().parseBoolExpr(\"&(!(f))\") == True\n",
    "assert Solution().parseBoolExpr(\"|(!(f))\") == True\n",
    "assert Solution().parseBoolExpr(\"|(f,f,f,t)\") == True\n",
    "assert Solution().parseBoolExpr(\"|(f,f,f,&(t,t,!(f),t))\") == True\n",
    "assert Solution().parseBoolExpr(\"!(&(f,t))\") == True\n",
    "assert Solution().parseBoolExpr(\"!(!(t))\") == True"
   ]
  },
  {
   "cell_type": "markdown",
   "id": "b3546f3b",
   "metadata": {
    "papermill": {
     "duration": 0.016896,
     "end_time": "2024-03-02T17:02:06.268474",
     "exception": false,
     "start_time": "2024-03-02T17:02:06.251578",
     "status": "completed"
    },
    "tags": []
   },
   "source": [
    "# 20. \n",
    "Date: 21th Feb 2024<br>\n",
    "Hard Leetcode: freedom-trail<br>\n",
    "Solution: https://leetcode.com/problems/freedom-trail/submissions/1182130541/"
   ]
  },
  {
   "cell_type": "code",
   "execution_count": 23,
   "id": "712fc416",
   "metadata": {
    "execution": {
     "iopub.execute_input": "2024-03-02T17:02:06.298416Z",
     "iopub.status.busy": "2024-03-02T17:02:06.297372Z",
     "iopub.status.idle": "2024-03-02T17:02:06.311211Z",
     "shell.execute_reply": "2024-03-02T17:02:06.308545Z"
    },
    "papermill": {
     "duration": 0.032484,
     "end_time": "2024-03-02T17:02:06.314427",
     "exception": false,
     "start_time": "2024-03-02T17:02:06.281943",
     "status": "completed"
    },
    "tags": []
   },
   "outputs": [],
   "source": [
    "class Solution:\n",
    "\n",
    "    def findRotateSteps(self, ring: str, key: str) -> int:\n",
    "\n",
    "        def countNextSteps(nextChar: str, currIdx: int) -> list[tuple[int, int]]:\n",
    "            next_indices = positions[nextChar]\n",
    "            result: list[tuple[int, int]] = []\n",
    "            for nextIdx in next_indices:\n",
    "                steps = abs(currIdx - nextIdx)\n",
    "                steps = min(steps, ringLength - steps)\n",
    "                result.append((nextIdx, steps))\n",
    "            return result\n",
    "\n",
    "        @functools.cache\n",
    "        def backtrack(key: str, curr: int):\n",
    "\n",
    "            if key == \"\":\n",
    "                return 0\n",
    "\n",
    "            ch = key[0]\n",
    "            minStep = math.inf\n",
    "            for nextIdx, steps in countNextSteps(ch, curr):\n",
    "                minStep = min(minStep, 1 + steps + backtrack(key[1:], nextIdx))\n",
    "\n",
    "            return minStep\n",
    "\n",
    "        # Compute the length\n",
    "        ringLength, keyLength = len(ring), len(key)\n",
    "\n",
    "        # Compute the positions of characters for quicker navigation\n",
    "        positions: dict[str, list[int]]  = dict()\n",
    "        for i in range(ringLength):\n",
    "            ch = ring[i]\n",
    "            currIndices = positions.get(ch, [])\n",
    "            currIndices.append(i)\n",
    "            positions[ch] = currIndices\n",
    "\n",
    "        result = backtrack(key, 0)\n",
    "        return result\n",
    "\n",
    "# Testing the Solution\n",
    "assert Solution().findRotateSteps(\"godding\", \"gd\") == 4\n",
    "assert Solution().findRotateSteps(\"godding\", \"godding\") == 13\n",
    "assert Solution().findRotateSteps(\"sasdaasdsadwqaasadw\", \"sadwq\") == 16"
   ]
  },
  {
   "cell_type": "markdown",
   "id": "266c2935",
   "metadata": {
    "papermill": {
     "duration": 0.012759,
     "end_time": "2024-03-02T17:02:06.340270",
     "exception": false,
     "start_time": "2024-03-02T17:02:06.327511",
     "status": "completed"
    },
    "tags": []
   },
   "source": [
    "# 21. \n",
    "Date: 22nd Feb 2024<br>\n",
    "Hard Leetcode: stone-game-iv/<br>\n",
    "Solution: https://leetcode.com/problems/stone-game-iv/submissions/1182531823/"
   ]
  },
  {
   "cell_type": "code",
   "execution_count": 24,
   "id": "630deeb7",
   "metadata": {
    "execution": {
     "iopub.execute_input": "2024-03-02T17:02:06.372332Z",
     "iopub.status.busy": "2024-03-02T17:02:06.370808Z",
     "iopub.status.idle": "2024-03-02T17:02:06.385975Z",
     "shell.execute_reply": "2024-03-02T17:02:06.383983Z"
    },
    "lines_to_next_cell": 1,
    "papermill": {
     "duration": 0.035676,
     "end_time": "2024-03-02T17:02:06.388857",
     "exception": false,
     "start_time": "2024-03-02T17:02:06.353181",
     "status": "completed"
    },
    "tags": []
   },
   "outputs": [],
   "source": [
    "class Solution:\n",
    "    @functools.cache\n",
    "    def winnerSquareGame_(self, n: int) -> bool:\n",
    "        sqrt = math.sqrt(n)\n",
    "        if n == 0:\n",
    "            return False\n",
    "        elif int(sqrt) == sqrt:\n",
    "            return True\n",
    "        else:\n",
    "            start = int(sqrt)\n",
    "            while start > 0:\n",
    "                if not self.winnerSquareGame_(n - start * start):\n",
    "                    return True\n",
    "                start -= 1\n",
    "            return False\n",
    "\n",
    "    def winnerSquareGame(self, n: int) -> bool:\n",
    "        dp = [False] * (n + 1)\n",
    "        for curr in range(1, n + 1):\n",
    "            for i in range(1, int(math.sqrt(curr)) + 1):\n",
    "                if not dp[curr - i * i]:\n",
    "                    dp[curr] = True\n",
    "                    break\n",
    "\n",
    "        return dp[-1]\n",
    "\n",
    "assert Solution().winnerSquareGame(1) == True\n",
    "assert Solution().winnerSquareGame(2) == False\n",
    "assert Solution().winnerSquareGame(3) == True\n",
    "assert Solution().winnerSquareGame(4) == True\n",
    "assert Solution().winnerSquareGame(5) == False"
   ]
  },
  {
   "cell_type": "markdown",
   "id": "2aabd7bf",
   "metadata": {
    "papermill": {
     "duration": 0.012717,
     "end_time": "2024-03-02T17:02:06.414411",
     "exception": false,
     "start_time": "2024-03-02T17:02:06.401694",
     "status": "completed"
    },
    "tags": []
   },
   "source": [
    "# 22. \n",
    "Date: 22nd Feb 2024<br>\n",
    "Hard Leetcode: strange-printer-ii<br>\n",
    "Solution: https://leetcode.com/problems/strange-printer-ii/submissions/1183170079/"
   ]
  },
  {
   "cell_type": "code",
   "execution_count": 25,
   "id": "4a8eb22f",
   "metadata": {
    "execution": {
     "iopub.execute_input": "2024-03-02T17:02:06.451982Z",
     "iopub.status.busy": "2024-03-02T17:02:06.450613Z",
     "iopub.status.idle": "2024-03-02T17:02:06.480083Z",
     "shell.execute_reply": "2024-03-02T17:02:06.476723Z"
    },
    "lines_to_next_cell": 1,
    "papermill": {
     "duration": 0.057096,
     "end_time": "2024-03-02T17:02:06.484143",
     "exception": false,
     "start_time": "2024-03-02T17:02:06.427047",
     "status": "completed"
    },
    "tags": []
   },
   "outputs": [],
   "source": [
    "class Solution:\n",
    "    def isPrintable(self, targetGrid: List[List[int]]) -> bool:\n",
    "\n",
    "        def hasCycle(curr: int, visited: set[int]) -> bool:\n",
    "            if curr not in order:\n",
    "                return False\n",
    "            for next_ in order[curr]:\n",
    "                if next_ in visited:\n",
    "                    return True\n",
    "                elif hasCycle(next_, {*visited, curr}):\n",
    "                    return True\n",
    "\n",
    "            return False\n",
    "\n",
    "        M = len(targetGrid)\n",
    "        N = len(targetGrid[0])\n",
    "\n",
    "        # For each number, store the top, left, bottom, right\n",
    "        rectangles: dict[int, tuple[int, int, int, int]] = dict()\n",
    "        for i in range(M):\n",
    "            for j in range(N):\n",
    "                curr = targetGrid[i][j]\n",
    "                top, left, bottom, right = rectangles.get(curr, (M, N, 0, 0))\n",
    "                if i < top:\n",
    "                    top = i\n",
    "                if j < left:\n",
    "                    left = j\n",
    "                if i > bottom:\n",
    "                    bottom = i\n",
    "                if j > right:\n",
    "                    right = j\n",
    "\n",
    "                rectangles[curr] = top, left, bottom, right\n",
    "\n",
    "        # Compare each number pairs by checking the overlap\n",
    "        # If overlap present, ensure that all the cells of the \n",
    "        # overlapping grid are of any one of the either number\n",
    "        # Note that it is okay if the overlapping grid contains \n",
    "        # a different number other than the two\n",
    "\n",
    "        order: dict[int, list[int]] = dict()\n",
    "        for n1, n2 in itertools.combinations(rectangles, r=2):\n",
    "            top1, left1, bottom1, right1 = rectangles[n1]\n",
    "            top2, left2, bottom2, right2 = rectangles[n2]\n",
    "            top, left, bottom, right = max(top1, top2), max(left1, left2), min(bottom1, bottom2), min(right1, right2)\n",
    "            overlapping_paints = set()\n",
    "            for i in range(top, bottom + 1):\n",
    "                for j in range(left, right + 1):\n",
    "                    overlapping_paints.add(targetGrid[i][j])\n",
    "\n",
    "            assert not len(overlapping_paints) or (n1 in overlapping_paints or n2 in overlapping_paints)\n",
    "\n",
    "            if n1 in overlapping_paints and n2 in overlapping_paints:\n",
    "                return False\n",
    "            else:\n",
    "                if n1 in overlapping_paints:\n",
    "                    next_ = order.get(n2, [])\n",
    "                    next_.append(n1)\n",
    "                    order[n2] = next_\n",
    "                elif n2 in overlapping_paints:\n",
    "                    next_ = order.get(n1, [])\n",
    "                    next_.append(n2)\n",
    "                    order[n1] = next_\n",
    "        else:\n",
    "            # Ensure that there are no cycles\n",
    "            for start in order:\n",
    "                if hasCycle(start, set()):\n",
    "                    return False\n",
    "            return True\n",
    "\n",
    "# Testing the solution\n",
    "assert Solution().isPrintable([[1,1,1,1],[1,1,3,3],[1,1,3,4],[5,5,1,4]]) == True\n",
    "assert Solution().isPrintable([[1,1,1,1], [1,2,2,1], [1,2,2,1], [1,1,1,1]]) == True\n",
    "assert Solution().isPrintable([[1,2,1], [2,1,2], [1,2,1]]) == False\n",
    "assert Solution().isPrintable([[5,1,5,3,5],[4,4,4,3,4],[5,1,5,3,5],[2,1,2,2,2],[5,1,5,3,5]]) == False"
   ]
  },
  {
   "cell_type": "markdown",
   "id": "582a7ec7",
   "metadata": {
    "papermill": {
     "duration": 0.022629,
     "end_time": "2024-03-02T17:02:06.529057",
     "exception": false,
     "start_time": "2024-03-02T17:02:06.506428",
     "status": "completed"
    },
    "tags": []
   },
   "source": [
    "# 23. \n",
    "Date: 23rd Feb 2024<br>\n",
    "Hard Leetcode: sudoku-solver<br>\n",
    "Solution: https://leetcode.com/problems/sudoku-solver/submissions/1184011837"
   ]
  },
  {
   "cell_type": "code",
   "execution_count": 26,
   "id": "821d3090",
   "metadata": {
    "execution": {
     "iopub.execute_input": "2024-03-02T17:02:06.564473Z",
     "iopub.status.busy": "2024-03-02T17:02:06.563703Z",
     "iopub.status.idle": "2024-03-02T17:02:06.618316Z",
     "shell.execute_reply": "2024-03-02T17:02:06.616336Z"
    },
    "lines_to_next_cell": 1,
    "papermill": {
     "duration": 0.071075,
     "end_time": "2024-03-02T17:02:06.620891",
     "exception": false,
     "start_time": "2024-03-02T17:02:06.549816",
     "status": "completed"
    },
    "tags": []
   },
   "outputs": [],
   "source": [
    "class Solution:\n",
    "    def solveSudoku(self, board: List[List[str]]) -> None:\n",
    "        def getPossibilities(i: int, j: int) -> set[str]:\n",
    "            result: set[str] = set(map(str, range(1, 10)))\n",
    "\n",
    "            # Eliminate all values already present in same row\n",
    "            for k in range(9):\n",
    "                if board[i][k] in result:\n",
    "                    result.remove(board[i][k])\n",
    "\n",
    "            # Eliminate all values already present in the same col\n",
    "            for k in range(9):\n",
    "                if board[k][j] in result:\n",
    "                    result.remove(board[k][j])\n",
    "\n",
    "            # Eliminate all values already present in the same grid\n",
    "            floor_i = math.floor(i / 3)\n",
    "            for i_ in range(floor_i * 3, (floor_i + 1) * 3):\n",
    "                floor_j = math.floor(j / 3)\n",
    "                for j_ in range(floor_j * 3, (floor_j + 1) * 3):\n",
    "                    if board[i_][j_] in result:\n",
    "                        result.remove(board[i_][j_])\n",
    "\n",
    "            return result\n",
    "\n",
    "        def backtrack() -> bool:\n",
    "            missing = 0\n",
    "            for i in range(9):\n",
    "                for j in range(9):\n",
    "                    if board[i][j] == \".\":\n",
    "                        missing += 1\n",
    "                        for n in getPossibilities(i, j):\n",
    "                            board[i][j] = n\n",
    "                            if backtrack():\n",
    "                                return True\n",
    "                        else:\n",
    "                            board[i][j] = \".\"\n",
    "                            return False\n",
    "\n",
    "            return missing == 0\n",
    "\n",
    "        # Call helper function\n",
    "        backtrack()\n",
    "\n",
    "\n",
    "# Testing the solution\n",
    "temp = [\n",
    "    [\"5\",\"3\",\".\",\".\",\"7\",\".\",\".\",\".\",\".\"],\n",
    "    [\"6\",\".\",\".\",\"1\",\"9\",\"5\",\".\",\".\",\".\"],\n",
    "    [\".\",\"9\",\"8\",\".\",\".\",\".\",\".\",\"6\",\".\"],\n",
    "    [\"8\",\".\",\".\",\".\",\"6\",\".\",\".\",\".\",\"3\"],\n",
    "    [\"4\",\".\",\".\",\"8\",\".\",\"3\",\".\",\".\",\"1\"],\n",
    "    [\"7\",\".\",\".\",\".\",\"2\",\".\",\".\",\".\",\"6\"],\n",
    "    [\".\",\"6\",\".\",\".\",\".\",\".\",\"2\",\"8\",\".\"],\n",
    "    [\".\",\".\",\".\",\"4\",\"1\",\"9\",\".\",\".\",\"5\"],\n",
    "    [\".\",\".\",\".\",\".\",\"8\",\".\",\".\",\"7\",\"9\"]\n",
    "]\n",
    "Solution().solveSudoku(temp)\n",
    "assert temp == [\n",
    "        [\"5\",\"3\",\"4\",\"6\",\"7\",\"8\",\"9\",\"1\",\"2\"],\n",
    "        [\"6\",\"7\",\"2\",\"1\",\"9\",\"5\",\"3\",\"4\",\"8\"],\n",
    "        [\"1\",\"9\",\"8\",\"3\",\"4\",\"2\",\"5\",\"6\",\"7\"],\n",
    "        [\"8\",\"5\",\"9\",\"7\",\"6\",\"1\",\"4\",\"2\",\"3\"],\n",
    "        [\"4\",\"2\",\"6\",\"8\",\"5\",\"3\",\"7\",\"9\",\"1\"],\n",
    "        [\"7\",\"1\",\"3\",\"9\",\"2\",\"4\",\"8\",\"5\",\"6\"],\n",
    "        [\"9\",\"6\",\"1\",\"5\",\"3\",\"7\",\"2\",\"8\",\"4\"],\n",
    "        [\"2\",\"8\",\"7\",\"4\",\"1\",\"9\",\"6\",\"3\",\"5\"],\n",
    "        [\"3\",\"4\",\"5\",\"2\",\"8\",\"6\",\"1\",\"7\",\"9\"]\n",
    "]"
   ]
  },
  {
   "cell_type": "markdown",
   "id": "e76b15a3",
   "metadata": {
    "papermill": {
     "duration": 0.012275,
     "end_time": "2024-03-02T17:02:06.646048",
     "exception": false,
     "start_time": "2024-03-02T17:02:06.633773",
     "status": "completed"
    },
    "tags": []
   },
   "source": [
    "# 24. \n",
    "Date: 24th Feb 2024<br>\n",
    "Hard Leetcode: find-all-people-with-secret<br>\n",
    "Solution: https://leetcode.com/problems/find-all-people-with-secret/submissions/1184653107"
   ]
  },
  {
   "cell_type": "code",
   "execution_count": 27,
   "id": "f56979b5",
   "metadata": {
    "execution": {
     "iopub.execute_input": "2024-03-02T17:02:06.675142Z",
     "iopub.status.busy": "2024-03-02T17:02:06.674049Z",
     "iopub.status.idle": "2024-03-02T17:02:06.692903Z",
     "shell.execute_reply": "2024-03-02T17:02:06.691385Z"
    },
    "lines_to_next_cell": 1,
    "papermill": {
     "duration": 0.035373,
     "end_time": "2024-03-02T17:02:06.695198",
     "exception": false,
     "start_time": "2024-03-02T17:02:06.659825",
     "status": "completed"
    },
    "tags": []
   },
   "outputs": [],
   "source": [
    "class Solution:\n",
    "    def findAllPeople(self, n: int, meetings: List[List[int]], firstPerson: int) -> set[int]:\n",
    "\n",
    "        calender: dict[int, dict[int, int]] = dict()\n",
    "        meetings_dict: dict[int, list[set[int]]] = dict()\n",
    "        for x, y, t in meetings:\n",
    "            if x in calender and t in calender[x] and y in calender and t in calender[y] and calender[x] != calender[y]:\n",
    "                room1 = calender[x][t]\n",
    "                room2 = calender[y][t]\n",
    "                new_room = set.union(meetings_dict[t][room1], meetings_dict[t][room2])\n",
    "                meetings_dict[t].append(new_room)\n",
    "                for p in new_room:\n",
    "                    calender[p][t] = len(meetings_dict[t]) - 1\n",
    "            elif x in calender and t in calender[x]:\n",
    "                room_number = calender[x][t]\n",
    "                meetings_dict[t][room_number].add(y)\n",
    "                y_cal = calender.get(y, dict())\n",
    "                y_cal[t] = room_number\n",
    "                calender[y] = y_cal\n",
    "            elif y in calender and t in calender[y]:\n",
    "                room_number = calender[y][t]\n",
    "                meetings_dict[t][room_number].add(x)\n",
    "                x_cal = calender.get(x, dict())\n",
    "                x_cal[t] = room_number\n",
    "                calender[x] = x_cal\n",
    "            else:\n",
    "                curr = meetings_dict.get(t, [])\n",
    "                curr.append({x, y})\n",
    "                meetings_dict[t] = curr\n",
    "                y_cal = calender.get(y, dict())\n",
    "                y_cal[t] = len(curr) - 1\n",
    "                x_cal = calender.get(x, dict())\n",
    "                x_cal[t] = len(curr) - 1\n",
    "                calender[y] = y_cal\n",
    "                calender[x] = x_cal\n",
    "\n",
    "        rooms_visited: set[tuple[int, int]] = set()\n",
    "        secrets_known_to: dict[int, int] = {firstPerson: 0, 0: 0}\n",
    "        def share_secret(person: int, time: int) -> None:\n",
    "                for t in calender.get(person, []):\n",
    "                    if t >= time:\n",
    "                        room = calender[person][t]\n",
    "                        if (t, room) not in rooms_visited:\n",
    "                            rooms_visited.add((t, room))\n",
    "                            for p in meetings_dict[t][room]:\n",
    "                                if p not in secrets_known_to or t < secrets_known_to[p]:\n",
    "                                    secrets_known_to[p] = t\n",
    "                                    share_secret(p, t)\n",
    "\n",
    "        share_secret(0, 0)\n",
    "        share_secret(firstPerson, 0)\n",
    "\n",
    "        return set(secrets_known_to.keys())\n",
    "\n",
    "# Testing the solution\n",
    "assert Solution().findAllPeople(6, [[1,2,5],[2,3,8],[1,5,10]], 1) == {0,1,2,3,5}\n",
    "assert Solution().findAllPeople(4, [[3,1,3],[1,2,2],[0,3,3]], 3) == {0,1,3}\n",
    "assert Solution().findAllPeople(5, [[3,4,2],[1,2,1],[2,3,1]], 1) == {0,1,2,3,4}\n",
    "assert Solution().findAllPeople(10, [[1,2,3],[1,0,1],[9,2,1],[5,4,3],[6,7,9]], 7) == {0, 1, 2, 6, 7}\n",
    "assert Solution().findAllPeople(7, [[6,2,1],[3,4,1],[4,5,1],[1,0,2],[3,2,1]], 2) == {0, 1, 2, 3, 4, 5, 6}"
   ]
  },
  {
   "cell_type": "markdown",
   "id": "2fc922b9",
   "metadata": {
    "papermill": {
     "duration": 0.01226,
     "end_time": "2024-03-02T17:02:06.719202",
     "exception": false,
     "start_time": "2024-03-02T17:02:06.706942",
     "status": "completed"
    },
    "tags": []
   },
   "source": [
    "# 25. \n",
    "Date: 25th Feb 2024<br>\n",
    "Hard Leetcode: minimum-number-of-flips-to-convert-binary-matrix-to-zero-matrix<br>\n",
    "Solution: https://leetcode.com/problems/minimum-number-of-flips-to-convert-binary-matrix-to-zero-matrix/submissions/1185271529/"
   ]
  },
  {
   "cell_type": "code",
   "execution_count": 28,
   "id": "629eb8ba",
   "metadata": {
    "execution": {
     "iopub.execute_input": "2024-03-02T17:02:06.746670Z",
     "iopub.status.busy": "2024-03-02T17:02:06.745620Z",
     "iopub.status.idle": "2024-03-02T17:02:06.761082Z",
     "shell.execute_reply": "2024-03-02T17:02:06.759736Z"
    },
    "lines_to_next_cell": 1,
    "papermill": {
     "duration": 0.03123,
     "end_time": "2024-03-02T17:02:06.763210",
     "exception": false,
     "start_time": "2024-03-02T17:02:06.731980",
     "status": "completed"
    },
    "tags": []
   },
   "outputs": [],
   "source": [
    "class Solution:\n",
    "    @staticmethod\n",
    "    def flip(matrix: tuple[tuple[int]], i: int, j: int, M: int, N: int) -> tuple[tuple[int]]:\n",
    "        result = [[cell for cell in row] for row in matrix]\n",
    "        for i_, j_ in ((i, j), (i - 1, j), (i, j - 1), (i + 1, j), (i, j + 1)):\n",
    "            if 0 <= i_ < M and 0 <= j_ < N:\n",
    "                result[i_][j_] = int(not bool(result[i_][j_]))\n",
    "        return tuple(map(tuple, result))\n",
    "\n",
    "    def minFlips(self, mat: List[List[int]]) -> int:\n",
    "        M = len(mat)\n",
    "        N = len(mat[0])\n",
    "\n",
    "        start = tuple([tuple([cell for cell in row]) for row in mat])\n",
    "        cache: dict[tuple[tuple[int]], int] = dict()\n",
    "\n",
    "        def backtrack(matrix: tuple[tuple[int]], visited: set[tuple[tuple[int]]] = set()):\n",
    "            if any([matrix[_][__] for _ in range(M) for __ in range(N)]) == False:\n",
    "                return 0\n",
    "            elif matrix in cache:\n",
    "                return cache[matrix]\n",
    "            elif matrix in visited:\n",
    "                return math.inf\n",
    "            else:\n",
    "                minSteps = math.inf\n",
    "                for i in range(M):\n",
    "                    for j in range(N):\n",
    "                        next_matrix = Solution.flip(matrix, i, j, M, N)\n",
    "                        minSteps = min(minSteps, 1 + backtrack(next_matrix, {*visited, matrix}))\n",
    "\n",
    "                cache[matrix] = minSteps\n",
    "                return minSteps\n",
    "\n",
    "        result = backtrack(start)\n",
    "        return result if result != math.inf else -1\n",
    "\n",
    "# Testing the solution\n",
    "assert Solution().minFlips([[0,0],[0,1]]) == 3\n",
    "assert Solution().minFlips([[0]]) == 0\n",
    "assert Solution().minFlips([[1,0,0],[1,0,0]]) == -1"
   ]
  },
  {
   "cell_type": "markdown",
   "id": "e8c75a73",
   "metadata": {
    "papermill": {
     "duration": 0.014301,
     "end_time": "2024-03-02T17:02:06.789433",
     "exception": false,
     "start_time": "2024-03-02T17:02:06.775132",
     "status": "completed"
    },
    "tags": []
   },
   "source": [
    "# 26. \n",
    "Date: 25th Feb 2024<br>\n",
    "Hard Leetcode: couples-holding-hands<br>\n",
    "Solution: https://leetcode.com/problems/couples-holding-hands/submissions/1185667325/"
   ]
  },
  {
   "cell_type": "code",
   "execution_count": 29,
   "id": "2e9cf5f6",
   "metadata": {
    "execution": {
     "iopub.execute_input": "2024-03-02T17:02:06.817118Z",
     "iopub.status.busy": "2024-03-02T17:02:06.816411Z",
     "iopub.status.idle": "2024-03-02T17:02:06.825756Z",
     "shell.execute_reply": "2024-03-02T17:02:06.824425Z"
    },
    "papermill": {
     "duration": 0.026357,
     "end_time": "2024-03-02T17:02:06.828375",
     "exception": false,
     "start_time": "2024-03-02T17:02:06.802018",
     "status": "completed"
    },
    "tags": []
   },
   "outputs": [],
   "source": [
    "class Solution:\n",
    "    @staticmethod\n",
    "    def getPair(m: int) -> int:\n",
    "        return m + 1 if m % 2 == 0 else m - 1\n",
    "\n",
    "    def minSwapsCouples(self, row: List[int]) -> int:\n",
    "\n",
    "        N = len(row)\n",
    "        seated_at = {n: i for i, n in enumerate(row)}\n",
    "\n",
    "        count = 0\n",
    "        for i in range(N // 2):\n",
    "            seat_a, seat_b = i * 2, (i * 2) + 1\n",
    "            a, b = row[seat_a], row[seat_b]\n",
    "            a_match, b_match = Solution.getPair(a), Solution.getPair(b)\n",
    "            a_match_seat, b_match_seat = seated_at[a_match], seated_at[b_match]\n",
    "            if a_match != b:\n",
    "                row[seat_b], row[a_match_seat] = row[a_match_seat], row[seat_b]\n",
    "                seated_at[a_match] = seat_b\n",
    "                seated_at[b] = a_match_seat\n",
    "                count += 1\n",
    "\n",
    "        return count\n",
    "\n",
    "# Testing the solution\n",
    "assert Solution().minSwapsCouples([0,2,1,3]) == 1\n",
    "assert Solution().minSwapsCouples([3,2,0,1]) == 0"
   ]
  },
  {
   "cell_type": "markdown",
   "id": "c215bb81",
   "metadata": {
    "papermill": {
     "duration": 0.011673,
     "end_time": "2024-03-02T17:02:06.851927",
     "exception": false,
     "start_time": "2024-03-02T17:02:06.840254",
     "status": "completed"
    },
    "tags": []
   },
   "source": [
    "# 27. \n",
    "Date: 26th Feb 2024<br>\n",
    "Hard Leetcode: maximize-items<br>\n",
    "Solution: https://leetcode.com/problems/maximize-items/submissions/1186929885"
   ]
  },
  {
   "cell_type": "code",
   "execution_count": 30,
   "id": "adfc679b",
   "metadata": {
    "execution": {
     "iopub.execute_input": "2024-03-02T17:02:06.878456Z",
     "iopub.status.busy": "2024-03-02T17:02:06.877721Z",
     "iopub.status.idle": "2024-03-02T17:02:06.915006Z",
     "shell.execute_reply": "2024-03-02T17:02:06.913681Z"
    },
    "lines_to_next_cell": 1,
    "papermill": {
     "duration": 0.053536,
     "end_time": "2024-03-02T17:02:06.917288",
     "exception": false,
     "start_time": "2024-03-02T17:02:06.863752",
     "status": "completed"
    },
    "tags": []
   },
   "outputs": [
    {
     "data": {
      "text/html": [
       "<div>\n",
       "<style scoped>\n",
       "    .dataframe tbody tr th:only-of-type {\n",
       "        vertical-align: middle;\n",
       "    }\n",
       "\n",
       "    .dataframe tbody tr th {\n",
       "        vertical-align: top;\n",
       "    }\n",
       "\n",
       "    .dataframe thead th {\n",
       "        text-align: right;\n",
       "    }\n",
       "</style>\n",
       "<table border=\"1\" class=\"dataframe\">\n",
       "  <thead>\n",
       "    <tr style=\"text-align: right;\">\n",
       "      <th></th>\n",
       "      <th>item_type</th>\n",
       "      <th>item_count</th>\n",
       "    </tr>\n",
       "  </thead>\n",
       "  <tbody>\n",
       "    <tr>\n",
       "      <th>0</th>\n",
       "      <td>prime_eligible</td>\n",
       "      <td>5400</td>\n",
       "    </tr>\n",
       "    <tr>\n",
       "      <th>1</th>\n",
       "      <td>not_prime</td>\n",
       "      <td>8</td>\n",
       "    </tr>\n",
       "  </tbody>\n",
       "</table>\n",
       "</div>"
      ],
      "text/plain": [
       "        item_type  item_count\n",
       "0  prime_eligible        5400\n",
       "1       not_prime           8"
      ]
     },
     "metadata": {},
     "output_type": "display_data"
    },
    {
     "data": {
      "text/html": [
       "<div>\n",
       "<style scoped>\n",
       "    .dataframe tbody tr th:only-of-type {\n",
       "        vertical-align: middle;\n",
       "    }\n",
       "\n",
       "    .dataframe tbody tr th {\n",
       "        vertical-align: top;\n",
       "    }\n",
       "\n",
       "    .dataframe thead th {\n",
       "        text-align: right;\n",
       "    }\n",
       "</style>\n",
       "<table border=\"1\" class=\"dataframe\">\n",
       "  <thead>\n",
       "    <tr style=\"text-align: right;\">\n",
       "      <th></th>\n",
       "      <th>item_type</th>\n",
       "      <th>item_count</th>\n",
       "    </tr>\n",
       "  </thead>\n",
       "  <tbody>\n",
       "    <tr>\n",
       "      <th>0</th>\n",
       "      <td>not_prime</td>\n",
       "      <td>8</td>\n",
       "    </tr>\n",
       "    <tr>\n",
       "      <th>1</th>\n",
       "      <td>prime_eligible</td>\n",
       "      <td>5400</td>\n",
       "    </tr>\n",
       "  </tbody>\n",
       "</table>\n",
       "</div>"
      ],
      "text/plain": [
       "        item_type  item_count\n",
       "0       not_prime           8\n",
       "1  prime_eligible        5400"
      ]
     },
     "execution_count": 30,
     "metadata": {},
     "output_type": "execute_result"
    }
   ],
   "source": [
    "temp = read_lc_df(\"\"\"\n",
    "+---------+----------------+---------------+----------------+\n",
    "| item_id | item_type      | item_category | square_footage |\n",
    "+---------+----------------+---------------+----------------+\n",
    "| 1374    | prime_eligible | Watches       | 68.00          |\n",
    "| 4245    | not_prime      | Art           | 26.40          |\n",
    "| 5743    | prime_eligible | Software      | 325.00         |\n",
    "| 8543    | not_prime      | Clothing      | 64.50          |\n",
    "| 2556    | not_prime      | Shoes         | 15.00          |\n",
    "| 2452    | prime_eligible | Scientific    | 85.00          |\n",
    "| 3255    | not_prime      | Furniture     | 22.60          |\n",
    "| 1672    | prime_eligible | Beauty        | 8.50           |\n",
    "| 4256    | prime_eligible | Furniture     | 55.50          |\n",
    "| 6325    | prime_eligible | Food          | 13.20          |\n",
    "+---------+----------------+---------------+----------------+\n",
    "\"\"\")\n",
    "\n",
    "def maximize_items(inventory: pd.DataFrame) -> pd.DataFrame:\n",
    "\n",
    "    total = 500_000\n",
    "    agg: dict = inventory.groupby('item_type')['square_footage'].agg(['sum', 'count']).to_dict(orient='index')\n",
    "\n",
    "    prime_count = (total // agg['prime_eligible']['sum']) if 'prime_eligible' in agg else 0\n",
    "    total -= (prime_count * agg['prime_eligible']['sum']) if 'prime_eligible' in agg else 0\n",
    "    non_prime_count = total // agg['not_prime']['sum'] if 'not_prime' in agg else 0\n",
    "\n",
    "    if 'prime_eligible' in agg:\n",
    "        result = [\n",
    "            ['prime_eligible', int(prime_count * agg['prime_eligible']['count'])],\n",
    "        ]\n",
    "        if 'not_prime' in agg:\n",
    "            result.append(['not_prime', int(non_prime_count * agg['not_prime']['count'])])\n",
    "    else:\n",
    "        result = [['not_prime', None]]\n",
    "\n",
    "    result_df: pd.DataFrame = pd.DataFrame(result, columns=['item_type', 'item_count'])\n",
    "    return result_df\n",
    "\n",
    "# Print the pandas solution\n",
    "display(maximize_items(temp))\n",
    "\n",
    "# Write to SQLite\n",
    "temp.to_sql(\"temp\", con=conn, index=False, if_exists='replace')\n",
    "\n",
    "# Execute SQL query and display result\n",
    "pd.read_sql(\"\"\"\n",
    "    with agg as (\n",
    "        select\n",
    "            item_type,\n",
    "            sum(square_footage) total_sq,\n",
    "            count(item_id) cnt\n",
    "        from temp\n",
    "        group by item_type\n",
    "    ),\n",
    "\n",
    "    prime as (\n",
    "        select\n",
    "            'prime_eligible' item_type,\n",
    "            CASE\n",
    "                WHEN NOT EXISTS (select * from agg where item_type = 'prime_eligible') THEN NULL\n",
    "                ELSE CAST(500000 / (select total_sq from agg where item_type = 'prime_eligible') AS INT)\n",
    "            END item_count\n",
    "    ),\n",
    "\n",
    "    not_prime as (\n",
    "        select\n",
    "            'not_prime' item_type,\n",
    "            CASE\n",
    "                WHEN NOT EXISTS (select * from agg where item_type = 'not_prime') THEN NULL\n",
    "                ELSE (\n",
    "                    CAST((500000 - ((select item_count from prime) * (select total_sq from agg where item_type = 'prime_eligible'))) /\n",
    "                    (select total_sq from agg where item_type = 'not_prime') as INT)\n",
    "                )\n",
    "            END item_count\n",
    "    ),\n",
    "\n",
    "    result_intermediate as (\n",
    "\n",
    "        select\n",
    "            item_type,\n",
    "            item_count * (select cnt from agg where item_type='prime_eligible') item_count\n",
    "        from prime\n",
    "        where item_count is not NULL\n",
    "\n",
    "        UNION\n",
    "\n",
    "        select\n",
    "            item_type,\n",
    "            item_count * (select cnt from agg where item_type='not_prime') item_count\n",
    "        from not_prime\n",
    "        where item_count is not NULL\n",
    "    ),\n",
    "\n",
    "    result as (\n",
    "        select * from result_intermediate\n",
    "        union\n",
    "        select\n",
    "            'non_prime' item_type,\n",
    "            NULL item_count\n",
    "        where not exists(\n",
    "            select * from result_intermediate\n",
    "        )\n",
    "    )\n",
    "\n",
    "    select * from result\n",
    "\n",
    "\"\"\", con=conn)"
   ]
  },
  {
   "cell_type": "markdown",
   "id": "82f5ea08",
   "metadata": {
    "papermill": {
     "duration": 0.013675,
     "end_time": "2024-03-02T17:02:06.943718",
     "exception": false,
     "start_time": "2024-03-02T17:02:06.930043",
     "status": "completed"
    },
    "tags": []
   },
   "source": [
    "# 28. \n",
    "Date: 29th Feb 2024<br>\n",
    "Hard Leetcode: number-of-atoms<br>\n",
    "Solution: https://leetcode.com/problems/number-of-atoms/submissions/1189837478/"
   ]
  },
  {
   "cell_type": "code",
   "execution_count": 31,
   "id": "4583c274",
   "metadata": {
    "execution": {
     "iopub.execute_input": "2024-03-02T17:02:06.971143Z",
     "iopub.status.busy": "2024-03-02T17:02:06.970428Z",
     "iopub.status.idle": "2024-03-02T17:02:06.985840Z",
     "shell.execute_reply": "2024-03-02T17:02:06.984558Z"
    },
    "lines_to_next_cell": 1,
    "papermill": {
     "duration": 0.032284,
     "end_time": "2024-03-02T17:02:06.988383",
     "exception": false,
     "start_time": "2024-03-02T17:02:06.956099",
     "status": "completed"
    },
    "tags": []
   },
   "outputs": [],
   "source": [
    "class Solution:\n",
    "    def countOfAtoms(self, formula: str) -> str:\n",
    "        \"\"\"\n",
    "        Curr could be one of: '(', ')', 'A-Z', 'a-z', '0-9', '<END>'\n",
    "        \"\"\"\n",
    "\n",
    "        N = len(formula)\n",
    "        idx = 0\n",
    "\n",
    "        # Step 1 - Group the forumlae & nos together for easy processing\n",
    "        formula_list: list = []\n",
    "        for i in range(N):\n",
    "            ch = formula[i]\n",
    "            if ch.islower() or (ch.isdigit() and formula_list[-1].isdigit()):\n",
    "                formula_list[-1] = formula_list[-1] + ch\n",
    "            else:\n",
    "                formula_list.append(ch)\n",
    "\n",
    "        # Recompute N\n",
    "        N = len(formula_list)\n",
    "\n",
    "        # Step 2 - For each element, convert it into (ch, count)\n",
    "        for i in range(N):\n",
    "            if formula_list[i].isalpha():\n",
    "                formula_list[i] = [formula_list[i], 1]\n",
    "\n",
    "        # Step 3 - For each count, if prev is a list - multiply with list[1], \n",
    "        # else if it is a () multiply the number inside all of the element pairs\n",
    "        updated: list = []\n",
    "        for i in range(N):\n",
    "            curr = formula_list[i]\n",
    "            if type(curr) == str and curr.isdigit():\n",
    "                if type(updated[-1]) == list:\n",
    "                    prev = updated[-1]\n",
    "                    updated[-1] = [prev[0], prev[1] * int(curr)]\n",
    "                elif updated[-1] == ')':\n",
    "                    nested = 1\n",
    "                    idx = len(updated) - 2\n",
    "                    while nested > 0:\n",
    "                        if updated[idx] == ')':\n",
    "                            nested += 1\n",
    "                        elif updated[idx] == '(':\n",
    "                            nested -= 1\n",
    "                        else:\n",
    "                            prev = updated[idx]\n",
    "                            updated[idx] = [prev[0], prev[1] * int(curr)]\n",
    "                        idx -= 1\n",
    "            else:\n",
    "                updated.append(curr)\n",
    "\n",
    "        # Each element may appear many times, create a dictionary and continue counting for each \n",
    "        counter: dict[str, int] = dict()\n",
    "        for curr in updated:\n",
    "            if type(curr) == list:\n",
    "                counter[curr[0]] = counter.get(curr[0], 0) + curr[1]\n",
    "\n",
    "        # Sort it based on the alphbetical ordering of elements\n",
    "        counter_sorted: list[list] = sorted(counter.items(), key=lambda x: x[0])\n",
    "\n",
    "        # Only show numbers when count is greater than 1\n",
    "        result = \"\".join(map(lambda x: f\"{x[0]}{x[1] if x[1] > 1 else ''}\", counter_sorted))\n",
    "        return result\n",
    "\n",
    "# Testing the solution\n",
    "assert Solution().countOfAtoms(\"H2O\") == \"H2O\"\n",
    "assert Solution().countOfAtoms(\"Mg(OH)2\") == \"H2MgO2\"\n",
    "assert Solution().countOfAtoms(\"K4(ON(SO3)2)2\") == \"K4N2O14S4\"\n",
    "assert Solution().countOfAtoms(\"(MgOH)\") == \"HMgO\""
   ]
  },
  {
   "cell_type": "markdown",
   "id": "3ea9f283",
   "metadata": {
    "papermill": {
     "duration": 0.012074,
     "end_time": "2024-03-02T17:02:07.012551",
     "exception": false,
     "start_time": "2024-03-02T17:02:07.000477",
     "status": "completed"
    },
    "tags": []
   },
   "source": [
    "# 29. \n",
    "Date: 02nd Mar 2024<br>\n",
    "Hard Leetcode: first-missing-positive<br>\n",
    "Solution: https://leetcode.com/problems/first-missing-positive/submissions/1191802578"
   ]
  },
  {
   "cell_type": "code",
   "execution_count": 32,
   "id": "851d1949",
   "metadata": {
    "execution": {
     "iopub.execute_input": "2024-03-02T17:02:07.041024Z",
     "iopub.status.busy": "2024-03-02T17:02:07.039162Z",
     "iopub.status.idle": "2024-03-02T17:02:07.194863Z",
     "shell.execute_reply": "2024-03-02T17:02:07.193420Z"
    },
    "papermill": {
     "duration": 0.172466,
     "end_time": "2024-03-02T17:02:07.197065",
     "exception": false,
     "start_time": "2024-03-02T17:02:07.024599",
     "status": "completed"
    },
    "tags": []
   },
   "outputs": [
    {
     "name": "stderr",
     "output_type": "stream",
     "text": [
      "\r",
      "  0%|                                                                                                                              | 0/1000 [00:00<?, ?it/s]"
     ]
    },
    {
     "name": "stderr",
     "output_type": "stream",
     "text": [
      "\r",
      " 78%|█████████████████████████████████████████████████████████████████████████████████████████▎                        | 783/1000 [00:00<00:00, 6720.65it/s]"
     ]
    },
    {
     "name": "stderr",
     "output_type": "stream",
     "text": [
      "\r",
      "100%|█████████████████████████████████████████████████████████████████████████████████████████████████████████████████| 1000/1000 [00:00<00:00, 7165.39it/s]"
     ]
    },
    {
     "name": "stderr",
     "output_type": "stream",
     "text": [
      "\n"
     ]
    }
   ],
   "source": [
    "class Solution:\n",
    "    def firstMissingPositive_(self, nums: list[int]) -> int:\n",
    "        \"\"\"\n",
    "        Another approach in place that takes O(N log N) time, O(1) space would be to:\n",
    "            1. Sort the array\n",
    "            2. Iterate through the sorted array and return first missing +ve.\n",
    "        \"\"\"\n",
    "        N = len(nums)\n",
    "        set_ = set(nums)\n",
    "        for i in range(1, N + 2):\n",
    "            if i not in set_:\n",
    "                return i\n",
    "\n",
    "    def firstMissingPositive(self, nums: list[int]) -> int:\n",
    "        \"\"\"\n",
    "        Given an array of length N, the possibile answer could in the range of [1, N + 1]\n",
    "        \"\"\"\n",
    "\n",
    "        def backtrack(i_: int) -> None:\n",
    "            if i_ > N or i_ < 1 or type(nums[i_ - 1]) == bool:\n",
    "                return\n",
    "\n",
    "            next_ = nums[i_ - 1]\n",
    "            nums[i_ - 1] = True\n",
    "            backtrack(next_)\n",
    "\n",
    "        if nums == [1]:\n",
    "            return 2\n",
    "\n",
    "        N = len(nums)\n",
    "        i  = 0\n",
    "        while i < N:\n",
    "            if type(nums[i]) != bool:\n",
    "                backtrack(nums[i])\n",
    "            i += 1\n",
    "\n",
    "        for i in range(N):\n",
    "            if type(nums[i]) == int:\n",
    "                return i + 1\n",
    "        else:\n",
    "            return i + 2\n",
    "\n",
    "# Testing the solution\n",
    "for i in tqdm.tqdm(range(1000)):\n",
    "    arr = np.random.randint(-100, 100, size=random.randint(1, 100)).tolist()\n",
    "    assert Solution().firstMissingPositive([*arr]) == Solution().firstMissingPositive_(arr), arr"
   ]
  }
 ],
 "metadata": {
  "kernelspec": {
   "display_name": "Python 3 (ipykernel)",
   "language": "python",
   "name": "python3"
  },
  "language_info": {
   "codemirror_mode": {
    "name": "ipython",
    "version": 3
   },
   "file_extension": ".py",
   "mimetype": "text/x-python",
   "name": "python",
   "nbconvert_exporter": "python",
   "pygments_lexer": "ipython3",
   "version": "3.10.13"
  },
  "papermill": {
   "default_parameters": {},
   "duration": 10.842142,
   "end_time": "2024-03-02T17:02:07.736589",
   "environment_variables": {},
   "exception": null,
   "input_path": "50HL30D.ipynb",
   "output_path": "50HL30D.ipynb",
   "parameters": {},
   "start_time": "2024-03-02T17:01:56.894447",
   "version": "2.4.0"
  }
 },
 "nbformat": 4,
 "nbformat_minor": 5
}