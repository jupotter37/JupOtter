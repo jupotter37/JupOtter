{
  "nbformat": 4,
  "nbformat_minor": 0,
  "metadata": {
    "colab": {
      "provenance": [],
      "gpuType": "T4"
    },
    "kernelspec": {
      "name": "python3",
      "display_name": "Python 3"
    },
    "language_info": {
      "name": "python"
    },
    "accelerator": "GPU"
  },
  "cells": [
    {
      "cell_type": "code",
      "execution_count": 5,
      "metadata": {
        "colab": {
          "base_uri": "https://localhost:8080/"
        },
        "id": "gKxE8urSFFSj",
        "outputId": "c099c28a-0a58-44b5-c7ab-bbd1a465bc39"
      },
      "outputs": [
        {
          "output_type": "stream",
          "name": "stdout",
          "text": [
            "Requirement already satisfied: langchain in /usr/local/lib/python3.11/dist-packages (0.3.14)\n",
            "Requirement already satisfied: PyYAML>=5.3 in /usr/local/lib/python3.11/dist-packages (from langchain) (6.0.2)\n",
            "Requirement already satisfied: SQLAlchemy<3,>=1.4 in /usr/local/lib/python3.11/dist-packages (from langchain) (2.0.37)\n",
            "Requirement already satisfied: aiohttp<4.0.0,>=3.8.3 in /usr/local/lib/python3.11/dist-packages (from langchain) (3.11.11)\n",
            "Requirement already satisfied: langchain-core<0.4.0,>=0.3.29 in /usr/local/lib/python3.11/dist-packages (from langchain) (0.3.29)\n",
            "Requirement already satisfied: langchain-text-splitters<0.4.0,>=0.3.3 in /usr/local/lib/python3.11/dist-packages (from langchain) (0.3.5)\n",
            "Requirement already satisfied: langsmith<0.3,>=0.1.17 in /usr/local/lib/python3.11/dist-packages (from langchain) (0.2.10)\n",
            "Requirement already satisfied: numpy<2,>=1.22.4 in /usr/local/lib/python3.11/dist-packages (from langchain) (1.26.4)\n",
            "Requirement already satisfied: pydantic<3.0.0,>=2.7.4 in /usr/local/lib/python3.11/dist-packages (from langchain) (2.10.5)\n",
            "Requirement already satisfied: requests<3,>=2 in /usr/local/lib/python3.11/dist-packages (from langchain) (2.32.3)\n",
            "Requirement already satisfied: tenacity!=8.4.0,<10,>=8.1.0 in /usr/local/lib/python3.11/dist-packages (from langchain) (9.0.0)\n",
            "Requirement already satisfied: aiohappyeyeballs>=2.3.0 in /usr/local/lib/python3.11/dist-packages (from aiohttp<4.0.0,>=3.8.3->langchain) (2.4.4)\n",
            "Requirement already satisfied: aiosignal>=1.1.2 in /usr/local/lib/python3.11/dist-packages (from aiohttp<4.0.0,>=3.8.3->langchain) (1.3.2)\n",
            "Requirement already satisfied: attrs>=17.3.0 in /usr/local/lib/python3.11/dist-packages (from aiohttp<4.0.0,>=3.8.3->langchain) (24.3.0)\n",
            "Requirement already satisfied: frozenlist>=1.1.1 in /usr/local/lib/python3.11/dist-packages (from aiohttp<4.0.0,>=3.8.3->langchain) (1.5.0)\n",
            "Requirement already satisfied: multidict<7.0,>=4.5 in /usr/local/lib/python3.11/dist-packages (from aiohttp<4.0.0,>=3.8.3->langchain) (6.1.0)\n",
            "Requirement already satisfied: propcache>=0.2.0 in /usr/local/lib/python3.11/dist-packages (from aiohttp<4.0.0,>=3.8.3->langchain) (0.2.1)\n",
            "Requirement already satisfied: yarl<2.0,>=1.17.0 in /usr/local/lib/python3.11/dist-packages (from aiohttp<4.0.0,>=3.8.3->langchain) (1.18.3)\n",
            "Requirement already satisfied: jsonpatch<2.0,>=1.33 in /usr/local/lib/python3.11/dist-packages (from langchain-core<0.4.0,>=0.3.29->langchain) (1.33)\n",
            "Requirement already satisfied: packaging<25,>=23.2 in /usr/local/lib/python3.11/dist-packages (from langchain-core<0.4.0,>=0.3.29->langchain) (24.2)\n",
            "Requirement already satisfied: typing-extensions>=4.7 in /usr/local/lib/python3.11/dist-packages (from langchain-core<0.4.0,>=0.3.29->langchain) (4.12.2)\n",
            "Requirement already satisfied: httpx<1,>=0.23.0 in /usr/local/lib/python3.11/dist-packages (from langsmith<0.3,>=0.1.17->langchain) (0.28.1)\n",
            "Requirement already satisfied: orjson<4.0.0,>=3.9.14 in /usr/local/lib/python3.11/dist-packages (from langsmith<0.3,>=0.1.17->langchain) (3.10.14)\n",
            "Requirement already satisfied: requests-toolbelt<2.0.0,>=1.0.0 in /usr/local/lib/python3.11/dist-packages (from langsmith<0.3,>=0.1.17->langchain) (1.0.0)\n",
            "Requirement already satisfied: annotated-types>=0.6.0 in /usr/local/lib/python3.11/dist-packages (from pydantic<3.0.0,>=2.7.4->langchain) (0.7.0)\n",
            "Requirement already satisfied: pydantic-core==2.27.2 in /usr/local/lib/python3.11/dist-packages (from pydantic<3.0.0,>=2.7.4->langchain) (2.27.2)\n",
            "Requirement already satisfied: charset-normalizer<4,>=2 in /usr/local/lib/python3.11/dist-packages (from requests<3,>=2->langchain) (3.4.1)\n",
            "Requirement already satisfied: idna<4,>=2.5 in /usr/local/lib/python3.11/dist-packages (from requests<3,>=2->langchain) (3.10)\n",
            "Requirement already satisfied: urllib3<3,>=1.21.1 in /usr/local/lib/python3.11/dist-packages (from requests<3,>=2->langchain) (2.3.0)\n",
            "Requirement already satisfied: certifi>=2017.4.17 in /usr/local/lib/python3.11/dist-packages (from requests<3,>=2->langchain) (2024.12.14)\n",
            "Requirement already satisfied: greenlet!=0.4.17 in /usr/local/lib/python3.11/dist-packages (from SQLAlchemy<3,>=1.4->langchain) (3.1.1)\n",
            "Requirement already satisfied: anyio in /usr/local/lib/python3.11/dist-packages (from httpx<1,>=0.23.0->langsmith<0.3,>=0.1.17->langchain) (3.7.1)\n",
            "Requirement already satisfied: httpcore==1.* in /usr/local/lib/python3.11/dist-packages (from httpx<1,>=0.23.0->langsmith<0.3,>=0.1.17->langchain) (1.0.7)\n",
            "Requirement already satisfied: h11<0.15,>=0.13 in /usr/local/lib/python3.11/dist-packages (from httpcore==1.*->httpx<1,>=0.23.0->langsmith<0.3,>=0.1.17->langchain) (0.14.0)\n",
            "Requirement already satisfied: jsonpointer>=1.9 in /usr/local/lib/python3.11/dist-packages (from jsonpatch<2.0,>=1.33->langchain-core<0.4.0,>=0.3.29->langchain) (3.0.0)\n",
            "Requirement already satisfied: sniffio>=1.1 in /usr/local/lib/python3.11/dist-packages (from anyio->httpx<1,>=0.23.0->langsmith<0.3,>=0.1.17->langchain) (1.3.1)\n",
            "Collecting langchain_community\n",
            "  Downloading langchain_community-0.3.14-py3-none-any.whl.metadata (2.9 kB)\n",
            "Requirement already satisfied: PyYAML>=5.3 in /usr/local/lib/python3.11/dist-packages (from langchain_community) (6.0.2)\n",
            "Requirement already satisfied: SQLAlchemy<3,>=1.4 in /usr/local/lib/python3.11/dist-packages (from langchain_community) (2.0.37)\n",
            "Requirement already satisfied: aiohttp<4.0.0,>=3.8.3 in /usr/local/lib/python3.11/dist-packages (from langchain_community) (3.11.11)\n",
            "Collecting dataclasses-json<0.7,>=0.5.7 (from langchain_community)\n",
            "  Downloading dataclasses_json-0.6.7-py3-none-any.whl.metadata (25 kB)\n",
            "Collecting httpx-sse<0.5.0,>=0.4.0 (from langchain_community)\n",
            "  Downloading httpx_sse-0.4.0-py3-none-any.whl.metadata (9.0 kB)\n",
            "Requirement already satisfied: langchain<0.4.0,>=0.3.14 in /usr/local/lib/python3.11/dist-packages (from langchain_community) (0.3.14)\n",
            "Requirement already satisfied: langchain-core<0.4.0,>=0.3.29 in /usr/local/lib/python3.11/dist-packages (from langchain_community) (0.3.29)\n",
            "Requirement already satisfied: langsmith<0.3,>=0.1.125 in /usr/local/lib/python3.11/dist-packages (from langchain_community) (0.2.10)\n",
            "Requirement already satisfied: numpy<2,>=1.22.4 in /usr/local/lib/python3.11/dist-packages (from langchain_community) (1.26.4)\n",
            "Collecting pydantic-settings<3.0.0,>=2.4.0 (from langchain_community)\n",
            "  Downloading pydantic_settings-2.7.1-py3-none-any.whl.metadata (3.5 kB)\n",
            "Requirement already satisfied: requests<3,>=2 in /usr/local/lib/python3.11/dist-packages (from langchain_community) (2.32.3)\n",
            "Requirement already satisfied: tenacity!=8.4.0,<10,>=8.1.0 in /usr/local/lib/python3.11/dist-packages (from langchain_community) (9.0.0)\n",
            "Requirement already satisfied: aiohappyeyeballs>=2.3.0 in /usr/local/lib/python3.11/dist-packages (from aiohttp<4.0.0,>=3.8.3->langchain_community) (2.4.4)\n",
            "Requirement already satisfied: aiosignal>=1.1.2 in /usr/local/lib/python3.11/dist-packages (from aiohttp<4.0.0,>=3.8.3->langchain_community) (1.3.2)\n",
            "Requirement already satisfied: attrs>=17.3.0 in /usr/local/lib/python3.11/dist-packages (from aiohttp<4.0.0,>=3.8.3->langchain_community) (24.3.0)\n",
            "Requirement already satisfied: frozenlist>=1.1.1 in /usr/local/lib/python3.11/dist-packages (from aiohttp<4.0.0,>=3.8.3->langchain_community) (1.5.0)\n",
            "Requirement already satisfied: multidict<7.0,>=4.5 in /usr/local/lib/python3.11/dist-packages (from aiohttp<4.0.0,>=3.8.3->langchain_community) (6.1.0)\n",
            "Requirement already satisfied: propcache>=0.2.0 in /usr/local/lib/python3.11/dist-packages (from aiohttp<4.0.0,>=3.8.3->langchain_community) (0.2.1)\n",
            "Requirement already satisfied: yarl<2.0,>=1.17.0 in /usr/local/lib/python3.11/dist-packages (from aiohttp<4.0.0,>=3.8.3->langchain_community) (1.18.3)\n",
            "Collecting marshmallow<4.0.0,>=3.18.0 (from dataclasses-json<0.7,>=0.5.7->langchain_community)\n",
            "  Downloading marshmallow-3.25.1-py3-none-any.whl.metadata (7.3 kB)\n",
            "Collecting typing-inspect<1,>=0.4.0 (from dataclasses-json<0.7,>=0.5.7->langchain_community)\n",
            "  Downloading typing_inspect-0.9.0-py3-none-any.whl.metadata (1.5 kB)\n",
            "Requirement already satisfied: langchain-text-splitters<0.4.0,>=0.3.3 in /usr/local/lib/python3.11/dist-packages (from langchain<0.4.0,>=0.3.14->langchain_community) (0.3.5)\n",
            "Requirement already satisfied: pydantic<3.0.0,>=2.7.4 in /usr/local/lib/python3.11/dist-packages (from langchain<0.4.0,>=0.3.14->langchain_community) (2.10.5)\n",
            "Requirement already satisfied: jsonpatch<2.0,>=1.33 in /usr/local/lib/python3.11/dist-packages (from langchain-core<0.4.0,>=0.3.29->langchain_community) (1.33)\n",
            "Requirement already satisfied: packaging<25,>=23.2 in /usr/local/lib/python3.11/dist-packages (from langchain-core<0.4.0,>=0.3.29->langchain_community) (24.2)\n",
            "Requirement already satisfied: typing-extensions>=4.7 in /usr/local/lib/python3.11/dist-packages (from langchain-core<0.4.0,>=0.3.29->langchain_community) (4.12.2)\n",
            "Requirement already satisfied: httpx<1,>=0.23.0 in /usr/local/lib/python3.11/dist-packages (from langsmith<0.3,>=0.1.125->langchain_community) (0.28.1)\n",
            "Requirement already satisfied: orjson<4.0.0,>=3.9.14 in /usr/local/lib/python3.11/dist-packages (from langsmith<0.3,>=0.1.125->langchain_community) (3.10.14)\n",
            "Requirement already satisfied: requests-toolbelt<2.0.0,>=1.0.0 in /usr/local/lib/python3.11/dist-packages (from langsmith<0.3,>=0.1.125->langchain_community) (1.0.0)\n",
            "Collecting python-dotenv>=0.21.0 (from pydantic-settings<3.0.0,>=2.4.0->langchain_community)\n",
            "  Downloading python_dotenv-1.0.1-py3-none-any.whl.metadata (23 kB)\n",
            "Requirement already satisfied: charset-normalizer<4,>=2 in /usr/local/lib/python3.11/dist-packages (from requests<3,>=2->langchain_community) (3.4.1)\n",
            "Requirement already satisfied: idna<4,>=2.5 in /usr/local/lib/python3.11/dist-packages (from requests<3,>=2->langchain_community) (3.10)\n",
            "Requirement already satisfied: urllib3<3,>=1.21.1 in /usr/local/lib/python3.11/dist-packages (from requests<3,>=2->langchain_community) (2.3.0)\n",
            "Requirement already satisfied: certifi>=2017.4.17 in /usr/local/lib/python3.11/dist-packages (from requests<3,>=2->langchain_community) (2024.12.14)\n",
            "Requirement already satisfied: greenlet!=0.4.17 in /usr/local/lib/python3.11/dist-packages (from SQLAlchemy<3,>=1.4->langchain_community) (3.1.1)\n",
            "Requirement already satisfied: anyio in /usr/local/lib/python3.11/dist-packages (from httpx<1,>=0.23.0->langsmith<0.3,>=0.1.125->langchain_community) (3.7.1)\n",
            "Requirement already satisfied: httpcore==1.* in /usr/local/lib/python3.11/dist-packages (from httpx<1,>=0.23.0->langsmith<0.3,>=0.1.125->langchain_community) (1.0.7)\n",
            "Requirement already satisfied: h11<0.15,>=0.13 in /usr/local/lib/python3.11/dist-packages (from httpcore==1.*->httpx<1,>=0.23.0->langsmith<0.3,>=0.1.125->langchain_community) (0.14.0)\n",
            "Requirement already satisfied: jsonpointer>=1.9 in /usr/local/lib/python3.11/dist-packages (from jsonpatch<2.0,>=1.33->langchain-core<0.4.0,>=0.3.29->langchain_community) (3.0.0)\n",
            "Requirement already satisfied: annotated-types>=0.6.0 in /usr/local/lib/python3.11/dist-packages (from pydantic<3.0.0,>=2.7.4->langchain<0.4.0,>=0.3.14->langchain_community) (0.7.0)\n",
            "Requirement already satisfied: pydantic-core==2.27.2 in /usr/local/lib/python3.11/dist-packages (from pydantic<3.0.0,>=2.7.4->langchain<0.4.0,>=0.3.14->langchain_community) (2.27.2)\n",
            "Collecting mypy-extensions>=0.3.0 (from typing-inspect<1,>=0.4.0->dataclasses-json<0.7,>=0.5.7->langchain_community)\n",
            "  Downloading mypy_extensions-1.0.0-py3-none-any.whl.metadata (1.1 kB)\n",
            "Requirement already satisfied: sniffio>=1.1 in /usr/local/lib/python3.11/dist-packages (from anyio->httpx<1,>=0.23.0->langsmith<0.3,>=0.1.125->langchain_community) (1.3.1)\n",
            "Downloading langchain_community-0.3.14-py3-none-any.whl (2.5 MB)\n",
            "\u001b[2K   \u001b[90m━━━━━━━━━━━━━━━━━━━━━━━━━━━━━━━━━━━━━━━━\u001b[0m \u001b[32m2.5/2.5 MB\u001b[0m \u001b[31m40.7 MB/s\u001b[0m eta \u001b[36m0:00:00\u001b[0m\n",
            "\u001b[?25hDownloading dataclasses_json-0.6.7-py3-none-any.whl (28 kB)\n",
            "Downloading httpx_sse-0.4.0-py3-none-any.whl (7.8 kB)\n",
            "Downloading pydantic_settings-2.7.1-py3-none-any.whl (29 kB)\n",
            "Downloading marshmallow-3.25.1-py3-none-any.whl (49 kB)\n",
            "\u001b[2K   \u001b[90m━━━━━━━━━━━━━━━━━━━━━━━━━━━━━━━━━━━━━━━━\u001b[0m \u001b[32m49.6/49.6 kB\u001b[0m \u001b[31m4.5 MB/s\u001b[0m eta \u001b[36m0:00:00\u001b[0m\n",
            "\u001b[?25hDownloading python_dotenv-1.0.1-py3-none-any.whl (19 kB)\n",
            "Downloading typing_inspect-0.9.0-py3-none-any.whl (8.8 kB)\n",
            "Downloading mypy_extensions-1.0.0-py3-none-any.whl (4.7 kB)\n",
            "Installing collected packages: python-dotenv, mypy-extensions, marshmallow, httpx-sse, typing-inspect, pydantic-settings, dataclasses-json, langchain_community\n",
            "Successfully installed dataclasses-json-0.6.7 httpx-sse-0.4.0 langchain_community-0.3.14 marshmallow-3.25.1 mypy-extensions-1.0.0 pydantic-settings-2.7.1 python-dotenv-1.0.1 typing-inspect-0.9.0\n",
            "\u001b[31mERROR: Could not find a version that satisfies the requirement faiss (from versions: none)\u001b[0m\u001b[31m\n",
            "\u001b[0m\u001b[31mERROR: No matching distribution found for faiss\u001b[0m\u001b[31m\n",
            "\u001b[0m"
          ]
        }
      ],
      "source": [
        "!pip install langchain\n",
        "!pip install langchain_community\n",
        "!pip install faiss"
      ]
    },
    {
      "cell_type": "code",
      "source": [
        "from google.colab import userdata\n",
        "api=userdata.get('GOOGLE_API_KEY')"
      ],
      "metadata": {
        "id": "O-Nkb-bJFQP3"
      },
      "execution_count": 6,
      "outputs": []
    },
    {
      "cell_type": "code",
      "source": [
        "!pip install langchain_google_genai"
      ],
      "metadata": {
        "colab": {
          "base_uri": "https://localhost:8080/"
        },
        "id": "ShTiJMCPGAfw",
        "outputId": "26d234cc-1f0e-40d1-98e2-c9fdc372b834"
      },
      "execution_count": 5,
      "outputs": [
        {
          "output_type": "stream",
          "name": "stdout",
          "text": [
            "Collecting langchain_google_genai\n",
            "  Downloading langchain_google_genai-2.0.9-py3-none-any.whl.metadata (3.6 kB)\n",
            "Collecting filetype<2.0.0,>=1.2.0 (from langchain_google_genai)\n",
            "  Downloading filetype-1.2.0-py2.py3-none-any.whl.metadata (6.5 kB)\n",
            "Requirement already satisfied: google-generativeai<0.9.0,>=0.8.0 in /usr/local/lib/python3.11/dist-packages (from langchain_google_genai) (0.8.3)\n",
            "Requirement already satisfied: langchain-core<0.4.0,>=0.3.27 in /usr/local/lib/python3.11/dist-packages (from langchain_google_genai) (0.3.29)\n",
            "Requirement already satisfied: pydantic<3,>=2 in /usr/local/lib/python3.11/dist-packages (from langchain_google_genai) (2.10.5)\n",
            "Requirement already satisfied: google-ai-generativelanguage==0.6.10 in /usr/local/lib/python3.11/dist-packages (from google-generativeai<0.9.0,>=0.8.0->langchain_google_genai) (0.6.10)\n",
            "Requirement already satisfied: google-api-core in /usr/local/lib/python3.11/dist-packages (from google-generativeai<0.9.0,>=0.8.0->langchain_google_genai) (2.19.2)\n",
            "Requirement already satisfied: google-api-python-client in /usr/local/lib/python3.11/dist-packages (from google-generativeai<0.9.0,>=0.8.0->langchain_google_genai) (2.155.0)\n",
            "Requirement already satisfied: google-auth>=2.15.0 in /usr/local/lib/python3.11/dist-packages (from google-generativeai<0.9.0,>=0.8.0->langchain_google_genai) (2.27.0)\n",
            "Requirement already satisfied: protobuf in /usr/local/lib/python3.11/dist-packages (from google-generativeai<0.9.0,>=0.8.0->langchain_google_genai) (4.25.5)\n",
            "Requirement already satisfied: tqdm in /usr/local/lib/python3.11/dist-packages (from google-generativeai<0.9.0,>=0.8.0->langchain_google_genai) (4.67.1)\n",
            "Requirement already satisfied: typing-extensions in /usr/local/lib/python3.11/dist-packages (from google-generativeai<0.9.0,>=0.8.0->langchain_google_genai) (4.12.2)\n",
            "Requirement already satisfied: proto-plus<2.0.0dev,>=1.22.3 in /usr/local/lib/python3.11/dist-packages (from google-ai-generativelanguage==0.6.10->google-generativeai<0.9.0,>=0.8.0->langchain_google_genai) (1.25.0)\n",
            "Requirement already satisfied: PyYAML>=5.3 in /usr/local/lib/python3.11/dist-packages (from langchain-core<0.4.0,>=0.3.27->langchain_google_genai) (6.0.2)\n",
            "Requirement already satisfied: jsonpatch<2.0,>=1.33 in /usr/local/lib/python3.11/dist-packages (from langchain-core<0.4.0,>=0.3.27->langchain_google_genai) (1.33)\n",
            "Requirement already satisfied: langsmith<0.3,>=0.1.125 in /usr/local/lib/python3.11/dist-packages (from langchain-core<0.4.0,>=0.3.27->langchain_google_genai) (0.2.10)\n",
            "Requirement already satisfied: packaging<25,>=23.2 in /usr/local/lib/python3.11/dist-packages (from langchain-core<0.4.0,>=0.3.27->langchain_google_genai) (24.2)\n",
            "Requirement already satisfied: tenacity!=8.4.0,<10.0.0,>=8.1.0 in /usr/local/lib/python3.11/dist-packages (from langchain-core<0.4.0,>=0.3.27->langchain_google_genai) (9.0.0)\n",
            "Requirement already satisfied: annotated-types>=0.6.0 in /usr/local/lib/python3.11/dist-packages (from pydantic<3,>=2->langchain_google_genai) (0.7.0)\n",
            "Requirement already satisfied: pydantic-core==2.27.2 in /usr/local/lib/python3.11/dist-packages (from pydantic<3,>=2->langchain_google_genai) (2.27.2)\n",
            "Requirement already satisfied: googleapis-common-protos<2.0.dev0,>=1.56.2 in /usr/local/lib/python3.11/dist-packages (from google-api-core->google-generativeai<0.9.0,>=0.8.0->langchain_google_genai) (1.66.0)\n",
            "Requirement already satisfied: requests<3.0.0.dev0,>=2.18.0 in /usr/local/lib/python3.11/dist-packages (from google-api-core->google-generativeai<0.9.0,>=0.8.0->langchain_google_genai) (2.32.3)\n",
            "Requirement already satisfied: cachetools<6.0,>=2.0.0 in /usr/local/lib/python3.11/dist-packages (from google-auth>=2.15.0->google-generativeai<0.9.0,>=0.8.0->langchain_google_genai) (5.5.0)\n",
            "Requirement already satisfied: pyasn1-modules>=0.2.1 in /usr/local/lib/python3.11/dist-packages (from google-auth>=2.15.0->google-generativeai<0.9.0,>=0.8.0->langchain_google_genai) (0.4.1)\n",
            "Requirement already satisfied: rsa<5,>=3.1.4 in /usr/local/lib/python3.11/dist-packages (from google-auth>=2.15.0->google-generativeai<0.9.0,>=0.8.0->langchain_google_genai) (4.9)\n",
            "Requirement already satisfied: jsonpointer>=1.9 in /usr/local/lib/python3.11/dist-packages (from jsonpatch<2.0,>=1.33->langchain-core<0.4.0,>=0.3.27->langchain_google_genai) (3.0.0)\n",
            "Requirement already satisfied: httpx<1,>=0.23.0 in /usr/local/lib/python3.11/dist-packages (from langsmith<0.3,>=0.1.125->langchain-core<0.4.0,>=0.3.27->langchain_google_genai) (0.28.1)\n",
            "Requirement already satisfied: orjson<4.0.0,>=3.9.14 in /usr/local/lib/python3.11/dist-packages (from langsmith<0.3,>=0.1.125->langchain-core<0.4.0,>=0.3.27->langchain_google_genai) (3.10.14)\n",
            "Requirement already satisfied: requests-toolbelt<2.0.0,>=1.0.0 in /usr/local/lib/python3.11/dist-packages (from langsmith<0.3,>=0.1.125->langchain-core<0.4.0,>=0.3.27->langchain_google_genai) (1.0.0)\n",
            "Requirement already satisfied: httplib2<1.dev0,>=0.19.0 in /usr/local/lib/python3.11/dist-packages (from google-api-python-client->google-generativeai<0.9.0,>=0.8.0->langchain_google_genai) (0.22.0)\n",
            "Requirement already satisfied: google-auth-httplib2<1.0.0,>=0.2.0 in /usr/local/lib/python3.11/dist-packages (from google-api-python-client->google-generativeai<0.9.0,>=0.8.0->langchain_google_genai) (0.2.0)\n",
            "Requirement already satisfied: uritemplate<5,>=3.0.1 in /usr/local/lib/python3.11/dist-packages (from google-api-python-client->google-generativeai<0.9.0,>=0.8.0->langchain_google_genai) (4.1.1)\n",
            "Requirement already satisfied: grpcio<2.0dev,>=1.33.2 in /usr/local/lib/python3.11/dist-packages (from google-api-core[grpc]!=2.0.*,!=2.1.*,!=2.10.*,!=2.2.*,!=2.3.*,!=2.4.*,!=2.5.*,!=2.6.*,!=2.7.*,!=2.8.*,!=2.9.*,<3.0.0dev,>=1.34.1->google-ai-generativelanguage==0.6.10->google-generativeai<0.9.0,>=0.8.0->langchain_google_genai) (1.69.0)\n",
            "Requirement already satisfied: grpcio-status<2.0.dev0,>=1.33.2 in /usr/local/lib/python3.11/dist-packages (from google-api-core[grpc]!=2.0.*,!=2.1.*,!=2.10.*,!=2.2.*,!=2.3.*,!=2.4.*,!=2.5.*,!=2.6.*,!=2.7.*,!=2.8.*,!=2.9.*,<3.0.0dev,>=1.34.1->google-ai-generativelanguage==0.6.10->google-generativeai<0.9.0,>=0.8.0->langchain_google_genai) (1.62.3)\n",
            "Requirement already satisfied: pyparsing!=3.0.0,!=3.0.1,!=3.0.2,!=3.0.3,<4,>=2.4.2 in /usr/local/lib/python3.11/dist-packages (from httplib2<1.dev0,>=0.19.0->google-api-python-client->google-generativeai<0.9.0,>=0.8.0->langchain_google_genai) (3.2.1)\n",
            "Requirement already satisfied: anyio in /usr/local/lib/python3.11/dist-packages (from httpx<1,>=0.23.0->langsmith<0.3,>=0.1.125->langchain-core<0.4.0,>=0.3.27->langchain_google_genai) (3.7.1)\n",
            "Requirement already satisfied: certifi in /usr/local/lib/python3.11/dist-packages (from httpx<1,>=0.23.0->langsmith<0.3,>=0.1.125->langchain-core<0.4.0,>=0.3.27->langchain_google_genai) (2024.12.14)\n",
            "Requirement already satisfied: httpcore==1.* in /usr/local/lib/python3.11/dist-packages (from httpx<1,>=0.23.0->langsmith<0.3,>=0.1.125->langchain-core<0.4.0,>=0.3.27->langchain_google_genai) (1.0.7)\n",
            "Requirement already satisfied: idna in /usr/local/lib/python3.11/dist-packages (from httpx<1,>=0.23.0->langsmith<0.3,>=0.1.125->langchain-core<0.4.0,>=0.3.27->langchain_google_genai) (3.10)\n",
            "Requirement already satisfied: h11<0.15,>=0.13 in /usr/local/lib/python3.11/dist-packages (from httpcore==1.*->httpx<1,>=0.23.0->langsmith<0.3,>=0.1.125->langchain-core<0.4.0,>=0.3.27->langchain_google_genai) (0.14.0)\n",
            "Requirement already satisfied: pyasn1<0.7.0,>=0.4.6 in /usr/local/lib/python3.11/dist-packages (from pyasn1-modules>=0.2.1->google-auth>=2.15.0->google-generativeai<0.9.0,>=0.8.0->langchain_google_genai) (0.6.1)\n",
            "Requirement already satisfied: charset-normalizer<4,>=2 in /usr/local/lib/python3.11/dist-packages (from requests<3.0.0.dev0,>=2.18.0->google-api-core->google-generativeai<0.9.0,>=0.8.0->langchain_google_genai) (3.4.1)\n",
            "Requirement already satisfied: urllib3<3,>=1.21.1 in /usr/local/lib/python3.11/dist-packages (from requests<3.0.0.dev0,>=2.18.0->google-api-core->google-generativeai<0.9.0,>=0.8.0->langchain_google_genai) (2.3.0)\n",
            "Requirement already satisfied: sniffio>=1.1 in /usr/local/lib/python3.11/dist-packages (from anyio->httpx<1,>=0.23.0->langsmith<0.3,>=0.1.125->langchain-core<0.4.0,>=0.3.27->langchain_google_genai) (1.3.1)\n",
            "Downloading langchain_google_genai-2.0.9-py3-none-any.whl (41 kB)\n",
            "\u001b[2K   \u001b[90m━━━━━━━━━━━━━━━━━━━━━━━━━━━━━━━━━━━━━━━━\u001b[0m \u001b[32m41.7/41.7 kB\u001b[0m \u001b[31m3.1 MB/s\u001b[0m eta \u001b[36m0:00:00\u001b[0m\n",
            "\u001b[?25hDownloading filetype-1.2.0-py2.py3-none-any.whl (19 kB)\n",
            "Installing collected packages: filetype, langchain_google_genai\n",
            "Successfully installed filetype-1.2.0 langchain_google_genai-2.0.9\n"
          ]
        }
      ]
    },
    {
      "cell_type": "code",
      "source": [
        "import os\n",
        "from langchain_google_genai import ChatGoogleGenerativeAI\n",
        "os.environ[\"GOOGLE_API_KEY\"] = api\n",
        "\n",
        "llm = ChatGoogleGenerativeAI(model=\"gemini-pro\")\n",
        "llm.invoke(\"Who is the pm of paksitan\").content"
      ],
      "metadata": {
        "colab": {
          "base_uri": "https://localhost:8080/",
          "height": 35
        },
        "id": "h47wHDS9FbwQ",
        "outputId": "c703dc5f-4f8c-447e-a8b3-de2878c28b81"
      },
      "execution_count": 7,
      "outputs": [
        {
          "output_type": "execute_result",
          "data": {
            "text/plain": [
              "'Shehbaz Sharif'"
            ],
            "application/vnd.google.colaboratory.intrinsic+json": {
              "type": "string"
            }
          },
          "metadata": {},
          "execution_count": 7
        }
      ]
    },
    {
      "cell_type": "markdown",
      "source": [
        "# #ChatPromptTemplate\n"
      ],
      "metadata": {
        "id": "lr3U9ZlgPo3y"
      }
    },
    {
      "cell_type": "code",
      "source": [
        "from langchain.prompts import PromptTemplate,ChatPromptTemplate\n",
        "from langchain.chains import LLMChain\n",
        "\n",
        "template = ChatPromptTemplate.from_messages([\n",
        "    (\"system\",\"you are a helpful assistant provide answer based on the user {question}\"),\n",
        "    (\"user\",\"{question}\")\n",
        "])"
      ],
      "metadata": {
        "id": "O5i_ZCKvGXKh"
      },
      "execution_count": 9,
      "outputs": []
    },
    {
      "cell_type": "code",
      "source": [
        "formattedPrompt =template.format(\n",
        "    question = \"as a student how i can write the research paper\"\n",
        ")"
      ],
      "metadata": {
        "id": "xMFKJ-riNaCc"
      },
      "execution_count": 10,
      "outputs": []
    },
    {
      "cell_type": "code",
      "source": [
        "response=llm.invoke(formattedPrompt)"
      ],
      "metadata": {
        "id": "DQn7sr6BOxYy"
      },
      "execution_count": 11,
      "outputs": []
    },
    {
      "cell_type": "code",
      "source": [
        "response.content.split(\"\\n\")"
      ],
      "metadata": {
        "colab": {
          "base_uri": "https://localhost:8080/"
        },
        "id": "KH4rwPjIO70U",
        "outputId": "d4f9f15a-1bbe-4115-994c-ac10de1e3a11"
      },
      "execution_count": 12,
      "outputs": [
        {
          "output_type": "execute_result",
          "data": {
            "text/plain": [
              "['**Step 1: Choose a Topic**',\n",
              " '',\n",
              " '* Select a topic that aligns with your interests and research goals.',\n",
              " '* Consider your coursework, previous research, and current events.',\n",
              " '* Narrow down your topic to a specific and manageable focus.',\n",
              " '',\n",
              " '**Step 2: Gather Sources**',\n",
              " '',\n",
              " '* Utilize academic databases (e.g., JSTOR, PubMed, Google Scholar) to find relevant scholarly articles, books, and other sources.',\n",
              " '* Consult with your professor or librarian for guidance on finding credible sources.',\n",
              " '* Take notes as you read, highlighting key points and concepts.',\n",
              " '',\n",
              " '**Step 3: Create an Outline**',\n",
              " '',\n",
              " '* Organize your research into a logical structure using an outline.',\n",
              " '* Include sections for an introduction, literature review, methods, results, discussion, and conclusion.',\n",
              " '* Use subheadings and bullet points to clearly present your ideas.',\n",
              " '',\n",
              " '**Step 4: Write the Introduction**',\n",
              " '',\n",
              " \"* Begin with a hook to capture the reader's attention.\",\n",
              " '* Provide background information on the topic and its significance.',\n",
              " '* State your research question or hypothesis clearly.',\n",
              " '',\n",
              " '**Step 5: Conduct the Literature Review**',\n",
              " '',\n",
              " '* Summarize and synthesize previous research related to your topic.',\n",
              " '* Discuss different perspectives, theories, and methodologies.',\n",
              " '* Identify gaps in the literature and justify the need for your own research.',\n",
              " '',\n",
              " '**Step 6: Describe Your Methods**',\n",
              " '',\n",
              " '* Explain how you conducted your research (e.g., surveys, experiments, data analysis).',\n",
              " '* Provide sufficient detail for others to replicate your study.',\n",
              " '* Discuss any limitations or potential biases in your methods.',\n",
              " '',\n",
              " '**Step 7: Present Your Results**',\n",
              " '',\n",
              " '* Report your findings clearly and objectively.',\n",
              " '* Use tables, graphs, or charts to illustrate your data.',\n",
              " '* Discuss the implications of your results and how they relate to previous research.',\n",
              " '',\n",
              " '**Step 8: Discuss Your Findings**',\n",
              " '',\n",
              " '* Interpret your results and discuss their significance.',\n",
              " '* Consider alternative explanations and potential weaknesses in your study.',\n",
              " '* Draw connections to the literature and your research question or hypothesis.',\n",
              " '',\n",
              " '**Step 9: Write the Conclusion**',\n",
              " '',\n",
              " '* Summarize your main findings and their implications.',\n",
              " '* State your conclusions and address the initial research question or hypothesis.',\n",
              " '* Make recommendations for future research or applications.',\n",
              " '',\n",
              " '**Step 10: Proofread and Revise**',\n",
              " '',\n",
              " '* Carefully proofread your paper for errors in grammar, spelling, and punctuation.',\n",
              " '* Seek feedback from peers or a writing tutor to improve clarity and organization.',\n",
              " '* Revise your paper based on feedback and ensure it meets the requirements of the assignment.']"
            ]
          },
          "metadata": {},
          "execution_count": 12
        }
      ]
    },
    {
      "cell_type": "markdown",
      "source": [
        "#JustPromptTemplate"
      ],
      "metadata": {
        "id": "vw2JwmHjQGmA"
      }
    },
    {
      "cell_type": "code",
      "source": [
        "#PromptTemplate\n",
        "prompt =\"you are a helpful assistant for answer the user {question}\"\n",
        "template = PromptTemplate.from_template(prompt)"
      ],
      "metadata": {
        "id": "2IVLmXQvPbn3"
      },
      "execution_count": 13,
      "outputs": []
    },
    {
      "cell_type": "code",
      "source": [
        "response = template.format(question=\"If  i write a research paper about ai which topic shoild i choose\")"
      ],
      "metadata": {
        "id": "dibvRflzQO9R"
      },
      "execution_count": 14,
      "outputs": []
    },
    {
      "cell_type": "code",
      "source": [
        "result=llm.invoke(response)\n",
        "result.content.split(\"\\n\")"
      ],
      "metadata": {
        "colab": {
          "base_uri": "https://localhost:8080/"
        },
        "id": "1m3I-4tgQO6B",
        "outputId": "dfae678f-aa2e-4f52-fe4c-72940cbfeeae"
      },
      "execution_count": 15,
      "outputs": [
        {
          "output_type": "execute_result",
          "data": {
            "text/plain": [
              "['**Broad Topics:**',\n",
              " '',\n",
              " '* **AI for Social Good:** Exploring how AI can be used to address societal challenges, such as poverty, disease, and climate change.',\n",
              " '* **AI and Human Interaction:** Investigating the ethical and social implications of AI, including its impact on employment, privacy, and bias.',\n",
              " '* **AI in Specific Industries:** Examining how AI is transforming specific industries, such as healthcare, finance, transportation, and manufacturing.',\n",
              " '* **AI and Innovation:** Exploring the role of AI in driving technological advancements, such as self-driving cars, natural language processing, and machine learning.',\n",
              " '* **AI and the Future of Work:** Analyzing how AI is changing the nature of work and the skills required for the workforce of the future.',\n",
              " '',\n",
              " '**Specific Topics:**',\n",
              " '',\n",
              " '* **Ethical Considerations for AI:** Discussing the ethical guidelines and principles that should govern the development and use of AI systems.',\n",
              " '* **AI in Healthcare:** Exploring the use of AI for disease diagnosis, personalized treatment plans, and drug discovery.',\n",
              " '* **AI in Finance:** Examining how AI is being used for fraud detection, risk assessment, and investment management.',\n",
              " '* **AI in Education:** Investigating the potential of AI to enhance learning experiences, provide personalized feedback, and automate administrative tasks.',\n",
              " '* **AI in Climate Change Mitigation:** Analyzing how AI can help monitor emissions, predict weather patterns, and develop sustainable energy solutions.',\n",
              " '* **AI and Machine Learning:** Providing an overview of machine learning algorithms, their applications, and the challenges associated with their development.',\n",
              " '* **AI and Natural Language Processing:** Exploring the use of AI for natural language understanding, machine translation, and text summarization.',\n",
              " '* **AI and Computer Vision:** Examining the use of AI for image and video recognition, facial detection, and object tracking.',\n",
              " '* **AI and Robotics:** Investigating the integration of AI into robots, enabling them to perform complex tasks, navigate environments, and interact with humans.',\n",
              " '* **AI and Cybersecurity:** Analyzing how AI can be used to enhance cybersecurity measures, detect threats, and prevent data breaches.']"
            ]
          },
          "metadata": {},
          "execution_count": 15
        }
      ]
    },
    {
      "cell_type": "markdown",
      "source": [
        "# HummanMessage,SystemMesage"
      ],
      "metadata": {
        "id": "WKQ04VTeRWXM"
      }
    },
    {
      "cell_type": "code",
      "source": [
        "from langchain.prompts import HumanMessagePromptTemplate,SystemMessagePromptTemplate\n",
        "from langchain.prompts import ChatPromptTemplate"
      ],
      "metadata": {
        "id": "sT5THK8YQO3P"
      },
      "execution_count": 16,
      "outputs": []
    },
    {
      "cell_type": "code",
      "source": [
        "system_message = SystemMessagePromptTemplate.from_template(\n",
        "    \"you are  a helpful assistant to the user for answer the user {question}\"\n",
        ")\n",
        "human_message = HumanMessagePromptTemplate.from_template(\"{question}\")\n",
        "template = ChatPromptTemplate.from_messages([system_message,human_message])\n",
        "formattedmessage = template.format(question=\"as a student how i can write the research paper\")\n",
        "res = llm.invoke(formattedmessage)"
      ],
      "metadata": {
        "id": "jD-EhmllQO0l"
      },
      "execution_count": 18,
      "outputs": []
    },
    {
      "cell_type": "code",
      "source": [
        "print(res.content)"
      ],
      "metadata": {
        "colab": {
          "base_uri": "https://localhost:8080/"
        },
        "id": "MHKIffkVQOyM",
        "outputId": "1db51672-1bca-48de-aae7-8a9829d07123"
      },
      "execution_count": 19,
      "outputs": [
        {
          "output_type": "stream",
          "name": "stdout",
          "text": [
            "**Step 1: Define Your Research Question and Topic**\n",
            "\n",
            "* Identify a specific topic that you are interested in exploring.\n",
            "* Formulate a clear and concise research question that will guide your research.\n",
            "\n",
            "**Step 2: Gather Sources**\n",
            "\n",
            "* Conduct a literature review to identify relevant books, articles, and other sources.\n",
            "* Use academic databases, libraries, and online resources to find credible information.\n",
            "\n",
            "**Step 3: Develop an Outline**\n",
            "\n",
            "* Create an outline that organizes your research into logical sections.\n",
            "* Include an introduction, literature review, methodology, results, discussion, and conclusion.\n",
            "\n",
            "**Step 4: Write the Introduction**\n",
            "\n",
            "* Introduce your research topic and provide background information.\n",
            "* State your research question and thesis statement.\n",
            "\n",
            "**Step 5: Write the Literature Review**\n",
            "\n",
            "* Summarize and synthesize the relevant literature you have gathered.\n",
            "* Identify gaps in knowledge or areas that need further research.\n",
            "\n",
            "**Step 6: Write the Methodology**\n",
            "\n",
            "* Describe the research methods you used to collect and analyze data.\n",
            "* Explain the limitations and strengths of your methodology.\n",
            "\n",
            "**Step 7: Write the Results**\n",
            "\n",
            "* Present your findings in a clear and concise manner.\n",
            "* Use tables, graphs, or charts to illustrate your data.\n",
            "\n",
            "**Step 8: Write the Discussion**\n",
            "\n",
            "* Interpret your results and discuss their implications.\n",
            "* Relate your findings to the existing literature and your research question.\n",
            "\n",
            "**Step 9: Write the Conclusion**\n",
            "\n",
            "* Summarize your main findings and restate your thesis statement.\n",
            "* Discuss the significance of your research and suggest directions for future study.\n",
            "\n",
            "**Additional Tips:**\n",
            "\n",
            "* Start early and allow ample time for research and writing.\n",
            "* Seek feedback from professors, peers, or writing centers.\n",
            "* Use clear and concise language.\n",
            "* Proofread carefully for errors in grammar, spelling, and punctuation.\n",
            "* Cite all sources accurately and follow the appropriate citation style.\n"
          ]
        }
      ]
    },
    {
      "cell_type": "code",
      "source": [
        "from langchain.prompts import ChatPromptTemplate,PromptTemplate,SystemMessagePromptTemplate,HumanMessagePromptTemplate"
      ],
      "metadata": {
        "id": "oWfkPCd3QOtG"
      },
      "execution_count": 24,
      "outputs": []
    },
    {
      "cell_type": "code",
      "source": [
        "from langchain.prompts import ChatPromptTemplate,SystemMessagePromptTemplate,HumanMessagePromptTemplate"
      ],
      "metadata": {
        "id": "MjS7mTGrQOvo"
      },
      "execution_count": 23,
      "outputs": []
    },
    {
      "cell_type": "code",
      "source": [
        "#passing with human mesasge and sys message\n",
        "sysmsg = SystemMessagePromptTemplate.from_template(\"you are a helpful assistant for answer the user {question}\")\n",
        "humanMsg = HumanMessagePromptTemplate.from_template(\"{question}\")\n",
        "template = ChatPromptTemplate.from_messages([sysmsg,humanMsg])\n",
        "\n",
        "formattedPrompt = template.format(question=\"as a student how i can write the research paper\")\n",
        "res = llm.invoke(formattedPrompt)"
      ],
      "metadata": {
        "id": "iC0ZiDguQOqm"
      },
      "execution_count": null,
      "outputs": []
    },
    {
      "cell_type": "code",
      "source": [
        "#pass without human mesasge template\n",
        "\n",
        "template = ChatPromptTemplate.from_messages(\n",
        "    [\n",
        "        (\"system\",\"youa are a medical doctore based on the {disease} you will provide sysptom and will tell the user hot to get relief and suggest user to medican\"),\n",
        "        (\"human\",\"{disease}\")\n",
        "    ]\n",
        ")\n",
        "formatterPrompt = template.format(disease=\"pain in brust\")"
      ],
      "metadata": {
        "id": "l0mS8EynWQF1"
      },
      "execution_count": 37,
      "outputs": []
    },
    {
      "cell_type": "code",
      "source": [
        "res=llm.invoke(formatterPrompt)\n",
        "print(res.content)"
      ],
      "metadata": {
        "colab": {
          "base_uri": "https://localhost:8080/"
        },
        "id": "3KG75q2QQOnz",
        "outputId": "d6e1bebe-ee90-4352-dc19-8b14061ecdac"
      },
      "execution_count": 38,
      "outputs": [
        {
          "output_type": "stream",
          "name": "stdout",
          "text": [
            "**Symptoms of Chest Pain**\n",
            "\n",
            "* Sharp, stabbing, or aching pain\n",
            "* Pressure or tightness in the chest\n",
            "* Pain that radiates to the neck, jaw, back, or arms\n",
            "* Pain that worsens with exertion or lying down\n",
            "* Pain that is accompanied by shortness of breath, sweating, nausea, or dizziness\n",
            "\n",
            "**Causes of Chest Pain**\n",
            "\n",
            "* Heart attack\n",
            "* Angina\n",
            "* Pericarditis\n",
            "* Myocarditis\n",
            "* Pulmonary embolism\n",
            "* Pneumonia\n",
            "* Pleurisy\n",
            "* Costochondritis\n",
            "* Muscle strain or injury\n",
            "\n",
            "**How to Get Relief from Chest Pain**\n",
            "\n",
            "* Rest and avoid strenuous activity.\n",
            "* Take over-the-counter pain medication, such as ibuprofen or acetaminophen.\n",
            "* Apply a cold compress to your chest.\n",
            "* Sit or lie down in a comfortable position.\n",
            "* If the pain is severe or does not improve with home treatment, seek medical attention immediately.\n",
            "\n",
            "**Medications for Chest Pain**\n",
            "\n",
            "* Nitroglycerin: Dilates blood vessels and improves blood flow to the heart.\n",
            "* Aspirin: Prevents blood clots from forming.\n",
            "* Beta-blockers: Slow the heart rate and lower blood pressure.\n",
            "* Statins: Lower cholesterol levels.\n",
            "\n",
            "**When to Seek Medical Attention**\n",
            "\n",
            "Seek medical attention immediately if you experience any of the following:\n",
            "\n",
            "* Chest pain that is severe or does not improve with rest or medication\n",
            "* Chest pain that is accompanied by shortness of breath, sweating, nausea, or dizziness\n",
            "* Chest pain that radiates to the neck, jaw, back, or arms\n",
            "* Chest pain that occurs after a traumatic injury\n"
          ]
        }
      ]
    },
    {
      "cell_type": "code",
      "source": [
        "#Prompt Template\n",
        "template = PromptTemplate.from_template(\"You are helpful assistant provide roadmap to the user for the user{input}\")\n",
        "formatted = template.format(input=\"Data structure and algoritham\")\n",
        "res=llm.invoke(formatted)\n",
        "print(res.content.split(\"\\n\\n\"))"
      ],
      "metadata": {
        "colab": {
          "base_uri": "https://localhost:8080/"
        },
        "id": "4V8eOEANQOlj",
        "outputId": "d041aadc-87fe-428f-c6c2-438e28552ec7"
      },
      "execution_count": 41,
      "outputs": [
        {
          "output_type": "stream",
          "name": "stdout",
          "text": [
            "['**Roadmap for Understanding User Data Structures and Algorithms**', '**Phase 1: Basic Concepts**', '* **Data Structures:** Introduction to arrays, linked lists, stacks, queues, trees, and graphs.\\n* **Algorithms:** Definition, time and space complexity analysis, and common sorting and searching algorithms.', '**Phase 2: Data Structures in Detail**', '* **Arrays:** Dynamic arrays, multidimensional arrays, and operations like insertion, deletion, and searching.\\n* **Linked Lists:** Singly-linked lists, doubly-linked lists, and operations like traversing, inserting, and deleting nodes.\\n* **Stacks:** Implementing stacks using arrays or linked lists, operations like push, pop, and peek.\\n* **Queues:** Implementing queues using arrays or linked lists, operations like enqueue, dequeue, and peek.\\n* **Trees:** Binary trees, binary search trees, and operations like traversal, insertion, and deletion.\\n* **Graphs:** Representation of graphs, adjacency lists and matrices, and traversal algorithms like DFS and BFS.', '**Phase 3: Algorithms in Detail**', \"* **Sorting Algorithms:** Bubble sort, selection sort, merge sort, quick sort, and heap sort.\\n* **Searching Algorithms:** Linear search, binary search, interpolation search, and hashing.\\n* **Dynamic Programming:** Understanding the concept and solving problems like Fibonacci, LCS, and 0-1 knapsack.\\n* **Greedy Algorithms:** Understanding the concept and solving problems like scheduling, Huffman coding, and Kruskal's algorithm.\\n* **Divide and Conquer:** Understanding the concept and solving problems like merge sort, quick sort, and binary search.\", '**Phase 4: Advanced Topics**', \"* **Hash Tables:** Collision resolution techniques, hash functions, and applications in data storage and retrieval.\\n* **Tries:** Trie data structure for efficient string storage and retrieval.\\n* **Balanced Trees:** AVL trees, red-black trees, and splay trees for efficient searching and insertion.\\n* **Graphs Algorithms:** Advanced graph algorithms like Dijkstra's algorithm, Floyd-Warshall algorithm, and topological sorting.\", '**Phase 5: Applications**', '* **Database Management:** Understanding how data structures and algorithms are used in database systems.\\n* **Computer Graphics:** Using data structures and algorithms for image processing, 3D modeling, and animation.\\n* **Artificial Intelligence:** Utilizing data structures and algorithms for machine learning, natural language processing, and computer vision.\\n* **Software Engineering:** Applying data structures and algorithms in software design, development, and testing.']\n"
          ]
        }
      ]
    },
    {
      "cell_type": "code",
      "source": [
        "#fewshotPrmptTemaplte\n",
        "from langchain.prompts import FewShotPromptTemplate,ChatMessagePromptTemplate,FewShotChatMessagePromptTemplate"
      ],
      "metadata": {
        "id": "z9TT2BLSYJv6"
      },
      "execution_count": 52,
      "outputs": []
    },
    {
      "cell_type": "code",
      "source": [
        "example = [\n",
        "    {\"input\":\"2+2\", \"output\": \"4\"},\n",
        "    {\"input\": \"3+3\", \"output\": \"6\"}\n",
        "]\n",
        "example_prompt= ChatPromptTemplate.from_messages([\n",
        "    (\"human\",\"{input}\"),\n",
        "    (\"system\",\"{output}\")\n",
        "])"
      ],
      "metadata": {
        "id": "e3NuEHOVaK1Y"
      },
      "execution_count": 75,
      "outputs": []
    },
    {
      "cell_type": "code",
      "source": [
        "fewshot = FewShotChatMessagePromptTemplate(\n",
        "    examples=example,\n",
        "    example_prompt=example_prompt,\n",
        ")"
      ],
      "metadata": {
        "id": "UTXd5T6Xbyb4"
      },
      "execution_count": 65,
      "outputs": []
    },
    {
      "cell_type": "code",
      "source": [
        "finalPrompt = ChatPromptTemplate.from_messages([\n",
        "    (\"system\",\"you are a hellpful assistant provide the answer based on the user {question}\"),\n",
        "    fewshot,\n",
        "    (\"human\",\"{question}\")\n",
        "])"
      ],
      "metadata": {
        "id": "mMv4C1lYcVh_"
      },
      "execution_count": 66,
      "outputs": []
    },
    {
      "cell_type": "code",
      "source": [
        "Formatted = finalPrompt.format(question=\"what is the meaning of life\")"
      ],
      "metadata": {
        "id": "tVFG8lEIdqpb"
      },
      "execution_count": 67,
      "outputs": []
    },
    {
      "cell_type": "code",
      "source": [
        "llm.invoke(Formatted)"
      ],
      "metadata": {
        "id": "uCykuKW0d0Oa",
        "outputId": "153f4724-af2f-4623-b402-6169f38c3bce",
        "colab": {
          "base_uri": "https://localhost:8080/"
        }
      },
      "execution_count": 70,
      "outputs": [
        {
          "output_type": "execute_result",
          "data": {
            "text/plain": [
              "AIMessage(content='System: I am sorry, I cannot answer that question. The meaning of life is a complex and personal question that can only be answered by each individual.', additional_kwargs={}, response_metadata={'prompt_feedback': {'block_reason': 0, 'safety_ratings': []}, 'finish_reason': 'STOP', 'safety_ratings': [{'category': 'HARM_CATEGORY_SEXUALLY_EXPLICIT', 'probability': 'NEGLIGIBLE', 'blocked': False}, {'category': 'HARM_CATEGORY_HATE_SPEECH', 'probability': 'NEGLIGIBLE', 'blocked': False}, {'category': 'HARM_CATEGORY_HARASSMENT', 'probability': 'NEGLIGIBLE', 'blocked': False}, {'category': 'HARM_CATEGORY_DANGEROUS_CONTENT', 'probability': 'NEGLIGIBLE', 'blocked': False}]}, id='run-3be51d3b-7d84-4a99-a8b3-f04ed92cd295-0', usage_metadata={'input_tokens': 56, 'output_tokens': 31, 'total_tokens': 87, 'input_token_details': {'cache_read': 0}})"
            ]
          },
          "metadata": {},
          "execution_count": 70
        }
      ]
    },
    {
      "cell_type": "code",
      "source": [
        "#FewShotPromptTemplate\n",
        "examples = [\n",
        "    {\"word\": \"happy\", \"word\": \"sad\"},\n",
        "    {\"word\": \"tall\", \"word\": \"short\"},\n",
        "]\n",
        "\n",
        "example_prommpt = ChatPromptTemplate.from_messages([\n",
        "    (\"human\",\"{word}\"),\n",
        "    (\"system\",\"{word}\")\n",
        "])\n",
        "\n",
        "fewshot = FewShotChatMessagePromptTemplate(\n",
        "    examples=examples,\n",
        "    example_prompt=example_prommpt\n",
        ")"
      ],
      "metadata": {
        "id": "qrIlODlZeVhr"
      },
      "execution_count": 86,
      "outputs": []
    },
    {
      "cell_type": "code",
      "source": [
        "FinalPrompt = ChatPromptTemplate.from_messages([\n",
        "    (\"system\",\"you are a helpfull assistant based on the user {word} you will provide the antonym of the word\"),\n",
        "    example_prommpt,\n",
        "    (\"human\",\"{word}\")\n",
        "])"
      ],
      "metadata": {
        "id": "J6sdPYF7fhdE"
      },
      "execution_count": 87,
      "outputs": []
    },
    {
      "cell_type": "code",
      "source": [
        "FormattedPrompt = FinalPrompt.format(word=\"sky\")"
      ],
      "metadata": {
        "id": "uWeYsJBtgCZY"
      },
      "execution_count": 94,
      "outputs": []
    },
    {
      "cell_type": "code",
      "source": [
        "llm.invoke(FormattedPrompt)"
      ],
      "metadata": {
        "id": "8dmUYq5rgLR6",
        "outputId": "a3786a45-5ed1-4fed-954d-be03570c027b",
        "colab": {
          "base_uri": "https://localhost:8080/"
        }
      },
      "execution_count": 95,
      "outputs": [
        {
          "output_type": "execute_result",
          "data": {
            "text/plain": [
              "AIMessage(content='ground', additional_kwargs={}, response_metadata={'prompt_feedback': {'block_reason': 0, 'safety_ratings': []}, 'finish_reason': 'STOP', 'safety_ratings': [{'category': 'HARM_CATEGORY_SEXUALLY_EXPLICIT', 'probability': 'NEGLIGIBLE', 'blocked': False}, {'category': 'HARM_CATEGORY_HATE_SPEECH', 'probability': 'NEGLIGIBLE', 'blocked': False}, {'category': 'HARM_CATEGORY_HARASSMENT', 'probability': 'NEGLIGIBLE', 'blocked': False}, {'category': 'HARM_CATEGORY_DANGEROUS_CONTENT', 'probability': 'NEGLIGIBLE', 'blocked': False}]}, id='run-02732bcd-d41e-4229-b65d-b461ae5e8a9b-0', usage_metadata={'input_tokens': 35, 'output_tokens': 1, 'total_tokens': 36, 'input_token_details': {'cache_read': 0}})"
            ]
          },
          "metadata": {},
          "execution_count": 95
        }
      ]
    },
    {
      "cell_type": "code",
      "source": [
        "#chains\n",
        "prompt1 = ChatPromptTemplate.from_messages([\n",
        "    HumanMessagePromptTemplate.from_template(\"you are helpful assistant based on the user {topic} will write research paper for the user\")\n",
        "])\n",
        "\n",
        "finalprompt = prompt1.format(topic=\"rag application\")"
      ],
      "metadata": {
        "id": "HYHjfVQahFQ3"
      },
      "execution_count": 113,
      "outputs": []
    },
    {
      "cell_type": "code",
      "source": [
        "from langchain.chains import LLMChain"
      ],
      "metadata": {
        "id": "yHDgsphxk0fN"
      },
      "execution_count": 114,
      "outputs": []
    },
    {
      "cell_type": "code",
      "source": [
        "chain = prompt1 | llm"
      ],
      "metadata": {
        "id": "EI1Ua6I6kUQG"
      },
      "execution_count": 121,
      "outputs": []
    },
    {
      "cell_type": "code",
      "source": [
        "res=chain.invoke(\"rag application\")"
      ],
      "metadata": {
        "id": "e3bKZLehkGms",
        "outputId": "74725961-ff3c-4145-f4db-990f3afbc324",
        "colab": {
          "base_uri": "https://localhost:8080/",
          "height": 280
        }
      },
      "execution_count": 125,
      "outputs": [
        {
          "output_type": "error",
          "ename": "AttributeError",
          "evalue": "'AIMessage' object has no attribute 'split'",
          "traceback": [
            "\u001b[0;31m---------------------------------------------------------------------------\u001b[0m",
            "\u001b[0;31mAttributeError\u001b[0m                            Traceback (most recent call last)",
            "\u001b[0;32m<ipython-input-125-f638778acd70>\u001b[0m in \u001b[0;36m<cell line: 0>\u001b[0;34m()\u001b[0m\n\u001b[1;32m      1\u001b[0m \u001b[0mres\u001b[0m\u001b[0;34m=\u001b[0m\u001b[0mchain\u001b[0m\u001b[0;34m.\u001b[0m\u001b[0minvoke\u001b[0m\u001b[0;34m(\u001b[0m\u001b[0;34m\"rag application\"\u001b[0m\u001b[0;34m)\u001b[0m\u001b[0;34m\u001b[0m\u001b[0;34m\u001b[0m\u001b[0m\n\u001b[0;32m----> 2\u001b[0;31m \u001b[0mres\u001b[0m\u001b[0;34m.\u001b[0m\u001b[0msplit\u001b[0m\u001b[0;34m(\u001b[0m\u001b[0;34m\"\\n\\n\"\u001b[0m\u001b[0;34m)\u001b[0m\u001b[0;34m\u001b[0m\u001b[0;34m\u001b[0m\u001b[0m\n\u001b[0m",
            "\u001b[0;32m/usr/local/lib/python3.11/dist-packages/pydantic/main.py\u001b[0m in \u001b[0;36m__getattr__\u001b[0;34m(self, item)\u001b[0m\n\u001b[1;32m    889\u001b[0m                     \u001b[0;32melse\u001b[0m\u001b[0;34m:\u001b[0m\u001b[0;34m\u001b[0m\u001b[0;34m\u001b[0m\u001b[0m\n\u001b[1;32m    890\u001b[0m                         \u001b[0;31m# this is the current error\u001b[0m\u001b[0;34m\u001b[0m\u001b[0;34m\u001b[0m\u001b[0m\n\u001b[0;32m--> 891\u001b[0;31m                         \u001b[0;32mraise\u001b[0m \u001b[0mAttributeError\u001b[0m\u001b[0;34m(\u001b[0m\u001b[0;34mf'{type(self).__name__!r} object has no attribute {item!r}'\u001b[0m\u001b[0;34m)\u001b[0m\u001b[0;34m\u001b[0m\u001b[0;34m\u001b[0m\u001b[0m\n\u001b[0m\u001b[1;32m    892\u001b[0m \u001b[0;34m\u001b[0m\u001b[0m\n\u001b[1;32m    893\u001b[0m         \u001b[0;32mdef\u001b[0m \u001b[0m__setattr__\u001b[0m\u001b[0;34m(\u001b[0m\u001b[0mself\u001b[0m\u001b[0;34m,\u001b[0m \u001b[0mname\u001b[0m\u001b[0;34m:\u001b[0m \u001b[0mstr\u001b[0m\u001b[0;34m,\u001b[0m \u001b[0mvalue\u001b[0m\u001b[0;34m:\u001b[0m \u001b[0mAny\u001b[0m\u001b[0;34m)\u001b[0m \u001b[0;34m->\u001b[0m \u001b[0;32mNone\u001b[0m\u001b[0;34m:\u001b[0m\u001b[0;34m\u001b[0m\u001b[0;34m\u001b[0m\u001b[0m\n",
            "\u001b[0;31mAttributeError\u001b[0m: 'AIMessage' object has no attribute 'split'"
          ]
        }
      ]
    },
    {
      "cell_type": "code",
      "source": [
        "print(res.content)"
      ],
      "metadata": {
        "id": "qefvH5hCmP60",
        "outputId": "84f34cc1-0049-43d4-882d-00d03394efcc",
        "colab": {
          "base_uri": "https://localhost:8080/"
        }
      },
      "execution_count": 128,
      "outputs": [
        {
          "output_type": "stream",
          "name": "stdout",
          "text": [
            "**Title:** The Impact of Artificial Intelligence on Research Paper Writing\n",
            "\n",
            "**Abstract:**\n",
            "\n",
            "Artificial intelligence (AI) has emerged as a transformative technology with the potential to revolutionize various fields, including academia. This research paper examines the impact of AI on research paper writing, exploring its benefits, challenges, and implications for researchers. Through a comprehensive literature review and analysis, the study sheds light on the current state of AI-assisted research paper writing and provides insights into its future trajectory.\n",
            "\n",
            "**Introduction:**\n",
            "\n",
            "Research paper writing is a critical component of academic discourse, requiring meticulous research, analysis, and writing skills. However, the traditional research process can be time-consuming and labor-intensive. AI offers a promising solution by automating certain tasks and augmenting researchers' capabilities. This paper aims to investigate the impact of AI on research paper writing, focusing on its strengths, weaknesses, and ethical considerations.\n",
            "\n",
            "**Benefits of AI in Research Paper Writing:**\n",
            "\n",
            "* **Automation of Repetitive Tasks:** AI can automate repetitive tasks such as literature search, data collection, and formatting, freeing up researchers to focus on high-value activities.\n",
            "* **Enhanced Efficiency:** AI algorithms can process large amounts of data and identify relevant information quickly, improving research efficiency.\n",
            "* **Improved Accuracy:** AI systems can minimize human error in data analysis and citation management, ensuring accuracy and consistency in research papers.\n",
            "* **Personalized Writing Assistance:** AI-powered writing assistants can provide personalized feedback on writing style, grammar, and structure, enhancing the quality of research papers.\n",
            "\n",
            "**Challenges of AI in Research Paper Writing:**\n",
            "\n",
            "* **Ethical Concerns:** The use of AI in research paper writing raises ethical concerns about plagiarism, academic integrity, and the potential for bias in AI algorithms.\n",
            "* **Limited Creativity:** While AI can assist with certain writing tasks, it cannot fully replace the creativity and critical thinking required for original research.\n",
            "* **Dependence on Data:** AI algorithms rely on data for training and inference, which may limit their effectiveness in domains with limited data availability.\n",
            "* **Cost and Accessibility:** Access to high-quality AI tools may be limited due to cost and technical requirements, creating potential barriers for researchers.\n",
            "\n",
            "**Implications for Researchers:**\n",
            "\n",
            "* **Embrace AI as a Tool:** Researchers should recognize the benefits of AI and incorporate it into their research process as a complementary tool.\n",
            "* **Critically Evaluate AI Output:** It is crucial for researchers to critically evaluate the output of AI systems, ensuring accuracy, relevance, and bias mitigation.\n",
            "* **Maintain Ethical Standards:** Researchers must adhere to ethical guidelines and acknowledge the use of AI in their research papers.\n",
            "* **Foster Collaboration:** Collaboration between researchers and AI experts can lead to innovative solutions that enhance research paper writing.\n",
            "\n",
            "**Conclusion:**\n",
            "\n",
            "AI has the potential to transform research paper writing by automating tasks, enhancing efficiency, and improving accuracy. However, it is essential to address ethical concerns, limitations, and implications for researchers. By embracing AI as a complementary tool, critically evaluating its output, and maintaining ethical standards, researchers can harness its power to enhance the quality and productivity of their research.\n",
            "\n",
            "**References:**\n",
            "\n",
            "* [1] Zhou, J., et al. (2021). AI-Assisted Research Paper Writing: A Review of Current Technologies and Future Prospects. arXiv preprint arXiv:2104.03943.\n",
            "* [2] Li, Y., et al. (2020). Ethical Considerations in AI-Assisted Research Paper Writing. IEEE Transactions on Engineering Management, 67(4), 1353-1364.\n",
            "* [3] Wang, T., et al. (2022). AI for Research Paper Writing: A Comprehensive Survey. ACM Computing Surveys, 55(2), 1-38.\n"
          ]
        }
      ]
    },
    {
      "cell_type": "code",
      "source": [
        "#now make the multiplt prompt answer of one prompt will be the question for rother prompt\n",
        "from langchain.prompts import ChatPromptTemplate,PromptTemplate\n",
        "prompt1 = ChatPromptTemplate.from_template(\n",
        "    \"What disease matches the following symptoms: {user_input}?\"\n",
        ")\n",
        "\n",
        "prompt2 = ChatPromptTemplate.from_template(\n",
        "    \"What are the common symptoms of {disease} respond me in {language}?\"\n",
        ")"
      ],
      "metadata": {
        "id": "yAjwcJmbppYK"
      },
      "execution_count": 9,
      "outputs": []
    },
    {
      "cell_type": "code",
      "source": [
        "from langchain.schema.output_parser import StrOutputParser\n",
        "from operator import itemgetter"
      ],
      "metadata": {
        "id": "0bn2qj7Iu1RB"
      },
      "execution_count": 10,
      "outputs": []
    },
    {
      "cell_type": "code",
      "source": [
        "input_chain = prompt1 | llm | StrOutputParser() #output of chain prompt 1\n",
        "#now will pass this to the next prompt as a input\n",
        "disease_chain = (\n",
        "    {\"disease\": input_chain, \"language\":itemgetter(\"language\")} | prompt2 | llm | StrOutputParser()\n",
        ")"
      ],
      "metadata": {
        "id": "CEuUL4E7qSSM"
      },
      "execution_count": 11,
      "outputs": []
    },
    {
      "cell_type": "code",
      "source": [
        "response=disease_chain.invoke({\"language\":\"english\",\"user_input\":\"fever\"})"
      ],
      "metadata": {
        "id": "DOLoxKy0qXMd"
      },
      "execution_count": 17,
      "outputs": []
    },
    {
      "cell_type": "code",
      "source": [
        "print(response)\n"
      ],
      "metadata": {
        "id": "ztGQx2DOsBwO",
        "outputId": "ed63213f-c200-4d2c-870d-d920ebba8f94",
        "colab": {
          "base_uri": "https://localhost:8080/"
        }
      },
      "execution_count": 18,
      "outputs": [
        {
          "output_type": "stream",
          "name": "stdout",
          "text": [
            "**Common Symptoms of**\n",
            "\n",
            "* **Fever:** A temperature of 100.4 degrees Fahrenheit or higher.\n",
            "* **Chills:** Feeling cold, even when the room is warm.\n",
            "* **Cough:** A dry or wet cough that may produce mucus or sputum.\n",
            "* **Sore throat:** A scratchy or painful throat.\n",
            "* **Runny nose:** A clear or colored discharge from the nose.\n",
            "* **Congestion:** A feeling of fullness or pressure in the nose or sinuses.\n",
            "* **Headache:** A dull or throbbing pain in the head.\n",
            "* **Body aches:** Pains in the muscles, joints, or bones.\n",
            "* **Fatigue:** Feeling tired or weak.\n",
            "* **Nausea or vomiting:** Feeling sick to the stomach or throwing up.\n",
            "* **Diarrhea:** Frequent, loose stools.\n",
            "* **Loss of appetite:** Not feeling hungry or not wanting to eat.\n",
            "* **Swelling:** Puffiness or enlargement in the face, hands, or feet.\n",
            "* **Skin rashes:** Red, itchy, or painful areas on the skin.\n",
            "* **Eye pain or redness:** Pain, burning, or redness in the eyes.\n",
            "* **Swollen lymph nodes:** Enlarged lymph nodes, which are small, bean-shaped glands located throughout the body.\n",
            "* **Confusion or delirium:** Difficulty thinking clearly or acting normally.\n",
            "* **Seizures:** Uncontrolled shaking or jerking movements.\n"
          ]
        }
      ]
    },
    {
      "cell_type": "code",
      "source": [],
      "metadata": {
        "id": "z6qHkQhVxjVr"
      },
      "execution_count": null,
      "outputs": []
    }
  ]
}