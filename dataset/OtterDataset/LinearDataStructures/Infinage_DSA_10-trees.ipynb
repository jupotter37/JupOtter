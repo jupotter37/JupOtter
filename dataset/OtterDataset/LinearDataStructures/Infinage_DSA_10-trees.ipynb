{
 "cells": [
  {
   "cell_type": "markdown",
   "id": "b29f23a5",
   "metadata": {
    "papermill": {
     "duration": 0.018165,
     "end_time": "2024-04-18T14:41:33.976270",
     "exception": false,
     "start_time": "2024-04-18T14:41:33.958105",
     "status": "completed"
    },
    "tags": []
   },
   "source": [
    "##### Types of binary trees (https://youtu.be/_ANrF3FJm7I?si=DZzUQr9F7dexWewB)\n",
    "1. Full Binary Tree: Each node has 0 or 2 children.\n",
    "2. Complete Binary Tree: All levels are completely filled except the last, which is filled as left as possible.\n",
    "3. Perfect Binary Tree: All leaf nodes are of the same level (all nodes have 2 children except the leaf).\n",
    "4. Balanced Binary Tree: Height of the left and right subtree of any node differ by not more than 1 / Max height of tree is log (no of nodes).\n",
    "5. Degenerate Binary Tree: Every node has a singe children except the leaf node (left skewed or right skewed).\n",
    "\n",
    "##### Binary Tree Traversals (https://youtu.be/jmy0LaGET1I?si=1o8rYIcijmpRxZHq)\n",
    "\n",
    "###### Depth First Search Traversal Techniques\n",
    "Hint 1: Pre - Root first, Post: Root last, In: Root middle <BR>\n",
    "Hint 2: Left, Right order is preserved for all traversals\n",
    "1. In-Order Traversal: Left, Root, Right\n",
    "2. Pre-Order Traversal: Root, Left, Right\n",
    "3. Post-Order Traversal: Left, Right, Root\n",
    "\n",
    "###### Breadth First Search\n",
    "1. Level Order Traversal: All nodes of same level are iterated through before moving to the next level.\n",
    "1. Boundary Traversal: Left boundary (left nodes excluding leaf), Leaf nodes, Right boundary nodes (right nodes excluding leaf).\n",
    "2. Diagnoal Traversal: Nodes of same diagnol are traversed one after another.\n",
    "\n",
    "##### Some properties of Binary Trees\n",
    "- Max nodes at any level: 2 ** (N - 1)\n",
    "Requirements to construct an unique binary tree: We must have the inorder traversal to know what comes to the left and to the right of root."
   ]
  },
  {
   "cell_type": "markdown",
   "id": "3d2598bc",
   "metadata": {
    "papermill": {
     "duration": 0.01663,
     "end_time": "2024-04-18T14:41:34.009914",
     "exception": false,
     "start_time": "2024-04-18T14:41:33.993284",
     "status": "completed"
    },
    "tags": []
   },
   "source": [
    "#### Some useful imports"
   ]
  },
  {
   "cell_type": "code",
   "execution_count": 1,
   "id": "b692ea03",
   "metadata": {
    "execution": {
     "iopub.execute_input": "2024-04-18T14:41:34.045072Z",
     "iopub.status.busy": "2024-04-18T14:41:34.044322Z",
     "iopub.status.idle": "2024-04-18T14:41:34.054696Z",
     "shell.execute_reply": "2024-04-18T14:41:34.053875Z"
    },
    "lines_to_next_cell": 1,
    "papermill": {
     "duration": 0.030084,
     "end_time": "2024-04-18T14:41:34.056615",
     "exception": false,
     "start_time": "2024-04-18T14:41:34.026531",
     "status": "completed"
    },
    "tags": []
   },
   "outputs": [],
   "source": [
    "import math\n",
    "import collections\n",
    "import itertools\n",
    "import bisect\n",
    "import heapq"
   ]
  },
  {
   "cell_type": "markdown",
   "id": "c70ac08c",
   "metadata": {
    "papermill": {
     "duration": 0.017146,
     "end_time": "2024-04-18T14:41:34.091605",
     "exception": false,
     "start_time": "2024-04-18T14:41:34.074459",
     "status": "completed"
    },
    "tags": []
   },
   "source": [
    "#### Helper for Binary tree problems"
   ]
  },
  {
   "cell_type": "code",
   "execution_count": 2,
   "id": "4c5d251b",
   "metadata": {
    "execution": {
     "iopub.execute_input": "2024-04-18T14:41:34.127292Z",
     "iopub.status.busy": "2024-04-18T14:41:34.126607Z",
     "iopub.status.idle": "2024-04-18T14:41:34.136439Z",
     "shell.execute_reply": "2024-04-18T14:41:34.135691Z"
    },
    "lines_to_next_cell": 1,
    "papermill": {
     "duration": 0.029638,
     "end_time": "2024-04-18T14:41:34.138250",
     "exception": false,
     "start_time": "2024-04-18T14:41:34.108612",
     "status": "completed"
    },
    "tags": []
   },
   "outputs": [],
   "source": [
    "class BinaryTreeNode:\n",
    "    def __init__(self, val=0, left=None, right=None):\n",
    "        self.val = val\n",
    "        self.left = left\n",
    "        self.right = right\n",
    "\n",
    "    def to_list(self):\n",
    "        to_visit = [self]\n",
    "        visited = []\n",
    "        while len(to_visit) > 0:\n",
    "            curr = to_visit.pop(0)\n",
    "            if curr:\n",
    "                to_visit.append(curr.left)\n",
    "                to_visit.append(curr.right)\n",
    "                visited.append(curr.val)\n",
    "            else:\n",
    "                visited.append(curr)\n",
    "        return visited\n",
    "\n",
    "    def __str__(self):\n",
    "        return str(self.val)\n",
    "\n",
    "    @staticmethod\n",
    "    def from_array(nums: list[int|None]):\n",
    "        '''Create a Tree from a list of nums. Returns the root node.'''\n",
    "        if len(nums) == 0:\n",
    "            return None\n",
    "        elif len(nums) == 1:\n",
    "            return BinaryTreeNode(nums[0])\n",
    "        else:\n",
    "            forest = [BinaryTreeNode(nums[0])]\n",
    "            parent_idx = -1\n",
    "            for i in range(1, len(nums)):\n",
    "\n",
    "                curr = None\n",
    "                if nums[i] is not None:\n",
    "                    curr = BinaryTreeNode(nums[i])\n",
    "                    forest.append(curr)\n",
    "\n",
    "                if i % 2 == 1:\n",
    "                    parent_idx += 1\n",
    "                    forest[parent_idx].left = curr\n",
    "                else:\n",
    "                    forest[parent_idx].right = curr\n",
    "\n",
    "        return forest[0]"
   ]
  },
  {
   "cell_type": "markdown",
   "id": "b18d099c",
   "metadata": {
    "papermill": {
     "duration": 0.01669,
     "end_time": "2024-04-18T14:41:34.171828",
     "exception": false,
     "start_time": "2024-04-18T14:41:34.155138",
     "status": "completed"
    },
    "tags": []
   },
   "source": [
    "#### Helper for Singly Linked lists"
   ]
  },
  {
   "cell_type": "code",
   "execution_count": 3,
   "id": "f4314d5d",
   "metadata": {
    "execution": {
     "iopub.execute_input": "2024-04-18T14:41:34.207053Z",
     "iopub.status.busy": "2024-04-18T14:41:34.206332Z",
     "iopub.status.idle": "2024-04-18T14:41:34.212881Z",
     "shell.execute_reply": "2024-04-18T14:41:34.212151Z"
    },
    "lines_to_next_cell": 1,
    "papermill": {
     "duration": 0.025962,
     "end_time": "2024-04-18T14:41:34.214475",
     "exception": false,
     "start_time": "2024-04-18T14:41:34.188513",
     "status": "completed"
    },
    "tags": []
   },
   "outputs": [],
   "source": [
    "class ListNode:\n",
    "    def __init__(self, val=0, next=None):\n",
    "        self.val = val\n",
    "        self.next = next\n",
    "\n",
    "    def __str__(self):\n",
    "        return str(self.val)\n",
    "\n",
    "    @staticmethod\n",
    "    def to_singly_linked_list(nums: list[int]):\n",
    "        root = prev = None\n",
    "        for n in nums:\n",
    "            curr = ListNode(n)\n",
    "            # Init once\n",
    "            if not root:\n",
    "                root = curr\n",
    "            if prev:\n",
    "                prev.next = curr\n",
    "            prev = curr\n",
    "\n",
    "        return root\n",
    "\n",
    "    def to_list(self) -> list[int]:\n",
    "        result = []\n",
    "        curr = self\n",
    "        while curr:\n",
    "            result.append(curr.val)\n",
    "            curr = curr.next\n",
    "        return result"
   ]
  },
  {
   "cell_type": "markdown",
   "id": "d43fd3d0",
   "metadata": {
    "papermill": {
     "duration": 0.016813,
     "end_time": "2024-04-18T14:41:34.248207",
     "exception": false,
     "start_time": "2024-04-18T14:41:34.231394",
     "status": "completed"
    },
    "tags": []
   },
   "source": [
    "Inorder, Postorder, Preorder "
   ]
  },
  {
   "cell_type": "code",
   "execution_count": 4,
   "id": "17b6ec0d",
   "metadata": {
    "execution": {
     "iopub.execute_input": "2024-04-18T14:41:34.284262Z",
     "iopub.status.busy": "2024-04-18T14:41:34.283567Z",
     "iopub.status.idle": "2024-04-18T14:41:34.292858Z",
     "shell.execute_reply": "2024-04-18T14:41:34.292077Z"
    },
    "lines_to_next_cell": 1,
    "papermill": {
     "duration": 0.029193,
     "end_time": "2024-04-18T14:41:34.294500",
     "exception": false,
     "start_time": "2024-04-18T14:41:34.265307",
     "status": "completed"
    },
    "tags": []
   },
   "outputs": [],
   "source": [
    "def getTreeTraversal(root: BinaryTreeNode) -> tuple[list[int], list[int], list[int]]:\n",
    "    inorder_: list[int] = []\n",
    "    def inorder(root: BinaryTreeNode) -> None:\n",
    "        if not root:\n",
    "            return\n",
    "        else:\n",
    "            inorder(root.left)\n",
    "            inorder_.append(root.val)\n",
    "            inorder(root.right)\n",
    "\n",
    "    preorder_: list[int] = []\n",
    "    def preorder(root: BinaryTreeNode) -> None:\n",
    "        if not root:\n",
    "            return\n",
    "        else:\n",
    "            preorder_.append(root.val)\n",
    "            preorder(root.left)\n",
    "            preorder(root.right)\n",
    "\n",
    "    postorder_: list[int] = []\n",
    "    def postorder(root: BinaryTreeNode) -> None:\n",
    "        if not root:\n",
    "            return\n",
    "        else:\n",
    "            postorder(root.left)\n",
    "            postorder(root.right)\n",
    "            postorder_.append(root.val)\n",
    "\n",
    "    # Traverse & save the order op to a list, print it\n",
    "    inorder(root)\n",
    "    preorder(root)\n",
    "    postorder(root)\n",
    "    return (preorder_, inorder_, postorder_)\n",
    "    return (inorder_, preorder_, postorder_)\n",
    "\n",
    "# Testing the solution\n",
    "assert getTreeTraversal(BinaryTreeNode.from_array([1, 3, 4, 5, 2, 7, 6])) == ([1, 3, 5, 2, 4, 7, 6], [5, 3, 2, 1, 7, 4, 6], [5, 2, 3, 7, 6, 4, 1])"
   ]
  },
  {
   "cell_type": "markdown",
   "id": "565ebd42",
   "metadata": {
    "papermill": {
     "duration": 0.016464,
     "end_time": "2024-04-18T14:41:34.327633",
     "exception": false,
     "start_time": "2024-04-18T14:41:34.311169",
     "status": "completed"
    },
    "tags": []
   },
   "source": [
    "Level Order Traversal"
   ]
  },
  {
   "cell_type": "code",
   "execution_count": 5,
   "id": "88639bd0",
   "metadata": {
    "execution": {
     "iopub.execute_input": "2024-04-18T14:41:34.362556Z",
     "iopub.status.busy": "2024-04-18T14:41:34.361823Z",
     "iopub.status.idle": "2024-04-18T14:41:34.368919Z",
     "shell.execute_reply": "2024-04-18T14:41:34.368302Z"
    },
    "lines_to_next_cell": 1,
    "papermill": {
     "duration": 0.026302,
     "end_time": "2024-04-18T14:41:34.370595",
     "exception": false,
     "start_time": "2024-04-18T14:41:34.344293",
     "status": "completed"
    },
    "tags": []
   },
   "outputs": [],
   "source": [
    "def levelOrder(root: BinaryTreeNode) -> list[list[int]]:\n",
    "    next_: list[BinaryTreeNode] = [root]\n",
    "    traversed: list[list[int]] = []\n",
    "    while next_:\n",
    "        traversed.append([])\n",
    "        temp: list[BinaryTreeNode] = []\n",
    "        for curr in next_:\n",
    "            if curr:\n",
    "                temp.append(curr.left)\n",
    "                temp.append(curr.right)\n",
    "                traversed[-1].append(curr.val)\n",
    "        if not traversed[-1]:\n",
    "            traversed.pop()\n",
    "        next_ = temp\n",
    "\n",
    "    return traversed\n",
    "\n",
    "# Testing the solution\n",
    "assert levelOrder(BinaryTreeNode.from_array([3,9,20,None,None,15,7])) == [[3], [9, 20], [15, 7]]\n",
    "assert levelOrder(BinaryTreeNode.from_array([1])) == [[1]]"
   ]
  },
  {
   "cell_type": "markdown",
   "id": "d59819aa",
   "metadata": {
    "papermill": {
     "duration": 0.01656,
     "end_time": "2024-04-18T14:41:34.403871",
     "exception": false,
     "start_time": "2024-04-18T14:41:34.387311",
     "status": "completed"
    },
    "tags": []
   },
   "source": [
    "Video Link: https://www.youtube.com/watch?v=Bfqd8BsPVuw&list=PLgUwDviBIf0oF6QL8m22w1hIDC1vJ_BHz&index=81\n",
    "Iterative Preorder traversal"
   ]
  },
  {
   "cell_type": "code",
   "execution_count": 6,
   "id": "6021695b",
   "metadata": {
    "execution": {
     "iopub.execute_input": "2024-04-18T14:41:34.438660Z",
     "iopub.status.busy": "2024-04-18T14:41:34.437950Z",
     "iopub.status.idle": "2024-04-18T14:41:34.444789Z",
     "shell.execute_reply": "2024-04-18T14:41:34.444157Z"
    },
    "lines_to_next_cell": 1,
    "papermill": {
     "duration": 0.025865,
     "end_time": "2024-04-18T14:41:34.446403",
     "exception": false,
     "start_time": "2024-04-18T14:41:34.420538",
     "status": "completed"
    },
    "tags": []
   },
   "outputs": [],
   "source": [
    "def preorderIter(root: BinaryTreeNode) -> list[int]:\n",
    "    \"\"\"\n",
    "    Root, Left, Right. The idea is the push right first and then the left,\n",
    "    since stack only works when we are popping -1 at each step.\n",
    "\n",
    "    Time: O(N), Space: O(Height of Binary Tree)\n",
    "    \"\"\"\n",
    "    result: list[int] = []\n",
    "    stack: list[BinaryTreeNode] = [root]\n",
    "    while stack:\n",
    "        curr = stack.pop()\n",
    "        if curr:\n",
    "           result.append(curr.val)\n",
    "           stack.append(curr.right)\n",
    "           stack.append(curr.left)\n",
    "\n",
    "    return result\n",
    "\n",
    "# Testing the solution\n",
    "assert preorderIter(BinaryTreeNode.from_array([1, None, 2, 3])) == [1, 2, 3]\n",
    "assert preorderIter(BinaryTreeNode.from_array([1, 2, 7, 3, 4, None, None, None, None, 5, 6])) == [1, 2, 3, 4, 5, 6, 7]"
   ]
  },
  {
   "cell_type": "markdown",
   "id": "3a949dc1",
   "metadata": {
    "papermill": {
     "duration": 0.016628,
     "end_time": "2024-04-18T14:41:34.480032",
     "exception": false,
     "start_time": "2024-04-18T14:41:34.463404",
     "status": "completed"
    },
    "tags": []
   },
   "source": [
    "Video Link: https://www.youtube.com/watch?v=lxTGsVXjwvM&list=PLgUwDviBIf0oF6QL8m22w1hIDC1vJ_BHz&index=82\n",
    "Iterative Inorder traversal"
   ]
  },
  {
   "cell_type": "code",
   "execution_count": 7,
   "id": "f322e25b",
   "metadata": {
    "execution": {
     "iopub.execute_input": "2024-04-18T14:41:34.514578Z",
     "iopub.status.busy": "2024-04-18T14:41:34.514288Z",
     "iopub.status.idle": "2024-04-18T14:41:34.520047Z",
     "shell.execute_reply": "2024-04-18T14:41:34.519293Z"
    },
    "lines_to_next_cell": 1,
    "papermill": {
     "duration": 0.025009,
     "end_time": "2024-04-18T14:41:34.521714",
     "exception": false,
     "start_time": "2024-04-18T14:41:34.496705",
     "status": "completed"
    },
    "tags": []
   },
   "outputs": [],
   "source": [
    "def inorderIter(root: BinaryTreeNode) -> list[int]:\n",
    "    \"\"\"\n",
    "    Left, Root, Right.\n",
    "\n",
    "    If curr is not null, move to its left and append curr to the stack.\n",
    "    Else pop the last item from stack, print it and move to right of the popped element.\n",
    "    \"\"\"\n",
    "    result: list[int] = []\n",
    "    stack: list[BinaryTreeNode] = []\n",
    "    curr = root\n",
    "    while curr or stack:\n",
    "        if curr:\n",
    "            stack.append(curr)\n",
    "            curr = curr.left\n",
    "        else:\n",
    "            curr = stack.pop()\n",
    "            result.append(curr.val)\n",
    "            curr = curr.right\n",
    "\n",
    "    return result\n",
    "\n",
    "# Testing the solution\n",
    "assert inorderIter(BinaryTreeNode.from_array([1, None, 2, 3])) == [1, 3 ,2]"
   ]
  },
  {
   "cell_type": "markdown",
   "id": "bc03474b",
   "metadata": {
    "papermill": {
     "duration": 0.016466,
     "end_time": "2024-04-18T14:41:34.555195",
     "exception": false,
     "start_time": "2024-04-18T14:41:34.538729",
     "status": "completed"
    },
    "tags": []
   },
   "source": [
    "Video Link: https://www.youtube.com/watch?v=2YBhNLodD8Q&list=PLgUwDviBIf0oF6QL8m22w1hIDC1vJ_BHz&index=83\n",
    "Iterative post order traversal"
   ]
  },
  {
   "cell_type": "code",
   "execution_count": 8,
   "id": "a728f1cf",
   "metadata": {
    "execution": {
     "iopub.execute_input": "2024-04-18T14:41:34.590227Z",
     "iopub.status.busy": "2024-04-18T14:41:34.589529Z",
     "iopub.status.idle": "2024-04-18T14:41:34.596144Z",
     "shell.execute_reply": "2024-04-18T14:41:34.595382Z"
    },
    "lines_to_next_cell": 1,
    "papermill": {
     "duration": 0.026171,
     "end_time": "2024-04-18T14:41:34.598101",
     "exception": false,
     "start_time": "2024-04-18T14:41:34.571930",
     "status": "completed"
    },
    "tags": []
   },
   "outputs": [],
   "source": [
    "def postorderIter(root: BinaryTreeNode) -> list[int]:\n",
    "    \"\"\"\n",
    "    Left, Right, Root.\n",
    "\n",
    "    Go root, right, left similar to how we do preorder and reverse the result.\n",
    "    \"\"\"\n",
    "    stack1: list[BinaryTreeNode] = [root]\n",
    "    stack2: list[int] = []\n",
    "    while stack1:\n",
    "        curr = stack1.pop()\n",
    "        if curr:\n",
    "            stack2.append(curr.val)\n",
    "            stack1.append(curr.left)\n",
    "            stack1.append(curr.right)\n",
    "\n",
    "    stack2.reverse()\n",
    "    return stack2\n",
    "\n",
    "# Testing the solution\n",
    "assert postorderIter(BinaryTreeNode.from_array([1, 2, 3, 4, 5, 6, None, None, None, None, None, None, 7])) == [4, 5, 2, 7, 6, 3, 1]"
   ]
  },
  {
   "cell_type": "markdown",
   "id": "c2506b05",
   "metadata": {
    "papermill": {
     "duration": 0.016576,
     "end_time": "2024-04-18T14:41:34.631539",
     "exception": false,
     "start_time": "2024-04-18T14:41:34.614963",
     "status": "completed"
    },
    "tags": []
   },
   "source": [
    "Video Link: https://www.youtube.com/watch?v=NzIGLLwZBS8&list=PLgUwDviBIf0oF6QL8m22w1hIDC1vJ_BHz&index=84\n",
    "Iterative post order traversal using single stack\n",
    "From striver: \"This topic is bit tricky, so try to dry run some trees. Its kinda algorithm that you need to remember. Cannot help\""
   ]
  },
  {
   "cell_type": "code",
   "execution_count": 9,
   "id": "b8f98a3a",
   "metadata": {
    "execution": {
     "iopub.execute_input": "2024-04-18T14:41:34.666482Z",
     "iopub.status.busy": "2024-04-18T14:41:34.665840Z",
     "iopub.status.idle": "2024-04-18T14:41:34.677871Z",
     "shell.execute_reply": "2024-04-18T14:41:34.677137Z"
    },
    "lines_to_next_cell": 1,
    "papermill": {
     "duration": 0.031211,
     "end_time": "2024-04-18T14:41:34.679445",
     "exception": false,
     "start_time": "2024-04-18T14:41:34.648234",
     "status": "completed"
    },
    "tags": []
   },
   "outputs": [
    {
     "data": {
      "text/plain": [
       "[6, 5, 4, 3, 2, 8, 7, 1]"
      ]
     },
     "execution_count": 9,
     "metadata": {},
     "output_type": "execute_result"
    }
   ],
   "source": [
    "def postorderIter_single_stack(root: BinaryTreeNode) -> list[int]:\n",
    "    \"Time: O(2N), Space: O(N)\"\n",
    "    result: list[int] = []\n",
    "    stack: list[BinaryTreeNode] = []\n",
    "    curr = root\n",
    "    while curr or stack:\n",
    "        if curr:\n",
    "            stack.append(curr)\n",
    "            curr = curr.left\n",
    "        else:\n",
    "            temp = stack[-1].right\n",
    "            if not temp:\n",
    "                temp = stack.pop()\n",
    "                result.append(temp.val)\n",
    "                while stack and temp == stack[-1].right:\n",
    "                    temp = stack.pop()\n",
    "                    result.append(temp.val)\n",
    "            else:\n",
    "                curr = temp\n",
    "\n",
    "    return result\n",
    "\n",
    "# Testing the solution\n",
    "postorderIter_single_stack(BinaryTreeNode.from_array([1, 2, 7, 3, None, 8, None, None, 4, None, None, None, 5, None, 6]))"
   ]
  },
  {
   "cell_type": "markdown",
   "id": "cd401b3e",
   "metadata": {
    "papermill": {
     "duration": 0.016804,
     "end_time": "2024-04-18T14:41:34.713286",
     "exception": false,
     "start_time": "2024-04-18T14:41:34.696482",
     "status": "completed"
    },
    "tags": []
   },
   "source": [
    "Video Link: https://youtu.be/ySp2epYvgTE?si=TItCZRCbbFnyQlyi\n",
    "Post Order, In Order, Pre Order Traversal in one iteration"
   ]
  },
  {
   "cell_type": "code",
   "execution_count": 10,
   "id": "ac069236",
   "metadata": {
    "execution": {
     "iopub.execute_input": "2024-04-18T14:41:34.748036Z",
     "iopub.status.busy": "2024-04-18T14:41:34.747418Z",
     "iopub.status.idle": "2024-04-18T14:41:34.755089Z",
     "shell.execute_reply": "2024-04-18T14:41:34.754464Z"
    },
    "lines_to_next_cell": 1,
    "papermill": {
     "duration": 0.026682,
     "end_time": "2024-04-18T14:41:34.756752",
     "exception": false,
     "start_time": "2024-04-18T14:41:34.730070",
     "status": "completed"
    },
    "tags": []
   },
   "outputs": [],
   "source": [
    "def getTreeTraversal_single_traversal(root: BinaryTreeNode) -> tuple[list[int], list[int], list[int]]:\n",
    "    \"Time: O(3N), Space: O(1)\"\n",
    "\n",
    "    preorder: list[int] = []\n",
    "    inorder: list[int] = []\n",
    "    postorder: list[int] = []\n",
    "\n",
    "    stack: list[tuple[BinaryTreeNode, int]] = [(root, 1)]\n",
    "    while stack:\n",
    "        curr, op = stack.pop()\n",
    "        if curr and op == 1:\n",
    "            preorder.append(curr.val)\n",
    "            stack.append((curr, op + 1))\n",
    "            stack.append((curr.left, 1))\n",
    "        elif curr and op == 2:\n",
    "            inorder.append(curr.val)\n",
    "            stack.append((curr, op + 1))\n",
    "            stack.append((curr.right, 1))\n",
    "        else:\n",
    "            if curr:\n",
    "                postorder.append(curr.val)\n",
    "\n",
    "    return preorder, inorder, postorder\n",
    "\n",
    "# Testing the solution\n",
    "temp = BinaryTreeNode.from_array([1, 3, 4, 5, 2, 7, 6])\n",
    "assert getTreeTraversal(temp) == getTreeTraversal_single_traversal(temp)"
   ]
  },
  {
   "cell_type": "markdown",
   "id": "5689f6ec",
   "metadata": {
    "papermill": {
     "duration": 0.016831,
     "end_time": "2024-04-18T14:41:34.790481",
     "exception": false,
     "start_time": "2024-04-18T14:41:34.773650",
     "status": "completed"
    },
    "tags": []
   },
   "source": [
    "Maximum Depth of a Binary Tree: https://www.youtube.com/watch?v=eD3tmO66aBA&list=PLgUwDviBIf0oF6QL8m22w1hIDC1vJ_BHz&index=86"
   ]
  },
  {
   "cell_type": "code",
   "execution_count": 11,
   "id": "77506355",
   "metadata": {
    "execution": {
     "iopub.execute_input": "2024-04-18T14:41:34.825759Z",
     "iopub.status.busy": "2024-04-18T14:41:34.825070Z",
     "iopub.status.idle": "2024-04-18T14:41:34.831177Z",
     "shell.execute_reply": "2024-04-18T14:41:34.830543Z"
    },
    "lines_to_next_cell": 1,
    "papermill": {
     "duration": 0.025306,
     "end_time": "2024-04-18T14:41:34.832788",
     "exception": false,
     "start_time": "2024-04-18T14:41:34.807482",
     "status": "completed"
    },
    "tags": []
   },
   "outputs": [],
   "source": [
    "# Level Order Traversal\n",
    "def maxDepthIter(root: BinaryTreeNode) -> int:\n",
    "    \"Time: O(N), Space: O(N)\"\n",
    "\n",
    "    to_traverse: list[BinaryTreeNode] = [root]\n",
    "    height = 0\n",
    "    while to_traverse:\n",
    "        height += 1\n",
    "        next_: list[BinaryTreeNode] = []\n",
    "        for node in to_traverse:\n",
    "            if node:\n",
    "                next_.append(node.left)\n",
    "                next_.append(node.right)\n",
    "        to_traverse = next_\n",
    "\n",
    "    return height - 1\n",
    "\n",
    "# Testing the solution\n",
    "assert maxDepthIter(BinaryTreeNode.from_array([3,9,20,None,None,15,7])) == 3"
   ]
  },
  {
   "cell_type": "code",
   "execution_count": 12,
   "id": "ad1799a0",
   "metadata": {
    "execution": {
     "iopub.execute_input": "2024-04-18T14:41:34.867785Z",
     "iopub.status.busy": "2024-04-18T14:41:34.867537Z",
     "iopub.status.idle": "2024-04-18T14:41:34.873174Z",
     "shell.execute_reply": "2024-04-18T14:41:34.872405Z"
    },
    "lines_to_next_cell": 1,
    "papermill": {
     "duration": 0.024988,
     "end_time": "2024-04-18T14:41:34.874808",
     "exception": false,
     "start_time": "2024-04-18T14:41:34.849820",
     "status": "completed"
    },
    "tags": []
   },
   "outputs": [],
   "source": [
    "def maxDepthRecursive(root: BinaryTreeNode) -> int:\n",
    "\n",
    "    max_: int = 0\n",
    "    def backtrack(curr: BinaryTreeNode, height: int = 0):\n",
    "        nonlocal max_\n",
    "        if not curr:\n",
    "            max_ = max(max_, height)\n",
    "            return\n",
    "        else:\n",
    "            backtrack(curr.left, height + 1)\n",
    "            backtrack(curr.right, height + 1)\n",
    "\n",
    "    backtrack(root)\n",
    "    return max_\n",
    "\n",
    "# Testing the solution\n",
    "assert maxDepthRecursive(BinaryTreeNode.from_array([3,9,20,None,None,15,7])) == 3"
   ]
  },
  {
   "cell_type": "code",
   "execution_count": 13,
   "id": "593ac16d",
   "metadata": {
    "execution": {
     "iopub.execute_input": "2024-04-18T14:41:34.910144Z",
     "iopub.status.busy": "2024-04-18T14:41:34.909522Z",
     "iopub.status.idle": "2024-04-18T14:41:34.914465Z",
     "shell.execute_reply": "2024-04-18T14:41:34.913820Z"
    },
    "lines_to_next_cell": 1,
    "papermill": {
     "duration": 0.02436,
     "end_time": "2024-04-18T14:41:34.916143",
     "exception": false,
     "start_time": "2024-04-18T14:41:34.891783",
     "status": "completed"
    },
    "tags": []
   },
   "outputs": [],
   "source": [
    "def maxDepthStriver(root: BinaryTreeNode) -> int:\n",
    "    if not root:\n",
    "        return 0\n",
    "    else:\n",
    "        left = maxDepthStriver(root.left)\n",
    "        right = maxDepthStriver(root.right)\n",
    "        return 1 + max(left, right)\n",
    "\n",
    "# Testing the solution\n",
    "assert maxDepthStriver(BinaryTreeNode.from_array([3,9,20,None,None,15,7])) == 3"
   ]
  },
  {
   "cell_type": "markdown",
   "id": "83812466",
   "metadata": {
    "papermill": {
     "duration": 0.016837,
     "end_time": "2024-04-18T14:41:34.950030",
     "exception": false,
     "start_time": "2024-04-18T14:41:34.933193",
     "status": "completed"
    },
    "tags": []
   },
   "source": [
    "Check for balanced Binary Tree: https://youtu.be/Yt50Jfbd8Po?si=pqjd9p-_S-9vRrmG"
   ]
  },
  {
   "cell_type": "code",
   "execution_count": 14,
   "id": "fc21bd9b",
   "metadata": {
    "execution": {
     "iopub.execute_input": "2024-04-18T14:41:34.985981Z",
     "iopub.status.busy": "2024-04-18T14:41:34.985294Z",
     "iopub.status.idle": "2024-04-18T14:41:34.992018Z",
     "shell.execute_reply": "2024-04-18T14:41:34.991293Z"
    },
    "lines_to_next_cell": 1,
    "papermill": {
     "duration": 0.026706,
     "end_time": "2024-04-18T14:41:34.993754",
     "exception": false,
     "start_time": "2024-04-18T14:41:34.967048",
     "status": "completed"
    },
    "tags": []
   },
   "outputs": [],
   "source": [
    "def isBalanced(root: BinaryTreeNode) -> bool:\n",
    "    def checkHeight(curr: BinaryTreeNode) -> int:\n",
    "        if not curr:\n",
    "            return 0\n",
    "        else:\n",
    "            left = checkHeight(curr.left)\n",
    "            if left == -1:\n",
    "                return -1\n",
    "            right = checkHeight(curr.right)\n",
    "            if right == -1:\n",
    "                return -1\n",
    "            if abs(left - right) > 1:\n",
    "                return -1\n",
    "            else:\n",
    "                return 1 + max(left, right)\n",
    "\n",
    "    return checkHeight(root) != -1\n",
    "\n",
    "# Testing the solution\n",
    "assert isBalanced(BinaryTreeNode.from_array([1,2,2,3,3,None,None,4,4])) == False"
   ]
  },
  {
   "cell_type": "markdown",
   "id": "77ff8f23",
   "metadata": {
    "papermill": {
     "duration": 0.016864,
     "end_time": "2024-04-18T14:41:35.047268",
     "exception": false,
     "start_time": "2024-04-18T14:41:35.030404",
     "status": "completed"
    },
    "tags": []
   },
   "source": [
    "Diameter of Binary Tree: https://youtu.be/Rezetez59Nk?si=9WeCIb_ik5elrVZm"
   ]
  },
  {
   "cell_type": "code",
   "execution_count": 15,
   "id": "ce78d08b",
   "metadata": {
    "execution": {
     "iopub.execute_input": "2024-04-18T14:41:35.083001Z",
     "iopub.status.busy": "2024-04-18T14:41:35.082258Z",
     "iopub.status.idle": "2024-04-18T14:41:35.091062Z",
     "shell.execute_reply": "2024-04-18T14:41:35.090421Z"
    },
    "lines_to_next_cell": 1,
    "papermill": {
     "duration": 0.028569,
     "end_time": "2024-04-18T14:41:35.092745",
     "exception": false,
     "start_time": "2024-04-18T14:41:35.064176",
     "status": "completed"
    },
    "tags": []
   },
   "outputs": [
    {
     "data": {
      "text/plain": [
       "3"
      ]
     },
     "execution_count": 15,
     "metadata": {},
     "output_type": "execute_result"
    }
   ],
   "source": [
    "def diameterOfBinaryTree(root: BinaryTreeNode) -> int:\n",
    "\n",
    "    diameter: int = 0\n",
    "    def checkHeight(curr: BinaryTreeNode) -> int:\n",
    "        nonlocal diameter\n",
    "        if not curr:\n",
    "            return 0\n",
    "        else:\n",
    "            left = checkHeight(curr.left)\n",
    "            right = checkHeight(curr.right)\n",
    "            diameter = max(diameter, left + right)\n",
    "            return 1 + max(left, right)\n",
    "\n",
    "    checkHeight(root)\n",
    "    return diameter\n",
    "\n",
    "# Testing the solution\n",
    "diameterOfBinaryTree(BinaryTreeNode.from_array([1,2,3,4,5]))"
   ]
  },
  {
   "cell_type": "markdown",
   "id": "089181e0",
   "metadata": {
    "papermill": {
     "duration": 0.016859,
     "end_time": "2024-04-18T14:41:35.126658",
     "exception": false,
     "start_time": "2024-04-18T14:41:35.109799",
     "status": "completed"
    },
    "tags": []
   },
   "source": [
    "Video Link: https://youtu.be/WszrfSwMz58?si=daE6TYubT_j5MKuT\n",
    "Maximum Path Sum: https://leetcode.com/problems/binary-tree-maximum-path-sum/submissions/1224438073"
   ]
  },
  {
   "cell_type": "code",
   "execution_count": 16,
   "id": "4192b725",
   "metadata": {
    "execution": {
     "iopub.execute_input": "2024-04-18T14:41:35.161824Z",
     "iopub.status.busy": "2024-04-18T14:41:35.161365Z",
     "iopub.status.idle": "2024-04-18T14:41:35.168581Z",
     "shell.execute_reply": "2024-04-18T14:41:35.167928Z"
    },
    "lines_to_next_cell": 1,
    "papermill": {
     "duration": 0.026719,
     "end_time": "2024-04-18T14:41:35.170288",
     "exception": false,
     "start_time": "2024-04-18T14:41:35.143569",
     "status": "completed"
    },
    "tags": []
   },
   "outputs": [],
   "source": [
    "def maxPathSum(root: BinaryTreeNode) -> float:\n",
    "    max_sum: float = -math.inf\n",
    "    def backtrack(curr: BinaryTreeNode) -> float:\n",
    "        nonlocal max_sum\n",
    "        if not curr:\n",
    "            return 0\n",
    "        else:\n",
    "            left = max(0, backtrack(curr.left))\n",
    "            right = max(0, backtrack(curr.right))\n",
    "            max_sum = max(max_sum, left + right + curr.val)\n",
    "            return curr.val + max(left, right)\n",
    "\n",
    "    backtrack(root)\n",
    "    return max_sum\n",
    "\n",
    "# Testing the solution\n",
    "assert maxPathSum(BinaryTreeNode.from_array([-10,9,20,None,None,15,7])) == 42\n",
    "assert maxPathSum(BinaryTreeNode.from_array([1, -2, 3])) == 4\n",
    "assert maxPathSum(BinaryTreeNode.from_array([9,6,-3,None,None,-6,2,None,None,2,None,-6,-6,-6])) == 16"
   ]
  },
  {
   "cell_type": "markdown",
   "id": "0bdad953",
   "metadata": {
    "papermill": {
     "duration": 0.016816,
     "end_time": "2024-04-18T14:41:35.204347",
     "exception": false,
     "start_time": "2024-04-18T14:41:35.187531",
     "status": "completed"
    },
    "tags": []
   },
   "source": [
    "Check if two trees are identical or not\n",
    "Video Link: https://youtu.be/BhuvF_-PWS0?si=C1iPAcpAICZHWRSr"
   ]
  },
  {
   "cell_type": "code",
   "execution_count": 17,
   "id": "7a2627c8",
   "metadata": {
    "execution": {
     "iopub.execute_input": "2024-04-18T14:41:35.239980Z",
     "iopub.status.busy": "2024-04-18T14:41:35.239682Z",
     "iopub.status.idle": "2024-04-18T14:41:35.246011Z",
     "shell.execute_reply": "2024-04-18T14:41:35.245331Z"
    },
    "lines_to_next_cell": 1,
    "papermill": {
     "duration": 0.025982,
     "end_time": "2024-04-18T14:41:35.247678",
     "exception": false,
     "start_time": "2024-04-18T14:41:35.221696",
     "status": "completed"
    },
    "tags": []
   },
   "outputs": [],
   "source": [
    "def isSameTree(p: BinaryTreeNode, q: BinaryTreeNode) -> bool:\n",
    "    def backtrack(curr1: BinaryTreeNode, curr2: BinaryTreeNode) -> bool:\n",
    "        if not curr1 or not curr2:\n",
    "            return curr1 == curr2\n",
    "        else:\n",
    "            return curr1.val == curr2.val and backtrack(curr1.left, curr2.left) and backtrack(curr1.right, curr2.right)\n",
    "\n",
    "    return backtrack(p, q)\n",
    "\n",
    "# Testing the solution\n",
    "assert isSameTree(BinaryTreeNode.from_array([1, 2, 3]), BinaryTreeNode.from_array([1, 2, 3])) == True\n",
    "assert isSameTree(BinaryTreeNode.from_array([1, 2]), BinaryTreeNode.from_array([1, None, 2])) == False"
   ]
  },
  {
   "cell_type": "markdown",
   "id": "6f64cc1b",
   "metadata": {
    "papermill": {
     "duration": 0.017042,
     "end_time": "2024-04-18T14:41:35.281861",
     "exception": false,
     "start_time": "2024-04-18T14:41:35.264819",
     "status": "completed"
    },
    "tags": []
   },
   "source": [
    "Video Link: https://youtu.be/3OXWEdlIGl4?si=prGw3PDHdgEpFJgj\n",
    "Zig Zag / Spiral Traversal in a Binary Tree"
   ]
  },
  {
   "cell_type": "code",
   "execution_count": 18,
   "id": "220a0708",
   "metadata": {
    "execution": {
     "iopub.execute_input": "2024-04-18T14:41:35.317211Z",
     "iopub.status.busy": "2024-04-18T14:41:35.316760Z",
     "iopub.status.idle": "2024-04-18T14:41:35.324779Z",
     "shell.execute_reply": "2024-04-18T14:41:35.324050Z"
    },
    "lines_to_next_cell": 1,
    "papermill": {
     "duration": 0.027635,
     "end_time": "2024-04-18T14:41:35.326532",
     "exception": false,
     "start_time": "2024-04-18T14:41:35.298897",
     "status": "completed"
    },
    "tags": []
   },
   "outputs": [],
   "source": [
    "# Leetcode Medium: https://leetcode.com/problems/binary-tree-zigzag-level-order-traversal/submissions/1225227141\n",
    "def zigzagLevelOrder(root: BinaryTreeNode) -> list[list[int]]:\n",
    "    \"\"\"\n",
    "    Perform a level order traversal, store the results into a deque.\n",
    "    Based on level#, traverse from left node to right or vice versa.\n",
    "    \"\"\"\n",
    "    to_visit: list[BinaryTreeNode] = [root]\n",
    "    result: list[list[int]] = []\n",
    "    level = 1\n",
    "    while to_visit:\n",
    "        next_: list[BinaryTreeNode] = []\n",
    "        result.append([])\n",
    "        for curr in to_visit:\n",
    "            if curr:\n",
    "                result[-1].append(curr.val)\n",
    "                next_.append(curr.left)\n",
    "                next_.append(curr.right)\n",
    "\n",
    "        if not result[-1]:\n",
    "            result.pop()\n",
    "        elif level % 2 == 0:\n",
    "            result[-1].reverse()\n",
    "\n",
    "        to_visit = next_\n",
    "        level += 1\n",
    "\n",
    "    return result\n",
    "\n",
    "# Testing the solution\n",
    "assert zigzagLevelOrder(BinaryTreeNode.from_array([3,9,20,None,None,15,7])) == [[3],[20,9],[15,7]]\n",
    "assert zigzagLevelOrder(BinaryTreeNode.from_array([1,2,3,4,None,None,5])) == [[1],[3,2],[4,5]]"
   ]
  },
  {
   "cell_type": "markdown",
   "id": "83e73a04",
   "metadata": {
    "papermill": {
     "duration": 0.016907,
     "end_time": "2024-04-18T14:41:35.360492",
     "exception": false,
     "start_time": "2024-04-18T14:41:35.343585",
     "status": "completed"
    },
    "tags": []
   },
   "source": [
    "Video Link: https://youtu.be/0ca1nvR0be4?si=Er0-Y8gxhnKlWt6-\n",
    "Boundary Traversal in a Binary Tree"
   ]
  },
  {
   "cell_type": "code",
   "execution_count": 19,
   "id": "3e63f2c1",
   "metadata": {
    "execution": {
     "iopub.execute_input": "2024-04-18T14:41:35.395523Z",
     "iopub.status.busy": "2024-04-18T14:41:35.395248Z",
     "iopub.status.idle": "2024-04-18T14:41:35.405000Z",
     "shell.execute_reply": "2024-04-18T14:41:35.404349Z"
    },
    "lines_to_next_cell": 1,
    "papermill": {
     "duration": 0.029138,
     "end_time": "2024-04-18T14:41:35.406624",
     "exception": false,
     "start_time": "2024-04-18T14:41:35.377486",
     "status": "completed"
    },
    "tags": []
   },
   "outputs": [],
   "source": [
    "def traverseBoundary(root: BinaryTreeNode) -> list[int]:\n",
    "    \"\"\"\n",
    "    Left boundary excluding leaves, Leaf nodes, Right Boundary excluding leaves\n",
    "    \"\"\"\n",
    "\n",
    "    left: list[int] = []\n",
    "    curr = root.left\n",
    "    while curr and (curr.left or curr.right):\n",
    "        left.append(curr.val)\n",
    "        curr = curr.left if curr.left else curr.right\n",
    "\n",
    "    boundary: list[int] = []\n",
    "    def getLeaves(curr: BinaryTreeNode):\n",
    "        nonlocal boundary\n",
    "        if not curr:\n",
    "            return\n",
    "        else:\n",
    "            if not curr.left and not curr.right:\n",
    "                boundary.append(curr.val)\n",
    "            getLeaves(curr.left)\n",
    "            getLeaves(curr.right)\n",
    "\n",
    "    right: list[int] = []\n",
    "    curr = root.right\n",
    "    while curr and (curr.left or curr.right):\n",
    "        right.append(curr.val)\n",
    "        curr = curr.right if curr.right else curr.left\n",
    "    right.reverse()\n",
    "\n",
    "    getLeaves(root)\n",
    "    return [root.val] + left + boundary + right\n",
    "\n",
    "# Testing the solution\n",
    "assert traverseBoundary(BinaryTreeNode.from_array([10, 5, 20, 3, 8, 18, 25, None, None, 7, None, None, None, None, None, None, None])) == [10, 5, 3, 7, 18, 25, 20]\n",
    "assert traverseBoundary(BinaryTreeNode.from_array([100, 50, 150, 25, 75, 140, 200, None, 30, 70, 80, None, None, None, None, None, 35, None, None, None, None, None, None])) == [100, 50, 25, 30, 35, 70, 80, 140, 200, 150]"
   ]
  },
  {
   "cell_type": "markdown",
   "id": "48a971f2",
   "metadata": {
    "papermill": {
     "duration": 0.017027,
     "end_time": "2024-04-18T14:41:35.440903",
     "exception": false,
     "start_time": "2024-04-18T14:41:35.423876",
     "status": "completed"
    },
    "tags": []
   },
   "source": [
    "Video Link: https://youtu.be/q_a6lpbKJdw?si=d1p9utIGRbbi7q84\n",
    "Vertial order traversal of Binary Tree"
   ]
  },
  {
   "cell_type": "code",
   "execution_count": 20,
   "id": "584c0df0",
   "metadata": {
    "execution": {
     "iopub.execute_input": "2024-04-18T14:41:35.476041Z",
     "iopub.status.busy": "2024-04-18T14:41:35.475783Z",
     "iopub.status.idle": "2024-04-18T14:41:35.486087Z",
     "shell.execute_reply": "2024-04-18T14:41:35.485380Z"
    },
    "lines_to_next_cell": 1,
    "papermill": {
     "duration": 0.029877,
     "end_time": "2024-04-18T14:41:35.487795",
     "exception": false,
     "start_time": "2024-04-18T14:41:35.457918",
     "status": "completed"
    },
    "tags": []
   },
   "outputs": [],
   "source": [
    "# Problem Link: https://leetcode.com/problems/vertical-order-traversal-of-a-binary-tree/submissions/1226266467\n",
    "def verticalTraversal(root: BinaryTreeNode) -> list[list[int]]:\n",
    "    \"\"\"\n",
    "    Time: O(N log N), Space: O(N)\n",
    "    \"\"\"\n",
    "\n",
    "    # Time: O(N)\n",
    "    ordering: list[tuple[int, int, int]] = []\n",
    "    def backtrack(curr: BinaryTreeNode, i: int, j: int):\n",
    "        nonlocal ordering\n",
    "        if not curr:\n",
    "            return\n",
    "        else:\n",
    "            ordering.append((curr.val, i, j))\n",
    "            backtrack(curr.left, i + 1, j - 1)\n",
    "            backtrack(curr.right, i + 1, j + 1)\n",
    "\n",
    "    # Time: O(N log N)\n",
    "    backtrack(root, 0, 0)\n",
    "    ordering.sort(key=lambda x: (x[2], x[1], x[0]))\n",
    "\n",
    "    # Time: O(N)\n",
    "    result: list[list[int]] = []\n",
    "    prev = ordering[0][2] - 1\n",
    "    for k, i, j in ordering:\n",
    "        if j != prev:\n",
    "            result.append([])\n",
    "            prev = j\n",
    "        result[-1].append(k)\n",
    "\n",
    "    return result\n",
    "\n",
    "# Testing the solution\n",
    "assert verticalTraversal(BinaryTreeNode.from_array([3,9,20,None,None,15,7])) == [[9], [3, 15], [20], [7]]\n",
    "assert verticalTraversal(BinaryTreeNode.from_array([1, 2, 3, 4, 5, 6, 7])) == [[4], [2], [1,5,6], [3], [7]]\n",
    "assert verticalTraversal(BinaryTreeNode.from_array([1, 2, 3, 4, 6, 5, 7])) == [[4], [2], [1, 5, 6], [3], [7]]"
   ]
  },
  {
   "cell_type": "markdown",
   "id": "5a99a217",
   "metadata": {
    "papermill": {
     "duration": 0.016876,
     "end_time": "2024-04-18T14:41:35.521770",
     "exception": false,
     "start_time": "2024-04-18T14:41:35.504894",
     "status": "completed"
    },
    "tags": []
   },
   "source": [
    "Video Link: https://youtu.be/Et9OCDNvJ78?si=JB9v3iN8uhAELNkl\n",
    "Top view of a Binary Tree"
   ]
  },
  {
   "cell_type": "code",
   "execution_count": 21,
   "id": "fbf1035d",
   "metadata": {
    "execution": {
     "iopub.execute_input": "2024-04-18T14:41:35.557241Z",
     "iopub.status.busy": "2024-04-18T14:41:35.556619Z",
     "iopub.status.idle": "2024-04-18T14:41:35.564701Z",
     "shell.execute_reply": "2024-04-18T14:41:35.563994Z"
    },
    "lines_to_next_cell": 1,
    "papermill": {
     "duration": 0.027463,
     "end_time": "2024-04-18T14:41:35.566308",
     "exception": false,
     "start_time": "2024-04-18T14:41:35.538845",
     "status": "completed"
    },
    "tags": []
   },
   "outputs": [],
   "source": [
    "def topViewBinaryTree(root: BinaryTreeNode) -> list[int]:\n",
    "    topView: dict[int, int] = dict()\n",
    "\n",
    "    # Level Order Traversal\n",
    "    stack: list[tuple[BinaryTreeNode, int]] = [(root, 0)]\n",
    "    while stack:\n",
    "        next_: list[tuple[BinaryTreeNode, int]] = []\n",
    "        for curr, j in stack:\n",
    "            if curr:\n",
    "                if j not in topView:\n",
    "                    topView[j] = curr.val\n",
    "                next_.append((curr.left, j - 1))\n",
    "                next_.append((curr.right, j + 1))\n",
    "\n",
    "        stack = next_\n",
    "\n",
    "    result: list[int] = []\n",
    "    for k, v in sorted(topView.items(), key=lambda x: x[0]):\n",
    "        result.append(v)\n",
    "\n",
    "    return result\n",
    "\n",
    "# Testing the result\n",
    "assert topViewBinaryTree(BinaryTreeNode.from_array([1, 2, 3, 4, 5, None, 6, None, 7, None, None, 8, None, 9, None, None, 11, 10, None, None, None, None, None])) == [10, 4,  2, 1, 3, 6]"
   ]
  },
  {
   "cell_type": "markdown",
   "id": "b62cb1a9",
   "metadata": {
    "papermill": {
     "duration": 0.016935,
     "end_time": "2024-04-18T14:41:35.600423",
     "exception": false,
     "start_time": "2024-04-18T14:41:35.583488",
     "status": "completed"
    },
    "tags": []
   },
   "source": [
    "Video Link: https://youtu.be/0FtVY6I4pB8?si=pBJ-JgXeSz_WxjCs\n",
    "Bottom view of a Binary tree"
   ]
  },
  {
   "cell_type": "code",
   "execution_count": 22,
   "id": "f1b0d9dd",
   "metadata": {
    "execution": {
     "iopub.execute_input": "2024-04-18T14:41:35.636060Z",
     "iopub.status.busy": "2024-04-18T14:41:35.635282Z",
     "iopub.status.idle": "2024-04-18T14:41:35.643031Z",
     "shell.execute_reply": "2024-04-18T14:41:35.642405Z"
    },
    "lines_to_next_cell": 1,
    "papermill": {
     "duration": 0.027374,
     "end_time": "2024-04-18T14:41:35.644676",
     "exception": false,
     "start_time": "2024-04-18T14:41:35.617302",
     "status": "completed"
    },
    "tags": []
   },
   "outputs": [],
   "source": [
    "def bottomView(root: BinaryTreeNode) -> list[int]:\n",
    "    ordering: dict[int, int] = dict()\n",
    "    stack: list[tuple[BinaryTreeNode, int]] = [(root, 0)]\n",
    "    while stack:\n",
    "        next_: list[tuple[BinaryTreeNode, int]] = []\n",
    "        for curr, j in stack:\n",
    "            if curr:\n",
    "                ordering[j] = curr.val\n",
    "                next_.append((curr.left, j - 1))\n",
    "                next_.append((curr.right, j + 1))\n",
    "\n",
    "        stack = next_\n",
    "\n",
    "    result: list[int] = []\n",
    "    for k in sorted(ordering.keys()):\n",
    "        result.append(ordering[k])\n",
    "\n",
    "    return result\n",
    "\n",
    "# Testing the solution\n",
    "assert bottomView(BinaryTreeNode.from_array([1, 2, 3, None, None, 5, 6, 7, 8, None, None, None, None, None, None])) == [7, 5, 8, 6]"
   ]
  },
  {
   "cell_type": "markdown",
   "id": "262c0c19",
   "metadata": {
    "papermill": {
     "duration": 0.016987,
     "end_time": "2024-04-18T14:41:35.679066",
     "exception": false,
     "start_time": "2024-04-18T14:41:35.662079",
     "status": "completed"
    },
    "tags": []
   },
   "source": [
    "Video Link: https://youtu.be/KV4mRzTjlAk?si=lzQH9S7GrgZKUjMj\n",
    "Right / Left view of a Binary Tree"
   ]
  },
  {
   "cell_type": "code",
   "execution_count": 23,
   "id": "8d6decb1",
   "metadata": {
    "execution": {
     "iopub.execute_input": "2024-04-18T14:41:35.714434Z",
     "iopub.status.busy": "2024-04-18T14:41:35.713764Z",
     "iopub.status.idle": "2024-04-18T14:41:35.721783Z",
     "shell.execute_reply": "2024-04-18T14:41:35.721145Z"
    },
    "lines_to_next_cell": 1,
    "papermill": {
     "duration": 0.027532,
     "end_time": "2024-04-18T14:41:35.723513",
     "exception": false,
     "start_time": "2024-04-18T14:41:35.695981",
     "status": "completed"
    },
    "tags": []
   },
   "outputs": [],
   "source": [
    "# Right Side View: Time - O(N)\n",
    "def rightSideView(root: BinaryTreeNode) -> list[int]:\n",
    "    ordering: dict[int, int] = dict()\n",
    "    def inOrder(curr: BinaryTreeNode, i: int = 0):\n",
    "        nonlocal ordering\n",
    "        if not curr:\n",
    "            return\n",
    "        else:\n",
    "            ordering[i] = curr.val\n",
    "            inOrder(curr.left, i + 1)\n",
    "            inOrder(curr.right, i + 1)\n",
    "\n",
    "    # Backtrack and store the results\n",
    "    inOrder(root)\n",
    "    result: list[int] = []\n",
    "    for k in sorted(ordering.keys()):\n",
    "        result.append(ordering[k])\n",
    "\n",
    "    return result\n",
    "\n",
    "# Testing the solution\n",
    "assert rightSideView(BinaryTreeNode.from_array([1, 2, 3, None, 5, None, 4])) == [1, 3, 4]\n",
    "assert rightSideView(BinaryTreeNode.from_array([1, 2, 3, 4])) == [1, 3, 4]"
   ]
  },
  {
   "cell_type": "code",
   "execution_count": 24,
   "id": "367ea6a3",
   "metadata": {
    "execution": {
     "iopub.execute_input": "2024-04-18T14:41:35.759275Z",
     "iopub.status.busy": "2024-04-18T14:41:35.758569Z",
     "iopub.status.idle": "2024-04-18T14:41:35.766433Z",
     "shell.execute_reply": "2024-04-18T14:41:35.765817Z"
    },
    "lines_to_next_cell": 1,
    "papermill": {
     "duration": 0.027481,
     "end_time": "2024-04-18T14:41:35.768159",
     "exception": false,
     "start_time": "2024-04-18T14:41:35.740678",
     "status": "completed"
    },
    "tags": [],
    "title": "Left Side View: Time - O(N)"
   },
   "outputs": [],
   "source": [
    "def leftSideView(root: BinaryTreeNode) -> list[int]:\n",
    "    ordering: dict[int, int] = dict()\n",
    "    def backtrack(curr: BinaryTreeNode, i: int = 0):\n",
    "        nonlocal ordering\n",
    "        if not curr:\n",
    "            return\n",
    "        else:\n",
    "            ordering[i] = curr.val\n",
    "            backtrack(curr.right, i + 1)\n",
    "            backtrack(curr.left, i + 1)\n",
    "\n",
    "    # Backtrack and store the results\n",
    "    backtrack(root)\n",
    "    result: list[int] = []\n",
    "    for k in sorted(ordering.keys()):\n",
    "        result.append(ordering[k])\n",
    "\n",
    "    return result\n",
    "\n",
    "# Testing the solution\n",
    "assert leftSideView(BinaryTreeNode.from_array([1, 2, 3, None, 5, None, 4])) == [1, 2, 5]\n",
    "assert leftSideView(BinaryTreeNode.from_array([1, 2, 3, 4])) == [1, 2, 4]"
   ]
  },
  {
   "cell_type": "code",
   "execution_count": 25,
   "id": "40a6b0a2",
   "metadata": {
    "execution": {
     "iopub.execute_input": "2024-04-18T14:41:35.804156Z",
     "iopub.status.busy": "2024-04-18T14:41:35.803595Z",
     "iopub.status.idle": "2024-04-18T14:41:35.810495Z",
     "shell.execute_reply": "2024-04-18T14:41:35.809707Z"
    },
    "lines_to_next_cell": 1,
    "papermill": {
     "duration": 0.026535,
     "end_time": "2024-04-18T14:41:35.812106",
     "exception": false,
     "start_time": "2024-04-18T14:41:35.785571",
     "status": "completed"
    },
    "tags": []
   },
   "outputs": [],
   "source": [
    "# Better solution from Striver\n",
    "def rightSideViewStriver(root: BinaryTreeNode) -> list[int]:\n",
    "    result: list[int] = []\n",
    "    def backtrack(curr: BinaryTreeNode, level: int = 1):\n",
    "        \"\"\"\n",
    "        Modified preorder traversal - RRL.\n",
    "        We insert to our result only when we are coming the level for the first time.\n",
    "        \"\"\"\n",
    "        nonlocal result\n",
    "        if not curr:\n",
    "            return\n",
    "        else:\n",
    "            if level > len(result):\n",
    "                result.append(curr.val)\n",
    "            backtrack(curr.right, level + 1)\n",
    "            backtrack(curr.left, level + 1)\n",
    "\n",
    "    # Recurse and save the results\n",
    "    backtrack(root)\n",
    "    return result\n",
    "\n",
    "# Testing the solution\n",
    "assert rightSideViewStriver(BinaryTreeNode.from_array([1, 2, 3, None, 5, None, 4])) == [1, 3, 4]\n",
    "assert rightSideViewStriver(BinaryTreeNode.from_array([1, 2, 3, 4])) == [1, 3, 4]"
   ]
  },
  {
   "cell_type": "markdown",
   "id": "3d234569",
   "metadata": {
    "papermill": {
     "duration": 0.016908,
     "end_time": "2024-04-18T14:41:35.846038",
     "exception": false,
     "start_time": "2024-04-18T14:41:35.829130",
     "status": "completed"
    },
    "tags": []
   },
   "source": [
    "Video Link: https://youtu.be/nKggNAiEpBE?si=abzPcl6pKzyFpJ2i\n",
    "Problem Link: https://leetcode.com/problems/symmetric-tree/submissions/1227182868"
   ]
  },
  {
   "cell_type": "code",
   "execution_count": 26,
   "id": "7dae62c7",
   "metadata": {
    "execution": {
     "iopub.execute_input": "2024-04-18T14:41:35.881583Z",
     "iopub.status.busy": "2024-04-18T14:41:35.880903Z",
     "iopub.status.idle": "2024-04-18T14:41:35.890470Z",
     "shell.execute_reply": "2024-04-18T14:41:35.889732Z"
    },
    "lines_to_next_cell": 1,
    "papermill": {
     "duration": 0.029139,
     "end_time": "2024-04-18T14:41:35.892167",
     "exception": false,
     "start_time": "2024-04-18T14:41:35.863028",
     "status": "completed"
    },
    "tags": []
   },
   "outputs": [],
   "source": [
    "def isSymmetric(root: BinaryTreeNode) -> bool:\n",
    "    def backtrack(left: BinaryTreeNode, right: BinaryTreeNode) -> bool:\n",
    "        if not left or not right:\n",
    "            return left == right\n",
    "        else:\n",
    "            return left.val == right.val and backtrack(left.left, right.right) and backtrack(left.right, right.left)\n",
    "\n",
    "    def isPalindrome(arr: list[BinaryTreeNode]) -> bool:\n",
    "        N = len(arr)\n",
    "        i, j = 0, N - 1\n",
    "        while i < j:\n",
    "            left, right = arr[i].val if arr[i] else None, arr[j].val if arr[j] else None\n",
    "            i, j = i + 1, j - 1\n",
    "            if left != right:\n",
    "                return False\n",
    "        return True\n",
    "\n",
    "    def iterate() -> bool:\n",
    "        stack: list[BinaryTreeNode] = [root]\n",
    "        while stack:\n",
    "            next_: list[BinaryTreeNode] = []\n",
    "            for curr in stack:\n",
    "                if curr:\n",
    "                    next_.append(curr.left)\n",
    "                    next_.append(curr.right)\n",
    "\n",
    "            if not isPalindrome(next_):\n",
    "                return False\n",
    "            else:\n",
    "                stack = next_\n",
    "        else:\n",
    "            return True\n",
    "\n",
    "    # return backtrack(root.left, root.right)\n",
    "    return iterate()\n",
    "\n",
    "# Testing the solution\n",
    "assert isSymmetric(BinaryTreeNode.from_array([1, 2, 2, None, 3, None, 3])) == False\n",
    "assert isSymmetric(BinaryTreeNode.from_array([1, 2, 2, None, 3, 3, None])) == True"
   ]
  },
  {
   "cell_type": "markdown",
   "id": "3d1fac60",
   "metadata": {
    "papermill": {
     "duration": 0.016932,
     "end_time": "2024-04-18T14:41:35.926435",
     "exception": false,
     "start_time": "2024-04-18T14:41:35.909503",
     "status": "completed"
    },
    "tags": []
   },
   "source": [
    "Video Link: https://youtu.be/fmflMqVOC7k?si=1AX2ea08UGtxw0mj\n",
    "Print Root to Node path in Binary Tree"
   ]
  },
  {
   "cell_type": "code",
   "execution_count": 27,
   "id": "f0244aad",
   "metadata": {
    "execution": {
     "iopub.execute_input": "2024-04-18T14:41:35.961714Z",
     "iopub.status.busy": "2024-04-18T14:41:35.961075Z",
     "iopub.status.idle": "2024-04-18T14:41:35.969322Z",
     "shell.execute_reply": "2024-04-18T14:41:35.968562Z"
    },
    "lines_to_next_cell": 1,
    "papermill": {
     "duration": 0.027517,
     "end_time": "2024-04-18T14:41:35.970888",
     "exception": false,
     "start_time": "2024-04-18T14:41:35.943371",
     "status": "completed"
    },
    "tags": []
   },
   "outputs": [
    {
     "data": {
      "text/plain": [
       "[1, 2, 5, 7]"
      ]
     },
     "execution_count": 27,
     "metadata": {},
     "output_type": "execute_result"
    }
   ],
   "source": [
    "def rootToNodePath(root: BinaryTreeNode, target: int) -> list[int]:\n",
    "    \"Time: O(N), Space: O(H)\"\n",
    "    path: list[int] = []\n",
    "    def backtrack(curr: BinaryTreeNode) -> bool:\n",
    "        if not curr:\n",
    "            return False\n",
    "        else:\n",
    "            path.append(curr.val)\n",
    "            result = curr.val == target or backtrack(curr.left) or backtrack(curr.right)\n",
    "            if not result:\n",
    "                path.pop()\n",
    "\n",
    "            return result\n",
    "\n",
    "    backtrack(root)\n",
    "    return path\n",
    "\n",
    "\n",
    "# Testing the solution\n",
    "rootToNodePath(BinaryTreeNode.from_array([1, 2, 3, 4, 5, None, None, None, None, 6, 7]), 7)"
   ]
  },
  {
   "cell_type": "markdown",
   "id": "b7a03676",
   "metadata": {
    "papermill": {
     "duration": 0.017529,
     "end_time": "2024-04-18T14:41:36.005670",
     "exception": false,
     "start_time": "2024-04-18T14:41:35.988141",
     "status": "completed"
    },
    "tags": []
   },
   "source": [
    "Lowest common ancestor\n",
    "Video Link: https://youtu.be/_-QHfMDde90?si=3pJ5ysXG6FArt3Q3"
   ]
  },
  {
   "cell_type": "code",
   "execution_count": 28,
   "id": "7a501b5a",
   "metadata": {
    "execution": {
     "iopub.execute_input": "2024-04-18T14:41:36.042334Z",
     "iopub.status.busy": "2024-04-18T14:41:36.041977Z",
     "iopub.status.idle": "2024-04-18T14:41:36.048858Z",
     "shell.execute_reply": "2024-04-18T14:41:36.048115Z"
    },
    "lines_to_next_cell": 1,
    "papermill": {
     "duration": 0.027028,
     "end_time": "2024-04-18T14:41:36.050462",
     "exception": false,
     "start_time": "2024-04-18T14:41:36.023434",
     "status": "completed"
    },
    "tags": []
   },
   "outputs": [],
   "source": [
    "# Problem Link: https://leetcode.com/problems/lowest-common-ancestor-of-a-binary-tree/submissions/1228152859\n",
    "def lowestCommonAncestor(root: BinaryTreeNode, p: BinaryTreeNode, q: BinaryTreeNode) -> BinaryTreeNode:\n",
    "    def backtrack(curr: BinaryTreeNode) -> BinaryTreeNode:\n",
    "        if not curr:\n",
    "            return curr\n",
    "        else:\n",
    "            left = backtrack(curr.left)\n",
    "            right = backtrack(curr.right)\n",
    "            if left and right:\n",
    "                return curr\n",
    "            elif curr in (p, q):\n",
    "                return curr\n",
    "            else:\n",
    "                return left if left else right\n",
    "\n",
    "    return backtrack(root)\n",
    "\n",
    "# Testing the solution\n",
    "temp: BinaryTreeNode = BinaryTreeNode.from_array([3,5,1,6,2,0,8,None,None,7,4])\n",
    "assert lowestCommonAncestor(temp, p=temp.left, q=temp.left.right.right).val == 5"
   ]
  },
  {
   "cell_type": "markdown",
   "id": "8415d919",
   "metadata": {
    "papermill": {
     "duration": 0.01704,
     "end_time": "2024-04-18T14:41:36.084730",
     "exception": false,
     "start_time": "2024-04-18T14:41:36.067690",
     "status": "completed"
    },
    "tags": []
   },
   "source": [
    "Maximum width of a binary Tree\n",
    "Video Link: https://youtu.be/ZbybYvcVLks?si=_r6ouO7uxfz3DI6I"
   ]
  },
  {
   "cell_type": "code",
   "execution_count": 29,
   "id": "249090c8",
   "metadata": {
    "execution": {
     "iopub.execute_input": "2024-04-18T14:41:36.120210Z",
     "iopub.status.busy": "2024-04-18T14:41:36.119696Z",
     "iopub.status.idle": "2024-04-18T14:41:36.126926Z",
     "shell.execute_reply": "2024-04-18T14:41:36.126168Z"
    },
    "lines_to_next_cell": 1,
    "papermill": {
     "duration": 0.026847,
     "end_time": "2024-04-18T14:41:36.128614",
     "exception": false,
     "start_time": "2024-04-18T14:41:36.101767",
     "status": "completed"
    },
    "tags": []
   },
   "outputs": [],
   "source": [
    "# Problem Link: https://leetcode.com/problems/maximum-width-of-binary-tree/submissions/1228981858\n",
    "def widthOfBinaryTree(root: BinaryTreeNode) -> int:\n",
    "    \"\"\"\n",
    "    1. 0 Based indexing:\n",
    "        - Left of any node: (2 * i + 1)\n",
    "        - Right of any node: (2 * i + 2)\n",
    "\n",
    "    2. 1 Based indexing:\n",
    "        - Left of any node: (2 * i)\n",
    "        - Right of any node: (2 * i + 1)\n",
    "    \"\"\"\n",
    "\n",
    "    max_width: int = 0\n",
    "    queue: list[tuple[BinaryTreeNode, int]] = [(root, 0)]\n",
    "    while queue:\n",
    "        max_width = max(max_width, queue[-1][1] - queue[0][1] + 1)\n",
    "        next_: list[tuple[BinaryTreeNode, int]] = []\n",
    "        min_idx = queue[0][1] # i - min_idx is done to prevent buffer overflow in languages like C, C++\n",
    "        for curr, i in queue:\n",
    "            if curr.left:\n",
    "                next_.append((curr.left, 2 * (i - min_idx) + 1))\n",
    "            if curr.right:\n",
    "                next_.append((curr.right, 2 * (i - min_idx) + 2))\n",
    "\n",
    "        queue = next_\n",
    "\n",
    "    return max_width\n",
    "\n",
    "# Testing the solution\n",
    "assert widthOfBinaryTree(BinaryTreeNode.from_array([1,3,2,5,3,None,9])) == 4"
   ]
  },
  {
   "cell_type": "markdown",
   "id": "db8bdc78",
   "metadata": {
    "papermill": {
     "duration": 0.017208,
     "end_time": "2024-04-18T14:41:36.163296",
     "exception": false,
     "start_time": "2024-04-18T14:41:36.146088",
     "status": "completed"
    },
    "tags": []
   },
   "source": [
    "Video Link: https://youtu.be/fnmisPM6cVo?si=gK9Xm0WNZQ6dqBk6\n",
    "Check children sum property in Binary Tree"
   ]
  },
  {
   "cell_type": "code",
   "execution_count": 30,
   "id": "e9c463d9",
   "metadata": {
    "execution": {
     "iopub.execute_input": "2024-04-18T14:41:36.198805Z",
     "iopub.status.busy": "2024-04-18T14:41:36.198282Z",
     "iopub.status.idle": "2024-04-18T14:41:36.204509Z",
     "shell.execute_reply": "2024-04-18T14:41:36.203862Z"
    },
    "lines_to_next_cell": 1,
    "papermill": {
     "duration": 0.025691,
     "end_time": "2024-04-18T14:41:36.206193",
     "exception": false,
     "start_time": "2024-04-18T14:41:36.180502",
     "status": "completed"
    },
    "tags": []
   },
   "outputs": [],
   "source": [
    "def isParentSum(curr: BinaryTreeNode) -> bool:\n",
    "    if not curr or (not curr.left and not curr.right): # Leaf node\n",
    "        return True\n",
    "    else:\n",
    "        curr_parent_sum = (curr.val == ((curr.left.val if curr.left else 0) + (curr.right.val if curr.right else 0)))\n",
    "        return curr_parent_sum and isParentSum(curr.left) and isParentSum(curr.right)\n",
    "\n",
    "# Testing the solution\n",
    "assert isParentSum(BinaryTreeNode.from_array([5, 3, 2, 3, None, None, None, None, None])) == True\n",
    "assert isParentSum(BinaryTreeNode.from_array([7, 3, 4, 3, None, 2, 3, None, None, None, None, None, None])) == False"
   ]
  },
  {
   "cell_type": "markdown",
   "id": "6315a3c1",
   "metadata": {
    "papermill": {
     "duration": 0.017194,
     "end_time": "2024-04-18T14:41:36.240926",
     "exception": false,
     "start_time": "2024-04-18T14:41:36.223732",
     "status": "completed"
    },
    "tags": []
   },
   "source": [
    "Maintain children sum property of a binary Tree"
   ]
  },
  {
   "cell_type": "code",
   "execution_count": 31,
   "id": "20d7e7dd",
   "metadata": {
    "execution": {
     "iopub.execute_input": "2024-04-18T14:41:36.277037Z",
     "iopub.status.busy": "2024-04-18T14:41:36.276346Z",
     "iopub.status.idle": "2024-04-18T14:41:36.284564Z",
     "shell.execute_reply": "2024-04-18T14:41:36.283901Z"
    },
    "lines_to_next_cell": 1,
    "papermill": {
     "duration": 0.028044,
     "end_time": "2024-04-18T14:41:36.286241",
     "exception": false,
     "start_time": "2024-04-18T14:41:36.258197",
     "status": "completed"
    },
    "tags": []
   },
   "outputs": [],
   "source": [
    "def restoreChildrenSumProperty(root: BinaryTreeNode) -> BinaryTreeNode:\n",
    "    \"In languages such as C, this might cause buffer overflow, see striver sol below\"\n",
    "    max_ = 0\n",
    "    def postOrder(curr: BinaryTreeNode) -> int:\n",
    "        nonlocal max_\n",
    "        max_ = max(max_, curr.val if curr else 0)\n",
    "        if not curr.left and not curr.right:\n",
    "            assert curr.val < max_, f\"Can only increment, {curr.val} cannot become {max_}\"\n",
    "            curr.val = max_\n",
    "            return curr.val\n",
    "        else:\n",
    "            left_ = postOrder(curr.left) if curr.left else 0\n",
    "            right_ = postOrder(curr.right) if curr.right else 0\n",
    "            assert curr.val < left_ + right_, f\"Can only increment, {curr.val} cannot become {left_ + right_}\"\n",
    "            curr.val = left_ + right_\n",
    "            return left_ + right_\n",
    "\n",
    "    postOrder(root)\n",
    "    return root\n",
    "\n",
    "# Testing the solution\n",
    "assert isParentSum(restoreChildrenSumProperty(BinaryTreeNode.from_array([2, 35, 10, 2, 3, 5, 2])))\n",
    "assert isParentSum(restoreChildrenSumProperty(BinaryTreeNode.from_array([50, 7, 2, 3, 5, 1, 30])))\n",
    "assert isParentSum(restoreChildrenSumProperty(BinaryTreeNode.from_array([7, 3, 4, 3, None, 2, 3, None, None, None, None, None, None])))"
   ]
  },
  {
   "cell_type": "code",
   "execution_count": 32,
   "id": "bf9f3b28",
   "metadata": {
    "execution": {
     "iopub.execute_input": "2024-04-18T14:41:36.321994Z",
     "iopub.status.busy": "2024-04-18T14:41:36.321490Z",
     "iopub.status.idle": "2024-04-18T14:41:36.329845Z",
     "shell.execute_reply": "2024-04-18T14:41:36.329046Z"
    },
    "lines_to_next_cell": 1,
    "papermill": {
     "duration": 0.027898,
     "end_time": "2024-04-18T14:41:36.331423",
     "exception": false,
     "start_time": "2024-04-18T14:41:36.303525",
     "status": "completed"
    },
    "tags": []
   },
   "outputs": [],
   "source": [
    "def restoreChildrenSumProperty_striver(root: BinaryTreeNode) -> BinaryTreeNode:\n",
    "    def postOrder(curr: BinaryTreeNode) -> int:\n",
    "        if not curr.left and not curr.right:\n",
    "            return curr.val\n",
    "        else:\n",
    "            if curr.val > (curr.left.val if curr.left else 0) + (curr.right.val if curr.right else 0):\n",
    "                if curr.left:\n",
    "                    curr.left.val = curr.val\n",
    "                if curr.right:\n",
    "                    curr.right.val = curr.val\n",
    "\n",
    "            left = postOrder(curr.left) if curr.left else 0\n",
    "            right = postOrder(curr.right) if curr.right else 0\n",
    "            curr.val = left + right\n",
    "            return curr.val\n",
    "\n",
    "    postOrder(root)\n",
    "    return root\n",
    "\n",
    "# Testing the solution\n",
    "assert isParentSum(restoreChildrenSumProperty_striver(BinaryTreeNode.from_array([2, 35, 10, 2, 3, 5, 2])))\n",
    "assert isParentSum(restoreChildrenSumProperty_striver(BinaryTreeNode.from_array([50, 7, 2, 3, 5, 1, 30])))\n",
    "assert isParentSum(restoreChildrenSumProperty_striver(BinaryTreeNode.from_array([7, 3, 4, 3, None, 2, 3, None, None, None, None, None, None])))"
   ]
  },
  {
   "cell_type": "markdown",
   "id": "d81de678",
   "metadata": {
    "papermill": {
     "duration": 0.017135,
     "end_time": "2024-04-18T14:41:36.365870",
     "exception": false,
     "start_time": "2024-04-18T14:41:36.348735",
     "status": "completed"
    },
    "tags": []
   },
   "source": [
    "Video Link: https://youtu.be/i9ORlEy6EsI?si=GlIarkkKAHDMEXss\n",
    "Print all nodes at K distance from target in Binary Tree"
   ]
  },
  {
   "cell_type": "code",
   "execution_count": 33,
   "id": "af18ee1c",
   "metadata": {
    "execution": {
     "iopub.execute_input": "2024-04-18T14:41:36.403527Z",
     "iopub.status.busy": "2024-04-18T14:41:36.402871Z",
     "iopub.status.idle": "2024-04-18T14:41:36.413818Z",
     "shell.execute_reply": "2024-04-18T14:41:36.413042Z"
    },
    "lines_to_next_cell": 1,
    "papermill": {
     "duration": 0.03093,
     "end_time": "2024-04-18T14:41:36.415539",
     "exception": false,
     "start_time": "2024-04-18T14:41:36.384609",
     "status": "completed"
    },
    "tags": []
   },
   "outputs": [],
   "source": [
    "def distanceK(root: BinaryTreeNode, target: int, k: int) -> list[int]:\n",
    "    \"Time: O(N), Space: O(N)\"\n",
    "    adl: dict[int, set[int]] = dict()\n",
    "    def createGraph(curr: BinaryTreeNode):\n",
    "        nonlocal adl\n",
    "        if curr:\n",
    "            curr_neighbours = adl.get(curr.val, set())\n",
    "            if curr.left:\n",
    "                curr_neighbours.add(curr.left.val)\n",
    "                left_neighbours = adl.get(curr.left.val, set())\n",
    "                left_neighbours.add(curr.val)\n",
    "                adl[curr.left.val] = left_neighbours\n",
    "                createGraph(curr.left)\n",
    "            if curr.right:\n",
    "                curr_neighbours.add(curr.right.val)\n",
    "                right_neighbours = adl.get(curr.right.val, set())\n",
    "                right_neighbours.add(curr.val)\n",
    "                adl[curr.right.val] = right_neighbours\n",
    "                createGraph(curr.right)\n",
    "            adl[curr.val] = curr_neighbours\n",
    "\n",
    "    # Create a graph adjacency list\n",
    "    createGraph(root)\n",
    "\n",
    "    # Do a BFS until distance is reached\n",
    "    queue: list[int] = [target]\n",
    "    visited: set[int] = set([target])\n",
    "    while k > 0:\n",
    "        next_: list[int] = []\n",
    "        for curr in queue:\n",
    "            for neighbour in adl.get(curr, set()):\n",
    "                if neighbour not in visited:\n",
    "                    visited.add(neighbour)\n",
    "                    next_.append(neighbour)\n",
    "\n",
    "        queue = next_\n",
    "        k -= 1\n",
    "\n",
    "    return queue\n",
    "\n",
    "# Testing the solution\n",
    "assert sorted(distanceK(BinaryTreeNode.from_array([3,5,1,6,2,0,8,None,None,7,4]), 5, 2)) == [1, 4, 7]\n",
    "assert sorted(distanceK(BinaryTreeNode.from_array([3,5,1,6,2,0,8,None,None,7,4]), 4, 2)) == [5, 7]"
   ]
  },
  {
   "cell_type": "markdown",
   "id": "db756dd0",
   "metadata": {
    "papermill": {
     "duration": 0.017056,
     "end_time": "2024-04-18T14:41:36.449984",
     "exception": false,
     "start_time": "2024-04-18T14:41:36.432928",
     "status": "completed"
    },
    "tags": []
   },
   "source": [
    "Video Link: https://youtu.be/2r5wLmQfD6g?si=V-Tirx2isc0Mt7Qp\n",
    "Time to burn a Binary Tree"
   ]
  },
  {
   "cell_type": "code",
   "execution_count": 34,
   "id": "67ee9af0",
   "metadata": {
    "execution": {
     "iopub.execute_input": "2024-04-18T14:41:36.485850Z",
     "iopub.status.busy": "2024-04-18T14:41:36.485284Z",
     "iopub.status.idle": "2024-04-18T14:41:36.494950Z",
     "shell.execute_reply": "2024-04-18T14:41:36.494304Z"
    },
    "lines_to_next_cell": 1,
    "papermill": {
     "duration": 0.029408,
     "end_time": "2024-04-18T14:41:36.496564",
     "exception": false,
     "start_time": "2024-04-18T14:41:36.467156",
     "status": "completed"
    },
    "tags": []
   },
   "outputs": [],
   "source": [
    "def timeToBurnTree(root: BinaryTreeNode, start: int):\n",
    "    \"Time: O(N), Space: O(N)\"\n",
    "    adl: dict[int, set[int]] = dict()\n",
    "    def createGraph(curr: BinaryTreeNode):\n",
    "        if curr:\n",
    "            curr_neighbours = adl.get(curr.val, set())\n",
    "            if curr.left:\n",
    "                curr_neighbours.add(curr.left.val)\n",
    "                adl[curr.left.val] = set([curr.val])\n",
    "                createGraph(curr.left)\n",
    "            if curr.right:\n",
    "                curr_neighbours.add(curr.right.val)\n",
    "                adl[curr.right.val] = set([curr.val])\n",
    "                createGraph(curr.right)\n",
    "            adl[curr.val] = curr_neighbours\n",
    "\n",
    "    # Create an adjacency list\n",
    "    createGraph(root)\n",
    "\n",
    "    # Do a BFS traversal and compute the max levels\n",
    "    k = 0\n",
    "    queue: list[int] = [start]\n",
    "    visited: set[int] = set([start])\n",
    "    while queue:\n",
    "        next_: list[int] = []\n",
    "        for curr in queue:\n",
    "            for neighbour in adl.get(curr, set()):\n",
    "                if neighbour not in visited:\n",
    "                    visited.add(neighbour)\n",
    "                    next_.append(neighbour)\n",
    "\n",
    "        queue = next_\n",
    "        k += 1\n",
    "\n",
    "    return k - 1\n",
    "\n",
    "# Testing the solution\n",
    "assert timeToBurnTree(BinaryTreeNode.from_array([3,5,1,6,2,0,8,None,None,7,4]), 5) == 3\n",
    "assert timeToBurnTree(BinaryTreeNode.from_array([3,5,1,6,2,0,8,None,None,7,4]), 4) == 5"
   ]
  },
  {
   "cell_type": "markdown",
   "id": "d4e4fad8",
   "metadata": {
    "papermill": {
     "duration": 0.017094,
     "end_time": "2024-04-18T14:41:36.531050",
     "exception": false,
     "start_time": "2024-04-18T14:41:36.513956",
     "status": "completed"
    },
    "tags": []
   },
   "source": [
    "Video Link: https://youtu.be/u-yWemKGWO0?si=-xcOq69rKzHwnkSC\n",
    "Count total nodes in a complete Binary Tree"
   ]
  },
  {
   "cell_type": "code",
   "execution_count": 35,
   "id": "dd5cd4ce",
   "metadata": {
    "execution": {
     "iopub.execute_input": "2024-04-18T14:41:36.566558Z",
     "iopub.status.busy": "2024-04-18T14:41:36.566262Z",
     "iopub.status.idle": "2024-04-18T14:41:36.573029Z",
     "shell.execute_reply": "2024-04-18T14:41:36.572237Z"
    },
    "lines_to_next_cell": 1,
    "papermill": {
     "duration": 0.026676,
     "end_time": "2024-04-18T14:41:36.574845",
     "exception": false,
     "start_time": "2024-04-18T14:41:36.548169",
     "status": "completed"
    },
    "tags": []
   },
   "outputs": [],
   "source": [
    "# Problem Link: https://leetcode.com/problems/count-complete-tree-nodes/submissions/1229957492\n",
    "def countNodes(root: BinaryTreeNode) -> int:\n",
    "    \"\"\"\n",
    "    For each node, compute the left height and right height\n",
    "    If left height == right height:\n",
    "        Count nodes with formula = 2 ^ (h - 1)\n",
    "    Else:\n",
    "        Count of nodes = 1 + left_count + right_count\n",
    "\n",
    "    Computing height takes O(log N) time. At each step, either left would be a\n",
    "    full binary tree or the right would be: O(log N) nodes to travel\n",
    "\n",
    "    Time: O(log N * log N), Space: O(log N)\n",
    "    \"\"\"\n",
    "\n",
    "    if not root:\n",
    "        return 0\n",
    "\n",
    "    # Compute left height\n",
    "    curr, lh = root, 0\n",
    "    while curr:\n",
    "        curr = curr.left\n",
    "        lh += 1\n",
    "\n",
    "    # Compute right height\n",
    "    curr, rh = root, 0\n",
    "    rh = 0\n",
    "    while curr:\n",
    "        curr = curr.right\n",
    "        rh += 1\n",
    "\n",
    "    if lh == rh:\n",
    "        return 2 ** lh - 1\n",
    "    else:\n",
    "        return 1 + countNodes(root.left) + countNodes(root.right)\n",
    "\n",
    "# Testing the solution\n",
    "assert countNodes(BinaryTreeNode.from_array([1, 2, 3, 4, 5, 6, 7, 8, 9, 10, 11])) == 11"
   ]
  },
  {
   "cell_type": "markdown",
   "id": "51889e6d",
   "metadata": {
    "papermill": {
     "duration": 0.017075,
     "end_time": "2024-04-18T14:41:36.609244",
     "exception": false,
     "start_time": "2024-04-18T14:41:36.592169",
     "status": "completed"
    },
    "tags": []
   },
   "source": [
    "Construct binary tree from preorder and inorder traversal\n",
    "Video Link: https://youtu.be/aZNaLrVebKQ?si=bSe8CP3Bxk0bM3nG"
   ]
  },
  {
   "cell_type": "code",
   "execution_count": 36,
   "id": "62f3bcad",
   "metadata": {
    "execution": {
     "iopub.execute_input": "2024-04-18T14:41:36.646665Z",
     "iopub.status.busy": "2024-04-18T14:41:36.646070Z",
     "iopub.status.idle": "2024-04-18T14:41:36.655434Z",
     "shell.execute_reply": "2024-04-18T14:41:36.654714Z"
    },
    "lines_to_next_cell": 1,
    "papermill": {
     "duration": 0.030652,
     "end_time": "2024-04-18T14:41:36.657140",
     "exception": false,
     "start_time": "2024-04-18T14:41:36.626488",
     "status": "completed"
    },
    "tags": []
   },
   "outputs": [
    {
     "data": {
      "text/plain": [
       "[10, 20, 30, 40, 50, 60, None, None, None, None, None, None, None]"
      ]
     },
     "execution_count": 36,
     "metadata": {},
     "output_type": "execute_result"
    }
   ],
   "source": [
    "# Better solution\n",
    "# Problem Link: https://leetcode.com/problems/construct-binary-tree-from-preorder-and-inorder-traversal/submissions/1230758214\n",
    "def buildTreeFromPreorderBetter(preorder: list[int], inorder: list[int]) -> BinaryTreeNode|None:\n",
    "    \"\"\"\n",
    "    Preorder can be used to figure out the root.\n",
    "    Inorder can be used to figure out which of the nodes come to left and to the right of root.\n",
    "    \"\"\"\n",
    "    root = BinaryTreeNode(preorder[0]) if preorder else None\n",
    "    if root and len(inorder) > 1:\n",
    "        idx = inorder.index(root.val)\n",
    "        root.left = buildTreeFromPreorderBetter(preorder[1: idx + 1], inorder[:idx])\n",
    "        root.right = buildTreeFromPreorderBetter(preorder[idx + 1:], inorder[idx + 1:])\n",
    "\n",
    "    return root\n",
    "\n",
    "# Testing the Solution\n",
    "buildTreeFromPreorderBetter(inorder=[40, 20, 50, 10, 60, 30], preorder=[10, 20, 40, 50, 30, 60]).to_list()"
   ]
  },
  {
   "cell_type": "code",
   "execution_count": 37,
   "id": "878e7fa6",
   "metadata": {
    "execution": {
     "iopub.execute_input": "2024-04-18T14:41:36.694317Z",
     "iopub.status.busy": "2024-04-18T14:41:36.693590Z",
     "iopub.status.idle": "2024-04-18T14:41:36.704895Z",
     "shell.execute_reply": "2024-04-18T14:41:36.704165Z"
    },
    "lines_to_next_cell": 1,
    "papermill": {
     "duration": 0.031564,
     "end_time": "2024-04-18T14:41:36.706597",
     "exception": false,
     "start_time": "2024-04-18T14:41:36.675033",
     "status": "completed"
    },
    "tags": []
   },
   "outputs": [
    {
     "data": {
      "text/plain": [
       "[10, 20, 30, 40, 50, 60, None, None, None, None, None, None, None]"
      ]
     },
     "execution_count": 37,
     "metadata": {},
     "output_type": "execute_result"
    }
   ],
   "source": [
    "# https://leetcode.com/problems/construct-binary-tree-from-preorder-and-inorder-traversal/submissions/1230767142/\n",
    "def buildTreeFromPreorderOptimal(preorder: list[int], inorder: list[int]) -> BinaryTreeNode|None:\n",
    "    \"\"\"\n",
    "    Use hashmap to save the idx positions of inorder.\n",
    "    Time: O(N), Space: O(N)\n",
    "    \"\"\"\n",
    "    N = len(preorder)\n",
    "    inorder_hm = dict()\n",
    "    for i, n in enumerate(inorder):\n",
    "        inorder_hm[n] = i\n",
    "\n",
    "    def helper(inorder_start: int, inorder_end: int, preorder_start: int, preorder_end: int) -> BinaryTreeNode|None:\n",
    "        N_ = preorder_end - preorder_start\n",
    "        root = BinaryTreeNode(preorder[preorder_start]) if N_ >= 0 else None\n",
    "        if root and N_ > 0:\n",
    "            idx = inorder_hm[root.val]\n",
    "            root.left = helper(inorder_start, idx - 1, preorder_start + 1, preorder_start + idx - inorder_start)\n",
    "            root.right = helper(idx + 1, inorder_end, preorder_start + 1 + idx - inorder_start, preorder_end)\n",
    "\n",
    "        return root\n",
    "\n",
    "    return helper(0, N - 1, 0, N - 1)\n",
    "\n",
    "# Testing the Solution\n",
    "buildTreeFromPreorderOptimal(inorder=[40, 20, 50, 10, 60, 30], preorder=[10, 20, 40, 50, 30, 60]).to_list()"
   ]
  },
  {
   "cell_type": "markdown",
   "id": "c0d37bdc",
   "metadata": {
    "papermill": {
     "duration": 0.017429,
     "end_time": "2024-04-18T14:41:36.741657",
     "exception": false,
     "start_time": "2024-04-18T14:41:36.724228",
     "status": "completed"
    },
    "tags": []
   },
   "source": [
    "Video Link: https://youtu.be/LgLRTaEMRVc?si=AuIS8bfI3SLknUaS\n",
    "Binary Tree from Postorder and Inorder traversal"
   ]
  },
  {
   "cell_type": "code",
   "execution_count": 38,
   "id": "53e42711",
   "metadata": {
    "execution": {
     "iopub.execute_input": "2024-04-18T14:41:36.778142Z",
     "iopub.status.busy": "2024-04-18T14:41:36.777571Z",
     "iopub.status.idle": "2024-04-18T14:41:36.786142Z",
     "shell.execute_reply": "2024-04-18T14:41:36.785362Z"
    },
    "lines_to_next_cell": 1,
    "papermill": {
     "duration": 0.028677,
     "end_time": "2024-04-18T14:41:36.787851",
     "exception": false,
     "start_time": "2024-04-18T14:41:36.759174",
     "status": "completed"
    },
    "tags": []
   },
   "outputs": [
    {
     "data": {
      "text/plain": [
       "[1, 2, 5, 3, 4, None, None, None, None, None, None]"
      ]
     },
     "execution_count": 38,
     "metadata": {},
     "output_type": "execute_result"
    }
   ],
   "source": [
    "# Better: https://leetcode.com/problems/construct-binary-tree-from-inorder-and-postorder-traversal/submissions/1230771756/\n",
    "def buildTreeFromPostorderBetter(inorder: list[int], postorder: list[int]) -> BinaryTreeNode|None:\n",
    "    \"\"\"\n",
    "    Same logic as previous question, we could technically call buildTreeFromPreorder(inorder, postorder[::-1]).\n",
    "    Instead of assigning first value as root, here we assign last value as root and backtrack.\n",
    "    \"\"\"\n",
    "    root = BinaryTreeNode(postorder[-1]) if postorder else None\n",
    "    if root and len(postorder) > 1:\n",
    "        idx = inorder.index(root.val)\n",
    "        root.left = buildTreeFromPostorderBetter(inorder[:idx], postorder[:idx])\n",
    "        root.right = buildTreeFromPostorderBetter(inorder[idx + 1:], postorder[idx: -1])\n",
    "\n",
    "    return root\n",
    "\n",
    "# Testing the Solution\n",
    "buildTreeFromPostorderBetter(inorder=[3, 2, 4, 1, 5], postorder=[3, 4, 2, 5, 1]).to_list()"
   ]
  },
  {
   "cell_type": "code",
   "execution_count": 39,
   "id": "2f83f35a",
   "metadata": {
    "execution": {
     "iopub.execute_input": "2024-04-18T14:41:36.824863Z",
     "iopub.status.busy": "2024-04-18T14:41:36.824256Z",
     "iopub.status.idle": "2024-04-18T14:41:36.834389Z",
     "shell.execute_reply": "2024-04-18T14:41:36.833669Z"
    },
    "lines_to_next_cell": 1,
    "papermill": {
     "duration": 0.030368,
     "end_time": "2024-04-18T14:41:36.836025",
     "exception": false,
     "start_time": "2024-04-18T14:41:36.805657",
     "status": "completed"
    },
    "tags": []
   },
   "outputs": [
    {
     "data": {
      "text/plain": [
       "[1, 2, 5, 3, 4, None, None, None, None, None, None]"
      ]
     },
     "execution_count": 39,
     "metadata": {},
     "output_type": "execute_result"
    }
   ],
   "source": [
    "# Optimal: https://leetcode.com/problems/construct-binary-tree-from-inorder-and-postorder-traversal/submissions/1230778263/\n",
    "def buildTreeFromPostorderOptimal(inorder: list[int], postorder: list[int]) -> BinaryTreeNode|None:\n",
    "    \"\"\"\n",
    "    Same logic as above, use a hashmap to precompute the indices for inorder.\n",
    "    \"\"\"\n",
    "    N = len(inorder)\n",
    "    hm: dict[int, int] = dict()\n",
    "    for i, n in enumerate(inorder):\n",
    "        hm[n] = i\n",
    "\n",
    "    def helper(iStart: int, iEnd: int, pStart, pEnd: int) -> BinaryTreeNode|None:\n",
    "        root = BinaryTreeNode(postorder[pEnd]) if pStart <= pEnd else None\n",
    "        if root and pStart < pEnd:\n",
    "            idx = hm[root.val]\n",
    "            root.left = helper(iStart, idx - 1, pStart, pStart + idx - iStart - 1)\n",
    "            root.right = helper(idx + 1, iEnd, pStart + idx - iStart, pEnd - 1)\n",
    "        return root\n",
    "\n",
    "    return helper(0, N - 1, 0, N - 1)\n",
    "\n",
    "# Testing the solution\n",
    "buildTreeFromPostorderOptimal(inorder=[3, 2, 4, 1, 5], postorder=[3, 4, 2, 5, 1]).to_list()"
   ]
  },
  {
   "cell_type": "markdown",
   "id": "4a30f23a",
   "metadata": {
    "papermill": {
     "duration": 0.017889,
     "end_time": "2024-04-18T14:41:36.872052",
     "exception": false,
     "start_time": "2024-04-18T14:41:36.854163",
     "status": "completed"
    },
    "tags": []
   },
   "source": [
    "Video Link: https://youtu.be/-YbXySKJsX8?si=GF9GnCHLV1gDfcWK\n",
    "Serialize and Deserialize Binary Trees"
   ]
  },
  {
   "cell_type": "code",
   "execution_count": 40,
   "id": "b286bec0",
   "metadata": {
    "execution": {
     "iopub.execute_input": "2024-04-18T14:41:36.909352Z",
     "iopub.status.busy": "2024-04-18T14:41:36.908691Z",
     "iopub.status.idle": "2024-04-18T14:41:36.920449Z",
     "shell.execute_reply": "2024-04-18T14:41:36.919798Z"
    },
    "lines_to_next_cell": 1,
    "papermill": {
     "duration": 0.032069,
     "end_time": "2024-04-18T14:41:36.922063",
     "exception": false,
     "start_time": "2024-04-18T14:41:36.889994",
     "status": "completed"
    },
    "tags": []
   },
   "outputs": [],
   "source": [
    "# https://leetcode.com/problems/serialize-and-deserialize-binary-tree/submissions/1230819565\n",
    "class Codec:\n",
    "    def serialize(self, root: BinaryTreeNode) -> str:\n",
    "        \"\"\"Encodes a tree to a single string.\"\"\"\n",
    "        def helper(curr: BinaryTreeNode) -> str:\n",
    "            if not curr:\n",
    "                return \"*\"\n",
    "            else:\n",
    "                return f\"{curr.val}({helper(curr.left)},{helper(curr.right)})\"\n",
    "\n",
    "        result = helper(root)\n",
    "        return result\n",
    "\n",
    "    def deserialize(self, data: str) -> BinaryTreeNode|None:\n",
    "        \"\"\"Decodes your encoded data to tree.\"\"\"\n",
    "        def createTree(prev: BinaryTreeNode|str|None) -> BinaryTreeNode|None:\n",
    "            if type(prev) == str:\n",
    "                return BinaryTreeNode(int(prev)) if prev.isdigit() or prev[0] == '-' else None\n",
    "            else:\n",
    "                return prev # type: ignore\n",
    "\n",
    "        stack: list[str|None|BinaryTreeNode] = []\n",
    "        for ch in data:\n",
    "            if ch.isdigit() and stack and type(stack[-1]) == str and (stack[-1].isdigit() or stack[-1][0] == '-'):\n",
    "                stack[-1] += ch\n",
    "            else:\n",
    "                stack.append(ch)\n",
    "                if ch == ')':\n",
    "                    stack.pop() # )\n",
    "                    right = createTree(stack.pop())\n",
    "                    stack.pop() # ,\n",
    "                    left = createTree(stack.pop())\n",
    "                    stack.pop() # (\n",
    "                    root = createTree(stack.pop())\n",
    "                    if root:\n",
    "                        root.left = left\n",
    "                        root.right = right\n",
    "                    stack.append(root)\n",
    "\n",
    "        return stack[0] if type(stack[0]) != str else None\n",
    "\n",
    "# Your Codec object will be instantiated and called as such:\n",
    "ser = Codec()\n",
    "out = ser.deserialize(ser.serialize(BinaryTreeNode.from_array([1,2,-13,None,None,4,25])))\n",
    "out_lst = out.to_list() if out is not None else []\n",
    "while out_lst and out_lst[-1] is None: out_lst.pop()\n",
    "assert out_lst == [1,2,-13,None,None,4,25]"
   ]
  },
  {
   "cell_type": "code",
   "execution_count": 41,
   "id": "ec2dd2db",
   "metadata": {
    "execution": {
     "iopub.execute_input": "2024-04-18T14:41:36.960207Z",
     "iopub.status.busy": "2024-04-18T14:41:36.959758Z",
     "iopub.status.idle": "2024-04-18T14:41:36.970186Z",
     "shell.execute_reply": "2024-04-18T14:41:36.969372Z"
    },
    "lines_to_next_cell": 1,
    "papermill": {
     "duration": 0.031708,
     "end_time": "2024-04-18T14:41:36.971845",
     "exception": false,
     "start_time": "2024-04-18T14:41:36.940137",
     "status": "completed"
    },
    "tags": []
   },
   "outputs": [],
   "source": [
    "# Problem link: https://leetcode.com/problems/serialize-and-deserialize-binary-tree/submissions/1231115438/\n",
    "class CodecStriver:\n",
    "    def serialize(self, root: BinaryTreeNode) -> str:\n",
    "        all_nodes: list[str] = []\n",
    "        queue: list[BinaryTreeNode] = [root]\n",
    "        while queue:\n",
    "            next_: list[BinaryTreeNode] = []\n",
    "            for curr in queue:\n",
    "                all_nodes.append(str(curr.val) if curr else '*')\n",
    "                if curr:\n",
    "                    next_.append(curr.left)\n",
    "                    next_.append(curr.right)\n",
    "\n",
    "            queue = next_\n",
    "\n",
    "        return ','.join(all_nodes)\n",
    "\n",
    "    def deserialize(self, data: str) -> BinaryTreeNode|None:\n",
    "        all_nodes: list[BinaryTreeNode] = []\n",
    "        idx: float = -1\n",
    "        for curr_val in data.split(','):\n",
    "            curr = BinaryTreeNode(int(curr_val)) if curr_val != '*' else None\n",
    "            if curr:\n",
    "                all_nodes.append(curr)\n",
    "            if idx == -1:\n",
    "                idx += 1\n",
    "            elif int(idx) == idx:\n",
    "                all_nodes[int(idx)].left = curr\n",
    "                idx += 0.5\n",
    "            else:\n",
    "                all_nodes[int(idx)].right = curr\n",
    "                idx += 0.5\n",
    "\n",
    "        return all_nodes[0] if all_nodes else None\n",
    "\n",
    "# Your Codec object will be instantiated and called as such:\n",
    "ser_ = CodecStriver()\n",
    "out = ser_.deserialize(ser_.serialize(BinaryTreeNode.from_array([1,2,-13,None,None,4,25])))\n",
    "out_lst = out.to_list() if out is not None else []\n",
    "while out_lst and out_lst[-1] is None: out_lst.pop()\n",
    "assert out_lst == [1,2,-13,None,None,4,25]"
   ]
  },
  {
   "cell_type": "markdown",
   "id": "611bda3a",
   "metadata": {
    "papermill": {
     "duration": 0.019383,
     "end_time": "2024-04-18T14:41:37.011584",
     "exception": false,
     "start_time": "2024-04-18T14:41:36.992201",
     "status": "completed"
    },
    "tags": []
   },
   "source": [
    "Morris traversal of Binary Tree\n",
    "Video Link: https://youtu.be/80Zug6D1_r4?si=Npe19WIqtFI_aa5c\n",
    "Advantage is that while it consumes O(N) time, it only takes up O(1) space"
   ]
  },
  {
   "cell_type": "code",
   "execution_count": 42,
   "id": "22ad4618",
   "metadata": {
    "execution": {
     "iopub.execute_input": "2024-04-18T14:41:37.049397Z",
     "iopub.status.busy": "2024-04-18T14:41:37.048629Z",
     "iopub.status.idle": "2024-04-18T14:41:37.055827Z",
     "shell.execute_reply": "2024-04-18T14:41:37.055080Z"
    },
    "lines_to_next_cell": 1,
    "papermill": {
     "duration": 0.028292,
     "end_time": "2024-04-18T14:41:37.057725",
     "exception": false,
     "start_time": "2024-04-18T14:41:37.029433",
     "status": "completed"
    },
    "tags": []
   },
   "outputs": [],
   "source": [
    "def morris_preorder(root: BinaryTreeNode) -> list[int]:\n",
    "    curr: BinaryTreeNode = root\n",
    "    preorder: list[int] = []\n",
    "    while curr:\n",
    "        # We are at root node\n",
    "        if not curr.left:\n",
    "            preorder.append(curr.val)\n",
    "            curr = curr.right\n",
    "\n",
    "        # Create a thread on the right most guy in the left subtree to point to curr\n",
    "        else:\n",
    "            prev: BinaryTreeNode = curr.left\n",
    "            while prev.right and prev.right != curr:\n",
    "                prev = prev.right\n",
    "\n",
    "            # Thread doesn't already exist, create a thread add curr to stack and move left\n",
    "            if not prev.right:\n",
    "                prev.right = curr\n",
    "                preorder.append(curr.val)\n",
    "                curr = curr.left\n",
    "\n",
    "            # Thread already exists, remove thread and move to right\n",
    "            else:\n",
    "                prev.right = None\n",
    "                curr = curr.right\n",
    "\n",
    "    return preorder\n",
    "\n",
    "# Testing the solution\n",
    "temp = BinaryTreeNode.from_array([1, 2, 3, 4, None, 5, 6])\n",
    "assert preorderIter(temp) == morris_preorder(temp)"
   ]
  },
  {
   "cell_type": "code",
   "execution_count": 43,
   "id": "f115e204",
   "metadata": {
    "execution": {
     "iopub.execute_input": "2024-04-18T14:41:37.095284Z",
     "iopub.status.busy": "2024-04-18T14:41:37.094641Z",
     "iopub.status.idle": "2024-04-18T14:41:37.102014Z",
     "shell.execute_reply": "2024-04-18T14:41:37.101365Z"
    },
    "lines_to_next_cell": 1,
    "papermill": {
     "duration": 0.027796,
     "end_time": "2024-04-18T14:41:37.103610",
     "exception": false,
     "start_time": "2024-04-18T14:41:37.075814",
     "status": "completed"
    },
    "tags": []
   },
   "outputs": [],
   "source": [
    "def morris_inorder(root: BinaryTreeNode) -> list[int]:\n",
    "    curr: BinaryTreeNode = root\n",
    "    inorder: list[int] = []\n",
    "    while curr:\n",
    "        if not curr.left:\n",
    "            inorder.append(curr.val)\n",
    "            curr = curr.right\n",
    "        else:\n",
    "            prev: BinaryTreeNode = curr.left\n",
    "            while prev.right and prev.right != curr:\n",
    "                prev = prev.right\n",
    "\n",
    "            if not prev.right:\n",
    "                prev.right = curr\n",
    "                curr = curr.left\n",
    "            else:\n",
    "                prev.right = None\n",
    "                inorder.append(curr.val)\n",
    "                curr = curr.right\n",
    "\n",
    "    return inorder\n",
    "\n",
    "# Testing the solution\n",
    "temp = BinaryTreeNode.from_array([1, None, 2, 3, 4, 5, None, None, None, 3])\n",
    "assert inorderIter(temp) == morris_inorder(temp)"
   ]
  },
  {
   "cell_type": "markdown",
   "id": "d5feea81",
   "metadata": {
    "papermill": {
     "duration": 0.017615,
     "end_time": "2024-04-18T14:41:37.139049",
     "exception": false,
     "start_time": "2024-04-18T14:41:37.121434",
     "status": "completed"
    },
    "tags": []
   },
   "source": [
    "Video Link: https://youtu.be/sWf7k1x9XR4?si=6Fdn4oo2ryFIdqpg\n",
    "Flatten a binary tree into a linked list"
   ]
  },
  {
   "cell_type": "code",
   "execution_count": 44,
   "id": "023ec163",
   "metadata": {
    "execution": {
     "iopub.execute_input": "2024-04-18T14:41:37.176256Z",
     "iopub.status.busy": "2024-04-18T14:41:37.175705Z",
     "iopub.status.idle": "2024-04-18T14:41:37.184544Z",
     "shell.execute_reply": "2024-04-18T14:41:37.183807Z"
    },
    "lines_to_next_cell": 1,
    "papermill": {
     "duration": 0.02931,
     "end_time": "2024-04-18T14:41:37.186248",
     "exception": false,
     "start_time": "2024-04-18T14:41:37.156938",
     "status": "completed"
    },
    "tags": []
   },
   "outputs": [
    {
     "data": {
      "text/plain": [
       "[1, None, 2, None, 3, None, 4, None, 5, None, 6, None, None]"
      ]
     },
     "execution_count": 44,
     "metadata": {},
     "output_type": "execute_result"
    }
   ],
   "source": [
    "# Problem Link: https://leetcode.com/problems/flatten-binary-tree-to-linked-list/submissions/1231697617\n",
    "def flatten(root: BinaryTreeNode) -> None:\n",
    "    def backtrack(curr: BinaryTreeNode) -> tuple[BinaryTreeNode|None, BinaryTreeNode|None]:\n",
    "        \"Flattens and returns root and the right most node\"\n",
    "        if not curr:\n",
    "            return (None, None)\n",
    "        else:\n",
    "            left_root, left_right = backtrack(curr.left)\n",
    "            right_root, right_right = backtrack(curr.right)\n",
    "            curr.left = None\n",
    "            if left_root and left_right:\n",
    "                curr.right = left_root\n",
    "                left_right.right = right_root\n",
    "\n",
    "            return curr, right_right if right_root else left_right if left_root else curr\n",
    "\n",
    "    backtrack(root)\n",
    "\n",
    "# Testing the solution\n",
    "temp = BinaryTreeNode.from_array([1,2,5,3,4,None,6])\n",
    "flatten(temp)\n",
    "temp.to_list()"
   ]
  },
  {
   "cell_type": "code",
   "execution_count": 45,
   "id": "49e59c7c",
   "metadata": {
    "execution": {
     "iopub.execute_input": "2024-04-18T14:41:37.223706Z",
     "iopub.status.busy": "2024-04-18T14:41:37.223054Z",
     "iopub.status.idle": "2024-04-18T14:41:37.231304Z",
     "shell.execute_reply": "2024-04-18T14:41:37.230609Z"
    },
    "lines_to_next_cell": 1,
    "papermill": {
     "duration": 0.028518,
     "end_time": "2024-04-18T14:41:37.232946",
     "exception": false,
     "start_time": "2024-04-18T14:41:37.204428",
     "status": "completed"
    },
    "tags": []
   },
   "outputs": [
    {
     "data": {
      "text/plain": [
       "[1, None, 2, None, 3, None, 4, None, 5, None, 6, None, None]"
      ]
     },
     "execution_count": 45,
     "metadata": {},
     "output_type": "execute_result"
    }
   ],
   "source": [
    "# https://leetcode.com/problems/flatten-binary-tree-to-linked-list/submissions/1232051009\n",
    "def flattenStriverBacktrack(root: BinaryTreeNode):\n",
    "    \"\"\"\n",
    "    Idea is to use a reverse post order: Right, Left, Root.\n",
    "    Prev variable contains the right node connection for curr node to make.\n",
    "    \"\"\"\n",
    "    def backtrack(curr: BinaryTreeNode, prev: BinaryTreeNode):\n",
    "        if curr:\n",
    "            prev = backtrack(curr.right, prev)\n",
    "            prev = backtrack(curr.left, prev)\n",
    "            curr.left = None\n",
    "            curr.right = prev\n",
    "\n",
    "        return curr if curr else prev\n",
    "\n",
    "    backtrack(root, None)\n",
    "\n",
    "# Testing the solution\n",
    "temp = BinaryTreeNode.from_array([1,2,5,3,4,None,6])\n",
    "flattenStriverBacktrack(temp)\n",
    "temp.to_list()"
   ]
  },
  {
   "cell_type": "code",
   "execution_count": 46,
   "id": "e4a662da",
   "metadata": {
    "execution": {
     "iopub.execute_input": "2024-04-18T14:41:37.270643Z",
     "iopub.status.busy": "2024-04-18T14:41:37.270039Z",
     "iopub.status.idle": "2024-04-18T14:41:37.278236Z",
     "shell.execute_reply": "2024-04-18T14:41:37.277523Z"
    },
    "papermill": {
     "duration": 0.028712,
     "end_time": "2024-04-18T14:41:37.279891",
     "exception": false,
     "start_time": "2024-04-18T14:41:37.251179",
     "status": "completed"
    },
    "tags": []
   },
   "outputs": [
    {
     "data": {
      "text/plain": [
       "[1, None, 2, None, 3, None, 4, None, 5, None, 6, None, None]"
      ]
     },
     "execution_count": 46,
     "metadata": {},
     "output_type": "execute_result"
    }
   ],
   "source": [
    "def flattenStriverIter(root: BinaryTreeNode):\n",
    "    \"Same as code above but using stack\"\n",
    "    stack: list[BinaryTreeNode] = [root]\n",
    "    while stack:\n",
    "        curr = stack.pop()\n",
    "        if curr.right:\n",
    "            stack.append(curr.right)\n",
    "        if curr.left:\n",
    "            stack.append(curr.left)\n",
    "        curr.left = None\n",
    "        if stack:\n",
    "            curr.right = stack[-1]\n",
    "\n",
    "# Testing the solution\n",
    "temp = BinaryTreeNode.from_array([1,2,5,3,4,None,6])\n",
    "flattenStriverIter(temp)\n",
    "temp.to_list()"
   ]
  }
 ],
 "metadata": {
  "kernelspec": {
   "display_name": "Python 3 (ipykernel)",
   "language": "python",
   "name": "python3"
  },
  "language_info": {
   "codemirror_mode": {
    "name": "ipython",
    "version": 3
   },
   "file_extension": ".py",
   "mimetype": "text/x-python",
   "name": "python",
   "nbconvert_exporter": "python",
   "pygments_lexer": "ipython3",
   "version": "3.10.14"
  },
  "papermill": {
   "default_parameters": {},
   "duration": 4.500982,
   "end_time": "2024-04-18T14:41:37.414525",
   "environment_variables": {},
   "exception": null,
   "input_path": "study/striver-A2Z/10-trees.ipynb",
   "output_path": "study/striver-A2Z/10-trees.ipynb",
   "parameters": {},
   "start_time": "2024-04-18T14:41:32.913543",
   "version": "2.5.0"
  }
 },
 "nbformat": 4,
 "nbformat_minor": 5
}