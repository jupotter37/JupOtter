{
 "cells": [
  {
   "cell_type": "markdown",
   "id": "e4a24df9-4879-4896-8c64-10a465a24935",
   "metadata": {},
   "source": [
    "### 1. Insertion and Deletion in simple queue"
   ]
  },
  {
   "cell_type": "code",
   "execution_count": 1,
   "id": "62789b76-ce79-49eb-b141-8fae8568da98",
   "metadata": {},
   "outputs": [
    {
     "name": "stdout",
     "output_type": "stream",
     "text": [
      "10 enqueued\n",
      "20 enqueued\n",
      "10 dequeued\n",
      "30 enqueued\n",
      "20 dequeued\n",
      "30 dequeued\n",
      "Queue is empty\n",
      "30 enqueued\n",
      "Queue contents: [30]\n"
     ]
    }
   ],
   "source": [
    "class SimpleQueue:\n",
    "    def __init__(self, capacity):\n",
    "        self.queue = [None] * capacity  \n",
    "        self.front = 0                 \n",
    "        self.rear = -1                  \n",
    "        self.capacity = capacity       \n",
    "        self.size = 0                   \n",
    "\n",
    "    def is_full(self):\n",
    "        return self.size == self.capacity\n",
    "    def is_empty(self):\n",
    "        return self.size == 0\n",
    "    def enqueue(self, item):\n",
    "        if self.is_full():\n",
    "            print(\"Queue is full\")  \n",
    "            return\n",
    "        self.rear += 1               \n",
    "        self.queue[self.rear] = item  \n",
    "        self.size += 1               \n",
    "        print(f\"{item} enqueued\")\n",
    "    def dequeue(self):\n",
    "        if self.is_empty():\n",
    "            print(\"Queue is empty\")  \n",
    "            return None\n",
    "        item = self.queue[self.front]  \n",
    "        self.queue[self.front] = None   # Optional: Clear the dequeued spot\n",
    "        self.front += 1                \n",
    "        self.size -= 1                          \n",
    "        # Reset front and rear if the queue becomes empty\n",
    "        if self.is_empty():\n",
    "            self.front = 0\n",
    "            self.rear = -1           \n",
    "        print(f\"{item} dequeued\")\n",
    "        return item\n",
    "    def peek(self):\n",
    "        if self.is_empty():\n",
    "            print(\"Queue is empty\")\n",
    "            return None\n",
    "        return self.queue[self.front]\n",
    "    def display(self):\n",
    "        if self.is_empty():\n",
    "            print(\"Queue is empty\")\n",
    "        else:\n",
    "            print(\"Queue contents:\", self.queue[self.front:self.rear + 1])\n",
    "queue = SimpleQueue(3)\n",
    "queue.enqueue(10)   \n",
    "queue.enqueue(20)    \n",
    "queue.dequeue()        \n",
    "queue.enqueue(30) \n",
    "queue.dequeue() \n",
    "queue.dequeue() \n",
    "queue.dequeue() \n",
    "queue.enqueue(30) \n",
    "# queue.enqueue(70)  \n",
    "queue.display()        "
   ]
  },
  {
   "cell_type": "markdown",
   "id": "5c864e2a-cc01-4e9b-9001-1d163a786cd5",
   "metadata": {},
   "source": [
    "### 2. Insertion and Deletion in Circular queue"
   ]
  },
  {
   "cell_type": "code",
   "execution_count": 2,
   "id": "453f8ad8-7a13-471d-80d9-249245bc409f",
   "metadata": {},
   "outputs": [
    {
     "name": "stdout",
     "output_type": "stream",
     "text": [
      "10 enqueued\n",
      "20 enqueued\n",
      "10 dequeued\n",
      "30 enqueued\n",
      "50 enqueued\n",
      "Queue contents: 20 30 50 \n",
      "20\n"
     ]
    }
   ],
   "source": [
    "class CircularQueue:\n",
    "    def __init__(self, capacity):\n",
    "        self.queue = [None] * capacity                    \n",
    "        self.front = 0                  \n",
    "        self.rear = -1                  \n",
    "        self.capacity = capacity        \n",
    "        self.size = 0                        \n",
    "    def is_full(self):\n",
    "        return self.size == self.capacity\n",
    "    def is_empty(self):\n",
    "        return self.size == 0\n",
    "    def enqueue(self, item):\n",
    "        if self.is_full():\n",
    "            print(\"Queue is full\")\n",
    "            return\n",
    "        self.rear = (self.rear + 1) % self.capacity     \n",
    "        self.queue[self.rear] = item\n",
    "        self.size += 1\n",
    "        print(f\"{item} enqueued\")\n",
    "    def dequeue(self):\n",
    "        if self.is_empty():\n",
    "            print(\"Queue is empty\")\n",
    "            return None\n",
    "        item = self.queue[self.front]\n",
    "        self.front = (self.front + 1) % self.capacity  \n",
    "        self.size -= 1\n",
    "        # If queue becomes empty, reset front and rear\n",
    "        if self.is_empty():\n",
    "            self.front = 0\n",
    "            self.rear = -1\n",
    "        print(f\"{item} dequeued\")\n",
    "        return item      \n",
    "    def peek(self):\n",
    "        if self.is_empty():\n",
    "            print(\"Queue is empty\")\n",
    "            return None\n",
    "        return self.queue[self.front]\n",
    "        \n",
    "    def display(self):\n",
    "        if self.is_empty():\n",
    "            print(\"Queue is empty\")\n",
    "        else:\n",
    "            print(\"Queue contents:\", end=\" \")\n",
    "            for i in range(self.size):\n",
    "                print(self.queue[(self.front + i) % self.capacity], end=\" \")\n",
    "            print()  # For newline\n",
    "             \n",
    "cq = CircularQueue(3)\n",
    "cq.enqueue(10)\n",
    "cq.enqueue(20)\n",
    "cq.dequeue()\n",
    "cq.enqueue(30)\n",
    "cq.enqueue(50)\n",
    "cq.display() \n",
    "print(cq.peek())     "
   ]
  },
  {
   "cell_type": "markdown",
   "id": "d3158de0-c683-4ba6-8acc-79fac6aaf37f",
   "metadata": {},
   "source": [
    "### 3. Insertion and Deletion in  Dequeue"
   ]
  },
  {
   "cell_type": "code",
   "execution_count": 3,
   "id": "2bc68361-78af-407c-b5df-156848e96bbf",
   "metadata": {},
   "outputs": [
    {
     "name": "stdout",
     "output_type": "stream",
     "text": [
      "Inserted 10 at the rear\n",
      "Inserted 20 at the front\n",
      "Inserted 30 at the rear\n",
      "Deque: [20, 10, 30]\n",
      "Deleted 20 from the front\n",
      "Deleted 30 from the rear\n",
      "Deque: [10]\n"
     ]
    }
   ],
   "source": [
    "class Deque:\n",
    "    def __init__(self, capacity):\n",
    "        self.deque = []\n",
    "        self.capacity = capacity\n",
    "    def is_full(self):\n",
    "        return len(self.deque) == self.capacity\n",
    "    def is_empty(self):\n",
    "        return len(self.deque) == 0\n",
    "    def insert_front(self, item):\n",
    "        if self.is_full():\n",
    "            print(\"Deque is full! Cannot insert at the front.\")\n",
    "        else:\n",
    "            self.deque.insert(0, item)\n",
    "            print(f\"Inserted {item} at the front\")\n",
    "    def insert_rear(self, item):\n",
    "        if self.is_full():\n",
    "            print(\"Deque is full! Cannot insert at the rear.\")\n",
    "        else:\n",
    "            self.deque.append(item)\n",
    "            print(f\"Inserted {item} at the rear\")\n",
    "    def delete_front(self):\n",
    "        if self.is_empty():\n",
    "            print(\"Deque is empty! Cannot delete from the front.\")\n",
    "        else:\n",
    "            item = self.deque.pop(0)\n",
    "            print(f\"Deleted {item} from the front\")\n",
    "            return item\n",
    "    def delete_rear(self):\n",
    "        if self.is_empty():\n",
    "            print(\"Deque is empty! Cannot delete from the rear.\")\n",
    "        else:\n",
    "            item = self.deque.pop()\n",
    "            print(f\"Deleted {item} from the rear\")\n",
    "            return item\n",
    "    def display(self):\n",
    "        print(\"Deque:\", self.deque)\n",
    "\n",
    "dq = Deque(5)\n",
    "dq.insert_rear(10)\n",
    "dq.insert_front(20)\n",
    "dq.insert_rear(30)\n",
    "dq.display()\n",
    "dq.delete_front()\n",
    "dq.delete_rear()\n",
    "dq.display()"
   ]
  },
  {
   "cell_type": "markdown",
   "id": "e4acf4db-1a64-4238-ae8e-46918fdd4fe2",
   "metadata": {},
   "source": [
    "### 4. Insertion and Deletion in Priority queue"
   ]
  },
  {
   "cell_type": "code",
   "execution_count": 4,
   "id": "bae7031d-112a-44d8-aad9-25342315c8ce",
   "metadata": {},
   "outputs": [
    {
     "name": "stdout",
     "output_type": "stream",
     "text": [
      "Enqueued: A with priority 3\n",
      "Enqueued: B with priority 1\n",
      "Enqueued: C with priority 2\n",
      "Priority Queue: [('B', 1), ('A', 3), ('C', 2)]\n",
      "Dequeued: B with priority 1\n",
      "Priority Queue: [('C', 2), ('A', 3)]\n"
     ]
    }
   ],
   "source": [
    "import heapq\n",
    "class PriorityQueue:\n",
    "    def __init__(self):\n",
    "        self.queue = []\n",
    "\n",
    "    def is_empty(self):\n",
    "        return len(self.queue) == 0\n",
    "\n",
    "    def enqueue(self, item, priority):\n",
    "        heapq.heappush(self.queue, (priority, item))\n",
    "        print(f\"Enqueued: {item} with priority {priority}\")\n",
    "\n",
    "    def dequeue(self):\n",
    "        if self.is_empty():\n",
    "            print(\"Priority Queue is empty! Cannot dequeue.\")\n",
    "        else:\n",
    "            priority, item = heapq.heappop(self.queue)\n",
    "            print(f\"Dequeued: {item} with priority {priority}\")\n",
    "            return item\n",
    "\n",
    "    def display(self):\n",
    "        print(\"Priority Queue:\", [(item, priority) for priority, item in self.queue])\n",
    "\n",
    "pq = PriorityQueue()\n",
    "pq.enqueue('A', 3)\n",
    "pq.enqueue('B', 1)\n",
    "pq.enqueue('C', 2)\n",
    "pq.display()\n",
    "pq.dequeue()\n",
    "pq.display()"
   ]
  },
  {
   "cell_type": "markdown",
   "id": "4f133816-7e61-4189-9918-9d1fe78e9743",
   "metadata": {},
   "source": [
    "## Priority Queue"
   ]
  },
  {
   "cell_type": "markdown",
   "id": "938fecb0-2224-48f6-931c-fdb7f5996a91",
   "metadata": {},
   "source": [
    "### 1. Implement a Priority Queue using Unsorted Array "
   ]
  },
  {
   "cell_type": "code",
   "execution_count": 1,
   "id": "f1a8bf2a-c4d5-49c8-9de1-63b5dc7aa695",
   "metadata": {},
   "outputs": [
    {
     "name": "stdout",
     "output_type": "stream",
     "text": [
      "Priority Queue: [(2, 'task1'), (1, 'task2'), (4, 'task3'), (5, 'task4'), (3, 'task5')]\n",
      "task2\n",
      "task1\n"
     ]
    }
   ],
   "source": [
    "class unsortedArrayPriorityQueue:\n",
    "    def __init__(self):\n",
    "        self.queue = []\n",
    "    \n",
    "    def push(self, item, priority):\n",
    "        self.queue.append((priority, item))                # [(2, 'task1'), (1, 'task2'), (4, 'task3'), (5, 'task4'), (3, 'task5')]\n",
    "    \n",
    "    def pop(self):\n",
    "        if len(self.queue) ==0:                            # or bool(self.queue) == False or self.queue == []  or  if not self.queue:\n",
    "            raise IndexError(\"pop from an empty priority queue\")\n",
    "            \n",
    "        max_priority_index = 0\n",
    "        for i in range(1, len(self.queue)):                          # self.queue[1] --> (1, \"task2\") & self.queue[max_priority_index] == self.queue[0] --> (2, \"task1\").\n",
    "            if self.queue[i][0] < self.queue[max_priority_index][0]: # Since 1 < 2, \"task2\" has a higher priority than \"task1\", so we update max_priority_index to 1 and i=2 and so on...\n",
    "                max_priority_index = i\n",
    "        \n",
    "        return self.queue.pop(max_priority_index)[1]        # delete item which has highest priority in queue --> (1, 'task2'). so, task2 will be deleted\n",
    "    \n",
    "    def peek(self):\n",
    "        if not self.queue:\n",
    "            raise IndexError(\"peek from an empty priority queue\")\n",
    "        max_priority_item = min(self.queue, key=lambda x: x[0])   # key=lambda x: x[0] --> it returns priority of all items and then take min of that\n",
    "        return max_priority_item[1]\n",
    "    \n",
    "    def is_empty(self):\n",
    "        return len(self.queue) == 0\n",
    "\n",
    "    def display(self):\n",
    "        print(\"Priority Queue:\", [(priority, item) for priority, item in self.queue])\n",
    "        \n",
    "\n",
    "pq = unsortedArrayPriorityQueue()\n",
    "pq.push(\"task1\", priority=2)\n",
    "pq.push(\"task2\", priority=1)\n",
    "pq.push(\"task3\", priority=4)\n",
    "pq.push(\"task4\", priority=5)\n",
    "pq.push(\"task5\", priority=3)\n",
    "pq.display()\n",
    "print(pq.pop())\n",
    "print(pq.peek())"
   ]
  },
  {
   "cell_type": "markdown",
   "id": "e6deb5f9-9b56-4acf-b7de-6f1023f0f26e",
   "metadata": {},
   "source": [
    "### 2. Implement a Priority Queue using sorted Array"
   ]
  },
  {
   "cell_type": "code",
   "execution_count": 16,
   "id": "6eaf9f49-dfef-49e8-8752-32015eb389c3",
   "metadata": {},
   "outputs": [
    {
     "name": "stdout",
     "output_type": "stream",
     "text": [
      "Priority Queue: [(1, 'task2'), (2, 'task1'), (3, 'task5'), (4, 'task3'), (5, 'task4')]\n",
      "task2\n",
      "task1\n"
     ]
    }
   ],
   "source": [
    "class sortedArrayPriorityQueue:\n",
    "    def __init__(self):\n",
    "        self.queue = []\n",
    "    \n",
    "    def push(self, item, priority):             # [(2, 'task1'), (4, 'task3'), (1, 'task2'), (5, 'task4'), (3, 'task5')]\n",
    "        new_element = (priority, item)\n",
    "        for i in range(len(self.queue)):       # when len(queue)==1 then priority of 'task1' and 'task3' compared since 2 not greater than 4 so it comes out loop and insert at second position\n",
    "            if self.queue[i][0] > priority:            # when len(queue)==1 then priority of 'task1' and 'task2' since 2>1 so task2 wil be inserted at 0th position and so on...\n",
    "                self.queue.insert(i, new_element)\n",
    "                return\n",
    "        self.queue.append(new_element)          # Append when len(queue)==0 and if it's the lowest priority\n",
    "                                                # after pushing last item it will get sorted like this --> [(1, 'task2'), (2, 'task1'), (3, 'task5'), (4, 'task3'), (5, 'task4')]    \n",
    "    def pop(self):\n",
    "        if not self.queue:\n",
    "            raise IndexError(\"pop from an empty priority queue\")\n",
    "        return self.queue.pop(0)[1]\n",
    "    \n",
    "    def peek(self):\n",
    "        if not self.queue:\n",
    "            raise IndexError(\"peek from an empty priority queue\")\n",
    "        return self.queue[0][1]\n",
    "    \n",
    "    def is_empty(self):\n",
    "        return len(self.queue) == 0\n",
    "        \n",
    "    def display(self):\n",
    "        print(\"Priority Queue:\", [(priority, item) for priority, item in self.queue])\n",
    "        \n",
    "\n",
    "pq = sortedArrayPriorityQueue()\n",
    "pq.push(\"task1\", priority=2)\n",
    "pq.push(\"task3\", priority=4)\n",
    "pq.push(\"task2\", priority=1)\n",
    "pq.push(\"task4\", priority=5)\n",
    "pq.push(\"task5\", priority=3)\n",
    "pq.display()\n",
    "print(pq.pop())\n",
    "print(pq.peek())\n"
   ]
  },
  {
   "cell_type": "markdown",
   "id": "2802794f-c37b-469c-a158-0a7629faffc0",
   "metadata": {},
   "source": [
    "### 3. Implement a Priority Queue using Unsorted Linked List"
   ]
  },
  {
   "cell_type": "code",
   "execution_count": 20,
   "id": "72019535-45f2-49b6-b76b-5961a1659188",
   "metadata": {},
   "outputs": [
    {
     "name": "stdout",
     "output_type": "stream",
     "text": [
      "Head -> (\"task5\", 3) -> (\"task4\", 5) -> (\"task2\", 1) -> (\"task3\", 4) -> (\"task1\", 2) -> None\n",
      "Popped item: task2\n",
      "Peeked item: task1\n"
     ]
    }
   ],
   "source": [
    "class Node:\n",
    "    def __init__(self, priority, item):\n",
    "        self.priority = priority\n",
    "        self.item = item\n",
    "        self.next = None\n",
    "\n",
    "class UnsortedLinkedPriority:\n",
    "    def __init__(self):\n",
    "        self.head = None\n",
    "    \n",
    "    def push(self, item, priority):         # Head -> (\"task5\", 3) -> (\"task4\", 5) -> (\"task2\", 1) -> (\"task3\", 4) -> (\"task1\", 2) -> None\n",
    "        new_node = Node(priority, item)     # 1st item --> (\"task1\", 2) is head node and when 2nd item come then it become head node and when 3rd node come then it become head node and so on...\n",
    "        new_node.next = self.head\n",
    "        self.head = new_node\n",
    "    \n",
    "    def pop(self):\n",
    "        if not self.head:\n",
    "            raise IndexError(\"pop from an empty priority queue\")\n",
    "        \n",
    "        max_priority_node = self.head\n",
    "        max_priority_prev = None\n",
    "        prev = None\n",
    "        current = self.head\n",
    "\n",
    "        while current is not None:             # after iterating over list we get max_priority_node==(\"task2\", 1), max_priority_prev==(\"task4\", 5), prev==(\"task1\", 2)\n",
    "            if current.priority < max_priority_node.priority:    \n",
    "                max_priority_node = current\n",
    "                max_priority_prev = prev\n",
    "            prev = current\n",
    "            current = current.next\n",
    "\n",
    "        if max_priority_prev is not None:\n",
    "            max_priority_prev.next = max_priority_node.next\n",
    "        else:\n",
    "            self.head = max_priority_node.next\n",
    "\n",
    "        return max_priority_node.item\n",
    "    \n",
    "    def peek(self):\n",
    "        if not self.head:\n",
    "            raise IndexError(\"peek from an empty priority queue\")\n",
    "\n",
    "        max_priority_node = self.head\n",
    "        current = self.head\n",
    "\n",
    "        while current:\n",
    "            if current.priority < max_priority_node.priority:\n",
    "                max_priority_node = current\n",
    "            current = current.next\n",
    "        \n",
    "        return max_priority_node.item\n",
    "    \n",
    "    def is_empty(self):\n",
    "        return self.head is None\n",
    "\n",
    "    def display(self):\n",
    "        current = self.head\n",
    "        elements = []\n",
    "        while current:\n",
    "            elements.append(f'(\"{current.item}\", {current.priority})')\n",
    "            current = current.next\n",
    "        print(\"Head -> \" + \" -> \".join(elements) + \" -> None\")\n",
    "        \n",
    "pq = UnsortedLinkedPriority()\n",
    "pq.push(\"task1\", priority=2)\n",
    "pq.push(\"task3\", priority=4)\n",
    "pq.push(\"task2\", priority=1)\n",
    "pq.push(\"task4\", priority=5)\n",
    "pq.push(\"task5\", priority=3)\n",
    "pq.display()\n",
    "print(\"Popped item:\", pq.pop())  \n",
    "print(\"Peeked item:\", pq.peek())"
   ]
  },
  {
   "cell_type": "markdown",
   "id": "38d3525a-9125-46df-8ac1-5fb690727121",
   "metadata": {},
   "source": [
    "### 4. Implement a Priority Queue using sorted Linked List"
   ]
  },
  {
   "cell_type": "code",
   "execution_count": 27,
   "id": "e315c4cf-edd7-4e54-a6d1-1e0dcf8b143c",
   "metadata": {},
   "outputs": [
    {
     "name": "stdout",
     "output_type": "stream",
     "text": [
      "Head -> (\"task2\", 1) -> (\"task1\", 2) -> (\"task5\", 3) -> (\"task3\", 4) -> (\"task4\", 5) -> None\n",
      "Popped item: task2\n",
      "Peeked item: task1\n"
     ]
    }
   ],
   "source": [
    "class sortedLinkedPriority:\n",
    "    def __init__(self):\n",
    "        self.head = None\n",
    "    \n",
    "    def push(self, item, priority):\n",
    "        new_node = Node(priority, item)\n",
    "        \n",
    "        # If the list is empty or new node has the highest priority\n",
    "        if self.head is None or self.head.priority > priority: \n",
    "            new_node.next = self.head          # when no node is there -- Head -> (\"task1\", 2) -> None\n",
    "            self.head = new_node                  \n",
    "        else:\n",
    "            # Traverse to find the insertion point\n",
    "            current = self.head\n",
    "            while current.next is not None  and current.next.priority <= priority:   # When there are more than two nodes: The while loop runs until it finds the correct insertion point based on the priorities.\n",
    "                current = current.next            \n",
    "            new_node.next = current.next          # when only one node is there \n",
    "            current.next = new_node\n",
    "    \n",
    "    def pop(self):\n",
    "        if not self.head:\n",
    "            raise IndexError(\"pop from an empty priority queue\")\n",
    "        \n",
    "        max_priority_item = self.head.item\n",
    "        self.head = self.head.next\n",
    "        return max_priority_item\n",
    "    \n",
    "    def peek(self):\n",
    "        if not self.head:\n",
    "            raise IndexError(\"peek from an empty priority queue\")\n",
    "        return self.head.item\n",
    "    \n",
    "    def is_empty(self):\n",
    "        return self.head is None\n",
    "\n",
    "    def display(self):\n",
    "        current = self.head\n",
    "        elements = []\n",
    "        while current:\n",
    "            elements.append(f'(\"{current.item}\", {current.priority})')\n",
    "            current = current.next\n",
    "        print(\"Head -> \" + \" -> \".join(elements) + \" -> None\")\n",
    "        \n",
    "pq = sortedLinkedPriority()\n",
    "pq.push(\"task1\", priority=2)\n",
    "pq.push(\"task3\", priority=4)\n",
    "pq.push(\"task2\", priority=1)\n",
    "pq.push(\"task4\", priority=5)\n",
    "pq.push(\"task5\", priority=3)\n",
    "pq.display()\n",
    "print(\"Popped item:\", pq.pop())  \n",
    "print(\"Peeked item:\", pq.peek())\n"
   ]
  },
  {
   "cell_type": "markdown",
   "id": "62e03ad2-a0ff-4bd0-9b12-7baeffa02a36",
   "metadata": {},
   "source": [
    "### 5. Implement a Priority Queue using heap"
   ]
  },
  {
   "cell_type": "code",
   "execution_count": 31,
   "id": "00a10ca8-60aa-49c0-8f3f-5f7f14488852",
   "metadata": {},
   "outputs": [
    {
     "name": "stdout",
     "output_type": "stream",
     "text": [
      "Priority Queue: [(1, 'task2'), (3, 'task5'), (2, 'task1'), (5, 'task4'), (4, 'task3')]\n",
      "Popped item: task2\n",
      "Peeked item: task1\n"
     ]
    }
   ],
   "source": [
    "import heapq\n",
    "\n",
    "class PriorityQueue:\n",
    "    def __init__(self):\n",
    "        self.heap = []\n",
    "    \n",
    "    def push(self, item, priority):\n",
    "        heapq.heappush(self.heap, (priority, item))\n",
    "    \n",
    "    def pop(self):\n",
    "        if not self.heap:\n",
    "            raise IndexError(\"pop from an empty priority queue\")\n",
    "        return heapq.heappop(self.heap)[1]\n",
    "    \n",
    "    def peek(self):\n",
    "        if not self.heap:\n",
    "            raise IndexError(\"peek from an empty priority queue\")\n",
    "        return self.heap[0][1]\n",
    "    \n",
    "    def is_empty(self):\n",
    "        return len(self.heap) == 0\n",
    "\n",
    "    def display(self):\n",
    "        print(\"Priority Queue:\", [(priority, item) for priority, item in self.heap])\n",
    "\n",
    "pq = PriorityQueue()\n",
    "pq.push(\"task1\", priority=2)\n",
    "pq.push(\"task3\", priority=4)\n",
    "pq.push(\"task2\", priority=1)\n",
    "pq.push(\"task4\", priority=5)\n",
    "pq.push(\"task5\", priority=3)\n",
    "pq.display()\n",
    "print(\"Popped item:\", pq.pop())  \n",
    "print(\"Peeked item:\", pq.peek())"
   ]
  },
  {
   "cell_type": "markdown",
   "id": "70e74178-6702-481c-b12f-a9c498b35492",
   "metadata": {},
   "source": []
  },
  {
   "cell_type": "code",
   "execution_count": null,
   "id": "7205a687-1e1f-44c8-9f74-05d70fa94019",
   "metadata": {},
   "outputs": [],
   "source": []
  },
  {
   "cell_type": "code",
   "execution_count": null,
   "id": "eceeb6aa-f5af-41c8-8b1a-03779641d4bf",
   "metadata": {},
   "outputs": [],
   "source": []
  },
  {
   "cell_type": "code",
   "execution_count": null,
   "id": "6d231f83-9714-4ab4-a39c-d6b0d162ca02",
   "metadata": {},
   "outputs": [],
   "source": []
  },
  {
   "cell_type": "markdown",
   "id": "e30e0161-02e1-454f-80bb-50b8de73771c",
   "metadata": {},
   "source": [
    "### 5. Implementations of Queue using Arrays"
   ]
  },
  {
   "cell_type": "code",
   "execution_count": null,
   "id": "a7a393ce-a5a4-4501-a02e-3d5222870d08",
   "metadata": {},
   "outputs": [],
   "source": []
  },
  {
   "cell_type": "markdown",
   "id": "408f1e8b-d4b7-4c37-b044-8e1ebb813f55",
   "metadata": {},
   "source": [
    "### 6. Implementations of Queue using Linked List"
   ]
  },
  {
   "cell_type": "code",
   "execution_count": null,
   "id": "8df52f8b-46eb-45a1-8c2b-2381fb1fa0a0",
   "metadata": {},
   "outputs": [],
   "source": []
  },
  {
   "cell_type": "markdown",
   "id": "3a98af24-f9b9-4e16-8867-c3a3ab809875",
   "metadata": {},
   "source": [
    "### 7. Implementations of Queue using Stack"
   ]
  },
  {
   "cell_type": "code",
   "execution_count": null,
   "id": "3066344e-9fce-4a94-a532-d53675be2578",
   "metadata": {},
   "outputs": [],
   "source": []
  },
  {
   "cell_type": "markdown",
   "id": "fabb5bca-38b1-4021-9b0f-f2925d09edff",
   "metadata": {},
   "source": [
    "### 8. Implementation of Deque using doubly linked list"
   ]
  },
  {
   "cell_type": "code",
   "execution_count": null,
   "id": "69c69f37-f08c-4b05-9432-39bbfd520b4f",
   "metadata": {},
   "outputs": [],
   "source": []
  },
  {
   "cell_type": "markdown",
   "id": "75da1162-c0ee-4137-8f04-b0655389f5b8",
   "metadata": {},
   "source": [
    "### 9. Detect cycle in an undirected graph using BFS"
   ]
  },
  {
   "cell_type": "code",
   "execution_count": null,
   "id": "5a7853e0-dc96-416b-b2ed-ec0430e6843e",
   "metadata": {},
   "outputs": [],
   "source": []
  },
  {
   "cell_type": "markdown",
   "id": "b3fe5704-44c0-49b9-98e8-72ef02025ee4",
   "metadata": {},
   "source": [
    "### 10. Breadth First Search or BFS for a Graph using Queue"
   ]
  },
  {
   "cell_type": "code",
   "execution_count": null,
   "id": "a94d9c86-a0b4-4493-b224-1bdd8f7f19cb",
   "metadata": {},
   "outputs": [],
   "source": []
  },
  {
   "cell_type": "code",
   "execution_count": null,
   "id": "945c0d30-88e8-4e0a-b618-709defd82146",
   "metadata": {},
   "outputs": [],
   "source": []
  }
 ],
 "metadata": {
  "kernelspec": {
   "display_name": "Python 3 (ipykernel)",
   "language": "python",
   "name": "python3"
  },
  "language_info": {
   "codemirror_mode": {
    "name": "ipython",
    "version": 3
   },
   "file_extension": ".py",
   "mimetype": "text/x-python",
   "name": "python",
   "nbconvert_exporter": "python",
   "pygments_lexer": "ipython3",
   "version": "3.12.5"
  }
 },
 "nbformat": 4,
 "nbformat_minor": 5
}
