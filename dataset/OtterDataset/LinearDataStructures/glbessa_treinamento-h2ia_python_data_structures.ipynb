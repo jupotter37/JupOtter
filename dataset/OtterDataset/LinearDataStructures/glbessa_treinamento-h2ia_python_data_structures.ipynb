{
 "cells": [
  {
   "cell_type": "markdown",
   "id": "bd4cebf4",
   "metadata": {},
   "source": [
    "# Python data structures (Real Python)"
   ]
  },
  {
   "cell_type": "markdown",
   "id": "5a163233",
   "metadata": {},
   "source": [
    "https://realpython.com/python-data-structures/#sets-and-multisets"
   ]
  },
  {
   "cell_type": "markdown",
   "id": "cd9e2c08",
   "metadata": {},
   "source": [
    "## Dictionaries"
   ]
  },
  {
   "cell_type": "markdown",
   "id": "bd27224f",
   "metadata": {},
   "source": [
    "Python’s dictionaries are indexed by keys that can be of any hashable type. A hashable object has a hash value that never changes during its lifetime (see __hash__), and it can be compared to other objects (see __eq__). Hashable objects that compare as equal must have the same hash value."
   ]
  },
  {
   "cell_type": "markdown",
   "id": "44cb643e",
   "metadata": {},
   "source": [
    "There’s little reason not to use the standard dict implementation included with Python. However, specialized third-party dictionary implementations exist, such as skip lists or B-tree–based dictionaries.\n",
    "\n",
    "Besides plain dict objects, Python’s standard library also includes a number of specialized dictionary implementations. These specialized dictionaries are all based on the built-in dictionary class (and share its performance characteristics) but also include some additional convenience features."
   ]
  },
  {
   "cell_type": "markdown",
   "id": "b6d7f827",
   "metadata": {},
   "source": [
    "### collections.OrderedDict: Remember the Insertion Order of Keys"
   ]
  },
  {
   "cell_type": "code",
   "execution_count": 2,
   "id": "b9298880",
   "metadata": {},
   "outputs": [
    {
     "data": {
      "text/plain": [
       "OrderedDict([('one', 1), ('two', 2), ('three', 3)])"
      ]
     },
     "execution_count": 2,
     "metadata": {},
     "output_type": "execute_result"
    }
   ],
   "source": [
    "import collections\n",
    "dic = collections.OrderedDict(one=1,two=2,three=3)\n",
    "dic"
   ]
  },
  {
   "cell_type": "markdown",
   "id": "6394883b",
   "metadata": {},
   "source": [
    "Until Python 3.8, you couldn’t iterate over dictionary items in reverse order using reversed(). Only OrderedDict instances offered that functionality. Even in Python 3.8, dict and OrderedDict objects aren’t exactly the same. OrderedDict instances have a .move_to_end() method that is unavailable on plain dict instance, as well as a more customizable .popitem() method than the one plain dict instances."
   ]
  },
  {
   "cell_type": "markdown",
   "id": "a5479557",
   "metadata": {},
   "source": [
    "### collections.defaultdict: Return Default Values for Missing Keys"
   ]
  },
  {
   "cell_type": "code",
   "execution_count": 3,
   "id": "f591d212",
   "metadata": {},
   "outputs": [
    {
     "data": {
      "text/plain": [
       "['Rufus', 'Kathrin', 'Mr Sniffles']"
      ]
     },
     "execution_count": 3,
     "metadata": {},
     "output_type": "execute_result"
    }
   ],
   "source": [
    "import collections\n",
    "dd = collections.defaultdict(list)\n",
    "\n",
    "# caso não tenha a chave no dicionario ele cria e inicializa conforme o objeto passado\n",
    "dd[\"dogs\"].append(\"Rufus\")\n",
    "dd[\"dogs\"].append(\"Kathrin\")\n",
    "dd[\"dogs\"].append(\"Mr Sniffles\")\n",
    "\n",
    "dd[\"dogs\"]"
   ]
  },
  {
   "cell_type": "markdown",
   "id": "89535bf9",
   "metadata": {},
   "source": [
    "### collections.ChainMap: Search Multiple Dictionaries as a Single Mapping"
   ]
  },
  {
   "cell_type": "markdown",
   "id": "7bdff6d2",
   "metadata": {},
   "source": [
    "The collections.ChainMap data structure groups multiple dictionaries into a single mapping. Lookups search the underlying mappings one by one until a key is found. Insertions, updates, and deletions only affect the first mapping added to the chain:"
   ]
  },
  {
   "cell_type": "code",
   "execution_count": 7,
   "id": "5044f441",
   "metadata": {},
   "outputs": [
    {
     "name": "stdout",
     "output_type": "stream",
     "text": [
      "ChainMap({'one': 1, 'two': 2}, {'three': 3, 'four': 4})\n",
      "4\n"
     ]
    }
   ],
   "source": [
    "import collections\n",
    "dict1 = {'one':1, 'two':2}\n",
    "dict2 = {'three':3, 'four':4}\n",
    "chain = collections.ChainMap(dict1, dict2)\n",
    "\n",
    "print(chain)\n",
    "\n",
    "print(chain['four'])"
   ]
  },
  {
   "cell_type": "markdown",
   "id": "af1b56f0",
   "metadata": {},
   "source": [
    "### types.MappingProxyType: A Wrapper for Making Read-Only Dictionaries"
   ]
  },
  {
   "cell_type": "markdown",
   "id": "3fe3becb",
   "metadata": {},
   "source": [
    "MappingProxyType is a wrapper around a standard dictionary that provides a read-only view into the wrapped dictionary’s data. This class was added in Python 3.3 and can be used to create immutable proxy versions of dictionaries."
   ]
  },
  {
   "cell_type": "code",
   "execution_count": 8,
   "id": "6ca0dcc7",
   "metadata": {},
   "outputs": [
    {
     "name": "stdout",
     "output_type": "stream",
     "text": [
      "{'one': 1, 'two': 2}\n"
     ]
    },
    {
     "ename": "TypeError",
     "evalue": "'mappingproxy' object does not support item assignment",
     "output_type": "error",
     "traceback": [
      "\u001b[0;31m---------------------------------------------------------------------------\u001b[0m",
      "\u001b[0;31mTypeError\u001b[0m                                 Traceback (most recent call last)",
      "Input \u001b[0;32mIn [8]\u001b[0m, in \u001b[0;36m<cell line: 7>\u001b[0;34m()\u001b[0m\n\u001b[1;32m      3\u001b[0m read_only \u001b[38;5;241m=\u001b[39m types\u001b[38;5;241m.\u001b[39mMappingProxyType(writable)\n\u001b[1;32m      5\u001b[0m \u001b[38;5;28mprint\u001b[39m(read_only)\n\u001b[0;32m----> 7\u001b[0m \u001b[43mread_only\u001b[49m\u001b[43m[\u001b[49m\u001b[38;5;124;43m'\u001b[39;49m\u001b[38;5;124;43mone\u001b[39;49m\u001b[38;5;124;43m'\u001b[39;49m\u001b[43m]\u001b[49m \u001b[38;5;241m=\u001b[39m \u001b[38;5;241m11\u001b[39m\n",
      "\u001b[0;31mTypeError\u001b[0m: 'mappingproxy' object does not support item assignment"
     ]
    }
   ],
   "source": [
    "import types\n",
    "writable = {'one':1, 'two':2}\n",
    "read_only = types.MappingProxyType(writable)\n",
    "\n",
    "print(read_only)\n",
    "\n",
    "read_only['one'] = 11"
   ]
  },
  {
   "cell_type": "markdown",
   "id": "aa8c6fdb",
   "metadata": {},
   "source": [
    "## Array Data Structures"
   ]
  },
  {
   "cell_type": "markdown",
   "id": "136689df",
   "metadata": {},
   "source": [
    "### list: Mutable Dynamic Arrays"
   ]
  },
  {
   "cell_type": "markdown",
   "id": "7b076ad0",
   "metadata": {},
   "source": [
    "### tuple: Immutable Containers"
   ]
  },
  {
   "cell_type": "markdown",
   "id": "6cd2b889",
   "metadata": {},
   "source": [
    "### array.array: Basic Typed Arrays"
   ]
  },
  {
   "cell_type": "markdown",
   "id": "0f7613d2",
   "metadata": {},
   "source": [
    "Python’s array module provides space-efficient storage of basic C-style data types like bytes, 32-bit integers, floating-point numbers, and so on.\n",
    "\n",
    "Arrays created with the array.array class are mutable and behave similarly to lists except for one important difference: they’re typed arrays constrained to a single data type."
   ]
  },
  {
   "cell_type": "code",
   "execution_count": 9,
   "id": "860562d8",
   "metadata": {},
   "outputs": [
    {
     "name": "stdout",
     "output_type": "stream",
     "text": [
      "array('f', [1.0, 2.299999952316284, 4.199999809265137, 6.699999809265137])\n"
     ]
    },
    {
     "ename": "TypeError",
     "evalue": "must be real number, not str",
     "output_type": "error",
     "traceback": [
      "\u001b[0;31m---------------------------------------------------------------------------\u001b[0m",
      "\u001b[0;31mTypeError\u001b[0m                                 Traceback (most recent call last)",
      "Input \u001b[0;32mIn [9]\u001b[0m, in \u001b[0;36m<cell line: 6>\u001b[0;34m()\u001b[0m\n\u001b[1;32m      2\u001b[0m arr \u001b[38;5;241m=\u001b[39m array\u001b[38;5;241m.\u001b[39marray(\u001b[38;5;124m\"\u001b[39m\u001b[38;5;124mf\u001b[39m\u001b[38;5;124m\"\u001b[39m, (\u001b[38;5;241m1.0\u001b[39m, \u001b[38;5;241m2.3\u001b[39m, \u001b[38;5;241m4.2\u001b[39m, \u001b[38;5;241m6.7\u001b[39m))\n\u001b[1;32m      4\u001b[0m \u001b[38;5;28mprint\u001b[39m(arr)\n\u001b[0;32m----> 6\u001b[0m \u001b[43marr\u001b[49m\u001b[38;5;241;43m.\u001b[39;49m\u001b[43mappend\u001b[49m\u001b[43m(\u001b[49m\u001b[38;5;124;43m\"\u001b[39;49m\u001b[38;5;124;43mHello\u001b[39;49m\u001b[38;5;124;43m\"\u001b[39;49m\u001b[43m)\u001b[49m\n",
      "\u001b[0;31mTypeError\u001b[0m: must be real number, not str"
     ]
    }
   ],
   "source": [
    "import array\n",
    "arr = array.array(\"f\", (1.0, 2.3, 4.2, 6.7))\n",
    "\n",
    "print(arr)\n",
    "\n",
    "arr.append(\"Hello\")"
   ]
  },
  {
   "cell_type": "markdown",
   "id": "ecfd6612",
   "metadata": {},
   "source": [
    "### str: Immutable Arrays of Unicode Characters"
   ]
  },
  {
   "cell_type": "markdown",
   "id": "513199ec",
   "metadata": {},
   "source": [
    "### bytes: Immutable Arrays of Single Bytes"
   ]
  },
  {
   "cell_type": "code",
   "execution_count": 13,
   "id": "1fb28f24",
   "metadata": {},
   "outputs": [
    {
     "name": "stdout",
     "output_type": "stream",
     "text": [
      "b'\\x01\\x02\\x03\\x04\\x05'\n"
     ]
    },
    {
     "ename": "ValueError",
     "evalue": "bytes must be in range(0, 256)",
     "output_type": "error",
     "traceback": [
      "\u001b[0;31m---------------------------------------------------------------------------\u001b[0m",
      "\u001b[0;31mValueError\u001b[0m                                Traceback (most recent call last)",
      "Input \u001b[0;32mIn [13]\u001b[0m, in \u001b[0;36m<cell line: 4>\u001b[0;34m()\u001b[0m\n\u001b[1;32m      1\u001b[0m arr \u001b[38;5;241m=\u001b[39m \u001b[38;5;28mbytes\u001b[39m((\u001b[38;5;241m1\u001b[39m,\u001b[38;5;241m2\u001b[39m,\u001b[38;5;241m3\u001b[39m,\u001b[38;5;241m4\u001b[39m,\u001b[38;5;241m5\u001b[39m))\n\u001b[1;32m      2\u001b[0m \u001b[38;5;28mprint\u001b[39m(arr)\n\u001b[0;32m----> 4\u001b[0m \u001b[38;5;28mprint\u001b[39m(\u001b[38;5;28;43mbytes\u001b[39;49m\u001b[43m(\u001b[49m\u001b[43m(\u001b[49m\u001b[38;5;241;43m0\u001b[39;49m\u001b[43m,\u001b[49m\u001b[38;5;241;43m290\u001b[39;49m\u001b[43m)\u001b[49m\u001b[43m)\u001b[49m)\n",
      "\u001b[0;31mValueError\u001b[0m: bytes must be in range(0, 256)"
     ]
    }
   ],
   "source": [
    "arr = bytes((1,2,3,4,5))\n",
    "print(arr)\n",
    "\n",
    "print(bytes((0,290)))"
   ]
  },
  {
   "cell_type": "markdown",
   "id": "03ede4cd",
   "metadata": {},
   "source": [
    "### bytearray: Mutable Arrays of Single Bytes"
   ]
  },
  {
   "cell_type": "markdown",
   "id": "4d26b56a",
   "metadata": {},
   "source": [
    "The bytearray type is a mutable sequence of integers in the range 0 ≤ x ≤ 255. The bytearray object is closely related to the bytes object, with the main difference being that a bytearray can be modified freely—you can overwrite elements, remove existing elements, or add new ones. The bytearray object will grow and shrink accordingly."
   ]
  },
  {
   "cell_type": "markdown",
   "id": "5a74c94f",
   "metadata": {},
   "source": [
    "## Records, Structs, and Data Transfer Objects"
   ]
  },
  {
   "cell_type": "code",
   "execution_count": 15,
   "id": "2a581b54",
   "metadata": {},
   "outputs": [
    {
     "name": "stdout",
     "output_type": "stream",
     "text": [
      "  1           0 LOAD_CONST               0 ((23, 'a', 'b', 'c'))\n",
      "              2 RETURN_VALUE\n",
      "None\n",
      "  1           0 BUILD_LIST               0\n",
      "              2 LOAD_CONST               0 ((23, 'a', 'b', 'c'))\n",
      "              4 LIST_EXTEND              1\n",
      "              6 RETURN_VALUE\n",
      "None\n"
     ]
    }
   ],
   "source": [
    "import dis\n",
    "print(dis.dis(compile(\"(23, 'a', 'b', 'c')\", \"\", \"eval\")))\n",
    "print(dis.dis(compile(\"[23, 'a', 'b', 'c']\", \"\", \"eval\")))"
   ]
  },
  {
   "cell_type": "markdown",
   "id": "6ef3edd5",
   "metadata": {},
   "source": [
    "### dataclasses.dataclass: Python 3.7+ Data Classes"
   ]
  },
  {
   "cell_type": "code",
   "execution_count": 17,
   "id": "9ae88ed1",
   "metadata": {},
   "outputs": [
    {
     "name": "stdout",
     "output_type": "stream",
     "text": [
      "Car(color='red', mileage=3812.4, automatic=True)\n"
     ]
    }
   ],
   "source": [
    "from dataclasses import dataclass\n",
    "\n",
    "@dataclass\n",
    "class Car:\n",
    "    color:str\n",
    "    mileage:float\n",
    "    automatic:bool\n",
    "        \n",
    "car1 = Car(\"red\", 3812.4, True)\n",
    "print(car1)"
   ]
  },
  {
   "cell_type": "markdown",
   "id": "6ae3da6f",
   "metadata": {},
   "source": [
    "### collections.namedtuple: Convenient Data Objects"
   ]
  },
  {
   "cell_type": "code",
   "execution_count": 2,
   "id": "a7a85e93",
   "metadata": {},
   "outputs": [
    {
     "name": "stdout",
     "output_type": "stream",
     "text": [
      "64\n",
      "64\n",
      "Point(x=1, y=2, z=3)\n"
     ]
    }
   ],
   "source": [
    "from collections import namedtuple\n",
    "from sys import getsizeof\n",
    "\n",
    "p1 = namedtuple(\"Point\", \"x y z\")(1, 2, 3)\n",
    "p2 = (1, 2, 3)\n",
    "\n",
    "print(getsizeof(p1))\n",
    "print(getsizeof(p2))\n",
    "print(p1)"
   ]
  },
  {
   "cell_type": "markdown",
   "id": "ea379cfb",
   "metadata": {},
   "source": [
    "### typing.NamedTuple: Improved Namedtuples"
   ]
  },
  {
   "cell_type": "markdown",
   "id": "c77f86cd",
   "metadata": {},
   "source": [
    "It’s very similar to namedtuple, with the main difference being an updated syntax for defining new record types and added support for type hints."
   ]
  },
  {
   "cell_type": "code",
   "execution_count": 5,
   "id": "4462d4d9",
   "metadata": {},
   "outputs": [
    {
     "name": "stdout",
     "output_type": "stream",
     "text": [
      "Car(color='red', mileage=3812.4, automatic=True)\n",
      "3812.4\n"
     ]
    }
   ],
   "source": [
    "from typing import NamedTuple\n",
    "\n",
    "class Car(NamedTuple):\n",
    "    color: str\n",
    "    mileage: float\n",
    "    automatic: bool\n",
    "\n",
    "car1 = Car(\"red\", 3812.4, True)\n",
    "print(car1)\n",
    "print(car1.mileage)"
   ]
  },
  {
   "cell_type": "markdown",
   "id": "30ae55c7",
   "metadata": {},
   "source": [
    "### struct.Struct: Serialized C Structs"
   ]
  },
  {
   "cell_type": "markdown",
   "id": "94f9c9ae",
   "metadata": {},
   "source": [
    "Serialized structs are seldom used to represent data objects meant to be handled purely inside Python code. They’re intended primarily as a data exchange format rather than as a way of holding data in memory that’s only used by Python code."
   ]
  },
  {
   "cell_type": "code",
   "execution_count": 9,
   "id": "7e73685d",
   "metadata": {},
   "outputs": [
    {
     "name": "stdout",
     "output_type": "stream",
     "text": [
      "b'\\x17\\x00\\x00\\x00\\x00\\x00\\x00\\x00\\x9a\\x99/B'\n",
      "45\n",
      "(23, False, 43.900001525878906)\n",
      "64\n"
     ]
    }
   ],
   "source": [
    "from struct import Struct\n",
    "from sys import getsizeof\n",
    "\n",
    "MinhaStruct = Struct(\"i?f\")\n",
    "data = MinhaStruct.pack(23,False,43.9)\n",
    "\n",
    "print(data)\n",
    "print(getsizeof(data))\n",
    "\n",
    "print(MinhaStruct.unpack(data))\n",
    "print(getsizeof(MinhaStruct.unpack(data)))"
   ]
  },
  {
   "cell_type": "markdown",
   "id": "f71efeeb",
   "metadata": {},
   "source": [
    "### types.SimpleNamespace: Fancy Attribute Access"
   ]
  },
  {
   "cell_type": "code",
   "execution_count": 12,
   "id": "1298fb56",
   "metadata": {},
   "outputs": [
    {
     "name": "stdout",
     "output_type": "stream",
     "text": [
      "red\n"
     ]
    }
   ],
   "source": [
    "from types import SimpleNamespace\n",
    "car1 = SimpleNamespace(color=\"red\", mileage=3812.4, automatic=True)\n",
    "\n",
    "print(car1.color)\n",
    "car1.windshield = \"broken\""
   ]
  },
  {
   "cell_type": "markdown",
   "id": "f5d3a896",
   "metadata": {},
   "source": [
    "### Records, Structs, and Data Objects in Python: Summary\n",
    "\n",
    "As you’ve seen, there’s quite a number of different options for implementing records or data objects. Which type should you use for data objects in Python? Generally your decision will depend on your use case:\n",
    "\n",
    "- If you have only a few fields, then using a plain tuple object may be okay if the field order is easy to remember or field names are superfluous. For example, think of an (x, y, z) point in three-dimensional space.\n",
    "\n",
    "- If you need immutable fields, then plain tuples, collections.namedtuple, and typing.NamedTuple are all good options.\n",
    "\n",
    "- If you need to lock down field names to avoid typos, then collections.namedtuple and typing.NamedTuple are your friends.\n",
    "\n",
    "- If you want to keep things simple, then a plain dictionary object might be a good choice due to the convenient syntax that closely resembles JSON.\n",
    "\n",
    "- If you need full control over your data structure, then it’s time to write a custom class with @property setters and getters.\n",
    "\n",
    "- If you need to add behavior (methods) to the object, then you should write a custom class, either from scratch, or using the dataclass decorator, or by extending collections.namedtuple or typing.NamedTuple.\n",
    "\n",
    "- If you need to pack data tightly to serialize it to disk or to send it over the network, then it’s time to read up on struct.Struct because this is a great use case for it!\n",
    "\n",
    "If you’re looking for a safe default choice, then my general recommendation for implementing a plain record, struct, or data object in Python would be to use collections.namedtuple in Python 2.x and its younger sibling, typing.NamedTuple in Python 3.\n"
   ]
  },
  {
   "cell_type": "markdown",
   "id": "5ecfdda7",
   "metadata": {},
   "source": [
    "## Sets and Multisets"
   ]
  },
  {
   "cell_type": "markdown",
   "id": "93be6b90",
   "metadata": {},
   "source": [
    "A set is an unordered collection of objects that doesn’t allow duplicate elements. Typically, sets are used to quickly test a value for membership in the set, to insert or delete new values from a set, and to compute the union or intersection of two sets.\n",
    "\n",
    "In a proper set implementation, membership tests are expected to run in fast O(1) time. Union, intersection, difference, and subset operations should take O(n) time on average. The set implementations included in Python’s standard library follow these performance characteristics."
   ]
  },
  {
   "cell_type": "markdown",
   "id": "c4a488c9",
   "metadata": {},
   "source": [
    "### frozenset: Immutable Sets"
   ]
  },
  {
   "cell_type": "markdown",
   "id": "7e3fe214",
   "metadata": {},
   "source": [
    "### collections.Counter: Multisets"
   ]
  },
  {
   "cell_type": "markdown",
   "id": "2f7db0de",
   "metadata": {},
   "source": [
    "The collections.Counter class in the Python standard library implements a multiset, or bag, type that allows elements in the set to have more than one occurrence."
   ]
  },
  {
   "cell_type": "code",
   "execution_count": 14,
   "id": "a4cd5213",
   "metadata": {},
   "outputs": [
    {
     "name": "stdout",
     "output_type": "stream",
     "text": [
      "Counter({'bread': 3, 'sword': 1})\n",
      "Counter({'bread': 3, 'sword': 2, 'apple': 1})\n",
      "3\n",
      "6\n"
     ]
    }
   ],
   "source": [
    "from collections import Counter\n",
    "inventory = Counter()\n",
    "\n",
    "loot = {\"sword\": 1, \"bread\": 3}\n",
    "inventory.update(loot)\n",
    "print(inventory)\n",
    "\n",
    "more_loot = {\"sword\": 1, \"apple\": 1}\n",
    "inventory.update(more_loot)\n",
    "print(inventory)\n",
    "\n",
    "print(len(inventory))\n",
    "print(sum(inventory.values()))"
   ]
  },
  {
   "cell_type": "markdown",
   "id": "fa80e8da",
   "metadata": {},
   "source": [
    "## Stacks (LIFOs)"
   ]
  },
  {
   "cell_type": "markdown",
   "id": "9b82e0c6",
   "metadata": {},
   "source": [
    "### list: Simple, Built-In Stacks\n",
    "Python’s lists are implemented as dynamic arrays internally, which means they occasionally need to resize the storage space for elements stored in them when elements are added or removed. The list over-allocates its backing storage so that not every push or pop requires resizing. As a result, you get an amortized O(1) time complexity for these operations.\n",
    "\n",
    "The downside is that this makes their performance less consistent than the stable O(1) inserts and deletes provided by a linked list–based implementation (as you’ll see below with collections.deque). On the other hand, lists do provide fast O(1) time random access to elements on the stack, and this can be an added benefit."
   ]
  },
  {
   "cell_type": "markdown",
   "id": "59908c59",
   "metadata": {},
   "source": [
    "### collections.deque: Fast and Robust Stacks"
   ]
  },
  {
   "cell_type": "markdown",
   "id": "0f7e4567",
   "metadata": {},
   "source": [
    "The deque class implements a double-ended queue that supports adding and removing elements from either end in O(1) time (non-amortized). Because deques support adding and removing elements from either end equally well, they can serve both as queues and as stacks.\n",
    "\n",
    "Python’s deque objects are implemented as doubly-linked lists, which gives them excellent and consistent performance for inserting and deleting elements but poor O(n) performance for randomly accessing elements in the middle of a stack."
   ]
  },
  {
   "cell_type": "code",
   "execution_count": 26,
   "id": "94d26dd5",
   "metadata": {},
   "outputs": [
    {
     "name": "stdout",
     "output_type": "stream",
     "text": [
      "deque(['teste1', 'teste2', 'teste3', 'teste4'])\n",
      "None\n",
      "deque(['teste1', 'teste3', 'teste2', 'teste4'])\n"
     ]
    }
   ],
   "source": [
    "from collections import deque\n",
    "from random import shuffle\n",
    "\n",
    "d = deque()\n",
    "d.append('teste1')\n",
    "d.append('teste2')\n",
    "d.append('teste3')\n",
    "d.append('teste4')\n",
    "\n",
    "print(d)\n",
    "print(shuffle(d))\n",
    "print(d)"
   ]
  },
  {
   "cell_type": "markdown",
   "id": "fa46043e",
   "metadata": {},
   "source": [
    "### queue.LifoQueue: Locking Semantics for Parallel Computing\n",
    "\n"
   ]
  },
  {
   "cell_type": "markdown",
   "id": "2667397d",
   "metadata": {},
   "source": [
    "The LifoQueue stack implementation in the Python standard library is synchronized and provides locking semantics to support multiple concurrent producers and consumers.\n",
    "\n",
    "Besides LifoQueue, the queue module contains several other classes that implement multi-producer, multi-consumer queues that are useful for parallel computing."
   ]
  },
  {
   "cell_type": "markdown",
   "id": "58cf44fd",
   "metadata": {},
   "source": [
    "## Queues (FIFOs)"
   ]
  },
  {
   "cell_type": "markdown",
   "id": "5b659493",
   "metadata": {},
   "source": [
    "Queues have a wide range of applications in algorithms and often help solve scheduling and parallel programming problems. A short and beautiful algorithm using a queue is breadth-first search (BFS) on a tree or graph data structure.\n",
    "\n",
    "Scheduling algorithms often use priority queues internally. These are specialized queues. Instead of retrieving the next element by insertion time, a priority queue retrieves the highest-priority element. The priority of individual elements is decided by the queue based on the ordering applied to their keys. "
   ]
  },
  {
   "cell_type": "markdown",
   "id": "e0ea9b78",
   "metadata": {},
   "source": [
    "### list: Terribly Sloooow Queues"
   ]
  },
  {
   "cell_type": "markdown",
   "id": "bead8fdf",
   "metadata": {},
   "source": [
    "### collections.deque: Fast and Robust Queues"
   ]
  },
  {
   "cell_type": "markdown",
   "id": "8a151155",
   "metadata": {},
   "source": [
    "### queue.Queue: Locking Semantics for Parallel Computing"
   ]
  },
  {
   "cell_type": "markdown",
   "id": "9d933408",
   "metadata": {},
   "source": [
    "### multiprocessing.Queue: Shared Job Queues"
   ]
  },
  {
   "cell_type": "markdown",
   "id": "1589b649",
   "metadata": {},
   "source": [
    "## Priority Queues"
   ]
  },
  {
   "cell_type": "markdown",
   "id": "c6eda38d",
   "metadata": {},
   "source": [
    "### list: Manually Sorted Queues"
   ]
  },
  {
   "cell_type": "markdown",
   "id": "38e77ef3",
   "metadata": {},
   "source": [
    "### heapq: List-Based Binary Heaps"
   ]
  },
  {
   "cell_type": "markdown",
   "id": "f750a654",
   "metadata": {},
   "source": [
    "### queue.PriorityQueue: Beautiful Priority Queues"
   ]
  }
 ],
 "metadata": {
  "kernelspec": {
   "display_name": "Python 3 (ipykernel)",
   "language": "python",
   "name": "python3"
  },
  "language_info": {
   "codemirror_mode": {
    "name": "ipython",
    "version": 3
   },
   "file_extension": ".py",
   "mimetype": "text/x-python",
   "name": "python",
   "nbconvert_exporter": "python",
   "pygments_lexer": "ipython3",
   "version": "3.10.7"
  }
 },
 "nbformat": 4,
 "nbformat_minor": 5
}
