{
 "cells": [
  {
   "cell_type": "markdown",
   "id": "57a5dd54",
   "metadata": {},
   "source": [
    "# A brief summary of the Standard Library in C++ (98)\n",
    "<br>\n",
    "<div style=\"opacity: 0.8; font-family: Consolas, Monaco, Lucida Console, Liberation Mono, DejaVu Sans Mono, Bitstream Vera Sans Mono, Courier New; font-size: 12px; font-style: italic;\">\n",
    "    ────────\n",
    "    for more from the author, visit\n",
    "    <a href=\"https://github.com/hazemanwer2000\">github.com/hazemanwer2000</a>.\n",
    "    ────────\n",
    "</div>"
   ]
  },
  {
   "cell_type": "markdown",
   "id": "d5d19f27",
   "metadata": {},
   "source": [
    "## Table of Contents\n",
    "* [Containers](#containers)\n",
    "  * [Sequences](#sequences)\n",
    "    * [`vector`](#vector)\n",
    "    * [Summary of `vector`](#summary-of-vector)\n",
    "    * [`list`](#list)\n",
    "    * [Summary of `list`](#summary-of-list)\n",
    "    * [`deque`](#deque)\n",
    "  * [Sequence Adapters](#sequence-adapters)\n",
    "    * [`stack`](#stack)\n",
    "    * [`queue`](#queue)\n",
    "    * [`priority_queue`](#priority-queue)\n",
    "  * [Associative Containers](#associative-containers)\n",
    "    * [`map`](#map)\n",
    "    * [Summary of `map`](#summary-of-map)\n",
    "    * [`multimap`](#multimap)\n",
    "    * [`set`](#set)\n",
    "    * [`multiset`](#multiset)\n",
    "* [Algorithms and Function Objects](#algorithms-and-function-objects)\n",
    "  * [Function Objects](#function-objects)\n",
    "    * [Predicates](#predicates)\n",
    "    * [Arithmetic Functors](#arithmetic-functors)\n",
    "    * [Binders](#binders)\n",
    "    * [Function Adapters](#function-adapters)\n",
    "    * [Negaters](#negaters)\n",
    "  * [Algorithms](#algorithms)\n",
    "    * [Non-modifying Sequence Operations](#non-modifying-sequence-operations)\n",
    "    * [Summary of *Non-modifying Sequence Operations*](#summary-of-non-modifying-sequence-operations)\n",
    "    * [Modifying Sequence Operations](#modifying-sequence-operations)\n",
    "    * [Summary of *Modifying Sequence Operations*](#summary-of-modifying-sequence-operations)\n",
    "    * [Sorting Sequence Operations](#sorting-sequence-operations)\n",
    "    * [Summary of *Sorting Sequence Operations*](#summary-of-sorting-sequence-operations)\n",
    "    * [Set Operations](#set-operations)\n",
    "    * [Heap Operations](#heap-operations)\n",
    "    * [Permutations](#permutations)\n",
    "* [Iterators](#iterators)\n",
    "  * [Inserters](#inserters)\n",
    "* [Miscellaneous](#miscellaneous)\n",
    "  * [`string`](#string)\n"
   ]
  },
  {
   "cell_type": "markdown",
   "id": "549a905a",
   "metadata": {},
   "source": [
    "The C++ standard library resides in the namespace `std`.\n",
    "\n",
    "* Header files are included as `<header-name>`, omitting the `.h` extension. For example, `<vector>`.\n",
    "\n",
    "* Header files from the C standard library may be included as `<c-header-name>`. For example, `<cstdio>`.\n",
    "\n",
    "* Header files from the C standard library may be included directly into the global namespace as `<header-name.h>`. For example, `<stdio.h>`.\n",
    "\n",
    "* User-defined header files may be included as `\"header-name.h\"`. For example, `\"myvector.h\"`."
   ]
  },
  {
   "cell_type": "markdown",
   "id": "df9e87f2",
   "metadata": {},
   "source": [
    "| *Header* | *Contains?* |\n",
    "| :--- | --- |\n",
    "| `vector` | Vector\n",
    "| `list` | List\n",
    "| `deque` | Deque\n",
    "| `stack` | Stack\n",
    "| `queue` | (Priority) Queue\n",
    "| `map` | (Multi-)Map\n",
    "| `set` | (Multi-)Set\n",
    "| `functional` | Function Objects\n",
    "| `algorithm` | Algorithms\n",
    "| `iterator` | Iterators\n",
    "| `string` | String"
   ]
  },
  {
   "cell_type": "markdown",
   "id": "198c2867",
   "metadata": {},
   "source": [
    "## Containers <a class=\"anchor\" id=\"containers\"></a>"
   ]
  },
  {
   "cell_type": "markdown",
   "id": "549e484e",
   "metadata": {},
   "source": [
    "A *container* is an object that stores a collection of other objects. They are implemented as class templates.\n",
    "\n",
    "Containers share some standard methods, though with no derivation from a common base. This is to enable inlining of most method calls, while still allowing for the implementation of pieces of code that deal with containers generically, and not a particular type of container, through the use of templates. This comes, ofcourse, at the expense of inflated code size."
   ]
  },
  {
   "cell_type": "markdown",
   "id": "6b196452",
   "metadata": {},
   "source": [
    "### Sequences <a class=\"anchor\" id=\"sequences\"></a>"
   ]
  },
  {
   "cell_type": "markdown",
   "id": "fd724dd0",
   "metadata": {},
   "source": [
    "A *sequence* is an enumerated collection of objects in which repetitions are allowed and order matters."
   ]
  },
  {
   "cell_type": "markdown",
   "id": "3699ba01",
   "metadata": {},
   "source": [
    "#### `vector` <a class=\"anchor\" id=\"vector\"></a>"
   ]
  },
  {
   "cell_type": "markdown",
   "id": "46dbf0db",
   "metadata": {},
   "source": [
    "A `vector` is an array, that is able to grow dynamically and implicitly."
   ]
  },
  {
   "cell_type": "code",
   "execution_count": null,
   "id": "a6771d45",
   "metadata": {},
   "outputs": [],
   "source": [
    "std::vector<int> vec1;          /* 0 elements */"
   ]
  },
  {
   "cell_type": "code",
   "execution_count": null,
   "id": "41a9f9bd",
   "metadata": {},
   "outputs": [],
   "source": [
    "std::vector<int> vec2(5);       /* 5 elements, copy-initialized with a default-initialized object */"
   ]
  },
  {
   "cell_type": "code",
   "execution_count": null,
   "id": "7c78ac9f",
   "metadata": {},
   "outputs": [],
   "source": [
    "std::vector<int> vec3(5, 3);    /* 5 elements, copy-initialized with a passed object */"
   ]
  },
  {
   "cell_type": "markdown",
   "id": "3d0f1e72",
   "metadata": {},
   "source": [
    "Growth involves possible re-allocation of elements, similar to how a function like `realloc` operates. Hence, growth should not occur with every append to its content. Therefore, `vector` defines both methods `size`, that returns the number of elements in the `vector`, and `capacity`, that returns the maximum number of elements that a `vector` can currently withstand without incurring a growth overhead."
   ]
  },
  {
   "cell_type": "markdown",
   "id": "c02af3c5",
   "metadata": {},
   "source": [
    "*Note:* A `vector` never shrinks in capacity."
   ]
  },
  {
   "cell_type": "code",
   "execution_count": 42,
   "id": "1f2947cc",
   "metadata": {},
   "outputs": [
    {
     "name": "stdout",
     "output_type": "stream",
     "text": [
      "Size: 0, Capacity: 0\n",
      "Size: 5, Capacity: 5\n"
     ]
    }
   ],
   "source": [
    "#include <vector>\n",
    "#include <iostream>\n",
    "\n",
    "template<class T>\n",
    "void summary(std::vector<T> &vec) {\n",
    "    std::cout << \"Size: \" << vec.size() << \", Capacity: \" << vec.capacity() << '\\n';\n",
    "}\n",
    "\n",
    "int main() {\n",
    "    std::vector<int> vec1;\n",
    "    summary(vec1);\n",
    "    \n",
    "    std::vector<int> vec2(5);\n",
    "    summary(vec2);\n",
    "}"
   ]
  },
  {
   "cell_type": "markdown",
   "id": "444fb0f0",
   "metadata": {},
   "source": [
    "*Note:* `vector` defines the type `size_type`, that is the type returned by `size` and similar methods."
   ]
  },
  {
   "cell_type": "markdown",
   "id": "c0cd19fc",
   "metadata": {},
   "source": [
    "`vector` defines the method `reserve`, that accepts the number of elements to set the capacity of the `vector` to. If the argument is less than the current capacity of the `vector`, nothing happens."
   ]
  },
  {
   "cell_type": "markdown",
   "id": "4fba8da5",
   "metadata": {},
   "source": [
    "*Note:* `reserve` merely allocates memory to avoid a growth overhead later on. It does not construct any objects."
   ]
  },
  {
   "cell_type": "markdown",
   "id": "28c3c240",
   "metadata": {},
   "source": [
    "`vector` also defines the method `resize`, that accepts the number of elements to set the size of the `vector` to. The argument may be less than the current size of the `vector`."
   ]
  },
  {
   "cell_type": "markdown",
   "id": "c66b94d4",
   "metadata": {},
   "source": [
    "*Note:* Unlike `reserve`, `resize` initializes memory with copy-initialized objects, copied from a default-initialized object, or an optionally passed object."
   ]
  },
  {
   "cell_type": "code",
   "execution_count": 48,
   "id": "4d5698d0",
   "metadata": {
    "scrolled": true
   },
   "outputs": [
    {
     "name": "stdout",
     "output_type": "stream",
     "text": [
      "Size: 5, Capacity: 5, [1, 1, 1, 1, 1, \b\b]\n",
      "Size: 5, Capacity: 10, [1, 1, 1, 1, 1, \b\b]\n",
      "Size: 5, Capacity: 10, [1, 1, 1, 1, 1, \b\b]\n",
      "Size: 8, Capacity: 10, [1, 1, 1, 1, 1, 2, 2, 2, \b\b]\n",
      "Size: 7, Capacity: 10, [1, 1, 1, 1, 1, 2, 2, \b\b]\n"
     ]
    }
   ],
   "source": [
    "#include <vector>\n",
    "#include <iostream>\n",
    "\n",
    "template<class T>\n",
    "void summary(std::vector<T> &vec) {\n",
    "    std::cout << \"Size: \" << vec.size();\n",
    "    std::cout << \", Capacity: \" << vec.capacity();\n",
    "    std::cout << \", [\";\n",
    "    for (int i = 0; i < vec.size(); i++) {\n",
    "        std::cout << vec[i] << \", \";\n",
    "    }\n",
    "    std::cout << \"\\b\\b]\\n\";\n",
    "}\n",
    "\n",
    "template<class T>\n",
    "void print_vec(std::vector<T> &vec) {\n",
    "    for (int i = 0; i < vec.size(); i++) {\n",
    "        std::cout << vec[i] << \", \";\n",
    "    }\n",
    "    std::cout << \"\\b\\b \\n\";\n",
    "}\n",
    "\n",
    "int main() {\n",
    "    std::vector<int> vec(5, 1);        /* 5 elements, copy-initialized with '1' */\n",
    "    summary(vec);\n",
    "    \n",
    "    vec.reserve(10);                   /* capacity guranteed to be at least '10' */\n",
    "    summary(vec);\n",
    "    \n",
    "    vec.reserve(8);                    /* capacity guranteed to be at least '8' (already '10') */\n",
    "    summary(vec);\n",
    "    \n",
    "    vec.resize(8, 2);                  /* enlarged to 8 elements, last three initialized with '2' */\n",
    "    summary(vec);\n",
    "    \n",
    "    vec.resize(7);                     /* shrinked to 7 elements */\n",
    "    summary(vec);\n",
    "}"
   ]
  },
  {
   "cell_type": "markdown",
   "id": "bfbea234",
   "metadata": {},
   "source": [
    "`vector` defines the method `max_size`, that returns the maximum number of elements that `vector` can withstand."
   ]
  },
  {
   "cell_type": "code",
   "execution_count": 52,
   "id": "3837fd66",
   "metadata": {},
   "outputs": [
    {
     "name": "stdout",
     "output_type": "stream",
     "text": [
      "2305843009213693951\n",
      "1152921504606846975\n"
     ]
    }
   ],
   "source": [
    "#include <iostream>\n",
    "#include <vector>\n",
    "\n",
    "int main() {\n",
    "    std::vector<float> vfloat;\n",
    "    std::cout << vfloat.max_size() << '\\n';\n",
    "    \n",
    "    std::vector<double> vdouble;\n",
    "    std::cout << vdouble.max_size() << '\\n';\n",
    "}"
   ]
  },
  {
   "cell_type": "markdown",
   "id": "345338c8",
   "metadata": {},
   "source": [
    "*Note:* Since, usually, `double` occupies double the number of bytes of `float`, the maximum size of `vector<double>` is half the maximum size of `vector<float>`. This is because `vector` is an array-like structure, and uses pointers to provide constant element access. As the size of the offset between each pointer increases, the number of objects that can be represented by a given pointer size decreases."
   ]
  },
  {
   "cell_type": "markdown",
   "id": "619a80df",
   "metadata": {},
   "source": [
    "`vector` defines the method `empty`, that evaluates and returns `size() == 0`, as a `bool`."
   ]
  },
  {
   "cell_type": "code",
   "execution_count": 62,
   "id": "08569e11",
   "metadata": {},
   "outputs": [
    {
     "name": "stdout",
     "output_type": "stream",
     "text": [
      "0\n",
      "1\n"
     ]
    }
   ],
   "source": [
    "#include <iostream>\n",
    "#include <vector>\n",
    "\n",
    "int main() {\n",
    "    std::vector<int> vec(5);\n",
    "    std::cout << vec.empty() << '\\n';\n",
    "    \n",
    "    vec.resize(0);\n",
    "    std::cout << vec.empty() << '\\n';\n",
    "}"
   ]
  },
  {
   "cell_type": "markdown",
   "id": "8f048f18",
   "metadata": {},
   "source": [
    "`vector` defines the operator `[]` for unchecked access to elements. It also defines the method `at` for checked access."
   ]
  },
  {
   "cell_type": "code",
   "execution_count": 73,
   "id": "66b818f4",
   "metadata": {},
   "outputs": [
    {
     "name": "stdout",
     "output_type": "stream",
     "text": [
      "Size: 3, Capacity: 3, [1, 2, 3, \b\b]\n"
     ]
    }
   ],
   "source": [
    "#include <iostream>\n",
    "#include <vector>\n",
    "\n",
    "template<class T>\n",
    "void summary(std::vector<T> &vec) {\n",
    "    std::cout << \"Size: \" << vec.size();\n",
    "    std::cout << \", Capacity: \" << vec.capacity();\n",
    "    std::cout << \", [\";\n",
    "    for (int i = 0; i < vec.size(); i++) {\n",
    "        std::cout << vec[i] << \", \";\n",
    "    }\n",
    "    std::cout << \"\\b\\b]\\n\";\n",
    "}\n",
    "\n",
    "int main() {\n",
    "    std::vector<int> vec(3);\n",
    "    \n",
    "    vec[0] = 1;\n",
    "    vec[1] = 2;\n",
    "    vec[2] = 3;\n",
    "    vec[3] = 4;           /* Unchecked out-of-range access */\n",
    "                          /*   Possible memory corruption, or segmentation-fault error */\n",
    "    \n",
    "    summary(vec);\n",
    "}"
   ]
  },
  {
   "cell_type": "code",
   "execution_count": 79,
   "id": "8864315d",
   "metadata": {},
   "outputs": [
    {
     "name": "stdout",
     "output_type": "stream",
     "text": [
      "[Error] Out-of-range access.\n",
      "Size: 3, Capacity: 3, [1, 2, 3, \b\b]\n"
     ]
    }
   ],
   "source": [
    "#include <iostream>\n",
    "#include <vector>\n",
    "\n",
    "template<class T>\n",
    "void summary(std::vector<T> &vec) {\n",
    "    std::cout << \"Size: \" << vec.size();\n",
    "    std::cout << \", Capacity: \" << vec.capacity();\n",
    "    std::cout << \", [\";\n",
    "    for (int i = 0; i < vec.size(); i++) {\n",
    "        std::cout << vec[i] << \", \";\n",
    "    }\n",
    "    std::cout << \"\\b\\b]\\n\";\n",
    "}\n",
    "\n",
    "int main() {\n",
    "    std::vector<int> vec(3);\n",
    "    \n",
    "    try {\n",
    "        vec.at(0) = 1;\n",
    "        vec.at(1) = 2;\n",
    "        vec.at(2) = 3;\n",
    "        vec.at(3) = 4;           /* Checked out-of-range access */\n",
    "                                 /*   'std::out_of_range' exception thrown */\n",
    "    } catch (std::out_of_range &e) {\n",
    "        std::cout << \"[Error] Out-of-range access.\\n\";\n",
    "    }\n",
    "    \n",
    "    summary(vec);\n",
    "}"
   ]
  },
  {
   "cell_type": "markdown",
   "id": "bded447a",
   "metadata": {},
   "source": [
    "*Note:* Since `vector` is basically an array, element access has $O(1)$ worst-case complexity."
   ]
  },
  {
   "cell_type": "markdown",
   "id": "2f8836de",
   "metadata": {},
   "source": [
    "*Note:* Naturally, the `at` method incurs a constant overhead, compared to `[]`."
   ]
  },
  {
   "cell_type": "markdown",
   "id": "b108d320",
   "metadata": {},
   "source": [
    "`vector` defines the `front` and `back` methods, that return the first and last elements, respectively."
   ]
  },
  {
   "cell_type": "code",
   "execution_count": 85,
   "id": "902d3721",
   "metadata": {},
   "outputs": [
    {
     "name": "stdout",
     "output_type": "stream",
     "text": [
      "Front: 1\n",
      "Back: 5\n"
     ]
    }
   ],
   "source": [
    "#include <iostream>\n",
    "#include <vector>\n",
    "\n",
    "int main() {\n",
    "    std::vector<int> vec(5);\n",
    "    \n",
    "    for (int i = 0; i < vec.size(); i++) {\n",
    "        vec[i] = i + 1;                      /* 1, 2, 3, ... */\n",
    "    }\n",
    "\n",
    "    std::cout << \"Front: \" << vec.front() << '\\n';\n",
    "    std::cout << \"Back: \" << vec.back() << '\\n';\n",
    "}"
   ]
  },
  {
   "cell_type": "markdown",
   "id": "d5382a1b",
   "metadata": {},
   "source": [
    "`vector` defines the `push_back` and `pop_back` methods.\n",
    "\n",
    "* `push_back` accepts a passed object to add to the end of a `vector`, incrementing its size.\n",
    "* `pop_back` removes the last element of a `vector`, decrementing its size, and returns `void`.\n",
    "\n",
    "In this way, `vector` may be used as a stack, with $O(1)$ worst-case complexity of stack operations, ignoring the possible growth overhead."
   ]
  },
  {
   "cell_type": "code",
   "execution_count": 91,
   "id": "2bae4669",
   "metadata": {
    "scrolled": true
   },
   "outputs": [
    {
     "name": "stdout",
     "output_type": "stream",
     "text": [
      "Size: 5, Capacity: 5, [1, 2, 3, 4, 5, \b\b]\n",
      "Top of stack: 5\n",
      "Size: 4, Capacity: 5, [1, 2, 3, 4, \b\b]\n"
     ]
    }
   ],
   "source": [
    "#include <iostream>\n",
    "#include <vector>\n",
    "\n",
    "template<class T>\n",
    "void summary(std::vector<T> &vec) {\n",
    "    std::cout << \"Size: \" << vec.size();\n",
    "    std::cout << \", Capacity: \" << vec.capacity();\n",
    "    std::cout << \", [\";\n",
    "    for (int i = 0; i < vec.size(); i++) {\n",
    "        std::cout << vec[i] << \", \";\n",
    "    }\n",
    "    std::cout << \"\\b\\b]\\n\";\n",
    "}\n",
    "\n",
    "int main() {\n",
    "    std::vector<int> vec;\n",
    "    \n",
    "    vec.reserve(5);\n",
    "\n",
    "    for (int i = 0; i < vec.capacity(); i++) {\n",
    "        vec.push_back(i+1);                               /* Pushing onto stack */\n",
    "    }\n",
    "    \n",
    "    summary(vec);\n",
    "    \n",
    "    std::cout << \"Top of stack: \" << vec.back() << '\\n';    /* Peaking top-of-stack */\n",
    "    \n",
    "    vec.pop_back();                                       /* Popping off stack */\n",
    "    \n",
    "    summary(vec);\n",
    "}"
   ]
  },
  {
   "cell_type": "markdown",
   "id": "343c90f7",
   "metadata": {},
   "source": [
    "`vector` defines `begin` and `end` methods, that return iterators to the first and one after the last elements, respectively.\n",
    "\n",
    "An *iterator* is a pointer-like object to an element. Iterators can be used to navigate containers, without knowledge of the actual type used to identify elements.\n",
    "\n",
    "`vector` also defines the type `iterator`, that is the type of iterator it deals with."
   ]
  },
  {
   "cell_type": "code",
   "execution_count": 107,
   "id": "54e2ad5d",
   "metadata": {},
   "outputs": [
    {
     "name": "stdout",
     "output_type": "stream",
     "text": [
      "3\n",
      "5\n"
     ]
    }
   ],
   "source": [
    "#include <iostream>\n",
    "#include <vector>\n",
    "\n",
    "int main() {\n",
    "    std::vector<int> vec(5);\n",
    "    \n",
    "    for (int i = 0; i < vec.capacity(); i++) {\n",
    "        vec[i] = i + 1;\n",
    "    }\n",
    "    \n",
    "    std::cout << *(vec.begin() + 2) << '\\n';         /* equivalent to vec[2]      */\n",
    "    std::cout << *(vec.end() - 1) << '\\n';           /* equivalent to vec.front() */ \n",
    "}"
   ]
  },
  {
   "cell_type": "code",
   "execution_count": 117,
   "id": "9ba86463",
   "metadata": {},
   "outputs": [
    {
     "name": "stdout",
     "output_type": "stream",
     "text": [
      "1, 2, 3, 4, 5, \b\b \n"
     ]
    }
   ],
   "source": [
    "#include <iostream>\n",
    "#include <vector>\n",
    "\n",
    "template<class T>\n",
    "void forwardly(std::vector<T> &vec) {\n",
    "    typename std::vector<T>::iterator iter = vec.begin();\n",
    "    while (iter != vec.end()) {\n",
    "        std::cout << *iter++ << \", \";\n",
    "    }\n",
    "    std::cout << \"\\b\\b \\n\";\n",
    "}\n",
    "\n",
    "int main() {\n",
    "    std::vector<int> vec(5);\n",
    "    \n",
    "    for (int i = 0; i < vec.capacity(); i++) {\n",
    "        vec[i] = i + 1;\n",
    "    }\n",
    "    \n",
    "    forwardly(vec);\n",
    "}"
   ]
  },
  {
   "cell_type": "markdown",
   "id": "b9ec6e77",
   "metadata": {},
   "source": [
    "*Note:* `vector` defines the type `difference_type`, that is the return type of the subtraction of two iterators."
   ]
  },
  {
   "cell_type": "markdown",
   "id": "6627379c",
   "metadata": {},
   "source": [
    "`vector` defines `rbegin` and `rend` methods, that return reverse iterators to the last and one before the first elements, respectively.\n",
    "\n",
    "`vector` also defines the type `reverse_iterator`, that is the type of reverse iterator it deals with.\n",
    "\n",
    "The `base` method of a reverse iterator, returns an iterator to the next element."
   ]
  },
  {
   "cell_type": "code",
   "execution_count": 115,
   "id": "fb990e8f",
   "metadata": {},
   "outputs": [
    {
     "name": "stdout",
     "output_type": "stream",
     "text": [
      "5\n",
      "3\n",
      "1\n"
     ]
    }
   ],
   "source": [
    "#include <iostream>\n",
    "#include <vector>\n",
    "\n",
    "int main() {\n",
    "    std::vector<int> vec(5);\n",
    "    \n",
    "    for (int i = 0; i < vec.capacity(); i++) {\n",
    "        vec[i] = i + 1;\n",
    "    }\n",
    "    \n",
    "    std::cout << *(vec.rbegin()) << '\\n';             /* equivalent to vec.back() */\n",
    "    std::cout << *(vec.rbegin() + 2) << '\\n';         /* equivalent to vec[vec.size() - 1 - 2] */\n",
    "    std::cout << *(vec.rend().base()) << '\\n';        /* equivalent to vec.front() or *(vec.rbegin()) */\n",
    "}"
   ]
  },
  {
   "cell_type": "code",
   "execution_count": 116,
   "id": "bfc7bf7e",
   "metadata": {},
   "outputs": [
    {
     "name": "stdout",
     "output_type": "stream",
     "text": [
      "5, 4, 3, 2, 1 \n"
     ]
    }
   ],
   "source": [
    "#include <iostream>\n",
    "#include <vector>\n",
    "\n",
    "template<class T>\n",
    "void backwardly(std::vector<T> &vec) {\n",
    "    typename std::vector<T>::reverse_iterator iter = vec.rbegin();\n",
    "    while (iter != vec.rend()) {\n",
    "        std::cout << *iter++ << \", \";\n",
    "    }\n",
    "    std::cout << \"\\b\\b \\n\";\n",
    "}\n",
    "\n",
    "int main() {\n",
    "    std::vector<int> vec(5);\n",
    "    \n",
    "    for (int i = 0; i < vec.capacity(); i++) {\n",
    "        vec[i] = i + 1;\n",
    "    }\n",
    "    \n",
    "    backwardly(vec);\n",
    "}"
   ]
  },
  {
   "cell_type": "markdown",
   "id": "2a9649f1",
   "metadata": {},
   "source": [
    "*Note:* Iterators in `vector` are random-access. That is, `ITERATOR + CONSTANT` is always of $O(1)$ worst-case complexity."
   ]
  },
  {
   "cell_type": "markdown",
   "id": "79a8f624",
   "metadata": {},
   "source": [
    "*Note:* Beware, with changes to a `vector`, previously defined iterators may become undefined."
   ]
  },
  {
   "cell_type": "markdown",
   "id": "aefc1eb1",
   "metadata": {},
   "source": [
    "*Note:* `vector` also defines types `const_iterator` and `const_reverse_iterator` for read-access only."
   ]
  },
  {
   "cell_type": "markdown",
   "id": "f0df372f",
   "metadata": {},
   "source": [
    "`vector` defines a copy constructor, that accepts a reference to the same type of `vector`."
   ]
  },
  {
   "cell_type": "code",
   "execution_count": 124,
   "id": "a3438966",
   "metadata": {},
   "outputs": [
    {
     "name": "stdout",
     "output_type": "stream",
     "text": [
      "1, 1, 1, 1, 1, \b\b \n",
      "3, 1, 1, 1, 1, \b\b \n"
     ]
    }
   ],
   "source": [
    "#include <iostream>\n",
    "#include <vector>\n",
    "\n",
    "template<class T>\n",
    "void forwardly(std::vector<T> &vec) {\n",
    "    typename std::vector<T>::iterator iter = vec.begin();\n",
    "    while (iter != vec.end()) {\n",
    "        std::cout << *iter++ << \", \";\n",
    "    }\n",
    "    std::cout << \"\\b\\b \\n\";\n",
    "}\n",
    "\n",
    "int main() {\n",
    "    std::vector v1(5, 1);\n",
    "    std::vector v2(v1);\n",
    "    \n",
    "    v2[0] = 3;\n",
    "    \n",
    "    forwardly(v1);\n",
    "    forwardly(v2);\n",
    "}"
   ]
  },
  {
   "cell_type": "markdown",
   "id": "cda596a3",
   "metadata": {},
   "source": [
    "`vector` defines a templated constructor, that accepts two objects, defining the beginning and end (exclusive) from which to copy. These objects must match in type, and must allow for dereferencing and incremening operations."
   ]
  },
  {
   "cell_type": "code",
   "execution_count": 134,
   "id": "762a6e22",
   "metadata": {},
   "outputs": [
    {
     "name": "stdout",
     "output_type": "stream",
     "text": [
      "1, 2, 3, 4, 5, \b\b \n",
      "2, 3, 4, \b\b \n",
      "H, E, L, L, O, \b\b \n"
     ]
    }
   ],
   "source": [
    "#include <iostream>\n",
    "#include <vector>\n",
    "\n",
    "template<class T>\n",
    "void forwardly(std::vector<T> &vec) {\n",
    "    typename std::vector<T>::iterator iter = vec.begin();\n",
    "    while (iter != vec.end()) {\n",
    "        std::cout << *iter++ << \", \";\n",
    "    }\n",
    "    std::cout << \"\\b\\b \\n\";\n",
    "}\n",
    "\n",
    "int main() {\n",
    "    std::vector<int> v1(5);\n",
    "    \n",
    "    for (int i = 0; i < v1.size(); i++) {\n",
    "        v1[i] = i + 1;\n",
    "    }\n",
    "    \n",
    "    std::vector<int> v2(v1.begin() + 1, v1.end() - 1);\n",
    "    \n",
    "    char s[] = \"HELLO\";\n",
    "    \n",
    "    std::vector<char> v3(s, s + 5);\n",
    "    \n",
    "    forwardly(v1);\n",
    "    forwardly(v2);\n",
    "    forwardly(v3);\n",
    "}"
   ]
  },
  {
   "cell_type": "markdown",
   "id": "dfc7c3fd",
   "metadata": {},
   "source": [
    "In addition, `vector` overloads the assignment operator, and provides two additional `assign` methods."
   ]
  },
  {
   "cell_type": "code",
   "execution_count": 137,
   "id": "13bf37a9",
   "metadata": {},
   "outputs": [
    {
     "name": "stdout",
     "output_type": "stream",
     "text": [
      "1, 2, 3, 4, 5, \b\b \n",
      "1, 2, 3, 4, 5, \b\b \n",
      "3, 4, 5, \b\b \n",
      "0, 0, 0, 0, 0, \b\b \n"
     ]
    }
   ],
   "source": [
    "#include <iostream>\n",
    "#include <vector>\n",
    "\n",
    "template<class T>\n",
    "void forwardly(std::vector<T> &vec) {\n",
    "    typename std::vector<T>::iterator iter = vec.begin();\n",
    "    while (iter != vec.end()) {\n",
    "        std::cout << *iter++ << \", \";\n",
    "    }\n",
    "    std::cout << \"\\b\\b \\n\";\n",
    "}\n",
    "\n",
    "int main() {\n",
    "    std::vector<int> v1(5);\n",
    "    \n",
    "    for (int i = 0; i < v1.size(); i++) {\n",
    "        v1[i] = i + 1;\n",
    "    }\n",
    "    \n",
    "    std::vector<int> v2;\n",
    "    v2 = v1;                                  /* Copies 'v1' into 'v2' (grows implicitly) */\n",
    "    \n",
    "    std::vector<int> v3;\n",
    "    v3.assign(v1.begin() + 2, v1.end());      /* Copies from 'A' to 'B - 1' */\n",
    "    \n",
    "    std::vector<int> v4;\n",
    "    v4.assign(5, 0);                          /* Copies '0' five times (Second parameter is non-optional) */\n",
    "    \n",
    "    forwardly(v1);\n",
    "    forwardly(v2);\n",
    "    forwardly(v3);\n",
    "    forwardly(v4);\n",
    "}"
   ]
  },
  {
   "cell_type": "markdown",
   "id": "340e4c73",
   "metadata": {},
   "source": [
    "`vector` defines the method `insert`, to insert elements into a vector, in $O(n)$ worst-case complexity."
   ]
  },
  {
   "cell_type": "code",
   "execution_count": 142,
   "id": "3e199613",
   "metadata": {},
   "outputs": [
    {
     "name": "stdout",
     "output_type": "stream",
     "text": [
      "0, 1, 2, 3, 4, 5, \b\b \n",
      "1, 2, 3, 4, 5, 0, 0, 0, \b\b \n",
      "0, 0, 1, 2, 3, 4, 5, 0, 0, \b\b \n"
     ]
    }
   ],
   "source": [
    "#include <iostream>\n",
    "#include <vector>\n",
    "\n",
    "template<class T>\n",
    "void forwardly(std::vector<T> &vec) {\n",
    "    typename std::vector<T>::iterator iter = vec.begin();\n",
    "    while (iter != vec.end()) {\n",
    "        std::cout << *iter++ << \", \";\n",
    "    }\n",
    "    std::cout << \"\\b\\b \\n\";\n",
    "}\n",
    "\n",
    "int main() {\n",
    "    std::vector<int> v1(5);\n",
    "    \n",
    "    for (int i = 0; i < v1.size(); i++) {\n",
    "        v1[i] = i + 1;\n",
    "    }\n",
    "    \n",
    "    std::vector<int> v2(v1);\n",
    "    v2.insert(v2.begin(), 0);                             /* Insert '0' at beginning */\n",
    "    \n",
    "    std::vector<int> v3(v1);\n",
    "    v3.insert(v3.end(), 3, 0);                            /* Insert three '0' at end */\n",
    "    \n",
    "    std::vector<int> v4(4, 0);\n",
    "    v4.insert(v4.begin() + 2, v1.begin(), v1.end());      /* Insert at index '2', from 'A' to 'B - 1' */\n",
    "                                                          /* 'A' and 'B' must allow deref. and inc.   */\n",
    "\n",
    "    forwardly(v2);\n",
    "    forwardly(v3);\n",
    "    forwardly(v4);\n",
    "}"
   ]
  },
  {
   "cell_type": "markdown",
   "id": "6abae327",
   "metadata": {},
   "source": [
    "`vector` defines the method `erase`, to remove elements from a vector, in $O(n)$ worse-case complexity."
   ]
  },
  {
   "cell_type": "code",
   "execution_count": 150,
   "id": "12a19348",
   "metadata": {},
   "outputs": [
    {
     "name": "stdout",
     "output_type": "stream",
     "text": [
      "1, 2, 3, 4, 5, \b\b \n",
      "2, 3, 4, 5, \b\b \n",
      "4, 5, \b\b \n"
     ]
    }
   ],
   "source": [
    "#include <iostream>\n",
    "#include <vector>\n",
    "\n",
    "template<class T>\n",
    "void forwardly(std::vector<T> &vec) {\n",
    "    typename std::vector<T>::iterator iter = vec.begin();\n",
    "    while (iter != vec.end()) {\n",
    "        std::cout << *iter++ << \", \";\n",
    "    }\n",
    "    std::cout << \"\\b\\b \\n\";\n",
    "}\n",
    "\n",
    "int main() {\n",
    "    std::vector<int> v(5);\n",
    "    \n",
    "    for (int i = 0; i < v.size(); i++) {\n",
    "        v[i] = i + 1;\n",
    "    }\n",
    "    \n",
    "    forwardly(v);\n",
    "    \n",
    "    v.erase(v.begin());                      /* Remove at iterator 'A' */\n",
    "    forwardly(v);\n",
    "    \n",
    "    v.erase(v.begin(), v.begin() + 2);       /* Remove at iterator 'A' to 'B - 1' */\n",
    "    forwardly(v);\n",
    "}"
   ]
  },
  {
   "cell_type": "markdown",
   "id": "8aa468b1",
   "metadata": {},
   "source": [
    "`vector` defines the method `clear`, that removes all elements from a vector, with $O(n)$ complexity."
   ]
  },
  {
   "cell_type": "code",
   "execution_count": 153,
   "id": "eb31f52d",
   "metadata": {},
   "outputs": [
    {
     "name": "stdout",
     "output_type": "stream",
     "text": [
      "Size: 5, Capacity: 5\n",
      "Size: 0, Capacity: 5\n"
     ]
    }
   ],
   "source": [
    "#include <iostream>\n",
    "#include <vector>\n",
    "\n",
    "template<class T>\n",
    "void summary(std::vector<T> &vec) {\n",
    "    std::cout << \"Size: \" << vec.size() << \", Capacity: \" << vec.capacity() << '\\n';\n",
    "}\n",
    "\n",
    "int main() {\n",
    "    std::vector<int> v(5);\n",
    "    \n",
    "    summary(v);\n",
    "    \n",
    "    v.clear();\n",
    "    \n",
    "    summary(v);\n",
    "}"
   ]
  },
  {
   "cell_type": "markdown",
   "id": "1aa47294",
   "metadata": {},
   "source": [
    "`vector` defines the method `swap`, that swaps the contents of two vectors, in $O(1)$ worse-case time complexity."
   ]
  },
  {
   "cell_type": "code",
   "execution_count": 158,
   "id": "4832d99a",
   "metadata": {},
   "outputs": [
    {
     "name": "stdout",
     "output_type": "stream",
     "text": [
      "Vector [1]:: 1, 1, 1, 1, 1, \b\b \n",
      "Vector [2]:: 2, 2, 2, \b\b \n",
      "After swapping...\n",
      "Vector [1]:: 2, 2, 2, \b\b \n",
      "Vector [2]:: 1, 1, 1, 1, 1, \b\b \n"
     ]
    }
   ],
   "source": [
    "#include <iostream>\n",
    "#include <vector>\n",
    "\n",
    "template<class T>\n",
    "void forwardly(const char * const label, std::vector<T> &vec) {\n",
    "    std::cout << label << \": \";\n",
    "    typename std::vector<T>::iterator iter = vec.begin();\n",
    "    while (iter != vec.end()) {\n",
    "        std::cout << *iter++ << \", \";\n",
    "    }\n",
    "    std::cout << \"\\b\\b \\n\";\n",
    "}\n",
    "\n",
    "int main() {\n",
    "    std::vector<int> v1(5, 1);\n",
    "    std::vector<int> v2(3, 2);\n",
    "    \n",
    "    forwardly(\"Vector [1]:\", v1);\n",
    "    forwardly(\"Vector [2]:\", v2);\n",
    "    \n",
    "    v1.swap(v2);\n",
    "    std::cout << \"After swapping...\\n\";\n",
    "    \n",
    "    forwardly(\"Vector [1]:\", v1);\n",
    "    forwardly(\"Vector [2]:\", v2);\n",
    "}"
   ]
  },
  {
   "cell_type": "markdown",
   "id": "6a3f842c",
   "metadata": {},
   "source": [
    "To compare two `vector` objects, the type of objects the two vectors contain must define the `<` and `==` operators between them."
   ]
  },
  {
   "cell_type": "code",
   "execution_count": null,
   "id": "587abe5a",
   "metadata": {},
   "outputs": [],
   "source": [
    "std::vector<A> v_a(...);\n",
    "std::vector<B> v_b(...);\n",
    "\n",
    "v_a < v_b;                /* 'A' < 'B' must be defined  */\n",
    "\n",
    "v_a == v_b;               /* 'A' == 'B' must be defined */\n",
    "\n",
    "v_a != v_b;               /* !('A' == 'B')              */\n",
    "\n",
    "v_a > v_b;                /* B' < 'A'                   */\n",
    "\n",
    "v_a <= v_b;               /* !('B' < 'A')               */\n",
    "\n",
    "v_a >= v_b;               /* !('A' < 'B')               */"
   ]
  },
  {
   "cell_type": "markdown",
   "id": "631c2b7f",
   "metadata": {},
   "source": [
    "*Note:* The implementation of `<` and `==` operators must be `const`."
   ]
  },
  {
   "cell_type": "markdown",
   "id": "ff71981c",
   "metadata": {},
   "source": [
    "*Note:* The implementation of `<` and `==` must be transitive."
   ]
  },
  {
   "cell_type": "markdown",
   "id": "9f2a072e",
   "metadata": {},
   "source": [
    "*Note:* For two `vector` objects, `x` and `y`, `x` is less than `y`: \n",
    "* If for the first non-equal elements at index `i`, `x[i] < y[i]` evaluates to true.\n",
    "* If `x[i] == y[i]` evaluates to true for all elements in `x`, and `x.size() < y.size()` evaluates to true."
   ]
  },
  {
   "cell_type": "markdown",
   "id": "20140c76",
   "metadata": {},
   "source": [
    "`vector` defines the type `value_type`, that is the type of the objects contained within. This can be used to define functions that deal with `vector` objects generically."
   ]
  },
  {
   "cell_type": "code",
   "execution_count": 195,
   "id": "54ab6465",
   "metadata": {},
   "outputs": [
    {
     "name": "stdout",
     "output_type": "stream",
     "text": [
      "FOUND (5)"
     ]
    }
   ],
   "source": [
    "#include <iostream>\n",
    "#include <vector>\n",
    "\n",
    "template<class T>\n",
    "typename std::vector<T>::iterator search(std::vector<T> &vec, const typename std::vector<T>::value_type &value) {\n",
    "    typename std::vector<T>::iterator iter(vec.begin());\n",
    "    while (iter != vec.end()) {\n",
    "        if (*iter == value) {\n",
    "            break;\n",
    "        }\n",
    "        iter++;\n",
    "    }\n",
    "    return iter;\n",
    "}\n",
    "\n",
    "int main() {\n",
    "    std::vector<int> v(5);\n",
    "    \n",
    "    for (int i = 0; i < v.size(); i++) {\n",
    "        v[i] = i+1;\n",
    "    }\n",
    "    \n",
    "    std::vector<int>::iterator iter = search(v, 5);\n",
    "    \n",
    "    if (iter != v.end()) {\n",
    "        std::cout << \"FOUND (\" << *iter << ')';\n",
    "    } else {\n",
    "        std::cout << \"NOT FOUND\";\n",
    "    }\n",
    "}"
   ]
  },
  {
   "cell_type": "markdown",
   "id": "29fb3da4",
   "metadata": {},
   "source": [
    "The `vector` template defines a specialization `vector<bool>` that stores `bool` values as bits, to save memory."
   ]
  },
  {
   "cell_type": "code",
   "execution_count": 205,
   "id": "4174fc84",
   "metadata": {},
   "outputs": [
    {
     "name": "stdout",
     "output_type": "stream",
     "text": [
      "64\n",
      "128\n"
     ]
    }
   ],
   "source": [
    "#include <iostream>\n",
    "#include <vector>\n",
    "                            /* Capacity rounds up to multiples of an implementation-dependent value */\n",
    "int main() {\n",
    "    std::vector<bool> v(1);        \n",
    "    \n",
    "    std::cout << v.capacity() << '\\n';   \n",
    "    \n",
    "    v.reserve(65);\n",
    "    \n",
    "    std::cout << v.capacity() << '\\n';\n",
    "}"
   ]
  },
  {
   "cell_type": "markdown",
   "id": "9720971a",
   "metadata": {},
   "source": [
    "#### Summary of `vector` <a class=\"anchor\" id=\"summary-of-vector\"></a>"
   ]
  },
  {
   "cell_type": "markdown",
   "id": "5a42897b",
   "metadata": {},
   "source": [
    "| *Method* |\n",
    "| :--- |\n",
    "| `vector()` |\n",
    "| `vector(N)` |\n",
    "| `vector(N, OBJ)` |\n",
    "| `vector(ITER_BEGIN, ITER_END)` |\n",
    "| `vector(VECTOR)` |\n",
    "| ㅤ |\n",
    "| `assign(N, OBJ)` |\n",
    "| `assign(ITER_BEGIN, ITER_END)` |\n",
    "| `=` |\n",
    "| ㅤ |\n",
    "| `size()` |\n",
    "| `resize(N)` |\n",
    "| `max_size()` |\n",
    "| `empty()` |\n",
    "| ㅤ |\n",
    "| `capacity()` |\n",
    "| `reserve(N)` |\n",
    "| ㅤ |\n",
    "| `[]` |\n",
    "| `at(INDEX)` |\n",
    "| `front()` |\n",
    "| `back()` |\n",
    "| ㅤ |\n",
    "| `push_back(OBJ)` |\n",
    "| `pop_back()` |\n",
    "| ㅤ |\n",
    "| `begin()` |\n",
    "| `end()` |\n",
    "| `rbegin()` |\n",
    "| `rend()` |\n",
    "| ㅤ |\n",
    "| `insert(ITER_POS, OBJ)` |\n",
    "| `insert(ITER_POS, N, OBJ)` |\n",
    "| `insert(ITER_POS, ITER_BEGIN, ITER_END)` |\n",
    "| ㅤ |\n",
    "| `erase(ITER_POS)` |\n",
    "| `erase(ITER_START, ITER_STOP)` |\n",
    "| `clear()` |\n",
    "| ㅤ |\n",
    "| `swap(VECTOR)` |"
   ]
  },
  {
   "cell_type": "markdown",
   "id": "090b9056",
   "metadata": {},
   "source": [
    "#### `list` <a class=\"anchor\" id=\"list\"></a>"
   ]
  },
  {
   "cell_type": "markdown",
   "id": "b7140fcf",
   "metadata": {},
   "source": [
    "A `list` is, most frequently, an implementation of a doubly linked list."
   ]
  },
  {
   "cell_type": "markdown",
   "id": "7c2f735c",
   "metadata": {},
   "source": [
    "*Note:* `list` is optimized for `insert` and `erase` operations."
   ]
  },
  {
   "cell_type": "markdown",
   "id": "c7fa2f53",
   "metadata": {},
   "source": [
    "Compared to `vector`, some methods are missing from `list`."
   ]
  },
  {
   "cell_type": "markdown",
   "id": "a70fc650",
   "metadata": {},
   "source": [
    "| *Missing Method* |\n",
    "| --- |\n",
    "| `capacity` |\n",
    "| `reserve` |\n",
    "| `[]` |\n",
    "| `at` |"
   ]
  },
  {
   "cell_type": "markdown",
   "id": "e3c77de8",
   "metadata": {},
   "source": [
    "Compared to `vector`, new methods, that push and pop from the front, are added to `list`."
   ]
  },
  {
   "cell_type": "markdown",
   "id": "886dc265",
   "metadata": {},
   "source": [
    "| *Added Method* | *Worst-case Time Complexity* |\n",
    "| --- | --- |\n",
    "| `push_front` | $O(1)$ |\n",
    "| `pop_front` | $O(1)$ |"
   ]
  },
  {
   "cell_type": "markdown",
   "id": "44a365cc",
   "metadata": {},
   "source": [
    "The maximum size of a `list` is limited only by the data type of the variable tracking the size."
   ]
  },
  {
   "cell_type": "code",
   "execution_count": 207,
   "id": "f5e97f76",
   "metadata": {},
   "outputs": [
    {
     "name": "stdout",
     "output_type": "stream",
     "text": [
      "384307168202282325\n",
      "384307168202282325\n"
     ]
    }
   ],
   "source": [
    "#include <iostream>\n",
    "#include <list>\n",
    "\n",
    "int main() {\n",
    "    std::list<float> ll_float;\n",
    "    std::list<double> ll_double;\n",
    "    \n",
    "    std::cout << ll_float.max_size() << '\\n';\n",
    "    std::cout << ll_double.max_size() << '\\n';\n",
    "}"
   ]
  },
  {
   "cell_type": "markdown",
   "id": "ed0cd638",
   "metadata": {},
   "source": [
    "Iterators in `list` are bi-directional. That is, they may be incremented and decremented only."
   ]
  },
  {
   "cell_type": "code",
   "execution_count": 239,
   "id": "86da7f69",
   "metadata": {},
   "outputs": [
    {
     "name": "stdout",
     "output_type": "stream",
     "text": [
      "1\n",
      "2\n"
     ]
    }
   ],
   "source": [
    "#include <iostream>\n",
    "#include <list>\n",
    "\n",
    "int main() {\n",
    "    int arr[] = {1, 2, 3, 4, 5};\n",
    "\n",
    "    std::list<int> ll_int(arr, arr + 5);\n",
    "    \n",
    "    std::cout << *ll_int.begin() << '\\n';\n",
    "    std::cout << *++ll_int.begin() << '\\n';\n",
    "}"
   ]
  },
  {
   "cell_type": "markdown",
   "id": "75480311",
   "metadata": {},
   "source": [
    "`list` also defines the `splice` method, that moves elements from one `list` to another, without copying."
   ]
  },
  {
   "cell_type": "code",
   "execution_count": null,
   "id": "3f1aa517",
   "metadata": {},
   "outputs": [],
   "source": [
    "std::list<int> ls1(...);\n",
    "\n",
    "std::list<int> ls2(...);"
   ]
  },
  {
   "cell_type": "code",
   "execution_count": null,
   "id": "d3f93038",
   "metadata": {},
   "outputs": [],
   "source": [
    "                                                         /* Moves elements from 'ls2' to 'ls1' */\n",
    "                                                         /* DEST: Before 'ITER_LS1' */\n",
    "                                                         \n",
    "ls1.splice(ITER_LS1, ls2);                               /* SRC: All elements */\n",
    "                                                        \n",
    "ls1.splice(ITER_LS1, ls2, ITER_LS2);                     /* SRC: Element at 'ITER_LS2' */\n",
    "\n",
    "ls1.splice(ITER_LS1, ls2, ITER_LS2_A, ITER_LS2_B);       /* SRC: Elements from 'ITER_LS2_A' to before */\n",
    "                                                         /*      'ITER_LS2_B'                         */"
   ]
  },
  {
   "cell_type": "markdown",
   "id": "91d37356",
   "metadata": {},
   "source": [
    "`list` also defines the `merge` method, that merges elements from one `list` into another, without copying.\n",
    "\n",
    "* If the two lists are initially sorted, the merged list is sorted.\n",
    "* If the two lists are unsorted, the merged list is unsorted.\n",
    "\n",
    "*Note:* The algorithm used to `merge` two sorted lists is stable. That is, it gurantees the same relative order of equal elements before and after merging."
   ]
  },
  {
   "cell_type": "code",
   "execution_count": 249,
   "id": "7dbb88dd",
   "metadata": {},
   "outputs": [
    {
     "name": "stdout",
     "output_type": "stream",
     "text": [
      "[List-1]: 1, 3, 4, 5, 8, \b\b \n",
      "[List-2]: 0, 2, 6, 7, 9, \b\b \n",
      "\n",
      "After merging 'ls2' into 'ls1'\n",
      "\n",
      "[List-1]: 0, 1, 2, 3, 4, 5, 6, 7, 8, 9, \b\b \n",
      "[List-2]: \b\b \n"
     ]
    }
   ],
   "source": [
    "#include <iostream>\n",
    "#include <list>\n",
    "\n",
    "template<class T>\n",
    "void show(const char *label, T cont) {\n",
    "    std::cout << '[' << label << \"]: \";\n",
    "    typename T::iterator iter(cont.begin());\n",
    "    while (iter != cont.end()) {\n",
    "        std::cout << *iter << \", \";\n",
    "        iter++;\n",
    "    }\n",
    "    std::cout << \"\\b\\b \\n\";\n",
    "}\n",
    "\n",
    "int main() {\n",
    "    int arr[] = {1, 3, 4, 5, 8, 0, 2, 6, 7, 9};\n",
    "\n",
    "    std::list<int> ls1(arr, arr + 5);\n",
    "    std::list<int> ls2(arr + 5, arr + 10);\n",
    "    \n",
    "    show(\"List-1\", ls1);\n",
    "    show(\"List-2\", ls2);\n",
    "    \n",
    "    std::cout << \"\\nAfter merging 'ls2' into 'ls1'\\n\\n\";\n",
    "    \n",
    "    ls1.merge(ls2);\n",
    "    \n",
    "    show(\"List-1\", ls1);\n",
    "    show(\"List-2\", ls2);\n",
    "}"
   ]
  },
  {
   "cell_type": "markdown",
   "id": "a5be185a",
   "metadata": {},
   "source": [
    "By default, the `merge` method uses the `<` operator to compare elements. Alternatively, it may be passed a *comparator* function object that returns `true` if its first argument should preceed its second argument in ordering.\n",
    "\n",
    "A *function object* is an object that overloads the function call operator, `()`.\n",
    "\n",
    "*Note:* A function object is preferred over a function pointer, because the compiler can much more easily inline its call."
   ]
  },
  {
   "cell_type": "code",
   "execution_count": 253,
   "id": "383102ac",
   "metadata": {},
   "outputs": [
    {
     "name": "stdout",
     "output_type": "stream",
     "text": [
      "[List-1]: 1, 3, 4, 5, 8, \b\b \n",
      "[List-2]: 0, 2, 6, 7, 9, \b\b \n",
      "\n",
      "After merging 'ls2' into 'ls1'\n",
      "\n",
      "[List-1]: 0, 1, 2, 3, 4, 5, 6, 7, 8, 9, \b\b \n",
      "[List-2]: \b\b \n"
     ]
    }
   ],
   "source": [
    "#include <iostream>\n",
    "#include <list>\n",
    "\n",
    "template<class T>\n",
    "void show(const char *label, T cont) {\n",
    "    std::cout << '[' << label << \"]: \";\n",
    "    typename T::iterator iter(cont.begin());\n",
    "    while (iter != cont.end()) {\n",
    "        std::cout << *iter << \", \";\n",
    "        iter++;\n",
    "    }\n",
    "    std::cout << \"\\b\\b \\n\";\n",
    "}\n",
    "\n",
    "class Comparator {\n",
    "public:\n",
    "    bool operator () (int a, int b) {\n",
    "        return a < b;\n",
    "    }\n",
    "};\n",
    "\n",
    "int main() {\n",
    "    int arr[] = {1, 3, 4, 5, 8, 0, 2, 6, 7, 9};\n",
    "\n",
    "    std::list<int> ls1(arr, arr + 5);\n",
    "    std::list<int> ls2(arr + 5, arr + 10);\n",
    "    \n",
    "    show(\"List-1\", ls1);\n",
    "    show(\"List-2\", ls2);\n",
    "    \n",
    "    std::cout << \"\\nAfter merging 'ls2' into 'ls1'\\n\\n\";\n",
    "    \n",
    "    ls1.merge(ls2, Comparator());\n",
    "    \n",
    "    show(\"List-1\", ls1);\n",
    "    show(\"List-2\", ls2);\n",
    "}"
   ]
  },
  {
   "cell_type": "markdown",
   "id": "3f7e0b79",
   "metadata": {},
   "source": [
    "`list` also defines the `sort` method."
   ]
  },
  {
   "cell_type": "code",
   "execution_count": 296,
   "id": "5ec3dea0",
   "metadata": {},
   "outputs": [
    {
     "name": "stdout",
     "output_type": "stream",
     "text": [
      "[List]: 1.1  2.2  1.3  1.2  4.5  2.1  \b\b \n",
      "\n",
      "After sorting...\n",
      "\n",
      "[List]: 1.1  1.2  1.3  2.1  2.2  4.5  \b\b \n"
     ]
    }
   ],
   "source": [
    "#include <iostream>\n",
    "#include <list>\n",
    "\n",
    "template<class T>\n",
    "void show(const char *label, T cont) {\n",
    "    std::cout << '[' << label << \"]: \";\n",
    "    typename T::iterator iter(cont.begin());\n",
    "    while (iter != cont.end()) {\n",
    "        std::cout << *iter << \"  \";\n",
    "        iter++;\n",
    "    }\n",
    "    std::cout << \"\\b\\b \\n\";\n",
    "}\n",
    "\n",
    "class Comparator {\n",
    "public:\n",
    "    bool operator () (int a, int b) {\n",
    "        return a < b;\n",
    "    }\n",
    "};\n",
    "\n",
    "int main() {\n",
    "    double arr[] = {1.1, 2.2, 1.3, 1.2, 4.5, 2.1};\n",
    "\n",
    "    std::list<double> ls(arr, arr + 6);\n",
    "    \n",
    "    show(\"List\", ls);\n",
    "    \n",
    "    std::cout << \"\\nAfter sorting...\\n\\n\";\n",
    "    \n",
    "    ls.sort(Comparator());                /* sorts, neglecting the fraction part */\n",
    "                                            /* 'sort()' also possible (doesn't ignore fraction) */\n",
    "    \n",
    "    show(\"List\", ls);\n",
    "}"
   ]
  },
  {
   "cell_type": "markdown",
   "id": "e70fe226",
   "metadata": {},
   "source": [
    "*Note:* The algorithm used to `sort` a `list` is stable. That is, it gurantees the same relative order of equal elements before and after sorting."
   ]
  },
  {
   "cell_type": "markdown",
   "id": "1dbe9df7",
   "metadata": {},
   "source": [
    "`list` also defines the `remove` method, that removes elements from a list, equal to a passed object, using `==` to test for equality."
   ]
  },
  {
   "cell_type": "code",
   "execution_count": 260,
   "id": "4a162ae5",
   "metadata": {
    "scrolled": true
   },
   "outputs": [
    {
     "name": "stdout",
     "output_type": "stream",
     "text": [
      "[List]: 1  2  2  3  3  3  4  \b\b \n",
      "\n",
      "After removing (3)...\n",
      "\n",
      "[List]: 1  2  2  4  \b\b \n"
     ]
    }
   ],
   "source": [
    "#include <iostream>\n",
    "#include <list>\n",
    "\n",
    "template<class T>\n",
    "void show(const char *label, T cont) {\n",
    "    std::cout << '[' << label << \"]: \";\n",
    "    typename T::iterator iter(cont.begin());\n",
    "    while (iter != cont.end()) {\n",
    "        std::cout << *iter << \"  \";\n",
    "        iter++;\n",
    "    }\n",
    "    std::cout << \"\\b\\b \\n\";\n",
    "}\n",
    "\n",
    "int main() {\n",
    "    int arr[] = {1, 2, 2, 3, 3, 3, 4};\n",
    "\n",
    "    std::list<int> ls(arr, arr + 7);\n",
    "    \n",
    "    show(\"List\", ls);\n",
    "    \n",
    "    ls.remove(3);\n",
    "    \n",
    "    std::cout << \"\\nAfter removing (3) ...\\n\\n\";\n",
    "    \n",
    "    show(\"List\", ls);\n",
    "}"
   ]
  },
  {
   "cell_type": "markdown",
   "id": "8ad595f8",
   "metadata": {},
   "source": [
    "`list` also defines the `remove_if` method, that accepts a function object instead, that returns `true` if the passed element is to be removed."
   ]
  },
  {
   "cell_type": "code",
   "execution_count": 270,
   "id": "6a7934b7",
   "metadata": {},
   "outputs": [
    {
     "name": "stdout",
     "output_type": "stream",
     "text": [
      "[List]: 1  2  3  4  5  6  7  8  9  \b\b \n",
      "\n",
      "After removing range (3, 6) all-inclusive ...\n",
      "\n",
      "[List]: 1  2  7  8  9  \b\b \n"
     ]
    }
   ],
   "source": [
    "#include <iostream>\n",
    "#include <list>\n",
    "\n",
    "template<class T>\n",
    "void show(const char *label, T cont) {\n",
    "    std::cout << '[' << label << \"]: \";\n",
    "    typename T::iterator iter(cont.begin());\n",
    "    while (iter != cont.end()) {\n",
    "        std::cout << *iter << \"  \";\n",
    "        iter++;\n",
    "    }\n",
    "    std::cout << \"\\b\\b \\n\";\n",
    "}\n",
    "\n",
    "template<class T>\n",
    "class Remove_Range {\n",
    "private:\n",
    "    T lower, upper;\n",
    "public:\n",
    "    Remove_Range(T lower, T upper) : lower(lower), upper(upper) {}\n",
    "\n",
    "    bool operator () (const T &elem) {\n",
    "        return elem >= lower && elem <= upper;\n",
    "    }\n",
    "};\n",
    "\n",
    "int main() {\n",
    "    int arr[] = {1, 2, 3, 4, 5, 6, 7, 8, 9};\n",
    "\n",
    "    std::list<int> ls(arr, arr + 9);\n",
    "    \n",
    "    show(\"List\", ls);\n",
    "    \n",
    "    ls.remove_if(Remove_Range<int>(3, 6));\n",
    "    \n",
    "    std::cout << \"\\nAfter removing range (3, 6) all-inclusive ...\\n\\n\";\n",
    "    \n",
    "    show(\"List\", ls);\n",
    "}"
   ]
  },
  {
   "cell_type": "markdown",
   "id": "883e173c",
   "metadata": {},
   "source": [
    "`list` also defines the `unique` method, that removes repetitions of objects in a `list`.\n",
    "\n",
    "*Note:* The `unique` method removes only consecutive repetitions of an object."
   ]
  },
  {
   "cell_type": "code",
   "execution_count": 292,
   "id": "87419252",
   "metadata": {},
   "outputs": [
    {
     "name": "stdout",
     "output_type": "stream",
     "text": [
      "[List-1]: 1  1  2  2  3  3  3  4  5  \b\b \n",
      "\n",
      "After 'unique()'\n",
      "\n",
      "[List-1]: 1  2  3  4  5  \b\b \n",
      "\n",
      "--------------------------------------\n",
      "\n",
      "[List]: 1  1  2  2  3  3  3  4  5  \b\b \n",
      "\n",
      "After 'unique(Equality<int>())'\n",
      "\n",
      "[List]: 1  2  3  4  5  \b\b \n"
     ]
    }
   ],
   "source": [
    "#include <iostream>\n",
    "#include <list>\n",
    "\n",
    "template<class T>\n",
    "void show(const char *label, T cont) {\n",
    "    std::cout << '[' << label << \"]: \";\n",
    "    typename T::iterator iter(cont.begin());\n",
    "    while (iter != cont.end()) {\n",
    "        std::cout << *iter << \"  \";\n",
    "        iter++;\n",
    "    }\n",
    "    std::cout << \"\\b\\b \\n\";\n",
    "}\n",
    "\n",
    "template<class T>\n",
    "class Equality {\n",
    "public:\n",
    "    bool operator () (const T &a, const T &b) {\n",
    "        return a == b;\n",
    "    }\n",
    "};\n",
    "\n",
    "int main() {\n",
    "    int arr[] = {1, 1, 2, 2, 3, 3, 3, 4, 5};\n",
    "\n",
    "    std::list<int> ls1(arr, arr + 9);\n",
    "    show(\"List-1\", ls1);\n",
    "    ls1.unique();                                           /* Remove repetitions using '==' operator */\n",
    "    std::cout << \"\\nAfter 'unique()'\\n\\n\";\n",
    "    show(\"List-1\", ls1);\n",
    "    \n",
    "    std::cout << \"\\n--------------------------------------\\n\\n\";\n",
    "    \n",
    "    std::list<int> ls2(arr, arr + 9);\n",
    "    show(\"List\", ls2);\n",
    "    ls2.unique(Equality<int>());                            /* Remove repetitions using func. obj. */\n",
    "    std::cout << \"\\nAfter 'unique(Equality<int>())'\\n\\n\";\n",
    "    show(\"List\", ls2);\n",
    "}"
   ]
  },
  {
   "cell_type": "markdown",
   "id": "bb138606",
   "metadata": {},
   "source": [
    "`list` also defines the `reverse` method, that reverses the order of elements in a `list`."
   ]
  },
  {
   "cell_type": "code",
   "execution_count": 295,
   "id": "b5600482",
   "metadata": {},
   "outputs": [
    {
     "name": "stdout",
     "output_type": "stream",
     "text": [
      "[List]: 1  2  3  4  5  \b\b \n",
      "\n",
      "After 'reverse()'\n",
      "\n",
      "[List]: 5  4  3  2  1  \b\b \n"
     ]
    }
   ],
   "source": [
    "#include <iostream>\n",
    "#include <list>\n",
    "\n",
    "template<class T>\n",
    "void show(const char *label, T cont) {\n",
    "    std::cout << '[' << label << \"]: \";\n",
    "    typename T::iterator iter(cont.begin());\n",
    "    while (iter != cont.end()) {\n",
    "        std::cout << *iter << \"  \";\n",
    "        iter++;\n",
    "    }\n",
    "    std::cout << \"\\b\\b \\n\";\n",
    "}\n",
    "\n",
    "int main() {\n",
    "    int arr[] = {1, 2, 3, 4, 5};\n",
    "\n",
    "    std::list<int> ls1(arr, arr + 5);\n",
    "    show(\"List\", ls1);\n",
    "    ls1.reverse();\n",
    "    std::cout << \"\\nAfter 'reverse()'\\n\\n\";\n",
    "    show(\"List\", ls1);\n",
    "}"
   ]
  },
  {
   "cell_type": "markdown",
   "id": "603c43d0",
   "metadata": {},
   "source": [
    "#### Summary of `list` <a class=\"anchor\" id=\"summary-of-list\"></a>"
   ]
  },
  {
   "cell_type": "markdown",
   "id": "82e1c277",
   "metadata": {},
   "source": [
    "| *Method* |\n",
    "| :--- |\n",
    "| `list()` |\n",
    "| `list(N)` |\n",
    "| `list(N, OBJ)` |\n",
    "| `list(ITER_BEGIN, ITER_END)` |\n",
    "| `list(LIST)` |\n",
    "| ㅤ |\n",
    "| `assign(N, OBJ)` |\n",
    "| `assign(ITER_BEGIN, ITER_END)` |\n",
    "| `=` |\n",
    "| ㅤ |\n",
    "| `size()` |\n",
    "| `resize(N)` |\n",
    "| `max_size()` |\n",
    "| `empty()` |\n",
    "| ㅤ |\n",
    "| `front()` |\n",
    "| `back()` |\n",
    "| ㅤ |\n",
    "| `push_back(OBJ)` |\n",
    "| `pop_back()` |\n",
    "| `push_front(OBJ)` |\n",
    "| `pop_front()` |\n",
    "| ㅤ |\n",
    "| `begin()` |\n",
    "| `end()` |\n",
    "| `rbegin()` |\n",
    "| `rend()` |\n",
    "| ㅤ |\n",
    "| `insert(ITER_POS, OBJ)` |\n",
    "| `insert(ITER_POS, N, OBJ)` |\n",
    "| `insert(ITER_POS, ITER_BEGIN, ITER_END)` |\n",
    "| ㅤ |\n",
    "| `erase(ITER_POS)` |\n",
    "| `erase(ITER_START, ITER_STOP)` |\n",
    "| `clear()` |\n",
    "| ㅤ |\n",
    "| `swap(LIST)` |\n",
    "| ㅤ |\n",
    "| `splice(ITER_POS, LIST)` |\n",
    "| `splice(ITER_POS, LIST, ITER_LOC)` |\n",
    "| `splice(ITER_POS, LIST), ITER_BEGIN, ITER_END)` |\n",
    "| ㅤ |\n",
    "| `merge(LIST)` |\n",
    "| `merge(LIST, FUNC_OBJ)` |\n",
    "| ㅤ |\n",
    "| `sort()` |\n",
    "| ㅤ`sort(FUNC_OBJ)` |\n",
    "| ㅤ |\n",
    "| `remove(OBJ)` |\n",
    "| `remove_if(FUNC_OBJ)` |\n",
    "| ㅤ |\n",
    "| `unique()` |\n",
    "| ㅤ`unique(FUNC_OBJ)` |\n",
    "| ㅤ |\n",
    "| `reverse()` |"
   ]
  },
  {
   "cell_type": "markdown",
   "id": "44686189",
   "metadata": {},
   "source": [
    "#### `deque` <a class=\"anchor\" id=\"deque\"></a>"
   ]
  },
  {
   "cell_type": "markdown",
   "id": "4c0408e9",
   "metadata": {},
   "source": [
    "A `deque` is a double-ended queue. It supports all operations in a `vector`, in addition to `push_front` and `pop_front`.\n",
    "\n",
    "It is optimized so that operations at both ends are about as efficient as for a `list`, whereas subscripting approaches the efficiency of a `vector`. \n",
    "\n",
    "`insert` and `erase` operations from the middle of a `deque` have `vector`-like inefficiencies."
   ]
  },
  {
   "cell_type": "markdown",
   "id": "9fe78c98",
   "metadata": {},
   "source": [
    "### Sequence Adapters <a class=\"anchor\" id=\"sequence-adapters\"></a>"
   ]
  },
  {
   "cell_type": "markdown",
   "id": "6b8e1741",
   "metadata": {},
   "source": [
    "A *sequence adapter* is a sequence (container), that relies on another sequence (container) to perform its intended operations.\n",
    "\n",
    "Within, it defines an instance of the sequence as an attribute, and calls its methods within the bodies of its own.\n",
    "\n",
    "For all sequence adapters, the sequence it relies on is provided as a secondary template argument, and defaults to `deque`."
   ]
  },
  {
   "cell_type": "code",
   "execution_count": null,
   "id": "ca5353af",
   "metadata": {},
   "outputs": [],
   "source": [
    "stack<int, vector<int>> s;                     /* `stack` relies on `vector` */"
   ]
  },
  {
   "cell_type": "code",
   "execution_count": null,
   "id": "c105ae70",
   "metadata": {},
   "outputs": [],
   "source": [
    "queue<int> q;                                  /* `queue` relies on `deque` */"
   ]
  },
  {
   "cell_type": "code",
   "execution_count": null,
   "id": "433047b7",
   "metadata": {},
   "outputs": [],
   "source": [
    "priority_queue<int, list<int>> pq;             /* `priority_queue` relies on `list` */"
   ]
  },
  {
   "cell_type": "markdown",
   "id": "d160960c",
   "metadata": {},
   "source": [
    "All sequence adapters may be initialized (or, copy-constructed) from a sequence object, that must match the type of sequence the adapter relies on."
   ]
  },
  {
   "cell_type": "code",
   "execution_count": null,
   "id": "a02b0ac2",
   "metadata": {},
   "outputs": [],
   "source": [
    "vector<int> v;\n",
    "\n",
    "stack<int, vector<int>> s(v);"
   ]
  },
  {
   "cell_type": "markdown",
   "id": "0137b47d",
   "metadata": {},
   "source": [
    "#### `stack` <a class=\"anchor\" id=\"stack\"></a>"
   ]
  },
  {
   "cell_type": "markdown",
   "id": "9b2dcf3d",
   "metadata": {},
   "source": [
    "`stack` allows for stack operations only."
   ]
  },
  {
   "cell_type": "markdown",
   "id": "2a769894",
   "metadata": {},
   "source": [
    "| *Method* |\n",
    "| :--- |\n",
    "| `stack()` |\n",
    "| `stack(SEQUENCE)` |\n",
    "| `stack(STACK)` |\n",
    "| ㅤ |\n",
    "| `=` |\n",
    "| ㅤ |\n",
    "| `size()` |\n",
    "| `empty()` |\n",
    "| ㅤ |\n",
    "| `top()` |\n",
    "| ㅤ |\n",
    "| `push(OBJ)` |\n",
    "| `pop()` |"
   ]
  },
  {
   "cell_type": "markdown",
   "id": "4f0697bd",
   "metadata": {},
   "source": [
    "#### `queue` <a class=\"anchor\" id=\"queue\"></a>"
   ]
  },
  {
   "cell_type": "markdown",
   "id": "567b69b2",
   "metadata": {},
   "source": [
    "`queue` allows for queue operations only."
   ]
  },
  {
   "cell_type": "markdown",
   "id": "0b457636",
   "metadata": {},
   "source": [
    "| *Method* |\n",
    "| :--- |\n",
    "| `queue()` |\n",
    "| `queue(SEQUENCE)` |\n",
    "| `queue(QUEUE)` |\n",
    "| ㅤ |\n",
    "| `=` |\n",
    "| ㅤ |\n",
    "| `size()` |\n",
    "| `empty()` |\n",
    "| ㅤ |\n",
    "| `front()` |\n",
    "| `back()` |\n",
    "| ㅤ |\n",
    "| `push(OBJ)` |\n",
    "| `pop()` |"
   ]
  },
  {
   "cell_type": "markdown",
   "id": "34d3933d",
   "metadata": {},
   "source": [
    "*Note:* A `queue` calls the `pop_front` method and hence, cannot rely on a `vector`."
   ]
  },
  {
   "cell_type": "markdown",
   "id": "b54b8193",
   "metadata": {},
   "source": [
    "#### `priority_queue` <a class=\"anchor\" id=\"priority-queue\"></a>"
   ]
  },
  {
   "cell_type": "markdown",
   "id": "0fe3b665",
   "metadata": {},
   "source": [
    "A `priority_queue` is a `queue` in which each element is given a priority that controls the order in which elements get to the `top`."
   ]
  },
  {
   "cell_type": "markdown",
   "id": "4470f487",
   "metadata": {},
   "source": [
    "| *Method* |\n",
    "| :--- |\n",
    "| `priority_queue()` |\n",
    "| `priority_queue(FUNC_OBJ)` |\n",
    "| `priority_queue(FUNC_OBJ, SEQUENCE)` |\n",
    "| `priority_queue(ITER_BEGIN, ITER_END, ...)` |\n",
    "| ㅤ |\n",
    "| `=` |\n",
    "| ㅤ |\n",
    "| `size()` |\n",
    "| `empty()` |\n",
    "| ㅤ |\n",
    "| `top()` |\n",
    "| ㅤ |\n",
    "| `push(OBJ)` |\n",
    "| `pop()` |"
   ]
  },
  {
   "cell_type": "markdown",
   "id": "151aad63",
   "metadata": {},
   "source": [
    "*Note:* A `priority_queue` uses the random-access iterators of a sequence and hence, cannot rely on a `list`."
   ]
  },
  {
   "cell_type": "markdown",
   "id": "3ec9aa3e",
   "metadata": {},
   "source": [
    "*Note:* An efficient implementation of a `priority_queue` is using a heap data structure, with $O(log(n))$ complexity in `push` and `pop` operations."
   ]
  },
  {
   "cell_type": "markdown",
   "id": "8c97bcde",
   "metadata": {},
   "source": [
    "By default, `priority_queue` compares elements using `<`, and bubbles larger elements to the top.\n",
    "\n",
    "A function object's class may be passed as a ternary template argument, and is relied on for comparison instead."
   ]
  },
  {
   "cell_type": "code",
   "execution_count": 333,
   "id": "1801095b",
   "metadata": {},
   "outputs": [
    {
     "name": "stdout",
     "output_type": "stream",
     "text": [
      "6 10 2 8 4 3 5 9 1 7 "
     ]
    }
   ],
   "source": [
    "#include <queue>\n",
    "#include <iostream>\n",
    "#include <vector>\n",
    "\n",
    "class Compare {\n",
    "    char isEven;\n",
    "public:\n",
    "    Compare(char isEven=0) : isEven(isEven) {}\n",
    "\n",
    "    bool operator () (int x, int y) {\n",
    "        return x % 2 == isEven;                /* bubbles odd or even elements to the top */\n",
    "    }\n",
    "};\n",
    "\n",
    "int main() {\n",
    "    int arr[] = {1, 2, 3, 4, 5, 6, 7, 8, 9, 10};\n",
    "    \n",
    "    std::priority_queue<int, std::vector<int>, Compare> pq(arr, arr + 10, Compare(1));\n",
    "    \n",
    "    while (!pq.empty()) {\n",
    "        std::cout << pq.top() << ' ';\n",
    "        pq.pop();\n",
    "    }\n",
    "}"
   ]
  },
  {
   "cell_type": "markdown",
   "id": "8c9275bf",
   "metadata": {},
   "source": [
    "*Note:* The order of equal elements is undefined in a `priority_queue`."
   ]
  },
  {
   "cell_type": "markdown",
   "id": "70b703d5",
   "metadata": {},
   "source": [
    "### Associative Containers <a class=\"anchor\" id=\"associative-containers\"></a>"
   ]
  },
  {
   "cell_type": "markdown",
   "id": "2c29c01b",
   "metadata": {},
   "source": [
    "#### `map` <a class=\"anchor\" id=\"map\"></a>"
   ]
  },
  {
   "cell_type": "markdown",
   "id": "55150796",
   "metadata": {},
   "source": [
    "A `map` is a dictionary of key-value pairs, where each key is associated with a single value.\n",
    "\n",
    "A common implementation of a `map` is using a *Binary Search Tree* (BST) structure. Keys are stored and retrieved in $O(log(n))$ time complexity."
   ]
  },
  {
   "cell_type": "markdown",
   "id": "fb55fcf2",
   "metadata": {},
   "source": [
    "*Note:* By default, keys are compared using `<`. Equivalence is tested using `!((x < y) || (y < x))`.\n",
    "\n",
    "*Note:* `map` stores key-value pairs in ascending order.\n",
    "\n",
    "*Note:* Traversing a map, using `begin()` and `end()`, would be depth-first, in-order traversal."
   ]
  },
  {
   "cell_type": "code",
   "execution_count": null,
   "id": "4114845e",
   "metadata": {},
   "outputs": [],
   "source": [
    "std::map<KEY_TYPE, VALUE_TYPE> m;"
   ]
  },
  {
   "cell_type": "code",
   "execution_count": null,
   "id": "3ac33d4b",
   "metadata": {},
   "outputs": [],
   "source": [
    "std::map<KEY_TYPE, VALUE_TYPE, FUNC_OBJ_CLASS> m;"
   ]
  },
  {
   "cell_type": "markdown",
   "id": "49e0864c",
   "metadata": {},
   "source": [
    "The `map` class defines three useful data types, within.\n",
    "\n",
    "| *Alias* | *Type* |\n",
    "| :-- | :-- |\n",
    "| `key_type` | `KEY_TYPE`\n",
    "| `mapped_type` | `VALUE_TYPE`\n",
    "| `value_type` | `pair<KEY_TYPE, VALUE_TYPE>`"
   ]
  },
  {
   "cell_type": "markdown",
   "id": "e474a586",
   "metadata": {},
   "source": [
    "*Note:* `std::pair` is a class in its own right, defined in `<utility>`."
   ]
  },
  {
   "cell_type": "markdown",
   "id": "494a8249",
   "metadata": {},
   "source": [
    "`map` defines a number of constructors."
   ]
  },
  {
   "cell_type": "markdown",
   "id": "3df3e623",
   "metadata": {},
   "source": [
    "| *Constructor* |\n",
    "| :-- |\n",
    "| `map()` |\n",
    "| `map(FUNC_OBJ)` |\n",
    "| `map(ITER_BEGIN, ITER_END, ...)` |\n",
    "| `map(MAP)` |"
   ]
  },
  {
   "cell_type": "markdown",
   "id": "cc3bf1ea",
   "metadata": {},
   "source": [
    "`map` defines the `[]` operator for accessing values. \n",
    "* If a passed key is not found, it is added and the value is default-initialized.\n",
    "* If the key already exists, the value is overwritten."
   ]
  },
  {
   "cell_type": "code",
   "execution_count": 339,
   "id": "50d3e773",
   "metadata": {},
   "outputs": [
    {
     "name": "stdout",
     "output_type": "stream",
     "text": [
      "Size: 0\n",
      "Accessing empty map with key '0': 0\n",
      "Size: 1\n",
      "Setting key '0': 5.3\n",
      "Size: 1\n"
     ]
    }
   ],
   "source": [
    "#include <map>\n",
    "#include <iostream>\n",
    "\n",
    "int main() {\n",
    "    std::map<int, double> m;\n",
    "    \n",
    "    std::cout << \"Size: \" << m.size() << '\\n';\n",
    "    std::cout << \"Accessing empty map with key '0': \" << m[0] << '\\n';\n",
    "    std::cout << \"Size: \" << m.size() << '\\n';\n",
    "    std::cout << \"Setting key '0': \" << (m[0] = 5.3) << '\\n';\n",
    "    std::cout << \"Size: \" << m.size() << '\\n';\n",
    "}"
   ]
  },
  {
   "cell_type": "markdown",
   "id": "3c24ff62",
   "metadata": {},
   "source": [
    "`map` defines bi-directional `iterator` and `reverse_iterator` types, with their respective methods."
   ]
  },
  {
   "cell_type": "code",
   "execution_count": 12,
   "id": "e2487af6",
   "metadata": {},
   "outputs": [
    {
     "name": "stdout",
     "output_type": "stream",
     "text": [
      "[1]: -4.1\n",
      "[3]: -2.1\n",
      "[5]: -0.1\n",
      "[7]: 1.9\n",
      "[9]: 3.9\n"
     ]
    }
   ],
   "source": [
    "#include <map>\n",
    "#include <iostream>\n",
    "\n",
    "int main() {\n",
    "    std::map<int, double> m;\n",
    "    \n",
    "    for (int i = 9; i >= 0; i -= 2) {\n",
    "        m[i] = i - 5.1;\n",
    "    }\n",
    "    \n",
    "    std::map<int, double>::value_type p;\n",
    "    \n",
    "    std::map<int, double>::iterator iter = m.begin();\n",
    "    \n",
    "    while (iter != m.end()) {\n",
    "        std::cout << '[' << iter->first << \"]: \" << iter->second << '\\n';\n",
    "        iter++;\n",
    "    }\n",
    "}"
   ]
  },
  {
   "cell_type": "markdown",
   "id": "14f56171",
   "metadata": {},
   "source": [
    "`map` defines the `find` method, that returns an `iterator` to a key argument. If not found, `end()` is returned."
   ]
  },
  {
   "cell_type": "code",
   "execution_count": 17,
   "id": "80c5fbed",
   "metadata": {},
   "outputs": [
    {
     "name": "stdout",
     "output_type": "stream",
     "text": [
      "[5]: -0.1\n",
      "[6]: NOT FOUND\n"
     ]
    }
   ],
   "source": [
    "#include <map>\n",
    "#include <iostream>\n",
    "\n",
    "template<class K, class T, class CMP>\n",
    "void test(std::map<K, T, CMP> &m, K key) {\n",
    "    typename std::map<K, T, CMP>::iterator iter = m.find(key);\n",
    "    \n",
    "    std::cout << '[' << key << \"]: \";\n",
    "\n",
    "    if (iter == m.end()) {\n",
    "        std::cout << \"NOT FOUND\\n\";\n",
    "    } else {\n",
    "        std::cout << iter->second << '\\n';\n",
    "    }\n",
    "}\n",
    "\n",
    "int main() {\n",
    "    std::map<int, double> m;\n",
    "    \n",
    "    for (int i = 9; i >= 0; i -= 2) { m[i] = i - 5.1; }\n",
    "    \n",
    "    test(m, 5);\n",
    "    test(m, 6);\n",
    "}"
   ]
  },
  {
   "cell_type": "markdown",
   "id": "f7ad3546",
   "metadata": {},
   "source": [
    "`map` defines the `lower_bound` and `upper_bound` methods.\n",
    "* `lower_bound` returns an iterator to the first pair with key equal to or larger than the passed argument.\n",
    "* `upper_bound` returns an iterator to the first pair with key larger than the passed argument.\n",
    "\n",
    "If not found, `end()` is returned."
   ]
  },
  {
   "cell_type": "code",
   "execution_count": 29,
   "id": "2ec7fdc8",
   "metadata": {},
   "outputs": [
    {
     "name": "stdout",
     "output_type": "stream",
     "text": [
      "[5]: 5.5\n",
      "[6]: 6.5\n",
      "[7]: 7.5\n",
      "[8]: 8.5\n",
      "[9]: 9.5\n"
     ]
    }
   ],
   "source": [
    "#include <map>\n",
    "#include <iostream>\n",
    "\n",
    "template<class K, class T>\n",
    "void show_pair(typename std::pair<K, T> &p) {\n",
    "    std::cout << '[' << p.first << \"]: \" << p.second << '\\n';\n",
    "}\n",
    "\n",
    "template<class K, class T, class CMP>\n",
    "void test(std::map<K, T, CMP> &m, K upper, K lower) {       /* from lower, to upper, all inclusive */\n",
    "    typedef typename std::map<K, T, CMP>::iterator ITER;\n",
    "    \n",
    "    ITER iter_l = m.lower_bound(upper);\n",
    "    ITER iter_u = m.upper_bound(lower);\n",
    "    \n",
    "    while (iter_l != iter_u) {\n",
    "        show_pair(*(iter_l++));\n",
    "    }\n",
    "}\n",
    "\n",
    "int main() {\n",
    "    std::map<int, double> m;\n",
    "    \n",
    "    for (int i = 0; i < 10; i++) { m[i] = i + 0.5; }\n",
    "    \n",
    "    test(m, 5, 9);\n",
    "}"
   ]
  },
  {
   "cell_type": "markdown",
   "id": "224853b2",
   "metadata": {},
   "source": [
    "`map` defines the `insert` method, that accepts `value_type` and returns `pair<iterator, bool>`. If key already exists, nothing happens, and `bool` is `false`."
   ]
  },
  {
   "cell_type": "code",
   "execution_count": 38,
   "id": "7a88b865",
   "metadata": {},
   "outputs": [
    {
     "name": "stdout",
     "output_type": "stream",
     "text": [
      "INSERTED SUCCESSFULLY.\n",
      "FAILED INSERTION.\n"
     ]
    }
   ],
   "source": [
    "#include <map>\n",
    "#include <iostream>\n",
    "\n",
    "template<class K, class T, class CMP>\n",
    "void insert(std::map<K, T, CMP> &m, K key, T value) {\n",
    "    typedef typename std::map<K, T, CMP>::iterator ITER;\n",
    "    \n",
    "    std::pair<ITER, bool> res = m.insert(std::pair<K, T>(key, value));\n",
    "    \n",
    "    if (res.second) {\n",
    "        std::cout << \"INSERTED SUCCESSFULLY!\\n\";\n",
    "    } else {\n",
    "        std::cout << \"FAILED INSERTION.\\n\";\n",
    "    }\n",
    "}\n",
    "\n",
    "int main() {\n",
    "    std::map<int, double> m;\n",
    "    \n",
    "    insert(m, 0, 5.3);\n",
    "    insert(m, 0, 6.7);\n",
    "}"
   ]
  },
  {
   "cell_type": "markdown",
   "id": "160d5391",
   "metadata": {},
   "source": [
    "*Note:* Unlike `[]`, `insert` does not overwrite the value of an already existing key."
   ]
  },
  {
   "cell_type": "markdown",
   "id": "0411c57c",
   "metadata": {},
   "source": [
    "`map` overloads the `insert` method, with two useful implementations.\n",
    "\n",
    "* `insert(ITER_POS, PAIR)` : Inserts `PAIR`, uses `ITER_POS` as an optimizing hint, returns an `iterator` to the new or already existing key.\n",
    "\n",
    "* `insert(ITER_BEGIN, ITER_END)` : Inserts all elements, which must be of type `pair<KEY_TYPE, VALUE_TYPE>`, returns `void`.\n",
    "\n",
    "*Note:* Unlike the unoptimized single element implementation, the latter does not report the status of the insertion operation."
   ]
  },
  {
   "cell_type": "markdown",
   "id": "e8a3f3cd",
   "metadata": {},
   "source": [
    "`map` also defines the `erase` method:\n",
    "\n",
    "* `erase(ITER_POS)` : Erases pair at `ITER_POS`, returns `void`.\n",
    "* `erase(KEY)` : Erases pair with `KEY`, returns `1` if found and `0` otherwise.\n",
    "* `erase(ITER_START, ITER_END)` : Erases pair from `ITER_START`, inclusive, to `ITER_END`, exclusive. "
   ]
  },
  {
   "cell_type": "code",
   "execution_count": 11,
   "id": "19b835fd",
   "metadata": {},
   "outputs": [
    {
     "name": "stdout",
     "output_type": "stream",
     "text": [
      "Before\n",
      "  [0]: 0.5\n",
      "  [1]: 1.5\n",
      "  [2]: 2.5\n",
      "  [3]: 3.5\n",
      "  [4]: 4.5\n",
      "After\n",
      "  [0]: 0.5\n",
      "  [4]: 4.5\n"
     ]
    }
   ],
   "source": [
    "#include <map>\n",
    "#include <iostream>\n",
    "\n",
    "template<class T>\n",
    "void show(const char *label, T &c) {\n",
    "    std::cout << label << '\\n';\n",
    "    \n",
    "    typename T::iterator iter = c.begin();\n",
    "    \n",
    "    while (iter != c.end()) {\n",
    "        std::cout << \"  [\" << iter->first << \"]: \" << iter->second << '\\n';\n",
    "        iter++;\n",
    "    }\n",
    "}\n",
    "\n",
    "int main() {\n",
    "    std::map<int, double> m;\n",
    "    \n",
    "    for (int i = 0; i < 5; i++) { m[i] = i + 0.5; }\n",
    "    \n",
    "    show(\"Before\", m);\n",
    "    \n",
    "    m.erase(m.find(1), m.find(4));\n",
    "    \n",
    "    show(\"After\", m);\n",
    "}"
   ]
  },
  {
   "cell_type": "markdown",
   "id": "a14b4aa6",
   "metadata": {},
   "source": [
    "*Note:* Calling the `erase` method on `end()` is harmless."
   ]
  },
  {
   "cell_type": "markdown",
   "id": "bb46b882",
   "metadata": {},
   "source": [
    "#### Summary of `map` <a class=\"anchor\" id=\"summary-of-map\"></a>"
   ]
  },
  {
   "cell_type": "markdown",
   "id": "f6e5813b",
   "metadata": {},
   "source": [
    "| *Method* |\n",
    "| :--- |\n",
    "| `map()` |\n",
    "| `map(FUNC_OBJ)` |\n",
    "| `map(ITER_BEGIN, ITER_END, ...)` |\n",
    "| `map(MAP)` |\n",
    "| ㅤ |\n",
    "| `=` |\n",
    "| ㅤ |\n",
    "| `size()` |\n",
    "| `max_size()` |\n",
    "| `empty()` |\n",
    "| ㅤ |\n",
    "| `begin()` |\n",
    "| `end()` |\n",
    "| `rbegin()` |\n",
    "| `rend()` |\n",
    "| ㅤ |\n",
    "| `[]` |\n",
    "| ㅤ |\n",
    "| `find(KEY)` |\n",
    "| `lower_bound(KEY)` |\n",
    "| `upper_bound(KEY)` |\n",
    "| ㅤ |\n",
    "| `insert(PAIR)` |\n",
    "| `insert(ITER_POS, PAIR)` |\n",
    "| `insert(ITER_BEGIN, ITER_END)` |\n",
    "| ㅤ |\n",
    "| `erase(KEY)` |\n",
    "| `erase(ITER_POS)` |\n",
    "| `erase(ITER_START, ITER_END)` |\n",
    "| `clear()` |"
   ]
  },
  {
   "cell_type": "markdown",
   "id": "7b28aeab",
   "metadata": {},
   "source": [
    "#### `multimap` <a class=\"anchor\" id=\"multimap\"></a>"
   ]
  },
  {
   "cell_type": "markdown",
   "id": "ccada76d",
   "metadata": {},
   "source": [
    "A `multimap` is a `map` with more than one value possible for each key."
   ]
  },
  {
   "cell_type": "markdown",
   "id": "1bfc5be8",
   "metadata": {},
   "source": [
    "In `multimap`, the `[]` operator is undefined, and `insert` method returns `iterator` and not `pair<iterator, bool>`, naturally."
   ]
  },
  {
   "cell_type": "markdown",
   "id": "2f5d3a53",
   "metadata": {},
   "source": [
    "`multimap` defines the `equal_range` method, that accepts a key and returns `pair<iterator, iterator>`, with each iterator corresponding to `lower_bound` and `upper_bound`, respectively."
   ]
  },
  {
   "cell_type": "code",
   "execution_count": 29,
   "id": "8c8c7ccc",
   "metadata": {},
   "outputs": [
    {
     "name": "stdout",
     "output_type": "stream",
     "text": [
      "[1]: 1.2\n",
      "[1]: 1.5\n",
      "[1]: 1.7\n"
     ]
    }
   ],
   "source": [
    "#include <map>\n",
    "#include <iostream>\n",
    "\n",
    "template<class K, class T>\n",
    "void show_pair(typename std::pair<K, T> &p) {\n",
    "    std::cout << '[' << p.first << \"]: \" << p.second << '\\n';\n",
    "}\n",
    "\n",
    "template<class K, class T, class CMP>\n",
    "void test(std::multimap<K, T, CMP> &m, K key) {\n",
    "    typedef typename std::multimap<K, T, CMP>::iterator ITER;\n",
    "    \n",
    "    std::pair<ITER, ITER> res = m.equal_range(key);\n",
    "    \n",
    "    while (res.first != res.second) {\n",
    "        show_pair(*res.first);\n",
    "        res.first++;\n",
    "    }\n",
    "}\n",
    "\n",
    "int main() {\n",
    "    std::multimap<int, double> m;\n",
    "    \n",
    "    for (int i = 0; i < 3; i++) { \n",
    "        m.insert(std::pair<int, double>(i, i + 0.2));\n",
    "        m.insert(std::pair<int, double>(i, i + 0.5));\n",
    "        m.insert(std::pair<int, double>(i, i + 0.7));\n",
    "    }\n",
    "    \n",
    "    test(m, 1);\n",
    "}"
   ]
  },
  {
   "cell_type": "markdown",
   "id": "3c44b2a1",
   "metadata": {},
   "source": [
    "*Note:* The `equal_range` method is also defined in `map`, for compatibility of templated functions dealing with both `map` and `multimap`."
   ]
  },
  {
   "cell_type": "markdown",
   "id": "c5d958c3",
   "metadata": {},
   "source": [
    "*Note:* The `find` method in `multimap` returns an iterator to the first matching key-value pair, ascendingly."
   ]
  },
  {
   "cell_type": "markdown",
   "id": "6cecbb42",
   "metadata": {},
   "source": [
    "`multimap` also defines the `count` method, that returns the number of values for a passed key argument."
   ]
  },
  {
   "cell_type": "code",
   "execution_count": 36,
   "id": "2b4dbf81",
   "metadata": {
    "scrolled": true
   },
   "outputs": [
    {
     "name": "stdout",
     "output_type": "stream",
     "text": [
      "Size:      9\n",
      "Count(0):  3\n",
      "Count(3):  0\n"
     ]
    }
   ],
   "source": [
    "#include <map>\n",
    "#include <iostream>\n",
    "\n",
    "int main() {\n",
    "    std::multimap<int, double> m;\n",
    "    \n",
    "    for (int i = 0; i < 3; i++) { \n",
    "        m.insert(std::pair<int, double>(i, i + 0.2));\n",
    "        m.insert(std::pair<int, double>(i, i + 0.5));\n",
    "        m.insert(std::pair<int, double>(i, i + 0.7));\n",
    "    }\n",
    "    \n",
    "    std::cout << \"Size:      \" << m.size() << '\\n';\n",
    "    std::cout << \"Count(0):  \" << m.count(0) << '\\n';\n",
    "    std::cout << \"Count(3):  \" << m.count(3) << '\\n';\n",
    "}"
   ]
  },
  {
   "cell_type": "markdown",
   "id": "1281f936",
   "metadata": {},
   "source": [
    "#### `set` <a class=\"anchor\" id=\"set\"></a>"
   ]
  },
  {
   "cell_type": "markdown",
   "id": "fba5627e",
   "metadata": {},
   "source": [
    "A `set` can be seen as a `map` where values are irrelevant, so only keys are kept track off.\n",
    "\n",
    "It is primarily used to maintain a collection of unique items, avoiding repetitions."
   ]
  },
  {
   "cell_type": "code",
   "execution_count": null,
   "id": "4b2a5ca3",
   "metadata": {},
   "outputs": [],
   "source": [
    "std::set<TYPE> s;"
   ]
  },
  {
   "cell_type": "code",
   "execution_count": null,
   "id": "90d75545",
   "metadata": {},
   "outputs": [],
   "source": [
    "std::set<TYPE, FUNC_OBJ_CLASS> s;"
   ]
  },
  {
   "cell_type": "markdown",
   "id": "a616ba04",
   "metadata": {},
   "source": [
    "In `set`, the `[]` operator is undefined, and `value_type` is defined as `TYPE`."
   ]
  },
  {
   "cell_type": "markdown",
   "id": "2af3324f",
   "metadata": {},
   "source": [
    "#### `multiset` <a class=\"anchor\" id=\"multiset\"></a>"
   ]
  },
  {
   "cell_type": "markdown",
   "id": "9a713017",
   "metadata": {},
   "source": [
    "Similar to `multimap`, a `multiset` is a `set` that allows duplicates.\n",
    "\n",
    "It is primarily used to maintain a collection of sorted items."
   ]
  },
  {
   "cell_type": "markdown",
   "id": "c4b58ce9",
   "metadata": {},
   "source": [
    "## Algorithms and Function Objects <a class=\"anchor\" id=\"algorithms-and-function-objects\"></a>"
   ]
  },
  {
   "cell_type": "markdown",
   "id": "27164fec",
   "metadata": {},
   "source": [
    "The standard library provides sixty general algorithms, along with useful function object classes."
   ]
  },
  {
   "cell_type": "markdown",
   "id": "f7884429",
   "metadata": {},
   "source": [
    "### Function Objects <a class=\"anchor\" id=\"function-objects\"></a>"
   ]
  },
  {
   "cell_type": "markdown",
   "id": "32117ac3",
   "metadata": {},
   "source": [
    "All function object classes in the standard library are derived from either `unary_function` and `binary_function` templated classes."
   ]
  },
  {
   "cell_type": "code",
   "execution_count": null,
   "id": "c6196d7b",
   "metadata": {},
   "outputs": [],
   "source": [
    "template<class Arg, class Res>\n",
    "struct unary_function {\n",
    "    typedef Arg argument_type;\n",
    "    typedef Res result_type;\n",
    "};"
   ]
  },
  {
   "cell_type": "code",
   "execution_count": null,
   "id": "9a2f5452",
   "metadata": {},
   "outputs": [],
   "source": [
    "template<class Arg, class Arg2, class Res>\n",
    "struct binary_function {\n",
    "    typedef Arg first_argument_type;\n",
    "    typedef Arg2 second_argument_type;\n",
    "    typedef Res result_type;\n",
    "};"
   ]
  },
  {
   "cell_type": "markdown",
   "id": "582bda84",
   "metadata": {},
   "source": [
    "#### Predicates <a class=\"anchor\" id=\"predicates\"></a>"
   ]
  },
  {
   "cell_type": "markdown",
   "id": "4eb696c9",
   "metadata": {},
   "source": [
    "A *predicate* is a function object, or *functor*, that returns a `bool`.\n",
    "\n",
    "All predicates are of the form `functor-name<ARG-TYPE>`, implying the same type for any number of arguments."
   ]
  },
  {
   "cell_type": "markdown",
   "id": "8f0fba9e",
   "metadata": {},
   "source": [
    "| *Functor* | *Type*\n",
    "| :--- | --- |\n",
    "| `equal_to` | Binary\n",
    "| `not_equal_to` | Binary\n",
    "| ㅤ |\n",
    "| `greater` | Binary\n",
    "| `greater_equal` | Binary\n",
    "| ㅤ |\n",
    "| `less` | Binary\n",
    "| `less_equal` | Binary\n",
    "| ㅤ |\n",
    "| `logical_and` | Binary\n",
    "| `logical_or` | Binary\n",
    "| `logical_not` | Unnary"
   ]
  },
  {
   "cell_type": "markdown",
   "id": "dd2ec272",
   "metadata": {},
   "source": [
    "#### Arithmetic Functors <a class=\"anchor\" id=\"arithmetic-functors\"></a>"
   ]
  },
  {
   "cell_type": "markdown",
   "id": "4b7c3e95",
   "metadata": {},
   "source": [
    "An arithmetic functor is a functor that returns the result of a built-in arithmetic operator.\n",
    "\n",
    "All arithmetic functors are of the form `functor-name<ARG-TYPE>`, implying the same type for any number of arguments."
   ]
  },
  {
   "cell_type": "markdown",
   "id": "78d140cf",
   "metadata": {},
   "source": [
    "| *Functor* | *Type*\n",
    "| :--- | --- |\n",
    "| `plus` | Binary\n",
    "| `minus` | Binary\n",
    "| ㅤ |\n",
    "| `multiplies` | Binary\n",
    "| `divides` | Binary\n",
    "| `modulus` | Binary\n",
    "| ㅤ |\n",
    "| `negate` | Unary"
   ]
  },
  {
   "cell_type": "markdown",
   "id": "0470239e",
   "metadata": {},
   "source": [
    "#### Binders <a class=\"anchor\" id=\"binders\"></a>"
   ]
  },
  {
   "cell_type": "markdown",
   "id": "c0d93843",
   "metadata": {},
   "source": [
    "A *binder* is a functor that accepts another binary functor and an argument. \n",
    "\n",
    "It binds the first or second parameter of the binary functor to the passed argument."
   ]
  },
  {
   "cell_type": "code",
   "execution_count": null,
   "id": "945b373d",
   "metadata": {},
   "outputs": [],
   "source": [
    "    // Example: 'binder2nd' binds the 2nd argument of a binary functor\n",
    "\n",
    "template<class BinOp>\n",
    "struct binder2nd : public unary_function<BinOp::first_argument_type, BinOp::result_type> {\n",
    "protected:\n",
    "    BinOp op;\n",
    "    typename BinOp::second_argument_type arg2;\n",
    "public:\n",
    "    binder2nd(const BinOp &op, const typename BinOp::second_argument_type &arg2)\n",
    "        : op(op), arg2(arg2) {}\n",
    "    \n",
    "    result_type operator() (const argument_type &x) const { \n",
    "        return op(x, arg2);\n",
    "    }\n",
    "};"
   ]
  },
  {
   "cell_type": "markdown",
   "id": "6eb35791",
   "metadata": {},
   "source": [
    "A binder class is accompained by a function that returns a binder functor from passed arguments."
   ]
  },
  {
   "cell_type": "code",
   "execution_count": 21,
   "id": "9a6a4d0d",
   "metadata": {},
   "outputs": [
    {
     "name": "stdout",
     "output_type": "stream",
     "text": [
      "1010"
     ]
    }
   ],
   "source": [
    "#include <functional>\n",
    "#include <iostream>\n",
    "\n",
    "int main() {\n",
    "    std::cout << std::less<int>()(5, 6);\n",
    "    std::cout << std::less<int>()(7, 6);\n",
    "    \n",
    "        // Example: 'bind2nd' accompanies 'binder2nd', both defined in '<functional>'\n",
    "    \n",
    "    std::cout << std::bind2nd(std::less<int>(), 6)(5);\n",
    "    std::cout << std::bind2nd(std::less<int>(), 6)(7);\n",
    "}"
   ]
  },
  {
   "cell_type": "markdown",
   "id": "67435712",
   "metadata": {},
   "source": [
    "Alternatively, a new functor class may be defined, that inherits from the binder class."
   ]
  },
  {
   "cell_type": "code",
   "execution_count": 25,
   "id": "d4f8fb9b",
   "metadata": {},
   "outputs": [
    {
     "name": "stdout",
     "output_type": "stream",
     "text": [
      "10"
     ]
    }
   ],
   "source": [
    "//%cflags: -w\n",
    "\n",
    "#include <functional>\n",
    "#include <iostream>\n",
    "\n",
    "template<class T>\n",
    "struct less_than : public std::binder2nd<std::less<int>> {\n",
    "    less_than(T arg) : binder2nd(std::less<int>(), arg) {}\n",
    "};\n",
    "\n",
    "int main() {\n",
    "    less_than<int> fobj(6);\n",
    "\n",
    "    std::cout << fobj(5);\n",
    "    std::cout << fobj(7);\n",
    "}"
   ]
  },
  {
   "cell_type": "markdown",
   "id": "de0c5935",
   "metadata": {},
   "source": [
    "*Note:* The standard library provides two binders: `binder1st` and `binder2nd`. "
   ]
  },
  {
   "cell_type": "markdown",
   "id": "9c48670a",
   "metadata": {},
   "source": [
    "#### Function Adapters <a class=\"anchor\" id=\"function-adapters\"></a>"
   ]
  },
  {
   "cell_type": "markdown",
   "id": "4e59dfef",
   "metadata": {},
   "source": [
    "A function adapter is a functor that calls another function implicitly."
   ]
  },
  {
   "cell_type": "markdown",
   "id": "d82bcf71",
   "metadata": {},
   "source": [
    "A pointer-to-member function adapter is returned by `mem_fun`.\n",
    "\n",
    "The returned functor expects a pointer to an object, from the appropriate class, as argument."
   ]
  },
  {
   "cell_type": "code",
   "execution_count": 47,
   "id": "89e5db96",
   "metadata": {
    "scrolled": true
   },
   "outputs": [
    {
     "name": "stdout",
     "output_type": "stream",
     "text": [
      "Complex - [r]: 1.1, [i]: 2.2\n",
      "Complex - [r]: 2.2, [i]: 1.4\n",
      "Complex - [r]: 3.3, [i]: 0.6\n"
     ]
    }
   ],
   "source": [
    "#include <iostream>\n",
    "#include <functional>\n",
    "#include <vector>\n",
    "\n",
    "class Complex {\n",
    "    double real, imag;\n",
    "public:\n",
    "    Complex(double r, double i) : real(r), imag(i) {}\n",
    "    \n",
    "    void print(const char *str) {\n",
    "        std::cout << str << \"[r]: \" << real << \", [i]: \" << imag << '\\n';\n",
    "    }\n",
    "};\n",
    "\n",
    "int main() {\n",
    "    std::vector<Complex *> v;\n",
    "    \n",
    "    v.reserve(5);\n",
    "    \n",
    "    for (int i = 1; i <= 3; i++) {\n",
    "        v.push_back(new Complex(i + 0.1*i, 3 - i + 0.2*i));\n",
    "    }\n",
    "    \n",
    "    for_each(v.begin(), v.end(), std::bind2nd(std::mem_fun(&Complex::print), \"Complex - \"));\n",
    "}"
   ]
  },
  {
   "cell_type": "markdown",
   "id": "d3936004",
   "metadata": {},
   "source": [
    "A pointer-to-member function adapter is also returned by `mem_fun_ref`.\n",
    "\n",
    "The returned functor expects a reference to an object, from the appropriate class, as argument."
   ]
  },
  {
   "cell_type": "code",
   "execution_count": 43,
   "id": "8dd32c7b",
   "metadata": {
    "scrolled": true
   },
   "outputs": [
    {
     "name": "stdout",
     "output_type": "stream",
     "text": [
      "[r]: 1.1, [i]: 2.2\n",
      "[r]: 2.2, [i]: 1.4\n",
      "[r]: 3.3, [i]: 0.6\n"
     ]
    }
   ],
   "source": [
    "#include <iostream>\n",
    "#include <functional>\n",
    "#include <vector>\n",
    "\n",
    "class Complex {\n",
    "    double real, imag;\n",
    "public:\n",
    "    Complex(double r, double i) : real(r), imag(i) {}\n",
    "    \n",
    "    void print() {\n",
    "        std::cout << \"[r]: \" << real << \", [i]: \" << imag << '\\n';\n",
    "    }\n",
    "};\n",
    "\n",
    "int main() {\n",
    "    std::vector<Complex> v;\n",
    "    \n",
    "    v.reserve(5);\n",
    "    \n",
    "    for (int i = 1; i <= 3; i++) {\n",
    "        v.push_back(Complex(i + 0.1*i, 3 - i + 0.2*i));\n",
    "    }\n",
    "    \n",
    "    for_each(v.begin(), v.end(), std::mem_fun_ref(&Complex::print));\n",
    "}"
   ]
  },
  {
   "cell_type": "markdown",
   "id": "32f46806",
   "metadata": {},
   "source": [
    "A function pointer adapter is returned by `ptr_fun`.\n",
    "\n",
    "The returned functor expects a reference to an object, from the appropriate class, as argument."
   ]
  },
  {
   "cell_type": "code",
   "execution_count": 48,
   "id": "4967145e",
   "metadata": {
    "scrolled": false
   },
   "outputs": [
    {
     "name": "stdout",
     "output_type": "stream",
     "text": [
      "[r]: 1.1, [i]: 2.2\n",
      "[r]: 2.2, [i]: 1.4\n",
      "[r]: 3.3, [i]: 0.6\n"
     ]
    }
   ],
   "source": [
    "#include <iostream>\n",
    "#include <functional>\n",
    "#include <vector>\n",
    "\n",
    "class Complex {\n",
    "    double real, imag;\n",
    "public:\n",
    "    Complex(double r, double i) : real(r), imag(i) {}\n",
    "    \n",
    "    friend void print(const Complex &c);\n",
    "};\n",
    "\n",
    "void print(const Complex &c) {\n",
    "    std::cout << \"[r]: \" << c.real << \", [i]: \" << c.imag << '\\n';\n",
    "}\n",
    "\n",
    "int main() {\n",
    "    std::vector<Complex> v;\n",
    "    \n",
    "    v.reserve(5);\n",
    "    \n",
    "    for (int i = 1; i <= 3; i++) {\n",
    "        v.push_back(Complex(i + 0.1*i, 3 - i + 0.2*i));\n",
    "    }\n",
    "    \n",
    "    for_each(v.begin(), v.end(), std::ptr_fun(&print));\n",
    "}"
   ]
  },
  {
   "cell_type": "markdown",
   "id": "f008dd1e",
   "metadata": {},
   "source": [
    "*Note:* Function adapters are able to deal with up to two arguments."
   ]
  },
  {
   "cell_type": "markdown",
   "id": "a2a8fa43",
   "metadata": {},
   "source": [
    "#### Negaters <a class=\"anchor\" id=\"negaters\"></a>"
   ]
  },
  {
   "cell_type": "markdown",
   "id": "16b98b47",
   "metadata": {},
   "source": [
    "A *negater* is a functor that implements the logical not of a passed predicate argument."
   ]
  },
  {
   "cell_type": "code",
   "execution_count": 58,
   "id": "a6f6602a",
   "metadata": {},
   "outputs": [
    {
     "name": "stdout",
     "output_type": "stream",
     "text": [
      "0001\n",
      "1110\n",
      "10\n",
      "01\n"
     ]
    }
   ],
   "source": [
    "#include <iostream>\n",
    "#include <functional>\n",
    "\n",
    "template<class T>\n",
    "void test_binary(T fobj) {\n",
    "    std::cout << fobj(false, false);\n",
    "    std::cout << fobj(false, true);\n",
    "    std::cout << fobj(true, false);\n",
    "    std::cout << fobj(true, true);\n",
    "    std::cout << '\\n';\n",
    "}\n",
    "\n",
    "template<class T>\n",
    "void test_unary(T fobj) {\n",
    "    std::cout << fobj(false);\n",
    "    std::cout << fobj(true);\n",
    "    std::cout << '\\n';\n",
    "}\n",
    "\n",
    "int main() {\n",
    "    test_binary(std::logical_and<bool>());\n",
    "    test_binary(not2(std::logical_and<bool>()));    // 'not2' : negates a binary predicate\n",
    "    \n",
    "    test_unary(std::logical_not<bool>());\n",
    "    test_unary(not1(std::logical_not<bool>()));     // 'not1' : negates a unary predicate\n",
    "}"
   ]
  },
  {
   "cell_type": "markdown",
   "id": "21d20c61",
   "metadata": {},
   "source": [
    "### Algorithms <a class=\"anchor\" id=\"algorithms\"></a>"
   ]
  },
  {
   "cell_type": "markdown",
   "id": "01b01b71",
   "metadata": {},
   "source": [
    "#### Non-modifying Sequence Operations <a class=\"anchor\" id=\"non-modifying-sequence-operations\"></a>"
   ]
  },
  {
   "cell_type": "markdown",
   "id": "570a4f33",
   "metadata": {},
   "source": [
    "`for_each` performs an operation for each element in a sequence."
   ]
  },
  {
   "cell_type": "code",
   "execution_count": 102,
   "id": "c253a90b",
   "metadata": {},
   "outputs": [
    {
     "name": "stdout",
     "output_type": "stream",
     "text": [
      "1, 2, 3, 4, 5, \b\b  \n",
      "2, 3, 4, 5, 6, \b\b  \n"
     ]
    }
   ],
   "source": [
    "//%cflags: -I.jupyter\n",
    "\n",
    "#include <algorithm>\n",
    "#include <functional>\n",
    "#include <iostream>\n",
    "#include <vector>\n",
    "#include \"helpers.h\"\n",
    "\n",
    "struct inc {\n",
    "    void operator() (int &val) { val++; }\n",
    "};\n",
    "\n",
    "int main() {\n",
    "    int x[] = {1, 2, 3, 4, 5};\n",
    "    \n",
    "    std::vector<int> v(x, x+5);\n",
    "    \n",
    "    forwardly(v.begin(), v.end());\n",
    "    \n",
    "    for_each(v.begin(), v.end(), inc());\n",
    "    \n",
    "    forwardly(v.begin(), v.end());\n",
    "}"
   ]
  },
  {
   "cell_type": "markdown",
   "id": "9fa288d4",
   "metadata": {},
   "source": [
    "*Note:* `for_each` may modify the elements of a sequence, if the passed function object so does."
   ]
  },
  {
   "cell_type": "markdown",
   "id": "18e7fde4",
   "metadata": {},
   "source": [
    "`find` finds the first occurence of a value in a sequence."
   ]
  },
  {
   "cell_type": "code",
   "execution_count": 104,
   "id": "986907c8",
   "metadata": {},
   "outputs": [
    {
     "name": "stdout",
     "output_type": "stream",
     "text": [
      "Works!"
     ]
    }
   ],
   "source": [
    "//%cflags: -I.jupyter\n",
    "\n",
    "#include <algorithm>\n",
    "#include <functional>\n",
    "#include <iostream>\n",
    "#include <vector>\n",
    "#include \"helpers.h\"\n",
    "\n",
    "int main() {\n",
    "    int x[] = {1, 2, 3, 4, 5};\n",
    "    \n",
    "    int *ptr = std::find(x, x + 5, 3);\n",
    "    \n",
    "    if (x + 2 == ptr) {\n",
    "        std::cout << \"Works!\";\n",
    "    }\n",
    "}"
   ]
  },
  {
   "cell_type": "markdown",
   "id": "a41c27e8",
   "metadata": {},
   "source": [
    "*Note:* Similar to many functions in the standard library, `find` returns the `end()` iterator if not found."
   ]
  },
  {
   "cell_type": "markdown",
   "id": "533c2bc5",
   "metadata": {},
   "source": [
    "*Note:* To find the last occurence of a value in a sequence, use reverse iterators. This approach applies to many algorithms in the standard library."
   ]
  },
  {
   "cell_type": "markdown",
   "id": "e756acc0",
   "metadata": {},
   "source": [
    "`find_if` finds the first occurence in a sequence, that satisfies a unary predicate."
   ]
  },
  {
   "cell_type": "code",
   "execution_count": 106,
   "id": "35cf60ed",
   "metadata": {},
   "outputs": [
    {
     "name": "stdout",
     "output_type": "stream",
     "text": [
      "Found: 4"
     ]
    }
   ],
   "source": [
    "//%cflags: -I.jupyter\n",
    "\n",
    "#include <algorithm>\n",
    "#include <functional>\n",
    "#include <iostream>\n",
    "#include <vector>\n",
    "#include \"helpers.h\"\n",
    "\n",
    "int main() {\n",
    "    int x[] = {1, 2, 3, 4, 5};\n",
    "    \n",
    "    int *ptr = std::find_if(x, x + 5, std::bind2nd(std::greater<int>(), 3));\n",
    "    \n",
    "    if (ptr != x + 5) {\n",
    "        std::cout << \"Found: \" << *ptr;\n",
    "    }\n",
    "}"
   ]
  },
  {
   "cell_type": "markdown",
   "id": "262609cf",
   "metadata": {},
   "source": [
    "`find_first_of` finds the first occurence in a sequence, that is found in another sequence."
   ]
  },
  {
   "cell_type": "code",
   "execution_count": 108,
   "id": "ed9dfa8c",
   "metadata": {},
   "outputs": [
    {
     "name": "stdout",
     "output_type": "stream",
     "text": [
      "Found: 3"
     ]
    }
   ],
   "source": [
    "//%cflags: -I.jupyter\n",
    "\n",
    "#include <algorithm>\n",
    "#include <functional>\n",
    "#include <iostream>\n",
    "#include <vector>\n",
    "#include \"helpers.h\"\n",
    "\n",
    "int main() {\n",
    "    int x[] = {1, 2, 3, 4, 5};\n",
    "    int y[] = {3, 4, 5, 6, 7};\n",
    "    \n",
    "    int *ptr = std::find_first_of(x, x+5, y, y+5);\n",
    "    \n",
    "    if (ptr == x + 2) {\n",
    "        std::cout << \"Found: \" << *ptr;\n",
    "    }\n",
    "}"
   ]
  },
  {
   "cell_type": "markdown",
   "id": "3f8d4a0c",
   "metadata": {},
   "source": [
    "*Note:* `find_first_of` accepts an optional binary predicate argument."
   ]
  },
  {
   "cell_type": "markdown",
   "id": "b3bf5afd",
   "metadata": {},
   "source": [
    "`adjacent_find` finds the first pair of adjacent matching values."
   ]
  },
  {
   "cell_type": "code",
   "execution_count": 110,
   "id": "34ea2bdd",
   "metadata": {},
   "outputs": [
    {
     "name": "stdout",
     "output_type": "stream",
     "text": [
      "Found: 3"
     ]
    }
   ],
   "source": [
    "//%cflags: -I.jupyter\n",
    "\n",
    "#include <algorithm>\n",
    "#include <functional>\n",
    "#include <iostream>\n",
    "#include <vector>\n",
    "#include \"helpers.h\"\n",
    "\n",
    "int main() {\n",
    "    int x[] = {1, 2, 3, 3, 4, 5};\n",
    "    \n",
    "    int *ptr = std::adjacent_find(x, x+6);\n",
    "    \n",
    "    if (ptr == x + 2) {\n",
    "        std::cout << \"Found: \" << *ptr;\n",
    "    }\n",
    "}"
   ]
  },
  {
   "cell_type": "markdown",
   "id": "759b8a4a",
   "metadata": {},
   "source": [
    "*Note:* `adjacent_find` accepts an optional binary predicate argument."
   ]
  },
  {
   "cell_type": "markdown",
   "id": "04181e27",
   "metadata": {},
   "source": [
    "`count` returns the number of occurences of a value in a sequence."
   ]
  },
  {
   "cell_type": "code",
   "execution_count": 115,
   "id": "456a9e27",
   "metadata": {},
   "outputs": [
    {
     "name": "stdout",
     "output_type": "stream",
     "text": [
      "4"
     ]
    }
   ],
   "source": [
    "//%cflags: -I.jupyter\n",
    "\n",
    "#include <algorithm>\n",
    "#include <functional>\n",
    "#include <iostream>\n",
    "#include <vector>\n",
    "#include \"helpers.h\"\n",
    "\n",
    "int main() {\n",
    "    int x[] = {1, 2, 3, 3, 3, 3, 4, 4, 5, 5};\n",
    "    \n",
    "    typedef typename std::iterator_traits<int *>::difference_type u_count;\n",
    "    \n",
    "    u_count cnt = std::count(x, x+10, 3);\n",
    "    \n",
    "    std::cout << cnt;\n",
    "}"
   ]
  },
  {
   "cell_type": "markdown",
   "id": "efd97067",
   "metadata": {},
   "source": [
    "The maximum value returned by `count` is the maximum difference between two iterators of the type given.\n",
    "\n",
    "This can be retrieved through `typename std::iterator_traits<ITER_TYPE>::difference_type`. This syntax is pointer-compatible, unlike typing `typename ITER_TYPE::difference_type` directly."
   ]
  },
  {
   "cell_type": "markdown",
   "id": "8749683d",
   "metadata": {},
   "source": [
    "`count_if` returns the number of occurences in a sequence, that satisfy a unary predicate."
   ]
  },
  {
   "cell_type": "code",
   "execution_count": 121,
   "id": "dab80412",
   "metadata": {},
   "outputs": [
    {
     "name": "stdout",
     "output_type": "stream",
     "text": [
      "5"
     ]
    }
   ],
   "source": [
    "//%cflags: -I.jupyter\n",
    "\n",
    "#include <algorithm>\n",
    "#include <functional>\n",
    "#include <iostream>\n",
    "#include <vector>\n",
    "#include \"helpers.h\"\n",
    "\n",
    "int main() {\n",
    "    int x[] = {1, 6, 2, 7, 3, 8, 9, 0, 4, 5};\n",
    "    \n",
    "    typedef typename std::iterator_traits<int *>::difference_type u_count;\n",
    "    \n",
    "    u_count cnt = std::count_if(x, x+10, std::bind2nd(std::greater_equal<int>(), 5));\n",
    "    \n",
    "    std::cout << cnt;\n",
    "}"
   ]
  },
  {
   "cell_type": "markdown",
   "id": "d872040a",
   "metadata": {},
   "source": [
    "`equal` returns `true` if the elements of two sequences match, and `false` otherwise."
   ]
  },
  {
   "cell_type": "code",
   "execution_count": 124,
   "id": "c11e8942",
   "metadata": {},
   "outputs": [
    {
     "name": "stdout",
     "output_type": "stream",
     "text": [
      "10"
     ]
    }
   ],
   "source": [
    "//%cflags: -I.jupyter\n",
    "\n",
    "#include <algorithm>\n",
    "#include <functional>\n",
    "#include <iostream>\n",
    "#include <vector>\n",
    "#include \"helpers.h\"\n",
    "\n",
    "int main() {\n",
    "    int x[] = {1, 6, 2, 7, 3, 8, 9, 0, 4, 5};\n",
    "    int y[] = {1, 6, 2, 7, 3, 0};\n",
    "    \n",
    "    std::cout << std::equal(x, x+5, y);\n",
    "    std::cout << std::equal(x, x+6, y);\n",
    "}"
   ]
  },
  {
   "cell_type": "markdown",
   "id": "24fa8308",
   "metadata": {},
   "source": [
    "*Note:* As with many algorithms in the standard library, the second sequence is assumed to have at least the same number of elements as the first."
   ]
  },
  {
   "cell_type": "markdown",
   "id": "a94a8b35",
   "metadata": {},
   "source": [
    "*Note:* `equal` accepts an optional binary predicate argument."
   ]
  },
  {
   "cell_type": "markdown",
   "id": "4d7d5ed7",
   "metadata": {},
   "source": [
    "`mismatch` returns the first pair of iterators of the first non-matching elements, of two passed sequences."
   ]
  },
  {
   "cell_type": "code",
   "execution_count": 126,
   "id": "0e60e65d",
   "metadata": {},
   "outputs": [
    {
     "name": "stdout",
     "output_type": "stream",
     "text": [
      "Found a mismatch!\n",
      "No-mismatch.\n"
     ]
    }
   ],
   "source": [
    "//%cflags: -I.jupyter\n",
    "\n",
    "#include <algorithm>\n",
    "#include <functional>\n",
    "#include <iostream>\n",
    "#include <vector>\n",
    "#include \"helpers.h\"\n",
    "\n",
    "int main() {\n",
    "    int x[] = {1, 6, 2, 7, 3, 1, 1, 1, 1, 1};\n",
    "    int y[] = {1, 6, 2, 7, 3, 0, 0, 0, 0, 0};\n",
    "    \n",
    "    std::pair<int *, int *> pair1 = std::mismatch(x, x+10, y);\n",
    "    std::pair<int *, int *> pair2 = std::mismatch(x, x+10, x);\n",
    "    \n",
    "    if (pair1.first == x+5) { std::cout << \"Found a mismatch!\\n\"; }\n",
    "    if (pair2.first == x+10) { std::cout << \"No-mismatch.\\n\"; }\n",
    "}"
   ]
  },
  {
   "cell_type": "markdown",
   "id": "a44ee70d",
   "metadata": {},
   "source": [
    "*Note:* `mismatch` accepts an optional binary predicate argument."
   ]
  },
  {
   "cell_type": "markdown",
   "id": "b6e286f0",
   "metadata": {},
   "source": [
    "`search` checks whether a sub-sequence exists in a sequence.\n",
    "\n",
    "If found, an iterator to the first element of the sub-sequence, in the sequence, is returned."
   ]
  },
  {
   "cell_type": "code",
   "execution_count": 127,
   "id": "05b2b711",
   "metadata": {},
   "outputs": [
    {
     "name": "stdout",
     "output_type": "stream",
     "text": [
      "Works!"
     ]
    }
   ],
   "source": [
    "//%cflags: -I.jupyter\n",
    "\n",
    "#include <algorithm>\n",
    "#include <functional>\n",
    "#include <iostream>\n",
    "#include <vector>\n",
    "#include \"helpers.h\"\n",
    "\n",
    "int main() {\n",
    "    int x[] = {0, 2, 3, 4, 5, 6, 7, 8, 9};\n",
    "    int y[] = {3, 4, 5};\n",
    "    \n",
    "    int *ptr = std::search(x, x+10, y, y+3);\n",
    "    \n",
    "    if (ptr == x+2) {\n",
    "        std::cout << \"Works!\";\n",
    "    }\n",
    "}"
   ]
  },
  {
   "cell_type": "markdown",
   "id": "d7eaffa3",
   "metadata": {},
   "source": [
    "*Note:* `search` accepts an optional binary predicate argument."
   ]
  },
  {
   "cell_type": "markdown",
   "id": "90968903",
   "metadata": {},
   "source": [
    "`find_end` is similar to `search`, except it finds the last occurence of the sub-sequence, instead of the first."
   ]
  },
  {
   "cell_type": "code",
   "execution_count": 131,
   "id": "f657a9b8",
   "metadata": {
    "scrolled": true
   },
   "outputs": [
    {
     "name": "stdout",
     "output_type": "stream",
     "text": [
      "Works!"
     ]
    }
   ],
   "source": [
    "//%cflags: -I.jupyter\n",
    "\n",
    "#include <algorithm>\n",
    "#include <functional>\n",
    "#include <iostream>\n",
    "#include <vector>\n",
    "#include \"helpers.h\"\n",
    "\n",
    "int main() {\n",
    "    int x[] = {0, 2, 3, 4, 5, 0, 3, 4, 5, 9};\n",
    "    int y[] = {3, 4, 5};\n",
    "    \n",
    "    int *ptr = std::find_end(x, x+10, y, y+3);\n",
    "    \n",
    "    if (ptr == x+6) {\n",
    "        std::cout << \"Works!\";\n",
    "    }\n",
    "}"
   ]
  },
  {
   "cell_type": "markdown",
   "id": "6eca0713",
   "metadata": {},
   "source": [
    "*Note:* `find_end` accepts an optional binary predicate argument."
   ]
  },
  {
   "cell_type": "markdown",
   "id": "fc27fb3d",
   "metadata": {},
   "source": [
    "`search_n` finds the first `n` consequent occurences of a value in a sequence, and returns an iterator to the first element."
   ]
  },
  {
   "cell_type": "code",
   "execution_count": 148,
   "id": "c13548ad",
   "metadata": {
    "scrolled": true
   },
   "outputs": [
    {
     "name": "stdout",
     "output_type": "stream",
     "text": [
      "3, 3, 4, 0, 3, 4, 5, 9, \b\b  \n"
     ]
    }
   ],
   "source": [
    "//%cflags: -I.jupyter\n",
    "\n",
    "#include <algorithm>\n",
    "#include <functional>\n",
    "#include <iostream>\n",
    "#include <vector>\n",
    "#include \"helpers.h\"\n",
    "\n",
    "int main() {\n",
    "    int x[] = {0, 2, 3, 3, 4, 0, 3, 4, 5, 9};\n",
    "    \n",
    "    int *ptr = std::search_n(x, x+10, 2, 3);       /* 2 consequent occurences of 3 */\n",
    "    \n",
    "    forwardly(ptr, x+10);\n",
    "}"
   ]
  },
  {
   "cell_type": "markdown",
   "id": "a88de6f8",
   "metadata": {},
   "source": [
    "*Note:* `search_n` accepts an optional binary predicate argument."
   ]
  },
  {
   "cell_type": "markdown",
   "id": "bdc9490c",
   "metadata": {},
   "source": [
    "#### Summary of *Non-modifying Sequence Operations* <a class=\"anchor\" id=\"summary-of-non-modifying-sequence-operations\"></a>"
   ]
  },
  {
   "cell_type": "markdown",
   "id": "debb4c00",
   "metadata": {},
   "source": [
    "| *Method* | *Description* |\n",
    "| :--- | :--- |\n",
    "| `for_each` | Perform operation for each element in a sequence. |\n",
    "| ㅤ |\n",
    "| `find` | Find first occurence of a value in a sequence.\n",
    "| `find_if` | Find first occurence in a sequence, that satisfies a unary predicate. |\n",
    "| `find_first_of` | Find first occurence of an element in a sequence, that is found in another. |\n",
    "| `adjacent_find` | Find first pair of adjacent matching values in a sequence. |\n",
    "| ㅤ |\n",
    "| `count` | Count number of occurences of a value in a sequence. |\n",
    "| `count_if` | Count number of occurences that satisfy a unary predicate. |\n",
    "| ㅤ |\n",
    "| `equal` | Check whether two sequences are equal. |\n",
    "| `mismatch` | Find first pair of parallel elements, in two sequences, that are unequal. |\n",
    "| ㅤ |\n",
    "| `search` | Find first occurence of a subsequence in a sequence. |\n",
    "| `find_end` | Find last occurence of a subsequence in a sequence. |\n",
    "| `search_n` | Find first occurence of `n` consequent occurences of a value. |"
   ]
  },
  {
   "cell_type": "markdown",
   "id": "46d8e8dc",
   "metadata": {},
   "source": [
    "#### Modifying Sequence Operations <a class=\"anchor\" id=\"modifying-sequence-operations\"></a>"
   ]
  },
  {
   "cell_type": "markdown",
   "id": "5f347c57",
   "metadata": {},
   "source": [
    "`copy` and `copy_backward` copy the elements of one sequence into another."
   ]
  },
  {
   "cell_type": "code",
   "execution_count": 169,
   "id": "d169444b",
   "metadata": {},
   "outputs": [
    {
     "name": "stdout",
     "output_type": "stream",
     "text": [
      "0, 0, 0, 0, 0, 0, 0, 0, 0  \n",
      "1, 2, 3, 4, 5, 6, 7, 8, 9  \n",
      "1, 3, 5, 7, 9, 7, 5, 3, 1  \n"
     ]
    }
   ],
   "source": [
    "//%cflags: -I.jupyter\n",
    "\n",
    "#include <algorithm>\n",
    "#include <functional>\n",
    "#include <iostream>\n",
    "#include <vector>\n",
    "#include \"helpers.h\"\n",
    "\n",
    "int main() {\n",
    "    int x[] = {1, 2, 3, 4, 5, 6, 7, 8, 9};\n",
    "    int z[] = {1, 3, 5, 7, 9, 7, 5, 3, 1};\n",
    "    int y[9] = {0};\n",
    "    \n",
    "    forwardly(y, y+9);\n",
    "    \n",
    "    std::copy(x, x+9, y);                   /* Uses 'begin' iterator */\n",
    "    \n",
    "    forwardly(y, y+9);\n",
    "    \n",
    "    std::copy_backward(z, z+9, y+9);        /* Does not reverse, but uses 'end' iterator */\n",
    "    \n",
    "    forwardly(y, y+9);\n",
    "}"
   ]
  },
  {
   "cell_type": "markdown",
   "id": "185766da",
   "metadata": {},
   "source": [
    "*Note:* `copy_backward` demands bi-directional iterators as arguments, while `copy` does not."
   ]
  },
  {
   "cell_type": "markdown",
   "id": "b0377a4d",
   "metadata": {},
   "source": [
    "`transform` copies the elements of one sequence into another, *transforming* each value in the midst."
   ]
  },
  {
   "cell_type": "code",
   "execution_count": 173,
   "id": "1ef71fb1",
   "metadata": {},
   "outputs": [
    {
     "name": "stdout",
     "output_type": "stream",
     "text": [
      "1, 4, 9, 16, 25, 36, 49, 64, 81, \b\b  \n",
      "9, 16, 21, 24, 25, 24, 21, 16, 9, \b\b  \n"
     ]
    }
   ],
   "source": [
    "//%cflags: -I.jupyter\n",
    "\n",
    "#include <algorithm>\n",
    "#include <functional>\n",
    "#include <iostream>\n",
    "#include <vector>\n",
    "#include \"helpers.h\"\n",
    "\n",
    "template<class T>\n",
    "struct Squared {\n",
    "    T operator() (T val) {\n",
    "        return val * val;\n",
    "    }\n",
    "};\n",
    "\n",
    "int main() {\n",
    "    int x[] = {1, 2, 3, 4, 5, 6, 7, 8, 9};\n",
    "    int y[] = {9, 8, 7, 6, 5, 4, 3, 2, 1};\n",
    "    int z[9];\n",
    "    \n",
    "    std::transform(x, x+9, z, Squared<int>());            /* One-list Transformation */\n",
    "                                                          /* Unary Function Object */ \n",
    "    forwardly(z, z+9);\n",
    "    \n",
    "    std::transform(x, x+9, y, z, std::multiplies<int>());     /* Two-list Transformation */\n",
    "                                                              /* Binary Function Object */\n",
    "    forwardly(z, z+9);\n",
    "}"
   ]
  },
  {
   "cell_type": "markdown",
   "id": "3be65ada",
   "metadata": {},
   "source": [
    "`unique` eliminates adjacent duplicates from a sequence, by moving them to the end of the sequence.\n",
    "\n",
    "An iterator to the end of the unique subsequence is returned."
   ]
  },
  {
   "cell_type": "code",
   "execution_count": 175,
   "id": "49b50900",
   "metadata": {
    "scrolled": true
   },
   "outputs": [
    {
     "name": "stdout",
     "output_type": "stream",
     "text": [
      "1, 6, 3, 4, 0, \b\b  \n"
     ]
    }
   ],
   "source": [
    "//%cflags: -I.jupyter\n",
    "\n",
    "#include <algorithm>\n",
    "#include <functional>\n",
    "#include <iostream>\n",
    "#include <vector>\n",
    "#include \"helpers.h\"\n",
    "\n",
    "int main() {\n",
    "    int y[] = {1, 1, 6, 6, 6, 3, 3, 4, 0};\n",
    "    \n",
    "    int *ptr = std::unique(y, y+9);\n",
    "    \n",
    "    forwardly(y, ptr);\n",
    "}"
   ]
  },
  {
   "cell_type": "markdown",
   "id": "0b8154a9",
   "metadata": {},
   "source": [
    "*Note:* `unique_copy` is similar to `unique`, except it copies unique elements into another sequence. Similarly, it returns an iterator to the end of the unique subsequence.\n",
    "\n",
    "*Note:* Both `unique` and `unique_copy` accept an optional binary predicate argument."
   ]
  },
  {
   "cell_type": "markdown",
   "id": "86100deb",
   "metadata": {},
   "source": [
    "`replace` replaces matching values of a sequence with another value.\n",
    "\n",
    "`replace_if` applies a unary predicate instead, to determine whether to replace an element.\n",
    "\n",
    "`replace_copy` and `replace_copy_if` perform the copy-and-replace operation into another sequence."
   ]
  },
  {
   "cell_type": "code",
   "execution_count": 181,
   "id": "8d3434c8",
   "metadata": {},
   "outputs": [
    {
     "name": "stdout",
     "output_type": "stream",
     "text": [
      "1, 0, 3, 4, 1, 0, 3, 4, \b\b  \n",
      "0, 0, 3, 4, 0, 0, 3, 4, \b\b  \n"
     ]
    }
   ],
   "source": [
    "//%cflags: -I.jupyter\n",
    "\n",
    "#include <algorithm>\n",
    "#include <functional>\n",
    "#include <iostream>\n",
    "#include <vector>\n",
    "#include \"helpers.h\"\n",
    "\n",
    "int main() {\n",
    "    int y[] = {1, 2, 3, 4, 1, 2, 3, 4};\n",
    "    int z[8];\n",
    "    \n",
    "    std::replace_copy(y, y+8, z, 2, 0);\n",
    "    \n",
    "    forwardly(z, z+8);\n",
    "    \n",
    "    std::replace_copy_if(y, y+8, z, std::bind2nd(std::less<int>(), 3), 0);\n",
    "    \n",
    "    forwardly(z, z+8);\n",
    "}"
   ]
  },
  {
   "cell_type": "markdown",
   "id": "d55211cf",
   "metadata": {},
   "source": [
    "`remove` removes matching values of a sequence, by moving them to the end of the sequence.\n",
    "\n",
    "An iterator to the end of the subsequence is returned.\n",
    "\n",
    "`remove_if` applies a unary predicate instead, to determine whether to remove an element.\n",
    "\n",
    "`remove_copy` and `remove_copy_if` copy into another sequence."
   ]
  },
  {
   "cell_type": "code",
   "execution_count": 183,
   "id": "1b54db5e",
   "metadata": {},
   "outputs": [
    {
     "name": "stdout",
     "output_type": "stream",
     "text": [
      "1, 3, 4, 1, 3, 4, \b\b  \n",
      "3, 4, 3, 4, \b\b  \n"
     ]
    }
   ],
   "source": [
    "//%cflags: -I.jupyter\n",
    "\n",
    "#include <algorithm>\n",
    "#include <functional>\n",
    "#include <iostream>\n",
    "#include <vector>\n",
    "#include \"helpers.h\"\n",
    "\n",
    "int main() {\n",
    "    int y[] = {1, 2, 3, 4, 1, 2, 3, 4};\n",
    "    int z[8];\n",
    "    int *ptr;\n",
    "    \n",
    "    ptr = std::remove_copy(y, y+8, z, 2);\n",
    "    \n",
    "    forwardly(z, ptr);\n",
    "    \n",
    "    ptr = std::remove_copy_if(y, y+8, z, std::bind2nd(std::less<int>(), 3));\n",
    "    \n",
    "    forwardly(z, ptr);\n",
    "}"
   ]
  },
  {
   "cell_type": "markdown",
   "id": "f01ccc8d",
   "metadata": {},
   "source": [
    "`fill` assigns a value to each element of a sequence.\n",
    "\n",
    "`fill_n` assigns a value to the first `n` elements of a sequence.\n",
    "\n",
    "`generate` and `generate_n` call a function object, called a *generator*, and assign its return value instead."
   ]
  },
  {
   "cell_type": "code",
   "execution_count": 197,
   "id": "ad499fe3",
   "metadata": {},
   "outputs": [
    {
     "name": "stdout",
     "output_type": "stream",
     "text": [
      "0, 1, 2, 3, 0, 0, 0, 0, \b\b  \n",
      "0, 1, 2, 3, 1, 1, 1, 1, \b\b  \n"
     ]
    }
   ],
   "source": [
    "//%cflags: -I.jupyter\n",
    "\n",
    "#include <algorithm>\n",
    "#include <functional>\n",
    "#include <iostream>\n",
    "#include <vector>\n",
    "#include \"helpers.h\"\n",
    "\n",
    "class Counter {\n",
    "    int i;\n",
    "public:\n",
    "    int operator() () {\n",
    "        return i++;\n",
    "    }\n",
    "};\n",
    "\n",
    "int main() {\n",
    "    int y[8] = {0};\n",
    "    \n",
    "    std::generate(y, y+4, Counter());\n",
    "    \n",
    "    forwardly(y, y+8);\n",
    "   \n",
    "    std::fill_n(y+4, 4, 1);\n",
    "    \n",
    "    forwardly(y, y+8);\n",
    "}"
   ]
  },
  {
   "cell_type": "markdown",
   "id": "99a99385",
   "metadata": {},
   "source": [
    "`reverse` reverses a sequence in place.\n",
    "\n",
    "`reverse_copy` reverse a sequence into another sequence."
   ]
  },
  {
   "cell_type": "code",
   "execution_count": 202,
   "id": "740637f3",
   "metadata": {},
   "outputs": [
    {
     "name": "stdout",
     "output_type": "stream",
     "text": [
      "5, 4, 3, 2, 1, 6, 7, 8, 9, \b\b  \n",
      "1, 2, 3, 4, 5, \b\b  \n"
     ]
    }
   ],
   "source": [
    "//%cflags: -I.jupyter\n",
    "\n",
    "#include <algorithm>\n",
    "#include <functional>\n",
    "#include <iostream>\n",
    "#include <vector>\n",
    "#include \"helpers.h\"\n",
    "\n",
    "class Counter {\n",
    "    int i;\n",
    "public:\n",
    "    int operator() () {\n",
    "        return i++;\n",
    "    }\n",
    "};\n",
    "\n",
    "int main() {\n",
    "    int y[] = {1, 2, 3, 4, 5, 6, 7, 8, 9};\n",
    "    int z[5];\n",
    "    \n",
    "    std::reverse(y, y+5);\n",
    "    \n",
    "    forwardly(y, y+9);\n",
    "    \n",
    "    std::reverse_copy(y, y+5, z);\n",
    "    \n",
    "    forwardly(z, z+5);\n",
    "}"
   ]
  },
  {
   "cell_type": "markdown",
   "id": "89f29f60",
   "metadata": {},
   "source": [
    "`rotate` rotates a sequence, so that the `middle` element becomes the `first`.\n",
    "\n",
    "`rotate_copy` rotates a sequence into another sequence."
   ]
  },
  {
   "cell_type": "code",
   "execution_count": 204,
   "id": "6af1d416",
   "metadata": {},
   "outputs": [
    {
     "name": "stdout",
     "output_type": "stream",
     "text": [
      "3, 4, 5, 6, 7, 8, 9, 1, 2, \b\b  \n"
     ]
    }
   ],
   "source": [
    "//%cflags: -I.jupyter\n",
    "\n",
    "#include <algorithm>\n",
    "#include <functional>\n",
    "#include <iostream>\n",
    "#include <vector>\n",
    "#include \"helpers.h\"\n",
    "\n",
    "int main() {\n",
    "    int y[] = {1, 2, 3, 4, 5, 6, 7, 8, 9};\n",
    "    \n",
    "    std::rotate(y, y+2, y+9);                /* 'rotate(first, middle, last)'' */\n",
    "    \n",
    "    forwardly(y, y+9);\n",
    "}"
   ]
  },
  {
   "cell_type": "markdown",
   "id": "f4846345",
   "metadata": {},
   "source": [
    "`random_shuffle` shuffles a sequence randomly."
   ]
  },
  {
   "cell_type": "code",
   "execution_count": 205,
   "id": "5a04052b",
   "metadata": {},
   "outputs": [
    {
     "name": "stdout",
     "output_type": "stream",
     "text": [
      "5, 4, 8, 9, 1, 6, 3, 2, 7, \b\b  \n"
     ]
    }
   ],
   "source": [
    "//%cflags: -I.jupyter\n",
    "\n",
    "#include <algorithm>\n",
    "#include <functional>\n",
    "#include <iostream>\n",
    "#include <vector>\n",
    "#include \"helpers.h\"\n",
    "\n",
    "int main() {\n",
    "    int y[] = {1, 2, 3, 4, 5, 6, 7, 8, 9};\n",
    "    \n",
    "    std::random_shuffle(y, y+9);\n",
    "    \n",
    "    forwardly(y, y+9);\n",
    "}"
   ]
  },
  {
   "cell_type": "markdown",
   "id": "bf88b871",
   "metadata": {},
   "source": [
    "`swap_ranges` swaps the elements of two sequences."
   ]
  },
  {
   "cell_type": "code",
   "execution_count": 211,
   "id": "a0c786c4",
   "metadata": {},
   "outputs": [
    {
     "name": "stdout",
     "output_type": "stream",
     "text": [
      "1, 0, 0, 0, 1, \b\b  \n",
      "0, 1, 1, 1, 0, \b\b  \n"
     ]
    }
   ],
   "source": [
    "//%cflags: -I.jupyter\n",
    "\n",
    "#include <algorithm>\n",
    "#include <functional>\n",
    "#include <iostream>\n",
    "#include <vector>\n",
    "#include \"helpers.h\"\n",
    "\n",
    "int main() {\n",
    "    int x[] = {1, 1, 1, 1, 1};\n",
    "    int y[5] = {0};\n",
    "    \n",
    "    std::swap_ranges(x+1, x+4, y+1);\n",
    "    \n",
    "    forwardly(x, x+5);\n",
    "    forwardly(y, y+5);\n",
    "}"
   ]
  },
  {
   "cell_type": "markdown",
   "id": "b9d5a85e",
   "metadata": {},
   "source": [
    "#### Summary of *Modifying Sequence Operations* <a class=\"anchor\" id=\"summary-of-modifying-sequence-operations\"></a>"
   ]
  },
  {
   "cell_type": "markdown",
   "id": "9aeeffee",
   "metadata": {},
   "source": [
    "| *Method* | *Description* |\n",
    "| :--- | :--- |\n",
    "| `copy` | Copy elements of a sequence into another. |\n",
    "| `copy_backward` | Copy elements of a sequence into another, backwardly, and not in reverse. |\n",
    "| `transform` | Copy and apply an operation on each element in a sequence. |\n",
    "| ㅤ |\n",
    "| `unique` | Eliminate adjacent duplicates from a sequence, by moving them to the end. |\n",
    "| `unique_copy` | Similar to `unique`, but copies into another sequence. |\n",
    "| ㅤ |\n",
    "| `replace` | Replace matching values in a sequence with another value. |\n",
    "| `replace_copy` | Similar to `replace`, but copies into another sequence. |\n",
    "| `replace_if` | Replace values in a sequence, that satisfy a unary predicate, with another value. |\n",
    "| `replace_copy_if` | Similar to `replace_if`, but copies into another sequence. |\n",
    "| ㅤ |\n",
    "| `remove` | Remove matching values in a sequence, by moving them to the end. |\n",
    "| `remove_copy` | Similar to `remove`, but copies into another sequence. |\n",
    "| `remove_if` | Remove values in a sequence, that satisfy a unary predicate, with another value. |\n",
    "| `remove_copy_if` | Similar to `remove_if`, but copies into another sequence. |\n",
    "| ㅤ |\n",
    "| `fill` | Assign value to each element in a sequence. |\n",
    "| `generate` | Similar to `fill`, but uses a generator. |\n",
    "| `fill_n` | Assign value to the first `n` elements in a sequence. |\n",
    "| `generate_n` | Similar to `fill_n`, but uses a generator. |\n",
    "| ㅤ |\n",
    "| `reverse` | Reverse a sequence. |\n",
    "| `reverse_copy` | Reverse a sequence. |\n",
    "| ㅤ |\n",
    "| `rotate` | Rotate sequence, so `middle` element becomes the first. |\n",
    "| `rotate_copy` | Similar to `rotate`, but copies into another sequence. |\n",
    "| ㅤ |\n",
    "| `random_shuffle` | Shuffle a sequence randomly. |\n",
    "| `swap_ranges` | Swap two sequences. |"
   ]
  },
  {
   "cell_type": "markdown",
   "id": "6bfc2f51",
   "metadata": {},
   "source": [
    "#### Sorting Sequence Operations <a class=\"anchor\" id=\"sorting-sequence-operations\"></a>"
   ]
  },
  {
   "cell_type": "markdown",
   "id": "ddde4c6f",
   "metadata": {},
   "source": [
    "`sort` sorts a sequence, without preserving the relative order of equal elements, unlike `stable_sort`."
   ]
  },
  {
   "cell_type": "code",
   "execution_count": 217,
   "id": "0a1f4bcb",
   "metadata": {},
   "outputs": [
    {
     "name": "stdout",
     "output_type": "stream",
     "text": [
      "5, 4, 8, 9, 1, 6, 3, 2, 7, \b\b  \n",
      "1, 2, 3, 4, 5, 6, 7, 8, 9, \b\b  \n"
     ]
    }
   ],
   "source": [
    "//%cflags: -I.jupyter\n",
    "\n",
    "#include <algorithm>\n",
    "#include <functional>\n",
    "#include <iostream>\n",
    "#include <vector>\n",
    "#include \"helpers.h\"\n",
    "\n",
    "int main() {\n",
    "    int x[] = {1, 2, 3, 4, 5, 6, 7, 8, 9};\n",
    "    \n",
    "    std::random_shuffle(x, x+9);\n",
    "    \n",
    "    forwardly(x, x+9);\n",
    "    \n",
    "    std::sort(x, x+9);\n",
    "    \n",
    "    forwardly(x, x+9);\n",
    "}"
   ]
  },
  {
   "cell_type": "markdown",
   "id": "72e02493",
   "metadata": {},
   "source": [
    "*Note:* By default, sorting algorithms in the standard library use `std::less` to sort, which uses the `<` operator, and they accept an optional binary predicate argument."
   ]
  },
  {
   "cell_type": "markdown",
   "id": "608970d1",
   "metadata": {},
   "source": [
    "*Note:* Sorting algorithms in the standard library require random-access iterators."
   ]
  },
  {
   "cell_type": "markdown",
   "id": "1ced8ede",
   "metadata": {},
   "source": [
    "`partial_sort` sorts a sequence partially:\n",
    "* Placing the right elements in `first` to `middle` iterators.\n",
    "* Placing the remaining elements in `middle + 1` to `last`, unsorted."
   ]
  },
  {
   "cell_type": "code",
   "execution_count": 220,
   "id": "1b2c0a56",
   "metadata": {},
   "outputs": [
    {
     "name": "stdout",
     "output_type": "stream",
     "text": [
      "9, 8, 7, 6, 5, 4, 3, 2, 1, \b\b  \n",
      "1, 2, 3, 4, 5, 9, 8, 7, 6, \b\b  \n"
     ]
    }
   ],
   "source": [
    "//%cflags: -I.jupyter\n",
    "\n",
    "#include <algorithm>\n",
    "#include <functional>\n",
    "#include <iostream>\n",
    "#include <vector>\n",
    "#include \"helpers.h\"\n",
    "\n",
    "int main() {\n",
    "    int x[] = {1, 2, 3, 4, 5, 6, 7, 8, 9};\n",
    "    \n",
    "    std::reverse(x, x+9);\n",
    "    \n",
    "    forwardly(x, x+9);\n",
    "    \n",
    "    std::partial_sort(x, x+5, x+9);\n",
    "    \n",
    "    forwardly(x, x+9);\n",
    "}"
   ]
  },
  {
   "cell_type": "markdown",
   "id": "0b94147f",
   "metadata": {},
   "source": [
    "`partial_sort_copy` sorts a sequence partially into another."
   ]
  },
  {
   "cell_type": "code",
   "execution_count": 223,
   "id": "d3a102e7",
   "metadata": {},
   "outputs": [
    {
     "name": "stdout",
     "output_type": "stream",
     "text": [
      "5, 4, 8, 9, 1, 6, 3, 2, 7, \b\b  \n",
      "1, 2, 3, 4, 5, \b\b  \n"
     ]
    }
   ],
   "source": [
    "//%cflags: -I.jupyter\n",
    "\n",
    "#include <algorithm>\n",
    "#include <functional>\n",
    "#include <iostream>\n",
    "#include <vector>\n",
    "#include \"helpers.h\"\n",
    "\n",
    "int main() {\n",
    "    int x[] = {1, 2, 3, 4, 5, 6, 7, 8, 9};\n",
    "    int z[9];\n",
    "    \n",
    "    std::random_shuffle(x, x+9);\n",
    "    \n",
    "    forwardly(x, x+9);\n",
    "\n",
    "    std::partial_sort_copy(x, x+9, z, z+5);    /* 'partial_sort(TO_SORT, INTO_SORTED)' */\n",
    "    \n",
    "    forwardly(z, z+5);\n",
    "}"
   ]
  },
  {
   "cell_type": "markdown",
   "id": "d9955bc1",
   "metadata": {},
   "source": [
    "`nth_element` sorts a sequence only as far as is necessary to get the `nth` element to its proper place."
   ]
  },
  {
   "cell_type": "code",
   "execution_count": 225,
   "id": "d421c4fd",
   "metadata": {},
   "outputs": [
    {
     "name": "stdout",
     "output_type": "stream",
     "text": [
      "5, 4, 8, 9, 1, 6, 3, 2, 7, \b\b  \n",
      "4, 2, 3, 1, 5, 6, 7, 8, 9, \b\b  \n"
     ]
    }
   ],
   "source": [
    "//%cflags: -I.jupyter\n",
    "\n",
    "#include <algorithm>\n",
    "#include <functional>\n",
    "#include <iostream>\n",
    "#include <vector>\n",
    "#include \"helpers.h\"\n",
    "\n",
    "int main() {\n",
    "    int x[] = {1, 2, 3, 4, 5, 6, 7, 8, 9};\n",
    "    \n",
    "    std::random_shuffle(x, x+9);\n",
    "    \n",
    "    forwardly(x, x+9);\n",
    "\n",
    "    std::nth_element(x, x+4, x+9);       /* 'nth_element(first, nth, last)' */\n",
    "    \n",
    "    forwardly(x, x+9);\n",
    "}"
   ]
  },
  {
   "cell_type": "markdown",
   "id": "c259a574",
   "metadata": {},
   "source": [
    "`binary_search` searches for a value in a sorted sequence, and returns `bool`."
   ]
  },
  {
   "cell_type": "code",
   "execution_count": 226,
   "id": "abecdfcf",
   "metadata": {},
   "outputs": [
    {
     "name": "stdout",
     "output_type": "stream",
     "text": [
      "10"
     ]
    }
   ],
   "source": [
    "//%cflags: -I.jupyter\n",
    "\n",
    "#include <algorithm>\n",
    "#include <functional>\n",
    "#include <iostream>\n",
    "#include <vector>\n",
    "#include \"helpers.h\"\n",
    "\n",
    "int main() {\n",
    "    int x[] = {1, 2, 3, 4, 5, 6, 7, 8, 9};\n",
    "\n",
    "    std::cout << std::binary_search(x, x+9, 5);\n",
    "    std::cout << std::binary_search(x, x+9, 0);\n",
    "} "
   ]
  },
  {
   "cell_type": "markdown",
   "id": "c936f4df",
   "metadata": {},
   "source": [
    "*Note:* `lower_bound`, `upper_bound` and `equal_range` are also provided, implemented similar to their implementation in `std::map`."
   ]
  },
  {
   "cell_type": "markdown",
   "id": "90db02ba",
   "metadata": {},
   "source": [
    "`merge` merges two sorted sequences into another sequence.\n",
    "\n",
    "`inplace_merge` merges two sorted and subsequent subsequences in the same sequence."
   ]
  },
  {
   "cell_type": "code",
   "execution_count": 227,
   "id": "c3112476",
   "metadata": {},
   "outputs": [
    {
     "name": "stdout",
     "output_type": "stream",
     "text": [
      "0, 1, 2, 3, 4, 5, 6, 7, 8, 9, \b\b  \n",
      "0, 1, 2, 3, 4, 5, 6, 7, 8, 9, \b\b  \n"
     ]
    }
   ],
   "source": [
    "//%cflags: -I.jupyter\n",
    "\n",
    "#include <algorithm>\n",
    "#include <functional>\n",
    "#include <iostream>\n",
    "#include <vector>\n",
    "#include \"helpers.h\"\n",
    "\n",
    "int main() {\n",
    "    int x[] = {0, 2, 4, 6, 8, 1, 3, 5, 7, 9};\n",
    "    int y[10];\n",
    "\n",
    "    std::merge(x, x+5, x+5, x+10, y);\n",
    "    \n",
    "    forwardly(y, y+10);\n",
    "    \n",
    "    std::inplace_merge(x, x+5, x+10);\n",
    "    \n",
    "    forwardly(x, x+10);\n",
    "}"
   ]
  },
  {
   "cell_type": "markdown",
   "id": "0641a2c6",
   "metadata": {},
   "source": [
    "`parition` partitions elements in a sequence using a unary predicate argument.\n",
    "\n",
    "`stable_partition` preserves the relative order of elements after partitioning."
   ]
  },
  {
   "cell_type": "code",
   "execution_count": 229,
   "id": "6f10ab54",
   "metadata": {
    "scrolled": true
   },
   "outputs": [
    {
     "name": "stdout",
     "output_type": "stream",
     "text": [
      "0, 2, 4, 6, 8, 1, 3, 5, 7, 9, \b\b  \n"
     ]
    }
   ],
   "source": [
    "//%cflags: -I.jupyter\n",
    "\n",
    "#include <algorithm>\n",
    "#include <functional>\n",
    "#include <iostream>\n",
    "#include <vector>\n",
    "#include \"helpers.h\"\n",
    "\n",
    "template<class T>\n",
    "struct Even {\n",
    "    bool operator() (const T &val) {\n",
    "        return val % 2 == 0;\n",
    "    }\n",
    "};\n",
    "\n",
    "int main() {\n",
    "    int x[] = {0, 1, 2, 3, 4, 5, 6, 7, 8, 9};\n",
    "\n",
    "    std::stable_partition(x, x+10, Even<int>());          /* 'True', then 'False' */\n",
    "    \n",
    "    forwardly(x, x+10);\n",
    "}"
   ]
  },
  {
   "cell_type": "markdown",
   "id": "2180159c",
   "metadata": {},
   "source": [
    "#### Summary of *Sorting Sequence Operations* <a class=\"anchor\" id=\"summary-of-sorting-sequence-operations\"></a>"
   ]
  },
  {
   "cell_type": "markdown",
   "id": "056b9658",
   "metadata": {},
   "source": [
    "| *Method* | *Description* |\n",
    "| :--- | :--- |\n",
    "| `sort` | Sort sequence. |\n",
    "| `stable_sort` | Similar to `sort`, but preserves the relative order of equal elements. |\n",
    "| ㅤ |\n",
    "| `partial_sort` | Sort sequence partially, up to (and not including) the `middle` element. |\n",
    "| `partial_sort_copy` | Similar to `partial_sort`, but copies into another sequence. |\n",
    "| `nth_element` | Sort sequence partially, as far as necessary to get the `nth` element to its proper place. |\n",
    "| ㅤ |\n",
    "| `binary_search` | Search for a value in a sorted sequence. |\n",
    "| `lower_bound` | Find the first occurence of a value in a sorted sequence. |\n",
    "| `upper_bound` | Find the last occurence of a value in a sorted sequence. |\n",
    "| `equal_range` | Find the first and last occurences of a value in a sorted sequence. |\n",
    "| ㅤ |\n",
    "| `merge` | Merge two sorted sequences into another sequence. |\n",
    "| `inplace_merge` | Merge two sorted and subsequent subsequences in the same sequence. |\n",
    "| ㅤ |\n",
    "| `partition` | Partition elements in a sequence using a unary predicate. |\n",
    "| `stable_partition` | Similar to `partition`, but preserves the relative order of equal elements. |"
   ]
  },
  {
   "cell_type": "markdown",
   "id": "4e91029f",
   "metadata": {},
   "source": [
    "#### Set Operations <a class=\"anchor\" id=\"set-operations\"></a>"
   ]
  },
  {
   "cell_type": "markdown",
   "id": "7096a50c",
   "metadata": {},
   "source": [
    "`includes` checks whether every element in the second set is also in the first set."
   ]
  },
  {
   "cell_type": "code",
   "execution_count": 234,
   "id": "6b103a47",
   "metadata": {},
   "outputs": [
    {
     "name": "stdout",
     "output_type": "stream",
     "text": [
      "10"
     ]
    }
   ],
   "source": [
    "//%cflags: -I.jupyter\n",
    "\n",
    "#include <algorithm>\n",
    "#include <functional>\n",
    "#include <iostream>\n",
    "#include <vector>\n",
    "#include \"helpers.h\"\n",
    "\n",
    "int main() {\n",
    "    int x[] = {0, 1, 2, 3, 4, 5, 6, 7, 8, 9};\n",
    "    int test1[] = {5, 7};\n",
    "    int test2[] = {-1, 4, 5};\n",
    " \n",
    "    std::cout << std::includes(x, x + 10, test1, test1 + 2);\n",
    "    std::cout << std::includes(x, x + 10, test2, test2 + 3);\n",
    "}"
   ]
  },
  {
   "cell_type": "markdown",
   "id": "c192198d",
   "metadata": {},
   "source": [
    "*Note:* `includes`, as with all set operations, accepts an optional binary predicate argument."
   ]
  },
  {
   "cell_type": "markdown",
   "id": "b51c8563",
   "metadata": {},
   "source": [
    "`set_union`, `set_intersection`, `set_difference` and `set_symmetric_difference` perform common set operations."
   ]
  },
  {
   "cell_type": "code",
   "execution_count": 241,
   "id": "975bbb99",
   "metadata": {},
   "outputs": [
    {
     "name": "stdout",
     "output_type": "stream",
     "text": [
      "1, 2, 3, 4, 5, 6, \b\b  \n",
      "3, 4, \b\b  \n",
      "1, 2, \b\b  \n",
      "1, 2, 5, 6, \b\b  \n"
     ]
    }
   ],
   "source": [
    "//%cflags: -I.jupyter\n",
    "\n",
    "#include <algorithm>\n",
    "#include <functional>\n",
    "#include <iostream>\n",
    "#include <vector>\n",
    "#include \"helpers.h\"\n",
    "\n",
    "int main() {\n",
    "    int a1[] = {1, 2, 3, 4};\n",
    "    int a2[] = {3, 4, 5, 6};\n",
    "    int res[4];\n",
    "    int *ptr;\n",
    "    \n",
    "    ptr = std::set_union(a1, a1 + 4, a2, a2 + 4, res);\n",
    "    forwardly(res, ptr);\n",
    "\n",
    "    ptr = std::set_intersection(a1, a1 + 4, a2, a2 + 4, res);\n",
    "    forwardly(res, ptr);\n",
    "    \n",
    "    ptr = std::set_difference(a1, a1 + 4, a2, a2 + 4, res);\n",
    "    forwardly(res, ptr);\n",
    "    \n",
    "    ptr = std::set_symmetric_difference(a1, a1 + 4, a2, a2 + 4, res);\n",
    "    forwardly(res, ptr);\n",
    "}"
   ]
  },
  {
   "cell_type": "markdown",
   "id": "1e087fe2",
   "metadata": {},
   "source": [
    "#### Heap Operations <a class=\"anchor\" id=\"heap-operations\"></a>"
   ]
  },
  {
   "cell_type": "markdown",
   "id": "aa8b7578",
   "metadata": {},
   "source": [
    "A *heap* is a complete binary tree, where every node must be greater (or, less) than its children.\n",
    "\n",
    "`make_heap` converts a sequence into a heap, by re-ordering the elements accordingly.\n",
    "\n",
    "`sort_heap` converts a heap into a sorted sequence."
   ]
  },
  {
   "cell_type": "markdown",
   "id": "53f89ac9",
   "metadata": {},
   "source": [
    "*Note:* All heap operations accept an optional binary predicate argument."
   ]
  },
  {
   "cell_type": "code",
   "execution_count": 243,
   "id": "3280a045",
   "metadata": {},
   "outputs": [
    {
     "name": "stdout",
     "output_type": "stream",
     "text": [
      "9, 8, 6, 7, 4, 5, 2, 0, 3, 1, \b\b  \n",
      "0, 1, 2, 3, 4, 5, 6, 7, 8, 9, \b\b  \n"
     ]
    }
   ],
   "source": [
    "//%cflags: -I.jupyter\n",
    "\n",
    "#include <algorithm>\n",
    "#include <functional>\n",
    "#include <iostream>\n",
    "#include <vector>\n",
    "#include \"helpers.h\"\n",
    "\n",
    "template<class ITER>\n",
    "void print_heap(ITER first, ITER last) {\n",
    "    while (first != last) {\n",
    "        std::cout << *first++ << \", \";\n",
    "        pop\n",
    "    }\n",
    "    std::cout << \"\\b\\b  \\n\";\n",
    "}\n",
    "\n",
    "int main() {\n",
    "    int x[] = {0, 1, 2, 3, 4, 5, 6, 7, 8, 9};\n",
    "    \n",
    "    std::make_heap(x, x+10);                /* Sequence to Heap */\n",
    "    forwardly(x, x+10);\n",
    "    \n",
    "    for (int i = 0; i < 10; i++) {\n",
    "        \n",
    "        std::pop_heap();\n",
    "    }\n",
    "    \n",
    "    std::sort_heap(x, x+10);                /* Heap to Sorted Sequence */\n",
    "    forwardly(x, x+10);\n",
    "}"
   ]
  },
  {
   "cell_type": "markdown",
   "id": "045498ba",
   "metadata": {},
   "source": [
    "`push_heap` assumes the heap spans `first` to `last - 1` before pushing.\n",
    "\n",
    "Similarly, `pop_heap` returns the heap spanning `first` to `last - 1`."
   ]
  },
  {
   "cell_type": "code",
   "execution_count": 248,
   "id": "8db9018b",
   "metadata": {},
   "outputs": [
    {
     "name": "stdout",
     "output_type": "stream",
     "text": [
      "9, 8, 6, 7, 4, 5, 2, 0, 3, 1, \b\b  \n",
      "8, 7, 6, 3, 4, 5, 2, 0, 1, \b\b  \n",
      "7, 4, 6, 3, 1, 5, 2, 0, \b\b  \n",
      "6, 4, 5, 3, 1, 0, 2, \b\b  \n",
      "5, 4, 2, 3, 1, 0, \b\b  \n",
      "4, 3, 2, 0, 1, \b\b  \n",
      "3, 1, 2, 0, \b\b  \n",
      "2, 1, 0, \b\b  \n",
      "1, 0, \b\b  \n",
      "0, \b\b  \n"
     ]
    }
   ],
   "source": [
    "//%cflags: -I.jupyter\n",
    "\n",
    "#include <algorithm>\n",
    "#include <functional>\n",
    "#include <iostream>\n",
    "#include <vector>\n",
    "#include \"helpers.h\"\n",
    "\n",
    "int main() {\n",
    "    int x[] = {0, 1, 2, 3, 4, 5, 6, 7, 8, 9};\n",
    "    \n",
    "    std::make_heap(x, x+10);\n",
    "    forwardly(x, x+10);\n",
    "    \n",
    "    for (int i = 0; i < 9; i++) {\n",
    "        std::pop_heap(x, x+10-i);\n",
    "        forwardly(x, x+10-i-1);\n",
    "    }\n",
    "}"
   ]
  },
  {
   "cell_type": "markdown",
   "id": "d3fd8c0e",
   "metadata": {},
   "source": [
    "#### Permutations <a class=\"anchor\" id=\"permutations\"></a>"
   ]
  },
  {
   "cell_type": "markdown",
   "id": "5b34838b",
   "metadata": {},
   "source": [
    "`next_permutation` and `prev_permutation` are used to run through all possible permutations of elements in a sequence:\n",
    "* The sequence is shuffled into the next or previous permutation with every function call.\n",
    "* Permutations are generated in lexicographical order, using `std::less` by default, accepting an optional binary predicate argument.\n",
    "* `bool` is returned to indicate whether the next (or, previous) permutation exists."
   ]
  },
  {
   "cell_type": "code",
   "execution_count": 252,
   "id": "626385e6",
   "metadata": {},
   "outputs": [
    {
     "name": "stdout",
     "output_type": "stream",
     "text": [
      "1, 2, 3, \b\b  \n",
      "1, 3, 2, \b\b  \n",
      "2, 1, 3, \b\b  \n",
      "2, 3, 1, \b\b  \n",
      "3, 1, 2, \b\b  \n",
      "3, 2, 1, \b\b  \n"
     ]
    }
   ],
   "source": [
    "//%cflags: -I.jupyter\n",
    "\n",
    "#include <algorithm>\n",
    "#include <functional>\n",
    "#include <iostream>\n",
    "#include <vector>\n",
    "#include \"helpers.h\"\n",
    "\n",
    "int main() {\n",
    "    int x[] = {1, 2, 3};\n",
    "    forwardly(x, x+3);\n",
    "    \n",
    "    while (std::next_permutation(x, x+3)) {\n",
    "        forwardly(x, x+3);\n",
    "    }\n",
    "}"
   ]
  },
  {
   "cell_type": "markdown",
   "id": "2e71013b",
   "metadata": {},
   "source": [
    "## Iterators <a class=\"anchor\" id=\"iterators\"></a>"
   ]
  },
  {
   "cell_type": "markdown",
   "id": "76d48e43",
   "metadata": {},
   "source": [
    "The standard library provides five types of iterators."
   ]
  },
  {
   "cell_type": "markdown",
   "id": "79c8d48f",
   "metadata": {},
   "source": [
    "| *Iterator* | *Supported Operations* |\n",
    "| :-- | --- |\n",
    "| Output | `*p=` <br><br> `++` |\n",
    "| Input | `=*p` `p->` <br><br> `++` <br><br> `==` `!=` |\n",
    "| Forward | `*p=` `=*p` `p->` <br><br> `++` <br><br> `==` `!=` |\n",
    "| Bi-directional | `*p=` `=*p` `p->` <br><br> `++` `--` <br><br> `==` `!=` |\n",
    "| Random Access | `*p=` `=*p` `p->` `p[]` <br><br> `++` `--` `+` `-` `+=` `-=` <br><br> `==` `!=` `<` `>` `<=` `>=` |"
   ]
  },
  {
   "cell_type": "markdown",
   "id": "008692c3",
   "metadata": {},
   "source": [
    "Iterator classes define useful types, related to their work."
   ]
  },
  {
   "cell_type": "code",
   "execution_count": null,
   "id": "9a28c45b",
   "metadata": {},
   "outputs": [],
   "source": [
    "ITER_TYPE::category           /* Category representing type of iterator, discussed later */ \n",
    "ITER_TYPE::value_type         /* Type of value handled by iterator */\n",
    "ITER_TYPE::difference_type    /* Integral type, capable of handling maximum difference between two iterators */\n",
    "ITER_TYPE::pointer            /* Type returned by 'operator->()' */\n",
    "ITER_TYPE::reference          /* Type returned by 'operator*()' */"
   ]
  },
  {
   "cell_type": "markdown",
   "id": "f72ca7cc",
   "metadata": {},
   "source": [
    "These types may be used to define generalized functions."
   ]
  },
  {
   "cell_type": "code",
   "execution_count": 257,
   "id": "aeb7b566",
   "metadata": {},
   "outputs": [
    {
     "name": "stdout",
     "output_type": "stream",
     "text": [
      "3"
     ]
    }
   ],
   "source": [
    "//%cflags: -I.jupyter\n",
    "\n",
    "#include <iostream>\n",
    "#include <vector>\n",
    "#include \"helpers.h\"\n",
    "\n",
    "template<class ITER>\n",
    "typename ITER::difference_type dist(ITER first, ITER last) {\n",
    "    typename ITER::difference_type accum = 0;\n",
    "    while (first++ != last)\n",
    "        accum++;\n",
    "    return accum;\n",
    "}\n",
    "\n",
    "int main() {\n",
    "    int x[] = {1, 2, 3};\n",
    "    std::vector<int> v(x, x+3);\n",
    "    \n",
    "    std::cout << dist(v.begin(), v.end());\n",
    "}"
   ]
  },
  {
   "cell_type": "markdown",
   "id": "014fee4e",
   "metadata": {},
   "source": [
    "The standard library also provides `iterator_traits`, that accepts an iterator type as a template argument, and defines the same types within.\n",
    "\n",
    "It is specialized for pointers, to overcome the fact that `PTR_TYPE::` is an error."
   ]
  },
  {
   "cell_type": "code",
   "execution_count": null,
   "id": "a3c6c8cf",
   "metadata": {},
   "outputs": [],
   "source": [
    "template<class ITER>\n",
    "struct iterator_traits {\n",
    "    typedef typename ITER::iterator_category iteratory_category;\n",
    "    typedef typename ITER::value_type value_type;\n",
    "    typedef typename ITER::difference_type difference_type;\n",
    "    typedef typename ITER::pointer pointer;\n",
    "    typedef typename ITER::reference reference;\n",
    "};\n",
    "\n",
    "template<class T>\n",
    "struct iterator_traits<T *> {\n",
    "    typedef random_access_iterator_tag iterator_category;\n",
    "    typedef T value_type;\n",
    "    typedef ptrdiff_t difference_type;\n",
    "    typedef T * pointer;\n",
    "    typedef T & reference;\n",
    "};"
   ]
  },
  {
   "cell_type": "code",
   "execution_count": 266,
   "id": "4a32f2a0",
   "metadata": {},
   "outputs": [
    {
     "name": "stdout",
     "output_type": "stream",
     "text": [
      "3"
     ]
    }
   ],
   "source": [
    "//%cflags: -I.jupyter\n",
    "\n",
    "#include <iostream>\n",
    "#include <vector>\n",
    "#include <iterator>\n",
    "#include \"helpers.h\"\n",
    "\n",
    "template<class ITER>\n",
    "typename std::iterator_traits<ITER>::difference_type dist(ITER first, ITER last) {\n",
    "    typename std::iterator_traits<ITER>::difference_type accum = 0;\n",
    "    while (first++ != last)\n",
    "        accum++;\n",
    "    return accum;\n",
    "}\n",
    "\n",
    "int main() {\n",
    "    int x[] = {1, 2, 3};\n",
    "    \n",
    "    std::cout << dist(x, x+3);\n",
    "}"
   ]
  },
  {
   "cell_type": "markdown",
   "id": "da53ad8c",
   "metadata": {},
   "source": [
    "The `iterator_category` type is useful in overloading functions for different iterator types."
   ]
  },
  {
   "cell_type": "code",
   "execution_count": null,
   "id": "91eb3bcc",
   "metadata": {},
   "outputs": [],
   "source": [
    "struct output_iterator_tag {};\n",
    "struct input_iterator_tag {};\n",
    "struct forward_iterator_tag : public input_iterator_tag {};\n",
    "struct bidirectional_iterator_tag : public forward_iterator_tag {};\n",
    "struct random_access_iterator_tag : public bidirectional_iterator_tag {};"
   ]
  },
  {
   "cell_type": "code",
   "execution_count": 270,
   "id": "bd34d96e",
   "metadata": {},
   "outputs": [
    {
     "name": "stdout",
     "output_type": "stream",
     "text": [
      "Random Access Iterator\n",
      "3\n",
      "Input Iterator\n",
      "3\n"
     ]
    }
   ],
   "source": [
    "//%cflags: -I.jupyter\n",
    "\n",
    "#include <iostream>\n",
    "#include <vector>\n",
    "#include <list>\n",
    "#include <iterator>\n",
    "#include \"helpers.h\"\n",
    "\n",
    "template<class ITER>\n",
    "typename std::iterator_traits<ITER>::difference_type dist_helper(ITER first, ITER last,\n",
    "        std::input_iterator_tag tag) {\n",
    "    typename std::iterator_traits<ITER>::difference_type accum = 0;\n",
    "    while (first++ != last)\n",
    "        accum++;\n",
    "    std::cout << \"Input Iterator\\n\";\n",
    "    return accum;\n",
    "}\n",
    "\n",
    "template<class ITER>\n",
    "typename std::iterator_traits<ITER>::difference_type dist_helper(ITER first, ITER last,\n",
    "        std::random_access_iterator_tag tag) {\n",
    "    std::cout << \"Random Access Iterator\\n\";\n",
    "    return last - first;\n",
    "}\n",
    "\n",
    "template<class ITER>\n",
    "typename std::iterator_traits<ITER>::difference_type dist(ITER first, ITER last) {\n",
    "    typedef typename std::iterator_traits<ITER>::iterator_category category;\n",
    "    return dist_helper(first, last, category());\n",
    "}\n",
    "\n",
    "int main() {\n",
    "    int x[] = {1, 2, 3};\n",
    "    std::vector<int> v(x, x+3);\n",
    "    std::list<int> l(x, x+3);\n",
    "    \n",
    "    std::cout << dist(v.begin(), v.end()) << '\\n';\n",
    "    std::cout << dist(l.begin(), l.end()) << '\\n';\n",
    "}"
   ]
  },
  {
   "cell_type": "markdown",
   "id": "6eeefe1e",
   "metadata": {},
   "source": [
    "*Note:* The standard library already provides an implementation of `dist`, called `std::distance`. "
   ]
  },
  {
   "cell_type": "markdown",
   "id": "4e293cc8",
   "metadata": {},
   "source": [
    "The standard library provides `std::advance`, which advances an iterator by `n`."
   ]
  },
  {
   "cell_type": "code",
   "execution_count": 296,
   "id": "19dae0f0",
   "metadata": {},
   "outputs": [
    {
     "name": "stdout",
     "output_type": "stream",
     "text": [
      "5\n",
      "2\n"
     ]
    }
   ],
   "source": [
    "//%cflags: -I.jupyter\n",
    "\n",
    "#include <iostream>\n",
    "#include <list>\n",
    "#include <iterator>\n",
    "#include \"helpers.h\"\n",
    "\n",
    "int main() {\n",
    "    int x[] = {1, 2, 3, 4, 5, 6, 7, 8, 9};\n",
    "    std::list<int> l(x, x+9);\n",
    "    \n",
    "    typedef typename std::list<int>::iterator ITER_TYPE;\n",
    "    ITER_TYPE iter = l.begin();\n",
    "    \n",
    "    std::advance(iter, 4);\n",
    "    std::cout << *iter << '\\n';\n",
    "    \n",
    "    std::advance(iter, -3);\n",
    "    std::cout << *iter << '\\n';\n",
    "}"
   ]
  },
  {
   "cell_type": "markdown",
   "id": "858c75f1",
   "metadata": {},
   "source": [
    "### Inserters <a class=\"anchor\" id=\"inserters\"></a>"
   ]
  },
  {
   "cell_type": "markdown",
   "id": "68c3c9df",
   "metadata": {},
   "source": [
    "An *inserter* is an iterator that inserts into a container, instead of overwriting."
   ]
  },
  {
   "cell_type": "code",
   "execution_count": null,
   "id": "56f6fead",
   "metadata": {},
   "outputs": [],
   "source": [
    "template<class Cont>\n",
    "front_insert_iterator<Cont> front_inserter(Cont &c);       /* Inserts before 'begin()' */"
   ]
  },
  {
   "cell_type": "code",
   "execution_count": null,
   "id": "7512df2a",
   "metadata": {},
   "outputs": [],
   "source": [
    "template<class Cont>\n",
    "back_insert_iterator<Cont> back_inserter(Cont &c);         /* Inserts before 'end()' */"
   ]
  },
  {
   "cell_type": "code",
   "execution_count": null,
   "id": "ea86672e",
   "metadata": {},
   "outputs": [],
   "source": [
    "template<class Cont, class Out>\n",
    "insert_iterator<Cont> inserter(Cont &c, Out p);       /* Inserts before 'p' */"
   ]
  },
  {
   "cell_type": "code",
   "execution_count": 290,
   "id": "b2392ae0",
   "metadata": {},
   "outputs": [
    {
     "name": "stdout",
     "output_type": "stream",
     "text": [
      "1, 4, 5, \b\b  \n",
      "1, 2, 3, 4, 5, \b\b  \n"
     ]
    }
   ],
   "source": [
    "//%cflags: -I.jupyter\n",
    "\n",
    "#include <iostream>\n",
    "#include <vector>\n",
    "#include <list>\n",
    "#include <iterator>\n",
    "#include \"helpers.h\"\n",
    "\n",
    "int main() {\n",
    "    int x[] = {1, 4, 5};\n",
    "    std::vector<int> v(x, x+3);\n",
    "    \n",
    "    forwardly(v.begin(), v.end());\n",
    "    \n",
    "    typedef std::insert_iterator<std::vector<int>> insertor;\n",
    "    insertor iter = std::inserter(v, v.begin() + 1); \n",
    "    \n",
    "    *iter = 2;           /* incrementing not required, '++' has no effect */\n",
    "    *iter = 3;\n",
    "    \n",
    "    forwardly(v.begin(), v.end());\n",
    "}"
   ]
  },
  {
   "cell_type": "code",
   "execution_count": 274,
   "id": "c559aaba",
   "metadata": {},
   "outputs": [
    {
     "name": "stdout",
     "output_type": "stream",
     "text": [
      "1, 2, 3, 0, 0, 0, \b\b  \n"
     ]
    }
   ],
   "source": [
    "//%cflags: -I.jupyter\n",
    "\n",
    "#include <iostream>\n",
    "#include <vector>\n",
    "#include <list>\n",
    "#include <iterator>\n",
    "#include \"helpers.h\"\n",
    "\n",
    "int main() {\n",
    "    int x[] = {1, 2, 3};\n",
    "    std::vector<int> v(x, x+3);\n",
    "    \n",
    "    std::fill_n(back_inserter(v), 3, 0);\n",
    "    \n",
    "    forwardly(v.begin(), v.end());\n",
    "}"
   ]
  },
  {
   "cell_type": "markdown",
   "id": "c46d1be5",
   "metadata": {},
   "source": [
    "## Miscellaneous <a class=\"anchor\" id=\"miscellaneous\"></a>"
   ]
  },
  {
   "cell_type": "markdown",
   "id": "2e992b49",
   "metadata": {},
   "source": [
    "### `string` <a class=\"anchor\" id=\"string\"></a>"
   ]
  },
  {
   "cell_type": "markdown",
   "id": "953d4f68",
   "metadata": {},
   "source": [
    "`basic_string` is a sequence, specialized for character types."
   ]
  },
  {
   "cell_type": "code",
   "execution_count": null,
   "id": "93b8975d",
   "metadata": {},
   "outputs": [],
   "source": [
    "std::basic_string<char>        /* 'basic_string' of 'char'    (e.g: ASCII)   */\n",
    "std::basic_string<wchar_t>     /* 'basic_string' of 'wchar_t' (e.g: Unicode) */"
   ]
  },
  {
   "cell_type": "markdown",
   "id": "cf49df6f",
   "metadata": {},
   "source": [
    "*Note:* To use a `basic_string` of a user-defined character type, a specialization of `std::char_traits` must be provided."
   ]
  },
  {
   "cell_type": "markdown",
   "id": "2c4e3a3b",
   "metadata": {},
   "source": [
    "`string` is a specialization of `basic_string`, using `char` as character type."
   ]
  },
  {
   "cell_type": "code",
   "execution_count": null,
   "id": "45cdd109",
   "metadata": {},
   "outputs": [],
   "source": [
    "std::string                    /* Equivalent to 'std::basic_string<char>' */"
   ]
  },
  {
   "cell_type": "code",
   "execution_count": 305,
   "id": "fbfb8199",
   "metadata": {},
   "outputs": [
    {
     "name": "stdout",
     "output_type": "stream",
     "text": [
      "Hello, world.\n",
      "Hello\n",
      "olleH\n",
      "Hello, world.\n",
      "world.\n",
      "world\n",
      "xxxxx\n"
     ]
    }
   ],
   "source": [
    "#include <string>\n",
    "#include <iostream>\n",
    "\n",
    "int main() {\n",
    "    std::string s1(\"Hello, world.\");           /* 'string(ptr)'                  */\n",
    "    std::string s2(\"Hello, world.\", 5);        /* 'string(ptr, n)'               */\n",
    "    std::string s3(s2.rbegin(), s2.rend());    /* 'string(iter_begin, iter_end)' */\n",
    "    std::string s4(s1);                        /* 'string(string)'               */\n",
    "    std::string s5(s1, 7);                     /* 'string(string, i)'            */\n",
    "    std::string s6(s1, 7, 5);                  /* 'string(string, i, n)'         */\n",
    "    std::string s7(5, 'x');                    /* 'string(n, c)'                 */\n",
    " \n",
    "    std::cout << s1 << '\\n';\n",
    "    std::cout << s2 << '\\n';\n",
    "    std::cout << s3 << '\\n';\n",
    "    std::cout << s4 << '\\n';\n",
    "    std::cout << s5 << '\\n';\n",
    "    std::cout << s6 << '\\n';\n",
    "    std::cout << s7 << '\\n';\n",
    "}"
   ]
  },
  {
   "cell_type": "markdown",
   "id": "717b8091",
   "metadata": {},
   "source": [
    "*Note:* Unlike in many programming languages, a `string` object is mutable, and may be assigned to using the `operator=` or `assign` methods."
   ]
  },
  {
   "cell_type": "markdown",
   "id": "bdc2b4ea",
   "metadata": {},
   "source": [
    "`string` defines the `length` method, that can be considered an alias to `size`."
   ]
  },
  {
   "cell_type": "code",
   "execution_count": 313,
   "id": "78286523",
   "metadata": {},
   "outputs": [
    {
     "name": "stdout",
     "output_type": "stream",
     "text": [
      "Size: 5\n",
      "Length: 5\n"
     ]
    }
   ],
   "source": [
    "#include <string>\n",
    "#include <iostream>\n",
    "\n",
    "int main() {\n",
    "    std::string s(\"Hello\");\n",
    " \n",
    "    std::cout << \"Size: \" << s.size() << '\\n';\n",
    "    std::cout << \"Length: \" << s.length() << '\\n';\n",
    "}"
   ]
  },
  {
   "cell_type": "markdown",
   "id": "ccfe85f2",
   "metadata": {},
   "source": [
    "`string` defines a number of methods to convert to a C-style string."
   ]
  },
  {
   "cell_type": "code",
   "execution_count": null,
   "id": "20e6abbc",
   "metadata": {},
   "outputs": [],
   "source": [
    "s.c_str()       /* Returns C-style string, should not be used after alteration of 's' */"
   ]
  },
  {
   "cell_type": "code",
   "execution_count": null,
   "id": "1010b8a6",
   "metadata": {},
   "outputs": [],
   "source": [
    "s.data()        /* Similar to 'c_str', but omits null terminator */"
   ]
  },
  {
   "cell_type": "code",
   "execution_count": null,
   "id": "b04feb1b",
   "metadata": {},
   "outputs": [],
   "source": [
    "s.copy(buffer, n, pos)          /* Copy 'n' characters, beginning at 'pos' (omits '\\0') */\n",
    "s.copy(buffer, n)               /* Copy 'n' characters, beginning at 0                  */\n",
    "s.copy(buffer, string::npos)    /* Copy all characters                                  */"
   ]
  },
  {
   "cell_type": "markdown",
   "id": "75039020",
   "metadata": {},
   "source": [
    "*Note:* `string::npos` is a `static const size_type`, guranteed to be larger than or equal to any number of characters a `string` object can withstand."
   ]
  },
  {
   "cell_type": "markdown",
   "id": "5212f8aa",
   "metadata": {},
   "source": [
    "`string` facilitates comparisons between `string` objects and C-style strings."
   ]
  },
  {
   "cell_type": "code",
   "execution_count": null,
   "id": "77e51788",
   "metadata": {},
   "outputs": [],
   "source": [
    "s1 == s2                            /* '<, <=, >, >=, !=' */\n",
    "s1 == ptr\n",
    "ptr == s1"
   ]
  },
  {
   "cell_type": "code",
   "execution_count": null,
   "id": "d3a48040",
   "metadata": {},
   "outputs": [],
   "source": [
    "s1.compare(s2)                      /* Similar to 'strcmp' */\n",
    "s1.compare(ptr)\n",
    "\n",
    "s1.compare(pos, n, s2)\n",
    "s1.compare(pos, n, s2, pos2, n2)\n",
    "\n",
    "s1.compare(pos, n, ptr)\n",
    "s1.compare(pos, n, ptr, n2)"
   ]
  },
  {
   "cell_type": "markdown",
   "id": "e500fca9",
   "metadata": {},
   "source": [
    "Individual characters can be accessed using subscripting, or the `at` method."
   ]
  },
  {
   "cell_type": "code",
   "execution_count": 324,
   "id": "f8ebf103",
   "metadata": {},
   "outputs": [
    {
     "name": "stdout",
     "output_type": "stream",
     "text": [
      "H3llo"
     ]
    }
   ],
   "source": [
    "#include <string>\n",
    "#include <iostream>\n",
    "\n",
    "int main() {\n",
    "    std::string s(\"Hello\");\n",
    "    \n",
    "    s[1] = '3';\n",
    "    \n",
    "    std::cout << s;\n",
    "}"
   ]
  },
  {
   "cell_type": "markdown",
   "id": "fb00222b",
   "metadata": {},
   "source": [
    "*Note:* `s[s.length()]` may or may not return a null terminator."
   ]
  },
  {
   "cell_type": "markdown",
   "id": "b4aadde2",
   "metadata": {},
   "source": [
    "`string` provides `operator+=`, `append` and `insert` as means of insertion."
   ]
  },
  {
   "cell_type": "code",
   "execution_count": null,
   "id": "a28c8e42",
   "metadata": {},
   "outputs": [],
   "source": [
    "s += std::string(\"String\");\n",
    "s += \"C-Style String\";\n",
    "s += 'c';"
   ]
  },
  {
   "cell_type": "code",
   "execution_count": null,
   "id": "a016e250",
   "metadata": {},
   "outputs": [],
   "source": [
    "s.append(...)                               /* Similar to 'assign' */"
   ]
  },
  {
   "cell_type": "code",
   "execution_count": null,
   "id": "bd8f73dc",
   "metadata": {},
   "outputs": [],
   "source": [
    "s.insert(pos, ...)                          /* Similar to 'assign' */\n",
    "\n",
    "s.insert(iter, c)\n",
    "s.insert(iter, n, c)\n",
    "s.insert(iter, iter_first, iter_last)"
   ]
  },
  {
   "cell_type": "markdown",
   "id": "1eca8b48",
   "metadata": {},
   "source": [
    "`string` allows for concatenation of `string` objects, C-style strings, and `char`."
   ]
  },
  {
   "cell_type": "code",
   "execution_count": null,
   "id": "051d99e1",
   "metadata": {},
   "outputs": [],
   "source": [
    "string + string        /* All return a 'string' object */\n",
    "\n",
    "string + c\n",
    "c + string\n",
    "\n",
    "string + ptr\n",
    "ptr + string"
   ]
  },
  {
   "cell_type": "markdown",
   "id": "67f03ed7",
   "metadata": {},
   "source": [
    "`string` provides a family of *find* methods, that return `string::npos` if not found."
   ]
  },
  {
   "cell_type": "code",
   "execution_count": null,
   "id": "676170d8",
   "metadata": {},
   "outputs": [],
   "source": [
    "s.find(string)            /* Find first occurence of substring */\n",
    "s.find(string, i)         /* Option: Begin search at 'i' */\n",
    "\n",
    "s.find(ptr)\n",
    "s.find(ptr, i)\n",
    "s.find(ptr, i, n)         /* Option: Search for first 'n' characters in 'ptr' */\n",
    "\n",
    "s.find(c)\n",
    "s.find(c, i)"
   ]
  },
  {
   "cell_type": "code",
   "execution_count": null,
   "id": "3b35f341",
   "metadata": {},
   "outputs": [],
   "source": [
    "s.rfind(...)              /* Find last occurence of substring */"
   ]
  },
  {
   "cell_type": "code",
   "execution_count": null,
   "id": "6a7b994b",
   "metadata": {},
   "outputs": [],
   "source": [
    "s.find_first_of(...)           /* Find first occurence of character in sequence of characters */\n",
    "s.find_last_of(...)            /* ... */\n",
    "s.find_first_not_of(...)       /* ... */\n",
    "s.find_last_not_of(...)        /* ... */"
   ]
  },
  {
   "cell_type": "markdown",
   "id": "cf65ee8d",
   "metadata": {},
   "source": [
    "`string` provides the `replace` method, to replace substrings, as well as, the `erase` method."
   ]
  },
  {
   "cell_type": "code",
   "execution_count": null,
   "id": "11004dbe",
   "metadata": {},
   "outputs": [],
   "source": [
    "s.replace(i, n, ...)             "
   ]
  },
  {
   "cell_type": "code",
   "execution_count": null,
   "id": "a8426f59",
   "metadata": {},
   "outputs": [],
   "source": [
    "s.erase()\n",
    "s.erase(i)\n",
    "s.erase(i, n)"
   ]
  },
  {
   "cell_type": "markdown",
   "id": "9c42b323",
   "metadata": {},
   "source": [
    "`string` provides the `substr` method, that returns another `string` object, with a substring."
   ]
  },
  {
   "cell_type": "code",
   "execution_count": null,
   "id": "bf881849",
   "metadata": {},
   "outputs": [],
   "source": [
    "substr()\n",
    "substr(i)            \n",
    "substr(i, n)"
   ]
  }
 ],
 "metadata": {
  "kernelspec": {
   "display_name": "C++ Language (ipykernel)",
   "language": "c++",
   "name": "kernel_cpp"
  },
  "language_info": {
   "file_extension": ".cpp",
   "mimetype": "text/plain",
   "name": "c++"
  }
 },
 "nbformat": 4,
 "nbformat_minor": 5
}
