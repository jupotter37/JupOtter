{
 "cells": [
  {
   "cell_type": "markdown",
   "id": "7d0db240-6516-4193-9bba-a59d5fa2e0de",
   "metadata": {},
   "source": [
    "<!--- Mohammad Idrees Bhat | Tech Skills Trainer | AI/ML Consultant --->"
   ]
  },
  {
   "cell_type": "markdown",
   "id": "ad5b9590-7e9a-4a86-a829-72a5fe04aa84",
   "metadata": {},
   "source": [
    "<div style=\"background-color: #add8e6; padding: 10px; height: 70px; border-radius: 15px;\">\n",
    "    <div style=\"font-family: 'Georgia', serif; font-size: 20px; padding: 10px; text-align: right; position: absolute; right: 20px;\">\n",
    "        Ram<br>\n",
    "        <span style=\"font-family: 'Arial', sans-serif;font-size: 12px; color: #0a0a0a;\">Tech Skills Trainer | AI/ML Consultant</span>\n",
    "    </div>\n",
    "</div>"
   ]
  },
  {
   "cell_type": "markdown",
   "id": "6360f670-cd32-417c-be26-8438195b82df",
   "metadata": {},
   "source": [
    "<h1 style=\" background-color: #002147; color: White; padding: 30px; text-align:center\"> Python Programming Language (Part 3) </h1>"
   ]
  },
  {
   "cell_type": "markdown",
   "id": "19e9ec83-cf6b-4000-aa3b-4b2194c2bbf1",
   "metadata": {},
   "source": [
    "<div style=\"background-color: lightgreen; color: black; padding: 10px;\">\n",
    "    <h1>Data Structures in Python\n",
    "</h1> </div>"
   ]
  },
  {
   "cell_type": "markdown",
   "id": "155e8ec7-547b-41f4-b6f6-6e6e719c198c",
   "metadata": {},
   "source": [
    "<div style=\"background-color: grey; color: black; padding: 10px;\">\n",
    "    <h4><b>AGENDA</b> <p><p>\n",
    "1. Introduction to Data Structures <p><p> \n",
    "2. Lists <p>\n",
    "3. Tuples <p>\n",
    "4. Sets <p>\n",
    "5. Advanced Data Structures (Optional) <p>\n",
    "6. Linked Lists (Optional)\n",
    "</h4> </div>"
   ]
  },
  {
   "cell_type": "markdown",
   "id": "83dc7e72-bb78-4a90-8dc4-a5d3f2d590da",
   "metadata": {},
   "source": [
    "<h4> Skills Covered </h4>\n",
    "\n",
    "- Understanding Python’s built-in data structures (lists, tuples, dictionaries, sets).\n",
    "\n",
    "- Manipulating data using lists, tuples, and dictionaries.\n",
    "\n",
    "- Using set operations for data comparison and unique element retrieval.\n",
    "\n",
    "- Implementing advanced data structures like stacks and queues.\n",
    "\n",
    "- Applying real-world problem-solving techniques using these structures."
   ]
  },
  {
   "cell_type": "markdown",
   "id": "7aa5cf86-0ba5-4a29-8c65-e282eaec0b13",
   "metadata": {},
   "source": [
    "<h4> Learning Outcomes </h4>\n",
    "\n",
    "- Ability to manipulate data using lists, tuples, sets, and dictionaries.\n",
    "\n",
    "- Knowledge of when and why to use each data structure.\n",
    "\n",
    "- Understanding how to perform basic operations on each structure (adding, removing, accessing elements).\n",
    "\n",
    "- Ability to implement stacks and queues using Python data structures.\n",
    "\n",
    "- Proficiency in solving common programming problems using the appropriate data structure."
   ]
  },
  {
   "cell_type": "markdown",
   "id": "53ec8637",
   "metadata": {},
   "source": [
    "<div style=\"background-color: lightgreen; color: black; padding: 4px;\">\n",
    "    <h4>1. Introduction to Data Structures in Python \n",
    "</h4> </div>"
   ]
  },
  {
   "cell_type": "markdown",
   "id": "9734d92a-26dd-41ad-b7d9-5df50fff16bf",
   "metadata": {},
   "source": [
    "\r\n",
    "### What Are Data Structures?\r\n",
    "Data structures are ways of organizing and storing data so it can be accessed and worked with efficiently. \r\n",
    "\r\n",
    "### Types of Data Structures in Python:\r\n",
    "- Lists\r\n",
    "- Tuples\r\n",
    "- Dictionaries\r\n",
    "- Sets\r\n",
    "\r\n",
    "In this notebook, we'll explore each one, step by step!\r\n"
   ]
  },
  {
   "cell_type": "markdown",
   "id": "a3b10a45",
   "metadata": {},
   "source": [
    "<div style=\"background-color: lightgreen; color: black; padding: 4px;\">\n",
    "    <h4>2. Lists in Python \n",
    "</h4> </div>"
   ]
  },
  {
   "cell_type": "markdown",
   "id": "4228c0a3-c6bb-4a17-ab54-26367e730481",
   "metadata": {},
   "source": [
    "\r\n",
    "A list is one of the most versatile data structures in Python. It is a collection of items that are ordered, changeable, and allow duplicate elements. Lists can hold different data types in the same collection.\r\n",
    "\r\n",
    "### How to Create a List:\r\n",
    "- Lists are defined using square brackets `[]`.\r\n",
    "- Each item in a list is separated by a comma.\r\n",
    "sts\r\n"
   ]
  },
  {
   "cell_type": "code",
   "execution_count": 22,
   "id": "68c4d16b-6cdc-4f16-a700-f8a24b50b398",
   "metadata": {},
   "outputs": [
    {
     "name": "stdout",
     "output_type": "stream",
     "text": [
      "['apple', 'banana', 'cherry']\n",
      "apple\n"
     ]
    }
   ],
   "source": [
    "# Creating a list of fruits\n",
    "fruits = [\"apple\", \"banana\", \"cherry\"]\n",
    "print(fruits)\n",
    "\n",
    "# Accessing elements using index\n",
    "print(fruits[0])  # Output: apple\n"
   ]
  },
  {
   "cell_type": "markdown",
   "id": "34ec5677-2c40-4c91-ad5f-792e66cf1410",
   "metadata": {},
   "source": [
    "### List Operations:\n",
    "- `append()`: Add an item to the end of the list.\n",
    "- `remove()`: Remove an item by value.\n",
    "- `pop()`: Remove the last item in the list.\n",
    "- `slicing`: Access multiple items using start:stop indexes.\n"
   ]
  },
  {
   "cell_type": "code",
   "execution_count": 25,
   "id": "13dc3fc9-2973-4993-a235-b4d480991cf8",
   "metadata": {},
   "outputs": [
    {
     "name": "stdout",
     "output_type": "stream",
     "text": [
      "['apple', 'banana', 'cherry', 'orange']\n",
      "['apple', 'cherry', 'orange']\n",
      "Last item removed: orange\n",
      "['apple', 'cherry']\n",
      "['apple', 'cherry']\n"
     ]
    }
   ],
   "source": [
    "# List Operations Example\n",
    "fruits.append(\"orange\")   # Adding an item\n",
    "print(fruits)\n",
    "\n",
    "fruits.remove(\"banana\")   # Removing an item\n",
    "print(fruits)\n",
    "\n",
    "last_item = fruits.pop()  # Removing the last item\n",
    "print(\"Last item removed:\", last_item)\n",
    "print(fruits)\n",
    "\n",
    "# Slicing\n",
    "print(fruits[0:2])  # Output: ['apple', 'cherry']\n"
   ]
  },
  {
   "cell_type": "markdown",
   "id": "7febc7c6-ceb5-4340-bdf5-f19e18f7ff95",
   "metadata": {},
   "source": [
    "### Example Exercise:\n",
    "Create a list of your top 5 favorite movies, and practice adding, removing, and accessing them.\n"
   ]
  },
  {
   "cell_type": "markdown",
   "id": "ecac77f6",
   "metadata": {},
   "source": [
    "<div style=\"background-color: lightgreen; color: black; padding: 4px;\">\n",
    "    <h4>3. Tuples\n",
    "</h4> </div>"
   ]
  },
  {
   "cell_type": "markdown",
   "id": "f8fedd7c-8f5d-42ee-9dda-4fccdf6eabac",
   "metadata": {},
   "source": [
    "A tuple is similar to a list, but unlike lists, tuples are **immutable**, meaning once created, they cannot be changed. Use tuples when you want to store data that should not be modified throughout the program's execution.\n",
    "\n",
    "### How to Create a Tuple:\n",
    "- Tuples are defined using parentheses `()`.\n"
   ]
  },
  {
   "cell_type": "code",
   "execution_count": 31,
   "id": "f17fc4cc-ffa4-44b0-90a1-fb69ff2f4a82",
   "metadata": {},
   "outputs": [
    {
     "name": "stdout",
     "output_type": "stream",
     "text": [
      "Width: 1920\n",
      "Height: 1080\n"
     ]
    }
   ],
   "source": [
    "# Creating a tuple of dimensions\n",
    "dimensions = (1920, 1080)\n",
    "print(\"Width:\", dimensions[0])\n",
    "print(\"Height:\", dimensions[1])\n"
   ]
  },
  {
   "cell_type": "markdown",
   "id": "c2aa3975-2538-4d1b-bc96-a738ca063326",
   "metadata": {},
   "source": [
    "### Example:\n",
    "Create a tuple with information about your favorite book (title, author, publication year) and print each element.\n"
   ]
  },
  {
   "cell_type": "code",
   "execution_count": 3,
   "id": "25765943-c557-4d8d-8317-bb342aa0e12b",
   "metadata": {},
   "outputs": [
    {
     "name": "stdout",
     "output_type": "stream",
     "text": [
      "Title: 1984\n",
      "Author: George Orwell\n",
      "Year: 1949\n"
     ]
    }
   ],
   "source": [
    "# Tuple Example\n",
    "book_info = (\"1984\", \"George Orwell\", 1949)\n",
    "print(\"Title:\", book_info[0])\n",
    "print(\"Author:\", book_info[1])\n",
    "print(\"Year:\", book_info[2])\n"
   ]
  },
  {
   "cell_type": "markdown",
   "id": "46a5f795",
   "metadata": {},
   "source": [
    "<div style=\"background-color: lightgreen; color: black; padding: 4px;\">\n",
    "    <h4>4. Dictionaries\n",
    "</h4> </div>"
   ]
  },
  {
   "cell_type": "markdown",
   "id": "5dac328d-c6bd-42de-8d5f-d25706781141",
   "metadata": {},
   "source": [
    "A dictionary stores data in **key-value pairs**. It’s like a real-life dictionary, where each word (key) has a definition (value). Dictionaries are **unordered** and can be changed (mutable).\n",
    "\n",
    "### How to Create a Dictionary:\n",
    "- Dictionaries are created using curly braces `{}`.\n",
    "- Keys and values are separated by a colon `:`.\n"
   ]
  },
  {
   "cell_type": "code",
   "execution_count": 43,
   "id": "d58244c1-f2cf-4493-a788-f116f659e087",
   "metadata": {},
   "outputs": [
    {
     "name": "stdout",
     "output_type": "stream",
     "text": [
      "Bob's grade: 92\n"
     ]
    }
   ],
   "source": [
    "# Creating a dictionary of student grades\n",
    "student_grades = {\n",
    "    \"Alice\": 85,\n",
    "    \"Bob\": 92,\n",
    "    \"Charlie\": 78\n",
    "}\n",
    "\n",
    "# Accessing values by key\n",
    "print(\"Bob's grade:\", student_grades[\"Bob\"])\n"
   ]
  },
  {
   "cell_type": "markdown",
   "id": "43d6fa61-d944-4872-9e05-eed907e211af",
   "metadata": {},
   "source": [
    "### Dictionary Operations:\n",
    "- `add`: Adding a new key-value pair.\n",
    "- `update`: Modifying an existing value.\n",
    "- `delete`: Removing a key-value pair.\n"
   ]
  },
  {
   "cell_type": "code",
   "execution_count": 46,
   "id": "49c5d07b-060e-446e-aed2-422a9a5eb50c",
   "metadata": {},
   "outputs": [
    {
     "name": "stdout",
     "output_type": "stream",
     "text": [
      "{'Alice': 90, 'Bob': 92, 'David': 88}\n"
     ]
    }
   ],
   "source": [
    "# Dictionary Operations\n",
    "student_grades[\"David\"] = 88  # Adding a new student\n",
    "student_grades[\"Alice\"] = 90  # Updating a grade\n",
    "del student_grades[\"Charlie\"]  # Removing a student\n",
    "print(student_grades)\n"
   ]
  },
  {
   "cell_type": "markdown",
   "id": "36402c2d-eefa-4258-8f1b-7657d1b8f238",
   "metadata": {},
   "source": [
    "### Example Exercise:\n",
    "Create a dictionary that stores the prices of 5 items from a grocery store. Practice adding, updating, and removing items.\n"
   ]
  },
  {
   "cell_type": "markdown",
   "id": "50f921c5",
   "metadata": {},
   "source": [
    "<div style=\"background-color: lightgreen; color: black; padding: 4px;\">\n",
    "    <h4>5. Sets\n",
    "</h4> </div>"
   ]
  },
  {
   "cell_type": "markdown",
   "id": "22f37052-f6ad-4487-917b-390c3b2c413c",
   "metadata": {},
   "source": [
    "A set is an unordered collection of **unique items**. Unlike lists or tuples, sets do not allow duplicate elements. They are useful when you want to store items that should not repeat and when you need to perform operations like unions and intersections.\n",
    "\n",
    "### How to Create a Set:\n",
    "- Sets are created using curly braces `{}` or the `set()` function.\n"
   ]
  },
  {
   "cell_type": "code",
   "execution_count": null,
   "id": "27fac171-c85e-4800-981b-d302971edb6a",
   "metadata": {},
   "outputs": [],
   "source": []
  },
  {
   "cell_type": "code",
   "execution_count": 52,
   "id": "1017149b-53b9-41bd-a617-4a933cd59447",
   "metadata": {},
   "outputs": [
    {
     "name": "stdout",
     "output_type": "stream",
     "text": [
      "{1, 2, 3, 4, 5}\n",
      "{1, 2, 3, 4, 5, 6}\n",
      "{1, 2, 3, 4, 5, 6}\n"
     ]
    }
   ],
   "source": [
    "# Creating a set of unique numbers\n",
    "unique_numbers = {1, 2, 3, 4, 5}\n",
    "print(unique_numbers)\n",
    "\n",
    "# Adding an item to a set\n",
    "unique_numbers.add(6)\n",
    "print(unique_numbers)\n",
    "\n",
    "# Sets don't allow duplicates\n",
    "unique_numbers.add(3)  # This will not add another '3'\n",
    "print(unique_numbers)\n"
   ]
  },
  {
   "cell_type": "markdown",
   "id": "bdbd33f6-fa8b-4101-9b0d-15184ca69290",
   "metadata": {},
   "source": [
    "### Set Operations:\n",
    "- `union`: Combines two sets.\n",
    "- `intersection`: Finds common items between sets.\n"
   ]
  },
  {
   "cell_type": "code",
   "execution_count": 55,
   "id": "823d19cb-90ee-4cb2-a558-1aa3b0fca65b",
   "metadata": {},
   "outputs": [
    {
     "name": "stdout",
     "output_type": "stream",
     "text": [
      "Union: {1, 2, 3, 4, 5}\n",
      "Intersection: {3}\n"
     ]
    }
   ],
   "source": [
    "set_a = {1, 2, 3}\n",
    "set_b = {3, 4, 5}\n",
    "\n",
    "# Union\n",
    "print(\"Union:\", set_a | set_b)\n",
    "\n",
    "# Intersection\n",
    "print(\"Intersection:\", set_a & set_b)\n"
   ]
  },
  {
   "cell_type": "markdown",
   "id": "0dc25f0b-c5fc-4d4b-863d-3701d6262abc",
   "metadata": {},
   "source": [
    "### Example Exercise:\n",
    "Create two sets of students enrolled in different courses and find the students who are enrolled in both courses.\n"
   ]
  },
  {
   "cell_type": "markdown",
   "id": "2b966241-2338-420b-b7a2-c9467aed4861",
   "metadata": {},
   "source": [
    "<div style=\"background-color: lightgreen; color: black; padding: 4px;\">\n",
    "    <h4>6. Stacks and Queues (Optional)\n",
    "</h4> </div>"
   ]
  },
  {
   "cell_type": "markdown",
   "id": "58946060-3231-4932-9bf4-8a28d318df25",
   "metadata": {},
   "source": [
    "A **stack** follows the **Last In, First Out (LIFO)** principle, where the last item added is the first one to be removed. Think of it like stacking plates—take the top plate first.\n",
    "\n",
    "A **queue** follows the **First In, First Out (FIFO)** principle, where the first item added is the first to be removed. It works like a line of people waiting for service.\n",
    "\n",
    "### Implementing a Stack:\n"
   ]
  },
  {
   "cell_type": "code",
   "execution_count": 61,
   "id": "34c266b3-fe5d-40d9-828c-6a231c2186b0",
   "metadata": {},
   "outputs": [
    {
     "name": "stdout",
     "output_type": "stream",
     "text": [
      "Stack after push: ['item1', 'item2']\n",
      "Stack after pop: ['item1']\n"
     ]
    }
   ],
   "source": [
    "# Stack Example using List\n",
    "stack = []\n",
    "\n",
    "# Push items\n",
    "stack.append(\"item1\")\n",
    "stack.append(\"item2\")\n",
    "print(\"Stack after push:\", stack)\n",
    "\n",
    "# Pop an item\n",
    "stack.pop()\n",
    "print(\"Stack after pop:\", stack)\n"
   ]
  },
  {
   "cell_type": "markdown",
   "id": "224cf76d-73b6-475f-9f69-8aedf1079b17",
   "metadata": {},
   "source": [
    "### Implementing a Queue:"
   ]
  },
  {
   "cell_type": "code",
   "execution_count": 64,
   "id": "05a6e074-4c74-40ef-a72d-f5a38ecfe7a4",
   "metadata": {},
   "outputs": [
    {
     "name": "stdout",
     "output_type": "stream",
     "text": [
      "Initial Queue: deque(['person1', 'person2', 'person3'])\n",
      "Queue after enqueue: deque(['person1', 'person2', 'person3', 'person4'])\n",
      "Queue after dequeue: deque(['person2', 'person3', 'person4'])\n"
     ]
    }
   ],
   "source": [
    "from collections import deque\n",
    "\n",
    "# Queue Example using deque\n",
    "queue = deque([\"person1\", \"person2\", \"person3\"])\n",
    "print(\"Initial Queue:\", queue)\n",
    "\n",
    "# Add a person to the queue (enqueue)\n",
    "queue.append(\"person4\")\n",
    "print(\"Queue after enqueue:\", queue)\n",
    "\n",
    "# Remove a person from the queue (dequeue)\n",
    "queue.popleft()\n",
    "print(\"Queue after dequeue:\", queue)\n"
   ]
  },
  {
   "cell_type": "markdown",
   "id": "f3c3decb-825f-4dff-9478-e06d033a498e",
   "metadata": {},
   "source": [
    "### Example Exercise:\n",
    "Create a simple simulation of a queue at a coffee shop, where customers arrive and are served.\n"
   ]
  },
  {
   "cell_type": "markdown",
   "id": "c45d218d-4869-414d-b941-81e76a483903",
   "metadata": {},
   "source": [
    "<div style=\"background-color: lightgreen; color: black; padding: 4px;\">\n",
    "    <h4>7. Linked Lists (Optional)\n",
    "</h4> </div>"
   ]
  },
  {
   "cell_type": "markdown",
   "id": "1ffb3db4-1517-4c0b-b285-81e6c7f21109",
   "metadata": {},
   "source": [
    "A **Linked List** is a linear data structure where elements (nodes) are stored in sequence, but instead of being stored in contiguous memory locations like arrays, each node points to the next node using a reference (or link). \n",
    "\n",
    "Each node in a linked list consists of two parts:\n",
    "1. **Data**: The value stored in the node.\n",
    "2. **Next**: A reference (or pointer) to the next node in the sequence.\n",
    "\n",
    "There are two common types of linked lists:\n",
    "- **Singly Linked List**: Each node points to the next node and the last node points to `None`.\n",
    "- **Doubly Linked List**: Each node points to both the next and previous nodes.\n",
    "\n",
    "Linked Lists are great for efficient insertions and deletions compared to arrays but accessing elements is slower since you need to traverse the list sequentially.\n",
    "\n",
    "In this section, we will build a **Singly Linked List** from scratch in Python.\n"
   ]
  },
  {
   "cell_type": "markdown",
   "id": "2731526c-bbd6-4827-b804-c807ac795100",
   "metadata": {},
   "source": [
    "### Node Class\n",
    "\n",
    "The basic building block of a Linked List is a **Node**. Each node contains data and a reference to the next node.\n",
    "\n",
    "Let's create a `Node` class in Python to represent each element in the linked list.\n"
   ]
  },
  {
   "cell_type": "code",
   "execution_count": 73,
   "id": "1550537c-fe93-4c73-b68d-6955984d286e",
   "metadata": {},
   "outputs": [
    {
     "name": "stdout",
     "output_type": "stream",
     "text": [
      "Node1 data: 5\n",
      "Node2 data: 10\n"
     ]
    }
   ],
   "source": [
    "# Node Class\n",
    "class Node:\n",
    "    def __init__(self, data):\n",
    "        self.data = data  # Assign data\n",
    "        self.next = None  # Initialize next as None\n",
    "\n",
    "# Example of creating nodes\n",
    "node1 = Node(5)\n",
    "node2 = Node(10)\n",
    "\n",
    "# Linking nodes\n",
    "node1.next = node2  # Node1 points to Node2\n",
    "print(\"Node1 data:\", node1.data)\n",
    "print(\"Node2 data:\", node1.next.data)  # Accessing Node2 through Node1\n"
   ]
  },
  {
   "cell_type": "markdown",
   "id": "1ecdc2d7-aee8-493e-a138-1c5b96953a1f",
   "metadata": {},
   "source": [
    "### Exercise:\n",
    "Create three nodes with any data you like, link them together, and print their values.\n"
   ]
  },
  {
   "cell_type": "markdown",
   "id": "032256cc-72b3-45ca-8448-292c0d6195ee",
   "metadata": {},
   "source": [
    "### Singly Linked List\n",
    "\n",
    "Now that we have a `Node` class, we can create a **Singly Linked List**. This list will have:\n",
    "- A `head` that points to the first node.\n",
    "- Methods to insert, delete, and traverse the list.\n"
   ]
  },
  {
   "cell_type": "code",
   "execution_count": 79,
   "id": "8eb4474a-3385-4fd5-aeaa-8ad51186d59b",
   "metadata": {},
   "outputs": [
    {
     "name": "stdout",
     "output_type": "stream",
     "text": [
      "1 -> 2 -> 3 -> None\n"
     ]
    }
   ],
   "source": [
    "# Singly Linked List Class\n",
    "class LinkedList:\n",
    "    def __init__(self):\n",
    "        self.head = None  # Initialize the head as None\n",
    "\n",
    "    # Method to insert a node at the end\n",
    "    def append(self, data):\n",
    "        new_node = Node(data)\n",
    "        if not self.head:  # If the list is empty\n",
    "            self.head = new_node\n",
    "        else:\n",
    "            last = self.head\n",
    "            while last.next:  # Traverse to the last node\n",
    "                last = last.next\n",
    "            last.next = new_node\n",
    "\n",
    "    # Method to print the linked list\n",
    "    def display(self):\n",
    "        current = self.head\n",
    "        while current:\n",
    "            print(current.data, end=\" -> \")\n",
    "            current = current.next\n",
    "        print(\"None\")\n",
    "\n",
    "# Example: Creating a linked list and adding nodes\n",
    "llist = LinkedList()\n",
    "llist.append(1)\n",
    "llist.append(2)\n",
    "llist.append(3)\n",
    "llist.display()  # Output: 1 -> 2 -> 3 -> None\n"
   ]
  },
  {
   "cell_type": "markdown",
   "id": "a010af20-d1bb-495f-9284-6a475dfc6d05",
   "metadata": {},
   "source": [
    "### Exercise:\n",
    "Create a linked list, add 5 nodes with values of your choice, and print the entire list.\n"
   ]
  },
  {
   "cell_type": "markdown",
   "id": "be0bf5c0-7912-415a-8e6e-c1c216a21563",
   "metadata": {},
   "source": [
    "### Inserting a Node at the Beginning\n",
    "\n",
    "Inserting a node at the beginning of a linked list is efficient because it only involves updating the `head` pointer.\n",
    "\n",
    "Let's add a method to insert a node at the start of the linked list.\n"
   ]
  },
  {
   "cell_type": "code",
   "execution_count": 84,
   "id": "9b1c1a64-0e7e-4a11-8241-be354805e758",
   "metadata": {},
   "outputs": [
    {
     "name": "stdout",
     "output_type": "stream",
     "text": [
      "1 -> 3 -> 4 -> None\n"
     ]
    }
   ],
   "source": [
    "class LinkedList:\n",
    "    def __init__(self):\n",
    "        self.head = None\n",
    "    \n",
    "    # Insert at the beginning\n",
    "    def insert_at_beginning(self, data):\n",
    "        new_node = Node(data)\n",
    "        new_node.next = self.head  # Point new node to the current head\n",
    "        self.head = new_node  # Update the head to the new node\n",
    "\n",
    "    def append(self, data):\n",
    "        new_node = Node(data)\n",
    "        if not self.head:\n",
    "            self.head = new_node\n",
    "        else:\n",
    "            last = self.head\n",
    "            while last.next:\n",
    "                last = last.next\n",
    "            last.next = new_node\n",
    "    \n",
    "    def display(self):\n",
    "        current = self.head\n",
    "        while current:\n",
    "            print(current.data, end=\" -> \")\n",
    "            current = current.next\n",
    "        print(\"None\")\n",
    "\n",
    "# Example: Inserting at the beginning\n",
    "llist = LinkedList()\n",
    "llist.append(3)\n",
    "llist.append(4)\n",
    "llist.insert_at_beginning(1)\n",
    "llist.display()  # Output: 1 -> 3 -> 4 -> None\n"
   ]
  },
  {
   "cell_type": "markdown",
   "id": "5a594d4a-54a1-44e9-856b-9d97237ad5cf",
   "metadata": {},
   "source": [
    "### Exercise:\n",
    "Insert a node at the beginning of the linked list you created earlier. See how the head of the list changes.\n"
   ]
  },
  {
   "cell_type": "markdown",
   "id": "34f00adf-d315-4178-8dd8-799aa5fb561a",
   "metadata": {},
   "source": [
    "### Deleting a Node\n",
    "\n",
    "Deleting a node from a linked list requires finding the node to delete and updating the pointers. We'll add a method to delete a node by its value.\n"
   ]
  },
  {
   "cell_type": "code",
   "execution_count": 89,
   "id": "c2f4c84a-89fd-4c11-a36d-e748ca337080",
   "metadata": {},
   "outputs": [
    {
     "name": "stdout",
     "output_type": "stream",
     "text": [
      "1 -> 3 -> None\n"
     ]
    }
   ],
   "source": [
    "class LinkedList:\n",
    "    def __init__(self):\n",
    "        self.head = None\n",
    "\n",
    "    def append(self, data):\n",
    "        new_node = Node(data)\n",
    "        if not self.head:\n",
    "            self.head = new_node\n",
    "        else:\n",
    "            last = self.head\n",
    "            while last.next:\n",
    "                last = last.next\n",
    "            last.next = new_node\n",
    "\n",
    "    def display(self):\n",
    "        current = self.head\n",
    "        while current:\n",
    "            print(current.data, end=\" -> \")\n",
    "            current = current.next\n",
    "        print(\"None\")\n",
    "    \n",
    "    # Delete a node by value\n",
    "    def delete_node(self, key):\n",
    "        current = self.head\n",
    "        \n",
    "        # If head node itself holds the key to be deleted\n",
    "        if current and current.data == key:\n",
    "            self.head = current.next  # Update head\n",
    "            current = None\n",
    "            return\n",
    "        \n",
    "        # Search for the node to be deleted, keep track of the previous node\n",
    "        prev = None\n",
    "        while current and current.data != key:\n",
    "            prev = current\n",
    "            current = current.next\n",
    "        \n",
    "        # If the key was not found\n",
    "        if not current:\n",
    "            return\n",
    "        \n",
    "        # Unlink the node from the list\n",
    "        prev.next = current.next\n",
    "        current = None\n",
    "\n",
    "# Example: Deleting a node\n",
    "llist = LinkedList()\n",
    "llist.append(1)\n",
    "llist.append(2)\n",
    "llist.append(3)\n",
    "llist.delete_node(2)\n",
    "llist.display()  # Output: 1 -> 3 -> None\n"
   ]
  },
  {
   "cell_type": "markdown",
   "id": "1ae15dac-b2f8-4a85-a102-27c82d24b597",
   "metadata": {},
   "source": [
    "### Exercise:\n",
    "Add 5 nodes to your list and then delete the second and fourth nodes. Print the updated list.\n"
   ]
  },
  {
   "cell_type": "markdown",
   "id": "5c7a4b46-e3eb-4224-9ddf-3bf11d328063",
   "metadata": {},
   "source": [
    "### Searching for a Node\n",
    "\n",
    "To search for a specific node in a linked list, we traverse the list from the head and compare each node’s data with the target value.\n",
    "\n",
    "Let's implement a method to search for a node by its value.\n"
   ]
  },
  {
   "cell_type": "code",
   "execution_count": 93,
   "id": "56b88f3c-58de-404a-b885-0d74c844d443",
   "metadata": {},
   "outputs": [
    {
     "name": "stdout",
     "output_type": "stream",
     "text": [
      "True\n",
      "False\n"
     ]
    }
   ],
   "source": [
    "class LinkedList:\n",
    "    def __init__(self):\n",
    "        self.head = None\n",
    "\n",
    "    def append(self, data):\n",
    "        new_node = Node(data)\n",
    "        if not self.head:\n",
    "            self.head = new_node\n",
    "        else:\n",
    "            last = self.head\n",
    "            while last.next:\n",
    "                last = last.next\n",
    "            last.next = new_node\n",
    "    \n",
    "    def display(self):\n",
    "        current = self.head\n",
    "        while current:\n",
    "            print(current.data, end=\" -> \")\n",
    "            current = current.next\n",
    "        print(\"None\")\n",
    "    \n",
    "    # Search for a node by value\n",
    "    def search(self, key):\n",
    "        current = self.head\n",
    "        while current:\n",
    "            if current.data == key:\n",
    "                return True\n",
    "            current = current.next\n",
    "        return False\n",
    "\n",
    "# Example: Searching for a node\n",
    "llist = LinkedList()\n",
    "llist.append(1)\n",
    "llist.append(2)\n",
    "llist.append(3)\n",
    "print(llist.search(2))  # Output: True\n",
    "print(llist.search(5))  # Output: False\n"
   ]
  },
  {
   "cell_type": "code",
   "execution_count": null,
   "id": "2d9d3795-0c6f-447d-8c3b-737f4e03a555",
   "metadata": {},
   "outputs": [],
   "source": []
  },
  {
   "cell_type": "markdown",
   "id": "b69ed7ea-1940-434d-bb2d-601d07994783",
   "metadata": {},
   "source": [
    "<div style=\"background-color: lightblue; color: white; padding: 10px; text-align: center;\">\n",
    "    <h1>_________________________________END________________________________\n",
    "</h1> </div>"
   ]
  },
  {
   "cell_type": "markdown",
   "id": "01ede1e3-7668-4ca3-bb69-64344a1e070b",
   "metadata": {},
   "source": [
    "<div class=\"alert alert-block alert-warning\">\n",
    "    <b><font size=\"5\"> Live Exercise</font> </b>\n",
    "</div>"
   ]
  },
  {
   "cell_type": "markdown",
   "id": "8bc1cea8-d999-464a-9ed1-d760c38a57fb",
   "metadata": {},
   "source": [
    "Now it's your turn!\n",
    "### Task 1: Create a list of 5 fruits, then do the following:\n",
    "\n",
    "    - Append a new fruit to the list.\n",
    "    - Remove the second fruit from the list.\n",
    "    - Sort the list alphabetically.\n",
    "    - Print the final list.\n",
    "\n",
    "### Task 2: Create a tuple of 4 numbers, then:\n",
    "\n",
    "    - Access and print the first element.\n",
    "    - Attempt to change the second element (this should cause an error, demonstrating immutability).\n",
    "    - Find the length of the tuple.\n",
    "\n",
    "### Task 3: Create a dictionary of 3 countries and their capitals, then:\n",
    "\n",
    "    - Add a new country and its capital to the dictionary.\n",
    "    - Remove one country.\n",
    "    - Update the capital of an existing country.\n",
    "    - Print the dictionary.\n",
    "\n",
    "### Task 4: Create a set of 4 numbers, then:\n",
    "\n",
    "    - Add a new number to the set.\n",
    "    - Try to add a duplicate number (it shouldn't be added).\n",
    "    - Remove a number from the set.\n",
    "    - Print the final set.\n",
    "\n"
   ]
  },
  {
   "cell_type": "markdown",
   "id": "59e1068c-733a-4cae-bc7d-64e907e25b1d",
   "metadata": {},
   "source": [
    "### Advanced (Optional) Exercise 1:\n",
    "Task: Create a simple phone book using a dictionary where the keys are names and the values are phone numbers. Implement the following functionalities:\n",
    "\n",
    "    - Add a new contact.\n",
    "    - Search for a contact by name.\n",
    "    - Update an existing contact's phone number.\n",
    "    - Remove a contact.\n",
    "    - Print all the contacts.\n",
    "\n",
    "    \n",
    "### Advanced (Optional) Exercise 2: Analyzing Student Grades (Basic Data Analytics with Python)\n",
    "Task:\n",
    "You are given a dataset of students and their exam scores. Your task is to analyze this dataset using Python lists, dictionaries, and basic operations. The dataset contains information on student names and their grades in different subjects.\n",
    "\n",
    "You will perform the following:\n",
    "\n",
    "    - Calculate the average grade for each student.\n",
    "    - Determine the highest and lowest grade for each student.\n",
    "    - Find the student(s) with the highest average grade.\n",
    "    - Identify how many students passed and how many failed. (Consider passing grade >= 50)\n",
    "    - Print a summary of the class performance."
   ]
  },
  {
   "cell_type": "markdown",
   "id": "13e86481-eae2-4019-9515-66a43a30f0fb",
   "metadata": {},
   "source": [
    "<div style=\"background-color: #002147; color: #fff; padding: 30px; text-align: center;\">\n",
    "    <h1>THANK YOU!\n",
    "</h1> </div>"
   ]
  },
  {
   "cell_type": "markdown",
   "id": "eabe4e17-193c-4895-b4a3-b71f577ac7e1",
   "metadata": {},
   "source": [
    "<div style=\"background-color: lightgreen; color: black; padding: 30px;\">\n",
    "    <h4> Live Exercise Solutions\n",
    "        \n",
    "</h4> </div>"
   ]
  },
  {
   "cell_type": "markdown",
   "id": "16392e91-57d0-44e3-b73d-4793118bf4b6",
   "metadata": {},
   "source": [
    "### Advanced Exercise 1"
   ]
  },
  {
   "cell_type": "markdown",
   "id": "9c26ee69-459b-404b-b5df-e08ddcd9ac3f",
   "metadata": {},
   "source": [
    "### Advanced Exercise 2"
   ]
  },
  {
   "cell_type": "markdown",
   "id": "68fba34c-e52f-4fb5-b2c2-f6e6caa21a6b",
   "metadata": {},
   "source": [
    "<div class=\"alert alert-block alert-warning\"  padding: 10px; text-align: center;\">\n",
    "    <font size=\"3\"> Programming Interveiw Questions</font>\n",
    "</div>"
   ]
  },
  {
   "cell_type": "markdown",
   "id": "71beb3fb-e8c2-4063-bda5-844fae4212fb",
   "metadata": {},
   "source": [
    "1. List Manipulation:\n",
    "\n",
    "    - How can you remove duplicates from a list in Python while maintaining the original order of elements?\n",
    "\n",
    "2.Tuple Usage:\n",
    "\n",
    "    - Explain the advantages of using tuples over lists. In what scenarios would you prefer to use a tuple instead of a list?\n",
    "\n",
    "3. Dictionary Operations:\n",
    "\n",
    "    - How do you merge two dictionaries in Python? Provide an example using both the update() method and the ** unpacking method.\n",
    "\n",
    "4. Set Operations:\n",
    "\n",
    "    - Describe how sets differ from lists and dictionaries. What are the main use cases for using sets in Python?\n",
    "\n",
    "5. List Comprehensions:\n",
    "\n",
    "    - What are list comprehensions, and how can they be used to create a new list from an existing list? Provide an example.\n",
    "\n",
    "6. Nested Data Structures:\n",
    "\n",
    "    - How can you access elements in a nested dictionary? Can you provide a code snippet demonstrating how to retrieve a value from a nested structure?\n",
    "\n",
    "7. Tuple Packing and Unpacking:\n",
    "\n",
    "    - What is tuple packing and unpacking? Provide an example of how to unpack values from a tuple into multiple variables.\n",
    "\n",
    "8. Default Dictionary:\n",
    "\n",
    "    - What is a defaultdict in Python, and how does it differ from a regular dictionary? When would you choose to use defaultdict?\n",
    "\n",
    "9. Set Comprehensions:\n",
    "\n",
    "    - Explain what set comprehensions are and provide an example of how to create a set using a set comprehension.\n",
    "\n",
    "9. Performance Considerations:\n",
    "\n",
    "    - Compare the performance of lists, tuples, and sets. In which situations would you prefer using one data structure over the others based on performance?"
   ]
  },
  {
   "cell_type": "code",
   "execution_count": null,
   "id": "7fca5084-05cb-41e2-8997-1ff768e3b985",
   "metadata": {},
   "outputs": [],
   "source": []
  }
 ],
 "metadata": {
  "kernelspec": {
   "display_name": "Python 3 (ipykernel)",
   "language": "python",
   "name": "python3"
  },
  "language_info": {
   "codemirror_mode": {
    "name": "ipython",
    "version": 3
   },
   "file_extension": ".py",
   "mimetype": "text/x-python",
   "name": "python",
   "nbconvert_exporter": "python",
   "pygments_lexer": "ipython3",
   "version": "3.12.7"
  }
 },
 "nbformat": 4,
 "nbformat_minor": 5
}
