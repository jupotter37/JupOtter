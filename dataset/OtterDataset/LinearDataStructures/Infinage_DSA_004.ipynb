{
 "cells": [
  {
   "cell_type": "code",
   "execution_count": 1,
   "id": "ff4e246c",
   "metadata": {
    "execution": {
     "iopub.execute_input": "2024-06-24T03:19:31.476241Z",
     "iopub.status.busy": "2024-06-24T03:19:31.475836Z",
     "iopub.status.idle": "2024-06-24T03:19:31.809531Z",
     "shell.execute_reply": "2024-06-24T03:19:31.809050Z"
    },
    "papermill": {
     "duration": 0.347769,
     "end_time": "2024-06-24T03:19:31.810921",
     "exception": false,
     "start_time": "2024-06-24T03:19:31.463152",
     "status": "completed"
    },
    "tags": []
   },
   "outputs": [],
   "source": [
    "from typing import List, Optional, Generator\n",
    "import pandas as pd\n",
    "import numpy as np\n",
    "import sqlite3\n",
    "import re\n",
    "import io\n",
    "import math\n",
    "import collections\n",
    "import itertools\n",
    "import functools\n",
    "import random\n",
    "import string\n",
    "import tqdm\n",
    "import bisect\n",
    "import heapq\n",
    "\n",
    "conn = sqlite3.connect(\":memory:\")\n",
    "\n",
    "def regexp(expr, item):\n",
    "    reg = re.compile(expr)\n",
    "    return reg.search(item) is not None\n",
    "\n",
    "def read_lc_df(s: str, dtypes: dict[str, str]=dict()) -> pd.DataFrame:\n",
    "    temp = pd.read_csv(io.StringIO(s), sep=\"|\", skiprows=2)\n",
    "    temp = temp.iloc[1:-1, 1:-1]\n",
    "    temp.columns = temp.columns.map(str.strip)\n",
    "    temp = temp.map(lambda x: x if type(x) != str else None if x.strip() == 'null' else x.strip())\n",
    "    temp = temp.astype(dtypes)\n",
    "    return temp\n",
    "\n",
    "conn.create_function(\"REGEXP\", 2, regexp)"
   ]
  },
  {
   "cell_type": "markdown",
   "id": "2e7ac16e",
   "metadata": {
    "papermill": {
     "duration": 0.010669,
     "end_time": "2024-06-24T03:19:31.832602",
     "exception": false,
     "start_time": "2024-06-24T03:19:31.821933",
     "status": "completed"
    },
    "tags": []
   },
   "source": [
    "#### Helper for Binary tree problems"
   ]
  },
  {
   "cell_type": "code",
   "execution_count": 2,
   "id": "3f0a4700",
   "metadata": {
    "execution": {
     "iopub.execute_input": "2024-06-24T03:19:31.854781Z",
     "iopub.status.busy": "2024-06-24T03:19:31.854217Z",
     "iopub.status.idle": "2024-06-24T03:19:31.861408Z",
     "shell.execute_reply": "2024-06-24T03:19:31.860874Z"
    },
    "lines_to_next_cell": 1,
    "papermill": {
     "duration": 0.019571,
     "end_time": "2024-06-24T03:19:31.862569",
     "exception": false,
     "start_time": "2024-06-24T03:19:31.842998",
     "status": "completed"
    },
    "tags": []
   },
   "outputs": [],
   "source": [
    "class BinaryTreeNode:\n",
    "    def __init__(self, val=0, left=None, right=None):\n",
    "        self.val = val\n",
    "        self.left = left\n",
    "        self.right = right\n",
    "\n",
    "    def to_list(self):\n",
    "        to_visit = [self]\n",
    "        visited = []\n",
    "        while len(to_visit) > 0:\n",
    "            curr = to_visit.pop(0)\n",
    "            if curr:\n",
    "                to_visit.append(curr.left)\n",
    "                to_visit.append(curr.right)\n",
    "                visited.append(curr.val)\n",
    "            else:\n",
    "                visited.append(curr)\n",
    "\n",
    "        while visited and not visited[-1]:\n",
    "            visited.pop()\n",
    "\n",
    "        return visited\n",
    "\n",
    "    def __str__(self):\n",
    "        return str(self.val)\n",
    "\n",
    "    @staticmethod\n",
    "    def from_array(nums: list[int|None]):\n",
    "        '''Create a Tree from a list of nums. Returns the root node.'''\n",
    "        if len(nums) == 0:\n",
    "            return None\n",
    "        elif len(nums) == 1:\n",
    "            return BinaryTreeNode(nums[0])\n",
    "        else:\n",
    "            forest = [BinaryTreeNode(nums[0])]\n",
    "            parent_idx = -1\n",
    "            for i in range(1, len(nums)):\n",
    "\n",
    "                curr = None\n",
    "                if nums[i] is not None:\n",
    "                    curr = BinaryTreeNode(nums[i])\n",
    "                    forest.append(curr)\n",
    "\n",
    "                if i % 2 == 1:\n",
    "                    parent_idx += 1\n",
    "                    forest[parent_idx].left = curr\n",
    "                else:\n",
    "                    forest[parent_idx].right = curr\n",
    "\n",
    "        return forest[0]"
   ]
  },
  {
   "cell_type": "markdown",
   "id": "db1734cd",
   "metadata": {
    "papermill": {
     "duration": 0.01057,
     "end_time": "2024-06-24T03:19:31.883840",
     "exception": false,
     "start_time": "2024-06-24T03:19:31.873270",
     "status": "completed"
    },
    "tags": []
   },
   "source": [
    "#### Helper for Singly Linked lists"
   ]
  },
  {
   "cell_type": "code",
   "execution_count": 3,
   "id": "8492ea44",
   "metadata": {
    "execution": {
     "iopub.execute_input": "2024-06-24T03:19:31.905923Z",
     "iopub.status.busy": "2024-06-24T03:19:31.905480Z",
     "iopub.status.idle": "2024-06-24T03:19:31.910117Z",
     "shell.execute_reply": "2024-06-24T03:19:31.909669Z"
    },
    "lines_to_next_cell": 1,
    "papermill": {
     "duration": 0.016862,
     "end_time": "2024-06-24T03:19:31.911151",
     "exception": false,
     "start_time": "2024-06-24T03:19:31.894289",
     "status": "completed"
    },
    "tags": []
   },
   "outputs": [],
   "source": [
    "class ListNode:\n",
    "    def __init__(self, val=0, next=None):\n",
    "        self.val = val\n",
    "        self.next = next\n",
    "\n",
    "    def __str__(self):\n",
    "        return str(self.val)\n",
    "\n",
    "    @staticmethod\n",
    "    def to_singly_linked_list(nums: list[int]):\n",
    "        root = prev = None\n",
    "        for n in nums:\n",
    "            curr = ListNode(n)\n",
    "            # Init once\n",
    "            if not root:\n",
    "                root = curr\n",
    "            if prev:\n",
    "                prev.next = curr\n",
    "            prev = curr\n",
    "\n",
    "        return root\n",
    "\n",
    "    def to_list(self) -> list[int]:\n",
    "        result = []\n",
    "        curr = self\n",
    "        while curr:\n",
    "            result.append(curr.val)\n",
    "            curr = curr.next\n",
    "        return result"
   ]
  },
  {
   "cell_type": "markdown",
   "id": "4299ad4a",
   "metadata": {
    "papermill": {
     "duration": 0.010462,
     "end_time": "2024-06-24T03:19:31.932131",
     "exception": false,
     "start_time": "2024-06-24T03:19:31.921669",
     "status": "completed"
    },
    "tags": []
   },
   "source": [
    "#### Utility to generate random BST"
   ]
  },
  {
   "cell_type": "code",
   "execution_count": 4,
   "id": "0882390e",
   "metadata": {
    "execution": {
     "iopub.execute_input": "2024-06-24T03:19:31.954213Z",
     "iopub.status.busy": "2024-06-24T03:19:31.953863Z",
     "iopub.status.idle": "2024-06-24T03:19:31.958027Z",
     "shell.execute_reply": "2024-06-24T03:19:31.957597Z"
    },
    "lines_to_next_cell": 1,
    "papermill": {
     "duration": 0.016356,
     "end_time": "2024-06-24T03:19:31.959079",
     "exception": false,
     "start_time": "2024-06-24T03:19:31.942723",
     "status": "completed"
    },
    "tags": []
   },
   "outputs": [],
   "source": [
    "def generateBST(N: int, min_: int, max_: int) -> BinaryTreeNode|None:\n",
    "    def insert(curr: BinaryTreeNode|None, n: int) -> BinaryTreeNode:\n",
    "        if not curr:\n",
    "            curr = BinaryTreeNode(n)\n",
    "        elif curr.val < n:\n",
    "            curr.right = insert(curr.right, n)\n",
    "        else:\n",
    "            curr.left = insert(curr.left, n)\n",
    "\n",
    "        return curr\n",
    "\n",
    "    assert N <= max_ - min_, \"Number of available samples must be >= N\"\n",
    "    root: BinaryTreeNode|None = None\n",
    "    for n in np.random.choice(np.arange(min_, max_), size=N, replace=False):\n",
    "        root = insert(root, n)\n",
    "\n",
    "    return root"
   ]
  },
  {
   "cell_type": "markdown",
   "id": "d111cefb",
   "metadata": {
    "papermill": {
     "duration": 0.010552,
     "end_time": "2024-06-24T03:19:31.980250",
     "exception": false,
     "start_time": "2024-06-24T03:19:31.969698",
     "status": "completed"
    },
    "tags": []
   },
   "source": [
    "LC Medium: Longest Substring with atleast K repeating characters"
   ]
  },
  {
   "cell_type": "code",
   "execution_count": 5,
   "id": "bdbcc4a8",
   "metadata": {
    "execution": {
     "iopub.execute_input": "2024-06-24T03:19:32.002121Z",
     "iopub.status.busy": "2024-06-24T03:19:32.001954Z",
     "iopub.status.idle": "2024-06-24T03:19:32.006913Z",
     "shell.execute_reply": "2024-06-24T03:19:32.006459Z"
    },
    "lines_to_next_cell": 1,
    "papermill": {
     "duration": 0.017168,
     "end_time": "2024-06-24T03:19:32.007953",
     "exception": false,
     "start_time": "2024-06-24T03:19:31.990785",
     "status": "completed"
    },
    "tags": []
   },
   "outputs": [],
   "source": [
    "# https://leetcode.com/problems/longest-substring-with-at-least-k-repeating-characters/\n",
    "# https://leetcode.com/problems/longest-substring-with-at-least-k-repeating-characters/submissions/1286506890\n",
    "def longestSubstring(s: str, k: int) -> int:\n",
    "    \"\"\"\n",
    "    Count the freq of all characters, split on the characters with freq < k\n",
    "    \"\"\"\n",
    "    N = len(s)\n",
    "\n",
    "    # Count the freq\n",
    "    freq: collections.Counter = collections.Counter(s)\n",
    "    is_valid = not any(map(lambda x: x < k, freq.values()))\n",
    "\n",
    "    # If the entire string is okay, return length as answer\n",
    "    if is_valid:\n",
    "        return N\n",
    "\n",
    "    # Split on the invalid characters and backtrack inside\n",
    "    else:\n",
    "        max_length = start_idx = 0\n",
    "        for curr_idx in range(N):\n",
    "            if 0 < freq[s[curr_idx]] < k:\n",
    "                max_length = max(max_length, longestSubstring(s[start_idx:curr_idx], k))\n",
    "                start_idx = curr_idx + 1\n",
    "\n",
    "        max_length = max(max_length, longestSubstring(s[start_idx:], k))\n",
    "        return max_length\n",
    "\n",
    "# Tesitng the solution\n",
    "assert longestSubstring(\"aaabb\", 3) == 3\n",
    "assert longestSubstring(\"ababbc\", 2) == 5\n",
    "assert longestSubstring(\"bbaaa\", 3) == 3"
   ]
  },
  {
   "cell_type": "markdown",
   "id": "ff630a5c",
   "metadata": {
    "papermill": {
     "duration": 0.010525,
     "end_time": "2024-06-24T03:19:32.029086",
     "exception": false,
     "start_time": "2024-06-24T03:19:32.018561",
     "status": "completed"
    },
    "tags": []
   },
   "source": [
    "LC Virtual - 4: Weekly Contest 5\n",
    "https://leetcode.com/contest/leetcode-weekly-contest-5/"
   ]
  },
  {
   "cell_type": "code",
   "execution_count": 6,
   "id": "186e9992",
   "metadata": {
    "execution": {
     "iopub.execute_input": "2024-06-24T03:19:32.051348Z",
     "iopub.status.busy": "2024-06-24T03:19:32.051054Z",
     "iopub.status.idle": "2024-06-24T03:19:32.058599Z",
     "shell.execute_reply": "2024-06-24T03:19:32.057966Z"
    },
    "lines_to_next_cell": 1,
    "papermill": {
     "duration": 0.020129,
     "end_time": "2024-06-24T03:19:32.059796",
     "exception": false,
     "start_time": "2024-06-24T03:19:32.039667",
     "status": "completed"
    },
    "tags": []
   },
   "outputs": [],
   "source": [
    "# Q4: Frog Jump\n",
    "def canCrossRecursive(stones: list[int]) -> bool:\n",
    "    @functools.cache\n",
    "    def backtrack(n: int, jump: int) -> bool:\n",
    "        if jump < 0:\n",
    "            return False\n",
    "        elif n == stones[-1]:\n",
    "            return True\n",
    "        else:\n",
    "            if n + jump - 1 in positions and backtrack(n + jump - 1, jump - 1):\n",
    "                return True\n",
    "            elif jump > 0 and n + jump in positions and backtrack(n + jump, jump):\n",
    "                return True\n",
    "            elif n + jump + 1 in positions and backtrack(n + jump + 1, jump + 1):\n",
    "                return True\n",
    "            else:\n",
    "                return False\n",
    "\n",
    "    N = len(stones)\n",
    "    positions: dict[int, int] = {n: i for i, n in enumerate(stones)}\n",
    "    return len(stones) <= 1 or backtrack(stones[0], 0)\n",
    "\n",
    "# Testing the solution\n",
    "assert canCrossRecursive([0,1,3,5,6,8,12,17]) == True\n",
    "assert canCrossRecursive([0,1,2,3,4,8,9,11]) == False\n",
    "assert canCrossRecursive([]) == True\n",
    "assert canCrossRecursive([100]) == True\n",
    "assert canCrossRecursive([0,2]) == False"
   ]
  },
  {
   "cell_type": "code",
   "execution_count": 7,
   "id": "14bb91a7",
   "metadata": {
    "execution": {
     "iopub.execute_input": "2024-06-24T03:19:32.082840Z",
     "iopub.status.busy": "2024-06-24T03:19:32.082350Z",
     "iopub.status.idle": "2024-06-24T03:19:32.089295Z",
     "shell.execute_reply": "2024-06-24T03:19:32.088760Z"
    },
    "lines_to_next_cell": 1,
    "papermill": {
     "duration": 0.019577,
     "end_time": "2024-06-24T03:19:32.090328",
     "exception": false,
     "start_time": "2024-06-24T03:19:32.070751",
     "status": "completed"
    },
    "tags": []
   },
   "outputs": [],
   "source": [
    "def canCrossTabulation(stones: list[int]) -> bool:\n",
    "    N = len(stones)\n",
    "    positions: dict[int, int] = {n: i for i, n in enumerate(stones)}\n",
    "    dp: list[list[bool]] = [[False if stones[i] != stones[-1] else True for jump in range(N + 2)] for i in range(N)]\n",
    "    for i in range(N - 2, -1, -1):\n",
    "        for jump in range(N):\n",
    "            n = stones[i]\n",
    "            if n + jump - 1 in positions:\n",
    "                dp[i][jump] = dp[i][jump] or dp[positions[n + jump - 1]][jump - 1]\n",
    "            if jump > 0 and n + jump in positions:\n",
    "                dp[i][jump] = dp[i][jump] or dp[positions[n + jump]][jump]\n",
    "            if n + jump + 1 in positions:\n",
    "                dp[i][jump] = dp[i][jump] or dp[positions[n + jump + 1]][jump + 1]\n",
    "\n",
    "    return len(stones) <= 1 or dp[0][0]\n",
    "\n",
    "# Testing the solution\n",
    "assert canCrossTabulation([0,1,3,5,6,8,12,17]) == True\n",
    "assert canCrossTabulation([0,1,2,3,4,8,9,11]) == False\n",
    "assert canCrossTabulation([]) == True\n",
    "assert canCrossTabulation([100]) == True\n",
    "assert canCrossTabulation([0,2]) == False"
   ]
  },
  {
   "cell_type": "code",
   "execution_count": 8,
   "id": "a756a694",
   "metadata": {
    "execution": {
     "iopub.execute_input": "2024-06-24T03:19:32.112334Z",
     "iopub.status.busy": "2024-06-24T03:19:32.112058Z",
     "iopub.status.idle": "2024-06-24T03:19:32.114741Z",
     "shell.execute_reply": "2024-06-24T03:19:32.114327Z"
    },
    "lines_to_next_cell": 1,
    "papermill": {
     "duration": 0.014811,
     "end_time": "2024-06-24T03:19:32.115806",
     "exception": false,
     "start_time": "2024-06-24T03:19:32.100995",
     "status": "completed"
    },
    "tags": []
   },
   "outputs": [],
   "source": [
    "# Q3: Remove K digits\n",
    "def removeKdigits(num: str, k: int) -> str:\n",
    "    pass"
   ]
  },
  {
   "cell_type": "code",
   "execution_count": 9,
   "id": "258ef565",
   "metadata": {
    "execution": {
     "iopub.execute_input": "2024-06-24T03:19:32.138023Z",
     "iopub.status.busy": "2024-06-24T03:19:32.137646Z",
     "iopub.status.idle": "2024-06-24T03:19:32.142570Z",
     "shell.execute_reply": "2024-06-24T03:19:32.142012Z"
    },
    "lines_to_next_cell": 1,
    "papermill": {
     "duration": 0.017319,
     "end_time": "2024-06-24T03:19:32.143750",
     "exception": false,
     "start_time": "2024-06-24T03:19:32.126431",
     "status": "completed"
    },
    "tags": []
   },
   "outputs": [],
   "source": [
    "# Q1: Find Nth Digit\n",
    "def findNthDigit(N: int) -> int:\n",
    "    def countDigitsBefore(n: int) -> int:\n",
    "        if n < 10:\n",
    "            return n\n",
    "        else:\n",
    "            n_digits = math.floor(math.log10(n)) + 1\n",
    "            smallest_n_digit_number = 10 ** (n_digits - 1)\n",
    "            n_digits_before = (n - smallest_n_digit_number + 1) * n_digits\n",
    "            return n_digits_before + countDigitsBefore(smallest_n_digit_number - 1)\n",
    "\n",
    "    # Binary search\n",
    "    low, high = 1, N\n",
    "    while low <= high:\n",
    "        mid = (low + high) // 2\n",
    "        count = countDigitsBefore(mid)\n",
    "        if count == N:\n",
    "            return mid % 10\n",
    "        elif count < N:\n",
    "            low = mid + 1\n",
    "        else:\n",
    "            high = mid - 1\n",
    "\n",
    "    delta = countDigitsBefore(low) - N\n",
    "    return int(str(low)[-delta-1])\n",
    "\n",
    "# Testing the solution\n",
    "assert findNthDigit(11) == 0\n",
    "assert findNthDigit(3) == 3"
   ]
  },
  {
   "cell_type": "code",
   "execution_count": 10,
   "id": "76b61cf9",
   "metadata": {
    "execution": {
     "iopub.execute_input": "2024-06-24T03:19:32.166093Z",
     "iopub.status.busy": "2024-06-24T03:19:32.165712Z",
     "iopub.status.idle": "2024-06-24T03:19:32.171003Z",
     "shell.execute_reply": "2024-06-24T03:19:32.170563Z"
    },
    "lines_to_next_cell": 1,
    "papermill": {
     "duration": 0.017652,
     "end_time": "2024-06-24T03:19:32.172057",
     "exception": false,
     "start_time": "2024-06-24T03:19:32.154405",
     "status": "completed"
    },
    "tags": []
   },
   "outputs": [],
   "source": [
    "# Q2: Binary Watch\n",
    "def readBinaryWatch(turnedOn: int) -> set[str]:\n",
    "    watch: list[bool] = [False for i in range(10)]\n",
    "    result: set[str] = set()\n",
    "    def backtrack(lights: int) -> None:\n",
    "        if lights == 0:\n",
    "            hour = minute = 0\n",
    "            for i in range(10):\n",
    "                if watch[i]:\n",
    "                    if i < 4:\n",
    "                        hour += 2 ** (3 - i)\n",
    "                    else:\n",
    "                        minute += 2 ** (9 - i)\n",
    "\n",
    "            if 0 <= hour < 12 and 0 <= minute <= 59:\n",
    "                result.add(f\"{hour}:{str(minute).zfill(2)}\")\n",
    "\n",
    "        else:\n",
    "            for i in range(10):\n",
    "                if not watch[i]:\n",
    "                    watch[i] = True\n",
    "                    backtrack(lights - 1)\n",
    "                    watch[i] = False\n",
    "\n",
    "    backtrack(turnedOn)\n",
    "    return result\n",
    "\n",
    "# Testing the solution\n",
    "assert sorted(readBinaryWatch(1)) == sorted([\"0:01\",\"0:02\",\"0:04\",\"0:08\",\"0:16\",\"0:32\",\"1:00\",\"2:00\",\"4:00\",\"8:00\"])"
   ]
  },
  {
   "cell_type": "markdown",
   "id": "35e89076",
   "metadata": {
    "papermill": {
     "duration": 0.010833,
     "end_time": "2024-06-24T03:19:32.209733",
     "exception": false,
     "start_time": "2024-06-24T03:19:32.198900",
     "status": "completed"
    },
    "tags": []
   },
   "source": [
    "Minimum no of moves to seat everyone \n",
    "https://leetcode.com/problems/minimum-number-of-moves-to-seat-everyone"
   ]
  },
  {
   "cell_type": "code",
   "execution_count": 11,
   "id": "1cec1bdc",
   "metadata": {
    "execution": {
     "iopub.execute_input": "2024-06-24T03:19:32.232237Z",
     "iopub.status.busy": "2024-06-24T03:19:32.231784Z",
     "iopub.status.idle": "2024-06-24T03:19:32.236030Z",
     "shell.execute_reply": "2024-06-24T03:19:32.235527Z"
    },
    "lines_to_next_cell": 1,
    "papermill": {
     "duration": 0.016808,
     "end_time": "2024-06-24T03:19:32.237119",
     "exception": false,
     "start_time": "2024-06-24T03:19:32.220311",
     "status": "completed"
    },
    "tags": []
   },
   "outputs": [],
   "source": [
    "def minMovesToSeat(seats: list[int], students: list[int]) -> int:\n",
    "    # Compute length\n",
    "    N = len(seats)\n",
    "\n",
    "    # Sort both to ensure that we get the minimal distances\n",
    "    seats.sort()\n",
    "    students.sort()\n",
    "\n",
    "    # Compute abs distance between seats and students\n",
    "    moves = 0\n",
    "    for i in range(N):\n",
    "        moves += abs(seats[i] - students[i])\n",
    "    return moves\n",
    "\n",
    "# Testing the solution\n",
    "assert minMovesToSeat([3,1,5], [2,7,4]) == 4\n",
    "assert minMovesToSeat([2,2,6,6], [1,3,2,6]) == 4"
   ]
  },
  {
   "cell_type": "markdown",
   "id": "8c387dd2",
   "metadata": {
    "papermill": {
     "duration": 0.010616,
     "end_time": "2024-06-24T03:19:32.258480",
     "exception": false,
     "start_time": "2024-06-24T03:19:32.247864",
     "status": "completed"
    },
    "tags": []
   },
   "source": [
    "LC Medium: Minimum increment to make array unique\n",
    "https://leetcode.com/problems/minimum-increment-to-make-array-unique"
   ]
  },
  {
   "cell_type": "code",
   "execution_count": 12,
   "id": "3f1753a0",
   "metadata": {
    "execution": {
     "iopub.execute_input": "2024-06-24T03:19:32.280767Z",
     "iopub.status.busy": "2024-06-24T03:19:32.280330Z",
     "iopub.status.idle": "2024-06-24T03:19:32.285243Z",
     "shell.execute_reply": "2024-06-24T03:19:32.284789Z"
    },
    "lines_to_next_cell": 1,
    "papermill": {
     "duration": 0.017131,
     "end_time": "2024-06-24T03:19:32.286277",
     "exception": false,
     "start_time": "2024-06-24T03:19:32.269146",
     "status": "completed"
    },
    "tags": []
   },
   "outputs": [],
   "source": [
    "def minIncrementForUnique(nums: list[int]) -> int:\n",
    "    # Count freq & unique values present\n",
    "    counts: dict[int, int] = dict()\n",
    "    unique: set[int] = set()\n",
    "    for n in nums:\n",
    "        counts[n] = counts.get(n, 0) + 1\n",
    "        unique.add(n)\n",
    "\n",
    "    # If count of any number is greater than 1, shift right\n",
    "    moves = 0\n",
    "    while unique:\n",
    "        key = unique.pop()\n",
    "        count = counts.pop(key)\n",
    "        if count > 1:\n",
    "            shift = count - 1\n",
    "            moves += shift\n",
    "            counts[key + 1] = counts.get(key + 1, 0) + shift\n",
    "            unique.add(key + 1)\n",
    "\n",
    "    return moves\n",
    "\n",
    "# Testing the solution\n",
    "assert minIncrementForUnique([1,2,2]) == 1\n",
    "assert minIncrementForUnique([3,2,1,2,1,7]) == 6\n",
    "assert minIncrementForUnique([1,2,2,5,5]) == 2"
   ]
  },
  {
   "cell_type": "markdown",
   "id": "5e9474a6",
   "metadata": {
    "papermill": {
     "duration": 0.010465,
     "end_time": "2024-06-24T03:19:32.307356",
     "exception": false,
     "start_time": "2024-06-24T03:19:32.296891",
     "status": "completed"
    },
    "tags": []
   },
   "source": [
    "Maximum Gap\n",
    "https://leetcode.com/problems/maximum-gap/"
   ]
  },
  {
   "cell_type": "code",
   "execution_count": 13,
   "id": "f9795b8e",
   "metadata": {
    "execution": {
     "iopub.execute_input": "2024-06-24T03:19:32.329643Z",
     "iopub.status.busy": "2024-06-24T03:19:32.329181Z",
     "iopub.status.idle": "2024-06-24T03:19:32.334865Z",
     "shell.execute_reply": "2024-06-24T03:19:32.334442Z"
    },
    "lines_to_next_cell": 1,
    "papermill": {
     "duration": 0.018006,
     "end_time": "2024-06-24T03:19:32.335966",
     "exception": false,
     "start_time": "2024-06-24T03:19:32.317960",
     "status": "completed"
    },
    "tags": []
   },
   "outputs": [],
   "source": [
    "# https://leetcode.com/problems/maximum-gap/submissions/1288173457/\n",
    "def maximumGap(nums: list[int]) -> int:\n",
    "    \"\"\"\n",
    "    1. Maximum gap is always greater than or equal to ceil((max - min) / N)\n",
    "        - Divide N nums into N - 1 groups\n",
    "        - If evenly distributed, each elements would be in a different bucket (1 element in each bucket)\n",
    "        - If unevenly distributed, two or more buckets would have multiple elements. Some buckets may not have any elements - max gap could occur betweeen left and right of the missing buckets\n",
    "    2. Consequently we only need to store the min and max of each bucket\n",
    "    \"\"\"\n",
    "    N, high, low = len(nums), max(nums), min(nums)\n",
    "    bucket_size = math.ceil((high - low) / N)\n",
    "    buckets: dict[int, tuple[int, int]] = {}\n",
    "\n",
    "    # Edge case\n",
    "    if bucket_size == 0:\n",
    "        return 0\n",
    "\n",
    "    # Group the numbers into buckets\n",
    "    for n in nums:\n",
    "        index = n // bucket_size\n",
    "        min_, max_ = buckets.get(index, ((index + 1) * bucket_size, (index - 1) * bucket_size))\n",
    "        min_, max_ = min(min_, n), max(max_, n)\n",
    "        buckets[index] = (min_, max_)\n",
    "\n",
    "    # Iterate through each and find the max gap\n",
    "    curr, end = low // bucket_size, high // bucket_size\n",
    "    max_gap = 0\n",
    "    while curr < end:\n",
    "        next_ = curr + 1\n",
    "        while next_ not in buckets:\n",
    "            next_ += 1\n",
    "        curr, max_gap = next_, max(max_gap, buckets[next_][0] - buckets[curr][1])\n",
    "\n",
    "    return max_gap\n",
    "\n",
    "# Testing the solution\n",
    "assert maximumGap([3,14,15,83,6,4,19,20,40]) == 43\n",
    "assert maximumGap([3,6,9,1]) == 3\n",
    "assert maximumGap([10]) == 0"
   ]
  },
  {
   "cell_type": "markdown",
   "id": "2de5b7ba",
   "metadata": {
    "papermill": {
     "duration": 0.010563,
     "end_time": "2024-06-24T03:19:32.357230",
     "exception": false,
     "start_time": "2024-06-24T03:19:32.346667",
     "status": "completed"
    },
    "tags": []
   },
   "source": [
    "LC Virtual - 5: Weekly Contest 6\n",
    "https://leetcode.com/contest/leetcode-weekly-contest-6/"
   ]
  },
  {
   "cell_type": "code",
   "execution_count": 14,
   "id": "02ae7259",
   "metadata": {
    "execution": {
     "iopub.execute_input": "2024-06-24T03:19:32.379563Z",
     "iopub.status.busy": "2024-06-24T03:19:32.379005Z",
     "iopub.status.idle": "2024-06-24T03:19:32.383919Z",
     "shell.execute_reply": "2024-06-24T03:19:32.383491Z"
    },
    "lines_to_next_cell": 1,
    "papermill": {
     "duration": 0.017161,
     "end_time": "2024-06-24T03:19:32.384953",
     "exception": false,
     "start_time": "2024-06-24T03:19:32.367792",
     "status": "completed"
    },
    "tags": []
   },
   "outputs": [],
   "source": [
    "# Q1: Sum of left leaves\n",
    "def sumOfLeftLeaves(root: BinaryTreeNode) -> int:\n",
    "    def backtrack(curr: BinaryTreeNode) -> tuple[int, int]:\n",
    "        if not curr:\n",
    "            return 0, -1\n",
    "        else:\n",
    "            left_sum, left_type = backtrack(curr.left)\n",
    "            right_sum, right_type = backtrack(curr.right)\n",
    "            curr_type, total = 0 if left_type == -1 and right_type == -1 else 1, 0\n",
    "            if curr_type == 0:\n",
    "                total += curr.val\n",
    "            if left_type != -1:\n",
    "                total += left_sum\n",
    "            if right_type >= 1:\n",
    "                total += right_sum\n",
    "            result = total, curr_type\n",
    "            return result\n",
    "\n",
    "    return backtrack(root)[0] if root.left or root.right else 0\n",
    "\n",
    "# Testing the solution\n",
    "assert sumOfLeftLeaves(BinaryTreeNode.from_array([3,9,20,None,None,15,7])) == 24\n",
    "assert sumOfLeftLeaves(BinaryTreeNode.from_array([1])) == 0"
   ]
  },
  {
   "cell_type": "code",
   "execution_count": 15,
   "id": "eaa96394",
   "metadata": {
    "execution": {
     "iopub.execute_input": "2024-06-24T03:19:32.407368Z",
     "iopub.status.busy": "2024-06-24T03:19:32.406885Z",
     "iopub.status.idle": "2024-06-24T03:19:32.411534Z",
     "shell.execute_reply": "2024-06-24T03:19:32.411092Z"
    },
    "lines_to_next_cell": 1,
    "papermill": {
     "duration": 0.016962,
     "end_time": "2024-06-24T03:19:32.412568",
     "exception": false,
     "start_time": "2024-06-24T03:19:32.395606",
     "status": "completed"
    },
    "tags": []
   },
   "outputs": [],
   "source": [
    "# Q2: Convert to hexadecimal\n",
    "def toHex(num: int) -> str:\n",
    "    # If negative, find hex for its 2's compliment\n",
    "    if num < 0:\n",
    "        bit_length = 32\n",
    "        num &= (2 << bit_length - 1) - 1\n",
    "\n",
    "    # Use division method\n",
    "    division_result: list[int] = []\n",
    "    while num >= 16:\n",
    "        num, rem = num // 16, num % 16\n",
    "        division_result.append(rem)\n",
    "    division_result.append(num)\n",
    "    division_result.reverse()\n",
    "\n",
    "    # Convert to hexadecimal string\n",
    "    mapping = {i: str(i) for i in range(0, 10)} | {i: chr(ord('a') + i - 10) for i in range(10, 16)}\n",
    "    return ''.join(map(lambda x: mapping[x], division_result))\n",
    "\n",
    "# Testing the solution\n",
    "assert toHex(26) == \"1a\"\n",
    "assert toHex(-1) == \"ffffffff\""
   ]
  },
  {
   "cell_type": "code",
   "execution_count": 16,
   "id": "69bb828f",
   "metadata": {
    "execution": {
     "iopub.execute_input": "2024-06-24T03:19:32.435153Z",
     "iopub.status.busy": "2024-06-24T03:19:32.434729Z",
     "iopub.status.idle": "2024-06-24T03:19:32.441337Z",
     "shell.execute_reply": "2024-06-24T03:19:32.440915Z"
    },
    "lines_to_next_cell": 1,
    "papermill": {
     "duration": 0.018962,
     "end_time": "2024-06-24T03:19:32.442366",
     "exception": false,
     "start_time": "2024-06-24T03:19:32.423404",
     "status": "completed"
    },
    "tags": []
   },
   "outputs": [],
   "source": [
    "# Q3: Queue Reconstruction by Height\n",
    "def reconstructQueue(people: list[list[int]]) -> list[list[int]]:\n",
    "    N = len(people)\n",
    "\n",
    "    # Sort to find the relative height ordering\n",
    "    people.sort()\n",
    "\n",
    "    # Iterate from shortest to tallest, keeping track of number of person with height equal to curr\n",
    "    eq_front = []\n",
    "    prev, eq_count = -1, 0\n",
    "    for i in range(N):\n",
    "        if people[i][0] == prev:\n",
    "            eq_count += 1\n",
    "        else:\n",
    "            eq_count = 0\n",
    "        prev = people[i][0]\n",
    "        eq_front.append(eq_count)\n",
    "\n",
    "    # Insert into queue in correct order\n",
    "    result: list[list[int]] = []\n",
    "    while eq_front:\n",
    "        actual, (height, expected) = eq_front.pop(), people.pop()\n",
    "        if expected == actual:\n",
    "            result.append([height, expected])\n",
    "        else:\n",
    "            temp: list[list[int]] = []\n",
    "            for i in range(expected - actual):\n",
    "                temp.append(result.pop())\n",
    "            result.append([height, expected])\n",
    "            while temp:\n",
    "                result.append(temp.pop())\n",
    "\n",
    "    result.reverse()\n",
    "    return result\n",
    "\n",
    "# Testing the solution\n",
    "assert reconstructQueue([[7,0],[4,4],[7,1],[5,0],[6,1],[5,2]]) == [[5,0],[7,0],[5,2],[6,1],[4,4],[7,1]]\n",
    "assert reconstructQueue([[6,0],[5,0],[4,0],[3,2],[2,2],[1,4]]) == [[4,0],[5,0],[2,2],[3,2],[1,4],[6,0]]"
   ]
  },
  {
   "cell_type": "markdown",
   "id": "5b1cd8d3",
   "metadata": {
    "papermill": {
     "duration": 0.010552,
     "end_time": "2024-06-24T03:19:32.463689",
     "exception": false,
     "start_time": "2024-06-24T03:19:32.453137",
     "status": "completed"
    },
    "tags": []
   },
   "source": [
    "Trapping Rain water - II (Upsolving)\n",
    "https://leetcode.com/problems/trapping-rain-water-ii/"
   ]
  },
  {
   "cell_type": "code",
   "execution_count": null,
   "id": "16a2bb8e",
   "metadata": {
    "papermill": {
     "duration": 0.010509,
     "end_time": "2024-06-24T03:19:32.484667",
     "exception": false,
     "start_time": "2024-06-24T03:19:32.474158",
     "status": "completed"
    },
    "tags": []
   },
   "outputs": [],
   "source": []
  },
  {
   "cell_type": "code",
   "execution_count": 17,
   "id": "1d0cafe4",
   "metadata": {
    "execution": {
     "iopub.execute_input": "2024-06-24T03:19:32.506869Z",
     "iopub.status.busy": "2024-06-24T03:19:32.506488Z",
     "iopub.status.idle": "2024-06-24T03:19:32.515542Z",
     "shell.execute_reply": "2024-06-24T03:19:32.515086Z"
    },
    "lines_to_next_cell": 1,
    "papermill": {
     "duration": 0.021459,
     "end_time": "2024-06-24T03:19:32.516598",
     "exception": false,
     "start_time": "2024-06-24T03:19:32.495139",
     "status": "completed"
    },
    "tags": []
   },
   "outputs": [],
   "source": [
    "# Q4: Trapping Rain water - II\n",
    "# https://leetcode.com/problems/trapping-rain-water-ii/solutions/1138028/python3-visualization-bfs-solution-with-explanation\n",
    "def trapRainWater(heightMap: list[list[int]]) -> int:\n",
    "    N, M = len(heightMap), len(heightMap[0])\n",
    "    visited: set[tuple[int, int]] = set()\n",
    "\n",
    "    # Add boundary cells to heap, heap: Height, i, j\n",
    "    heap: list[tuple[int, int, int]] = []\n",
    "    for i in range(N):\n",
    "        for j in range(M):\n",
    "            if i in (0, N - 1) or j in (0, M - 1):\n",
    "                heapq.heappush(heap, (heightMap[i][j], i, j))\n",
    "                visited.add((i, j))\n",
    "\n",
    "    level = volume = 0\n",
    "    while heap:\n",
    "        height, x, y = heapq.heappop(heap)\n",
    "        level = max(level, height)\n",
    "        for i, j in [(x - 1, y), (x + 1, y), (x, y - 1), (x, y + 1)]:\n",
    "            if 0 <= i < N and 0 <= j < M and (i, j) not in visited:\n",
    "                next_height = heightMap[i][j]\n",
    "                if next_height < level:\n",
    "                    volume += level - next_height\n",
    "                visited.add((i, j))\n",
    "                heapq.heappush(heap, (next_height, i, j))\n",
    "\n",
    "    return volume\n",
    "\n",
    "# Testing the solution\n",
    "assert trapRainWater([[1,4,3,1,3,2],[3,2,1,3,2,4],[2,3,3,2,3,1]]) == 4\n",
    "assert trapRainWater([[3,3,3,3,3],[3,2,2,2,3],[3,2,1,2,3],[3,2,2,2,3],[3,3,3,3,3]]) == 10\n",
    "assert trapRainWater([[12,13,1,12],[13,4,13,12],[13,8,10,12],[12,13,12,12],[13,13,13,13]]) == 14\n",
    "assert trapRainWater([[5,5,5,1],[5,1,1,5],[5,1,5,5],[5,2,5,8]]) == 3\n",
    "assert trapRainWater([[14,17,18,16,14,16],[17,3,10,2,3,8],[11,10,4,7,1,7],[13,7,2,9,8,10],[13,1,3,4,8,6],[20,3,3,9,10,8]]) == 25"
   ]
  },
  {
   "cell_type": "markdown",
   "id": "666f4a63",
   "metadata": {
    "papermill": {
     "duration": 0.010633,
     "end_time": "2024-06-24T03:19:32.537987",
     "exception": false,
     "start_time": "2024-06-24T03:19:32.527354",
     "status": "completed"
    },
    "tags": []
   },
   "source": [
    "https://leetcode.com/contest/leetcode-weekly-contest-8/problems/pacific-atlantic-water-flow/"
   ]
  },
  {
   "cell_type": "code",
   "execution_count": 18,
   "id": "d1cd9722",
   "metadata": {
    "execution": {
     "iopub.execute_input": "2024-06-24T03:19:32.560146Z",
     "iopub.status.busy": "2024-06-24T03:19:32.559975Z",
     "iopub.status.idle": "2024-06-24T03:19:32.569815Z",
     "shell.execute_reply": "2024-06-24T03:19:32.569297Z"
    },
    "lines_to_next_cell": 1,
    "papermill": {
     "duration": 0.022388,
     "end_time": "2024-06-24T03:19:32.570948",
     "exception": false,
     "start_time": "2024-06-24T03:19:32.548560",
     "status": "completed"
    },
    "tags": []
   },
   "outputs": [
    {
     "data": {
      "text/plain": [
       "{(0, 4), (1, 3), (1, 4), (2, 2), (3, 0), (3, 1), (4, 0)}"
      ]
     },
     "execution_count": 18,
     "metadata": {},
     "output_type": "execute_result"
    }
   ],
   "source": [
    "def pacificAtlantic(heights: list[list[int]]) -> set[tuple[int, int]]:\n",
    "    def DFS(to_visit: list[tuple[int, int]]) -> set[tuple[int, int]]:\n",
    "        visited: set[tuple[int, int]] = set()\n",
    "        while to_visit:\n",
    "            x, y = to_visit.pop()\n",
    "            visited.add((x, y))\n",
    "            for i, j in [(x, y + 1), (x, y - 1), (x + 1, y), (x - 1, y)]:\n",
    "                if 0 <= i < N and 0 <= j < M and (i, j) not in visited and heights[i][j] >= heights[x][y]:\n",
    "                    to_visit.append((i, j))\n",
    "\n",
    "        return visited\n",
    "\n",
    "    N, M = len(heights), len(heights[0])\n",
    "\n",
    "    pacific: set[tuple[int, int]] = DFS([(0, i) for i in range(M)] + [(i, 0) for i in range(N)])\n",
    "    atlantic: set[tuple[int, int]] = DFS([(N - 1, i) for i in range(M)] + [(i, M - 1) for i in range(N)])\n",
    "\n",
    "    return set.intersection(pacific, atlantic)\n",
    "\n",
    "# Testing the soluiton\n",
    "pacificAtlantic([[1,2,2,3,5],[3,2,3,4,4],[2,4,5,3,1],[6,7,1,4,5],[5,1,1,2,4]])"
   ]
  },
  {
   "cell_type": "code",
   "execution_count": 19,
   "id": "308c8c47",
   "metadata": {
    "execution": {
     "iopub.execute_input": "2024-06-24T03:19:32.593666Z",
     "iopub.status.busy": "2024-06-24T03:19:32.593233Z",
     "iopub.status.idle": "2024-06-24T03:19:32.598272Z",
     "shell.execute_reply": "2024-06-24T03:19:32.597829Z"
    },
    "lines_to_next_cell": 1,
    "papermill": {
     "duration": 0.017306,
     "end_time": "2024-06-24T03:19:32.599256",
     "exception": false,
     "start_time": "2024-06-24T03:19:32.581950",
     "status": "completed"
    },
    "tags": []
   },
   "outputs": [],
   "source": [
    "# https://leetcode.com/contest/leetcode-weekly-contest-8/problems/sentence-screen-fitting/\n",
    "def sentenceScreenFitting(sentence: list[str], rows: int, cols: int) -> int:\n",
    "    n_words = len(sentence)\n",
    "    word_length: list[int] = list(map(len, sentence))\n",
    "    word_idx = n_sentences = 0\n",
    "\n",
    "    row_pending = rows\n",
    "    while row_pending > 0:\n",
    "        col_pending = cols\n",
    "        while col_pending > 0:\n",
    "\n",
    "            if word_length[word_idx] <= col_pending:\n",
    "                col_pending -= word_length[word_idx]\n",
    "                word_idx += 1\n",
    "\n",
    "                if col_pending > 0:\n",
    "                    col_pending -= 1\n",
    "\n",
    "            else:\n",
    "                col_pending = 0\n",
    "\n",
    "            if word_idx == n_words:\n",
    "                word_idx = 0\n",
    "                n_sentences += 1\n",
    "\n",
    "        row_pending -= 1\n",
    "\n",
    "    return n_sentences\n",
    "\n",
    "# Testing the solution\n",
    "assert sentenceScreenFitting([\"hello\",\"world\"], 2, 8) == 1\n",
    "assert sentenceScreenFitting([\"a\", \"bcd\", \"e\"], 3, 6) == 2\n",
    "assert sentenceScreenFitting([\"i\",\"had\",\"apple\",\"pie\"], 4, 5) == 1"
   ]
  },
  {
   "cell_type": "markdown",
   "id": "01322001",
   "metadata": {
    "papermill": {
     "duration": 0.010753,
     "end_time": "2024-06-24T03:19:32.620793",
     "exception": false,
     "start_time": "2024-06-24T03:19:32.610040",
     "status": "completed"
    },
    "tags": []
   },
   "source": [
    "Codeforces: https://codeforces.com/problemset/problem/1843/C"
   ]
  },
  {
   "cell_type": "code",
   "execution_count": 20,
   "id": "f5edd897",
   "metadata": {
    "execution": {
     "iopub.execute_input": "2024-06-24T03:19:32.643415Z",
     "iopub.status.busy": "2024-06-24T03:19:32.643015Z",
     "iopub.status.idle": "2024-06-24T03:19:32.646849Z",
     "shell.execute_reply": "2024-06-24T03:19:32.646335Z"
    },
    "lines_to_next_cell": 1,
    "papermill": {
     "duration": 0.01627,
     "end_time": "2024-06-24T03:19:32.647916",
     "exception": false,
     "start_time": "2024-06-24T03:19:32.631646",
     "status": "completed"
    },
    "tags": []
   },
   "outputs": [],
   "source": [
    "def sumBinaryTree(n: int) -> int:\n",
    "    if n == 1:\n",
    "        return 1\n",
    "    elif n % 2 == 0:\n",
    "        return n + sumBinaryTree(n // 2)\n",
    "    else:\n",
    "        return n + sumBinaryTree((n - 1) // 2)\n",
    "\n",
    "# Testing the solution\n",
    "assert sumBinaryTree(37) == 71\n",
    "assert sumBinaryTree(10000000000000000) == 19999999999999980\n",
    "assert sumBinaryTree(15) == 26"
   ]
  },
  {
   "cell_type": "code",
   "execution_count": 21,
   "id": "79065385",
   "metadata": {
    "execution": {
     "iopub.execute_input": "2024-06-24T03:19:32.670245Z",
     "iopub.status.busy": "2024-06-24T03:19:32.669923Z",
     "iopub.status.idle": "2024-06-24T03:19:32.673740Z",
     "shell.execute_reply": "2024-06-24T03:19:32.673193Z"
    },
    "lines_to_next_cell": 1,
    "papermill": {
     "duration": 0.016031,
     "end_time": "2024-06-24T03:19:32.674734",
     "exception": false,
     "start_time": "2024-06-24T03:19:32.658703",
     "status": "completed"
    },
    "tags": []
   },
   "outputs": [],
   "source": [
    "def insertionInBST(curr: BinaryTreeNode, val: int):\n",
    "    if not curr:\n",
    "        curr = BinaryTreeNode(val)\n",
    "    elif curr.val < val:\n",
    "        curr.right = insertionInBST(curr.right, val)\n",
    "    else:\n",
    "        curr.left = insertionInBST(curr.left, val)\n",
    "    return curr\n",
    "\n",
    "# Testing the solution\n",
    "assert insertionInBST(BinaryTreeNode.from_array([10, 2, 12, 1, 3, None, 13]), 11).to_list() == [10, 2, 12, 1, 3, 11, 13]"
   ]
  },
  {
   "cell_type": "markdown",
   "id": "ae24503f",
   "metadata": {
    "papermill": {
     "duration": 0.010643,
     "end_time": "2024-06-24T03:19:32.696059",
     "exception": false,
     "start_time": "2024-06-24T03:19:32.685416",
     "status": "completed"
    },
    "tags": []
   },
   "source": [
    "King Escape: https://codeforces.com/problemset/problem/1033/A"
   ]
  },
  {
   "cell_type": "code",
   "execution_count": 22,
   "id": "06da5999",
   "metadata": {
    "execution": {
     "iopub.execute_input": "2024-06-24T03:19:32.718213Z",
     "iopub.status.busy": "2024-06-24T03:19:32.717858Z",
     "iopub.status.idle": "2024-06-24T03:19:32.722409Z",
     "shell.execute_reply": "2024-06-24T03:19:32.721955Z"
    },
    "lines_to_next_cell": 1,
    "papermill": {
     "duration": 0.016791,
     "end_time": "2024-06-24T03:19:32.723429",
     "exception": false,
     "start_time": "2024-06-24T03:19:32.706638",
     "status": "completed"
    },
    "tags": []
   },
   "outputs": [],
   "source": [
    "def kingEscape(N: int, queen: tuple[int, int], king: tuple[int, int], target: tuple[int, int]) -> bool:\n",
    "    minX, maxX = min(king[0], target[0]), max(king[0], target[0])\n",
    "    minY, maxY = min(king[1], target[1]), max(king[1], target[1])\n",
    "    return not (minX < queen[0] < maxX or minY < queen[1] < maxY)\n",
    "\n",
    "# Testing the solution\n",
    "assert kingEscape(8, (4, 4), (1, 3), (3, 1)) == True\n",
    "assert kingEscape(8, (4, 4), (2, 3), (1, 6)) == False\n",
    "assert kingEscape(8, (3, 5), (1, 2), (6, 1)) == False"
   ]
  },
  {
   "cell_type": "markdown",
   "id": "c6a84986",
   "metadata": {
    "papermill": {
     "duration": 0.010815,
     "end_time": "2024-06-24T03:19:32.745340",
     "exception": false,
     "start_time": "2024-06-24T03:19:32.734525",
     "status": "completed"
    },
    "tags": []
   },
   "source": [
    "LC Medium: https://leetcode.com/problems/most-profit-assigning-work/submissions/1292541583"
   ]
  },
  {
   "cell_type": "code",
   "execution_count": 23,
   "id": "aa4fd57d",
   "metadata": {
    "execution": {
     "iopub.execute_input": "2024-06-24T03:19:32.767786Z",
     "iopub.status.busy": "2024-06-24T03:19:32.767395Z",
     "iopub.status.idle": "2024-06-24T03:19:32.773111Z",
     "shell.execute_reply": "2024-06-24T03:19:32.772661Z"
    },
    "lines_to_next_cell": 1,
    "papermill": {
     "duration": 0.018089,
     "end_time": "2024-06-24T03:19:32.774122",
     "exception": false,
     "start_time": "2024-06-24T03:19:32.756033",
     "status": "completed"
    },
    "tags": []
   },
   "outputs": [],
   "source": [
    "def maxProfitAssignment(difficulty: list[int], profit: list[int], worker: list[int]) -> int:\n",
    "    # Sort workers by their capacity\n",
    "    worker.sort()\n",
    "\n",
    "    # Sort jobs available based on their difficuly\n",
    "    jobs: list[tuple[int, int]] = sorted(zip(difficulty, profit))\n",
    "\n",
    "    # Use a two pointer approach - iterate through jobs adding to our maxHeap until diff cross what curr worker can handle\n",
    "    heap: list[int] = []\n",
    "    maxProfit = i = 0\n",
    "    for max_difficulty in worker:\n",
    "        while i < len(jobs) and jobs[i][0] <= max_difficulty:\n",
    "            heapq.heappush(heap, -jobs[i][1])\n",
    "            i += 1\n",
    "        maxProfit += -heap[0] if heap else 0\n",
    "\n",
    "    return maxProfit\n",
    "\n",
    "# Testing the solution\n",
    "assert maxProfitAssignment([2,4,6,8,10], [10,20,30,40,50], [4,5,6,7]) == 100\n",
    "assert maxProfitAssignment([85,47,57], [24,66,99], [40,25,25]) == 0\n",
    "assert maxProfitAssignment([13,37,58], [4,90,96], [34,73,45]) == 190\n",
    "assert maxProfitAssignment([68,35,52,47,86], [67,17,1,81,3], [92,10,85,84,82]) == 324"
   ]
  },
  {
   "cell_type": "markdown",
   "id": "9954a873",
   "metadata": {
    "papermill": {
     "duration": 0.010568,
     "end_time": "2024-06-24T03:19:32.795398",
     "exception": false,
     "start_time": "2024-06-24T03:19:32.784830",
     "status": "completed"
    },
    "tags": []
   },
   "source": [
    "https://codeforces.com/problemset/problem/1829/E"
   ]
  },
  {
   "cell_type": "code",
   "execution_count": 24,
   "id": "72ec16c8",
   "metadata": {
    "execution": {
     "iopub.execute_input": "2024-06-24T03:19:32.817861Z",
     "iopub.status.busy": "2024-06-24T03:19:32.817355Z",
     "iopub.status.idle": "2024-06-24T03:19:32.828024Z",
     "shell.execute_reply": "2024-06-24T03:19:32.827594Z"
    },
    "lines_to_next_cell": 1,
    "papermill": {
     "duration": 0.023061,
     "end_time": "2024-06-24T03:19:32.829125",
     "exception": false,
     "start_time": "2024-06-24T03:19:32.806064",
     "status": "completed"
    },
    "tags": []
   },
   "outputs": [],
   "source": [
    "class DisjointSetLakes:\n",
    "    def __init__(self, N: int, M: int, grid: list[list[int]]):\n",
    "        self.N, self.M = N, M\n",
    "        self.grid = grid\n",
    "        self.parent: dict[tuple[int, int], tuple[int, int]] = dict()\n",
    "        self.size: dict[tuple[int, int], int] = dict()\n",
    "        self.max_volume = 0\n",
    "        self.iterate_grid()\n",
    "\n",
    "    def is_valid(self, i: int, j: int) -> bool:\n",
    "        return 0 <= i < self.N and 0 <= j < self.M\n",
    "\n",
    "    def iterate_grid(self) -> None:\n",
    "        for i in range(self.N):\n",
    "            for j in range(self.M):\n",
    "                if self.grid[i][j] > 0:\n",
    "                    top, left = (i - 1, j), (i, j - 1)\n",
    "                    if self.is_valid(*top) and self.grid[top[0]][top[1]] > 0:\n",
    "                        self.unionBySize((i, j), top)\n",
    "                    if self.is_valid(*left) and self.grid[left[0]][left[1]] > 0:\n",
    "                        self.unionBySize((i, j), left)\n",
    "                    self.max_volume = max(self.max_volume, self.size[self.findUltimateParent((i, j))])\n",
    "\n",
    "    def unionBySize(self, c1: tuple[int, int], c2: tuple[int, int]) -> None:\n",
    "        up1, up2 = self.findUltimateParent(c1), self.findUltimateParent(c2)\n",
    "        s1, s2 = self.size[up1], self.size[up2]\n",
    "        if up1 == up2:\n",
    "            return\n",
    "        elif s1 > s2:\n",
    "            self.parent[up2] = up1\n",
    "            self.size[up1] += self.size[up2]\n",
    "        else:\n",
    "            self.parent[up1] = up2\n",
    "            self.size[up2] += self.size[up1]\n",
    "\n",
    "        # Update the max volume\n",
    "        self.max_volume = max(self.max_volume, self.size[up1], self.size[up2])\n",
    "\n",
    "    def findUltimateParent(self, cell: tuple[int, int]) -> tuple[int, int]:\n",
    "        if cell not in self.parent:\n",
    "            self.parent[cell] = cell\n",
    "            self.size[cell] = self.grid[cell[0]][cell[1]]\n",
    "\n",
    "        if cell == self.parent[cell]:\n",
    "            return cell\n",
    "        else:\n",
    "            self.parent[cell] = self.findUltimateParent(self.parent[cell])\n",
    "            return self.parent[cell]\n",
    "\n",
    "# Testing the solution\n",
    "assert DisjointSetLakes(3, 3, [[1,2,0],[3,4,0],[0,0,5]]).max_volume == 10\n",
    "assert DisjointSetLakes(1, 1, [[9]]).max_volume == 9\n",
    "assert DisjointSetLakes(3, 3, [[0,1,1],[1,0,1],[1,1,1]]).max_volume == 7\n",
    "assert DisjointSetLakes(5, 5, [[1,1,1,1,1],[1,0,0,0,1],[1,0,5,0,1],[1,0,0,0,1],[1,1,1,1,1]]).max_volume == 16"
   ]
  },
  {
   "cell_type": "code",
   "execution_count": 25,
   "id": "29c7843d",
   "metadata": {
    "execution": {
     "iopub.execute_input": "2024-06-24T03:19:32.851785Z",
     "iopub.status.busy": "2024-06-24T03:19:32.851291Z",
     "iopub.status.idle": "2024-06-24T03:19:32.858001Z",
     "shell.execute_reply": "2024-06-24T03:19:32.857583Z"
    },
    "lines_to_next_cell": 1,
    "papermill": {
     "duration": 0.019076,
     "end_time": "2024-06-24T03:19:32.859033",
     "exception": false,
     "start_time": "2024-06-24T03:19:32.839957",
     "status": "completed"
    },
    "tags": []
   },
   "outputs": [],
   "source": [
    "def maximumVolumeLake(N: int, M: int, grid: list[list[int]]) -> int:\n",
    "    def is_valid(i: int, j: int) -> bool:\n",
    "        return 0 <= i < N and 0 <= j < M\n",
    "\n",
    "    def DFS(i: int, j: int) -> int:\n",
    "        stack: list[tuple[int, int]] = [(i, j)]\n",
    "        volume: int = 0\n",
    "        while stack:\n",
    "            x, y = stack.pop()\n",
    "            volume += grid[x][y]\n",
    "            grid[x][y] = 0\n",
    "            for i, j in [(x, y - 1), (x, y + 1), (x - 1, y), (x + 1, y)]:\n",
    "                if is_valid(i, j) and grid[i][j] > 0:\n",
    "                    stack.append((i, j))\n",
    "\n",
    "        return volume\n",
    "\n",
    "    max_volume = 0\n",
    "    for i in range(N):\n",
    "        for j in range(M):\n",
    "            if grid[i][j] > 0:\n",
    "                max_volume = max(max_volume, DFS(i, j))\n",
    "\n",
    "    return max_volume\n",
    "\n",
    "# Testing the solution\n",
    "assert maximumVolumeLake(3, 3, [[1,2,0],[3,4,0],[0,0,5]])\n",
    "assert maximumVolumeLake(1, 1, [[9]]) == 9\n",
    "assert maximumVolumeLake(3, 3, [[0,1,1],[1,0,1],[1,1,1]]) == 7\n",
    "assert maximumVolumeLake(5, 5, [[1,1,1,1,1],[1,0,0,0,1],[1,0,5,0,1],[1,0,0,0,1],[1,1,1,1,1]]) == 16"
   ]
  },
  {
   "cell_type": "markdown",
   "id": "91c3306f",
   "metadata": {
    "papermill": {
     "duration": 0.01068,
     "end_time": "2024-06-24T03:19:32.880617",
     "exception": false,
     "start_time": "2024-06-24T03:19:32.869937",
     "status": "completed"
    },
    "tags": []
   },
   "source": [
    "LC Virtual: https://leetcode.com/contest/leetcode-weekly-contest-10/"
   ]
  },
  {
   "cell_type": "code",
   "execution_count": 26,
   "id": "1ce8fd77",
   "metadata": {
    "execution": {
     "iopub.execute_input": "2024-06-24T03:19:32.902946Z",
     "iopub.status.busy": "2024-06-24T03:19:32.902611Z",
     "iopub.status.idle": "2024-06-24T03:19:32.907432Z",
     "shell.execute_reply": "2024-06-24T03:19:32.907000Z"
    },
    "lines_to_next_cell": 1,
    "papermill": {
     "duration": 0.017182,
     "end_time": "2024-06-24T03:19:32.908518",
     "exception": false,
     "start_time": "2024-06-24T03:19:32.891336",
     "status": "completed"
    },
    "tags": []
   },
   "outputs": [],
   "source": [
    "# Q1: Island Perimeter\n",
    "def islandPerimeter(grid: list[list[int]]) -> int:\n",
    "    \"\"\"\n",
    "    Iterate through grid, count the number of sides covered with water\n",
    "    \"\"\"\n",
    "    N, M = len(grid), len(grid[0])\n",
    "    perimeter = 0\n",
    "    for i in range(N):\n",
    "        for j in range(M):\n",
    "            if grid[i][j] == 1:\n",
    "                for x, y in ((i, j - 1), (i, j + 1), (i - 1, j), (i + 1, j)):\n",
    "                    if x < 0 or y < 0 or x >= N or y >= M or grid[x][y] == 0:\n",
    "                        perimeter += 1\n",
    "\n",
    "    return perimeter\n",
    "\n",
    "# Testing the solution\n",
    "assert islandPerimeter([[0,1,0,0],[1,1,1,0],[0,1,0,0],[1,1,0,0]]) == 16\n",
    "assert islandPerimeter([[1]]) == 4\n",
    "assert islandPerimeter([[1,0]]) == 4"
   ]
  },
  {
   "cell_type": "code",
   "execution_count": 27,
   "id": "5b2c6c69",
   "metadata": {
    "execution": {
     "iopub.execute_input": "2024-06-24T03:19:32.930837Z",
     "iopub.status.busy": "2024-06-24T03:19:32.930504Z",
     "iopub.status.idle": "2024-06-24T03:19:32.935996Z",
     "shell.execute_reply": "2024-06-24T03:19:32.935587Z"
    },
    "lines_to_next_cell": 1,
    "papermill": {
     "duration": 0.017798,
     "end_time": "2024-06-24T03:19:32.937030",
     "exception": false,
     "start_time": "2024-06-24T03:19:32.919232",
     "status": "completed"
    },
    "tags": []
   },
   "outputs": [],
   "source": [
    "# Q2: Can I Win?\n",
    "def canIWinBrute(maxChoosableInteger: int, desiredTotal: int) -> bool:\n",
    "    @functools.cache\n",
    "    def backtrack(picked: tuple[bool, ...], total: int) -> bool:\n",
    "        for pick in range(1, maxChoosableInteger + 1):\n",
    "            if not picked[pick]:\n",
    "                if pick >= total:\n",
    "                    return True\n",
    "                else:\n",
    "                    new_picked = list(picked)\n",
    "                    new_picked[pick] = True\n",
    "                    otherWin = backtrack(tuple(new_picked), total - pick)\n",
    "                    if not otherWin:\n",
    "                        return True\n",
    "\n",
    "        return False\n",
    "\n",
    "    if (maxChoosableInteger * (maxChoosableInteger + 1)) // 2 < desiredTotal:\n",
    "        return False\n",
    "    else:\n",
    "        result = backtrack(tuple(False for i in range(maxChoosableInteger + 1)), desiredTotal)\n",
    "        return result\n",
    "\n",
    "# Testing the solution\n",
    "assert canIWinBrute(10, 11) == False\n",
    "assert canIWinBrute(10, 0) == True\n",
    "assert canIWinBrute(10, 40) == False"
   ]
  },
  {
   "cell_type": "code",
   "execution_count": 28,
   "id": "3c2e00b1",
   "metadata": {
    "execution": {
     "iopub.execute_input": "2024-06-24T03:19:32.959644Z",
     "iopub.status.busy": "2024-06-24T03:19:32.959280Z",
     "iopub.status.idle": "2024-06-24T03:19:32.964430Z",
     "shell.execute_reply": "2024-06-24T03:19:32.963896Z"
    },
    "lines_to_next_cell": 1,
    "papermill": {
     "duration": 0.017639,
     "end_time": "2024-06-24T03:19:32.965551",
     "exception": false,
     "start_time": "2024-06-24T03:19:32.947912",
     "status": "completed"
    },
    "tags": []
   },
   "outputs": [],
   "source": [
    "def canIWin(maxChoosableInteger: int, desiredTotal: int) -> bool:\n",
    "    @functools.cache\n",
    "    def backtrack(picked: int, total: int) -> bool:\n",
    "        for pick in range(1, maxChoosableInteger + 1):\n",
    "            mask = 1 << pick\n",
    "            if not (picked & mask):\n",
    "                if pick >= total:\n",
    "                    return True\n",
    "                else:\n",
    "                    otherWin = backtrack(picked | mask, total - pick)\n",
    "                    if not otherWin:\n",
    "                        return True\n",
    "\n",
    "        return False\n",
    "\n",
    "    if (maxChoosableInteger * (maxChoosableInteger + 1)) // 2 < desiredTotal:\n",
    "        return False\n",
    "    else:\n",
    "        result = backtrack(0, desiredTotal)\n",
    "        return result\n",
    "\n",
    "# Testing the solution\n",
    "assert canIWin(10, 11) == False\n",
    "assert canIWin(10, 0) == True\n",
    "assert canIWin(10, 40) == False"
   ]
  },
  {
   "cell_type": "code",
   "execution_count": 29,
   "id": "e8865870",
   "metadata": {
    "execution": {
     "iopub.execute_input": "2024-06-24T03:19:32.988127Z",
     "iopub.status.busy": "2024-06-24T03:19:32.987740Z",
     "iopub.status.idle": "2024-06-24T03:19:32.991489Z",
     "shell.execute_reply": "2024-06-24T03:19:32.991029Z"
    },
    "lines_to_next_cell": 1,
    "papermill": {
     "duration": 0.016081,
     "end_time": "2024-06-24T03:19:32.992549",
     "exception": false,
     "start_time": "2024-06-24T03:19:32.976468",
     "status": "completed"
    },
    "tags": []
   },
   "outputs": [],
   "source": [
    "# Q3: Min Moves 2\n",
    "def minMoves2(nums: list[int]) -> int:\n",
    "    # Find the middle element, convert all elements to this\n",
    "    nums.sort()\n",
    "\n",
    "    # Figure out the element in the middle\n",
    "    N = len(nums)\n",
    "    mid = nums[N // 2]\n",
    "\n",
    "    # Count total moves\n",
    "    moves = 0\n",
    "    for n in nums:\n",
    "        moves += abs(mid - n)\n",
    "\n",
    "    return moves\n",
    "\n",
    "# Testing the solution\n",
    "assert minMoves2([1,2,3]) == 2\n",
    "assert minMoves2([1,10,2,9]) == 16\n",
    "assert minMoves2([1]) == 0"
   ]
  },
  {
   "cell_type": "markdown",
   "id": "9b0e6f39",
   "metadata": {
    "papermill": {
     "duration": 0.01069,
     "end_time": "2024-06-24T03:19:33.014051",
     "exception": false,
     "start_time": "2024-06-24T03:19:33.003361",
     "status": "completed"
    },
    "tags": []
   },
   "source": [
    "Find the duplicate number"
   ]
  },
  {
   "cell_type": "code",
   "execution_count": 30,
   "id": "57fbf487",
   "metadata": {
    "execution": {
     "iopub.execute_input": "2024-06-24T03:19:33.036786Z",
     "iopub.status.busy": "2024-06-24T03:19:33.036282Z",
     "iopub.status.idle": "2024-06-24T03:19:33.040285Z",
     "shell.execute_reply": "2024-06-24T03:19:33.039843Z"
    },
    "lines_to_next_cell": 1,
    "papermill": {
     "duration": 0.016568,
     "end_time": "2024-06-24T03:19:33.041360",
     "exception": false,
     "start_time": "2024-06-24T03:19:33.024792",
     "status": "completed"
    },
    "tags": []
   },
   "outputs": [],
   "source": [
    "# This modifies the array\n",
    "def findDuplicateBetter(nums: list[int]) -> int:\n",
    "    idx = 0\n",
    "    while nums[idx] != -1:\n",
    "        nums[idx], idx = -1, nums[idx]\n",
    "\n",
    "    return idx\n",
    "\n",
    "# Testing the solution\n",
    "assert findDuplicateBetter([1,3,4,2,2]) == 2\n",
    "assert findDuplicateBetter([3,1,3,4,2]) == 3\n",
    "assert findDuplicateBetter([3,3,3,3,3]) == 3"
   ]
  },
  {
   "cell_type": "code",
   "execution_count": 31,
   "id": "c762a9a1",
   "metadata": {
    "execution": {
     "iopub.execute_input": "2024-06-24T03:19:33.063964Z",
     "iopub.status.busy": "2024-06-24T03:19:33.063776Z",
     "iopub.status.idle": "2024-06-24T03:19:33.068124Z",
     "shell.execute_reply": "2024-06-24T03:19:33.067668Z"
    },
    "lines_to_next_cell": 1,
    "papermill": {
     "duration": 0.016914,
     "end_time": "2024-06-24T03:19:33.069189",
     "exception": false,
     "start_time": "2024-06-24T03:19:33.052275",
     "status": "completed"
    },
    "tags": []
   },
   "outputs": [],
   "source": [
    "def findDuplicate(nums: list[int]) -> int:\n",
    "    slow, fast = nums[0], nums[nums[0]]\n",
    "\n",
    "    # Find point of collision\n",
    "    while fast != slow:\n",
    "        slow, fast = nums[slow], nums[nums[fast]]\n",
    "\n",
    "    # Find the start point of the loop\n",
    "    slow = 0\n",
    "    while slow != fast:\n",
    "        slow, fast = nums[slow], nums[fast]\n",
    "\n",
    "    return slow\n",
    "\n",
    "# Testing the solution\n",
    "assert findDuplicate([1,3,4,2,2]) == 2\n",
    "assert findDuplicate([3,1,3,4,2]) == 3\n",
    "assert findDuplicate([3,3,3,3,3]) == 3"
   ]
  },
  {
   "cell_type": "markdown",
   "id": "03c14a49",
   "metadata": {
    "papermill": {
     "duration": 0.010722,
     "end_time": "2024-06-24T03:19:33.090831",
     "exception": false,
     "start_time": "2024-06-24T03:19:33.080109",
     "status": "completed"
    },
    "tags": []
   },
   "source": [
    "Min cost tree from leaf nodes: https://leetcode.com/problems/minimum-cost-tree-from-leaf-values/solutions/340014/greedy-python-solution/"
   ]
  },
  {
   "cell_type": "code",
   "execution_count": 32,
   "id": "b2ff1b1e",
   "metadata": {
    "execution": {
     "iopub.execute_input": "2024-06-24T03:19:33.112889Z",
     "iopub.status.busy": "2024-06-24T03:19:33.112712Z",
     "iopub.status.idle": "2024-06-24T03:19:33.117415Z",
     "shell.execute_reply": "2024-06-24T03:19:33.116992Z"
    },
    "papermill": {
     "duration": 0.016974,
     "end_time": "2024-06-24T03:19:33.118442",
     "exception": false,
     "start_time": "2024-06-24T03:19:33.101468",
     "status": "completed"
    },
    "tags": []
   },
   "outputs": [],
   "source": [
    "def mctFromLeafValues(arr: list[int]) -> int:\n",
    "    \"\"\"\n",
    "    1. Take the smallest node from inorder arr.\n",
    "    2. Combine it with the smallest of its two neighbours. Pop the smallest, add smallest * smaller neighbour to total.\n",
    "    We pop it out since starting with next step, the min value would not be considered, since larger value would always be the 'largest' of the subtree.\n",
    "    3. Repeat until we have one element left, each time we compute the min index and combine it with its larger neighbour.\n",
    "    \"\"\"\n",
    "    def findMinNode(nums: list[int]) -> float:\n",
    "        idx, val = 0, nums[0]\n",
    "        for i in range(len(nums)):\n",
    "            if nums[i] < val:\n",
    "                idx, val = i, nums[i]\n",
    "\n",
    "        parent_node_val: float = val * min(nums[idx - 1] if idx - 1 >= 0 else math.inf, nums[idx + 1] if idx + 1 < len(nums) else math.inf)\n",
    "        nums.pop(idx)\n",
    "        return parent_node_val\n",
    "\n",
    "    non_leaf_sum: float = 0.\n",
    "    while len(arr) > 1:\n",
    "        non_leaf_sum += findMinNode(arr)\n",
    "\n",
    "    return int(non_leaf_sum)\n",
    "\n",
    "# Testing the solution\n",
    "assert mctFromLeafValues([6,2,4]) == 32\n",
    "assert mctFromLeafValues([4,11]) == 44"
   ]
  },
  {
   "cell_type": "markdown",
   "id": "9be7df76",
   "metadata": {
    "papermill": {
     "duration": 0.010698,
     "end_time": "2024-06-24T03:19:33.139992",
     "exception": false,
     "start_time": "2024-06-24T03:19:33.129294",
     "status": "completed"
    },
    "tags": []
   },
   "source": [
    "Time Based Key-Value Store"
   ]
  },
  {
   "cell_type": "code",
   "execution_count": 33,
   "id": "b5bcd113",
   "metadata": {
    "execution": {
     "iopub.execute_input": "2024-06-24T03:19:33.162673Z",
     "iopub.status.busy": "2024-06-24T03:19:33.162340Z",
     "iopub.status.idle": "2024-06-24T03:19:33.170391Z",
     "shell.execute_reply": "2024-06-24T03:19:33.169929Z"
    },
    "lines_to_next_cell": 1,
    "papermill": {
     "duration": 0.020695,
     "end_time": "2024-06-24T03:19:33.171430",
     "exception": false,
     "start_time": "2024-06-24T03:19:33.150735",
     "status": "completed"
    },
    "tags": []
   },
   "outputs": [
    {
     "name": "stdout",
     "output_type": "stream",
     "text": [
      "['', '', '', 'high', 'high', 'low', 'low']\n"
     ]
    }
   ],
   "source": [
    "import bisect\n",
    "\n",
    "class TimeMap:\n",
    "    def __init__(self) -> None:\n",
    "        self.map: dict[str, list[tuple[int, str]]] = dict()\n",
    "\n",
    "    def set(self, key: str, value: str, timestamp: int) -> None:\n",
    "        values: list[tuple[int, str]] = self.map.get(key, [])\n",
    "        idx = bisect.bisect(values, (timestamp, \"\"))\n",
    "        if 0 <= idx < len(values) and values[idx][0] == timestamp:\n",
    "            values[idx] = (timestamp, value)\n",
    "        else:\n",
    "            bisect.insort(values, (timestamp, value))\n",
    "        self.map[key] = values\n",
    "\n",
    "    def get(self, key: str, timestamp: int) -> str:\n",
    "        values: list[tuple[int, str]] = self.map.get(key, [])\n",
    "        idx = bisect.bisect(values, (timestamp, \"\"))\n",
    "        if 0 <= idx < len(values) and values[idx][0] == timestamp:\n",
    "            return values[idx][1]\n",
    "        elif idx - 1 >= 0:\n",
    "            return values[idx - 1][1]\n",
    "        else:\n",
    "            return \"\"\n",
    "\n",
    "# Testing the solution\n",
    "obj: TimeMap = TimeMap()\n",
    "result: list[str] = []\n",
    "for params in [[\"love\",\"high\",10],[\"love\",\"low\",20],[\"love\",5],[\"love\",10],[\"love\",15],[\"love\",20],[\"love\",25]]:\n",
    "    if len(params) == 3:\n",
    "        obj.set(str(params[0]), str(params[1]), int(params[2])) # type: ignore\n",
    "        result.append(\"\")\n",
    "    else:\n",
    "        result.append(obj.get(str(params[0]), int(params[1]))) # type: ignore\n",
    "\n",
    "print(result)"
   ]
  },
  {
   "cell_type": "markdown",
   "id": "0d71f29d",
   "metadata": {
    "papermill": {
     "duration": 0.010746,
     "end_time": "2024-06-24T03:19:33.193172",
     "exception": false,
     "start_time": "2024-06-24T03:19:33.182426",
     "status": "completed"
    },
    "tags": []
   },
   "source": [
    "https://codeforces.com/problemset/problem/1979/A"
   ]
  },
  {
   "cell_type": "code",
   "execution_count": 34,
   "id": "735a8330",
   "metadata": {
    "execution": {
     "iopub.execute_input": "2024-06-24T03:19:33.215428Z",
     "iopub.status.busy": "2024-06-24T03:19:33.215244Z",
     "iopub.status.idle": "2024-06-24T03:19:33.219242Z",
     "shell.execute_reply": "2024-06-24T03:19:33.218799Z"
    },
    "lines_to_next_cell": 1,
    "papermill": {
     "duration": 0.016366,
     "end_time": "2024-06-24T03:19:33.220310",
     "exception": false,
     "start_time": "2024-06-24T03:19:33.203944",
     "status": "completed"
    },
    "tags": []
   },
   "outputs": [],
   "source": [
    "def guessMaximum(nums: list[int]) -> int:\n",
    "    # Slide through nums (window size of 2), find the minimum maximum\n",
    "    minimum: float = math.inf\n",
    "    for i in range(len(nums) - 1):\n",
    "        minimum = min(minimum, max(nums[i], nums[i + 1]))\n",
    "\n",
    "    return int(minimum) - 1\n",
    "\n",
    "# Testing the solution\n",
    "assert guessMaximum([2,4,1,7]) == 3\n",
    "assert guessMaximum([1,1]) == 0\n",
    "assert guessMaximum([37,8,16]) == 15"
   ]
  },
  {
   "cell_type": "markdown",
   "id": "a8f98218",
   "metadata": {
    "papermill": {
     "duration": 0.010754,
     "end_time": "2024-06-24T03:19:33.241885",
     "exception": false,
     "start_time": "2024-06-24T03:19:33.231131",
     "status": "completed"
    },
    "tags": []
   },
   "source": [
    "Top K Frequent elements"
   ]
  },
  {
   "cell_type": "code",
   "execution_count": 35,
   "id": "1e4c1c5a",
   "metadata": {
    "execution": {
     "iopub.execute_input": "2024-06-24T03:19:33.264347Z",
     "iopub.status.busy": "2024-06-24T03:19:33.264026Z",
     "iopub.status.idle": "2024-06-24T03:19:33.268582Z",
     "shell.execute_reply": "2024-06-24T03:19:33.268139Z"
    },
    "lines_to_next_cell": 1,
    "papermill": {
     "duration": 0.016942,
     "end_time": "2024-06-24T03:19:33.269603",
     "exception": false,
     "start_time": "2024-06-24T03:19:33.252661",
     "status": "completed"
    },
    "tags": []
   },
   "outputs": [],
   "source": [
    "def topKFrequentBrute(nums: list[int], k: int) -> list[int]:\n",
    "    freq: collections.Counter = collections.Counter(nums)\n",
    "    heap: list[tuple[int, int]] = []\n",
    "    for n, f in freq.items():\n",
    "        if len(heap) == k:\n",
    "            heapq.heappushpop(heap, (f, n))\n",
    "        else:\n",
    "            heapq.heappush(heap, (f, n))\n",
    "\n",
    "    result: list[int] = []\n",
    "    while heap:\n",
    "        f, n = heapq.heappop(heap)\n",
    "        result.append(n)\n",
    "\n",
    "    result.reverse()\n",
    "    return result\n",
    "\n",
    "# Testing the solution\n",
    "assert sorted(topKFrequentBrute([1,1,1,2,2,3,3,3,4,4,5], 2)) == [1, 3]"
   ]
  },
  {
   "cell_type": "markdown",
   "id": "6e81ca6f",
   "metadata": {
    "papermill": {
     "duration": 0.010736,
     "end_time": "2024-06-24T03:19:33.291137",
     "exception": false,
     "start_time": "2024-06-24T03:19:33.280401",
     "status": "completed"
    },
    "tags": []
   },
   "source": [
    "LC Virtual: https://leetcode.com/contest/leetcode-weekly-contest-11/"
   ]
  },
  {
   "cell_type": "code",
   "execution_count": 36,
   "id": "d9e0166a",
   "metadata": {
    "execution": {
     "iopub.execute_input": "2024-06-24T03:19:33.313775Z",
     "iopub.status.busy": "2024-06-24T03:19:33.313408Z",
     "iopub.status.idle": "2024-06-24T03:19:33.317262Z",
     "shell.execute_reply": "2024-06-24T03:19:33.316738Z"
    },
    "lines_to_next_cell": 1,
    "papermill": {
     "duration": 0.016269,
     "end_time": "2024-06-24T03:19:33.318258",
     "exception": false,
     "start_time": "2024-06-24T03:19:33.301989",
     "status": "completed"
    },
    "tags": []
   },
   "outputs": [],
   "source": [
    "# Number of segments in a string\n",
    "def countSegments(s: str) -> int:\n",
    "    segments, space = 0, True\n",
    "    for ch in s:\n",
    "        if ch.isspace():\n",
    "            segments += not space\n",
    "            space = True\n",
    "        else:\n",
    "            space = False\n",
    "\n",
    "    return segments + (not space)\n",
    "\n",
    "# Testing the solution\n",
    "assert countSegments(\"Python is a pretty cool language\") == 6\n",
    "assert countSegments(\" Python is pretty    cool    \") == 4\n",
    "assert countSegments(\"Hello\") == 1"
   ]
  },
  {
   "cell_type": "markdown",
   "id": "416596d8",
   "metadata": {
    "papermill": {
     "duration": 0.010799,
     "end_time": "2024-06-24T03:19:33.339790",
     "exception": false,
     "start_time": "2024-06-24T03:19:33.328991",
     "status": "completed"
    },
    "tags": []
   },
   "source": [
    "Q3: Unique substrings in a wrap around string\n",
    "https://youtu.be/2nCTyDrRm4I?si=TP9X0ZwTJNhKHkl4"
   ]
  },
  {
   "cell_type": "code",
   "execution_count": 37,
   "id": "b7bc8b9c",
   "metadata": {
    "execution": {
     "iopub.execute_input": "2024-06-24T03:19:33.362070Z",
     "iopub.status.busy": "2024-06-24T03:19:33.361745Z",
     "iopub.status.idle": "2024-06-24T03:19:33.366296Z",
     "shell.execute_reply": "2024-06-24T03:19:33.365869Z"
    },
    "lines_to_next_cell": 1,
    "papermill": {
     "duration": 0.016846,
     "end_time": "2024-06-24T03:19:33.367303",
     "exception": false,
     "start_time": "2024-06-24T03:19:33.350457",
     "status": "completed"
    },
    "tags": []
   },
   "outputs": [],
   "source": [
    "def findSubstringInWraproundString(s: str) -> int:\n",
    "    \"\"\"\n",
    "    Initial thought process: Check the longest substring that can end at an index.\n",
    "    This however doesn't account for duplicates.\n",
    "\n",
    "    To handle duplicates we store the max length of substrings ending for english alphabet\n",
    "    For eg: zabxabc\n",
    "    z - 1\n",
    "    a - 1\n",
    "    b - 3\n",
    "    x - 1\n",
    "    a - 1\n",
    "    b - 3\n",
    "    c - 3\n",
    "\n",
    "    Once completed, count += (arr[i] * arr[i + 1]) / 2\n",
    "    \"\"\"\n",
    "    longest: dict[str, int] = dict()\n",
    "    count = 0\n",
    "    for i in range(len(s)):\n",
    "        if i == 0 or ord(s[i]) - ord(s[i - 1]) == 1 or (s[i] == 'a' and s[i - 1] == 'z'):\n",
    "            count += 1\n",
    "        else:\n",
    "            count = 1\n",
    "        longest[s[i]] = max(longest.get(s[i], 0), count)\n",
    "\n",
    "    # Count substrings\n",
    "    return sum(longest.values())\n",
    "\n",
    "# Testing the solution\n",
    "assert findSubstringInWraproundString(\"zabxabc\") == 10\n",
    "assert findSubstringInWraproundString(\"cac\") == 2\n",
    "assert findSubstringInWraproundString(\"zab\") == 6"
   ]
  },
  {
   "cell_type": "markdown",
   "id": "5699b3a7",
   "metadata": {
    "papermill": {
     "duration": 0.010623,
     "end_time": "2024-06-24T03:19:33.388737",
     "exception": false,
     "start_time": "2024-06-24T03:19:33.378114",
     "status": "completed"
    },
    "tags": []
   },
   "source": [
    "Compress the string\n",
    "https://www.naukri.com/code360/problems/compress-the-string_893402"
   ]
  },
  {
   "cell_type": "code",
   "execution_count": 38,
   "id": "f182bfaf",
   "metadata": {
    "execution": {
     "iopub.execute_input": "2024-06-24T03:19:33.411142Z",
     "iopub.status.busy": "2024-06-24T03:19:33.410695Z",
     "iopub.status.idle": "2024-06-24T03:19:33.415855Z",
     "shell.execute_reply": "2024-06-24T03:19:33.415274Z"
    },
    "lines_to_next_cell": 1,
    "papermill": {
     "duration": 0.017572,
     "end_time": "2024-06-24T03:19:33.416979",
     "exception": false,
     "start_time": "2024-06-24T03:19:33.399407",
     "status": "completed"
    },
    "tags": []
   },
   "outputs": [],
   "source": [
    "def compressTheString(s: str):\n",
    "    stack: list[tuple[str, int]] = []\n",
    "    for ch in s:\n",
    "        if not stack or stack[-1][0] != ch:\n",
    "            stack.append((ch, 1))\n",
    "        else:\n",
    "            stack[-1] = (ch, stack[-1][1] + 1)\n",
    "\n",
    "    result: list[str] = []\n",
    "    for ch, freq in stack:\n",
    "        result.append(f'{ch}{freq}' if freq > 1 else ch)\n",
    "    return ''.join(result)\n",
    "\n",
    "# Testing the solution\n",
    "assert compressTheString(\"aaabbddccc\") == \"a3b2d2c3\"\n",
    "assert compressTheString(\"ggttttffffrreee\") == \"g2t4f4r2e3\""
   ]
  },
  {
   "cell_type": "markdown",
   "id": "15fcfdd1",
   "metadata": {
    "papermill": {
     "duration": 0.011529,
     "end_time": "2024-06-24T03:19:33.440331",
     "exception": false,
     "start_time": "2024-06-24T03:19:33.428802",
     "status": "completed"
    },
    "tags": []
   },
   "source": [
    "CN Weekly contest: 20th June 2024"
   ]
  },
  {
   "cell_type": "code",
   "execution_count": 39,
   "id": "47d5bb9b",
   "metadata": {
    "execution": {
     "iopub.execute_input": "2024-06-24T03:19:33.464365Z",
     "iopub.status.busy": "2024-06-24T03:19:33.463877Z",
     "iopub.status.idle": "2024-06-24T03:19:33.467956Z",
     "shell.execute_reply": "2024-06-24T03:19:33.467361Z"
    },
    "lines_to_next_cell": 1,
    "papermill": {
     "duration": 0.017454,
     "end_time": "2024-06-24T03:19:33.469239",
     "exception": false,
     "start_time": "2024-06-24T03:19:33.451785",
     "status": "completed"
    },
    "tags": []
   },
   "outputs": [],
   "source": [
    "def maximumElements(N: int, arr: list[int]) -> int:\n",
    "    odd = even = 0\n",
    "    for n in arr:\n",
    "        if n % 2 == 1:\n",
    "            odd += 1\n",
    "        else:\n",
    "            even += 1\n",
    "\n",
    "    if odd == 0:\n",
    "        return -1\n",
    "    else:\n",
    "        return even + odd - int(odd % 2 == 0)\n",
    "\n",
    "# Testing the solution\n",
    "assert maximumElements(4, [9,5,1,6]) == 4"
   ]
  },
  {
   "cell_type": "code",
   "execution_count": 40,
   "id": "feca4414",
   "metadata": {
    "execution": {
     "iopub.execute_input": "2024-06-24T03:19:33.493147Z",
     "iopub.status.busy": "2024-06-24T03:19:33.492700Z",
     "iopub.status.idle": "2024-06-24T03:19:33.497527Z",
     "shell.execute_reply": "2024-06-24T03:19:33.496997Z"
    },
    "lines_to_next_cell": 1,
    "papermill": {
     "duration": 0.017381,
     "end_time": "2024-06-24T03:19:33.498627",
     "exception": false,
     "start_time": "2024-06-24T03:19:33.481246",
     "status": "completed"
    },
    "tags": []
   },
   "outputs": [],
   "source": [
    "# Supercomputer\n",
    "def canAccess(N: int, K: int, arr: list[int]) -> int:\n",
    "    arr.sort()\n",
    "    count = 0\n",
    "    for i in range(N - 2):\n",
    "        for j in range(i + 1, N - 1):\n",
    "            target = K ^ arr[i] ^ arr[j]\n",
    "            left = bisect.bisect_left(arr, target, j + 1)\n",
    "            right = bisect.bisect_right(arr, target, j + 1)\n",
    "            if left < N and arr[left] == target:\n",
    "                count += right - left\n",
    "\n",
    "    return count\n",
    "\n",
    "# Testing the solution\n",
    "assert canAccess(6, 13, [2,2,8,7,7,9]) == 4\n",
    "assert canAccess(7, 5, [7,2,5,5,2,4,7]) == 4\n",
    "assert canAccess(6, 1, [5,6,5,2,1,7]) == 3"
   ]
  },
  {
   "cell_type": "markdown",
   "id": "cee6356e",
   "metadata": {
    "papermill": {
     "duration": 0.010698,
     "end_time": "2024-06-24T03:19:33.520233",
     "exception": false,
     "start_time": "2024-06-24T03:19:33.509535",
     "status": "completed"
    },
    "tags": []
   },
   "source": [
    "Maximum magnetic force between two balls"
   ]
  },
  {
   "cell_type": "code",
   "execution_count": 41,
   "id": "97865321",
   "metadata": {
    "execution": {
     "iopub.execute_input": "2024-06-24T03:19:33.543094Z",
     "iopub.status.busy": "2024-06-24T03:19:33.542713Z",
     "iopub.status.idle": "2024-06-24T03:19:33.547620Z",
     "shell.execute_reply": "2024-06-24T03:19:33.547139Z"
    },
    "lines_to_next_cell": 1,
    "papermill": {
     "duration": 0.017706,
     "end_time": "2024-06-24T03:19:33.548652",
     "exception": false,
     "start_time": "2024-06-24T03:19:33.530946",
     "status": "completed"
    },
    "tags": []
   },
   "outputs": [],
   "source": [
    "def maxDistance(positions: list[int], m: int) -> int:\n",
    "    def is_possible(max_sum: int) -> bool:\n",
    "        prev, k = -max_sum, m\n",
    "        for n in positions:\n",
    "            if n - prev >= max_sum:\n",
    "                k, prev = k - 1, n\n",
    "\n",
    "        return k <= 0\n",
    "\n",
    "    # Sort the positions and use a binary search approach, greedily checking if maxsum is possible each time\n",
    "    positions.sort()\n",
    "\n",
    "    low, high = 1, positions[-1] - positions[0]\n",
    "    while low <= high:\n",
    "        mid = (low + high) // 2\n",
    "        if is_possible(mid):\n",
    "            low = mid + 1\n",
    "        else:\n",
    "            high = mid - 1\n",
    "\n",
    "    return high\n",
    "\n",
    "# Testing the solution\n",
    "assert maxDistance([1,2,3,4,7], 3) == 3\n",
    "assert maxDistance([5,4,3,2,1,1000000000], 2) == 999999999\n",
    "assert maxDistance([5,4,3,2,1,1000000000], 3) == 4"
   ]
  },
  {
   "cell_type": "markdown",
   "id": "16ec9ef7",
   "metadata": {
    "papermill": {
     "duration": 0.010718,
     "end_time": "2024-06-24T03:19:33.570414",
     "exception": false,
     "start_time": "2024-06-24T03:19:33.559696",
     "status": "completed"
    },
    "tags": []
   },
   "source": [
    "LC Virtual: 21st June 2024\n",
    "Link: https://leetcode.com/contest/smarking-algorithm-contest/"
   ]
  },
  {
   "cell_type": "code",
   "execution_count": 42,
   "id": "685dcfe2",
   "metadata": {
    "execution": {
     "iopub.execute_input": "2024-06-24T03:19:33.593107Z",
     "iopub.status.busy": "2024-06-24T03:19:33.592680Z",
     "iopub.status.idle": "2024-06-24T03:19:33.598388Z",
     "shell.execute_reply": "2024-06-24T03:19:33.597945Z"
    },
    "lines_to_next_cell": 1,
    "papermill": {
     "duration": 0.01815,
     "end_time": "2024-06-24T03:19:33.599414",
     "exception": false,
     "start_time": "2024-06-24T03:19:33.581264",
     "status": "completed"
    },
    "tags": []
   },
   "outputs": [],
   "source": [
    "# Q1: Path Sum - III\n",
    "def pathSum(root: BinaryTreeNode, targetSum: int) -> int:\n",
    "    count = 0\n",
    "    def backtrack(curr: BinaryTreeNode) -> dict[int, int]:\n",
    "        nonlocal count\n",
    "        if not curr:\n",
    "            return dict()\n",
    "        else:\n",
    "            left: dict[int, int] = backtrack(curr.left)\n",
    "            right: dict[int, int] = backtrack(curr.right)\n",
    "            result: dict[int, int] = dict()\n",
    "            for k, v in left.items():\n",
    "                result[k + curr.val] = result.get(k + curr.val, 0) + v\n",
    "            for k, v in right.items():\n",
    "                result[k + curr.val] = result.get(k + curr.val, 0) + v\n",
    "            result[curr.val] = result.get(curr.val, 0) + 1\n",
    "            count += result.get(targetSum, 0)\n",
    "            return result\n",
    "\n",
    "    backtrack(root)\n",
    "    return count\n",
    "\n",
    "# Testing the solution\n",
    "assert pathSum(BinaryTreeNode.from_array([10,5,-3,3,2,None,11,3,-2,None,1]), 8) == 3\n",
    "assert pathSum(BinaryTreeNode.from_array([5,4,8,11,None,13,4,7,2,None,None,5,1]), 22) == 3"
   ]
  },
  {
   "cell_type": "code",
   "execution_count": 43,
   "id": "4adac14c",
   "metadata": {
    "execution": {
     "iopub.execute_input": "2024-06-24T03:19:33.622071Z",
     "iopub.status.busy": "2024-06-24T03:19:33.621673Z",
     "iopub.status.idle": "2024-06-24T03:19:33.627991Z",
     "shell.execute_reply": "2024-06-24T03:19:33.627489Z"
    },
    "lines_to_next_cell": 1,
    "papermill": {
     "duration": 0.018963,
     "end_time": "2024-06-24T03:19:33.629267",
     "exception": false,
     "start_time": "2024-06-24T03:19:33.610304",
     "status": "completed"
    },
    "tags": []
   },
   "outputs": [],
   "source": [
    "# Q2: Find all anagrams in a string\n",
    "def findAnagrams(s: str, p: str) -> list[int]:\n",
    "    def compare(freq1: dict[str, int], freq2: dict[str, int]) -> bool:\n",
    "        for k, v in freq1.items():\n",
    "            if k not in freq2 or v != freq2[k]:\n",
    "                return False\n",
    "        return True if freq1 else False\n",
    "\n",
    "    NS, NP = len(s), len(p)\n",
    "    p_freq: collections.Counter = collections.Counter(p)\n",
    "\n",
    "    result: list[int] = []\n",
    "    # J is not included in slice\n",
    "    i = j = 0\n",
    "    s_freq: dict[str, int] = {}\n",
    "    while j <= NS:\n",
    "        while j < NS and j - i < NP:\n",
    "            s_freq[s[j]] = s_freq.get(s[j], 0) + 1\n",
    "            j += 1\n",
    "\n",
    "        comparison = compare(s_freq, p_freq)\n",
    "\n",
    "        # Anagram\n",
    "        if comparison == 1:\n",
    "            result.append(i)\n",
    "        if j < NS:\n",
    "            s_freq[s[i]] = s_freq[s[i]] - 1\n",
    "            s_freq[s[j]] = s_freq.get(s[j], 0) + 1\n",
    "            if s_freq[s[i]] == 0:\n",
    "                s_freq.pop(s[i])\n",
    "        i, j = i + 1, j + 1\n",
    "\n",
    "    return result\n",
    "\n",
    "# Testing the solution\n",
    "assert findAnagrams(\"cbaebabacd\", \"abc\") == [0, 6]\n",
    "assert findAnagrams(\"abab\", \"ab\") == [0,1,2]\n",
    "assert findAnagrams(\"aa\", \"bb\") == []\n",
    "assert findAnagrams(\"baa\", \"aa\") == [1]"
   ]
  },
  {
   "cell_type": "markdown",
   "id": "a3baca05",
   "metadata": {
    "papermill": {
     "duration": 0.010926,
     "end_time": "2024-06-24T03:19:33.651695",
     "exception": false,
     "start_time": "2024-06-24T03:19:33.640769",
     "status": "completed"
    },
    "tags": []
   },
   "source": [
    "Upsolving: Kth Smallest in lexicographical ordering"
   ]
  },
  {
   "cell_type": "code",
   "execution_count": 44,
   "id": "f96e9972",
   "metadata": {
    "execution": {
     "iopub.execute_input": "2024-06-24T03:19:33.674121Z",
     "iopub.status.busy": "2024-06-24T03:19:33.673818Z",
     "iopub.status.idle": "2024-06-24T03:19:33.678038Z",
     "shell.execute_reply": "2024-06-24T03:19:33.677625Z"
    },
    "lines_to_next_cell": 1,
    "papermill": {
     "duration": 0.016648,
     "end_time": "2024-06-24T03:19:33.679103",
     "exception": false,
     "start_time": "2024-06-24T03:19:33.662455",
     "status": "completed"
    },
    "tags": []
   },
   "outputs": [],
   "source": [
    "# https://leetcode.com/problems/k-th-smallest-in-lexicographical-order/solutions/92242/concise-easy-to-understand-java-5ms-solution-with-explaination/\n",
    "def findKthNumber(n: int, k: int) -> int:\n",
    "    def countSteps(n1: int, n2: int) -> int:\n",
    "        steps = 0\n",
    "        while n1 <= n:\n",
    "            steps += min(n2, n + 1) - n1\n",
    "            n1, n2 = n1 * 10, n2 * 10\n",
    "\n",
    "        return steps\n",
    "\n",
    "    # Move k - 1 steps\n",
    "    curr = 1\n",
    "    while k > 1:\n",
    "        steps = countSteps(curr, curr + 1)\n",
    "        if steps <= k:\n",
    "            curr, k = curr + 1, k - steps\n",
    "        else:\n",
    "            curr, k = curr * 10, k - 1\n",
    "\n",
    "    return curr\n",
    "\n",
    "# Testing the solution\n",
    "assert findKthNumber(13, 2) == 10\n",
    "assert findKthNumber(100, 5) == 12"
   ]
  },
  {
   "cell_type": "markdown",
   "id": "0131247e",
   "metadata": {
    "papermill": {
     "duration": 0.010773,
     "end_time": "2024-06-24T03:19:33.700743",
     "exception": false,
     "start_time": "2024-06-24T03:19:33.689970",
     "status": "completed"
    },
    "tags": []
   },
   "source": [
    "GFG Hiring Challenge: 21st June 2024"
   ]
  },
  {
   "cell_type": "code",
   "execution_count": 45,
   "id": "70464abf",
   "metadata": {
    "execution": {
     "iopub.execute_input": "2024-06-24T03:19:33.723141Z",
     "iopub.status.busy": "2024-06-24T03:19:33.722785Z",
     "iopub.status.idle": "2024-06-24T03:19:33.727275Z",
     "shell.execute_reply": "2024-06-24T03:19:33.726766Z"
    },
    "lines_to_next_cell": 1,
    "papermill": {
     "duration": 0.016974,
     "end_time": "2024-06-24T03:19:33.728391",
     "exception": false,
     "start_time": "2024-06-24T03:19:33.711417",
     "status": "completed"
    },
    "tags": []
   },
   "outputs": [],
   "source": [
    "def modifyMEX(N : int, arr : list[int]) -> int:\n",
    "    freq: collections.Counter = collections.Counter(arr)\n",
    "    prev = -1\n",
    "    for i in range(0, int(1e6) + 1):\n",
    "        if i not in freq:\n",
    "            return prev\n",
    "        else:\n",
    "            prev = freq[i] if prev == -1 else min(freq[i], prev)\n",
    "\n",
    "    return prev\n",
    "\n",
    "# Testing the solution\n",
    "assert modifyMEX(6, [0,1,2,2,3,5]) == 1\n",
    "assert modifyMEX(4, [1,2,3,4]) == -1\n",
    "assert modifyMEX(4, [0,1,1,1]) == 1"
   ]
  },
  {
   "cell_type": "code",
   "execution_count": 46,
   "id": "8f4b7a46",
   "metadata": {
    "execution": {
     "iopub.execute_input": "2024-06-24T03:19:33.751269Z",
     "iopub.status.busy": "2024-06-24T03:19:33.750822Z",
     "iopub.status.idle": "2024-06-24T03:19:33.755977Z",
     "shell.execute_reply": "2024-06-24T03:19:33.755478Z"
    },
    "lines_to_next_cell": 1,
    "papermill": {
     "duration": 0.017751,
     "end_time": "2024-06-24T03:19:33.757047",
     "exception": false,
     "start_time": "2024-06-24T03:19:33.739296",
     "status": "completed"
    },
    "tags": []
   },
   "outputs": [],
   "source": [
    "def countPairs(N: int, K: int, arr: list[int]) -> int:\n",
    "    count: int = 0\n",
    "    indices: dict[int, dict[int, int]] = dict()\n",
    "    for i in range(N):\n",
    "        idx, num = i + 1, arr[i]\n",
    "        index_dp: dict[int, int] = indices.get(num, dict())\n",
    "        idx %= K\n",
    "        count += index_dp.get(K - idx if idx > 0 else 0, 0)\n",
    "        index_dp[idx] = index_dp.get(idx, 0) + 1\n",
    "        indices[num] = index_dp\n",
    "\n",
    "    return int(count % (1e9 + 7))\n",
    "\n",
    "# Testing the solution\n",
    "assert countPairs(5, 3, [1,2,3,2,1]) == 2\n",
    "assert countPairs(6, 4, [1,1,1,1,1,1]) == 3\n",
    "assert countPairs(8, 2, [0,1,2,1,3,1,4,1]) == 6"
   ]
  },
  {
   "cell_type": "code",
   "execution_count": 47,
   "id": "de822d3e",
   "metadata": {
    "execution": {
     "iopub.execute_input": "2024-06-24T03:19:33.779856Z",
     "iopub.status.busy": "2024-06-24T03:19:33.779653Z",
     "iopub.status.idle": "2024-06-24T03:19:33.785711Z",
     "shell.execute_reply": "2024-06-24T03:19:33.785287Z"
    },
    "lines_to_next_cell": 1,
    "papermill": {
     "duration": 0.01878,
     "end_time": "2024-06-24T03:19:33.786805",
     "exception": false,
     "start_time": "2024-06-24T03:19:33.768025",
     "status": "completed"
    },
    "tags": []
   },
   "outputs": [],
   "source": [
    "def maxEdgeSumBrute(N: int, edges: list[list[int]]) -> int:\n",
    "    \"\"\"\n",
    "    Naive solution: Apply modified djikistra's algorithm for each vertex.\n",
    "    Increase sum for each pair.\n",
    "    \"\"\"\n",
    "    def BFS(src: int) -> int:\n",
    "        distances: dict[int, int] = dict()\n",
    "        queue: collections.deque = collections.deque([(src, 0)])\n",
    "\n",
    "        # Apply Dijkstra\n",
    "        while queue:\n",
    "            curr, dist = queue.popleft()\n",
    "            distances[curr] = dist\n",
    "            for next_, next_dist in adj[curr]:\n",
    "                if next_ not in distances:\n",
    "                    queue.append((next_, max(next_dist, dist)))\n",
    "\n",
    "        edge_sum = 0\n",
    "        for k, v in distances.items():\n",
    "            edge_sum += v if k > src else 0\n",
    "\n",
    "        return edge_sum\n",
    "\n",
    "    # Convert edges into ADJ List\n",
    "    adj: dict[int, list[tuple[int, int]]] = dict()\n",
    "    for n1, n2, w in edges:\n",
    "        n1_neighbours, n2_neighbours = adj.get(n1, []), adj.get(n2, [])\n",
    "        n1_neighbours.append((n2, w))\n",
    "        n2_neighbours.append((n1, w))\n",
    "        adj[n1], adj[n2] = n1_neighbours, n2_neighbours\n",
    "\n",
    "    sum_: int = 0\n",
    "    for src in range(1, N + 1):\n",
    "        sum_ += BFS(src)\n",
    "\n",
    "    return sum_\n",
    "\n",
    "# Testing the solution\n",
    "assert maxEdgeSumBrute(3, [[1,2,2], [1,3,4]]) == 10\n",
    "assert maxEdgeSumBrute(4, [[1,2,1], [2,4,3], [1,3,3]]) == 16"
   ]
  },
  {
   "cell_type": "markdown",
   "id": "a66bebb7",
   "metadata": {
    "papermill": {
     "duration": 0.010817,
     "end_time": "2024-06-24T03:19:33.808534",
     "exception": false,
     "start_time": "2024-06-24T03:19:33.797717",
     "status": "completed"
    },
    "tags": []
   },
   "source": [
    "LC Daily question: Count number of nice subarrays"
   ]
  },
  {
   "cell_type": "code",
   "execution_count": 48,
   "id": "a269a21c",
   "metadata": {
    "execution": {
     "iopub.execute_input": "2024-06-24T03:19:33.831241Z",
     "iopub.status.busy": "2024-06-24T03:19:33.830916Z",
     "iopub.status.idle": "2024-06-24T03:19:33.835108Z",
     "shell.execute_reply": "2024-06-24T03:19:33.834595Z"
    },
    "lines_to_next_cell": 1,
    "papermill": {
     "duration": 0.016776,
     "end_time": "2024-06-24T03:19:33.836156",
     "exception": false,
     "start_time": "2024-06-24T03:19:33.819380",
     "status": "completed"
    },
    "tags": []
   },
   "outputs": [],
   "source": [
    "def numberOfSubarrays(nums: list[int], K: int) -> int:\n",
    "    def countSubArrays(k: int) -> int:\n",
    "        subArrayCount = oddCount = 0\n",
    "        i = j = 0\n",
    "        while j < N:\n",
    "            oddCount += nums[j] % 2\n",
    "            # Shrink until valid\n",
    "            while oddCount > k:\n",
    "                oddCount -= nums[i] % 2\n",
    "                i += 1\n",
    "            subArrayCount += j - i + 1\n",
    "            j += 1\n",
    "\n",
    "        return subArrayCount\n",
    "\n",
    "    N = len(nums)\n",
    "    return countSubArrays(K) - countSubArrays(K - 1)\n",
    "\n",
    "# Testing the solution\n",
    "assert numberOfSubarrays([1,1,2,1,1], 3) == 2"
   ]
  },
  {
   "cell_type": "markdown",
   "id": "8b99196d",
   "metadata": {
    "papermill": {
     "duration": 0.010808,
     "end_time": "2024-06-24T03:19:33.857870",
     "exception": false,
     "start_time": "2024-06-24T03:19:33.847062",
     "status": "completed"
    },
    "tags": []
   },
   "source": [
    "Codeforces: Magnitude (https://codeforces.com/problemset/problem/1984/C1)"
   ]
  },
  {
   "cell_type": "code",
   "execution_count": 49,
   "id": "0e683e9e",
   "metadata": {
    "execution": {
     "iopub.execute_input": "2024-06-24T03:19:33.880566Z",
     "iopub.status.busy": "2024-06-24T03:19:33.880223Z",
     "iopub.status.idle": "2024-06-24T03:19:33.884443Z",
     "shell.execute_reply": "2024-06-24T03:19:33.883917Z"
    },
    "lines_to_next_cell": 1,
    "papermill": {
     "duration": 0.016859,
     "end_time": "2024-06-24T03:19:33.885574",
     "exception": false,
     "start_time": "2024-06-24T03:19:33.868715",
     "status": "completed"
    },
    "tags": []
   },
   "outputs": [],
   "source": [
    "def magnitudeBrute(arr: list[int]) -> int:\n",
    "    @functools.cache\n",
    "    def backtrack(i: int, c: int) -> int:\n",
    "        if i >= N:\n",
    "            return c\n",
    "        else:\n",
    "            opt1 = backtrack(i + 1, c + arr[i])\n",
    "            opt2 = backtrack(i + 1, abs(c + arr[i]))\n",
    "            return max(opt1, opt2)\n",
    "\n",
    "    N = len(arr)\n",
    "    return backtrack(0, 0)\n",
    "\n",
    "# Testing the solution\n",
    "assert magnitudeBrute([10, -9, -3, 4]) == 6\n",
    "assert magnitudeBrute([1,4,3,4,1,4,3,4]) == 24"
   ]
  },
  {
   "cell_type": "markdown",
   "id": "beab9c5b",
   "metadata": {
    "papermill": {
     "duration": 0.010858,
     "end_time": "2024-06-24T03:19:33.907484",
     "exception": false,
     "start_time": "2024-06-24T03:19:33.896626",
     "status": "completed"
    },
    "tags": []
   },
   "source": [
    "LC Biweekly: 21st June 2024"
   ]
  },
  {
   "cell_type": "code",
   "execution_count": 50,
   "id": "e20d1fa4",
   "metadata": {
    "execution": {
     "iopub.execute_input": "2024-06-24T03:19:33.930055Z",
     "iopub.status.busy": "2024-06-24T03:19:33.929655Z",
     "iopub.status.idle": "2024-06-24T03:19:33.933247Z",
     "shell.execute_reply": "2024-06-24T03:19:33.932785Z"
    },
    "lines_to_next_cell": 1,
    "papermill": {
     "duration": 0.015969,
     "end_time": "2024-06-24T03:19:33.934233",
     "exception": false,
     "start_time": "2024-06-24T03:19:33.918264",
     "status": "completed"
    },
    "tags": []
   },
   "outputs": [],
   "source": [
    "# Q1\n",
    "# find-minimum-operations-to-make-all-elements-divisible-by-three/description/\n",
    "def minimumOperations(nums: list[int]) -> int:\n",
    "    count = 0\n",
    "    for n in nums:\n",
    "        count += int(n % 3 in (1, 2))\n",
    "\n",
    "    return count\n",
    "\n",
    "# Testing the solution\n",
    "assert minimumOperations([1,2,3,4]) == 3\n",
    "assert minimumOperations([3,6,9]) == 0"
   ]
  },
  {
   "cell_type": "code",
   "execution_count": 51,
   "id": "f67c07a3",
   "metadata": {
    "execution": {
     "iopub.execute_input": "2024-06-24T03:19:33.957214Z",
     "iopub.status.busy": "2024-06-24T03:19:33.956840Z",
     "iopub.status.idle": "2024-06-24T03:19:33.961297Z",
     "shell.execute_reply": "2024-06-24T03:19:33.960785Z"
    },
    "lines_to_next_cell": 1,
    "papermill": {
     "duration": 0.017085,
     "end_time": "2024-06-24T03:19:33.962359",
     "exception": false,
     "start_time": "2024-06-24T03:19:33.945274",
     "status": "completed"
    },
    "tags": []
   },
   "outputs": [],
   "source": [
    "def minOperationsI(nums: list[int]) -> int:\n",
    "    def flip(idx: int) -> None:\n",
    "        for j in range(3):\n",
    "            nums[idx + j] = 1 if nums[idx + j] == 0 else 0\n",
    "\n",
    "    N, count = len(nums), 0\n",
    "    for i in range(N):\n",
    "        if nums[i] == 0:\n",
    "            if i + 3 <= N:\n",
    "                count += 1\n",
    "                flip(i)\n",
    "            else:\n",
    "                return -1\n",
    "\n",
    "    return count\n",
    "\n",
    "# Testing the solution\n",
    "assert minOperationsI([0,1,1,1,0,0]) == 3\n",
    "assert minOperationsI([0,1,1,1]) == -1"
   ]
  },
  {
   "cell_type": "code",
   "execution_count": 52,
   "id": "2dcbed68",
   "metadata": {
    "execution": {
     "iopub.execute_input": "2024-06-24T03:19:33.985301Z",
     "iopub.status.busy": "2024-06-24T03:19:33.984968Z",
     "iopub.status.idle": "2024-06-24T03:19:33.988727Z",
     "shell.execute_reply": "2024-06-24T03:19:33.988289Z"
    },
    "lines_to_next_cell": 1,
    "papermill": {
     "duration": 0.016393,
     "end_time": "2024-06-24T03:19:33.989789",
     "exception": false,
     "start_time": "2024-06-24T03:19:33.973396",
     "status": "completed"
    },
    "tags": []
   },
   "outputs": [],
   "source": [
    "def minOperationsII(nums: list[int]) -> int:\n",
    "    N, count, flip = len(nums), 0, False\n",
    "    for i in range(N):\n",
    "        nums[i] = nums[i] if not flip else int(not nums[i])\n",
    "        if nums[i] == 0:\n",
    "            flip = not flip\n",
    "            count += 1\n",
    "\n",
    "    return count\n",
    "\n",
    "# Testing the solution\n",
    "assert minOperationsII([0,1,1,0,1]) == 4\n",
    "assert minOperationsII([1,0,0,0]) == 1"
   ]
  },
  {
   "cell_type": "markdown",
   "id": "0b5d2df8",
   "metadata": {
    "papermill": {
     "duration": 0.011043,
     "end_time": "2024-06-24T03:19:34.011819",
     "exception": false,
     "start_time": "2024-06-24T03:19:34.000776",
     "status": "completed"
    },
    "tags": []
   },
   "source": [
    "LC Hard: Sliding window Maximum"
   ]
  },
  {
   "cell_type": "code",
   "execution_count": 53,
   "id": "68e953c1",
   "metadata": {
    "execution": {
     "iopub.execute_input": "2024-06-24T03:19:34.037188Z",
     "iopub.status.busy": "2024-06-24T03:19:34.036698Z",
     "iopub.status.idle": "2024-06-24T03:19:34.041534Z",
     "shell.execute_reply": "2024-06-24T03:19:34.040994Z"
    },
    "lines_to_next_cell": 1,
    "papermill": {
     "duration": 0.019069,
     "end_time": "2024-06-24T03:19:34.042888",
     "exception": false,
     "start_time": "2024-06-24T03:19:34.023819",
     "status": "completed"
    },
    "tags": []
   },
   "outputs": [],
   "source": [
    "def maxSlidingWindow(nums: list[int], k: int) -> list[int]:\n",
    "    \"\"\"\n",
    "    Maintain a deque of indices in monotonically decreasing order.\n",
    "    - Remove out of bound indices\n",
    "    - Maintain monotonicity\n",
    "    \"\"\"\n",
    "\n",
    "    N = len(nums)\n",
    "    deq: collections.deque = collections.deque([])\n",
    "    result: list[int] = []\n",
    "    for i in range(N):\n",
    "\n",
    "        # Maintain monotonicity\n",
    "        while deq and nums[deq[-1]] < nums[i]:\n",
    "            deq.pop()\n",
    "\n",
    "        # Remove out of bound indices\n",
    "        if deq and deq[0] < i - k + 1:\n",
    "            deq.popleft()\n",
    "\n",
    "        # Add current element index\n",
    "        deq.append(i)\n",
    "\n",
    "        # Add the current minimum to the result list\n",
    "        if i >= k - 1:\n",
    "            result.append(nums[deq[0]])\n",
    "\n",
    "    return result\n",
    "\n",
    "# Testing the solution\n",
    "assert maxSlidingWindow([1,3,-1,-3,5,3,6,7], 3) == [3,3,5,5,6,7]"
   ]
  },
  {
   "cell_type": "markdown",
   "id": "8d101158",
   "metadata": {
    "papermill": {
     "duration": 0.010856,
     "end_time": "2024-06-24T03:19:34.067974",
     "exception": false,
     "start_time": "2024-06-24T03:19:34.057118",
     "status": "completed"
    },
    "tags": []
   },
   "source": [
    "LC Weekly: 23rd June 2024"
   ]
  },
  {
   "cell_type": "code",
   "execution_count": 54,
   "id": "d8015249",
   "metadata": {
    "execution": {
     "iopub.execute_input": "2024-06-24T03:19:34.091452Z",
     "iopub.status.busy": "2024-06-24T03:19:34.090967Z",
     "iopub.status.idle": "2024-06-24T03:19:34.095640Z",
     "shell.execute_reply": "2024-06-24T03:19:34.095152Z"
    },
    "lines_to_next_cell": 1,
    "papermill": {
     "duration": 0.01764,
     "end_time": "2024-06-24T03:19:34.096720",
     "exception": false,
     "start_time": "2024-06-24T03:19:34.079080",
     "status": "completed"
    },
    "tags": []
   },
   "outputs": [],
   "source": [
    "# Q1\n",
    "def minimumAverage(nums: list[int]) -> float:\n",
    "    # Maintain two heaps\n",
    "    min_heap: list[int] = list(nums)\n",
    "    max_heap: list[int] = list(map(lambda x: -x, nums))\n",
    "\n",
    "    # Heapify both heaps\n",
    "    heapq.heapify(min_heap)\n",
    "    heapq.heapify(max_heap)\n",
    "\n",
    "    avg: float = math.inf\n",
    "    while min_heap:\n",
    "        min_, max_ = heapq.heappop(min_heap), -heapq.heappop(max_heap)\n",
    "        avg = min(avg, (max_ + min_) / 2)\n",
    "\n",
    "    return avg\n",
    "\n",
    "# Testing the solution\n",
    "assert minimumAverage([7,8,3,4,15,13,4,1]) == 5.5\n",
    "assert minimumAverage([1,9,8,3,10,5]) == 5.5"
   ]
  },
  {
   "cell_type": "code",
   "execution_count": 55,
   "id": "472b03a2",
   "metadata": {
    "execution": {
     "iopub.execute_input": "2024-06-24T03:19:34.119630Z",
     "iopub.status.busy": "2024-06-24T03:19:34.119128Z",
     "iopub.status.idle": "2024-06-24T03:19:34.123978Z",
     "shell.execute_reply": "2024-06-24T03:19:34.123471Z"
    },
    "lines_to_next_cell": 1,
    "papermill": {
     "duration": 0.017295,
     "end_time": "2024-06-24T03:19:34.124974",
     "exception": false,
     "start_time": "2024-06-24T03:19:34.107679",
     "status": "completed"
    },
    "tags": []
   },
   "outputs": [],
   "source": [
    "# Q2\n",
    "def minimumArea(grid: list[list[int]]) -> int:\n",
    "    N, M = len(grid), len(grid[0])\n",
    "    min_x, min_y, max_x, max_y = N - 1, M - 1, 0, 0\n",
    "    for i in range(N):\n",
    "        for j in range(M):\n",
    "            if grid[i][j] == 1:\n",
    "                min_x, min_y, max_x, max_y = min(min_x, i), min(min_y, j), max(max_x, i), max(max_y, j)\n",
    "\n",
    "    return (max_x - min_x + 1) * (max_y - min_y + 1)\n",
    "\n",
    "# Testing the solution\n",
    "assert minimumArea([[0,1,0],[1,0,1]]) == 6\n",
    "assert minimumArea([[0,0,0],[1,0,1]]) == 3\n",
    "assert minimumArea([[0,0],[1,0]]) == 1"
   ]
  },
  {
   "cell_type": "code",
   "execution_count": 56,
   "id": "023117b0",
   "metadata": {
    "execution": {
     "iopub.execute_input": "2024-06-24T03:19:34.147683Z",
     "iopub.status.busy": "2024-06-24T03:19:34.147265Z",
     "iopub.status.idle": "2024-06-24T03:19:34.152380Z",
     "shell.execute_reply": "2024-06-24T03:19:34.151867Z"
    },
    "lines_to_next_cell": 1,
    "papermill": {
     "duration": 0.017534,
     "end_time": "2024-06-24T03:19:34.153410",
     "exception": false,
     "start_time": "2024-06-24T03:19:34.135876",
     "status": "completed"
    },
    "tags": []
   },
   "outputs": [],
   "source": [
    "# Q3\n",
    "def maximumTotalCostBrute(nums: list[int]) -> int:\n",
    "    @functools.cache\n",
    "    def backtrack(i: int) -> int:\n",
    "        if i == N:\n",
    "            return 0\n",
    "        else:\n",
    "            max_partition = sum(nums[i:])\n",
    "            partition_sum, sign = 0, 1\n",
    "            for j in range(i, N):\n",
    "                partition_sum += nums[j] * sign\n",
    "                max_partition = max(max_partition, partition_sum + backtrack(j + 1))\n",
    "                sign = -1 if sign == 1 else 1\n",
    "\n",
    "            return max_partition\n",
    "\n",
    "    N = len(nums)\n",
    "    return backtrack(0)\n",
    "\n",
    "# Testing the solution\n",
    "assert maximumTotalCostBrute([1,-2,3,4]) == 10\n",
    "assert maximumTotalCostBrute([1,-1,1,-1]) == 4\n",
    "assert maximumTotalCostBrute([0]) == 0\n",
    "assert maximumTotalCostBrute([1,-1]) == 2\n",
    "assert maximumTotalCostBrute([-15,8,12,-12]) == 17"
   ]
  },
  {
   "cell_type": "code",
   "execution_count": 57,
   "id": "335dd003",
   "metadata": {
    "execution": {
     "iopub.execute_input": "2024-06-24T03:19:34.176155Z",
     "iopub.status.busy": "2024-06-24T03:19:34.175792Z",
     "iopub.status.idle": "2024-06-24T03:19:34.180886Z",
     "shell.execute_reply": "2024-06-24T03:19:34.180439Z"
    },
    "lines_to_next_cell": 1,
    "papermill": {
     "duration": 0.017706,
     "end_time": "2024-06-24T03:19:34.181938",
     "exception": false,
     "start_time": "2024-06-24T03:19:34.164232",
     "status": "completed"
    },
    "tags": []
   },
   "outputs": [],
   "source": [
    "# Upsolving Q3\n",
    "def maximumTotalCostRecursive(nums: list[int]) -> int:\n",
    "    @functools.cache\n",
    "    def backtrack(i: int, prev_flipped: bool) -> int:\n",
    "        if i == N:\n",
    "            return 0\n",
    "        elif nums[i] < 0 and not prev_flipped:\n",
    "            return max(-nums[i] + backtrack(i + 1, True), nums[i] + backtrack(i + 1, False))\n",
    "        else:\n",
    "            return nums[i] + backtrack(i + 1, False)\n",
    "\n",
    "    N = len(nums)\n",
    "    return backtrack(0, True)\n",
    "\n",
    "# Testing the solution\n",
    "assert maximumTotalCostRecursive([1,-2,3,4]) == 10\n",
    "assert maximumTotalCostRecursive([1,-1,1,-1]) == 4\n",
    "assert maximumTotalCostRecursive([1,-1]) == 2\n",
    "assert maximumTotalCostRecursive([-15,8,12,-12]) == 17"
   ]
  },
  {
   "cell_type": "code",
   "execution_count": 58,
   "id": "d49af69e",
   "metadata": {
    "execution": {
     "iopub.execute_input": "2024-06-24T03:19:34.204860Z",
     "iopub.status.busy": "2024-06-24T03:19:34.204530Z",
     "iopub.status.idle": "2024-06-24T03:19:34.209438Z",
     "shell.execute_reply": "2024-06-24T03:19:34.209011Z"
    },
    "lines_to_next_cell": 1,
    "papermill": {
     "duration": 0.017382,
     "end_time": "2024-06-24T03:19:34.210483",
     "exception": false,
     "start_time": "2024-06-24T03:19:34.193101",
     "status": "completed"
    },
    "tags": []
   },
   "outputs": [],
   "source": [
    "def maximumTotalCostTabulation(nums: list[int]) -> int:\n",
    "    N = len(nums)\n",
    "    dp: list[list[int]] = [[0, 0] for i in range(N + 1)]\n",
    "    for i in range(N - 1, -1, -1):\n",
    "        for j in range(2):\n",
    "            if nums[i] < 0 and j == 0:\n",
    "                dp[i][j] = max(-nums[i] + dp[i + 1][1], nums[i] + dp[i + 1][0])\n",
    "            else:\n",
    "                dp[i][j] = nums[i] + dp[i + 1][0]\n",
    "\n",
    "    return dp[0][1]\n",
    "\n",
    "# Testing the solution\n",
    "assert maximumTotalCostTabulation([1,-2,3,4]) == 10\n",
    "assert maximumTotalCostTabulation([1,-1,1,-1]) == 4\n",
    "assert maximumTotalCostTabulation([1,-1]) == 2\n",
    "assert maximumTotalCostTabulation([-15,8,12,-12]) == 17"
   ]
  },
  {
   "cell_type": "code",
   "execution_count": 59,
   "id": "1f72bda9",
   "metadata": {
    "execution": {
     "iopub.execute_input": "2024-06-24T03:19:34.233243Z",
     "iopub.status.busy": "2024-06-24T03:19:34.232970Z",
     "iopub.status.idle": "2024-06-24T03:19:34.237178Z",
     "shell.execute_reply": "2024-06-24T03:19:34.236759Z"
    },
    "lines_to_next_cell": 1,
    "papermill": {
     "duration": 0.016706,
     "end_time": "2024-06-24T03:19:34.238217",
     "exception": false,
     "start_time": "2024-06-24T03:19:34.221511",
     "status": "completed"
    },
    "tags": []
   },
   "outputs": [],
   "source": [
    "def maximumTotalCost(nums: list[int]) -> int:\n",
    "    N = len(nums)\n",
    "    dp: list[int] = [0, 0]\n",
    "    for i in range(N - 1, -1, -1):\n",
    "        dp = [max(-nums[i] + dp[1], nums[i] + dp[0]), nums[i] + dp[0]]\n",
    "\n",
    "    return dp[1]\n",
    "\n",
    "# Testing the solution\n",
    "assert maximumTotalCost([1,-2,3,4]) == 10\n",
    "assert maximumTotalCost([1,-1,1,-1]) == 4\n",
    "assert maximumTotalCost([1,-1]) == 2\n",
    "assert maximumTotalCost([-15,8,12,-12]) == 17"
   ]
  },
  {
   "cell_type": "markdown",
   "id": "e69bf26e",
   "metadata": {
    "papermill": {
     "duration": 0.010686,
     "end_time": "2024-06-24T03:19:34.259766",
     "exception": false,
     "start_time": "2024-06-24T03:19:34.249080",
     "status": "completed"
    },
    "tags": []
   },
   "source": [
    "Codeforces: Round 954, starting at 9:00 PM IST"
   ]
  },
  {
   "cell_type": "code",
   "execution_count": 60,
   "id": "5f0b7d45",
   "metadata": {
    "execution": {
     "iopub.execute_input": "2024-06-24T03:19:34.282292Z",
     "iopub.status.busy": "2024-06-24T03:19:34.281889Z",
     "iopub.status.idle": "2024-06-24T03:19:34.285498Z",
     "shell.execute_reply": "2024-06-24T03:19:34.285080Z"
    },
    "lines_to_next_cell": 1,
    "papermill": {
     "duration": 0.01612,
     "end_time": "2024-06-24T03:19:34.286574",
     "exception": false,
     "start_time": "2024-06-24T03:19:34.270454",
     "status": "completed"
    },
    "tags": []
   },
   "outputs": [],
   "source": [
    "# A.\n",
    "def x_axis(n1: int, n2: int, n3: int) -> int:\n",
    "    return min(abs(n1 - n2) + abs(n1 - n3), abs(n2 - n1) + abs(n2 - n3), abs(n3 - n1) + abs(n3 - n2))\n",
    "\n",
    "# Testing the solution\n",
    "assert x_axis(1, 5, 9) == 8\n",
    "assert x_axis(8, 2, 8) == 6"
   ]
  },
  {
   "cell_type": "code",
   "execution_count": 61,
   "id": "fb3d199f",
   "metadata": {
    "execution": {
     "iopub.execute_input": "2024-06-24T03:19:34.309477Z",
     "iopub.status.busy": "2024-06-24T03:19:34.309155Z",
     "iopub.status.idle": "2024-06-24T03:19:34.315143Z",
     "shell.execute_reply": "2024-06-24T03:19:34.314618Z"
    },
    "lines_to_next_cell": 1,
    "papermill": {
     "duration": 0.018674,
     "end_time": "2024-06-24T03:19:34.316240",
     "exception": false,
     "start_time": "2024-06-24T03:19:34.297566",
     "status": "completed"
    },
    "tags": []
   },
   "outputs": [],
   "source": [
    "# B.\n",
    "def stabilize_matrix(N: int, M: int, matrix: list[list[int]]) -> list[list[int]]:\n",
    "    def check(x: int, y: int) -> int:\n",
    "        top = matrix[x - 1][y] if x - 1 >= 0 else -math.inf\n",
    "        bottom = matrix[x + 1][y] if x + 1 < N else -math.inf\n",
    "        left = matrix[x][y - 1] if y - 1 >= 0 else -math.inf\n",
    "        right = matrix[x][y + 1] if y + 1 < M else -math.inf\n",
    "        return int(max(top, bottom, left, right))\n",
    "\n",
    "    for i in range(N):\n",
    "        for j in range(M):\n",
    "            update_value = check(i, j)\n",
    "            if update_value < matrix[i][j]:\n",
    "                matrix[i][j] = update_value\n",
    "\n",
    "    return matrix\n",
    "\n",
    "# Testing the solution\n",
    "assert stabilize_matrix(5, 4, [[92,74,31,74],[74,92,17,7], [31,17,92,3], [74,7,3,92], [7,31,1,1]]) == [[74,74,31,31],[74,74,17,7],[31,17,17,3],[31,7,3,3],[7,7,1,1]]\n",
    "assert stabilize_matrix(2, 2, [[1,2],[3,4]]) == [[1,2],[3,3]]"
   ]
  },
  {
   "cell_type": "code",
   "execution_count": 62,
   "id": "ac02e2c2",
   "metadata": {
    "execution": {
     "iopub.execute_input": "2024-06-24T03:19:34.339388Z",
     "iopub.status.busy": "2024-06-24T03:19:34.338846Z",
     "iopub.status.idle": "2024-06-24T03:19:34.343755Z",
     "shell.execute_reply": "2024-06-24T03:19:34.343300Z"
    },
    "lines_to_next_cell": 1,
    "papermill": {
     "duration": 0.017811,
     "end_time": "2024-06-24T03:19:34.344890",
     "exception": false,
     "start_time": "2024-06-24T03:19:34.327079",
     "status": "completed"
    },
    "tags": []
   },
   "outputs": [],
   "source": [
    "# C.\n",
    "def update_queries(N: int, M: int, original: str, indices: list[int], conversions: str) -> str:\n",
    "    # Count repeated indices, we can remove as many conversions\n",
    "    index_set: set[int] = {idx - 1 for idx in indices}\n",
    "    conversions = ''.join(sorted(conversions)[:len(index_set)])\n",
    "    mapping: dict[int, str] = dict(zip(sorted(index_set), conversions))\n",
    "\n",
    "    result: list[str] = []\n",
    "    for i in range(N):\n",
    "        if i not in mapping:\n",
    "            result.append(original[i])\n",
    "        else:\n",
    "            result.append(mapping[i])\n",
    "\n",
    "    return ''.join(result)\n",
    "\n",
    "# Testing the solution\n",
    "assert update_queries(4, 4, 'meow', [1,2,1,4], 'zcwz') == 'cwoz'\n",
    "assert update_queries(7, 4, 'abacaba', [1,3,5,7], 'damn') == 'abdcmbn'"
   ]
  },
  {
   "cell_type": "markdown",
   "id": "a6caadf4",
   "metadata": {
    "papermill": {
     "duration": 0.01083,
     "end_time": "2024-06-24T03:19:34.366793",
     "exception": false,
     "start_time": "2024-06-24T03:19:34.355963",
     "status": "completed"
    },
    "tags": []
   },
   "source": [
    "LC Virtual: 24th June 2024\n",
    "https://leetcode.com/contest/smarking-algorithm-contest-2/"
   ]
  },
  {
   "cell_type": "code",
   "execution_count": 63,
   "id": "eb2002d5",
   "metadata": {
    "execution": {
     "iopub.execute_input": "2024-06-24T03:19:34.389701Z",
     "iopub.status.busy": "2024-06-24T03:19:34.389206Z",
     "iopub.status.idle": "2024-06-24T03:19:34.394567Z",
     "shell.execute_reply": "2024-06-24T03:19:34.394112Z"
    },
    "lines_to_next_cell": 1,
    "papermill": {
     "duration": 0.018057,
     "end_time": "2024-06-24T03:19:34.395656",
     "exception": false,
     "start_time": "2024-06-24T03:19:34.377599",
     "status": "completed"
    },
    "tags": []
   },
   "outputs": [],
   "source": [
    "# Q1\n",
    "def eraseOverlapIntervals(intervals: list[list[int]]) -> int:\n",
    "     # Sort the intervals based on end time\n",
    "    intervals.sort(key = lambda x: (x[1], x[0]))\n",
    "\n",
    "    # Iterate through and check for overlaps\n",
    "    removed = 0\n",
    "    prev = (intervals[0][0] - 1, intervals[0][0] - 1)\n",
    "    for start, end in intervals:\n",
    "        if start < prev[1]:\n",
    "            removed += 1\n",
    "        else:\n",
    "            prev = start, end\n",
    "\n",
    "    return removed\n",
    "\n",
    "# Testing the solution\n",
    "assert eraseOverlapIntervals([[1,2],[2,3],[3,4],[1,3]]) == 1\n",
    "assert eraseOverlapIntervals([[1,2],[1,2],[1,2]]) == 2\n",
    "assert eraseOverlapIntervals([[1,2],[2,3]]) == 0\n",
    "assert eraseOverlapIntervals([[1,100],[11,22],[1,11],[2,12]]) == 2"
   ]
  },
  {
   "cell_type": "code",
   "execution_count": 64,
   "id": "08c2da3e",
   "metadata": {
    "execution": {
     "iopub.execute_input": "2024-06-24T03:19:34.418741Z",
     "iopub.status.busy": "2024-06-24T03:19:34.418389Z",
     "iopub.status.idle": "2024-06-24T03:19:34.422072Z",
     "shell.execute_reply": "2024-06-24T03:19:34.421631Z"
    },
    "lines_to_next_cell": 1,
    "papermill": {
     "duration": 0.016398,
     "end_time": "2024-06-24T03:19:34.423087",
     "exception": false,
     "start_time": "2024-06-24T03:19:34.406689",
     "status": "completed"
    },
    "tags": []
   },
   "outputs": [],
   "source": [
    "# Q3\n",
    "def arrangeCoins(n: int) -> int:\n",
    "    low, high = 1, n\n",
    "    while low <= high:\n",
    "        mid = (low + high) // 2\n",
    "        if (mid * (mid + 1)) // 2 <= n:\n",
    "            low = mid + 1\n",
    "        else:\n",
    "            high = mid - 1\n",
    "\n",
    "    return high\n",
    "\n",
    "# Testing the solution\n",
    "assert arrangeCoins(8) == 3\n",
    "assert arrangeCoins(5) == 2"
   ]
  },
  {
   "cell_type": "code",
   "execution_count": 65,
   "id": "68c0ef00",
   "metadata": {
    "execution": {
     "iopub.execute_input": "2024-06-24T03:19:34.445877Z",
     "iopub.status.busy": "2024-06-24T03:19:34.445445Z",
     "iopub.status.idle": "2024-06-24T03:19:34.450812Z",
     "shell.execute_reply": "2024-06-24T03:19:34.450350Z"
    },
    "papermill": {
     "duration": 0.017787,
     "end_time": "2024-06-24T03:19:34.451904",
     "exception": false,
     "start_time": "2024-06-24T03:19:34.434117",
     "status": "completed"
    },
    "tags": []
   },
   "outputs": [],
   "source": [
    "# Q2\n",
    "def findRightInterval(intervals: list[list[int]]) -> list[int]:\n",
    "    N = len(intervals)\n",
    "    sorted_intervals: list[tuple[int, int, int]] = sorted([(x[0], x[1], i) for i, x in enumerate(intervals)], key=lambda x: (x[0], x[1]))\n",
    "\n",
    "    result: list[int] = []\n",
    "    for i, (start, end) in enumerate(intervals):\n",
    "        idx = bisect.bisect_right(sorted_intervals, (end, -math.inf, i))\n",
    "        result.append(sorted_intervals[idx][2] if idx < N else -1)\n",
    "\n",
    "    return result\n",
    "\n",
    "# Testing the solution\n",
    "assert findRightInterval([[1,4],[2,3],[3,4]]) == [-1,2,-1]\n",
    "assert findRightInterval([[3,4],[2,3],[1,2]]) == [-1,0,1]\n",
    "assert findRightInterval([[1,2]]) == [-1]\n",
    "assert findRightInterval([[1,1],[3,4]]) == [0,-1]"
   ]
  }
 ],
 "metadata": {
  "jupytext": {
   "extension": ".py",
   "format_name": "percent",
   "format_version": "1.3",
   "jupytext_version": "1.15.2"
  },
  "kernelspec": {
   "display_name": "Python 3 (ipykernel)",
   "language": "python",
   "name": "python3"
  },
  "language_info": {
   "codemirror_mode": {
    "name": "ipython",
    "version": 3
   },
   "file_extension": ".py",
   "mimetype": "text/x-python",
   "name": "python",
   "nbconvert_exporter": "python",
   "pygments_lexer": "ipython3",
   "version": "3.11.9"
  },
  "papermill": {
   "default_parameters": {},
   "duration": 4.345384,
   "end_time": "2024-06-24T03:19:34.677939",
   "environment_variables": {},
   "exception": null,
   "input_path": "practice/004.ipynb",
   "output_path": "practice/004.ipynb",
   "parameters": {},
   "start_time": "2024-06-24T03:19:30.332555",
   "version": "2.6.0"
  }
 },
 "nbformat": 4,
 "nbformat_minor": 5
}