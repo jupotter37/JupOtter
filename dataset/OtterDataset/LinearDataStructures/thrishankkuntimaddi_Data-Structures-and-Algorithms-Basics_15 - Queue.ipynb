{
  "nbformat": 4,
  "nbformat_minor": 0,
  "metadata": {
    "colab": {
      "provenance": [],
      "authorship_tag": "ABX9TyO3EVWjhvJEmKD5mmk2Mllz",
      "include_colab_link": true
    },
    "kernelspec": {
      "name": "python3",
      "display_name": "Python 3"
    },
    "language_info": {
      "name": "python"
    }
  },
  "cells": [
    {
      "cell_type": "markdown",
      "metadata": {
        "id": "view-in-github",
        "colab_type": "text"
      },
      "source": [
        "<a href=\"https://colab.research.google.com/github/Thrishankkuntimaddi/Data-Structures-and-Algorithms-Basics-/blob/main/15%20-%20Queue.ipynb\" target=\"_parent\"><img src=\"https://colab.research.google.com/assets/colab-badge.svg\" alt=\"Open In Colab\"/></a>"
      ]
    },
    {
      "cell_type": "markdown",
      "source": [
        "# Queue\n",
        "\n",
        "dequeue() <-- 10 | 15 | 20 | 30 | 40 | --> enqueue()\n",
        "\n",
        "               front           rear\n",
        "\n",
        "First IN First OUT\n",
        "\n",
        "### Operations\n",
        "\n",
        "1. enqueue(x)\n",
        "\n",
        "2. deque()\n",
        "\n",
        "3. getFront()\n",
        "\n",
        "4. getRear()\n",
        "\n",
        "5. size()\n",
        "\n",
        "6. isEmpty()\n",
        "\n",
        "\n",
        "### Applications\n",
        "\n",
        "1. Single Resource and Multiple consumers (Ticket)\n",
        "\n",
        "2. Synchonization between slow and fast devices\n",
        "\n",
        "3. In operating system (semaphores, FCFS scheduling, Spoolings, buffers for devices like keyboard)\n",
        "\n",
        "4. In Computer Networks(Routers/Switches) and mail Queues\n",
        "\n",
        "5. Variations : Deque, Priority Queue and Doubly Ended Priority Queue\n",
        "\n",
        "### Implementation\n",
        "\n",
        "1. Using List\n",
        "\n",
        "2. Using collections.deque\n",
        "\n",
        "3. Using queue.Queue\n",
        "\n",
        "4. Our own implementation  "
      ],
      "metadata": {
        "id": "Y-aqFSbBGP65"
      }
    },
    {
      "cell_type": "code",
      "execution_count": null,
      "metadata": {
        "colab": {
          "base_uri": "https://localhost:8080/"
        },
        "id": "4M3rXfvbGHAp",
        "outputId": "29fdeaef-c308-4e9e-815e-21fbc2de59b3"
      },
      "outputs": [
        {
          "output_type": "stream",
          "name": "stdout",
          "text": [
            "[10, 20, 30]\n",
            "[20, 30]\n",
            "[30]\n"
          ]
        }
      ],
      "source": [
        "# Method : Using List\n",
        "\n",
        "q = []\n",
        "q.append(10) # 10\n",
        "q.append(20) # 10 20\n",
        "q.append(30) # 10 20 30\n",
        "\n",
        "print(q) # 10 20 30\n",
        "\n",
        "q.pop(0) # 10\n",
        "print(q) # 20 30\n",
        "\n",
        "q.pop(0) # 20\n",
        "print(q) # 30\n",
        "\n"
      ]
    },
    {
      "cell_type": "code",
      "source": [
        "# Method : Using collections\n",
        "\n",
        "from collections import deque\n",
        "\n",
        "q = deque()\n",
        "q.append(10)\n",
        "q.append(20)\n",
        "q.append(30)\n",
        "\n",
        "print(q) # deque([10, 20, 30])\n",
        "\n",
        "q.popleft()\n",
        "print(q) # deque([20, 30])\n",
        "\n",
        "q.popleft()\n",
        "print(q) # deque([30])\n",
        "\n",
        "print(len(q)) # 1\n",
        "\n",
        "print(q[0]) # 30\n",
        "print(q[-1]) # 30"
      ],
      "metadata": {
        "colab": {
          "base_uri": "https://localhost:8080/"
        },
        "id": "ainTDesuIH5V",
        "outputId": "d53c1d54-4232-46d1-c55a-4749e92c8804"
      },
      "execution_count": null,
      "outputs": [
        {
          "output_type": "stream",
          "name": "stdout",
          "text": [
            "deque([10, 20, 30])\n",
            "deque([20, 30])\n",
            "deque([30])\n",
            "1\n",
            "30\n",
            "30\n"
          ]
        }
      ]
    },
    {
      "cell_type": "code",
      "source": [
        "# Method : Using Linked List Implementation\n",
        "\n",
        "class Node:\n",
        "  def __init__(self, data):\n",
        "    self.data = data\n",
        "    self.next = None\n",
        "\n",
        "class Queue:\n",
        "  def __init__(self):\n",
        "    self.head = None\n",
        "    self.last = None\n",
        "    self.size = 0\n",
        "\n",
        "  def size(self):\n",
        "    return self.size\n",
        "\n",
        "  def isEmpty(self):\n",
        "    return self.size == 0\n",
        "\n",
        "  def getFront(self):\n",
        "    if self.isEmpty():\n",
        "      return None\n",
        "    return self.head.data\n",
        "\n",
        "  def getRear(self):\n",
        "    if self.isEmpty():\n",
        "      return None\n",
        "    return self.last.data\n",
        "\n",
        "  def enqueue(self, data):\n",
        "    temp = Node(data)\n",
        "    if self.isEmpty():\n",
        "      self.head = temp\n",
        "      self.last = temp\n",
        "    else:\n",
        "      self.last.next = temp\n",
        "      self.last = temp\n",
        "    self.size += 1\n",
        "\n",
        "  def dequeue(self):\n",
        "    if self.isEmpty():\n",
        "      return None\n",
        "    temp = self.head.data\n",
        "    self.head = self.head.next\n",
        "    self.size -= 1\n",
        "    return temp\n",
        "\n",
        "q = Queue()\n",
        "q.enqueue(10)\n",
        "q.enqueue(20)\n",
        "q.enqueue(30)\n",
        "\n",
        "print(q.getFront()) # 10\n",
        "print(q.getRear()) # 30\n",
        "\n",
        "q.dequeue()\n",
        "print(q.getFront()) # 20\n",
        "print(q.getRear()) # 30\n",
        "\n",
        "print(q.size) # 2\n",
        "print(q.isEmpty()) # False"
      ],
      "metadata": {
        "colab": {
          "base_uri": "https://localhost:8080/"
        },
        "id": "qOKjeDqUI9ub",
        "outputId": "b997d51a-720e-4719-a4ff-ec0b56d92567"
      },
      "execution_count": null,
      "outputs": [
        {
          "output_type": "stream",
          "name": "stdout",
          "text": [
            "10\n",
            "30\n",
            "20\n",
            "30\n",
            "2\n",
            "False\n"
          ]
        }
      ]
    },
    {
      "cell_type": "markdown",
      "source": [
        "# Queue Implementation using Circular List"
      ],
      "metadata": {
        "id": "fGNmNRTnJyvM"
      }
    },
    {
      "cell_type": "code",
      "source": [
        "class myQueue:\n",
        "  def __init__(self, c):\n",
        "    self.l = [None] * c\n",
        "    self.cap = c\n",
        "    self.size = 0\n",
        "    self.front = 0\n",
        "    self.rear = 0\n",
        "\n",
        "# deque()   -> front = (front + 1) % cap\n",
        "# enqueue() -> rear = (rear + 1) % cap\n",
        "\n",
        "  def getFront(self):\n",
        "    if self.isEmpty():\n",
        "      return None\n",
        "    return self.l[self.front]\n",
        "\n",
        "  def getRear(self):\n",
        "    if self.isEmpty():\n",
        "      return None\n",
        "    return self.l[self.rear - 1]\n",
        "\n",
        "  def size(self):\n",
        "    return self.size\n",
        "\n",
        "  def isEmpty(self):\n",
        "    return self.size == 0\n",
        "\n",
        "  def isFull(self):\n",
        "    return self.size == self.cap\n",
        "\n",
        "  def enqueue(self, data):\n",
        "    if self.isFull():\n",
        "      return None\n",
        "    self.l[self.rear] = data\n",
        "    self.rear = (self.rear + 1) % self.cap\n",
        "    self.size += 1\n",
        "\n",
        "  def dequeue(self):\n",
        "    if self.isEmpty():\n",
        "      return None\n",
        "    temp = self.l[self.front]\n",
        "    self.front = (self.front + 1) % self.cap\n",
        "    self.size -= 1\n",
        "\n",
        "    return temp\n",
        "\n",
        "def printList(l, cap):\n",
        "  for i in range(cap):\n",
        "    print(l[i], end = \" \")\n",
        "  print()\n",
        "\n",
        "s = myQueue(5)\n",
        "s.enqueue(10)\n",
        "s.enqueue(20)\n",
        "s.enqueue(30)\n",
        "s.enqueue(40)\n",
        "s.enqueue(50)\n",
        "\n",
        "print(s.getFront()) # 10\n",
        "print(s.getRear()) # 50\n",
        "\n",
        "s.dequeue()\n",
        "print(s.getFront()) # 20\n",
        "print(s.getRear()) # 50\n",
        "\n",
        "print(s.size) # 4\n",
        "print(s.isEmpty()) # False\n",
        "print(s.isFull()) # False\n",
        "\n",
        "printList(s.l, s.cap) # 20 30 40 50 0\n"
      ],
      "metadata": {
        "colab": {
          "base_uri": "https://localhost:8080/"
        },
        "id": "hd2MurxSJyli",
        "outputId": "9e528f3f-709b-4194-973d-5f0352b0f69f"
      },
      "execution_count": null,
      "outputs": [
        {
          "output_type": "stream",
          "name": "stdout",
          "text": [
            "10\n",
            "50\n",
            "20\n",
            "50\n",
            "4\n",
            "False\n",
            "False\n",
            "10 20 30 40 50 \n"
          ]
        }
      ]
    },
    {
      "cell_type": "markdown",
      "source": [
        "# Queue Implementation Stack using Queue"
      ],
      "metadata": {
        "id": "apVAT1AwNKFH"
      }
    },
    {
      "cell_type": "markdown",
      "source": [
        "\n",
        "Idea :\n",
        "\n",
        "Two Queues\n",
        "\n",
        "    q1 = To keep the actual items\n",
        "    q2 = To be used as an auxiliary queue\n",
        "\n",
        "    push(10) : q1 = [10] ; q2 = []\n",
        "\n",
        "    push(20) : q1 = [  ] ; q2 = [10]\n",
        "               q1 = [20] ; q2 = [10]\n",
        "\n",
        "               q1 = [20, 10] ; q2 = [  ]\n",
        "\n",
        "    push(x)\n",
        "\n",
        "         a) Move Everything from q1 to q2\n",
        "\n",
        "         b) Enqueue x to q1\n",
        "\n",
        "         c) Move Everything from q2 to q1\n",
        "\n",
        "    pop() : Remove front of q1\n",
        "\n",
        "    top() : Return front of q1\n",
        "\n",
        "    size() : Return size of q1\n",
        "\n",
        "    isEmpty() : Return q1.isEmpty()\n",
        "\n",
        "    isFull() : Return False\n",
        "\n",
        "\n",
        "Optimization\n",
        "\n",
        "    push(x) :\n",
        "\n",
        "         a) Enqueue x to q1\n",
        "\n",
        "         b) Move Everything from q1 to q2\n",
        "\n",
        "         c) Swap q1 and q2\n",
        "\n"
      ],
      "metadata": {
        "id": "KwIZJfDs4rc2"
      }
    },
    {
      "cell_type": "code",
      "source": [
        "from collections import deque\n",
        "\n",
        "class Stack:\n",
        "    def __init__(self):\n",
        "        self.q1 = deque()\n",
        "        self.q2 = deque()\n",
        "\n",
        "    def push(self, x):\n",
        "        self.q2.append(x)\n",
        "        # Move all elements from q1 to q2\n",
        "        while self.q1:\n",
        "            self.q2.append(self.q1.popleft())\n",
        "\n",
        "        # Swap the queues\n",
        "        self.q1, self.q2 = self.q2, self.q1\n",
        "\n",
        "    def pop(self):\n",
        "        if not self.isEmpty():\n",
        "            return self.q1.popleft()\n",
        "        return None  # Return None if the stack is empty\n",
        "\n",
        "    def top(self):\n",
        "        if not self.isEmpty():\n",
        "            return self.q1[0]\n",
        "        return None  # Return None if the stack is empty\n",
        "\n",
        "    def size(self):\n",
        "        return len(self.q1)\n",
        "\n",
        "    def isEmpty(self):\n",
        "        return len(self.q1) == 0\n",
        "\n",
        "    def isFull(self):\n",
        "        return False  # Stack cannot be full since we're using dynamic arrays\n",
        "\n",
        "# Example usage:\n",
        "s = Stack()\n",
        "s.push(10)\n",
        "s.push(20)\n",
        "s.push(30)\n",
        "\n",
        "print(s.top())  # Output: 30\n",
        "s.pop()\n",
        "print(s.top())  # Output: 20\n"
      ],
      "metadata": {
        "id": "5SBh1mtxJSM3",
        "colab": {
          "base_uri": "https://localhost:8080/"
        },
        "outputId": "f22c1b27-61cf-4f9e-f221-7a5d866d362a"
      },
      "execution_count": null,
      "outputs": [
        {
          "output_type": "stream",
          "name": "stdout",
          "text": [
            "30\n",
            "20\n"
          ]
        }
      ]
    },
    {
      "cell_type": "code",
      "source": [],
      "metadata": {
        "id": "yYmzwdGr5J7Y"
      },
      "execution_count": null,
      "outputs": []
    }
  ]
}