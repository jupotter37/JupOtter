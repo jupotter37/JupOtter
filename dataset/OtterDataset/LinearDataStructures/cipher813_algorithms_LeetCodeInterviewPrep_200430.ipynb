{
 "cells": [
  {
   "cell_type": "markdown",
   "metadata": {},
   "source": [
    "[LeetCode question list](https://leetcode.com/discuss/career/449135/how-to-effectively-use-leetcode-to-prepare-for-interviews)"
   ]
  },
  {
   "cell_type": "code",
   "execution_count": 1,
   "metadata": {},
   "outputs": [],
   "source": [
    "import heapq\n",
    "import itertools\n",
    "import collections\n",
    "import numpy as np\n",
    "from typing import List, Dict, Union, Optional\n",
    "from collections import deque"
   ]
  },
  {
   "cell_type": "code",
   "execution_count": null,
   "metadata": {},
   "outputs": [],
   "source": []
  },
  {
   "cell_type": "markdown",
   "metadata": {},
   "source": [
    "### Functions"
   ]
  },
  {
   "cell_type": "code",
   "execution_count": 2,
   "metadata": {},
   "outputs": [],
   "source": [
    "class Node:\n",
    "    \"\"\"Node for single and double linked lists\"\"\"\n",
    "    def __init__(self, x):\n",
    "        self.val = x\n",
    "        self.next = None\n",
    "        self.prev = None\n",
    "        \n",
    "class TreeNode:\n",
    "    \"\"\"Binary tree node\"\"\"\n",
    "    def __init__(self, x):\n",
    "        self.val = x\n",
    "        self.left = None\n",
    "        self.right = None"
   ]
  },
  {
   "cell_type": "code",
   "execution_count": null,
   "metadata": {},
   "outputs": [],
   "source": []
  },
  {
   "cell_type": "code",
   "execution_count": null,
   "metadata": {},
   "outputs": [],
   "source": []
  },
  {
   "cell_type": "code",
   "execution_count": null,
   "metadata": {},
   "outputs": [],
   "source": []
  },
  {
   "cell_type": "markdown",
   "metadata": {},
   "source": [
    "13. [Roman to Integer](https://leetcode.com/problems/roman-to-integer/)"
   ]
  },
  {
   "cell_type": "code",
   "execution_count": 3,
   "metadata": {},
   "outputs": [],
   "source": [
    "def roman_to_integer(s):\n",
    "    d = {\"I\":1,\"V\":5,\"X\":10,\"L\":50,\"C\":100,\"D\":500,\"M\":1000, \"CD\":400,\"CM\":900,\"XC\":90,\"IV\":4,\"IX\":9}\n",
    "    \n",
    "    num = 0\n",
    "    while len(s)>0:\n",
    "        two = s[:2]\n",
    "        one = s[0]\n",
    "        if two in d:\n",
    "            s = s[2:]\n",
    "            num+=d[two]\n",
    "        elif one in d:\n",
    "            s = s[1:]\n",
    "            num+=d[one]\n",
    "        else:\n",
    "            raise ValueError(\"Not a valid roman numeral\")\n",
    "    return num    "
   ]
  },
  {
   "cell_type": "code",
   "execution_count": 4,
   "metadata": {},
   "outputs": [
    {
     "data": {
      "text/plain": [
       "1994"
      ]
     },
     "execution_count": 4,
     "metadata": {},
     "output_type": "execute_result"
    }
   ],
   "source": [
    "roman_to_integer('MCMXCIV')"
   ]
  },
  {
   "cell_type": "code",
   "execution_count": 5,
   "metadata": {},
   "outputs": [],
   "source": [
    "assert roman_to_integer('MCMXCIV')==1994"
   ]
  },
  {
   "cell_type": "markdown",
   "metadata": {},
   "source": [
    "20. [Valid Parentheses](https://leetcode.com/problems/valid-parentheses/)"
   ]
  },
  {
   "cell_type": "code",
   "execution_count": 6,
   "metadata": {},
   "outputs": [],
   "source": [
    "def valid_paren(s):\n",
    "    left = \"{[(\"\n",
    "    right = \"}])\"\n",
    "    stack = []\n",
    "    for c in s:\n",
    "        if c in left:\n",
    "            stack.append(c)\n",
    "        elif c in right:\n",
    "            right_idx = right.index(c)\n",
    "            if len(stack)>0 and stack[-1]==left[right_idx]:\n",
    "                stack.pop()\n",
    "            else:\n",
    "                return False\n",
    "    if len(stack)==0:\n",
    "        return True\n",
    "    return False"
   ]
  },
  {
   "cell_type": "markdown",
   "metadata": {},
   "source": [
    "21. [Merge Two Sorted Lists](https://leetcode.com/problems/merge-two-sorted-lists/)"
   ]
  },
  {
   "cell_type": "code",
   "execution_count": 7,
   "metadata": {},
   "outputs": [],
   "source": [
    "def mergeTwoLists(l1, l2):\n",
    "    a = []\n",
    "\n",
    "    while l1:\n",
    "        a.append(l1.val)\n",
    "        l1 = l1.next\n",
    "\n",
    "    while l2:\n",
    "        a.append(l2.val)\n",
    "        l2 = l2.next\n",
    "\n",
    "    a = sorted(a)\n",
    "\n",
    "    root = Node(0)\n",
    "    m = root\n",
    "    for i in range(len(a)):\n",
    "        temp = Node(a[i])\n",
    "        root.next = temp\n",
    "        root = root.next\n",
    "    return m.next\n",
    "\n",
    "# NOTE this is for array only, not linked list\n",
    "# def mergeTwoLists2(l1, l2):\n",
    "#     l3 = []\n",
    "#     while(l1 or l2):\n",
    "#         if not l2 or l1 and l1[0]<=l2[0]:\n",
    "#             l3.append(l1.pop(0))\n",
    "#         else:\n",
    "#             l3.append(l2.pop(0))\n",
    "#     return l3"
   ]
  },
  {
   "cell_type": "code",
   "execution_count": 8,
   "metadata": {},
   "outputs": [],
   "source": [
    "a = Node(1)\n",
    "b = Node(2)\n",
    "c = Node(4)\n",
    "\n",
    "d = Node(1)\n",
    "e = Node(3)\n",
    "f = Node(4)\n",
    "\n",
    "# linked list 1\n",
    "a.next = b\n",
    "b.next = c\n",
    "\n",
    "# linked list 2\n",
    "d.next = e\n",
    "e.next = f"
   ]
  },
  {
   "cell_type": "code",
   "execution_count": 9,
   "metadata": {},
   "outputs": [
    {
     "name": "stdout",
     "output_type": "stream",
     "text": [
      "1\n",
      "1\n",
      "2\n",
      "3\n",
      "4\n",
      "4\n"
     ]
    }
   ],
   "source": [
    "g = mergeTwoLists(a,d)\n",
    "\n",
    "while g:\n",
    "    print(g.val)\n",
    "    g = g.next"
   ]
  },
  {
   "cell_type": "code",
   "execution_count": 10,
   "metadata": {},
   "outputs": [],
   "source": [
    "# h = mergeTwoLists2(a,d)\n",
    "\n",
    "# while h:\n",
    "#     print(h.val)\n",
    "#     h = h.next"
   ]
  },
  {
   "cell_type": "markdown",
   "metadata": {},
   "source": [
    "141. [Linked List Cycle](https://leetcode.com/problems/linked-list-cycle/)"
   ]
  },
  {
   "cell_type": "code",
   "execution_count": 11,
   "metadata": {},
   "outputs": [],
   "source": [
    "def hasCycle(head):\n",
    "    if not head or not head.next:\n",
    "        return False\n",
    "    \n",
    "    slow = head\n",
    "    fast = head.next\n",
    "    while slow!=fast:\n",
    "        if not fast or not fast.next:\n",
    "            return False\n",
    "        slow = slow.next\n",
    "        fast = fast.next.next\n",
    "    return True"
   ]
  },
  {
   "cell_type": "code",
   "execution_count": 12,
   "metadata": {},
   "outputs": [
    {
     "data": {
      "text/plain": [
       "True"
      ]
     },
     "execution_count": 12,
     "metadata": {},
     "output_type": "execute_result"
    }
   ],
   "source": [
    "# with cycle\n",
    "a = Node(1)\n",
    "b = Node(2)\n",
    "c = Node(4)\n",
    "\n",
    "a.next = b\n",
    "b.next = c\n",
    "c.next = a\n",
    "\n",
    "hasCycle(a)"
   ]
  },
  {
   "cell_type": "code",
   "execution_count": 13,
   "metadata": {},
   "outputs": [
    {
     "data": {
      "text/plain": [
       "False"
      ]
     },
     "execution_count": 13,
     "metadata": {},
     "output_type": "execute_result"
    }
   ],
   "source": [
    "# no cycle\n",
    "d = Node(1)\n",
    "e = Node(2)\n",
    "f = Node(4)\n",
    "\n",
    "d.next = e\n",
    "e.next = f\n",
    "\n",
    "hasCycle(d)"
   ]
  },
  {
   "cell_type": "markdown",
   "metadata": {},
   "source": [
    "155. [Min Stack](https://leetcode.com/problems/min-stack/)"
   ]
  },
  {
   "cell_type": "code",
   "execution_count": 14,
   "metadata": {},
   "outputs": [],
   "source": [
    "class MinStack:\n",
    "\n",
    "    def __init__(self):\n",
    "        \"\"\"\n",
    "        initialize your data structure here.\n",
    "        \"\"\"\n",
    "        self.stack = []\n",
    "        \n",
    "\n",
    "    def push(self, x: int) -> None:\n",
    "        return self.stack.append(x)\n",
    "\n",
    "    def pop(self) -> None:\n",
    "        return self.stack.pop()\n",
    "        \n",
    "\n",
    "    def top(self) -> int:\n",
    "        return self.stack[-1]\n",
    "        \n",
    "    def getMin(self) -> int:\n",
    "        return min(self.stack)"
   ]
  },
  {
   "cell_type": "markdown",
   "metadata": {},
   "source": [
    "169. [Majority Elements](https://leetcode.com/problems/majority-element/)"
   ]
  },
  {
   "cell_type": "code",
   "execution_count": 15,
   "metadata": {},
   "outputs": [],
   "source": [
    "b = [3,3,4]"
   ]
  },
  {
   "cell_type": "code",
   "execution_count": 16,
   "metadata": {},
   "outputs": [],
   "source": [
    "def majorityElement(nums):\n",
    "    d = {}\n",
    "    for c in nums:\n",
    "        if c in d:\n",
    "            d[c]+=1\n",
    "        else:\n",
    "            d[c]=1\n",
    "    return max(d, key=lambda k: d[k])"
   ]
  },
  {
   "cell_type": "code",
   "execution_count": 17,
   "metadata": {},
   "outputs": [],
   "source": [
    "assert majorityElement(b)==3"
   ]
  },
  {
   "cell_type": "markdown",
   "metadata": {},
   "source": [
    "202. [Happy Number](https://leetcode.com/problems/happy-number/)"
   ]
  },
  {
   "cell_type": "code",
   "execution_count": 18,
   "metadata": {},
   "outputs": [],
   "source": [
    "def isHappy(n):\n",
    "    i=0\n",
    "    while n!=1:\n",
    "        # stop at set number of iterations\n",
    "        if i>100:\n",
    "            return False\n",
    "        lst = [int(x)**2 for x in str(n)]\n",
    "        n = sum(lst)\n",
    "        i+=1\n",
    "    return True"
   ]
  },
  {
   "cell_type": "code",
   "execution_count": 19,
   "metadata": {},
   "outputs": [],
   "source": [
    "assert isHappy(19)==True"
   ]
  },
  {
   "cell_type": "markdown",
   "metadata": {},
   "source": [
    "204. [Count Primes](https://leetcode.com/problems/count-primes/)"
   ]
  },
  {
   "cell_type": "code",
   "execution_count": 20,
   "metadata": {},
   "outputs": [],
   "source": [
    "def isPrime(n):\n",
    "    if n==2:\n",
    "        return True\n",
    "    elif n%2==0 or n<2:\n",
    "        return False\n",
    "    else:\n",
    "        for i in range(3,int(np.sqrt(n))+1,2):\n",
    "            if n%i==0:\n",
    "                return False\n",
    "    return True\n",
    "\n",
    "def countPrimes(n):\n",
    "    primes = [x for x in range(n) if isPrime(x)]\n",
    "    return len(primes)"
   ]
  },
  {
   "cell_type": "code",
   "execution_count": 21,
   "metadata": {},
   "outputs": [],
   "source": [
    "assert countPrimes(10)==4"
   ]
  },
  {
   "cell_type": "markdown",
   "metadata": {},
   "source": [
    "242. [Valid Anagram](https://leetcode.com/problems/valid-anagram/)"
   ]
  },
  {
   "cell_type": "code",
   "execution_count": 22,
   "metadata": {},
   "outputs": [],
   "source": [
    "def isAnagram(s, t):\n",
    "    return sorted(s)==sorted(t)"
   ]
  },
  {
   "cell_type": "code",
   "execution_count": 23,
   "metadata": {},
   "outputs": [
    {
     "data": {
      "text/plain": [
       "True"
      ]
     },
     "execution_count": 23,
     "metadata": {},
     "output_type": "execute_result"
    }
   ],
   "source": [
    "isAnagram(\"anagram\",\"nagaram\")"
   ]
  },
  {
   "cell_type": "code",
   "execution_count": 24,
   "metadata": {},
   "outputs": [
    {
     "data": {
      "text/plain": [
       "False"
      ]
     },
     "execution_count": 24,
     "metadata": {},
     "output_type": "execute_result"
    }
   ],
   "source": [
    "isAnagram('rat','car')"
   ]
  },
  {
   "cell_type": "markdown",
   "metadata": {},
   "source": [
    "371. [Sum of Two Integers](https://leetcode.com/problems/sum-of-two-integers/)"
   ]
  },
  {
   "cell_type": "code",
   "execution_count": 25,
   "metadata": {},
   "outputs": [],
   "source": [
    "def getSum(a, b):\n",
    "    return sum([a,b])"
   ]
  },
  {
   "cell_type": "code",
   "execution_count": 26,
   "metadata": {},
   "outputs": [],
   "source": [
    "assert getSum(1,2)==3"
   ]
  },
  {
   "cell_type": "markdown",
   "metadata": {},
   "source": [
    "88. [Merge Sorted Array](https://leetcode.com/problems/merge-sorted-array/)"
   ]
  },
  {
   "cell_type": "code",
   "execution_count": 27,
   "metadata": {},
   "outputs": [],
   "source": [
    "def merge(nums1, m, nums2, n):\n",
    "    \"\"\"Modify nums1 in-place\"\"\"\n",
    "    for i in range(n):\n",
    "        nums1.pop()\n",
    "    for j in range(n):\n",
    "        nums1.append(nums2[j])\n",
    "    nums1.sort()   \n",
    "            \n",
    "def merge2(nums1, m, nums2, n):\n",
    "    \"\"\"Returns sort\"\"\"\n",
    "    sort = []\n",
    "    nums1 = nums1[:m]\n",
    "    while nums1 or nums2:\n",
    "        if nums1 and nums2:\n",
    "            if nums1[0]>nums2[0]:\n",
    "                sort.append(nums2[0])\n",
    "                nums2 = nums2[1:]\n",
    "            else:\n",
    "                sort.append(nums1[0])\n",
    "                nums1 = nums1[1:]\n",
    "        elif nums2:\n",
    "            sort.append(nums2[0])\n",
    "            nums2 = nums2[1:]\n",
    "        else:\n",
    "            sort.append(nums1[0])\n",
    "            nums1 = nums1[1:]\n",
    "    return sort"
   ]
  },
  {
   "cell_type": "code",
   "execution_count": 28,
   "metadata": {},
   "outputs": [],
   "source": [
    "nums1 = [1,2,3,0,0,0]\n",
    "nums2 = [2,5,6]\n",
    "m = 3\n",
    "n = 3\n",
    "\n",
    "merge(nums1, m, nums2, n)\n",
    "assert nums1==[1, 2, 2, 3, 5, 6]"
   ]
  },
  {
   "cell_type": "markdown",
   "metadata": {},
   "source": [
    "108. [Convert Sorted Array to Binary Search Tree](https://leetcode.com/problems/convert-sorted-array-to-binary-search-tree/)"
   ]
  },
  {
   "cell_type": "code",
   "execution_count": null,
   "metadata": {},
   "outputs": [],
   "source": []
  },
  {
   "cell_type": "code",
   "execution_count": 29,
   "metadata": {},
   "outputs": [],
   "source": [
    "def sortedArrayToBST(nums):\n",
    "    \"\"\"STUDY\"\"\"\n",
    "    if not nums: return None\n",
    "    if len(nums)==1: return TreeNode(nums[0])\n",
    "    \n",
    "    size = len(nums)\n",
    "    mid = size//2\n",
    "    root = TreeNode(nums[mid])\n",
    "    \n",
    "    root.left = sortedArrayToBST(nums[:mid])\n",
    "    root.right = sortedArrayToBST(nums[mid+1:])\n",
    "#     if root.left:\n",
    "#         print(f\"LEFT: {root.left.val}\")\n",
    "#     if root.right:\n",
    "#         print(f\"RIGHT: {root.right.val}\")\n",
    "    return root\n",
    "\n",
    "def makeList(TreeNode):\n",
    "    \"\"\"TODO confirm this is working correctly\"\"\"\n",
    "    if TreeNode is None:\n",
    "        return []\n",
    "    return makeList(TreeNode.left) + [TreeNode.val] + makeList(TreeNode.right)\n",
    "\n",
    "def ArrayToBST(nums):\n",
    "    nums = sorted(nums)\n",
    "    root = sortedArrayToBST(nums)\n",
    "    return root"
   ]
  },
  {
   "cell_type": "code",
   "execution_count": 30,
   "metadata": {},
   "outputs": [],
   "source": [
    "arr = [-10,-3,0,5,9]"
   ]
  },
  {
   "cell_type": "code",
   "execution_count": 31,
   "metadata": {},
   "outputs": [],
   "source": [
    "root = sortedArrayToBST(arr)\n",
    "assert makeList(root)==arr"
   ]
  },
  {
   "cell_type": "code",
   "execution_count": 32,
   "metadata": {},
   "outputs": [],
   "source": [
    "root = TreeNode(0)\n",
    "l1 = TreeNode(-3)\n",
    "r1 = TreeNode(9)\n",
    "l2 = TreeNode(-10)\n",
    "r2 = TreeNode(5)"
   ]
  },
  {
   "cell_type": "code",
   "execution_count": 33,
   "metadata": {},
   "outputs": [],
   "source": [
    "root.left = l1\n",
    "root.right = r1\n",
    "l1.left = l2\n",
    "r1.left = r2"
   ]
  },
  {
   "cell_type": "markdown",
   "metadata": {},
   "source": [
    "189. [Rotate Array](https://leetcode.com/problems/rotate-array/)"
   ]
  },
  {
   "cell_type": "code",
   "execution_count": 34,
   "metadata": {},
   "outputs": [],
   "source": [
    "def rotate(nums,k):\n",
    "    \"\"\"In place\"\"\"\n",
    "    for i in range(k):\n",
    "        n = nums.pop()\n",
    "        nums.insert(0,n)\n",
    "\n",
    "def rotate2(nums,k):\n",
    "    return nums[k+1:] + nums[:-k]"
   ]
  },
  {
   "cell_type": "code",
   "execution_count": 35,
   "metadata": {},
   "outputs": [
    {
     "data": {
      "text/plain": [
       "[5, 6, 7, 1, 2, 3, 4]"
      ]
     },
     "execution_count": 35,
     "metadata": {},
     "output_type": "execute_result"
    }
   ],
   "source": [
    "nums = [1,2,3,4,5,6,7]\n",
    "rotate(nums,3)\n",
    "nums"
   ]
  },
  {
   "cell_type": "code",
   "execution_count": 36,
   "metadata": {},
   "outputs": [],
   "source": [
    "nums = [1,2,3,4,5,6,7]\n",
    "assert rotate2(nums,3)==[5, 6, 7, 1, 2, 3, 4]\n",
    "\n",
    "# in line\n",
    "rotate(nums,3)\n",
    "assert nums == [5, 6, 7, 1, 2, 3, 4]"
   ]
  },
  {
   "cell_type": "markdown",
   "metadata": {},
   "source": [
    "205. [Isomorphic Strings](https://leetcode.com/problems/isomorphic-strings/)"
   ]
  },
  {
   "cell_type": "code",
   "execution_count": 37,
   "metadata": {},
   "outputs": [],
   "source": [
    "def isIsomorphic(s,t):\n",
    "    pairs = list(zip(s,t))\n",
    "    return len(set(pairs))==len(set(s))==len(set(t))"
   ]
  },
  {
   "cell_type": "code",
   "execution_count": 38,
   "metadata": {},
   "outputs": [],
   "source": [
    "s = \"egg\"\n",
    "t = \"add\"\n",
    "assert isIsomorphic(\"egg\",\"add\")\n",
    "assert not isIsomorphic(\"foo\",\"bar\")\n",
    "assert isIsomorphic(\"paper\",\"title\")\n",
    "assert not isIsomorphic(\"ab\",\"aa\")"
   ]
  },
  {
   "cell_type": "code",
   "execution_count": null,
   "metadata": {},
   "outputs": [],
   "source": []
  },
  {
   "cell_type": "markdown",
   "metadata": {},
   "source": [
    "226. [Invert Binary Tree](https://leetcode.com/problems/invert-binary-tree/)"
   ]
  },
  {
   "cell_type": "code",
   "execution_count": 39,
   "metadata": {},
   "outputs": [],
   "source": [
    "def invertTree(root):\n",
    "    \"\"\"STUDY\"\"\"\n",
    "    if root is None:\n",
    "        return\n",
    "    \n",
    "    invertTree(root.left)\n",
    "    invertTree(root.right)\n",
    "    \n",
    "    root.left, root.right = root.right, root.left\n",
    "    return root"
   ]
  },
  {
   "cell_type": "code",
   "execution_count": 40,
   "metadata": {},
   "outputs": [
    {
     "data": {
      "text/plain": [
       "[9, 7, 6, 4, 3, 2, 1]"
      ]
     },
     "execution_count": 40,
     "metadata": {},
     "output_type": "execute_result"
    }
   ],
   "source": [
    "inpt = ArrayToBST([4,2,7,1,3,6,9])\n",
    "outp = invertTree(inpt)\n",
    "lst = makeList(outp)\n",
    "lst"
   ]
  },
  {
   "cell_type": "markdown",
   "metadata": {},
   "source": [
    "448. [Find All Numbers Disappeared in an Array](https://leetcode.com/problems/find-all-numbers-disappeared-in-an-array/)"
   ]
  },
  {
   "cell_type": "code",
   "execution_count": 41,
   "metadata": {},
   "outputs": [],
   "source": [
    "def findDisappearedNumbers(nums):\n",
    "    \"\"\"Runtime 352ms\"\"\"\n",
    "    uniques = set(nums)\n",
    "    return [x for x in range(1,len(nums)+1) if x not in uniques]\n",
    "\n",
    "def findDisappearedNumbers1(nums):\n",
    "    \"\"\"Runtime 400ms\"\"\"\n",
    "    d = {}\n",
    "    for i in range(len(nums)):\n",
    "        if nums[i] in d:\n",
    "            d[nums[i]]+=1\n",
    "        else:\n",
    "            d[nums[i]]=1\n",
    "    return [x for x in range(1,len(nums)+1) if x not in d.keys()]\n",
    "\n",
    "\n",
    "def findDisappearedNumbers2(nums):\n",
    "    \"\"\"Time Limit Exceeded\"\"\"\n",
    "    return [x for x in range(1,len(nums)+1) if x not in nums]"
   ]
  },
  {
   "cell_type": "code",
   "execution_count": 42,
   "metadata": {},
   "outputs": [],
   "source": [
    "nums = [4,3,2,7,8,2,3,1]"
   ]
  },
  {
   "cell_type": "code",
   "execution_count": 43,
   "metadata": {},
   "outputs": [],
   "source": [
    "assert findDisappearedNumbers(nums)==[5, 6]\n",
    "assert findDisappearedNumbers([1,1])==[2]"
   ]
  },
  {
   "cell_type": "markdown",
   "metadata": {},
   "source": [
    "572. [Subtree of Another Tree](https://leetcode.com/problems/subtree-of-another-tree/)"
   ]
  },
  {
   "cell_type": "code",
   "execution_count": 44,
   "metadata": {},
   "outputs": [],
   "source": [
    "def isSubtree(s, t):\n",
    "    \"\"\"STUDY\"\"\"\n",
    "    if not (t or s):\n",
    "        return False\n",
    "    return traverseTree(s, t)\n",
    "\n",
    "def traverseTree(tree_leaf, subtree):\n",
    "    if not tree_leaf:\n",
    "        return False\n",
    "    if isStructureSame(tree_leaf, subtree):\n",
    "        return True\n",
    "    \n",
    "    return traverseTree(tree_leaf.left, subtree) or traverseTree(tree_leaf.right, subtree)\n",
    "\n",
    "def isStructureSame(root_s, root_t):\n",
    "    if not (root_s or root_t):\n",
    "        return True\n",
    "    return ((root_s and root_t) and \n",
    "            (root_s.val == root_t.val) and \n",
    "        isStructureSame(root_s.left, root_t.left) and \n",
    "        isStructureSame(root_s.right, root_t.right))"
   ]
  },
  {
   "cell_type": "markdown",
   "metadata": {},
   "source": [
    "557. [Reverse Words in a String III](https://leetcode.com/problems/reverse-words-in-a-string-iii/)"
   ]
  },
  {
   "cell_type": "code",
   "execution_count": 45,
   "metadata": {},
   "outputs": [],
   "source": [
    "def reverseWords(s):\n",
    "    words = s.split(\" \")\n",
    "    reversal = [x[::-1] for x in words]\n",
    "    return \" \".join(reversal)"
   ]
  },
  {
   "cell_type": "code",
   "execution_count": 46,
   "metadata": {},
   "outputs": [],
   "source": [
    "s = \"Let's take LeetCode contest\""
   ]
  },
  {
   "cell_type": "code",
   "execution_count": 47,
   "metadata": {},
   "outputs": [],
   "source": [
    "assert reverseWords(s)==\"s'teL ekat edoCteeL tsetnoc\""
   ]
  },
  {
   "cell_type": "markdown",
   "metadata": {},
   "source": [
    "589. [N-ary Tree Preorder Traversal](https://leetcode.com/problems/n-ary-tree-preorder-traversal/)"
   ]
  },
  {
   "cell_type": "code",
   "execution_count": 48,
   "metadata": {},
   "outputs": [],
   "source": [
    "# class Node:\n",
    "#     def __init__(self, val, children):\n",
    "#         self.val = val\n",
    "#         self.children = children\n",
    "def preorder(root):\n",
    "    \"\"\"STUDY. Iterative\"\"\"\n",
    "    if not root:\n",
    "        return []\n",
    "    res = []\n",
    "    fifo = deque()\n",
    "    fifo.append(root)\n",
    "    while fifo:\n",
    "        node = fifo.popleft()\n",
    "        res.append(node.val)\n",
    "        for c in node.children[::-1]:\n",
    "            fifo.appendleft(c)\n",
    "    return res\n",
    "    \n",
    "def preorder(root):\n",
    "    \"\"\"STUDY.  Recursive\"\"\"\n",
    "    if not root:\n",
    "        return []\n",
    "    result = [root.val]\n",
    "    for c in root.children:\n",
    "        result.extend(preorder(c))\n",
    "    return result"
   ]
  },
  {
   "cell_type": "markdown",
   "metadata": {},
   "source": [
    "605. [Can Place Flowers](https://leetcode.com/problems/can-place-flowers/)"
   ]
  },
  {
   "cell_type": "code",
   "execution_count": 49,
   "metadata": {},
   "outputs": [],
   "source": [
    "class Solution:\n",
    "    def canPlaceFlowers(self, flowerbed, n):\n",
    "        count = 0\n",
    "        if flowerbed==[0]:\n",
    "            return True\n",
    "        for i in range(len(flowerbed)-1):\n",
    "            if flowerbed[i]==0 and flowerbed[i+1]==0 and i==0:\n",
    "                flowerbed[i]=1\n",
    "                count+=1\n",
    "            elif flowerbed[i]==0 and flowerbed[i+1]==0 and i==len(flowerbed)-2:\n",
    "                flowerbed[i+1]=1\n",
    "                count+=1\n",
    "            elif flowerbed[i]==0 and flowerbed[i-1]==0 and flowerbed[i+1]==0:\n",
    "                flowerbed[i]=1\n",
    "                count+=1\n",
    "            else:\n",
    "                pass\n",
    "        print(flowerbed)\n",
    "        return count>=n"
   ]
  },
  {
   "cell_type": "code",
   "execution_count": 50,
   "metadata": {},
   "outputs": [
    {
     "name": "stdout",
     "output_type": "stream",
     "text": [
      "[1, 0, 1, 0, 1, 0, 1]\n"
     ]
    }
   ],
   "source": [
    "flowerbed = [1,0,0,0,1,0,0]\n",
    "n = 2\n",
    "assert Solution().canPlaceFlowers([1,0,0,0,1,0,0], 2)"
   ]
  },
  {
   "cell_type": "code",
   "execution_count": 51,
   "metadata": {},
   "outputs": [],
   "source": [
    "assert Solution().canPlaceFlowers([0], 1)"
   ]
  },
  {
   "cell_type": "markdown",
   "metadata": {},
   "source": [
    "617. [Merge Two Binary Trees](https://leetcode.com/problems/merge-two-binary-trees/)"
   ]
  },
  {
   "cell_type": "code",
   "execution_count": 52,
   "metadata": {},
   "outputs": [],
   "source": [
    "# Definition for a binary tree node.\n",
    "# class TreeNode:\n",
    "#     def __init__(self, x):\n",
    "#         self.val = x\n",
    "#         self.left = None\n",
    "#         self.right = None\n",
    "\n",
    "class Solution:\n",
    "    def mergeTrees(self, t1, t2):\n",
    "        \"\"\"STUDY Recursion\"\"\"\n",
    "        if not t1:\n",
    "            return t2\n",
    "        elif not t2:\n",
    "            return t1\n",
    "        \n",
    "        # preorder traversal\n",
    "        t1.val += t2.val\n",
    "        t1.left = self.mergeTrees(t1.left, t2.left)\n",
    "        t1.right = self.mergeTrees(t1.right, t2.right)\n",
    "        return t1\n",
    "    \n",
    "#     def mergeTrees2(self, t1, t2):\n",
    "#         \"\"\"TODO Iterative\"\"\"\n",
    "#         if not t1:\n",
    "#             return t2\n",
    "#         if not t2:\n",
    "#             return t1\n",
    "#         stack = []\n",
    "#         stack.push(TreeNode)"
   ]
  },
  {
   "cell_type": "markdown",
   "metadata": {},
   "source": [
    "665. [Non-decreasing Array](https://leetcode.com/problems/non-decreasing-array/)"
   ]
  },
  {
   "cell_type": "code",
   "execution_count": 53,
   "metadata": {},
   "outputs": [],
   "source": [
    "class Solution:\n",
    "    def checkPossibility(self, nums):\n",
    "        \"\"\"STUDY Locate and analyze problem index, O(n)\"\"\"\n",
    "        p = None\n",
    "        for i in range(len(nums)-1):\n",
    "            if nums[i]>nums[i+1]:\n",
    "                if p is not None:\n",
    "                    return False\n",
    "                p = i\n",
    "                \n",
    "        return (p is None or \n",
    "                p == 0 or \n",
    "                p == len(nums)-2 or \n",
    "                nums[p-1]<=nums[p+1] or \n",
    "                nums[p]<=nums[p+2])\n",
    "    \n",
    "    \n",
    "    # attempt 1, output limit exceeded \"brute force\"\n",
    "#     def checkIncreasing(self, nums):\n",
    "#         \"\"\"Check if numbers are always increasing\"\"\"\n",
    "#         for i in range(len(nums)-1):\n",
    "#             if nums[i]>nums[i+1]:\n",
    "#                 return False\n",
    "#         return True\n",
    "    \n",
    "#     def checkPossibility(self, nums):\n",
    "#         for i in range(len(nums)):\n",
    "#             nums1 = nums[:i] + nums[i+1:]\n",
    "#             print(nums1)\n",
    "#             if self.checkIncreasing(nums1):\n",
    "#                 return True\n",
    "#         return False"
   ]
  },
  {
   "cell_type": "code",
   "execution_count": 54,
   "metadata": {},
   "outputs": [
    {
     "data": {
      "text/plain": [
       "False"
      ]
     },
     "execution_count": 54,
     "metadata": {},
     "output_type": "execute_result"
    }
   ],
   "source": [
    "Solution().checkPossibility([3,4,2,3])"
   ]
  },
  {
   "cell_type": "code",
   "execution_count": 55,
   "metadata": {},
   "outputs": [
    {
     "data": {
      "text/plain": [
       "True"
      ]
     },
     "execution_count": 55,
     "metadata": {},
     "output_type": "execute_result"
    }
   ],
   "source": [
    "Solution().checkPossibility([2,3,3,2,4])"
   ]
  },
  {
   "cell_type": "code",
   "execution_count": 56,
   "metadata": {},
   "outputs": [],
   "source": [
    "assert Solution().checkPossibility([2,3,3,2,4])\n",
    "assert Solution().checkPossibility([4,2,3])\n",
    "assert not Solution().checkPossibility([3,4,2,3])"
   ]
  },
  {
   "cell_type": "code",
   "execution_count": 57,
   "metadata": {},
   "outputs": [],
   "source": [
    "assert Solution().checkPossibility([1,1,1])\n",
    "assert Solution().checkPossibility([4,2,3])\n",
    "assert Solution().checkPossibility([4,2,1])==False"
   ]
  },
  {
   "cell_type": "markdown",
   "metadata": {},
   "source": [
    "669. [Trim a Binary Search Tree](https://leetcode.com/problems/trim-a-binary-search-tree/)"
   ]
  },
  {
   "cell_type": "code",
   "execution_count": 58,
   "metadata": {},
   "outputs": [],
   "source": [
    "# Definition for a binary tree node.\n",
    "class TreeNode:\n",
    "    def __init__(self, x):\n",
    "        self.val = x\n",
    "        self.left = None\n",
    "        self.right = None\n",
    "\n",
    "class Solution:\n",
    "    def trimBST(self, root: TreeNode, L: int, R: int) -> TreeNode:\n",
    "        \"\"\"STUDY recursion O(n)\"\"\"\n",
    "        def trim(node):\n",
    "            if not node:\n",
    "                return None\n",
    "            elif node.val > R:\n",
    "                return trim(node.left)\n",
    "            elif node.val < L:\n",
    "                return trim(node.right)\n",
    "            else:\n",
    "                node.left = trim(node.left)\n",
    "                node.right = trim(node.right)\n",
    "                return node\n",
    "            \n",
    "        return trim(root)"
   ]
  },
  {
   "cell_type": "markdown",
   "metadata": {},
   "source": [
    "674. [Longest Continuous Increasing Subsequence](https://leetcode.com/problems/longest-continuous-increasing-subsequence/)"
   ]
  },
  {
   "cell_type": "code",
   "execution_count": 59,
   "metadata": {},
   "outputs": [],
   "source": [
    "class Solution:\n",
    "    def findLengthOfLCIS(self, nums):\n",
    "        # traverse once to map breaks\n",
    "        breaks = []\n",
    "        for i in range(len(nums)-1):\n",
    "            if nums[i]>=nums[i+1]:\n",
    "                breaks.append(i+1)\n",
    "        if len(breaks)==len(nums)-1:\n",
    "            return 1\n",
    "        elif len(breaks)==0:\n",
    "            return len(nums)\n",
    "        else:\n",
    "            brk_len = []\n",
    "            for j in range(len(breaks)-1):\n",
    "                brk_len.append(breaks[j+1] - breaks[j])\n",
    "            brk_len.append(breaks[0])\n",
    "            brk_len.append(len(nums)-breaks[-1])\n",
    "        return max(brk_len)\n",
    "    \n",
    "    \n",
    "    # attempt 1, time limit exceeded\n",
    "#     def isIncreasing(self, nums):\n",
    "#         for i in range(len(nums)-1):\n",
    "#             if nums[i]>=nums[i+1]:\n",
    "#                 return False\n",
    "#         return True\n",
    "            \n",
    "    \n",
    "#     def findLengthOfLCIS(self, nums):\n",
    "#         mx = 0\n",
    "#         for i in range(len(nums)):\n",
    "#             for j in range(i,len(nums)+1):\n",
    "#                 arr = nums[i:j]\n",
    "#                 if self.isIncreasing(arr):\n",
    "#                     mx = max(mx, len(arr))\n",
    "#         return mx"
   ]
  },
  {
   "cell_type": "code",
   "execution_count": null,
   "metadata": {},
   "outputs": [],
   "source": []
  },
  {
   "cell_type": "code",
   "execution_count": 60,
   "metadata": {},
   "outputs": [],
   "source": [
    "assert Solution().findLengthOfLCIS([1,3,5,7])==4"
   ]
  },
  {
   "cell_type": "code",
   "execution_count": 61,
   "metadata": {},
   "outputs": [],
   "source": [
    "assert Solution().findLengthOfLCIS([2,2,2,2,2])==1"
   ]
  },
  {
   "cell_type": "markdown",
   "metadata": {},
   "source": [
    "703. [Kth Largest Element in a Stream](https://leetcode.com/problems/kth-largest-element-in-a-stream/)"
   ]
  },
  {
   "cell_type": "code",
   "execution_count": 62,
   "metadata": {},
   "outputs": [],
   "source": [
    "class KthLargest:\n",
    "    \"\"\"STUDY min heap, import heapq, python native support for min heap\"\"\"\n",
    "    def __init__(self, k: int, nums: List[int]):\n",
    "        self.k = k\n",
    "        \n",
    "        # if elements more than K in nums\n",
    "        hp = heapq.nlargest(k, nums)\n",
    "        heapq.heapify(hp)\n",
    "        \n",
    "        self.h = hp\n",
    "\n",
    "    def add(self, val: int) -> int:\n",
    "        \n",
    "        # maintaining a heap of size K\n",
    "        if len(self.h)<self.k:\n",
    "            heapq.heappush(self.h, val)\n",
    "            \n",
    "        # if element is grater than or equal to current kth smallest element, this\n",
    "        # element would now consitute the k largest elements\n",
    "        elif val>= self.h[0]:\n",
    "            heapq.heapreplace(self.h, val)\n",
    "            \n",
    "        # since element at top of heap of K largest elements would be smallest among\n",
    "        # all k elements\n",
    "        return self.h[0]\n",
    "\n",
    "\n",
    "class KthLargest2:\n",
    "    \"\"\"STUDY min heap, full implementation\"\"\"\n",
    "    def __init__(self, k: int, nums: List[int]):\n",
    "        self.k = k\n",
    "        self.nums = nums\n",
    "        self.size = len(nums)\n",
    "        \n",
    "        self.buildMinHeap()\n",
    "        self.resize()\n",
    "        \n",
    "    def heapify(self, i):\n",
    "        left, right = 2*i+1, 2*i+2\n",
    "        minVal = i\n",
    "        \n",
    "        if left < self.size and self.nums[left]<self.nums[minVal]:\n",
    "            minVal = left\n",
    "        if right < self.size and self.nums[right]<self.nums[minVal]:\n",
    "            minVal = right\n",
    "            \n",
    "        if minVal !=i:\n",
    "            self.nums[i], self.nums[minVal] = self.nums[minVal], self.nums[i]\n",
    "            self.heapify(minVal)\n",
    "            \n",
    "    def buildMinHeap(self):\n",
    "        for i in range(self.size // 2 -1, -1, -1):\n",
    "            self.heapify(i)\n",
    "            \n",
    "    def popMin(self):\n",
    "        self.nums[0] = self.nums[self.size - 1]\n",
    "        self.size -= 1\n",
    "        self.heapify(0)\n",
    "        \n",
    "    def insert(self, val):\n",
    "        if self.size == len(self.nums):\n",
    "            self.nums.append(val)\n",
    "        else:\n",
    "            self.nums[self.size] = val\n",
    "        index = self.size\n",
    "        self.size +=1\n",
    "        \n",
    "        while (index - 1)//2 >= 0:\n",
    "            parent = (index - 1)//2\n",
    "            if self.nums[parent]>self.nums[index]:\n",
    "                self.nums[parent], self.nums[index] = self.nums[index], self.nums[parent]\n",
    "                index = parent\n",
    "            else:\n",
    "                break\n",
    "                \n",
    "    def resize(self):\n",
    "        while self.size > self.k:\n",
    "            self.popMin()\n",
    "        \n",
    "\n",
    "    def add(self, val: int) -> int:\n",
    "        self.insert(val)\n",
    "        self.resize()\n",
    "        return self.nums[0]\n",
    "    \n",
    "\n",
    "    # 2nd attempt - output limit exceeded\n",
    "#     def __init__(self, k: int, nums: List[int]):\n",
    "#         self.k = k\n",
    "#         self.nums = sorted(nums)\n",
    "\n",
    "#     def add(self, val: int) -> int:\n",
    "#         i = 0\n",
    "#         print(self.nums, val)\n",
    "#         if len(self.nums)<1 or self.nums[-1]<=val:\n",
    "#             self.nums.append(val)\n",
    "        \n",
    "#         else:\n",
    "#             while self.nums[i]<val and i<=len(self.nums):\n",
    "#                 i+=1\n",
    "#             self.nums.insert(i,val)\n",
    "#         return self.nums[-self.k]   \n",
    "    \n",
    "\n",
    "    # 1st attempt - output limit exceeded\n",
    "#     def __init__(self, k: int, nums: List[int]):\n",
    "#         self.k = k\n",
    "#         self.nums = nums\n",
    "\n",
    "#     def add(self, val: int) -> int:\n",
    "#         self.nums = self.nums + [val]\n",
    "#         print(self.nums)\n",
    "#         return sorted(self.nums)[-self.k]"
   ]
  },
  {
   "cell_type": "code",
   "execution_count": 63,
   "metadata": {},
   "outputs": [],
   "source": [
    "# arr = [4,5,8,2]\n",
    "# obj = KthLargest(3, arr)\n",
    "# obj.add(3)\n",
    "# obj.add(5)\n",
    "# obj.add(10)\n",
    "# obj.add(9)\n",
    "# obj.add(4)"
   ]
  },
  {
   "cell_type": "code",
   "execution_count": 64,
   "metadata": {},
   "outputs": [
    {
     "data": {
      "text/plain": [
       "4"
      ]
     },
     "execution_count": 64,
     "metadata": {},
     "output_type": "execute_result"
    }
   ],
   "source": [
    "obj = KthLargest(1,[])\n",
    "obj.add(-3)\n",
    "obj.add(-2)\n",
    "obj.add(-4)\n",
    "obj.add(0)\n",
    "obj.add(4)"
   ]
  },
  {
   "cell_type": "markdown",
   "metadata": {},
   "source": [
    "705. [Design HashSet](https://leetcode.com/problems/design-hashset/)"
   ]
  },
  {
   "cell_type": "code",
   "execution_count": 65,
   "metadata": {},
   "outputs": [],
   "source": [
    "class ListNode:\n",
    "    \"\"\"For linked list construction\"\"\"\n",
    "    def __init__(self, val):\n",
    "        self.val = val\n",
    "        self.next = None\n",
    "\n",
    "class MyHashSet:\n",
    "    \"\"\"STUDY full implementation in python\"\"\"\n",
    "    def __init__(self, bins=10000):\n",
    "        \"\"\"\n",
    "        Initialize your data structure here.\n",
    "        \"\"\"\n",
    "        self.arr = [None for i in range(bins)]\n",
    "        self.bins = bins\n",
    "\n",
    "    def add(self, key: int) -> None:\n",
    "        d, m = divmod(key, self.bins)\n",
    "        if not self.arr[m]:\n",
    "            self.arr[m] = ListNode(d)\n",
    "        else:\n",
    "            cur = self.arr[m]\n",
    "            while cur:\n",
    "                if cur.val ==d:\n",
    "                    return\n",
    "                pre = cur\n",
    "                cur = cur.next\n",
    "            pre.next = ListNode(d)\n",
    "            \n",
    "    def remove(self, key: int) -> None:\n",
    "        d, m = divmod(key, self.bins)\n",
    "        if not self.arr[m]:\n",
    "            return\n",
    "        else:\n",
    "            head = pre = ListNode(-1)\n",
    "            head.next = pre.next = cur = self.arr[m]\n",
    "            while cur:\n",
    "                if cur.val == d:\n",
    "                    pre.next = cur.next\n",
    "                    self.arr[m] = head.next\n",
    "                    return\n",
    "                pre = cur\n",
    "                cur = cur.next\n",
    "            return \n",
    "\n",
    "    def contains(self, key: int) -> bool:\n",
    "        \"\"\"\n",
    "        Returns true if this set contains the specified element\n",
    "        \"\"\"\n",
    "        d, m = divmod(key, self.bins)\n",
    "        if not self.arr[m]:\n",
    "            return False\n",
    "        else:\n",
    "            cur = self.arr[m]\n",
    "            while cur:\n",
    "                if cur.val == d:\n",
    "                    return True\n",
    "                cur = cur.next\n",
    "            return False\n",
    "\n",
    "\n",
    "\n",
    "class MyHashSet2:\n",
    "    \"\"\"STUDY easy implementation in python\"\"\"\n",
    "    def __init__(self):\n",
    "        \"\"\"\n",
    "        Initialize your data structure here.\n",
    "        \"\"\"\n",
    "        self.data = []\n",
    "        \n",
    "\n",
    "    def add(self, key: int) -> None:\n",
    "        if (key not in self.data):\n",
    "            self.data.append(key)\n",
    "        \n",
    "\n",
    "    def remove(self, key: int) -> None:\n",
    "        if (key in self.data):\n",
    "            self.data.remove(key)\n",
    "        \n",
    "\n",
    "    def contains(self, key: int) -> bool:\n",
    "        \"\"\"\n",
    "        Returns true if this set contains the specified element\n",
    "        \"\"\"\n",
    "        return key in self.data"
   ]
  },
  {
   "cell_type": "code",
   "execution_count": 66,
   "metadata": {},
   "outputs": [],
   "source": [
    "hashSet = MyHashSet()"
   ]
  },
  {
   "cell_type": "code",
   "execution_count": 67,
   "metadata": {},
   "outputs": [],
   "source": [
    "hashSet.add(1)"
   ]
  },
  {
   "cell_type": "code",
   "execution_count": 68,
   "metadata": {},
   "outputs": [],
   "source": [
    "hashSet.add(2)"
   ]
  },
  {
   "cell_type": "code",
   "execution_count": 69,
   "metadata": {},
   "outputs": [
    {
     "data": {
      "text/plain": [
       "True"
      ]
     },
     "execution_count": 69,
     "metadata": {},
     "output_type": "execute_result"
    }
   ],
   "source": [
    "hashSet.contains(1)"
   ]
  },
  {
   "cell_type": "code",
   "execution_count": 70,
   "metadata": {},
   "outputs": [
    {
     "data": {
      "text/plain": [
       "False"
      ]
     },
     "execution_count": 70,
     "metadata": {},
     "output_type": "execute_result"
    }
   ],
   "source": [
    "hashSet.contains(3)"
   ]
  },
  {
   "cell_type": "code",
   "execution_count": 71,
   "metadata": {},
   "outputs": [],
   "source": [
    "hashSet.add(2)"
   ]
  },
  {
   "cell_type": "code",
   "execution_count": 72,
   "metadata": {},
   "outputs": [
    {
     "data": {
      "text/plain": [
       "True"
      ]
     },
     "execution_count": 72,
     "metadata": {},
     "output_type": "execute_result"
    }
   ],
   "source": [
    "hashSet.contains(2)"
   ]
  },
  {
   "cell_type": "code",
   "execution_count": 73,
   "metadata": {},
   "outputs": [],
   "source": [
    "hashSet.remove(2)"
   ]
  },
  {
   "cell_type": "code",
   "execution_count": 74,
   "metadata": {},
   "outputs": [
    {
     "data": {
      "text/plain": [
       "False"
      ]
     },
     "execution_count": 74,
     "metadata": {},
     "output_type": "execute_result"
    }
   ],
   "source": [
    "hashSet.contains(2)"
   ]
  },
  {
   "cell_type": "markdown",
   "metadata": {},
   "source": [
    "852. [Peak Index in a Mountain Array](https://leetcode.com/problems/peak-index-in-a-mountain-array/)"
   ]
  },
  {
   "cell_type": "code",
   "execution_count": 75,
   "metadata": {},
   "outputs": [],
   "source": [
    "class Solution:\n",
    "    def peakIndexInMountainArray(self, A: List[int]) -> int:\n",
    "        return A.index(max(A))"
   ]
  },
  {
   "cell_type": "code",
   "execution_count": 76,
   "metadata": {},
   "outputs": [],
   "source": [
    "assert Solution().peakIndexInMountainArray([0,1,0])==1\n",
    "assert Solution().peakIndexInMountainArray([0,2,1,0])==1"
   ]
  },
  {
   "cell_type": "markdown",
   "metadata": {},
   "source": [
    "1160. [Find Words That Can Be Formed by Characters](https://leetcode.com/problems/find-words-that-can-be-formed-by-characters/)"
   ]
  },
  {
   "cell_type": "code",
   "execution_count": 77,
   "metadata": {},
   "outputs": [],
   "source": [
    "class Solution:\n",
    "    def countCharacters(self, words: List[str], chars: str) -> int:\n",
    "        count = 0\n",
    "        char_map = {}\n",
    "        for c in chars:\n",
    "            if c in char_map:\n",
    "                char_map[c]+=1\n",
    "            else:\n",
    "                char_map[c]=1\n",
    "        for w in words:\n",
    "            flag = False\n",
    "            char_map1 = char_map.copy()\n",
    "            for c in w:\n",
    "                if c not in char_map1:\n",
    "                    flag = True\n",
    "                else:\n",
    "                    char_map1[c]-=1\n",
    "            for v in char_map1.values():\n",
    "                if v<0:\n",
    "                    flag = True\n",
    "            if not flag:\n",
    "                count+=len(w)\n",
    "        return count"
   ]
  },
  {
   "cell_type": "code",
   "execution_count": 78,
   "metadata": {},
   "outputs": [
    {
     "data": {
      "text/plain": [
       "6"
      ]
     },
     "execution_count": 78,
     "metadata": {},
     "output_type": "execute_result"
    }
   ],
   "source": [
    "Solution().countCharacters([\"cat\",\"bt\",\"hat\",\"tree\"],\"atach\")"
   ]
  },
  {
   "cell_type": "markdown",
   "metadata": {},
   "source": [
    "5. [Longest Palindromic Substring](https://leetcode.com/problems/longest-palindromic-substring/)"
   ]
  },
  {
   "cell_type": "code",
   "execution_count": 79,
   "metadata": {},
   "outputs": [],
   "source": [
    "class Solution:\n",
    "    \"\"\"STUDY - Expand Around Center\"\"\"\n",
    "    def longestPalindrome(self, s: str) -> str:\n",
    "        if not s or len(s)<1:\n",
    "            return \n",
    "        start, end = 0, 0\n",
    "        for i in range(len(s)):\n",
    "            len1 = self.expandAroundCenter(s,i,i)\n",
    "            len2 = self.expandAroundCenter(s,i,i+1)\n",
    "            mx = max(len1, len2)\n",
    "            if mx > end - start:\n",
    "                start = i - (mx - 1)//2\n",
    "                end = i + mx // 2\n",
    "        return s[start:end+1]\n",
    "    \n",
    "    def expandAroundCenter(self, s, left, right):\n",
    "        L = left\n",
    "        R = right\n",
    "        while L>=0 and R<len(s) and s[L]==s[R]:\n",
    "            L-=1\n",
    "            R+=1\n",
    "        return R - L - 1\n",
    "    \n",
    "    \n",
    "    # attempt 1 - time limit exceeded\n",
    "#     def longestPalindrome(self, s: str) -> str:\n",
    "#         mx = 0\n",
    "#         palindrome = \"\"\n",
    "#         for i in range(len(s)):\n",
    "#             for j in range(i, len(s)+1):\n",
    "#                 ss = s[i:j]\n",
    "#                 if self.isPalindrome(ss):\n",
    "#                     if mx<len(ss):\n",
    "#                         mx = len(ss)\n",
    "#                         palindrome = ss\n",
    "#         return palindrome\n",
    "    \n",
    "#     def isPalindrome(self, s: str) -> bool:\n",
    "#         if len(s)<2:\n",
    "#             return True\n",
    "#         if not s[0]==s[-1]:\n",
    "#             return False\n",
    "#         else:\n",
    "#             return self.isPalindrome(s[1:-1])"
   ]
  },
  {
   "cell_type": "code",
   "execution_count": null,
   "metadata": {},
   "outputs": [],
   "source": []
  },
  {
   "cell_type": "code",
   "execution_count": 80,
   "metadata": {},
   "outputs": [],
   "source": [
    "assert Solution().longestPalindrome('a')=='a'\n",
    "assert Solution().longestPalindrome('babad')=='aba'\n",
    "assert Solution().longestPalindrome('cbbd')=='bb'"
   ]
  },
  {
   "cell_type": "markdown",
   "metadata": {},
   "source": [
    "11. [Container With Most Water](https://leetcode.com/problems/container-with-most-water/)"
   ]
  },
  {
   "cell_type": "code",
   "execution_count": 81,
   "metadata": {},
   "outputs": [],
   "source": [
    "class Solution:\n",
    "    \n",
    "    def maxArea(self, height: List[int]) -> int:\n",
    "        \"\"\"STUDY - Two Pointer Approach\"\"\"\n",
    "        maxarea = 0\n",
    "        l = 0\n",
    "        r = len(height)-1\n",
    "        while l<r:\n",
    "            maxarea = max(maxarea, min(height[l], height[r])*(r-l))\n",
    "            if height[l]<height[r]:\n",
    "                l+=1\n",
    "            else:\n",
    "                r-=1\n",
    "        return maxarea\n",
    "        \n",
    "#         area = self._calcArea(height)\n",
    "#         L, R = 0, len(height)\n",
    "#         while L>=0 and R<=len(height):\n",
    "#             area1 = self._calcArea(height[L+1:R])\n",
    "#             area2 = self._calcArea(height[L:R-1])\n",
    "#             if max(area1,area2)>area:\n",
    "#                 if \n",
    "                \n",
    "            \n",
    "#     def _calcArea(self, height):\n",
    "#         ht = min(height[0],height[-1])\n",
    "#         wd = len(height)\n",
    "#         return ht*wd\n",
    "    \n",
    "    # attempt 1 - time limit exceeded\n",
    "#     def maxArea(self, height: List[int]) -> int:\n",
    "#         area = 0\n",
    "#         for i in range(len(height)-1):\n",
    "#             for j in range(i,len(height)):\n",
    "#                 ht = min(height[i],height[j])\n",
    "#                 wd = len(height[i:j])\n",
    "#                 area = max(area,ht*wd)\n",
    "#         return area"
   ]
  },
  {
   "cell_type": "code",
   "execution_count": 82,
   "metadata": {},
   "outputs": [],
   "source": [
    "arr = [1,8,6,2,5,4,8,3,7]\n",
    "\n",
    "assert Solution().maxArea(arr)==49"
   ]
  },
  {
   "cell_type": "markdown",
   "metadata": {},
   "source": [
    "17. [Letter Combinations of a Phone Number](https://leetcode.com/problems/letter-combinations-of-a-phone-number/)"
   ]
  },
  {
   "cell_type": "code",
   "execution_count": 83,
   "metadata": {},
   "outputs": [],
   "source": [
    "class Solution:\n",
    "    \n",
    "    def letterCombinations(self, digits: str) -> List[str]:\n",
    "        \"\"\"STUDY - backtracking\"\"\"\n",
    "        phone = {'2':'abc','3':'def','4':'ghi','5':'jkl','6':'mno','7':'pqrs','8':'tuv','9':'wxyz'}\n",
    "        \n",
    "        def backtrack(combination, next_digits):\n",
    "\n",
    "            if len(next_digits)==0:\n",
    "                output.append(combination)\n",
    "            else:\n",
    "                for letter in phone[next_digits[0]]:\n",
    "                    backtrack(combination + letter, next_digits[1:])\n",
    "                    \n",
    "                    \n",
    "        output = []\n",
    "        \n",
    "        if digits:\n",
    "            backtrack(\"\", digits)\n",
    "        return output"
   ]
  },
  {
   "cell_type": "code",
   "execution_count": 84,
   "metadata": {},
   "outputs": [],
   "source": [
    "assert Solution().letterCombinations(\"23\")==['ad', 'ae', 'af', 'bd', 'be', 'bf', 'cd', 'ce', 'cf']"
   ]
  },
  {
   "cell_type": "markdown",
   "metadata": {},
   "source": [
    "22. [Generate Parentheses](https://leetcode.com/problems/generate-parentheses/)"
   ]
  },
  {
   "cell_type": "code",
   "execution_count": 85,
   "metadata": {},
   "outputs": [],
   "source": [
    "class Solution:\n",
    "\n",
    "    def generateParenthesis(self, n: int) -> List[str]:\n",
    "        \"\"\"STUDY - closure number\"\"\"\n",
    "        ans = []\n",
    "        if n == 0:\n",
    "            return ['']\n",
    "        else:\n",
    "            for i in range(n):\n",
    "                for left in self.generateParenthesis(i):\n",
    "                    for right in self.generateParenthesis(n-1-i):\n",
    "                        ans.append(f\"({left}){right}\")\n",
    "        return ans\n",
    "                        \n",
    "    def generateParenthesis2(self, n: int) -> List[str]:\n",
    "        \"\"\"STUDY - backtracking\"\"\"\n",
    "        ans = []\n",
    "    \n",
    "        def backtrack(s = '', left = 0, right = 0):\n",
    "            \"\"\"\n",
    "\n",
    "            Arguments:\n",
    "                s (str): current string \n",
    "                left (int): count of open parens\n",
    "                right (int): count of closed parens\n",
    "            \"\"\"\n",
    "\n",
    "            if len(s)==n*2:\n",
    "                ans.append(s)\n",
    "                return\n",
    "\n",
    "            if left < n:\n",
    "                backtrack(s + \"(\", left+1, right)\n",
    "\n",
    "            if right < left:\n",
    "                backtrack(s +\")\", left, right+1)\n",
    "\n",
    "        backtrack()\n",
    "        return ans\n",
    "                \n",
    "#     def generateParenthesis(self, n: int) -> List[str]:\n",
    "#         \"\"\"STUDY - backtracking\"\"\"\n",
    "#         ans = []\n",
    "#         self.backtrack(ans, \"\", 0, 0, n)\n",
    "#         return ans\n",
    "    \n",
    "#     def backtrack(self, ans, cur, left, right, n):\n",
    "#         \"\"\"\n",
    "        \n",
    "#         Arguments:\n",
    "#             ans (list): list of valid parentheses\n",
    "#             cur (str): current string \n",
    "#             left (int): count of open parens\n",
    "#             right (int): count of closed parens\n",
    "#             mx (int): number of paren pairs\n",
    "#         \"\"\"\n",
    "        \n",
    "#         if len(cur)==n*2:\n",
    "#             ans.append(cur)\n",
    "#             return\n",
    "        \n",
    "#         if left < n:\n",
    "#             self.backtrack(ans, cur + \"(\", left+1, right, n)\n",
    "        \n",
    "#         if right < left:\n",
    "#             self.backtrack(ans, cur+\")\", left, right+1, n)\n",
    "    \n",
    "    \n",
    "    # attempt 1 - time limit exceeded\n",
    "#     def generateParenthesis(self, n: int) -> List[str]:\n",
    "#         string = \"()\"*n\n",
    "#         total = list(set([''.join(x) for x in set(itertools.permutations(string))]))\n",
    "#         valid = []\n",
    "#         for s in total:\n",
    "#             if self.checkCorrectParen(s):\n",
    "#                 valid.append(s)\n",
    "#         return list(set(valid))\n",
    "    \n",
    "#     def checkCorrectParen(self, s):\n",
    "#         stack = []\n",
    "#         for e in s:\n",
    "#             if e==\"(\":\n",
    "#                 stack.append(e)\n",
    "#             elif e==\")\" and len(stack)>0:\n",
    "#                 stack.pop()\n",
    "#             else:\n",
    "#                 return False\n",
    "#         return len(stack)==0"
   ]
  },
  {
   "cell_type": "code",
   "execution_count": 86,
   "metadata": {},
   "outputs": [],
   "source": [
    "assert Solution().generateParenthesis(3)==['()()()', '()(())', '(())()', '(()())', '((()))']\n",
    "assert Solution().generateParenthesis2(3)==['((()))', '(()())', '(())()', '()(())', '()()()']"
   ]
  },
  {
   "cell_type": "markdown",
   "metadata": {},
   "source": [
    "33. [Search in Rotated Sorted Array](https://leetcode.com/problems/search-in-rotated-sorted-array/)"
   ]
  },
  {
   "cell_type": "code",
   "execution_count": 87,
   "metadata": {},
   "outputs": [],
   "source": [
    "class Solution:\n",
    "    def search(self, nums: List[int], target: int) -> int:    \n",
    "        \"\"\"STUDY - one pass binary search\"\"\"\n",
    "        start, end = 0, len(nums)-1\n",
    "        while start<=end:\n",
    "            mid = start + (end-start)//2\n",
    "            if nums[mid]==target:\n",
    "                return mid\n",
    "            elif nums[mid]>=nums[start]:\n",
    "                \n",
    "                # target between start and mid\n",
    "                if target>=nums[start] and target<nums[mid]:\n",
    "                    end = mid - 1\n",
    "                \n",
    "                # target between mid and end\n",
    "                else:\n",
    "                    start = mid + 1\n",
    "            else:\n",
    "                # target between mid and end\n",
    "                if target<=nums[end] and target>nums[mid]:\n",
    "                    start = mid+1\n",
    "                \n",
    "                # target between start and mid\n",
    "                else:\n",
    "                    end = mid - 1\n",
    "        return -1\n",
    "    \n",
    "    \n",
    "    def search2(self, nums: List[int], target: int) -> int:    \n",
    "        \"\"\"STUDY - binary search\"\"\"\n",
    "        \n",
    "        def find_rotate_index(left, right):\n",
    "            \"\"\"find index with minimum number\"\"\"\n",
    "            if nums[left]<nums[right]:\n",
    "                return 0\n",
    "            \n",
    "            while left <=right:\n",
    "                pivot = (left + right)//2\n",
    "                if nums[pivot]>nums[pivot+1]:\n",
    "                    return pivot + 1\n",
    "                else:\n",
    "                    if nums[pivot]<nums[left]:\n",
    "                        right = pivot - 1\n",
    "                    else:\n",
    "                        left = pivot + 1\n",
    "                        \n",
    "        def binarySearch(left, right):\n",
    "            while left<=right:\n",
    "                pivot = (left + right)//2\n",
    "                if nums[pivot]==target:\n",
    "                    return pivot\n",
    "                else:\n",
    "                    if target<nums[pivot]:\n",
    "                        right = pivot-1\n",
    "                    else:\n",
    "                        left = pivot+1\n",
    "            return -1\n",
    "        \n",
    "        n = len(nums)\n",
    "        \n",
    "        if n == 0:\n",
    "            return -1\n",
    "        \n",
    "        if n == 1:\n",
    "            return 0 if nums[0] == target else -1\n",
    "        \n",
    "        rotate_index = find_rotate_index(0, n-1)\n",
    "        \n",
    "        # if target is smallest element\n",
    "        if nums[rotate_index]==target:\n",
    "            return rotate_index\n",
    "        \n",
    "        # if array is not rotated, search in entire array\n",
    "        if rotate_index == 0:\n",
    "            return binarySearch(0, n-1)\n",
    "        \n",
    "        if target < nums[0]:\n",
    "            # search on right side\n",
    "            return binarySearch(rotate_index, n-1)\n",
    "        \n",
    "        # search on left side\n",
    "        return binarySearch(0,rotate_index)"
   ]
  },
  {
   "cell_type": "code",
   "execution_count": 88,
   "metadata": {},
   "outputs": [],
   "source": [
    "assert Solution().search([4,5,6,7, 0,1,2], 1)==5\n",
    "assert Solution().search2([4,5,6,7, 0,1,2], 1)==5"
   ]
  },
  {
   "cell_type": "markdown",
   "metadata": {},
   "source": [
    "34. [Find First and Last Position of Element in Sorted Array](https://leetcode.com/problems/find-first-and-last-position-of-element-in-sorted-array/)"
   ]
  },
  {
   "cell_type": "code",
   "execution_count": 89,
   "metadata": {},
   "outputs": [],
   "source": [
    "class Solution:\n",
    "    def searchRange(self, nums: List[int], target: int) -> List[int]:\n",
    "        \"\"\"STUDY - modified binary search\"\"\"\n",
    "        left_idx = self.binarySearch(nums, target, True)\n",
    "        \n",
    "        # assert that left idx is within the array bounds and that target is actually in nums\n",
    "        if left_idx == len(nums) or nums[left_idx] != target:\n",
    "            return [-1,-1]\n",
    "        return [left_idx, self.binarySearch(nums, target, False)-1]\n",
    "        \n",
    "    def binarySearch(self, nums, target, left):\n",
    "        lo, hi = 0, len(nums)\n",
    "        \n",
    "        while lo < hi:\n",
    "            mid = (lo + hi) // 2\n",
    "            if nums[mid]> target or (left and target == nums[mid]):\n",
    "                hi = mid\n",
    "            else:\n",
    "                lo = mid + 1\n",
    "        return lo\n",
    "    \n",
    "    def searchRange2(self, nums: List[int], target: int) -> List[int]:\n",
    "        \"\"\"linear scan\"\"\"\n",
    "        if len(nums)==0:\n",
    "            return [-1,-1]\n",
    "        elif len(nums)==1:\n",
    "            if nums[0]==target:\n",
    "                return [0,0]\n",
    "            else:\n",
    "                return [-1,-1]\n",
    "        else:\n",
    "            idxs = []\n",
    "            for i in range(len(nums)):\n",
    "                if nums[i]==target:\n",
    "                    idxs.append(i)\n",
    "            if len(idxs)==0:\n",
    "                return [-1,-1]\n",
    "            elif len(idxs)==1:\n",
    "                return [idxs[0],idxs[0]]\n",
    "            else:\n",
    "                return [idxs[0],idxs[-1]]"
   ]
  },
  {
   "cell_type": "code",
   "execution_count": 90,
   "metadata": {},
   "outputs": [],
   "source": [
    "assert Solution().searchRange([5,7,7,8,8,10],6)==[-1, -1]\n",
    "assert Solution().searchRange([],6)==[-1, -1]"
   ]
  },
  {
   "cell_type": "code",
   "execution_count": 91,
   "metadata": {},
   "outputs": [],
   "source": [
    "# TOY EXAMPLE TO DEMO WALKING ONCE BINARY SEARCH FINDS SINGLE INDEX LOCATION\n",
    "arr = [3,4,4,5,6,6,6,6,7,7,7,7,8,8,8,8,8,9,9,9,9]  # 7 is at indices 8 to 11\n",
    "target = 7\n",
    "idx = 10"
   ]
  },
  {
   "cell_type": "code",
   "execution_count": 92,
   "metadata": {},
   "outputs": [],
   "source": [
    "idxs = []\n",
    "# walk backwards\n",
    "while arr[idx]==target:\n",
    "    idx-=1\n",
    "# adjust for extra step\n",
    "idx+=1\n",
    "\n",
    "# walk forward, appending all indices with target value\n",
    "while arr[idx]==target:\n",
    "    idxs.append(idx)\n",
    "    idx+=1\n",
    "assert idxs == [8, 9, 10, 11]"
   ]
  },
  {
   "cell_type": "markdown",
   "metadata": {},
   "source": [
    "46. [Permutations](https://leetcode.com/problems/permutations/)"
   ]
  },
  {
   "cell_type": "code",
   "execution_count": 93,
   "metadata": {},
   "outputs": [],
   "source": [
    "class Solution:\n",
    "    def permute(self, nums: List[int]) -> List[List[int]]:\n",
    "        \"\"\"STUDY - backtracking\"\"\"\n",
    "        \n",
    "        def backtrack(first = 0):\n",
    "            # if all integers are used up\n",
    "            if first == n:\n",
    "                output.append(nums[:])\n",
    "            for i in range(first, n):\n",
    "                # place i-th integer first\n",
    "                # in the current permutation\n",
    "                nums[first], nums[i] = nums[i], nums[first]\n",
    "                # use next integers to complete the permutations\n",
    "                backtrack(first + 1)\n",
    "                # backtrack\n",
    "                nums[first], nums[i] = nums[i], nums[first]\n",
    "                \n",
    "        n = len(nums)\n",
    "        output = []\n",
    "        backtrack()\n",
    "        return output"
   ]
  },
  {
   "cell_type": "code",
   "execution_count": 94,
   "metadata": {},
   "outputs": [
    {
     "data": {
      "text/plain": [
       "[[1, 2, 3], [1, 3, 2], [2, 1, 3], [2, 3, 1], [3, 2, 1], [3, 1, 2]]"
      ]
     },
     "execution_count": 94,
     "metadata": {},
     "output_type": "execute_result"
    }
   ],
   "source": [
    "Solution().permute([1,2,3])"
   ]
  },
  {
   "cell_type": "markdown",
   "metadata": {},
   "source": [
    "24. [Swap Nodes in Pairs](https://leetcode.com/problems/swap-nodes-in-pairs/)"
   ]
  },
  {
   "cell_type": "code",
   "execution_count": 95,
   "metadata": {},
   "outputs": [],
   "source": [
    "# Definition for singly-linked list.\n",
    "class ListNode:\n",
    "    def __init__(self, x):\n",
    "        self.val = x\n",
    "        self.next = None\n",
    "\n",
    "class Solution:\n",
    "    \n",
    "    def swapPairs(self, head: ListNode) -> ListNode:\n",
    "        \"\"\"STUDY - iterative, O(n)/O(1)\"\"\"\n",
    "        \n",
    "        # dummy node acts as the prevNode for the head node\n",
    "        # of the list and hence stores pointer to the head node\n",
    "        dummy = ListNode(-1)\n",
    "        dummy.next = head\n",
    "        \n",
    "        prev_node = dummy\n",
    "        \n",
    "        while head and head.next:\n",
    "            \n",
    "            # nodes to be swapped\n",
    "            first_node = head\n",
    "            second_node = head.next\n",
    "            \n",
    "            # swapping\n",
    "            prev_node.next = second_node\n",
    "            first_node.next = second_node.next\n",
    "            second_node.next = first_node\n",
    "            \n",
    "            # reinitializing the head and prev_node for the next swap\n",
    "            prev_node = first_node\n",
    "            head = first_node.next\n",
    "            \n",
    "        # return new head node\n",
    "        return dummy.next\n",
    "    \n",
    "    \n",
    "    \n",
    "    def swapPairs2(self, head: ListNode) -> ListNode:\n",
    "        \"\"\"STUDY - recursive, O(n)/O(n)\"\"\"\n",
    "        \n",
    "        # if list has no node or has only one node left\n",
    "        if not head or not head.next:\n",
    "            return head\n",
    "        \n",
    "        # nodes to be swapped\n",
    "        first_node = head\n",
    "        second_node = head.next\n",
    "        \n",
    "        # swapping\n",
    "        first_node.next = self.swapPairs(second_node.next)\n",
    "        second_node.next = first_node\n",
    "        \n",
    "        # now head is second node\n",
    "        return second_node\n",
    "\n",
    "        "
   ]
  },
  {
   "cell_type": "code",
   "execution_count": null,
   "metadata": {},
   "outputs": [],
   "source": []
  },
  {
   "cell_type": "code",
   "execution_count": 96,
   "metadata": {},
   "outputs": [],
   "source": [
    "# a = ListNode(1)\n",
    "# b = ListNode(2)\n",
    "# c = ListNode(3)\n",
    "# d = ListNode(4)\n",
    "\n",
    "# a.next = b\n",
    "# b.next = c\n",
    "# c.next = d"
   ]
  },
  {
   "cell_type": "code",
   "execution_count": null,
   "metadata": {},
   "outputs": [],
   "source": []
  },
  {
   "cell_type": "markdown",
   "metadata": {},
   "source": [
    "48. [Rotate Image](https://leetcode.com/problems/rotate-image/)"
   ]
  },
  {
   "cell_type": "code",
   "execution_count": 97,
   "metadata": {},
   "outputs": [],
   "source": [
    "class Solution:\n",
    "\n",
    "    def rotate(self, matrix: List[List[int]]) -> None:\n",
    "        \"\"\"STUDY - rotate four rectangles in one single loop, O(n**2), O(1)\"\"\"\n",
    "        n = len(matrix[0])\n",
    "        for i in range(n // 2 + n % 2):\n",
    "            for j in range(n//2):\n",
    "                tmp = matrix[n - 1 - j][i]\n",
    "                matrix[n - 1 - j][i] = matrix[n - 1 - i][n - j - 1]\n",
    "                matrix[n - 1 - i][n - j - 1] = matrix[j][n - 1 - i]\n",
    "                matrix[j][n - 1 - i] = matrix[i][j]\n",
    "                matrix[i][j] = tmp\n",
    "    \n",
    "    \n",
    "    def rotate2(self, matrix: List[List[int]]) -> None:\n",
    "        \"\"\"STUDY - rotate four rectangles, O(n**2), O(1)\"\"\"\n",
    "        n = len(matrix[0])\n",
    "        for i in range(n // 2 + n%2):\n",
    "            for j in range(n//2):\n",
    "                tmp = [0]*4\n",
    "                row, col = i, j\n",
    "                \n",
    "                # store 4 elements in tmp\n",
    "                for k in range(4):\n",
    "                    tmp[k] = matrix[row][col]\n",
    "                    row, col = col, n - 1 - row\n",
    "                    \n",
    "                # rotate 4 elements\n",
    "                for k in range(4):\n",
    "                    matrix[row][col] = tmp[(k - 1) % 4]\n",
    "                    row, col = col, n - 1 - row\n",
    "    \n",
    "    \n",
    "    def rotate3(self, matrix: List[List[int]]) -> None:\n",
    "        \"\"\"\n",
    "        STUDY - transpose and reverse, O(n**2), O(1)\n",
    "        Do not return anything, modify matrix in-place instead.\n",
    "        \"\"\"\n",
    "        n = len(matrix[0])\n",
    "        \n",
    "        # transpose matrix\n",
    "        for i in range(n):\n",
    "            for j in range(i,n):\n",
    "                matrix[j][i], matrix[i][j] = matrix[i][j], matrix[j][i]\n",
    "                \n",
    "        # reverse each row\n",
    "        for i in range(n):\n",
    "            matrix[i].reverse()\n",
    "        \n",
    "        \n",
    "        # attempt 1 - not in place\n",
    "#         [list(x) for x in list(zip(*reversed(matrix)))]\n",
    "#         return rotated"
   ]
  },
  {
   "cell_type": "code",
   "execution_count": 98,
   "metadata": {},
   "outputs": [],
   "source": [
    "m = [[1,2,3],[4,5,6],[7,8,9]]\n",
    "Solution().rotate(m)\n",
    "assert m == [[7, 4, 1], [8, 5, 2], [9, 6, 3]]"
   ]
  },
  {
   "cell_type": "markdown",
   "metadata": {},
   "source": [
    "49. [Group Anagrams](https://leetcode.com/problems/group-anagrams/)"
   ]
  },
  {
   "cell_type": "code",
   "execution_count": 99,
   "metadata": {},
   "outputs": [],
   "source": [
    "class Solution:\n",
    "    \n",
    "    def groupAnagrams(self, strs: List[str]) -> List[List[str]]:\n",
    "        \"\"\"STUDY - categorize by count\n",
    "        \n",
    "        Complexity:\n",
    "            Time:\n",
    "                O(N K)\n",
    "                N length of strs\n",
    "                K max length of a string in strs\n",
    "            Space:\n",
    "                O(N K), total info content stored in ans\n",
    "        \"\"\"\n",
    "        ans = collections.defaultdict(list)\n",
    "        for s in strs:\n",
    "            count = [0]*26\n",
    "            for c in s:\n",
    "                count[ord(c)-ord('a')]+=1\n",
    "            ans[tuple(count)].append(s)\n",
    "        return list(ans.values())\n",
    "    \n",
    "    def groupAnagrams2(self, strs: List[str]) -> List[List[str]]:\n",
    "        \"\"\"STUDY - categorize by sorted string\n",
    "        \n",
    "        Complexity:\n",
    "            Time:\n",
    "                O(NK log K)\n",
    "                N: length of strs\n",
    "                K: max length of a string in strs\n",
    "                outer loop O(N) as we iterate through each string\n",
    "                sort ech string in O(K log K)\n",
    "            Space:\n",
    "                O(N K), total information content stored in lst\n",
    "        \"\"\"\n",
    "        \n",
    "        # create dictionary by sorted string\n",
    "        d = collections.defaultdict(list)\n",
    "        for s in strs:\n",
    "            key = ''.join(sorted(s))\n",
    "            d[key].append(s)\n",
    "            \n",
    "        # compile list of lists\n",
    "        lst = []\n",
    "        for k,v in d.items():\n",
    "            \n",
    "            lst.append(v)\n",
    "                \n",
    "        return lst"
   ]
  },
  {
   "cell_type": "code",
   "execution_count": 100,
   "metadata": {},
   "outputs": [],
   "source": [
    "strs = [\"eat\", \"tea\", \"tan\", \"ate\", \"nat\", \"bat\"]\n",
    "assert Solution().groupAnagrams(strs)==[['eat', 'tea', 'ate'], ['tan', 'nat'], ['bat']]"
   ]
  },
  {
   "cell_type": "markdown",
   "metadata": {},
   "source": [
    "56. [Merge Intervals](https://leetcode.com/problems/merge-intervals/)"
   ]
  },
  {
   "cell_type": "code",
   "execution_count": 101,
   "metadata": {},
   "outputs": [],
   "source": [
    "class Solution:\n",
    "    def merge(self, intervals: List[List[int]]) -> List[List[int]]:\n",
    "        \"\"\"STUDY - sorting\n",
    "        \n",
    "        Complexity:\n",
    "            Time: O(n log n)\n",
    "            Space: O(1) or O(n)\n",
    "        \"\"\"\n",
    "        intervals.sort(key=lambda x: x[0])\n",
    "        \n",
    "        merged = []\n",
    "        for interval in intervals:\n",
    "            # if list of merged intervals is empty or if the current\n",
    "            # interval does not overlap with the previous, simply append it\n",
    "            if not merged or merged[-1][1] < interval[0]:\n",
    "                merged.append(interval)\n",
    "            else:\n",
    "                # otherwise, there is overlap, so we merge current and previous intervals\n",
    "                merged[-1][1] = max(merged[-1][1], interval[1])\n",
    "        return merged\n",
    "    \n",
    "    def merge2(self, intervals: List[List[int]]) -> List[List[int]]:\n",
    "        \"\"\"STUDY - connected components\n",
    "        \n",
    "        Complexity:\n",
    "            Time: O(n**2)\n",
    "            Space: O(n**2)\n",
    "        \"\"\"\n",
    "        graph = self.build_graph(intervals)\n",
    "        nodes_in_comp, number_of_comps = self.get_components(graph, intervals)\n",
    "        \n",
    "        # all intervals in each connected component must be merged\n",
    "        return [self.merge_nodes(nodes_in_comp[comp]) for comp in range(number_of_comps)]\n",
    "    \n",
    "    def overlap(self, a, b):\n",
    "        \"\"\"Returns whether two intervals overlap at both points\"\"\"\n",
    "        return a[0]<=b[1] and b[0]<=a[1]\n",
    "    \n",
    "    def build_graph(self, intervals):\n",
    "        \"\"\"generate graph where there is an undirected edge between intervals \n",
    "        u and v iff u and v overlap\n",
    "        \"\"\"\n",
    "        graph = collections.defaultdict(list)\n",
    "        \n",
    "        for i, interval_i in enumerate(intervals):\n",
    "            for j in range(i+1, len(intervals)):\n",
    "                if self.overlap(interval_i, intervals[j]):\n",
    "                    graph[tuple(interval_i)].append(intervals[j])\n",
    "                    graph[tuple(intervals[j])].append(interval_i)\n",
    "                    \n",
    "        return graph\n",
    "        \n",
    "    def merge_nodes(self, nodes):\n",
    "        \"\"\"merges all the nodes in this connected component into one interval\"\"\"\n",
    "        min_start = min(node[0] for node in nodes)\n",
    "        max_end = max(node[1] for node in nodes)\n",
    "        return [min_start, max_end]\n",
    "    \n",
    "    def get_components(self, graph, intervals):\n",
    "        \"\"\"gets the connected components of the interval overlap graph\"\"\"\n",
    "        visited = set()\n",
    "        comp_number = 0\n",
    "        nodes_in_comp = collections.defaultdict(list)\n",
    "        \n",
    "        def mark_component_dfs(start):\n",
    "            stack = [start]\n",
    "            while stack:\n",
    "                node = tuple(stack.pop())\n",
    "                if node not in visited:\n",
    "                    visited.add(node)\n",
    "                    nodes_in_comp[comp_number].append(node)\n",
    "                    stack.extend(graph[node])\n",
    "                    \n",
    "        # mark all nodes in same connected component with the same integer\n",
    "        for interval in intervals:\n",
    "            if tuple(interval) not in visited:\n",
    "                mark_component_dfs(interval)\n",
    "                comp_number+=1\n",
    "                \n",
    "        return nodes_in_comp, comp_number"
   ]
  },
  {
   "cell_type": "code",
   "execution_count": 102,
   "metadata": {},
   "outputs": [],
   "source": [
    "intervals = [[1,3],[2,6],[8,10],[15,18]]\n",
    "assert Solution().merge(intervals)==[[1, 6], [8, 10], [15, 18]]\n",
    "assert Solution().merge2(intervals)==[[1, 6], [8, 10], [15, 18]]"
   ]
  },
  {
   "cell_type": "markdown",
   "metadata": {},
   "source": [
    "75. [Sort Colors](https://leetcode.com/problems/sort-colors/)"
   ]
  },
  {
   "cell_type": "code",
   "execution_count": 103,
   "metadata": {},
   "outputs": [],
   "source": [
    "class Solution:\n",
    "    def sortColors(self, nums: List[int]) -> None:\n",
    "        \"\"\"STUDY - one pass; 'Dutch National Flag problem'\n",
    "        \n",
    "        Complexity:\n",
    "            Time: O(N)\n",
    "            Space: O(1)\n",
    "        \n",
    "        Do not return anything, modify nums in-place instead.\n",
    "        \"\"\"\n",
    "        # for all idx < p0; nums[idx < p0] = 0\n",
    "        # curr is an index of element under consideration\n",
    "        p0 = curr = 0\n",
    "        # for all idx > p2: nums[idx > p2] = 2\n",
    "        p2 = len(nums)-1\n",
    "        \n",
    "        while curr<=p2:\n",
    "            \n",
    "            # all 0s migrate to the left, 2s to the right\n",
    "            if nums[curr]==0:\n",
    "                nums[p0], nums[curr] = nums[curr], nums[p0]\n",
    "                p0+=1\n",
    "                curr+=1\n",
    "            elif nums[curr] == 2:\n",
    "                nums[curr], nums[p2] = nums[p2], nums[curr]\n",
    "                p2-=1\n",
    "            else:\n",
    "                curr+=1"
   ]
  },
  {
   "cell_type": "code",
   "execution_count": 104,
   "metadata": {},
   "outputs": [],
   "source": [
    "nums = [2,0,2,1,1,0]\n",
    "Solution().sortColors(nums)"
   ]
  },
  {
   "cell_type": "code",
   "execution_count": 105,
   "metadata": {},
   "outputs": [
    {
     "data": {
      "text/plain": [
       "[0, 0, 1, 1, 2, 2]"
      ]
     },
     "execution_count": 105,
     "metadata": {},
     "output_type": "execute_result"
    }
   ],
   "source": [
    "nums"
   ]
  },
  {
   "cell_type": "markdown",
   "metadata": {},
   "source": [
    "94. [Binary Tree Inorder Traversal](https://leetcode.com/problems/binary-tree-inorder-traversal/)"
   ]
  },
  {
   "cell_type": "code",
   "execution_count": 106,
   "metadata": {},
   "outputs": [],
   "source": [
    "# Definition for a binary tree node.\n",
    "# class TreeNode:\n",
    "#     def __init__(self, x):\n",
    "#         self.val = x\n",
    "#         self.left = None\n",
    "#         self.right = None\n",
    "\n",
    "class Solution:\n",
    "    def inorderTraversal3(self, root: TreeNode) -> List[int]:\n",
    "        \"\"\"STUDY - Morris Traversal (with threaded binary tree)\n",
    "        \n",
    "        Complexity:\n",
    "            Time: O(n)\n",
    "            Space: O(n)\n",
    "        \"\"\"\n",
    "        res = []\n",
    "        curr = root\n",
    "        pre = []\n",
    "        \n",
    "        while curr:\n",
    "            if not curr.left:\n",
    "                res.append(curr.val)\n",
    "                curr = curr.right\n",
    "            else:\n",
    "                pre = curr.left\n",
    "                while pre.right:\n",
    "                    pre = pre.right\n",
    "                \n",
    "                pre.right = curr\n",
    "                temp = curr\n",
    "                curr = curr.left\n",
    "                temp.left = None\n",
    "                \n",
    "        return res\n",
    "    \n",
    "    def inorderTraversal2(self, root: TreeNode) -> List[int]:\n",
    "        \"\"\"STUDY - iterating method using stack\n",
    "        \n",
    "        Complexity:\n",
    "            Time: O(n)\n",
    "            Space: O(n)\n",
    "        \"\"\"\n",
    "        res = []\n",
    "        stack = []\n",
    "        curr = root\n",
    "        \n",
    "        while curr or len(stack)>0:\n",
    "            while curr:\n",
    "                stack.append(curr)\n",
    "                curr = curr.left\n",
    "                \n",
    "            curr = stack.pop()\n",
    "            res.append(curr.val)\n",
    "            curr = curr.right\n",
    "            \n",
    "        return res\n",
    "    \n",
    "    \n",
    "    def inorderTraversal(self, root: TreeNode) -> List[int]:\n",
    "        \"\"\"STUDY - recursive approach\n",
    "        \n",
    "        Complexity:\n",
    "            Time: O(n); recursive function is T(n) = 2*T(n/2)+1\n",
    "            Space: worst O(n), average O(log n), where n is number of nodes\n",
    "        \n",
    "        \"\"\"\n",
    "        def traverse(root, res):\n",
    "            if root:\n",
    "                if root.left:\n",
    "                    traverse(root.left, res)\n",
    "                res.append(root.val)\n",
    "                if root.right:\n",
    "                    traverse(root.right, res)\n",
    "        \n",
    "        res = []\n",
    "        traverse(root, res)\n",
    "        return res\n",
    "    \n",
    "    def preorderTraversal(self, root: TreeNode) -> List[int]:\n",
    "        \"\"\"STUDY - recursive approach\"\"\"\n",
    "        def traverse(root, res):\n",
    "            if root:\n",
    "                res.append(root.val)\n",
    "                if root.left:\n",
    "                    traverse(root.left, res)\n",
    "                if root.right:\n",
    "                    traverse(root.right, res)\n",
    "        \n",
    "        res = []\n",
    "        traverse(root, res)\n",
    "        return res\n",
    "    \n",
    "    def postorderTraversal(self, root: TreeNode) -> List[int]:\n",
    "        \"\"\"STUDY - recursive approach\"\"\"\n",
    "        def traverse(root, res):\n",
    "            if root:\n",
    "                if root.left:\n",
    "                    traverse(root.left, res)\n",
    "                if root.right:\n",
    "                    traverse(root.right, res)\n",
    "                res.append(root.val)\n",
    "        \n",
    "        res = []\n",
    "        traverse(root, res)\n",
    "        return res"
   ]
  },
  {
   "cell_type": "markdown",
   "metadata": {},
   "source": [
    "102. [Binary Tree Level Order Traversal](https://leetcode.com/problems/binary-tree-level-order-traversal/)\n",
    "\n",
    "Two general strategies to traverse a tree:\n",
    "- DFS, further distinguished as preorder, inorder and postorder\n",
    "- BFS"
   ]
  },
  {
   "cell_type": "code",
   "execution_count": 107,
   "metadata": {},
   "outputs": [],
   "source": [
    "# Definition for a binary tree node.\n",
    "# class TreeNode:\n",
    "#     def __init__(self, x):\n",
    "#         self.val = x\n",
    "#         self.left = None\n",
    "#         self.right = None\n",
    "\n",
    "class Solution:\n",
    "    \n",
    "    def levelOrder(self, root: TreeNode) -> List[List[int]]:\n",
    "        \"\"\"STUDY - iteration\n",
    "        \n",
    "        Complexity:\n",
    "            Time: O(N) since each node processed once\n",
    "            Space: O(N) to keep output structure which contains N node values\n",
    "        \"\"\"\n",
    "        levels = []\n",
    "        if not root:\n",
    "            return levels\n",
    "        \n",
    "        level = 0\n",
    "        queue = deque([root,])\n",
    "        while queue:\n",
    "            # start the current level\n",
    "            levels.append([])\n",
    "            \n",
    "            # number of elements in the current level\n",
    "            level_length = len(queue)\n",
    "            \n",
    "            for i in range(level_length):\n",
    "                node = queue.popleft()\n",
    "                # fulfill the current level\n",
    "                levels[level].append(node.val)\n",
    "                \n",
    "                # add child nodes of current level\n",
    "                # in queue for next level\n",
    "                if node.left:\n",
    "                    queue.append(node.left)\n",
    "                if node.right:\n",
    "                    queue.append(node.right)\n",
    "                    \n",
    "            # go to next level\n",
    "            level+=1\n",
    "            \n",
    "        return levels\n",
    "        \n",
    "    def levelOrder2(self, root: TreeNode) -> List[List[int]]:\n",
    "        \"\"\"STUDY - recursive, BFS traversal\n",
    "        \n",
    "        Complexity:\n",
    "            Time: O(n) since each node processed once\n",
    "            Space: O(n) to keep output structure which contains N node values\n",
    "        \"\"\"\n",
    "        levels = []\n",
    "        if not root:\n",
    "            return levels\n",
    "        \n",
    "        def helper(node, level):\n",
    "            # start current level\n",
    "            if len(levels)==level:\n",
    "                levels.append([])\n",
    "                \n",
    "            # append current node value\n",
    "            levels[level].append(node.val)\n",
    "            \n",
    "            # process child nodes for next level\n",
    "            if node.left:\n",
    "                helper(node.left, level+1)\n",
    "            if node.right:\n",
    "                helper(node.right, level+1)\n",
    "                \n",
    "        helper(root,0)\n",
    "        return levels"
   ]
  },
  {
   "cell_type": "markdown",
   "metadata": {},
   "source": [
    "106. [Construct Binary Tree from Inorder and Postorder Traversal](https://leetcode.com/problems/construct-binary-tree-from-inorder-and-postorder-traversal/)"
   ]
  },
  {
   "cell_type": "code",
   "execution_count": 108,
   "metadata": {},
   "outputs": [],
   "source": [
    "# Definition for a binary tree node.\n",
    "# class TreeNode:\n",
    "#     def __init__(self, val=0, left=None, right=None):\n",
    "#         self.val = val\n",
    "#         self.left = left\n",
    "#         self.right = right\n",
    "class Solution:\n",
    "    def buildTree(self, inorder: List[int], postorder: List[int]) -> TreeNode:\n",
    "        \"\"\"STUDY - recursion\n",
    "        \n",
    "        Complexity:\n",
    "            Time: O(N)\n",
    "            Space: O(N) since entire tree is stored\n",
    "        \"\"\"\n",
    "        def helper(in_left, in_right):\n",
    "            # if there is no elements to construct subtrees\n",
    "            if in_left>in_right:\n",
    "                return None\n",
    "            \n",
    "            # pick up the last element as a root\n",
    "            val = postorder.pop()\n",
    "            root = TreeNode(val)\n",
    "            \n",
    "            # root splits inorder list\n",
    "            # into left and right subtrees\n",
    "            index = idx_map[val]\n",
    "            \n",
    "            # build right subtree\n",
    "            root.right = helper(index + 1, in_right)\n",
    "            # build left subtree\n",
    "            root.left = helper(in_left, index - 1)\n",
    "            return root\n",
    "        \n",
    "        # build a hashmap value -> its index\n",
    "        idx_map = {val:idx for idx, val in enumerate(inorder)}\n",
    "        return helper(0, len(inorder) - 1)        "
   ]
  },
  {
   "cell_type": "markdown",
   "metadata": {},
   "source": [
    "117. [Populating Next Right Pointers in Each Node II](https://leetcode.com/problems/populating-next-right-pointers-in-each-node-ii/)"
   ]
  },
  {
   "cell_type": "code",
   "execution_count": null,
   "metadata": {},
   "outputs": [],
   "source": []
  }
 ],
 "metadata": {
  "kernelspec": {
   "display_name": "Project",
   "language": "python",
   "name": "project"
  },
  "language_info": {
   "codemirror_mode": {
    "name": "ipython",
    "version": 3
   },
   "file_extension": ".py",
   "mimetype": "text/x-python",
   "name": "python",
   "nbconvert_exporter": "python",
   "pygments_lexer": "ipython3",
   "version": "3.8.2"
  }
 },
 "nbformat": 4,
 "nbformat_minor": 4
}
