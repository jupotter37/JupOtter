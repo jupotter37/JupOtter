{
 "cells": [
  {
   "cell_type": "code",
   "execution_count": 3,
   "id": "190122d6",
   "metadata": {},
   "outputs": [
    {
     "name": "stdout",
     "output_type": "stream",
     "text": [
      "2000\n",
      "The year is leap year\n"
     ]
    }
   ],
   "source": [
    "year=int(input())\n",
    "if year%4==0 and year%100!=0 or year%400==0:\n",
    "    print(\"The year is leap year\")\n",
    "else:\n",
    "    print(\"The year is not leap year\")"
   ]
  },
  {
   "cell_type": "code",
   "execution_count": 4,
   "id": "10241b68",
   "metadata": {},
   "outputs": [
    {
     "name": "stdout",
     "output_type": "stream",
     "text": [
      "I= 0\n",
      "I= 10\n",
      "I= 20\n",
      "I= 30\n",
      "I= 40\n",
      "I= 50\n",
      "I= 60\n",
      "I= 70\n",
      "I= 80\n",
      "I= 90\n"
     ]
    }
   ],
   "source": [
    "for i in range(0,100,10):\n",
    "    print(\"I=\",i)"
   ]
  },
  {
   "cell_type": "code",
   "execution_count": 11,
   "id": "f5acb45c",
   "metadata": {},
   "outputs": [
    {
     "name": "stdout",
     "output_type": "stream",
     "text": [
      "5\n",
      "15\n"
     ]
    }
   ],
   "source": [
    "A=int(input())\n",
    "sum=0\n",
    "for i in range(0,A+1,1):\n",
    "    sum=sum+i\n",
    "print(sum)   "
   ]
  },
  {
   "cell_type": "code",
   "execution_count": 12,
   "id": "ead1c006",
   "metadata": {},
   "outputs": [
    {
     "name": "stdout",
     "output_type": "stream",
     "text": [
      "4\n",
      "24\n"
     ]
    }
   ],
   "source": [
    "A=int(input())\n",
    "pro=1\n",
    "for i in range(1,A+1,1):\n",
    "    pro=pro*i\n",
    "print(pro)"
   ]
  },
  {
   "cell_type": "code",
   "execution_count": 14,
   "id": "2d20717f",
   "metadata": {},
   "outputs": [
    {
     "name": "stdout",
     "output_type": "stream",
     "text": [
      "5\n",
      "27.5\n"
     ]
    }
   ],
   "source": [
    "A=int(input())\n",
    "sum=0\n",
    "while A!=0:\n",
    "    sum=sum+A\n",
    "    A-=0.5\n",
    "print(sum)\n",
    "        "
   ]
  },
  {
   "cell_type": "code",
   "execution_count": null,
   "id": "9b73b34a",
   "metadata": {},
   "outputs": [],
   "source": [
    "A=int()\n",
    "sum=0\n",
    "for i in range(0,A+1,1):\n",
    "    sum=sum+i\n",
    "print(sum)   "
   ]
  },
  {
   "cell_type": "markdown",
   "id": "4841a62d",
   "metadata": {},
   "source": [
    "# Fibonacci series"
   ]
  },
  {
   "cell_type": "code",
   "execution_count": 25,
   "id": "8b9b5c82",
   "metadata": {},
   "outputs": [
    {
     "name": "stdout",
     "output_type": "stream",
     "text": [
      "4\n",
      "Number to be found :4\n",
      " Not Found\n"
     ]
    }
   ],
   "source": [
    "n=int(input())\n",
    "Number=int(input(\"Number to be found :\"))\n",
    "f0,f1=0,1\n",
    "for i in range(0,n+1):\n",
    "    if Number<=1:\n",
    "        print(i)\n",
    "    else:\n",
    "        fn=f0+f1\n",
    "        if (fn<Number):\n",
    "            f0,f1=f1,fn\n",
    "        elif(fn==Number):\n",
    "            print(\"Found\")\n",
    "            break\n",
    "        else:\n",
    "            print(\" Not Found\")\n",
    "            break"
   ]
  },
  {
   "cell_type": "code",
   "execution_count": 29,
   "id": "2f5bb762",
   "metadata": {},
   "outputs": [
    {
     "name": "stdout",
     "output_type": "stream",
     "text": [
      "X\n",
      "XX\n",
      "XXX\n",
      "XXXX\n",
      "XXXXX\n"
     ]
    }
   ],
   "source": [
    "for i in range(1,6,1):\n",
    "    print(\"X\"*i)"
   ]
  },
  {
   "cell_type": "code",
   "execution_count": 31,
   "id": "a302445e",
   "metadata": {},
   "outputs": [
    {
     "name": "stdout",
     "output_type": "stream",
     "text": [
      "XXXXXX\n",
      "XXXXX\n",
      "XXXX\n",
      "XXX\n",
      "XX\n",
      "X\n"
     ]
    }
   ],
   "source": [
    "for i in range(6,0,-1):\n",
    "    print(\"X\"*i)"
   ]
  },
  {
   "cell_type": "code",
   "execution_count": 32,
   "id": "5875cae7",
   "metadata": {},
   "outputs": [
    {
     "name": "stdout",
     "output_type": "stream",
     "text": [
      "X\n",
      "XXX\n",
      "XXXXX\n",
      "XXXXXXX\n"
     ]
    }
   ],
   "source": [
    "for i in range(1,8,2):\n",
    "    print(\"X\"*i)"
   ]
  },
  {
   "cell_type": "code",
   "execution_count": 35,
   "id": "147af2ab",
   "metadata": {},
   "outputs": [
    {
     "name": "stdout",
     "output_type": "stream",
     "text": [
      "      X\n",
      "     XX\n",
      "    XXX\n",
      "   XXXX\n",
      "  XXXXX\n"
     ]
    }
   ],
   "source": [
    "for i in range(1,6,1):\n",
    "    print(\" \"*(6-i),\"X\"*i)   "
   ]
  },
  {
   "cell_type": "code",
   "execution_count": 36,
   "id": "2cf94b46",
   "metadata": {},
   "outputs": [
    {
     "name": "stdout",
     "output_type": "stream",
     "text": [
      " XXXXX\n",
      "  XXXX\n",
      "   XXX\n",
      "    XX\n",
      "     X\n"
     ]
    }
   ],
   "source": [
    "for i in range(5,0,-1):\n",
    "    print(\" \"*(5-i),\"X\"*i)   "
   ]
  },
  {
   "cell_type": "code",
   "execution_count": 41,
   "id": "ad634860",
   "metadata": {},
   "outputs": [
    {
     "name": "stdout",
     "output_type": "stream",
     "text": [
      "      X      \n",
      "     XXX     \n",
      "    XXXXX    \n",
      "   XXXXXXX   \n",
      "  XXXXXXXXX  \n",
      " XXXXXXXXXXX \n"
     ]
    }
   ],
   "source": [
    "n = 6\n",
    "last = 2*n - 1\n",
    "for i in range(1,2*n,2):\n",
    "    h = (last-i)//2\n",
    "    print(\" \"*h,\"X\"*i,\" \"*h)"
   ]
  },
  {
   "cell_type": "code",
   "execution_count": null,
   "id": "b8598f26",
   "metadata": {},
   "outputs": [],
   "source": [
    "n=int(input())\n",
    "while n>0:\n",
    "    print(\"Number :\",n,\"\")"
   ]
  },
  {
   "cell_type": "code",
   "execution_count": null,
   "id": "fe157622",
   "metadata": {},
   "outputs": [],
   "source": [
    "N=input()\n",
    "A=[]\n",
    "for i in N:\n",
    "    A.append(i)\n",
    "print(A)"
   ]
  },
  {
   "cell_type": "code",
   "execution_count": null,
   "id": "c9ab2246",
   "metadata": {},
   "outputs": [],
   "source": [
    "for i in range(100,1000):\n",
    "    sum=0\n",
    "    n=i\n",
    "    while n>0:\n",
    "        digit=N%10\n",
    "        tn=\n",
    "        "
   ]
  },
  {
   "cell_type": "code",
   "execution_count": null,
   "id": "b989d880",
   "metadata": {},
   "outputs": [],
   "source": [
    "# sum=0\n",
    "# while True:\n",
    "#     data=input(\"Enter:\")\n",
    "#     if data==\"\":\n",
    "#         break\n",
    "#     sum+=float(data)\n",
    "# print(\"Sum :\",sum)"
   ]
  },
  {
   "cell_type": "code",
   "execution_count": null,
   "id": "9fb7cce3",
   "metadata": {},
   "outputs": [],
   "source": [
    "list1 = [[1,12,3],[4,5,6]]\n",
    "for row in list1:\n",
    "    for ele in row:\n",
    "        print(ele)"
   ]
  },
  {
   "cell_type": "code",
   "execution_count": null,
   "id": "55601b81",
   "metadata": {},
   "outputs": [],
   "source": [
    "def hobbies(*h):#*varibale size parameter\n",
    "    print(\"Total hobbies\",len(h))\n",
    "    print(type(h))\n",
    "    for i in h:\n",
    "        print(\"->\",i)"
   ]
  },
  {
   "cell_type": "code",
   "execution_count": null,
   "id": "51262105",
   "metadata": {},
   "outputs": [],
   "source": [
    "hobbies(\"Sktech\",\"code\")"
   ]
  },
  {
   "cell_type": "markdown",
   "id": "40cd6124",
   "metadata": {},
   "source": [
    "# DAY 3"
   ]
  },
  {
   "cell_type": "code",
   "execution_count": null,
   "id": "d77ff14a",
   "metadata": {},
   "outputs": [],
   "source": [
    "'''oops->object oriented problem solving ->4 pillars which are encapsulation"
   ]
  },
  {
   "cell_type": "code",
   "execution_count": 1,
   "id": "cb0d7923",
   "metadata": {},
   "outputs": [],
   "source": [
    "#every method can create new properties in class\n",
    "class Human:\n",
    "    def createHuman(self):\n",
    "        self.gender=input(\"Enter your Gender : \")\n",
    "        self.name=input(\"Enter your Name : \")\n",
    "    def dipalyHuman(self):\n",
    "        print(\"Name : \",self.name,\"Gender :\",self.gender)"
   ]
  },
  {
   "cell_type": "code",
   "execution_count": 2,
   "id": "8fe9302e",
   "metadata": {},
   "outputs": [],
   "source": [
    "h=Human()"
   ]
  },
  {
   "cell_type": "code",
   "execution_count": 4,
   "id": "b1521113",
   "metadata": {},
   "outputs": [
    {
     "name": "stdout",
     "output_type": "stream",
     "text": [
      "Enter your Gender : Male\n",
      "Enter your Name : Aditya\n"
     ]
    }
   ],
   "source": [
    "h.createHuman()"
   ]
  },
  {
   "cell_type": "code",
   "execution_count": 5,
   "id": "e0028cd3",
   "metadata": {},
   "outputs": [
    {
     "name": "stdout",
     "output_type": "stream",
     "text": [
      "Name :  Aditya Gender : Male\n"
     ]
    }
   ],
   "source": [
    "h.dipalyHuman()"
   ]
  },
  {
   "cell_type": "code",
   "execution_count": 7,
   "id": "4d780d22",
   "metadata": {},
   "outputs": [],
   "source": [
    "#every method can create new properties in class\n",
    "class Human:\n",
    "    def createHuman(self,name,gender):\n",
    "        self.gender=gender\n",
    "        self.name=name\n",
    "    def dipalyHuman(self):\n",
    "        print(\"Name : \",self.name,\"Gender :\",self.gender)"
   ]
  },
  {
   "cell_type": "code",
   "execution_count": null,
   "id": "c4ad30cb",
   "metadata": {},
   "outputs": [],
   "source": [
    "# name=input(\"Enter name : \")\n",
    "# gender=input(\"Enter gender :\")\n",
    "# H=human()\n",
    "# h.createHuman(name,gender)\n",
    "# h.displayHuman()"
   ]
  },
  {
   "cell_type": "code",
   "execution_count": null,
   "id": "d941e4e1",
   "metadata": {},
   "outputs": [],
   "source": [
    "''' Create class for methods for add sub mul,div set 2 number\"''"
   ]
  },
  {
   "cell_type": "code",
   "execution_count": 13,
   "id": "685bd8df",
   "metadata": {},
   "outputs": [],
   "source": [
    "class Cla:\n",
    "    def set(self,x,y):\n",
    "        self.x=x\n",
    "        self.y=y\n",
    "    def add(self):\n",
    "        print(\"x+y =\",(self.x+self.y))\n",
    "    def sub(self):\n",
    "        print(\"Subtraction of 2 number is\",self.x-self.y)\n",
    "    def multi(self):\n",
    "        print(\"Multipilcation of two number =\",(self.x*self.y))\n",
    "    def div(self):\n",
    "        print(\"Division of number is =\",(self.x/self.y))\n",
    "    "
   ]
  },
  {
   "cell_type": "code",
   "execution_count": 17,
   "id": "626e39be",
   "metadata": {},
   "outputs": [
    {
     "name": "stdout",
     "output_type": "stream",
     "text": [
      "x+y = 30\n",
      "Subtraction of 2 number is -10\n"
     ]
    }
   ],
   "source": [
    "c=Cla()\n",
    "c.set(10,20)\n",
    "c.add()\n",
    "c.sub()\n"
   ]
  },
  {
   "cell_type": "code",
   "execution_count": 28,
   "id": "2260e736",
   "metadata": {},
   "outputs": [],
   "source": [
    "#every method can create new properties in class\n",
    "class Human:\n",
    "    def __init__(self):\n",
    "        self.gender=input(\"Enter your Gender : \")\n",
    "        self.name=input(\"Enter your Name : \")\n",
    "    def dipalyHuman(self):\n",
    "        print(\"Name : \",self.name,\"Gender :\",self.gender)\n",
    "    def __del__(self):\n",
    "        print(\"R.I.P\",self.name)"
   ]
  },
  {
   "cell_type": "code",
   "execution_count": 29,
   "id": "391b51a6",
   "metadata": {},
   "outputs": [
    {
     "name": "stdout",
     "output_type": "stream",
     "text": [
      "Enter your Gender : a\n",
      "Enter your Name : c\n",
      "R.I.P a\n"
     ]
    }
   ],
   "source": [
    "h=Human()"
   ]
  },
  {
   "cell_type": "code",
   "execution_count": 30,
   "id": "67aaaeb9",
   "metadata": {},
   "outputs": [
    {
     "name": "stdout",
     "output_type": "stream",
     "text": [
      "Enter your Gender : t\n",
      "Enter your Name : r\n",
      "R.I.P c\n"
     ]
    }
   ],
   "source": [
    "h=Human()"
   ]
  },
  {
   "cell_type": "code",
   "execution_count": 32,
   "id": "0a2b9c21",
   "metadata": {},
   "outputs": [],
   "source": [
    "class person:\n",
    "    name=\"A\"\n",
    "    _age=\"m\"\n",
    "    __contact=23142567543"
   ]
  },
  {
   "cell_type": "code",
   "execution_count": 33,
   "id": "a5336802",
   "metadata": {},
   "outputs": [
    {
     "data": {
      "text/plain": [
       "'A'"
      ]
     },
     "execution_count": 33,
     "metadata": {},
     "output_type": "execute_result"
    }
   ],
   "source": [
    "person.name"
   ]
  },
  {
   "cell_type": "code",
   "execution_count": 34,
   "id": "3288c6a9",
   "metadata": {},
   "outputs": [
    {
     "data": {
      "text/plain": [
       "'m'"
      ]
     },
     "execution_count": 34,
     "metadata": {},
     "output_type": "execute_result"
    }
   ],
   "source": [
    "person._age"
   ]
  },
  {
   "cell_type": "code",
   "execution_count": 36,
   "id": "b9fc1baa",
   "metadata": {},
   "outputs": [
    {
     "data": {
      "text/plain": [
       "23142567543"
      ]
     },
     "execution_count": 36,
     "metadata": {},
     "output_type": "execute_result"
    }
   ],
   "source": [
    "person._person__contact"
   ]
  },
  {
   "cell_type": "code",
   "execution_count": 5,
   "id": "6dfe03b3",
   "metadata": {},
   "outputs": [],
   "source": [
    "class X:\n",
    "    def myX(self):\n",
    "        print(\" hi i m from x\")\n",
    "class y(X):\n",
    "    def my(self):\n",
    "        print(\"hi  im from Y\")"
   ]
  },
  {
   "cell_type": "code",
   "execution_count": 6,
   "id": "9d783f40",
   "metadata": {},
   "outputs": [],
   "source": [
    "obj=y()"
   ]
  },
  {
   "cell_type": "code",
   "execution_count": 7,
   "id": "53f2dcc9",
   "metadata": {},
   "outputs": [
    {
     "name": "stdout",
     "output_type": "stream",
     "text": [
      "hi  im from Y\n"
     ]
    }
   ],
   "source": [
    "obj.my()"
   ]
  },
  {
   "cell_type": "code",
   "execution_count": 8,
   "id": "b0c0e6c8",
   "metadata": {},
   "outputs": [
    {
     "name": "stdout",
     "output_type": "stream",
     "text": [
      " hi i m from x\n"
     ]
    }
   ],
   "source": [
    "obj.myX()"
   ]
  },
  {
   "cell_type": "code",
   "execution_count": 9,
   "id": "1de4a0cc",
   "metadata": {},
   "outputs": [],
   "source": [
    "class X:\n",
    "    def myX(self):\n",
    "        print(\" hi i m from x\")\n",
    "class y(X):\n",
    "    def my(self):\n",
    "        print(\"hi  im from Y\")\n",
    "class Z(y):\n",
    "    def myz(self):\n",
    "        print(\"Hi I am from z\")"
   ]
  },
  {
   "cell_type": "code",
   "execution_count": 11,
   "id": "948861af",
   "metadata": {},
   "outputs": [],
   "source": [
    "obj=Z()"
   ]
  },
  {
   "cell_type": "code",
   "execution_count": 12,
   "id": "344b7de0",
   "metadata": {},
   "outputs": [],
   "source": [
    "class X:\n",
    "    def myX(self):\n",
    "        print(\" hi i m from x\")\n",
    "class y:\n",
    "    def my(self):\n",
    "        print(\"hi  im from Y\")\n",
    "class Z:\n",
    "    def myz(self):\n",
    "        print(\"Hi I am from z\")"
   ]
  },
  {
   "cell_type": "code",
   "execution_count": 13,
   "id": "1a19a1bf",
   "metadata": {},
   "outputs": [],
   "source": [
    "class A(X,y,Z):\n",
    "    def mYa(self):\n",
    "        print(\"I am from A\")"
   ]
  },
  {
   "cell_type": "code",
   "execution_count": 18,
   "id": "10cf09e8",
   "metadata": {},
   "outputs": [],
   "source": [
    "class X:\n",
    "    def test(self):\n",
    "        print(\"I am from a\")\n",
    "    def myX(self):\n",
    "        print(\" hi i m from x\")\n",
    "class y:\n",
    "    def test(self):\n",
    "        print(\"I am from b\")\n",
    "    def my(self):\n",
    "        print(\"hi  im from Y\")\n",
    "class Z:\n",
    "    def test(self):\n",
    "        print(\"I am from z\")\n",
    "    def myz(self):\n",
    "        print(\"Hi I am from z\")"
   ]
  },
  {
   "cell_type": "code",
   "execution_count": 19,
   "id": "43304f39",
   "metadata": {},
   "outputs": [],
   "source": [
    "class A(X,y,Z):\n",
    "    def mYa(self):\n",
    "        print(\"I am from A\")"
   ]
  },
  {
   "cell_type": "code",
   "execution_count": 20,
   "id": "b8c50a96",
   "metadata": {},
   "outputs": [],
   "source": [
    "obj=A()"
   ]
  },
  {
   "cell_type": "code",
   "execution_count": 21,
   "id": "8c5f7738",
   "metadata": {},
   "outputs": [
    {
     "name": "stdout",
     "output_type": "stream",
     "text": [
      "I am from a\n"
     ]
    }
   ],
   "source": [
    "obj.test()"
   ]
  },
  {
   "cell_type": "code",
   "execution_count": 23,
   "id": "1ab9f6d3",
   "metadata": {},
   "outputs": [],
   "source": [
    "class X:\n",
    "    def test(self):\n",
    "        print(\"I am from A\")\n",
    "    def myX(self):\n",
    "        print(\" hi i m from x\")\n",
    "class y(X):\n",
    "    def test(self):\n",
    "        print(\"I am from b\")\n",
    "    def my(self):\n",
    "        print(\"hi  im from Y\")"
   ]
  },
  {
   "cell_type": "code",
   "execution_count": 24,
   "id": "0f551a0b",
   "metadata": {},
   "outputs": [],
   "source": [
    "obj=y()"
   ]
  },
  {
   "cell_type": "code",
   "execution_count": 25,
   "id": "548f39d0",
   "metadata": {},
   "outputs": [
    {
     "name": "stdout",
     "output_type": "stream",
     "text": [
      " hi i m from x\n"
     ]
    }
   ],
   "source": [
    "obj.myX()"
   ]
  },
  {
   "cell_type": "code",
   "execution_count": 26,
   "id": "4671126a",
   "metadata": {},
   "outputs": [
    {
     "name": "stdout",
     "output_type": "stream",
     "text": [
      "hi  im from Y\n"
     ]
    }
   ],
   "source": [
    "obj.my()"
   ]
  },
  {
   "cell_type": "code",
   "execution_count": 27,
   "id": "594d682d",
   "metadata": {},
   "outputs": [
    {
     "name": "stdout",
     "output_type": "stream",
     "text": [
      "I am from b\n"
     ]
    }
   ],
   "source": [
    "obj.test()"
   ]
  },
  {
   "cell_type": "code",
   "execution_count": null,
   "id": "b716790c",
   "metadata": {},
   "outputs": [],
   "source": [
    "#create student class that stores roll no ,name and gender should have setDetails() and printDetails"
   ]
  },
  {
   "cell_type": "code",
   "execution_count": 40,
   "id": "67716191",
   "metadata": {},
   "outputs": [],
   "source": [
    "class Student():\n",
    "    def setdetails(self,name,gender,rollno,pointers):\n",
    "        setdetails.name=name\n",
    "        setdetails.gender=gender\n",
    "        setdetails.rollno,=rollno\n",
    "        setdetails.pointers=pointers\n",
    "    def printdetails(self):\n",
    "        print(\"The name of the student is\",setdetails.name,\"The rollno of the student is\",setdetails.rollno,\"The gender of the student is\",setdetails.gender,\"The pointers of the student is\",setdetails.pointers)\n",
    "        \n",
    "    "
   ]
  },
  {
   "cell_type": "code",
   "execution_count": 45,
   "id": "1ca308d6",
   "metadata": {},
   "outputs": [],
   "source": [
    "# A=Student()\n",
    "# A.setdetails(\"Aditya\",\"Male\",48,9.66)\n",
    "# A.printdetails()"
   ]
  },
  {
   "cell_type": "code",
   "execution_count": 49,
   "id": "752aa979",
   "metadata": {},
   "outputs": [],
   "source": [
    "# slist=[]\n",
    "# for i in range(10):\n",
    "#     print(\"Enter records no\",(i+1))\n",
    "#     r=int(input(\"Enter no:\"))\n",
    "#     n=(input(\"ENTER NAME :\"))\n",
    "#     g=input(\"Enter Gender\")\n",
    "#     p=float(input(\"Enter pointers:\"))\n",
    "#     s=student()\n",
    "#     s.setstudent(r,n,g,p)\n",
    "#     slist.append(s)\n",
    "# print(\"All details added\")\n",
    "# for i in slist:\n",
    "#     i.printstudent()\n",
    "    "
   ]
  },
  {
   "cell_type": "code",
   "execution_count": 51,
   "id": "c10a8809",
   "metadata": {},
   "outputs": [],
   "source": [
    "# class human(self,name,gender):\n",
    "#     self.name=name \n",
    "#     self.gender=gender\n",
    "# class stream(self,stream):\n",
    "#     self.stream=stream\n",
    "# class salary(self,salary):\n",
    "#     self.salary=salary\n",
    "#     def display(self):\n",
    "#         print(\"The name is\",self.name,\"The gender is\",self.gender,\"The stream is\",self.stream,\"The salary is :\",salary)"
   ]
  },
  {
   "cell_type": "code",
   "execution_count": null,
   "id": "a96d04a0",
   "metadata": {},
   "outputs": [],
   "source": [
    "''''''"
   ]
  },
  {
   "cell_type": "code",
   "execution_count": 61,
   "id": "8dfd3cd5",
   "metadata": {},
   "outputs": [],
   "source": [
    "class Student:\n",
    "    count=1\n",
    "    def __init__(self,rollno,name,nationality=\"Indian\",*hobbies):\n",
    "        self.rollno=Student.count\n",
    "        Student.count+=1\n",
    "        self.name=name\n",
    "        self.nationality=nationality\n",
    "        self.hobbies=hobbies\n",
    "    def printdetails(self):\n",
    "        print(\"The roll no is :\",self.rollno,\"The name is :\",self.name,\"The nationality :\",self.nationality,\"The hobbies are :\",self.hobbies)\n",
    "        "
   ]
  },
  {
   "cell_type": "code",
   "execution_count": 69,
   "id": "54a23cc9",
   "metadata": {},
   "outputs": [],
   "source": [
    "a=Student(48,'A',\"pakistani\",\"bombblast\",\"murder\",\"***\")"
   ]
  },
  {
   "cell_type": "code",
   "execution_count": 70,
   "id": "1a4f1bb4",
   "metadata": {},
   "outputs": [
    {
     "name": "stdout",
     "output_type": "stream",
     "text": [
      "The roll no is : 3 The name is : A The nationality : pakistani The hobbies are : ('bombblast', 'murder', '***')\n"
     ]
    }
   ],
   "source": [
    "a.printdetails()"
   ]
  },
  {
   "cell_type": "markdown",
   "id": "41b43163",
   "metadata": {},
   "source": [
    "# DAY 4"
   ]
  },
  {
   "cell_type": "markdown",
   "id": "00918c56",
   "metadata": {},
   "source": [
    "# STRING"
   ]
  },
  {
   "cell_type": "code",
   "execution_count": 1,
   "id": "ea2583ba",
   "metadata": {},
   "outputs": [],
   "source": [
    "s= '' '''''' \"\" \"\"\" \"\"\"\n",
    "#start and  end  with same "
   ]
  },
  {
   "cell_type": "code",
   "execution_count": 3,
   "id": "c0dab3eb",
   "metadata": {},
   "outputs": [
    {
     "name": "stdout",
     "output_type": "stream",
     "text": [
      "\"python\"\n"
     ]
    }
   ],
   "source": [
    "s='\"python\"'\n",
    "print(s)"
   ]
  },
  {
   "cell_type": "code",
   "execution_count": 4,
   "id": "2b805597",
   "metadata": {},
   "outputs": [],
   "source": [
    "s=\"Aditya\"+\"Shukla\""
   ]
  },
  {
   "cell_type": "code",
   "execution_count": 5,
   "id": "e910924c",
   "metadata": {},
   "outputs": [
    {
     "name": "stdout",
     "output_type": "stream",
     "text": [
      "AdityaShukla\n"
     ]
    }
   ],
   "source": [
    "print(s)"
   ]
  },
  {
   "cell_type": "code",
   "execution_count": 6,
   "id": "a8098068",
   "metadata": {},
   "outputs": [],
   "source": [
    "s=\"Aditya\" + \" \"+\"Shukla\""
   ]
  },
  {
   "cell_type": "code",
   "execution_count": 7,
   "id": "2b0ed519",
   "metadata": {},
   "outputs": [
    {
     "name": "stdout",
     "output_type": "stream",
     "text": [
      "Aditya Shukla\n"
     ]
    }
   ],
   "source": [
    "print(s)"
   ]
  },
  {
   "cell_type": "code",
   "execution_count": 9,
   "id": "4ce11fb4",
   "metadata": {},
   "outputs": [],
   "source": [
    "s=\"Aditya\\n\"*5"
   ]
  },
  {
   "cell_type": "code",
   "execution_count": 10,
   "id": "258bb3d5",
   "metadata": {},
   "outputs": [
    {
     "name": "stdout",
     "output_type": "stream",
     "text": [
      "Aditya\n",
      "Aditya\n",
      "Aditya\n",
      "Aditya\n",
      "Aditya\n",
      "\n"
     ]
    }
   ],
   "source": [
    "print(s)"
   ]
  },
  {
   "cell_type": "code",
   "execution_count": 11,
   "id": "fd852f1e",
   "metadata": {},
   "outputs": [
    {
     "data": {
      "text/plain": [
       "'e'"
      ]
     },
     "execution_count": 11,
     "metadata": {},
     "output_type": "execute_result"
    }
   ],
   "source": [
    "s=\"abcdefgh\"\n",
    "s[4]"
   ]
  },
  {
   "cell_type": "code",
   "execution_count": 13,
   "id": "8a7028e5",
   "metadata": {},
   "outputs": [
    {
     "name": "stdout",
     "output_type": "stream",
     "text": [
      "hgfedcba\n"
     ]
    }
   ],
   "source": [
    "print(s[::-1])#reverse the string or called shallow "
   ]
  },
  {
   "cell_type": "code",
   "execution_count": 14,
   "id": "2019c9a2",
   "metadata": {},
   "outputs": [],
   "source": [
    "#take a word from user and print its triangle"
   ]
  },
  {
   "cell_type": "code",
   "execution_count": 16,
   "id": "9cd8ad0a",
   "metadata": {},
   "outputs": [
    {
     "name": "stdout",
     "output_type": "stream",
     "text": [
      "Enter the word :python\n",
      "\n",
      "p\n",
      "py\n",
      "pyt\n",
      "pyth\n",
      "pytho\n",
      "python\n"
     ]
    }
   ],
   "source": [
    "word=input(\"Enter the word :\")\n",
    "for i in range(0,len(word)+1):\n",
    "    print(word[:i])\n"
   ]
  },
  {
   "cell_type": "code",
   "execution_count": 32,
   "id": "6b4e0a0e",
   "metadata": {},
   "outputs": [
    {
     "name": "stdout",
     "output_type": "stream",
     "text": [
      "Enter the word :pyhon\n",
      "p\n",
      "\n",
      "pyho\n",
      "pyh\n",
      "py\n"
     ]
    }
   ],
   "source": [
    "word=input(\"Enter the word :\")\n",
    "for i in range(0,len(word)):\n",
    "    print(word[:-i+])\n"
   ]
  },
  {
   "cell_type": "code",
   "execution_count": 31,
   "id": "9bea44a2",
   "metadata": {},
   "outputs": [
    {
     "name": "stdout",
     "output_type": "stream",
     "text": [
      "Enter the word :python\n",
      "python\n",
      "pytho\n",
      "pyth\n",
      "pyt\n",
      "py\n",
      "p\n"
     ]
    }
   ],
   "source": [
    "word=input(\"Enter the word :\")\n",
    "for i in range(len(word),0,-1):\n",
    "    print(word[:i])\n"
   ]
  },
  {
   "cell_type": "raw",
   "id": "75fe2ee8",
   "metadata": {},
   "source": [
    "\"amar\" in \"amarandra bahubali\""
   ]
  },
  {
   "cell_type": "code",
   "execution_count": 23,
   "id": "a9941454",
   "metadata": {},
   "outputs": [
    {
     "data": {
      "text/plain": [
       "False"
      ]
     },
     "execution_count": 23,
     "metadata": {},
     "output_type": "execute_result"
    }
   ],
   "source": [
    "\"amar\" not  in \"amarandra bahubali\""
   ]
  },
  {
   "cell_type": "code",
   "execution_count": 27,
   "id": "24b9cdc2",
   "metadata": {},
   "outputs": [
    {
     "data": {
      "text/plain": [
       "97"
      ]
     },
     "execution_count": 27,
     "metadata": {},
     "output_type": "execute_result"
    }
   ],
   "source": [
    "ord('a')#->ascii value"
   ]
  },
  {
   "cell_type": "code",
   "execution_count": 33,
   "id": "a150ab0b",
   "metadata": {},
   "outputs": [
    {
     "data": {
      "text/plain": [
       "'a'"
      ]
     },
     "execution_count": 33,
     "metadata": {},
     "output_type": "execute_result"
    }
   ],
   "source": [
    "chr(97)"
   ]
  },
  {
   "cell_type": "code",
   "execution_count": 39,
   "id": "186db3f7",
   "metadata": {},
   "outputs": [],
   "source": [
    "#capitalize()  capatised first letter of entire line and title() capitilised first word of entire line  upper() "
   ]
  },
  {
   "cell_type": "code",
   "execution_count": 35,
   "id": "64defc09",
   "metadata": {},
   "outputs": [],
   "source": [
    "s=\"aMar TRy THis\""
   ]
  },
  {
   "cell_type": "code",
   "execution_count": 37,
   "id": "0b7bb229",
   "metadata": {},
   "outputs": [
    {
     "data": {
      "text/plain": [
       "'Amar try this'"
      ]
     },
     "execution_count": 37,
     "metadata": {},
     "output_type": "execute_result"
    }
   ],
   "source": [
    "s.capitalize()"
   ]
  },
  {
   "cell_type": "code",
   "execution_count": 38,
   "id": "8f88b576",
   "metadata": {},
   "outputs": [
    {
     "data": {
      "text/plain": [
       "'Amar Try This'"
      ]
     },
     "execution_count": 38,
     "metadata": {},
     "output_type": "execute_result"
    }
   ],
   "source": [
    "s.title()"
   ]
  },
  {
   "cell_type": "code",
   "execution_count": 41,
   "id": "3699f7b9",
   "metadata": {},
   "outputs": [],
   "source": [
    "#python string is inmutable"
   ]
  },
  {
   "cell_type": "code",
   "execution_count": 44,
   "id": "e64af105",
   "metadata": {},
   "outputs": [
    {
     "data": {
      "text/plain": [
       "0"
      ]
     },
     "execution_count": 44,
     "metadata": {},
     "output_type": "execute_result"
    }
   ],
   "source": [
    "s=\"imagination\"\n",
    "s.find('i')"
   ]
  },
  {
   "cell_type": "code",
   "execution_count": 45,
   "id": "dfc87459",
   "metadata": {},
   "outputs": [
    {
     "data": {
      "text/plain": [
       "8"
      ]
     },
     "execution_count": 45,
     "metadata": {},
     "output_type": "execute_result"
    }
   ],
   "source": [
    "s.rfind('i')"
   ]
  },
  {
   "cell_type": "code",
   "execution_count": 46,
   "id": "252c677e",
   "metadata": {},
   "outputs": [],
   "source": [
    "#in rfind there is no negative index"
   ]
  },
  {
   "cell_type": "code",
   "execution_count": 48,
   "id": "55775783",
   "metadata": {},
   "outputs": [
    {
     "data": {
      "text/plain": [
       "'@@@@@@@@@@@@Aditya@@@@@@@@@@@@'"
      ]
     },
     "execution_count": 48,
     "metadata": {},
     "output_type": "execute_result"
    }
   ],
   "source": [
    "s=\"Aditya\"\n",
    "s.center(30,\"@\")"
   ]
  },
  {
   "cell_type": "code",
   "execution_count": 51,
   "id": "7551c656",
   "metadata": {},
   "outputs": [
    {
     "data": {
      "text/plain": [
       "'Aditya   unji'"
      ]
     },
     "execution_count": 51,
     "metadata": {},
     "output_type": "execute_result"
    }
   ],
   "source": [
    "s=\"    Aditya   unji  \"\n",
    "s.strip()"
   ]
  },
  {
   "cell_type": "code",
   "execution_count": 52,
   "id": "5bf7dbe4",
   "metadata": {},
   "outputs": [
    {
     "data": {
      "text/plain": [
       "'Aditya   unji  '"
      ]
     },
     "execution_count": 52,
     "metadata": {},
     "output_type": "execute_result"
    }
   ],
   "source": [
    "s.lstrip()"
   ]
  },
  {
   "cell_type": "code",
   "execution_count": 53,
   "id": "8b3fd798",
   "metadata": {},
   "outputs": [
    {
     "data": {
      "text/plain": [
       "'    Aditya   unji'"
      ]
     },
     "execution_count": 53,
     "metadata": {},
     "output_type": "execute_result"
    }
   ],
   "source": [
    "s.rstrip()"
   ]
  },
  {
   "cell_type": "code",
   "execution_count": 54,
   "id": "a42489fa",
   "metadata": {},
   "outputs": [
    {
     "data": {
      "text/plain": [
       "'HE came by cab'"
      ]
     },
     "execution_count": 54,
     "metadata": {},
     "output_type": "execute_result"
    }
   ],
   "source": [
    "s=\"HE came by taxi\"\n",
    "s.replace(\"taxi\",\"cab\")"
   ]
  },
  {
   "cell_type": "code",
   "execution_count": 58,
   "id": "0af14148",
   "metadata": {},
   "outputs": [
    {
     "data": {
      "text/plain": [
       "'This was Done'"
      ]
     },
     "execution_count": 58,
     "metadata": {},
     "output_type": "execute_result"
    }
   ],
   "source": [
    "s=\"This is Done\"\n",
    "s.replace(\" is\",\" was\")"
   ]
  },
  {
   "cell_type": "code",
   "execution_count": 62,
   "id": "685b2118",
   "metadata": {},
   "outputs": [
    {
     "name": "stdout",
     "output_type": "stream",
     "text": [
      "Total word: 5\n"
     ]
    }
   ],
   "source": [
    "s=\"this is a test line\"\n",
    "dlist=s.split()\n",
    "print(\"Total word:\",len(dlist))"
   ]
  },
  {
   "cell_type": "code",
   "execution_count": 64,
   "id": "4c8341a2",
   "metadata": {},
   "outputs": [
    {
     "data": {
      "text/plain": [
       "['', 'mag', 'nat', 'on']"
      ]
     },
     "execution_count": 64,
     "metadata": {},
     "output_type": "execute_result"
    }
   ],
   "source": [
    "s=\"imagination\"\n",
    "dlist=s.split(\"i\")\n",
    "dlist\n"
   ]
  },
  {
   "cell_type": "code",
   "execution_count": 68,
   "id": "aa0c285e",
   "metadata": {},
   "outputs": [
    {
     "data": {
      "text/plain": [
       "['21', '34', '123', '534']"
      ]
     },
     "execution_count": 68,
     "metadata": {},
     "output_type": "execute_result"
    }
   ],
   "source": [
    "s=\"21,34,123,534\"\n",
    "alist=s.split(\",\")\n",
    "alist"
   ]
  },
  {
   "cell_type": "code",
   "execution_count": null,
   "id": "42060637",
   "metadata": {},
   "outputs": [],
   "source": [
    "#max(str) returns the "
   ]
  },
  {
   "cell_type": "code",
   "execution_count": 6,
   "id": "cd689883",
   "metadata": {},
   "outputs": [
    {
     "name": "stdout",
     "output_type": "stream",
     "text": [
      "Enter a line : asdfgh\n",
      "Number of vowel is :  1\n"
     ]
    }
   ],
   "source": [
    "line=input(\"Enter a line : \")\n",
    "line=line.lower()\n",
    "count=0\n",
    "for i in line:\n",
    "    if i=='a' or i=='o' or i=='i'or i=='e' or i=='u':\n",
    "        count+=1\n",
    "print(\"Number of vowel is : \",count)"
   ]
  },
  {
   "cell_type": "code",
   "execution_count": 10,
   "id": "7d158685",
   "metadata": {},
   "outputs": [
    {
     "name": "stdout",
     "output_type": "stream",
     "text": [
      "Enter a line : aeiou\n",
      "Number of vowel is :  5\n"
     ]
    }
   ],
   "source": [
    "line=input(\"Enter a line : \")\n",
    "line=line.lower()\n",
    "a=0\n",
    "for i in ['a','e','i','o','u']:\n",
    "    a+=line.count(i)\n",
    "print(\"Number of vowel is : \",a)"
   ]
  },
  {
   "cell_type": "code",
   "execution_count": 11,
   "id": "72706fb6",
   "metadata": {},
   "outputs": [
    {
     "name": "stdout",
     "output_type": "stream",
     "text": [
      "Enter a line : aeiou\n",
      "Number of vowel is :  5\n"
     ]
    }
   ],
   "source": [
    "line=input(\"Enter a line : \")\n",
    "line=line.lower()\n",
    "a=0\n",
    "for i in 'aeiou':\n",
    "    a+=line.count(i)\n",
    "print(\"Number of vowel is : \",a)"
   ]
  },
  {
   "cell_type": "code",
   "execution_count": 16,
   "id": "afee488f",
   "metadata": {},
   "outputs": [
    {
     "name": "stdout",
     "output_type": "stream",
     "text": [
      "Enter a line :A apple is fallen\n"
     ]
    },
    {
     "data": {
      "text/plain": [
       "4"
      ]
     },
     "execution_count": 16,
     "metadata": {},
     "output_type": "execute_result"
    }
   ],
   "source": [
    "line=input(\"Enter a line :\")\n",
    "alist=line.split()\n",
    "alist=set(alist)\n",
    "len(alist)"
   ]
  },
  {
   "cell_type": "code",
   "execution_count": null,
   "id": "5d6bfa04",
   "metadata": {},
   "outputs": [],
   "source": [
    "line=input(\"Enter a line :\")\n",
    "prin"
   ]
  },
  {
   "cell_type": "code",
   "execution_count": 18,
   "id": "1d97c99c",
   "metadata": {},
   "outputs": [
    {
     "name": "stdout",
     "output_type": "stream",
     "text": [
      "Enter a line :this is this is\n",
      "this 2\n",
      "is 2\n"
     ]
    }
   ],
   "source": [
    "line=input(\"Enter a line :\")\n",
    "alist=line.split()\n",
    "\n",
    "    print(i,alist.count(i))"
   ]
  },
  {
   "cell_type": "code",
   "execution_count": null,
   "id": "e0516298",
   "metadata": {},
   "outputs": [],
   "source": [
    "for i in set(input(\"Enter string : \").split()):\n",
    "    print(\"Number of time\",i,\"is repeated is\",)"
   ]
  },
  {
   "cell_type": "code",
   "execution_count": 21,
   "id": "561b0e09",
   "metadata": {},
   "outputs": [
    {
     "name": "stdout",
     "output_type": "stream",
     "text": [
      "Enter a line :a b c d e g a\n",
      "a 2\n",
      "b 1\n",
      "c 1\n",
      "d 1\n",
      "e 1\n",
      "g 1\n"
     ]
    }
   ],
   "source": [
    "line=input(\"Enter a line :\")\n",
    "alist=line.split()\n",
    "for i in sorted(set(line.split())):\n",
    "    print(i,alist.count(i))\n",
    "    "
   ]
  },
  {
   "cell_type": "code",
   "execution_count": 23,
   "id": "8a0b59d5",
   "metadata": {},
   "outputs": [
    {
     "name": "stdout",
     "output_type": "stream",
     "text": [
      "3000\n",
      "3004\n",
      "3008\n",
      "3012\n",
      "3016\n",
      "3020\n",
      "3024\n",
      "3028\n",
      "3032\n",
      "3036\n",
      "3040\n",
      "3044\n",
      "3048\n",
      "3052\n",
      "3056\n",
      "3060\n",
      "3064\n",
      "3068\n",
      "3072\n",
      "3076\n",
      "3080\n",
      "3084\n",
      "3088\n",
      "3092\n",
      "3096\n",
      "3100\n",
      "3104\n",
      "3108\n",
      "3112\n",
      "3116\n",
      "3120\n",
      "3124\n",
      "3128\n",
      "3132\n",
      "3136\n",
      "3140\n",
      "3144\n",
      "3148\n",
      "3152\n",
      "3156\n",
      "3160\n",
      "3164\n",
      "3168\n",
      "3172\n",
      "3176\n",
      "3180\n",
      "3184\n",
      "3188\n",
      "3192\n",
      "3196\n",
      "3200\n",
      "3204\n",
      "3208\n",
      "3212\n",
      "3216\n",
      "3220\n",
      "3224\n",
      "3228\n",
      "3232\n",
      "3236\n",
      "3240\n",
      "3244\n",
      "3248\n",
      "3252\n",
      "3256\n",
      "3260\n",
      "3264\n",
      "3268\n",
      "3272\n",
      "3276\n",
      "3280\n",
      "3284\n",
      "3288\n",
      "3292\n",
      "3296\n",
      "3300\n",
      "3304\n",
      "3308\n",
      "3312\n",
      "3316\n",
      "3320\n",
      "3324\n",
      "3328\n",
      "3332\n",
      "3336\n",
      "3340\n",
      "3344\n",
      "3348\n",
      "3352\n",
      "3356\n",
      "3360\n",
      "3364\n",
      "3368\n",
      "3372\n",
      "3376\n",
      "3380\n",
      "3384\n",
      "3388\n",
      "3392\n",
      "3396\n",
      "3400\n",
      "3404\n",
      "3408\n",
      "3412\n",
      "3416\n",
      "3420\n",
      "3424\n",
      "3428\n",
      "3432\n",
      "3436\n",
      "3440\n",
      "3444\n",
      "3448\n",
      "3452\n",
      "3456\n",
      "3460\n",
      "3464\n",
      "3468\n",
      "3472\n",
      "3476\n",
      "3480\n",
      "3484\n",
      "3488\n",
      "3492\n",
      "3496\n",
      "3500\n",
      "3504\n",
      "3508\n",
      "3512\n",
      "3516\n",
      "3520\n",
      "3524\n",
      "3528\n",
      "3532\n",
      "3536\n",
      "3540\n",
      "3544\n",
      "3548\n",
      "3552\n",
      "3556\n",
      "3560\n",
      "3564\n",
      "3568\n",
      "3572\n",
      "3576\n",
      "3580\n",
      "3584\n",
      "3588\n",
      "3592\n",
      "3596\n",
      "3600\n",
      "3604\n",
      "3608\n",
      "3612\n",
      "3616\n",
      "3620\n",
      "3624\n",
      "3628\n",
      "3632\n",
      "3636\n",
      "3640\n",
      "3644\n",
      "3648\n",
      "3652\n",
      "3656\n",
      "3660\n",
      "3664\n",
      "3668\n",
      "3672\n",
      "3676\n",
      "3680\n",
      "3684\n",
      "3688\n",
      "3692\n",
      "3696\n",
      "3700\n",
      "3704\n",
      "3708\n",
      "3712\n",
      "3716\n",
      "3720\n",
      "3724\n",
      "3728\n",
      "3732\n",
      "3736\n",
      "3740\n",
      "3744\n",
      "3748\n",
      "3752\n",
      "3756\n",
      "3760\n",
      "3764\n",
      "3768\n",
      "3772\n",
      "3776\n",
      "3780\n",
      "3784\n",
      "3788\n",
      "3792\n",
      "3796\n",
      "3800\n",
      "3804\n",
      "3808\n",
      "3812\n",
      "3816\n",
      "3820\n",
      "3824\n",
      "3828\n",
      "3832\n",
      "3836\n",
      "3840\n",
      "3844\n",
      "3848\n",
      "3852\n",
      "3856\n",
      "3860\n",
      "3864\n",
      "3868\n",
      "3872\n",
      "3876\n",
      "3880\n",
      "3884\n",
      "3888\n",
      "3892\n",
      "3896\n",
      "3900\n",
      "3904\n",
      "3908\n",
      "3912\n",
      "3916\n",
      "3920\n",
      "3924\n",
      "3928\n",
      "3932\n",
      "3936\n",
      "3940\n",
      "3944\n",
      "3948\n",
      "3952\n",
      "3956\n",
      "3960\n",
      "3964\n",
      "3968\n",
      "3972\n",
      "3976\n",
      "3980\n",
      "3984\n",
      "3988\n",
      "3992\n",
      "3996\n",
      "4000\n"
     ]
    }
   ],
   "source": [
    "for i in range(3000,4001,4):\n",
    "    print(i)"
   ]
  },
  {
   "cell_type": "code",
   "execution_count": null,
   "id": "a47f4493",
   "metadata": {},
   "outputs": [],
   "source": [
    "line=input(\"Enter a line : \")\n",
    "alist=line.split()\n",
    "wlist=wlist[::-1]\n",
    "rline=\"\"\n",
    "for word in wlist:\n",
    "    rline=rline+word+\"\"\n"
   ]
  },
  {
   "cell_type": "code",
   "execution_count": 1,
   "id": "1e30541d",
   "metadata": {},
   "outputs": [
    {
     "name": "stdout",
     "output_type": "stream",
     "text": [
      "Enter a number : 1234\n",
      "rno 4 no 123 digit 4\n",
      "rno 43 no 12 digit 3\n",
      "rno 432 no 1 digit 2\n",
      "rno 4321 no 0 digit 1\n"
     ]
    }
   ],
   "source": [
    "#reverse a number (not just print)\n",
    "#rno=rno*10+digit\n",
    "no=int(input(\"Enter a number : \"))\n",
    "rno=0\n",
    "while no>0:\n",
    "    digit=no%10\n",
    "    rno=rno*10+digit\n",
    "    no=no//10\n",
    "    print(\"rno\",rno,\"no\",no,\"digit\",digit)"
   ]
  },
  {
   "cell_type": "code",
   "execution_count": 2,
   "id": "edb3c709",
   "metadata": {},
   "outputs": [
    {
     "data": {
      "text/plain": [
       "'print and count total palindrom number from 100 to 999'"
      ]
     },
     "execution_count": 2,
     "metadata": {},
     "output_type": "execute_result"
    }
   ],
   "source": [
    "'''print and count total palindrom number from 100 to 999'''"
   ]
  },
  {
   "cell_type": "code",
   "execution_count": null,
   "id": "e25d75d8",
   "metadata": {},
   "outputs": [],
   "source": [
    "# for no in range(100,1000):\n",
    "#     count=0\n",
    "#     rno=0\n",
    "#     while no>0:\n",
    "#         digit=no%10\n",
    "#         rno=rno*10+digit\n",
    "#         n=no//10\n",
    "#         if n==no:\n",
    "#             count+=1\n",
    "# print(\"The number of plindrome is\",count)   "
   ]
  },
  {
   "cell_type": "code",
   "execution_count": null,
   "id": "3a2cb853",
   "metadata": {},
   "outputs": [],
   "source": [
    "def fact(no):\n",
    "    if no==1:\n",
    "        return 1\n",
    "    else:\n",
    "        return no*fact(no-1)"
   ]
  },
  {
   "cell_type": "markdown",
   "id": "9214c247",
   "metadata": {},
   "source": [
    "# Exception Handling"
   ]
  },
  {
   "cell_type": "code",
   "execution_count": 1,
   "id": "a4f9caa7",
   "metadata": {},
   "outputs": [],
   "source": [
    "#A state in which program can not run normally is an error"
   ]
  },
  {
   "cell_type": "code",
   "execution_count": 2,
   "id": "acedc8ee",
   "metadata": {},
   "outputs": [
    {
     "name": "stdout",
     "output_type": "stream",
     "text": [
      "4\n",
      "a\n",
      "EX\n",
      "by\n"
     ]
    }
   ],
   "source": [
    "try:\n",
    "    a=int(input())\n",
    "    b=int(input())\n",
    "except:\n",
    "    print(\"EX\")\n",
    "else:\n",
    "    print(a,b)\n",
    "finally:\n",
    "    print(\"by\")"
   ]
  },
  {
   "cell_type": "code",
   "execution_count": 4,
   "id": "ede6bf1e",
   "metadata": {},
   "outputs": [
    {
     "name": "stdout",
     "output_type": "stream",
     "text": [
      "1\n",
      "a\n",
      "EX invalid literal for int() with base 10: 'a'\n",
      "by\n"
     ]
    }
   ],
   "source": [
    "try:\n",
    "    a=int(input())\n",
    "    b=int(input())\n",
    "except Exception as arg:\n",
    "    print(\"EX\",arg)\n",
    "else:\n",
    "    print(a,b)\n",
    "finally:\n",
    "    print(\"by\")"
   ]
  },
  {
   "cell_type": "code",
   "execution_count": 8,
   "id": "dedb5d6b",
   "metadata": {},
   "outputs": [
    {
     "name": "stdout",
     "output_type": "stream",
     "text": [
      "1\n",
      "0\n",
      "EX division by zero\n",
      "by\n"
     ]
    }
   ],
   "source": [
    "try:\n",
    "    a=int(input())\n",
    "    b=int(input())\n",
    "    c=a/b\n",
    "except Exception as arr:\n",
    "    print(\"EX\",arr)\n",
    "else:\n",
    "    print(c)\n",
    "finally:\n",
    "    print(\"by\")"
   ]
  },
  {
   "cell_type": "code",
   "execution_count": 9,
   "id": "30ecef67",
   "metadata": {},
   "outputs": [],
   "source": [
    "#when used try and except in case of exception code stops at final final ke niche wala code run nahi hoga"
   ]
  },
  {
   "cell_type": "code",
   "execution_count": 10,
   "id": "8f92add9",
   "metadata": {},
   "outputs": [],
   "source": [
    "# #stack ->linear \n",
    "# ->static \n",
    "# ->LIFO \n",
    "# ->Singlended "
   ]
  },
  {
   "cell_type": "code",
   "execution_count": 11,
   "id": "f293a857",
   "metadata": {},
   "outputs": [],
   "source": [
    "# # createStack(size):\n",
    "# tos=-1\n",
    "# Maxsize=size"
   ]
  },
  {
   "cell_type": "code",
   "execution_count": 12,
   "id": "f9e8304d",
   "metadata": {},
   "outputs": [],
   "source": [
    "# # Operation:\n",
    "# tis->top of stack\n",
    "# #     push(e):\n",
    "# #         tos=tos+1\n",
    "# #         stack[tos]=e\n",
    "#       pop(e):\n",
    "#         tos=tos-1"
   ]
  },
  {
   "cell_type": "code",
   "execution_count": null,
   "id": "ee709727",
   "metadata": {},
   "outputs": [],
   "source": [
    "# is full condition:\n",
    "#     if tos=-maxSize-1\n",
    "# is empty:\n",
    "#     if tos==-1\n",
    "# peek():\n",
    "#     return element at top\n",
    "# printStack():\n",
    "#     |\n",
    "#     |->print in lifo"
   ]
  },
  {
   "cell_type": "markdown",
   "id": "5a37e477",
   "metadata": {},
   "source": [
    "# STACK"
   ]
  },
  {
   "cell_type": "code",
   "execution_count": 1,
   "id": "8dc0e8fe",
   "metadata": {},
   "outputs": [],
   "source": [
    "stack=[]\n",
    "stack.append(10)\n",
    "stack.append(20)\n",
    "stack.append(30)\n"
   ]
  },
  {
   "cell_type": "code",
   "execution_count": 3,
   "id": "7b4de24b",
   "metadata": {},
   "outputs": [
    {
     "name": "stdout",
     "output_type": "stream",
     "text": [
      "[30, 20, 10]\n"
     ]
    }
   ],
   "source": [
    "print(stack[::-1])"
   ]
  },
  {
   "cell_type": "code",
   "execution_count": 4,
   "id": "9ed5e6a0",
   "metadata": {},
   "outputs": [
    {
     "data": {
      "text/plain": [
       "30"
      ]
     },
     "execution_count": 4,
     "metadata": {},
     "output_type": "execute_result"
    }
   ],
   "source": [
    "stack.pop()"
   ]
  },
  {
   "cell_type": "code",
   "execution_count": 5,
   "id": "b3e78541",
   "metadata": {},
   "outputs": [
    {
     "data": {
      "text/plain": [
       "20"
      ]
     },
     "execution_count": 5,
     "metadata": {},
     "output_type": "execute_result"
    }
   ],
   "source": [
    "stack[-1]"
   ]
  },
  {
   "cell_type": "code",
   "execution_count": 6,
   "id": "a2ef67fa",
   "metadata": {},
   "outputs": [],
   "source": [
    "# push:append()\n",
    "# pop:pop()\n",
    "# print:reverse and print using loop\n",
    "# peek:print[-1]\n",
    "# isempty:len()==0\n",
    "# is full does not needed as it is dynamic"
   ]
  },
  {
   "cell_type": "code",
   "execution_count": null,
   "id": "1daaf654",
   "metadata": {},
   "outputs": [
    {
     "name": "stdout",
     "output_type": "stream",
     "text": [
      "1.push\n",
      "2.pop\n",
      "3.peek\n",
      "4.print\n",
      "0.Exit\n",
      "Enter : 1\n",
      "Enter the number to be appended : 1\n",
      "Element Pushed\n",
      "1.push\n",
      "2.pop\n",
      "3.peek\n",
      "4.print\n",
      "0.Exit\n",
      "Enter : 1\n",
      "Enter the number to be appended : 2\n",
      "Element Pushed\n",
      "1.push\n",
      "2.pop\n",
      "3.peek\n",
      "4.print\n",
      "0.Exit\n",
      "Enter : 1\n",
      "Enter the number to be appended : 3\n",
      "Element Pushed\n",
      "1.push\n",
      "2.pop\n",
      "3.peek\n",
      "4.print\n",
      "0.Exit\n",
      "Enter : 4\n",
      "Element in the stack are : \n",
      "3\n",
      "2\n",
      "1\n",
      "1.push\n",
      "2.pop\n",
      "3.peek\n",
      "4.print\n",
      "0.Exit\n"
     ]
    }
   ],
   "source": [
    "stack=[]\n",
    "while True:\n",
    "    print(\"1.push\\n2.pop\\n3.peek\\n4.print\\n0.Exit\")\n",
    "    ch=int(input(\"Enter : \"))\n",
    "    if ch==1:\n",
    "        data=int(input(\"Enter the number to be appended : \"))\n",
    "        stack.append(data)   \n",
    "        print(\"Element Pushed\")\n",
    "    elif ch==2:\n",
    "        if len(stack)!=0:\n",
    "            stack.pop()\n",
    "            print(\"Element poped\")\n",
    "    elif ch==3:\n",
    "        print(\"The top element of the stack is : \")\n",
    "        print(stack[-1])\n",
    "    elif ch==4:\n",
    "        print(\"Element in the stack are : \")\n",
    "        for i in stack[::-1]:\n",
    "            print(i)\n",
    "    elif ch==0:\n",
    "        print(\"Thank You\")\n",
    "        break\n",
    "    else:\n",
    "        print(\"Wrong Input :\")\n",
    "    "
   ]
  },
  {
   "cell_type": "code",
   "execution_count": null,
   "id": "dc7e0ce3",
   "metadata": {},
   "outputs": [],
   "source": [
    "# # Create queue(size):\n",
    "# #     front=0\n",
    "# rear=-1\n",
    "# Maxsize=size\n",
    "    "
   ]
  },
  {
   "cell_type": "code",
   "execution_count": 1,
   "id": "1f599a8e",
   "metadata": {},
   "outputs": [
    {
     "name": "stdout",
     "output_type": "stream",
     "text": [
      "1.enqued\n",
      "2.dequed\n",
      "3.peek\n",
      "4.print\n",
      "0.Exit\n",
      "Enter : 0\n",
      "Thank You\n"
     ]
    }
   ],
   "source": [
    "queue=[]\n",
    "while True:\n",
    "    print(\"1.enqued\\n2.dequed\\n3.peek\\n4.print\\n0.Exit\")\n",
    "    ch=int(input(\"Enter : \"))\n",
    "    if ch==1:\n",
    "        data=int(input(\"Enter the number to be enqueued : \"))\n",
    "        queue.append(data)   \n",
    "        print(\"Element Pushed\")\n",
    "    elif ch==2:\n",
    "        if len(queue)!=0:\n",
    "#             q=queue[::-1]\n",
    "            queue.pop(0)#if index not given last else i\n",
    "#         queue=q\n",
    "        print(\"Element poped\")\n",
    "    elif ch==3:\n",
    "        print(\"The top element of the queue is : \")\n",
    "        print(queue[0])\n",
    "    elif ch==4:\n",
    "        print(\"Element in the queue are : \")\n",
    "        for i in queue:\n",
    "            print(i)\n",
    "    elif ch==0:\n",
    "        print(\"Thank You\")\n",
    "        break\n",
    "    else:\n",
    "        print(\"Wrong Input :\")\n",
    "    "
   ]
  },
  {
   "cell_type": "code",
   "execution_count": 2,
   "id": "fc1cf21e",
   "metadata": {},
   "outputs": [
    {
     "data": {
      "text/plain": [
       "'\\nCreate queue(size):\\nfront=  0\\nrear=-1\\nmaxSize = size\\n\\nEnqueue -> rear increments and moves back, input data in queue,adds\\nDequeue -> front increments , deletes  '"
      ]
     },
     "execution_count": 2,
     "metadata": {},
     "output_type": "execute_result"
    }
   ],
   "source": [
    "'''\n",
    "Queue is linear, static, double ended, FIFO property \n",
    "Appplication  - maintaining playlist\n",
    "managing requests\n",
    "manage requests in schedulling and disk schedulling\n",
    "handling website traffic\n",
    "routers and switches in networking\n",
    "Handling hardware or real time systems interrupts\n",
    "indbox - queue\n",
    "'''\n",
    "\n",
    "'''\n",
    "Create queue(size):\n",
    "front=  0\n",
    "rear=-1\n",
    "maxSize = size\n",
    "\n",
    "Enqueue -> rear increments and moves back, input data in queue,adds\n",
    "Dequeue -> front increments , deletes  '''"
   ]
  },
  {
   "cell_type": "code",
   "execution_count": null,
   "id": "933a32dc",
   "metadata": {},
   "outputs": [],
   "source": [
    "stack=[]\n",
    "def \n",
    "for i in range(size):\n",
    "    "
   ]
  },
  {
   "cell_type": "code",
   "execution_count": null,
   "id": "d66fd337",
   "metadata": {},
   "outputs": [
    {
     "name": "stdout",
     "output_type": "stream",
     "text": [
      "Enter size:3\n",
      "stack created of size 3\n",
      "[0, 0, 0]\n",
      "1.Push\n",
      "2.Pop\n",
      "3.Peek\n",
      "4.Print\n",
      "0.Exit\n",
      "Enter:1\n",
      "Enter data:1\n",
      "Element pushed\n",
      "Element pushed\n",
      "1.Push\n",
      "2.Pop\n",
      "3.Peek\n",
      "4.Print\n",
      "0.Exit\n",
      "Enter:1\n",
      "Enter data:2\n",
      "Element pushed\n",
      "Element pushed\n",
      "1.Push\n",
      "2.Pop\n",
      "3.Peek\n",
      "4.Print\n",
      "0.Exit\n",
      "Enter:1\n",
      "Enter data:3\n",
      "Element pushed\n",
      "Element pushed\n",
      "1.Push\n",
      "2.Pop\n",
      "3.Peek\n",
      "4.Print\n",
      "0.Exit\n",
      "Enter:2\n",
      "Element poped: 3\n",
      "1.Push\n",
      "2.Pop\n",
      "3.Peek\n",
      "4.Print\n",
      "0.Exit\n",
      "Enter:4\n",
      "Elements is stack\n",
      "1\n",
      "2\n",
      "-1\n",
      "3\n",
      "-1\n",
      "3\n",
      "1.Push\n",
      "2.Pop\n",
      "3.Peek\n",
      "4.Print\n",
      "0.Exit\n"
     ]
    }
   ],
   "source": [
    "class DS1:\n",
    "    stack=[]\n",
    "    tos=0\n",
    "    MaxSize=0\n",
    "    def createStack(self,size):\n",
    "        DS1.tos=-1\n",
    "        DS1.MaxSize=size\n",
    "        for i in range(size):\n",
    "            DS1.stack.append(0)\n",
    "        print(\"stack created of size\",len(DS1.stack))\n",
    "        print(DS1.stack)\n",
    "    def push(self,e):\n",
    "        DS1.tos+=1\n",
    "        DS1.stack[DS1.tos]=e\n",
    "        print(\"Element pushed\")\n",
    "        \n",
    "    def pop(self):\n",
    "        temp=DS1.stack[DS1.tos]\n",
    "        DS1.tos-=1\n",
    "        return(temp)\n",
    "    def isFull(self):\n",
    "        if DS1.tos==DS1.MaxSize-1:\n",
    "            return True\n",
    "        else:\n",
    "            return False\n",
    "    def isEmpty(self):\n",
    "        if DS1.tos==-1:\n",
    "            return True\n",
    "        else:\n",
    "            return False\n",
    "    def peek(self):\n",
    "        return(DS1.stack[DS1.tos])\n",
    "    def printStack(self):\n",
    "        for i in (DS1.tos,-1,-1):\n",
    "            print(i)\n",
    "            print(DS1.stack[i])\n",
    "\n",
    "#Main Code\n",
    "o=DS1()\n",
    "o.createStack(int(input(\"Enter size:\")))\n",
    "\n",
    "while True:\n",
    "    print(\"1.Push\\n2.Pop\\n3.Peek\\n4.Print\\n0.Exit\") \n",
    "    ch=int(input(\"Enter:\"))\n",
    "    if ch==1:\n",
    "        if o.isFull()!=True:\n",
    "            data=int(input(\"Enter data:\"))\n",
    "            o.push(data)\n",
    "            print(\"Element pushed\")\n",
    "        else:\n",
    "            print(\"Stack Full\")\n",
    "    elif ch==2:\n",
    "        if o.isEmpty()!=True:\n",
    "            print(\"Element poped:\",o.pop())\n",
    "        else:\n",
    "            print(\"Stack Empty\")\n",
    "    elif ch==3:\n",
    "        if o.isEmpty()!=True:\n",
    "            print(\"Element @peek:\",o.peek())\n",
    "        else:\n",
    "            print(\"Stack Empty\")\n",
    "    elif ch==4:\n",
    "        if o.isEmpty()!=True:\n",
    "            print(\"Elements is stack\")\n",
    "            o.printStack()\n",
    "        else:\n",
    "            print(\"Stack Empty\")\n",
    "        \n",
    "    elif ch==0:\n",
    "        print(\"devloped by amarpanchal.education\")\n",
    "        break\n",
    "    else:\n",
    "        print(\"Wrong input\")"
   ]
  },
  {
   "cell_type": "markdown",
   "id": "d7937223",
   "metadata": {},
   "source": [
    "# QUEUE"
   ]
  },
  {
   "cell_type": "code",
   "execution_count": 1,
   "id": "26525777",
   "metadata": {},
   "outputs": [
    {
     "name": "stdout",
     "output_type": "stream",
     "text": [
      "Enter size:0\n",
      "stack created of size 0\n",
      "[]\n",
      "1.Push\n",
      "2.Pop\n",
      "3.Peek\n",
      "4.Print\n",
      "0.Exit\n",
      "Enter:0\n",
      "devloped by amarpanchal.education\n"
     ]
    }
   ],
   "source": [
    "class DS1:\n",
    "    stack=[]\n",
    "    tos=0\n",
    "    MaxSize=0\n",
    "    def createStack(self,size):\n",
    "        DS1.tos=-1\n",
    "        DS1.MaxSize=size\n",
    "        for i in range(size):\n",
    "            DS1.stack.append(0)\n",
    "        print(\"stack created of size\",len(DS1.stack))\n",
    "        print(DS1.stack)\n",
    "    def push(self,e):\n",
    "        DS1.tos+=1\n",
    "        DS1.stack[DS1.tos]=e\n",
    "        print(\"Element pushed\")\n",
    "        \n",
    "    def pop(self):\n",
    "        temp=DS1.stack[DS1.tos]\n",
    "        DS1.tos-=1\n",
    "        return(temp)\n",
    "    def isFull(self):\n",
    "        if DS1.tos==DS1.MaxSize-1:\n",
    "            return True\n",
    "        else:\n",
    "            return False\n",
    "    def isEmpty(self):\n",
    "        if DS1.tos==-1:\n",
    "            return True\n",
    "        else:\n",
    "            return False\n",
    "    def peek(self):\n",
    "        return(DS1.stack[DS1.tos])\n",
    "    def printStack(self):\n",
    "        for i in range(DS1.tos,-1,-1):\n",
    "            print(i)\n",
    "            print(DS1.stack[i])\n",
    "\n",
    "#Main Code\n",
    "o=DS1()\n",
    "o.createStack(int(input(\"Enter size:\")))\n",
    "while True:\n",
    "    print(\"1.Push\\n2.Pop\\n3.Peek\\n4.Print\\n0.Exit\")\n",
    "    ch=int(input(\"Enter:\"))\n",
    "    if ch==1:\n",
    "        if o.isFull()!=True:\n",
    "            data=int(input(\"Enter data:\"))\n",
    "            o.push(data)\n",
    "            print(\"Element pushed\")\n",
    "        else:\n",
    "            print(\"Stack Full\")\n",
    "    elif ch==2:\n",
    "        if o.isEmpty()!=True:\n",
    "            print(\"Element poped:\",o.pop())\n",
    "        else:\n",
    "            print(\"Stack Empty\")\n",
    "    elif ch==3:\n",
    "        if o.isEmpty()!=True:\n",
    "            print(\"Element @peek:\",o.peek())\n",
    "        else:\n",
    "            print(\"Stack Empty\")\n",
    "    elif ch==4:\n",
    "        if o.isEmpty()!=True:\n",
    "            print(\"Elements is stack\")\n",
    "            o.printStack()\n",
    "        else:\n",
    "            print(\"Stack Empty\")\n",
    "        \n",
    "    elif ch==0:\n",
    "        print(\"devloped by amarpanchal.education\")\n",
    "        break\n",
    "    else:\n",
    "        print(\"Wrong input\")"
   ]
  },
  {
   "cell_type": "markdown",
   "id": "0760ada8",
   "metadata": {},
   "source": [
    "<!--  queue have three types linear queue,circular queue,priroty queue,Double ended queue -->"
   ]
  },
  {
   "cell_type": "code",
   "execution_count": null,
   "id": "81a04ad9",
   "metadata": {},
   "outputs": [],
   "source": [
    "class queue:\n",
    "    def createqueue(self,size):\n",
    "        self.q=[0]*size\n",
    "        self.front=0\n",
    "        slef.rear=-1\n",
    "        self.Maxsize=siz\n",
    "    def enqueue(self,e):\n",
    "        self.rear+=1\n",
    "        self.q[self.rear]=e\n",
    "    def isFull(self):\n",
    "        if self.rear==self.Maxsize-1:\n",
    "            return True\n",
    "        else:\n",
    "            return False\n",
    "    def Dequeue(self):\n",
    "        temp=self.q[self.front]\n",
    "        self.front+=1\n",
    "        return temp\n",
    "    def isEmpty(self):\n",
    "        if self.front>self.rear:\n",
    "            return True\n",
    "        else:\n",
    "            return False"
   ]
  },
  {
   "cell_type": "code",
   "execution_count": 1,
   "id": "1f420e04",
   "metadata": {},
   "outputs": [
    {
     "name": "stdout",
     "output_type": "stream",
     "text": [
      "1 2 3 4 5\n"
     ]
    }
   ],
   "source": [
    "print(*[1,2,3,4,5])"
   ]
  },
  {
   "cell_type": "code",
   "execution_count": 1,
   "id": "5540ade6",
   "metadata": {
    "scrolled": true
   },
   "outputs": [
    {
     "name": "stdout",
     "output_type": "stream",
     "text": [
      "Enter size:3\n",
      "1.Enqueue\n",
      "2.Dequeue\n",
      "3.Print\n",
      "0.Exit\n",
      "Enter:1\n",
      "Enter data:1\n",
      "Element Enqueued\n",
      "1.Enqueue\n",
      "2.Dequeue\n",
      "3.Print\n",
      "0.Exit\n",
      "Enter:1\n",
      "Enter data:2\n",
      "Element Enqueued\n",
      "1.Enqueue\n",
      "2.Dequeue\n",
      "3.Print\n",
      "0.Exit\n",
      "Enter:1\n",
      "Enter data:3\n",
      "Element Enqueued\n",
      "1.Enqueue\n",
      "2.Dequeue\n",
      "3.Print\n",
      "0.Exit\n",
      "Enter:2\n",
      "Element dequeued: 0\n",
      "1.Enqueue\n",
      "2.Dequeue\n",
      "3.Print\n",
      "0.Exit\n",
      "Enter:3\n",
      "Elements in Queue\n",
      "0--3--1.Enqueue\n",
      "2.Dequeue\n",
      "3.Print\n",
      "0.Exit\n",
      "Enter:0\n",
      "devloped by amarpanchal.education\n"
     ]
    }
   ],
   "source": [
    "class Queue:\n",
    "    def createQueue(self,size):\n",
    "        self.q=[]\n",
    "        self.front=0\n",
    "        self.rear=-1\n",
    "        self.count=0\n",
    "        self.Maxsize=size  #5\n",
    "        for i in range(self.Maxsize):\n",
    "            self.q.append(0) #[0,0,0,0,0]\n",
    "\n",
    "    def Enqueue(self,e):\n",
    "        self.rear=self.rear%self.Maxsize\n",
    "        self.q[self.rear]=e\n",
    "        self.count+=1\n",
    "                         \n",
    "    def isFull(self):\n",
    "        if self.count==self.Maxsize:\n",
    "            return True\n",
    "        else:\n",
    "            return False\n",
    "    def Dequeue(self):\n",
    "        temp=self.q[self.front]\n",
    "        self.front=(self.front+1)%self.Maxsize\n",
    "        self.count-=1\n",
    "        return temp\n",
    "    def isEmpty(self):\n",
    "        if self.count==0:\n",
    "            return True\n",
    "        else:\n",
    "            return False\n",
    "    def printQueue(self):\n",
    "        c=0\n",
    "        i=self.front\n",
    "        while c<self.count:\n",
    "            print(self.q[i],end=\"--\")\n",
    "            i=(i+1)%self.Maxsize\n",
    "            c+=1\n",
    "obj=Queue()\n",
    "obj.createQueue(int(input(\"Enter size:\")))\n",
    "while True:\n",
    "    print(\"1.Enqueue\\n2.Dequeue\\n3.Print\\n0.Exit\")\n",
    "    ch=int(input(\"Enter:\"))\n",
    "    if ch==1:\n",
    "        if obj.isFull()!=True:\n",
    "            data=int(input(\"Enter data:\"))\n",
    "            obj.Enqueue(data)\n",
    "            print(\"Element Enqueued\")\n",
    "        else:\n",
    "            print(\"List Full\")\n",
    "    elif ch==2:\n",
    "        if obj.isEmpty()!=True:\n",
    "            print(\"Element dequeued:\",obj.Dequeue())\n",
    "        else:\n",
    "            print(\"List Empty\")\n",
    "    elif ch==3:\n",
    "        if obj.isEmpty()!=True:\n",
    "            print(\"Elements in Queue\")\n",
    "            obj.printQueue()\n",
    "        else:\n",
    "            print(\"List Empty\")\n",
    "        \n",
    "    elif ch==0:\n",
    "        print(\"devloped by amarpanchal.education\")\n",
    "        break\n",
    "    else:\n",
    "        print(\"Wrong input\")"
   ]
  },
  {
   "cell_type": "markdown",
   "id": "a744a704",
   "metadata": {},
   "source": [
    "### In order to impplement priority queue\n",
    "- change enqueue"
   ]
  },
  {
   "cell_type": "code",
   "execution_count": 2,
   "id": "b8b1571c",
   "metadata": {},
   "outputs": [],
   "source": [
    "#Circulare Queue\n",
    "class Queue:\n",
    "    def createQueue(self,size):\n",
    "        self.q=[]\n",
    "        self.front=0\n",
    "        self.rear=-1\n",
    "        self.Maxsize=size  #5\n",
    "        self.count=0\n",
    "        for i in range(self.Maxsize):\n",
    "            self.q.append(0) #[0,0,0,0,0]\n",
    "\n",
    "    def Enqueue(self,e):\n",
    "        self.rear=(self.rear+1)%self.Maxsize\n",
    "        self.count+=1\n",
    "        self.q[self.rear]=e\n",
    "        self.q.sort(reverse=True)\n",
    "    def isFull(self):\n",
    "        if self.count==self.Maxsize:\n",
    "            return True\n",
    "        else:\n",
    "            return False\n",
    "    def Dequeue(self):\n",
    "        temp=self.q[self.front]\n",
    "        self.front=( self.front+1)%self.Maxsize\n",
    "        self.count-=1\n",
    "        return temp\n",
    "    def isEmpty(self):\n",
    "        if self.count==0:\n",
    "            return True\n",
    "        else:\n",
    "            return False\n",
    "    def printQueue(self):\n",
    "        c=0\n",
    "        i=self.front\n",
    "        while c<self.count:      \n",
    "            print(self.q[i],end=\"--\")\n",
    "            i=(i+1)%self.Maxsize\n",
    "            c+=1"
   ]
  },
  {
   "cell_type": "code",
   "execution_count": 3,
   "id": "c78fe623",
   "metadata": {},
   "outputs": [
    {
     "name": "stdout",
     "output_type": "stream",
     "text": [
      "Enter size:3\n",
      "1.Enqueue\n",
      "2.Dequeue\n",
      "3.Print\n",
      "0.Exit\n",
      "Enter:1\n",
      "Enter data:1\n",
      "Element Enqueued\n",
      "1.Enqueue\n",
      "2.Dequeue\n",
      "3.Print\n",
      "0.Exit\n",
      "Enter:1\n",
      "Enter data:2\n",
      "Element Enqueued\n",
      "1.Enqueue\n",
      "2.Dequeue\n",
      "3.Print\n",
      "0.Exit\n",
      "Enter:1\n",
      "Enter data:3\n",
      "Element Enqueued\n",
      "1.Enqueue\n",
      "2.Dequeue\n",
      "3.Print\n",
      "0.Exit\n",
      "Enter:2\n",
      "Element dequeued: 3\n",
      "1.Enqueue\n",
      "2.Dequeue\n",
      "3.Print\n",
      "0.Exit\n",
      "Enter:3\n",
      "Elements in Queue\n",
      "2--1--1.Enqueue\n",
      "2.Dequeue\n",
      "3.Print\n",
      "0.Exit\n",
      "Enter:0\n",
      "devloped by amarpanchal.education\n"
     ]
    }
   ],
   "source": [
    "obj=Queue()\n",
    "obj.createQueue(int(input(\"Enter size:\")))\n",
    "while True:\n",
    "    print(\"1.Enqueue\\n2.Dequeue\\n3.Print\\n0.Exit\")\n",
    "    ch=int(input(\"Enter:\"))\n",
    "    if ch==1:\n",
    "        if obj.isFull()!=True:\n",
    "            data=int(input(\"Enter data:\"))\n",
    "            obj.Enqueue(data)\n",
    "            print(\"Element Enqueued\")\n",
    "        else:\n",
    "            print(\"List Full\")\n",
    "    elif ch==2:\n",
    "        if obj.isEmpty()!=True:\n",
    "            print(\"Element dequeued:\",obj.Dequeue())\n",
    "        else:\n",
    "            print(\"List Empty\")\n",
    "    elif ch==3:\n",
    "        if obj.isEmpty()!=True:\n",
    "            print(\"Elements in Queue\")\n",
    "            obj.printQueue()\n",
    "        else:\n",
    "            print(\"List Empty\")\n",
    "        \n",
    "    elif ch==0:\n",
    "        print(\"devloped by amarpanchal.education\")\n",
    "        break\n",
    "    else:\n",
    "        print(\"Wrong input\")"
   ]
  },
  {
   "cell_type": "markdown",
   "id": "3dc56866",
   "metadata": {},
   "source": [
    "### Linked list\n",
    "- Collection of node arranged in sequential maaner where each node only know node after it.\n",
    "- Dynamic\n",
    "- Linear\n",
    "- Most powerful as can create all ds alone\n",
    "- First node is called root node\n",
    "- Last has next as none\n",
    "- Used for Dynamic data storage\n",
    "- Hyperlink\n",
    "- Implementating stack and queue Dyanmic\n",
    "- Used in Games"
   ]
  },
  {
   "cell_type": "code",
   "execution_count": 2,
   "id": "80863b69",
   "metadata": {},
   "outputs": [],
   "source": [
    "class Node:\n",
    "    def __int__(self,data):\n",
    "        self.data=data\n",
    "        self.next=None\n",
    "class Linkedlist:\n",
    "    def __init__(self):\n",
    "        self.root=None\n",
    "    def insertLeft(self,data):\n",
    "        n=Node(data)\n",
    "        if self.root==None:\n",
    "            self.root=n\n",
    "        else:\n",
    "            n.next=self.root\n",
    "    def printlinkedlist(self):\n",
    "        temp=self.root\n",
    "        while temp==None:\n",
    "            print(\"|\",temp.data,\"| ->\",end ='')\n",
    "            temp=temp.next       "
   ]
  },
  {
   "cell_type": "code",
   "execution_count": 9,
   "id": "f5463c69",
   "metadata": {},
   "outputs": [],
   "source": [
    "class Node:\n",
    "    def __init__(self,data):\n",
    "        self.data=data\n",
    "        self.next=None\n",
    "\n",
    "class LinkedList:\n",
    "    def __init__(self):\n",
    "        self.root=None\n",
    "    def insertLeft(self,data):\n",
    "        n=Node(data)\n",
    "        if self.root==None:#not created\n",
    "            self.root=n#root created\n",
    "        else:\n",
    "            n.next=self.root\n",
    "            self.root=n\n",
    "    def deleteLeft(self):\n",
    "        if self.root==None:\n",
    "            print(\"Empty List\")\n",
    "        else:\n",
    "            t=self.root#1\n",
    "            self.root=self.root.next#2\n",
    "            print(\"Deleted:\",t.data)\n",
    "            #del t\n",
    "    def deleteRight(self):\n",
    "        if self.root==None:\n",
    "            print(\"Empty List\")\n",
    "        else:\n",
    "            t=self.root\n",
    "            tnew=self.root\n",
    "            while t.next!=None:\n",
    "                tnew=t\n",
    "                t=t.next\n",
    "            tnew.next=None\n",
    "    def insertRight(self,data):\n",
    "        new = Node(data)\n",
    "        if self.root==None:#not created\n",
    "            self.root=new#root created\n",
    "        else:\n",
    "            tmp = self.root\n",
    "            while tmp.next!=None:\n",
    "                tmp = tmp.next\n",
    "            tmp.next = new\n",
    "    def deletekey(self,key):\n",
    "        if self.root==None:\n",
    "            print(\"Empty List\")\n",
    "        else:\n",
    "            t=t2=slef.root\n",
    "            while t!=None and t.data!=Key:\n",
    "                \n",
    "    def printList(self):\n",
    "        temp = self.root\n",
    "        while temp!=None:\n",
    "            print(\"|\",temp.data,\"|->\",end='')\n",
    "            temp = temp.next\n",
    "    def search(self,key):\n",
    "        count=0\n",
    "        if self.root==None:\n",
    "            print(\"Empty list\")\n",
    "        else:\n",
    "            temp = self.root\n",
    "            while temp!=None:\n",
    "                count+=1\n",
    "                if temp.data==Key:\n",
    "                    return count\n",
    "                    temp=temp.next\n",
    "            return -1"
   ]
  },
  {
   "cell_type": "code",
   "execution_count": 1,
   "id": "3f82fa20",
   "metadata": {},
   "outputs": [],
   "source": [
    "class Node:\n",
    "    def __init__(self,data):\n",
    "        self.data=data\n",
    "        self.next=None\n",
    "\n",
    "class LinkedList:\n",
    "    def __init__(self):\n",
    "        self.root=None\n",
    "    def insertLeft(self,data):\n",
    "        n=Node(data)\n",
    "        if self.root==None:#not created\n",
    "            self.root=n#root created\n",
    "        else:\n",
    "            n.next=self.root\n",
    "            self.root=n\n",
    "    def deleteLeft(self):\n",
    "        if self.root==None:\n",
    "            print(\"Empty List\")\n",
    "        else:\n",
    "            t=self.root#1\n",
    "            self.root=self.root.next#2\n",
    "            print(\"Deleted:\",t.data)\n",
    "            #del t\n",
    "    def insertRight(self,data):\n",
    "        n=Node(data)\n",
    "        if self.root==None:\n",
    "            self.root=n\n",
    "        else:\n",
    "            t=self.root#1\n",
    "            while t.next!=None:#2\n",
    "                t=t.next\n",
    "            t.next=n#3\n",
    "    def deleteRight(self):\n",
    "        if self.root==None:\n",
    "            print(\"Empty List\")\n",
    "        else:\n",
    "            t=t2=self.root#1\n",
    "            while t.next!=None:#2\n",
    "                t2=t\n",
    "                t=t.next\n",
    "            t2.next=None#3\n",
    "            if t==self.root:#manually deleting root\n",
    "                self.root=None\n",
    "            print(\"Deleted:\",t.data)\n",
    "            #del t\n",
    "    def printList(self):\n",
    "        temp = self.root\n",
    "        while temp!=None:\n",
    "            print(\"|\",temp.data,\"|->\",end='')\n",
    "            temp = temp.next\n",
    "    def search(self,key):\n",
    "        if self.root==None:\n",
    "            print(\"Empty List\")\n",
    "        else:\n",
    "            temp = self.root\n",
    "            while temp!=None:\n",
    "                if temp.data==key:\n",
    "                    return True\n",
    "                temp = temp.next\n",
    "            return False\n",
    "    def deleteKey(self,key):\n",
    "        if self.root==None:\n",
    "            print(\"Empty List\")\n",
    "        else:\n",
    "            t = t2= self.root\n",
    "            while t!=None and t.data!=key:\n",
    "                t2=t\n",
    "                t=t.next\n",
    "            if t!=None:#Found\n",
    "                if t==self.root:#case1\n",
    "                    self.root=self.root.next\n",
    "                elif t.next==None:\n",
    "                    t2.next=None#t.nexts\n",
    "                else:\n",
    "                    t2.next=t.next\n",
    "                print(\"Deleted:\",t.data)\n",
    "            else:\n",
    "                print(key,\"Not Found in List\")\n",
    "    def searchCount(self,key):\n",
    "        count=-1\n",
    "        if self.root==None:\n",
    "            print(\"Empty List\")\n",
    "        else:\n",
    "            temp = self.root\n",
    "            while temp!=None:\n",
    "                count+=1\n",
    "                if temp.data==key:\n",
    "                    return count\n",
    "                temp = temp.next\n",
    "            return -1"
   ]
  },
  {
   "cell_type": "code",
   "execution_count": 11,
   "id": "4154affc",
   "metadata": {},
   "outputs": [],
   "source": [
    "obj=LinkedList()"
   ]
  },
  {
   "cell_type": "code",
   "execution_count": null,
   "id": "abbacae7",
   "metadata": {},
   "outputs": [],
   "source": [
    "class Node:\n",
    "    def __init__(self,data):\n",
    "        self.data=data\n",
    "        self.next=None\n",
    "\n",
    "class DynamicStack:\n",
    "    def __init__(self):\n",
    "        self.tos=None\n",
    "    def push(self,data):\n",
    "        n=Node(data)\n",
    "        if self.tos==None:#not created\n",
    "            self.tos=n#root created\n",
    "        else:\n",
    "            n.next=self.tos\n",
    "            self.tos=n\n",
    "    def pop(self):\n",
    "        if self.tos==None:\n",
    "            print(\"Empty Stack\")\n",
    "        else:\n",
    "            t=self.tos#1\n",
    "            self.tos=self.tos.next#2\n",
    "            print(\"Poped\",t.data)\n",
    "            #del t\n",
    "    def peek(self):\n",
    "        if self.tos==None:\n",
    "            print(\"Stack Empty\")\n",
    "        else:\n",
    "            print(self.tos.data)\n",
    "    def printStack(self):\n",
    "        if self.tos==None:\n",
    "            print(\"Stack Empty\")\n",
    "        else:\n",
    "            temp = self.tos\n",
    "            while temp!=None:\n",
    "                print(\"|\",temp.data,\"|->\",end='')\n",
    "                temp = temp.next"
   ]
  },
  {
   "cell_type": "code",
   "execution_count": 2,
   "id": "1dc743ba",
   "metadata": {},
   "outputs": [
    {
     "ename": "SyntaxError",
     "evalue": "invalid syntax (Temp/ipykernel_14688/3250810773.py, line 8)",
     "output_type": "error",
     "traceback": [
      "\u001b[1;36m  File \u001b[1;32m\"C:\\Users\\ASUS\\AppData\\Local\\Temp/ipykernel_14688/3250810773.py\"\u001b[1;36m, line \u001b[1;32m8\u001b[0m\n\u001b[1;33m    self.rear=\u001b[0m\n\u001b[1;37m              ^\u001b[0m\n\u001b[1;31mSyntaxError\u001b[0m\u001b[1;31m:\u001b[0m invalid syntax\n"
     ]
    }
   ],
   "source": [
    "class Node:\n",
    "    def __init__(self,data):\n",
    "        self.data=data\n",
    "        self.next=None\n",
    "\n",
    "class DynamicQueue:\n",
    "    def __init__(self):\n",
    "        self.rear=\n",
    "        self.front=\n",
    "    def push(self,data):\n",
    "        n=Node(data)\n",
    "        if self.rear==-1:#not created\n",
    "            self.rear=n#root created\n",
    "        else:\n",
    "            n.next=self.rear\n",
    "            self.rear=n\n",
    "    def pop(self):\n",
    "        if self.front==:\n",
    "            print(\"Empty Stack\")\n",
    "        else:\n",
    "            t=self.tos#1\n",
    "            self.tos=self.tos.next#2\n",
    "            print(\"Poped\",t.data)\n",
    "            #del t\n",
    "    def peek(self):\n",
    "        if self.tos==None:\n",
    "            print(\"Stack Empty\")\n",
    "        else:\n",
    "            print(self.tos.data)\n",
    "    def printStack(self):\n",
    "        if self.tos==None:\n",
    "            print(\"Stack Empty\")\n",
    "        else:\n",
    "            temp = self.tos\n",
    "            while temp!=None:\n",
    "                print(\"|\",temp.data,\"|->\",end='')\n",
    "                temp = temp.next"
   ]
  },
  {
   "cell_type": "markdown",
   "id": "2bc08113",
   "metadata": {},
   "source": [
    "# CIRCULAR LINKED LIST"
   ]
  },
  {
   "cell_type": "code",
   "execution_count": 9,
   "id": "bab636c9",
   "metadata": {},
   "outputs": [],
   "source": [
    "class Node:\n",
    "    def __init__(self,data):\n",
    "        self.data=data\n",
    "        self.next=None\n",
    "\n",
    "class LinkedList:\n",
    "    def __init__(self):\n",
    "        self.root=self.last=None\n",
    "    def insertLeft(self,data):\n",
    "        n=Node(data)\n",
    "        if self.root==None:#not created\n",
    "            self.root=self.last=n\n",
    "            self.last.next=self.root#root created\n",
    "        else:\n",
    "            n.next=self.root\n",
    "            self.root=n\n",
    "            self.last.next=self.root\n",
    "    def deleteLeft(self):\n",
    "        if self.root==None:\n",
    "            print(\"Empty List\")\n",
    "        else:\n",
    "            t=self.root#1\n",
    "            if(self.root.next==self.root):\n",
    "                self.root=self.last=None \n",
    "            else:\n",
    "                self.root=self.root.next#2\n",
    "                self.last.next=self.root\n",
    "                print(\"Deleted:\",t.data)\n",
    "    def insertRight(self,data):\n",
    "        n=Node(data)\n",
    "        self.last.next=n\n",
    "        self.last=n\n",
    "        self.last.next=root        \n",
    "    def deleteRight(self):\n",
    "        if self.root==None:\n",
    "            print(\"Empty List\")\n",
    "        else:\n",
    "            t=t2=self.root#1\n",
    "            if self.root.next==self.root:\n",
    "                self.root=self.last=None \n",
    "            else:\n",
    "                while t!=self.last:\n",
    "                    t2=t\n",
    "                    t=t.next\n",
    "                    self.last=t2#3\n",
    "                    self.last.next=self.root\n",
    "                print(\"Deleted:\",t.data)\n",
    "    def printList(self):\n",
    "        temp=self.root\n",
    "        while True:\n",
    "            print(\"|\",temp.data,\"| ->\",end=\" \")\n",
    "            temp=temp.next\n",
    "            \n",
    "            if temp==self.root:\n",
    "                break"
   ]
  },
  {
   "cell_type": "code",
   "execution_count": null,
   "id": "3552a236",
   "metadata": {},
   "outputs": [],
   "source": [
    "class Node:\n",
    "    def __init__(data)"
   ]
  },
  {
   "cell_type": "markdown",
   "id": "21ee48ed",
   "metadata": {},
   "source": [
    "## INTERVIEW QUESTIONS\n",
    "- Sort linked List(linear)\n",
    "- Merging 2 sorted linked list\n",
    "- Ploynomial addition using linked list\n",
    "- using stack reverse content of linked list"
   ]
  },
  {
   "cell_type": "markdown",
   "id": "cc6c89e5",
   "metadata": {},
   "source": [
    "# TREES\n",
    "\n",
    "- Non-Linear\n",
    "- Mostly dynamic\n",
    "- Has a root to start\n",
    "- Braches to grow and leaf to end\n",
    "\n",
    "## KEY DEFINITION :\n",
    "\n",
    "- height and depth for a tree:\n",
    "- lenght of longest running Branch\n",
    "- Height =depth\n",
    "- but height(node)!=Depth(node)\n",
    "\n",
    "## APPLICATION :\n",
    "\n",
    "- AUTO CORRECT\n",
    "- STORAGE (CLOUD)\n",
    "- BI/AI Sate space tree\n",
    "- Searching and sorting(Binary search Tree)\n",
    "- Used in layered Data(Google Map)\n",
    "\n",
    "## Types :\n",
    "- Binary tree has atmost 2 child\n",
    "- Binary tree is used in computer\n",
    "\n",
    "## Binary Tree Types :\n",
    "\n",
    "### Comple bianry tree:\n",
    "- All Leafs are at same depth\n",
    "\n",
    "### Nearly binary tree :\n",
    "- All leafs are at depth leaving one which is +(more) or -(less) one of depth"
   ]
  },
  {
   "cell_type": "code",
   "execution_count": 1,
   "id": "5cec734d",
   "metadata": {},
   "outputs": [],
   "source": [
    "#        o         or     o                  \n",
    "#      o   o            o    o\n",
    "#         o o         o  o  o  o\n",
    "#                        |       o ->Right sub tree\n",
    "#                Left sub tree"
   ]
  },
  {
   "cell_type": "markdown",
   "id": "f8b8f789",
   "metadata": {},
   "source": [
    "# Binary search\n",
    "\n",
    "- data <parent:left\n",
    "- dat>= parent:right\n",
    "\n",
    "## Traversal :\n",
    "- Order of visiting each node\n",
    "\n",
    "## Types :\n",
    "\n",
    "### preorder\n",
    "- +ab\n",
    "- Root is at 1st position\n",
    "\n",
    "### sequential\n",
    "- PLR(print,left,Right)\n",
    "\n",
    "### inorder\n",
    "- a+b\n",
    "- Data is sorted\n",
    "\n",
    "### sequentia\n",
    "- LPR\n",
    "\n",
    "### postorder\n",
    "- ab+\n",
    "- Root is at Last position\n",
    "\n",
    "### sequentia\n",
    "- LRP\n",
    "\n",
    "\n"
   ]
  },
  {
   "cell_type": "markdown",
   "id": "f9eb7206",
   "metadata": {},
   "source": [
    "# THREADED TREE :\n",
    "- It is use to covert hireachal data into sequential acces."
   ]
  },
  {
   "cell_type": "markdown",
   "id": "32423751",
   "metadata": {},
   "source": [
    "# BALANCED TREE:\n",
    "- Height of left-height or right=0"
   ]
  },
  {
   "cell_type": "markdown",
   "id": "f3914a81",
   "metadata": {},
   "source": [
    "# AVL\n",
    "- Self balancing Tree\n",
    "- nearly balanced(BF-0,1,-1)\n",
    "- It is a variation of bst(binary search tree)\n",
    "- after every insertion recalculate BF from bottom to top\n",
    "- stop at 1st unbalanced node -plot 3 node path from point of unbalanced to point of new inserted\n",
    "- check case and apply rotation"
   ]
  },
  {
   "cell_type": "markdown",
   "id": "86c64f0e",
   "metadata": {},
   "source": [
    "# Expression Tree :\n",
    "- This can made by using prefix or postfix\n",
    "- til post fix not over read from start to end\n",
    "  - If operator push on stack\n",
    "  - if operator then pop 2 element pop1:op2\n",
    "   - pop2:op1\n",
    "  - Create new subtree and push to stack\n",
    "\n",
    "# Multiway search Tree :\n",
    "- A node can keep more than one element hence multiway \n",
    "- Node capacity increased made us capable of storing more than 1 element at a node\n",
    "- Multiway search tree has order M(must be odd)\n",
    "  - M--min(M/2) max(M-1) split(M)\n",
    "- Inserting done only in leaf in order and using bst logic\n",
    "- Child will create parent and parent will create grand parent\n",
    "\n",
    "# Binary Tree implementation :\n",
    "- 1:static --root at 0 for for left child :2i+2 right child:2i+2\n"
   ]
  },
  {
   "cell_type": "markdown",
   "id": "15107cfc",
   "metadata": {},
   "source": [
    "# Graph\n",
    "- A data structure that consist of a set of node and a set of node(vertices) and set of edges that can relate the node are each other\n",
    "## similarity between Graph and tree:\n",
    "- Every tree is a graph\n",
    "- Graph without cycle is a tree\n",
    "- Tree is a subset of graph\n",
    "- Graph is superset"
   ]
  },
  {
   "cell_type": "markdown",
   "id": "7ab52ebe",
   "metadata": {},
   "source": [
    "# TREE"
   ]
  },
  {
   "cell_type": "code",
   "execution_count": null,
   "id": "c6cf0b65",
   "metadata": {},
   "outputs": [],
   "source": [
    "class Node:\n",
    "    def __init__(self,Key):\n",
    "        self.left="
   ]
  },
  {
   "cell_type": "code",
   "execution_count": null,
   "id": "398bc3a4",
   "metadata": {},
   "outputs": [],
   "source": [
    "r=Node(50)\n",
    "r=insert(r,30)\n",
    "r=insert(r,40)\n",
    "r=insert(r,50)\n",
    "r=insert(r,60)\n",
    "r=insert(r,70)\n",
    "r=insert(r,80)\n",
    "r=insert(r,90"
   ]
  },
  {
   "cell_type": "markdown",
   "id": "4413e314",
   "metadata": {},
   "source": [
    "# ALGORITHM \n",
    "\n",
    "- Finite set of instrution if followed will solve given problem in finite time and finite step\n",
    "\n",
    "### Input:\n",
    "- Data\n",
    "- Dataset\n",
    "- problemset\n",
    "\n",
    "### Output:\n",
    "- result\n",
    "- responces\n",
    "\n",
    "### Finiteness\n",
    "### Definiteness\n",
    "### Effectiveness"
   ]
  },
  {
   "cell_type": "markdown",
   "id": "dee78d3e",
   "metadata": {},
   "source": [
    "# SEARCHING AND SORTING METHOD\n",
    "## Bubble sort\n",
    "- Largest elemnt in each pass is bubbled on top\n",
    "- It require n-1 passes\n",
    "- COMPLEXCITY O(N2)\n",
    "### Interview question\n",
    "- Why do we require n-1 passes\n",
    "  - If n-1 element are sorted nth element is Automaticly solved"
   ]
  },
  {
   "cell_type": "code",
   "execution_count": 4,
   "id": "0e6cb7df",
   "metadata": {},
   "outputs": [],
   "source": [
    "def bubblesort(a):\n",
    "    for i in range(len(a)-1):\n",
    "        for j in range(len(a)-1):\n",
    "            if a[j]>a[j+1]:\n",
    "                a[j],a[j+1]=a[j+1],a[j]"
   ]
  },
  {
   "cell_type": "code",
   "execution_count": 5,
   "id": "d064e380",
   "metadata": {},
   "outputs": [
    {
     "name": "stdout",
     "output_type": "stream",
     "text": [
      "Enter number of element : 4\n",
      "Enter element : 1\n",
      "Enter element : 2\n",
      "Enter element : 12\n",
      "Enter element : 6\n",
      "Total elemet are : \n",
      " [1, 2, 12, 6]\n",
      "After sort elements are : \n",
      " [1, 2, 6, 12]\n"
     ]
    }
   ],
   "source": [
    "a=[]\n",
    "size=int(input(\"Enter number of element : \"))\n",
    "for i in range(size):\n",
    "    data=int(input(\"Enter element : \"))\n",
    "    a.append(data)\n",
    "print(\"Total elemet are : \\n\",a)\n",
    "bubblesort(a)\n",
    "print(\"After sort elements are : \\n\",a)"
   ]
  },
  {
   "cell_type": "markdown",
   "id": "0588bf88",
   "metadata": {},
   "source": [
    "## Selection Sort\n",
    "- In each pass smallest is selcted & put at ith location\n",
    "- i :is pass\n",
    "- In bubble sort we are sorting as heaviest at firt In selection we sort by smallest to last location"
   ]
  },
  {
   "cell_type": "code",
   "execution_count": 6,
   "id": "d8bffa9f",
   "metadata": {},
   "outputs": [],
   "source": [
    "def selectionsort(a):\n",
    "    for i in range(len(a)):\n",
    "        min_=a[i]\n",
    "        position=i\n",
    "        for j in range(i+1,len(a)):\n",
    "            if a[j]<min_:\n",
    "                min_=a[j]\n",
    "                pos=j\n",
    "            a[pos]=a[i]\n",
    "            a[i]=min_       "
   ]
  },
  {
   "cell_type": "code",
   "execution_count": 7,
   "id": "3a0396c2",
   "metadata": {},
   "outputs": [
    {
     "name": "stdout",
     "output_type": "stream",
     "text": [
      "Enter number of element : 4\n",
      "Enter element : 11\n",
      "Enter element : 2\n",
      "Enter element : 6\n",
      "Enter element : 9\n",
      "Total elemet are : \n",
      " [11, 2, 6, 9]\n",
      "After sort elements are : \n",
      " [2, 6, 6, 9]\n"
     ]
    }
   ],
   "source": [
    "a=[]\n",
    "size=int(input(\"Enter number of element : \"))\n",
    "for i in range(size):\n",
    "    data=int(input(\"Enter element : \"))\n",
    "    a.append(data)\n",
    "print(\"Total elemet are : \\n\",a)\n",
    "selectionsort(a)\n",
    "print(\"After sort elements are : \\n\",a)"
   ]
  },
  {
   "cell_type": "markdown",
   "id": "4c164579",
   "metadata": {},
   "source": [
    "# INSERTION SORT:\n",
    "- In each pass one element from unsorted is inserted at correct position in Sorted port"
   ]
  },
  {
   "cell_type": "code",
   "execution_count": null,
   "id": "7432ac58",
   "metadata": {},
   "outputs": [],
   "source": [
    "def insertionsort(a):\n",
    "    for i in range(len(a)):\n",
    "        min_=a[i]\n",
    "        position=i\n",
    "        for j in range(i+1,len(a)):\n",
    "            if a[j]<min_:\n",
    "                min_=a[j]\n",
    "                pos=j\n",
    "            a[pos]=a[i]\n",
    "            a[i]=min_       "
   ]
  },
  {
   "cell_type": "code",
   "execution_count": null,
   "id": "ce372427",
   "metadata": {},
   "outputs": [],
   "source": [
    "a=[]\n",
    "size=int(input(\"Enter number of element : \"))\n",
    "for i in range(size):\n",
    "    data=int(input(\"Enter element : \"))\n",
    "    a.append(data)\n",
    "print(\"Total elemet are : \\n\",a)\n",
    "selectionsort(a)\n",
    "print(\"After sort elements are : \\n\",a)"
   ]
  },
  {
   "cell_type": "markdown",
   "id": "2811eedd",
   "metadata": {},
   "source": [
    "# Divide-N-Conquer\n",
    "- Start with array of size n stop when we reach to narray of size."
   ]
  },
  {
   "cell_type": "code",
   "execution_count": null,
   "id": "1c53b215",
   "metadata": {},
   "outputs": [],
   "source": [
    "def mergesort(a,start,end):\n",
    "    if start<end:\n",
    "        mod=(start+end)/2\n",
    "        mergesort(a,start,mid)\n",
    "        mergesort(a,mid+1,end)\n",
    "        merger(a,start,mid,end)"
   ]
  },
  {
   "cell_type": "code",
   "execution_count": null,
   "id": "bcfce184",
   "metadata": {},
   "outputs": [],
   "source": [
    "a=[]\n",
    "size=int(input(\"Enter number of element : \"))\n",
    "for i in range(size):\n",
    "    data=int(input(\"Enter element : \"))\n",
    "    a.append(data)\n",
    "print(\"Total elemet are : \\n\",a)\n",
    "selectionsort(a)\n",
    "print(\"After sort elements are : \\n\",a)"
   ]
  },
  {
   "cell_type": "markdown",
   "id": "84e14267",
   "metadata": {},
   "source": [
    "# SEQUENTIAL SEARCH\n",
    "- It can work on unsorted data and only searching algorithm\n",
    "\n",
    "# BINARY SEARCH :\n",
    "\n",
    "## LIMITATION\n",
    "- It works on sorted data\n",
    "\n",
    "## ADVANTAGE\n",
    "- Reduce work by 50 percent after every pass"
   ]
  },
  {
   "cell_type": "code",
   "execution_count": 4,
   "id": "99f1b9f3",
   "metadata": {},
   "outputs": [],
   "source": [
    "def binarysearch(a,start,end,key):\n",
    "    if start==end:\n",
    "        if a[start]==Key:\n",
    "            return start\n",
    "        else:\n",
    "            return -1\n",
    "    else:\n",
    "        mid=(start+end)//2\n",
    "        if a[mid]==Key:\n",
    "            return mid\n",
    "        else:\n",
    "            if key<a[mid]:\n",
    "                return binarysearch(a,start,mid-1,key)\n",
    "            else:\n",
    "                return bianrysearch(a,mid+1,end,Key)"
   ]
  },
  {
   "cell_type": "code",
   "execution_count": null,
   "id": "06678b39",
   "metadata": {},
   "outputs": [],
   "source": []
  }
 ],
 "metadata": {
  "kernelspec": {
   "display_name": "Python 3 (ipykernel)",
   "language": "python",
   "name": "python3"
  },
  "language_info": {
   "codemirror_mode": {
    "name": "ipython",
    "version": 3
   },
   "file_extension": ".py",
   "mimetype": "text/x-python",
   "name": "python",
   "nbconvert_exporter": "python",
   "pygments_lexer": "ipython3",
   "version": "3.9.6"
  }
 },
 "nbformat": 4,
 "nbformat_minor": 5
}
