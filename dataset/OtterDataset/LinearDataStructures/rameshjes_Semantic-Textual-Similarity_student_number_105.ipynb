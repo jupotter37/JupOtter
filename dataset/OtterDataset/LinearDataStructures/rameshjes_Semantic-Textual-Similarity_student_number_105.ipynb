{
 "cells": [
  {
   "cell_type": "markdown",
   "metadata": {
    "nbgrader": {
     "grade": false,
     "grade_id": "cell-a12d8725db63eb03",
     "locked": true,
     "schema_version": 1,
     "solution": false
    }
   },
   "source": [
    "Student ID: 105"
   ]
  },
  {
   "cell_type": "markdown",
   "metadata": {
    "nbgrader": {
     "grade": false,
     "grade_id": "cell-aab3662bfc15dfa2",
     "locked": true,
     "schema_version": 1,
     "solution": false
    }
   },
   "source": [
    " # What is the role of a prototype program in problem solving?"
   ]
  },
  {
   "cell_type": "markdown",
   "metadata": {
    "nbgrader": {
     "grade": true,
     "grade_id": "cell-3fca1a7943225e39",
     "locked": false,
     "points": 2,
     "schema_version": 1,
     "solution": true
    }
   },
   "source": [
    "1.1 High risk problems are address in the prototype program to make sure that the program is feasible.  A prototype may also be used to show a company that the software can be possibly programmed."
   ]
  },
  {
   "cell_type": "markdown",
   "metadata": {
    "nbgrader": {
     "grade": false,
     "grade_id": "cell-13de7245530aee23",
     "locked": true,
     "schema_version": 1,
     "solution": false
    }
   },
   "source": [
    " # What stages in the software life cycle are influenced by the testing stage?"
   ]
  },
  {
   "cell_type": "markdown",
   "metadata": {
    "nbgrader": {
     "grade": true,
     "grade_id": "cell-45970c75b8825e72",
     "locked": false,
     "points": 2,
     "schema_version": 1,
     "solution": true
    }
   },
   "source": [
    "1.2 Refining and possibly the design if the testing phase reveals problems in the design. Production can be affected if the program is unworkable in its current form which will lead to a later production time than originally estimated. Also affects coding because after testing you may need to rewrite the code for the program to remove errors."
   ]
  },
  {
   "cell_type": "markdown",
   "metadata": {
    "nbgrader": {
     "grade": false,
     "grade_id": "cell-c01fefed7ba24b7b",
     "locked": true,
     "schema_version": 1,
     "solution": false
    }
   },
   "source": [
    " # What are the main advantages associated with object-oriented programming?"
   ]
  },
  {
   "cell_type": "markdown",
   "metadata": {
    "nbgrader": {
     "grade": true,
     "grade_id": "cell-165f2edb79819215",
     "locked": false,
     "points": 2,
     "schema_version": 1,
     "solution": true
    }
   },
   "source": [
    "1.3 Modularability, the ability to reuse parts of the program later in another program sometimes with completely different goals for the program. Also it makes it easier to debug code by dividing up the code into classes that each do a specific job and when the program fails at one job you only have one class to debug. Good for security purposes because it allows you to let someone use a program which sorts lists without having to give them access to the source code. ALso allows you to use inheritance and polymorphism."
   ]
  },
  {
   "cell_type": "markdown",
   "metadata": {
    "nbgrader": {
     "grade": false,
     "grade_id": "cell-3ccbe72ddae2bdab",
     "locked": true,
     "schema_version": 1,
     "solution": false
    }
   },
   "source": [
    " # Where do C++ programs begin to execute?"
   ]
  },
  {
   "cell_type": "markdown",
   "metadata": {
    "nbgrader": {
     "grade": true,
     "grade_id": "cell-993d1a14a9db19d8",
     "locked": false,
     "points": 2,
     "schema_version": 1,
     "solution": true
    }
   },
   "source": [
    "1.4 At function int main ()"
   ]
  },
  {
   "cell_type": "markdown",
   "metadata": {
    "nbgrader": {
     "grade": false,
     "grade_id": "cell-a12908dfda95a086",
     "locked": true,
     "schema_version": 1,
     "solution": false
    }
   },
   "source": [
    " # What is a variable?"
   ]
  },
  {
   "cell_type": "markdown",
   "metadata": {
    "nbgrader": {
     "grade": true,
     "grade_id": "cell-70b4209f1c30ee6e",
     "locked": false,
     "points": 2,
     "schema_version": 1,
     "solution": true
    }
   },
   "source": [
    "1.5 Variable can be a integer or a string in a program."
   ]
  },
  {
   "cell_type": "markdown",
   "metadata": {
    "nbgrader": {
     "grade": false,
     "grade_id": "cell-51412248e7715f94",
     "locked": true,
     "schema_version": 1,
     "solution": false
    }
   },
   "source": [
    " # Where are variables declared in a C++ program?"
   ]
  },
  {
   "cell_type": "markdown",
   "metadata": {
    "nbgrader": {
     "grade": true,
     "grade_id": "cell-8c8018708ca77a2e",
     "locked": false,
     "points": 2,
     "schema_version": 1,
     "solution": true
    }
   },
   "source": [
    "1.6 They can be declared right before they are used, but it is a good practice to declare them at the beginning of the program and label what they are food."
   ]
  },
  {
   "cell_type": "markdown",
   "metadata": {
    "nbgrader": {
     "grade": false,
     "grade_id": "cell-f4c224a19ac9c886",
     "locked": true,
     "schema_version": 1,
     "solution": false
    }
   },
   "source": [
    " # What is the main difference between a while and a do...while statement?"
   ]
  },
  {
   "cell_type": "markdown",
   "metadata": {
    "nbgrader": {
     "grade": true,
     "grade_id": "cell-5f93c1d85df335e9",
     "locked": false,
     "points": 2,
     "schema_version": 1,
     "solution": true
    }
   },
   "source": [
    "1.7 \"The statement first evaluates the condition and then executes the lines of code in the statement 0 or more times.\tThe do while statement executes the lines of code and then it evaluates the condition.\""
   ]
  },
  {
   "cell_type": "markdown",
   "metadata": {
    "nbgrader": {
     "grade": false,
     "grade_id": "cell-c15c35cd91c6c871",
     "locked": true,
     "schema_version": 1,
     "solution": false
    }
   },
   "source": [
    " # What is typically included in a class definition?"
   ]
  },
  {
   "cell_type": "markdown",
   "metadata": {
    "nbgrader": {
     "grade": true,
     "grade_id": "cell-d456e6de733e14ae",
     "locked": false,
     "points": 2,
     "schema_version": 1,
     "solution": true
    }
   },
   "source": [
    "2.1 For us it is usually a set, get, and displayMessge or other messages that tell you what properties a class has but does not reveal its implementations. You could have anything you want in your own class definition."
   ]
  },
  {
   "cell_type": "markdown",
   "metadata": {
    "nbgrader": {
     "grade": false,
     "grade_id": "cell-4d59bed9c98af87f",
     "locked": true,
     "schema_version": 1,
     "solution": false
    }
   },
   "source": [
    " # What is the difference between a data member and a local variable inside a member function?"
   ]
  },
  {
   "cell_type": "markdown",
   "metadata": {
    "nbgrader": {
     "grade": true,
     "grade_id": "cell-ac3624cfbf69b66e",
     "locked": false,
     "points": 2,
     "schema_version": 1,
     "solution": true
    }
   },
   "source": [
    "2.2  Data members are the data components of a particular class.  A member function are the functioning components of the class."
   ]
  },
  {
   "cell_type": "markdown",
   "metadata": {
    "nbgrader": {
     "grade": false,
     "grade_id": "cell-29ad63cdaae589b6",
     "locked": true,
     "schema_version": 1,
     "solution": false
    }
   },
   "source": [
    " # What is the difference between a constructor and a function?"
   ]
  },
  {
   "cell_type": "markdown",
   "metadata": {
    "nbgrader": {
     "grade": true,
     "grade_id": "cell-50b6f93373a832de",
     "locked": false,
     "points": 2,
     "schema_version": 1,
     "solution": true
    }
   },
   "source": [
    "2.3  A constructor initializes an object or objects of a class.  A function of a class performs a task such as display a line of text or do some kind of mathematical operations."
   ]
  },
  {
   "cell_type": "markdown",
   "metadata": {
    "nbgrader": {
     "grade": false,
     "grade_id": "cell-06aea9bc79e8a717",
     "locked": true,
     "schema_version": 1,
     "solution": false
    }
   },
   "source": [
    " # When does C++ create a default constructor?"
   ]
  },
  {
   "cell_type": "markdown",
   "metadata": {
    "nbgrader": {
     "grade": true,
     "grade_id": "cell-2cb732b3d5d64e38",
     "locked": false,
     "points": 2,
     "schema_version": 1,
     "solution": true
    }
   },
   "source": [
    "2.4 The compiler creates a default constructor when we do not define one in our class file"
   ]
  },
  {
   "cell_type": "markdown",
   "metadata": {
    "nbgrader": {
     "grade": false,
     "grade_id": "cell-44de6c576a00889d",
     "locked": true,
     "schema_version": 1,
     "solution": false
    }
   },
   "source": [
    " # How many constructors can be created for a class?"
   ]
  },
  {
   "cell_type": "markdown",
   "metadata": {
    "nbgrader": {
     "grade": true,
     "grade_id": "cell-0e4afbd79c3456d6",
     "locked": false,
     "points": 2,
     "schema_version": 1,
     "solution": true
    }
   },
   "source": [
    "2.5 Just one per class."
   ]
  },
  {
   "cell_type": "markdown",
   "metadata": {
    "nbgrader": {
     "grade": false,
     "grade_id": "cell-a272988fe9d8bd9d",
     "locked": true,
     "schema_version": 1,
     "solution": false
    }
   },
   "source": [
    " # What is the difference between a function prototype and a function definition?"
   ]
  },
  {
   "cell_type": "markdown",
   "metadata": {
    "nbgrader": {
     "grade": true,
     "grade_id": "cell-f176370bb4065af6",
     "locked": false,
     "points": 2,
     "schema_version": 1,
     "solution": true
    }
   },
   "source": [
    "2.6  A function definition does not require any additional information that needs to be passed inside its parenthesis to execute. While a definition prototype requires more than one parameters to be passed in order to complete its task."
   ]
  },
  {
   "cell_type": "markdown",
   "metadata": {
    "nbgrader": {
     "grade": false,
     "grade_id": "cell-3f2c010057ad7f57",
     "locked": true,
     "schema_version": 1,
     "solution": false
    }
   },
   "source": [
    " # What is the role of a header-file?"
   ]
  },
  {
   "cell_type": "markdown",
   "metadata": {
    "nbgrader": {
     "grade": true,
     "grade_id": "cell-f2fe5f529f66871e",
     "locked": false,
     "points": 2,
     "schema_version": 1,
     "solution": true
    }
   },
   "source": [
    "2.7 the role of a header file list all the functions a class can do while hiding the inner workings of its functions"
   ]
  },
  {
   "cell_type": "markdown",
   "metadata": {
    "nbgrader": {
     "grade": false,
     "grade_id": "cell-94de3f6f8e588e3f",
     "locked": true,
     "schema_version": 1,
     "solution": false
    }
   },
   "source": [
    " # What does a function signature include?"
   ]
  },
  {
   "cell_type": "markdown",
   "metadata": {
    "nbgrader": {
     "grade": true,
     "grade_id": "cell-a3a72b442828af9d",
     "locked": false,
     "points": 2,
     "schema_version": 1,
     "solution": true
    }
   },
   "source": [
    "3.1 It includes the name of the program, the type of parameters it can take. It should also include a brief description of what the function does."
   ]
  },
  {
   "cell_type": "markdown",
   "metadata": {
    "nbgrader": {
     "grade": false,
     "grade_id": "cell-5d2a197ed3e197ca",
     "locked": true,
     "schema_version": 1,
     "solution": false
    }
   },
   "source": [
    " # What is the scope of global variables?"
   ]
  },
  {
   "cell_type": "markdown",
   "metadata": {
    "nbgrader": {
     "grade": true,
     "grade_id": "cell-8ee5d3e5c318c75f",
     "locked": false,
     "points": 2,
     "schema_version": 1,
     "solution": true
    }
   },
   "source": [
    "3.2 Any functions that follows their deceleration that  are in the source code file are allowed to have access the variables.  Also global scope variables retrain their value throughout the execution of the program."
   ]
  },
  {
   "cell_type": "markdown",
   "metadata": {
    "nbgrader": {
     "grade": false,
     "grade_id": "cell-77f2fc7eadd772f7",
     "locked": true,
     "schema_version": 1,
     "solution": false
    }
   },
   "source": [
    " # How does the compiler handle inline functions?"
   ]
  },
  {
   "cell_type": "markdown",
   "metadata": {
    "nbgrader": {
     "grade": true,
     "grade_id": "cell-65fff1fee0ae4e87",
     "locked": false,
     "points": 2,
     "schema_version": 1,
     "solution": true
    }
   },
   "source": [
    "3.3 It expands the function's definition in that place.  Once the functions is called you can use it as many times as you need.  The compiler just expands on the function."
   ]
  },
  {
   "cell_type": "markdown",
   "metadata": {
    "nbgrader": {
     "grade": false,
     "grade_id": "cell-c14d61895c798d48",
     "locked": true,
     "schema_version": 1,
     "solution": false
    }
   },
   "source": [
    " # What is the main advantage associated with function arguments that are passed by reference?"
   ]
  },
  {
   "cell_type": "markdown",
   "metadata": {
    "nbgrader": {
     "grade": true,
     "grade_id": "cell-00898cc2fea7c86b",
     "locked": false,
     "points": 2,
     "schema_version": 1,
     "solution": true
    }
   },
   "source": [
    "3.4 Overall the program has better performance (means it is faster) because it does not have to copy large amounts of data."
   ]
  },
  {
   "cell_type": "markdown",
   "metadata": {
    "nbgrader": {
     "grade": false,
     "grade_id": "cell-0a9a11f5d5fe5ed4",
     "locked": true,
     "schema_version": 1,
     "solution": false
    }
   },
   "source": [
    " # How are overloaded functions differentiated by the compiler?"
   ]
  },
  {
   "cell_type": "markdown",
   "metadata": {
    "nbgrader": {
     "grade": true,
     "grade_id": "cell-1d460355db1ef507",
     "locked": false,
     "points": 2,
     "schema_version": 1,
     "solution": true
    }
   },
   "source": [
    "3.5 The compiler selects the proper functions to execute based on number, types and order of arguments in the function call."
   ]
  },
  {
   "cell_type": "markdown",
   "metadata": {
    "nbgrader": {
     "grade": false,
     "grade_id": "cell-d04d28c434183315",
     "locked": true,
     "schema_version": 1,
     "solution": false
    }
   },
   "source": [
    " # When defining a recursive function, what are possible causes for infinite recursion?"
   ]
  },
  {
   "cell_type": "markdown",
   "metadata": {
    "nbgrader": {
     "grade": true,
     "grade_id": "cell-220e8c8b65a67735",
     "locked": false,
     "points": 2,
     "schema_version": 1,
     "solution": true
    }
   },
   "source": [
    "3.6 A base case that is the simplest case for a problem so that the function will lead to it, if this does not happen then it will end up as an infinite loop. And a condition to know when to terminate."
   ]
  },
  {
   "cell_type": "markdown",
   "metadata": {
    "nbgrader": {
     "grade": false,
     "grade_id": "cell-d8c5795c60300a9f",
     "locked": true,
     "schema_version": 1,
     "solution": false
    }
   },
   "source": [
    " # What are the similarities between iteration and recursion?"
   ]
  },
  {
   "cell_type": "markdown",
   "metadata": {
    "nbgrader": {
     "grade": true,
     "grade_id": "cell-f7ccc3142167eb0e",
     "locked": false,
     "points": 2,
     "schema_version": 1,
     "solution": true
    }
   },
   "source": [
    "3.7 Both involve a controlled repetition structures, and they both have a termination test.  Also both of them can loop forever."
   ]
  },
  {
   "cell_type": "markdown",
   "metadata": {
    "nbgrader": {
     "grade": false,
     "grade_id": "cell-1503966d883f1aad",
     "locked": true,
     "schema_version": 1,
     "solution": false
    }
   },
   "source": [
    " # What are the two different ways of specifying the length of an array?"
   ]
  },
  {
   "cell_type": "markdown",
   "metadata": {
    "nbgrader": {
     "grade": true,
     "grade_id": "cell-0d18b82cb7fd7991",
     "locked": false,
     "points": 2,
     "schema_version": 1,
     "solution": true
    }
   },
   "source": [
    "4.1 int n[10]; //array of 10 integers and int n[arraySize] //where arraySize is some positive integer defined by the user"
   ]
  },
  {
   "cell_type": "markdown",
   "metadata": {
    "nbgrader": {
     "grade": false,
     "grade_id": "cell-26064588cd858850",
     "locked": true,
     "schema_version": 1,
     "solution": false
    }
   },
   "source": [
    " # What is the main difference between strings declared using the type string versus strings declared using an array of characters?"
   ]
  },
  {
   "cell_type": "markdown",
   "metadata": {
    "nbgrader": {
     "grade": true,
     "grade_id": "cell-99c4b86a9f2409b5",
     "locked": false,
     "points": 2,
     "schema_version": 1,
     "solution": true
    }
   },
   "source": [
    "4.2 strings that are used in an char array are much easier to manipulate than as a string object, because each character is stored separately rather than as a whole"
   ]
  },
  {
   "cell_type": "markdown",
   "metadata": {
    "nbgrader": {
     "grade": false,
     "grade_id": "cell-a1925363ab979560",
     "locked": true,
     "schema_version": 1,
     "solution": false
    }
   },
   "source": [
    " # How are arrays passed to functions?"
   ]
  },
  {
   "cell_type": "markdown",
   "metadata": {
    "nbgrader": {
     "grade": true,
     "grade_id": "cell-4b420ad424c64a1e",
     "locked": false,
     "points": 2,
     "schema_version": 1,
     "solution": true
    }
   },
   "source": [
    "4.3 by reference only"
   ]
  },
  {
   "cell_type": "markdown",
   "metadata": {
    "nbgrader": {
     "grade": false,
     "grade_id": "cell-1dd542347115d227",
     "locked": true,
     "schema_version": 1,
     "solution": false
    }
   },
   "source": [
    " # What is the difference between an array declared as static, and one that is not?"
   ]
  },
  {
   "cell_type": "markdown",
   "metadata": {
    "nbgrader": {
     "grade": true,
     "grade_id": "cell-a19a3790feb0bc30",
     "locked": false,
     "points": 2,
     "schema_version": 1,
     "solution": true
    }
   },
   "source": [
    "4.4 a static array will store the new values that were assigned to each of its elements. meaning if you call a function twice it will use the last values that were returned the first time.  if you don't declare it static then the new values will not be stored and will be reset to their original value"
   ]
  },
  {
   "cell_type": "markdown",
   "metadata": {
    "nbgrader": {
     "grade": false,
     "grade_id": "cell-b62eebd06a8b8ac8",
     "locked": true,
     "schema_version": 1,
     "solution": false
    }
   },
   "source": [
    " # How many dimensions need to be specified when passing a multi-dimensional array as an argument to a function?"
   ]
  },
  {
   "cell_type": "markdown",
   "metadata": {
    "nbgrader": {
     "grade": true,
     "grade_id": "cell-5976cb3eabb2d3a8",
     "locked": false,
     "points": 2,
     "schema_version": 1,
     "solution": true
    }
   },
   "source": [
    "4.5 at least 2, depending on how many arrays are being used."
   ]
  },
  {
   "cell_type": "markdown",
   "metadata": {
    "nbgrader": {
     "grade": false,
     "grade_id": "cell-ec5170145b5cb0a2",
     "locked": true,
     "schema_version": 1,
     "solution": false
    }
   },
   "source": [
    " # Using an index outside the bounds of the array generates an error. Is this a compilation error or a run-time error?"
   ]
  },
  {
   "cell_type": "markdown",
   "metadata": {
    "nbgrader": {
     "grade": true,
     "grade_id": "cell-4ae3bad771ac8e1c",
     "locked": false,
     "points": 2,
     "schema_version": 1,
     "solution": true
    }
   },
   "source": [
    "4.6 compilation error"
   ]
  },
  {
   "cell_type": "markdown",
   "metadata": {
    "nbgrader": {
     "grade": false,
     "grade_id": "cell-02c62afae859a942",
     "locked": true,
     "schema_version": 1,
     "solution": false
    }
   },
   "source": [
    " # How are bi-dimensional arrays stored in memory, by rows or by columns?"
   ]
  },
  {
   "cell_type": "markdown",
   "metadata": {
    "nbgrader": {
     "grade": true,
     "grade_id": "cell-30045c493fa80541",
     "locked": false,
     "points": 2,
     "schema_version": 1,
     "solution": true
    }
   },
   "source": [
    "4.7 usually it is by rows then followed by the column, but it is up to the programmer to determine how values are stored in bi-dimensional arrays."
   ]
  },
  {
   "cell_type": "markdown",
   "metadata": {
    "nbgrader": {
     "grade": false,
     "grade_id": "cell-96eb7f17656b80be",
     "locked": true,
     "schema_version": 1,
     "solution": false
    }
   },
   "source": [
    " # In one sentence, what is the main idea implemented by insertion sort?"
   ]
  },
  {
   "cell_type": "markdown",
   "metadata": {
    "nbgrader": {
     "grade": true,
     "grade_id": "cell-ea12f0f4b11e1dbf",
     "locked": false,
     "points": 2,
     "schema_version": 1,
     "solution": true
    }
   },
   "source": [
    "5.1 Takes an element of an array and compares it with the next element, depending on the values of the two elements they will switch and then the program will compare the new switched element with the next one in the array."
   ]
  },
  {
   "cell_type": "markdown",
   "metadata": {
    "nbgrader": {
     "grade": false,
     "grade_id": "cell-fdf2c2b6cabde667",
     "locked": true,
     "schema_version": 1,
     "solution": false
    }
   },
   "source": [
    " # In one sentence, what is the main idea implemented by selection sort?"
   ]
  },
  {
   "cell_type": "markdown",
   "metadata": {
    "nbgrader": {
     "grade": true,
     "grade_id": "cell-17bf01a53cc337b7",
     "locked": false,
     "points": 2,
     "schema_version": 1,
     "solution": true
    }
   },
   "source": [
    "5.2 Searches an array for the largest or the smallest element and is moved out to the front of the array then it will search for the next largest or the smallest element to move out to the front"
   ]
  },
  {
   "cell_type": "markdown",
   "metadata": {
    "nbgrader": {
     "grade": false,
     "grade_id": "cell-107c6e59013b22e3",
     "locked": true,
     "schema_version": 1,
     "solution": false
    }
   },
   "source": [
    " # What is the number of operations for insertion sort under a best-case scenario, and what is the best-case scenario?"
   ]
  },
  {
   "cell_type": "markdown",
   "metadata": {
    "nbgrader": {
     "grade": true,
     "grade_id": "cell-2077e8bf5d7caed3",
     "locked": false,
     "points": 2,
     "schema_version": 1,
     "solution": true
    }
   },
   "source": [
    "5.3 The run time for this sorting program is n^2.  Best case is the list is already sorted, worst case is the list is sorted but in reverse."
   ]
  },
  {
   "cell_type": "markdown",
   "metadata": {
    "nbgrader": {
     "grade": false,
     "grade_id": "cell-0d21c00e2f4f973a",
     "locked": true,
     "schema_version": 1,
     "solution": false
    }
   },
   "source": [
    " # What is the base case for a recursive implementation of merge sort?"
   ]
  },
  {
   "cell_type": "markdown",
   "metadata": {
    "nbgrader": {
     "grade": true,
     "grade_id": "cell-10b7068dc5bf539c",
     "locked": false,
     "points": 2,
     "schema_version": 1,
     "solution": true
    }
   },
   "source": [
    "5.4 The base case for a recursive merge sort is one number.  One number by itself is a sorted list, regardless of what number it is."
   ]
  },
  {
   "cell_type": "markdown",
   "metadata": {
    "nbgrader": {
     "grade": false,
     "grade_id": "cell-94c1a1da290b9c67",
     "locked": true,
     "schema_version": 1,
     "solution": false
    }
   },
   "source": [
    " # What is a pointer?"
   ]
  },
  {
   "cell_type": "markdown",
   "metadata": {
    "nbgrader": {
     "grade": true,
     "grade_id": "cell-26b30da84b40f04c",
     "locked": false,
     "points": 2,
     "schema_version": 1,
     "solution": true
    }
   },
   "source": [
    "6.1 Its a location in memory that contains the memory address of another location in memory that contains information."
   ]
  },
  {
   "cell_type": "markdown",
   "metadata": {
    "nbgrader": {
     "grade": false,
     "grade_id": "cell-90064a3678e8c68b",
     "locked": true,
     "schema_version": 1,
     "solution": false
    }
   },
   "source": [
    " # What does the address (&) operator return?"
   ]
  },
  {
   "cell_type": "markdown",
   "metadata": {
    "nbgrader": {
     "grade": true,
     "grade_id": "cell-ef4095c9eb3ed600",
     "locked": false,
     "points": 2,
     "schema_version": 1,
     "solution": true
    }
   },
   "source": [
    "6.2 This operator returns the memory address of its operand."
   ]
  },
  {
   "cell_type": "markdown",
   "metadata": {
    "nbgrader": {
     "grade": false,
     "grade_id": "cell-2a4682c2d7ebffc1",
     "locked": true,
     "schema_version": 1,
     "solution": false
    }
   },
   "source": [
    " # What does the star (*) operator return?"
   ]
  },
  {
   "cell_type": "markdown",
   "metadata": {
    "nbgrader": {
     "grade": true,
     "grade_id": "cell-5f91fcad5b3226ad",
     "locked": false,
     "points": 2,
     "schema_version": 1,
     "solution": true
    }
   },
   "source": [
    "6.3 returns a synonym for the object to which its pointer operand points."
   ]
  },
  {
   "cell_type": "markdown",
   "metadata": {
    "nbgrader": {
     "grade": false,
     "grade_id": "cell-88da9e2fd7b4a7b2",
     "locked": true,
     "schema_version": 1,
     "solution": false
    }
   },
   "source": [
    " # How can an array be addressed in pointer/offset notation?"
   ]
  },
  {
   "cell_type": "markdown",
   "metadata": {
    "nbgrader": {
     "grade": true,
     "grade_id": "cell-393c48c057ae25c6",
     "locked": false,
     "points": 2,
     "schema_version": 1,
     "solution": true
    }
   },
   "source": [
    "6.4 The array itself can be signed to a pointer or each element of the array can be assigned to a pointer."
   ]
  },
  {
   "cell_type": "markdown",
   "metadata": {
    "nbgrader": {
     "grade": false,
     "grade_id": "cell-50192db9e3d166ac",
     "locked": true,
     "schema_version": 1,
     "solution": false
    }
   },
   "source": [
    " # What does the sizeof operator return?"
   ]
  },
  {
   "cell_type": "markdown",
   "metadata": {
    "nbgrader": {
     "grade": true,
     "grade_id": "cell-cb7cdb1e695c1184",
     "locked": false,
     "points": 2,
     "schema_version": 1,
     "solution": true
    }
   },
   "source": [
    "6.5 the number of bytes of an array during program compilation."
   ]
  },
  {
   "cell_type": "markdown",
   "metadata": {
    "nbgrader": {
     "grade": false,
     "grade_id": "cell-b3c61b0f83ec6f8c",
     "locked": true,
     "schema_version": 1,
     "solution": false
    }
   },
   "source": [
    " # What are the different ways to pass a pointer to a function?"
   ]
  },
  {
   "cell_type": "markdown",
   "metadata": {
    "nbgrader": {
     "grade": true,
     "grade_id": "cell-fe68a2e882f6f9c1",
     "locked": false,
     "points": 2,
     "schema_version": 1,
     "solution": true
    }
   },
   "source": [
    "6.6 They can be passed by value or by reference"
   ]
  },
  {
   "cell_type": "markdown",
   "metadata": {
    "nbgrader": {
     "grade": false,
     "grade_id": "cell-1cc515565b91511c",
     "locked": true,
     "schema_version": 1,
     "solution": false
    }
   },
   "source": [
    " # What is a function pointer?"
   ]
  },
  {
   "cell_type": "markdown",
   "metadata": {
    "nbgrader": {
     "grade": true,
     "grade_id": "cell-17248a4f8ec1719c",
     "locked": false,
     "points": 2,
     "schema_version": 1,
     "solution": true
    }
   },
   "source": [
    "6.7 A pointer that points to the memory address of the beginning part of a functions.  pretty much the pointer points to the function so it can be called to execute."
   ]
  },
  {
   "cell_type": "markdown",
   "metadata": {
    "nbgrader": {
     "grade": false,
     "grade_id": "cell-74102addabba9a67",
     "locked": true,
     "schema_version": 1,
     "solution": false
    }
   },
   "source": [
    " # What is a linked list?"
   ]
  },
  {
   "cell_type": "markdown",
   "metadata": {
    "nbgrader": {
     "grade": true,
     "grade_id": "cell-2a85746e55d8dce0",
     "locked": false,
     "points": 2,
     "schema_version": 1,
     "solution": true
    }
   },
   "source": [
    "7.1 Consists of sequence of nodes, each containing a number of data fields and one or two links called pointers that point to the next or previous nodes."
   ]
  },
  {
   "cell_type": "markdown",
   "metadata": {
    "nbgrader": {
     "grade": false,
     "grade_id": "cell-adec19eb052e787d",
     "locked": true,
     "schema_version": 1,
     "solution": false
    }
   },
   "source": [
    " # What is the main advantage of linked lists over arrays?"
   ]
  },
  {
   "cell_type": "markdown",
   "metadata": {
    "nbgrader": {
     "grade": true,
     "grade_id": "cell-8d7f4a2270c13df6",
     "locked": false,
     "points": 2,
     "schema_version": 1,
     "solution": true
    }
   },
   "source": [
    "7.2 Elements can be inserted into a link list at any point and does not need to be resized unlike an array needs to be."
   ]
  },
  {
   "cell_type": "markdown",
   "metadata": {
    "nbgrader": {
     "grade": false,
     "grade_id": "cell-d6b11bd682c33cde",
     "locked": true,
     "schema_version": 1,
     "solution": false
    }
   },
   "source": [
    " # What is the main advantage of arrays over linked lists?"
   ]
  },
  {
   "cell_type": "markdown",
   "metadata": {
    "nbgrader": {
     "grade": true,
     "grade_id": "cell-c4b17acbf69b99f6",
     "locked": false,
     "points": 2,
     "schema_version": 1,
     "solution": true
    }
   },
   "source": [
    "7.3 Array can retrieve memory from any place in the list while in a link list you have to traverse through each individual node."
   ]
  },
  {
   "cell_type": "markdown",
   "metadata": {
    "nbgrader": {
     "grade": false,
     "grade_id": "cell-7ac52e1a09cea36e",
     "locked": true,
     "schema_version": 1,
     "solution": false
    }
   },
   "source": [
    " # How are linked lists passed as arguments to a function?"
   ]
  },
  {
   "cell_type": "markdown",
   "metadata": {
    "nbgrader": {
     "grade": true,
     "grade_id": "cell-69872748f117db20",
     "locked": false,
     "points": 2,
     "schema_version": 1,
     "solution": true
    }
   },
   "source": [
    "7.4 They are passed by reference because you want the function to change the pointer"
   ]
  },
  {
   "cell_type": "markdown",
   "metadata": {
    "nbgrader": {
     "grade": false,
     "grade_id": "cell-f596808b044d09c4",
     "locked": true,
     "schema_version": 1,
     "solution": false
    }
   },
   "source": [
    " # What is the difference between a circular linked list and a basic linked list?"
   ]
  },
  {
   "cell_type": "markdown",
   "metadata": {
    "nbgrader": {
     "grade": true,
     "grade_id": "cell-52890ab4a0e167e6",
     "locked": false,
     "points": 2,
     "schema_version": 1,
     "solution": true
    }
   },
   "source": [
    "7.5 They are passed by reference because you want the function to change the pointer"
   ]
  },
  {
   "cell_type": "markdown",
   "metadata": {
    "nbgrader": {
     "grade": false,
     "grade_id": "cell-605a1f41db54db06",
     "locked": true,
     "schema_version": 1,
     "solution": false
    }
   },
   "source": [
    " # What is the main advantage of a doubly-linked list over a basic linked list?"
   ]
  },
  {
   "cell_type": "markdown",
   "metadata": {
    "nbgrader": {
     "grade": true,
     "grade_id": "cell-7dac17b647924f09",
     "locked": false,
     "points": 2,
     "schema_version": 1,
     "solution": true
    }
   },
   "source": [
    "7.6 they can traverse in both directions"
   ]
  },
  {
   "cell_type": "markdown",
   "metadata": {
    "nbgrader": {
     "grade": false,
     "grade_id": "cell-01543722bdb1072e",
     "locked": true,
     "schema_version": 1,
     "solution": false
    }
   },
   "source": [
    " # What is the main disadvantage of a doubly-linked list over a basic linked list?"
   ]
  },
  {
   "cell_type": "markdown",
   "metadata": {
    "nbgrader": {
     "grade": true,
     "grade_id": "cell-1e1d5b6fb85669e6",
     "locked": false,
     "points": 2,
     "schema_version": 1,
     "solution": true
    }
   },
   "source": [
    "7.7 they take up twice as much memory for each node"
   ]
  },
  {
   "cell_type": "markdown",
   "metadata": {
    "nbgrader": {
     "grade": false,
     "grade_id": "cell-a8bab04bec02fc1a",
     "locked": true,
     "schema_version": 1,
     "solution": false
    }
   },
   "source": [
    " # What is a stack?"
   ]
  },
  {
   "cell_type": "markdown",
   "metadata": {
    "nbgrader": {
     "grade": true,
     "grade_id": "cell-1131f7815d2e3886",
     "locked": false,
     "points": 2,
     "schema_version": 1,
     "solution": true
    }
   },
   "source": [
    "8.1 A data structure for storing items which are to be accessed in last-in first-out order that can be implemented in three ways."
   ]
  },
  {
   "cell_type": "markdown",
   "metadata": {
    "nbgrader": {
     "grade": false,
     "grade_id": "cell-df100b2ef37da23e",
     "locked": true,
     "schema_version": 1,
     "solution": false
    }
   },
   "source": [
    " # What are the two main functions defined by a stack?"
   ]
  },
  {
   "cell_type": "markdown",
   "metadata": {
    "nbgrader": {
     "grade": true,
     "grade_id": "cell-2ab805ca80cad148",
     "locked": false,
     "points": 2,
     "schema_version": 1,
     "solution": true
    }
   },
   "source": [
    "8.2 Push and pop are two main functions defined in a stack"
   ]
  },
  {
   "cell_type": "markdown",
   "metadata": {
    "nbgrader": {
     "grade": false,
     "grade_id": "cell-976a5ba39614f42b",
     "locked": true,
     "schema_version": 1,
     "solution": false
    }
   },
   "source": [
    " # How can you implement a stack with an array?"
   ]
  },
  {
   "cell_type": "markdown",
   "metadata": {
    "nbgrader": {
     "grade": true,
     "grade_id": "cell-e5a1bc830612e86f",
     "locked": false,
     "points": 2,
     "schema_version": 1,
     "solution": true
    }
   },
   "source": [
    "8.3 An array has a fixed size.  You can add and delete elements to the end of the array and you use a pointer to keep track of the last element added.  Each time you add or delete an element you update the pointer and check if it is equal to the max size of the array."
   ]
  },
  {
   "cell_type": "markdown",
   "metadata": {
    "nbgrader": {
     "grade": false,
     "grade_id": "cell-700e8dfd49e1722b",
     "locked": true,
     "schema_version": 1,
     "solution": false
    }
   },
   "source": [
    " # How can you implement a stack with a list?"
   ]
  },
  {
   "cell_type": "markdown",
   "metadata": {
    "nbgrader": {
     "grade": true,
     "grade_id": "cell-c52238cec4c81109",
     "locked": false,
     "points": 2,
     "schema_version": 1,
     "solution": true
    }
   },
   "source": [
    "8.4 You can add an element to the end of the linked list and update a pointer called top each time you modify the list."
   ]
  },
  {
   "cell_type": "markdown",
   "metadata": {
    "nbgrader": {
     "grade": false,
     "grade_id": "cell-7091011653f53363",
     "locked": true,
     "schema_version": 1,
     "solution": false
    }
   },
   "source": [
    " # Which implementation (array-based vs. list-based) is preferred, and why?"
   ]
  },
  {
   "cell_type": "markdown",
   "metadata": {
    "nbgrader": {
     "grade": true,
     "grade_id": "cell-5abb087c32583830",
     "locked": false,
     "points": 2,
     "schema_version": 1,
     "solution": true
    }
   },
   "source": [
    "8.5 List based is preferred because it is not constrained to a fix size.  The down fall is that it takes up more memory because each node has at least two parts, the item and the pointer."
   ]
  },
  {
   "cell_type": "markdown",
   "metadata": {
    "nbgrader": {
     "grade": false,
     "grade_id": "cell-687c0349f6a351b2",
     "locked": true,
     "schema_version": 1,
     "solution": false
    }
   },
   "source": [
    " # How are infix expressions evaluated by computers?"
   ]
  },
  {
   "cell_type": "markdown",
   "metadata": {
    "nbgrader": {
     "grade": true,
     "grade_id": "cell-0eb1e2a5440b75a1",
     "locked": false,
     "points": 2,
     "schema_version": 1,
     "solution": true
    }
   },
   "source": [
    "8.6 They are converted to post fix expressions.  It still follow the order of precedence for the operators."
   ]
  },
  {
   "cell_type": "markdown",
   "metadata": {
    "nbgrader": {
     "grade": false,
     "grade_id": "cell-2cb4b39b00fa699e",
     "locked": true,
     "schema_version": 1,
     "solution": false
    }
   },
   "source": [
    " # What operations would you need to perform to find a given element on a stack?"
   ]
  },
  {
   "cell_type": "markdown",
   "metadata": {
    "nbgrader": {
     "grade": true,
     "grade_id": "cell-6250a97aea7d16b3",
     "locked": false,
     "points": 2,
     "schema_version": 1,
     "solution": true
    }
   },
   "source": [
    "8.7 isEmptry()//determines if the stack is full or not pop()//to remove the top element if it is not the on you are looking for search()//you compare each element of the stack to the data you are looking for."
   ]
  },
  {
   "cell_type": "markdown",
   "metadata": {
    "nbgrader": {
     "grade": false,
     "grade_id": "cell-24d0519ad76f1746",
     "locked": true,
     "schema_version": 1,
     "solution": false
    }
   },
   "source": [
    " # What is a queue?"
   ]
  },
  {
   "cell_type": "markdown",
   "metadata": {
    "nbgrader": {
     "grade": true,
     "grade_id": "cell-7d534efd654583dd",
     "locked": false,
     "points": 2,
     "schema_version": 1,
     "solution": true
    }
   },
   "source": [
    "9.1 A data structure in c++ which is a collection of data that is kept in order.  First in first out."
   ]
  },
  {
   "cell_type": "markdown",
   "metadata": {
    "nbgrader": {
     "grade": false,
     "grade_id": "cell-1b4078991b68bf41",
     "locked": true,
     "schema_version": 1,
     "solution": false
    }
   },
   "source": [
    " # What are the two main functions defined by a queue?"
   ]
  },
  {
   "cell_type": "markdown",
   "metadata": {
    "nbgrader": {
     "grade": true,
     "grade_id": "cell-ec94e12a7358ab37",
     "locked": false,
     "points": 2,
     "schema_version": 1,
     "solution": true
    }
   },
   "source": [
    "9.2 enqueue which adds data to the queue and dequeue which deletes data from the queue"
   ]
  },
  {
   "cell_type": "markdown",
   "metadata": {
    "nbgrader": {
     "grade": false,
     "grade_id": "cell-bf5098554dcf89b8",
     "locked": true,
     "schema_version": 1,
     "solution": false
    }
   },
   "source": [
    " # How can you implement a queue with an array?"
   ]
  },
  {
   "cell_type": "markdown",
   "metadata": {
    "nbgrader": {
     "grade": true,
     "grade_id": "cell-7fa62533c86c1179",
     "locked": false,
     "points": 2,
     "schema_version": 1,
     "solution": true
    }
   },
   "source": [
    "9.3 Make use of a front pointer and a tail pointer.  When the tail pointer reaches the end of an array it gets reset to the front of the array.  If the two pointers are equal then the queue is either full or just has one element."
   ]
  },
  {
   "cell_type": "markdown",
   "metadata": {
    "nbgrader": {
     "grade": false,
     "grade_id": "cell-613abc3c3597eb28",
     "locked": true,
     "schema_version": 1,
     "solution": false
    }
   },
   "source": [
    " # How can you implement a queue with a list?"
   ]
  },
  {
   "cell_type": "markdown",
   "metadata": {
    "nbgrader": {
     "grade": true,
     "grade_id": "cell-758d4bb1e4e9c2fe",
     "locked": false,
     "points": 2,
     "schema_version": 1,
     "solution": true
    }
   },
   "source": [
    "9.4 A list can have unlimited elements in it.  You can push a node onto the end of the list and pop the one in the front."
   ]
  },
  {
   "cell_type": "markdown",
   "metadata": {
    "nbgrader": {
     "grade": false,
     "grade_id": "cell-b4c0ae78560dacc6",
     "locked": true,
     "schema_version": 1,
     "solution": false
    }
   },
   "source": [
    " # Which implementation (array-based vs. list-based) is preferred for a queue, and why?"
   ]
  },
  {
   "cell_type": "markdown",
   "metadata": {
    "nbgrader": {
     "grade": true,
     "grade_id": "cell-4da43021d8b1228e",
     "locked": false,
     "points": 2,
     "schema_version": 1,
     "solution": true
    }
   },
   "source": [
    "9.5 List based.  Because it is on the run time order of N, also it does not have a limited size like an array does"
   ]
  },
  {
   "cell_type": "markdown",
   "metadata": {
    "nbgrader": {
     "grade": false,
     "grade_id": "cell-0b1b490ffd337e76",
     "locked": true,
     "schema_version": 1,
     "solution": false
    }
   },
   "source": [
    " # What is the stack operation corresponding to the enqueue operation in queues?"
   ]
  },
  {
   "cell_type": "markdown",
   "metadata": {
    "nbgrader": {
     "grade": true,
     "grade_id": "cell-7d8d260a7632e873",
     "locked": false,
     "points": 2,
     "schema_version": 1,
     "solution": true
    }
   },
   "source": [
    "9.6 Push."
   ]
  },
  {
   "cell_type": "markdown",
   "metadata": {
    "nbgrader": {
     "grade": false,
     "grade_id": "cell-6f9d208eed38f462",
     "locked": true,
     "schema_version": 1,
     "solution": false
    }
   },
   "source": [
    " # What data structure is more appropriate for scheduling printing jobs at a printer, a stack or a queue?"
   ]
  },
  {
   "cell_type": "markdown",
   "metadata": {
    "nbgrader": {
     "grade": true,
     "grade_id": "cell-6cea3a0be650331e",
     "locked": false,
     "points": 2,
     "schema_version": 1,
     "solution": true
    }
   },
   "source": [
    "9.7 A stack, some printing jobs might have a higher priority than others and they can be easily inserted at the front of the list or anywhere between."
   ]
  }
 ],
 "metadata": {
  "celltoolbar": "Create Assignment"
 },
 "nbformat": 4,
 "nbformat_minor": 0
}
