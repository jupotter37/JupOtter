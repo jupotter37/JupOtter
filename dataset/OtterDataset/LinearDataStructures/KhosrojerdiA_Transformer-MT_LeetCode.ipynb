{
  "nbformat": 4,
  "nbformat_minor": 0,
  "metadata": {
    "colab": {
      "provenance": [],
      "toc_visible": true,
      "authorship_tag": "ABX9TyOPXz2tAILQI9UkTdHxZeeb",
      "include_colab_link": true
    },
    "kernelspec": {
      "name": "python3",
      "display_name": "Python 3"
    },
    "language_info": {
      "name": "python"
    }
  },
  "cells": [
    {
      "cell_type": "markdown",
      "metadata": {
        "id": "view-in-github",
        "colab_type": "text"
      },
      "source": [
        "<a href=\"https://colab.research.google.com/github/KhosrojerdiA/Transformer-MT/blob/main/LeetCode.ipynb\" target=\"_parent\"><img src=\"https://colab.research.google.com/assets/colab-badge.svg\" alt=\"Open In Colab\"/></a>"
      ]
    },
    {
      "cell_type": "markdown",
      "source": [
        "#Arrays and Hashing"
      ],
      "metadata": {
        "id": "hMOr_6iOOtdu"
      }
    },
    {
      "cell_type": "markdown",
      "source": [
        "##1. Contains Duplicate\n",
        "nums = [1,2,3,1]\n",
        "\n",
        "Output: True"
      ],
      "metadata": {
        "id": "y4WBljxVOpaF"
      }
    },
    {
      "cell_type": "code",
      "source": [
        "def duplicate(nums):\n",
        "  numset = set()\n",
        "\n",
        "  for n in nums:\n",
        "    if n in numset: return True\n",
        "    else: numset.add(n)\n",
        "  return False\n",
        "\n",
        "nums = [1,2,3,1]\n",
        "duplicate(nums)\n",
        "#Output = True"
      ],
      "metadata": {
        "colab": {
          "base_uri": "https://localhost:8080/"
        },
        "id": "9n7KlyouPvb9",
        "outputId": "e689c583-377b-4735-d36d-602f98608c7c"
      },
      "execution_count": null,
      "outputs": [
        {
          "output_type": "execute_result",
          "data": {
            "text/plain": [
              "True"
            ]
          },
          "metadata": {},
          "execution_count": 36
        }
      ]
    },
    {
      "cell_type": "markdown",
      "source": [
        "##2. Valid Anagram\n",
        "rearrengin the letters\n",
        "\n",
        "s = \"anagram\"\n",
        "\n",
        "t = \"nagaram\"\n",
        "\n",
        "Output = True"
      ],
      "metadata": {
        "id": "k51SGCQkQKl0"
      }
    },
    {
      "cell_type": "code",
      "source": [
        "def anagram(s,t):\n",
        "  if len(s)!= len(t): return False\n",
        "\n",
        "  countT, countS = {}, {}\n",
        "\n",
        "  for i in range(len(s)):\n",
        "    countT[t[i]] = 1 + countT.get(t[i],0)\n",
        "    countS[s[i]] = 1 + countS.get(s[i],0)\n",
        "\n",
        "  if countT == countS: return True\n",
        "  else: False\n",
        "\n",
        "\n",
        "\n",
        "s = \"anagram\"\n",
        "t = \"nagaram\"\n",
        "anagram(s,t)\n",
        "#Output = True"
      ],
      "metadata": {
        "colab": {
          "base_uri": "https://localhost:8080/"
        },
        "id": "epaXH9B-QQkt",
        "outputId": "666898a2-7c88-460e-efc2-1b6d633df90f"
      },
      "execution_count": null,
      "outputs": [
        {
          "output_type": "execute_result",
          "data": {
            "text/plain": [
              "True"
            ]
          },
          "metadata": {},
          "execution_count": 3
        }
      ]
    },
    {
      "cell_type": "markdown",
      "source": [
        "##3. Two sum\n",
        "nums = [2,7,11,15], target = 9\n",
        "\n",
        "Output: [0,1]"
      ],
      "metadata": {
        "id": "hvFw_nYkRPW7"
      }
    },
    {
      "cell_type": "code",
      "source": [
        "def twosum(nums, target):\n",
        "  prevmap = {} #val,index {{2,0}, {7,1}}\n",
        "\n",
        "  for i, n in enumerate(nums):\n",
        "    diff = target - n\n",
        "\n",
        "    if diff in prevmap:\n",
        "      return [prevmap[diff],i]\n",
        "\n",
        "    prevmap[n] = i\n",
        "\n",
        "\n",
        "nums = [2,7,11,15]\n",
        "target = 9\n",
        "twosum(nums, target)\n",
        "#Output: [0,1]"
      ],
      "metadata": {
        "colab": {
          "base_uri": "https://localhost:8080/"
        },
        "id": "EVN1x7pBRSfH",
        "outputId": "ff0242e0-1057-431a-fe8f-0cd0e88092b1"
      },
      "execution_count": null,
      "outputs": [
        {
          "output_type": "execute_result",
          "data": {
            "text/plain": [
              "[0, 1]"
            ]
          },
          "metadata": {},
          "execution_count": 4
        }
      ]
    },
    {
      "cell_type": "markdown",
      "source": [
        "##4. Group Anagrams\n",
        "strs = [\"eat\",\"tea\",\"tan\",\"ate\",\"nat\",\"bat\"]\n",
        "\n",
        "Output: [[\"bat\"],[\"nat\",\"tan\"],[\"ate\",\"eat\",\"tea\"]]"
      ],
      "metadata": {
        "id": "xzeTPbGySNFQ"
      }
    },
    {
      "cell_type": "code",
      "source": [
        "from collections import defaultdict"
      ],
      "metadata": {
        "id": "DC27O51PSuA0"
      },
      "execution_count": null,
      "outputs": []
    },
    {
      "cell_type": "code",
      "source": [
        "def groupanagrams(strs):\n",
        "  ans = defaultdict(list)\n",
        "\n",
        "  for s in strs:\n",
        "    count = [0] * 26\n",
        "\n",
        "    for c in s:\n",
        "      count[ord(c) - ord(\"a\")] += 1\n",
        "      #list of 26 items for each word that has count of each char in that word\n",
        "\n",
        "    ans[tuple(count)].append(s)\n",
        "    #ans is tuple of (word, list whic has the count of all 26 char in that word)\n",
        "\n",
        "  return ans.values()\n",
        "\n",
        "\n",
        "strs = [\"eat\",\"tea\",\"tan\",\"ate\",\"nat\",\"bat\"]\n",
        "groupanagrams(strs)\n",
        "#Output: [[\"bat\"],[\"nat\",\"tan\"],[\"ate\",\"eat\",\"tea\"]]"
      ],
      "metadata": {
        "colab": {
          "base_uri": "https://localhost:8080/"
        },
        "id": "0hi25ruASSmW",
        "outputId": "9bc99019-55ba-4cfd-94e5-64127a09fd17"
      },
      "execution_count": null,
      "outputs": [
        {
          "output_type": "execute_result",
          "data": {
            "text/plain": [
              "dict_values([['eat', 'tea', 'ate'], ['tan', 'nat'], ['bat']])"
            ]
          },
          "metadata": {},
          "execution_count": 6
        }
      ]
    },
    {
      "cell_type": "markdown",
      "source": [
        "##5. Top k frequent elements\n",
        "k most frequent elements\n",
        "\n",
        "nums = [1,1,1,2,2,3], k = 2\n",
        "\n",
        "Output = [1,2]"
      ],
      "metadata": {
        "id": "qsXU93t7TyGC"
      }
    },
    {
      "cell_type": "code",
      "source": [
        "def topk(nums, k):\n",
        "  count= {}\n",
        "  freq = [[] for i in range(len(nums)+1)]\n",
        "\n",
        "  for n in nums: count[n] = 1 + count.get(n,0)\n",
        "  #{value: freq} {1:3, 2:2, 3:1}\n",
        "  for n, c in count.items(): freq[c].append(n)\n",
        "  #[ [], [3], [2], [1], [], [], [] ]\n",
        "  #[freq, value] [[3,1], [2,2], [1,3], [,4], [,5]]\n",
        "\n",
        "  res = []\n",
        "  for i in range(len(freq)-1,0,-1):\n",
        "    #from end to start\n",
        "    for n in freq[i]:\n",
        "      res.append(n) #res = [1, 2, 3]\n",
        "      if len(res) == k:\n",
        "        return res\n",
        "\n",
        "nums = [1,1,1,2,2,3]\n",
        "k = 2\n",
        "topk(nums, k)\n",
        "#Output = [1,2]"
      ],
      "metadata": {
        "colab": {
          "base_uri": "https://localhost:8080/"
        },
        "id": "3dfHLJ9GT3NJ",
        "outputId": "73c9c771-5c6e-454f-fb63-b4a03a0d80c1"
      },
      "execution_count": null,
      "outputs": [
        {
          "output_type": "execute_result",
          "data": {
            "text/plain": [
              "[1, 2]"
            ]
          },
          "metadata": {},
          "execution_count": 7
        }
      ]
    },
    {
      "cell_type": "markdown",
      "source": [
        "##6. Product of Array Except Self\n",
        "nums    =     [1,2,3,4]\n",
        "\n",
        "Ouput   =    [24,12,8,6]"
      ],
      "metadata": {
        "id": "XGX7sCY-VTH9"
      }
    },
    {
      "cell_type": "code",
      "source": [
        "#nums    =     [1,2,3,4]\n",
        "#prefix  = [1] [1,2,6,24]\n",
        "#postfix =     [24,24,12,4] [1]\n",
        "#Output  = prefix of n * postfix of n\n",
        "#Ouput   =.    [24,12,8,6]\n",
        "def product_array(nums):\n",
        "  res = [1] * (len(nums))\n",
        "\n",
        "  prefix = 1\n",
        "\n",
        "  for i in range (len(nums)):\n",
        "    res[i] = prefix\n",
        "    prefix *= nums[i]\n",
        "\n",
        "  postfix = 1\n",
        "\n",
        "  for i in range (len(nums)-1,-1,-1):\n",
        "    res[i] *= postfix\n",
        "    postfix *= nums[i]\n",
        "\n",
        "  return res\n",
        "\n",
        "nums = [1,2,3,4]\n",
        "product_array(nums)\n",
        "#Output: [24,12,8,6]"
      ],
      "metadata": {
        "colab": {
          "base_uri": "https://localhost:8080/"
        },
        "id": "HVIpTNslVW7l",
        "outputId": "8bd717f2-7210-4575-80ff-3faf7ecd5005"
      },
      "execution_count": null,
      "outputs": [
        {
          "output_type": "execute_result",
          "data": {
            "text/plain": [
              "[24, 12, 8, 6]"
            ]
          },
          "metadata": {},
          "execution_count": 9
        }
      ]
    },
    {
      "cell_type": "markdown",
      "source": [
        "##7. Longest Consecutive Sequence\n",
        "\n",
        "not increasing\n",
        "\n",
        "nums = [100,4,200,1,3,2]\n",
        "\n",
        "\n",
        "Output: 4 ([1,2,3,4])"
      ],
      "metadata": {
        "id": "nnvaTNbdX9pV"
      }
    },
    {
      "cell_type": "code",
      "source": [
        "def lcs(nums):\n",
        "\n",
        "  numset = set(nums)\n",
        "  longest = 0\n",
        "\n",
        "  for n in nums:\n",
        "    if (n-1) not in numset:\n",
        "      #Start of the sequence. Start Calculating the length\n",
        "      lenght = 1\n",
        "      while (n + lenght) in numset:\n",
        "        #moving\n",
        "        lenght += 1\n",
        "      longest = max(longest, lenght)\n",
        "  return longest\n",
        "\n",
        "\n",
        "nums = [100,4,200,1,3,2]\n",
        "lcs(nums)\n",
        "#Output: 4\n",
        "#lcs is the sequence of [1,2,3,4] so the length is 4."
      ],
      "metadata": {
        "colab": {
          "base_uri": "https://localhost:8080/"
        },
        "id": "hLJVbOdyYEGA",
        "outputId": "cea92421-838b-4f63-fcfb-41b986e6a012"
      },
      "execution_count": null,
      "outputs": [
        {
          "output_type": "execute_result",
          "data": {
            "text/plain": [
              "4"
            ]
          },
          "metadata": {},
          "execution_count": 12
        }
      ]
    },
    {
      "cell_type": "markdown",
      "source": [
        "#Min Heap"
      ],
      "metadata": {
        "id": "CRM40aR7P8TX"
      }
    },
    {
      "cell_type": "markdown",
      "source": [
        "##Merge K sorted arrays\n",
        "using Min-Heap"
      ],
      "metadata": {
        "id": "pZWqTlXOQCIQ"
      }
    },
    {
      "cell_type": "markdown",
      "source": [
        "Create a min Heap and insert the first element of all the K arrays.\n",
        "\n",
        "Run a loop until the size of MinHeap is greater than zero.\n",
        "\n",
        "Remove the top element of the MinHeap and print the element.\n",
        "\n",
        "Now insert the next element from the same array in which the removed element belonged.\n",
        "\n",
        "If the array doesn't have any more elements, then replace root with infinite. After replacing the root, heapify the tree.\n",
        "\n",
        "Return the output array"
      ],
      "metadata": {
        "id": "4mj12bf5QCZ5"
      }
    },
    {
      "cell_type": "code",
      "source": [
        "import sys\n",
        "class MinHeapNode :\n",
        "    element = 0\n",
        "    i = 0\n",
        "    j = 0\n",
        "    def __init__(self, element,  i,  j) :\n",
        "        self.element = element\n",
        "        self.i = i\n",
        "        self.j = j\n",
        "\n",
        "\n",
        "class MinHeap :\n",
        "    harr = None\n",
        "    heap_size = 0\n",
        "    def __init__(self, a,  size) :\n",
        "        self.heap_size = size\n",
        "        self.harr = a\n",
        "        i = int((self.heap_size - 1) / 2)\n",
        "        while (i >= 0) :\n",
        "            self.MinHeapify(i)\n",
        "            i -= 1\n",
        "\n",
        "    # A recursive method to heapify a subtree\n",
        "    # with the root at given index This method\n",
        "    # assumes that the subtrees are already heapified\n",
        "    def MinHeapify(self, i) :\n",
        "        l = self.left(i)\n",
        "        r = self.right(i)\n",
        "        smallest = i\n",
        "        if (l < self.heap_size and self.harr[l].element < self.harr[i].element) :\n",
        "            smallest = l\n",
        "        if (r < self.heap_size and self.harr[r].element < self.harr[smallest].element) :\n",
        "            smallest = r\n",
        "        if (smallest != i) :\n",
        "            self.swap(self.harr, i, smallest)\n",
        "            self.MinHeapify(smallest)\n",
        "\n",
        "    # to get index of left child of node at index i\n",
        "    def  left(self, i) :\n",
        "        return (2 * i + 1)\n",
        "\n",
        "    # to get index of right child of node at index i\n",
        "    def  right(self, i) :\n",
        "        return (2 * i + 2)\n",
        "\n",
        "    # to get the root\n",
        "    def  getMin(self) :\n",
        "        if (self.heap_size <= 0) :\n",
        "            print(\"Heap underflow\")\n",
        "            return None\n",
        "        return self.harr[0]\n",
        "\n",
        "    # to replace root with new node\n",
        "    # \"root\" and heapify() new root\n",
        "    def replaceMin(self, root) :\n",
        "        self.harr[0] = root\n",
        "        self.MinHeapify(0)\n",
        "\n",
        "    # A utility function to swap two min heap nodes\n",
        "    def swap(self, arr,  i,  j) :\n",
        "        temp = arr[i]\n",
        "        arr[i] = arr[j]\n",
        "        arr[j] = temp\n",
        "\n",
        "    # A utility function to print array elements\n",
        "    @staticmethod\n",
        "    def printArray( arr) :\n",
        "        for i in arr :\n",
        "            print(str(i) + \" \", end =\"\")\n",
        "        print()\n",
        "\n",
        "    # This function takes an array of\n",
        "    # arrays as an argument and All\n",
        "    # arrays are assumed to be sorted.\n",
        "    # It merges them together and\n",
        "    # prints the final sorted output.\n",
        "    @staticmethod\n",
        "    def mergeKSortedArrays( arr,  K) :\n",
        "        hArr = [None] * (K)\n",
        "        resultSize = 0\n",
        "        i = 0\n",
        "        while (i < len(arr)) :\n",
        "            node = MinHeapNode(arr[i][0], i, 1)\n",
        "            hArr[i] = node\n",
        "            resultSize += len(arr[i])\n",
        "            i += 1\n",
        "\n",
        "        # Create a min heap with k heap nodes. Every heap\n",
        "        # node has first element of an array\n",
        "        mh = MinHeap(hArr, K)\n",
        "        result = [0] * (resultSize)\n",
        "\n",
        "        # To store output array\n",
        "        # Now one by one get the minimum element from min\n",
        "        # heap and replace it with next element of its\n",
        "        # array\n",
        "        i = 0\n",
        "        while (i < resultSize) :\n",
        "\n",
        "            # Get the minimum element and store it in\n",
        "            # result\n",
        "            root = mh.getMin()\n",
        "            result[i] = root.element\n",
        "\n",
        "            # Find the next element that will replace\n",
        "            # current root of heap. The next element\n",
        "            # belongs to same array as the current root.\n",
        "            if (root.j < len(arr[root.i])) :\n",
        "                root.element = arr[root.i][root.j]\n",
        "                root.j += 1\n",
        "            else :\n",
        "                root.element = sys.maxsize\n",
        "\n",
        "            # Replace root with next element of array\n",
        "            mh.replaceMin(root)\n",
        "            i += 1\n",
        "        MinHeap.printArray(result)\n",
        "\n",
        "    # Driver's code\n",
        "    @staticmethod\n",
        "    def main( args) :\n",
        "        arr = [[2, 6, 12, 34],\n",
        "               [1, 9, 20, 1000],\n",
        "               [23, 34, 90, 2000]]\n",
        "        print(\"Merged array is :\")\n",
        "        # Function call\n",
        "        MinHeap.mergeKSortedArrays(arr, len(arr))\n",
        "\n",
        "if __name__==\"__main__\":\n",
        "    MinHeap.main([])\n",
        "#O(N * K * log K), Insertion and deletion in a Min Heap requires log K time."
      ],
      "metadata": {
        "colab": {
          "base_uri": "https://localhost:8080/"
        },
        "id": "yPy4od4RP90K",
        "outputId": "e0855077-3e41-4682-c4c7-99eb7637a7f8"
      },
      "execution_count": null,
      "outputs": [
        {
          "output_type": "stream",
          "name": "stdout",
          "text": [
            "Merged array is :\n",
            "1 2 6 9 12 20 23 34 34 90 1000 2000 \n"
          ]
        }
      ]
    },
    {
      "cell_type": "markdown",
      "source": [
        "#Two Pointers"
      ],
      "metadata": {
        "id": "AvCNt0OcY_1I"
      }
    },
    {
      "cell_type": "markdown",
      "source": [
        "##8. Valid Palindrome\n",
        "it reads the same forward and backward\n",
        "\n",
        "\"A man, a plan, a canal: Panama\"\n",
        "\n",
        "Output: True"
      ],
      "metadata": {
        "id": "KR5Dq3NHZCqY"
      }
    },
    {
      "cell_type": "code",
      "source": [
        "from inspect import FullArgSpec\n",
        "\n",
        "def alphanum(c): #if char is captial, small or number\n",
        "  return (\n",
        "      ord(\"A\") <= ord(c) <= ord(\"Z\")\n",
        "      or ord(\"a\") <= ord(c) <= ord(\"z\")\n",
        "      or ord(\"0\") <= ord(c) <= ord(\"9\")\n",
        "          )\n",
        "\n",
        "def ispalindrome(s):\n",
        "  l, r = 0, len(s) - 1\n",
        "  while l < r:\n",
        "    while l < r and not alphanum(s[l]):\n",
        "      l += 1\n",
        "    while l < r and not alphanum(s[r]):\n",
        "      r -= 1\n",
        "    if s[l].lower() != s[r].lower():\n",
        "      return False\n",
        "    l += 1\n",
        "    r -= 1\n",
        "  return True\n",
        "\n",
        "\n",
        "s = \"A man, a plan, a canal: Panama\"\n",
        "ispalindrome(s)\n",
        "#Explanation: \"amanaplanacanalpanama\" is a palindrome.\n",
        "#Output: True"
      ],
      "metadata": {
        "colab": {
          "base_uri": "https://localhost:8080/"
        },
        "id": "9Zotlt5YZKPk",
        "outputId": "1be453ca-d1cb-4ba7-a507-5f2225a76416"
      },
      "execution_count": null,
      "outputs": [
        {
          "output_type": "execute_result",
          "data": {
            "text/plain": [
              "True"
            ]
          },
          "metadata": {},
          "execution_count": 16
        }
      ]
    },
    {
      "cell_type": "markdown",
      "source": [
        "##9. Two Sum in Sorted Array"
      ],
      "metadata": {
        "id": "_vkPQaQBbroy"
      }
    },
    {
      "cell_type": "code",
      "source": [
        "def twosum_sorted(nums, target):\n",
        "  l, r = 0, len(nums)-1\n",
        "  while l < r:\n",
        "    cursum = nums[l] + nums[r]\n",
        "    if cursum > target:\n",
        "      r -= 1\n",
        "    elif cursum < target:\n",
        "      l += 1\n",
        "    else:\n",
        "      return[l,r]\n",
        "\n",
        "\n",
        "nums = [2,7,11,15]\n",
        "target = 9\n",
        "twosum_sorted(nums, target)\n",
        "#Output: [0,1]"
      ],
      "metadata": {
        "colab": {
          "base_uri": "https://localhost:8080/"
        },
        "id": "_cLEQibYbu0X",
        "outputId": "4075af4e-3316-4fa9-9ff8-6c7a0b2020c7"
      },
      "execution_count": null,
      "outputs": [
        {
          "output_type": "execute_result",
          "data": {
            "text/plain": [
              "[0, 1]"
            ]
          },
          "metadata": {},
          "execution_count": 17
        }
      ]
    },
    {
      "cell_type": "markdown",
      "source": [
        "##10. Threesum\n",
        "target is 0."
      ],
      "metadata": {
        "id": "89gIH4-LcKma"
      }
    },
    {
      "cell_type": "code",
      "source": [
        "def threesum(nums):\n",
        "  res = []\n",
        "  nums.sort()\n",
        "\n",
        "  for i, n in enumerate(nums):\n",
        "    #check the first one\n",
        "    if n > 0: break #skip postive integer\n",
        "    if i > 0 and a == nums[i-1]: continue #duplicate\n",
        "\n",
        "    l,r = i + 1, len(nums)-1\n",
        "\n",
        "    while l < r:\n",
        "      threesum = n + nums[l] + nums[r]\n",
        "      if threesum > 0:\n",
        "        r -= 1\n",
        "      elif threesum < 0:\n",
        "        l += 1\n",
        "      else:\n",
        "        res.append([n, nums[l], nums[r]])\n",
        "        l += 1\n",
        "        r -= 1\n",
        "        while nums[l] == nums[l-1] and l < r:\n",
        "          l += 1\n",
        "  return res\n",
        "\n",
        "nums = [-1,0,1,2,-1,-4]\n",
        "threesum(nums)\n",
        "#Output: [[-1,-1,2], [-1,0,1]]"
      ],
      "metadata": {
        "colab": {
          "base_uri": "https://localhost:8080/"
        },
        "id": "Jubk95gJcMup",
        "outputId": "df44f05c-c0a3-4fe8-9186-96bbc8d578f9"
      },
      "execution_count": null,
      "outputs": [
        {
          "output_type": "execute_result",
          "data": {
            "text/plain": [
              "[[-1, -1, 2], [-1, 0, 1]]"
            ]
          },
          "metadata": {},
          "execution_count": 21
        }
      ]
    },
    {
      "cell_type": "markdown",
      "source": [
        "#Stack"
      ],
      "metadata": {
        "id": "7Z5UbbNXdlCR"
      }
    },
    {
      "cell_type": "markdown",
      "source": [
        "##11. Valid Parantheses\n",
        "s = \"()[]{}\""
      ],
      "metadata": {
        "id": "J0joOYgYdmam"
      }
    },
    {
      "cell_type": "code",
      "source": [
        "def isValid(s):\n",
        "    stack = []\n",
        "\n",
        "    for c in s:\n",
        "        if c in '([{':  #openning\n",
        "            stack.append(c)\n",
        "            #push the openning into stack\n",
        "        else: #closing\n",
        "          #check if char is closing bracket\n",
        "          #and last item in stack is not openning of the same one\n",
        "            if not stack or \\\n",
        "                (c == ')' and stack[-1] != '(') or \\\n",
        "                (c == '}' and stack[-1] != '{') or \\\n",
        "                (c == ']' and stack[-1] != '['):\n",
        "                    return False\n",
        "            #if stack is not empty and two items are not matching -> False\n",
        "            stack.pop() #two items are matching pop the openning bracket from stack\n",
        "\n",
        "    return not stack #if stack is empty then it is valid\n",
        "\n",
        "\n",
        "\n",
        "s = \"()[]{}\"\n",
        "isValid(s)\n",
        "#Output: True"
      ],
      "metadata": {
        "colab": {
          "base_uri": "https://localhost:8080/"
        },
        "id": "DUI_Yu0gdpyw",
        "outputId": "da9ac1db-2c5f-4995-ef41-7d99855af875"
      },
      "execution_count": null,
      "outputs": [
        {
          "output_type": "execute_result",
          "data": {
            "text/plain": [
              "True"
            ]
          },
          "metadata": {},
          "execution_count": 29
        }
      ]
    },
    {
      "cell_type": "code",
      "source": [
        "t = \"(]\"\n",
        "isValid(t)\n",
        "#Output: False"
      ],
      "metadata": {
        "colab": {
          "base_uri": "https://localhost:8080/"
        },
        "id": "EM_K8e0aJ8S1",
        "outputId": "fe18cde3-6424-4942-8aff-82e224081b15"
      },
      "execution_count": null,
      "outputs": [
        {
          "output_type": "execute_result",
          "data": {
            "text/plain": [
              "False"
            ]
          },
          "metadata": {},
          "execution_count": 30
        }
      ]
    },
    {
      "cell_type": "markdown",
      "source": [
        "##12. Design a stack\n",
        "that supports push, pop, top, and retrieving the minimum element in constant time.\n",
        "\n",
        "MinStack class:"
      ],
      "metadata": {
        "id": "mkOyZ7ahbrFl"
      }
    },
    {
      "cell_type": "code",
      "source": [
        "class MinStack:\n",
        "    def __init__(self):\n",
        "        self.stack = []\n",
        "        self.minStack = []\n",
        "\n",
        "    def push(self, val: int) -> None:\n",
        "        self.stack.append(val)\n",
        "        val = min(val, self.minStack[-1] if self.minStack else val)\n",
        "        self.minStack.append(val)\n",
        "\n",
        "    def pop(self) -> None:\n",
        "        self.stack.pop()\n",
        "        self.minStack.pop()\n",
        "\n",
        "    def top(self) -> int:\n",
        "        return self.stack[-1]\n",
        "\n",
        "    def getMin(self) -> int:\n",
        "        return self.minStack[-1]"
      ],
      "metadata": {
        "id": "TQS-S-j3b1Q1"
      },
      "execution_count": null,
      "outputs": []
    },
    {
      "cell_type": "markdown",
      "source": [
        "##13. [\"2\",\"1\",\"+\",\"3\",\"*\"]  #Output: 9 #   Explanation: ((2 + 1) * 3) = 9"
      ],
      "metadata": {
        "id": "WmMh-Pvhb3WK"
      }
    },
    {
      "cell_type": "code",
      "source": [
        "def evalRPN(tokens):\n",
        "    stack = []\n",
        "    for c in tokens:\n",
        "        if c == \"+\":\n",
        "             stack.append(stack.pop() + stack.pop())\n",
        "        elif c == \"-\":\n",
        "            a, b = stack.pop(), stack.pop()\n",
        "            stack.append(b - a)\n",
        "        elif c == \"*\":\n",
        "            stack.append(stack.pop() * stack.pop())\n",
        "        elif c == \"/\":\n",
        "            a, b = stack.pop(), stack.pop()\n",
        "            stack.append(int(b / a))\n",
        "        else:\n",
        "            stack.append(int(c))\n",
        "    return stack[0]\n",
        "\n",
        "tokens = [\"2\",\"1\",\"+\",\"3\",\"*\"]\n",
        "evalRPN(tokens)\n",
        "#Output: 9 #   Explanation: ((2 + 1) * 3) = 9"
      ],
      "metadata": {
        "colab": {
          "base_uri": "https://localhost:8080/"
        },
        "id": "JlemTIG_b5JW",
        "outputId": "85d9d5e7-9428-44ad-c83f-f6920cdc678e"
      },
      "execution_count": null,
      "outputs": [
        {
          "output_type": "execute_result",
          "data": {
            "text/plain": [
              "9"
            ]
          },
          "metadata": {},
          "execution_count": 3
        }
      ]
    },
    {
      "cell_type": "markdown",
      "source": [
        "#Binary Search"
      ],
      "metadata": {
        "id": "ImPERdktb8H8"
      }
    },
    {
      "cell_type": "markdown",
      "source": [
        "##14. Search Target in Sorted Nums\n",
        "Using Binary Search Tree m=l+((r-1)//2))"
      ],
      "metadata": {
        "id": "su4FV6RMb-8t"
      }
    },
    {
      "cell_type": "code",
      "source": [
        "def binary_search(nums, target):\n",
        "    l, r = 0, len(nums) - 1\n",
        "\n",
        "    while l <= r:\n",
        "        m = l + ((r - l) // 2)\n",
        "        # (l + r) // 2 can lead to overflow\n",
        "        if nums[m] > target: r = m - 1\n",
        "        elif nums[m] < target: l = m + 1\n",
        "        else: return m #returning index\n",
        "    return -1 #or False\n",
        "\n",
        "nums = [-1,0,3,5,9,12]\n",
        "target = 9\n",
        "binary_search(nums, target)\n",
        "#Output: 4\n",
        "#O log(n)"
      ],
      "metadata": {
        "colab": {
          "base_uri": "https://localhost:8080/"
        },
        "id": "u2epAD2JcBJk",
        "outputId": "d5e76865-ad9d-4ec1-d24c-b9e9e6d91c8c"
      },
      "execution_count": null,
      "outputs": [
        {
          "output_type": "execute_result",
          "data": {
            "text/plain": [
              "4"
            ]
          },
          "metadata": {},
          "execution_count": 4
        }
      ]
    },
    {
      "cell_type": "markdown",
      "source": [
        "##15. Search a 2D Matrix"
      ],
      "metadata": {
        "id": "TG18xmtecD15"
      }
    },
    {
      "cell_type": "code",
      "source": [
        "import numpy as np\n",
        "\n",
        "def col_search(nums, target):\n",
        "    l, r = 0, len(nums) - 1\n",
        "\n",
        "    while l <= r:\n",
        "        m = l + ((r-l)//2)\n",
        "        #(l+r)//2 can lead to overflow\n",
        "        if nums[m] > target: r = m - 1\n",
        "        elif nums[m] < target: l = m + 1\n",
        "        else: return l\n",
        "    return l-1\n",
        "\n",
        "def row_search(nums, target):\n",
        "    l, r = 0, len(nums) - 1\n",
        "\n",
        "    while l <= r:\n",
        "        m = l + ((r-l)//2)\n",
        "        #(l+r)//2 can lead to overflow\n",
        "        if nums[m] > target: r = m - 1\n",
        "        elif nums[m] < target: l = m + 1\n",
        "        else: return True\n",
        "    return False\n",
        "\n",
        "############################################\n",
        "matrix = [[1,3,5,7],\n",
        "          [10,11,16,20],\n",
        "          [23,30,34,60]]\n",
        "target = 34\n",
        "############################################\n",
        "np_matrix = np.array(matrix)\n",
        "\n",
        "nums = np_matrix[:, 0] #first columns only\n",
        "#nums = [1,10,23]\n",
        "nums = np_matrix[col_search(nums, target),:]\n",
        "#will give us the column that target exist there\n",
        "\n",
        "row_search(nums, target)\n",
        "#Output: True"
      ],
      "metadata": {
        "colab": {
          "base_uri": "https://localhost:8080/"
        },
        "id": "tmAo1UORcFlB",
        "outputId": "ad98d908-e21f-45e5-ab4d-948925545519"
      },
      "execution_count": 2,
      "outputs": [
        {
          "output_type": "execute_result",
          "data": {
            "text/plain": [
              "True"
            ]
          },
          "metadata": {},
          "execution_count": 2
        }
      ]
    },
    {
      "cell_type": "markdown",
      "source": [
        "##16.  Find Minimum in Rotated Sorted Array"
      ],
      "metadata": {
        "id": "PSlmaQc8cI43"
      }
    },
    {
      "cell_type": "code",
      "source": [
        "def binary_search_find_min(nums):\n",
        "  l, r = 0, len(nums) - 1\n",
        "\n",
        "  #check if it is sorted\n",
        "  if nums[l] <= nums[r]: return nums[l]\n",
        "\n",
        "  while l <= r:\n",
        "    m = l + ((r - l)//2)\n",
        "\n",
        "    #if m is the min\n",
        "    if nums[m] < nums[m - 1]: return nums[m]\n",
        "    #right has the min\n",
        "    if nums[m] > nums[r]: l = m + 1\n",
        "    #Then left has the min\n",
        "    else: r = m - 1\n",
        "\n",
        "\n",
        "\n",
        "nums = [4,5,6,7,0,1,2]\n",
        "nums = [11,13,15,17]\n",
        "nums = [3,4,5,1,2]\n",
        "binary_search_find_min(nums)\n",
        "#Explanation: The original array was [1,2,3,4,5] rotated 3 times.\n",
        "#Output: 1\n",
        "#O(log n) time => binary search"
      ],
      "metadata": {
        "colab": {
          "base_uri": "https://localhost:8080/"
        },
        "id": "kVFqPJcMcKpk",
        "outputId": "5de96b3c-c335-49b3-ebcf-4f16d6828a0d"
      },
      "execution_count": 3,
      "outputs": [
        {
          "output_type": "execute_result",
          "data": {
            "text/plain": [
              "1"
            ]
          },
          "metadata": {},
          "execution_count": 3
        }
      ]
    },
    {
      "cell_type": "markdown",
      "source": [
        "##17. Search in Rotated Array\n",
        "Return index of the target"
      ],
      "metadata": {
        "id": "WYsDNrc1cOrU"
      }
    },
    {
      "cell_type": "code",
      "source": [
        "def binary_search_find_target(nums, target):\n",
        "    l, r = 0, len(nums) - 1\n",
        "\n",
        "    while l <= r:\n",
        "        mid = (l + r) // 2\n",
        "        if target == nums[mid]:\n",
        "            return mid\n",
        "\n",
        "        #1) left sorted portion\n",
        "        if nums[l] <= nums[mid]:\n",
        "          #increase from begining to mid\n",
        "            if target > nums[mid] or target < nums[l]: #out of bound\n",
        "              #target bigger than mid (mid is the max) or left is bigger than target\n",
        "                l = mid + 1\n",
        "                #it is not in left side\n",
        "            else:\n",
        "                r = mid - 1\n",
        "\n",
        "        #2) right sorted portion\n",
        "        else: #reverse from above\n",
        "            if target < nums[mid] or target > nums[r]:\n",
        "                r = mid - 1\n",
        "            else:\n",
        "                l = mid + 1\n",
        "    return -1\n",
        "\n",
        "\n",
        "nums = [4,5,6,7,0,1,2]\n",
        "target = 0\n",
        "binary_search_find_target(nums, target)\n",
        "#Output: 4\n",
        "#O(log n) time => binary search"
      ],
      "metadata": {
        "colab": {
          "base_uri": "https://localhost:8080/"
        },
        "id": "zQriD2P6cPO9",
        "outputId": "0fb1d219-d366-42fe-8eb9-14a45f8d3706"
      },
      "execution_count": null,
      "outputs": [
        {
          "output_type": "execute_result",
          "data": {
            "text/plain": [
              "4"
            ]
          },
          "metadata": {},
          "execution_count": 1
        }
      ]
    },
    {
      "cell_type": "markdown",
      "source": [
        "#Sliding Window"
      ],
      "metadata": {
        "id": "2eXYvhk0cSdV"
      }
    },
    {
      "cell_type": "markdown",
      "source": [
        "##18. Best time to Buy and Sell Stock for Maximize the Profit\n",
        "prices = [7,1,5,3,6,4]\n",
        "\n",
        "Output: 5"
      ],
      "metadata": {
        "id": "hUDYqXXicTqz"
      }
    },
    {
      "cell_type": "code",
      "source": [
        "def max_profit(prices):\n",
        "    res = 0\n",
        "    lowest = prices[0]\n",
        "\n",
        "    for price in prices:\n",
        "        if price < lowest:\n",
        "            lowest = price\n",
        "        res = max(res, price - lowest)\n",
        "    return res\n",
        "\n",
        "prices = [7,1,5,3,6,4]\n",
        "max_profit(prices)\n",
        "#Output: 5"
      ],
      "metadata": {
        "colab": {
          "base_uri": "https://localhost:8080/"
        },
        "id": "5cQkb1CjcVKY",
        "outputId": "1722cb88-b758-4f45-ebd0-ff4efad0ebd7"
      },
      "execution_count": 4,
      "outputs": [
        {
          "output_type": "execute_result",
          "data": {
            "text/plain": [
              "5"
            ]
          },
          "metadata": {},
          "execution_count": 4
        }
      ]
    },
    {
      "cell_type": "markdown",
      "source": [
        "##19. Longest Substring without Repeating Characters\n",
        "s = \"abcbdcbb\"\n",
        "\n",
        "The answer is \"abc\", with the length of 3.\n"
      ],
      "metadata": {
        "id": "rrVSdk3HcW-6"
      }
    },
    {
      "cell_type": "code",
      "source": [
        "def longestsubstring(s):\n",
        "    charset = set()\n",
        "    l = 0\n",
        "    res = 0\n",
        "\n",
        "    for i in range(len(s)):\n",
        "        while s[i] in charset:\n",
        "          #duplicate\n",
        "            charset.remove(s[l])\n",
        "            #update window\n",
        "            l += 1\n",
        "            #shift the left pointer (start of the substring)\n",
        "            #and keep doing until duplicate is not in the set\n",
        "        charset.add(s[i])\n",
        "        res = max(res, i - l + 1)\n",
        "    return res\n",
        "\n",
        "s = \"abcbdcbb\"\n",
        "longestsubstring(s)\n",
        "#Explanation: The answer is \"abc\", with the length of 3.\n",
        "#Output: 3"
      ],
      "metadata": {
        "colab": {
          "base_uri": "https://localhost:8080/"
        },
        "id": "Xel22AtEcYSd",
        "outputId": "5dce29ed-9a74-49a2-84f4-4f53bcb1c39b"
      },
      "execution_count": 1,
      "outputs": [
        {
          "output_type": "execute_result",
          "data": {
            "text/plain": [
              "3"
            ]
          },
          "metadata": {},
          "execution_count": 1
        }
      ]
    },
    {
      "cell_type": "markdown",
      "source": [
        "##20. Longest Repeating Character Replacement\n",
        "You are given a string s and an integer k.\n",
        "\n",
        "You can choose any character of the string and change it to any other uppercase English character.\n",
        "\n",
        "You can perform this operation at most k times.\n"
      ],
      "metadata": {
        "id": "wRIMEnXzcb3c"
      }
    },
    {
      "cell_type": "code",
      "source": [
        "def characterReplacement(s, k):\n",
        "    count = {}\n",
        "\n",
        "    l = 0\n",
        "    maxf = 0\n",
        "\n",
        "    for i in range(len(s)):\n",
        "        count[s[i]] = 1 + count.get(s[i], 0)\n",
        "        #{'A': 2, 'B': 2}\n",
        "        maxf = max(maxf, count[s[i]]) #2\n",
        "\n",
        "        if (i - l + 1) - maxf > k:\n",
        "            count[s[l]] -= 1\n",
        "            l += 1\n",
        "\n",
        "    return (i - l + 1)\n",
        "\n",
        "s = \"ABAB\"\n",
        "k = 2\n",
        "characterReplacement(s, k)\n",
        "#Explanation: Replace the two 'A's with two 'B's or vice versa.\n",
        "#Output: 4"
      ],
      "metadata": {
        "colab": {
          "base_uri": "https://localhost:8080/"
        },
        "id": "FgzfK2ouccoT",
        "outputId": "04baf9fe-dad0-463f-f5fa-b36701b7f0d2"
      },
      "execution_count": 2,
      "outputs": [
        {
          "output_type": "execute_result",
          "data": {
            "text/plain": [
              "4"
            ]
          },
          "metadata": {},
          "execution_count": 2
        }
      ]
    },
    {
      "cell_type": "markdown",
      "source": [
        "#Link List"
      ],
      "metadata": {
        "id": "a_9kuf9fc0u5"
      }
    },
    {
      "cell_type": "markdown",
      "source": [
        "##21. Reserved Link List\n",
        "head = [1,2,3,4,5]\n",
        "\n",
        "Output: [5,4,3,2,1]"
      ],
      "metadata": {
        "id": "q5IGTPXOc2TX"
      }
    },
    {
      "cell_type": "code",
      "source": [
        "class ListNode(object):\n",
        "    def __init__(self,x):\n",
        "        self.val=x\n",
        "        self.next=None\n",
        "\n",
        "class Solution:\n",
        "  def reverseList(self, head: ListNode) -> ListNode:\n",
        "    prev, curr = None, head\n",
        "\n",
        "    while curr:\n",
        "      temp = curr.next\n",
        "      #store the next pointer\n",
        "      curr.next = prev\n",
        "      #next pointer is prev\n",
        "      prev = curr\n",
        "      #update prev to curr\n",
        "      curr = temp\n",
        "      #update curr to curr.next\n",
        "      #do all of this for next one\n",
        "\n",
        "    return prev\n",
        "\n",
        "#head = [1,2,3,4,5]\n",
        "#Output: [5,4,3,2,1]"
      ],
      "metadata": {
        "id": "WJqXjB2ec3kT"
      },
      "execution_count": 21,
      "outputs": []
    },
    {
      "cell_type": "code",
      "source": [
        "head = ListNode(1)\n",
        "head.next = ListNode(2)\n",
        "head.next.next = ListNode(3)\n",
        "head.next.next.next = ListNode(4)\n",
        "head.next.next.next.next = ListNode(5)\n",
        "\n",
        "while head:\n",
        "    print(head.val)\n",
        "    head = head.next"
      ],
      "metadata": {
        "colab": {
          "base_uri": "https://localhost:8080/"
        },
        "id": "s4_zl0sbE53y",
        "outputId": "25becedc-f954-48cd-8e23-44725d559382"
      },
      "execution_count": 16,
      "outputs": [
        {
          "output_type": "stream",
          "name": "stdout",
          "text": [
            "1\n",
            "2\n",
            "3\n",
            "4\n",
            "5\n"
          ]
        }
      ]
    },
    {
      "cell_type": "code",
      "source": [
        "head = ListNode(1)\n",
        "head.next = ListNode(2)\n",
        "head.next.next = ListNode(3)\n",
        "head.next.next.next = ListNode(4)\n",
        "head.next.next.next.next = ListNode(5)\n",
        "\n",
        "s = Solution()\n",
        "result = s.reverseList(head)\n",
        "\n",
        "while result:\n",
        "    print(result.val)\n",
        "    result = result.next\n"
      ],
      "metadata": {
        "colab": {
          "base_uri": "https://localhost:8080/"
        },
        "id": "50aPDtYHcFGn",
        "outputId": "ad7fd128-fa6f-452c-b45e-66902ce76226"
      },
      "execution_count": 24,
      "outputs": [
        {
          "output_type": "stream",
          "name": "stdout",
          "text": [
            "5\n",
            "4\n",
            "3\n",
            "2\n",
            "1\n"
          ]
        }
      ]
    },
    {
      "cell_type": "markdown",
      "source": [
        "##22. Merge two Link Lists\n",
        "Definition for singly-linked list. and update the prev\n",
        "\n",
        "list1 = [1,2,4]\n",
        "\n",
        "list2 = [1,3,4]\n",
        "\n",
        "Output: [1,1,2,3,4,4]"
      ],
      "metadata": {
        "id": "BrCT_wOZE_hB"
      }
    },
    {
      "cell_type": "code",
      "source": [
        "class ListNode:\n",
        "     def __init__(self, val=0, next=None):\n",
        "        self.val = val\n",
        "        self.next = next\n",
        "\n",
        "class Solution:\n",
        "  def MergeList(self, list1:ListNode, list2:ListNode)-> ListNode:\n",
        "    dummy = ListNode() #creating listnode for result\n",
        "    tail = dummy\n",
        "\n",
        "    while list1 and list2:\n",
        "      if list1.val > list2.val:\n",
        "        tail.next = list1\n",
        "        list1 = list1.next\n",
        "      else:\n",
        "        tail.next = list2\n",
        "        list2 = list2.next\n",
        "\n",
        "      tail = tail.next\n",
        "\n",
        "    if list1:\n",
        "      tail.next = list1\n",
        "    elif list2:\n",
        "      tail.next = list2\n",
        "    return dummy.next\n",
        "#list1 = [1,2,4]\n",
        "#list2 = [1,3,4]\n",
        "#Output: [1,1,2,3,4,4]"
      ],
      "metadata": {
        "id": "LxxNGYPIFEEw"
      },
      "execution_count": 34,
      "outputs": []
    },
    {
      "cell_type": "code",
      "source": [
        "head1 = ListNode(1)\n",
        "head1.next = ListNode(2)\n",
        "head1.next.next = ListNode(4)\n",
        "\n",
        "head2 = ListNode(1)\n",
        "head2.next = ListNode(3)\n",
        "head2.next.next = ListNode(4)\n",
        "\n",
        "s = Solution()\n",
        "result = s.MergeList(head1,head2)\n",
        "\n",
        "for j in range(6):\n",
        "    print(result.val)\n",
        "    result = result.next"
      ],
      "metadata": {
        "id": "G1uyNcxXGbfO",
        "colab": {
          "base_uri": "https://localhost:8080/"
        },
        "outputId": "9e0ed588-c72e-4367-e6db-14c02462a34a"
      },
      "execution_count": 35,
      "outputs": [
        {
          "output_type": "stream",
          "name": "stdout",
          "text": [
            "1\n",
            "3\n",
            "4\n",
            "1\n",
            "2\n",
            "4\n"
          ]
        }
      ]
    },
    {
      "cell_type": "markdown",
      "source": [
        "##23. Reorder Link List\n",
        "\n",
        "         L0 → L1 → … → Ln - 1 → Ln\n",
        "\n",
        "Reorder: L0 → Ln → L1 → Ln - 1 → L2 → Ln - 2 → …"
      ],
      "metadata": {
        "id": "mwxhNNVlG90c"
      }
    },
    {
      "cell_type": "code",
      "source": [
        "class Solution:\n",
        "    def reorderList(self, head: ListNode) -> None:\n",
        "        # find middle\n",
        "        slow, fast = head, head.next\n",
        "        while fast and fast.next:\n",
        "            slow = slow.next\n",
        "            fast = fast.next.next\n",
        "\n",
        "        # reverse second half\n",
        "        second = slow.next\n",
        "        prev = slow.next = None\n",
        "        while second:\n",
        "            tmp = second.next\n",
        "            second.next = prev\n",
        "            prev = second\n",
        "            second = tmp\n",
        "\n",
        "        # merge two halfs\n",
        "        first, second = head, prev\n",
        "        while second:\n",
        "            tmp1, tmp2 = first.next, second.next\n",
        "            first.next = second\n",
        "            second.next = tmp1\n",
        "            first, second = tmp1, tmp2\n",
        "#head = [1,2,3,4]\n",
        "#Output: [1,4,2,3]"
      ],
      "metadata": {
        "id": "5S6T8IvTG-B0"
      },
      "execution_count": null,
      "outputs": []
    },
    {
      "cell_type": "markdown",
      "source": [
        "##24. Add Two Numbers Stored in Link List\n",
        "\n",
        "Input: l1 = [2,4,3], l2 = [5,6,4]\n",
        "\n",
        "Output: [7,0,8]\n",
        "\n",
        "Explanation: 342 + 465 = 807"
      ],
      "metadata": {
        "id": "0x3R87QKHRra"
      }
    },
    {
      "cell_type": "code",
      "source": [
        "class listNode:\n",
        "  def __init__(self, val = 0, next = None):\n",
        "    self.val = val\n",
        "    self.next = next\n",
        "\n",
        "class Solution:\n",
        "  def addTwoNumbers(self, l1:ListNode, l2:ListNode)-> ListNode:\n",
        "    dummy = ListNode() #result as link list\n",
        "    cur = dummy\n",
        "    carry = 0\n",
        "\n",
        "    while l1 or l2 or carry:\n",
        "      v1 = l1.val if l1 else 0\n",
        "      v2 = l2.val if l2 else 0\n",
        "      #new digit\n",
        "      val = v1 + v2 + carry\n",
        "      carry = val // 10\n",
        "      #taghshim\n",
        "      val = val % 10\n",
        "      #baghmande store in new ListNode\n",
        "\n",
        "      cur.next = ListNode(val)\n",
        "\n",
        "      #update pointers\n",
        "      curr = cur.next\n",
        "      l1 = l1.next if l1 else None\n",
        "      l2 = l2.next if l2 else None\n",
        "\n",
        "    return dummy.next\n",
        "\n",
        "#Input: l1 = [2,4,3], l2 = [5,6,4]\n",
        "#Output: [7,0,8]\n",
        "#Explanation: 342 + 465 = 807"
      ],
      "metadata": {
        "id": "4mNX0UlWIxqD"
      },
      "execution_count": null,
      "outputs": []
    },
    {
      "cell_type": "markdown",
      "source": [
        "##25. Linked List Cycle"
      ],
      "metadata": {
        "id": "4zyxEOXZd5n7"
      }
    },
    {
      "cell_type": "code",
      "source": [
        "class Solution:\n",
        "    def cycle(self, head: ListNode)->bool:\n",
        "        slow, fast = head, head\n",
        "\n",
        "        while fast and fast.next:\n",
        "          #fast by two in each iteration\n",
        "            slow = slow.next\n",
        "            #shift to right by one at each iteration\n",
        "            fast = fast.next.next\n",
        "            #shift to right by two at each iteration\n",
        "            if slow == fast:\n",
        "                return True\n",
        "\n",
        "        return False # no cycle"
      ],
      "metadata": {
        "id": "KMQAEn6Bd54P"
      },
      "execution_count": null,
      "outputs": []
    },
    {
      "cell_type": "markdown",
      "source": [
        "#Trees"
      ],
      "metadata": {
        "id": "AiGB3iudfB47"
      }
    },
    {
      "cell_type": "markdown",
      "source": [
        "##26. Inverted Binary Tree\n",
        "Binary Tree: Right Leaf is Greater Than Left Leaf"
      ],
      "metadata": {
        "id": "u-YeQka0fCsO"
      }
    },
    {
      "cell_type": "code",
      "source": [
        "class TreeNode:\n",
        "  def __init__(self, val = 0, left = None, right = None):\n",
        "    self.val = val\n",
        "    self.left = left\n",
        "    self.right = right\n",
        "\n",
        "class Solution:\n",
        "  def InvertTree(self, root:TreeNode)-> TreeNode:\n",
        "    if not root: return None\n",
        "\n",
        "    #temp the childre to swip\n",
        "    temp = root.left\n",
        "    root.left = root.right\n",
        "    root.right = temp\n",
        "\n",
        "    self.InvertTree(root.right) #using recursive in class with self.def\n",
        "    self.InvertTree(root.left)\n",
        "\n",
        "    return root"
      ],
      "metadata": {
        "id": "-j8d3-_TfOxE"
      },
      "execution_count": null,
      "outputs": []
    },
    {
      "cell_type": "markdown",
      "source": [
        "##27. \""
      ],
      "metadata": {
        "id": "nq3RQSW73SxB"
      }
    },
    {
      "cell_type": "markdown",
      "source": [
        "##28. Maximum Depth of Binary Tree"
      ],
      "metadata": {
        "id": "6epqTPvA3XJq"
      }
    },
    {
      "cell_type": "code",
      "source": [
        "# Recursive\n",
        "def maxDepth(root):\n",
        "  if not root: return 0\n",
        "  return 1 + max(maxDepth(root.left), maxDepth(root.right))\n",
        "\n",
        "#root = [3,9,20,null,null,15,7]\n",
        "#Output: 3"
      ],
      "metadata": {
        "id": "eT69Z8u53ajH"
      },
      "execution_count": null,
      "outputs": []
    },
    {
      "cell_type": "code",
      "source": [
        "# DFS\n",
        "#Stack\n",
        "def maxDepth(self, root: TreeNode) -> int:\n",
        "    stack = [[root, 1]]\n",
        "    res = 0\n",
        "\n",
        "    while stack:\n",
        "        node, depth = stack.pop()\n",
        "\n",
        "        if node:\n",
        "            res = max(res, depth)\n",
        "            stack.append([node.left, depth + 1])\n",
        "            stack.append([node.right, depth + 1])\n",
        "    return res\n"
      ],
      "metadata": {
        "id": "vpopXWnKyz9c"
      },
      "execution_count": null,
      "outputs": []
    },
    {
      "cell_type": "code",
      "source": [
        "# BFS\n",
        "#Queue\n",
        "def maxDepth(self, root: TreeNode) -> int:\n",
        "    q = deque()\n",
        "    if root:\n",
        "        q.append(root)\n",
        "\n",
        "    level = 0\n",
        "\n",
        "    while q:\n",
        "\n",
        "        for i in range(len(q)):\n",
        "            node = q.popleft()\n",
        "            if node.left:\n",
        "                q.append(node.left)\n",
        "            if node.right:\n",
        "                q.append(node.right)\n",
        "        level += 1\n",
        "    return level"
      ],
      "metadata": {
        "id": "Ag7lrHFAzEcQ"
      },
      "execution_count": null,
      "outputs": []
    },
    {
      "cell_type": "markdown",
      "source": [
        "##29. Balanced Binary Tree\n",
        "Diff of left and right is at most 1.\n",
        "\n",
        "Bottom up (instead recursive from top tp bottom for n.O(n) which is O(n^2)).\n",
        "\n",
        "If right bottom and left bottom is balanced, then parent should be balaned too."
      ],
      "metadata": {
        "id": "t3GwjdFIzT1l"
      }
    },
    {
      "cell_type": "code",
      "source": [
        "class TreeNode:\n",
        "  def __init__(self, val = 0, left = None, right = None):\n",
        "    self.val = val\n",
        "    self.left = left\n",
        "    self.right = right\n",
        "\n",
        "class Solution:\n",
        "  def isBalanced(self, root:TreeNode)-> bool:\n",
        "\n",
        "    def dfs(root):\n",
        "      if not root: return[True,0]\n",
        "      #returning [is it balanced?, Height]\n",
        "      left, right = dfs(root.left), dfs(root.right)\n",
        "      balanced = left[0] and right[0] and abs(left[1] - right[1]) <= 1\n",
        "      #left and right should be balanced\n",
        "      #and difference of Hieght should be less than 1\n",
        "      return [balanced, 1 + max(left[1], right[1])]\n",
        "\n",
        "    return dfs(root)[0] #True or False only\n",
        "    #return just the first argument which is balanced ([balanced, height])"
      ],
      "metadata": {
        "id": "ByUnGDN7zcKb"
      },
      "execution_count": null,
      "outputs": []
    },
    {
      "cell_type": "markdown",
      "source": [
        "##30. Same Tree\n",
        "Check if p and q are same tree"
      ],
      "metadata": {
        "id": "VgZEGyROYir7"
      }
    },
    {
      "cell_type": "code",
      "source": [
        "class TreeNode:\n",
        "  def __init__(self, val = 0, left = None, right = None):\n",
        "    self.val = val\n",
        "    self.left = left\n",
        "    self.right = right\n",
        "\n",
        "class Solution:\n",
        "  def SameTree(self, p:TreeNode, q:TreeNode)-> bool:\n",
        "    if not p and not q:\n",
        "      return True #p and q are empty\n",
        "    if p and q and p.val == q.val:\n",
        "      return SameTree(self, p.left, q.left) and SameTree(self, p.right, q.right)\n",
        "    else:\n",
        "      return False"
      ],
      "metadata": {
        "id": "NDFPoOEOYrTT"
      },
      "execution_count": null,
      "outputs": []
    },
    {
      "cell_type": "markdown",
      "source": [
        "##31. Subtree of Another Tree"
      ],
      "metadata": {
        "id": "FxmpPFAxZdQ3"
      }
    },
    {
      "cell_type": "code",
      "source": [
        "class TreeNode:\n",
        "  def __init__(self, val = 0, left = None, right = None):\n",
        "    self.val = val\n",
        "    self.left = left\n",
        "    self.right = right\n",
        "\n",
        "class Solution:\n",
        "  def SameTree(self, p:TreeNode, q:TreeNode)-> bool:\n",
        "    if not p and not q:\n",
        "      return True #p and q are empty\n",
        "    if p and q and p.val == q.val:\n",
        "      return SameTree(self, p.left, q.left) \\\n",
        "         and SameTree(self, p.right, q.right)\n",
        "    else:\n",
        "      return False\n",
        "\n",
        "  def travel(self, p:TreeNode, q:TreeNode)-> bool:\n",
        "    if not p and not q:\n",
        "      return True\n",
        "    if(p and q and p.val == q.val and self.SameTree(p, q) == True) \\\n",
        "       or (p.right and self.SameTree(p.right, q) == True) \\\n",
        "       or (p.left and self.SameTree(p.left, q) == True):\n",
        "      return True\n",
        "      # (p and q are equal and same tree) or (same tree of p.right and q) or (same tree of p.left and q)\n",
        "    else: return False\n"
      ],
      "metadata": {
        "id": "fqeAbpkiZsaZ"
      },
      "execution_count": null,
      "outputs": []
    },
    {
      "cell_type": "markdown",
      "source": [
        "##32. Longest Common Ancestor of Binary Search Tree\n",
        "root = [6,2,8,0,4,7,9,null,null,3,5], p = 2, q = 8\n",
        "\n",
        "p and q as TreeNode.\n",
        "\n",
        "Output: 6. The LCA of nodes 2 and 8 is 6."
      ],
      "metadata": {
        "id": "QVvGGOvwa7Rl"
      }
    },
    {
      "cell_type": "code",
      "source": [
        "class TreeNode:\n",
        "  def __init__(self, val = 0, left = None, right = None):\n",
        "    self.val = val\n",
        "    self.left = left\n",
        "    self.right = right\n",
        "\n",
        "class Solution:\n",
        "  def LCA(self, root:TreeNode, p:TreeNode, q:TreeNode)-> TreeNode:\n",
        "    cur = root\n",
        "    while cur:\n",
        "      if p.val > cur.val and q.val > cur.val:\n",
        "        #both greater, then go to right. we need bigger number.\n",
        "        cur = cur.right\n",
        "      elif p.val < cur.val and q.val < cur.val:\n",
        "        #both smaller, then go to left. we need smaller number.\n",
        "        cur = cur.left\n",
        "      else: #found the result\n",
        "        return cur"
      ],
      "metadata": {
        "id": "XqqFf__8bAP8"
      },
      "execution_count": null,
      "outputs": []
    },
    {
      "cell_type": "markdown",
      "source": [
        "##33. Find Weather a Node is Present in a Binary Tree or not"
      ],
      "metadata": {
        "id": "UBFpPzcSItpC"
      }
    },
    {
      "cell_type": "code",
      "source": [
        "class TreeNode:\n",
        "  def __init__(self, val = 0, left = None, right = None):\n",
        "    self.val = val\n",
        "    self.left = None\n",
        "    self.right = None\n",
        "\n",
        "class Solution:\n",
        "  def ifNodeExists(self, root:TreeNode, p:TreeNode)-> bool:\n",
        "    cur = root\n",
        "    key = p\n",
        "    if root == None: #empty tree\n",
        "      return False\n",
        "\n",
        "    if root.val == key.val:\n",
        "      return True\n",
        "\n",
        "    res_left = self.ifNodeExists(root.left, p)\n",
        "    if res_left: return True\n",
        "\n",
        "    res_right = self.ifNodeExists(root.right, p)\n",
        "\n",
        "    return res_right"
      ],
      "metadata": {
        "id": "bO5ka_lEIt53"
      },
      "execution_count": null,
      "outputs": []
    },
    {
      "cell_type": "code",
      "source": [
        "class newNode:\n",
        "    def __init__(self, data):\n",
        "        self.data = data\n",
        "        self.left = None\n",
        "        self.right = None\n",
        "\n",
        "def ifNodeExists(node, key):\n",
        "\n",
        "    if (node == None):\n",
        "        return False\n",
        "\n",
        "    if (node.data == key):\n",
        "        return True\n",
        "\n",
        "    # then recur on left subtree \"\"\"\"\"\"\n",
        "    res1 = ifNodeExists(node.left, key)\n",
        "    # node found, no need to look further\n",
        "    if res1:\n",
        "        return True\n",
        "\n",
        "    # node is not found in left,\n",
        "    #so recur on right subtree \"\"\"\"\"\"\n",
        "    res2 = ifNodeExists(node.right, key)\n",
        "\n",
        "    return res2\n",
        "\n",
        "# Driver Code\n",
        "if __name__ == '__main__':\n",
        "    root = newNode(0)\n",
        "    root.left = newNode(1)\n",
        "    root.left.left = newNode(3)\n",
        "    root.left.left.left = newNode(7)\n",
        "    root.left.right = newNode(4)\n",
        "    root.left.right.left = newNode(8)\n",
        "    root.left.right.right = newNode(9)\n",
        "    root.right = newNode(2)\n",
        "    root.right.left = newNode(5)\n",
        "    root.right.right = newNode(6)\n",
        "\n",
        "    key = 4\n",
        "\n",
        "    if (ifNodeExists(root, key)):\n",
        "        print(\"YES\" )\n",
        "    else:\n",
        "        print(\"NO\")"
      ],
      "metadata": {
        "colab": {
          "base_uri": "https://localhost:8080/"
        },
        "id": "TfXnblpPKIC1",
        "outputId": "8e3c1aad-53ac-4b03-dd9f-198a93cbeb1f"
      },
      "execution_count": null,
      "outputs": [
        {
          "output_type": "stream",
          "name": "stdout",
          "text": [
            "YES\n"
          ]
        }
      ]
    },
    {
      "cell_type": "markdown",
      "source": [
        "##Binary Tree Order Traversal\n",
        "BFS"
      ],
      "metadata": {
        "id": "I6hsOuqaKxn8"
      }
    },
    {
      "cell_type": "code",
      "source": [
        "class TreeNode:\n",
        "     def __init__(self, x):\n",
        "         self.val = x\n",
        "         self.left = None\n",
        "         self.right = None\n",
        "\n",
        "class Solution:\n",
        "    def levelOrder(self, root: TreeNode) -> List[List[int]]:\n",
        "        res = []\n",
        "        q = collections.deque()\n",
        "        if root:\n",
        "            q.append(root)\n",
        "\n",
        "        while q:\n",
        "            val = []\n",
        "\n",
        "            for i in range(len(q)):\n",
        "                node = q.popleft()\n",
        "                val.append(node.val)\n",
        "                if node.left:\n",
        "                    q.append(node.left)\n",
        "                if node.right:\n",
        "                    q.append(node.right)\n",
        "            res.append(val)\n",
        "        return res"
      ],
      "metadata": {
        "id": "YWdl_rWMxKh9"
      },
      "execution_count": null,
      "outputs": []
    },
    {
      "cell_type": "markdown",
      "source": [
        "##Validate Binary Tree"
      ],
      "metadata": {
        "id": "vJhT26_VLeTK"
      }
    },
    {
      "cell_type": "code",
      "source": [
        "# Definition for a binary tree node.\n",
        "# class TreeNode:\n",
        "#     def __init__(self, val=0, left=None, right=None):\n",
        "#         self.val = val\n",
        "#         self.left = left\n",
        "#         self.right = right\n",
        "class Solution:\n",
        "    def isValidBST(self, root: TreeNode) -> bool:\n",
        "        def valid(node, left, right):\n",
        "            if not node:\n",
        "                return True\n",
        "            if not (left < node.val < right):\n",
        "                return False\n",
        "\n",
        "            return valid(node.left, left, node.val) and valid(\n",
        "                node.right, node.val, right\n",
        "            )\n",
        "\n",
        "        return valid(root, float(\"-inf\"), float(\"inf\"))"
      ],
      "metadata": {
        "id": "krkXPRCMLf6R"
      },
      "execution_count": null,
      "outputs": []
    },
    {
      "cell_type": "markdown",
      "source": [
        "##34. Second Smallest Value in Binary Tree"
      ],
      "metadata": {
        "id": "jQ_f0etDKOSU"
      }
    },
    {
      "cell_type": "code",
      "source": [
        "class TreeNode:\n",
        "  def __init__(self, val = 0, left = None, right = None):\n",
        "    self.val = val\n",
        "    self.left = None\n",
        "    self.right = None\n",
        "\n",
        "class Solution:\n",
        "  def getSecondLargest(self, root:TreeNode)-> TreeNode:\n",
        "    cur = root\n",
        "    if cur.left == None and cur.right!= None and cur.right.right == None:\n",
        "      #left is None but we do have right but we dont have right of right.\n",
        "      #so root is second max\n",
        "      return cur.val\n",
        "    if cur.left != None and cur.right == None:\n",
        "      self.getSecondLargest(root.left)\n",
        "    return self.getSecondLargest(root.right)"
      ],
      "metadata": {
        "id": "wJPOM2JYLtje"
      },
      "execution_count": null,
      "outputs": []
    },
    {
      "cell_type": "markdown",
      "source": [
        "#BackTracking"
      ],
      "metadata": {
        "id": "HAo2e6v2g7zW"
      }
    },
    {
      "cell_type": "markdown",
      "source": [
        "##35. All Possible Subset (Power Set with no Duplication)\n",
        "No Permutation\n",
        "\n",
        "nums = [1,2,3]\n",
        "\n",
        "Output: [[],[1],[2],[1,2],[3],[1,3],[2,3],[1,2,3]]\n",
        "\n",
        "2.2.2 -> all the subset from begining O(n.2^n)\n",
        "\n",
        "Better?"
      ],
      "metadata": {
        "id": "rwViHO_og9cN"
      }
    },
    {
      "cell_type": "code",
      "source": [
        "#add 1 or not, then add 2 or not, then add 3 or not.\n",
        "#   backtracking                              [1,2,3]\n",
        "#   add one or not                [1]                           []\n",
        "#   add two or not       [1,2]          [1]               [2]         []\n",
        "#   add three or not  [1,2,3] [1,2]  [1,3] [1]       [2,3]  [2]     [3] []"
      ],
      "metadata": {
        "id": "wFA3TFoshNEM"
      },
      "execution_count": null,
      "outputs": []
    },
    {
      "cell_type": "code",
      "source": [
        "def subset(nums):\n",
        "\n",
        "  res = []\n",
        "  subset = []\n",
        "\n",
        "  def dfs(i):\n",
        "    #passing index to choose whether to select i or not\n",
        "    if i >= len(nums):\n",
        "      #out of bound\n",
        "      res.append(subset.copy())\n",
        "      #add to our result as a copy\n",
        "      return\n",
        "    #decision to include nums[i], left side\n",
        "    subset.append(nums[i])\n",
        "    dfs(i + 1)\n",
        "    #decision NOT to include nums[i], right side\n",
        "    subset.pop()\n",
        "    dfs(i + 1)\n",
        "\n",
        "  dfs(0) #our first value\n",
        "  return res\n",
        "\n",
        "nums = [1,2,3]\n",
        "subset(nums)\n",
        "#Output: [[],[1],[2],[1,2],[3],[1,3],[2,3],[1,2,3]]"
      ],
      "metadata": {
        "colab": {
          "base_uri": "https://localhost:8080/"
        },
        "id": "n76Rt4MqnzO0",
        "outputId": "90374605-4137-4b12-f7d1-c25ec08a6086"
      },
      "execution_count": null,
      "outputs": [
        {
          "output_type": "execute_result",
          "data": {
            "text/plain": [
              "[[1, 2, 3], [1, 2], [1, 3], [1], [2, 3], [2], [3], []]"
            ]
          },
          "metadata": {},
          "execution_count": 15
        }
      ]
    },
    {
      "cell_type": "markdown",
      "source": [
        "##36. Combination Sum\n",
        "candidates = [2,3,6,7]\n",
        "\n",
        "target = 7\n",
        "\n",
        "Output: [[2,2,3],[7]]"
      ],
      "metadata": {
        "id": "vXBNmH2bpAAV"
      }
    },
    {
      "cell_type": "code",
      "source": [
        "#left is we include 2 and right is not include 2 ever (so we wont have any duplicate in the result)\n",
        "#                                         []\n",
        "# for 2                    [2]                             []\n",
        "#            [2,2]                   [2]              [3]        []\n",
        "#    [2,2,2]      [2,2]          [2,3]  [2]                  [6]    []\n",
        "#             [2,2,3] [2,2]                                       [7] []\n"
      ],
      "metadata": {
        "id": "TVvg9BQ3pGFo"
      },
      "execution_count": null,
      "outputs": []
    },
    {
      "cell_type": "code",
      "source": [
        "def combinationSum(candidates, target):\n",
        "    res = []\n",
        "    def dfs(i, cur, total):\n",
        "          if total == target:\n",
        "            #Found a result\n",
        "            res.append(cur.copy())\n",
        "            return\n",
        "          if i >= len(candidates) or total > target:\n",
        "            #out of Bound\n",
        "            return\n",
        "\n",
        "          #recursive steps\n",
        "          #left side -> inclue i\n",
        "          cur.append(candidates[i])\n",
        "          dfs(i, cur, total + candidates[i])\n",
        "          #right side -> not include i\n",
        "          cur.pop()\n",
        "          dfs(i + 1, cur, total)\n",
        "          #no value has been added\n",
        "    dfs(0,[],0)\n",
        "    return res\n",
        "\n",
        "candidates = [2,3,6,7]\n",
        "target = 7\n",
        "combinationSum(candidates, target)\n",
        "#O(2^h)\n",
        "#Output: [[2,2,3],[7]]"
      ],
      "metadata": {
        "colab": {
          "base_uri": "https://localhost:8080/"
        },
        "id": "6EoSeNU_rSWZ",
        "outputId": "5c82c61f-3bf3-49ef-8485-e6ccaee239ea"
      },
      "execution_count": null,
      "outputs": [
        {
          "output_type": "execute_result",
          "data": {
            "text/plain": [
              "[[2, 2, 3], [7]]"
            ]
          },
          "metadata": {},
          "execution_count": 16
        }
      ]
    },
    {
      "cell_type": "markdown",
      "source": [
        "##37. Permutations\n",
        "nums = [1,2,3]\n",
        "\n",
        "Output: [[1,2,3],[1,3,2],[2,1,3],[2,3,1],[3,1,2],[3,2,1]]"
      ],
      "metadata": {
        "id": "F2EXbxlGtPLz"
      }
    },
    {
      "cell_type": "code",
      "source": [
        "#                        Not choosing Decision Tree\n",
        "\n",
        "#                                 [1,2,3]\n",
        "#                  [2,3]           [1,3]          [1,2]\n",
        "#                [3]  [2]         [3]  [1]       [2]  [1]\n",
        "\n",
        "#back: we will back to the base of 1 and append 1 at the end of two cases above.\n",
        "\n",
        "#Recursive for backtraing"
      ],
      "metadata": {
        "id": "lw9rB3w7tWQH"
      },
      "execution_count": null,
      "outputs": []
    },
    {
      "cell_type": "code",
      "source": [
        "def permute(nums):\n",
        "\n",
        "      res = []\n",
        "\n",
        "      #base case\n",
        "      if len(nums) == 1:\n",
        "        #only one value, so one permutation\n",
        "        return [nums[:]]\n",
        "        #deep copy as list of list. or nums.copy()\n",
        "\n",
        "      for i in range(len(nums)):\n",
        "          n = nums.pop(0)\n",
        "          #pop first value which is 1\n",
        "          perms = permute(nums)\n",
        "          #permutation of other 2 values instead of 3 (resurcive call)\n",
        "          #for [2,3] and [3,2], we want to append the first value we just poped (which is 1)\n",
        "          #=> [2,3,1] , [3,2,1] and add them to our result\n",
        "          for perm in perms:\n",
        "             perm.append(n)\n",
        "             #for those two cases, we want to append 1 which we pop before\n",
        "\n",
        "          res.extend(perms)\n",
        "          #add multiple values to a list or array\n",
        "          nums.append(n)\n",
        "          #add the element back at the end\n",
        "\n",
        "      return res\n",
        "\n",
        "nums = [1,2,3]\n",
        "permute(nums)\n",
        "#Output: [[3, 2, 1], [2, 3, 1], [1, 3, 2], [3, 1, 2], [2, 1, 3], [1, 2, 3]]"
      ],
      "metadata": {
        "colab": {
          "base_uri": "https://localhost:8080/"
        },
        "id": "xQywP4m71AHp",
        "outputId": "b0976280-f84e-47a9-a61b-74ab9936f8f9"
      },
      "execution_count": null,
      "outputs": [
        {
          "output_type": "execute_result",
          "data": {
            "text/plain": [
              "[[3, 2, 1], [2, 3, 1], [1, 3, 2], [3, 1, 2], [2, 1, 3], [1, 2, 3]]"
            ]
          },
          "metadata": {},
          "execution_count": 17
        }
      ]
    },
    {
      "cell_type": "markdown",
      "source": [
        "##38. Subset II (power set of array with duplicate)\n",
        "Like 35 but array nums can have duplicate items.\n",
        "\n",
        "We want no duplicate subset."
      ],
      "metadata": {
        "id": "Ep-g-lut2ao0"
      }
    },
    {
      "cell_type": "code",
      "source": [
        "#add 1 or not, then add 2 or not, then add 3 or not.\n",
        "#   backtracking                              [1,2,3]\n",
        "#   add one or not                [1]                           []\n",
        "#   add two or not       [1,2]          [1]               [2]         []\n",
        "#   add three or not  [1,2,3] [1,2]  [1,3] [1]       [2,3]  [2]     [3] []"
      ],
      "metadata": {
        "id": "PfIVG7gO2gsa"
      },
      "execution_count": null,
      "outputs": []
    },
    {
      "cell_type": "code",
      "source": [
        "def subsetII(nums):\n",
        "\n",
        "  res = []\n",
        "  subset = []\n",
        "  nums.sort()\n",
        "\n",
        "  def dfs(i):\n",
        "    #passing index to choose whether to select i or not\n",
        "    if i >= len(nums):\n",
        "      #out of bound\n",
        "      res.append(subset.copy())\n",
        "      #add to our result as a copy\n",
        "      return\n",
        "    #decision to include nums[i], left side\n",
        "    subset.append(nums[i])\n",
        "    dfs(i + 1)\n",
        "    #decision NOT to include nums[i], right side\n",
        "    subset.pop()\n",
        "\n",
        "    while i + 1 < len(nums) and nums[i] == nums[i + 1]:\n",
        "      #if we have duplicate:\n",
        "      i += 1\n",
        "      #igonore and go to next one.\n",
        "\n",
        "    dfs(i + 1)\n",
        "\n",
        "  dfs(0)\n",
        "  #our first value\n",
        "  return res\n",
        "\n",
        "nums = [1,2,2]\n",
        "subsetII(nums)\n",
        "#Output: [[],[1],[1,2],[1,2,2],[2],[2,2]]"
      ],
      "metadata": {
        "colab": {
          "base_uri": "https://localhost:8080/"
        },
        "id": "F4XR5KJL2g5h",
        "outputId": "e7a3e95b-a96e-4f62-bc72-d982b146161a"
      },
      "execution_count": null,
      "outputs": [
        {
          "output_type": "execute_result",
          "data": {
            "text/plain": [
              "[[1, 2, 2], [1, 2], [1], [2, 2], [2], []]"
            ]
          },
          "metadata": {},
          "execution_count": 18
        }
      ]
    },
    {
      "cell_type": "markdown",
      "source": [
        "#Dynamic Programming I"
      ],
      "metadata": {
        "id": "SQKrarZStJxH"
      }
    },
    {
      "cell_type": "markdown",
      "source": [
        "##39. Fib"
      ],
      "metadata": {
        "id": "xNdemTA8tMYa"
      }
    },
    {
      "cell_type": "code",
      "source": [
        "#Recursion\n",
        "\n",
        "def fib(n):\n",
        "    if n == 1 or n == 2:\n",
        "        result = 1\n",
        "    else:\n",
        "        result = fib(n-1) + fib(n-2)\n",
        "    return result\n",
        "\n",
        "fib(4)\n",
        "# 2^n beacuse some of the result is calculating multiple times without storing"
      ],
      "metadata": {
        "colab": {
          "base_uri": "https://localhost:8080/"
        },
        "id": "HorNtUZMtPd9",
        "outputId": "614adb9d-c5a5-4da5-e66a-b6f5ae7e34a2"
      },
      "execution_count": null,
      "outputs": [
        {
          "output_type": "execute_result",
          "data": {
            "text/plain": [
              "3"
            ]
          },
          "metadata": {},
          "execution_count": 19
        }
      ]
    },
    {
      "cell_type": "code",
      "source": [
        "#Dynamic Programming\n",
        "\n",
        "def fib(n, memo = None):\n",
        "    if memo is None:\n",
        "        memo = {}\n",
        "        # Use a dictionary for memoization instead of a list\n",
        "    if n in memo:\n",
        "        return memo[n]\n",
        "        # Check if the result is already memoized\n",
        "\n",
        "    if n == 1 or n == 2:\n",
        "        result = 1\n",
        "    else:\n",
        "        result = fib(n - 1, memo) + fib(n - 2, memo)\n",
        "\n",
        "    memo[n] = result\n",
        "    # Store the result in the memo dictionary\n",
        "    return result\n",
        "\n",
        "fib(4)\n",
        "#O(2n+1) = O(n)"
      ],
      "metadata": {
        "colab": {
          "base_uri": "https://localhost:8080/"
        },
        "id": "8xDDbUhBL2xj",
        "outputId": "0c1474ed-beaa-411f-8e40-192ad98cc8e4"
      },
      "execution_count": null,
      "outputs": [
        {
          "output_type": "execute_result",
          "data": {
            "text/plain": [
              "3"
            ]
          },
          "metadata": {},
          "execution_count": 20
        }
      ]
    },
    {
      "cell_type": "code",
      "source": [
        "#sum of the three preceding terms\n",
        "#Consider the sequence: 1,1,1,3,5,9,17\n",
        "\n",
        "def fib(n, memo = None):\n",
        "    if memo is None:\n",
        "        memo = {}\n",
        "        # Use a dictionary for memoization instead of a list\n",
        "    if n in memo:\n",
        "        return memo[n]\n",
        "        # Check if the result is already memoized\n",
        "\n",
        "    if n == 1 or n == 2 or n == 3:\n",
        "        result = 1\n",
        "    else:\n",
        "        result = fib(n - 1, memo) + fib(n - 2, memo) + fib(n - 3 , memo)\n",
        "\n",
        "    memo[n] = result\n",
        "    # Store the result in the memo dictionary\n",
        "    return result\n",
        "\n",
        "fib(6)"
      ],
      "metadata": {
        "colab": {
          "base_uri": "https://localhost:8080/"
        },
        "id": "lyShbIybw5uF",
        "outputId": "259c9216-f566-48eb-cd15-889cfaa93992"
      },
      "execution_count": 1,
      "outputs": [
        {
          "output_type": "execute_result",
          "data": {
            "text/plain": [
              "9"
            ]
          },
          "metadata": {},
          "execution_count": 1
        }
      ]
    },
    {
      "cell_type": "code",
      "source": [
        "#Bottom up (without recursive)\n",
        "\n",
        "def fib(n):\n",
        "    if n == 1 or n == 2:\n",
        "        return 1\n",
        "\n",
        "    bottom_up = [0] * (n + 1)\n",
        "    bottom_up[1] = 1\n",
        "    bottom_up[2] = 1\n",
        "\n",
        "    for i in range(3, n + 1): #we want n to be in the range that is why it is n+1\n",
        "       # Corrected the range\n",
        "        bottom_up[i] = bottom_up[i - 1] + bottom_up[i - 2]\n",
        "\n",
        "    return bottom_up[n]\n",
        "\n",
        "fib(4)\n",
        "#O(n)"
      ],
      "metadata": {
        "colab": {
          "base_uri": "https://localhost:8080/"
        },
        "id": "k0mhZULWuzuG",
        "outputId": "8a90ebb3-e9d0-4c08-ab53-ac2ec2102c1f"
      },
      "execution_count": null,
      "outputs": [
        {
          "output_type": "execute_result",
          "data": {
            "text/plain": [
              "3"
            ]
          },
          "metadata": {},
          "execution_count": 21
        }
      ]
    },
    {
      "cell_type": "markdown",
      "source": [
        "##40. Climbing Stairs\n",
        "You are climbing a staircase. It takes n steps to reach the top.\n",
        "\n",
        "Each time you can either climb 1 or 2 steps. In how many distinct ways can you climb to the top?\n",
        "\n",
        "n = 3, Output: 3\n",
        "\n",
        "Explanation: There are three ways to climb to the top.\n",
        "\n",
        "1. 1 step + 1 step + 1 step\n",
        "2. 1 step + 2 steps\n",
        "3. 2 steps + 1 step\n"
      ],
      "metadata": {
        "id": "gZK8-88muxtH"
      }
    },
    {
      "cell_type": "code",
      "source": [
        "#n = 5\n",
        "#8,5,3,2,1 one two\n",
        "#from step 5, how many ways can we reach step 5? 1\n",
        "#from step 4, how many ways can we reach step 5? 1\n",
        "#from step 3, how many ways can we reach step 5? one step to 4 and two step to 5 = (sum of two prev steps) = 2 or n1\n",
        "#from step 2, how many ways can we reach step 5? 2 + 1 = 3 or n2\n",
        "#from step 1, how many ways can we reach step 5? 3 + 2 = 5\n",
        "#from step 0, how many ways can we reach step 5? 5 + 3 = 8"
      ],
      "metadata": {
        "id": "2W2m8d8YvSqN"
      },
      "execution_count": null,
      "outputs": []
    },
    {
      "cell_type": "code",
      "source": [
        "def climbStaris(n):\n",
        "  if n <= 3:\n",
        "    return n\n",
        "  n1, n2 = 2, 3\n",
        "  for i in range(4, n + 1):\n",
        "    temp = n1 + n2\n",
        "    n1 = n2\n",
        "    n2 = temp\n",
        "  return n2\n",
        "\n",
        "n = 5\n",
        "climbStaris(5)\n",
        "#Output: 8"
      ],
      "metadata": {
        "colab": {
          "base_uri": "https://localhost:8080/"
        },
        "id": "m8oVjLT-vS7P",
        "outputId": "218aea4a-a1f4-467a-e90c-4c3cf3b07844"
      },
      "execution_count": null,
      "outputs": [
        {
          "output_type": "execute_result",
          "data": {
            "text/plain": [
              "8"
            ]
          },
          "metadata": {},
          "execution_count": 22
        }
      ]
    },
    {
      "cell_type": "markdown",
      "source": [
        "##41. Min Cost Climbing Stairs\n",
        "Pay cost with one or two climb\n",
        "\n",
        "Reaching top with min cost\n",
        "\n",
        "[10,15,20] -> two step to 15 and pay 15 and two step to top."
      ],
      "metadata": {
        "id": "5KgfIly2jDWd"
      }
    },
    {
      "cell_type": "code",
      "source": [
        "#brute force\n",
        "# start with index 0:\n",
        "#                  jump to index 1: cost 10 -> jump to index 2 (cost 15) or jump to index 3 (cost 15)\n",
        "#                  Jump to indes 2: cost 10 -> jump to index 3 (cost 29)\n",
        "\n",
        "#Since we have dependancies: index 0 depandant on index 1 and 2, we can solve from the end of the array.\n",
        "\n",
        "#index: 0   1    2    3\n",
        "#Cost: 10   15   20   0 #Add 0 at the end\n",
        "\n",
        "#cost from index 2 to 3: 1 jump or 2 jump. we do not have 2 jump option for this one though(out of bound). It is 20, so we keep 20.\n",
        "#cost from index 1 to 3: 1 jump: 15 + remainder index 2 from before which is 20 = 35, or 2 jump from index 1 so it will be 15. Min is 15.\n",
        "#cost from index 0 to 3: 1 jump: 10 + remainder index 1 from before which is 15 = 25, or 2 jump from index 0 so it will be 10 + reaminder index 2 from before which is 20 = 30. Min is 25.\n",
        "#Minimum of first two elements"
      ],
      "metadata": {
        "id": "xqq2hF9CjbCj"
      },
      "execution_count": null,
      "outputs": []
    },
    {
      "cell_type": "code",
      "source": [
        "def minCostClimbingStairs(cost):\n",
        "\n",
        "    cost.append(0)\n",
        "\n",
        "    #[10,15,20,0] we are starting at index 1 and look at the two values after\n",
        "     #(20 and 0).\n",
        "    for i in range (len(cost)-3,-1,-1):\n",
        "\n",
        "        cost[i] = min(cost[i] + cost[i + 1], cost[i] + cost[i + 2])\n",
        "        #one jump or two jumps and take min\n",
        "\n",
        "    return min(cost[0], cost[1])\n",
        "    #last elemnt is the answer of to reach the top, but min of one jump or two jump\n",
        "\n",
        "cost = [10,15,20]\n",
        "minCostClimbingStairs(cost)\n",
        "#Output: 15"
      ],
      "metadata": {
        "colab": {
          "base_uri": "https://localhost:8080/"
        },
        "id": "L3jRyfTKmHvO",
        "outputId": "44545b82-8610-4aaa-fac5-4c2557342ac8"
      },
      "execution_count": null,
      "outputs": [
        {
          "output_type": "execute_result",
          "data": {
            "text/plain": [
              "15"
            ]
          },
          "metadata": {},
          "execution_count": 23
        }
      ]
    },
    {
      "cell_type": "markdown",
      "source": [
        "##42. House Rubber\n",
        "\n",
        "Rob house with the nums[1,2,3,1] that is reward.\n",
        "\n",
        "two adjacent houses were broken into on the same night."
      ],
      "metadata": {
        "id": "2KzRCpwTn-iG"
      }
    },
    {
      "cell_type": "code",
      "source": [
        "#nums = [1,2,3,1]\n",
        "#Let's say we are at house number 2 with reward of 3.\n",
        "#rob = max (arr[0] + rob[2:n], rob[1:n])\n",
        "\n",
        "#Solve subproblem: step 1: only rob index 0: 1\n",
        "    # step 2: [1,2]: rob including index 1 = 2 or rob excluding index 1 (rob(1) = 1 => max would be 2\n",
        "    # step 3: [1,2,3]: rob including index 2 = 3+1 (n + rob1) or rob excluding index 1 (rob2) => max would be 2"
      ],
      "metadata": {
        "id": "kC_LhFA9oRQj"
      },
      "execution_count": null,
      "outputs": []
    },
    {
      "cell_type": "code",
      "source": [
        "def rob(nums):\n",
        "\n",
        "    rob1, rob2 = 0, 0\n",
        "\n",
        "    for n in nums:\n",
        "        temp = max(n + rob1, rob2)\n",
        "        #take first and rob not neighbor or dont rob n\n",
        "        rob1 = rob2\n",
        "        rob2 = temp\n",
        "\n",
        "    return rob2\n",
        "\n",
        "nums = [1,2,3,1]\n",
        "rob(nums)\n",
        "#Output: 4"
      ],
      "metadata": {
        "colab": {
          "base_uri": "https://localhost:8080/"
        },
        "id": "RZfgxeUToRgv",
        "outputId": "6dbd4bd1-7d9d-494a-d368-4c99a0f0a23c"
      },
      "execution_count": null,
      "outputs": [
        {
          "output_type": "execute_result",
          "data": {
            "text/plain": [
              "4"
            ]
          },
          "metadata": {},
          "execution_count": 24
        }
      ]
    },
    {
      "cell_type": "markdown",
      "source": [
        "##43. House Robber II\n",
        "Arranged in a circle. That means the first house is the neighbor of the last on."
      ],
      "metadata": {
        "id": "LmI7wlfKpTWZ"
      }
    },
    {
      "cell_type": "code",
      "source": [
        "def rob(nums):\n",
        "\n",
        "    rob1, rob2 = 0, 0\n",
        "\n",
        "    for n in nums:\n",
        "        temp = max(n + rob1, rob2)\n",
        "        #take first and rob not neighbor or dont rob n\n",
        "        rob1 = rob2\n",
        "        rob2 = temp\n",
        "\n",
        "    return rob2\n",
        "\n",
        "def rob2(nums):\n",
        "\n",
        "    return max(nums[0], rob(nums[:-1]), rob(nums[1:]))\n",
        "    #if one element, then nums[0]\n",
        "    #else, including index 0 exluding last one,\n",
        "    #rob exluding index 0 and including last one\n",
        "\n",
        "nums = [2,3,2]\n",
        "rob2(nums)\n",
        "#Output: 3"
      ],
      "metadata": {
        "colab": {
          "base_uri": "https://localhost:8080/"
        },
        "id": "zgISt_eypYfU",
        "outputId": "06563b73-9db0-4862-8386-fd4151cef638"
      },
      "execution_count": null,
      "outputs": [
        {
          "output_type": "execute_result",
          "data": {
            "text/plain": [
              "3"
            ]
          },
          "metadata": {},
          "execution_count": 25
        }
      ]
    },
    {
      "cell_type": "markdown",
      "source": [
        "##44. Longest Palindormic Substring\n",
        "Same read from begining and end\n",
        "\n",
        "s = \"babad\"\n",
        "\n",
        "Output: \"bab\"\n",
        "\n",
        "Explanation: \"aba\" is also a valid answer."
      ],
      "metadata": {
        "id": "1fRvYQY1qIjO"
      }
    },
    {
      "cell_type": "code",
      "source": [
        "#assuming the char i is the center and expanding. n . n = O(n^2) (odds and even)"
      ],
      "metadata": {
        "id": "5GxwPKBtqPbx"
      },
      "execution_count": null,
      "outputs": []
    },
    {
      "cell_type": "code",
      "source": [
        "def longestPalindorme(s):\n",
        "  res = \"\"\n",
        "  resLen = 0\n",
        "\n",
        "  for i in range(len(s)): #every char consider to be center\n",
        "\n",
        "      #for odd length\n",
        "      l, r = i, i\n",
        "      while l >=0 and r < len(s) and s[l] == s[r]: #left and right in bound and palindorm\n",
        "          if (r - l + 1) > resLen: #if found better result, update the results\n",
        "              resLen = r - l + 1\n",
        "              res = s[l : r + 1]\n",
        "\n",
        "          l -= 1 #extend to left\n",
        "          r += 1 #extend to right\n",
        "\n",
        "      #for even length\n",
        "      l, r = i, i + 1 #right would be i + 1\n",
        "      while l >=0 and r < len(s) and s[l] == s[r]:\n",
        "          if (r - l + 1) > resLen: #if found better result, update the results\n",
        "              resLen = r - l + 1\n",
        "              res = s[l : r + 1]\n",
        "\n",
        "          l -= 1\n",
        "          r += 1\n",
        "\n",
        "  return res\n",
        "\n",
        "s = \"babad\"\n",
        "longestPalindorme(s)\n",
        "#Explanation: \"aba\" is also a valid answer.\n",
        "#Output: \"bab\""
      ],
      "metadata": {
        "colab": {
          "base_uri": "https://localhost:8080/",
          "height": 35
        },
        "id": "QM_Zimb5qPpn",
        "outputId": "4f792e46-9e12-4a53-cf17-a44d6f4270d5"
      },
      "execution_count": 2,
      "outputs": [
        {
          "output_type": "execute_result",
          "data": {
            "text/plain": [
              "'bab'"
            ],
            "application/vnd.google.colaboratory.intrinsic+json": {
              "type": "string"
            }
          },
          "metadata": {},
          "execution_count": 2
        }
      ]
    },
    {
      "cell_type": "markdown",
      "source": [
        "##45. Decode Ways\n",
        "s = \"226\", Output: 3\n",
        "\n",
        "Explanation: \"226\" could be decoded as \"BZ\" (2 26), \"VF\" (22 6), or \"BBF\" (2 2 6).\n",
        "\n",
        "O(n)"
      ],
      "metadata": {
        "id": "r359gUbbIlzu"
      }
    },
    {
      "cell_type": "code",
      "source": [
        "#1) Recursive Caching\n",
        "#Brute Force Solution: How many ways we can decode [1,2,1]\n",
        "# at first step, it should >0\n",
        "# also <=27 (number of character)\n",
        "\n",
        "#one (left) or two digits (right) with comparing the edge case\n",
        "\n",
        "#                    [1,2,1,3,1]\n",
        "#          [1]           [12]              []\n",
        "#       [2]   [21]           [1]\n",
        "#    [1]\n",
        "# 2 decisions at each step => O(2^n)\n",
        "\n",
        "#dp[i] = dp[i+1] + dp[i+2] one digit or two"
      ],
      "metadata": {
        "id": "fjwFWt_DItYI"
      },
      "execution_count": null,
      "outputs": []
    },
    {
      "cell_type": "code",
      "source": [
        "#Memoization\n",
        "def numDecodings(s): #O(n)\n",
        "      #memoization\n",
        "      dp = {len(s): 1} #fixed length and 1\n",
        "\n",
        "      def dfs(i):\n",
        "            if i in dp:\n",
        "                return dp[i]\n",
        "            if s[i] == \"0\":\n",
        "              #if char is starting with 0\n",
        "                return 0\n",
        "            res = dfs(i + 1)\n",
        "            #not zero and it is (1,9). take this value and as single digit.\n",
        "            if i + 1 < len(s) and (s[i] == \"1\" or (s[i] == \"2\" and s[i + 1] in \"0123456\")):\n",
        "                #checking all possibles with 2 char\n",
        "                res += dfs(i + 2)\n",
        "            dp[i] = res #cashing the result\n",
        "            return res\n",
        "      return dfs(0)\n",
        "\n",
        "s = \"226\"\n",
        "numDecodings(s)\n",
        "#Explanation: \"226\" could be decoded as \"BZ\" (2 26), \"VF\" (22 6), or \"BBF\" (2 2 6).\n",
        "#Output: 3"
      ],
      "metadata": {
        "colab": {
          "base_uri": "https://localhost:8080/"
        },
        "id": "Ld3WIml0Itlf",
        "outputId": "84144781-e69e-43cc-8815-623eaeb854c0"
      },
      "execution_count": null,
      "outputs": [
        {
          "output_type": "execute_result",
          "data": {
            "text/plain": [
              "3"
            ]
          },
          "metadata": {},
          "execution_count": 15
        }
      ]
    },
    {
      "cell_type": "code",
      "source": [
        "#Dynamic Programming\n",
        "def numDecodings(s):\n",
        "        dp = {len(s): 1}\n",
        "        for i in range(len(s) - 1, -1, -1):\n",
        "            if s[i] == \"0\":\n",
        "                dp[i] = 0\n",
        "            else:\n",
        "                dp[i] = dp[i + 1]\n",
        "\n",
        "            if i + 1 < len(s) and (\n",
        "                s[i] == \"1\" or s[i] == \"2\" and s[i + 1] in \"0123456\"\n",
        "            ):\n",
        "                dp[i] += dp[i + 2]\n",
        "        return dp[0]\n",
        "\n",
        "s = \"226\"\n",
        "numDecodings(s)\n",
        "#Explanation: \"226\" could be decoded as \"BZ\" (2 26), \"VF\" (22 6), or \"BBF\" (2 2 6).\n",
        "#Output: 3"
      ],
      "metadata": {
        "colab": {
          "base_uri": "https://localhost:8080/"
        },
        "id": "8_FHiunAM5Dy",
        "outputId": "25006498-926f-405e-a9aa-efd7ca562dc6"
      },
      "execution_count": null,
      "outputs": [
        {
          "output_type": "execute_result",
          "data": {
            "text/plain": [
              "3"
            ]
          },
          "metadata": {},
          "execution_count": 16
        }
      ]
    },
    {
      "cell_type": "markdown",
      "source": [
        "##46. Coin Change\n",
        "Return the fewest number of coins that you need to make up that amount.\n",
        "\n",
        "coins = [1,2,5], amount = 11\n",
        "\n",
        "Output: 3\n",
        "\n",
        "Explanation: 11 = 5 + 5 + 1"
      ],
      "metadata": {
        "id": "KL9-3P7cNOUQ"
      }
    },
    {
      "cell_type": "code",
      "source": [
        "#1) Greedy: start at the biggest coin we have. it is not good\n",
        "#2) Brutforce: backtracking\n",
        "#[1,3,4,5] Amount= 7\n",
        "# choose one of the above\n",
        "\n",
        "#DFS with caching (Top Down)\n",
        "#           Start with one of the coins and store the amount - n\n",
        "# 6(1)               4(3)                3(4)                     2(5)\n",
        "#                                                    1(1)  -1(3)  -2(4)  -3(5)\n",
        "#                                                  0(1)"
      ],
      "metadata": {
        "id": "Qt1V3jb7NX3h"
      },
      "execution_count": null,
      "outputs": []
    },
    {
      "cell_type": "code",
      "source": [
        "#DP-bottom up:Dp[0]=0, how many coins we need to sum to 0\n",
        "#            :Dp[1]=1, how many coins we need to sum to 1\n",
        "#            :Dp[2]= 1+DP[1] = 2, how many coins we need to sum to 2\n",
        "#            :DP[7] = if we take the coin 1 then: 1+dp[6] or we take coin 3 then: 1 +DP[4] or we take coin 4 then: 1+DP[3] or we take coin 5 then: 1+DP[2]\n",
        "# we want min"
      ],
      "metadata": {
        "id": "WiMiEpvvNfBI"
      },
      "execution_count": null,
      "outputs": []
    },
    {
      "cell_type": "code",
      "source": [
        "def coin_change(coins, amount):\n",
        "        dp = [amount + 1] * (amount + 1) #0...amount\n",
        "        #initialize to be length (0 to amount) and defult is amount + 1 which is max\n",
        "        dp[0] = 0\n",
        "\n",
        "        for a in range(1, amount + 1): # a is for sum\n",
        "          #reverse order for bottom up.\n",
        "              for c in coins:\n",
        "                #for every coins\n",
        "                    if a - c >= 0:\n",
        "                      #if current sum - coin is non negative, we can continue searching\n",
        "                        dp[a] = min(dp[a], 1 + dp[a - c])\n",
        "                        #coin = 4 and amount=7, then take coin 4 then: 1+dp[7-4]\n",
        "        return dp[amount] if dp[amount]!= amount + 1 else -1\n",
        "        #we can return if dp is not the defult value we asssigned in first line\n",
        "\n",
        "coins = [1,2,5]\n",
        "amount = 11\n",
        "coin_change(coins, amount)\n",
        "#Explanation: 11 = 5 + 5 + 1\n",
        "#Output: 3"
      ],
      "metadata": {
        "colab": {
          "base_uri": "https://localhost:8080/"
        },
        "id": "k9LUw98WNYEq",
        "outputId": "1538672b-c505-4e02-cc8e-bb8788a4221d"
      },
      "execution_count": null,
      "outputs": [
        {
          "output_type": "execute_result",
          "data": {
            "text/plain": [
              "3"
            ]
          },
          "metadata": {},
          "execution_count": 17
        }
      ]
    },
    {
      "cell_type": "markdown",
      "source": [
        "##47. Maximum Product Subarray\n",
        "Given an integer array nums, find a subarray that has the largest product, and return the product.\n",
        "\n",
        "nums = [2,3,-2,4]\n",
        "\n",
        "Explanation: [2,3] has the largest product 6.\n",
        "\n",
        "Output: 6\n"
      ],
      "metadata": {
        "id": "Xp84agY8L3j4"
      }
    },
    {
      "cell_type": "code",
      "source": [
        "#Brute Force: subarrays of first item, subarrays of second and so on O(n^2)\n",
        "#[1,2,3]: all positive: product will keep increasing\n",
        "#[-1,-2,-3]: all negative: we need to keep track of minimum for max product subarray\n",
        "#Edge case of 0\n",
        "\n",
        "#max and min of product and handle with zerp case)"
      ],
      "metadata": {
        "id": "gk8_NC_rMJ2j"
      },
      "execution_count": null,
      "outputs": []
    },
    {
      "cell_type": "code",
      "source": [
        "def maxProduct(nums):\n",
        "      res = nums[0]\n",
        "      curMin, curMax = 1, 1\n",
        "\n",
        "      for n in nums:\n",
        "        temp = curMax * n\n",
        "        curMax = max(n, curMax * n, curMin * n)\n",
        "        curMin = min(temp, n, curMin * n)\n",
        "        res = max(res, curMax)\n",
        "\n",
        "      return res\n",
        "\n",
        "nums = [2,3,-2,4]\n",
        "maxProduct(nums) #O(n)\n",
        "#Explanation: [2,3] has the largest product 6.\n",
        "#Output: 6"
      ],
      "metadata": {
        "colab": {
          "base_uri": "https://localhost:8080/"
        },
        "id": "QcY4H1j-MUtj",
        "outputId": "1a3f21e0-3a11-4c2d-ae28-fbbf905ff8fc"
      },
      "execution_count": null,
      "outputs": [
        {
          "output_type": "execute_result",
          "data": {
            "text/plain": [
              "6"
            ]
          },
          "metadata": {},
          "execution_count": 3
        }
      ]
    },
    {
      "cell_type": "code",
      "source": [
        "def maxSum(nums):\n",
        "      res = nums[0]\n",
        "      curMin, curMax = 0, 0\n",
        "\n",
        "      for n in nums:\n",
        "        temp = curMax + n\n",
        "        curMax = max(n, curMax + n, curMin + n)\n",
        "        curMin = min(temp, n, curMin + n)\n",
        "        res = max(res, curMax)\n",
        "\n",
        "      return res\n",
        "\n",
        "nums = [5,4,-1,7,8]\n",
        "maxSum(nums) #O(n)"
      ],
      "metadata": {
        "colab": {
          "base_uri": "https://localhost:8080/"
        },
        "id": "ThWtaUSUF1XO",
        "outputId": "99ed1071-658b-4d9c-a8e8-e9b2bdd15aef"
      },
      "execution_count": 1,
      "outputs": [
        {
          "output_type": "execute_result",
          "data": {
            "text/plain": [
              "23"
            ]
          },
          "metadata": {},
          "execution_count": 1
        }
      ]
    },
    {
      "cell_type": "markdown",
      "source": [
        "##48. Longest Increasing Subsequence\n",
        "\n",
        "different from #7\n",
        "\n",
        "That subarray does not have to be contiguent (poshte sare ham)\n",
        "\n",
        "nums = [10,9,2,5,3,7,101,18], Output: 4\n",
        "\n",
        "Explanation: The longest increasing subsequence is [2,3,7,101], therefore the length is 4."
      ],
      "metadata": {
        "id": "SeCynVQsPIUI"
      }
    },
    {
      "cell_type": "code",
      "source": [
        "#Brute Force - DFC (depth force search): every possible sequence\n",
        "#[0,1,0,3,2,3]\n",
        "#include or not include - 2^n possible sequence"
      ],
      "metadata": {
        "id": "NmcVALgzPQNZ"
      },
      "execution_count": null,
      "outputs": []
    },
    {
      "cell_type": "code",
      "source": [
        "#DFC with Cache\n",
        "#[1,2,4,3]\n",
        "#Decisions to Starting at index i and checking if it is increasing when adding a index\n",
        "#                                     []\n",
        "#              [1]                [2]                  [4]               [3]\n",
        "#       [1,2]     [1,4]  [1,3]                                                  LIS[3] = 1 and LIS[2] =1, LIS[1] = 2, LIS[0] = 3 starting at last going backward\n",
        "# [1,2,4]  [1,2,3]\n",
        "# reach limit"
      ],
      "metadata": {
        "id": "fPtCKHr2PQaX"
      },
      "execution_count": null,
      "outputs": []
    },
    {
      "cell_type": "code",
      "source": [
        "#Dynamic Programming:\n",
        "#[1,2,4,3]\n",
        "#Starting in reverse\n",
        "#LIS[3] = 1 (nothing is after index 3 so it is 1)\n",
        "# LIS[2] = could be itself (4) or index 2 and after that which is index 3 all together. so  1 or 1+LIS[3] if nums[2] < nums[3].      LIS[2] = max(1, 1+LIS[3])\n",
        "# LIS[1] = max (1, 1 + LIS[2], 1 + LIS[3])\n",
        "#O(n^2)"
      ],
      "metadata": {
        "id": "K2IhgxweMahI"
      },
      "execution_count": null,
      "outputs": []
    },
    {
      "cell_type": "code",
      "source": [
        "def lengthOfLIS(nums):\n",
        "      LIS = [1] * len(nums)\n",
        "      #cache of list, all set to 1\n",
        "\n",
        "      for i in range(len(nums)-1,-1,-1):\n",
        "        #reverse, starting from last index and come back\n",
        "            for j in range (i + 1, len(nums)):\n",
        "              #every subsequence that comes after it.\n",
        "              #Start from one index right of i to the end\n",
        "                  if nums[i] < nums[j]:\n",
        "                    #condition to check the increasing subsequence\n",
        "                        LIS[i] = max(LIS[i], 1 + LIS[j])\n",
        "\n",
        "      return max(LIS)\n",
        "\n",
        "#O(n^2)\n",
        "nums = [10,9,2,5,3,7,101,18]\n",
        "lengthOfLIS(nums)\n",
        "#Explanation: The longest increasing subsequence is [2,3,7,101], therefore the length is 4.\n",
        "#Output: 4"
      ],
      "metadata": {
        "colab": {
          "base_uri": "https://localhost:8080/"
        },
        "id": "bSXyQuFqMqiU",
        "outputId": "556ce800-1405-4235-f174-262fc75a5b08"
      },
      "execution_count": null,
      "outputs": [
        {
          "output_type": "execute_result",
          "data": {
            "text/plain": [
              "4"
            ]
          },
          "metadata": {},
          "execution_count": 2
        }
      ]
    },
    {
      "cell_type": "markdown",
      "source": [
        "#Dynamic Programming II"
      ],
      "metadata": {
        "id": "Zf4tJHD3N9k-"
      }
    },
    {
      "cell_type": "markdown",
      "source": [
        "##49. Unique Paths\n",
        "\n",
        "Robot is at top left and wants to go to bottom right\n",
        "\n",
        "m = 3 #rows, n = 7 #columns\n",
        "\n",
        "Output: 28"
      ],
      "metadata": {
        "id": "JcofPC5FOA46"
      }
    },
    {
      "cell_type": "code",
      "source": [
        "#going down or right.\n",
        "#DFC and cash[r][c]\n",
        "#Recursive: calculating ways to reach the destination.\n",
        "\n",
        "#reverse: get to bottom right: 1\n",
        "#row from bottom to up and calculate for each column"
      ],
      "metadata": {
        "id": "Tgo4cywkONn-"
      },
      "execution_count": null,
      "outputs": []
    },
    {
      "cell_type": "code",
      "source": [
        "def uniquePaths(m, n):\n",
        "      row = [1] * n\n",
        "      #same length of n and all is 1\n",
        "\n",
        "      for i in range(m-1):\n",
        "        #except the last one (top row)\n",
        "            newRow = [1] * n\n",
        "            #above row\n",
        "            for j in range(n-2,-1,-1):\n",
        "              #reverse order, right to left\n",
        "                  newRow[j] = newRow[j + 1] + row[j]\n",
        "                  #right value and value below\n",
        "            row = newRow\n",
        "      return row[0] #return first item\n",
        "\n",
        "m = 3 #rows\n",
        "n = 7 #cols\n",
        "uniquePaths(m, n)\n",
        "#O(n * m)\n",
        "#Output: 28"
      ],
      "metadata": {
        "colab": {
          "base_uri": "https://localhost:8080/"
        },
        "id": "JmYVjJjqOTtf",
        "outputId": "4b097da9-70d0-46d1-95e7-1a6fb3d251e7"
      },
      "execution_count": null,
      "outputs": [
        {
          "output_type": "execute_result",
          "data": {
            "text/plain": [
              "28"
            ]
          },
          "metadata": {},
          "execution_count": 3
        }
      ]
    },
    {
      "cell_type": "markdown",
      "source": [
        "##50. Longest Common Substring in Strings\n",
        "Given two strings text1 and text2, return the length of their longest common subsequence. If there is no common subsequence, return 0.\n",
        "\n",
        "text1 = \"abcde\", text2 = \"ace\", Output: 3\n",
        "\n",
        "Explanation: The longest common subsequence is \"ace\" and its length is 3."
      ],
      "metadata": {
        "id": "sbq1iQBRQkii"
      }
    },
    {
      "cell_type": "code",
      "source": [
        "def longestCommonSubsequence(text1, text2):\n",
        "\n",
        "    dp = [[0 for j in range(len(text2) + 1)] for i in range(len(text1) + 1)]\n",
        "    #6 rows and 4 cols with 0\n",
        "    #2D, all zeros (col,row)\n",
        "\n",
        "    for i in range(len(text1) - 1, -1, -1):\n",
        "      #reverse\n",
        "        for j in range(len(text2) - 1, -1, -1):\n",
        "          #reverse\n",
        "            if text1[i] == text2[j]:\n",
        "              #if both char matched\n",
        "                dp[i][j] = 1 + dp[i + 1][j + 1]\n",
        "                #fill every sinlge cell, take 1+diagnol (i+1 and j+1)\n",
        "                #and add one beacuse it is matched\n",
        "            else:\n",
        "                dp[i][j] = max(dp[i][j + 1], dp[i + 1][j])\n",
        "                #maximum of two values (right value, below value)\n",
        "\n",
        "    return dp[0][0]\n",
        "\n",
        "text1 = \"abcde\"\n",
        "text2 = \"ace\"\n",
        "longestCommonSubsequence(text1, text2)\n",
        "#Explanation: The longest common subsequence is \"ace\" and its length is 3.\n",
        "#Output: 3"
      ],
      "metadata": {
        "colab": {
          "base_uri": "https://localhost:8080/"
        },
        "id": "Lz3jeuguRLbU",
        "outputId": "99e5ddaf-99ef-44af-c3c8-923869c64bb0"
      },
      "execution_count": null,
      "outputs": [
        {
          "output_type": "execute_result",
          "data": {
            "text/plain": [
              "3"
            ]
          },
          "metadata": {},
          "execution_count": 4
        }
      ]
    },
    {
      "cell_type": "markdown",
      "source": [
        "##51. Target Sum with +, -\n",
        "You want to build an expression out of nums by adding one of the symbols '+' and '-' before each integer in nums and then concatenate all the integers.\n",
        "\n",
        "nums = [1,1,1,1,1], target = 3\n",
        "Output: 5"
      ],
      "metadata": {
        "id": "kDwbKFvXRoQY"
      }
    },
    {
      "cell_type": "code",
      "source": [
        "#Explanation: There are 5 ways to assign symbols to make the sum of nums be target 3.\n",
        "# -1 + 1 + 1 + 1 + 1 = 3\n",
        "# +1 - 1 + 1 + 1 + 1 = 3\n",
        "# +1 + 1 - 1 + 1 + 1 = 3\n",
        "# +1 + 1 + 1 - 1 + 1 = 3\n",
        "# +1 + 1 + 1 + 1 - 1 = 3"
      ],
      "metadata": {
        "id": "HE1o1H27Ryxo"
      },
      "execution_count": null,
      "outputs": []
    },
    {
      "cell_type": "code",
      "source": [
        "#1) brute force solution: O(2^n): add or subtract it.\n",
        "#start with index 0 and total and compare to target in decision tree: hight n and 2 leafs each so 2^n"
      ],
      "metadata": {
        "id": "49RYi4zdR0aZ"
      },
      "execution_count": null,
      "outputs": []
    },
    {
      "cell_type": "code",
      "source": [
        "#(Index, Total), left add and right subtract\n",
        "# start                    (0,0)\n",
        "#          (1,1)                             (1,-1)\n",
        "#  (2,2)          (2,0)\n",
        "#              (3,1)\n",
        "#           (4,2)\n",
        "#         (5,3)\n",
        "#Tree of hight of n and 2 branches each time. so O(2^n)"
      ],
      "metadata": {
        "id": "4wXNt-AKaEAn"
      },
      "execution_count": null,
      "outputs": []
    },
    {
      "cell_type": "code",
      "source": [
        "#2) cashing\n",
        "#cashing: n numbers of index and max sum(nums) for total (index, total) = (n, sum(nums)) => O(n.T)"
      ],
      "metadata": {
        "id": "boFKcKMOaENX"
      },
      "execution_count": null,
      "outputs": []
    },
    {
      "cell_type": "code",
      "source": [
        "def findTargetSumWays(nums, target):\n",
        "    dp = {}\n",
        "    # (index, total) -> # of ways #hashmap for cashing\n",
        "\n",
        "    def backtrack(i, total):\n",
        "      #Recursive Function\n",
        "        if i == len(nums):\n",
        "          #end of array\n",
        "            return 1 if total == target else 0\n",
        "            #0 means this is not a way to reach the target\n",
        "\n",
        "        if (i, total) in dp: #already in cashe\n",
        "            return dp[(i, total)]\n",
        "\n",
        "        #recursive part: add value with index 1 (i+1, cur total + nums [i] )\n",
        "        #or subtract value with index 1 (i+1, total - nums [i] )\n",
        "        dp[(i, total)] = backtrack(i + 1, total + nums[i]) \\\n",
        "            + backtrack( i + 1, total - nums[i])\n",
        "        return dp[(i, total)]\n",
        "        #return result and completed recursive function\n",
        "\n",
        "    return backtrack(0, 0)\n",
        "    #call backtracking function with index 0 and total 0\n",
        "\n",
        "nums = [1,1,1,1,1]\n",
        "target = 3\n",
        "findTargetSumWays(nums, target)\n",
        "#Explanation: There are 5 ways to assign symbols to make the sum of nums be target 3.\n",
        "#Output: 5"
      ],
      "metadata": {
        "colab": {
          "base_uri": "https://localhost:8080/"
        },
        "id": "aBYlTJyKaEcg",
        "outputId": "2ff4fe2d-b4a6-4fba-b424-c4cc00db7977"
      },
      "execution_count": 1,
      "outputs": [
        {
          "output_type": "execute_result",
          "data": {
            "text/plain": [
              "5"
            ]
          },
          "metadata": {},
          "execution_count": 1
        }
      ]
    },
    {
      "cell_type": "markdown",
      "source": [
        "#Other"
      ],
      "metadata": {
        "id": "zf4SCBUfg24E"
      }
    },
    {
      "cell_type": "markdown",
      "source": [
        "##52. Variance"
      ],
      "metadata": {
        "id": "uMVwOjpwf9Po"
      }
    },
    {
      "cell_type": "code",
      "source": [
        "import numpy as np\n",
        "\n",
        "results = [-14.82381293, -0.29423447, -13.56067979, -1.6288903, -0.31632439,\n",
        "          0.53459687, -1.34069996, -1.61042692, -4.03220519, -0.24332097]\n",
        "\n",
        "print(np.var(results))\n",
        "print(np.mean(results))\n",
        "\n",
        "\n",
        "x_bar = sum(results) / len(results)\n",
        "s = 0\n",
        "variance = 0\n",
        "\n",
        "for num in results:\n",
        "    s = s + (num - x_bar) ** 2\n",
        "\n",
        "variance = s / len(results)\n",
        "variance"
      ],
      "metadata": {
        "colab": {
          "base_uri": "https://localhost:8080/"
        },
        "id": "xkt7ldjAf-jh",
        "outputId": "3ec1cca9-2c77-4a8c-ab6f-4612120d340b"
      },
      "execution_count": null,
      "outputs": [
        {
          "output_type": "stream",
          "name": "stdout",
          "text": [
            "28.822364260579157\n",
            "-3.7315998049999997\n"
          ]
        },
        {
          "output_type": "execute_result",
          "data": {
            "text/plain": [
              "28.822364260579157"
            ]
          },
          "metadata": {},
          "execution_count": 1
        }
      ]
    },
    {
      "cell_type": "markdown",
      "source": [
        "##53. Find POPUP\n",
        "Find POPUP, make all the sibling of POPUP to hidden\n",
        "\n",
        "Find out POPUP's parent, make all the sibling of parent to hidden"
      ],
      "metadata": {
        "id": "D0ATzx0WgIRO"
      }
    },
    {
      "cell_type": "code",
      "source": [
        "class Node:\n",
        "    def __init__(self, val, hidden=False):\n",
        "        self.is_hidden = hidden\n",
        "        self.children = []\n",
        "        self.val = val\n",
        "\n",
        "    def add_children(self, nodes):\n",
        "        self.children = nodes\n",
        "\n",
        "\n",
        "def mark_popup(root: Node):\n",
        "    def mark_nodes(node, parent):\n",
        "        for c in node.children:\n",
        "            if c.val != 'POPUP':\n",
        "                c.is_hidden = True\n",
        "                print(c.val)\n",
        "        if parent:\n",
        "            for pc in parent.children:\n",
        "                if pc.val != node.val:\n",
        "                    pc.is_hidden = True\n",
        "                    print(pc.val)\n",
        "\n",
        "    def find_popup(node: Node, parent: Node):\n",
        "        if node:\n",
        "            found = False\n",
        "            if node.val == \"POPUP\":\n",
        "                mark_nodes(node, None)\n",
        "                return\n",
        "            for c in node.children:\n",
        "                if c.val == \"POPUP\":\n",
        "                    found = True\n",
        "                    break\n",
        "                else:\n",
        "                    find_popup(c, node)\n",
        "            if found:\n",
        "                mark_nodes(node, parent)\n",
        "                return\n",
        "    find_popup(root, None)\n",
        "\n",
        "\n",
        "root = Node(\"ROOT\")\n",
        "B = Node(\"B\")\n",
        "C = Node(\"C\")\n",
        "D = Node(\"D\")\n",
        "root.add_children([B, C, D])\n",
        "\n",
        "F = Node(\"F\")\n",
        "G = Node(\"G\")\n",
        "POPUP = Node(\"POPUP\", True)\n",
        "\n",
        "B.add_children([F, G])\n",
        "I = Node(\"I\")\n",
        "J = Node(\"J\")\n",
        "K = Node(\"K\", True)\n",
        "\n",
        "D.add_children([POPUP, I, J, K])\n",
        "\n",
        "N = Node(\"N\")\n",
        "O = Node(\"O\")\n",
        "P = Node(\"P\", True)\n",
        "\n",
        "POPUP.add_children([N, O, P])\n",
        "mark_popup(root)"
      ],
      "metadata": {
        "colab": {
          "base_uri": "https://localhost:8080/"
        },
        "id": "7Q8uffu0gNmm",
        "outputId": "235453d8-1070-4c5b-8637-702897279577"
      },
      "execution_count": null,
      "outputs": [
        {
          "output_type": "stream",
          "name": "stdout",
          "text": [
            "I\n",
            "J\n",
            "K\n",
            "B\n",
            "C\n"
          ]
        }
      ]
    },
    {
      "cell_type": "markdown",
      "source": [
        "##54. Given an input list of names, for each name, find the shortest substring that only appears in that name."
      ],
      "metadata": {
        "id": "BY7NU3LGgSzJ"
      }
    },
    {
      "cell_type": "code",
      "source": [
        "def find_shortest_unique_substring(names):\n",
        "    result = {}\n",
        "\n",
        "    for i, name in enumerate(names):\n",
        "        other_names = names[:i] + names[i+1:]\n",
        "        shortest_substring = None\n",
        "\n",
        "        for j in range(len(name)):\n",
        "            for k in range(j + 1, len(name) + 1):\n",
        "                substring = name[j:k]\n",
        "\n",
        "                found_in_other_names = \\\n",
        "                any(substring in other_name for other_name in other_names)\n",
        "\n",
        "                if not found_in_other_names \\\n",
        "                and (shortest_substring is None \\\n",
        "                     or len(substring) < len(shortest_substring)):\n",
        "                    shortest_substring = substring\n",
        "\n",
        "        result[name] = shortest_substring\n",
        "\n",
        "    return result\n",
        "\n",
        "names = [\"cheapair\", \"cheapoair\", \"peloton\", \"pelican\"]\n",
        "output = find_shortest_unique_substring(names)\n",
        "\n",
        "for name, substring in output.items():\n",
        "    print(f'\"{name}\": \"{substring}\"')\n",
        "#Input: [\"cheapair\", \"cheapoair\", \"peloton\", \"pelican\"]\n",
        "#Output:\n",
        "#\"cheapair\": \"pa\"  // every other 1-2 length substring overlaps with cheapoair\n",
        "#\"cheapoair\": \"po\" // \"oa\" would also be acceptable\n",
        "#\"pelican\": \"ca\"   // \"li\", \"ic\", or \"an\" would also be acceptable\n",
        "#\"peloton\": \"t\"    // this single letter doesn't occur in any other string"
      ],
      "metadata": {
        "colab": {
          "base_uri": "https://localhost:8080/"
        },
        "id": "fNhcKjtngZWL",
        "outputId": "7feeb3de-3838-4caf-99b2-4165f64b0041"
      },
      "execution_count": null,
      "outputs": [
        {
          "output_type": "stream",
          "name": "stdout",
          "text": [
            "\"cheapair\": \"pa\"\n",
            "\"cheapoair\": \"po\"\n",
            "\"peloton\": \"t\"\n",
            "\"pelican\": \"li\"\n"
          ]
        }
      ]
    },
    {
      "cell_type": "markdown",
      "source": [
        "##55. Card Game"
      ],
      "metadata": {
        "id": "oC0A1gFpgbov"
      }
    },
    {
      "cell_type": "code",
      "source": [
        "import random\n",
        "\n",
        "class Card:\n",
        "    def __init__(self, rank, suit):\n",
        "        self.rank = rank\n",
        "        self.suit = suit\n",
        "\n",
        "class Deck:\n",
        "    def __init__(self):\n",
        "        self.suits = ['Hearts', 'Diamonds', 'Clubs', 'Spades']\n",
        "        self.ranks = ['2', '3', '4', '5', '6', '7', '8', '9', '10', 'Jack', 'Queen', 'King', 'Ace']\n",
        "        self.cards = [Card(rank, suit) for suit in self.suits for rank in self.ranks]\n",
        "        random.shuffle(self.cards)\n",
        "\n",
        "    def draw_card(self):\n",
        "        return self.cards.pop()\n",
        "\n",
        "class Player:\n",
        "    def __init__(self, name):\n",
        "        self.name = name\n",
        "        self.pile = []\n",
        "\n",
        "class CardGame:\n",
        "    def __init__(self, player1, player2):\n",
        "        self.deck = Deck()\n",
        "        self.player1 = player1\n",
        "        self.player2 = player2\n",
        "\n",
        "    def play_round(self):\n",
        "        player1_card = self.deck.draw_card()\n",
        "        player2_card = self.deck.draw_card()\n",
        "\n",
        "        print(f\"{self.player1.name}: {player1_card.rank} of {player1_card.suit}   {self.player2.name}: {player2_card.rank} of {player2_card.suit}\")\n",
        "\n",
        "        if self.player1_card_beats(player1_card, player2_card):\n",
        "            print(f\"{self.player1.name} wins this round!\\n\")\n",
        "            self.player1.pile.extend([player1_card, player2_card])\n",
        "        elif self.player1_card_beats(player2_card, player1_card):\n",
        "            print(f\"{self.player2.name} wins this round!\\n\")\n",
        "            self.player2.pile.extend([player1_card, player2_card])\n",
        "        else:\n",
        "            print(\"It's a tie! Cards go to no one.\\n\")\n",
        "            self.player1.pile.append(player1_card)\n",
        "            self.player2.pile.append(player2_card)\n",
        "\n",
        "    def player1_card_beats(self, card1, card2):\n",
        "        return self.deck.ranks.index(card1.rank) > self.deck.ranks.index(card2.rank)\n",
        "\n",
        "    def play_game(self):\n",
        "        while self.deck.cards:\n",
        "            self.play_round()\n",
        "\n",
        "        print(\"Game Over!\\n\")\n",
        "\n",
        "        print(f\"{self.player1.name} score: {len(self.player1.pile)}\")\n",
        "        print(f\"{self.player2.name} score: {len(self.player2.pile)}\")\n",
        "\n",
        "        if len(self.player1.pile) > len(self.player2.pile):\n",
        "            print(f\"{self.player1.name} wins!\")\n",
        "        elif len(self.player1.pile) < len(self.player2.pile):\n",
        "            print(f\"{self.player2.name} wins!\")\n",
        "        else:\n",
        "            print(\"It's a tie!\")\n",
        "\n",
        "if __name__ == \"__main__\":\n",
        "    player1 = Player(\"Player A\")\n",
        "    player2 = Player(\"Player B\")\n",
        "    card_game = CardGame(player1, player2)\n",
        "    card_game.play_game()"
      ],
      "metadata": {
        "colab": {
          "base_uri": "https://localhost:8080/"
        },
        "id": "i7PXFlr-gdDu",
        "outputId": "3b7777ed-3d62-4ee3-d3f0-23ed89b8e2ff"
      },
      "execution_count": null,
      "outputs": [
        {
          "output_type": "stream",
          "name": "stdout",
          "text": [
            "Player A: 8 of Spades   Player B: 3 of Spades\n",
            "Player A wins this round!\n",
            "\n",
            "Player A: 4 of Hearts   Player B: 10 of Hearts\n",
            "Player B wins this round!\n",
            "\n",
            "Player A: Ace of Hearts   Player B: Ace of Spades\n",
            "It's a tie! Cards go to no one.\n",
            "\n",
            "Player A: 10 of Diamonds   Player B: 6 of Hearts\n",
            "Player A wins this round!\n",
            "\n",
            "Player A: 10 of Clubs   Player B: 5 of Spades\n",
            "Player A wins this round!\n",
            "\n",
            "Player A: King of Clubs   Player B: 6 of Spades\n",
            "Player A wins this round!\n",
            "\n",
            "Player A: 9 of Spades   Player B: King of Diamonds\n",
            "Player B wins this round!\n",
            "\n",
            "Player A: 10 of Spades   Player B: Jack of Hearts\n",
            "Player B wins this round!\n",
            "\n",
            "Player A: 8 of Clubs   Player B: 4 of Diamonds\n",
            "Player A wins this round!\n",
            "\n",
            "Player A: 2 of Diamonds   Player B: 5 of Diamonds\n",
            "Player B wins this round!\n",
            "\n",
            "Player A: 4 of Spades   Player B: 4 of Clubs\n",
            "It's a tie! Cards go to no one.\n",
            "\n",
            "Player A: 6 of Diamonds   Player B: 2 of Hearts\n",
            "Player A wins this round!\n",
            "\n",
            "Player A: Queen of Clubs   Player B: 9 of Hearts\n",
            "Player A wins this round!\n",
            "\n",
            "Player A: 7 of Spades   Player B: Queen of Spades\n",
            "Player B wins this round!\n",
            "\n",
            "Player A: 6 of Clubs   Player B: 3 of Diamonds\n",
            "Player A wins this round!\n",
            "\n",
            "Player A: Jack of Spades   Player B: Jack of Clubs\n",
            "It's a tie! Cards go to no one.\n",
            "\n",
            "Player A: 8 of Diamonds   Player B: 3 of Hearts\n",
            "Player A wins this round!\n",
            "\n",
            "Player A: 9 of Diamonds   Player B: Jack of Diamonds\n",
            "Player B wins this round!\n",
            "\n",
            "Player A: Queen of Diamonds   Player B: Ace of Clubs\n",
            "Player B wins this round!\n",
            "\n",
            "Player A: 5 of Clubs   Player B: 5 of Hearts\n",
            "It's a tie! Cards go to no one.\n",
            "\n",
            "Player A: 2 of Spades   Player B: 7 of Clubs\n",
            "Player B wins this round!\n",
            "\n",
            "Player A: 8 of Hearts   Player B: King of Hearts\n",
            "Player B wins this round!\n",
            "\n",
            "Player A: Queen of Hearts   Player B: King of Spades\n",
            "Player B wins this round!\n",
            "\n",
            "Player A: Ace of Diamonds   Player B: 7 of Hearts\n",
            "Player A wins this round!\n",
            "\n",
            "Player A: 7 of Diamonds   Player B: 9 of Clubs\n",
            "Player B wins this round!\n",
            "\n",
            "Player A: 2 of Clubs   Player B: 3 of Clubs\n",
            "Player B wins this round!\n",
            "\n",
            "Game Over!\n",
            "\n",
            "Player A score: 24\n",
            "Player B score: 28\n",
            "Player B wins!\n"
          ]
        }
      ]
    },
    {
      "cell_type": "markdown",
      "source": [
        "##56. Flatten String\n",
        "Remove brackets"
      ],
      "metadata": {
        "id": "yrMOSp3XgsuO"
      }
    },
    {
      "cell_type": "code",
      "source": [
        "def flatten(S):\n",
        "    if S == []:\n",
        "        return S\n",
        "    if isinstance(S[0], list):\n",
        "        return flatten(S[0]) + flatten(S[1:])\n",
        "    return S[:1] + flatten(S[1:])\n",
        "\n",
        "flatten([[[[]]], [], [[]], [[], []]])\n",
        "# empty multidimensional list\n",
        "flatten([[1], [2, 3], [4, [5, [6, [7, [8]]]]]])\n",
        "# multiple nested list"
      ],
      "metadata": {
        "colab": {
          "base_uri": "https://localhost:8080/"
        },
        "id": "mJDewryfgvbu",
        "outputId": "4d3458d1-189f-4969-a30f-46e2e85ae7c1"
      },
      "execution_count": null,
      "outputs": [
        {
          "output_type": "execute_result",
          "data": {
            "text/plain": [
              "[1, 2, 3, 4, 5, 6, 7, 8]"
            ]
          },
          "metadata": {},
          "execution_count": 5
        }
      ]
    },
    {
      "cell_type": "markdown",
      "source": [
        "##57. Product Subarray Less Than key\n",
        "47. Maximum Product Subarray (return number)\n",
        "\n",
        "nums = [1, 2, 3, 4]\n",
        "\n",
        "target = 10\n",
        "\n",
        "The subarrays are {1}, {2}, {3}, {4}, {1, 2}, {1, 2, 3} and {2, 3}\n",
        "\n",
        "Output : 7"
      ],
      "metadata": {
        "id": "cN3ZUCUgNLyy"
      }
    },
    {
      "cell_type": "code",
      "source": [
        "def count_subarrays_with_product_less_than_k(arr, target):\n",
        "    if not arr or target <= 1:\n",
        "        return 0\n",
        "\n",
        "    count = 0\n",
        "    product = 1\n",
        "    left = 0\n",
        "\n",
        "    for n in range(len(arr)):\n",
        "        product *= arr[n]\n",
        "\n",
        "        while product >= target:\n",
        "            product /= arr[left]\n",
        "            left += 1\n",
        "\n",
        "        count += n - left + 1\n",
        "\n",
        "    return count\n",
        "\n",
        "\n",
        "nums = [1,2,3,4]\n",
        "target = 10\n",
        "count_subarrays_with_product_less_than_k(nums, target)\n",
        "\n",
        "#The subarrays are {1}, {2}, {3}, {4}, {1, 2}, {1, 2, 3} and {2, 3}\n",
        "#Output : 7"
      ],
      "metadata": {
        "colab": {
          "base_uri": "https://localhost:8080/"
        },
        "id": "vJQ15EzhNTkm",
        "outputId": "32154644-fb21-4f20-dd23-28cab5f48448"
      },
      "execution_count": 7,
      "outputs": [
        {
          "output_type": "execute_result",
          "data": {
            "text/plain": [
              "7"
            ]
          },
          "metadata": {},
          "execution_count": 7
        }
      ]
    },
    {
      "cell_type": "markdown",
      "source": [
        "##58. Given a string S, find the length of the smallest subsequence that it is not a prime number\n",
        "\n",
        "S = “237”, Output: 2\n",
        "\n",
        "There are 7 non empty subsequence {“2”, “3”, “7”, “23”, “27”, “37”, “237”}.\n",
        "\n",
        "two subsequence that are not prime,\n",
        "\n",
        "i.e., 27 and 237. Thus as 27 has a length of 2. So print 2."
      ],
      "metadata": {
        "id": "vNJtfOQ6sXjF"
      }
    },
    {
      "cell_type": "code",
      "source": [
        "def is_prime(num):\n",
        "    if num < 2:\n",
        "        return False\n",
        "    for i in range(2, int(num**0.5) + 1):\n",
        "        if num % i == 0:\n",
        "            return False\n",
        "    return True\n",
        "\n",
        "def find_smallest_non_prime_subsequence_length(S):\n",
        "    n = len(S)\n",
        "    result = float('inf')\n",
        "\n",
        "    for i in range(1, 1 << n):\n",
        "        subsequence = ''\n",
        "        for j in range(n):\n",
        "            if (i >> j) & 1:\n",
        "                subsequence += S[j]\n",
        "\n",
        "        subsequence_length = len(subsequence)\n",
        "        if not is_prime(int(subsequence)) and subsequence_length < result:\n",
        "            result = subsequence_length\n",
        "\n",
        "    return result\n",
        "\n",
        "\n",
        "S = \"237\"\n",
        "find_smallest_non_prime_subsequence_length(S)\n",
        "#Output: 2"
      ],
      "metadata": {
        "colab": {
          "base_uri": "https://localhost:8080/"
        },
        "id": "lNQDKoO8sojp",
        "outputId": "e0ba418a-0a58-447a-f2b8-6089f86ed252"
      },
      "execution_count": 8,
      "outputs": [
        {
          "output_type": "execute_result",
          "data": {
            "text/plain": [
              "2"
            ]
          },
          "metadata": {},
          "execution_count": 8
        }
      ]
    },
    {
      "cell_type": "code",
      "source": [
        "S=\"4444\"\n",
        "find_smallest_non_prime_subsequence_length(S)"
      ],
      "metadata": {
        "colab": {
          "base_uri": "https://localhost:8080/"
        },
        "id": "Lt9lbE9Dsr1C",
        "outputId": "097c7a25-0c94-4da6-c0b0-3802a69137b2"
      },
      "execution_count": null,
      "outputs": [
        {
          "output_type": "execute_result",
          "data": {
            "text/plain": [
              "1"
            ]
          },
          "metadata": {},
          "execution_count": 33
        }
      ]
    },
    {
      "cell_type": "markdown",
      "source": [
        "##59. Sum Implementation in Python"
      ],
      "metadata": {
        "id": "gn4Vuvq7v7bb"
      }
    },
    {
      "cell_type": "code",
      "source": [
        "def add(a, b):\n",
        "    # for loop will start from 1 and move till the value of second number ,\n",
        "    # first number(a) is incremented in for loop\n",
        "    for i in range(1, b + 1):\n",
        "        a = a + 1\n",
        "    return a\n",
        "\n",
        "add(10, 32)"
      ],
      "metadata": {
        "colab": {
          "base_uri": "https://localhost:8080/"
        },
        "id": "peErf1nIktuX",
        "outputId": "11ff7965-3ad9-48d2-c7da-76e13bae3333"
      },
      "execution_count": 10,
      "outputs": [
        {
          "output_type": "execute_result",
          "data": {
            "text/plain": [
              "42"
            ]
          },
          "metadata": {},
          "execution_count": 10
        }
      ]
    },
    {
      "cell_type": "markdown",
      "source": [
        "##60. Feature Generation"
      ],
      "metadata": {
        "id": "ScqeFWPswA_H"
      }
    },
    {
      "cell_type": "code",
      "source": [
        "example_schema = [\n",
        "    {'type': 'id', 'name': 'user_id'},\n",
        "    {'type': 'date', 'name': 'loan_application_date', 'date_format': '%m/%d/%Y'},\n",
        "    {'type': 'str', 'name': 'category_one'},\n",
        "    {'type': 'float', 'name': 'numerical_field_one'},\n",
        "    {'type': 'int', 'name': 'numerical_field_two'},\n",
        "    {'type': 'bool', 'name': 'bool_field_one'},\n",
        "    {'type': 'datetime', 'name': 'previous_event_date_1', 'date_format': '%m/%d/%Y %H:%M'},\n",
        "]\n",
        "\n",
        "example_training_data = [\n",
        "    [123, \"12/1/2015\", \"a\", 1000.0, 13, True, \"2/1/2001 13:45\"],\n",
        "    [124, \"6/11/2016\", \"b\", 3500.0, 8, False, \"4/13/2010 22:34\"],\n",
        "    [125, \"10/12/2017\", \"c\", 1200.0, 0, False, \"7/1/2012 15:08\"],\n",
        "    [126, \"11/10/2015\", \"a\", 11000.0, 153, True, \"12/10/1994 02:14\"],\n",
        "    [127, \"7/5/2016\", \"c\", 150.0, 55, True, \"9/3/2004 19:55\"],\n",
        "]\n",
        "\n",
        "example_label_data = [\n",
        "\n",
        "[123, True],\n",
        "[124, False],\n",
        "[126, False],\n",
        "[127, True]\n",
        "]\n",
        "\n",
        "import pandas as pd\n",
        "from sklearn.preprocessing import OneHotEncoder\n",
        "from sklearn.compose import ColumnTransformer\n",
        "\n",
        "def prepare_data(example_schema, example_training_data, example_label_data):\n",
        "    # Create a DataFrame for training data\n",
        "    df_train = pd.DataFrame(example_training_data, columns=[field['name'] for field in example_schema])\n",
        "\n",
        "    # Create a DataFrame for label data\n",
        "    df_label = pd.DataFrame(example_label_data, columns=['user_id', 'label'])\n",
        "\n",
        "    # Find the most common label value\n",
        "    most_common_label = df_label['label'].mode().iloc[0]\n",
        "\n",
        "    # Merge training data with label data based on user_id\n",
        "    df_merged = pd.merge(df_train, df_label, on='user_id', how='left')\n",
        "\n",
        "    # Replace missing label data with the most common label\n",
        "    df_merged['label'].fillna(most_common_label, inplace=True)\n",
        "\n",
        "    # Extract features and labels\n",
        "    X = df_merged.drop(['user_id', 'label'], axis=1)\n",
        "    y = df_merged['label']\n",
        "\n",
        "    #label LabelEncoder\n",
        "    label_encoder_label = LabelEncoder()\n",
        "    y = label_encoder_label.fit_transform(y)\n",
        "    y = pd.DataFrame(y)\n",
        "\n",
        "    # Label encode boolean features\n",
        "    bool_features = [field['name'] for field in example_schema if field['type'] == 'bool']\n",
        "    label_encoder = LabelEncoder()\n",
        "    for feature in bool_features:\n",
        "        X[feature] = label_encoder.fit_transform(X[feature])\n",
        "\n",
        "    # One-hot encode categorical variables\n",
        "    categorical_features = [field['name'] for field in example_schema if field['type'] == 'str']\n",
        "    transformer = ColumnTransformer(\n",
        "        transformers=[('onehot', OneHotEncoder(), categorical_features)],\n",
        "        remainder='passthrough'\n",
        "    )\n",
        "\n",
        "    X_encoded = transformer.fit_transform(X)\n",
        "\n",
        "    # Combine encoded features with labels and user_id\n",
        "    result_data = pd.concat([df_merged['user_id'], pd.DataFrame(X_encoded), y], axis=1)\n",
        "\n",
        "    return result_data.values.tolist()\n",
        "\n",
        "# Example usage\n",
        "result_data = prepare_data(example_schema, example_training_data, example_label_data)\n",
        "print(result_data)"
      ],
      "metadata": {
        "colab": {
          "base_uri": "https://localhost:8080/"
        },
        "id": "kEsjiRdaTaFW",
        "outputId": "3c31ab67-4fec-4ab1-85c3-333c4bebe60b"
      },
      "execution_count": null,
      "outputs": [
        {
          "output_type": "stream",
          "name": "stdout",
          "text": [
            "[[123, 1.0, 0.0, 0.0, '12/1/2015', 1000.0, 13, 1, '2/1/2001 13:45', 1], [124, 0.0, 1.0, 0.0, '6/11/2016', 3500.0, 8, 0, '4/13/2010 22:34', 0], [125, 0.0, 0.0, 1.0, '10/12/2017', 1200.0, 0, 0, '7/1/2012 15:08', 0], [126, 1.0, 0.0, 0.0, '11/10/2015', 11000.0, 153, 1, '12/10/1994 02:14', 0], [127, 0.0, 0.0, 1.0, '7/5/2016', 150.0, 55, 1, '9/3/2004 19:55', 1]]\n"
          ]
        }
      ]
    },
    {
      "cell_type": "code",
      "source": [
        " #[123, \"12/1/2015\", \"a\", 1000.0, 13, True, \"2/1/2001 13:45\"],T\n",
        " #[124, \"6/11/2016\", \"b\", 3500.0, 8, False, \"4/13/2010 22:34\"],F\n",
        " #[125, \"10/12/2017\", \"c\", 1200.0, 0, False, \"7/1/2012 15:08\"],\n",
        " #[126, \"11/10/2015\", \"a\", 11000.0, 153, True, \"12/10/1994 02:14\"],F\n",
        " #[127, \"7/5/2016\", \"c\", 150.0, 55, True, \"9/3/2004 19:55\"],T\n",
        "\n",
        "\n",
        "#[\n",
        "#[123, 1.0, 0.0, 0.0, '12/1/2015', 1000.0, 13, 1, '2/1/2001 13:45', 1],\n",
        "#[124, 0.0, 1.0, 0.0, '6/11/2016', 3500.0, 8, 0, '4/13/2010 22:34', 0],\n",
        "#[125, 0.0, 0.0, 1.0, '10/12/2017', 1200.0, 0, 0, '7/1/2012 15:08', 0],\n",
        "#[126, 1.0, 0.0, 0.0, '11/10/2015', 11000.0, 153, 1, '12/10/1994 02:14', 0],\n",
        "#[127, 0.0, 0.0, 1.0, '7/5/2016', 150.0, 55, 1, '9/3/2004 19:55', 1]\n",
        "#]"
      ],
      "metadata": {
        "id": "6IJt01kGTgyn"
      },
      "execution_count": null,
      "outputs": []
    },
    {
      "cell_type": "markdown",
      "source": [
        "#61. groupby"
      ],
      "metadata": {
        "id": "QSGroJbqw2oW"
      }
    },
    {
      "cell_type": "code",
      "source": [
        "# your answer here\n",
        "import pandas as pd\n",
        "import numpy as np\n",
        "data = \"data.csv\"\n",
        "data = pd.read_csv(data, encoding = \"latin-1\")\n",
        "\n",
        "#1) output the group means per categorical_column value\n",
        "x = data.groupby('categorical_column').agg(target_mean=('target', 'mean'))\n",
        "x\n",
        "\n",
        "\n",
        "\n",
        "new = data.merge(x,on='categorical_column',how='inner')\n",
        "new.columns = [\"categorical_column\", \"target\", \"categorical_encoded\"]\n",
        "new\n",
        "#Data Leakdage (avoid)\n",
        "\n",
        "\n",
        "\n",
        "\n",
        "\n",
        "#SQL in python\n",
        "!pip install pandasql\n",
        "!pip install SQLAlchemy==1.4.40\n",
        "\n",
        "# your answers here\n",
        "# how many rows are in the dataframe? how is median defined?\n",
        "\n",
        "query = '''\n",
        "select * from (\n",
        "select target, row_number() over (order by target DESC) as row_num\n",
        "from data\n",
        ") cll\n",
        "where cll.row_num = 225\n",
        "\n",
        "'''\n",
        "\n",
        "import pandasql as ps\n",
        "\n",
        "ps.sqldf(query)\n",
        "\n",
        "#target\trow_num\n",
        "#0\t22.0\t225\n"
      ],
      "metadata": {
        "id": "iQGAxFcKxu40"
      },
      "execution_count": null,
      "outputs": []
    },
    {
      "cell_type": "markdown",
      "source": [
        "#62. Stratified split of data"
      ],
      "metadata": {
        "id": "WZyIm-ZUw6ZD"
      }
    },
    {
      "cell_type": "code",
      "source": [
        "import numpy as np\n",
        "from sklearn.model_selection import train_test_split\n",
        "\n",
        "def stratified_split(X, y, test_size=0.2, random_state=None):\n",
        "    \"\"\"\n",
        "    Stratified split of data into train and test sets.\n",
        "\n",
        "    Parameters:\n",
        "    X : array-like, shape (n_samples, n_features)\n",
        "        Input features.\n",
        "    y : array-like, shape (n_samples,)\n",
        "        Target variable.\n",
        "    test_size : float, optional (default=0.2)\n",
        "        The proportion of the dataset to include in the test split.\n",
        "    random_state : int, RandomState instance, default=None\n",
        "        Controls the randomness of the data splitting.\n",
        "\n",
        "    Returns:\n",
        "    X_train, X_test, y_train, y_test : arrays\n",
        "        Split arrays representing train-test split of input data.\n",
        "    \"\"\"\n",
        "    # Ensure consistent random state\n",
        "    np.random.seed(random_state)\n",
        "\n",
        "    # Determine unique classes in target variable\n",
        "    classes = np.unique(y)\n",
        "\n",
        "    # Initialize lists to store indices for train and test sets\n",
        "    train_indices = []\n",
        "    test_indices = []\n",
        "\n",
        "    # Split data for each class separately\n",
        "    for class_ in classes:\n",
        "        # Get indices for instances of the current class\n",
        "        class_indices = np.where(y == class_)[0]\n",
        "\n",
        "        # Split the indices into train and test sets\n",
        "        class_train_indices, class_test_indices = train_test_split(class_indices, test_size=test_size, random_state=random_state)\n",
        "\n",
        "        # Append class-specific indices to overall train and test indices\n",
        "        train_indices.extend(class_train_indices)\n",
        "        test_indices.extend(class_test_indices)\n",
        "\n",
        "    # Shuffle indices to ensure randomness\n",
        "    np.random.shuffle(train_indices)\n",
        "    np.random.shuffle(test_indices)\n",
        "\n",
        "    # Split data based on indices\n",
        "    X_train, X_test = X[train_indices], X[test_indices]\n",
        "    y_train, y_test = y[train_indices], y[test_indices]\n",
        "\n",
        "    return X_train, X_test, y_train, y_test\n",
        "\n",
        "# Example usage:\n",
        "# X_train, X_test, y_train, y_test = stratified_split(X, y, test_size=0.2, random_state=42)\n"
      ],
      "metadata": {
        "id": "HaewcvypxAs8"
      },
      "execution_count": null,
      "outputs": []
    }
  ]
}