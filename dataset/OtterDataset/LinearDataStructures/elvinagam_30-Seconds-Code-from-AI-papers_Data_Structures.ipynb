{
  "nbformat": 4,
  "nbformat_minor": 0,
  "metadata": {
    "colab": {
      "provenance": [],
      "toc_visible": true
    },
    "kernelspec": {
      "name": "python3",
      "display_name": "Python 3"
    },
    "language_info": {
      "name": "python"
    }
  },
  "cells": [
    {
      "cell_type": "markdown",
      "source": [
        "## Arrays"
      ],
      "metadata": {
        "id": "sVHy_aGHRgZA"
      }
    },
    {
      "cell_type": "markdown",
      "source": [
        "### Dynamic resizing"
      ],
      "metadata": {
        "id": "oGwGTz4IUJjZ"
      }
    },
    {
      "cell_type": "markdown",
      "source": [
        "The size of an array in memory can increase in chunks due to the way memory allocation works in many programming languages and operating systems. When an array is allocated in memory, it typically occupies a contiguous block of memory locations. The size of this block of memory is determined by the size of the array and the data type of its elements.\n",
        "\n",
        "This process of resizing an array in chunks, also known as **dynamic array resizing** or resizing in chunks, helps manage memory efficiently. By allocating memory in larger chunks, the overhead of memory allocation and deallocation can be reduced, as compared to resizing the array element by element. It also helps reduce **memory fragmentation**, which is a phenomenon where memory becomes scattered in small chunks over time, leading to inefficient memory usage."
      ],
      "metadata": {
        "id": "VrlExDQsVWTm"
      }
    },
    {
      "cell_type": "code",
      "execution_count": null,
      "metadata": {
        "colab": {
          "base_uri": "https://localhost:8080/"
        },
        "id": "ZZ80ZYeiRdJ_",
        "outputId": "6070720d-f46e-44f3-eabd-0e7305d5c9a2"
      },
      "outputs": [
        {
          "output_type": "stream",
          "name": "stdout",
          "text": [
            "Size of array after 0th element is added: 56\n",
            "Size of array after 1th element is added: 88\n",
            "Size of array after 2th element is added: 88\n",
            "Size of array after 3th element is added: 88\n",
            "Size of array after 4th element is added: 88\n",
            "Size of array after 5th element is added: 120\n",
            "Size of array after 6th element is added: 120\n",
            "Size of array after 7th element is added: 120\n",
            "Size of array after 8th element is added: 120\n",
            "Size of array after 9th element is added: 184\n",
            "Size of array after 10th element is added: 184\n",
            "Size of array after 11th element is added: 184\n",
            "Size of array after 12th element is added: 184\n",
            "Size of array after 13th element is added: 184\n",
            "Size of array after 14th element is added: 184\n",
            "Size of array after 15th element is added: 184\n",
            "Size of array after 16th element is added: 184\n",
            "Size of array after 17th element is added: 248\n",
            "Size of array after 18th element is added: 248\n",
            "Size of array after 19th element is added: 248\n",
            "Size of array after 20th element is added: 248\n",
            "Size of array after 21th element is added: 248\n",
            "Size of array after 22th element is added: 248\n",
            "Size of array after 23th element is added: 248\n",
            "Size of array after 24th element is added: 248\n",
            "Size of array after 25th element is added: 312\n",
            "Size of array after 26th element is added: 312\n",
            "Size of array after 27th element is added: 312\n",
            "Size of array after 28th element is added: 312\n",
            "Size of array after 29th element is added: 312\n",
            "Size of array after 30th element is added: 312\n",
            "Size of array after 31th element is added: 312\n",
            "Size of array after 32th element is added: 312\n",
            "Size of array after 33th element is added: 376\n",
            "Size of array after 34th element is added: 376\n",
            "Size of array after 35th element is added: 376\n",
            "Size of array after 36th element is added: 376\n",
            "Size of array after 37th element is added: 376\n",
            "Size of array after 38th element is added: 376\n",
            "Size of array after 39th element is added: 376\n",
            "Size of array after 40th element is added: 376\n",
            "Size of array after 41th element is added: 472\n",
            "Size of array after 42th element is added: 472\n",
            "Size of array after 43th element is added: 472\n",
            "Size of array after 44th element is added: 472\n",
            "Size of array after 45th element is added: 472\n",
            "Size of array after 46th element is added: 472\n",
            "Size of array after 47th element is added: 472\n",
            "Size of array after 48th element is added: 472\n",
            "Size of array after 49th element is added: 472\n"
          ]
        }
      ],
      "source": [
        "import sys\n",
        "\n",
        "array = []\n",
        "for item in range(50):\n",
        "  print(f\"Size of array after {item}th element is added: {sys.getsizeof(array)}\")\n",
        "  array.append(item)"
      ]
    },
    {
      "cell_type": "markdown",
      "source": [
        "### Anagram Check"
      ],
      "metadata": {
        "id": "EiYmTXWqXpwM"
      }
    },
    {
      "cell_type": "code",
      "source": [
        "from typing import DefaultDict\n",
        "def anagram_check(word1, word2):\n",
        "  \"\"\"Checks whether 2nd string can be written with the letters of 1st one\"\"\"\n",
        "\n",
        "  is_anagram = True\n",
        "  freq_letters = DefaultDict(int)\n",
        "  # store frequency of letters in dictionary\n",
        "  #  if frequency of added letters is not even, not anagram\n",
        "\n",
        "  word1 = word1.lower().replace(\" \", \"\")\n",
        "  word2 = word2.lower().replace(\" \", \"\")\n",
        "\n",
        "  if len(word1) != len(word2):\n",
        "    return not is_anagram\n",
        "\n",
        "  for letter in word1 + word2:\n",
        "    freq_letters[letter] += 1\n",
        "  for k, v in freq_letters.items():\n",
        "    if v % 2 != 0:\n",
        "      # print(\"False\")\n",
        "      is_anagram = False\n",
        "  return is_anagram\n",
        "\n",
        "# test\n",
        "word = \"public relations \"\n",
        "drow = \"crap built on lies\"\n",
        "print(anagram_check(word, drow))"
      ],
      "metadata": {
        "colab": {
          "base_uri": "https://localhost:8080/"
        },
        "id": "iApCx20vT9tu",
        "outputId": "c7096fb5-8c6a-4513-d5c9-d0a8fba69cfe"
      },
      "execution_count": null,
      "outputs": [
        {
          "output_type": "stream",
          "name": "stdout",
          "text": [
            "True\n"
          ]
        }
      ]
    },
    {
      "cell_type": "markdown",
      "source": [
        "### Pairsum"
      ],
      "metadata": {
        "id": "-ptuVtVsdE4c"
      }
    },
    {
      "cell_type": "code",
      "source": [
        "def pairsum(arr, k):\n",
        "  \"\"\"Finds pairs which adds up to k\"\"\"\n",
        "\n",
        "  seen = set()\n",
        "  output = set()\n",
        "  # add elements to seen set which does not have subtract of target\n",
        "  for element in arr:\n",
        "    target = k - element\n",
        "    if target not in seen:\n",
        "      seen.add(element)\n",
        "    else:\n",
        "      # if we see subtract of target in seen, then return it\n",
        "      output.add((min(target, element), max(element, target)))\n",
        "  return f'{len(output)} such pairs exists: {output}'\n",
        "\n",
        "arr = [1, 2, 3, 4, 5]\n",
        "k = 7\n",
        "\n",
        "print(pairsum(arr, k))"
      ],
      "metadata": {
        "colab": {
          "base_uri": "https://localhost:8080/"
        },
        "id": "hX0BQ6vFYRc1",
        "outputId": "da381234-b45d-409b-ed8e-132c449f15f4"
      },
      "execution_count": null,
      "outputs": [
        {
          "output_type": "stream",
          "name": "stdout",
          "text": [
            "2 such pairs exists: {(2, 5), (3, 4)}\n"
          ]
        }
      ]
    },
    {
      "cell_type": "markdown",
      "source": [
        "### Find missing element"
      ],
      "metadata": {
        "id": "EPLAYV1wlvLz"
      }
    },
    {
      "cell_type": "code",
      "source": [
        "def find_missing(arr_1, arr_2):\n",
        "  \"\"\"Finds missing element from the second array given first\"\"\"\n",
        "\n",
        "  missing = set()\n",
        "  count_element = {}\n",
        "\n",
        "  for element in arr_1:\n",
        "    if element not in count_element:\n",
        "      count_element[element] = 1\n",
        "    else:\n",
        "      count_element[element] += 1\n",
        "  for element in arr_2:\n",
        "    if element not in count_element:\n",
        "      count_element[element] = 1\n",
        "    else:\n",
        "      count_element[element] -= 1\n",
        "\n",
        "  return [k for k, v in count_element.items() if v == 1 ]\n",
        "\n",
        "def creepy_missing_xor(arr_1, ar_2):\n",
        "  result = 0\n",
        "  for element in arr_1 + arr_2:\n",
        "    result ^= element\n",
        "  return result\n",
        "# Test\n",
        "arr_1 = [1, 2, 3, 4, 5, 5, 5]\n",
        "arr_2 = [1, 2, 3, 4, 5, 5]\n",
        "\n",
        "print(find_missing(arr_1, arr_2))\n",
        "# print(creepy_missing_xor(arr_1, arr_2))"
      ],
      "metadata": {
        "id": "WskXodPedpEC",
        "colab": {
          "base_uri": "https://localhost:8080/"
        },
        "outputId": "90044140-bf35-4613-ede5-ec187040c8e5"
      },
      "execution_count": null,
      "outputs": [
        {
          "output_type": "stream",
          "name": "stdout",
          "text": [
            "[5]\n"
          ]
        }
      ]
    },
    {
      "cell_type": "markdown",
      "source": [
        "### Largest continous sum of elements in an array"
      ],
      "metadata": {
        "id": "azz2L1C8pH2q"
      }
    },
    {
      "cell_type": "code",
      "source": [
        "def largest_continuous_sum(arr):\n",
        "  \"\"\"Finds consequent elements which adds up to maximum value in an array\"\"\"\n",
        "  max_sum =  0\n",
        "  current_sum = arr[0]\n",
        "\n",
        "  for element in arr:\n",
        "    current_sum = max(current_sum + element, element)\n",
        "    max_sum = max(current_sum, max_sum)\n",
        "  return max_sum\n",
        "\n",
        "print(largest_continuous_sum([1, -1, -3, 4, 5]))"
      ],
      "metadata": {
        "colab": {
          "base_uri": "https://localhost:8080/"
        },
        "id": "OCls2RPTghtm",
        "outputId": "662f813b-5a33-40cc-fb54-41f8f6a9ff0c"
      },
      "execution_count": null,
      "outputs": [
        {
          "output_type": "stream",
          "name": "stdout",
          "text": [
            "9\n"
          ]
        }
      ]
    },
    {
      "cell_type": "markdown",
      "source": [
        "### Sentence reversal"
      ],
      "metadata": {
        "id": "BjfvtC0X1Yxf"
      }
    },
    {
      "cell_type": "code",
      "source": [
        "def reverse_sent(sentence):\n",
        "  \"\"\"Reverses the order of words in the sentence\"\"\"\n",
        "  # sentence = sentence.replace(\" \", \"\")\n",
        "\n",
        "  revers = \" \"\n",
        "\n",
        "  for item in reversed(sentence.split(\" \")):\n",
        "    revers += item + \" \"\n",
        "  return revers.strip()\n",
        "\n",
        "  # or\n",
        "  # return \" \".join(reversed(sentence.split(\" \")))\n",
        "\n",
        "reverse_sent(\"This is the best\")"
      ],
      "metadata": {
        "colab": {
          "base_uri": "https://localhost:8080/",
          "height": 36
        },
        "id": "vVNrXiYXpUN2",
        "outputId": "8432d6d3-496a-4cec-e7e2-69d753d51dad"
      },
      "execution_count": null,
      "outputs": [
        {
          "output_type": "execute_result",
          "data": {
            "text/plain": [
              "'best the is This'"
            ],
            "application/vnd.google.colaboratory.intrinsic+json": {
              "type": "string"
            }
          },
          "metadata": {},
          "execution_count": 70
        }
      ]
    },
    {
      "cell_type": "markdown",
      "source": [
        "### Compress given string"
      ],
      "metadata": {
        "id": "p7z3oenz8hJG"
      }
    },
    {
      "cell_type": "code",
      "source": [
        "def compress_string(s):\n",
        "  \"\"\"Compress string into frequency of letters exist\"\"\"\n",
        "  count = {}\n",
        "\n",
        "  compressed = \"\"\n",
        "\n",
        "  if len(s) == 0:\n",
        "    return \"\"\n",
        "  if len(s) == 1:\n",
        "    return s + str(1)\n",
        "\n",
        "  for letter in s:\n",
        "    if letter not in count:\n",
        "      count[letter] = 1\n",
        "    else:\n",
        "      count[letter] += 1\n",
        "  for k, v in count.items():\n",
        "    compressed += k+str(v)\n",
        "  return compressed\n",
        "\n",
        "compress_string(\"AAAAAaaaBBC\")"
      ],
      "metadata": {
        "colab": {
          "base_uri": "https://localhost:8080/",
          "height": 36
        },
        "id": "_eQle0Kh1tvR",
        "outputId": "1a1bcc50-d02a-454d-bd88-591f65a137fd"
      },
      "execution_count": null,
      "outputs": [
        {
          "output_type": "execute_result",
          "data": {
            "text/plain": [
              "'A5a3B2C1'"
            ],
            "application/vnd.google.colaboratory.intrinsic+json": {
              "type": "string"
            }
          },
          "metadata": {},
          "execution_count": 79
        }
      ]
    },
    {
      "cell_type": "markdown",
      "source": [
        "### Check unique string"
      ],
      "metadata": {
        "id": "K2Hl2pDEBIKD"
      }
    },
    {
      "cell_type": "code",
      "source": [
        "def check_dublicate(s):\n",
        "\n",
        "  letters = set()\n",
        "\n",
        "  for letter in s:\n",
        "    if letter not in letters:\n",
        "      letters.add(letter)\n",
        "    else:\n",
        "      return False\n",
        "  return True\n",
        "\n",
        "  # or return len(s) == len(set(s))\n",
        "\n",
        "check_dublicate(\"abs\")"
      ],
      "metadata": {
        "colab": {
          "base_uri": "https://localhost:8080/"
        },
        "id": "FhyUn0It_oUK",
        "outputId": "0192b3d5-1732-4067-9527-fca14cb66979"
      },
      "execution_count": null,
      "outputs": [
        {
          "output_type": "execute_result",
          "data": {
            "text/plain": [
              "True"
            ]
          },
          "metadata": {},
          "execution_count": 84
        }
      ]
    },
    {
      "cell_type": "code",
      "source": [],
      "metadata": {
        "id": "mpEbkf0PkpX5"
      },
      "execution_count": null,
      "outputs": []
    },
    {
      "cell_type": "code",
      "source": [
        "# max_sub_array\n",
        "def max_sub_array(arr, k):\n",
        "  max_sum = float(\"-inf\")\n",
        "  current_sum = 0\n",
        "\n",
        "  for i in range(k):\n",
        "    current_sum += arr[i]\n",
        "\n",
        "  for i in range(k, len(arr)):\n",
        "    current_sum += arr[i] - arr[i - k]\n",
        "    max_sum = max(current_sum, max_sum)\n",
        "  return max_sum\n",
        "nums = [1, 4, 2, 10, 2, 3, 1, 0, 20]\n",
        "k = 4\n",
        "result = max_sub_array(nums, k)\n",
        "print(result)  # Outp"
      ],
      "metadata": {
        "colab": {
          "base_uri": "https://localhost:8080/"
        },
        "id": "EODeIm0xe87v",
        "outputId": "76cfbfac-26f4-43a9-b498-9b5484125721"
      },
      "execution_count": null,
      "outputs": [
        {
          "output_type": "stream",
          "name": "stdout",
          "text": [
            "24\n"
          ]
        }
      ]
    },
    {
      "cell_type": "markdown",
      "source": [
        "## Stack & Queue"
      ],
      "metadata": {
        "id": "47z7RXuLB5AK"
      }
    },
    {
      "cell_type": "markdown",
      "source": [
        "Stack:\n",
        "A stack is a linear data structure that follows the Last In, First Out (LIFO) principle. This means that the most recently added element is the first one to be removed. Think of it as a stack of plates, where you can only add or remove plates from the top. The topmost element is the only one that is accessible, and it is known as the \"top\" of the stack.\n",
        "Key operations:\n",
        "\n",
        "Push: Add an element to the top of the stack.\n",
        "Pop: Remove the top element from the stack.\n",
        "Peek: Get the value of the top element without removing it.\n",
        "Is Empty: Check if the stack is empty.\n",
        "Applications:\n",
        "\n",
        "Expression evaluation: Stacks can be used to evaluate arithmetic expressions, infix to postfix conversion, and postfix expression evaluation.\n",
        "Function call stack: Stacks are used in computer systems to keep track of function calls and return addresses.\n",
        "Undo/Redo functionality: Stacks can be used to implement undo/redo functionality in software applications.\n",
        "Queue:\n",
        "A queue is a linear data structure that follows the First In, First Out (FIFO) principle. This means that the element that is added first is the first one to be removed. Think of it as a queue of people standing in a line, where new people join at the back and leave from the front. The front of the queue is the first element that is accessible, and the rear is the last element.\n",
        "Key operations:\n",
        "\n",
        "Enqueue: Add an element to the rear of the queue.\n",
        "Dequeue: Remove the front element from the queue.\n",
        "Peek: Get the value of the front element without removing it.\n",
        "Is Empty: Check if the queue is empty.\n",
        "Applications:\n",
        "\n",
        "Process scheduling: Queues are used in operating systems to manage processes waiting for CPU time.\n",
        "Print spooling: Queues are used to manage print jobs in a printer's queue.\n",
        "Breadth-First Search: Queues are used in graph traversal algorithms like BFS to explore graph nodes level by level."
      ],
      "metadata": {
        "id": "TeTG6MH7ScFU"
      }
    },
    {
      "cell_type": "markdown",
      "source": [
        "### Implement deque class"
      ],
      "metadata": {
        "id": "2onq_UI4ShpX"
      }
    },
    {
      "cell_type": "code",
      "source": [
        "\"\"\"Implemented deque class with adding and removing from both ends functionality\"\"\"\n",
        "class Deque():\n",
        "  def __init__(self):\n",
        "    self.items = []\n",
        "\n",
        "  def isEmpty(self):\n",
        "    return self.items == []\n",
        "\n",
        "  def addFront(self, item):\n",
        "    self.items.append(item)\n",
        "\n",
        "  def addRear(self, item):\n",
        "    self.items.insert(0, item)\n",
        "\n",
        "  def removeFront(self, item):\n",
        "    return self.items.pop()\n",
        "\n",
        "  def removeRear(self, item):\n",
        "    return self.items.pop(0)\n",
        "\n",
        "  def size(self):\n",
        "    return len(self.items)\n",
        "\n",
        "# test\n",
        "d = Deque()\n",
        "\n",
        "d.addFront(\"Hi\")\n",
        "d.addRear(\" World\")\n",
        "d.size()"
      ],
      "metadata": {
        "colab": {
          "base_uri": "https://localhost:8080/"
        },
        "id": "4eaewt9ZSgur",
        "outputId": "86c37ea2-e194-4a08-f938-61b62a2b8ea3"
      },
      "execution_count": null,
      "outputs": [
        {
          "output_type": "execute_result",
          "data": {
            "text/plain": [
              "2"
            ]
          },
          "metadata": {},
          "execution_count": 44
        }
      ]
    },
    {
      "cell_type": "markdown",
      "source": [
        "### Implement a stack"
      ],
      "metadata": {
        "id": "gH5usT9BUK7b"
      }
    },
    {
      "cell_type": "code",
      "source": [
        "class Stack():\n",
        "  def __init__(self):\n",
        "    self.items = []\n",
        "\n",
        "  # push a new item\n",
        "  def push(self, item):\n",
        "    self.items.append(item)\n",
        "\n",
        "  # pop an item\n",
        "  def pop(self):\n",
        "    return self.items.pop()\n",
        "\n",
        "  # peek an item\n",
        "  def peek(self, item):\n",
        "    return self.items[len(self.items) - 1]\n",
        "\n",
        "  def size(self):\n",
        "    return len(self.items)\n",
        "s = Stack()\n",
        "\n",
        "s.push(2)\n",
        "s.pop()\n",
        "s.size()"
      ],
      "metadata": {
        "colab": {
          "base_uri": "https://localhost:8080/"
        },
        "id": "uIn57O74UQb1",
        "outputId": "224f4dcb-132f-4585-cf75-6c48bfd3f0ff"
      },
      "execution_count": null,
      "outputs": [
        {
          "output_type": "execute_result",
          "data": {
            "text/plain": [
              "0"
            ]
          },
          "metadata": {},
          "execution_count": 48
        }
      ]
    },
    {
      "cell_type": "markdown",
      "source": [
        "### Balance parantheses"
      ],
      "metadata": {
        "id": "xwIsK97ECP9y"
      }
    },
    {
      "cell_type": "code",
      "source": [
        "def balance_check(s):\n",
        "  \"\"\"Balance opening and closing parantheses [({})]\"\"\"\n",
        "  stack = []\n",
        "\n",
        "  opening = set(\"{[(\")\n",
        "\n",
        "  matches = [('(', ')'), ('[', ']'), ('{', '}')]\n",
        "\n",
        "  for paranthesis in s:\n",
        "    if paranthesis in opening:\n",
        "      stack.append(paranthesis)\n",
        "    else:\n",
        "      if len(stack) == 0:\n",
        "        return False\n",
        "      last_open = stack.pop()\n",
        "\n",
        "      if (last_open, paranthesis) not in matches:\n",
        "        return False\n",
        "\n",
        "  return len(stack) == 0\n",
        "# test\n",
        "print(balance_check(\"{{{{[]()}}}}\"))"
      ],
      "metadata": {
        "colab": {
          "base_uri": "https://localhost:8080/"
        },
        "id": "8mrcLE-YBlMk",
        "outputId": "074876f5-485a-4f3f-abdf-aa830dd1ed4a"
      },
      "execution_count": null,
      "outputs": [
        {
          "output_type": "stream",
          "name": "stdout",
          "text": [
            "True\n"
          ]
        }
      ]
    },
    {
      "cell_type": "code",
      "source": [],
      "metadata": {
        "id": "rpeEg-wKHnku"
      },
      "execution_count": null,
      "outputs": []
    },
    {
      "cell_type": "markdown",
      "source": [
        "## LinkedList"
      ],
      "metadata": {
        "id": "01GmiKUToh2t"
      }
    },
    {
      "cell_type": "markdown",
      "source": [
        "Linked lists are fundamental data structures used to store and organize data in a sequential manner. They consist of a collection of nodes, where each node contains both data and a reference (or link) to the next node in the list. Unlike arrays, which use contiguous blocks of memory to store elements, linked lists use dynamic memory allocation. This allows for efficient insertion and deletion operations, as the memory can be allocated or deallocated as needed. However, random access to elements is not as efficient in linked lists compared to arrays. Linked lists offer several advantages in certain scenarios. For example, they are particularly useful when the size of the data is unknown or can change dynamically, as linked lists can easily accommodate such changes. They are also efficient for insertion or deletion operations, especially in the middle of the list, as it only requires updating a few references.\n",
        "\n",
        "Arrays are generally preferred when random access to elements is critical, such as in algorithms that involve matrix operations or accessing specific elements in large datasets. They are efficient for indexing and provide constant-time access to elements.\n",
        "\n",
        "Linked lists are suitable when dynamic resizing, efficient insertion, or deletion of elements are important. They work well in scenarios where the size of the data is unknown or changes frequently, and when maintaining a specific order of elements matters."
      ],
      "metadata": {
        "id": "8O9NfmAFpaY8"
      }
    },
    {
      "cell_type": "code",
      "source": [
        "class Node(object):\n",
        "  def __init__(self, value):\n",
        "    self.value = value\n",
        "    self.nextNode = None\n",
        "a = Node(1)\n",
        "b = Node(2)\n",
        "b = a.nextNode"
      ],
      "metadata": {
        "id": "xqJu4qw-RsuI"
      },
      "execution_count": null,
      "outputs": []
    },
    {
      "cell_type": "code",
      "source": [
        "class DoubleLinked(object):\n",
        "  def __init__(self, value):\n",
        "    self.value = value\n",
        "    self.nextNode = None\n",
        "    self.prevNode = None\n",
        "\n",
        "a = DoubleLinked(1)\n",
        "b = DoubleLinked(2)\n",
        "c = DoubleLinked(3)\n",
        "\n",
        "a.nextNode = b\n",
        "b.prevNode = a\n",
        "b.nextNode = c\n",
        "c.prevNode = b\n",
        "# c-nextNode = a - circular"
      ],
      "metadata": {
        "id": "7xkSXzbFS_zR"
      },
      "execution_count": null,
      "outputs": []
    },
    {
      "cell_type": "markdown",
      "source": [
        "### Find cycle"
      ],
      "metadata": {
        "id": "PA5b2AcCwIoi"
      }
    },
    {
      "cell_type": "code",
      "source": [
        "# Given a linked list, check if it is cyclic\n",
        "class Node(object):\n",
        "  def __init__(self, value):\n",
        "    self.value = value\n",
        "    self.nextNode = None"
      ],
      "metadata": {
        "id": "Q8mJDifAnbON"
      },
      "execution_count": null,
      "outputs": []
    },
    {
      "cell_type": "code",
      "source": [
        "def cycle_check():\n",
        "  \"\"\"checks if last element of linked list points to the first\"\"\"\n",
        "  marker_1 = Node\n",
        "  marker_2 = Node\n",
        "\n",
        "  while marker_2 and market_2.nextNode:\n",
        "    marker_1 = marker_1.nextNode\n",
        "    market_2 = marker_2.nextNode.nextNode\n",
        "\n",
        "    if market_2 == marker_1:\n",
        "      return True\n",
        "  return False"
      ],
      "metadata": {
        "id": "bNOH0mULnfDT"
      },
      "execution_count": null,
      "outputs": []
    },
    {
      "cell_type": "markdown",
      "source": [
        "### Reverse a Linked List"
      ],
      "metadata": {
        "id": "rynFQIH1_YRB"
      }
    },
    {
      "cell_type": "code",
      "source": [
        "class Node(object):\n",
        "  def __init__(self, value):\n",
        "    self.value = value\n",
        "    self.nextNode = None"
      ],
      "metadata": {
        "id": "a-2mf-HEniBt"
      },
      "execution_count": null,
      "outputs": []
    },
    {
      "cell_type": "code",
      "source": [
        "def reverse(head):\n",
        "  current = head\n",
        "  previous = None\n",
        "  nextNode = None\n",
        "\n",
        "  while current:\n",
        "    nextNode = current.nextNode\n",
        "    current.nextNode = previous\n",
        "\n",
        "    previous = current\n",
        "    current = nextNode\n",
        "\n",
        "  return previous"
      ],
      "metadata": {
        "id": "yph9OnTNn0EC"
      },
      "execution_count": null,
      "outputs": []
    },
    {
      "cell_type": "markdown",
      "source": [
        "### Return nth to last node in Linked List"
      ],
      "metadata": {
        "id": "u0xRJJT70d3w"
      }
    },
    {
      "cell_type": "code",
      "source": [
        "def nth_to_last_node(n, head):\n",
        "  right_pointer = head\n",
        "  left_pointer = head\n",
        "\n",
        "  for i in range(n-1):\n",
        "    if not right_pointer.nextNode:\n",
        "      raise LookupError(\"Error: n is larger the linked list\")\n",
        "    right_pointer = right_pointer.nextNode\n",
        "\n",
        "  while(right_pointer):\n",
        "    left_pointer = left_pointer.nextNode\n",
        "    right_pointer = right_pointer.nextNode\n",
        "\n",
        "  return left_pointer"
      ],
      "metadata": {
        "id": "iX1cXvQXn7JT"
      },
      "execution_count": null,
      "outputs": []
    },
    {
      "cell_type": "code",
      "source": [],
      "metadata": {
        "id": "a5clgkQL2R1U"
      },
      "execution_count": null,
      "outputs": []
    },
    {
      "cell_type": "markdown",
      "source": [
        "## Recursion"
      ],
      "metadata": {
        "id": "JMlLvqnA6N6M"
      }
    },
    {
      "cell_type": "code",
      "source": [
        "def fact(n):\n",
        "  if n == 0:\n",
        "    return 1\n",
        "  else:\n",
        "    return n*fact(n - 1)"
      ],
      "metadata": {
        "id": "6c6ypcXQ6POI"
      },
      "execution_count": null,
      "outputs": []
    },
    {
      "cell_type": "code",
      "source": [
        "def sum_digits(n):\n",
        "  if n == 0:\n",
        "    return 0\n",
        "  digit = n % 10\n",
        "  n = n // 10\n",
        "\n",
        "  return digit + sum_digits(n)"
      ],
      "metadata": {
        "id": "rgCdz3_a61NK"
      },
      "execution_count": null,
      "outputs": []
    },
    {
      "cell_type": "code",
      "source": [
        "def word_split(phrase, words, output = None):\n",
        "  if output is None:\n",
        "    output = []\n",
        "  for word in words:\n",
        "    if phrase.startswith(word):\n",
        "      output.append(word)\n",
        "      return word_split(phrase[len(word):], words, output)\n",
        "  return output"
      ],
      "metadata": {
        "id": "sRnGSvDv7L9s"
      },
      "execution_count": null,
      "outputs": []
    },
    {
      "cell_type": "code",
      "source": [
        "word_split('theman', ['the', 'man'])"
      ],
      "metadata": {
        "colab": {
          "base_uri": "https://localhost:8080/"
        },
        "id": "5Hj8TYXlALz4",
        "outputId": "356c8ed1-097f-4fbd-c800-edfe45cc619a"
      },
      "execution_count": null,
      "outputs": [
        {
          "output_type": "execute_result",
          "data": {
            "text/plain": [
              "['the', 'man']"
            ]
          },
          "metadata": {},
          "execution_count": 30
        }
      ]
    },
    {
      "cell_type": "markdown",
      "source": [
        "## Binary Tree"
      ],
      "metadata": {
        "id": "MUKxkfMbcYvy"
      }
    },
    {
      "cell_type": "markdown",
      "source": [
        "### Check if it is a binary tree"
      ],
      "metadata": {
        "id": "8m4-_FvXcaf6"
      }
    },
    {
      "cell_type": "code",
      "source": [
        "class Node():\n",
        "  def __init__(self, key, value):\n",
        "  self.key = key\n",
        "  self.value = value\n",
        "  self.leftNode = None\n",
        "  self.rightNode = None\n",
        "\n",
        "def tree_max(node):\n",
        "  if not node:\n",
        "    return float(\"inf\")\n",
        "  maxLeft = tree_max(node.leftNode)\n",
        "  maxRight = tree_max(node.rightNode)\n",
        "  return(node.key, maxLeft, maxRight)\n",
        "\n",
        "def tree_min(node):\n",
        "  if not node:\n",
        "    return float(\"inf\")\n",
        "  minLeft = tree_min(node.leftNode)\n",
        "  minRight = tree_min(node.RightNode)\n",
        "  return(node.key, minLeft, minRight)\n",
        "\n",
        "def verify(node):\n",
        "  if not node:\n",
        "    return True\n",
        "  if (tree_max(node.leftNode) <= node.key <= tree_min(node.rightNode) and\n",
        "      verify(node.leftNode) and verify(node.rightNode)):\n",
        "      return True\n",
        "  else:\n",
        "    return False"
      ],
      "metadata": {
        "id": "XVVS1IUDw6xc"
      },
      "execution_count": null,
      "outputs": []
    },
    {
      "cell_type": "markdown",
      "source": [
        "## Search"
      ],
      "metadata": {
        "id": "HdPUD92fhqxi"
      }
    },
    {
      "cell_type": "markdown",
      "source": [
        "### Sequential Search"
      ],
      "metadata": {
        "id": "Kc2Foe6LhsM5"
      }
    },
    {
      "cell_type": "code",
      "source": [
        "def seq_search(arr, element):\n",
        "  found = False\n",
        "  pos = 0\n",
        "\n",
        "  while(pos < len(arr) and not found):\n",
        "    if arr[pos] == element:\n",
        "      found = True\n",
        "    else:\n",
        "      pos += 1\n",
        "  return found\n",
        "\n",
        "seq_search([1, 2, 3, 4, 5], 5)"
      ],
      "metadata": {
        "colab": {
          "base_uri": "https://localhost:8080/"
        },
        "id": "Qj3dmcamhrta",
        "outputId": "fa51b4f9-5f7a-405c-ab31-db6ca250fe03"
      },
      "execution_count": null,
      "outputs": [
        {
          "output_type": "execute_result",
          "data": {
            "text/plain": [
              "True"
            ]
          },
          "metadata": {},
          "execution_count": 2
        }
      ]
    },
    {
      "cell_type": "code",
      "source": [
        "def binary_search(arr, target):\n",
        "  left = 0\n",
        "  right = len(arr) - 1\n",
        "\n",
        "  while(left <= right):\n",
        "    mid = (left + right) // 2\n",
        "\n",
        "    if arr[mid] == target:\n",
        "      return True\n",
        "    elif target < arr[mid]:\n",
        "      right = mid - 1\n",
        "    else:\n",
        "      left = mid + 1\n",
        "  return -1"
      ],
      "metadata": {
        "id": "CMrFMkkTiGYM"
      },
      "execution_count": null,
      "outputs": []
    },
    {
      "cell_type": "code",
      "source": [],
      "metadata": {
        "id": "GpMpcj2Gkw7y"
      },
      "execution_count": null,
      "outputs": []
    },
    {
      "cell_type": "markdown",
      "source": [
        "## Sorting"
      ],
      "metadata": {
        "id": "E0ZVdGUfryFf"
      }
    },
    {
      "cell_type": "markdown",
      "source": [
        "### Bubly"
      ],
      "metadata": {
        "id": "Pt0AEsagrzdc"
      }
    },
    {
      "cell_type": "code",
      "source": [
        "def buble_sort(arr):\n",
        "  n = len(arr)\n",
        "  for i in range(n - 1):\n",
        "    for j in range(n - 1- i):\n",
        "      if arr[j] > arr[j+1]:\n",
        "        arr[j], arr[j+1] = arr[j+1], arr[j]\n",
        "  return arr"
      ],
      "metadata": {
        "id": "ZBxAbvFBry6S"
      },
      "execution_count": null,
      "outputs": []
    },
    {
      "cell_type": "code",
      "source": [
        "# selection\n",
        "def selection_sort(arr):\n",
        "  n = len(arr)\n",
        "  for i in range(n - 1):\n",
        "    min_index = i\n",
        "    for j in range(i+1, n):\n",
        "      if arr[min_index] > arr[j]:\n",
        "        min_index = j\n",
        "    arr[i], arr[min_index] = arr[min_index], arr[i]\n",
        "  return arr\n",
        "selection_sort([1, 2, 3, 3, 2, 1])"
      ],
      "metadata": {
        "colab": {
          "base_uri": "https://localhost:8080/"
        },
        "id": "Mh0Rqb9AsJwg",
        "outputId": "30c4d5dd-6fb5-4103-de19-fa3919a877cd"
      },
      "execution_count": null,
      "outputs": [
        {
          "output_type": "execute_result",
          "data": {
            "text/plain": [
              "[1, 1, 2, 2, 3, 3]"
            ]
          },
          "metadata": {},
          "execution_count": 38
        }
      ]
    },
    {
      "cell_type": "code",
      "source": [
        "# insertion\n",
        "def insertion_sort(arr):\n",
        "\n",
        "  for i in range(1, len(arr)):\n",
        "    current_value = arr[i]\n",
        "    position = i\n",
        "\n",
        "    # sorted sublist\n",
        "    while position > 0 and arr[position - 1] > current_value:\n",
        "      arr[position] = arr[position - 1]\n",
        "      position = position - 1\n",
        "    arr[position] = current_value\n",
        "  return arr\n",
        "insertion_sort([1, 2, 3, 3, 2, 1])"
      ],
      "metadata": {
        "colab": {
          "base_uri": "https://localhost:8080/"
        },
        "id": "rLtyGinWZZbB",
        "outputId": "265e9678-05c7-4cb7-aa6f-76ae051ae68f"
      },
      "execution_count": null,
      "outputs": [
        {
          "output_type": "execute_result",
          "data": {
            "text/plain": [
              "[1, 1, 2, 2, 3, 3]"
            ]
          },
          "metadata": {},
          "execution_count": 12
        }
      ]
    },
    {
      "cell_type": "code",
      "source": [
        "# shell sort - better insertion with sublists\n",
        "def shell_sort(arr):\n",
        "    n = len(arr)\n",
        "    gap = n // 2\n",
        "\n",
        "    while gap > 0:\n",
        "        insertion_sort_with_gap(arr, gap)\n",
        "        gap //= 2\n",
        "    return arr\n",
        "\n",
        "def insertion_sort_with_gap(arr, gap):\n",
        "    n = len(arr)\n",
        "\n",
        "    for i in range(gap, n):\n",
        "        current_value = arr[i]\n",
        "        position = i\n",
        "        while position >= gap and arr[position - gap] > current_value:\n",
        "            arr[position] = arr[position - gap]\n",
        "            position -= gap\n",
        "        arr[position] = current_value\n",
        "shell_sort([1, 2, 3, 3, 2, 1])"
      ],
      "metadata": {
        "colab": {
          "base_uri": "https://localhost:8080/"
        },
        "id": "JXBUL0Vc1HwD",
        "outputId": "f2f1048f-c6dc-4d55-f296-9f555d1c7396"
      },
      "execution_count": null,
      "outputs": [
        {
          "output_type": "execute_result",
          "data": {
            "text/plain": [
              "[1, 1, 2, 2, 3, 3]"
            ]
          },
          "metadata": {},
          "execution_count": 20
        }
      ]
    },
    {
      "cell_type": "code",
      "source": [
        "def max_sum(arr, k):\n",
        "  \"\"\"Finds largest k consecutive sum of elements in an array\"\"\"\n",
        "  window_sum = 0\n",
        "  max_sum = 0\n",
        "\n",
        "  for i in range(k):\n",
        "    window_sum += arr[i]\n",
        "\n",
        "  for i in range(k, len(arr)):\n",
        "    window_sum = window_sum - arr[i - k] + arr[i]\n",
        "    max_sum = max(window_sum, max_sum)\n",
        "\n",
        "  return max_sum\n",
        "\n",
        "max_sum([20, 1, 2, 3, 4, 5], 3)"
      ],
      "metadata": {
        "colab": {
          "base_uri": "https://localhost:8080/"
        },
        "id": "iXYI4Z0_AzKK",
        "outputId": "4907b002-cada-42d5-e2be-2d414459fa89"
      },
      "execution_count": null,
      "outputs": [
        {
          "output_type": "execute_result",
          "data": {
            "text/plain": [
              "12"
            ]
          },
          "metadata": {},
          "execution_count": 8
        }
      ]
    },
    {
      "cell_type": "code",
      "source": [
        "def max_subarray_sum(arr, K):\n",
        "    window_sum = 0\n",
        "    max_sum = 0\n",
        "\n",
        "    # Calculate the sum of the initial window\n",
        "    for i in range(K):\n",
        "        window_sum += arr[i]\n",
        "\n",
        "    # Slide the window and update the sums\n",
        "    for i in range(K, len(arr)):\n",
        "        window_sum = window_sum - arr[i - K] + arr[i]\n",
        "        max_sum = max(max_sum, window_sum)\n",
        "\n",
        "    return max_sum\n",
        "max_subarray_sum([20, 1, 2, 3, 4, 5], 3)"
      ],
      "metadata": {
        "colab": {
          "base_uri": "https://localhost:8080/"
        },
        "id": "nSCtBbXFCds9",
        "outputId": "7764e0ec-3f68-42dc-c513-58f86292902b"
      },
      "execution_count": null,
      "outputs": [
        {
          "output_type": "execute_result",
          "data": {
            "text/plain": [
              "12"
            ]
          },
          "metadata": {},
          "execution_count": 9
        }
      ]
    },
    {
      "cell_type": "code",
      "source": [
        "# find longest substring containing unique character\n",
        "def longest_unique_substring(s):\n",
        "  max_length = 0\n",
        "  start = 0\n",
        "  unique_chars = set()\n",
        "\n",
        "  for end in range(len(s)):\n",
        "    if s[end] in unique_chars:\n",
        "      while s[start] != s[end]:\n",
        "        unique_chars.remove(s[start])\n",
        "        start+= 1\n",
        "      start += 1\n",
        "    else:\n",
        "      unique_chars.add(s[end])\n",
        "      current_length = end - start + 1\n",
        "      max_length = max(max_length, current_length)\n",
        "  return max_length"
      ],
      "metadata": {
        "id": "tscJAcS5D0ue"
      },
      "execution_count": null,
      "outputs": []
    },
    {
      "cell_type": "code",
      "source": [
        "def longest_unique_substring(s):\n",
        "  \"\"\"Finds largest consecutive unique chars in a string\"\"\"\n",
        "  start = 0\n",
        "  max_length = 0\n",
        "  unique_chars = set()\n",
        "  max_sub_string = \"\"\n",
        "\n",
        "  for end in range(len(s)):\n",
        "    while s[end] in unique_chars:\n",
        "      unique_chars.remove(s[start])\n",
        "      start += 1\n",
        "    unique_chars.add(s[end])\n",
        "    current_length = end - start + 1\n",
        "\n",
        "    if current_length > max_length:\n",
        "      max_length = current_length\n",
        "      max_sub_string = s[start:end+1]\n",
        "  return max_length, max_sub_string"
      ],
      "metadata": {
        "id": "kMB_R-iNoCUo"
      },
      "execution_count": null,
      "outputs": []
    },
    {
      "cell_type": "code",
      "source": [
        "string = \"abcabcbb\"\n",
        "result = longest_unique_substring(string)\n",
        "print(result)"
      ],
      "metadata": {
        "colab": {
          "base_uri": "https://localhost:8080/"
        },
        "id": "Pmuf8ADFoFlM",
        "outputId": "3c04d353-8fa2-41c1-bc49-19d421e6d5c4"
      },
      "execution_count": null,
      "outputs": [
        {
          "output_type": "stream",
          "name": "stdout",
          "text": [
            "(3, 'abc')\n"
          ]
        }
      ]
    },
    {
      "cell_type": "code",
      "source": [
        "def findMaxLength(arr):\n",
        "  \"\"\"finds length of unique 0 and 1 series [0, 1, 1, 0, 1, 0]\"\"\"\n",
        "  count = 0\n",
        "  count_map = {}\n",
        "\n",
        "  for i in range(len(arr)):\n",
        "    if arr[i] == 1:\n",
        "      count += 1\n",
        "    else:\n",
        "      count -= 1\n",
        "\n",
        "    if count not in count_map:\n",
        "      count_map[count] = i\n",
        "    else:\n",
        "      current_length = i - count_map[count]\n",
        "      max_length = max(current_length, max_length)\n",
        "  return max_length"
      ],
      "metadata": {
        "id": "PFj2eXPpy4NN"
      },
      "execution_count": null,
      "outputs": []
    },
    {
      "cell_type": "code",
      "source": [],
      "metadata": {
        "id": "NbmUEHbZD_Oo"
      },
      "execution_count": null,
      "outputs": []
    },
    {
      "cell_type": "markdown",
      "source": [
        "## Graphs"
      ],
      "metadata": {
        "id": "P-CyB8TOxRUh"
      }
    },
    {
      "cell_type": "code",
      "source": [
        "# Adjacency List implementation of graphs\n",
        "class Vertex:\n",
        "  def __init__(self, key):\n",
        "    self.id = key\n",
        "    self.connectedTo = {}\n",
        "\n",
        "  def addNeighbour(self, nbr, weight = 0):\n",
        "    self.connectedTo[nbr] = weight\n",
        "\n",
        "  def getConnections(self):\n",
        "    return self.connectedTo.keys()\n",
        "\n",
        "  def getId(self):\n",
        "    return self.id\n",
        "\n",
        "  def getWeight(self, nbr):\n",
        "    return self.connectedTo[nbr]\n",
        "\n",
        "  def __str__(self):\n",
        "    return str(self.id) + \" is connected to: \" + str([x.id for x in self.connectedTo])"
      ],
      "metadata": {
        "id": "AO_tvV0pxTFh"
      },
      "execution_count": null,
      "outputs": []
    },
    {
      "cell_type": "code",
      "source": [],
      "metadata": {
        "id": "dfbM2C-A1FnV"
      },
      "execution_count": null,
      "outputs": []
    },
    {
      "cell_type": "markdown",
      "source": [
        "### Implementation of hashtable in python"
      ],
      "metadata": {
        "id": "o-3Gox8Ubsby"
      }
    },
    {
      "cell_type": "code",
      "source": [],
      "metadata": {
        "id": "N0NSKJ9foKjv"
      },
      "execution_count": null,
      "outputs": []
    },
    {
      "cell_type": "code",
      "source": [
        "# Implementation of Hashtable Python\n",
        "class HashTable:\n",
        "  def __init__(self, size):\n",
        "    self.size = size\n",
        "    self.table = [[] for _ in range(self.size)]\n",
        "\n",
        "  def _hash(self, key):\n",
        "    return hash(key) % self.size\n",
        "\n",
        "  def insert(self, key, value):\n",
        "    index = self._hash(key)\n",
        "    self.table[index].append(key, value)\n",
        "\n",
        "  def display(self, key):\n",
        "    index = self._hash(key)\n",
        "\n",
        "    for k, v in self.table[index]:\n",
        "      if k == key:\n",
        "        return v\n",
        "    return None\n"
      ],
      "metadata": {
        "id": "6F3G3DNtWK5I"
      },
      "execution_count": null,
      "outputs": []
    },
    {
      "cell_type": "code",
      "source": [],
      "metadata": {
        "id": "vnCb004pOE_X"
      },
      "execution_count": null,
      "outputs": []
    },
    {
      "cell_type": "markdown",
      "source": [
        "## Implementation of Linked List"
      ],
      "metadata": {
        "id": "Dx0VOjvj-wMG"
      }
    },
    {
      "cell_type": "code",
      "source": [
        "class Node:\n",
        "  def __init__(self, data):\n",
        "    self.data = data\n",
        "    self.next  = None\n",
        "\n",
        "class LinkedList:\n",
        "  def __init__(self):\n",
        "    self.head = None\n",
        "\n",
        "  def insert(self, data):\n",
        "    new_node = Node(data)\n",
        "\n",
        "    if ! self.head :\n",
        "      self.head = new_node\n",
        "    else:\n",
        "      current = self.head\n",
        "      while current.next:\n",
        "        current = current.next\n",
        "      current.next = new_node\n",
        "\n",
        "    def preped(self, data):\n",
        "      new_node = Node(data)\n",
        "      new_node.next = self.head\n",
        "      self.head = new_node\n",
        "\n",
        "    def display(self):\n",
        "      elements = []\n",
        "      current = self.head\n",
        "      while current:\n",
        "        elements.append(current.data)\n",
        "        current = current.next\n",
        "      print(elements)\n"
      ],
      "metadata": {
        "id": "2HKVejZy-0Bh"
      },
      "execution_count": null,
      "outputs": []
    },
    {
      "cell_type": "code",
      "source": [
        "# check if it is hankel or not\n",
        "def is_hankel(matrix):\n",
        "  \"\"\"Checks if given matrix is hankel\"\"\"\n",
        "  rows = len(matrix)\n",
        "  cols = len(matrix[0])\n",
        "  if rows != cols:\n",
        "    return False\n",
        "\n",
        "  for i in range(rows - 1):\n",
        "    for j in range(cols - 1):\n",
        "      if matrix[i][j] != matrix[i+1][j+1]:\n",
        "        return False\n",
        "  return True"
      ],
      "metadata": {
        "id": "SNGHyYt9a5gd"
      },
      "execution_count": null,
      "outputs": []
    },
    {
      "cell_type": "code",
      "source": [
        "# For a given date increment it with a given number of dates\n",
        "def increment_date(date_str, num_days):\n",
        "  \"\"\"Adds numbers of days to given date string\"\"\"\n",
        "  year, month, day = map(int, date_str.split(\"-\"))\n",
        "  days_in_month = [0, 31, 28, 31, 30, 31, 30, 31, 31, 30, 31, 30, 31]\n",
        "\n",
        "  # adjust leap year\n",
        "  if year % 4 == 0 and (year % 100 != 0 or year % 400 == 0):\n",
        "    # consider lear year\n",
        "    days_in_month[2] += 1\n",
        "\n",
        "  day += num_days\n",
        "  while day > days_in_month[month]:\n",
        "    day -= days_in_month[month]\n",
        "    month += 1\n",
        "    if month > 12:\n",
        "      year += 1\n",
        "      month = 1\n",
        "  incremented_date = f\"{year:04d}-{month:02d}-{day:02d}\"\n",
        "  return incremented_date"
      ],
      "metadata": {
        "id": "tghBtTKPh2kZ"
      },
      "execution_count": null,
      "outputs": []
    },
    {
      "cell_type": "code",
      "source": [],
      "metadata": {
        "id": "ops32Z7EqLT5"
      },
      "execution_count": null,
      "outputs": []
    },
    {
      "cell_type": "markdown",
      "source": [
        "### Trie Tree"
      ],
      "metadata": {
        "id": "pRR1SdtPN63f"
      }
    },
    {
      "cell_type": "code",
      "source": [
        "class TrieNode:\n",
        "  def __init__(self):\n",
        "    self.children = {}\n",
        "    self.endOfWord = False\n",
        "\n",
        "class Trie:\n",
        "  def __init__(self):\n",
        "    self.root = root\n",
        "\n",
        "  def insert(self, word):\n",
        "    current = self.root\n",
        "\n",
        "    for letter in word:\n",
        "      if letter not in current.children:\n",
        "        current.children[letter] = TrieNode()\n",
        "      current = current.children[letter]\n",
        "    current.endOfWord = True\n",
        "\n",
        "  def search(self, word):\n",
        "    current = self.root\n",
        "\n",
        "    for letter in word:\n",
        "      if letter not in current.children:\n",
        "        return False\n",
        "      current = current.children[c]\n",
        "    return cur.endOfWord # if this is set to true, we will return its value -> end of word = True\n",
        "\n",
        "  def startsWith(self, prefix):\n",
        "    current = self.root\n",
        "\n",
        "    for letter in prefix:\n",
        "      if letter not in current.children:\n",
        "        return False\n",
        "      current = current.children[c]\n",
        "    return True"
      ],
      "metadata": {
        "id": "ZQaV_mELpoSA"
      },
      "execution_count": null,
      "outputs": []
    },
    {
      "cell_type": "markdown",
      "source": [
        "### Merge Sort"
      ],
      "metadata": {
        "id": "tErP3O-zjXNs"
      }
    },
    {
      "cell_type": "code",
      "source": [
        "# Divide and conquer with recursion # O(n) = n * log (n) complexity"
      ],
      "metadata": {
        "id": "2TgB7o3PQ-Ig"
      },
      "execution_count": null,
      "outputs": []
    },
    {
      "cell_type": "code",
      "source": [
        "def merge_sort(arr, l, r):\n",
        "  if l == r:\n",
        "    return arr\n",
        "  m = (l + r) // 2\n",
        "  merge_sort(arr, l, m)\n",
        "  merge_sort(arr, m+1, r)\n",
        "  merge(arr, l, m, r)\n",
        "  return arr\n",
        "\n",
        "\n",
        "def merge(arr, L, M, R):\n",
        "  left, right = arr[L:M+1], arr[M+1:R+1]\n",
        "  i, j, k = L, 0, 0\n",
        "\n",
        "  while j < len(left) and k < len(right):\n",
        "    if left[j] < right[k]:\n",
        "      arr[i] = left[j]\n",
        "      j+=1\n",
        "    else:\n",
        "      arr[i] = right[k]\n",
        "      k+= 1\n",
        "    i+= 1\n",
        "\n",
        "  while j < len(left):\n",
        "    arr[i] = left[j]\n",
        "    j+= 1\n",
        "    i+= 1\n",
        "  while k < len(right):\n",
        "    arr[i] = right[k]\n",
        "    k+= 1\n",
        "    i+= 1\n",
        "merge_sort([1, 3, 2, 1], 0, 3)"
      ],
      "metadata": {
        "colab": {
          "base_uri": "https://localhost:8080/"
        },
        "id": "tKaxX6ytjf25",
        "outputId": "59f06b74-c0cb-4546-c8d1-916ae7ce111f"
      },
      "execution_count": null,
      "outputs": [
        {
          "output_type": "execute_result",
          "data": {
            "text/plain": [
              "[1, 1, 2, 3]"
            ]
          },
          "metadata": {},
          "execution_count": 7
        }
      ]
    },
    {
      "cell_type": "markdown",
      "source": [
        "## Quick Sort"
      ],
      "metadata": {
        "id": "r7aXbrGe8Fej"
      }
    },
    {
      "cell_type": "code",
      "source": [
        "# partitioning\n",
        "def quick_sort(arr):\n",
        "  if len(arr) <= 1:\n",
        "    return arr\n",
        "\n",
        "  low, same, high = [], [], []\n",
        "  pivot = arr[randint(0, len(arr) - 1)]\n",
        "\n",
        "  for item in arr:\n",
        "    if item < pivot:\n",
        "      low.append(item)\n",
        "    elif item == pivot:\n",
        "      same.append(item)\n",
        "    elif item > pivot:\n",
        "      high.append(item)\n",
        "  return quick_sort(low) + same + quick_sort(high)"
      ],
      "metadata": {
        "id": "X_5CQi508Cfy"
      },
      "execution_count": null,
      "outputs": []
    },
    {
      "cell_type": "markdown",
      "source": [
        "### Random"
      ],
      "metadata": {
        "id": "1BKaLqIHXrII"
      }
    },
    {
      "cell_type": "code",
      "source": [
        "import random\n",
        "\n",
        "def estimate_pi(num_points):\n",
        "    num_points_inside_circle = 0\n",
        "\n",
        "    for _ in range(num_points):\n",
        "        x = random.uniform(-1, 1)\n",
        "        y = random.uniform(-1, 1)\n",
        "\n",
        "        # Check if the point (x, y) is inside the unit circle\n",
        "        if x**2 + y**2 <= 1:\n",
        "            num_points_inside_circle += 1\n",
        "\n",
        "    pi = 4 * num_points_inside_circle / num_points\n",
        "\n",
        "    return pi\n",
        "\n",
        "# Example usage\n",
        "num_points = 1000000\n",
        "estimated_pi = estimate_pi(num_points)\n",
        "print(f\"Estimated value of pi: {estimated_pi}\")"
      ],
      "metadata": {
        "id": "bEH4gvaemQkB"
      },
      "execution_count": null,
      "outputs": []
    },
    {
      "cell_type": "markdown",
      "source": [
        "However, by using a generator with the yield keyword, we can generate Fibonacci numbers on-the-fly, one at a time. The generator function maintains its internal state and continues generating the next number in the sequence each time yield is encountered. This allows us to use the generator in a loop and retrieve as many Fibonacci numbers as we need without consuming excessive memory."
      ],
      "metadata": {
        "id": "bO0xCEE8Ytig"
      }
    },
    {
      "cell_type": "code",
      "source": [
        "def fibonacci_sequence():\n",
        "    a, b = 0, 1\n",
        "    while True:\n",
        "        yield a\n",
        "        a, b = b, a + b\n",
        "\n",
        "# Using the generator to iterate over Fibonacci numbers\n",
        "fib_gen = fibonacci_sequence()\n",
        "for _ in range(10):\n",
        "    print(next(fib_gen))\n"
      ],
      "metadata": {
        "id": "opG97mOVYqI7"
      },
      "execution_count": null,
      "outputs": []
    },
    {
      "cell_type": "code",
      "source": [
        "# group by anagrams\n",
        "from typing_extensions import DefaultDict\n",
        "strs = [\"eat\",\"tea\",\"tan\",\"ate\",\"nat\",\"bat\"]\n",
        "# Output: [[\"bat\"],[\"nat\",\"tan\"],[\"ate\",\"eat\",\"tea\"]]\n",
        "\n",
        "def group_anagrams(strs):\n",
        "  word_map = DefaultDict(list)\n",
        "\n",
        "  for word in strs:\n",
        "    count = [0] * 26\n",
        "    for letter in word:\n",
        "      count[ord(letter) - ord('a')] += 1\n",
        "    word_map[tuple(count)].append(word)\n",
        "  # word_map.values()\n",
        "  return word_map.values()"
      ],
      "metadata": {
        "id": "GznNHEmlUEza"
      },
      "execution_count": null,
      "outputs": []
    },
    {
      "cell_type": "code",
      "source": [
        "group_anagrams(strs)"
      ],
      "metadata": {
        "colab": {
          "base_uri": "https://localhost:8080/"
        },
        "id": "56V6Il0UVAUl",
        "outputId": "0c2b4af8-309b-40d3-e567-b2da00cf0e59"
      },
      "execution_count": null,
      "outputs": [
        {
          "output_type": "execute_result",
          "data": {
            "text/plain": [
              "dict_values([['eat', 'tea', 'ate'], ['tan', 'nat'], ['bat']])"
            ]
          },
          "metadata": {},
          "execution_count": 6
        }
      ]
    },
    {
      "cell_type": "markdown",
      "source": [
        "DFS BFS"
      ],
      "metadata": {
        "id": "-5j9qUkgXsZR"
      }
    },
    {
      "cell_type": "markdown",
      "source": [
        "DFS\n",
        "In this implementation, we define a Graph class that represents the graph data structure. The class has a graph dictionary that stores the adjacency list representation of the graph. The add_edge() method allows us to add edges between vertices by updating the adjacency list. The dfs() method is the main DFS algorithm. It takes a starting vertex as input and performs a depth-first traversal of the graph, printing the visited vertices. The algorithm uses a helper function dfs_util() that performs the actual DFS recursively. Inside dfs_util(), we mark the current vertex as visited and print it. Then, for each neighbor of the current vertex, if the neighbor has not been visited, we recursively call dfs_util() on that neighbor. In the example usage, we create a Graph object and add edges to represent a sample graph. We then perform a DFS traversal starting from vertex 'A' and print the visited vertices."
      ],
      "metadata": {
        "id": "tho7-dK9YZ4i"
      }
    },
    {
      "cell_type": "code",
      "source": [
        "class Graph:\n",
        "    def __init__(self):\n",
        "        self.graph = {}\n",
        "\n",
        "    def add_edge(self, vertex, neighbor):\n",
        "        if vertex not in self.graph:\n",
        "            self.graph[vertex] = []\n",
        "        self.graph[vertex].append(neighbor)\n",
        "\n",
        "    def dfs(self, start_vertex):\n",
        "        visited = set()\n",
        "\n",
        "        def dfs_util(vertex):\n",
        "            visited.add(vertex)\n",
        "            print(vertex, end=\" \")\n",
        "\n",
        "            if vertex in self.graph:\n",
        "              for neighbor in self.graph[vertex]:\n",
        "                  if neighbor not in visited:\n",
        "                      dfs_util(neighbor)\n",
        "\n",
        "        dfs_util(start_vertex)\n",
        "\n",
        "\n",
        "# Example usage\n",
        "graph = Graph()\n",
        "\n",
        "# Adding edges to the graph\n",
        "graph.add_edge('A', 'B')\n",
        "graph.add_edge('A', 'C')\n",
        "graph.add_edge('B', 'D')\n",
        "graph.add_edge('B', 'E')\n",
        "graph.add_edge('C', 'F')\n",
        "graph.add_edge('E', 'G')\n",
        "graph.add_edge('F', 'H')\n",
        "\n",
        "# Perform DFS starting from vertex 'A'\n",
        "print(\"DFS traversal:\")\n",
        "graph.dfs('A')\n"
      ],
      "metadata": {
        "id": "lHDvRUTBVED0",
        "colab": {
          "base_uri": "https://localhost:8080/"
        },
        "outputId": "25c290b5-8ae9-420d-d297-252207b12d0a"
      },
      "execution_count": null,
      "outputs": [
        {
          "output_type": "stream",
          "name": "stdout",
          "text": [
            "DFS traversal:\n",
            "A B D E G C F H "
          ]
        }
      ]
    },
    {
      "cell_type": "markdown",
      "source": [
        "The algorithm uses a visited set to keep track of visited vertices and a queue (implemented using the deque class from the collections module) to maintain the vertices to be processed.\n",
        "\n",
        "Starting from the start_vertex, we add it to the visited set and enqueue it in the queue. Then, while the queue is not empty, we dequeue a vertex, print it, and process its neighbors. For each unvisited neighbor, we add it to the visited set and enqueue it.\n",
        "\n",
        "The BFS traversal explores the vertices level by level, visiting all the neighbors of a vertex before moving on to the next level.\n",
        "\n",
        "In the example usage, we create a Graph object, add edges to represent the example graph, and perform a BFS traversal starting from vertex 'A'. The visited vertices are printed in the BFS order."
      ],
      "metadata": {
        "id": "B9ooFlQQYd4K"
      }
    },
    {
      "cell_type": "code",
      "source": [
        "class Graph:\n",
        "  def __init__(self):\n",
        "    self.graph = {}\n",
        "\n",
        "  def add_edge(self, vertex, neighbor):\n",
        "    if vertex not in self.graph[vertex]:\n",
        "      self.graph[vertex] = []\n",
        "    self.graph[vertex].append(neighbor)\n",
        "\n",
        "  def dfs(self, start_vertex):\n",
        "    # stack\n",
        "    visited = set()\n",
        "    stack = [start_vertex]\n",
        "\n",
        "    while stack:\n",
        "      node = stack.pop()\n",
        "      print(node, end = \" \")\n",
        "      visited.add(node)\n",
        "      if node in self.graph:\n",
        "        for neighbor in self.graph[node]:\n",
        "          if neighbor not in visited:\n",
        "            visited.add(neighbor)\n",
        "            stack.append(neighbor)"
      ],
      "metadata": {
        "id": "n4MQVVjOWnaV"
      },
      "execution_count": null,
      "outputs": []
    },
    {
      "cell_type": "code",
      "source": [
        "from collections import deque\n",
        "\n",
        "class Graph:\n",
        "    def __init__(self):\n",
        "        self.graph = {}\n",
        "\n",
        "    def add_edge(self, vertex, neighbor):\n",
        "        if vertex not in self.graph:\n",
        "            self.graph[vertex] = []\n",
        "        self.graph[vertex].append(neighbor)\n",
        "\n",
        "    def bfs(self, start_vertex):\n",
        "        visited = set()\n",
        "        queue = deque()\n",
        "\n",
        "        visited.add(start_vertex)\n",
        "        queue.append(start_vertex)\n",
        "\n",
        "        while queue:\n",
        "            vertex = queue.popleft()\n",
        "            print(vertex, end=\" \")\n",
        "\n",
        "            if vertex in self.graph:\n",
        "                for neighbor in self.graph[vertex]:\n",
        "                    if neighbor not in visited:\n",
        "                        visited.add(neighbor)\n",
        "                        queue.append(neighbor)\n",
        "\n",
        "\n",
        "# Example usage\n",
        "graph = Graph()\n",
        "\n",
        "# Adding edges to the graph\n",
        "graph.add_edge('A', 'B')\n",
        "graph.add_edge('A', 'C')\n",
        "graph.add_edge('B', 'D')\n",
        "graph.add_edge('B', 'E')\n",
        "graph.add_edge('C', 'F')\n",
        "graph.add_edge('E', 'G')\n",
        "graph.add_edge('F', 'H')\n",
        "\n",
        "# Perform BFS starting from vertex 'A'\n",
        "print(\"BFS traversal:\")\n",
        "graph.bfs('A')\n"
      ],
      "metadata": {
        "id": "c2c-DmMiWsjj",
        "colab": {
          "base_uri": "https://localhost:8080/"
        },
        "outputId": "e7d90ad7-3214-4278-962f-d2cf37be4561"
      },
      "execution_count": null,
      "outputs": [
        {
          "output_type": "stream",
          "name": "stdout",
          "text": [
            "BFS traversal:\n",
            "A B C D E F G H "
          ]
        }
      ]
    },
    {
      "cell_type": "code",
      "source": [],
      "metadata": {
        "id": "qo8ZZHM_Bs_j"
      },
      "execution_count": null,
      "outputs": []
    }
  ]
}