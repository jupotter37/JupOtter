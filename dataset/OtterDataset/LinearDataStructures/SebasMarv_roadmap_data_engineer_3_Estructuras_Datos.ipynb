{
 "cells": [
  {
   "cell_type": "markdown",
   "metadata": {},
   "source": [
    "# Estructuras de datos\n",
    "\n",
    "Las estructuras de datos son una forma de organizar y almacenar datos de manera que puedan ser utilizados de manera eficiente. Son fundamentales en la programación y en la informática en general, ya que permiten manejar grandes cantidades de datos de manera efectiva.\n",
    "\n",
    "## Tipos de Estructuras de Datos\n",
    "\n",
    "| Tipo de Estructura | Descripción | Ejemplo |\n",
    "|--------------------|-------------|---------|\n",
    "| **Array (Arreglo)** | Colección de elementos, todos del mismo tipo, almacenados en ubicaciones de memoria contiguas. | `[1, 2, 3, 4, 5]` |\n",
    "| **Linked List (Lista Enlazada)** | Colección de elementos llamados nodos, donde cada nodo contiene un valor y una referencia al siguiente nodo en la secuencia. | `1 -> 2 -> 3 -> 4 -> 5` |\n",
    "| **Stack (Pila)** | Colección de elementos que sigue el principio LIFO (Last In, First Out). | `push(1), push(2), pop() -> 2` |\n",
    "| **Queue (Cola)** | Colección de elementos que sigue el principio FIFO (First In, First Out). | `enqueue(1), enqueue(2), dequeue() -> 1` |\n",
    "| **Tree (Árbol)** | Estructura jerárquica que consiste en nodos, con un nodo raíz y subnodos hijos, formando una estructura en forma de árbol. | `root(1) -> left(2), right(3)` |\n",
    "| **Graph (Grafo)** | Conjunto de nodos (o vértices) conectados por aristas (o arcos), que pueden ser dirigidas o no dirigidas. | `A -- B, A -- C, B -- C` |\n",
    "| **Hash Table (Tabla Hash)** | Estructura que asocia claves con valores mediante una función hash, permitiendo búsquedas rápidas. | `{'key1': 'value1', 'key2': 'value2'}` |\n",
    "\n",
    "Estas estructuras de datos son esenciales para resolver problemas complejos de manera eficiente y son ampliamente utilizadas en algoritmos y aplicaciones de software.\n",
    "\n",
    "## Tipos de Colecciones en Python\n",
    "\n",
    "| Tipo de Colección | Descripción | Ejemplo |\n",
    "|-------------------|-------------|---------|\n",
    "| **List (Lista)** | Colección ordenada y mutable de elementos, que permite duplicados. | `[1, 2, 3, 4, 5]` |\n",
    "| **Tuple (Tupla)** | Colección ordenada e inmutable de elementos, que permite duplicados. | `(1, 2, 3, 4, 5)` |\n",
    "| **Set (Conjunto)** | Colección desordenada de elementos únicos. | `{1, 2, 3, 4, 5}` |\n",
    "| **Dictionary (Diccionario)** | Colección desordenada de pares clave-valor, donde las claves son únicas. | `{'key1': 'value1', 'key2': 'value2'}` |"
   ]
  },
  {
   "cell_type": "markdown",
   "metadata": {},
   "source": [
    "### Tuplas\n",
    "\n",
    "Las tuplas son colecciones de datos ordenadas e inmutables"
   ]
  },
  {
   "cell_type": "code",
   "execution_count": 9,
   "metadata": {},
   "outputs": [
    {
     "name": "stdout",
     "output_type": "stream",
     "text": [
      "(1, 3, 5, 7, 9)\n",
      "9\n",
      "(1, 3, 5, 7)\n",
      "(5, 7, 9)\n"
     ]
    }
   ],
   "source": [
    "# Las tuplas no permiten modificar sus elementos\n",
    "# Se pueden tener valores repetidos\n",
    "\n",
    "tuple_1 = (1,3,5,7,9) # La unica forma de declarar una tupla es con parentesis\n",
    "# Posición 1 2 3 4 5    |   INDEX\n",
    "\n",
    "print(tuple_1)\n",
    "\n",
    "print(tuple_1[-1]) # 1era posición | se invoca la posicion con corchetes []\n",
    "\n",
    "print(tuple_1[0:4]) # Imprimir mas de uno ( == : <) (igual a , menor que)\n",
    "\n",
    "print(tuple_1[2:]) # Desde que , hasta el final\n"
   ]
  },
  {
   "cell_type": "markdown",
   "metadata": {},
   "source": [
    "| Método       | Descripción                                                                 | Ejemplo                          |\n",
    "|--------------|-----------------------------------------------------------------------------|----------------------------------|\n",
    "| `count()`    | Devuelve el número de veces que un valor aparece en la tupla.               | `tupla_1.count(2)`               |\n",
    "| `index()`    | Devuelve el índice de la primera aparición de un valor en la tupla.         | `tupla_2.index('Java')`          |\n",
    "| `len()`      | Devuelve la longitud de la tupla.                                           | `len(tupla_3)`                   |\n",
    "| `max()`      | Devuelve el valor máximo de la tupla (si todos los elementos son comparables). | `max(tupla_1)`                   |\n",
    "| `min()`      | Devuelve el valor mínimo de la tupla (si todos los elementos son comparables). | `min(tupla_1)`                   |\n",
    "| `sum()`      | Devuelve la suma de todos los elementos de la tupla (si son numéricos).     | `sum(tupla_1)`                   |\n",
    "| `sorted()`   | Devuelve una lista ordenada de los elementos de la tupla.                   | `sorted(tupla_1)`                |\n",
    "| `tuple()`    | Convierte un iterable en una tupla.                                         | `tuple([1, 2, 3])`               |\n",
    "| `in`         | Verifica si un valor está presente en la tupla.                             | `3 in tupla_1`                   |\n"
   ]
  },
  {
   "cell_type": "code",
   "execution_count": 10,
   "metadata": {},
   "outputs": [
    {
     "name": "stdout",
     "output_type": "stream",
     "text": [
      "(1, 'nombre')\n",
      "otra tupla\n"
     ]
    }
   ],
   "source": [
    "# En las tuplas se puede agregar todos los tipos de datos y elementos\n",
    "\n",
    "tuple_3 = (1, 'nombre', 2.14, False)\n",
    "\n",
    "print(tuple_3[0:2]) # Se pueden integrar varios tipos de datos y elementos\n",
    "\n",
    "tuple_3 = (1, 'nombre', 2.14, False, ('otra tupla', 'el ultimo'))\n",
    "\n",
    "print(tuple_3[-1][0]) # Para acceder a una tupla dentro de otra tupla se usa corchetes anidados [1][0]\n"
   ]
  },
  {
   "cell_type": "code",
   "execution_count": 11,
   "metadata": {},
   "outputs": [
    {
     "name": "stdout",
     "output_type": "stream",
     "text": [
      "4\n",
      "5\n"
     ]
    },
    {
     "ename": "TypeError",
     "evalue": "'tuple' object does not support item assignment",
     "output_type": "error",
     "traceback": [
      "\u001b[1;31m---------------------------------------------------------------------------\u001b[0m",
      "\u001b[1;31mTypeError\u001b[0m                                 Traceback (most recent call last)",
      "Cell \u001b[1;32mIn[11], line 15\u001b[0m\n\u001b[0;32m     11\u001b[0m tuple_3 \u001b[38;5;241m=\u001b[39m (\u001b[38;5;241m1\u001b[39m, \u001b[38;5;124m'\u001b[39m\u001b[38;5;124mnombre\u001b[39m\u001b[38;5;124m'\u001b[39m, \u001b[38;5;241m2.14\u001b[39m, \u001b[38;5;28;01mFalse\u001b[39;00m, (\u001b[38;5;124m'\u001b[39m\u001b[38;5;124motra tupla\u001b[39m\u001b[38;5;124m'\u001b[39m, \u001b[38;5;124m'\u001b[39m\u001b[38;5;124mel ultimo\u001b[39m\u001b[38;5;124m'\u001b[39m, (\u001b[38;5;241m3\u001b[39m,\u001b[38;5;241m4\u001b[39m,\u001b[38;5;241m5\u001b[39m)))\n\u001b[0;32m     13\u001b[0m \u001b[38;5;28mprint\u001b[39m(tuple_3[\u001b[38;5;241m-\u001b[39m\u001b[38;5;241m1\u001b[39m][\u001b[38;5;241m-\u001b[39m\u001b[38;5;241m1\u001b[39m][\u001b[38;5;241m-\u001b[39m\u001b[38;5;241m1\u001b[39m])\n\u001b[1;32m---> 15\u001b[0m \u001b[43mtuple_3\u001b[49m\u001b[43m[\u001b[49m\u001b[38;5;241;43m-\u001b[39;49m\u001b[38;5;241;43m1\u001b[39;49m\u001b[43m]\u001b[49m\u001b[43m[\u001b[49m\u001b[38;5;241;43m-\u001b[39;49m\u001b[38;5;241;43m1\u001b[39;49m\u001b[43m]\u001b[49m\u001b[43m[\u001b[49m\u001b[38;5;241;43m-\u001b[39;49m\u001b[38;5;241;43m1\u001b[39;49m\u001b[43m]\u001b[49m \u001b[38;5;241m=\u001b[39m \u001b[38;5;241m2\u001b[39m \u001b[38;5;66;03m# No se puede modificar\u001b[39;00m\n\u001b[0;32m     17\u001b[0m \u001b[38;5;28mprint\u001b[39m(tuple_3[\u001b[38;5;241m-\u001b[39m\u001b[38;5;241m1\u001b[39m][\u001b[38;5;241m-\u001b[39m\u001b[38;5;241m1\u001b[39m][\u001b[38;5;241m-\u001b[39m\u001b[38;5;241m1\u001b[39m])\n",
      "\u001b[1;31mTypeError\u001b[0m: 'tuple' object does not support item assignment"
     ]
    }
   ],
   "source": [
    "# No se pueden modificar los valores de la tuplas pero si indicar variables\n",
    "\n",
    "x = 4\n",
    "tuple_3 = (1, 'nombre', 2.14, False, ('otra tupla', 'el ultimo', x))\n",
    "\n",
    "print(tuple_3[-1][-1])\n",
    "\n",
    "# Pero no se puede modificar manualmente tuplas\n",
    "\n",
    "x = 4\n",
    "tuple_3 = (1, 'nombre', 2.14, False, ('otra tupla', 'el ultimo', (3,4,5)))\n",
    "\n",
    "print(tuple_3[-1][-1][-1])\n",
    "\n",
    "tuple_3[-1][-1][-1] = 2 # No se puede modificar\n",
    "\n",
    "print(tuple_3[-1][-1][-1])"
   ]
  },
  {
   "cell_type": "markdown",
   "metadata": {},
   "source": [
    "### Listas\n",
    "\n",
    "Las listas son mutables tanto de valor como tamaño"
   ]
  },
  {
   "cell_type": "code",
   "execution_count": 4,
   "metadata": {},
   "outputs": [
    {
     "name": "stdout",
     "output_type": "stream",
     "text": [
      "juan\n",
      "jose\n",
      "['juan', 'raul']\n",
      "[1, 2, ['juan', 'raul', 'maria', 'jose'], 2.3]\n",
      "raul\n"
     ]
    }
   ],
   "source": [
    "# Las listas son mutables tanto de valor como tamaño\n",
    "\n",
    "nombres = ['juan', 'raul', 'maria', 'jose'] # La unica forma de declarar una lista es con corchetes []\n",
    "\n",
    "print(nombres[0]) # Se invoca la posición con corchetes [] igual que las tuplas\n",
    "\n",
    "print(nombres[-1])\n",
    "print(nombres[0:2])\n",
    "\n",
    "anidado = [1,2,['juan', 'raul', 'maria', 'jose'], 2.3]\n",
    "print(anidado)\n",
    "print(anidado[2][1])"
   ]
  },
  {
   "cell_type": "code",
   "execution_count": 5,
   "metadata": {},
   "outputs": [
    {
     "name": "stdout",
     "output_type": "stream",
     "text": [
      "['juan', 'raul', 'maria', 'jose']\n",
      "['juan', 'raul', 'maria', 'jose', 'manuel']\n",
      "['juan', 'raul', 'maria', 'jose', 'manuel', 'luis', 'pedro']\n",
      "['juan', 'raul', 'maria', 'jose', 'manuel', 'luis', 'pedro']\n",
      "['andrea', 'juan', 'raul', 'maria', 'jose', 'manuel', 'luis', 'pedro']\n"
     ]
    }
   ],
   "source": [
    "# Existen metodos especificos para las Listas\n",
    "\n",
    "print(nombres)\n",
    "\n",
    "nombres.append('manuel') # Agrega un elemento al final de la lista\n",
    "print(nombres)\n",
    "\n",
    "nombres.extend(['luis', 'pedro']) # Agrega varios elementos al final de la lista\n",
    "print(nombres)\n",
    "print(nombres)\n",
    "\n",
    "\n",
    "nombres.insert(0, 'andrea') # Agrega un elemento en la posición indicada y desplaza los demas elementos\n",
    "print(nombres)\n",
    "\n"
   ]
  },
  {
   "cell_type": "markdown",
   "metadata": {},
   "source": [
    "| Método        | Descripción                                      | Ejemplo                          |\n",
    "|---------------|--------------------------------------------------|----------------------------------|\n",
    "| `append()`    | Agrega un elemento al final de la lista.         | `nombres.append('ana')`          |\n",
    "| `extend()`    | Extiende la lista agregando todos los elementos de otra lista. | `nombres.extend(['ana', 'luis'])`|\n",
    "| `insert()`    | Inserta un elemento en una posición específica.  | `nombres.insert(1, 'ana')`       |\n",
    "| `remove()`    | Elimina el primer elemento con el valor especificado. | `nombres.remove('raul')`         |\n",
    "| `pop()`       | Elimina y devuelve el elemento en la posición especificada. | `nombres.pop(2)`                 |\n",
    "| `clear()`     | Elimina todos los elementos de la lista.         | `nombres.clear()`                |\n",
    "| `index()`     | Devuelve el índice del primer elemento con el valor especificado. | `nombres.index('maria')`         |\n",
    "| `count()`     | Devuelve el número de elementos con el valor especificado. | `nombres.count('juan')`          |\n",
    "| `sort()`      | Ordena los elementos de la lista.                | `nombres.sort()`                 |\n",
    "| `reverse()`   | Invierte el orden de los elementos de la lista.  | `nombres.reverse()`              |\n",
    "| `copy()`      | Devuelve una copia superficial de la lista.      | `nombres_copy = nombres.copy()`  |\n",
    "\n",
    "<br>\n",
    "\n",
    "**Observación importante:**\n",
    "\n",
    "* Las funciones son procesos externos a los objetos que los pueden devolver un valor o no.\n",
    "    * len(nombres) **sabe contar objetos**\n",
    "    * print(nombres) **sabe imprimir objetos**\n",
    "* Los metodos son procesos que el mismo objeto sabe hacer\n",
    "    * nombres.append('luis') **sabe añadir valores al objeto**"
   ]
  },
  {
   "cell_type": "code",
   "execution_count": 6,
   "metadata": {},
   "outputs": [
    {
     "name": "stdout",
     "output_type": "stream",
     "text": [
      "['andrea', 'juan', 'raul', 'maria', 'jose', 'manuel', 'luis', 'pedro']\n",
      "['andrea', 'juan', 'raul', 'maria', 'jose', 'manuel', 'luis']\n"
     ]
    }
   ],
   "source": [
    "print(nombres)\n",
    "\n",
    "nombres.remove('pedro') # Elimina el elemento indicado\n",
    "print(nombres)"
   ]
  },
  {
   "cell_type": "code",
   "execution_count": 9,
   "metadata": {},
   "outputs": [
    {
     "ename": "ValueError",
     "evalue": "list.remove(x): x not in list",
     "output_type": "error",
     "traceback": [
      "\u001b[1;31m---------------------------------------------------------------------------\u001b[0m",
      "\u001b[1;31mValueError\u001b[0m                                Traceback (most recent call last)",
      "Cell \u001b[1;32mIn[9], line 1\u001b[0m\n\u001b[1;32m----> 1\u001b[0m \u001b[43mnombres\u001b[49m\u001b[38;5;241;43m.\u001b[39;49m\u001b[43mremove\u001b[49m\u001b[43m(\u001b[49m\u001b[38;5;124;43m'\u001b[39;49m\u001b[38;5;124;43mpedro\u001b[39;49m\u001b[38;5;124;43m'\u001b[39;49m\u001b[43m)\u001b[49m \u001b[38;5;66;03m# Error si no existe el elemento\u001b[39;00m\n\u001b[0;32m      2\u001b[0m \u001b[38;5;28mprint\u001b[39m(nombres)\n",
      "\u001b[1;31mValueError\u001b[0m: list.remove(x): x not in list"
     ]
    }
   ],
   "source": [
    "nombres.remove('pedro') # Error si no existe el elemento\n",
    "print(nombres)"
   ]
  },
  {
   "cell_type": "code",
   "execution_count": 10,
   "metadata": {},
   "outputs": [
    {
     "ename": "NameError",
     "evalue": "name 'nombres' is not defined",
     "output_type": "error",
     "traceback": [
      "\u001b[1;31m---------------------------------------------------------------------------\u001b[0m",
      "\u001b[1;31mNameError\u001b[0m                                 Traceback (most recent call last)",
      "Cell \u001b[1;32mIn[10], line 2\u001b[0m\n\u001b[0;32m      1\u001b[0m \u001b[38;5;28;01mdel\u001b[39;00m nombres \u001b[38;5;66;03m# Elimina la lista completa\u001b[39;00m\n\u001b[1;32m----> 2\u001b[0m \u001b[38;5;28mprint\u001b[39m(\u001b[43mnombres\u001b[49m)\n",
      "\u001b[1;31mNameError\u001b[0m: name 'nombres' is not defined"
     ]
    }
   ],
   "source": [
    "del nombres # Elimina la lista completa\n",
    "print(nombres)\n",
    "\n",
    "# Deja de existir la variable nombres"
   ]
  },
  {
   "cell_type": "markdown",
   "metadata": {},
   "source": [
    "### Set\n",
    "\n",
    "Un set en Python es una colección desordenada de elementos únicos."
   ]
  },
  {
   "cell_type": "code",
   "execution_count": 1,
   "metadata": {},
   "outputs": [
    {
     "name": "stdout",
     "output_type": "stream",
     "text": [
      "{'platano', 1, 'fresa', 'pera', 'naranja'}\n"
     ]
    }
   ],
   "source": [
    "canasta = {'naranja', 'naranja', 'pera', 'platano', 'fresa', 1} # La unica forma de declarar un conjunto es con llaves {}\n",
    "# No se pueden tener elementos repetidos, simplemente son ignorados\n",
    "\n",
    "print(canasta) # No se puede ordenar porque lo ordena automatico\n",
    "\n",
    "\n",
    "# No se puede acceder a los valores mediante index ( canasta[0] ) porque no tiene orden"
   ]
  },
  {
   "cell_type": "code",
   "execution_count": 3,
   "metadata": {},
   "outputs": [
    {
     "name": "stdout",
     "output_type": "stream",
     "text": [
      "{'platano', 1, 'fresa', 'mango', 'pera', 'naranja'}\n"
     ]
    }
   ],
   "source": [
    "canasta.add('mango') # Agrega un elemento al conjunto\n",
    "\n",
    "# Inmutable y no se pueden modificar los elementos porque no hay indices para acceder a ellos.\n",
    "# Solo se pueden quitar valores y agregar valores\n",
    "\n",
    "print(canasta)"
   ]
  },
  {
   "cell_type": "code",
   "execution_count": 4,
   "metadata": {},
   "outputs": [
    {
     "name": "stdout",
     "output_type": "stream",
     "text": [
      "{'platano', 1, 'fresa', 'mango', 'naranja'}\n"
     ]
    }
   ],
   "source": [
    "canasta.remove('pera') # Elimina el elemento indicado\n",
    "print(canasta)"
   ]
  },
  {
   "cell_type": "code",
   "execution_count": 6,
   "metadata": {},
   "outputs": [
    {
     "name": "stdout",
     "output_type": "stream",
     "text": [
      "{'platano', 1, 'fresa', 'mango', 'naranja'}\n"
     ]
    }
   ],
   "source": [
    "canasta.discard('pepinos') # Elimina el elemento indicado, si no existe no arroja error\n",
    "print(canasta)"
   ]
  },
  {
   "cell_type": "code",
   "execution_count": 7,
   "metadata": {},
   "outputs": [
    {
     "ename": "TypeError",
     "evalue": "unhashable type: 'set'",
     "output_type": "error",
     "traceback": [
      "\u001b[1;31m---------------------------------------------------------------------------\u001b[0m",
      "\u001b[1;31mTypeError\u001b[0m                                 Traceback (most recent call last)",
      "Cell \u001b[1;32mIn[7], line 1\u001b[0m\n\u001b[1;32m----> 1\u001b[0m canasta_2 \u001b[38;5;241m=\u001b[39m {\u001b[38;5;124m'\u001b[39m\u001b[38;5;124mnaranja\u001b[39m\u001b[38;5;124m'\u001b[39m, \u001b[38;5;124m'\u001b[39m\u001b[38;5;124mpera\u001b[39m\u001b[38;5;124m'\u001b[39m, \u001b[38;5;124m'\u001b[39m\u001b[38;5;124mplatano\u001b[39m\u001b[38;5;124m'\u001b[39m, \u001b[38;5;124m'\u001b[39m\u001b[38;5;124mfresa\u001b[39m\u001b[38;5;124m'\u001b[39m, \u001b[38;5;124m'\u001b[39m\u001b[38;5;124mnaranjas\u001b[39m\u001b[38;5;124m'\u001b[39m, {\u001b[38;5;124m'\u001b[39m\u001b[38;5;124mmandarina\u001b[39m\u001b[38;5;124m'\u001b[39m, \u001b[38;5;124m'\u001b[39m\u001b[38;5;124mpalta\u001b[39m\u001b[38;5;124m'\u001b[39m}}\n\u001b[0;32m      3\u001b[0m \u001b[38;5;28mprint\u001b[39m(canasta_2) \u001b[38;5;66;03m# No se pueden tener conjuntos dentro de conjuntos\u001b[39;00m\n",
      "\u001b[1;31mTypeError\u001b[0m: unhashable type: 'set'"
     ]
    }
   ],
   "source": [
    "canasta_2 = {'naranja', 'pera', 'platano', 'fresa', 'naranjas', {'mandarina', 'palta'}}\n",
    "\n",
    "print(canasta_2) # No se pueden tener conjuntos dentro de conjuntos"
   ]
  },
  {
   "cell_type": "code",
   "execution_count": 10,
   "metadata": {},
   "outputs": [
    {
     "name": "stdout",
     "output_type": "stream",
     "text": [
      "{'lechuga', 'fresa', 'platano', 'cebolla', 'papas', 'pera', 'naranja'}\n"
     ]
    }
   ],
   "source": [
    "canasta_3 = {'cebolla', 'papas', 'lechuga', 'fresa'}\n",
    "canasta_4 = {'naranja', 'pera', 'platano', 'fresa'}\n",
    "\n",
    "union = canasta_3.union(canasta_4) # Une los conjuntos sin repetir elementos\n",
    "\n",
    "print(union) # Une los conjuntos sin repetir elementos"
   ]
  },
  {
   "cell_type": "code",
   "execution_count": 11,
   "metadata": {},
   "outputs": [
    {
     "name": "stdout",
     "output_type": "stream",
     "text": [
      "{'fresa'}\n"
     ]
    }
   ],
   "source": [
    "\n",
    "interseccion = canasta_3.intersection(canasta_4) # Muestra los elementos que se repiten en ambos conjuntos\n",
    "\n",
    "print(interseccion) # Muestra los elementos que se repiten en ambos conjuntos"
   ]
  },
  {
   "cell_type": "code",
   "execution_count": 12,
   "metadata": {},
   "outputs": [
    {
     "name": "stdout",
     "output_type": "stream",
     "text": [
      "{'lechuga', 'cebolla', 'papas'}\n"
     ]
    }
   ],
   "source": [
    "\n",
    "diferencia = canasta_3.difference(canasta_4) # Muestra los elementos que no se repiten en ambos conjuntos\n",
    "\n",
    "print(diferencia) # Muestra los elementos que no se repiten en ambos conjuntos"
   ]
  },
  {
   "cell_type": "markdown",
   "metadata": {},
   "source": [
    "### Diccionarios\n",
    "\n",
    "Los diccionarios en Python son estructuras de datos que permiten almacenar pares de clave-valor."
   ]
  },
  {
   "cell_type": "code",
   "execution_count": 17,
   "metadata": {},
   "outputs": [
    {
     "name": "stdout",
     "output_type": "stream",
     "text": [
      "lima\n",
      "lima\n"
     ]
    }
   ],
   "source": [
    "ciudades = {'peru': 'lima', 'colombia': 'bogota', 'chile': 'santiago'} # La unica forma de declarar un diccionario es con llaves {}\n",
    "\n",
    "print(ciudades['peru']) # Se accede a los valores mediante la clave con ['clave']\n",
    "\n",
    "# ó\n",
    "\n",
    "print(ciudades.get('peru')) # Se accede a los valores mediante la clave con .get('clave')"
   ]
  },
  {
   "cell_type": "code",
   "execution_count": 1,
   "metadata": {},
   "outputs": [
    {
     "name": "stdout",
     "output_type": "stream",
     "text": [
      "{'peru': 'lima', 'colombia': 'bogota', 'chile': 'temuco'}\n",
      "{'peru': 'lima', 'colombia': 'bogota', 'chile': 'santiago'}\n"
     ]
    }
   ],
   "source": [
    "ciudades = {'peru': 'lima', 'colombia': 'bogota', 'chile': 'temuco'} # Esta mal el valor de la clave 'chile'\n",
    "\n",
    "print(ciudades)\n",
    "\n",
    "ciudades['chile'] = 'santiago' # Se modifica el valor de la clave 'chile'\n",
    "\n",
    "print(ciudades)"
   ]
  },
  {
   "cell_type": "code",
   "execution_count": 1,
   "metadata": {},
   "outputs": [
    {
     "name": "stdout",
     "output_type": "stream",
     "text": [
      "{'peru': 'lima', 'colombia': 'bogota', 'chile': 'temuco', 'brasil': 'brasilia'}\n",
      "{'peru': 'lima', 'colombia': 'bogota', 'chile': 'santiago'}\n"
     ]
    }
   ],
   "source": [
    "ciudades = {'peru': 'lima', 'colombia': 'bogota', 'chile': 'temuco', 'brasil': 'brasilia'} \n",
    "\n",
    "print(ciudades)\n",
    "\n",
    "ciudades['chile'] = 'santiago'\n",
    "ciudades.pop('brasil') # Elimina el elemento indicado\n",
    "\n",
    "print(ciudades)"
   ]
  },
  {
   "cell_type": "code",
   "execution_count": 2,
   "metadata": {},
   "outputs": [
    {
     "name": "stdout",
     "output_type": "stream",
     "text": [
      "178203461661837655\n"
     ]
    }
   ],
   "source": [
    "print(ciudades['peru'].__hash__()) # Devuelve un valor hash (conversión de objeto a numero) de la clave"
   ]
  },
  {
   "cell_type": "markdown",
   "metadata": {},
   "source": [
    "# Problemas para practicar\n",
    "***"
   ]
  },
  {
   "cell_type": "markdown",
   "metadata": {},
   "source": [
    "## Tuplas Ejercicios (Nivel Basico)"
   ]
  },
  {
   "cell_type": "markdown",
   "metadata": {},
   "source": [
    "**Problema 1**: Crear una tupla con los números del 1 al 5 e imprimir cada elemento en líneas separadas."
   ]
  },
  {
   "cell_type": "code",
   "execution_count": 3,
   "metadata": {},
   "outputs": [
    {
     "name": "stdout",
     "output_type": "stream",
     "text": [
      "(1, 2, 3, 4, 5)\n"
     ]
    }
   ],
   "source": [
    "tupla_1 = (1,2,3,4,5)\n",
    "print(tupla_1)"
   ]
  },
  {
   "cell_type": "markdown",
   "metadata": {},
   "source": [
    "**Problema 2**: Dada la tupla `(\"Python\", \"Java\", \"C++\", \"JavaScript\")`, imprime el primer y último elemento de la tupla."
   ]
  },
  {
   "cell_type": "code",
   "execution_count": 6,
   "metadata": {},
   "outputs": [
    {
     "name": "stdout",
     "output_type": "stream",
     "text": [
      "('Python', 'Java', 'C++', 'JavaScript')\n",
      "Python \n",
      " JavaScript\n"
     ]
    }
   ],
   "source": [
    "tupla_2 = ('Python', 'Java', 'C++', 'JavaScript')\n",
    "\n",
    "print(tupla_2)\n",
    "\n",
    "print(tupla_2[0],'\\n',tupla_2[-1])"
   ]
  },
  {
   "cell_type": "markdown",
   "metadata": {},
   "source": [
    "**Problema 3**: Crea una tupla con tres palabras, y luego crea otra tupla intercambiando el orden de las palabras de la tupla original."
   ]
  },
  {
   "cell_type": "code",
   "execution_count": 8,
   "metadata": {},
   "outputs": [
    {
     "name": "stdout",
     "output_type": "stream",
     "text": [
      "('Python', 'Hola', 'Python')\n"
     ]
    }
   ],
   "source": [
    "tupla_3 = ('Hola', 'Mundo', 'Python')\n",
    "\n",
    "tupla_3_1 = (tupla_3[2], tupla_3[0], tupla_3[2])\n",
    "\n",
    "print(tupla_3_1)"
   ]
  },
  {
   "cell_type": "markdown",
   "metadata": {},
   "source": [
    "**Problema 4**: Verifica si el número `3` está presente en la tupla `(1, 2, 3, 4, 5)` y muestra un mensaje indicando si está o no."
   ]
  },
  {
   "cell_type": "code",
   "execution_count": 12,
   "metadata": {},
   "outputs": [
    {
     "name": "stdout",
     "output_type": "stream",
     "text": [
      "True\n"
     ]
    }
   ],
   "source": [
    "tupla_4 = (1,2,3,4,5)\n",
    "\n",
    "print(3 in tupla_4)"
   ]
  },
  {
   "cell_type": "markdown",
   "metadata": {},
   "source": [
    "**Problema 5**: Crea una tupla que contenga tres tuplas dentro de ella. Cada tupla interna debe representar una coordenada `(x, y)` como `(2, 3)`, `(4, 6)` y `(5, 8)`. Accede y muestra el valor `6` desde la tupla."
   ]
  },
  {
   "cell_type": "code",
   "execution_count": 15,
   "metadata": {},
   "outputs": [
    {
     "name": "stdout",
     "output_type": "stream",
     "text": [
      "((2, 3), (4, 6), (5, 8))\n",
      "(2, 3, 4, 6, 5, 8)\n"
     ]
    }
   ],
   "source": [
    "tupla_5_1 = (2, 3)\n",
    "\n",
    "tupla_5_2 = (4, 6)\n",
    "\n",
    "tupla_5_3 = (5, 8)\n",
    "\n",
    "tupla_5 = (tupla_5_1, tupla_5_2, tupla_5_3) # Se pueden anidar tuplas dentro de tuplas con parentesis\n",
    "print(tupla_5)\n",
    "\n",
    "# ó\n",
    "\n",
    "tupla_5 = tupla_5_1 + tupla_5_2 + tupla_5_3\n",
    "print(tupla_5)"
   ]
  },
  {
   "cell_type": "markdown",
   "metadata": {},
   "source": [
    "## Tuplas Ejercicios (Nivel Intermedio)"
   ]
  },
  {
   "cell_type": "markdown",
   "metadata": {},
   "source": [
    "**Problema 6**: Dada la tupla `(1, 2, 3, 4, 5, 6, 7, 8, 9, 10)`, crea una nueva tupla que contenga solo los números en las posiciones pares (índices 1, 3, 5, etc.)."
   ]
  },
  {
   "cell_type": "code",
   "execution_count": 8,
   "metadata": {},
   "outputs": [
    {
     "name": "stdout",
     "output_type": "stream",
     "text": [
      "(2, 4, 5)\n"
     ]
    }
   ],
   "source": [
    "tupla_1 = (1, 2, 3, 4, 5, 6, 7, 8, 9, 10)\n",
    "\n",
    "tupla_1_6 = (tupla_1[1], tupla_1[3], tupla_1[4])\n",
    "\n",
    "print(tupla_1_6)"
   ]
  },
  {
   "cell_type": "markdown",
   "metadata": {},
   "source": [
    "**Problema 7**: Dada la tupla `(10, 20, 30, 40, 50)`, convierte esta tupla en una lista, reemplaza el valor `30` con `35`, y luego convierte la lista de nuevo en una tupla."
   ]
  },
  {
   "cell_type": "code",
   "execution_count": 16,
   "metadata": {},
   "outputs": [
    {
     "name": "stdout",
     "output_type": "stream",
     "text": [
      "Antes[10, 20, 30, 40, 50]\n",
      "Despues(10, 20, 35, 40, 50)\n"
     ]
    }
   ],
   "source": [
    "# (10, 20, 30, 40, 50)\n",
    "# `30` con `35`\n",
    "\n",
    "tupla_2 = (10, 20, 30, 40, 50)\n",
    "\n",
    "tupla_2 = list(tupla_2)\n",
    "print(f'Antes{tupla_2}')\n",
    "\n",
    "tupla_2[2] = 35\n",
    "\n",
    "print(f'Despues{tuple(tupla_2)}')\n"
   ]
  },
  {
   "cell_type": "markdown",
   "metadata": {},
   "source": [
    "**Problema 8**: Escribe un programa para concatenar dos tuplas `(1, 2, 3)` y `(4, 5, 6)`, y ordena los elementos de la tupla resultante de menor a mayor."
   ]
  },
  {
   "cell_type": "code",
   "execution_count": 18,
   "metadata": {},
   "outputs": [
    {
     "name": "stdout",
     "output_type": "stream",
     "text": [
      "(4, 5, 6, 1, 2, 3)\n",
      "(1, 2, 3, 4, 5, 6)\n"
     ]
    }
   ],
   "source": [
    "tupla_3_1 = (1,2,3)\n",
    "tupla_3_2 = (4,5,6)\n",
    "\n",
    "tupla_3 = tupla_3_2 + tupla_3_1  # se pueden concatenar tuplas con el operador +\n",
    "print(tupla_3)\n",
    "\n",
    "tupla_3 = tuple(sorted(tupla_3))\n",
    "\n",
    "print(tupla_3)"
   ]
  },
  {
   "cell_type": "markdown",
   "metadata": {},
   "source": [
    "**Problema 9**: Crea una función que reciba una tupla de números como entrada y devuelva una nueva tupla que contenga solo los valores únicos de la tupla original."
   ]
  },
  {
   "cell_type": "code",
   "execution_count": 11,
   "metadata": {},
   "outputs": [
    {
     "name": "stdout",
     "output_type": "stream",
     "text": [
      "(1, 2, 2, 3, 4, 5, 6)\n",
      "{1, 2, 4, 5, 6}\n"
     ]
    }
   ],
   "source": [
    "tupla = (1,2,2,3,4,5,6) # Se pueden tener elementos repetidos\n",
    "sett = {1,2,2,4,5,6} # No se pueden tener elementos repetidos\n",
    "\n",
    "print(tupla)\n",
    "print(sett)"
   ]
  },
  {
   "cell_type": "code",
   "execution_count": 12,
   "metadata": {},
   "outputs": [
    {
     "name": "stdout",
     "output_type": "stream",
     "text": [
      "(1, 2, 2, 3, 4, 5, 6)\n",
      "(1, 2, 3, 4, 5, 6)\n"
     ]
    }
   ],
   "source": [
    "def tupla_unica(tupla_9):\n",
    "    return tuple(set(tupla_9))\n",
    "\n",
    "tupla_9 = (1,2,2,3,4,5,6)\n",
    "print(tupla_9)\n",
    "tupla_9_1 = tupla_unica(tupla_9)\n",
    "\n",
    "print(tupla_9_1)"
   ]
  },
  {
   "cell_type": "markdown",
   "metadata": {},
   "source": [
    "**Problema 10**: Dada la tupla `((1, 2), (3, 4), (5, 6))`, crea una lista que contenga el producto de los valores de cada tupla interna (por ejemplo, `[2, 12, 30]`)."
   ]
  },
  {
   "cell_type": "code",
   "execution_count": 15,
   "metadata": {},
   "outputs": [
    {
     "name": "stdout",
     "output_type": "stream",
     "text": [
      "[2, 12, 30]\n"
     ]
    }
   ],
   "source": [
    "tupla_10 = ((1,2),(3,4),(5,6))\n",
    "list_10 = []\n",
    "\n",
    "for i in tupla_10:\n",
    "    list_10.append(i[0] * i[1])\n",
    "\n",
    "print(list_10)"
   ]
  },
  {
   "cell_type": "markdown",
   "metadata": {},
   "source": [
    "**Problema 11**: Dada la tupla `(1, 3, 5, 7, 9, 11, 13, 15)`, encuentra el índice del número `11` sin usar un bucle."
   ]
  },
  {
   "cell_type": "code",
   "execution_count": 19,
   "metadata": {},
   "outputs": [
    {
     "name": "stdout",
     "output_type": "stream",
     "text": [
      "(1, 3, 5, 7, 9, 11, 13, 15)\n",
      "5\n"
     ]
    }
   ],
   "source": [
    "tupla_11 = (1, 3, 5, 7, 9, 11, 13, 15)\n",
    "\n",
    "tupla_11 = list(tupla_11)\n",
    "\n",
    "indice_11 = tupla_11.index(11) # Devuelve el indice del elemento indicado con el metodo index\n",
    "\n",
    "tuple_11 = tuple(tupla_11)\n",
    "print(tuple_11)\n",
    "print(indice_11)\n"
   ]
  },
  {
   "cell_type": "markdown",
   "metadata": {},
   "source": [
    "**Problema 12**: Escribe un programa que reciba una tupla de números y devuelva la suma de sus elementos."
   ]
  },
  {
   "cell_type": "code",
   "execution_count": 20,
   "metadata": {},
   "outputs": [
    {
     "name": "stdout",
     "output_type": "stream",
     "text": [
      "(1, 2, 3, 4, 5, 6, 7, 8, 9, 10)\n",
      "55\n"
     ]
    }
   ],
   "source": [
    "tupla_12 = (1, 2, 3, 4, 5, 6, 7, 8, 9, 10)\n",
    "\n",
    "def suma_tupla(tupla_12):\n",
    "    return sum(tupla_12) # Suma los elementos de la tupla con la función sum()\n",
    "\n",
    "print(tupla_12)\n",
    "revision = suma_tupla(tupla_12)\n",
    "print(revision)"
   ]
  },
  {
   "cell_type": "markdown",
   "metadata": {},
   "source": [
    "**Problema 13**: Dada la tupla `('a', 'b', 'c', 'd', 'e')`, crea una nueva tupla invirtiendo el orden de los elementos."
   ]
  },
  {
   "cell_type": "code",
   "execution_count": 31,
   "metadata": {},
   "outputs": [
    {
     "name": "stdout",
     "output_type": "stream",
     "text": [
      "('e', 'd', 'c', 'b', 'a')\n",
      "e\n"
     ]
    }
   ],
   "source": [
    "tupla_13 = ('a', 'b', 'c', 'd', 'e')\n",
    "\n",
    "# tupla_13 = list(tupla_13)\n",
    "# tupla_13 = sorted(tupla_13, reverse=True) # Ordena los elementos de la tupla con el metodo sorted() y el parametro reverse=True\n",
    "# tupla_13 = tuple(tupla_13)\n",
    "# print(tupla_13)\n",
    "\n",
    "# CORRECCION\n",
    "tupla_13 = tuple(reversed(tupla_13))  # Invierte el orden de los elementos directamente con reversed()\n",
    "print(tupla_13)\n",
    "print(tupla_13[0])\n"
   ]
  },
  {
   "cell_type": "markdown",
   "metadata": {},
   "source": [
    "**Problema 14**: Dada una tupla de 5 números enteros `(10, 20, 30, 40, 50)`, reemplaza el segundo elemento con el valor `25` sin usar listas."
   ]
  },
  {
   "cell_type": "code",
   "execution_count": 23,
   "metadata": {},
   "outputs": [
    {
     "name": "stdout",
     "output_type": "stream",
     "text": [
      "(10, 25, 30, 40, 50)\n"
     ]
    }
   ],
   "source": [
    "tupla_14 = (10, 20, 30, 40, 50)\n",
    "\n",
    "tupla_14 = (tupla_14[0], 25, tupla_14[2], tupla_14[3], tupla_14[4]) # Se puede modificar un elemento de la tupla\n",
    "print(tupla_14)"
   ]
  },
  {
   "cell_type": "markdown",
   "metadata": {},
   "source": [
    "**Problema 15**: Escribe un programa que combine dos tuplas de igual longitud, como `(1, 2, 3)` y `('a', 'b', 'c')`, en una tupla de pares: `((1, 'a'), (2, 'b'), (3, 'c'))`."
   ]
  },
  {
   "cell_type": "code",
   "execution_count": 28,
   "metadata": {},
   "outputs": [
    {
     "name": "stdout",
     "output_type": "stream",
     "text": [
      "((1, 'a'), (2, 'b'), (3, 'c'))\n"
     ]
    }
   ],
   "source": [
    "tupla_15_1 = (1, 2, 3)\n",
    "tupla_15_2 = ('a', 'b', 'c')\n",
    "\n",
    "tupla_15 = tuple(zip(tupla_15_1, tupla_15_2)) # Se pueden unir dos tuplas con el metodo zip()\n",
    "print(tupla_15)\n"
   ]
  },
  {
   "cell_type": "markdown",
   "metadata": {},
   "source": [
    "## Listas Ejercicios (Nivel Basico)"
   ]
  },
  {
   "cell_type": "markdown",
   "metadata": {},
   "source": [
    "**Problema 16**:\n",
    "Crea una lista con los números del 1 al 10. Usa un bucle para imprimir cada elemento en una nueva línea."
   ]
  },
  {
   "cell_type": "code",
   "execution_count": 33,
   "metadata": {},
   "outputs": [
    {
     "name": "stdout",
     "output_type": "stream",
     "text": [
      "1\n",
      "2\n",
      "3\n",
      "4\n",
      "5\n",
      "6\n",
      "7\n",
      "8\n",
      "9\n",
      "10\n"
     ]
    }
   ],
   "source": [
    "lista_16 = [1, 2, 3, 4, 5, 6, 7, 8, 9, 10]\n",
    "\n",
    "for x in lista_16:\n",
    "    print(x)"
   ]
  },
  {
   "cell_type": "markdown",
   "metadata": {},
   "source": [
    "**Problema 17**:\n",
    "Dada la lista `[10, 20, 30, 40, 50]`, reemplaza el valor `30` con `35`.\n"
   ]
  },
  {
   "cell_type": "code",
   "execution_count": 34,
   "metadata": {},
   "outputs": [
    {
     "name": "stdout",
     "output_type": "stream",
     "text": [
      "[10, 20, 35, 40, 50]\n"
     ]
    }
   ],
   "source": [
    "lista_17 = [10, 20, 30, 40, 50]\n",
    "\n",
    "lista_17[2] = 35 # Se puede modificar un elemento de la lista\n",
    "\n",
    "print(lista_17)"
   ]
  },
  {
   "cell_type": "markdown",
   "metadata": {},
   "source": [
    "**Problema 18**:\n",
    "Escribe un programa que tome una lista de números y devuelva una nueva lista con los números duplicados eliminados.\n"
   ]
  },
  {
   "cell_type": "code",
   "execution_count": 35,
   "metadata": {},
   "outputs": [
    {
     "name": "stdout",
     "output_type": "stream",
     "text": [
      "[1, 2, 2, 3, 4, 5, 6, 6, 7, 8, 9, 10]\n",
      "[1, 2, 3, 4, 5, 6, 7, 8, 9, 10]\n"
     ]
    }
   ],
   "source": [
    "lista_18 = [1, 2, 2, 3, 4, 5, 6, 6, 7, 8, 9, 10]\n",
    "\n",
    "def lista_unica(lista):\n",
    "    print(lista)\n",
    "    return list(set(lista))\n",
    "\n",
    "lista_18 = lista_unica(lista_18) # Se pueden eliminar los elementos repetidos de una lista con el metodo set()\n",
    "print(lista_18)"
   ]
  },
  {
   "cell_type": "markdown",
   "metadata": {},
   "source": [
    "**Problema 19**:\n",
    "Escribe un programa que tome una lista de cadenas y devuelva una lista con las cadenas ordenadas alfabéticamente.\n"
   ]
  },
  {
   "cell_type": "code",
   "execution_count": 36,
   "metadata": {},
   "outputs": [
    {
     "name": "stdout",
     "output_type": "stream",
     "text": [
      "['hola', 'mundo', 'python', 'avion', 'barco', 'coche', 'python', 'java']\n",
      "['avion', 'barco', 'coche', 'hola', 'java', 'mundo', 'python', 'python']\n"
     ]
    }
   ],
   "source": [
    "lista_19 = ['hola', 'mundo', 'python', 'avion', 'barco', 'coche', 'python', 'java']\n",
    "print(lista_19)\n",
    "\n",
    "lista_19 = sorted(lista_19) # Se pueden ordenar los elementos de una lista con el metodo sorted()\n",
    "print(lista_19)"
   ]
  },
  {
   "cell_type": "markdown",
   "metadata": {},
   "source": [
    "**Problema 20**:\n",
    "Combina las listas `[1, 2, 3]` y `[4, 5, 6]` en una sola lista, e imprime la lista resultante.\n"
   ]
  },
  {
   "cell_type": "code",
   "execution_count": 37,
   "metadata": {},
   "outputs": [
    {
     "name": "stdout",
     "output_type": "stream",
     "text": [
      "[[1, 2, 3], [4, 5, 6]]\n"
     ]
    }
   ],
   "source": [
    "lista_20_1 = [1, 2, 3]\n",
    "lista_20_2 = [4, 5, 6]\n",
    "\n",
    "lista_20 = [lista_20_1, lista_20_2] # Se pueden anidar listas dentro de listas con corchetes\n",
    "\n",
    "print(lista_20)"
   ]
  },
  {
   "cell_type": "markdown",
   "metadata": {},
   "source": [
    "**Problema 21**:\n",
    "Crea una lista de números y calcula la suma de todos sus elementos usando un bucle.\n"
   ]
  },
  {
   "cell_type": "code",
   "execution_count": 38,
   "metadata": {},
   "outputs": [
    {
     "name": "stdout",
     "output_type": "stream",
     "text": [
      "[1, 2, 3, 4, 5, 6, 7, 8, 9, 10]\n",
      "55\n"
     ]
    }
   ],
   "source": [
    "lista_21 = [1, 2, 3, 4, 5, 6, 7, 8, 9, 10]\n",
    "\n",
    "suma_lista = sum(lista_21) # Se pueden sumar los elementos de una lista con la función sum()\n",
    "\n",
    "print(lista_21)\n",
    "print(suma_lista)"
   ]
  },
  {
   "cell_type": "markdown",
   "metadata": {},
   "source": [
    "**Problema 22**:\n",
    "Dada la lista `[100, 200, 300, 400, 500]`, elimina el elemento en la posición 3 (índice 2) y muestra la lista actualizada.\n"
   ]
  },
  {
   "cell_type": "code",
   "execution_count": 40,
   "metadata": {},
   "outputs": [
    {
     "name": "stdout",
     "output_type": "stream",
     "text": [
      "[100, 200, 400, 500]\n"
     ]
    }
   ],
   "source": [
    "lista_22 = [100, 200, 300, 400, 500]\n",
    "\n",
    "lista_22.pop(2) # Se pueden eliminar un elemento de una lista con el metodo pop()\n",
    "\n",
    "print(lista_22)"
   ]
  },
  {
   "cell_type": "markdown",
   "metadata": {},
   "source": [
    "**Problema 23**:\n",
    "Escribe un programa que tome una lista de números y devuelva una nueva lista que contenga solo los números pares.\n"
   ]
  },
  {
   "cell_type": "code",
   "execution_count": 41,
   "metadata": {},
   "outputs": [
    {
     "name": "stdout",
     "output_type": "stream",
     "text": [
      "[2, 4, 6, 8, 10]\n"
     ]
    }
   ],
   "source": [
    "lista_23 = [1, 2, 3, 4, 5, 6, 7, 8, 9, 10]\n",
    "\n",
    "def pares(lista):\n",
    "    pares = []\n",
    "    for i in lista:\n",
    "        if i % 2 == 0:\n",
    "            pares.append(i)\n",
    "        else:\n",
    "            continue\n",
    "    return pares\n",
    "\n",
    "lista_23 = pares(lista_23) # Se pueden filtrar los elementos de una lista con una función\n",
    "print(lista_23) "
   ]
  },
  {
   "cell_type": "markdown",
   "metadata": {},
   "source": [
    "**Problema 24**:\n",
    "Dada la lista `[5, 10, 15, 20, 25, 30]`, usa un bucle para duplicar cada elemento y almacena los resultados en una nueva lista.\n"
   ]
  },
  {
   "cell_type": "code",
   "execution_count": 47,
   "metadata": {},
   "outputs": [
    {
     "name": "stdout",
     "output_type": "stream",
     "text": [
      "5 0\n",
      "10 1\n",
      "15 2\n",
      "20 3\n",
      "25 4\n",
      "30 5\n",
      "[5, 5, 10, 10, 15, 15, 20, 20, 25, 25, 30, 30]\n"
     ]
    }
   ],
   "source": [
    "lista_24 = [5, 10, 15, 20, 25, 30]\n",
    "\n",
    "x = 0\n",
    "\n",
    "lista_new = lista_24.copy()\n",
    "\n",
    "for i in lista_new:\n",
    "    print(i, x)\n",
    "    lista_24.append(lista_new[x])\n",
    "    x += 1\n",
    "\n",
    "print(sorted(lista_24))"
   ]
  },
  {
   "cell_type": "markdown",
   "metadata": {},
   "source": [
    "**Problema 25**:\n",
    "Crea un programa que tome una lista de palabras y devuelva una nueva lista con solo las palabras que tienen más de 5 caracteres.\n"
   ]
  },
  {
   "cell_type": "code",
   "execution_count": 48,
   "metadata": {},
   "outputs": [
    {
     "name": "stdout",
     "output_type": "stream",
     "text": [
      "['hola', 'mundosi', 'python', 'avion', 'barcosesx', 'cochesftr', 'pythongod', 'java']\n",
      "hola\n",
      "mundosi\n",
      "python\n",
      "avion\n",
      "barcosesx\n",
      "cochesftr\n",
      "pythongod\n",
      "java\n",
      "['mundosi', 'python', 'barcosesx', 'cochesftr', 'pythongod']\n"
     ]
    }
   ],
   "source": [
    "lista_24 = ['hola', 'mundosi', 'python', 'avion', 'barcosesx', 'cochesftr', 'pythongod', 'java']\n",
    "\n",
    "print(lista_24)\n",
    "\n",
    "x = 0\n",
    "\n",
    "# .index() devuelve el indice del elemento indicado\n",
    "\n",
    "lista_24_5 = []\n",
    "\n",
    "for i in lista_24:\n",
    "    print(i)\n",
    "    if len(i) > 5:\n",
    "        lista_24_5.append(i)\n",
    "    else:\n",
    "        continue\n",
    "\n",
    "print(lista_24_5)"
   ]
  },
  {
   "cell_type": "markdown",
   "metadata": {},
   "source": [
    "## Listas Ejercicios (Nivel Intermedio)"
   ]
  },
  {
   "cell_type": "markdown",
   "metadata": {},
   "source": [
    "**Problema 26**:\n",
    "Escribe un programa que tome dos listas, `[1, 2, 3, 4, 5]` y `[4, 5, 6, 7, 8]`, y devuelva una nueva lista con los elementos que aparecen en ambas listas (intersección).\n"
   ]
  },
  {
   "cell_type": "code",
   "execution_count": 50,
   "metadata": {},
   "outputs": [
    {
     "name": "stdout",
     "output_type": "stream",
     "text": [
      "[1, 2, 3, 4, 5]\n",
      "[4, 5, 6, 7, 8]\n",
      "[4, 5]\n"
     ]
    }
   ],
   "source": [
    "lista_26_1 = [1, 2, 3, 4, 5]\n",
    "lista_26_2 = [4, 5, 6, 7, 8]\n",
    "\n",
    "print(lista_26_1)\n",
    "print(lista_26_2)\n",
    "\n",
    "lista_interseccion = list(set(lista_26_1).intersection(lista_26_2)) # Se pueden obtener los elementos que se repiten en dos listas con el metodo intersection()\n",
    "\n",
    "print(lista_interseccion)"
   ]
  },
  {
   "cell_type": "markdown",
   "metadata": {},
   "source": [
    "**Problema 27**:\n",
    "Dada la lista `[3, 1, 4, 1, 5, 9, 2, 6, 5, 3]`, elimina todos los elementos duplicados y muestra la lista resultante.\n"
   ]
  },
  {
   "cell_type": "code",
   "execution_count": 53,
   "metadata": {},
   "outputs": [
    {
     "name": "stdout",
     "output_type": "stream",
     "text": [
      "[3, 1, 4, 1, 5, 9, 2, 6, 5, 3]\n",
      "[1, 2, 3, 4, 5, 6, 9]\n"
     ]
    }
   ],
   "source": [
    "lista_27 = [3, 1, 4, 1, 5, 9, 2, 6, 5, 3]\n",
    "\n",
    "print(lista_27)\n",
    "lista_27 = list(set(lista_27))\n",
    "print(sorted(lista_27))"
   ]
  },
  {
   "cell_type": "markdown",
   "metadata": {},
   "source": [
    "**Problema 28**:\n",
    "Escribe un programa que tome una lista de palabras y devuelva un diccionario donde las claves sean las palabras y los valores sean la cantidad de veces que aparece cada palabra en la lista. Por ejemplo, para `[\"manzana\", \"naranja\", \"manzana\", \"pera\"]`, el resultado sería `{\"manzana\": 2, \"naranja\": 1, \"pera\": 1}`.\n"
   ]
  },
  {
   "cell_type": "code",
   "execution_count": 55,
   "metadata": {},
   "outputs": [
    {
     "name": "stdout",
     "output_type": "stream",
     "text": [
      "{'manzana': 6, 'naranja': 3, 'pera': 3}\n"
     ]
    }
   ],
   "source": [
    "lista_28 = [\"manzana\", \"naranja\", \"manzana\", \"pera\", \"pera\", \"manzana\", \"naranja\", \"manzana\", \"pera\", \"manzana\", \"naranja\", \"manzana\",]\n",
    "diccionario = {}\n",
    "\n",
    "def conversion_diccionario(lista):\n",
    "    for i in lista:\n",
    "        clave = i\n",
    "        valor = lista.count(i)\n",
    "        diccionario[clave] = valor\n",
    "    return diccionario\n",
    "\n",
    "diccionario_28 = conversion_diccionario(lista_28) # Se pueden convertir una lista en un diccionario con una función\n",
    "print(diccionario_28)"
   ]
  },
  {
   "cell_type": "markdown",
   "metadata": {},
   "source": [
    "**Problema 29**:\n",
    "Crea un programa que tome una lista de números y devuelva el segundo número más grande. Por ejemplo, para `[10, 20, 4, 45, 99]`, el resultado sería `45`.\n"
   ]
  },
  {
   "cell_type": "code",
   "execution_count": 58,
   "metadata": {},
   "outputs": [
    {
     "name": "stdout",
     "output_type": "stream",
     "text": [
      "45\n"
     ]
    }
   ],
   "source": [
    "lista_29 = [10, 20, 4, 45, 99]\n",
    "\n",
    "lista_ordenada = sorted(lista_29, reverse=True) # Se pueden ordenar los elementos de una lista con el metodo sorted()\n",
    "print(lista_ordenada[1])"
   ]
  },
  {
   "cell_type": "markdown",
   "metadata": {},
   "source": [
    "**Problema 30**:\n",
    "Dada la lista `[1, 2, 3, 4, 5]`, invierte el orden de sus elementos usando una función.\n"
   ]
  },
  {
   "cell_type": "code",
   "execution_count": 60,
   "metadata": {},
   "outputs": [
    {
     "name": "stdout",
     "output_type": "stream",
     "text": [
      "<class 'list'>\n",
      "[5, 4, 3, 2, 1]\n"
     ]
    }
   ],
   "source": [
    "lista_30 = [1, 2, 3, 4, 5]\n",
    "\n",
    "lista_30 = list(reversed(lista_30)) # Se pueden invertir los elementos de una lista con la función reversed()\n",
    "\n",
    "print(type(lista_30))\n",
    "print(lista_30)"
   ]
  },
  {
   "cell_type": "markdown",
   "metadata": {},
   "source": [
    "## Sets Ejercicios (Nivel Basico)"
   ]
  },
  {
   "cell_type": "markdown",
   "metadata": {},
   "source": [
    "**Problema 31**:  \n",
    "Crea un programa que dado el conjunto `{1, 2, 3, 4, 5}`, agregue el elemento `6` al conjunto. Luego imprime el conjunto actualizado.\n"
   ]
  },
  {
   "cell_type": "code",
   "execution_count": 61,
   "metadata": {},
   "outputs": [
    {
     "name": "stdout",
     "output_type": "stream",
     "text": [
      "{1, 2, 3, 4, 5, 6}\n"
     ]
    }
   ],
   "source": [
    "set_31 = {1, 2, 3, 4, 5}\n",
    "\n",
    "set_31.add(6) # Se pueden agregar elementos a un conjunto con el metodo add()\n",
    "\n",
    "print(set_31)"
   ]
  },
  {
   "cell_type": "markdown",
   "metadata": {},
   "source": [
    "**Problema 32**:  \n",
    "Crea un programa que dado el conjunto `{10, 20, 30, 40, 50}`, elimine el elemento `30`. Luego imprime el conjunto actualizado.\n"
   ]
  },
  {
   "cell_type": "code",
   "execution_count": 62,
   "metadata": {},
   "outputs": [
    {
     "name": "stdout",
     "output_type": "stream",
     "text": [
      "{50, 20, 40, 10}\n"
     ]
    }
   ],
   "source": [
    "set_32 = {10, 20, 30, 40, 50}\n",
    "\n",
    "set_32.remove(30) # Se pueden eliminar elementos de un conjunto con el metodo remove()\n",
    "print(set_32)"
   ]
  },
  {
   "cell_type": "markdown",
   "metadata": {},
   "source": [
    "**Problema 33**:  \n",
    "Crea un programa que tome dos conjuntos `{1, 2, 3, 4}` y `{3, 4, 5, 6}`, obtenga su **unión** y su **intersección**, e imprima ambos resultados.\n"
   ]
  },
  {
   "cell_type": "code",
   "execution_count": 63,
   "metadata": {},
   "outputs": [
    {
     "name": "stdout",
     "output_type": "stream",
     "text": [
      "Set de union: {1, 2, 3, 4, 5, 6}\n",
      "Set de interseccion: {3, 4}\n"
     ]
    }
   ],
   "source": [
    "set_33_1 = {1, 2, 3, 4}\n",
    "set_33_2 = {3, 4, 5, 6}\n",
    "\n",
    "set_33_union = set_33_1.union(set_33_2) # Se pueden unir dos conjuntos con el metodo union()\n",
    "set_33_interseccion = set_33_1.intersection(set_33_2) # Se pueden obtener los elementos que se repiten en dos conjuntos con el metodo intersection()\n",
    "\n",
    "# En los set no se pueden tener elementos repetidos\n",
    "# Por ello los valores 3 y 4 no se repiten en el set de union\n",
    "\n",
    "print(f'Set de union: {set_33_union}')\n",
    "print(f'Set de interseccion: {set_33_interseccion}')"
   ]
  },
  {
   "cell_type": "markdown",
   "metadata": {},
   "source": [
    "**Problema 34**:  \n",
    "Crea un programa que dado el conjunto `{7, 8, 9}`, verifique si el número `8` pertenece al conjunto. Imprime `True` si está y `False` si no.\n"
   ]
  },
  {
   "cell_type": "code",
   "execution_count": 66,
   "metadata": {},
   "outputs": [
    {
     "name": "stdout",
     "output_type": "stream",
     "text": [
      "El valor 8 esta en el set: True\n"
     ]
    }
   ],
   "source": [
    "set_34 = {7, 8, 9}\n",
    "\n",
    "validacion = 8 in set_34 # Se pueden validar si un elemento esta en un conjunto con el operador in\n",
    "\n",
    "print(f'El valor 8 esta en el set: {validacion}')"
   ]
  },
  {
   "cell_type": "markdown",
   "metadata": {},
   "source": [
    "**Problema 35**:  \n",
    "Crea un programa que genere un conjunto a partir de la lista `[1, 2, 2, 3, 4, 4, 5]`, eliminando los elementos duplicados. Imprime el conjunto resultante.\n"
   ]
  },
  {
   "cell_type": "code",
   "execution_count": 67,
   "metadata": {},
   "outputs": [
    {
     "name": "stdout",
     "output_type": "stream",
     "text": [
      "{1, 2, 3, 4, 5}\n"
     ]
    }
   ],
   "source": [
    "lista_35 = [1, 2, 2, 3, 4, 4, 5]\n",
    "\n",
    "set_35 = set(lista_35) # Se pueden convertir una lista en un conjunto con el metodo set()\n",
    "print(set_35)"
   ]
  },
  {
   "cell_type": "markdown",
   "metadata": {},
   "source": [
    "## Sets Ejercicios (Nivel Intermedio)"
   ]
  },
  {
   "cell_type": "markdown",
   "metadata": {},
   "source": [
    "**Problema 36**:  \n",
    "Crea un programa que reciba una lista de números y devuelva un conjunto con los números únicos de la lista. Por ejemplo, para la lista `[1, 2, 2, 3, 4, 4, 5]`, el resultado sería `{1, 2, 3, 4, 5}`.\n"
   ]
  },
  {
   "cell_type": "code",
   "execution_count": 68,
   "metadata": {},
   "outputs": [
    {
     "name": "stdout",
     "output_type": "stream",
     "text": [
      "<class 'set'> {1, 2, 3, 4, 5, 6, 7, 8, 9, 10}\n"
     ]
    }
   ],
   "source": [
    "lista_36 = [1, 1, 2, 3, 4, 5, 6, 6, 7, 8, 9, 10, 10]\n",
    "\n",
    "def lista_unica(lista):\n",
    "    return set(lista)\n",
    "\n",
    "lista_36 = lista_unica(lista_36) # Se pueden eliminar los elementos repetidos de una lista con el metodo set()\n",
    "\n",
    "print(type(lista_36), lista_36)"
   ]
  },
  {
   "cell_type": "markdown",
   "metadata": {},
   "source": [
    "**Problema 37**:  \n",
    "Dado dos conjuntos de números, crea un programa que devuelva un conjunto con los elementos que están en ambos conjuntos (intersección). Por ejemplo, para los conjuntos `{1, 2, 3, 4}` y `{3, 4, 5, 6}`, el resultado será `{3, 4}`.\n"
   ]
  },
  {
   "cell_type": "code",
   "execution_count": 69,
   "metadata": {},
   "outputs": [
    {
     "name": "stdout",
     "output_type": "stream",
     "text": [
      "{4, 5}\n"
     ]
    }
   ],
   "source": [
    "set_37_1 = {1, 2, 3, 4, 5}\n",
    "set_37_2 = {4, 5, 6, 7, 8}\n",
    "\n",
    "set_37 = set_37_1.intersection(set_37_2) # Se pueden obtener los elementos que se repiten en dos conjuntos con el metodo intersection()\n",
    "\n",
    "print(set_37)"
   ]
  },
  {
   "cell_type": "code",
   "execution_count": 72,
   "metadata": {},
   "outputs": [
    {
     "ename": "NameError",
     "evalue": "name 'set_37' is not defined",
     "output_type": "error",
     "traceback": [
      "\u001b[1;31m---------------------------------------------------------------------------\u001b[0m",
      "\u001b[1;31mNameError\u001b[0m                                 Traceback (most recent call last)",
      "Cell \u001b[1;32mIn[72], line 1\u001b[0m\n\u001b[1;32m----> 1\u001b[0m \u001b[38;5;28mprint\u001b[39m(\u001b[43mset_37\u001b[49m)\n\u001b[0;32m      2\u001b[0m set_37\u001b[38;5;241m.\u001b[39mclear() \u001b[38;5;66;03m# Se pueden eliminar todos los elementos de un conjunto con el metodo clear()\u001b[39;00m\n\u001b[0;32m      4\u001b[0m \u001b[38;5;28mprint\u001b[39m(set_37)\n",
      "\u001b[1;31mNameError\u001b[0m: name 'set_37' is not defined"
     ]
    }
   ],
   "source": [
    "print(set_37)\n",
    "set_37.clear() # Se pueden eliminar todos los elementos de un conjunto con el metodo clear()\n",
    "\n",
    "print(set_37)\n",
    "\n",
    "del set_37 # Se pueden eliminar un conjunto con la palabra reservada del\n",
    "\n",
    "print(set_37) # Error porque se elimino el conjunto"
   ]
  },
  {
   "cell_type": "markdown",
   "metadata": {},
   "source": [
    "**Problema 38**:  \n",
    "Crea un programa que reciba dos conjuntos y devuelva un conjunto con todos los elementos de ambos conjuntos (unión). Por ejemplo, para los conjuntos `{1, 2, 3, 4}` y `{3, 4, 5, 6}`, el resultado será `{1, 2, 3, 4, 5, 6}`.\n"
   ]
  },
  {
   "cell_type": "code",
   "execution_count": 73,
   "metadata": {},
   "outputs": [
    {
     "name": "stdout",
     "output_type": "stream",
     "text": [
      "{1, 2, 3, 4, 5, 6, 7, 8}\n"
     ]
    }
   ],
   "source": [
    "set_38_1 = {1, 2, 3, 4, 5}\n",
    "set_38_2 = {4, 5, 6, 7, 8}\n",
    "\n",
    "set_38 = set_38_1.union(set_38_2) # Se pueden unir dos conjuntos con el metodo union()\n",
    "\n",
    "print(set_38)"
   ]
  },
  {
   "cell_type": "markdown",
   "metadata": {},
   "source": [
    "**Problema 39**:  \n",
    "Crea un programa que reciba un conjunto y devuelva `True` si el conjunto está vacío y `False` si contiene al menos un elemento.  \n",
    "Ejemplo:  \n",
    "```python\n",
    "set_1 = {1, 2, 3}\n",
    "set_2 = {}\n"
   ]
  },
  {
   "cell_type": "code",
   "execution_count": 83,
   "metadata": {},
   "outputs": [
    {
     "name": "stdout",
     "output_type": "stream",
     "text": [
      "3\n",
      "0\n",
      "El resultado es True (esta vacío)\n"
     ]
    }
   ],
   "source": [
    "set_39_1 = {1, 2, 3}\n",
    "set_39_2 = {}\n",
    "\n",
    "print(len(set_39_1))\n",
    "print(len(set_39_2))\n",
    "\n",
    "if len(set_39_2) == 0:\n",
    "    print(f'El resultado es {True} (esta vacío)')\n",
    "else:\n",
    "    print(f'El resultado es {False} (esta lleno)')"
   ]
  },
  {
   "cell_type": "markdown",
   "metadata": {},
   "source": [
    "**Problema 40**:  \n",
    "Crea un programa que tome dos conjuntos y devuelva los elementos que están en el primer conjunto pero no en el segundo (diferencia). Por ejemplo, para los conjuntos `{1, 2, 3, 4}` y `{3, 4, 5, 6}`, el resultado será `{1, 2}`."
   ]
  },
  {
   "cell_type": "code",
   "execution_count": 85,
   "metadata": {},
   "outputs": [
    {
     "name": "stdout",
     "output_type": "stream",
     "text": [
      "{1, 2, 3, 4}\n"
     ]
    }
   ],
   "source": [
    "set_40_1 = {1, 2, 3, 4, 5, 6, 7}\n",
    "set_40_2 = {5, 6, 7, 8, 9, 10}\n",
    "\n",
    "set_diferencial = set_40_1.difference(set_40_2) # Se pueden obtener los elementos que no se repiten en dos conjuntos con el metodo difference()\n",
    "\n",
    "print(set_diferencial)"
   ]
  },
  {
   "cell_type": "markdown",
   "metadata": {},
   "source": [
    "| Método/Función              | Tipo     | Descripción                                                                 | Ejemplo                                      |\n",
    "|-----------------------------|----------|-----------------------------------------------------------------------------|----------------------------------------------|\n",
    "| `add()`                     | Método   | Agrega un elemento al conjunto.                                             | `sett.add(7)`                                |\n",
    "| `remove()`                  | Método   | Elimina un elemento del conjunto. Lanza un error si el elemento no existe.  | `sett.remove(4)`                             |\n",
    "| `discard()`                 | Método   | Elimina un elemento del conjunto. No lanza un error si el elemento no existe.| `sett.discard(4)`                            |\n",
    "| `pop()`                     | Método   | Elimina y devuelve un elemento aleatorio del conjunto.                      | `sett.pop()`                                 |\n",
    "| `clear()`                   | Método   | Elimina todos los elementos del conjunto.                                   | `sett.clear()`                               |\n",
    "| `union()`                   | Método   | Devuelve la unión de dos conjuntos.                                         | `sett.union(otro_set)`                       |\n",
    "| `intersection()`            | Método   | Devuelve la intersección de dos conjuntos.                                  | `sett.intersection(otro_set)`                |\n",
    "| `difference()`              | Método   | Devuelve la diferencia de dos conjuntos.                                    | `sett.difference(otro_set)`                  |\n",
    "| `issubset()`                | Método   | Verifica si un conjunto es subconjunto de otro.                             | `sett.issubset(otro_set)`                    |\n",
    "| `issuperset()`              | Método   | Verifica si un conjunto es superconjunto de otro.                           | `sett.issuperset(otro_set)`                  |\n",
    "| `len()`                     | Función  | Devuelve el número de elementos en el conjunto.                             | `len(sett)`                                  |\n",
    "| `in`                        | Operador | Verifica si un elemento está en el conjunto.                                | `3 in sett`                                  |\n",
    "| `not in`                    | Operador | Verifica si un elemento no está en el conjunto.                             | `3 not in sett`                              |\n",
    "| `copy()`                    | Método   | Devuelve una copia superficial del conjunto.                                | `sett.copy()`                                |\n",
    "| `update()`                  | Método   | Agrega múltiples elementos al conjunto.                                     | `sett.update([7, 8, 9])`                     |\n",
    "| `symmetric_difference()`    | Método   | Devuelve la diferencia simétrica de dos conjuntos.                          | `sett.symmetric_difference(otro_set)`        |\n",
    "| `isdisjoint()`              | Método   | Verifica si dos conjuntos no tienen elementos en común.                     | `sett.isdisjoint(otro_set)`                  |\n",
    "| `frozenset()`               | Función  | Devuelve un conjunto inmutable.                                             | `frozenset([1, 2, 3])`                       |\n",
    "| `intersection_update()`     | Método   | Actualiza el conjunto con la intersección de sí mismo y otro.               | `sett.intersection_update(otro_set)`         |\n",
    "| `difference_update()`       | Método   | Actualiza el conjunto eliminando elementos presentes en otro conjunto.       | `sett.difference_update(otro_set)`           |\n",
    "| `symmetric_difference_update()` | Método | Actualiza el conjunto con la diferencia simétrica de sí mismo y otro.        | `sett.symmetric_difference_update(otro_set)` |\n",
    "| `enumerate()`               | Función  | Devuelve un objeto enumerado.                                               | `enumerate(sett)`                            |\n",
    "| `max()`                     | Función  | Devuelve el elemento máximo del conjunto.                                   | `max(sett)`                                  |\n",
    "| `min()`                     | Función  | Devuelve el elemento mínimo del conjunto.                                   | `min(sett)`                                  |\n",
    "| `sum()`                     | Función  | Devuelve la suma de todos los elementos del conjunto.                       | `sum(sett)`                                  |\n",
    "| `sorted()`                  | Función  | Devuelve una lista ordenada de los elementos del conjunto.                  | `sorted(sett)`                               |"
   ]
  },
  {
   "cell_type": "markdown",
   "metadata": {},
   "source": [
    "## Diccionarios Ejercicios (Nivel Basico)"
   ]
  },
  {
   "cell_type": "markdown",
   "metadata": {},
   "source": [
    "**Problema 1**: Crea un diccionario que contenga los nombres de tres personas y sus edades. Luego, imprime la edad de la segunda persona."
   ]
  },
  {
   "cell_type": "code",
   "execution_count": 2,
   "metadata": {},
   "outputs": [
    {
     "name": "stdout",
     "output_type": "stream",
     "text": [
      "25\n"
     ]
    }
   ],
   "source": [
    "diccionario_1 = {'jesus':23, 'maria':25, 'jose':30}\n",
    "\n",
    "segunda_persona = diccionario_1['maria']\n",
    "\n",
    "print(segunda_persona)"
   ]
  },
  {
   "cell_type": "markdown",
   "metadata": {},
   "source": [
    "**Problema 2**: Añade una nueva entrada al diccionario del problema anterior con el nombre y la edad de una cuarta persona. Luego, imprime todo el diccionario."
   ]
  },
  {
   "cell_type": "code",
   "execution_count": 3,
   "metadata": {},
   "outputs": [
    {
     "name": "stdout",
     "output_type": "stream",
     "text": [
      "{'jesus': 23, 'maria': 25, 'jose': 30, 'adrian': 45}\n"
     ]
    }
   ],
   "source": [
    "diccionario_1['adrian'] = 45\n",
    "print(diccionario_1)"
   ]
  },
  {
   "cell_type": "markdown",
   "metadata": {},
   "source": [
    "\n",
    "**Problema 3**: Elimina la entrada de la primera persona del diccionario del problema anterior. Luego, imprime todo el diccionario."
   ]
  },
  {
   "cell_type": "code",
   "execution_count": 4,
   "metadata": {},
   "outputs": [
    {
     "name": "stdout",
     "output_type": "stream",
     "text": [
      "{'maria': 25, 'jose': 30, 'adrian': 45}\n"
     ]
    }
   ],
   "source": [
    "diccionario_1.pop('jesus') # Se pueden eliminar un elemento de un diccionario con el metodo pop()\n",
    "print(diccionario_1)"
   ]
  },
  {
   "cell_type": "markdown",
   "metadata": {},
   "source": [
    "\n",
    "**Problema 4**: Crea un diccionario que contenga los nombres de tres ciudades y sus respectivas poblaciones. Luego, imprime la población de la tercera ciudad."
   ]
  },
  {
   "cell_type": "code",
   "execution_count": 7,
   "metadata": {},
   "outputs": [
    {
     "name": "stdout",
     "output_type": "stream",
     "text": [
      "3452342\n"
     ]
    }
   ],
   "source": [
    "diccionario_ciudades = { 'lima': 344466, 'bogota': 444444, 'santiago': 3452342 }\n",
    "\n",
    "print(diccionario_ciudades['santiago'])\n"
   ]
  },
  {
   "cell_type": "markdown",
   "metadata": {},
   "source": [
    "**Problema 5**: Actualiza la población de la segunda ciudad en el diccionario del problema anterior. Luego, imprime todo el diccionario.\n"
   ]
  },
  {
   "cell_type": "code",
   "execution_count": 9,
   "metadata": {},
   "outputs": [
    {
     "name": "stdout",
     "output_type": "stream",
     "text": [
      "{'lima': 344466, 'bogota': 444444, 'santiago': 3452342}\n",
      "{'lima': 344466, 'bogota': 999999, 'santiago': 3452342}\n"
     ]
    }
   ],
   "source": [
    "print(diccionario_ciudades)\n",
    "\n",
    "diccionario_ciudades['bogota'] = 999999 # Se pueden modificar un elemento de un diccionario\n",
    "\n",
    "print(diccionario_ciudades)"
   ]
  },
  {
   "cell_type": "markdown",
   "metadata": {},
   "source": [
    "## Diccionarios Ejercicios (Nivel Intermedio)"
   ]
  },
  {
   "cell_type": "markdown",
   "metadata": {},
   "source": [
    "**Problema 6**: Dado un diccionario con nombres de empleados y sus salarios, incrementa el salario de cada empleado en un 10%."
   ]
  },
  {
   "cell_type": "code",
   "execution_count": 15,
   "metadata": {},
   "outputs": [
    {
     "name": "stdout",
     "output_type": "stream",
     "text": [
      "{'juan': 1000, 'maria': 2000, 'jose': 3000}\n",
      "{'juan': 1100, 'maria': 2200, 'jose': 3300}\n"
     ]
    }
   ],
   "source": [
    "# Dado un diccionario con nombres de empleados y sus salarios\n",
    "\n",
    "diccionario_6 = {'juan': 1000, 'maria': 2000, 'jose': 3000}\n",
    "print(diccionario_6)\n",
    "\n",
    "for i in diccionario_6:\n",
    "    diccionario_6[i] = round(diccionario_6[i] * 1.1)\n",
    "\n",
    "print(diccionario_6)"
   ]
  },
  {
   "cell_type": "markdown",
   "metadata": {},
   "source": [
    "**Problema 7**: Combina dos diccionarios en uno solo. Si hay claves duplicadas, suma sus valores."
   ]
  },
  {
   "cell_type": "code",
   "execution_count": 16,
   "metadata": {},
   "outputs": [
    {
     "name": "stdout",
     "output_type": "stream",
     "text": [
      "{'a': 400, 'b': 400, 'c': 300, 'd': 400}\n"
     ]
    }
   ],
   "source": [
    "# Combina dos diccionarios en uno solo. Si hay claves duplicadas, suma sus valores.\n",
    "\n",
    "diccionario_7_1 = {'a': 100, 'b': 200, 'c': 300}\n",
    "diccionario_7_2 = {'a': 300, 'b': 200, 'd': 400}\n",
    "\n",
    "diccionario_7 = {}\n",
    "\n",
    "# Se pueden combinar dos diccionarios en uno solo con un ciclo for y un condicional\n",
    "# Haciendo que si la clave esta en ambos diccionarios, sume sus valores y si no, agregue la clave y el valor al diccionario final\n",
    "for i in diccionario_7_1:\n",
    "    if i in diccionario_7_2:\n",
    "        diccionario_7[i] = diccionario_7_1[i] + diccionario_7_2[i]\n",
    "    else:\n",
    "        diccionario_7[i] = diccionario_7_1[i]\n",
    "\n",
    "# Por ultimo se agregan las claves que no estan en el primer diccionario pero si en el segundo al diccionario final\n",
    "for i in diccionario_7_2:\n",
    "    if i not in diccionario_7:\n",
    "        diccionario_7[i] = diccionario_7_2[i]\n",
    "\n",
    "print(diccionario_7)"
   ]
  },
  {
   "cell_type": "markdown",
   "metadata": {},
   "source": [
    "**Problema 8**: Dado un diccionario con nombres de estudiantes y sus calificaciones, crea un nuevo diccionario que contenga solo a los estudiantes que aprobaron (calificación mayor o igual a 60)."
   ]
  },
  {
   "cell_type": "code",
   "execution_count": 17,
   "metadata": {},
   "outputs": [
    {
     "name": "stdout",
     "output_type": "stream",
     "text": [
      "{'maria': 15, 'jose': 20}\n"
     ]
    }
   ],
   "source": [
    "diccionario_notas = {'juan': 10, 'maria': 15, 'jose': 20}\n",
    "diccionario_aprobados = {}\n",
    "\n",
    "\n",
    "for i in diccionario_notas:\n",
    "    if diccionario_notas[i] >= 11:\n",
    "        diccionario_aprobados[i] = diccionario_notas[i]\n",
    "    else:\n",
    "        continue\n",
    "\n",
    "print(diccionario_aprobados)"
   ]
  },
  {
   "cell_type": "markdown",
   "metadata": {},
   "source": [
    "**Problema 9**: Dado un diccionario con nombres de productos y sus precios, crea un nuevo diccionario con los productos cuyo precio esté por debajo de un valor dado."
   ]
  },
  {
   "cell_type": "code",
   "execution_count": 20,
   "metadata": {},
   "outputs": [
    {
     "name": "stdout",
     "output_type": "stream",
     "text": [
      "{'manzanas': 14, 'peras': 20, 'naranjas': 36}\n"
     ]
    }
   ],
   "source": [
    "diccionario_productos = {'manzanas': 14, 'peras': 20, 'naranjas': 36, 'uvas': 67}\n",
    "\n",
    "valor_dado = 36\n",
    "diccionario_productos_2 = {}\n",
    "\n",
    "for i in diccionario_productos:\n",
    "    # print(diccionario_productos[i])\n",
    "    if diccionario_productos[i] <= valor_dado:\n",
    "        diccionario_productos_2[i] = diccionario_productos[i]\n",
    "    else:\n",
    "        continue\n",
    "\n",
    "print(diccionario_productos_2)"
   ]
  },
  {
   "cell_type": "markdown",
   "metadata": {},
   "source": [
    "**Problema 10**: Dado un diccionario con nombres de países y sus poblaciones, encuentra el país con la menor población."
   ]
  },
  {
   "cell_type": "code",
   "execution_count": 21,
   "metadata": {},
   "outputs": [
    {
     "name": "stdout",
     "output_type": "stream",
     "text": [
      "peru\n"
     ]
    }
   ],
   "source": [
    "# Dado un diccionario con nombres de países y sus poblaciones, encuentra el país con la menor población.\n",
    "\n",
    "diccionario_paises = {'peru': 344466, 'colombia': 444444, 'chile': 3452342}\n",
    "\n",
    "menor_poblacion = min(diccionario_paises, key=diccionario_paises.get) # Se puede obtener la clave con el valor minimo de un diccionario con la función min()\n",
    "\n",
    "print(menor_poblacion)"
   ]
  },
  {
   "cell_type": "markdown",
   "metadata": {},
   "source": [
    "| Función/Método              | Tipo     | Descripción                                                                 | Ejemplo                                      |\n",
    "|-----------------------------|----------|-----------------------------------------------------------------------------|----------------------------------------------|\n",
    "| `keys()`                    | Método   | Devuelve una vista de las claves en un diccionario.                         | `diccionario.keys()`                         |\n",
    "| `values()`                  | Método   | Devuelve una vista de los valores en un diccionario.                        | `diccionario.values()`                       |\n",
    "| `items()`                   | Método   | Devuelve una vista de los pares clave-valor en un diccionario.              | `diccionario.items()`                        |\n",
    "| `update()`                  | Método   | Actualiza un diccionario con los pares clave-valor de otro diccionario.     | `diccionario.update(otro_diccionario)`       |\n",
    "| `get()`                     | Método   | Devuelve el valor de una clave en un diccionario.                           | `diccionario.get('clave')`                   |\n",
    "| `clear()`                   | Método   | Elimina todos los elementos de un diccionario.                              | `diccionario.clear()`                        |\n",
    "| `copy()`                    | Método   | Devuelve una copia superficial del diccionario.                             | `diccionario.copy()`                         |\n",
    "| `setdefault()`              | Método   | Devuelve el valor de una clave, y si no existe, la inserta con un valor por defecto. | `diccionario.setdefault('clave', 'valor')`   |\n",
    "| `fromkeys()`                | Método   | Crea un nuevo diccionario con claves de un iterable y valores por defecto.  | `dict.fromkeys(['a', 'b', 'c'], 0)`          |\n",
    "| `pop()`                     | Método   | Elimina una clave del diccionario y devuelve su valor.                      | `diccionario.pop('clave')`                   |\n",
    "| `popitem()`                 | Método   | Elimina y devuelve el último par clave-valor insertado.                     | `diccionario.popitem()`                      |\n",
    "| `del`                       | Operador | Elimina una clave y su valor de un diccionario.                             | `del diccionario['clave']`                   |\n",
    "| `in`                        | Operador | Verifica si una clave está en un diccionario.                               | `'clave' in diccionario`                     |\n",
    "| `not in`                    | Operador | Verifica si una clave no está en un diccionario.                            | `'clave' not in diccionario`                 |\n",
    "| `len()`                     | Función  | Devuelve el número de elementos (pares clave-valor) en un diccionario.      | `len(diccionario)`                           |\n"
   ]
  }
 ],
 "metadata": {
  "kernelspec": {
   "display_name": "Python 3",
   "language": "python",
   "name": "python3"
  },
  "language_info": {
   "codemirror_mode": {
    "name": "ipython",
    "version": 3
   },
   "file_extension": ".py",
   "mimetype": "text/x-python",
   "name": "python",
   "nbconvert_exporter": "python",
   "pygments_lexer": "ipython3",
   "version": "3.11.5"
  }
 },
 "nbformat": 4,
 "nbformat_minor": 2
}
