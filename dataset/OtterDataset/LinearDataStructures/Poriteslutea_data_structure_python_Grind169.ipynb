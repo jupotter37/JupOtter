{
  "nbformat": 4,
  "nbformat_minor": 0,
  "metadata": {
    "colab": {
      "provenance": [],
      "toc_visible": true,
      "authorship_tag": "ABX9TyMyHM2toLV6p453RaK1zFJJ",
      "include_colab_link": true
    },
    "kernelspec": {
      "name": "python3",
      "display_name": "Python 3"
    },
    "language_info": {
      "name": "python"
    }
  },
  "cells": [
    {
      "cell_type": "markdown",
      "metadata": {
        "id": "view-in-github",
        "colab_type": "text"
      },
      "source": [
        "<a href=\"https://colab.research.google.com/github/Poriteslutea/data_structure_python/blob/master/Grind169.ipynb\" target=\"_parent\"><img src=\"https://colab.research.google.com/assets/colab-badge.svg\" alt=\"Open In Colab\"/></a>"
      ]
    },
    {
      "cell_type": "markdown",
      "source": [
        "# Grind169\n",
        "\n",
        "[Notion Link](https://www.notion.so/grind169-88af5fc653f3498b8f3162fe7114c876)\n",
        "\n",
        "[官神題解](https://github.com/wisdompeak/LeetCode)"
      ],
      "metadata": {
        "id": "wE1n5nnEW9e5"
      }
    },
    {
      "cell_type": "code",
      "source": [
        "from typing import List"
      ],
      "metadata": {
        "id": "JOBl3WV9mAUD"
      },
      "execution_count": null,
      "outputs": []
    },
    {
      "cell_type": "markdown",
      "source": [
        "# Array"
      ],
      "metadata": {
        "id": "yCl9D3c8XV3g"
      }
    },
    {
      "cell_type": "markdown",
      "source": [
        "## 121. Best Time to Buy and Sell Stock\n",
        "\n",
        "https://leetcode.com/problems/best-time-to-buy-and-sell-stock/\n",
        "\n",
        "easy, dynamic programming\n",
        "\n",
        "給定一個array有每天的股價，選定一天買並在有持股時的另一天才能賣，到最後一天時，回傳能得到的最大利潤\n",
        "### Example：\n",
        "```\n",
        "Input: prices = [7,1,5,3,6,4]\n",
        "Output: 5\n",
        "Explanation: Buy on day 2 (price = 1) and sell on day 5 (price = 6), profit = 6-1 = 5.\n",
        "Note that buying on day 2 and selling on day 1 is not allowed because you must buy before you sell.\n",
        "\n",
        "```\n",
        "### Idea：\n",
        "在一次的for loop內，找出當前最小值，以及當前最大利潤:max(原本最大利潤,當日利潤)，找到最後一個數後即可返回最大利潤。雖然不能當日買當日賣，但如果當日價格是目前最低價的話，當日賣的利潤最多也只是0而已，所以這邊就沒有去寫：\n",
        "```\n",
        "if min_price == v:\n",
        "  continue\n",
        "```\n",
        "\n",
        "\n",
        "這系列有超多題，可以參考[官神動態規畫小講座](https://www.youtube.com/watch?v=FLbqgyJ-70I&t=1028s&ab_channel=HuifengGuan)\n",
        "\n",
        "但這題其實沒用到dp array也都還能解，比較像的類題是：[53.Maximum Subarray](https://leetcode.com/problems/maximum-subarray/) 個人滿喜歡的一題，哈哈"
      ],
      "metadata": {
        "id": "ljiWMNe_Xafm"
      }
    },
    {
      "cell_type": "code",
      "source": [
        "class Solution:\n",
        "    def maxProfit(self, prices: List[int]) -> int:\n",
        "\n",
        "        min_price = float('inf')\n",
        "        max_profit = 0\n",
        "\n",
        "        for v in prices:\n",
        "            min_price = min(min_price, v)\n",
        "            max_profit = max(max_profit, v-min_price)\n",
        "\n",
        "        return max_profit\n"
      ],
      "metadata": {
        "id": "iaCPemyZXU8m"
      },
      "execution_count": null,
      "outputs": []
    },
    {
      "cell_type": "code",
      "source": [
        "s = Solution()\n",
        "prices = [7,1,5,3,6,4]\n",
        "ret = s.maxProfit(prices)\n",
        "print(ret)"
      ],
      "metadata": {
        "id": "pRL6iUExmaOE"
      },
      "execution_count": null,
      "outputs": []
    },
    {
      "cell_type": "markdown",
      "source": [
        "## 169. Majority Element\n",
        "\n",
        "https://leetcode.com/problems/majority-element/description/\n",
        "\n",
        "easy\n",
        "\n",
        "給一個序列，裡面會有一個主要的數，那個數的數量會是序列長度的一半以上\n",
        "\n",
        "### Example：\n",
        "```\n",
        "Input: nums = [2,2,1,1,1,2,2]\n",
        "Output: 2\n",
        "```\n",
        "### Idea：\n",
        "把整個array排序，正中間偏左那個index一定會是majority element~~因為題目也保證一定會給有majority element的array\n",
        "\n",
        "如果可能不會有majority element，那目前寫的這個方法就可能會失效，可以用`collections.Counter(nums)`來算各個元素出現幾次，再用`sorted(list(c.items()),key=lambda x:x[1])`去排序數量，並取數量最大的majority\n",
        "\n"
      ],
      "metadata": {
        "id": "bb7Vf_rDgERm"
      }
    },
    {
      "cell_type": "code",
      "source": [
        "class Solution:\n",
        "    def majorityElement(self, nums: List[int]) -> int:\n",
        "       mi = len(nums)//2\n",
        "       nums.sort()\n",
        "       return nums[mi]"
      ],
      "metadata": {
        "id": "4lfDIXxLi0RS"
      },
      "execution_count": null,
      "outputs": []
    },
    {
      "cell_type": "markdown",
      "source": [
        "## 283. Move Zeroes\n",
        "\n",
        "https://leetcode.com/problems/move-zeroes/description/\n",
        "\n",
        "easy\n",
        "\n",
        "把序列中的0移到最後面，要in-place的改動序列，不可以再做新序列\n",
        "\n",
        "### Example：\n",
        "```\n",
        "Input: nums = [0,1,0,3,12]\n",
        "Output: [1,3,12,0,0]\n",
        "```\n",
        "\n",
        "### Idea：\n",
        "另外存一組新的Index, 遇到0就continue，只把要放進去的數以新index存放\n",
        "\n",
        "但會剩最後幾個多出來的位置，再把0放進去即可"
      ],
      "metadata": {
        "id": "A0Q5YIZsrGUu"
      }
    },
    {
      "cell_type": "code",
      "source": [
        "class Solution:\n",
        "    def moveZeroes(self, nums: List[int]) -> None:\n",
        "        \"\"\"\n",
        "        Do not return anything, modify nums in-place instead.\n",
        "        \"\"\"\n",
        "\n",
        "        i = 0\n",
        "        for v in nums:\n",
        "            if v == 0:\n",
        "                continue\n",
        "            else:\n",
        "                nums[i] = v\n",
        "                i += 1\n",
        "\n",
        "        for idx in range(i,len(nums)):\n",
        "            nums[idx] = 0\n",
        "\n",
        "\n",
        "        return nums"
      ],
      "metadata": {
        "id": "3GwRF7J9rx4Z"
      },
      "execution_count": null,
      "outputs": []
    },
    {
      "cell_type": "markdown",
      "source": [
        "## 57. Insert Interval\n",
        "\n",
        "https://leetcode.com/problems/insert-interval/description/\n",
        "\n",
        "medium\n",
        "\n",
        "對原有區間插入一個新區間，然後重新組合各區間\n",
        "\n",
        "### Example:\n",
        "```\n",
        "Input: intervals = [[1,2],[3,5],[6,7],[8,10],[12,16]], newInterval = [4,8]\n",
        "Output: [[1,2],[3,10],[12,16]]\n",
        "Explanation: Because the new interval [4,8] overlaps with [3,5],[6,7],[8,10].\n",
        "```\n",
        "\n",
        "### Idea:\n",
        "又是這題，之前寫過，放在Leetcode.Array，重寫又再度花2小時才accepted...\n",
        "\n",
        "第一部分：\n",
        "1. 設一個空序列及空集合，然後for loop原有的intervals，如果newInterval的值在目前的區間中，將值加入原有的interval並append進空序列中，處理完的值pop掉，然後標記這個index到空集合中\n",
        "  - **注意pop順序，首先要處理第一個數沒pop但要pop第二個數的case，再來才是pop兩個數的case**\n",
        "\n",
        "2. 如果目前interval的index沒在標記的集合中，直接append interval\n",
        "\n",
        "3. newInterval中落單沒被處理到的值(不在原區間內的)，加到新序列中，如果兩個值都沒有，需個別element以list的形式append進來，要不然在下一步會被當成正常的區間\n",
        "\n",
        "第二部分：\n",
        "1. 新序列現在有append newInterval的值的區間，子序列長度會是奇數(1 or 3)，先依各區間起始位置排序新序列\n",
        "\n",
        "2. 再設一個回傳的空序列，接著for loop新序列，首次遇到奇數子序列，flag=1並記錄最小值，再次遇到奇數子序列，flag=0並記錄最大值(終止位置)，flag=1又是偶數序列就跳過，flag=0但是是偶數序列就正常append進來，最後這個新序列就可回傳做為答案\n",
        "\n",
        "麻煩的地方：\n",
        "\n",
        "新區間有分四種情況：第一個數在原區間內但第二個數在外面、第一個數在原區間外但第二個數在內、整個區間包在原區間內、整個區間包住原區間\n",
        "\n",
        "Example Input：\n",
        "```\n",
        "intervals = [[1,5]]\n",
        "newInterval = [2,6]\n",
        "\n",
        "intervals = [[1,5]]\n",
        "newInterval = [0,3]\n",
        "\n",
        "intervals = [[1,5]]\n",
        "newInterval = [2,3]\n",
        "\n",
        "intervals = [[1,5]]\n",
        "newInterval = [0,6]\n",
        "```\n",
        "\n"
      ],
      "metadata": {
        "id": "E97f6WmPeGCH"
      }
    },
    {
      "cell_type": "code",
      "source": [
        "class Solution:\n",
        "    def insert(self, intervals: List[List[int]], newInterval: List[int]) -> List[List[int]]:\n",
        "\n",
        "        res = []\n",
        "        record_idx = set()\n",
        "        for i in range(len(intervals)):\n",
        "\n",
        "            while newInterval:\n",
        "                if len(record_idx) == 0 and intervals[i][0] <= newInterval[1] <= intervals[i][1]:\n",
        "                    res.append(intervals[i]+[newInterval.pop()])\n",
        "                    record_idx.add(i)\n",
        "                if intervals[i][0] <= newInterval[0] <= intervals[i][1]:\n",
        "                    res.append(intervals[i]+[newInterval.pop()])\n",
        "                    record_idx.add(i)\n",
        "                else:\n",
        "                    break\n",
        "\n",
        "            if i not in record_idx:\n",
        "                res.append(intervals[i])\n",
        "\n",
        "\n",
        "        if newInterval:\n",
        "            for x in newInterval:\n",
        "                res.append([x])\n",
        "\n",
        "        print(res)\n",
        "\n",
        "        ss = sorted(list(map(lambda x:sorted(x), res)), key=lambda x: x[0])\n",
        "        ret = []\n",
        "        flag = 0\n",
        "        for i in range(len(ss)):\n",
        "            if len(ss[i]) % 2 == 0 and flag == 0:\n",
        "                ret.append(ss[i])\n",
        "            elif len(ss[i]) % 2 == 0 and flag == 1:\n",
        "                continue\n",
        "            elif len(ss[i]) % 2 == 1 and flag == 0:\n",
        "                flag = 1\n",
        "                si = ss[i][0]\n",
        "            elif len(ss[i]) % 2 == 1 and flag == 1:\n",
        "                ei = ss[i][-1]\n",
        "                ret.append([si,ei])\n",
        "                flag = 0\n",
        "\n",
        "        return ret\n",
        "\n",
        "\n",
        "\n"
      ],
      "metadata": {
        "id": "YY9qpyUXi6Z4"
      },
      "execution_count": null,
      "outputs": []
    },
    {
      "cell_type": "markdown",
      "source": [
        "## 15. 3Sum\n",
        "\n",
        "https://leetcode.com/problems/3sum/\n",
        "\n",
        "medium\n",
        "\n",
        "找出序列中任意三個數的和為0的組別\n",
        "\n",
        "### Example：\n",
        "```\n",
        "Input: nums = [-1,0,1,2,-1,-4]\n",
        "Output: [[-1,-1,2],[-1,0,1]]\n",
        "Explanation:\n",
        "nums[0] + nums[1] + nums[2] = (-1) + 0 + 1 = 0.\n",
        "nums[1] + nums[2] + nums[4] = 0 + 1 + (-1) = 0.\n",
        "nums[0] + nums[3] + nums[4] = (-1) + 2 + (-1) = 0.\n",
        "The distinct triplets are [-1,0,1] and [-1,-1,2].\n",
        "Notice that the order of the output and the order of the triplets does not matter.\n",
        "```\n",
        "\n",
        "### Idea：\n",
        "之前寫過，就是先for loop nums[:-2]，這裡nums可以先排好序，剩下的數的序列中任意兩數和要是當前數的負值，這樣三數和就等於0，我是先把two_sum()寫好，並且當取到後兩數時，將三數的結果加到要回傳的集合中(add tuple)\n",
        "\n",
        "中間有寫個，遇到重複的數略過，以加快一點速度。"
      ],
      "metadata": {
        "id": "CGgR3UODnBmj"
      }
    },
    {
      "cell_type": "code",
      "source": [
        "class Solution:\n",
        "    def threeSum(self, nums: List[int]) -> List[List[int]]:\n",
        "\n",
        "        def two_sum(arr,goal):\n",
        "            hashmap = dict()\n",
        "            for v in arr:\n",
        "                if v in hashmap:\n",
        "                    res.add((-goal, v, goal-v))\n",
        "                else:\n",
        "                    hashmap[goal-v] = True\n",
        "\n",
        "        nums.sort()\n",
        "        res = set()\n",
        "        for i,v in enumerate(nums[:-2]):\n",
        "            if i >= 1 and v == nums[i-1]:\n",
        "                continue\n",
        "\n",
        "            arr_behind_v = nums[(i+1):]\n",
        "            two_sum(arr_behind_v, -nums[i])\n",
        "\n",
        "        return list(res)"
      ],
      "metadata": {
        "id": "uuf_dq63qpLJ"
      },
      "execution_count": null,
      "outputs": []
    },
    {
      "cell_type": "markdown",
      "source": [
        "## 238. Product of Array Except Self\n",
        "\n",
        "https://leetcode.com/problems/product-of-array-except-self/description/\n",
        "\n",
        "medium(easy)\n",
        "\n",
        "找出序列中除了自己的其他數的乘積，時間複雜度要O(n)，空間複雜度要O(1)\n",
        "\n",
        "### Example：\n",
        "```\n",
        "Input: nums = [1,2,3,4]\n",
        "Output: [24,12,8,6]\n",
        "\n",
        "# with zero case\n",
        "Input: nums = [-1,1,0,-3,3]\n",
        "Output: [0,0,9,0,0]\n",
        "\n",
        "```\n",
        "\n",
        "### Idea：\n",
        "\n",
        "概念就是先得到整個序列的乘積，之後用總乘積去除當前值即可。\n",
        "\n",
        "比較麻煩的是處理有0的case，如果只有一個零的話，其他的數還是會有個乘積，如果有兩個零以上，就整個序列都會是0，所以這裡在算總積時用了兩個total_product，當第一次遇到0時，total_product會變0，但另一個total_product_exp_one_zero不會去乘這個0，如果再遇到0，那就兩個積都是0了\n",
        "\n",
        "之後是正式for loop nums，分別去給值即可。\n"
      ],
      "metadata": {
        "id": "SCx3sAvOwsNS"
      }
    },
    {
      "cell_type": "code",
      "source": [
        "class Solution:\n",
        "    def productExceptSelf(self, nums: List[int]) -> List[int]:\n",
        "\n",
        "        total_product_exp_one_zero = 1\n",
        "        total_product = 1\n",
        "\n",
        "        for i in nums:\n",
        "            if i == 0 and total_product != 0:\n",
        "                total_product = 0\n",
        "                continue\n",
        "            total_product_exp_one_zero *= i\n",
        "            total_product *= i\n",
        "\n",
        "\n",
        "        for i,v in enumerate(nums):\n",
        "            if total_product_exp_one_zero == 0:\n",
        "                nums[i] = 0\n",
        "            elif v == 0:\n",
        "                nums[i] = total_product_exp_one_zero\n",
        "            else:\n",
        "                nums[i] = total_product//v\n",
        "\n",
        "        return nums\n"
      ],
      "metadata": {
        "id": "p6T-0smozGwl"
      },
      "execution_count": null,
      "outputs": []
    },
    {
      "cell_type": "markdown",
      "source": [
        "## 128. Longest Consecutive Sequence\n",
        "\n",
        "https://leetcode.com/problems/longest-consecutive-sequence/description/\n",
        "\n",
        "medium\n",
        "\n",
        "找出最長長度的連續值子序列\n",
        "\n",
        "### Example：\n",
        "```\n",
        "Input: nums = [100,4,200,1,3,2]\n",
        "Output: 4\n",
        "Explanation: The longest consecutive elements sequence is [1, 2, 3, 4]. Therefore its length is 4.\n",
        "\n",
        "Input: nums = [1,2,0,1]\n",
        "Output: 3\n",
        "\n",
        "```\n",
        "\n",
        "### Idea:\n",
        "\n",
        "這題就是看下一個數是不是當前數+1，是的話length長度就加一(n)，如果遇到不是，就去看目前的n是不是最大長度，然後n初始化為1，繼續找下一個連續的序列。\n",
        "\n",
        "有幾個狀況要注意：\n",
        "1. 當判斷完整個序列，如果終止在「`if nums[j] == (nums[i]+1)`」那裡的話，就抓不到最後一組n，所以外面要再取一次n，以免尾端被忽略的情形\n",
        "\n",
        "2. 當`len(nums)==0`就直接回傳0, 這裡沒寫的話就會回傳到1\n",
        "\n",
        "3. 因為題目的序列會有重複的情況，以目前的方法(只跟前一數做判斷)會失效，所以先把整個list取set再做sort，把重複數給去掉，目前的方法就能用溜~"
      ],
      "metadata": {
        "id": "tTKSA7bMZCU_"
      }
    },
    {
      "cell_type": "code",
      "source": [
        "class Solution:\n",
        "    def longestConsecutive(self, nums: List[int]) -> int:\n",
        "\n",
        "        nums = sorted(list(set(nums)))\n",
        "\n",
        "        if not nums:\n",
        "            return 0\n",
        "\n",
        "\n",
        "        max_len = 0\n",
        "        n = 1\n",
        "        for i in range(len(nums)-1):\n",
        "            j = i+1\n",
        "            if nums[j] == (nums[i]+1):\n",
        "                n += 1\n",
        "            else:\n",
        "                max_len = max(max_len,n)\n",
        "                n = 1\n",
        "\n",
        "        max_len = max(max_len,n)\n",
        "\n",
        "\n",
        "        return max_len"
      ],
      "metadata": {
        "id": "0FhSb5WgbR9j"
      },
      "execution_count": null,
      "outputs": []
    },
    {
      "cell_type": "markdown",
      "source": [
        "## 189. Rotate Array\n",
        "\n",
        "https://leetcode.com/problems/rotate-array/description/\n",
        "\n",
        "easy~medium\n",
        "\n",
        "把array最右邊的數移到最前面，移動k次，array變怎樣(in-place modify)\n",
        "\n",
        "### Example：\n",
        "```\n",
        "Input: nums = [1,2,3,4,5,6,7], k = 3\n",
        "Output: [5,6,7,1,2,3,4]\n",
        "Explanation:\n",
        "rotate 1 steps to the right: [7,1,2,3,4,5,6]\n",
        "rotate 2 steps to the right: [6,7,1,2,3,4,5]\n",
        "rotate 3 steps to the right: [5,6,7,1,2,3,4]\n",
        "```\n",
        "\n",
        "### Idea：\n",
        "\n",
        "目前的解法還不是O(1)space，但概念簡單～記得k如果超過n次，用他的餘數即可\n",
        "\n",
        "先做一個extend array，把由前面移到後面的數加到array中\n",
        "\n",
        "接著依序把值加到原來的array中"
      ],
      "metadata": {
        "id": "iJzryTUCBzr5"
      }
    },
    {
      "cell_type": "code",
      "source": [
        "class Solution:\n",
        "    def rotate(self, nums: List[int], k: int) -> None:\n",
        "        \"\"\"\n",
        "        Do not return anything, modify nums in-place instead.\n",
        "        \"\"\"\n",
        "        n = len(nums)\n",
        "        k = k % n\n",
        "        ext = nums + nums[:(n-k)]\n",
        "\n",
        "        ri = n-k\n",
        "        for i in range(n):\n",
        "            nums[i] = ext[ri+i]"
      ],
      "metadata": {
        "id": "icMATkyaCoNo"
      },
      "execution_count": null,
      "outputs": []
    },
    {
      "cell_type": "markdown",
      "source": [
        "## 525. Contiguous Array\n",
        "\n",
        "https://leetcode.com/problems/contiguous-array/description/\n",
        "\n",
        "medium\n",
        "\n",
        "找出1和0數量相同的子序列\n",
        "\n",
        "### Example：\n",
        "\n",
        "```\n",
        "Input: nums = [0,1,0]\n",
        "Output: 2\n",
        "Explanation: [0, 1] (or [1, 0]) is a longest contiguous subarray with equal number of 0 and 1.\n",
        "```\n",
        "\n",
        "### Idea：\n",
        "\n",
        "[官神題解](https://github.com/wisdompeak/LeetCode/tree/master/Hash/525.Contiguous-Array)  Hash+prefix sum\n",
        "\n",
        "概念是遇到1時加一，遇到0時減一，如果再遇到一樣的prefix_sum，就代表這個區間內1和0的數量一樣，然後為了防止最大子串長度的開頭就是由第一個數開始的，我們存放prefix_sum的index的hashmap，需給一個{0:1}進來~~~\n"
      ],
      "metadata": {
        "id": "76CgXTepuhhW"
      }
    },
    {
      "cell_type": "code",
      "source": [
        "class Solution:\n",
        "    def findMaxLength(self, nums: List[int]) -> int:\n",
        "\n",
        "        prefix_sum_dict = {0:-1}\n",
        "        summ = 0\n",
        "        result = 0\n",
        "        for i,v in enumerate(nums):\n",
        "            if v == 1:\n",
        "                summ += 1\n",
        "            elif v == 0:\n",
        "                summ -= 1\n",
        "\n",
        "            if summ not in prefix_sum_dict:\n",
        "                prefix_sum_dict[summ] = i\n",
        "            else:\n",
        "                result = max(result, i - prefix_sum_dict[summ])\n",
        "\n",
        "        return result"
      ],
      "metadata": {
        "id": "4cuF8uoMwAbP"
      },
      "execution_count": null,
      "outputs": []
    },
    {
      "cell_type": "markdown",
      "source": [
        "## 560. Subarray Sum Equals K\n",
        "\n",
        "https://leetcode.com/problems/subarray-sum-equals-k/solutions/\n",
        "\n",
        "medium\n",
        "\n",
        "找出序列中加起來為k的子序列有幾個\n",
        "### Example：\n",
        "\n",
        "```\n",
        "Input: nums = [1,2,3], k = 3\n",
        "Output: 2\n",
        "\n",
        "```\n",
        "\n",
        "### Idea:\n",
        "\n",
        "和上面一樣是hashtable + prefixSum\n",
        "\n",
        "目前的序列和 - k，就是總序列和 - 目標子序列和(k)，會是另外一段子序列和(這一段一定是從頭算起的)，如果之前的prefixSum中已經有過這個數(hashmap中)，則把這個子序列和出現的總數加到return值裡。\n",
        "\n",
        "hashmap中，如果當前的序列和沒有出現過，就加到hashmap，有出現過了，就把這個序列和的count數+1(hashmap的value)，有時候序列和因為有正有負，中間數和為0，所以會出現重複的情況。\n",
        "```\n",
        "case 1: 和為k的子序列不是從index 0開始的，但這樣不好追蹤，改追蹤由index 0開始的子序列和(prefixSum - k)，因為這個值可以在for loop遍歷的時候丟到hashmap中記錄下來，重複時還能計次\n",
        "\n",
        "[|-------------|***|]\n",
        "[|prefixSum - k| k |]\n",
        "[|prefixSum -  k|k |] *也會像這樣，子序列長度不同，但和相同，有這樣的狀況就在hashmap中count+1\n",
        "\n",
        "case 2: 和為k的子序列本身就是從index 0開始的某個prefixSum，那prefixSum - k會直接是0，所以hashmap要設個初始值{0:1}以幫助計數這種狀況\n",
        "\n",
        "[||****************|]\n",
        "[||       k        |]\n",
        "\n",
        "\n",
        "```\n"
      ],
      "metadata": {
        "id": "Sf6Q5iKuMran"
      }
    },
    {
      "cell_type": "code",
      "source": [
        "class Solution:\n",
        "    def subarraySum(self, nums: List[int], k: int) -> int:\n",
        "        prefixsum = 0\n",
        "        d = {0:1}\n",
        "        res = 0\n",
        "\n",
        "        for num in nums:\n",
        "\n",
        "            prefixsum += num\n",
        "\n",
        "            if prefixsum - k in d:\n",
        "                res += d[prefixsum - k]\n",
        "\n",
        "            if prefixsum not in d:\n",
        "                d[prefixsum] = 1\n",
        "            else:\n",
        "                d[prefixsum] += 1\n",
        "\n",
        "          print(d)\n",
        "        return res\n"
      ],
      "metadata": {
        "id": "RoAmpBjvOLfH"
      },
      "execution_count": null,
      "outputs": []
    },
    {
      "cell_type": "markdown",
      "source": [
        "## 239. Sliding Window Maximum\n",
        "\n",
        "https://leetcode.com/problems/sliding-window-maximum/\n",
        "\n",
        "Hard-\n",
        "\n",
        "輸出sliding window的最大值\n",
        "\n",
        "### Example：\n",
        "```\n",
        "Input: nums = [1,3,-1,-3,5,3,6,7], k = 3\n",
        "Output: [3,3,5,5,6,7]\n",
        "Explanation:\n",
        "Window position                Max\n",
        "---------------               -----\n",
        "[1  3  -1] -3  5  3  6  7       3\n",
        " 1 [3  -1  -3] 5  3  6  7       3\n",
        " 1  3 [-1  -3  5] 3  6  7       5\n",
        " 1  3  -1 [-3  5  3] 6  7       5\n",
        " 1  3  -1  -3 [5  3  6] 7       6\n",
        " 1  3  -1  -3  5 [3  6  7]      7\n",
        "\n",
        "```\n",
        "\n",
        "### Idea：\n",
        "\n"
      ],
      "metadata": {
        "id": "w7j7MsE0wT0i"
      }
    },
    {
      "cell_type": "markdown",
      "source": [
        "# String"
      ],
      "metadata": {
        "id": "GpmJkOstqMk6"
      }
    },
    {
      "cell_type": "markdown",
      "source": [
        "## 179. Largest Number\n",
        "\n",
        "https://leetcode.com/problems/largest-number/description/\n",
        "\n",
        "medium\n",
        "\n",
        "判定非負數字串怎麼排列可以併成一個最大的正整數\n",
        "\n",
        "### Example：\n",
        "\n",
        "```\n",
        "Input: nums = [3,30,34,5,9]\n",
        "Output: \"9534330\"\n",
        "\n",
        "```\n",
        "\n",
        "### Idea:\n",
        "\n",
        "[官神題解](https://github.com/wisdompeak/LeetCode/tree/master/Greedy/179.Largest-Number)：\n",
        "兩兩比較，相當於進行「bubble sort」，排完序後，放越前面的數會使整個合併的數值最大。\n",
        "\n",
        "[functools.cmp_to_key -- 官方說明](https://docs.python.org/3/library/functools.html#functools.cmp_to_key)：\n",
        "\n",
        "基本上就是設compare(a,b)客製化一個比較a與b的函式，a>b時給正值，a=b時給0，a<b時給負值，接著當`sorted(my_list, key=cmp_to_key(compare))`時，就會以客製化的規則對my_list進行排序，預設是遞增排序，但如果想遞減，就要倒轉一下(或反向調整比較規則)\n",
        "\n",
        "有點難靠自己想到的一題～但可以多認識一下sort key這些。\n"
      ],
      "metadata": {
        "id": "qRDGQ3OoqQqB"
      }
    },
    {
      "cell_type": "code",
      "source": [
        "from functools import cmp_to_key\n",
        "\n",
        "class Solution:\n",
        "    def largestNumber(self, nums: List[int]) -> str:\n",
        "        # 設立一個新的排序方式\n",
        "        # cmp_to_key() 在標準庫functools中的一個函數，可將兩個比較用的值轉成sorted()key中的函數\n",
        "\n",
        "        def new_sort(a,b):\n",
        "          return int(b+a) - int(a+b)\n",
        "\n",
        "        nums = [str(i) for i in nums]\n",
        "        res = sorted(nums, key=cmp_to_key(new_sort))\n",
        "\n",
        "        return ''.join(res) if int(''.join(res)) != 0 else '0'"
      ],
      "metadata": {
        "id": "GrBcPLF2uXfy"
      },
      "execution_count": null,
      "outputs": []
    },
    {
      "cell_type": "markdown",
      "source": [
        "## 8. String to Integer (atoi)\n",
        "\n",
        "https://leetcode.com/problems/string-to-integer-atoi/description/\n",
        "\n",
        "medium（不難但很莫名）\n",
        "\n",
        "好像是實現C裡面的atoi function\n",
        "\n",
        "### Example：\n",
        "\n",
        "```\n",
        "Input: s = \"4193 with words\"\n",
        "Output: 4193\n",
        "Explanation:\n",
        "Step 1: \"4193 with words\" (no characters read because there is no leading whitespace)\n",
        "         ^\n",
        "Step 2: \"4193 with words\" (no characters read because there is neither a '-' nor '+')\n",
        "         ^\n",
        "Step 3: \"4193 with words\" (\"4193\" is read in; reading stops because the next character is a non-digit)\n",
        "             ^\n",
        "The parsed integer is 4193.\n",
        "Since 4193 is in the range [-231, 231 - 1], the final result is 4193.\n",
        "\n",
        "```\n",
        "\n",
        "### Idea：\n",
        "\n",
        "1. 有數字進來之前，只允許'+','-',' '，遇其他符號直接break，當數字進來之後，再遇到任何符號都break\n",
        "\n",
        "2. 如果數字前面有負號的話，這個值會是負的\n",
        "\n",
        "3. 值域要在-2^31 ~ 2^31之內，要設一個是超出範圍要進行clamp的動作\n",
        "\n",
        "- 數字有沒有進來，可以看append數字的list有沒有值，沒有值代表數字沒進來\n",
        "- 符號有沒有進來過，可以立一個flag，初始為0，遇負號為-1，遇正號為1，遇空格忽略\n",
        "- 空格與正負號會不會break就看現在前面有沒有其他數字或flag，都沒有就不用break\n",
        "- 數字要不要變負就看flag沒有有等於-1\n",
        "- 設一個超過限制區間就clamp的判斷"
      ],
      "metadata": {
        "id": "jTGmGl93ETY0"
      }
    },
    {
      "cell_type": "code",
      "source": [
        "class Solution:\n",
        "    def myAtoi(self, s: str) -> int:\n",
        "\n",
        "      readin = []\n",
        "      flag = 0\n",
        "      for i in s:\n",
        "          if i.isdigit():\n",
        "              readin.append(i)\n",
        "          elif flag == 0 and not readin and i == ' ':\n",
        "            continue\n",
        "          elif flag == 0 and not readin and i == '-':\n",
        "            flag = -1\n",
        "          elif flag == 0 and not readin and i == '+':\n",
        "            flag = 1\n",
        "          else:\n",
        "            break\n",
        "\n",
        "\n",
        "      if not readin:\n",
        "        return 0\n",
        "\n",
        "      if flag < 0:\n",
        "        res = 0 - int(''.join(readin))\n",
        "      else:\n",
        "        res = int(''.join(readin))\n",
        "\n",
        "\n",
        "      if res <= -2147483648:\n",
        "        res = -2147483648\n",
        "\n",
        "      if res >= 2147483648:\n",
        "        res = 2147483647\n",
        "\n",
        "      return res\n"
      ],
      "metadata": {
        "id": "ycmXZynuGOHY"
      },
      "execution_count": null,
      "outputs": []
    },
    {
      "cell_type": "markdown",
      "source": [
        "# Stack"
      ],
      "metadata": {
        "id": "E6ckv9UW7mmW"
      }
    },
    {
      "cell_type": "markdown",
      "source": [
        "## 150. Evaluate Reverse Polish Notation\n",
        "\n",
        "https://leetcode.com/problems/evaluate-reverse-polish-notation/description/\n",
        "\n",
        "medium（偏easy)\n",
        "\n",
        "Reverse Polish notation 某種符號在最後的四則運算表達式\n",
        "\n",
        "### Example\n",
        "\n",
        "```\n",
        "Input: tokens = [\"10\",\"6\",\"9\",\"3\",\"+\",\"-11\",\"*\",\"/\",\"*\",\"17\",\"+\",\"5\",\"+\"]\n",
        "Output: 22\n",
        "Explanation: ((10 * (6 / ((9 + 3) * -11))) + 17) + 5\n",
        "= ((10 * (6 / (12 * -11))) + 17) + 5\n",
        "= ((10 * (6 / -132)) + 17) + 5\n",
        "= ((10 * 0) + 17) + 5\n",
        "= (0 + 17) + 5\n",
        "= 17 + 5\n",
        "= 22\n",
        "\n",
        "```\n",
        "\n",
        "\n",
        "\n",
        "### Idea\n",
        "\n",
        "遇到數字時就append到另一個stack，當遇到運算符號時就pop最後兩個數字做運算，\n",
        "\n",
        "運算結果append回stack，for loop跑完整個token，最後stack中應該只會剩一個數字，即運算結果。\n"
      ],
      "metadata": {
        "id": "UDYgsMeK8jL1"
      }
    },
    {
      "cell_type": "code",
      "source": [
        "class Solution:\n",
        "    def evalRPN(self, tokens: List[str]) -> int:\n",
        "        # 如果遇到符號，就把丟進「數字stack」中的最後兩個數字做運算，結果再丟回去數字stack\n",
        "        num_stack = []\n",
        "        for v in tokens:\n",
        "            if v in ['+', '-', '*', '/']:\n",
        "                num1 = num_stack.pop()\n",
        "                num2 = num_stack.pop()\n",
        "                if v == '+':\n",
        "                    num = num1 + num2\n",
        "                elif v == '-':\n",
        "                    num = num2 - num1\n",
        "                elif v == '*':\n",
        "                    num = num2 * num1\n",
        "                elif v == '/':\n",
        "                    num = num2 / num1\n",
        "\n",
        "\n",
        "                num_stack.append(int(num))\n",
        "            else:\n",
        "                num_stack.append(int(v))\n",
        "\n",
        "\n",
        "        return num_stack[0]"
      ],
      "metadata": {
        "id": "dhtk7ysDw7qO"
      },
      "execution_count": null,
      "outputs": []
    },
    {
      "cell_type": "markdown",
      "source": [
        "## 739. Daily Temperatures\n",
        "\n",
        "https://leetcode.com/problems/daily-temperatures/description/\n",
        "\n",
        "medium\n",
        "\n",
        "回傳每個位置幾天後遇到比自己溫度更高的日子\n",
        "\n",
        "### Example：\n",
        "\n",
        "```\n",
        "Input: temperatures = [73,74,75,71,69,72,76,73]\n",
        "Output: [1,1,4,2,1,1,0,0]\n",
        "```\n",
        "\n",
        "### Idea：\n",
        "\n",
        "1. 設定一個operation_stack, 當現在日期的溫度比前一天低時，就append進去（與當前日期的index一起放進來），如果遇到溫度比前一天高的，就pop掉前一天的值，並且index互減以得到天數差，然後依位置放到要回傳的數列中。\n",
        "2. 要回傳的數列先給定一個空間出來，之後依位置放天數差進去～一開始沒想清楚這點，卡了一下"
      ],
      "metadata": {
        "id": "E38Hjj_5jrRO"
      }
    },
    {
      "cell_type": "code",
      "source": [
        "class Solution:\n",
        "    def dailyTemperatures(self, temperatures: List[int]) -> List[int]:\n",
        "        # 給res一個空間，標記各個溫度的index，遇到比較大的溫度時，就用那個位置的Index去減當前數的index(差的天數）並存在對應的res位置中。\n",
        "\n",
        "        op_stack = []\n",
        "        ret = [0 for i in temperatures]\n",
        "\n",
        "        for i,v in enumerate(temperatures):\n",
        "            while op_stack and v > op_stack[-1][0]:\n",
        "                cur_pair = op_stack.pop()\n",
        "                days = i - cur_pair[1]\n",
        "                ret[cur_pair[1]] = days\n",
        "            op_stack.append((v,i))\n",
        "\n",
        "        return ret\n"
      ],
      "metadata": {
        "id": "S9shwiYSlCvq"
      },
      "execution_count": null,
      "outputs": []
    },
    {
      "cell_type": "markdown",
      "source": [],
      "metadata": {
        "id": "ry4Iq5zgTdmr"
      }
    },
    {
      "cell_type": "markdown",
      "source": [
        "## 394. Decode String\n",
        "\n",
        "https://leetcode.com/problems/decode-string/description/\n",
        "\n",
        "medium (不難但有些小細節要注意)\n",
        "\n",
        "解碼字串\n",
        "\n",
        "### Example：\n",
        "\n",
        "```\n",
        "Input: s = \"3[a2[c]]\"\n",
        "Output: \"accaccacc\"\n",
        "```\n",
        "\n",
        "### Idea：\n",
        "原來的想法是給一個放數字的stack, 與一個放字母的stack，\n",
        "遇到左中括號一樣加到放字母的stack（此時要把前面的數字字串合併為一個數字並加到數字stack），然後遇到右中括號時，開始pop放字母的stack（放到queue中）當pop到左中括號時停止，並把這個queue的字母乘上數字stack的最後數字，得出的新字串丟回字母stack（此時要把字母stack的左中括號也移除），照此規則走完最後再合併字母stack成一字串即可回傳。\n",
        "\n",
        "- 這樣要放四個list, 網路上有人合併數字那使用 cur_num = 10*cur_num + v 還不錯，用進位的方式，可以少用一個list\n",
        "\n",
        "- 注意字串與數字的轉換"
      ],
      "metadata": {
        "id": "wsMRjzwITd78"
      }
    },
    {
      "cell_type": "code",
      "source": [
        "class Solution:\n",
        "    def decodeString(self, s: str) -> str:\n",
        "        # 一開始的想法\n",
        "        op_que = deque()\n",
        "        op_num = []\n",
        "        num_stack = []\n",
        "        letter_stack = []\n",
        "        for v in s:\n",
        "            if v.isdigit():\n",
        "                op_num.append(v)\n",
        "            elif v == '[':\n",
        "                letter_stack.append(v)\n",
        "                cur_num = int(''.join(op_num))\n",
        "                num_stack.append(cur_num)\n",
        "                op_num = []\n",
        "            elif v == ']':\n",
        "                while letter_stack[-1] != '[':\n",
        "                    op_que.appendleft(letter_stack.pop())\n",
        "                if num_stack:\n",
        "                    cur_str = num_stack.pop() * op_que\n",
        "                    letter_stack.pop()\n",
        "                    letter_stack.extend(cur_str)\n",
        "                    op_que = deque()\n",
        "            else:\n",
        "                letter_stack.append(v)\n",
        "\n",
        "\n",
        "\n",
        "        return ''.join(letter_stack)"
      ],
      "metadata": {
        "id": "OEVMpXXpVapM"
      },
      "execution_count": null,
      "outputs": []
    },
    {
      "cell_type": "code",
      "source": [
        "class Solution:\n",
        "    def decodeString(self, s: str) -> str:\n",
        "        # 這裡少用一個op_num的list，空間有節省，但速度還是慢QQ 可能是我去跑那個while花時間了，還有改進空間\n",
        "        op_que = deque()\n",
        "        cur_num = 0\n",
        "        letter_stack = []\n",
        "        num_stack = []\n",
        "        for v in s:\n",
        "            if v.isdigit():\n",
        "                cur_num = cur_num * 10 + int(v)\n",
        "            elif v == '[':\n",
        "                letter_stack.append(v)\n",
        "                num_stack.append(cur_num)\n",
        "                cur_num = 0\n",
        "            elif v == ']':\n",
        "                while letter_stack[-1] != '[':\n",
        "                    op_que.appendleft(letter_stack.pop())\n",
        "                cur_str = num_stack.pop() * op_que\n",
        "                letter_stack.pop()\n",
        "                letter_stack.extend(cur_str)\n",
        "                op_que = deque()\n",
        "                cur_num = 0\n",
        "            else:\n",
        "                letter_stack.append(v)"
      ],
      "metadata": {
        "id": "5Nl9PmzkVrse"
      },
      "execution_count": null,
      "outputs": []
    },
    {
      "cell_type": "markdown",
      "source": [
        "## 735. Asteroid Collision\n",
        "\n",
        "https://leetcode.com/problems/asteroid-collision/description/\n",
        "\n",
        "medium\n",
        "\n",
        "行星不同方向會對撞，質量高的會留下來繼續行駛\n",
        "\n",
        "### Example\n",
        "\n",
        "```\n",
        "Input: asteroids = [10,2,-5]\n",
        "Output: [10]\n",
        "Explanation: The 2 and -5 collide resulting in -5. The 10 and -5 collide resulting in 10.\n",
        "```\n",
        "\n",
        "### Idea\n",
        "\n",
        "這題陷井很多！\n",
        "- 同向的都放進來stack\n",
        "\n",
        "- 遇到不同向時，判斷stack最後的數是不是向右，如果向左的話就正常append，代表不會撞到下一顆。\n",
        "\n",
        "- 不同向且向右的話，現在的數+stack[-1]，如果變同向，就不動繼續往前比下一個星星，如果一樣反向，stack.pop()，現在的數繼續與stack[-1]比，直到變同向，要注意一下兩個星星質量一樣一起爆炸的狀況，除了stack的星星要pop掉，新的star也要pop掉，如果變同向不繼續動，但是是一起向左，也要append進來。\n",
        "\n",
        "- 也要注意一下反向離開的情況！只有正遇到負會爆炸，負遇到正不會\n",
        "\n",
        "- 要注意相同質量各自消散的情形，會造成stack為空，或新的star把之前的星星都消完了，此時要做處理\n",
        "\n",
        "1. 有沒有互撞\n",
        "2. 撞完往哪個方向走，和下一顆反方向的話會不會互撞，哪顆消散\n",
        "3. 避免stack為空值卻呼叫stack[-1]的情況"
      ],
      "metadata": {
        "id": "xC8XC-rLm3xB"
      }
    },
    {
      "cell_type": "code",
      "source": [
        "class Solution:\n",
        "    def asteroidCollision(self, asteroids: List[int]) -> List[int]:\n",
        "        # 先設定一個direction, 同向的都放進來stack，遇到不同向時，現在的數+stack[-1]，如果變同向，就不動繼續往前比下一個星星，如果一樣反向，stack.pop()，現在的數繼續與stack[-1]比，直到變同向，要注意一下兩個星星質量一樣一起爆炸的狀況。\n",
        "\n",
        "        # 也要注意一下反向離開的情況！只有正遇到負會爆炸，負遇到正不會\n",
        "\n",
        "        # 要注意相同質量各自消散的情形，會造成stack為空\n",
        "\n",
        "\n",
        "        stack = [asteroids[0]]\n",
        "        for star in asteroids[1:]:\n",
        "            if not stack:\n",
        "                stack.append(star)\n",
        "                continue\n",
        "            if star * stack[-1] < 0:\n",
        "                if stack[-1] > 0:\n",
        "                    collision = star + stack[-1]\n",
        "                    while stack and collision * stack[-1] < 0:\n",
        "                        stack.pop()\n",
        "                        if not stack:\n",
        "                            break\n",
        "                        collision = star + stack[-1]\n",
        "                    if collision == 0:\n",
        "                        stack.pop()\n",
        "                        continue\n",
        "                    elif collision < 0:\n",
        "                        stack.append(star)\n",
        "                else:\n",
        "                    stack.append(star)\n",
        "            else:\n",
        "                stack.append(star)\n",
        "\n",
        "\n",
        "        return stack"
      ],
      "metadata": {
        "id": "fo6GtZvLnTq5"
      },
      "execution_count": null,
      "outputs": []
    },
    {
      "cell_type": "markdown",
      "source": [
        "## 227. Basic Calculator II\n",
        "\n",
        "https://leetcode.com/problems/basic-calculator-ii/description/\n",
        "\n",
        "medium\n",
        "\n",
        "中序式字串四則運算\n",
        "\n",
        "### Example：\n",
        "```\n",
        "Input: s = \"3+2*2\"\n",
        "Output: 7\n",
        "```\n",
        "\n",
        "### Idea：\n",
        "\n",
        "1. 得到中序式的list，空格不要、連續數字字串合併為單一整數\n",
        "\n",
        "2. 中序式轉換為後序式（符號設優先程度）數字的話正常輸出，符號就進行判斷，如果讀取到的符號優先程度小於等於stack[-1]的優先程度，stack[-1]就pop掉，輸出到output list，如果大於的話就正常append到stack中，stack沒東西也正常append，最後Output list就會變後序式排列\n",
        "\n",
        "3. 後序式排列的計算就跟150題一樣，也是設個stack，數字正常輸出，遇符號的話就pop最後兩個數字進行計算，算完結果再丟回output list，最後output list應該只會剩一個數，就是結果\n",
        "\n",
        "* 不過時間不夠快，感覺能再參考其他人寫法優化（可能step1和2可以在一個for loop中進行完？）"
      ],
      "metadata": {
        "id": "EWMfwoWgyyRO"
      }
    },
    {
      "cell_type": "code",
      "source": [
        "class Solution:\n",
        "    def calculate(self, s: str) -> int:\n",
        "\n",
        "        if len(s) == 1:\n",
        "            return int(s)\n",
        "\n",
        "        inorder = []\n",
        "        cur_num = []\n",
        "        for i in s:\n",
        "            if i.isdigit():\n",
        "                cur_num.append(i)\n",
        "            elif i == ' ':\n",
        "                continue\n",
        "            else:\n",
        "                inorder.append(int(''.join(cur_num)))\n",
        "                inorder.append(i)\n",
        "                cur_num = []\n",
        "\n",
        "        if cur_num:\n",
        "            inorder.append(int(''.join(cur_num)))\n",
        "\n",
        "        priority_map = {'/':1, '*':1, '+':0, '-':0}\n",
        "        postorder = []\n",
        "        stack = []\n",
        "        for i in inorder:\n",
        "            if isinstance(i, int):\n",
        "                postorder.append(i)\n",
        "            elif stack:\n",
        "                while priority_map[i] <= priority_map[stack[-1]]:\n",
        "                    postorder.append(stack.pop())\n",
        "                    if not stack:\n",
        "                        break\n",
        "                stack.append(i)\n",
        "            else:\n",
        "                stack.append(i)\n",
        "\n",
        "        while stack:\n",
        "            postorder.append(stack.pop())\n",
        "\n",
        "        res = []\n",
        "        for i in postorder:\n",
        "            if isinstance(i, int):\n",
        "                res.append(i)\n",
        "            else:\n",
        "                num2 = res.pop()\n",
        "                num1 = res.pop()\n",
        "                if i == '+':\n",
        "                    res.append(num1 + num2)\n",
        "                elif i == '-':\n",
        "                    res.append(num1 - num2)\n",
        "                elif i == '*':\n",
        "                    res.append(num1 * num2)\n",
        "                elif i == '/':\n",
        "                    res.append(int(num1 / num2))\n",
        "\n",
        "        return res[0]"
      ],
      "metadata": {
        "id": "hfDkBtf20d2K"
      },
      "execution_count": null,
      "outputs": []
    },
    {
      "cell_type": "markdown",
      "source": [
        "# Linked List"
      ],
      "metadata": {
        "id": "Zbys7spZMdTq"
      }
    },
    {
      "cell_type": "code",
      "source": [
        "# Definition for singly-linked list.\n",
        "class ListNode:\n",
        "    def __init__(self, val=0, next=None):\n",
        "        self.val = val\n",
        "        self.next = next"
      ],
      "metadata": {
        "id": "XPrivQysX7q2"
      },
      "execution_count": null,
      "outputs": []
    },
    {
      "cell_type": "markdown",
      "source": [
        "## 148. Sort List\n",
        "\n",
        "https://leetcode.com/problems/sort-list/description/\n",
        "\n",
        "medium\n",
        "\n",
        "排序\n",
        "\n",
        "### Example：\n",
        "```\n",
        "Input: head = [4,2,1,3]\n",
        "Output: [1,2,3,4]\n",
        "```\n",
        "\n",
        "### Idea：\n",
        "\n",
        "使用「Merge sort」\n",
        "\n",
        "- 第一個divide是利用兩個pointer，一個一次走兩步，一個一次走一步，當快指標走到底時，慢指標會剛好指在中間位置\n",
        "\n",
        "- 當分成兩個linked list之後，設一個新的linked list head，兩邊的head選出值較小的指過去，被指到的linked list就跳至下一個node，當有一邊的linked list指到底，接著就回傳那個新設的Linked list(前面要存一個dummy head，最後可以指向整個Linked list)\n",
        "\n",
        "- 第三個sortlist()，即是進行merge sort，合併排序示意圖如下：\n",
        "![Screenshot from 2023-06-20 22-38-29.png](data:image/png;base64,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)\n"
      ],
      "metadata": {
        "id": "BybiQkKgMf8E"
      }
    },
    {
      "cell_type": "code",
      "source": [
        "class Solution:\n",
        "    def divide(self,head):\n",
        "        slow,fast=head,head.next\n",
        "        while fast and fast.next:\n",
        "            slow=slow.next\n",
        "            fast=fast.next.next\n",
        "        return slow\n",
        "\n",
        "    def Merge(self,l,r):\n",
        "        temp=ans=ListNode()\n",
        "        while l and r:\n",
        "            if l.val<=r.val:\n",
        "                temp.next=l\n",
        "                l=l.next\n",
        "            else:\n",
        "                temp.next=r\n",
        "                r=r.next\n",
        "            temp=temp.next\n",
        "        if l:\n",
        "            temp.next=l\n",
        "        if r:\n",
        "            temp.next=r\n",
        "        return ans.next\n",
        "\n",
        "\n",
        "    # 合併排序法！\n",
        "    def sortList(self, head: Optional[ListNode]) -> Optional[ListNode]:\n",
        "        if not head or not head.next:\n",
        "            return head\n",
        "        left=head\n",
        "        right=self.divide(head)\n",
        "        temp=right.next\n",
        "        right.next=None\n",
        "        right=temp\n",
        "        left=self.sortList(left)\n",
        "        right=self.sortList(right)\n",
        "        return self.Merge(left,right)"
      ],
      "metadata": {
        "id": "NsdIiNEAM58P"
      },
      "execution_count": null,
      "outputs": []
    },
    {
      "cell_type": "markdown",
      "source": [
        "## 143. Reorder List\n",
        "\n",
        "https://leetcode.com/problems/reorder-list/description/\n",
        "\n",
        "medium\n",
        "\n",
        "1,2,3,4排成1,4,2,3，以此類推\n",
        "\n",
        "### Example：\n",
        "```\n",
        "Input: head = [1,2,3,4,5]\n",
        "Output: [1,5,2,4,3]\n",
        "```\n",
        "\n",
        "### Idea：\n",
        "\n",
        "第一個是自己想的，但沒有accept~**因為當Linked list太長就會超過時間（每次都要遞迴到最後一數）**<br>\n",
        "\n",
        "主要想法是放四個指標，a指向原位，b指向原位的下一格，c,d以差一格的方式走到結尾，指向最後兩個node，接著把c.next = None讓他變成新的結尾，再來設定環（a.next = d, d.next = b），接著a = b（以b的位置當新的head），開啟下一輪，直到a.next = None或a.next.next = None，就在前一個node結束。\n",
        "- 先設四個指標a,b,c,d都指向原head\n",
        "- b = a.next   c = a.next  d = a.next.next\n",
        "- b不動，c跟d同時往右跑，步數相同，當d.next = None時停止，此時c在倒數第二個node，d在結尾\n",
        "- c.next = None 把c變成最後一個node\n",
        "- a.next = d,  d.next = b 設第一個環\n",
        "- a = b\n",
        "- b = a.next, c = a.next, d = a.next.next\n",
        "- if not d, c.next = None 結束\n",
        "- if not b(c), a.next = None 結束\n",
        "- return dummy_head.next\n",
        "\n",
        "\n",
        "第二個是參考別人的，先找到中間node，接著分成兩半，將後半部的Linked list倒轉，再間隔組合兩個List～也是滿直覺的想法～～沒想到哇！\n"
      ],
      "metadata": {
        "id": "w05VyOUfVX9d"
      }
    },
    {
      "cell_type": "code",
      "source": [
        "# 第一個自己原先想法，Time Limit Exceeded\n",
        "\n",
        "\n",
        "class Solution:\n",
        "    def reorderList(self, head: Optional[ListNode]) -> None:\n",
        "        \"\"\"\n",
        "        Do not return anything, modify head in-place instead.\n",
        "        \"\"\"\n",
        "        dummy_head = ListNode()\n",
        "        dummy_head.next = head\n",
        "        a, b, c, d = head, head, head, head\n",
        "\n",
        "        while b:\n",
        "            b = a.next\n",
        "            c = a.next\n",
        "            if not b:\n",
        "                a.next = None\n",
        "                break\n",
        "            d = a.next.next\n",
        "            if not d:\n",
        "                c.next = None\n",
        "                break\n",
        "\n",
        "            while d and d.next:\n",
        "                c = c.next\n",
        "                d = d.next\n",
        "\n",
        "            c.next = None\n",
        "\n",
        "            a.next = d\n",
        "            d.next = b\n",
        "            a = b\n",
        "\n",
        "\n",
        "        return dummy_head.next"
      ],
      "metadata": {
        "id": "0rV2Zjd5Xomd"
      },
      "execution_count": null,
      "outputs": []
    },
    {
      "cell_type": "code",
      "source": [
        "# 第二個是參考別人的\n",
        "\n",
        "class Solution:\n",
        "    def reorderList(self, head):\n",
        "        #step 1: find middle\n",
        "        if not head: return []\n",
        "        slow, fast = head, head\n",
        "        while fast.next and fast.next.next:\n",
        "            slow = slow.next\n",
        "            fast = fast.next.next\n",
        "\n",
        "        #step 2: reverse second half\n",
        "        prev, curr = None, slow.next\n",
        "        while curr:\n",
        "            nextt = curr.next\n",
        "            curr.next = prev\n",
        "            prev = curr\n",
        "            curr = nextt\n",
        "        slow.next = None\n",
        "\n",
        "        #step 3: merge lists\n",
        "        head1, head2 = head, prev\n",
        "        while head2:\n",
        "            nextt = head1.next\n",
        "            head1.next = head2\n",
        "            head1 = head2\n",
        "            head2 = nextt\n",
        "\n",
        "        return prev.next"
      ],
      "metadata": {
        "id": "OCzEJD3lX0DM"
      },
      "execution_count": null,
      "outputs": []
    },
    {
      "cell_type": "markdown",
      "source": [
        "## 2181. Merge Node Between Zeros\n",
        "\n",
        "https://leetcode.com/problems/merge-nodes-in-between-zeros/?envType=daily-question&envId=2024-07-04\n",
        "\n",
        "easy~medium 非grind169\n",
        "\n",
        "0之間的node相加\n",
        "\n",
        "### Example：\n",
        "```\n",
        "Input: head = [0,3,1,0,4,5,2,0]\n",
        "Output: [4,11]\n",
        "```\n",
        "\n",
        "### Idea：\n",
        "太久沒寫linkednode，所以後來有看解，但概念上沒想錯，就是一路sum，然後建一個新linked list，如果遇到0，就把之前的sum放到新list，放完後sum = 0\n",
        "\n",
        "需要注意的是，要把dummy head留起來。"
      ],
      "metadata": {
        "id": "4K0tD7KzlbPp"
      }
    },
    {
      "cell_type": "code",
      "source": [
        "class Solution:\n",
        "  def mergeNodes(self, head: Optional[ListNode]) -> Optional[ListNode]:\n",
        "    dummy = ListNode(0)\n",
        "    new_link = dummy\n",
        "    head = head.next\n",
        "    sum = 0\n",
        "    while head:\n",
        "      if head.val == 0:\n",
        "        if sum != 0:\n",
        "          new_link.next = ListNode(sum)\n",
        "          new_link = new_link.next\n",
        "          sum = 0\n",
        "        else:\n",
        "          sum += head.val\n",
        "        head = head.next\n",
        "    return dummy.next"
      ],
      "metadata": {
        "id": "-Y8qG0v5mt6U"
      },
      "execution_count": null,
      "outputs": []
    },
    {
      "cell_type": "markdown",
      "source": [
        "## 1823. Find the Winner of the Circluar Game\n",
        "\n",
        "https://leetcode.com/problems/find-the-winner-of-the-circular-game/description/?envType=daily-question&envId=2024-07-08\n",
        "\n",
        "easy~medium 非grind169\n",
        "\n",
        "### Idea:\n",
        "聽信討論區的用了circular linked list，還算滿有趣的解了出來，但時間上只beat 2%的人...而且寫了滿久\n",
        "\n",
        "偷看解，有人用餘數的方式在一個while內幾行就有解，有空再研究看看另一種解法。\n",
        "\n"
      ],
      "metadata": {
        "id": "OzFc9Xn5_g7x"
      }
    },
    {
      "cell_type": "code",
      "source": [
        "class Solution:\n",
        "    def findTheWinner(self, n: int, k: int) -> int:\n",
        "        # 處理一些邊緣case\n",
        "        if n == 1:\n",
        "            return 1\n",
        "        if k == 1:\n",
        "            return n\n",
        "\n",
        "        # 做一個環形的linked list\n",
        "        head = ListNode(0)\n",
        "        dummy_head = head\n",
        "\n",
        "        for i in range(n):\n",
        "            head.next = ListNode(i+1)\n",
        "            head = head.next\n",
        "\n",
        "        head.next = dummy_head.next\n",
        "        head = head.next\n",
        "\n",
        "        # 玩遊戲\n",
        "        i = 1\n",
        "        out_num = 0\n",
        "        while out_num < n:\n",
        "            i += 1\n",
        "            if i == k:\n",
        "                head.next = head.next.next\n",
        "                i = 1\n",
        "                out_num += 1\n",
        "            head = head.next\n",
        "\n",
        "        return head.val"
      ],
      "metadata": {
        "id": "0OFm0ACqAZDY"
      },
      "execution_count": null,
      "outputs": []
    }
  ]
}