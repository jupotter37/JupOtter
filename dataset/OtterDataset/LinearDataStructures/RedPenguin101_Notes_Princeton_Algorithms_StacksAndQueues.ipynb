{
 "cells": [
  {
   "cell_type": "markdown",
   "metadata": {},
   "source": [
    "# Stacks and Queues and Bags\n",
    "\n",
    "Collections of objects: we want to add, remove, iterate, test if empty.\n",
    "\n",
    "When we remove, which one? The classics are stacks (LIFO - push and pop), and queue (FIFO - enqueue dequeue).\n",
    "\n",
    "Subtext: the discipline of modular programming, separating implementation and interface. Enhances reusablity.\n",
    "\n",
    "## Stacks\n",
    "\n",
    "Warmup API: stack of strings: `push()` `pop()` `is_empty()` `size()`\n",
    "\n",
    "Warmup client: Reverse sequence of strings from standard input"
   ]
  },
  {
   "cell_type": "code",
   "execution_count": 47,
   "metadata": {},
   "outputs": [
    {
     "name": "stdout",
     "output_type": "stream",
     "text": [
      "None\n",
      "None\n",
      "None\n",
      "None\n",
      "None\n"
     ]
    }
   ],
   "source": [
    "# API\n",
    "\n",
    "class StackOfStrings:\n",
    "    def __init__(self):\n",
    "        pass\n",
    "    \n",
    "    def push(self, a):\n",
    "        pass\n",
    "    \n",
    "    def pop(self):\n",
    "        pass\n",
    "\n",
    "\n",
    "# Client code\n",
    "# If string = \"-\", pop and print, else push it onto the stack\n",
    "\n",
    "stack = StackOfStrings()\n",
    "\n",
    "a = [1, 2, 5, \"-\", 3, 4, \"-\", \"-\", \"-\", \"-\"]\n",
    "\n",
    "for word in a:\n",
    "    if word == \"-\":\n",
    "        print(stack.pop())\n",
    "    else:\n",
    "        stack.push(word)"
   ]
  },
  {
   "cell_type": "markdown",
   "metadata": {},
   "source": [
    "### Linked list implementation of stack\n",
    "\n",
    "Linked list is a series of nodes, where each node contains the item, plus a link to the next Node. You hold a reference to the first Node.\n",
    "\n",
    "Push creates a new node with the item passed, with it's pointer to the 'old' first node. The first node of the LL now becomes is set to the first node.\n",
    "\n",
    "Pop sets the first node to the 2nd node, and returns the item from the old first node."
   ]
  },
  {
   "cell_type": "code",
   "execution_count": 43,
   "metadata": {},
   "outputs": [],
   "source": [
    "class Node:\n",
    "    def __init__(self, a):\n",
    "        self.item = a\n",
    "        self.next = None\n",
    "\n",
    "class LinkedList:\n",
    "    def __init__(self):\n",
    "        self.first = None\n",
    "        \n",
    "    def push(self, item):\n",
    "        new_node = Node(item)\n",
    "        new_node.next = self.first\n",
    "        self.first = new_node\n",
    "        \n",
    "    def pop(self):\n",
    "        item = self.first.item\n",
    "        self.first = self.first.next\n",
    "        return item\n",
    "    \n",
    "    def is_empty(self):\n",
    "        return self.first is None"
   ]
  },
  {
   "cell_type": "code",
   "execution_count": 45,
   "metadata": {},
   "outputs": [
    {
     "name": "stdout",
     "output_type": "stream",
     "text": [
      "world\n",
      "hello\n",
      "False\n",
      "bleh\n",
      "restart\n"
     ]
    },
    {
     "data": {
      "text/plain": [
       "True"
      ]
     },
     "execution_count": 45,
     "metadata": {},
     "output_type": "execute_result"
    }
   ],
   "source": [
    "l = LinkedList()\n",
    "l.push(\"hello\")\n",
    "l.push(\"world\")\n",
    "print(l.pop())\n",
    "print(l.pop())\n",
    "l.push(\"restart\")\n",
    "l.push(\"bleh\")\n",
    "print(l.is_empty())\n",
    "print(l.pop())\n",
    "print(l.pop())\n",
    "l.is_empty()"
   ]
  },
  {
   "cell_type": "code",
   "execution_count": 46,
   "metadata": {},
   "outputs": [
    {
     "name": "stdout",
     "output_type": "stream",
     "text": [
      "5\n",
      "4\n",
      "3\n",
      "2\n",
      "1\n"
     ]
    }
   ],
   "source": [
    "# API\n",
    "\n",
    "class StackOfStrings:\n",
    "    def __init__(self):\n",
    "        self.stack = LinkedList()\n",
    "    \n",
    "    def push(self, a):\n",
    "        self.stack.push(a)\n",
    "    \n",
    "    def pop(self):\n",
    "        return self.stack.pop()\n",
    "\n",
    "\n",
    "# Client code\n",
    "# If string = \"-\", pop and print, else push it onto the stack\n",
    "\n",
    "stack = StackOfStrings()\n",
    "\n",
    "a = [1, 2, 5, \"-\", 3, 4, \"-\", \"-\", \"-\", \"-\"]\n",
    "\n",
    "for word in a:\n",
    "    if word == \"-\":\n",
    "        print(stack.pop())\n",
    "    else:\n",
    "        stack.push(word)"
   ]
  },
  {
   "cell_type": "markdown",
   "metadata": {},
   "source": [
    "### Linked List analysis\n",
    "\n",
    "Proposition: every operation takes constant time in the worst case.\n",
    "\n",
    "Self-evident: no loops\n",
    "\n",
    "### Array implementation of stack\n",
    "\n",
    "This choice between LL and array is fundemental, comes up again and again\n",
    "\n",
    "Use array s[] to store N items. Push adds a new item at index N, pop removes item from index N-1\n",
    "\n",
    "(Note intial disadvantage here: overflow underflow possibility - stay tuned)"
   ]
  },
  {
   "cell_type": "code",
   "execution_count": 68,
   "metadata": {},
   "outputs": [],
   "source": [
    "class ArrayStack:\n",
    "    def __init__(self, capacity):\n",
    "        self.array = [None for i in range(capacity)]\n",
    "        self.N = 0\n",
    "        \n",
    "    def push(self, item):\n",
    "        self.array[self.N] = item\n",
    "        self.N += 1\n",
    "        \n",
    "    def pop(self):\n",
    "        self.N -= 1\n",
    "        return self.array[self.N]"
   ]
  },
  {
   "cell_type": "code",
   "execution_count": 69,
   "metadata": {},
   "outputs": [
    {
     "name": "stdout",
     "output_type": "stream",
     "text": [
      "5\n",
      "4\n",
      "3\n",
      "2\n",
      "1\n"
     ]
    }
   ],
   "source": [
    "# API\n",
    "\n",
    "class StackOfStrings:\n",
    "    def __init__(self):\n",
    "        self.stack = ArrayStack(10)\n",
    "    \n",
    "    def push(self, a):\n",
    "        self.stack.push(a)\n",
    "    \n",
    "    def pop(self):\n",
    "        return self.stack.pop()\n",
    "\n",
    "\n",
    "# Client code\n",
    "# If string = \"-\", pop and print, else push it onto the stack\n",
    "\n",
    "stack = StackOfStrings()\n",
    "\n",
    "a = [1, 2, 5, \"-\", 3, 4, \"-\", \"-\", \"-\", \"-\"]\n",
    "\n",
    "for word in a:\n",
    "    if word == \"-\":\n",
    "        print(stack.pop())\n",
    "    else:\n",
    "        stack.push(word)"
   ]
  },
  {
   "cell_type": "markdown",
   "metadata": {},
   "source": [
    "### Resizing Stack Implementation\n",
    "\n",
    "Few problems with our stack implementation:\n",
    "* We should throw an exception on underflow\n",
    "* Client must provide a capacity - breaks API!\n",
    "* Loitering: the items stick around in memory after they've been popped - inefficient!\n",
    "\n",
    "Resizing every time you push: too expensive! Inserting N items takes ~N^2/2 time, because you need to copy all items to a new array every time you increase the array size:\n",
    "\n",
    "    1 + 2 + 3 + ... + N ~ N^2/2 \n",
    "    \n",
    "We want it do be infrequent. We use repeated doubling: if we hit the limit, double the array size and copy stuff into it. Time will be proportional to N on average, not N^2.\n",
    "\n",
    "    N + (2 + 4 + 8 + ... + N) ~ 3N\n",
    "    \n",
    "Every push will be one array access, except a resize operation which will be N.\n",
    "\n",
    "What about popping: maybe half when N gets to be half the size of C? Bad idea: think about when N = 5 and C = 8. When N goes to 4, you'll halve the array, and if it goes back to 5 you'll just have to double it again! Very inefficient. This is called thrashing.\n",
    "\n",
    "Instead halve the array when it gets 1/4 full."
   ]
  },
  {
   "cell_type": "code",
   "execution_count": 125,
   "metadata": {},
   "outputs": [],
   "source": [
    "class ResizingArrayStack:\n",
    "    def __init__(self):\n",
    "        self.array = [None]\n",
    "        self.N = 0\n",
    "        self.capacity = 1\n",
    "\n",
    "        \n",
    "    def push(self, item):\n",
    "        if self.N+1 > self.capacity:\n",
    "            self.array = self.array + [None for i in range(self.capacity)]\n",
    "            self.capacity = self.capacity * 2\n",
    "            \n",
    "        self.array[self.N] = item\n",
    "        self.N += 1\n",
    "        #print(f'N: {self.N} C: {self.capacity}')\n",
    "        print(self.array)\n",
    "        \n",
    "    def pop(self):\n",
    "        self.N -= 1\n",
    "        item = self.array[self.N]\n",
    "        self.array[self.N] = None # loitering fix\n",
    "        \n",
    "        if self.N <= self.capacity/4:\n",
    "            self.capacity = int(self.capacity/2)\n",
    "            self.array = self.array[0:self.capacity]\n",
    "        #print(f'N: {self.N} C: {self.capacity}')\n",
    "        print(self.array)\n",
    "\n",
    "        return item"
   ]
  },
  {
   "cell_type": "code",
   "execution_count": 126,
   "metadata": {},
   "outputs": [
    {
     "name": "stdout",
     "output_type": "stream",
     "text": [
      "['to']\n",
      "['to', 'be']\n",
      "['to', 'be', 'or', None]\n",
      "['to', 'be', 'or', 'not']\n",
      "['to', 'be', 'or', 'not', 'to', None, None, None]\n",
      "['to', 'be', 'or', 'not', None, None, None, None]\n",
      "to\n",
      "['to', 'be', 'or', 'not', 'be', None, None, None]\n",
      "['to', 'be', 'or', 'not', None, None, None, None]\n",
      "be\n",
      "['to', 'be', 'or', None, None, None, None, None]\n",
      "not\n",
      "['to', 'be', 'or', 'that', None, None, None, None]\n",
      "['to', 'be', 'or', None, None, None, None, None]\n",
      "that\n",
      "['to', 'be', None, None]\n",
      "or\n",
      "['to', None]\n",
      "be\n",
      "['to', 'is']\n"
     ]
    }
   ],
   "source": [
    "# API\n",
    "\n",
    "class StackOfStrings:\n",
    "    def __init__(self):\n",
    "        self.stack = ResizingArrayStack()\n",
    "    \n",
    "    def push(self, a):\n",
    "        self.stack.push(a)\n",
    "    \n",
    "    def pop(self):\n",
    "        return self.stack.pop()\n",
    "\n",
    "\n",
    "# Client code\n",
    "# If string = \"-\", pop and print, else push it onto the stack\n",
    "\n",
    "stack = StackOfStrings()\n",
    "\n",
    "a = [\"to\", \"be\", \"or\", \"not\", \"to\", \"-\", \"be\", \"-\", \"-\", \"that\",  \"-\", \"-\",  \"-\", \"is\"]\n",
    "\n",
    "for word in a:\n",
    "    if word == \"-\":\n",
    "        print(stack.pop())\n",
    "    else:\n",
    "        stack.push(word)"
   ]
  },
  {
   "cell_type": "markdown",
   "metadata": {},
   "source": [
    "Amortised analysis says any sequence of M push and pop operations takes time proportional to M\n",
    "\n",
    "|x| best | worst | amortised |\n",
    "|-|-|-|-|\n",
    "|construct|1|1|1|\n",
    "|push|1|N|1|\n",
    "|pop|1|N|1|\n",
    "|size|1|1|1|"
   ]
  },
  {
   "cell_type": "markdown",
   "metadata": {},
   "source": [
    "### Tradeoffs\n",
    "\n",
    "LL: Every operation is constant time, but dealing with the links takes time\n",
    "\n",
    "RA: Every operation is constant amortized time, but less wasted space"
   ]
  },
  {
   "cell_type": "code",
   "execution_count": null,
   "metadata": {},
   "outputs": [],
   "source": []
  }
 ],
 "metadata": {
  "kernelspec": {
   "display_name": "Python 3",
   "language": "python",
   "name": "python3"
  },
  "language_info": {
   "codemirror_mode": {
    "name": "ipython",
    "version": 3
   },
   "file_extension": ".py",
   "mimetype": "text/x-python",
   "name": "python",
   "nbconvert_exporter": "python",
   "pygments_lexer": "ipython3",
   "version": "3.6.9"
  }
 },
 "nbformat": 4,
 "nbformat_minor": 4
}
