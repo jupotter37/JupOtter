{
 "cells": [
  {
   "cell_type": "markdown",
   "metadata": {},
   "source": [
    "# Data Structure\n",
    "\n",
    "- list\n",
    "- stack\n",
    "- queue\n",
    "- tree\n",
    "- etc..."
   ]
  },
  {
   "cell_type": "markdown",
   "metadata": {},
   "source": [
    "## Linked List\n",
    "\n",
    "|task|Linked List|Array|\n",
    "|:---|:----------|-----|\n",
    "|indexing|O(n)|O(1)|\n",
    "|insertion/deletion at beginning|O(1)|O(n)|\n",
    "|insertion/deletion at ending|O(n)|O(1)|\n",
    "|insertion/deletion at middle|O(n)|O(n)|\n"
   ]
  },
  {
   "cell_type": "markdown",
   "metadata": {},
   "source": [
    "### Singly Linked List"
   ]
  },
  {
   "cell_type": "code",
   "execution_count": 1,
   "metadata": {
    "collapsed": true
   },
   "outputs": [],
   "source": [
    "# Node of a Singly Linked List\n",
    "class Node:\n",
    "    # constructor\n",
    "    def __init__(self, data=None, next=None):\n",
    "        self.data = data\n",
    "        self.next = next\n",
    "    \n",
    "    # method of getter, setter for data\n",
    "    def setData(self, data):\n",
    "        self.data = data\n",
    "    def getData(self):\n",
    "        return self.data\n",
    "    \n",
    "    # method of getter, setter for next\n",
    "    def setNext(self, next):\n",
    "        self.next = next\n",
    "    def getNext(self):\n",
    "        return self.next\n",
    "    \n",
    "    # returns true if the node points to another node\n",
    "    def hasNext(self):\n",
    "        return self.next != None\n",
    "        \n",
    "# implement Singly Linked List\n",
    "class SinglyLinkedList:\n",
    "    def __init__(self, node=None):\n",
    "        self.head = node\n",
    "    \n",
    "    def setHead(self, node):\n",
    "        self.head = node\n",
    "    def getHead(self):\n",
    "        return self.head\n",
    "    # returns length of list\n",
    "    ## Time Complexity: O(n), for scanning the list of size n.\n",
    "    ## Space COmplexity: O(1), for creating a temporary vaiable.\n",
    "    def listLength(self):\n",
    "        current = self.head\n",
    "        count = 0\n",
    "        \n",
    "        while current != None:\n",
    "            count += 1\n",
    "            current = current.getNext()\n",
    "            \n",
    "        return count\n",
    "    \n",
    "    # method to insert\n",
    "    ## - at beginning\n",
    "    ## - at ending\n",
    "    ## - at specific position\n",
    "    def insertAtBeg(self, data):\n",
    "        newNode = Node(data)\n",
    "        length = self.listLength()\n",
    "        \n",
    "        if length == 0:\n",
    "            self.setHead(newNode)\n",
    "        else :\n",
    "            newNode.setNext(self.getHead())\n",
    "            self.setHead(newNode)\n",
    "        \n",
    "        return self\n",
    "    \n",
    "    def insertAtEnd(self, data):\n",
    "        newNode = Node(data)\n",
    "        current = self.getHead()\n",
    "        \n",
    "        while current.getNext() != None:\n",
    "            current = current.getNext()\n",
    "        \n",
    "        current.setNext(newNode)\n",
    "        return self\n",
    "\n",
    "    def insertAtPos(self, data, pos):\n",
    "        length = self.listLength()\n",
    "        if pos > length or pos < 0:\n",
    "            return None\n",
    "        else:\n",
    "            if pos == 0:\n",
    "                self.insertAtBeg(data)\n",
    "            else:\n",
    "                newNode = Node(data)\n",
    "                count = 0\n",
    "                current = self.getHead()\n",
    "                while count < pos - 1:\n",
    "                    current = current.getNext()\n",
    "                    count += 1\n",
    "                newNode.setNext(current.getNext())\n",
    "                current.setNext(newNode)\n",
    "                return self\n",
    "        \n",
    "    # method to delete\n",
    "    ## - at beginning\n",
    "    ## - at ending\n",
    "    ## - at specific position\n",
    "    def deleteAtBeg(self):\n",
    "        length = self.listLength()\n",
    "        if length == 0:\n",
    "            return None\n",
    "        else :\n",
    "            self.setHead(self.getHead().getNext())\n",
    "            return self\n",
    "    def deleteAtEnd(self):\n",
    "        length = self.listLength()\n",
    "        if length == 0:\n",
    "            return None\n",
    "        else :\n",
    "            current = self.getHead()\n",
    "            while current.getNext() != None:\n",
    "                prev = current\n",
    "                current = current.getNext()\n",
    "            prev.setNext(None)\n",
    "            return self\n",
    "    def deleteAtPos(self, pos):\n",
    "        length = self.listLength()\n",
    "        if pos > length or pos < 0:\n",
    "            return None\n",
    "        else:\n",
    "            count = 0\n",
    "            current = self.getHead()\n",
    "            while count < pos - 1:\n",
    "                count += 1\n",
    "                current = current.getNext()\n",
    "            current.setNext(current.getNext().getNext())\n",
    "            return self\n",
    "        \n",
    "    def show(self):\n",
    "        if self.listLength() == 0:\n",
    "            return \"Null\"\n",
    "        current = self.getHead()\n",
    "        acc = str(current.getData())\n",
    "        while current.getNext() != None:\n",
    "            current = current.getNext()\n",
    "            acc = acc + \"::\" + str(current.getData())\n",
    "        return acc+\"::Null\""
   ]
  },
  {
   "cell_type": "code",
   "execution_count": 2,
   "metadata": {},
   "outputs": [
    {
     "name": "stdout",
     "output_type": "stream",
     "text": [
      "3::1::Null\n",
      "5::3::1::Null\n",
      "5::3::1::8::Null\n",
      "5::3::12::1::8::Null\n",
      "5::3::12::8::Null\n",
      "5::3::12::Null\n",
      "3::12::Null\n"
     ]
    }
   ],
   "source": [
    "ls = SinglyLinkedList(Node(1))\n",
    "print(ls.insertAtBeg(3).show())\n",
    "print(ls.insertAtBeg(5).show())\n",
    "print(ls.insertAtEnd(8).show())\n",
    "print(ls.insertAtPos(12, 2).show())\n",
    "print(ls.deleteAtPos(3).show())\n",
    "print(ls.deleteAtEnd().show())\n",
    "print(ls.deleteAtBeg().show())"
   ]
  },
  {
   "cell_type": "markdown",
   "metadata": {},
   "source": [
    "### Doubly Linked List"
   ]
  },
  {
   "cell_type": "code",
   "execution_count": 3,
   "metadata": {
    "collapsed": true
   },
   "outputs": [],
   "source": [
    "# Node of a Doubly Linked List\n",
    "class Node:\n",
    "    def __init__(self, data=None, next=None, prev=None):\n",
    "        self.data = data\n",
    "        self.next = next\n",
    "        self.prev = prev\n",
    "  \n",
    "    def setNext(self, next):\n",
    "        self.next = next\n",
    "    def getNext(self):\n",
    "        return self.next\n",
    "\n",
    "    def setPrev(self, prev):\n",
    "        self.prev = prev\n",
    "    def getPrev(self):\n",
    "        return self.prev\n",
    "\n",
    "    def setData(self, data):\n",
    "        self.data = data\n",
    "    def getData(self):\n",
    "        return self.data\n"
   ]
  },
  {
   "cell_type": "code",
   "execution_count": 4,
   "metadata": {
    "collapsed": true
   },
   "outputs": [],
   "source": [
    "class DSShow:\n",
    "    def show(self):\n",
    "        return self.list.show()"
   ]
  },
  {
   "cell_type": "markdown",
   "metadata": {
    "collapsed": true
   },
   "source": [
    "## Stack\n"
   ]
  },
  {
   "cell_type": "code",
   "execution_count": 5,
   "metadata": {
    "collapsed": true
   },
   "outputs": [],
   "source": [
    "class Stack(DSShow):\n",
    "    def __init__(self):\n",
    "        self.list = SinglyLinkedList()\n",
    "        self.length = 0\n",
    "        \n",
    "    def top(self):\n",
    "        return self.list.getHead()\n",
    "        \n",
    "    def push(self, data):\n",
    "        self.list.insertAtBeg(data)\n",
    "        self.length += 1\n",
    "        return self\n",
    "    \n",
    "    def pop(self):\n",
    "        if self.length > 0:\n",
    "            self.length -= 1\n",
    "            top = self.top()\n",
    "            self.list.deleteAtBeg()\n",
    "            return top\n",
    "        else:\n",
    "            return None"
   ]
  },
  {
   "cell_type": "code",
   "execution_count": 6,
   "metadata": {
    "collapsed": true
   },
   "outputs": [],
   "source": [
    "stk = Stack()"
   ]
  },
  {
   "cell_type": "code",
   "execution_count": 7,
   "metadata": {},
   "outputs": [
    {
     "data": {
      "text/plain": [
       "<__main__.Stack at 0x10ee6c208>"
      ]
     },
     "execution_count": 7,
     "metadata": {},
     "output_type": "execute_result"
    }
   ],
   "source": [
    "stk.push(3)\n",
    "stk.push(4)"
   ]
  },
  {
   "cell_type": "code",
   "execution_count": 8,
   "metadata": {},
   "outputs": [
    {
     "data": {
      "text/plain": [
       "'4::3::Null'"
      ]
     },
     "execution_count": 8,
     "metadata": {},
     "output_type": "execute_result"
    }
   ],
   "source": [
    "stk.show()"
   ]
  },
  {
   "cell_type": "code",
   "execution_count": 9,
   "metadata": {},
   "outputs": [
    {
     "data": {
      "text/plain": [
       "<__main__.Node at 0x10ee60ba8>"
      ]
     },
     "execution_count": 9,
     "metadata": {},
     "output_type": "execute_result"
    }
   ],
   "source": [
    "stk.pop()"
   ]
  },
  {
   "cell_type": "code",
   "execution_count": 10,
   "metadata": {},
   "outputs": [
    {
     "data": {
      "text/plain": [
       "'3::Null'"
      ]
     },
     "execution_count": 10,
     "metadata": {},
     "output_type": "execute_result"
    }
   ],
   "source": [
    "stk.show()"
   ]
  },
  {
   "cell_type": "markdown",
   "metadata": {},
   "source": [
    "```\n",
    "Input Stream: 1, 2, 3, 3, 2, 1, 3\n",
    "\n",
    "Output Stack State: 3::1::2::3::2::Null\n",
    "```"
   ]
  },
  {
   "cell_type": "code",
   "execution_count": 11,
   "metadata": {
    "collapsed": true
   },
   "outputs": [],
   "source": [
    "class Queue(DSShow):\n",
    "    def __init__(self):\n",
    "        self.list = SinglyLinkedList()\n",
    "        self.length = 0\n",
    "        \n",
    "    def enqueue(self):\n",
    "        pass\n",
    "    def dequeue(self):\n",
    "        pass\n",
    "    "
   ]
  },
  {
   "cell_type": "code",
   "execution_count": null,
   "metadata": {
    "collapsed": true
   },
   "outputs": [],
   "source": []
  }
 ],
 "metadata": {
  "kernelspec": {
   "display_name": "Python 3",
   "language": "python",
   "name": "python3"
  },
  "language_info": {
   "codemirror_mode": {
    "name": "ipython",
    "version": 3
   },
   "file_extension": ".py",
   "mimetype": "text/x-python",
   "name": "python",
   "nbconvert_exporter": "python",
   "pygments_lexer": "ipython3",
   "version": "3.6.0"
  }
 },
 "nbformat": 4,
 "nbformat_minor": 2
}
