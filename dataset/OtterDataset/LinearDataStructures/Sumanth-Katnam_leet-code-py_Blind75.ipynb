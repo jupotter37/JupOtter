{
 "cells": [
  {
   "cell_type": "markdown",
   "metadata": {},
   "source": [
    "## Imports"
   ]
  },
  {
   "cell_type": "code",
   "execution_count": 2,
   "metadata": {},
   "outputs": [],
   "source": [
    "from typing import List, OrderedDict, Counter, Optional, Tuple\n",
    "from collections import defaultdict\n",
    "import collections\n",
    "import operator"
   ]
  },
  {
   "cell_type": "markdown",
   "metadata": {},
   "source": [
    "## Arrays & Hashing"
   ]
  },
  {
   "cell_type": "markdown",
   "metadata": {},
   "source": [
    "### Easy"
   ]
  },
  {
   "cell_type": "markdown",
   "metadata": {},
   "source": [
    "#### 1.Two Sum"
   ]
  },
  {
   "cell_type": "code",
   "execution_count": 17,
   "metadata": {},
   "outputs": [
    {
     "name": "stdout",
     "output_type": "stream",
     "text": [
      "[0, 1]\n",
      "[1, 2]\n",
      "[0, 1]\n"
     ]
    }
   ],
   "source": [
    "class Solution:\n",
    "    # O(n), O(n)\n",
    "\n",
    "    # Maintain a map of previous number with index.\n",
    "    # iterate through the nums, \n",
    "        # if target - num already exists in map, return values from map\n",
    "        # else add this entry to map\n",
    "    def twoSum(self, nums: List[int], target: int) -> List[int]:\n",
    "        idx_map = defaultdict()\n",
    "\n",
    "        for idx, num in enumerate(nums):\n",
    "            if target - num in idx_map:\n",
    "                return [idx_map[target - num], idx]\n",
    "            \n",
    "            idx_map[num] = idx\n",
    "\n",
    "sol = Solution()\n",
    "print(sol.twoSum(nums = [2,7,11,15], target = 9)) #[0,1]\n",
    "print(sol.twoSum(nums = [3,2,4], target = 6)) #[1, 2]\n",
    "print(sol.twoSum(nums = [3,3], target = 6)) #[0,1]"
   ]
  },
  {
   "cell_type": "markdown",
   "metadata": {},
   "source": [
    "#### 217.Contains Duplicate"
   ]
  },
  {
   "cell_type": "code",
   "execution_count": 18,
   "metadata": {},
   "outputs": [
    {
     "name": "stdout",
     "output_type": "stream",
     "text": [
      "True\n",
      "False\n",
      "True\n"
     ]
    }
   ],
   "source": [
    "class Solution:\n",
    "    #O(n), O(n)\n",
    "\n",
    "    # Length of numbers should be equal to the length of the set in case of no duplicates\n",
    "    def containsDuplicate(self, nums: List[int]) -> bool:\n",
    "        return len(nums) != len(set(nums))\n",
    "\n",
    "sol = Solution()\n",
    "print(sol.containsDuplicate([1,2,3,1])) #True\n",
    "print(sol.containsDuplicate([1,2,3,4])) #False\n",
    "print(sol.containsDuplicate([1,1,1,3,3,4,3,2,4,2])) #True"
   ]
  },
  {
   "cell_type": "markdown",
   "metadata": {},
   "source": [
    "#### 242. Valid Anagram"
   ]
  },
  {
   "cell_type": "code",
   "execution_count": 7,
   "metadata": {},
   "outputs": [
    {
     "name": "stdout",
     "output_type": "stream",
     "text": [
      "True\n",
      "False\n"
     ]
    }
   ],
   "source": [
    "class Solution:\n",
    "    # O(n), O(n)\n",
    "\n",
    "    # Maintain a map for s. While iterating through t decrement the count in s\n",
    "    # if the char doesn't exist, return false else return if the map is exhausted\n",
    "    def isAnagram(self, s: str, t: str) -> bool:\n",
    "        cnt_s = Counter(s)\n",
    "\n",
    "        for ch in t:\n",
    "            if ch not in cnt_s:\n",
    "                return False\n",
    "            \n",
    "            cnt_s[ch] -= 1\n",
    "            if cnt_s[ch] == 0:\n",
    "                del cnt_s[ch]\n",
    "        \n",
    "        return len(cnt_s) == 0\n",
    "\n",
    "sol = Solution()\n",
    "print(sol.isAnagram(s = \"anagram\", t = \"nagaram\")) # True\n",
    "print(sol.isAnagram(s = \"rat\", t = \"car\")) # false"
   ]
  },
  {
   "cell_type": "markdown",
   "metadata": {},
   "source": [
    "### Medium"
   ]
  },
  {
   "cell_type": "markdown",
   "metadata": {},
   "source": [
    "#### 238.Product of Array Except Self"
   ]
  },
  {
   "cell_type": "code",
   "execution_count": 19,
   "metadata": {},
   "outputs": [
    {
     "name": "stdout",
     "output_type": "stream",
     "text": [
      "[24, 12, 8, 6]\n",
      "[0, 0, 9, 0, 0]\n"
     ]
    }
   ],
   "source": [
    "class Solution:\n",
    "    # O(n), O(1)\n",
    "\n",
    "    # Create a prefix prod with every entry being product of all it's previous numbers\n",
    "    # then multiply them with postfix prod where post is the product of all numbers after current number (reverse iteration)\n",
    "    def productExceptSelf(self, nums: List[int]) -> List[int]:\n",
    "        res = [1] * len(nums)\n",
    "        pre = 1\n",
    "        for idx in range(len(nums)):\n",
    "            res[idx] = pre\n",
    "            pre *= nums[idx]\n",
    "\n",
    "        post = 1\n",
    "        for idx in range(len(nums) - 1, -1, -1):\n",
    "            res[idx] *= post\n",
    "            post *= nums[idx]\n",
    "        return res\n",
    "\n",
    "sol = Solution()\n",
    "print(sol.productExceptSelf([1,2,3,4])) #[24,12,8,6]\n",
    "print(sol.productExceptSelf([-1,1,0,-3,3])) #[0,0,9,0,0]"
   ]
  },
  {
   "cell_type": "markdown",
   "metadata": {},
   "source": [
    "#### 128. Longest Consecutive Sequence"
   ]
  },
  {
   "cell_type": "code",
   "execution_count": 109,
   "metadata": {},
   "outputs": [
    {
     "name": "stdout",
     "output_type": "stream",
     "text": [
      "4\n",
      "9\n"
     ]
    }
   ],
   "source": [
    "class Solution:\n",
    "    # O(n), O(n)\n",
    "\n",
    "    # create a set for easier search\n",
    "    # we check if the num might be start of sequence ( num - 1 should not exist)\n",
    "    # while we have num + 1 we increment the count.\n",
    "    def longestConsecutive(self, nums: List[int]) -> int:\n",
    "        res = 0\n",
    "\n",
    "        nums_set = set(nums)\n",
    "\n",
    "        for num in nums:\n",
    "            curr_max = 1\n",
    "            if num - 1 not in nums_set:\n",
    "                while num + 1 in nums_set:\n",
    "                    curr_max += 1\n",
    "                    num += 1\n",
    "\n",
    "            res = max(res, curr_max)\n",
    "\n",
    "        return res\n",
    "    \n",
    "    # O(n), O(n)\n",
    "\n",
    "    # if we get the pop element that is in the sequence, we pop all left and right of it\n",
    "    # then we get the difference.\n",
    "    def longestConsecutive_1(self, nums):\n",
    "        s = set(nums)\n",
    "        q = 0\n",
    "        while s:\n",
    "            n = s.pop()\n",
    "            l = n - 1\n",
    "            while l in s:\n",
    "                s.remove(l)\n",
    "                l-=1\n",
    "            h = n + 1\n",
    "            while h in s:\n",
    "                s.remove(h)\n",
    "                h+=1\n",
    "            q = max(q, h-l-1)\n",
    "        return q\n",
    "\n",
    "sol = Solution()\n",
    "print(sol.longestConsecutive([100,4,200,1,3,2])) #4\n",
    "print(sol.longestConsecutive_1([0,3,7,2,5,8,4,6,0,1])) #9"
   ]
  },
  {
   "cell_type": "markdown",
   "metadata": {},
   "source": [
    "#### 49. Group Anagrams"
   ]
  },
  {
   "cell_type": "code",
   "execution_count": 26,
   "metadata": {},
   "outputs": [
    {
     "name": "stdout",
     "output_type": "stream",
     "text": [
      "[['eat', 'tea', 'ate'], ['tan', 'nat'], ['bat']]\n",
      "[['']]\n",
      "[['a']]\n"
     ]
    }
   ],
   "source": [
    "class Solution:\n",
    "    # O(m.n) #O(1)\n",
    "    # m is the strs, n is the word\n",
    "    # since the cnt_arr is of constant size, it is ignored, Res is not considered in space complexity\n",
    "\n",
    "    # for every word, create a count arr list, then make it a tuple so that it can be hashed\n",
    "    # we make a map of similar tuples with it list.\n",
    "    def groupAnagrams(self, strs: List[str]) -> List[List[str]]:\n",
    "        res = defaultdict(list)\n",
    "\n",
    "        for word in strs:\n",
    "            cnt_arr = [0] * 26\n",
    "            for ch in word:\n",
    "                cnt_arr[ord(ch) - ord('a')] += 1\n",
    "\n",
    "            res[tuple(cnt_arr)].append(word)\n",
    "\n",
    "        return list(res.values())\n",
    "    \n",
    "sol = Solution()\n",
    "print(sol.groupAnagrams([\"eat\",\"tea\",\"tan\",\"ate\",\"nat\",\"bat\"])) #[[\"bat\"],[\"nat\",\"tan\"],[\"ate\",\"eat\",\"tea\"]]\n",
    "print(sol.groupAnagrams([\"\"])) #[[\"\"]]\n",
    "print(sol.groupAnagrams([\"a\"])) #[[\"a\"]]"
   ]
  },
  {
   "cell_type": "markdown",
   "metadata": {},
   "source": [
    "#### 271. Encode and Decode Strings"
   ]
  },
  {
   "cell_type": "code",
   "execution_count": 58,
   "metadata": {},
   "outputs": [
    {
     "name": "stdout",
     "output_type": "stream",
     "text": [
      "['Hello', 'World']\n",
      "['']\n",
      "['63/Rc', 'h', 'BmI3FS~J9#vmk', '7uBZ?7*/', '24h+X', 'O ']\n"
     ]
    }
   ],
   "source": [
    "class Codec:\n",
    "    # O(n), O(1)\n",
    "\n",
    "    # for each word we append length, then #, then word\n",
    "    # for decoding, first we get the count, ignore the #, the read the word\n",
    "    def encode(self, strs: List[str]) -> str:\n",
    "        \"\"\"Encodes a list of strings to a single string.\n",
    "        \"\"\"\n",
    "        res = \"\"\n",
    "        for word in strs:\n",
    "            res += f'{len(word)}#{word}'\n",
    "\n",
    "        return res\n",
    "\n",
    "    def decode(self, s: str) -> List[str]:\n",
    "        \"\"\"Decodes a single string to a list of strings.\n",
    "        \"\"\"\n",
    "        res = []\n",
    "        i = 0\n",
    "        while i < len(s):\n",
    "            j = i\n",
    "            while s[j] != '#':\n",
    "                j += 1\n",
    "\n",
    "            word_len = int(s[i:j])\n",
    "\n",
    "            res.append(s[j + 1 : j + 1 + word_len])\n",
    "            i = j + 1 + word_len\n",
    "        return res\n",
    "\n",
    "sol = Codec()\n",
    "print(sol.decode(sol.encode([\"Hello\",\"World\"]))) # [\"Hello\",\"World\"]\n",
    "print(sol.decode(sol.encode([\"\"]))) # [\"\"]\n",
    "print(sol.decode(sol.encode([\"63/Rc\",\"h\",\"BmI3FS~J9#vmk\",\"7uBZ?7*/\",\"24h+X\",\"O \"]))) # [\"63/Rc\",\"h\",\"BmI3FS~J9#vmk\",\"7uBZ?7*/\",\"24h+X\",\"O \"]"
   ]
  },
  {
   "cell_type": "markdown",
   "metadata": {},
   "source": [
    "#### 347. Top K Frequent Elements"
   ]
  },
  {
   "cell_type": "code",
   "execution_count": 5,
   "metadata": {},
   "outputs": [
    {
     "name": "stdout",
     "output_type": "stream",
     "text": [
      "[1, 2]\n",
      "[1]\n"
     ]
    }
   ],
   "source": [
    "class Solution:\n",
    "    # O(n), O(n)\n",
    "\n",
    "    # maintain a bucket map of count and all values that have the count\n",
    "    # Iterate from the end of the bucket and add k elements to the result\n",
    "    def topKFrequent(self, nums: List[int], k: int) -> List[int]:\n",
    "        bucket = defaultdict(list)\n",
    "\n",
    "        cnt_map = Counter(nums)\n",
    "        for num, cnt in cnt_map.items():\n",
    "            bucket[cnt].append(num)\n",
    "\n",
    "        res = []\n",
    "        for i in range(len(nums), 0, -1):\n",
    "            for num in bucket[i]:\n",
    "                res.append(num)\n",
    "                k -= 1\n",
    "                if k == 0:\n",
    "                    return res\n",
    "\n",
    "sol = Solution()\n",
    "print(sol.topKFrequent(nums = [1,1,1,2,2,3], k = 2)) # [1,2]\n",
    "print(sol.topKFrequent(nums = [1], k = 1)) # [1]"
   ]
  },
  {
   "cell_type": "markdown",
   "metadata": {},
   "source": [
    "## Two Pointers"
   ]
  },
  {
   "cell_type": "markdown",
   "metadata": {},
   "source": [
    "### Easy"
   ]
  },
  {
   "cell_type": "markdown",
   "metadata": {},
   "source": [
    "#### 125. Valid Palindrome"
   ]
  },
  {
   "cell_type": "code",
   "execution_count": 32,
   "metadata": {},
   "outputs": [
    {
     "name": "stdout",
     "output_type": "stream",
     "text": [
      "True\n",
      "False\n",
      "True\n"
     ]
    }
   ],
   "source": [
    "class Solution:\n",
    "    # O(n), O(n)\n",
    "\n",
    "    # cleanse all non alpha num\n",
    "    # check characters from back and front\n",
    "    def isPalindrome(self, s: str) -> bool:\n",
    "        clean_str = ''.join([ch.lower() for ch in s if ch.isalnum()])\n",
    "        i, j = 0, len(clean_str) - 1\n",
    "\n",
    "        while i < j:\n",
    "            if clean_str[i] != clean_str[j]:\n",
    "                return False\n",
    "            i += 1\n",
    "            j -= 1\n",
    "\n",
    "        return True\n",
    "\n",
    "sol = Solution()\n",
    "print(sol.isPalindrome(\"A man, a plan, a canal: Panama\")) #true\n",
    "print(sol.isPalindrome(\"race a car\")) #false\n",
    "print(sol.isPalindrome(\" \")) #true"
   ]
  },
  {
   "cell_type": "markdown",
   "metadata": {},
   "source": [
    "### Medium"
   ]
  },
  {
   "cell_type": "markdown",
   "metadata": {},
   "source": [
    "#### 15. 3Sum"
   ]
  },
  {
   "cell_type": "code",
   "execution_count": 30,
   "metadata": {},
   "outputs": [
    {
     "name": "stdout",
     "output_type": "stream",
     "text": [
      "[[-1, -1, 2], [-1, 0, 1]]\n",
      "[]\n",
      "[[0, 0, 0]]\n"
     ]
    }
   ],
   "source": [
    "class Solution:\n",
    "    # O(nlogn) + O(n), O(1)\n",
    "\n",
    "    # Sort the numbers\n",
    "    # select first number such that it is not a duplicate\n",
    "    # Two pointer sum through the array, to get the target value\n",
    "    # when target is found move the left pointer such that it doesn't again select the same value\n",
    "\n",
    "    def threeSum(self, nums: List[int]) -> List[List[int]]:\n",
    "        res = []\n",
    "        nums.sort()\n",
    "\n",
    "        for i, a in enumerate(nums):\n",
    "            if i > 0 and nums[i] == nums[i - 1]:\n",
    "                continue\n",
    "\n",
    "            l , r  = i + 1, len(nums) - 1\n",
    "            while l < r:\n",
    "                curr_sum = a + nums[l] + nums[r]\n",
    "                \n",
    "                if curr_sum > 0:\n",
    "                    r -= 1\n",
    "                elif curr_sum < 0:\n",
    "                    l += 1\n",
    "                else:\n",
    "                    res.append([a, nums[l], nums[r]])\n",
    "                    l += 1\n",
    "                    while l < r and nums[l] == nums[l - 1]:\n",
    "                        l += 1\n",
    "\n",
    "        return res\n",
    "\n",
    "sol = Solution()\n",
    "print(sol.threeSum([-1,0,1,2,-1,-4])) # [[-1,-1,2],[-1,0,1]]\n",
    "print(sol.threeSum([0,1,1])) # []\n",
    "print(sol.threeSum([0,0,0])) # [0,0,0]"
   ]
  },
  {
   "cell_type": "markdown",
   "metadata": {},
   "source": [
    "#### 11. Container With Most Water"
   ]
  },
  {
   "cell_type": "code",
   "execution_count": 33,
   "metadata": {},
   "outputs": [
    {
     "name": "stdout",
     "output_type": "stream",
     "text": [
      "49\n",
      "1\n"
     ]
    }
   ],
   "source": [
    "class Solution:\n",
    "    # O(n), O(1)\n",
    "\n",
    "    # At every point we take the minimum of height to calculate area\n",
    "    # we move the shorter height pointer\n",
    "    def maxArea(self, height: List[int]) -> int:\n",
    "        l, r = 0, len(height) - 1\n",
    "        res = 0\n",
    "\n",
    "        while l < r:\n",
    "            curr_area = min(height[l], height[r]) * (r - l)\n",
    "            res = max(res, curr_area)\n",
    "\n",
    "            if height[l] <= height[r]:\n",
    "                l += 1\n",
    "            else:\n",
    "                r -= 1\n",
    "\n",
    "        return res\n",
    "\n",
    "sol = Solution()\n",
    "print(sol.maxArea([1,8,6,2,5,4,8,3,7])) #49\n",
    "print(sol.maxArea([1,1])) #1"
   ]
  },
  {
   "cell_type": "markdown",
   "metadata": {},
   "source": [
    "#### 5. Longest Palindromic Substring"
   ]
  },
  {
   "cell_type": "code",
   "execution_count": null,
   "metadata": {},
   "outputs": [
    {
     "name": "stdout",
     "output_type": "stream",
     "text": [
      "bab\n",
      "bb\n"
     ]
    }
   ],
   "source": [
    "class Solution:\n",
    "    # O(n^2), O(n)\n",
    "\n",
    "    # start at each index and check outwards even and odd\n",
    "    def longestPalindrome(self, s: str) -> str:\n",
    "        def getLongest(l, r):\n",
    "            while l >= 0 and r < len(s):\n",
    "                if s[l] != s[r]:\n",
    "                    break\n",
    "                l -= 1\n",
    "                r += 1\n",
    "            return s[l + 1: r]\n",
    "        \n",
    "        res = \"\"\n",
    "        max_len = 0\n",
    "        for i in range(len(s)):\n",
    "            # odd length\n",
    "            odd_pal = getLongest(i, i)\n",
    "            if len(odd_pal) > max_len:\n",
    "                max_len = len(odd_pal)\n",
    "                res = odd_pal\n",
    "            \n",
    "            # even length\n",
    "            even_pal = getLongest(i, i + 1)\n",
    "            if len(even_pal) > max_len:\n",
    "                max_len = len(even_pal)\n",
    "                res = even_pal\n",
    "\n",
    "        return res\n",
    "\n",
    "sol = Solution()\n",
    "print(sol.longestPalindrome(\"babad\")) #\"bab\"\n",
    "print(sol.longestPalindrome(\"cbbd\")) #\"bb\""
   ]
  },
  {
   "cell_type": "markdown",
   "metadata": {},
   "source": [
    "#### 647. Palindromic Substrings"
   ]
  },
  {
   "cell_type": "code",
   "execution_count": 36,
   "metadata": {},
   "outputs": [
    {
     "name": "stdout",
     "output_type": "stream",
     "text": [
      "3\n",
      "6\n"
     ]
    }
   ],
   "source": [
    "class Solution:\n",
    "    # O(n), O(1)\n",
    "\n",
    "    # At each index we check for odd and even palindromes\n",
    "    # for every charcter match we increment the count by 1\n",
    "    def countSubstrings(self, s: str) -> int:\n",
    "        def countPalins(i, j):\n",
    "            cnt = 0\n",
    "            while i >= 0 and j < len(s):  \n",
    "                if s[i] != s[j]:\n",
    "                    break\n",
    "\n",
    "                cnt += 1\n",
    "                i -= 1\n",
    "                j += 1\n",
    "\n",
    "            return cnt\n",
    "\n",
    "        \n",
    "        res = 0\n",
    "        for i in range(len(s)):\n",
    "            res += countPalins(i, i)\n",
    "            res += countPalins(i, i + 1)\n",
    "\n",
    "        return res\n",
    "    \n",
    "sol = Solution()\n",
    "print(sol.countSubstrings(\"abc\")) #3\n",
    "print(sol.countSubstrings(\"aaa\")) #6"
   ]
  },
  {
   "cell_type": "markdown",
   "metadata": {},
   "source": [
    "## Sliding Window"
   ]
  },
  {
   "cell_type": "markdown",
   "metadata": {},
   "source": [
    "### Easy"
   ]
  },
  {
   "cell_type": "markdown",
   "metadata": {},
   "source": [
    "#### 121.Best Time to Buy and Sell Stock"
   ]
  },
  {
   "cell_type": "code",
   "execution_count": 4,
   "metadata": {},
   "outputs": [
    {
     "name": "stdout",
     "output_type": "stream",
     "text": [
      "5\n",
      "0\n"
     ]
    }
   ],
   "source": [
    "class Solution:\n",
    "    # O(n), O(1)\n",
    "\n",
    "    # As long as the high is greater than low, we calculate profit and increment high\n",
    "    # else we set low to high and increment high\n",
    "    def maxProfit(self, prices: List[int]) -> int:\n",
    "        low, high = 0, 1\n",
    "        res = 0\n",
    "        \n",
    "        while high < len(prices):\n",
    "            if(prices[high] < prices[low]):\n",
    "                low = high\n",
    "            else:\n",
    "                res = max(res, prices[high] - prices[low])\n",
    "            high += 1\n",
    "\n",
    "        return res\n",
    "\n",
    "sol = Solution()\n",
    "print(sol.maxProfit(prices = [7,1,5,3,6,4])) #5\n",
    "print(sol.maxProfit(prices = [7,6,4,3,1])) #0"
   ]
  },
  {
   "cell_type": "markdown",
   "metadata": {},
   "source": [
    "### Medium"
   ]
  },
  {
   "cell_type": "markdown",
   "metadata": {},
   "source": [
    "#### 3. Longest Substring Without Repeating Characters"
   ]
  },
  {
   "cell_type": "code",
   "execution_count": 18,
   "metadata": {},
   "outputs": [
    {
     "name": "stdout",
     "output_type": "stream",
     "text": [
      "3\n",
      "1\n",
      "3\n"
     ]
    }
   ],
   "source": [
    "class Solution:\n",
    "    # O(n), O(n)\n",
    "    # since we are running through the word once \n",
    "    # and max shrink is done only once, so we can ignore the while loop \n",
    "    # for space, we are considering the size of the hashmap, we can also use set\n",
    "\n",
    "    # each character we encouter, we increment the count\n",
    "    # while the character count is greater than 1, we minimize the window and decrease the outgoing character count\n",
    "    # now the current string value is ( r - l + 1 ). We track the max of it\n",
    "    def lengthOfLongestSubstring(self, s: str) -> int:\n",
    "        l = 0\n",
    "        cnt_map = defaultdict(int)\n",
    "        res = 0\n",
    "        for r in range(len(s)):\n",
    "            cnt_map[s[r]] += 1\n",
    "            while cnt_map[s[r]] > 1:\n",
    "                cnt_map[s[l]] -= 1\n",
    "                l += 1\n",
    "\n",
    "            res = max(res, r - l + 1)\n",
    "\n",
    "        return res\n",
    "\n",
    "\n",
    "sol = Solution()\n",
    "print(sol.lengthOfLongestSubstring(\"abcabcbb\")) #3\n",
    "print(sol.lengthOfLongestSubstring(\"bbbbb\")) #1\n",
    "print(sol.lengthOfLongestSubstring(\"pwwkew\")) #3"
   ]
  },
  {
   "cell_type": "markdown",
   "metadata": {},
   "source": [
    "#### 424. Longest Repeating Character Replacement"
   ]
  },
  {
   "cell_type": "code",
   "execution_count": 19,
   "metadata": {},
   "outputs": [
    {
     "name": "stdout",
     "output_type": "stream",
     "text": [
      "4\n",
      "4\n"
     ]
    }
   ],
   "source": [
    "class Solution:\n",
    "    # O(n), O(n)\n",
    "    # loop through word; cnt_map\n",
    "\n",
    "    # We maintain a max frequency variable\n",
    "    # When the window length - max freq is greater than k, \n",
    "    # we shrink the window, so that it is <= k\n",
    "    # no need to update frequency in while loop becuase, we need to only worry about the size of window.\n",
    "    def characterReplacement(self, s: str, k: int) -> int:\n",
    "        cnt_map = defaultdict(int)\n",
    "        l, res = 0, 0\n",
    "        max_freq = 0\n",
    "\n",
    "        for r in range(len(s)):\n",
    "            cnt_map[s[r]] += 1\n",
    "\n",
    "            max_freq = max(max_freq, cnt_map[s[r]])\n",
    "            while (r - l + 1) - max_freq > k:\n",
    "                cnt_map[s[l]] -= 1\n",
    "                l += 1\n",
    "\n",
    "            res = max(res, r - l + 1)\n",
    "\n",
    "        return res\n",
    "\n",
    "sol = Solution()\n",
    "print(sol.characterReplacement(s = \"ABAB\", k = 2)) #4\n",
    "print(sol.characterReplacement(s = \"AABABBA\", k = 1)) #4"
   ]
  },
  {
   "cell_type": "markdown",
   "metadata": {},
   "source": [
    "### Hard"
   ]
  },
  {
   "cell_type": "markdown",
   "metadata": {},
   "source": [
    "#### 76. Minimum Window Substring"
   ]
  },
  {
   "cell_type": "code",
   "execution_count": 20,
   "metadata": {},
   "outputs": [
    {
     "name": "stdout",
     "output_type": "stream",
     "text": [
      "BANC\n",
      "a\n",
      "\n"
     ]
    }
   ],
   "source": [
    "class Solution:\n",
    "    # O(m + n), O(m + n)\n",
    "    # since we iterate through both strings once. The complexity of loop can be removed because it only runs for n once\n",
    "    # Since we have two maps, memory complexity is m + n\n",
    "\n",
    "    # create a target map of counts, get the required number of unique characters\n",
    "    # at aby point, if the char count in sub string is equal to the required count, we increment have by one\n",
    "    # while haves and needs are equal, we shrink the window, while updating the counts in the sub map and have.\n",
    "    # whenever we get a smaller value, get the start and end points since we need to return the string\n",
    "    def minWindow(self, s: str, t: str) -> str:\n",
    "        if len(s) < len(t):\n",
    "            return ''\n",
    "\n",
    "        sub_map = defaultdict(int)\n",
    "        \n",
    "        t_map = defaultdict(int)\n",
    "        for ch in t:\n",
    "            t_map[ch] += 1\n",
    "\n",
    "        need = len(t_map)\n",
    "        have = 0\n",
    "        l, min_len  = 0, len(s) + 1\n",
    "        start, end = -1, -1\n",
    "        \n",
    "        \n",
    "        for r in range(len(s)):\n",
    "            sub_map[s[r]] += 1\n",
    "\n",
    "            if s[r] in t_map and t_map[s[r]] == sub_map[s[r]]:\n",
    "                have += 1\n",
    "            \n",
    "            while have == need:\n",
    "                if min_len > (r - l + 1):\n",
    "                    min_len = r - l + 1\n",
    "                    start, end = l, r\n",
    "                \n",
    "                sub_map[s[l]] -= 1\n",
    "\n",
    "                if s[l] in t_map and t_map[s[l]] > sub_map[s[l]]:\n",
    "                    have -= 1\n",
    "\n",
    "                l += 1\n",
    "\n",
    "        return \"\" if min_len == len(s) + 1 else s[start : end + 1]\n",
    "\n",
    "sol = Solution()\n",
    "print(sol.minWindow(s = \"ADOBECODEBANC\", t = \"ABC\")) #\"BANC\"\n",
    "print(sol.minWindow(s = \"a\", t = \"a\")) #\"a\"\n",
    "print(sol.minWindow(s = \"a\", t = \"aa\")) #\"\""
   ]
  },
  {
   "cell_type": "markdown",
   "metadata": {},
   "source": [
    "## Stack"
   ]
  },
  {
   "cell_type": "markdown",
   "metadata": {},
   "source": [
    "### Easy"
   ]
  },
  {
   "cell_type": "markdown",
   "metadata": {},
   "source": [
    "#### 20. Valid Parentheses"
   ]
  },
  {
   "cell_type": "code",
   "execution_count": 29,
   "metadata": {},
   "outputs": [
    {
     "name": "stdout",
     "output_type": "stream",
     "text": [
      "True\n",
      "True\n",
      "False\n"
     ]
    }
   ],
   "source": [
    "class Solution:\n",
    "    # O(n), O(n)\n",
    "\n",
    "    # add the open braces to stack\n",
    "    # if we encounter a closing brace, check if it can close top of stack\n",
    "        # if yes, pop\n",
    "        # if no return false\n",
    "    # return true if stack is empty\n",
    "    def isValid(self, s: str) -> bool:\n",
    "        par_map = {')': '(', ']': '[', '}': '{'}\n",
    "        stk = []\n",
    "\n",
    "        for ch in s:\n",
    "            if ch not in par_map:\n",
    "                stk.append(ch)\n",
    "            else:\n",
    "                if stk and par_map[ch] == stk[-1]:\n",
    "                    stk.pop()\n",
    "                else:\n",
    "                    return False\n",
    "        \n",
    "        return not stk\n",
    "\n",
    "\n",
    "sol = Solution()\n",
    "print(sol.isValid(\"()\")) #true\n",
    "print(sol.isValid(\"()[]{}\")) #true\n",
    "print(sol.isValid(\"(]\")) #false"
   ]
  },
  {
   "cell_type": "markdown",
   "metadata": {},
   "source": [
    "## Binary Search"
   ]
  },
  {
   "cell_type": "markdown",
   "metadata": {},
   "source": [
    "### Medium"
   ]
  },
  {
   "cell_type": "markdown",
   "metadata": {},
   "source": [
    "#### 153.Find Minimum in Rotated Sorted Array"
   ]
  },
  {
   "cell_type": "code",
   "execution_count": 24,
   "metadata": {},
   "outputs": [
    {
     "name": "stdout",
     "output_type": "stream",
     "text": [
      "1\n",
      "0\n",
      "11\n"
     ]
    }
   ],
   "source": [
    "class Solution:\n",
    "    # O(logn), O(1)\n",
    "\n",
    "    # If the selected portion is properly sorted (lNum <= rNum), return left value\n",
    "    # Else, get the mid\n",
    "        # If the mid is greater than left then there are much smaller numbers on right, move left\n",
    "        # else move right\n",
    "    def findMin(self, nums: List[int]) -> int:\n",
    "        l, r = 0, len(nums) - 1\n",
    "        \n",
    "        res = nums[l]\n",
    "        while l <= r:\n",
    "            if nums[l] <= nums[r]:\n",
    "                return min(nums[l], res)\n",
    "\n",
    "            mid = (l + r) // 2\n",
    "            res = min(res, nums[mid])\n",
    "\n",
    "            # we are in the left portion \n",
    "            # and there are smaller numbers in the right portion\n",
    "            if nums[mid] >= nums[l]:\n",
    "                l = mid + 1\n",
    "            else:\n",
    "                r = mid - 1\n",
    "\n",
    "        return res\n",
    "\n",
    "sol = Solution()\n",
    "print(sol.findMin([3,4,5,1,2])) #1\n",
    "print(sol.findMin([4,5,6,7,0,1,2])) #0\n",
    "print(sol.findMin([11,13,15,17])) #11"
   ]
  },
  {
   "cell_type": "markdown",
   "metadata": {},
   "source": [
    "#### 33. Search in Rotated Sorted Array"
   ]
  },
  {
   "cell_type": "code",
   "execution_count": 25,
   "metadata": {},
   "outputs": [
    {
     "name": "stdout",
     "output_type": "stream",
     "text": [
      "4\n",
      "-1\n",
      "-1\n"
     ]
    }
   ],
   "source": [
    "class Solution:\n",
    "    # O(logn), O(1)\n",
    "\n",
    "    # Get mid, \n",
    "        # if it is equal, return\n",
    "        # If mid val is greater than left val (we are in the left sorted)\n",
    "            # if the target doesn't lie in this portion, then move to the right portion\n",
    "            # else move to the left portion\n",
    "        # do the opposite\n",
    "\n",
    "    def search(self, nums: List[int], target: int) -> int:\n",
    "        l , r = 0, len(nums) - 1\n",
    "\n",
    "        while l <= r:\n",
    "            mid = (l + r) // 2\n",
    "\n",
    "            if nums[mid] == target:\n",
    "                return mid\n",
    "            \n",
    "            if nums[mid] >= nums[l]:\n",
    "                if nums[l] > target or nums[mid] < target:\n",
    "                    l = mid + 1\n",
    "                else:\n",
    "                    r = mid - 1\n",
    "            else:\n",
    "                if nums[r] < target or nums[mid] > target:\n",
    "                    r = mid - 1\n",
    "                else:\n",
    "                    l = mid + 1\n",
    "\n",
    "        return -1\n",
    "\n",
    "sol = Solution()\n",
    "print(sol.search(nums = [4,5,6,7,0,1,2], target = 0)) #4\n",
    "print(sol.search(nums = [4,5,6,7,0,1,2], target = 3)) #-1\n",
    "print(sol.search(nums = [1], target = 0)) #-1"
   ]
  },
  {
   "cell_type": "markdown",
   "metadata": {},
   "source": [
    "## Linked List"
   ]
  },
  {
   "cell_type": "markdown",
   "metadata": {},
   "source": [
    "### Easy"
   ]
  },
  {
   "cell_type": "markdown",
   "metadata": {},
   "source": [
    "#### 206. Reverse Linked List"
   ]
  },
  {
   "cell_type": "code",
   "execution_count": null,
   "metadata": {},
   "outputs": [],
   "source": [
    "class ListNode:\n",
    "    def __init__(self, val=0, next=None):\n",
    "        self.val = val\n",
    "        self.next = next\n",
    "\n",
    "class Solution:\n",
    "    # O(n), O(1)\n",
    "\n",
    "    # we take prev to be none and current to be head\n",
    "    # while current is not null, we keep the current next in a temp (as it is the next curr)\n",
    "    # we set current next to previous node, and move previous to current\n",
    "    # current is now moved to the earlier current.next\n",
    "    def reverseList(self, head: Optional[ListNode]) -> Optional[ListNode]:\n",
    "        prev = None\n",
    "        curr = head\n",
    "\n",
    "        while curr:\n",
    "            nxt = curr.next\n",
    "            curr.next = prev\n",
    "            prev = curr\n",
    "            curr = nxt\n",
    "\n",
    "        return prev\n",
    "    \n",
    "    # O(n), O(1)\n",
    "\n",
    "    # we take the current node and reverse the rest of the list\n",
    "    # we set node.next(reversed Node).next = node; since the new head's next should be current node\n",
    "    # current node next is set to none; to severe the link\n",
    "    def reverseList_1(self, head: Optional[ListNode]) -> Optional[ListNode]:\n",
    "        if not head:\n",
    "            return None\n",
    "        \n",
    "        newHead = head\n",
    "        if head.next:\n",
    "            newHead = self.reverseList_1(head.next)\n",
    "            newHead.next = head\n",
    "\n",
    "        head.next = None\n",
    "        return newHead"
   ]
  },
  {
   "cell_type": "markdown",
   "metadata": {},
   "source": [
    "#### 141. Linked List Cycle"
   ]
  },
  {
   "cell_type": "code",
   "execution_count": null,
   "metadata": {},
   "outputs": [],
   "source": [
    "class ListNode:\n",
    "    def __init__(self, x):\n",
    "        self.val = x\n",
    "        self.next = None\n",
    "\n",
    "class Solution:\n",
    "    # Floyd's Algo\n",
    "    # O(n), O(1)\n",
    "\n",
    "    # We have two pointers slow and fast\n",
    "    # fast one moves at two paces, slow one moves at one pace\n",
    "    # while the fast and fast's next position is valid\n",
    "        # if at any point fast and slow collide, there is a loop\n",
    "        # if the fast one runs out of list, then there is no loop\n",
    "    def hasCycle(self, head: Optional[ListNode]) -> bool:\n",
    "        if not head:\n",
    "            return False\n",
    "        \n",
    "        slow = head\n",
    "        fast = head.next\n",
    "\n",
    "        while fast and fast.next:\n",
    "            if slow == fast:\n",
    "                return True\n",
    "            \n",
    "            slow = slow.next\n",
    "            fast = fast.next.next\n",
    "\n",
    "        return False"
   ]
  },
  {
   "cell_type": "markdown",
   "metadata": {},
   "source": [
    "#### 21. Merge Two Sorted Lists"
   ]
  },
  {
   "cell_type": "code",
   "execution_count": null,
   "metadata": {},
   "outputs": [],
   "source": [
    "# Definition for singly-linked list.\n",
    "class ListNode:\n",
    "    def __init__(self, val=0, next=None):\n",
    "        self.val = val\n",
    "        self.next = next\n",
    "\n",
    "class Solution:\n",
    "    # O(n), O(1)\n",
    "    \n",
    "    # We create a dummy result node and add everything next to it\n",
    "    # we iterate through both lists\n",
    "        # the smaller node gets added to result and the list is moved\n",
    "        # we move the current node on every addition\n",
    "    # Once we come out of the loop, we then tag the remaining list to the result and return dummy.next\n",
    "    def mergeTwoLists(self, list1: Optional[ListNode], list2: Optional[ListNode]) -> Optional[ListNode]:\n",
    "        dummyHead = ListNode(-1)\n",
    "        currNode = dummyHead\n",
    "        \n",
    "        while list1 and list2:\n",
    "            if list1.val < list2.val:\n",
    "                currNode.next = list1\n",
    "                list1 = list1.next\n",
    "\n",
    "            else:\n",
    "                currNode.next = list2\n",
    "                list2 = list2.next\n",
    "\n",
    "            currNode = currNode.next\n",
    "            \n",
    "        if list1:\n",
    "            currNode.next = list1\n",
    "        elif list2:\n",
    "            currNode.next = list2\n",
    "\n",
    "        return dummyHead.next"
   ]
  },
  {
   "cell_type": "markdown",
   "metadata": {},
   "source": [
    "### Medium"
   ]
  },
  {
   "cell_type": "markdown",
   "metadata": {},
   "source": [
    "#### 19. Remove Nth Node From End of List"
   ]
  },
  {
   "cell_type": "code",
   "execution_count": null,
   "metadata": {},
   "outputs": [],
   "source": [
    "class ListNode:\n",
    "    def __init__(self, val=0, next=None):\n",
    "        self.val = val\n",
    "        self.next = next\n",
    "\n",
    "class Solution:\n",
    "    # O(n), O(1)\n",
    "\n",
    "    # We first shift a pointer p1 by n\n",
    "    # then we start a new poiter p2 before head and move this and p1 until p1 reaches the end\n",
    "        # consider, we have list of size 5 and we want to remove 2nd from last i.e., wth node\n",
    "        # when we move p1 by 2, we are at 3rd node\n",
    "        # now we start p2 at 0\n",
    "        # when p1 reaches 6th node (Null), it takes 6 - 3 = 3 steps, p2 takes equal steps and lands at 3rd node (0 + 3)\n",
    "    # now we set p2's next to be it's next's next, thus skipping the node in the middle\n",
    "    def removeNthFromEnd(self, head: Optional[ListNode], n: int) -> Optional[ListNode]:\n",
    "        dummy = ListNode(-1, head)\n",
    "\n",
    "        p1 = head\n",
    "        while n > 0:\n",
    "            p1 = p1.next\n",
    "            n -= 1\n",
    "\n",
    "        p2 = dummy\n",
    "        while p1:\n",
    "            p1 = p1.next\n",
    "            p2 = p2.next\n",
    "\n",
    "        p2.next = p2.next.next\n",
    "\n",
    "        return dummy.next"
   ]
  },
  {
   "cell_type": "markdown",
   "metadata": {},
   "source": [
    "#### 143. Reorder List"
   ]
  },
  {
   "cell_type": "code",
   "execution_count": null,
   "metadata": {},
   "outputs": [],
   "source": [
    "class ListNode:\n",
    "    def __init__(self, val=0, next=None):\n",
    "        self.val = val\n",
    "        self.next = next\n",
    "\n",
    "class Solution:\n",
    "    # O(n), O(1)\n",
    "\n",
    "    # first we find the mid way point by using slow and fast pointers\n",
    "    # once we stop, the start of second half is at slow.next\n",
    "    # now reverse the second half\n",
    "    # while merging, get next nodes of both lists, tag the correct order and move to the next ones\n",
    "    def reorderList(self, head: Optional[ListNode]) -> None:\n",
    "        # finding mid way\n",
    "        slow, fast = head, head.next\n",
    "        while fast and fast.next:\n",
    "            slow = slow.next\n",
    "            fast = fast.next.next\n",
    "\n",
    "        # flip the second half\n",
    "        currHead = slow.next\n",
    "        prev = slow.next = None\n",
    "\n",
    "        while currHead:\n",
    "            temp = currHead.next\n",
    "            currHead.next = prev\n",
    "            prev = currHead\n",
    "            currHead = temp\n",
    "\n",
    "        # Merge one after the other\n",
    "        first, second = head, prev\n",
    "        while second:\n",
    "            firstNext, secondNext = first.next, second.next\n",
    "            first.next = second\n",
    "            second.next = firstNext\n",
    "            first, second = firstNext, secondNext\n",
    "\n"
   ]
  },
  {
   "cell_type": "markdown",
   "metadata": {},
   "source": [
    "### Hard"
   ]
  },
  {
   "cell_type": "markdown",
   "metadata": {},
   "source": [
    "#### 23. Merge k Sorted Lists"
   ]
  },
  {
   "cell_type": "code",
   "execution_count": null,
   "metadata": {},
   "outputs": [],
   "source": [
    "# Definition for singly-linked list.\n",
    "class ListNode:\n",
    "    def __init__(self, val=0, next=None):\n",
    "        self.val = val\n",
    "        self.next = next\n",
    "        \n",
    "class Solution:\n",
    "    # O(n.m) O(n)\n",
    "    # n is lists and m is max size of a single list\n",
    "\n",
    "    # We run a loop while the lists is more than one\n",
    "        # re run a for loop taking two intervals and merging them\n",
    "        # we add the merged lists to a new list\n",
    "    # once internal merging is done, this is set as the lists for another run until condition fails\n",
    "    def mergeTwoLists(self, list1: Optional[ListNode], list2: Optional[ListNode]) -> Optional[ListNode]:\n",
    "        dummyHead = ListNode(-1)\n",
    "        currNode = dummyHead\n",
    "        \n",
    "        while list1 and list2:\n",
    "            if list1.val < list2.val:\n",
    "                currNode.next = list1\n",
    "                list1 = list1.next\n",
    "\n",
    "            else:\n",
    "                currNode.next = list2\n",
    "                list2 = list2.next\n",
    "\n",
    "            currNode = currNode.next\n",
    "            \n",
    "        if list1:\n",
    "            currNode.next = list1\n",
    "        elif list2:\n",
    "            currNode.next = list2\n",
    "\n",
    "        return dummyHead.next\n",
    "    \n",
    "    def mergeKLists(self, lists: List[Optional[ListNode]]) -> Optional[ListNode]:\n",
    "        if not lists: return None\n",
    "\n",
    "        while len(lists) > 1:\n",
    "            merged_lists = []\n",
    "\n",
    "            for i in range(0, len(lists), 2):\n",
    "                list1 = lists[i]\n",
    "                list2 = lists[i + 1] if (i + 1) < len(lists) else None\n",
    "\n",
    "                merged_lists.append(self.mergeTwoLists(list1, list2))\n",
    "\n",
    "            lists = merged_lists\n",
    "\n",
    "        return lists[0]"
   ]
  },
  {
   "cell_type": "markdown",
   "metadata": {},
   "source": [
    "## Trees"
   ]
  },
  {
   "cell_type": "markdown",
   "metadata": {},
   "source": [
    "### Easy"
   ]
  },
  {
   "cell_type": "markdown",
   "metadata": {},
   "source": [
    "#### 104. Maximum Depth of Binary Tree"
   ]
  },
  {
   "cell_type": "code",
   "execution_count": null,
   "metadata": {},
   "outputs": [],
   "source": [
    "# Definition for a binary tree node.\n",
    "class TreeNode:\n",
    "    def __init__(self, val=0, left=None, right=None):\n",
    "        self.val = val\n",
    "        self.left = left\n",
    "        self.right = right\n",
    "\n",
    "class Solution:\n",
    "    # O(n), O(n)\n",
    "\n",
    "    # If the node is null, it is the base height which is 0\n",
    "    # for every node, we get maximum of left and right nodes and add 1 to it\n",
    "    def maxDepth(self, root: Optional[TreeNode]) -> int:\n",
    "        if not root:\n",
    "            return 0\n",
    "        \n",
    "        return max(self.maxDepth(root.left), self.maxDepth(root.right)) + 1"
   ]
  },
  {
   "cell_type": "markdown",
   "metadata": {},
   "source": [
    "#### 100. Same Tree"
   ]
  },
  {
   "cell_type": "code",
   "execution_count": null,
   "metadata": {},
   "outputs": [],
   "source": [
    "class TreeNode:\n",
    "    def __init__(self, val=0, left=None, right=None):\n",
    "        self.val = val\n",
    "        self.left = left\n",
    "        self.right = right\n",
    "        \n",
    "class Solution:\n",
    "    # O(n), O(n)\n",
    "    # memory is for call stack\n",
    "\n",
    "    # Either both should be null or both needs to have same value and left and right trees are same\n",
    "    def isSameTree(self, p: Optional[TreeNode], q: Optional[TreeNode]) -> bool:\n",
    "        if not p and not q:\n",
    "            return True\n",
    "        \n",
    "        if not p or not q:\n",
    "            return False\n",
    "        \n",
    "        return p.val == q.val and self.isSameTree(p.left, q.left) and self.isSameTree(p.right, q.right)"
   ]
  },
  {
   "cell_type": "markdown",
   "metadata": {},
   "source": [
    "#### 226. Invert Binary Tree"
   ]
  },
  {
   "cell_type": "code",
   "execution_count": null,
   "metadata": {},
   "outputs": [],
   "source": [
    "class TreeNode:\n",
    "    def __init__(self, val=0, left=None, right=None):\n",
    "        self.val = val\n",
    "        self.left = left\n",
    "        self.right = right\n",
    "\n",
    "class Solution:\n",
    "    # O(n), O(n)\n",
    "\n",
    "    # if the node is null, we return it\n",
    "    # else, we swap left and right, the recursively invert left and right\n",
    "    def invertTree(self, root: Optional[TreeNode]) -> Optional[TreeNode]:\n",
    "        if not root:\n",
    "            return root\n",
    "        \n",
    "        root.left, root.right = root.right, root.left\n",
    "        self.invertTree(root.left)\n",
    "        self.invertTree(root.right)\n",
    "        return root"
   ]
  },
  {
   "cell_type": "markdown",
   "metadata": {},
   "source": [
    "#### 572. Subtree of Another Tree"
   ]
  },
  {
   "cell_type": "code",
   "execution_count": null,
   "metadata": {},
   "outputs": [],
   "source": [
    "# Definition for a binary tree node.\n",
    "class TreeNode:\n",
    "    def __init__(self, val=0, left=None, right=None):\n",
    "        self.val = val\n",
    "        self.left = left\n",
    "        self.right = right\n",
    "\n",
    "class Solution:\n",
    "    def isSameTree(self, p: Optional[TreeNode], q: Optional[TreeNode]):\n",
    "        if not p and not q:\n",
    "            return True\n",
    "        if not p or not q:\n",
    "            return False\n",
    "        \n",
    "        return (p.val == q.val \n",
    "            and self.isSameTree(p.left, q.left) \n",
    "            and self.isSameTree(p.right, q.right))\n",
    "    # O(n), O(n)\n",
    "\n",
    "    # if the subRoot is same as root, then we return True\n",
    "    # else, we call is sub tree for left or is subtree for right\n",
    "    def isSubtree(self, root: Optional[TreeNode], subRoot: Optional[TreeNode]) -> bool:\n",
    "        if not root: return False\n",
    "        if not subRoot: return True  \n",
    "\n",
    "        if self.isSameTree(root, subRoot):\n",
    "            return True\n",
    "        \n",
    "        return self.isSubtree(root.left, subRoot) or self.isSubtree(root.right, subRoot)\n"
   ]
  },
  {
   "cell_type": "markdown",
   "metadata": {},
   "source": [
    "### Medium"
   ]
  },
  {
   "cell_type": "markdown",
   "metadata": {},
   "source": [
    "#### 102. Binary Tree Level Order Traversal"
   ]
  },
  {
   "cell_type": "code",
   "execution_count": null,
   "metadata": {},
   "outputs": [],
   "source": [
    "# Definition for a binary tree node.\n",
    "class TreeNode:\n",
    "    def __init__(self, val=0, left=None, right=None):\n",
    "        self.val = val\n",
    "        self.left = left\n",
    "        self.right = right\n",
    "\n",
    "class Solution:\n",
    "    # O(n), O(n)\n",
    "\n",
    "    # BFS\n",
    "    # We initialize a deque with the root\n",
    "    # for every while loop, we iterate through current length of the deque and add only non null values\n",
    "    # once we pop it, we add it to sub level which is finally added to the res after the for loop.\n",
    "    def levelOrder(self, root: Optional[TreeNode]) -> List[List[int]]:\n",
    "        if not root: return []\n",
    "\n",
    "        res = []\n",
    "        dq = collections.deque([root])\n",
    "\n",
    "        while dq:\n",
    "            level = []\n",
    "\n",
    "            for _ in range(len(dq)):\n",
    "                node = dq.popleft()\n",
    "                level.append(node.val)\n",
    "                if node.left:\n",
    "                    dq.append(node.left)\n",
    "                if node.right:\n",
    "                    dq.append(node.right)\n",
    "            \n",
    "            res.append(level)\n",
    "\n",
    "        return res"
   ]
  },
  {
   "cell_type": "markdown",
   "metadata": {},
   "source": [
    "#### 105. Construct Binary Tree from Preorder and Inorder Traversal"
   ]
  },
  {
   "cell_type": "code",
   "execution_count": null,
   "metadata": {},
   "outputs": [],
   "source": [
    "# Definition for a binary tree node.\n",
    "class TreeNode:\n",
    "    def __init__(self, val=0, left=None, right=None):\n",
    "        self.val = val\n",
    "        self.left = left\n",
    "        self.right = right\n",
    "\n",
    "class Solution:\n",
    "    # O(n), O(n)\n",
    "\n",
    "    # the first entry in reorder is always the root node.\n",
    "    # everything to the left of that root value in inorder comes to the left of the root and right comes to the right\n",
    "    # for every call use \n",
    "        # left tree\n",
    "            # pre[1:root_idx + 1] (since we already consumed the first entry) \n",
    "            # and in[:root_idx] (excluding the root)\n",
    "        # right tree\n",
    "            # pre[root_idx + 1:] (remaining pre)\n",
    "            # inorder[root_idx + 1] (excluding the root)\n",
    "\n",
    "    def buildTree(self, preorder: List[int], inorder: List[int]) -> Optional[TreeNode]:\n",
    "        root = TreeNode(preorder[0])\n",
    "        root_idx = inorder.index(preorder[0])\n",
    "\n",
    "        root.left = self.buildTree(preorder[1 : root_idx + 1], inorder[:root_idx])\n",
    "        root.right = self.buildTree(preorder[root_idx + 1:], inorder[root_idx + 1:])\n",
    "        return root\n",
    "        "
   ]
  },
  {
   "cell_type": "markdown",
   "metadata": {},
   "source": [
    "#### 98. Validate Binary Search Tree"
   ]
  },
  {
   "cell_type": "code",
   "execution_count": null,
   "metadata": {},
   "outputs": [],
   "source": [
    "# Definition for a binary tree node.\n",
    "class TreeNode:\n",
    "    def __init__(self, val=0, left=None, right=None):\n",
    "        self.val = val\n",
    "        self.left = left\n",
    "        self.right = right\n",
    "\n",
    "class Solution:\n",
    "    # O(n), O(logn) if tree is balanced else O(n)\n",
    "\n",
    "    # start with the limits as -inf, inf\n",
    "    # if the node is within limits, check for left and right children\n",
    "    # for the left the limits are left and node val\n",
    "    # for the right the limits are node val and right\n",
    "    # null node should return True\n",
    "    def isValidBST(self, root: Optional[TreeNode]) -> bool:\n",
    "        def dfs(node, left, right):\n",
    "            if not node:\n",
    "                return True\n",
    "            \n",
    "            if not(left < node.val < right):\n",
    "                return False\n",
    "            \n",
    "            return dfs(node.left, left, node.val) and dfs(node.right, node.val, right)\n",
    "        \n",
    "        return dfs(root)"
   ]
  },
  {
   "cell_type": "markdown",
   "metadata": {},
   "source": [
    "#### 230. Kth Smallest Element in a BST"
   ]
  },
  {
   "cell_type": "code",
   "execution_count": null,
   "metadata": {},
   "outputs": [],
   "source": [
    "# Definition for a binary tree node.\n",
    "class TreeNode:\n",
    "    def __init__(self, val=0, left=None, right=None):\n",
    "        self.val = val\n",
    "        self.left = left\n",
    "        self.right = right\n",
    "\n",
    "class Solution:\n",
    "    # O(n), O(n)\n",
    "\n",
    "    # We start at the root and go to the extreme left\n",
    "    # once we are at the bottom, we pop adn increment pop count, if it is k, the return\n",
    "    # otherwise go to the right if it exists or pop back up.\n",
    "    def kthSmallest(self, root: Optional[TreeNode], k: int) -> int:\n",
    "        stk = []\n",
    "        pops = 0\n",
    "        \n",
    "        curr = root\n",
    "        while curr or stk:\n",
    "            # Go to the left most\n",
    "            while curr:\n",
    "                stk.append(curr)\n",
    "                curr = curr.left\n",
    "\n",
    "            curr = stk.pop()\n",
    "            pops += 1\n",
    "\n",
    "            if pops == k:\n",
    "                return curr.val\n",
    "            \n",
    "            curr = curr.right\n",
    "            \n",
    "\n",
    "        "
   ]
  },
  {
   "cell_type": "markdown",
   "metadata": {},
   "source": [
    "#### 235. Lowest Common Ancestor of a Binary Search Tree"
   ]
  },
  {
   "cell_type": "code",
   "execution_count": null,
   "metadata": {},
   "outputs": [],
   "source": [
    "# Definition for a binary tree node.\n",
    "class TreeNode:\n",
    "    def __init__(self, x):\n",
    "        self.val = x\n",
    "        self.left = None\n",
    "        self.right = None\n",
    "\n",
    "class Solution:\n",
    "    # O(logn), O(1)\n",
    "    # since we only select one node per level\n",
    "\n",
    "    # we start at the root, if the values lie on either side, the return that node\n",
    "    # else go towards the child side based on the values\n",
    "    def lowestCommonAncestor(self, root: 'TreeNode', p: 'TreeNode', q: 'TreeNode') -> 'TreeNode':\n",
    "        curr = root\n",
    "        \n",
    "        while curr:\n",
    "            if p.val > curr.val and q.val > curr.val:\n",
    "                curr = curr.right\n",
    "            elif p.val < curr.val and q.val < curr.val:\n",
    "                curr = curr.left\n",
    "            else:\n",
    "                return curr\n",
    "        "
   ]
  },
  {
   "cell_type": "markdown",
   "metadata": {},
   "source": [
    "### Hard"
   ]
  },
  {
   "cell_type": "markdown",
   "metadata": {},
   "source": [
    "#### 124. Binary Tree Maximum Path Sum"
   ]
  },
  {
   "cell_type": "code",
   "execution_count": null,
   "metadata": {},
   "outputs": [],
   "source": [
    "# Definition for a binary tree node.\n",
    "class TreeNode:\n",
    "    def __init__(self, val=0, left=None, right=None):\n",
    "        self.val = val\n",
    "        self.left = left\n",
    "        self.right = right\n",
    "\n",
    "class Solution:\n",
    "    # O(n), O(n)\n",
    "\n",
    "    # If the node is null, we return zero\n",
    "    # we get the max possible values of left and right tree; we also do a max with zero for negative values\n",
    "    # If we use both left and right values, we get one max possibility\n",
    "    # The other is where we do not split and send back the root with left or right or neither\n",
    "    def maxPathSum(self, root: Optional[TreeNode]) -> int:\n",
    "        res = -float('inf')\n",
    "\n",
    "        def dfs(node):\n",
    "            nonlocal res\n",
    "            if not node:\n",
    "                return 0\n",
    "            \n",
    "            left_val = max(dfs(node.left), 0)\n",
    "            right_val = max(dfs(node.right), 0)\n",
    "\n",
    "            # Max with left and right\n",
    "            res = max(res, node.val + left_val + right_val)\n",
    "\n",
    "            # Max with only left or only right or none\n",
    "            return node.val + max(left_val, right_val)\n",
    "\n",
    "        dfs(root)\n",
    "        return res\n"
   ]
  },
  {
   "cell_type": "markdown",
   "metadata": {},
   "source": [
    "#### 297. Serialize and Deserialize Binary Tree"
   ]
  },
  {
   "cell_type": "code",
   "execution_count": 60,
   "metadata": {},
   "outputs": [],
   "source": [
    "# Definition for a binary tree node.\n",
    "class TreeNode(object):\n",
    "    def __init__(self, x):\n",
    "        self.val = x\n",
    "        self.left = None\n",
    "        self.right = None\n",
    "\n",
    "class Codec:\n",
    "    # O(n), O(n)\n",
    "\n",
    "    # We do a pre order traversal\n",
    "    # first we add the root val and then we recursively call on left and right trees\n",
    "    # if the node is null, we add \"N\"\n",
    "    def serialize(self, root):\n",
    "        res = []\n",
    "        \n",
    "        def pre_order_dfs(node):\n",
    "            if not node:\n",
    "                res.append('N')\n",
    "                return\n",
    "            \n",
    "            res.append(str(node.val))\n",
    "            pre_order_dfs(node.left)\n",
    "            pre_order_dfs(node.right)\n",
    "\n",
    "        pre_order_dfs(root)\n",
    "        return \";\".join(res)\n",
    "\n",
    "    # We do a pre order traversal\n",
    "    # first we add the node value and increment the pointer,\n",
    "    # and then we recursively call on left and right trees\n",
    "    # if the node value is \"N\", we increment the pointer and return None\n",
    "    def deserialize(self, data):\n",
    "        nodes = data.split(';')\n",
    "\n",
    "        i = 0\n",
    "        def pre_order_dfs():\n",
    "            nonlocal i\n",
    "            \n",
    "            if nodes[i] == 'N':\n",
    "                i += 1\n",
    "                return None\n",
    "            \n",
    "            node = TreeNode(int(nodes[i]))\n",
    "            i += 1\n",
    "            node.left = pre_order_dfs()\n",
    "            node.right = pre_order_dfs()\n",
    "            return node\n",
    "        return pre_order_dfs()"
   ]
  },
  {
   "cell_type": "markdown",
   "metadata": {},
   "source": [
    "## Heap/Priority Queue"
   ]
  },
  {
   "cell_type": "markdown",
   "metadata": {},
   "source": [
    "### Hard"
   ]
  },
  {
   "cell_type": "markdown",
   "metadata": {},
   "source": [
    "#### 295. Find Median from Data Stream"
   ]
  },
  {
   "cell_type": "code",
   "execution_count": null,
   "metadata": {},
   "outputs": [],
   "source": [
    "from heapq import heappop, heappush\n",
    "class MedianFinder:\n",
    "    # O(nlogn), O(n)\n",
    "\n",
    "    # Divide the stream into left and right halfs by maintaining the absolute size difference to be 1\n",
    "    # Left half should have all nums less than mid point and right should have larger ones\n",
    "    # based on the size, return the corresponding elements\n",
    "    # if they are of the same size, return the average of the top elements\n",
    "    def __init__(self):\n",
    "        self.left_half = [] # max heap\n",
    "        self.right_half = [] # min heap\n",
    "\n",
    "    def addNum(self, num: int) -> None:\n",
    "        heappush(self.left_half, -1 * num)\n",
    "\n",
    "        if(self.left_half and self.right_half \n",
    "           and -1 * self.left_half[0] > self.right_half[0]):\n",
    "            num = -1 * heappop(self.left_half)\n",
    "            heappush(self.right_half, num)\n",
    "\n",
    "        left_len, right_len = len(self.left_half), len(self.right_half)\n",
    "        \n",
    "        if left_len > right_len + 1:\n",
    "            num = -1 * heappop(self.left_half)\n",
    "            heappush(self.right_half, num)\n",
    "        elif right_len > left_len + 1:\n",
    "            num = heappop(self.right_half)\n",
    "            heappush(self.left_half, -1 * num)\n",
    "\n",
    "    def findMedian(self) -> float:\n",
    "        left_len, right_len = len(self.left_half), len(self.right_half)\n",
    "\n",
    "        if left_len > right_len:\n",
    "            return -1 * self.left_half[0]\n",
    "        elif right_len > left_len:\n",
    "            return self.right_half[0]\n",
    "        else:\n",
    "            return (-1 * self.left_half[0] + self.right_half[0]) / 2"
   ]
  },
  {
   "cell_type": "markdown",
   "metadata": {},
   "source": [
    "## Backtracking"
   ]
  },
  {
   "cell_type": "markdown",
   "metadata": {},
   "source": [
    "### Medium"
   ]
  },
  {
   "cell_type": "markdown",
   "metadata": {},
   "source": [
    "#### 39. Combination Sum"
   ]
  },
  {
   "cell_type": "code",
   "execution_count": 63,
   "metadata": {},
   "outputs": [
    {
     "name": "stdout",
     "output_type": "stream",
     "text": [
      "[[2, 2, 3], [7]]\n",
      "[[2, 2, 2, 2], [2, 3, 3], [3, 5]]\n",
      "[]\n"
     ]
    }
   ],
   "source": [
    "class Solution:\n",
    "    # O(2 ^ target), O(2 ^ target) + O(Target)\n",
    "    # since at each step we have 2 decisions and atmost tree length can be target; \n",
    "    # Memory is the recusion stack + length of subset which can be atmost target length\n",
    "\n",
    "    # We start at index zero\n",
    "    # at each step we can include the number ( add to subset, add the sum, continue on same index)\n",
    "    # or not include the number (remove from subset from previous step, same sum, next index)\n",
    "    # when the sum reaches target, we save subset copy else nothing\n",
    "    def combinationSum(self, candidates: List[int], target: int) -> List[List[int]]:\n",
    "        res = []\n",
    "        def backtrack(subSet, idx, currSum):\n",
    "            if currSum == target:\n",
    "                res.append(subSet[::])\n",
    "                return\n",
    "            \n",
    "            if currSum > target or idx >= len(candidates):\n",
    "                return \n",
    "            \n",
    "            # include the current number\n",
    "            subSet.append(candidates[idx])\n",
    "            backtrack(subSet, idx, currSum + candidates[idx])\n",
    "\n",
    "            # do not include the current and move to next\n",
    "            subSet.pop()\n",
    "            backtrack(subSet, idx + 1, currSum)\n",
    "            \n",
    "        \n",
    "        backtrack([], 0, 0)\n",
    "        return res\n",
    "\n",
    "sol = Solution()\n",
    "print(sol.combinationSum(candidates = [2,3,6,7], target = 7)) #[[2,2,3],[7]]\n",
    "print(sol.combinationSum(candidates = [2,3,5], target = 8)) #[[2,2,2,2],[2,3,3],[3,5]]\n",
    "print(sol.combinationSum(candidates = [2], target = 1)) #[]"
   ]
  },
  {
   "cell_type": "markdown",
   "metadata": {},
   "source": [
    "#### 79. Word Search"
   ]
  },
  {
   "cell_type": "code",
   "execution_count": 16,
   "metadata": {},
   "outputs": [
    {
     "name": "stdout",
     "output_type": "stream",
     "text": [
      "True\n",
      "True\n",
      "False\n"
     ]
    }
   ],
   "source": [
    "class Solution:\n",
    "    # O(m.n.4^wordlen), O(m.n)\n",
    "    # since we are iterating through the whole board and we call the backtrack 4 times for each position\n",
    "\n",
    "    # We need to run backtrack at every position\n",
    "    # if the index reaches end of word, then True\n",
    "    # if it's already in path or out of bound or not the character we are looking for, False\n",
    "    # add the position to path if we are past these two conditions\n",
    "    # then we run backtrack on all the neighbors and return the or of all the outcomes.\n",
    "    # remove the position from current path before returning, so that set is always empty when it finishes one entire run\n",
    "    def exist(self, board: List[List[str]], word: str) -> bool:\n",
    "        ROWS, COLS = len(board), len(board[0])\n",
    "        curr_path = set()\n",
    "\n",
    "        def backtrack(r, c, idx):\n",
    "            if idx == len(word):\n",
    "                return True\n",
    "            \n",
    "            if (not (0 <= r < ROWS\n",
    "                    and 0 <= c < COLS\n",
    "                    and (r, c) not in curr_path) \n",
    "                or (word[idx] != board[r][c])):\n",
    "                return False\n",
    "            \n",
    "            curr_path.add((r, c))\n",
    "            res = False\n",
    "            for dx, dy in [(1, 0), (-1, 0), (0, 1), (0, -1)]:\n",
    "                res = res or backtrack(r + dx, c + dy, idx + 1, )\n",
    "\n",
    "            curr_path.remove((r, c))\n",
    "            return res\n",
    "\n",
    "        for r in range(ROWS):\n",
    "            for c in range(COLS):\n",
    "                if backtrack(r, c, 0):\n",
    "                    return True\n",
    "            \n",
    "        return False\n",
    "\n",
    "sol = Solution()\n",
    "print(sol.exist(board = [[\"A\",\"B\",\"C\",\"E\"],[\"S\",\"F\",\"C\",\"S\"],[\"A\",\"D\",\"E\",\"E\"]], word = \"ABCCED\")) #true\n",
    "print(sol.exist(board = [[\"A\",\"B\",\"C\",\"E\"],[\"S\",\"F\",\"C\",\"S\"],[\"A\",\"D\",\"E\",\"E\"]], word = \"SEE\")) #true\n",
    "print(sol.exist(board = [[\"A\",\"B\",\"C\",\"E\"],[\"S\",\"F\",\"C\",\"S\"],[\"A\",\"D\",\"E\",\"E\"]], word = \"ABCB\")) #false"
   ]
  },
  {
   "cell_type": "markdown",
   "metadata": {},
   "source": [
    "## Tries"
   ]
  },
  {
   "cell_type": "markdown",
   "metadata": {},
   "source": [
    "### Medium"
   ]
  },
  {
   "cell_type": "markdown",
   "metadata": {},
   "source": [
    "#### 208. Implement Trie (Prefix Tree)"
   ]
  },
  {
   "cell_type": "code",
   "execution_count": null,
   "metadata": {},
   "outputs": [],
   "source": [
    "class TrieNode:\n",
    "    def __init__(self):\n",
    "        self.children = {}\n",
    "        self.isWordEnd = False\n",
    "\n",
    "class Trie:\n",
    "    # O(n), O(n)\n",
    "\n",
    "    # each node has a children map and a boolean to indicate if it is the end of the word.\n",
    "    def __init__(self):\n",
    "        self.root = TrieNode()\n",
    "\n",
    "    def insert(self, word: str) -> None:\n",
    "        curr = self.root\n",
    "\n",
    "        for ch in word:\n",
    "            if not ch in curr.children:\n",
    "                curr.children[ch] = TrieNode()\n",
    "            curr = curr.children[ch]\n",
    "\n",
    "        curr.isWordEnd = True\n",
    "                \n",
    "\n",
    "    def search(self, word: str) -> bool:\n",
    "        curr = self.root\n",
    "\n",
    "        for ch in word:\n",
    "            if ch in curr.children:\n",
    "                curr = curr.children[ch]\n",
    "            else:\n",
    "                return False\n",
    "\n",
    "        return curr.isWordEnd\n",
    "\n",
    "    def startsWith(self, prefix: str) -> bool:\n",
    "        curr = self.root\n",
    "\n",
    "        for ch in prefix:\n",
    "            if ch in curr.children:\n",
    "                curr = curr.children[ch]\n",
    "            else:\n",
    "                return False\n",
    "\n",
    "        return True"
   ]
  },
  {
   "cell_type": "markdown",
   "metadata": {},
   "source": [
    "#### 211. Design Add and Search Words Data Structure"
   ]
  },
  {
   "cell_type": "code",
   "execution_count": null,
   "metadata": {},
   "outputs": [],
   "source": [
    "class TrieNode:\n",
    "    def __init__(self) -> None:\n",
    "        self.children = {}\n",
    "        self.isWordEnd = False\n",
    "\n",
    "class WordDictionary:\n",
    "    # O(26^n), O(n)\n",
    "\n",
    "    # each node has a children map and a boolean to indicate if it is the end of the word.\n",
    "    # do a dfs, when the char is normal, just do routine traversal, \n",
    "    # else go through all children of the node recursively\n",
    "    def __init__(self):\n",
    "        self.root = TrieNode()\n",
    "\n",
    "    def addWord(self, word: str) -> None:\n",
    "        curr = self.root\n",
    "\n",
    "        for ch in word:\n",
    "            if ch not in curr.children:\n",
    "                curr.children[ch] = TrieNode()\n",
    "            curr = curr.children[ch]\n",
    "        curr.isWordEnd = True\n",
    "\n",
    "    def search(self, word: str) -> bool:\n",
    "        def dfs(curr, i):\n",
    "            for j in range(i, len(word)):\n",
    "                if word[j] == '.':\n",
    "                    for child in curr.children.values():\n",
    "                        if(dfs(child, j + 1)):\n",
    "                            return True\n",
    "                    return False\n",
    "                else:\n",
    "                    if word[j] not in curr.children:\n",
    "                        return False\n",
    "                    curr = curr.children[word[j]]\n",
    "            \n",
    "            return curr.isWordEnd\n",
    "\n",
    "        return dfs(self.root, 0)"
   ]
  },
  {
   "cell_type": "markdown",
   "metadata": {},
   "source": [
    "### Hard"
   ]
  },
  {
   "cell_type": "markdown",
   "metadata": {},
   "source": [
    "#### 212. Word Search II"
   ]
  },
  {
   "cell_type": "code",
   "execution_count": 3,
   "metadata": {},
   "outputs": [
    {
     "name": "stdout",
     "output_type": "stream",
     "text": [
      "['eat', 'oath']\n",
      "[]\n"
     ]
    }
   ],
   "source": [
    "class Node:\n",
    "    def __init__(self):\n",
    "        self.children = {}\n",
    "        self.isEnd = False\n",
    "        self.refs = 0\n",
    "\n",
    "    def addWord(self, word: str) -> None:\n",
    "        curr = self\n",
    "        curr.refs += 1\n",
    "        for i in word:\n",
    "            if i not in curr.children:\n",
    "                curr.children[i] = Node()\n",
    "            curr = curr.children[i]\n",
    "            curr.refs += 1\n",
    "        curr.isEnd = True\n",
    "\n",
    "    def removeWord(self, word):\n",
    "        cur = self\n",
    "        cur.refs -= 1\n",
    "        for c in word:\n",
    "            if c in cur.children:\n",
    "                cur = cur.children[c]\n",
    "                cur.refs -= 1\n",
    "\n",
    "class Solution:\n",
    "    # O(N⋅L+(ROWS⋅COLS)⋅4^L), O(N⋅L+ROWS⋅COLS)\n",
    "\n",
    "    # Building a Trie O(N.L), words * length\n",
    "    # DFS is (ROWS.COLS). 4 ^ L\n",
    "    # Removing the words is O(N.L)\n",
    "\n",
    "    # Trie space is O(N.L)\n",
    "    # DFS O(L)\n",
    "    # Visit set O(ROWS.COLS)\n",
    "    def findWords(self, board: List[List[str]], words: List[str]) -> List[str]:\n",
    "        root = Node()\n",
    "\n",
    "        for word in words:\n",
    "            root.addWord(word)\n",
    "\n",
    "        ROWS, COLS = len(board), len(board[0])\n",
    "        res, visit = set(), set()\n",
    "        \n",
    "        def dfs(r, c, node, sub_word):\n",
    "            if (not (0 <= r < ROWS)\n",
    "                or not (0 <= c < COLS)\n",
    "                or (r, c) in visit\n",
    "                or board[r][c] not in node.children\n",
    "                or node.children[board[r][c]].refs < 1):\n",
    "                return\n",
    "\n",
    "            visit.add((r, c))\n",
    "            node = node.children[board[r][c]]\n",
    "            sub_word += board[r][c]\n",
    "\n",
    "            if node.isEnd:\n",
    "                node.isEnd = False\n",
    "                res.add(sub_word)\n",
    "                root.removeWord(sub_word)\n",
    "\n",
    "            for dx, dy in [(0, 1), (0, -1), (1, 0), (-1, 0)]:\n",
    "                dfs(r + dx, c + dy, node, sub_word)\n",
    "            \n",
    "            visit.remove((r, c))\n",
    "            \n",
    "        \n",
    "        for r in range(ROWS):\n",
    "            for c in range(COLS):\n",
    "                dfs(r, c, root, \"\")\n",
    "\n",
    "        \n",
    "        return list(res)\n",
    "    \n",
    "sol = Solution()\n",
    "print(sol.findWords(board = [[\"o\",\"a\",\"a\",\"n\"],[\"e\",\"t\",\"a\",\"e\"],[\"i\",\"h\",\"k\",\"r\"],[\"i\",\"f\",\"l\",\"v\"]], \n",
    "                    words = [\"oath\",\"pea\",\"eat\",\"rain\"])) # [\"eat\",\"oath\"]\n",
    "print(sol.findWords(board = [[\"a\",\"b\"],[\"c\",\"d\"]], words = [\"abcb\"])) # []"
   ]
  },
  {
   "cell_type": "markdown",
   "metadata": {},
   "source": [
    "## Graphs"
   ]
  },
  {
   "cell_type": "markdown",
   "metadata": {},
   "source": [
    "### Medium"
   ]
  },
  {
   "cell_type": "markdown",
   "metadata": {},
   "source": [
    "#### 133. Clone Graph"
   ]
  },
  {
   "cell_type": "code",
   "execution_count": null,
   "metadata": {},
   "outputs": [],
   "source": [
    "from typing import Optional\n",
    "\n",
    "# Definition for a Node.\n",
    "class Node:\n",
    "    def __init__(self, val = 0, neighbors = None):\n",
    "        self.val = val\n",
    "        self.neighbors = neighbors if neighbors is not None else []\n",
    "\n",
    "class Solution:\n",
    "    # O(V + E), O(V)\n",
    "    # dfs time complexity O(vertices + edges), Space complexity here is O(Vertices) since we are only storing the vertices in a map\n",
    "\n",
    "    # Start at the given node\n",
    "    # create a clone of it and add to the map\n",
    "    # iterate through nodes neighbors and call dfs again to clone the neighbors and attach them to the cloned node.\n",
    "    # if the node is already cloned we return it from the map.\n",
    "    def cloneGraph(self, node: Optional['Node']) -> Optional['Node']:\n",
    "        clone_map = {None: None}\n",
    "\n",
    "\n",
    "        def dfs(node: Optional['Node']):\n",
    "            if node in clone_map:\n",
    "                return clone_map[node]\n",
    "            \n",
    "            clone_node = Node(node.val)\n",
    "            clone_map[node] = clone_node\n",
    "\n",
    "            for nei in node.neighbors:\n",
    "                clone_node.neighbors.append(dfs(nei))\n",
    "\n",
    "            return clone_node\n",
    "\n",
    "        return dfs(node)\n",
    "            \n",
    "            "
   ]
  },
  {
   "cell_type": "markdown",
   "metadata": {},
   "source": [
    "#### 207. Course Schedule"
   ]
  },
  {
   "cell_type": "code",
   "execution_count": 86,
   "metadata": {},
   "outputs": [
    {
     "name": "stdout",
     "output_type": "stream",
     "text": [
      "True\n",
      "False\n",
      "True\n"
     ]
    }
   ],
   "source": [
    "class Solution:\n",
    "    # O(V + E), O(V)\n",
    "\n",
    "    # For each crs we check if it's pre reqs can be done\n",
    "    # if it can be done, we return yes and add it to visited\n",
    "    # we perform dfs on every course to check if they can be done.\n",
    "    def canFinish(self, numCourses: int, prerequisites: List[List[int]]) -> bool:\n",
    "        crs_map = defaultdict(list)\n",
    "\n",
    "        for pre, crs in prerequisites:\n",
    "            crs_map[crs].append(pre)\n",
    "\n",
    "        visited = set()\n",
    "        \n",
    "        def dfs(crs, currPath):\n",
    "            if crs in currPath:\n",
    "                return False\n",
    "            \n",
    "            if crs in visited:\n",
    "                return True\n",
    "            \n",
    "            currPath.add(crs)\n",
    "            for nei in crs_map[crs]:\n",
    "                if not dfs(nei, currPath):\n",
    "                    return False\n",
    "            currPath.remove(crs)\n",
    "            \n",
    "            visited.add(crs)\n",
    "            return True\n",
    "\n",
    "        for crs in range(numCourses):\n",
    "            if not dfs(crs, set()):\n",
    "                return False\n",
    "        return True\n",
    "\n",
    "sol = Solution()\n",
    "print(sol.canFinish(numCourses = 2, prerequisites = [[1,0]])) # True\n",
    "print(sol.canFinish(numCourses = 2, prerequisites = [[1,0],[0,1]])) # false\n",
    "print(sol.canFinish(numCourses = 2, prerequisites = [])) # true"
   ]
  },
  {
   "cell_type": "markdown",
   "metadata": {},
   "source": [
    "#### 417. Pacific Atlantic Water Flow"
   ]
  },
  {
   "cell_type": "code",
   "execution_count": 87,
   "metadata": {},
   "outputs": [
    {
     "name": "stdout",
     "output_type": "stream",
     "text": [
      "[[0, 4], [1, 3], [1, 4], [2, 2], [3, 0], [3, 1], [4, 0]]\n",
      "[[0, 0]]\n"
     ]
    }
   ],
   "source": [
    "class Solution:\n",
    "    # O(m.n), O(m.n)\n",
    "\n",
    "    # We start at the borders, since they can be added to ocean.\n",
    "    # for the four neighbors of the current box, \n",
    "        # if they are in bounds and they have a height higher or equal to the current box, we add them to the corresponding ocean\n",
    "    # once we fill both sets, we check for commons and add it to the result.\n",
    "    def pacificAtlantic(self, heights: List[List[int]]) -> List[List[int]]:\n",
    "        ROWS, COLS = len(heights), len(heights[0])\n",
    "        pac, atl = set(), set()\n",
    "\n",
    "        def dfs(r, c, ocean, prevHeight):\n",
    "            if ((r, c) in ocean \n",
    "                or (not 0 <= r < ROWS) \n",
    "                or (not 0 <= c < COLS)\n",
    "                or heights[r][c] < prevHeight):\n",
    "                return\n",
    "            \n",
    "            ocean.add((r, c))\n",
    "\n",
    "            for dx, dy in [(0, 1), (0, -1), (1, 0), (-1, 0)]:\n",
    "                dfs(r + dx, c + dy, ocean, heights[r][c])\n",
    "        \n",
    "        for c in range(COLS):\n",
    "            dfs(0, c, pac, heights[0][c])\n",
    "            dfs(ROWS - 1, c, atl, heights[ROWS - 1][c])\n",
    "\n",
    "        \n",
    "        for r in range(ROWS):\n",
    "            dfs(r, 0, pac, heights[r][0])\n",
    "            dfs(r, COLS - 1, atl, heights[r][COLS - 1])\n",
    "\n",
    "        res = []\n",
    "        for r in range(ROWS):\n",
    "            for c in range(COLS):\n",
    "                if (r, c) in pac and (r, c) in atl:\n",
    "                    res.append([r, c])\n",
    "\n",
    "        return res\n",
    "\n",
    "sol = Solution()\n",
    "print(sol.pacificAtlantic([[1,2,2,3,5],[3,2,3,4,4],[2,4,5,3,1],[6,7,1,4,5],[5,1,1,2,4]])) #[[0,4],[1,3],[1,4],[2,2],[3,0],[3,1],[4,0]]\n",
    "print(sol.pacificAtlantic([[1]])) #[[0,0]]"
   ]
  },
  {
   "cell_type": "markdown",
   "metadata": {},
   "source": [
    "#### 200. Number of Islands"
   ]
  },
  {
   "cell_type": "code",
   "execution_count": 104,
   "metadata": {},
   "outputs": [
    {
     "name": "stdout",
     "output_type": "stream",
     "text": [
      "1\n",
      "3\n"
     ]
    }
   ],
   "source": [
    "from collections import deque\n",
    "class Solution:\n",
    "    # O(m.n), O(m.n) (for the deque)\n",
    "\n",
    "\n",
    "    # We iterate through whole matrix\n",
    "    # if the calue is 1, we call bfs\n",
    "        # Set the curr val to 0\n",
    "        # if the neighbors are within range and are 1\n",
    "            # Set them to 0 and add to bfs queue\n",
    "    def numIslands(self, grid: List[List[str]]) -> int:\n",
    "        if not grid: return 0\n",
    "\n",
    "        ROWS, COLS = len(grid), len(grid[0])\n",
    "        n_islands = 0\n",
    "\n",
    "        def bfs(r, c):\n",
    "            q = collections.deque()\n",
    "            grid[r][c] = \"0\"\n",
    "            q.append((r,c))\n",
    "\n",
    "            while q:\n",
    "                row, col = q.popleft() # change this to pop to make it DFS iterative\n",
    "                \n",
    "                for i, j in [[1,0], [0,1], [-1, 0], [0, -1]]:\n",
    "                    new_r, new_c = row + i, col + j\n",
    "                    if (new_r >=0 and new_c >= 0\n",
    "                        and new_r < ROWS and new_c < COLS \n",
    "                        and grid[new_r][new_c] == \"1\"):\n",
    "                        q.append((new_r, new_c))\n",
    "                        grid[new_r][new_c] = \"0\"\n",
    "\n",
    "\n",
    "\n",
    "        for i in range(ROWS):\n",
    "            for j in range(COLS):\n",
    "                if grid[i][j] == \"1\":\n",
    "                    bfs(i, j)\n",
    "                    n_islands += 1\n",
    "        \n",
    "        return n_islands\n",
    "\n",
    "\n",
    "sol = Solution()\n",
    "print(sol.numIslands([\n",
    "  [\"1\",\"1\",\"1\",\"1\",\"0\"],\n",
    "  [\"1\",\"1\",\"0\",\"1\",\"0\"],\n",
    "  [\"1\",\"1\",\"0\",\"0\",\"0\"],\n",
    "  [\"0\",\"0\",\"0\",\"0\",\"0\"]\n",
    "])) #1\n",
    "print(sol.numIslands([\n",
    "  [\"1\",\"1\",\"0\",\"0\",\"0\"],\n",
    "  [\"1\",\"1\",\"0\",\"0\",\"0\"],\n",
    "  [\"0\",\"0\",\"1\",\"0\",\"0\"],\n",
    "  [\"0\",\"0\",\"0\",\"1\",\"1\"]\n",
    "])) #3"
   ]
  },
  {
   "cell_type": "markdown",
   "metadata": {},
   "source": [
    "#### 261. Graph Valid Tree"
   ]
  },
  {
   "cell_type": "code",
   "execution_count": 125,
   "metadata": {},
   "outputs": [
    {
     "name": "stdout",
     "output_type": "stream",
     "text": [
      "True\n",
      "False\n",
      "False\n",
      "False\n"
     ]
    }
   ],
   "source": [
    "class Solution:\n",
    "    # Graph should be connected, No cycles\n",
    "    # O(V + E), O(V + E)\n",
    "\n",
    "    # Start from any node\n",
    "    # only do dfs on node that is not the previous (no going back on same edge)\n",
    "    # if we encounter node already in path, then return False\n",
    "    # Once the dfs returns true, the visited should have all the nodes, else the graph is disconnected\n",
    "    def validTree(self, n: int, edges: List[List[int]]) -> bool:\n",
    "        adj_list = {i:[] for i in range(n)}\n",
    "\n",
    "        for u, v in edges:\n",
    "            adj_list[u].append(v)\n",
    "            adj_list[v].append(u)\n",
    "        visited = set()\n",
    "        \n",
    "        def dfs(node, prev_val):\n",
    "            if node in visited:\n",
    "                return False\n",
    "            \n",
    "            visited.add(node)\n",
    "            for nei in adj_list[node]:\n",
    "                if nei != prev_val:\n",
    "                    if not dfs(nei, node):\n",
    "                        return False\n",
    "                    \n",
    "            return True\n",
    "        \n",
    "        return len(visited) == n if dfs(0, -1) else False\n",
    "\n",
    "sol = Solution()\n",
    "print(sol.validTree(n = 5, edges = [[0,1],[0,2],[0,3],[1,4]])) #True\n",
    "print(sol.validTree(n = 5, edges = [[0,1],[1,2],[2,3],[1,3],[1,4]])) #False\n",
    "print(sol.validTree(n = 4, edges = [[0,1],[2,3]])) #False\n",
    "print(sol.validTree(n = 3, edges = [[0,1],[0,2],[1,2]])) #False"
   ]
  },
  {
   "cell_type": "markdown",
   "metadata": {},
   "source": [
    "#### 323. Number of Connected Components in an Undirected Graph"
   ]
  },
  {
   "cell_type": "code",
   "execution_count": 4,
   "metadata": {},
   "outputs": [
    {
     "name": "stdout",
     "output_type": "stream",
     "text": [
      "2\n",
      "1\n"
     ]
    }
   ],
   "source": [
    "class Solution:\n",
    "    # O(v + e), O(v + e)\n",
    "\n",
    "    # We start at a node and do DFS\n",
    "    # if the DFS returns true, then it means a unique component is added to visited\n",
    "    # if it returns false, the node is already part of a component\n",
    "\n",
    "    # if the node is already visited return false, else dfs on the neighbor nodes that are not already in path\n",
    "    # once all neighbors are handled, add the node to visited and return True\n",
    "    def countComponents(self, n: int, edges: List[List[int]]) -> int:\n",
    "        adj_list = {i:[] for i in range(n)}\n",
    "\n",
    "        for u, v in edges:\n",
    "            adj_list[u].append(v)\n",
    "            adj_list[v].append(u)\n",
    "\n",
    "        visited = set()\n",
    "        def dfs(node, curr_path):\n",
    "            if node in visited:\n",
    "                return False\n",
    "            \n",
    "            curr_path.add(node)\n",
    "            for nei in adj_list[node]:\n",
    "                if nei not in curr_path: # To avoid going into loop\n",
    "                    dfs(nei, curr_path)\n",
    "            \n",
    "            visited.add(node)\n",
    "            return True\n",
    "\n",
    "        res = 0\n",
    "        for node in range(n):\n",
    "            if(dfs(node, set())):\n",
    "                res += 1\n",
    "\n",
    "        return res\n",
    "    \n",
    "    # Union Find\n",
    "\n",
    "    # Initially every node has same rank and all have parent as itself\n",
    "    # for u, v in an edge, we find it's parents\n",
    "        # If the parents are same, we have already merged\n",
    "        # if rank of one node is greater than other, then we assign smaller rank parent's parent to be larger rank parent\n",
    "        # else we do the opposite.\n",
    "        # when we do this merging, we increment the rank of it as well.\n",
    "    # every time, there is a merge, we decrement total components by 1 whose starting value is same as number of nodes\n",
    "    def countComponents_1(self, n: int, edges: List[List[int]]) -> int:\n",
    "        par = [i for i in range(n)]\n",
    "        rank = [1] * n\n",
    "\n",
    "        def find(n1):\n",
    "            res = n1\n",
    "            while res != par[res]:\n",
    "                res = par[res]\n",
    "\n",
    "            return res\n",
    "        \n",
    "        def union(n1, n2):\n",
    "            p1 = find(n1)\n",
    "            p2 = find(n2)\n",
    "\n",
    "            # Already in the same component\n",
    "            if p1 == p2:\n",
    "                return 0\n",
    "\n",
    "            if rank[p1] > rank[p2]:\n",
    "                par[p2] = p1\n",
    "                rank[p1] += 1\n",
    "            else:\n",
    "                par[p1] = p2\n",
    "                rank[p2] += 1\n",
    "\n",
    "            return 1\n",
    "        \n",
    "        res = n\n",
    "        for u, v in edges:\n",
    "            res -= union(u, v)\n",
    "\n",
    "        return res\n",
    "\n",
    "sol = Solution()\n",
    "print(sol.countComponents(n = 5, edges = [[0,1],[1,2],[3,4]])) #2\n",
    "print(sol.countComponents(n = 5, edges = [[0,1],[1,2],[2,3],[3,4]])) #1"
   ]
  },
  {
   "cell_type": "markdown",
   "metadata": {},
   "source": [
    "## Advanced Graphs"
   ]
  },
  {
   "cell_type": "markdown",
   "metadata": {},
   "source": [
    "### Hard"
   ]
  },
  {
   "cell_type": "markdown",
   "metadata": {},
   "source": [
    "#### 269. Alien Dictionary"
   ]
  },
  {
   "cell_type": "code",
   "execution_count": 114,
   "metadata": {},
   "outputs": [
    {
     "name": "stdout",
     "output_type": "stream",
     "text": [
      "wertf\n",
      "zx\n",
      "\n"
     ]
    }
   ],
   "source": [
    "class Solution:\n",
    "    # O(n), O(n)\n",
    "\n",
    "    # First we build the adjacency set\n",
    "        # if the words are of same length we get relation between differing characters\n",
    "        # If one word is prefix of another, the smaller word should be first\n",
    "\n",
    "    # DFS all the characters\n",
    "        # we add the character to the result only when all of it's dependencies are added.\n",
    "        # if we come across same character while traversing it means there is a loop.\n",
    "        # once all characters are added, reverse the result as the char with lowest dependency is added first and so on.\n",
    "    def alienOrder(self, words: List[str]) -> str:\n",
    "        adj_set = {c: set() for word in words for c in word}\n",
    "\n",
    "        # Building adjacency set\n",
    "        for i in range(len(words) - 1):\n",
    "            word1, word2 = words[i], words[i + 1]\n",
    "\n",
    "            minWordlen = min(len(word1), len(word2))\n",
    "\n",
    "            # If one word is prefix of another, the smaller word should be first\n",
    "            if len(word1) > len(word2) and word1[:minWordlen] == word2[:minWordlen]:\n",
    "                return \"\"\n",
    "            \n",
    "            for j in range(minWordlen):\n",
    "                if word1[j] != word2[j]:\n",
    "                    adj_set[word1[j]].add(word2[j])\n",
    "                    break\n",
    "\n",
    "        # True is currently being visited, False is already visited\n",
    "        visited = {}\n",
    "        res = []\n",
    "\n",
    "        def dfs(ch):\n",
    "            if ch in visited:\n",
    "                return visited[ch]\n",
    "            \n",
    "            visited[ch] = True\n",
    "            for nei in adj_set[ch]:\n",
    "                if(dfs(nei)):\n",
    "                    return True\n",
    "            \n",
    "            visited[ch] = False\n",
    "            res.append(ch)\n",
    "            return False\n",
    "        \n",
    "        for ch in adj_set.keys():\n",
    "            if dfs(ch): return \"\"\n",
    "\n",
    "        return \"\".join(res[::-1])\n",
    "\n",
    "\n",
    "\n",
    "sol = Solution()\n",
    "print(sol.alienOrder([\"wrt\",\"wrf\",\"er\",\"ett\",\"rftt\"])) #\"wertf\"\n",
    "print(sol.alienOrder([\"z\",\"x\"])) #\"zx\"\n",
    "print(sol.alienOrder([\"z\",\"x\",\"z\"])) #\"\""
   ]
  },
  {
   "cell_type": "markdown",
   "metadata": {},
   "source": [
    "## 1-D Dynamic Programming"
   ]
  },
  {
   "cell_type": "markdown",
   "metadata": {},
   "source": [
    "### Easy"
   ]
  },
  {
   "cell_type": "markdown",
   "metadata": {},
   "source": [
    "#### 338. Counting Bits"
   ]
  },
  {
   "cell_type": "code",
   "execution_count": 35,
   "metadata": {},
   "outputs": [
    {
     "name": "stdout",
     "output_type": "stream",
     "text": [
      "[0, 1, 1]\n",
      "[0, 1, 1, 2, 1, 2]\n"
     ]
    }
   ],
   "source": [
    "class Solution:\n",
    "    # O(n), O(n)\n",
    "\n",
    "    # There is a pattern where number of 1 bits are similar for every offset length\n",
    "    # eg: num = 5 (101) offset = 4 (since 2**2 < 5 < 2**3), \n",
    "        # so we consider 1 + dp[5 - 4] = 1 + dp[1] = 2\n",
    "    def countBits(self, n: int) -> List[int]:\n",
    "        dp = [0] * (n + 1)\n",
    "\n",
    "        offset = 1\n",
    "        for i in range(1, n + 1):\n",
    "            if offset * 2 == i:\n",
    "                offset = i\n",
    "\n",
    "            dp[i] = dp[i - offset] + 1\n",
    "\n",
    "        return dp\n",
    "\n",
    "sol = Solution()\n",
    "print(sol.countBits(2)) #[0, 1, 1]\n",
    "print(sol.countBits(5)) #[0,1,1,2,1,2]"
   ]
  },
  {
   "cell_type": "markdown",
   "metadata": {},
   "source": [
    "#### 70. Climbing Stairs"
   ]
  },
  {
   "cell_type": "code",
   "execution_count": 42,
   "metadata": {},
   "outputs": [
    {
     "name": "stdout",
     "output_type": "stream",
     "text": [
      "2\n",
      "3\n"
     ]
    }
   ],
   "source": [
    "class Solution:\n",
    "    # Bottom up DP\n",
    "    # O(n), O(1)\n",
    "\n",
    "    # a = last step (ways to land on it while on it = 1)\n",
    "    # b = prev to last step (ways to go to last block is taking only one step = 1)\n",
    "    # since we already took care of two steps, iterate for n - 1 since we start at step 0\n",
    "    # for every step, the ways to reach end is the sum of ways to reach next and to reach next next\n",
    "    def climbStairs(self, n: int) -> int:\n",
    "        a, b = 1, 1\n",
    "        for _ in range(n - 1):\n",
    "            temp = b\n",
    "            b = a + b\n",
    "            a = temp\n",
    "            \n",
    "        return b\n",
    "    \n",
    "sol = Solution()\n",
    "print(sol.climbStairs(2)) #2\n",
    "print(sol.climbStairs(3)) #3"
   ]
  },
  {
   "cell_type": "markdown",
   "metadata": {},
   "source": [
    "### Medium"
   ]
  },
  {
   "cell_type": "markdown",
   "metadata": {},
   "source": [
    "#### 152. Maximum Product Subarray"
   ]
  },
  {
   "cell_type": "code",
   "execution_count": 23,
   "metadata": {},
   "outputs": [
    {
     "name": "stdout",
     "output_type": "stream",
     "text": [
      "6\n",
      "0\n"
     ]
    }
   ],
   "source": [
    "class Solution:\n",
    "    # O(n), O(1)\n",
    "\n",
    "    # Keep track of max possible and min possible at every number\n",
    "    # when the number is 0, reset the values to 1\n",
    "    def maxProduct(self, nums: List[int]) -> int:\n",
    "        res = max(nums)\n",
    "        max_prod, min_prod = 1, 1\n",
    "\n",
    "        for num in nums:\n",
    "            if num == 0:\n",
    "                max_prod, min_prod = 1, 1\n",
    "                continue\n",
    "\n",
    "            temp = min_prod\n",
    "            min_prod = min(num, max_prod * num, temp * num)\n",
    "            max_prod = max(num, max_prod * num, temp * num)\n",
    "            res = max(res, max_prod)\n",
    "\n",
    "        return res\n",
    "\n",
    "\n",
    "\n",
    "sol = Solution()\n",
    "print(sol.maxProduct([2,3,-2,4])) #6\n",
    "print(sol.maxProduct([-2,0,-1])) #0"
   ]
  },
  {
   "cell_type": "markdown",
   "metadata": {},
   "source": [
    "#### 322. Coin Change"
   ]
  },
  {
   "cell_type": "code",
   "execution_count": 51,
   "metadata": {},
   "outputs": [
    {
     "name": "stdout",
     "output_type": "stream",
     "text": [
      "3\n",
      "-1\n",
      "0\n"
     ]
    }
   ],
   "source": [
    "class Solution:\n",
    "    # Bottom Up\n",
    "    # O(n), O(n)\n",
    "    \n",
    "    # There are 0 coins needed to make amount zero\n",
    "    # for every amount, we take min of all possibility of coins and add one to the number of ways to get to remaining amount\n",
    "    def coinChange(self, coins: List[int], amount: int) -> int:\n",
    "        dp = [amount + 1]* (amount + 1)\n",
    "        dp[0] = 0\n",
    "        for amt in range(1, amount + 1):\n",
    "            for coin in coins:\n",
    "                if amt - coin >= 0:\n",
    "                    dp[amt] = min(dp[amt], 1 + dp[amt - coin])\n",
    "\n",
    "        return -1 if dp[amount] == amount + 1 else dp[amount]\n",
    "\n",
    "sol = Solution()\n",
    "print(sol.coinChange(coins = [1,2,5], amount = 11)) #3\n",
    "print(sol.coinChange(coins = [2], amount = 3)) #-1\n",
    "print(sol.coinChange(coins = [1], amount = 0)) #0"
   ]
  },
  {
   "cell_type": "markdown",
   "metadata": {},
   "source": [
    "#### 300. Longest Increasing Subsequence"
   ]
  },
  {
   "cell_type": "code",
   "execution_count": 54,
   "metadata": {},
   "outputs": [
    {
     "name": "stdout",
     "output_type": "stream",
     "text": [
      "4\n",
      "4\n",
      "1\n"
     ]
    }
   ],
   "source": [
    "class Solution:\n",
    "    # O(n^2), O(n)\n",
    "\n",
    "    # Initially, longest subsequence at any number is only itself so 1\n",
    "    # Iterate from the end of the array, then see if any numbers that come after that can give a longer increasing subseq\n",
    "    def lengthOfLIS(self, nums: List[int]) -> int:\n",
    "        LIS = [1] * len(nums)\n",
    "\n",
    "        for i in range(len(nums) - 1, -1, -1):\n",
    "            for j in range(i + 1, len(nums)):\n",
    "                if nums[j] > nums[i]:\n",
    "                    LIS[i] = max(LIS[i], 1 + LIS[j])\n",
    "\n",
    "        return max(LIS)\n",
    "\n",
    "sol = Solution()\n",
    "print(sol.lengthOfLIS([10,9,2,5,3,7,101,18])) #4\n",
    "print(sol.lengthOfLIS([0,1,0,3,2,3])) #4\n",
    "print(sol.lengthOfLIS([7,7,7,7,7,7,7])) #1"
   ]
  },
  {
   "cell_type": "markdown",
   "metadata": {},
   "source": [
    "#### 139. Word Break"
   ]
  },
  {
   "cell_type": "code",
   "execution_count": 60,
   "metadata": {},
   "outputs": [
    {
     "name": "stdout",
     "output_type": "stream",
     "text": [
      "True\n",
      "True\n",
      "False\n"
     ]
    }
   ],
   "source": [
    "class Solution:\n",
    "    # Bottom up\n",
    "    # O(m.n), O(m)\n",
    "\n",
    "    # base case is end is True\n",
    "    # We start at last character\n",
    "    # if at any character we can create a word, we set dp to the dp of the position after we use that word\n",
    "    def wordBreak(self, s: str, wordDict: List[str]) -> bool:\n",
    "        dp = [False] * (len(s) + 1)\n",
    "        dp[len(s)] = True\n",
    "\n",
    "        for i in range(len(s) - 1, -1, -1):\n",
    "            for word in wordDict:\n",
    "                if i + len(word) <= len(s) and s[i : i + len(word)] == word:\n",
    "                    dp[i] = dp[i + len(word)]\n",
    "                if(dp[i]): break\n",
    "\n",
    "        return dp[0]\n",
    "\n",
    "\n",
    "\n",
    "sol = Solution()\n",
    "print(sol.wordBreak(s = \"leetcode\", wordDict = [\"leet\",\"code\"])) #true\n",
    "print(sol.wordBreak(s = \"applepenapple\", wordDict = [\"apple\",\"pen\"])) #true\n",
    "print(sol.wordBreak(s = \"catsandog\", wordDict = [\"cats\",\"dog\",\"sand\",\"and\",\"cat\"])) #false"
   ]
  },
  {
   "cell_type": "markdown",
   "metadata": {},
   "source": [
    "#### 198. House Robber"
   ]
  },
  {
   "cell_type": "code",
   "execution_count": null,
   "metadata": {},
   "outputs": [
    {
     "name": "stdout",
     "output_type": "stream",
     "text": [
      "4\n",
      "12\n"
     ]
    }
   ],
   "source": [
    "class Solution:\n",
    "    # O(n), O(1)\n",
    "\n",
    "    # At any given time, the maximum we can rob is current + prev_prev or prev\n",
    "    def rob(self, nums: List[int]) -> int:\n",
    "        prev_prev_rob, prev_rob = 0, 0\n",
    "\n",
    "        for num in nums:\n",
    "            curr_rob = max(prev_rob, num + prev_prev_rob)\n",
    "            prev_prev_rob = prev_rob\n",
    "            prev_rob = curr_rob\n",
    "\n",
    "        return prev_rob\n",
    "\n",
    "sol = Solution()\n",
    "print(sol.rob([1,2,3,1])) #4\n",
    "print(sol.rob([2,7,9,3,1])) #12"
   ]
  },
  {
   "cell_type": "markdown",
   "metadata": {},
   "source": [
    "#### 213. House Robber II"
   ]
  },
  {
   "cell_type": "code",
   "execution_count": null,
   "metadata": {},
   "outputs": [
    {
     "name": "stdout",
     "output_type": "stream",
     "text": [
      "3\n",
      "4\n",
      "3\n"
     ]
    }
   ],
   "source": [
    "class Solution:\n",
    "    # O(n), O(1)\n",
    "\n",
    "    # Consider the circle to be a straight line and use the linear house rob logic\n",
    "    # get max of (remove first house, remove last house, first house (for edge case))\n",
    "\n",
    "    def rob(self, nums: List[int]) -> int:\n",
    "        def helper(houses):\n",
    "            prev_prev_rob, prev_rob = 0, 0\n",
    "\n",
    "            for h in houses:\n",
    "                curr_rob = max(prev_rob, h + prev_prev_rob)\n",
    "                prev_prev_rob = prev_rob\n",
    "                prev_rob = curr_rob\n",
    "\n",
    "            return prev_rob\n",
    "\n",
    "        return max(nums[0], helper(nums[:-1]), helper(nums[1:]))\n",
    "\n",
    "sol = Solution()\n",
    "print(sol.rob([2,3,2])) #3\n",
    "print(sol.rob([1,2,3,1])) #4\n",
    "print(sol.rob([1,2,3])) #3"
   ]
  },
  {
   "cell_type": "markdown",
   "metadata": {},
   "source": [
    "#### 91. Decode Ways"
   ]
  },
  {
   "cell_type": "code",
   "execution_count": 69,
   "metadata": {},
   "outputs": [
    {
     "name": "stdout",
     "output_type": "stream",
     "text": [
      "2\n",
      "3\n",
      "0\n"
     ]
    }
   ],
   "source": [
    "class Solution:\n",
    "    # Top Down\n",
    "    # O(n), O(n)\n",
    "\n",
    "    # base case is that if you reach end of string it's one way of decoding\n",
    "    # at every character\n",
    "        # if char is 0, no ways of decoding\n",
    "        # if char is 1 - 9, decoding it is same as decoding the remaining\n",
    "        # if we can form a number between 10 and 26 with the next character, add to the current ways the decoding of remaining string\n",
    "    def numDecodings(self, s: str) -> int:\n",
    "        decode_map = {len(s): 1}\n",
    "\n",
    "        def decode(idx):\n",
    "            if idx in decode_map:\n",
    "                return decode_map[idx]\n",
    "            \n",
    "            if s[idx] == '0': return 0\n",
    "\n",
    "            res = decode(idx + 1)\n",
    "            if idx + 1 < len(s) and 10 <= int(s[idx: idx + 2]) <= 26:\n",
    "                res += decode(idx + 2)\n",
    "\n",
    "            decode_map[idx] = res\n",
    "            return res\n",
    "        \n",
    "        \n",
    "        return decode(0)\n",
    "\n",
    "\n",
    "sol = Solution()\n",
    "print(sol.numDecodings(\"12\")) #2\n",
    "print(sol.numDecodings(\"226\")) #3\n",
    "print(sol.numDecodings(\"06\")) #0"
   ]
  },
  {
   "cell_type": "markdown",
   "metadata": {},
   "source": [
    "## 2-D Dynamic Programming"
   ]
  },
  {
   "cell_type": "markdown",
   "metadata": {},
   "source": [
    "### Medium"
   ]
  },
  {
   "cell_type": "markdown",
   "metadata": {},
   "source": [
    "#### 1143. Longest Common Subsequence"
   ]
  },
  {
   "cell_type": "code",
   "execution_count": 55,
   "metadata": {},
   "outputs": [
    {
     "name": "stdout",
     "output_type": "stream",
     "text": [
      "3\n",
      "3\n",
      "0\n"
     ]
    }
   ],
   "source": [
    "class Solution:\n",
    "    # Bottom up\n",
    "    # O(mn), O(n)\n",
    "\n",
    "    # initially prev row is all zeros.\n",
    "    # we iterate from the ends of both the strings. \n",
    "    # when there is a character match, that is 1 + LCS of the remaining in both strings\n",
    "    # else it is max of (rest of text1 (including curr char) +  rest of text2 (excluding current char), other way)\n",
    "    def longestCommonSubsequence(self, text1: str, text2: str) -> int:\n",
    "        prev_row = [0] * (len(text2) + 1)\n",
    "\n",
    "        for i in range(len(text1) - 1, -1, -1):\n",
    "            curr_row = [0] * (len(text2) + 1)\n",
    "            for j in range(len(text2) - 1, -1, -1):\n",
    "                if text1[i] == text2[j]:\n",
    "                    curr_row[j] = 1 + prev_row[j + 1]\n",
    "                else:\n",
    "                    curr_row[j] = max(curr_row[j + 1], prev_row[j])\n",
    "            prev_row = curr_row \n",
    "\n",
    "        \n",
    "        return prev_row[0]\n",
    "\n",
    "sol = Solution()\n",
    "print(sol.longestCommonSubsequence(text1 = \"abcde\", text2 = \"ace\" )) #3\n",
    "print(sol.longestCommonSubsequence(text1 = \"abc\", text2 = \"abc\" )) #3\n",
    "print(sol.longestCommonSubsequence(text1 = \"abc\", text2 = \"def\" )) #0"
   ]
  },
  {
   "cell_type": "markdown",
   "metadata": {},
   "source": [
    "#### 62. Unique Paths"
   ]
  },
  {
   "cell_type": "code",
   "execution_count": 73,
   "metadata": {},
   "outputs": [
    {
     "name": "stdout",
     "output_type": "stream",
     "text": [
      "28\n",
      "3\n"
     ]
    }
   ],
   "source": [
    "class Solution:\n",
    "    # Bottom up\n",
    "    # O(m.n), O(n)\n",
    "\n",
    "    # There is only one way to reach the end from any cell in the last row\n",
    "    # for every other row, we can either chose down or go to right\n",
    "    def uniquePaths(self, m: int, n: int) -> int:\n",
    "        prev_row = [1] * n\n",
    "\n",
    "        for _ in range(m - 1):\n",
    "            curr_row = [0] * n\n",
    "\n",
    "            for i in range(n - 1, -1, -1):\n",
    "                curr_row[i] = prev_row[i]\n",
    "                if i + 1 < n:\n",
    "                    curr_row[i] += curr_row[i + 1]\n",
    "\n",
    "            prev_row = curr_row\n",
    "\n",
    "        return prev_row[0]\n",
    "\n",
    "sol = Solution()\n",
    "print(sol.uniquePaths(m = 3, n = 7)) #28\n",
    "print(sol.uniquePaths(m = 3, n = 2)) #3"
   ]
  },
  {
   "cell_type": "markdown",
   "metadata": {},
   "source": [
    "## Greedy"
   ]
  },
  {
   "cell_type": "markdown",
   "metadata": {},
   "source": [
    "### Medium"
   ]
  },
  {
   "cell_type": "markdown",
   "metadata": {},
   "source": [
    "#### 53.Maximum Subarray"
   ]
  },
  {
   "cell_type": "code",
   "execution_count": 20,
   "metadata": {},
   "outputs": [
    {
     "name": "stdout",
     "output_type": "stream",
     "text": [
      "6\n",
      "1\n",
      "23\n"
     ]
    }
   ],
   "source": [
    "class Solution:\n",
    "    # O(n), O(1)\n",
    "\n",
    "    # Keep track of current sum\n",
    "    # when it goes below zero, reset\n",
    "    def maxSubArray(self, nums: List[int]) -> int:\n",
    "        max_val = nums[0]\n",
    "        curr_sum = 0\n",
    "\n",
    "        for num in nums:\n",
    "            if curr_sum < 0:\n",
    "                curr_sum = 0\n",
    "\n",
    "            curr_sum += num\n",
    "            max_val = max(max_val, curr_sum)\n",
    "\n",
    "        return max_val\n",
    "\n",
    "\n",
    "sol = Solution()\n",
    "print(sol.maxSubArray([-2,1,-3,4,-1,2,1,-5,4])) #6\n",
    "print(sol.maxSubArray([1])) #1\n",
    "print(sol.maxSubArray([5,4,-1,7,8])) #23"
   ]
  },
  {
   "cell_type": "markdown",
   "metadata": {},
   "source": [
    "#### 55. Jump Game"
   ]
  },
  {
   "cell_type": "code",
   "execution_count": 79,
   "metadata": {},
   "outputs": [
    {
     "name": "stdout",
     "output_type": "stream",
     "text": [
      "True\n",
      "False\n"
     ]
    }
   ],
   "source": [
    "class Solution:\n",
    "    # O(n), O(1)\n",
    "\n",
    "    # Initially our target is at last index and we check if we can reach it from previous index\n",
    "    # if we can, then this is out new target\n",
    "    # else we decrement our start point.\n",
    "    # if we cannot find a start point that can reach the target, \n",
    "        # our while loop ends and our target is not at the index 0 which is False\n",
    "    def canJump(self, nums: List[int]) -> bool:\n",
    "        target = len(nums) - 1\n",
    "        start = target - 1\n",
    "        while  start >= 0:\n",
    "            if start + nums[start] >= target:\n",
    "                target = start\n",
    "                start = target - 1\n",
    "            else:\n",
    "                start -= 1\n",
    "\n",
    "        return target == 0\n",
    "\n",
    "\n",
    "sol = Solution()\n",
    "print(sol.canJump([2,3,1,1,4])) #True\n",
    "print(sol.canJump([3,2,1,0,4])) #False"
   ]
  },
  {
   "cell_type": "markdown",
   "metadata": {},
   "source": [
    "## Intervals"
   ]
  },
  {
   "cell_type": "markdown",
   "metadata": {},
   "source": [
    "### Medium"
   ]
  },
  {
   "cell_type": "markdown",
   "metadata": {},
   "source": [
    "#### 57. Insert Interval"
   ]
  },
  {
   "cell_type": "code",
   "execution_count": 7,
   "metadata": {},
   "outputs": [
    {
     "name": "stdout",
     "output_type": "stream",
     "text": [
      "[[1, 5], [6, 9]]\n",
      "[[1, 2], [3, 10], [12, 16]]\n"
     ]
    }
   ],
   "source": [
    "class Solution:\n",
    "    # O(nlogn), O(n)\n",
    "\n",
    "    # Sort the intervals based on start time and then end time\n",
    "    # if the end of new is before start of next, then add new, then add all and return\n",
    "    # if start of new is after end of next, then add next to res\n",
    "    # else, it means there is an overlap, update the start and end of the new interval to be merge interval\n",
    "    # if we come out of the loop, it means, the new interval is not added to the res\n",
    "        #  Add it to the result and return\n",
    "    def insert(self, intervals: List[List[int]], newInterval: List[int]) -> List[List[int]]:\n",
    "        res = []\n",
    "\n",
    "        intervals.sort()\n",
    "        for idx in range(len(intervals)):\n",
    "            if newInterval[1] < intervals[idx][0]: # If the new interval is before start of next\n",
    "                res.append(newInterval)\n",
    "                return res + intervals[idx:]\n",
    "            elif newInterval[0] > intervals[idx][1]: # if start value of new is greater than end\n",
    "                res.append(intervals[idx])\n",
    "            else:\n",
    "                newInterval[0] = min(newInterval[0], intervals[idx][0])\n",
    "                newInterval[1] = max(newInterval[1], intervals[idx][1])\n",
    "\n",
    "        res.append(newInterval)\n",
    "        return res        \n",
    "\n",
    "sol = Solution()\n",
    "print(sol.insert(intervals = [[1,3],[6,9]], newInterval = [2,5])) #[[1,5],[6,9]]\n",
    "print(sol.insert(intervals = [[1,2],[3,5],[6,7],[8,10],[12,16]], newInterval = [4,8])) #[[1,2],[3,10],[12,16]]"
   ]
  },
  {
   "cell_type": "markdown",
   "metadata": {},
   "source": [
    "#### 56. Merge Intervals"
   ]
  },
  {
   "cell_type": "code",
   "execution_count": 8,
   "metadata": {},
   "outputs": [
    {
     "name": "stdout",
     "output_type": "stream",
     "text": [
      "[[1, 6], [8, 10], [15, 18]]\n",
      "[[1, 5]]\n"
     ]
    }
   ],
   "source": [
    "class Solution:\n",
    "    # O(nlogn), O(1)\n",
    "\n",
    "    # We take current interval as first one\n",
    "    # if current interval merges with the next one, we recalculate the end\n",
    "    # else we add the current and set the next as current\n",
    "    # once we run through the loop, we add the remaining current\n",
    "    def merge(self, intervals: List[List[int]]) -> List[List[int]]:\n",
    "        res = []\n",
    "\n",
    "        intervals.sort()\n",
    "        curr_interval = intervals[0]\n",
    "        for idx in range(1, len(intervals)):\n",
    "            if curr_interval[1] < intervals[idx][0]:\n",
    "                res.append(curr_interval)\n",
    "                curr_interval = intervals[idx]\n",
    "            else:\n",
    "                curr_interval[1] = max(curr_interval[1], intervals[idx][1])\n",
    "\n",
    "        res.append(curr_interval)\n",
    "        return res\n",
    "\n",
    "sol = Solution()\n",
    "print(sol.merge([[1,3],[2,6],[8,10],[15,18]])) #[[1,6],[8,10],[15,18]]\n",
    "print(sol.merge([[1,4],[4,5]])) #[[1,5]]"
   ]
  },
  {
   "cell_type": "markdown",
   "metadata": {},
   "source": [
    "#### 435. Non-overlapping Intervals"
   ]
  },
  {
   "cell_type": "code",
   "execution_count": 10,
   "metadata": {},
   "outputs": [
    {
     "name": "stdout",
     "output_type": "stream",
     "text": [
      "1\n",
      "2\n",
      "0\n"
     ]
    }
   ],
   "source": [
    "class Solution:\n",
    "    # O(nlogn), O(1)\n",
    "\n",
    "    # Sort the intervals\n",
    "    # first we take prev_end as first interval's end\n",
    "    # if the start of next is greater or equal to prevEnd => no overlap; recalculate the new end\n",
    "    # else we always remove the longer end because the shorter one has less chance of conflicting with others\n",
    "    def eraseOverlapIntervals(self, intervals: List[List[int]]) -> int:\n",
    "        intervals.sort()\n",
    "\n",
    "        res = 0\n",
    "        prevEnd = intervals[0][1]\n",
    "\n",
    "        for start, end in intervals[1:]:\n",
    "            if start >= prevEnd:\n",
    "                prevEnd = end\n",
    "            else:\n",
    "                res += 1\n",
    "                prevEnd = min(prevEnd, end)\n",
    "\n",
    "        return res\n",
    "\n",
    "sol = Solution()\n",
    "print(sol.eraseOverlapIntervals([[1,2],[2,3],[3,4],[1,3]])) #1\n",
    "print(sol.eraseOverlapIntervals([[1,2],[1,2],[1,2]])) #2\n",
    "print(sol.eraseOverlapIntervals([[1,2],[2,3]])) #0"
   ]
  },
  {
   "cell_type": "markdown",
   "metadata": {},
   "source": [
    "#### 252. Meeting Rooms"
   ]
  },
  {
   "cell_type": "code",
   "execution_count": 12,
   "metadata": {},
   "outputs": [
    {
     "name": "stdout",
     "output_type": "stream",
     "text": [
      "False\n",
      "True\n"
     ]
    }
   ],
   "source": [
    "class Solution:\n",
    "    # O(nlogn), O(1)\n",
    "\n",
    "    # Sort the intervals\n",
    "    # if the previous overlaps with the next false\n",
    "    # else set prev to current\n",
    "    def canAttendMeetings(self, intervals: List[List[int]]) -> bool:\n",
    "        if not intervals: return True\n",
    "        intervals.sort()\n",
    "\n",
    "        curr = intervals[0]\n",
    "\n",
    "        for start, end in intervals[1:]:\n",
    "            if curr[1] > start:\n",
    "                return False\n",
    "            else:\n",
    "                curr = [start, end]\n",
    "            \n",
    "        return True\n",
    "\n",
    "sol = Solution()\n",
    "print(sol.canAttendMeetings([[0,30],[5,10],[15,20]])) #false\n",
    "print(sol.canAttendMeetings([[7,10],[2,4]])) #true"
   ]
  },
  {
   "cell_type": "markdown",
   "metadata": {},
   "source": [
    "#### 253. Meeting Rooms II"
   ]
  },
  {
   "cell_type": "code",
   "execution_count": 14,
   "metadata": {},
   "outputs": [
    {
     "name": "stdout",
     "output_type": "stream",
     "text": [
      "2\n",
      "1\n"
     ]
    }
   ],
   "source": [
    "class Solution:\n",
    "    # O(nlogn), O(1)\n",
    "\n",
    "    # we get sorted starts and sorted ends\n",
    "    # when start value is less than end value => next one start before current ends, we need new meeting\n",
    "    # else next one starts after current one ends => decrement the meeting room\n",
    "    def minMeetingRooms(self, intervals: List[List[int]]) -> int:\n",
    "        starts = sorted([i[0] for i in intervals])\n",
    "        ends = sorted([i[1] for i in intervals])\n",
    "\n",
    "        res, curr_cnt = 0, 0\n",
    "        start_p, end_p = 0, 0\n",
    "\n",
    "        while start_p < len(intervals):\n",
    "            if starts[start_p] < ends[end_p]:\n",
    "                start_p += 1\n",
    "                curr_cnt += 1\n",
    "            else:\n",
    "                end_p += 1\n",
    "                curr_cnt -= 1\n",
    "\n",
    "            res = max(res, curr_cnt)\n",
    "\n",
    "        return res\n",
    "\n",
    "sol = Solution()\n",
    "print(sol.minMeetingRooms([[0,30],[5,10],[15,20]])) #2\n",
    "print(sol.minMeetingRooms([[7,10],[2,4]])) #1"
   ]
  },
  {
   "cell_type": "markdown",
   "metadata": {},
   "source": [
    "## Math & Geometry"
   ]
  },
  {
   "cell_type": "markdown",
   "metadata": {},
   "source": [
    "### Medium"
   ]
  },
  {
   "cell_type": "markdown",
   "metadata": {},
   "source": [
    "#### 73. Set Matrix Zeroes"
   ]
  },
  {
   "cell_type": "code",
   "execution_count": 18,
   "metadata": {},
   "outputs": [
    {
     "name": "stdout",
     "output_type": "stream",
     "text": [
      "[[1, 0, 1], [0, 0, 0], [1, 0, 1]]\n",
      "[[0, 0, 0, 0], [0, 4, 5, 0], [0, 3, 1, 0]]\n"
     ]
    }
   ],
   "source": [
    "class Solution:\n",
    "    # O(m.n), O(1)\n",
    "\n",
    "    # we use the first row and first column to determine if whole rows or cols should be zeros\n",
    "    # we set zeros for entire matric excluding first row and first column\n",
    "    # first row is determined by (0, 0)\n",
    "    # first column is determined by a special variable\n",
    "    def setZeroes(self, matrix: List[List[int]]) -> List[List[int]]:\n",
    "        ROWS, COLS = len(matrix), len(matrix[0])\n",
    "        firstColZero = False\n",
    "\n",
    "        for r in range(ROWS):\n",
    "            for c in range(COLS):\n",
    "                if matrix[r][c] == 0:\n",
    "                    matrix[0][c] = 0\n",
    "                    if r > 0:\n",
    "                        matrix[r][0] = 0\n",
    "                    else:\n",
    "                        firstColZero = True\n",
    "\n",
    "        for r in range(1, ROWS):\n",
    "            for c in range(1, COLS):\n",
    "                if matrix[0][c] == 0 or matrix[r][0] == 0:\n",
    "                    matrix[r][c] = 0\n",
    "\n",
    "        if matrix[0][0] == 0:\n",
    "            for r in range(ROWS):\n",
    "                matrix[r][0] = 0\n",
    "\n",
    "        if firstColZero:\n",
    "            for c in range(COLS):\n",
    "                matrix[0][c] = 0\n",
    "\n",
    "        return matrix\n",
    "\n",
    "sol = Solution()\n",
    "print(sol.setZeroes([[1,1,1],[1,0,1],[1,1,1]])) #[[1,0,1],[0,0,0],[1,0,1]]\n",
    "print(sol.setZeroes([[0,1,2,0],[3,4,5,2],[1,3,1,5]])) #[[0,0,0,0],[0,4,5,0],[0,3,1,0]]"
   ]
  },
  {
   "cell_type": "markdown",
   "metadata": {},
   "source": [
    "#### 54. Spiral Matrix"
   ]
  },
  {
   "cell_type": "code",
   "execution_count": 9,
   "metadata": {},
   "outputs": [
    {
     "name": "stdout",
     "output_type": "stream",
     "text": [
      "[1, 2, 3, 6, 9, 8, 7, 4, 5]\n",
      "[1, 2, 3, 4, 8, 12, 11, 10, 9, 5, 6, 7]\n",
      "[1, 11, 12, 13, 14, 15, 16, 17, 18, 19, 20, 10, 9, 8, 7, 6, 5, 4, 3, 2]\n"
     ]
    }
   ],
   "source": [
    "class Solution:\n",
    "    # O(m.n), O(1)\n",
    "\n",
    "    # start from the top row and go in the order required. \n",
    "    # once we do the top row and right col do check the conditions again\n",
    "        # this is to avoid wrong behavior when we are left with either a single row or column.\n",
    "    def spiralOrder(self, matrix: List[List[int]]) -> List[int]:\n",
    "        ROWS, COLS = len(matrix), len(matrix[0])\n",
    "        top, left = 0, 0\n",
    "        bottom, right = ROWS - 1, COLS - 1\n",
    "\n",
    "        res = []\n",
    "        while top <= bottom and left <= right:\n",
    "            # Top row\n",
    "            i = left\n",
    "            while i <= right:\n",
    "                res.append(matrix[top][i])\n",
    "                i += 1\n",
    "            top += 1\n",
    "            \n",
    "            # right col\n",
    "            i = top\n",
    "            while i <= bottom:\n",
    "                res.append(matrix[i][right])\n",
    "                i += 1\n",
    "            right -= 1\n",
    "\n",
    "            if not (top <= bottom and left <= right):\n",
    "                break\n",
    "\n",
    "            # bottom row\n",
    "            i = right\n",
    "            while i >= left:\n",
    "                res.append(matrix[bottom][i])\n",
    "                i -= 1\n",
    "            \n",
    "            bottom -= 1\n",
    "\n",
    "            # left col\n",
    "            i = bottom\n",
    "            while i >= top:\n",
    "                res.append(matrix[i][left])\n",
    "                i -= 1\n",
    "            left += 1\n",
    "\n",
    "        return res\n",
    "\n",
    "sol = Solution()\n",
    "print(sol.spiralOrder([[1,2,3],[4,5,6],[7,8,9]])) # [1,2,3,6,9,8,7,4,5]\n",
    "print(sol.spiralOrder([[1,2,3,4],[5,6,7,8],[9,10,11,12]])) # [1,2,3,4,8,12,11,10,9,5,6,7]\n",
    "print(sol.spiralOrder([[1,11],[2,12],[3,13],[4,14],[5,15],[6,16],[7,17],[8,18],[9,19],[10,20]])) # [1,11,12,13,14,15,16,17,18,19,20,10,9,8,7,6,5,4,3,2]"
   ]
  },
  {
   "cell_type": "markdown",
   "metadata": {},
   "source": [
    "#### 48. Rotate Image"
   ]
  },
  {
   "cell_type": "code",
   "execution_count": 10,
   "metadata": {},
   "outputs": [
    {
     "name": "stdout",
     "output_type": "stream",
     "text": [
      "[[7, 4, 1], [8, 5, 2], [9, 6, 3]]\n",
      "[[15, 13, 2, 5], [14, 3, 4, 1], [12, 6, 8, 9], [16, 7, 10, 11]]\n"
     ]
    }
   ],
   "source": [
    "class Solution:\n",
    "    # O(n^2), O(1)\n",
    "\n",
    "    # save the top left into a temp variable and do the replacement in andti-clockwise\n",
    "    def rotate(self, matrix: List[List[int]]) -> None:\n",
    "        \"\"\"\n",
    "        Do not return anything, modify matrix in-place instead.\n",
    "        \"\"\"\n",
    "        left , right = 0, len(matrix) - 1\n",
    "        while left < right:\n",
    "            for i in range(right - left):\n",
    "                top, bottom = left, right\n",
    "\n",
    "                # store top left in temp\n",
    "                top_left = matrix[top][left + i]\n",
    "\n",
    "                # move bottom left into top left\n",
    "                matrix[top][left + i] = matrix[bottom - i][left]\n",
    "\n",
    "                # move bottom right to bottom left\n",
    "                matrix[bottom - i][left] = matrix[bottom][right - i]\n",
    "\n",
    "                # move top right to bottom right\n",
    "                matrix[bottom][right - i] = matrix[top + i][right]\n",
    "\n",
    "                # move top left to top right\n",
    "                matrix[top + i][right] = top_left\n",
    "\n",
    "            left += 1\n",
    "            right -= 1\n",
    "\n",
    "        return matrix\n",
    "\n",
    "sol = Solution()\n",
    "print(sol.rotate([[1,2,3],[4,5,6],[7,8,9]])) #[[7,4,1],[8,5,2],[9,6,3]]\n",
    "print(sol.rotate([[5,1,9,11],[2,4,8,10],[13,3,6,7],[15,14,12,16]])) #[[15,13,2,5],[14,3,4,1],[12,6,8,9],[16,7,10,11]]"
   ]
  },
  {
   "cell_type": "markdown",
   "metadata": {},
   "source": [
    "## Bit Manipulation"
   ]
  },
  {
   "cell_type": "markdown",
   "metadata": {},
   "source": [
    "### Easy"
   ]
  },
  {
   "cell_type": "markdown",
   "metadata": {},
   "source": [
    "#### 191. Number of 1 Bits"
   ]
  },
  {
   "cell_type": "code",
   "execution_count": 34,
   "metadata": {},
   "outputs": [
    {
     "name": "stdout",
     "output_type": "stream",
     "text": [
      "3\n",
      "1\n",
      "30\n"
     ]
    }
   ],
   "source": [
    "class Solution:\n",
    "    # O(1), O(1)\n",
    "\n",
    "    # When we & a num with num - 1, we basically get rid of a 1 in the binary notation\n",
    "    # eg: 1001 & (1001 - 1) = 1001 & 1000 = 1000\n",
    "    def hammingWeight(self, n: int) -> int:\n",
    "        res = 0\n",
    "        while n:\n",
    "            res += 1\n",
    "            n = n & (n - 1)\n",
    "\n",
    "        return res\n",
    "\n",
    "sol = Solution()\n",
    "print(sol.hammingWeight(11)) #3\n",
    "print(sol.hammingWeight(128)) #1\n",
    "print(sol.hammingWeight(2147483645)) #30"
   ]
  },
  {
   "cell_type": "markdown",
   "metadata": {},
   "source": [
    "#### 268. Missing Number"
   ]
  },
  {
   "cell_type": "code",
   "execution_count": 39,
   "metadata": {},
   "outputs": [
    {
     "name": "stdout",
     "output_type": "stream",
     "text": [
      "2\n"
     ]
    }
   ],
   "source": [
    "class Solution:\n",
    "    # O(n), O(1)\n",
    "\n",
    "    # A number xor-ed with itself yields zero, so xor all values including, len(nums) + 1\n",
    "    # then xor all given values, so that missing number is remaining in the xor\n",
    "\n",
    "    def missingNumber(self, nums: List[int]) -> int:\n",
    "        xor_val = 0\n",
    "\n",
    "        for num in range(len(nums) + 1):\n",
    "            xor_val ^= num\n",
    "        \n",
    "        for num in nums:\n",
    "            xor_val ^= num\n",
    "\n",
    "        return xor_val\n",
    "\n",
    "sol = Solution()\n",
    "# print(sol.missingNumber([3,0,1])) #2\n",
    "print(sol.missingNumber([0,1])) #2\n",
    "# print(sol.missingNumber([9,6,4,2,3,5,7,0,1])) #8"
   ]
  },
  {
   "cell_type": "markdown",
   "metadata": {},
   "source": [
    "#### 190. Reverse Bits"
   ]
  },
  {
   "cell_type": "code",
   "execution_count": 40,
   "metadata": {},
   "outputs": [
    {
     "name": "stdout",
     "output_type": "stream",
     "text": [
      "964176192\n",
      "3221225471\n"
     ]
    }
   ],
   "source": [
    "class Solution:\n",
    "    # O(n), O(1)\n",
    "\n",
    "    # eg: take the number 4 (100), the result should be (001 and rest all zeros to make 32 length)\n",
    "    # take the bit and or it with the 31 - i th bit (rest all are zeros, so no side effects)\n",
    "    def reverseBits(self, n: int) -> int:\n",
    "        res = 0\n",
    "\n",
    "        for i in range(32):\n",
    "            bit = (n >> i) & 1\n",
    "            res = res | (bit << (31 - i))\n",
    "\n",
    "        return res\n",
    "\n",
    "sol = Solution()\n",
    "print(sol.reverseBits(43261596)) #964176192\n",
    "print(sol.reverseBits(4294967293)) #3221225471"
   ]
  },
  {
   "cell_type": "markdown",
   "metadata": {},
   "source": [
    "### Medium"
   ]
  },
  {
   "cell_type": "markdown",
   "metadata": {},
   "source": [
    "#### 371. Sum of Two Integers"
   ]
  },
  {
   "cell_type": "code",
   "execution_count": 8,
   "metadata": {},
   "outputs": [
    {
     "name": "stdout",
     "output_type": "stream",
     "text": [
      "3\n",
      "5\n"
     ]
    }
   ],
   "source": [
    "class Solution:\n",
    "    # O(1), O(1)\n",
    "    \n",
    "    # (a & b) << 1 is getting carry and shifting to left\n",
    "    # a ^ b is the addition result of the current numbers\n",
    "    # for the next iteration, we consider the the carry to be b and addition result to be a\n",
    "\n",
    "    # The mask is used in the getSum function to handle the behavior of negative numbers \n",
    "    # and ensure that the operations stay within the bounds of a 32-bit integer representation, \n",
    "    # which is common in many programming languages and systems.\n",
    "\n",
    "    # The mask is 0xffffffff, which is a 32-bit number with all bits set to 1. \n",
    "    # In hexadecimal, this is 0xffffffff, and in binary, it is 11111111111111111111111111111111.\n",
    "    # While loop:\n",
    "        # This ensures that the loop continues only if there are still bits to process in b, \n",
    "        # but within the limits of a 32-bit integer. Without the mask, \n",
    "        # if b becomes a large negative number due to bit operations, the loop might not terminate as expected.\n",
    "    # Final result:\n",
    "        # This ensures the final result is within the 32-bit range. \n",
    "        # If b is non-zero, the result (a & mask) is forced to be within 32 bits. \n",
    "        # If b is zero, a is already the correct result.\n",
    "    def getSum(self, a: int, b: int) -> int:\n",
    "        mask = 0xffffffff\n",
    "        while (b & mask) > 0:\n",
    "            temp = (a & b) << 1\n",
    "            a = a ^ b\n",
    "            b = temp\n",
    "\n",
    "        return (a & mask) if b > 0 else a\n",
    "    \n",
    "sol = Solution()\n",
    "print(sol.getSum(a = 1, b = 2)) #3\n",
    "print(sol.getSum(a = 2, b = 3)) #5"
   ]
  },
  {
   "cell_type": "code",
   "execution_count": 1,
   "metadata": {},
   "outputs": [
    {
     "name": "stdout",
     "output_type": "stream",
     "text": [
      "43\n",
      "22\n",
      "55\n"
     ]
    }
   ],
   "source": [
    "def maxCalories(heights):\n",
    "    heights.sort()\n",
    "\n",
    "    i, j = 0, len(heights) - 1\n",
    "\n",
    "    res = heights[j] ** 2\n",
    "    back_flag = True\n",
    "    while i < j:\n",
    "        res += (heights[j] - heights[i]) ** 2\n",
    "        if back_flag:\n",
    "            j -= 1\n",
    "        else:\n",
    "            i += 1\n",
    "        back_flag = not back_flag\n",
    "\n",
    "    return res\n",
    "\n",
    "print(maxCalories([5,2,5]))#43\n",
    "print(maxCalories([2,2,4,3]))#22\n",
    "print(maxCalories([5,2,3,4,1]))#55"
   ]
  },
  {
   "cell_type": "code",
   "execution_count": 16,
   "metadata": {},
   "outputs": [
    {
     "name": "stdout",
     "output_type": "stream",
     "text": [
      "21\n",
      "3\n"
     ]
    }
   ],
   "source": [
    "def minCost(cost, pairCost, k):\n",
    "    cost.sort()\n",
    "    res = 0\n",
    "    \n",
    "    i = len(cost) - 1\n",
    "\n",
    "    while i >= 1 and k > 0:\n",
    "        if pairCost < cost[i] + cost[i - 1]:\n",
    "            i -= 2\n",
    "            res += pairCost\n",
    "            k -= 1\n",
    "        else:\n",
    "            res += cost[i]\n",
    "            i -= 1\n",
    "\n",
    "    while i >= 0:\n",
    "        res += cost[i]\n",
    "        i -= 1\n",
    "    \n",
    "    return res\n",
    "\n",
    "print(minCost([9,11,13,15,17], 6, 2)) #21\n",
    "print(minCost([1,1,1], 3, 1)) #3\n"
   ]
  },
  {
   "cell_type": "markdown",
   "metadata": {},
   "source": [
    "### Amazon SDE 1 - Q2"
   ]
  },
  {
   "cell_type": "code",
   "execution_count": null,
   "metadata": {},
   "outputs": [],
   "source": [
    "from collections import defaultdict\n",
    "from bisect import bisect_left\n",
    "\n",
    "def fun(items, start, end, query):\n",
    "    n = len(items)\n",
    "    m = len(start)\n",
    "    \n",
    "    pos = [0] * n\n",
    "    neg = [0] * n\n",
    "    \n",
    "    for i in range(m):\n",
    "        str_idx = start[i]\n",
    "        en = end[i]\n",
    "        pos[en] += 1\n",
    "        if str_idx != 0:\n",
    "            neg[str_idx - 1] += 1\n",
    "    \n",
    "    po = 0\n",
    "    ne = 0\n",
    "    item_count = defaultdict(int)\n",
    "    \n",
    "    for i in range(n - 1, -1, -1):\n",
    "        po += pos[i]\n",
    "        ne += neg[i]\n",
    "        item = items[i]\n",
    "        value = po - ne\n",
    "        item_count[item] += value\n",
    "    \n",
    "    \n",
    "    \n",
    "    # Sort items and create a prefix sum of counts\n",
    "    sorted_items = sorted(item_count.keys())\n",
    "    prefix_sum = 0\n",
    "    prefix_sum_map = {}\n",
    "    \n",
    "    for item in sorted_items:\n",
    "        prefix_sum += item_count[item]\n",
    "        prefix_sum_map[item] = prefix_sum\n",
    "    \n",
    "    result = []\n",
    "    keys = list(prefix_sum_map.keys())\n",
    "    for q in query:\n",
    "        # Find the largest key in prefix_sum_map that is less than q\n",
    "        \n",
    "        index = bisect_left(keys, q) - 1\n",
    "        \n",
    "        if index >= 0:\n",
    "            result.append(prefix_sum_map[keys[index]])\n",
    "        else:\n",
    "            # If there is no key less than q\n",
    "            result.append(0)\n",
    "    \n",
    "    return result\n",
    "\n",
    "# Example usage:\n",
    "items = [1,2,5,4,5]\n",
    "start = [0,0,1]\n",
    "end = [1,2,2]\n",
    "query = [2,4]\n",
    "\n",
    "print(fun(items, start, end, query))\n"
   ]
  },
  {
   "cell_type": "code",
   "execution_count": 20,
   "metadata": {},
   "outputs": [
    {
     "name": "stdout",
     "output_type": "stream",
     "text": [
      "8\n",
      "16\n",
      "6\n"
     ]
    }
   ],
   "source": [
    "from collections import Counter, deque\n",
    "import heapq\n",
    "\n",
    "def getMingap(request, minGap):\n",
    "    freq = Counter(request)\n",
    "    \n",
    "    max_heap = [(-count, region) for region, count in freq.items()]\n",
    "    heapq.heapify(max_heap)\n",
    "    \n",
    "    cooldown_heap = []\n",
    "    time = 0\n",
    "    \n",
    "    while max_heap or cooldown_heap:\n",
    "        time += 1\n",
    "        \n",
    "        while cooldown_heap and cooldown_heap[0][0] <= time:\n",
    "            _, neg_count, region = heapq.heappop(cooldown_heap)\n",
    "            heapq.heappush(max_heap, (neg_count, region))\n",
    "        \n",
    "        if max_heap:\n",
    "            neg_count, region = heapq.heappop(max_heap)\n",
    "            count = -neg_count - 1  \n",
    "            \n",
    "            if count > 0:\n",
    "                heapq.heappush(cooldown_heap, (time + minGap + 1, -count, region))\n",
    "    \n",
    "    return time\n",
    "\n",
    "\n",
    "print(getMingap(\"aaabbb\", 2)) #8\n",
    "print(getMingap(\"abacadaeafag\", 2)) #16\n",
    "print(getMingap(\"aaabbb\", 0)) #6"
   ]
  }
 ],
 "metadata": {
  "kernelspec": {
   "display_name": "Python 3",
   "language": "python",
   "name": "python3"
  },
  "language_info": {
   "codemirror_mode": {
    "name": "ipython",
    "version": 3
   },
   "file_extension": ".py",
   "mimetype": "text/x-python",
   "name": "python",
   "nbconvert_exporter": "python",
   "pygments_lexer": "ipython3",
   "version": "3.9.13"
  }
 },
 "nbformat": 4,
 "nbformat_minor": 2
}
