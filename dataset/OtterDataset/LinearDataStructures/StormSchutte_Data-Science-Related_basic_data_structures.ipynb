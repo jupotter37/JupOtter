{
 "cells": [
  {
   "cell_type": "markdown",
   "source": [
    "# Array\n",
    "An array is a basic data structure that consists of a collection of elements (values or variables), each identified by at least one array index or key. The elements in an array are usually of the same type, for instance, an array of integers, floats, or characters. The main advantage of an array is that it allows random access to individual elements."
   ],
   "metadata": {
    "collapsed": false
   }
  },
  {
   "cell_type": "code",
   "execution_count": 1,
   "outputs": [
    {
     "name": "stdout",
     "output_type": "stream",
     "text": [
      "3\n"
     ]
    }
   ],
   "source": [
    "arr = [1, 2, 3, 4, 5]  # an array of integers\n",
    "print(arr[2])  # prints 3"
   ],
   "metadata": {
    "collapsed": false,
    "ExecuteTime": {
     "end_time": "2023-05-29T10:04:19.314549800Z",
     "start_time": "2023-05-29T10:04:19.289556100Z"
    }
   }
  },
  {
   "cell_type": "markdown",
   "source": [
    "# String\n",
    "A string is essentially an array of characters. It's a sequence of characters that usually forms a word or sentence. For example, the string \"Data\" is an array that consists of the characters 'D', 'a', 't', and 'a'."
   ],
   "metadata": {
    "collapsed": false
   }
  },
  {
   "cell_type": "code",
   "execution_count": 3,
   "outputs": [
    {
     "name": "stdout",
     "output_type": "stream",
     "text": [
      "W\n",
      "W\n"
     ]
    }
   ],
   "source": [
    "str1 = \"Hello, World!\"\n",
    "print(str1[7])  # prints 'W'"
   ],
   "metadata": {
    "collapsed": false,
    "ExecuteTime": {
     "end_time": "2023-05-29T10:04:19.315547600Z",
     "start_time": "2023-05-29T10:04:19.302035100Z"
    }
   }
  },
  {
   "cell_type": "markdown",
   "source": [
    "# Linked-list\n",
    "A linked list is a linear data structure, where elements are not stored at contiguous memory locations but are linked using pointers. Each node of a list is made up of two items: the data and a reference to the next node. They are useful for dynamic memory allocation, where the size of the list can be increased or decreased at runtime."
   ],
   "metadata": {
    "collapsed": false
   }
  },
  {
   "cell_type": "code",
   "execution_count": 4,
   "outputs": [],
   "source": [
    "class Node:\n",
    "    def __init__(self, data=None):\n",
    "        self.data = data\n",
    "        self.next = None\n",
    "\n",
    "class LinkedList:\n",
    "    def __init__(self):\n",
    "        self.head = None"
   ],
   "metadata": {
    "collapsed": false,
    "ExecuteTime": {
     "end_time": "2023-05-29T10:04:23.284536700Z",
     "start_time": "2023-05-29T10:04:23.269469100Z"
    }
   }
  },
  {
   "cell_type": "markdown",
   "source": [
    "# Stack\n",
    "A stack is a linear data structure that follows a particular order in which operations are performed. The order may be LIFO (Last In First Out) or FILO (First In Last Out). Mainly the following three basic operations are performed in the stack: Push, Pop, and Peek or Top"
   ],
   "metadata": {
    "collapsed": false
   }
  },
  {
   "cell_type": "code",
   "execution_count": 5,
   "outputs": [
    {
     "name": "stdout",
     "output_type": "stream",
     "text": [
      "b\n"
     ]
    }
   ],
   "source": [
    "stack = []\n",
    "stack.append('a')  # push 'a' onto the stack\n",
    "stack.append('b')  # push 'b' onto the stack\n",
    "print(stack.pop())  # pop an item off the stack - prints 'b'"
   ],
   "metadata": {
    "collapsed": false,
    "ExecuteTime": {
     "end_time": "2023-05-29T10:04:29.037901100Z",
     "start_time": "2023-05-29T10:04:29.025380900Z"
    }
   }
  },
  {
   "cell_type": "markdown",
   "source": [
    "# Queue\n",
    "A queue is a common data structure that places elements in a sequence, similar to a stack. However, while a stack is LIFO, a queue is FIFO (first in, first out). It has two main operations: enqueue and dequeue. Enqueue adds an element to the end of the queue, and dequeue removes an element from the start of the queue."
   ],
   "metadata": {
    "collapsed": false
   }
  },
  {
   "cell_type": "code",
   "execution_count": 6,
   "outputs": [
    {
     "name": "stdout",
     "output_type": "stream",
     "text": [
      "a\n"
     ]
    }
   ],
   "source": [
    "from queue import Queue\n",
    "\n",
    "q = Queue()\n",
    "\n",
    "q.put('a')  # enqueue 'a'\n",
    "q.put('b')  # enqueue 'b'\n",
    "print(q.get())  # dequeue an item - prints 'a'"
   ],
   "metadata": {
    "collapsed": false,
    "ExecuteTime": {
     "end_time": "2023-05-29T10:04:38.521273900Z",
     "start_time": "2023-05-29T10:04:38.499701800Z"
    }
   }
  },
  {
   "cell_type": "markdown",
   "source": [
    "# Hash\n",
    "A hash in data science typically refers to a hash table or hash map. It's a data structure that implements an associative array abstract data type, a structure that can map keys to values. Hash tables use a hash function to compute an index into an array of buckets or slots, from which the desired value can be found."
   ],
   "metadata": {
    "collapsed": false
   }
  },
  {
   "cell_type": "code",
   "execution_count": 7,
   "outputs": [
    {
     "name": "stdout",
     "output_type": "stream",
     "text": [
      "John\n"
     ]
    }
   ],
   "source": [
    "hash_table = {'name': 'John', 'age': 25, 'job': 'Engineer'}\n",
    "print(hash_table['name'])  # prints 'John'"
   ],
   "metadata": {
    "collapsed": false,
    "ExecuteTime": {
     "end_time": "2023-05-29T10:04:44.347848300Z",
     "start_time": "2023-05-29T10:04:44.340799500Z"
    }
   }
  },
  {
   "cell_type": "markdown",
   "source": [
    "# Heap\n",
    "A heap is a specialized tree-based data structure that satisfies the heap property. This property describes a particular shape of the tree and places constraints on the node values, which distinguishes a heap from other kinds of trees such as binary trees. In a max heap, for any given node I, the value of I is less than or equal to the value of its parent. While in a min heap, for any given node I, the value of I is greater than or equal to the value of its parent."
   ],
   "metadata": {
    "collapsed": false
   }
  },
  {
   "cell_type": "code",
   "execution_count": 8,
   "outputs": [
    {
     "name": "stdout",
     "output_type": "stream",
     "text": [
      "(1, 'write spec')\n"
     ]
    }
   ],
   "source": [
    "import heapq\n",
    "\n",
    "h = []\n",
    "heapq.heappush(h, (5, 'write code'))\n",
    "heapq.heappush(h, (7, 'release product'))\n",
    "heapq.heappush(h, (1, 'write spec'))\n",
    "heapq.heappush(h, (3, 'create tests'))\n",
    "print(heapq.heappop(h))  # prints '(1, 'write spec')'"
   ],
   "metadata": {
    "collapsed": false,
    "ExecuteTime": {
     "end_time": "2023-05-29T10:04:49.998850200Z",
     "start_time": "2023-05-29T10:04:49.992328100Z"
    }
   }
  },
  {
   "cell_type": "markdown",
   "source": [
    "# Tree\n",
    "A tree is a hierarchical data structure defined by nodes, where each node is a data structure itself. The nodes contain a parent-child relationship. The top node in this hierarchy is called the root of the tree, and all other nodes are descendants of the root node."
   ],
   "metadata": {
    "collapsed": false
   }
  },
  {
   "cell_type": "code",
   "execution_count": 9,
   "outputs": [],
   "source": [
    "class Node:\n",
    "    def __init__(self, data):\n",
    "        self.data = data\n",
    "        self.left = None\n",
    "        self.right = None\n",
    "\n",
    "root = Node(1)\n",
    "root.left = Node(2)\n",
    "root.right = Node(3)"
   ],
   "metadata": {
    "collapsed": false,
    "ExecuteTime": {
     "end_time": "2023-05-29T10:04:55.025198400Z",
     "start_time": "2023-05-29T10:04:55.020677400Z"
    }
   }
  },
  {
   "cell_type": "markdown",
   "source": [
    "# Graph\n",
    " A graph data structure consists of a set of vertices (or nodes) and a set of edges. Each edge connects a pair of nodes. Graphs can be either directed (edges have direction) or undirected (edges do not have direction). Graphs are useful in representing real-life scenarios like networks of communication, data organization, etc."
   ],
   "metadata": {
    "collapsed": false
   }
  },
  {
   "cell_type": "code",
   "execution_count": 10,
   "outputs": [],
   "source": [
    "graph = {'A': ['B', 'C'],\n",
    "         'B': ['A', 'D', 'E'],\n",
    "         'C': ['A', 'F'],\n",
    "         'D': ['B'],\n",
    "         'E': ['B', 'F'],\n",
    "         'F': ['C', 'E']}"
   ],
   "metadata": {
    "collapsed": false,
    "ExecuteTime": {
     "end_time": "2023-05-29T10:05:00.247168900Z",
     "start_time": "2023-05-29T10:05:00.239147300Z"
    }
   }
  },
  {
   "cell_type": "markdown",
   "source": [
    "# Matrix\n",
    "A matrix is a two-dimensional data structure where numbers are arranged into rows and columns. For example, the dimensions of the matrix are represented as r x c, where r is the number of rows, and c is the number of columns."
   ],
   "metadata": {
    "collapsed": false
   }
  },
  {
   "cell_type": "code",
   "execution_count": 11,
   "outputs": [
    {
     "name": "stdout",
     "output_type": "stream",
     "text": [
      "6\n"
     ]
    }
   ],
   "source": [
    "matrix = [[1, 2, 3],\n",
    "          [4, 5, 6],\n",
    "          [7, 8, 9]]\n",
    "print(matrix[1][2])  # prints 6"
   ],
   "metadata": {
    "collapsed": false,
    "ExecuteTime": {
     "end_time": "2023-05-29T10:05:03.259140700Z",
     "start_time": "2023-05-29T10:05:03.237617100Z"
    }
   }
  },
  {
   "cell_type": "markdown",
   "source": [
    "# Grid\n",
    "In computer science, a grid is a series of intersecting horizontal and vertical lines that serve as guides in the placement of objects on a page. It is similar to a 2-dimensional array with rows and columns. A grid can be a useful data structure for"
   ],
   "metadata": {
    "collapsed": false
   }
  },
  {
   "cell_type": "code",
   "execution_count": 12,
   "outputs": [
    {
     "name": "stdout",
     "output_type": "stream",
     "text": [
      "1\n"
     ]
    }
   ],
   "source": [
    "grid = [[1, 2, 3],\n",
    "        [4, 5, 6],\n",
    "        [7, 8, 9]]\n",
    "print(grid[0][0])  # prints 1"
   ],
   "metadata": {
    "collapsed": false,
    "ExecuteTime": {
     "end_time": "2023-05-29T10:05:06.888767400Z",
     "start_time": "2023-05-29T10:05:06.875239800Z"
    }
   }
  },
  {
   "cell_type": "code",
   "execution_count": null,
   "outputs": [],
   "source": [],
   "metadata": {
    "collapsed": false
   }
  }
 ],
 "metadata": {
  "kernelspec": {
   "display_name": "Python 3",
   "language": "python",
   "name": "python3"
  },
  "language_info": {
   "codemirror_mode": {
    "name": "ipython",
    "version": 2
   },
   "file_extension": ".py",
   "mimetype": "text/x-python",
   "name": "python",
   "nbconvert_exporter": "python",
   "pygments_lexer": "ipython2",
   "version": "2.7.6"
  }
 },
 "nbformat": 4,
 "nbformat_minor": 0
}
