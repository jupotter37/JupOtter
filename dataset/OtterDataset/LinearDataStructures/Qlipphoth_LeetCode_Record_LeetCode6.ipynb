{
 "cells": [
  {
   "cell_type": "code",
   "execution_count": 2,
   "id": "7b8203e4",
   "metadata": {},
   "outputs": [],
   "source": [
    "from collections import Counter\n",
    "from typing import List,Optional\n",
    "\n",
    "# Definition for a binary tree node.\n",
    "class TreeNode:\n",
    "    def __init__(self, val=0, left=None, right=None):\n",
    "        self.val = val\n",
    "        self.left = left\n",
    "        self.right = right\n",
    "\n",
    "# Definition for singly-linked list.\n",
    "class ListNode:\n",
    "    def __init__(self, val=0, next=None):\n",
    "        self.val = val\n",
    "        self.next = next"
   ]
  },
  {
   "cell_type": "markdown",
   "id": "611e1ae7",
   "metadata": {},
   "source": [
    "## 1302. 层数最深叶子节点的和 （8.17生日快乐）"
   ]
  },
  {
   "cell_type": "code",
   "execution_count": 32,
   "id": "e89d1e7c",
   "metadata": {},
   "outputs": [],
   "source": [
    "from collections import defaultdict\n",
    "class Solution:\n",
    "    def deepestLeavesSum(self, root: Optional[TreeNode]) -> int:\n",
    "        stack = [(root,0)]\n",
    "        layersum = defaultdict(int)\n",
    "        while stack:\n",
    "            cur,layer = stack.pop(0)\n",
    "            layersum[layer] += cur.val\n",
    "            if cur.left:\n",
    "                stack.append((cur.left,layer+1))\n",
    "            if cur.right:\n",
    "                stack.append((cur.right,layer+1))\n",
    "#         print(layer)\n",
    "        return layersum[layer]"
   ]
  },
  {
   "cell_type": "code",
   "execution_count": 33,
   "id": "e18de206",
   "metadata": {},
   "outputs": [],
   "source": [
    "def constructTree(l:list) -> Optional[TreeNode]:\n",
    "    head = TreeNode(val=l.pop(0))\n",
    "    queue = [head]\n",
    "    while l and queue:\n",
    "        cur = queue.pop(0)\n",
    "        lval = l.pop(0)\n",
    "        if lval:\n",
    "            curl = TreeNode(val=lval)\n",
    "            queue.append(curl)\n",
    "            cur.left = curl\n",
    "        if l:\n",
    "            rval = l.pop(0)\n",
    "            if rval:\n",
    "                curr = TreeNode(val=rval)\n",
    "                queue.append(curr)\n",
    "                cur.right =  curr\n",
    "#         print(queue)\n",
    "    return head"
   ]
  },
  {
   "cell_type": "code",
   "execution_count": 85,
   "id": "d946bad4",
   "metadata": {},
   "outputs": [],
   "source": [
    "null = None\n",
    "root = [6,7,8,2,7,1,3,9,null,1,4,null,null,null,5]"
   ]
  },
  {
   "cell_type": "code",
   "execution_count": 86,
   "id": "76e44cc0",
   "metadata": {},
   "outputs": [],
   "source": [
    "a = constructTree(root)"
   ]
  },
  {
   "cell_type": "code",
   "execution_count": 21,
   "id": "16b6181d",
   "metadata": {},
   "outputs": [],
   "source": [
    "def inorderTraversal(root):\n",
    "    res = []\n",
    "    def Traversal(subroot):\n",
    "        if not subroot:\n",
    "            return \n",
    "        Traversal(subroot.left)\n",
    "        res.append(subroot.val)\n",
    "        Traversal(subroot.right)\n",
    "    Traversal(root)\n",
    "    return res"
   ]
  },
  {
   "cell_type": "code",
   "execution_count": 88,
   "id": "9ec6c3af",
   "metadata": {},
   "outputs": [
    {
     "data": {
      "text/plain": [
       "[9, 2, 7, 1, 7, 4, 6, 1, 8, 3, 5]"
      ]
     },
     "execution_count": 88,
     "metadata": {},
     "output_type": "execute_result"
    }
   ],
   "source": [
    "inorderTraversal(a)"
   ]
  },
  {
   "cell_type": "code",
   "execution_count": 91,
   "id": "74beca41",
   "metadata": {},
   "outputs": [
    {
     "name": "stdout",
     "output_type": "stream",
     "text": [
      "3\n"
     ]
    },
    {
     "data": {
      "text/plain": [
       "19"
      ]
     },
     "execution_count": 91,
     "metadata": {},
     "output_type": "execute_result"
    }
   ],
   "source": [
    "s = Solution()\n",
    "s.deepestLeavesSum(a)"
   ]
  },
  {
   "cell_type": "markdown",
   "id": "055bc41c",
   "metadata": {},
   "source": [
    "以下为官方解法"
   ]
  },
  {
   "cell_type": "code",
   "execution_count": 92,
   "id": "9228d91c",
   "metadata": {},
   "outputs": [],
   "source": [
    "class Solution:\n",
    "    def deepestLeavesSum(self, root: Optional[TreeNode]) -> int:\n",
    "        maxLevel, ans = -1, 0\n",
    "        def dfs(node: Optional[TreeNode], level: int) -> None:\n",
    "            if node is None:\n",
    "                return\n",
    "            nonlocal maxLevel, ans\n",
    "            if level > maxLevel:\n",
    "                maxLevel, ans = level, node.val\n",
    "            elif level == maxLevel:\n",
    "                ans += node.val\n",
    "            dfs(node.left, level + 1)\n",
    "            dfs(node.right, level + 1)\n",
    "        dfs(root, 0)\n",
    "        return ans"
   ]
  },
  {
   "cell_type": "code",
   "execution_count": 93,
   "id": "4337c914",
   "metadata": {},
   "outputs": [],
   "source": [
    "class Solution:\n",
    "    def deepestLeavesSum(self, root: Optional[TreeNode]) -> int:\n",
    "        q = deque([root])\n",
    "        while q:\n",
    "            ans = 0\n",
    "            # 这种一层内计算的方式要掌握,\n",
    "            for _ in range(len(q)):\n",
    "                node = q.popleft()\n",
    "                ans += node.val\n",
    "                if node.left:\n",
    "                    q.append(node.left)\n",
    "                if node.right:\n",
    "                    q.append(node.right)\n",
    "        return ans"
   ]
  },
  {
   "cell_type": "markdown",
   "id": "940c4e34",
   "metadata": {},
   "source": [
    "deque真方便，自己写的算法应该是因为一直pop(0)浪费了大量时间"
   ]
  },
  {
   "cell_type": "code",
   "execution_count": 96,
   "id": "52036a24",
   "metadata": {},
   "outputs": [],
   "source": [
    "from collections import defaultdict,deque\n",
    "class Solution:\n",
    "    def deepestLeavesSum(self, root: Optional[TreeNode]) -> int:\n",
    "        queue = deque([(root,0)])\n",
    "        layersum = defaultdict(int)\n",
    "        while queue:\n",
    "            cur,layer = queue.popleft()\n",
    "            layersum[layer] += cur.val\n",
    "            if cur.left:\n",
    "                queue.append((cur.left,layer+1))\n",
    "            if cur.right:\n",
    "                queue.append((cur.right,layer+1))\n",
    "#         print(layer)\n",
    "        return layersum[layer]"
   ]
  },
  {
   "cell_type": "code",
   "execution_count": 97,
   "id": "6c855174",
   "metadata": {},
   "outputs": [
    {
     "data": {
      "text/plain": [
       "19"
      ]
     },
     "execution_count": 97,
     "metadata": {},
     "output_type": "execute_result"
    }
   ],
   "source": [
    "null = None\n",
    "root = [6,7,8,2,7,1,3,9,null,1,4,null,null,null,5]\n",
    "s = Solution()\n",
    "s.deepestLeavesSum(constructTree(root))"
   ]
  },
  {
   "cell_type": "markdown",
   "id": "8b6bd12d",
   "metadata": {},
   "source": [
    "## 1656. 设计有序流"
   ]
  },
  {
   "cell_type": "code",
   "execution_count": 153,
   "id": "ff08e152",
   "metadata": {},
   "outputs": [],
   "source": [
    "class OrderedStream:\n",
    "\n",
    "    def __init__(self, n: int):\n",
    "        self.ptr = 1\n",
    "        self.len = n\n",
    "        self.stream = [\"\"]*(n+1)\n",
    "\n",
    "    def insert(self, idKey: int, value: str) -> List[str]:\n",
    "        if idKey != self.ptr:\n",
    "            self.stream[idKey] = value\n",
    "            return []\n",
    "        else:\n",
    "            self.stream[idKey] = value\n",
    "            res = []\n",
    "            while self.stream[self.ptr]:\n",
    "                res.append(self.stream[self.ptr])\n",
    "                if self.ptr == self.len:\n",
    "                    return res\n",
    "                self.ptr += 1\n",
    "            return res"
   ]
  },
  {
   "cell_type": "code",
   "execution_count": 154,
   "id": "b322ca08",
   "metadata": {},
   "outputs": [],
   "source": [
    "os = OrderedStream(5)"
   ]
  },
  {
   "cell_type": "code",
   "execution_count": 155,
   "id": "486c8043",
   "metadata": {},
   "outputs": [
    {
     "data": {
      "text/plain": [
       "[]"
      ]
     },
     "execution_count": 155,
     "metadata": {},
     "output_type": "execute_result"
    }
   ],
   "source": [
    "os.insert(3,'c')"
   ]
  },
  {
   "cell_type": "code",
   "execution_count": 156,
   "id": "4f52c64c",
   "metadata": {},
   "outputs": [
    {
     "data": {
      "text/plain": [
       "['a']"
      ]
     },
     "execution_count": 156,
     "metadata": {},
     "output_type": "execute_result"
    }
   ],
   "source": [
    "os.insert(1,'a')"
   ]
  },
  {
   "cell_type": "code",
   "execution_count": 157,
   "id": "f434435f",
   "metadata": {},
   "outputs": [
    {
     "data": {
      "text/plain": [
       "['b', 'c']"
      ]
     },
     "execution_count": 157,
     "metadata": {},
     "output_type": "execute_result"
    }
   ],
   "source": [
    "os.insert(2,'b')"
   ]
  },
  {
   "cell_type": "code",
   "execution_count": 158,
   "id": "1fccfd27",
   "metadata": {},
   "outputs": [
    {
     "data": {
      "text/plain": [
       "[]"
      ]
     },
     "execution_count": 158,
     "metadata": {},
     "output_type": "execute_result"
    }
   ],
   "source": [
    "os.insert(5,'e')"
   ]
  },
  {
   "cell_type": "code",
   "execution_count": 159,
   "id": "066a3aa7",
   "metadata": {},
   "outputs": [
    {
     "data": {
      "text/plain": [
       "['d', 'e']"
      ]
     },
     "execution_count": 159,
     "metadata": {},
     "output_type": "execute_result"
    }
   ],
   "source": [
    "os.insert(4,'d')"
   ]
  },
  {
   "cell_type": "markdown",
   "id": "b52a3002",
   "metadata": {},
   "source": [
    "## 641. 设计循环双端队列"
   ]
  },
  {
   "cell_type": "markdown",
   "id": "2f4e8803",
   "metadata": {},
   "source": [
    "先用deque逃课"
   ]
  },
  {
   "cell_type": "code",
   "execution_count": 201,
   "id": "a545ed10",
   "metadata": {},
   "outputs": [],
   "source": [
    "class MyCircularDeque:\n",
    "\n",
    "    def __init__(self, k: int):\n",
    "        self.len = k\n",
    "        self.deque = deque()\n",
    "\n",
    "    def insertFront(self, value: int) -> bool:\n",
    "        deque = self.deque\n",
    "        if self.isFull():\n",
    "            return False\n",
    "        deque.appendleft(value)\n",
    "        return True\n",
    "\n",
    "    def insertLast(self, value: int) -> bool:\n",
    "        deque = self.deque\n",
    "        if self.isFull():\n",
    "            return False\n",
    "        deque.append(value)\n",
    "        return True\n",
    "\n",
    "    def deleteFront(self) -> bool:\n",
    "        deque = self.deque\n",
    "        if self.isEmpty():\n",
    "            return False\n",
    "        deque.popleft()\n",
    "        return True\n",
    "    \n",
    "    def deleteLast(self) -> bool:\n",
    "        deque = self.deque\n",
    "        if self.isEmpty():\n",
    "            return False\n",
    "        deque.pop()\n",
    "        return True\n",
    "\n",
    "    def getFront(self) -> int:\n",
    "        deque = self.deque\n",
    "        return -1 if self.isEmpty() else deque[0]\n",
    "\n",
    "    def getRear(self) -> int:\n",
    "        deque = self.deque\n",
    "        return -1 if self.isEmpty() else deque[-1]\n",
    "\n",
    "    def isEmpty(self) -> bool:\n",
    "        if self.deque:\n",
    "            return False\n",
    "        return True\n",
    "\n",
    "    def isFull(self) -> bool:\n",
    "        if len(self.deque) == self.len:\n",
    "            return True\n",
    "        return False\n",
    "        "
   ]
  },
  {
   "cell_type": "code",
   "execution_count": 202,
   "id": "d690924c",
   "metadata": {},
   "outputs": [],
   "source": [
    "d = MyCircularDeque(3)"
   ]
  },
  {
   "cell_type": "code",
   "execution_count": 203,
   "id": "b8e47616",
   "metadata": {},
   "outputs": [
    {
     "data": {
      "text/plain": [
       "True"
      ]
     },
     "execution_count": 203,
     "metadata": {},
     "output_type": "execute_result"
    }
   ],
   "source": [
    "d.isEmpty()"
   ]
  },
  {
   "cell_type": "code",
   "execution_count": 204,
   "id": "a1d058c1",
   "metadata": {},
   "outputs": [
    {
     "data": {
      "text/plain": [
       "True"
      ]
     },
     "execution_count": 204,
     "metadata": {},
     "output_type": "execute_result"
    }
   ],
   "source": [
    "d.insertFront(1)"
   ]
  },
  {
   "cell_type": "code",
   "execution_count": 205,
   "id": "166d6ce6",
   "metadata": {},
   "outputs": [
    {
     "data": {
      "text/plain": [
       "True"
      ]
     },
     "execution_count": 205,
     "metadata": {},
     "output_type": "execute_result"
    }
   ],
   "source": [
    "d.insertFront(2)"
   ]
  },
  {
   "cell_type": "code",
   "execution_count": 206,
   "id": "8eb6a744",
   "metadata": {},
   "outputs": [
    {
     "data": {
      "text/plain": [
       "True"
      ]
     },
     "execution_count": 206,
     "metadata": {},
     "output_type": "execute_result"
    }
   ],
   "source": [
    "d.insertFront(3)"
   ]
  },
  {
   "cell_type": "code",
   "execution_count": 207,
   "id": "533f598a",
   "metadata": {},
   "outputs": [
    {
     "data": {
      "text/plain": [
       "False"
      ]
     },
     "execution_count": 207,
     "metadata": {},
     "output_type": "execute_result"
    }
   ],
   "source": [
    "d.insertFront(4)"
   ]
  },
  {
   "cell_type": "code",
   "execution_count": 208,
   "id": "62fe11b1",
   "metadata": {},
   "outputs": [
    {
     "data": {
      "text/plain": [
       "deque([3, 2, 1])"
      ]
     },
     "execution_count": 208,
     "metadata": {},
     "output_type": "execute_result"
    }
   ],
   "source": [
    "d.deque"
   ]
  },
  {
   "cell_type": "code",
   "execution_count": 209,
   "id": "55985955",
   "metadata": {},
   "outputs": [
    {
     "data": {
      "text/plain": [
       "3"
      ]
     },
     "execution_count": 209,
     "metadata": {},
     "output_type": "execute_result"
    }
   ],
   "source": [
    "d.getFront()"
   ]
  },
  {
   "cell_type": "code",
   "execution_count": 210,
   "id": "072a62aa",
   "metadata": {},
   "outputs": [
    {
     "data": {
      "text/plain": [
       "True"
      ]
     },
     "execution_count": 210,
     "metadata": {},
     "output_type": "execute_result"
    }
   ],
   "source": [
    "d.deleteFront()"
   ]
  },
  {
   "cell_type": "code",
   "execution_count": 211,
   "id": "afa7afef",
   "metadata": {},
   "outputs": [
    {
     "data": {
      "text/plain": [
       "True"
      ]
     },
     "execution_count": 211,
     "metadata": {},
     "output_type": "execute_result"
    }
   ],
   "source": [
    "d.deleteFront()"
   ]
  },
  {
   "cell_type": "code",
   "execution_count": 212,
   "id": "92761192",
   "metadata": {},
   "outputs": [
    {
     "data": {
      "text/plain": [
       "True"
      ]
     },
     "execution_count": 212,
     "metadata": {},
     "output_type": "execute_result"
    }
   ],
   "source": [
    "d.deleteLast()"
   ]
  },
  {
   "cell_type": "code",
   "execution_count": 213,
   "id": "a7171e68",
   "metadata": {},
   "outputs": [
    {
     "data": {
      "text/plain": [
       "False"
      ]
     },
     "execution_count": 213,
     "metadata": {},
     "output_type": "execute_result"
    }
   ],
   "source": [
    "d.deleteFront()"
   ]
  },
  {
   "cell_type": "markdown",
   "id": "e51ecc92",
   "metadata": {},
   "source": [
    "## 1422. 分割字符串的最大得分"
   ]
  },
  {
   "cell_type": "code",
   "execution_count": 226,
   "id": "1c02d053",
   "metadata": {},
   "outputs": [],
   "source": [
    "class Solution:\n",
    "    def maxScore(self, s: str) -> int:\n",
    "        ans = s[0].count('0')+s[-1].count('1')\n",
    "        for i in range(1, len(s)-1):\n",
    "            sum1 = s[0:i].count('0')\n",
    "            sum2 = s[i:].count('1')\n",
    "            ans = max(sum1+sum2, ans)\n",
    "        return ans"
   ]
  },
  {
   "cell_type": "code",
   "execution_count": 227,
   "id": "a2f2b30b",
   "metadata": {},
   "outputs": [
    {
     "data": {
      "text/plain": [
       "24"
      ]
     },
     "execution_count": 227,
     "metadata": {},
     "output_type": "execute_result"
    }
   ],
   "source": [
    "a = \"1111000000000111111111111111\"\n",
    "s = Solution()\n",
    "s.maxScore(a)"
   ]
  },
  {
   "cell_type": "code",
   "execution_count": 228,
   "id": "a3c5ac88",
   "metadata": {},
   "outputs": [],
   "source": [
    "class Solution:\n",
    "    def maxScore(self, s: str) -> int:\n",
    "        return max(s[:i].count('0') + s[i:].count('1') for i in range(1, len(s)))"
   ]
  },
  {
   "cell_type": "markdown",
   "id": "6345c1d6",
   "metadata": {},
   "source": [
    "## 220. 存在重复元素 Ⅲ"
   ]
  },
  {
   "cell_type": "code",
   "execution_count": 312,
   "id": "3befc54f",
   "metadata": {},
   "outputs": [],
   "source": [
    "# 暴力\n",
    "class Solution:\n",
    "    def containsNearbyAlmostDuplicate(self, nums: List[int], k: int, t: int) -> bool:\n",
    "        k = min(len(nums)-1,k)\n",
    "#         print(k)\n",
    "        for i in range(len(nums)-1):\n",
    "#             print(i)\n",
    "            for j in range(i+1,min(i+1+k,len(nums))):\n",
    "#                 print(j)\n",
    "                if abs(nums[i] - nums[j]) <= t:\n",
    "                    return True\n",
    "        return False"
   ]
  },
  {
   "cell_type": "code",
   "execution_count": 313,
   "id": "1ba2e24f",
   "metadata": {},
   "outputs": [],
   "source": [
    "nums = [7,1,3]\n",
    "k = 2\n",
    "t = 3"
   ]
  },
  {
   "cell_type": "code",
   "execution_count": 314,
   "id": "89da0184",
   "metadata": {},
   "outputs": [
    {
     "name": "stdout",
     "output_type": "stream",
     "text": [
      "0\n",
      "1\n",
      "2\n",
      "1\n",
      "2\n"
     ]
    },
    {
     "data": {
      "text/plain": [
       "True"
      ]
     },
     "execution_count": 314,
     "metadata": {},
     "output_type": "execute_result"
    }
   ],
   "source": [
    "s = Solution()\n",
    "s.containsNearbyAlmostDuplicate(nums,k,t)"
   ]
  },
  {
   "cell_type": "markdown",
   "id": "d613fe26",
   "metadata": {},
   "source": [
    "不出意料地超时，下面想如何优化"
   ]
  },
  {
   "cell_type": "code",
   "execution_count": 328,
   "id": "e9b2a400",
   "metadata": {},
   "outputs": [],
   "source": [
    "# 桶+滑动窗口\n",
    "class Solution:\n",
    "    def containsNearbyAlmostDuplicate(self, nums: List[int], k: int, t: int) -> bool:\n",
    "        bucket = dict()\n",
    "        for n,num in enumerate(nums):\n",
    "            key = num//(t+1)\n",
    "            if key in bucket:\n",
    "                return True\n",
    "            if key-1 in bucket and abs(num - bucket[key-1]) <= t:\n",
    "                return True\n",
    "            if key+1 in bucket and abs(num-bucket[key+1]) <= t:\n",
    "                return True\n",
    "            bucket[key] = num\n",
    "            if n >= k: bucket.pop(nums[n-k]//(t+1))\n",
    "        return False"
   ]
  },
  {
   "cell_type": "markdown",
   "id": "53156844",
   "metadata": {},
   "source": [
    "关于为什么是 nums[i]//(t+1)和为什么要检查相邻桶的理解： 首先，假设nums[i] = 3,4,5,6,7,8,9 , t = 3，如果是nums[i]//(t)，则会得到：[1,1,1,2,2,2,3]，我们注意到，4和7也差了3，<=t，但是却分在了不同的桶，我们要尽量把两个相差<=t的数分在一个桶，那就需要//(t+1)，在//(t+1)后，得到:[0,1,1,1,1,2,2]，我们又注意到，5和3，7也是小于3的，但是分在了不同的桶，所以我们需要检查左右两边的相邻桶"
   ]
  },
  {
   "cell_type": "code",
   "execution_count": 326,
   "id": "1c856978",
   "metadata": {},
   "outputs": [],
   "source": [
    "nums = [7,1,3]\n",
    "k = 2\n",
    "t = 3"
   ]
  },
  {
   "cell_type": "code",
   "execution_count": 327,
   "id": "89646465",
   "metadata": {},
   "outputs": [
    {
     "data": {
      "text/plain": [
       "True"
      ]
     },
     "execution_count": 327,
     "metadata": {},
     "output_type": "execute_result"
    }
   ],
   "source": [
    "s = Solution()\n",
    "s.containsNearbyAlmostDuplicate(nums,k,t)"
   ]
  },
  {
   "cell_type": "markdown",
   "id": "df1d0ca9",
   "metadata": {},
   "source": [
    "## 1616. 分割两个字符串得到回文串"
   ]
  },
  {
   "cell_type": "code",
   "execution_count": 421,
   "id": "f2d58d9e",
   "metadata": {},
   "outputs": [],
   "source": [
    "# 暴力超时\n",
    "class Solution:\n",
    "    def checkPalindromeFormation(self, a: str, b: str) -> bool:\n",
    "        for i in range(len(a)):\n",
    "            apre,asuf = a[0:i],a[i:]\n",
    "            bpre,bsuf = b[0:i],b[i:]\n",
    "            s1 = apre + bsuf\n",
    "            s2 = bpre + asuf\n",
    "            if s1 == s1[::-1] or s2 == s2[::-1]:\n",
    "                return True\n",
    "        return False"
   ]
  },
  {
   "cell_type": "code",
   "execution_count": 422,
   "id": "182e5924",
   "metadata": {},
   "outputs": [
    {
     "data": {
      "text/plain": [
       "True"
      ]
     },
     "execution_count": 422,
     "metadata": {},
     "output_type": "execute_result"
    }
   ],
   "source": [
    "s = Solution()\n",
    "s.checkPalindromeFormation('x','y')"
   ]
  },
  {
   "cell_type": "code",
   "execution_count": 423,
   "id": "1b70cb62",
   "metadata": {},
   "outputs": [],
   "source": [
    "a = \"abdef\"\n",
    "b = \"fecab\""
   ]
  },
  {
   "cell_type": "code",
   "execution_count": 424,
   "id": "62c501c9",
   "metadata": {},
   "outputs": [
    {
     "data": {
      "text/plain": [
       "True"
      ]
     },
     "execution_count": 424,
     "metadata": {},
     "output_type": "execute_result"
    }
   ],
   "source": [
    "s.checkPalindromeFormation(a,b)"
   ]
  },
  {
   "cell_type": "code",
   "execution_count": 429,
   "id": "4570e5c4",
   "metadata": {},
   "outputs": [],
   "source": [
    "\"pvhmupgqeltozftlmfjjde\"\n",
    "\"yjgpzbezspnnpszebzmhvp\""
   ]
  },
  {
   "cell_type": "code",
   "execution_count": 439,
   "id": "53b12d87",
   "metadata": {},
   "outputs": [],
   "source": [
    "# 神解法\n",
    "class Solution:\n",
    "    def checkPalindromeFormation(self, a: str, b: str) -> bool:\n",
    "        \n",
    "        def check(str_1, str_r, left):\n",
    "            right = len(str_1) - 1 - left\n",
    "            while left >= 0 and right < len(str_1):\n",
    "                if str_1[left] != str_r[right]: break\n",
    "                left -= 1\n",
    "                right += 1\n",
    "            return left\n",
    "        \n",
    "        left = len(a)//2 - 1\n",
    "        left = min(check(a, a, left), check(b, b, left))\n",
    "        left = min(check(a, b, left), check(b, a, left))\n",
    "        \n",
    "        return left == -1            "
   ]
  },
  {
   "cell_type": "code",
   "execution_count": 440,
   "id": "856fad2e",
   "metadata": {},
   "outputs": [],
   "source": [
    "a = \"pvhmupgqeltozftlmfjjde\"\n",
    "b = \"yjgpzbezspnnpszebzmhvp\""
   ]
  },
  {
   "cell_type": "code",
   "execution_count": 441,
   "id": "53ef4cc4",
   "metadata": {},
   "outputs": [],
   "source": [
    "a = 'ulacfd'\n",
    "b = 'jizalu'"
   ]
  },
  {
   "cell_type": "code",
   "execution_count": 442,
   "id": "fe86067f",
   "metadata": {},
   "outputs": [
    {
     "data": {
      "text/plain": [
       "True"
      ]
     },
     "execution_count": 442,
     "metadata": {},
     "output_type": "execute_result"
    }
   ],
   "source": [
    "s = Solution()\n",
    "s.checkPalindromeFormation(a,b)"
   ]
  },
  {
   "cell_type": "markdown",
   "id": "560eff46",
   "metadata": {},
   "source": [
    "## 1450. 在既定时间做作业的学生人数"
   ]
  },
  {
   "cell_type": "code",
   "execution_count": 347,
   "id": "956013ad",
   "metadata": {},
   "outputs": [],
   "source": [
    "# 枚举\n",
    "class Solution:\n",
    "    def busyStudent(self, startTime, endTime, queryTime: int) -> int:\n",
    "        ans = 0\n",
    "        for i in range(len(startTime)):\n",
    "            if startTime[i] <= queryTime and endTime[i] >= queryTime:\n",
    "                ans += 1\n",
    "        return ans"
   ]
  },
  {
   "cell_type": "code",
   "execution_count": 348,
   "id": "4b99a9d3",
   "metadata": {},
   "outputs": [],
   "source": [
    "startTime = [9,8,7,6,5,4,3,2,1]\n",
    "endTime = [10,10,10,10,10,10,10,10,10]\n",
    "queryTime = 5"
   ]
  },
  {
   "cell_type": "code",
   "execution_count": 349,
   "id": "b39f191b",
   "metadata": {},
   "outputs": [
    {
     "data": {
      "text/plain": [
       "5"
      ]
     },
     "execution_count": 349,
     "metadata": {},
     "output_type": "execute_result"
    }
   ],
   "source": [
    "s = Solution()\n",
    "s.busyStudent(startTime,endTime,queryTime)"
   ]
  },
  {
   "cell_type": "code",
   "execution_count": 375,
   "id": "ac28c946",
   "metadata": {},
   "outputs": [],
   "source": [
    "# 差分数组\n",
    "class Solution:\n",
    "    def busyStudent(self, startTime, endTime: List[int], queryTime: int) -> int:\n",
    "        maxEndTime = max(endTime)\n",
    "        if queryTime > maxEndTime:\n",
    "            return 0\n",
    "        cnt = [0] * (maxEndTime + 2)  # 空间复杂度有点大\n",
    "        for s, e in zip(startTime, endTime):\n",
    "            cnt[s] += 1\n",
    "            cnt[e + 1] -= 1\n",
    "        print(cnt)\n",
    "        return sum(cnt[:queryTime + 1])  # o(n) + querytime"
   ]
  },
  {
   "cell_type": "code",
   "execution_count": 416,
   "id": "5e944635",
   "metadata": {},
   "outputs": [],
   "source": [
    "startTime = [1,2,3]\n",
    "endTime = [3,2,7]\n",
    "queryTime = 4"
   ]
  },
  {
   "cell_type": "code",
   "execution_count": 417,
   "id": "6248dc4f",
   "metadata": {},
   "outputs": [
    {
     "data": {
      "text/plain": [
       "1"
      ]
     },
     "execution_count": 417,
     "metadata": {},
     "output_type": "execute_result"
    }
   ],
   "source": [
    "s = Solution()\n",
    "s.busyStudent(startTime,endTime,queryTime)"
   ]
  },
  {
   "cell_type": "code",
   "execution_count": 418,
   "id": "c359bc38",
   "metadata": {},
   "outputs": [],
   "source": [
    "# 二分\n",
    "from bisect import bisect_left,bisect_right\n",
    "class Solution:\n",
    "    def busyStudent(self, startTime, endTime: List[int], queryTime: int) -> int:\n",
    "        startTime.sort()\n",
    "        endTime.sort()\n",
    "        return bisect_right(startTime, queryTime) - bisect_left(endTime, queryTime)"
   ]
  },
  {
   "cell_type": "code",
   "execution_count": 420,
   "id": "0eaad606",
   "metadata": {},
   "outputs": [
    {
     "data": {
      "text/plain": [
       "2"
      ]
     },
     "execution_count": 420,
     "metadata": {},
     "output_type": "execute_result"
    }
   ],
   "source": [
    "bisect_left(endTime, queryTime) # 返回插入位置，默认左边"
   ]
  },
  {
   "cell_type": "markdown",
   "id": "98a3680e",
   "metadata": {},
   "source": [
    "## 397. 整数替换"
   ]
  },
  {
   "cell_type": "code",
   "execution_count": 16,
   "id": "fbd5e66f",
   "metadata": {},
   "outputs": [],
   "source": [
    "# 感觉这个思路像贪心但不知道为什么\n",
    "class Solution:\n",
    "    def integerReplacement(self, n: int) -> int:\n",
    "        def find(n, step):\n",
    "            print(n)\n",
    "            if n == 1:\n",
    "                return step\n",
    "            if n == 3:\n",
    "                return find(2, step+1)\n",
    "            if n % 2 == 0:\n",
    "                return find(n//2, step+1)\n",
    "            else:\n",
    "                if (n + 1)%4 == 0:\n",
    "                    return find((n + 1), step+1)\n",
    "                else:\n",
    "                    return find((n - 1), step+1)\n",
    "            \n",
    "        return find(n, 0)"
   ]
  },
  {
   "cell_type": "code",
   "execution_count": 15,
   "id": "a078ef60",
   "metadata": {},
   "outputs": [
    {
     "name": "stdout",
     "output_type": "stream",
     "text": [
      "2035\n",
      "2036\n",
      "1018\n",
      "509\n",
      "508\n",
      "254\n",
      "127\n",
      "128\n",
      "64\n",
      "32\n",
      "16\n",
      "8\n",
      "4\n",
      "2\n",
      "1\n"
     ]
    },
    {
     "data": {
      "text/plain": [
       "14"
      ]
     },
     "execution_count": 15,
     "metadata": {},
     "output_type": "execute_result"
    }
   ],
   "source": [
    "s = Solution()\n",
    "s.integerReplacement(2035)"
   ]
  },
  {
   "cell_type": "markdown",
   "id": "6b115b1b",
   "metadata": {},
   "source": [
    "## 1315. 祖父节点值为偶数的节点和"
   ]
  },
  {
   "cell_type": "code",
   "execution_count": 28,
   "id": "4db62aed",
   "metadata": {},
   "outputs": [],
   "source": [
    "class Solution:\n",
    "    def sumEvenGrandparent(self, root: TreeNode) -> int:\n",
    "        res = []\n",
    "        def Traversal(subroot):\n",
    "            if not subroot:\n",
    "                return\n",
    "            if subroot.val % 2 == 0:\n",
    "                if subroot.left:\n",
    "                    res.append(subroot.left)\n",
    "                if subroot.right:\n",
    "                    res.append(subroot.right)\n",
    "            Traversal(subroot.left)\n",
    "            Traversal(subroot.right)\n",
    "        \n",
    "        Traversal(root)\n",
    "        ans = 0\n",
    "        for node in res:\n",
    "            if node.left:\n",
    "                ans += node.left.val\n",
    "            if node.right:\n",
    "                ans += node.right.val\n",
    "        \n",
    "        return ans"
   ]
  },
  {
   "cell_type": "code",
   "execution_count": 29,
   "id": "d5fcc1a8",
   "metadata": {},
   "outputs": [],
   "source": [
    "null = None\n",
    "root = [6,7,8,2,7,1,3,9,null,1,4,null,null,null,5]\n",
    "a = constructTree(root)"
   ]
  },
  {
   "cell_type": "code",
   "execution_count": 30,
   "id": "e426b3ca",
   "metadata": {},
   "outputs": [
    {
     "data": {
      "text/plain": [
       "[9, 2, 7, 1, 7, 4, 6, 1, 8, 3, 5]"
      ]
     },
     "execution_count": 30,
     "metadata": {},
     "output_type": "execute_result"
    }
   ],
   "source": [
    "inorderTraversal(a)"
   ]
  },
  {
   "cell_type": "code",
   "execution_count": 31,
   "id": "4a4010a0",
   "metadata": {},
   "outputs": [
    {
     "data": {
      "text/plain": [
       "18"
      ]
     },
     "execution_count": 31,
     "metadata": {},
     "output_type": "execute_result"
    }
   ],
   "source": [
    "s = Solution()\n",
    "s.sumEvenGrandparent(a)"
   ]
  },
  {
   "cell_type": "markdown",
   "id": "94c4c388",
   "metadata": {},
   "source": [
    "上述解法本质上来说还是BFS，即先找到所有的偶数节点再去遍历它们的孙子"
   ]
  },
  {
   "cell_type": "code",
   "execution_count": 33,
   "id": "c0430591",
   "metadata": {},
   "outputs": [],
   "source": [
    "class Solution:\n",
    "    def sumEvenGrandparent(self, root: TreeNode) -> int:\n",
    "        ans = 0\n",
    "\n",
    "        def dfs(gp_val, p_val, node):  # 三元组的思想要掌握\n",
    "            if not node:\n",
    "                return\n",
    "            if gp_val % 2 == 0:\n",
    "                nonlocal ans\n",
    "                ans += node.val\n",
    "            dfs(p_val, node.val, node.left)\n",
    "            dfs(p_val, node.val, node.right)\n",
    "        \n",
    "        dfs(1, 1, root)\n",
    "        return ans"
   ]
  },
  {
   "cell_type": "markdown",
   "id": "21489b54",
   "metadata": {},
   "source": [
    "这种解法相当于DFS即遇到一个偶数就计算孙子节点的和"
   ]
  },
  {
   "cell_type": "markdown",
   "id": "861b5394",
   "metadata": {},
   "source": [
    "## 989.数组形式的整数加法"
   ]
  },
  {
   "cell_type": "code",
   "execution_count": 43,
   "id": "eda3f6c1",
   "metadata": {},
   "outputs": [],
   "source": [
    "class Solution:\n",
    "    def addToArrayForm(self, num: List[int], k: int) -> List[int]:\n",
    "        s = ''\n",
    "        for i in num:\n",
    "            s += str(i)\n",
    "        s = int(s)\n",
    "        n = s + k\n",
    "        return [int(ch) for ch in str(n)] "
   ]
  },
  {
   "cell_type": "code",
   "execution_count": 44,
   "id": "d5ffdcd2",
   "metadata": {},
   "outputs": [],
   "source": [
    "num = [1,2,0,0]\n",
    "k = 34"
   ]
  },
  {
   "cell_type": "code",
   "execution_count": 45,
   "id": "ff550194",
   "metadata": {},
   "outputs": [
    {
     "data": {
      "text/plain": [
       "[1, 2, 3, 4]"
      ]
     },
     "execution_count": 45,
     "metadata": {},
     "output_type": "execute_result"
    }
   ],
   "source": [
    "s = Solution()\n",
    "s.addToArrayForm(num,k)"
   ]
  },
  {
   "cell_type": "markdown",
   "id": "3d17952d",
   "metadata": {},
   "source": [
    "太慢了"
   ]
  },
  {
   "cell_type": "code",
   "execution_count": 46,
   "id": "b91b2e37",
   "metadata": {},
   "outputs": [
    {
     "data": {
      "text/plain": [
       "deque([1, 2, 3, 4])"
      ]
     },
     "execution_count": 46,
     "metadata": {},
     "output_type": "execute_result"
    }
   ],
   "source": [
    "from collections import deque\n",
    "\n",
    "deque([1,2,3,4])"
   ]
  },
  {
   "cell_type": "code",
   "execution_count": 80,
   "id": "a849c288",
   "metadata": {},
   "outputs": [],
   "source": [
    "class Solution:\n",
    "    def addToArrayForm(self, num: List[int], k: int) -> List[int]:\n",
    "        k = str(k)\n",
    "        idx1 = len(num) - 1\n",
    "        idx2 = len(k) - 1\n",
    "        carry = 0\n",
    "        ans = []\n",
    "        \n",
    "        while idx1 >= 0 or idx2 >= 0:\n",
    "            n1 = n2 = 0\n",
    "            if idx1 >= 0:\n",
    "                n1 = num[idx1]\n",
    "            if idx2 >= 0:\n",
    "                n2 = int(k[idx2])\n",
    "            n = n1 + n2 + carry\n",
    "            carry = 1 if n > 9 else 0\n",
    "            ans.append(n%10)\n",
    "            idx1 -= 1\n",
    "            idx2 -= 1\n",
    "        if carry:\n",
    "            ans.append(1)\n",
    "        return ans[::-1]"
   ]
  },
  {
   "cell_type": "code",
   "execution_count": 81,
   "id": "3aa1a94b",
   "metadata": {},
   "outputs": [],
   "source": [
    "num = [0]\n",
    "k = 23"
   ]
  },
  {
   "cell_type": "code",
   "execution_count": 82,
   "id": "52dad573",
   "metadata": {},
   "outputs": [
    {
     "data": {
      "text/plain": [
       "[2, 3]"
      ]
     },
     "execution_count": 82,
     "metadata": {},
     "output_type": "execute_result"
    }
   ],
   "source": [
    "s = Solution()\n",
    "s.addToArrayForm(num, k)"
   ]
  },
  {
   "cell_type": "markdown",
   "id": "8e469e62",
   "metadata": {},
   "source": [
    "快了一点，还是慢"
   ]
  },
  {
   "cell_type": "markdown",
   "id": "da7e70c7",
   "metadata": {},
   "source": [
    "## 234. 回文链表"
   ]
  },
  {
   "cell_type": "code",
   "execution_count": 136,
   "id": "0932ec45",
   "metadata": {},
   "outputs": [],
   "source": [
    "class Solution:\n",
    "    def isPalindrome(self, head: Optional[ListNode]) -> bool:\n",
    "        res = []\n",
    "        cur = head\n",
    "        while cur:\n",
    "            res.append(cur.val)\n",
    "            cur = cur.next\n",
    "        return res == res[::-1]"
   ]
  },
  {
   "cell_type": "code",
   "execution_count": 137,
   "id": "bbd85776",
   "metadata": {},
   "outputs": [],
   "source": [
    "def constructList(l: list) -> Optional[ListNode]:\n",
    "    head = ListNode(val=l[0],next=None)\n",
    "    \n",
    "    idx = 1\n",
    "    ptr = head\n",
    "    while idx < len(l):\n",
    "        cur = ListNode(val=l[idx],next=None)\n",
    "        ptr.next = cur\n",
    "        ptr = cur\n",
    "        idx += 1\n",
    "    \n",
    "    return head"
   ]
  },
  {
   "cell_type": "code",
   "execution_count": 143,
   "id": "1679cd4a",
   "metadata": {},
   "outputs": [],
   "source": [
    "l = [1,2,2,1,1,2,2,1]\n",
    "l1 = constructList(l)"
   ]
  },
  {
   "cell_type": "code",
   "execution_count": 144,
   "id": "d2a94baf",
   "metadata": {},
   "outputs": [
    {
     "data": {
      "text/plain": [
       "True"
      ]
     },
     "execution_count": 144,
     "metadata": {},
     "output_type": "execute_result"
    }
   ],
   "source": [
    "s = Solution()\n",
    "s.isPalindrome(l1)"
   ]
  },
  {
   "cell_type": "code",
   "execution_count": 11,
   "id": "c68d0620",
   "metadata": {},
   "outputs": [],
   "source": [
    "class Solution:\n",
    "    def constructMaximumBinaryTree(self, nums: List[int]) -> Optional[TreeNode]:\n",
    "        val = max(nums)\n",
    "        pos = nums.index(val)\n",
    "        root = TreeNode(val)\n",
    "        def build(subroot, nums_l, nums_r):\n",
    "            print(f'{nums_l},{nums_r}')\n",
    "            if nums_l:\n",
    "                val_l = max(nums_l)\n",
    "                pos_l = nums_l.index(val_l)\n",
    "                left = TreeNode(val_l)\n",
    "                subroot.left = left\n",
    "                return build(left, nums_l[0:pos_l], nums_l[pos_l+1:])\n",
    "            if nums_r:\n",
    "                val_r = max(nums_r)\n",
    "                pos_r = nums_r.index(val_r)\n",
    "                right = TreeNode(val_r)\n",
    "                subroot.right = right\n",
    "                return build(right, nums_r[0:pos_r], nums_r[pos_r+1:])\n",
    "            \n",
    "            return \n",
    "        \n",
    "        build(root, nums[0:pos], nums[pos+1:])\n",
    "        return root"
   ]
  },
  {
   "cell_type": "code",
   "execution_count": 12,
   "id": "42e3ea4a",
   "metadata": {},
   "outputs": [],
   "source": [
    "nums = [3,2,1,6,0,5]"
   ]
  },
  {
   "cell_type": "code",
   "execution_count": 13,
   "id": "cac42fbc",
   "metadata": {},
   "outputs": [
    {
     "name": "stdout",
     "output_type": "stream",
     "text": [
      "[3, 2, 1],[0, 5]\n",
      "[],[2, 1]\n",
      "[],[1]\n",
      "[],[]\n"
     ]
    },
    {
     "data": {
      "text/plain": [
       "<__main__.TreeNode at 0x2aa937beb00>"
      ]
     },
     "execution_count": 13,
     "metadata": {},
     "output_type": "execute_result"
    }
   ],
   "source": [
    "s = Solution()\n",
    "s.constructMaximumBinaryTree(nums)"
   ]
  },
  {
   "cell_type": "markdown",
   "id": "4486ab8b",
   "metadata": {},
   "source": [
    "return 的有问题,不应直接返回应存储所有待build的node"
   ]
  },
  {
   "cell_type": "code",
   "execution_count": 26,
   "id": "1029649e",
   "metadata": {},
   "outputs": [],
   "source": [
    "class Solution:\n",
    "    def constructMaximumBinaryTree(self, nums: List[int]) -> Optional[TreeNode]:\n",
    "        val = max(nums)\n",
    "        pos = nums.index(val)\n",
    "        root = TreeNode(val)\n",
    "        \n",
    "        res = [(root, nums[0:pos], nums[pos+1:])]\n",
    "        \n",
    "        def build(l: list):\n",
    "#             print(l)\n",
    "            if not l:\n",
    "                return\n",
    "            cur,left,right = l.pop()\n",
    "            if left:\n",
    "                val_l = max(left)\n",
    "                pos_l = left.index(val_l)\n",
    "                leftnode = TreeNode(val_l)\n",
    "                cur.left = leftnode\n",
    "                l.append((leftnode, left[0:pos_l], left[pos_l+1:]))\n",
    "            if right:\n",
    "                val_r = max(right)\n",
    "                pos_r = right.index(val_r)\n",
    "                rightnode = TreeNode(val_r)\n",
    "                cur.right = rightnode\n",
    "                l.append((rightnode, right[0:pos_r], right[pos_r+1:]))\n",
    "            \n",
    "            return build(l)\n",
    "        \n",
    "        build(res)\n",
    "        return root"
   ]
  },
  {
   "cell_type": "code",
   "execution_count": 29,
   "id": "b6cad260",
   "metadata": {},
   "outputs": [],
   "source": [
    "nums = [3,2,1]"
   ]
  },
  {
   "cell_type": "code",
   "execution_count": 30,
   "id": "3ae3b9a2",
   "metadata": {},
   "outputs": [
    {
     "name": "stdout",
     "output_type": "stream",
     "text": [
      "[(<__main__.TreeNode object at 0x000002AA944FC470>, [], [2, 1])]\n",
      "[(<__main__.TreeNode object at 0x000002AA944BC128>, [], [1])]\n",
      "[(<__main__.TreeNode object at 0x000002AA944BCE10>, [], [])]\n",
      "[]\n"
     ]
    },
    {
     "data": {
      "text/plain": [
       "[3, 2, 1]"
      ]
     },
     "execution_count": 30,
     "metadata": {},
     "output_type": "execute_result"
    }
   ],
   "source": [
    "s = Solution()\n",
    "head = s.constructMaximumBinaryTree(nums)\n",
    "inorderTraversal(head)"
   ]
  },
  {
   "cell_type": "markdown",
   "id": "c7ad4beb",
   "metadata": {},
   "source": [
    "但是太慢"
   ]
  },
  {
   "cell_type": "code",
   "execution_count": 32,
   "id": "15a928de",
   "metadata": {},
   "outputs": [],
   "source": [
    "# 官方递归\n",
    "class Solution:\n",
    "    def constructMaximumBinaryTree(self, nums: List[int]) -> Optional[TreeNode]:\n",
    "        def construct(left: int, right: int) -> Optional[TreeNode]:\n",
    "            if left > right:\n",
    "                return None\n",
    "            \n",
    "            best = left\n",
    "            for i in range(left + 1, right + 1):\n",
    "                if nums[i] > nums[best]:\n",
    "                    best = i\n",
    "        \n",
    "            node = TreeNode(nums[best])\n",
    "            node.left = construct(left, best - 1)\n",
    "            node.right = construct(best + 1, right)\n",
    "            return node\n",
    "        \n",
    "        return construct(0, len(nums) - 1)"
   ]
  },
  {
   "cell_type": "markdown",
   "id": "8349a483",
   "metadata": {},
   "source": [
    "**单调栈**"
   ]
  },
  {
   "cell_type": "code",
   "execution_count": 33,
   "id": "202e0810",
   "metadata": {},
   "outputs": [],
   "source": [
    "class Solution:\n",
    "    def constructMaximumBinaryTree(self, nums: List[int]) -> Optional[TreeNode]:\n",
    "        n = len(nums)\n",
    "        stk = list()\n",
    "        left, right = [-1] * n, [-1] * n\n",
    "        tree = [None] * n\n",
    "\n",
    "        for i in range(n):\n",
    "            tree[i] = TreeNode(nums[i])\n",
    "            while stk and nums[i] > nums[stk[-1]]:\n",
    "                right[stk[-1]] = i\n",
    "                stk.pop()\n",
    "            if stk:\n",
    "                left[i] = stk[-1]\n",
    "            stk.append(i)\n",
    "        \n",
    "        root = None\n",
    "        for i in range(n):\n",
    "            if left[i] == right[i] == -1:\n",
    "                root = tree[i]\n",
    "            elif right[i] == -1 or (left[i] != -1 and nums[left[i]] < nums[right[i]]):\n",
    "                tree[left[i]].right = tree[i]\n",
    "            else:\n",
    "                tree[right[i]].left = tree[i]\n",
    "        \n",
    "        return root"
   ]
  },
  {
   "cell_type": "code",
   "execution_count": 34,
   "id": "efd3c465",
   "metadata": {},
   "outputs": [],
   "source": [
    "class Solution:\n",
    "    def constructMaximumBinaryTree(self, nums: List[int]) -> Optional[TreeNode]:\n",
    "        n = len(nums)\n",
    "        stk = list()\n",
    "        tree = [None] * n\n",
    "\n",
    "        for i in range(n):\n",
    "            tree[i] = TreeNode(nums[i])\n",
    "            while stk and nums[i] > nums[stk[-1]]:\n",
    "                tree[i].left = tree[stk[-1]]\n",
    "                stk.pop()\n",
    "            if stk:\n",
    "                tree[stk[-1]].right = tree[i]\n",
    "            stk.append(i)\n",
    "        \n",
    "        return tree[stk[0]]"
   ]
  },
  {
   "cell_type": "markdown",
   "id": "fa632cb6",
   "metadata": {},
   "source": [
    "先补一下单调栈的知识"
   ]
  },
  {
   "cell_type": "markdown",
   "id": "644438b2",
   "metadata": {},
   "source": [
    "## 503. 下一个更大元素 Ⅱ"
   ]
  },
  {
   "cell_type": "code",
   "execution_count": 14,
   "id": "54ee5d05",
   "metadata": {},
   "outputs": [],
   "source": [
    "# 暴力\n",
    "class Solution:\n",
    "    def nextGreaterElements(self, nums: List[int]) -> List[int]:\n",
    "        res = []\n",
    "        for i,num in enumerate(nums):\n",
    "            cnt = (i + 1)%len(nums)\n",
    "            while nums[cnt] <= num and cnt != i:\n",
    "                cnt = (cnt + 1)%len(nums)\n",
    "            res.append(-1) if cnt == i else res.append(nums[cnt])\n",
    "        return res"
   ]
  },
  {
   "cell_type": "code",
   "execution_count": 34,
   "id": "e3a04e3f",
   "metadata": {},
   "outputs": [],
   "source": [
    "nums = [1,2,3,4,3]"
   ]
  },
  {
   "cell_type": "code",
   "execution_count": 16,
   "id": "f1ed088c",
   "metadata": {},
   "outputs": [
    {
     "data": {
      "text/plain": [
       "[2, 3, 4, -1, 4]"
      ]
     },
     "execution_count": 16,
     "metadata": {},
     "output_type": "execute_result"
    }
   ],
   "source": [
    "s = Solution()\n",
    "s.nextGreaterElements(nums)"
   ]
  },
  {
   "cell_type": "code",
   "execution_count": 30,
   "id": "5fab7375",
   "metadata": {},
   "outputs": [],
   "source": [
    "# 单调栈\n",
    "class Solution:\n",
    "    def nextGreaterElements(self, nums: List[int]) -> List[int]:\n",
    "        n = len(nums)\n",
    "        ret = [-1] * n\n",
    "        stk = list()\n",
    "        stack = list()\n",
    "        \n",
    "        for i in range(n * 2 - 1):\n",
    "            while stk and nums[stk[-1]] < nums[i % n]:\n",
    "                ret[stk.pop()] = nums[i % n]\n",
    "                stack.pop()\n",
    "            stk.append(i % n)\n",
    "            stack.append(nums[i%n])\n",
    "            print(ret,stack)\n",
    "        return ret"
   ]
  },
  {
   "cell_type": "code",
   "execution_count": 31,
   "id": "234fbd76",
   "metadata": {},
   "outputs": [
    {
     "name": "stdout",
     "output_type": "stream",
     "text": [
      "[-1, -1, -1, -1, -1] [1]\n",
      "[2, -1, -1, -1, -1] [2]\n",
      "[2, 3, -1, -1, -1] [3]\n",
      "[2, 3, 4, -1, -1] [4]\n",
      "[2, 3, 4, -1, -1] [4, 3]\n",
      "[2, 3, 4, -1, -1] [4, 3, 1]\n",
      "[2, 3, 4, -1, -1] [4, 3, 2]\n",
      "[2, 3, 4, -1, -1] [4, 3, 3]\n",
      "[2, 3, 4, -1, 4] [4, 4]\n"
     ]
    },
    {
     "data": {
      "text/plain": [
       "[2, 3, 4, -1, 4]"
      ]
     },
     "execution_count": 31,
     "metadata": {},
     "output_type": "execute_result"
    }
   ],
   "source": [
    "s = Solution()\n",
    "s.nextGreaterElements(nums)"
   ]
  },
  {
   "cell_type": "markdown",
   "id": "7969f5ac",
   "metadata": {},
   "source": [
    "单调栈用于此题的思想：若数组的前面部分是单调不增的，那么会浪费很多时间在遍历上\n",
    "\n",
    "我们注意到，暴力解法中，如果数组的前半部分是单调不增的，那么会有很大的计算资源的浪费。比如说 [6,5,4,3,8]，对于前面的 [6,5,4,3] 等数字都需要向后遍历，当寻找到元素 8 时才找到了比自己大的元素；而如果已知元素 6 向后找到元素 8 才找到了比自己的大的数字，那么对于元素 [5,4,3] 来说，它们都比元素 6 更小，所以比它们更大的元素一定是元素 8，不需要单独遍历对 [5,4,3] 向后遍历一次！\n",
    "\n",
    "根据上面的分析可知，可以遍历一次数组，如果元素是单调递减的（则他们的「下一个更大元素」相同），我们就把这些元素保存，直到找到一个较大的元素；把该较大元素逐一跟保存了的元素比较，如果该元素更大，那么它就是前面元素的「下一个更大元素」。\n"
   ]
  },
  {
   "cell_type": "code",
   "execution_count": 39,
   "id": "c888c871",
   "metadata": {},
   "outputs": [],
   "source": [
    "class Solution:\n",
    "    def nextGreaterElements(self, nums: List[int]) -> List[int]:\n",
    "        n = len(nums)\n",
    "        ret = [-1] * n\n",
    "        stk = list()\n",
    "        for i in range(2*n -1):\n",
    "            while stk and nums[stk[-1]] < nums[i % n]:\n",
    "                ret[stk.pop()] = nums[i % n]\n",
    "            stk.append(i % n)\n",
    "        return ret"
   ]
  },
  {
   "cell_type": "code",
   "execution_count": 40,
   "id": "6c10a8f2",
   "metadata": {},
   "outputs": [
    {
     "data": {
      "text/plain": [
       "[2, 3, 4, -1, 4]"
      ]
     },
     "execution_count": 40,
     "metadata": {},
     "output_type": "execute_result"
    }
   ],
   "source": [
    "s = Solution()\n",
    "s.nextGreaterElements(nums)"
   ]
  },
  {
   "cell_type": "code",
   "execution_count": 45,
   "id": "9e476f31",
   "metadata": {},
   "outputs": [],
   "source": [
    "class Fancy:\n",
    "\n",
    "    def __init__(self):\n",
    "        self.fancyList = list()\n",
    "\n",
    "    def append(self, val: int) -> None:\n",
    "        l = self.fancyList\n",
    "        l.append(val)\n",
    "\n",
    "    def addAll(self, inc: int) -> None:\n",
    "        l = self.fancyList\n",
    "        for i in range(len(l)):\n",
    "            l[i] += inc\n",
    "\n",
    "    def multAll(self, m: int) -> None:\n",
    "        l = self.fancyList\n",
    "        for i in range(len(l)):\n",
    "            l[i] *= m\n",
    "\n",
    "    def getIndex(self, idx: int) -> int:\n",
    "        l = self.fancyList\n",
    "        return -1 if idx > len(l) - 1 else l[idx]"
   ]
  },
  {
   "cell_type": "code",
   "execution_count": 47,
   "id": "c9014cc4",
   "metadata": {},
   "outputs": [
    {
     "data": {
      "text/plain": [
       "1"
      ]
     },
     "execution_count": 47,
     "metadata": {},
     "output_type": "execute_result"
    }
   ],
   "source": [
    "len([1])"
   ]
  },
  {
   "cell_type": "code",
   "execution_count": 48,
   "id": "5f249df1",
   "metadata": {},
   "outputs": [],
   "source": [
    "opa = [\"Fancy\",\"append\",\"append\",\"getIndex\",\"append\",\"getIndex\",\"addAll\",\"append\",\"getIndex\",\"getIndex\",\"append\",\"append\",\"getIndex\",\"append\",\"getIndex\",\"append\",\"getIndex\",\"append\",\"getIndex\",\"multAll\",\"addAll\",\"getIndex\",\"append\",\"addAll\",\"getIndex\",\"multAll\",\"getIndex\",\"multAll\",\"addAll\",\"addAll\",\"append\",\"multAll\",\"append\",\"append\",\"append\",\"multAll\",\"getIndex\",\"multAll\",\"multAll\",\"multAll\",\"getIndex\",\"addAll\",\"append\",\"multAll\",\"addAll\",\"addAll\",\"multAll\",\"addAll\",\"addAll\",\"append\",\"append\",\"getIndex\"]\n",
    "num = [[],[12],[8],[1],[12],[0],[12],[8],[2],[2],[4],[13],[4],[12],[6],[11],[1],[10],[2],[3],[1],[6],[14],[5],[6],[12],[3],[12],[15],[6],[7],[8],[13],[15],[15],[10],[9],[12],[12],[9],[9],[9],[9],[4],[8],[11],[15],[9],[1],[4],[10],[9]]"
   ]
  },
  {
   "cell_type": "code",
   "execution_count": null,
   "id": "07360287",
   "metadata": {},
   "outputs": [],
   "source": []
  },
  {
   "cell_type": "markdown",
   "id": "657b1073",
   "metadata": {},
   "source": [
    "## 1455. 检查单词是否为句中其他单词的前缀  (8.21)"
   ]
  },
  {
   "cell_type": "code",
   "execution_count": 67,
   "id": "fbe000af",
   "metadata": {},
   "outputs": [],
   "source": [
    "class Solution:\n",
    "    def isPrefixOfWord(self, sentence: str, searchWord: str) -> int:\n",
    "        l = sentence.split(' ')\n",
    "        for i,s in enumerate(l):\n",
    "            print(s)\n",
    "            if searchWord == s[0:min(len(s), len(searchWord))]:\n",
    "                return i+1\n",
    "        return -1"
   ]
  },
  {
   "cell_type": "code",
   "execution_count": 70,
   "id": "505ad818",
   "metadata": {},
   "outputs": [],
   "source": [
    "sentence = \"i love eating burger\"\n",
    "searchWord = \"burg\""
   ]
  },
  {
   "cell_type": "code",
   "execution_count": 71,
   "id": "041f90d7",
   "metadata": {},
   "outputs": [
    {
     "name": "stdout",
     "output_type": "stream",
     "text": [
      "i\n",
      "love\n",
      "eating\n",
      "burger\n"
     ]
    },
    {
     "data": {
      "text/plain": [
       "4"
      ]
     },
     "execution_count": 71,
     "metadata": {},
     "output_type": "execute_result"
    }
   ],
   "source": [
    "s = Solution()\n",
    "s.isPrefixOfWord(sentence, searchWord)"
   ]
  },
  {
   "cell_type": "markdown",
   "id": "06c8a51f",
   "metadata": {},
   "source": [
    "## 766. 托普利茨矩阵"
   ]
  },
  {
   "cell_type": "code",
   "execution_count": 101,
   "id": "a9f6d291",
   "metadata": {},
   "outputs": [],
   "source": [
    "class Solution:\n",
    "    def isToeplitzMatrix(self, matrix: List[List[int]]) -> bool:\n",
    "        m = len(matrix)\n",
    "        n = len(matrix[0])\n",
    "        step = max(n - m + 1, 1)\n",
    "        dia = set()\n",
    "        \n",
    "        for i in range(min(m,n)):\n",
    "            print(matrix[i][i:i+step])\n",
    "            dia.add(tuple(matrix[i][i:i+step]))\n",
    "        return len(dia) == 1"
   ]
  },
  {
   "cell_type": "markdown",
   "id": "9473b75b",
   "metadata": {},
   "source": [
    "没看清题"
   ]
  },
  {
   "cell_type": "code",
   "execution_count": 102,
   "id": "5f11af60",
   "metadata": {},
   "outputs": [],
   "source": [
    "matrix = [[36,59,71,15,26,82,87],\n",
    "          [56,36,59,71,15,26,82],\n",
    "          [15,0,36,59,71,15,26]]"
   ]
  },
  {
   "cell_type": "code",
   "execution_count": 103,
   "id": "d59e4653",
   "metadata": {},
   "outputs": [
    {
     "name": "stdout",
     "output_type": "stream",
     "text": [
      "[36, 59, 71, 15, 26]\n",
      "[36, 59, 71, 15, 26]\n",
      "[36, 59, 71, 15, 26]\n"
     ]
    },
    {
     "data": {
      "text/plain": [
       "True"
      ]
     },
     "execution_count": 103,
     "metadata": {},
     "output_type": "execute_result"
    }
   ],
   "source": [
    "s = Solution()\n",
    "s.isToeplitzMatrix(matrix)"
   ]
  },
  {
   "cell_type": "code",
   "execution_count": 111,
   "id": "5c18f0fa",
   "metadata": {},
   "outputs": [],
   "source": [
    "from collections import deque\n",
    "class Solution:\n",
    "    def isToeplitzMatrix(self, matrix: List[List[int]]) -> bool:\n",
    "        m = len(matrix)\n",
    "        n = len(matrix[0])\n",
    "        dia = deque(matrix[0][0:n-1])\n",
    "        for i in range(1,m):\n",
    "            print(dia)\n",
    "            if list(dia) == matrix[i][1:]:\n",
    "                dia.appendleft(matrix[i][0])\n",
    "                dia.pop()\n",
    "            else: return False\n",
    "        return True"
   ]
  },
  {
   "cell_type": "code",
   "execution_count": 112,
   "id": "f99e84f0",
   "metadata": {},
   "outputs": [],
   "source": [
    "matrix = [[36,59,71,15,26,82,87],\n",
    "          [56,36,59,71,15,26,82],\n",
    "          [15,0,36,59,71,15,26]]"
   ]
  },
  {
   "cell_type": "code",
   "execution_count": 113,
   "id": "eb877da3",
   "metadata": {},
   "outputs": [
    {
     "name": "stdout",
     "output_type": "stream",
     "text": [
      "deque([36, 59, 71, 15, 26, 82])\n",
      "deque([56, 36, 59, 71, 15, 26])\n"
     ]
    },
    {
     "data": {
      "text/plain": [
       "False"
      ]
     },
     "execution_count": 113,
     "metadata": {},
     "output_type": "execute_result"
    }
   ],
   "source": [
    "s = Solution()\n",
    "s.isToeplitzMatrix(matrix)"
   ]
  },
  {
   "cell_type": "markdown",
   "id": "4e809618",
   "metadata": {},
   "source": [
    "pass 但太慢"
   ]
  },
  {
   "cell_type": "code",
   "execution_count": 119,
   "id": "360cd120",
   "metadata": {},
   "outputs": [],
   "source": [
    "class Solution:\n",
    "    def isToeplitzMatrix(self, matrix: List[List[int]]) -> bool:\n",
    "        m = len(matrix)\n",
    "        n = len(matrix[0])\n",
    "        dia = matrix[0][0:n-1]\n",
    "        \n",
    "        for i in range(1,m):\n",
    "            if dia == matrix[i][1:]:\n",
    "                dia = matrix[i][0:n-1]\n",
    "            else: return False\n",
    "        return True"
   ]
  },
  {
   "cell_type": "code",
   "execution_count": 120,
   "id": "34688cee",
   "metadata": {},
   "outputs": [
    {
     "data": {
      "text/plain": [
       "False"
      ]
     },
     "execution_count": 120,
     "metadata": {},
     "output_type": "execute_result"
    }
   ],
   "source": [
    "s = Solution()\n",
    "s.isToeplitzMatrix(matrix)"
   ]
  },
  {
   "cell_type": "markdown",
   "id": "d5f79060",
   "metadata": {},
   "source": [
    "对于进阶问题二，一次只能将不完整的一行加载到内存中，我们将整个矩阵竖直切分成若干子矩阵，并保证两个相邻的矩阵至少有一列或一行是重合的，然后判断每个子矩阵是否符合要求。"
   ]
  },
  {
   "cell_type": "markdown",
   "id": "abd80745",
   "metadata": {},
   "source": [
    "## 1139. 最大的以1为边界的正方形"
   ]
  },
  {
   "cell_type": "code",
   "execution_count": 125,
   "id": "81ac12d8",
   "metadata": {},
   "outputs": [],
   "source": [
    "class QuaTreeNode:\n",
    "    def __init__(self, val=(0,0), a=None, b=None, c=None, d=None, layer = 0):\n",
    "        self.val = val\n",
    "        self.a = a\n",
    "        self.b = b\n",
    "        self.c = c\n",
    "        self.d = d\n",
    "        self.layer = layer"
   ]
  },
  {
   "cell_type": "code",
   "execution_count": 149,
   "id": "dd1652d5",
   "metadata": {},
   "outputs": [],
   "source": [
    "class Solution:\n",
    "    def soupServings(self, n: int) -> float:\n",
    "        p = 0\n",
    "        res = [(n,n,0)]\n",
    "        def build(l:List[tuple]):\n",
    "            nonlocal p\n",
    "            if not l:\n",
    "                return\n",
    "            A,B,n = l.pop()\n",
    "            if A == 0 or B == 0:\n",
    "                if A == 0:\n",
    "                    p += 0.5 * pow(0.25,n) if B == 0 else pow(0.25,n)\n",
    "            else:\n",
    "                l.append((max(A-100, 0), B, n+1))\n",
    "                l.append((max(A-75, 0), max(B - 25, 0), n+1))\n",
    "                l.append((max(A-50, 0), max(B - 50, 0), n+1))\n",
    "                l.append((max(A-25, 0), max(B - 75, 0), n+1))\n",
    "            print(l,p)\n",
    "            return build(l)\n",
    "        build(res)\n",
    "        return p"
   ]
  },
  {
   "cell_type": "code",
   "execution_count": 150,
   "id": "d547be91",
   "metadata": {},
   "outputs": [
    {
     "name": "stdout",
     "output_type": "stream",
     "text": [
      "[(0, 50, 1), (0, 25, 1), (0, 0, 1), (25, 0, 1)] 0\n",
      "[(0, 50, 1), (0, 25, 1), (0, 0, 1)] 0\n",
      "[(0, 50, 1), (0, 25, 1)] 0.125\n",
      "[(0, 50, 1)] 0.375\n",
      "[] 0.625\n"
     ]
    },
    {
     "data": {
      "text/plain": [
       "0.625"
      ]
     },
     "execution_count": 150,
     "metadata": {},
     "output_type": "execute_result"
    }
   ],
   "source": [
    "s = Solution()\n",
    "s.soupServings(50)"
   ]
  },
  {
   "cell_type": "markdown",
   "id": "c22e39e8",
   "metadata": {},
   "source": [
    "爆内存了"
   ]
  },
  {
   "cell_type": "code",
   "execution_count": 5,
   "id": "cbfb0e1d",
   "metadata": {},
   "outputs": [],
   "source": [
    "class Solution:\n",
    "    def soupServings(self, n: int) -> float:\n",
    "        p = 0\n",
    "        res = [(n,n,0)]\n",
    "        def build(l:List[tuple]):\n",
    "            nonlocal p\n",
    "            if not l:\n",
    "                return\n",
    "            A,B,n = l.pop()\n",
    "            curl = [(A-100,B),(A-75,B-25),(A-50,B-50),(A-25,B-75)]\n",
    "#             print(curl)\n",
    "            for curA,curB in curl:\n",
    "                if curA > 0 and curB > 0:\n",
    "                    l.append((curA,curB,n+1))\n",
    "                elif curA <= 0 or curB <= 0:\n",
    "                    if curA <= 0:\n",
    "                        p += 0.5 * pow(0.25,n+1) if curB <= 0 else pow(0.25,n+1)\n",
    "#                 print(l,p)\n",
    "            return build(l)\n",
    "        build(res)\n",
    "        return p"
   ]
  },
  {
   "cell_type": "code",
   "execution_count": 6,
   "id": "3ba66127",
   "metadata": {},
   "outputs": [
    {
     "data": {
      "text/plain": [
       "0.71875"
      ]
     },
     "execution_count": 6,
     "metadata": {},
     "output_type": "execute_result"
    }
   ],
   "source": [
    "s = Solution()\n",
    "s.soupServings(100)"
   ]
  },
  {
   "cell_type": "markdown",
   "id": "017d40c2",
   "metadata": {},
   "source": [
    "超时了"
   ]
  },
  {
   "cell_type": "code",
   "execution_count": 20,
   "id": "d0d95285",
   "metadata": {},
   "outputs": [],
   "source": [
    "from collections import defaultdict\n",
    "class Solution:\n",
    "    def soupServings(self, n: int) -> float:\n",
    "        p = defaultdict(int)\n",
    "        res = [(n,n,0)]\n",
    "        \n",
    "        def build(l:List[tuple]):\n",
    "            nonlocal p\n",
    "            if not l:\n",
    "                return\n",
    "            A,B,n = l.pop()\n",
    "            curl = [(A-100,B),(A-75,B-25),(A-50,B-50),(A-25,B-75)]\n",
    "            print(curl)\n",
    "            for curA,curB in curl:\n",
    "                if curA > 0 and curB > 0:\n",
    "                    l.append((curA,curB,n+1))\n",
    "                elif curA <= 0 or curB <= 0:\n",
    "                    if curA <= 0:\n",
    "                        p[n+1] += 0.5 if curB <= 0 else 1\n",
    "#                 print(p)\n",
    "            return build(l)\n",
    "        build(res)\n",
    "        return p"
   ]
  },
  {
   "cell_type": "code",
   "execution_count": 21,
   "id": "63a89b7c",
   "metadata": {},
   "outputs": [
    {
     "name": "stdout",
     "output_type": "stream",
     "text": [
      "[(100, 200), (125, 175), (150, 150), (175, 125)]\n",
      "[(75, 125), (100, 100), (125, 75), (150, 50)]\n",
      "[(50, 50), (75, 25), (100, 0), (125, -25)]\n",
      "[(-25, 25), (0, 0), (25, -25), (50, -50)]\n",
      "[(-50, 50), (-25, 25), (0, 0), (25, -25)]\n",
      "[(25, 75), (50, 50), (75, 25), (100, 0)]\n",
      "[(-25, 25), (0, 0), (25, -25), (50, -50)]\n",
      "[(-50, 50), (-25, 25), (0, 0), (25, -25)]\n",
      "[(-75, 75), (-50, 50), (-25, 25), (0, 0)]\n",
      "[(0, 100), (25, 75), (50, 50), (75, 25)]\n",
      "[(-25, 25), (0, 0), (25, -25), (50, -50)]\n",
      "[(-50, 50), (-25, 25), (0, 0), (25, -25)]\n",
      "[(-75, 75), (-50, 50), (-25, 25), (0, 0)]\n",
      "[(-25, 125), (0, 100), (25, 75), (50, 50)]\n",
      "[(-50, 50), (-25, 25), (0, 0), (25, -25)]\n",
      "[(-75, 75), (-50, 50), (-25, 25), (0, 0)]\n",
      "[(50, 150), (75, 125), (100, 100), (125, 75)]\n",
      "[(25, 75), (50, 50), (75, 25), (100, 0)]\n",
      "[(-25, 25), (0, 0), (25, -25), (50, -50)]\n",
      "[(-50, 50), (-25, 25), (0, 0), (25, -25)]\n",
      "[(-75, 75), (-50, 50), (-25, 25), (0, 0)]\n",
      "[(0, 100), (25, 75), (50, 50), (75, 25)]\n",
      "[(-25, 25), (0, 0), (25, -25), (50, -50)]\n",
      "[(-50, 50), (-25, 25), (0, 0), (25, -25)]\n",
      "[(-75, 75), (-50, 50), (-25, 25), (0, 0)]\n",
      "[(-25, 125), (0, 100), (25, 75), (50, 50)]\n",
      "[(-50, 50), (-25, 25), (0, 0), (25, -25)]\n",
      "[(-75, 75), (-50, 50), (-25, 25), (0, 0)]\n",
      "[(-50, 150), (-25, 125), (0, 100), (25, 75)]\n",
      "[(-75, 75), (-50, 50), (-25, 25), (0, 0)]\n",
      "[(25, 175), (50, 150), (75, 125), (100, 100)]\n",
      "[(0, 100), (25, 75), (50, 50), (75, 25)]\n",
      "[(-25, 25), (0, 0), (25, -25), (50, -50)]\n",
      "[(-50, 50), (-25, 25), (0, 0), (25, -25)]\n",
      "[(-75, 75), (-50, 50), (-25, 25), (0, 0)]\n",
      "[(-25, 125), (0, 100), (25, 75), (50, 50)]\n",
      "[(-50, 50), (-25, 25), (0, 0), (25, -25)]\n",
      "[(-75, 75), (-50, 50), (-25, 25), (0, 0)]\n",
      "[(-50, 150), (-25, 125), (0, 100), (25, 75)]\n",
      "[(-75, 75), (-50, 50), (-25, 25), (0, 0)]\n",
      "[(-75, 175), (-50, 150), (-25, 125), (0, 100)]\n",
      "[(0, 200), (25, 175), (50, 150), (75, 125)]\n",
      "[(-25, 125), (0, 100), (25, 75), (50, 50)]\n",
      "[(-50, 50), (-25, 25), (0, 0), (25, -25)]\n",
      "[(-75, 75), (-50, 50), (-25, 25), (0, 0)]\n",
      "[(-50, 150), (-25, 125), (0, 100), (25, 75)]\n",
      "[(-75, 75), (-50, 50), (-25, 25), (0, 0)]\n",
      "[(-75, 175), (-50, 150), (-25, 125), (0, 100)]\n"
     ]
    },
    {
     "data": {
      "text/plain": [
       "defaultdict(int, {4: 76.0, 3: 28, 2: 1})"
      ]
     },
     "execution_count": 21,
     "metadata": {},
     "output_type": "execute_result"
    }
   ],
   "source": [
    "s = Solution()\n",
    "s.soupServings(200)"
   ]
  },
  {
   "cell_type": "markdown",
   "id": "ccce2686",
   "metadata": {},
   "source": [
    "指数爆炸"
   ]
  },
  {
   "cell_type": "markdown",
   "id": "5fc4c1b1",
   "metadata": {},
   "source": [
    "肯定是dp用memo哈希表存信息但是要考虑键是什么的问题"
   ]
  },
  {
   "cell_type": "code",
   "execution_count": 19,
   "id": "0b59a469",
   "metadata": {},
   "outputs": [
    {
     "name": "stdout",
     "output_type": "stream",
     "text": [
      "1\n"
     ]
    }
   ],
   "source": [
    "a = {((1,2),(3,4)):1}\n",
    "if ((1,2),(3,4)) in a:\n",
    "    print(a[((1,2),(3,4))])"
   ]
  },
  {
   "cell_type": "code",
   "execution_count": null,
   "id": "826000fb",
   "metadata": {},
   "outputs": [],
   "source": [
    "from collections import defaultdict\n",
    "class Solution:\n",
    "    def soupServings(self, n: int) -> float:\n",
    "        p = defaultdict(int)\n",
    "        res = [(n,n,0)]\n",
    "        \n",
    "        def build(l:List[tuple]):\n",
    "            nonlocal p\n",
    "            if not l:\n",
    "                return\n",
    "            A,B,n = l.pop()\n",
    "            curl = [(A-100,B),(A-75,B-25),(A-50,B-50),(A-25,B-75)]\n",
    "            print(curl)\n",
    "            for curA,curB in curl:\n",
    "                if curA > 0 and curB > 0:\n",
    "                    l.append((curA,curB,n+1))\n",
    "                elif curA <= 0 or curB <= 0:\n",
    "                    if curA <= 0:\n",
    "                        p[n+1] += 0.5 if curB <= 0 else 1\n",
    "#                 print(p)\n",
    "            return build(l)\n",
    "        build(res)\n",
    "        return p"
   ]
  },
  {
   "cell_type": "code",
   "execution_count": null,
   "id": "8a66e3fb",
   "metadata": {},
   "outputs": [],
   "source": [
    "from collections import defaultdict\n",
    "class Solution:\n",
    "    def soupServings(self, n: int) -> float:\n",
    "        memo = {}\n",
    "        p = 0\n",
    "        plans = []\n",
    "        \n",
    "        def servings(plans):\n",
    "            if not plans:\n",
    "                return \n",
    "            \n",
    "            nonlocal p\n",
    "            A, B, m = plans.pop()\n",
    "            if (A, B) in memo:\n",
    "                p += memo[(A, B)]\n",
    "                return servings(plans)\n",
    "            \n",
    "            for i in range(4):\n",
    "                curA = max(0, A - 100 + 25*i)\n",
    "                curB = max(0, B - 25*i)\n",
    "                if curA and curB:\n",
    "                    plans.append((curA, curB, m+1))\n",
    "                "
   ]
  },
  {
   "cell_type": "code",
   "execution_count": 27,
   "id": "fd059a0a",
   "metadata": {},
   "outputs": [],
   "source": [
    "from collections import defaultdict\n",
    "class Solution:\n",
    "    def soupServings(self, n: int) -> float:\n",
    "        if n >= 12500: return 1\n",
    "        memo = {}\n",
    "        def servings(A, B):\n",
    "#             print(memo)\n",
    "            if (A, B) in memo:\n",
    "#                 print('*****************************')\n",
    "                return 0.25*memo[(A, B)]\n",
    "            if not B and A:\n",
    "                return 0\n",
    "            if not A and B:\n",
    "                return 1\n",
    "            if not A and not B:\n",
    "                return 0.5\n",
    "            p = 0\n",
    "            for i in range(4):\n",
    "                curA = max(0, A - 100 + 25*i)\n",
    "                curB = max(0, B - 25*i)\n",
    "                p += servings(curA, curB)\n",
    "            \n",
    "            memo[(A, B)] = p\n",
    "            return 0.25*p\n",
    "        \n",
    "        return servings(n,n)"
   ]
  },
  {
   "cell_type": "code",
   "execution_count": 28,
   "id": "3945f8c1",
   "metadata": {},
   "outputs": [
    {
     "data": {
      "text/plain": [
       "0.7578125"
      ]
     },
     "execution_count": 28,
     "metadata": {},
     "output_type": "execute_result"
    }
   ],
   "source": [
    "s = Solution()\n",
    "s.soupServings(126)"
   ]
  },
  {
   "cell_type": "markdown",
   "id": "dfe6ebe6",
   "metadata": {},
   "source": [
    "递归栈溢出了"
   ]
  },
  {
   "cell_type": "markdown",
   "id": "bd9d70d3",
   "metadata": {},
   "source": [
    "问题变为如何把递归改为迭代"
   ]
  },
  {
   "cell_type": "markdown",
   "id": "4bdb2ae6",
   "metadata": {},
   "source": [
    "660295675还是超时，递归栈堆了几十万层"
   ]
  },
  {
   "cell_type": "markdown",
   "id": "558d7cb0",
   "metadata": {},
   "source": [
    "啥比题"
   ]
  },
  {
   "cell_type": "markdown",
   "id": "9eba8f05",
   "metadata": {},
   "source": [
    "if n >= 12500: return 1"
   ]
  },
  {
   "cell_type": "markdown",
   "id": "427e3e05",
   "metadata": {},
   "source": [
    "## 655. 输出二叉树 （8.22）"
   ]
  },
  {
   "cell_type": "code",
   "execution_count": 55,
   "id": "72d0515b",
   "metadata": {},
   "outputs": [],
   "source": [
    "class Solution:\n",
    "    def printTree(self, root: Optional[TreeNode]) -> List[List[str]]:\n",
    "        h = 0\n",
    "        nodes = defaultdict(list)\n",
    "        def findmaxlayer(root, layer):\n",
    "            nonlocal h\n",
    "            if not root:\n",
    "                h = max(layer, h)\n",
    "                return\n",
    "            findmaxlayer(root.left, layer+1)\n",
    "            nodes[layer].append(root.val)\n",
    "            findmaxlayer(root.right, layer+1)\n",
    "            return nodes\n",
    "        \n",
    "        m = h + 1\n",
    "        n = pow(2, h+1) - 1\n",
    "        \n",
    "        return findmaxlayer(root,-1)"
   ]
  },
  {
   "cell_type": "code",
   "execution_count": 56,
   "id": "12c46739",
   "metadata": {},
   "outputs": [],
   "source": [
    "nums = [1,2,3,4,5,6,7,None,8,None,9]\n",
    "head = constructTree(nums)"
   ]
  },
  {
   "cell_type": "code",
   "execution_count": 57,
   "id": "98a32d99",
   "metadata": {},
   "outputs": [
    {
     "data": {
      "text/plain": [
       "defaultdict(list, {1: [4, 5, 6, 7], 2: [8, 9], 0: [2, 3], -1: [1]})"
      ]
     },
     "execution_count": 57,
     "metadata": {},
     "output_type": "execute_result"
    }
   ],
   "source": [
    "s = Solution()\n",
    "s.printTree(head)"
   ]
  },
  {
   "cell_type": "code",
   "execution_count": 59,
   "id": "2505a8d5",
   "metadata": {},
   "outputs": [],
   "source": [
    "class Solution:\n",
    "    def printTree(self, root: Optional[TreeNode]) -> List[List[str]]:\n",
    "        h = n = 0\n",
    "        nodes = []\n",
    "        def findpos(fpos,node):\n",
    "            pass\n",
    "        \n",
    "        \n",
    "        def maxDepth(root):\n",
    "            if not root:\n",
    "                return 0\n",
    "            leftDepth = maxDepth(root.left)\n",
    "            rightDepth = maxDepth(root.right)\n",
    "            return max(leftDepth, rightDepth) + 1\n",
    "        h = maxDepth(root)\n",
    "        m = h + 1\n",
    "        n = pow(2, h+1) - 1\n",
    "        \n",
    "        "
   ]
  },
  {
   "cell_type": "markdown",
   "id": "27869517",
   "metadata": {},
   "source": [
    "不做这题了"
   ]
  },
  {
   "cell_type": "markdown",
   "id": "d695a3a6",
   "metadata": {},
   "source": [
    "还是继续做吧\n"
   ]
  },
  {
   "cell_type": "code",
   "execution_count": 78,
   "id": "ede8e8d0",
   "metadata": {},
   "outputs": [],
   "source": [
    "class Solution:\n",
    "    def printTree(self, root: Optional[TreeNode]) -> List[List[str]]:\n",
    "        \n",
    "        def maxDepth(root):\n",
    "            if not root:\n",
    "                return -1\n",
    "            leftDepth = maxDepth(root.left)\n",
    "            rightDepth = maxDepth(root.right)\n",
    "            return max(leftDepth, rightDepth) + 1\n",
    "        h = maxDepth(root)\n",
    "#         print(h)\n",
    "        m = h + 1\n",
    "        n = pow(2, m) - 1\n",
    "        res = [[\"\" for i in range(n)] for i in range(m)]\n",
    "        nodes = [(root, 0, (n-1)//2)]\n",
    "        \n",
    "        while nodes:\n",
    "            cur, r, c = nodes.pop()\n",
    "            res[r][c] = str(cur.val)\n",
    "            if cur.left:\n",
    "                nodes.append((cur.left, r+1, c-pow(2,h-r-1)))\n",
    "            if cur.right:\n",
    "                nodes.append((cur.right, r+1, c+pow(2,h-r-1)))\n",
    "        \n",
    "        return res"
   ]
  },
  {
   "cell_type": "code",
   "execution_count": 79,
   "id": "b7ae14fb",
   "metadata": {},
   "outputs": [],
   "source": [
    "nums = [1,2,3,4,5,6,7,8,9]\n",
    "head = constructTree(nums)"
   ]
  },
  {
   "cell_type": "code",
   "execution_count": 80,
   "id": "60d73794",
   "metadata": {},
   "outputs": [
    {
     "data": {
      "text/plain": [
       "[['', '', '', '', '', '', '', '1', '', '', '', '', '', '', ''],\n",
       " ['', '', '', '2', '', '', '', '', '', '', '', '3', '', '', ''],\n",
       " ['', '4', '', '', '', '5', '', '', '', '6', '', '', '', '7', ''],\n",
       " ['8', '', '9', '', '', '', '', '', '', '', '', '', '', '', '']]"
      ]
     },
     "execution_count": 80,
     "metadata": {},
     "output_type": "execute_result"
    }
   ],
   "source": [
    "s = Solution()\n",
    "s.printTree(head)"
   ]
  },
  {
   "cell_type": "markdown",
   "id": "4c7a82ad",
   "metadata": {},
   "source": [
    "## 1200. 最小绝对差"
   ]
  },
  {
   "cell_type": "code",
   "execution_count": 101,
   "id": "92440427",
   "metadata": {},
   "outputs": [],
   "source": [
    "from collections import deque\n",
    "class Solution:\n",
    "    def minimumAbsDifference(self, arr: List[int]) -> List[List[int]]:\n",
    "        arr.sort()\n",
    "        res = deque()\n",
    "        d = abs(arr[0]-arr[1])\n",
    "#         print(arr)\n",
    "        for i in range(len(arr)-1):\n",
    "#             print(d)\n",
    "            if abs(arr[i]-arr[i+1]) == d:\n",
    "                res.append([arr[i],arr[i+1]])\n",
    "            elif abs(arr[i]-arr[i+1]) < d:\n",
    "                d = abs(arr[i]-arr[i+1])\n",
    "                res.clear()\n",
    "                res.append([arr[i],arr[i+1]])\n",
    "        return list(res)"
   ]
  },
  {
   "cell_type": "code",
   "execution_count": 102,
   "id": "fda39975",
   "metadata": {},
   "outputs": [],
   "source": [
    "arr = [40,11,26,27,-20]"
   ]
  },
  {
   "cell_type": "code",
   "execution_count": 103,
   "id": "54509215",
   "metadata": {},
   "outputs": [
    {
     "name": "stdout",
     "output_type": "stream",
     "text": [
      "[-20, 11, 26, 27, 40]\n",
      "31\n",
      "31\n",
      "15\n",
      "1\n"
     ]
    },
    {
     "data": {
      "text/plain": [
       "[[26, 27]]"
      ]
     },
     "execution_count": 103,
     "metadata": {},
     "output_type": "execute_result"
    }
   ],
   "source": [
    "s = Solution()\n",
    "s.minimumAbsDifference(arr)"
   ]
  },
  {
   "cell_type": "code",
   "execution_count": 106,
   "id": "60b7f715",
   "metadata": {},
   "outputs": [],
   "source": [
    "class Solution:\n",
    "    def minimumAbsDifference(self, arr: List[int]) -> List[List[int]]:\n",
    "        arr.sort()\n",
    "        res = []\n",
    "        d = abs(arr[0]-arr[1])\n",
    "#         print(arr)\n",
    "        for i in range(len(arr)-1):\n",
    "#             print(d)\n",
    "            if abs(arr[i]-arr[i+1]) == d:\n",
    "                res.append([arr[i],arr[i+1]])\n",
    "            elif abs(arr[i]-arr[i+1]) < d:\n",
    "                d = abs(arr[i]-arr[i+1])\n",
    "                res = [[arr[i],arr[i+1]]]\n",
    "        return res"
   ]
  },
  {
   "cell_type": "code",
   "execution_count": 107,
   "id": "bc8ec193",
   "metadata": {},
   "outputs": [
    {
     "data": {
      "text/plain": [
       "[[26, 27]]"
      ]
     },
     "execution_count": 107,
     "metadata": {},
     "output_type": "execute_result"
    }
   ],
   "source": [
    "s = Solution()\n",
    "s.minimumAbsDifference(arr)"
   ]
  },
  {
   "cell_type": "code",
   "execution_count": 23,
   "id": "f816f50d",
   "metadata": {},
   "outputs": [
    {
     "ename": "SyntaxError",
     "evalue": "invalid syntax (<ipython-input-23-535df37ba308>, line 9)",
     "output_type": "error",
     "traceback": [
      "\u001b[1;36m  File \u001b[1;32m\"<ipython-input-23-535df37ba308>\"\u001b[1;36m, line \u001b[1;32m9\u001b[0m\n\u001b[1;33m    if (delta := arr[i + 1] - arr[i]) < best:\u001b[0m\n\u001b[1;37m              ^\u001b[0m\n\u001b[1;31mSyntaxError\u001b[0m\u001b[1;31m:\u001b[0m invalid syntax\n"
     ]
    }
   ],
   "source": [
    "# official\n",
    "class Solution:\n",
    "    def minimumAbsDifference(self, arr: List[int]) -> List[List[int]]:\n",
    "        n = len(arr)\n",
    "        arr.sort()\n",
    "\n",
    "        best, ans = float('inf'), list()\n",
    "        for i in range(n - 1):\n",
    "            if (delta := arr[i + 1] - arr[i]) < best:\n",
    "                best = delta\n",
    "                ans = [[arr[i], arr[i + 1]]]\n",
    "            elif delta == best:\n",
    "                ans.append([arr[i], arr[i + 1]])\n",
    "        \n",
    "        return ans"
   ]
  },
  {
   "cell_type": "markdown",
   "id": "12d5e0c5",
   "metadata": {},
   "source": [
    ":= 用于在表达式中进行变量赋值"
   ]
  },
  {
   "cell_type": "markdown",
   "id": "dba29ff0",
   "metadata": {},
   "source": [
    "## 1361. 验证二叉树"
   ]
  },
  {
   "cell_type": "code",
   "execution_count": 133,
   "id": "4acbd5d8",
   "metadata": {},
   "outputs": [],
   "source": [
    "from collections import defaultdict\n",
    "class Solution:\n",
    "    def validateBinaryTreeNodes(self, n: int, leftChild, rightChild) -> bool:\n",
    "        dic = defaultdict(tuple)\n",
    "        for node,child in enumerate(zip(leftChild, rightChild)):\n",
    "#             print(child)\n",
    "            dic[node] = child\n",
    "        \n",
    "        return dic"
   ]
  },
  {
   "cell_type": "code",
   "execution_count": 134,
   "id": "589ea196",
   "metadata": {},
   "outputs": [],
   "source": [
    "n = 4\n",
    "leftChild = [1,-1,3,-1]\n",
    "rightChild = [2,-1,-1,-1]"
   ]
  },
  {
   "cell_type": "code",
   "execution_count": 135,
   "id": "68a78377",
   "metadata": {},
   "outputs": [
    {
     "data": {
      "text/plain": [
       "defaultdict(tuple, {0: (1, 2), 1: (-1, -1), 2: (3, -1), 3: (-1, -1)})"
      ]
     },
     "execution_count": 135,
     "metadata": {},
     "output_type": "execute_result"
    }
   ],
   "source": [
    "s = Solution()\n",
    "s.validateBinaryTreeNodes(n,leftChild,rightChild)"
   ]
  },
  {
   "cell_type": "code",
   "execution_count": 136,
   "id": "a3f6b183",
   "metadata": {},
   "outputs": [],
   "source": [
    "n = 4\n",
    "leftChild = [1,-1,3,-1]\n",
    "rightChild = [2,3,-1,-1]"
   ]
  },
  {
   "cell_type": "code",
   "execution_count": 137,
   "id": "27487ef5",
   "metadata": {},
   "outputs": [
    {
     "data": {
      "text/plain": [
       "defaultdict(tuple, {0: (1, 2), 1: (-1, 3), 2: (3, -1), 3: (-1, -1)})"
      ]
     },
     "execution_count": 137,
     "metadata": {},
     "output_type": "execute_result"
    }
   ],
   "source": [
    "s.validateBinaryTreeNodes(n,leftChild,rightChild)"
   ]
  },
  {
   "cell_type": "markdown",
   "id": "1a5d2dfa",
   "metadata": {},
   "source": [
    "child有重复的则不是二叉树"
   ]
  },
  {
   "cell_type": "code",
   "execution_count": 138,
   "id": "2612f363",
   "metadata": {},
   "outputs": [],
   "source": [
    "n = 2\n",
    "leftChild = [1,0]\n",
    "rightChild = [-1,-1]"
   ]
  },
  {
   "cell_type": "code",
   "execution_count": 139,
   "id": "bb56f0a1",
   "metadata": {},
   "outputs": [
    {
     "data": {
      "text/plain": [
       "defaultdict(tuple, {0: (1, -1), 1: (0, -1)})"
      ]
     },
     "execution_count": 139,
     "metadata": {},
     "output_type": "execute_result"
    }
   ],
   "source": [
    "s.validateBinaryTreeNodes(n,leftChild,rightChild)"
   ]
  },
  {
   "cell_type": "markdown",
   "id": "61951240",
   "metadata": {},
   "source": [
    "乱伦的不是二叉树"
   ]
  },
  {
   "cell_type": "code",
   "execution_count": 140,
   "id": "a84abc55",
   "metadata": {},
   "outputs": [],
   "source": [
    "n = 6\n",
    "leftChild = [1,-1,-1,4,-1,-1]\n",
    "rightChild = [2,-1,-1,5,-1,-1]"
   ]
  },
  {
   "cell_type": "code",
   "execution_count": 141,
   "id": "ed7b3a52",
   "metadata": {},
   "outputs": [
    {
     "data": {
      "text/plain": [
       "defaultdict(tuple,\n",
       "            {0: (1, 2),\n",
       "             1: (-1, -1),\n",
       "             2: (-1, -1),\n",
       "             3: (4, 5),\n",
       "             4: (-1, -1),\n",
       "             5: (-1, -1)})"
      ]
     },
     "execution_count": 141,
     "metadata": {},
     "output_type": "execute_result"
    }
   ],
   "source": [
    "s.validateBinaryTreeNodes(n,leftChild,rightChild)"
   ]
  },
  {
   "cell_type": "markdown",
   "id": "58b83f06",
   "metadata": {},
   "source": [
    "无法通过根节点访问完所有节点的不是二叉树"
   ]
  },
  {
   "cell_type": "code",
   "execution_count": 56,
   "id": "bab6ed1f",
   "metadata": {},
   "outputs": [],
   "source": [
    "class Solution:\n",
    "    def validateBinaryTreeNodes(self, n: int, leftChild, rightChild) -> bool:\n",
    "        res,stk = [0],[0]\n",
    "        while stk:\n",
    "#             print(res,stk)\n",
    "            cur = stk.pop()\n",
    "            if leftChild[cur] != -1:\n",
    "#                 print('***',leftChild[cur],cur,res)\n",
    "                if leftChild[cur] in res or leftChild[cur] <= cur:\n",
    "                    return False\n",
    "                stk.append(leftChild[cur])\n",
    "                res.append(leftChild[cur])\n",
    "            if rightChild[cur] != -1:\n",
    "#                 print('*****',rightChild[cur],cur,res)\n",
    "                if rightChild[cur] in res or rightChild[cur] <= cur:\n",
    "                    return False\n",
    "                stk.append(rightChild[cur])\n",
    "                res.append(rightChild[cur])\n",
    "        if len(res) != n:\n",
    "            return False\n",
    "        return True"
   ]
  },
  {
   "cell_type": "code",
   "execution_count": 59,
   "id": "7db51806",
   "metadata": {},
   "outputs": [],
   "source": [
    "n = 4\n",
    "leftChild = [3,-1,1,-1]\n",
    "rightChild = [-1,-1,0,-1]"
   ]
  },
  {
   "cell_type": "code",
   "execution_count": 60,
   "id": "746dee32",
   "metadata": {},
   "outputs": [
    {
     "data": {
      "text/plain": [
       "False"
      ]
     },
     "execution_count": 60,
     "metadata": {},
     "output_type": "execute_result"
    }
   ],
   "source": [
    "s = Solution()\n",
    "s.validateBinaryTreeNodes(n,leftChild,rightChild)"
   ]
  },
  {
   "cell_type": "code",
   "execution_count": 67,
   "id": "f8fdeb94",
   "metadata": {},
   "outputs": [],
   "source": [
    "class Solution:\n",
    "    def validateBinaryTreeNodes(self, n: int, leftChild, rightChild) -> bool:\n",
    "        res,stk = [0],[0]\n",
    "        while stk:\n",
    "            print(res,stk)\n",
    "            cur = stk.pop()\n",
    "            if leftChild[cur] != -1:\n",
    "                print('***',leftChild[cur],res)\n",
    "                if leftChild[cur] in res:\n",
    "                    return False\n",
    "                stk.append(leftChild[cur])\n",
    "                res.append(leftChild[cur])\n",
    "            if rightChild[cur] != -1:\n",
    "                print('*****',rightChild[cur],res)\n",
    "                if rightChild[cur] in res:\n",
    "                    return False\n",
    "                stk.append(rightChild[cur])\n",
    "                res.append(rightChild[cur])\n",
    "        if len(res) != n:\n",
    "            return False\n",
    "        return True"
   ]
  },
  {
   "cell_type": "code",
   "execution_count": 68,
   "id": "2352c5b0",
   "metadata": {},
   "outputs": [],
   "source": [
    "n = 4\n",
    "leftChild = [3,-1,1,-1]\n",
    "rightChild = [-1,-1,0,-1]"
   ]
  },
  {
   "cell_type": "code",
   "execution_count": 69,
   "id": "f81222ef",
   "metadata": {},
   "outputs": [
    {
     "name": "stdout",
     "output_type": "stream",
     "text": [
      "[0] [0]\n",
      "*** 3 [0]\n",
      "[0, 3] [3]\n"
     ]
    },
    {
     "data": {
      "text/plain": [
       "False"
      ]
     },
     "execution_count": 69,
     "metadata": {},
     "output_type": "execute_result"
    }
   ],
   "source": [
    "s = Solution()\n",
    "s.validateBinaryTreeNodes(n,leftChild,rightChild)"
   ]
  },
  {
   "cell_type": "code",
   "execution_count": 73,
   "id": "a996f3da",
   "metadata": {},
   "outputs": [],
   "source": [
    "class Solution:\n",
    "    def validateBinaryTreeNodes(self, n: int, leftChild, rightChild) -> bool:\n",
    "        res = [0]\n",
    "        for i, kids in enumerate(zip(leftChild,rightChild)):\n",
    "            if i in res: continue\n",
    "            stk = [i]\n",
    "            while stk:\n",
    "                cur = stk.pop()\n",
    "                if leftChild[cur] != -1:\n",
    "                    print('***',leftChild[cur],res)\n",
    "                    if leftChild[cur] in res:\n",
    "                        return False\n",
    "                    stk.append(leftChild[cur])\n",
    "                    res.append(leftChild[cur])\n",
    "                if rightChild[cur] != -1:\n",
    "                    print('*****',rightChild[cur],res)\n",
    "                    if rightChild[cur] in res:\n",
    "                        return False\n",
    "                    stk.append(rightChild[cur])\n",
    "                    res.append(rightChild[cur])\n",
    "        return True"
   ]
  },
  {
   "cell_type": "code",
   "execution_count": 74,
   "id": "c9ee0376",
   "metadata": {},
   "outputs": [],
   "source": [
    "n = 6\n",
    "leftChild = [1,-1,-1,4,-1,-1]\n",
    "rightChild = [2,-1,-1,5,-1,-1]"
   ]
  },
  {
   "cell_type": "code",
   "execution_count": 75,
   "id": "7c5df893",
   "metadata": {},
   "outputs": [
    {
     "name": "stdout",
     "output_type": "stream",
     "text": [
      "*** 4 [0]\n",
      "***** 5 [0, 4]\n"
     ]
    },
    {
     "data": {
      "text/plain": [
       "True"
      ]
     },
     "execution_count": 75,
     "metadata": {},
     "output_type": "execute_result"
    }
   ],
   "source": [
    "s = Solution()\n",
    "s.validateBinaryTreeNodes(n,leftChild,rightChild)"
   ]
  },
  {
   "cell_type": "code",
   "execution_count": null,
   "id": "23e23290",
   "metadata": {},
   "outputs": [],
   "source": []
  },
  {
   "cell_type": "code",
   "execution_count": null,
   "id": "990ecd14",
   "metadata": {},
   "outputs": [],
   "source": []
  },
  {
   "cell_type": "code",
   "execution_count": null,
   "id": "dbff23b5",
   "metadata": {},
   "outputs": [],
   "source": []
  },
  {
   "cell_type": "code",
   "execution_count": null,
   "id": "2751d47a",
   "metadata": {},
   "outputs": [],
   "source": []
  },
  {
   "cell_type": "code",
   "execution_count": null,
   "id": "5b567f8e",
   "metadata": {},
   "outputs": [],
   "source": []
  },
  {
   "cell_type": "markdown",
   "id": "e5a48cb5",
   "metadata": {},
   "source": [
    "## 1460. 通过翻转子数组使两个数组相等 （8.24）"
   ]
  },
  {
   "cell_type": "code",
   "execution_count": 3,
   "id": "2f0829b3",
   "metadata": {},
   "outputs": [],
   "source": [
    "class Solution:\n",
    "    def canBeEqual(self, target: List[int], arr: List[int]) -> bool:\n",
    "        return set(target) == set(arr)"
   ]
  },
  {
   "cell_type": "code",
   "execution_count": 4,
   "id": "4dbb9642",
   "metadata": {},
   "outputs": [],
   "source": [
    "target = [1,2,3,4]\n",
    "arr = [2,4,1,3]"
   ]
  },
  {
   "cell_type": "code",
   "execution_count": 5,
   "id": "83109b4c",
   "metadata": {},
   "outputs": [
    {
     "data": {
      "text/plain": [
       "True"
      ]
     },
     "execution_count": 5,
     "metadata": {},
     "output_type": "execute_result"
    }
   ],
   "source": [
    "s = Solution()\n",
    "s.canBeEqual(target,arr)"
   ]
  },
  {
   "cell_type": "markdown",
   "id": "28171f7f",
   "metadata": {},
   "source": [
    "草，104/106"
   ]
  },
  {
   "cell_type": "code",
   "execution_count": 8,
   "id": "4db19422",
   "metadata": {},
   "outputs": [],
   "source": [
    "from collections import Counter\n",
    "class Solution:\n",
    "    def canBeEqual(self, target: List[int], arr: List[int]) -> bool:\n",
    "        return Counter(target)==Counter(arr)"
   ]
  },
  {
   "cell_type": "code",
   "execution_count": 11,
   "id": "5400f627",
   "metadata": {},
   "outputs": [],
   "source": [
    "target = [1,2,3,4]\n",
    "arr = [2,4,1,3]"
   ]
  },
  {
   "cell_type": "code",
   "execution_count": 12,
   "id": "7bb8945c",
   "metadata": {},
   "outputs": [
    {
     "data": {
      "text/plain": [
       "True"
      ]
     },
     "execution_count": 12,
     "metadata": {},
     "output_type": "execute_result"
    }
   ],
   "source": [
    "s = Solution()\n",
    "s.canBeEqual(target,arr)"
   ]
  },
  {
   "cell_type": "code",
   "execution_count": null,
   "id": "8b2fd197",
   "metadata": {},
   "outputs": [],
   "source": []
  },
  {
   "cell_type": "code",
   "execution_count": null,
   "id": "888c3c9a",
   "metadata": {},
   "outputs": [],
   "source": []
  },
  {
   "cell_type": "code",
   "execution_count": null,
   "id": "84da38c2",
   "metadata": {},
   "outputs": [],
   "source": []
  },
  {
   "cell_type": "code",
   "execution_count": null,
   "id": "9109dc57",
   "metadata": {},
   "outputs": [],
   "source": []
  },
  {
   "cell_type": "code",
   "execution_count": null,
   "id": "c93139d8",
   "metadata": {},
   "outputs": [],
   "source": []
  },
  {
   "cell_type": "code",
   "execution_count": null,
   "id": "efccd11e",
   "metadata": {},
   "outputs": [],
   "source": []
  },
  {
   "cell_type": "code",
   "execution_count": null,
   "id": "69e4f63a",
   "metadata": {},
   "outputs": [],
   "source": []
  },
  {
   "cell_type": "code",
   "execution_count": null,
   "id": "7104f802",
   "metadata": {},
   "outputs": [],
   "source": []
  },
  {
   "cell_type": "code",
   "execution_count": null,
   "id": "beeb281f",
   "metadata": {},
   "outputs": [],
   "source": []
  },
  {
   "cell_type": "code",
   "execution_count": null,
   "id": "8bb76974",
   "metadata": {},
   "outputs": [],
   "source": []
  },
  {
   "cell_type": "code",
   "execution_count": null,
   "id": "53bcf5ec",
   "metadata": {},
   "outputs": [],
   "source": []
  },
  {
   "cell_type": "code",
   "execution_count": null,
   "id": "b73de52d",
   "metadata": {},
   "outputs": [],
   "source": []
  },
  {
   "cell_type": "code",
   "execution_count": null,
   "id": "cae755a7",
   "metadata": {},
   "outputs": [],
   "source": []
  },
  {
   "cell_type": "code",
   "execution_count": null,
   "id": "2ffe2e34",
   "metadata": {},
   "outputs": [],
   "source": []
  },
  {
   "cell_type": "code",
   "execution_count": null,
   "id": "3804e399",
   "metadata": {},
   "outputs": [],
   "source": []
  },
  {
   "cell_type": "code",
   "execution_count": null,
   "id": "18086851",
   "metadata": {},
   "outputs": [],
   "source": []
  },
  {
   "cell_type": "code",
   "execution_count": null,
   "id": "17b64afa",
   "metadata": {},
   "outputs": [],
   "source": []
  },
  {
   "cell_type": "code",
   "execution_count": null,
   "id": "22bb12be",
   "metadata": {},
   "outputs": [],
   "source": []
  },
  {
   "cell_type": "code",
   "execution_count": null,
   "id": "d16f2233",
   "metadata": {},
   "outputs": [],
   "source": []
  },
  {
   "cell_type": "code",
   "execution_count": null,
   "id": "4fa8290e",
   "metadata": {},
   "outputs": [],
   "source": []
  },
  {
   "cell_type": "code",
   "execution_count": null,
   "id": "d310e926",
   "metadata": {},
   "outputs": [],
   "source": []
  },
  {
   "cell_type": "code",
   "execution_count": null,
   "id": "1c17bf3e",
   "metadata": {},
   "outputs": [],
   "source": []
  },
  {
   "cell_type": "code",
   "execution_count": null,
   "id": "f306184a",
   "metadata": {},
   "outputs": [],
   "source": []
  },
  {
   "cell_type": "code",
   "execution_count": null,
   "id": "bbe17b7c",
   "metadata": {},
   "outputs": [],
   "source": []
  },
  {
   "cell_type": "code",
   "execution_count": null,
   "id": "7c814a9b",
   "metadata": {},
   "outputs": [],
   "source": []
  },
  {
   "cell_type": "code",
   "execution_count": null,
   "id": "b0ccd826",
   "metadata": {},
   "outputs": [],
   "source": []
  },
  {
   "cell_type": "code",
   "execution_count": null,
   "id": "4150781c",
   "metadata": {},
   "outputs": [],
   "source": []
  },
  {
   "cell_type": "code",
   "execution_count": null,
   "id": "4ecfcbfa",
   "metadata": {},
   "outputs": [],
   "source": []
  },
  {
   "cell_type": "code",
   "execution_count": null,
   "id": "8f67e923",
   "metadata": {},
   "outputs": [],
   "source": []
  },
  {
   "cell_type": "code",
   "execution_count": null,
   "id": "5b39498a",
   "metadata": {},
   "outputs": [],
   "source": []
  },
  {
   "cell_type": "code",
   "execution_count": null,
   "id": "30515747",
   "metadata": {},
   "outputs": [],
   "source": []
  },
  {
   "cell_type": "code",
   "execution_count": null,
   "id": "e0876404",
   "metadata": {},
   "outputs": [],
   "source": []
  },
  {
   "cell_type": "code",
   "execution_count": null,
   "id": "10e83b9f",
   "metadata": {},
   "outputs": [],
   "source": []
  },
  {
   "cell_type": "code",
   "execution_count": null,
   "id": "ef7672f4",
   "metadata": {},
   "outputs": [],
   "source": []
  },
  {
   "cell_type": "code",
   "execution_count": null,
   "id": "071f4b48",
   "metadata": {},
   "outputs": [],
   "source": []
  },
  {
   "cell_type": "code",
   "execution_count": null,
   "id": "64c25ab2",
   "metadata": {},
   "outputs": [],
   "source": []
  },
  {
   "cell_type": "code",
   "execution_count": null,
   "id": "df73d027",
   "metadata": {},
   "outputs": [],
   "source": []
  }
 ],
 "metadata": {
  "kernelspec": {
   "display_name": "Python 3 (ipykernel)",
   "language": "python",
   "name": "python3"
  },
  "language_info": {
   "codemirror_mode": {
    "name": "ipython",
    "version": 3
   },
   "file_extension": ".py",
   "mimetype": "text/x-python",
   "name": "python",
   "nbconvert_exporter": "python",
   "pygments_lexer": "ipython3",
   "version": "3.6.3"
  }
 },
 "nbformat": 4,
 "nbformat_minor": 5
}
