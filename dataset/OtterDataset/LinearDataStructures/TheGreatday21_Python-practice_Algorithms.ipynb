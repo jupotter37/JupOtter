{
 "cells": [
  {
   "cell_type": "markdown",
   "metadata": {},
   "source": [
    "## An algorithm\n",
    "- This is the amount of steps it takes to solve a problem \n",
    "\n",
    "- It is a finite(it ends) ordered(the order you follow matters ) set of unambiguous instructions(clearly defined instructions ) that define a process (something can be accomplished ) that  will eventually terminate (reach the end of th instructions and the process).\n",
    "\n",
    "\n",
    "- For example humans use natural languages to communicate while computers use binary languages to communicate like the ASCII \n",
    "..Us humans use programming languages to talk to pcs\n",
    "\n"
   ]
  },
  {
   "cell_type": "code",
   "execution_count": 1,
   "metadata": {},
   "outputs": [
    {
     "name": "stdout",
     "output_type": "stream",
     "text": [
      "0\n",
      "1\n",
      "3\n",
      "6\n",
      "10\n",
      "15\n",
      "21\n",
      "28\n",
      "36\n",
      "45\n",
      "Your sum is 45\n"
     ]
    }
   ],
   "source": [
    "# A simple addition algorithm\n",
    "number = [0,1,2,3,4,5,6,7,8,9]\n",
    "total = 0 \n",
    "for x in number:\n",
    "    total = total + x\n",
    "    print(total)\n",
    "\n",
    "print(f'Your sum is {total}')"
   ]
  },
  {
   "cell_type": "markdown",
   "metadata": {},
   "source": [
    "   ### The Algorithmic mindset \n",
    "1. Write down the problem in plain text\n",
    "2. Sketch a plan with flowcharts and pseudo code \n",
    "3. Start programming based on your plan \n",
    "4. Run the program see if it solves the problem "
   ]
  },
  {
   "cell_type": "markdown",
   "metadata": {},
   "source": [
    "### The four cornerstones of computational thinking \n",
    "- Decomposition - breaking down data into smaller understandable bits \n",
    "- Pattern recognition - Noticing similarities between different data and processes. Technically re-using  solutions cause programmers are lazy niggas lol\n",
    "- Abstraction - Taking out unnecessary things and making it easier to understand. \n",
    "- Algorithm development - Using all the tools to develop an unambiguous/precise  ordered set of instructions.. It should be able to be applied generally .    This is generally done with pseudo code or flow charts .\n"
   ]
  },
  {
   "cell_type": "markdown",
   "metadata": {},
   "source": [
    "We can implement our algorithmic idea through either pseudo code or flow charts \n",
    "\n",
    "- Pseudo code \n",
    "1. Write an algorithm that determines the number of As a student has</br>\n",
    "a) Set A = 0</br>\n",
    "b) For each student record in list </br>\n",
    "    c) Get grade of student greater than 80%</br>\n",
    "    d) Increase number of A by 1</br>\n",
    "e) Output the number of As got by the student </br>\n",
    "\n",
    "\n",
    "- Flow chart </br> \n",
    "ALways starts and ends  with the circular shape </br>\n",
    "Logical questioning/ decision making like is this greater than or equal to we use the kite shape </br>\n",
    "For simple operations in the flowchart we use rectangular shape \n",
    "</br>\n",
    "For outputs and inputs we use the parallelograms. \n",
    "\n"
   ]
  },
  {
   "cell_type": "markdown",
   "metadata": {},
   "source": [
    "In python we use Modules (These are packages of code we can call to extend the functionality of programs in python~ These modules are packed with functions)"
   ]
  },
  {
   "cell_type": "code",
   "execution_count": null,
   "metadata": {},
   "outputs": [],
   "source": [
    "# Example of a module \n",
    "import math \n",
    "print (math.sqrt(9))"
   ]
  },
  {
   "cell_type": "markdown",
   "metadata": {},
   "source": [
    " In algorithms we have what we call data structures </br>\n",
    " THe most common examples of data structures in python include </br>\n",
    " - Arrays\n",
    " - Stacks\n",
    " - Lists \n",
    " - Strings \n",
    " - Trees \n",
    " - Graphs \n",
    " - Recursive\n",
    "\n",
    "\n",
    "\n"
   ]
  },
  {
   "cell_type": "markdown",
   "metadata": {},
   "source": [
    "1. Array</br>\n",
    "Collection of elements of the same data type stored in contiguous memory \n",
    "- Used in sort operations (sorted_array = sorted(array))\n",
    "- Used in Searching operations (for i in range(len(array)):\n",
    "if array[i] == target_Value:\n",
    "print(\"Element found at index\", i)\n",
    "\n",
    ")\n",
    "\n",
    "2. Queues </br>\n",
    "This is a linear data structure that follows the First In First Out principle (F.I.F.O)</br>\n",
    "Some of the key terms include </br>\n",
    "    Enque - to add an element to the rear of the que </br>\n",
    "    Deque - to remove an element from the front of the que </br>\n",
    "    Peek - to see the first element on que without removing it </br>\n",
    "    IsEmpty - Check wether the que is empty </br>\n",
    "- It is used in print jobs (first come first served )\n",
    "- It is used in Breadth First Search to explore a graph level by level \n",
    "- It is used in task scheduling for a computer system \n",
    "\n",
    "3. Linked lists </br>\n",
    "This is a data structure where nodes containing data are referenced to other nodes in a sequence .</br>\n",
    "It has three types which include :\n",
    "    1. Single linked -Nodes only point to the next nodes only \n",
    "    2. Doubly linked -  Each node points to the nodes in-front of it and behind it  \n",
    "    3. Circular linked - Each node points to each other and the first node point back to the last node as well \n",
    "- It is used in implementing queues and stacks \n",
    "- It is used to manage memory allocation and reallocation \n",
    "\n",
    "4. Stacks</br>\n",
    "This is a linear data structure that follows the Last In First Out principle (L.I.F.O)\n",
    "</br>\n",
    "Some of the key terminologies include </br>\n",
    "     push -  to add to the top of the  stack </br>\n",
    "     pop -  to remove the last entered value </br>\n",
    "     IsEmpty - checks wether the stack is empty </br>\n",
    "     peek - Returns the top value of the stack without removing it </br>\n",
    "- It is used in tracking browser histories \n",
    "- It is used for undo redo operations\n",
    "- It is used in function call stacks to keep track of function calls  and returns\n",
    "\n",
    "5. Recursive </br>\n",
    "This is the data structure where a function calls itself directly or indirectly    \n",
    "\n",
    "\n"
   ]
  },
  {
   "cell_type": "markdown",
   "metadata": {},
   "source": []
  }
 ],
 "metadata": {
  "kernelspec": {
   "display_name": "Python 3",
   "language": "python",
   "name": "python3"
  },
  "language_info": {
   "codemirror_mode": {
    "name": "ipython",
    "version": 3
   },
   "file_extension": ".py",
   "mimetype": "text/x-python",
   "name": "python",
   "nbconvert_exporter": "python",
   "pygments_lexer": "ipython3",
   "version": "3.12.4"
  }
 },
 "nbformat": 4,
 "nbformat_minor": 2
}
