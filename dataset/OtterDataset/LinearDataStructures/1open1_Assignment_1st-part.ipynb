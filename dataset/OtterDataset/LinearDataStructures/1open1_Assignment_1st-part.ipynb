{
  "nbformat": 4,
  "nbformat_minor": 0,
  "metadata": {
    "colab": {
      "provenance": []
    },
    "kernelspec": {
      "name": "python3",
      "display_name": "Python 3"
    },
    "language_info": {
      "name": "python"
    }
  },
  "cells": [
    {
      "cell_type": "code",
      "execution_count": null,
      "metadata": {
        "colab": {
          "base_uri": "https://localhost:8080/"
        },
        "id": "71yN48yrCwxW",
        "outputId": "8ddfb069-db3e-4e55-f85d-913b732eced7"
      },
      "outputs": [
        {
          "output_type": "stream",
          "name": "stdout",
          "text": [
            "Pass 1: [14, 33, 27, 10, 35, 19]\n",
            "Pass 2: [14, 27, 10, 33, 19, 35]\n",
            "Pass 3: [14, 10, 27, 19, 33, 35]\n",
            "Pass 4: [10, 14, 19, 27, 33, 35]\n",
            "Sorted array: [10, 14, 19, 27, 33, 35]\n"
          ]
        }
      ],
      "source": [
        "def bubble_sort(arr):\n",
        "    n = len(arr)\n",
        "    for i in range(n):\n",
        "        swapped = False\n",
        "        print(f\"Pass {i+1}: {arr}\")\n",
        "        for j in range(0, n-i-1):\n",
        "            if arr[j] > arr[j+1]:\n",
        "                arr[j], arr[j+1] = arr[j+1], arr[j]\n",
        "                swapped = True\n",
        "        if not swapped:\n",
        "            break\n",
        "\n",
        "arr = [14, 33, 27, 10, 35, 19]\n",
        "bubble_sort(arr)\n",
        "print(\"Sorted array:\", arr)\n"
      ]
    },
    {
      "cell_type": "code",
      "source": [
        "def insertion_sort(arr):\n",
        "    for i in range(1, len(arr)):\n",
        "        key = arr[i]\n",
        "        j = i - 1\n",
        "        while j >= 0 and key < arr[j]:\n",
        "            arr[j + 1] = arr[j]\n",
        "            j -= 1\n",
        "        arr[j + 1] = key\n",
        "        print(f\"Step {i}: {arr}\")\n",
        "\n",
        "arr = [12, 11, 13, 5, 21, 56]\n",
        "insertion_sort(arr)\n",
        "print(\"Sorted array:\", arr)\n"
      ],
      "metadata": {
        "colab": {
          "base_uri": "https://localhost:8080/"
        },
        "id": "v_N6pNqzDNIv",
        "outputId": "ab4bcf24-a3b5-43d4-db7c-8a6e1c5b9022"
      },
      "execution_count": null,
      "outputs": [
        {
          "output_type": "stream",
          "name": "stdout",
          "text": [
            "Step 1: [11, 12, 13, 5, 21, 56]\n",
            "Step 2: [11, 12, 13, 5, 21, 56]\n",
            "Step 3: [5, 11, 12, 13, 21, 56]\n",
            "Step 4: [5, 11, 12, 13, 21, 56]\n",
            "Step 5: [5, 11, 12, 13, 21, 56]\n",
            "Sorted array: [5, 11, 12, 13, 21, 56]\n"
          ]
        }
      ]
    },
    {
      "cell_type": "code",
      "source": [
        "# Implement a stack using an array with operations to push(), pop(), and display() the\n",
        "# elements. Modify the stack implementation to check for underflow and overflow\n",
        "# conditions. Test it with a stack of size 4 and perform 5 push() operations.\n",
        "class stack:\n",
        "    def __init__(self,size) -> None:\n",
        "        self.size =size\n",
        "        self.array = []\n",
        "        self.count =0\n",
        "\n",
        "    def push (self,data):\n",
        "        if (self.count==self.size):\n",
        "            print(\"stack-overflow\")\n",
        "        else:\n",
        "            self.array.append(data)\n",
        "            self.count+=1\n",
        "\n",
        "    def pop(self):\n",
        "        if(self.count==0):\n",
        "            print(\"stack-underflow\")\n",
        "        else:\n",
        "            self.array.pop()\n",
        "            self.count-=1\n",
        "\n",
        "    def display(self):\n",
        "        for i in self.array:\n",
        "            print(i,end=\"-->\")\n",
        "        print()\n",
        "\n",
        "stk = stack(5)\n",
        "stk.pop()\n",
        "stk.push(10)\n",
        "stk.push(20)\n",
        "stk.push(30)\n",
        "stk.display()\n",
        "stk.pop()\n",
        "stk.display()\n",
        "stk.pop()\n",
        "stk.display()\n",
        "stk.pop()\n",
        "stk.display()\n",
        "stk.pop()\n",
        "stk.display()"
      ],
      "metadata": {
        "colab": {
          "base_uri": "https://localhost:8080/"
        },
        "id": "xiKZLoQ0DUCt",
        "outputId": "d568ebd2-b96f-4495-f2c2-755fa53baa82"
      },
      "execution_count": null,
      "outputs": [
        {
          "output_type": "stream",
          "name": "stdout",
          "text": [
            "stack-underflow\n",
            "10-->20-->30-->\n",
            "10-->20-->\n",
            "10-->\n",
            "\n",
            "stack-underflow\n",
            "\n"
          ]
        }
      ]
    },
    {
      "cell_type": "code",
      "source": [
        "#3) a) Write a program to check if a given integer is a power of 2.\n",
        "# b) Implement a function to count the number of set bits (1s) in a given integer. Test it\n",
        "# with the number 29.\n",
        "# c) Write a program that swaps two numbers using bitwise XOR without using any\n",
        "# additional variables.\n",
        "n = int(input())\n",
        "if ((n&(n-1))!=0):\n",
        "    print(\"not power of 2\")\n",
        "else:\n",
        "    print(\"power of 2\")\n",
        "\n",
        "# b)\n",
        "n = int(input())\n",
        "count=0\n",
        "while(n):\n",
        "    n=(n&(n-1))\n",
        "    count+=1\n",
        "print(count)\n",
        "\n",
        "#c)\n",
        "a = int(input())\n",
        "b= int(input())\n",
        "print(f\"{a} {b}\")\n",
        "a= a^b\n",
        "b=a^b\n",
        "a=a^b\n",
        "print(f\"{a} {b}\")\n"
      ],
      "metadata": {
        "id": "KnHoczr6DZoG"
      },
      "execution_count": null,
      "outputs": []
    },
    {
      "cell_type": "code",
      "source": [
        "def bfs(graph, start_node):\n",
        "    visited = set()\n",
        "    queue = [start_node]\n",
        "    bfs_order = []\n",
        "\n",
        "    while queue:\n",
        "        node = queue.pop(0)\n",
        "        if node not in visited:\n",
        "            visited.add(node)\n",
        "            bfs_order.append(node)\n",
        "            queue.extend(graph[node] - visited)\n",
        "\n",
        "    return bfs_order\n",
        "\n",
        "def get_graph():\n",
        "    graph = {}\n",
        "    num_nodes = int(input(\"Enter the number of nodes in the graph: \"))\n",
        "\n",
        "    for i in range(num_nodes):\n",
        "        node = input(f\"Enter the name of node {i+1}: \")\n",
        "        neighbors = input(f\"Enter the neighbors of {node} separated by space: \").split()\n",
        "        graph[node] = set(neighbors)\n",
        "\n",
        "    return graph\n",
        "\n",
        "graph = get_graph()\n",
        "start_node = input(\"Enter the start node for BFS: \")\n",
        "bfs_result = bfs(graph, start_node)\n",
        "print(\"BFS traversal order:\", bfs_result)\n"
      ],
      "metadata": {
        "colab": {
          "base_uri": "https://localhost:8080/"
        },
        "id": "VQ3dzKplDiyJ",
        "outputId": "0aca9729-6d9f-4d6a-8d76-6ce126a14c7f"
      },
      "execution_count": null,
      "outputs": [
        {
          "output_type": "stream",
          "name": "stdout",
          "text": [
            "Enter the number of nodes in the graph: 3\n",
            "Enter the name of node 1: a\n",
            "Enter the neighbors of a separated by space: b c\n",
            "Enter the name of node 2: c\n",
            "Enter the neighbors of c separated by space: \n",
            "Enter the name of node 3: b\n",
            "Enter the neighbors of b separated by space: \n",
            "Enter the start node for BFS: a\n",
            "BFS traversal order: ['a', 'c', 'b']\n"
          ]
        }
      ]
    },
    {
      "cell_type": "code",
      "source": [
        "def dfs(graph, start_node):\n",
        "    visited = set()\n",
        "    stack = [start_node]\n",
        "    dfs_order = []\n",
        "\n",
        "    while stack:\n",
        "        node = stack.pop()\n",
        "        if node not in visited:\n",
        "            visited.add(node)\n",
        "            dfs_order.append(node)\n",
        "            stack.extend(graph[node] - visited)\n",
        "\n",
        "    return dfs_order\n",
        "\n",
        "def get_graph():\n",
        "    graph = {}\n",
        "    num_nodes = int(input(\"Enter the number of nodes in the graph: \"))\n",
        "\n",
        "    for i in range(num_nodes):\n",
        "        node = input(f\"Enter the name of node {i+1}: \")\n",
        "        neighbors = input(f\"Enter the neighbors of {node} separated by space: \").split()\n",
        "        graph[node] = set(neighbors)\n",
        "\n",
        "    return graph\n",
        "\n",
        "graph = get_graph()\n",
        "start_node = input(\"Enter the start node for DFS: \")\n",
        "dfs_result = dfs(graph, start_node)\n",
        "print(\"DFS traversal order:\", dfs_result)\n"
      ],
      "metadata": {
        "id": "y_DDNBrgD7Dr"
      },
      "execution_count": null,
      "outputs": []
    },
    {
      "cell_type": "code",
      "source": [
        "class Node:\n",
        "    def __init__(self, data) -> None:\n",
        "        self.next = None\n",
        "        self.data = data\n",
        "\n",
        "class LL:\n",
        "    def __init__(self) -> None:\n",
        "        self.head = None\n",
        "\n",
        "    def addAtBeginning(self, data):\n",
        "        if not self.head:\n",
        "            self.head = Node(data)\n",
        "        else:\n",
        "            new_node = Node(data)\n",
        "            new_node.next = self.head\n",
        "            self.head = new_node\n",
        "\n",
        "    def addAtEnd(self, data):\n",
        "        if not self.head:\n",
        "            self.head = Node(data)\n",
        "        else:\n",
        "            current_node = self.head\n",
        "            while current_node.next:\n",
        "                current_node = current_node.next\n",
        "            current_node.next = Node(data)\n",
        "\n",
        "    def addBeforeVal(self, before, data):\n",
        "        if not self.head:\n",
        "            print(\"No element found\")\n",
        "            return\n",
        "\n",
        "        current_node = self.head\n",
        "\n",
        "        if current_node.data == before:\n",
        "            self.addAtBeginning(data)\n",
        "            return\n",
        "\n",
        "        while current_node.next and current_node.next.data != before:\n",
        "            current_node = current_node.next\n",
        "\n",
        "        if current_node.next:\n",
        "            new_node = Node(data)\n",
        "            new_node.next = current_node.next\n",
        "            current_node.next = new_node\n",
        "        else:\n",
        "            print(f\"No node with value {before} found\")\n",
        "\n",
        "    def display(self):\n",
        "        if not self.head:\n",
        "            print(\"Linked list is empty\")\n",
        "        else:\n",
        "            curr_node = self.head\n",
        "            while curr_node:\n",
        "                print(curr_node.data, end=\" --> \")\n",
        "                curr_node = curr_node.next\n",
        "            print(\"None\")\n",
        "\n",
        "ll = LL()\n",
        "ll.addAtBeginning(10)\n",
        "ll.display()\n",
        "ll.addAtBeginning(20)\n",
        "ll.display()\n",
        "ll.addAtEnd(20)\n",
        "ll.display()\n",
        "ll.addAtEnd(30)\n",
        "ll.display()\n",
        "ll.addBeforeVal(30, 40)\n",
        "ll.display()\n"
      ],
      "metadata": {
        "colab": {
          "base_uri": "https://localhost:8080/"
        },
        "id": "L5OrLsNKEO08",
        "outputId": "ecbd55ee-96af-43b6-f968-7bab8610eae5"
      },
      "execution_count": null,
      "outputs": [
        {
          "output_type": "stream",
          "name": "stdout",
          "text": [
            "10 --> None\n",
            "20 --> 10 --> None\n",
            "20 --> 10 --> 20 --> None\n",
            "20 --> 10 --> 20 --> 30 --> None\n",
            "20 --> 10 --> 20 --> 40 --> 30 --> None\n"
          ]
        }
      ]
    },
    {
      "cell_type": "code",
      "source": [
        "class Node:\n",
        "    def __init__(self, data) -> None:\n",
        "        self.data = data\n",
        "        self.next = None\n",
        "\n",
        "class Queue:\n",
        "    def __init__(self) -> None:\n",
        "        self.front = None\n",
        "        self.rear = None\n",
        "\n",
        "    def enqueue(self, data):\n",
        "        new_node = Node(data)\n",
        "        if self.front is None:\n",
        "            self.front = new_node\n",
        "            self.rear = new_node\n",
        "        else:\n",
        "            self.rear.next = new_node\n",
        "            self.rear = new_node\n",
        "\n",
        "    def dequeue(self):\n",
        "        if self.front is None:\n",
        "            print(\"Queue is empty\")\n",
        "        else:\n",
        "            removed_data = self.front.data\n",
        "            self.front = self.front.next\n",
        "            if self.front is None:\n",
        "                self.rear = None\n",
        "            return removed_data\n",
        "\n",
        "    def printqueue(self):\n",
        "        if self.front is None:\n",
        "            print(\"Queue is empty\")\n",
        "        else:\n",
        "            current = self.front\n",
        "            while current is not None:\n",
        "                print(current.data, end=\" --> \")\n",
        "                current = current.next\n",
        "            print(\"None\")\n",
        "\n",
        "q = Queue()\n",
        "q.enqueue(1)\n",
        "q.enqueue(2)\n",
        "q.enqueue(3)\n",
        "q.enqueue(4)\n",
        "q.printqueue()\n",
        "\n",
        "q.dequeue()\n",
        "q.dequeue()\n",
        "q.printqueue()\n",
        "\n",
        "q.enqueue(5)\n",
        "q.printqueue()\n"
      ],
      "metadata": {
        "colab": {
          "base_uri": "https://localhost:8080/"
        },
        "id": "H_C7rgH0E1Ls",
        "outputId": "11201d96-764e-4705-a930-19e909c62766"
      },
      "execution_count": null,
      "outputs": [
        {
          "output_type": "stream",
          "name": "stdout",
          "text": [
            "1 --> 2 --> 3 --> 4 --> None\n",
            "3 --> 4 --> None\n",
            "3 --> 4 --> 5 --> None\n"
          ]
        }
      ]
    }
  ]
}