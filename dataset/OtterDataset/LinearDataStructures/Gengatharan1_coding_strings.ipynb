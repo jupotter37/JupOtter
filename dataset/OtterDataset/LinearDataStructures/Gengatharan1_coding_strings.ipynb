{
 "cells": [
  {
   "cell_type": "markdown",
   "metadata": {},
   "source": [
    "#### **1. You are given two numbers. Your task is to multiply the two numbers and print the answer.**\n",
    "\n",
    "**Input Description:**\n",
    "\n",
    "You are given two numbers ‘n’ and ‘m’.\n",
    "\n",
    "**Output Description:**\n",
    "\n",
    "Print the multiplied answer\n",
    "\n",
    "Sample Input :\n",
    "\n",
    "99999 99998\n",
    "\n",
    "Sample Output :\n",
    "\n",
    "9999700002"
   ]
  },
  {
   "cell_type": "code",
   "execution_count": null,
   "metadata": {},
   "outputs": [
    {
     "name": "stdout",
     "output_type": "stream",
     "text": [
      "9999700002\n"
     ]
    }
   ],
   "source": [
    "a, b = map(int, input().split())\n",
    "print(a*b)"
   ]
  },
  {
   "cell_type": "code",
   "execution_count": null,
   "metadata": {},
   "outputs": [
    {
     "name": "stdout",
     "output_type": "stream",
     "text": [
      "9999700002\n"
     ]
    }
   ],
   "source": [
    "n = list(map(str,input().split()))\n",
    "print(int(n[0])*int(n[1]))"
   ]
  },
  {
   "cell_type": "markdown",
   "metadata": {},
   "source": [
    "### **2. You are given a number with duplicate digits your task is to remove the immediate duplicate digits and print the result**\n",
    "\n",
    "**Input Description:**\n",
    "\n",
    "You are given a long string of digits\n",
    "\n",
    "**Output Description:**\n",
    "\n",
    "Print the desired result print -1 if result length is 0\n",
    "\n",
    "Sample Input :\n",
    "\n",
    "1331\n",
    "\n",
    "Sample Output :\n",
    "\n",
    "11"
   ]
  },
  {
   "cell_type": "code",
   "execution_count": null,
   "metadata": {},
   "outputs": [
    {
     "name": "stdout",
     "output_type": "stream",
     "text": [
      "11\n"
     ]
    }
   ],
   "source": [
    "def remove_immediate_duplicates(digits):\n",
    "    original = []\n",
    "    ans = []\n",
    "    \n",
    "    for digit in digits:\n",
    "        if original and original[-1] == digit:\n",
    "            if ans and ans[-1] == digit: ans.pop()\n",
    "        else:\n",
    "            ans.append(digit)\n",
    "            \n",
    "        original.append(digit)\n",
    "    \n",
    "    if ans:\n",
    "        return ''.join(ans)\n",
    "    else:\n",
    "        return '-1'\n",
    "\n",
    "input_digits = input()\n",
    "print(remove_immediate_duplicates(input_digits))"
   ]
  },
  {
   "cell_type": "markdown",
   "metadata": {},
   "source": [
    "#### **3. In XYZ country there is rule that car’s engine no. depends upon car’ number plate. Engine no is sum of all the integers present on car’s Number plate.The issuing authority has hired you in order to provide engine no. to the cars.Your task is to develop an algorithm which takes input as in form of string(Number plate) and gives back**\n",
    "\n",
    "Engine number.\n",
    "\n",
    "**Input Description:**\n",
    "\n",
    "You are given a string ’s’\n",
    "\n",
    "**Output Description:**\n",
    "\n",
    "Print the engine number\n",
    "\n",
    "Sample Input :\n",
    "\n",
    "HR05-AA-2669\n",
    "\n",
    "Sample Output :\n",
    "\n",
    "28"
   ]
  },
  {
   "cell_type": "code",
   "execution_count": null,
   "metadata": {},
   "outputs": [
    {
     "name": "stdout",
     "output_type": "stream",
     "text": [
      "28\n"
     ]
    }
   ],
   "source": [
    "def calculate_engine_number(plate):\n",
    "    total = 0   # Initialize the sum to 0\n",
    "\n",
    "    # Iterate through each character in the string\n",
    "    for char in plate:\n",
    "        if char.isdigit():\n",
    "            total += int(char)\n",
    "    return total\n",
    "\n",
    "input_plate = input()\n",
    "engine_number = calculate_engine_number(input_plate)\n",
    "print(engine_number)"
   ]
  },
  {
   "cell_type": "markdown",
   "metadata": {},
   "source": [
    "#### **4. Rahul is given a task to manipulate a string, He hired you as a developer your task is to delete all the repeating characters and print the result left.**\n",
    "\n",
    "**Input Description:**\n",
    "\n",
    "You are given a string ‘s’\n",
    "\n",
    "**Output Description:**\n",
    "\n",
    "Print the remaining string\n",
    "\n",
    "Sample Input :\n",
    "\n",
    "mississipie\n",
    "\n",
    "Sample Output :\n",
    "\n",
    "mpe"
   ]
  },
  {
   "cell_type": "code",
   "execution_count": null,
   "metadata": {},
   "outputs": [
    {
     "name": "stdout",
     "output_type": "stream",
     "text": [
      "mpe\n"
     ]
    }
   ],
   "source": [
    "def remove_repeating_characters(s):\n",
    "    # Create a dictionary to count occurrences of each character\n",
    "    char_count = {}\n",
    "    \n",
    "    # Populate the dictionary with character counts\n",
    "    for char in s:\n",
    "        if char in char_count:\n",
    "            char_count[char] += 1\n",
    "        else:\n",
    "            char_count[char] = 1\n",
    "            \n",
    "    # Create a result string with characters that appear only once\n",
    "    result = ''.join([char for char in s if char_count[char] == 1])\n",
    "    return result\n",
    "\n",
    "input_string = input()\n",
    "output_string = remove_repeating_characters(input_string)\n",
    "print(output_string)"
   ]
  },
  {
   "cell_type": "markdown",
   "metadata": {},
   "source": [
    "#### **5. Radha newly learnt about palindromic strings.A palindromic string is a string which is same when read from left to right and also from right to left.Help her in implementing the logic.**\n",
    "\n",
    "**Input Description:**\n",
    "\n",
    "You are given a String ‘s’\n",
    "\n",
    "**Output Description:**\n",
    "\n",
    "Print 1 if String is palindrome or 0 if not\n",
    "\n",
    "Sample Input :\n",
    "\n",
    "NITIN\n",
    "\n",
    "Sample Output :\n",
    "\n",
    "1"
   ]
  },
  {
   "cell_type": "code",
   "execution_count": 4,
   "metadata": {},
   "outputs": [
    {
     "name": "stdout",
     "output_type": "stream",
     "text": [
      "1\n"
     ]
    }
   ],
   "source": [
    "a = input()\n",
    "if a == a[::-1]:\n",
    "    print(1)\n",
    "else:\n",
    "    print(0)"
   ]
  },
  {
   "cell_type": "markdown",
   "metadata": {},
   "source": [
    "#### **6. Given a string S, print it without using semicolon in your program.**\n",
    "\n",
    "Sample Testcase :\n",
    "\n",
    "INPUT :\n",
    "\n",
    "hello world\n",
    "\n",
    "OUTPUT :\n",
    "\n",
    "hello world"
   ]
  },
  {
   "cell_type": "code",
   "execution_count": 5,
   "metadata": {},
   "outputs": [
    {
     "name": "stdout",
     "output_type": "stream",
     "text": [
      "hello world\n"
     ]
    }
   ],
   "source": [
    "S = input()\n",
    "print(S)"
   ]
  },
  {
   "cell_type": "markdown",
   "metadata": {},
   "source": [
    "#### **7. You are given a string. You have to print “Wonder” if the string is wonderful and -1 if it is not. A wonderful string is a string,which is made up of exactly 3 different characters.**\n",
    "\n",
    "**Input Description:**\n",
    "\n",
    "You are given a string\n",
    "\n",
    "**Output Description:**\n",
    "\n",
    "Print “Wonder” if it is wonderful and -1 if it is not\n",
    "\n",
    "Sample Input :\n",
    "\n",
    "aabbcc\n",
    "\n",
    "Sample Output :\n",
    "\n",
    "Wonder"
   ]
  },
  {
   "cell_type": "code",
   "execution_count": null,
   "metadata": {},
   "outputs": [
    {
     "name": "stdout",
     "output_type": "stream",
     "text": [
      "Wonder\n"
     ]
    }
   ],
   "source": [
    "input_string = input()\n",
    "\n",
    "# Find the unique characters in the string\n",
    "unique_characters = set(input_string)\n",
    "\n",
    "# Check if the number of unique characters is exactly 3\n",
    "if len(unique_characters) == 3:\n",
    "    print(\"Wonder\")\n",
    "else:\n",
    "    print(-1)"
   ]
  },
  {
   "cell_type": "markdown",
   "metadata": {},
   "source": [
    "#### **8. Given a string 'S' print the sum of weight of the String. A weight of character is defined as the ASCII value of corresponding character.**\n",
    "\n",
    "**Input Description:**\n",
    "\n",
    "You are given a string ‘s’\n",
    "\n",
    "**Output Description:**\n",
    "\n",
    "Print weight\n",
    "\n",
    "Sample Input :\n",
    "\n",
    "abc\n",
    "\n",
    "Sample Output :\n",
    "\n",
    "294"
   ]
  },
  {
   "cell_type": "code",
   "execution_count": null,
   "metadata": {},
   "outputs": [
    {
     "name": "stdout",
     "output_type": "stream",
     "text": [
      "294\n"
     ]
    }
   ],
   "source": [
    "s = input()\n",
    "\n",
    "total_weight = 0    # Initialize the sum of ASCII values\n",
    "\n",
    "# Iterate through each character in the string\n",
    "for char in s:\n",
    "    total_weight += ord(char)   # Add the ASCII value of the character to the total weight\n",
    "print(total_weight)"
   ]
  },
  {
   "cell_type": "markdown",
   "metadata": {},
   "source": [
    "#### **9. You are given a ‘true’ string. String is called true if weight of string is multiple of 8. Your task is to tell whether a string can be declared True or Not. Weight of string is the sum of ASCII value of Vowel character(s) present in the string.**\n",
    "\n",
    "**Input Description:**\n",
    "\n",
    "You are given as string ‘s’ in lower cases\n",
    "\n",
    "**Output Description:**\n",
    "\n",
    "Print 1 for true and 0 for false\n",
    "\n",
    "Sample Input :\n",
    "\n",
    "raja\n",
    "\n",
    "Sample Output :\n",
    "\n",
    "0"
   ]
  },
  {
   "cell_type": "code",
   "execution_count": null,
   "metadata": {},
   "outputs": [
    {
     "name": "stdout",
     "output_type": "stream",
     "text": [
      "0\n"
     ]
    }
   ],
   "source": [
    "s = input()\n",
    "vowels = {'a', 'e', 'i', 'o', 'u'}  # Define the set of vowels\n",
    "sum_of_vowels = 0                   # Sum of ASCII values of vowels\n",
    "for char in s:                      # Iterate through each character in the string\n",
    "    if char in vowels:\n",
    "        sum_of_vowels += ord(char)\n",
    "\n",
    "# Check if the sum of vowels' ASCII values is a multiple of 8\n",
    "if sum_of_vowels % 8 == 0:\n",
    "    print(1)\n",
    "else:\n",
    "    print(0)"
   ]
  },
  {
   "cell_type": "markdown",
   "metadata": {},
   "source": [
    "#### **10. Write a program to get a string S, Type of conversion (1 - Convert to Lowercase, 2 - Convert to Uppercase) T, and integer P . Convert the case of the letters in the positions which are multiples of P.(1 based indexing).**\n",
    "\n",
    "**Input Description:**\n",
    "Given a string S, Type of conversion T, and integer P\n",
    "\n",
    "**Output Description:**\n",
    "Convert the case of the letters and print the string\n",
    "\n",
    "Sample Input :\n",
    "\n",
    "ProFiLe\n",
    "\n",
    "1\n",
    "\n",
    "2\n",
    "\n",
    "Sample Output :\n",
    "\n",
    "Profile"
   ]
  },
  {
   "cell_type": "code",
   "execution_count": null,
   "metadata": {},
   "outputs": [
    {
     "name": "stdout",
     "output_type": "stream",
     "text": [
      "Profile\n"
     ]
    }
   ],
   "source": [
    "S = input()\n",
    "T = int(input())\n",
    "P = int(input())\n",
    "\n",
    "result = []\n",
    "for i in range(len(S)):\n",
    "    if (i + 1) % P == 0:\n",
    "        if T == 1:\n",
    "            result.append(S[i].lower())\n",
    "        elif T == 2:\n",
    "            result.append(S[i].upper())\n",
    "    else:\n",
    "        result.append(S[i])\n",
    "print(''.join(result))"
   ]
  },
  {
   "cell_type": "markdown",
   "metadata": {},
   "source": [
    "#### **11. You are given a paragraph.Your task is to print the words that come just after articles.**\n",
    "\n",
    "**Input Description:**\n",
    "\n",
    "You are given a string ‘s’\n",
    "\n",
    "**Output Description:**\n",
    "\n",
    "print the words that come just after articles and -1 if there are no articles\n",
    "\n",
    "Sample Input :\n",
    "\n",
    "The sun rises in the east\n",
    "\n",
    "Sample Output :\n",
    "\n",
    "sun east"
   ]
  },
  {
   "cell_type": "code",
   "execution_count": null,
   "metadata": {},
   "outputs": [
    {
     "name": "stdout",
     "output_type": "stream",
     "text": [
      "sun east\n"
     ]
    }
   ],
   "source": [
    "def words_after_articles(s):\n",
    "    articles = {\"a\", \"an\", \"the\"}\n",
    "    words = s.split()\n",
    "    result = []\n",
    "\n",
    "    for i in range(len(words) - 1):\n",
    "        if words[i].lower() in articles:\n",
    "            result.append(words[i + 1])\n",
    "    \n",
    "    if result:\n",
    "        print(' '.join(result))\n",
    "    else:\n",
    "        print(-1)\n",
    "\n",
    "s = input()\n",
    "words_after_articles(s)"
   ]
  },
  {
   "cell_type": "code",
   "execution_count": 1,
   "metadata": {},
   "outputs": [
    {
     "name": "stdout",
     "output_type": "stream",
     "text": [
      "sun east "
     ]
    }
   ],
   "source": [
    "def words_after_articles(s):\n",
    "    articles = [\"a\", \"an\", \"the\"]\n",
    "    words = s.split()\n",
    "    found = False\n",
    "    \n",
    "    for i in range(len(words) - 1):\n",
    "        if words[i].lower() in articles:\n",
    "            print(words[i + 1], end=\" \")\n",
    "            found = True\n",
    "    \n",
    "    if not found:\n",
    "        print(\"-1\")\n",
    "\n",
    "s = input()\n",
    "words_after_articles(s)"
   ]
  },
  {
   "cell_type": "markdown",
   "metadata": {},
   "source": [
    "#### **12. You are given with a string which comprises of some numbers. Your task is to find the largest integer by converting the string to the corresponding integer.**\n",
    "\n",
    "**Input Description:**\n",
    "\n",
    "First line contains n denoting number of Test Cases. The first and only Line of testcase has the string\n",
    "\n",
    "**Output Description:**\n",
    "\n",
    "Print the largest number\n",
    "\n",
    "Sample Input :\n",
    "\n",
    " I was born on 12 october 1998.\n",
    "\n",
    "Sample Output :\n",
    "\n",
    "1998"
   ]
  },
  {
   "cell_type": "code",
   "execution_count": null,
   "metadata": {},
   "outputs": [
    {
     "name": "stdout",
     "output_type": "stream",
     "text": [
      "1998\n"
     ]
    }
   ],
   "source": [
    "m = input()\n",
    "res = \"\"\n",
    "a = len(m)\n",
    "\n",
    "for i in range(0,a):\n",
    "    if m[i]!='.':\n",
    "        res = res+m[i]\n",
    "        \n",
    "n = res.split(\" \")\n",
    "\n",
    "int_lst = []\n",
    "for i in n:\n",
    " if i.isdigit() == True:\n",
    "  int_lst.append(i)\n",
    "length = len(int_lst)\n",
    "max_value = 0\n",
    "\n",
    "for i in range(0,length):\n",
    "    if(int(max_value) < int(int_lst[i])):\n",
    "        max_value = int_lst[i]\n",
    "print(max_value)"
   ]
  },
  {
   "cell_type": "markdown",
   "metadata": {},
   "source": [
    "#### **13. You are given a string made up of parenthesis only.Your task is to check whether parenthesis are balanced or not.If they are balanced print 1 else print 0**\n",
    "\n",
    "**Input Description:**\n",
    "\n",
    "You are given a string ‘s’\n",
    "\n",
    "**Output Description:**\n",
    "\n",
    "Print 1 for balanced and 0 for imbalanced\n",
    "\n",
    "Sample Input :\n",
    "\n",
    "{({})}\n",
    "\n",
    "Sample Output :\n",
    "\n",
    "1"
   ]
  },
  {
   "cell_type": "markdown",
   "metadata": {},
   "source": [
    "**Explanation:**\n",
    "\n",
    "is_balanced_parentheses(s): This function checks if the parentheses in the string s are balanced.\n",
    "\n",
    "stack: Used to keep track of opening parentheses.\n",
    "\n",
    "matching_parentheses: Dictionary to match each closing parenthesis with its corresponding opening parenthesis.\n",
    "\n",
    "The function iterates through each character in the string:\n",
    "    \n",
    "    If the character is an opening parenthesis({, (, [), it gets pushed onto the stack.\n",
    "    \n",
    "    If the character is a closing parenthesis(}, ), ]), it checks if the stack is not empty and if the top of the stack matches the corresponding opening parenthesis. If not, it returns 0 (imbalanced).\n",
    "\n",
    "At the end, if the stack is empty, the parentheses are balanced, and the function returns 1. Otherwise, it returns 0."
   ]
  },
  {
   "cell_type": "code",
   "execution_count": null,
   "metadata": {},
   "outputs": [
    {
     "name": "stdout",
     "output_type": "stream",
     "text": [
      "1\n"
     ]
    }
   ],
   "source": [
    "def is_balanced_parentheses(s):\n",
    "    stack = []\n",
    "    # matching_parentheses\n",
    "    m = {')': '(', '}': '{', ']': '['}\n",
    "\n",
    "    for char in s:\n",
    "        if char in m.values():  # Opening parentheses\n",
    "            stack.append(char)\n",
    "        elif char in m.keys():  # Closing parentheses\n",
    "            if stack == [] or stack.pop() != m[char]:\n",
    "                return 0\n",
    "    return 1 if not stack else 0\n",
    "\n",
    "if __name__ == \"__main__\":\n",
    "    s = input().strip()\n",
    "    result = is_balanced_parentheses(s)\n",
    "    print(result)"
   ]
  },
  {
   "cell_type": "markdown",
   "metadata": {},
   "source": [
    "#### **14. You are given a string ‘s’. Your task is to tell whether string is beautiful or not.A beautiful string is a string in which String starts with ‘a’ or ‘A’ and middle element is either ‘m’ or ‘M’ and last element is ‘z’or ‘Z’**\n",
    "\n",
    "**Input Description:**\n",
    "\n",
    "You are given a string ‘s’.\n",
    "\n",
    "**Output Description:**\n",
    "\n",
    "Print 1 if string is beautiful and 0 if it is not\n",
    "\n",
    "Sample Input :\n",
    "\n",
    "Amz\n",
    "\n",
    "Sample Output :\n",
    "\n",
    "1"
   ]
  },
  {
   "cell_type": "code",
   "execution_count": null,
   "metadata": {},
   "outputs": [
    {
     "name": "stdout",
     "output_type": "stream",
     "text": [
      "1\n"
     ]
    }
   ],
   "source": [
    "def is_beautiful_string(s):\n",
    "    n = len(s)\n",
    "    if n < 3:\n",
    "        return 0\n",
    "    \n",
    "    # Check the first character\n",
    "    if s[0] not in ('a', 'A'):\n",
    "        return 0\n",
    "    \n",
    "    # Check the middle character\n",
    "    middle_index = n // 2\n",
    "    if s[middle_index] not in ('m', 'M'):\n",
    "        return 0\n",
    "    \n",
    "    # Check the last character\n",
    "    if s[-1] not in ('z', 'Z'):\n",
    "        return 0\n",
    "    return 1\n",
    "\n",
    "if __name__ == \"__main__\":\n",
    "    s = input().strip()\n",
    "    result = is_beautiful_string(s)\n",
    "    print(result)"
   ]
  },
  {
   "cell_type": "markdown",
   "metadata": {},
   "source": [
    "#### **15. You are given a string.Your task is to print only the consonants present in the string without affecting the sentence spacings if present. If no consonants are present print -1**\n",
    "\n",
    "**Input Description:**\n",
    "\n",
    "You are given a string ‘s’.\n",
    "\n",
    "**Output Description:**\n",
    "\n",
    "Print only consonants.\n",
    "\n",
    "Sample Input :\n",
    "\n",
    "I am shrey \n",
    "\n",
    "Sample Output :\n",
    "\n",
    " m shry"
   ]
  },
  {
   "cell_type": "code",
   "execution_count": 5,
   "metadata": {},
   "outputs": [
    {
     "name": "stdout",
     "output_type": "stream",
     "text": [
      " m shry\n"
     ]
    }
   ],
   "source": [
    "def is_consonant(char):\n",
    "    vowels = \"aeiouAEIOU\"\n",
    "    return char.isalpha() and char not in vowels\n",
    "\n",
    "def filter_consonants(s):\n",
    "    result = \"\"\n",
    "    consonant_found = False\n",
    "    \n",
    "    for char in s:\n",
    "        if char == ' ':\n",
    "            result += ' '\n",
    "        elif is_consonant(char):\n",
    "            result += char\n",
    "            consonant_found = True\n",
    "\n",
    "    if consonant_found:\n",
    "        return result\n",
    "    else:\n",
    "        return \"-1\"\n",
    "\n",
    "s = input()\n",
    "output = filter_consonants(s)\n",
    "print(output)"
   ]
  },
  {
   "cell_type": "markdown",
   "metadata": {},
   "source": [
    "### **16. You are given a string ‘s’.Your task is to print the string in the order they are present and then sum of digits.**\n",
    "\n",
    "#### **Input Description:**\n",
    "\n",
    "You are given a string ‘s’.\n",
    "\n",
    "#### **Output Description:**\n",
    "\n",
    "Print the string and then at last sum of all the digits\n",
    "\n",
    "**Sample Input:**\n",
    "\n",
    "AC30BD40\n",
    "\n",
    "**Sample Output:**\n",
    "\n",
    "ACBD7"
   ]
  },
  {
   "cell_type": "code",
   "execution_count": null,
   "metadata": {},
   "outputs": [
    {
     "name": "stdout",
     "output_type": "stream",
     "text": [
      "ACBD7\n"
     ]
    }
   ],
   "source": [
    "def process_string(s):\n",
    "    characters = []\n",
    "    digit_sum = 0\n",
    "    \n",
    "    for char in s:\n",
    "        if char.isdigit():\n",
    "            digit_sum += int(char)\n",
    "        else:\n",
    "            characters.append(char)\n",
    "    \n",
    "    result = ''.join(characters)    # Join the characters to form the final string\n",
    "    result += str(digit_sum)        # Append the sum of digits\n",
    "    print(result)\n",
    "\n",
    "s = input()\n",
    "process_string(s)"
   ]
  },
  {
   "cell_type": "markdown",
   "metadata": {},
   "source": [
    "### **17. Given a string S, print 'yes' if it has a vowel in it else print 'no'.**\n",
    "\n",
    "#### **Sample Testcase:**\n",
    "\n",
    "**INPUT**\n",
    "\n",
    "codekata\n",
    "\n",
    "**OUTPUT**\n",
    "\n",
    "yes"
   ]
  },
  {
   "cell_type": "code",
   "execution_count": 2,
   "metadata": {},
   "outputs": [
    {
     "name": "stdout",
     "output_type": "stream",
     "text": [
      "yes\n"
     ]
    }
   ],
   "source": [
    "def has_vowel(s):\n",
    "    vowels = set('aeiouAEIOU')\n",
    "    \n",
    "    for char in s:\n",
    "        if char in vowels:\n",
    "            print(\"yes\")\n",
    "            return\n",
    "    print(\"no\")\n",
    "\n",
    "s = input()\n",
    "has_vowel(s)"
   ]
  },
  {
   "cell_type": "markdown",
   "metadata": {},
   "source": [
    "### **18. Given an array of pairs of strings, find if there are mirror pairs.**\n",
    "(s1, s2) & (s3, s4) are mirror pairs, if s1 = s4 and s2 = s3. The first string in each pair is distinct.\n",
    "\n",
    "#### **Input Description:**\n",
    "\n",
    "The first line contains the number string pairs N. Then N string pairs follow.\n",
    "\n",
    "#### **Output Description:**\n",
    "\n",
    "Print YES, if a mirror pair exists, print NO otherwise.\n",
    "\n",
    "**Sample Input:**\n",
    "\n",
    "3\n",
    "raja kili\n",
    "pan quil\n",
    "kili raja\n",
    "\n",
    "**Sample Output:**\n",
    "\n",
    "YES"
   ]
  },
  {
   "cell_type": "code",
   "execution_count": null,
   "metadata": {},
   "outputs": [
    {
     "name": "stdout",
     "output_type": "stream",
     "text": [
      "YES\n"
     ]
    }
   ],
   "source": [
    "def find_mirror_pairs(pairs):\n",
    "    pair_dict = {}\n",
    "    for s1, s2 in pairs:\n",
    "        if s2 in pair_dict and pair_dict[s2] == s1: # Check if the reverse pair exists\n",
    "            print(\"YES\")\n",
    "            return\n",
    "        pair_dict[s1] = s2  # Store the pair in the dictionary\n",
    "    print(\"NO\")\n",
    "\n",
    "N = int(input())\n",
    "pairs = [input().split() for _ in range(N)]\n",
    "find_mirror_pairs(pairs)"
   ]
  },
  {
   "cell_type": "markdown",
   "metadata": {},
   "source": [
    "### **19. Joyal was given a sentence. His task is to delete the two words that comes together and print the sentence so that the words in the output sentence have distinct words compared to their adjacent words. If no words are present in the output sentence print -1**\n",
    "\n",
    "#### **Input Description:**\n",
    "\n",
    "You are given input string 'S'\n",
    "\n",
    "#### **Output Description:**\n",
    "\n",
    "Print the all the words that are left in the string 's' so that the words in the output sentence have distinct words compared to their adjacent words. Print -1 if no words are left\n",
    "\n",
    "**Sample Input:**\n",
    "\n",
    "I am john cena cena john\n",
    "\n",
    "**Sample Output:**\n",
    "\n",
    "I am"
   ]
  },
  {
   "cell_type": "code",
   "execution_count": null,
   "metadata": {},
   "outputs": [
    {
     "name": "stdout",
     "output_type": "stream",
     "text": [
      "I am\n"
     ]
    }
   ],
   "source": [
    "def remove_adjacent_duplicates(s):\n",
    "    words = s.split()\n",
    "    stack = []\n",
    "    \n",
    "    for word in words:\n",
    "        if stack and stack[-1] == word:\n",
    "            stack.pop()\n",
    "        else:\n",
    "            stack.append(word)\n",
    "\n",
    "    if not stack:\n",
    "        print(\"-1\")\n",
    "    else:\n",
    "        print(\" \".join(stack))\n",
    "\n",
    "s = input()\n",
    "remove_adjacent_duplicates(s)"
   ]
  },
  {
   "cell_type": "markdown",
   "metadata": {},
   "source": [
    "### **20. You are given a string ‘s’. Your task is to find whether string is beautiful or not. A string is said to be beautiful whenever string is made up of only three characters. All the three characters must be distinct. Print true if string is beautiful and false when it is not beautiful**\n",
    "\n",
    "#### **Input Description:**\n",
    "\n",
    "You are given a string\n",
    "\n",
    "#### **Output Description:**\n",
    "\n",
    "Print ‘1’ when string is beautiful and ‘0’ when it is not\n",
    "\n",
    "**Sample Input:**\n",
    "\n",
    "Aab\n",
    "\n",
    "**Sample Output:**\n",
    "\n",
    "1"
   ]
  },
  {
   "cell_type": "code",
   "execution_count": null,
   "metadata": {},
   "outputs": [
    {
     "name": "stdout",
     "output_type": "stream",
     "text": [
      "1\n"
     ]
    }
   ],
   "source": [
    "def is_beautiful_string(s):\n",
    "    distinct_characters = set(s)    # Use a set to collect distinct characters\n",
    "    \n",
    "    # Check if the number of distinct characters is exactly 3\n",
    "    if len(distinct_characters) == 3:\n",
    "        print(1)\n",
    "    else:\n",
    "        print(0)\n",
    "\n",
    "s = input()\n",
    "is_beautiful_string(s)"
   ]
  },
  {
   "cell_type": "markdown",
   "metadata": {},
   "source": [
    "### 21. Given a string S, print it after changing the middle element to * (if the length of the string is even, change the 2 middle elements to *).\n",
    "\n",
    "**Sample Testcase:**\n",
    "\n",
    "**INPUT**\n",
    "\n",
    "hello\n",
    "\n",
    "**OUTPUT**\n",
    "\n",
    "he*lo"
   ]
  },
  {
   "cell_type": "code",
   "execution_count": null,
   "metadata": {},
   "outputs": [],
   "source": [
    "def change_middle_to_star(s):\n",
    "    length = len(s)\n",
    "    \n",
    "    if length % 2 == 1:\n",
    "        middle_index = length // 2\n",
    "        modified_string = s[:middle_index]+ \"*\" +s[middle_index+1:]\n",
    "    else:\n",
    "        middle_index1 = length // 2 - 1\n",
    "        middle_index2 = length // 2\n",
    "        modified_string = s[:middle_index1]+ \"**\" +s[middle_index2+1:]\n",
    "    return modified_string\n",
    "    \n",
    "s = input()\n",
    "print(change_middle_to_star(s))"
   ]
  },
  {
   "cell_type": "markdown",
   "metadata": {},
   "source": [
    "### **22. Jennyfer is fond of strings. She wants to read the character from right to left (reverse the string), so she wants you to design a suitable algorithm which satisfy her desire.**\n",
    "\n",
    "#### **Input Description:**\n",
    "\n",
    "Enter the string ‘s’\n",
    "\n",
    "#### **Output Description:**\n",
    "\n",
    "Print the string from characters right to left.\n",
    "\n",
    "**Sample Input:**\n",
    "\n",
    "jennyfer\n",
    "\n",
    "**Sample Output:**\n",
    "\n",
    "Refynnej"
   ]
  },
  {
   "cell_type": "code",
   "execution_count": null,
   "metadata": {},
   "outputs": [
    {
     "name": "stdout",
     "output_type": "stream",
     "text": [
      "Refynnej\n"
     ]
    }
   ],
   "source": [
    "s = input()\n",
    "s_rev = s[::-1]         # Reverse the string\n",
    "s = ''.join(s_rev)      # Join the reversed string back\n",
    "print(s.capitalize())   # Capitalize the first letter of the reversed string"
   ]
  },
  {
   "cell_type": "markdown",
   "metadata": {},
   "source": [
    "### **23. You are given string ‘s’. Your task is to modify the string as mentioned below:-**\n",
    "\n",
    "1. The string should not have three consecutive same characters.\n",
    "2. You can add any number of characters anywhere in the string. Find the minimum number of characters which Ishaan must insert in the string.\n",
    "\n",
    "#### **Input Description:**\n",
    "\n",
    "You are given a string ‘s’\n",
    "\n",
    "#### **Output Description:**\n",
    "\n",
    "print the required answer in a new line.\n",
    "\n",
    "Sample Input :\n",
    "\n",
    "aabbbcc\n",
    "\n",
    "Sample Output :\n",
    "\n",
    "1"
   ]
  },
  {
   "cell_type": "code",
   "execution_count": null,
   "metadata": {},
   "outputs": [
    {
     "name": "stdout",
     "output_type": "stream",
     "text": [
      "1\n"
     ]
    }
   ],
   "source": [
    "def min_insertions_to_prevent_triplets(s):\n",
    "    count = 0\n",
    "    insertions = 0\n",
    "    \n",
    "    for i in range(1, len(s)):\n",
    "        if s[i] == s[i - 1]:\n",
    "            count += 1\n",
    "        else:\n",
    "            count = 0\n",
    "        \n",
    "        if count == 2:\n",
    "            insertions += 1\n",
    "            count = 0\n",
    "    \n",
    "    print(insertions)\n",
    "\n",
    "s = input()\n",
    "min_insertions_to_prevent_triplets(s)"
   ]
  },
  {
   "cell_type": "markdown",
   "metadata": {},
   "source": [
    "### **24. You are given a string ‘s’.Your task is to print the string in alternate lowercase and uppercase order.**\n",
    "\n",
    "#### **Input Description:**\n",
    "\n",
    "You are given a string\n",
    "\n",
    "#### **Output Description:**\n",
    "\n",
    "Print the string according to given criteria\n",
    "\n",
    "**Sample Input:**\n",
    "\n",
    "abcd efgh ijkl\n",
    "\n",
    "**Sample Output:**\n",
    "\n",
    "ABCD efgh IJKL"
   ]
  },
  {
   "cell_type": "code",
   "execution_count": null,
   "metadata": {},
   "outputs": [
    {
     "name": "stdout",
     "output_type": "stream",
     "text": [
      "ABCD efgh IJKL\n"
     ]
    }
   ],
   "source": [
    "def alternate_case_string(s):\n",
    "    words = s.split()\n",
    "    for i in range(len(words)):\n",
    "        if i % 2 == 0:\n",
    "            words[i] = words[i].upper()\n",
    "        else:\n",
    "            words[i] = words[i].lower()\n",
    "    result = ' '.join(words)\n",
    "    print(result)\n",
    "    \n",
    "s = input()\n",
    "alternate_case_string(s)"
   ]
  },
  {
   "cell_type": "markdown",
   "metadata": {},
   "source": [
    "### **25. Ria is a 5 year old girl. Her mother wants to teach her how to sort words in the same order that they appear in a dictionary. She decides to write a program to sort a given set of strings based on their alphabetical order. Help Ria’s mother to complete the program.**\n",
    "\n",
    "**Input Description:**\n",
    "\n",
    "A set of N strings\n",
    "\n",
    "**Output Description:**\n",
    "\n",
    "Alphabetically sorted set of strings\n",
    "\n",
    "**Sample Input:**\n",
    "\n",
    "3\n",
    "\n",
    "InfinityWar EndGame Avengers\n",
    "\n",
    "**Sample Output:**\n",
    "\n",
    "Avengers EndGame InfinityWar"
   ]
  },
  {
   "cell_type": "code",
   "execution_count": 2,
   "metadata": {},
   "outputs": [
    {
     "name": "stdout",
     "output_type": "stream",
     "text": [
      "Avengers EndGame InfinityWar\n"
     ]
    }
   ],
   "source": [
    "n = int(input())\n",
    "s = input().split()\n",
    "s.sort()\n",
    "print(\" \".join(s))"
   ]
  },
  {
   "cell_type": "markdown",
   "metadata": {},
   "source": [
    "### **26. Given a sentence and string S, find how many times S occurs in the given sentence.If S is not found in the sentence print -1.**\n",
    "\n",
    "Input Size : |sentence| <= 1000000(complexity O(n)).\n",
    "\n",
    "**Sample Testcase:**\n",
    "\n",
    "**INPUT**\n",
    "\n",
    "I enjoy doing codekata\n",
    "\n",
    "codekata\n",
    "\n",
    "**OUTPUT**\n",
    "\n",
    "1"
   ]
  },
  {
   "cell_type": "code",
   "execution_count": 3,
   "metadata": {},
   "outputs": [
    {
     "name": "stdout",
     "output_type": "stream",
     "text": [
      "1\n"
     ]
    }
   ],
   "source": [
    "def count_occurrences(sentence, S):\n",
    "    count = sentence.count(S)\n",
    "    if count == 0:\n",
    "        print(-1)\n",
    "    else:\n",
    "        print(count)\n",
    "\n",
    "sentence = input()\n",
    "S = input()\n",
    "count_occurrences(sentence, S)"
   ]
  },
  {
   "cell_type": "markdown",
   "metadata": {},
   "source": [
    "### **27. Indian PAN card issuing authority have found some fake PAN cards. They have hired you so that you can validate PAN card for them. Your task is to develop a suitable algorithm which could check if pan is valid or not**\n",
    "\n",
    "1. Pan must have uppercase letters only.\n",
    "\n",
    "2. It must be of 10 character only\n",
    "\n",
    "3. From index 1 to 5 all must be letters(A-Z),last index must be letter\n",
    "\n",
    "4. Rest all must be integer Starting from 1\n",
    "\n",
    "#### **Input Description:**\n",
    "\n",
    "You are given a input string which indicates the PAN number\n",
    "\n",
    "#### **Output Description:**\n",
    "\n",
    "Print 'pan' if it is valid PAN number, else print 'not pan'\n",
    "\n",
    "**Sample Input:**\n",
    "\n",
    "HXTPS2142R\n",
    "\n",
    "**Sample Output:**\n",
    "\n",
    "pan"
   ]
  },
  {
   "cell_type": "markdown",
   "metadata": {},
   "source": [
    "#### **Logic**\n",
    "\n",
    "1. The PAN must contain only uppercase letters.\n",
    "2. The PAN must be exactly 10 characters long.\n",
    "3. The first five characters must be letters (A-Z).\n",
    "4. The last character must be a letter (A-Z).\n",
    "5. The sixth to ninth characters must be digits (0-9)."
   ]
  },
  {
   "cell_type": "code",
   "execution_count": null,
   "metadata": {},
   "outputs": [
    {
     "name": "stdout",
     "output_type": "stream",
     "text": [
      "pan\n"
     ]
    }
   ],
   "source": [
    "def validate_pan(pan):\n",
    "    # Check if the PAN is exactly 10 characters long\n",
    "    if len(pan) != 10:\n",
    "        print(\"not pan\")\n",
    "        return\n",
    "    \n",
    "    # Check if all characters are uppercase letters or digits\n",
    "    if not pan.isalnum() or not pan.isupper():\n",
    "        print(\"not pan\")\n",
    "        return\n",
    "    \n",
    "    # Check if the first five characters are letters\n",
    "    if not pan[:5].isalpha():\n",
    "        print(\"not pan\")\n",
    "        return\n",
    "    \n",
    "    # Check if the last character is a letter\n",
    "    if not pan[-1].isalpha():\n",
    "        print(\"not pan\")\n",
    "        return\n",
    "    \n",
    "    # Check if the sixth to ninth characters are digits\n",
    "    if not pan[5:9].isdigit():\n",
    "        print(\"not pan\")\n",
    "        return\n",
    "    print(\"pan\")    # If all conditions are met, it's a valid PAN\n",
    "\n",
    "pan = input()\n",
    "validate_pan(pan)"
   ]
  },
  {
   "cell_type": "markdown",
   "metadata": {},
   "source": [
    "### **28. Given a string S, find its length(including the spaces)without using any pre-defined functions.**\n",
    "\n",
    "#### **Sample Testcase:**\n",
    "\n",
    "**INPUT**\n",
    "\n",
    "codekata\n",
    "\n",
    "**OUTPUT**\n",
    "\n",
    "8"
   ]
  },
  {
   "cell_type": "code",
   "execution_count": null,
   "metadata": {},
   "outputs": [
    {
     "name": "stdout",
     "output_type": "stream",
     "text": [
      "8\n"
     ]
    }
   ],
   "source": [
    "s = input()\n",
    "length_of_the_string = len(s)\n",
    "print(length_of_the_string)"
   ]
  },
  {
   "cell_type": "code",
   "execution_count": 19,
   "metadata": {},
   "outputs": [
    {
     "name": "stdout",
     "output_type": "stream",
     "text": [
      "8\n"
     ]
    }
   ],
   "source": [
    "def find_length(s):\n",
    "    length = 0\n",
    "    for char in s:\n",
    "        length += 1\n",
    "    return length\n",
    "\n",
    "s = \"codekata\"\n",
    "print(find_length(s))"
   ]
  },
  {
   "cell_type": "markdown",
   "metadata": {},
   "source": [
    "### **29. You are given some words all in lower case letters your task is to print them in sorted order.**\n",
    "\n",
    "#### **Input Description:**\n",
    "\n",
    "You are given a string ‘s’\n",
    "\n",
    "#### **Output Description:**\n",
    "\n",
    "Print the string in sorted order\n",
    "\n",
    "**Sample Input:**\n",
    "\n",
    "virat kohli\n",
    "\n",
    "**Sample Output:**\n",
    "\n",
    "kohli virat"
   ]
  },
  {
   "cell_type": "code",
   "execution_count": null,
   "metadata": {},
   "outputs": [
    {
     "name": "stdout",
     "output_type": "stream",
     "text": [
      "kohli virat\n"
     ]
    }
   ],
   "source": [
    "def sort_words(s):\n",
    "    words = s.split()\n",
    "    words.sort()\n",
    "    sorted_string = ' '.join(words)\n",
    "    print(sorted_string)\n",
    "\n",
    "s = input()\n",
    "sort_words(s)"
   ]
  },
  {
   "cell_type": "markdown",
   "metadata": {},
   "source": [
    "### **30. Given a number ‘n’, your task is to  generate all n-bit grey code sequences, “a grey code sequence is a sequence such that successive patterns in it differ by one bit”**\n",
    "\n",
    "#### **Input Description:**\n",
    "\n",
    "You are given an number ‘n’.\n",
    "\n",
    "#### **Output Description:**\n",
    "\n",
    "Print the grey code sequence\n",
    "\n",
    "**Sample Input:**\n",
    "\n",
    "2\n",
    "\n",
    "**Sample Output:**\n",
    "\n",
    "00 01 11 10"
   ]
  },
  {
   "cell_type": "code",
   "execution_count": null,
   "metadata": {},
   "outputs": [
    {
     "name": "stdout",
     "output_type": "stream",
     "text": [
      "00 01 11 10\n"
     ]
    }
   ],
   "source": [
    "def generate_gray_code(n):\n",
    "    if n == 0:\n",
    "        return []\n",
    "    if n == 1:\n",
    "        return [\"0\", \"1\"]\n",
    "    \n",
    "    # Start with 1-bit Gray code\n",
    "    gray_codes = [\"0\", \"1\"]\n",
    "    \n",
    "    # Generate Gray code for each additional bit\n",
    "    for i in range(2, n + 1):\n",
    "        reversed_codes = gray_codes[::-1]   # Create a reversed copy of the current list\n",
    "        gray_codes = ['0' + code for code in gray_codes]    # Prepend '0' to the original list\n",
    "        reversed_codes = ['1' + code for code in reversed_codes]    # Prepend '1' to the reversed list\n",
    "        gray_codes += reversed_codes    # Combine both lists\n",
    "    return gray_codes\n",
    "\n",
    "n = int(input())\n",
    "gray_code_sequence = generate_gray_code(n)\n",
    "print(\" \".join(gray_code_sequence))"
   ]
  },
  {
   "cell_type": "markdown",
   "metadata": {},
   "source": [
    "### **31. Guvi developed a new system to make sure no two usernames are same. So, they hired you as a developer to develop this system. They have set some rules to do the same.If you see the same username that already exists, just add a number at the end of that username ,else print \"Verified\".**\n",
    "\n",
    "#### **Input Description:**\n",
    "\n",
    "First line consists of an integer N, denoting number of usernames. Second line consists of N spaced separated Strings, denoting usernames.\n",
    "\n",
    "#### **Output Description:**\n",
    "\n",
    "print the required output in a new line.\n",
    "\n",
    "**Sample Input:**\n",
    "\n",
    "4\n",
    "\n",
    "abc aab abc aba\n",
    "\n",
    "**Sample Output:**\n",
    "\n",
    "Verified Verified abc1 aba"
   ]
  },
  {
   "cell_type": "code",
   "execution_count": 28,
   "metadata": {},
   "outputs": [
    {
     "name": "stdout",
     "output_type": "stream",
     "text": [
      "Verified Verified abc1 Verified\n"
     ]
    }
   ],
   "source": [
    "# Method -1:\n",
    "\n",
    "a = int(input())                    # a = 4\n",
    "li = list(input().split(\" \"))       # li = ['abc', 'aab', 'abc', 'aba']\n",
    "check=[]\n",
    "output=[]\n",
    "\n",
    "for i in li:\n",
    "    if i not in check:\n",
    "        check.append(i)\n",
    "        output.append(\"Verified\")\n",
    "    else:\n",
    "        output.append(i+\"1\")\n",
    "print(\" \".join(output))"
   ]
  },
  {
   "cell_type": "code",
   "execution_count": null,
   "metadata": {},
   "outputs": [
    {
     "name": "stdout",
     "output_type": "stream",
     "text": [
      "Verified\n",
      "Verified\n",
      "abc1\n",
      "Verified\n"
     ]
    }
   ],
   "source": [
    "# Method -2:\n",
    "\n",
    "def process_usernames(n, usernames):\n",
    "    seen = {}\n",
    "    result = []\n",
    "\n",
    "    for username in usernames:\n",
    "        if username in seen:\n",
    "            seen[username] += 1\n",
    "            new_username = f\"{username}{seen[username]}\"\n",
    "            result.append(new_username)\n",
    "        else:\n",
    "            seen[username] = 0\n",
    "            result.append(\"Verified\")\n",
    "\n",
    "    for res in result:\n",
    "        print(res)\n",
    "\n",
    "n = int(input())\n",
    "usernames = list(map(str, input().split()))\n",
    "process_usernames(n, usernames)"
   ]
  },
  {
   "cell_type": "markdown",
   "metadata": {},
   "source": [
    "### **32. Given a string S, print 2 strings such that first string containing all characters in odd position(s) and other containing all characters in even position(s).**\n",
    "\n",
    "**Sample Testcase:**\n",
    "\n",
    "**INPUT**\n",
    "\n",
    "XCODE\n",
    "\n",
    "**OUTPUT**\n",
    "\n",
    "XOE CD"
   ]
  },
  {
   "cell_type": "code",
   "execution_count": 4,
   "metadata": {},
   "outputs": [
    {
     "name": "stdout",
     "output_type": "stream",
     "text": [
      "XOE CD\n"
     ]
    }
   ],
   "source": [
    "def split_odd_even_positions(s):\n",
    "    odd_chars = []\n",
    "    even_chars = []\n",
    "    \n",
    "    for i in range(len(s)):\n",
    "        if i % 2 == 0:\n",
    "            odd_chars.append(s[i])\n",
    "        else:\n",
    "            even_chars.append(s[i])\n",
    "        odd_string = ''.join(odd_chars)\n",
    "        even_string = ''.join(even_chars)\n",
    "    return odd_string, even_string\n",
    "    \n",
    "s = input()\n",
    "odd_string, even_string = split_odd_even_positions(s)\n",
    "print(odd_string, even_string)"
   ]
  },
  {
   "cell_type": "markdown",
   "metadata": {},
   "source": [
    "### **33. Given 2 strings S1 and s2, check whether they are case senitively equal without using any predefined function(case sensitive).If they are not same print 'no'**\n",
    "\n",
    "#### **Sample Testcase:**\n",
    "\n",
    "**INPUT**\n",
    "\n",
    "guvi guvi\n",
    "\n",
    "**OUTPUT**\n",
    "\n",
    "yes"
   ]
  },
  {
   "cell_type": "code",
   "execution_count": 29,
   "metadata": {},
   "outputs": [
    {
     "name": "stdout",
     "output_type": "stream",
     "text": [
      "yes\n"
     ]
    }
   ],
   "source": [
    "def check_case_sensitive_equal(S1, S2):\n",
    "    if len(S1) != len(S2):\n",
    "        print(\"no\")\n",
    "        return\n",
    "    \n",
    "    for i in range(len(S1)):\n",
    "        if S1[i] != S2[i]:\n",
    "            print(\"no\")\n",
    "            return\n",
    "\n",
    "    print(\"yes\")\n",
    "\n",
    "S1, S2 = input().split()\n",
    "check_case_sensitive_equal(S1, S2)"
   ]
  },
  {
   "cell_type": "markdown",
   "metadata": {},
   "source": [
    "### **34. You are given two string ‘s1’ and ‘s2’. You have to tell whether these form pair of (strset) A pair of strings is said to be str set if one string is substring of other.**\n",
    "\n",
    "#### **Input Description:**\n",
    "\n",
    "You are given two strings ‘s1’ and ‘s2’\n",
    "\n",
    "#### **Output Description:**\n",
    "\n",
    "Print Yes if they form strset and No if they don’t.\n",
    "\n",
    "**Sample Input:**\n",
    "\n",
    "abc ab\n",
    "\n",
    "**Sample Output:**\n",
    "\n",
    "Yes"
   ]
  },
  {
   "cell_type": "code",
   "execution_count": 30,
   "metadata": {},
   "outputs": [
    {
     "name": "stdout",
     "output_type": "stream",
     "text": [
      "Yes\n"
     ]
    }
   ],
   "source": [
    "def check_strset(s1, s2):\n",
    "    if s1 in s2 or s2 in s1:\n",
    "        print(\"Yes\")\n",
    "    else:\n",
    "        print(\"No\")\n",
    "\n",
    "s1, s2 = input().split()\n",
    "check_strset(s1, s2)"
   ]
  },
  {
   "cell_type": "markdown",
   "metadata": {},
   "source": [
    "### **37. In a school there are voting to choose the monitor of class.Your task is to tell which candidate is winner and if there is a tie print the name of candidate whose come first in lexicographical order.**\n",
    "\n",
    "#### **Input Description:**\n",
    "\n",
    "You are given with the space separated names.\n",
    "\n",
    "#### **Output Description:**\n",
    "\n",
    "Print the winner’s name and the votes he earned.\n",
    "\n",
    "**Sample Input:**\n",
    "\n",
    "john johnny jackie johnny john jackie jamie jamie john johnny jamie johnny john\n",
    "\n",
    "**Sample Output:**\n",
    "\n",
    "john 4"
   ]
  },
  {
   "cell_type": "code",
   "execution_count": null,
   "metadata": {},
   "outputs": [
    {
     "name": "stdout",
     "output_type": "stream",
     "text": [
      "john 4\n"
     ]
    }
   ],
   "source": [
    "from collections import defaultdict\n",
    "\n",
    "def find_monitor_winner(names):\n",
    "    # Count votes for each candidate\n",
    "    vote_count = defaultdict(int)\n",
    "    for name in names:\n",
    "        vote_count[name] += 1\n",
    "    \n",
    "    # Find the candidate with the maximum votes\n",
    "    max_votes = -1\n",
    "    winner = None\n",
    "    for candidate, votes in vote_count.items():\n",
    "        if votes > max_votes:\n",
    "            max_votes = votes\n",
    "            winner = candidate\n",
    "        elif votes == max_votes:\n",
    "            if candidate < winner:  # Lexicographical comparison\n",
    "                winner = candidate\n",
    "    print(f\"{winner} {max_votes}\")\n",
    "\n",
    "names_list = input().split()\n",
    "find_monitor_winner(names_list)"
   ]
  },
  {
   "cell_type": "markdown",
   "metadata": {},
   "source": [
    "### **38. Given a day, print 'yes' if it is a holiday otherwise print'no'.Assume that weekend days are holidays**\n",
    "\n",
    "#### **Sample Testcase:**\n",
    "\n",
    "**INPUT**\n",
    "\n",
    "saturday\n",
    "\n",
    "**OUTPUT**\n",
    "\n",
    "yes\n",
    "\n",
    "**INPUT**\n",
    "\n",
    "monday\n",
    "\n",
    "**OUTPUT**\n",
    "\n",
    "no"
   ]
  },
  {
   "cell_type": "code",
   "execution_count": 35,
   "metadata": {},
   "outputs": [
    {
     "name": "stdout",
     "output_type": "stream",
     "text": [
      "no\n"
     ]
    }
   ],
   "source": [
    "def check_holiday(day):\n",
    "    # Convert day to lowercase to handle case insensitivity\n",
    "    day = day.lower()\n",
    "    \n",
    "    # Check if the day is a weekend (holiday)\n",
    "    if day == \"saturday\" or day == \"sunday\":\n",
    "        print(\"yes\")\n",
    "    else:\n",
    "        print(\"no\")\n",
    "\n",
    "day = input()\n",
    "check_holiday(day)"
   ]
  },
  {
   "cell_type": "markdown",
   "metadata": {},
   "source": [
    "### **39. Given a string S, print the reverse of the string.**\n",
    "\n",
    "Input Size : |s| <= 100000 (ie do it in O(n) or O(log n) time complexity)\n",
    "\n",
    "#### **Sample Testcase:**\n",
    "\n",
    "**INPUT**\n",
    "\n",
    "codekata\n",
    "\n",
    "**OUTPUT**\n",
    "\n",
    "atakedoc"
   ]
  },
  {
   "cell_type": "code",
   "execution_count": 43,
   "metadata": {},
   "outputs": [
    {
     "name": "stdout",
     "output_type": "stream",
     "text": [
      "atakedoc\n"
     ]
    }
   ],
   "source": [
    "def reverse_string(s):\n",
    "    reversed_s = s[::-1]  # Using Python's slicing to reverse the string\n",
    "    return reversed_s\n",
    "\n",
    "input_string = input()\n",
    "reversed_string = reverse_string(input_string)\n",
    "print(reversed_string)"
   ]
  },
  {
   "cell_type": "markdown",
   "metadata": {},
   "source": [
    "### **40. Given a string S, print 'yes' if it is a palindrome or 'no' if it is not a palindrome.**\n",
    "\n",
    "#### **Sample Testcase:**\n",
    "\n",
    "**INPUT**\n",
    "\n",
    "lappal\n",
    "\n",
    "**OUTPUT**\n",
    "\n",
    "yes"
   ]
  },
  {
   "cell_type": "code",
   "execution_count": null,
   "metadata": {},
   "outputs": [
    {
     "name": "stdout",
     "output_type": "stream",
     "text": [
      "yes\n"
     ]
    }
   ],
   "source": [
    "def is_palindrome(s):\n",
    "    reversed_s = s[::-1]    # Reverse the string\n",
    "    \n",
    "    # Compare original string with reversed string\n",
    "    if s == reversed_s:\n",
    "        return \"yes\"\n",
    "    else:\n",
    "        return \"no\"\n",
    "\n",
    "a = input()\n",
    "result = is_palindrome(a)\n",
    "print(result)"
   ]
  },
  {
   "cell_type": "markdown",
   "metadata": {},
   "source": [
    "### **41. You are given two strings . Your task is to tell whether the pair of strings is panagram. A pair of strings are said to be panagram if they both are palindrome and are anagram of each other.**\n",
    "\n",
    "#### **Input Description:**\n",
    "\n",
    "You will be given two strings ‘s1’ and ‘s2’\n",
    "\n",
    "#### **Output Description:**\n",
    "\n",
    "Print 1 if they are panagram and 0 if they are not\n",
    "\n",
    "**Sample Input:**\n",
    "\n",
    "nitin intni\n",
    "\n",
    "**Sample Output:**\n",
    "\n",
    "1"
   ]
  },
  {
   "cell_type": "code",
   "execution_count": null,
   "metadata": {},
   "outputs": [
    {
     "name": "stdout",
     "output_type": "stream",
     "text": [
      "1\n"
     ]
    }
   ],
   "source": [
    "def is_panagram(s1, s2):\n",
    "    # Check if a string is palindrome\n",
    "    def is_palindrome(s):\n",
    "        return s == s[::-1]\n",
    "    \n",
    "    # Check if two strings are anagrams\n",
    "    def is_anagram(s1, s2):\n",
    "        return sorted(s1) == sorted(s2)\n",
    "    \n",
    "    # Check if both strings are palindromes and anagrams\n",
    "    if is_palindrome(s1) and is_palindrome(s2) and is_anagram(s1, s2):\n",
    "        return 1\n",
    "    else:\n",
    "        return 0\n",
    "\n",
    "s1, s2 = input().split()\n",
    "result = is_panagram(s1, s2)\n",
    "print(result)"
   ]
  },
  {
   "cell_type": "markdown",
   "metadata": {},
   "source": [
    "### **44. Given a binary number convert it to hexadecimal.**\n",
    "\n",
    "#### **Sample Testcase:**\n",
    "\n",
    "**INPUT**\n",
    "\n",
    "1100100\n",
    "\n",
    "**OUTPUT**\n",
    "\n",
    "64"
   ]
  },
  {
   "cell_type": "code",
   "execution_count": 50,
   "metadata": {},
   "outputs": [
    {
     "name": "stdout",
     "output_type": "stream",
     "text": [
      "64\n"
     ]
    }
   ],
   "source": [
    "def binary_to_hex(binary_string):\n",
    "    decimal_num = int(binary_string, 2)\n",
    "    hex_num = hex(decimal_num)\n",
    "    hex_num = hex_num[2:]\n",
    "    return hex_num.upper()\n",
    "\n",
    "binary_string = input()         # binary_string = '1100100'\n",
    "hexadecimal_result = binary_to_hex(binary_string)\n",
    "print(hexadecimal_result)"
   ]
  },
  {
   "cell_type": "markdown",
   "metadata": {},
   "source": [
    "### **45. You are given a string ‘S’ consisting of lowercase Latin Letters. Find the first non repeating character in S. If you find all the characters are repeating print the answer as -1**\n",
    "\n",
    "#### **Input Description:**\n",
    "\n",
    "You are given a string ‘s’\n",
    "\n",
    "#### **Output Description:**\n",
    "\n",
    "Print the first non occurring character if possible else -1.\n",
    "\n",
    "**Sample Input:**\n",
    "\n",
    "apple\n",
    "\n",
    "**Sample Output:**\n",
    "\n",
    "a"
   ]
  },
  {
   "cell_type": "code",
   "execution_count": null,
   "metadata": {},
   "outputs": [
    {
     "name": "stdout",
     "output_type": "stream",
     "text": [
      "a\n"
     ]
    }
   ],
   "source": [
    "def first_non_repeating_char(s):\n",
    "    char_count = {}\n",
    "    \n",
    "    # Count frequencies of each character\n",
    "    for char in s:\n",
    "        if char in char_count:\n",
    "            char_count[char] += 1\n",
    "        else:\n",
    "            char_count[char] = 1\n",
    "    \n",
    "    # Find the first non-repeating character\n",
    "    for char in s:\n",
    "        if char_count[char] == 1:\n",
    "            return char\n",
    "    return -1   # If no non-repeating character found\n",
    "\n",
    "input_string = input()\n",
    "result = first_non_repeating_char(input_string)\n",
    "print(result)"
   ]
  },
  {
   "cell_type": "markdown",
   "metadata": {},
   "source": [
    "### **46. Given 2 strings.check if the second string is a substring of the first string.Print 'yes' if there exists a valid substring otherwise print 'no'.**\n",
    "\n",
    "Input Size : 1 <= N <= 100000\n",
    "\n",
    "#### **Sample Testcase:**\n",
    "\n",
    "**INPUT**\n",
    "\n",
    "codekata code\n",
    "\n",
    "**OUTPUT**\n",
    "\n",
    "yes"
   ]
  },
  {
   "cell_type": "code",
   "execution_count": 55,
   "metadata": {},
   "outputs": [
    {
     "name": "stdout",
     "output_type": "stream",
     "text": [
      "yes\n"
     ]
    }
   ],
   "source": [
    "def check_substring(s1, s2):\n",
    "    if s2 in s1:\n",
    "        return \"yes\"\n",
    "    else:\n",
    "        return \"no\"\n",
    "\n",
    "s1, s2 = input().split()\n",
    "result = check_substring(s1, s2)\n",
    "print(result)"
   ]
  },
  {
   "cell_type": "code",
   "execution_count": null,
   "metadata": {},
   "outputs": [
    {
     "name": "stdout",
     "output_type": "stream",
     "text": [
      "yes\n"
     ]
    }
   ],
   "source": [
    "def build_lps(pattern):\n",
    "    lps = [0] * len(pattern)\n",
    "    length = 0  # length of the previous longest prefix suffix\n",
    "    \n",
    "    i = 1\n",
    "    while i < len(pattern):\n",
    "        if pattern[i] == pattern[length]:\n",
    "            length += 1\n",
    "            lps[i] = length\n",
    "            i += 1\n",
    "        else:\n",
    "            if length != 0:\n",
    "                length = lps[length - 1]\n",
    "            else:\n",
    "                lps[i] = 0\n",
    "                i += 1\n",
    "    return lps\n",
    "\n",
    "def kmp_search(text, pattern):\n",
    "    if not pattern:\n",
    "        return \"yes\"  # An empty pattern is considered to be found everywhere\n",
    "    \n",
    "    lps = build_lps(pattern)\n",
    "    i = 0  # index for text[]\n",
    "    j = 0  # index for pattern[]\n",
    "\n",
    "    while i < len(text):\n",
    "        if pattern[j] == text[i]:\n",
    "            i += 1\n",
    "            j += 1\n",
    "        \n",
    "        if j == len(pattern):\n",
    "            return \"yes\"  # Found pattern at index (i-j)\n",
    "        \n",
    "        elif i < len(text) and pattern[j] != text[i]:\n",
    "            if j != 0:\n",
    "                j = lps[j - 1]\n",
    "            else:\n",
    "                i += 1\n",
    "    return \"no\"  # Pattern not found in text\n",
    "\n",
    "# check if s2 is substring of s1\n",
    "def check_substring(s1, s2):\n",
    "    return kmp_search(s1, s2)\n",
    "\n",
    "s1, s2 = input().split()\n",
    "result = check_substring(s1, s2)\n",
    "print(result)"
   ]
  },
  {
   "cell_type": "markdown",
   "metadata": {},
   "source": [
    "### **47. Given a string S, print the 1st and 3rd character of the string (chracter index starts from 1).**\n",
    "\n",
    "Input Size : 1 <= N <= 100000\n",
    "\n",
    "#### **Sample Testcase:**\n",
    "\n",
    "**INPUT**\n",
    "\n",
    "codekata\n",
    "\n",
    "**OUTPUT**\n",
    "\n",
    "cd"
   ]
  },
  {
   "cell_type": "code",
   "execution_count": null,
   "metadata": {},
   "outputs": [
    {
     "name": "stdout",
     "output_type": "stream",
     "text": [
      "cd\n"
     ]
    }
   ],
   "source": [
    "def extract_characters(s):\n",
    "    if len(s) >= 3:\n",
    "        first_char = s[0]\n",
    "        third_char = s[2]\n",
    "        return first_char + third_char\n",
    "    else:\n",
    "        return \"Invalid input: String length should be at least 3.\"\n",
    "\n",
    "input_string = input()\n",
    "result = extract_characters(input_string)\n",
    "print(result)"
   ]
  },
  {
   "cell_type": "markdown",
   "metadata": {},
   "source": [
    "### **48. You are given a string ‘s’.Print all the duplicate characters of string.**\n",
    "\n",
    "#### **Input Description:**\n",
    "\n",
    "String ‘s; is given\n",
    "\n",
    "#### **Output Description:**\n",
    "\n",
    "Print only duplicate character and -1 if no character is duplicate.\n",
    "\n",
    "**Sample Input:**\n",
    "\n",
    "abcddee\n",
    "\n",
    "**Sample Output:**\n",
    "\n",
    "d e"
   ]
  },
  {
   "cell_type": "code",
   "execution_count": null,
   "metadata": {},
   "outputs": [
    {
     "name": "stdout",
     "output_type": "stream",
     "text": [
      "d e\n"
     ]
    }
   ],
   "source": [
    "from collections import Counter\n",
    "\n",
    "def find_duplicates(s):\n",
    "    char_count = Counter(s)\n",
    "\n",
    "    duplicates = []\n",
    "    for char, count in char_count.items():\n",
    "        if count > 1:\n",
    "            duplicates.append(char)\n",
    "    if not duplicates:\n",
    "        return \"-1\"\n",
    "    return \" \".join(sorted(duplicates))\n",
    "\n",
    "input_string = input()\n",
    "result = find_duplicates(input_string)\n",
    "print(result)"
   ]
  },
  {
   "cell_type": "markdown",
   "metadata": {},
   "source": [
    "### **49. Given a string S.Validate if a given string is numeric.print 'yes' if it is a numeric otherwise print 'no'.**\n",
    "\n",
    "#### **Sample Testcase:**\n",
    "\n",
    "**INPUT**\n",
    "\n",
    "guvigeeks\n",
    "\n",
    "**OUTPUT**\n",
    "\n",
    "no"
   ]
  },
  {
   "cell_type": "code",
   "execution_count": null,
   "metadata": {},
   "outputs": [
    {
     "name": "stdout",
     "output_type": "stream",
     "text": [
      "no\n"
     ]
    }
   ],
   "source": [
    "def is_numeric(S):\n",
    "    return S.isdigit()  # Check if the string is numeric using isdigit()\n",
    "\n",
    "S = input()\n",
    "if is_numeric(S):\n",
    "    print('yes')\n",
    "else:\n",
    "    print('no')"
   ]
  },
  {
   "cell_type": "code",
   "execution_count": null,
   "metadata": {},
   "outputs": [
    {
     "name": "stdout",
     "output_type": "stream",
     "text": [
      "no\n"
     ]
    }
   ],
   "source": [
    "def validate_numeric(s):\n",
    "    s = s.strip()   # Remove leading and trailing whitespace\n",
    "    \n",
    "    # Check if the string is numeric\n",
    "    if s:\n",
    "        # Check if all characters are digits (handling signs and decimal points)\n",
    "        if s[0] in ('+', '-') and len(s) > 1:\n",
    "            return s[1:].isdigit() or (s.count('.') == 1 and s[1:].replace('.', '', 1).isdigit())\n",
    "        else:\n",
    "            return s.isdigit() or (s.count('.') == 1 and s.replace('.', '', 1).isdigit())\n",
    "    else:\n",
    "        return False\n",
    "\n",
    "input_string = \"guvigeeks\"\n",
    "result = \"yes\" if validate_numeric(input_string) else \"no\"\n",
    "print(result)"
   ]
  },
  {
   "cell_type": "markdown",
   "metadata": {},
   "source": [
    "### **50. Given a string/sentence remove all the spaces and print the result.**\n",
    "\n",
    "Input Size : |s| <= 1000000(complexity O(n))\n",
    "\n",
    "#### **Sample Testcase:**\n",
    "\n",
    "**INPUT**\n",
    "\n",
    "guvi geeks\n",
    "\n",
    "**OUTPUT**\n",
    "\n",
    "guvigeeks"
   ]
  },
  {
   "cell_type": "code",
   "execution_count": 59,
   "metadata": {},
   "outputs": [
    {
     "name": "stdout",
     "output_type": "stream",
     "text": [
      "guvigeeks\n"
     ]
    }
   ],
   "source": [
    "def remove_spaces(s):\n",
    "    return s.replace(\" \", \"\")\n",
    "\n",
    "input_string = input()\n",
    "result = remove_spaces(input_string)\n",
    "print(result)"
   ]
  },
  {
   "cell_type": "markdown",
   "metadata": {},
   "source": [
    "### **51. Given 2 numbers n and m, n pairs of numbers a and b are given. In each pair 'a' means a person can start moving from point 'a' in the x axis to point 'b'(he can visit any point in between). Find if he can visit point m.**\n",
    "\n",
    "#### **Sample Testcase:**\n",
    "\n",
    "**INPUT**\n",
    "\n",
    "3 5\n",
    "\n",
    "0 2\n",
    "\n",
    "2 4\n",
    "\n",
    "3 5\n",
    "\n",
    "**OUTPUT**\n",
    "\n",
    "yes"
   ]
  },
  {
   "cell_type": "code",
   "execution_count": null,
   "metadata": {},
   "outputs": [
    {
     "name": "stdout",
     "output_type": "stream",
     "text": [
      "yes\n"
     ]
    }
   ],
   "source": [
    "from collections import deque, defaultdict\n",
    "\n",
    "def can_visit_point(n, m, pairs):\n",
    "    # Create adjacency list\n",
    "    graph = defaultdict(list)\n",
    "    for a, b in pairs:\n",
    "        graph[a].append(b)\n",
    "    \n",
    "    # Use BFS to check if we can reach `m`\n",
    "    queue = deque([point for point, _ in pairs])\n",
    "    visited = set()\n",
    "    \n",
    "    while queue:\n",
    "        current = queue.popleft()\n",
    "        if current == m:\n",
    "            return \"yes\"\n",
    "        if current not in visited:\n",
    "            visited.add(current)\n",
    "            for neighbor in graph[current]:\n",
    "                if neighbor not in visited:\n",
    "                    queue.append(neighbor)\n",
    "    return \"no\"\n",
    "\n",
    "n, m = map(int, input().split())\n",
    "pairs = [tuple(map(int, input().split())) for _ in range(n)]\n",
    "print(can_visit_point(n, m, pairs))"
   ]
  },
  {
   "cell_type": "code",
   "execution_count": null,
   "metadata": {},
   "outputs": [
    {
     "name": "stdout",
     "output_type": "stream",
     "text": [
      "yes\n"
     ]
    }
   ],
   "source": [
    "def can_reach_point_m(n, m, intervals):\n",
    "    # Sort intervals by their starting point (and by ending point if starting points are the same)\n",
    "    intervals.sort(key=lambda x: (x[0], x[1]))\n",
    "    \n",
    "    # Merge overlapping intervals\n",
    "    merged_intervals = []\n",
    "    for interval in intervals:\n",
    "        if not merged_intervals or merged_intervals[-1][1] < interval[0]:\n",
    "            merged_intervals.append(interval)   # No overlap with the last interval in merged_intervals, add the new interval\n",
    "        else:\n",
    "            merged_intervals[-1][1] = max(merged_intervals[-1][1], interval[1]) # There is an overlap, merge the intervals\n",
    "    \n",
    "    # Check if point m is covered by any of the merged intervals\n",
    "    for start, end in merged_intervals:\n",
    "        if start <= m <= end:\n",
    "            return \"yes\"\n",
    "    return \"no\"\n",
    "\n",
    "n, m = map(int, input().split())\n",
    "intervals = [[0, 2], [2, 4], [3, 5]]\n",
    "print(can_reach_point_m(n, m, intervals))"
   ]
  },
  {
   "cell_type": "markdown",
   "metadata": {},
   "source": [
    "### **52. Given a input string S, reverse the given string by appending each character of the string with '-'.**\n",
    "\n",
    "Input Size : |S| <= 100000\n",
    "\n",
    "**Sample Testcase:**\n",
    "\n",
    "**INPUT**\n",
    "\n",
    "codekata\n",
    "\n",
    "**OUTPUT**\n",
    "\n",
    "a-t-a-k-e-d-o-c"
   ]
  },
  {
   "cell_type": "code",
   "execution_count": null,
   "metadata": {},
   "outputs": [
    {
     "name": "stdout",
     "output_type": "stream",
     "text": [
      "a-t-a-k-e-d-o-c\n"
     ]
    }
   ],
   "source": [
    "def reverse_and_append_dash(s):\n",
    "    reversed_s = s[::-1]\n",
    "    result = '-'.join(reversed_s)\n",
    "    return result\n",
    "\n",
    "S = input().strip()\n",
    "result = reverse_and_append_dash(S)\n",
    "print(result)"
   ]
  },
  {
   "cell_type": "markdown",
   "metadata": {},
   "source": [
    "### **53. Given a number N and an array of N strings, find if two consecutive words are same.**\n",
    "\n",
    "Input Size : N <= 1000\n",
    "\n",
    "**Sample Testcase:**\n",
    "\n",
    "**INPUT**\n",
    "\n",
    "5\n",
    "\n",
    "code\n",
    "\n",
    "overload\n",
    "\n",
    "vishal\n",
    "\n",
    "sundar\n",
    "\n",
    "anish\n",
    "\n",
    "**OUTPUT**\n",
    "\n",
    "no"
   ]
  },
  {
   "cell_type": "code",
   "execution_count": null,
   "metadata": {},
   "outputs": [
    {
     "name": "stdout",
     "output_type": "stream",
     "text": [
      "no\n"
     ]
    }
   ],
   "source": [
    "def check_consecutive_words(n, words):\n",
    "    for i in range(n - 1):\n",
    "        if words[i] == words[i + 1]:\n",
    "            return \"yes\"\n",
    "    return \"no\"\n",
    "\n",
    "n = int(input())\n",
    "words = [input().strip() for _ in range(n)]\n",
    "result = check_consecutive_words(n, words)\n",
    "print(result)"
   ]
  },
  {
   "cell_type": "markdown",
   "metadata": {},
   "source": [
    "### **54. Given 2 numbers N,K and an array of N strings, find if any K consecutive strings are same.**\n",
    "\n",
    "Input Size : K <= N <= 1000\n",
    "\n",
    "**Sample Testcase:**\n",
    "\n",
    "**INPUT**\n",
    "\n",
    "5 3\n",
    "\n",
    "code\n",
    "\n",
    "overload\n",
    "\n",
    "vishal\n",
    "\n",
    "vishal\n",
    "\n",
    "vishal\n",
    "\n",
    "**OUTPUT**\n",
    "\n",
    "yes"
   ]
  },
  {
   "cell_type": "code",
   "execution_count": null,
   "metadata": {},
   "outputs": [
    {
     "name": "stdout",
     "output_type": "stream",
     "text": [
      "yes\n"
     ]
    }
   ],
   "source": [
    "def check_k_consecutive_strings(n, k, words):\n",
    "    for i in range(n - k + 1):\n",
    "        if all(words[j] == words[i] for j in range(i, i + k)):\n",
    "            return \"yes\"\n",
    "    return \"no\"\n",
    "\n",
    "n, k = map(int, input().split())\n",
    "words = [input().strip() for _ in range(n)]\n",
    "result = check_k_consecutive_strings(n, k, words)\n",
    "print(result)"
   ]
  },
  {
   "cell_type": "markdown",
   "metadata": {},
   "source": [
    "### **55. Given 2 strings S,X. Print the string after deleting X.If X not found print the same string.**\n",
    "\n",
    "Input Size : 1 <= |s|, |x| <= 1000\n",
    "\n",
    "#### **Sample Testcase:**\n",
    "\n",
    "**INPUT**\n",
    "\n",
    "Happy Birthday\n",
    "\n",
    "Happy\n",
    "\n",
    "**OUTPUT**\n",
    "\n",
    "Birthday"
   ]
  },
  {
   "cell_type": "code",
   "execution_count": null,
   "metadata": {},
   "outputs": [],
   "source": [
    "def delete_substring(s, x):\n",
    "    result = s.replace(x, '')\n",
    "    return result\n",
    "\n",
    "s = input().strip()\n",
    "x = input().strip()\n",
    "result = delete_substring(s, x)\n",
    "print(result)"
   ]
  },
  {
   "cell_type": "code",
   "execution_count": null,
   "metadata": {},
   "outputs": [
    {
     "name": "stdout",
     "output_type": "stream",
     "text": [
      " Birthday\n"
     ]
    }
   ],
   "source": [
    "def remove_substring(s, x):\n",
    "    if x in s:\n",
    "        return s.replace(x, '', 1)  # Remove only the first occurrence of x\n",
    "    return s\n",
    "\n",
    "S = input().strip()\n",
    "X = input().strip()\n",
    "result = remove_substring(S, X)\n",
    "print(result)"
   ]
  },
  {
   "cell_type": "markdown",
   "metadata": {},
   "source": [
    "### **56. Given 2 strings S,X. Print the string after deleting X.If X not found print the same string.**\n",
    "\n",
    "Input Size : 1 <= |s|, |x| <= 1000\n",
    "\n",
    "**Sample Testcase:**\n",
    "\n",
    "**INPUT**\n",
    "\n",
    "Happy Birthday\n",
    "\n",
    "Happy\n",
    "\n",
    "**OUTPUT**\n",
    "\n",
    "Birthday"
   ]
  },
  {
   "cell_type": "code",
   "execution_count": null,
   "metadata": {},
   "outputs": [
    {
     "name": "stdout",
     "output_type": "stream",
     "text": [
      "r g\n"
     ]
    }
   ],
   "source": [
    "def print_every_kth_char(s, k):\n",
    "    result = []\n",
    "    for i in range(k-1, len(s), k):\n",
    "        result.append(s[i])\n",
    "    print(' '.join(result))\n",
    "\n",
    "s = input().strip()\n",
    "k = int(input().strip())\n",
    "print_every_kth_char(s, k)"
   ]
  },
  {
   "cell_type": "markdown",
   "metadata": {},
   "source": [
    "### **57. Given 2 strings,check whether they have any common characters.If found print 'yes' else print 'no'.**\n",
    "\n",
    "Input Size : |s| <= 100000(O(n))\n",
    "\n",
    "Sample Testcase :\n",
    "\n",
    "**INPUT**\n",
    "\n",
    "guvi guvigeeks\n",
    "\n",
    "**OUTPUT**\n",
    "\n",
    "yes"
   ]
  },
  {
   "cell_type": "code",
   "execution_count": null,
   "metadata": {},
   "outputs": [
    {
     "name": "stdout",
     "output_type": "stream",
     "text": [
      "yes\n"
     ]
    }
   ],
   "source": [
    "def check_common_characters(s1, s2):\n",
    "    set_s1 = set(s1)\n",
    "    for char in s2:\n",
    "        if char in set_s1:\n",
    "            print(\"yes\")\n",
    "            return\n",
    "    print(\"no\")\n",
    "\n",
    "s1 = input().strip()\n",
    "s2 = input().strip()\n",
    "check_common_characters(s1, s2)"
   ]
  },
  {
   "cell_type": "code",
   "execution_count": 22,
   "metadata": {},
   "outputs": [
    {
     "name": "stdout",
     "output_type": "stream",
     "text": [
      "yes\n"
     ]
    }
   ],
   "source": [
    "# Read input strings and split by space\n",
    "a = input().split(\" \")\n",
    "\n",
    "# Convert each string into a list of characters\n",
    "b = list(a[0])\n",
    "c = list(a[1])\n",
    "\n",
    "# Initialize a counter and an empty list to store common characters\n",
    "m = 0\n",
    "d = []\n",
    "\n",
    "# Determine the length of the smaller list\n",
    "if len(b) < len(c):\n",
    "    m = len(b)\n",
    "else:\n",
    "    m = len(c)\n",
    "\n",
    "# Check for common characters\n",
    "for i in range(m):\n",
    "    if b[i] in c:\n",
    "        d.append(b[i])\n",
    "\n",
    "if d:\n",
    "    print(\"yes\")\n",
    "else:\n",
    "    print(\"no\")"
   ]
  },
  {
   "cell_type": "code",
   "execution_count": 21,
   "metadata": {},
   "outputs": [
    {
     "name": "stdout",
     "output_type": "stream",
     "text": [
      "yes\n"
     ]
    }
   ],
   "source": [
    "def have_common_characters(s1, s2):\n",
    "    # Convert both strings to sets of characters\n",
    "    set1 = set(s1)\n",
    "    set2 = set(s2)\n",
    "    \n",
    "    # Check if there is any intersection\n",
    "    if set1 & set2:\n",
    "        return 'yes'\n",
    "    else:\n",
    "        return 'no'\n",
    "\n",
    "s1, s2 = input().split()\n",
    "print(have_common_characters(s1, s2))"
   ]
  },
  {
   "cell_type": "markdown",
   "metadata": {},
   "source": [
    "### **58. Given a number N, find the number of ones in its binary representation.**\n",
    "\n",
    "Sample Testcase :\n",
    "\n",
    "**INPUT**\n",
    "\n",
    "276\n",
    "\n",
    "**OUTPUT**\n",
    "\n",
    "3"
   ]
  },
  {
   "cell_type": "markdown",
   "metadata": {},
   "source": [
    "#### **Logic:**\n",
    "\n",
    "bin(N) --> converts the number N to its binary representation as a string prefixed with '0b'.\n",
    "\n",
    "[2:] --> removes the '0b' prefix.\n",
    "\n",
    "binary_representation.count('1') ---> counts the number of '1's in the binary string.\n",
    "\n",
    "For the given input value of 276, the binary representation is 100010100, which contains three '1's. Thus, the output is 3."
   ]
  },
  {
   "cell_type": "code",
   "execution_count": 1,
   "metadata": {},
   "outputs": [
    {
     "name": "stdout",
     "output_type": "stream",
     "text": [
      "3\n"
     ]
    }
   ],
   "source": [
    "def count_ones_in_binary(N):\n",
    "    # Convert the number to binary and remove the '0b' prefix\n",
    "    binary_representation = bin(N)[2:]\n",
    "    # Count the number of ones\n",
    "    number_of_ones = binary_representation.count('1')\n",
    "    return number_of_ones\n",
    "\n",
    "N = int(input())\n",
    "print(count_ones_in_binary(N))"
   ]
  },
  {
   "cell_type": "markdown",
   "metadata": {},
   "source": [
    "### **59. Given a binary number convert it into octal format.**\n",
    "\n",
    "Sample Testcase :\n",
    "\n",
    "**INPUT**\n",
    "\n",
    "1100100\n",
    "\n",
    "**OUTPUT**\n",
    "\n",
    "144"
   ]
  },
  {
   "cell_type": "code",
   "execution_count": null,
   "metadata": {},
   "outputs": [
    {
     "name": "stdout",
     "output_type": "stream",
     "text": [
      "144\n"
     ]
    }
   ],
   "source": [
    "def binary_to_octal(binary_str):\n",
    "    # Pad the binary string with leading zeros to make its length a multiple of 3\n",
    "    padded_binary_str = binary_str.zfill(len(binary_str) + (3 - len(binary_str) % 3) % 3)\n",
    "    \n",
    "    octal_str = \"\"\n",
    "    \n",
    "    # Group the binary string into sets of three and convert each group to octal\n",
    "    for i in range(0, len(padded_binary_str), 3):\n",
    "        # Take three binary digits\n",
    "        binary_group = padded_binary_str[i : i+3]\n",
    "        # Convert the binary group to an octal digit and append to the octal string\n",
    "        octal_str += str(int(binary_group, 2))\n",
    "    return octal_str\n",
    "\n",
    "binary_input = input()\n",
    "print(binary_to_octal(binary_input))"
   ]
  },
  {
   "cell_type": "markdown",
   "metadata": {},
   "source": [
    "### **60. A number is given as input.Find the maximum number that can be formed using the digits.**\n",
    "\n",
    "Input Size : N <= 10000000\n",
    "\n",
    "Sample Testcase :\n",
    "\n",
    "**INPUT**\n",
    "\n",
    "4123\n",
    "\n",
    "**OUTPUT**\n",
    "\n",
    "4321"
   ]
  },
  {
   "cell_type": "code",
   "execution_count": null,
   "metadata": {},
   "outputs": [],
   "source": [
    "def max_number_from_digits(N):\n",
    "    str_N = str(N)\n",
    "    sorted_digits = sorted(str_N, reverse=True) # Sort the digits in descending order\n",
    "    max_number_str = ''.join(sorted_digits)\n",
    "    \n",
    "    # Convert the result back to an integer\n",
    "    max_number = int(max_number_str)\n",
    "    return max_number\n",
    "\n",
    "input_number = int(input())\n",
    "print(max_number_from_digits(input_number))"
   ]
  },
  {
   "cell_type": "markdown",
   "metadata": {},
   "source": [
    "### **61. Given a string S, print 'yes' if the strings 'GUVI' and 'GEEK' is present case-sensitively in the string else print 'no'.**\n",
    "\n",
    "Input Size : 1 <= 100\n",
    "\n",
    "Sample Testcase :\n",
    "\n",
    "**INPUT**\n",
    "\n",
    "Vishal_Sundar prepared this question\n",
    "\n",
    "**OUTPUT**\n",
    "\n",
    "no"
   ]
  },
  {
   "cell_type": "code",
   "execution_count": null,
   "metadata": {},
   "outputs": [
    {
     "name": "stdout",
     "output_type": "stream",
     "text": [
      "no\n"
     ]
    }
   ],
   "source": [
    "def check_strings(S):\n",
    "    if \"GUVI\" in S and \"GEEK\" in S:\n",
    "        return 'yes'\n",
    "    else:\n",
    "        return 'no'\n",
    "\n",
    "S = input()\n",
    "print(check_strings(S))"
   ]
  },
  {
   "cell_type": "markdown",
   "metadata": {},
   "source": [
    "### **62. Given a number N and an array of N strings,Print yes, if all strings have atleast one vowel in them otherwise print no.**\n",
    "\n",
    "Input Size : N <= 1000\n",
    "\n",
    "Sample Testcase :\n",
    "\n",
    "**INPUT**\n",
    "\n",
    "5\n",
    "code\n",
    "overload\n",
    "vishal\n",
    "sundar\n",
    "anish\n",
    "\n",
    "**OUTPUT**\n",
    "\n",
    "yes"
   ]
  },
  {
   "cell_type": "code",
   "execution_count": 7,
   "metadata": {},
   "outputs": [
    {
     "name": "stdout",
     "output_type": "stream",
     "text": [
      "yes\n"
     ]
    }
   ],
   "source": [
    "def contains_vowel(s):\n",
    "    vowels = \"aeiouAEIOU\"\n",
    "    for char in s:\n",
    "        if char in vowels:\n",
    "            return True\n",
    "    return False\n",
    "\n",
    "def check_all_strings_have_vowels(N, strings):\n",
    "    for string in strings:\n",
    "        if not contains_vowel(string):\n",
    "            return \"no\"\n",
    "    return \"yes\"\n",
    "\n",
    "N = int(input())\n",
    "strings = [input().strip() for _ in range(N)]\n",
    "print(check_all_strings_have_vowels(N, strings))"
   ]
  },
  {
   "cell_type": "markdown",
   "metadata": {},
   "source": [
    "### **63. Given a string S of length N, reverse the case of each letter.**\n",
    "\n",
    "Input Size : N <= 100\n",
    "\n",
    "Sample Testcase :\n",
    "\n",
    "**INPUT**\n",
    "\n",
    "HeLlo\n",
    "\n",
    "**OUTPUT**\n",
    "\n",
    "hElLO"
   ]
  },
  {
   "cell_type": "code",
   "execution_count": 8,
   "metadata": {},
   "outputs": [
    {
     "name": "stdout",
     "output_type": "stream",
     "text": [
      "hElLO\n"
     ]
    }
   ],
   "source": [
    "S = input().swapcase()\n",
    "print(S)"
   ]
  },
  {
   "cell_type": "code",
   "execution_count": null,
   "metadata": {},
   "outputs": [
    {
     "name": "stdout",
     "output_type": "stream",
     "text": [
      "hElLO\n"
     ]
    }
   ],
   "source": [
    "# Use swapcase() to reverse the case of each letter\n",
    "def reverse_case(S):\n",
    "    return S.swapcase()\n",
    "\n",
    "S = input()\n",
    "result = reverse_case(S)\n",
    "print(result)"
   ]
  },
  {
   "cell_type": "markdown",
   "metadata": {},
   "source": [
    "### **64. Given a string S, print the reverse of the string after removing the vowels.If the resulting string is empty print '-1'.**\n",
    "\n",
    "Input Size : 1 <= N <= 100000\n",
    "\n",
    "**Sample Testcase:**\n",
    "\n",
    "**INPUT**\n",
    "\n",
    "codekata\n",
    "\n",
    "**OUTPUT**\n",
    "\n",
    "tkdc"
   ]
  },
  {
   "cell_type": "code",
   "execution_count": null,
   "metadata": {},
   "outputs": [],
   "source": [
    "def reverse_without_vowels(s):\n",
    "    vowels = \"aeiouAEIOU\"\n",
    "    no_vowels = [char for char in s if char not in vowels]\n",
    "    if not no_vowels:\n",
    "        return '-1'\n",
    "    return ''.join(no_vowels)[::-1]\n",
    "\n",
    "s = input()\n",
    "output_string = reverse_without_vowels(s)\n",
    "print(output_string)"
   ]
  },
  {
   "cell_type": "markdown",
   "metadata": {},
   "source": [
    "### **65. Given a string S, retain the character(s) once irrespective of number of times it occurs in the given string.**\n",
    "\n",
    "Input Size : |S| <= 100000\n",
    "\n",
    "Sample Testcase :\n",
    "\n",
    "**INPUT**\n",
    "\n",
    "aabbaa\n",
    "\n",
    "**OUTPUT**\n",
    "\n",
    "ab"
   ]
  },
  {
   "cell_type": "markdown",
   "metadata": {},
   "source": [
    "### **Logic:**\n",
    "\n",
    "**Set seen:**\n",
    "\n",
    "This set keeps track of characters that have already been encountered. It ensures that each character is added only once.\n",
    "\n",
    "**List result:**\n",
    "\n",
    "This list accumulates characters in the order they first appear in the input string.\n",
    "\n",
    "**Loop Through String:**\n",
    "\n",
    "For each character in the string S, check if it is in the seen set.\n",
    "If not, add it to both the seen set and the result list.\n",
    "\n",
    "**Build Result String:**\n",
    "\n",
    "After processing all characters, join the list into a string and return it."
   ]
  },
  {
   "cell_type": "code",
   "execution_count": null,
   "metadata": {},
   "outputs": [
    {
     "name": "stdout",
     "output_type": "stream",
     "text": [
      "ab\n"
     ]
    }
   ],
   "source": [
    "def retain_unique_chars(S):\n",
    "    seen = set()\n",
    "    \n",
    "    result = []\n",
    "    for char in S:\n",
    "        if char not in seen:\n",
    "            seen.add(char)\n",
    "            result.append(char)\n",
    "    return ''.join(result)\n",
    "\n",
    "S = input()\n",
    "result = retain_unique_chars(S)\n",
    "print(result)"
   ]
  },
  {
   "cell_type": "markdown",
   "metadata": {},
   "source": [
    "### **66. Given a set of numbers of length N. Your task is to find the quad ret (x1,x2,x3,x4) which will result the sum in 1. If quad ret exists print Yes else print No**\n",
    "\n",
    "**Input Description:**\n",
    "\n",
    "First line contains a number N. Next line contains n space separated numbers\n",
    "\n",
    "**Output Description:**\n",
    "\n",
    "Print Yes or No\n",
    "\n",
    "**Sample Input:**\n",
    "\n",
    "5 \n",
    "\n",
    "1 -1 2 -2 3\n",
    "\n",
    "**Sample Output:**\n",
    "\n",
    "Yes"
   ]
  },
  {
   "cell_type": "code",
   "execution_count": null,
   "metadata": {},
   "outputs": [
    {
     "name": "stdout",
     "output_type": "stream",
     "text": [
      "Yes\n"
     ]
    }
   ],
   "source": [
    "# Brute force solution:\n",
    "\n",
    "def find_quadruplet(arr, N):\n",
    "    # Check all combinations of four numbers\n",
    "    for i in range(N):\n",
    "        for j in range(i+1, N):\n",
    "            for k in range(j+1, N):\n",
    "                for l in range(k+1, N):\n",
    "                    if arr[i] + arr[j] + arr[k] + arr[l] == 1:\n",
    "                        return \"Yes\"\n",
    "    return \"No\"\n",
    "\n",
    "N = int(input())\n",
    "arr = list(map(int, input().split()))\n",
    "print(find_quadruplet(arr, N))"
   ]
  },
  {
   "cell_type": "markdown",
   "metadata": {},
   "source": [
    "### **67. Given a sentence interchange the between the word 'and'.**\n",
    "\n",
    "Input Size : |S| <= 1000000\n",
    "\n",
    "**Sample Testcase:**\n",
    "\n",
    "**INPUT**\n",
    "\n",
    "jack and jill went up and down to get water\n",
    "\n",
    "**OUTPUT**\n",
    "\n",
    "jill and jack went down and up to get water"
   ]
  },
  {
   "cell_type": "code",
   "execution_count": null,
   "metadata": {},
   "outputs": [
    {
     "name": "stdout",
     "output_type": "stream",
     "text": [
      "jill and jack went down and up to get water\n"
     ]
    }
   ],
   "source": [
    "def swap_words_around_and(sentence):\n",
    "    words = sentence.split()\n",
    "\n",
    "    i = 0\n",
    "    while i < len(words):\n",
    "        if words[i] == \"and\" and i > 0 and i < len(words) - 1:\n",
    "            # Swap the words before and after \"and\"\n",
    "            words[i-1], words[i+1] = words[i+1], words[i-1]\n",
    "            i += 2  # Move to the next possible \"and\" (skip the swapped part)\n",
    "        else:\n",
    "            i += 1\n",
    "    return ' '.join(words)  # Join the words back into a sentence\n",
    "\n",
    "sentence = input().strip()\n",
    "print(swap_words_around_and(sentence))"
   ]
  },
  {
   "cell_type": "markdown",
   "metadata": {},
   "source": [
    "### **68. Given a string two strings S1 and S2, remove characters from the S1 which are present in the S2.If S1 becomes empty then print -1**\n",
    "\n",
    "Input Size : N <= 100000\n",
    "\n",
    "**Sample Testcase:**\n",
    "\n",
    "**INPUT**\n",
    "\n",
    "GUVI GEEK\n",
    "\n",
    "**OUTPUT**\n",
    "\n",
    "UVI"
   ]
  },
  {
   "cell_type": "code",
   "execution_count": null,
   "metadata": {},
   "outputs": [
    {
     "name": "stdout",
     "output_type": "stream",
     "text": [
      "UVI\n"
     ]
    }
   ],
   "source": [
    "def remove_chars(S1, S2):\n",
    "    chars_to_remove = set(S2)\n",
    "    \n",
    "    # Filter out characters from S1 that are in S2\n",
    "    result = [char for char in S1 if char not in chars_to_remove]\n",
    "    result_str = ''.join(result)\n",
    "    return result_str if result_str else '-1'\n",
    "\n",
    "S1, S2 = input().split()\n",
    "print(remove_chars(S1, S2))"
   ]
  },
  {
   "cell_type": "markdown",
   "metadata": {},
   "source": [
    "### **69. Given a string print reverse all words except the first and last words.**\n",
    "\n",
    "**Sample Testcase:**\n",
    "\n",
    "**INPUT**\n",
    "\n",
    "Hi how are you\n",
    "\n",
    "**OUTPUT**\n",
    "\n",
    "Hi woh era you"
   ]
  },
  {
   "cell_type": "code",
   "execution_count": null,
   "metadata": {},
   "outputs": [
    {
     "name": "stdout",
     "output_type": "stream",
     "text": [
      "Hi woh era you\n"
     ]
    }
   ],
   "source": [
    "def reverse_middle_words(sentence):\n",
    "    words = sentence.split()\n",
    "    if len(words) < 3:\n",
    "        return sentence\n",
    "    \n",
    "    # Reverse all words except the first and last\n",
    "    for i in range(1, len(words) - 1):\n",
    "        words[i] = words[i][::-1]  # Reverse the current word\n",
    "    return ' '.join(words)  # Join the words back into a sentence\n",
    "\n",
    "sentence = input().strip()\n",
    "print(reverse_middle_words(sentence))"
   ]
  },
  {
   "cell_type": "markdown",
   "metadata": {},
   "source": [
    "### **72. You are given a string ‘s’. Your task is to print the characters which are not repeated with a single space in between the characters.**\n",
    "\n",
    "**Input Description:**\n",
    "\n",
    "You are given a string ‘s’.\n",
    "\n",
    "**Output Description:**\n",
    "\n",
    "Print the characters present once and -1 if there is no character which satisfy above condition\n",
    "\n",
    "**Sample Input:**\n",
    "\n",
    "dabbc\n",
    "\n",
    "**Sample Output:**\n",
    "\n",
    "d a c "
   ]
  },
  {
   "cell_type": "code",
   "execution_count": null,
   "metadata": {},
   "outputs": [
    {
     "name": "stdout",
     "output_type": "stream",
     "text": [
      "d a c\n"
     ]
    }
   ],
   "source": [
    "from collections import Counter\n",
    "\n",
    "def print_non_repeated_chars(s):\n",
    "    char_count = Counter(s) # Count the frequency of each character\n",
    "    \n",
    "    # Collect non-repeated characters\n",
    "    result = [char for char in s if char_count[char] == 1]\n",
    "    if not result:\n",
    "        print(-1)\n",
    "    else:\n",
    "        print(' '.join(result))\n",
    "\n",
    "s = input().strip()\n",
    "print_non_repeated_chars(s)"
   ]
  },
  {
   "cell_type": "markdown",
   "metadata": {},
   "source": [
    "### **74. Given a string/sentence print its corresponding camelcase convention.**\n",
    "\n",
    "Input Size : |s| <= 1000000(complexity O(n))\n",
    "\n",
    "**Sample Testcase :**\n",
    "\n",
    "**INPUT**\n",
    "\n",
    "guvi geeks\n",
    "\n",
    "**OUTPUT**\n",
    "\n",
    "GuviGeeks"
   ]
  },
  {
   "cell_type": "code",
   "execution_count": null,
   "metadata": {},
   "outputs": [
    {
     "name": "stdout",
     "output_type": "stream",
     "text": [
      "GuviGeeks\n"
     ]
    }
   ],
   "source": [
    "def to_camel_case(s):\n",
    "    words = s.split()   # Split the sentence into words\n",
    "    \n",
    "    # Capitalize the first letter of each word and join them\n",
    "    result = ''.join(word.capitalize() for word in words)\n",
    "    return result\n",
    "\n",
    "s = input().strip()\n",
    "print(to_camel_case(s))"
   ]
  },
  {
   "cell_type": "markdown",
   "metadata": {},
   "source": [
    "### **75. Given 2 numbers N,K and an array of N integers, find if the element K exists in the array.**\n",
    "\n",
    "Input Size : N <= 100000\n",
    "\n",
    "**Sample Testcase:**\n",
    "\n",
    "**INPUT**\n",
    "\n",
    "5 2\n",
    "\n",
    "1 2 3 4 5\n",
    "\n",
    "**OUTPUT**\n",
    "\n",
    "yes\n",
    "\n",
    "HINT: Read about Binary Search"
   ]
  },
  {
   "cell_type": "code",
   "execution_count": null,
   "metadata": {},
   "outputs": [
    {
     "name": "stdout",
     "output_type": "stream",
     "text": [
      "yes\n"
     ]
    }
   ],
   "source": [
    "def binary_search(arr, target):\n",
    "    left, right = 0, len(arr) - 1\n",
    "    while left <= right:\n",
    "        mid = left + (right - left) // 2\n",
    "        if arr[mid] == target:\n",
    "            return True\n",
    "        elif arr[mid] < target:\n",
    "            left = mid + 1\n",
    "        else:\n",
    "            right = mid - 1\n",
    "    return False\n",
    "\n",
    "N, K = map(int, input().split())\n",
    "arr = list(map(int, input().split()))\n",
    "arr.sort()\n",
    "\n",
    "# Perform binary search to find K\n",
    "if binary_search(arr, K):\n",
    "    print(\"yes\")\n",
    "else:\n",
    "    print(\"no\")"
   ]
  },
  {
   "cell_type": "markdown",
   "metadata": {},
   "source": [
    "### **77. Given 2 strings check whether they differ exacly by one character.If yes then print 'yes' otherwise print 'no'**\n",
    "\n",
    "Input Size : |s| <= 100000(complexity O(nlogn) or O(n))\n",
    "\n",
    "**Sample Testcase:**\n",
    "\n",
    "**INPUT**\n",
    "\n",
    "codekata codekate\n",
    "\n",
    "**OUTPUT**\n",
    "\n",
    "yes"
   ]
  },
  {
   "cell_type": "code",
   "execution_count": null,
   "metadata": {},
   "outputs": [
    {
     "name": "stdout",
     "output_type": "stream",
     "text": [
      "yes\n"
     ]
    }
   ],
   "source": [
    "def differ_by_one(s1, s2):\n",
    "    # Check if lengths are the same\n",
    "    if len(s1) != len(s2):\n",
    "        return \"no\"\n",
    "    \n",
    "    # Count differences\n",
    "    difference_count = 0\n",
    "    for char1, char2 in zip(s1, s2):\n",
    "        if char1 != char2:\n",
    "            difference_count += 1\n",
    "            if difference_count > 1:    # Early exit if more than one difference\n",
    "                return \"no\"\n",
    "    \n",
    "    # Check if there is exactly one difference\n",
    "    return \"yes\" if difference_count == 1 else \"no\"\n",
    "\n",
    "s1, s2 = input().strip().split()\n",
    "print(differ_by_one(s1, s2))"
   ]
  },
  {
   "cell_type": "markdown",
   "metadata": {},
   "source": [
    "### **78. Given a string 'S' and a character 'K', find at what position the character 'K' occurs for the first time in 'S'.(Assume the index of string starts at 1).If the character is not found in 'S' then print -1**\n",
    "\n",
    "Input Size : |s| <= 100000\n",
    "\n",
    "**Sample Testcase:**\n",
    "\n",
    "**INPUT**\n",
    "\n",
    "codekata a\n",
    "\n",
    "**OUTPUT**\n",
    "\n",
    "6"
   ]
  },
  {
   "cell_type": "code",
   "execution_count": null,
   "metadata": {},
   "outputs": [
    {
     "name": "stdout",
     "output_type": "stream",
     "text": [
      "6\n"
     ]
    }
   ],
   "source": [
    "def find_first_occurrence(s, k):\n",
    "    for index in range(len(s)):\n",
    "        if s[index] == k:\n",
    "            return index + 1  # return position as 1-based index\n",
    "    return -1  # if not found\n",
    "\n",
    "input_string = input().strip()\n",
    "k = input().strip()\n",
    "print(find_first_occurrence(input_string, k))"
   ]
  },
  {
   "cell_type": "markdown",
   "metadata": {},
   "source": [
    "### **79. Given a string, print the least repeated characters in the string.If there are more than one character repeated preserve the order as in the input.**\n",
    "\n",
    "Input Size : 1 <= N <= 100000\n",
    "\n",
    "**Sample Testcase:**\n",
    "\n",
    "**INPUT**\n",
    "\n",
    "codeKata challenge\n",
    "\n",
    "**OUTPUT**\n",
    "\n",
    "odKthng"
   ]
  },
  {
   "cell_type": "code",
   "execution_count": null,
   "metadata": {},
   "outputs": [
    {
     "name": "stdout",
     "output_type": "stream",
     "text": [
      "odKthng\n"
     ]
    }
   ],
   "source": [
    "def least_repeated_characters(s):\n",
    "    frequency = {}\n",
    "    for char in s:  # Count each character's frequency\n",
    "        if char != ' ':  # Ignore spaces\n",
    "            frequency[char] = frequency.get(char, 0) + 1\n",
    "\n",
    "    # Collect non-repeating characters\n",
    "    result = []\n",
    "    for char in s:\n",
    "        if frequency.get(char, 0) == 1 and char != ' ':  # Check for non-repeating\n",
    "            result.append(char)\n",
    "    return ''.join(result)\n",
    "\n",
    "input_string = input()\n",
    "output = least_repeated_characters(input_string)\n",
    "print(output)"
   ]
  },
  {
   "cell_type": "markdown",
   "metadata": {},
   "source": [
    "### **80. Given a string S,count the maximum number of times a character repeated in the string.If no character is repeated print '0'.**\n",
    "\n",
    "Input Size : 1 <= N <= 100000\n",
    "\n",
    "**Sample Testcase:**\n",
    "\n",
    "**INPUT**\n",
    "\n",
    "codekata\n",
    "\n",
    "**OUTPUT**\n",
    "\n",
    "2"
   ]
  },
  {
   "cell_type": "code",
   "execution_count": null,
   "metadata": {},
   "outputs": [
    {
     "name": "stdout",
     "output_type": "stream",
     "text": [
      "2\n"
     ]
    }
   ],
   "source": [
    "def max_character_repetition(s):\n",
    "    frequency = {}\n",
    "    for char in s:  # Count each character's frequency\n",
    "        frequency[char] = frequency.get(char, 0) + 1\n",
    "    \n",
    "    # Find the maximum frequency\n",
    "    max_count = 0\n",
    "    for count in frequency.values():\n",
    "        if count > max_count:\n",
    "            max_count = count\n",
    "    return max_count if max_count > 1 else 0\n",
    "\n",
    "input_string = input()\n",
    "output = max_character_repetition(input_string)\n",
    "print(output)"
   ]
  },
  {
   "cell_type": "markdown",
   "metadata": {},
   "source": [
    "### **81. Given 2 strings,check whether it is isomorphic.If it is not isomorphic print '-1'.**\n",
    "\n",
    "Input Size : |s| <= 100000(complexity O(nlogn))\n",
    "\n",
    "**Sample Testcase:**\n",
    "\n",
    "**INPUT**\n",
    "\n",
    "aab xxy\n",
    "\n",
    "**OUTPUT**\n",
    "\n",
    "yes"
   ]
  },
  {
   "cell_type": "code",
   "execution_count": null,
   "metadata": {},
   "outputs": [
    {
     "name": "stdout",
     "output_type": "stream",
     "text": [
      "yes\n"
     ]
    }
   ],
   "source": [
    "def are_isomorphic(s1, s2):\n",
    "    if len(s1) != len(s2):\n",
    "        return -1\n",
    "\n",
    "    # Mapping dictionaries\n",
    "    mapping_s1_to_s2 = {}\n",
    "    mapping_s2_to_s1 = {}\n",
    "\n",
    "    for char1, char2 in zip(s1, s2):\n",
    "        # Check mapping from s1 to s2\n",
    "        if char1 in mapping_s1_to_s2:\n",
    "            if mapping_s1_to_s2[char1] != char2:\n",
    "                return -1  # Mismatch found\n",
    "        else:\n",
    "            mapping_s1_to_s2[char1] = char2\n",
    "\n",
    "        # Check mapping from s2 to s1\n",
    "        if char2 in mapping_s2_to_s1:\n",
    "            if mapping_s2_to_s1[char2] != char1:\n",
    "                return -1  # Mismatch found\n",
    "        else:\n",
    "            mapping_s2_to_s1[char2] = char1\n",
    "    return 'yes'\n",
    "\n",
    "input1 = input()\n",
    "input2 = input()\n",
    "output = are_isomorphic(input1, input2)\n",
    "print(output)"
   ]
  },
  {
   "cell_type": "markdown",
   "metadata": {},
   "source": [
    "### **82. Given 2 strings S and X print the word position of X in S.(word count starts from 1).If the given word doesn't exists in S print '-1'.**\n",
    "\n",
    "Input Size : 1 <= |s|, |x| <= 1000\n",
    "\n",
    "**Sample Testcase:**\n",
    "\n",
    "**INPUT**\n",
    "\n",
    "codekata coding challenge\n",
    "\n",
    "coding\n",
    "\n",
    "**OUTPUT**\n",
    "\n",
    "2"
   ]
  },
  {
   "cell_type": "code",
   "execution_count": 1,
   "metadata": {},
   "outputs": [
    {
     "name": "stdout",
     "output_type": "stream",
     "text": [
      "2\n"
     ]
    }
   ],
   "source": [
    "def find_word_position(S, X):\n",
    "    words = S.split()\n",
    "    if X in words:\n",
    "        return words.index(X) + 1\n",
    "    else:\n",
    "        return -1\n",
    "\n",
    "S = input().strip()\n",
    "X = input().strip()\n",
    "print(find_word_position(S, X))"
   ]
  },
  {
   "cell_type": "markdown",
   "metadata": {},
   "source": [
    "### **83. Given a number N, print the kth digit from the given position p(given order N P K).**\n",
    "\n",
    "**Sample Testcase:**\n",
    "\n",
    "**INPUT**\n",
    "\n",
    "5765 2 1\n",
    "\n",
    "**OUTPUT**\n",
    "\n",
    "6"
   ]
  },
  {
   "cell_type": "code",
   "execution_count": null,
   "metadata": {},
   "outputs": [
    {
     "name": "stdout",
     "output_type": "stream",
     "text": [
      "7\n"
     ]
    }
   ],
   "source": [
    "def get_kth_digit(N, P, K):\n",
    "    # Convert number N to string to easily access digits\n",
    "    str_num = str(N)\n",
    "    \n",
    "    # Calculate the starting index based on P\n",
    "    start_index = P - 1  # Convert to 0-indexed\n",
    "    \n",
    "    # Check if the starting position is valid\n",
    "    if start_index < 0 or start_index >= len(str_num):\n",
    "        return -1  # Invalid position\n",
    "    \n",
    "    # Calculate the index of the kth digit\n",
    "    kth_index = start_index + K - 1  # Convert K to 0-indexed\n",
    "    \n",
    "    # Check if kth index is valid\n",
    "    if kth_index < 0 or kth_index >= len(str_num):\n",
    "        return -1  # Invalid kth position\n",
    "    return str_num[kth_index]\n",
    "\n",
    "N, P, K = map(int, input().split())\n",
    "output = get_kth_digit(N, P, K)\n",
    "print(output)"
   ]
  },
  {
   "cell_type": "markdown",
   "metadata": {},
   "source": [
    "### **84. Given a number N, print the sum of its first and last digit.**\n",
    "\n",
    "Input Size : |N| <= 10000\n",
    "\n",
    "**Sample Testcase:**\n",
    "\n",
    "**INPUT**\n",
    "\n",
    "51233\n",
    "\n",
    "**OUTPUT**\n",
    "\n",
    "8"
   ]
  },
  {
   "cell_type": "code",
   "execution_count": null,
   "metadata": {},
   "outputs": [
    {
     "name": "stdout",
     "output_type": "stream",
     "text": [
      "8\n"
     ]
    }
   ],
   "source": [
    "def sum_first_last_digit(N):\n",
    "    str_num = str(N)    # Convert the number to a string\n",
    "    \n",
    "    # Get the first and last digits\n",
    "    first_digit = int(str_num[0])\n",
    "    last_digit = int(str_num[-1])\n",
    "    digit_sum = first_digit + last_digit\n",
    "    return digit_sum\n",
    "\n",
    "N = input()\n",
    "result = sum_first_last_digit(N)\n",
    "print(result)"
   ]
  },
  {
   "cell_type": "markdown",
   "metadata": {},
   "source": [
    "### **85. Given a number N and an array of N elements, print the prefix sum array.**\n",
    "\n",
    "Input Size : N <= 100000\n",
    "\n",
    "**Sample Testcase:**\n",
    "\n",
    "**INPUT**\n",
    "\n",
    "4\n",
    "\n",
    "2 4 4 2\n",
    "\n",
    "**OUTPUT**\n",
    "\n",
    "2 6 10 12"
   ]
  },
  {
   "cell_type": "code",
   "execution_count": null,
   "metadata": {},
   "outputs": [
    {
     "name": "stdout",
     "output_type": "stream",
     "text": [
      "2 6 10 12\n"
     ]
    }
   ],
   "source": [
    "def prefix_sum_array(N, arr):\n",
    "    prefix_sum = [0] * N    # Initialize the prefix sum array\n",
    "    \n",
    "    # Calculate the prefix sums\n",
    "    prefix_sum[0] = arr[0]  # The first element is the same\n",
    "    for i in range(1, N):\n",
    "        prefix_sum[i] = prefix_sum[i - 1] + arr[i]  # Add the current element to the previous sum\n",
    "    return prefix_sum\n",
    "\n",
    "N = int(input())\n",
    "arr = list(map(int, input().split()))\n",
    "result = prefix_sum_array(N, arr)\n",
    "print(\" \".join(map(str, result)))"
   ]
  },
  {
   "cell_type": "markdown",
   "metadata": {},
   "source": [
    "### **86. Given a string S change upper case to lowercase and lowercase to uppercase.**\n",
    "\n",
    "Input Size : |s| <= 10000000(complexity O(n))\n",
    "\n",
    "**Sample Testcase:**\n",
    "\n",
    "**INPUT**\n",
    "\n",
    "CodEkaTa\n",
    "\n",
    "**OUTPUT**\n",
    "\n",
    "cODeKAtA"
   ]
  },
  {
   "cell_type": "code",
   "execution_count": null,
   "metadata": {},
   "outputs": [
    {
     "name": "stdout",
     "output_type": "stream",
     "text": [
      "cODeKAtA\n"
     ]
    }
   ],
   "source": [
    "def swap_case(s):\n",
    "    return s.swapcase()  # Swap case of each character\n",
    "\n",
    "input_string = input()\n",
    "result = swap_case(input_string)\n",
    "print(result)"
   ]
  },
  {
   "cell_type": "markdown",
   "metadata": {},
   "source": [
    "### **87. Given a string S of length N, find if it can be a valid Hexadecimal representation of a numbe.If it i0s valid,print 'yes' otherwise print 'no'.**\n",
    "\n",
    "Input Size : N <= 10000\n",
    "\n",
    "**Sample Testcase:**\n",
    "\n",
    "**INPUT**\n",
    "\n",
    "1AE23\n",
    "\n",
    "**OUTPUT**\n",
    "\n",
    "yes"
   ]
  },
  {
   "cell_type": "code",
   "execution_count": null,
   "metadata": {},
   "outputs": [
    {
     "name": "stdout",
     "output_type": "stream",
     "text": [
      "yes\n"
     ]
    }
   ],
   "source": [
    "def is_valid_hexadecimal(s):\n",
    "    # Define the valid hexadecimal characters\n",
    "    valid_hex_chars = \"0123456789abcdefABCDEF\"\n",
    "    \n",
    "    # Check if all characters in the string are valid hexadecimal characters\n",
    "    for char in s:\n",
    "        if char not in valid_hex_chars:\n",
    "            return \"no\"\n",
    "    return \"yes\"\n",
    "\n",
    "input_string = input()\n",
    "result = is_valid_hexadecimal(input_string)\n",
    "print(result)"
   ]
  },
  {
   "cell_type": "markdown",
   "metadata": {},
   "source": [
    "### **88. Given a number N, print the sum of the squares of its digits.**\n",
    "\n",
    "Input Size : 1 <= N <= 1000000000000000000\n",
    "\n",
    "**Sample Testcase :**\n",
    "\n",
    "**INPUT**\n",
    "\n",
    "19\n",
    "\n",
    "**OUTPUT**\n",
    "\n",
    "82"
   ]
  },
  {
   "cell_type": "code",
   "execution_count": null,
   "metadata": {},
   "outputs": [
    {
     "name": "stdout",
     "output_type": "stream",
     "text": [
      "82\n"
     ]
    }
   ],
   "source": [
    "def sum_of_squares_of_digits(N):\n",
    "    N_str = str(N)  # Convert the number to a string to access each digit\n",
    "\n",
    "    # Iterate through each digit\n",
    "    sum_squares = 0\n",
    "    for digit in N_str:\n",
    "        sum_squares += int(digit) ** 2  # Square the digit and add to the sum\n",
    "    return sum_squares\n",
    "\n",
    "input_number = int(input())\n",
    "result = sum_of_squares_of_digits(input_number)\n",
    "print(result)"
   ]
  },
  {
   "cell_type": "markdown",
   "metadata": {},
   "source": [
    "### **89. Given a string 'S' and a character 'K', find how many times 'K' got repeated in 'S'.If 'K' is not found in 'S' print -1**\n",
    "\n",
    "Input Size : |s| <= 100000\n",
    "\n",
    "**Sample Testcase:**\n",
    "\n",
    "**INPUT**\n",
    "\n",
    "codekata a\n",
    "\n",
    "**OUTPUT**\n",
    "\n",
    "2"
   ]
  },
  {
   "cell_type": "code",
   "execution_count": null,
   "metadata": {},
   "outputs": [
    {
     "name": "stdout",
     "output_type": "stream",
     "text": [
      "2\n"
     ]
    }
   ],
   "source": [
    "def count_character_occurrences(S, K):\n",
    "    count = S.count(K)  # Count occurrences of K in S\n",
    "    if count > 0:\n",
    "        print(count)\n",
    "    else:\n",
    "        print(-1)\n",
    "\n",
    "input_string = input().strip()\n",
    "input_char = input().strip()\n",
    "count_character_occurrences(input_string, input_char)"
   ]
  },
  {
   "cell_type": "markdown",
   "metadata": {},
   "source": [
    "### **90. Given a number N,check whether it has repeating digits in it.print 'yes' if it has repeating digits otherwise print 'no'.**\n",
    "\n",
    "**Sample Testcase:**\n",
    "\n",
    "**INPUT**\n",
    "\n",
    "11234\n",
    "\n",
    "**OUTPUT**\n",
    "\n",
    "yes"
   ]
  },
  {
   "cell_type": "code",
   "execution_count": null,
   "metadata": {},
   "outputs": [
    {
     "name": "stdout",
     "output_type": "stream",
     "text": [
      "yes\n"
     ]
    }
   ],
   "source": [
    "def has_repeating_digits(N):\n",
    "    digits = str(N)         # Convert the number to a string to iterate over digits\n",
    "    seen = set()        \n",
    "    for digit in digits:    # Check each digit in the number\n",
    "        if digit in seen:\n",
    "            print(\"yes\")    # Repeating digit found\n",
    "            return\n",
    "        seen.add(digit)   \n",
    "    print(\"no\")             # No repeating digits found\n",
    "\n",
    "input_number = int(input().strip())\n",
    "has_repeating_digits(input_number)"
   ]
  },
  {
   "cell_type": "markdown",
   "metadata": {},
   "source": [
    "### **91. Given a number N and an array of N elements, print the suffix sum of the array.**\n",
    "\n",
    "Input Size : N <= 100000\n",
    "\n",
    "**Sample Testcase:**\n",
    "\n",
    "**INPUT**\n",
    "\n",
    "4\n",
    "\n",
    "2 4 4 2\n",
    "\n",
    "**OUTPUT**\n",
    "\n",
    "12 10 6 2"
   ]
  },
  {
   "cell_type": "code",
   "execution_count": null,
   "metadata": {},
   "outputs": [
    {
     "name": "stdout",
     "output_type": "stream",
     "text": [
      "12 10 6 2\n"
     ]
    }
   ],
   "source": [
    "def suffix_sum(array):\n",
    "    # Initialize an array to hold the suffix sums\n",
    "    n = len(array)\n",
    "    suffix_sums = [0] * n\n",
    "    \n",
    "    # Calculate suffix sums\n",
    "    suffix_sums[n - 1] = array[n - 1]  # Start with the last element\n",
    "    for i in range(n - 2, -1, -1):\n",
    "        suffix_sums[i] = suffix_sums[i + 1] + array[i]\n",
    "    print(\" \".join(map(str, suffix_sums)))\n",
    "\n",
    "N = int(input().strip())\n",
    "array = list(map(int, input().strip().split()))\n",
    "suffix_sum(array)"
   ]
  },
  {
   "cell_type": "markdown",
   "metadata": {},
   "source": [
    "### **92. A number is given as input(as string). Find the maximum length of substring alternating digits of odd and even.**\n",
    "\n",
    "Input Size : N <= 10000000000\n",
    "\n",
    "**Sample Testcase:**\n",
    "\n",
    "**INPUT**\n",
    "\n",
    "4123\n",
    "\n",
    "**OUTPUT**\n",
    "\n",
    "4"
   ]
  },
  {
   "cell_type": "code",
   "execution_count": null,
   "metadata": {},
   "outputs": [
    {
     "name": "stdout",
     "output_type": "stream",
     "text": [
      "4\n"
     ]
    }
   ],
   "source": [
    "def max_alternating_length(num_str):\n",
    "    max_length = 1  # Start with at least one character\n",
    "    current_length = 1  # Current length of the alternating substring\n",
    "\n",
    "    # Loop through the digits of the string\n",
    "    for i in range(1, len(num_str)):\n",
    "        # Check if current digit and previous digit have different parities\n",
    "        if (int(num_str[i]) % 2) != (int(num_str[i - 1]) % 2):\n",
    "            current_length += 1  # Increase length if they are alternating\n",
    "        else:\n",
    "            # Reset the current length if they are not alternating\n",
    "            max_length = max(max_length, current_length)  # Update max_length\n",
    "            current_length = 1  # Reset current length to 1\n",
    "\n",
    "    # Check at the end in case the longest substring ends at the last digit\n",
    "    max_length = max(max_length, current_length)\n",
    "    return max_length\n",
    "\n",
    "num_str = input().strip()\n",
    "result = max_alternating_length(num_str)\n",
    "print(result)"
   ]
  },
  {
   "cell_type": "markdown",
   "metadata": {},
   "source": [
    "### **93. Given a number N and an array of N strings, find the lexicographically smallest string.**\n",
    "\n",
    "Input Size : N <= 1000\n",
    "\n",
    "**Sample Testcase:**\n",
    "\n",
    "**INPUT**\n",
    "\n",
    "3\n",
    "\n",
    "code\n",
    "\n",
    "learn\n",
    "\n",
    "practice\n",
    "\n",
    "**OUTPUT**\n",
    "\n",
    "code"
   ]
  },
  {
   "cell_type": "code",
   "execution_count": null,
   "metadata": {},
   "outputs": [
    {
     "name": "stdout",
     "output_type": "stream",
     "text": [
      "code\n"
     ]
    }
   ],
   "source": [
    "def find_lexicographically_smallest_string(n, strings):\n",
    "    return min(strings)\n",
    "\n",
    "n = int(input().strip())\n",
    "strings = [input().strip() for _ in range(n)]\n",
    "result = find_lexicographically_smallest_string(n, strings)\n",
    "print(result)"
   ]
  },
  {
   "cell_type": "markdown",
   "metadata": {},
   "source": [
    "### **94. Given a number N and a number K, check if it has all digits from 0 to k in it.**\n",
    "\n",
    "Input Size : N <= 100000\n",
    "\n",
    "**Sample Testcase:**\n",
    "\n",
    "**INPUT**\n",
    "\n",
    "1234034 4\n",
    "\n",
    "**OUTPUT**\n",
    "\n",
    "yes"
   ]
  },
  {
   "cell_type": "code",
   "execution_count": null,
   "metadata": {},
   "outputs": [
    {
     "name": "stdout",
     "output_type": "stream",
     "text": [
      "yes\n"
     ]
    }
   ],
   "source": [
    "def has_all_digits(n, k):\n",
    "    # Convert number N to a set of its digits\n",
    "    digits_in_n = set(str(n))\n",
    "    # Create a set of required digits from 0 to K\n",
    "    required_digits = {str(i) for i in range(k + 1)}\n",
    "    \n",
    "    # Check if all required digits are present in the digits of N\n",
    "    return required_digits.issubset(digits_in_n)\n",
    "\n",
    "input_data = input().strip()\n",
    "n_str, k_str = input_data.split()\n",
    "n = int(n_str)\n",
    "k = int(k_str)\n",
    "\n",
    "# Check and print the result\n",
    "if has_all_digits(n, k):\n",
    "    print(\"yes\")\n",
    "else:\n",
    "    print(\"no\")"
   ]
  },
  {
   "cell_type": "markdown",
   "metadata": {},
   "source": [
    "### **95. Find the word having maximum length in a given sentence and print it. If two words are of same length return the first occuring word of max-length.**\n",
    "\n",
    "Input Size : |s| <= 100000\n",
    "\n",
    "**Sample Testcase:**\n",
    "\n",
    "**INPUT**\n",
    "\n",
    "guvi geek\n",
    "\n",
    "**OUTPUT**\n",
    "\n",
    "guvi"
   ]
  },
  {
   "cell_type": "code",
   "execution_count": null,
   "metadata": {},
   "outputs": [
    {
     "name": "stdout",
     "output_type": "stream",
     "text": [
      "guvi\n"
     ]
    }
   ],
   "source": [
    "def find_longest_word(sentence):\n",
    "    words = sentence.split()\n",
    "    longest_word = \"\"\n",
    "    max_length = 0\n",
    "    \n",
    "    # Iterate through each word\n",
    "    for word in words:\n",
    "        # Check the length of the current word\n",
    "        if len(word) > max_length:\n",
    "            longest_word = word\n",
    "            max_length = len(word)    \n",
    "    return longest_word\n",
    "\n",
    "input_sentence = input().strip()\n",
    "result = find_longest_word(input_sentence)\n",
    "print(result)"
   ]
  },
  {
   "cell_type": "markdown",
   "metadata": {},
   "source": [
    "### **96. Print the position of first 1 from left to right, in binary representation of product of 2 integers after the first one.**\n",
    "\n",
    "**Sample Testcase:**\n",
    "\n",
    "**INPUT**\n",
    "\n",
    "18 2\n",
    "\n",
    "**OUTPUT**\n",
    "\n",
    "4"
   ]
  },
  {
   "cell_type": "code",
   "execution_count": null,
   "metadata": {},
   "outputs": [
    {
     "name": "stdout",
     "output_type": "stream",
     "text": [
      "1\n"
     ]
    }
   ],
   "source": [
    "def first_one_position(a, b):\n",
    "    product = a * b     # Calculate the product\n",
    "    \n",
    "    # Convert the product to binary and strip the '0b' prefix\n",
    "    binary_representation = bin(product)[2:]\n",
    "    \n",
    "    # Find the position of the first '1'\n",
    "    position = binary_representation.find('1')\n",
    "    return position + 1 if position != -1 else -1   # Return the position (1-based index)\n",
    "\n",
    "input_numbers = input().strip()\n",
    "a, b = map(int, input_numbers.split())\n",
    "result = first_one_position(a, b)   # Get the position of the first '1'\n",
    "print(result)"
   ]
  },
  {
   "cell_type": "markdown",
   "metadata": {},
   "source": [
    "### **97. Roman Reigns want to identify the repeated letters in two given strings and capitalize it.Help him to achieve it.**\n",
    "\n",
    "**Sample Testcase:**\n",
    "\n",
    "**INPUT**\n",
    "\n",
    "computer program\n",
    "\n",
    "**OUTPUT**\n",
    "\n",
    "cOMPuteR PROgRaM"
   ]
  },
  {
   "cell_type": "code",
   "execution_count": null,
   "metadata": {},
   "outputs": [
    {
     "name": "stdout",
     "output_type": "stream",
     "text": [
      "cOMPuteR PROgRaM\n"
     ]
    }
   ],
   "source": [
    "def capitalize_repeated_letters(str1, str2):\n",
    "    # Convert both strings to lowercase for comparison\n",
    "    lower_str1 = str1.lower()\n",
    "    lower_str2 = str2.lower()\n",
    "\n",
    "    # Find common letters in both strings\n",
    "    common_letters = set(lower_str1) & set(lower_str2)\n",
    "\n",
    "    def capitalize_common_letters(s, common):\n",
    "        result = ''\n",
    "        for char in s:\n",
    "            if char.lower() in common:\n",
    "                result += char.upper()\n",
    "            else:\n",
    "                result += char\n",
    "        return result\n",
    "\n",
    "    # Capitalize common letters in both strings\n",
    "    capitalized_str1 = capitalize_common_letters(str1, common_letters)\n",
    "    capitalized_str2 = capitalize_common_letters(str2, common_letters)\n",
    "    print(capitalized_str1, capitalized_str2)\n",
    "\n",
    "input_strings = input().strip().split()\n",
    "\n",
    "# Ensure that we have exactly two strings in the input\n",
    "if len(input_strings) == 2:\n",
    "    str1, str2 = input_strings\n",
    "    capitalize_repeated_letters(str1, str2)"
   ]
  },
  {
   "cell_type": "markdown",
   "metadata": {},
   "source": [
    "### **98. Given a String S and a string P, find if P is a substring of S. Print 'yes' if it is a substring else 'no'.**\n",
    "\n",
    "Input Size : |s| <= 10000 |p| <= 1000.\n",
    "\n",
    "**Sample Testcase:**\n",
    "\n",
    "**INPUT**\n",
    "\n",
    "sundar sun\n",
    "\n",
    "**OUTPUT**\n",
    "\n",
    "yes"
   ]
  },
  {
   "cell_type": "code",
   "execution_count": null,
   "metadata": {},
   "outputs": [
    {
     "name": "stdout",
     "output_type": "stream",
     "text": [
      "yes\n"
     ]
    }
   ],
   "source": [
    "S = input().strip()  # main string\n",
    "P = input().strip()  # pattern string\n",
    "\n",
    "# Check if P is a substring of S\n",
    "if P in S:\n",
    "    print(\"yes\")\n",
    "else:\n",
    "    print(\"no\")"
   ]
  },
  {
   "cell_type": "markdown",
   "metadata": {},
   "source": [
    "### **99. Accept a string and find if it is of date format 'dd/mm/yyyy'.**\n",
    "\n",
    "**Sample Testcase:**\n",
    "\n",
    "**INPUT**\n",
    "\n",
    "01/13/1999\n",
    "\n",
    "**OUTPUT**\n",
    "\n",
    "no"
   ]
  },
  {
   "cell_type": "code",
   "execution_count": 37,
   "metadata": {},
   "outputs": [
    {
     "name": "stdout",
     "output_type": "stream",
     "text": [
      "no\n"
     ]
    }
   ],
   "source": [
    "import re\n",
    "from datetime import datetime\n",
    "\n",
    "# Function to check if the string is a valid date in the format 'dd/mm/yyyy'\n",
    "def is_valid_date(date_str):\n",
    "    # Regex pattern to match dd/mm/yyyy format\n",
    "    pattern = r'^\\d{2}/\\d{2}/\\d{4}$'\n",
    "    \n",
    "    # Check if the input matches the pattern\n",
    "    if re.match(pattern, date_str):\n",
    "        day, month, year = map(int, date_str.split('/'))\n",
    "        \n",
    "        # Check if the date is valid using datetime\n",
    "        try:\n",
    "            datetime(year, month, day)\n",
    "            return \"yes\"\n",
    "        except ValueError:\n",
    "            return \"no\"\n",
    "    else:\n",
    "        return \"no\"\n",
    "\n",
    "# Input the date string\n",
    "date_input = input().strip()\n",
    "\n",
    "# Check if it's a valid date in the format 'dd/mm/yyyy'\n",
    "print(is_valid_date(date_input))"
   ]
  },
  {
   "cell_type": "markdown",
   "metadata": {},
   "source": [
    "### **100. Given a string, print the run-length encoded output.**\n",
    "\n",
    "Input Size : N <= 100000\n",
    "\n",
    "**Sample Testcase:**\n",
    "\n",
    "**INPUT**\n",
    "\n",
    "aaab\n",
    "\n",
    "**OUTPUT**\n",
    "\n",
    "a3b1"
   ]
  },
  {
   "cell_type": "code",
   "execution_count": null,
   "metadata": {},
   "outputs": [
    {
     "name": "stdout",
     "output_type": "stream",
     "text": [
      "a3b1\n"
     ]
    }
   ],
   "source": [
    "def run_length_encoding(s):\n",
    "    result = \"\"\n",
    "    current_char = s[0]     # Start with the first character\n",
    "    count = 1\n",
    "    for i in range(1, len(s)):  # Iterate over the string starting from the second character\n",
    "        if s[i] == current_char:\n",
    "            count += 1\n",
    "        else:\n",
    "            result += current_char + str(count)\n",
    "            current_char = s[i]     # Move to the next character\n",
    "            count = 1\n",
    "    result += current_char + str(count) # Append the last character and its count\n",
    "    return result\n",
    "\n",
    "input_str = input().strip()\n",
    "print(run_length_encoding(input_str))"
   ]
  },
  {
   "cell_type": "markdown",
   "metadata": {},
   "source": [
    "### **101. Let P represent Paper, R represent Rock and S represent Scissors. Given 2 out of the 3 determine which one wins. If its a draw print 'D'.**\n",
    "\n",
    "**Sample Testcase:**\n",
    "\n",
    "**INPUT**\n",
    "\n",
    "R P\n",
    "\n",
    "**OUTPUT**\n",
    "\n",
    "P"
   ]
  },
  {
   "cell_type": "code",
   "execution_count": 3,
   "metadata": {},
   "outputs": [
    {
     "name": "stdout",
     "output_type": "stream",
     "text": [
      "P\n"
     ]
    }
   ],
   "source": [
    "def determine_winner(choice1, choice2):\n",
    "    # If both choices are the same, it's a draw\n",
    "    if choice1 == choice2:\n",
    "        return 'D'\n",
    "    \n",
    "    # Define the winning cases\n",
    "    winning_cases = {\n",
    "        ('R', 'S'): 'R',\n",
    "        ('S', 'R'): 'R',\n",
    "        ('S', 'P'): 'S',\n",
    "        ('P', 'S'): 'S',\n",
    "        ('P', 'R'): 'P',\n",
    "        ('R', 'P'): 'P'\n",
    "    }\n",
    "    \n",
    "    # Return the result based on the winning cases\n",
    "    return winning_cases.get((choice1, choice2))\n",
    "\n",
    "choice1, choice2 = input().split()\n",
    "print(determine_winner(choice1, choice2))"
   ]
  },
  {
   "cell_type": "markdown",
   "metadata": {},
   "source": [
    "### **102. Given a date(DD-MM-YYYY),print the month in words.**\n",
    "\n",
    "**Sample Testcase:**\n",
    "\n",
    "**INPUT**\n",
    "\n",
    "01-01-2018\n",
    "\n",
    "**OUTPUT**\n",
    "\n",
    "January"
   ]
  },
  {
   "cell_type": "code",
   "execution_count": 5,
   "metadata": {},
   "outputs": [
    {
     "name": "stdout",
     "output_type": "stream",
     "text": [
      "January\n"
     ]
    }
   ],
   "source": [
    "def get_month_in_words(date_str):\n",
    "    month_map = {\n",
    "        \"01\": \"January\", \"02\": \"February\", \"03\": \"March\", \"04\": \"April\", \n",
    "        \"05\": \"May\", \"06\": \"June\", \"07\": \"July\", \"08\": \"August\", \n",
    "        \"09\": \"September\", \"10\": \"October\", \"11\": \"November\", \"12\": \"December\"\n",
    "    }\n",
    "    \n",
    "    month = date_str.split('-')[1]\n",
    "    print(month_map[month])\n",
    "\n",
    "date_str = input().strip()\n",
    "get_month_in_words(date_str)"
   ]
  },
  {
   "cell_type": "markdown",
   "metadata": {},
   "source": [
    "### **103. Given 2 strings and a number K, check whether they differ exactly by K characters.**\n",
    "\n",
    "Input Size : |s| <= 100000(complexity O(nlogn) or O(n))\n",
    "\n",
    "**Sample Testcase:**\n",
    "\n",
    "**INPUT**\n",
    "\n",
    "codekata codeguvi 4\n",
    "\n",
    "**OUTPUT**\n",
    "\n",
    "yes"
   ]
  },
  {
   "cell_type": "code",
   "execution_count": 1,
   "metadata": {},
   "outputs": [
    {
     "name": "stdout",
     "output_type": "stream",
     "text": [
      "yes\n"
     ]
    }
   ],
   "source": [
    "def differ_by_k_chars(s1, s2, k):\n",
    "    # If the lengths are different, they cannot differ by exactly K characters\n",
    "    if len(s1) != len(s2):\n",
    "        print(\"no\")\n",
    "        return\n",
    "    \n",
    "    # Count the number of differing characters\n",
    "    diff_count = 0\n",
    "    for i in range(len(s1)):\n",
    "        if s1[i] != s2[i]:\n",
    "            diff_count += 1\n",
    "    \n",
    "    # Check if the count of differing characters equals K\n",
    "    if diff_count == k:\n",
    "        print(\"yes\")\n",
    "    else:\n",
    "        print(\"no\")\n",
    "\n",
    "s1, s2, k = input().split()\n",
    "k = int(k)\n",
    "differ_by_k_chars(s1, s2, k)"
   ]
  },
  {
   "cell_type": "markdown",
   "metadata": {},
   "source": [
    "### **104. You are given with a string ‘s’. Print the largest possible length of the string that contains two characters that are repeated alternatively, by removing any number of characters from the input string.**\n",
    "\n",
    "Note: If the a character is removed from the string then all the occurence of the characters in the string should be removed.\n",
    "\n",
    "**Input Description:**\n",
    "\n",
    "You are given a string ‘s’\n",
    "\n",
    "**Output Description:**\n",
    "\n",
    "Print length of string formed or 0\n",
    "\n",
    "**Sample Input:**\n",
    "\n",
    "beabeefeab\n",
    "\n",
    "**Sample Output:**\n",
    "\n",
    "5"
   ]
  },
  {
   "cell_type": "code",
   "execution_count": 6,
   "metadata": {},
   "outputs": [
    {
     "name": "stdout",
     "output_type": "stream",
     "text": [
      "5\n"
     ]
    }
   ],
   "source": [
    "def is_alternating(s):\n",
    "    # Check if the string alternates between two characters\n",
    "    for i in range(1, len(s)):\n",
    "        if s[i] == s[i-1]:  # If two consecutive characters are the same\n",
    "            return False\n",
    "    return True\n",
    "\n",
    "def largest_alternating_substring(s):\n",
    "    # Identify all unique characters in the string\n",
    "    unique_chars = set(s)\n",
    "    max_length = 0\n",
    "\n",
    "    # Generate all possible pairs of characters\n",
    "    for char1 in unique_chars:\n",
    "        for char2 in unique_chars:\n",
    "            if char1 != char2:\n",
    "                # Filter the string to only contain char1 and char2\n",
    "                filtered = ''.join([ch for ch in s if ch == char1 or ch == char2])\n",
    "                \n",
    "                # Check if the filtered string alternates between the two characters\n",
    "                if is_alternating(filtered):\n",
    "                    max_length = max(max_length, len(filtered))\n",
    "\n",
    "    return max_length\n",
    "\n",
    "# length of the largest alternating substring\n",
    "s = input().strip()\n",
    "print(largest_alternating_substring(s))"
   ]
  },
  {
   "cell_type": "markdown",
   "metadata": {},
   "source": [
    "### **105. Given a string S ,print the vowels first and then consonants in the same order as they have occurred in the string.**\n",
    "\n",
    "Input Size : N <= 10000\n",
    "\n",
    "**Sample Testcase:**\n",
    "\n",
    "**INPUT**\n",
    "\n",
    "GuVI\n",
    "\n",
    "**OUTPUT**\n",
    "\n",
    "uIGV"
   ]
  },
  {
   "cell_type": "code",
   "execution_count": 7,
   "metadata": {},
   "outputs": [
    {
     "name": "stdout",
     "output_type": "stream",
     "text": [
      "uIGV\n"
     ]
    }
   ],
   "source": [
    "def separate_vowels_consonants(S):\n",
    "    vowels = \"aeiouAEIOU\"\n",
    "    vowel_part = \"\"\n",
    "    consonant_part = \"\"\n",
    "    \n",
    "    # Iterate through the string and separate vowels and consonants\n",
    "    for char in S:\n",
    "        if char in vowels:\n",
    "            vowel_part += char\n",
    "        elif char.isalpha():\n",
    "            consonant_part += char\n",
    "    print(vowel_part + consonant_part)\n",
    "\n",
    "S = input().strip()\n",
    "separate_vowels_consonants(S)"
   ]
  },
  {
   "cell_type": "markdown",
   "metadata": {},
   "source": [
    "### **106. Given a string S, check if it can be made into a palindrome by making atmost one character replacement,if it results in palindrome print 'yes' otherwise print 'no'.**\n",
    "\n",
    "**Sample Testcase:**\n",
    "\n",
    "**INPUT**\n",
    "\n",
    "abb\n",
    "\n",
    "**OUTPUT**\n",
    "\n",
    "yes"
   ]
  },
  {
   "cell_type": "code",
   "execution_count": 8,
   "metadata": {},
   "outputs": [
    {
     "name": "stdout",
     "output_type": "stream",
     "text": [
      "yes\n"
     ]
    }
   ],
   "source": [
    "def can_be_palindrome(S):\n",
    "    n = len(S)\n",
    "    mismatch_count = 0\n",
    "    \n",
    "    # Loop through the string to compare corresponding characters\n",
    "    for i in range(n // 2):\n",
    "        if S[i] != S[n - 1 - i]:\n",
    "            mismatch_count += 1\n",
    "    \n",
    "    # If there are 0 or 1 mismatches, it's possible to make it a palindrome with at most one replacement\n",
    "    if mismatch_count <= 1:\n",
    "        print(\"yes\")\n",
    "    else:\n",
    "        print(\"no\")\n",
    "\n",
    "S = input().strip()\n",
    "can_be_palindrome(S)"
   ]
  },
  {
   "cell_type": "markdown",
   "metadata": {},
   "source": [
    "### **107. You are given a string ‘s’ which is in compressed form. Your task is to expand the string and then print it.**\n",
    "\n",
    "**Input Description:**\n",
    "\n",
    "given a string ‘s’\n",
    "\n",
    "**Output Description:**\n",
    "\n",
    "expand the string and print it.\n",
    "\n",
    "**Sample Input:**\n",
    "\n",
    "3(abc2(a))\n",
    "\n",
    "**Sample Output:**\n",
    "\n",
    "abcaaabcaaabcaa"
   ]
  },
  {
   "cell_type": "code",
   "execution_count": 9,
   "metadata": {},
   "outputs": [
    {
     "name": "stdout",
     "output_type": "stream",
     "text": [
      "abcaaabcaaabcaa\n"
     ]
    }
   ],
   "source": [
    "def expand_string(s):\n",
    "    stack = []\n",
    "    current_string = ''\n",
    "    current_num = 0\n",
    "    \n",
    "    for char in s:\n",
    "        if char.isdigit():  # If it's a number, build the multiplier\n",
    "            current_num = current_num * 10 + int(char)\n",
    "        elif char == '(':  # Opening bracket indicates start of a new group\n",
    "            stack.append((current_string, current_num))\n",
    "            current_string = ''\n",
    "            current_num = 0\n",
    "        elif char == ')':  # Closing bracket indicates end of a group\n",
    "            prev_string, num = stack.pop()\n",
    "            current_string = prev_string + current_string * num\n",
    "        else:  # Add current character to the string being built\n",
    "            current_string += char    \n",
    "    print(current_string)\n",
    "\n",
    "s = input().strip()\n",
    "expand_string(s)"
   ]
  },
  {
   "cell_type": "markdown",
   "metadata": {},
   "source": [
    "### **108. You are given a string s.Your task is to remove all the adjacent duplicate character from string.Print the string formed out of it.**\n",
    "\n",
    "**Input Description:**\n",
    "\n",
    "You are given a string ‘s’\n",
    "\n",
    "**Output Description:**\n",
    "\n",
    "Print the resultant string\n",
    "\n",
    "**Sample Input:**\n",
    "\n",
    "Geeksforgeek\n",
    "\n",
    "**Sample Output:**\n",
    "\n",
    "Gksforgk"
   ]
  },
  {
   "cell_type": "code",
   "execution_count": 13,
   "metadata": {},
   "outputs": [
    {
     "name": "stdout",
     "output_type": "stream",
     "text": [
      "Geksforgek\n"
     ]
    }
   ],
   "source": [
    "def remove_adjacent_duplicates(s):\n",
    "    if not s:  # Handle the case for an empty string\n",
    "        print(s)\n",
    "        return\n",
    "    \n",
    "    result = []\n",
    "    previous_char = None  # Variable to track the last added character\n",
    "    \n",
    "    # Iterate through each character in the string\n",
    "    for char in s:\n",
    "        if char != previous_char:  # If current character is different from the last one\n",
    "            result.append(char)  # Add it to the result\n",
    "        previous_char = char  # Update previous_char to the current character\n",
    "    \n",
    "    # Join the result list into a string and print it\n",
    "    print(\"\".join(result))\n",
    "\n",
    "s = input().strip()\n",
    "remove_adjacent_duplicates(s)"
   ]
  },
  {
   "cell_type": "markdown",
   "metadata": {},
   "source": [
    "### **109. Given a string S, check whether it contains only the characters 'a' and 'b' or only 'a' or only 'b'**\n",
    "Input Size : |S| <= 100000\n",
    "\n",
    "**Sample Testcase:**\n",
    "\n",
    "**INPUT**\n",
    "\n",
    "aabbaaab\n",
    "\n",
    "**OUTPUT**\n",
    "\n",
    "yes"
   ]
  },
  {
   "cell_type": "code",
   "execution_count": 14,
   "metadata": {},
   "outputs": [
    {
     "name": "stdout",
     "output_type": "stream",
     "text": [
      "yes\n"
     ]
    }
   ],
   "source": [
    "def check_string(s):\n",
    "    # Check if the string only contains 'a' and 'b'\n",
    "    if all(c in 'ab' for c in s):\n",
    "        # If it contains only 'a' or only 'b' or both\n",
    "        print(\"yes\")\n",
    "    else:\n",
    "        print(\"no\")\n",
    "\n",
    "s = input().strip()\n",
    "check_string(s)"
   ]
  },
  {
   "cell_type": "markdown",
   "metadata": {},
   "source": [
    "### **110. you are given with two strings.Your task is to check whether one of the string is substring of the other.If substring exists,then print the starting index of sub-string.**\n",
    "\n",
    "**Input Description:**\n",
    "\n",
    "You are given two strings\n",
    "\n",
    "**Output Description:**\n",
    "\n",
    "Print the index of string if substring exists else print -1\n",
    "\n",
    "**Sample Input:**\n",
    "\n",
    "Yuvi\n",
    "\n",
    "Yuvirat\n",
    "\n",
    "**Sample Output:**\n",
    "\n",
    "1"
   ]
  },
  {
   "cell_type": "code",
   "execution_count": 17,
   "metadata": {},
   "outputs": [
    {
     "name": "stdout",
     "output_type": "stream",
     "text": [
      "1\n"
     ]
    }
   ],
   "source": [
    "def find_substring_index(str1, str2):\n",
    "    # Check if str1 is a substring of str2\n",
    "    index = str2.find(str1)\n",
    "    if index != -1:\n",
    "        print(index + 1)  # Convert to 1-based index\n",
    "    else:\n",
    "        # Check if str2 is a substring of str1\n",
    "        index = str1.find(str2)\n",
    "        if index != -1:\n",
    "            print(index + 1)  # Convert to 1-based index\n",
    "        else:\n",
    "            print(-1)\n",
    "\n",
    "str1 = input().strip()\n",
    "str2 = input().strip()\n",
    "find_substring_index(str1, str2)"
   ]
  },
  {
   "cell_type": "markdown",
   "metadata": {},
   "source": [
    "### 111. You are given a String ‘s’ and a Bigstring g,g=\"abcdefghijklmnopqrstuvwxyz1234567890ABCDEFGHIJKLMNOPQRSTUVWXY”\n",
    "\n",
    "He wants to compute the weight of the string s.Weight is computed as for weight is equal to weight of that character +index of that character.Using big string. SEE EXAMPLE FOR MORE CLARITY\n",
    "\n",
    "**Input Description:**\n",
    "\n",
    "You are given a string ‘s’\n",
    "\n",
    "**Output Description:**\n",
    "\n",
    "Print the weight\n",
    "\n",
    "**Sample Input:**\n",
    "\n",
    "aA1 b\n",
    "\n",
    "**Sample Output:**\n",
    "\n",
    "66"
   ]
  },
  {
   "cell_type": "code",
   "execution_count": 11,
   "metadata": {},
   "outputs": [
    {
     "name": "stdout",
     "output_type": "stream",
     "text": [
      "67\n"
     ]
    }
   ],
   "source": [
    "def compute_weight(s):\n",
    "    g = \"abcdefghijklmnopqrstuvwxyz1234567890ABCDEFGHIJKLMNOPQRSTUVWXY\"\n",
    "    weight = 0\n",
    "    \n",
    "    for char in s:\n",
    "        if char in g:\n",
    "            index = g.index(char) + 1  # Convert to 1-based index\n",
    "            weight += index  # Add index to total weight            \n",
    "    return weight\n",
    "\n",
    "input_string = \"aA1 b\"\n",
    "print(compute_weight(input_string))"
   ]
  },
  {
   "cell_type": "markdown",
   "metadata": {},
   "source": [
    "### 112. Given a string S consisting of a sentence, the task is to reverse every word of the sentence except the first and last character of the words.\n",
    "\n",
    "Sample Testcase:\n",
    "\n",
    "INPUT\n",
    "\n",
    "guvi coding platform\n",
    "\n",
    "OUTPUT\n",
    "\n",
    "gvui cnidog proftalm."
   ]
  },
  {
   "cell_type": "code",
   "execution_count": 20,
   "metadata": {},
   "outputs": [
    {
     "name": "stdout",
     "output_type": "stream",
     "text": [
      "gvui cnidog proftalm\n"
     ]
    }
   ],
   "source": [
    "def reverse_inner_characters(sentence):\n",
    "    words = sentence.split()\n",
    "    modified_words = []\n",
    "    \n",
    "    for word in words:\n",
    "        if len(word) > 2:\n",
    "            inner_part = word[1:-1][::-1]\n",
    "            modified_word = word[0] + inner_part + word[-1]\n",
    "        else:\n",
    "            modified_word = word\n",
    "        modified_words.append(modified_word)\n",
    "    return ' '.join(modified_words)\n",
    "\n",
    "sentence = input()\n",
    "result = reverse_inner_characters(sentence)\n",
    "print(result)"
   ]
  },
  {
   "cell_type": "markdown",
   "metadata": {},
   "source": [
    "### **113. Quinton is given a string, find if he can form a palindrome by permuting the characters of the string and changing at most one character of the string to another character. If he can form, print YES, else print NO.**\n",
    "\n",
    "**Input Description:**\n",
    "\n",
    "The first and only line of input is a string S\n",
    "\n",
    "**Output Description:**\n",
    "\n",
    "Print a line containing YES or NO\n",
    "\n",
    "**Sample Input:**\n",
    "\n",
    "abc\n",
    "\n",
    "**Sample Output:**\n",
    "\n",
    "YES"
   ]
  },
  {
   "cell_type": "code",
   "execution_count": 13,
   "metadata": {},
   "outputs": [
    {
     "name": "stdout",
     "output_type": "stream",
     "text": [
      "NO\n"
     ]
    }
   ],
   "source": [
    "from collections import Counter\n",
    "\n",
    "def can_form_palindrome(s):\n",
    "    freq = Counter(s)\n",
    "    odd_count = sum(1 for count in freq.values() if count % 2 != 0)\n",
    "    \n",
    "    if odd_count <= 1:\n",
    "        print(\"YES\")\n",
    "    else:\n",
    "        print(\"NO\")\n",
    "\n",
    "s = input().strip()\n",
    "can_form_palindrome(s)"
   ]
  },
  {
   "cell_type": "markdown",
   "metadata": {},
   "source": [
    "### **114. You are given a string ‘s’. Without spaces. Your task is to print all possible combination of strings by adding extra space.**\n",
    "\n",
    "**Input Description:**\n",
    "\n",
    "You are given a string ‘s’.\n",
    "\n",
    "**Output Description:**\n",
    "\n",
    "Print the strings as described\n",
    "\n",
    "**Sample Input:**\n",
    "\n",
    "ABCD\n",
    "\n",
    "**Sample Output:**\n",
    "\n",
    "ABCD\n",
    "ABC D\n",
    "AB CD\n",
    "AB C D\n",
    "A BCD\n",
    "A BC D\n",
    "A B CD\n",
    "A B C D"
   ]
  },
  {
   "cell_type": "code",
   "execution_count": 21,
   "metadata": {},
   "outputs": [
    {
     "name": "stdout",
     "output_type": "stream",
     "text": [
      "ABCD\n",
      "A BCD\n",
      "AB CD\n",
      "A B CD\n",
      "ABC D\n",
      "A BC D\n",
      "AB C D\n",
      "A B C D\n"
     ]
    }
   ],
   "source": [
    "def generate_combinations(s):\n",
    "    n = len(s)\n",
    "    # There are 2^(n-1) possible combinations (binary choices for each of the n-1 positions)\n",
    "    result = []\n",
    "    \n",
    "    # Loop through all possible bitmask combinations from 0 to 2^(n-1) - 1\n",
    "    for i in range(1 << (n - 1)):\n",
    "        combination = s[0]  # Start with the first character\n",
    "        # Traverse each bit of the number i\n",
    "        for j in range(1, n):\n",
    "            # Check if the j-th bit of i is set (i.e., should we add a space?)\n",
    "            if (i & (1 << (j - 1))):\n",
    "                combination += ' '  # Add space before the current character\n",
    "            combination += s[j]  # Add the current character\n",
    "        result.append(combination)\n",
    "    \n",
    "    # Print all the combinations\n",
    "    for comb in result:\n",
    "        print(comb)\n",
    "\n",
    "s = input().strip()\n",
    "generate_combinations(s)"
   ]
  },
  {
   "cell_type": "markdown",
   "metadata": {},
   "source": [
    "### **115. Given a number N and an array of N strings, sort the strings based on the number of vowels in each of the strings in descending order.**\n",
    "\n",
    "Input Size : N <= 1000\n",
    "\n",
    "**Sample Testcase:**\n",
    "\n",
    "**INPUT**\n",
    "\n",
    "3\n",
    "\n",
    "Vishal\n",
    "\n",
    "Aaae\n",
    "\n",
    "Awqr\n",
    "\n",
    "**OUTPUT**\n",
    "\n",
    "Aaae\n",
    "\n",
    "Vishal\n",
    "\n",
    "Awqr"
   ]
  },
  {
   "cell_type": "code",
   "execution_count": 22,
   "metadata": {},
   "outputs": [
    {
     "name": "stdout",
     "output_type": "stream",
     "text": [
      "Aaae\n",
      "Vishal\n",
      "Awqr\n"
     ]
    }
   ],
   "source": [
    "def count_vowels(s):\n",
    "    # Define a set of vowels (both lowercase and uppercase)\n",
    "    vowels = set('aeiouAEIOU')\n",
    "    count = 0\n",
    "    for char in s:\n",
    "        if char in vowels:\n",
    "            count += 1\n",
    "    return count\n",
    "\n",
    "def sort_strings_by_vowels(n, strings):\n",
    "    # Sort the list of strings based on the number of vowels (in descending order)\n",
    "    sorted_strings = sorted(strings, key=lambda x: count_vowels(x), reverse=True)\n",
    "    \n",
    "    # Print the sorted strings\n",
    "    for string in sorted_strings:\n",
    "        print(string)\n",
    "\n",
    "n = int(input())  # Number of strings\n",
    "strings = [input().strip() for _ in range(n)]\n",
    "sort_strings_by_vowels(n, strings)"
   ]
  },
  {
   "cell_type": "markdown",
   "metadata": {},
   "source": [
    "### **116. Aditi is fond of strings.she heard about Lcs for two strings.Now she wants to try this for 3 strings.But in between she got confused now, your task is to help her.You are given exactly 3 strings.**\n",
    "\n",
    "Develop an algorithm which to find lcs for 3 strings.\n",
    "\n",
    "**Input Description:**\n",
    "\n",
    "You are given 3 strings.\n",
    "\n",
    "**Output Description:**\n",
    "\n",
    "Print the lcs of 3 string or print -1 if there is no lcs between 3 strings\n",
    "\n",
    "**Sample Input:**\n",
    "\n",
    "Guvi yuvi yuvirat\n",
    "\n",
    "**Sample Output:**\n",
    "\n",
    "uvi"
   ]
  },
  {
   "cell_type": "code",
   "execution_count": null,
   "metadata": {},
   "outputs": [],
   "source": []
  },
  {
   "cell_type": "markdown",
   "metadata": {},
   "source": [
    "### **117. Given 2 strings S,X. Print 'yes' if their lengths are co-prime otherwise print 'no'.**\n",
    "\n",
    "Input Size : 1 <= |s|, |x| <= 100000\n",
    "\n",
    "**Sample Testcase:**\n",
    "\n",
    "**INPUT**\n",
    "\n",
    "GUVIS GEEKTEC\n",
    "\n",
    "**OUTPUT**\n",
    "\n",
    "yes"
   ]
  },
  {
   "cell_type": "code",
   "execution_count": 14,
   "metadata": {},
   "outputs": [
    {
     "name": "stdout",
     "output_type": "stream",
     "text": [
      "yes\n"
     ]
    }
   ],
   "source": [
    "import math\n",
    "\n",
    "def are_lengths_coprime():\n",
    "    # Take input for two strings\n",
    "    s, x = input().split()\n",
    "    \n",
    "    # Calculate the lengths of the strings\n",
    "    len_s = len(s)\n",
    "    len_x = len(x)\n",
    "    \n",
    "    # Check if their GCD is 1\n",
    "    if math.gcd(len_s, len_x) == 1:\n",
    "        print(\"yes\")\n",
    "    else:\n",
    "        print(\"no\")\n",
    "\n",
    "are_lengths_coprime()"
   ]
  },
  {
   "cell_type": "markdown",
   "metadata": {},
   "source": [
    "### **118. Given two strings S1 and S2,display 'yes' if given two strings are complementary otherwise display 'no'. If we join alphabets of both the strings we should get all 26 capital letters exactly once, then only we can call them as complementary.**\n",
    "\n",
    "**Sample Testcase:**\n",
    "\n",
    "**INPUT**\n",
    "\n",
    "ABDCFGIJKLMNOPQUVWXYZ\n",
    "\n",
    "EHRST\n",
    "\n",
    "**OUTPUT**\n",
    "\n",
    "yes"
   ]
  },
  {
   "cell_type": "code",
   "execution_count": 15,
   "metadata": {},
   "outputs": [
    {
     "name": "stdout",
     "output_type": "stream",
     "text": [
      "yes\n"
     ]
    }
   ],
   "source": [
    "A =['A','B','C','D','E','F','G','H','I','J','K','L','M','N','O','P','Q','R','S','T','U','V','W','X','Y','Z']\n",
    "\n",
    "A1 = input()\n",
    "A2 = input()\n",
    "\n",
    "count = 0\n",
    "\n",
    "if len(A1)+len(A2)==len(A):\n",
    "    for i in A1:\n",
    "        if i in A:\n",
    "            A.remove(i)\n",
    "    for i in A2:\n",
    "        if i in A:\n",
    "            A.remove(i)\n",
    "    if len(A)==0:\n",
    "        print('yes')\n",
    "    else:\n",
    "        print('no')\n",
    "else:\n",
    "    print('no')"
   ]
  },
  {
   "cell_type": "markdown",
   "metadata": {},
   "source": [
    "### **119. Given a string S of length N, find the length of the largest alternating 'ab' subarray.**\n",
    "\n",
    "Input Size : 1 <= N <= 100000\n",
    "\n",
    "**Sample Testcases:**\n",
    "\n",
    "**INPUT**\n",
    "\n",
    "ababababa\n",
    "\n",
    "**OUTPUT**\n",
    "\n",
    "9"
   ]
  },
  {
   "cell_type": "code",
   "execution_count": 40,
   "metadata": {},
   "outputs": [
    {
     "name": "stdout",
     "output_type": "stream",
     "text": [
      "9\n"
     ]
    }
   ],
   "source": [
    "def largest_alternating_ab_subarray(S):\n",
    "    n = len(S)\n",
    "    if n < 2:\n",
    "        return 0\n",
    "\n",
    "    max_length = 0\n",
    "    current_length = 0\n",
    "\n",
    "    for i in range(n):\n",
    "        if i > 0 and ((S[i] == 'a' and S[i - 1] == 'b') or (S[i] == 'b' and S[i - 1] == 'a')):\n",
    "            current_length += 1\n",
    "        else:\n",
    "            current_length = 1 if S[i] in 'ab' else 0\n",
    "        max_length = max(max_length, current_length)\n",
    "    return max_length if max_length >= 2 else 0\n",
    "\n",
    "print(largest_alternating_ab_subarray(\"ababababa\"))  # Expected Output: 9"
   ]
  },
  {
   "cell_type": "markdown",
   "metadata": {},
   "source": [
    "### **120. Given a roman numeral N, convert it into integer.Take L=50, C=100.If it is not a valid roman numeral print '-1'**\n",
    "\n",
    "Input Size : N <= 100\n",
    "\n",
    "**Sample Testcase:**\n",
    "\n",
    "**INPUT**\n",
    "\n",
    "VI\n",
    "\n",
    "**OUTPUT**\n",
    "\n",
    "6\n",
    "\n",
    "**INPUT**\n",
    "\n",
    "Y\n",
    "\n",
    "**OUTPUT**\n",
    "\n",
    "-1"
   ]
  },
  {
   "cell_type": "code",
   "execution_count": 39,
   "metadata": {},
   "outputs": [
    {
     "name": "stdout",
     "output_type": "stream",
     "text": [
      "-1\n"
     ]
    }
   ],
   "source": [
    "def roman_to_int(N):\n",
    "    roman_values = {'I': 1, 'V': 5, 'X': 10, 'L': 50, 'C': 100}\n",
    "    \n",
    "    for char in N:\n",
    "        if char not in roman_values:\n",
    "            return -1\n",
    "    \n",
    "    result = 0\n",
    "    for i in range(len(N)):\n",
    "        if i + 1 < len(N) and roman_values[N[i]] < roman_values[N[i + 1]]:\n",
    "            result -= roman_values[N[i]]\n",
    "        else:\n",
    "            result += roman_values[N[i]]    \n",
    "    return result\n",
    "\n",
    "N = input().strip()\n",
    "print(roman_to_int(N))"
   ]
  },
  {
   "cell_type": "markdown",
   "metadata": {},
   "source": [
    "### **121. Given a string 'S', sort the characters based on the frequency(highest and lowest) and print the resultant string.(Note:If the frequency of different character is same then sort based on alphabetical order).**\n",
    "\n",
    "Input Size : 1 <= S <= 100000\n",
    "\n",
    "**Sample Testcases:**\n",
    "\n",
    "**INPUT**\n",
    "\n",
    "aabbba\n",
    "\n",
    "**OUTPUT**\n",
    "\n",
    "aaabbb"
   ]
  },
  {
   "cell_type": "code",
   "execution_count": 21,
   "metadata": {},
   "outputs": [
    {
     "name": "stdout",
     "output_type": "stream",
     "text": [
      "aaabbb\n"
     ]
    }
   ],
   "source": [
    "from collections import Counter\n",
    "\n",
    "def sort_by_frequency(s):\n",
    "    freq = Counter(s)\n",
    "    sorted_chars = sorted(freq.items(), key=lambda x: (-x[1], x[0]))\n",
    "    result = ''.join(char * count for char, count in sorted_chars)\n",
    "    return result\n",
    "\n",
    "s = input()\n",
    "print(sort_by_frequency(s))"
   ]
  },
  {
   "cell_type": "markdown",
   "metadata": {},
   "source": [
    "### **122. Given with Size of the array 'N' followed by array of 'N' strings, group the anagrams and print the number of grouping possible.If grouping not possible print '0'.**\n",
    "\n",
    "**Sample Testcase:**\n",
    "\n",
    "**INPUT**\n",
    "\n",
    "7\n",
    "\n",
    "rat art cat act dog god tar pat\n",
    "\n",
    "**OUTPUT**\n",
    "\n",
    "3\n",
    "\n",
    "[rat, art, tar],[cat, act],[dog, god]"
   ]
  },
  {
   "cell_type": "code",
   "execution_count": 22,
   "metadata": {},
   "outputs": [
    {
     "name": "stdout",
     "output_type": "stream",
     "text": [
      "[['rat', 'art', 'tar'], ['cat', 'act'], ['dog', 'god']]\n",
      "3\n"
     ]
    }
   ],
   "source": [
    "from collections import defaultdict\n",
    "\n",
    "def count_anagram_groups(n, words):\n",
    "    if n == 0:\n",
    "        return 0  # No strings, no groups\n",
    "\n",
    "    anagram_groups = defaultdict(list)\n",
    "    \n",
    "    # Group words by their sorted version\n",
    "    for word in words:\n",
    "        sorted_word = ''.join(sorted(word))  # Sort the characters in the word\n",
    "        anagram_groups[sorted_word].append(word)\n",
    "\n",
    "    # If no grouping is possible, return 0\n",
    "    if len(anagram_groups) == n:\n",
    "        return 0\n",
    "\n",
    "    # Print groups\n",
    "    groups = list(anagram_groups.values())\n",
    "    print(groups)  # Prints each group of anagrams\n",
    "    return len(groups)\n",
    "\n",
    "n = 7\n",
    "words = [\"rat\", \"art\", \"cat\", \"act\", \"dog\", \"god\", \"tar\"]\n",
    "result = count_anagram_groups(n, words)\n",
    "print(result)"
   ]
  },
  {
   "cell_type": "markdown",
   "metadata": {},
   "source": [
    "### **123. Write a program to give the following output for the given string S of size N.(character containing even number of occurences should be elaborated else print the same format)**\n",
    "\n",
    "Eg 1: Input: a1b10\n",
    "\n",
    "Output: a1bbbbbbbbbb\n",
    "\n",
    "Eg: 2: Input: b3c6d15\n",
    "\n",
    "Output: b3ccccccd15\n",
    "\n",
    "Input Size : 1 <= N <= 100000\n",
    "\n",
    "**Sample Testcases:**\n",
    "\n",
    "**INPUT**\n",
    "\n",
    "a1b10\n",
    "\n",
    "**OUTPUT**\n",
    "\n",
    "a1bbbbbbbbbb"
   ]
  },
  {
   "cell_type": "code",
   "execution_count": 29,
   "metadata": {},
   "outputs": [
    {
     "name": "stdout",
     "output_type": "stream",
     "text": [
      "a1bbbbbbbbbb\n"
     ]
    }
   ],
   "source": [
    "import re\n",
    "\n",
    "def process_string(S):\n",
    "    pattern = re.compile(r'([a-zA-Z])(\\d+)')\n",
    "    result = []\n",
    "    \n",
    "    for match in pattern.finditer(S):\n",
    "        char = match.group(1)\n",
    "        count = int(match.group(2))\n",
    "\n",
    "        if count % 2 == 0:\n",
    "            result.append(char * count)\n",
    "        else:\n",
    "            result.append(f\"{char}{count}\")\n",
    "\n",
    "    print(\"\".join(result))\n",
    "\n",
    "S = input().strip()\n",
    "process_string(S)"
   ]
  },
  {
   "cell_type": "markdown",
   "metadata": {},
   "source": [
    "### **124. Given a number N, print the first N Catalan numbers.**\n",
    "\n",
    "Input Size : N <= 100\n",
    "\n",
    "**Sample Testcase:**\n",
    "\n",
    "**INPUT**\n",
    "\n",
    "1\n",
    "\n",
    "**OUTPUT**\n",
    "\n",
    "1 1"
   ]
  },
  {
   "cell_type": "code",
   "execution_count": 30,
   "metadata": {},
   "outputs": [
    {
     "name": "stdout",
     "output_type": "stream",
     "text": [
      "1 1\n"
     ]
    }
   ],
   "source": [
    "def catalan(n):\n",
    "    catalan_numbers = [0] * (n + 1)\n",
    "    catalan_numbers[0] = catalan_numbers[1] = 1\n",
    "    for i in range(2, n + 1):\n",
    "        for j in range(i):\n",
    "            catalan_numbers[i] += catalan_numbers[j] * catalan_numbers[i - j - 1]    \n",
    "    return catalan_numbers\n",
    "\n",
    "n = int(input())\n",
    "result = catalan(n)\n",
    "print(\" \".join(map(str, result)))"
   ]
  },
  {
   "cell_type": "markdown",
   "metadata": {},
   "source": [
    "### **125. Given a string S. Find the maximum length of substring alternating characters of vowel and consonants.**\n",
    "\n",
    "Input Size : |S| <= 1000000\n",
    "\n",
    "**Sample Testcase:**\n",
    "\n",
    "**INPUT**\n",
    "\n",
    "bebibo\n",
    "\n",
    "**OUTPUT**\n",
    "\n",
    "6"
   ]
  },
  {
   "cell_type": "code",
   "execution_count": 33,
   "metadata": {},
   "outputs": [
    {
     "name": "stdout",
     "output_type": "stream",
     "text": [
      "6\n"
     ]
    }
   ],
   "source": [
    "def max_alternating_vowel_consonant_substring(S):\n",
    "    vowels = set(\"aeiouAEIOU\")  # Define vowels\n",
    "    n = len(S)\n",
    "    \n",
    "    if n < 2:  # Single character strings cannot alternate\n",
    "        return 0\n",
    "    \n",
    "    max_length = 0\n",
    "    current_length = 1  # Start with the first character\n",
    "\n",
    "    for i in range(1, n):\n",
    "        if (S[i] in vowels and S[i - 1] not in vowels) or (S[i] not in vowels and S[i - 1] in vowels):\n",
    "            current_length += 1  # Alternation continues\n",
    "        else:\n",
    "            max_length = max(max_length, current_length)  # Update max length\n",
    "            current_length = 1  # Reset count\n",
    "    \n",
    "    # Final check for the last substring\n",
    "    max_length = max(max_length, current_length)\n",
    "    return max_length if max_length > 1 else 0  # Minimum length of 2 required\n",
    "\n",
    "S = input()\n",
    "print(max_alternating_vowel_consonant_substring(S))"
   ]
  },
  {
   "cell_type": "markdown",
   "metadata": {},
   "source": [
    "### **126. Joseph was going through topic of strings. He learnt about anagrams. But due to some circumstances he forget ,now he hired you to help him in completing the work. Your task is to tell whether the two given strings are anagrams.**\n",
    "\n",
    "**Input Description:**\n",
    "\n",
    "The first line of the input is a string N, the second line of the input is a string M\n",
    "\n",
    "**Output Description:**\n",
    "\n",
    "Compare the two string input N and M. Print 1 if they are anagram else print 0.\n",
    "\n",
    "**Sample Input:**\n",
    "\n",
    "abcd\n",
    "\n",
    "cdab\n",
    "\n",
    "**Sample Output:**\n",
    "\n",
    "1"
   ]
  },
  {
   "cell_type": "code",
   "execution_count": 34,
   "metadata": {},
   "outputs": [
    {
     "name": "stdout",
     "output_type": "stream",
     "text": [
      "1\n"
     ]
    }
   ],
   "source": [
    "def are_anagrams(N, M):\n",
    "    # Sort the characters of both strings and compare\n",
    "    if sorted(N) == sorted(M):\n",
    "        return 1\n",
    "    else:\n",
    "        return 0\n",
    "\n",
    "N = input().strip()\n",
    "M = input().strip()\n",
    "print(are_anagrams(N, M))"
   ]
  },
  {
   "cell_type": "markdown",
   "metadata": {},
   "source": [
    "### **127. You are given a string ‘s’.Determine whether the string given is made up of either.**\n",
    "\n",
    "A\n",
    "AB\n",
    "ABB\n",
    "\n",
    "If the string given is made up of any frequency occurrence of the above Print 1 else 0\n",
    "\n",
    "**Input Description:**\n",
    "\n",
    "You are given a string ‘s’.\n",
    "\n",
    "**Output Description:**\n",
    "\n",
    "Print 1 else 0\n",
    "\n",
    "**Sample Input:**\n",
    "\n",
    "AAAAA\n",
    "\n",
    "**Sample Output:**\n",
    "\n",
    "1"
   ]
  },
  {
   "cell_type": "code",
   "execution_count": 35,
   "metadata": {},
   "outputs": [
    {
     "name": "stdout",
     "output_type": "stream",
     "text": [
      "1\n"
     ]
    }
   ],
   "source": [
    "def is_valid_string(s):\n",
    "    i = 0\n",
    "    n = len(s)\n",
    "    \n",
    "    while i < n:\n",
    "        # Try to match \"ABB\"\n",
    "        if i + 2 < n and s[i:i+3] == \"ABB\":\n",
    "            i += 3\n",
    "        # Try to match \"AB\"\n",
    "        elif i + 1 < n and s[i:i+2] == \"AB\":\n",
    "            i += 2\n",
    "        # Try to match \"A\"\n",
    "        elif s[i] == \"A\":\n",
    "            i += 1\n",
    "        else:\n",
    "            return 0  # If none of the patterns match, return 0    \n",
    "    return 1  # If we reach the end, the string is valid\n",
    "\n",
    "s = input().strip()\n",
    "print(is_valid_string(s))"
   ]
  },
  {
   "cell_type": "markdown",
   "metadata": {},
   "source": [
    "### **128. Given 2 numbers A,B. Print the GCD of A! and B!.**\n",
    "\n",
    "**Sample Testcase:**\n",
    "\n",
    "**INPUT**\n",
    "\n",
    "4 2\n",
    "\n",
    "**OUTPUT**\n",
    "\n",
    "2"
   ]
  },
  {
   "cell_type": "code",
   "execution_count": 36,
   "metadata": {},
   "outputs": [
    {
     "name": "stdout",
     "output_type": "stream",
     "text": [
      "2\n"
     ]
    }
   ],
   "source": [
    "import math\n",
    "\n",
    "def gcd_of_factorials(a, b):\n",
    "    min_value = min(a, b)\n",
    "    result = math.factorial(min_value)\n",
    "    print(result)\n",
    "\n",
    "a, b = map(int, input().split())\n",
    "gcd_of_factorials(a, b)"
   ]
  },
  {
   "cell_type": "markdown",
   "metadata": {},
   "source": [
    "### **129. Given a string S of length N, write a program that would reverse every word in the string.**\n",
    "\n",
    "Input Size : 1 <= N <= 100000\n",
    "\n",
    "**Sample Testcases:**\n",
    "\n",
    "**INPUT**\n",
    "\n",
    "Hello World\n",
    "\n",
    "**OUTPUT**\n",
    "\n",
    "olleH dlroW"
   ]
  },
  {
   "cell_type": "code",
   "execution_count": 37,
   "metadata": {},
   "outputs": [
    {
     "name": "stdout",
     "output_type": "stream",
     "text": [
      "olleH dlroW\n"
     ]
    }
   ],
   "source": [
    "def reverse_words(s):\n",
    "    # Split the string by spaces\n",
    "    words = s.split()\n",
    "    \n",
    "    # Reverse each word\n",
    "    reversed_words = [word[::-1] for word in words]\n",
    "    \n",
    "    # Join the reversed words with spaces and return\n",
    "    return ' '.join(reversed_words)\n",
    "\n",
    "s = input().strip()\n",
    "print(reverse_words(s))"
   ]
  },
  {
   "cell_type": "markdown",
   "metadata": {},
   "source": [
    "### **130. Given a string 'S' print the substring of maximum length which is not a palindrome.If more than one solution is possible print the solution which you obtained by performing elimination at the end of the string.**\n",
    "\n",
    "Input Size : 1 <= length <= 1000\n",
    "\n",
    "**Sample Testcases:**\n",
    "\n",
    "**INPUT**\n",
    "\n",
    "ababababa\n",
    "\n",
    "**OUTPUT**\n",
    "\n",
    "abababab\n",
    "\n",
    "**INPUT**\n",
    "\n",
    "hello\n",
    "\n",
    "**OUTPUT**\n",
    "\n",
    "hello"
   ]
  },
  {
   "cell_type": "code",
   "execution_count": 38,
   "metadata": {},
   "outputs": [
    {
     "name": "stdout",
     "output_type": "stream",
     "text": [
      "abababab\n"
     ]
    }
   ],
   "source": [
    "def is_palindrome(s):\n",
    "    return s == s[::-1]\n",
    "\n",
    "def longest_non_palindrome_substring(s):\n",
    "    if not is_palindrome(s):\n",
    "        return s\n",
    "    \n",
    "    for i in range(len(s) - 1, 0, -1):\n",
    "        substring = s[:i]\n",
    "        if not is_palindrome(substring):\n",
    "            return substring\n",
    "    return \"\"\n",
    "\n",
    "s = input().strip()\n",
    "print(longest_non_palindrome_substring(s))"
   ]
  },
  {
   "cell_type": "markdown",
   "metadata": {},
   "source": [
    "### **131. Given two numbers S1 and S2 represented as strings, return multiplication of the numbers as a string.**\n",
    "\n",
    "NOTE: The numbers can be arbitrarily large and are nonnegative.\n",
    "\n",
    "**Sample Testcase:**\n",
    "\n",
    "**INPUT**\n",
    "\n",
    "2 10\n",
    "\n",
    "**OUTPUT**\n",
    "\n",
    "20"
   ]
  },
  {
   "cell_type": "code",
   "execution_count": null,
   "metadata": {},
   "outputs": [
    {
     "name": "stdout",
     "output_type": "stream",
     "text": [
      "20\n"
     ]
    }
   ],
   "source": [
    "def multiply(S1, S2):\n",
    "    if S1 == \"0\" or S2 == \"0\":\n",
    "        return \"0\"\n",
    "    \n",
    "    # Get the lengths of both strings\n",
    "    len1, len2 = len(S1), len(S2)\n",
    "    result = [0] * (len1 + len2)\n",
    "    \n",
    "    # Reverse the strings for easier calculation\n",
    "    S1 = S1[::-1]\n",
    "    S2 = S2[::-1]\n",
    "    \n",
    "    # Perform multiplication digit by digit\n",
    "    for i in range(len1):\n",
    "        for j in range(len2):\n",
    "            result[i + j] += int(S1[i]) * int(S2[j])    # Multiply digits and add to the corresponding position in result array\n",
    "            result[i + j + 1] += result[i + j] // 10    # Carry forward any value greater than 9\n",
    "            result[i + j] %= 10\n",
    "    \n",
    "    # Remove leading zeros in the result array\n",
    "    while len(result) > 1 and result[-1] == 0:\n",
    "        result.pop()\n",
    "    return ''.join(map(str, result[::-1]))\n",
    "\n",
    "S1, S2 = input().split()\n",
    "print(multiply(S1, S2))"
   ]
  },
  {
   "cell_type": "markdown",
   "metadata": {},
   "source": [
    "### **132. Given N strings and a prefix string p. Find how many of the N strings have p as their prefix.**\n",
    "\n",
    "for eg: String[] \n",
    "\n",
    "input={'100','111','10100','10','1111'} prefix='10'\n",
    "\n",
    "output=2\n",
    "\n",
    "Input Size : N <= 100000, string length <=1000, prefix length <=100\n",
    "\n",
    "**Sample Testcase:**\n",
    "\n",
    "**INPUT**\n",
    "\n",
    "5\n",
    "\n",
    "100 111 10100 10 1111\n",
    "\n",
    "10\n",
    "\n",
    "**OUTPUT**\n",
    "\n",
    "3"
   ]
  },
  {
   "cell_type": "code",
   "execution_count": 43,
   "metadata": {},
   "outputs": [
    {
     "name": "stdout",
     "output_type": "stream",
     "text": [
      "3\n"
     ]
    }
   ],
   "source": [
    "def count_strings_with_prefix(strings, prefix):\n",
    "    count = 0\n",
    "    prefix_length = len(prefix)\n",
    "    \n",
    "    for string in strings:\n",
    "        if len(string) >= prefix_length and string.startswith(prefix):\n",
    "            count += 1    \n",
    "    return count\n",
    "\n",
    "N = int(input())\n",
    "strings = input().split()\n",
    "prefix = input().strip()\n",
    "print(count_strings_with_prefix(strings, prefix))"
   ]
  },
  {
   "cell_type": "markdown",
   "metadata": {},
   "source": [
    "### **133. Given a number N, find the smallest number which is greater than N with the same digits in N. If N is the greatest digit print 'impossible'.**\n",
    "\n",
    "Input Size : 1 <= N <= 1000000000000000000\n",
    "\n",
    "**Sample Testcases:**\n",
    "\n",
    "**INPUT**\n",
    "\n",
    "123\n",
    "\n",
    "**OUTPUT**\n",
    "\n",
    "132"
   ]
  },
  {
   "cell_type": "code",
   "execution_count": 44,
   "metadata": {},
   "outputs": [
    {
     "name": "stdout",
     "output_type": "stream",
     "text": [
      "132\n"
     ]
    }
   ],
   "source": [
    "def next_greater_number(n):\n",
    "    digits = list(str(n))\n",
    "    length = len(digits)\n",
    "    \n",
    "    i = length - 2\n",
    "    while i >= 0 and digits[i] >= digits[i + 1]:\n",
    "        i -= 1\n",
    "    if i == -1:\n",
    "        return \"impossible\"\n",
    "    j = length - 1\n",
    "    while digits[j] <= digits[i]:\n",
    "        j -= 1\n",
    "    \n",
    "    digits[i], digits[j] = digits[j], digits[i]\n",
    "    digits = digits[:i + 1] + digits[i + 1:][::-1]\n",
    "    return int(\"\".join(digits))\n",
    "\n",
    "n = int(input().strip())\n",
    "print(next_greater_number(n))"
   ]
  },
  {
   "cell_type": "markdown",
   "metadata": {},
   "source": [
    "### **134. Swagger and Rock are playing a word game. They need to check the two strings use the same base alphabets. Two strings are said to have same base alphabets if they use the same characters to form the word. eg: rescue and curse have same base alphabets - c,e,r,s,u.If it so print 'true' else print 'false'.**\n",
    "\n",
    "Input Size : |S| <= 1000000\n",
    "\n",
    "**Sample Testcase:**\n",
    "\n",
    "**INPUT**\n",
    "\n",
    "rescue curse\n",
    "\n",
    "**OUTPUT**\n",
    "\n",
    "true"
   ]
  },
  {
   "cell_type": "code",
   "execution_count": 45,
   "metadata": {},
   "outputs": [
    {
     "name": "stdout",
     "output_type": "stream",
     "text": [
      "true\n"
     ]
    }
   ],
   "source": [
    "def have_same_base_alphabets(str1, str2):\n",
    "    # Convert both strings to sets of characters\n",
    "    set1 = set(str1)\n",
    "    set2 = set(str2)\n",
    "    \n",
    "    # Check if both sets are equal\n",
    "    if set1 == set2:\n",
    "        return \"true\"\n",
    "    else:\n",
    "        return \"false\"\n",
    "\n",
    "str1, str2 = input().split()\n",
    "print(have_same_base_alphabets(str1, str2))"
   ]
  },
  {
   "cell_type": "markdown",
   "metadata": {},
   "source": [
    "### **135. Given a string S, remove the characters which exist more than one times,and print the remaining string.**\n",
    "\n",
    "Input Size : |S| <= 10000000\n",
    "\n",
    "**Sample Testcase:**\n",
    "\n",
    "**INPUT**\n",
    "\n",
    "Engineering\n",
    "\n",
    "**OUTPUT**\n",
    "\n",
    "Er"
   ]
  },
  {
   "cell_type": "code",
   "execution_count": null,
   "metadata": {},
   "outputs": [
    {
     "name": "stdout",
     "output_type": "stream",
     "text": [
      "Er\n"
     ]
    }
   ],
   "source": [
    "from collections import Counter\n",
    "\n",
    "def remove_duplicates(S):\n",
    "    freq = Counter(S)   # Count the frequency of each character in the string\n",
    "    \n",
    "    # Filter the string to include only characters that appear exactly once\n",
    "    result = ''.join([ch for ch in S if freq[ch] == 1])    \n",
    "    return result\n",
    "\n",
    "S = input().strip()\n",
    "print(remove_duplicates(S))"
   ]
  },
  {
   "cell_type": "markdown",
   "metadata": {},
   "source": [
    "### **136. Given a string S convert each characters of the string into ASCII values and print the sum of the numbers.**\n",
    "\n",
    "Input Size : |s| <= 100000\n",
    "\n",
    "**Sample Testcase:**\n",
    "\n",
    "**INPUT**\n",
    "\n",
    "guvi\n",
    "\n",
    "**OUTPUT**\n",
    "\n",
    "443"
   ]
  },
  {
   "cell_type": "code",
   "execution_count": 1,
   "metadata": {},
   "outputs": [
    {
     "name": "stdout",
     "output_type": "stream",
     "text": [
      "443\n"
     ]
    }
   ],
   "source": [
    "s = input().strip()\n",
    "\n",
    "total_sum = 0\n",
    "\n",
    "for char in s:\n",
    "    total_sum += ord(char)\n",
    "print(total_sum)"
   ]
  },
  {
   "cell_type": "markdown",
   "metadata": {},
   "source": [
    "### **137. Given a string S of length N, reverse every word in place.**\n",
    "\n",
    "Input Size : 1 <= N <= 100000\n",
    "\n",
    "**Sample Testcase:**\n",
    "\n",
    "**INPUT**\n",
    "\n",
    "abcd er x\n",
    "\n",
    "**OUTPUT**\n",
    "\n",
    "dcba re x"
   ]
  },
  {
   "cell_type": "code",
   "execution_count": null,
   "metadata": {},
   "outputs": [
    {
     "name": "stdout",
     "output_type": "stream",
     "text": [
      "dcba re x\n"
     ]
    }
   ],
   "source": [
    "def reverse_words_in_place(s):\n",
    "    words = s.split()   # Split the string into words\n",
    "    reversed_words = [word[::-1] for word in words]     # Reverse each word\n",
    "    return ' '.join(reversed_words) \n",
    "\n",
    "s = input().strip()\n",
    "print(reverse_words_in_place(s))"
   ]
  },
  {
   "cell_type": "markdown",
   "metadata": {},
   "source": [
    "### **138. Given a sentence S.check whether it is in camelcase.print 'yes' if it is in camelcase otherwise print 'no'.**\n",
    "\n",
    "input size : |s| <= 100000\n",
    "\n",
    "**Sample Testcase:**\n",
    "\n",
    "**INPUT**\n",
    "\n",
    "CodekataChallenge\n",
    "\n",
    "**OUTPUT**\n",
    "\n",
    "yes"
   ]
  },
  {
   "cell_type": "code",
   "execution_count": 3,
   "metadata": {},
   "outputs": [
    {
     "name": "stdout",
     "output_type": "stream",
     "text": [
      "yes\n"
     ]
    }
   ],
   "source": [
    "def is_camel_case(s):\n",
    "    if not s[0].islower():\n",
    "        return \"yes\"\n",
    "\n",
    "    for char in s[1:]:\n",
    "        if char.isupper() and char.isalpha():\n",
    "            continue\n",
    "        elif char.islower():\n",
    "            continue\n",
    "        else:\n",
    "            return \"no\"\n",
    "    return \"yes\"\n",
    "\n",
    "s = input().strip()\n",
    "print(is_camel_case(s))"
   ]
  },
  {
   "cell_type": "markdown",
   "metadata": {},
   "source": [
    "### **139. Given a sequence of strings remove extra spaces in the string(there can be atmost one space between 2 strings).**\n",
    "\n",
    "Input Size : 1<= N <= 100000\n",
    "\n",
    "**Sample Testcases:**\n",
    "\n",
    "**INPUT**\n",
    "\n",
    "aa abba abba\n",
    "\n",
    "**OUTPUT**\n",
    "\n",
    "aa abba abba"
   ]
  },
  {
   "cell_type": "code",
   "execution_count": 4,
   "metadata": {},
   "outputs": [
    {
     "name": "stdout",
     "output_type": "stream",
     "text": [
      "aa abba abba\n"
     ]
    }
   ],
   "source": [
    "def remove_extra_spaces(s):\n",
    "    words = s.split()   # Split the string into words (automatically removes extra spaces)\n",
    "    return ' '.join(words)  # Join the words with a single space\n",
    "\n",
    "s = input().strip()\n",
    "print(remove_extra_spaces(s))"
   ]
  },
  {
   "cell_type": "markdown",
   "metadata": {},
   "source": [
    "### **140. Given a number N followed by N numbers. Find the largest number which can be formed from the given numbers and print it.**\n",
    "\n",
    "NOTE: Each number should be used exactly once.\n",
    "\n",
    "Input Size : 1 <= N <= 100000\n",
    "\n",
    "**Sample Testcases:**\n",
    "\n",
    "**INPUT**\n",
    "\n",
    "5\n",
    "\n",
    "5 6 7 8 9\n",
    "\n",
    "**OUTPUT**\n",
    "\n",
    "98765"
   ]
  },
  {
   "cell_type": "code",
   "execution_count": 5,
   "metadata": {},
   "outputs": [
    {
     "name": "stdout",
     "output_type": "stream",
     "text": [
      "98765\n"
     ]
    }
   ],
   "source": [
    "from functools import cmp_to_key\n",
    "\n",
    "def compare(x, y):\n",
    "    if x + y > y + x:\n",
    "        return -1\n",
    "    elif x + y < y + x:\n",
    "        return 1\n",
    "    else:\n",
    "        return 0\n",
    "\n",
    "def largest_number(nums):\n",
    "    nums = list(map(str, nums))\n",
    "    nums.sort(key=cmp_to_key(compare))\n",
    "    result = ''.join(nums)\n",
    "    return result if result[0] != '0' else '0'\n",
    "\n",
    "n = int(input())\n",
    "nums = list(map(int, input().split()))\n",
    "print(largest_number(nums))"
   ]
  },
  {
   "cell_type": "markdown",
   "metadata": {},
   "source": [
    "### **141. Shriti was going through some cryptographic concept. She just got stuck at some place . She needs your help to sort out the situation. Your task is to help her in writing the decrypted string.**\n",
    "\n",
    "**Input Description:**\n",
    "\n",
    "The first line of the input consists of a Encrypted string input\n",
    "\n",
    "**Output Description:**\n",
    "\n",
    "Print the decrypted string, by analysing the logic behind the decryption using \n",
    "the sample input and output.\n",
    "\n",
    "**Sample Input:**\n",
    "\n",
    "3[b[2[aa]]]\n",
    "\n",
    "**Sample Output:**\n",
    "\n",
    "baaaabaaaabaaaa"
   ]
  },
  {
   "cell_type": "code",
   "execution_count": 6,
   "metadata": {},
   "outputs": [
    {
     "name": "stdout",
     "output_type": "stream",
     "text": [
      "baaaabaaaabaaaa\n"
     ]
    }
   ],
   "source": [
    "def decrypt_string_reversed(encrypted_str):\n",
    "    reversed_input = encrypted_str[::-1]\n",
    "    s = \"\"\n",
    "    for char in reversed_input:\n",
    "        if char == \"]\" or char == \"[\":\n",
    "            continue\n",
    "        elif char.isalpha():\n",
    "            s += char\n",
    "        elif char.isnumeric():\n",
    "            s *= int(char)\n",
    "    s = s[::-1]\n",
    "    print(s)\n",
    "\n",
    "encrypted_str = input().strip()\n",
    "decrypt_string_reversed(encrypted_str)"
   ]
  },
  {
   "cell_type": "markdown",
   "metadata": {},
   "source": [
    "### **142. Given a string S and a number K. Print all the substrings of S of length K(space separeted output).**\n",
    "\n",
    "Input Size : |S| <= 100 and K<= 50\n",
    "\n",
    "**Sample Testcase:**\n",
    "\n",
    "**INPUT**\n",
    "\n",
    "prog 2\n",
    "\n",
    "**OUTPUT**\n",
    "\n",
    "pr ro og"
   ]
  },
  {
   "cell_type": "code",
   "execution_count": 7,
   "metadata": {},
   "outputs": [
    {
     "name": "stdout",
     "output_type": "stream",
     "text": [
      "pr ro og\n"
     ]
    }
   ],
   "source": [
    "def substrings_of_length_k(s, k):\n",
    "    result = [s[i:i+k] for i in range(len(s) - k + 1)]  # Generate substrings of length k\n",
    "    return ' '.join(result)     # Join the substrings with a space\n",
    "\n",
    "s, k = input().split()\n",
    "k = int(k)\n",
    "print(substrings_of_length_k(s, k))"
   ]
  },
  {
   "cell_type": "markdown",
   "metadata": {},
   "source": [
    "### **143. Given 2 strings P,Q of length N,M generate a password from two strings by combining corresponding index letter of each string.If the any one string is less than the other then numbers starting from1,2,3.... are taken to equate the length of the strings.**\n",
    "\n",
    "Explanation:If the strings are Abi & Bhuvana then the password is \n",
    "ABbhiu1v2a3n4a-\n",
    "\n",
    "Input Size : 1 <= N, M <= 100000\n",
    "\n",
    "**Sample Testcase:**\n",
    "\n",
    "**INPUT**\n",
    "\n",
    "Vishal Yadav\n",
    "\n",
    "**OUTPUT**\n",
    "\n",
    "VYiasdhavl1"
   ]
  },
  {
   "cell_type": "code",
   "execution_count": 21,
   "metadata": {},
   "outputs": [
    {
     "name": "stdout",
     "output_type": "stream",
     "text": [
      "VYiasdhaavl1\n"
     ]
    }
   ],
   "source": [
    "def generate_password(p, q):\n",
    "    len_p, len_q = len(p), len(q)\n",
    "    password = []\n",
    "    number = 1  # Start numbering from 1\n",
    "    \n",
    "    # Iterate through the maximum length of the two strings\n",
    "    for i in range(max(len_p, len_q)):\n",
    "        if i < len_p:\n",
    "            password.append(p[i])  # Append character from string P\n",
    "        if i < len_q:\n",
    "            password.append(q[i])  # Append character from string Q\n",
    "    \n",
    "    # Append numbers only if one string is shorter\n",
    "    if len_p != len_q:\n",
    "        for _ in range(abs(len_p - len_q)):\n",
    "            password.append(str(number))\n",
    "            number += 1\n",
    "    return ''.join(password)\n",
    "\n",
    "p, q = input().split()\n",
    "print(generate_password(p, q))"
   ]
  },
  {
   "cell_type": "markdown",
   "metadata": {},
   "source": [
    "### **144. You are given with a sequence of n words to manipulate.If in a sequence,if two same words come together then they will destroy each other.After the complete execution print the length of string obtained.**\n",
    "\n",
    "**Input Description:**\n",
    "\n",
    "An integer ‘n’ denoting length of string,Next line contains string.\n",
    "\n",
    "**Output Description:**\n",
    "\n",
    "Print the length of string obtained\n",
    "\n",
    "**Sample Input:**\n",
    "\n",
    "4\n",
    "\n",
    "abc  aa aa abc\n",
    "\n",
    "**Sample Output:**\n",
    "\n",
    "0"
   ]
  },
  {
   "cell_type": "code",
   "execution_count": 22,
   "metadata": {},
   "outputs": [
    {
     "name": "stdout",
     "output_type": "stream",
     "text": [
      "0\n"
     ]
    }
   ],
   "source": [
    "def manipulate_string(n, sequence):\n",
    "    words = sequence.split()  # Split the sequence into individual words\n",
    "    stack = []\n",
    "\n",
    "    for word in words:\n",
    "        if stack and stack[-1] == word:  # If the top of the stack is the same as the current word\n",
    "            stack.pop()  # Remove the word (destroy the pair)\n",
    "        else:\n",
    "            stack.append(word)  # Otherwise, add the word to the stack\n",
    "    return len(stack)  # Return the length of the resulting string\n",
    "\n",
    "n = int(input())\n",
    "sequence = input()\n",
    "print(manipulate_string(n, sequence))"
   ]
  },
  {
   "cell_type": "markdown",
   "metadata": {},
   "source": [
    "### **145. Given a string S of length N, reverse the words at odd positions.**\n",
    "\n",
    "Input Size: 1 <= N <= 100000\n",
    "\n",
    "**Sample Testcase:**\n",
    "\n",
    "**INPUT**\n",
    "\n",
    "This is an example for this question\n",
    "\n",
    "**OUTPUT**\n",
    "\n",
    "sihT is na example rof this noitseuq"
   ]
  },
  {
   "cell_type": "code",
   "execution_count": null,
   "metadata": {},
   "outputs": [
    {
     "name": "stdout",
     "output_type": "stream",
     "text": [
      "sihT is na example rof this noitseuq\n"
     ]
    }
   ],
   "source": [
    "def reverse_odd_words(S):\n",
    "    words = S.split()  # Split the string into words\n",
    "    for i in range(0, len(words), 2):   # Process words at odd positions (0, 2, 4, ...)\n",
    "        words[i] = words[i][::-1]  # Reverse the word\n",
    "    return ' '.join(words)  # Join the words back into a string\n",
    "\n",
    "S = input()\n",
    "print(reverse_odd_words(S))"
   ]
  },
  {
   "cell_type": "markdown",
   "metadata": {},
   "source": [
    "### **146. You are given space separated words. In the ascending order according to special dictionary. Your task is to print the string denoting the order of characters in dictionary.**\n",
    "\n",
    "**Input Description:**\n",
    "\n",
    "You are given a string ‘s’.\n",
    "\n",
    "**Output Description:**\n",
    "\n",
    "Print the string denoting the order of characters in dictionary\n",
    "\n",
    "**Sample Input:**\n",
    "\n",
    "baa abcd abca cab cad\n",
    "\n",
    "**Sample Output:**\n",
    "\n",
    "bdac"
   ]
  },
  {
   "cell_type": "code",
   "execution_count": null,
   "metadata": {},
   "outputs": [
    {
     "name": "stdout",
     "output_type": "stream",
     "text": [
      "bdac\n"
     ]
    }
   ],
   "source": [
    "from collections import defaultdict, deque\n",
    "\n",
    "def find_order(s):\n",
    "    words = s.split()\n",
    "    graph = defaultdict(set)\n",
    "    in_degree = defaultdict(int)\n",
    "    all_chars = set(''.join(words))\n",
    "    \n",
    "    # Build the graph\n",
    "    for i in range(len(words) - 1):\n",
    "        word1, word2 = words[i], words[i + 1]\n",
    "        for c1, c2 in zip(word1, word2):\n",
    "            if c1 != c2:\n",
    "                if c2 not in graph[c1]:\n",
    "                    graph[c1].add(c2)\n",
    "                    in_degree[c2] += 1\n",
    "                break\n",
    "    \n",
    "    # Initialize the queue with characters that have no incoming edges\n",
    "    queue = deque([char for char in all_chars if in_degree[char] == 0])\n",
    "    \n",
    "    result = []\n",
    "    \n",
    "    while queue:\n",
    "        char = queue.popleft()\n",
    "        result.append(char)\n",
    "        \n",
    "        for neighbor in graph[char]:\n",
    "            in_degree[neighbor] -= 1\n",
    "            if in_degree[neighbor] == 0:\n",
    "                queue.append(neighbor)\n",
    "    \n",
    "    if len(result) == len(all_chars):\n",
    "        return ''.join(result)\n",
    "    else:\n",
    "        return ''\n",
    "\n",
    "s = input()\n",
    "print(find_order(s))"
   ]
  },
  {
   "cell_type": "markdown",
   "metadata": {},
   "source": [
    "### **147. Each character of the alphabet is matched to a number. For example A is mapped to 1 , b to 2 so on z to 26. The reverse mapping is also true. 1 is mapped to a , 2 to b 3 to c and so on z to 26. So a number 12258 can be translated to abbeh , aveh , abyh , lbeh , and lyh , so there are 5 ways to translate 12258. Given a number N , write a program to print the number of ways to do this.**\n",
    "\n",
    "Input Size : 1 <= N <= 100000\n",
    "\n",
    "**Sample Testcases:**\n",
    "\n",
    "**INPUT**\n",
    "\n",
    "12258\n",
    "\n",
    "**OUTPUT**\n",
    "\n",
    "5"
   ]
  },
  {
   "cell_type": "code",
   "execution_count": 27,
   "metadata": {},
   "outputs": [
    {
     "name": "stdout",
     "output_type": "stream",
     "text": [
      "5\n"
     ]
    }
   ],
   "source": [
    "def count_decodings(N):\n",
    "    S = str(N)\n",
    "    length = len(S)\n",
    "    dp = [0] * (length + 1)\n",
    "    dp[0] = 1\n",
    "    dp[1] = 1 if S[0] != '0' else 0\n",
    "\n",
    "    for i in range(2, length + 1):\n",
    "        if S[i-1] != '0':\n",
    "            dp[i] += dp[i-1]\n",
    "    \n",
    "        two_digit = int(S[i-2:i])\n",
    "        if 10 <= two_digit <= 26:\n",
    "            dp[i] += dp[i-2]\n",
    "    return dp[length]\n",
    "\n",
    "N = int(input())\n",
    "print(count_decodings(N))"
   ]
  },
  {
   "cell_type": "markdown",
   "metadata": {},
   "source": [
    "### **148. Given 2 strings S and A find the longest common substring.If no common substring is found print '-1'.**\n",
    "\n",
    "Input Size : |s| <= 1000, |A| <= 1000\n",
    "\n",
    "**Sample Testcase:**\n",
    "\n",
    "**INPUT**\n",
    "\n",
    "codekata code\n",
    "\n",
    "**OUTPUT**\n",
    "\n",
    "code"
   ]
  },
  {
   "cell_type": "code",
   "execution_count": 29,
   "metadata": {},
   "outputs": [
    {
     "name": "stdout",
     "output_type": "stream",
     "text": [
      "code\n"
     ]
    }
   ],
   "source": [
    "def longest_common_substring(S, A):\n",
    "    n, m = len(S), len(A)\n",
    "    \n",
    "    # Create a DP table with dimensions (n+1) x (m+1)\n",
    "    dp = [[0] * (m + 1) for _ in range(n + 1)]\n",
    "    \n",
    "    max_len = 0\n",
    "    end_index_s = 0\n",
    "    \n",
    "    # Fill the DP table\n",
    "    for i in range(1, n + 1):\n",
    "        for j in range(1, m + 1):\n",
    "            if S[i - 1] == A[j - 1]:\n",
    "                dp[i][j] = dp[i - 1][j - 1] + 1\n",
    "                if dp[i][j] > max_len:\n",
    "                    max_len = dp[i][j]\n",
    "                    end_index_s = i - 1\n",
    "            else:\n",
    "                dp[i][j] = 0\n",
    "\n",
    "    if max_len > 0:\n",
    "        return S[end_index_s - max_len + 1 : end_index_s + 1]\n",
    "    else:\n",
    "        return \"-1\"\n",
    "\n",
    "S = input().strip()\n",
    "A = input().strip()\n",
    "print(longest_common_substring(S, A))"
   ]
  },
  {
   "cell_type": "markdown",
   "metadata": {},
   "source": [
    "### **149. Given a string S of length N, find whether the given string is a palindrome using stack or linked list and print 'yes' otherwise print 'no'.**\n",
    "\n",
    "Input Size : 1 <= N <= 100000\n",
    "\n",
    "**Sample Testcases:**\n",
    "\n",
    "**INPUT**\n",
    "\n",
    "GuviGeek\n",
    "\n",
    "**OUTPUT**\n",
    "\n",
    "no"
   ]
  },
  {
   "cell_type": "code",
   "execution_count": 30,
   "metadata": {},
   "outputs": [
    {
     "name": "stdout",
     "output_type": "stream",
     "text": [
      "no\n"
     ]
    }
   ],
   "source": [
    "def is_palindrome(s):\n",
    "    stack = []\n",
    "    length = len(s)\n",
    "    mid = length // 2\n",
    "    \n",
    "    for i in range(mid):\n",
    "        stack.append(s[i])\n",
    "        \n",
    "    start = mid if length % 2 == 0 else mid + 1\n",
    "    for i in range(start, length):\n",
    "        if stack.pop() != s[i]:\n",
    "            return \"no\"\n",
    "    return \"yes\"\n",
    "\n",
    "s = input()\n",
    "output = is_palindrome(s)\n",
    "print(output)"
   ]
  },
  {
   "cell_type": "markdown",
   "metadata": {},
   "source": [
    "### **150. Given a string S consisting of 2 words reverse the order of two words.**\n",
    "\n",
    "Input Size : |S| <= 10000000\n",
    "\n",
    "**Sample Testcase:**\n",
    "\n",
    "**INPUT**\n",
    "\n",
    "hello world\n",
    "\n",
    "**OUTPUT**\n",
    "\n",
    "world hello"
   ]
  },
  {
   "cell_type": "code",
   "execution_count": 31,
   "metadata": {},
   "outputs": [
    {
     "name": "stdout",
     "output_type": "stream",
     "text": [
      "world hello\n"
     ]
    }
   ],
   "source": [
    "def reverse_words(S):\n",
    "    words = S.split()\n",
    "    if len(words) != 2:\n",
    "        return \"Input should consist of exactly two words\"\n",
    "    reversed_words = \" \".join(reversed(words))\n",
    "    return reversed_words\n",
    "\n",
    "S = input().strip()\n",
    "print(reverse_words(S))"
   ]
  },
  {
   "cell_type": "markdown",
   "metadata": {},
   "source": [
    "### **151. You are given a string ‘s’.Your task is to print the maximum length of longest palindrome present in string.**\n",
    "\n",
    "**Input Description:**\n",
    "\n",
    "You are given string ‘s’\n",
    "\n",
    "**Output Description:**\n",
    "\n",
    "Print length of longest palindrome in string\n",
    "\n",
    "**Sample Input:**\n",
    "\n",
    "abcb\n",
    "\n",
    "**Sample Output:**\n",
    "\n",
    "3"
   ]
  },
  {
   "cell_type": "code",
   "execution_count": 33,
   "metadata": {},
   "outputs": [
    {
     "name": "stdout",
     "output_type": "stream",
     "text": [
      "3\n"
     ]
    }
   ],
   "source": [
    "def longest_palindrome_length(s):\n",
    "    def expand_around_center(left, right):\n",
    "        while left >= 0 and right < len(s) and s[left] == s[right]:\n",
    "            left -= 1\n",
    "            right += 1\n",
    "        return right - left - 1\n",
    "    \n",
    "    if not s:\n",
    "        return 0\n",
    "    \n",
    "    max_len = 1\n",
    "    for i in range(len(s)):\n",
    "        len1 = expand_around_center(i, i)\n",
    "        len2 = expand_around_center(i, i + 1)\n",
    "        max_len = max(max_len, len1, len2)    \n",
    "    return max_len\n",
    "\n",
    "s = input()\n",
    "print(longest_palindrome_length(s))"
   ]
  },
  {
   "cell_type": "markdown",
   "metadata": {},
   "source": [
    "### **152. Given a string S of length N, find if it forms a double string after deleting 1 character.**\n",
    "\n",
    "Examples of double strings(meme,rara,fashionfashion).\n",
    "\n",
    "Input Size : 1 <= N <= 100000\n",
    "\n",
    "**Sample Testcases:**\n",
    "\n",
    "**INPUT**\n",
    "\n",
    "abxxab\n",
    "\n",
    "**OUTPUT**\n",
    "\n",
    "NO"
   ]
  },
  {
   "cell_type": "code",
   "execution_count": 34,
   "metadata": {},
   "outputs": [
    {
     "name": "stdout",
     "output_type": "stream",
     "text": [
      "NO\n"
     ]
    }
   ],
   "source": [
    "def can_form_double_string(S):\n",
    "    N = len(S)\n",
    "    if (N - 1) % 2 != 0:\n",
    "        return \"NO\"\n",
    "    \n",
    "    # Iterate over the string and try removing each character\n",
    "    for i in range(N):\n",
    "        modified = S[:i] + S[i+1:]\n",
    "        mid = len(modified) // 2  # Split the modified string into two equal parts\n",
    "        if modified[:mid] == modified[mid:]:\n",
    "            return \"YES\"    \n",
    "    return \"NO\"\n",
    "\n",
    "S = input().strip()\n",
    "print(can_form_double_string(S))"
   ]
  },
  {
   "cell_type": "markdown",
   "metadata": {},
   "source": [
    "### **153. Given a positive number N, print count of all jumping numbers smaller than or equal to N. A number is called as a Jumping Number if all adjacent digits in it differ by 1. The difference between ‘9’ and ‘0’ is not considered as 1. All single digit numbers are considered as Jumping Numbers. For example 7, 8987 and 4343456 are Jumping numbers but 796 and 89098 are not.**\n",
    "\n",
    "Input Size : 1 <= N <= 100000\n",
    "\n",
    "**Sample Testcase:**\n",
    "\n",
    "**INPUT**\n",
    "\n",
    "40\n",
    "\n",
    "**OUTPUT**\n",
    "\n",
    "16"
   ]
  },
  {
   "cell_type": "code",
   "execution_count": 35,
   "metadata": {},
   "outputs": [
    {
     "name": "stdout",
     "output_type": "stream",
     "text": [
      "16\n"
     ]
    }
   ],
   "source": [
    "def is_jumping_number(num):\n",
    "    num_str = str(num)\n",
    "    for i in range(1, len(num_str)):\n",
    "        if abs(int(num_str[i]) - int(num_str[i-1])) != 1:\n",
    "            return False\n",
    "    return True\n",
    "\n",
    "def count_jumping_numbers(N):\n",
    "    count = 0\n",
    "    for i in range(N + 1):\n",
    "        if is_jumping_number(i):\n",
    "            count += 1\n",
    "    return count\n",
    "\n",
    "N = int(input())\n",
    "print(count_jumping_numbers(N))"
   ]
  },
  {
   "cell_type": "markdown",
   "metadata": {},
   "source": [
    "### **154. Given a number N,print number of all possible valid expressions with N pairs of brackets(use this {}).For example({{{}}}.**\n",
    "\n",
    "{{}{}}\n",
    "\n",
    "{{}}{}\n",
    "\n",
    "{}{{}}\n",
    "\n",
    "{}{}{})3 brackets has 5 pairs.\n",
    "\n",
    "Input Size : 1 <= N <= 100000\n",
    "\n",
    "**Sample Testcases:**\n",
    "\n",
    "**INPUT**\n",
    "\n",
    "2\n",
    "\n",
    "**OUTPUT**\n",
    "\n",
    "2"
   ]
  },
  {
   "cell_type": "code",
   "execution_count": 36,
   "metadata": {},
   "outputs": [
    {
     "name": "stdout",
     "output_type": "stream",
     "text": [
      "2\n"
     ]
    }
   ],
   "source": [
    "import math\n",
    "\n",
    "def catalan_number(N):\n",
    "    # Compute the binomial coefficient\n",
    "    binom = math.comb(2 * N, N)\n",
    "    # Compute the Catalan number using the formula\n",
    "    catalan = binom // (N + 1)\n",
    "    return catalan\n",
    "\n",
    "N = int(input())\n",
    "output = catalan_number(N)\n",
    "print(output)"
   ]
  },
  {
   "cell_type": "markdown",
   "metadata": {},
   "source": [
    "### **155. Save the string “WELCOMETOGUVICORPORATIONS” in a two dimensional array of size (5*5) and search for the given substring. If it exists print the start index and end index in the matrix in separate lines. If it does not exist print 0.**\n",
    "\n",
    "**Sample Testcases:**\n",
    "\n",
    "**INPUT**\n",
    "\n",
    "TIO\n",
    "\n",
    "**OUTPUT**\n",
    "\n",
    "4 0\n",
    "\n",
    "4 2"
   ]
  },
  {
   "cell_type": "code",
   "execution_count": 37,
   "metadata": {},
   "outputs": [
    {
     "name": "stdout",
     "output_type": "stream",
     "text": [
      "4 0\n",
      "4 2\n"
     ]
    }
   ],
   "source": [
    "def search_substring(matrix, substring):\n",
    "    rows = len(matrix)\n",
    "    cols = len(matrix[0])\n",
    "    len_sub = len(substring)\n",
    "\n",
    "    # Horizontal search\n",
    "    for r in range(rows):\n",
    "        for c in range(cols - len_sub + 1):\n",
    "            if ''.join(matrix[r][c:c+len_sub]) == substring:\n",
    "                return (r, c, r, c + len_sub - 1)\n",
    "\n",
    "    # Vertical search\n",
    "    for c in range(cols):\n",
    "        for r in range(rows - len_sub + 1):\n",
    "            vertical_str = ''.join(matrix[r+i][c] for i in range(len_sub))\n",
    "            if vertical_str == substring:\n",
    "                return (r, c, r + len_sub - 1, c)\n",
    "\n",
    "    # Diagonal search (Top-left to bottom-right)\n",
    "    for r in range(rows - len_sub + 1):\n",
    "        for c in range(cols - len_sub + 1):\n",
    "            diagonal_str = ''.join(matrix[r+i][c+i] for i in range(len_sub))\n",
    "            if diagonal_str == substring:\n",
    "                return (r, c, r + len_sub - 1, c + len_sub - 1)\n",
    "\n",
    "    # Diagonal search (Top-right to bottom-left)\n",
    "    for r in range(rows - len_sub + 1):\n",
    "        for c in range(len_sub - 1, cols):\n",
    "            diagonal_str = ''.join(matrix[r+i][c-i] for i in range(len_sub))\n",
    "            if diagonal_str == substring:\n",
    "                return (r, c, r + len_sub - 1, c - len_sub + 1)\n",
    "    return 0\n",
    "\n",
    "def main():\n",
    "    # Construct the 5x5 matrix from the given string\n",
    "    string = \"WELCOMETOGUVICORPORATIONS\"\n",
    "    matrix = [list(string[i:i+5]) for i in range(0, 25, 5)]\n",
    "\n",
    "    substring = input().strip()\n",
    "    result = search_substring(matrix, substring)\n",
    "    if result == 0:\n",
    "        print(0)\n",
    "    else:\n",
    "        print(f\"{result[0]} {result[1]}\")\n",
    "        print(f\"{result[2]} {result[3]}\")\n",
    "\n",
    "main()"
   ]
  },
  {
   "cell_type": "markdown",
   "metadata": {},
   "source": [
    "### **156. Given 2 strings S1 and S2. Find if String2 is substring of String1. If it is print the index of the first occurrence. else print -1.**\n",
    "\n",
    "Input Size : 1<= N <= 100000\n",
    "\n",
    "**Sample Testcases:**\n",
    "\n",
    "**INPUT**\n",
    "\n",
    "test123string\n",
    "\n",
    "123\n",
    "\n",
    "**OUTPUT**\n",
    "\n",
    "4"
   ]
  },
  {
   "cell_type": "code",
   "execution_count": 38,
   "metadata": {},
   "outputs": [
    {
     "name": "stdout",
     "output_type": "stream",
     "text": [
      "4\n"
     ]
    }
   ],
   "source": [
    "S1 = input().strip()\n",
    "S2 = input().strip()\n",
    "\n",
    "index = S1.find(S2)\n",
    "print(index)"
   ]
  },
  {
   "cell_type": "markdown",
   "metadata": {},
   "source": [
    "### **157. Given 2 strings S1 and S2,work on the strings such that both string has the same number of characters.To adjust the length reduce number of exceeding characters from longer string.**\n",
    "\n",
    "**Sample Testcase:**\n",
    "\n",
    "**INPUT**\n",
    "\n",
    "guvi\n",
    "\n",
    "geeks\n",
    "\n",
    "**OUTPUT**\n",
    "\n",
    "guvigeek"
   ]
  },
  {
   "cell_type": "code",
   "execution_count": 41,
   "metadata": {},
   "outputs": [
    {
     "name": "stdout",
     "output_type": "stream",
     "text": [
      "guvigeek\n"
     ]
    }
   ],
   "source": [
    "def adjust_and_concatenate(S1, S2):\n",
    "    # Find the minimum length between the two strings\n",
    "    min_length = min(len(S1), len(S2))\n",
    "    \n",
    "    # Adjust both strings to have the same length\n",
    "    S1 = S1[:min_length]\n",
    "    S2 = S2[:min_length]\n",
    "    \n",
    "    # Concatenate the two strings\n",
    "    result = S1 + S2\n",
    "    return result\n",
    "\n",
    "S1, S2 = input().split()\n",
    "print(adjust_and_concatenate(S1, S2))"
   ]
  },
  {
   "cell_type": "markdown",
   "metadata": {},
   "source": [
    "### **158. The longest common prefix for N strings of length at most M each is defined as a string K Such that every string has K as a prefix. You are given the task of finding the longest common prefix for N such strings.**\n",
    "\n",
    "**Constraints:**\n",
    "\n",
    "1<=N<=10000\n",
    "\n",
    "1<=M<=100\n",
    "\n",
    "**Input Description:**\n",
    "\n",
    "The first line contains a single integer N : the number of strings The next N line contains the N strings - one in each line All strings consists of only lowercase alphabets from ‘a’-’z’\n",
    "\n",
    "**Output Description:**\n",
    "\n",
    "Output a single line : the longest common prefix of the N strings . If no longest common prefix exists output “No common prefix exists”\n",
    "\n",
    "**Sample Input:**\n",
    "\n",
    "4\n",
    "\n",
    "abcdjkhkjh\n",
    "\n",
    "ahhjk\n",
    "\n",
    "abcdhjjj\n",
    "\n",
    "aa\n",
    "\n",
    "**Sample Output:**\n",
    "\n",
    "a"
   ]
  },
  {
   "cell_type": "code",
   "execution_count": 42,
   "metadata": {},
   "outputs": [
    {
     "name": "stdout",
     "output_type": "stream",
     "text": [
      "a\n"
     ]
    }
   ],
   "source": [
    "def longest_common_prefix(strings, n):\n",
    "    # Start with the first string as the initial LCP\n",
    "    lcp = strings[0]\n",
    "    \n",
    "    # Iterate through all the strings\n",
    "    for i in range(1, n):\n",
    "        # Update the LCP by comparing it with the current string\n",
    "        while not strings[i].startswith(lcp):\n",
    "            # If current string does not start with lcp, reduce the length of lcp\n",
    "            lcp = lcp[:-1]\n",
    "            # If the LCP becomes empty, no common prefix exists\n",
    "            if not lcp:\n",
    "                return \"No common prefix exists\"\n",
    "    return lcp\n",
    "\n",
    "n = int(input())\n",
    "strings = [input().strip() for _ in range(n)]\n",
    "result = longest_common_prefix(strings, n)\n",
    "print(result)"
   ]
  },
  {
   "cell_type": "markdown",
   "metadata": {},
   "source": []
  },
  {
   "cell_type": "code",
   "execution_count": null,
   "metadata": {},
   "outputs": [],
   "source": []
  },
  {
   "cell_type": "markdown",
   "metadata": {},
   "source": [
    "### **160. Given an arraylist A of string type which has name#mark1#mark2#mark3 format. Retrieve the name of the student who has scored max marks(total of three).**\n",
    "\n",
    "for eg: input: {'arun#12#12#12','deepak#13#12#12'}\n",
    "\n",
    "output: Deepak\n",
    "\n",
    "Input Size : A <= 100000\n",
    "\n",
    "**Sample Testcase:**\n",
    "\n",
    "**INPUT**\n",
    "\n",
    "arun#12#12#12\n",
    "\n",
    "deepak#13#12#12\n",
    "\n",
    "**OUTPUT**\n",
    "\n",
    "deepak"
   ]
  },
  {
   "cell_type": "code",
   "execution_count": null,
   "metadata": {},
   "outputs": [
    {
     "name": "stdout",
     "output_type": "stream",
     "text": [
      "deepak\n"
     ]
    }
   ],
   "source": [
    "def find_top_student(A):\n",
    "    # To keep track of the student with the max marks\n",
    "    max_marks = -1\n",
    "    top_student = \"\"\n",
    "    \n",
    "    # Iterate over each entry in the list A\n",
    "    for entry in A:\n",
    "        parts = entry.split('#')    # Split the entry by '#'\n",
    "        name = parts[0]     # Extract the name and marks\n",
    "        marks = list(map(int, parts[1:]))  # Convert the marks to integers\n",
    "        total_marks = sum(marks)    # Calculate total marks\n",
    "        \n",
    "        # Update the top student if this one has higher total marks\n",
    "        if total_marks > max_marks:\n",
    "            max_marks = total_marks\n",
    "            top_student = name            \n",
    "    return top_student\n",
    "\n",
    "A = list(map(str, input().split()))\n",
    "print(find_top_student(A))"
   ]
  },
  {
   "cell_type": "markdown",
   "metadata": {},
   "source": [
    "### **161. Given a string, find the length of the longest substring without repeating characters.**\n",
    "\n",
    "Input Size : |S|<=1000\n",
    "\n",
    "**Example:**\n",
    "\n",
    "**INPUT**\n",
    "\n",
    "abcabcccdd\n",
    "\n",
    "**OUTPUT**\n",
    "\n",
    "3"
   ]
  },
  {
   "cell_type": "code",
   "execution_count": 52,
   "metadata": {},
   "outputs": [
    {
     "name": "stdout",
     "output_type": "stream",
     "text": [
      "3\n"
     ]
    }
   ],
   "source": [
    "def longest_unique_substring(s):\n",
    "    char_set = set()\n",
    "    left = 0\n",
    "    max_length = 0\n",
    "\n",
    "    for right in range(len(s)):\n",
    "        while s[right] in char_set:\n",
    "            char_set.remove(s[left])\n",
    "            left += 1\n",
    "        char_set.add(s[right])\n",
    "        max_length = max(max_length, right - left + 1)\n",
    "    return max_length\n",
    "\n",
    "s = input()\n",
    "print(longest_unique_substring(s))"
   ]
  },
  {
   "cell_type": "markdown",
   "metadata": {},
   "source": [
    "### **162. Given a string S of length N, print all permutations of the string in a separate line.**\n",
    "\n",
    "Input Size : 1 <= N <= 100000\n",
    "\n",
    "**Sample Testcases:**\n",
    "\n",
    "**INPUT**\n",
    "\n",
    "123\n",
    "\n",
    "**OUTPUT**\n",
    "\n",
    "123\n",
    "\n",
    "231\n",
    "\n",
    "321\n",
    "\n",
    "213\n",
    "\n",
    "312\n",
    "\n",
    "132"
   ]
  },
  {
   "cell_type": "code",
   "execution_count": 56,
   "metadata": {},
   "outputs": [
    {
     "name": "stdout",
     "output_type": "stream",
     "text": [
      "123\n",
      "132\n",
      "213\n",
      "231\n",
      "312\n",
      "321\n"
     ]
    }
   ],
   "source": [
    "import itertools\n",
    "\n",
    "def print_permutations(s):\n",
    "    permutations = itertools.permutations(s)\n",
    "    for perm in permutations:\n",
    "        print(''.join(perm))\n",
    "\n",
    "s = input()\n",
    "print_permutations(s)"
   ]
  },
  {
   "cell_type": "markdown",
   "metadata": {},
   "source": [
    "### **163. In this task you have to find the minimal remaining string.**\n",
    "\n",
    "The minimal remaining string is as follows: \n",
    "Take a given string and find the maximal prefix which when reversed is also a suffix.\n",
    "\n",
    "Remove this prefix and suffix. What you have left now is the minimal remaining string \n",
    "\n",
    "**Input Description:**\n",
    "\n",
    "The input consists of only one line - the string to be processed\n",
    "\n",
    "**Output Description:**\n",
    "\n",
    "The output consists of only a single line - the minimal remaining string If the minimal remainging string is empty print \"Minimal string is empty\" (without quotes)\n",
    "\n",
    "**Sample Input:**\n",
    "\n",
    "abcdjklcba\n",
    "\n",
    "**Sample Output:**\n",
    "\n",
    "djkl "
   ]
  },
  {
   "cell_type": "code",
   "execution_count": 57,
   "metadata": {},
   "outputs": [
    {
     "name": "stdout",
     "output_type": "stream",
     "text": [
      "djkl\n"
     ]
    }
   ],
   "source": [
    "def find_minimal_remaining_string(s):\n",
    "    n = len(s)\n",
    "    \n",
    "    # Find the maximal prefix which when reversed is also a suffix\n",
    "    for i in range(n // 2, 0, -1):  # We start from half of the string length\n",
    "        prefix = s[:i]\n",
    "        suffix = s[-i:]\n",
    "        \n",
    "        if prefix == suffix[::-1]:  # Check if reversed prefix matches suffix\n",
    "            remaining_string = s[i:n-i]\n",
    "            if remaining_string:\n",
    "                return remaining_string\n",
    "            else:\n",
    "                return \"Minimal string is empty\"    \n",
    "    return \"Minimal string is empty\"\n",
    "\n",
    "s = input().strip()\n",
    "print(find_minimal_remaining_string(s))"
   ]
  },
  {
   "cell_type": "markdown",
   "metadata": {},
   "source": [
    "### **164. Given a string S of length N, find if it forms a Palindrome after deleting 1 character.**\n",
    "\n",
    "Input Size : 1 <= N <= 100000\n",
    "\n",
    "**Sample Testcases:**\n",
    "\n",
    "**INPUT**\n",
    "\n",
    "abxba\n",
    "\n",
    "**OUTPUT**\n",
    "\n",
    "YES"
   ]
  },
  {
   "cell_type": "code",
   "execution_count": 58,
   "metadata": {},
   "outputs": [
    {
     "name": "stdout",
     "output_type": "stream",
     "text": [
      "YES\n"
     ]
    }
   ],
   "source": [
    "def is_palindrome_range(s, left, right):\n",
    "    while left < right:\n",
    "        if s[left] != s[right]:\n",
    "            return False\n",
    "        left += 1\n",
    "        right -= 1\n",
    "    return True\n",
    "\n",
    "def can_form_palindrome_by_deleting_one(s):\n",
    "    left, right = 0, len(s) - 1\n",
    "    \n",
    "    while left < right:\n",
    "        if s[left] == s[right]:\n",
    "            left += 1\n",
    "            right -= 1\n",
    "        else:\n",
    "            return is_palindrome_range(s, left + 1, right) or is_palindrome_range(s, left, right - 1)\n",
    "    return True\n",
    "\n",
    "s = input()\n",
    "output = \"YES\" if can_form_palindrome_by_deleting_one(s) else \"NO\"\n",
    "print(output)"
   ]
  },
  {
   "cell_type": "code",
   "execution_count": 59,
   "metadata": {},
   "outputs": [
    {
     "name": "stdout",
     "output_type": "stream",
     "text": [
      "CHE\n"
     ]
    }
   ],
   "source": [
    "def longest_common_subarray(S, T):\n",
    "    N = len(S)\n",
    "    M = len(T)\n",
    "    \n",
    "    dp = [[0] * (M + 1) for _ in range(N + 1)]\n",
    "    max_len = 0\n",
    "    end_index_S = 0\n",
    "    \n",
    "    # Fill the DP table\n",
    "    for i in range(1, N + 1):\n",
    "        for j in range(1, M + 1):\n",
    "            if S[i - 1] == T[j - 1]:\n",
    "                dp[i][j] = dp[i - 1][j - 1] + 1\n",
    "                if dp[i][j] > max_len:\n",
    "                    max_len = dp[i][j]\n",
    "                    end_index_S = i\n",
    "            else:\n",
    "                dp[i][j] = 0\n",
    "    \n",
    "    # If no common subarray is found\n",
    "    if max_len == 0:\n",
    "        return \"\"\n",
    "    return S[end_index_S - max_len:end_index_S]\n",
    "\n",
    "S = input().strip()\n",
    "T = input().strip()\n",
    "print(longest_common_subarray(S, T))"
   ]
  },
  {
   "cell_type": "markdown",
   "metadata": {},
   "source": [
    "### **166. Given a string of length N, find the longest palindromic substring.**\n",
    "\n",
    "Input Size : 1 <= N <= 1000\n",
    "\n",
    "**Sample Testcase:**\n",
    "\n",
    "**INPUT**\n",
    "\n",
    "DIEHEIDI\n",
    "\n",
    "**OUTPUT**\n",
    "\n",
    "DIEHEID"
   ]
  },
  {
   "cell_type": "code",
   "execution_count": 60,
   "metadata": {},
   "outputs": [
    {
     "name": "stdout",
     "output_type": "stream",
     "text": [
      "DIEHEID\n"
     ]
    }
   ],
   "source": [
    "def longest_palindromic_substring(s):\n",
    "    def expand_around_center(left, right):\n",
    "        while left >= 0 and right < len(s) and s[left] == s[right]:\n",
    "            left -= 1\n",
    "            right += 1\n",
    "        return s[left+1:right]\n",
    "    \n",
    "    longest = \"\"\n",
    "    for i in range(len(s)):\n",
    "        odd_palindrome = expand_around_center(i, i)\n",
    "        if len(odd_palindrome) > len(longest):\n",
    "            longest = odd_palindrome\n",
    "        \n",
    "        even_palindrome = expand_around_center(i, i+1)\n",
    "        if len(even_palindrome) > len(longest):\n",
    "            longest = even_palindrome    \n",
    "    return longest\n",
    "\n",
    "s = input().strip()\n",
    "print(longest_palindromic_substring(s))"
   ]
  },
  {
   "cell_type": "markdown",
   "metadata": {},
   "source": [
    "### **167. Given a number N and N strings of length atmost M, print the longest common prefix.**\n",
    "\n",
    "Input Size : 1<=N, M<=100000\n",
    "\n",
    "**Example:**\n",
    "\n",
    "**INPUT**\n",
    "\n",
    "2\n",
    "\n",
    "Vishal\n",
    "\n",
    "Vidharba\n",
    "\n",
    "**OUTPUT**\n",
    "\n",
    "Vi"
   ]
  },
  {
   "cell_type": "code",
   "execution_count": 61,
   "metadata": {},
   "outputs": [
    {
     "name": "stdout",
     "output_type": "stream",
     "text": [
      "Vi\n"
     ]
    }
   ],
   "source": [
    "def longest_common_prefix(strings):\n",
    "    prefix = strings[0]\n",
    "    for string in strings[1:]:\n",
    "        temp_prefix = []\n",
    "        for i in range(min(len(prefix), len(string))):\n",
    "            if prefix[i] == string[i]:\n",
    "                temp_prefix.append(prefix[i])\n",
    "            else:\n",
    "                break\n",
    "        prefix = ''.join(temp_prefix)\n",
    "        if not prefix:\n",
    "            return \"\"    \n",
    "    return prefix\n",
    "\n",
    "N = int(input())\n",
    "strings = [input().strip() for _ in range(N)]\n",
    "print(longest_common_prefix(strings))"
   ]
  },
  {
   "cell_type": "markdown",
   "metadata": {},
   "source": [
    "### **168. You are given a string ‘s’.You are required to print the longest substring possible which has exactly k unique characters.**\n",
    "\n",
    "**Input Description:**\n",
    "\n",
    "You are given a string ‘s’. Next line contains an integer k.\n",
    "\n",
    "**Output Description:**\n",
    "\n",
    "Print the length of string if possible else print -1\n",
    "\n",
    "**Sample Input:**\n",
    "\n",
    "aabbggh\n",
    "\n",
    "3\n",
    "\n",
    "**Sample Output:**\n",
    "\n",
    "6"
   ]
  },
  {
   "cell_type": "code",
   "execution_count": 62,
   "metadata": {},
   "outputs": [
    {
     "name": "stdout",
     "output_type": "stream",
     "text": [
      "6\n"
     ]
    }
   ],
   "source": [
    "def longest_substring_with_k_unique(s, k):\n",
    "    n = len(s)\n",
    "    if n == 0 or k == 0:\n",
    "        return -1\n",
    "\n",
    "    char_count = {}\n",
    "    left = 0\n",
    "    max_len = -1\n",
    "    \n",
    "    for right in range(n):\n",
    "        char_count[s[right]] = char_count.get(s[right], 0) + 1\n",
    "        while len(char_count) > k:\n",
    "            char_count[s[left]] -= 1\n",
    "            if char_count[s[left]] == 0:\n",
    "                del char_count[s[left]]\n",
    "            left += 1\n",
    "\n",
    "        if len(char_count) == k:\n",
    "            max_len = max(max_len, right - left + 1)    \n",
    "    return max_len\n",
    "\n",
    "s = input().strip()\n",
    "k = int(input().strip())\n",
    "result = longest_substring_with_k_unique(s, k)\n",
    "print(result)"
   ]
  },
  {
   "cell_type": "markdown",
   "metadata": {},
   "source": [
    "### **169. Given a string S of length N, rearrange the letters in the string to form a new string X which is lexicographically greater than current string(If many answers are possible, output lexicographically smallest one). If no string exists print '-1'.**\n",
    "\n",
    "Input Size : 1 <= N <= 100000\n",
    "\n",
    "**Sample Testcase:**\n",
    "\n",
    "**INPUT**\n",
    "\n",
    "hello\n",
    "\n",
    "**OUTPUT**\n",
    "\n",
    "helol"
   ]
  },
  {
   "cell_type": "code",
   "execution_count": 63,
   "metadata": {},
   "outputs": [
    {
     "name": "stdout",
     "output_type": "stream",
     "text": [
      "helol\n"
     ]
    }
   ],
   "source": [
    "def next_lexicographical_permutation(S):\n",
    "    S = list(S)\n",
    "    N = len(S)\n",
    "    \n",
    "    i = N - 2\n",
    "    while i >= 0 and S[i] >= S[i + 1]:\n",
    "        i -= 1\n",
    "\n",
    "    if i == -1:\n",
    "        return \"-1\"\n",
    "    \n",
    "    j = N - 1\n",
    "    while S[j] <= S[i]:\n",
    "        j -= 1\n",
    "    \n",
    "    S[i], S[j] = S[j], S[i]\n",
    "    S = S[:i + 1] + S[i + 1:][::-1]\n",
    "    return ''.join(S)\n",
    "\n",
    "S = input().strip()\n",
    "result = next_lexicographical_permutation(S)\n",
    "print(result)"
   ]
  },
  {
   "cell_type": "markdown",
   "metadata": {},
   "source": [
    "### **170. Given a string S, check whether the given string is an anagram of the string “dhoni”. Anagram of a given string is a permutation of the set of characters present in the string. For example for the string “baba” aabb and baab are anagrams while aaab and bacd are not.**\n",
    "\n",
    "Input Size : |S|<=100000\n",
    "\n",
    "**Example:**\n",
    "\n",
    "**INPUT**\n",
    "\n",
    "inohd\n",
    "\n",
    "**OUTPUT**\n",
    "\n",
    "yes"
   ]
  },
  {
   "cell_type": "code",
   "execution_count": 64,
   "metadata": {},
   "outputs": [
    {
     "name": "stdout",
     "output_type": "stream",
     "text": [
      "yes\n"
     ]
    }
   ],
   "source": [
    "from collections import Counter\n",
    "\n",
    "def is_anagram(S):\n",
    "    target = \"dhoni\"\n",
    "    if len(S) != len(target):\n",
    "        return \"no\"\n",
    "    \n",
    "    # Use Counter to compare frequencies of characters\n",
    "    if Counter(S) == Counter(target):\n",
    "        return \"yes\"\n",
    "    else:\n",
    "        return \"no\"\n",
    "\n",
    "S = input().strip()\n",
    "print(is_anagram(S))"
   ]
  },
  {
   "cell_type": "markdown",
   "metadata": {},
   "source": [
    "### **171. Given 2 numbers N,M corresponding to the number of 0 and 1 respectively, print anarrangement of cards which satisfies the following conditions:**\n",
    "\n",
    "1)There wouldn't be a pair of any side-adjacent cards with zeroes in a row.\n",
    "\n",
    "2)There wouldn't be a group of three consecutive cards containing numbers one.\n",
    "\n",
    "If multiple solutions are possible print the first solution.\n",
    "\n",
    "Print '-1' if it is impossible.\n",
    "\n",
    "Input Size : 1<=N<=100000\n",
    "\n",
    "**Example:**\n",
    "\n",
    "**INPUT**\n",
    "\n",
    "1 2\n",
    "\n",
    "**OUTPUT**\n",
    "\n",
    "101"
   ]
  },
  {
   "cell_type": "code",
   "execution_count": null,
   "metadata": {},
   "outputs": [
    {
     "name": "stdout",
     "output_type": "stream",
     "text": [
      "101\n"
     ]
    }
   ],
   "source": [
    "def arrange_cards(N, M):\n",
    "    if M > N + 2:\n",
    "        return \"-1\"\n",
    "    \n",
    "    result = []\n",
    "    while N > 0 or M > 0:\n",
    "        if M > N:\n",
    "            if M > 0:\n",
    "                result.append('1')\n",
    "                M -= 1\n",
    "            if N > 0:\n",
    "                result.append('0')\n",
    "                N -= 1\n",
    "        elif M <= N:\n",
    "            if M > 0:\n",
    "                result.append('1')\n",
    "                M -= 1\n",
    "            if N > 0:\n",
    "                result.append('0')\n",
    "                N -= 1            \n",
    "    return ''.join(result)\n",
    "\n",
    "N, M = map(int, input().split())\n",
    "print(arrange_cards(N, M))"
   ]
  },
  {
   "cell_type": "code",
   "execution_count": 69,
   "metadata": {},
   "outputs": [
    {
     "name": "stdout",
     "output_type": "stream",
     "text": [
      "110\n"
     ]
    }
   ],
   "source": [
    "def arrange_cards(N, M):\n",
    "    if M > 2 * N + 2:\n",
    "        return \"-1\"\n",
    "    \n",
    "    result = []\n",
    "    while N > 0 or M > 0:\n",
    "        if M > N:\n",
    "            if M > 0:\n",
    "                result.append('1')\n",
    "                M -= 1\n",
    "            if M > 0:\n",
    "                result.append('1')\n",
    "                M -= 1\n",
    "            if N > 0:\n",
    "                result.append('0')\n",
    "                N -= 1\n",
    "        else:\n",
    "            if M > 0:\n",
    "                result.append('1')\n",
    "                M -= 1\n",
    "            if N > 0:\n",
    "                result.append('0')\n",
    "                N -= 1            \n",
    "    return ''.join(result)\n",
    "\n",
    "N, M = map(int, input().split())\n",
    "print(arrange_cards(N, M))"
   ]
  },
  {
   "cell_type": "markdown",
   "metadata": {},
   "source": [
    "### **173. You are given a number “N” and string ‘S’ of digits denoting a positive integer [ N < sizeof(S) ] , build the lowest number possible by removing N digits from S, without changing their order.**\n",
    "\n",
    "**Input Description:**\n",
    "\n",
    "The first line contains a positive integer N. The second line contains a \n",
    "string of digits denoting a positive integer S.\n",
    "\n",
    "**Output Description:**\n",
    "\n",
    "Print the lowest number that is formed\n",
    "\n",
    "**Sample Input:**\n",
    "\n",
    "4\n",
    "\n",
    "1234567\n",
    "\n",
    "**Sample Output:**\n",
    "\n",
    "123"
   ]
  },
  {
   "cell_type": "code",
   "execution_count": 70,
   "metadata": {},
   "outputs": [
    {
     "name": "stdout",
     "output_type": "stream",
     "text": [
      "123\n"
     ]
    }
   ],
   "source": [
    "def build_lowest_number(N, S):\n",
    "    stack = []\n",
    "    digits_to_remove = N\n",
    "    \n",
    "    for digit in S:\n",
    "        while stack and digits_to_remove > 0 and stack[-1] > digit:\n",
    "            stack.pop()\n",
    "            digits_to_remove -= 1\n",
    "        stack.append(digit)\n",
    "    \n",
    "    stack = stack[:-digits_to_remove]\n",
    "    return ''.join(stack)\n",
    "\n",
    "N = int(input())\n",
    "S = input()\n",
    "print(build_lowest_number(N, S))"
   ]
  },
  {
   "cell_type": "markdown",
   "metadata": {},
   "source": [
    "### **173. There is a line of 2N counters with no spaces between adjacent counters. The counters alternate between black and white: BWBW ... B W. The objective is to rearrange the counters so that all the white counters are before all the black ones with no gaps between the counters: W W ... WBB ... B. The counters are to be moved in pairs, On each move, a pair of adjacent counters can be moved, without changing their order, into a vacant location(either before everything or after everything). What is the minimum number of moves required to solve this problem?**\n",
    "\n",
    "Input Size : 3<=N<=1000\n",
    "\n",
    "**Example:**\n",
    "\n",
    "**INPUT**\n",
    "\n",
    "3\n",
    "\n",
    "**OUTPUT**\n",
    "\n",
    "3"
   ]
  },
  {
   "cell_type": "code",
   "execution_count": 71,
   "metadata": {},
   "outputs": [
    {
     "name": "stdout",
     "output_type": "stream",
     "text": [
      "3\n"
     ]
    }
   ],
   "source": [
    "def min_moves_to_rearrange_counters(N):\n",
    "    return N\n",
    "\n",
    "N = int(input())\n",
    "print(min_moves_to_rearrange_counters(N))"
   ]
  },
  {
   "cell_type": "markdown",
   "metadata": {},
   "source": [
    "### **174. Given three numbers L,R,N, print the count of numbers with occurences of the number N in [L,R].**\n",
    "\n",
    "Input Size : 1 <= L,R,N <= 100000\n",
    "\n",
    "**Sample Testcase:**\n",
    "\n",
    "**INPUT**\n",
    "\n",
    "10 130 11\n",
    "\n",
    "**OUTPUT**\n",
    "\n",
    "11\n",
    "\n",
    "Explanation: 11,110,111,112....119"
   ]
  },
  {
   "cell_type": "code",
   "execution_count": 72,
   "metadata": {},
   "outputs": [
    {
     "name": "stdout",
     "output_type": "stream",
     "text": [
      "11\n"
     ]
    }
   ],
   "source": [
    "def count_numbers_with_digit(L, R, N):\n",
    "    digit = str(N)\n",
    "    count = 0\n",
    "    for num in range(L, R + 1):\n",
    "        if digit in str(num):\n",
    "            count += 1    \n",
    "    return count\n",
    "\n",
    "L, R, N = map(int, input().split())\n",
    "result = count_numbers_with_digit(L, R, N)\n",
    "print(result)"
   ]
  },
  {
   "cell_type": "markdown",
   "metadata": {},
   "source": [
    "### **175. Given a string S of length N,rearrange the letters in the string to form a new string X which is lexicographically greater than current string(If many answers are possible,output lexicographically smallest one).If no string exists print '-1'.Input Size: 1<=N<=100000.**\n",
    "\n",
    "**Input Description:**\n",
    "\n",
    "You are given a string S of length N\n",
    "\n",
    "**Output Description:**\n",
    "\n",
    "A new string X which is lexicographically greater than current string\n",
    "\n",
    "**Sample Input:**\n",
    "\n",
    "abcd\n",
    "\n",
    "**Sample Output:**\n",
    "\n",
    "abdc"
   ]
  },
  {
   "cell_type": "code",
   "execution_count": 73,
   "metadata": {},
   "outputs": [
    {
     "name": "stdout",
     "output_type": "stream",
     "text": [
      "abdc\n"
     ]
    }
   ],
   "source": [
    "def next_lexicographical_string(S):\n",
    "    # Convert string to a list to allow modification\n",
    "    S = list(S)\n",
    "    N = len(S)\n",
    "\n",
    "    # Find the rightmost index `i` where S[i] < S[i + 1]\n",
    "    i = N - 2\n",
    "    while i >= 0 and S[i] >= S[i + 1]:\n",
    "        i -= 1\n",
    "\n",
    "    # If no such index exists, the string is the largest permutation\n",
    "    if i == -1:\n",
    "        return \"-1\"\n",
    "\n",
    "    # Find the smallest character to the right of `i` that is larger than S[i]\n",
    "    j = N - 1\n",
    "    while S[j] <= S[i]:\n",
    "        j -= 1\n",
    "\n",
    "    # Swap the characters at `i` and `j`\n",
    "    S[i], S[j] = S[j], S[i]\n",
    "\n",
    "    # Reverse the substring to the right of `i`\n",
    "    S = S[:i + 1] + S[i + 1:][::-1]\n",
    "    return \"\".join(S)\n",
    "\n",
    "S = input().strip()\n",
    "print(next_lexicographical_string(S))"
   ]
  },
  {
   "cell_type": "markdown",
   "metadata": {},
   "source": [
    "### **176. Kedar has ordinary pan scales and several weights of an equal mass. Kedar has already put some weights on the scales, while other weights are untouched. Kedar is now wondering whether it is possible to put all the remaining weights on the scales so that the scales were in equilibrium. The scales is in equilibrium if the total sum of weights on the left pan is equal to the total sum of weights on the right pan. The first line has a non-empty sequence of characters describing the scales. In this sequence, an uppercase English letter indicates a weight, and the symbol '|' indicates the delimiter (the character occurs in the sequence exactly once). All weights that are recorded in the sequence before the delimiter are initially on the left pan of the scale. All weights that are recorded in the sequence after the delimiter are initially on the right pan of the scale. The second line contains a non-empty sequence containing uppercase English letters. Each letter indicates a weight which is not used yet. It is guaranteed that all the English letters in the input data are different. It is guaranteed that the input does not contain any extra characters.**\n",
    "\n",
    "**Example:**\n",
    "\n",
    "**INPUT**\n",
    "\n",
    "AC|T\n",
    "\n",
    "L\n",
    "\n",
    "**OUTPUT**\n",
    "\n",
    "AC|TL"
   ]
  },
  {
   "cell_type": "code",
   "execution_count": 75,
   "metadata": {},
   "outputs": [
    {
     "name": "stdout",
     "output_type": "stream",
     "text": [
      "AC|TL\n"
     ]
    }
   ],
   "source": [
    "def balance_scale(scale, remaining_weights):\n",
    "    left_pan, right_pan = scale.split('|')\n",
    "    left_count = len(left_pan)\n",
    "    right_count = len(right_pan)\n",
    "    \n",
    "    remaining_count = len(remaining_weights)\n",
    "    if left_count < right_count:\n",
    "        left_pan += remaining_weights[:right_count - left_count]\n",
    "        remaining_weights = remaining_weights[right_count - left_count:]\n",
    "    if left_count > right_count:\n",
    "        right_pan += remaining_weights[:left_count - right_count]\n",
    "        remaining_weights = remaining_weights[left_count - right_count:]\n",
    "    right_pan += remaining_weights\n",
    "    return left_pan + '|' + right_pan\n",
    "\n",
    "scale = input().strip()\n",
    "remaining_weights = input().strip()\n",
    "balanced_scale = balance_scale(scale, remaining_weights)\n",
    "print(balanced_scale)"
   ]
  },
  {
   "cell_type": "markdown",
   "metadata": {},
   "source": [
    "### **177. Find the length of remaining string from the given string after removing the longest palindrome from it.**\n",
    "\n",
    "Input Size : |s|<=1000\n",
    "\n",
    "**Example:**\n",
    "\n",
    "**INPUT**\n",
    "\n",
    "abbac\n",
    "\n",
    "**OUTPUT**\n",
    "\n",
    "1"
   ]
  },
  {
   "cell_type": "code",
   "execution_count": 76,
   "metadata": {},
   "outputs": [
    {
     "name": "stdout",
     "output_type": "stream",
     "text": [
      "1\n"
     ]
    }
   ],
   "source": [
    "def longest_palindromic_substring(s):\n",
    "    n = len(s)\n",
    "    if n == 0:\n",
    "        return \"\"\n",
    "    \n",
    "    # Initialize DP table\n",
    "    dp = [[False] * n for _ in range(n)]\n",
    "    start, max_length = 0, 1  # Start index and length of LPS\n",
    "\n",
    "    # Every single character is a palindrome\n",
    "    for i in range(n):\n",
    "        dp[i][i] = True\n",
    "\n",
    "    # Check for two-character palindromes\n",
    "    for i in range(n - 1):\n",
    "        if s[i] == s[i + 1]:\n",
    "            dp[i][i + 1] = True\n",
    "            start = i\n",
    "            max_length = 2\n",
    "\n",
    "    # Check for longer palindromes\n",
    "    for length in range(3, n + 1):  # Length of the substring\n",
    "        for i in range(n - length + 1):\n",
    "            j = i + length - 1  # End index of the substring\n",
    "            if s[i] == s[j] and dp[i + 1][j - 1]:\n",
    "                dp[i][j] = True\n",
    "                start = i\n",
    "                max_length = length\n",
    "    return s[start:start + max_length]\n",
    "\n",
    "def remaining_string_length(s):\n",
    "    lps = longest_palindromic_substring(s)\n",
    "    return len(s) - len(lps)\n",
    "\n",
    "s = input().strip()\n",
    "print(remaining_string_length(s))"
   ]
  },
  {
   "cell_type": "markdown",
   "metadata": {},
   "source": [
    "### **178. You are provided with a given string ’s’.You will be given direction and magnitude so that you can rotate the string. You have to keep the track of first character after each rotation. Make a string out of it this first character and name it as s2 now check whether the s2 is anagram of original string ‘s’. For more better understanding go through example.**\n",
    "\n",
    "**Input Description:**\n",
    "\n",
    "The first line contains the original string s. The second line contains a single integer q. The i' th of the next q lines contains character d[i] denoting direction and integer r[i] denoting the magnitude.\n",
    "\n",
    "**Output Description:**\n",
    "\n",
    "Print yes if ‘s2’ is anagram of s1. and no otherwise\n",
    "\n",
    "**Sample Input:**\n",
    "\n",
    "carrace\n",
    " \n",
    " L 2\n",
    " R 2\n",
    " L 3\n",
    "\n",
    "**Sample Output:**\n",
    "\n",
    "No"
   ]
  },
  {
   "cell_type": "code",
   "execution_count": null,
   "metadata": {},
   "outputs": [],
   "source": []
  },
  {
   "cell_type": "markdown",
   "metadata": {},
   "source": [
    "### **179. At a certain laboratory results of secret research are thoroughly encrypted. A result of a single experiment is stored as an information of its completion: ‘positive result’, ‘negative result’, ‘experiment failed’ or ‘experiment not completed’ The encrypted result constitutes a string of digits S , which may take one of the following forms:**\n",
    "\n",
    "positive result S = 1 or S = 4 or S = 78\n",
    "negative result S = S 35\n",
    "experiment failed S = 9 S 4\n",
    "experiment not completed S = 190 S\n",
    "(A sample result S35 means that if we add digits 35 from the right hand side to a digit sequencethen we shall get the digit sequence corresponding to a failed experiment) You are to write a program which decrypts given sequences of digits.\n",
    "\n",
    "**Input:**\n",
    "\n",
    "A integer n stating the number of encrypted results and then consecutive n lines, each containing a sequence of digits given as ASCII strings.\n",
    "\n",
    "**Output:**\n",
    "\n",
    "For each analysed sequence of digits the following lines should be sent to output (in separate lines):\n",
    "+ for a positive result\n",
    "- for a negative result\n",
    "* for a failed experiment\n",
    "? for a not completed experiment\n",
    "In case the analysed string does not determine the experiment result, a first match from the above list should be outputted.\n",
    "\n",
    "**Sample Testcase:**\n",
    "\n",
    "**INPUT**\n",
    "\n",
    "4\n",
    "\n",
    "78 7835 19078 944\n",
    "\n",
    "**OUTPUT**\n",
    "\n",
    "+\n",
    "\n",
    "-\n",
    "\n",
    "?\n",
    "\n",
    "*"
   ]
  },
  {
   "cell_type": "code",
   "execution_count": 79,
   "metadata": {},
   "outputs": [
    {
     "name": "stdout",
     "output_type": "stream",
     "text": [
      "+\n",
      "-\n",
      "?\n",
      "*\n"
     ]
    }
   ],
   "source": [
    "def decrypt_results(sequences):\n",
    "    results = []\n",
    "    for s in sequences:\n",
    "        if s == \"1\" or s == \"4\" or s == \"78\":\n",
    "            results.append(\"+\")\n",
    "        elif s.endswith(\"35\"):\n",
    "            results.append(\"-\")\n",
    "        elif s.startswith(\"9\") and s.endswith(\"4\"):\n",
    "            results.append(\"*\")\n",
    "        elif s.startswith(\"190\"):\n",
    "            results.append(\"?\")\n",
    "        else:\n",
    "            results.append(\"*\")\n",
    "    return results\n",
    "\n",
    "n = int(input())\n",
    "sequences = input().strip().split()\n",
    "results = decrypt_results(sequences)\n",
    "print(\"\\n\".join(results))"
   ]
  },
  {
   "cell_type": "markdown",
   "metadata": {},
   "source": [
    "### **180. You are given a long string without spaces.Your task is to place the vowels in ascending order. Then print the resulting string.**\n",
    "\n",
    "**Input Description:**\n",
    "\n",
    "You are given a string ‘s’\n",
    "\n",
    "**Output Description:**\n",
    "\n",
    "Print the obtained string\n",
    "\n",
    "**Sample Input:**\n",
    "\n",
    "ebcda\n",
    "\n",
    "**Sample Output:**\n",
    "\n",
    "abcde"
   ]
  },
  {
   "cell_type": "code",
   "execution_count": null,
   "metadata": {},
   "outputs": [
    {
     "name": "stdout",
     "output_type": "stream",
     "text": [
      "abcde\n"
     ]
    }
   ],
   "source": [
    "def rearrange_vowels(s):\n",
    "    vowels = \"aeiou\"\n",
    "    sorted_vowels = sorted([char for char in s if char in vowels])  # Extract vowels from the string and sort them\n",
    "    vowel_iter = iter(sorted_vowels)    # Iterator for sorted vowels\n",
    "    \n",
    "    # Replace vowels in the string with sorted ones\n",
    "    result = ''.join(next(vowel_iter) if char in vowels else char for char in s)    \n",
    "    return result\n",
    "\n",
    "s = input().strip()\n",
    "print(rearrange_vowels(s))"
   ]
  },
  {
   "cell_type": "markdown",
   "metadata": {},
   "source": [
    "### **181. Given 2 strings X and Y convert X to Y as cheaply as possible. Let the cost of insertion, deletion and updation be 1. Print the minimum cost.**\n",
    "\n",
    "Input Size : 1<= N<=1000\n",
    "\n",
    "**Example:**\n",
    "\n",
    "**INPUT**\n",
    "\n",
    "codekata code\n",
    "\n",
    "**OUTPUT**\n",
    "\n",
    "4"
   ]
  },
  {
   "cell_type": "code",
   "execution_count": 1,
   "metadata": {},
   "outputs": [
    {
     "name": "stdout",
     "output_type": "stream",
     "text": [
      "4\n"
     ]
    }
   ],
   "source": [
    "def min_cost_to_convert(X, Y):\n",
    "    m, n = len(X), len(Y)\n",
    "    \n",
    "    # Initialize the DP table\n",
    "    dp = [[0] * (n + 1) for _ in range(m + 1)]\n",
    "    \n",
    "    # Fill the base cases\n",
    "    for i in range(m + 1):\n",
    "        dp[i][0] = i  # Cost of deletions\n",
    "    for j in range(n + 1):\n",
    "        dp[0][j] = j  # Cost of insertions\n",
    "    \n",
    "    # Fill the DP table\n",
    "    for i in range(1, m + 1):\n",
    "        for j in range(1, n + 1):\n",
    "            if X[i - 1] == Y[j - 1]:\n",
    "                dp[i][j] = dp[i - 1][j - 1]  # No cost\n",
    "            else:\n",
    "                dp[i][j] = 1 + min(dp[i - 1][j],  # Deletion\n",
    "                                   dp[i][j - 1],  # Insertion\n",
    "                                   dp[i - 1][j - 1])  # Update\n",
    "    return dp[m][n]  # The final result is the cost to convert X to Y\n",
    "\n",
    "X = input()\n",
    "Y = input()\n",
    "print(min_cost_to_convert(X, Y))"
   ]
  },
  {
   "cell_type": "markdown",
   "metadata": {},
   "source": [
    "### **182. You are given a string ‘s’. You have to tell whether the string can be arranged in last to first order. A last to first order is order in which if word 1 ends in say(char ‘a’) then the other word must start in char ‘a’.**\n",
    "\n",
    "**Input Description:**\n",
    "\n",
    "You are given a string ‘s’.\n",
    "\n",
    "**Output Description:**\n",
    "\n",
    "Print ‘1’ if string can be arranged in last to first sequence and\n",
    "\n",
    "**Sample Input:**\n",
    "\n",
    "Loan avail\n",
    "\n",
    "**Sample Output:**\n",
    "\n",
    "1"
   ]
  },
  {
   "cell_type": "code",
   "execution_count": 5,
   "metadata": {},
   "outputs": [
    {
     "name": "stdout",
     "output_type": "stream",
     "text": [
      "1\n"
     ]
    }
   ],
   "source": [
    "def can_be_arranged_last_to_first(s):\n",
    "    words = s.split()\n",
    "    \n",
    "    # Check consecutive words\n",
    "    for i in range(len(words) - 1):\n",
    "        if words[i][-1].lower() != words[i + 1][0].lower():\n",
    "            return 1\n",
    "    return 0\n",
    "\n",
    "s = input()\n",
    "print(can_be_arranged_last_to_first(s))"
   ]
  },
  {
   "cell_type": "markdown",
   "metadata": {},
   "source": [
    "### **183. Chan’s girlfriend's birthday is near, so he wants to surprise her by making a special cake for her. Chan knows that his girlfriend likes cherries on the cake, so he puts cherries on the top of the cake, but he was not satisfied. Therefore, he decided to replace some of the cherries to make a beautiful pattern. However, Chan has a lot of other work to do so he decided to ask for your help. The cherries are of two colors red and green. Now Chan wants the cherries to be placed in such a way that each cherry of one color must be adjacent to only cherries of the other color, two cherries are adjacent if they share a side. Now Chan has asked for your help in making that pattern on the cake.You can replace any cherry of given color with the other color. But there is a cost for each replacement: if you replace a red cherry with a green one, the cost is 5 units and if you replace a green cherry with a red one, the cost is 3 units. Help your friend Chan by making the cake special with minimum cost.If there is no need of any changes print '0'(ie. minimum cost is zero).**\n",
    "\n",
    "Input Size : N<=1000, M<=1000\n",
    "\n",
    "**Example:**\n",
    "\n",
    "**INPUT**\n",
    "\n",
    "2 3\n",
    "\n",
    "RRG\n",
    "\n",
    "GGR\n",
    "\n",
    "**OUTPUT**\n",
    "\n",
    "8"
   ]
  },
  {
   "cell_type": "code",
   "execution_count": 6,
   "metadata": {},
   "outputs": [
    {
     "name": "stdout",
     "output_type": "stream",
     "text": [
      "8\n"
     ]
    }
   ],
   "source": [
    "def min_cost_to_pattern(n, m, grid):\n",
    "    cost_pattern1 = 0\n",
    "    cost_pattern2 = 0\n",
    "    for i in range(n):\n",
    "        for j in range(m):\n",
    "            current_color = grid[i][j]\n",
    "            if (i + j) % 2 == 0:\n",
    "                expected1 = 'R'\n",
    "                expected2 = 'G'\n",
    "            else:\n",
    "                expected1 = 'G'\n",
    "                expected2 = 'R'\n",
    "            if current_color != expected1:\n",
    "                if current_color == 'R' and expected1 == 'G':\n",
    "                    cost_pattern1 += 5\n",
    "                else:\n",
    "                    cost_pattern1 += 3\n",
    "            if current_color != expected2:\n",
    "                if current_color == 'R' and expected2 == 'G':\n",
    "                    cost_pattern2 += 5\n",
    "                else:\n",
    "                    cost_pattern2 += 3\n",
    "    return min(cost_pattern1, cost_pattern2)\n",
    "\n",
    "n, m = map(int, input().split())\n",
    "grid = [input().strip() for _ in range(n)]\n",
    "print(min_cost_to_pattern(n, m, grid))"
   ]
  },
  {
   "cell_type": "markdown",
   "metadata": {},
   "source": [
    "### **184. Dhoni plays his favorite game 'Peace Lightning'. Now he is flying a bomber on a very specific map. Formally, map is a checkered field of size 1 × n, the cells of which are numbered from 1 to n, in each cell there can be one or several tanks. Dhoni doesn't know the number of tanks and their positions, because he flies very high, but he can drop a bomb in any cell. All tanks in this cell will be damaged. If a tank takes damage for the first time, it instantly moves to one of the neighboring cells (a tank in the cell n can only move to the cell n - 1, a tank in the cell 1 can only move to the cell 2). If a tank takes damage for the second time, it's counted as destroyed and never moves again. The tanks move only when they are damaged for the first time, they do not move by themselves. Help Dhoni to destroy all tanks using as few bombs as possible.**\n",
    "\n",
    "Input Size : N<=1000000\n",
    "\n",
    "**Example:**\n",
    "\n",
    "**INPUT**\n",
    "\n",
    "2\n",
    "\n",
    "**OUTPUT**\n",
    "\n",
    "3\n",
    "\n",
    "2 1 2"
   ]
  },
  {
   "cell_type": "code",
   "execution_count": 7,
   "metadata": {},
   "outputs": [
    {
     "name": "stdout",
     "output_type": "stream",
     "text": [
      "3\n",
      "2 1 2\n"
     ]
    }
   ],
   "source": [
    "def destroy_tanks(n):\n",
    "    bombs = []\n",
    "    for i in range(2, n + 1, 2):\n",
    "        bombs.append(i)\n",
    "    \n",
    "    for i in range(1, n + 1, 2):\n",
    "        bombs.append(i)\n",
    "    \n",
    "    for i in range(2, n + 1, 2):\n",
    "        bombs.append(i)\n",
    "    print(len(bombs))\n",
    "    print(*bombs)\n",
    "\n",
    "n = int(input())\n",
    "destroy_tanks(n)"
   ]
  },
  {
   "cell_type": "markdown",
   "metadata": {},
   "source": [
    "### **185. Given a string S consisting of lowercase latin letters, arrange all its letters in lexographical order using Counting Sort.**\n",
    "\n",
    "**Input Description:**\n",
    "\n",
    "First Line contains positive integer N denoting the length of string.The second line of input contains the string S.\n",
    "\n",
    "**Output Description:**\n",
    "\n",
    "Print the sorted string.\n",
    "\n",
    "**Sample Input:**\n",
    "\n",
    "5\n",
    "\n",
    "edsab\n",
    "\n",
    "**Sample Output:**\n",
    "\n",
    "abdes"
   ]
  },
  {
   "cell_type": "code",
   "execution_count": 9,
   "metadata": {},
   "outputs": [
    {
     "name": "stdout",
     "output_type": "stream",
     "text": [
      "abdes\n"
     ]
    }
   ],
   "source": [
    "def counting_sort_string(n, s):\n",
    "    freq = [0] * 26     # Create a frequency array for 'a' to 'z'\n",
    "    \n",
    "    # Count occurrences of each character\n",
    "    for char in s:\n",
    "        freq[ord(char) - ord('a')] += 1\n",
    "\n",
    "    sorted_string = \"\"\n",
    "    for i in range(26):\n",
    "        sorted_string += chr(i + ord('a')) * freq[i]    \n",
    "    return sorted_string\n",
    "\n",
    "n = int(input())\n",
    "s = input().strip()\n",
    "print(counting_sort_string(n, s))"
   ]
  },
  {
   "cell_type": "markdown",
   "metadata": {},
   "source": [
    "### **186. You are provided with a given string ’s’.You will be given direction and magnitude so that you can rotate the string. You have to keep the track of first character after each rotation. Make a string out of it this first character and name it as s2 now check whether the s2 is anagram of original string ‘s’.**\n",
    "\n",
    "**Input Description:**\n",
    "\n",
    "The first line contains the original string s. The second line contains a single integer q. The ith of the next q lines contains character d[i] denoting direction and integer r[i] denoting the magnitude.\n",
    "\n",
    "**Output Description:**\n",
    "\n",
    "Print yes if ‘s2’ is anagram of s1. And no otherwise\n",
    "\n",
    "**Sample Input:**\n",
    "\n",
    "carrace\n",
    "\n",
    "3\n",
    "\n",
    "L 2\n",
    "\n",
    "R 2\n",
    "\n",
    "L 3\n",
    "\n",
    "**Sample Output:**\n",
    "\n",
    "No"
   ]
  },
  {
   "cell_type": "code",
   "execution_count": 11,
   "metadata": {},
   "outputs": [
    {
     "name": "stdout",
     "output_type": "stream",
     "text": [
      "No\n"
     ]
    }
   ],
   "source": [
    "def is_anagram_after_rotations(s, queries):\n",
    "    n = len(s)\n",
    "    s2 = \"\"\n",
    "    current_string = s\n",
    "    for direction, magnitude in queries:\n",
    "        magnitude %= n  # Handle full rotations\n",
    "        if direction == 'L':\n",
    "            current_string = current_string[magnitude:] + current_string[:magnitude]    # Rotate left\n",
    "        elif direction == 'R':\n",
    "            current_string = current_string[-magnitude:] + current_string[:-magnitude]  # Rotate right\n",
    "        s2 += current_string[0] # Append first character after each rotation\n",
    "    return \"Yes\" if sorted(s) == sorted(s2) else \"No\"   # Check if s2 is an anagram of s\n",
    "\n",
    "s = input().strip()\n",
    "q = int(input())\n",
    "queries = [input().split() for _ in range(q)]\n",
    "queries = [(d, int(r)) for d, r in queries]\n",
    "print(is_anagram_after_rotations(s, queries))"
   ]
  },
  {
   "cell_type": "markdown",
   "metadata": {},
   "source": [
    "### **187. You are given a number ‘n’. Your task is to tell all the numbers ranging from 1-n with the fact that absolute diff between consecutive digits is 1.**\n",
    "\n",
    "**Input Description:**\n",
    "\n",
    "You are given a number ‘n’.\n",
    "\n",
    "**Output Description:**\n",
    "\n",
    "Print all the numbers that satisfy this condition and ‘-1’ if no number is present.\n",
    "\n",
    "**Sample Input:**\n",
    "\n",
    "20\n",
    "\n",
    "**Sample Output:**\n",
    "\n",
    "10 12"
   ]
  },
  {
   "cell_type": "code",
   "execution_count": 13,
   "metadata": {},
   "outputs": [
    {
     "name": "stdout",
     "output_type": "stream",
     "text": [
      "10 12\n"
     ]
    }
   ],
   "source": [
    "def find_numbers_with_diff_1(n):\n",
    "    result = []\n",
    "    for num in range(10, n + 1):\n",
    "        num_str = str(num)\n",
    "        valid = True\n",
    "        for i in range(len(num_str) - 1):\n",
    "            if abs(int(num_str[i]) - int(num_str[i + 1])) != 1:\n",
    "                valid = False\n",
    "                break\n",
    "        if valid:\n",
    "            result.append(num)\n",
    "    \n",
    "    if result:\n",
    "        print(\" \".join(map(str, result)))\n",
    "    else:\n",
    "        print(\"-1\")\n",
    "\n",
    "n = int(input())\n",
    "find_numbers_with_diff_1(n)"
   ]
  },
  {
   "cell_type": "markdown",
   "metadata": {},
   "source": [
    "### **188. You are given a string ‘s’, find the minimum number of characters to be inserted to convert it to palindrome.**\n",
    "\n",
    "**Input Description:**\n",
    "\n",
    "You are given a string ‘s’\n",
    "\n",
    "**Output Description:**\n",
    "\n",
    "Print 0 if no extra character is required else print the amount of characters required.\n",
    "\n",
    "**Sample Input:**\n",
    "\n",
    "abcd\n",
    "\n",
    "**Sample Output:**\n",
    "\n",
    "3"
   ]
  },
  {
   "cell_type": "code",
   "execution_count": 15,
   "metadata": {},
   "outputs": [
    {
     "name": "stdout",
     "output_type": "stream",
     "text": [
      "3\n"
     ]
    }
   ],
   "source": [
    "def min_insertions_to_palindrome(s):\n",
    "    n = len(s)\n",
    "    dp = [[0] * n for _ in range(n)]\n",
    "    \n",
    "    # Fill the DP table\n",
    "    for length in range(2, n + 1):\n",
    "        for i in range(n - length + 1):\n",
    "            j = i + length - 1\n",
    "            if s[i] == s[j]:\n",
    "                dp[i][j] = dp[i + 1][j - 1]\n",
    "            else:\n",
    "                dp[i][j] = 1 + min(dp[i + 1][j], dp[i][j - 1])    \n",
    "    return dp[0][n - 1]\n",
    "\n",
    "s = input().strip()\n",
    "print(min_insertions_to_palindrome(s))"
   ]
  },
  {
   "cell_type": "markdown",
   "metadata": {},
   "source": [
    "### **189. Bowman planned a vacation to Alphabet Land. He had to solve a problem to enter Alphabet Land. He was given N recipes made up of lower case English alphabets. The recipes were indexed from 1 to N. R[1], R[2], ….., R[N]. He had to group identical recipes and put them into bags. Help Bowman print the indices of the recipes in each bag.**\n",
    "\n",
    "**Input Description:**\n",
    "\n",
    "The first line contains the number of recipes. The next line contains N space separated recipes as strings.\n",
    "\n",
    "**Output Description:**\n",
    "\n",
    "The first line should contain the number of bags ‘M’ required. Then M lines follow, each line containing the contents of each bag - space separated indices. The indices should be in sorted in ascending order and the bags should be ordered lexicographically. See the example for better understanding.\n",
    "\n",
    "**Sample Input:**\n",
    "\n",
    "3\n",
    "\n",
    "abcd\n",
    "\n",
    "cdef\n",
    "\n",
    "abcd\n",
    "\n",
    "**Sample Output:**\n",
    "\n",
    "2\n",
    "\n",
    "1 3\n",
    "\n",
    "2"
   ]
  },
  {
   "cell_type": "code",
   "execution_count": null,
   "metadata": {},
   "outputs": [
    {
     "name": "stdout",
     "output_type": "stream",
     "text": [
      "2\n",
      "1 3\n",
      "2\n"
     ]
    }
   ],
   "source": [
    "N = int(input())\n",
    "l = []\n",
    "for i in range(N):\n",
    "    l.append(input())\n",
    "\n",
    "dict1 = {}\n",
    "\n",
    "for i in range(len(l)):\n",
    "    if l[i] not in dict1:\n",
    "        dict1[l[i]] = []\n",
    "    dict1[l[i]].append(i + 1)\n",
    "sorted_recipes = sorted(dict1.keys())\n",
    "print(len(sorted_recipes))\n",
    "\n",
    "for recipe in sorted_recipes:\n",
    "    print(\" \".join(map(str, sorted(dict1[recipe]))))"
   ]
  },
  {
   "cell_type": "markdown",
   "metadata": {},
   "source": [
    "### **190. Design an algorithm to accept 2 strings A and B from the user, and check whether any part of string A (comprising of minimum of 2 consecutive characters) is a sub-string of string B.**\n",
    "\n",
    "Input Size : A<=1000, B<=1000\n",
    "\n",
    "**Example:**\n",
    "\n",
    "**INPUT**\n",
    "\n",
    "abcxyz hagsaabc\n",
    "\n",
    "**OUTPUT**\n",
    "\n",
    "yes"
   ]
  },
  {
   "cell_type": "code",
   "execution_count": null,
   "metadata": {},
   "outputs": [
    {
     "name": "stdout",
     "output_type": "stream",
     "text": [
      "yes\n"
     ]
    }
   ],
   "source": [
    "def check_substring(A, B):\n",
    "    # Iterate over all possible starting positions of substrings in A\n",
    "    for i in range(len(A) - 1):\n",
    "        for length in range(2, len(A) - i + 1):  # Substring length must be at least 2\n",
    "            substring = A[i:i+length]\n",
    "            if substring in B:\n",
    "                return \"yes\"    \n",
    "    return \"no\"\n",
    "\n",
    "A = input().strip()\n",
    "B = input().strip()\n",
    "print(check_substring(A, B))"
   ]
  },
  {
   "cell_type": "markdown",
   "metadata": {},
   "source": [
    "### **191. Dr. Nadal is given a string of ‘n’ characters(S[1], S[2],...., S[n]). Then he is given Q ranges of the form [L R]. Determine of S[L], S[L+1]... S[R] is a palindrome.**\n",
    "\n",
    "**Input Description:**\n",
    "\n",
    "The first line is a string S. The next line consists of the number of ranges Q The next Q lines contain two space separated integers L R\n",
    "\n",
    "**Output Description:**\n",
    "\n",
    "Print YES if S[L], S[L+1]... S[R] is a palindrome Print NO otherwise\n",
    "\n",
    "**Sample Input:**\n",
    "\n",
    "absolosolute\n",
    "\n",
    "2\n",
    "\n",
    "3 7\n",
    "\n",
    "2 4\n",
    "\n",
    "**Sample Output:**\n",
    "\n",
    "YES\n",
    "\n",
    "NO"
   ]
  },
  {
   "cell_type": "code",
   "execution_count": 31,
   "metadata": {},
   "outputs": [
    {
     "name": "stdout",
     "output_type": "stream",
     "text": [
      "YES\n",
      "NO\n"
     ]
    }
   ],
   "source": [
    "def preprocess_palindrome(S):\n",
    "    n = len(S)\n",
    "    dp = [[False] * n for _ in range(n)]\n",
    "    \n",
    "    # Every single character is a palindrome\n",
    "    for i in range(n):\n",
    "        dp[i][i] = True\n",
    "    \n",
    "    # Check for two character substrings\n",
    "    for i in range(n - 1):\n",
    "        if S[i] == S[i + 1]:\n",
    "            dp[i][i + 1] = True\n",
    "    \n",
    "    # Check for longer substrings\n",
    "    for length in range(3, n + 1):  # length of substring\n",
    "        for i in range(n - length + 1):\n",
    "            j = i + length - 1\n",
    "            if S[i] == S[j] and dp[i + 1][j - 1]:\n",
    "                dp[i][j] = True\n",
    "    return dp\n",
    "\n",
    "def check_palindrome_queries(S, queries):\n",
    "    dp = preprocess_palindrome(S)\n",
    "    \n",
    "    # Process each query\n",
    "    result = []\n",
    "    for L, R in queries:\n",
    "        if dp[L - 1][R - 1]:\n",
    "            result.append(\"YES\")\n",
    "        else:\n",
    "            result.append(\"NO\")    \n",
    "    return result\n",
    "\n",
    "S = input().strip()\n",
    "Q = int(input().strip())\n",
    "queries = []\n",
    "\n",
    "for _ in range(Q):\n",
    "    L, R = map(int, input().split())\n",
    "    queries.append((L, R))\n",
    "results = check_palindrome_queries(S, queries)\n",
    "for res in results:\n",
    "    print(res)"
   ]
  },
  {
   "cell_type": "markdown",
   "metadata": {},
   "source": [
    "### **192. You are given a string s consisting of lowercase Latin letters. Character c is called k-dominant iff each substring of s with length at least k contains this character c. You have to find minimum k such that there exists at least one k-dominant character.**\n",
    "\n",
    "Input Size : |S|<=10000\n",
    "\n",
    "**INPUT**\n",
    "\n",
    "abacaba\n",
    "\n",
    "**OUTPUT**\n",
    "\n",
    "2"
   ]
  },
  {
   "cell_type": "code",
   "execution_count": 36,
   "metadata": {},
   "outputs": [
    {
     "name": "stdout",
     "output_type": "stream",
     "text": [
      "2\n"
     ]
    }
   ],
   "source": [
    "def find_minimum_k(s):\n",
    "    n = len(s)\n",
    "\n",
    "    # Store the positions of each character\n",
    "    positions = {}\n",
    "    for i, char in enumerate(s):\n",
    "        if char not in positions:\n",
    "            positions[char] = []\n",
    "        positions[char].append(i)\n",
    "    \n",
    "    min_k = n   # Variable to track the minimum k\n",
    "    \n",
    "    # For each character, calculate the maximum gap\n",
    "    for char, indices in positions.items():\n",
    "        max_gap = indices[0] + 1  # From the start of the string\n",
    "        for i in range(1, len(indices)):\n",
    "            max_gap = max(max_gap, indices[i] - indices[i - 1])\n",
    "        max_gap = max(max_gap, n - indices[-1])  # From the last occurrence to the end\n",
    "        min_k = min(min_k, max_gap)    \n",
    "    return min_k\n",
    "\n",
    "s = input().strip()\n",
    "print(find_minimum_k(s))"
   ]
  },
  {
   "cell_type": "markdown",
   "metadata": {},
   "source": [
    "### **193. You are given a string which is actually the encrypted password.Your task is to decrypt back the original password.**\n",
    "\n",
    "**Input Description:**\n",
    "\n",
    "First line contains the encoded password Second line contains 10 unique characters\n",
    "\n",
    "**Output Description:**\n",
    "\n",
    "Obtained password by reverting the algorithm. Print -1 if there is any error in the inputs.\n",
    "\n",
    "**Sample Input:**\n",
    "\n",
    "0|1|2|43|14|5|6|7|308|29||0149\n",
    "\n",
    "*Acf$Zd&T@\n",
    "\n",
    "**Sample Output:**\n",
    "\n",
    "@@Z$$"
   ]
  },
  {
   "cell_type": "code",
   "execution_count": null,
   "metadata": {},
   "outputs": [
    {
     "name": "stdout",
     "output_type": "stream",
     "text": [
      "-1\n"
     ]
    }
   ],
   "source": [
    "def decrypt_password(encoded_password, key):\n",
    "    segments = encoded_password.split('|')\n",
    "    \n",
    "    decoded_password = \"\"\n",
    "    \n",
    "    # Iterate through each segment and map it to the corresponding character in the key\n",
    "    for segment in segments:\n",
    "        if segment == \"\" or not segment.isdigit():  # Handle empty segment case or invalid segment (non-numeric)\n",
    "            return -1\n",
    "        \n",
    "        index = int(segment)    # Convert segment to integer\n",
    "\n",
    "        # Check if index is valid for the 10-character key\n",
    "        if index <= 0 or index >= len(key):\n",
    "            return -1\n",
    "        decoded_password += key[index]    \n",
    "    return decoded_password\n",
    "\n",
    "encoded_password = input().strip()\n",
    "key = input().strip()\n",
    "\n",
    "# Decrypt the password\n",
    "result = decrypt_password(encoded_password, key)\n",
    "print(result)"
   ]
  },
  {
   "cell_type": "markdown",
   "metadata": {},
   "source": [
    "### **194. Bowman planned a vacation to Alphabet Land. He had to solve a problem to enter Alphabet Land. He was given N recipes made up of lower case English alphabets. The recipes were indexed from 1 to N. R[1], R[2], ….., R[N]. He had to group identical recipes and put them into bags. Help Bowman print the indices of the recipes in each bag.**\n",
    "\n",
    "**Input Description:**\n",
    "\n",
    "The first line contains the number of recipes. The next line contains N space separated recipes as strings.\n",
    "\n",
    "**Output Description:**\n",
    "\n",
    "The first line should contain the number of bags ‘M’ required. Then M lines follow, each line containing the contents of each bag - space separated indices. The indices should be in sorted in ascending order and the bags should be ordered lexicographically. See the example for better understanding.\n",
    "\n",
    "**Sample Input:**\n",
    "\n",
    "3\n",
    "\n",
    "abcd\n",
    "\n",
    "cdef\n",
    "\n",
    "abcd\n",
    "\n",
    "**Sample Output:**\n",
    "\n",
    "2\n",
    "\n",
    "1 3\n",
    "\n",
    "2"
   ]
  },
  {
   "cell_type": "code",
   "execution_count": 42,
   "metadata": {},
   "outputs": [
    {
     "name": "stdout",
     "output_type": "stream",
     "text": [
      "2\n",
      "1 3\n",
      "2\n"
     ]
    }
   ],
   "source": [
    "N = int(input())\n",
    "\n",
    "l = []\n",
    "for i in range(N):\n",
    "    l.append(input()) \n",
    "\n",
    "dict1 = dict()\n",
    "for i in range(len(l)):\n",
    "    dict1[i + 1] = l[i]\n",
    "\n",
    "dict2 = dict(sorted(dict1.items(), key=lambda x: x[1]))\n",
    "\n",
    "dict3 = dict()\n",
    "for k, v in dict2.items():\n",
    "    if v not in dict3:\n",
    "        dict3[v] = [k]\n",
    "    else:\n",
    "        dict3[v].append(k)\n",
    "print(len(dict3))\n",
    "\n",
    "for v in dict3.values():\n",
    "    print(\" \".join(map(str, sorted(v))))"
   ]
  },
  {
   "cell_type": "markdown",
   "metadata": {},
   "source": [
    "### **195. Do problem 3 with cost of insertion, deletion as the position of the inserted alphabet in A-Z and substitution as the difference in their positions in A-Z.**\n",
    "\n",
    "Input Size : 1<=N<=1000\n",
    "\n",
    "**Example:**\n",
    "\n",
    "**INPUT**\n",
    "\n",
    "arc bug\n",
    "\n",
    "**OUTPUT**\n",
    "\n",
    "8"
   ]
  },
  {
   "cell_type": "code",
   "execution_count": 44,
   "metadata": {},
   "outputs": [
    {
     "name": "stdout",
     "output_type": "stream",
     "text": [
      "8\n"
     ]
    }
   ],
   "source": [
    "def char_to_pos(c):\n",
    "    return ord(c) - ord('a') + 1\n",
    "\n",
    "def min_cost(A, B):\n",
    "    n = len(A)\n",
    "    m = len(B)\n",
    "    \n",
    "    # Create a DP table of size (n+1) x (m+1)\n",
    "    dp = [[0] * (m + 1) for _ in range(n + 1)]\n",
    "    \n",
    "    for i in range(1, n + 1):\n",
    "        dp[i][0] = dp[i - 1][0] + char_to_pos(A[i - 1])  # Cost of deleting characters from A\n",
    "    for j in range(1, m + 1):\n",
    "        dp[0][j] = dp[0][j - 1] + char_to_pos(B[j - 1])  # Cost of inserting characters into A\n",
    "    \n",
    "    # Fill the DP table\n",
    "    for i in range(1, n + 1):\n",
    "        for j in range(1, m + 1):\n",
    "            if A[i - 1] == B[j - 1]:\n",
    "                dp[i][j] = dp[i - 1][j - 1]  # No cost if the characters are the same\n",
    "            else:\n",
    "                insert_cost = dp[i][j - 1] + char_to_pos(B[j - 1])\n",
    "                delete_cost = dp[i - 1][j] + char_to_pos(A[i - 1])\n",
    "                substitute_cost = dp[i - 1][j - 1] + abs(char_to_pos(A[i - 1]) - char_to_pos(B[j - 1]))\n",
    "                dp[i][j] = min(insert_cost, delete_cost, substitute_cost)    # Take the minimum of the three operations\n",
    "    return dp[n][m]\n",
    "\n",
    "A = input().strip()\n",
    "B = input().strip()\n",
    "result = min_cost(A, B)\n",
    "print(result)"
   ]
  },
  {
   "cell_type": "markdown",
   "metadata": {},
   "source": [
    "### **196. Nila was gifted a bracelet G made of lower case English Alphabets on her birthday. She ordered Q more bracelets each not longer than the gifted bracelet.**\n",
    "\n",
    "She reversed one of the ordered bracelet and placed it below G such that the last alphabet of it and the last alphabet of G coincide, as shown below(example). Let the bracelet picked be H =  “hgfedc”.\n",
    "Bracelet G         :     ab|cdefgh\n",
    "Reversed H         :      cdefgh\n",
    "\n",
    "She then cut (|) G at the point as shown and obtained G = ab. She then concatenated H to G at the point of cut and obtained G = abcdefgh. Here we see that the bracelet before cutting it was obtained again. [The entire string can be cut too]\n",
    "\n",
    "Nila tried doing this with each of the Q bracelets. (She repairs G to the state before cutting after performing each operation)\n",
    "Determine if the bracelet before cutting was obtained again for all Q bracelets.\n",
    "\n",
    "**Input Description:**\n",
    "\n",
    "The first line contains a string denoting bracelet G The next line contains an integer Q The next Q lines contain a string each, denoting a bracelet.\n",
    "\n",
    "**Output Description:**\n",
    "\n",
    "Print Q lines each containing YES if the bracelet was restored, NO otherwise.\n",
    "\n",
    "**Sample Input:**\n",
    "\n",
    "abcd\n",
    "\n",
    "2\n",
    "\n",
    "dc\n",
    "\n",
    "b\n",
    "\n",
    "**Sample Output:**\n",
    "\n",
    "YES\n",
    "\n",
    "NO"
   ]
  },
  {
   "cell_type": "code",
   "execution_count": null,
   "metadata": {},
   "outputs": [
    {
     "name": "stdout",
     "output_type": "stream",
     "text": [
      "YES\n",
      "NO\n"
     ]
    }
   ],
   "source": [
    "def is_bracelet_restored(G, H):\n",
    "    reversed_H = H[::-1]\n",
    "    len_G = len(G)\n",
    "    len_H = len(reversed_H)\n",
    "    \n",
    "    # Check if H's reverse can match the suffix of G\n",
    "    for i in range(len_G - len_H + 1):\n",
    "        if G[i:i + len_H] == reversed_H:\n",
    "            if G[:i] + reversed_H == G:\n",
    "                return \"YES\"\n",
    "    return \"NO\"\n",
    "\n",
    "G = input().strip()  # The original bracelet G\n",
    "Q = int(input())  # The number of additional bracelets\n",
    "for _ in range(Q):\n",
    "    H = input().strip()  # A new bracelet H\n",
    "    print(is_bracelet_restored(G, H))"
   ]
  },
  {
   "cell_type": "code",
   "execution_count": null,
   "metadata": {},
   "outputs": [
    {
     "name": "stdout",
     "output_type": "stream",
     "text": [
      "YES\n",
      "NO\n"
     ]
    }
   ],
   "source": [
    "# Another approach:\n",
    "\n",
    "def is_bracelet_restored(G, H):\n",
    "    reversed_H = H[::-1]\n",
    "    len_G = len(G)\n",
    "    len_H = len(H)\n",
    "    \n",
    "    # Check if the reversed H can match the suffix of G\n",
    "    if len_H > len_G:\n",
    "        return \"NO\"\n",
    "    \n",
    "    # Match reversed H with the suffix of G\n",
    "    if G[-len_H:] == reversed_H:\n",
    "        return \"YES\"\n",
    "    else:\n",
    "        return \"NO\"\n",
    "\n",
    "G = input().strip()\n",
    "Q = int(input())\n",
    "for _ in range(Q):\n",
    "    H = input().strip()\n",
    "    print(is_bracelet_restored(G, H))"
   ]
  },
  {
   "cell_type": "code",
   "execution_count": null,
   "metadata": {},
   "outputs": [],
   "source": []
  }
 ],
 "metadata": {
  "kernelspec": {
   "display_name": "py12",
   "language": "python",
   "name": "python3"
  },
  "language_info": {
   "codemirror_mode": {
    "name": "ipython",
    "version": 3
   },
   "file_extension": ".py",
   "mimetype": "text/x-python",
   "name": "python",
   "nbconvert_exporter": "python",
   "pygments_lexer": "ipython3",
   "version": "3.12.7"
  }
 },
 "nbformat": 4,
 "nbformat_minor": 2
}
