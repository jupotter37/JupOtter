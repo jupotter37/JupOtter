{
  "nbformat": 4,
  "nbformat_minor": 0,
  "metadata": {
    "colab": {
      "provenance": []
    },
    "kernelspec": {
      "name": "python3",
      "display_name": "Python 3"
    },
    "language_info": {
      "name": "python"
    }
  },
  "cells": [
    {
      "cell_type": "markdown",
      "source": [
        "# -------------- **Data Structures** --------------\n",
        "\n",
        "                             \"14 January 2024\"   - Akanksha              "
      ],
      "metadata": {
        "id": "3lGD637mzu3X"
      }
    },
    {
      "cell_type": "markdown",
      "source": [
        "## Stack Operations\n",
        "\n",
        "### Introduction to Stacks:\n",
        "- A stack is a collection of items where interactions are limited to the top item.\n",
        "- It follows the LIFO (Last-In, First-Out) principle.\n",
        "\n",
        "### LIFO (Last-In, First-Out) Principle:\n",
        "- The last item added is the first one to be removed.\n",
        "- Visualize it like a stack of plates or books.\n",
        "\n",
        "### Operations:\n",
        "1. **push():**\n",
        "   - Adds an item to the top of the stack.\n",
        "   - Analogous to placing a book on top of a stack.\n",
        "\n",
        "2. **pop():**\n",
        "   - Removes the top item from the stack.\n",
        "   - Similar to taking the top book off the stack.\n",
        "\n",
        "3. **isEmpty():**\n",
        "   - Checks if the stack has no items.\n",
        "   - Like verifying if there are no books in the stack.\n",
        "\n",
        "4. **isFull():**\n",
        "   - Checks if the stack has reached its maximum capacity.\n",
        "   - Similar to checking if you can add more books when the stack is full.\n",
        "\n",
        "5. **peek():**\n",
        "   - Views the top item without removing it.\n",
        "   - Imagine checking the title of the top book without taking it off.\n",
        "\n",
        "6. **count():**\n",
        "   - Counts the number of items in the stack.\n",
        "   - Similar to counting the books in the stack.\n",
        "\n",
        "7. **change():**\n",
        "   - Modifies the item at a specific position.\n",
        "   - Like replacing a book in the middle of the stack.\n",
        "\n",
        "8. **display():**\n",
        "   - Shows all the items in the stack.\n",
        "   - Similar to displaying all the books in the stack.\n",
        "\n",
        "### Implementing Stacks Using Lists:\n",
        "- In Python, a list can represent a stack.\n",
        "- Use `append()` to push items onto the stack and `pop()` to remove items from the top.\n",
        "- Check if the stack is empty with `if not stack:` and check if it's full by comparing the length with a predefined limit.\n",
        "\n",
        "In summary, a stack organizes items with a \"last in, first out\" approach. The provided operations facilitate interactions and manipulations on the stack. Implementing a stack using lists in Python is a practical way to work with this concept in programming.\n",
        "\n"
      ],
      "metadata": {
        "id": "JKaO3VXQUVAv"
      }
    },
    {
      "cell_type": "code",
      "source": [
        "class Stack:\n",
        "    def __init__(self):\n",
        "        self.items = []\n",
        "\n",
        "    def is_empty(self):\n",
        "        return len(self.items) == 0\n",
        "\n",
        "    def push(self, item):\n",
        "        self.items.append(item)\n",
        "\n",
        "    def pop(self):\n",
        "        if not self.is_empty():\n",
        "            return self.items.pop()\n",
        "        else:\n",
        "            print(\"Stack is empty. Cannot pop.\")\n",
        "\n",
        "    def peek(self):\n",
        "        if not self.is_empty():\n",
        "            return self.items[-1]\n",
        "        else:\n",
        "            print(\"Stack is empty. Cannot peek.\")\n",
        "\n",
        "    def size(self):\n",
        "        return len(self.items)"
      ],
      "metadata": {
        "id": "3XbCOTl1XpNL"
      },
      "execution_count": null,
      "outputs": []
    },
    {
      "cell_type": "code",
      "source": [
        "stack = Stack()\n",
        "\n",
        "stack.push(1)\n",
        "stack.push(2)\n",
        "stack.push(3)\n",
        "\n",
        "print(\"Stack:\", stack.items)\n",
        "\n",
        "print(\"Pop:\", stack.pop())\n",
        "print(\"Stack after pop:\", stack.items)\n",
        "\n",
        "print(\"Peek:\", stack.peek())\n",
        "\n",
        "print(\"Stack size:\", stack.size())"
      ],
      "metadata": {
        "colab": {
          "base_uri": "https://localhost:8080/"
        },
        "id": "g85EqUCoZUfc",
        "outputId": "c286e4f8-f532-4a07-f606-10e179553adb"
      },
      "execution_count": null,
      "outputs": [
        {
          "output_type": "stream",
          "name": "stdout",
          "text": [
            "Stack: [1, 2, 3]\n",
            "Pop: 3\n",
            "Stack after pop: [1, 2]\n",
            "Peek: 2\n",
            "Stack size: 2\n"
          ]
        }
      ]
    },
    {
      "cell_type": "markdown",
      "source": [
        "## Queue Operations\n",
        "\n",
        "### Introduction to Queues:\n",
        "- A queue is a linear data structure representing a line of elements.\n",
        "- It follows the FIFO (First-In, First-Out) principle.\n",
        "- Imagine it as people waiting in line, where the first person to arrive is the first to be served.\n",
        "\n",
        "### FIFO (First-In, First-Out) Principle:\n",
        "- The first item added to the queue is the first one to be removed.\n",
        "- Analogous to the first person waiting in line being the first to get served.\n",
        "\n",
        "### Operations:\n",
        "1. **enqueue():**\n",
        "   - Adds an item to the end of the queue.\n",
        "   - Similar to joining the line of people waiting.\n",
        "\n",
        "2. **dequeue():**\n",
        "   - Removes the item from the front of the queue.\n",
        "   - Like the person at the front of the line getting served and leaving.\n",
        "\n",
        "3. **isEmpty():**\n",
        "   - Checks if the queue has no items.\n",
        "   - Similar to seeing if there is no one waiting in line.\n",
        "\n",
        "4. **isFull():**\n",
        "   - Checks if the queue has reached its maximum capacity.\n",
        "   - Similar to checking if the line is so long that no more people can join.\n",
        "\n",
        "5. **peek():**\n",
        "   - Looks at the front item without removing it.\n",
        "   - Imagine checking who is at the front of the line without asking them to leave.\n",
        "\n",
        "6. **count():**\n",
        "   - Counts how many items are in the queue.\n",
        "   - Like counting the number of people waiting in line.\n",
        "\n",
        "7. **change():**\n",
        "   - Modifies the item at a specific position.\n",
        "   - Similar to asking someone in the middle of the line to step aside briefly.\n",
        "\n",
        "8. **display():**\n",
        "   - Shows all the items in the queue.\n",
        "   - Like displaying everyone in the line.\n",
        "\n",
        "### Implementing Queues Using Lists or collections.deque:\n",
        "- In Python, a list or `collections.deque` can represent a queue.\n",
        "- To add an item, use the `append()` method, and to remove an item, use the `popleft()` method with `collections.deque`.\n",
        "- Checking if the queue is empty is as simple as `if not queue:` and checking if it's full might involve comparing the length of the list or deque with a predefined limit.\n",
        "\n",
        "In summary, a queue organizes items with a \"first in, first out\" approach. The provided operations facilitate interactions and manipulations on the queue. Implementing a queue using lists or `collections.deque` in Python is a practical way to work with this concept in programming."
      ],
      "metadata": {
        "id": "eBUmsAVHZ5pP"
      }
    },
    {
      "cell_type": "markdown",
      "source": [
        "Queue using a list"
      ],
      "metadata": {
        "id": "i8S-6f-za-aD"
      }
    },
    {
      "cell_type": "code",
      "source": [
        "class Queue:\n",
        "    def __init__(self):\n",
        "        self.items = []\n",
        "\n",
        "    def enqueue(self, item):\n",
        "        self.items.append(item)\n",
        "\n",
        "    def dequeue(self):\n",
        "        if not self.is_empty():\n",
        "            return self.items.pop(0)\n",
        "        else:\n",
        "            raise IndexError(\"dequeue from an empty queue\")\n",
        "\n",
        "    def is_empty(self):\n",
        "        return len(self.items) == 0\n",
        "\n",
        "    def size(self):\n",
        "        return len(self.items)\n"
      ],
      "metadata": {
        "id": "6JXVRu2Cap6A"
      },
      "execution_count": null,
      "outputs": []
    },
    {
      "cell_type": "code",
      "source": [
        "my_queue = Queue()\n",
        "my_queue.enqueue(1)\n",
        "my_queue.enqueue(2)\n",
        "my_queue.enqueue(3)\n",
        "\n",
        "print(my_queue.dequeue())\n",
        "print(my_queue.size())\n"
      ],
      "metadata": {
        "colab": {
          "base_uri": "https://localhost:8080/"
        },
        "id": "M0nosd9bbUNY",
        "outputId": "17c5a762-3d6f-4906-dd44-b947dd6569b5"
      },
      "execution_count": null,
      "outputs": [
        {
          "output_type": "stream",
          "name": "stdout",
          "text": [
            "1\n",
            "2\n"
          ]
        }
      ]
    },
    {
      "cell_type": "markdown",
      "source": [
        "Queue using collection.deque"
      ],
      "metadata": {
        "id": "71qIb9zRbY4t"
      }
    },
    {
      "cell_type": "code",
      "source": [
        "from collections import deque\n",
        "\n",
        "class Queue:\n",
        "    def __init__(self):\n",
        "        self.items = deque()\n",
        "\n",
        "    def enqueue(self, item):\n",
        "        self.items.append(item)\n",
        "\n",
        "    def dequeue(self):\n",
        "        if not self.is_empty():\n",
        "            return self.items.popleft()\n",
        "        else:\n",
        "            raise IndexError(\"dequeue from an empty queue\")\n",
        "\n",
        "    def is_empty(self):\n",
        "        return len(self.items) == 0\n",
        "\n",
        "    def size(self):\n",
        "        return len(self.items)\n"
      ],
      "metadata": {
        "id": "0mrvvsBRbYPJ"
      },
      "execution_count": null,
      "outputs": []
    },
    {
      "cell_type": "code",
      "source": [
        "my_queue = Queue()\n",
        "my_queue.enqueue(1)\n",
        "my_queue.enqueue(2)\n",
        "my_queue.enqueue(3)\n",
        "\n",
        "print(my_queue.dequeue())\n",
        "print(my_queue.size())"
      ],
      "metadata": {
        "colab": {
          "base_uri": "https://localhost:8080/"
        },
        "id": "Ug2gvnRRcAI-",
        "outputId": "eb3f6d9f-ca62-494b-ac2e-66414d171710"
      },
      "execution_count": null,
      "outputs": [
        {
          "output_type": "stream",
          "name": "stdout",
          "text": [
            "1\n",
            "2\n"
          ]
        }
      ]
    },
    {
      "cell_type": "markdown",
      "source": [
        "## Linked Lists\n",
        "### Introduction to Linked Lists:\n",
        "- A linked list is a dynamic data structure where each element (node) holds a value and a reference to the next node.\n",
        "- Unlike arrays, linked lists don't require contiguous memory, allowing for dynamic size adjustments.\n",
        "\n",
        "### Singly Linked Lists:\n",
        "- In a singly linked list, each node points to the next node in the sequence.\n",
        "- It's like a chain where each link only connects to the next link.\n",
        "\n",
        "### Doubly Linked Lists:\n",
        "- In a doubly linked list, each node has references to both the next and the previous nodes.\n",
        "- Imagine a train where each carriage is connected to the one in front and behind.\n",
        "\n",
        "### Circular Linked Lists:\n",
        "- In a circular linked list, the last node points back to the first node, forming a loop.\n",
        "- Picture a chain where the last link connects back to the first.\n",
        "\n",
        "### Operations on Linked Lists:\n",
        "1. **Insertion:**\n",
        "   - *At the beginning:* Adding a new node at the start of the list.\n",
        "   - *At the end:* Adding a new node at the end of the list.\n",
        "   - *In the middle:* Adding a new node at a specific position within the list.\n",
        "\n",
        "2. **Deletion:**\n",
        "   - *At the beginning:* Removing the first node in the list.\n",
        "   - *At the end:* Removing the last node in the list.\n",
        "   - *In the middle:* Removing a node from a specific position within the list.\n",
        "\n",
        "3. **Traversal:**\n",
        "   - Moving through the linked list, visiting each node.\n",
        "   - Starting from the first node and going until the last.\n",
        "\n",
        "### Example Scenario - Insertion:\n",
        "- *At the beginning:*\n",
        "  - Adding a new station to the train line, becoming the first station.\n",
        "- *At the end:*\n",
        "  - Adding a new car to the end of the train.\n",
        "- *In the middle:*\n",
        "  - Inserting a new station between two existing stations.\n",
        "\n",
        "### Example Scenario - Deletion:\n",
        "- *At the beginning:*\n",
        "  - Removing the first station from the train line.\n",
        "- *At the end:*\n",
        "  - Removing the last car from the train.\n",
        "- *In the middle:*\n",
        "  - Taking out a station from between two existing stations.\n",
        "\n",
        "### Example Scenario - Traversal:\n",
        "- Walking along the train track, visiting each station from the first to the last.\n",
        "\n",
        "In summary, linked lists provide flexibility in organizing and managing data. Singly linked lists connect nodes in one direction, doubly linked lists connect nodes in both directions, and circular linked lists form a loop. Operations like insertion, deletion, and traversal allow you to manipulate the linked list based on your needs."
      ],
      "metadata": {
        "id": "Nx8Q5v6McOPP"
      }
    },
    {
      "cell_type": "markdown",
      "source": [
        "Single Linked List"
      ],
      "metadata": {
        "id": "7jDof8UnPpk_"
      }
    },
    {
      "cell_type": "code",
      "source": [
        "class Node:\n",
        "    def __init__(self, data):\n",
        "        self.data = data\n",
        "        self.next = None\n",
        "\n",
        "class LinkedList:\n",
        "    def __init__(self):\n",
        "        self.head = None\n",
        "\n",
        "    def insert_at_end(self, data):\n",
        "        new_node = Node(data)\n",
        "        if not self.head:\n",
        "            self.head = new_node\n",
        "            return\n",
        "        current = self.head\n",
        "        while current.next:\n",
        "            current = current.next\n",
        "        current.next = new_node\n",
        "\n",
        "    def delete_node(self, key):\n",
        "        current = self.head\n",
        "        if current and current.data == key:\n",
        "            self.head = current.next\n",
        "            return\n",
        "        prev = None\n",
        "        while current and current.data != key:\n",
        "            prev = current\n",
        "            current = current.next\n",
        "        if current is None:\n",
        "            return\n",
        "        prev.next = current.next\n",
        "\n",
        "    def display(self):\n",
        "        current = self.head\n",
        "        while current:\n",
        "            print(current.data, end=' -> ')\n",
        "            current = current.next\n",
        "        print('None')\n",
        "\n"
      ],
      "metadata": {
        "id": "8PDiv2G0Po8R"
      },
      "execution_count": null,
      "outputs": []
    },
    {
      "cell_type": "code",
      "source": [
        "linked_list = LinkedList()\n",
        "linked_list.insert_at_end(1)\n",
        "linked_list.insert_at_end(2)\n",
        "linked_list.insert_at_end(3)\n",
        "linked_list.display()\n",
        "linked_list.delete_node(2)\n",
        "linked_list.display()\n"
      ],
      "metadata": {
        "colab": {
          "base_uri": "https://localhost:8080/"
        },
        "id": "S9ibPN3zdQcH",
        "outputId": "bbe5d0b4-2ac4-48b9-c31a-0950f25a64e4"
      },
      "execution_count": null,
      "outputs": [
        {
          "output_type": "stream",
          "name": "stdout",
          "text": [
            "1 -> 2 -> 3 -> None\n",
            "1 -> 3 -> None\n"
          ]
        }
      ]
    },
    {
      "cell_type": "markdown",
      "source": [
        "Doubly Liked Lists"
      ],
      "metadata": {
        "id": "W5ebTXcMQ17G"
      }
    },
    {
      "cell_type": "code",
      "source": [
        "class Node:\n",
        "    def __init__(self, data):\n",
        "        self.data = data\n",
        "        self.next = None\n",
        "        self.prev = None\n",
        "\n",
        "class DoublyLinkedList:\n",
        "    def __init__(self):\n",
        "        self.head = None\n",
        "\n",
        "    def insert(self, data):\n",
        "        new_node = Node(data)\n",
        "        if self.head is None:\n",
        "            self.head = new_node\n",
        "        else:\n",
        "            new_node.next = self.head\n",
        "            self.head.prev = new_node\n",
        "            self.head = new_node\n",
        "\n",
        "    def delete(self, key):\n",
        "        current = self.head\n",
        "\n",
        "        while current is not None and current.data != key:\n",
        "            current = current.next\n",
        "\n",
        "        if current is None:\n",
        "            return\n",
        "\n",
        "        if current.prev is not None:\n",
        "            current.prev.next = current.next\n",
        "        else:\n",
        "            self.head = current.next\n",
        "\n",
        "        if current.next is not None:\n",
        "            current.next.prev = current.prev\n",
        "\n",
        "    def display(self):\n",
        "        current = self.head\n",
        "        while current:\n",
        "            print(current.data, end=\" \")\n",
        "            current = current.next\n",
        "        print()\n"
      ],
      "metadata": {
        "id": "2QHV_y4lQ6WS"
      },
      "execution_count": null,
      "outputs": []
    },
    {
      "cell_type": "code",
      "source": [
        "dll = DoublyLinkedList()\n",
        "dll.insert(1)\n",
        "dll.insert(2)\n",
        "dll.insert(3)\n",
        "dll.display()\n",
        "dll.delete(2)\n",
        "dll.display()"
      ],
      "metadata": {
        "colab": {
          "base_uri": "https://localhost:8080/"
        },
        "id": "VryiuidORFC1",
        "outputId": "95c96af9-2856-4e5f-a6c4-42a2e33b81ad"
      },
      "execution_count": null,
      "outputs": [
        {
          "output_type": "stream",
          "name": "stdout",
          "text": [
            "3 2 1 \n",
            "3 1 \n"
          ]
        }
      ]
    },
    {
      "cell_type": "markdown",
      "source": [
        "Circular Linked List"
      ],
      "metadata": {
        "id": "uhXqHBJtRb_h"
      }
    },
    {
      "cell_type": "code",
      "source": [
        "class Node:\n",
        "    def __init__(self, data):\n",
        "        self.data = data\n",
        "        self.next = None\n",
        "\n",
        "class CircularLinkedList:\n",
        "    def __init__(self):\n",
        "        self.head = None\n",
        "\n",
        "    def insert(self, data):\n",
        "        new_node = Node(data)\n",
        "        if self.head is None:\n",
        "            self.head = new_node\n",
        "            new_node.next = self.head\n",
        "        else:\n",
        "            current = self.head\n",
        "            while current.next != self.head:\n",
        "                current = current.next\n",
        "            current.next = new_node\n",
        "            new_node.next = self.head\n",
        "\n",
        "    def delete(self, key):\n",
        "        current = self.head\n",
        "        prev = None\n",
        "\n",
        "        while current and current.data != key:\n",
        "            prev = current\n",
        "            current = current.next\n",
        "\n",
        "        if current == self.head:\n",
        "            prev = self.head\n",
        "            while prev.next != self.head:\n",
        "                prev = prev.next\n",
        "\n",
        "        if current == self.head:\n",
        "            if current.next == self.head:\n",
        "                self.head = None\n",
        "            else:\n",
        "                prev.next = current.next\n",
        "                self.head = current.next\n",
        "        else:\n",
        "            prev.next = current.next\n",
        "\n",
        "    def display(self):\n",
        "        current = self.head\n",
        "        while True:\n",
        "            print(current.data, end=\" \")\n",
        "            current = current.next\n",
        "            if current == self.head:\n",
        "                break\n",
        "        print()\n"
      ],
      "metadata": {
        "id": "BECSFO9iRgX5"
      },
      "execution_count": null,
      "outputs": []
    },
    {
      "cell_type": "code",
      "source": [
        "cll = CircularLinkedList()\n",
        "cll.insert(1)\n",
        "cll.insert(2)\n",
        "cll.insert(3)\n",
        "cll.display()\n",
        "cll.delete(2)\n",
        "cll.display()"
      ],
      "metadata": {
        "colab": {
          "base_uri": "https://localhost:8080/"
        },
        "id": "IGj5s0z5Rt20",
        "outputId": "deffc451-3197-4b44-dc12-d71f50f1dc0e"
      },
      "execution_count": null,
      "outputs": [
        {
          "output_type": "stream",
          "name": "stdout",
          "text": [
            "1 2 3 \n",
            "1 3 \n"
          ]
        }
      ]
    },
    {
      "cell_type": "markdown",
      "source": [
        "### Operations on Linked Lists:\n",
        "\n",
        "Insertion:"
      ],
      "metadata": {
        "id": "AsktVZ6-SKzk"
      }
    },
    {
      "cell_type": "code",
      "source": [
        "#Insertion at the Begining\n",
        "def insert_at_beginning(self, data):\n",
        "    new_node = Node(data)\n",
        "    new_node.next = self.head\n",
        "    self.head = new_node\n",
        "\n",
        "#Insertion at the specific Position\n",
        "def insert_at_position(self, data, position):\n",
        "    new_node = Node(data)\n",
        "    if position == 0:\n",
        "        new_node.next = self.head\n",
        "        self.head = new_node\n",
        "    else:\n",
        "        current = self.head\n",
        "        for _ in range(position - 1):\n",
        "            if current is None:\n",
        "                raise Exception(\"Position out of bounds\")\n",
        "            current = current.next\n",
        "        new_node.next = current.next\n",
        "        current.next = new_node\n"
      ],
      "metadata": {
        "id": "SBQ5LKPPSUJ5"
      },
      "execution_count": null,
      "outputs": []
    },
    {
      "cell_type": "markdown",
      "source": [
        "Deletion:"
      ],
      "metadata": {
        "id": "0oTaZIkYSyu1"
      }
    },
    {
      "cell_type": "code",
      "source": [
        "#Delete at the begining\n",
        "def delete_at_beginning(self):\n",
        "    if not self.head:\n",
        "        raise Exception(\"List is empty\")\n",
        "    self.head = self.head.next\n",
        "\n",
        "# Delete at a Specific Position\n",
        "def delete_at_position(self, position):\n",
        "    if not self.head:\n",
        "        raise Exception(\"List is empty\")\n",
        "    current = self.head\n",
        "    if position == 0:\n",
        "        self.head = current.next\n",
        "    else:\n",
        "        for _ in range(position - 1):\n",
        "            if current is None:\n",
        "                raise Exception(\"Position out of bounds\")\n",
        "            current = current.next\n",
        "        if current is None or current.next is None:\n",
        "            raise Exception(\"Position out of bounds\")\n",
        "        current.next = current.next.next\n"
      ],
      "metadata": {
        "id": "cHbz_uB4SWve"
      },
      "execution_count": null,
      "outputs": []
    },
    {
      "cell_type": "markdown",
      "source": [
        "Traversel"
      ],
      "metadata": {
        "id": "ThfoAmwZTTg0"
      }
    },
    {
      "cell_type": "code",
      "source": [
        "#Traversal and print\n",
        "def display(self):\n",
        "    current = self.head\n",
        "    while current:\n",
        "        print(current.data, end=\" -> \")\n",
        "        current = current.next\n",
        "    print(\"None\")\n"
      ],
      "metadata": {
        "id": "YYIdgFomS6XZ"
      },
      "execution_count": null,
      "outputs": []
    }
  ]
}