{
 "cells": [
  {
   "cell_type": "markdown",
   "id": "a5ec5a85-1b14-4101-a079-de661a1ff177",
   "metadata": {},
   "source": [
    "# 😆 Now, buddy...\n",
    "\n",
    "We have already seen the basics of stacks and queues in BCA, so the repeatition is useless here. But still as said in the array section, I will provide the *notes* for them so that we can understand what things are in sync.\n",
    "\n",
    "Let's get into it."
   ]
  },
  {
   "cell_type": "markdown",
   "id": "46a7a38c-2f4e-4474-946d-658b9d1d6644",
   "metadata": {},
   "source": [
    "# "
   ]
  },
  {
   "cell_type": "markdown",
   "id": "3585a1b2-6071-4603-8fe6-dc7542bfd3d7",
   "metadata": {},
   "source": [
    "## 📚 Stacks "
   ]
  },
  {
   "cell_type": "markdown",
   "id": "1885e6a0-4a0a-4721-87f0-cf55eb0f6547",
   "metadata": {},
   "source": [
    "- A LIFO structure\n",
    "- Operation happens at only one side\n",
    "- That is called \"push\" and \"pop\" from the stack\n",
    "- **useful** for the **reversal** of the stack (array)\n",
    "    - You push (create) and then pop (create another) the items from the back to create reversed stack."
   ]
  },
  {
   "cell_type": "markdown",
   "id": "3f712b37-5996-43e0-a8a6-5572d76bef5c",
   "metadata": {},
   "source": [
    "🛠 **Methods to include**\n",
    "\n",
    "- `Stack()` creates a new stack that is empty. It needs no parameters and returns an empty stack.\n",
    "- `push(item)` adds a new item to the top of the stack. It needs the item and returns nothing.\n",
    "- `pop()` removes the top item from the stack. It needs no parameters and returns the item. The stack is modified.\n",
    "- `peek()` returns the top item from the stack but does not remove it. It needs no parameters. The stack is not modified.\n",
    "- `isEmpty()` tests to see whether the stack is empty. It needs no parameters and returns a boolean value.\n",
    "- `size()` returns the number of items on the stack. It needs no parameters and returns an integer."
   ]
  },
  {
   "cell_type": "markdown",
   "id": "1f2c3664-e8a4-40ce-adb8-4fd7f330008a",
   "metadata": {},
   "source": [
    "#### 👩‍💻 Implementation "
   ]
  },
  {
   "cell_type": "markdown",
   "id": "62add19f-905a-4471-9fd7-9eb2d43152a2",
   "metadata": {},
   "source": [
    "This time **WE ARE NOT DEALING WITH THE `C-ARRAY`** so the library won't be used here. This will be easy to go with and also a great repetation."
   ]
  },
  {
   "cell_type": "code",
   "execution_count": 175,
   "id": "c9bb3751-7685-4f57-b0e0-a0832aee6aa5",
   "metadata": {},
   "outputs": [],
   "source": [
    "class stack:\n",
    "    \"\"\"\n",
    "    A really handy way to use stack in the program\n",
    "    if you don't want to deal into the specifics\n",
    "    use this.\n",
    "    \n",
    "    Involves:\n",
    "    → .push\n",
    "    → .pop\n",
    "    → .isEmpty\n",
    "    → .peek\n",
    "    → .size\n",
    "    \n",
    "    Operations and also alters when there is no elements\n",
    "    are there to show.\n",
    "    \"\"\"\n",
    "    \n",
    "    def __init__(self):\n",
    "        self.stack = []\n",
    "        \n",
    "    def push(self, obj):\n",
    "        self.stack.append(obj)\n",
    "        \n",
    "    def pop(self):\n",
    "        # I know the bad code\n",
    "        # but wanted manual\n",
    "        if not self.isEmpty:\n",
    "            obj = self.stack[-1]\n",
    "            del self.stack[-1]\n",
    "            return obj\n",
    "        raise Exception(\"The stack underflow\")\n",
    "            \n",
    "    def peek(self):\n",
    "        if len(self.stack) > 0:\n",
    "            return self.stack[-1]\n",
    "        raise Exception(\"The stack is empty\")\n",
    "    \n",
    "    @property\n",
    "    def isEmpty(self):\n",
    "        if len(self.stack) == 0:\n",
    "            return True\n",
    "        return False\n",
    "    \n",
    "    @property\n",
    "    def size(self):\n",
    "        return len(self.stack)\n",
    "    \n",
    "    def __repr__(self):\n",
    "        if not self.isEmpty:\n",
    "            string = str(self.stack[-1]) +  \" ← Top\"\n",
    "        else:\n",
    "            string = \"The stack is empty []\"\n",
    "            \n",
    "        for obj in self.stack[-2::-1]:\n",
    "            string += \"\\n\" + str(obj)\n",
    "        return string"
   ]
  },
  {
   "cell_type": "code",
   "execution_count": 176,
   "id": "5b0fc7d5-0025-4aac-8e21-7bfb50678a04",
   "metadata": {},
   "outputs": [],
   "source": [
    "stq = stack()"
   ]
  },
  {
   "cell_type": "code",
   "execution_count": 177,
   "id": "7798cd2c-7c69-4c2f-ae15-f74c203316bf",
   "metadata": {},
   "outputs": [
    {
     "ename": "Exception",
     "evalue": "The stack underflow",
     "output_type": "error",
     "traceback": [
      "\u001b[1;31mException\u001b[0m\u001b[1;31m:\u001b[0m The stack underflow\n"
     ]
    }
   ],
   "source": [
    "stq.pop()"
   ]
  },
  {
   "cell_type": "code",
   "execution_count": 178,
   "id": "e21a3bc4-94a9-4ea5-acb9-f4e5baabd2a8",
   "metadata": {},
   "outputs": [
    {
     "ename": "Exception",
     "evalue": "The stack is empty",
     "output_type": "error",
     "traceback": [
      "\u001b[1;31mException\u001b[0m\u001b[1;31m:\u001b[0m The stack is empty\n"
     ]
    }
   ],
   "source": [
    "stq.peek()"
   ]
  },
  {
   "cell_type": "code",
   "execution_count": 179,
   "id": "d23360fd-12c8-4438-9aaa-fbbb8fdd24c8",
   "metadata": {},
   "outputs": [
    {
     "data": {
      "text/plain": [
       "True"
      ]
     },
     "execution_count": 179,
     "metadata": {},
     "output_type": "execute_result"
    }
   ],
   "source": [
    "stq.isEmpty"
   ]
  },
  {
   "cell_type": "code",
   "execution_count": 180,
   "id": "c79d6858-ac33-4213-9186-3f6f8b64f56c",
   "metadata": {},
   "outputs": [
    {
     "data": {
      "text/plain": [
       "0"
      ]
     },
     "execution_count": 180,
     "metadata": {},
     "output_type": "execute_result"
    }
   ],
   "source": [
    "stq.size"
   ]
  },
  {
   "cell_type": "code",
   "execution_count": 181,
   "id": "1e00101f-c008-4d6e-bb8a-1f6e7a8e131a",
   "metadata": {},
   "outputs": [
    {
     "data": {
      "text/plain": [
       "The stack is empty []"
      ]
     },
     "execution_count": 181,
     "metadata": {},
     "output_type": "execute_result"
    }
   ],
   "source": [
    "stq"
   ]
  },
  {
   "cell_type": "code",
   "execution_count": 182,
   "id": "5d50a3b9-9fda-4a7d-b0ac-5d80e43269cd",
   "metadata": {},
   "outputs": [],
   "source": [
    "stq.push(12)"
   ]
  },
  {
   "cell_type": "code",
   "execution_count": 183,
   "id": "7b7381f1-fcd0-4ed1-90a5-9fa3aa407c11",
   "metadata": {},
   "outputs": [
    {
     "data": {
      "text/plain": [
       "12 ← Top"
      ]
     },
     "execution_count": 183,
     "metadata": {},
     "output_type": "execute_result"
    }
   ],
   "source": [
    "stq"
   ]
  },
  {
   "cell_type": "code",
   "execution_count": 184,
   "id": "f6f64356-abae-46c9-b0fe-347bd71c9706",
   "metadata": {},
   "outputs": [],
   "source": [
    "stq.push(13)\n",
    "stq.push(215)\n",
    "stq.push(1233)\n",
    "stq.push(1322)\n",
    "stq.push(1443)"
   ]
  },
  {
   "cell_type": "code",
   "execution_count": 185,
   "id": "98663a08-3624-452d-bada-407edec1afb2",
   "metadata": {},
   "outputs": [
    {
     "data": {
      "text/plain": [
       "1443 ← Top\n",
       "1322\n",
       "1233\n",
       "215\n",
       "13\n",
       "12"
      ]
     },
     "execution_count": 185,
     "metadata": {},
     "output_type": "execute_result"
    }
   ],
   "source": [
    "stq"
   ]
  },
  {
   "cell_type": "code",
   "execution_count": 186,
   "id": "229126ef-0e7d-4bd8-8e0a-9f7aec2e5fd6",
   "metadata": {},
   "outputs": [
    {
     "data": {
      "text/plain": [
       "1443"
      ]
     },
     "execution_count": 186,
     "metadata": {},
     "output_type": "execute_result"
    }
   ],
   "source": [
    "stq.pop()"
   ]
  },
  {
   "cell_type": "code",
   "execution_count": 187,
   "id": "b265a107-07aa-49d2-8d14-0b6015ac3efd",
   "metadata": {},
   "outputs": [
    {
     "data": {
      "text/plain": [
       "1322"
      ]
     },
     "execution_count": 187,
     "metadata": {},
     "output_type": "execute_result"
    }
   ],
   "source": [
    "stq.peek()"
   ]
  },
  {
   "cell_type": "code",
   "execution_count": 188,
   "id": "8170be28-f5e0-4cf9-a820-713bbcf46a8a",
   "metadata": {},
   "outputs": [
    {
     "data": {
      "text/plain": [
       "1322 ← Top\n",
       "1233\n",
       "215\n",
       "13\n",
       "12"
      ]
     },
     "execution_count": 188,
     "metadata": {},
     "output_type": "execute_result"
    }
   ],
   "source": [
    "stq"
   ]
  },
  {
   "cell_type": "code",
   "execution_count": 189,
   "id": "5a6dfc25-4d62-4922-a7ab-1a4ded2f2b68",
   "metadata": {},
   "outputs": [
    {
     "data": {
      "text/plain": [
       "False"
      ]
     },
     "execution_count": 189,
     "metadata": {},
     "output_type": "execute_result"
    }
   ],
   "source": [
    "stq.isEmpty"
   ]
  },
  {
   "cell_type": "code",
   "execution_count": 190,
   "id": "61e4c6af-2382-4e68-9b77-669b2462a3ad",
   "metadata": {},
   "outputs": [
    {
     "data": {
      "text/plain": [
       "5"
      ]
     },
     "execution_count": 190,
     "metadata": {},
     "output_type": "execute_result"
    }
   ],
   "source": [
    "stq.size"
   ]
  },
  {
   "cell_type": "markdown",
   "id": "b8495139-62cf-48ea-96a2-ff7bfb1d8154",
   "metadata": {},
   "source": [
    "#### Done!"
   ]
  },
  {
   "cell_type": "markdown",
   "id": "b6653be3-0fcf-422d-a682-23e01518c0ed",
   "metadata": {},
   "source": [
    "# "
   ]
  },
  {
   "cell_type": "markdown",
   "id": "0a896c14-be02-4745-9bef-176229af406a",
   "metadata": {},
   "source": [
    "## 👨‍👩‍👦‍👦 Queue "
   ]
  },
  {
   "cell_type": "markdown",
   "id": "af79fab0-db74-4122-9603-90bf63eb0f14",
   "metadata": {},
   "source": [
    "- FIFO type!!\n",
    "- The wait line, you know\n",
    "- The first come, first serve\n",
    "- **Enqueue**: Add an item (*like push*)\n",
    "- **Dequeue**: Emove an item (*like pop*)"
   ]
  },
  {
   "cell_type": "markdown",
   "id": "88dfe4ee-bcab-49b5-95c9-0e6ebf2f386b",
   "metadata": {},
   "source": [
    "🛠 **Methods to include**\n",
    "- `Queue()` creates a new queue that is empty. It needs no parameters and returns an empty queue.\n",
    "- `enqueue(item)` adds a new item to the rear of the queue. It needs the item and returns nothing.\n",
    "- `dequeue()` removes the front item from the queue. It needs no parameters and returns the item. The queue is modified.\n",
    "- `isEmpty()` tests to see whether the queue is empty. It needs no parameters and returns a boolean value.\n",
    "- `size()` returns the number of items in the queue. It needs no parameters and returns an integer."
   ]
  },
  {
   "cell_type": "markdown",
   "id": "9cf7deea-0477-4681-8b68-23b7d3c51503",
   "metadata": {},
   "source": [
    "#### 👩‍💻 Implementation"
   ]
  },
  {
   "cell_type": "code",
   "execution_count": 226,
   "id": "b96f5e8c-2084-4aa4-83ce-3a9e9fc3b1f6",
   "metadata": {},
   "outputs": [],
   "source": [
    "class Queue:\n",
    "    \"\"\"\n",
    "    A really handy way to use queue in the program\n",
    "    if you don't want to deal into the specifics\n",
    "    use this.\n",
    "    \n",
    "    Involves:\n",
    "    → .enqueue\n",
    "    → .dequeue\n",
    "    → .isEmpty\n",
    "    → .size\n",
    "    \n",
    "    Operations and also alters when there is no elements\n",
    "    are there to show.\n",
    "    \"\"\"\n",
    "    \n",
    "    def __init__(self):\n",
    "        self.queue = []\n",
    "        \n",
    "    def enqueue(self, obj):\n",
    "        self.queue.append(obj)\n",
    "        \n",
    "    def dequeue(self):\n",
    "        if not self.isEmpty:\n",
    "            obj = self.queue[0]\n",
    "            del self.queue[0]\n",
    "            return obj\n",
    "        raise Exception(\"Queue underflow error\")\n",
    "\n",
    "    @property\n",
    "    def isEmpty(self):\n",
    "        return self.queue == []\n",
    "        ## ↑ GOOD ONE ↑ ##\n",
    "    \n",
    "    @property\n",
    "    def size(self):\n",
    "        return len(self.queue)\n",
    "    \n",
    "    def __repr__(self):\n",
    "        if self.isEmpty:\n",
    "            return \"The queue is empty [] add by `.enqueue`\"\n",
    "        elif self.size == 1:\n",
    "            return str(self.queue[0]) + \"  \\t← Front & Rear\"\n",
    "        else:\n",
    "            string = str(self.queue[0]) + \"\\t← Front\"\n",
    "            \n",
    "        for obj in self.queue[1:-1]:\n",
    "            string += \"\\n\" + str(obj)\n",
    "            \n",
    "        string += \"\\n\" + str(self.queue[-1]) + \"\\t← Rear\"\n",
    "        return string"
   ]
  },
  {
   "cell_type": "code",
   "execution_count": 227,
   "id": "46e364d5-33d1-469b-a106-3fba8e29ff3f",
   "metadata": {},
   "outputs": [],
   "source": [
    "q = Queue()"
   ]
  },
  {
   "cell_type": "code",
   "execution_count": 228,
   "id": "544168b0-135b-4dc9-b6a8-73483da5f18a",
   "metadata": {},
   "outputs": [
    {
     "data": {
      "text/plain": [
       "The queue is empty [] add by `.enqueue`"
      ]
     },
     "execution_count": 228,
     "metadata": {},
     "output_type": "execute_result"
    }
   ],
   "source": [
    "q"
   ]
  },
  {
   "cell_type": "code",
   "execution_count": 229,
   "id": "c3298551-d45b-461e-98d8-9da767ad5cb7",
   "metadata": {},
   "outputs": [],
   "source": [
    "q.enqueue(12)"
   ]
  },
  {
   "cell_type": "code",
   "execution_count": 230,
   "id": "54b8e3f4-3ba9-4df4-9e39-b69541bac727",
   "metadata": {},
   "outputs": [
    {
     "data": {
      "text/plain": [
       "12  \t← Front & Rear"
      ]
     },
     "execution_count": 230,
     "metadata": {},
     "output_type": "execute_result"
    }
   ],
   "source": [
    "q"
   ]
  },
  {
   "cell_type": "code",
   "execution_count": 231,
   "id": "aaea943d-b41c-4ccd-b3f7-c00c8f225f01",
   "metadata": {},
   "outputs": [],
   "source": [
    "q.enqueue(13)\n",
    "q.enqueue(215)\n",
    "q.enqueue(1233)\n",
    "q.enqueue(1443)"
   ]
  },
  {
   "cell_type": "code",
   "execution_count": 232,
   "id": "b5706502-d152-41e9-82bd-3554814f490f",
   "metadata": {},
   "outputs": [
    {
     "data": {
      "text/plain": [
       "12\t← Front\n",
       "13\n",
       "215\n",
       "1233\n",
       "1443\t← Rear"
      ]
     },
     "execution_count": 232,
     "metadata": {},
     "output_type": "execute_result"
    }
   ],
   "source": [
    "q"
   ]
  },
  {
   "cell_type": "code",
   "execution_count": 233,
   "id": "c738d267-b6d9-4b2c-854e-312466d34536",
   "metadata": {},
   "outputs": [],
   "source": [
    "q.enqueue(\"Shah\")"
   ]
  },
  {
   "cell_type": "code",
   "execution_count": 234,
   "id": "d5601e2b-365e-451b-a74e-bd5488c8ab05",
   "metadata": {},
   "outputs": [
    {
     "data": {
      "text/plain": [
       "12\t← Front\n",
       "13\n",
       "215\n",
       "1233\n",
       "1443\n",
       "Shah\t← Rear"
      ]
     },
     "execution_count": 234,
     "metadata": {},
     "output_type": "execute_result"
    }
   ],
   "source": [
    "q"
   ]
  },
  {
   "cell_type": "code",
   "execution_count": 236,
   "id": "4987c4c5-3745-41a7-b80e-ed9d468edc29",
   "metadata": {},
   "outputs": [
    {
     "data": {
      "text/plain": [
       "12"
      ]
     },
     "execution_count": 236,
     "metadata": {},
     "output_type": "execute_result"
    }
   ],
   "source": [
    "q.dequeue()"
   ]
  },
  {
   "cell_type": "code",
   "execution_count": 237,
   "id": "28f6a5df-eea9-42c3-bf10-2e589613df12",
   "metadata": {},
   "outputs": [
    {
     "data": {
      "text/plain": [
       "13\t← Front\n",
       "215\n",
       "1233\n",
       "1443\n",
       "Shah\t← Rear"
      ]
     },
     "execution_count": 237,
     "metadata": {},
     "output_type": "execute_result"
    }
   ],
   "source": [
    "q"
   ]
  },
  {
   "cell_type": "markdown",
   "id": "daca4d6a-d4d5-4627-ab15-f3f15a0b7b35",
   "metadata": {},
   "source": [
    "### Done! "
   ]
  },
  {
   "cell_type": "markdown",
   "id": "d05113f0-f40a-4e5d-ad23-3cb34674ed38",
   "metadata": {},
   "source": [
    "# "
   ]
  },
  {
   "cell_type": "markdown",
   "id": "9125479f-6259-469c-a0b9-fefd504f21cc",
   "metadata": {},
   "source": [
    "##  👨‍👩‍👦‍👦 Deque"
   ]
  },
  {
   "cell_type": "markdown",
   "id": "6ca20495-831e-4426-8971-d7dda85fc214",
   "metadata": {},
   "source": [
    "See! This is **NOT** `dequeue`. It is `deque`. It is the data structure like the stack and queue. "
   ]
  },
  {
   "cell_type": "markdown",
   "id": "5636dd72-5fc7-4a1a-b342-e5bbe11df691",
   "metadata": {},
   "source": [
    "**Deque**:\n",
    "- It is \"Double Ended Queue\"\n",
    "- Items can be **added & removed** from **both** ends\n",
    "- Generally we ***should*** implement this using \"liked lists\" as the removal and addition would require the **shifting** of the object in the array, which has too much cost\n",
    "- But for the sake of this, we will implement this using simple python\n",
    "- Remember, there **is already the efficient** implementation of deque in python which internally uses the \"linked list\" kind of structure available in → `from collections import deque`"
   ]
  },
  {
   "cell_type": "markdown",
   "id": "5b4ffcef-27c2-4eb8-add1-7c564e5f8bba",
   "metadata": {},
   "source": [
    "🛠 **Methods to include**\n",
    "\n",
    "- `Deque()` creates a new deque that is empty. It needs no parameters and returns an empty deque.\n",
    "- `addFront(item)` adds a new item to the front of the deque. It needs the item and returns nothing.\n",
    "- `addRear(item)` adds a new item to the rear of the deque. It needs the item and returns nothing.\n",
    "- `removeFront()` removes the front item from the deque. It needs no parameters and returns the item. The deque is modified.\n",
    "- `removeRear()` removes the rear item from the deque. It needs no parameters and returns the item. The deque is modified.\n",
    "- `isEmpty()` tests to see whether the deque is empty. It needs no parameters and returns a boolean value.\n",
    "- `size()`returns the number of items in the deque. It needs no parameters and returns an integer."
   ]
  },
  {
   "cell_type": "markdown",
   "id": "57b9325b-c7ca-4cf6-a1fa-83a6541c1043",
   "metadata": {},
   "source": [
    "#### 👩‍💻 Implementation"
   ]
  },
  {
   "cell_type": "code",
   "execution_count": 277,
   "id": "9bb80e16-9ed3-4c33-a480-5e904d957069",
   "metadata": {},
   "outputs": [],
   "source": [
    "class Deque:\n",
    "    \"\"\"\n",
    "    DOC REquired\n",
    "    \"\"\"\n",
    "    \n",
    "    def __init__(self):\n",
    "        self.deque = []\n",
    "        \n",
    "    @property\n",
    "    def isEmpty(self):\n",
    "        return self.deque == []\n",
    "    \n",
    "    @property\n",
    "    def size(self):\n",
    "        return len(self.deque)\n",
    "    \n",
    "    def addRear(self, obj):\n",
    "        self.deque.append(obj)\n",
    "        \n",
    "    def addFront(self, obj):\n",
    "        self.deque.insert(0, obj)\n",
    "        \n",
    "    def removeFront(self):\n",
    "        if not self.isEmpty:\n",
    "            return self.deque.pop(0)\n",
    "        raise Exception(\"No elements left\")\n",
    "    \n",
    "    def removeRear(self):\n",
    "        if not self.isEmpty:\n",
    "            return self.deque.pop()\n",
    "        raise Exception(\"No elements left\")\n",
    "    \n",
    "    def __repr__(self):\n",
    "        if self.isEmpty:\n",
    "            return \"The queue is empty [] add by `.addRear` / `.addFront`\"\n",
    "        elif self.size == 1:\n",
    "            return str(self.deque[0]) + \"  \\t← Front & Rear\"\n",
    "        else:\n",
    "            string = str(self.deque[0]) + \"\\t← Front\"\n",
    "            \n",
    "        for obj in self.deque[1:-1]:\n",
    "            string += \"\\n\" + str(obj)\n",
    "            \n",
    "        string += \"\\n\" + str(self.deque[-1]) + \"\\t← Rear\"\n",
    "        return string"
   ]
  },
  {
   "cell_type": "code",
   "execution_count": 278,
   "id": "454b27b5-8873-4c6c-82cd-d9167cfa2c98",
   "metadata": {},
   "outputs": [],
   "source": [
    "dq = Deque()"
   ]
  },
  {
   "cell_type": "code",
   "execution_count": 279,
   "id": "730eea6e-b22d-4fe1-9b30-534c961ee53e",
   "metadata": {},
   "outputs": [
    {
     "data": {
      "text/plain": [
       "The queue is empty [] add by `.addRear` / `.addFront`"
      ]
     },
     "execution_count": 279,
     "metadata": {},
     "output_type": "execute_result"
    }
   ],
   "source": [
    "dq"
   ]
  },
  {
   "cell_type": "code",
   "execution_count": 280,
   "id": "f098fe6f-ec7d-499a-9a03-b87c1c09be74",
   "metadata": {},
   "outputs": [],
   "source": [
    "dq.addFront(20)"
   ]
  },
  {
   "cell_type": "code",
   "execution_count": 281,
   "id": "7f116d54-fc9e-4710-8ff4-db9931591ee0",
   "metadata": {},
   "outputs": [
    {
     "data": {
      "text/plain": [
       "20  \t← Front & Rear"
      ]
     },
     "execution_count": 281,
     "metadata": {},
     "output_type": "execute_result"
    }
   ],
   "source": [
    "dq"
   ]
  },
  {
   "cell_type": "code",
   "execution_count": 282,
   "id": "3da6a744-7a66-4fd4-a502-497c610869ae",
   "metadata": {},
   "outputs": [
    {
     "data": {
      "text/plain": [
       "123\t← Front\n",
       "20\t← Rear"
      ]
     },
     "execution_count": 282,
     "metadata": {},
     "output_type": "execute_result"
    }
   ],
   "source": [
    "dq.addFront(123)\n",
    "dq"
   ]
  },
  {
   "cell_type": "code",
   "execution_count": 283,
   "id": "f91e1cc5-a40f-4404-854a-37e593bf5c66",
   "metadata": {},
   "outputs": [
    {
     "data": {
      "text/plain": [
       "1000\t← Front\n",
       "123\n",
       "20\t← Rear"
      ]
     },
     "execution_count": 283,
     "metadata": {},
     "output_type": "execute_result"
    }
   ],
   "source": [
    "dq.addFront(1000)\n",
    "dq"
   ]
  },
  {
   "cell_type": "code",
   "execution_count": 284,
   "id": "125a8b43-d518-4256-95ab-8f1ed4519fe8",
   "metadata": {},
   "outputs": [
    {
     "data": {
      "text/plain": [
       "1000\t← Front\n",
       "123\n",
       "20\n",
       "500\t← Rear"
      ]
     },
     "execution_count": 284,
     "metadata": {},
     "output_type": "execute_result"
    }
   ],
   "source": [
    "dq.addRear(500)\n",
    "dq"
   ]
  },
  {
   "cell_type": "code",
   "execution_count": 285,
   "id": "9c4a4b04-6aa2-4f09-b645-dd0377311ba1",
   "metadata": {},
   "outputs": [
    {
     "data": {
      "text/plain": [
       "1000\t← Front\n",
       "123\n",
       "20\n",
       "500\n",
       "5000\t← Rear"
      ]
     },
     "execution_count": 285,
     "metadata": {},
     "output_type": "execute_result"
    }
   ],
   "source": [
    "dq.addRear(5000)\n",
    "dq"
   ]
  },
  {
   "cell_type": "code",
   "execution_count": 286,
   "id": "0c17d6a6-a0df-49a0-834e-b0b379e57aa1",
   "metadata": {},
   "outputs": [
    {
     "data": {
      "text/plain": [
       "123\t← Front\n",
       "20\n",
       "500\n",
       "5000\t← Rear"
      ]
     },
     "execution_count": 286,
     "metadata": {},
     "output_type": "execute_result"
    }
   ],
   "source": [
    "dq.removeFront()\n",
    "dq"
   ]
  },
  {
   "cell_type": "code",
   "execution_count": 287,
   "id": "5c24990a-d8c3-4ccd-9700-021c70cc45a2",
   "metadata": {},
   "outputs": [
    {
     "data": {
      "text/plain": [
       "123\t← Front\n",
       "20\n",
       "500\t← Rear"
      ]
     },
     "execution_count": 287,
     "metadata": {},
     "output_type": "execute_result"
    }
   ],
   "source": [
    "dq.removeRear()\n",
    "dq"
   ]
  },
  {
   "cell_type": "code",
   "execution_count": 288,
   "id": "51211db5-b3fd-4a0a-ba8c-cbf3620d96be",
   "metadata": {},
   "outputs": [
    {
     "data": {
      "text/plain": [
       "123\t← Front\n",
       "20\t← Rear"
      ]
     },
     "execution_count": 288,
     "metadata": {},
     "output_type": "execute_result"
    }
   ],
   "source": [
    "dq.removeRear()\n",
    "dq"
   ]
  },
  {
   "cell_type": "code",
   "execution_count": 289,
   "id": "e72c370b-57ab-49b6-946f-58b290153dbd",
   "metadata": {},
   "outputs": [
    {
     "data": {
      "text/plain": [
       "123"
      ]
     },
     "execution_count": 289,
     "metadata": {},
     "output_type": "execute_result"
    }
   ],
   "source": [
    "dq.removeRear()\n",
    "dq.removeRear()"
   ]
  },
  {
   "cell_type": "code",
   "execution_count": 293,
   "id": "711a109d-c476-4c2f-89d0-d4220c2f2cd1",
   "metadata": {},
   "outputs": [
    {
     "ename": "Exception",
     "evalue": "No elements left",
     "output_type": "error",
     "traceback": [
      "\u001b[1;31mException\u001b[0m\u001b[1;31m:\u001b[0m No elements left\n"
     ]
    }
   ],
   "source": [
    "dq.removeRear()"
   ]
  },
  {
   "cell_type": "markdown",
   "id": "2f6f2455-f337-4840-aa19-4aea43b6d536",
   "metadata": {},
   "source": [
    "#### Done!"
   ]
  },
  {
   "cell_type": "markdown",
   "id": "7482f51c-8a78-4cfd-8ba5-dd31d6d12287",
   "metadata": {},
   "source": [
    "# "
   ]
  },
  {
   "cell_type": "markdown",
   "id": "1fb3fb9e-0f86-4b98-91d5-f76869127b15",
   "metadata": {},
   "source": [
    "#  Next up,\n",
    "We will se a couple of interview problems"
   ]
  },
  {
   "cell_type": "markdown",
   "id": "3ab61773-5b68-4713-9245-072c5822facd",
   "metadata": {},
   "source": [
    "# "
   ]
  }
 ],
 "metadata": {
  "kernelspec": {
   "display_name": "Python 3 (ipykernel)",
   "language": "python",
   "name": "python3"
  },
  "language_info": {
   "codemirror_mode": {
    "name": "ipython",
    "version": 3
   },
   "file_extension": ".py",
   "mimetype": "text/x-python",
   "name": "python",
   "nbconvert_exporter": "python",
   "pygments_lexer": "ipython3",
   "version": "3.9.7"
  }
 },
 "nbformat": 4,
 "nbformat_minor": 5
}
