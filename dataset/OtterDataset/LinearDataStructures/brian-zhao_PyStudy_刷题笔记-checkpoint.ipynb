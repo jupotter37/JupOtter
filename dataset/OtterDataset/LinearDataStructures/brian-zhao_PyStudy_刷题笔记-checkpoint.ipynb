{
 "cells": [
  {
   "cell_type": "markdown",
   "metadata": {},
   "source": [
    "## 算法快速入门 (Algorithm)\n",
    "\n",
    "\n",
    "### 题目示例\n",
    "[Implement strStr()](https://leetcode-cn.com/problems/implement-strstr/)\n",
    "\n",
    "Return the index of the first occurrence of needle in haystack, or -1 if needle is not part of haystack."
   ]
  },
  {
   "cell_type": "code",
   "execution_count": 1,
   "metadata": {},
   "outputs": [],
   "source": [
    "class Solution:\n",
    "    def strStr(self, haystack: str, needle: str) -> int:\n",
    "        m = len(needle)\n",
    "        for i in range(len(haystack)-m+1):\n",
    "            if haystack[i:m+i] == needle:\n",
    "                return i\n",
    "        return -1"
   ]
  },
  {
   "cell_type": "markdown",
   "metadata": {},
   "source": [
    "[Subsets](https://leetcode-cn.com/problems/subsets/)\n",
    "\n",
    "Given a set of distinct integers, nums, return all possible subsets (the power set).\n"
   ]
  },
  {
   "cell_type": "markdown",
   "metadata": {},
   "source": [
    "* Iterator"
   ]
  },
  {
   "cell_type": "code",
   "execution_count": 4,
   "metadata": {},
   "outputs": [],
   "source": [
    "from typing import List\n",
    "class Solution:\n",
    "    def subsets(self, nums: List[int]) -> List[List[int]]:\n",
    "        res = [[]]\n",
    "        for i in nums:\n",
    "            res = res + [[i] + num for num in res]\n",
    "        return res"
   ]
  },
  {
   "cell_type": "markdown",
   "metadata": {},
   "source": [
    "* Recursive"
   ]
  },
  {
   "cell_type": "code",
   "execution_count": 5,
   "metadata": {},
   "outputs": [],
   "source": [
    "from typing import List\n",
    "class Solution:\n",
    "    def subsets(self, nums: List[int]) -> List[List[int]]:\n",
    "        res = []\n",
    "        n = len(nums)\n",
    "        \n",
    "        def helper(i, tmp):\n",
    "            res.append(tmp)\n",
    "            for j in range(i, n):\n",
    "                helper(j + 1,tmp + [nums[j]] )\n",
    "        \n",
    "        helper(0, [])\n",
    "        return res  "
   ]
  },
  {
   "cell_type": "markdown",
   "metadata": {},
   "source": [
    "* Python libary"
   ]
  },
  {
   "cell_type": "code",
   "execution_count": 6,
   "metadata": {},
   "outputs": [],
   "source": [
    "from typing import List\n",
    "class Solution:\n",
    "    def subsets(self, nums: List[int]) -> List[List[int]]:\n",
    "        res = []\n",
    "        for i in range(len(nums)+1):\n",
    "            for tmp in itertools.combinations(nums, i):\n",
    "                res.append(tmp)\n",
    "        return res"
   ]
  },
  {
   "cell_type": "markdown",
   "metadata": {},
   "source": [
    "## 二叉树 (Binary Tree)\n",
    "\n",
    "### 构建树 "
   ]
  },
  {
   "cell_type": "code",
   "execution_count": 17,
   "metadata": {},
   "outputs": [],
   "source": [
    "class TreeNode:\n",
    "     def __init__(self, x):\n",
    "         self.val = x\n",
    "         self.left = None\n",
    "         self.right = None\n",
    " \n",
    "a = TreeNode(1)\n",
    "b = TreeNode(2)\n",
    "c = TreeNode(3)\n",
    "d = TreeNode(4)\n",
    "e = TreeNode(5)\n",
    "f = TreeNode(6)\n",
    "g = TreeNode(7)\n",
    " \n",
    "a.left = b\n",
    "a.right = c\n",
    "b.left = d\n",
    "b.right = e\n",
    "c.left = f\n",
    "c.right = g"
   ]
  },
  {
   "cell_type": "markdown",
   "metadata": {},
   "source": [
    "![Binary Tree](./binary_tree.png)"
   ]
  },
  {
   "cell_type": "markdown",
   "metadata": {},
   "source": [
    "### 前序遍历"
   ]
  },
  {
   "cell_type": "code",
   "execution_count": 23,
   "metadata": {
    "scrolled": true
   },
   "outputs": [
    {
     "name": "stdout",
     "output_type": "stream",
     "text": [
      "1\n",
      "2\n",
      "4\n",
      "5\n",
      "3\n",
      "6\n",
      "7\n"
     ]
    }
   ],
   "source": [
    "# 前序遍历\n",
    "# 根节点->左子树->右子树\n",
    "# 先序打印二叉树（递归）\n",
    "def preOrderTraverse(node):\n",
    "    if not node:\n",
    "        return None\n",
    "    print(node.val)\n",
    "    preOrderTraverse(node.left)\n",
    "    preOrderTraverse(node.right)\n",
    "preOrderTraverse(a)"
   ]
  },
  {
   "cell_type": "code",
   "execution_count": 16,
   "metadata": {},
   "outputs": [
    {
     "name": "stdout",
     "output_type": "stream",
     "text": [
      "1\n",
      "2\n",
      "4\n",
      "5\n",
      "3\n",
      "6\n",
      "7\n"
     ]
    }
   ],
   "source": [
    "# 先序打印二叉树（非递归）\n",
    "def preOrderTravese(node):\n",
    "    stack = [node]\n",
    "    while len(stack) > 0:\n",
    "        print(node.val)\n",
    "        if node.right:\n",
    "            stack.append(node.right)\n",
    "        if node.left:\n",
    "            stack.append(node.left)\n",
    "        node = stack.pop()\n",
    "preOrderTravese(a)"
   ]
  },
  {
   "cell_type": "markdown",
   "metadata": {},
   "source": [
    "### 中序遍历\n",
    "左子树->根节点->右子树\n"
   ]
  },
  {
   "cell_type": "code",
   "execution_count": 19,
   "metadata": {},
   "outputs": [
    {
     "name": "stdout",
     "output_type": "stream",
     "text": [
      "4\n",
      "2\n",
      "5\n",
      "1\n",
      "6\n",
      "3\n",
      "7\n"
     ]
    }
   ],
   "source": [
    "# 中序打印二叉树（递归）\n",
    "def inOrderTraverse(node):\n",
    "    if node is None:\n",
    "        return None\n",
    "    inOrderTraverse(node.left)\n",
    "    print(node.val)\n",
    "    inOrderTraverse(node.right)\n",
    "inOrderTraverse(a)"
   ]
  },
  {
   "cell_type": "code",
   "execution_count": 21,
   "metadata": {},
   "outputs": [
    {
     "name": "stdout",
     "output_type": "stream",
     "text": [
      "4\n",
      "2\n",
      "5\n",
      "1\n",
      "6\n",
      "3\n",
      "7\n"
     ]
    }
   ],
   "source": [
    "# 中序打印二叉树（非递归）\n",
    "def inOrderTraverse(node):\n",
    "    stack = []\n",
    "    pos = node\n",
    "    while pos or len(stack) > 0:\n",
    "        if pos:\n",
    "            stack.append(pos)\n",
    "            pos = pos.left\n",
    "        else:\n",
    "            pos = stack.pop()\n",
    "            print(pos.val)\n",
    "            pos = pos.right\n",
    "inOrderTraverse(a)"
   ]
  },
  {
   "cell_type": "markdown",
   "metadata": {},
   "source": [
    "### 后序遍历\n",
    "左子树->右子树->根节点"
   ]
  },
  {
   "cell_type": "code",
   "execution_count": 24,
   "metadata": {},
   "outputs": [
    {
     "name": "stdout",
     "output_type": "stream",
     "text": [
      "4\n",
      "5\n",
      "2\n",
      "6\n",
      "7\n",
      "3\n",
      "1\n"
     ]
    }
   ],
   "source": [
    "# 后序打印二叉树（递归）\n",
    "def postOrderTraverse(node):\n",
    "    if node is None:\n",
    "        return None\n",
    "    postOrderTraverse(node.left)\n",
    "    postOrderTraverse(node.right)\n",
    "    print(node.val)\n",
    "postOrderTraverse(a)"
   ]
  },
  {
   "cell_type": "code",
   "execution_count": 25,
   "metadata": {},
   "outputs": [
    {
     "name": "stdout",
     "output_type": "stream",
     "text": [
      "4\n",
      "5\n",
      "2\n",
      "6\n",
      "7\n",
      "3\n",
      "1\n"
     ]
    }
   ],
   "source": [
    "# 后序打印二叉树（非递归）\n",
    "# 使用两个栈结构\n",
    "# 第一个栈进栈顺序：左节点->右节点->跟节点\n",
    "# 第一个栈弹出顺序： 跟节点->右节点->左节点(先序遍历栈弹出顺序：跟->左->右)\n",
    "# 第二个栈存储为第一个栈的每个弹出依次进栈\n",
    "# 最后第二个栈依次出栈\n",
    "def postOrderTraverse(node):\n",
    "    stack = [node]\n",
    "    stack2 = []\n",
    "    while len(stack) > 0:\n",
    "        node = stack.pop()\n",
    "        stack2.append(node)\n",
    "        if node.left is not None:\n",
    "            stack.append(node.left)\n",
    "        if node.right is not None:\n",
    "            stack.append(node.right)\n",
    "    while len(stack2) > 0:\n",
    "        print(stack2.pop().val)\n",
    "postOrderTraverse(a)"
   ]
  },
  {
   "cell_type": "markdown",
   "metadata": {},
   "source": [
    "### 层次遍历\n",
    "逐层遍历"
   ]
  },
  {
   "cell_type": "code",
   "execution_count": 33,
   "metadata": {},
   "outputs": [
    {
     "name": "stdout",
     "output_type": "stream",
     "text": [
      "1\n",
      "2\n",
      "3\n",
      "4\n",
      "5\n",
      "6\n",
      "7\n"
     ]
    }
   ],
   "source": [
    "def layerTraverse(node):\n",
    "    \n",
    "    if not node:\n",
    "        return None\n",
    " \n",
    "    queue = []  \n",
    "    queue.append(node)\n",
    "    while len(queue) > 0:\n",
    "        tmp = queue.pop(0)\n",
    "        if not tmp:\n",
    "            continue\n",
    "        print(tmp.val)\n",
    "        if node.left:\n",
    "            queue.append(tmp.left)\n",
    "        if node.right:\n",
    "            queue.append(tmp.right)\n",
    "layerTraverse(a)"
   ]
  },
  {
   "cell_type": "markdown",
   "metadata": {},
   "source": [
    "## DFS 深度搜索-从上到下"
   ]
  },
  {
   "cell_type": "code",
   "execution_count": 35,
   "metadata": {},
   "outputs": [
    {
     "name": "stdout",
     "output_type": "stream",
     "text": [
      "1\n",
      "2\n",
      "4\n",
      "5\n",
      "3\n",
      "6\n",
      "7\n"
     ]
    }
   ],
   "source": [
    "class Tree():\n",
    "    # 树类\n",
    "    def __init__(self):\n",
    "        self.root = Node()\n",
    "    \n",
    "    def DFS(self,root):\n",
    "        if root == None:\n",
    "            return\n",
    "        print(root.val)\n",
    "        self.DFS(root.left)\n",
    "        self.DFS(root.right)\n",
    "\n",
    "tree = Tree()\n",
    "tree.DFS(a)"
   ]
  },
  {
   "cell_type": "markdown",
   "metadata": {},
   "source": [
    "## BFS 层次遍历"
   ]
  },
  {
   "cell_type": "code",
   "execution_count": 39,
   "metadata": {},
   "outputs": [
    {
     "name": "stdout",
     "output_type": "stream",
     "text": [
      "1\n",
      "2\n",
      "3\n",
      "4\n",
      "5\n",
      "6\n",
      "7\n"
     ]
    }
   ],
   "source": [
    "def breadth_travel(root):\n",
    "    \"\"\"利用队列实现树的层次遍历\"\"\"\n",
    "    if root == None:\n",
    "        return\n",
    "    queue = []\n",
    "    queue.append(root)\n",
    "    while queue:\n",
    "        node = queue.pop(0)\n",
    "        print(node.val)\n",
    "        if node.left != None:\n",
    "            queue.append(node.left)\n",
    "        if node.right != None:\n",
    "            queue.append(node.right)\n",
    "breadth_travel(a)"
   ]
  },
  {
   "cell_type": "markdown",
   "metadata": {},
   "source": [
    "## 分治法应用 (divid and conquer)\n",
    "\n",
    "### 分治法模板\n",
    "* 递归返回条件\n",
    "* 分段处理\n",
    "* 合并结果"
   ]
  },
  {
   "cell_type": "code",
   "execution_count": 41,
   "metadata": {},
   "outputs": [],
   "source": [
    "def traversal(root):\n",
    "    if not root:\n",
    "        pass\n",
    "        # do something and return\n",
    "    \n",
    "    # Divide\n",
    "    left = traversal(root.left)\n",
    "    right = traversal(root.right)\n",
    "    \n",
    "    # Conquer\n",
    "    # result = Merge from left and right\n",
    "    return result"
   ]
  },
  {
   "cell_type": "markdown",
   "metadata": {},
   "source": [
    "### 归并排序 (Merge Sort)\n",
    "O(N * LogN)"
   ]
  },
  {
   "cell_type": "code",
   "execution_count": 42,
   "metadata": {},
   "outputs": [
    {
     "name": "stdout",
     "output_type": "stream",
     "text": [
      "[17, 20, 26, 31, 44, 54, 55, 77, 93]\n"
     ]
    }
   ],
   "source": [
    "def mergeSort(myList):\n",
    "    if len(myList) > 1:\n",
    "        mid = len(myList) // 2\n",
    "        left = myList[:mid]\n",
    "        right = myList[mid:]\n",
    "\n",
    "        # Recursive call on each half\n",
    "        mergeSort(left)\n",
    "        mergeSort(right)\n",
    "\n",
    "        # Two iterators for traversing the two halves\n",
    "        i = 0\n",
    "        j = 0\n",
    "        \n",
    "        # Iterator for the main list\n",
    "        k = 0\n",
    "        \n",
    "        while i < len(left) and j < len(right):\n",
    "            if left[i] < right[j]:\n",
    "              # The value from the left half has been used\n",
    "              myList[k] = left[i]\n",
    "              # Move the iterator forward\n",
    "              i += 1\n",
    "            else:\n",
    "                myList[k] = right[j]\n",
    "                j += 1\n",
    "            # Move to the next slot\n",
    "            k += 1\n",
    "\n",
    "        # For all the remaining values\n",
    "        while i < len(left):\n",
    "            myList[k] = left[i]\n",
    "            i += 1\n",
    "            k += 1\n",
    "\n",
    "        while j < len(right):\n",
    "            myList[k]=right[j]\n",
    "            j += 1\n",
    "            k += 1\n",
    "\n",
    "myList = [54,26,93,17,77,31,44,55,20]\n",
    "mergeSort(myList)\n",
    "print(myList)"
   ]
  },
  {
   "cell_type": "markdown",
   "metadata": {},
   "source": [
    "## 快速排序 (Quick Sort)"
   ]
  },
  {
   "cell_type": "code",
   "execution_count": 44,
   "metadata": {},
   "outputs": [
    {
     "name": "stdout",
     "output_type": "stream",
     "text": [
      "sorted array is: [1, 5, 7, 8, 9, 10]\n"
     ]
    }
   ],
   "source": [
    "def partition(arr,low,high): \n",
    "    i = ( low-1 )         # index of smaller element \n",
    "    pivot = arr[high]     # pivot \n",
    "  \n",
    "    for j in range(low , high): \n",
    "  \n",
    "        # If current element is smaller than or \n",
    "        # equal to pivot \n",
    "        if   arr[j] <= pivot: \n",
    "          \n",
    "            # increment index of smaller element \n",
    "            i = i+1 \n",
    "            arr[i],arr[j] = arr[j],arr[i] \n",
    "  \n",
    "    arr[i+1],arr[high] = arr[high],arr[i+1] \n",
    "    return ( i+1 ) \n",
    "  \n",
    "\n",
    "# Function to do Quick sort \n",
    "def quickSort(arr,low,high):\n",
    "    \"\"\"The main function that implements QuickSort \n",
    "    arr[] --> Array to be sorted, \n",
    "    low  --> Starting index, \n",
    "    high  --> Ending index \n",
    "    \"\"\"\n",
    "    if low < high: \n",
    "  \n",
    "        # pi is partitioning index, arr[p] is now \n",
    "        # at right place \n",
    "        pi = partition(arr,low,high) \n",
    "  \n",
    "        # Separately sort elements before \n",
    "        # partition and after partition \n",
    "        quickSort(arr, low, pi-1) \n",
    "        quickSort(arr, pi+1, high) \n",
    "\n",
    "arr = [10, 7, 8, 9, 1, 5] \n",
    "n = len(arr) \n",
    "quickSort(arr,0,n-1) \n",
    "print (f\"sorted array is: {arr}\")"
   ]
  },
  {
   "cell_type": "markdown",
   "metadata": {},
   "source": [
    "## 常见题目示例\n",
    "[maximum-depth-of-binary-tree](https://leetcode-cn.com/problems/maximum-depth-of-binary-tree/)\n",
    "Given a binary tree, find its maximum depth.\n",
    "\n",
    "The maximum depth is the number of nodes along the longest path from the root node down to the farthest leaf node."
   ]
  },
  {
   "cell_type": "code",
   "execution_count": 45,
   "metadata": {},
   "outputs": [],
   "source": [
    "class Solution:\n",
    "    def maxDepth(self, root: TreeNode) -> int:\n",
    "        if not root:\n",
    "            return 0\n",
    "        else:\n",
    "            return 1 + max(self.maxDepth(root.left), self.maxDepth(root.right))"
   ]
  },
  {
   "cell_type": "markdown",
   "metadata": {},
   "source": [
    "[balanced-binary-tree](https://leetcode-cn.com/problems/balanced-binary-tree/)\n",
    "\n",
    "Given a binary tree, determine if it is height-balanced."
   ]
  },
  {
   "cell_type": "code",
   "execution_count": 46,
   "metadata": {},
   "outputs": [],
   "source": [
    "class Solution:\n",
    "    def maxDepth(self, root: TreeNode) -> int:\n",
    "        if not root:\n",
    "            return 0\n",
    "        left = self.maxDepth(root.left)\n",
    "        right = self.maxDepth(root.right)\n",
    "        if left == -1 or right == -1 or left-right > 1 or right - left > 1:\n",
    "            return -1\n",
    "        \n",
    "        if left > right :\n",
    "            return left + 1\n",
    "        else:\n",
    "            return right + 1\n",
    "        \n",
    "        \n",
    "    def isBalanced(self, root: TreeNode) -> bool:\n",
    "        if self.maxDepth(root) == -1:\n",
    "            return False\n",
    "        return True"
   ]
  },
  {
   "cell_type": "markdown",
   "metadata": {},
   "source": [
    "[binary-tree-maximum-path-sum](https://leetcode-cn.com/problems/binary-tree-maximum-path-sum/)\n",
    "\n",
    "Given a non-empty binary tree, find the maximum path sum."
   ]
  },
  {
   "cell_type": "code",
   "execution_count": 47,
   "metadata": {},
   "outputs": [],
   "source": [
    "class Solution:\n",
    "    def __init__(self):\n",
    "        self.max_path = float('-inf')\n",
    "        \n",
    "    def getMax(self, root):\n",
    "        if not root:\n",
    "            return 0\n",
    "        \n",
    "        left = max(0, self.getMax(root.left))\n",
    "        right = max(0, self.getMax(root.right))\n",
    "        \n",
    "        self.max_path = max(self.max_path, left + right + root.val)\n",
    "        \n",
    "        return max(left, right) + root.val\n",
    "        \n",
    "    def maxPathSum(self, root: TreeNode) -> int:\n",
    "        if not root:\n",
    "            return 0\n",
    "        \n",
    "        self.getMax(root)\n",
    "        return self.max_path"
   ]
  },
  {
   "cell_type": "markdown",
   "metadata": {},
   "source": [
    "[lowest-common-ancestor-of-a-binary-tree](https://leetcode-cn.com/problems/lowest-common-ancestor-of-a-binary-tree/)\n",
    "\n",
    "Given a binary tree, find the lowest common ancestor (LCA) of two given nodes in the tree.\n"
   ]
  },
  {
   "cell_type": "code",
   "execution_count": 48,
   "metadata": {},
   "outputs": [],
   "source": [
    "class Solution:\n",
    "    def lowestCommonAncestor(self, root: 'TreeNode', p: 'TreeNode', q: 'TreeNode') -> 'TreeNode':\n",
    "        if not root or root == p or root == q:\n",
    "            return root\n",
    "        else:\n",
    "            left = self.lowestCommonAncestor(root.left, p, q)\n",
    "            right = self.lowestCommonAncestor(root.right, p, q)\n",
    "            \n",
    "            if left and right:\n",
    "                return root\n",
    "            elif left:\n",
    "                return left\n",
    "            elif right:\n",
    "                return right\n",
    "            else:\n",
    "                return"
   ]
  },
  {
   "cell_type": "markdown",
   "metadata": {},
   "source": [
    "[binary-tree-level-order-traversal](https://leetcode-cn.com/problems/binary-tree-level-order-traversal/)\n",
    "\n",
    "Given a binary tree, return the level order traversal of its nodes' values. (ie, from left to right, level by level).\n"
   ]
  },
  {
   "cell_type": "code",
   "execution_count": 49,
   "metadata": {},
   "outputs": [],
   "source": [
    "class Solution:\n",
    "    def levelOrder(self, root: TreeNode) -> List[List[int]]:\n",
    "        if root == None:\n",
    "            return [] \n",
    "        \n",
    "        queue = collections.deque()\n",
    "        queue.append(root)\n",
    "        res = []\n",
    "        while queue:\n",
    "            size = len(queue)\n",
    "            level = []\n",
    "            for _ in range(size):\n",
    "                cur = queue.popleft()\n",
    "                if not cur:\n",
    "                    continue\n",
    "                level.append(cur.val)\n",
    "                queue.append(cur.left)\n",
    "                queue.append(cur.right)\n",
    "            if level:\n",
    "                res.append(level)\n",
    "        return res\n"
   ]
  },
  {
   "cell_type": "markdown",
   "metadata": {},
   "source": [
    "[binary-tree-level-order-traversal-ii](https://leetcode-cn.com/problems/binary-tree-level-order-traversal-ii/)\n",
    "\n",
    "Given a binary tree, return the bottom-up level order traversal of its nodes' values. (ie, from left to right, level by level from leaf to root).\n"
   ]
  },
  {
   "cell_type": "code",
   "execution_count": 50,
   "metadata": {},
   "outputs": [],
   "source": [
    "class Solution:\n",
    "    def levelOrderBottom(self, root: TreeNode) -> List[List[int]]:\n",
    "        if root == None:\n",
    "            return [] \n",
    "        \n",
    "        queue = collections.deque()\n",
    "        queue.append(root)\n",
    "        res = []\n",
    "        while queue:\n",
    "            size = len(queue)\n",
    "            level = []\n",
    "            for _ in range(size):\n",
    "                cur = queue.popleft()\n",
    "                if not cur:\n",
    "                    continue\n",
    "                level.append(cur.val)\n",
    "                queue.append(cur.left)\n",
    "                queue.append(cur.right)\n",
    "            if level:\n",
    "                res.append(level)\n",
    "        return res[::-1]"
   ]
  },
  {
   "cell_type": "markdown",
   "metadata": {},
   "source": [
    "[binary-tree-zigzag-level-order-traversal](https://leetcode-cn.com/problems/binary-tree-zigzag-level-order-traversal/)\n",
    "\n",
    "Given a binary tree, return the zigzag level order traversal of its nodes' values. (ie, from left to right, then right to left for the next level and alternate between).\n"
   ]
  },
  {
   "cell_type": "code",
   "execution_count": 51,
   "metadata": {},
   "outputs": [],
   "source": [
    "class Solution:\n",
    "    def zigzagLevelOrder(self, root: TreeNode) -> List[List[int]]:\n",
    "        if root == None:\n",
    "            return [] \n",
    "        \n",
    "        queue = collections.deque()\n",
    "        queue.append(root)\n",
    "        res = []\n",
    "        toggle = True\n",
    "        while queue:\n",
    "            size = len(queue)\n",
    "            level = []\n",
    "            for _ in range(size):\n",
    "                cur = queue.popleft()\n",
    "                if not cur:\n",
    "                    continue\n",
    "                level.append(cur.val)\n",
    "                queue.append(cur.left)\n",
    "                queue.append(cur.right)\n",
    "            if level:\n",
    "                res.append(level if toggle else level[::-1])\n",
    "            toggle = not(toggle)\n",
    "        return res"
   ]
  },
  {
   "cell_type": "markdown",
   "metadata": {},
   "source": [
    "## 二叉搜索树应用\n",
    "[validate-binary-search-tree](https://leetcode-cn.com/problems/validate-binary-search-tree/)\n",
    "\n",
    "Given a binary tree, determine if it is a valid binary search tree (BST)."
   ]
  },
  {
   "cell_type": "code",
   "execution_count": 52,
   "metadata": {},
   "outputs": [],
   "source": [
    "# 中序遍历\n",
    "class Solution:\n",
    "    def isValidBST(self, root: TreeNode) -> bool:\n",
    "        result = []\n",
    "        self.inOrder(root, result)\n",
    "        for i in range(len(result) - 1):\n",
    "            if result[i] >= result[i+1]:\n",
    "                return False\n",
    "        return True\n",
    "        \n",
    "    def inOrder(self, root, result):\n",
    "        if not root:\n",
    "            return\n",
    "        self.inOrder(root.left, result)\n",
    "        result.append(root.val)\n",
    "        self.inOrder(root.right, result)\n",
    "        \n",
    "# Divid and conquer\n",
    "class Solution:\n",
    "    def isValidBST(self, root: TreeNode) -> bool:\n",
    "        result = self.helper(root)\n",
    "        return result['is_valid']\n",
    "\n",
    "        \n",
    "    def helper(self, root):\n",
    "        result = {\n",
    "            'is_valid': False,\n",
    "            'max': None,\n",
    "            'min': None,\n",
    "        }\n",
    "        if not root:\n",
    "            result['is_valid'] = True\n",
    "            return result\n",
    "        \n",
    "        left = self.helper(root.left)\n",
    "        right = self.helper(root.right)\n",
    "        \n",
    "        if not left['is_valid'] or not right['is_valid']:\n",
    "            result['is_valid'] = False\n",
    "            return result\n",
    "        \n",
    "        if left['max'] and left['max'].val >= root.val:\n",
    "            result['is_valid'] = False\n",
    "            return result\n",
    "        \n",
    "        if right['min'] and right['min'].val <= root.val:\n",
    "            result['is_valid'] = False\n",
    "            return result\n",
    "        \n",
    "        result['is_valid'] = True\n",
    "        result['min'] = root\n",
    "        if left['min']:\n",
    "            result['min'] = left['min']\n",
    "            \n",
    "        result['max'] = root\n",
    "        if right['max']:\n",
    "            result['max'] = right['max']\n",
    "        return result\n",
    "            "
   ]
  },
  {
   "cell_type": "markdown",
   "metadata": {},
   "source": [
    "[insert-into-a-binary-search-tree](https://leetcode-cn.com/problems/insert-into-a-binary-search-tree/)\n",
    "\n",
    "Given the root node of a binary search tree (BST) and a value to be inserted into the tree, insert the value into the BST. Return the root node of the BST after the insertion. It is guaranteed that the new value does not exist in the original BST."
   ]
  },
  {
   "cell_type": "code",
   "execution_count": 53,
   "metadata": {},
   "outputs": [],
   "source": [
    "class Solution:\n",
    "    def insertIntoBST(self, root: TreeNode, val: int) -> TreeNode:\n",
    "        if not root:\n",
    "            root = TreeNode(val=val)\n",
    "            return root\n",
    "        if root.val > val:\n",
    "            root.left = self.insertIntoBST(root.left, val)\n",
    "        else:\n",
    "            root.right = self.insertIntoBST(root.right, val)\n",
    "        \n",
    "        return root"
   ]
  },
  {
   "cell_type": "markdown",
   "metadata": {},
   "source": [
    "# 链表 (Linked list)\n",
    "\n",
    "* null/nil 异常处理\n",
    "* dummy node 哑巴节点\n",
    "* 快慢指针\n",
    "* 插入一个节点到排序链表\n",
    "* 从一个链表中移除一个节点\n",
    "* 翻转链表\n",
    "* 合并两个链表\n",
    "* 找到链表的中间节点"
   ]
  },
  {
   "cell_type": "markdown",
   "metadata": {},
   "source": [
    "### [remove-duplicates-from-sorted-list](https://leetcode-cn.com/problems/remove-duplicates-from-sorted-list/)\n",
    "\n",
    "Given a sorted linked list, delete all duplicates such that each element appear only once.\n"
   ]
  },
  {
   "cell_type": "code",
   "execution_count": 57,
   "metadata": {},
   "outputs": [],
   "source": [
    "# Definition for singly-linked list.\n",
    "class ListNode:\n",
    "    def __init__(self, x):\n",
    "        self.val = x\n",
    "        self.next = None\n",
    "\n",
    "class Solution:\n",
    "    def deleteDuplicates(self, head: ListNode) -> ListNode:\n",
    "        current = head\n",
    "        \n",
    "        while current and current.next:\n",
    "            if current.val == current.next.val:\n",
    "                current.next = current.next.next\n",
    "            else:\n",
    "                current = current.next\n",
    "        return head"
   ]
  },
  {
   "cell_type": "markdown",
   "metadata": {},
   "source": [
    "### [remove-duplicates-from-sorted-list-ii](https://leetcode-cn.com/problems/remove-duplicates-from-sorted-list-ii/)\n",
    "\n",
    "Given a sorted linked list, delete all nodes that have duplicate numbers, leaving only distinct numbers from the original list.\n",
    "\n",
    "Return the linked list sorted as well."
   ]
  },
  {
   "cell_type": "code",
   "execution_count": 58,
   "metadata": {},
   "outputs": [],
   "source": [
    "class Solution:\n",
    "    def deleteDuplicates(self, head: ListNode) -> ListNode:\n",
    "        if not head:\n",
    "            return head\n",
    "        if head.next and head.val == head.next.val:\n",
    "            while head.next != None and head.val == head.next.val:\n",
    "                head = head.next\n",
    "            return self.deleteDuplicates(head.next)\n",
    "        else:\n",
    "            head.next = self.deleteDuplicates(head.next)\n",
    "        return head\n"
   ]
  },
  {
   "cell_type": "markdown",
   "metadata": {},
   "source": [
    "### [reverse-linked-list](https://leetcode-cn.com/problems/reverse-linked-list/)\n",
    "\n",
    "Reverse a singly linked list."
   ]
  },
  {
   "cell_type": "code",
   "execution_count": 59,
   "metadata": {},
   "outputs": [],
   "source": [
    "class Solution:\n",
    "    def reverseList(self, head: ListNode) -> ListNode:\n",
    "        prev, cur = None, head\n",
    "        while cur:\n",
    "            tmp = cur.next\n",
    "            cur.next = prev\n",
    "            prev = cur\n",
    "            cur = tmp\n",
    "        return prev"
   ]
  },
  {
   "cell_type": "markdown",
   "metadata": {},
   "source": [
    "### [reverse-linked-list-ii](https://leetcode-cn.com/problems/reverse-linked-list-ii/)\n",
    "\n",
    "Reverse a linked list from position m to n. Do it in one-pass."
   ]
  },
  {
   "cell_type": "code",
   "execution_count": 60,
   "metadata": {},
   "outputs": [],
   "source": [
    "class Solution:\n",
    "    def reverseBetween(self, head: ListNode, m: int, n: int) -> ListNode:\n",
    "        if not head:\n",
    "            return None\n",
    "\n",
    "        result = ListNode(0)\n",
    "        result.next = head\n",
    "        res = result\n",
    "        for _ in range(m):\n",
    "            pre = res\n",
    "            res = res.next\n",
    "                 \n",
    "        back = res\n",
    "        temp1 = None\n",
    "        temp2 = None\n",
    "        for _ in range(n-m+1):\n",
    "            temp1 = res.next\n",
    "            res.next = temp2\n",
    "            temp2 = res\n",
    "            res = temp1\n",
    "            \n",
    "        pre.next = temp2\n",
    "        back.next = temp1\n",
    "        return result.next"
   ]
  },
  {
   "cell_type": "markdown",
   "metadata": {},
   "source": [
    "### [merge-two-sorted-lists](https://leetcode-cn.com/problems/merge-two-sorted-lists/)\n",
    "\n",
    "Merge two sorted linked lists and return it as a new sorted list. The new list should be made by splicing together the nodes of the first two lists.\n"
   ]
  },
  {
   "cell_type": "code",
   "execution_count": 61,
   "metadata": {},
   "outputs": [],
   "source": [
    "class Solution:\n",
    "    def mergeTwoLists(self, l1: ListNode, l2: ListNode) -> ListNode:\n",
    "        \n",
    "        head = ListNode(0)\n",
    "        first = head\n",
    "        while l1 != None and l2 != None:\n",
    "            if l1.val > l2.val:\n",
    "                head.next = l2\n",
    "                l2 = l2.next\n",
    "            else :\n",
    "                head.next = l1\n",
    "                l1 = l1.next\n",
    "            head = head.next\n",
    "        if l1 == None:\n",
    "            head.next = l2\n",
    "        elif l2 == None:\n",
    "            head.next = l1\n",
    "        return first.next"
   ]
  },
  {
   "cell_type": "markdown",
   "metadata": {},
   "source": [
    "### [partition-list](https://leetcode-cn.com/problems/partition-list/)\n",
    "\n",
    "Given a linked list and a value x, partition it such that all nodes less than x come before nodes greater than or equal to x.\n"
   ]
  },
  {
   "cell_type": "code",
   "execution_count": 62,
   "metadata": {},
   "outputs": [],
   "source": [
    "class Solution:\n",
    "    def partition(self, head: ListNode, x: int) -> ListNode:\n",
    "        head_dummy = ListNode(-1)\n",
    "        tail_dummy = ListNode(-1)\n",
    "        p1 = head_dummy\n",
    "        p2 = tail_dummy\n",
    "        while head:\n",
    "            if head.val < x:\n",
    "                p1.next = head\n",
    "                p1 = p1.next\n",
    "            else:\n",
    "                p2.next = head\n",
    "                p2 = p2.next\n",
    "            head = head.next\n",
    "        p1.next = tail_dummy.next\n",
    "        p2.next = None\n",
    "        return head_dummy.next"
   ]
  },
  {
   "cell_type": "markdown",
   "metadata": {},
   "source": [
    "### [sort-list](https://leetcode-cn.com/problems/sort-list/)\n",
    "\n",
    "Sort a linked list in O(n log n) time using constant space complexity."
   ]
  },
  {
   "cell_type": "code",
   "execution_count": 63,
   "metadata": {},
   "outputs": [],
   "source": [
    "class Solution:\n",
    "    def sortList(self, head: ListNode) -> ListNode:\n",
    "        if not head or not head.next: \n",
    "            return head # termination.\n",
    "        # cut the LinkedList at the mid index.\n",
    "        slow, fast = head, head.next\n",
    "        while fast and fast.next:\n",
    "            fast, slow = fast.next.next, slow.next\n",
    "        mid, slow.next = slow.next, None # save and cut.\n",
    "        # recursive for cutting.\n",
    "        left, right = self.sortList(head), self.sortList(mid)\n",
    "        # merge `left` and `right` linked list and return it.\n",
    "        h = res = ListNode(0)\n",
    "        while left and right:\n",
    "            if left.val < right.val: \n",
    "                h.next, left = left, left.next\n",
    "            else: \n",
    "                h.next, right = right, right.next\n",
    "            h = h.next\n",
    "        h.next = left if left else right\n",
    "        return res.next\n"
   ]
  },
  {
   "cell_type": "markdown",
   "metadata": {},
   "source": [
    "### [reorder-list](https://leetcode-cn.com/problems/reorder-list/)\n",
    "\n",
    "Given a singly linked list L: L0→L1→…→Ln-1→Ln,\n",
    "reorder it to: L0→Ln→L1→Ln-1→L2→Ln-2→…\n"
   ]
  },
  {
   "cell_type": "code",
   "execution_count": 64,
   "metadata": {},
   "outputs": [],
   "source": [
    "class Solution:\n",
    "    def reorderList(self, head: ListNode) -> None:\n",
    "        \"\"\"\n",
    "        Do not return anything, modify head in-place instead.\n",
    "        \"\"\"\n",
    "        if not head or not head.next: return head\n",
    "        # 1 2 3 4 5\n",
    "        fast = head\n",
    "        pre_mid = head\n",
    "        # 找到中点, 偶数个找到时上界那个\n",
    "        while fast.next and fast.next.next:\n",
    "            pre_mid = pre_mid.next\n",
    "            fast = fast.next.next\n",
    "        # 翻转中点之后的链表,采用是pre, cur双指针方法\n",
    "        pre = None\n",
    "        cur = pre_mid.next\n",
    "        # 1 2 5 4 3\n",
    "        while cur:\n",
    "            tmp = cur.next\n",
    "            cur.next = pre\n",
    "            pre = cur\n",
    "            cur = tmp\n",
    "        # 翻转链表和前面链表拼接\n",
    "        pre_mid.next = pre\n",
    "        # 1 5 2 4 3\n",
    "        # 链表头\n",
    "        p1 = head\n",
    "        # 翻转头\n",
    "        p2 = pre_mid.next\n",
    "        #print(p1.val, p2.val)\n",
    "        while p1 != pre_mid:\n",
    "            # 建议大家这部分画图, 很容易理解\n",
    "            pre_mid.next = p2.next\n",
    "            p2.next = p1.next\n",
    "            p1.next = p2\n",
    "            p1 = p2.next\n",
    "            p2 = pre_mid.next\n"
   ]
  },
  {
   "cell_type": "markdown",
   "metadata": {},
   "source": [
    "### [linked-list-cycle](https://leetcode-cn.com/problems/linked-list-cycle/)\n",
    "\n",
    "Given a linked list, determine if it has a cycle in it."
   ]
  },
  {
   "cell_type": "code",
   "execution_count": 65,
   "metadata": {},
   "outputs": [],
   "source": [
    "class Solution:\n",
    "    def hasCycle(self, head: ListNode) -> bool:\n",
    "        fast = slow = head\n",
    "        while fast and fast.next:\n",
    "            fast = fast.next.next\n",
    "            slow = slow.next\n",
    "            if slow == fast:\n",
    "                return True\n",
    "        return False"
   ]
  },
  {
   "cell_type": "markdown",
   "metadata": {},
   "source": [
    "### [linked-list-cycle-ii](https://leetcode-cn.com/problems/linked-list-cycle-ii/)\n",
    "\n",
    "Given a linked list, return the node where the cycle begins. If there is no cycle, return null."
   ]
  },
  {
   "cell_type": "code",
   "execution_count": 66,
   "metadata": {},
   "outputs": [],
   "source": [
    "class Solution:\n",
    "    def detectCycle(self, head: ListNode) -> ListNode:\n",
    "        if head is None:\n",
    "            return None\n",
    "        if head.next is None:\n",
    "            return None\n",
    "        first = second = head\n",
    "        while second.next and second.next.next:\n",
    "            first = first.next\n",
    "            second = second.next.next\n",
    "            if first == second:\n",
    "                p = head\n",
    "                while first != p:\n",
    "                    p = p.next\n",
    "                    first = first.next\n",
    "                return p\n",
    "        return None"
   ]
  },
  {
   "cell_type": "markdown",
   "metadata": {},
   "source": [
    "### [palindrome-linked-list](https://leetcode-cn.com/problems/palindrome-linked-list/)\n",
    "\n",
    "Given a singly linked list, determine if it is a palindrome.\n"
   ]
  },
  {
   "cell_type": "code",
   "execution_count": 67,
   "metadata": {},
   "outputs": [],
   "source": [
    "class Solution:\n",
    "    def isPalindrome(self, head: ListNode) -> bool:\n",
    "        if head is None or head.next is None:\n",
    "            return True\n",
    "        if head.next.next is None:\n",
    "            return head.val == head.next.val\n",
    "        fast = slow = q = head\n",
    "        while fast.next and fast.next.next:#这里快指针的判读条件跟判断环形有一点不同\n",
    "            fast = fast.next.next\n",
    "            slow = slow.next\n",
    "\n",
    "        def reverse_list(head):\n",
    "            if head is None:\n",
    "                return head\n",
    "            cur = head\n",
    "            pre = None\n",
    "            nxt = cur.next\n",
    "            while nxt:\n",
    "                cur.next = pre\n",
    "                pre = cur\n",
    "                cur = nxt\n",
    "                nxt = nxt.next\n",
    "            cur.next = pre\n",
    "            return cur\n",
    "        \n",
    "        p = reverse_list(slow.next)\n",
    "        while p.next:\n",
    "            if p.val != q.val:\n",
    "                return False\n",
    "            p = p.next\n",
    "            q = q.next\n",
    "        return p.val == q.val"
   ]
  },
  {
   "cell_type": "markdown",
   "metadata": {},
   "source": [
    "### [copy-list-with-random-pointer](https://leetcode-cn.com/problems/copy-list-with-random-pointer/)\n",
    "\n",
    "A linked list is given such that each node contains an additional random pointer which could point to any node in the list or null.\n"
   ]
  },
  {
   "cell_type": "code",
   "execution_count": 68,
   "metadata": {},
   "outputs": [],
   "source": [
    "class Solution:\n",
    "    def copyRandomList(self, head: 'Node') -> 'Node':\n",
    "        if head == None:\n",
    "            return None\n",
    "        memories = {} # 在这个字典里，key是旧链表的节点，val是新链表的节点。\n",
    "        node = head\n",
    "        while node != None:\n",
    "            cloneNode = Node(node.val,None,None)\n",
    "            memories[node] = cloneNode\n",
    "            node = node.next\n",
    "        node = head\n",
    "        while node:  # 这里用dict.get因为key值如果为空的话，就会返回默认值None\n",
    "        # 根据字典的映射关系来处理新链表的random和next关系。\n",
    "            memories.get(node).next = memories.get(node.next)\n",
    "            memories.get(node).random = memories.get(node.random)\n",
    "            node = node.next\n",
    "        return memories[head]   # head的val是head的复制节点（即新节点的头结点）"
   ]
  },
  {
   "cell_type": "markdown",
   "metadata": {},
   "source": [
    "# Stack 栈 LIFO\n",
    "\n",
    "![stack](./stack.png)\n",
    "\n",
    "### [min-stack](https://leetcode-cn.com/problems/min-stack/)\n",
    "\n",
    "Design a stack that supports push, pop, top, and retrieving the minimum element in constant time.\n"
   ]
  },
  {
   "cell_type": "code",
   "execution_count": 69,
   "metadata": {},
   "outputs": [],
   "source": [
    "class MinStack:\n",
    "\n",
    "    def __init__(self):\n",
    "        \"\"\"\n",
    "        initialize your data structure here.\n",
    "        \"\"\"\n",
    "        self.l = []\n",
    "        \n",
    "\n",
    "    def push(self, x: int) -> None:\n",
    "        if x is None:\n",
    "            pass\n",
    "        else:\n",
    "            self.l.append(x)\n",
    "\n",
    "    def pop(self) -> None:\n",
    "        if self.l is None:\n",
    "            return 'error'\n",
    "        else:\n",
    "            self.l.pop(-1)\n",
    "        \n",
    "\n",
    "    def top(self) -> int:\n",
    "        if self.l is None:\n",
    "            return 'error'\n",
    "        else:\n",
    "            return self.l[-1]\n",
    "        \n",
    "\n",
    "    def getMin(self) -> int:\n",
    "        if self.l is None:\n",
    "            return 'error'\n",
    "        else:\n",
    "            return min(self.l)"
   ]
  },
  {
   "cell_type": "markdown",
   "metadata": {},
   "source": [
    "### [evaluate-reverse-polish-notation](https://leetcode-cn.com/problems/evaluate-reverse-polish-notation/)\n",
    "\n",
    "Evaluate the value of an arithmetic expression in Valid operators are +, -, *, /. Each operand may be an integer or another expression.\n"
   ]
  },
  {
   "cell_type": "code",
   "execution_count": 70,
   "metadata": {},
   "outputs": [],
   "source": [
    "class Solution:\n",
    "    def evalRPN(self, tokens: List[str]) -> int:\n",
    "        stack = []\n",
    "        for token in tokens:\n",
    "            if token in \"+-*/\":\n",
    "                num2 = stack.pop()\n",
    "                num1 = stack.pop()\n",
    "                if token == \"+\":\n",
    "                    ans = num1 + num2\n",
    "                elif token == \"-\":\n",
    "                    ans = num1 - num2\n",
    "                elif token == \"*\":\n",
    "                    ans = num1 * num2\n",
    "                else:\n",
    "                    ans = int(num1 / num2)\n",
    "                stack.append(ans)\n",
    "            else:\n",
    "                stack.append(int(token))\n",
    "        return stack[0]"
   ]
  },
  {
   "cell_type": "markdown",
   "metadata": {},
   "source": [
    "### [decode-string](https://leetcode-cn.com/problems/decode-string/)\n",
    "\n",
    "Given an encoded string, return its decoded string.\n",
    "\n",
    "The encoding rule is: k[encoded_string], where the encoded_string inside the square brackets is being repeated exactly k times. Note that k is guaranteed to be a positive integer.\n",
    "\n",
    "You may assume that the input string is always valid; No extra white spaces, square brackets are well-formed, etc.\n",
    "\n",
    "Furthermore, you may assume that the original data does not contain any digits and that digits are only for those repeat numbers, k. For example, there won't be input like 3a or 2[4].\n"
   ]
  },
  {
   "cell_type": "code",
   "execution_count": 71,
   "metadata": {},
   "outputs": [],
   "source": [
    "class Solution:\n",
    "    def decodeString(self, s: str) -> str:\n",
    "        stack = []  # (str, int) 记录之前的字符串和括号外的上一个数字\n",
    "        num = 0\n",
    "        res = \"\"  # 实时记录当前可以提取出来的字符串\n",
    "        for c in s:\n",
    "            if c.isdigit():\n",
    "                num = num * 10 + int(c)\n",
    "            elif c == \"[\":\n",
    "                stack.append((res, num))\n",
    "                res, num = \"\", 0\n",
    "            elif c == \"]\":\n",
    "                top = stack.pop()\n",
    "                res = top[0] + res * top[1]\n",
    "            else:\n",
    "                res += c\n",
    "        return res\n"
   ]
  },
  {
   "cell_type": "markdown",
   "metadata": {},
   "source": [
    "### [binary-tree-inorder-traversal](https://leetcode-cn.com/problems/binary-tree-inorder-traversal/)\n",
    "\n",
    "Given a binary tree, return the inorder traversal of its nodes' values.\n"
   ]
  },
  {
   "cell_type": "code",
   "execution_count": 72,
   "metadata": {},
   "outputs": [],
   "source": [
    "class Solution:\n",
    "    def inorderTraversal(self, root: TreeNode) -> List[int]:\n",
    "        stacks = []\n",
    "        results = []\n",
    "        if root == None:\n",
    "            return results\n",
    "        while root or len(stacks) > 0 :\n",
    "            if root :\n",
    "                stacks.append(root)\n",
    "                root = root.left\n",
    "            else:\n",
    "                n = stacks.pop(-1)\n",
    "                results.append(n.val)\n",
    "                if n.right != None:\n",
    "                    root = n.right\n",
    "        return results"
   ]
  },
  {
   "cell_type": "markdown",
   "metadata": {},
   "source": [
    "### [clone-graph](https://leetcode-cn.com/problems/clone-graph/)\n",
    "\n",
    "Given a reference of a node in a connected undirected graph.\n",
    "\n",
    "Return a deep copy (clone) of the graph.\n"
   ]
  },
  {
   "cell_type": "code",
   "execution_count": 73,
   "metadata": {},
   "outputs": [],
   "source": [
    "class Solution:\n",
    "    def cloneGraph(self, node: 'Node') -> 'Node':\n",
    "        lookup = {}\n",
    "\n",
    "        def dfs(node):\n",
    "            #print(node.val)\n",
    "            if not node: \n",
    "                return\n",
    "            if node in lookup:\n",
    "                return lookup[node]\n",
    "            clone = Node(node.val, [])\n",
    "            lookup[node] = clone\n",
    "            for n in node.neighbors:\n",
    "                clone.neighbors.append(dfs(n))\n",
    "            \n",
    "            return clone\n",
    "\n",
    "        return dfs(node)\n",
    "\n",
    "    \n",
    "class Solution:\n",
    "    def cloneGraph(self, node: 'Node') -> 'Node':\n",
    "        from collections import deque\n",
    "        lookup = {}\n",
    "\n",
    "        def bfs(node):\n",
    "            if not node: return\n",
    "            clone = Node(node.val, [])\n",
    "            lookup[node] = clone\n",
    "            queue = deque()\n",
    "            queue.appendleft(node)\n",
    "            while queue:\n",
    "                tmp = queue.pop()\n",
    "                for n in tmp.neighbors:\n",
    "                    if n not in lookup:\n",
    "                        lookup[n] = Node(n.val, [])\n",
    "                        queue.appendleft(n)\n",
    "                    lookup[tmp].neighbors.append(lookup[n])\n",
    "            return clone\n",
    "\n",
    "        return bfs(node)\n",
    "    "
   ]
  },
  {
   "cell_type": "markdown",
   "metadata": {},
   "source": [
    "### [number-of-islands](https://leetcode-cn.com/problems/number-of-islands/)\n",
    "\n",
    "Given a 2d grid map of '1's (land) and '0's (water), count the number of islands. An island is surrounded by water and is formed by connecting adjacent lands horizontally or vertically. You may assume all four edges of the grid are all surrounded by water.\n"
   ]
  },
  {
   "cell_type": "code",
   "execution_count": 75,
   "metadata": {},
   "outputs": [],
   "source": [
    "class Solution:\n",
    "    def numIslands(self, grid: List[List[str]]) -> int:\n",
    "        count = 0\n",
    "        for i in range(len(grid)):\n",
    "            for j in range(len(grid[i])):\n",
    "                if grid[i][j] == '1' and self.dfs(grid, i, j) >= 1:\n",
    "                    count += 1\n",
    "        return count\n",
    "    \n",
    "    def dfs(self, grid, i, j):\n",
    "        if i < 0 or i >= len(grid) or j < 0 or j >= len(grid[0]):\n",
    "            return 0\n",
    "        \n",
    "        if grid[i][j] == '1':\n",
    "            grid[i][j] = 0\n",
    "            return (self.dfs(grid, i-1, j) + self.dfs(grid, i, j-1) + \n",
    "                    self.dfs(grid, i+1, j) + self.dfs(grid, i, j+1) + 1)\n",
    "        return 0\n",
    "\n",
    "\n",
    "from collections import deque\n",
    "class Solution:\n",
    "    def numIslands(self, grid: List[List[str]]) -> int:\n",
    "        count = 0\n",
    "        m = len(grid)\n",
    "        if m == 0:\n",
    "            return 0\n",
    "        n = len(grid[0])\n",
    "        que = deque()\n",
    "        for i in range(m):\n",
    "            for j in range(n):\n",
    "                if grid[i][j] == '1':\n",
    "                    count += 1\n",
    "                    que.append((i, j))\n",
    "                    grid[i][j] = '0'\n",
    "                while que:\n",
    "                    x_i, y_i = que.popleft()\n",
    "                    if x_i - 1 >= 0 and grid[x_i - 1][y_i] == '1':\n",
    "                        que.append((x_i - 1, y_i))\n",
    "                        grid[x_i - 1][y_i] = '0'\n",
    "                    if x_i + 1 < m and grid[x_i + 1][y_i] == '1':\n",
    "                        que.append((x_i + 1, y_i))\n",
    "                        grid[x_i + 1][y_i] = '0'\n",
    "                    if y_i - 1 >= 0 and grid[x_i][y_i - 1] == '1':\n",
    "                        que.append((x_i, y_i - 1))\n",
    "                        grid[x_i][y_i - 1] = '0'\n",
    "                    if y_i + 1 < n and grid[x_i][y_i + 1] == '1':\n",
    "                        que.append((x_i, y_i + 1))\n",
    "                        grid[x_i][y_i + 1] = '0'\n",
    "        return count"
   ]
  },
  {
   "cell_type": "markdown",
   "metadata": {},
   "source": [
    "### [largest-rectangle-in-histogram](https://leetcode-cn.com/problems/largest-rectangle-in-histogram/)\n",
    "\n",
    "Given n non-negative integers representing the histogram's bar height where the width of each bar is 1, find the area of largest rectangle in the histogram.\n"
   ]
  },
  {
   "cell_type": "code",
   "execution_count": 76,
   "metadata": {},
   "outputs": [],
   "source": [
    "class Solution:\n",
    "    def largestRectangleArea(self, heights: List[int]) -> int:\n",
    "        \n",
    "        n = len(heights)\n",
    "        heights = [0] + heights + [0]\n",
    "        st = []\n",
    "        ans = 0\n",
    "        \n",
    "        for i in range(n + 2):\n",
    "            while st and heights[st[-1]] > heights[i]:\n",
    "                ans = max(ans, heights[st.pop(-1)] * (i - st[-1] - 1))\n",
    "            st.append(i)\n",
    "        return ans\n"
   ]
  },
  {
   "cell_type": "markdown",
   "metadata": {},
   "source": [
    "# Queue 队列\n",
    "### 常用于 BFS 宽度优先搜索\n",
    "\n",
    "### [implement-queue-using-stacks](https://leetcode-cn.com/problems/implement-queue-using-stacks/)\n",
    "\n",
    "Implement the following operations of a queue using stacks."
   ]
  },
  {
   "cell_type": "code",
   "execution_count": 77,
   "metadata": {},
   "outputs": [],
   "source": [
    "class MyQueue:\n",
    "\n",
    "    def __init__(self):\n",
    "        \"\"\"\n",
    "        Initialize your data structure here.\n",
    "        \"\"\"\n",
    "        self.stack1 = []\n",
    "        self.stack2 = []\n",
    "\n",
    "\n",
    "    def push(self, x: int) -> None:\n",
    "        \"\"\"\n",
    "        Push element x to the back of queue.\n",
    "        \"\"\"\n",
    "        self.stack1.append(x)\n",
    "\n",
    "\n",
    "    def pop(self) -> int:\n",
    "        \"\"\"\n",
    "        Removes the element from in front of queue and returns that element.\n",
    "        \"\"\"\n",
    "        while len(self.stack1) > 1:\n",
    "            self.stack2.append(self.stack1.pop())\n",
    "        element = self.stack1.pop()\n",
    "        while len(self.stack2) > 0:\n",
    "            self.stack1.append(self.stack2.pop())\n",
    "        return element\n",
    "\n",
    "\n",
    "    def peek(self) -> int:\n",
    "        \"\"\"\n",
    "        Get the front element.\n",
    "        \"\"\"\n",
    "        while len(self.stack1) > 1:\n",
    "            self.stack2.append(self.stack1.pop())\n",
    "        element = self.stack1.pop()\n",
    "        self.stack2.append(element)\n",
    "        while len(self.stack2) > 0:\n",
    "            self.stack1.append(self.stack2.pop())\n",
    "        return element\n",
    "\n",
    "\n",
    "    def empty(self) -> bool:\n",
    "        \"\"\"\n",
    "        Returns whether the queue is empty.\n",
    "        \"\"\"\n",
    "        return len(self.stack1) == 0\n"
   ]
  },
  {
   "cell_type": "markdown",
   "metadata": {},
   "source": [
    "### [01-matrix](https://leetcode-cn.com/problems/01-matrix/)\n",
    "\n",
    "Given a matrix consists of 0 and 1, find the distance of the nearest 0 for each cell.\n",
    "\n",
    "The distance between two adjacent cells is 1."
   ]
  },
  {
   "cell_type": "code",
   "execution_count": 78,
   "metadata": {},
   "outputs": [],
   "source": [
    "class Solution:\n",
    "    def updateMatrix(self, matrix: List[List[int]]) -> List[List[int]]:\n",
    "        M, N = len(matrix), len(matrix[0])\n",
    "        queue = collections.deque()\n",
    "        visited = [[0] * N for _ in range(M)]\n",
    "        res = [[0] * N for _ in range(M)]\n",
    "        for i in range(M):\n",
    "            for j in range(N):\n",
    "                if matrix[i][j] == 0:\n",
    "                    queue.append((i, j))\n",
    "                    visited[i][j] = 1\n",
    "        dirs = [(0, 1), (0, -1), (1, 0), (-1, 0)]\n",
    "        step = 0\n",
    "        while queue:\n",
    "            size = len(queue)\n",
    "            for i in range(size):\n",
    "                x, y = queue.popleft()\n",
    "                if matrix[x][y] == 1:\n",
    "                    res[x][y] = step\n",
    "                for dx, dy in dirs:\n",
    "                    newx, newy = x + dx, y + dy\n",
    "                    if newx < 0 or newx >= M or newy < 0 or newy >= N or visited[newx][newy] == 1:\n",
    "                        continue\n",
    "                    queue.append((newx, newy))\n",
    "                    visited[newx][newy] = 1\n",
    "            step += 1\n",
    "        return res"
   ]
  },
  {
   "cell_type": "markdown",
   "metadata": {},
   "source": [
    "# 二进制\n",
    "\n",
    "### [single-number](https://leetcode-cn.com/problems/single-number/)\n",
    "\n",
    "Given a non-empty array of integers, every element appears twice except for one. Find that single one.\n"
   ]
  },
  {
   "cell_type": "code",
   "execution_count": 79,
   "metadata": {},
   "outputs": [],
   "source": [
    "class Solution:\n",
    "    def singleNumber(self, nums: List[int]) -> int:\n",
    "        # 数学的方式\n",
    "        # return 2 * sum(set(nums)) - sum(nums)\n",
    "        \n",
    "        a = 0\n",
    "        for i in nums:\n",
    "            a ^= i\n",
    "        return a"
   ]
  },
  {
   "cell_type": "markdown",
   "metadata": {},
   "source": [
    "### [single-number-iii](https://leetcode-cn.com/problems/single-number-iii/)\n",
    "\n",
    "Given an array of numbers nums, in which exactly two elements appear only once and all the other elements appear exactly twice. Find the two elements that appear only once.\n"
   ]
  },
  {
   "cell_type": "code",
   "execution_count": 80,
   "metadata": {},
   "outputs": [],
   "source": [
    "class Solution:\n",
    "    def singleNumber(self, nums: List[int]) -> List[int]:\n",
    "        # 数组的方式\n",
    "        # count=[]\n",
    "        # for num in nums:\n",
    "        #     if num in count:\n",
    "        #         count.remove(num)\n",
    "        #     else:\n",
    "        #         count.append(num)\n",
    "        # return count\n",
    "\n",
    "        \n",
    "        a=0\n",
    "        x=0\n",
    "        y=0\n",
    "        for i in nums:\n",
    "            a ^= i\n",
    "        a &= ~a+1\n",
    "        for i in nums:\n",
    "            if a&i==0:\n",
    "                x ^=i\n",
    "            else:\n",
    "                y ^=i\n",
    "        return x,y\n"
   ]
  },
  {
   "cell_type": "markdown",
   "metadata": {},
   "source": [
    "### [number-of-1-bits](https://leetcode-cn.com/problems/number-of-1-bits/)\n",
    "\n",
    "Write a function that takes an unsigned integer and return the number of '1' bits it has (also known as the Hamming weight).\n"
   ]
  },
  {
   "cell_type": "code",
   "execution_count": 81,
   "metadata": {},
   "outputs": [],
   "source": [
    "class Solution:\n",
    "    def hammingWeight(self, n: int) -> int:\n",
    "        # return bin(n).count('1')        \n",
    "        count = 0\n",
    "        while n > 0:\n",
    "            n &= (n - 1)\n",
    "            count += 1\n",
    "        return count\n"
   ]
  },
  {
   "cell_type": "markdown",
   "metadata": {},
   "source": [
    "### [counting-bits](https://leetcode-cn.com/problems/counting-bits/)\n",
    "\n",
    "Given a non negative integer number num. For every numbers i in the range 0 ≤ i ≤ num calculate the number of 1's in their binary representation and return them as an array.\n",
    "\n",
    "![key](./2.png)"
   ]
  },
  {
   "cell_type": "code",
   "execution_count": 82,
   "metadata": {},
   "outputs": [],
   "source": [
    "class Solution:\n",
    "    def countBits(self, num: int) -> List[int]:\n",
    "        dp=[0]*(num+1)\n",
    "        for i in range(1,num+1):\n",
    "            if(i%2==1):\n",
    "                dp[i]=dp[i-1]+1\n",
    "            else:\n",
    "                dp[i]=dp[i//2]\n",
    "        return dp"
   ]
  },
  {
   "cell_type": "markdown",
   "metadata": {},
   "source": [
    "### [reverse-bits](https://leetcode-cn.com/problems/reverse-bits/)\n",
    "\n",
    "Reverse bits of a given 32 bits unsigned integer."
   ]
  },
  {
   "cell_type": "code",
   "execution_count": 83,
   "metadata": {},
   "outputs": [],
   "source": [
    "class Solution:\n",
    "    def reverseBits(self, n: int) -> int:\n",
    "        ret, power = 0, 31\n",
    "        while n:\n",
    "            ret += (n & 1) << power\n",
    "            n = n >> 1\n",
    "            power -= 1\n",
    "        return ret\n"
   ]
  },
  {
   "cell_type": "markdown",
   "metadata": {},
   "source": [
    "### [bitwise-and-of-numbers-range](https://leetcode-cn.com/problems/bitwise-and-of-numbers-range/)\n",
    "\n",
    "Given a range [m, n] where 0 <= m <= n <= 2147483647, return the bitwise AND of all numbers in this range, inclusive.\n",
    "\n"
   ]
  },
  {
   "cell_type": "code",
   "execution_count": 84,
   "metadata": {},
   "outputs": [],
   "source": [
    "class Solution:\n",
    "    def rangeBitwiseAnd(self, m: int, n: int) -> int:\n",
    "        t = 0\n",
    "        while m != n:\n",
    "            m >>= 1\n",
    "            n >>= 1\n",
    "            t += 1\n",
    "        return n << t\n"
   ]
  },
  {
   "cell_type": "markdown",
   "metadata": {},
   "source": []
  },
  {
   "cell_type": "markdown",
   "metadata": {},
   "source": [
    "# 二分搜索\n",
    "\n",
    "1. 初始化：start=0、end=len-1\n",
    "2. 循环退出条件：start + 1 < end\n",
    "3. 比较中点和目标值：A[mid] ==、 <、> target\n",
    "4. 判断最后两个元素是否符合：A[start]、A[end] ? target\n",
    "\n",
    "### [binary-search](https://leetcode-cn.com/problems/binary-search/)\n",
    "\n",
    "Given a sorted (in ascending order) integer array nums of n elements and a target value, write a function to search target in nums. If target exists, then return its index, otherwise return -1.\n"
   ]
  },
  {
   "cell_type": "code",
   "execution_count": 88,
   "metadata": {},
   "outputs": [],
   "source": [
    "class Solution:\n",
    "    def search(self, nums: List[int], target: int) -> int:\n",
    "        low, high = 0, len(nums) - 1\n",
    "        while low <= high:\n",
    "            mid = (low + high) // 2\n",
    "            if nums[mid] < target:\n",
    "                low = mid + 1\n",
    "            elif nums[mid] > target:\n",
    "                high = mid - 1\n",
    "            else:\n",
    "                return mid\n",
    "        return -1"
   ]
  },
  {
   "cell_type": "markdown",
   "metadata": {},
   "source": [
    "### [search-insert-position](https://leetcode-cn.com/problems/search-insert-position/)\n",
    "\n",
    "Given a sorted array and a target value, return the index if the target is found. If not, return the index where it would be if it were inserted in order.\n",
    "\n",
    "You may assume no duplicates in the array.\n"
   ]
  },
  {
   "cell_type": "code",
   "execution_count": 86,
   "metadata": {},
   "outputs": [],
   "source": [
    "class Solution:\n",
    "    def searchInsert(self, nums: List[int], target: int) -> int:\n",
    "        low, high = 0, len(nums) - 1\n",
    "        while low <= high:\n",
    "            mid = (low + high) // 2\n",
    "            if nums[mid] == target:\n",
    "                return mid\n",
    "            elif nums[mid] > target:\n",
    "                high = mid - 1\n",
    "            else:\n",
    "                low = mid + 1\n",
    "        return low"
   ]
  },
  {
   "cell_type": "markdown",
   "metadata": {},
   "source": [
    "### [Search a 2D Matrix](https://leetcode-cn.com/problems/search-a-2d-matrix/)\n",
    "\n",
    "Write an efficient algorithm that searches for a value in an m x n matrix. This matrix has the following properties:\n",
    "\n",
    "Integers in each row are sorted from left to right.\n",
    "The first integer of each row is greater than the last integer of the previous row.\n"
   ]
  },
  {
   "cell_type": "code",
   "execution_count": 87,
   "metadata": {},
   "outputs": [],
   "source": [
    "class Solution:\n",
    "    def searchMatrix(self, matrix: List[List[int]], target: int) -> bool:\n",
    "        row = len(matrix)\n",
    "        if row == 0:\n",
    "            return False\n",
    "        column = len(matrix[0])\n",
    "        \n",
    "        low, high = 0, row * column - 1\n",
    "        while low <= high:\n",
    "            mid = (low + high) // 2\n",
    "            mid_element = matrix[mid // column][mid % column]\n",
    "            if target == mid_element:\n",
    "                return True\n",
    "            else:\n",
    "                if target < mid_element:\n",
    "                    high = mid - 1\n",
    "                else:\n",
    "                    low = mid + 1\n",
    "            return False"
   ]
  },
  {
   "cell_type": "markdown",
   "metadata": {},
   "source": [
    "### [first-bad-version](https://leetcode-cn.com/problems/first-bad-version/)\n",
    "\n",
    "You are a product manager and currently leading a team to develop a new product. Unfortunately, the latest version of your product fails the quality check. Since each version is developed based on the previous version, all the versions after a bad version are also bad.\n",
    "\n",
    "Suppose you have n versions [1, 2, ..., n] and you want to find out the first bad one, which causes all the following ones to be bad.\n",
    "\n",
    "You are given an API bool isBadVersion(version) which will return whether version is bad. Implement a function to find the first bad version. You should minimize the number of calls to the API.\n"
   ]
  },
  {
   "cell_type": "code",
   "execution_count": 89,
   "metadata": {},
   "outputs": [],
   "source": [
    "class Solution:\n",
    "    def firstBadVersion(self, n):\n",
    "        \"\"\"\n",
    "        :type n: int\n",
    "        :rtype: int\n",
    "        \"\"\"\n",
    "        l, h = 1, n\n",
    "        while l <= h:\n",
    "            m = (l + h) // 2\n",
    "            if isBadVersion(m) > m * isBadVersion(m - 1):\n",
    "                return m\n",
    "            elif isBadVersion(m):\n",
    "                h = m - 1\n",
    "            else:\n",
    "                l = m + 1"
   ]
  },
  {
   "cell_type": "markdown",
   "metadata": {},
   "source": [
    "### [Find Minimum in Rotated Sorted Array](https://leetcode-cn.com/problems/find-minimum-in-rotated-sorted-array/)\n",
    "\n",
    "Suppose an array sorted in ascending order is rotated at some pivot unknown to you beforehand.\n",
    "\n",
    "(i.e.,  [0,1,2,4,5,6,7] might become  [4,5,6,7,0,1,2]).\n",
    "\n",
    "Find the minimum element.\n"
   ]
  },
  {
   "cell_type": "code",
   "execution_count": 90,
   "metadata": {},
   "outputs": [],
   "source": [
    "class Solution:\n",
    "    def findMin(self, nums: List[int]) -> int:\n",
    "        left, right = 0, len(nums) - 1\n",
    "        while left < right:\n",
    "            mid = (left + right) >> 1\n",
    "            if nums[mid] > nums[right]:         \n",
    "                left = mid + 1\n",
    "            else:                               \n",
    "                right = mid\n",
    "        return nums[left]\n"
   ]
  },
  {
   "cell_type": "markdown",
   "metadata": {},
   "source": [
    "### [find-minimum-in-rotated-sorted-array-ii](https://leetcode-cn.com/problems/find-minimum-in-rotated-sorted-array-ii/)\n",
    "\n",
    "Suppose an array sorted in ascending order is rotated at some pivot unknown to you beforehand.\n",
    "\n",
    "(i.e.,  [0,1,2,4,5,6,7] might become  [4,5,6,7,0,1,2]).\n",
    "\n",
    "Find the minimum element.\n",
    "\n",
    "The array may contain duplicates.\n"
   ]
  },
  {
   "cell_type": "code",
   "execution_count": 91,
   "metadata": {},
   "outputs": [],
   "source": [
    "class Solution:\n",
    "    def findMin(self, nums: List[int]) -> int:\n",
    "        left, right = 0, len(nums) - 1\n",
    "        while left < right:\n",
    "            mid = (left + right) >> 1\n",
    "            if nums[mid] > nums[right]:\n",
    "                left = mid + 1\n",
    "            elif nums[mid] < nums[right]:\n",
    "                right = mid\n",
    "            else:\n",
    "                right = right - 1\n",
    "        return nums[left]"
   ]
  },
  {
   "cell_type": "markdown",
   "metadata": {},
   "source": [
    "### [Search in Rotated Sorted Array](https://leetcode-cn.com/problems/search-in-rotated-sorted-array/)\n",
    "\n",
    "Suppose an array sorted in ascending order is rotated at some pivot unknown to you beforehand.\n",
    "\n",
    "(i.e., [0,1,2,4,5,6,7] might become [4,5,6,7,0,1,2]).\n",
    "\n",
    "You are given a target value to search. If found in the array return its index, otherwise return -1.\n",
    "\n",
    "You may assume no duplicate exists in the array.\n",
    "\n",
    "Your algorithm's runtime complexity must be in the order of O(log n).\n"
   ]
  },
  {
   "cell_type": "code",
   "execution_count": 92,
   "metadata": {},
   "outputs": [],
   "source": [
    "class Solution:\n",
    "    def search(self, nums: List[int], target: int) -> int:\n",
    "        left = 0\n",
    "        right = len(nums)-1\n",
    "        while left<=right:\n",
    "            mid = (left + right) // 2\n",
    "            if nums[mid]==target:\n",
    "                return mid\n",
    "            elif nums[mid] < nums[right]:\n",
    "                if nums[mid] < target & target <= nums[right]:\n",
    "                    left = mid+1\n",
    "                else:\n",
    "                    right = mid-1\n",
    "            else:\n",
    "                if nums[left] <= target & target < nums[mid]:\n",
    "                    right = mid-1\n",
    "                else:\n",
    "                    left = mid+1\n",
    "        return -1\n"
   ]
  },
  {
   "cell_type": "markdown",
   "metadata": {},
   "source": [
    "### [search-in-rotated-sorted-array-ii](https://leetcode-cn.com/problems/search-in-rotated-sorted-array-ii/)\n",
    "\n",
    "Suppose an array sorted in ascending order is rotated at some pivot unknown to you beforehand.\n",
    "\n",
    "(i.e., [0,0,1,2,2,5,6] might become [2,5,6,0,0,1,2]).\n",
    "\n",
    "You are given a target value to search. If found in the array return true, otherwise return false.\n"
   ]
  },
  {
   "cell_type": "code",
   "execution_count": 94,
   "metadata": {},
   "outputs": [],
   "source": [
    "class Solution:\n",
    "    def search(self, nums: List[int], target: int) -> bool:\n",
    "        if not nums:\n",
    "            return False\n",
    "        l = 0\n",
    "        r = len(nums)\n",
    "        \n",
    "        while l < r:\n",
    "            mid = l + (r - l) // 2\n",
    "            if target == nums[mid]:\n",
    "                return True\n",
    "            if nums[l] == nums[mid] == nums[r-1]:\n",
    "                l += 1\n",
    "                r -= 1\n",
    "                continue\n",
    "            elif nums[l] <= nums[mid]:\n",
    "                # 左侧递增\n",
    "                if nums[l] <= target < nums[mid]:\n",
    "                    r = mid\n",
    "                else:\n",
    "                    l = mid + 1\n",
    "            else:\n",
    "                # 右侧递增\n",
    "                if nums[mid] < target <= nums[r-1]:\n",
    "                    l = mid + 1\n",
    "                else:\n",
    "                    r = mid\n",
    "        return False"
   ]
  },
  {
   "cell_type": "markdown",
   "metadata": {},
   "source": [
    "# 常考排序算法\n",
    "\n",
    "## 快速排序 (Quick Sort)\n",
    "\n",
    "![quicksort](https://images2017.cnblogs.com/blog/849589/201710/849589-20171015230936371-1413523412.gif)\n",
    "快速排序使用分治法来把一个串（list）分为两个子串（sub-lists）。具体算法描述如下：\n",
    "\n",
    "* 从数列中挑出一个元素，称为 “基准”（pivot）；\n",
    "* 重新排序数列，所有元素比基准值小的摆放在基准前面，所有元素比基准值大的摆在基准的后面（相同的数可以到任一边）。在这个分区退出之后，该基准就处于数列的中间位置。这个称为分区（partition）操作；\n",
    "* 递归地（recursive）把小于基准值元素的子数列和大于基准值元素的子数列排序。"
   ]
  },
  {
   "cell_type": "code",
   "execution_count": 97,
   "metadata": {},
   "outputs": [
    {
     "name": "stdout",
     "output_type": "stream",
     "text": [
      "[0, 1, 2, 3, 4, 5, 6, 7, 9]\n"
     ]
    }
   ],
   "source": [
    "def quick_sort(array, l, r):\n",
    "    if l < r:\n",
    "        q = partition(array, l, r)\n",
    "        quick_sort(array, l, q - 1)\n",
    "        quick_sort(array, q + 1, r)\n",
    "\n",
    "def partition(array, l, r):\n",
    "    p = array[r]\n",
    "    i = l - 1\n",
    "    for j in range(l, r):\n",
    "        if array[j] <= p:\n",
    "            i += 1\n",
    "            array[i], array[j] = array[j], array[i]\n",
    "    array[i + 1], array[r] = array[r], array[i+1]\n",
    "    return i + 1\n",
    "\n",
    "array = [9,3,2,1,4,6,7,0,5]\n",
    "quick_sort(array, 0, len(array)-1)\n",
    "print(array)"
   ]
  },
  {
   "cell_type": "markdown",
   "metadata": {},
   "source": [
    "## 归并排序 (Merge Sort) O(nlogn）\n",
    "\n",
    "![merge_sort](https://images2017.cnblogs.com/blog/849589/201710/849589-20171015230557043-37375010.gif)\n",
    "\n",
    "* 把长度为n的输入序列分成两个长度为n/2的子序列；\n",
    "* 对这两个子序列分别采用归并排序；\n",
    "* 将两个排序好的子序列合并成一个最终的排序序列。\n"
   ]
  },
  {
   "cell_type": "code",
   "execution_count": 98,
   "metadata": {},
   "outputs": [
    {
     "name": "stdout",
     "output_type": "stream",
     "text": [
      "[5, 3, 0, 6, 1, 4]\n",
      "[0, 1, 3, 4, 5, 6]\n"
     ]
    }
   ],
   "source": [
    "def mergesort(array):\n",
    "    if len(array) <= 1:\n",
    "        return array\n",
    "    mid = len(array) // 2  \n",
    "    left = mergesort(array[:mid])\n",
    "    right = mergesort(array[mid:])\n",
    "    return merge(left, right)\n",
    "\n",
    "def merge(left, right):\n",
    "    result = []\n",
    "    i, j = 0, 0 \n",
    "    while i < len(left) and j < len(right):\n",
    "        if left[i] <= right[j]:\n",
    "            result.append(left[i])\n",
    "            i += 1\n",
    "        else:\n",
    "            result.append(right[j])\n",
    "            j += 1\n",
    "    result += left[i:]\n",
    "    result += right[j:]\n",
    "    return result\n",
    "\n",
    "array = [5,3,0,6,1,4]\n",
    "print(array)\n",
    "result = mergesort(array)\n",
    "print(result)"
   ]
  },
  {
   "cell_type": "markdown",
   "metadata": {},
   "source": [
    "# 堆排序（Heap Sort)\n",
    "\n",
    "![heap_sort](https://images2017.cnblogs.com/blog/849589/201710/849589-20171015231308699-356134237.gif)\n",
    "\n",
    "* 将初始待排序关键字序列(R1,R2….Rn)构建成大顶堆，此堆为初始的无序区；\n",
    "* 将堆顶元素R[1]与最后一个元素R[n]交换，此时得到新的无序区(R1,R2,……Rn-1)和新的有序区(Rn),且满足R[1,2…n-1]<=R[n]；\n",
    "* 由于交换后新的堆顶R[1]可能违反堆的性质，因此需要对当前无序区(R1,R2,……Rn-1)调整为新堆，然后再次将R[1]与无序区最后一个元素交换，得到新的* 无序区(R1,R2….Rn-2)和新的有序区(Rn-1,Rn)。不断重复此过程直到有序区的元素个数为n-1，则整个排序过程完成。"
   ]
  },
  {
   "cell_type": "code",
   "execution_count": 101,
   "metadata": {},
   "outputs": [
    {
     "name": "stdout",
     "output_type": "stream",
     "text": [
      "[2, 10, 16, 30, 50, 60, 70, 80, 90]\n"
     ]
    }
   ],
   "source": [
    "class Solution:\n",
    "    def heap_sort(self, nums):\n",
    "        i, l = 0, len(nums)\n",
    "        self.nums = nums\n",
    "        # 构造大顶堆，从非叶子节点开始倒序遍历，因此是l//2 -1 就是最后一个非叶子节点\n",
    "        for i in range(l//2-1, -1, -1): \n",
    "            self.build_heap(i, l-1)\n",
    "        # 上面的循环完成了大顶堆的构造，那么就开始把根节点跟末尾节点交换，然后重新调整大顶堆  \n",
    "        for j in range(l-1, -1, -1):\n",
    "            nums[0], nums[j] = nums[j], nums[0]\n",
    "            self.build_heap(0, j-1)\n",
    "\n",
    "        return nums\n",
    "\n",
    "    def build_heap(self, i, l): \n",
    "        \"\"\"构建大顶堆\"\"\"\n",
    "        nums = self.nums\n",
    "        left, right = 2*i+1, 2*i+2 ## 左右子节点的下标\n",
    "        large_index = i \n",
    "        if left <= l and nums[i] < nums[left]:\n",
    "            large_index = left\n",
    "\n",
    "        if right <= l and nums[left] < nums[right]:\n",
    "            large_index = right\n",
    "\n",
    "        # 通过上面跟左右节点比较后，得出三个元素之间较大的下标，如果较大下表不是父节点的下标，说明交换后需要重新调整大顶堆\n",
    "        if large_index != i:\n",
    "            nums[i], nums[large_index] = nums[large_index], nums[i]\n",
    "            self.build_heap(large_index, l)\n",
    "\n",
    "L = [50, 16, 30, 10, 60,  90,  2, 80, 70]\n",
    "\n",
    "print(Solution().heap_sort(L))\n"
   ]
  },
  {
   "cell_type": "code",
   "execution_count": 103,
   "metadata": {},
   "outputs": [
    {
     "name": "stdout",
     "output_type": "stream",
     "text": [
      "[2, 10, 16, 30, 50, 60, 70, 80, 90]\n"
     ]
    }
   ],
   "source": [
    "from collections import deque\n",
    "\n",
    "\n",
    "def swap_param(L, i, j):\n",
    "    L[i], L[j] = L[j], L[i]\n",
    "    return L\n",
    "\n",
    "\n",
    "def heap_adjust(L, start, end):\n",
    "    temp = L[start]\n",
    "\n",
    "    i = start\n",
    "    j = 2 * i\n",
    "\n",
    "    while j <= end:\n",
    "        if (j < end) and (L[j] < L[j + 1]):\n",
    "            j += 1\n",
    "        if temp < L[j]:\n",
    "            L[i] = L[j]\n",
    "            i = j\n",
    "            j = 2 * i\n",
    "        else:\n",
    "            break\n",
    "    L[i] = temp\n",
    "\n",
    "\n",
    "def heap_sort(L):\n",
    "    L_length = len(L) - 1\n",
    "\n",
    "    first_sort_count = L_length // 2\n",
    "    for i in range(first_sort_count):\n",
    "        heap_adjust(L, first_sort_count - i, L_length)\n",
    "\n",
    "    for i in range(L_length - 1):\n",
    "        L = swap_param(L, 1, L_length - i)\n",
    "        heap_adjust(L, 1, L_length - i - 1)\n",
    "\n",
    "    return [L[i] for i in range(1, len(L))]\n",
    "\n",
    "\n",
    "def main():\n",
    "    L = deque([50, 16, 30, 10, 60,  90,  2, 80, 70])\n",
    "    L.appendleft(0)\n",
    "    print(heap_sort(L))\n",
    "\n",
    "\n",
    "if __name__ == '__main__':\n",
    "    main()\n"
   ]
  },
  {
   "cell_type": "markdown",
   "metadata": {},
   "source": [
    "# 动态规划\n",
    "\n",
    "## [triangle](https://leetcode-cn.com/problems/triangle/)\n",
    "\n",
    "Given a triangle, find the minimum path sum from top to bottom. Each step you may move to adjacent numbers on the row below.\n"
   ]
  },
  {
   "cell_type": "code",
   "execution_count": 104,
   "metadata": {},
   "outputs": [],
   "source": [
    "class Solution:\n",
    "    def minimumTotal(self, triangle: List[List[int]]) -> int:\n",
    "        # bottom to top\n",
    "        # for i in range(len(triangle)-1, 0, -1):\n",
    "        #     for j in range(i):\n",
    "        #         triangle[i-1][j] += min(triangle[i][j], triangle[i][j+1])\n",
    "        # return triangle[0][0]\n",
    "        \n",
    "        # top to bottom\n",
    "        dp = [[float('inf')] * len(triangle) for _ in range(len(triangle))]\n",
    "        dp[0][0] = triangle[0][0]\n",
    "        for i in range(1, len(triangle)):\n",
    "            for j in range(i+1):\n",
    "                dp[i][j] = min(dp[i-1][j-1]+triangle[i][j], dp[i-1][j]+triangle[i][j])\n",
    "        return min(dp[-1])"
   ]
  },
  {
   "cell_type": "markdown",
   "metadata": {},
   "source": [
    "### 递归和动规关系\n",
    "\n",
    "#### 递归是一种程序的实现方式：函数的自我调用\n",
    "\n",
    "#### 动态规划：是一种解决问题的思想，大规模问题的结果，是由小规模问题的结果运算得来的。动态规划可用递归来实现(Memorization Search)\n",
    "\n",
    "#### 使用场景\n",
    "满足两个条件\n",
    "* 满足以下条件之一\n",
    "    * 求最大/最小值（Maximum/Minimum ）\n",
    "    * 求是否可行（Yes/No ）\n",
    "    * 求可行个数（Count(*) ）\n",
    "* 满足不能排序或者交换（Can not sort / swap ）\n",
    "\n",
    "[longest-consecutive-sequence](https://leetcode-cn.com/problems/longest-consecutive-sequence/)\n",
    "位置可以交换，所以不用动态规划"
   ]
  },
  {
   "cell_type": "code",
   "execution_count": 105,
   "metadata": {},
   "outputs": [],
   "source": [
    "class Solution:\n",
    "    def longestConsecutive(self, nums: List[int]) -> int:\n",
    "        if not nums:\n",
    "            return 0\n",
    "\n",
    "        nums.sort()\n",
    "\n",
    "        longest_streak = 1\n",
    "        current_streak = 1\n",
    "\n",
    "        for i in range(1, len(nums)):\n",
    "            if nums[i] != nums[i-1]:\n",
    "                if nums[i] == nums[i-1]+1:\n",
    "                    current_streak += 1\n",
    "                else:\n",
    "                    longest_streak = max(longest_streak, current_streak)\n",
    "                    current_streak = 1"
   ]
  },
  {
   "cell_type": "markdown",
   "metadata": {},
   "source": [
    "### 四点要素\n",
    "1. 状态 State\n",
    "    * 灵感，创造力，存储小规模问题的结果\n",
    "2. 方程 Function\n",
    "    * 状态之间的联系，怎么通过小的状态，来算大的状态\n",
    "3. 初始化 Intialization\n",
    "    * 最极限的小状态是什么, 起点\n",
    "4. 答案 Answer\n",
    "    * 最大的那个状态是什么，终点\n",
    "    \n",
    "### 常见四种类型\n",
    "1. Matrix DP (10%)\n",
    "2. Sequence (40%)\n",
    "3. Two Sequences DP (40%)\n",
    "4. Backpack (10%)\n",
    "\n",
    "### 1. 矩阵类型（10%）\n",
    "[minimum-path-sum](https://leetcode-cn.com/problems/minimum-path-sum/)\n",
    "\n",
    "Given a m x n grid filled with non-negative numbers, find a path from top left to bottom right which minimizes the sum of all numbers along its path.\n",
    "\n",
    "Note: You can only move either down or right at any point in time.\n"
   ]
  },
  {
   "cell_type": "code",
   "execution_count": 106,
   "metadata": {},
   "outputs": [],
   "source": [
    "class Solution:\n",
    "    def minPathSum(self, grid: List[List[int]]) -> int:\n",
    "#         if len(grid) == 0 or len(grid[0]) == 0:\n",
    "#             return 0\n",
    "        \n",
    "#         for i in range(1, len(grid)):\n",
    "#             grid[i][0] = grid[i][0] + grid[i-1][0]\n",
    "#         for j in range(1, len(grid[0])):\n",
    "#             grid[0][j] = grid[0][j] + grid[0][j-1]\n",
    "        \n",
    "#         for i in range(1, len(grid)):\n",
    "#             for j in range(1, len(grid[0])):\n",
    "#                 grid[i][j] = min(grid[i][j-1], grid[i-1][j]) + grid[i][j]\n",
    "                \n",
    "#         return grid[len(grid)-1][len(grid[0])-1]\n",
    "    \n",
    "        dp = [0]*len(grid[0])\n",
    "        m = len(grid)\n",
    "        n = len(grid[0])\n",
    "        c = 0\n",
    "        for i, d in enumerate( grid[0] ):\n",
    "            c+=d\n",
    "            dp[i] = c\n",
    "        for i in range(1, m):\n",
    "            for j in range(0, n):\n",
    "                if j ==0:\n",
    "                    dp[j] = grid[i][j] + dp[j]\n",
    "                else:\n",
    "                    dp[j] = min( dp[j-1], dp[j] ) + grid[i][j]\n",
    "        return dp[-1]"
   ]
  },
  {
   "cell_type": "markdown",
   "metadata": {},
   "source": [
    "[unique-paths](https://leetcode-cn.com/problems/unique-paths/)\n",
    "\n",
    "A robot is located at the top-left corner of a m x n grid (marked 'Start' in the diagram below).\n",
    "\n",
    "The robot can only move either down or right at any point in time. The robot is trying to reach the bottom-right corner of the grid (marked 'Finish' in the diagram below).\n"
   ]
  },
  {
   "cell_type": "code",
   "execution_count": 107,
   "metadata": {},
   "outputs": [],
   "source": [
    "class Solution:\n",
    "    def uniquePaths(self, m: int, n: int) -> int:\n",
    "        cur = [1] * n\n",
    "        for i in range(1, m):\n",
    "            for j in range(1, n):\n",
    "                cur[j] += cur[j-1]\n",
    "        return cur[-1]"
   ]
  },
  {
   "cell_type": "markdown",
   "metadata": {},
   "source": [
    "[unique-paths-ii](https://leetcode-cn.com/problems/unique-paths-ii/)\n",
    "\n",
    "A robot is located at the top-left corner of a m x n grid (marked 'Start' in the diagram below).\n",
    "\n",
    "The robot can only move either down or right at any point in time. The robot is trying to reach the bottom-right corner of the grid (marked 'Finish' in the diagram below).\n"
   ]
  },
  {
   "cell_type": "code",
   "execution_count": 108,
   "metadata": {},
   "outputs": [],
   "source": [
    "class Solution:\n",
    "    def uniquePathsWithObstacles(self, obstacleGrid: List[List[int]]) -> int:\n",
    "        m = len(obstacleGrid)\n",
    "        n = len(obstacleGrid[0])\n",
    "        for i in range(m):\n",
    "            for j in range(n):\n",
    "                if obstacleGrid[i][j]: #如果这一格有障碍物\n",
    "                    obstacleGrid[i][j] = 0\n",
    "                else:\n",
    "                    if not(i or j):\n",
    "                        obstacleGrid[i][j] = 1\n",
    "                    else:\n",
    "                        a = obstacleGrid[i-1][j] if i!=0 else 0 #上方格子\n",
    "                        b = obstacleGrid[i][j-1] if j!=0 else 0 #左方格子\n",
    "                        obstacleGrid[i][j] = a+b\n",
    "\n",
    "        return obstacleGrid[-1][-1]\n"
   ]
  },
  {
   "cell_type": "markdown",
   "metadata": {},
   "source": [
    "### 2. 序列类型 (40%)\n",
    "\n",
    "[climbing-stairs](https://leetcode-cn.com/problems/climbing-stairs/)\n",
    "\n",
    "You are climbing a stair case. It takes n steps to reach to the top.\n",
    "\n",
    "Each time you can either climb 1 or 2 steps. In how many distinct ways can you climb to the top?\n"
   ]
  },
  {
   "cell_type": "code",
   "execution_count": 109,
   "metadata": {},
   "outputs": [],
   "source": [
    "class Solution:\n",
    "    def climbStairs(self, n: int) -> int:\n",
    "        if n <= 2:\n",
    "            return n\n",
    "        \n",
    "        dp = [0]*n\n",
    "        dp[0] = 1\n",
    "        dp[1] = 2\n",
    "        for i in range(2,n):\n",
    "            dp[i] = dp[i-1]+dp[i-2]\n",
    "        return dp[n-1]   \n"
   ]
  },
  {
   "cell_type": "markdown",
   "metadata": {},
   "source": [
    "[jump-game](https://leetcode-cn.com/problems/jump-game/)\n",
    "\n",
    "Given an array of non-negative integers, you are initially positioned at the first index of the array.\n",
    "\n",
    "Each element in the array represents your maximum jump length at that position.\n",
    "\n",
    "Determine if you are able to reach the last index.\n"
   ]
  },
  {
   "cell_type": "code",
   "execution_count": 110,
   "metadata": {},
   "outputs": [],
   "source": [
    "class Solution:\n",
    "    def canJump(self, nums: List[int]) -> bool:\n",
    "        dp=[False]*len(nums)\n",
    "        dp[-1]=True\n",
    "        index=len(nums)-1\n",
    "        for i in range(len(nums)-2,-1,-1):\n",
    "            if index-i<=nums[i]:\n",
    "                index=i\n",
    "                dp[index]=True\n",
    "        \n",
    "        return dp[0]\n"
   ]
  },
  {
   "cell_type": "markdown",
   "metadata": {},
   "source": [
    "[jump-game-ii](https://leetcode-cn.com/problems/jump-game-ii/)\n",
    "\n",
    "Given an array of non-negative integers, you are initially positioned at the first index of the array.\n",
    "\n",
    "Each element in the array represents your maximum jump length at that position.\n",
    "\n",
    "Your goal is to reach the last index in the minimum number of jumps.\n"
   ]
  },
  {
   "cell_type": "code",
   "execution_count": 111,
   "metadata": {},
   "outputs": [],
   "source": [
    "class Solution:\n",
    "    def jump(self, nums: List[int]) -> int:\n",
    "        n = len(nums)\n",
    "        if n <= 1:\n",
    "            return 0\n",
    "        j = 0\n",
    "        dp = [0]\n",
    "        for i in range(n):\n",
    "            if nums[i] + i > j:\n",
    "                dp.extend([dp[i] + 1] * ( nums[i] + i - j))\n",
    "                j = nums[i] + i\n",
    "                if len(dp) >= len(nums):\n",
    "                    return dp[len(nums)-1]\n",
    "\n",
    "    \n",
    "        # n = len(nums)\n",
    "        # maxPos, end, step = 0, 0, 0\n",
    "        # for i in range(n - 1):\n",
    "        #     if maxPos >= i:\n",
    "        #         maxPos = max(maxPos, i + nums[i])\n",
    "        #         if i == end:\n",
    "        #             end = maxPos\n",
    "        #             step += 1\n",
    "        # return step\n"
   ]
  },
  {
   "cell_type": "markdown",
   "metadata": {},
   "source": [
    "[palindrome-partitioning-ii](https://leetcode-cn.com/problems/palindrome-partitioning-ii/)\n",
    "\n",
    "Given a string s, partition s such that every substring of the partition is a palindrome.\n",
    "\n",
    "Return the minimum cuts needed for a palindrome partitioning of s.\n"
   ]
  },
  {
   "cell_type": "code",
   "execution_count": 112,
   "metadata": {},
   "outputs": [],
   "source": [
    "class Solution:\n",
    "    def minCut(self, s: str) -> int:\n",
    "        min_s = list(range(len(s)))\n",
    "        n = len(s)\n",
    "        dp = [[False] * n for _ in range(n)]\n",
    "        for i in range(n):\n",
    "            for j in range(i+1):\n",
    "                if s[i] == s[j] and (i - j < 2 or dp[j + 1][i - 1]):\n",
    "                    dp[j][i] = True\n",
    "                    # 说明不用分割\n",
    "                    if j == 0:\n",
    "                        min_s[i] = 0\n",
    "                    else:\n",
    "                        min_s[i] = min(min_s[i], min_s[j - 1] + 1)\n",
    "        return min_s[-1]\n"
   ]
  },
  {
   "cell_type": "markdown",
   "metadata": {},
   "source": [
    "[longest-increasing-subsequence](https://leetcode-cn.com/problems/longest-increasing-subsequence/)\n",
    "\n",
    "Given an unsorted array of integers, find the length of longest increasing subsequence.\n"
   ]
  },
  {
   "cell_type": "code",
   "execution_count": 114,
   "metadata": {},
   "outputs": [],
   "source": [
    "class Solution:\n",
    "    def lengthOfLIS(self, nums: List[int]) -> int:\n",
    "        dp, length = len(nums)*[0], 0\n",
    "        for num in nums:\n",
    "            l,r = 0,length\n",
    "            while l < r:\n",
    "                mid = (l + r) // 2\n",
    "                if dp[mid] < num:\n",
    "                    l = mid + 1\n",
    "                else:\n",
    "                    r = mid\n",
    "            dp[l] = num\n",
    "            if r == length:\n",
    "                length += 1\n",
    "        return length"
   ]
  },
  {
   "cell_type": "markdown",
   "metadata": {},
   "source": [
    "[word-break](https://leetcode-cn.com/problems/word-break/)\n",
    "\n",
    "Given a non-empty string s and a dictionary wordDict containing a list of non-empty words, determine if s can be segmented into a space-separated sequence of one or more dictionary words.\n"
   ]
  },
  {
   "cell_type": "code",
   "execution_count": 115,
   "metadata": {},
   "outputs": [],
   "source": [
    "class Solution:\n",
    "    def wordBreak(self, s: str, wordDict: List[str]) -> bool:\n",
    "        n = len(s)\n",
    "        dp = [True] + [False] * n\n",
    "        for i in range(n):\n",
    "            if dp[i]:\n",
    "                for j in range(i, n):\n",
    "                    if s[i:j+1] in wordDict:\n",
    "                        dp[j+1] =True\n",
    "        return dp[-1]"
   ]
  },
  {
   "cell_type": "markdown",
   "metadata": {},
   "source": [
    "### 3. Two Sequences DP (40%)\n",
    "\n",
    "[longest-common-subsequence](https://leetcode-cn.com/problems/longest-common-subsequence/)\n",
    "\n",
    "Given two strings text1 and text2, return the length of their longest common subsequence.\n",
    "\n",
    "A subsequence of a string is a new string generated from the original string with some characters(can be none) deleted without changing the relative order of the remaining characters. (eg, \"ace\" is a subsequence of \"abcde\" while \"aec\" is not). A common subsequence of two strings is a subsequence that is common to both strings.\n"
   ]
  },
  {
   "cell_type": "code",
   "execution_count": 2,
   "metadata": {},
   "outputs": [],
   "source": [
    "class Solution:\n",
    "    def longestCommonSubsequence(self, text1: str, text2: str) -> int:\n",
    "        # dp[i][j] a前i个和b前j个字符最长公共子序列\n",
    "        # dp[m+1][n+1]\n",
    "        #   ' a d c e\n",
    "        # ' 0 0 0 0 0\n",
    "        # a 0 1 1 1 1\n",
    "        # c 0 1 1 2 1\n",
    "        \n",
    "        dp = [[0] * (len(text2)+1) for _ in range(len(text1)+1)]\n",
    "        \n",
    "        for i in range(len(text1)):\n",
    "            for j in range(len(text2)):\n",
    "                if text1[i] == text2[j]:\n",
    "                    dp[i+1][j+1] = dp[i][j] + 1\n",
    "                else:\n",
    "                    dp[i+1][j+1] = max(dp[i][j+1], dp[i+1][j])\n",
    "        \n",
    "        return dp[len(text1)][len(text2)]"
   ]
  },
  {
   "cell_type": "markdown",
   "metadata": {},
   "source": [
    "[edit-distance](https://leetcode-cn.com/problems/edit-distance/)\n",
    "\n",
    "Given two words word1 and word2, find the minimum number of operations required to convert word1 to word2.\n",
    "\n",
    "You have the following 3 operations permitted on a word:\n",
    "\n",
    "Insert a character\n",
    "Delete a character\n",
    "Replace a character\n"
   ]
  },
  {
   "cell_type": "code",
   "execution_count": null,
   "metadata": {},
   "outputs": [],
   "source": [
    "class Solution:\n",
    "    def minDistance(self, word1: str, word2: str) -> int:\n",
    "        dp = [[0]*(len(word2)+1) for _ in range(len(word1)+1)]\n",
    "        \n",
    "        for i in range(len(dp)):\n",
    "            dp[i][0] = i\n",
    "        \n",
    "        for j in range(len(dp[0])):\n",
    "            dp[0][j] = j\n",
    "            \n",
    "        for i in range(len(word1)):\n",
    "            for j in range(len(word2)):\n",
    "                if word1[i] == word2[j]:\n",
    "                    dp[i+1][j+1] = dp[i][j]\n",
    "                else:\n",
    "                    dp[i+1][j+1] = min(min(dp[i][j+1], dp[i+1][j]), dp[i][j])+1\n",
    "        return dp[len(word1)][len(word2)]"
   ]
  }
 ],
 "metadata": {
  "kernelspec": {
   "display_name": "Python 3",
   "language": "python",
   "name": "python3"
  },
  "language_info": {
   "codemirror_mode": {
    "name": "ipython",
    "version": 3
   },
   "file_extension": ".py",
   "mimetype": "text/x-python",
   "name": "python",
   "nbconvert_exporter": "python",
   "pygments_lexer": "ipython3",
   "version": "3.7.8"
  }
 },
 "nbformat": 4,
 "nbformat_minor": 2
}
