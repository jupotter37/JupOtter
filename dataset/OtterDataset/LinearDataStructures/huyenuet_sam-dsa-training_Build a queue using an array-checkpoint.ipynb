{
 "cells": [
  {
   "cell_type": "markdown",
   "metadata": {},
   "source": [
    "# Implement a queue using an array\n",
    "\n",
    "In this notebook, we'll look at one way to implement a queue by using an array. First, check out the walkthrough for an overview of the concepts, and then we'll take a look at the code."
   ]
  },
  {
   "cell_type": "markdown",
   "metadata": {},
   "source": [
    "[Walkthrough]"
   ]
  },
  {
   "cell_type": "markdown",
   "metadata": {},
   "source": [
    "![People waiting in line.](assets/queue_with_array.png)"
   ]
  },
  {
   "cell_type": "markdown",
   "metadata": {},
   "source": [
    " "
   ]
  },
  {
   "cell_type": "markdown",
   "metadata": {},
   "source": [
    "## Functionality\n",
    "\n",
    "Once implemented, our queue will need to have the following functionality:\n",
    "1. `enqueue`  - adds data to the back of the queue\n",
    "2. `dequeue`  - removes data from the front of the queue\n",
    "3. `front`    - returns the element at the front of the queue\n",
    "4. `size`     - returns the number of elements present in the queue\n",
    "5. `is_empty` - returns `True` if there are no elements in the queue, and `False` otherwise\n",
    "6. `_handle_full_capacity` - increases the capacity of the array, for cases in which the queue would otherwise overflow\n",
    "\n",
    "Also, if the queue is empty, `dequeue` and `front` operations should return `None`.\n",
    "\n",
    "In the end, we'll see that all of the above operations will take $O(1)$ time complexity."
   ]
  },
  {
   "cell_type": "markdown",
   "metadata": {},
   "source": [
    "## 1. Create the `queue` class and its `__init__` method\n",
    "First, have a look at the walkthrough:"
   ]
  },
  {
   "cell_type": "markdown",
   "metadata": {},
   "source": [
    "[Walkthrough]"
   ]
  },
  {
   "cell_type": "markdown",
   "metadata": {},
   "source": [
    "Now give it a try for yourself. In the cell below:\n",
    "* Define a class named `Queue` and add the `__init__` method\n",
    "* Initialize the `arr` attribute with an array containing 10 elements, like this: `[0, 0, 0, 0, 0, 0, 0, 0, 0, 0]`\n",
    "* Initialize the `next_index` attribute\n",
    "* Initialize the `front_index` attribute\n",
    "* Initialize the `queue_size` attribute"
   ]
  },
  {
   "cell_type": "code",
   "execution_count": null,
   "metadata": {},
   "outputs": [],
   "source": []
  },
  {
   "cell_type": "code",
   "execution_count": null,
   "metadata": {},
   "outputs": [],
   "source": [
    "# Solution\n",
    "class Queue:\n",
    "\n",
    "    def __init__(self, initial_size=10):\n",
    "        self.arr = [0 for _ in range(initial_size)]\n",
    "        self.next_index = 0\n",
    "        self.front_index = -1\n",
    "        self.queue_size = 0"
   ]
  },
  {
   "cell_type": "markdown",
   "metadata": {},
   "source": [
    "Let's check that the array is being initialized correctly. We can create a `Queue` object and access the `arr` attribute, and we should see our ten-element array:"
   ]
  },
  {
   "cell_type": "code",
   "execution_count": 5,
   "metadata": {},
   "outputs": [
    {
     "name": "stdout",
     "output_type": "stream",
     "text": [
      "[0, 0, 0, 0, 0, 0, 0, 0, 0, 0]\n",
      "Pass\n"
     ]
    }
   ],
   "source": [
    "q = Queue()\n",
    "print(q.arr)\n",
    "print(\"Pass\" if q.arr == [0, 0, 0, 0, 0, 0, 0, 0, 0, 0] else \"Fail\")"
   ]
  },
  {
   "cell_type": "markdown",
   "metadata": {},
   "source": [
    "## 2. Add the `enqueue` method"
   ]
  },
  {
   "cell_type": "markdown",
   "metadata": {},
   "source": [
    "[Walkthrough]"
   ]
  },
  {
   "cell_type": "markdown",
   "metadata": {},
   "source": [
    "In the cell below, add the code for the enqueue method.\n",
    "\n",
    "The method should:\n",
    "* Take a value as input and assign this value to the next free slot in the array\n",
    "* Increment `queue_size`\n",
    "* Increment `next_index` (this is where you'll need to use the modulo operator `%`)\n",
    "* If the front index is `-1` (because the queue was empty), it should set the front index to `0`"
   ]
  },
  {
   "cell_type": "code",
   "execution_count": null,
   "metadata": {},
   "outputs": [],
   "source": [
    "class Queue:\n",
    "\n",
    "    def __init__(self, initial_size=10):\n",
    "        self.arr = [0 for _ in range(initial_size)]\n",
    "        self.next_index = 0\n",
    "        self.front_index = -1\n",
    "        self.queue_size = 0\n",
    "\n",
    "    # TODO: Add the enqueue method"
   ]
  },
  {
   "cell_type": "code",
   "execution_count": null,
   "metadata": {},
   "outputs": [],
   "source": [
    "# Solution\n",
    "class Queue:\n",
    "\n",
    "    def __init__(self, initial_size=10):\n",
    "        self.arr = [0 for _ in range(initial_size)]\n",
    "        self.next_index = 0\n",
    "        self.front_index = -1\n",
    "        self.queue_size = 0\n",
    "\n",
    "    def enqueue(self, value):\n",
    "        # enqueue new element\n",
    "        self.arr[self.next_index] = value\n",
    "        self.queue_size += 1\n",
    "        self.next_index = (self.next_index + 1) % len(self.arr)\n",
    "        if self.front_index == -1:\n",
    "            self.front_index = 0"
   ]
  },
  {
   "cell_type": "markdown",
   "metadata": {},
   "source": [
    "## 3. Add the `size`,  `is_empty`, and `front` methods\n",
    "\n",
    "Just like with stacks, we need methods to keep track of the size of the queue and whether it is empty. We can also add a `front` method that returns the value of the front element.\n",
    "* Add a `size` method that returns the current size of the queue\n",
    "* Add an `is_empty` method that returns `True` if the queue is empty and `False` otherwise\n",
    "* Add a `front` method that returns the value for the front element (whatever item is located at the `front_index` position). If the queue is empty, the `front` method should return None."
   ]
  },
  {
   "cell_type": "code",
   "execution_count": null,
   "metadata": {},
   "outputs": [],
   "source": [
    "class Queue:\n",
    "\n",
    "    def __init__(self, initial_size=10):\n",
    "        self.arr = [0 for _ in range(initial_size)]\n",
    "        self.next_index = 0\n",
    "        self.front_index = -1\n",
    "        self.queue_size = 0\n",
    "\n",
    "    def enqueue(self, value):\n",
    "        # enqueue new element\n",
    "        self.arr[self.next_index] = value\n",
    "        self.queue_size += 1\n",
    "        self.next_index = (self.next_index + 1) % len(self.arr)\n",
    "        if self.front_index == -1:\n",
    "            self.front_index = 0\n",
    "            \n",
    "    # TODO: Add the size method\n",
    "    \n",
    "    # TODO: Add the is_empty method\n",
    "\n",
    "    # TODO: Add the front method"
   ]
  },
  {
   "cell_type": "code",
   "execution_count": null,
   "metadata": {},
   "outputs": [],
   "source": [
    "# Solution\n",
    "class Queue:\n",
    "\n",
    "    def __init__(self, initial_size=10):\n",
    "        self.arr = [0 for _ in range(initial_size)]\n",
    "        self.next_index = 0\n",
    "        self.front_index = -1\n",
    "        self.queue_size = 0\n",
    "\n",
    "    def enqueue(self, value):\n",
    "        # enqueue new element\n",
    "        self.arr[self.next_index] = value\n",
    "        self.queue_size += 1\n",
    "        self.next_index = (self.next_index + 1) % len(self.arr)\n",
    "        if self.front_index == -1:\n",
    "            self.front_index = 0\n",
    "\n",
    "    def size(self):\n",
    "        return self.queue_size\n",
    "\n",
    "    def is_empty(self):\n",
    "        return self.size() == 0\n",
    "    \n",
    "    def front(self):\n",
    "        # check if queue is empty\n",
    "        if self.is_empty():\n",
    "            return None\n",
    "        return self.arr[self.front_index]"
   ]
  },
  {
   "cell_type": "markdown",
   "metadata": {},
   "source": [
    "## 4. Add the `dequeue` method"
   ]
  },
  {
   "cell_type": "code",
   "execution_count": null,
   "metadata": {},
   "outputs": [],
   "source": [
    "class Queue:\n",
    "\n",
    "    def __init__(self, initial_size=10):\n",
    "        self.arr = [0 for _ in range(initial_size)]\n",
    "        self.next_index = 0\n",
    "        self.front_index = -1\n",
    "        self.queue_size = 0\n",
    "\n",
    "    def enqueue(self, value):\n",
    "        # enqueue new element\n",
    "        self.arr[self.next_index] = value\n",
    "        self.queue_size += 1\n",
    "        self.next_index = (self.next_index + 1) % len(self.arr)\n",
    "        if self.front_index == -1:\n",
    "            self.front_index = 0\n",
    "            \n",
    "    # TODO: Add the dequeue method\n",
    "\n",
    "    def size(self):\n",
    "        return self.queue_size\n",
    "\n",
    "    def is_empty(self):\n",
    "        return self.size() == 0\n",
    "    \n",
    "    def front(self):\n",
    "        # check if queue is empty\n",
    "        if self.is_empty():\n",
    "            return None\n",
    "        return self.arr[self.front_index]"
   ]
  },
  {
   "cell_type": "code",
   "execution_count": null,
   "metadata": {},
   "outputs": [],
   "source": [
    "# Solution\n",
    "class Queue:\n",
    "\n",
    "    def __init__(self, initial_size=10):\n",
    "        self.arr = [0 for _ in range(initial_size)]\n",
    "        self.next_index = 0\n",
    "        self.front_index = -1\n",
    "        self.queue_size = 0\n",
    "\n",
    "    def enqueue(self, value):\n",
    "        # enqueue new element\n",
    "        self.arr[self.next_index] = value\n",
    "        self.queue_size += 1\n",
    "        self.next_index = (self.next_index + 1) % len(self.arr)\n",
    "        if self.front_index == -1:\n",
    "            self.front_index = 0\n",
    "            \n",
    "    def dequeue(self):\n",
    "        # check if queue is empty\n",
    "        if self.is_empty():\n",
    "            self.front_index = -1   # resetting pointers\n",
    "            self.next_index = 0\n",
    "            return None\n",
    "\n",
    "        # dequeue front element\n",
    "        value = self.arr[self.front_index]\n",
    "        self.front_index = (self.front_index + 1) % len(self.arr)\n",
    "        self.queue_size -= 1\n",
    "        return value\n",
    "\n",
    "    def size(self):\n",
    "        return self.queue_size\n",
    "\n",
    "    def is_empty(self):\n",
    "        return self.size() == 0\n",
    "    \n",
    "    def front(self):\n",
    "        # check if queue is empty\n",
    "        if self.is_empty():\n",
    "            return None\n",
    "        return self.arr[self.front_index]"
   ]
  },
  {
   "cell_type": "markdown",
   "metadata": {},
   "source": [
    "## 6. Add the `_handle_queue_capacity_full` method"
   ]
  },
  {
   "cell_type": "markdown",
   "metadata": {},
   "source": [
    "[Walkthrough]\n",
    "\n",
    "First, define the `_handle_queue_capacity_full` method:\n",
    "* Define an `old_arr` variable and assign the the current (full) array so that we have a copy of it\n",
    "* Create a new (larger) array and assign it to `arr`.\n",
    "* Iterate over the values in the old array and copy them to the new array. Remember that you'll need two `for` loops for this.\n",
    "\n",
    "Then, in the `enqueue` method:\n",
    "* Add a conditional to check if the queue is full; if it is, call  `_handle_queue_capacity_full`"
   ]
  },
  {
   "cell_type": "code",
   "execution_count": null,
   "metadata": {},
   "outputs": [],
   "source": [
    "class Queue:\n",
    "\n",
    "    def __init__(self, initial_size=10):\n",
    "        self.arr = [0 for _ in range(initial_size)]\n",
    "        self.next_index = 0\n",
    "        self.front_index = -1\n",
    "        self.queue_size = 0\n",
    "\n",
    "    def enqueue(self, value):\n",
    "        # TODO: Check if the queue is full; if it is, call the _handle_queue_capacity_full method\n",
    "\n",
    "        # enqueue new element\n",
    "        self.arr[self.next_index] = value\n",
    "        self.queue_size += 1\n",
    "        self.next_index = (self.next_index + 1) % len(self.arr)\n",
    "        if self.front_index == -1:\n",
    "            self.front_index = 0\n",
    "\n",
    "    def dequeue(self):\n",
    "        # check if queue is empty\n",
    "        if self.is_empty():\n",
    "            self.front_index = -1   # resetting pointers\n",
    "            self.next_index = 0\n",
    "            return None\n",
    "\n",
    "        # dequeue front element\n",
    "        value = self.arr[self.front_index]\n",
    "        self.front_index = (self.front_index + 1) % len(self.arr)\n",
    "        self.queue_size -= 1\n",
    "        return value\n",
    "\n",
    "    def size(self):\n",
    "        return self.queue_size\n",
    "\n",
    "    def is_empty(self):\n",
    "        return self.size() == 0\n",
    "    \n",
    "    def front(self):\n",
    "        # check if queue is empty\n",
    "        if self.is_empty():\n",
    "            return None\n",
    "        return self.arr[self.front_index]\n",
    "\n",
    "    # TODO: Add the _handle_queue_capacity_full method"
   ]
  },
  {
   "cell_type": "code",
   "execution_count": 2,
   "metadata": {},
   "outputs": [],
   "source": [
    "# Full solution\n",
    "class Queue:\n",
    "\n",
    "    def __init__(self, initial_size=10):\n",
    "        self.arr = [0 for _ in range(initial_size)]\n",
    "        self.next_index = 0\n",
    "        self.front_index = -1\n",
    "        self.queue_size = 0\n",
    "\n",
    "    def enqueue(self, value):\n",
    "        # if queue is already full --> increase capacity\n",
    "        if self.queue_size == len(self.arr):\n",
    "            self._handle_queue_capacity_full()\n",
    "\n",
    "        # enqueue new element\n",
    "        self.arr[self.next_index] = value\n",
    "        self.queue_size += 1\n",
    "        self.next_index = (self.next_index + 1) % len(self.arr)\n",
    "        if self.front_index == -1:\n",
    "            self.front_index = 0\n",
    "\n",
    "    def dequeue(self):\n",
    "        # check if queue is empty\n",
    "        if self.is_empty():\n",
    "            self.front_index = -1   # resetting pointers\n",
    "            self.next_index = 0\n",
    "            return None\n",
    "\n",
    "        # dequeue front element\n",
    "        value = self.arr[self.front_index]\n",
    "        self.front_index = (self.front_index + 1) % len(self.arr)\n",
    "        self.queue_size -= 1\n",
    "        return value\n",
    "\n",
    "    def size(self):\n",
    "        return self.queue_size\n",
    "\n",
    "    def is_empty(self):\n",
    "        return self.size() == 0\n",
    "    \n",
    "    def front(self):\n",
    "        # check if queue is empty\n",
    "        if self.is_empty():\n",
    "            return None\n",
    "        return self.arr[self.front_index]\n",
    "\n",
    "    def _handle_queue_capacity_full(self):\n",
    "        old_arr = self.arr\n",
    "        self.arr = [0 for _ in range(2 * len(old_arr))]\n",
    "\n",
    "        index = 0\n",
    "\n",
    "        # copy all elements from front of queue (front-index) until end\n",
    "        for i in range(self.front_index, len(old_arr)):\n",
    "            self.arr[index] = old_arr[i]\n",
    "            index += 1\n",
    "\n",
    "        # case: when front-index is ahead of next index\n",
    "        for i in range(0, self.front_index):\n",
    "            self.arr[index] = old_arr[i]\n",
    "            index += 1\n",
    "\n",
    "        # reset pointers\n",
    "        self.front_index = 0\n",
    "        self.next_index = index\n"
   ]
  },
  {
   "cell_type": "markdown",
   "metadata": {},
   "source": [
    "### Test your queue"
   ]
  },
  {
   "cell_type": "code",
   "execution_count": 3,
   "metadata": {},
   "outputs": [
    {
     "name": "stdout",
     "output_type": "stream",
     "text": [
      "Pass\n",
      "Pass\n",
      "Pass\n",
      "Pass\n",
      "Pass\n",
      "Pass\n"
     ]
    }
   ],
   "source": [
    "# Setup\n",
    "q = Queue()\n",
    "q.enqueue(1)\n",
    "q.enqueue(2)\n",
    "q.enqueue(3)\n",
    "\n",
    "# Test size\n",
    "print (\"Pass\" if (q.size() == 3) else \"Fail\")\n",
    "\n",
    "# Test dequeue\n",
    "print (\"Pass\" if (q.dequeue() == 1) else \"Fail\")\n",
    "\n",
    "# Test enqueue\n",
    "q.enqueue(4)\n",
    "print (\"Pass\" if (q.dequeue() == 2) else \"Fail\")\n",
    "print (\"Pass\" if (q.dequeue() == 3) else \"Fail\")\n",
    "print (\"Pass\" if (q.dequeue() == 4) else \"Fail\")\n",
    "q.enqueue(5)\n",
    "print (\"Pass\" if (q.size() == 1) else \"Fail\")"
   ]
  },
  {
   "cell_type": "markdown",
   "metadata": {},
   "source": [
    "## Time Complexity for Queues using arrays\n",
    "\n",
    "1. `enqueue` - when we add an element to the queue, we are simply adding an element to the `next_index`. In an array, setting an index takes O(1) time. Thus enqueue has O(1) time complexity\n",
    "\n",
    "2. `dequeue` - when we remove an element from the queue, we simply add 1 to the `front_index` (shift the front-index by 1). We do not actually delete the data. Because a queue is an abstract data type and only the `enqueue` and `dequeue` operations are visible to the user, the data at the `front-index` becomes garbage data that will be overwritten later by `next-index`.  Shifting index by 1 takes O(1) time hence dequeue has O(1) time complexity\n",
    "\n",
    "It seems that when the capacity of internal array is full in a queue would make the overall time complexity of queue operations to O(n). However, that's not the case\n",
    "\n",
    "1. Let's take a queue with an internal array of capacity 100. Let this queue be full. Now, the minimum number of operations required to fill this capacity would be 100 enqueue operations. \n",
    "\n",
    "2. At this point we create a new array and copy all the elements of the current array to this new array. Number of operations required in this task = 100\n",
    "\n",
    "We can notice that for 100 O(1) enqueue / dequeue operations we had to do 100 shift operations. \n",
    "\n",
    "$$num-elements = 100$$\n",
    "$$total-operations = 200$$\n",
    "\n",
    "Next time, to fill the 200 capacity, we would have to do 100 enqueue operations more. Further, the copying would require 200 copy operations. For this particular step\n",
    "\n",
    "$$num-elements = 100$$\n",
    "$$total-operations = 200$$\n",
    "\n",
    "At this point, \n",
    "\n",
    "$$total-num-elements = 200$$\n",
    "$$total-operations = 400$$\n",
    "\n",
    "\n",
    "Extrapolating this, we can notice that total operations are always twice the number of elements in the array (roughly). So the overall worst case time complexity is indeed O(2n) or O(n).\n",
    "\n",
    "However, there is something called amortized time complexity which essentially means that we consider the cost of operation over an extended period of time. The amortized time complexity for both `enqueue` and `dequeue` operations is still O(1) because both the operations happen in constant time and do not depend on the number of elements we have. \n"
   ]
  },
  {
   "cell_type": "markdown",
   "metadata": {},
   "source": [
    "## Additional points\n",
    "\n",
    "1. The time complexity given above is for the array-implementation of queues. In reality, we tend to use Linked List implementation where the complexity for all operations is O(1). \n",
    "\n",
    "2. The `initial_size` (which can have a default value or a user provided value) is also limited to the array-implementation. This `initial_size` is the denotes the length of the array that was chosen when creating the array. We know that arrays (C-style) have a fixed size. So, when the array is full, we create a new array (usually of twice the capacity than the original array). Then we copy all the elements of the original array to this new array. This new array is then used to store elements and for all future operations (enqueue / dequeue). \n",
    "\n",
    "When this new array gets filled, the same process is repeated. A new array is again created and all elements from our current array are copied to this new array. "
   ]
  },
  {
   "cell_type": "code",
   "execution_count": null,
   "metadata": {},
   "outputs": [],
   "source": []
  }
 ],
 "metadata": {
  "kernelspec": {
   "display_name": "Python 3",
   "language": "python",
   "name": "python3"
  },
  "language_info": {
   "codemirror_mode": {
    "name": "ipython",
    "version": 3
   },
   "file_extension": ".py",
   "mimetype": "text/x-python",
   "name": "python",
   "nbconvert_exporter": "python",
   "pygments_lexer": "ipython3",
   "version": "3.7.1"
  }
 },
 "nbformat": 4,
 "nbformat_minor": 2
}
