{
 "cells": [
  {
   "cell_type": "markdown",
   "metadata": {
    "toc": true
   },
   "source": [
    "<h1>Table of Contents<span class=\"tocSkip\"></span></h1>\n",
    "<div class=\"toc\" style=\"margin-top: 1em;\"><ul class=\"toc-item\"><li><span><a href=\"#Basic-sequence-types\" data-toc-modified-id=\"Basic-sequence-types-1\"><span class=\"toc-item-num\">1&nbsp;&nbsp;</span>Basic sequence types</a></span><ul class=\"toc-item\"><li><span><a href=\"#List\" data-toc-modified-id=\"List-1.1\"><span class=\"toc-item-num\">1.1&nbsp;&nbsp;</span>List</a></span></li><li><span><a href=\"#Tuple\" data-toc-modified-id=\"Tuple-1.2\"><span class=\"toc-item-num\">1.2&nbsp;&nbsp;</span>Tuple</a></span></li><li><span><a href=\"#Set\" data-toc-modified-id=\"Set-1.3\"><span class=\"toc-item-num\">1.3&nbsp;&nbsp;</span>Set</a></span></li><li><span><a href=\"#Dict\" data-toc-modified-id=\"Dict-1.4\"><span class=\"toc-item-num\">1.4&nbsp;&nbsp;</span>Dict</a></span></li></ul></li><li><span><a href=\"#Collections-module\" data-toc-modified-id=\"Collections-module-2\"><span class=\"toc-item-num\">2&nbsp;&nbsp;</span>Collections module</a></span><ul class=\"toc-item\"><li><span><a href=\"#collections.namedtuple\" data-toc-modified-id=\"collections.namedtuple-2.1\"><span class=\"toc-item-num\">2.1&nbsp;&nbsp;</span>collections.namedtuple</a></span></li><li><span><a href=\"#collections.deque\" data-toc-modified-id=\"collections.deque-2.2\"><span class=\"toc-item-num\">2.2&nbsp;&nbsp;</span>collections.deque</a></span></li><li><span><a href=\"#collections.defaultdict\" data-toc-modified-id=\"collections.defaultdict-2.3\"><span class=\"toc-item-num\">2.3&nbsp;&nbsp;</span>collections.defaultdict</a></span></li><li><span><a href=\"#collections.Counter\" data-toc-modified-id=\"collections.Counter-2.4\"><span class=\"toc-item-num\">2.4&nbsp;&nbsp;</span>collections.Counter</a></span></li></ul></li></ul></div>"
   ]
  },
  {
   "cell_type": "markdown",
   "metadata": {},
   "source": [
    "## Basic sequence types\n",
    "\n",
    "- list, tuple, set, dict\n",
    "\n",
    "### List\n",
    "\n",
    "- mutable (e.g. append)"
   ]
  },
  {
   "cell_type": "code",
   "execution_count": 1,
   "metadata": {},
   "outputs": [
    {
     "data": {
      "text/plain": [
       "20"
      ]
     },
     "execution_count": 1,
     "metadata": {},
     "output_type": "execute_result"
    }
   ],
   "source": [
    "l = [4, 2, '4', '3', 4, 5.3, 6]\n",
    "l[:3] # exclusive\n",
    "l[3:] # inclusive\n",
    "l[1:3]\n",
    "l[1:5:2] # slice every 2nd from 1 to 5\n",
    "l[:] = [1, 2, 3] # clear list and recreate with elements\n",
    "first, second, *remainder, last = l # unpack list\n",
    "\n",
    "l.append(7) # append inplace\n",
    "\n",
    "l.pop() # list can be used as stack with append() + pop()\n",
    "\n",
    "l.index(2) # returns index of first matching 2\n",
    "l.count(4) # no 4's in list\n",
    "\n",
    "l[:0] = [-2, -1] # prepend elements to list\n",
    "\n",
    "l += [8, 9] # create new list from concatenated lists \n",
    "\n",
    "3 * [0] # [0, 0, 0]\n",
    "\n",
    "2 in l # True\n",
    "[2, 3] in l # False\n",
    "[2, 3] in [1, [2,3], 4] # True\n",
    "\n",
    "[x**2 for x in [1, 2, 3]] # use list comprehension for modifying elements in list\n",
    "\n",
    "sum(map(int,l))"
   ]
  },
  {
   "cell_type": "markdown",
   "metadata": {},
   "source": [
    "### Tuple\n",
    "\n",
    "- immutable\n",
    "- otherwise behaves similar to list"
   ]
  },
  {
   "cell_type": "code",
   "execution_count": 2,
   "metadata": {
    "collapsed": true
   },
   "outputs": [],
   "source": [
    "t = (4, 2, '4', '3', 4, 5.3, 6)"
   ]
  },
  {
   "cell_type": "markdown",
   "metadata": {},
   "source": [
    "### Set"
   ]
  },
  {
   "cell_type": "code",
   "execution_count": 3,
   "metadata": {},
   "outputs": [
    {
     "data": {
      "text/plain": [
       "False"
      ]
     },
     "execution_count": 3,
     "metadata": {},
     "output_type": "execute_result"
    }
   ],
   "source": [
    "s1 = {1, 2, 3}\n",
    "s2 = {2, 4, 6}\n",
    "\n",
    "s1 - s2 # s1.difference(s2) \n",
    "s1 & s2 # s1.intersection(s2)\n",
    "s1 | s2 # s1.union(s2)\n",
    "s1 ^ s2 # XOR: s1.symmetric_difference(s2)\n",
    "\n",
    "s1 >= s2 # s1.issuperset(s2)x\n",
    "s1.issubset(s2) # False\n",
    "\n",
    "# inplace add, remove, discard, pop, clear, ...\n",
    "s1.add(10)\n",
    "\n",
    "s1.isdisjoint(s2) # False due to 2"
   ]
  },
  {
   "cell_type": "markdown",
   "metadata": {},
   "source": [
    "### Dict"
   ]
  },
  {
   "cell_type": "code",
   "execution_count": 4,
   "metadata": {},
   "outputs": [
    {
     "name": "stdout",
     "output_type": "stream",
     "text": [
      "1 foo\n",
      "2 bar\n"
     ]
    }
   ],
   "source": [
    "# dict / hashmap\n",
    "d = {1:'foo', 2:'bar'}\n",
    "d = dict(zip([1, 2], ['foo', 'bar']))\n",
    "\n",
    "d[1]\n",
    "d.get(3) # None instead of KeyError\n",
    "d.get(3, 'fallback')\n",
    "\n",
    "1 in d # 1 in d.keys()\n",
    "'foo' in d.values()\n",
    "\n",
    "for (k, v) in d.items(): # unpacking\n",
    "    print(k, v)"
   ]
  },
  {
   "cell_type": "markdown",
   "metadata": {},
   "source": [
    "## Collections module\n",
    "\n",
    "### collections.namedtuple"
   ]
  },
  {
   "cell_type": "code",
   "execution_count": 5,
   "metadata": {
    "collapsed": true
   },
   "outputs": [],
   "source": [
    "from collections import namedtuple\n",
    "Point = namedtuple('Point', ['x', 'y'])\n",
    "p = Point(11, y=22)\n",
    "p.x == p[0]\n",
    "\n",
    "t = [1, 2]\n",
    "p2 = Point(*t)"
   ]
  },
  {
   "cell_type": "markdown",
   "metadata": {},
   "source": [
    "### collections.deque\n",
    "\n",
    "- pronounced \"deck\"\n",
    "- stands for \"double-ended queue\"\n",
    "- implemented as doubly linked list (but uses list of arrays internally for performance)\n",
    "- FIFO: queue\n",
    "- LIFO: stack\n",
    "- faster than implementations in queue module but not synchronized\n",
    "- Java equivalent: `Queue<T> = new ArrayDeque<>();`"
   ]
  },
  {
   "cell_type": "code",
   "execution_count": 6,
   "metadata": {},
   "outputs": [
    {
     "name": "stdout",
     "output_type": "stream",
     "text": [
      "4\n",
      "7\n",
      "1\n",
      "4\n",
      "deque([0, 1, 2], maxlen=3)\n"
     ]
    }
   ],
   "source": [
    "from collections import deque\n",
    "stack = deque([1, 2, 3])\n",
    "stack.append(4)\n",
    "last_in = stack.pop() # 4\n",
    "stack.extend([5, 6, 7])\n",
    "print(last_in)\n",
    "print(stack[-1]) # peek right\n",
    "\n",
    "\n",
    "queue = deque([1, 2, 3])\n",
    "queue.append(4) # atomic operation\n",
    "first_in = queue.popleft() # atomic operation\n",
    "queue.extendleft([5, 4]) # order in queue is reverse of argument since items are inserted left one after another\n",
    "print(first_in)\n",
    "print(queue[0]) # peek left\n",
    "\n",
    "limited_deque = deque(range(3), maxlen=3)\n",
    "limited_deque.append(3) # since queue is full left element is dropped\n",
    "limited_deque.appendleft(0) # right element is dropped\n",
    "print(limited_deque)"
   ]
  },
  {
   "cell_type": "markdown",
   "metadata": {},
   "source": [
    "### collections.defaultdict\n",
    "- can be used to conveniently create a multimap\n",
    "- Java equivalent: `Map<K, List<V>>` or Guava `Multimap`"
   ]
  },
  {
   "cell_type": "code",
   "execution_count": 7,
   "metadata": {
    "collapsed": true
   },
   "outputs": [],
   "source": [
    "from collections import defaultdict\n",
    "dd = defaultdict(list)\n",
    "dd['key'].append('val1') # {'key': ['val1']}\n",
    "dd['key'].append('val2') # {'key': ['val1', 'val2']}"
   ]
  },
  {
   "cell_type": "markdown",
   "metadata": {},
   "source": [
    "### collections.Counter\n",
    "- can be used to conveniently create a [counting multiset](https://en.wikipedia.org/wiki/Multiset#Counting_multisets)\n",
    "- Java equivalent: `Map<E, Integer>` or Guava `Multiset`"
   ]
  },
  {
   "cell_type": "code",
   "execution_count": 8,
   "metadata": {
    "collapsed": true
   },
   "outputs": [],
   "source": [
    "from collections import Counter\n",
    "word_count = Counter('two times two four'.split()) # {'four': 1, 'times': 1, 'two': 2}\n",
    "word_count.update(['four']) # {'four': 2, 'times': 1, 'two': 2}\n",
    "\n",
    "# TODO several missing"
   ]
  }
 ],
 "metadata": {
  "kernelspec": {
   "display_name": "Python 3",
   "language": "python",
   "name": "python3"
  },
  "language_info": {
   "codemirror_mode": {
    "name": "ipython",
    "version": 3
   },
   "file_extension": ".py",
   "mimetype": "text/x-python",
   "name": "python",
   "nbconvert_exporter": "python",
   "pygments_lexer": "ipython3",
   "version": "3.6.3"
  },
  "toc": {
   "nav_menu": {},
   "number_sections": true,
   "sideBar": true,
   "skip_h1_title": true,
   "toc_cell": true,
   "toc_position": {},
   "toc_section_display": "block",
   "toc_window_display": false
  }
 },
 "nbformat": 4,
 "nbformat_minor": 2
}
