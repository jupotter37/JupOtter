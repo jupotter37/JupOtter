{
 "cells": [
  {
   "cell_type": "markdown",
   "id": "531080de",
   "metadata": {},
   "source": [
    "A queue is \"First in First Out\" (FIFO) structure.\n",
    "\n",
    "The operations in stack:\n",
    "1. Enqueue operation ==> Insert data (only at the end/rear)\n",
    "2. Dequeue operation ==> Delete data (only at the front)\n",
    "\n",
    "Additional operations:\n",
    "1. front ==> Returns the element at the front without removing it\n",
    "2. isEmpty ==> Indicates whether no elements are stored in the queue or not "
   ]
  },
  {
   "cell_type": "markdown",
   "id": "5ce69626",
   "metadata": {},
   "source": [
    "Queue is Abstract Data Type (ADT) which means a type of class (or an object) that has its own operations but do not specify how these operations should be implemented.\n",
    "\n",
    "Because it is ADT, we can implement the behavior of operations (such as enqueue, dequeue) using array, linked list, or any data structure."
   ]
  },
  {
   "attachments": {
    "queue.png": {
     "image/png": "[encoded data removed]"
    }
   },
   "cell_type": "markdown",
   "id": "03ea89d0",
   "metadata": {},
   "source": [
    "![queue.png](attachment:queue.png)"
   ]
  },
  {
   "cell_type": "markdown",
   "id": "21c51dfc",
   "metadata": {},
   "source": [
    "# Python's list-based"
   ]
  },
  {
   "cell_type": "code",
   "execution_count": null,
   "id": "e15180d3",
   "metadata": {},
   "outputs": [],
   "source": [
    "class Queue:\n",
    "    '''\n",
    "        The 0 index is rear or end.\n",
    "        The items.length is front.\n",
    "    '''\n",
    "    def __init__(self, size = 3):\n",
    "        self.size = size\n",
    "        self.items = []\n",
    "        self.front = self.rear = 0\n",
    "    \n",
    "    def enqueue(self, data):\n",
    "        if self.size == self.rear:\n",
    "            print(\"\\n Queue is full\")\n",
    "        else:\n",
    "            self.items.append(data)\n",
    "            self.rear += 1\n",
    "    \n",
    "    def dequeue(self):\n",
    "        if self.front == self.rear:\n",
    "            print(\"Queue is empty\")\n",
    "        else:\n",
    "            data = self.items.pop(0)\n",
    "            self.rear -= 1\n",
    "            return data"
   ]
  },
  {
   "cell_type": "markdown",
   "id": "091aec9c",
   "metadata": {},
   "source": [
    "# Python's deque\n",
    "\n",
    "Built-in package \"collections\" that represented double linked list."
   ]
  },
  {
   "cell_type": "code",
   "execution_count": 33,
   "id": "67ef0c0e",
   "metadata": {},
   "outputs": [
    {
     "name": "stdout",
     "output_type": "stream",
     "text": [
      "deque(['Watermelon', 'Grape', 'Apple'])\n",
      "Apple\n"
     ]
    }
   ],
   "source": [
    "from collections import deque\n",
    "\n",
    "class Queue:\n",
    "    '''\n",
    "    We define front -> rightmost position\n",
    "    We define end/rear -> leftmost position\n",
    "    '''\n",
    "    def __init__(self):\n",
    "        self.size = 0\n",
    "        self.data = deque([])\n",
    "\n",
    "    def enqueue(self, data):\n",
    "        self.size += 1\n",
    "        self.data.appendleft(data)\n",
    "    \n",
    "    def dequeue(self):\n",
    "        self.size -= 1\n",
    "        return self.data.pop()\n",
    "    \n",
    "    def front(self):\n",
    "        data = self.data.pop()\n",
    "        self.data.appendleft(data)\n",
    "        return data\n",
    "        \n",
    "    def isEmpty(self):\n",
    "        if self.size == 0:\n",
    "            return True\n",
    "    \n",
    "    \n",
    "queue = Queue()\n",
    "queue.enqueue(\"Apple\")\n",
    "queue.enqueue(\"Grape\")\n",
    "queue.enqueue(\"Watermelon\")\n",
    "print(queue.data)\n",
    "print(queue.dequeue())"
   ]
  },
  {
   "cell_type": "markdown",
   "id": "f8ddb298",
   "metadata": {},
   "source": [
    "Performance & Limitations:\n",
    "\n",
    "- Space complexity (for n push operations) : O(n)\n",
    "- Time complexity of dequeue               : O(1)\n",
    "- Time complexity of enqueue               : O(1)\n",
    "- Time complexity of isEmpty               : O(1)\n",
    "- Time complexity of front                 : O(1)"
   ]
  },
  {
   "cell_type": "markdown",
   "id": "6c18c5a3",
   "metadata": {},
   "source": [
    "# Linked List Based Queues\n",
    "\n",
    "Note:\n",
    "A queue data structure can also be implemented using any linked list, such as singly-linked or doubly-linked lists"
   ]
  },
  {
   "cell_type": "code",
   "execution_count": null,
   "id": "f8e24666",
   "metadata": {},
   "outputs": [],
   "source": [
    "class Queue:\n",
    "    '''\n",
    "        Head -> Front\n",
    "        Tail -> End (The Node inserted from tail)\n",
    "        \n",
    "    '''\n",
    "    class Node:\n",
    "        def __init__(self, data=None, next=None, prev=None):\n",
    "        self.data = data\n",
    "        self.next = next\n",
    "        self.prev = prev\n",
    "    \n",
    "    def __init__(self):\n",
    "        self.head = None\n",
    "        self.tail = None\n",
    "        self.size = 0\n",
    "        \n",
    "    def enqueue(self):\n",
    "        newNode = self.Node(data)\n",
    "        if self.head == None:\n",
    "            self.head = newNode\n",
    "            self.tail = self.head\n",
    "        else:\n",
    "            newNode.prev = self.tail\n",
    "            self.tail.next = newNode\n",
    "            self.tail = newNode\n",
    "            \n",
    "        self.size += 1\n",
    "    \n",
    "    def dequeue(self):\n",
    "        if self.size == 0:\n",
    "            print(\"Queue is empty\")\n",
    "        else:\n",
    "            data = self.head.data\n",
    "            if self.size == 1:\n",
    "                self.head = None\n",
    "                self.tail = None\n",
    "            else:\n",
    "                self.head = self.head.next\n",
    "                self.head.prev = None\n",
    "                \n",
    "            self.size -= 1\n",
    "            return data\n"
   ]
  },
  {
   "cell_type": "markdown",
   "id": "b74391f3",
   "metadata": {},
   "source": [
    "# Stack-based Queues (The dequeue operation is costly)\n",
    "\n",
    "The dequeue (withdraw element) -> O(n)\n",
    "\n",
    "The enqueue (push element) -> O(1)"
   ]
  },
  {
   "cell_type": "code",
   "execution_count": 18,
   "id": "1f621dc8",
   "metadata": {},
   "outputs": [],
   "source": [
    "class Stack:\n",
    "    def __init__(self):\n",
    "        self.data = []\n",
    "        self.size = 0\n",
    "    \n",
    "    def push(self, x):\n",
    "        self.size += 1\n",
    "        self.data.insert(0 , x)\n",
    "    \n",
    "    def pop(self):\n",
    "        self.size -= 1\n",
    "        return self.data.pop(0)\n",
    "    \n",
    "\n",
    "class Queue:\n",
    "    def __init__(self):\n",
    "        self.Stack1 = Stack()\n",
    "        self.Stack2 = Stack()\n",
    "        self.size = 0\n",
    "    \n",
    "    def enqueue(self, data):\n",
    "        self.size += 1\n",
    "        self.Stack1.push(data)\n",
    "        return\n",
    "    \n",
    "    def dequeue(self):\n",
    "        if self.Stack1 == 0:\n",
    "            print('No element to dequeue')\n",
    "            return\n",
    "        \n",
    "        while(self.Stack1.size > 0):\n",
    "            data = self.Stack1.pop()\n",
    "            self.Stack2.push(data)\n",
    "            \n",
    "        poppedData = self.Stack2.pop()\n",
    "        self.size -= 1\n",
    "        \n",
    "        while(self.Stack2.size > 0):\n",
    "            data = self.Stack2.pop()\n",
    "            self.Stack1.push(data)\n",
    "        \n",
    "        return poppedData"
   ]
  },
  {
   "cell_type": "markdown",
   "id": "9b8edfdd",
   "metadata": {},
   "source": [
    "# Stack-based Queues (The enqueue operation is costly)\n",
    "\n",
    "The dequeue (withdraw element) -> O(1)\n",
    "\n",
    "The enqueue (push element) -> O(n)"
   ]
  },
  {
   "cell_type": "code",
   "execution_count": 23,
   "id": "ed3a39ad",
   "metadata": {},
   "outputs": [],
   "source": [
    "class Stack:\n",
    "    def __init__(self):\n",
    "        self.data = []\n",
    "        self.size = 0\n",
    "    \n",
    "    def push(self, x):\n",
    "        self.size += 1\n",
    "        self.data.insert(0 , x)\n",
    "    \n",
    "    def pop(self):\n",
    "        self.size -= 1\n",
    "        return self.data.pop(0)\n",
    "    \n",
    "\n",
    "class Queue:\n",
    "    def __init__(self):\n",
    "        self.Stack1 = Stack()\n",
    "        self.Stack2 = Stack()\n",
    "        self.size = 0\n",
    "    \n",
    "    def enqueue(self, data):\n",
    "        if self.size == 0:\n",
    "            self.Stack1.push(data)\n",
    "            return\n",
    "        while (self.Stack1.size > 0):\n",
    "            tempData = self.Stack1.pop()\n",
    "            self.Stack2.push(tempData)\n",
    "        \n",
    "        self.Stack2.push(data)\n",
    "        while (self.Stack2.size > 0):\n",
    "            tempData = self.Stack2.pop()\n",
    "            self.Stack1.push(tempData)\n",
    "        \n",
    "        self.size += 1\n",
    "        \n",
    "    def dequeue(self):\n",
    "        self.size -= 1\n",
    "        return self.Stack1.pop()\n"
   ]
  },
  {
   "cell_type": "code",
   "execution_count": null,
   "id": "ac19cf01",
   "metadata": {},
   "outputs": [],
   "source": []
  }
 ],
 "metadata": {
  "kernelspec": {
   "display_name": "Python 3 (ipykernel)",
   "language": "python",
   "name": "python3"
  },
  "language_info": {
   "codemirror_mode": {
    "name": "ipython",
    "version": 3
   },
   "file_extension": ".py",
   "mimetype": "text/x-python",
   "name": "python",
   "nbconvert_exporter": "python",
   "pygments_lexer": "ipython3",
   "version": "3.11.4"
  }
 },
 "nbformat": 4,
 "nbformat_minor": 5
}
