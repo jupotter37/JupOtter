{
 "cells": [
  {
   "cell_type": "markdown",
   "id": "ce37d3fd",
   "metadata": {},
   "source": [
    "# Data Structures and Algorithms using Python"
   ]
  },
  {
   "cell_type": "markdown",
   "id": "585cb5be",
   "metadata": {},
   "source": [
    "**Data Structures:** Data structures are the way to store and organize data efficiently."
   ]
  },
  {
   "cell_type": "markdown",
   "id": "b7ec5c49",
   "metadata": {},
   "source": [
    "# Strategy To Solve Problems"
   ]
  },
  {
   "cell_type": "markdown",
   "id": "c5ed6b0e",
   "metadata": {},
   "source": [
    "A systematic strategy we'll apply for solving problems:\n",
    "\n",
    "1. State the problem clearly. Identify the input & output formats\n",
    "2. Come up with some example inputs & outputs. Try to cover all edge cases.\n",
    "3. Come up with a correct solution for the problem. State it in plain English.\n",
    "4. Implement the solution and test it using example inputs. Fix bugs, if any.\n",
    "5. Analyze the algorithm's complexity and identify inefficiencies, if any.\n",
    "6. Apply the right technique to overcome the inefficiency. Repeat steps 3 to 6."
   ]
  },
  {
   "cell_type": "markdown",
   "id": "6dcbc5c6",
   "metadata": {},
   "source": [
    "# Complexity of Algorithms"
   ]
  },
  {
   "cell_type": "markdown",
   "id": "a5b95328",
   "metadata": {},
   "source": [
    "Efficiency of Algorithm can be measured in the form of time and space complexity\n",
    "\n",
    "1. Time complexity: Total time required by an algorithm for its successful execution\n",
    "2. Space complexity: Total space required by an algorithm for its successful execution"
   ]
  },
  {
   "cell_type": "markdown",
   "id": "36e1e6ca",
   "metadata": {},
   "source": [
    "# Time Complexity"
   ]
  },
  {
   "cell_type": "markdown",
   "id": "15849471",
   "metadata": {},
   "source": [
    "**Techniques to measure time complexity:**\n",
    "\n",
    "1. Measure execution time\n",
    "2. Count operations involved\n",
    "3. Abstract notation of order of growth (Asymptotic Notation)"
   ]
  },
  {
   "cell_type": "markdown",
   "id": "9becafc5",
   "metadata": {},
   "source": [
    "**1. Measuring Execution Time**"
   ]
  },
  {
   "cell_type": "code",
   "execution_count": 1,
   "id": "1f203f78",
   "metadata": {},
   "outputs": [
    {
     "name": "stdout",
     "output_type": "stream",
     "text": [
      "1 2 3 4 5 6 7 8 9 10 11 12 13 14 15 16 17 18 19 20 21 22 23 24 25 26 27 28 29 30 31 32 33 34 35 36 37 38 39 40 41 42 43 44 45 46 47 48 49 50 51 52 53 54 55 56 57 58 59 60 61 62 63 64 65 66 67 68 69 70 71 72 73 74 75 76 77 78 79 80 81 82 83 84 85 86 87 88 89 90 91 92 93 94 95 96 97 98 99 100 \n",
      "\n",
      "0.010639190673828125\n"
     ]
    }
   ],
   "source": [
    "import time\n",
    "\n",
    "start = time.time()\n",
    "\n",
    "for i in range(1,101):\n",
    "    print(i,end =\" \")\n",
    "print('\\n')    \n",
    "print(time.time()-start)"
   ]
  },
  {
   "cell_type": "markdown",
   "id": "19e58026",
   "metadata": {},
   "source": [
    "**Problem with this approach:**\n",
    "\n",
    "1. Inconsistency\n",
    "2. Minor changes in implementation keeping logic same, can cause change in execution time\n",
    "3. Does not work for extremely small inputs\n",
    "4. Time varies for different inputs, but cannot establish a relationship between input and time "
   ]
  },
  {
   "cell_type": "markdown",
   "id": "73c79a72",
   "metadata": {},
   "source": [
    "**2. Count Operations**"
   ]
  },
  {
   "cell_type": "code",
   "execution_count": 2,
   "id": "09d4e111",
   "metadata": {},
   "outputs": [],
   "source": [
    "x=20\n",
    "total = 0\n",
    "for i in range(x+1):\n",
    "    total += i"
   ]
  },
  {
   "cell_type": "markdown",
   "id": "0d333e62",
   "metadata": {},
   "source": [
    "Number of operations will be (T) = 1 + 1 + 3x = 2 + 3x, where x = input\n",
    "\n",
    "Hence, T = 2 + 3x\n",
    "\n",
    "**Advantages**\n",
    "\n",
    "1. Different time for different algorithm \n",
    "2. Different machines same time\n",
    "3. Establishes relationship between time and input\n",
    "\n",
    "**Problems with this approach**\n",
    "\n",
    "1. Time varies if implementation changes\n",
    "2. No clear definition of which operation to count "
   ]
  },
  {
   "cell_type": "markdown",
   "id": "72579918",
   "metadata": {},
   "source": [
    "                                       "
   ]
  },
  {
   "cell_type": "markdown",
   "id": "cb1f85c3",
   "metadata": {},
   "source": [
    "**3. Abstract notation of Order of Growth**\n",
    "\n",
    "Goals:\n",
    "\n",
    "■ want to evaluate program's efficiency when input is very big\n",
    "\n",
    "■ want to express the growth of program's run time as input size grows\n",
    "\n",
    "■ want to put an upper bound on growth as tight as possible\n",
    "\n",
    "■ do not need to be precise: \"order of\" not \"exact\" growth\n",
    "\n",
    "■ we will look at largest factors in run time (which section of the program will take the longest to run?)\n",
    "\n",
    "■ thus, generally we want tight upper bound on growth, as function of size of input in worst case."
   ]
  },
  {
   "cell_type": "markdown",
   "id": "05f85d50",
   "metadata": {},
   "source": [
    "**Examples**\n",
    "\n",
    "1. n^2 + 2n + 2 = O(n^2)\n",
    "\n",
    "2. n^2 + 100000n + 3^1000 = O(n^2) \n",
    "\n",
    "3. log(n) + n + 4 = O(n)\n",
    "\n",
    "4. 0.0001 * n*log(n) + 300n = O(nlogn)\n",
    "\n",
    "5. 2n^30 + 3^n = O(3^n)\n",
    "\n",
    "\n",
    "**Order of growth can be** = Linear, constant, quadratic, exponential, polynomial, logarithmic, nlogn"
   ]
  },
  {
   "cell_type": "markdown",
   "id": "0339d809",
   "metadata": {},
   "source": [
    "**1. Constant** = Accessing of array elements using index  (Time does not depend on input)\n",
    "\n",
    "**2. Logarithmic** = Binary Search\n",
    "\n",
    "**3. Linear** = Searching of array elements linearly\n",
    "\n",
    "**4. nlogn** = Merge Sort, Quick sort, Heap sort\n",
    "\n",
    "**5. Quadratic** = Program having 2 nested loops, Bubble sort, Insertion sort, Selection sort\n",
    "\n",
    "**6. Exponential** = Fibonacci Series\n"
   ]
  },
  {
   "cell_type": "markdown",
   "id": "e7ce9efb",
   "metadata": {},
   "source": [
    "# Practice questions on Time complexity"
   ]
  },
  {
   "cell_type": "markdown",
   "id": "e706e5b2",
   "metadata": {},
   "source": [
    "**Problem 1**"
   ]
  },
  {
   "cell_type": "code",
   "execution_count": 3,
   "id": "68b46e1a",
   "metadata": {},
   "outputs": [
    {
     "name": "stdout",
     "output_type": "stream",
     "text": [
      "15\n",
      "120\n"
     ]
    }
   ],
   "source": [
    "L = [1,2,3,4,5]\n",
    "\n",
    "sum = 0 \n",
    "for i in L:\n",
    "    sum = sum + i\n",
    "print(sum)\n",
    "\n",
    "product = 1\n",
    "for i in L:\n",
    "    product = product * i\n",
    "print(product)"
   ]
  },
  {
   "cell_type": "markdown",
   "id": "20b17926",
   "metadata": {},
   "source": [
    "**Time Complexity = O(n)**"
   ]
  },
  {
   "cell_type": "markdown",
   "id": "66eecec6",
   "metadata": {},
   "source": [
    "**Problem 2**"
   ]
  },
  {
   "cell_type": "code",
   "execution_count": null,
   "id": "08284bd9",
   "metadata": {},
   "outputs": [],
   "source": [
    "L = [1,2,3,4,5]\n",
    "\n",
    "for i in L:\n",
    "    for j in L:\n",
    "        print('({},{})'.format(i,j))"
   ]
  },
  {
   "cell_type": "markdown",
   "id": "f8df0947",
   "metadata": {},
   "source": [
    "**Time complexity = O(n^2)**"
   ]
  },
  {
   "cell_type": "markdown",
   "id": "4bc3cd9b",
   "metadata": {},
   "source": [
    "**Problem 3: Linear Search**"
   ]
  },
  {
   "cell_type": "code",
   "execution_count": 4,
   "id": "f095ab0f",
   "metadata": {},
   "outputs": [
    {
     "name": "stdout",
     "output_type": "stream",
     "text": [
      "Enter a value to be searched: 5\n",
      "Element is present at index  5\n"
     ]
    }
   ],
   "source": [
    "def linearSearch(L,value):\n",
    "    for i in range(len(L)):\n",
    "        if L[i] == value:\n",
    "            return i\n",
    "    return -1\n",
    "\n",
    "L = [1,2,3,4,5,6,7,8,9,10]\n",
    "value = int(input(\"Enter a value to be searched: \"))\n",
    "result = linearSearch(L,value)\n",
    "if result != -1:\n",
    "    print(\"Element is present at index \",result+1)\n",
    "else:\n",
    "    print(\"Element is not present\")"
   ]
  },
  {
   "cell_type": "markdown",
   "id": "49e42a44",
   "metadata": {},
   "source": [
    "**Time Complexity = O(n)**"
   ]
  },
  {
   "cell_type": "markdown",
   "id": "36fa5003",
   "metadata": {},
   "source": [
    "**Problem 4**"
   ]
  },
  {
   "cell_type": "code",
   "execution_count": null,
   "id": "3b146e71",
   "metadata": {},
   "outputs": [],
   "source": [
    "def intToStr(i):\n",
    "    digits = '0123456789'\n",
    "    if i == 0:\n",
    "        return '0'\n",
    "    \n",
    "    result = ''\n",
    "    while i > 0:\n",
    "        result = digits[i%10] + result\n",
    "        i = i//10\n",
    "    return result\n",
    "\n",
    "print(type(123))\n",
    "print(intToStr(123))\n",
    "print(type(intToStr(123)))"
   ]
  },
  {
   "cell_type": "markdown",
   "id": "d15c5e48",
   "metadata": {},
   "source": [
    "**Time complexity = O(log n)** (because after every iteration the input space is divided into smaller space)"
   ]
  },
  {
   "cell_type": "markdown",
   "id": "8ef32cd5",
   "metadata": {},
   "source": [
    "**Problem 5**"
   ]
  },
  {
   "cell_type": "code",
   "execution_count": null,
   "id": "d2708f98",
   "metadata": {},
   "outputs": [],
   "source": [
    "n = 1000\n",
    "\n",
    "int i,j,k = 0\n",
    "\n",
    "for(i=n/2;i<=n;i++){\n",
    "    for(j=2;j<=n;j-j*2){\n",
    "        k=k+n/2\n",
    "    }\n",
    "}"
   ]
  },
  {
   "cell_type": "markdown",
   "id": "a1dcaf1b",
   "metadata": {},
   "source": [
    "**Time complexity = O(nlogn)**\n",
    "\n",
    "because outer loop is executing (n/2) times and inner loop (log n) times\n",
    "So, O(n/2) * O(log n) = O(n/2 * log n) = O(1/2 * nlogn) = O(nlogn)\n",
    "\n",
    "**Working of inner loop**\n",
    "1. if n = 10, inner loop will execute for 2,4,8\n",
    "\n",
    "2. if n = 100, inner loop will execute for 2,4,8,16,32,64\n",
    "\n",
    "3. if n = 1000, inner loop will execute for 2,4,8,16,32,64,128,256,512\n",
    "\n",
    "which is the property of log"
   ]
  },
  {
   "cell_type": "markdown",
   "id": "1e4854de",
   "metadata": {},
   "source": [
    "**Problem 6: Binary Search**"
   ]
  },
  {
   "cell_type": "code",
   "execution_count": 5,
   "id": "40003144",
   "metadata": {},
   "outputs": [
    {
     "name": "stdout",
     "output_type": "stream",
     "text": [
      "Enter the element: 2\n",
      "Element is present at position 1\n"
     ]
    }
   ],
   "source": [
    "def binary_search(arr, x):\n",
    "    low = 0\n",
    "    high = len(arr) - 1\n",
    "    mid = 0\n",
    " \n",
    "    while low <= high:\n",
    " \n",
    "        mid = (high + low) // 2\n",
    "        if arr[mid] < x:\n",
    "            low = mid + 1\n",
    "        elif arr[mid] > x:\n",
    "            high = mid - 1\n",
    "        else:\n",
    "            return mid\n",
    "    return -1\n",
    "\n",
    "arr = [ 2, 3, 4, 10, 40 ]\n",
    "x = int(input(\"Enter the element: \"))\n",
    "result = binary_search(arr, x)\n",
    " \n",
    "if result != -1:\n",
    "    print(\"Element is present at position\", str(result+1))\n",
    "else:\n",
    "    print(\"Element is not present in array\")"
   ]
  },
  {
   "cell_type": "markdown",
   "id": "9ea555e1",
   "metadata": {},
   "source": [
    "**Time complexity = O(logn)**"
   ]
  },
  {
   "cell_type": "markdown",
   "id": "35c72e3c",
   "metadata": {},
   "source": [
    "**Problem 7**"
   ]
  },
  {
   "cell_type": "code",
   "execution_count": null,
   "id": "5c8b699b",
   "metadata": {},
   "outputs": [],
   "source": [
    "L = [1,2,3,4,5]\n",
    "\n",
    "for i in range(0,len(L)):\n",
    "    for j in (i+1,len(L)):\n",
    "        print('({},{})'.format(L[i],L[j]))"
   ]
  },
  {
   "cell_type": "markdown",
   "id": "638506b2",
   "metadata": {},
   "source": [
    "**Time complexity = O(n^2)**"
   ]
  },
  {
   "cell_type": "markdown",
   "id": "395dd457",
   "metadata": {},
   "source": [
    "**Problem 8**"
   ]
  },
  {
   "cell_type": "code",
   "execution_count": null,
   "id": "6c4e3d80",
   "metadata": {},
   "outputs": [],
   "source": [
    "A = [1,2,3,4]\n",
    "B= [2,3,4,5,6]\n",
    "for i in A:\n",
    "    for j in B:\n",
    "        if i<j:\n",
    "            print('({},{})'.format(i,j))"
   ]
  },
  {
   "cell_type": "markdown",
   "id": "0c9bef95",
   "metadata": {},
   "source": [
    "**Time Complexity = O(n^2)** = O(ab)"
   ]
  },
  {
   "cell_type": "markdown",
   "id": "0ad73abf",
   "metadata": {},
   "source": [
    "**Problem 9**"
   ]
  },
  {
   "cell_type": "code",
   "execution_count": null,
   "id": "035e8b1b",
   "metadata": {},
   "outputs": [],
   "source": [
    "A = [1,2,3,4]\n",
    "B= [2,3,4,5]\n",
    "for i in A:\n",
    "    for j in B:\n",
    "        if i<j:\n",
    "            for k in range(100000):\n",
    "                print('({},{})'.format(i,j))"
   ]
  },
  {
   "cell_type": "markdown",
   "id": "88da65a9",
   "metadata": {},
   "source": [
    "**Time Complexity = O(n^2)**"
   ]
  },
  {
   "cell_type": "markdown",
   "id": "01e8a6e6",
   "metadata": {},
   "source": [
    "**Problem 10**"
   ]
  },
  {
   "cell_type": "code",
   "execution_count": null,
   "id": "d4e2c236",
   "metadata": {},
   "outputs": [],
   "source": [
    "L= [1,2,3,4,5]\n",
    "\n",
    "for i in range(0,len(L)//2):\n",
    "    other = len(L)-i-1\n",
    "    temp = L[i]\n",
    "    L[i] = L[other]\n",
    "    L[other] = temp\n",
    "\n",
    "print(L)"
   ]
  },
  {
   "cell_type": "markdown",
   "id": "5f767c3d",
   "metadata": {},
   "source": [
    "**Time Complexity = O(n)**"
   ]
  },
  {
   "cell_type": "markdown",
   "id": "12b9a5e3",
   "metadata": {},
   "source": [
    "**Problem 11**"
   ]
  },
  {
   "cell_type": "code",
   "execution_count": null,
   "id": "15d6505e",
   "metadata": {},
   "outputs": [],
   "source": [
    "def factorial(n):\n",
    "    if n == 1:\n",
    "        return 1\n",
    "    else:\n",
    "        return n*factorial(n-1)\n",
    "\n",
    "print(factorial(5))"
   ]
  },
  {
   "cell_type": "markdown",
   "id": "9cf63647",
   "metadata": {},
   "source": [
    "**Time Complexity = O(n)**"
   ]
  },
  {
   "cell_type": "markdown",
   "id": "3e518a92",
   "metadata": {},
   "source": [
    "**Problem 12**"
   ]
  },
  {
   "cell_type": "code",
   "execution_count": null,
   "id": "c1544766",
   "metadata": {},
   "outputs": [],
   "source": [
    "def fib(n):\n",
    "    if n ==1 or n == 0:\n",
    "        return 1\n",
    "    else:\n",
    "        return fib(n-1) + fib(n-2)"
   ]
  },
  {
   "cell_type": "markdown",
   "id": "17470d28",
   "metadata": {},
   "source": [
    "**Time Complexity = O(2^n)** \n",
    "\n",
    "It is approximately O(2^n), exactly it is O(1.7^n)"
   ]
  },
  {
   "cell_type": "markdown",
   "id": "c1ac9953",
   "metadata": {},
   "source": [
    "**Problem 13**"
   ]
  },
  {
   "cell_type": "code",
   "execution_count": null,
   "id": "68d57441",
   "metadata": {},
   "outputs": [],
   "source": [
    "def power(num):\n",
    "    if num < 1:\n",
    "        return 0\n",
    "    elif num ==1:\n",
    "        print(1)\n",
    "        return 1\n",
    "    else:\n",
    "        prev = power(num//2)\n",
    "        curr = prev*2\n",
    "        print(curr)\n",
    "        return curr"
   ]
  },
  {
   "cell_type": "markdown",
   "id": "e51dd18c",
   "metadata": {},
   "source": [
    "**Time Complexity = O(logn)**"
   ]
  },
  {
   "cell_type": "markdown",
   "id": "c999f0ee",
   "metadata": {},
   "source": [
    "**Problem 14**"
   ]
  },
  {
   "cell_type": "code",
   "execution_count": null,
   "id": "63796682",
   "metadata": {},
   "outputs": [],
   "source": [
    "def mod(a,b):\n",
    "    if b <= 0:\n",
    "        return -1\n",
    "    div = a//b\n",
    "    return a- div *b\n",
    "\n",
    "mod(5,3)"
   ]
  },
  {
   "cell_type": "markdown",
   "id": "53acae6d",
   "metadata": {},
   "source": [
    "**Time Complexity = O(constant)**"
   ]
  },
  {
   "cell_type": "markdown",
   "id": "c201b49a",
   "metadata": {},
   "source": [
    "**Problem 15**"
   ]
  },
  {
   "cell_type": "code",
   "execution_count": null,
   "id": "7f9aecc6",
   "metadata": {},
   "outputs": [],
   "source": [
    "def sum_digits(num):\n",
    "    sum = 0\n",
    "    while (num > 0):\n",
    "        sum = int(sum + num%10 )\n",
    "        num/=10\n",
    "    return sum\n",
    "\n",
    "sum_digits(123)"
   ]
  },
  {
   "cell_type": "markdown",
   "id": "86e68a88",
   "metadata": {},
   "source": [
    "**Time Complexity = O(logn)**"
   ]
  },
  {
   "cell_type": "markdown",
   "id": "ae99af90",
   "metadata": {},
   "source": [
    "**Problem 16**\n",
    "\n",
    "T(n) = {3T(n-1), if n>0\n",
    "\n",
    "      1, otherwise}\n",
    "         \n",
    "**Time Complexity = O(3^n)**"
   ]
  },
  {
   "cell_type": "markdown",
   "id": "b3b5859c",
   "metadata": {},
   "source": [
    "**Problem 17**\n",
    "\n",
    "T(n) = {2T(n-1)-1, if n>0\n",
    "\n",
    "      1, otherwise}\n",
    "      \n",
    "**Time Complexity = O(constant)**\n",
    "\n",
    "understand this by solving manully using substitution method\n"
   ]
  },
  {
   "cell_type": "markdown",
   "id": "25e1cfed",
   "metadata": {},
   "source": [
    "**Problem 18**\n",
    "\n",
    "Generating power set\n",
    "\n",
    "{1,2} = {},{1},{2},{1,2}\n",
    "\n",
    "**Time Complexity = O(2^n)**"
   ]
  },
  {
   "cell_type": "markdown",
   "id": "d32a60e1",
   "metadata": {},
   "source": [
    "# Concept - Binary Search"
   ]
  },
  {
   "cell_type": "markdown",
   "id": "9f3db555",
   "metadata": {},
   "source": [
    "Problem:\n",
    "\n",
    "Alice has some cards with numbers written on them. She arranges the cards in decreasing order, and lays them out face down in a sequence on a table. She challenges Bob to pick out the card containing a given number by turning over as few cards as possible. Write a function to help Bob locate the card."
   ]
  },
  {
   "cell_type": "code",
   "execution_count": 6,
   "id": "1cd789b5",
   "metadata": {},
   "outputs": [
    {
     "name": "stdout",
     "output_type": "stream",
     "text": [
      "Enter the card value to be searched: 3\n",
      "Card is present at position 7\n"
     ]
    }
   ],
   "source": [
    "def binarySearch(cards,beg,end,value):\n",
    "    if end>=beg:\n",
    "        mid = (beg+end)//2\n",
    "        if cards[mid]==value:\n",
    "            return mid\n",
    "        elif cards[mid]<value:\n",
    "            return binarySearch(cards,beg,mid-1,value)\n",
    "        else:\n",
    "            return binarySearch(cards,mid+1,end,value)\n",
    "    else:\n",
    "        return -1\n",
    "\n",
    "\n",
    "\n",
    "cards = [9,8,7,6,5,4,3,2,1]\n",
    "number = len(cards)\n",
    "value = int(input(\"Enter the card value to be searched: \"))\n",
    "result = binarySearch(cards,0,number-1,value)\n",
    "if result != -1:\n",
    "    print(\"Card is present at position\", str(result+1))\n",
    "else:\n",
    "    print(\"Card is not present in array\")"
   ]
  },
  {
   "cell_type": "markdown",
   "id": "6aa9a7bc",
   "metadata": {},
   "source": [
    "# Arrays "
   ]
  },
  {
   "cell_type": "markdown",
   "id": "6c4b7d4e",
   "metadata": {},
   "source": [
    "Arrays are the linear data structures, used to store multiple items of same type in the continuous memory locations.\n",
    "\n",
    "Disadvantages of arrays:\n",
    "\n",
    "1. Fixed size (Wastage of memory)\n",
    "2. Homogeneous (Lack of flexibility)\n",
    "\n",
    "To solve the problem of homogeniety, there is a concept known as **Referential Arrays.**\n",
    "\n",
    "**Referential Arrays**\n",
    "\n",
    "**List** in Python is known as Referential arrays, which are used to store heterogeneous data.\n",
    "\n",
    "Drawbacks of Referential Arrays:\n",
    "\n",
    "1. Slow in speed\n",
    "2. Takes extra memory\n",
    "\n",
    "\n",
    "Now, to solve the problem of fixed size in arrays, there is a concept known as **Dynamic Arrays**\n",
    "\n",
    "**Dynamic Arrays**\n",
    "\n",
    "**Lists** in Python are an example of Dyanamic Arrays, whose size is adjustable according to the user's needs."
   ]
  },
  {
   "cell_type": "markdown",
   "id": "bff77058",
   "metadata": {},
   "source": [
    "# How to implement List and List operations in Python"
   ]
  },
  {
   "cell_type": "markdown",
   "id": "b3100556",
   "metadata": {},
   "source": [
    "**Operations on List**\n",
    "\n",
    "1. create list\n",
    "2. len() of list\n",
    "3. append()\n",
    "4. print()\n",
    "5. indexing\n",
    "6. pop()\n",
    "7. clear()\n",
    "8. find()\n",
    "9. insert()\n",
    "10. delete()\n",
    "11. remove()"
   ]
  },
  {
   "cell_type": "markdown",
   "id": "8fe3f715",
   "metadata": {},
   "source": [
    "**Proof of Dynamic behaviour of Lists in Python**"
   ]
  },
  {
   "cell_type": "code",
   "execution_count": 7,
   "id": "b046d3da",
   "metadata": {},
   "outputs": [
    {
     "name": "stdout",
     "output_type": "stream",
     "text": [
      "0 56\n",
      "1 88\n",
      "2 88\n",
      "3 88\n",
      "4 88\n",
      "5 120\n",
      "6 120\n",
      "7 120\n",
      "8 120\n",
      "9 184\n",
      "10 184\n",
      "11 184\n",
      "12 184\n",
      "13 184\n",
      "14 184\n",
      "15 184\n",
      "16 184\n",
      "17 248\n",
      "18 248\n",
      "19 248\n",
      "20 248\n",
      "21 248\n",
      "22 248\n",
      "23 248\n",
      "24 248\n",
      "25 312\n",
      "26 312\n",
      "27 312\n",
      "28 312\n",
      "29 312\n",
      "30 312\n",
      "31 312\n",
      "32 312\n",
      "33 376\n",
      "34 376\n",
      "35 376\n",
      "36 376\n",
      "37 376\n",
      "38 376\n",
      "39 376\n",
      "40 376\n",
      "41 472\n",
      "42 472\n",
      "43 472\n",
      "44 472\n",
      "45 472\n",
      "46 472\n",
      "47 472\n",
      "48 472\n",
      "49 472\n",
      "50 472\n"
     ]
    }
   ],
   "source": [
    "import sys\n",
    "l = []\n",
    "for i in range(51):\n",
    "    print(i,sys.getsizeof(l))\n",
    "    l.append(i)"
   ]
  },
  {
   "cell_type": "markdown",
   "id": "3b2521db",
   "metadata": {},
   "source": [
    "**Implementation of Lists**"
   ]
  },
  {
   "cell_type": "code",
   "execution_count": 9,
   "id": "9885c62d",
   "metadata": {},
   "outputs": [],
   "source": [
    "import ctypes  #ctypes library is used to use C datatypes in python\n",
    "\n",
    "class Meralist:\n",
    "    def __init__(self):\n",
    "        self.size = 1  # size variable is representing size of list\n",
    "        self.n = 0     # n variable is for representing number of items in list\n",
    "\n",
    "        # Create a C type array with size = self.size\n",
    "        self.A = self.__make_array(self.size)\n",
    "    \n",
    "    # return length of the array\n",
    "    def __len__(self):\n",
    "        return self.n\n",
    "    \n",
    "    # to print the list\n",
    "    def __str__(self):\n",
    "        # [1,2,3]\n",
    "        result = \"\"\n",
    "        for i in range(self.n):\n",
    "            result = result + str(self.A[i]) + \",\"\n",
    "        \n",
    "        return '[' + result[:-1] + ']'\n",
    "           \n",
    "    # for indexing\n",
    "    def __getitem__(self,index):\n",
    "        if 0<= index < self.n:\n",
    "            return self.A[index]\n",
    "        else:\n",
    "            return 'IndexError - Index out of range'\n",
    "        \n",
    "    # for deleting element by giving positon\n",
    "    def __delitem__(self,pos):\n",
    "        #delete\n",
    "        if 0 <= pos < self.n:\n",
    "            for i in range(pos,self.n-1):\n",
    "                self.A[i]= self.A[i+1]\n",
    "            self.n = self.n - 1 \n",
    "            \n",
    "    # appends value at the end of array\n",
    "    def append(self,item):\n",
    "        if self.n == self.size:\n",
    "            #resize\n",
    "            self.__resize(self.size*2)\n",
    "        #append\n",
    "        self.A[self.n] = item\n",
    "        self.n = self.n + 1\n",
    "        \n",
    "    # function for pop(to delete the last item of the array)\n",
    "    def pop(self):\n",
    "        if self.n == 0:\n",
    "            return \"EmptyList\"\n",
    "        print(self.A[self.n-1])\n",
    "        self.n = self.n - 1\n",
    "        \n",
    "    # function to clear list items (to make list empty)\n",
    "    def clear(self):\n",
    "        self.n = 0\n",
    "        self.size = 1 \n",
    "        \n",
    "    #function for finding position of items\n",
    "    def find(self,item):\n",
    "        for i in range(self.n):\n",
    "            if self.A[i]==item:\n",
    "                return i\n",
    "        return 'ValueError - value not in list'\n",
    "    \n",
    "    #fuction to insert value at given position in array\n",
    "    def insert(self,pos,item):\n",
    "        if self.n == self.size:\n",
    "            self.__resize(self.size*2)\n",
    "        for i in range(self.n,pos,-1):\n",
    "            self.A[i] = self.A[i-1]\n",
    "            \n",
    "        self.A[pos] = item\n",
    "        self.n = self.n + 1\n",
    "        \n",
    "    # for removing any value from the array\n",
    "    def remove(self,item):\n",
    "        pos = self.find(item)\n",
    "        \n",
    "        if type(pos)==int:\n",
    "            #delete\n",
    "            self.__delitem__(pos)\n",
    "        else:\n",
    "            return pos\n",
    "        \n",
    "    #for sorting\n",
    "    def sort(self):\n",
    "        for i in range(self.n):\n",
    "            for j in range(0, self.n - i - 1):\n",
    "                if self.A[j] > self.A[j + 1]:\n",
    "                    # Swap elements if they are in the wrong order\n",
    "                    self.A[j], self.A[j + 1] = self.A[j + 1], self.A[j]\n",
    "        print(self.A)\n",
    "        \n",
    "    #for finding minimum \n",
    "    def min(self):\n",
    "        self.sort()\n",
    "        return self.A[0]\n",
    "    \n",
    "    #for finding maximum\n",
    "    def max(self):\n",
    "        self.sort()\n",
    "        return self.A[self.n-1]\n",
    "    \n",
    "    #for finding sum of all elements in the array\n",
    "    def sum(self):\n",
    "        sumation = 0\n",
    "        for i in range(self.n):\n",
    "            sumation += self.A[i]\n",
    "        print(sumation)\n",
    "        \n",
    "    def __resize(self,new_capacity):\n",
    "        #creates a new array with new capacity\n",
    "        B = self.__make_array(new_capacity)\n",
    "        self.size = new_capacity\n",
    "        \n",
    "        # copy the content of A to B\n",
    "        for i in range(self.n):\n",
    "            B[i]= self.A[i]\n",
    "            \n",
    "        # reassign A\n",
    "        self.A = B\n",
    "    \n",
    "    def __make_array(self,capacity):\n",
    "        \n",
    "        #creates a C type array(static,referential) with size capacity\n",
    "        return (capacity*ctypes.py_object)()"
   ]
  },
  {
   "cell_type": "code",
   "execution_count": 10,
   "id": "02149c6a",
   "metadata": {},
   "outputs": [],
   "source": [
    "L = Meralist()"
   ]
  },
  {
   "cell_type": "code",
   "execution_count": 11,
   "id": "b6c1a7f2",
   "metadata": {},
   "outputs": [
    {
     "data": {
      "text/plain": [
       "__main__.Meralist"
      ]
     },
     "execution_count": 11,
     "metadata": {},
     "output_type": "execute_result"
    }
   ],
   "source": [
    "type(L)"
   ]
  },
  {
   "cell_type": "code",
   "execution_count": 12,
   "id": "b26c1f9b",
   "metadata": {},
   "outputs": [
    {
     "name": "stdout",
     "output_type": "stream",
     "text": [
      "[]\n"
     ]
    }
   ],
   "source": [
    "print(L)"
   ]
  },
  {
   "cell_type": "code",
   "execution_count": 13,
   "id": "5e4e37d0",
   "metadata": {},
   "outputs": [
    {
     "data": {
      "text/plain": [
       "0"
      ]
     },
     "execution_count": 13,
     "metadata": {},
     "output_type": "execute_result"
    }
   ],
   "source": [
    "len(L)"
   ]
  },
  {
   "cell_type": "code",
   "execution_count": 14,
   "id": "850e462d",
   "metadata": {},
   "outputs": [],
   "source": [
    "L.append(\"Avadhi\")\n",
    "L.append(34)\n",
    "L.append(8.9)\n",
    "L.append(True)"
   ]
  },
  {
   "cell_type": "code",
   "execution_count": 15,
   "id": "a0804506",
   "metadata": {},
   "outputs": [
    {
     "data": {
      "text/plain": [
       "4"
      ]
     },
     "execution_count": 15,
     "metadata": {},
     "output_type": "execute_result"
    }
   ],
   "source": [
    "len(L)"
   ]
  },
  {
   "cell_type": "code",
   "execution_count": 16,
   "id": "742981a5",
   "metadata": {},
   "outputs": [
    {
     "name": "stdout",
     "output_type": "stream",
     "text": [
      "[Avadhi,34,8.9,True]\n"
     ]
    }
   ],
   "source": [
    "print(L)"
   ]
  },
  {
   "cell_type": "code",
   "execution_count": 17,
   "id": "345bf147",
   "metadata": {},
   "outputs": [
    {
     "data": {
      "text/plain": [
       "'Avadhi'"
      ]
     },
     "execution_count": 17,
     "metadata": {},
     "output_type": "execute_result"
    }
   ],
   "source": [
    "L[0]"
   ]
  },
  {
   "cell_type": "code",
   "execution_count": 18,
   "id": "4d3c982c",
   "metadata": {},
   "outputs": [
    {
     "data": {
      "text/plain": [
       "'IndexError - Index out of range'"
      ]
     },
     "execution_count": 18,
     "metadata": {},
     "output_type": "execute_result"
    }
   ],
   "source": [
    "L[10]"
   ]
  },
  {
   "cell_type": "code",
   "execution_count": 19,
   "id": "79c2ec94",
   "metadata": {},
   "outputs": [
    {
     "name": "stdout",
     "output_type": "stream",
     "text": [
      "True\n"
     ]
    }
   ],
   "source": [
    "L.pop()"
   ]
  },
  {
   "cell_type": "code",
   "execution_count": 20,
   "id": "c3621e75",
   "metadata": {},
   "outputs": [
    {
     "name": "stdout",
     "output_type": "stream",
     "text": [
      "[Avadhi,34,8.9]\n"
     ]
    }
   ],
   "source": [
    "print(L)"
   ]
  },
  {
   "cell_type": "code",
   "execution_count": 21,
   "id": "754232d9",
   "metadata": {},
   "outputs": [
    {
     "name": "stdout",
     "output_type": "stream",
     "text": [
      "8.9\n",
      "34\n",
      "Avadhi\n"
     ]
    }
   ],
   "source": [
    "L.pop()\n",
    "L.pop()\n",
    "L.pop()"
   ]
  },
  {
   "cell_type": "code",
   "execution_count": 22,
   "id": "96eb829f",
   "metadata": {},
   "outputs": [
    {
     "data": {
      "text/plain": [
       "'EmptyList'"
      ]
     },
     "execution_count": 22,
     "metadata": {},
     "output_type": "execute_result"
    }
   ],
   "source": [
    "L.pop()"
   ]
  },
  {
   "cell_type": "code",
   "execution_count": 23,
   "id": "76b565a2",
   "metadata": {},
   "outputs": [
    {
     "name": "stdout",
     "output_type": "stream",
     "text": [
      "[]\n"
     ]
    }
   ],
   "source": [
    "print(L)"
   ]
  },
  {
   "cell_type": "code",
   "execution_count": 24,
   "id": "35ec8fd3",
   "metadata": {},
   "outputs": [],
   "source": [
    "L.append(\"Avadhi\")\n",
    "L.append(34)\n",
    "L.append(8.9)\n",
    "L.append(True)"
   ]
  },
  {
   "cell_type": "code",
   "execution_count": 25,
   "id": "9d6b8556",
   "metadata": {},
   "outputs": [
    {
     "name": "stdout",
     "output_type": "stream",
     "text": [
      "[Avadhi,34,8.9,True]\n"
     ]
    }
   ],
   "source": [
    "print(L)"
   ]
  },
  {
   "cell_type": "code",
   "execution_count": 26,
   "id": "e030a7a6",
   "metadata": {},
   "outputs": [],
   "source": [
    "L.clear()"
   ]
  },
  {
   "cell_type": "code",
   "execution_count": 27,
   "id": "65f8160e",
   "metadata": {},
   "outputs": [
    {
     "name": "stdout",
     "output_type": "stream",
     "text": [
      "[]\n"
     ]
    }
   ],
   "source": [
    "print(L)"
   ]
  },
  {
   "cell_type": "code",
   "execution_count": 28,
   "id": "e6aea5af",
   "metadata": {},
   "outputs": [],
   "source": [
    "L.append(\"Avadhi\")\n",
    "L.append(34)\n",
    "L.append(8.9)\n",
    "L.append(True)"
   ]
  },
  {
   "cell_type": "code",
   "execution_count": 29,
   "id": "c0ca45a1",
   "metadata": {},
   "outputs": [
    {
     "name": "stdout",
     "output_type": "stream",
     "text": [
      "0\n",
      "2\n"
     ]
    },
    {
     "data": {
      "text/plain": [
       "'ValueError - value not in list'"
      ]
     },
     "execution_count": 29,
     "metadata": {},
     "output_type": "execute_result"
    }
   ],
   "source": [
    "print(L.find(\"Avadhi\"))\n",
    "print(L.find(8.9))\n",
    "L.find(1000)"
   ]
  },
  {
   "cell_type": "code",
   "execution_count": 30,
   "id": "67e73a54",
   "metadata": {},
   "outputs": [
    {
     "name": "stdout",
     "output_type": "stream",
     "text": [
      "[Avadhi,34,8.9,True]\n"
     ]
    }
   ],
   "source": [
    "print(L)"
   ]
  },
  {
   "cell_type": "code",
   "execution_count": 31,
   "id": "ec00f48b",
   "metadata": {},
   "outputs": [
    {
     "name": "stdout",
     "output_type": "stream",
     "text": [
      "[67,Avadhi,34,8.9,True]\n"
     ]
    }
   ],
   "source": [
    "L.insert(0,67)\n",
    "print(L)"
   ]
  },
  {
   "cell_type": "code",
   "execution_count": 32,
   "id": "b852f9a6",
   "metadata": {},
   "outputs": [
    {
     "name": "stdout",
     "output_type": "stream",
     "text": [
      "[67,Avadhi,34,8.9,True]\n"
     ]
    }
   ],
   "source": [
    "print(L)"
   ]
  },
  {
   "cell_type": "code",
   "execution_count": 33,
   "id": "aa4b77a8",
   "metadata": {},
   "outputs": [],
   "source": [
    "del L[2]"
   ]
  },
  {
   "cell_type": "code",
   "execution_count": 34,
   "id": "5828089b",
   "metadata": {},
   "outputs": [
    {
     "name": "stdout",
     "output_type": "stream",
     "text": [
      "[67,Avadhi,8.9,True]\n"
     ]
    }
   ],
   "source": [
    "print(L)"
   ]
  },
  {
   "cell_type": "code",
   "execution_count": 35,
   "id": "5fe7dfcb",
   "metadata": {},
   "outputs": [
    {
     "name": "stdout",
     "output_type": "stream",
     "text": [
      "[67,Avadhi,8.9,True]\n"
     ]
    }
   ],
   "source": [
    "print(L)"
   ]
  },
  {
   "cell_type": "code",
   "execution_count": 36,
   "id": "875cfea0",
   "metadata": {},
   "outputs": [],
   "source": [
    "del L[3]"
   ]
  },
  {
   "cell_type": "code",
   "execution_count": 37,
   "id": "4b99e0b5",
   "metadata": {},
   "outputs": [
    {
     "name": "stdout",
     "output_type": "stream",
     "text": [
      "[67,Avadhi,8.9]\n"
     ]
    }
   ],
   "source": [
    "print(L)"
   ]
  },
  {
   "cell_type": "code",
   "execution_count": 38,
   "id": "4f083fca",
   "metadata": {},
   "outputs": [
    {
     "data": {
      "text/plain": [
       "'ValueError - value not in list'"
      ]
     },
     "execution_count": 38,
     "metadata": {},
     "output_type": "execute_result"
    }
   ],
   "source": [
    "L.remove(34)"
   ]
  },
  {
   "cell_type": "code",
   "execution_count": 39,
   "id": "8a10f0b7",
   "metadata": {},
   "outputs": [],
   "source": [
    "L.append(1)\n",
    "L.append(61)\n",
    "L.append(145)\n",
    "L.append(9)\n",
    "L.append(2)"
   ]
  },
  {
   "cell_type": "code",
   "execution_count": 40,
   "id": "e53c82de",
   "metadata": {},
   "outputs": [
    {
     "name": "stdout",
     "output_type": "stream",
     "text": [
      "[67,Avadhi,8.9,1,61,145,9,2]\n"
     ]
    }
   ],
   "source": [
    "print(L)"
   ]
  },
  {
   "cell_type": "markdown",
   "id": "13982569",
   "metadata": {},
   "source": [
    "# Linked List Implementation"
   ]
  },
  {
   "cell_type": "code",
   "execution_count": 11,
   "id": "b991d07a",
   "metadata": {},
   "outputs": [],
   "source": [
    "class Node:\n",
    "    def __init__(self,value):\n",
    "        self.data = value\n",
    "        self.next = None\n",
    "\n",
    "class LinkedList:\n",
    "    def __init__(self):\n",
    "        self.head = None\n",
    "        self.n = 0\n",
    "    \n",
    "    def __len__(self):\n",
    "        return self.n\n",
    "        \n",
    "    def insert_head(self,value):\n",
    "        new_node = Node(value)\n",
    "        new_node.next = self.head\n",
    "        self.head = new_node\n",
    "        self.n += 1\n",
    "        \n",
    "    def __str__(self):\n",
    "        curr = self.head\n",
    "        result = ''\n",
    "        while curr != None:\n",
    "            result = result +str(curr.data) + '->'\n",
    "            curr = curr.next\n",
    "        \n",
    "        return result[:-2]\n",
    "    \n",
    "    def append(self,value):\n",
    "        new_node = Node(value)\n",
    "        \n",
    "        if self.head == None:\n",
    "            self.head = new_node\n",
    "            self.n += 1\n",
    "            return\n",
    "        \n",
    "        curr = self.head\n",
    "        while curr.next != None:\n",
    "            curr = curr.next\n",
    "        curr.next = new_node\n",
    "        self.n += 1\n",
    "        \n",
    "    def insert(self,after,value):\n",
    "        new_node = Node(value)\n",
    "        \n",
    "        if self.head == None:\n",
    "            self.head = new_node\n",
    "            self.n += 1\n",
    "            return\n",
    "        \n",
    "        curr = self.head\n",
    "        \n",
    "        while curr != None:\n",
    "            if curr.data == after:\n",
    "                break\n",
    "            curr = curr.next\n",
    "        \n",
    "        if curr != None:\n",
    "            new_node.next = curr.next\n",
    "            curr.next = new_node\n",
    "            self.n += 1\n",
    "        else:\n",
    "            return \"Item Not Found\"\n",
    "        \n",
    "    def clear(self):\n",
    "        self.head = None\n",
    "        self.n = 0\n",
    "        \n",
    "    def delete_head(self):\n",
    "        if self.head == None:\n",
    "            return 'Empty LL'\n",
    "        curr = self.head\n",
    "        self.head = curr.next\n",
    "        self.n -= 1\n",
    "        \n",
    "    def pop(self):\n",
    "        if self.head == None:\n",
    "            return 'Empty LL'\n",
    "        \n",
    "        curr = self.head\n",
    "        \n",
    "        if curr.next == None:\n",
    "            return self.delete_head()\n",
    "        \n",
    "        while curr.next.next != None:\n",
    "            curr = curr.next\n",
    "        \n",
    "        curr.next = None\n",
    "        self.n -= 1\n",
    "        \n",
    "    def remove(self,value):\n",
    "        if self.head == None:\n",
    "            return 'Empty LL'\n",
    "        \n",
    "        curr = self.head\n",
    "        \n",
    "        if curr.next == None:\n",
    "            return self.delete_head()\n",
    "        \n",
    "        while curr.next != None:\n",
    "            if curr.next.data == value:\n",
    "                break\n",
    "            curr = curr.next\n",
    "        \n",
    "        if curr.next == None:\n",
    "            return \"Item not found\"\n",
    "        else:\n",
    "            curr.next = curr.next.next\n",
    "            self.n -= 1    \n",
    "            \n",
    "    def __delitem__(self, index):\n",
    "        if index >= self.n or index < 0:\n",
    "            return \"IndexError\"\n",
    "        \n",
    "        if index == 0:  \n",
    "            self.head = self.head.next\n",
    "        else:\n",
    "            curr = self.head\n",
    "            \n",
    "            for _ in range(index - 1):\n",
    "                curr = curr.next\n",
    "        \n",
    "            curr.next = curr.next.next  \n",
    "    \n",
    "            self.n -= 1 \n",
    "\n",
    "        return 'IndexError'\n",
    "            \n",
    "    def search(self,item):\n",
    "        curr = self.head\n",
    "        pos = 0\n",
    "        \n",
    "        while curr != None:\n",
    "            if curr.data == item:\n",
    "                return pos\n",
    "            curr = curr.next\n",
    "            pos = pos + 1\n",
    "            \n",
    "        return 'Not Found'\n",
    "    \n",
    "    def __getitem__(self,index):\n",
    "        curr = self.head\n",
    "        pos = 0\n",
    "\n",
    "        while curr != None:\n",
    "            if pos == index:\n",
    "                return curr.data\n",
    "            curr = curr.next\n",
    "            pos = pos + 1\n",
    "\n",
    "        return 'IndexError'\n",
    "    \n",
    "    #We are given a value and we have to find maximum value from our linked-list and replace the max value with given value\n",
    "    \n",
    "    def replace_max(self,value):\n",
    "        curr = self.head\n",
    "        maximum = curr\n",
    "        \n",
    "        while curr!=None:\n",
    "            if curr.data > maximum.data:\n",
    "                maximum = curr\n",
    "            curr = curr.next\n",
    "        \n",
    "        maximum.data = value\n",
    "        \n",
    "    # And values at the odd positions(indices) of the linked-list and return sum\n",
    "    \n",
    "    def sum_odd_nodes(self):\n",
    "        temp =self.head\n",
    "        result = 0\n",
    "        counter=0\n",
    "        \n",
    "        while temp != None:\n",
    "            if counter%2==0:\n",
    "                result += temp.data\n",
    "            counter += 1\n",
    "            temp = temp.next\n",
    "            \n",
    "        print(result)\n",
    "        \n",
    "   # Reversing a linked list containing integer data (Condition: You cannot create a new linked list)\n",
    "  \n",
    "    def reverse_list(self):\n",
    "        \n",
    "        prev_node = None\n",
    "        curr_node = self.head\n",
    "        \n",
    "        while curr_node != None:\n",
    "            next_node = curr_node.next\n",
    "            curr_node.next = prev_node\n",
    "            prev_node = curr_node\n",
    "            curr_node = next_node\n",
    "            \n",
    "        self.head = prev_node\n",
    "            \n",
    "            \n",
    "        "
   ]
  },
  {
   "cell_type": "code",
   "execution_count": 12,
   "id": "67f52465",
   "metadata": {},
   "outputs": [],
   "source": [
    "L = LinkedList()\n"
   ]
  },
  {
   "cell_type": "code",
   "execution_count": 13,
   "id": "db099773",
   "metadata": {},
   "outputs": [],
   "source": [
    "L.insert_head(1)\n",
    "L.insert_head(2)\n",
    "L.insert_head(3)\n",
    "L.insert_head(4)"
   ]
  },
  {
   "cell_type": "code",
   "execution_count": 14,
   "id": "16f000ea",
   "metadata": {},
   "outputs": [
    {
     "name": "stdout",
     "output_type": "stream",
     "text": [
      "4\n",
      "4->3->2->1\n"
     ]
    }
   ],
   "source": [
    "print(len(L))\n",
    "\n",
    "print(L)"
   ]
  },
  {
   "cell_type": "code",
   "execution_count": 50,
   "id": "2a6428e4",
   "metadata": {},
   "outputs": [],
   "source": [
    "L.append(5)"
   ]
  },
  {
   "cell_type": "code",
   "execution_count": 51,
   "id": "0d746d02",
   "metadata": {},
   "outputs": [
    {
     "name": "stdout",
     "output_type": "stream",
     "text": [
      "4->3->2->1->5\n"
     ]
    }
   ],
   "source": [
    "print(L)"
   ]
  },
  {
   "cell_type": "code",
   "execution_count": 52,
   "id": "8396b755",
   "metadata": {},
   "outputs": [
    {
     "data": {
      "text/plain": [
       "'Item Not Found'"
      ]
     },
     "execution_count": 52,
     "metadata": {},
     "output_type": "execute_result"
    }
   ],
   "source": [
    "L.insert(200,100)"
   ]
  },
  {
   "cell_type": "code",
   "execution_count": 54,
   "id": "5d16202e",
   "metadata": {},
   "outputs": [],
   "source": [
    "L.insert(2,500)"
   ]
  },
  {
   "cell_type": "code",
   "execution_count": 32,
   "id": "1dbe3d81",
   "metadata": {},
   "outputs": [],
   "source": [
    "L.delete_head()"
   ]
  },
  {
   "cell_type": "code",
   "execution_count": 56,
   "id": "625ec2c5",
   "metadata": {},
   "outputs": [],
   "source": [
    "L.pop()"
   ]
  },
  {
   "cell_type": "code",
   "execution_count": 59,
   "id": "479f7633",
   "metadata": {},
   "outputs": [
    {
     "name": "stdout",
     "output_type": "stream",
     "text": [
      "4->3->2->1\n"
     ]
    }
   ],
   "source": [
    "print(L)"
   ]
  },
  {
   "cell_type": "code",
   "execution_count": 58,
   "id": "f3b4b588",
   "metadata": {},
   "outputs": [],
   "source": [
    "L.remove(500)"
   ]
  },
  {
   "cell_type": "code",
   "execution_count": 65,
   "id": "b4c48763",
   "metadata": {},
   "outputs": [
    {
     "data": {
      "text/plain": [
       "'Not Found'"
      ]
     },
     "execution_count": 65,
     "metadata": {},
     "output_type": "execute_result"
    }
   ],
   "source": [
    "L.search(89)"
   ]
  },
  {
   "cell_type": "code",
   "execution_count": 71,
   "id": "7d43ecb9",
   "metadata": {},
   "outputs": [
    {
     "data": {
      "text/plain": [
       "4"
      ]
     },
     "execution_count": 71,
     "metadata": {},
     "output_type": "execute_result"
    }
   ],
   "source": [
    "L[0]"
   ]
  },
  {
   "cell_type": "code",
   "execution_count": 108,
   "id": "9c02b19d",
   "metadata": {},
   "outputs": [],
   "source": [
    "del L[2]"
   ]
  },
  {
   "cell_type": "code",
   "execution_count": 109,
   "id": "85318041",
   "metadata": {},
   "outputs": [
    {
     "name": "stdout",
     "output_type": "stream",
     "text": [
      "4->3->1\n"
     ]
    }
   ],
   "source": [
    "print(L)"
   ]
  },
  {
   "cell_type": "code",
   "execution_count": 5,
   "id": "b9cb2a8d",
   "metadata": {},
   "outputs": [],
   "source": [
    "L.replace_max(12)"
   ]
  },
  {
   "cell_type": "code",
   "execution_count": 6,
   "id": "04027083",
   "metadata": {},
   "outputs": [
    {
     "name": "stdout",
     "output_type": "stream",
     "text": [
      "12->3->2->1\n"
     ]
    }
   ],
   "source": [
    "print(L)"
   ]
  },
  {
   "cell_type": "code",
   "execution_count": 10,
   "id": "4fef76b9",
   "metadata": {},
   "outputs": [
    {
     "name": "stdout",
     "output_type": "stream",
     "text": [
      "6\n"
     ]
    }
   ],
   "source": [
    "L.sum_odd_nodes()"
   ]
  },
  {
   "cell_type": "code",
   "execution_count": 15,
   "id": "7d7a2801",
   "metadata": {},
   "outputs": [],
   "source": [
    "L.reverse_list()"
   ]
  },
  {
   "cell_type": "code",
   "execution_count": 16,
   "id": "4cca62c5",
   "metadata": {},
   "outputs": [
    {
     "name": "stdout",
     "output_type": "stream",
     "text": [
      "1->2->3->4\n"
     ]
    }
   ],
   "source": [
    "print(L)"
   ]
  },
  {
   "cell_type": "markdown",
   "id": "00c5673f",
   "metadata": {},
   "source": [
    "# Stack "
   ]
  },
  {
   "cell_type": "markdown",
   "id": "4a0872e3",
   "metadata": {},
   "source": [
    "A linear data structure works on the LIFO (**Last in First Out**) principle"
   ]
  },
  {
   "cell_type": "markdown",
   "id": "af3e6acb",
   "metadata": {},
   "source": [
    "Stack can be implemented using both Arrays(Lists) as well as Linked List."
   ]
  },
  {
   "cell_type": "markdown",
   "id": "4f76ac97",
   "metadata": {},
   "source": [
    "# Implementation of Stack using Linked List"
   ]
  },
  {
   "cell_type": "markdown",
   "id": "28994d8f",
   "metadata": {},
   "source": [
    "Implementation of Stack using Linked List is comparatively easy.\n",
    "\n",
    "It can be implemented using a linked list whose every operation of insertion and deletion is done using head of LL only"
   ]
  },
  {
   "cell_type": "code",
   "execution_count": 13,
   "id": "dd19689a",
   "metadata": {},
   "outputs": [],
   "source": [
    "class Node:\n",
    "    def __init__(self,value):\n",
    "        self.data = value\n",
    "        self.next = None\n",
    "\n",
    "class Stack:\n",
    "    def __init__(self):\n",
    "        self.top = None\n",
    "        \n",
    "    def isempty(self):\n",
    "        return self.top == None\n",
    "            \n",
    "        \n",
    "    def push(self,value):\n",
    "        \n",
    "        new_node = Node(value)\n",
    "        new_node.next = self.top\n",
    "        self.top = new_node\n",
    "        \n",
    "    def peek(self):\n",
    "        if self.top == None:\n",
    "            return \"Stack is empty\"\n",
    "        return self.top.data\n",
    "    \n",
    "    def pop(self):\n",
    "        if self.top is None:\n",
    "            return \"Stack Empty\"\n",
    "        else:\n",
    "            data = self.top.data\n",
    "            self.top = self.top.next\n",
    "        \n",
    "        return data\n",
    "        \n",
    "    \n",
    "    def traverse(self):\n",
    "        \n",
    "        if self.top == None:\n",
    "            print(\"'Stack is empty'\")\n",
    "        else:\n",
    "            temp = self.top\n",
    "            while temp is not None:\n",
    "                print(temp.data,end=\" \")\n",
    "                temp = temp.next\n",
    "                \n",
    "    def size(self):\n",
    "        temp = self.top\n",
    "        counter = 0\n",
    "        \n",
    "        while temp is not None:\n",
    "            temp = temp.next\n",
    "            counter+=1\n",
    "        \n",
    "        return counter\n"
   ]
  },
  {
   "cell_type": "code",
   "execution_count": 109,
   "id": "9c7c96f8",
   "metadata": {},
   "outputs": [],
   "source": [
    "S = Stack()"
   ]
  },
  {
   "cell_type": "code",
   "execution_count": 110,
   "id": "3e292514",
   "metadata": {},
   "outputs": [],
   "source": [
    "S.push(1)\n",
    "S.push(2)\n",
    "S.push(3)\n",
    "S.push(4)\n",
    "S.push(5)"
   ]
  },
  {
   "cell_type": "code",
   "execution_count": 111,
   "id": "839936a5",
   "metadata": {},
   "outputs": [
    {
     "name": "stdout",
     "output_type": "stream",
     "text": [
      "5 4 3 2 1 "
     ]
    }
   ],
   "source": [
    "S.traverse()"
   ]
  },
  {
   "cell_type": "code",
   "execution_count": 112,
   "id": "178c1660",
   "metadata": {},
   "outputs": [
    {
     "data": {
      "text/plain": [
       "5"
      ]
     },
     "execution_count": 112,
     "metadata": {},
     "output_type": "execute_result"
    }
   ],
   "source": [
    "S.peek()"
   ]
  },
  {
   "cell_type": "code",
   "execution_count": 113,
   "id": "7e52eea3",
   "metadata": {},
   "outputs": [],
   "source": [
    "S.pop()"
   ]
  },
  {
   "cell_type": "code",
   "execution_count": 114,
   "id": "8a7f107a",
   "metadata": {},
   "outputs": [
    {
     "data": {
      "text/plain": [
       "False"
      ]
     },
     "execution_count": 114,
     "metadata": {},
     "output_type": "execute_result"
    }
   ],
   "source": [
    "S.isempty()"
   ]
  },
  {
   "cell_type": "code",
   "execution_count": 115,
   "id": "1d547cff",
   "metadata": {},
   "outputs": [
    {
     "data": {
      "text/plain": [
       "4"
      ]
     },
     "execution_count": 115,
     "metadata": {},
     "output_type": "execute_result"
    }
   ],
   "source": [
    "S.size()"
   ]
  },
  {
   "cell_type": "code",
   "execution_count": 116,
   "id": "c3fe12fc",
   "metadata": {},
   "outputs": [
    {
     "name": "stdout",
     "output_type": "stream",
     "text": [
      "4 3 2 1 "
     ]
    }
   ],
   "source": [
    "S.traverse()\n"
   ]
  },
  {
   "cell_type": "markdown",
   "id": "420f679c",
   "metadata": {},
   "source": [
    "# Questions on Stack"
   ]
  },
  {
   "cell_type": "markdown",
   "id": "d4fcf3a4",
   "metadata": {},
   "source": [
    "**String Reversal**"
   ]
  },
  {
   "cell_type": "code",
   "execution_count": 133,
   "id": "e180c04e",
   "metadata": {},
   "outputs": [],
   "source": [
    "def reverse_string(string):\n",
    "    S1 = Stack()\n",
    "    for s in string:\n",
    "        S1.push(s)\n",
    "    \n",
    "\n",
    "    result = \"\"\n",
    "    while not S1.isempty():\n",
    "        data = S1.pop()\n",
    "        if data is not None:\n",
    "            result = result + data + \" \"\n",
    "        \n",
    "    print(result)\n",
    "\n",
    "\n",
    "        "
   ]
  },
  {
   "cell_type": "code",
   "execution_count": 134,
   "id": "6e6b9bb0",
   "metadata": {},
   "outputs": [
    {
     "name": "stdout",
     "output_type": "stream",
     "text": [
      "o l l e h \n"
     ]
    }
   ],
   "source": [
    "reverse_string(\"hello\")"
   ]
  },
  {
   "cell_type": "markdown",
   "id": "f9aaa694",
   "metadata": {},
   "source": [
    "**Text Editor**"
   ]
  },
  {
   "cell_type": "code",
   "execution_count": 145,
   "id": "08b79382",
   "metadata": {},
   "outputs": [],
   "source": [
    "def text_editor(text,pattern):\n",
    "    u = Stack()\n",
    "    r = Stack()\n",
    "\n",
    "    for i in text:\n",
    "        u.push(i)\n",
    "\n",
    "    for i in pattern:\n",
    "        if i == 'u':\n",
    "            data = u.pop()\n",
    "            r.push(data)\n",
    "        else:\n",
    "            data = r.pop()\n",
    "            u.push(data)\n",
    "\n",
    "    res = \"\"\n",
    "\n",
    "    while(not u.isempty()):\n",
    "        res = u.pop() + res\n",
    "\n",
    "    print(res)"
   ]
  },
  {
   "cell_type": "code",
   "execution_count": 146,
   "id": "f9fe0e63",
   "metadata": {},
   "outputs": [
    {
     "name": "stdout",
     "output_type": "stream",
     "text": [
      "avadh\n"
     ]
    }
   ],
   "source": [
    "text_editor(\"avadhi\",\"uuruurr\")"
   ]
  },
  {
   "cell_type": "markdown",
   "id": "0c97f226",
   "metadata": {},
   "source": [
    "**Balanced Parentheses**"
   ]
  },
  {
   "cell_type": "code",
   "execution_count": 141,
   "id": "2b0b5813",
   "metadata": {},
   "outputs": [],
   "source": [
    "def brackets(expr):\n",
    "    s = Stack()\n",
    "    \n",
    "    for i in expr:\n",
    "        if i == '(':\n",
    "            s.push(i)\n",
    "        elif i == ')':\n",
    "            if s.peek() == '(':\n",
    "                s.pop()\n",
    "            else:\n",
    "                print(\"Imbalanced\")\n",
    "                return \n",
    "\n",
    "    if (s.isempty()):\n",
    "        print(\"Balanced\")\n",
    "    else:\n",
    "        print(\"Imbalanced\")"
   ]
  },
  {
   "cell_type": "code",
   "execution_count": 143,
   "id": "d5b2b46e",
   "metadata": {},
   "outputs": [
    {
     "name": "stdout",
     "output_type": "stream",
     "text": [
      "Balanced\n"
     ]
    }
   ],
   "source": [
    "brackets(\"(())\")"
   ]
  },
  {
   "cell_type": "markdown",
   "id": "f57e54dc",
   "metadata": {},
   "source": [
    "**Celebrity Problem**"
   ]
  },
  {
   "cell_type": "code",
   "execution_count": 147,
   "id": "eaf9b4ed",
   "metadata": {},
   "outputs": [],
   "source": [
    "L = [\n",
    "     [0,1,0,0],\n",
    "     [0,0,1,1],\n",
    "     [1,0,0,1],\n",
    "     [0,0,0,0]\n",
    "]"
   ]
  },
  {
   "cell_type": "code",
   "execution_count": 148,
   "id": "5772cd5c",
   "metadata": {},
   "outputs": [
    {
     "data": {
      "text/plain": [
       "[[0, 1, 0, 0], [0, 0, 1, 1], [1, 0, 0, 1], [0, 0, 0, 0]]"
      ]
     },
     "execution_count": 148,
     "metadata": {},
     "output_type": "execute_result"
    }
   ],
   "source": [
    "L"
   ]
  },
  {
   "cell_type": "code",
   "execution_count": 151,
   "id": "a17f014b",
   "metadata": {},
   "outputs": [],
   "source": [
    "def celebrity(L):\n",
    "    s = Stack()\n",
    "    \n",
    "    for i in range(len(L)):\n",
    "        s.push(i)\n",
    "        \n",
    "    while s.size() >= 2:\n",
    "        i = s.pop()\n",
    "        j = s.pop()\n",
    "\n",
    "        if L[i][j] == 0:\n",
    "      # j is not a celebrity\n",
    "    \n",
    "            s.push(i)\n",
    "        else:\n",
    "      # i is not a celebrity\n",
    "            s.push(j)\n",
    "\n",
    "    cel = s.pop()\n",
    "\n",
    "    for i in range(len(L)):\n",
    "        if i != cel:\n",
    "            if L[i][cel] != 1 or L[cel][i] != 0:\n",
    "                print(\"No one is celebrity\")\n",
    "                return\n",
    "    print(\"Celebrity is\",cel)"
   ]
  },
  {
   "cell_type": "code",
   "execution_count": 152,
   "id": "19b64812",
   "metadata": {},
   "outputs": [
    {
     "name": "stdout",
     "output_type": "stream",
     "text": [
      "No one is celebrity\n"
     ]
    }
   ],
   "source": [
    "celebrity(L)"
   ]
  },
  {
   "cell_type": "markdown",
   "id": "48f00576",
   "metadata": {},
   "source": [
    "# Stack Implementation using Arrays"
   ]
  },
  {
   "cell_type": "code",
   "execution_count": 163,
   "id": "4b7af70e",
   "metadata": {},
   "outputs": [],
   "source": [
    "class Stack2:\n",
    "    def __init__(self,size):\n",
    "        self.size = size\n",
    "        self.__stack = [None] * self.size \n",
    "        self.top = -1\n",
    "        \n",
    "    def push(self, value):\n",
    "        if self.top == self.size-1: \n",
    "            return \"Overflow\"\n",
    "        else:\n",
    "            self.top+=1 \n",
    "            self.__stack[self.top] = value\n",
    "\n",
    "    def pop(self):\n",
    "        if self.top == -1: \n",
    "            return \"Empty\"\n",
    "        else:\n",
    "            data = self.__stack[self.top] \n",
    "            self.top-=1\n",
    "        \n",
    "        print(data)\n",
    "        \n",
    "    def traverse(self):\n",
    "        for i in range(self.top + 1):\n",
    "            print(self.__stack[i],end=' ')"
   ]
  },
  {
   "cell_type": "code",
   "execution_count": 164,
   "id": "bfb8fedb",
   "metadata": {},
   "outputs": [],
   "source": [
    "A = Stack2(3)"
   ]
  },
  {
   "cell_type": "code",
   "execution_count": 168,
   "id": "5ba3116c",
   "metadata": {},
   "outputs": [
    {
     "data": {
      "text/plain": [
       "'Overflow'"
      ]
     },
     "execution_count": 168,
     "metadata": {},
     "output_type": "execute_result"
    }
   ],
   "source": [
    "A.push(1)"
   ]
  },
  {
   "cell_type": "code",
   "execution_count": 169,
   "id": "1218d621",
   "metadata": {},
   "outputs": [
    {
     "name": "stdout",
     "output_type": "stream",
     "text": [
      "1 1 1 "
     ]
    }
   ],
   "source": [
    "A.traverse()"
   ]
  },
  {
   "cell_type": "markdown",
   "id": "498c70ff",
   "metadata": {},
   "source": [
    "# Queue "
   ]
  },
  {
   "cell_type": "markdown",
   "id": "1aa6729f",
   "metadata": {},
   "source": [
    "Queue is also a linear data structure, based on the FIFO (**First In First Out**) principle."
   ]
  },
  {
   "cell_type": "markdown",
   "id": "d743631a",
   "metadata": {},
   "source": [
    "# Implementation of Queue using Linked list"
   ]
  },
  {
   "cell_type": "code",
   "execution_count": 1,
   "id": "d861d860",
   "metadata": {},
   "outputs": [],
   "source": [
    "class Node:\n",
    "    \n",
    "    def __init__(self,value):\n",
    "        self.data  = value\n",
    "        self.next = None"
   ]
  },
  {
   "cell_type": "code",
   "execution_count": 2,
   "id": "88bbcc28",
   "metadata": {},
   "outputs": [],
   "source": [
    "class Queue:\n",
    "    \n",
    "    def __init__(self):\n",
    "        self.front = None\n",
    "        self.rear = None\n",
    "        \n",
    "    def enqueue(self,value):\n",
    "        \n",
    "        new_node = Node(value)\n",
    "        \n",
    "        if self.front == None:\n",
    "            self.front = new_node\n",
    "            self.rear = new_node\n",
    "            \n",
    "        else:\n",
    "            self.rear.next = new_node\n",
    "            self.rear = new_node\n",
    "    \n",
    "    def dequeue(self):\n",
    "        \n",
    "        if self.front == None:\n",
    "            return \"Queue empty\"\n",
    "        \n",
    "        else:\n",
    "            self.front = self.front.next\n",
    "            \n",
    "\n",
    "    def is_empty(self):\n",
    "        return self.front == None\n",
    "\n",
    "    def front_item(self):\n",
    "        \n",
    "        if (not self.is_empty()):\n",
    "            return self.front.data\n",
    "        else:\n",
    "            return \"Empty queue\"\n",
    "\n",
    "    def rear_item(self):\n",
    "        if (not self.is_empty()):\n",
    "            return self.rear.data\n",
    "        else:\n",
    "            return \"Empty queue\"\n",
    "    \n",
    "\n",
    "    def traverse(self):\n",
    "        temp = self.front\n",
    "        \n",
    "        while temp is not None:\n",
    "            print(temp.data,end=' ')\n",
    "            temp = temp.next"
   ]
  },
  {
   "cell_type": "code",
   "execution_count": 3,
   "id": "24aeedde",
   "metadata": {},
   "outputs": [],
   "source": [
    "q = Queue()"
   ]
  },
  {
   "cell_type": "code",
   "execution_count": 4,
   "id": "47195ad9",
   "metadata": {},
   "outputs": [
    {
     "data": {
      "text/plain": [
       "True"
      ]
     },
     "execution_count": 4,
     "metadata": {},
     "output_type": "execute_result"
    }
   ],
   "source": [
    "q.is_empty()"
   ]
  },
  {
   "cell_type": "code",
   "execution_count": 6,
   "id": "0fb353a2",
   "metadata": {},
   "outputs": [],
   "source": [
    "q.enqueue(1)"
   ]
  },
  {
   "cell_type": "code",
   "execution_count": 7,
   "id": "4cc66482",
   "metadata": {},
   "outputs": [],
   "source": [
    "q.enqueue(3)\n",
    "q.enqueue(5)\n",
    "q.enqueue(7)\n",
    "q.enqueue(10)"
   ]
  },
  {
   "cell_type": "code",
   "execution_count": 8,
   "id": "da54c7b3",
   "metadata": {},
   "outputs": [
    {
     "name": "stdout",
     "output_type": "stream",
     "text": [
      "1 1 3 5 7 10 "
     ]
    }
   ],
   "source": [
    "q.traverse()"
   ]
  },
  {
   "cell_type": "code",
   "execution_count": 9,
   "id": "805e857f",
   "metadata": {},
   "outputs": [],
   "source": [
    "q.dequeue()"
   ]
  },
  {
   "cell_type": "code",
   "execution_count": 10,
   "id": "7bf282b8",
   "metadata": {},
   "outputs": [
    {
     "name": "stdout",
     "output_type": "stream",
     "text": [
      "1 3 5 7 10 "
     ]
    }
   ],
   "source": [
    "q.traverse()"
   ]
  },
  {
   "cell_type": "code",
   "execution_count": 11,
   "id": "260b73c2",
   "metadata": {},
   "outputs": [
    {
     "data": {
      "text/plain": [
       "1"
      ]
     },
     "execution_count": 11,
     "metadata": {},
     "output_type": "execute_result"
    }
   ],
   "source": [
    "q.front_item()"
   ]
  },
  {
   "cell_type": "code",
   "execution_count": 12,
   "id": "afd458a2",
   "metadata": {},
   "outputs": [
    {
     "data": {
      "text/plain": [
       "10"
      ]
     },
     "execution_count": 12,
     "metadata": {},
     "output_type": "execute_result"
    }
   ],
   "source": [
    "q.rear_item()"
   ]
  },
  {
   "cell_type": "markdown",
   "id": "3cafbe82",
   "metadata": {},
   "source": [
    "# Queue using two stacks "
   ]
  },
  {
   "cell_type": "code",
   "execution_count": 65,
   "id": "0ca84d83",
   "metadata": {},
   "outputs": [],
   "source": [
    "class Queue2:\n",
    "    def __init__(self):\n",
    "        self.s1 = []\n",
    "        self.s2 = []\n",
    " \n",
    "    def enQueue(self, x):\n",
    "        self.s1.append(x)\n",
    " \n",
    "    def deQueue(self):  \n",
    "        if len(self.s1) == 0 and len(self.s2) == 0:\n",
    "            return -1\n",
    "        elif len(self.s2) == 0 and len(self.s1) > 0:\n",
    "            while len(self.s1):\n",
    "                temp = self.s1.pop()\n",
    "                self.s2.append(temp)\n",
    "            return self.s2.pop()\n",
    "        else:\n",
    "            return self.s2.pop()\n",
    "        \n",
    "    def traverse(self):\n",
    "        if len(self.s1) >0:\n",
    "            for i in self.s1:\n",
    "                print(i,end=\" \")\n",
    "                \n",
    "        else:\n",
    "            self.s2 = reversed(self.s2)\n",
    "            for i in self.s2:\n",
    "                print(i,end=\" \")\n",
    "                \n",
    "    def is_empty(self):\n",
    "        if len(self.s1) == 0 and len(self.s2) == 0:\n",
    "            return True\n",
    "        return False"
   ]
  },
  {
   "cell_type": "code",
   "execution_count": 66,
   "id": "3a7b0d33",
   "metadata": {},
   "outputs": [],
   "source": [
    "Q = Queue2()"
   ]
  },
  {
   "cell_type": "code",
   "execution_count": 68,
   "id": "cfea61b0",
   "metadata": {},
   "outputs": [],
   "source": [
    "Q.enQueue(3)\n",
    "Q.enQueue(4)\n",
    "Q.enQueue(5)"
   ]
  },
  {
   "cell_type": "code",
   "execution_count": 55,
   "id": "7dd6c7b2",
   "metadata": {},
   "outputs": [
    {
     "name": "stdout",
     "output_type": "stream",
     "text": [
      "3 4 5 "
     ]
    }
   ],
   "source": [
    "Q.traverse()"
   ]
  },
  {
   "cell_type": "code",
   "execution_count": 56,
   "id": "d309ec19",
   "metadata": {},
   "outputs": [
    {
     "data": {
      "text/plain": [
       "3"
      ]
     },
     "execution_count": 56,
     "metadata": {},
     "output_type": "execute_result"
    }
   ],
   "source": [
    "Q.deQueue()"
   ]
  },
  {
   "cell_type": "code",
   "execution_count": 57,
   "id": "8f3ffded",
   "metadata": {},
   "outputs": [
    {
     "name": "stdout",
     "output_type": "stream",
     "text": [
      "4 5 "
     ]
    }
   ],
   "source": [
    "Q.traverse()"
   ]
  },
  {
   "cell_type": "code",
   "execution_count": 69,
   "id": "3a89f89b",
   "metadata": {},
   "outputs": [
    {
     "data": {
      "text/plain": [
       "False"
      ]
     },
     "execution_count": 69,
     "metadata": {},
     "output_type": "execute_result"
    }
   ],
   "source": [
    "Q.is_empty()"
   ]
  },
  {
   "cell_type": "markdown",
   "id": "81c8fd85",
   "metadata": {},
   "source": [
    "# Searching"
   ]
  },
  {
   "cell_type": "markdown",
   "id": "ec7c2c06",
   "metadata": {},
   "source": [
    "# 1. Linear Search "
   ]
  },
  {
   "cell_type": "markdown",
   "id": "69aabe1c",
   "metadata": {},
   "source": [
    "It is also known as brute force search, because it uses brute force approach to find/search elements.\n",
    "\n",
    "There is no need of sorted input array \n",
    "\n",
    "Time complexity = O(n)"
   ]
  },
  {
   "cell_type": "code",
   "execution_count": 72,
   "id": "e9fe7af3",
   "metadata": {},
   "outputs": [
    {
     "name": "stdout",
     "output_type": "stream",
     "text": [
      "Enter a value to be searched: 4\n",
      "Element is present at 4 position\n"
     ]
    }
   ],
   "source": [
    "def linearSearch(L,value):\n",
    "    for i in range(len(L)):\n",
    "        if L[i] == value:\n",
    "            return i\n",
    "    return -1\n",
    "\n",
    "L = [1,2,3,4,5,6,7,8,9,10]\n",
    "value = int(input(\"Enter a value to be searched: \"))\n",
    "result = linearSearch(L,value)\n",
    "if result != -1:\n",
    "    print(\"Element is present at\",result+1 ,\"position\")\n",
    "else:\n",
    "    print(\"Element is not present\")"
   ]
  },
  {
   "cell_type": "markdown",
   "id": "0f5b7495",
   "metadata": {},
   "source": [
    "# 2. Binary Search"
   ]
  },
  {
   "cell_type": "markdown",
   "id": "8476c9e0",
   "metadata": {},
   "source": [
    "Efficient search technique in comparison to linear search because it uses **Divide and Conquer Approach**.\n",
    "\n",
    "Input array should be sorted "
   ]
  },
  {
   "cell_type": "code",
   "execution_count": 73,
   "id": "6c0737b7",
   "metadata": {},
   "outputs": [
    {
     "name": "stdout",
     "output_type": "stream",
     "text": [
      "Enter the element: 4\n",
      "Element is present at position 3\n"
     ]
    }
   ],
   "source": [
    "def binary_search(arr, x):\n",
    "    low = 0\n",
    "    high = len(arr) - 1\n",
    "    mid = 0\n",
    " \n",
    "    while low <= high:\n",
    " \n",
    "        mid = (high + low) // 2\n",
    "        if arr[mid] < x:\n",
    "            low = mid + 1\n",
    "        elif arr[mid] > x:\n",
    "            high = mid - 1\n",
    "        else:\n",
    "            return mid\n",
    "    return -1\n",
    "\n",
    "arr = [ 2, 3, 4, 10, 40 ]\n",
    "x = int(input(\"Enter the element: \"))\n",
    "result = binary_search(arr, x)\n",
    " \n",
    "if result != -1:\n",
    "    print(\"Element is present at position\", str(result+1))\n",
    "else:\n",
    "    print(\"Element is not present in array\")"
   ]
  },
  {
   "cell_type": "markdown",
   "id": "b33fbc90",
   "metadata": {},
   "source": [
    "**Binary Search implementation using Recursion**"
   ]
  },
  {
   "cell_type": "markdown",
   "id": "d376a9ae",
   "metadata": {},
   "source": [
    "Problem:\n",
    "\n",
    "Alice has some cards with numbers written on them. She arranges the cards in decreasing order, and lays them out face down in a sequence on a table. She challenges Bob to pick out the card containing a given number by turning over as few cards as possible. Write a function to help Bob locate the card.\n"
   ]
  },
  {
   "cell_type": "code",
   "execution_count": 77,
   "id": "0e190d0f",
   "metadata": {},
   "outputs": [
    {
     "name": "stdout",
     "output_type": "stream",
     "text": [
      "Enter the card value to be searched: 5\n",
      "Card is present at position 5\n"
     ]
    }
   ],
   "source": [
    "def binarySearch(cards,beg,end,value):\n",
    "    if end>=beg:\n",
    "        mid = (beg+end)//2\n",
    "        if cards[mid]==value:\n",
    "            return mid\n",
    "        elif cards[mid]<value:\n",
    "            return binarySearch(cards,beg,mid-1,value)\n",
    "        else:\n",
    "            return binarySearch(cards,mid+1,end,value)\n",
    "    else:\n",
    "        return -1\n",
    "\n",
    "\n",
    "\n",
    "cards = [9,8,7,6,5,4,3,2,1]\n",
    "number = len(cards)\n",
    "value = int(input(\"Enter the card value to be searched: \"))\n",
    "result = binarySearch(cards,0,number-1,value)\n",
    "if result != -1:\n",
    "    print(\"Card is present at position\", str(result+1))\n",
    "else:\n",
    "    print(\"Card is not present in array\")"
   ]
  },
  {
   "cell_type": "markdown",
   "id": "819e0a91",
   "metadata": {},
   "source": [
    "# Hashing"
   ]
  },
  {
   "cell_type": "markdown",
   "id": "287084ae",
   "metadata": {},
   "source": [
    "Fastest searching technique whose time complexity is O(1).\n",
    "\n",
    "It uses a Hash Function to add items into the array to make searching more efficient."
   ]
  },
  {
   "cell_type": "markdown",
   "id": "45b273f7",
   "metadata": {},
   "source": [
    "Hashing is a fundamental data structure that efficiently stores and retrieves data in a way that allows for quick access. It involves mapping data to a specific index in a hash table using a hash function that enables fast retrieval of information based on its key. This method is commonly used in databases, caching systems, and various programming applications to optimize search and retrieval operations."
   ]
  },
  {
   "cell_type": "markdown",
   "id": "dc0d7fc4",
   "metadata": {},
   "source": [
    "How it works:\n",
    "\n",
    "1. **Hash Function:** You provide your data items into the hash function.\n",
    "2. **Hash Code:** The hash function crunches the data and give a unique hash code.\n",
    "3. **Hash Table (Hash Map):** The hash code then points you to a specific location within the hash table."
   ]
  },
  {
   "cell_type": "markdown",
   "id": "d1eecd4e",
   "metadata": {},
   "source": [
    "**Hash Collision**"
   ]
  },
  {
   "cell_type": "markdown",
   "id": "95a8cef3",
   "metadata": {},
   "source": [
    "A hash collision occurs when two different keys map to the same index in a hash table. This can happen even with a good hash function, especially if the hash table is full or the keys are similar."
   ]
  },
  {
   "cell_type": "markdown",
   "id": "d8bc4c1b",
   "metadata": {},
   "source": [
    "**Collision Resolution Techniques**"
   ]
  },
  {
   "cell_type": "markdown",
   "id": "deae85d3",
   "metadata": {},
   "source": [
    "There are two types of collision resolution techniques:\n",
    "\n",
    "**1. Open Addressing:**\n",
    "\n",
    "a. Linear Probing: Search for an empty slot sequentially **\"g(i)=[h(i)+k(i')]%size\"**, where h(i)=i%size and k(i')->i.\n",
    "\n",
    "b. Quadratic Probing: Search for an empty slot using a quadratic function **\"g(i)=[h(i)+k(i')]%size\"**, where h(i)=i%size and k(i')->i^2.\n",
    "\n",
    "\n",
    "**2. Closed Addressing:**\n",
    "\n",
    "a. Chaining: Store colliding keys in a linked list or binary search tree at each index.\n",
    "\n",
    "Methods to solve problems arises due to chaininng - Rehashing and Balanced Tree conversion.\n",
    "\n",
    "b. Cuckoo Hashing: Use multiple hash functions to distribute keys"
   ]
  },
  {
   "cell_type": "markdown",
   "id": "ba23aeb9",
   "metadata": {},
   "source": [
    "# Dictionary in Python "
   ]
  },
  {
   "cell_type": "markdown",
   "id": "834ceed9",
   "metadata": {},
   "source": [
    "Dictionary in Python is a collection of data values, used to store data values like a hash map, which, unlike other Data Types that hold only a single value as an element, Dictionary holds key:value pair. Key-value is provided in the dictionary to make it more optimized. Each key-value pair in a Dictionary is separated by a colon :, whereas each key is separated by a ‘comma’. "
   ]
  },
  {
   "cell_type": "markdown",
   "id": "5ac5e20b",
   "metadata": {},
   "source": [
    "# Implementation of Dictionary using Hashing and Linked-List"
   ]
  },
  {
   "cell_type": "markdown",
   "id": "f33d6c2e",
   "metadata": {},
   "source": [
    "Dictionaries in python can be implemented using the concept of **Hashing** and **Hash Table**."
   ]
  },
  {
   "cell_type": "markdown",
   "id": "00761f9c",
   "metadata": {},
   "source": [
    "**Linear Probing**"
   ]
  },
  {
   "cell_type": "code",
   "execution_count": 9,
   "id": "8b89e912",
   "metadata": {},
   "outputs": [],
   "source": [
    "class Dictionary:\n",
    "    \n",
    "    def __init__(self, size):\n",
    "        self.size = size\n",
    "        self.slots = [None] * self.size\n",
    "        self.data = [None] * self.size\n",
    "\n",
    "    def put(self, key, value):\n",
    "        \n",
    "        hash_value = self.hash_function(key)\n",
    "        \n",
    "        if self.slots[hash_value] == None:\n",
    "            self.slots[hash_value] = key\n",
    "            self.data[hash_value] = value\n",
    "\n",
    "        else:\n",
    "            if self.slots[hash_value] == key:\n",
    "                self.data[hash_value] = value\n",
    "            else:\n",
    "                new_hash_value = self.rehash(hash_value)\n",
    "\n",
    "            while self.slots[new_hash_value] != None and self.slots[new_hash_value] != key:\n",
    "                new_hash_value = self.rehash(new_hash_value)\n",
    "\n",
    "            if self.slots[new_hash_value] == None:\n",
    "                self.slots[new_hash_value] = key\n",
    "                self.data[new_hash_value] = value\n",
    "            else:\n",
    "                self.data[new_hash_value] = value\n",
    "                \n",
    "    def get(self, key):\n",
    "        start_position = self.hash_function(key)\n",
    "        current_position = start_position\n",
    "\n",
    "        while self.slots[current_position] != None:\n",
    "            \n",
    "            if self.slots[current_position] == key:\n",
    "                return self.data[current_position]\n",
    "      \n",
    "            current_position = self.rehash(current_position)\n",
    "\n",
    "            if current_position == start_position:\n",
    "                return \"Not Found\"\n",
    "\n",
    "        return \"None wala Not Found\"\n",
    "    \n",
    "    def __str__(self):\n",
    "        for i in range(len(self.slots)):\n",
    "            if self.slots[i] != None:\n",
    "                print(self.slots[i],\":\",self.data[i])\n",
    "\n",
    "        return \"\"\n",
    "    \n",
    "    def __getitem__(self,key):\n",
    "        return self.get(key)\n",
    "    \n",
    "    def __setitem__(self,key,value):\n",
    "        self.put(key,value)\n",
    "        \n",
    "    def rehash(self, old_hash):\n",
    "        return (old_hash + 1) % self.size\n",
    "\n",
    "\n",
    "    def hash_function(self, key):\n",
    "        return abs(hash(key)) % self.size"
   ]
  },
  {
   "cell_type": "code",
   "execution_count": 10,
   "id": "5b9db74d",
   "metadata": {},
   "outputs": [],
   "source": [
    "D = Dictionary(5)"
   ]
  },
  {
   "cell_type": "code",
   "execution_count": 11,
   "id": "aba9945d",
   "metadata": {},
   "outputs": [],
   "source": [
    "D[\"Name\"]=\"Avadhi\""
   ]
  },
  {
   "cell_type": "code",
   "execution_count": 12,
   "id": "d24c1d46",
   "metadata": {},
   "outputs": [],
   "source": [
    "D[\"Age\"]=18"
   ]
  },
  {
   "cell_type": "code",
   "execution_count": 13,
   "id": "8e44a728",
   "metadata": {},
   "outputs": [
    {
     "name": "stdout",
     "output_type": "stream",
     "text": [
      "Name : Avadhi\n",
      "Age : 18\n",
      "\n"
     ]
    }
   ],
   "source": [
    "print(D)"
   ]
  },
  {
   "cell_type": "markdown",
   "id": "cd154cd7",
   "metadata": {},
   "source": [
    "# Sorting"
   ]
  },
  {
   "cell_type": "markdown",
   "id": "4aaccef8",
   "metadata": {},
   "source": [
    "**1. Monkey Sort**"
   ]
  },
  {
   "cell_type": "code",
   "execution_count": 15,
   "id": "2e90c841",
   "metadata": {},
   "outputs": [],
   "source": [
    "def is_sorted(arr):\n",
    "    sorted = True\n",
    "\n",
    "    for i in range(len(arr) - 1):\n",
    "        if arr[i]>arr[i+1]:\n",
    "            sorted = False\n",
    "    \n",
    "    return sorted"
   ]
  },
  {
   "cell_type": "code",
   "execution_count": 16,
   "id": "26f9f935",
   "metadata": {},
   "outputs": [
    {
     "data": {
      "text/plain": [
       "False"
      ]
     },
     "execution_count": 16,
     "metadata": {},
     "output_type": "execute_result"
    }
   ],
   "source": [
    "arr = [1,2,3,4,8,6]\n",
    "is_sorted(arr)"
   ]
  },
  {
   "cell_type": "code",
   "execution_count": 20,
   "id": "8a9a9f85",
   "metadata": {},
   "outputs": [],
   "source": [
    "import time\n",
    "import random\n",
    "def monkey_sort(arr):\n",
    "    \n",
    "    while not is_sorted(arr):\n",
    "        time.sleep(1)\n",
    "        random.shuffle(arr)\n",
    "        print(arr)\n",
    "    print(arr)"
   ]
  },
  {
   "cell_type": "code",
   "execution_count": 2,
   "id": "7dba6309",
   "metadata": {},
   "outputs": [],
   "source": [
    "a = [12,24,11,56,34,20]\n",
    "monkey_sort(a)\n",
    "\n",
    "# This execution can be infinite "
   ]
  },
  {
   "cell_type": "markdown",
   "id": "504d5cf0",
   "metadata": {},
   "source": [
    "Time Complexity of Monkey sort is: **infinite**"
   ]
  },
  {
   "cell_type": "markdown",
   "id": "3d9eaba1",
   "metadata": {},
   "source": [
    "**2. Sleep sort**"
   ]
  },
  {
   "cell_type": "markdown",
   "id": "d3fae19a",
   "metadata": {},
   "source": [
    "**3. Bubble sort**"
   ]
  },
  {
   "cell_type": "code",
   "execution_count": 12,
   "id": "896005c8",
   "metadata": {},
   "outputs": [],
   "source": [
    "# This is an adaptive bubble sort \n",
    "\n",
    "def bubble_sort(arr):\n",
    "\n",
    "    for i in range(len(arr) - 1):\n",
    "        flag = 0\n",
    "        \n",
    "        for j in range(len(arr) - 1 - i):\n",
    "            if arr[j] > arr[j+1]:\n",
    "                arr[j],arr[j+1] = arr[j+1],arr[j]\n",
    "                flag =1\n",
    "\n",
    "        if flag == 0:\n",
    "            break\n",
    "    return arr"
   ]
  },
  {
   "cell_type": "code",
   "execution_count": 13,
   "id": "a3bf296d",
   "metadata": {},
   "outputs": [
    {
     "name": "stdout",
     "output_type": "stream",
     "text": [
      "[1, 2, 3, 4, 6]\n"
     ]
    }
   ],
   "source": [
    "print(bubble_sort([3,2,6,4,1]))"
   ]
  },
  {
   "cell_type": "markdown",
   "id": "ebaf0d29",
   "metadata": {},
   "source": [
    "Time complexity = O(n^2) in worst case and O(n) in Best case"
   ]
  },
  {
   "cell_type": "markdown",
   "id": "e039ad15",
   "metadata": {},
   "source": [
    "Bubble sort is a stable and adaptive(after transformation) sorting algorithm "
   ]
  },
  {
   "cell_type": "markdown",
   "id": "151508d9",
   "metadata": {},
   "source": [
    "**4. Selection Sort**"
   ]
  },
  {
   "cell_type": "code",
   "execution_count": 14,
   "id": "6f083abd",
   "metadata": {},
   "outputs": [],
   "source": [
    "def selection_sort(arr):\n",
    "\n",
    "    for i in range(len(arr) - 1):\n",
    "        min = i\n",
    "        \n",
    "        for j in range(i+1,len(arr)):\n",
    "            if arr[j] < arr[min]:\n",
    "                min = j\n",
    "    \n",
    "        arr[i],arr[min] = arr[min],arr[i]\n",
    "\n",
    "    return arr"
   ]
  },
  {
   "cell_type": "code",
   "execution_count": 15,
   "id": "d26bc193",
   "metadata": {},
   "outputs": [
    {
     "name": "stdout",
     "output_type": "stream",
     "text": [
      "[1, 2, 3, 4, 6]\n"
     ]
    }
   ],
   "source": [
    "print(selection_sort([3,2,6,4,1]))"
   ]
  },
  {
   "cell_type": "markdown",
   "id": "9e4a974c",
   "metadata": {},
   "source": [
    "Time complexity = O(n^2)\n",
    "\n",
    "It is faster than bubble sort for arrays of large size because it requires less swapping of elements \n",
    "\n",
    "Selection sort is not adaptive and stable sorting algorithm"
   ]
  },
  {
   "cell_type": "markdown",
   "id": "028510ed",
   "metadata": {},
   "source": [
    "**5. Merge Sort**"
   ]
  },
  {
   "cell_type": "code",
   "execution_count": 3,
   "id": "b0d74d73",
   "metadata": {},
   "outputs": [],
   "source": [
    "def merge_sorted(arr1,arr2):\n",
    "    i = j = 0\n",
    "    merged = []\n",
    "    \n",
    "    while i < len(arr1) and j < len(arr2):\n",
    "        if arr1[i] < arr2[j]: \n",
    "            merged.append(arr1[i]) \n",
    "            i+=1\n",
    "        else:\n",
    "            merged.append(arr2[j]) \n",
    "            j+=1\n",
    "\n",
    "    while i < len(arr1): \n",
    "        merged.append(arr1[i]) \n",
    "        i+=1\n",
    "    \n",
    "    while j< len(arr2): \n",
    "        merged.append(arr2[j])  \n",
    "        j+=1\n",
    "        \n",
    "    return merged"
   ]
  },
  {
   "cell_type": "code",
   "execution_count": 4,
   "id": "4d636d93",
   "metadata": {},
   "outputs": [],
   "source": [
    "arr1 = [1,2,6,7,8]\n",
    "arr2 = [2,3,5]"
   ]
  },
  {
   "cell_type": "code",
   "execution_count": 5,
   "id": "a2965831",
   "metadata": {},
   "outputs": [
    {
     "name": "stdout",
     "output_type": "stream",
     "text": [
      "[1, 2, 2, 3, 5, 6, 7, 8]\n"
     ]
    }
   ],
   "source": [
    "print(merge_sorted(arr1,arr2))"
   ]
  },
  {
   "cell_type": "code",
   "execution_count": 6,
   "id": "b0331b21",
   "metadata": {},
   "outputs": [],
   "source": [
    "def merge_sort(arr):\n",
    "    if len(arr) == 1: \n",
    "        return arr\n",
    "    \n",
    "    mid = len(arr)//2\n",
    "    left = arr[:mid]\n",
    "    right = arr[mid:]\n",
    "    \n",
    "    left = merge_sort(left)\n",
    "    right = merge_sort(right)\n",
    "\n",
    "    return merge_sorted(left, right)"
   ]
  },
  {
   "cell_type": "code",
   "execution_count": 7,
   "id": "cc7d97da",
   "metadata": {},
   "outputs": [
    {
     "name": "stdout",
     "output_type": "stream",
     "text": [
      "[3, 4, 23, 53, 56, 100]\n"
     ]
    }
   ],
   "source": [
    "print(merge_sort([56,3,4,53,23,100]))"
   ]
  },
  {
   "cell_type": "markdown",
   "id": "08be6e9f",
   "metadata": {},
   "source": [
    "Time complexity = O(nlogn) in all three scenarios (Best/Average/Worst)\n",
    "\n",
    "Merge Sort is not adaptive\n",
    "\n",
    "It is stable"
   ]
  },
  {
   "cell_type": "markdown",
   "id": "c3489b50",
   "metadata": {},
   "source": [
    "**6. Quick Sort**"
   ]
  },
  {
   "cell_type": "code",
   "execution_count": 8,
   "id": "b8f23d46",
   "metadata": {},
   "outputs": [],
   "source": [
    "def quick_sort(arr):\n",
    "    if len(arr) <= 1:\n",
    "        return arr\n",
    "    \n",
    "    pivot = arr.pop()\n",
    "    \n",
    "    items_left = []\n",
    "    items_right = []\n",
    "\n",
    "    for item in arr:\n",
    "        if item < pivot:\n",
    "            items_left.append(item)\n",
    "        else:\n",
    "            items_right.append(item)\n",
    "\n",
    "    return quick_sort(items_left) + [pivot] + quick_sort(items_right)\n"
   ]
  },
  {
   "cell_type": "code",
   "execution_count": 9,
   "id": "3400a0b0",
   "metadata": {},
   "outputs": [
    {
     "data": {
      "text/plain": [
       "[1, 2, 3, 8, 43, 225]"
      ]
     },
     "execution_count": 9,
     "metadata": {},
     "output_type": "execute_result"
    }
   ],
   "source": [
    "arr = [8,43,225,3,1,2]\n",
    "quick_sort(arr)"
   ]
  },
  {
   "cell_type": "markdown",
   "id": "14ee743e",
   "metadata": {},
   "source": [
    "Time complexity = **O(nlogn)** in Best/Average case and **O(n^2)** in worst case(in case of sorted array)\n",
    "\n",
    "It is not adaptive and stable algorithm"
   ]
  },
  {
   "cell_type": "code",
   "execution_count": null,
   "id": "19e3836d",
   "metadata": {},
   "outputs": [],
   "source": []
  }
 ],
 "metadata": {
  "kernelspec": {
   "display_name": "Python 3 (ipykernel)",
   "language": "python",
   "name": "python3"
  },
  "language_info": {
   "codemirror_mode": {
    "name": "ipython",
    "version": 3
   },
   "file_extension": ".py",
   "mimetype": "text/x-python",
   "name": "python",
   "nbconvert_exporter": "python",
   "pygments_lexer": "ipython3",
   "version": "3.9.12"
  }
 },
 "nbformat": 4,
 "nbformat_minor": 5
}
