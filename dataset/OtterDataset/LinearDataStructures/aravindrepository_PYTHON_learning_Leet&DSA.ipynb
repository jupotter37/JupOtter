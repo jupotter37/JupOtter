{
  "nbformat": 4,
  "nbformat_minor": 0,
  "metadata": {
    "colab": {
      "provenance": [],
      "authorship_tag": "ABX9TyOLNM8+mzYVFn2NTl7XOH4g",
      "include_colab_link": true
    },
    "kernelspec": {
      "name": "python3",
      "display_name": "Python 3"
    },
    "language_info": {
      "name": "python"
    }
  },
  "cells": [
    {
      "cell_type": "markdown",
      "metadata": {
        "id": "view-in-github",
        "colab_type": "text"
      },
      "source": [
        "<a href=\"https://colab.research.google.com/github/aravindrepository/PYTHON_learning/blob/main/Leet%26DSA.ipynb\" target=\"_parent\"><img src=\"https://colab.research.google.com/assets/colab-badge.svg\" alt=\"Open In Colab\"/></a>"
      ]
    },
    {
      "cell_type": "markdown",
      "source": [
        "###ZOHO interview questions\n"
      ],
      "metadata": {
        "id": "COb1hH1dCDWf"
      }
    },
    {
      "cell_type": "code",
      "source": [
        "a=[\"arav\",\"vai\",\"hari\",\"kou\"]\n",
        "s=['a','v','h','k']\n",
        "def zoho(a,s):\n",
        "    for i in range(len(a)):\n",
        "            if a[i][0] not in s:\n",
        "                return False\n",
        "\n",
        "    return True\n",
        "print(zoho(a,s))"
      ],
      "metadata": {
        "colab": {
          "base_uri": "https://localhost:8080/"
        },
        "id": "nimT0wHiCIsn",
        "outputId": "8272298f-ff80-44c5-e246-58326150ddd3"
      },
      "execution_count": 1,
      "outputs": [
        {
          "output_type": "stream",
          "name": "stdout",
          "text": [
            "True\n"
          ]
        }
      ]
    },
    {
      "cell_type": "markdown",
      "source": [
        "###The Two Sum problem asks us to find two numbers in an array that sum up to a given target value. We need to return the indices of these two numbers."
      ],
      "metadata": {
        "id": "f_1jEMOqyUYm"
      }
    },
    {
      "cell_type": "code",
      "execution_count": null,
      "metadata": {
        "colab": {
          "base_uri": "https://localhost:8080/"
        },
        "id": "k6s7MjmWyO64",
        "outputId": "ebce1ef1-4ecd-4064-d3b3-e6bc06d5b5ff"
      },
      "outputs": [
        {
          "output_type": "stream",
          "name": "stdout",
          "text": [
            "not found\n"
          ]
        }
      ],
      "source": [
        "def findSum(arr,tar):\n",
        "  n=len(arr)\n",
        "  for i in range(n-1):\n",
        "    for k in range(i+1,n):\n",
        "      if arr[i]+arr[k]==tar:\n",
        "        return [i,k]\n",
        "  return \"not found\"\n",
        "arr=[1,2,3,4]\n",
        "tar=5\n",
        "print(findSum(arr,tar))\n",
        "#simple"
      ]
    },
    {
      "cell_type": "markdown",
      "source": [
        "###same same bur diff"
      ],
      "metadata": {
        "id": "fB0OU-buC8qt"
      }
    },
    {
      "cell_type": "code",
      "source": [
        "a=[1,2,3,4,5]\n",
        "t=4\n",
        "n=len(a)\n",
        "res=[]\n",
        "for i in range(n-1):\n",
        "    for j in range(i+1,n):\n",
        "        if a[j]+a[i]!=t:\n",
        "            res.append(list((a[j],a[i])))\n",
        "print(res)"
      ],
      "metadata": {
        "colab": {
          "base_uri": "https://localhost:8080/"
        },
        "id": "6TAvPfaCC8SP",
        "outputId": "83d7fdfe-2a9d-42c2-cbb1-a45564cb8f22"
      },
      "execution_count": 2,
      "outputs": [
        {
          "output_type": "stream",
          "name": "stdout",
          "text": [
            "[[2, 1], [4, 1], [5, 1], [3, 2], [4, 2], [5, 2], [4, 3], [5, 3], [5, 4]]\n"
          ]
        }
      ]
    },
    {
      "cell_type": "code",
      "source": [
        "#simple version\n",
        "ar=[1,2,3,4]\n",
        "a=6\n",
        "for i in range(len(ar)):\n",
        "    for j in range(i+1,len(ar)):\n",
        "        if ar[i]+ar[j]==a:\n",
        "            print([i,j])\n"
      ],
      "metadata": {
        "colab": {
          "base_uri": "https://localhost:8080/"
        },
        "id": "9lhuY-Ru_5c4",
        "outputId": "e2e4c8d1-455d-404c-8156-e86eb66532ed"
      },
      "execution_count": null,
      "outputs": [
        {
          "output_type": "stream",
          "name": "stdout",
          "text": [
            "[1, 3]\n"
          ]
        }
      ]
    },
    {
      "cell_type": "markdown",
      "source": [
        "##program for two lists where list1 contains names and list2 contains the first letters of each names in the first list return true if all found else false return false if list2 length is not equal to list2"
      ],
      "metadata": {
        "id": "lYRp4ssE7APb"
      }
    },
    {
      "cell_type": "code",
      "source": [
        "a=[\"na\",\"ga\",\"sa\"]\n",
        "ai=['n','g','a']\n",
        "for i in range(len(a)):\n",
        "    if a[i][0]==ai[i]:\n",
        "        print(True)\n",
        "    else:\n",
        "        print(False)"
      ],
      "metadata": {
        "colab": {
          "base_uri": "https://localhost:8080/"
        },
        "id": "VQVGaD0v7cE3",
        "outputId": "7b7c25b6-b810-4d13-c3fa-b1c9e9f2b0a4"
      },
      "execution_count": null,
      "outputs": [
        {
          "output_type": "stream",
          "name": "stdout",
          "text": [
            "True\n",
            "True\n",
            "False\n"
          ]
        }
      ]
    },
    {
      "cell_type": "markdown",
      "source": [
        "###Linear search"
      ],
      "metadata": {
        "id": "A-nzEL9bnQ6P"
      }
    },
    {
      "cell_type": "code",
      "source": [
        "# without built in func\n",
        "def linea(arr,tar):\n",
        "  for i in range(len(arr)):\n",
        "    if arr[i]==tar:\n",
        "      return i\n",
        "  return 0\n",
        "arr=[1,4,5,6,7,8]\n",
        "tar=5\n",
        "if linea(arr,tar)==0:\n",
        "  print(\"cant find\")\n",
        "else:\n",
        "  print(linea(arr,tar))"
      ],
      "metadata": {
        "colab": {
          "base_uri": "https://localhost:8080/"
        },
        "id": "XllZqwT0nQOf",
        "outputId": "74d41dff-17e5-4a65-c2e8-c7cfc8b2d9b8"
      },
      "execution_count": null,
      "outputs": [
        {
          "output_type": "stream",
          "name": "stdout",
          "text": [
            "2\n"
          ]
        }
      ]
    },
    {
      "cell_type": "markdown",
      "source": [
        "###Binary Search"
      ],
      "metadata": {
        "id": "F2mdr7QSneGi"
      }
    },
    {
      "cell_type": "code",
      "source": [
        "arr=[1,2,3,4,5,6]\n",
        "n=len(arr)\n",
        "tar=6\n",
        "if tar not in arr:\n",
        "  print(\"not in array\")\n",
        "if n%2==0:\n",
        "    mid=n//2-1\n",
        "else:\n",
        "    mid=n//2\n",
        "me=arr[mid]\n",
        "#print(me)\n",
        "if me==tar:\n",
        "    print(\"found at {}\".format(me))\n",
        "if tar<me:\n",
        "    for i in range(me):\n",
        "        if arr[i]==tar:\n",
        "            print(\"found at {}\".format(i))\n",
        "if tar>me:\n",
        "    for j in range(me,n+1):\n",
        "        if j==tar:\n",
        "            print(\"found at {}\".format(j-1))\n",
        "            break\n",
        "    else:\n",
        "        print(\"not found in the array\")"
      ],
      "metadata": {
        "colab": {
          "base_uri": "https://localhost:8080/"
        },
        "id": "zf41peSInh8R",
        "outputId": "76ab6ac7-a9ac-4544-e411-f115db03c6bb"
      },
      "execution_count": null,
      "outputs": [
        {
          "output_type": "stream",
          "name": "stdout",
          "text": [
            "found at 5\n"
          ]
        }
      ]
    },
    {
      "cell_type": "markdown",
      "source": [
        "#another method"
      ],
      "metadata": {
        "id": "qNXZCjQR8kK6"
      }
    },
    {
      "cell_type": "code",
      "source": [
        "arr=[1,2,3,4,5,6,7]\n",
        "tar=7\n",
        "n=len(arr)\n",
        "if n%2==0:\n",
        "  mid= n//2-1\n",
        "else:\n",
        "  mid=n//2\n",
        "me=arr[mid]\n",
        "if me == tar:\n",
        "  print(\"found at{}\".format(me))\n",
        "if me<tar:\n",
        "  for i in range(mid,n+1):\n",
        "    found=False\n",
        "    if arr[i]==tar:\n",
        "      print(\"found at {}\".format(i))\n",
        "      found=True\n",
        "      break\n",
        "      if not found:\n",
        "        print(\"not found in array\")\n",
        "elif me>tar:\n",
        "  for j in range(me):\n",
        "    found=False\n",
        "    if arr[j]==tar:\n",
        "      print(\"foud at {}\".format(j))\n",
        "      found=True\n",
        "      if not found:\n",
        "        print(\"not found in array\")\n",
        "      break\n",
        "if not found:\n",
        "  print(\"not found in array\")\n",
        "\n"
      ],
      "metadata": {
        "colab": {
          "base_uri": "https://localhost:8080/"
        },
        "id": "aJs_Rhx68zHm",
        "outputId": "a37f2614-8070-486e-942a-b1ca381f6ad8"
      },
      "execution_count": null,
      "outputs": [
        {
          "output_type": "stream",
          "name": "stdout",
          "text": [
            "found at 6\n"
          ]
        }
      ]
    },
    {
      "cell_type": "markdown",
      "source": [
        "###Bubble Sort"
      ],
      "metadata": {
        "id": "UWc6EWT9npy6"
      }
    },
    {
      "cell_type": "code",
      "source": [
        "def bubble(arr):\n",
        "  n=len(arr)\n",
        "  for i in range(n):\n",
        "    for j in range(0,n-i-1):\n",
        "      if arr[j]>arr[j+1]:\n",
        "        arr[j],arr[j+1]=arr[j+1],arr[j]\n",
        "  return arr\n",
        "arr=[43,76,34,98,35,9]\n",
        "print(bubble(arr))\n",
        "\n",
        "\n"
      ],
      "metadata": {
        "id": "4sbAk2N0nrtL",
        "outputId": "278b8f90-89dd-4ede-fc23-32f1b91afa71",
        "colab": {
          "base_uri": "https://localhost:8080/"
        }
      },
      "execution_count": null,
      "outputs": [
        {
          "output_type": "stream",
          "name": "stdout",
          "text": [
            "[9, 34, 35, 43, 76, 98]\n"
          ]
        }
      ]
    },
    {
      "cell_type": "markdown",
      "source": [
        "###Missing element in sorted array"
      ],
      "metadata": {
        "id": "rOAs_l_YoN1f"
      }
    },
    {
      "cell_type": "code",
      "source": [
        "def missorted(arr):\n",
        "  n=len(arr)+1\n",
        "  en=n*(n+1)//2\n",
        "  tn=sum(arr)\n",
        "  return en-tn\n",
        "arr=[1,2,3,5]\n",
        "print(missorted(arr))"
      ],
      "metadata": {
        "colab": {
          "base_uri": "https://localhost:8080/"
        },
        "id": "whMgjgLPoRLP",
        "outputId": "d7339312-27b4-4d6d-b493-8730c7a54f1e"
      },
      "execution_count": null,
      "outputs": [
        {
          "output_type": "stream",
          "name": "stdout",
          "text": [
            "15\n",
            "4\n"
          ]
        }
      ]
    },
    {
      "cell_type": "markdown",
      "source": [],
      "metadata": {
        "id": "0Mp6RJiRtccC"
      }
    },
    {
      "cell_type": "markdown",
      "source": [
        "###Missing element in unsorted array"
      ],
      "metadata": {
        "id": "o6Mo-JostdlR"
      }
    },
    {
      "cell_type": "code",
      "source": [
        "def unsorted(arr):\n",
        "  n=len(arr)\n",
        "  em_arr=[-1]*(n+1)\n",
        "  for nu in arr:\n",
        "    em_arr[nu]=nu\n",
        "  for i in range(len(em_arr)):\n",
        "    if em_arr[i]==-1:\n",
        "      return i\n",
        "arr=[3,0,2,1,5]\n",
        "print(unsorted(arr))"
      ],
      "metadata": {
        "colab": {
          "base_uri": "https://localhost:8080/"
        },
        "id": "7Q7I3iy_tf2j",
        "outputId": "295d478b-4281-47ad-b07d-5c57820dcc90"
      },
      "execution_count": null,
      "outputs": [
        {
          "output_type": "stream",
          "name": "stdout",
          "text": [
            "4\n"
          ]
        }
      ]
    },
    {
      "cell_type": "markdown",
      "source": [
        "###Valid parenthesis"
      ],
      "metadata": {
        "id": "w46ORE3y0MJE"
      }
    },
    {
      "cell_type": "code",
      "source": [
        "def stack(s):\n",
        "  sta=[]\n",
        "  m = {\")\":\"(\", \"}\":\"{\", \"]\":\"[\"}\n",
        "  for i in s:\n",
        "    if i  in m.values():\n",
        "      sta.append(i)\n",
        "    elif i  in m.keys():\n",
        "      if not sta or m[i]!=sta.pop():\n",
        "        return False\n",
        "  return not sta\n",
        "s=\"[{}]\"\n",
        "print(stack(s))"
      ],
      "metadata": {
        "colab": {
          "base_uri": "https://localhost:8080/"
        },
        "id": "Me7yrpxG0RuU",
        "outputId": "b249ddb6-6efc-4726-9947-946287a30833"
      },
      "execution_count": null,
      "outputs": [
        {
          "output_type": "stream",
          "name": "stdout",
          "text": [
            "True\n"
          ]
        }
      ]
    },
    {
      "cell_type": "markdown",
      "source": [
        "###Find the Index of the First Occurrence in a String\n",
        "Given two strings needle and haystack, return the index of the first occurrence of needle in haystack, or -1 if needle is not part of haystack."
      ],
      "metadata": {
        "id": "oWsPJ_K5v0uQ"
      }
    },
    {
      "cell_type": "code",
      "source": [
        "# s='haystack'\n",
        "# n='hay'\n",
        "# for i in range(len(s)):\n",
        "#   if s[i:i+len(n)]==n:\n",
        "#     print(\"True\")\n",
        "#   else:\n",
        "#     print(\"False\")\n",
        "def inNeedle(s,st):\n",
        "  if len(s)<len(st):\n",
        "    return False\n",
        "  for i in range(len(s)):\n",
        "    if s[i:i+len(st)]==st:\n",
        "      return i,True\n",
        "    else:\n",
        "      return False\n",
        "s='hellohe'\n",
        "st='he'\n",
        "print(inNeedle(s,st))"
      ],
      "metadata": {
        "colab": {
          "base_uri": "https://localhost:8080/"
        },
        "id": "bT36SQJmxZ8y",
        "outputId": "9ca3bf88-bd38-4c6c-f5c1-1d7f56201275"
      },
      "execution_count": null,
      "outputs": [
        {
          "output_type": "stream",
          "name": "stdout",
          "text": [
            "(0, True)\n"
          ]
        }
      ]
    },
    {
      "cell_type": "markdown",
      "source": [
        "simple / without index"
      ],
      "metadata": {
        "id": "jwKd1wHOxamC"
      }
    },
    {
      "cell_type": "code",
      "source": [
        "s=\"hellohes\"\n",
        "r=\"he\"\n",
        "if r in s:\n",
        "  print(True)\n",
        "else:\n",
        "  print(False)"
      ],
      "metadata": {
        "colab": {
          "base_uri": "https://localhost:8080/"
        },
        "id": "Qk-YCyEbv5vZ",
        "outputId": "4e319df7-8cca-4161-cf74-fa140a53817f"
      },
      "execution_count": null,
      "outputs": [
        {
          "output_type": "stream",
          "name": "stdout",
          "text": [
            "True\n"
          ]
        }
      ]
    },
    {
      "cell_type": "markdown",
      "source": [
        "###Selection sort"
      ],
      "metadata": {
        "id": "HUR3-_IL7V8l"
      }
    },
    {
      "cell_type": "code",
      "source": [
        "def SelectionSort(arr):\n",
        "  for i in range(len(arr)-1):\n",
        "    min=i\n",
        "    #0\n",
        "    # print(arr[i])\n",
        "    for j in range(i+1,len(arr)):\n",
        "      #1,2j,3\n",
        "      if arr[j]<arr[min]:\n",
        "        min=j\n",
        "    arr[min],arr[i]=arr[i],arr[min]\n",
        "  return arr\n",
        "arr=[35,7,0,-1,1,2,5,7]\n",
        "print(SelectionSort(arr))"
      ],
      "metadata": {
        "colab": {
          "base_uri": "https://localhost:8080/"
        },
        "id": "zF4spE5x7X7G",
        "outputId": "6c3d38d7-cbec-464c-bf70-d8905c137cc6"
      },
      "execution_count": null,
      "outputs": [
        {
          "output_type": "stream",
          "name": "stdout",
          "text": [
            "[-1, 0, 1, 2, 5, 7, 7, 35]\n"
          ]
        }
      ]
    },
    {
      "cell_type": "markdown",
      "source": [
        "###Insertion sort"
      ],
      "metadata": {
        "id": "MippGt64Cmf0"
      }
    },
    {
      "cell_type": "code",
      "source": [
        "def InsertSort(arr):\n",
        "  n=len(arr)\n",
        "  if n<=1:\n",
        "    return False\n",
        "  for i in range(1,n):\n",
        "    key=arr[i]\n",
        "    j=i-1\n",
        "    while j>=0 and key < arr[j]:\n",
        "        arr[j+1]=arr[j]\n",
        "        j-=1\n",
        "    arr[j+1]=key\n",
        "  return arr\n",
        "arr=[3,5,7,1,2,5,0,-1,7]\n",
        "print(InsertSort(arr))"
      ],
      "metadata": {
        "colab": {
          "base_uri": "https://localhost:8080/"
        },
        "id": "XOoRslOeCubt",
        "outputId": "dad87376-35b0-47bc-d8cd-868a93941dbc"
      },
      "execution_count": null,
      "outputs": [
        {
          "output_type": "stream",
          "name": "stdout",
          "text": [
            "[-1, 0, 1, 2, 3, 5, 5, 7, 7]\n"
          ]
        }
      ]
    },
    {
      "cell_type": "markdown",
      "source": [
        "###Longest Consecutive Sequence\n",
        "Given an unsorted array of integers nums, return the length of the longest consecutive elements sequence.\n",
        "\n",
        "You must write an algorithm that runs in O(n) time.\n",
        "[1,2,3,4]==4\n"
      ],
      "metadata": {
        "id": "wA7-QRbqrpoU"
      }
    },
    {
      "cell_type": "code",
      "source": [
        "def LongestSeq(arr):\n",
        "  n=set(arr)\n",
        "  longest=0\n",
        "  for i in arr:\n",
        "    if i-1 not in n:\n",
        "      length=1\n",
        "      while i+length in n:\n",
        "        length+=1\n",
        "      longest=max(longest,length)\n",
        "  return longest\n",
        "\n",
        "\n",
        "\n",
        "\n",
        "\n",
        "\n",
        "arr=[100,200,1,3,4,2]\n",
        "print(LongestSeq(arr))"
      ],
      "metadata": {
        "colab": {
          "base_uri": "https://localhost:8080/"
        },
        "id": "JN9ILm4trsob",
        "outputId": "0e5f1ac4-ff9a-4aae-87b3-63050879c722"
      },
      "execution_count": null,
      "outputs": [
        {
          "output_type": "stream",
          "name": "stdout",
          "text": [
            "4\n"
          ]
        }
      ]
    },
    {
      "cell_type": "markdown",
      "source": [
        "###ADD 1 to last digit"
      ],
      "metadata": {
        "id": "iRLuu0l5Co1a"
      }
    },
    {
      "cell_type": "code",
      "source": [
        "class Solution:\n",
        "    def plusOne(self, digits):\n",
        "        n = len(digits)\n",
        "\n",
        "        # Traverse the list from the end to the beginning\n",
        "        for i in range(n - 1, -1, -1):\n",
        "            if digits[i] < 9:\n",
        "                digits[i] += 1\n",
        "                return digits\n",
        "            digits[i] = 0\n",
        "\n",
        "        # If we exited the loop, it means we had a carry all the way through\n",
        "        return [1] + digits\n",
        "\n",
        "# Example usage:\n",
        "solution = Solution()\n",
        "digits = [9, 9, 9]\n",
        "print(solution.plusOne(digits))"
      ],
      "metadata": {
        "id": "qLS7zLgMCsWq"
      },
      "execution_count": null,
      "outputs": []
    },
    {
      "cell_type": "markdown",
      "source": [
        "###Linked Lists"
      ],
      "metadata": {
        "id": "oIZ5mIoycEsX"
      }
    },
    {
      "cell_type": "code",
      "source": [
        "class Node:\n",
        "  def __init__(self,data):\n",
        "    self.data=data\n",
        "    self.next=None\n",
        "\n",
        "class linkedList:\n",
        "  def __init__(self):\n",
        "    self.head=None\n",
        "\n",
        "\n",
        "  def Insert(self,lData):\n",
        "    newNode=Node(lData)\n",
        "    newNode.next=self.head\n",
        "    self.head=newNode\n",
        "\n",
        "  def Print(self):\n",
        "    t=self.head\n",
        "    while t:\n",
        "      print(t.data,end=\" \")\n",
        "      t=t.next\n",
        "    print()\n",
        "\n",
        "  def insertEnd(self,edata):\n",
        "    lNode=Node(edata)\n",
        "    if self.head is None:\n",
        "      self.head=lNode\n",
        "      return\n",
        "    last=self.head\n",
        "    while last.next:\n",
        "      last=last.next\n",
        "    last.next=lNode\n",
        "\n",
        "  def removeHead(self):\n",
        "    if self.head is None:\n",
        "      print(\"no data\")\n",
        "    self.head=self.head.next\n",
        "\n",
        "  def removeLast(self):\n",
        "    if self.head is None:\n",
        "      print(\"no data\")\n",
        "    if self.head.next is None:\n",
        "      self.head=None\n",
        "      return\n",
        "    t=self.head\n",
        "    while t.next.next:\n",
        "      t=t.next\n",
        "    t.next=None\n",
        "\n",
        "  def Search(self,value):\n",
        "    cur=self.head\n",
        "    pos=0\n",
        "    while cur:\n",
        "      if cur.data==value:\n",
        "        print(\"{}  is found at {}\".format(value,pos))\n",
        "      cur=cur.next\n",
        "      pos+=1\n",
        "    print(\"not found in list\")\n",
        "if __name__=='__main__':\n",
        "  ll=linkedList()\n",
        "  ll.Insert(\"a\")\n",
        "  ll.Insert(\"b\")\n",
        "  ll.Insert(\"c\")\n",
        "  ll.Insert(\"d\")\n",
        "  ll.Insert(\"e\")\n",
        "  ll.insertEnd(2)\n",
        "  ll.Print()\n",
        "  ll.removeHead()\n",
        "  ll.Print()\n",
        "  ll.removeLast()\n",
        "  ll.Print()\n",
        "  ll.Search('a')\n",
        "\n",
        "\n",
        "\n",
        "\n"
      ],
      "metadata": {
        "colab": {
          "base_uri": "https://localhost:8080/"
        },
        "id": "iTJKPMDacGix",
        "outputId": "bcc46cd5-0f4a-4be1-ccf4-0d100c83962f"
      },
      "execution_count": null,
      "outputs": [
        {
          "output_type": "stream",
          "name": "stdout",
          "text": [
            "e d c b a 2 \n",
            "d c b a 2 \n",
            "d c b a \n",
            "a  is found at 3\n",
            "not found in list\n"
          ]
        }
      ]
    },
    {
      "cell_type": "markdown",
      "source": [
        "###Reversed LinkedList"
      ],
      "metadata": {
        "id": "0cX2c-IhU4BJ"
      }
    },
    {
      "cell_type": "code",
      "source": [
        "#creating a linked list\n",
        "class Node:\n",
        "  def __init__(self,data):\n",
        "    self.data=data\n",
        "    self.next=None\n",
        "class LinkedList:\n",
        "  def __init__(self):\n",
        "    self.head=None\n",
        "  def insert(self,ldata):\n",
        "    nn=Node(ldata)\n",
        "    nn.next=self.head\n",
        "    self.head=nn\n",
        "  def Print(self):\n",
        "    t=self.head\n",
        "    while t:\n",
        "      print(t.data,end=\" \")\n",
        "      t=t.next\n",
        "  def reverseList(self):\n",
        "        new_list = None\n",
        "        current = self.head\n",
        "\n",
        "        while current:\n",
        "            next_node = current.next\n",
        "            current.next = new_list\n",
        "            new_list = current\n",
        "            current = next_node\n",
        "        while new_list:\n",
        "          print(new_list.data,end=\" \")\n",
        "          new_list=new_list.next\n",
        "\n",
        "\n",
        "\n",
        "\n",
        "\n",
        "if __name__=='__main__':\n",
        "  l=LinkedList()\n",
        "  l.insert(1)\n",
        "  l.insert(2)\n",
        "  l.insert(3)\n",
        "  # l.Print()\n",
        "  l.reverseList()\n"
      ],
      "metadata": {
        "colab": {
          "base_uri": "https://localhost:8080/"
        },
        "id": "jz1kCv1IU3b6",
        "outputId": "49058e5b-8bbe-4876-98a6-4ea0270bc2ad"
      },
      "execution_count": null,
      "outputs": [
        {
          "output_type": "stream",
          "name": "stdout",
          "text": [
            "1 2 3 "
          ]
        }
      ]
    },
    {
      "cell_type": "markdown",
      "source": [
        "###Best Time to Buy and Sell Stock\n",
        "Input: prices = [7,1,5,3,6,4]\n",
        "Output: 5\n",
        "Explanation: Buy on day 2 (price = 1) and sell on day 5 (price = 6), profit = 6-1 = 5.\n",
        "Note that buying on day 2 and selling on day 1 is not allowed because you must buy before you sell."
      ],
      "metadata": {
        "id": "fctIXWFvtVpn"
      }
    },
    {
      "cell_type": "code",
      "source": [
        "def Stock(prices):\n",
        "  buy=prices[0]\n",
        "  profit=0\n",
        "  for i in range(1,len(prices)):\n",
        "    if prices[i]<buy:\n",
        "      buy=prices[i]\n",
        "    elif prices[i]-buy>profit:\n",
        "      profit=prices[i]-buy\n",
        "  return profit\n",
        "prices=[7,6,4,3,5,2]#return profit by buying day - selling day\n",
        "print(Stock(prices))\n",
        "arr=[7,6,5,4,3]\n",
        "print(Stock(arr))"
      ],
      "metadata": {
        "colab": {
          "base_uri": "https://localhost:8080/"
        },
        "id": "jJb8OnbHtYrw",
        "outputId": "8b5dabe3-fdd1-4b2a-f48e-8b4a7807a467"
      },
      "execution_count": null,
      "outputs": [
        {
          "output_type": "stream",
          "name": "stdout",
          "text": [
            "2\n",
            "0\n"
          ]
        }
      ]
    },
    {
      "cell_type": "markdown",
      "source": [
        "###merge two linked list(single)"
      ],
      "metadata": {
        "id": "pvtQshPr84p3"
      }
    },
    {
      "cell_type": "code",
      "source": [
        "class Solution(object):\n",
        "    def getIntersectionNode(self, headA, headB):\n",
        "        list1,list2=headA,headB\n",
        "        while list1!=list2:\n",
        "            list1=list1.next if list1 else headB\n",
        "            list2=list2.next if list2 else headA\n",
        "        return list1# wont  Run without 2 LLs"
      ],
      "metadata": {
        "colab": {
          "base_uri": "https://localhost:8080/"
        },
        "id": "67O_0Fqs88_p",
        "outputId": "07d27755-aa6a-46af-99fe-0eb08a212c98"
      },
      "execution_count": null,
      "outputs": [
        {
          "output_type": "stream",
          "name": "stdout",
          "text": [
            "4 3 2 1 \n",
            "5 6 7 8 None\n"
          ]
        }
      ]
    },
    {
      "cell_type": "markdown",
      "source": [
        "###Median of Two Sorted Arrays"
      ],
      "metadata": {
        "id": "X4zv_bKwHRk1"
      }
    },
    {
      "cell_type": "code",
      "source": [
        "arr1=[1,2,3]\n",
        "arr2=[4]\n",
        "m=sorted(arr1+arr2)\n",
        "n=len(m)\n",
        "mid=n//2\n",
        "if n%2==0:\n",
        "  med=(m[mid-1]+m[mid])/2.0\n",
        "  print(med)\n",
        "else:\n",
        "  med=m[mid]\n",
        "  print(med)"
      ],
      "metadata": {
        "colab": {
          "base_uri": "https://localhost:8080/"
        },
        "id": "HSgjq54EHSyM",
        "outputId": "13e3dfe2-ba48-4fe0-c2e8-a16f29d6a4e5"
      },
      "execution_count": null,
      "outputs": [
        {
          "output_type": "stream",
          "name": "stdout",
          "text": [
            "2\n"
          ]
        }
      ]
    },
    {
      "cell_type": "markdown",
      "source": [
        "###Binary Tree"
      ],
      "metadata": {
        "id": "WQVk06rb5fRx"
      }
    },
    {
      "cell_type": "code",
      "source": [
        "class Node:\n",
        "  def __init__(self,data):\n",
        "    self.left=None\n",
        "    self.right=None\n",
        "    self.data=data\n",
        "\n",
        "\n",
        "  def Insert(self,data):\n",
        "    if self.data:\n",
        "      if data < self.data:\n",
        "        if self.left is None:\n",
        "          self.left=Node(data)\n",
        "        else:\n",
        "          self.left.Insert(data)\n",
        "\n",
        "      elif data > self.data:\n",
        "        if self.right is None:\n",
        "          self.right=Node(data)\n",
        "        else:\n",
        "          self.right.Insert(data)\n",
        "    else:\n",
        "      self.data=data\n",
        "  def Print(self):\n",
        "    if self.left:\n",
        "      self.left.Print()\n",
        "    print(self.data,end=\" \")\n",
        "    if self.right:\n",
        "      self.right.Print()\n",
        "\n",
        "\n",
        "\n",
        "\n",
        "\n",
        "\n",
        "\n",
        "\n",
        "\n",
        "\n",
        "\n",
        "\n",
        "\n",
        "\n",
        "  # def Print(self):\n",
        "  #   print(self.data)\n",
        "if __name__=='__main__':\n",
        "   bt=Node(10)\n",
        "   bt.Insert(8)\n",
        "   bt.Insert(12)\n",
        "   bt.Insert(9)\n",
        "   bt.Insert(11)\n",
        "   bt.Print()"
      ],
      "metadata": {
        "colab": {
          "base_uri": "https://localhost:8080/"
        },
        "id": "R4AgbSkj5fDZ",
        "outputId": "1d502662-7d60-48d0-d335-e8ebb3e552db"
      },
      "execution_count": null,
      "outputs": [
        {
          "output_type": "stream",
          "name": "stdout",
          "text": [
            "8 9 10 11 12 "
          ]
        }
      ]
    },
    {
      "cell_type": "markdown",
      "source": [
        "###412. Fizz Buzz\n",
        "Given an integer n, return a string array answer (1-indexed) where:\n",
        "\n",
        "answer[i] == \"FizzBuzz\" if i is divisible by 3 and 5.\n",
        "answer[i] == \"Fizz\" if i is divisible by 3.\n",
        "answer[i] == \"Buzz\" if i is divisible by 5.\n",
        "answer[i] == i (as a string) if none of the above conditions are true."
      ],
      "metadata": {
        "id": "bINo5QPsHM7Y"
      }
    },
    {
      "cell_type": "code",
      "source": [
        "def Fizzz(n):\n",
        "  arr=[]\n",
        "  for i in range(1,n+1):\n",
        "    f,b=i%3,i%5\n",
        "    if f==0 and b==0:\n",
        "      arr.append(\"FizzBuzz\")\n",
        "    elif f==0:\n",
        "      arr.append(\"Fizz\")\n",
        "    elif b==0:\n",
        "      arr.append(\"Buzz\")\n",
        "    else:\n",
        "      arr.append(str(i))\n",
        "  return arr\n",
        "\n",
        "\n",
        "print(Fizzz(5))"
      ],
      "metadata": {
        "colab": {
          "base_uri": "https://localhost:8080/"
        },
        "id": "KXfZLF2yHPeI",
        "outputId": "84d65dc7-0e8c-4cff-d003-f09c95955cfb"
      },
      "execution_count": null,
      "outputs": [
        {
          "output_type": "stream",
          "name": "stdout",
          "text": [
            "['1', '2', 'Fizz', '4', 'Buzz']\n"
          ]
        }
      ]
    },
    {
      "cell_type": "markdown",
      "source": [
        "rotate an array from k element"
      ],
      "metadata": {
        "id": "Y_PIxIY3MnP4"
      }
    },
    {
      "cell_type": "code",
      "source": [
        "arr=[1,2,3,4,5]\n",
        "d=3\n",
        "n=len(arr)\n",
        "temp=[0]*n\n",
        "d=d%n\n",
        "c=0\n",
        "for i in range(d,n):\n",
        "  temp[c]=arr[i]\n",
        "  c+=1\n",
        "for i in range(d):\n",
        "  temp[c]=arr[i]\n",
        "  c+=1\n",
        "for i in range(n):\n",
        "  arr[i]=temp[i]\n",
        "\n",
        "print(arr)\n"
      ],
      "metadata": {
        "colab": {
          "base_uri": "https://localhost:8080/"
        },
        "id": "CXF21TNAMmaQ",
        "outputId": "540cc769-4bb9-4988-de9c-4dfd3826add2"
      },
      "execution_count": null,
      "outputs": [
        {
          "output_type": "stream",
          "name": "stdout",
          "text": [
            "[4, 5, 1, 2, 3]\n"
          ]
        }
      ]
    },
    {
      "cell_type": "markdown",
      "source": [
        "###Binary Tree Functions"
      ],
      "metadata": {
        "id": "JoCIoXMaAnaH"
      }
    },
    {
      "cell_type": "code",
      "source": [
        "class Node:\n",
        "    def __init__(self,data):\n",
        "        self.data=data\n",
        "        self.right=None\n",
        "        self.left=None\n",
        "    def insert(self,data):\n",
        "        if self.data:\n",
        "            if data<self.data:\n",
        "                if self.left is None:\n",
        "                    self.left=Node(data)\n",
        "                else:\n",
        "                    self.left.insert(data)\n",
        "            if data > self.data:\n",
        "                if self.right is None:\n",
        "                    self.right=Node(data)\n",
        "                else:\n",
        "                    self.right.insert(data)\n",
        "        else:\n",
        "            self.data=data\n",
        "    def Print(self):\n",
        "        if self.left:\n",
        "            self.left.Print()\n",
        "        print(self.data,end=\" \")\n",
        "        if self.right:\n",
        "            self.right.Print()\n",
        "\n",
        "\n",
        "\n",
        "    def inorder(self,bt):\n",
        "      res=[]\n",
        "      if bt:\n",
        "        res=self.inorder(bt.left)\n",
        "        res.append(bt.data)\n",
        "        res=res + self.inorder(bt.right)\n",
        "      return res\n",
        "\n",
        "    def preorder(self,bt):\n",
        "      res=[]\n",
        "      if bt:\n",
        "        res.append(bt.data)\n",
        "        res=res+self.preorder(bt.left)\n",
        "        res=res+self.preorder(bt.right)\n",
        "      return res\n",
        "\n",
        "\n",
        "\n",
        "    def postorder(self,bt):\n",
        "      res=[]\n",
        "      if bt:\n",
        "        res=self.postorder(bt.left)\n",
        "        res=res+ self.postorder(bt.right)\n",
        "        res.append(bt.data)\n",
        "      return res\n",
        "\n",
        "\n",
        "\n",
        "\n",
        "\n",
        "\n",
        "\n",
        "\n",
        "\n",
        "\n",
        "\n",
        "\n",
        "\n",
        "\n",
        "\n",
        "\n",
        "\n",
        "\n",
        "\n",
        "\n",
        "\n",
        "\n",
        "\n",
        "\n",
        "\n",
        "if __name__=='__main__':\n",
        "    bt=Node(10)\n",
        "    bt.insert(9)\n",
        "    bt.insert(8)\n",
        "    bt.insert(11)\n",
        "    bt.insert(12)\n",
        "    bt.Print()\n",
        "    print()\n",
        "    print(bt.inorder(bt))\n",
        "\n",
        "\n",
        "    print(bt.preorder(bt))\n",
        "\n",
        "    print(bt.postorder(bt))\n",
        "\n",
        "\n"
      ],
      "metadata": {
        "colab": {
          "base_uri": "https://localhost:8080/"
        },
        "id": "2GqRvXQw9p1Y",
        "outputId": "7cdc77ff-6c47-48cb-ab92-2c8e3f85bcc7"
      },
      "execution_count": null,
      "outputs": [
        {
          "output_type": "stream",
          "name": "stdout",
          "text": [
            "8 9 10 11 12 \n",
            "[8, 9, 10, 11, 12]\n",
            "[10, 9, 8, 11, 12]\n",
            "[8, 9, 12, 11, 10]\n"
          ]
        }
      ]
    },
    {
      "cell_type": "markdown",
      "source": [
        "###binary tree search"
      ],
      "metadata": {
        "id": "3_4Uj-P7Ek6i"
      }
    },
    {
      "cell_type": "code",
      "source": [
        "class Node:\n",
        "    def __init__(self,data):\n",
        "        self.data=data\n",
        "        self.right=None\n",
        "        self.left=None\n",
        "    def insert(self,data):\n",
        "        if self.data:\n",
        "            if data<self.data:\n",
        "                if self.left is None:\n",
        "                    self.left=Node(data)\n",
        "                else:\n",
        "                    self.left.insert(data)\n",
        "            if data > self.data:\n",
        "                if self.right is None:\n",
        "                    self.right=Node(data)\n",
        "                else:\n",
        "                    self.right.insert(data)\n",
        "        else:\n",
        "            self.data=data\n",
        "    def Print(self):\n",
        "        if self.left:\n",
        "            self.left.Print()\n",
        "        print(self.data,end=\" \")\n",
        "        if self.right:\n",
        "            self.right.Print()\n",
        "\n",
        "\n",
        "    def search(self,val):\n",
        "      if val < self.data:\n",
        "        if self.left is None:\n",
        "          return str(val)+\" not found\"\n",
        "        return self.left.search(val)\n",
        "      elif val > self.data:\n",
        "        if self.right is None:\n",
        "          return str(val)+\" not found\"\n",
        "        return self.right.search(val)\n",
        "      else:\n",
        "        return str(val)+\" is found\"\n",
        "\n",
        "\n",
        "\n",
        "\n",
        "\n",
        "\n",
        "\n",
        "\n",
        "\n",
        "\n",
        "\n",
        "\n",
        "\n",
        "\n",
        "\n",
        "if __name__=='__main__':\n",
        "    bt=Node(10)\n",
        "    bt.insert(9)\n",
        "    bt.insert(8)\n",
        "    bt.insert(11)\n",
        "    bt.insert(12)\n",
        "    bt.Print()\n",
        "    print()\n",
        "    print(bt.search(9))\n",
        "    print(bt.search(14))"
      ],
      "metadata": {
        "colab": {
          "base_uri": "https://localhost:8080/"
        },
        "id": "SKh-hFwwElcj",
        "outputId": "bf8a3635-d87d-4376-ccbc-4821b49fdee5"
      },
      "execution_count": null,
      "outputs": [
        {
          "output_type": "stream",
          "name": "stdout",
          "text": [
            "8 9 10 11 12 \n",
            "9 is found\n",
            "14 not found\n"
          ]
        }
      ]
    },
    {
      "cell_type": "markdown",
      "source": [
        "###104. Maximum Depth of Binary Tree\n",
        "Given the root of a binary tree, return its maximum depth.\n",
        "\n",
        "A binary tree's maximum depth is the number of nodes along the longest path from the root node down to the farthest leaf node."
      ],
      "metadata": {
        "id": "_sPJa55UiiAv"
      }
    },
    {
      "cell_type": "code",
      "source": [
        "def dep(root,self):\n",
        "  if root is None:\n",
        "    return 0\n",
        "  else:\n",
        "    return 1+max(self.dep(root.left),self.dep(root.right))"
      ],
      "metadata": {
        "id": "YoYhe7k2igK4"
      },
      "execution_count": null,
      "outputs": []
    },
    {
      "cell_type": "markdown",
      "source": [
        "###905. Sort Array By Parity\n",
        "Given an integer array nums, move all the even integers at the beginning of the array followed by all the odd integers.\n",
        "\n",
        "Return any array that satisfies this condition."
      ],
      "metadata": {
        "id": "dZ8OoVuXlWYM"
      }
    },
    {
      "cell_type": "code",
      "source": [
        "def sortparity(nums):\n",
        "  l=0\n",
        "  r=len(nums)-1\n",
        "  while l<r:\n",
        "    if nums[l]%2==0 and nums[r]%2!=0:\n",
        "      l+=1\n",
        "      r-=1\n",
        "    elif nums[l]%2!=0 and nums[r]%2==0:\n",
        "      nums[l],nums[r]=nums[r],nums[l]\n",
        "      l+=1\n",
        "      r-=1\n",
        "    elif nums[l]%2!=0 and nums[r]%2!=0:\n",
        "      r-=1\n",
        "    else:\n",
        "      l+=1\n",
        "  return nums\n",
        "\n",
        "\n",
        "\n",
        "\n",
        "arr=[3,1,2,5,4,6]\n",
        "print(sortparity(arr))\n"
      ],
      "metadata": {
        "colab": {
          "base_uri": "https://localhost:8080/"
        },
        "id": "gqQlhvtGla3s",
        "outputId": "8dd692d8-6d0c-4f90-c03a-d297db045378"
      },
      "execution_count": null,
      "outputs": [
        {
          "output_type": "stream",
          "name": "stdout",
          "text": [
            "[6, 4, 2, 5, 1, 3]\n"
          ]
        }
      ]
    },
    {
      "cell_type": "markdown",
      "source": [
        "###485. Max Consecutive Ones\n",
        "Given a binary array nums, return the maximum number of consecutive 1's in the array."
      ],
      "metadata": {
        "id": "lB5yG3JspD7I"
      }
    },
    {
      "cell_type": "code",
      "source": [
        "def binarr(arr):\n",
        "  res,n=0,0\n",
        "  for m in arr:\n",
        "    if m==1:\n",
        "      res+=1\n",
        "      n=max(n,res)\n",
        "    else:\n",
        "      res=0\n",
        "  return n\n",
        "arr=[1,1,1,0,1]\n",
        "print(binarr(arr))"
      ],
      "metadata": {
        "colab": {
          "base_uri": "https://localhost:8080/"
        },
        "id": "mTA54-KGpGy4",
        "outputId": "35bb0c37-9313-4fe4-84fc-470c79e18e62"
      },
      "execution_count": null,
      "outputs": [
        {
          "output_type": "stream",
          "name": "stdout",
          "text": [
            "3\n"
          ]
        }
      ]
    },
    {
      "cell_type": "markdown",
      "source": [
        "###392. Is Subsequence\n",
        "Given two strings s and t, return true if s is a subsequence of t, or false otherwise.\n",
        "\n",
        "A subsequence of a string is a new string that is formed from the original string by deleting some (can be none) of the characters without disturbing the relative positions of the remaining characters. (i.e., \"ace\" is a subsequence of \"abcde\" while \"aec\" is not)"
      ],
      "metadata": {
        "id": "AesBJByLvR6u"
      }
    },
    {
      "cell_type": "code",
      "source": [
        "def isSub(s,t):\n",
        "  r,l=0,0\n",
        "  l1=len(s)\n",
        "  l2=len(t)\n",
        "  while r<l1 and l<l2:\n",
        "    if s[r]==t[l]:\n",
        "      r+=1\n",
        "    l+=1\n",
        "  return r==l1\n",
        "s=['a','b','c']\n",
        "t=['a','d','b','c']\n",
        "print(isSub(s,t))"
      ],
      "metadata": {
        "colab": {
          "base_uri": "https://localhost:8080/"
        },
        "id": "x4Ah8TCSvVSt",
        "outputId": "262e211c-ca89-4dec-aec5-84b0199c9550"
      },
      "execution_count": null,
      "outputs": [
        {
          "output_type": "stream",
          "name": "stdout",
          "text": [
            "True\n"
          ]
        }
      ]
    },
    {
      "cell_type": "markdown",
      "source": [
        "###278. First Bad Version\n",
        "Suppose you have n versions [1, 2, ..., n] and you want to find out the first bad one, which causes all the following ones to be bad.\n",
        "\n",
        "You are given an API bool isBadVersion(version) which returns whether version is bad. Implement a function to find the first bad version. You should minimize the number of calls to the API."
      ],
      "metadata": {
        "id": "OeaHZk5Wvby3"
      }
    },
    {
      "cell_type": "code",
      "source": [
        "# The isBadVersion API is already defined for you.\n",
        "# param version, an integer\n",
        "# return a bool\n",
        "# def isBadVersion(version):\n",
        "def firstBadVersion(self, n):\n",
        "        l,r=0,n\n",
        "        while l<r:\n",
        "            mid=(l+r)//2\n",
        "            if isBadVersion(mid):\n",
        "                r=mid\n",
        "            else:\n",
        "                l=mid+1\n",
        "        return l"
      ],
      "metadata": {
        "id": "t2Ll3hX2vl2R"
      },
      "execution_count": null,
      "outputs": []
    },
    {
      "cell_type": "markdown",
      "source": [
        "###283. Move Zeroes\n",
        "Given an integer array nums, move all 0's to the end of it while maintaining the relative order of the non-zero elements.\n",
        "\n",
        "Note that you must do this in-place without making a copy of the array"
      ],
      "metadata": {
        "id": "THqeV7KpxVdl"
      }
    },
    {
      "cell_type": "code",
      "source": [
        "def moveZeroes(self, nums):\n",
        "        l,r=0,0\n",
        "        while r<len(nums):\n",
        "            if nums[r]!=0:\n",
        "                nums[l],nums[r]=nums[r],nums[l]\n",
        "                l+=1\n",
        "            r+=1"
      ],
      "metadata": {
        "id": "SLxnNwA9xZ9f"
      },
      "execution_count": null,
      "outputs": []
    },
    {
      "cell_type": "markdown",
      "source": [
        "###dsa"
      ],
      "metadata": {
        "id": "tZrmEXrOeWrG"
      }
    },
    {
      "cell_type": "code",
      "source": [
        "from collections import deque\n",
        "def rotates(queue,k):\n",
        "  if not queue or k>len(queue):\n",
        "    return queue\n",
        "  if k <=0:\n",
        "    return queue\n",
        "  s=[]\n",
        "  for i in range(k):\n",
        "    s.append(queue.popleft())\n",
        "  while s:\n",
        "    queue.append(s.pop())\n",
        "  for i in range(len(queue)-k):\n",
        "    queue.append(queue.popleft())\n",
        "  return queue\n",
        "\n",
        "queue=deque([10,20,30,40,50,60,70,80,90])\n",
        "k=4\n",
        "print(rotates(queue,k))\n"
      ],
      "metadata": {
        "colab": {
          "base_uri": "https://localhost:8080/"
        },
        "id": "SytImcrUeZKl",
        "outputId": "ed18fa70-b151-4a29-be48-9fa68ac4fb24"
      },
      "execution_count": null,
      "outputs": [
        {
          "output_type": "stream",
          "name": "stdout",
          "text": [
            "deque([40, 30, 20, 10, 50, 60, 70, 80, 90])\n"
          ]
        }
      ]
    },
    {
      "source": [
        "from collections import deque\n",
        "\n",
        "def rotates(queue,k):\n",
        "  if not queue or k>len(queue):\n",
        "    return queue\n",
        "  if k <=0:\n",
        "    return queue\n",
        "  s=[]\n",
        "  for i in range(k):\n",
        "    s.append(queue.popleft())\n",
        "  while s:\n",
        "    queue.append(s.pop())\n",
        "  for i in range(len(queue)-k):\n",
        "    queue.append(queue.popleft())\n",
        "  return queue\n",
        "\n",
        "queue=deque([10,20,30,40,50,60,70,80,90])\n",
        "k=4\n",
        "print(rotates(queue,k))"
      ],
      "cell_type": "code",
      "metadata": {
        "colab": {
          "base_uri": "https://localhost:8080/"
        },
        "id": "IOGbr9Uxf3AJ",
        "outputId": "37131df2-2535-4948-ed2f-473d579847a3"
      },
      "execution_count": null,
      "outputs": [
        {
          "output_type": "stream",
          "name": "stdout",
          "text": [
            "deque([40, 30, 20, 10, 50, 60, 70, 80, 90])\n"
          ]
        }
      ]
    },
    {
      "cell_type": "code",
      "source": [
        "'''\n",
        "\n",
        "    Time Complexity: O(N ^ 2)\n",
        "\n",
        "    Space Complexity: O(N ^ 2)\n",
        "\n",
        "\n",
        "\n",
        "    Where 'N' is the length of the string.\n",
        "\n",
        "'''\n",
        "\n",
        "\n",
        "\n",
        "def prettyJSON(str):\n",
        "\n",
        "    # A pointer to the last row.\n",
        "\n",
        "    r = 0\n",
        "\n",
        "    result = []\n",
        "\n",
        "    result.append(\"\")\n",
        "\n",
        "    brace = 1\n",
        "\n",
        "    i = 0\n",
        "\n",
        "\n",
        "\n",
        "    while i < len(str):\n",
        "\n",
        "        # Space just ignore.\n",
        "\n",
        "        if str[i] == \" \":\n",
        "\n",
        "            i += 1\n",
        "\n",
        "            continue\n",
        "\n",
        "        elif str[i] == \"{\" or str[i] == \"[\":\n",
        "\n",
        "            # If first brace is found.\n",
        "\n",
        "            if brace == 1 and r == 0:\n",
        "\n",
        "                result[r] += str[i]\n",
        "\n",
        "            else:\n",
        "\n",
        "                # Make a new line and add adequate spaces and increment braces.\n",
        "\n",
        "                r = r + 1\n",
        "\n",
        "                result.append('\\t' * brace + str[i])\n",
        "\n",
        "                brace = brace + 1\n",
        "\n",
        "\n",
        "\n",
        "            r = r + 1\n",
        "\n",
        "            result.append('\\t' * brace)\n",
        "\n",
        "            i += 1\n",
        "\n",
        "\n",
        "\n",
        "        elif str[i] == \"}\" or str[i] == \"]\":\n",
        "\n",
        "            # Make a new line and decrement braces.\n",
        "\n",
        "            if brace > 1:\n",
        "\n",
        "                r = r + 1\n",
        "\n",
        "                result.append('\\t' * (brace - 1))\n",
        "\n",
        "                result[r] += str[i]\n",
        "\n",
        "                brace = brace - 1\n",
        "\n",
        "                i += 1\n",
        "\n",
        "\n",
        "\n",
        "            else:\n",
        "\n",
        "                r = r + 1\n",
        "\n",
        "                result.append(str[i])\n",
        "\n",
        "                brace = brace - 1\n",
        "\n",
        "                i += 1\n",
        "\n",
        "\n",
        "\n",
        "        elif str[i] == \",\":\n",
        "\n",
        "            result[r] += str[i]\n",
        "\n",
        "            # Corner case check.\n",
        "\n",
        "            if str[i + 1]==\"{\" or str[i + 1] == \"[\":\n",
        "\n",
        "                i += 1\n",
        "\n",
        "                continue\n",
        "\n",
        "\n",
        "\n",
        "            else:\n",
        "\n",
        "                r = r + 1\n",
        "\n",
        "                result.append('\\t' * brace)\n",
        "\n",
        "                i += 1\n",
        "\n",
        "        elif str[i] == \":\":\n",
        "\n",
        "            result[r] += str[i]\n",
        "\n",
        "            if str[i + 1] == \"{\" or str[i + 1] == \"[\":\n",
        "\n",
        "                r = r + 1\n",
        "\n",
        "                result.append('\\t' * brace)\n",
        "\n",
        "                i = i + 1\n",
        "\n",
        "                result[r] += str[i]\n",
        "\n",
        "                brace = brace + 1\n",
        "\n",
        "\n",
        "\n",
        "                if str[i + 1] != \"{\" and str[i + 1] != \"[\":\n",
        "\n",
        "                    r = r + 1\n",
        "\n",
        "                    result.append('\\t' * brace)\n",
        "\n",
        "                    i = i + 1\n",
        "\n",
        "                    result[r] += str[i]\n",
        "\n",
        "            i += 1\n",
        "\n",
        "\n",
        "\n",
        "        else:\n",
        "\n",
        "            # For all other cases.\n",
        "\n",
        "            result[r] += str[i]\n",
        "\n",
        "            i += 1\n",
        "\n",
        "\n",
        "\n",
        "    return result"
      ],
      "metadata": {
        "id": "k17sLfHSgth7"
      },
      "execution_count": null,
      "outputs": []
    },
    {
      "cell_type": "code",
      "source": [
        "def is_feasible(mid, A, n, k):\n",
        "    count = 1  # We can always pick the first element\n",
        "    last_position = A[0]\n",
        "\n",
        "    for l in range(1, n):\n",
        "        if A[l] - last_position >= mid:\n",
        "            count += 1\n",
        "            last_position = A[l]\n",
        "        if count >= k:\n",
        "            return True\n",
        "\n",
        "    return False\n",
        "\n",
        "def largest_min_distance(A, n, k):\n",
        "    A.sort()\n",
        "\n",
        "    low = 0\n",
        "    high = A[-1] - A[0]\n",
        "\n",
        "    result = 0\n",
        "\n",
        "    while low <= high:\n",
        "        mid = (low + high) // 2\n",
        "\n",
        "        if is_feasible(mid, A, n, k):\n",
        "            result = mid\n",
        "            low = mid + 1  # Try for a larger distance\n",
        "        else:\n",
        "            high = mid - 1  # Try for a smaller distance\n",
        "\n",
        "    return result\n",
        "\n",
        "# Input Example\n",
        "n, k = map(int, input().split())\n",
        "A = list(map(int, input().split()))\n",
        "\n",
        "# Output the largest minimum distance\n",
        "print(largest_min_distance(A, n, k))\n"
      ],
      "metadata": {
        "colab": {
          "base_uri": "https://localhost:8080/"
        },
        "id": "W88EdS1Aif4k",
        "outputId": "d95db968-3beb-45d2-e5f3-eb744bffe500"
      },
      "execution_count": null,
      "outputs": [
        {
          "output_type": "stream",
          "name": "stdout",
          "text": [
            "5 3\n",
            "1 2 4 8 9\n",
            "3\n"
          ]
        }
      ]
    },
    {
      "cell_type": "code",
      "source": [
        "import re\n",
        "\n",
        "def isValid(s):\n",
        "    # Regular expression to validate the phone number:\n",
        "    # 1) Begins with +91, 91, or 0 (optional).\n",
        "    # 2) Then contains a digit between 6 and 9.\n",
        "    # 3) Followed by exactly 9 more digits (for a total of 10 digits).\n",
        "\n",
        "    Pattern = re.compile(r\"(\\+91|91|0)?[6-9][0-9]{9}\")\n",
        "\n",
        "    # Check if the pattern matches the entire string\n",
        "    return Pattern.match(s)\n",
        "\n",
        "# Driver Code\n",
        "s = \"+919876543210\"  # Example number with +91 prefix\n",
        "\n",
        "if isValid(s):\n",
        "    print(\"Valid Number\")\n",
        "else:\n",
        "    print(\"Invalid Number\")\n"
      ],
      "metadata": {
        "id": "dZZ5LkYYqmNP"
      },
      "execution_count": null,
      "outputs": []
    },
    {
      "cell_type": "markdown",
      "source": [
        "###83. Remove Duplicates from Sorted List"
      ],
      "metadata": {
        "id": "GYiTdS8br5bF"
      }
    },
    {
      "cell_type": "code",
      "source": [
        "ef deleteDuplicates(self, head):\n",
        "        if not head:\n",
        "            return head\n",
        "\n",
        "        current = head\n",
        "        while current.next:\n",
        "            if current.val == current.next.val:\n",
        "                current.next = current.next.next\n",
        "            else:\n",
        "                current = current.next\n",
        "\n",
        "        return head"
      ],
      "metadata": {
        "id": "iJiTKJ_2r5L9"
      },
      "execution_count": null,
      "outputs": []
    },
    {
      "cell_type": "markdown",
      "source": [
        "###STACK ds"
      ],
      "metadata": {
        "id": "_QWunjlZNvRb"
      }
    },
    {
      "cell_type": "code",
      "source": [
        "##simple method\n",
        "class Stack:\n",
        "\n",
        "  def __init__(self):\n",
        "    self.stack=[]\n",
        "\n",
        "  def isEmpty(self):\n",
        "    return len(self.stack)==0\n",
        "\n",
        "  def Push(self,data):\n",
        "    self.stack.append(data)\n",
        "\n",
        "  def Pop(self):\n",
        "    if self.isEmpty():\n",
        "      return \"stack is empty\"\n",
        "    self.stack.pop()\n",
        "\n",
        "  def Peek(self):\n",
        "    if self.isEmpty():\n",
        "      return \"no values\"\n",
        "    else:\n",
        "      return self.stack[-1]\n",
        "\n",
        "  def Size(self):\n",
        "    return len(self.stack)\n",
        "\n",
        "\n",
        "if __name__=='__main__':\n",
        "  s=Stack()\n",
        "  s.Push(2)\n",
        "  s.Push(3)\n",
        "  s.Push(4)\n",
        "  print(\"peek: \",s.Peek())\n",
        "  print(s.stack)\n",
        "  print(s.Size())\n",
        "  s.Pop()\n",
        "  print(s.stack)"
      ],
      "metadata": {
        "colab": {
          "base_uri": "https://localhost:8080/"
        },
        "id": "p8oL-gpuNxj7",
        "outputId": "18d9342b-f1c4-4dd3-fbef-7681bdded626"
      },
      "execution_count": null,
      "outputs": [
        {
          "output_type": "stream",
          "name": "stdout",
          "text": [
            "peek:  4\n",
            "[2, 3, 4]\n",
            "3\n",
            "[2, 3]\n"
          ]
        }
      ]
    },
    {
      "cell_type": "markdown",
      "source": [
        "###QUEUES"
      ],
      "metadata": {
        "id": "O371pV8lnUC4"
      }
    },
    {
      "cell_type": "code",
      "source": [
        "#QUEues as a class\n",
        "class Queue:\n",
        "  def __init__(self):\n",
        "    self.queue=[]\n",
        "  def enqueue(self,data):\n",
        "    self.queue.append(data)\n",
        "\n",
        "  def isEmpty(self):\n",
        "    return len(self.queue)==0\n",
        "\n",
        "  def dequeue(self):\n",
        "    if self.isEmpty():\n",
        "      return \" queue is empty\"\n",
        "    self.queue.pop(0)\n",
        "  def peak(self):\n",
        "    return self.queue[0]\n",
        "  def size(self):\n",
        "    return len(self.queue)\n",
        "\n",
        "\n",
        "if __name__=='__main__':\n",
        "  q=Queue()\n",
        "  q.enqueue(10)\n",
        "  print(q.queue)\n",
        "  q.enqueue(20)\n",
        "  q.enqueue(30)\n",
        "  print(q.queue)\n",
        "  q.dequeue()\n",
        "  print(q.queue)\n",
        "  print(q.size())\n",
        "  print(q.isEmpty())\n",
        "  print(q.peak())"
      ],
      "metadata": {
        "colab": {
          "base_uri": "https://localhost:8080/"
        },
        "id": "-cs4S14qoJO4",
        "outputId": "7a5b00c2-cd1c-40a2-c0b2-9d960c21e4d3"
      },
      "execution_count": null,
      "outputs": [
        {
          "output_type": "stream",
          "name": "stdout",
          "text": [
            "[10]\n",
            "[10, 20, 30]\n",
            "[20, 30]\n",
            "2\n",
            "False\n",
            "20\n"
          ]
        }
      ]
    },
    {
      "cell_type": "markdown",
      "source": [
        "###15. 3Sum"
      ],
      "metadata": {
        "id": "_3cRouZ3GAgZ"
      }
    },
    {
      "cell_type": "code",
      "source": [
        "def threesum(nums):\n",
        "  res = []\n",
        "  nums.sort()\n",
        "\n",
        "  for i in range(len(nums)):\n",
        "      if i > 0 and nums[i] == nums[i-1]:\n",
        "            continue\n",
        "\n",
        "      j = i + 1\n",
        "      k = len(nums) - 1\n",
        "\n",
        "      while j < k:\n",
        "            total = nums[i] + nums[j] + nums[k]\n",
        "\n",
        "            if total > 0:\n",
        "                k -= 1\n",
        "            elif total < 0:\n",
        "                j += 1\n",
        "            else:\n",
        "                res.append([nums[i], nums[j], nums[k]])\n",
        "                j += 1\n",
        "\n",
        "                while nums[j] == nums[j-1] and j < k:\n",
        "                  j += 1\n",
        "\n",
        "  return res\n"
      ],
      "metadata": {
        "id": "nGswQ9AkGEMJ"
      },
      "execution_count": null,
      "outputs": []
    },
    {
      "cell_type": "markdown",
      "source": [
        "###560. Subarray Sum Equals K"
      ],
      "metadata": {
        "id": "M6GET8FVI-El"
      }
    },
    {
      "cell_type": "code",
      "source": [
        "def subarraySum(nums, k):\n",
        "        d={0:1}\n",
        "        c=0\n",
        "        s=0\n",
        "        for nu in nums:\n",
        "            s+=nu\n",
        "            if s-k in d:\n",
        "                c+=d[s-k]\n",
        "            if s in d:\n",
        "                d[s]+=1\n",
        "            else:\n",
        "                d[s]=1\n",
        "        return c"
      ],
      "metadata": {
        "id": "-ZkwSnzTI7rN"
      },
      "execution_count": null,
      "outputs": []
    }
  ]
}