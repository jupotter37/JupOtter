{
 "cells": [
  {
   "cell_type": "markdown",
   "id": "b7c72dfd",
   "metadata": {
    "papermill": {
     "duration": 0.023178,
     "end_time": "2024-05-04T15:51:56.795014",
     "exception": false,
     "start_time": "2024-05-04T15:51:56.771836",
     "status": "completed"
    },
    "tags": []
   },
   "source": [
    "#### Introduction to Graphs\n",
    "Video link: https://youtu.be/M3_pLsDdeuU?si=Bi_17bBfZUPqBU6K\n",
    "- Directed Graph: Graph with edges\n",
    "- Undirected Graph: Graph without edges\n",
    "- Cycle: Starting at node i, we are able to reach back to i again\n",
    "- DAG (Directed Acyclic Graph): Directed graph without any cycles\n",
    "- Degrees of a node (undirected): No of edges connected to that node\n",
    "- Indegree of a node (directed): No of incoming edges to a node\n",
    "- Outdegree of a node (directed): No of outgoing edges from a node\n",
    "- Property of an undirected of graph: Total degree = 2 * no. of edges (intuitively for edge we will be counting it twice on both ends of the connection)\n",
    "- Edge weights: Every edge of a graph is assigned a weight. If not provided, we can assume unit weight\n",
    "- Note that a graph can contain multiple components. A component is a set of nodes that can be reached from starting the traversal from one of the nodes."
   ]
  },
  {
   "cell_type": "markdown",
   "id": "cf960c9a",
   "metadata": {
    "lines_to_next_cell": 0,
    "papermill": {
     "duration": 0.022632,
     "end_time": "2024-05-04T15:51:56.839965",
     "exception": false,
     "start_time": "2024-05-04T15:51:56.817333",
     "status": "completed"
    },
    "tags": []
   },
   "source": [
    "#### Graph representation <br>\n",
    "Video Link: https://youtu.be/3oI-34aPMWM?si=ibTcfbzU8J9k-NHa\n",
    "1. Adjacency matrix: If N is no of nodes, create N x N grid.\n",
    "Each cell contains the weight if the edge between the two nodes.\n",
    "Connections may or may not exist. For undirected graphs, the\n",
    "matrix is symmetric around the diagnol. Space: O (N ^ 2)\n",
    "\n",
    "For eg: \n",
    "```\n",
    "0 1 2 3 4 5\n",
    "0 0 0 0 0 0\n",
    "1 0 1 2 0 0\n",
    "2 1 0 0 1 1\n",
    "3 2 0 0 0 0\n",
    "4 0 1 0 0 0\n",
    "5 0 1 0 0 0\n",
    "```\n",
    "\n",
    "2. Adjaceny list: Create an array of arrays or set of arrays. Each nested array at index denotes the nodes that index is connected to. Space: O(E), still be O (N ^ 2) in a complete graph. If it is a directed graph, each element in the nested array is a tuple of node that index is connected to along with the weight of that connection.\n",
    "\n",
    "For eg:\n",
    "```\n",
    "{\n",
    " 1: [(2, 1), (3, 2)]\n",
    " 2: [(4, 5)]\n",
    " 3: [(2, 2), (4, 1)]\n",
    "}\n",
    "```"
   ]
  },
  {
   "cell_type": "markdown",
   "id": "d7ecd5e5",
   "metadata": {
    "papermill": {
     "duration": 0.02218,
     "end_time": "2024-05-04T15:51:56.884195",
     "exception": false,
     "start_time": "2024-05-04T15:51:56.862015",
     "status": "completed"
    },
    "tags": []
   },
   "source": [
    "#### Misc about graphs\n",
    "- Bipartite Graph: Color the graph with 2 colors such that no adjacent nodes have the same color. More formally: A graph is bipartite if the nodes can be partitioned into two independent sets A and B such that every edge in the graph connects a node in set A and a node in set B.\n",
    "- Linear graphs without any cycles are always bipartite.\n",
    "- Cyclic graphs of even node length are always bipartite.\n",
    "- Cyclic graphs of odd node length are NOT bipartite.\n",
    "- Topological sortig is only valid for DAGs (Directed Acyclic graphs). Is topo sort, the vertices are ordered such that if there is an edge between vertex v1 and v2 then v1 appears before v2. There could be multiple ways in which the vertices are sorted.\n",
    "- Topological sorting with DFS involves pushing onto a stack at the end of recursive function.\n",
    "- Topological sorting with BFS involves an algorithm called as the Kahn's algorithm."
   ]
  },
  {
   "cell_type": "markdown",
   "id": "24f84e7c",
   "metadata": {
    "papermill": {
     "duration": 0.022179,
     "end_time": "2024-05-04T15:51:56.928539",
     "exception": false,
     "start_time": "2024-05-04T15:51:56.906360",
     "status": "completed"
    },
    "tags": []
   },
   "source": [
    "Dijkstra algorithm (Worst case time complexity: O (E log V)):\n",
    "1. Algorithm to find the shortest distance from source node to all nodes.\n",
    "2. It doesn't work for graphs with negative weights.\n",
    "3. Typically used with a priority queue. Can work with queue as well. With Q, it works as a typical BFS (Brute force). With PQ we consider the best path only instead of iterating all edges, we end up pruning non optimal paths.\n",
    "4. Logic:\n",
    "```\n",
    "- Create a vector of distances. Assign src as 0 and remaining nodes as infinite (not yet reached)\n",
    "- Initialize a min heap <dist, node>. Initially we start at src (0, src).\n",
    "- Repeat until min heap is exhausted.\n",
    "  * Pop the smallest out\n",
    "  * Iterate through all neighbours. If the dist to reach neighbour is smaller than currently known shortest distance, update the shortest dist and add to queue.\n",
    "- Return the distance vector.\n",
    "```"
   ]
  },
  {
   "cell_type": "markdown",
   "id": "d97a2dea",
   "metadata": {
    "papermill": {
     "duration": 0.022177,
     "end_time": "2024-05-04T15:51:56.972969",
     "exception": false,
     "start_time": "2024-05-04T15:51:56.950792",
     "status": "completed"
    },
    "tags": []
   },
   "source": [
    "Bellman Ford Algorithm (Worst case time complexity: O (V x E))\n",
    "1. Relax all the edges N - 1 times sequentially.\n",
    "2. N - 1 iterations because: In a graph of N nodes, in the worst case, we will take N - 1 edges to reach from the first to the last (consider a singly connected linked list), thereby we iterate for N - 1 iterations. (Best case each node has N - 1 edges and takes 1 step to reach every other node, worst case is the linked list example where it takes N - 1 iterations to travel from 0 to N - 1 node)\n",
    "3. To detect negative cycle, run another iteration. If the value of any node decreases still, the graph has a negative cycle."
   ]
  },
  {
   "cell_type": "markdown",
   "id": "037e1b1b",
   "metadata": {
    "papermill": {
     "duration": 0.022515,
     "end_time": "2024-05-04T15:51:57.017668",
     "exception": false,
     "start_time": "2024-05-04T15:51:56.995153",
     "status": "completed"
    },
    "tags": []
   },
   "source": [
    "Floyd Warshall Algorithm\n",
    "1. Multi source shortest path algorithm\n",
    "2. Helps detect negative cycles as well\n",
    "3. The idea is that for each node i and for each node j that we are trying to reach, check out all paths k and get the minimum: `min(d[i][k] + d[k][j])`\n",
    "4. Instead of storing a 1D distance vector, we store a 2D distance / cost matrix.\n",
    "5. This is a brute force approach that caches results.\n",
    "6. To detect a negative cycle, simply check if node to same node path is < 0. It must be 0 for a graph without negative cycles.\n",
    "7. Logic:\n",
    "```python\n",
    "for via in range(V):\n",
    "  for i in range(V):\n",
    "      for j in range(V):\n",
    "          cost[i][j] = min(cost[i][j], cost[i][via] + cost[via][j])\n",
    "```\n",
    "8. Running dijkstra on all nodes (O(E log V)) would be faster than Floyd Warshall. But dijkstra doesn't work on graphs with negative edges. We woulld need to run Johnson's algorithm to remove negative cycles and then run Dijkstra. It would still be faster than floyd warshall iff E < V^2."
   ]
  },
  {
   "cell_type": "markdown",
   "id": "46672733",
   "metadata": {
    "papermill": {
     "duration": 0.022059,
     "end_time": "2024-05-04T15:51:57.061800",
     "exception": false,
     "start_time": "2024-05-04T15:51:57.039741",
     "status": "completed"
    },
    "tags": []
   },
   "source": [
    "Minimum Spanning Tree (MST)\n",
    "1. Spanning Tree: A tree in which we have N nodes and N - 1 edges and all nodes are reachable from each other.\n",
    "2. MST: Out of all spanning trees that we can get, the one with the minimum edge weight sum is called the minimum spanning tree."
   ]
  },
  {
   "cell_type": "markdown",
   "id": "fe81afa5",
   "metadata": {
    "papermill": {
     "duration": 0.021877,
     "end_time": "2024-05-04T15:51:57.106094",
     "exception": false,
     "start_time": "2024-05-04T15:51:57.084217",
     "status": "completed"
    },
    "tags": []
   },
   "source": [
    "Disjoint Set\n",
    "1. Useful for determining if two given vertices are part of the same component or not in O(1) time.\n",
    "2. It offers two functions: findParent(), union() (could be via rank or via size)\n",
    "3. It is especially useful in problems involving dynamic graphs, where the structure (connections) keeps changing frequently.\n",
    "4. Pseudo code for union of U, V by rank (O (4 alpha)):\n",
    "```\n",
    "- Find ultimate parent of U (pu), V (pv).\n",
    "- Find rank of pu, pv.\n",
    "- Connect smaller rank of the ultimate parents to the larger of the ultimate parents.\n",
    "```\n",
    "5. Pseudo code for union of U, V by size (O (4 alpha)):\n",
    "```\n",
    "- Find ultimate parent of U, V\n",
    "- Find size of U (UR), V (VR)\n",
    "- Attach the smaller sized parent to the larger one.\n",
    "```\n",
    "6. To ensure that find parent takes O(1) time instead of O(N), we perform path compression: first time we iterate through and find the parent, on subsequent calls the result is cached and parent list is updated.\n",
    "7. By connecting the smaller to the larger, we overall rank would remain unchanged and the graph would be more 'balanced'. Time taken to find parent is as minimal as possb.\n",
    "8. Post path compression, rank wouldn't make much sense."
   ]
  },
  {
   "cell_type": "markdown",
   "id": "a321425e",
   "metadata": {
    "lines_to_next_cell": 0,
    "papermill": {
     "duration": 0.021714,
     "end_time": "2024-05-04T15:51:57.149734",
     "exception": false,
     "start_time": "2024-05-04T15:51:57.128020",
     "status": "completed"
    },
    "tags": []
   },
   "source": [
    "#### Helper functions and definitions"
   ]
  },
  {
   "cell_type": "code",
   "execution_count": 1,
   "id": "8c79edc4",
   "metadata": {
    "execution": {
     "iopub.execute_input": "2024-05-04T15:51:57.195979Z",
     "iopub.status.busy": "2024-05-04T15:51:57.195204Z",
     "iopub.status.idle": "2024-05-04T15:51:57.205016Z",
     "shell.execute_reply": "2024-05-04T15:51:57.204386Z"
    },
    "lines_to_next_cell": 1,
    "papermill": {
     "duration": 0.034783,
     "end_time": "2024-05-04T15:51:57.206994",
     "exception": false,
     "start_time": "2024-05-04T15:51:57.172211",
     "status": "completed"
    },
    "tags": []
   },
   "outputs": [],
   "source": [
    "import math\n",
    "import collections\n",
    "import itertools\n",
    "import typing\n",
    "import heapq\n",
    "import functools"
   ]
  },
  {
   "cell_type": "markdown",
   "id": "fc260e41",
   "metadata": {
    "papermill": {
     "duration": 0.02201,
     "end_time": "2024-05-04T15:51:57.251294",
     "exception": false,
     "start_time": "2024-05-04T15:51:57.229284",
     "status": "completed"
    },
    "tags": []
   },
   "source": [
    "Video Link: https://youtu.be/-tgVpUgsQ5k?si=8HBt33CLyu9hTP1I\n",
    "BFS Search of a graph"
   ]
  },
  {
   "cell_type": "code",
   "execution_count": 2,
   "id": "2e42efd0",
   "metadata": {
    "execution": {
     "iopub.execute_input": "2024-05-04T15:51:57.296783Z",
     "iopub.status.busy": "2024-05-04T15:51:57.296143Z",
     "iopub.status.idle": "2024-05-04T15:51:57.303094Z",
     "shell.execute_reply": "2024-05-04T15:51:57.302322Z"
    },
    "lines_to_next_cell": 1,
    "papermill": {
     "duration": 0.031688,
     "end_time": "2024-05-04T15:51:57.304832",
     "exception": false,
     "start_time": "2024-05-04T15:51:57.273144",
     "status": "completed"
    },
    "tags": []
   },
   "outputs": [],
   "source": [
    "def bfsOfGraph(V: int, adj: list[list[int]]) -> list[int]:\n",
    "    result: list[int] = []\n",
    "    queue: collections.deque = collections.deque([0])\n",
    "    visited: set[int] = set()\n",
    "    while queue:\n",
    "        curr = queue.popleft()\n",
    "        if curr not in visited:\n",
    "            result.append(curr)\n",
    "            visited.add(curr)\n",
    "        queue.extend(adj[curr])\n",
    "\n",
    "    return result\n",
    "\n",
    "# Testing the solution\n",
    "assert bfsOfGraph(5, [[1,2,3],[],[4],[],[]]) == [0, 1, 2, 3, 4]\n",
    "assert bfsOfGraph(5, [[1,2],[],[]]) == [0, 1, 2]"
   ]
  },
  {
   "cell_type": "markdown",
   "id": "25de613f",
   "metadata": {
    "papermill": {
     "duration": 0.021814,
     "end_time": "2024-05-04T15:51:57.348764",
     "exception": false,
     "start_time": "2024-05-04T15:51:57.326950",
     "status": "completed"
    },
    "tags": []
   },
   "source": [
    "Video Link: https://youtu.be/Qzf1a--rhp8?si=Zb_XCqskGiK11gbB\n",
    "DFS Traversal"
   ]
  },
  {
   "cell_type": "code",
   "execution_count": 3,
   "id": "4a28e0ae",
   "metadata": {
    "execution": {
     "iopub.execute_input": "2024-05-04T15:51:57.394991Z",
     "iopub.status.busy": "2024-05-04T15:51:57.394283Z",
     "iopub.status.idle": "2024-05-04T15:51:57.403543Z",
     "shell.execute_reply": "2024-05-04T15:51:57.402755Z"
    },
    "lines_to_next_cell": 1,
    "papermill": {
     "duration": 0.034493,
     "end_time": "2024-05-04T15:51:57.405298",
     "exception": false,
     "start_time": "2024-05-04T15:51:57.370805",
     "status": "completed"
    },
    "tags": []
   },
   "outputs": [],
   "source": [
    "def depthFirstSearch(V: int, E: int, edges: list[list[int]]) -> list[list[int]]:\n",
    "    adjl: dict[int, list[int]] = dict()\n",
    "    for i in range(E):\n",
    "        n1, n2 = edges[i]\n",
    "        n1_edges, n2_edges = adjl.get(n1, []), adjl.get(n2, [])\n",
    "        n1_edges.append(n2)\n",
    "        n2_edges.append(n1)\n",
    "        adjl[n1], adjl[n2] = n1_edges, n2_edges\n",
    "\n",
    "    result: list[list[int]] = []\n",
    "    visited: set[int] = set()\n",
    "\n",
    "    # Time Complexity: O(N), Space: O(N)\n",
    "    for i in range(V):\n",
    "        stack: list[int] = [i]\n",
    "        components: list[int] = []\n",
    "        while stack:\n",
    "            curr = stack.pop()\n",
    "            if curr not in visited:\n",
    "                visited.add(curr)\n",
    "                components.append(curr)\n",
    "                for next_ in adjl.get(curr, []):\n",
    "                    stack.append(next_)\n",
    "\n",
    "        if components:\n",
    "            components.sort()\n",
    "            result.append(components)\n",
    "\n",
    "    return result\n",
    "\n",
    "# Testing the result\n",
    "assert depthFirstSearch(5, 4, [[0,2], [0,1], [1,2], [3,4]]) == [[0,1,2], [3,4]]"
   ]
  },
  {
   "cell_type": "markdown",
   "id": "a12cfaca",
   "metadata": {
    "papermill": {
     "duration": 0.021999,
     "end_time": "2024-05-04T15:51:57.470360",
     "exception": false,
     "start_time": "2024-05-04T15:51:57.448361",
     "status": "completed"
    },
    "tags": []
   },
   "source": [
    "Number of provinces: https://leetcode.com/problems/number-of-provinces/submissions/1237343247/\n",
    "Video Link: https://youtu.be/ACzkVtewUYA?si=wpzBiKJoOJQnFR18"
   ]
  },
  {
   "cell_type": "code",
   "execution_count": 4,
   "id": "672dd010",
   "metadata": {
    "execution": {
     "iopub.execute_input": "2024-05-04T15:51:57.516625Z",
     "iopub.status.busy": "2024-05-04T15:51:57.515947Z",
     "iopub.status.idle": "2024-05-04T15:51:57.523291Z",
     "shell.execute_reply": "2024-05-04T15:51:57.522505Z"
    },
    "lines_to_next_cell": 1,
    "papermill": {
     "duration": 0.032623,
     "end_time": "2024-05-04T15:51:57.525192",
     "exception": false,
     "start_time": "2024-05-04T15:51:57.492569",
     "status": "completed"
    },
    "tags": []
   },
   "outputs": [],
   "source": [
    "def findCircleNum(adjM: list[list[int]]) -> int:\n",
    "    N = len(adjM)\n",
    "\n",
    "    visited: set[int] = set()\n",
    "    def DFS(curr: int):\n",
    "        if curr not in visited:\n",
    "            visited.add(curr)\n",
    "            for i in range(N):\n",
    "                if adjM[curr][i]:\n",
    "                    DFS(i)\n",
    "\n",
    "    provinces: int = 0\n",
    "    for curr in range(N):\n",
    "        if curr not in visited:\n",
    "            DFS(curr)\n",
    "            provinces += 1\n",
    "\n",
    "    return provinces\n",
    "\n",
    "# Testing the solution\n",
    "assert findCircleNum([[1,1,0],[1,1,0],[0,0,1]]) == 2\n",
    "assert findCircleNum([[1,0,0],[0,1,0],[0,0,1]]) == 3"
   ]
  },
  {
   "cell_type": "markdown",
   "id": "bab63bca",
   "metadata": {
    "papermill": {
     "duration": 0.021847,
     "end_time": "2024-05-04T15:51:57.569315",
     "exception": false,
     "start_time": "2024-05-04T15:51:57.547468",
     "status": "completed"
    },
    "tags": []
   },
   "source": [
    "Video link: https://youtu.be/muncqlKJrH0?si=xcCfsKjX5tZd4kZJ\n",
    "Number of islands"
   ]
  },
  {
   "cell_type": "code",
   "execution_count": 5,
   "id": "968de0b8",
   "metadata": {
    "execution": {
     "iopub.execute_input": "2024-05-04T15:51:57.615143Z",
     "iopub.status.busy": "2024-05-04T15:51:57.614459Z",
     "iopub.status.idle": "2024-05-04T15:51:57.622608Z",
     "shell.execute_reply": "2024-05-04T15:51:57.621759Z"
    },
    "lines_to_next_cell": 1,
    "papermill": {
     "duration": 0.0332,
     "end_time": "2024-05-04T15:51:57.624426",
     "exception": false,
     "start_time": "2024-05-04T15:51:57.591226",
     "status": "completed"
    },
    "tags": []
   },
   "outputs": [],
   "source": [
    "def numIslands(grid: list[list[int]]) -> int:\n",
    "    N = len(grid)\n",
    "    M = len(grid[0])\n",
    "\n",
    "    def DFS(i: int, j: int):\n",
    "        if 0 <= i < N and 0 <= j < M and grid[i][j] == 1:\n",
    "            grid[i][j] = 0\n",
    "            for i_ in range(-1, 2):\n",
    "                for j_ in range(-1, 2):\n",
    "                    DFS(i + i_, j + j_)\n",
    "\n",
    "    islands = 0\n",
    "    for i_ in range(N):\n",
    "        for j_ in range(M):\n",
    "            if grid[i_][j_] == 1:\n",
    "                islands += 1\n",
    "                DFS(i_, j_)\n",
    "    return islands\n",
    "\n",
    "# Testing the solution\n",
    "assert numIslands([[0,1,1,1,0,0,0],[0,0,1,1,0,1,0]]) == 2\n",
    "assert numIslands([[0,1],[1,0],[1,1],[1,0]]) == 1"
   ]
  },
  {
   "cell_type": "markdown",
   "id": "10f09e20",
   "metadata": {
    "papermill": {
     "duration": 0.022163,
     "end_time": "2024-05-04T15:51:57.669066",
     "exception": false,
     "start_time": "2024-05-04T15:51:57.646903",
     "status": "completed"
    },
    "tags": []
   },
   "source": [
    "Video Link: https://youtu.be/C-2_uSRli8o?si=kwATM2glQc_Mpf76\n",
    "Flood fill: https://leetcode.com/problems/flood-fill/submissions/1237381436"
   ]
  },
  {
   "cell_type": "code",
   "execution_count": 6,
   "id": "1e1a36fc",
   "metadata": {
    "execution": {
     "iopub.execute_input": "2024-05-04T15:51:57.715029Z",
     "iopub.status.busy": "2024-05-04T15:51:57.714305Z",
     "iopub.status.idle": "2024-05-04T15:51:57.722285Z",
     "shell.execute_reply": "2024-05-04T15:51:57.721456Z"
    },
    "lines_to_next_cell": 1,
    "papermill": {
     "duration": 0.033079,
     "end_time": "2024-05-04T15:51:57.724200",
     "exception": false,
     "start_time": "2024-05-04T15:51:57.691121",
     "status": "completed"
    },
    "tags": []
   },
   "outputs": [],
   "source": [
    "def floodFill(image: list[list[int]], sr: int, sc: int, fill_color: int) -> list[list[int]]:\n",
    "\n",
    "    N, M = len(image), len(image[0])\n",
    "\n",
    "    start_color = image[sr][sc]\n",
    "    if start_color != fill_color:\n",
    "        queue: collections.deque = collections.deque([(sr, sc)])\n",
    "\n",
    "        while queue:\n",
    "            i, j = queue.popleft()\n",
    "            if 0 <= i < N and 0 <= j < M and image[i][j] == start_color:\n",
    "                image[i][j] = fill_color\n",
    "                queue.extend([(i - 1, j), (i, j - 1), (i, j + 1), (i + 1, j)])\n",
    "\n",
    "    return image\n",
    "\n",
    "# Testing the solution\n",
    "assert floodFill([[1,1,1],[1,1,0],[1,0,1]], 1, 1, 2) == [[2,2,2],[2,2,0],[2,0,1]]"
   ]
  },
  {
   "cell_type": "markdown",
   "id": "cb576964",
   "metadata": {
    "papermill": {
     "duration": 0.022286,
     "end_time": "2024-05-04T15:51:57.769022",
     "exception": false,
     "start_time": "2024-05-04T15:51:57.746736",
     "status": "completed"
    },
    "tags": []
   },
   "source": [
    "Video Link: https://youtu.be/yf3oUhkvqA0?si=A664tpMiA00GrxJV\n",
    "Rotten Oranges: https://leetcode.com/problems/rotting-oranges/submissions/1237760285"
   ]
  },
  {
   "cell_type": "code",
   "execution_count": 7,
   "id": "8b72ec9b",
   "metadata": {
    "execution": {
     "iopub.execute_input": "2024-05-04T15:51:57.815818Z",
     "iopub.status.busy": "2024-05-04T15:51:57.815150Z",
     "iopub.status.idle": "2024-05-04T15:51:57.827444Z",
     "shell.execute_reply": "2024-05-04T15:51:57.826592Z"
    },
    "lines_to_next_cell": 1,
    "papermill": {
     "duration": 0.037937,
     "end_time": "2024-05-04T15:51:57.829432",
     "exception": false,
     "start_time": "2024-05-04T15:51:57.791495",
     "status": "completed"
    },
    "tags": []
   },
   "outputs": [],
   "source": [
    "def orangesRotting(grid: list[list[int]]) -> int:\n",
    "    \"\"\"\n",
    "    BFS function can be optimized by using a queue. Each element is (i, j, time).\n",
    "    Further more instead of storing all fresh indices as a set, we can simply have a counter and decrement it every time we rot an orange.\n",
    "    Simple check if this counter is 0 before returning minutes.\n",
    "\n",
    "    Time: O(M x N), Space: O(M x N)\n",
    "    \"\"\"\n",
    "    N, M = len(grid), len(grid[0])\n",
    "\n",
    "    rotten: list[tuple[int, int]] = []\n",
    "    def BFS() -> int:\n",
    "        nonlocal rotten\n",
    "        min_: int = 0\n",
    "        while rotten:\n",
    "            newly_rotten = False\n",
    "            next_: list[tuple[int, int]] = []\n",
    "            for i_, j_ in rotten:\n",
    "                if 0 <= i_ < N and 0 <= j_ < M and grid[i_][j_] == 1:\n",
    "                    grid[i_][j_] = 2\n",
    "                    fresh.remove((i_, j_))\n",
    "                    next_.extend([(i_ - 1, j_), (i_, j_ - 1), (i_, j_ + 1), (i_ + 1, j_)])\n",
    "                    newly_rotten = True\n",
    "\n",
    "            min_ += int(newly_rotten)\n",
    "            rotten = next_\n",
    "\n",
    "        return min_\n",
    "\n",
    "    fresh: set[tuple[int, int]] = set()\n",
    "    for i in range(N):\n",
    "        for j in range(M):\n",
    "            if grid[i][j] == 1:\n",
    "                fresh.add((i, j))\n",
    "            if grid[i][j] == 2:\n",
    "                grid[i][j] = 2\n",
    "                rotten.extend([(i - 1, j), (i, j - 1), (i, j + 1), (i + 1, j)])\n",
    "\n",
    "    minutes = BFS()\n",
    "    return minutes if not fresh else -1\n",
    "\n",
    "# Testing the solution\n",
    "assert orangesRotting([[2,1,1],[1,1,0],[0,1,1]]) == 4\n",
    "assert orangesRotting([[2,1,1],[0,1,1],[1,0,1]]) == -1\n",
    "assert orangesRotting([[2,1,1],[1,1,1],[0,1,2]]) == 2"
   ]
  },
  {
   "cell_type": "markdown",
   "id": "eef4c409",
   "metadata": {
    "papermill": {
     "duration": 0.022004,
     "end_time": "2024-05-04T15:51:57.874084",
     "exception": false,
     "start_time": "2024-05-04T15:51:57.852080",
     "status": "completed"
    },
    "tags": []
   },
   "source": [
    "Detect cycle with Graph (BFS / DFS)\n",
    "Video Link BFS: https://youtu.be/BPlrALf1LDU?si=U9u9H_9xiHo8oflx\n",
    "Video Link DFS: https://youtu.be/zQ3zgFypzX4?si=trbPI1I4DfRMcrj5"
   ]
  },
  {
   "cell_type": "code",
   "execution_count": 8,
   "id": "342b6f3b",
   "metadata": {
    "execution": {
     "iopub.execute_input": "2024-05-04T15:51:57.920246Z",
     "iopub.status.busy": "2024-05-04T15:51:57.919689Z",
     "iopub.status.idle": "2024-05-04T15:51:57.931792Z",
     "shell.execute_reply": "2024-05-04T15:51:57.931007Z"
    },
    "lines_to_next_cell": 1,
    "papermill": {
     "duration": 0.037473,
     "end_time": "2024-05-04T15:51:57.933668",
     "exception": false,
     "start_time": "2024-05-04T15:51:57.896195",
     "status": "completed"
    },
    "tags": []
   },
   "outputs": [],
   "source": [
    "def detectCycle(V: int, E: int, edges: list[tuple[int, int]]):\n",
    "    \"\"\"\n",
    "    BFS:\n",
    "\n",
    "    Starting at node i we branch outwards. If some node is visited again and that node didn't come from curr node then we have a cycle\n",
    "    We check if the next node comes from curr by storing the parent in the queue.\n",
    "\n",
    "    We can save duplicate work for disconnected components by storing visited outside of the BFS function. Remember to add the parent != -1 condition.\n",
    "\n",
    "    Time: O(N), Space: O(N)\n",
    "\n",
    "    DFS:\n",
    "\n",
    "    Starting at node i, if we are able to reach node i again via DFS, then the graph has a cycle.\n",
    "    To make sure we don't visit the parent again, we store the parent node in the stack.\n",
    "\n",
    "    Time: O(N), Space: O(N)\n",
    "    \"\"\"\n",
    "    adjl: dict[int, list[int]] = dict()\n",
    "    for n1, n2 in edges:\n",
    "        n1_neighbours, n2_neighbours = adjl.get(n1, []), adjl.get(n2, [])\n",
    "        n1_neighbours.append(n2)\n",
    "        n2_neighbours.append(n1)\n",
    "        adjl[n1], adjl[n2] = n1_neighbours, n2_neighbours\n",
    "\n",
    "    def BFS(root: int) -> bool:\n",
    "        queue: collections.deque = collections.deque([(root, -1)])\n",
    "        while queue:\n",
    "            curr, parent = queue.popleft()\n",
    "            visited.add(curr)\n",
    "            for next_ in adjl.get(curr, []):\n",
    "                if next_ not in visited:\n",
    "                    queue.append((next_, curr))\n",
    "                elif parent != -1 and next_ != parent:\n",
    "                    return True\n",
    "        else:\n",
    "            return False\n",
    "\n",
    "    def DFS(root: int) -> bool:\n",
    "        stack: list[tuple[int, int]] = [(root, -1)]\n",
    "        while stack:\n",
    "            curr, parent = stack.pop()\n",
    "            if curr not in visited:\n",
    "                visited.add(curr)\n",
    "                for next_ in adjl.get(curr, []):\n",
    "                    if next_ != parent:\n",
    "                        stack.append((next_, curr))\n",
    "\n",
    "            elif parent != -1:\n",
    "                return True\n",
    "\n",
    "        return False\n",
    "\n",
    "    visited: set[int] = set()\n",
    "    for curr in range(V):\n",
    "        if DFS(curr):\n",
    "            return True\n",
    "    else:\n",
    "        return False\n",
    "\n",
    "assert detectCycle(5, 3, [(0, 1), (1, 2), (3, 4)]) == False\n",
    "assert detectCycle(4, 4, [(0, 1), (1, 2), (2, 3), (3, 0)]) == True"
   ]
  },
  {
   "cell_type": "markdown",
   "id": "86e956f5",
   "metadata": {
    "papermill": {
     "duration": 0.022169,
     "end_time": "2024-05-04T15:51:57.978503",
     "exception": false,
     "start_time": "2024-05-04T15:51:57.956334",
     "status": "completed"
    },
    "tags": []
   },
   "source": [
    "Video Link: https://youtu.be/edXdVwkYHF8?si=oTave6oul5GbDHrn\n",
    "01 Matrix: https://leetcode.com/problems/01-matrix/"
   ]
  },
  {
   "cell_type": "code",
   "execution_count": 9,
   "id": "14c07211",
   "metadata": {
    "execution": {
     "iopub.execute_input": "2024-05-04T15:51:58.025481Z",
     "iopub.status.busy": "2024-05-04T15:51:58.024711Z",
     "iopub.status.idle": "2024-05-04T15:51:58.035607Z",
     "shell.execute_reply": "2024-05-04T15:51:58.034918Z"
    },
    "lines_to_next_cell": 1,
    "papermill": {
     "duration": 0.036463,
     "end_time": "2024-05-04T15:51:58.037373",
     "exception": false,
     "start_time": "2024-05-04T15:51:58.000910",
     "status": "completed"
    },
    "tags": []
   },
   "outputs": [],
   "source": [
    "def updateMatrixBrute(mat: list[list[int]]) -> list[list[int]]:\n",
    "    M, N = len(mat), len(mat[0])\n",
    "    result: list[list[int]] = [[-1 for i in range(N)] for j in range(M)]\n",
    "\n",
    "    def BFS(row: int, col: int) -> int:\n",
    "        queue: collections.deque = collections.deque([(row, col, 0)])\n",
    "        visited: set[tuple[int, int]] = set()\n",
    "        while queue:\n",
    "            i, j, dist = queue.popleft()\n",
    "            if (i, j) not in visited and 0 <= i < M and 0 <= j < N:\n",
    "                visited.add((i, j))\n",
    "                if mat[i][j] == 0:\n",
    "                    return dist\n",
    "                else:\n",
    "                    queue.extend([(i - 1, j, dist + 1), (i, j - 1, dist + 1), (i, j + 1, dist + 1), (i + 1, j, dist + 1)])\n",
    "\n",
    "        return -1\n",
    "\n",
    "    for i in range(M):\n",
    "        for j in range(N):\n",
    "            result[i][j] = BFS(i, j)\n",
    "\n",
    "    return result\n",
    "\n",
    "# Testing the solution\n",
    "assert updateMatrixBrute([[0,0,0],[0,1,0],[0,0,0]]) == [[0,0,0],[0,1,0],[0,0,0]]\n",
    "assert updateMatrixBrute([[0,0,0],[0,1,0],[1,1,1]]) == [[0,0,0],[0,1,0],[1,2,1]]"
   ]
  },
  {
   "cell_type": "code",
   "execution_count": 10,
   "id": "251805ef",
   "metadata": {
    "execution": {
     "iopub.execute_input": "2024-05-04T15:51:58.084501Z",
     "iopub.status.busy": "2024-05-04T15:51:58.083771Z",
     "iopub.status.idle": "2024-05-04T15:51:58.097434Z",
     "shell.execute_reply": "2024-05-04T15:51:58.096687Z"
    },
    "lines_to_next_cell": 1,
    "papermill": {
     "duration": 0.038989,
     "end_time": "2024-05-04T15:51:58.099162",
     "exception": false,
     "start_time": "2024-05-04T15:51:58.060173",
     "status": "completed"
    },
    "tags": []
   },
   "outputs": [],
   "source": [
    "# https://leetcode.com/problems/01-matrix/submissions/1238008344\n",
    "def updateMatrixBetter(mat: list[list[int]]) -> list[list[float]]:\n",
    "    M, N = len(mat), len(mat[0])\n",
    "    result: list[list[float]] = [[math.inf for j in range(N)] for i in range(M)]\n",
    "\n",
    "    # Go right to left to find the nearest 0 on the right\n",
    "    for i in range(M):\n",
    "        for j in range(N - 1, -1, -1):\n",
    "            if mat[i][j] == 0:\n",
    "                result[i][j] = 0\n",
    "            else:\n",
    "                dist = result[i][j + 1] + 1 if j < N - 1 else math.inf\n",
    "                result[i][j] = min(dist, result[i][j])\n",
    "\n",
    "    # Go left to right to find the nearest 0 on the left\n",
    "    for i in range(M):\n",
    "        for j in range(N):\n",
    "            if mat[i][j] == 0:\n",
    "                result[i][j] = 0\n",
    "            else:\n",
    "                dist = result[i][j - 1] + 1 if j > 0 else math.inf\n",
    "                result[i][j] = min(dist, result[i][j])\n",
    "\n",
    "    # Go top to bottom to find the nearest 0 on the top\n",
    "    for i in range(M):\n",
    "        for j in range(N):\n",
    "            if mat[i][j] == 0:\n",
    "                result[i][j] = 0\n",
    "            else:\n",
    "                dist = result[i - 1][j] + 1 if i > 0 else math.inf\n",
    "                result[i][j] = min(dist, result[i][j])\n",
    "\n",
    "    # Go bottom to top to find the nearest 0 on the bottom\n",
    "    for i in range(M - 1, -1, -1):\n",
    "        for j in range(N):\n",
    "            if mat[i][j] == 0:\n",
    "                result[i][j] = 0\n",
    "            else:\n",
    "                dist = result[i + 1][j] + 1 if i < M - 1 else math.inf\n",
    "                result[i][j] = min(dist, result[i][j])\n",
    "\n",
    "    return result\n",
    "\n",
    "# Testing the solution\n",
    "assert updateMatrixBetter([[0,0,0],[0,1,0],[0,0,0]]) == [[0,0,0],[0,1,0],[0,0,0]]\n",
    "assert updateMatrixBetter([[0,0,0],[0,1,0],[1,1,1]]) == [[0,0,0],[0,1,0],[1,2,1]]"
   ]
  },
  {
   "cell_type": "code",
   "execution_count": 11,
   "id": "9469ade5",
   "metadata": {
    "execution": {
     "iopub.execute_input": "2024-05-04T15:51:58.146002Z",
     "iopub.status.busy": "2024-05-04T15:51:58.145223Z",
     "iopub.status.idle": "2024-05-04T15:51:58.155703Z",
     "shell.execute_reply": "2024-05-04T15:51:58.155043Z"
    },
    "lines_to_next_cell": 1,
    "papermill": {
     "duration": 0.03553,
     "end_time": "2024-05-04T15:51:58.157426",
     "exception": false,
     "start_time": "2024-05-04T15:51:58.121896",
     "status": "completed"
    },
    "tags": []
   },
   "outputs": [],
   "source": [
    "# https://leetcode.com/problems/01-matrix/submissions/1238019317/\n",
    "def updateMatrix(mat: list[list[int]]) -> list[list[float]]:\n",
    "    \"\"\"Time: O(M x N), Space: O(M x N)\"\"\"\n",
    "\n",
    "    M, N = len(mat), len(mat[0])\n",
    "    result: list[list[float]] = [[math.inf for j in range(N)] for i in range(M)]\n",
    "\n",
    "    # Collect all nodes that are having 0 values: i, j, dist\n",
    "    queue: collections.deque = collections.deque()\n",
    "    for i in range(M):\n",
    "        for j in range(N):\n",
    "            if mat[i][j] == 0:\n",
    "                queue.append((i, j, 0))\n",
    "\n",
    "    # Start to traverse BFS together\n",
    "    visited: set[tuple[int, int]] = set()\n",
    "    while queue:\n",
    "        i, j, dist = queue.popleft()\n",
    "        if 0 <= i < M and 0 <= j < N and (i, j) not in visited:\n",
    "            result[i][j] = dist\n",
    "            visited.add((i, j))\n",
    "            queue.extend([(i - 1, j, dist + 1), (i, j - 1, dist + 1), (i, j + 1, dist + 1), (i + 1, j, dist + 1)])\n",
    "\n",
    "    return result\n",
    "\n",
    "# Testing the solution\n",
    "assert updateMatrix([[0,0,0],[0,1,0],[0,0,0]]) == [[0,0,0],[0,1,0],[0,0,0]]\n",
    "assert updateMatrix([[0,0,0],[0,1,0],[1,1,1]]) == [[0,0,0],[0,1,0],[1,2,1]]"
   ]
  },
  {
   "cell_type": "markdown",
   "id": "0b3a1d29",
   "metadata": {
    "papermill": {
     "duration": 0.022099,
     "end_time": "2024-05-04T15:51:58.203397",
     "exception": false,
     "start_time": "2024-05-04T15:51:58.181298",
     "status": "completed"
    },
    "tags": []
   },
   "source": [
    "Video Link: https://youtu.be/BtdgAys4yMk?si=BLc-UXXR9XvQV8Mf\n",
    "Surrounded Regions: https://leetcode.com/problems/surrounded-regions/description/"
   ]
  },
  {
   "cell_type": "code",
   "execution_count": 12,
   "id": "3610e726",
   "metadata": {
    "execution": {
     "iopub.execute_input": "2024-05-04T15:51:58.249818Z",
     "iopub.status.busy": "2024-05-04T15:51:58.249121Z",
     "iopub.status.idle": "2024-05-04T15:51:58.261053Z",
     "shell.execute_reply": "2024-05-04T15:51:58.260383Z"
    },
    "lines_to_next_cell": 1,
    "papermill": {
     "duration": 0.037181,
     "end_time": "2024-05-04T15:51:58.262836",
     "exception": false,
     "start_time": "2024-05-04T15:51:58.225655",
     "status": "completed"
    },
    "tags": []
   },
   "outputs": [],
   "source": [
    "# https://leetcode.com/problems/surrounded-regions/submissions/1238092752\n",
    "def solve(board: list[list[str]]) -> None:\n",
    "    \"Time: O(M x N), Time: O(M x N)\"\n",
    "    M, N = len(board), len(board[0])\n",
    "\n",
    "    stack: list[tuple[int, int]] = []\n",
    "    visited: set[tuple[int, int]] = set()\n",
    "\n",
    "    # Capture all zeros at the borders\n",
    "    for i in range(M):\n",
    "        for j in range(N):\n",
    "            if (i in (0, M - 1) or j in (0, N - 1)) and board[i][j] == \"O\":\n",
    "                stack.append((i, j))\n",
    "\n",
    "    # Do a DFS and mark zeros into visited\n",
    "    while stack:\n",
    "        i, j = stack.pop()\n",
    "        visited.add((i, j))\n",
    "        for x, y in [(-1, 0), (0, -1), (0, 1), (1, 0)]:\n",
    "            row, col = i + x, j + y\n",
    "            if 0 <= row < M and 0 <= col < N and board[row][col] == 'O' and (row, col) not in visited:\n",
    "                stack.append((row, col))\n",
    "\n",
    "    # Visited set contains all 'O' adjacent to 'O's that cannot be flipped\n",
    "    for i in range(M):\n",
    "        for j in range(N):\n",
    "            if (i, j) not in visited:\n",
    "                board[i][j] = \"X\"\n",
    "\n",
    "# Testing the solution\n",
    "for inp, op in [\n",
    "    (\n",
    "        [[\"X\",\"X\",\"X\",\"X\"],[\"X\",\"O\",\"O\",\"X\"],[\"X\",\"X\",\"O\",\"X\"],[\"X\",\"O\",\"X\",\"X\"]],\n",
    "        [[\"X\",\"X\",\"X\",\"X\"],[\"X\",\"X\",\"X\",\"X\"],[\"X\",\"X\",\"X\",\"X\"],[\"X\",\"O\",\"X\",\"X\"]]\n",
    "    ),\n",
    "    (\n",
    "        [[\"X\",\"X\",\"X\",\"X\"],[\"X\",\"O\",\"O\",\"X\"],[\"X\",\"X\",\"O\",\"X\"],[\"X\",\"X\",\"O\",\"X\"]],\n",
    "        [[\"X\",\"X\",\"X\",\"X\"],[\"X\",\"O\",\"O\",\"X\"],[\"X\",\"X\",\"O\",\"X\"],[\"X\",\"X\",\"O\",\"X\"]]\n",
    "    )\n",
    "]:\n",
    "    solve(inp)\n",
    "    assert inp == op"
   ]
  },
  {
   "cell_type": "markdown",
   "id": "0b264d5d",
   "metadata": {
    "papermill": {
     "duration": 0.022259,
     "end_time": "2024-05-04T15:51:58.307524",
     "exception": false,
     "start_time": "2024-05-04T15:51:58.285265",
     "status": "completed"
    },
    "tags": []
   },
   "source": [
    "Number of Enclaves\n",
    "Video Link: https://youtu.be/7zmgQSJghpo?si=XSGlRuO_V105V2XK"
   ]
  },
  {
   "cell_type": "code",
   "execution_count": 13,
   "id": "5647a7a1",
   "metadata": {
    "execution": {
     "iopub.execute_input": "2024-05-04T15:51:58.354180Z",
     "iopub.status.busy": "2024-05-04T15:51:58.353777Z",
     "iopub.status.idle": "2024-05-04T15:51:58.363289Z",
     "shell.execute_reply": "2024-05-04T15:51:58.362543Z"
    },
    "lines_to_next_cell": 1,
    "papermill": {
     "duration": 0.03482,
     "end_time": "2024-05-04T15:51:58.364946",
     "exception": false,
     "start_time": "2024-05-04T15:51:58.330126",
     "status": "completed"
    },
    "tags": []
   },
   "outputs": [],
   "source": [
    "# https://leetcode.com/problems/number-of-enclaves/submissions/1238117024\n",
    "def numEnclaves(grid: list[list[int]]) -> int:\n",
    "    \"Time: O(M x N), Space: O(M x N) recursion stack space\"\n",
    "    M, N = len(grid), len(grid[0])\n",
    "\n",
    "    def DFS(row: int, col: int):\n",
    "        grid[row][col] = 0\n",
    "        for x, y in [(-1, 0), (0, -1), (0, 1), (1, 0)]:\n",
    "            i_, j_ = row + x, col + y\n",
    "            if 0 <= i_ < M and 0 <= j_ < N and grid[i_][j_] == 1:\n",
    "                DFS(i_, j_)\n",
    "\n",
    "    for i in range(M):\n",
    "        for j in range(N):\n",
    "            if (i in (0, M - 1) or j in (0, N - 1)) and grid[i][j] == 1:\n",
    "                DFS(i, j)\n",
    "\n",
    "    enclaves = 0\n",
    "    for i in range(M):\n",
    "        for j in range(N):\n",
    "            if grid[i][j] == 1:\n",
    "                enclaves += 1\n",
    "\n",
    "    return enclaves\n",
    "\n",
    "# Testing the solution\n",
    "assert numEnclaves([[0,0,0,0],[1,0,1,0],[0,1,1,0],[0,0,0,0]]) == 3\n",
    "assert numEnclaves([[0,1,1,0],[0,0,1,0],[0,0,1,0],[0,0,0,0]]) == 0"
   ]
  },
  {
   "cell_type": "markdown",
   "id": "83ddc4a6",
   "metadata": {
    "papermill": {
     "duration": 0.022151,
     "end_time": "2024-05-04T15:51:58.409595",
     "exception": false,
     "start_time": "2024-05-04T15:51:58.387444",
     "status": "completed"
    },
    "tags": []
   },
   "source": [
    "Video link: https://youtu.be/7zmgQSJghpo?si=VR9VnvBwe-esRaau\n",
    "Distinct Islands"
   ]
  },
  {
   "cell_type": "code",
   "execution_count": 14,
   "id": "77dd14f8",
   "metadata": {
    "execution": {
     "iopub.execute_input": "2024-05-04T15:51:58.456386Z",
     "iopub.status.busy": "2024-05-04T15:51:58.455662Z",
     "iopub.status.idle": "2024-05-04T15:51:58.467229Z",
     "shell.execute_reply": "2024-05-04T15:51:58.466540Z"
    },
    "lines_to_next_cell": 1,
    "papermill": {
     "duration": 0.036977,
     "end_time": "2024-05-04T15:51:58.469004",
     "exception": false,
     "start_time": "2024-05-04T15:51:58.432027",
     "status": "completed"
    },
    "tags": []
   },
   "outputs": [],
   "source": [
    "def distinctIsland(arr: list[list[int]], N: int, M: int) :\n",
    "    \"Time: O(M x N), Space: O(M x N)\"\n",
    "\n",
    "    islands: set[tuple[tuple[int, int], ...]] = set()\n",
    "    visited: set[tuple[int, int]] = set()\n",
    "\n",
    "    def BFS(row: int, col: int) -> tuple[tuple[int, int], ...]:\n",
    "        # Time: O(M x N)\n",
    "        queue: collections.deque = collections.deque([(row, col)])\n",
    "        island: list[tuple[int, int]] = []\n",
    "        while queue:\n",
    "            i, j = queue.popleft()\n",
    "            if 0 <= i < N and 0 <= j < M and (i, j) not in visited and arr[i][j] == 1:\n",
    "                visited.add((i, j))\n",
    "                island.append((i - row, j - col))\n",
    "                queue.extend([(i - 1, j), (i, j - 1), (i, j + 1), (i + 1, j)])\n",
    "\n",
    "        return tuple(island)\n",
    "\n",
    "    for i in range(N):\n",
    "        for j in range(M):\n",
    "            if arr[i][j] == 1:\n",
    "                island: tuple[tuple[int, int], ...] = BFS(i, j)\n",
    "                if island:\n",
    "                    islands.add(island)\n",
    "\n",
    "    return len(islands)\n",
    "\n",
    "# Testing the solution\n",
    "assert distinctIsland([[1, 1, 0, 0, 0], [1, 1, 0, 0, 0], [0, 0, 0, 1, 1], [0, 0, 0, 1, 1]], 4, 5) == 1\n",
    "assert distinctIsland([[1, 1, 0, 1, 1], [1, 0, 0, 0, 0], [0, 0, 0, 0, 1], [1, 1, 0, 1, 1]], 4, 5) == 3"
   ]
  },
  {
   "cell_type": "markdown",
   "id": "f49a3367",
   "metadata": {
    "papermill": {
     "duration": 0.022181,
     "end_time": "2024-05-04T15:51:58.513856",
     "exception": false,
     "start_time": "2024-05-04T15:51:58.491675",
     "status": "completed"
    },
    "tags": []
   },
   "source": [
    "Video Link: https://youtu.be/-vu34sct1g8?si=H2DEd5HB-B6oAU4p\n",
    "Bipartite Graph (BFS): https://leetcode.com/problems/is-graph-bipartite/description/"
   ]
  },
  {
   "cell_type": "code",
   "execution_count": 15,
   "id": "8584fbc4",
   "metadata": {
    "execution": {
     "iopub.execute_input": "2024-05-04T15:51:58.559831Z",
     "iopub.status.busy": "2024-05-04T15:51:58.559273Z",
     "iopub.status.idle": "2024-05-04T15:51:58.569358Z",
     "shell.execute_reply": "2024-05-04T15:51:58.568598Z"
    },
    "lines_to_next_cell": 1,
    "papermill": {
     "duration": 0.035139,
     "end_time": "2024-05-04T15:51:58.571212",
     "exception": false,
     "start_time": "2024-05-04T15:51:58.536073",
     "status": "completed"
    },
    "tags": []
   },
   "outputs": [],
   "source": [
    "def isBipartite(graph: list[list[int]]) -> bool:\n",
    "    \"Time: O(N), Space: O(N)\"\n",
    "    visited: dict[int, bool] = dict()\n",
    "    def checkBipartiteBFS(root: int) -> bool:\n",
    "        # https://leetcode.com/problems/is-graph-bipartite/submissions/1238665067\n",
    "        queue: collections.deque = collections.deque([(root, True)])\n",
    "        while queue:\n",
    "            curr, color = queue.popleft()\n",
    "            if curr not in visited:\n",
    "                visited[curr] = color\n",
    "                for next_ in graph[curr]:\n",
    "                    queue.append((next_, not color))\n",
    "            elif color != visited[curr]:\n",
    "                return False\n",
    "        return True\n",
    "\n",
    "    def checkBipartiteDFS(root: int) -> bool:\n",
    "        # https://leetcode.com/problems/is-graph-bipartite/submissions/1238671846/\n",
    "        stack: list[tuple[int, bool]] = [(root, True)]\n",
    "        while stack:\n",
    "            curr, color = stack.pop()\n",
    "            if curr not in visited:\n",
    "                visited[curr] = color\n",
    "                for next_ in graph[curr]:\n",
    "                    stack.append((next_, not color))\n",
    "            elif color != visited[curr]:\n",
    "                return False\n",
    "\n",
    "        return True\n",
    "\n",
    "    for curr in range(len(graph)):\n",
    "        if curr not in visited and not checkBipartiteDFS(curr):\n",
    "            return False\n",
    "\n",
    "    return True\n",
    "\n",
    "# Testing the solution\n",
    "assert isBipartite([[1,2,3],[0,2],[0,1,3],[0,2]]) == False\n",
    "assert isBipartite([[1,3],[0,2],[1,3],[0,2]]) == True"
   ]
  },
  {
   "cell_type": "markdown",
   "id": "b8c8a001",
   "metadata": {
    "papermill": {
     "duration": 0.022886,
     "end_time": "2024-05-04T15:51:58.617204",
     "exception": false,
     "start_time": "2024-05-04T15:51:58.594318",
     "status": "completed"
    },
    "tags": []
   },
   "source": [
    "Detect cycle in directed graph with DFS: https://youtu.be/9twcmtQj4DU?si=2xZsVlk1bdtLbHz5"
   ]
  },
  {
   "cell_type": "code",
   "execution_count": 16,
   "id": "f1cf48b4",
   "metadata": {
    "execution": {
     "iopub.execute_input": "2024-05-04T15:51:58.664423Z",
     "iopub.status.busy": "2024-05-04T15:51:58.663859Z",
     "iopub.status.idle": "2024-05-04T15:51:58.672612Z",
     "shell.execute_reply": "2024-05-04T15:51:58.671853Z"
    },
    "lines_to_next_cell": 1,
    "papermill": {
     "duration": 0.03415,
     "end_time": "2024-05-04T15:51:58.674286",
     "exception": false,
     "start_time": "2024-05-04T15:51:58.640136",
     "status": "completed"
    },
    "tags": []
   },
   "outputs": [],
   "source": [
    "def isCyclicDFS(V: int, E: int, edges: list[tuple[int, int]]) -> bool:\n",
    "    adjl: dict[int, list[int]] = dict()\n",
    "    for n1, n2 in edges:\n",
    "        n1_neighbours = adjl.get(n1, [])\n",
    "        n1_neighbours.append(n2)\n",
    "        adjl[n1] = n1_neighbours\n",
    "\n",
    "    def checkCycle(root: int, paths: set[int] = set()) -> bool:\n",
    "        if root in paths:\n",
    "            return True\n",
    "        elif root in visited:\n",
    "            return False\n",
    "        else:\n",
    "            visited.add(root)\n",
    "            paths.add(root)\n",
    "            for next_ in adjl.get(root, []):\n",
    "                if checkCycle(next_, paths):\n",
    "                    return True\n",
    "            paths.remove(root)\n",
    "            return False\n",
    "\n",
    "    visited: set[int] = set()\n",
    "    for curr in range(V):\n",
    "        if checkCycle(curr):\n",
    "            return True\n",
    "    else:\n",
    "        return False\n",
    "\n",
    "# Testing the solution\n",
    "assert isCyclicDFS(4, 4, [(0,1), (1,2), (2,3), (3,0)]) == True\n",
    "assert isCyclicDFS(3, 3, [(1,0), (1,2), (0,2)]) == False"
   ]
  },
  {
   "cell_type": "markdown",
   "id": "a75c6088",
   "metadata": {
    "papermill": {
     "duration": 0.022946,
     "end_time": "2024-05-04T15:51:58.719672",
     "exception": false,
     "start_time": "2024-05-04T15:51:58.696726",
     "status": "completed"
    },
    "tags": []
   },
   "source": [
    "Eventual Safe states (DFS): https://youtu.be/uRbJ1OF9aYM?si=8J-ujp8LUkpO887c"
   ]
  },
  {
   "cell_type": "code",
   "execution_count": 17,
   "id": "e3bfb6f2",
   "metadata": {
    "execution": {
     "iopub.execute_input": "2024-05-04T15:51:58.766594Z",
     "iopub.status.busy": "2024-05-04T15:51:58.766235Z",
     "iopub.status.idle": "2024-05-04T15:51:58.774673Z",
     "shell.execute_reply": "2024-05-04T15:51:58.773914Z"
    },
    "lines_to_next_cell": 1,
    "papermill": {
     "duration": 0.033598,
     "end_time": "2024-05-04T15:51:58.776306",
     "exception": false,
     "start_time": "2024-05-04T15:51:58.742708",
     "status": "completed"
    },
    "tags": []
   },
   "outputs": [],
   "source": [
    "# https://leetcode.com/problems/find-eventual-safe-states/submissions/1239573858\n",
    "def eventualSafeNodes(V: int, adj: list[list[int]]) -> list[int]:\n",
    "\n",
    "    # Visited - True if unsafe, False otherwise\n",
    "    visited: dict[int, bool] = dict()\n",
    "\n",
    "    def checkCycle(root: int, paths: set[int] = set()) -> bool:\n",
    "        if root in visited:\n",
    "            return visited[root]\n",
    "        elif root in paths:\n",
    "            return True\n",
    "        else:\n",
    "            paths.add(root)\n",
    "            for next_ in adj[root]:\n",
    "                if checkCycle(next_, paths):\n",
    "                    visited[root] = True\n",
    "                    return True\n",
    "\n",
    "            paths.remove(root)\n",
    "            visited[root] = False\n",
    "            return False\n",
    "\n",
    "    result: list[int] = []\n",
    "    for curr in range(V):\n",
    "        if not checkCycle(curr):\n",
    "            result.append(curr)\n",
    "\n",
    "    return result\n",
    "\n",
    "# Testing the solution\n",
    "assert eventualSafeNodes(7, [[1, 2], [2, 3], [5], [0], [5], [], []]) == [2, 4, 5, 6]\n",
    "assert eventualSafeNodes(4, [[1], [2], [0,3], []]) == [3]"
   ]
  },
  {
   "cell_type": "markdown",
   "id": "e2a1e13b",
   "metadata": {
    "papermill": {
     "duration": 0.022139,
     "end_time": "2024-05-04T15:51:58.820684",
     "exception": false,
     "start_time": "2024-05-04T15:51:58.798545",
     "status": "completed"
    },
    "tags": []
   },
   "source": [
    "Topological sorting DFS: https://youtu.be/5lZ0iJMrUMk?si=lSTD3o2QoGGjiwxO"
   ]
  },
  {
   "cell_type": "code",
   "execution_count": 18,
   "id": "806cdb46",
   "metadata": {
    "execution": {
     "iopub.execute_input": "2024-05-04T15:51:58.867159Z",
     "iopub.status.busy": "2024-05-04T15:51:58.866432Z",
     "iopub.status.idle": "2024-05-04T15:51:58.878942Z",
     "shell.execute_reply": "2024-05-04T15:51:58.878129Z"
    },
    "lines_to_next_cell": 1,
    "papermill": {
     "duration": 0.037822,
     "end_time": "2024-05-04T15:51:58.880755",
     "exception": false,
     "start_time": "2024-05-04T15:51:58.842933",
     "status": "completed"
    },
    "tags": []
   },
   "outputs": [
    {
     "data": {
      "text/plain": [
       "[0, 3, 1, 2, 4]"
      ]
     },
     "execution_count": 18,
     "metadata": {},
     "output_type": "execute_result"
    }
   ],
   "source": [
    "def topologicalSortBetter(adj: dict[int, list[int]], V: int, E: int):\n",
    "    \"Time: O((V + E) x log (V + E)), Space: O(N)\"\n",
    "    def calcWeights(root: int) -> int:\n",
    "        if root in weights:\n",
    "            return weights[root]\n",
    "        else:\n",
    "            weight = 1\n",
    "            for next_ in adj.get(root, []):\n",
    "                weight += calcWeights(next_)\n",
    "\n",
    "            weights[root] = weight\n",
    "            return weight\n",
    "\n",
    "    weights: dict[int, int] = dict()\n",
    "    result: list[int] = []\n",
    "    for curr in range(V):\n",
    "        calcWeights(curr)\n",
    "        result.append(curr)\n",
    "\n",
    "    result.sort(key=lambda x: weights[x], reverse=True)\n",
    "    return result\n",
    "\n",
    "# Testing the solution\n",
    "topologicalSortBetter({0: [2,4], 1: [2], 3: [1]}, 5, 4)"
   ]
  },
  {
   "cell_type": "code",
   "execution_count": 19,
   "id": "8365f0a8",
   "metadata": {
    "execution": {
     "iopub.execute_input": "2024-05-04T15:51:58.928519Z",
     "iopub.status.busy": "2024-05-04T15:51:58.927838Z",
     "iopub.status.idle": "2024-05-04T15:51:58.937216Z",
     "shell.execute_reply": "2024-05-04T15:51:58.936454Z"
    },
    "lines_to_next_cell": 1,
    "papermill": {
     "duration": 0.035352,
     "end_time": "2024-05-04T15:51:58.939031",
     "exception": false,
     "start_time": "2024-05-04T15:51:58.903679",
     "status": "completed"
    },
    "tags": []
   },
   "outputs": [
    {
     "data": {
      "text/plain": [
       "[5, 4, 2, 3, 1, 0]"
      ]
     },
     "execution_count": 19,
     "metadata": {},
     "output_type": "execute_result"
    }
   ],
   "source": [
    "# Much more brilliant and clean approach from Striver\n",
    "def topologicalSortDFS(adj: dict[int, list[int]], V: int, E: int):\n",
    "    \"Time: O(V + E), Space: O(N)\"\n",
    "    def backtrack(root: int):\n",
    "        if root in visited:\n",
    "            return\n",
    "        else:\n",
    "            visited.add(root)\n",
    "            for next_ in adj.get(root, []):\n",
    "                backtrack(next_)\n",
    "            stack.append(root)\n",
    "\n",
    "    visited: set[int] = set()\n",
    "    stack: list[int] = []\n",
    "    for curr in range(V):\n",
    "        backtrack(curr)\n",
    "\n",
    "    stack.reverse()\n",
    "    return stack\n",
    "\n",
    "# Testing the solution\n",
    "topologicalSortDFS({0: [], 1: [], 2: [3], 3: [1], 4: [0,1], 5: [0,2]}, 6, 6)"
   ]
  },
  {
   "cell_type": "markdown",
   "id": "166e867d",
   "metadata": {
    "papermill": {
     "duration": 0.022405,
     "end_time": "2024-05-04T15:51:58.984244",
     "exception": false,
     "start_time": "2024-05-04T15:51:58.961839",
     "status": "completed"
    },
    "tags": []
   },
   "source": [
    "Topological Sorting with BFS (Kahn's Algorithm): https://youtu.be/73sneFXuTEg?si=TeG_vMqnXLz2NR6M"
   ]
  },
  {
   "cell_type": "code",
   "execution_count": 20,
   "id": "9aca2f0e",
   "metadata": {
    "execution": {
     "iopub.execute_input": "2024-05-04T15:51:59.031287Z",
     "iopub.status.busy": "2024-05-04T15:51:59.030557Z",
     "iopub.status.idle": "2024-05-04T15:51:59.041828Z",
     "shell.execute_reply": "2024-05-04T15:51:59.041080Z"
    },
    "lines_to_next_cell": 1,
    "papermill": {
     "duration": 0.036981,
     "end_time": "2024-05-04T15:51:59.043528",
     "exception": false,
     "start_time": "2024-05-04T15:51:59.006547",
     "status": "completed"
    },
    "tags": []
   },
   "outputs": [
    {
     "data": {
      "text/plain": [
       "[4, 5, 0, 2, 3, 1]"
      ]
     },
     "execution_count": 20,
     "metadata": {},
     "output_type": "execute_result"
    }
   ],
   "source": [
    "def topologicalSortBFS(adj: dict[int, list[int]], V: int, E: int):\n",
    "    \"\"\"\n",
    "    Topo sort using BFS - Kahn's Algo.\n",
    "\n",
    "    1. Figure out all nodes with indegree 0 and insert them into a queue.\n",
    "    2. Iterate across the elements of the queue and on each step, we decrease indegree of all adjancent nodes.\n",
    "    3. Once iterated across all neighbouring nodes we insert the node into our linear ordering.\n",
    "\n",
    "    Time: O(V + E), Space: O(N)\n",
    "    \"\"\"\n",
    "\n",
    "    # Compute the indegree of all nodes\n",
    "    indegree: dict[int, int] = dict()\n",
    "    for n1 in range(V):\n",
    "        for n2 in adj[n1]:\n",
    "            indegree[n2] = indegree.get(n2, 0) + 1\n",
    "\n",
    "    # All nodes with indegree 0 are added to our queue\n",
    "    queue: collections.deque = collections.deque()\n",
    "    for n1 in range(V):\n",
    "        if n1 not in indegree:\n",
    "            indegree[n1] = 0\n",
    "            queue.append(n1)\n",
    "\n",
    "    # BFS, popout nodes with 0 indegrees.\n",
    "    # Iterate through neighbours and decrease indegree by 1.\n",
    "    # If indegree becomes 0, append to our queue.\n",
    "    result: list[int] = []\n",
    "    while queue:\n",
    "        n1 = queue.popleft()\n",
    "        for n2 in adj.get(n1, []):\n",
    "            indegree[n2] = indegree[n2] - 1\n",
    "            if indegree[n2] == 0:\n",
    "                queue.append(n2)\n",
    "        result.append(n1)\n",
    "\n",
    "    return result\n",
    "\n",
    "# Testing the solution\n",
    "topologicalSortBFS({0: [], 1: [], 2: [3], 3: [1], 4: [0,1], 5: [0,2]}, 6, 6)"
   ]
  },
  {
   "cell_type": "markdown",
   "id": "318e0702",
   "metadata": {
    "papermill": {
     "duration": 0.022343,
     "end_time": "2024-05-04T15:51:59.088825",
     "exception": false,
     "start_time": "2024-05-04T15:51:59.066482",
     "status": "completed"
    },
    "tags": []
   },
   "source": [
    "Video Link: https://youtu.be/WAOfKpxYHR8?si=KdXRvzRuinvS50gx"
   ]
  },
  {
   "cell_type": "markdown",
   "id": "bd6a415c",
   "metadata": {
    "papermill": {
     "duration": 0.022407,
     "end_time": "2024-05-04T15:51:59.133599",
     "exception": false,
     "start_time": "2024-05-04T15:51:59.111192",
     "status": "completed"
    },
    "tags": []
   },
   "source": [
    "Course schedule - 1: https://leetcode.com/problems/course-schedule/submissions/1240848705/"
   ]
  },
  {
   "cell_type": "code",
   "execution_count": 21,
   "id": "d2aca589",
   "metadata": {
    "execution": {
     "iopub.execute_input": "2024-05-04T15:51:59.182467Z",
     "iopub.status.busy": "2024-05-04T15:51:59.181782Z",
     "iopub.status.idle": "2024-05-04T15:51:59.190983Z",
     "shell.execute_reply": "2024-05-04T15:51:59.190165Z"
    },
    "lines_to_next_cell": 1,
    "papermill": {
     "duration": 0.0365,
     "end_time": "2024-05-04T15:51:59.192804",
     "exception": false,
     "start_time": "2024-05-04T15:51:59.156304",
     "status": "completed"
    },
    "tags": []
   },
   "outputs": [],
   "source": [
    "def canFinish(numCourses: int, prerequisites: list[list[int]]) -> bool:\n",
    "    \"\"\"\n",
    "    Run Kahn's algorithm and check the topological sort output. If length of op < numCourses, we have a cycle.\n",
    "\n",
    "    Time: O(V + E), Space: O(V)\n",
    "    \"\"\"\n",
    "\n",
    "    # Create an adjacency list\n",
    "    adj: dict[int, list[int]] = dict()\n",
    "    for n1, n2 in prerequisites:\n",
    "        n1_neighbours = adj.get(n1, [])\n",
    "        n1_neighbours.append(n2)\n",
    "        adj[n1] = n1_neighbours\n",
    "\n",
    "    # Compute indegree for all nodes\n",
    "    indegree: dict[int, int] = dict()\n",
    "    for edges in adj.values():\n",
    "        for n1 in edges:\n",
    "            indegree[n1] = indegree.get(n1, 0) + 1\n",
    "\n",
    "    # Find out nodes with 0 indegree (terminal nodes)\n",
    "    queue: collections.deque = collections.deque()\n",
    "    for n1 in range(numCourses):\n",
    "        if n1 not in indegree:\n",
    "            indegree[n1] = 0\n",
    "            queue.append(n1)\n",
    "\n",
    "    # BFS on queue, remove indegree to all neighbours of curr node. If neighbour indegree becomes 0, append to queue.\n",
    "    while queue:\n",
    "        curr = queue.popleft()\n",
    "        for next_ in adj.get(curr, []):\n",
    "            indegree[next_] -= 1\n",
    "            if indegree[next_] == 0:\n",
    "                queue.append(next_)\n",
    "\n",
    "        numCourses -= 1\n",
    "\n",
    "    return numCourses == 0\n",
    "\n",
    "# Testing the solution\n",
    "assert canFinish(2, [[1,0]]) == True\n",
    "assert canFinish(2, [[1,0],[0,1]]) == False"
   ]
  },
  {
   "cell_type": "markdown",
   "id": "f8a6e7b3",
   "metadata": {
    "papermill": {
     "duration": 0.022876,
     "end_time": "2024-05-04T15:51:59.239041",
     "exception": false,
     "start_time": "2024-05-04T15:51:59.216165",
     "status": "completed"
    },
    "tags": []
   },
   "source": [
    "Course schedule - 2: https://leetcode.com/problems/course-schedule-ii/submissions/1240905168/"
   ]
  },
  {
   "cell_type": "code",
   "execution_count": 22,
   "id": "04331e57",
   "metadata": {
    "execution": {
     "iopub.execute_input": "2024-05-04T15:51:59.286686Z",
     "iopub.status.busy": "2024-05-04T15:51:59.285910Z",
     "iopub.status.idle": "2024-05-04T15:51:59.297030Z",
     "shell.execute_reply": "2024-05-04T15:51:59.296347Z"
    },
    "lines_to_next_cell": 1,
    "papermill": {
     "duration": 0.037107,
     "end_time": "2024-05-04T15:51:59.298941",
     "exception": false,
     "start_time": "2024-05-04T15:51:59.261834",
     "status": "completed"
    },
    "tags": []
   },
   "outputs": [],
   "source": [
    "def findOrder(numCourses: int, prerequisites: list[tuple[int, int]]) -> list[int]:\n",
    "    # Create an adjacency list\n",
    "    adj: dict[int, list[int]] = dict()\n",
    "    for n1, n2 in prerequisites:\n",
    "        n1_neighbours = adj.get(n1, [])\n",
    "        n1_neighbours.append(n2)\n",
    "        adj[n1] = n1_neighbours\n",
    "\n",
    "    # Compute indegree for all nodes\n",
    "    indegree: dict[int, int] = dict()\n",
    "    for edges in adj.values():\n",
    "        for n1 in edges:\n",
    "            indegree[n1] = indegree.get(n1, 0) + 1\n",
    "\n",
    "    # Find out nodes with 0 indegree (terminal nodes)\n",
    "    queue: collections.deque = collections.deque()\n",
    "    for n1 in range(numCourses):\n",
    "        if n1 not in indegree:\n",
    "            indegree[n1] = 0\n",
    "            queue.append(n1)\n",
    "\n",
    "    # Store the ordering into a list\n",
    "    result: list[int] = []\n",
    "    while queue:\n",
    "        n1 = queue.popleft()\n",
    "        for n2 in adj.get(n1, []):\n",
    "            indegree[n2] -= 1\n",
    "            if indegree[n2] == 0:\n",
    "                queue.append(n2)\n",
    "        result.append(n1)\n",
    "\n",
    "    result.reverse()\n",
    "    return result if len(result) == numCourses else []\n",
    "\n",
    "# Testing the solution\n",
    "for inp in [\n",
    "        [(1,0),(2,0),(3,1),(3,2)], [(1,0)], [(0,1),(1,2),(2,0)]\n",
    "    ]:\n",
    "        op = {n: i for i, n in enumerate(findOrder(4, inp))}\n",
    "        if not op:\n",
    "            V, E = max(map(max, inp)), len(inp)\n",
    "            assert isCyclicDFS(V, E, inp)\n",
    "        else:\n",
    "            for n1, n2 in inp:\n",
    "                assert op[n1] > op[n2]"
   ]
  },
  {
   "cell_type": "markdown",
   "id": "7cc4aaeb",
   "metadata": {
    "papermill": {
     "duration": 0.022674,
     "end_time": "2024-05-04T15:51:59.344978",
     "exception": false,
     "start_time": "2024-05-04T15:51:59.322304",
     "status": "completed"
    },
    "tags": []
   },
   "source": [
    "Video link: https://youtu.be/2gtg3VsDGyc?si=l4U9ljeQk6vBufj-\n",
    "Eventual Safe States with BFS"
   ]
  },
  {
   "cell_type": "code",
   "execution_count": 23,
   "id": "f5f3c530",
   "metadata": {
    "execution": {
     "iopub.execute_input": "2024-05-04T15:51:59.392525Z",
     "iopub.status.busy": "2024-05-04T15:51:59.391743Z",
     "iopub.status.idle": "2024-05-04T15:51:59.401834Z",
     "shell.execute_reply": "2024-05-04T15:51:59.401058Z"
    },
    "lines_to_next_cell": 1,
    "papermill": {
     "duration": 0.036362,
     "end_time": "2024-05-04T15:51:59.403691",
     "exception": false,
     "start_time": "2024-05-04T15:51:59.367329",
     "status": "completed"
    },
    "tags": []
   },
   "outputs": [],
   "source": [
    "# https://leetcode.com/problems/find-eventual-safe-states/submissions/1241269468\n",
    "def eventualSafeNodesBFS(V: int, graph: list[list[int]]) -> list[int]:\n",
    "    \"\"\"\n",
    "    1. Reverse all edges and perform a topo sort.\n",
    "    2. All unsafe elements are auto eliminated.\n",
    "\n",
    "    The way Kahn's algorithm works is to BFS across the nodes with indegree 0 and eliminating the edges one by one.\n",
    "    By swapping the edges we get terminal nodes to have an indegree of 0 (outdegree was 0 initially).\n",
    "\n",
    "    We traverse until we cover all nodes that are connected to terminal nodes. Nodes that are not connected to terminal nodes are unsafe.\n",
    "\n",
    "    Time: O(V log V), Space: O(V + E)\n",
    "    \"\"\"\n",
    "\n",
    "    # Swap the edges, compute the indegree\n",
    "    indegree: dict[int, int] = dict()\n",
    "    adj: dict[int, list[int]] = dict()\n",
    "    for n1 in range(V):\n",
    "        for n2 in graph[n1]:\n",
    "            n2_neighbours = adj.get(n2, [])\n",
    "            n2_neighbours.append(n1)\n",
    "            adj[n2] = n2_neighbours\n",
    "            indegree[n1] = indegree.get(n1, 0) + 1\n",
    "\n",
    "    # Store all nodes with 0 indegree to our queue\n",
    "    queue: collections.deque = collections.deque()\n",
    "    for n1 in range(V):\n",
    "        if n1 not in indegree:\n",
    "            indegree[n1] = 0\n",
    "            queue.append(n1)\n",
    "\n",
    "    # Do a BFS traversal\n",
    "    result: list[int] = []\n",
    "    while queue:\n",
    "        n1 = queue.popleft()\n",
    "        result.append(n1)\n",
    "        for n2 in adj.get(n1, []):\n",
    "            indegree[n2] -= 1\n",
    "            if indegree[n2] == 0:\n",
    "                queue.append(n2)\n",
    "\n",
    "    return sorted(result)\n",
    "\n",
    "# Testing the solution\n",
    "assert eventualSafeNodesBFS(7, [[1, 2], [2, 3], [5], [0], [5], [], []]) == [2, 4, 5, 6]\n",
    "assert eventualSafeNodesBFS(4, [[1], [2], [0,3], []]) == [3]"
   ]
  },
  {
   "cell_type": "markdown",
   "id": "08156d76",
   "metadata": {
    "papermill": {
     "duration": 0.022925,
     "end_time": "2024-05-04T15:51:59.450138",
     "exception": false,
     "start_time": "2024-05-04T15:51:59.427213",
     "status": "completed"
    },
    "tags": []
   },
   "source": [
    "Video Link: https://youtu.be/U3N_je7tWAs?si=ZkvYEfyaDOVehnEa\n",
    "Alien Dictionary"
   ]
  },
  {
   "cell_type": "code",
   "execution_count": 24,
   "id": "42166b86",
   "metadata": {
    "execution": {
     "iopub.execute_input": "2024-05-04T15:51:59.497707Z",
     "iopub.status.busy": "2024-05-04T15:51:59.497373Z",
     "iopub.status.idle": "2024-05-04T15:51:59.510172Z",
     "shell.execute_reply": "2024-05-04T15:51:59.509350Z"
    },
    "lines_to_next_cell": 1,
    "papermill": {
     "duration": 0.039167,
     "end_time": "2024-05-04T15:51:59.511956",
     "exception": false,
     "start_time": "2024-05-04T15:51:59.472789",
     "status": "completed"
    },
    "tags": []
   },
   "outputs": [
    {
     "name": "stdout",
     "output_type": "stream",
     "text": [
      "['b', 'd', 'a', 'c']\n",
      "['c', 'a', 'b']\n"
     ]
    }
   ],
   "source": [
    "def alienDictionaryOrder(alien_dict: list[str], N: int, K: int) -> list[str]:\n",
    "    \"\"\"\n",
    "    Define a function that given two strings inorder as they appear in dictionary, can calculate relative ordering of characters in it.\n",
    "    Run the above function across all words in the dictionary (all possible pairs) to get the edges of the graph.\n",
    "\n",
    "    Once the relative ordering is captured, perform a topo sort.\n",
    "\n",
    "    Follow up: What if the dictionary is incorrect?\n",
    "    Check 1: String of larger length say: \"abc\" appears before string of smaller length: \"ab\" (char are matching until min length)\n",
    "    Check 2: If there is a cycle: [\"abc\", \"bcd\", \"ade\"] (when inserting an edge to adj, we can check if opp edge doesn't exist: a -> b exists, then b -> a should not exist)\n",
    "    \"\"\"\n",
    "\n",
    "    adj: dict[str, set[str]] = dict()\n",
    "    nodes: list[str] = [chr(i + ord('a')) for i in range(K)]\n",
    "    def computeOrdering(str1: str, str2: str):\n",
    "        N1, N2 = len(str1), len(str2)\n",
    "        i = 0\n",
    "        while i < N1 and i < N2:\n",
    "            n1, n2 = str1[i], str2[i]\n",
    "            i += 1\n",
    "            if n1 != n2:\n",
    "                n1_neighbours = adj.get(n1, set())\n",
    "                n1_neighbours.add(n2)\n",
    "                adj[n1] = n1_neighbours\n",
    "                return\n",
    "\n",
    "    # Compute ordering for all pairs\n",
    "    for i in range(N - 1):\n",
    "        computeOrdering(alien_dict[i], alien_dict[i + 1])\n",
    "\n",
    "    # Compute the indegree\n",
    "    indegree: dict[str, int] = dict()\n",
    "    for k in adj:\n",
    "        for v in adj[k]:\n",
    "            indegree[v] = indegree.get(v, 0) + 1\n",
    "\n",
    "    # Store all nodes with 0 indegree to queue\n",
    "    queue: collections.deque = collections.deque()\n",
    "    for curr in nodes:\n",
    "        if curr not in indegree:\n",
    "            indegree[curr] = 0\n",
    "            queue.append(curr)\n",
    "\n",
    "    result: list[str] = []\n",
    "    while queue:\n",
    "        curr = queue.popleft()\n",
    "        result.append(curr)\n",
    "        for next_ in adj.get(curr, []):\n",
    "            indegree[next_] -= 1\n",
    "            if indegree[next_] == 0:\n",
    "                queue.append(next_)\n",
    "\n",
    "    return result\n",
    "\n",
    "# Testing the solution\n",
    "print(alienDictionaryOrder([\"baa\",\"abcd\",\"abca\",\"cab\",\"cad\"], 5, 4))\n",
    "print(alienDictionaryOrder([\"caa\",\"aaa\",\"aab\"], 3, 3))"
   ]
  },
  {
   "cell_type": "markdown",
   "id": "ddb547c5",
   "metadata": {
    "papermill": {
     "duration": 0.023132,
     "end_time": "2024-05-04T15:51:59.560220",
     "exception": false,
     "start_time": "2024-05-04T15:51:59.537088",
     "status": "completed"
    },
    "tags": []
   },
   "source": [
    "Video Link: https://youtu.be/ZUFQfFaU-8U?si=SRwWuuRJN53CMn_w\n",
    "Shortest path in DAG (topological sorting)"
   ]
  },
  {
   "cell_type": "code",
   "execution_count": 25,
   "id": "29f9d887",
   "metadata": {
    "execution": {
     "iopub.execute_input": "2024-05-04T15:51:59.608291Z",
     "iopub.status.busy": "2024-05-04T15:51:59.607579Z",
     "iopub.status.idle": "2024-05-04T15:51:59.619889Z",
     "shell.execute_reply": "2024-05-04T15:51:59.619136Z"
    },
    "lines_to_next_cell": 1,
    "papermill": {
     "duration": 0.038256,
     "end_time": "2024-05-04T15:51:59.621621",
     "exception": false,
     "start_time": "2024-05-04T15:51:59.583365",
     "status": "completed"
    },
    "tags": []
   },
   "outputs": [],
   "source": [
    "def shortestPathInDAG(N: int, edges: list[list[int]], src: int) -> list[int]:\n",
    "    \"\"\"\n",
    "    1. Do a topo sort: DFS (stack).\n",
    "    2. Take nodes out of the stack and relax the edges.\n",
    "\n",
    "    Topo sorted stack works before we start with the guy that doesn't have any nodes before it.\n",
    "    As we progress into the stack, we would have travelled sequentially and nodes that comes before have already been computed.\n",
    "    \"\"\"\n",
    "\n",
    "    # Create the adjacency list out of the edges provided\n",
    "    adj: dict[int, list[tuple[int, int]]] = dict()\n",
    "    for n1, n2, w in edges:\n",
    "        n1_neighbours = adj.get(n1, [])\n",
    "        n1_neighbours.append((n2, w))\n",
    "        adj[n1] = n1_neighbours\n",
    "\n",
    "    # Perform a Topo sort and store result to stack\n",
    "    def topoDFS(root: int):\n",
    "        if root not in visited:\n",
    "            visited.add(root)\n",
    "            for next_, _ in adj.get(root, []):\n",
    "                topoDFS(next_)\n",
    "            stack.append(root)\n",
    "\n",
    "    stack: list[int] = []\n",
    "    visited: set[int] = set()\n",
    "    for curr in range(N):\n",
    "        topoDFS(curr)\n",
    "\n",
    "    # No appending to stack, simply continue popping and relax the edges\n",
    "    result: list[float] = [math.inf for _ in range(N)]\n",
    "    result[src] = 0\n",
    "    while stack:\n",
    "        curr = stack.pop()\n",
    "        for next_, next_dist in adj.get(curr, []):\n",
    "            result[next_] = min(result[curr] + next_dist, result[next_])\n",
    "\n",
    "    for i in range(N):\n",
    "        result[i] = result[i] if math.isfinite(result[i]) else -1\n",
    "\n",
    "    return list(map(int, result))\n",
    "\n",
    "# Testing the solution\n",
    "assert shortestPathInDAG(3, [[0,1,2], [1,2,3], [0,2,6]], 0) == [0, 2, 5]\n",
    "assert shortestPathInDAG(3, [[2,0,4],[0,1,3],[2,1,2]], 0) == [0, 3, -1]"
   ]
  },
  {
   "cell_type": "markdown",
   "id": "59089a00",
   "metadata": {
    "papermill": {
     "duration": 0.023013,
     "end_time": "2024-05-04T15:51:59.668131",
     "exception": false,
     "start_time": "2024-05-04T15:51:59.645118",
     "status": "completed"
    },
    "tags": []
   },
   "source": [
    "Shortest path in undirected graph with unit weights"
   ]
  },
  {
   "cell_type": "code",
   "execution_count": 26,
   "id": "685cf4ef",
   "metadata": {
    "execution": {
     "iopub.execute_input": "2024-05-04T15:51:59.716170Z",
     "iopub.status.busy": "2024-05-04T15:51:59.715304Z",
     "iopub.status.idle": "2024-05-04T15:51:59.727638Z",
     "shell.execute_reply": "2024-05-04T15:51:59.726957Z"
    },
    "lines_to_next_cell": 1,
    "papermill": {
     "duration": 0.038405,
     "end_time": "2024-05-04T15:51:59.729505",
     "exception": false,
     "start_time": "2024-05-04T15:51:59.691100",
     "status": "completed"
    },
    "tags": []
   },
   "outputs": [],
   "source": [
    "# Video link: https://youtu.be/C4gxoTaI71U?si=NQRmSQ7skeZnz9V0\n",
    "def shortestPath(edges: list[list[int]], N: int, M: int, src: int) -> list[int]:\n",
    "    # Create an adjacency list\n",
    "    adj: dict[int, list[int]] = dict()\n",
    "    for n1, n2 in edges:\n",
    "        n1_neighbours, n2_neighbours = adj.get(n1, []), adj.get(n2, [])\n",
    "        n1_neighbours.append(n2)\n",
    "        n2_neighbours.append(n1)\n",
    "        adj[n1], adj[n2] = n1_neighbours, n2_neighbours\n",
    "\n",
    "    # Perform a DFS traversal starting from source\n",
    "    def DFS(root: int, dist: int):\n",
    "        if distances[root] == -1 or distances[root] > dist:\n",
    "            distances[root] = dist\n",
    "            for next_ in adj.get(root, []):\n",
    "                DFS(next_, dist + 1)\n",
    "\n",
    "    # Perform BFS, only visit nodes not already visited, that way the shortest distance would already be saved.\n",
    "    # Since all edges are unit dist, we are guaranteed not to get a shorter distance.\n",
    "    def BFS(root: int):\n",
    "        queue: collections.deque = collections.deque([root])\n",
    "        distances[root] = 0\n",
    "        while queue:\n",
    "            curr = queue.popleft()\n",
    "            for next_ in adj.get(curr, []):\n",
    "                if distances[next_] == -1:\n",
    "                    queue.append(next_)\n",
    "                    distances[next_] = distances[curr] + 1\n",
    "\n",
    "    distances: list[int] = [-1 for _ in range(N)]\n",
    "    # DFS(src, 0)\n",
    "    BFS(src)\n",
    "    return distances\n",
    "\n",
    "# Testing the solution\n",
    "assert shortestPath([[0,1],[0,3],[3,4],[4,5],[5,6],[1,2],[2,6],[6,7],[7,8],[6,8]], 9, 10, 0) == [0,1,2,1,2,3,3,4,4]\n",
    "assert shortestPath([[0,0],[1,1],[1,3],[3,0]], 4, 4, 3) == [1,1,-1,0]"
   ]
  },
  {
   "cell_type": "markdown",
   "id": "0dee3c9a",
   "metadata": {
    "papermill": {
     "duration": 0.022944,
     "end_time": "2024-05-04T15:51:59.775892",
     "exception": false,
     "start_time": "2024-05-04T15:51:59.752948",
     "status": "completed"
    },
    "tags": []
   },
   "source": [
    "Word Ladder - 1: https://leetcode.com/problems/word-ladder/submissions/1242529557\n",
    "Video Link: https://youtu.be/tRPda0rcf8E?si=IvDpS_6OSFIa-iAY"
   ]
  },
  {
   "cell_type": "code",
   "execution_count": 27,
   "id": "ef9ed676",
   "metadata": {
    "execution": {
     "iopub.execute_input": "2024-05-04T15:51:59.823008Z",
     "iopub.status.busy": "2024-05-04T15:51:59.822254Z",
     "iopub.status.idle": "2024-05-04T15:51:59.832654Z",
     "shell.execute_reply": "2024-05-04T15:51:59.832013Z"
    },
    "lines_to_next_cell": 1,
    "papermill": {
     "duration": 0.03605,
     "end_time": "2024-05-04T15:51:59.834492",
     "exception": false,
     "start_time": "2024-05-04T15:51:59.798442",
     "status": "completed"
    },
    "tags": []
   },
   "outputs": [],
   "source": [
    "def ladderLength(beginWord: str, endWord: str, wordList: list[str]) -> int:\n",
    "    \"\"\"Time: O(N x len(word) * 26), Space: O(len(word))\"\"\"\n",
    "\n",
    "    # Compute length of all strings\n",
    "    N: int = len(beginWord)\n",
    "\n",
    "    # Create a hashmap for quick lookups\n",
    "    wordMap: dict[str, int] = {word: 0 for word in wordList}\n",
    "    wordMap[beginWord] = 1\n",
    "\n",
    "    # BFS to find out the sequence length of transformation\n",
    "    queue: collections.deque = collections.deque([(beginWord, 1)])\n",
    "    while queue:\n",
    "        curr, dist = queue.popleft()\n",
    "\n",
    "        # Generate all possible transformations (1 char changes)\n",
    "        for i in range(N):\n",
    "            for j in range(ord('a'), ord('z') + 1):\n",
    "                next_ = curr[:i] + chr(j) + curr[i + 1:]\n",
    "                if next_ in wordMap and wordMap[next_] == 0:\n",
    "                    wordMap[next_] = dist + 1\n",
    "                    queue.append((next_, dist + 1))\n",
    "\n",
    "    # endWord may or may not exist, return 0 if not found\n",
    "    return wordMap.get(endWord, 0)\n",
    "\n",
    "# Testing the solution\n",
    "assert ladderLength(\"hit\", \"cog\", [\"hot\",\"dot\",\"dog\",\"lot\",\"log\",\"cog\"]) == 5\n",
    "assert ladderLength(\"hit\", \"cog\", [\"hot\",\"dot\",\"dog\",\"lot\",\"log\"]) == 0"
   ]
  },
  {
   "cell_type": "markdown",
   "id": "d0da149f",
   "metadata": {
    "papermill": {
     "duration": 0.022819,
     "end_time": "2024-05-04T15:51:59.880469",
     "exception": false,
     "start_time": "2024-05-04T15:51:59.857650",
     "status": "completed"
    },
    "tags": []
   },
   "source": [
    "Video link: https://youtu.be/DREutrv2XD0?si=SbXR_WrwV0yPkM3t\n",
    "Word Ladder - 2: https://leetcode.com/problems/word-ladder-ii/description/"
   ]
  },
  {
   "cell_type": "code",
   "execution_count": 28,
   "id": "8c81ef46",
   "metadata": {
    "execution": {
     "iopub.execute_input": "2024-05-04T15:51:59.932269Z",
     "iopub.status.busy": "2024-05-04T15:51:59.931676Z",
     "iopub.status.idle": "2024-05-04T15:51:59.945273Z",
     "shell.execute_reply": "2024-05-04T15:51:59.944574Z"
    },
    "lines_to_next_cell": 1,
    "papermill": {
     "duration": 0.041568,
     "end_time": "2024-05-04T15:51:59.947043",
     "exception": false,
     "start_time": "2024-05-04T15:51:59.905475",
     "status": "completed"
    },
    "tags": []
   },
   "outputs": [],
   "source": [
    "# TLE :(\n",
    "def findLaddersBetter(beginWord: str, endWord: str, wordList: list[str]) -> list[list[str]]:\n",
    "    # Compute the length of words\n",
    "    N = len(beginWord)\n",
    "\n",
    "    # Convert list to set for constant lookup times\n",
    "    wordSet: set[str] = set(wordList)\n",
    "\n",
    "    # Store the results to a list\n",
    "    results: list[list[str]] = []\n",
    "\n",
    "    # Do a DFS traversal, we only remove elements with wordSet of completion of a level\n",
    "    queue: list[list[str]] = [[beginWord]]\n",
    "    while queue and wordSet:\n",
    "        next_queue: list[list[str]] = []\n",
    "        to_remove: set[str] = set()\n",
    "        for path in queue:\n",
    "            curr = path[-1]\n",
    "            for i in range(N):\n",
    "                for j in range(ord('a'), ord('z') + 1):\n",
    "                    next_ = curr[:i] + chr(j) + curr[i + 1:]\n",
    "                    if next_ in wordSet:\n",
    "                        path.append(next_)\n",
    "                        path_ = list(path)\n",
    "                        next_queue.append(path_)\n",
    "                        to_remove.add(next_)\n",
    "                        if next_ == endWord:\n",
    "                            results.append(path_)\n",
    "                        path.pop()\n",
    "\n",
    "        for next_ in to_remove:\n",
    "            wordSet.remove(next_)\n",
    "        queue = next_queue\n",
    "\n",
    "    return sorted(results)\n",
    "\n",
    "# Testing the solution\n",
    "assert findLaddersBetter(\"hit\", \"cog\", [\"hot\",\"dot\",\"dog\",\"lot\",\"log\",\"cog\"]) == [['hit', 'hot', 'dot', 'dog', 'cog'], ['hit', 'hot', 'lot', 'log', 'cog']]\n",
    "assert findLaddersBetter(\"hit\", \"cog\", [\"hot\",\"dot\",\"dog\",\"lot\",\"log\"]) == []\n",
    "assert findLaddersBetter(\"a\", \"c\", [\"a\", \"b\", \"c\"]) == [[\"a\", \"c\"]]\n",
    "assert findLaddersBetter(\"red\", \"tax\", [\"ted\",\"tex\",\"red\",\"tax\",\"tad\",\"den\",\"rex\",\"pee\"]) == [['red', 'rex', 'tex', 'tax'],['red', 'ted', 'tad', 'tax'],['red', 'ted', 'tex', 'tax']]"
   ]
  },
  {
   "cell_type": "code",
   "execution_count": 29,
   "id": "184290e3",
   "metadata": {
    "execution": {
     "iopub.execute_input": "2024-05-04T15:51:59.995424Z",
     "iopub.status.busy": "2024-05-04T15:51:59.994693Z",
     "iopub.status.idle": "2024-05-04T15:52:00.010763Z",
     "shell.execute_reply": "2024-05-04T15:52:00.010012Z"
    },
    "lines_to_next_cell": 1,
    "papermill": {
     "duration": 0.042286,
     "end_time": "2024-05-04T15:52:00.012571",
     "exception": false,
     "start_time": "2024-05-04T15:51:59.970285",
     "status": "completed"
    },
    "tags": []
   },
   "outputs": [],
   "source": [
    "# Striver Leetcode optimized: https://leetcode.com/problems/word-ladder-ii/submissions/1242920059\n",
    "def findLadders(beginWord: str, endWord: str, wordList: list[str]) -> list[list[str]]:\n",
    "    \"\"\"\n",
    "    Video link: https://youtu.be/AD4SFl7tu7I?si=koBVo4hgse94Ruvn\n",
    "\n",
    "    Step 1: BFS and compute the shortest distance to words.\n",
    "    Step 2: Backtrack from backwards and only traverse to paths that are curr level - 1.\n",
    "\n",
    "    This works better because we are starting backwards and thus the exploration of paths would be minimal.\n",
    "    Further more we only take up paths which are one level below not more not less.\n",
    "    \"\"\"\n",
    "\n",
    "    N = len(beginWord)\n",
    "\n",
    "    # Store the shortest distances to reach word\n",
    "    distances: dict[str, float] = {word: math.inf for word in wordList}\n",
    "    distances[beginWord] = 0\n",
    "\n",
    "    # BFS traversal\n",
    "    queue: collections.deque = collections.deque([beginWord])\n",
    "    while queue:\n",
    "        curr = queue.popleft()\n",
    "        for i in range(N):\n",
    "            for j in range(ord('a'), ord('z') + 1):\n",
    "                next_ = curr[:i] + chr(j) + curr[i + 1:]\n",
    "                if next_ in distances and distances[curr] + 1 < distances[next_]:\n",
    "                    distances[next_] = distances[curr] + 1\n",
    "                    queue.append(next_)\n",
    "\n",
    "    # Backtrack and find the shortest paths with DFS\n",
    "    results: list[list[str]] = []\n",
    "    def DFS(root: str, paths: list[str]):\n",
    "        if root not in distances or math.isinf(distances[root]):\n",
    "            return\n",
    "        elif root == beginWord:\n",
    "            results.append(paths)\n",
    "            return\n",
    "        else:\n",
    "            for i in range(N):\n",
    "                for j in range(ord('a'), ord('z') + 1):\n",
    "                    next_ = root[:i] + chr(j) + root[i + 1:]\n",
    "                    if distances.get(next_, -1) == distances[root] - 1:\n",
    "                        DFS(next_, [next_, *paths])\n",
    "\n",
    "    DFS(endWord, [endWord])\n",
    "    return sorted(results)\n",
    "\n",
    "# Testing the solution\n",
    "assert findLadders(\"hit\", \"cog\", [\"hot\",\"dot\",\"dog\",\"lot\",\"log\",\"cog\"]) == [['hit', 'hot', 'dot', 'dog', 'cog'], ['hit', 'hot', 'lot', 'log', 'cog']]\n",
    "assert findLadders(\"hit\", \"cog\", [\"hot\",\"dot\",\"dog\",\"lot\",\"log\"]) == []\n",
    "assert findLadders(\"a\", \"c\", [\"a\", \"b\", \"c\"]) == [[\"a\", \"c\"]]\n",
    "assert findLadders(\"red\", \"tax\", [\"ted\",\"tex\",\"red\",\"tax\",\"tad\",\"den\",\"rex\",\"pee\"]) == [['red', 'rex', 'tex', 'tax'],['red', 'ted', 'tad', 'tax'],['red', 'ted', 'tex', 'tax']]"
   ]
  },
  {
   "cell_type": "markdown",
   "id": "ac91aeb8",
   "metadata": {
    "papermill": {
     "duration": 0.022834,
     "end_time": "2024-05-04T15:52:00.059099",
     "exception": false,
     "start_time": "2024-05-04T15:52:00.036265",
     "status": "completed"
    },
    "tags": []
   },
   "source": [
    "Dijkstra's Algorithm using Min Heap: https://youtu.be/V6H1qAeB-l4?si=rEGFRGwu-ojsYp-3"
   ]
  },
  {
   "cell_type": "code",
   "execution_count": 30,
   "id": "f9b1c99b",
   "metadata": {
    "execution": {
     "iopub.execute_input": "2024-05-04T15:52:00.108625Z",
     "iopub.status.busy": "2024-05-04T15:52:00.107919Z",
     "iopub.status.idle": "2024-05-04T15:52:00.116945Z",
     "shell.execute_reply": "2024-05-04T15:52:00.116266Z"
    },
    "lines_to_next_cell": 1,
    "papermill": {
     "duration": 0.035573,
     "end_time": "2024-05-04T15:52:00.118752",
     "exception": false,
     "start_time": "2024-05-04T15:52:00.083179",
     "status": "completed"
    },
    "tags": []
   },
   "outputs": [],
   "source": [
    "def dijkstra(V: int, adj: list[list[list[int]]], src: int):\n",
    "    # Number of vertices\n",
    "    N = len(adj)\n",
    "\n",
    "    # Store all the distances into an array\n",
    "    distances: list[int] = [-1 for _ in range(V)]\n",
    "    distances[src] = 0\n",
    "\n",
    "    # Apply Dijkstra\n",
    "    min_heap: list[tuple[int, int]] = [(0, src)]\n",
    "    while min_heap:\n",
    "        curr_dist, curr = heapq.heappop(min_heap)\n",
    "        for next_, next_dist in adj[curr]:\n",
    "            if distances[next_] == -1 or distances[next_] > curr_dist + next_dist:\n",
    "                distances[next_] = curr_dist + next_dist\n",
    "                heapq.heappush(min_heap, (curr_dist + next_dist, next_))\n",
    "\n",
    "    return distances\n",
    "\n",
    "# Testing the solution\n",
    "assert dijkstra(2, [[[1, 9]], [[0, 9]]], 0) == [0, 9]\n",
    "assert dijkstra(3, [[[1, 1], [2, 6]], [[2, 3], [0, 1]], [[1, 3], [0, 6]]], 2) == [4, 3, 0]"
   ]
  },
  {
   "cell_type": "markdown",
   "id": "1ef6f6db",
   "metadata": {
    "papermill": {
     "duration": 0.022595,
     "end_time": "2024-05-04T15:52:00.164461",
     "exception": false,
     "start_time": "2024-05-04T15:52:00.141866",
     "status": "completed"
    },
    "tags": []
   },
   "source": [
    "Video Link: https://youtu.be/rp1SMw7HSO8?si=7d4Jc-1NTMcKvbh8\n",
    "Shortest path in an undirected weighted graph"
   ]
  },
  {
   "cell_type": "code",
   "execution_count": 31,
   "id": "5fc33946",
   "metadata": {
    "execution": {
     "iopub.execute_input": "2024-05-04T15:52:00.212705Z",
     "iopub.status.busy": "2024-05-04T15:52:00.211981Z",
     "iopub.status.idle": "2024-05-04T15:52:00.224542Z",
     "shell.execute_reply": "2024-05-04T15:52:00.223832Z"
    },
    "lines_to_next_cell": 1,
    "papermill": {
     "duration": 0.038632,
     "end_time": "2024-05-04T15:52:00.226348",
     "exception": false,
     "start_time": "2024-05-04T15:52:00.187716",
     "status": "completed"
    },
    "tags": []
   },
   "outputs": [],
   "source": [
    "def shortestPathGFG(V: int, E: int, edges: list[list[int]]) -> list[int]:\n",
    "    # Convert the edges into an adjacency list\n",
    "    adj: dict[int, list[tuple[int, int]]] = dict() # n1: (n2, w)\n",
    "    for n1, n2, w in edges:\n",
    "        n1_neighbours, n2_neighbours = adj.get(n1, []), adj.get(n2, [])\n",
    "        n1_neighbours.append((n2, w))\n",
    "        n2_neighbours.append((n1, w))\n",
    "        adj[n1], adj[n2] = n1_neighbours, n2_neighbours\n",
    "\n",
    "    # Apply Dijkstra algorithm, store the shortest distances to a hashmap, also store the previous node\n",
    "    distances: dict[int, tuple[int, int]] = {n1: (-1, -1) for n1 in range(V + 1)} # node: (dist, prev)\n",
    "    distances[1] = (0, -1)\n",
    "    heap: list[tuple[int, int]] = [(0, 1)] # dist, node\n",
    "    while heap:\n",
    "        curr_dist, curr = heapq.heappop(heap)\n",
    "        for next_, next_dist in adj.get(curr, []):\n",
    "            if distances[next_][0] == -1 or distances[next_][0] > curr_dist + next_dist:\n",
    "                distances[next_] = (curr_dist + next_dist, curr)\n",
    "                heapq.heappush(heap, (curr_dist + next_dist, next_))\n",
    "\n",
    "    dist = distances[V]\n",
    "    if dist[0] == -1:\n",
    "        return [-1]\n",
    "    else:\n",
    "        result = [V]\n",
    "        curr = dist[1]\n",
    "        while curr != -1:\n",
    "            result.append(curr)\n",
    "            curr = distances[curr][1]\n",
    "\n",
    "        result.append(dist[0])\n",
    "        result.reverse()\n",
    "        return result\n",
    "\n",
    "# Testing the solution\n",
    "assert shortestPathGFG(5, 6, [[1,2,2], [2,5,5], [2,3,4], [1,4,1],[4,3,3],[3,5,1]]) == [5, 1, 4, 3, 5]"
   ]
  },
  {
   "cell_type": "markdown",
   "id": "6de11f44",
   "metadata": {
    "papermill": {
     "duration": 0.023172,
     "end_time": "2024-05-04T15:52:00.272827",
     "exception": false,
     "start_time": "2024-05-04T15:52:00.249655",
     "status": "completed"
    },
    "tags": []
   },
   "source": [
    "Shortest path in a binary maze: https://leetcode.com/problems/shortest-path-in-binary-matrix/submissions/1243256372/\n",
    "Video Link: https://youtu.be/U5Mw4eyUmw4?si=SM3SONUWEFwd8XLt"
   ]
  },
  {
   "cell_type": "code",
   "execution_count": 32,
   "id": "2f855e08",
   "metadata": {
    "execution": {
     "iopub.execute_input": "2024-05-04T15:52:00.321162Z",
     "iopub.status.busy": "2024-05-04T15:52:00.320407Z",
     "iopub.status.idle": "2024-05-04T15:52:00.331369Z",
     "shell.execute_reply": "2024-05-04T15:52:00.330687Z"
    },
    "lines_to_next_cell": 1,
    "papermill": {
     "duration": 0.037011,
     "end_time": "2024-05-04T15:52:00.333136",
     "exception": false,
     "start_time": "2024-05-04T15:52:00.296125",
     "status": "completed"
    },
    "tags": []
   },
   "outputs": [],
   "source": [
    "def shortestPathBinaryMatrix(grid: list[list[int]]) -> int:\n",
    "    \"\"\"\n",
    "    A priority queue is only needed when we are having weighted graphs.\n",
    "    Since we have a unit weights, we can use a simple queue.\n",
    "\n",
    "    Time: O(N ^ 2), Space: O(N ^ 2)\n",
    "    \"\"\"\n",
    "\n",
    "    N = len(grid)\n",
    "    distances: list[list[float]] = [[math.inf for i in range(N)] for j in range(N)]\n",
    "    distances[0][0] = 1\n",
    "    queue: collections.deque[tuple[tuple[int, int], float]] = collections.deque([((0, 0), 1.)])\n",
    "    while queue:\n",
    "        curr, dist = queue.popleft()\n",
    "        for x in range(-1, 2):\n",
    "            for y in range(-1, 2):\n",
    "                i, j = curr[0] + x, curr[1] + y\n",
    "                if 0 <= i < N and 0 <= j < N and grid[i][j] == 0 and distances[i][j] > dist + 1:\n",
    "                    distances[i][j] = dist + 1\n",
    "                    queue.append(((i, j), dist + 1))\n",
    "\n",
    "    result = distances[N - 1][N - 1]\n",
    "    return int(result) if grid[0][0] == 0 and not math.isinf(result) else -1\n",
    "\n",
    "# Testing the solution\n",
    "assert shortestPathBinaryMatrix([[0,0,0],[1,1,0],[1,1,0]]) == 4\n",
    "assert shortestPathBinaryMatrix([[0,1],[1,0]]) == 2\n",
    "assert shortestPathBinaryMatrix([[1,0,0],[1,1,0],[1,1,0]]) == -1\n",
    "assert shortestPathBinaryMatrix([[1]]) == -1"
   ]
  },
  {
   "cell_type": "markdown",
   "id": "52e6e87d",
   "metadata": {
    "papermill": {
     "duration": 0.02258,
     "end_time": "2024-05-04T15:52:00.378722",
     "exception": false,
     "start_time": "2024-05-04T15:52:00.356142",
     "status": "completed"
    },
    "tags": []
   },
   "source": [
    "Video link: https://youtu.be/0ytpZyiZFhA?si=UwEDE7wIpbT_Q87y\n",
    "Path with minimum effort: https://leetcode.com/problems/path-with-minimum-effort/submissions/1243926425/"
   ]
  },
  {
   "cell_type": "code",
   "execution_count": 33,
   "id": "85a0590c",
   "metadata": {
    "execution": {
     "iopub.execute_input": "2024-05-04T15:52:00.425455Z",
     "iopub.status.busy": "2024-05-04T15:52:00.424799Z",
     "iopub.status.idle": "2024-05-04T15:52:00.437455Z",
     "shell.execute_reply": "2024-05-04T15:52:00.436783Z"
    },
    "lines_to_next_cell": 1,
    "papermill": {
     "duration": 0.038071,
     "end_time": "2024-05-04T15:52:00.439260",
     "exception": false,
     "start_time": "2024-05-04T15:52:00.401189",
     "status": "completed"
    },
    "tags": []
   },
   "outputs": [],
   "source": [
    "def minimumEffortPath(heights: list[list[int]]) -> int:\n",
    "    \"\"\"\n",
    "    Time: O(M x N x log (M x N)), Space: O(M x N).\n",
    "\n",
    "    Apparantly from striver: once we reach our destination we can return the dist.\n",
    "    We should however check while taking out of PQ and not while inserting into PQ.\n",
    "    \"\"\"\n",
    "    # Compute the dimensions\n",
    "    N, M = len(heights), len(heights[0])\n",
    "\n",
    "    # Store the efforts into a 2D matrix\n",
    "    efforts: list[list[float]] = [[math.inf for j in range(M)] for i in range(N)]\n",
    "    efforts[0][0] = 0\n",
    "\n",
    "    # Apply Dijkstra, create a heap datastructure\n",
    "    heap: list[tuple[float, tuple[int, int]]] = [(0., (0, 0))]\n",
    "    while heap:\n",
    "        curr_effort, curr = heapq.heappop(heap)\n",
    "        for x, y in [(-1, 0), (1, 0), (0, -1), (0, 1)]:\n",
    "            i, j = curr[0] + x, curr[1] + y\n",
    "            next_effort = max(abs(heights[i][j] - heights[curr[0]][curr[1]]) if 0 <= i < N and 0 <= j < M else math.inf, curr_effort)\n",
    "            if not math.isinf(next_effort) and next_effort < efforts[i][j]:\n",
    "                efforts[i][j] = next_effort\n",
    "                heapq.heappush(heap, (next_effort, (i, j)))\n",
    "\n",
    "    result = efforts[N - 1][M - 1]\n",
    "    return int(result) if not math.isinf(result) else -1\n",
    "\n",
    "# Testing the solution\n",
    "assert minimumEffortPath([[1,2,2],[3,8,2],[5,3,5]]) == 2\n",
    "assert minimumEffortPath([[1,2,3],[3,8,4],[5,3,5]]) == 1\n",
    "assert minimumEffortPath([[1,2,1,1,1],[1,2,1,2,1],[1,2,1,2,1],[1,2,1,2,1],[1,1,1,2,1]]) == 0"
   ]
  },
  {
   "cell_type": "markdown",
   "id": "ba06d57b",
   "metadata": {
    "papermill": {
     "duration": 0.022458,
     "end_time": "2024-05-04T15:52:00.484555",
     "exception": false,
     "start_time": "2024-05-04T15:52:00.462097",
     "status": "completed"
    },
    "tags": []
   },
   "source": [
    "Cheapest flight within K stops: https://leetcode.com/problems/cheapest-flights-within-k-stops/submissions/1244248580\n",
    "Video Link: https://youtu.be/9XybHVqTHcQ?si=jLIB9G9VQ184S2w6"
   ]
  },
  {
   "cell_type": "code",
   "execution_count": 34,
   "id": "53b3f2f6",
   "metadata": {
    "execution": {
     "iopub.execute_input": "2024-05-04T15:52:00.531815Z",
     "iopub.status.busy": "2024-05-04T15:52:00.531048Z",
     "iopub.status.idle": "2024-05-04T15:52:00.544025Z",
     "shell.execute_reply": "2024-05-04T15:52:00.543373Z"
    },
    "lines_to_next_cell": 1,
    "papermill": {
     "duration": 0.038504,
     "end_time": "2024-05-04T15:52:00.545745",
     "exception": false,
     "start_time": "2024-05-04T15:52:00.507241",
     "status": "completed"
    },
    "tags": []
   },
   "outputs": [],
   "source": [
    "def findCheapestPrice(n: int, flights: list[list[int]], src: int, dst: int, k: int) -> int:\n",
    "    \"\"\"\n",
    "    The trick here is to realize that if we made dist our priority, dijkstra would find the shortest path sooner even if it costs us a lot of steps preventing us from proceeding further.\n",
    "    To overcome this, we prioritize steps over distance. This way even if we aren't travelling to the shortest distance first, we still would be able to traverse the full breadth of k.\n",
    "\n",
    "    PQ can be steps, dist, node\n",
    "\n",
    "    Time: O(len(flights) log N)\n",
    "    Space: O(len(flights))\n",
    "    \"\"\"\n",
    "    # Create an adjaceny list out of the edges\n",
    "    adj: dict[int, list[tuple[int, float]]] = dict()\n",
    "    for n1, n2, w in flights:\n",
    "        n1_neighbours = adj.get(n1, [])\n",
    "        n1_neighbours.append((n2, w))\n",
    "        adj[n1] = n1_neighbours\n",
    "\n",
    "    # Compute the distances and store to a dictionary\n",
    "    distances: dict[int, float] = {n1: math.inf for n1 in range(n)}\n",
    "    distances[src] = 0\n",
    "\n",
    "    # Apply Dijkstra with slight modification - store the stops to reach the destination as well: steps, dist, node\n",
    "    heap: list[tuple[int, float, int]] = [(0, 0., src)]\n",
    "    while heap:\n",
    "        curr_steps, curr_dist, curr = heapq.heappop(heap)\n",
    "        for next_, next_dist in adj.get(curr, []):\n",
    "            if curr_dist + next_dist < distances[next_] and curr_steps <= k:\n",
    "                distances[next_] = curr_dist + next_dist\n",
    "                heapq.heappush(heap, (curr_steps + 1, curr_dist + next_dist, next_))\n",
    "\n",
    "    result = distances[dst]\n",
    "    return int(result) if not math.isinf(result) else -1\n",
    "\n",
    "# Testing the solution\n",
    "assert findCheapestPrice(n=4, flights=[[0,1,100],[1,2,100],[2,0,100],[1,3,600],[2,3,200]], src=0, dst=3, k=1) == 700\n",
    "assert findCheapestPrice(n=3, flights=[[0,1,100],[1,2,100],[0,2,500]], src=0, dst=2, k=1) == 200\n",
    "assert findCheapestPrice(n=5, flights=[[0,1,5],[1,2,5],[0,3,2],[3,1,2],[1,4,1],[4,2,1]], src=0, dst=2, k=2) == 7"
   ]
  },
  {
   "cell_type": "markdown",
   "id": "f0f3185e",
   "metadata": {
    "papermill": {
     "duration": 0.022518,
     "end_time": "2024-05-04T15:52:00.590994",
     "exception": false,
     "start_time": "2024-05-04T15:52:00.568476",
     "status": "completed"
    },
    "tags": []
   },
   "source": [
    "Minimum Operations\n",
    "Video link: https://youtu.be/_BvEJ3VIDWw?si=0Kgpj58X7BYexE2k"
   ]
  },
  {
   "cell_type": "code",
   "execution_count": 35,
   "id": "a5556478",
   "metadata": {
    "execution": {
     "iopub.execute_input": "2024-05-04T15:52:00.638107Z",
     "iopub.status.busy": "2024-05-04T15:52:00.637696Z",
     "iopub.status.idle": "2024-05-04T15:52:00.653035Z",
     "shell.execute_reply": "2024-05-04T15:52:00.652276Z"
    },
    "lines_to_next_cell": 1,
    "papermill": {
     "duration": 0.04134,
     "end_time": "2024-05-04T15:52:00.654956",
     "exception": false,
     "start_time": "2024-05-04T15:52:00.613616",
     "status": "completed"
    },
    "tags": []
   },
   "outputs": [],
   "source": [
    "def minimumOperations(N: int, start: int, end: int, arr: list[int]) -> int:\n",
    "    distances: dict[int, float] = {n1: math.inf for n1 in range(0, int(1e3) + 1)}\n",
    "    distances[start] = 0\n",
    "\n",
    "    queue: collections.deque[tuple[int, int]] = collections.deque([(start, 0)])\n",
    "    while queue:\n",
    "        curr, dist = queue.popleft()\n",
    "        for edge in arr:\n",
    "            next_ = (curr * edge) % 1000\n",
    "            if dist + 1 < distances[next_]:\n",
    "                distances[next_] = dist + 1\n",
    "                queue.append((next_, dist + 1))\n",
    "\n",
    "    result = distances[end]\n",
    "    return int(result) if not math.isinf(result) else -1\n",
    "\n",
    "assert minimumOperations(2, 1, 12, [3, 2]) == 3\n",
    "assert minimumOperations(4, 8, 320, [4, 6, 1, 10]) == 2\n",
    "assert minimumOperations(42, 54, 98, [1, 70, 25, 79, 59, 63, 65, 6, 46, 82, 28, 62, 92, 96, 43, 28, 37, 92, 5, 3, 54, 93, 83, 22, 17, 19, 96, 48, 27, 72, 39, 70, 13, 68, 100, 36, 95, 4, 12, 23, 34, 74]) == 3"
   ]
  },
  {
   "cell_type": "markdown",
   "id": "a12fb431",
   "metadata": {
    "papermill": {
     "duration": 0.022742,
     "end_time": "2024-05-04T15:52:00.700529",
     "exception": false,
     "start_time": "2024-05-04T15:52:00.677787",
     "status": "completed"
    },
    "tags": []
   },
   "source": [
    "Video Link: https://youtu.be/_-0mx0SmYxA?si=6GOaqZSP-NDZ_Oq-\n",
    "Number of ways to arrive at a destination"
   ]
  },
  {
   "cell_type": "code",
   "execution_count": 36,
   "id": "6d28c0b9",
   "metadata": {
    "execution": {
     "iopub.execute_input": "2024-05-04T15:52:00.747739Z",
     "iopub.status.busy": "2024-05-04T15:52:00.747093Z",
     "iopub.status.idle": "2024-05-04T15:52:00.763701Z",
     "shell.execute_reply": "2024-05-04T15:52:00.762936Z"
    },
    "lines_to_next_cell": 1,
    "papermill": {
     "duration": 0.04216,
     "end_time": "2024-05-04T15:52:00.765385",
     "exception": false,
     "start_time": "2024-05-04T15:52:00.723225",
     "status": "completed"
    },
    "tags": []
   },
   "outputs": [
    {
     "data": {
      "text/plain": [
       "True"
      ]
     },
     "execution_count": 36,
     "metadata": {},
     "output_type": "execute_result"
    }
   ],
   "source": [
    "# https://leetcode.com/problems/number-of-ways-to-arrive-at-destination/submissions/1244856247/\n",
    "def countPaths(N: int, roads: list[list[int]]) -> int:\n",
    "    # Convert edges to adjacency list\n",
    "    adj: dict[int, list[tuple[int, float]]] = dict()\n",
    "    for n1, n2, w in roads:\n",
    "        n1_neighbours, n2_neighbours = adj.get(n1, []), adj.get(n2, [])\n",
    "        n1_neighbours.append((n2, w))\n",
    "        n2_neighbours.append((n1, w))\n",
    "        adj[n1] = n1_neighbours\n",
    "        adj[n2] = n2_neighbours\n",
    "\n",
    "    # Distances to store a set of prev nodes with shortest distance\n",
    "    distances: dict[int, tuple[float, set[int]]] = {n1: (math.inf, set()) for n1 in range(N)}\n",
    "    distances[0] = (0, set())\n",
    "\n",
    "    # Apply Dijkstra algorithm to find the shortest paths\n",
    "    heap: list[tuple[float, int]] = [(0, 0)]\n",
    "    while heap:\n",
    "        curr_dist, curr = heapq.heappop(heap)\n",
    "        for next_, next_dist in adj.get(curr, []):\n",
    "            if next_dist + curr_dist < distances[next_][0]:\n",
    "                distances[next_] = (next_dist + curr_dist, {curr})\n",
    "                heapq.heappush(heap, (next_dist + curr_dist, next_))\n",
    "            elif next_dist + curr_dist == distances[next_][0]:\n",
    "                distances[next_][1].add(curr)\n",
    "\n",
    "    @functools.cache\n",
    "    def backtrack(root: int) -> int:\n",
    "        if root == 0:\n",
    "            return 1\n",
    "        else:\n",
    "            count = 0\n",
    "            for next_ in distances[root][1]:\n",
    "                count += backtrack(next_)\n",
    "            return count\n",
    "\n",
    "    return backtrack(N - 1) % (int(1e9) + 7)\n",
    "\n",
    "# Testing the solution\n",
    "countPaths(7, [[0,6,7],[0,1,2],[1,2,3],[1,3,3],[6,3,3],[3,5,1],[6,5,1],[2,5,1],[0,4,5],[4,6,2]]) == 4"
   ]
  },
  {
   "cell_type": "code",
   "execution_count": 37,
   "id": "ef161cf7",
   "metadata": {
    "execution": {
     "iopub.execute_input": "2024-05-04T15:52:00.813536Z",
     "iopub.status.busy": "2024-05-04T15:52:00.812853Z",
     "iopub.status.idle": "2024-05-04T15:52:00.824094Z",
     "shell.execute_reply": "2024-05-04T15:52:00.823342Z"
    },
    "lines_to_next_cell": 1,
    "papermill": {
     "duration": 0.037352,
     "end_time": "2024-05-04T15:52:00.826059",
     "exception": false,
     "start_time": "2024-05-04T15:52:00.788707",
     "status": "completed"
    },
    "tags": []
   },
   "outputs": [],
   "source": [
    "# https://leetcode.com/problems/number-of-ways-to-arrive-at-destination/submissions/1244866094\n",
    "def countPathsStriver(N: int, roads: list[list[int]]) -> int:\n",
    "    # Convert edges to adjacency list\n",
    "    adj: dict[int, list[tuple[int, float]]] = dict()\n",
    "    for n1, n2, w in roads:\n",
    "        n1_neighbours, n2_neighbours = adj.get(n1, []), adj.get(n2, [])\n",
    "        n1_neighbours.append((n2, w))\n",
    "        n2_neighbours.append((n1, w))\n",
    "        adj[n1] = n1_neighbours\n",
    "        adj[n2] = n2_neighbours\n",
    "\n",
    "    # Distances to store a shortest distance for each node along with the count of shortest paths\n",
    "    distances: dict[int, tuple[float, int]] = {n1: (math.inf, 0) for n1 in range(N)}\n",
    "    distances[0] = (0, 1)\n",
    "\n",
    "    # Apply dijkstra algorithm\n",
    "    heap: list[tuple[float, int]] = [(0., 0)]\n",
    "    while heap:\n",
    "        curr_dist, curr = heapq.heappop(heap)\n",
    "        for next_, next_dist in adj.get(curr, []):\n",
    "            if curr_dist + next_dist < distances[next_][0]:\n",
    "                distances[next_] = (curr_dist + next_dist, distances[curr][1])\n",
    "                heapq.heappush(heap, (curr_dist + next_dist, next_))\n",
    "            elif curr_dist + next_dist == distances[next_][0]:\n",
    "                distances[next_] = (curr_dist + next_dist, distances[next_][1] + distances[curr][1])\n",
    "\n",
    "    return int(distances[N - 1][1])\n",
    "\n",
    "# Testing the solution\n",
    "assert countPathsStriver(7, [[0,6,7],[0,1,2],[1,2,3],[1,3,3],[6,3,3],[3,5,1],[6,5,1],[2,5,1],[0,4,5],[4,6,2]]) == 4"
   ]
  },
  {
   "cell_type": "markdown",
   "id": "b3016690",
   "metadata": {
    "papermill": {
     "duration": 0.022577,
     "end_time": "2024-05-04T15:52:00.871861",
     "exception": false,
     "start_time": "2024-05-04T15:52:00.849284",
     "status": "completed"
    },
    "tags": []
   },
   "source": [
    "Video link: https://www.youtube.com/watch?v=0vVofAhAYjc&list=PLgUwDviBIf0oF6QL8m22w1hIDC1vJ_BHz&index=166\n",
    "Bellman Ford Algorithm"
   ]
  },
  {
   "cell_type": "code",
   "execution_count": 38,
   "id": "246f039f",
   "metadata": {
    "execution": {
     "iopub.execute_input": "2024-05-04T15:52:00.919263Z",
     "iopub.status.busy": "2024-05-04T15:52:00.918475Z",
     "iopub.status.idle": "2024-05-04T15:52:00.926587Z",
     "shell.execute_reply": "2024-05-04T15:52:00.925820Z"
    },
    "lines_to_next_cell": 1,
    "papermill": {
     "duration": 0.033643,
     "end_time": "2024-05-04T15:52:00.928245",
     "exception": false,
     "start_time": "2024-05-04T15:52:00.894602",
     "status": "completed"
    },
    "tags": []
   },
   "outputs": [],
   "source": [
    "def bellman_ford(V: int, edges: list[list[int]], S: int) -> list[float]:\n",
    "    # Store the results to distance vector\n",
    "    distances: list[float] = [math.inf for n1 in range(V)]\n",
    "    distances[S] = 0\n",
    "\n",
    "    # Relax for V - 1 iterations\n",
    "    for i in range(V - 1):\n",
    "        for n1, n2, w in edges:\n",
    "            distances[n2] = min(distances[n2], distances[n1] + w)\n",
    "\n",
    "    # Check for cycle by relaxing 1 more time\n",
    "    for n1, n2, w in edges:\n",
    "        if distances[n1] + w < distances[n2]:\n",
    "            return [-1]\n",
    "\n",
    "    # No cycles, we are good to return\n",
    "    return distances\n",
    "\n",
    "# Testing the solution\n",
    "assert bellman_ford(3, [[0,1,5],[1,0,3],[1,2,-1],[2,0,1]], 2) == [1, 6, 0]"
   ]
  },
  {
   "cell_type": "markdown",
   "id": "b07a5eb6",
   "metadata": {
    "papermill": {
     "duration": 0.022656,
     "end_time": "2024-05-04T15:52:00.973994",
     "exception": false,
     "start_time": "2024-05-04T15:52:00.951338",
     "status": "completed"
    },
    "tags": []
   },
   "source": [
    "Video Link: https://youtu.be/YbY8cVwWAvw?si=_Soo7iiwWihY5G8w\n",
    "Floyd Warshall Algorithm"
   ]
  },
  {
   "cell_type": "code",
   "execution_count": 39,
   "id": "53a5b83f",
   "metadata": {
    "execution": {
     "iopub.execute_input": "2024-05-04T15:52:01.021273Z",
     "iopub.status.busy": "2024-05-04T15:52:01.020644Z",
     "iopub.status.idle": "2024-05-04T15:52:01.031480Z",
     "shell.execute_reply": "2024-05-04T15:52:01.030729Z"
    },
    "lines_to_next_cell": 1,
    "papermill": {
     "duration": 0.036332,
     "end_time": "2024-05-04T15:52:01.033173",
     "exception": false,
     "start_time": "2024-05-04T15:52:00.996841",
     "status": "completed"
    },
    "tags": []
   },
   "outputs": [
    {
     "data": {
      "text/plain": [
       "[[0, 1, 7], [1, 0, 6], [-1, -1, 0]]"
      ]
     },
     "execution_count": 39,
     "metadata": {},
     "output_type": "execute_result"
    }
   ],
   "source": [
    "def floyd_warshall(matrix: list[list[int]]) -> list[list[int]]:\n",
    "    \"Time: O(V ^ 3), Space: O(V ^ 2)\"\n",
    "    V = len(matrix)\n",
    "    cost: list[list[int]] = [[matrix[i][j] for j in range(V)] for i in range(V)]\n",
    "\n",
    "    # For each node i -> j check if the path i -> k -> j could be a better path\n",
    "    for via in range(V):\n",
    "        for i in range(V):\n",
    "            for j in range(V):\n",
    "                if cost[i][via] != -1 and cost[via][j] != -1 and cost[i][j] > cost[i][via] + cost[via][j]:\n",
    "                    cost[i][j] = cost[i][via] + cost[via][j]\n",
    "\n",
    "    return cost\n",
    "\n",
    "# Testing the solution\n",
    "floyd_warshall([[0,1,43],[1,0,6],[-1,-1,0]])"
   ]
  },
  {
   "cell_type": "markdown",
   "id": "e45383b2",
   "metadata": {
    "papermill": {
     "duration": 0.022852,
     "end_time": "2024-05-04T15:52:01.079526",
     "exception": false,
     "start_time": "2024-05-04T15:52:01.056674",
     "status": "completed"
    },
    "tags": []
   },
   "source": [
    "Video link: https://youtu.be/PwMVNSJ5SLI?si=AbyQbGEgwGWk6lPZ\n",
    "City with smallest number of neighbours at threshold"
   ]
  },
  {
   "cell_type": "code",
   "execution_count": 40,
   "id": "2407a370",
   "metadata": {
    "execution": {
     "iopub.execute_input": "2024-05-04T15:52:01.126589Z",
     "iopub.status.busy": "2024-05-04T15:52:01.126267Z",
     "iopub.status.idle": "2024-05-04T15:52:01.139311Z",
     "shell.execute_reply": "2024-05-04T15:52:01.138503Z"
    },
    "lines_to_next_cell": 1,
    "papermill": {
     "duration": 0.038802,
     "end_time": "2024-05-04T15:52:01.141085",
     "exception": false,
     "start_time": "2024-05-04T15:52:01.102283",
     "status": "completed"
    },
    "tags": []
   },
   "outputs": [],
   "source": [
    "# https://leetcode.com/problems/find-the-city-with-the-smallest-number-of-neighbors-at-a-threshold-distance/submissions/1244969227/\n",
    "def findTheCity(N: int, edges: list[list[int]], distanceThreshold: int) -> int:\n",
    "    # We would be running dijkstra on all nodes and storing to this array\n",
    "    distances: list[list[float]] = [[math.inf if i != j else 0 for j in range(N)] for i in range(N)]\n",
    "\n",
    "    # Function to run Dijkstra\n",
    "    def dijkstra(src: int):\n",
    "        nonlocal distances\n",
    "        heap: list[tuple[float, int]] = [(0, src)]\n",
    "        while heap:\n",
    "            curr_dist, curr = heapq.heappop(heap)\n",
    "            for next_, next_dist in adj.get(curr, []):\n",
    "                if curr_dist + next_dist < distances[src][next_]:\n",
    "                    distances[src][next_] = curr_dist + next_dist\n",
    "                    heapq.heappush(heap, (curr_dist + next_dist, next_))\n",
    "\n",
    "    # Convert edges to adj list\n",
    "    adj: dict[int, list[tuple[int, int]]] = dict()\n",
    "    for n1, n2, w in edges:\n",
    "        n1_neighbours, n2_neighbours = adj.get(n1, []), adj.get(n2, [])\n",
    "        n1_neighbours.append((n2, w))\n",
    "        n2_neighbours.append((n1, w))\n",
    "        adj[n1], adj[n2] = n1_neighbours, n2_neighbours\n",
    "\n",
    "    # Run Dijkstra algorithm for all nodes\n",
    "    for curr in range(N):\n",
    "        dijkstra(curr)\n",
    "\n",
    "    # Starting backwards find the city with smallest neighbouring cities at threshold\n",
    "    minCity, minCount = -1, math.inf\n",
    "    for curr in range(N - 1, -1, -1):\n",
    "        count = 0\n",
    "        for dist in distances[curr]:\n",
    "            if 0 < dist <= distanceThreshold:\n",
    "                count += 1\n",
    "        if count < minCount:\n",
    "            minCount = count\n",
    "            minCity = curr\n",
    "\n",
    "    return minCity\n",
    "\n",
    "# Testing the solution\n",
    "assert findTheCity(5, [[0,1,2],[0,4,8],[1,2,3],[1,4,2],[2,3,1],[3,4,1]], 2) == 0\n",
    "assert findTheCity(4, [[0,1,3],[1,2,1],[1,3,4],[2,3,1]], 4) == 3"
   ]
  },
  {
   "cell_type": "markdown",
   "id": "bdfd48db",
   "metadata": {
    "papermill": {
     "duration": 0.023137,
     "end_time": "2024-05-04T15:52:01.187624",
     "exception": false,
     "start_time": "2024-05-04T15:52:01.164487",
     "status": "completed"
    },
    "tags": []
   },
   "source": [
    "Prim's algorithm\n",
    "Video Link: https://youtu.be/mJcZjjKzeqk?si=64UoFQXWB8rjf2iB\n",
    "1. Initial Config: Priority Queue, Visited array, MST weight sum, MST list storing all edges part of MST\n",
    "2. Start with any node: (weight, node, parent) => (0, 0, -1). Visited array is NOT MARKED for that node.\n",
    "3. Mark them as visited when you are visiting the node from PQ. Add the edge weight to sum and add the edges to the MST list. Iterate through all the adjancent edges and add to our PQ.\n",
    "4. Repeat until PQ is empty.\n",
    "5. Prim's algorithm is a greedy algorithm."
   ]
  },
  {
   "cell_type": "code",
   "execution_count": 41,
   "id": "08777d03",
   "metadata": {
    "execution": {
     "iopub.execute_input": "2024-05-04T15:52:01.235200Z",
     "iopub.status.busy": "2024-05-04T15:52:01.234529Z",
     "iopub.status.idle": "2024-05-04T15:52:01.248953Z",
     "shell.execute_reply": "2024-05-04T15:52:01.248154Z"
    },
    "lines_to_next_cell": 1,
    "papermill": {
     "duration": 0.040054,
     "end_time": "2024-05-04T15:52:01.250678",
     "exception": false,
     "start_time": "2024-05-04T15:52:01.210624",
     "status": "completed"
    },
    "tags": []
   },
   "outputs": [
    {
     "name": "stdout",
     "output_type": "stream",
     "text": [
      "[(0, 1, 3), (1, 2, 1), (0, 3, 5)]\n"
     ]
    },
    {
     "data": {
      "text/plain": [
       "9"
      ]
     },
     "execution_count": 41,
     "metadata": {},
     "output_type": "execute_result"
    }
   ],
   "source": [
    "def minimumSpanningTreePrim(edges: list[tuple[int, int, int]], V: int, E: int) -> int:\n",
    "    \"\"\"Time: O(E log E), Space: O(V)\"\"\"\n",
    "\n",
    "    # Create an adjacency list\n",
    "    adj: dict[int, list[tuple[int, int]]] = dict()\n",
    "    for n1, n2, w in edges:\n",
    "        n1_neighbours, n2_neighbours = adj.get(n1, []), adj.get(n2, [])\n",
    "        n1_neighbours.append((n2, w))\n",
    "        n2_neighbours.append((n1, w))\n",
    "        adj[n1], adj[n2] = n1_neighbours, n2_neighbours\n",
    "\n",
    "    # Initial config\n",
    "    visited: set[int] = set()\n",
    "    heap: list[tuple[int, int, int]] = [(0, 0, -1)] # weight, curr, parent\n",
    "    mst: list[tuple[int, int, int]] = []\n",
    "    mst_weight: int = 0\n",
    "\n",
    "    while heap:\n",
    "        curr_weight, curr, prev = heapq.heappop(heap)\n",
    "        if curr not in visited:\n",
    "            if prev != -1:\n",
    "                mst_weight += curr_weight\n",
    "                mst.append((prev, curr, curr_weight))\n",
    "\n",
    "            visited.add(curr)\n",
    "            for next_, next_weight in adj.get(curr, []):\n",
    "                heapq.heappush(heap, (next_weight, next_, curr))\n",
    "\n",
    "    print(mst)\n",
    "    return mst_weight\n",
    "\n",
    "# Testing the solution\n",
    "minimumSpanningTreePrim([(0, 1, 3), (0, 3, 5), (1, 2, 1), (2, 3, 8)], 4, 4)"
   ]
  },
  {
   "cell_type": "markdown",
   "id": "388bd0af",
   "metadata": {
    "papermill": {
     "duration": 0.023316,
     "end_time": "2024-05-04T15:52:01.298214",
     "exception": false,
     "start_time": "2024-05-04T15:52:01.274898",
     "status": "completed"
    },
    "tags": []
   },
   "source": [
    "Disjoint set data structure "
   ]
  },
  {
   "cell_type": "code",
   "execution_count": 42,
   "id": "7b48003b",
   "metadata": {
    "execution": {
     "iopub.execute_input": "2024-05-04T15:52:01.346150Z",
     "iopub.status.busy": "2024-05-04T15:52:01.345465Z",
     "iopub.status.idle": "2024-05-04T15:52:01.360995Z",
     "shell.execute_reply": "2024-05-04T15:52:01.360251Z"
    },
    "lines_to_next_cell": 1,
    "papermill": {
     "duration": 0.041579,
     "end_time": "2024-05-04T15:52:01.362800",
     "exception": false,
     "start_time": "2024-05-04T15:52:01.321221",
     "status": "completed"
    },
    "tags": []
   },
   "outputs": [
    {
     "name": "stdout",
     "output_type": "stream",
     "text": [
      "Diff component\n",
      "Same component\n"
     ]
    }
   ],
   "source": [
    "class DisjointSet:\n",
    "    def __init__(self, V: int):\n",
    "        self.rank: list[int] = [0 for i in range(V + 1)]\n",
    "        self.size: list[int] = [1 for i in range(V + 1)]\n",
    "        self.parent = [i for i in range(V + 1)]\n",
    "\n",
    "    def findUltimateParent(self, node: int) -> int:\n",
    "        \"\"\"Recursively find the parent, once found do a path compression\"\"\"\n",
    "        if self.parent[node] == node:\n",
    "            return node\n",
    "        else:\n",
    "            self.parent[node] = self.findUltimateParent(self.parent[node])\n",
    "            return self.parent[node]\n",
    "\n",
    "    def unionBySize(self, u: int, v: int):\n",
    "        # Find the ultimate parent of U, V\n",
    "        up, vp = self.findUltimateParent(u), self.findUltimateParent(v)\n",
    "\n",
    "        # Find the size of the ultimate parents\n",
    "        ups, vps = self.size[up], self.size[vp]\n",
    "\n",
    "        # Both are already connected, do nothing\n",
    "        if up == vp:\n",
    "            return\n",
    "\n",
    "        # Ultimate parent of U has a smaller size, update parent of UP to V\n",
    "        elif ups < vps:\n",
    "            self.parent[up] = v\n",
    "            self.size[vp] += self.size[up]\n",
    "\n",
    "        # Ultimate parent of V has a smaller size, update parent of VP to U\n",
    "        else:\n",
    "            self.parent[vp] = u\n",
    "            self.size[up] += self.size[vp]\n",
    "\n",
    "    def unionByRank(self, u: int, v: int):\n",
    "        # Find the ultimate parents of u, v\n",
    "        up, vp = self.findUltimateParent(u), self.findUltimateParent(v)\n",
    "\n",
    "        # Find the ranks of the ultimate parents\n",
    "        upr, vpr = self.rank[up], self.rank[vp]\n",
    "\n",
    "        # If both ultimate parents are the same, the edge makes no difference\n",
    "        if up == vp:\n",
    "            return\n",
    "\n",
    "        # If rank of vp is smaller, the parent of vp is set to up\n",
    "        elif vpr < upr:\n",
    "            self.parent[vp] = up\n",
    "\n",
    "        # If rank of up is smaller, the parent of up is set to vp\n",
    "        elif upr < vpr:\n",
    "            self.parent[up] = vp\n",
    "\n",
    "        # If rank of both are equal, we join anyone to anyone and increment rank of the parent\n",
    "        else:\n",
    "            self.parent[up] = vp\n",
    "            self.rank[vp] += 1\n",
    "\n",
    "# Testing the solution\n",
    "ds: DisjointSet = DisjointSet(7)\n",
    "\n",
    "ds.unionBySize(1, 2)\n",
    "ds.unionBySize(2, 3)\n",
    "ds.unionBySize(4, 5)\n",
    "ds.unionBySize(6, 7)\n",
    "ds.unionBySize(5, 6)\n",
    "\n",
    "# Check if 3 and 7 are part of the same component\n",
    "print(\"Same component\" if ds.findUltimateParent(3) == ds.findUltimateParent(7) else \"Diff component\")\n",
    "\n",
    "ds.unionBySize(3, 7)\n",
    "print(\"Same component\" if ds.findUltimateParent(3) == ds.findUltimateParent(7) else \"Diff component\")"
   ]
  },
  {
   "cell_type": "markdown",
   "id": "c3e65c2d",
   "metadata": {
    "papermill": {
     "duration": 0.023358,
     "end_time": "2024-05-04T15:52:01.409746",
     "exception": false,
     "start_time": "2024-05-04T15:52:01.386388",
     "status": "completed"
    },
    "tags": []
   },
   "source": [
    "Find number of provinces (using disjoint set)"
   ]
  },
  {
   "cell_type": "code",
   "execution_count": 43,
   "id": "fc2419f0",
   "metadata": {
    "execution": {
     "iopub.execute_input": "2024-05-04T15:52:01.458061Z",
     "iopub.status.busy": "2024-05-04T15:52:01.457334Z",
     "iopub.status.idle": "2024-05-04T15:52:01.464796Z",
     "shell.execute_reply": "2024-05-04T15:52:01.463975Z"
    },
    "lines_to_next_cell": 1,
    "papermill": {
     "duration": 0.033658,
     "end_time": "2024-05-04T15:52:01.466574",
     "exception": false,
     "start_time": "2024-05-04T15:52:01.432916",
     "status": "completed"
    },
    "tags": []
   },
   "outputs": [],
   "source": [
    "def numProvinces(adj: list[list[int]], V: int):\n",
    "    ds: DisjointSet = DisjointSet(V - 1)\n",
    "    for i in range(V):\n",
    "        for j in range(V):\n",
    "            if adj[i][j]:\n",
    "                ds.unionBySize(i, j)\n",
    "\n",
    "    # Not advisable since we may or may not have compressed it\n",
    "    # return len(set(ds.parent))\n",
    "\n",
    "    result: set[int] = set()\n",
    "    for node in range(V):\n",
    "        result.add(ds.findUltimateParent(node))\n",
    "    return len(result)\n",
    "\n",
    "# Testing the solution\n",
    "assert numProvinces([[1, 0, 1], [0, 1, 0], [1, 0, 1]], 3) == 2\n",
    "assert numProvinces([[1, 1], [1, 1]], 2) == 1"
   ]
  },
  {
   "cell_type": "markdown",
   "id": "3dc02bdf",
   "metadata": {
    "papermill": {
     "duration": 0.023145,
     "end_time": "2024-05-04T15:52:01.513334",
     "exception": false,
     "start_time": "2024-05-04T15:52:01.490189",
     "status": "completed"
    },
    "tags": []
   },
   "source": [
    "Number of operations to make network connected - DSU\n",
    "Video Link: https://youtu.be/FYrl7iz9_ZU?si=SctG8sU5N_L_FYUt\n",
    "Problem link: https://leetcode.com/problems/number-of-operations-to-make-network-connected/submissions/1246593300"
   ]
  },
  {
   "cell_type": "code",
   "execution_count": 44,
   "id": "a5d00525",
   "metadata": {
    "execution": {
     "iopub.execute_input": "2024-05-04T15:52:01.561821Z",
     "iopub.status.busy": "2024-05-04T15:52:01.561229Z",
     "iopub.status.idle": "2024-05-04T15:52:01.573030Z",
     "shell.execute_reply": "2024-05-04T15:52:01.572363Z"
    },
    "lines_to_next_cell": 1,
    "papermill": {
     "duration": 0.038195,
     "end_time": "2024-05-04T15:52:01.574763",
     "exception": false,
     "start_time": "2024-05-04T15:52:01.536568",
     "status": "completed"
    },
    "tags": []
   },
   "outputs": [],
   "source": [
    "def makeConnected(N: int, connections: list[list[int]]) -> int:\n",
    "    # Create a disjoint set and create edges such that there is only one ultimate parent\n",
    "    class DS:\n",
    "        def __init__(self, V: int):\n",
    "            self.parents = [i for i in range(V)]\n",
    "            self.size = [1 for i in range(V)]\n",
    "\n",
    "        def findUltimateParent(self, node: int) -> int:\n",
    "            if self.parents[node] == node:\n",
    "                return node\n",
    "            else:\n",
    "                self.parents[node] = self.findUltimateParent(self.parents[node])\n",
    "                return self.parents[node]\n",
    "\n",
    "        def unionBySize(self, u: int, v: int):\n",
    "            up, vp = self.findUltimateParent(u), self.findUltimateParent(v)\n",
    "            if up == vp:\n",
    "                return\n",
    "            elif self.size[up] < self.size[vp]:\n",
    "                self.parents[up] = vp\n",
    "                self.size[vp] += self.size[up]\n",
    "            else:\n",
    "                self.parents[vp] = up\n",
    "                self.size[up] += self.size[vp]\n",
    "\n",
    "    ds = DS(N)\n",
    "    extra_connections = 0\n",
    "    for n1, n2 in connections:\n",
    "        if ds.findUltimateParent(n1) == ds.findUltimateParent(n2):\n",
    "            extra_connections += 1\n",
    "        else:\n",
    "            ds.unionBySize(n1, n2)\n",
    "\n",
    "    # Find the number of components\n",
    "    components = set()\n",
    "    for node in range(N):\n",
    "        components.add(ds.findUltimateParent(node))\n",
    "\n",
    "    result = len(components) - 1\n",
    "    return result if result <= extra_connections else -1\n",
    "\n",
    "# Testing the solution\n",
    "assert makeConnected(4, [[0,1],[0,2],[1,2]]) == 1\n",
    "assert makeConnected(6, [[0,1],[0,2],[0,3],[1,2],[1,3]]) == 2\n",
    "assert makeConnected(6, [[0,1],[0,2],[0,3],[1,2]]) == -1"
   ]
  },
  {
   "cell_type": "markdown",
   "id": "8030c685",
   "metadata": {
    "papermill": {
     "duration": 0.023164,
     "end_time": "2024-05-04T15:52:01.621698",
     "exception": false,
     "start_time": "2024-05-04T15:52:01.598534",
     "status": "completed"
    },
    "tags": []
   },
   "source": [
    "Video Link: https://youtu.be/FMwpt_aQOGw?si=ql3wSSNQsQKjwyts\n",
    "Accounts Merge: DSU"
   ]
  },
  {
   "cell_type": "code",
   "execution_count": 45,
   "id": "f37b2281",
   "metadata": {
    "execution": {
     "iopub.execute_input": "2024-05-04T15:52:01.669966Z",
     "iopub.status.busy": "2024-05-04T15:52:01.669188Z",
     "iopub.status.idle": "2024-05-04T15:52:01.685784Z",
     "shell.execute_reply": "2024-05-04T15:52:01.685013Z"
    },
    "lines_to_next_cell": 1,
    "papermill": {
     "duration": 0.042747,
     "end_time": "2024-05-04T15:52:01.687552",
     "exception": false,
     "start_time": "2024-05-04T15:52:01.644805",
     "status": "completed"
    },
    "tags": []
   },
   "outputs": [
    {
     "data": {
      "text/plain": [
       "[['John', 'john00@mail.com', 'john_newyork@mail.com', 'johnsmith@mail.com'],\n",
       " ['Mary', 'mary@mail.com'],\n",
       " ['John', 'johnnybravo@mail.com']]"
      ]
     },
     "execution_count": 45,
     "metadata": {},
     "output_type": "execute_result"
    }
   ],
   "source": [
    "def accountsMerge(accounts: list[list[str]]) -> list[list[str]]:\n",
    "    class DS:\n",
    "        def __init__(self) -> None:\n",
    "            self.size: dict[str, int] = {}\n",
    "            self.parent: dict[str, str] = {}\n",
    "\n",
    "        def findUltimateParent(self, node: str) -> str:\n",
    "            if node not in self.parent:\n",
    "                self.parent[node] = node\n",
    "                self.size[node] = 1\n",
    "\n",
    "            if self.parent[node] == node:\n",
    "                return node\n",
    "            else:\n",
    "                self.parent[node] = self.findUltimateParent(self.parent[node])\n",
    "                return self.parent[node]\n",
    "\n",
    "        def unionBySize(self, u: str, i: str) -> None:\n",
    "            up, ip = self.findUltimateParent(u), self.findUltimateParent(i)\n",
    "            ups, ips = self.size[up], self.size[ip]\n",
    "            if up == ip:\n",
    "                return\n",
    "            elif ups <= ips:\n",
    "                self.parent[up] = ip\n",
    "                self.size[ip] += self.size[up]\n",
    "            else:\n",
    "                self.parent[ip] = up\n",
    "                self.size[up] += self.size[ip]\n",
    "\n",
    "    ds = DS()\n",
    "    emails: dict[str, str] = dict()\n",
    "    for i in range(len(accounts)):\n",
    "        name = accounts[i][0]\n",
    "        for email in accounts[i][1:]:\n",
    "            emails[email] = name\n",
    "            ds.unionBySize(email, str(i))\n",
    "\n",
    "    result: list[list[str]] = [[] for _ in range(len(accounts))]\n",
    "    for email in sorted(ds.parent.keys()):\n",
    "        loc: int = int(ds.findUltimateParent(ds.parent[email]))\n",
    "        if email in emails:\n",
    "            if not result[loc]:\n",
    "                result[loc].append(emails[email])\n",
    "            result[loc].append(email)\n",
    "\n",
    "    return list(filter(lambda x: len(x), result))\n",
    "\n",
    "# Testing the solution\n",
    "accountsMerge([\n",
    "    [\"John\",\"johnsmith@mail.com\",\"john_newyork@mail.com\"],\n",
    "    [\"John\",\"johnsmith@mail.com\",\"john00@mail.com\"],\n",
    "    [\"Mary\",\"mary@mail.com\"],\n",
    "    [\"John\",\"johnnybravo@mail.com\"]\n",
    "])"
   ]
  },
  {
   "cell_type": "markdown",
   "id": "c7f391b0",
   "metadata": {
    "papermill": {
     "duration": 0.023218,
     "end_time": "2024-05-04T15:52:01.734702",
     "exception": false,
     "start_time": "2024-05-04T15:52:01.711484",
     "status": "completed"
    },
    "tags": []
   },
   "source": [
    "Number of Islands - 2"
   ]
  },
  {
   "cell_type": "code",
   "execution_count": 46,
   "id": "1fbebc60",
   "metadata": {
    "execution": {
     "iopub.execute_input": "2024-05-04T15:52:01.783271Z",
     "iopub.status.busy": "2024-05-04T15:52:01.782604Z",
     "iopub.status.idle": "2024-05-04T15:52:01.799881Z",
     "shell.execute_reply": "2024-05-04T15:52:01.799107Z"
    },
    "lines_to_next_cell": 1,
    "papermill": {
     "duration": 0.043503,
     "end_time": "2024-05-04T15:52:01.801654",
     "exception": false,
     "start_time": "2024-05-04T15:52:01.758151",
     "status": "completed"
    },
    "tags": []
   },
   "outputs": [],
   "source": [
    "def numOfIslands(rows: int, cols : int, operators : list[list[int]]) -> list[int]:\n",
    "    class DS:\n",
    "        def __init__(self, M: int, N: int):\n",
    "            self.M, self.N = M, N\n",
    "            self.parents: list[list[tuple[int, int]]] = [[(-1, -1) for j in range(N)] for i in range(M)]\n",
    "            self.size: list[list[int]] = [[0 for j in range(N)] for i in range(M)]\n",
    "            self.islands = 0\n",
    "\n",
    "        def getUltimateParent(self, node: tuple[int, int]) -> tuple[int, int]:\n",
    "            if self.parents[node[0]][node[1]] == node:\n",
    "                return node\n",
    "            else:\n",
    "                self.parents[node[0]][node[1]] = self.getUltimateParent(self.parents[node[0]][node[1]])\n",
    "                return self.parents[node[0]][node[1]]\n",
    "\n",
    "        def union(self, n1: tuple[int, int]) -> int:\n",
    "            if self.size[n1[0]][n1[1]] == 0:\n",
    "\n",
    "                self.size[n1[0]][n1[1]] = 1\n",
    "                self.parents[n1[0]][n1[1]] = (n1[0], n1[1])\n",
    "                self.islands += 1\n",
    "\n",
    "                for x, y in [(-1, 0), (0, -1), (0, 1), (1, 0)]:\n",
    "                    n2 = n1[0] + x, n1[1] + y\n",
    "                    if 0 <= n2[0] < self.M and 0 <= n2[1] < self.N and self.size[n2[0]][n2[1]] > 0:\n",
    "                        n1p, n2p = self.getUltimateParent(n1), self.getUltimateParent(n2)\n",
    "                        n1s, n2s = self.parents[n1p[0]][n1p[1]], self.parents[n2p[0]][n2p[1]]\n",
    "                        if n1p != n2p:\n",
    "                            self.islands -= 1\n",
    "                            if n1s < n2s:\n",
    "                                self.parents[n1p[0]][n1p[1]] = n2p\n",
    "                                self.size[n2p[0]][n2p[1]] += self.size[n1p[0]][n1p[1]]\n",
    "                            else:\n",
    "                                self.parents[n2p[0]][n2p[1]] = n1p\n",
    "                                self.size[n1p[0]][n1p[1]] += self.size[n2p[0]][n2p[1]]\n",
    "\n",
    "            return self.islands\n",
    "\n",
    "    results: list[int] = []\n",
    "    ds = DS(rows, cols)\n",
    "    for op in operators:\n",
    "        results.append(ds.union((op[0], op[1])))\n",
    "\n",
    "    return results\n",
    "\n",
    "# Testing the solution\n",
    "assert numOfIslands(4, 5, [[1,1],[0,1],[3,3],[3,4],[1,2],[2,3],[1,3]]) == [1, 1, 2, 2, 2, 2, 1]\n",
    "assert numOfIslands(4, 5, [[0,0],[0,0],[1,1],[1,0],[0,1]]) == [1, 1, 2, 1, 1]"
   ]
  },
  {
   "cell_type": "markdown",
   "id": "668325c8",
   "metadata": {
    "papermill": {
     "duration": 0.023395,
     "end_time": "2024-05-04T15:52:01.849038",
     "exception": false,
     "start_time": "2024-05-04T15:52:01.825643",
     "status": "completed"
    },
    "tags": []
   },
   "source": [
    "Video link: https://youtu.be/lgiz0Oup6gM?si=bsmknViNfMryXaX5\n",
    "Making a large island: https://leetcode.com/problems/making-a-large-island/submissions/1247859032"
   ]
  },
  {
   "cell_type": "code",
   "execution_count": 47,
   "id": "b071d182",
   "metadata": {
    "execution": {
     "iopub.execute_input": "2024-05-04T15:52:01.897183Z",
     "iopub.status.busy": "2024-05-04T15:52:01.896531Z",
     "iopub.status.idle": "2024-05-04T15:52:01.917152Z",
     "shell.execute_reply": "2024-05-04T15:52:01.916493Z"
    },
    "lines_to_next_cell": 1,
    "papermill": {
     "duration": 0.046792,
     "end_time": "2024-05-04T15:52:01.919017",
     "exception": false,
     "start_time": "2024-05-04T15:52:01.872225",
     "status": "completed"
    },
    "tags": []
   },
   "outputs": [],
   "source": [
    "def largestIsland(grid: list[list[int]]) -> int:\n",
    "    class DS:\n",
    "        def __init__(self, N: int):\n",
    "            self.N = N\n",
    "            self.size: list[list[int]] = [[0 for j in range(N)] for i in range(N)]\n",
    "            self.parent: list[list[tuple[int, int]]] = [[(-1, -1) for j in range(N)] for i in range(N)]\n",
    "\n",
    "        def findUltimateParent(self, node: tuple[int, int]) -> tuple[int, int]:\n",
    "            if node == (-1, -1) or self.parent[node[0]][node[1]] == node:\n",
    "                return node\n",
    "            else:\n",
    "                self.parent[node[0]][node[1]] = self.findUltimateParent(self.parent[node[0]][node[1]])\n",
    "                return self.parent[node[0]][node[1]]\n",
    "\n",
    "        def unionBySize(self, n1: tuple[int, int]):\n",
    "            self.size[n1[0]][n1[1]] = 1\n",
    "            self.parent[n1[0]][n1[1]] = n1\n",
    "\n",
    "            for x, y in [(-1,0), (0,-1), (0,1), (1,0)]:\n",
    "                n2 = n1[0] + x, n1[1] + y\n",
    "                if 0 <= n2[0] < self.N and 0 <= n2[1] < self.N and self.size[n2[0]][n2[1]] > 0:\n",
    "                    n1p, n2p = self.findUltimateParent(n1), self.findUltimateParent(n2)\n",
    "                    n1s, n2s = self.size[n1p[0]][n1p[1]], self.size[n2p[0]][n2p[1]]\n",
    "                    if n1p != n2p:\n",
    "                        if n1s < n2s:\n",
    "                            self.parent[n1p[0]][n1p[1]] = n2p\n",
    "                            self.size[n2p[0]][n2p[1]] += self.size[n1p[0]][n1p[1]]\n",
    "                        else:\n",
    "                            self.parent[n2p[0]][n2p[1]] = n1p\n",
    "                            self.size[n1p[0]][n1p[1]] += self.size[n2p[0]][n2p[1]]\n",
    "\n",
    "    # Add to the Disjoint set datastructure\n",
    "    N = len(grid)\n",
    "    ds = DS(N)\n",
    "    for i in range(N):\n",
    "        for j in range(N):\n",
    "            if grid[i][j]:\n",
    "                ds.unionBySize((i, j))\n",
    "\n",
    "    # Iterate through the grid, for each cell we check the max size of island flipping that cell would result in\n",
    "    maxSize = -1\n",
    "    for i in range(N):\n",
    "        for j in range(N):\n",
    "            if grid[i][j] == 0:\n",
    "\n",
    "                # Find all unique neighbouring islands\n",
    "                neighbours: set[tuple[int, int]] = set()\n",
    "                for x, y in [(-1,0), (0,-1), (0,1), (1,0)]:\n",
    "                    i_, j_ = i + x, j + y\n",
    "                    if 0 <= i_ < N and 0 <= j_ < N and ds.size[i_][j_] > 0:\n",
    "                        neighbours.add(ds.findUltimateParent((i_, j_)))\n",
    "\n",
    "                # Find total if this cell was to be converted to land\n",
    "                size = 1\n",
    "                for i_, j_ in neighbours:\n",
    "                    size += ds.size[i_][j_]\n",
    "\n",
    "                # If curr size is greater, we update our result\n",
    "                maxSize = max(maxSize, size)\n",
    "\n",
    "            # Maybe the largest island already exists, for completeness lets include existing island sizes as well.\n",
    "            else:\n",
    "                i_, j_ = ds.findUltimateParent((i, j))\n",
    "                maxSize = max(maxSize, ds.size[i_][j_])\n",
    "\n",
    "    return maxSize\n",
    "\n",
    "# Testing the solution\n",
    "assert largestIsland([[0,0,0],[1,1,0],[0,0,1]]) == 4\n",
    "assert largestIsland([[1,0],[0,1]]) == 3"
   ]
  },
  {
   "cell_type": "markdown",
   "id": "ab069300",
   "metadata": {
    "papermill": {
     "duration": 0.023457,
     "end_time": "2024-05-04T15:52:01.966728",
     "exception": false,
     "start_time": "2024-05-04T15:52:01.943271",
     "status": "completed"
    },
    "tags": []
   },
   "source": [
    "Kruskal's algorithm\n",
    "Video: https://youtu.be/DMnDM_sxVig?si=gx3twzTFXAtY5deT\n",
    "Complexity: Time - O(E log E), Space: O(E)\n",
    "Logic:\n",
    "```\n",
    "1. Sort the edges according to the weights.\n",
    "2. Iterate through all edges and add the edge if the n1 and n2 and not already connected.\n",
    "```"
   ]
  },
  {
   "cell_type": "code",
   "execution_count": 48,
   "id": "888f5d21",
   "metadata": {
    "execution": {
     "iopub.execute_input": "2024-05-04T15:52:02.015142Z",
     "iopub.status.busy": "2024-05-04T15:52:02.014595Z",
     "iopub.status.idle": "2024-05-04T15:52:02.029541Z",
     "shell.execute_reply": "2024-05-04T15:52:02.028775Z"
    },
    "lines_to_next_cell": 1,
    "papermill": {
     "duration": 0.041222,
     "end_time": "2024-05-04T15:52:02.031315",
     "exception": false,
     "start_time": "2024-05-04T15:52:01.990093",
     "status": "completed"
    },
    "tags": []
   },
   "outputs": [
    {
     "name": "stdout",
     "output_type": "stream",
     "text": [
      "[(1, 2, 1), (0, 1, 3), (0, 3, 5)]\n"
     ]
    },
    {
     "data": {
      "text/plain": [
       "9"
      ]
     },
     "execution_count": 48,
     "metadata": {},
     "output_type": "execute_result"
    }
   ],
   "source": [
    "def minimumSpanningTreeKruskal(edges: list[tuple[int, int, int]], V: int, E: int) -> int:\n",
    "    class DisjointSet:\n",
    "        def __init__(self, N: int):\n",
    "            self.size: list[int] = [1 for i in range(N)]\n",
    "            self.parents: list[int] = [i for i in range(N)]\n",
    "\n",
    "        def findUltimateParent(self, node: int) -> int:\n",
    "            if self.parents[node] == node:\n",
    "                return node\n",
    "            else:\n",
    "                self.parents[node] = self.findUltimateParent(self.parents[node])\n",
    "                return self.parents[node]\n",
    "\n",
    "        def unionBySize(self, n1: int, n2: int):\n",
    "            n1p, n2p = self.findUltimateParent(n1), self.findUltimateParent(n2)\n",
    "            n1s, n2s = self.size[n1p], self.size[n2p]\n",
    "            if n1p == n2p:\n",
    "                return\n",
    "            elif n1s < n2s:\n",
    "                self.parents[n1p] = n2p\n",
    "                self.size[n2p] += self.size[n1p]\n",
    "            else:\n",
    "                self.parents[n2p] = n1p\n",
    "                self.size[n1p] += self.size[n2p]\n",
    "\n",
    "    # Sort edges based on the weights: O(E log E)\n",
    "    edges.sort(key=lambda x: x[2])\n",
    "\n",
    "    # Create a disjoint set, iterate through edges and add edges if a connection doesn't already exist: O(E)\n",
    "    ds = DisjointSet(V)\n",
    "    mst: list[tuple[int, int, int]] = []\n",
    "    mst_weight = 0\n",
    "    for n1, n2, w in edges:\n",
    "        n1p, n2p = ds.findUltimateParent(n1), ds.findUltimateParent(n2)\n",
    "        if n1p != n2p:\n",
    "            ds.unionBySize(n1, n2)\n",
    "            mst.append((n1, n2, w))\n",
    "            mst_weight += w\n",
    "\n",
    "    print(mst)\n",
    "    return mst_weight\n",
    "\n",
    "# Testing the solution\n",
    "minimumSpanningTreeKruskal([(0, 1, 3), (0, 3, 5), (1, 2, 1), (2, 3, 8)], 4, 4)"
   ]
  },
  {
   "cell_type": "markdown",
   "id": "df3bfcb9",
   "metadata": {
    "papermill": {
     "duration": 0.023833,
     "end_time": "2024-05-04T15:52:02.079814",
     "exception": false,
     "start_time": "2024-05-04T15:52:02.055981",
     "status": "completed"
    },
    "tags": []
   },
   "source": [
    "Video link: https://youtu.be/OwMNX8SPavM?si=MWkOXvyzLmRKxhSQ\n",
    "Most stones removed from same row / column"
   ]
  },
  {
   "cell_type": "code",
   "execution_count": 49,
   "id": "a0c4c2d4",
   "metadata": {
    "execution": {
     "iopub.execute_input": "2024-05-04T15:52:02.129061Z",
     "iopub.status.busy": "2024-05-04T15:52:02.128312Z",
     "iopub.status.idle": "2024-05-04T15:52:02.140837Z",
     "shell.execute_reply": "2024-05-04T15:52:02.140204Z"
    },
    "lines_to_next_cell": 1,
    "papermill": {
     "duration": 0.039288,
     "end_time": "2024-05-04T15:52:02.142693",
     "exception": false,
     "start_time": "2024-05-04T15:52:02.103405",
     "status": "completed"
    },
    "tags": []
   },
   "outputs": [],
   "source": [
    "# https://leetcode.com/problems/most-stones-removed-with-same-row-or-column/submissions/1248392383\n",
    "def removeStones(stones: list[list[int]]) -> int:\n",
    "    \"\"\"\n",
    "    Max stones that can be removed is (island_size - 1).\n",
    "    This can be boiled down to len(stones) [total stones] - no of components\n",
    "    \"\"\"\n",
    "    class DS:\n",
    "        def __init__(self) -> None:\n",
    "            self.size: dict[str, int] = {}\n",
    "            self.parents: dict[str, str] = {}\n",
    "\n",
    "        def findUltimateParent(self, node: str) -> str:\n",
    "            if node not in self.parents:\n",
    "                self.parents[node] = node\n",
    "                self.size[node] = 1 if 'r' in node else 0\n",
    "\n",
    "            if self.parents[node] == node:\n",
    "                return node\n",
    "            else:\n",
    "                self.parents[node] = self.findUltimateParent(self.parents[node])\n",
    "                return self.parents[node]\n",
    "\n",
    "        def unionBySize(self, row: str, col: str):\n",
    "            rp, cp = self.findUltimateParent(row), self.findUltimateParent(col)\n",
    "            rps, cps = self.size[rp], self.size[cp]\n",
    "            if rp == cp:\n",
    "                return\n",
    "            elif rps < cps:\n",
    "                self.parents[rp] = cp\n",
    "                self.size[cp] += self.size[rp]\n",
    "            else:\n",
    "                self.parents[cp] = rp\n",
    "                self.size[rp] += self.size[cp]\n",
    "\n",
    "    ds = DS()\n",
    "    for i, j in stones:\n",
    "        row, col = f'r{i}', f'c{j}'\n",
    "        ds.unionBySize(row, col)\n",
    "\n",
    "    parents: set[str] = set()\n",
    "    for parent in ds.parents:\n",
    "        parents.add(ds.findUltimateParent(parent))\n",
    "\n",
    "    return len(stones) - len(parents)\n",
    "\n",
    "# Testing the solution\n",
    "assert removeStones([[0,0],[0,2],[1,3],[3,1],[3,2],[4,3]]) == 4\n",
    "assert removeStones([[0,0],[1,1],[2,2],[2,3],[2,4],[3,2]]) == 3"
   ]
  },
  {
   "cell_type": "markdown",
   "id": "8537e9d6",
   "metadata": {
    "papermill": {
     "duration": 0.024013,
     "end_time": "2024-05-04T15:52:02.191027",
     "exception": false,
     "start_time": "2024-05-04T15:52:02.167014",
     "status": "completed"
    },
    "tags": []
   },
   "source": [
    "Strongly connected components - Kosaraju's algorithm\n",
    "Video Link: https://youtu.be/R6uoSjZ2imo?si=PtlPrrG1CvlcluyT\n",
    "- Strongly connected components are only valid for directed graphs\n",
    "- For every pair of vertices u, v: u -> v path exists and v -> u path exists as well.\n",
    "- Logic\n",
    "```\n",
    "1. Sort all the nodes according to the finishing time with a DFS\n",
    "2. Reverse the graphs\n",
    "3. Do a DFS again.\n",
    "```"
   ]
  },
  {
   "cell_type": "code",
   "execution_count": 50,
   "id": "576136c6",
   "metadata": {
    "execution": {
     "iopub.execute_input": "2024-05-04T15:52:02.240018Z",
     "iopub.status.busy": "2024-05-04T15:52:02.239304Z",
     "iopub.status.idle": "2024-05-04T15:52:02.250220Z",
     "shell.execute_reply": "2024-05-04T15:52:02.249442Z"
    },
    "lines_to_next_cell": 1,
    "papermill": {
     "duration": 0.037196,
     "end_time": "2024-05-04T15:52:02.251949",
     "exception": false,
     "start_time": "2024-05-04T15:52:02.214753",
     "status": "completed"
    },
    "tags": []
   },
   "outputs": [
    {
     "name": "stdout",
     "output_type": "stream",
     "text": [
      "[1, 4, 0]\n",
      "[3, 2]\n"
     ]
    }
   ],
   "source": [
    "def stronglyConnectedComponents(V: int, edges: list[list[int]]) -> int:\n",
    "    \"\"\"Time: O(V + E), Space: O(V)\"\"\"\n",
    "\n",
    "    def DFS(root: int, adjl: list[list[int]], order: list[int]):\n",
    "        if root not in visited:\n",
    "            visited.add(root)\n",
    "            for next_ in adjl[root]:\n",
    "                DFS(next_, adjl, order)\n",
    "            order.append(root)\n",
    "\n",
    "    # Convert edges into an adjacency list. adj contains adj list, adjR contains the edges reversed\n",
    "    adj: list[list[int]] = [[] for i in range(V)]\n",
    "    adjR: list[list[int]] = [[] for i in range(V)]\n",
    "    for n1, n2 in edges:\n",
    "        adj[n1].append(n2)\n",
    "        adjR[n2].append(n1)\n",
    "\n",
    "    # Sort according to the finish time (decreasing order)\n",
    "    visited: set[int] = set()\n",
    "    finished: list[int] = []\n",
    "    for curr in range(V):\n",
    "        DFS(curr, adj, finished)\n",
    "\n",
    "    # Reverse the edges and do a DFS again\n",
    "    count = 0\n",
    "    visited.clear()\n",
    "    while finished:\n",
    "        # Get the node that was finished last (in decreasing order of finish time)\n",
    "        curr = finished.pop()\n",
    "        if curr not in visited:\n",
    "            components: list[int] = []\n",
    "            DFS(curr, adjR, components)\n",
    "            print(components)\n",
    "            count += 1\n",
    "\n",
    "    return count\n",
    "\n",
    "# Testing the solution\n",
    "assert stronglyConnectedComponents(5, [[0,1], [1,2], [1,4], [2,3], [3,2], [4,0]]) == 2"
   ]
  },
  {
   "cell_type": "markdown",
   "id": "4aa4c909",
   "metadata": {
    "papermill": {
     "duration": 0.023666,
     "end_time": "2024-05-04T15:52:02.299840",
     "exception": false,
     "start_time": "2024-05-04T15:52:02.276174",
     "status": "completed"
    },
    "tags": []
   },
   "source": [
    "Bridges in a graph: https://youtu.be/qrAub5z8FeA?si=zzulovJecoRFTXu_\n",
    "Bridges are those edges of a graph that when removed, splits the graph into two or more components"
   ]
  },
  {
   "cell_type": "code",
   "execution_count": 51,
   "id": "04d92479",
   "metadata": {
    "execution": {
     "iopub.execute_input": "2024-05-04T15:52:02.348593Z",
     "iopub.status.busy": "2024-05-04T15:52:02.348281Z",
     "iopub.status.idle": "2024-05-04T15:52:02.362104Z",
     "shell.execute_reply": "2024-05-04T15:52:02.361329Z"
    },
    "lines_to_next_cell": 1,
    "papermill": {
     "duration": 0.040348,
     "end_time": "2024-05-04T15:52:02.363813",
     "exception": false,
     "start_time": "2024-05-04T15:52:02.323465",
     "status": "completed"
    },
    "tags": []
   },
   "outputs": [
    {
     "data": {
      "text/plain": [
       "[[1, 3]]"
      ]
     },
     "execution_count": 51,
     "metadata": {},
     "output_type": "execute_result"
    }
   ],
   "source": [
    "def criticalConnections(N: int, connections: list[list[int]]) -> list[list[int]]:\n",
    "    \"\"\"\n",
    "    Insertion / visited Time: Time when a node is visited via DFS\n",
    "    lowestTime: min visited time of all adj node's visited time BESIDES THE PARENT. Initially assigned to insertion / visited time since logically, the value must be lesser than or equal to insertion time of the node.\n",
    "\n",
    "    End of each node's BFS, we check if the edge under consideration is a bridge.\n",
    "    We check this by comparing the node's insertion time with the next_ node's lowestTime. If the insertion time < next_ node's lowest time that edge is a bridge.\n",
    "    This is because, if visitedTime[curr] >= lowestTime[next_] there is somehow a path to reach the previous node. If visitedTime[curr] < lowestTime[next_] then there is no path for next_ to reach curr or to a point before curr.\n",
    "\n",
    "    With lowestTime, we are storing the node with the lowest insertion order that we can visit.\n",
    "    \"\"\"\n",
    "\n",
    "    timer: int = 0\n",
    "    visitedTime: list[int] = [0 for i in range(N)]\n",
    "    lowestTime: list[int] = [0 for i in range(N)]\n",
    "    visited: set[int] = set()\n",
    "    bridges: list[list[int]] = []\n",
    "\n",
    "    # Create adj list out of the edges\n",
    "    adj: list[list[int]] = [[] for i in range(N)]\n",
    "    for n1, n2 in connections:\n",
    "        adj[n1].append(n2)\n",
    "        adj[n2].append(n1)\n",
    "\n",
    "    def DFS(curr: int, parent: int):\n",
    "        nonlocal timer, visited, visitedTime, adj\n",
    "        visited.add(curr)\n",
    "        visitedTime[curr] = lowestTime[curr] = timer\n",
    "        timer += 1\n",
    "        for next_ in adj[curr]:\n",
    "            if next_ != parent:\n",
    "                if next_ not in visited:\n",
    "                    DFS(next_, curr)\n",
    "                    lowestTime[curr] = min(lowestTime[curr], lowestTime[next_])\n",
    "                    # The main logic here - if there were no other paths to reach next_,\n",
    "                    # minimum time to reach next_ is still greater than curr's visited time\n",
    "                    if visitedTime[curr] < lowestTime[next_]:\n",
    "                        bridges.append([curr, next_])\n",
    "                else:\n",
    "                    lowestTime[curr] = min(lowestTime[curr], lowestTime[next_])\n",
    "\n",
    "    DFS(0, -1)\n",
    "    return bridges\n",
    "\n",
    "# Testing the solution\n",
    "criticalConnections(4, [[0,1],[1,2],[2,0],[1,3]])"
   ]
  },
  {
   "cell_type": "markdown",
   "id": "ab42efa0",
   "metadata": {
    "papermill": {
     "duration": 0.024118,
     "end_time": "2024-05-04T15:52:02.412349",
     "exception": false,
     "start_time": "2024-05-04T15:52:02.388231",
     "status": "completed"
    },
    "tags": []
   },
   "source": [
    "Articulation points in a graph: https://youtu.be/j1QDfU21iZk?si=DvGHVCaj6mAMQSKl\n",
    "Articulation points are any nodes on whose remove the graph breaks into multiple components"
   ]
  },
  {
   "cell_type": "code",
   "execution_count": 52,
   "id": "0a1ec448",
   "metadata": {
    "execution": {
     "iopub.execute_input": "2024-05-04T15:52:02.462111Z",
     "iopub.status.busy": "2024-05-04T15:52:02.461426Z",
     "iopub.status.idle": "2024-05-04T15:52:02.477069Z",
     "shell.execute_reply": "2024-05-04T15:52:02.476406Z"
    },
    "papermill": {
     "duration": 0.042481,
     "end_time": "2024-05-04T15:52:02.478838",
     "exception": false,
     "start_time": "2024-05-04T15:52:02.436357",
     "status": "completed"
    },
    "tags": []
   },
   "outputs": [
    {
     "data": {
      "text/plain": [
       "[3]"
      ]
     },
     "execution_count": 52,
     "metadata": {},
     "output_type": "execute_result"
    }
   ],
   "source": [
    "def articulationPoints(V: int, E: int, adjl: list[list[int]]) -> list[int]:\n",
    "    \"\"\"\n",
    "    insertionTime: Store time of the node during DFS\n",
    "    lowestTime: min insertionTime of all adjacent nodes, except for the parent and visited nodes\n",
    "\n",
    "    Time: O(V + E), Space: O(V)\n",
    "    \"\"\"\n",
    "\n",
    "    timer: int = 0\n",
    "    visited: set[int] = set()\n",
    "    insertionTime: list[int] = [0 for i in range(V + 1)]\n",
    "    lowestTime: list[int] = [0 for i in range(V + 1)]\n",
    "    artPoints: set[int] = set() # We store it in a set because the same node can be marked as articulation pt multiples times during the DFS\n",
    "\n",
    "    def DFS(curr: int, parent: int):\n",
    "        nonlocal timer, visited, insertionTime, lowestTime, artPoints\n",
    "        visited.add(curr)\n",
    "        insertionTime[curr] = lowestTime[curr] = timer\n",
    "        timer += 1\n",
    "        child: int = 0\n",
    "        for next_ in adjl[curr]:\n",
    "            if next_ == parent:\n",
    "                continue\n",
    "            elif next_ not in visited:\n",
    "                child += 1\n",
    "                DFS(next_, curr)\n",
    "                lowestTime[curr] = min(lowestTime[curr], lowestTime[next_])\n",
    "                if insertionTime[curr] <= lowestTime[next_] and parent != -1:\n",
    "                    artPoints.add(curr)\n",
    "            else: # If visited, we take the time of insertion not the lowestTime unlike tarjan's algorithm (bridge detection)\n",
    "                lowestTime[curr] = min(lowestTime[curr], insertionTime[next_])\n",
    "\n",
    "        # The formula: insertionTime[curr] <= lowestTime[next_] doesn't work for node with parent = -1. \n",
    "        # For these nodes, we need to check how many child it has. If it has more than 1 then it is an articulation pt, \n",
    "        # spliting which we get multiple components.\n",
    "        if child > 1 and parent == -1:\n",
    "            artPoints.add(curr)\n",
    "\n",
    "    for node in range(V):\n",
    "        if node not in visited:\n",
    "            DFS(node, -1)\n",
    "\n",
    "    return list(artPoints) if artPoints else [-1]\n",
    "\n",
    "# Testing the solution\n",
    "articulationPoints(8, 15, [[],[7,5,8],[7,4,6,8],[6,7,5],[2,8,7,5],[1,6,4,3],[5,8,3,2],[1,2,3,4],[1,6,4,2]])\n",
    "articulationPoints(4, 4, [[],[2,3],[1,3],[1,2,4],[3]])"
   ]
  }
 ],
 "metadata": {
  "kernelspec": {
   "display_name": "Python 3 (ipykernel)",
   "language": "python",
   "name": "python3"
  },
  "language_info": {
   "codemirror_mode": {
    "name": "ipython",
    "version": 3
   },
   "file_extension": ".py",
   "mimetype": "text/x-python",
   "name": "python",
   "nbconvert_exporter": "python",
   "pygments_lexer": "ipython3",
   "version": "3.10.14"
  },
  "papermill": {
   "default_parameters": {},
   "duration": 7.026128,
   "end_time": "2024-05-04T15:52:02.720549",
   "environment_variables": {},
   "exception": null,
   "input_path": "study/striver-A2Z/12-graphs.ipynb",
   "output_path": "study/striver-A2Z/12-graphs.ipynb",
   "parameters": {},
   "start_time": "2024-05-04T15:51:55.694421",
   "version": "2.5.0"
  }
 },
 "nbformat": 4,
 "nbformat_minor": 5
}