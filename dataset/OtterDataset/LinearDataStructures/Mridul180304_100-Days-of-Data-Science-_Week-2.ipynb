{
 "cells": [
  {
   "cell_type": "markdown",
   "id": "239287a7",
   "metadata": {},
   "source": [
    "# Week 2: Data Structures & Algorithms (Python)\n",
    "## Day 8-9: Arrays, Linked Lists, Stacks, Queues"
   ]
  },
  {
   "cell_type": "markdown",
   "id": "db0bb2d0",
   "metadata": {},
   "source": [
    "### Arrays\n",
    "An array is a data structure that stores elements of the same type in a contiguous block of memory. Arrays provide fast access to elements using indices but have a fixed size."
   ]
  },
  {
   "cell_type": "code",
   "execution_count": null,
   "id": "d296c8d6",
   "metadata": {},
   "outputs": [
    {
     "name": "stdout",
     "output_type": "stream",
     "text": [
      "Array: array('i', [1, 2, 3, 4, 5])\n",
      "First element: 1\n",
      "Last element: 5\n"
     ]
    }
   ],
   "source": [
    "# Example: Creating and accessing an array in Python\n",
    "import array\n",
    "# Create an array of integers\n",
    "arr = array.array('i',[1, 2, 3, 4, 5])\n",
    "print(\"Array:\", arr)\n",
    "# Accessing elements\n",
    "print(\"First element:\", arr[0])\n",
    "print(\"Last element:\", arr[-1])"
   ]
  },
  {
   "cell_type": "markdown",
   "id": "8f7f13cd",
   "metadata": {},
   "source": [
    "### Linked Lists\n",
    "A linked list is a linear data structure where elements are stored in nodes, and each node points to the next node in the sequence.\n",
    "\n",
    "**Example:**"
   ]
  },
  {
   "cell_type": "code",
   "execution_count": 12,
   "id": "b854d86c",
   "metadata": {},
   "outputs": [
    {
     "name": "stdout",
     "output_type": "stream",
     "text": [
      "1 -> 2 -> 3 -> None\n"
     ]
    }
   ],
   "source": [
    "# Example: Singly Linked List\n",
    "class Node:\n",
    "    def __init__(self, data):\n",
    "        self.data = data\n",
    "        self.next = None\n",
    "\n",
    "class LinkedList:\n",
    "    def __init__(self):\n",
    "        self.head = None\n",
    "\n",
    "    def append(self, data):\n",
    "        new_node = Node(data)\n",
    "        if not self.head:\n",
    "            self.head = new_node\n",
    "            return\n",
    "        current = self.head\n",
    "        while current.next:\n",
    "            current = current.next\n",
    "        current.next = new_node\n",
    "\n",
    "    def display(self):\n",
    "        current = self.head\n",
    "        while current:\n",
    "            print(current.data, end=\" -> \")\n",
    "            current = current.next\n",
    "        print(\"None\")\n",
    "\n",
    "# Usage\n",
    "ll = LinkedList()\n",
    "ll.append(1)\n",
    "ll.append(2)\n",
    "ll.append(3)\n",
    "ll.display()\n"
   ]
  },
  {
   "cell_type": "markdown",
   "id": "6bced924",
   "metadata": {},
   "source": [
    "### Stacks\n",
    "A stack is a Last-In-First-Out (LIFO) data structure where the last element added is the first to be removed. It uses push and pop operations.\n",
    "\n",
    "**Example:**"
   ]
  },
  {
   "cell_type": "code",
   "execution_count": 13,
   "id": "febcc37d",
   "metadata": {},
   "outputs": [
    {
     "name": "stdout",
     "output_type": "stream",
     "text": [
      "Stack after pushes: [1, 2, 3]\n",
      "Popped element: 3\n",
      "Stack after pop: [1, 2]\n"
     ]
    }
   ],
   "source": [
    "# Example: Stack implementation using list\n",
    "stack = []\n",
    "\n",
    "# Push elements\n",
    "stack.append(1)\n",
    "stack.append(2)\n",
    "stack.append(3)\n",
    "\n",
    "print(\"Stack after pushes:\", stack)\n",
    "\n",
    "# Pop elements\n",
    "print(\"Popped element:\", stack.pop())\n",
    "print(\"Stack after pop:\", stack)\n"
   ]
  },
  {
   "cell_type": "markdown",
   "id": "6e3b34f8",
   "metadata": {},
   "source": [
    "### Queues\n",
    "A queue is a First-In-First-Out (FIFO) data structure where the first element added is the first to be removed. It uses enqueue and dequeue operations.\n",
    "\n",
    "**Example:**"
   ]
  },
  {
   "cell_type": "code",
   "execution_count": 14,
   "id": "eb7740bc",
   "metadata": {},
   "outputs": [
    {
     "name": "stdout",
     "output_type": "stream",
     "text": [
      "Queue after enqueues: [1, 2, 3]\n",
      "Dequeued element: 1\n",
      "Queue after dequeue: [2, 3]\n"
     ]
    }
   ],
   "source": [
    "# Example: Queue implementation using collections.deque\n",
    "from collections import deque\n",
    "\n",
    "queue = deque()\n",
    "\n",
    "# Enqueue elements\n",
    "queue.append(1)\n",
    "queue.append(2)\n",
    "queue.append(3)\n",
    "\n",
    "print(\"Queue after enqueues:\", list(queue))\n",
    "\n",
    "# Dequeue elements\n",
    "print(\"Dequeued element:\", queue.popleft())\n",
    "print(\"Queue after dequeue:\", list(queue))\n"
   ]
  },
  {
   "cell_type": "markdown",
   "id": "7ddc1103",
   "metadata": {},
   "source": [
    "## Day 10-12: Sorting Algorithms\n",
    "### Merge Sort\n",
    "Merge sort is a divide-and-conquer algorithm that splits the list into halves, sorts each half, and merges them back together."
   ]
  },
  {
   "cell_type": "code",
   "execution_count": null,
   "id": "4c480162",
   "metadata": {},
   "outputs": [
    {
     "name": "stdout",
     "output_type": "stream",
     "text": [
      "Sorted array: [2, 3, 5, 6, 7, 8]\n"
     ]
    }
   ],
   "source": [
    "# Merge Sort implementation\n",
    "def merge_sort(arr):\n",
    "    if len(arr) <= 1:\n",
    "        return arr\n",
    "    mid = len(arr) // 2\n",
    "    left = merge_sort(arr[:mid])\n",
    "    right = merge_sort(arr[mid:])\n",
    "    return merge(left, right)\n",
    "\n",
    "def merge(left, right):\n",
    "    result = []\n",
    "    i = j = 0\n",
    "    while i < len(left) and j < len(right):\n",
    "        if left[i] < right[j]:\n",
    "            result.append(left[i])\n",
    "            i += 1\n",
    "        else:\n",
    "            result.append(right[j])\n",
    "            j += 1\n",
    "    result.extend(left[i:])\n",
    "    result.extend(right[j:])\n",
    "    return result\n",
    "# Usage\n",
    "arr = [5, 3, 8, 6, 2, 7]\n",
    "print(\"Sorted array:\", merge_sort(arr))"
   ]
  },
  {
   "cell_type": "markdown",
   "id": "943b4516",
   "metadata": {},
   "source": [
    "### Quick Sort\n",
    "Quick sort is a divide-and-conquer algorithm that selects a pivot element, partitions the array, and recursively sorts the partitions.\n",
    "\n",
    "**Example:**"
   ]
  },
  {
   "cell_type": "code",
   "execution_count": 16,
   "id": "42926793",
   "metadata": {},
   "outputs": [
    {
     "name": "stdout",
     "output_type": "stream",
     "text": [
      "Sorted array: [1, 5, 7, 8, 9, 10]\n"
     ]
    }
   ],
   "source": [
    "# Quick Sort implementation\n",
    "def quick_sort(arr):\n",
    "    if len(arr) <= 1:\n",
    "        return arr\n",
    "\n",
    "    pivot = arr[len(arr) // 2]\n",
    "    left = [x for x in arr if x < pivot]\n",
    "    middle = [x for x in arr if x == pivot]\n",
    "    right = [x for x in arr if x > pivot]\n",
    "\n",
    "    return quick_sort(left) + middle + quick_sort(right)\n",
    "\n",
    "# Usage\n",
    "arr = [10, 7, 8, 9, 1, 5]\n",
    "print(\"Sorted array:\", quick_sort(arr))\n"
   ]
  },
  {
   "cell_type": "markdown",
   "id": "b79aff71",
   "metadata": {},
   "source": [
    "## Day 13-14: Binary Search\n",
    "Binary search is an efficient algorithm for finding an element in a sorted list by repeatedly dividing the search interval in half.\n",
    "\n",
    "**Example:**"
   ]
  },
  {
   "cell_type": "code",
   "execution_count": 17,
   "id": "6aada7ce",
   "metadata": {},
   "outputs": [
    {
     "name": "stdout",
     "output_type": "stream",
     "text": [
      "Element 5 found at index 4\n"
     ]
    }
   ],
   "source": [
    "# Binary Search implementation\n",
    "def binary_search(arr, target):\n",
    "    left, right = 0, len(arr) - 1\n",
    "    while left <= right:\n",
    "        mid = (left + right) // 2\n",
    "        if arr[mid] == target:\n",
    "            return mid\n",
    "        elif arr[mid] < target:\n",
    "            left = mid + 1\n",
    "        else:\n",
    "            right = mid - 1\n",
    "    return -1\n",
    "\n",
    "# Usage\n",
    "arr = [1, 2, 3, 4, 5, 6, 7, 8, 9]\n",
    "target = 5\n",
    "index = binary_search(arr, target)\n",
    "print(f\"Element {target} found at index {index}\" if index != -1 else \"Element not found\")\n"
   ]
  }
 ],
 "metadata": {
  "kernelspec": {
   "display_name": "Python 3",
   "language": "python",
   "name": "python3"
  },
  "language_info": {
   "codemirror_mode": {
    "name": "ipython",
    "version": 3
   },
   "file_extension": ".py",
   "mimetype": "text/x-python",
   "name": "python",
   "nbconvert_exporter": "python",
   "pygments_lexer": "ipython3",
   "version": "3.8.2"
  }
 },
 "nbformat": 4,
 "nbformat_minor": 5
}
