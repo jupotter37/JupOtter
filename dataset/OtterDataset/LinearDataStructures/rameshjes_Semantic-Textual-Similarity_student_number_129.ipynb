{
 "cells": [
  {
   "cell_type": "markdown",
   "metadata": {
    "nbgrader": {
     "grade": false,
     "grade_id": "cell-db39751baedd2c23",
     "locked": true,
     "schema_version": 1,
     "solution": false
    }
   },
   "source": [
    "Student ID: 129"
   ]
  },
  {
   "cell_type": "markdown",
   "metadata": {
    "nbgrader": {
     "grade": false,
     "grade_id": "cell-ef3d61a6e805c2cd",
     "locked": true,
     "schema_version": 1,
     "solution": false
    }
   },
   "source": [
    " # What is the role of a prototype program in problem solving?"
   ]
  },
  {
   "cell_type": "markdown",
   "metadata": {
    "nbgrader": {
     "grade": true,
     "grade_id": "cell-41dbdd0ce0be9a18",
     "locked": false,
     "points": 2,
     "schema_version": 1,
     "solution": true
    }
   },
   "source": [
    "1.1 High risk problems are address in the prototype program to make sure that the program is feasible.  A prototype may also be used to show a company that the software can be possibly programmed."
   ]
  },
  {
   "cell_type": "markdown",
   "metadata": {
    "nbgrader": {
     "grade": false,
     "grade_id": "cell-f9e42c425b5ea396",
     "locked": true,
     "schema_version": 1,
     "solution": false
    }
   },
   "source": [
    " # What stages in the software life cycle are influenced by the testing stage?"
   ]
  },
  {
   "cell_type": "markdown",
   "metadata": {
    "nbgrader": {
     "grade": true,
     "grade_id": "cell-07cc8b3ba9dc044f",
     "locked": false,
     "points": 2,
     "schema_version": 1,
     "solution": true
    }
   },
   "source": [
    "1.2 Refining and possibly the design if the testing phase reveals problems in the design. Production can be affected if the program is unworkable in its current form which will lead to a later production time than originally estimated. Also affects coding because after testing you may need to rewrite the code for the program to remove errors."
   ]
  },
  {
   "cell_type": "markdown",
   "metadata": {
    "nbgrader": {
     "grade": false,
     "grade_id": "cell-adbc8608d0586232",
     "locked": true,
     "schema_version": 1,
     "solution": false
    }
   },
   "source": [
    " # What are the main advantages associated with object-oriented programming?"
   ]
  },
  {
   "cell_type": "markdown",
   "metadata": {
    "nbgrader": {
     "grade": true,
     "grade_id": "cell-e34d73ecc9103cc1",
     "locked": false,
     "points": 2,
     "schema_version": 1,
     "solution": true
    }
   },
   "source": [
    "1.3 Modularability, the ability to reuse parts of the program later in another program sometimes with completely different goals for the program. Also it makes it easier to debug code by dividing up the code into classes that each do a specific job and when the program fails at one job you only have one class to debug. Good for security purposes because it allows you to let someone use a program which sorts lists without having to give them access to the source code. ALso allows you to use inheritance and polymorphism."
   ]
  },
  {
   "cell_type": "markdown",
   "metadata": {
    "nbgrader": {
     "grade": false,
     "grade_id": "cell-3b000ba430111162",
     "locked": true,
     "schema_version": 1,
     "solution": false
    }
   },
   "source": [
    " # Where do C++ programs begin to execute?"
   ]
  },
  {
   "cell_type": "markdown",
   "metadata": {
    "nbgrader": {
     "grade": true,
     "grade_id": "cell-cb76532c2b0d359c",
     "locked": false,
     "points": 2,
     "schema_version": 1,
     "solution": true
    }
   },
   "source": [
    "1.4 At function int main ()"
   ]
  },
  {
   "cell_type": "markdown",
   "metadata": {
    "nbgrader": {
     "grade": false,
     "grade_id": "cell-8b8233ff523a963f",
     "locked": true,
     "schema_version": 1,
     "solution": false
    }
   },
   "source": [
    " # What is a variable?"
   ]
  },
  {
   "cell_type": "markdown",
   "metadata": {
    "nbgrader": {
     "grade": true,
     "grade_id": "cell-240e92924cdaee55",
     "locked": false,
     "points": 2,
     "schema_version": 1,
     "solution": true
    }
   },
   "source": [
    "1.5 Variable can be a integer or a string in a program."
   ]
  },
  {
   "cell_type": "markdown",
   "metadata": {
    "nbgrader": {
     "grade": false,
     "grade_id": "cell-4c0cdeb7dba0da8f",
     "locked": true,
     "schema_version": 1,
     "solution": false
    }
   },
   "source": [
    " # Where are variables declared in a C++ program?"
   ]
  },
  {
   "cell_type": "markdown",
   "metadata": {
    "nbgrader": {
     "grade": true,
     "grade_id": "cell-5bf2e79ec9d1207d",
     "locked": false,
     "points": 2,
     "schema_version": 1,
     "solution": true
    }
   },
   "source": [
    "1.6 They can be declared right before they are used, but it is a good practice to declare them at the beginning of the program and label what they are food."
   ]
  },
  {
   "cell_type": "markdown",
   "metadata": {
    "nbgrader": {
     "grade": false,
     "grade_id": "cell-f6a632d5227cc035",
     "locked": true,
     "schema_version": 1,
     "solution": false
    }
   },
   "source": [
    " # What is the main difference between a while and a do...while statement?"
   ]
  },
  {
   "cell_type": "markdown",
   "metadata": {
    "nbgrader": {
     "grade": true,
     "grade_id": "cell-8e3ae2e48d3154ae",
     "locked": false,
     "points": 2,
     "schema_version": 1,
     "solution": true
    }
   },
   "source": [
    "1.7 \"The statement first evaluates the condition and then executes the lines of code in the statement 0 or more times.\tThe do while statement executes the lines of code and then it evaluates the condition.\""
   ]
  },
  {
   "cell_type": "markdown",
   "metadata": {
    "nbgrader": {
     "grade": false,
     "grade_id": "cell-8c3cb70b613428a0",
     "locked": true,
     "schema_version": 1,
     "solution": false
    }
   },
   "source": [
    " # What is typically included in a class definition?"
   ]
  },
  {
   "cell_type": "markdown",
   "metadata": {
    "nbgrader": {
     "grade": true,
     "grade_id": "cell-437b9a12cacbf11c",
     "locked": false,
     "points": 2,
     "schema_version": 1,
     "solution": true
    }
   },
   "source": [
    "2.1 For us it is usually a set, get, and displayMessge or other messages that tell you what properties a class has but does not reveal its implementations. You could have anything you want in your own class definition."
   ]
  },
  {
   "cell_type": "markdown",
   "metadata": {
    "nbgrader": {
     "grade": false,
     "grade_id": "cell-7e38c216467a679a",
     "locked": true,
     "schema_version": 1,
     "solution": false
    }
   },
   "source": [
    " # What is the difference between a data member and a local variable inside a member function?"
   ]
  },
  {
   "cell_type": "markdown",
   "metadata": {
    "nbgrader": {
     "grade": true,
     "grade_id": "cell-3d604b9bc5b3b8e4",
     "locked": false,
     "points": 2,
     "schema_version": 1,
     "solution": true
    }
   },
   "source": [
    "2.2  Data members are the data components of a particular class.  A member function are the functioning components of the class."
   ]
  },
  {
   "cell_type": "markdown",
   "metadata": {
    "nbgrader": {
     "grade": false,
     "grade_id": "cell-f67513483897bf88",
     "locked": true,
     "schema_version": 1,
     "solution": false
    }
   },
   "source": [
    " # What is the difference between a constructor and a function?"
   ]
  },
  {
   "cell_type": "markdown",
   "metadata": {
    "nbgrader": {
     "grade": true,
     "grade_id": "cell-16f13ba899908c18",
     "locked": false,
     "points": 2,
     "schema_version": 1,
     "solution": true
    }
   },
   "source": [
    "2.3  A constructor initializes an object or objects of a class.  A function of a class performs a task such as display a line of text or do some kind of mathematical operations."
   ]
  },
  {
   "cell_type": "markdown",
   "metadata": {
    "nbgrader": {
     "grade": false,
     "grade_id": "cell-a6788db98db75095",
     "locked": true,
     "schema_version": 1,
     "solution": false
    }
   },
   "source": [
    " # When does C++ create a default constructor?"
   ]
  },
  {
   "cell_type": "markdown",
   "metadata": {
    "nbgrader": {
     "grade": true,
     "grade_id": "cell-0f5626116592acb2",
     "locked": false,
     "points": 2,
     "schema_version": 1,
     "solution": true
    }
   },
   "source": [
    "2.4 The compiler creates a default constructor when we do not define one in our class file"
   ]
  },
  {
   "cell_type": "markdown",
   "metadata": {
    "nbgrader": {
     "grade": false,
     "grade_id": "cell-6d72b2fec66a2719",
     "locked": true,
     "schema_version": 1,
     "solution": false
    }
   },
   "source": [
    " # How many constructors can be created for a class?"
   ]
  },
  {
   "cell_type": "markdown",
   "metadata": {
    "nbgrader": {
     "grade": true,
     "grade_id": "cell-957381d930c7edd8",
     "locked": false,
     "points": 2,
     "schema_version": 1,
     "solution": true
    }
   },
   "source": [
    "2.5 Just one per class."
   ]
  },
  {
   "cell_type": "markdown",
   "metadata": {
    "nbgrader": {
     "grade": false,
     "grade_id": "cell-9b86b5f88ed52aa3",
     "locked": true,
     "schema_version": 1,
     "solution": false
    }
   },
   "source": [
    " # What is the difference between a function prototype and a function definition?"
   ]
  },
  {
   "cell_type": "markdown",
   "metadata": {
    "nbgrader": {
     "grade": true,
     "grade_id": "cell-33f2b082aa656288",
     "locked": false,
     "points": 2,
     "schema_version": 1,
     "solution": true
    }
   },
   "source": [
    "2.6  A function definition does not require any additional information that needs to be passed inside its parenthesis to execute. While a definition prototype requires more than one parameters to be passed in order to complete its task."
   ]
  },
  {
   "cell_type": "markdown",
   "metadata": {
    "nbgrader": {
     "grade": false,
     "grade_id": "cell-4cd9e422b926ba56",
     "locked": true,
     "schema_version": 1,
     "solution": false
    }
   },
   "source": [
    " # What is the role of a header-file?"
   ]
  },
  {
   "cell_type": "markdown",
   "metadata": {
    "nbgrader": {
     "grade": true,
     "grade_id": "cell-cc252ed9513dbef0",
     "locked": false,
     "points": 2,
     "schema_version": 1,
     "solution": true
    }
   },
   "source": [
    "2.7 the role of a header file list all the functions a class can do while hiding the inner workings of its functions"
   ]
  },
  {
   "cell_type": "markdown",
   "metadata": {
    "nbgrader": {
     "grade": false,
     "grade_id": "cell-7e8cc4b91963f5de",
     "locked": true,
     "schema_version": 1,
     "solution": false
    }
   },
   "source": [
    " # What does a function signature include?"
   ]
  },
  {
   "cell_type": "markdown",
   "metadata": {
    "nbgrader": {
     "grade": true,
     "grade_id": "cell-740b475a52cce652",
     "locked": false,
     "points": 2,
     "schema_version": 1,
     "solution": true
    }
   },
   "source": [
    "3.1 It includes the name of the program, the type of parameters it can take. It should also include a brief description of what the function does."
   ]
  },
  {
   "cell_type": "markdown",
   "metadata": {
    "nbgrader": {
     "grade": false,
     "grade_id": "cell-f568d5233aa2c0c9",
     "locked": true,
     "schema_version": 1,
     "solution": false
    }
   },
   "source": [
    " # What is the scope of global variables?"
   ]
  },
  {
   "cell_type": "markdown",
   "metadata": {
    "nbgrader": {
     "grade": true,
     "grade_id": "cell-d0638ae77a31f170",
     "locked": false,
     "points": 2,
     "schema_version": 1,
     "solution": true
    }
   },
   "source": [
    "3.2 Any functions that follows their deceleration that  are in the source code file are allowed to have access the variables.  Also global scope variables retrain their value throughout the execution of the program."
   ]
  },
  {
   "cell_type": "markdown",
   "metadata": {
    "nbgrader": {
     "grade": false,
     "grade_id": "cell-0d209eec19980588",
     "locked": true,
     "schema_version": 1,
     "solution": false
    }
   },
   "source": [
    " # How does the compiler handle inline functions?"
   ]
  },
  {
   "cell_type": "markdown",
   "metadata": {
    "nbgrader": {
     "grade": true,
     "grade_id": "cell-7dedef43b645f627",
     "locked": false,
     "points": 2,
     "schema_version": 1,
     "solution": true
    }
   },
   "source": [
    "3.3 It expands the function's definition in that place.  Once the functions is called you can use it as many times as you need.  The compiler just expands on the function."
   ]
  },
  {
   "cell_type": "markdown",
   "metadata": {
    "nbgrader": {
     "grade": false,
     "grade_id": "cell-14c95ce3f97dc215",
     "locked": true,
     "schema_version": 1,
     "solution": false
    }
   },
   "source": [
    " # What is the main advantage associated with function arguments that are passed by reference?"
   ]
  },
  {
   "cell_type": "markdown",
   "metadata": {
    "nbgrader": {
     "grade": true,
     "grade_id": "cell-dad918d056300b5d",
     "locked": false,
     "points": 2,
     "schema_version": 1,
     "solution": true
    }
   },
   "source": [
    "3.4 Overall the program has better performance (means it is faster) because it does not have to copy large amounts of data."
   ]
  },
  {
   "cell_type": "markdown",
   "metadata": {
    "nbgrader": {
     "grade": false,
     "grade_id": "cell-f1937abc9fdf23a9",
     "locked": true,
     "schema_version": 1,
     "solution": false
    }
   },
   "source": [
    " # How are overloaded functions differentiated by the compiler?"
   ]
  },
  {
   "cell_type": "markdown",
   "metadata": {
    "nbgrader": {
     "grade": true,
     "grade_id": "cell-68985947f2188887",
     "locked": false,
     "points": 2,
     "schema_version": 1,
     "solution": true
    }
   },
   "source": [
    "3.5 The compiler selects the proper functions to execute based on number, types and order of arguments in the function call."
   ]
  },
  {
   "cell_type": "markdown",
   "metadata": {
    "nbgrader": {
     "grade": false,
     "grade_id": "cell-db46f6e93e14bcd6",
     "locked": true,
     "schema_version": 1,
     "solution": false
    }
   },
   "source": [
    " # When defining a recursive function, what are possible causes for infinite recursion?"
   ]
  },
  {
   "cell_type": "markdown",
   "metadata": {
    "nbgrader": {
     "grade": true,
     "grade_id": "cell-02fdf167dc990595",
     "locked": false,
     "points": 2,
     "schema_version": 1,
     "solution": true
    }
   },
   "source": [
    "3.6 A base case that is the simplest case for a problem so that the function will lead to it, if this does not happen then it will end up as an infinite loop. And a condition to know when to terminate."
   ]
  },
  {
   "cell_type": "markdown",
   "metadata": {
    "nbgrader": {
     "grade": false,
     "grade_id": "cell-0b58f81588bbaf13",
     "locked": true,
     "schema_version": 1,
     "solution": false
    }
   },
   "source": [
    " # What are the similarities between iteration and recursion?"
   ]
  },
  {
   "cell_type": "markdown",
   "metadata": {
    "nbgrader": {
     "grade": true,
     "grade_id": "cell-0c100737865bff73",
     "locked": false,
     "points": 2,
     "schema_version": 1,
     "solution": true
    }
   },
   "source": [
    "3.7 Both involve a controlled repetition structures, and they both have a termination test.  Also both of them can loop forever."
   ]
  },
  {
   "cell_type": "markdown",
   "metadata": {
    "nbgrader": {
     "grade": false,
     "grade_id": "cell-1593329880de148c",
     "locked": true,
     "schema_version": 1,
     "solution": false
    }
   },
   "source": [
    " # What are the two different ways of specifying the length of an array?"
   ]
  },
  {
   "cell_type": "markdown",
   "metadata": {
    "nbgrader": {
     "grade": true,
     "grade_id": "cell-c56b35f6a71b3ddd",
     "locked": false,
     "points": 2,
     "schema_version": 1,
     "solution": true
    }
   },
   "source": [
    "4.1 int n[10]; //array of 10 integers and int n[arraySize] //where arraySize is some positive integer defined by the user"
   ]
  },
  {
   "cell_type": "markdown",
   "metadata": {
    "nbgrader": {
     "grade": false,
     "grade_id": "cell-f28c7199c661ad6e",
     "locked": true,
     "schema_version": 1,
     "solution": false
    }
   },
   "source": [
    " # What is the main difference between strings declared using the type string versus strings declared using an array of characters?"
   ]
  },
  {
   "cell_type": "markdown",
   "metadata": {
    "nbgrader": {
     "grade": true,
     "grade_id": "cell-19f42e11c96ad0b5",
     "locked": false,
     "points": 2,
     "schema_version": 1,
     "solution": true
    }
   },
   "source": [
    "4.2 strings that are used in an char array are much easier to manipulate than as a string object, because each character is stored separately rather than as a whole"
   ]
  },
  {
   "cell_type": "markdown",
   "metadata": {
    "nbgrader": {
     "grade": false,
     "grade_id": "cell-62d9224508a23fbc",
     "locked": true,
     "schema_version": 1,
     "solution": false
    }
   },
   "source": [
    " # How are arrays passed to functions?"
   ]
  },
  {
   "cell_type": "markdown",
   "metadata": {
    "nbgrader": {
     "grade": true,
     "grade_id": "cell-519411506c577a60",
     "locked": false,
     "points": 2,
     "schema_version": 1,
     "solution": true
    }
   },
   "source": [
    "4.3 by reference only"
   ]
  },
  {
   "cell_type": "markdown",
   "metadata": {
    "nbgrader": {
     "grade": false,
     "grade_id": "cell-7b271b01d53ea403",
     "locked": true,
     "schema_version": 1,
     "solution": false
    }
   },
   "source": [
    " # What is the difference between an array declared as static, and one that is not?"
   ]
  },
  {
   "cell_type": "markdown",
   "metadata": {
    "nbgrader": {
     "grade": true,
     "grade_id": "cell-ad5435dd0b0164ab",
     "locked": false,
     "points": 2,
     "schema_version": 1,
     "solution": true
    }
   },
   "source": [
    "4.4 a static array will store the new values that were assigned to each of its elements. meaning if you call a function twice it will use the last values that were returned the first time.  if you don't declare it static then the new values will not be stored and will be reset to their original value"
   ]
  },
  {
   "cell_type": "markdown",
   "metadata": {
    "nbgrader": {
     "grade": false,
     "grade_id": "cell-9007f06143d7951f",
     "locked": true,
     "schema_version": 1,
     "solution": false
    }
   },
   "source": [
    " # How many dimensions need to be specified when passing a multi-dimensional array as an argument to a function?"
   ]
  },
  {
   "cell_type": "markdown",
   "metadata": {
    "nbgrader": {
     "grade": true,
     "grade_id": "cell-8ca63ab6ce3092c4",
     "locked": false,
     "points": 2,
     "schema_version": 1,
     "solution": true
    }
   },
   "source": [
    "4.5 at least 2, depending on how many arrays are being used."
   ]
  },
  {
   "cell_type": "markdown",
   "metadata": {
    "nbgrader": {
     "grade": false,
     "grade_id": "cell-ab2adc1528711460",
     "locked": true,
     "schema_version": 1,
     "solution": false
    }
   },
   "source": [
    " # Using an index outside the bounds of the array generates an error. Is this a compilation error or a run-time error?"
   ]
  },
  {
   "cell_type": "markdown",
   "metadata": {
    "nbgrader": {
     "grade": true,
     "grade_id": "cell-4c9e64e06c0dae1f",
     "locked": false,
     "points": 2,
     "schema_version": 1,
     "solution": true
    }
   },
   "source": [
    "4.6 compilation error"
   ]
  },
  {
   "cell_type": "markdown",
   "metadata": {
    "nbgrader": {
     "grade": false,
     "grade_id": "cell-955e2a3ef19f2192",
     "locked": true,
     "schema_version": 1,
     "solution": false
    }
   },
   "source": [
    " # How are bi-dimensional arrays stored in memory, by rows or by columns?"
   ]
  },
  {
   "cell_type": "markdown",
   "metadata": {
    "nbgrader": {
     "grade": true,
     "grade_id": "cell-558fd252b210a409",
     "locked": false,
     "points": 2,
     "schema_version": 1,
     "solution": true
    }
   },
   "source": [
    "4.7 usually it is by rows then followed by the column, but it is up to the programmer to determine how values are stored in bi-dimensional arrays."
   ]
  },
  {
   "cell_type": "markdown",
   "metadata": {
    "nbgrader": {
     "grade": false,
     "grade_id": "cell-bf083916a8243697",
     "locked": true,
     "schema_version": 1,
     "solution": false
    }
   },
   "source": [
    " # In one sentence, what is the main idea implemented by insertion sort?"
   ]
  },
  {
   "cell_type": "markdown",
   "metadata": {
    "nbgrader": {
     "grade": true,
     "grade_id": "cell-bd8f180f3332f7c7",
     "locked": false,
     "points": 2,
     "schema_version": 1,
     "solution": true
    }
   },
   "source": [
    "5.1 Takes an element of an array and compares it with the next element, depending on the values of the two elements they will switch and then the program will compare the new switched element with the next one in the array."
   ]
  },
  {
   "cell_type": "markdown",
   "metadata": {
    "nbgrader": {
     "grade": false,
     "grade_id": "cell-cfc51a142cf83016",
     "locked": true,
     "schema_version": 1,
     "solution": false
    }
   },
   "source": [
    " # In one sentence, what is the main idea implemented by selection sort?"
   ]
  },
  {
   "cell_type": "markdown",
   "metadata": {
    "nbgrader": {
     "grade": true,
     "grade_id": "cell-3ae544f968811bb5",
     "locked": false,
     "points": 2,
     "schema_version": 1,
     "solution": true
    }
   },
   "source": [
    "5.2 Searches an array for the largest or the smallest element and is moved out to the front of the array then it will search for the next largest or the smallest element to move out to the front"
   ]
  },
  {
   "cell_type": "markdown",
   "metadata": {
    "nbgrader": {
     "grade": false,
     "grade_id": "cell-029c4ee30e7b5dea",
     "locked": true,
     "schema_version": 1,
     "solution": false
    }
   },
   "source": [
    " # What is the number of operations for insertion sort under a best-case scenario, and what is the best-case scenario?"
   ]
  },
  {
   "cell_type": "markdown",
   "metadata": {
    "nbgrader": {
     "grade": true,
     "grade_id": "cell-5c1c6fad64bbae71",
     "locked": false,
     "points": 2,
     "schema_version": 1,
     "solution": true
    }
   },
   "source": [
    "5.3 The run time for this sorting program is n^2.  Best case is the list is already sorted, worst case is the list is sorted but in reverse."
   ]
  },
  {
   "cell_type": "markdown",
   "metadata": {
    "nbgrader": {
     "grade": false,
     "grade_id": "cell-94c844329dd69a30",
     "locked": true,
     "schema_version": 1,
     "solution": false
    }
   },
   "source": [
    " # What is the base case for a recursive implementation of merge sort?"
   ]
  },
  {
   "cell_type": "markdown",
   "metadata": {
    "nbgrader": {
     "grade": true,
     "grade_id": "cell-2d3ef6005d6c9d67",
     "locked": false,
     "points": 2,
     "schema_version": 1,
     "solution": true
    }
   },
   "source": [
    "5.4 The base case for a recursive merge sort is one number.  One number by itself is a sorted list, regardless of what number it is."
   ]
  },
  {
   "cell_type": "markdown",
   "metadata": {
    "nbgrader": {
     "grade": false,
     "grade_id": "cell-f7d93f065fd36bb1",
     "locked": true,
     "schema_version": 1,
     "solution": false
    }
   },
   "source": [
    " # What is a pointer?"
   ]
  },
  {
   "cell_type": "markdown",
   "metadata": {
    "nbgrader": {
     "grade": true,
     "grade_id": "cell-f4f65092cae8b1dd",
     "locked": false,
     "points": 2,
     "schema_version": 1,
     "solution": true
    }
   },
   "source": [
    "6.1 Its a location in memory that contains the memory address of another location in memory that contains information."
   ]
  },
  {
   "cell_type": "markdown",
   "metadata": {
    "nbgrader": {
     "grade": false,
     "grade_id": "cell-5838fc9cf835c74e",
     "locked": true,
     "schema_version": 1,
     "solution": false
    }
   },
   "source": [
    " # What does the address (&) operator return?"
   ]
  },
  {
   "cell_type": "markdown",
   "metadata": {
    "nbgrader": {
     "grade": true,
     "grade_id": "cell-35341ea7b47f229c",
     "locked": false,
     "points": 2,
     "schema_version": 1,
     "solution": true
    }
   },
   "source": [
    "6.2 This operator returns the memory address of its operand."
   ]
  },
  {
   "cell_type": "markdown",
   "metadata": {
    "nbgrader": {
     "grade": false,
     "grade_id": "cell-0c5c1c9594d7ac49",
     "locked": true,
     "schema_version": 1,
     "solution": false
    }
   },
   "source": [
    " # What does the star (*) operator return?"
   ]
  },
  {
   "cell_type": "markdown",
   "metadata": {
    "nbgrader": {
     "grade": true,
     "grade_id": "cell-1730546f6dfbfb4e",
     "locked": false,
     "points": 2,
     "schema_version": 1,
     "solution": true
    }
   },
   "source": [
    "6.3 returns a synonym for the object to which its pointer operand points."
   ]
  },
  {
   "cell_type": "markdown",
   "metadata": {
    "nbgrader": {
     "grade": false,
     "grade_id": "cell-866fd888e3e341a6",
     "locked": true,
     "schema_version": 1,
     "solution": false
    }
   },
   "source": [
    " # How can an array be addressed in pointer/offset notation?"
   ]
  },
  {
   "cell_type": "markdown",
   "metadata": {
    "nbgrader": {
     "grade": true,
     "grade_id": "cell-72ba461d55b6c46a",
     "locked": false,
     "points": 2,
     "schema_version": 1,
     "solution": true
    }
   },
   "source": [
    "6.4 The array itself can be signed to a pointer or each element of the array can be assigned to a pointer."
   ]
  },
  {
   "cell_type": "markdown",
   "metadata": {
    "nbgrader": {
     "grade": false,
     "grade_id": "cell-639a3b7231581ff4",
     "locked": true,
     "schema_version": 1,
     "solution": false
    }
   },
   "source": [
    " # What does the sizeof operator return?"
   ]
  },
  {
   "cell_type": "markdown",
   "metadata": {
    "nbgrader": {
     "grade": true,
     "grade_id": "cell-9c27e70ec8f7b2e9",
     "locked": false,
     "points": 2,
     "schema_version": 1,
     "solution": true
    }
   },
   "source": [
    "6.5 the number of bytes of an array during program compilation."
   ]
  },
  {
   "cell_type": "markdown",
   "metadata": {
    "nbgrader": {
     "grade": false,
     "grade_id": "cell-d85d430850ef0b1e",
     "locked": true,
     "schema_version": 1,
     "solution": false
    }
   },
   "source": [
    " # What are the different ways to pass a pointer to a function?"
   ]
  },
  {
   "cell_type": "markdown",
   "metadata": {
    "nbgrader": {
     "grade": true,
     "grade_id": "cell-6f32ba4e81132bde",
     "locked": false,
     "points": 2,
     "schema_version": 1,
     "solution": true
    }
   },
   "source": [
    "6.6 They can be passed by value or by reference"
   ]
  },
  {
   "cell_type": "markdown",
   "metadata": {
    "nbgrader": {
     "grade": false,
     "grade_id": "cell-92dccaa44efcbb32",
     "locked": true,
     "schema_version": 1,
     "solution": false
    }
   },
   "source": [
    " # What is a function pointer?"
   ]
  },
  {
   "cell_type": "markdown",
   "metadata": {
    "nbgrader": {
     "grade": true,
     "grade_id": "cell-765a04fa19d129e3",
     "locked": false,
     "points": 2,
     "schema_version": 1,
     "solution": true
    }
   },
   "source": [
    "6.7 A pointer that points to the memory address of the beginning part of a functions.  pretty much the pointer points to the function so it can be called to execute."
   ]
  },
  {
   "cell_type": "markdown",
   "metadata": {
    "nbgrader": {
     "grade": false,
     "grade_id": "cell-e480877cd06b1277",
     "locked": true,
     "schema_version": 1,
     "solution": false
    }
   },
   "source": [
    " # What is a linked list?"
   ]
  },
  {
   "cell_type": "markdown",
   "metadata": {
    "nbgrader": {
     "grade": true,
     "grade_id": "cell-5be77880af3e1974",
     "locked": false,
     "points": 2,
     "schema_version": 1,
     "solution": true
    }
   },
   "source": [
    "7.1 Consists of sequence of nodes, each containing a number of data fields and one or two links called pointers that point to the next or previous nodes."
   ]
  },
  {
   "cell_type": "markdown",
   "metadata": {
    "nbgrader": {
     "grade": false,
     "grade_id": "cell-5fb8538983d5e756",
     "locked": true,
     "schema_version": 1,
     "solution": false
    }
   },
   "source": [
    " # What is the main advantage of linked lists over arrays?"
   ]
  },
  {
   "cell_type": "markdown",
   "metadata": {
    "nbgrader": {
     "grade": true,
     "grade_id": "cell-5700ca1d25765529",
     "locked": false,
     "points": 2,
     "schema_version": 1,
     "solution": true
    }
   },
   "source": [
    "7.2 Elements can be inserted into a link list at any point and does not need to be resized unlike an array needs to be."
   ]
  },
  {
   "cell_type": "markdown",
   "metadata": {
    "nbgrader": {
     "grade": false,
     "grade_id": "cell-93c6656f68d23de5",
     "locked": true,
     "schema_version": 1,
     "solution": false
    }
   },
   "source": [
    " # What is the main advantage of arrays over linked lists?"
   ]
  },
  {
   "cell_type": "markdown",
   "metadata": {
    "nbgrader": {
     "grade": true,
     "grade_id": "cell-0447903bf0d998b0",
     "locked": false,
     "points": 2,
     "schema_version": 1,
     "solution": true
    }
   },
   "source": [
    "7.3 Array can retrieve memory from any place in the list while in a link list you have to traverse through each individual node."
   ]
  },
  {
   "cell_type": "markdown",
   "metadata": {
    "nbgrader": {
     "grade": false,
     "grade_id": "cell-d2863e4698424cc0",
     "locked": true,
     "schema_version": 1,
     "solution": false
    }
   },
   "source": [
    " # How are linked lists passed as arguments to a function?"
   ]
  },
  {
   "cell_type": "markdown",
   "metadata": {
    "nbgrader": {
     "grade": true,
     "grade_id": "cell-18f7cea5910b5fd9",
     "locked": false,
     "points": 2,
     "schema_version": 1,
     "solution": true
    }
   },
   "source": [
    "7.4 They are passed by reference because you want the function to change the pointer"
   ]
  },
  {
   "cell_type": "markdown",
   "metadata": {
    "nbgrader": {
     "grade": false,
     "grade_id": "cell-5447c7169ef57534",
     "locked": true,
     "schema_version": 1,
     "solution": false
    }
   },
   "source": [
    " # What is the difference between a circular linked list and a basic linked list?"
   ]
  },
  {
   "cell_type": "markdown",
   "metadata": {
    "nbgrader": {
     "grade": true,
     "grade_id": "cell-ef4d6baf12c3df36",
     "locked": false,
     "points": 2,
     "schema_version": 1,
     "solution": true
    }
   },
   "source": [
    "7.5 They are passed by reference because you want the function to change the pointer"
   ]
  },
  {
   "cell_type": "markdown",
   "metadata": {
    "nbgrader": {
     "grade": false,
     "grade_id": "cell-a5bf6f681830da41",
     "locked": true,
     "schema_version": 1,
     "solution": false
    }
   },
   "source": [
    " # What is the main advantage of a doubly-linked list over a basic linked list?"
   ]
  },
  {
   "cell_type": "markdown",
   "metadata": {
    "nbgrader": {
     "grade": true,
     "grade_id": "cell-95315bc621415379",
     "locked": false,
     "points": 2,
     "schema_version": 1,
     "solution": true
    }
   },
   "source": [
    "7.6 they can traverse in both directions"
   ]
  },
  {
   "cell_type": "markdown",
   "metadata": {
    "nbgrader": {
     "grade": false,
     "grade_id": "cell-4f678ed1ff54d4de",
     "locked": true,
     "schema_version": 1,
     "solution": false
    }
   },
   "source": [
    " # What is the main disadvantage of a doubly-linked list over a basic linked list?"
   ]
  },
  {
   "cell_type": "markdown",
   "metadata": {
    "nbgrader": {
     "grade": true,
     "grade_id": "cell-93a55b4bda6f2892",
     "locked": false,
     "points": 2,
     "schema_version": 1,
     "solution": true
    }
   },
   "source": [
    "7.7 they take up twice as much memory for each node"
   ]
  },
  {
   "cell_type": "markdown",
   "metadata": {
    "nbgrader": {
     "grade": false,
     "grade_id": "cell-3ac24552d60aa519",
     "locked": true,
     "schema_version": 1,
     "solution": false
    }
   },
   "source": [
    " # What is a stack?"
   ]
  },
  {
   "cell_type": "markdown",
   "metadata": {
    "nbgrader": {
     "grade": true,
     "grade_id": "cell-26912836c13b1492",
     "locked": false,
     "points": 2,
     "schema_version": 1,
     "solution": true
    }
   },
   "source": [
    "8.1 A data structure for storing items which are to be accessed in last-in first-out order that can be implemented in three ways."
   ]
  },
  {
   "cell_type": "markdown",
   "metadata": {
    "nbgrader": {
     "grade": false,
     "grade_id": "cell-92542d184d45f68b",
     "locked": true,
     "schema_version": 1,
     "solution": false
    }
   },
   "source": [
    " # What are the two main functions defined by a stack?"
   ]
  },
  {
   "cell_type": "markdown",
   "metadata": {
    "nbgrader": {
     "grade": true,
     "grade_id": "cell-e037fcf463ec9e14",
     "locked": false,
     "points": 2,
     "schema_version": 1,
     "solution": true
    }
   },
   "source": [
    "8.2 Push and pop are two main functions defined in a stack"
   ]
  },
  {
   "cell_type": "markdown",
   "metadata": {
    "nbgrader": {
     "grade": false,
     "grade_id": "cell-026d60e1accd6b4c",
     "locked": true,
     "schema_version": 1,
     "solution": false
    }
   },
   "source": [
    " # How can you implement a stack with an array?"
   ]
  },
  {
   "cell_type": "markdown",
   "metadata": {
    "nbgrader": {
     "grade": true,
     "grade_id": "cell-a10e51b7d1a5e463",
     "locked": false,
     "points": 2,
     "schema_version": 1,
     "solution": true
    }
   },
   "source": [
    "8.3 An array has a fixed size.  You can add and delete elements to the end of the array and you use a pointer to keep track of the last element added.  Each time you add or delete an element you update the pointer and check if it is equal to the max size of the array."
   ]
  },
  {
   "cell_type": "markdown",
   "metadata": {
    "nbgrader": {
     "grade": false,
     "grade_id": "cell-e12d6aa8d14a1336",
     "locked": true,
     "schema_version": 1,
     "solution": false
    }
   },
   "source": [
    " # How can you implement a stack with a list?"
   ]
  },
  {
   "cell_type": "markdown",
   "metadata": {
    "nbgrader": {
     "grade": true,
     "grade_id": "cell-f214442e35f7bbf1",
     "locked": false,
     "points": 2,
     "schema_version": 1,
     "solution": true
    }
   },
   "source": [
    "8.4 You can add an element to the end of the linked list and update a pointer called top each time you modify the list."
   ]
  },
  {
   "cell_type": "markdown",
   "metadata": {
    "nbgrader": {
     "grade": false,
     "grade_id": "cell-8ef7eea577b42b42",
     "locked": true,
     "schema_version": 1,
     "solution": false
    }
   },
   "source": [
    " # Which implementation (array-based vs. list-based) is preferred, and why?"
   ]
  },
  {
   "cell_type": "markdown",
   "metadata": {
    "nbgrader": {
     "grade": true,
     "grade_id": "cell-0c06c86c82d9b6c4",
     "locked": false,
     "points": 2,
     "schema_version": 1,
     "solution": true
    }
   },
   "source": [
    "8.5 List based is preferred because it is not constrained to a fix size.  The down fall is that it takes up more memory because each node has at least two parts, the item and the pointer."
   ]
  },
  {
   "cell_type": "markdown",
   "metadata": {
    "nbgrader": {
     "grade": false,
     "grade_id": "cell-1fa5de0ec9d5f412",
     "locked": true,
     "schema_version": 1,
     "solution": false
    }
   },
   "source": [
    " # How are infix expressions evaluated by computers?"
   ]
  },
  {
   "cell_type": "markdown",
   "metadata": {
    "nbgrader": {
     "grade": true,
     "grade_id": "cell-df9fc553740a3276",
     "locked": false,
     "points": 2,
     "schema_version": 1,
     "solution": true
    }
   },
   "source": [
    "8.6 They are converted to post fix expressions.  It still follow the order of precedence for the operators."
   ]
  },
  {
   "cell_type": "markdown",
   "metadata": {
    "nbgrader": {
     "grade": false,
     "grade_id": "cell-1a5f60ec58be1113",
     "locked": true,
     "schema_version": 1,
     "solution": false
    }
   },
   "source": [
    " # What operations would you need to perform to find a given element on a stack?"
   ]
  },
  {
   "cell_type": "markdown",
   "metadata": {
    "nbgrader": {
     "grade": true,
     "grade_id": "cell-c997bc56479f69bf",
     "locked": false,
     "points": 2,
     "schema_version": 1,
     "solution": true
    }
   },
   "source": [
    "8.7 isEmptry()//determines if the stack is full or not pop()//to remove the top element if it is not the on you are looking for search()//you compare each element of the stack to the data you are looking for."
   ]
  },
  {
   "cell_type": "markdown",
   "metadata": {
    "nbgrader": {
     "grade": false,
     "grade_id": "cell-ccf43d3b519009ea",
     "locked": true,
     "schema_version": 1,
     "solution": false
    }
   },
   "source": [
    " # What is a queue?"
   ]
  },
  {
   "cell_type": "markdown",
   "metadata": {
    "nbgrader": {
     "grade": true,
     "grade_id": "cell-de002086830d976e",
     "locked": false,
     "points": 2,
     "schema_version": 1,
     "solution": true
    }
   },
   "source": [
    "9.1 A data structure in c++ which is a collection of data that is kept in order.  First in first out."
   ]
  },
  {
   "cell_type": "markdown",
   "metadata": {
    "nbgrader": {
     "grade": false,
     "grade_id": "cell-4a5f9837bc21aec0",
     "locked": true,
     "schema_version": 1,
     "solution": false
    }
   },
   "source": [
    " # What are the two main functions defined by a queue?"
   ]
  },
  {
   "cell_type": "markdown",
   "metadata": {
    "nbgrader": {
     "grade": true,
     "grade_id": "cell-a49a098ba77e2e2a",
     "locked": false,
     "points": 2,
     "schema_version": 1,
     "solution": true
    }
   },
   "source": [
    "9.2 enqueue which adds data to the queue and dequeue which deletes data from the queue"
   ]
  },
  {
   "cell_type": "markdown",
   "metadata": {
    "nbgrader": {
     "grade": false,
     "grade_id": "cell-0e75dad9c6bd41ae",
     "locked": true,
     "schema_version": 1,
     "solution": false
    }
   },
   "source": [
    " # How can you implement a queue with an array?"
   ]
  },
  {
   "cell_type": "markdown",
   "metadata": {
    "nbgrader": {
     "grade": true,
     "grade_id": "cell-c824fd05e9891404",
     "locked": false,
     "points": 2,
     "schema_version": 1,
     "solution": true
    }
   },
   "source": [
    "9.3 Make use of a front pointer and a tail pointer.  When the tail pointer reaches the end of an array it gets reset to the front of the array.  If the two pointers are equal then the queue is either full or just has one element."
   ]
  },
  {
   "cell_type": "markdown",
   "metadata": {
    "nbgrader": {
     "grade": false,
     "grade_id": "cell-d064541263ee2f07",
     "locked": true,
     "schema_version": 1,
     "solution": false
    }
   },
   "source": [
    " # How can you implement a queue with a list?"
   ]
  },
  {
   "cell_type": "markdown",
   "metadata": {
    "nbgrader": {
     "grade": true,
     "grade_id": "cell-daaf88fad3f650d2",
     "locked": false,
     "points": 2,
     "schema_version": 1,
     "solution": true
    }
   },
   "source": [
    "9.4 A list can have unlimited elements in it.  You can push a node onto the end of the list and pop the one in the front."
   ]
  },
  {
   "cell_type": "markdown",
   "metadata": {
    "nbgrader": {
     "grade": false,
     "grade_id": "cell-384c52102edeca6d",
     "locked": true,
     "schema_version": 1,
     "solution": false
    }
   },
   "source": [
    " # Which implementation (array-based vs. list-based) is preferred for a queue, and why?"
   ]
  },
  {
   "cell_type": "markdown",
   "metadata": {
    "nbgrader": {
     "grade": true,
     "grade_id": "cell-82558f90cbf0014e",
     "locked": false,
     "points": 2,
     "schema_version": 1,
     "solution": true
    }
   },
   "source": [
    "9.5 List based.  Because it is on the run time order of N, also it does not have a limited size like an array does"
   ]
  },
  {
   "cell_type": "markdown",
   "metadata": {
    "nbgrader": {
     "grade": false,
     "grade_id": "cell-971ed997f766b8d8",
     "locked": true,
     "schema_version": 1,
     "solution": false
    }
   },
   "source": [
    " # What is the stack operation corresponding to the enqueue operation in queues?"
   ]
  },
  {
   "cell_type": "markdown",
   "metadata": {
    "nbgrader": {
     "grade": true,
     "grade_id": "cell-e20a3dc4ab0183f6",
     "locked": false,
     "points": 2,
     "schema_version": 1,
     "solution": true
    }
   },
   "source": [
    "9.6 Push."
   ]
  },
  {
   "cell_type": "markdown",
   "metadata": {
    "nbgrader": {
     "grade": false,
     "grade_id": "cell-eb3a1c39231d2a5c",
     "locked": true,
     "schema_version": 1,
     "solution": false
    }
   },
   "source": [
    " # What data structure is more appropriate for scheduling printing jobs at a printer, a stack or a queue?"
   ]
  },
  {
   "cell_type": "markdown",
   "metadata": {
    "nbgrader": {
     "grade": true,
     "grade_id": "cell-0a39d780dbbf164b",
     "locked": false,
     "points": 2,
     "schema_version": 1,
     "solution": true
    }
   },
   "source": [
    "9.7 A stack, some printing jobs might have a higher priority than others and they can be easily inserted at the front of the list or anywhere between."
   ]
  }
 ],
 "metadata": {
  "celltoolbar": "Create Assignment"
 },
 "nbformat": 4,
 "nbformat_minor": 0
}
