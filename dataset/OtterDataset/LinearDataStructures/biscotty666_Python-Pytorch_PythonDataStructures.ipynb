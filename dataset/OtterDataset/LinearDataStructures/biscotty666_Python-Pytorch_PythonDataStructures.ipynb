{
 "cells": [
  {
   "cell_type": "markdown",
   "id": "829c2187-099d-4f6f-8475-5b6246c15f87",
   "metadata": {},
   "source": [
    "# Python Data Structures\n",
    "\n",
    "[Video](https://www.youtube.com/watch?v=kQDxmjfkIKY)\n",
    "\n",
    "[Python Docs](https://docs.python.org/3/)\n",
    "\n",
    "Credit: Joe James/[CodDevX](https://www.youtube.com/@coddevx4014)"
   ]
  },
  {
   "cell_type": "markdown",
   "id": "689fd2fb-cd8f-470d-ad2b-817a67401927",
   "metadata": {
    "tags": []
   },
   "source": [
    "## Sequences: String, List, Tuple"
   ]
  },
  {
   "cell_type": "markdown",
   "id": "33a4d147-c8f9-4039-a85a-d5369c47341f",
   "metadata": {},
   "source": [
    "**Indexing**"
   ]
  },
  {
   "cell_type": "code",
   "execution_count": 2,
   "id": "f41b543d-68fa-4eff-8eb4-292fcd6479bf",
   "metadata": {},
   "outputs": [
    {
     "name": "stdout",
     "output_type": "stream",
     "text": [
      "g\n",
      "cow\n",
      "Jenny\n"
     ]
    }
   ],
   "source": [
    "# string\n",
    "x = 'frog'\n",
    "print(x[3])\n",
    "\n",
    "# list\n",
    "x = ['pig', 'cow', 'goat']\n",
    "print(x[1])\n",
    "\n",
    "# tuple\n",
    "x = ('Kevin', 'Niklas', 'Jenny', 'Craig')\n",
    "print(x[2])"
   ]
  },
  {
   "cell_type": "markdown",
   "id": "c0b7aed6-10a9-49d6-90c6-4b619ef53b28",
   "metadata": {},
   "source": [
    "**Slicing**\n",
    "\n",
    "[start:end+1:step]"
   ]
  },
  {
   "cell_type": "code",
   "execution_count": 3,
   "id": "13226e45-bc8b-4011-8824-a4df62b44c77",
   "metadata": {},
   "outputs": [
    {
     "name": "stdout",
     "output_type": "stream",
     "text": [
      "omp\n",
      "opt\n",
      "puter\n",
      "compu\n",
      "r\n",
      "ter\n",
      "comput\n"
     ]
    }
   ],
   "source": [
    "x = 'computer'\n",
    "print(x[1:4])\n",
    "print(x[1:6:2])\n",
    "print(x[3:])\n",
    "print(x[:5])\n",
    "print(x[-1])\n",
    "print(x[-3:])\n",
    "print(x[:-2])"
   ]
  },
  {
   "cell_type": "markdown",
   "id": "5848fd96-a348-4e7c-a077-3c7578fef662",
   "metadata": {},
   "source": [
    "**Adding/Concatenating**"
   ]
  },
  {
   "cell_type": "code",
   "execution_count": 4,
   "id": "4560a256-d398-4540-abce-93e370ab96c2",
   "metadata": {},
   "outputs": [
    {
     "name": "stdout",
     "output_type": "stream",
     "text": [
      "horseshoe\n",
      "['pig', 'cow', 'horse']\n",
      "('Kevin', 'Niklas', 'Jenny', 'Craig')\n"
     ]
    }
   ],
   "source": [
    "# string\n",
    "x = 'horse' + 'shoe'\n",
    "print(x)\n",
    "\n",
    "# list\n",
    "y = ['pig', 'cow'] + ['horse']\n",
    "print(y)\n",
    "\n",
    "# tuple\n",
    "z = ('Kevin', 'Niklas', 'Jenny') + ('Craig',)  ## Comma required for single element tuple\n",
    "print(z)"
   ]
  },
  {
   "cell_type": "markdown",
   "id": "ad5616c3-c298-447a-8f7f-43b86bde877b",
   "metadata": {},
   "source": [
    "**Multiplying**"
   ]
  },
  {
   "cell_type": "code",
   "execution_count": 5,
   "id": "6f3e3a85-78f5-4991-befa-6339c6ed18b8",
   "metadata": {},
   "outputs": [
    {
     "name": "stdout",
     "output_type": "stream",
     "text": [
      "bugbugbug\n",
      "[8, 5, 8, 5, 8, 5]\n",
      "(2, 4, 2, 4, 2, 4)\n"
     ]
    }
   ],
   "source": [
    "# string\n",
    "\n",
    "x = 'bug' * 3\n",
    "print(x)\n",
    "\n",
    "# list\n",
    "y = [8, 5] * 3\n",
    "print(y)\n",
    "\n",
    "# tuple\n",
    "z = (2, 4) * 3\n",
    "print(z)"
   ]
  },
  {
   "cell_type": "markdown",
   "id": "8ca737e2-4acd-4266-8f5d-4f35a236874c",
   "metadata": {},
   "source": [
    "**Checking membership**"
   ]
  },
  {
   "cell_type": "code",
   "execution_count": 6,
   "id": "9726dd49-10e8-42e5-b0e4-94812be92a04",
   "metadata": {},
   "outputs": [
    {
     "name": "stdout",
     "output_type": "stream",
     "text": [
      "True\n",
      "False\n",
      "True\n"
     ]
    }
   ],
   "source": [
    "# string\n",
    "x = 'bug'\n",
    "print('u' in x)\n",
    "\n",
    "# list\n",
    "y = ['pig', 'cow', 'horse']\n",
    "print('cow' not in y)\n",
    "\n",
    "# tuple\n",
    "z = ('Kevin', 'Niklas', 'Jenny', 'Craig')\n",
    "print('Niklas' in z)"
   ]
  },
  {
   "cell_type": "markdown",
   "id": "6dbc0290-1f8d-45cb-8f42-a356b75f5f25",
   "metadata": {},
   "source": [
    "**Iterating**\n",
    "\n",
    "for loops"
   ]
  },
  {
   "cell_type": "code",
   "execution_count": 7,
   "id": "ffa1f45e-f5b3-48ee-ae2b-f5093af110e2",
   "metadata": {},
   "outputs": [
    {
     "name": "stdout",
     "output_type": "stream",
     "text": [
      "7\n",
      "8\n",
      "3\n",
      "0 7\n",
      "1 8\n",
      "2 3\n"
     ]
    }
   ],
   "source": [
    "# item\n",
    "x = [7,8,3]\n",
    "for item in x:\n",
    "  print(item)\n",
    "  \n",
    "# index & item\n",
    "y = [7,8,3]\n",
    "for index, item in enumerate(y):\n",
    "  print(index, item)"
   ]
  },
  {
   "cell_type": "markdown",
   "id": "7420956c-b931-4735-9682-ecf64675c7f2",
   "metadata": {},
   "source": [
    "**Number of Items**\n",
    "\n",
    "Length"
   ]
  },
  {
   "cell_type": "code",
   "execution_count": 8,
   "id": "08fb3930-5210-46c3-a0b8-bc58e6670b06",
   "metadata": {},
   "outputs": [
    {
     "name": "stdout",
     "output_type": "stream",
     "text": [
      "3\n",
      "3\n",
      "4\n"
     ]
    }
   ],
   "source": [
    "# string\n",
    "x = 'bug'\n",
    "print(len(x))\n",
    "\n",
    "# list\n",
    "y = ['pig', 'cow', 'horse']\n",
    "print(len(y))\n",
    "\n",
    "# tuple\n",
    "z = ('Kevin', 'Niklas', 'Jenny', 'Craig')\n",
    "print(len(z))"
   ]
  },
  {
   "cell_type": "markdown",
   "id": "5b241947-59ef-42e4-859f-1c03048ef46b",
   "metadata": {},
   "source": [
    "**Minimum/Maximum**"
   ]
  },
  {
   "cell_type": "code",
   "execution_count": 9,
   "id": "c2b51d97-2b74-4b22-85ab-ef51ee664073",
   "metadata": {},
   "outputs": [
    {
     "name": "stdout",
     "output_type": "stream",
     "text": [
      "b\n",
      "u\n",
      "cow\n",
      "pig\n",
      "Craig\n",
      "Niklas\n"
     ]
    }
   ],
   "source": [
    "# string\n",
    "x = 'bug'\n",
    "print(min(x))\n",
    "print(max(x))\n",
    "\n",
    "# list\n",
    "y = ['pig', 'cow', 'horse']\n",
    "print(min(y))\n",
    "print(max(y))\n",
    "\n",
    "# tuple\n",
    "z = ('Kevin', 'Niklas', 'Jenny', 'Craig')\n",
    "print(min(z))\n",
    "print(max(z))"
   ]
  },
  {
   "cell_type": "markdown",
   "id": "4ecc2d13-7b91-4e33-96ca-bb486f161433",
   "metadata": {},
   "source": [
    " **Sum**"
   ]
  },
  {
   "cell_type": "code",
   "execution_count": 10,
   "id": "613198c2-a0b5-4e3c-9113-7c259e168afe",
   "metadata": {},
   "outputs": [
    {
     "name": "stdout",
     "output_type": "stream",
     "text": [
      "27\n",
      "20\n",
      "80\n"
     ]
    }
   ],
   "source": [
    "# string - sum() generates an error\n",
    "\n",
    "# list\n",
    "y = [2,5,8,12]\n",
    "print(sum(y))\n",
    "print(sum(y[-2:]))\n",
    "\n",
    "# tuple\n",
    "z = (50,4,7,19)\n",
    "print(sum(z))"
   ]
  },
  {
   "cell_type": "markdown",
   "id": "24d9e397-97ea-4eeb-bb0d-dddc08409420",
   "metadata": {},
   "source": [
    "**Sorting**"
   ]
  },
  {
   "cell_type": "markdown",
   "id": "b8a4503d-1787-45e6-b0ff-cd0b48158cb5",
   "metadata": {},
   "source": [
    "Sorted - does not change the original list"
   ]
  },
  {
   "cell_type": "code",
   "execution_count": 11,
   "id": "42a81f7b-804d-4d80-bcdb-c0d967550c40",
   "metadata": {},
   "outputs": [
    {
     "name": "stdout",
     "output_type": "stream",
     "text": [
      "['b', 'g', 'u']\n",
      "['cow', 'horse', 'pig']\n",
      "['Craig', 'Jenny', 'Kevin', 'Niklas']\n"
     ]
    }
   ],
   "source": [
    "# string\n",
    "x = 'bug'\n",
    "print(sorted(x))\n",
    "\n",
    "# list\n",
    "y = ['pig', 'cow', 'horse']\n",
    "print(sorted(y))\n",
    "\n",
    "# tuple\n",
    "z = ('Kevin', 'Niklas', 'Jenny', 'Craig')\n",
    "print(sorted(z))"
   ]
  },
  {
   "cell_type": "markdown",
   "id": "2ce792ac-0e7f-46e2-9f36-270cd39db5c1",
   "metadata": {},
   "source": [
    "Sort by second letter"
   ]
  },
  {
   "cell_type": "code",
   "execution_count": 12,
   "id": "ac424c62-4c85-48c9-b193-993b739b6693",
   "metadata": {},
   "outputs": [
    {
     "name": "stdout",
     "output_type": "stream",
     "text": [
      "['Kevin', 'Jenny', 'Niklas', 'Craig']\n"
     ]
    }
   ],
   "source": [
    "z = ('Kevin', 'Niklas', 'Jenny', 'Craig')\n",
    "print(sorted(z, key=lambda k: k[1]))"
   ]
  },
  {
   "cell_type": "markdown",
   "id": "55519022-fe15-49dc-9bec-90f785891e2c",
   "metadata": {},
   "source": [
    "count(item)"
   ]
  },
  {
   "cell_type": "code",
   "execution_count": 13,
   "id": "2a56d6ce-8000-4675-873e-6e6f111606e2",
   "metadata": {},
   "outputs": [
    {
     "name": "stdout",
     "output_type": "stream",
     "text": [
      "2\n",
      "2\n",
      "1\n"
     ]
    }
   ],
   "source": [
    "x = 'hippo'\n",
    "print(x.count('p'))\n",
    "\n",
    "# list\n",
    "y = ['pig', 'cow', 'horse', 'cow']\n",
    "print(y.count('cow'))\n",
    "\n",
    "# tuple\n",
    "z = ('Kevin', 'Niklas', 'Jenny', 'Craig')\n",
    "print(z.count('Kevin'))"
   ]
  },
  {
   "cell_type": "markdown",
   "id": "ded03503-2035-4f98-8335-0e5615879c29",
   "metadata": {},
   "source": [
    "index(item)"
   ]
  },
  {
   "cell_type": "code",
   "execution_count": 14,
   "id": "d2c716d1-8148-40dc-868c-3b9ff541bc78",
   "metadata": {},
   "outputs": [
    {
     "name": "stdout",
     "output_type": "stream",
     "text": [
      "2\n",
      "1\n",
      "2\n"
     ]
    }
   ],
   "source": [
    "x = 'hippo'\n",
    "print(x.index('p'))\n",
    "\n",
    "# list\n",
    "y = ['pig', 'cow', 'horse', 'cow']\n",
    "print(y.index('cow'))\n",
    "\n",
    "# tuple\n",
    "z = ('Kevin', 'Niklas', 'Jenny', 'Craig')\n",
    "print(z.index('Jenny'))"
   ]
  },
  {
   "cell_type": "markdown",
   "id": "67328fa2-128a-4c92-b5b0-799bbcdd2d6a",
   "metadata": {},
   "source": [
    "unpacking"
   ]
  },
  {
   "cell_type": "code",
   "execution_count": 15,
   "id": "f91e5adb-a1e2-45b0-8f7e-f10a94329dc7",
   "metadata": {},
   "outputs": [
    {
     "name": "stdout",
     "output_type": "stream",
     "text": [
      "pig cow horse\n"
     ]
    }
   ],
   "source": [
    "x = ['pig', 'cow', 'horse']\n",
    "a, b, c = x\n",
    "print(a, b, c)"
   ]
  },
  {
   "cell_type": "markdown",
   "id": "bd6984f3-16d2-457d-8e1b-a940cb546139",
   "metadata": {
    "tags": []
   },
   "source": [
    "## Lists"
   ]
  },
  {
   "cell_type": "markdown",
   "id": "77ae7fe1-a232-4fc2-8a0d-d5bde6aded22",
   "metadata": {},
   "source": [
    "**Constructors**"
   ]
  },
  {
   "cell_type": "code",
   "execution_count": 16,
   "id": "b37e431e-10fb-47cf-ad82-08d0d2a046d6",
   "metadata": {},
   "outputs": [
    {
     "name": "stdout",
     "output_type": "stream",
     "text": [
      "[0, 1, 2, 3, 4, 5, 6, 7]\n",
      "[25, 36, 49, 64, 81]\n"
     ]
    }
   ],
   "source": [
    "x = list()\n",
    "y = ['a', 25, 'dog', 8.43]\n",
    "tuple1 = (10, 20)\n",
    "z = list(tuple1)\n",
    "\n",
    "a = [m for m in range(8)]\n",
    "print(a)\n",
    "\n",
    "b = [i**2 for i in range(10) if i>4]\n",
    "print(b)"
   ]
  },
  {
   "cell_type": "markdown",
   "id": "ea571f8a-ed60-4b76-ba10-e8439043c22a",
   "metadata": {},
   "source": [
    "**Delete del()**"
   ]
  },
  {
   "cell_type": "code",
   "execution_count": 17,
   "id": "fc0b348d-e069-4701-8ac3-74b68bb20c46",
   "metadata": {},
   "outputs": [
    {
     "name": "stdout",
     "output_type": "stream",
     "text": [
      "[5, 8, 6]\n"
     ]
    }
   ],
   "source": [
    "x = [5,3,8,6]\n",
    "del(x[1])\n",
    "print(x)\n",
    "del(x)"
   ]
  },
  {
   "cell_type": "markdown",
   "id": "1426080e-f73d-43ea-b057-3072c03b9264",
   "metadata": {},
   "source": [
    "**append**"
   ]
  },
  {
   "cell_type": "code",
   "execution_count": 18,
   "id": "9e82cf2c-991f-4870-8be0-74baee642ebf",
   "metadata": {},
   "outputs": [
    {
     "name": "stdout",
     "output_type": "stream",
     "text": [
      "[5, 3, 8, 6, 7]\n"
     ]
    }
   ],
   "source": [
    "x = [5,3,8,6]\n",
    "x.append(7)\n",
    "print(x)"
   ]
  },
  {
   "cell_type": "markdown",
   "id": "d019ea9d-e0b8-40dd-be38-1fddb9d90833",
   "metadata": {},
   "source": [
    "**extend**"
   ]
  },
  {
   "cell_type": "code",
   "execution_count": 19,
   "id": "8565082c-790c-4ca6-b16c-8ae39752d20b",
   "metadata": {},
   "outputs": [
    {
     "name": "stdout",
     "output_type": "stream",
     "text": [
      "[5, 3, 8, 6, 12, 13]\n"
     ]
    }
   ],
   "source": [
    "x = [5,3,8,6]\n",
    "y = [12, 13]\n",
    "x.extend(y)\n",
    "print(x)"
   ]
  },
  {
   "cell_type": "markdown",
   "id": "6ae65294-bfed-406c-98cf-110e64c3a6e6",
   "metadata": {},
   "source": [
    "**insert**"
   ]
  },
  {
   "cell_type": "code",
   "execution_count": 20,
   "id": "f4374ff8-ffee-4312-9289-b99b69f5df52",
   "metadata": {},
   "outputs": [
    {
     "name": "stdout",
     "output_type": "stream",
     "text": [
      "[5, 7, 3, 8, 6]\n",
      "[5, ['a', 'm'], 7, 3, 8, 6]\n"
     ]
    }
   ],
   "source": [
    "x = [5,3,8,6]\n",
    "x.insert(1,7)\n",
    "print(x)\n",
    "x.insert(1, ['a', 'm'])\n",
    "print(x)"
   ]
  },
  {
   "cell_type": "markdown",
   "id": "f00b5e68-5e05-4661-91ff-4977b51e91dc",
   "metadata": {},
   "source": [
    "**pop**\n",
    "\n",
    "Last item"
   ]
  },
  {
   "cell_type": "code",
   "execution_count": 21,
   "id": "91422ca8-f25c-4ae7-9818-ba97bfba07c4",
   "metadata": {},
   "outputs": [
    {
     "name": "stdout",
     "output_type": "stream",
     "text": [
      "[5, 3, 8]\n",
      "8\n",
      "[5, 3]\n"
     ]
    }
   ],
   "source": [
    "x = [5, 3, 8, 6]\n",
    "x.pop()\n",
    "print(x)\n",
    "print(x.pop())\n",
    "print(x)"
   ]
  },
  {
   "cell_type": "markdown",
   "id": "9878e14a-856d-4c63-910b-3bb91ba0aa40",
   "metadata": {},
   "source": [
    "**remove**\n",
    "\n",
    "removes first item"
   ]
  },
  {
   "cell_type": "code",
   "execution_count": 22,
   "id": "d95d7cab-80bc-4995-ab71-0238dd543f3e",
   "metadata": {},
   "outputs": [
    {
     "name": "stdout",
     "output_type": "stream",
     "text": [
      "[5, 8, 6, 3]\n"
     ]
    }
   ],
   "source": [
    "x = [5, 3, 8, 6, 3]\n",
    "x.remove(3)\n",
    "print(x)"
   ]
  },
  {
   "cell_type": "markdown",
   "id": "70354e6e-bc9f-47bc-a853-4ede804f90ff",
   "metadata": {},
   "source": [
    "**reverse**"
   ]
  },
  {
   "cell_type": "code",
   "execution_count": 23,
   "id": "219a9dab-8318-48c7-8ede-9132ed6eae89",
   "metadata": {},
   "outputs": [
    {
     "name": "stdout",
     "output_type": "stream",
     "text": [
      "[3, 6, 8, 3, 5]\n"
     ]
    }
   ],
   "source": [
    "x = [5, 3, 8, 6, 3]\n",
    "x.reverse()\n",
    "print(x)"
   ]
  },
  {
   "cell_type": "markdown",
   "id": "0ba508d2-33d4-4bcf-a533-9c947d49151d",
   "metadata": {},
   "source": [
    "**sort**\n",
    "\n",
    "In-place sort/modifies list"
   ]
  },
  {
   "cell_type": "code",
   "execution_count": 24,
   "id": "fbd85686-e4cb-42a9-935c-f23750f7a3a8",
   "metadata": {},
   "outputs": [
    {
     "name": "stdout",
     "output_type": "stream",
     "text": [
      "[3, 3, 5, 6, 8]\n"
     ]
    }
   ],
   "source": [
    "x = [5, 3, 8, 6, 3]\n",
    "x.sort()\n",
    "print(x)"
   ]
  },
  {
   "cell_type": "markdown",
   "id": "5bf10024-ae1e-44f5-9d6e-38be2709688f",
   "metadata": {},
   "source": [
    "**reverse sort**"
   ]
  },
  {
   "cell_type": "code",
   "execution_count": 25,
   "id": "9fca5751-9efa-48c0-b297-56151230ff9b",
   "metadata": {},
   "outputs": [
    {
     "name": "stdout",
     "output_type": "stream",
     "text": [
      "[8, 6, 5, 3, 3]\n"
     ]
    }
   ],
   "source": [
    "x = [5, 3, 8, 6, 3]\n",
    "x.sort(reverse=True)\n",
    "print(x)"
   ]
  },
  {
   "cell_type": "markdown",
   "id": "79c1ee82-0d20-4794-8274-1e22f81840c6",
   "metadata": {
    "tags": []
   },
   "source": [
    "## Tuples"
   ]
  },
  {
   "cell_type": "markdown",
   "id": "bdbeca87-f2b8-4bbe-8bf1-97690160c234",
   "metadata": {},
   "source": [
    "**Constructors**"
   ]
  },
  {
   "cell_type": "code",
   "execution_count": 26,
   "id": "fa1add87-e3cc-46e2-a20f-79dd5ca0f058",
   "metadata": {},
   "outputs": [
    {
     "name": "stdout",
     "output_type": "stream",
     "text": [
      "(2,) <class 'tuple'>\n",
      "(2, 4, 6) <class 'tuple'>\n"
     ]
    }
   ],
   "source": [
    "x = ()\n",
    "x = (1, 2, 3)\n",
    "x = 1, 2, 3\n",
    "x = 2,\n",
    "print(x, type(x))\n",
    "\n",
    "list1 = [2,4,6]\n",
    "x = tuple(list1)\n",
    "print(x, type(x))"
   ]
  },
  {
   "cell_type": "markdown",
   "id": "106c70da-47db-46a1-813c-de6b32cd950c",
   "metadata": {},
   "source": [
    "**Tuples are immutable but member objects may be mutable**"
   ]
  },
  {
   "cell_type": "code",
   "execution_count": 27,
   "id": "63c8c10a-df0d-4cb8-88c2-c2c81ed67afa",
   "metadata": {},
   "outputs": [
    {
     "name": "stdout",
     "output_type": "stream",
     "text": [
      "([1], 3)\n",
      "([1], 3, 4)\n"
     ]
    }
   ],
   "source": [
    "x = (1,2,3)\n",
    "# del(x[1]) fails\n",
    "# x[1] = 8 fails\n",
    "\n",
    "y = ([1,2], 3)\n",
    "del(y[0][1])\n",
    "print(y)\n",
    "\n",
    "# concatenating two tuples\n",
    "y += (4,)\n",
    "print(y)"
   ]
  },
  {
   "cell_type": "markdown",
   "id": "5d3c8739-b286-49c6-9e4d-43fed66145c3",
   "metadata": {
    "tags": []
   },
   "source": [
    "## Sets\n",
    "\n",
    "- Store non-duplicate items\n",
    "- Very fast access vs lists\n",
    "- Math Set ops (union, intersect)\n",
    "- Unordered"
   ]
  },
  {
   "cell_type": "markdown",
   "id": "753ae53e-3acc-4489-8140-1032bf870a6d",
   "metadata": {},
   "source": [
    "**Constructors**"
   ]
  },
  {
   "cell_type": "code",
   "execution_count": 28,
   "id": "4747035a-81b4-46d8-ac31-2d796baeaef2",
   "metadata": {},
   "outputs": [
    {
     "name": "stdout",
     "output_type": "stream",
     "text": [
      "{3, 5}\n",
      "set()\n",
      "{2, 3, 4}\n"
     ]
    }
   ],
   "source": [
    "x = {3,5,3,5}\n",
    "print(x)\n",
    "\n",
    "y = set()\n",
    "print(y)\n",
    "\n",
    "list1 = [2,3,4]\n",
    "z = set(list1)\n",
    "print(z)"
   ]
  },
  {
   "cell_type": "markdown",
   "id": "d4c21fe3-8617-41a4-a706-8f3900b9c0ee",
   "metadata": {},
   "source": [
    "**set operations**"
   ]
  },
  {
   "cell_type": "code",
   "execution_count": 29,
   "id": "cc9a8ab6-6a47-4d58-8976-a74fcbc70733",
   "metadata": {},
   "outputs": [
    {
     "name": "stdout",
     "output_type": "stream",
     "text": [
      "{8, 3, 5}\n",
      "{8, 3, 5, 7}\n",
      "{8, 5, 7}\n",
      "3\n",
      "True\n",
      "8 {5, 7}\n",
      "set()\n"
     ]
    }
   ],
   "source": [
    "x = {3,8,5}\n",
    "print(x)\n",
    "x.add(7)\n",
    "print(x)\n",
    "\n",
    "x.remove(3)\n",
    "print(x)\n",
    "\n",
    "print(len(x))\n",
    "\n",
    "print(5 in x)\n",
    "\n",
    "print(x.pop(), x)\n",
    "\n",
    "x.clear()\n",
    "print(x)"
   ]
  },
  {
   "cell_type": "markdown",
   "id": "bd350e68-2f29-482c-a542-dd268cbed7db",
   "metadata": {},
   "source": [
    "**Mathematical set operations**\n",
    "\n",
    "- intersection (AND): set1 & set2\n",
    "- union (OR): set1 | set2\n",
    "- symmetric difference (XOR): set1 ^ set2\n",
    "- difference (in set1 but not set2): set1 - set2\n",
    "- subset (set2 contains set1): set1 <= set2\n",
    "- superset (set1 contains set2): set1 >= set2"
   ]
  },
  {
   "cell_type": "code",
   "execution_count": 30,
   "id": "a6ddd9ce-0604-4260-b485-c3504984939a",
   "metadata": {},
   "outputs": [
    {
     "name": "stdout",
     "output_type": "stream",
     "text": [
      "{3}\n",
      "{1, 2, 3, 4, 5}\n",
      "{1, 2, 4, 5}\n",
      "{1, 2}\n",
      "False\n",
      "False\n"
     ]
    }
   ],
   "source": [
    "s1 = {1, 2, 3}\n",
    "s2 = {3, 4, 5}\n",
    "print(s1 & s2)\n",
    "print(s1 | s2)\n",
    "print(s1 ^ s2)\n",
    "print(s1 - s2)\n",
    "print(s1 <= s2)\n",
    "print(s1 >= s2)"
   ]
  },
  {
   "cell_type": "markdown",
   "id": "359cbe6c-df17-472e-acb8-af0d79cedce0",
   "metadata": {
    "tags": []
   },
   "source": [
    "## Dictionaries"
   ]
  },
  {
   "cell_type": "markdown",
   "id": "95de8cf8-6487-4bbe-9f02-da5208c862ed",
   "metadata": {},
   "source": [
    "**Constructors**"
   ]
  },
  {
   "cell_type": "code",
   "execution_count": 31,
   "id": "35f57915-2950-475d-b716-65ae580ae632",
   "metadata": {},
   "outputs": [
    {
     "name": "stdout",
     "output_type": "stream",
     "text": [
      "{'pork': 25.3, 'beef': 33.8, 'chicken': 22.7}\n",
      "{'pork': 25.3, 'beef': 33.8, 'chicken': 22.7}\n",
      "{'pork': 25.3, 'beef': 33.8, 'chicken': 22.7}\n"
     ]
    }
   ],
   "source": [
    "x = {'pork':25.3, 'beef':33.8, 'chicken':22.7}\n",
    "print(x)\n",
    "x = dict([('pork', 25.3), ('beef', 33.8), ('chicken', 22.7)])\n",
    "print(x)\n",
    "x = dict(pork=25.3, beef=33.8, chicken=22.7)\n",
    "print(x)"
   ]
  },
  {
   "cell_type": "markdown",
   "id": "a21ad4b3-b76a-457c-8e07-bc8874493332",
   "metadata": {},
   "source": [
    "**dict operations**"
   ]
  },
  {
   "cell_type": "code",
   "execution_count": 32,
   "id": "dd6e1fa9-befa-4693-9f19-616e1843aa3c",
   "metadata": {},
   "outputs": [
    {
     "name": "stdout",
     "output_type": "stream",
     "text": [
      "{'pork': 25.3, 'beef': 33.8, 'chicken': 22.7, 'shrimp': 38.2}\n",
      "{'pork': 25.3, 'beef': 33.8, 'chicken': 22.7}\n",
      "3\n",
      "{}\n"
     ]
    }
   ],
   "source": [
    "# add or update\n",
    "x['shrimp'] = 38.2\n",
    "print(x)\n",
    "\n",
    "# delete an item\n",
    "del(x['shrimp'])\n",
    "print(x)\n",
    "\n",
    "print(len(x))\n",
    "\n",
    "x.clear()\n",
    "print(x)\n",
    "\n",
    "del(x)"
   ]
  },
  {
   "cell_type": "markdown",
   "id": "fe545a07-ec5d-4630-a01d-f9c2a263ebdb",
   "metadata": {},
   "source": [
    "**Accessing keys and values**"
   ]
  },
  {
   "cell_type": "code",
   "execution_count": 33,
   "id": "33451b3e-0387-40af-8dc9-ea63dba1a4be",
   "metadata": {},
   "outputs": [
    {
     "name": "stdout",
     "output_type": "stream",
     "text": [
      "dict_keys(['pork', 'beef', 'chicken'])\n",
      "dict_values([25.3, 33.8, 22.7])\n",
      "dict_items([('pork', 25.3), ('beef', 33.8), ('chicken', 22.7)])\n",
      "True\n",
      "False\n"
     ]
    }
   ],
   "source": [
    "y = dict(pork=25.3, beef=33.8, chicken=22.7)\n",
    "print(y.keys())\n",
    "print(y.values())\n",
    "print(y.items())\n",
    "\n",
    "# membership in keys\n",
    "print('beef' in y)\n",
    "\n",
    "# membership in values\n",
    "print('clams' in y.values())"
   ]
  },
  {
   "cell_type": "markdown",
   "id": "ec02a008-49da-4ac0-984e-c4737b7bbc13",
   "metadata": {},
   "source": [
    "**Iteration**"
   ]
  },
  {
   "cell_type": "code",
   "execution_count": 34,
   "id": "3ac458e1-e1a0-435c-80f3-028680463627",
   "metadata": {},
   "outputs": [
    {
     "name": "stdout",
     "output_type": "stream",
     "text": [
      "pork 25.3\n",
      "beef 33.8\n",
      "chicken 22.7\n",
      "pork 25.3\n",
      "beef 33.8\n",
      "chicken 22.7\n"
     ]
    }
   ],
   "source": [
    "for key in y:\n",
    "  print(key, y[key])\n",
    "  \n",
    "for k, v in y.items():\n",
    "  print(k, v)"
   ]
  },
  {
   "cell_type": "markdown",
   "id": "7d38d0a6-f188-49cf-8883-11c3b2106f88",
   "metadata": {
    "tags": []
   },
   "source": [
    "## Python List Comprehensions"
   ]
  },
  {
   "cell_type": "code",
   "execution_count": 35,
   "id": "8760cf9c-1763-4884-9711-a5c88918ce64",
   "metadata": {},
   "outputs": [],
   "source": [
    "import random"
   ]
  },
  {
   "cell_type": "markdown",
   "id": "d8e77e77-39e5-4df0-9e81-1405c19e2b1f",
   "metadata": {},
   "source": [
    "**Get values in a range**"
   ]
  },
  {
   "cell_type": "code",
   "execution_count": 36,
   "id": "292f8c14-d82a-4914-b924-f99c38d6039a",
   "metadata": {},
   "outputs": [
    {
     "name": "stdout",
     "output_type": "stream",
     "text": [
      "under_10: [0, 1, 2, 3, 4, 5, 6, 7, 8, 9]\n",
      "under_10: [0, 1, 2, 3, 4, 5, 6, 7, 8, 9]\n"
     ]
    }
   ],
   "source": [
    "under_10 = [x for x in range(10)]\n",
    "print('under_10: ' + str(under_10))\n",
    "print(f\"under_10: {under_10}\")"
   ]
  },
  {
   "cell_type": "markdown",
   "id": "47784c25-1d22-4ef3-8bee-fc8d5cea3ebf",
   "metadata": {},
   "source": [
    "**Squared values**"
   ]
  },
  {
   "cell_type": "code",
   "execution_count": 37,
   "id": "9ca20a80-bab1-4b08-87e3-1a24336c952c",
   "metadata": {},
   "outputs": [
    {
     "name": "stdout",
     "output_type": "stream",
     "text": [
      "squares: [0, 1, 4, 9, 16, 25, 36, 49, 64, 81]\n"
     ]
    }
   ],
   "source": [
    "squares = [x**2 for x in under_10]\n",
    "print(f\"squares: {squares}\")"
   ]
  },
  {
   "cell_type": "markdown",
   "id": "5566da47-39d9-47a5-970b-c4d0e39686a5",
   "metadata": {},
   "source": [
    "**Odd and Even**"
   ]
  },
  {
   "cell_type": "code",
   "execution_count": 38,
   "id": "c25542a2-8b9e-45b9-b632-7af171ff28fc",
   "metadata": {},
   "outputs": [
    {
     "name": "stdout",
     "output_type": "stream",
     "text": [
      "odds: [1, 3, 5, 7, 9]\n",
      "evens: [0, 2, 4, 6, 8]\n"
     ]
    }
   ],
   "source": [
    "odds = [x for x in range(10) if x%2 == 1]\n",
    "evens = [x for x in range(10) if x%2 == 0]\n",
    "print(f\"odds: {odds}\\nevens: {evens}\")"
   ]
  },
  {
   "cell_type": "markdown",
   "id": "e14f1ee4-1e62-4476-b42e-09631fa6953f",
   "metadata": {},
   "source": [
    "**Get all numbers from a string**"
   ]
  },
  {
   "cell_type": "code",
   "execution_count": 39,
   "id": "31c0f861-5c92-44f2-ac88-99c15fa81325",
   "metadata": {},
   "outputs": [
    {
     "name": "stdout",
     "output_type": "stream",
     "text": [
      "nums: 2,0,7,3\n"
     ]
    }
   ],
   "source": [
    "s = 'I love 2 go t0 the store 7 times a w3ek.'\n",
    "nums = [x for x in s if x.isnumeric()]\n",
    "print(\"nums: \" + ','.join(nums))"
   ]
  },
  {
   "cell_type": "markdown",
   "id": "5547e404-0028-428b-9172-e7114a17104e",
   "metadata": {},
   "source": [
    "**Get index of list item**"
   ]
  },
  {
   "cell_type": "code",
   "execution_count": 40,
   "id": "bae0a075-3cee-4186-af01-7992c0d3bc1b",
   "metadata": {},
   "outputs": [
    {
     "name": "stdout",
     "output_type": "stream",
     "text": [
      "index = 2\n"
     ]
    }
   ],
   "source": [
    "names = ['Cosmo', 'Pedro', 'Anu', 'Ray']\n",
    "idx = [k for k, v in enumerate(names) if v == 'Anu']\n",
    "print('index = ' + str(idx[0]))"
   ]
  },
  {
   "cell_type": "markdown",
   "id": "25af325e-8b2a-4922-8c10-60a1811d22e2",
   "metadata": {},
   "source": [
    "**Conditional**"
   ]
  },
  {
   "cell_type": "code",
   "execution_count": 41,
   "id": "102fcbda-b70c-4464-9a11-2153f6548c86",
   "metadata": {},
   "outputs": [
    {
     "name": "stdout",
     "output_type": "stream",
     "text": [
      "['G', 'A', 'C', 'D', 'F', 'E', 'B'] ['G', 'A', 'D', 'F', 'E', 'B']\n"
     ]
    }
   ],
   "source": [
    "letters = [x for x in 'ABCDEFG']\n",
    "random.shuffle(letters)\n",
    "lettrs = [a for a in letters if a != 'C']\n",
    "print(letters, lettrs)"
   ]
  },
  {
   "cell_type": "markdown",
   "id": "ee8c9809-92bd-4956-be76-a3d064048e6f",
   "metadata": {},
   "source": [
    "**If-else**\n",
    "\n",
    "Must precede iteration"
   ]
  },
  {
   "cell_type": "code",
   "execution_count": 42,
   "id": "64eb0a10-854e-45fa-a131-100deac73c1d",
   "metadata": {},
   "outputs": [
    {
     "name": "stdout",
     "output_type": "stream",
     "text": [
      "[50, 30, 10, 18, 6, 70]\n"
     ]
    }
   ],
   "source": [
    "nums = [5,3,10,18,6,7]\n",
    "new_list = [x if x%2 == 0 else 10*x for x in nums]\n",
    "print(new_list)"
   ]
  },
  {
   "cell_type": "markdown",
   "id": "1db21c8b-7ea8-4e52-aa4b-b9a35e698bdc",
   "metadata": {},
   "source": [
    "**Nested loop iteration for 2D list**"
   ]
  },
  {
   "cell_type": "code",
   "execution_count": 43,
   "id": "472022b5-74dd-43f3-82e4-52161ad8a413",
   "metadata": {},
   "outputs": [
    {
     "name": "stdout",
     "output_type": "stream",
     "text": [
      "[1, 2, 3, 4]\n"
     ]
    }
   ],
   "source": [
    "a = [[1,2],[3,4]]\n",
    "new_list = [x for b in a for x in b]\n",
    "print(new_list)"
   ]
  },
  {
   "cell_type": "markdown",
   "id": "cdf75106-c457-488a-99fe-64756ddffc81",
   "metadata": {
    "tags": []
   },
   "source": [
    "## Stacks"
   ]
  },
  {
   "cell_type": "code",
   "execution_count": 44,
   "id": "2595703d-6d19-43ba-8b08-7468822437ba",
   "metadata": {},
   "outputs": [
    {
     "name": "stdout",
     "output_type": "stream",
     "text": [
      "[4, 7, 12, 19]\n"
     ]
    }
   ],
   "source": [
    "my_stack = list()\n",
    "my_stack.append(4)\n",
    "my_stack.append(7)\n",
    "my_stack.append(12)\n",
    "my_stack.append(19)\n",
    "print(my_stack)"
   ]
  },
  {
   "cell_type": "code",
   "execution_count": 45,
   "id": "d5d6dca7-a5da-483e-aa77-8498e2981295",
   "metadata": {},
   "outputs": [
    {
     "name": "stdout",
     "output_type": "stream",
     "text": [
      "19\n",
      "12\n",
      "[4, 7]\n"
     ]
    }
   ],
   "source": [
    "print(my_stack.pop())\n",
    "print(my_stack.pop())\n",
    "print(my_stack)"
   ]
  },
  {
   "cell_type": "markdown",
   "id": "46784db7-edf7-44b0-9a03-b586a99313c3",
   "metadata": {},
   "source": [
    "**Stack using a List with a Wrapper Class**"
   ]
  },
  {
   "cell_type": "code",
   "execution_count": 46,
   "id": "c0366c83-a9cf-47b9-b865-c3f3ff01cdc5",
   "metadata": {},
   "outputs": [],
   "source": [
    "class Stack():\n",
    "  def __init__(self):\n",
    "    self.stack = list()\n",
    "  def push(self, item):\n",
    "    self.stack.append(item)\n",
    "  def pop(self):\n",
    "    if len(self.stack) > 0:\n",
    "      return self.stack.pop()\n",
    "    else:\n",
    "      return None\n",
    "  def peek(self):\n",
    "    if len(self.stack) > 0:\n",
    "      return self.stack[len(self.stack)-1]\n",
    "    else:\n",
    "      return None\n",
    "  def __str__(self):\n",
    "    return str(self.stack)"
   ]
  },
  {
   "cell_type": "code",
   "execution_count": 47,
   "id": "728d79d7-2248-487d-a796-a819ffb362d5",
   "metadata": {},
   "outputs": [
    {
     "name": "stdout",
     "output_type": "stream",
     "text": [
      "[5, 6]\n",
      "6\n",
      "5\n",
      "5\n",
      "None\n"
     ]
    }
   ],
   "source": [
    "myStack = Stack()\n",
    "myStack.push(5)\n",
    "myStack.push(6)\n",
    "print(myStack)\n",
    "print(myStack.pop())\n",
    "print(myStack.peek())\n",
    "print(myStack.pop())\n",
    "print(myStack.pop())"
   ]
  },
  {
   "cell_type": "markdown",
   "id": "22daf393-9d9a-4399-8eab-7b28d1cf0f33",
   "metadata": {
    "tags": []
   },
   "source": [
    "## Queues\n",
    "\n",
    "Enqueue/Dequeue"
   ]
  },
  {
   "cell_type": "markdown",
   "id": "48d26508-7266-4972-8a4c-fca22a20164e",
   "metadata": {},
   "source": [
    "**Python deque**"
   ]
  },
  {
   "cell_type": "code",
   "execution_count": 48,
   "id": "bbf5ac6a-d7a8-4dad-8b76-c92d2f65520c",
   "metadata": {},
   "outputs": [
    {
     "name": "stdout",
     "output_type": "stream",
     "text": [
      "deque([5, 10])\n",
      "5\n"
     ]
    }
   ],
   "source": [
    "from collections import deque\n",
    "my_queue = deque()\n",
    "my_queue.append(5)\n",
    "my_queue.append(10)\n",
    "print(my_queue)\n",
    "print(my_queue.popleft())"
   ]
  },
  {
   "cell_type": "markdown",
   "id": "650f811a-e6d4-4276-ae7a-013a35ab8d45",
   "metadata": {},
   "source": [
    "**Wrapper class for Queue**"
   ]
  },
  {
   "cell_type": "code",
   "execution_count": 49,
   "id": "d13cedfd-e5a8-4baa-adba-14252acc1a32",
   "metadata": {},
   "outputs": [],
   "source": [
    "class Queue():\n",
    "  def __init__(self):\n",
    "    self.queue = deque()\n",
    "  def enqueue(self, item):\n",
    "    self.queue.append(item)\n",
    "  def dequeue(self):\n",
    "    if len(self.queue) > 0:\n",
    "      return self.queue.popleft()\n",
    "    else:\n",
    "      return None\n",
    "  def __str__(self):\n",
    "    return str(self.queue)\n",
    "  "
   ]
  },
  {
   "cell_type": "code",
   "execution_count": 50,
   "id": "288833fa-09c0-419e-9687-4c2f6ce40c6f",
   "metadata": {},
   "outputs": [
    {
     "name": "stdout",
     "output_type": "stream",
     "text": [
      "deque([5, 7, 9])\n",
      "5\n",
      "deque([7, 9])\n"
     ]
    }
   ],
   "source": [
    "my_queue = Queue()\n",
    "my_queue.enqueue(5)\n",
    "my_queue.enqueue(7)\n",
    "my_queue.enqueue(9)\n",
    "print(my_queue)\n",
    "print(my_queue.dequeue())\n",
    "print(my_queue)"
   ]
  },
  {
   "cell_type": "markdown",
   "id": "d7e36527-9d98-40c1-9c33-9572edca3deb",
   "metadata": {},
   "source": [
    "## MaxHeap\n",
    "\n",
    "- Binary tree\n",
    "- Every node <= parent\n",
    "- Insert **O(log n)**\n",
    "- Get Max **O(1)**\n",
    "- Remove Max **O(log n)**\n",
    "\n",
    "Indexing starts at 1\n",
    "\n",
    "<table>\n",
    "    <tr>\n",
    "        <td>1</td><td>2</td><td>3</td><td>4</td><td>5</td><td>6</td><td>7</td><td>8</td>><td>9</td><td>10</td>\n",
    "    </tr>\n",
    "    <tr>\n",
    "        <th>25</th><th>16</th><th>24</th><th>5</th><th>11</th><th>19</th><th>1</th><th>2</th>><th>3</th><th>5</th>\n",
    "    </tr>\n",
    "</table>\n",
    "\n",
    "```\n",
    "i = 4\n",
    "parent(i) = i / 2       # 2\n",
    "left(i) =   i * 2       # 3\n",
    "right(i) =  i * 2 + 1   # 9\n",
    "```\n",
    "\n",
    "**push**: Add value to end of array then Float it Up to proper position by comparing it to it's parent and swapping position if greater than parent\n",
    "\n",
    "**peek**: Return value at heap[1]\n",
    "\n",
    "**pop**: Swap max to end of array and delete, Float Down the new item at index 1 to it's proper position by comparing it to children and return max\n"
   ]
  },
  {
   "cell_type": "markdown",
   "id": "0b7176be-4d1d-47b0-9027-7af817e803bd",
   "metadata": {},
   "source": [
    "**Python MaxHeap**\n",
    "\n",
    "Public functions: push,peek, pop\n",
    "\n",
    "Private functions: __swap, __floatUp, __bubbleDown, __str__"
   ]
  },
  {
   "cell_type": "code",
   "execution_count": 51,
   "id": "22546f0f-0521-4e87-bf69-05e6add8952b",
   "metadata": {},
   "outputs": [],
   "source": [
    "class MaxHeap:\n",
    "  def __init__(self, items=[]):\n",
    "    super().__init__()\n",
    "    self.heap = [0]\n",
    "    for item in items:\n",
    "      self.heap.append(item)\n",
    "      self.__floatUp(len(self.heap) - 1)\n",
    "      \n",
    "  def push(self, data):\n",
    "    self.heap.append(data)\n",
    "    print(data)\n",
    "    self.__floatUp(len(self.heap) -1)\n",
    "    \n",
    "  def peek(self):\n",
    "    if self.heap[1]:\n",
    "      return self.heap[1]\n",
    "    else:\n",
    "      return None\n",
    "    \n",
    "  def pop(self):\n",
    "    if len(self.heap) > 2:\n",
    "      self.__swap(1, len(self.heap) - 1)\n",
    "      max = self.heap.pop()\n",
    "      self.__bubbleDown(1)\n",
    "    elif len(self.heap) == 2:\n",
    "      max = self.heap.pop()\n",
    "    else:\n",
    "      max = False\n",
    "    return max\n",
    "  \n",
    "  def __swap(self, i, j):\n",
    "    self.heap[i], self.heap[j] = self.heap[j], self.heap[i]\n",
    "    \n",
    "  def __floatUp(self, index):\n",
    "    parent = index//2\n",
    "    if index <= 1:\n",
    "      return\n",
    "    elif self.heap[index] > self.heap[parent]:\n",
    "      self.__swap(index, parent)\n",
    "      self.__floatUp(parent)\n",
    "      \n",
    "  def __bubbleDown(self, index):\n",
    "    left = index * 2\n",
    "    right = index * 2 + 1\n",
    "    largest = index\n",
    "    if len(self.heap) > left and self.heap[largest] < self.heap[left]:\n",
    "      largest = left\n",
    "    if len(self.heap) > right and self.heap[largest] < self.heap[right]:\n",
    "      largets = right\n",
    "    if largest != index:\n",
    "      self.__swap(index, largest)\n",
    "      self.__bubbleDown(largest)\n",
    "      \n",
    "  def __str__(self):\n",
    "    return str(self.heap)"
   ]
  },
  {
   "cell_type": "code",
   "execution_count": 52,
   "id": "9cfbd096-bab7-4eed-9601-dc1a7229b6a7",
   "metadata": {},
   "outputs": [
    {
     "name": "stdout",
     "output_type": "stream",
     "text": [
      "10\n",
      "[0, 95, 10, 21, 3]\n",
      "95\n",
      "[0, 10, 3, 21]\n",
      "10\n"
     ]
    }
   ],
   "source": [
    "m = MaxHeap([95, 3, 21])\n",
    "m.push(10)\n",
    "print(m)\n",
    "print(m.pop())\n",
    "print(m)\n",
    "print(m.peek())"
   ]
  },
  {
   "cell_type": "markdown",
   "id": "4b30f0bb-b8f1-463a-a526-881d79d96110",
   "metadata": {},
   "source": [
    "**Note that the above output makes sense. In the video the output for peek() is mysteriously 21**"
   ]
  },
  {
   "cell_type": "markdown",
   "id": "61933376-e3ac-4f15-adcf-9f58cf33573d",
   "metadata": {},
   "source": [
    "## Linked Lists\n",
    "\n",
    "**List Attributes**:\n",
    "- root\n",
    "- size\n",
    "\n",
    "**Node Attributes**:\n",
    "- data\n",
    "- next\n",
    "\n",
    "**Operations**:\n",
    "- find(data)\n",
    "- add(data)\n",
    "  - create new node with new data and next pointing to root\n",
    "  - set root to new node\n",
    "- remove(data)\n",
    "  - search from root to find node with value to remove\n",
    "  - change next on previous node to next on found node\n",
    "  \n",
    "- print_list()\n"
   ]
  },
  {
   "cell_type": "markdown",
   "id": "299a379d-9938-475c-8c5b-7786da91858c",
   "metadata": {},
   "source": [
    "**Node Class**\n",
    "\n",
    "**Attributes**: data, next_node and prev_node (only for double linked lists)"
   ]
  },
  {
   "cell_type": "code",
   "execution_count": 53,
   "id": "1a8c05e7-b942-400c-9086-9dc2680b1839",
   "metadata": {},
   "outputs": [],
   "source": [
    "class Node:\n",
    "  def __init__(self, d, n=None, p=None):\n",
    "    self.data = d\n",
    "    self.next_node = n\n",
    "    self.prev_node = p   # Only used for double linked list\n",
    "    \n",
    "  def __str__(self):\n",
    "    return ('(' + str(self.data) + ')')\n",
    "  "
   ]
  },
  {
   "cell_type": "markdown",
   "id": "219b1beb-f9a9-4048-a151-c8717c7c774a",
   "metadata": {},
   "source": [
    "**Linked List Class**\n",
    "\n",
    "**Attributes**: root, size\n",
    "\n",
    "**Methods**\n",
    "\n",
    "- Add\n",
    "  - Recieves a pice of data\n",
    "  - Creates new node\n",
    "\n",
    "- Find\n",
    "\n",
    "- Remove\n",
    "\n",
    "- Print_list"
   ]
  },
  {
   "cell_type": "code",
   "execution_count": 61,
   "id": "ee36f5c2-ef37-451b-9730-6b937765748a",
   "metadata": {},
   "outputs": [],
   "source": [
    "class LinkedList():\n",
    "  def __init__(self, r = None):\n",
    "    self.root = r\n",
    "    self.size = 0\n",
    "    \n",
    "  def add(self, d):\n",
    "    new_node = Node(d, self.root) # sets next_node to current root node\n",
    "    self.root = new_node          # changes root to be the new node\n",
    "    self.size += 1\n",
    "    \n",
    "  def find(self, d):\n",
    "    this_node = self.root\n",
    "    while this_node is not None:\n",
    "      if this_node.data == d:\n",
    "        return d\n",
    "      else:\n",
    "        this_node = this_node.next_node\n",
    "    return None\n",
    "  \n",
    "  def remove(self, d):\n",
    "    this_node = self.root\n",
    "    prev_node = None\n",
    "    \n",
    "    while this_node is not None:\n",
    "      if this_node.data == d:\n",
    "        if prev_node is not None:  # data is in non-root\n",
    "          prev_node.next_node = this_node.next_node\n",
    "        else:\n",
    "          self.root = this_node.next_node\n",
    "        self.size -= 1\n",
    "        return True\n",
    "      else:\n",
    "        prev_node = this_node\n",
    "        this_node = this_node.next_node\n",
    "        \n",
    "    return False\n",
    "  \n",
    "  def print_list(self):\n",
    "    this_node = self.root\n",
    "    while this_node is not None:\n",
    "      print(this_node, end='->')\n",
    "      this_node = this_node.next_node\n",
    "    print('None')"
   ]
  },
  {
   "cell_type": "markdown",
   "id": "3a85723d-01c8-4478-ab7e-7fc124effd6f",
   "metadata": {},
   "source": [
    "**Linked List Test Code**"
   ]
  },
  {
   "cell_type": "code",
   "execution_count": 67,
   "id": "38391196-6889-44b9-b499-20ab3bc9c913",
   "metadata": {},
   "outputs": [
    {
     "name": "stdout",
     "output_type": "stream",
     "text": [
      "(12)->(8)->(5)->None\n",
      "size=3\n",
      "size=2\n",
      "5\n",
      "(12)\n"
     ]
    }
   ],
   "source": [
    "myList = LinkedList()\n",
    "myList.add(5)\n",
    "myList.add(8)\n",
    "myList.add(12)\n",
    "myList.print_list()\n",
    "\n",
    "print(\"size=\"+str(myList.size))\n",
    "myList.remove(8)\n",
    "print(\"size=\"+str(myList.size))\n",
    "print(myList.find(5))\n",
    "print(myList.root)"
   ]
  },
  {
   "cell_type": "markdown",
   "id": "e8470f87-99d4-4509-9dd2-38749ec68bf3",
   "metadata": {},
   "source": [
    "## Circular Linked List\n",
    "\n",
    "**For modeling continuously looping objects**\n",
    "\n",
    "eg. race track, Monopoly board\n",
    "\n",
    "Similar to Linked List but the next of the last node points to root\n",
    "\n",
    "**Add** method is different: new node added as second node, new node next points to root next and root next changed to point to new node"
   ]
  },
  {
   "cell_type": "code",
   "execution_count": 68,
   "id": "6becd731-a74a-466e-bb4d-857ebdb4b625",
   "metadata": {},
   "outputs": [],
   "source": [
    "class CircularLinkedList():\n",
    "  def __init__(self, r = None):\n",
    "    self.root = r\n",
    "    self.size = 0\n",
    "    \n",
    "  def add(self, d):\n",
    "    if self.size == 0:\n",
    "      self.root = Node(d)\n",
    "      self.root.next_node = self.root\n",
    "    else:\n",
    "      new_node = Node(d, self.root.next_node) \n",
    "      self.root.next_node = new_node\n",
    "    self.size += 1\n",
    "    \n",
    "  def find(self, d):\n",
    "    this_node = self.root\n",
    "    while True:\n",
    "      if this_node.data == d:\n",
    "        return d\n",
    "      elif this_node.next_node == self.root:\n",
    "        return False\n",
    "      this_node = this_node.next_node\n",
    "  \n",
    "  def remove(self, d):\n",
    "    this_node = self.root\n",
    "    prev_node = None\n",
    "    \n",
    "    while True:\n",
    "      if this_node.data == d:\n",
    "        if prev_node is not None:  # data is in non-root\n",
    "          prev_node.next_node = this_node.next_node\n",
    "        else:\n",
    "          while this_node.next_node != self.root:   # find the last node to update it's next to point to the new node\n",
    "            this_node = this_node.next_node\n",
    "          this_node.next_node = self.root.next_node\n",
    "          self.root = this_node.next_node\n",
    "        self.size -= 1\n",
    "        return True\n",
    "      elif this_node.next_node == self.root:\n",
    "        return False\n",
    "      prev_node = this_node\n",
    "      this_node = this_node.next_node\n",
    "        \n",
    "  def print_list(self):\n",
    "    if self.root is None:\n",
    "      return\n",
    "    this_node = self.root\n",
    "    print(this_node, end='->')\n",
    "    while this_node.next_node != self.root:\n",
    "      this_node = this_node.next_node\n",
    "      print(this_node, end='->')\n",
    "    print()"
   ]
  },
  {
   "cell_type": "markdown",
   "id": "4efb83ef-0b97-4e6c-9ea7-891f3e86e2aa",
   "metadata": {},
   "source": [
    "**Circular Linked List Test Code**"
   ]
  },
  {
   "cell_type": "code",
   "execution_count": 85,
   "id": "959592d8-05c8-42ca-b312-31156efa30ce",
   "metadata": {},
   "outputs": [
    {
     "name": "stdout",
     "output_type": "stream",
     "text": [
      "size=5\n",
      "8\n",
      "False\n",
      "(5)->(9)->(8)->(3)->(7)->(5)->(9)->(8)->(3)->\n"
     ]
    }
   ],
   "source": [
    "cll = CircularLinkedList()\n",
    "for i in [5,7,3,8,9]:\n",
    "  cll.add(i)\n",
    "  \n",
    "print(\"size=\"+str(cll.size))\n",
    "print(cll.find(8))\n",
    "print(cll.find(12))\n",
    "\n",
    "my_node = cll.root\n",
    "print(my_node, end='->')\n",
    "for i in range(8):\n",
    "  my_node = my_node.next_node\n",
    "  print(my_node, end='->')\n",
    "print()"
   ]
  },
  {
   "cell_type": "code",
   "execution_count": 86,
   "id": "ded6ee2a-7587-499b-b568-fea5da93cb8b",
   "metadata": {},
   "outputs": [
    {
     "name": "stdout",
     "output_type": "stream",
     "text": [
      "(5)->(9)->(8)->(3)->(7)->\n",
      "False\n",
      "size= 4\n",
      "(9)->(3)->(7)->\n"
     ]
    }
   ],
   "source": [
    "cll.print_list()\n",
    "cll.remove(8)\n",
    "print(cll.remove(15))\n",
    "print(\"size=\",str(cll.size))\n",
    "cll.remove(5)\n",
    "cll.print_list()"
   ]
  },
  {
   "cell_type": "markdown",
   "id": "58d2c10c-0baa-49dc-8525-d3e3a5b2296a",
   "metadata": {},
   "source": [
    "## Double Linked Lists\n",
    "\n",
    "Compared to regular (single) linked lists\n",
    "- Can iterate in either direction\n",
    "- Can delete a node without iterating through the list\n",
    "\n",
    "**Attributes**: data, prev, next\n",
    "\n",
    "**Delete**: prev.next = data.next, next.prev = data.prev"
   ]
  },
  {
   "cell_type": "code",
   "execution_count": 188,
   "id": "0757025a-0b9e-4d89-9977-87f7a08e9ba5",
   "metadata": {},
   "outputs": [],
   "source": [
    "class DoubleLinkedList():\n",
    "  def __init__(self, r = None):\n",
    "    self.root = r\n",
    "    self.last = r\n",
    "    self.size = 0\n",
    "    \n",
    "  def add(self, d):\n",
    "    if self.size == 0:\n",
    "      self.root = Node(d)\n",
    "      self.last = self.root\n",
    "    else:\n",
    "      new_node = Node(d, self.root)\n",
    "      self.root.prev_node = new_node\n",
    "      self.root = new_node\n",
    "    self.size += 1\n",
    "    \n",
    "  def find(self, d):\n",
    "    this_node = self.root\n",
    "    while this_node is not None:\n",
    "      if this_node.data == d:\n",
    "        return d\n",
    "      elif this_node.next_node == None:\n",
    "        return False\n",
    "      else:\n",
    "        this_node = this_node.next_node\n",
    "        \n",
    "  def remove(self, d):\n",
    "    this_node = self.root\n",
    "    while this_node is not None:\n",
    "      if this_node.data == d:\n",
    "        if this_node.prev_node is not None:\n",
    "          if this_node.next_node is not None:\n",
    "            this_node.prev_node.next_node = this_node.next_node\n",
    "            this_node.next_node.prev_node = this_node.prev_node\n",
    "          else:\n",
    "            this_node.prev_node.next_node = None\n",
    "            self.last = this_node.prev_node\n",
    "        else:\n",
    "          self.root = this_node.next_node\n",
    "          this_node.next_node.prev_node = self.root\n",
    "        self.size -= 1\n",
    "        return True\n",
    "      else:\n",
    "        this_node = this_node.next_node\n",
    "    return False\n",
    "  \n",
    "  def print_list(self):\n",
    "    if self.root is None:\n",
    "      return\n",
    "    this_node = self.root\n",
    "    while this_node.next_node is not None:\n",
    "      print(this_node, end='->')\n",
    "      this_node = this_node.next_node\n",
    "    print()"
   ]
  },
  {
   "cell_type": "markdown",
   "id": "bec44eba-6d31-4c83-a710-35d0f1ab6a07",
   "metadata": {},
   "source": [
    "**Double Linked List Test Code**"
   ]
  },
  {
   "cell_type": "code",
   "execution_count": 189,
   "id": "78a8b484-1523-42dc-a815-8cc93ac0c812",
   "metadata": {},
   "outputs": [
    {
     "name": "stdout",
     "output_type": "stream",
     "text": [
      "size= 5\n",
      "(9)->(8)->(3)->(9)->\n",
      "size= 4\n"
     ]
    }
   ],
   "source": [
    "dll = DoubleLinkedList()\n",
    "for i in [5,9,3,8,9]:\n",
    "  dll.add(i)\n",
    " \n",
    "print(\"size=\",str(dll.size))\n",
    "dll.print_list()\n",
    "dll.remove(8)\n",
    "print(\"size=\",str(dll.size))"
   ]
  },
  {
   "cell_type": "code",
   "execution_count": 197,
   "id": "89ac93ff-2e2d-4263-8875-c95660520d3c",
   "metadata": {},
   "outputs": [
    {
     "name": "stdout",
     "output_type": "stream",
     "text": [
      "False\n",
      "False\n",
      "(22)->(21)->(22)->(21)->(9)->(3)->\n",
      "(3)\n"
     ]
    }
   ],
   "source": [
    "print(dll.remove(15))\n",
    "print(dll.find(15))\n",
    "dll.add(21)\n",
    "dll.add(22)\n",
    "dll.remove(5)\n",
    "dll.print_list()\n",
    "print(dll.last.prev_node)"
   ]
  },
  {
   "cell_type": "markdown",
   "id": "9aafd408-6a10-4789-b18b-37fd479290fd",
   "metadata": {},
   "source": [
    "## Binary Search Tree\n",
    "\n",
    "**Advantages of Binary Search Trees**\n",
    "- Trees use recursion for most operations\n",
    "- Speed\n",
    "  - Insert, Delete, Find: **O(h)** or **O(log n)*** where h is height of three\n",
    "\n",
    "**Insert**\n",
    "- Start at root\n",
    "- Descend right/left edge as appropriate\n",
    "- Insert as leaf\n",
    "- Float up\n",
    "\n",
    "**Find**\n",
    "- Start at root\n",
    "- Descend right/left edge as appropriate\n",
    "- Return False if not found\n",
    "\n",
    "**Delete**\n",
    "\n",
    "Three possible cases\n",
    "\n",
    "1. leaf node: just delete\n",
    "2. 1 child: Promote child to target node's position\n",
    "3. 2 children: Find next higher node (a leaf), swap and delete node\n",
    "\n",
    "**Get_Size**\n",
    "\n",
    "Recursive function: size = 1 + size(left subtree) + size(right subtree)\n",
    "\n",
    "**Traversals**\n",
    "\n",
    "Four types: Preorder, Level, In Order and Postorder\n",
    "\n",
    "1. Preorder: start at root before visiting the root's subtrees, gives values in index order\n",
    "2. Inorder: vist root between visiting root's subtrees, gives values in sorted order"
   ]
  },
  {
   "cell_type": "markdown",
   "id": "4a7052a3-3466-45a2-ba8f-32a74c6fd70f",
   "metadata": {},
   "source": [
    "**Attributes**: data, left subtree and right subtree\n",
    "\n",
    "**Insert**:\n",
    "\n",
    "**Find**: returns False if not found\n",
    "\n",
    "**Get_size**: number of nodes in tree (excluding None nodes)\n",
    "\n",
    "**Preorder**: prints a preorder traversal of the tree\n",
    "\n",
    "**Inorder**: prints an inorder (sorted) traversal"
   ]
  },
  {
   "cell_type": "code",
   "execution_count": 199,
   "id": "865d3fe2-a5ed-46e7-8c76-7b90467a0f2a",
   "metadata": {},
   "outputs": [],
   "source": [
    "class Tree:\n",
    "  def __init__(self, data, left=None, right=None):\n",
    "    self.data = data\n",
    "    self.left = left\n",
    "    self.right = right\n",
    "    \n",
    "  def insert(self, data):\n",
    "    if self.data == data:\n",
    "      return False # duplicate\n",
    "    elif self.data > data:\n",
    "      if self.left is not None:\n",
    "        return self.left.insert(data)\n",
    "      else:\n",
    "        self.left = Tree(data)\n",
    "        return True\n",
    "    else:\n",
    "      if self.right is not None:\n",
    "        return self.right.insert(data)\n",
    "      else:\n",
    "        self.right = Tree(data)\n",
    "        return True\n",
    "      \n",
    "  def find(self, data):\n",
    "    if self.data == data:\n",
    "      return data\n",
    "    elif self.data > data:\n",
    "      if self.left is None:\n",
    "        return False\n",
    "      else:\n",
    "        return self.left.find(data)\n",
    "    elif self.data < data:\n",
    "      if self.right is None:\n",
    "        return False\n",
    "      else:\n",
    "        return self.right.find(data)\n",
    "  \n",
    "  def get_size(self):\n",
    "    if self.left is not None and self.right is not None:\n",
    "      return 1 + self.left.get_size() + self.right.get_size()\n",
    "    elif self.left:\n",
    "      return 1 + self.left.get_size()\n",
    "    elif self.right:\n",
    "      return 1 + self.right.get_size()\n",
    "    else:\n",
    "      return 1\n",
    "    \n",
    "  def preorder(self):\n",
    "    if self is not None:\n",
    "      print(self.data, end=' ')\n",
    "      if self.left is not None:\n",
    "        self.left.preorder()\n",
    "      if self.right:\n",
    "        self.right.preorder()\n",
    "        \n",
    "  def inorder(self):\n",
    "    if self is not None:\n",
    "      if self.left is not None:\n",
    "        self.left.inorder()\n",
    "      print(self.data, end=' ')\n",
    "      if self.right is not None:\n",
    "        self.right.inorder()"
   ]
  },
  {
   "cell_type": "markdown",
   "id": "c1bc1b44-8c27-450f-8fb1-430ac28dd149",
   "metadata": {},
   "source": [
    "**Binary Search Tree Test Code**"
   ]
  },
  {
   "cell_type": "code",
   "execution_count": 211,
   "id": "628851f9-cc14-444a-beeb-8b8a36f5a0bc",
   "metadata": {},
   "outputs": [
    {
     "name": "stdout",
     "output_type": "stream",
     "text": [
      "False 1 2 3 4 False 6 7 False 9 10 11 12 13 14 15 \n",
      " 13\n",
      "7 2 1 3 6 4 9 15 10 12 11 13 14 \n",
      "1 2 3 4 6 7 9 10 11 12 13 14 15 \n"
     ]
    }
   ],
   "source": [
    "tree = Tree(7)\n",
    "tree.insert(9)\n",
    "for i in [15,10,2,12,3,1,13,6,11,4,14,9]:\n",
    "  tree.insert(i)\n",
    "for i in range(16):\n",
    "  print(tree.find(i), end=' ')\n",
    "print('\\n', tree.get_size())\n",
    "tree.preorder()\n",
    "print()\n",
    "tree.inorder()\n",
    "print()"
   ]
  },
  {
   "cell_type": "code",
   "execution_count": 201,
   "id": "cb0c06d9-c6d9-4460-a5ef-8a7c0e5429ed",
   "metadata": {},
   "outputs": [
    {
     "data": {
      "text/plain": [
       "True"
      ]
     },
     "execution_count": 201,
     "metadata": {},
     "output_type": "execute_result"
    }
   ],
   "source": []
  },
  {
   "cell_type": "code",
   "execution_count": 202,
   "id": "ae21984e-42eb-4fa1-915e-1f02261e43b8",
   "metadata": {},
   "outputs": [],
   "source": []
  },
  {
   "cell_type": "code",
   "execution_count": 203,
   "id": "09f3c84d-9ecf-4666-beab-f3845b3a825f",
   "metadata": {},
   "outputs": [
    {
     "name": "stdout",
     "output_type": "stream",
     "text": [
      "False 1 2 3 4 False 6 7 False 9 10 11 12 13 14 15 "
     ]
    }
   ],
   "source": []
  },
  {
   "cell_type": "code",
   "execution_count": 204,
   "id": "eca7349d-8d9e-4cb3-8b3d-afe4af6458f6",
   "metadata": {},
   "outputs": [
    {
     "name": "stdout",
     "output_type": "stream",
     "text": [
      "\n",
      " 13\n"
     ]
    }
   ],
   "source": []
  },
  {
   "cell_type": "code",
   "execution_count": 205,
   "id": "5eeda62e-9bd0-4ed5-bcd7-26a646d3492f",
   "metadata": {},
   "outputs": [
    {
     "name": "stdout",
     "output_type": "stream",
     "text": [
      "7 2 1 3 6 4 9 15 10 12 11 13 14 "
     ]
    }
   ],
   "source": []
  },
  {
   "cell_type": "code",
   "execution_count": 206,
   "id": "7c3d830e-410d-4e85-b761-6673a0af3d6d",
   "metadata": {},
   "outputs": [
    {
     "name": "stdout",
     "output_type": "stream",
     "text": [
      "1 2 3 4 6 7 9 10 11 12 13 14 15 "
     ]
    }
   ],
   "source": []
  },
  {
   "cell_type": "markdown",
   "id": "f5e88f4b-fbec-4f27-bab0-29b76f18a884",
   "metadata": {},
   "source": [
    "## Graphs"
   ]
  },
  {
   "cell_type": "code",
   "execution_count": null,
   "id": "67a1130d-3a3f-4ed6-8d08-53572c1073b5",
   "metadata": {},
   "outputs": [],
   "source": []
  }
 ],
 "metadata": {
  "kernelspec": {
   "display_name": "Python 3 (ipykernel)",
   "language": "python",
   "name": "python3"
  },
  "language_info": {
   "codemirror_mode": {
    "name": "ipython",
    "version": 3
   },
   "file_extension": ".py",
   "mimetype": "text/x-python",
   "name": "python",
   "nbconvert_exporter": "python",
   "pygments_lexer": "ipython3",
   "version": "3.9.13"
  }
 },
 "nbformat": 4,
 "nbformat_minor": 5
}
