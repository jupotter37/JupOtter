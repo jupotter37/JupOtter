{
 "cells": [
  {
   "cell_type": "markdown",
   "id": "0",
   "metadata": {},
   "source": [
    "## 7.5 Summary"
   ]
  },
  {
   "cell_type": "markdown",
   "id": "1",
   "metadata": {},
   "source": [
    "For some problems, it's useful to have sequences that restrict which\n",
    "items can be accessed and removed from the sequence.\n",
    "\n",
    "In all of the following, operations to access and remove items are only defined\n",
    "for non-empty sequences."
   ]
  },
  {
   "cell_type": "markdown",
   "id": "2",
   "metadata": {},
   "source": [
    "### 7.5.1 Stacks"
   ]
  },
  {
   "cell_type": "markdown",
   "id": "3",
   "metadata": {},
   "source": [
    "A **stack** is a **last-in, first-out** (**LIFO**) sequence:\n",
    "only the most recently added item can be accessed or removed.\n",
    "The stack ADT supports these operations, implemented by classes\n",
    "`Stack` and `LinkedListStack` in file `m269_stack.py` in your `notebooks` folder:\n",
    "\n",
    "Operation | English | Python\n",
    "-|-|-\n",
    "new stack | let *s* be a new stack | `s = Stack()` or `s = LinkedListStack`\n",
    "size | │*s*│ | `s.size()`\n",
    "push (add item) | push *item* on *s* | `s.push(item)`\n",
    "peek (last item added) | top of *s* | `s.peek()`\n",
    "pop (remove last item) | pop *s* | `s.pop()`\n",
    "\n",
    "When translating an algorithm from English to Python,\n",
    "we can combine the peek and pop operations when useful and\n",
    "write `item = s.pop()`.\n",
    "\n",
    "The top item of a stack is stored in the last element of an array or\n",
    "in the first node of a linked list, in order to implement all operations\n",
    "in constant time.\n",
    "\n",
    "Stacks can be used to evaluate postfix expressions,\n",
    "where operators are written after its operands.\n",
    "Contrary to infix expressions, where operators are written between operands,\n",
    "postfix expressions don't need parentheses to indicate the order of operations."
   ]
  },
  {
   "cell_type": "markdown",
   "id": "4",
   "metadata": {},
   "source": [
    "### 7.5.2 Queues"
   ]
  },
  {
   "cell_type": "markdown",
   "id": "5",
   "metadata": {},
   "source": [
    "A **queue** is a **first-in, first-out** (**FIFO**) sequence:\n",
    "items are removed in the order they arrived.\n",
    "\n",
    "The queue ADT provides the following operations,\n",
    "implemented by class `Queue` in file `m269_queue.py` in your `notebooks` folder:\n",
    "\n",
    "Operation | English | Python\n",
    ":-|:-|:-\n",
    "new  | let *q* be an empty queue | `q = Queue()`\n",
    "length | │*q*│ | `q.size()`\n",
    "enqueue | add *item* to *q* | `q.enqueue(item)`\n",
    "dequeue |  dequeue *q* | `q.dequeue()`\n",
    "front | front of *q* | `q.front()`\n",
    "\n",
    "All operations on queues take constant time, when implemented with a linked list\n",
    "that stores a pointer to the last item and stores the current size."
   ]
  },
  {
   "cell_type": "markdown",
   "id": "6",
   "metadata": {},
   "source": [
    "### 7.5.3 Priority queues"
   ]
  },
  {
   "cell_type": "markdown",
   "id": "7",
   "metadata": {},
   "source": [
    "A **priority queue** is a sequence of items, each with an associated priority.\n",
    "Items are processed from highest to lowest priority value in a max-priority\n",
    "queue, and from lowest to highest priority value in a min-priority queue.\n",
    "Unless told otherwise,\n",
    "we can't assume in which order items with the same priority are processed.\n",
    "\n",
    "Priorities can be of any data type with comparable values.\n",
    "For integer priorities, a max-priority queue can be used as\n",
    "a min-priority queue by negating the priorities when adding items.\n",
    "\n",
    "A max-priority queue ADT provides the following operations, implemented by\n",
    "class `ArrayPriorityQueue` in file `m269_priority.py`.\n",
    "\n",
    "Operation | English | Python\n",
    ":-|:-|:-\n",
    "new | let *pq* be a new priority queue | `pq = ArrayPriorityQueue()`\n",
    "length |  │*pq*│ | `pq.length()`\n",
    "insert  | add (*priority*, *item*) to *pq* | `pq.insert(item, priority)`\n",
    "find max | max(*pq*) | `pq.find_max()`\n",
    "remove max | remove max(*pq*) | `pq.remove_max()`\n",
    "\n",
    "All operations take constant time except that inserting an item is\n",
    "linear in the length of the priority queue."
   ]
  },
  {
   "cell_type": "markdown",
   "id": "8",
   "metadata": {},
   "source": [
    "⟵ [Previous section](07_4_priority_queue.ipynb) | [Up](07-introduction.ipynb) | [Next section](../08_Unordered/08-introduction.ipynb) ⟶"
   ]
  }
 ],
 "metadata": {
  "kernelspec": {
   "display_name": "Python 3",
   "language": "python",
   "name": "python3"
  },
  "language_info": {
   "codemirror_mode": {
    "name": "ipython",
    "version": 3
   },
   "file_extension": ".py",
   "mimetype": "text/x-python",
   "name": "python",
   "nbconvert_exporter": "python",
   "pygments_lexer": "ipython3",
   "version": "3.11.9"
  }
 },
 "nbformat": 4,
 "nbformat_minor": 5
}
